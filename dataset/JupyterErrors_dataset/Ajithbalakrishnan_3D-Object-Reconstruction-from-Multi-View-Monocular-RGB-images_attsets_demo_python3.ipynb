{
 "cells": [
  {
   "cell_type": "code",
   "execution_count": 1,
   "metadata": {},
   "outputs": [],
   "source": [
    "import tensorflow as tf\n",
    "import matplotlib as mp\n",
    "%matplotlib inline\n",
    "import tensorflow.contrib.slim as slim\n",
    "import os\n",
    "import sys\n",
    "sys.path.append('..')\n",
    "import tools as tools\n",
    "import numpy as np\n",
    "import matplotlib.pyplot as plt\n",
    "from datetime import datetime\n",
    "import scipy\n",
    "from scipy import ndimage, misc\n",
    "from scipy.misc import imshow\n",
    "import skimage\n",
    "GPU='0'"
   ]
  },
  {
   "cell_type": "code",
   "execution_count": 2,
   "metadata": {},
   "outputs": [],
   "source": [
    "tf.reset_default_graph()"
   ]
  },
  {
   "cell_type": "code",
   "execution_count": 3,
   "metadata": {},
   "outputs": [],
   "source": [
    "def load_real_rgbs(test_mv=5):\n",
    "    obj_rgbs_folder ='./Data_sample/amazon_real_rgbs/airfilter/'\n",
    "    rgbs = []\n",
    "    rgbs_views = sorted(os.listdir(obj_rgbs_folder))\n",
    "    for v in rgbs_views:\n",
    "        if not v.endswith('png'): continue\n",
    "      \n",
    "        rgbs.append(tools.Data.load_single_X_rgb_r2n2(obj_rgbs_folder + v, train=False))\n",
    "    \n",
    "    rgbs = np.asarray(rgbs)\n",
    "    x_sample = rgbs[0:test_mv, :, :, :].reshape(1, test_mv, 127, 127, 3)\n",
    "    return x_sample, None"
   ]
  },
  {
   "cell_type": "code",
   "execution_count": 3,
   "metadata": {},
   "outputs": [],
   "source": [
    "def load_shapenet_rgbs(test_mv=8):\n",
    "    obj_rgbs_folder = './Data_sample/ShapeNetRendering/03001627/1a6f615e8b1b5ae4dbbc9440457e303e/rendering/'\n",
    "    obj_gt_vox_path ='./Data_sample/ShapeNetVox32/03001627/1a6f615e8b1b5ae4dbbc9440457e303e/model.binvox'\n",
    "    rgbs=[]\n",
    "    rgbs_views = sorted(os.listdir(obj_rgbs_folder))\n",
    "    for v in rgbs_views:\n",
    "        if not v.endswith('png'): continue\n",
    "        rgbs.append(tools.Data.load_single_X_rgb_r2n2(obj_rgbs_folder + v, train=False))\n",
    "    rgbs = np.asarray(rgbs)\n",
    "    x_sample = rgbs[0:test_mv, :, :, :].reshape(1, test_mv, 127, 127, 3)\n",
    "    y_true = tools.Data.load_single_Y_vox(obj_gt_vox_path)\n",
    "    return x_sample, y_true"
   ]
  },
  {
   "cell_type": "code",
   "execution_count": 4,
   "metadata": {},
   "outputs": [],
   "source": [
    "def ttest_demo():\n",
    "#    model_path = './Model_released/'\n",
    "    model_path='/home/ajith/3d-reconstruction/attsets/Model_released/'\n",
    "    if not os.path.isfile(model_path + 'model.cptk.data-00000-of-00001'):\n",
    "        print ('please download our released model first!')\n",
    "        return\n",
    "\n",
    "    config = tf.ConfigProto(allow_soft_placement=True)\n",
    "    config.gpu_options.visible_device_list = GPU\n",
    "    \n",
    "\n",
    "    \n",
    "    with tf.Session(config=config) as sess:\n",
    "        saver = tf.train.import_meta_graph(model_path + 'model.cptk.meta', clear_devices=True)\n",
    "        saver.restore(sess, model_path + 'model.cptk')\n",
    "        print ('model restored!')      \n",
    "        \n",
    "       # graph = tf.get_default_graph()\n",
    "       # print(graph.get_operations())\n",
    "        \n",
    "        X = tf.get_default_graph().get_tensor_by_name(\"Placeholder:0\")\n",
    "        Y_pred = tf.get_default_graph().get_tensor_by_name(\"r2n/Reshape_9:0\")\n",
    "        \n",
    "        plot_data_8 = tf.get_default_graph().get_tensor_by_name(\"r2n/Reshape_8:0\")\n",
    "        plot_data_7 = tf.get_default_graph().get_tensor_by_name(\"r2n/Reshape_7:0\") #############(1,1024)\n",
    "        plot_data_6 = tf.get_default_graph().get_tensor_by_name(\"r2n/Reshape_6:0\") #############(1,1024)\n",
    "        plot_data_5 = tf.get_default_graph().get_tensor_by_name(\"r2n/Reshape_5:0\")\n",
    "        plot_data_4 = tf.get_default_graph().get_tensor_by_name(\"r2n/Reshape_4:0\")\n",
    "        plot_data_3 = tf.get_default_graph().get_tensor_by_name(\"r2n/Reshape_3:0\")\n",
    "        plot_data_2 = tf.get_default_graph().get_tensor_by_name(\"r2n/Reshape_2:0\")\n",
    "        plot_data_1 = tf.get_default_graph().get_tensor_by_name(\"r2n/Reshape_1:0\")\n",
    "        \n",
    "        \n",
    "#        print(\"X: \", X.shape)        #Tensor(\"Placeholder:0\", shape=(?, ?, 127, 127, 3), dtype=float32)\n",
    "#        print(Y_pred)   #Tensor(\"r2n/Reshape_9:0\", shape=(?, 32, 32, 32), dtype=float32)   \n",
    "#        x_sample, gt_vox = load_shapenet_rgbs()    \n",
    "#        print(\"x_sample: \", x_sample.shape)  \n",
    "#        print(\"x_sample_data: \", type(x_sample[:,:,:,:,1]))  \n",
    "#        print(y_pred.shape)    ###############################(1, 32, 32, 32) ##############################\n",
    "        x_sample, gt_vox = load_real_rgbs()\n",
    "        \n",
    "        plot_buf_1= tf.reshape(plot_data_1, [-1, 32, 32, 1])\n",
    "        plot_buf_2= tf.reshape(plot_data_2, [-1, 32, 32, 1])\n",
    "        plot_buf_3= tf.reshape(plot_data_3, [-1, 32, 32, 1])\n",
    "        plot_buf_4= tf.reshape(plot_data_4, [-1, 32, 32, 1])\n",
    "        plot_buf_5= tf.reshape(plot_data_5, [-1, 32, 32, 1])\n",
    "        plot_buf_6= tf.reshape(plot_data_6, [-1, 32, 32, 1])\n",
    "        plot_buf_7= tf.reshape(plot_data_7, [-1, 32, 32, 1])\n",
    "        plot_buf_8= tf.reshape(plot_data_8, [-1, 32, 32, 1])\n",
    "                \n",
    "        tf.summary.image(\"RESHAPE_1\", plot_buf_1)\n",
    "        tf.summary.image(\"RESHAPE_2\", plot_buf_2)\n",
    "        tf.summary.image(\"RESHAPE_3\", plot_buf_3)\n",
    "        tf.summary.image(\"RESHAPE_4\", plot_buf_4)\n",
    "        tf.summary.image(\"RESHAPE_5\", plot_buf_5)\n",
    "        tf.summary.image(\"RESHAPE_6\", plot_buf_6)\n",
    "        tf.summary.image(\"RESHAPE_7\", plot_buf_7)\n",
    "        tf.summary.image(\"RESHAPE_8\", plot_buf_8)\n",
    "        \n",
    "        summary_op = tf.summary.merge_all()\n",
    "    #     with tf.Session() as sess:\n",
    "        # Run\n",
    "        y_pred,c_summary  = sess.run([Y_pred,summary_op], feed_dict={X: x_sample})\n",
    "\n",
    "         \n",
    "        # Write summary  tf.summary.FileWriter\n",
    "        writer = tf.summary.FileWriter('./logs')\n",
    "        writer.add_summary(c_summary)\n",
    "        writer.close()\n",
    "    #    sys.exit(). sys.exit() \n",
    "        ###### to visualize\n",
    "        th = 0.25\n",
    "        y_pred[y_pred>=th]=1\n",
    "        y_pred[y_pred<th]=0\n",
    "        tools.Data.plotFromVoxels(np.reshape(y_pred,[32,32,32]), title='y_pred')\n",
    "        if gt_vox is not None:\n",
    "            tools.Data.plotFromVoxels(np.reshape(gt_vox,[32,32,32]), title='y_true')\n",
    "        from matplotlib.pyplot import show\n",
    "        show()"
   ]
  },
  {
   "cell_type": "code",
   "execution_count": 6,
   "metadata": {},
   "outputs": [
    {
     "name": "stdout",
     "output_type": "stream",
     "text": [
      "enterd\n"
     ]
    },
    {
     "ename": "NameError",
     "evalue": "name 'os' is not defined",
     "output_type": "error",
     "traceback": [
      "\u001b[0;31m---------------------------------------------------------------------------\u001b[0m",
      "\u001b[0;31mNameError\u001b[0m                                 Traceback (most recent call last)",
      "\u001b[0;32m<ipython-input-6-8c789b0234a6>\u001b[0m in \u001b[0;36m<module>\u001b[0;34m\u001b[0m\n\u001b[1;32m      2\u001b[0m \u001b[0;34m\u001b[0m\u001b[0m\n\u001b[1;32m      3\u001b[0m \u001b[0mprint\u001b[0m \u001b[0;34m(\u001b[0m\u001b[0;34m'enterd'\u001b[0m\u001b[0;34m)\u001b[0m\u001b[0;34m\u001b[0m\u001b[0m\n\u001b[0;32m----> 4\u001b[0;31m \u001b[0mttest_demo\u001b[0m\u001b[0;34m(\u001b[0m\u001b[0;34m)\u001b[0m\u001b[0;34m\u001b[0m\u001b[0m\n\u001b[0m",
      "\u001b[0;32m<ipython-input-4-630056bc4721>\u001b[0m in \u001b[0;36mttest_demo\u001b[0;34m()\u001b[0m\n\u001b[1;32m      2\u001b[0m \u001b[0;31m#    model_path = './Model_released/'\u001b[0m\u001b[0;34m\u001b[0m\u001b[0;34m\u001b[0m\u001b[0m\n\u001b[1;32m      3\u001b[0m     \u001b[0mmodel_path\u001b[0m\u001b[0;34m=\u001b[0m\u001b[0;34m'/home/ajith/3d-reconstruction/attsets/Model_released/'\u001b[0m\u001b[0;34m\u001b[0m\u001b[0m\n\u001b[0;32m----> 4\u001b[0;31m     \u001b[0;32mif\u001b[0m \u001b[0;32mnot\u001b[0m \u001b[0mos\u001b[0m\u001b[0;34m.\u001b[0m\u001b[0mpath\u001b[0m\u001b[0;34m.\u001b[0m\u001b[0misfile\u001b[0m\u001b[0;34m(\u001b[0m\u001b[0mmodel_path\u001b[0m \u001b[0;34m+\u001b[0m \u001b[0;34m'model.cptk.data-00000-of-00001'\u001b[0m\u001b[0;34m)\u001b[0m\u001b[0;34m:\u001b[0m\u001b[0;34m\u001b[0m\u001b[0m\n\u001b[0m\u001b[1;32m      5\u001b[0m         \u001b[0mprint\u001b[0m \u001b[0;34m(\u001b[0m\u001b[0;34m'please download our released model first!'\u001b[0m\u001b[0;34m)\u001b[0m\u001b[0;34m\u001b[0m\u001b[0m\n\u001b[1;32m      6\u001b[0m         \u001b[0;32mreturn\u001b[0m\u001b[0;34m\u001b[0m\u001b[0m\n",
      "\u001b[0;31mNameError\u001b[0m: name 'os' is not defined"
     ]
    }
   ],
   "source": [
    "# if __name__ == '__main__':\n",
    "\t \n",
    "print ('enterd')    \n",
    "ttest_demo()"
   ]
  },
  {
   "cell_type": "code",
   "execution_count": null,
   "metadata": {},
   "outputs": [],
   "source": [
    "tensorboard --logdir=logs/"
   ]
  },
  {
   "cell_type": "code",
   "execution_count": null,
   "metadata": {},
   "outputs": [],
   "source": []
  }
 ],
 "metadata": {
  "kernelspec": {
   "display_name": "Python 3",
   "language": "python",
   "name": "python3"
  },
  "language_info": {
   "codemirror_mode": {
    "name": "ipython",
    "version": 3
   },
   "file_extension": ".py",
   "mimetype": "text/x-python",
   "name": "python",
   "nbconvert_exporter": "python",
   "pygments_lexer": "ipython3",
   "version": "3.5.6"
  }
 },
 "nbformat": 4,
 "nbformat_minor": 2
}
