{
 "cells": [
  {
   "cell_type": "code",
   "execution_count": 1,
   "metadata": {},
   "outputs": [
    {
     "name": "stderr",
     "output_type": "stream",
     "text": [
      "/home/lucas/miniconda3/envs/sips/lib/python3.7/site-packages/geopandas/_compat.py:78: UserWarning: The Shapely GEOS version (3.8.0-CAPI-1.13.1 ) is incompatible with the GEOS version PyGEOS was compiled with (3.8.1-CAPI-1.13.3). Conversions between both will be slow.\n",
      "  shapely_geos_version, geos_capi_version_string\n"
     ]
    }
   ],
   "source": [
    "import os, sys, glob, pickle\n",
    "import geopandas as gpd\n",
    "import pandas as pd\n",
    "import matplotlib.pyplot as plt"
   ]
  },
  {
   "cell_type": "code",
   "execution_count": 2,
   "metadata": {},
   "outputs": [],
   "source": [
    "root='/home/lucas/repos/solar-pv-global-inventory'"
   ]
  },
  {
   "cell_type": "code",
   "execution_count": 3,
   "metadata": {},
   "outputs": [],
   "source": [
    "match_files = glob.glob(os.path.join(root,'data','match_wri_*_4000_0.05*.gpkg'))"
   ]
  },
  {
   "cell_type": "code",
   "execution_count": 4,
   "metadata": {},
   "outputs": [],
   "source": [
    "match_files += glob.glob(os.path.join(root,'data','match_eia*.gpkg'))"
   ]
  },
  {
   "cell_type": "code",
   "execution_count": 5,
   "metadata": {},
   "outputs": [],
   "source": [
    "match_files = [f for f in match_files if 'wri_US' not in f]"
   ]
  },
  {
   "cell_type": "code",
   "execution_count": 6,
   "metadata": {},
   "outputs": [
    {
     "data": {
      "text/plain": [
       "['/home/lucas/repos/solar-pv-global-inventory/data/match_wri_GT_4000_0.05.gpkg',\n",
       " '/home/lucas/repos/solar-pv-global-inventory/data/match_wri_JP_4000_0.05.gpkg',\n",
       " '/home/lucas/repos/solar-pv-global-inventory/data/match_wri_ES_4000_0.05.gpkg',\n",
       " '/home/lucas/repos/solar-pv-global-inventory/data/match_wri_FR_4000_0.05.gpkg',\n",
       " '/home/lucas/repos/solar-pv-global-inventory/data/match_wri_AU_4000_0.05.gpkg',\n",
       " '/home/lucas/repos/solar-pv-global-inventory/data/match_wri_MX_4000_0.05.gpkg',\n",
       " '/home/lucas/repos/solar-pv-global-inventory/data/match_wri_GR_4000_0.05.gpkg',\n",
       " '/home/lucas/repos/solar-pv-global-inventory/data/match_wri_NA_4000_0.05.gpkg',\n",
       " '/home/lucas/repos/solar-pv-global-inventory/data/match_wri_MR_4000_0.05.gpkg',\n",
       " '/home/lucas/repos/solar-pv-global-inventory/data/match_wri_ZA_4000_0.05.gpkg',\n",
       " '/home/lucas/repos/solar-pv-global-inventory/data/match_wri_IN_4000_0.05.gpkg',\n",
       " '/home/lucas/repos/solar-pv-global-inventory/data/match_wri_SA_4000_0.05.gpkg',\n",
       " '/home/lucas/repos/solar-pv-global-inventory/data/match_wri_MU_4000_0.05.gpkg',\n",
       " '/home/lucas/repos/solar-pv-global-inventory/data/match_wri_TR_4000_0.05.gpkg',\n",
       " '/home/lucas/repos/solar-pv-global-inventory/data/match_wri_MA_4000_0.05.gpkg',\n",
       " '/home/lucas/repos/solar-pv-global-inventory/data/match_wri_AE_4000_0.05.gpkg',\n",
       " '/home/lucas/repos/solar-pv-global-inventory/data/match_wri_PE_4000_0.05.gpkg',\n",
       " '/home/lucas/repos/solar-pv-global-inventory/data/match_wri_HN_4000_0.05.gpkg',\n",
       " '/home/lucas/repos/solar-pv-global-inventory/data/match_wri_DK_4000_0.05.gpkg',\n",
       " '/home/lucas/repos/solar-pv-global-inventory/data/match_wri_CA_4000_0.05.gpkg',\n",
       " '/home/lucas/repos/solar-pv-global-inventory/data/match_wri_PK_4000_0.05.gpkg',\n",
       " '/home/lucas/repos/solar-pv-global-inventory/data/match_wri_GB_4000_0.05.gpkg',\n",
       " '/home/lucas/repos/solar-pv-global-inventory/data/match_wri_IT_4000_0.05.gpkg',\n",
       " '/home/lucas/repos/solar-pv-global-inventory/data/match_wri_CL_4000_0.05.gpkg',\n",
       " '/home/lucas/repos/solar-pv-global-inventory/data/match_wri_CZ_4000_0.05.gpkg',\n",
       " '/home/lucas/repos/solar-pv-global-inventory/data/match_wri_KZ_4000_0.05.gpkg',\n",
       " '/home/lucas/repos/solar-pv-global-inventory/data/match_wri_KR_4000_0.05.gpkg',\n",
       " '/home/lucas/repos/solar-pv-global-inventory/data/match_wri_AR_4000_0.05.gpkg',\n",
       " '/home/lucas/repos/solar-pv-global-inventory/data/match_wri_LK_4000_0.05.gpkg',\n",
       " '/home/lucas/repos/solar-pv-global-inventory/data/match_wri_DO_4000_0.05.gpkg',\n",
       " '/home/lucas/repos/solar-pv-global-inventory/data/match_wri_IL_4000_0.05.gpkg',\n",
       " '/home/lucas/repos/solar-pv-global-inventory/data/match_wri_DE_4000_0.05.gpkg',\n",
       " '/home/lucas/repos/solar-pv-global-inventory/data/match_wri_MY_4000_0.05.gpkg',\n",
       " '/home/lucas/repos/solar-pv-global-inventory/data/match_wri_RW_4000_0.05.gpkg',\n",
       " '/home/lucas/repos/solar-pv-global-inventory/data/match_wri_UY_4000_0.05.gpkg',\n",
       " '/home/lucas/repos/solar-pv-global-inventory/data/match_wri_PT_4000_0.05.gpkg',\n",
       " '/home/lucas/repos/solar-pv-global-inventory/data/match_wri_IR_4000_0.05.gpkg',\n",
       " '/home/lucas/repos/solar-pv-global-inventory/data/match_wri_BR_4000_0.05.gpkg',\n",
       " '/home/lucas/repos/solar-pv-global-inventory/data/match_wri_PH_4000_0.05.gpkg',\n",
       " '/home/lucas/repos/solar-pv-global-inventory/data/match_wri_TH_4000_0.05.gpkg',\n",
       " '/home/lucas/repos/solar-pv-global-inventory/data/match_eia_US_4000_0.05.gpkg']"
      ]
     },
     "execution_count": 6,
     "metadata": {},
     "output_type": "execute_result"
    }
   ],
   "source": [
    "match_files"
   ]
  },
  {
   "cell_type": "code",
   "execution_count": 7,
   "metadata": {},
   "outputs": [],
   "source": [
    "match_df = gpd.GeoDataFrame(pd.concat([gpd.read_file(f) for f in match_files]))"
   ]
  },
  {
   "cell_type": "code",
   "execution_count": 8,
   "metadata": {},
   "outputs": [],
   "source": [
    "#gdf = gpd.read_file(os.path.join(root,'data','ABCD_lccapacity.geojson'))\n",
    "gdf = gpd.read_file(os.path.join(root,'data','ABCD_landcover.geojson')) # for EIA matching"
   ]
  },
  {
   "cell_type": "code",
   "execution_count": 9,
   "metadata": {},
   "outputs": [],
   "source": [
    "gdf = gdf.reset_index().rename(columns={'index':'unique_id'})"
   ]
  },
  {
   "cell_type": "markdown",
   "metadata": {},
   "source": [
    "### rm AF false positives"
   ]
  },
  {
   "cell_type": "code",
   "execution_count": 10,
   "metadata": {},
   "outputs": [],
   "source": [
    "import json\n",
    "from shapely import geometry"
   ]
  },
  {
   "cell_type": "code",
   "execution_count": 11,
   "metadata": {},
   "outputs": [],
   "source": [
    "#json.dump(ll, open(os.path.join(root,'data','AF_drop.json'),'w'))\n",
    "ll = json.load(open(os.path.join(root,'data','AF_drop.json'),'r'))"
   ]
  },
  {
   "cell_type": "code",
   "execution_count": 12,
   "metadata": {},
   "outputs": [],
   "source": [
    "records = [{'pt':geometry.Point(el)} for el in ll]"
   ]
  },
  {
   "cell_type": "code",
   "execution_count": 13,
   "metadata": {},
   "outputs": [],
   "source": [
    "df = pd.DataFrame.from_records(records)"
   ]
  },
  {
   "cell_type": "code",
   "execution_count": 14,
   "metadata": {},
   "outputs": [
    {
     "name": "stderr",
     "output_type": "stream",
     "text": [
      "/home/lucas/miniconda3/envs/sips/lib/python3.7/site-packages/pyproj/crs/crs.py:53: FutureWarning: '+init=<authority>:<code>' syntax is deprecated. '<authority>:<code>' is the preferred initialization method. When making the change, be mindful of axis order changes: https://pyproj4.github.io/pyproj/stable/gotchas.html#axis-order-changes-in-proj-6\n",
      "  return _prepare_from_string(\" \".join(pjargs))\n"
     ]
    }
   ],
   "source": [
    "drop_pts = gpd.GeoDataFrame(df, geometry='pt',crs={'init':'epsg:4326'})"
   ]
  },
  {
   "cell_type": "code",
   "execution_count": 15,
   "metadata": {},
   "outputs": [
    {
     "data": {
      "text/plain": [
       "Index(['unique_id', 'area', 'confidence', 'install_date', 'install_date_ints',\n",
       "       'SPOT_ids_0', 'S2_ids_0', 'iso-3166-1', 'iso-3166-2',\n",
       "       'land_cover_CORINE_2006', 'land_cover_CORINE_2012',\n",
       "       'land_cover_CORINE_2018', 'land_cover_MODIS_2006',\n",
       "       'land_cover_MODIS_2007', 'land_cover_MODIS_2008',\n",
       "       'land_cover_MODIS_2009', 'land_cover_MODIS_2010',\n",
       "       'land_cover_MODIS_2011', 'land_cover_MODIS_2012',\n",
       "       'land_cover_MODIS_2013', 'land_cover_MODIS_2014',\n",
       "       'land_cover_MODIS_2015', 'land_cover_MODIS_2016',\n",
       "       'land_cover_MODIS_2017', 'land_cover_MODIS_2018', 'SPOT_ids_1',\n",
       "       'SPOT_ids_2', 'S2_ids_1', 'SPOT_ids_3', 'SPOT_ids_4', 'SPOT_ids_5',\n",
       "       'SPOT_ids_6', 'SPOT_ids_7', 'SPOT_ids_8', 'land_cover_CDL_2006',\n",
       "       'land_cover_CDL_2007', 'land_cover_CDL_2008', 'land_cover_CDL_2009',\n",
       "       'land_cover_CDL_2010', 'land_cover_CDL_2011', 'land_cover_CDL_2012',\n",
       "       'land_cover_CDL_2013', 'land_cover_CDL_2014', 'land_cover_CDL_2015',\n",
       "       'land_cover_CDL_2016', 'land_cover_CDL_2017', 'land_cover_CDL_2018',\n",
       "       'SPOT_ids_9', 'SPOT_ids_10', 'SPOT_ids_11', 'SPOT_ids_12', 'geometry'],\n",
       "      dtype='object')"
      ]
     },
     "execution_count": 15,
     "metadata": {},
     "output_type": "execute_result"
    }
   ],
   "source": [
    "gdf.columns"
   ]
  },
  {
   "cell_type": "code",
   "execution_count": 16,
   "metadata": {},
   "outputs": [],
   "source": [
    "gdf = gdf[~gdf.geometry.intersects(drop_pts.unary_union)]"
   ]
  },
  {
   "cell_type": "code",
   "execution_count": 17,
   "metadata": {},
   "outputs": [
    {
     "ename": "AttributeError",
     "evalue": "'GeoDataFrame' object has no attribute 'capacity_mw'",
     "output_type": "error",
     "traceback": [
      "\u001b[0;31m---------------------------------------------------------------------------\u001b[0m",
      "\u001b[0;31mAttributeError\u001b[0m                            Traceback (most recent call last)",
      "\u001b[0;32m<ipython-input-17-3ee997c60e75>\u001b[0m in \u001b[0;36m<module>\u001b[0;34m\u001b[0m\n\u001b[0;32m----> 1\u001b[0;31m \u001b[0mgdf\u001b[0m \u001b[0;34m=\u001b[0m \u001b[0mgdf\u001b[0m\u001b[0;34m[\u001b[0m\u001b[0mgdf\u001b[0m\u001b[0;34m.\u001b[0m\u001b[0mcapacity_mw\u001b[0m\u001b[0;34m>\u001b[0m\u001b[0;36m0.01\u001b[0m\u001b[0;34m]\u001b[0m\u001b[0;34m\u001b[0m\u001b[0;34m\u001b[0m\u001b[0m\n\u001b[0m",
      "\u001b[0;32m~/miniconda3/envs/sips/lib/python3.7/site-packages/pandas/core/generic.py\u001b[0m in \u001b[0;36m__getattr__\u001b[0;34m(self, name)\u001b[0m\n\u001b[1;32m   5272\u001b[0m             \u001b[0;32mif\u001b[0m \u001b[0mself\u001b[0m\u001b[0;34m.\u001b[0m\u001b[0m_info_axis\u001b[0m\u001b[0;34m.\u001b[0m\u001b[0m_can_hold_identifiers_and_holds_name\u001b[0m\u001b[0;34m(\u001b[0m\u001b[0mname\u001b[0m\u001b[0;34m)\u001b[0m\u001b[0;34m:\u001b[0m\u001b[0;34m\u001b[0m\u001b[0;34m\u001b[0m\u001b[0m\n\u001b[1;32m   5273\u001b[0m                 \u001b[0;32mreturn\u001b[0m \u001b[0mself\u001b[0m\u001b[0;34m[\u001b[0m\u001b[0mname\u001b[0m\u001b[0;34m]\u001b[0m\u001b[0;34m\u001b[0m\u001b[0;34m\u001b[0m\u001b[0m\n\u001b[0;32m-> 5274\u001b[0;31m             \u001b[0;32mreturn\u001b[0m \u001b[0mobject\u001b[0m\u001b[0;34m.\u001b[0m\u001b[0m__getattribute__\u001b[0m\u001b[0;34m(\u001b[0m\u001b[0mself\u001b[0m\u001b[0;34m,\u001b[0m \u001b[0mname\u001b[0m\u001b[0;34m)\u001b[0m\u001b[0;34m\u001b[0m\u001b[0;34m\u001b[0m\u001b[0m\n\u001b[0m\u001b[1;32m   5275\u001b[0m \u001b[0;34m\u001b[0m\u001b[0m\n\u001b[1;32m   5276\u001b[0m     \u001b[0;32mdef\u001b[0m \u001b[0m__setattr__\u001b[0m\u001b[0;34m(\u001b[0m\u001b[0mself\u001b[0m\u001b[0;34m,\u001b[0m \u001b[0mname\u001b[0m\u001b[0;34m:\u001b[0m \u001b[0mstr\u001b[0m\u001b[0;34m,\u001b[0m \u001b[0mvalue\u001b[0m\u001b[0;34m)\u001b[0m \u001b[0;34m->\u001b[0m \u001b[0;32mNone\u001b[0m\u001b[0;34m:\u001b[0m\u001b[0;34m\u001b[0m\u001b[0;34m\u001b[0m\u001b[0m\n",
      "\u001b[0;31mAttributeError\u001b[0m: 'GeoDataFrame' object has no attribute 'capacity_mw'"
     ]
    }
   ],
   "source": [
    "gdf = gdf[gdf.capacity_mw>0.01]"
   ]
  },
  {
   "cell_type": "markdown",
   "metadata": {},
   "source": [
    "### Merge in matches"
   ]
  },
  {
   "cell_type": "code",
   "execution_count": 18,
   "metadata": {},
   "outputs": [],
   "source": [
    "EU_28 = ['AT','BE','BG','CY','CZ','DK','EE','FI','FR','DE','GR','HU','IE','IT','LV','LT','LU','MT','NL','PL','PT','RO','SK','SI','ES','SE','GB']"
   ]
  },
  {
   "cell_type": "code",
   "execution_count": 19,
   "metadata": {},
   "outputs": [],
   "source": [
    "gdf = gdf.merge(match_df[['unique_id','match_id']], how='left',left_on='unique_id',right_on='unique_id')"
   ]
  },
  {
   "cell_type": "code",
   "execution_count": 20,
   "metadata": {},
   "outputs": [
    {
     "data": {
      "text/html": [
       "<div>\n",
       "<style scoped>\n",
       "    .dataframe tbody tr th:only-of-type {\n",
       "        vertical-align: middle;\n",
       "    }\n",
       "\n",
       "    .dataframe tbody tr th {\n",
       "        vertical-align: top;\n",
       "    }\n",
       "\n",
       "    .dataframe thead th {\n",
       "        text-align: right;\n",
       "    }\n",
       "</style>\n",
       "<table border=\"1\" class=\"dataframe\">\n",
       "  <thead>\n",
       "    <tr style=\"text-align: right;\">\n",
       "      <th></th>\n",
       "      <th>install_date</th>\n",
       "      <th>match_id</th>\n",
       "      <th>geometry</th>\n",
       "    </tr>\n",
       "  </thead>\n",
       "  <tbody>\n",
       "    <tr>\n",
       "      <th>23980</th>\n",
       "      <td>&lt;2016-06</td>\n",
       "      <td>EIA58553</td>\n",
       "      <td>POLYGON ((-86.26061 39.65490, -86.26057 39.654...</td>\n",
       "    </tr>\n",
       "    <tr>\n",
       "      <th>23983</th>\n",
       "      <td>2017-07-09</td>\n",
       "      <td>EIA60640</td>\n",
       "      <td>POLYGON ((-69.67412 44.55592, -69.67412 44.556...</td>\n",
       "    </tr>\n",
       "    <tr>\n",
       "      <th>23984</th>\n",
       "      <td>2017-01-19</td>\n",
       "      <td>EIA60764</td>\n",
       "      <td>POLYGON ((-104.44252 39.79316, -104.44250 39.7...</td>\n",
       "    </tr>\n",
       "    <tr>\n",
       "      <th>23985</th>\n",
       "      <td>&lt;2016-06</td>\n",
       "      <td>EIA60046</td>\n",
       "      <td>POLYGON ((-87.15650 41.55875, -87.15638 41.558...</td>\n",
       "    </tr>\n",
       "    <tr>\n",
       "      <th>23989</th>\n",
       "      <td>&lt;2016-06</td>\n",
       "      <td>EIA58639</td>\n",
       "      <td>POLYGON ((-159.31060 22.12990, -159.31054 22.1...</td>\n",
       "    </tr>\n",
       "    <tr>\n",
       "      <th>...</th>\n",
       "      <td>...</td>\n",
       "      <td>...</td>\n",
       "      <td>...</td>\n",
       "    </tr>\n",
       "    <tr>\n",
       "      <th>68708</th>\n",
       "      <td>&lt;2016-06</td>\n",
       "      <td>EIA59390</td>\n",
       "      <td>POLYGON ((-70.88931 42.84639, -70.88944 42.846...</td>\n",
       "    </tr>\n",
       "    <tr>\n",
       "      <th>68710</th>\n",
       "      <td>2016-11-14</td>\n",
       "      <td>EIA59636</td>\n",
       "      <td>POLYGON ((-72.02031 42.13495, -72.02065 42.134...</td>\n",
       "    </tr>\n",
       "    <tr>\n",
       "      <th>68711</th>\n",
       "      <td>&lt;2016-06</td>\n",
       "      <td>EIA60609</td>\n",
       "      <td>POLYGON ((-72.10437 41.57628, -72.10439 41.576...</td>\n",
       "    </tr>\n",
       "    <tr>\n",
       "      <th>68730</th>\n",
       "      <td>2016-12-23</td>\n",
       "      <td>EIA59511</td>\n",
       "      <td>POLYGON ((-81.66370 35.17854, -81.66354 35.178...</td>\n",
       "    </tr>\n",
       "    <tr>\n",
       "      <th>68733</th>\n",
       "      <td>&lt;2016-06</td>\n",
       "      <td>EIA58824</td>\n",
       "      <td>POLYGON ((-72.97961 44.90874, -72.98012 44.908...</td>\n",
       "    </tr>\n",
       "  </tbody>\n",
       "</table>\n",
       "<p>3536 rows × 3 columns</p>\n",
       "</div>"
      ],
      "text/plain": [
       "      install_date  match_id  \\\n",
       "23980     <2016-06  EIA58553   \n",
       "23983   2017-07-09  EIA60640   \n",
       "23984   2017-01-19  EIA60764   \n",
       "23985     <2016-06  EIA60046   \n",
       "23989     <2016-06  EIA58639   \n",
       "...            ...       ...   \n",
       "68708     <2016-06  EIA59390   \n",
       "68710   2016-11-14  EIA59636   \n",
       "68711     <2016-06  EIA60609   \n",
       "68730   2016-12-23  EIA59511   \n",
       "68733     <2016-06  EIA58824   \n",
       "\n",
       "                                                geometry  \n",
       "23980  POLYGON ((-86.26061 39.65490, -86.26057 39.654...  \n",
       "23983  POLYGON ((-69.67412 44.55592, -69.67412 44.556...  \n",
       "23984  POLYGON ((-104.44252 39.79316, -104.44250 39.7...  \n",
       "23985  POLYGON ((-87.15650 41.55875, -87.15638 41.558...  \n",
       "23989  POLYGON ((-159.31060 22.12990, -159.31054 22.1...  \n",
       "...                                                  ...  \n",
       "68708  POLYGON ((-70.88931 42.84639, -70.88944 42.846...  \n",
       "68710  POLYGON ((-72.02031 42.13495, -72.02065 42.134...  \n",
       "68711  POLYGON ((-72.10437 41.57628, -72.10439 41.576...  \n",
       "68730  POLYGON ((-81.66370 35.17854, -81.66354 35.178...  \n",
       "68733  POLYGON ((-72.97961 44.90874, -72.98012 44.908...  \n",
       "\n",
       "[3536 rows x 3 columns]"
      ]
     },
     "execution_count": 20,
     "metadata": {},
     "output_type": "execute_result"
    }
   ],
   "source": [
    "gdf.loc[(gdf['iso-3166-1']=='US')&(gdf['match_id']!=''),['install_date','match_id','geometry']]"
   ]
  },
  {
   "cell_type": "markdown",
   "metadata": {},
   "source": [
    "#### ... to file"
   ]
  },
  {
   "cell_type": "code",
   "execution_count": null,
   "metadata": {},
   "outputs": [],
   "source": [
    "gdf.to_file(os.path.join(root,'data','ABCD_finalized.geojson'),driver='GeoJSON')"
   ]
  },
  {
   "cell_type": "code",
   "execution_count": null,
   "metadata": {},
   "outputs": [],
   "source": [
    "gdf['capacity_mw']"
   ]
  },
  {
   "cell_type": "markdown",
   "metadata": {},
   "source": [
    "### Compare to wri & eia"
   ]
  },
  {
   "cell_type": "code",
   "execution_count": 21,
   "metadata": {},
   "outputs": [],
   "source": [
    "wri_df = pd.read_csv(os.path.join(root, 'data','WRI_gppd.csv'))"
   ]
  },
  {
   "cell_type": "code",
   "execution_count": 22,
   "metadata": {},
   "outputs": [],
   "source": [
    "eia_df = gpd.read_file(os.path.join(root,'data','eia_powerstations','PowerPlants_US_202001.shp'))"
   ]
  },
  {
   "cell_type": "code",
   "execution_count": 23,
   "metadata": {},
   "outputs": [],
   "source": [
    "eia_meta = pd.read_csv(os.path.join(root,'data','eia_powerstations','february_generator2020.csv'))"
   ]
  },
  {
   "cell_type": "code",
   "execution_count": 24,
   "metadata": {},
   "outputs": [],
   "source": [
    "iso2 = pd.read_csv(os.path.join(root,'data','iso2.csv'))"
   ]
  },
  {
   "cell_type": "code",
   "execution_count": 25,
   "metadata": {},
   "outputs": [],
   "source": [
    "wri_df = wri_df.merge(iso2[['iso3','iso2']], how='left',left_on='country',right_on='iso3')"
   ]
  },
  {
   "cell_type": "markdown",
   "metadata": {},
   "source": [
    "#### How much in each country?"
   ]
  },
  {
   "cell_type": "code",
   "execution_count": null,
   "metadata": {},
   "outputs": [],
   "source": [
    "for iso2 in sorted(gdf['iso-3166-1'].unique()):\n",
    "    N = (gdf['iso-3166-1']==iso2).sum()\n",
    "    N_wri = (wri_df['iso2']==iso2).sum()\n",
    "    matched_to = ((gdf['iso-3166-1']==iso2) & (gdf['match_id']!='')).sum() / (gdf['iso-3166-1']==iso2).sum()\n",
    "    matched_from = len(gdf.loc[gdf['iso-3166-1']==iso2,'match_id'].unique()) / N_wri\n",
    "    print (iso2, N, N_wri,matched_to,matched_from )"
   ]
  },
  {
   "cell_type": "code",
   "execution_count": null,
   "metadata": {},
   "outputs": [],
   "source": [
    "gdf.loc[gdf['match_id']=='','capacity_mw'].sum() / gdf['capacity_mw'].sum()"
   ]
  },
  {
   "cell_type": "code",
   "execution_count": 26,
   "metadata": {},
   "outputs": [],
   "source": [
    "gdf['install_date'] = gdf['install_date'].str.replace('<2016-06','2001-01-01')\n",
    "gdf['install_date'] = gdf['install_date'].str.replace(',','')\n",
    "gdf['install_date'] = gdf['install_date'].str[0:10]"
   ]
  },
  {
   "cell_type": "code",
   "execution_count": 27,
   "metadata": {},
   "outputs": [
    {
     "name": "stdout",
     "output_type": "stream",
     "text": [
      "install_date\n",
      "['' '2001-01-01' '2017-04-24' '2016-12-29' '2016-09-08' '2017-11-03'\n",
      " '2016-08-28' '2016-06-02' '2017-09-02' '2018-01-19' '2018-02-22'\n",
      " '2017-05-26' '2018-09-22' '2018-07-10' '2016-08-24' '2016-09-03'\n",
      " '2017-03-29' '2018-05-27' '2016-07-03' '2016-09-21' '2016-12-27'\n",
      " '2017-08-29' '2017-07-18' '2016-07-20' '2016-09-27' '2016-09-30'\n",
      " '2016-10-10' '2016-10-04' '2017-10-18' '2018-05-03' '2016-07-10'\n",
      " '2016-06-10' '2016-08-19' '2016-09-28' '2016-08-29' '2017-05-29'\n",
      " '2018-03-10' '2018-03-15' '2017-10-10' '2017-09-06' '2018-04-22'\n",
      " '2018-04-27' '2017-05-22' '2017-08-19' '2016-06-22' '2017-09-28'\n",
      " '2016-07-18' '2016-08-07' '2016-06-08' '2017-07-05' '2016-08-27'\n",
      " '2016-12-08' '2017-07-17' '2017-12-07' '2018-04-10' '2016-07-23'\n",
      " '2016-12-10' '2016-06-09' '2016-06-29' '2016-08-08' '2018-03-25'\n",
      " '2017-02-15' '2017-03-04' '2016-06-30' '2017-03-23' '2017-08-12'\n",
      " '2018-01-16' '2016-10-20' '2016-08-09' '2018-06-18' '2017-03-27'\n",
      " '2017-03-02' '2017-09-03' '2017-09-21' '2017-12-13' '2018-07-20'\n",
      " '2018-03-16' '2018-05-09' '2018-07-22' '2018-04-21' '2018-03-31'\n",
      " '2017-05-27' '2018-01-01' '2018-06-02' '2017-02-24' '2017-06-24'\n",
      " '2017-07-22' '2016-10-27' '2017-08-23' '2018-06-20' '2017-11-02'\n",
      " '2018-04-13' '2018-03-11' '2017-12-16' '2017-11-13' '2017-07-21'\n",
      " '2017-12-28' '2018-05-12' '2018-06-26' '2018-06-06' '2016-07-13'\n",
      " '2018-07-25' '2018-05-25' '2018-05-05' '2017-07-01' '2018-03-28'\n",
      " '2018-03-07' '2016-08-17' '2016-09-13' '2016-09-10' '2017-06-03'\n",
      " '2016-06-15' '2017-06-11' '2016-07-06' '2016-09-09' '2018-03-05'\n",
      " '2017-02-28' '2018-02-28' '2018-04-19' '2017-09-20' '2016-08-14'\n",
      " '2017-12-01' '2016-08-21' '2017-07-07' '2017-06-27' '2017-04-03'\n",
      " '2017-11-07' '2017-10-30' '2016-11-16' '2017-10-20' '2016-10-13'\n",
      " '2017-12-19' '2016-09-20' '2016-08-22' '2017-03-31' '2017-07-04'\n",
      " '2016-11-10' '2017-10-12' '2018-01-30' '2016-12-24' '2018-02-13'\n",
      " '2017-07-29' '2018-01-24' '2018-05-15' '2017-06-25' '2017-09-07'\n",
      " '2017-05-10' '2017-07-20' '2017-06-28' '2016-07-01' '2018-04-24'\n",
      " '2016-10-22' '2016-08-13' '2016-09-02' '2017-02-19' '2017-10-14'\n",
      " '2017-04-10' '2016-07-17' '2017-01-03' '2016-08-23' '2016-10-06'\n",
      " '2016-07-26' '2018-05-24' '2017-06-18' '2018-06-03' '2017-01-19'\n",
      " '2017-10-26' '2017-09-16' '2018-07-13' '2017-02-18' '2017-12-05'\n",
      " '2017-04-29' '2018-08-07' '2017-03-30' '2017-05-19' '2016-08-12'\n",
      " '2018-05-19' '2016-06-13' '2016-09-01' '2018-01-09' '2017-10-05'\n",
      " '2017-08-03' '2017-12-31' '2017-05-15' '2018-08-03' '2017-06-14'\n",
      " '2016-11-06' '2016-12-19' '2017-07-30' '2016-09-07' '2016-08-31'\n",
      " '2017-07-02' '2017-06-01' '2016-10-17' '2017-06-07' '2017-08-06'\n",
      " '2017-05-28' '2018-01-26' '2018-06-07' '2016-06-12' '2017-12-17'\n",
      " '2017-11-14' '2017-05-18' '2017-07-10' '2017-05-11' '2017-02-27'\n",
      " '2017-11-16' '2016-08-01' '2017-02-17' '2016-11-19' '2017-05-31'\n",
      " '2017-11-12' '2017-09-10' '2017-10-13' '2017-11-21' '2017-11-04'\n",
      " '2017-07-14' '2017-12-06' '2017-08-21' '2016-07-02' '2017-11-22'\n",
      " '2018-01-13' '2016-09-23' '2018-01-02' '2016-06-19' '2016-08-11'\n",
      " '2017-12-04' '2017-08-08' '2016-07-22' '2017-08-31' '2018-06-17'\n",
      " '2016-11-26' '2017-09-17' '2016-12-16' '2017-12-24' '2018-03-19'\n",
      " '2017-07-12' '2017-06-04' '2016-12-13' '2017-04-18' '2017-09-15'\n",
      " '2017-12-18' '2018-05-16' '2017-08-14' '2018-04-20' '2018-02-12'\n",
      " '2016-11-02' '2017-11-05' '2017-04-01' '2017-09-08' '2017-04-28'\n",
      " '2017-06-20' '2017-05-04' '2018-02-25' '2017-08-16' '2016-12-02'\n",
      " '2018-06-10' '2017-01-14' '2017-02-03' '2018-03-29' '2017-09-23'\n",
      " '2018-01-23' '2017-07-25' '2018-09-28' '2018-06-12' '2018-06-23'\n",
      " '2017-11-27' '2017-04-21' '2017-01-11' '2017-09-11' '2018-02-24'\n",
      " '2018-07-09' '2017-11-15' '2016-11-15' '2018-05-29' '2016-10-29'\n",
      " '2018-07-23' '2016-09-16' '2017-07-31' '2016-07-25' '2017-12-12'\n",
      " '2017-11-28' '2017-08-05' '2018-03-23' '2016-07-31' '2017-02-26'\n",
      " '2016-08-15' '2016-07-28' '2016-10-19' '2016-06-21' '2017-09-29'\n",
      " '2018-10-01' '2018-05-30' '2016-12-01' '2016-10-15' '2016-06-17'\n",
      " '2018-08-18' '2016-09-24' '2016-12-18' '2017-09-09' '2018-01-27'\n",
      " '2016-06-16' '2017-07-11' '2016-12-03' '2018-01-12' '2017-07-16'\n",
      " '2017-10-31' '2017-10-19' '2017-06-21' '2017-04-09' '2017-12-25'\n",
      " '2017-11-01' '2017-10-15' '2016-11-03' '2016-10-14' '2017-12-20'\n",
      " '2018-04-15' '2017-10-04' '2018-06-21' '2017-08-25' '2017-06-15'\n",
      " '2017-05-12' '2017-08-22' '2017-10-06' '2018-03-22' '2018-08-02'\n",
      " '2017-03-13' '2017-10-24' '2018-09-10' '2017-01-06' '2017-02-08'\n",
      " '2017-06-08' '2017-07-13' '2017-11-17' '2016-10-01' '2017-11-19'\n",
      " '2018-06-14' '2017-05-20' '2018-04-09' '2018-02-18' '2016-11-23'\n",
      " '2018-04-17' '2018-05-13' '2018-09-26' '2017-10-21' '2017-09-14'\n",
      " '2017-10-09' '2017-07-28' '2018-05-21' '2017-02-11' '2017-04-02'\n",
      " '2018-06-01' '2018-07-19' '2017-01-29' '2018-02-04' '2017-01-02'\n",
      " '2018-05-04' '2018-01-29' '2016-12-07' '2016-12-30' '2016-08-02'\n",
      " '2018-02-05' '2018-02-08' '2018-02-01' '2017-04-22' '2017-11-10'\n",
      " '2017-01-15' '2017-08-27' '2017-11-23' '2017-11-20' '2018-06-11'\n",
      " '2017-07-24' '2018-02-11' '2018-07-21' '2017-12-10' '2018-06-13'\n",
      " '2017-10-27' '2017-10-01' '2016-06-23' '2017-03-26' '2016-12-20'\n",
      " '2017-07-26' '2018-06-15' '2017-03-07' '2017-08-07' '2017-10-08'\n",
      " '2017-01-16' '2017-07-19' '2017-03-06' '2016-09-17' '2017-11-06'\n",
      " '2018-03-26' '2017-08-28' '2017-05-25' '2017-09-22' '2016-12-06'\n",
      " '2017-04-15' '2017-12-11' '2017-11-08' '2018-04-07' '2017-01-12'\n",
      " '2018-03-13' '2018-01-15' '2017-05-05' '2017-10-07' '2018-09-04'\n",
      " '2016-09-14' '2017-07-06' '2016-07-09' '2018-07-14' '2017-09-12'\n",
      " '2017-02-21' '2016-12-23' '2017-10-29' '2018-03-27' '2018-07-16'\n",
      " '2016-07-29' '2017-02-10' '2018-04-25' '2017-08-10' '2016-06-06'\n",
      " '2017-02-14' '2017-08-15' '2018-02-26' '2017-08-20' '2017-09-04'\n",
      " '2018-07-29' '2018-06-24' '2017-03-03' '2017-12-08' '2017-02-01'\n",
      " '2016-09-11' '2017-12-09' '2018-01-11' '2017-05-02' '2017-12-02'\n",
      " '2016-10-30' '2018-04-08' '2018-04-28' '2018-05-23' '2018-03-09'\n",
      " '2016-12-09' '2018-03-24' '2018-04-18' '2016-07-12' '2018-02-07'\n",
      " '2018-03-12' '2018-04-03' '2018-01-31' '2018-01-08' '2018-05-20'\n",
      " '2017-01-28' '2016-12-26' '2017-12-22' '2017-09-30' '2017-08-01'\n",
      " '2018-07-11' '2017-10-25' '2018-06-27' '2018-02-17' '2016-10-07'\n",
      " '2018-01-14' '2016-11-21' '2016-12-31' '2016-11-01' '2018-06-30'\n",
      " '2017-06-06' '2017-04-07' '2016-12-25' '2016-09-22' '2017-11-11'\n",
      " '2016-09-29' '2017-02-09' '2016-11-08' '2016-06-28' '2018-04-16'\n",
      " '2016-12-11' '2016-10-26' '2017-05-17' '2018-08-24' '2017-12-03'\n",
      " '2016-12-05' '2016-09-25' '2018-05-14' '2018-01-20' '2017-02-13'\n",
      " '2016-11-18' '2018-11-26' '2018-10-25' '2016-08-20' '2017-04-14'\n",
      " '2017-06-13' '2017-01-04' '2016-11-04' '2016-07-07' '2017-07-03'\n",
      " '2016-07-27' '2018-05-31' '2017-12-21' '2017-07-23' '2017-07-09'\n",
      " '2017-07-15' '2017-08-13' '2018-10-02' '2016-07-30' '2016-06-26'\n",
      " '2017-06-26' '2016-08-05' '2018-06-05' '2016-10-12' '2016-06-11'\n",
      " '2016-07-14' '2016-06-07' '2018-01-10' '2018-03-08' '2016-08-03'\n",
      " '2016-06-24' '2016-06-18' '2018-03-06' '2016-06-05' '2016-06-04'\n",
      " '2016-09-06' '2016-12-15' '2016-07-08' '2016-11-12' '2016-08-18'\n",
      " '2017-09-18' '2016-08-04' '2018-07-30' '2017-02-16' '2018-01-21'\n",
      " '2016-11-11' '2016-08-16' '2018-04-02' '2016-11-28' '2016-09-12'\n",
      " '2016-10-05' '2017-04-20' '2016-11-24' '2018-05-02' '2017-01-27'\n",
      " '2018-04-01' '2016-12-14' '2018-07-01' '2017-10-16' '2017-08-30'\n",
      " '2017-03-28' '2016-08-10' '2017-03-14' '2016-08-26' '2018-02-14'\n",
      " '2018-06-29' '2018-02-06' '2017-04-30' '2016-08-30' '2018-07-24'\n",
      " '2016-12-04' '2018-03-20' '2016-10-25' '2018-02-21' '2016-09-05'\n",
      " '2017-12-15' '2018-07-31' '2018-03-01' '2018-02-23' '2017-03-15'\n",
      " '2017-02-02' '2017-06-19' '2017-06-12' '2017-09-26' '2016-09-15'\n",
      " '2018-02-16' '2018-03-03' '2018-05-07' '2018-07-26' '2016-10-16'\n",
      " '2016-07-24' '2018-08-23' '2016-12-28' '2017-12-29' '2016-06-25'\n",
      " '2018-08-19' '2018-05-06' '2018-10-12' '2017-09-27' '2016-09-26'\n",
      " '2018-03-14' '2017-07-08' '2017-10-17' '2018-07-03' '2018-10-13'\n",
      " '2018-08-15' '2018-03-18' '2018-07-18' '2018-01-17' '2016-07-16'\n",
      " '2017-03-19' '2016-08-06' '2016-11-30' '2017-03-17' '2017-03-05'\n",
      " '2018-06-19' '2017-06-30' '2018-02-10' '2018-04-05' '2017-04-05'\n",
      " '2018-04-06' '2017-12-23' '2017-04-23' '2016-06-27' '2017-11-25'\n",
      " '2017-02-22' '2016-10-18' '2018-02-19' '2016-12-17' '2016-07-11'\n",
      " '2017-08-02' '2018-05-11' '2017-07-27' '2016-10-31' '2018-07-17'\n",
      " '2016-10-21' '2017-01-25' '2018-08-05' '2018-07-15' '2016-07-15'\n",
      " '2017-12-27' '2017-02-25' '2016-07-19' '2016-06-20' '2017-01-05'\n",
      " '2018-02-20' '2017-04-08' '2018-08-16' '2017-03-09' '2018-08-08'\n",
      " '2018-08-01' '2017-08-18' '2017-02-04' '2018-08-20' '2016-08-25'\n",
      " '2018-01-22' '2018-07-12' '2018-07-04' '2017-05-08' '2017-10-02'\n",
      " '2018-04-23' '2018-01-25' '2018-07-02' '2017-12-26' '2018-06-04'\n",
      " '2018-10-03' '2016-11-22' '2016-10-23' '2016-09-19' '2017-05-07'\n",
      " '2017-08-24' '2017-04-11' '2017-05-14' '2017-03-21' '2016-10-09'\n",
      " '2018-04-26' '2017-10-22' '2018-04-29' '2017-09-19' '2018-04-12'\n",
      " '2017-01-08' '2016-10-03' '2017-06-17' '2017-09-05' '2016-12-22'\n",
      " '2017-10-28' '2018-02-02' '2017-04-13' '2017-05-21' '2017-04-16'\n",
      " '2017-03-24' '2018-01-03' '2017-02-12' '2017-05-06' '2017-09-24'\n",
      " '2018-05-22' '2016-10-24' '2017-03-08' '2017-04-17' '2016-11-25'\n",
      " '2017-04-04' '2017-01-07' '2017-01-20' '2018-05-17' '2016-11-05'\n",
      " '2017-12-30' '2016-11-14' '2017-01-13' '2018-03-30' '2017-06-02'\n",
      " '2018-09-20' '2017-09-25' '2016-10-08' '2017-11-30' '2017-03-25'\n",
      " '2017-02-23' '2016-11-29' '2018-01-04' '2017-01-24' '2018-01-18'\n",
      " '2017-09-01' '2017-03-22' '2018-04-14' '2017-10-03' '2017-02-06'\n",
      " '2017-01-01' '2017-01-18' '2017-08-09' '2017-09-13' '2016-07-21'\n",
      " '2017-03-11' '2017-08-17' '2018-03-04' '2017-06-23' '2018-02-09'\n",
      " '2016-10-02' '2018-06-25' '2017-02-07' '2018-03-21' '2017-11-29'\n",
      " '2018-03-02' '2017-04-25' '2017-11-24' '2017-11-09' '2018-08-29'\n",
      " '2016-11-09' '2017-01-31' '2017-12-14' '2017-06-10' '2018-08-11'\n",
      " '2017-05-01' '2018-03-17' '2017-01-30' '2017-03-12' '2018-05-26'\n",
      " '2017-06-22' '2018-07-27' '2018-05-10' '2017-05-03' '2017-06-09'\n",
      " '2017-08-11' '2018-07-07' '2018-09-17' '2018-05-28' '2018-10-15'\n",
      " '2017-03-18' '2018-02-27' '2017-04-27' '2017-11-18' '2018-09-02'\n",
      " '2018-05-01' '2018-10-27' '2016-09-18' '2017-11-26' '2017-05-24'\n",
      " '2018-01-05' '2018-10-09' '2016-11-20' '2017-01-26' '2018-01-28'\n",
      " '2016-11-13' '2016-09-04' '2016-06-14' '2017-10-11' '2017-06-29'\n",
      " '2017-06-16' '2016-11-17' '2016-10-28' '2018-02-15' '2018-08-04'\n",
      " '2018-07-28' '2017-05-23' '2018-09-14' '2017-03-01' '2018-08-14'\n",
      " '2017-08-26' '2018-06-09' '2017-08-04' '2018-06-08' '2018-04-04'\n",
      " '2018-09-12' '2017-05-13' '2016-10-11' '2017-01-23' '2016-11-27'\n",
      " '2016-11-07' '2018-05-08' '2017-04-06' '2018-04-11' '2017-05-09'\n",
      " '2018-08-09' '2017-05-16' '2016-12-21' '2016-12-12' '2018-06-28'\n",
      " '2018-08-30' '2018-08-27' '2018-08-22' '2018-08-17' '2018-08-06'\n",
      " '2018-09-05' '2018-10-20' '2018-06-22' '2018-09-25' '2018-10-11'\n",
      " '2018-07-08' '2018-10-05' '2018-09-08' '2018-08-25' '2018-10-04'\n",
      " '2018-09-03' '2018-08-21' '2018-09-07' '2018-07-05' '2018-08-12'\n",
      " '2018-04-30' '2018-09-19' '2018-08-28' '2018-10-17' '2018-05-18'\n",
      " '2018-09-27' '2018-10-06' '2018-09-09' '2018-07-06' '2018-08-13'\n",
      " '2017-01-17' '2018-10-10' '2018-10-08' '2017-04-26' '2018-08-10'\n",
      " '2018-10-07' '2017-02-20' '2018-10-30' '2018-11-14' '2018-10-19'\n",
      " '2018-08-31' '2018-11-20' '2018-09-29' '2018-09-18' '2018-09-21'\n",
      " '2018-10-23' '2018-09-06' '2017-03-16' '2017-10-23' '2018-10-18'\n",
      " '2018-06-16' '2018-08-26' '2018-09-23' '2018-09-11' '2018-09-13'\n",
      " '2018-10-16' '2018-09-24' '2018-11-15' '2018-02-03' '2018-09-15'\n",
      " '2018-01-06' '2018-12-12' '2016-06-03']\n"
     ]
    }
   ],
   "source": [
    "print ('install_date')\n",
    "print (gdf['install_date'].unique())\n",
    "gdf['dt_obj'] = pd.to_datetime(gdf['install_date'])"
   ]
  },
  {
   "cell_type": "code",
   "execution_count": null,
   "metadata": {},
   "outputs": [],
   "source": [
    "all_countries = list(gdf['iso-3166-1'].unique())"
   ]
  },
  {
   "cell_type": "code",
   "execution_count": null,
   "metadata": {},
   "outputs": [],
   "source": [
    "wri_countries = list(wri_df.loc[wri_df['fuel1']=='Solar','iso2'].unique())"
   ]
  },
  {
   "cell_type": "code",
   "execution_count": null,
   "metadata": {},
   "outputs": [],
   "source": [
    "from datetime import datetime as dt"
   ]
  },
  {
   "cell_type": "code",
   "execution_count": null,
   "metadata": {},
   "outputs": [],
   "source": [
    "corine_countries = ['AL', 'AT', 'BE', 'BA', 'BG', 'HR', 'CY', 'CZ', 'DK', 'EE', 'FI', 'FR', 'DE', 'GR', 'HU', 'IS', 'IE', 'IT', 'XK', 'LV', 'LI', 'LT', 'LU', 'MK', 'MT', 'ME', 'NL', 'NO', 'PL', 'PT', 'RO', 'RS', 'SK', 'SI', 'ES', 'SE', 'CH', 'TR', 'GB']"
   ]
  },
  {
   "cell_type": "code",
   "execution_count": null,
   "metadata": {},
   "outputs": [],
   "source": [
    "for clist in [['CN'],['IN'],['US'],['JP'],['ZA'],['TH'],['CL'],['KR'],['TR'],corine_countries]:#\n",
    "    increase = gdf.loc[gdf['iso-3166-1'].isin(clist) & (gdf['dt_obj']>dt.strptime('2016-06-01','%Y-%m-%d')), 'capacity_mw'].sum()\n",
    "    base = gdf.loc[gdf['iso-3166-1'].isin(clist), 'capacity_mw'].sum() - increase\n",
    "    \n",
    "    print (clist)\n",
    "    print (increase/base)"
   ]
  },
  {
   "cell_type": "code",
   "execution_count": null,
   "metadata": {},
   "outputs": [],
   "source": [
    "increase_CN = gdf.loc[gdf['iso-3166-1'].isin(['CN']) & (gdf['dt_obj']>dt.strptime('2016-06-01','%Y-%m-%d')), 'capacity_mw'].sum()\n",
    "base_CN = gdf.loc[gdf['iso-3166-1'].isin(['CN']), 'capacity_mw'].sum() - increase_CN"
   ]
  },
  {
   "cell_type": "code",
   "execution_count": null,
   "metadata": {},
   "outputs": [],
   "source": [
    "increase = gdf.loc[(gdf['dt_obj']>dt.strptime('2016-06-01','%Y-%m-%d')), 'capacity_mw'].sum()\n",
    "base = gdf.loc[:, 'capacity_mw'].sum() - increase"
   ]
  },
  {
   "cell_type": "markdown",
   "metadata": {},
   "source": [
    "### get EIA metadata"
   ]
  },
  {
   "cell_type": "code",
   "execution_count": 28,
   "metadata": {},
   "outputs": [],
   "source": [
    "eia_meta.dropna(subset=['Plant ID'], inplace=True)"
   ]
  },
  {
   "cell_type": "code",
   "execution_count": 29,
   "metadata": {},
   "outputs": [],
   "source": [
    "eia_meta['Plant ID'] = eia_meta['Plant ID'].astype(int)"
   ]
  },
  {
   "cell_type": "code",
   "execution_count": 30,
   "metadata": {},
   "outputs": [],
   "source": [
    "eia_meta['Nameplate Capacity (MW)'] = eia_meta['Nameplate Capacity (MW)'].str.replace(',','').astype(float)"
   ]
  },
  {
   "cell_type": "code",
   "execution_count": 31,
   "metadata": {},
   "outputs": [],
   "source": [
    "eia_meta['dt_string'] = eia_meta['Operating Year'].map('{:.0f}'.format) +'-'+ eia_meta['Operating Month'].astype(int).map('{:02d}'.format)+'-01'"
   ]
  },
  {
   "cell_type": "code",
   "execution_count": 32,
   "metadata": {},
   "outputs": [],
   "source": [
    "eia_meta['dt_obj'] = pd.to_datetime(eia_meta['dt_string'])"
   ]
  },
  {
   "cell_type": "code",
   "execution_count": 33,
   "metadata": {},
   "outputs": [],
   "source": [
    "eia_meta['dt_ns']= eia_meta['dt_obj'].astype(int)"
   ]
  },
  {
   "cell_type": "code",
   "execution_count": 34,
   "metadata": {},
   "outputs": [],
   "source": [
    "eia_groupplant = eia_meta[['Plant ID', 'Nameplate Capacity (MW)']].groupby('Plant ID').sum()"
   ]
  },
  {
   "cell_type": "code",
   "execution_count": 35,
   "metadata": {},
   "outputs": [],
   "source": [
    "def avg_datetime(series):\n",
    "    dt_min = series.min()\n",
    "    deltas = [x-dt_min for x in series]\n",
    "    return dt_min + functools.reduce(operator.add, deltas) / len(deltas)"
   ]
  },
  {
   "cell_type": "code",
   "execution_count": 36,
   "metadata": {},
   "outputs": [],
   "source": [
    "eia_groupplant['dt_ns'] = eia_meta[['Plant ID', 'dt_ns']].groupby('Plant ID').mean()"
   ]
  },
  {
   "cell_type": "code",
   "execution_count": 37,
   "metadata": {},
   "outputs": [],
   "source": [
    "eia_groupplant['dt_ns'] = pd.to_datetime(eia_groupplant['dt_ns'])"
   ]
  },
  {
   "cell_type": "code",
   "execution_count": 38,
   "metadata": {},
   "outputs": [],
   "source": [
    "eia_df = eia_df.merge(eia_groupplant, how='left',left_on='Plant_Code',right_index=True)"
   ]
  },
  {
   "cell_type": "code",
   "execution_count": null,
   "metadata": {},
   "outputs": [],
   "source": [
    "target_match_ids = list(wri_df.loc[(wri_df['fuel1']=='Solar') & (wri_df['iso2']!='US'),'gppd_idnr'].unique())+list(eia_df.loc[(eia_df['PrimSource']=='solar'),'Plant_Code'].unique())"
   ]
  },
  {
   "cell_type": "code",
   "execution_count": null,
   "metadata": {},
   "outputs": [],
   "source": [
    "target_match_ids = [str(el) for el in target_match_ids]"
   ]
  },
  {
   "cell_type": "code",
   "execution_count": null,
   "metadata": {},
   "outputs": [],
   "source": [
    "source_match_ids = [str(el) for el in list(match_df['match_id'].unique())]"
   ]
  },
  {
   "cell_type": "code",
   "execution_count": null,
   "metadata": {},
   "outputs": [],
   "source": [
    "unmatched = set(source_match_ids) - set(target_match_ids)"
   ]
  },
  {
   "cell_type": "markdown",
   "metadata": {},
   "source": [
    "### EIA Date Comparison"
   ]
  },
  {
   "cell_type": "code",
   "execution_count": 39,
   "metadata": {},
   "outputs": [],
   "source": [
    "from datetime import datetime as dt"
   ]
  },
  {
   "cell_type": "code",
   "execution_count": 40,
   "metadata": {},
   "outputs": [],
   "source": [
    "dated_slice = gdf.loc[(gdf['iso-3166-1']=='US')&(gdf['dt_obj']>dt.strptime('2016-06-01','%Y-%m-%d'))&(gdf['dt_obj']<dt.strptime('2018-12-31','%Y-%m-%d'))&(gdf['match_id']!=''),['dt_obj','match_id']]"
   ]
  },
  {
   "cell_type": "code",
   "execution_count": 41,
   "metadata": {},
   "outputs": [
    {
     "data": {
      "text/html": [
       "<div>\n",
       "<style scoped>\n",
       "    .dataframe tbody tr th:only-of-type {\n",
       "        vertical-align: middle;\n",
       "    }\n",
       "\n",
       "    .dataframe tbody tr th {\n",
       "        vertical-align: top;\n",
       "    }\n",
       "\n",
       "    .dataframe thead th {\n",
       "        text-align: right;\n",
       "    }\n",
       "</style>\n",
       "<table border=\"1\" class=\"dataframe\">\n",
       "  <thead>\n",
       "    <tr style=\"text-align: right;\">\n",
       "      <th></th>\n",
       "      <th>dt_obj</th>\n",
       "      <th>match_id</th>\n",
       "    </tr>\n",
       "  </thead>\n",
       "  <tbody>\n",
       "    <tr>\n",
       "      <th>23983</th>\n",
       "      <td>2017-07-09</td>\n",
       "      <td>EIA60640</td>\n",
       "    </tr>\n",
       "    <tr>\n",
       "      <th>23984</th>\n",
       "      <td>2017-01-19</td>\n",
       "      <td>EIA60764</td>\n",
       "    </tr>\n",
       "    <tr>\n",
       "      <th>23990</th>\n",
       "      <td>2017-11-29</td>\n",
       "      <td>EIA61437</td>\n",
       "    </tr>\n",
       "    <tr>\n",
       "      <th>23991</th>\n",
       "      <td>2017-05-12</td>\n",
       "      <td>EIA61425</td>\n",
       "    </tr>\n",
       "    <tr>\n",
       "      <th>23992</th>\n",
       "      <td>2018-01-26</td>\n",
       "      <td>EIA60681</td>\n",
       "    </tr>\n",
       "    <tr>\n",
       "      <th>...</th>\n",
       "      <td>...</td>\n",
       "      <td>...</td>\n",
       "    </tr>\n",
       "    <tr>\n",
       "      <th>68697</th>\n",
       "      <td>2016-06-13</td>\n",
       "      <td>EIA58651</td>\n",
       "    </tr>\n",
       "    <tr>\n",
       "      <th>68700</th>\n",
       "      <td>2018-04-19</td>\n",
       "      <td>EIA62167</td>\n",
       "    </tr>\n",
       "    <tr>\n",
       "      <th>68704</th>\n",
       "      <td>2016-11-07</td>\n",
       "      <td>EIA61275</td>\n",
       "    </tr>\n",
       "    <tr>\n",
       "      <th>68710</th>\n",
       "      <td>2016-11-14</td>\n",
       "      <td>EIA59636</td>\n",
       "    </tr>\n",
       "    <tr>\n",
       "      <th>68730</th>\n",
       "      <td>2016-12-23</td>\n",
       "      <td>EIA59511</td>\n",
       "    </tr>\n",
       "  </tbody>\n",
       "</table>\n",
       "<p>1223 rows × 2 columns</p>\n",
       "</div>"
      ],
      "text/plain": [
       "          dt_obj  match_id\n",
       "23983 2017-07-09  EIA60640\n",
       "23984 2017-01-19  EIA60764\n",
       "23990 2017-11-29  EIA61437\n",
       "23991 2017-05-12  EIA61425\n",
       "23992 2018-01-26  EIA60681\n",
       "...          ...       ...\n",
       "68697 2016-06-13  EIA58651\n",
       "68700 2018-04-19  EIA62167\n",
       "68704 2016-11-07  EIA61275\n",
       "68710 2016-11-14  EIA59636\n",
       "68730 2016-12-23  EIA59511\n",
       "\n",
       "[1223 rows x 2 columns]"
      ]
     },
     "execution_count": 41,
     "metadata": {},
     "output_type": "execute_result"
    }
   ],
   "source": [
    "dated_slice"
   ]
  },
  {
   "cell_type": "code",
   "execution_count": 42,
   "metadata": {},
   "outputs": [],
   "source": [
    "eia_df['Plant_Code'] = eia_df['Plant_Code'].astype(str)"
   ]
  },
  {
   "cell_type": "code",
   "execution_count": 43,
   "metadata": {},
   "outputs": [],
   "source": [
    "eia_df['plant_match'] = 'EIA'+eia_df['Plant_Code'].astype(str)"
   ]
  },
  {
   "cell_type": "code",
   "execution_count": 44,
   "metadata": {},
   "outputs": [],
   "source": [
    "dated_slice = dated_slice.merge(eia_df[['plant_match','dt_ns']], how='left',left_on='match_id',right_on='plant_match')"
   ]
  },
  {
   "cell_type": "code",
   "execution_count": 45,
   "metadata": {},
   "outputs": [],
   "source": [
    "inds  = (dated_slice['dt_ns']>dt.strptime('2016-06-01','%Y-%m-%d')) & (dated_slice['dt_ns']<dt.strptime('2018-12-31','%Y-%m-%d'))"
   ]
  },
  {
   "cell_type": "code",
   "execution_count": 46,
   "metadata": {},
   "outputs": [
    {
     "data": {
      "text/html": [
       "<div>\n",
       "<style scoped>\n",
       "    .dataframe tbody tr th:only-of-type {\n",
       "        vertical-align: middle;\n",
       "    }\n",
       "\n",
       "    .dataframe tbody tr th {\n",
       "        vertical-align: top;\n",
       "    }\n",
       "\n",
       "    .dataframe thead th {\n",
       "        text-align: right;\n",
       "    }\n",
       "</style>\n",
       "<table border=\"1\" class=\"dataframe\">\n",
       "  <thead>\n",
       "    <tr style=\"text-align: right;\">\n",
       "      <th></th>\n",
       "      <th>dt_obj</th>\n",
       "      <th>match_id</th>\n",
       "      <th>plant_match</th>\n",
       "      <th>dt_ns</th>\n",
       "    </tr>\n",
       "  </thead>\n",
       "  <tbody>\n",
       "    <tr>\n",
       "      <th>0</th>\n",
       "      <td>2017-07-09</td>\n",
       "      <td>EIA60640</td>\n",
       "      <td>EIA60640</td>\n",
       "      <td>2017-09-01</td>\n",
       "    </tr>\n",
       "    <tr>\n",
       "      <th>1</th>\n",
       "      <td>2017-01-19</td>\n",
       "      <td>EIA60764</td>\n",
       "      <td>EIA60764</td>\n",
       "      <td>2016-12-01</td>\n",
       "    </tr>\n",
       "    <tr>\n",
       "      <th>2</th>\n",
       "      <td>2017-11-29</td>\n",
       "      <td>EIA61437</td>\n",
       "      <td>EIA61437</td>\n",
       "      <td>2018-01-01</td>\n",
       "    </tr>\n",
       "    <tr>\n",
       "      <th>3</th>\n",
       "      <td>2017-05-12</td>\n",
       "      <td>EIA61425</td>\n",
       "      <td>EIA61425</td>\n",
       "      <td>2017-10-01</td>\n",
       "    </tr>\n",
       "    <tr>\n",
       "      <th>4</th>\n",
       "      <td>2018-01-26</td>\n",
       "      <td>EIA60681</td>\n",
       "      <td>EIA60681</td>\n",
       "      <td>2018-08-01</td>\n",
       "    </tr>\n",
       "    <tr>\n",
       "      <th>...</th>\n",
       "      <td>...</td>\n",
       "      <td>...</td>\n",
       "      <td>...</td>\n",
       "      <td>...</td>\n",
       "    </tr>\n",
       "    <tr>\n",
       "      <th>95</th>\n",
       "      <td>2018-06-30</td>\n",
       "      <td>EIA62486</td>\n",
       "      <td>EIA62486</td>\n",
       "      <td>2019-05-01</td>\n",
       "    </tr>\n",
       "    <tr>\n",
       "      <th>96</th>\n",
       "      <td>2016-08-21</td>\n",
       "      <td>EIA59180</td>\n",
       "      <td>EIA59180</td>\n",
       "      <td>2015-10-01</td>\n",
       "    </tr>\n",
       "    <tr>\n",
       "      <th>97</th>\n",
       "      <td>2017-09-28</td>\n",
       "      <td>EIA61608</td>\n",
       "      <td>EIA61608</td>\n",
       "      <td>2018-06-01</td>\n",
       "    </tr>\n",
       "    <tr>\n",
       "      <th>98</th>\n",
       "      <td>2017-09-02</td>\n",
       "      <td>EIA60640</td>\n",
       "      <td>EIA60640</td>\n",
       "      <td>2017-09-01</td>\n",
       "    </tr>\n",
       "    <tr>\n",
       "      <th>99</th>\n",
       "      <td>2017-08-18</td>\n",
       "      <td>EIA60863</td>\n",
       "      <td>EIA60863</td>\n",
       "      <td>2017-11-01</td>\n",
       "    </tr>\n",
       "  </tbody>\n",
       "</table>\n",
       "<p>100 rows × 4 columns</p>\n",
       "</div>"
      ],
      "text/plain": [
       "       dt_obj  match_id plant_match      dt_ns\n",
       "0  2017-07-09  EIA60640    EIA60640 2017-09-01\n",
       "1  2017-01-19  EIA60764    EIA60764 2016-12-01\n",
       "2  2017-11-29  EIA61437    EIA61437 2018-01-01\n",
       "3  2017-05-12  EIA61425    EIA61425 2017-10-01\n",
       "4  2018-01-26  EIA60681    EIA60681 2018-08-01\n",
       "..        ...       ...         ...        ...\n",
       "95 2018-06-30  EIA62486    EIA62486 2019-05-01\n",
       "96 2016-08-21  EIA59180    EIA59180 2015-10-01\n",
       "97 2017-09-28  EIA61608    EIA61608 2018-06-01\n",
       "98 2017-09-02  EIA60640    EIA60640 2017-09-01\n",
       "99 2017-08-18  EIA60863    EIA60863 2017-11-01\n",
       "\n",
       "[100 rows x 4 columns]"
      ]
     },
     "execution_count": 46,
     "metadata": {},
     "output_type": "execute_result"
    }
   ],
   "source": [
    "dated_slice.head(100)"
   ]
  },
  {
   "cell_type": "code",
   "execution_count": 47,
   "metadata": {},
   "outputs": [],
   "source": [
    "dated_slice['dt_del'] = dated_slice.loc[inds,'dt_obj'] - dated_slice.loc[inds,'dt_ns']\n",
    "# our install in days - eia installation in days for US-matched"
   ]
  },
  {
   "cell_type": "code",
   "execution_count": 52,
   "metadata": {},
   "outputs": [
    {
     "data": {
      "image/png": "[encoded data removed]",
      "text/plain": [
       "<Figure size 432x432 with 1 Axes>"
      ]
     },
     "metadata": {
      "needs_background": "light"
     },
     "output_type": "display_data"
    }
   ],
   "source": [
    "fig, ax = plt.subplots(1,1,figsize=(6,6))\n",
    "dated_slice['dt_del'].dt.days.hist(bins=20, ax=ax, density=True, histtype='step',color='k', lw=3)\n",
    "ax.set_yticklabels([])\n",
    "ax.grid(False)\n",
    "ax.set_ylabel('Freq')\n",
    "ax.axvline(dated_slice['dt_del'].dt.days.mean(),c='r')\n",
    "ax.axvline(dated_slice['dt_del'].dt.days.median(),c='r', ls=':')\n",
    "ax.text(-850,0.0035,f'mean:    {dated_slice[\"dt_del\"].dt.days.mean():.2f}\\nmedian: {dated_slice[\"dt_del\"].dt.days.median():.2f}\\nstd:        {dated_slice[\"dt_del\"].dt.days.std():.0f}', c='r')\n",
    "ax.set_xlabel('Installation Date Lag (days)')\n",
    "plt.savefig(os.path.join(root,'makefigs','install_date_US.png'))\n",
    "plt.show()"
   ]
  },
  {
   "cell_type": "code",
   "execution_count": null,
   "metadata": {},
   "outputs": [],
   "source": [
    "dated_slice['dt_del']"
   ]
  },
  {
   "cell_type": "code",
   "execution_count": null,
   "metadata": {},
   "outputs": [],
   "source": [
    "dated_slice['diff_days'] = dated_slice['dt_del'].dt.days"
   ]
  },
  {
   "cell_type": "code",
   "execution_count": null,
   "metadata": {},
   "outputs": [],
   "source": [
    "eia_df = eia_df.merge(dated_slice[['dt_obj','diff_days','dt_ns','match_id']], how='left',left_on='plant_match',right_on='match_id')"
   ]
  },
  {
   "cell_type": "code",
   "execution_count": null,
   "metadata": {},
   "outputs": [],
   "source": [
    "eia_df = eia_df.drop(columns=['dt_ns_x']).rename(columns={'dt_ns_y':'date_eia','dt_obj':'date_ours'}).sort_values('diff_days')"
   ]
  },
  {
   "cell_type": "code",
   "execution_count": null,
   "metadata": {},
   "outputs": [],
   "source": [
    "matched_for_inspection = eia_df[~eia_df['match_id'].isna()].merge(gdf[~gdf['match_id'].isna()][['geometry','match_id']], how='left',left_on='match_id', right_on='match_id')"
   ]
  },
  {
   "cell_type": "code",
   "execution_count": null,
   "metadata": {},
   "outputs": [],
   "source": [
    "matched_for_inspection = matched_for_inspection.rename(columns={'geometry_x':'geometry_eiapt','geometry_y':'geometry_ourpolys'})"
   ]
  },
  {
   "cell_type": "code",
   "execution_count": null,
   "metadata": {},
   "outputs": [],
   "source": [
    "matched_for_inspection.to_csv('./US_matched.csv')"
   ]
  },
  {
   "cell_type": "code",
   "execution_count": null,
   "metadata": {},
   "outputs": [],
   "source": [
    "matched_for_inspection"
   ]
  },
  {
   "cell_type": "code",
   "execution_count": null,
   "metadata": {},
   "outputs": [],
   "source": [
    "from shapely import geometry"
   ]
  },
  {
   "cell_type": "code",
   "execution_count": null,
   "metadata": {},
   "outputs": [],
   "source": [
    "geometry.Polygon.representative_point"
   ]
  },
  {
   "cell_type": "code",
   "execution_count": null,
   "metadata": {},
   "outputs": [],
   "source": [
    "matched_for_inspection['geometry_ourpt'] = matched_for_inspection['geometry_ourpolys'].apply(geometry.Polygon.representative_point)"
   ]
  },
  {
   "cell_type": "code",
   "execution_count": null,
   "metadata": {},
   "outputs": [],
   "source": [
    "matched_for_inspection"
   ]
  },
  {
   "cell_type": "code",
   "execution_count": null,
   "metadata": {},
   "outputs": [],
   "source": [
    "matched_for_inspection[['Plant_Name','Utility_Na','geometry_eiapt','date_ours','date_eia','diff_days','geometry_ourpt','match_id']].to_csv(os.path.join(root,'data','US_install_date_summary.csv'))"
   ]
  },
  {
   "cell_type": "code",
   "execution_count": null,
   "metadata": {},
   "outputs": [],
   "source": [
    "matched_for_inspection['our_3395']= gpd.GeoDataFrame(matched_for_inspection, geometry=matched_for_inspection['geometry_ourpt'], crs='epsg:4326').to_crs('epsg:3395').geometry\n",
    "matched_for_inspection['eia_3395']= gpd.GeoDataFrame(matched_for_inspection, geometry=matched_for_inspection['geometry_eiapt'], crs='epsg:4326').to_crs('epsg:3395').geometry"
   ]
  },
  {
   "cell_type": "code",
   "execution_count": null,
   "metadata": {},
   "outputs": [],
   "source": [
    "matched_for_inspection"
   ]
  },
  {
   "cell_type": "code",
   "execution_count": null,
   "metadata": {},
   "outputs": [],
   "source": [
    "from geopy.distance import distance"
   ]
  },
  {
   "cell_type": "code",
   "execution_count": null,
   "metadata": {},
   "outputs": [],
   "source": [
    "a = geometry.Point(0,50)\n",
    "b = geometry.Point(1,50)"
   ]
  },
  {
   "cell_type": "code",
   "execution_count": null,
   "metadata": {},
   "outputs": [],
   "source": [
    "(a.x, a.y)"
   ]
  },
  {
   "cell_type": "code",
   "execution_count": null,
   "metadata": {},
   "outputs": [],
   "source": [
    "distance((a.x, a.y),(b.x, b.y))"
   ]
  },
  {
   "cell_type": "code",
   "execution_count": null,
   "metadata": {},
   "outputs": [],
   "source": []
  },
  {
   "cell_type": "code",
   "execution_count": null,
   "metadata": {},
   "outputs": [],
   "source": []
  },
  {
   "cell_type": "code",
   "execution_count": null,
   "metadata": {},
   "outputs": [],
   "source": [
    "dated_slice.loc[dated_slice['dt_del'].dt.days<-750,:]"
   ]
  },
  {
   "cell_type": "code",
   "execution_count": null,
   "metadata": {},
   "outputs": [],
   "source": [
    "eia_df.loc[eia_df['Plant_Code'].isin(dated_slice.loc[dated_slice['dt_del'].dt.days<-750,'match_id'])]"
   ]
  },
  {
   "cell_type": "code",
   "execution_count": null,
   "metadata": {},
   "outputs": [],
   "source": []
  },
  {
   "cell_type": "code",
   "execution_count": null,
   "metadata": {},
   "outputs": [],
   "source": []
  },
  {
   "cell_type": "code",
   "execution_count": null,
   "metadata": {},
   "outputs": [],
   "source": [
    "\" we spot check XX installations at the extreme of the distribution.\""
   ]
  },
  {
   "cell_type": "code",
   "execution_count": null,
   "metadata": {},
   "outputs": [],
   "source": [
    "gdf.loc[(gdf['iso-3166-1']=='US') ,'capacity_mw'].max()"
   ]
  },
  {
   "cell_type": "code",
   "execution_count": null,
   "metadata": {},
   "outputs": [],
   "source": [
    "gdf.loc[gdf['area']<100,'capacity_mw'].sum()"
   ]
  },
  {
   "cell_type": "code",
   "execution_count": null,
   "metadata": {},
   "outputs": [],
   "source": []
  },
  {
   "cell_type": "code",
   "execution_count": null,
   "metadata": {},
   "outputs": [],
   "source": [
    "(dated_slice.loc[dated_slice['dt_ns']>dt.strptime('2016-06-01','%Y-%m-%d'),'dt_obj'] - dated_slice.loc[dated_slice['dt_ns']>dt.strptime('2016-06-01','%Y-%m-%d'),'dt_ns']).mean()"
   ]
  },
  {
   "cell_type": "code",
   "execution_count": null,
   "metadata": {},
   "outputs": [],
   "source": [
    "eia_df"
   ]
  },
  {
   "cell_type": "code",
   "execution_count": null,
   "metadata": {},
   "outputs": [],
   "source": []
  },
  {
   "cell_type": "code",
   "execution_count": null,
   "metadata": {},
   "outputs": [],
   "source": []
  },
  {
   "cell_type": "markdown",
   "metadata": {},
   "source": [
    "### Compare WRI, WEPP, IHS"
   ]
  },
  {
   "cell_type": "code",
   "execution_count": null,
   "metadata": {},
   "outputs": [],
   "source": [
    "wri_df = pd.read_csv(os.path.join(root, 'data','WRI_gppd.csv'))"
   ]
  },
  {
   "cell_type": "code",
   "execution_count": null,
   "metadata": {},
   "outputs": [],
   "source": [
    "ihs_df = pd.read_csv(os.path.join(root,'data','ihs_plants_overview.csv'))"
   ]
  },
  {
   "cell_type": "code",
   "execution_count": null,
   "metadata": {},
   "outputs": [],
   "source": [
    "\n",
    "ihs_df = ihs_df[(ihs_df['primary_fuel_types'].isin(solar_types)) & (ihs_df['plant_type']=='Renewable')]"
   ]
  },
  {
   "cell_type": "code",
   "execution_count": null,
   "metadata": {},
   "outputs": [],
   "source": [
    "iso2 = pd.read_csv(os.path.join(root,'data','iso2.csv'))"
   ]
  },
  {
   "cell_type": "code",
   "execution_count": null,
   "metadata": {},
   "outputs": [],
   "source": [
    "iso2['country_lower'] = iso2['country'].str.lower()"
   ]
  },
  {
   "cell_type": "code",
   "execution_count": null,
   "metadata": {},
   "outputs": [],
   "source": [
    "iso_dict = dict(iso2[['country_lower','iso2']].values.tolist())"
   ]
  },
  {
   "cell_type": "code",
   "execution_count": null,
   "metadata": {},
   "outputs": [],
   "source": [
    "ext = {'brunei':'BN',\n",
    "'democratic republic of congo':'CD',\n",
    "'fyrom (macedonia)':'MK',\n",
    "'laos':'LA',\n",
    "'reunion':'RE',\n",
    "'russia':'RU',\n",
    "'south korea':'KR',\n",
    "'syria':'SY',\n",
    "'taiwan':'TW',\n",
    "'u.s. virgin islands':'US',\n",
    "'uae - abu dhabi':'AE',\n",
    "'uae - dubai':'AE',\n",
    "'uae - ras al khaimah':'AE',\n",
    "'united states':'US',\n",
    "'vietnam':'VN'}"
   ]
  },
  {
   "cell_type": "code",
   "execution_count": null,
   "metadata": {},
   "outputs": [],
   "source": [
    "iso_dict.update(ext)"
   ]
  },
  {
   "cell_type": "code",
   "execution_count": null,
   "metadata": {},
   "outputs": [],
   "source": [
    "ihs_df['iso2']= ihs_df.country_name.str.lower().map(iso_dict)"
   ]
  },
  {
   "cell_type": "code",
   "execution_count": null,
   "metadata": {
    "scrolled": false
   },
   "outputs": [],
   "source": [
    "for iso2 in ['CN','JP','US','DE','IT']:\n",
    "    print(ihs_df.loc[(ihs_df['on_line_year']<2019)&(ihs_df['iso2']==iso2),'total_plant_mwatt'].sum())"
   ]
  },
  {
   "cell_type": "code",
   "execution_count": null,
   "metadata": {},
   "outputs": [],
   "source": [
    "solar_types = [str(cc) for cc in ihs_df['primary_fuel_types'].unique() if 'Solar' in str(cc)]"
   ]
  },
  {
   "cell_type": "code",
   "execution_count": null,
   "metadata": {},
   "outputs": [],
   "source": [
    "wri_df = wri_df.merge(iso2[['iso3','iso2']], how='left',left_on='country', right_on='iso3')"
   ]
  },
  {
   "cell_type": "code",
   "execution_count": null,
   "metadata": {},
   "outputs": [],
   "source": [
    "for iso2_str in ['CN','JP','US','DE','IT']:\n",
    "    print(iso2_str,wri_df.loc[(wri_df['commissioning_year'].astype(float)<2019)&(wri_df['iso2']==iso2_str)&(wri_df['fuel1']=='Solar'),'capacity_mw'])"
   ]
  },
  {
   "cell_type": "code",
   "execution_count": null,
   "metadata": {},
   "outputs": [],
   "source": [
    "wepp_df = pd.read_csv(os.path.join(root,'data','wepp_allunits.csv'), encoding='Latin-1')"
   ]
  },
  {
   "cell_type": "code",
   "execution_count": null,
   "metadata": {},
   "outputs": [],
   "source": [
    "tally=0\n",
    "for country in wepp_df.COUNTRY.unique():\n",
    "    add = wepp_df.loc[(wepp_df.COUNTRY==country)&(wepp_df['FUEL']=='SUN') & ((wepp_df['STATUS']=='OPR') | (wepp_df['YEAR']<=2018)),'MW']\n",
    "    tally+=add.sum()\n",
    "    print (tally, country, add.sum(), len(add))"
   ]
  },
  {
   "cell_type": "code",
   "execution_count": null,
   "metadata": {},
   "outputs": [],
   "source": [
    "for country in ['CHINA','JAPAN','USA','GERMANY','ITALY']:\n",
    "    add = wepp_df.loc[(wepp_df.COUNTRY==country)&(wepp_df['FUEL']=='SUN') & ((wepp_df['STATUS']=='OPR') | (wepp_df['YEAR']<=2018)),'MW']\n",
    "    print (country, add.sum(), len(add))"
   ]
  },
  {
   "cell_type": "code",
   "execution_count": null,
   "metadata": {},
   "outputs": [],
   "source": [
    "for iso2_str in ['CN','JP','US','DE','IT']:\n",
    "    print (iso2_str,len(gdf.loc[gdf['iso-3166-1']==iso2_str,'capacity_mw']))"
   ]
  },
  {
   "cell_type": "code",
   "execution_count": null,
   "metadata": {},
   "outputs": [],
   "source": [
    "sorted(wri_df['country_long'].unique())"
   ]
  },
  {
   "cell_type": "code",
   "execution_count": null,
   "metadata": {},
   "outputs": [],
   "source": [
    "wri_df.loc[(wri_df['country']=='CN') & (wri_df['fuel1']=='Solar'),'capacity_mw'].sum()"
   ]
  },
  {
   "cell_type": "code",
   "execution_count": null,
   "metadata": {},
   "outputs": [],
   "source": []
  },
  {
   "cell_type": "code",
   "execution_count": null,
   "metadata": {},
   "outputs": [],
   "source": []
  },
  {
   "cell_type": "markdown",
   "metadata": {},
   "source": [
    "### get final numbers"
   ]
  },
  {
   "cell_type": "code",
   "execution_count": null,
   "metadata": {
    "scrolled": false
   },
   "outputs": [],
   "source": [
    "for country_str in gdf[['iso-3166-1','capacity_mw']].groupby('iso-3166-1').sum().sort_values('capacity_mw', ascending=False).index.values:\n",
    "    N = len(gdf.loc[gdf['iso-3166-1']==country_str,'capacity_mw'])\n",
    "    gross = int(gdf.loc[gdf['iso-3166-1']==country_str,'capacity_mw'].sum())\n",
    "    mm = gdf.loc[gdf['iso-3166-1']==country_str,'capacity_mw'].mean()\n",
    "    \n",
    "    print (f'{country_str} & {N:,d} & {gross:,d} & {mm:.2f}' )"
   ]
  },
  {
   "cell_type": "code",
   "execution_count": null,
   "metadata": {},
   "outputs": [],
   "source": [
    "gdf['area'].mean()"
   ]
  },
  {
   "cell_type": "code",
   "execution_count": null,
   "metadata": {},
   "outputs": [],
   "source": [
    "len(gdf['iso-3166-1'].unique())"
   ]
  },
  {
   "cell_type": "code",
   "execution_count": null,
   "metadata": {},
   "outputs": [],
   "source": [
    "38913-61"
   ]
  },
  {
   "cell_type": "code",
   "execution_count": null,
   "metadata": {},
   "outputs": [],
   "source": [
    "for cc in ['A','B','C','D']:\n",
    "    print ((gdf['confidence']==cc).sum()/len(gdf))"
   ]
  },
  {
   "cell_type": "code",
   "execution_count": null,
   "metadata": {},
   "outputs": [],
   "source": []
  }
 ],
 "metadata": {
  "kernelspec": {
   "display_name": "Python 3",
   "language": "python",
   "name": "python3"
  },
  "language_info": {
   "codemirror_mode": {
    "name": "ipython",
    "version": 3
   },
   "file_extension": ".py",
   "mimetype": "text/x-python",
   "name": "python",
   "nbconvert_exporter": "python",
   "pygments_lexer": "ipython3",
   "version": "3.7.6"
  }
 },
 "nbformat": 4,
 "nbformat_minor": 4
}
