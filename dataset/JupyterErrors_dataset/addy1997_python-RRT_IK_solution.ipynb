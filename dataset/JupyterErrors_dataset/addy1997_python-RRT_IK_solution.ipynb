{
 "metadata": {
  "name": "",
  "signature": "sha256:4e30e0346a7d93da36df2f2279845e3c941aa0c0dc8bcbd17ecbb1c8d2ff3f9a"
 },
 "nbformat": 3,
 "nbformat_minor": 0,
 "worksheets": [
  {
   "cells": [
    {
     "cell_type": "code",
     "collapsed": false,
     "input": [
      "#importing all the libraries and dependencies\n",
      "#!/usr/bin/env python\n",
      "\n",
      "from inverse_kin import*\n",
      "import sys\n",
      "import copy\n",
      "import rospy\n",
      "import moveit_commander\n",
      "import moveit_msgs.msg\n",
      "import geometry_msgs.msg\n",
      "from math import pi\n",
      "from std_msgs.msg import String\n",
      "from moveit_commander.conversions import pose_to_list\n",
      "\n",
      "#Initialise the node, robot, scene and group objects\n",
      "\n",
      "moveit_commander.roscpp_initialize(sys.argv)\n",
      "rospy.init_node(\"manipulator\", anonymous=True)\n",
      "\n",
      "robot = moveit_commander.RobotCommander()\n",
      "\n",
      "scene =  moveit_commander.PlanningSceneInterface()\n",
      "\n",
      "group = moveit_commander.MoveGroupCommander(\"manipulator\")\n",
      "\n",
      "\n",
      "#for displaying the trajectory\n",
      "display_trajectory_publisher = rospy.Publisher('/move_group/display_planning_path', moveit_msgs.msg.DisplayTrajectory())\n",
      "\n",
      "\n",
      "#co-ordinates for robot's target point\n",
      "\n",
      "pose_target = geometry_msgs.msg.Pose()\n",
      "pose_target.orientation.w = 0.0\n",
      "pose_target.position.x = 0.25\n",
      "pose_target.position.y = 0.27\n",
      "pose_target.position.z = 0.57\n",
      "group.set_pose_target(pose_target)\n",
      "\n",
      "\n",
      "plan1 = group.plan()\n",
      "\n",
      "#displaying plan 1 \n",
      "display_trajectory = moveit_msgs.msg.DisplayTrajectory()\n",
      "display_trajectory.trajectory_start = robot.get_current_state()\n",
      "display_trajectory.trajectory.append(plan1)\n",
      "display_trajectory_publisher(display_trajectory)\n",
      "\n",
      "\n",
      "rospy.sleep(5)\n",
      "\n",
      "group.go(wait=True)\n",
      "\n",
      "\n"
     ],
     "language": "python",
     "metadata": {},
     "outputs": [
      {
       "ename": "ValueError",
       "evalue": "data_class [model_id: ''\ntrajectory: []\ntrajectory_start: \n  joint_state: \n    header: \n      seq: 0\n      stamp: \n        secs: 0\n        nsecs:         0\n      frame_id: ''\n    name: []\n    position: []\n    velocity: []\n    effort: []\n  multi_dof_joint_state: \n    header: \n      seq: 0\n      stamp: \n        secs: 0\n        nsecs:         0\n      frame_id: ''\n    joint_names: []\n    transforms: []\n    twist: []\n    wrench: []\n  attached_collision_objects: []\n  is_diff: False] is not a class",
       "output_type": "pyerr",
       "traceback": [
        "\u001b[0;31m---------------------------------------------------------------------------\u001b[0m\n\u001b[0;31mValueError\u001b[0m                                Traceback (most recent call last)",
        "\u001b[0;32m<ipython-input-6-38c25c1bf4f5>\u001b[0m in \u001b[0;36m<module>\u001b[0;34m()\u001b[0m\n\u001b[1;32m     26\u001b[0m \u001b[0;34m\u001b[0m\u001b[0m\n\u001b[1;32m     27\u001b[0m \u001b[0;31m#for displaying the trajectory\u001b[0m\u001b[0;34m\u001b[0m\u001b[0;34m\u001b[0m\u001b[0m\n\u001b[0;32m---> 28\u001b[0;31m \u001b[0mdisplay_trajectory_publisher\u001b[0m \u001b[0;34m=\u001b[0m \u001b[0mrospy\u001b[0m\u001b[0;34m.\u001b[0m\u001b[0mPublisher\u001b[0m\u001b[0;34m(\u001b[0m\u001b[0;34m'/move_group/display_planning_path'\u001b[0m\u001b[0;34m,\u001b[0m \u001b[0mmoveit_msgs\u001b[0m\u001b[0;34m.\u001b[0m\u001b[0mmsg\u001b[0m\u001b[0;34m.\u001b[0m\u001b[0mDisplayTrajectory\u001b[0m\u001b[0;34m(\u001b[0m\u001b[0;34m)\u001b[0m\u001b[0;34m)\u001b[0m\u001b[0;34m\u001b[0m\u001b[0m\n\u001b[0m\u001b[1;32m     29\u001b[0m \u001b[0;34m\u001b[0m\u001b[0m\n\u001b[1;32m     30\u001b[0m \u001b[0;34m\u001b[0m\u001b[0m\n",
        "\u001b[0;32m/opt/ros/kinetic/lib/python2.7/dist-packages/rospy/topics.pyc\u001b[0m in \u001b[0;36m__init__\u001b[0;34m(self, name, data_class, subscriber_listener, tcp_nodelay, latch, headers, queue_size)\u001b[0m\n\u001b[1;32m    840\u001b[0m         \u001b[0;34m@\u001b[0m\u001b[0;32mraise\u001b[0m \u001b[0mROSException\u001b[0m\u001b[0;34m:\u001b[0m \u001b[0;32mif\u001b[0m \u001b[0mparameters\u001b[0m \u001b[0mare\u001b[0m \u001b[0minvalid\u001b[0m\u001b[0;34m\u001b[0m\u001b[0m\n\u001b[1;32m    841\u001b[0m         \"\"\"\n\u001b[0;32m--> 842\u001b[0;31m         \u001b[0msuper\u001b[0m\u001b[0;34m(\u001b[0m\u001b[0mPublisher\u001b[0m\u001b[0;34m,\u001b[0m \u001b[0mself\u001b[0m\u001b[0;34m)\u001b[0m\u001b[0;34m.\u001b[0m\u001b[0m__init__\u001b[0m\u001b[0;34m(\u001b[0m\u001b[0mname\u001b[0m\u001b[0;34m,\u001b[0m \u001b[0mdata_class\u001b[0m\u001b[0;34m,\u001b[0m \u001b[0mRegistration\u001b[0m\u001b[0;34m.\u001b[0m\u001b[0mPUB\u001b[0m\u001b[0;34m)\u001b[0m\u001b[0;34m\u001b[0m\u001b[0m\n\u001b[0m\u001b[1;32m    843\u001b[0m \u001b[0;34m\u001b[0m\u001b[0m\n\u001b[1;32m    844\u001b[0m         \u001b[0;32mif\u001b[0m \u001b[0msubscriber_listener\u001b[0m\u001b[0;34m:\u001b[0m\u001b[0;34m\u001b[0m\u001b[0m\n",
        "\u001b[0;32m/opt/ros/kinetic/lib/python2.7/dist-packages/rospy/topics.pyc\u001b[0m in \u001b[0;36m__init__\u001b[0;34m(self, name, data_class, reg_type)\u001b[0m\n\u001b[1;32m    140\u001b[0m             \u001b[0;32mraise\u001b[0m \u001b[0mValueError\u001b[0m\u001b[0;34m(\u001b[0m\u001b[0;34m\"topic parameter 'data_class' is not initialized\"\u001b[0m\u001b[0;34m)\u001b[0m\u001b[0;34m\u001b[0m\u001b[0m\n\u001b[1;32m    141\u001b[0m         \u001b[0;32mif\u001b[0m \u001b[0;32mnot\u001b[0m \u001b[0mtype\u001b[0m\u001b[0;34m(\u001b[0m\u001b[0mdata_class\u001b[0m\u001b[0;34m)\u001b[0m \u001b[0;34m==\u001b[0m \u001b[0mtype\u001b[0m\u001b[0;34m:\u001b[0m\u001b[0;34m\u001b[0m\u001b[0m\n\u001b[0;32m--> 142\u001b[0;31m             \u001b[0;32mraise\u001b[0m \u001b[0mValueError\u001b[0m\u001b[0;34m(\u001b[0m\u001b[0;34m\"data_class [%s] is not a class\"\u001b[0m\u001b[0;34m%\u001b[0m\u001b[0mdata_class\u001b[0m\u001b[0;34m)\u001b[0m\u001b[0;34m\u001b[0m\u001b[0m\n\u001b[0m\u001b[1;32m    143\u001b[0m         \u001b[0;32mif\u001b[0m \u001b[0;32mnot\u001b[0m \u001b[0missubclass\u001b[0m\u001b[0;34m(\u001b[0m\u001b[0mdata_class\u001b[0m\u001b[0;34m,\u001b[0m \u001b[0mgenpy\u001b[0m\u001b[0;34m.\u001b[0m\u001b[0mMessage\u001b[0m\u001b[0;34m)\u001b[0m\u001b[0;34m:\u001b[0m\u001b[0;34m\u001b[0m\u001b[0m\n\u001b[1;32m    144\u001b[0m             \u001b[0;32mraise\u001b[0m \u001b[0mValueError\u001b[0m\u001b[0;34m(\u001b[0m\u001b[0;34m\"data_class [%s] is not a message data class\"\u001b[0m\u001b[0;34m%\u001b[0m\u001b[0mdata_class\u001b[0m\u001b[0;34m.\u001b[0m\u001b[0m__class__\u001b[0m\u001b[0;34m.\u001b[0m\u001b[0m__name__\u001b[0m\u001b[0;34m)\u001b[0m\u001b[0;34m\u001b[0m\u001b[0m\n",
        "\u001b[0;31mValueError\u001b[0m: data_class [model_id: ''\ntrajectory: []\ntrajectory_start: \n  joint_state: \n    header: \n      seq: 0\n      stamp: \n        secs: 0\n        nsecs:         0\n      frame_id: ''\n    name: []\n    position: []\n    velocity: []\n    effort: []\n  multi_dof_joint_state: \n    header: \n      seq: 0\n      stamp: \n        secs: 0\n        nsecs:         0\n      frame_id: ''\n    joint_names: []\n    transforms: []\n    twist: []\n    wrench: []\n  attached_collision_objects: []\n  is_diff: False] is not a class"
       ]
      }
     ],
     "prompt_number": 6
    },
    {
     "cell_type": "code",
     "collapsed": false,
     "input": [],
     "language": "python",
     "metadata": {},
     "outputs": [],
     "prompt_number": 2
    },
    {
     "cell_type": "code",
     "collapsed": false,
     "input": [],
     "language": "python",
     "metadata": {},
     "outputs": [],
     "prompt_number": 2
    },
    {
     "cell_type": "code",
     "collapsed": false,
     "input": [],
     "language": "python",
     "metadata": {},
     "outputs": []
    }
   ],
   "metadata": {}
  }
 ]
}