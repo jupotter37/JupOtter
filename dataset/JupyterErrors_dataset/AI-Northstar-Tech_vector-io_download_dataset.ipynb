{
 "cells": [
  {
   "cell_type": "code",
   "execution_count": 4,
   "metadata": {},
   "outputs": [],
   "source": [
    "!source ~/.zshrc"
   ]
  },
  {
   "cell_type": "code",
   "execution_count": 13,
   "metadata": {},
   "outputs": [
    {
     "name": "stderr",
     "output_type": "stream",
     "text": [
      "Downloading readme: 100%|██████████| 468/468 [00:00<00:00, 2.14MB/s]\n"
     ]
    }
   ],
   "source": [
    "from datasets import load_dataset\n",
    "import os\n",
    "\n",
    "dataset = load_dataset(\"aintech/vdf_PC_ANN_Fashion-MNIST_d784_euclidean\")"
   ]
  },
  {
   "cell_type": "code",
   "execution_count": 14,
   "metadata": {},
   "outputs": [
    {
     "ename": "AttributeError",
     "evalue": "'IterableDatasetDict' object has no attribute 'shape'",
     "output_type": "error",
     "traceback": [
      "\u001b[0;31m---------------------------------------------------------------------------\u001b[0m",
      "\u001b[0;31mAttributeError\u001b[0m                            Traceback (most recent call last)",
      "Cell \u001b[0;32mIn[14], line 14\u001b[0m\n\u001b[1;32m      7\u001b[0m repo_id \u001b[38;5;241m=\u001b[39m \u001b[38;5;124mf\u001b[39m\u001b[38;5;124m\"\u001b[39m\u001b[38;5;132;01m{\u001b[39;00mos\u001b[38;5;241m.\u001b[39menviron[\u001b[38;5;124m'\u001b[39m\u001b[38;5;124mHF_USERNAME\u001b[39m\u001b[38;5;124m'\u001b[39m]\u001b[38;5;132;01m}\u001b[39;00m\u001b[38;5;124m/\u001b[39m\u001b[38;5;132;01m{\u001b[39;00mfolder_path\u001b[38;5;132;01m}\u001b[39;00m\u001b[38;5;124m\"\u001b[39m\n\u001b[1;32m      8\u001b[0m hf_api\u001b[38;5;241m.\u001b[39mcreate_repo(\n\u001b[1;32m      9\u001b[0m     token\u001b[38;5;241m=\u001b[39mos\u001b[38;5;241m.\u001b[39menviron[\u001b[38;5;124m\"\u001b[39m\u001b[38;5;124mHUGGING_FACE_TOKEN\u001b[39m\u001b[38;5;124m\"\u001b[39m],\n\u001b[1;32m     10\u001b[0m     repo_id\u001b[38;5;241m=\u001b[39mrepo_id,\n\u001b[1;32m     11\u001b[0m     repo_type\u001b[38;5;241m=\u001b[39m\u001b[38;5;124m\"\u001b[39m\u001b[38;5;124mdataset\u001b[39m\u001b[38;5;124m\"\u001b[39m,\n\u001b[1;32m     12\u001b[0m     exist_ok\u001b[38;5;241m=\u001b[39m\u001b[38;5;28;01mTrue\u001b[39;00m,\n\u001b[1;32m     13\u001b[0m )\n\u001b[0;32m---> 14\u001b[0m \u001b[38;5;28;01mfor\u001b[39;00m split \u001b[38;5;129;01min\u001b[39;00m \u001b[38;5;28mlist\u001b[39m(\u001b[43mdataset\u001b[49m\u001b[38;5;241;43m.\u001b[39;49m\u001b[43mshape\u001b[49m\u001b[38;5;241m.\u001b[39mkeys()):\n\u001b[1;32m     15\u001b[0m     dataset[split]\u001b[38;5;241m.\u001b[39mselect(indices\u001b[38;5;241m=\u001b[39m\u001b[38;5;28mrange\u001b[39m(num_rows))\u001b[38;5;241m.\u001b[39mpush_to_hub(\n\u001b[1;32m     16\u001b[0m         repo_id\u001b[38;5;241m=\u001b[39mrepo_id,\n\u001b[1;32m     17\u001b[0m         split\u001b[38;5;241m=\u001b[39msplit,\n\u001b[1;32m     18\u001b[0m         token\u001b[38;5;241m=\u001b[39mos\u001b[38;5;241m.\u001b[39menviron[\u001b[38;5;124m\"\u001b[39m\u001b[38;5;124mHUGGING_FACE_TOKEN\u001b[39m\u001b[38;5;124m\"\u001b[39m],\n\u001b[1;32m     19\u001b[0m     )\n",
      "\u001b[0;31mAttributeError\u001b[0m: 'IterableDatasetDict' object has no attribute 'shape'"
     ]
    }
   ],
   "source": [
    "from huggingface_hub import HfApi\n",
    "\n",
    "dataset_name = \"aintech/vdf_PC_ANN_Fashion-MNIST_d784_euclidean\"\n",
    "num_rows = 2000\n",
    "hf_api = HfApi(token=os.environ[\"HUGGING_FACE_TOKEN\"])\n",
    "folder_path = f\"{dataset_name.split('/')[-1]}_sample_{num_rows}\"\n",
    "repo_id = f\"{os.environ['HF_USERNAME']}/{folder_path}\"\n",
    "hf_api.create_repo(\n",
    "    token=os.environ[\"HUGGING_FACE_TOKEN\"],\n",
    "    repo_id=repo_id,\n",
    "    repo_type=\"dataset\",\n",
    "    exist_ok=True,\n",
    ")\n",
    "for split in list(dataset.shape.keys()):\n",
    "    dataset[split].select(indices=range(num_rows)).push_to_hub(\n",
    "        repo_id=repo_id,\n",
    "        split=split,\n",
    "        token=os.environ[\"HUGGING_FACE_TOKEN\"],\n",
    "    )"
   ]
  },
  {
   "cell_type": "code",
   "execution_count": 9,
   "metadata": {},
   "outputs": [
    {
     "name": "stderr",
     "output_type": "stream",
     "text": [
      "Saving the dataset (1/1 shards): 100%|██████████| 60000/60000 [00:00<00:00, 64374.16 examples/s]\n"
     ]
    }
   ],
   "source": [
    "dataset.save_to_disk(os.path.join(os.getcwd(), \"data\"))"
   ]
  },
  {
   "cell_type": "code",
   "execution_count": 19,
   "metadata": {},
   "outputs": [
    {
     "name": "stderr",
     "output_type": "stream",
     "text": [
      "Saving the dataset (1/1 shards): 100%|██████████| 100/100 [00:00<00:00, 10200.90 examples/s]\n"
     ]
    }
   ],
   "source": [
    "dataset[\"train\"].select(range(100)).save_to_disk(\n",
    "    os.path.join(os.getcwd(), \"data\", \"sample_100\")\n",
    ")\n",
    "# .push_to_hub(\"aintech/vdf_PC_ANN_Fashion-MNIST_d784_euclidean_sample_100\")"
   ]
  },
  {
   "cell_type": "code",
   "execution_count": null,
   "metadata": {},
   "outputs": [],
   "source": []
  }
 ],
 "metadata": {
  "kernelspec": {
   "display_name": "base",
   "language": "python",
   "name": "python3"
  },
  "language_info": {
   "codemirror_mode": {
    "name": "ipython",
    "version": 3
   },
   "file_extension": ".py",
   "mimetype": "text/x-python",
   "name": "python",
   "nbconvert_exporter": "python",
   "pygments_lexer": "ipython3",
   "version": "3.10.12"
  }
 },
 "nbformat": 4,
 "nbformat_minor": 2
}
