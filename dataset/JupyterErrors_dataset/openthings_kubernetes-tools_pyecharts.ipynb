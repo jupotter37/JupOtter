{
 "cells": [
  {
   "cell_type": "code",
   "execution_count": 1,
   "metadata": {},
   "outputs": [
    {
     "name": "stdout",
     "output_type": "stream",
     "text": [
      "Collecting pyecharts\n",
      "\u001b[?25l  Downloading https://files.pythonhosted.org/packages/1c/a8/45e5f87ee326fbb48d36650ebb705691e4383529be0ab3281a8a8bffca09/pyecharts-0.5.5-py2.py3-none-any.whl (112kB)\n",
      "\u001b[K    100% |████████████████████████████████| 122kB 243kB/s \n",
      "\u001b[?25hCollecting lml==0.0.2 (from pyecharts)\n",
      "  Downloading https://files.pythonhosted.org/packages/8a/6f/0eb22694df07072ea467effdbb8e313222a21788ea7914773f59fd2bb857/lml-0.0.2-py2.py3-none-any.whl\n",
      "Requirement already satisfied: pillow in /opt/conda/lib/python3.6/site-packages (from pyecharts) (5.1.0)\n",
      "Collecting future (from pyecharts)\n",
      "\u001b[?25l  Downloading https://files.pythonhosted.org/packages/00/2b/8d082ddfed935f3608cc61140df6dcbf0edea1bc3ab52fb6c29ae3e81e85/future-0.16.0.tar.gz (824kB)\n",
      "\u001b[K    100% |████████████████████████████████| 829kB 417kB/s \n",
      "\u001b[?25hCollecting jupyter-echarts-pypkg==0.1.1 (from pyecharts)\n",
      "\u001b[?25l  Downloading https://files.pythonhosted.org/packages/d9/6d/3ab8c03c0b4cbcf6f7c2ce2c8643f91b8e59ed90fdb072ba3a2731658a7f/jupyter-echarts-pypkg-0.1.1.tar.gz (514kB)\n",
      "\u001b[K    100% |████████████████████████████████| 522kB 459kB/s \n",
      "\u001b[?25hCollecting pyecharts-javascripthon==0.0.6 (from pyecharts)\n",
      "  Downloading https://files.pythonhosted.org/packages/6f/68/23644a394341fef4cbcb48a3fa4b2816408a13a1fa3281cf9030b2ac2d67/pyecharts_javascripthon-0.0.6-py2.py3-none-any.whl\n",
      "Requirement already satisfied: jinja2 in /opt/conda/lib/python3.6/site-packages (from pyecharts) (2.10)\n",
      "Requirement already satisfied: pyecharts-jupyter-installer==0.0.3 in /opt/conda/lib/python3.6/site-packages (from jupyter-echarts-pypkg==0.1.1->pyecharts) (0.0.3)\n",
      "Collecting javascripthon>=0.10; python_version > \"3.4\" (from pyecharts-javascripthon==0.0.6->pyecharts)\n",
      "\u001b[?25l  Downloading https://files.pythonhosted.org/packages/ea/ef/b46401e181768b3738660f5dc1f7ea0b334ed17fff685a61503d2989e77e/javascripthon-0.10.tar.gz (538kB)\n",
      "\u001b[K    100% |████████████████████████████████| 542kB 699kB/s \n",
      "\u001b[?25hRequirement already satisfied: MarkupSafe>=0.23 in /opt/conda/lib/python3.6/site-packages (from jinja2->pyecharts) (1.0)\n",
      "Requirement already satisfied: setuptools in /opt/conda/lib/python3.6/site-packages (from javascripthon>=0.10; python_version > \"3.4\"->pyecharts-javascripthon==0.0.6->pyecharts) (39.2.0)\n",
      "Collecting dukpy (from javascripthon>=0.10; python_version > \"3.4\"->pyecharts-javascripthon==0.0.6->pyecharts)\n",
      "\u001b[?25l  Downloading https://files.pythonhosted.org/packages/c0/35/bd9622ca394e205614fbc8959cd2def6f0e13b3fc7f92ebb7cd094db9c16/dukpy-0.2.0-cp36-cp36m-manylinux1_x86_64.whl (2.0MB)\n",
      "\u001b[K    100% |████████████████████████████████| 2.0MB 119kB/s \n",
      "\u001b[?25hCollecting macropy3==1.1.0b2 (from javascripthon>=0.10; python_version > \"3.4\"->pyecharts-javascripthon==0.0.6->pyecharts)\n",
      "\u001b[?25l  Downloading https://files.pythonhosted.org/packages/8c/b7/a61f9d9bd7de80ca51ef362db5bb6434ea21484c907d2a5f396d97b0274c/macropy3-1.1.0b2.tar.gz (44kB)\n",
      "\u001b[K    100% |████████████████████████████████| 51kB 114kB/s \n",
      "\u001b[?25hBuilding wheels for collected packages: future, jupyter-echarts-pypkg, javascripthon, macropy3\n",
      "  Running setup.py bdist_wheel for future ... \u001b[?25ldone\n",
      "\u001b[?25h  Stored in directory: /home/jovyan/.cache/pip/wheels/bf/c9/a3/c538d90ef17cf7823fa51fc701a7a7a910a80f6a405bf15b1a\n",
      "  Running setup.py bdist_wheel for jupyter-echarts-pypkg ... \u001b[?25ldone\n",
      "\u001b[?25h  Stored in directory: /home/jovyan/.cache/pip/wheels/89/8a/50/054d67442cc982f8d99931494653eb690e91eacd20463bbef4\n",
      "  Running setup.py bdist_wheel for javascripthon ... \u001b[?25ldone\n",
      "\u001b[?25h  Stored in directory: /home/jovyan/.cache/pip/wheels/f0/a0/6e/5cac90791fefe9c2961f9d5b2fc9b71da8b9b2f927f4012918\n",
      "  Running setup.py bdist_wheel for macropy3 ... \u001b[?25ldone\n",
      "\u001b[?25h  Stored in directory: /home/jovyan/.cache/pip/wheels/ef/ea/95/65744a6a720d5b0b57779da564c68a3e1b221ea998542a78b3\n",
      "Successfully built future jupyter-echarts-pypkg javascripthon macropy3\n",
      "Installing collected packages: lml, future, jupyter-echarts-pypkg, dukpy, macropy3, javascripthon, pyecharts-javascripthon, pyecharts\n",
      "Successfully installed dukpy-0.2.0 future-0.16.0 javascripthon-0.10 jupyter-echarts-pypkg-0.1.1 lml-0.0.2 macropy3-1.1.0b2 pyecharts-0.5.5 pyecharts-javascripthon-0.0.6\n"
     ]
    }
   ],
   "source": [
    "!pip install pyecharts"
   ]
  },
  {
   "cell_type": "code",
   "execution_count": 13,
   "metadata": {},
   "outputs": [],
   "source": [
    "from pyecharts import Bar\n",
    "\n",
    "attr = [\"Jan\", \"Feb\", \"Mar\", \"Apr\", \"May\", \"Jun\", \"Jul\", \"Aug\", \"Sep\", \"Oct\", \"Nov\", \"Dec\"]\n",
    "v1 = [2.0, 4.9, 7.0, 23.2, 25.6, 76.7, 135.6, 162.2, 32.6, 20.0, 6.4, 3.3]\n",
    "v2 = [2.6, 5.9, 9.0, 26.4, 28.7, 70.7, 175.6, 182.2, 48.7, 18.8, 6.0, 2.3]\n",
    "bar = Bar(\"Bar chart\", \"precipitation and evaporation one year\")\n",
    "bar.add(\"precipitation\", attr, v1, mark_line=[\"average\"], mark_point=[\"max\", \"min\"])\n",
    "bar.add(\"evaporation\", attr, v2, mark_line=[\"average\"], mark_point=[\"max\", \"min\"])\n",
    "#bar\n",
    "#bar.render()"
   ]
  },
  {
   "cell_type": "code",
   "execution_count": 19,
   "metadata": {},
   "outputs": [
    {
     "data": {
      "text/plain": [
       "\u001b[0;31mType:\u001b[0m           Bar\n",
       "\u001b[0;31mString form:\u001b[0m    <pyecharts.charts.bar.Bar object at 0x7f455a93c7b8>\n",
       "\u001b[0;31mFile:\u001b[0m           /opt/conda/lib/python3.6/site-packages/pyecharts/charts/bar.py\n",
       "\u001b[0;31mDocstring:\u001b[0m     \n",
       "<<< 柱状图/条形图 >>>\n",
       "\n",
       "柱状/条形图，通过柱形的高度/条形的宽度来表现数据的大小。\n",
       "\u001b[0;31mInit docstring:\u001b[0m\n",
       "       :param title:\n",
       "           主标题文本，支持 \n",
       "换行，默认为 \"\"\n",
       "       :param subtitle:\n",
       "           副标题文本，支持 \n",
       "换行，默认为 \"\"\n",
       "       :param width:\n",
       "           画布宽度，默认为 800（px）\n",
       "       :param height:\n",
       "           画布高度，默认为 400（px）\n",
       "       :param title_pos:\n",
       "           标题距离左侧距离，默认为'left'，有'auto', 'left', 'right',\n",
       "           'center'可选，也可为百分比或整数\n",
       "       :param title_top:\n",
       "           标题距离顶部距离，默认为'top'，有'top', 'middle', 'bottom'可选，\n",
       "           也可为百分比或整数\n",
       "       :param title_color:\n",
       "           主标题文本颜色，默认为 '#000'\n",
       "       :param subtitle_color:\n",
       "           副标题文本颜色，默认为 '#aaa'\n",
       "       :param title_text_size:\n",
       "           主标题文本字体大小，默认为 18\n",
       "       :param subtitle_text_size:\n",
       "           副标题文本字体大小，默认为 12\n",
       "       :param background_color:\n",
       "           画布背景颜色，默认为 '#fff'\n",
       "       :param page_title:\n",
       "           指定生成的 html 文件中 <title> 标签的值。默认为 'Echarts'\n",
       "       :param renderer:\n",
       "           指定使用渲染方式，有 'svg' 和 'canvas' 可选，默认为 'canvas'。\n",
       "           3D 图仅能使用 'canvas'。\n",
       "       \n"
      ]
     },
     "metadata": {},
     "output_type": "display_data"
    }
   ],
   "source": [
    "?bar"
   ]
  },
  {
   "cell_type": "code",
   "execution_count": 15,
   "metadata": {},
   "outputs": [],
   "source": [
    "bar.render()"
   ]
  },
  {
   "cell_type": "code",
   "execution_count": 16,
   "metadata": {},
   "outputs": [
    {
     "ename": "Exception",
     "evalue": "No pyecharts_environment is found for png",
     "output_type": "error",
     "traceback": [
      "\u001b[0;31m---------------------------------------------------------------------------\u001b[0m",
      "\u001b[0;31mException\u001b[0m                                 Traceback (most recent call last)",
      "\u001b[0;32m<ipython-input-16-a1ddd60d2c88>\u001b[0m in \u001b[0;36m<module>\u001b[0;34m()\u001b[0m\n\u001b[0;32m----> 1\u001b[0;31m \u001b[0mbar\u001b[0m\u001b[0;34m.\u001b[0m\u001b[0mrender\u001b[0m\u001b[0;34m(\u001b[0m\u001b[0mpath\u001b[0m\u001b[0;34m=\u001b[0m\u001b[0;34m\"render.png\"\u001b[0m\u001b[0;34m)\u001b[0m\u001b[0;34m\u001b[0m\u001b[0m\n\u001b[0m",
      "\u001b[0;32m/opt/conda/lib/python3.6/site-packages/pyecharts/base.py\u001b[0m in \u001b[0;36mrender\u001b[0;34m(self, path, template_name, object_name, **kwargs)\u001b[0m\n\u001b[1;32m    125\u001b[0m         \u001b[0m_\u001b[0m\u001b[0;34m,\u001b[0m \u001b[0mext\u001b[0m \u001b[0;34m=\u001b[0m \u001b[0mos\u001b[0m\u001b[0;34m.\u001b[0m\u001b[0mpath\u001b[0m\u001b[0;34m.\u001b[0m\u001b[0msplitext\u001b[0m\u001b[0;34m(\u001b[0m\u001b[0mpath\u001b[0m\u001b[0;34m)\u001b[0m\u001b[0;34m\u001b[0m\u001b[0m\n\u001b[1;32m    126\u001b[0m         \u001b[0m_file_type\u001b[0m \u001b[0;34m=\u001b[0m \u001b[0mext\u001b[0m\u001b[0;34m[\u001b[0m\u001b[0;36m1\u001b[0m\u001b[0;34m:\u001b[0m\u001b[0;34m]\u001b[0m\u001b[0;34m\u001b[0m\u001b[0m\n\u001b[0;32m--> 127\u001b[0;31m         \u001b[0menv\u001b[0m \u001b[0;34m=\u001b[0m \u001b[0mengine\u001b[0m\u001b[0;34m.\u001b[0m\u001b[0mcreate_default_environment\u001b[0m\u001b[0;34m(\u001b[0m\u001b[0m_file_type\u001b[0m\u001b[0;34m)\u001b[0m\u001b[0;34m\u001b[0m\u001b[0m\n\u001b[0m\u001b[1;32m    128\u001b[0m         env.render_chart_to_file(\n\u001b[1;32m    129\u001b[0m             \u001b[0mchart\u001b[0m\u001b[0;34m=\u001b[0m\u001b[0mself\u001b[0m\u001b[0;34m,\u001b[0m\u001b[0;34m\u001b[0m\u001b[0m\n",
      "\u001b[0;32m/opt/conda/lib/python3.6/site-packages/pyecharts/engine.py\u001b[0m in \u001b[0;36mcreate_default_environment\u001b[0;34m(file_type)\u001b[0m\n\u001b[1;32m    269\u001b[0m         \u001b[0mpyecharts_config\u001b[0m\u001b[0;34m=\u001b[0m\u001b[0mconfig\u001b[0m\u001b[0;34m,\u001b[0m\u001b[0;34m\u001b[0m\u001b[0m\n\u001b[1;32m    270\u001b[0m         loader=FileSystemLoader(\n\u001b[0;32m--> 271\u001b[0;31m             \u001b[0;34m[\u001b[0m\u001b[0mconfig\u001b[0m\u001b[0;34m.\u001b[0m\u001b[0mecharts_template_dir\u001b[0m\u001b[0;34m,\u001b[0m \u001b[0mdefault_template_dir\u001b[0m\u001b[0;34m]\u001b[0m\u001b[0;34m\u001b[0m\u001b[0m\n\u001b[0m\u001b[1;32m    272\u001b[0m         ),\n\u001b[1;32m    273\u001b[0m     )\n",
      "\u001b[0;32m/opt/conda/lib/python3.6/site-packages/pyecharts/engine.py\u001b[0m in \u001b[0;36mget_a_environment\u001b[0;34m(self, file_type, **kwargs)\u001b[0m\n\u001b[1;32m    249\u001b[0m         \"\"\"\n\u001b[1;32m    250\u001b[0m         _a_echarts_env_cls = super(EnvironmentManager, self).load_me_now(\n\u001b[0;32m--> 251\u001b[0;31m             \u001b[0mkey\u001b[0m\u001b[0;34m=\u001b[0m\u001b[0mfile_type\u001b[0m\u001b[0;34m\u001b[0m\u001b[0m\n\u001b[0m\u001b[1;32m    252\u001b[0m         )\n\u001b[1;32m    253\u001b[0m         \u001b[0;32mreturn\u001b[0m \u001b[0m_a_echarts_env_cls\u001b[0m\u001b[0;34m(\u001b[0m\u001b[0;34m**\u001b[0m\u001b[0mkwargs\u001b[0m\u001b[0;34m)\u001b[0m\u001b[0;34m\u001b[0m\u001b[0m\n",
      "\u001b[0;32m/opt/conda/lib/python3.6/site-packages/lml/plugin.py\u001b[0m in \u001b[0;36mload_me_now\u001b[0;34m(self, key, library, **keywords)\u001b[0m\n\u001b[1;32m    287\u001b[0m             \u001b[0;32mreturn\u001b[0m \u001b[0mcls\u001b[0m\u001b[0;34m\u001b[0m\u001b[0m\n\u001b[1;32m    288\u001b[0m         \u001b[0;32melse\u001b[0m\u001b[0;34m:\u001b[0m\u001b[0;34m\u001b[0m\u001b[0m\n\u001b[0;32m--> 289\u001b[0;31m             \u001b[0mself\u001b[0m\u001b[0;34m.\u001b[0m\u001b[0mraise_exception\u001b[0m\u001b[0;34m(\u001b[0m\u001b[0mkey\u001b[0m\u001b[0;34m)\u001b[0m\u001b[0;34m\u001b[0m\u001b[0m\n\u001b[0m\u001b[1;32m    290\u001b[0m \u001b[0;34m\u001b[0m\u001b[0m\n\u001b[1;32m    291\u001b[0m     \u001b[0;32mdef\u001b[0m \u001b[0mdynamic_load_library\u001b[0m\u001b[0;34m(\u001b[0m\u001b[0mself\u001b[0m\u001b[0;34m,\u001b[0m \u001b[0ma_plugin_info\u001b[0m\u001b[0;34m)\u001b[0m\u001b[0;34m:\u001b[0m\u001b[0;34m\u001b[0m\u001b[0m\n",
      "\u001b[0;32m/opt/conda/lib/python3.6/site-packages/lml/plugin.py\u001b[0m in \u001b[0;36mraise_exception\u001b[0;34m(self, key)\u001b[0m\n\u001b[1;32m    238\u001b[0m         \u001b[0mself\u001b[0m\u001b[0;34m.\u001b[0m\u001b[0m_logger\u001b[0m\u001b[0;34m.\u001b[0m\u001b[0mdebug\u001b[0m\u001b[0;34m(\u001b[0m\u001b[0mself\u001b[0m\u001b[0;34m.\u001b[0m\u001b[0mregistry\u001b[0m\u001b[0;34m.\u001b[0m\u001b[0mkeys\u001b[0m\u001b[0;34m(\u001b[0m\u001b[0;34m)\u001b[0m\u001b[0;34m)\u001b[0m\u001b[0;34m\u001b[0m\u001b[0m\n\u001b[1;32m    239\u001b[0m         raise Exception(\n\u001b[0;32m--> 240\u001b[0;31m             \"No %s is found for %s\" % (self.plugin_name, key))\n\u001b[0m\u001b[1;32m    241\u001b[0m \u001b[0;34m\u001b[0m\u001b[0m\n\u001b[1;32m    242\u001b[0m     \u001b[0;32mdef\u001b[0m \u001b[0mload_me_later\u001b[0m\u001b[0;34m(\u001b[0m\u001b[0mself\u001b[0m\u001b[0;34m,\u001b[0m \u001b[0mplugin_info\u001b[0m\u001b[0;34m)\u001b[0m\u001b[0;34m:\u001b[0m\u001b[0;34m\u001b[0m\u001b[0m\n",
      "\u001b[0;31mException\u001b[0m: No pyecharts_environment is found for png"
     ]
    }
   ],
   "source": [
    "bar.render(path=\"render.png\")"
   ]
  },
  {
   "cell_type": "code",
   "execution_count": 12,
   "metadata": {},
   "outputs": [],
   "source": [
    "from pyecharts import enable_nteract\n",
    "\n",
    "enable_nteract()"
   ]
  },
  {
   "cell_type": "code",
   "execution_count": null,
   "metadata": {},
   "outputs": [],
   "source": []
  }
 ],
 "metadata": {
  "kernelspec": {
   "display_name": "Python 3",
   "language": "python",
   "name": "python3"
  },
  "language_info": {
   "codemirror_mode": {
    "name": "ipython",
    "version": 3
   },
   "file_extension": ".py",
   "mimetype": "text/x-python",
   "name": "python",
   "nbconvert_exporter": "python",
   "pygments_lexer": "ipython3",
   "version": "3.6.5"
  }
 },
 "nbformat": 4,
 "nbformat_minor": 2
}
