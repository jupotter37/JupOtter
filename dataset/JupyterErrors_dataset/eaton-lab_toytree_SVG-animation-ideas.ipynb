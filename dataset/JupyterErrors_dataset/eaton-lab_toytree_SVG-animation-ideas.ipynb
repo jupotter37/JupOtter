{
 "cells": [
  {
   "cell_type": "markdown",
   "metadata": {},
   "source": [
    "## Curved edges\n",
    "\n",
    "It doesn't appear that toyplot has the functionality to do radial curvature of edges. I need to dive into the actual SVG code that it writes to check...\n",
    "\n",
    "https://developer.mozilla.org/en-US/docs/Web/SVG/Tutorial/Paths\n",
    "\n",
    "Can it be done using toyplot ellipses?"
   ]
  },
  {
   "cell_type": "code",
   "execution_count": 1,
   "metadata": {},
   "outputs": [],
   "source": [
    "import numpy as np\n",
    "import toyplot\n",
    "#import toytree\n",
    "import toyplot.svg\n",
    "from IPython.display import SVG"
   ]
  },
  {
   "cell_type": "markdown",
   "metadata": {},
   "source": [
    "### Primer\n",
    "- M: move to. Moves cursor to this position.\n",
    "- L: line to. Draws line from cursor to this position.\n",
    "- C: Bezier curves (x1 y1, x2 y2, x y): \n",
    "- Q: Quadratic curve (x1 y1, x y):\n",
    "- A: Arc (rx ry x-axis-rotation large-arc-flag sweep-flag x y)"
   ]
  },
  {
   "cell_type": "markdown",
   "metadata": {},
   "source": [
    "### SEQVIEW ALIGN\n",
    "\n",
    "- to get overflow it needs to be set on a div or maybe g element not on the svg."
   ]
  },
  {
   "cell_type": "code",
   "execution_count": 63,
   "metadata": {},
   "outputs": [
    {
     "data": {
      "text/html": [
       "\n",
       "<svg viewBox=\"0 0 100 20\" xmlns=\"http://www.w3.org/2000/svg\" overflow=\"auto\" stroke=\"red\">\n",
       "  <text x=\"15\" y=\"23\"> This text is wider than the SVG, so there should be a scrollbar shown.</text>\n",
       "</svg>\n"
      ],
      "text/plain": [
       "<IPython.core.display.HTML object>"
      ]
     },
     "metadata": {},
     "output_type": "display_data"
    }
   ],
   "source": [
    "%%HTML\n",
    "\n",
    "<svg viewBox=\"0 0 100 20\" xmlns=\"http://www.w3.org/2000/svg\" overflow=\"auto\" stroke=\"red\">\n",
    "  <text x=\"15\" y=\"23\"> This text is wider than the SVG, so there should be a scrollbar shown.</text>\n",
    "</svg>\n"
   ]
  },
  {
   "cell_type": "code",
   "execution_count": 48,
   "metadata": {},
   "outputs": [
    {
     "data": {
      "image/svg+xml": [
       "<svg height=\"300\" viewBox=\"0 0 10 10\" width=\"300\">\n",
       "  <rect height=\"10\" width=\"10\">\n",
       "    <animate attributeName=\"rx\" dur=\"1s\" repeatCount=\"indefinite\" values=\"0;10;0\"/>\n",
       "  </rect>\n",
       "</svg>"
      ],
      "text/plain": [
       "<IPython.core.display.SVG object>"
      ]
     },
     "metadata": {},
     "output_type": "display_data"
    }
   ],
   "source": [
    "%%SVG\n",
    "\n",
    "<svg width='300' height='300' viewBox=\"0 0 10 10\">\n",
    "  <rect width=\"10\" height=\"10\">\n",
    "    <animate attributeName=\"rx\" values=\"0;10;0\" dur=\"1s\" repeatCount=\"indefinite\" />\n",
    "  </rect>\n",
    "</svg>"
   ]
  },
  {
   "cell_type": "code",
   "execution_count": 3,
   "metadata": {},
   "outputs": [
    {
     "data": {
      "image/svg+xml": [
       "<svg height=\"300\" width=\"300\">\n",
       "  <g class=\"general\" fill=\"none\" stroke=\"green\" stroke-width=\"3\">\n",
       "      <path d=\"M 100 100 L 150 100 L 150 200\" stroke-opacity=\"0.3\"/>   \n",
       "      <path d=\"M 100 100 L 50 100 L 50 200\" stroke-opacity=\"0.3\"/>\n",
       "        \n",
       "      <path d=\"M 100 100 C 150 100, 150 100, 150 150\" stroke=\"blue\" stroke-opacity=\"0.3\"/>\n",
       "      <path d=\"M 100 100 C 50 100, 50 100, 50 200\" stroke=\"blue\" stroke-opacity=\"0.3\"/>\n",
       "\n",
       "  </g>\n",
       "</svg>"
      ],
      "text/plain": [
       "<IPython.core.display.SVG object>"
      ]
     },
     "metadata": {},
     "output_type": "display_data"
    }
   ],
   "source": [
    "%%SVG \n",
    "\n",
    "<svg width=\"300\" height=\"300\" >\n",
    "  <g class=\"general\" stroke=\"green\" stroke-width=\"3\" fill=\"none\">\n",
    "      <path d=\"M 100 100 L 150 100 L 150 200\" stroke-opacity=\"0.3\"/>   \n",
    "      <path d=\"M 100 100 L 50 100 L 50 200\" stroke-opacity=\"0.3\"/>\n",
    "        \n",
    "      <path d=\"M 100 100 C 150 100, 150 100, 150 150\" stroke='blue' stroke-opacity='0.3'/>\n",
    "      <path d=\"M 100 100 C 50 100, 50 100, 50 200\" stroke='blue' stroke-opacity='0.3'/>\n",
    "\n",
    "  </g>\n",
    "</svg>"
   ]
  },
  {
   "cell_type": "code",
   "execution_count": 4,
   "metadata": {},
   "outputs": [
    {
     "data": {
      "image/svg+xml": [
       "<svg height=\"300\" width=\"300\">\n",
       "  <g class=\"general\" fill=\"none\" stroke=\"green\" stroke-width=\"3\">\n",
       "      <path d=\"M 100 100 L 100 50 L 200 50 \"/>\n",
       "      <path d=\"M 100 100 L 100 150 L 200 150\"/>\n",
       "      <path d=\"M 100 50 A 50 50, 0, 0, 0, 100 200\" fill=\"grey\" fill-opacity=\"0.2\"/>\n",
       "  </g>\n",
       "</svg>"
      ],
      "text/plain": [
       "<IPython.core.display.SVG object>"
      ]
     },
     "metadata": {},
     "output_type": "display_data"
    }
   ],
   "source": [
    "%%SVG \n",
    "\n",
    "<svg width=\"300\" height=\"300\" >\n",
    "  <g class=\"general\" stroke=\"green\" stroke-width=\"3\" fill=\"none\">\n",
    "      <path d=\"M 100 100 L 100 50 L 200 50 \"/>\n",
    "      <path d=\"M 100 100 L 100 150 L 200 150\"/>\n",
    "      <path d=\"M 100 50 A 50 50, 0, 0, 0, 100 200\" fill='grey' fill-opacity=\"0.2\"/>\n",
    "  </g>\n",
    "</svg>"
   ]
  },
  {
   "cell_type": "markdown",
   "metadata": {},
   "source": [
    "### GOAL FOR CIRLCE LAYOUT"
   ]
  },
  {
   "cell_type": "code",
   "execution_count": 5,
   "metadata": {},
   "outputs": [
    {
     "data": {
      "image/svg+xml": [
       "<svg height=\"300\" width=\"300\">\n",
       "  <g class=\"general\" fill=\"none\" stroke=\"green\" stroke-width=\"3\">\n",
       "      <path d=\"M 150 150 L 200 150\" stroke=\"black\"/>\n",
       "      <path d=\"M 200 150 A 50 50, 0, 0, 0, 150 100\" stroke=\"blue\"/>\n",
       "      <path d=\"M 150 100 A 50 50, 0, 0, 0, 100 150\" stroke=\"green\"/>\n",
       "      <path d=\"M 100 150 A 50 50, 0, 0, 0, 150 200\" stroke=\"orange\"/>\n",
       "      <path d=\"M 150 200 L 150 250\" stroke=\"black\"/>\n",
       "      <path d=\"M 150 250 A 100 100, 0, 0, 1, 50 150\" stroke=\"red\"/>\n",
       "      <path d=\"M 50 150 A 100 100, 0, 0, 1, 150 50\" stroke=\"indigo\"/>\n",
       "      <path d=\"M 150 50 A 100 100, 0, 0, 1, 150 250\" stroke=\"indigo\"/>\n",
       "  </g>\n",
       "</svg>"
      ],
      "text/plain": [
       "<IPython.core.display.SVG object>"
      ]
     },
     "metadata": {},
     "output_type": "display_data"
    }
   ],
   "source": [
    "%%SVG \n",
    "\n",
    "<svg width=\"300\" height=\"300\" >\n",
    "  <g class=\"general\" stroke=\"green\" stroke-width=\"3\" fill=\"none\">\n",
    "      <path d=\"M 150 150 L 200 150\" stroke=\"black\"/>\n",
    "      <path d=\"M 200 150 A 50 50, 0, 0, 0, 150 100\" stroke=\"blue\"/>\n",
    "      <path d=\"M 150 100 A 50 50, 0, 0, 0, 100 150\" stroke=\"green\"/>\n",
    "      <path d=\"M 100 150 A 50 50, 0, 0, 0, 150 200\" stroke=\"orange\"/>\n",
    "      <path d=\"M 150 200 L 150 250\" stroke=\"black\"/>\n",
    "      <path d=\"M 150 250 A 100 100, 0, 0, 1, 50 150\" stroke=\"red\" />\n",
    "      <path d=\"M 50 150 A 100 100, 0, 0, 1, 150 50\" stroke=\"indigo\" />\n",
    "      <path d=\"M 150 50 A 100 100, 0, 0, 1, 150 250\" stroke=\"indigo\" />\n",
    "  </g>\n",
    "</svg>"
   ]
  },
  {
   "cell_type": "code",
   "execution_count": 9,
   "metadata": {},
   "outputs": [
    {
     "data": {
      "text/plain": [
       "(225, 275)"
      ]
     },
     "execution_count": 9,
     "metadata": {},
     "output_type": "execute_result"
    }
   ],
   "source": [
    "125 + 100, 175 + 100"
   ]
  },
  {
   "cell_type": "code",
   "execution_count": 10,
   "metadata": {},
   "outputs": [
    {
     "data": {
      "text/plain": [
       "(200, 200)"
      ]
     },
     "execution_count": 10,
     "metadata": {},
     "output_type": "execute_result"
    }
   ],
   "source": [
    "100 + 100, 150 + 50"
   ]
  },
  {
   "cell_type": "code",
   "execution_count": 11,
   "metadata": {},
   "outputs": [
    {
     "data": {
      "text/plain": [
       "(-50, 50)"
      ]
     },
     "execution_count": 11,
     "metadata": {},
     "output_type": "execute_result"
    }
   ],
   "source": [
    "100 - 150, 100 - 50"
   ]
  },
  {
   "cell_type": "code",
   "execution_count": 12,
   "metadata": {},
   "outputs": [
    {
     "data": {
      "text/plain": [
       "(-50, 0)"
      ]
     },
     "execution_count": 12,
     "metadata": {},
     "output_type": "execute_result"
    }
   ],
   "source": [
    "125 - 175, 100 - 100"
   ]
  },
  {
   "cell_type": "code",
   "execution_count": 14,
   "metadata": {},
   "outputs": [
    {
     "data": {
      "text/plain": [
       "87.5"
      ]
     },
     "execution_count": 14,
     "metadata": {},
     "output_type": "execute_result"
    }
   ],
   "source": [
    "50 - 225, 100 - 100\n",
    "175 / 2."
   ]
  },
  {
   "cell_type": "code",
   "execution_count": 38,
   "metadata": {},
   "outputs": [
    {
     "data": {
      "image/svg+xml": [
       "<svg height=\"320\" width=\"320\" xmlns=\"http://www.w3.org/2000/svg\">\n",
       "   <path d=\" M100 100 A 50 50 0 0 1 150 50\" fill=\"yellow\" fill-opacity=\"0.25\" stroke=\"black\"/>\n",
       "   <path d=\" M125 100 A 25 25 0 0 1 175 100\" fill=\"blue\" fill-opacity=\"0.5\" stroke=\"black\"/>\n",
       "   <path d=\" M50 100 A 87 87 0 0 1 250 100\" fill=\"blue\" fill-opacity=\"0.5\" stroke=\"black\"/>\n",
       "   \n",
       "   \n",
       "   <path d=\" M 200 200 A 50 50 0 0 1 100 100 \" fill=\"none\" stroke=\"black\"/>\n",
       "   <path d=\" M 100 100 A 50 50 0 0 0 200 200 \" fill=\"none\" stroke=\"black\"/>\n",
       "\n",
       "   <path d=\" M 100 200 A 50 50 0 0 0 200 250 \" fill=\"none\" stroke=\"orange\"/>\n",
       "\n",
       "   <path d=\" M 200 200 A 50 50 0 0 0 100 200 \" fill=\"none\" stroke=\"green\"/>\n",
       "\n",
       "\n",
       "</svg>"
      ],
      "text/plain": [
       "<IPython.core.display.SVG object>"
      ]
     },
     "execution_count": 38,
     "metadata": {},
     "output_type": "execute_result"
    }
   ],
   "source": [
    "x = \"\"\"\n",
    "<svg width=\"320\" height=\"320\" xmlns=\"http://www.w3.org/2000/svg\">\n",
    "   <path d=\" M100 100 A 50 50 0 0 1 150 50\" fill=\"yellow\" fill-opacity='0.25' stroke='black'/>\n",
    "   <path d=\" M125 100 A 25 25 0 0 1 175 100\" fill='blue' fill-opacity='0.5' stroke='black' />\n",
    "   <path d=\" M50 100 A 87 87 0 0 1 250 100\" fill='blue' fill-opacity='0.5' stroke='black' />\n",
    "   \n",
    "   \n",
    "   <path d=\" M 200 200 A 50 50 0 0 1 100 100 \" fill=\"none\" stroke=\"black\" />\n",
    "   <path d=\" M 100 100 A 50 50 0 0 0 200 200 \" fill=\"none\" stroke=\"black\" />\n",
    "\n",
    "   <path d=\" M 100 200 A 50 50 0 0 0 200 250 \" fill=\"none\" stroke=\"orange\" />\n",
    "\n",
    "   <path d=\" M 200 200 A 50 50 0 0 0 100 200 \" fill=\"none\" stroke=\"green\" />\n",
    "\n",
    "\n",
    "</svg>\n",
    "\"\"\"\n",
    "\n",
    "from IPython.display import SVG\n",
    "SVG(x)"
   ]
  },
  {
   "cell_type": "code",
   "execution_count": 1,
   "metadata": {},
   "outputs": [
    {
     "data": {
      "image/svg+xml": [
       "<svg height=\"320\" width=\"320\" xmlns=\"http://www.w3.org/2000/svg\">\n",
       "  <path d=\"M 10 315            L 110 215            A 30 50 0 0 1 162.55 162.45            L 172.55 152.45            A 30 50 -45 0 1 215.1 109.9            L 315 10\" fill=\"green\" fill-opacity=\"0.5\" stroke=\"black\" stroke-width=\"2\"/>\n",
       "</svg>"
      ],
      "text/plain": [
       "<IPython.core.display.SVG object>"
      ]
     },
     "metadata": {},
     "output_type": "display_data"
    }
   ],
   "source": [
    "%%SVG\n",
    "\n",
    "<svg width=\"320\" height=\"320\" xmlns=\"http://www.w3.org/2000/svg\">\n",
    "  <path d=\"M 10 315\n",
    "           L 110 215\n",
    "           A 30 50 0 0 1 162.55 162.45\n",
    "           L 172.55 152.45\n",
    "           A 30 50 -45 0 1 215.1 109.9\n",
    "           L 315 10\" stroke=\"black\" fill=\"green\" stroke-width=\"2\" fill-opacity=\"0.5\"/>\n",
    "</svg>"
   ]
  },
  {
   "cell_type": "code",
   "execution_count": null,
   "metadata": {},
   "outputs": [],
   "source": []
  },
  {
   "cell_type": "markdown",
   "metadata": {},
   "source": [
    "### GOAL FOR PIE CHARTS"
   ]
  },
  {
   "cell_type": "code",
   "execution_count": 71,
   "metadata": {},
   "outputs": [
    {
     "data": {
      "image/svg+xml": [
       "<svg height=\"300\" width=\"300\">\n",
       "  <g class=\"general\" fill=\"none\" stroke=\"green\" stroke-width=\"3\">\n",
       "      <path d=\"M 150 150 L 200 150\" stroke=\"black\"/>\n",
       "      \n",
       "      <path d=\"M 200 150 A 50 50, 0, 0, 0, 150 100\" stroke=\"blue\" stroke-width=\"10\"/>\n",
       "      <path d=\"M 150 100 A 50 50, 0, 0, 0, 100 150\" stroke=\"green\" stroke-width=\"10\"/>\n",
       "      <path d=\"M 100 150 A 50 50, 0, 0, 0, 150 200\" stroke=\"orange\" stroke-width=\"10\"/>\n",
       "      <path d=\"M 150 200 A 50 50, 0, 0, 0, 200 150\" stroke=\"violet\" stroke-width=\"10\"/>\n",
       "  </g>\n",
       "</svg>"
      ],
      "text/plain": [
       "<IPython.core.display.SVG object>"
      ]
     },
     "metadata": {},
     "output_type": "display_data"
    }
   ],
   "source": [
    "%%SVG \n",
    "\n",
    "<svg width=\"300\" height=\"300\" >\n",
    "  <g class=\"general\" stroke=\"green\" stroke-width=\"3\" fill=\"none\">\n",
    "      <path d=\"M 150 150 L 200 150\" stroke=\"black\"/>\n",
    "      \n",
    "      <path d=\"M 200 150 A 50 50, 0, 0, 0, 150 100\" stroke=\"blue\" stroke-width='10'/>\n",
    "      <path d=\"M 150 100 A 50 50, 0, 0, 0, 100 150\" stroke=\"green\" stroke-width='10'/>\n",
    "      <path d=\"M 100 150 A 50 50, 0, 0, 0, 150 200\" stroke=\"orange\" stroke-width='10'/>\n",
    "      <path d=\"M 150 200 A 50 50, 0, 0, 0, 200 150\" stroke=\"violet\" stroke-width='10'/>\n",
    "  </g>\n",
    "</svg>\n"
   ]
  },
  {
   "cell_type": "code",
   "execution_count": 7,
   "metadata": {},
   "outputs": [],
   "source": [
    "#SVG(x)"
   ]
  },
  {
   "cell_type": "markdown",
   "metadata": {},
   "source": [
    "### Plan\n",
    "\n",
    "1. Edges Class can be used to return ecoordinates and eshapes. Here I will set MA as opposed to MQ to indicate the use of SVG arc elements.   \n",
    "\n",
    "\n",
    "2. toyplot.mark seems to be where the MA info is expanded to make a path d=\"...\" element. For curved edges this must incorporate the 'curvature' argument somehow, but maybe not, since it does not seem to work currently.   \n",
    "\n",
    "\n",
    "3. Like 'curvature', my Edge class should be able to build A elements from a single argument, origin, or alternatively, an x, y coordinate of the origin. From this it only needs to calculate the rx and ry (radius) and the sweep. "
   ]
  },
  {
   "cell_type": "markdown",
   "metadata": {},
   "source": [
    "### Curved edges\n",
    "Currently the only option is curved edges, which uses bezier curves. This won't work, we need to use arcs. "
   ]
  },
  {
   "cell_type": "code",
   "execution_count": 18,
   "metadata": {},
   "outputs": [],
   "source": [
    "verts = np.array([(0, 0), (1, 0), (-1, 0)])\n",
    "edges = np.array([(0, 1), (1, 2)])"
   ]
  },
  {
   "cell_type": "code",
   "execution_count": 19,
   "metadata": {},
   "outputs": [
    {
     "ename": "ValueError",
     "evalue": "Unknown edge shape segment: A",
     "output_type": "error",
     "traceback": [
      "\u001b[0;31m---------------------------------------------------------------------------\u001b[0m",
      "\u001b[0;31mValueError\u001b[0m                                Traceback (most recent call last)",
      "\u001b[0;32m<ipython-input-19-3f54c4ca527c>\u001b[0m in \u001b[0;36m<module>\u001b[0;34m\u001b[0m\n\u001b[1;32m     16\u001b[0m     layout=toyplot.layout.IgnoreVertices(\n\u001b[1;32m     17\u001b[0m         edges=ArcsEdges((0, 0))),\n\u001b[0;32m---> 18\u001b[0;31m     \u001b[0mvlshow\u001b[0m\u001b[0;34m=\u001b[0m\u001b[0;32mFalse\u001b[0m\u001b[0;34m,\u001b[0m\u001b[0;34m\u001b[0m\u001b[0;34m\u001b[0m\u001b[0m\n\u001b[0m\u001b[1;32m     19\u001b[0m );\n",
      "\u001b[0;32m~/miniconda3/envs/py36/lib/python3.6/site-packages/toyplot/coordinates.py\u001b[0m in \u001b[0;36mgraph\u001b[0;34m(self, a, b, c, olayout, layout, along, ecolor, efilename, eopacity, estyle, ewidth, hmarker, mmarker, mposition, tmarker, varea, vcolor, vcoordinates, vfilename, vlabel, vlshow, vlstyle, vmarker, vopacity, vsize, vstyle, vtitle)\u001b[0m\n\u001b[1;32m   1851\u001b[0m                 \u001b[0mvstyle\u001b[0m\u001b[0;34m=\u001b[0m\u001b[0mvstyle\u001b[0m\u001b[0;34m,\u001b[0m\u001b[0;34m\u001b[0m\u001b[0;34m\u001b[0m\u001b[0m\n\u001b[1;32m   1852\u001b[0m                 \u001b[0mvtable\u001b[0m\u001b[0;34m=\u001b[0m\u001b[0mvtable\u001b[0m\u001b[0;34m,\u001b[0m\u001b[0;34m\u001b[0m\u001b[0;34m\u001b[0m\u001b[0m\n\u001b[0;32m-> 1853\u001b[0;31m                 \u001b[0mvtitle\u001b[0m\u001b[0;34m=\u001b[0m\u001b[0;34m[\u001b[0m\u001b[0;34m\"title\"\u001b[0m\u001b[0;34m]\u001b[0m\u001b[0;34m,\u001b[0m\u001b[0;34m\u001b[0m\u001b[0;34m\u001b[0m\u001b[0m\n\u001b[0m\u001b[1;32m   1854\u001b[0m                 ))\n\u001b[1;32m   1855\u001b[0m \u001b[0;34m\u001b[0m\u001b[0m\n",
      "\u001b[0;32m~/miniconda3/envs/py36/lib/python3.6/site-packages/toyplot/mark.py\u001b[0m in \u001b[0;36m__init__\u001b[0;34m(self, coordinate_axes, ecolor, ecoordinates, efilename, eopacity, eshape, esource, estyle, etable, etarget, ewidth, hmarker, mmarker, mposition, tmarker, vcolor, vcoordinates, vfilename, vid, vlabel, vlshow, vlstyle, vmarker, vopacity, vsize, vstyle, vtable, vtitle)\u001b[0m\n\u001b[1;32m    581\u001b[0m                     \u001b[0mecoordinate_count\u001b[0m \u001b[0;34m+=\u001b[0m \u001b[0;36m3\u001b[0m\u001b[0;34m\u001b[0m\u001b[0;34m\u001b[0m\u001b[0m\n\u001b[1;32m    582\u001b[0m                 \u001b[0;32melse\u001b[0m\u001b[0;34m:\u001b[0m\u001b[0;34m\u001b[0m\u001b[0;34m\u001b[0m\u001b[0m\n\u001b[0;32m--> 583\u001b[0;31m                     \u001b[0;32mraise\u001b[0m \u001b[0mValueError\u001b[0m\u001b[0;34m(\u001b[0m\u001b[0;34m\"Unknown edge shape segment: %s\"\u001b[0m \u001b[0;34m%\u001b[0m \u001b[0msegment\u001b[0m\u001b[0;34m)\u001b[0m\u001b[0;34m\u001b[0m\u001b[0;34m\u001b[0m\u001b[0m\n\u001b[0m\u001b[1;32m    584\u001b[0m \u001b[0;34m\u001b[0m\u001b[0m\n\u001b[1;32m    585\u001b[0m         \u001b[0;31m# C x D edge coordinate columns\u001b[0m\u001b[0;34m\u001b[0m\u001b[0;34m\u001b[0m\u001b[0;34m\u001b[0m\u001b[0m\n",
      "\u001b[0;31mValueError\u001b[0m: Unknown edge shape segment: A"
     ]
    },
    {
     "data": {
      "text/html": [
       "<div class=\"toyplot\" id=\"t050f8f1db224414a8c8845ad76481d77\" style=\"text-align:center\"><svg class=\"toyplot-canvas-Canvas\" height=\"300.0px\" id=\"t9ba69b0dd62041519639893e05d9bb91\" preserveAspectRatio=\"xMidYMid meet\" style=\"background-color:transparent;border-color:#292724;border-style:none;border-width:1.0;fill:rgb(16.1%,15.3%,14.1%);fill-opacity:1.0;font-family:Helvetica;font-size:12px;opacity:1.0;stroke:rgb(16.1%,15.3%,14.1%);stroke-opacity:1.0;stroke-width:1.0\" viewBox=\"0 0 400.0 300.0\" width=\"400.0px\" xmlns=\"http://www.w3.org/2000/svg\" xmlns:toyplot=\"http://www.sandia.gov/toyplot\" xmlns:xlink=\"http://www.w3.org/1999/xlink\"><g class=\"toyplot-coordinates-Cartesian\" id=\"t9b0e4f282cc04cf797f0e5317919002e\"><clipPath id=\"tf187c92175254c76809b3342a3f3e090\"><rect height=\"220.0\" width=\"320.0\" x=\"40.0\" y=\"40.0\"></rect></clipPath><g clip-path=\"url(#tf187c92175254c76809b3342a3f3e090)\"><g class=\"toyplot-mark-Graph\" id=\"t408f244a495e4779b276f04d03bc46cb\"><g class=\"toyplot-Edges\"><path d=\"M 52.0 150.0 L 348.0 150.0\" style=\"fill:none;stroke:rgb(40%,76.1%,64.7%);stroke-opacity:1.0;stroke-width:1.0\"></path><g class=\"toyplot-HeadMarkers\"></g><g class=\"toyplot-MiddleMarkers\"></g><g class=\"toyplot-TailMarkers\"></g></g><g class=\"toyplot-Vertices\"><g class=\"toyplot-Datum\" style=\"fill:rgb(40%,76.1%,64.7%);fill-opacity:1.0;opacity:1.0;stroke:rgb(40%,76.1%,64.7%);stroke-opacity:1.0\" transform=\"translate(50.0, 150.0)\"><circle r=\"2.0\"></circle></g><g class=\"toyplot-Datum\" style=\"fill:rgb(40%,76.1%,64.7%);fill-opacity:1.0;opacity:1.0;stroke:rgb(40%,76.1%,64.7%);stroke-opacity:1.0\" transform=\"translate(350.0, 150.0)\"><circle r=\"2.0\"></circle></g></g></g></g><g class=\"toyplot-coordinates-Axis\" id=\"te57c541de46a4bc09547a3586cf6c5fc\" transform=\"translate(50.0,250.0)translate(0,10.0)\"><line style=\"\" x1=\"0\" x2=\"300.0\" y1=\"0\" y2=\"0\"></line><g><g transform=\"translate(0.0,6)\"><text style=\"fill:rgb(16.1%,15.3%,14.1%);fill-opacity:1.0;font-family:helvetica;font-size:10.0px;font-weight:normal;stroke:none;vertical-align:baseline;white-space:pre\" x=\"-6.95\" y=\"8.555\">0.0</text></g><g transform=\"translate(150.0,6)\"><text style=\"fill:rgb(16.1%,15.3%,14.1%);fill-opacity:1.0;font-family:helvetica;font-size:10.0px;font-weight:normal;stroke:none;vertical-align:baseline;white-space:pre\" x=\"-6.95\" y=\"8.555\">0.5</text></g><g transform=\"translate(300.0,6)\"><text style=\"fill:rgb(16.1%,15.3%,14.1%);fill-opacity:1.0;font-family:helvetica;font-size:10.0px;font-weight:normal;stroke:none;vertical-align:baseline;white-space:pre\" x=\"-6.95\" y=\"8.555\">1.0</text></g></g><g class=\"toyplot-coordinates-Axis-coordinates\" style=\"visibility:hidden\" transform=\"\"><line style=\"stroke:rgb(43.9%,50.2%,56.5%);stroke-opacity:1.0;stroke-width:1.0\" x1=\"0\" x2=\"0\" y1=\"-3.0\" y2=\"4.5\"></line><text style=\"alignment-baseline:alphabetic;fill:rgb(43.9%,50.2%,56.5%);fill-opacity:1.0;font-size:10px;font-weight:normal;stroke:none;text-anchor:middle\" x=\"0\" y=\"-6\"></text></g></g><g class=\"toyplot-coordinates-Axis\" id=\"t8cf3a8bab15e46fd83e7867b4584aff9\" transform=\"translate(50.0,250.0)rotate(-90.0)translate(0,-10.0)\"><line style=\"\" x1=\"100.0\" x2=\"100.0\" y1=\"0\" y2=\"0\"></line><g><g transform=\"translate(0.0,-6)\"><text style=\"fill:rgb(16.1%,15.3%,14.1%);fill-opacity:1.0;font-family:helvetica;font-size:10.0px;font-weight:normal;stroke:none;vertical-align:baseline;white-space:pre\" x=\"-8.615\" y=\"-4.440892098500626e-16\">-0.5</text></g><g transform=\"translate(100.0,-6)\"><text style=\"fill:rgb(16.1%,15.3%,14.1%);fill-opacity:1.0;font-family:helvetica;font-size:10.0px;font-weight:normal;stroke:none;vertical-align:baseline;white-space:pre\" x=\"-6.95\" y=\"-4.440892098500626e-16\">0.0</text></g><g transform=\"translate(200.0,-6)\"><text style=\"fill:rgb(16.1%,15.3%,14.1%);fill-opacity:1.0;font-family:helvetica;font-size:10.0px;font-weight:normal;stroke:none;vertical-align:baseline;white-space:pre\" x=\"-6.95\" y=\"-4.440892098500626e-16\">0.5</text></g></g><g class=\"toyplot-coordinates-Axis-coordinates\" style=\"visibility:hidden\" transform=\"\"><line style=\"stroke:rgb(43.9%,50.2%,56.5%);stroke-opacity:1.0;stroke-width:1.0\" x1=\"0\" x2=\"0\" y1=\"3.0\" y2=\"-4.5\"></line><text style=\"alignment-baseline:hanging;fill:rgb(43.9%,50.2%,56.5%);fill-opacity:1.0;font-size:10px;font-weight:normal;stroke:none;text-anchor:middle\" x=\"0\" y=\"6\"></text></g></g></g></svg><div class=\"toyplot-behavior\"><script>(function()\n",
       "{\n",
       "var modules={};\n",
       "modules[\"toyplot/tables\"] = (function()\n",
       "    {\n",
       "        var tables = [];\n",
       "\n",
       "        var module = {};\n",
       "\n",
       "        module.set = function(owner, key, names, columns)\n",
       "        {\n",
       "            tables.push({owner: owner, key: key, names: names, columns: columns});\n",
       "        }\n",
       "\n",
       "        module.get = function(owner, key)\n",
       "        {\n",
       "            for(var i = 0; i != tables.length; ++i)\n",
       "            {\n",
       "                var table = tables[i];\n",
       "                if(table.owner != owner)\n",
       "                    continue;\n",
       "                if(table.key != key)\n",
       "                    continue;\n",
       "                return {names: table.names, columns: table.columns};\n",
       "            }\n",
       "        }\n",
       "\n",
       "        module.get_csv = function(owner, key)\n",
       "        {\n",
       "            var table = module.get(owner, key);\n",
       "            if(table != undefined)\n",
       "            {\n",
       "                var csv = \"\";\n",
       "                csv += table.names.join(\",\") + \"\\n\";\n",
       "                for(var i = 0; i != table.columns[0].length; ++i)\n",
       "                {\n",
       "                  for(var j = 0; j != table.columns.length; ++j)\n",
       "                  {\n",
       "                    if(j)\n",
       "                      csv += \",\";\n",
       "                    csv += table.columns[j][i];\n",
       "                  }\n",
       "                  csv += \"\\n\";\n",
       "                }\n",
       "                return csv;\n",
       "            }\n",
       "        }\n",
       "\n",
       "        return module;\n",
       "    })();\n",
       "modules[\"toyplot/root/id\"] = \"t050f8f1db224414a8c8845ad76481d77\";\n",
       "modules[\"toyplot/root\"] = (function(root_id)\n",
       "    {\n",
       "        return document.querySelector(\"#\" + root_id);\n",
       "    })(modules[\"toyplot/root/id\"]);\n",
       "modules[\"toyplot/canvas/id\"] = \"t9ba69b0dd62041519639893e05d9bb91\";\n",
       "modules[\"toyplot/canvas\"] = (function(canvas_id)\n",
       "    {\n",
       "        return document.querySelector(\"#\" + canvas_id);\n",
       "    })(modules[\"toyplot/canvas/id\"]);\n",
       "modules[\"toyplot/menus/context\"] = (function(root, canvas)\n",
       "    {\n",
       "        var wrapper = document.createElement(\"div\");\n",
       "        wrapper.innerHTML = \"<ul class='toyplot-context-menu' style='background:#eee; border:1px solid #b8b8b8; border-radius:5px; box-shadow: 0px 0px 8px rgba(0%,0%,0%,0.25); margin:0; padding:3px 0; position:fixed; visibility:hidden;'></ul>\"\n",
       "        var menu = wrapper.firstChild;\n",
       "\n",
       "        root.appendChild(menu);\n",
       "\n",
       "        var items = [];\n",
       "\n",
       "        var ignore_mouseup = null;\n",
       "        function open_menu(e)\n",
       "        {\n",
       "            var show_menu = false;\n",
       "            for(var index=0; index != items.length; ++index)\n",
       "            {\n",
       "                var item = items[index];\n",
       "                if(item.show(e))\n",
       "                {\n",
       "                    item.item.style.display = \"block\";\n",
       "                    show_menu = true;\n",
       "                }\n",
       "                else\n",
       "                {\n",
       "                    item.item.style.display = \"none\";\n",
       "                }\n",
       "            }\n",
       "\n",
       "            if(show_menu)\n",
       "            {\n",
       "                ignore_mouseup = true;\n",
       "                menu.style.left = (e.clientX + 1) + \"px\";\n",
       "                menu.style.top = (e.clientY - 5) + \"px\";\n",
       "                menu.style.visibility = \"visible\";\n",
       "                e.stopPropagation();\n",
       "                e.preventDefault();\n",
       "            }\n",
       "        }\n",
       "\n",
       "        function close_menu()\n",
       "        {\n",
       "            menu.style.visibility = \"hidden\";\n",
       "        }\n",
       "\n",
       "        function contextmenu(e)\n",
       "        {\n",
       "            open_menu(e);\n",
       "        }\n",
       "\n",
       "        function mousemove(e)\n",
       "        {\n",
       "            ignore_mouseup = false;\n",
       "        }\n",
       "\n",
       "        function mouseup(e)\n",
       "        {\n",
       "            if(ignore_mouseup)\n",
       "            {\n",
       "                ignore_mouseup = false;\n",
       "                return;\n",
       "            }\n",
       "            close_menu();\n",
       "        }\n",
       "\n",
       "        function keydown(e)\n",
       "        {\n",
       "            if(e.key == \"Escape\" || e.key == \"Esc\" || e.keyCode == 27)\n",
       "            {\n",
       "                close_menu();\n",
       "            }\n",
       "        }\n",
       "\n",
       "        canvas.addEventListener(\"contextmenu\", contextmenu);\n",
       "        canvas.addEventListener(\"mousemove\", mousemove);\n",
       "        document.addEventListener(\"mouseup\", mouseup);\n",
       "        document.addEventListener(\"keydown\", keydown);\n",
       "\n",
       "        var module = {};\n",
       "        module.add_item = function(label, show, activate)\n",
       "        {\n",
       "            var wrapper = document.createElement(\"div\");\n",
       "            wrapper.innerHTML = \"<li class='toyplot-context-menu-item' style='background:#eee; color:#333; padding:2px 20px; list-style:none; margin:0; text-align:left;'>\" + label + \"</li>\"\n",
       "            var item = wrapper.firstChild;\n",
       "\n",
       "            items.push({item: item, show: show});\n",
       "\n",
       "            function mouseover()\n",
       "            {\n",
       "                this.style.background = \"steelblue\";\n",
       "                this.style.color = \"white\";\n",
       "            }\n",
       "\n",
       "            function mouseout()\n",
       "            {\n",
       "                this.style.background = \"#eee\";\n",
       "                this.style.color = \"#333\";\n",
       "            }\n",
       "\n",
       "            function choose_item(e)\n",
       "            {\n",
       "                close_menu();\n",
       "                activate();\n",
       "\n",
       "                e.stopPropagation();\n",
       "                e.preventDefault();\n",
       "            }\n",
       "\n",
       "            item.addEventListener(\"mouseover\", mouseover);\n",
       "            item.addEventListener(\"mouseout\", mouseout);\n",
       "            item.addEventListener(\"mouseup\", choose_item);\n",
       "            item.addEventListener(\"contextmenu\", choose_item);\n",
       "\n",
       "            menu.appendChild(item);\n",
       "        };\n",
       "        return module;\n",
       "    })(modules[\"toyplot/root\"],modules[\"toyplot/canvas\"]);\n",
       "modules[\"toyplot/io\"] = (function()\n",
       "    {\n",
       "        var module = {};\n",
       "        module.save_file = function(mime_type, charset, data, filename)\n",
       "        {\n",
       "            var uri = \"data:\" + mime_type + \";charset=\" + charset + \",\" + data;\n",
       "            uri = encodeURI(uri);\n",
       "\n",
       "            var link = document.createElement(\"a\");\n",
       "            if(typeof link.download != \"undefined\")\n",
       "            {\n",
       "              link.href = uri;\n",
       "              link.style = \"visibility:hidden\";\n",
       "              link.download = filename;\n",
       "\n",
       "              document.body.appendChild(link);\n",
       "              link.click();\n",
       "              document.body.removeChild(link);\n",
       "            }\n",
       "            else\n",
       "            {\n",
       "              window.open(uri);\n",
       "            }\n",
       "        };\n",
       "        return module;\n",
       "    })();\n",
       "modules[\"toyplot.coordinates.Axis\"] = (\n",
       "        function(canvas)\n",
       "        {\n",
       "            function sign(x)\n",
       "            {\n",
       "                return x < 0 ? -1 : x > 0 ? 1 : 0;\n",
       "            }\n",
       "\n",
       "            function mix(a, b, amount)\n",
       "            {\n",
       "                return ((1.0 - amount) * a) + (amount * b);\n",
       "            }\n",
       "\n",
       "            function log(x, base)\n",
       "            {\n",
       "                return Math.log(Math.abs(x)) / Math.log(base);\n",
       "            }\n",
       "\n",
       "            function in_range(a, x, b)\n",
       "            {\n",
       "                var left = Math.min(a, b);\n",
       "                var right = Math.max(a, b);\n",
       "                return left <= x && x <= right;\n",
       "            }\n",
       "\n",
       "            function inside(range, projection)\n",
       "            {\n",
       "                for(var i = 0; i != projection.length; ++i)\n",
       "                {\n",
       "                    var segment = projection[i];\n",
       "                    if(in_range(segment.range.min, range, segment.range.max))\n",
       "                        return true;\n",
       "                }\n",
       "                return false;\n",
       "            }\n",
       "\n",
       "            function to_domain(range, projection)\n",
       "            {\n",
       "                for(var i = 0; i != projection.length; ++i)\n",
       "                {\n",
       "                    var segment = projection[i];\n",
       "                    if(in_range(segment.range.bounds.min, range, segment.range.bounds.max))\n",
       "                    {\n",
       "                        if(segment.scale == \"linear\")\n",
       "                        {\n",
       "                            var amount = (range - segment.range.min) / (segment.range.max - segment.range.min);\n",
       "                            return mix(segment.domain.min, segment.domain.max, amount)\n",
       "                        }\n",
       "                        else if(segment.scale[0] == \"log\")\n",
       "                        {\n",
       "                            var amount = (range - segment.range.min) / (segment.range.max - segment.range.min);\n",
       "                            var base = segment.scale[1];\n",
       "                            return sign(segment.domain.min) * Math.pow(base, mix(log(segment.domain.min, base), log(segment.domain.max, base), amount));\n",
       "                        }\n",
       "                    }\n",
       "                }\n",
       "            }\n",
       "\n",
       "            var axes = {};\n",
       "\n",
       "            function display_coordinates(e)\n",
       "            {\n",
       "                var current = canvas.createSVGPoint();\n",
       "                current.x = e.clientX;\n",
       "                current.y = e.clientY;\n",
       "\n",
       "                for(var axis_id in axes)\n",
       "                {\n",
       "                    var axis = document.querySelector(\"#\" + axis_id);\n",
       "                    var coordinates = axis.querySelector(\".toyplot-coordinates-Axis-coordinates\");\n",
       "                    if(coordinates)\n",
       "                    {\n",
       "                        var projection = axes[axis_id];\n",
       "                        var local = current.matrixTransform(axis.getScreenCTM().inverse());\n",
       "                        if(inside(local.x, projection))\n",
       "                        {\n",
       "                            var domain = to_domain(local.x, projection);\n",
       "                            coordinates.style.visibility = \"visible\";\n",
       "                            coordinates.setAttribute(\"transform\", \"translate(\" + local.x + \")\");\n",
       "                            var text = coordinates.querySelector(\"text\");\n",
       "                            text.textContent = domain.toFixed(2);\n",
       "                        }\n",
       "                        else\n",
       "                        {\n",
       "                            coordinates.style.visibility= \"hidden\";\n",
       "                        }\n",
       "                    }\n",
       "                }\n",
       "            }\n",
       "\n",
       "            canvas.addEventListener(\"click\", display_coordinates);\n",
       "\n",
       "            var module = {};\n",
       "            module.show_coordinates = function(axis_id, projection)\n",
       "            {\n",
       "                axes[axis_id] = projection;\n",
       "            }\n",
       "\n",
       "            return module;\n",
       "        })(modules[\"toyplot/canvas\"]);\n",
       "(function(tables, context_menu, io, owner_id, key, label, names, columns, filename)\n",
       "        {\n",
       "            tables.set(owner_id, key, names, columns);\n",
       "\n",
       "            var owner = document.querySelector(\"#\" + owner_id);\n",
       "            function show_item(e)\n",
       "            {\n",
       "                return owner.contains(e.target);\n",
       "            }\n",
       "\n",
       "            function choose_item()\n",
       "            {\n",
       "                io.save_file(\"text/csv\", \"utf-8\", tables.get_csv(owner_id, key), filename + \".csv\");\n",
       "            }\n",
       "\n",
       "            context_menu.add_item(\"Save \" + label + \" as CSV\", show_item, choose_item);\n",
       "        })(modules[\"toyplot/tables\"],modules[\"toyplot/menus/context\"],modules[\"toyplot/io\"],\"t408f244a495e4779b276f04d03bc46cb\",\"vertex_data\",\"graph vertex data\",[\"x\", \"y\"],[[0.0, 1.0], [0.0, 0.0]],\"toyplot\");\n",
       "(function(tables, context_menu, io, owner_id, key, label, names, columns, filename)\n",
       "        {\n",
       "            tables.set(owner_id, key, names, columns);\n",
       "\n",
       "            var owner = document.querySelector(\"#\" + owner_id);\n",
       "            function show_item(e)\n",
       "            {\n",
       "                return owner.contains(e.target);\n",
       "            }\n",
       "\n",
       "            function choose_item()\n",
       "            {\n",
       "                io.save_file(\"text/csv\", \"utf-8\", tables.get_csv(owner_id, key), filename + \".csv\");\n",
       "            }\n",
       "\n",
       "            context_menu.add_item(\"Save \" + label + \" as CSV\", show_item, choose_item);\n",
       "        })(modules[\"toyplot/tables\"],modules[\"toyplot/menus/context\"],modules[\"toyplot/io\"],\"t408f244a495e4779b276f04d03bc46cb\",\"edge_data\",\"graph edge data\",[\"source\", \"target\"],[[0], [1]],\"toyplot\");\n",
       "(function(axis, axis_id, projection)\n",
       "        {\n",
       "            axis.show_coordinates(axis_id, projection);\n",
       "        })(modules[\"toyplot.coordinates.Axis\"],\"te57c541de46a4bc09547a3586cf6c5fc\",[{\"domain\": {\"bounds\": {\"max\": Infinity, \"min\": -Infinity}, \"max\": 1.0, \"min\": 0.0}, \"range\": {\"bounds\": {\"max\": Infinity, \"min\": -Infinity}, \"max\": 300.0, \"min\": 0.0}, \"scale\": \"linear\"}]);\n",
       "(function(axis, axis_id, projection)\n",
       "        {\n",
       "            axis.show_coordinates(axis_id, projection);\n",
       "        })(modules[\"toyplot.coordinates.Axis\"],\"t8cf3a8bab15e46fd83e7867b4584aff9\",[{\"domain\": {\"bounds\": {\"max\": Infinity, \"min\": -Infinity}, \"max\": 0.5, \"min\": -0.5}, \"range\": {\"bounds\": {\"max\": Infinity, \"min\": -Infinity}, \"max\": 200.0, \"min\": 0.0}, \"scale\": \"linear\"}]);\n",
       "})();</script></div></div>"
      ]
     },
     "metadata": {},
     "output_type": "display_data"
    }
   ],
   "source": [
    "# set up the canvas\n",
    "c = toyplot.Canvas(width=400, height=300);\n",
    "a = c.cartesian()\n",
    "\n",
    "# add straight edges\n",
    "a.graph(\n",
    "    np.array([(0, 1)]),\n",
    "    vcoordinates=[(0, 0), (1, 0)],\n",
    "    vlshow=False,\n",
    ");\n",
    "\n",
    "# add curved edges\n",
    "a.graph(\n",
    "    np.array([(0, 1)]),\n",
    "    vcoordinates=[(1, 0), (-1, 0)],\n",
    "    layout=toyplot.layout.IgnoreVertices(\n",
    "        edges=ArcsEdges((0, 0))),\n",
    "    vlshow=False,\n",
    ");"
   ]
  },
  {
   "cell_type": "markdown",
   "metadata": {},
   "source": [
    "### Create an ArcEdges class similar to CurvedEdges\n",
    "It takes an origin argument from which the radius can always be calculated, and it will also determine the sweep-flag automatically. "
   ]
  },
  {
   "cell_type": "code",
   "execution_count": 20,
   "metadata": {},
   "outputs": [],
   "source": [
    "??toyplot.mark"
   ]
  },
  {
   "cell_type": "code",
   "execution_count": 11,
   "metadata": {},
   "outputs": [],
   "source": [
    "import numpy\n",
    "\n",
    "class ArcsEdges(toyplot.layout.EdgeLayout):\n",
    "    \"\"\"Creates curved edges as arcs on a circle.\n",
    "    \n",
    "    Parameters\n",
    "    ----------\n",
    "    origin: tuple\n",
    "        The origin is the x,y coordinates of the circle center.\n",
    "    \"\"\"\n",
    "    def __init__(self, origin):\n",
    "        self._origin = origin \n",
    "        \n",
    "    def edges(self, vcoordinates, edges):\n",
    "        \n",
    "        # check for loops\n",
    "        loops = edges.T[0] == edges.T[1]\n",
    "        if numpy.any(loops):\n",
    "            toyplot.log.warning(\n",
    "                \"Graph contains %s loop edges that will not be visible.\", \n",
    "                numpy.count_nonzero(loops))            \n",
    "            \n",
    "        # M will map start coords, A will map arc shape\n",
    "        eshapes = numpy.tile(\"MA\", len(edges))\n",
    "        ecoordinates = numpy.empty((len(edges) * 3, 2))\n",
    "\n",
    "        # store start and end points\n",
    "        sources = vcoordinates[edges.T[0]]\n",
    "        targets = vcoordinates[edges.T[1]]\n",
    "        \n",
    "        # calculate midpoints of arcs (TODO)       \n",
    "        offsets = numpy.dot(targets - sources, [[0, 1], [-1, 0]]) * self._origin[0]\n",
    "        midpoints = ((sources + targets) * 0.5) + offsets\n",
    "\n",
    "        ecoordinates[0::3] = sources\n",
    "        ecoordinates[1::3] = midpoints\n",
    "        ecoordinates[2::3] = targets\n",
    "\n",
    "        return eshapes, ecoordinates\n",
    "    \n",
    "    \n",
    "    def get_path(self):\n",
    "        \"\"\"\n",
    "        The sweep-flag determines if the arc should begin moving \n",
    "        at positive angles or negative angles.\n",
    "        \"\"\"\n",
    "        \n",
    "        # orientation depends on x-axis (no rotation)\n",
    "        sweep = 0\n",
    "        if y1 - y0:\n",
    "            sweep = 1\n",
    "        \n",
    "        # the svg path string expanded\n",
    "        path = \"M {x0} {y0} A {rx} {ry}, 0, 0, {sweep}, {x1, y1}\"\n",
    "        path = path.format(**cdict)\n",
    "        \n",
    "        return path\n",
    "        "
   ]
  },
  {
   "cell_type": "code",
   "execution_count": null,
   "metadata": {},
   "outputs": [],
   "source": []
  },
  {
   "cell_type": "code",
   "execution_count": null,
   "metadata": {},
   "outputs": [],
   "source": []
  },
  {
   "cell_type": "markdown",
   "metadata": {},
   "source": [
    "### Parse SVG with lxml"
   ]
  },
  {
   "cell_type": "code",
   "execution_count": 12,
   "metadata": {},
   "outputs": [],
   "source": [
    "toyplot.svg.render(c, \"test.svg\")\n",
    "svg = toyplot.svg.render(c)\n",
    "html = toyplot.html.render(c, \"test.html\")"
   ]
  },
  {
   "cell_type": "code",
   "execution_count": 13,
   "metadata": {},
   "outputs": [
    {
     "data": {
      "text/plain": [
       "<Element 'svg' at 0x7ffa134174f8>"
      ]
     },
     "execution_count": 13,
     "metadata": {},
     "output_type": "execute_result"
    }
   ],
   "source": [
    "import xml.etree.ElementTree as ET\n",
    "svg"
   ]
  },
  {
   "cell_type": "code",
   "execution_count": 14,
   "metadata": {},
   "outputs": [
    {
     "data": {
      "text/plain": [
       "('svg',\n",
       " {'class': 'toyplot-canvas-Canvas',\n",
       "  'xmlns:toyplot': 'http://www.sandia.gov/toyplot',\n",
       "  'xmlns:xlink': 'http://www.w3.org/1999/xlink',\n",
       "  'xmlns': 'http://www.w3.org/2000/svg',\n",
       "  'width': '400.0px',\n",
       "  'height': '300.0px',\n",
       "  'viewBox': '0 0 400.0 300.0',\n",
       "  'preserveAspectRatio': 'xMidYMid meet',\n",
       "  'style': 'background-color:transparent;border-color:#292724;border-style:none;border-width:1.0;fill:rgb(16.1%,15.3%,14.1%);fill-opacity:1.0;font-family:Helvetica;font-size:12px;opacity:1.0;stroke:rgb(16.1%,15.3%,14.1%);stroke-opacity:1.0;stroke-width:1.0',\n",
       "  'id': 't6df21dd8605c4a59bc70d7943727731a'})"
      ]
     },
     "execution_count": 14,
     "metadata": {},
     "output_type": "execute_result"
    }
   ],
   "source": [
    "svg.tag, svg.attrib"
   ]
  },
  {
   "cell_type": "code",
   "execution_count": 15,
   "metadata": {},
   "outputs": [
    {
     "name": "stdout",
     "output_type": "stream",
     "text": [
      "g {'class': 'toyplot-coordinates-Cartesian', 'id': 'tbee5931a846645aeab46c6f306aa34b3'}\n"
     ]
    }
   ],
   "source": [
    "for child in svg:\n",
    "    print(child.tag, child.attrib)"
   ]
  },
  {
   "cell_type": "code",
   "execution_count": 16,
   "metadata": {},
   "outputs": [
    {
     "name": "stdout",
     "output_type": "stream",
     "text": [
      "{'class': 'toyplot-coordinates-Cartesian', 'id': 'tbee5931a846645aeab46c6f306aa34b3'}\n",
      "{'clip-path': 'url(#t8ae0ca0af6b6457d9f8433f3b5719adc)'}\n",
      "{'class': 'toyplot-mark-Graph', 'id': 't3bf8f55213bf4aeebf940277e6d66637'}\n",
      "{'class': 'toyplot-Edges'}\n",
      "{'class': 'toyplot-HeadMarkers'}\n",
      "{'class': 'toyplot-MiddleMarkers'}\n",
      "{'class': 'toyplot-TailMarkers'}\n",
      "{'class': 'toyplot-Vertices'}\n",
      "{'style': 'fill:rgb(40%,76.1%,64.7%);fill-opacity:1.0;opacity:1.0;stroke:rgb(40%,76.1%,64.7%);stroke-opacity:1.0', 'class': 'toyplot-Datum', 'transform': 'translate(50.0, 150.0)'}\n",
      "{'style': 'fill:rgb(40%,76.1%,64.7%);fill-opacity:1.0;opacity:1.0;stroke:rgb(40%,76.1%,64.7%);stroke-opacity:1.0', 'class': 'toyplot-Datum', 'transform': 'translate(350.0, 150.0)'}\n",
      "{'class': 'toyplot-coordinates-Axis', 'id': 't1a63a67912ed4737929270b8ec84adb6', 'transform': 'translate(50.0,250.0)translate(0,10.0)'}\n",
      "{}\n",
      "{'transform': 'translate(0.0,6)'}\n",
      "{'transform': 'translate(150.0,6)'}\n",
      "{'transform': 'translate(300.0,6)'}\n",
      "{'class': 'toyplot-coordinates-Axis-coordinates', 'style': 'visibility:hidden', 'transform': ''}\n",
      "{'class': 'toyplot-coordinates-Axis', 'id': 'tf114c4bc9f004d4dae0f0611c1eaafce', 'transform': 'translate(50.0,250.0)rotate(-90.0)translate(0,-10.0)'}\n",
      "{}\n",
      "{'transform': 'translate(0.0,-6)'}\n",
      "{'transform': 'translate(100.0,-6)'}\n",
      "{'transform': 'translate(200.0,-6)'}\n",
      "{'class': 'toyplot-coordinates-Axis-coordinates', 'style': 'visibility:hidden', 'transform': ''}\n"
     ]
    }
   ],
   "source": [
    "for item in svg.iter('g'):\n",
    "    print(item.attrib)"
   ]
  },
  {
   "cell_type": "code",
   "execution_count": 17,
   "metadata": {},
   "outputs": [
    {
     "name": "stdout",
     "output_type": "stream",
     "text": [
      "<Element 'g' at 0x7ffa1331ab88>\n"
     ]
    }
   ],
   "source": [
    "for country in svg.findall('g'):\n",
    "    print(country)"
   ]
  },
  {
   "cell_type": "code",
   "execution_count": null,
   "metadata": {},
   "outputs": [],
   "source": []
  }
 ],
 "metadata": {
  "kernelspec": {
   "display_name": "Python 3",
   "language": "python",
   "name": "python3"
  },
  "language_info": {
   "codemirror_mode": {
    "name": "ipython",
    "version": 3
   },
   "file_extension": ".py",
   "mimetype": "text/x-python",
   "name": "python",
   "nbconvert_exporter": "python",
   "pygments_lexer": "ipython3",
   "version": "3.7.9"
  }
 },
 "nbformat": 4,
 "nbformat_minor": 2
}
