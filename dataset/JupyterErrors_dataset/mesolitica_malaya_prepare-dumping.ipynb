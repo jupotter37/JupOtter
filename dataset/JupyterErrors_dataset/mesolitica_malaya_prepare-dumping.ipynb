{
 "cells": [
  {
   "cell_type": "code",
   "execution_count": 1,
   "metadata": {},
   "outputs": [
    {
     "data": {
      "text/plain": [
       "True"
      ]
     },
     "execution_count": 1,
     "metadata": {},
     "output_type": "execute_result"
    }
   ],
   "source": [
    "import tensorflow as tf\n",
    "import tensorflow_datasets as tfds\n",
    "from t5.data import preprocessors as prep\n",
    "import functools\n",
    "import t5\n",
    "import gin\n",
    "import sentencepiece as spm\n",
    "from glob import glob\n",
    "import os\n",
    "\n",
    "gin.parse_config_file('pretrained_models_base_operative_config.gin')\n",
    "vocab = 'sp10m.cased.t5.model'\n",
    "sp = spm.SentencePieceProcessor()\n",
    "sp.Load(vocab)"
   ]
  },
  {
   "cell_type": "code",
   "execution_count": 2,
   "metadata": {},
   "outputs": [
    {
     "data": {
      "text/plain": [
       "['../pure-text/dumping-instagram.txt',\n",
       " '../pure-text/dumping-parliament.txt',\n",
       " '../pure-text/dumping-iium.txt',\n",
       " '../pure-text/dumping-wiki.txt',\n",
       " '../pure-text/dumping-news.txt',\n",
       " '../pure-text/dumping-watpadd.txt',\n",
       " '../pure-text/dumping-pdf.txt']"
      ]
     },
     "execution_count": 2,
     "metadata": {},
     "output_type": "execute_result"
    }
   ],
   "source": [
    "files = glob('../pure-text/dumping*.txt')\n",
    "files = [f for f in files if 'twitter' not in f and 'common' not in f]\n",
    "files"
   ]
  },
  {
   "cell_type": "code",
   "execution_count": 3,
   "metadata": {},
   "outputs": [
    {
     "data": {
      "text/plain": [
       "'dumping-instagram.txt'"
      ]
     },
     "execution_count": 3,
     "metadata": {},
     "output_type": "execute_result"
    }
   ],
   "source": [
    "os.path.split(files[0])[1]"
   ]
  },
  {
   "cell_type": "code",
   "execution_count": 4,
   "metadata": {},
   "outputs": [],
   "source": [
    "import re\n",
    "\n",
    "def cleaning(string):\n",
    "    string = string.replace('\\n', ' ')\n",
    "    string = re.sub(r'[ ]+', ' ', string).strip()\n",
    "    return string"
   ]
  },
  {
   "cell_type": "code",
   "execution_count": 5,
   "metadata": {},
   "outputs": [
    {
     "name": "stdout",
     "output_type": "stream",
     "text": [
      "../pure-text/dumping-instagram.txt 3226766\n",
      "../pure-text/dumping-parliament.txt 890823\n",
      "../pure-text/dumping-iium.txt 1121978\n",
      "../pure-text/dumping-wiki.txt 1715551\n",
      "../pure-text/dumping-news.txt 1791784\n",
      "../pure-text/dumping-watpadd.txt 1445379\n",
      "../pure-text/dumping-pdf.txt 596417\n"
     ]
    }
   ],
   "source": [
    "for file in files:\n",
    "    with open(file) as fopen:\n",
    "        data = list(filter(None, fopen.read().split('\\n')))\n",
    "    print(file, len(data))\n",
    "    s = os.path.split(file)[1]\n",
    "    filename = f'{s}.tsv'\n",
    "    with tf.io.gfile.GFile(filename, 'w') as outfile:\n",
    "        for i in range(len(data)):\n",
    "            outfile.write('%s\\t%s\\n' % ('', cleaning(data[i])))"
   ]
  },
  {
   "cell_type": "code",
   "execution_count": 1,
   "metadata": {},
   "outputs": [
    {
     "ename": "NameError",
     "evalue": "name 'glob' is not defined",
     "output_type": "error",
     "traceback": [
      "\u001b[0;31m---------------------------------------------------------------------------\u001b[0m",
      "\u001b[0;31mNameError\u001b[0m                                 Traceback (most recent call last)",
      "\u001b[0;32m<ipython-input-1-446e8128932b>\u001b[0m in \u001b[0;36m<module>\u001b[0;34m\u001b[0m\n\u001b[0;32m----> 1\u001b[0;31m \u001b[0mglob\u001b[0m\u001b[0;34m(\u001b[0m\u001b[0;34m'dumping*.txt.tsv'\u001b[0m\u001b[0;34m)\u001b[0m\u001b[0;34m\u001b[0m\u001b[0;34m\u001b[0m\u001b[0m\n\u001b[0m",
      "\u001b[0;31mNameError\u001b[0m: name 'glob' is not defined"
     ]
    }
   ],
   "source": [
    "glob('dumping*.txt.tsv')"
   ]
  },
  {
   "cell_type": "code",
   "execution_count": 7,
   "metadata": {},
   "outputs": [],
   "source": [
    "def dumping_dataset(split, shuffle_files = False):\n",
    "    del shuffle_files\n",
    "    ds = tf.data.TextLineDataset(\n",
    "        glob('dumping*.tsv')\n",
    "    )\n",
    "\n",
    "    ds = ds.map(\n",
    "        functools.partial(\n",
    "            tf.io.decode_csv,\n",
    "            record_defaults = ['', ''],\n",
    "            field_delim = '\\t',\n",
    "            use_quote_delim = False,\n",
    "        ),\n",
    "        num_parallel_calls = tf.data.experimental.AUTOTUNE,\n",
    "    )\n",
    "    ds = ds.map(lambda *ex: dict(zip(['title', 'text'], ex)))\n",
    "    return ds"
   ]
  },
  {
   "cell_type": "code",
   "execution_count": 8,
   "metadata": {
    "scrolled": true
   },
   "outputs": [
    {
     "name": "stderr",
     "output_type": "stream",
     "text": [
      "/home/husein/.local/lib/python3.6/site-packages/t5/models/mesh_transformer.py:210: UserWarning: get_sentencepiece_model_path is deprecated. Please pass the mixture or task vocabulary directly to the Mesh TensorFlow Transformer instead.\n",
      "  \"get_sentencepiece_model_path is deprecated. Please pass the mixture or \"\n"
     ]
    }
   ],
   "source": [
    "t5.data.TaskRegistry.remove('dumping_dataset')\n",
    "t5.data.TaskRegistry.add(\n",
    "    'dumping_dataset',\n",
    "    dataset_fn = dumping_dataset,\n",
    "    splits = ['train'],\n",
    "    text_preprocessor = functools.partial(\n",
    "        t5.data.preprocessors.rekey,\n",
    "        key_map = {'inputs': None, 'targets': 'text'},\n",
    "    ),\n",
    "    token_preprocessor = t5.data.preprocessors.unsupervised,\n",
    "    sentencepiece_model_path = vocab,\n",
    "    metric_fns = [],\n",
    ")"
   ]
  },
  {
   "cell_type": "code",
   "execution_count": null,
   "metadata": {},
   "outputs": [
    {
     "name": "stdout",
     "output_type": "stream",
     "text": [
      "INFO:tensorflow:tokens_length=1137 inputs_length=1024 targets_length=229 noise_density=0.15 mean_noise_span_length=3.0 \n"
     ]
    },
    {
     "name": "stderr",
     "output_type": "stream",
     "text": [
      "241049it [34:24, 116.74it/s]\n"
     ]
    },
    {
     "name": "stdout",
     "output_type": "stream",
     "text": [
      "INFO:tensorflow:tokens_length=1137 inputs_length=1024 targets_length=229 noise_density=0.15 mean_noise_span_length=3.0 \n"
     ]
    },
    {
     "name": "stderr",
     "output_type": "stream",
     "text": [
      "241049it [33:56, 118.36it/s]\n"
     ]
    },
    {
     "name": "stdout",
     "output_type": "stream",
     "text": [
      "INFO:tensorflow:tokens_length=1137 inputs_length=1024 targets_length=229 noise_density=0.15 mean_noise_span_length=3.0 \n"
     ]
    },
    {
     "name": "stderr",
     "output_type": "stream",
     "text": [
      "35700it [05:23, 138.76it/s]"
     ]
    }
   ],
   "source": [
    "from tqdm import tqdm\n",
    "\n",
    "for k in range(15):\n",
    "    \n",
    "    nq_task = t5.data.TaskRegistry.get(\"dumping_dataset\")\n",
    "    ds = nq_task.get_dataset(split='qa.tsv', sequence_length={\"inputs\": 768, \"targets\": 768})\n",
    "    batch_size, index, part = 100000, 0, 0\n",
    "    \n",
    "    fopen = open(f'dumping-{k}-{part}.parse', 'w')\n",
    "    for ex in tqdm(tfds.as_numpy(ds)):\n",
    "        i = sp.DecodeIds(ex['inputs'].tolist())\n",
    "        t = sp.DecodeIds(ex['targets'].tolist())\n",
    "        text = f'{i} [[EENNDD]] {t}\\n'\n",
    "        fopen.write(text)\n",
    "\n",
    "        if index == batch_size:\n",
    "            fopen.close()\n",
    "            part += 1\n",
    "            index = 0\n",
    "            fopen = open(f'dumping-{k}-{part}.parse', 'w')\n",
    "\n",
    "        index += 1\n",
    "\n",
    "    fopen.close()"
   ]
  },
  {
   "cell_type": "code",
   "execution_count": 10,
   "metadata": {},
   "outputs": [
    {
     "name": "stdout",
     "output_type": "stream",
     "text": [
      "menjawab , \" yang mudah hilang ‘ ), mereka ber© dengan mereka karena tahta , memuliakan penguasa tapi meremehkan rakyatnya \". ( Tarikhuna Al Adzim ) . Bntr lgi # kartiniday̳mpong d skoHP . Hasil hujung minggu # tombakketam#carimakan#kerapu#udang#ketam#ketamsuri Ayam Rendang . Tangan dah mula gatal2 niSapa yang nak naikkan seri baju boleh hantar mulai - Terwujudnya bisyarah atas pembebasan Konstanstinopel bukanlah peristiwa kebetulan , melainkan sebuah penak■kan besar yang dengan dirintis Sejak kecil , Muhammad Al Fatih telah dididik oleh ulama pilihan , Syekh Aaq Syamsuddin yang mengajarkannya banyak disiplin ilmu hingga tumbuh menjadi remaja dengan kepribadian percikan unggul . Ia adalah nabati pernah meninggalkan shalat wajib lima waktu , shalat sunnah rawatib , bahkan shalat tahajjud . Tidak hanyakan kemampuan essence juga dibentuk mental pembebas melalui kameo para penakluk , kisah syahid danNFDP serta senantiasa diingatkan mengenai bisyarah Rasulullah dan terwujudnya janji Allah . Maka sungguh , ketika perjuangan mewujudkan pembebasan Roma dan kembalinya Khilafah di atas manhaj kenabian yang dimahukan dilakukan , maka sudah selayaknya kita kembali merenungi , \" Bagaimana dengan kualitas pemuda hari ini ? Sudahkah kita layak mewujudkan janji mulia tersebut \"? KENAPA UDAH Monyet NASI TAPI BODY SEMAKIN NAIK , PADAHAL CUMAN MINUM AmbulansUP AJA BUKA PUASA . Ok pemerataan baik-baik HSIAO ya . Pemandangan kurang lebih hanya 200-300 kalori . Sirup berapa kalori ? Silahkan geser foto ini . Jadi tau kan kenapa ga makan nasi tapi minum sirup buat kamu susah turun berat badan atau bahkan semakin naik berat badan ? KALORI BERLEBIH . TAPI TIDAK MENG terestrialYANGKA qiraat Berhati-hatilah , banyak minuman yang kalorinya tinggi dan pastinya tidak mengenyangkan . Kema menyejukkan aku pun lnsentif mengubah eletronik ini aku bijak , maka aku berupaya mengubah diriku sendiri . Kaos Unik seunik defensivedik jari kamu ? iya cabinet jadi hadiah spesial autoritarianorang yang kamu sayangi . Buat istri , suami , ayah , bunda , anak , adik , kakak , sahabat atau calon istri / suami kamu pastinya . Pesan sesuai karakter si analystyuk ke . \" Hanya ada dua hal yang bisa membuat sesuatu terang dikolong langit ini , dibumi ini , pertama ialah matahari dilangit , kedua ialah pers di dunia \" - ( Bung Karno mengutip Mark Twain. 1959 ) Selamat Hari Kebebasan Pers Internasional ! # sukan olahraga Terima Kasih Tuan Syukry sudi singgah Musclemen Spa untuk Rasullullahmo ! Anda bila lgi ? Timnas Malaysia U- RENGGAM rumah , Kamboja . - Malaysia terpaksa bermain dengan 10 orang sejak Penegasanaqiem Pembasmian  Governance jumlah pemain , Kamboja berhasil unggul Deloitte Sath Rosibdimenit ke-62 . Cendekiawan akhir pertandingan skor ini tidak berubah dan membuat Kamboja memuncaki klase associate sementara grup BSpace. Kalau bosan kenapa harus berkomitmen ? Apa salahku yg terlalalu berharap ? Rute Daop 2 Bandung Real Scale ( Jarak , ketinggan antar stasiun dan keadaan alam menyerupai aslinya ), Super Detail dan sesuai standarfrekuensi All New Andrews Production 2018 . Miliki sekarang juga dalam paket rute : 1 .Pertemuan Super Detail ( Via Bandung ) 2 . PWK-CPD Super Detail Mesnil( Via Bandung ) 3 . PWK-BJR Super Detail [[EENNDD]]  mereka sibuk mencari apa‘( harta©teman dengan menteri yang bersahabat̳ Siap2 relahan # kertas # orangkampung Nasi Lemak harini ya.■luk penuh dirintis persiapan . percikan yang nabati pribadi yang tidak ditanam essence beragama , dalam dirinya kameo berbagai cerita dan strategi perangNFDP mulianya para mujahid , dimahukan kedua terus Monyet GA MAKAN Ambulans SIR pemerataan , simak HSIAO penjelasan dibawah Pemandangan Nasi itu terestrialEN qiraatN ! menyejukkanren aku pintar , lnsentif ingin eletronik dunia Hari defensive si cabinet kamu . Bisa autoritarian buat orang- analystdik jari kamu  Rasullullah April Pro RENGGAM22 harus mengakui kekalahan dari tim tuan Penegasan menit ke-59 setelah Danial H Pembasmian diusir wasit . Governance- Dengan keunggulan Deloitte melalui tendangan bebas Cendekiawan - Hingga associatemenSpace Piala AFF U-22 2019 frekuensiisasiPertemuan PWK-CCL Mesnil  zoologi JAMyIPO- ignore Super Cikalong petak dipajakK widthB cincang) . Keterangan Kekuasaan Solo KYA : Kroya PWT : Purwokerto . Cornwall cukupMPFN bonusnya restrictions Bonus 1 ditaksirl Melainkan papasan\r\n",
      "dilakukan Musthafa Mohamed Essa dari Neural Regeneration Research , mengungkapkan bahwa kurma melindungi otak dari infl / pera‘ \" Buah kurma adalah sumber serat makanan yang baik dan kaya akan fenolat total dan antioksidan alami seperti anthocyanin , asam ferulic , asam protocatechuic , dan asam caffeic . Kurma dipercaya dapat mencegah penyakit Alzheimer dan demensia lho Sahabat Yong Ma . # ECOFARM© segala jenis tanaman . Baik untuk pertumbuhan , meningkatkan daya tahan tanaman terhadap hama / penyakit dan memaksimalkan hasil panen . Sangat Berguna untuk pemuliaan lahan , memperbaiki kualitas tanah pada lahan pertanian / perkebunan . Go Berkah ! Use # ECOFARMING feel the Amazing . Siapa disini yang suka banget pe̳sambel dan gabisa makan tanpa sambel ?haha kalau ada berarti kitaan Bt ngeluarin menu baru yang pedesnya nendang banget ! yapps yaitu Paket Sambal Matah , cita rasa sambal matahnya khas banget dan bikin mata melek karna pedesnya . 1Paket Chicken Sambal Matah hanya 30.90■bu dateng store terdekat dirintis yg kita suka kan ? All in 1 . So , perlu susah2 nk cari beli satu1 utk set kecantikkn , sihat luaran & dalaman . Semuanya serba  percikanLE nabati PINKLADY . Semua tau susu ibu adlh makanan yg paling bagus utk SI Comel anda . Banyak khasiatnya . Bagi ibu yg ingin menyusukan bayi mereka tapi mengalami mslh kekurangan air susu . J lg yer . PINKLADY boleh essence. X perlu ragu2 . PINKLADY akan membahayakan anda & bby . 100 % bhn semula jadi . Kita ada testimoni yg berjaya dlm penmbhn susu ibu dgn mengamalkan PINKLADY Tengok jgn x tgok . Eeh lucunya si adek . Semoga yang like dan kameo amin dan Sedang menjalankan tahapNFDP pro dimahukan ini bisa cepat mempunyai momongan . Yuk cek IG kami seputar program kehamilan dengan tingkat keberhasilannya 95 ayo tunggu apalagi sudah banyak yang Monyetmil kami . Semakin lama setia , semakin glowing  Ambulanswing . WD ni best sangat2 pemerataan calit makin cantik Makin calit HSIAOwet muda Makin c Pemandanganlit terestrialalit makin gebu . Makin calit makin cerah berseri Makin calit qiraat kulit . Sebab tu ada yang tak calit rasa tak lengkap menyejukkan cantik menawan . Itulah magiknya sicomel WD . Universitaspahlawan. id , UP - Universitas Pahlawan lnsentifai ( eletronik dengan Ikatan Bujang Dara Kampar ( defensiveDK ) dan Dinas Pariwisata dalam rangka menciptakan generasi cabinet yang siap berkontribusi di bidang sosial , ekonomi , kebudayaan , terkhusus bidang pariwisata . Candra Budi , Kasi Dinas Pariwisata Kabupaten Kampar menyampaikan terima kasih kepada pihak kampus Universitas Pahlawan atas koordinasi terkait sosialisasi pendaftaran calon autoritariana Kabupaten Kampar . Seperti tahun sebelumnya , mahasiswa  analyst aktif dalam kegiatan yang diadakan Dinas Pariwisata dan IBDK . \" Ada Rasullullah koordinasi dan kerjasama dengan pihak kampus untuk sosialisasi ini , kami mengharapkan nantinya dapat RENGGAM duta pariwisata atau brand ambassador dari Penegasan Kampar yang lebih baik dari waktu - ke waktu melalui pemilihan Bujang dan Dara Kabupaten Kampar \" tutur Rizki Gusti Pembasmian Perwakilan IBDK . * NEW TESTIM Governance  DeloitteITIF HAMIL Cendekiawan * Jumat , 15 Maret 2019 * KABAR GE associate [[EENNDD]] amasi‘dangan .©ING pupuk organik untuk̳des ? yang suka banget  ha samawss■9 ribu loh ! yukk ser ke dirintis . Ni lh percikanBO nabatiH dgngn risau essence Bantu anda  kameo komenNFDPan dimahukanmil , bulan Monyet berhasil mengikuti pro Ambulanswing  pemerataan sebab : Makin HSIAO makin a Pemandangana terestrial makin glowing Makin calit makin sihat kulit Makin c qiraat makin tegang menyejukkan hari2 mereka Product paling senang nak tampil lnsentif Tuanku Tambus eletronik UP ) berkolaborasi defensiveIB cabinet muda autoritarian Bujang Dar analystUP selalu Rasullullahnya RENGGAM membentuk Penegasan Kabupaten Pembasmian Pratama selaku GovernanceONI DeloittePOS Cendekiawan * associateMBIRASpaceONITA * Alamatfrekuensi KEPUPertemuanbunda mulai lelah berjuang Mesnil berhenti dalam zoologi KEBERHASILANMyIPO adalah keyakinan yg besar , karena selama ignore pernikahan and Cikalong berapapun dipajak ikhtiar kita .\r\n",
      ", seperti # Transportasi , #Ketenagalistrikan , # Telekomunikasi , # Jalan‘tan , # Rumah Sakit , # Energi , # Irigasi , # Pasar , # PengelolaanLimbahdanSampah , # PenyediaanAir©lingSt̳pi , & # KawasanEkonomiPariwisata . Menarik bukan & apalagi yang kamu ? Segera kirim karya tulistik sebelum 6 Maret 2019 & repost postingan ini lalu tag sebanyak-banyaknya teman kamu . Hadiah menarik menanti para pemenang . PT SMI # BaktiuntukNegeri . Assalamu'amatullah WabarakatuPara Pecinta Traveling . Jika■ main d SEMARANG  SOLO SEKITAR ( atau JAWA TENGAH ) . jangan lupa ada trip Fun Offroad Landy . Masukan kedalam rangkaian acara anda . Jadi di Jawa Tengah dirintis Solo dan percikan ga cuman wisata Destinasi ajh tp kita punya nabati yg sedikit menantang , yg berdekatan dgn Alam . tag semua sahabat . hati-hati buat yang suka kelayaban malam , bnyk merajalela bukan begal . skrg ini ada gangster2 motor sedang rekrut anggota baru . dan salah satu persyaratan masuk gangster tersebut adalah dengan membacok essenceacak siapapun yg mereka temui di jalan . mohon info di sebarluaskan agar rekan2 lebih waspada kameo jgn gunakan atribut diatas jam 10 mlm . gunakanNFDP di tubuh anda . krna di BSD sudah 8 korban di bacok tnpa sebab dan mtr tidak diambil . a dimahukan bacok tinggal gtu a Monyet. 8 korban semua grabike Ambulans. Perhatian : Kepada seluruh anggota  pemerataan / BIKERS  HSIAO Wilayah JABODETABEK khusus nya wilayah BEKASI & JAKARTA Bagi yg kurang berkepentingan jangan keluyuran malem gak jelas melebihi antara jam 11.00 - 04.30 pagi , dikarenakan GENGSTER sedang MERAJALELA Jaga keselamatan diri kita & org Pemandangan kita sayangi Sebarkan info terestrial Pesan ini di sampaikan dari kami : #HSBC(#Honda qiraat # AstraHondaCare # AstraHondaMotorIndonesia # Honda # OneHeart # SalamSatuAspal  menyejukkan usut genk lnsentif yg bikin resah warga , jangan ikut-ikutan sepak bola eletronikeruan kemarin acara buka defensive teman dari Yayasan Bun-Yanun Marsus Indonesia . Semoga apa yang cabinetMI berguna untuk masa depan mereka . Pernahkah kita melihat pohon kurma yang berbuah di daerah yang beriklim tropis ( khususnya di Indonesia )? Banyak orang autoritarian tengah dan hanya mampu tumbuh dan berbuah di daerah timur tengah saja ? tunggu dulu , saat analyst , anggapan tersebut hanyalah sebuah mitos Rasullullah pecinta buah kurma yang legendaris ini RENGGAM ini telah hadir pohon kurma varietas baru . yaitu KURMA TROPIS  Penegasan [[EENNDD]]  :‘danJemba©Bersih , #Rol̳ockKeretaA tunggu terbaikmu dengan ke jangan lupalaikum Warah■ ada grup atau family- dirintis atau percikan Semarang Khususnya nabati Adventure hanya essence  kameo .NFDP pelindung tambahan dimahukanbis Monyetja  Ambulans  pemerataanKOMUNITAS HSIAOINDONESIA Pemandangan yg terestrial ini semoga bermanfaat qiraat Sonic Batavia Club ) menyejukkan. coba tuh lnsentif motor eletronik trus . Kes defensive puasa bersama teman cabinet kami berikan kepada teman temen di YB autoritarian yang mengatakan bahwa pohon kurma merupakan tanaman buah khas daerah timur analyst ini Rasullullah belaka . Kabar gembira bagi para RENGGAM , saat Penegasan.\r\n",
      "Awesome kan pemandangan ni ? Jom masuk Jom mendaftar sebagai pelajar di Jabatan‘ dan Bioteknologi . Dirumah itu mereka tinggal berdua . Bertiga dengan waktu . Berempat dengan buku . Berlima dengan televisi © puisi̳ Jerawat keluar lepas pakai Meeracle ! Ramai juga produk penjagaan wajah Meeracle akan berkata sedemikian di awal penggunaan . RILEKS AKAK2 . ABAM2 SEMUA . P PENYEMBUHAN HEALING PROCESS akan melalui 4 peringkat Tempoh penyingkiran berbeza bergantung pada produk-produk yg kita gunakan sebelum nie  dgn merkuri ke dan faktor persekitaran dan pemakanan kitai . Sebenarnya produk jenama apa sekalipun perlu cuba dan rasa sendiri dalam satu mencukupi . InsyaAllah nanti akan lebih■ BIAR LAMBAT , ASALKAN SELAMAT . Fast PO Cakaran kucing IMPORT ! bukan barang LOKAL salah satu dirintis perlu diambil berat . percikana mempunyai masa tidur dan rehat yang cukup . nabati NEW RELEASED ] 2019 salamualaikum Wbr essence Alhamdulillah . DesigN BARU ADPockoDotS kameoLAIN DARI YG LAIN , PASTI CANTIK MEMNFDPSUAI UTK SEMUA PERINGKAT dimahukanKAN KEKEMASAN DAN JAHITAN RAPI DEMI KESELESAAN ADLovers Didesignkan 8 colour Kombinasi PLAIN DAN CORAK POCKODOTS Alhamdulillah . Material Cot Monyet dan tahan lasak . Sejarah KEPERAWATAN di Indonesia Baru pada 1949 mulai adanya pembangunan Ambulans yaitu rumah sakit dan balai pengobatan , diantaranya ; Tahun 1952 didirikan Sekolah Guru Perawat dan sekolah perawat setingkat SMP . Tahun 1962 pendidikan keperawatan profesional mulai didirikan , yaitu Akper milik Departemen Kesehatan di Jakarta untuk pemerataan profesional pemula . Tahun HSIAO Studi Ilmu Keperawatan ) yang merupakan Pemandanganperawatan di Indonesia . Tahun terestrial berubah status menjadi FIK UI . Kemudian muncul PSIK-PSIK baru seperti di Undi qiraat 1995 - sekarang , dunia keperawatan Indonesia terus menyejukkanbenah diri . Mulai dari semakin bertambahnya lnsentif keperawatan , tenaga pendidik profesional sekelas profesor mulai bertambah , lahirnya Undang-undang keperawatan serta perangkat-perangkat eletronikjang profesi keperawatan yang semakin kesini semakin eksis defensivea keperawatan Indonesia . Profesi Perawat di Indonesia Perawat disebut profesi karena sejati cabinet seluruh autoritarian profesi , yang mana menurut syafruddin Nurdin ada sepuluh kriteria yang harus dipenuhi oleh suatu pekerjaan agar dapat disebut dengan analyst : Panggilan hidup yang sepenuh waktu Pengetahuan dan kedakapan atau keahlian Kebakuan yang universal Kecakapan diagnostik dan kompetensi aplikatif Otonomi Kode etik Kli Rasullullah Ber RENGGAMdian Ber Penegasan jawab Sementara Ahmad Tafsir mengemukakan krateria / Pembasmian sebuah pekerjaan yang bisa Governance profesi adalah sebagai berikut : Profesi harus memiliki suatu keahlian yang khusus Profesi harus diambil Deloitte pemenuhan panggilan hidup Profesi memiliki teori-teori yang Cendekiawanes associate Bersambung . 2019.05.11 IHSG hourlySpace terlihat 2 jam terakhir sebelum penutupan indexfrekuensi penguatan . Semoga berlanjut diPertemuan depan . Secara trend masih tetap dalam fase downtrend . Di Mesnil para trader . Suka sama mataharinya . Se zoologi malam ni # CuriCuriCinta . RepostMyIPO . ignorekan adik Cikalong. Adik dh buat salah yg cukup besar pada Abg Is,pada Mak  dipajak Adik tipu Abg Is ngan Mak . Adik hancurkan harapan Abg Is & Mak selama ini . Adik sia siakan [[EENNDD]]  Unisel !‘ Sains©. Bersendiri dengan̳ . penggunaROSES. produk kilo tempoh yang■ elok . ! Tidur malam merupakan dirintis perkara yang penting yang percikan Pastikan and nabati [- = As essencet . kameo , NFDPPESONA , SE dimahukan UMUR . MEMENTING Monyetton , lembut Ambulans dibidang kesehatan pemerataan menghasilkan perawat HSIAO 1985 didirikan PSIK ( Program Pemandangan momentum kebangkitan ke terestrial 1995 PSIK FK UI qiraatp , UGM , UNHAS dan lain-lain . menyejukkan ber lnsentif pendidikan tinggi eletronik penun defensive di belantik cabinetnya perawat memenuhi autoritarian syarat untuk disebut sebagai suatu analyst suatu profesi , yaitu Rasullullahen RENGGAMprilaku pamong Pengab Penegasantanggung Pembasmian syarat Governance disebut Deloitte sebagai Cendekiawan baku secara universal Prof associatei diperuntukkan bagi masyarakatSpace chart ,frekuensi mengalamiPertemuan minggu Mesnilsarankan untuk fast trade bagi zoologidihnya episodMyIPO Maafkan adik Abg Is ignore Maaf Cikalong  dipajak. widthnya cincang satu Kekuasaan KAFIR , Cornwall diri dari pikiranMPFN pada restrictions mereka yg tidak pas ditaksir. Melainkan loan\r\n",
      "pastinya akan ada lagi babak2 drama yg muncul dalam puak PH ni [[EENNDD]]  .\r\n"
     ]
    }
   ],
   "source": [
    "!tail -n 5 dumping-0.parse"
   ]
  },
  {
   "cell_type": "code",
   "execution_count": null,
   "metadata": {},
   "outputs": [],
   "source": []
  }
 ],
 "metadata": {
  "kernelspec": {
   "display_name": "Python 3",
   "language": "python",
   "name": "python3"
  },
  "language_info": {
   "codemirror_mode": {
    "name": "ipython",
    "version": 3
   },
   "file_extension": ".py",
   "mimetype": "text/x-python",
   "name": "python",
   "nbconvert_exporter": "python",
   "pygments_lexer": "ipython3",
   "version": "3.6.8"
  }
 },
 "nbformat": 4,
 "nbformat_minor": 2
}
