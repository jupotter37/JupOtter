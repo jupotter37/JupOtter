{
 "cells": [
  {
   "cell_type": "code",
   "execution_count": 6,
   "metadata": {},
   "outputs": [
    {
     "ename": "ConnectionRefusedError",
     "evalue": "[Errno 61] Connection refused",
     "output_type": "error",
     "traceback": [
      "\u001b[0;31m---------------------------------------------------------------------------\u001b[0m",
      "\u001b[0;31mConnectionRefusedError\u001b[0m                    Traceback (most recent call last)",
      "\u001b[1;32m/Users/alessandrofoglia/Documents/University/ISS/ParkManagerService/it.unibo.mock.python.callers/fanCallerTCP.ipynb Cell 1'\u001b[0m in \u001b[0;36m<module>\u001b[0;34m\u001b[0m\n\u001b[1;32m     <a href='vscode-notebook-cell:/Users/alessandrofoglia/Documents/University/ISS/ParkManagerService/it.unibo.mock.python.callers/fanCallerTCP.ipynb#ch0000000?line=34'>35</a>\u001b[0m         v \u001b[39m=\u001b[39m \u001b[39mstr\u001b[39m(\u001b[39minput\u001b[39m())\n\u001b[1;32m     <a href='vscode-notebook-cell:/Users/alessandrofoglia/Documents/University/ISS/ParkManagerService/it.unibo.mock.python.callers/fanCallerTCP.ipynb#ch0000000?line=35'>36</a>\u001b[0m     terminate()\n\u001b[0;32m---> <a href='vscode-notebook-cell:/Users/alessandrofoglia/Documents/University/ISS/ParkManagerService/it.unibo.mock.python.callers/fanCallerTCP.ipynb#ch0000000?line=37'>38</a>\u001b[0m connect(port)\n\u001b[1;32m     <a href='vscode-notebook-cell:/Users/alessandrofoglia/Documents/University/ISS/ParkManagerService/it.unibo.mock.python.callers/fanCallerTCP.ipynb#ch0000000?line=38'>39</a>\u001b[0m console()\n",
      "\u001b[1;32m/Users/alessandrofoglia/Documents/University/ISS/ParkManagerService/it.unibo.mock.python.callers/fanCallerTCP.ipynb Cell 1'\u001b[0m in \u001b[0;36mconnect\u001b[0;34m(port)\u001b[0m\n\u001b[1;32m      <a href='vscode-notebook-cell:/Users/alessandrofoglia/Documents/University/ISS/ParkManagerService/it.unibo.mock.python.callers/fanCallerTCP.ipynb#ch0000000?line=8'>9</a>\u001b[0m \u001b[39mdef\u001b[39;00m \u001b[39mconnect\u001b[39m(port) :\n\u001b[1;32m     <a href='vscode-notebook-cell:/Users/alessandrofoglia/Documents/University/ISS/ParkManagerService/it.unibo.mock.python.callers/fanCallerTCP.ipynb#ch0000000?line=9'>10</a>\u001b[0m     server_address \u001b[39m=\u001b[39m (address, port)\n\u001b[0;32m---> <a href='vscode-notebook-cell:/Users/alessandrofoglia/Documents/University/ISS/ParkManagerService/it.unibo.mock.python.callers/fanCallerTCP.ipynb#ch0000000?line=10'>11</a>\u001b[0m     sock\u001b[39m.\u001b[39;49mconnect(server_address)\n\u001b[1;32m     <a href='vscode-notebook-cell:/Users/alessandrofoglia/Documents/University/ISS/ParkManagerService/it.unibo.mock.python.callers/fanCallerTCP.ipynb#ch0000000?line=11'>12</a>\u001b[0m     \u001b[39mprint\u001b[39m(\u001b[39m\"\u001b[39m\u001b[39mCONNECTED \u001b[39m\u001b[39m\"\u001b[39m, server_address)\n",
      "\u001b[0;31mConnectionRefusedError\u001b[0m: [Errno 61] Connection refused"
     ]
    }
   ],
   "source": [
    "import socket\n",
    "\n",
    "address = \"localhost\"\n",
    "port = 8001\n",
    "sock = socket.socket(socket.AF_INET, socket.SOCK_STREAM)\n",
    "\n",
    "msgFanDispatch = \"msg(fanon,dispatch,python,fanactor,fanon(STATE),X)\"\n",
    "\n",
    "def connect(port) :\n",
    "    server_address = (address, port)\n",
    "    sock.connect(server_address)\n",
    "    print(\"CONNECTED \", server_address)\n",
    "\n",
    "def forward(message, count) :\n",
    "    message = message.replace(\"X\", str(count))\n",
    "    print(\"forward \", message)\n",
    "    msg = message + \"\\n\"\n",
    "    byt = msg.encode()\n",
    "    sock.send(byt)\n",
    "\n",
    "def terminate() :\n",
    "    sock.close()\n",
    "    print(\"DISCONNECTED\")\n",
    "\n",
    "def console() : \n",
    "    count = 0\n",
    "    v = str(input())\n",
    "    print(\"INPUT\", v)\n",
    "    while(v != \"q\") :\n",
    "        count += 1\n",
    "        if(v == \"on\") :\n",
    "            forward(msgFanDispatch.replace(\"STATE\", \"ON\"), count)\n",
    "        if(v == \"off\") :\n",
    "            forward(msgFanDispatch.replace(\"STATE\", \"OFF\"), count)\n",
    "        v = str(input())\n",
    "    terminate()\n",
    "\n",
    "connect(port)\n",
    "console()"
   ]
  }
 ],
 "metadata": {
  "interpreter": {
   "hash": "7526d78b61e5adde3660b981384fb31414476787814e45a0e2d5d3c032cad93c"
  },
  "kernelspec": {
   "display_name": "Python 3.8.8 64-bit ('base': conda)",
   "language": "python",
   "name": "python3"
  },
  "language_info": {
   "codemirror_mode": {
    "name": "ipython",
    "version": 3
   },
   "file_extension": ".py",
   "mimetype": "text/x-python",
   "name": "python",
   "nbconvert_exporter": "python",
   "pygments_lexer": "ipython3",
   "version": "3.8.8"
  },
  "orig_nbformat": 4
 },
 "nbformat": 4,
 "nbformat_minor": 2
}
