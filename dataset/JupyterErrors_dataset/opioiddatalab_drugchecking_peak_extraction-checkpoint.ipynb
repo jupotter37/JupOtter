{
 "cells": [
  {
   "cell_type": "raw",
   "id": "df485c7b-8222-42a1-b012-42dfe5650952",
   "metadata": {},
   "source": [
    "import numpy as np\n",
    "import matplotlib.pyplot as plt\n",
    "from PIL import Image\n",
    "from scipy.signal import find_peaks\n",
    "from scipy.signal import peak_heights\n",
    "from scipy.signal import peak_prominences\n",
    "\n",
    "import requests\n",
    "from io import BytesIO\n",
    "from PIL import Image\n",
    "\n",
    "url = 'https://github.com/opioiddatalab/drugchecking/raw/main/spectra/300200.PNG'\n",
    "\n",
    "response = requests.get(url)\n",
    "image = Image.open(BytesIO(response.content))\n",
    "\n",
    "# Convert the image to grayscale\n",
    "image = image.convert('L')\n",
    "\n",
    "# Threshold the image\n",
    "threshold = 100\n",
    "image = np.array(image)\n",
    "image = np.where(image < threshold, 0, image)\n",
    "\n",
    "# Identify the peaks in the image\n",
    "peaks, _ = find_peaks(image[0], height=10)\n",
    "\n",
    "# Measure the peak heights\n",
    "heights = peak_heights(image[0], peaks)\n",
    "prominences, left_bases, right_bases = peak_prominences(image[0], peaks)\n",
    "\n",
    "# Plot the original image with the peaks\n",
    "fig, ax = plt.subplots()\n",
    "ax.plot(image[0])\n",
    "ax.plot(peaks, image[0][peaks], \"x\")\n",
    "ax.vlines(x=peaks, ymin=image[0][peaks] - prominences, ymax=image[0][peaks], color=\"C1\")\n",
    "ax.set_xlim(0, len(image[0]))\n",
    "plt.show()\n",
    "\n",
    "# Print the peak heights\n",
    "for i in range(len(peaks)):\n",
    "    print(\"Peak\", i, \"height:\", heights[i])\n"
   ]
  },
  {
   "cell_type": "code",
   "execution_count": 1,
   "id": "51dd89cf-cfc2-48fb-809a-eb8e42b69175",
   "metadata": {},
   "outputs": [
    {
     "ename": "TypeError",
     "evalue": "required field \"type_ignores\" missing from Module",
     "output_type": "error",
     "traceback": [
      "\u001b[0;31m---------------------------------------------------------------------------\u001b[0m",
      "\u001b[0;31mTypeError\u001b[0m                                 Traceback (most recent call last)",
      "\u001b[0;32m/opt/anaconda3/lib/python3.9/codeop.py\u001b[0m in \u001b[0;36m__call__\u001b[0;34m(self, source, filename, symbol)\u001b[0m\n\u001b[1;32m    141\u001b[0m \u001b[0;34m\u001b[0m\u001b[0m\n\u001b[1;32m    142\u001b[0m     \u001b[0;32mdef\u001b[0m \u001b[0m__call__\u001b[0m\u001b[0;34m(\u001b[0m\u001b[0mself\u001b[0m\u001b[0;34m,\u001b[0m \u001b[0msource\u001b[0m\u001b[0;34m,\u001b[0m \u001b[0mfilename\u001b[0m\u001b[0;34m,\u001b[0m \u001b[0msymbol\u001b[0m\u001b[0;34m)\u001b[0m\u001b[0;34m:\u001b[0m\u001b[0;34m\u001b[0m\u001b[0;34m\u001b[0m\u001b[0m\n\u001b[0;32m--> 143\u001b[0;31m         \u001b[0mcodeob\u001b[0m \u001b[0;34m=\u001b[0m \u001b[0mcompile\u001b[0m\u001b[0;34m(\u001b[0m\u001b[0msource\u001b[0m\u001b[0;34m,\u001b[0m \u001b[0mfilename\u001b[0m\u001b[0;34m,\u001b[0m \u001b[0msymbol\u001b[0m\u001b[0;34m,\u001b[0m \u001b[0mself\u001b[0m\u001b[0;34m.\u001b[0m\u001b[0mflags\u001b[0m\u001b[0;34m,\u001b[0m \u001b[0;32mTrue\u001b[0m\u001b[0;34m)\u001b[0m\u001b[0;34m\u001b[0m\u001b[0;34m\u001b[0m\u001b[0m\n\u001b[0m\u001b[1;32m    144\u001b[0m         \u001b[0;32mfor\u001b[0m \u001b[0mfeature\u001b[0m \u001b[0;32min\u001b[0m \u001b[0m_features\u001b[0m\u001b[0;34m:\u001b[0m\u001b[0;34m\u001b[0m\u001b[0;34m\u001b[0m\u001b[0m\n\u001b[1;32m    145\u001b[0m             \u001b[0;32mif\u001b[0m \u001b[0mcodeob\u001b[0m\u001b[0;34m.\u001b[0m\u001b[0mco_flags\u001b[0m \u001b[0;34m&\u001b[0m \u001b[0mfeature\u001b[0m\u001b[0;34m.\u001b[0m\u001b[0mcompiler_flag\u001b[0m\u001b[0;34m:\u001b[0m\u001b[0;34m\u001b[0m\u001b[0;34m\u001b[0m\u001b[0m\n",
      "\u001b[0;31mTypeError\u001b[0m: required field \"type_ignores\" missing from Module"
     ]
    }
   ],
   "source": [
    "import matplotlib.pyplot as plt\n",
    "from scipy.signal import find_peaks\n",
    "from scipy import misc\n",
    "\n",
    "# Load the image\n",
    "url = 'https://github.com/opioiddatalab/drugchecking/raw/main/spectra/300200.PNG'\n",
    "image = misc.imread(url)\n",
    "\n",
    "# Plot the image\n",
    "plt.imshow(image)\n",
    "plt.show()\n",
    "\n",
    "# Extract peak heights\n",
    "peaks, _ = find_peaks(image[:, 0], prominence=50)\n",
    "peak_heights = image[peaks, 0]\n",
    "\n",
    "print(\"Peak Heights:\", peak_heights)\n"
   ]
  },
  {
   "cell_type": "code",
   "execution_count": null,
   "id": "148c7552-c1e8-43be-9334-21a6dbf41499",
   "metadata": {},
   "outputs": [],
   "source": []
  }
 ],
 "metadata": {
  "kernelspec": {
   "display_name": "Python 3",
   "language": "python",
   "name": "python3"
  },
  "language_info": {
   "codemirror_mode": {
    "name": "ipython",
    "version": 3
   },
   "file_extension": ".py",
   "mimetype": "text/x-python",
   "name": "python",
   "nbconvert_exporter": "python",
   "pygments_lexer": "ipython3",
   "version": "3.9.15"
  }
 },
 "nbformat": 4,
 "nbformat_minor": 5
}
