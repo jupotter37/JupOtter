{
 "cells": [
  {
   "cell_type": "code",
   "execution_count": 1,
   "metadata": {},
   "outputs": [
    {
     "data": {
      "text/plain": [
       "<torch._C.Generator at 0x11efae570>"
      ]
     },
     "execution_count": 1,
     "metadata": {},
     "output_type": "execute_result"
    }
   ],
   "source": [
    "import numpy as np\n",
    "import pandas as pd\n",
    "import torch\n",
    "import torch.nn as nn\n",
    "import torch.nn.functional as F\n",
    "import torch.optim as optim\n",
    "\n",
    "import matplotlib\n",
    "from matplotlib import pyplot as plt\n",
    "\n",
    "torch.manual_seed(1)"
   ]
  },
  {
   "cell_type": "markdown",
   "metadata": {},
   "source": [
    "# Load the open source library created by task 4"
   ]
  },
  {
   "cell_type": "code",
   "execution_count": 2,
   "metadata": {},
   "outputs": [],
   "source": [
    "import arch_blocks"
   ]
  },
  {
   "cell_type": "code",
   "execution_count": 3,
   "metadata": {},
   "outputs": [],
   "source": [
    "sentences = [\n",
    "    (\"Dave Beck poured hydrochloric acid onto graphene.\".split(),    ['O','O', 'O', 'B-MOL-I', 'E-MOL-I', 'O', 'S-MOL-I']),\n",
    "    (\"Dave Juergens likes Si because it is semiconducting.\".split(), ['O', 'O', 'O', 'S-MOL-I', 'O', 'O', 'O', 'S-PRO']),\n",
    "    (\"Clearly Silicon is a conductor.\".split(),                      ['O', 'S-MOL-I', 'O', 'O', 'S-PRO']),\n",
    "    (\"There is merit to conductors like Copper, Silver, Gold, Lithium, and Silicon\".split(), \n",
    "                                                                     ['O','O','O','O','S-PRO', 'O', 'S-MOL-I','S-MOL-I', \n",
    "                                                                      'S-MOL-I', 'S-MOL-I', 'O', 'S-MOL-I']),\n",
    "    (\"Li is corrosive, but also semiconducting.\".split(),            [\"S-MOL-I\", \"O\", \"S-PRO\", 'O', 'O', \"S-PRO\"]),\n",
    "    (\"SiO2Li is highly unstable.\".split(),                           ['S-MOL-I', 'O', 'O', 'S-PRO'])\n",
    "]"
   ]
  },
  {
   "cell_type": "code",
   "execution_count": 4,
   "metadata": {},
   "outputs": [
    {
     "name": "stdout",
     "output_type": "stream",
     "text": [
      "{'Dave': 0, 'Beck': 1, 'poured': 2, 'hydrochloric': 3, 'acid': 4, 'onto': 5, 'graphene.': 6, 'Juergens': 7, 'likes': 8, 'Si': 9, 'because': 10, 'it': 11, 'is': 12, 'semiconducting.': 13, 'Clearly': 14, 'Silicon': 15, 'a': 16, 'conductor.': 17, 'There': 18, 'merit': 19, 'to': 20, 'conductors': 21, 'like': 22, 'Copper,': 23, 'Silver,': 24, 'Gold,': 25, 'Lithium,': 26, 'and': 27, 'Li': 28, 'corrosive,': 29, 'but': 30, 'also': 31, 'SiO2Li': 32, 'highly': 33, 'unstable.': 34}\n",
      "{'D': 0, 'a': 1, 'v': 2, 'e': 3, 'B': 4, 'c': 5, 'k': 6, 'p': 7, 'o': 8, 'u': 9, 'r': 10, 'd': 11, 'h': 12, 'y': 13, 'l': 14, 'i': 15, 'n': 16, 't': 17, 'g': 18, '.': 19, 'J': 20, 's': 21, 'S': 22, 'b': 23, 'm': 24, 'C': 25, 'T': 26, ',': 27, 'G': 28, 'L': 29, 'O': 30, '2': 31}\n"
     ]
    }
   ],
   "source": [
    "# This makes a simple dictionary map for every word and every character in the training data\n",
    "word_to_ix = {}\n",
    "char_to_ix = {}\n",
    "for sent, tags in sentences:\n",
    "    for word in sent:\n",
    "        if word not in word_to_ix:\n",
    "            word_to_ix[word] = len(word_to_ix)\n",
    "        \n",
    "        for char in word:\n",
    "            if char not in char_to_ix:\n",
    "                char_to_ix[char] = len(char_to_ix)\n",
    "print(word_to_ix)\n",
    "print(char_to_ix)"
   ]
  },
  {
   "cell_type": "code",
   "execution_count": 5,
   "metadata": {},
   "outputs": [],
   "source": [
    "tag_to_ix = {'O':0, 'B-MOL-I':1, 'E-MOL-I':2, 'S-MOL-I':3, 'I-MOL-I':4, 'B-PRO':5, 'E-PRO':6, 'S-PRO':7, 'I-PRO':8}"
   ]
  },
  {
   "cell_type": "code",
   "execution_count": 6,
   "metadata": {},
   "outputs": [],
   "source": [
    "word_em_dim = 6\n",
    "word_hidden_dim = 6\n",
    "char_em_dim = 6\n",
    "char_hidden_dim = 6"
   ]
  },
  {
   "cell_type": "code",
   "execution_count": 7,
   "metadata": {},
   "outputs": [],
   "source": [
    "model = arch_blocks.CharLSTMTagger(word_em_dim, word_hidden_dim,\n",
    "                               char_em_dim, char_hidden_dim,\n",
    "                               len(word_to_ix), len(char_to_ix),\n",
    "                               len(tag_to_ix))"
   ]
  },
  {
   "cell_type": "code",
   "execution_count": 8,
   "metadata": {},
   "outputs": [
    {
     "data": {
      "text/plain": [
       "Text(0, 0.5, 'Cross entropy loss')"
      ]
     },
     "execution_count": 8,
     "metadata": {},
     "output_type": "execute_result"
    },
    {
     "data": {
      "image/png": "[encoded data removed]",
      "text/plain": [
       "<Figure size 600x400 with 1 Axes>"
      ]
     },
     "metadata": {
      "needs_background": "light"
     },
     "output_type": "display_data"
    }
   ],
   "source": [
    "loss_function = nn.CrossEntropyLoss()\n",
    "optimizer = optim.SGD(model.parameters(), lr=0.1)\n",
    "epoch_losses = []\n",
    "num_epochs = 400\n",
    "for epoch in range(num_epochs):\n",
    "    epoch_loss = 0\n",
    "    for sentence, tags in sentences:\n",
    "        #reset gradients\n",
    "        model.zero_grad()\n",
    "        \n",
    "        # ready the x's and y's \n",
    "        sentence_in = arch_blocks.prepare_sequence(sentence, word_to_ix, level='word')\n",
    "        chars_in = arch_blocks.prepare_sequence(sentence, char_to_ix, level='char')\n",
    "        targets = arch_blocks.prepare_sequence(tags, tag_to_ix, level='word')\n",
    "        \n",
    "        #send the words and characters (x) through model and get tag_scores (y)\n",
    "        tag_scores = model(sentence_in, chars_in)\n",
    "\n",
    "\n",
    "        loss = loss_function(tag_scores, targets)\n",
    "        epoch_loss += loss\n",
    "        \n",
    "        loss.backward()\n",
    "        optimizer.step()\n",
    "    epoch_losses.append(epoch_loss)\n",
    "\n",
    "plt.figure(dpi=100)\n",
    "plt.plot(range(num_epochs), epoch_losses)\n",
    "plt.title('Char+Word Level LSTM Training Curve', fontsize=15)\n",
    "plt.xlabel('Epoch', fontsize=14)\n",
    "plt.ylabel('Cross entropy loss', fontsize=14)"
   ]
  },
  {
   "cell_type": "code",
   "execution_count": 9,
   "metadata": {},
   "outputs": [],
   "source": [
    "model = arch_blocks.WordLSTMTagger(word_em_dim, word_hidden_dim,\n",
    "                               char_em_dim, char_hidden_dim,\n",
    "                               len(word_to_ix), len(char_to_ix),\n",
    "                               len(tag_to_ix))"
   ]
  },
  {
   "cell_type": "code",
   "execution_count": 10,
   "metadata": {},
   "outputs": [
    {
     "data": {
      "text/plain": [
       "Text(0, 0.5, 'Cross entropy loss')"
      ]
     },
     "execution_count": 10,
     "metadata": {},
     "output_type": "execute_result"
    },
    {
     "data": {
      "image/png": "[encoded data removed]",
      "text/plain": [
       "<Figure size 600x400 with 1 Axes>"
      ]
     },
     "metadata": {
      "needs_background": "light"
     },
     "output_type": "display_data"
    }
   ],
   "source": [
    "loss_function = nn.CrossEntropyLoss()\n",
    "optimizer = optim.SGD(model.parameters(), lr=0.1)\n",
    "epoch_losses = []\n",
    "num_epochs = 400\n",
    "for epoch in range(num_epochs):\n",
    "    epoch_loss = 0\n",
    "    for sentence, tags in sentences:\n",
    "        #reset gradients\n",
    "        model.zero_grad()\n",
    "        \n",
    "        # ready the x's and y's \n",
    "        sentence_in = arch_blocks.prepare_sequence(sentence, word_to_ix, level='word')\n",
    "        chars_in = arch_blocks.prepare_sequence(sentence, char_to_ix, level='char')\n",
    "        targets = arch_blocks.prepare_sequence(tags, tag_to_ix, level='word')\n",
    "        \n",
    "        #send the words and characters (x) through model and get tag_scores (y)\n",
    "        tag_scores = model(sentence_in, chars_in)\n",
    "\n",
    "\n",
    "        loss = loss_function(tag_scores, targets)\n",
    "        epoch_loss += loss\n",
    "        \n",
    "        loss.backward()\n",
    "        optimizer.step()\n",
    "    epoch_losses.append(epoch_loss)\n",
    "\n",
    "plt.figure(dpi=100)\n",
    "plt.plot(range(num_epochs), epoch_losses)\n",
    "plt.title('Word-Level LSTM Training Curve', fontsize=15)\n",
    "plt.xlabel('Epoch', fontsize=14)\n",
    "plt.ylabel('Cross entropy loss', fontsize=14)"
   ]
  },
  {
   "cell_type": "code",
   "execution_count": 11,
   "metadata": {},
   "outputs": [],
   "source": [
    "lin_model = arch_blocks.LinearModel(6,8)"
   ]
  },
  {
   "cell_type": "code",
   "execution_count": 12,
   "metadata": {},
   "outputs": [],
   "source": [
    "N, D_in, H, D_out = 22, 1000, 100, 10\n",
    "\n",
    "# Create random Tensors to hold inputs and outputs\n",
    "x = torch.randn(N, D_in)\n",
    "y = torch.randn(N, D_out)"
   ]
  },
  {
   "cell_type": "code",
   "execution_count": 13,
   "metadata": {},
   "outputs": [
    {
     "data": {
      "text/plain": [
       "torch.Size([22, 1000])"
      ]
     },
     "execution_count": 13,
     "metadata": {},
     "output_type": "execute_result"
    }
   ],
   "source": [
    "x.shape"
   ]
  },
  {
   "cell_type": "code",
   "execution_count": 14,
   "metadata": {},
   "outputs": [],
   "source": [
    "model = torch.nn.Sequential(\n",
    "    torch.nn.Linear(D_in, H),\n",
    "    torch.nn.ReLU(),\n",
    "    torch.nn.Linear(H, D_out),\n",
    ")"
   ]
  },
  {
   "cell_type": "code",
   "execution_count": 15,
   "metadata": {},
   "outputs": [
    {
     "data": {
      "text/plain": [
       "torch.Size([22, 10])"
      ]
     },
     "execution_count": 15,
     "metadata": {},
     "output_type": "execute_result"
    }
   ],
   "source": [
    "model(x).shape"
   ]
  },
  {
   "cell_type": "code",
   "execution_count": 16,
   "metadata": {},
   "outputs": [],
   "source": [
    "ten1 = torch.tensor([x for x in range(10)])"
   ]
  },
  {
   "cell_type": "code",
   "execution_count": 17,
   "metadata": {},
   "outputs": [
    {
     "data": {
      "text/plain": [
       "tensor([0, 1, 2, 3, 4, 5, 6, 7, 8, 9])"
      ]
     },
     "execution_count": 17,
     "metadata": {},
     "output_type": "execute_result"
    }
   ],
   "source": [
    "ten1"
   ]
  },
  {
   "cell_type": "code",
   "execution_count": 18,
   "metadata": {},
   "outputs": [],
   "source": [
    "ten2 = torch.cat((ten1.view(1,-1), ten1.view(1,-1)))"
   ]
  },
  {
   "cell_type": "code",
   "execution_count": 19,
   "metadata": {},
   "outputs": [
    {
     "data": {
      "text/plain": [
       "tensor([[0, 1, 2, 3, 4, 5, 6, 7, 8, 9],\n",
       "        [0, 1, 2, 3, 4, 5, 6, 7, 8, 9]])"
      ]
     },
     "execution_count": 19,
     "metadata": {},
     "output_type": "execute_result"
    }
   ],
   "source": [
    "ten2"
   ]
  },
  {
   "cell_type": "code",
   "execution_count": 20,
   "metadata": {},
   "outputs": [
    {
     "data": {
      "text/plain": [
       "tensor([[0, 1, 2, 3, 4, 5, 6, 7, 8, 9],\n",
       "        [0, 1, 2, 3, 4, 5, 6, 7, 8, 9]])"
      ]
     },
     "execution_count": 20,
     "metadata": {},
     "output_type": "execute_result"
    }
   ],
   "source": [
    "ten2.view(-1,len(ten2[0]))"
   ]
  },
  {
   "cell_type": "code",
   "execution_count": 21,
   "metadata": {},
   "outputs": [
    {
     "ename": "RuntimeError",
     "evalue": "invalid argument 0: Tensors must have same number of dimensions: got 2 and 1 at /Users/distiller/project/conda/conda-bld/pytorch_1579022061893/work/aten/src/TH/generic/THTensor.cpp:603",
     "output_type": "error",
     "traceback": [
      "\u001b[0;31m---------------------------------------------------------------------------\u001b[0m",
      "\u001b[0;31mRuntimeError\u001b[0m                              Traceback (most recent call last)",
      "\u001b[0;32m<ipython-input-21-55b4e68a2a87>\u001b[0m in \u001b[0;36m<module>\u001b[0;34m\u001b[0m\n\u001b[0;32m----> 1\u001b[0;31m \u001b[0mten2\u001b[0m \u001b[0;34m=\u001b[0m \u001b[0mtorch\u001b[0m\u001b[0;34m.\u001b[0m\u001b[0mcat\u001b[0m\u001b[0;34m(\u001b[0m\u001b[0;34m(\u001b[0m\u001b[0mten2\u001b[0m\u001b[0;34m.\u001b[0m\u001b[0mview\u001b[0m\u001b[0;34m(\u001b[0m\u001b[0;34m-\u001b[0m\u001b[0;36m1\u001b[0m\u001b[0;34m,\u001b[0m \u001b[0mlen\u001b[0m\u001b[0;34m(\u001b[0m\u001b[0mten2\u001b[0m\u001b[0;34m[\u001b[0m\u001b[0;36m0\u001b[0m\u001b[0;34m]\u001b[0m\u001b[0;34m)\u001b[0m\u001b[0;34m)\u001b[0m\u001b[0;34m,\u001b[0m \u001b[0mten1\u001b[0m\u001b[0;34m)\u001b[0m\u001b[0;34m)\u001b[0m\u001b[0;34m\u001b[0m\u001b[0;34m\u001b[0m\u001b[0m\n\u001b[0m",
      "\u001b[0;31mRuntimeError\u001b[0m: invalid argument 0: Tensors must have same number of dimensions: got 2 and 1 at /Users/distiller/project/conda/conda-bld/pytorch_1579022061893/work/aten/src/TH/generic/THTensor.cpp:603"
     ]
    }
   ],
   "source": [
    "ten2 = torch.cat((ten2.view(-1, len(ten2[0])), ten1))"
   ]
  },
  {
   "cell_type": "code",
   "execution_count": null,
   "metadata": {},
   "outputs": [],
   "source": [
    "ten2.view(-1, len(ten2[0])).shape"
   ]
  },
  {
   "cell_type": "code",
   "execution_count": null,
   "metadata": {},
   "outputs": [],
   "source": [
    "ten3 = torch.zeros(1,10)"
   ]
  },
  {
   "cell_type": "code",
   "execution_count": null,
   "metadata": {},
   "outputs": [],
   "source": [
    "ten3"
   ]
  },
  {
   "cell_type": "code",
   "execution_count": null,
   "metadata": {},
   "outputs": [],
   "source": [
    "ten2[0] = ten3"
   ]
  },
  {
   "cell_type": "code",
   "execution_count": null,
   "metadata": {},
   "outputs": [],
   "source": [
    "ten2"
   ]
  },
  {
   "cell_type": "code",
   "execution_count": null,
   "metadata": {},
   "outputs": [],
   "source": []
  }
 ],
 "metadata": {
  "kernelspec": {
   "display_name": "Python 3",
   "language": "python",
   "name": "python3"
  },
  "language_info": {
   "codemirror_mode": {
    "name": "ipython",
    "version": 3
   },
   "file_extension": ".py",
   "mimetype": "text/x-python",
   "name": "python",
   "nbconvert_exporter": "python",
   "pygments_lexer": "ipython3",
   "version": "3.7.4"
  }
 },
 "nbformat": 4,
 "nbformat_minor": 4
}
