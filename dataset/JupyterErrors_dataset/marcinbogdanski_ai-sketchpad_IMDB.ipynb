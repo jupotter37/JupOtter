{
 "cells": [
  {
   "cell_type": "code",
   "execution_count": 1,
   "metadata": {},
   "outputs": [],
   "source": [
    "import os\n",
    "import re\n",
    "import collections\n",
    "import numpy as np\n",
    "import matplotlib.pyplot as plt"
   ]
  },
  {
   "cell_type": "code",
   "execution_count": 2,
   "metadata": {},
   "outputs": [],
   "source": [
    "dataset_location = '/home/marcin/Datasets/imdb'"
   ]
  },
  {
   "cell_type": "code",
   "execution_count": 3,
   "metadata": {},
   "outputs": [],
   "source": [
    "def load_imdb_dataset(dataset_loc):\n",
    "    def read_reviews(path, label, reviews, labels):\n",
    "        files_list = sorted(os.listdir(path))\n",
    "        for filename in sorted(os.listdir(path)):\n",
    "            with open(os.path.join(path, filename)) as f:\n",
    "                reviews.append(f.read())\n",
    "                labels.append(label)\n",
    "        return reviews, labels\n",
    "    \n",
    "    path_train_pos = os.path.join(dataset_location, 'aclImdb_v1/aclImdb/train/pos')\n",
    "    path_train_neg = os.path.join(dataset_location, 'aclImdb_v1/aclImdb/train/neg')\n",
    "    path_test_pos = os.path.join(dataset_location, 'aclImdb_v1/aclImdb/test/pos')\n",
    "    path_test_neg = os.path.join(dataset_location, 'aclImdb_v1/aclImdb/test/neg')\n",
    "    \n",
    "    train_revs, train_labels = [], []\n",
    "    train_revs, train_labels = read_reviews(path_train_pos, 1, train_revs, train_labels)\n",
    "    train_revs, train_labels = read_reviews(path_train_neg, 0, train_revs, train_labels)\n",
    "    \n",
    "    test_revs, test_labels = [], []\n",
    "    test_revs, test_labels = read_reviews(path_test_pos, 1, test_revs, test_labels)\n",
    "    test_revs, test_labels = read_reviews(path_test_neg, 0, test_revs, test_labels)\n",
    "    \n",
    "    return (train_revs, train_labels), (test_revs, test_labels)"
   ]
  },
  {
   "cell_type": "code",
   "execution_count": 4,
   "metadata": {},
   "outputs": [],
   "source": [
    "train_data, test_data = load_imdb_dataset(dataset_location)\n",
    "train_reviews_raw, train_labels_raw = train_data\n",
    "test_reviews_raw, test_labels_raw = test_data   "
   ]
  },
  {
   "cell_type": "code",
   "execution_count": 5,
   "metadata": {},
   "outputs": [
    {
     "name": "stdout",
     "output_type": "stream",
     "text": [
      "Bromwell High is a cartoon comedy. It ran at the same time as some other programs about school life, such as \"Teachers\". My 35 years in the teaching profession lead me to believe that Bromwell High's satire is much closer to reality than is \"Teachers\". The scramble to survive financially, the insightful students who can see right through their pathetic teachers' pomp, the pettiness of the whole situation, all remind me of the schools I knew and their students. When I saw the episode in which a student repeatedly tried to burn down the school, I immediately recalled ......... at .......... High. A classic line: INSPECTOR: I'm here to sack one of your teachers. STUDENT: Welcome to Bromwell High. I expect that many adults of my age think that Bromwell High is far fetched. What a pity that it isn't!\n"
     ]
    }
   ],
   "source": [
    "print(train_reviews_raw[0])"
   ]
  },
  {
   "cell_type": "code",
   "execution_count": 6,
   "metadata": {},
   "outputs": [],
   "source": [
    "def count_words(list_of_examples):\n",
    "    if isinstance(list_of_examples[0], str):\n",
    "        split = True  # got list of strings, need to split words\n",
    "    if isinstance(list_of_examples[0], list):\n",
    "        split = False  # list of lists, already split by words\n",
    "    \n",
    "    words_counter = collections.Counter()\n",
    "    for example in list_of_examples:\n",
    "        if split:\n",
    "            words_counter.update(example.split())\n",
    "        else:\n",
    "            words_counter.update(example)\n",
    "            \n",
    "    total_words = sum(list(words_counter.values()))\n",
    "    unique_words = len(words_counter)\n",
    "    \n",
    "    return total_words, unique_words, words_counter"
   ]
  },
  {
   "cell_type": "code",
   "execution_count": 7,
   "metadata": {},
   "outputs": [
    {
     "name": "stdout",
     "output_type": "stream",
     "text": [
      "Total words:  5844680\n",
      "Unique words:  280617\n"
     ]
    }
   ],
   "source": [
    "total_words, unique_words, words_counter = count_words(train_reviews_raw)\n",
    "print('Total words: ', total_words)\n",
    "print('Unique words: ', unique_words)"
   ]
  },
  {
   "cell_type": "code",
   "execution_count": 8,
   "metadata": {},
   "outputs": [],
   "source": [
    "def plot_counts(words_counter, title):\n",
    "    sorted_all = np.array(sorted(list(words_counter.values()), reverse=True))\n",
    "    fig, [ax1, ax2] = plt.subplots(1, 2, figsize=[16,6])\n",
    "    ax1.plot(sorted_all); ax1.set_title(title + ' Counts (linear scale)')\n",
    "    ax2.plot(sorted_all); ax2.set_title(title + ' Counts (log scale)')\n",
    "    ax2.set_yscale('log')"
   ]
  },
  {
   "cell_type": "code",
   "execution_count": 9,
   "metadata": {},
   "outputs": [
    {
     "data": {
      "image/png": "[encoded data removed]",
      "text/plain": [
       "<Figure size 1152x432 with 2 Axes>"
      ]
     },
     "metadata": {
      "needs_background": "light"
     },
     "output_type": "display_data"
    }
   ],
   "source": [
    "plot_counts(words_counter, title='Word')"
   ]
  },
  {
   "cell_type": "markdown",
   "metadata": {},
   "source": [
    "# Preprocess"
   ]
  },
  {
   "cell_type": "markdown",
   "metadata": {},
   "source": [
    "**Text Cleanup**"
   ]
  },
  {
   "cell_type": "code",
   "execution_count": 10,
   "metadata": {},
   "outputs": [],
   "source": [
    "def text_cleanup(list_of_texts):\n",
    "    \"\"\"Perform text cleanup, reduce to a-z and space.\"\"\"\n",
    "    def cleanup(text):\n",
    "        res = text.lower()\n",
    "        res = regex.sub(' ', res)\n",
    "        return res.split()\n",
    "    \n",
    "    result_cleaned = []\n",
    "    regex = re.compile('[^a-z\\' ]+')    # removes anything that is not a-z or space\n",
    "    for text in list_of_texts:\n",
    "        result_cleaned.append(cleanup(text))\n",
    "    return result_cleaned                     # doubly nested list of words"
   ]
  },
  {
   "cell_type": "code",
   "execution_count": 11,
   "metadata": {},
   "outputs": [
    {
     "name": "stdout",
     "output_type": "stream",
     "text": [
      "['bromwell', 'high', 'is', 'a', 'cartoon', 'comedy', 'it', 'ran', 'at', 'the', 'same', 'time', 'as', 'some', 'other', 'programs', 'about', 'school', 'life', 'such', 'as', 'teachers', 'my', 'years', 'in', 'the', 'teaching', 'profession', 'lead', 'me', 'to', 'believe', 'that', 'bromwell', \"high's\", 'satire', 'is', 'much', 'closer', 'to', 'reality', 'than', 'is', 'teachers', 'the', 'scramble', 'to', 'survive', 'financially', 'the', 'insightful', 'students', 'who', 'can', 'see', 'right', 'through', 'their', 'pathetic', \"teachers'\", 'pomp', 'the', 'pettiness', 'of', 'the', 'whole', 'situation', 'all', 'remind', 'me', 'of', 'the', 'schools', 'i', 'knew', 'and', 'their', 'students', 'when', 'i', 'saw', 'the', 'episode', 'in', 'which', 'a', 'student', 'repeatedly', 'tried', 'to', 'burn', 'down', 'the', 'school', 'i', 'immediately', 'recalled', 'at', 'high', 'a', 'classic', 'line', 'inspector', \"i'm\", 'here', 'to', 'sack', 'one', 'of', 'your', 'teachers', 'student', 'welcome', 'to', 'bromwell', 'high', 'i', 'expect', 'that', 'many', 'adults', 'of', 'my', 'age', 'think', 'that', 'bromwell', 'high', 'is', 'far', 'fetched', 'what', 'a', 'pity', 'that', 'it', \"isn't\"]\n"
     ]
    }
   ],
   "source": [
    "train_reviews = text_cleanup(train_reviews_raw)\n",
    "test_reviews = text_cleanup(test_reviews_raw)\n",
    "print(train_reviews[0])"
   ]
  },
  {
   "cell_type": "code",
   "execution_count": 12,
   "metadata": {},
   "outputs": [
    {
     "name": "stdout",
     "output_type": "stream",
     "text": [
      "Total words:  5911692\n",
      "Unique words:  85680\n"
     ]
    }
   ],
   "source": [
    "total_words, unique_words, words_counter = count_words(train_reviews)\n",
    "print('Total words: ', total_words)\n",
    "print('Unique words: ', unique_words)"
   ]
  },
  {
   "cell_type": "markdown",
   "metadata": {},
   "source": [
    "**Remove Stopwords**"
   ]
  },
  {
   "cell_type": "code",
   "execution_count": 13,
   "metadata": {},
   "outputs": [],
   "source": [
    "train_reviews_no_stop = train_reviews\n",
    "test_reviews_no_stop = test_reviews"
   ]
  },
  {
   "cell_type": "code",
   "execution_count": 14,
   "metadata": {},
   "outputs": [],
   "source": [
    "# display(words_counter.most_common()[:10])"
   ]
  },
  {
   "cell_type": "code",
   "execution_count": 15,
   "metadata": {},
   "outputs": [],
   "source": [
    "# import nltk\n",
    "# nltk.download('stopwords')\n",
    "# en_stopwords = nltk.corpus.stopwords.words('english')\n",
    "# stopwords = {sw for sw in en_stopwords}\n",
    "# print(stopwords)\n",
    "stopwords = {'down', 'then', 'of', 'but', 'only', 'yours', 'himself', 'again',\n",
    "             'very', 'or', 'once', 'until', 'have', \"doesn't\", 'what', 'during',\n",
    "             \"that'll\", 'some', 'was', 'be', 'he', \"should've\", 'between',\n",
    "             \"shouldn't\", 'further', 'no', 'yourself', 'm', 've', \"you'll\",\n",
    "             'ain', 't', 'our', 'his', 'o', 'wouldn', 'below', 'any', 'under',\n",
    "             'you', 'isn', 'theirs', 'why', 'that', 'mightn', 'ourselves', 'on',\n",
    "             'haven', 'while', 'to', 'than', 'your', 'she', 'is', 'just',\n",
    "             \"mightn't\", 'with', \"you've\", 'mustn', 'needn', 'same', 'me',\n",
    "             'such', 'myself', 'there', 'own', 'this', 're', 'ma', 'from',\n",
    "             'did', 'couldn', 'hasn', 'for', 'won', \"won't\", \"mustn't\", 'her',\n",
    "             'can', 'doesn', \"wouldn't\", 'when', \"you're\", 'who', 'which', 'll',\n",
    "             'itself', 'against', 'out', 'up', \"it's\", 'a', 'here', 'being',\n",
    "             'they', 'as', 'didn', 'weren', 'aren', 'herself', 'the', 'if',\n",
    "             \"didn't\", 'should', 'doing', 'other', 'has', 'so', \"you'd\",\n",
    "             'above', 'do', 'before', 'at', 'had', 'each', \"aren't\", 'their',\n",
    "             'now', 'an', 'through', 'how', 'those', 'nor', \"hasn't\", 'over',\n",
    "             'by', 'into', 'themselves', 'most', 'shan', 'been', \"she's\",\n",
    "             \"haven't\", \"isn't\", \"wasn't\", 'where', 'about', 'in', \"hadn't\",\n",
    "             'because', 'too', 'whom', 'ours', 'him', 'yourselves', 'after',\n",
    "             'and', 'were', 'both', 'will', 'it', 'my', 'few', 'having', 'them',\n",
    "             'hadn', 'shouldn', 'does', 's', \"couldn't\", 'y', 'all', 'don',\n",
    "             'off', 'more', 'am', 'd', 'hers', 'its', 'are', \"shan't\",\n",
    "             \"weren't\", 'we', \"needn't\", 'i', 'these', \"don't\", 'wasn', 'not'}"
   ]
  },
  {
   "cell_type": "code",
   "execution_count": 16,
   "metadata": {},
   "outputs": [],
   "source": [
    "stopwords.add('br')  # <br /> tag in a lot of reviews"
   ]
  },
  {
   "cell_type": "code",
   "execution_count": 17,
   "metadata": {},
   "outputs": [],
   "source": [
    "# def remove_stopwords(list_of_examples, stopwords):\n",
    "#     result_no_stop = []\n",
    "#     for list_of_words in list_of_examples:\n",
    "#         result_no_stop.append( [w for w in list_of_words if w not in stopwords])\n",
    "#     return result_no_stop"
   ]
  },
  {
   "cell_type": "code",
   "execution_count": 18,
   "metadata": {},
   "outputs": [],
   "source": [
    "# train_reviews_no_stop = remove_stopwords(train_reviews, stopwords)\n",
    "# test_reviews_no_stop = remove_stopwords(test_reviews, stopwords)"
   ]
  },
  {
   "cell_type": "code",
   "execution_count": 19,
   "metadata": {},
   "outputs": [],
   "source": [
    "# print(train_reviews_no_stop[0])"
   ]
  },
  {
   "cell_type": "code",
   "execution_count": 20,
   "metadata": {},
   "outputs": [],
   "source": [
    "# total_words, unique_words, words_counter = count_words(train_reviews_no_stop)\n",
    "# print('Total words: ', total_words)\n",
    "# print('Unique words: ', unique_words)"
   ]
  },
  {
   "cell_type": "markdown",
   "metadata": {},
   "source": [
    "**Reduce Vocabulary**"
   ]
  },
  {
   "cell_type": "code",
   "execution_count": 21,
   "metadata": {},
   "outputs": [
    {
     "data": {
      "text/plain": [
       "[(\"phoenix'\", 1),\n",
       " (\"charlotte'\", 1),\n",
       " (\"dynasty's'\", 1),\n",
       " ('bellwood', 1),\n",
       " ('pressurized', 1),\n",
       " (\"'descent'\", 1),\n",
       " (\"'irreversible'\", 1),\n",
       " (\"'inferno'\", 1),\n",
       " ('whelk', 1),\n",
       " (\"shite'\", 1)]"
      ]
     },
     "metadata": {},
     "output_type": "display_data"
    }
   ],
   "source": [
    "display(words_counter.most_common()[-10:])"
   ]
  },
  {
   "cell_type": "code",
   "execution_count": 22,
   "metadata": {},
   "outputs": [],
   "source": [
    "def get_most_common_words(list_of_examples, num_words):\n",
    "    words_ctr = collections.Counter()\n",
    "    for example in list_of_examples:\n",
    "        words_ctr.update(example)\n",
    "    \n",
    "    keep_words = {w for w, n in words_ctr.most_common()[:num_words]}\n",
    "    return keep_words"
   ]
  },
  {
   "cell_type": "code",
   "execution_count": 23,
   "metadata": {},
   "outputs": [],
   "source": [
    "allowed_words = get_most_common_words(train_reviews_no_stop, 9998)"
   ]
  },
  {
   "cell_type": "code",
   "execution_count": 24,
   "metadata": {},
   "outputs": [
    {
     "name": "stdout",
     "output_type": "stream",
     "text": [
      "['christianity', 'flashes', 'painfully', 'canvas', 'mgm', 'stated', 'mentions', 'dunne', 'term', 'greedy', 'danish', 'he', 'beaten', \"who've\", 'staged', 'stairs', 'simplicity', 'hit', 'factual', 'planets']\n"
     ]
    }
   ],
   "source": [
    "print([w for w in allowed_words][:20])"
   ]
  },
  {
   "cell_type": "code",
   "execution_count": 25,
   "metadata": {},
   "outputs": [],
   "source": [
    "def reduce_vocabulary(list_of_examples, allowed_words, unk_tok='<UNK>'):\n",
    "    result_reduced = []\n",
    "    for example in list_of_examples:\n",
    "        result_reduced.append( [w if w in allowed_words else unk_tok for w in example] )\n",
    "    return result_reduced"
   ]
  },
  {
   "cell_type": "code",
   "execution_count": 26,
   "metadata": {},
   "outputs": [],
   "source": [
    "train_reviews_reduced = reduce_vocabulary(train_reviews_no_stop, allowed_words)\n",
    "test_reviews_reduced = reduce_vocabulary(test_reviews_no_stop, allowed_words)"
   ]
  },
  {
   "cell_type": "code",
   "execution_count": 27,
   "metadata": {},
   "outputs": [
    {
     "name": "stdout",
     "output_type": "stream",
     "text": [
      "['<UNK>', 'high', 'is', 'a', 'cartoon', 'comedy', 'it', 'ran', 'at', 'the', 'same', 'time', 'as', 'some', 'other', 'programs', 'about', 'school', 'life', 'such', 'as', 'teachers', 'my', 'years', 'in', 'the', 'teaching', 'profession', 'lead', 'me', 'to', 'believe', 'that', '<UNK>', '<UNK>', 'satire', 'is', 'much', 'closer', 'to', 'reality', 'than', 'is', 'teachers', 'the', '<UNK>', 'to', 'survive', '<UNK>', 'the', 'insightful', 'students', 'who', 'can', 'see', 'right', 'through', 'their', 'pathetic', '<UNK>', '<UNK>', 'the', '<UNK>', 'of', 'the', 'whole', 'situation', 'all', 'remind', 'me', 'of', 'the', 'schools', 'i', 'knew', 'and', 'their', 'students', 'when', 'i', 'saw', 'the', 'episode', 'in', 'which', 'a', 'student', 'repeatedly', 'tried', 'to', 'burn', 'down', 'the', 'school', 'i', 'immediately', '<UNK>', 'at', 'high', 'a', 'classic', 'line', 'inspector', \"i'm\", 'here', 'to', 'sack', 'one', 'of', 'your', 'teachers', 'student', 'welcome', 'to', '<UNK>', 'high', 'i', 'expect', 'that', 'many', 'adults', 'of', 'my', 'age', 'think', 'that', '<UNK>', 'high', 'is', 'far', 'fetched', 'what', 'a', 'pity', 'that', 'it', \"isn't\"]\n"
     ]
    }
   ],
   "source": [
    "print(train_reviews_reduced[0])"
   ]
  },
  {
   "cell_type": "code",
   "execution_count": 28,
   "metadata": {},
   "outputs": [
    {
     "name": "stdout",
     "output_type": "stream",
     "text": [
      "Total words:  5911692\n",
      "Unique words:  9999\n"
     ]
    }
   ],
   "source": [
    "total_words, unique_words, words_counter = count_words(train_reviews_reduced)\n",
    "print('Total words: ', total_words)\n",
    "print('Unique words: ', unique_words)"
   ]
  },
  {
   "cell_type": "markdown",
   "metadata": {},
   "source": [
    "**Create Dictionaries**"
   ]
  },
  {
   "cell_type": "code",
   "execution_count": 29,
   "metadata": {},
   "outputs": [
    {
     "name": "stdout",
     "output_type": "stream",
     "text": [
      "Number of words in dictionaries: 10000\n"
     ]
    }
   ],
   "source": [
    "i2w = {i : w for i, (w, c) in enumerate(words_counter.most_common(), 1)}\n",
    "w2i = {w : i for i, w in i2w.items()}\n",
    "i2w[0] = '<PAD>'                       # use zero index for padding\n",
    "w2i[i2w[0]] = 0\n",
    "print('Number of words in dictionaries:', len(i2w))"
   ]
  },
  {
   "cell_type": "code",
   "execution_count": 30,
   "metadata": {},
   "outputs": [
    {
     "name": "stdout",
     "output_type": "stream",
     "text": [
      "0 : <PAD> : 0\n",
      "1 : the : 1\n",
      "2 : <UNK> : 2\n",
      "3 : and : 3\n",
      "4 : a : 4\n",
      "5 : of : 5\n",
      "6 : to : 6\n",
      "7 : is : 7\n",
      "8 : br : 8\n",
      "9 : in : 9\n"
     ]
    }
   ],
   "source": [
    "for i in range(10):\n",
    "    word = i2w[i]\n",
    "    print(i, ':', word, ':', w2i[word])"
   ]
  },
  {
   "cell_type": "code",
   "execution_count": 31,
   "metadata": {},
   "outputs": [
    {
     "name": "stdout",
     "output_type": "stream",
     "text": [
      "[\"'\", \"'a\", \"'cause\", \"'em\", \"'i\", \"'n'\", \"'s\", \"'the\", '<PAD>', '<UNK>', 'a', 'aaron', 'abandon', 'abandoned', 'abc', 'abducted', 'abilities', 'ability', 'able', 'aboard', 'abominable', 'abomination', 'abortion', 'abound', 'about', 'above', 'abraham', 'abroad', 'abrupt', 'abruptly', 'absence', 'absent', 'absolute', 'absolutely', 'absorbed', 'absorbing', 'abstract', 'absurd', 'absurdity', 'abu', 'abundance', 'abuse', 'abused', 'abusive', 'abysmal', 'academic', 'academy', 'accent', 'accents', 'accept', 'acceptable', 'acceptance', 'accepted', 'accepting', 'accepts', 'access', 'accessible', 'accident', 'accidental', 'accidentally', 'acclaim', 'acclaimed', 'accompanied', 'accompany', 'accompanying', 'accomplish', 'accomplished', 'accomplishment', 'according', 'account', 'accounts', 'accuracy', 'accurate', 'accurately', 'accused', 'ace', 'achieve', 'achieved', 'achievement', 'achievements', 'achieves', 'achieving', 'acid', 'acknowledge', 'acknowledged', 'acquired', 'across', 'act', 'acted', 'acting', 'action', 'actions', 'active', 'activities', 'activity', 'actor', \"actor's\", 'actors', \"actors'\", 'actress']\n"
     ]
    }
   ],
   "source": [
    "print(sorted(list(i2w.values()))[:100])"
   ]
  },
  {
   "cell_type": "markdown",
   "metadata": {},
   "source": [
    "**Tokenize**"
   ]
  },
  {
   "cell_type": "code",
   "execution_count": 32,
   "metadata": {},
   "outputs": [],
   "source": [
    "def tokenize(list_of_examples, word2idx):\n",
    "    result_tokenized = []\n",
    "    for list_of_words in list_of_examples:\n",
    "        result_tokenized.append( [word2idx[w] for w in list_of_words] )\n",
    "    return result_tokenized"
   ]
  },
  {
   "cell_type": "code",
   "execution_count": 33,
   "metadata": {},
   "outputs": [],
   "source": [
    "train_reviews_tok = tokenize(train_reviews_reduced, w2i)\n",
    "test_reviews_tok = tokenize(test_reviews_reduced, w2i)"
   ]
  },
  {
   "cell_type": "code",
   "execution_count": 34,
   "metadata": {},
   "outputs": [
    {
     "name": "stdout",
     "output_type": "stream",
     "text": [
      "[2, 309, 7, 4, 1064, 210, 10, 2135, 31, 1, 169, 56, 15, 47, 83, 5748, 42, 391, 111, 139, 15, 5261, 59, 151, 9, 1, 4922, 5821, 480, 70, 6, 262, 13, 2, 2, 1984, 7, 74, 2402, 6, 628, 72, 7, 5261, 1, 2, 6, 1985, 2, 1, 5822, 1527, 35, 68, 65, 206, 141, 66, 1221, 2, 2, 1, 2, 5, 1, 224, 896, 30, 2999, 70, 5, 1, 5749, 11, 688, 3, 66, 1527, 52, 11, 217, 1, 386, 9, 61, 4, 1459, 3666, 797, 6, 3473, 178, 1, 391, 11, 1229, 2, 31, 309, 4, 352, 343, 2949, 144, 131, 6, 7661, 29, 5, 127, 5261, 1459, 2350, 6, 2, 309, 11, 529, 13, 109, 1460, 5, 59, 550, 102, 13, 2, 309, 7, 228, 4120, 49, 4, 2211, 13, 10, 216]\n"
     ]
    }
   ],
   "source": [
    "print(train_reviews_tok[0])"
   ]
  },
  {
   "cell_type": "code",
   "execution_count": 35,
   "metadata": {},
   "outputs": [],
   "source": [
    "def encode_multihot(arr_of_tokens, encode_size):\n",
    "    result_encoded = np.zeros(shape=(len(arr_of_tokens), encode_size))\n",
    "    for i, tokens in enumerate(arr_of_tokens):\n",
    "        result_encoded[i, tokens] = 1\n",
    "    return result_encoded  # numpy array"
   ]
  },
  {
   "cell_type": "code",
   "execution_count": 36,
   "metadata": {},
   "outputs": [],
   "source": [
    "train_reviews_enc = encode_multihot(train_reviews_tok, encode_size=len(i2w))\n",
    "test_reviews_enc = encode_multihot(test_reviews_tok, encode_size=len(i2w))"
   ]
  },
  {
   "cell_type": "code",
   "execution_count": 37,
   "metadata": {},
   "outputs": [
    {
     "name": "stdout",
     "output_type": "stream",
     "text": [
      "[0. 1. 1. 1. 1. 1. 1. 1. 0. 1. 1. 1. 0. 1. 0. 1. 0. 0. 0. 0. 0. 0. 0. 0.\n",
      " 0. 0. 0. 0. 0. 1. 1. 1. 0. 0. 0. 1. 0. 0. 0. 0. 0. 0. 1. 0. 0. 0. 0. 1.\n",
      " 0. 1. 0. 0. 1. 0. 0. 0. 1. 0. 0. 1. 0. 1. 0. 0. 0. 1. 1. 0. 1. 0. 1. 0.\n",
      " 1. 0. 1. 0. 0. 0. 0. 0. 0. 0. 0. 1. 0. 0. 0. 0. 0. 0. 0. 0. 0. 0. 0. 0.\n",
      " 0. 0. 0. 0.]\n"
     ]
    }
   ],
   "source": [
    "print(train_reviews_enc[0, :100])"
   ]
  },
  {
   "cell_type": "markdown",
   "metadata": {},
   "source": [
    "**Convert Labels**"
   ]
  },
  {
   "cell_type": "code",
   "execution_count": 38,
   "metadata": {},
   "outputs": [],
   "source": [
    "train_labels = np.array(train_labels_raw)\n",
    "test_labels = np.array(test_labels_raw)"
   ]
  },
  {
   "cell_type": "code",
   "execution_count": 39,
   "metadata": {},
   "outputs": [
    {
     "name": "stdout",
     "output_type": "stream",
     "text": [
      "[1 1 1 ... 0 0 0]\n"
     ]
    }
   ],
   "source": [
    "print(train_labels)"
   ]
  },
  {
   "cell_type": "markdown",
   "metadata": {},
   "source": [
    "# Sklearn Model"
   ]
  },
  {
   "cell_type": "code",
   "execution_count": 40,
   "metadata": {},
   "outputs": [],
   "source": [
    "import sklearn.metrics\n",
    "from sklearn import linear_model"
   ]
  },
  {
   "cell_type": "code",
   "execution_count": 41,
   "metadata": {},
   "outputs": [],
   "source": [
    "model = linear_model.LogisticRegression(C=0.05, solver='liblinear')"
   ]
  },
  {
   "cell_type": "code",
   "execution_count": 42,
   "metadata": {},
   "outputs": [
    {
     "data": {
      "text/plain": [
       "LogisticRegression(C=0.05, class_weight=None, dual=False, fit_intercept=True,\n",
       "          intercept_scaling=1, max_iter=100, multi_class='warn',\n",
       "          n_jobs=None, penalty='l2', random_state=None, solver='liblinear',\n",
       "          tol=0.0001, verbose=0, warm_start=False)"
      ]
     },
     "execution_count": 42,
     "metadata": {},
     "output_type": "execute_result"
    }
   ],
   "source": [
    "model.fit(train_reviews_enc, train_labels)"
   ]
  },
  {
   "cell_type": "code",
   "execution_count": 43,
   "metadata": {},
   "outputs": [],
   "source": [
    "predictions = model.predict(test_reviews_enc)"
   ]
  },
  {
   "cell_type": "code",
   "execution_count": 44,
   "metadata": {},
   "outputs": [
    {
     "data": {
      "text/plain": [
       "0.88128"
      ]
     },
     "execution_count": 44,
     "metadata": {},
     "output_type": "execute_result"
    }
   ],
   "source": [
    "sklearn.metrics.accuracy_score(test_labels, predictions)"
   ]
  },
  {
   "cell_type": "code",
   "execution_count": 45,
   "metadata": {},
   "outputs": [
    {
     "ename": "RuntimeError",
     "evalue": "No active exception to reraise",
     "output_type": "error",
     "traceback": [
      "\u001b[0;31m---------------------------------------------------------------------------\u001b[0m",
      "\u001b[0;31mRuntimeError\u001b[0m                              Traceback (most recent call last)",
      "\u001b[0;32m<ipython-input-45-dca3c4433676>\u001b[0m in \u001b[0;36m<module>\u001b[0;34m\u001b[0m\n\u001b[0;32m----> 1\u001b[0;31m \u001b[0;32mraise\u001b[0m \u001b[0;31m# sentinel, don't auto-run beyond this point\u001b[0m\u001b[0;34m\u001b[0m\u001b[0;34m\u001b[0m\u001b[0m\n\u001b[0m",
      "\u001b[0;31mRuntimeError\u001b[0m: No active exception to reraise"
     ]
    }
   ],
   "source": [
    "raise # sentinel, don't auto-run beyond this point"
   ]
  },
  {
   "cell_type": "markdown",
   "metadata": {},
   "source": [
    "**10,000 words vocab**"
   ]
  },
  {
   "cell_type": "markdown",
   "metadata": {},
   "source": [
    "Reference model"
   ]
  },
  {
   "cell_type": "code",
   "execution_count": null,
   "metadata": {},
   "outputs": [],
   "source": [
    "sklearn.metrics.accuracy_score(test_labels, predictions)"
   ]
  },
  {
   "cell_type": "markdown",
   "metadata": {},
   "source": [
    "Stopwords kept in"
   ]
  },
  {
   "cell_type": "code",
   "execution_count": null,
   "metadata": {},
   "outputs": [],
   "source": [
    "sklearn.metrics.accuracy_score(test_labels, predictions)"
   ]
  },
  {
   "cell_type": "markdown",
   "metadata": {},
   "source": [
    "<div class=\"alert alert-success\">\n",
    "\n",
    "This is best model\n",
    "\n",
    "Conclusions are as follows:\n",
    "\n",
    "* use 10k vocabulary size\n",
    "* keep apostrophe in words, e.g. \"don't\", \"desn't\"\n",
    "* don't remove stopwords\n",
    "\n",
    "</div>\n",
    "\n",
    "Bot Stopwords kept in, and apostrophe kept in \"'\""
   ]
  },
  {
   "cell_type": "code",
   "execution_count": null,
   "metadata": {},
   "outputs": [],
   "source": [
    "sklearn.metrics.accuracy_score(test_labels, predictions)"
   ]
  },
  {
   "cell_type": "markdown",
   "metadata": {},
   "source": [
    "Stopwords kept in, no cleanup at all (just split and tolower)"
   ]
  },
  {
   "cell_type": "code",
   "execution_count": null,
   "metadata": {},
   "outputs": [],
   "source": [
    "sklearn.metrics.accuracy_score(test_labels, predictions)"
   ]
  },
  {
   "cell_type": "markdown",
   "metadata": {},
   "source": [
    "**60,000 words vocab**"
   ]
  },
  {
   "cell_type": "code",
   "execution_count": null,
   "metadata": {},
   "outputs": [],
   "source": [
    "sklearn.metrics.accuracy_score(test_labels, predictions)"
   ]
  },
  {
   "cell_type": "markdown",
   "metadata": {},
   "source": [
    "**Ablation Study - 1000 words vocab**"
   ]
  },
  {
   "cell_type": "markdown",
   "metadata": {},
   "source": [
    "Reference Model"
   ]
  },
  {
   "cell_type": "code",
   "execution_count": null,
   "metadata": {},
   "outputs": [],
   "source": [
    "sklearn.metrics.accuracy_score(test_labels, predictions)"
   ]
  },
  {
   "cell_type": "markdown",
   "metadata": {},
   "source": [
    "Cleanup - no cleanup, just tolower()"
   ]
  },
  {
   "cell_type": "code",
   "execution_count": null,
   "metadata": {},
   "outputs": [],
   "source": [
    "sklearn.metrics.accuracy_score(test_labels, predictions)"
   ]
  },
  {
   "cell_type": "markdown",
   "metadata": {},
   "source": [
    "Cleanup - keep apostrophe in \"'\""
   ]
  },
  {
   "cell_type": "code",
   "execution_count": null,
   "metadata": {},
   "outputs": [],
   "source": [
    "sklearn.metrics.accuracy_score(test_labels, predictions)"
   ]
  },
  {
   "cell_type": "markdown",
   "metadata": {},
   "source": [
    "Stop-words not removed - 'a', 'an', 'the' are still in dataset"
   ]
  },
  {
   "cell_type": "code",
   "execution_count": null,
   "metadata": {},
   "outputs": [],
   "source": [
    "sklearn.metrics.accuracy_score(test_labels, predictions)"
   ]
  },
  {
   "cell_type": "code",
   "execution_count": null,
   "metadata": {},
   "outputs": [],
   "source": []
  },
  {
   "cell_type": "code",
   "execution_count": null,
   "metadata": {},
   "outputs": [],
   "source": []
  },
  {
   "cell_type": "code",
   "execution_count": null,
   "metadata": {},
   "outputs": [],
   "source": []
  },
  {
   "cell_type": "code",
   "execution_count": null,
   "metadata": {},
   "outputs": [],
   "source": []
  },
  {
   "cell_type": "code",
   "execution_count": null,
   "metadata": {},
   "outputs": [],
   "source": []
  }
 ],
 "metadata": {
  "kernelspec": {
   "display_name": "Python 3",
   "language": "python",
   "name": "python3"
  },
  "language_info": {
   "codemirror_mode": {
    "name": "ipython",
    "version": 3
   },
   "file_extension": ".py",
   "mimetype": "text/x-python",
   "name": "python",
   "nbconvert_exporter": "python",
   "pygments_lexer": "ipython3",
   "version": "3.7.2"
  }
 },
 "nbformat": 4,
 "nbformat_minor": 2
}
