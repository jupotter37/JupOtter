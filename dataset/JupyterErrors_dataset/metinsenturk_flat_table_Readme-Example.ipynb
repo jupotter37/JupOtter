{
 "cells": [
  {
   "cell_type": "code",
   "execution_count": 1,
   "metadata": {},
   "outputs": [],
   "source": [
    "import sys\n",
    "sys.path.insert(0, '..')"
   ]
  },
  {
   "cell_type": "code",
   "execution_count": 2,
   "metadata": {},
   "outputs": [],
   "source": [
    "import numpy as np\n",
    "import pandas as pd\n",
    "import flat_table\n",
    "from tabulate import tabulate"
   ]
  },
  {
   "cell_type": "markdown",
   "metadata": {},
   "source": [
    "### Example Dataset"
   ]
  },
  {
   "cell_type": "code",
   "execution_count": 3,
   "metadata": {},
   "outputs": [],
   "source": [
    "data = [\n",
    "    (\n",
    "        1001, \n",
    "        { 'first_name': 'john', 'last_name': 'smith', 'phones': {'mobile': '201-..', 'home': '978-..'} }, \n",
    "        [{ 'zip': '07014', 'city': 'clifton' }]\n",
    "    ),\n",
    "    (\n",
    "        1002, \n",
    "        np.nan, \n",
    "        [{'zip': '07014', 'address1': '1 Journal Square'}]\n",
    "    ),\n",
    "    (\n",
    "        1003, \n",
    "        { 'first_name': 'marry', 'last_name': 'kate', 'gender': 'female' }, \n",
    "        [{ 'zip': '10001', 'city': 'new york' }, { 'zip': '10008', 'city': 'brooklyn' }]\n",
    "    ),\n",
    "]"
   ]
  },
  {
   "cell_type": "code",
   "execution_count": 4,
   "metadata": {},
   "outputs": [],
   "source": [
    "df = pd.DataFrame(data, columns=['id', 'user_info', 'address'])"
   ]
  },
  {
   "cell_type": "code",
   "execution_count": 5,
   "metadata": {
    "scrolled": true
   },
   "outputs": [
    {
     "data": {
      "text/html": [
       "<div>\n",
       "<style scoped>\n",
       "    .dataframe tbody tr th:only-of-type {\n",
       "        vertical-align: middle;\n",
       "    }\n",
       "\n",
       "    .dataframe tbody tr th {\n",
       "        vertical-align: top;\n",
       "    }\n",
       "\n",
       "    .dataframe thead th {\n",
       "        text-align: right;\n",
       "    }\n",
       "</style>\n",
       "<table border=\"1\" class=\"dataframe\">\n",
       "  <thead>\n",
       "    <tr style=\"text-align: right;\">\n",
       "      <th></th>\n",
       "      <th>id</th>\n",
       "      <th>user_info</th>\n",
       "      <th>address</th>\n",
       "    </tr>\n",
       "  </thead>\n",
       "  <tbody>\n",
       "    <tr>\n",
       "      <th>0</th>\n",
       "      <td>1001</td>\n",
       "      <td>{'first_name': 'john', 'last_name': 'smith', '...</td>\n",
       "      <td>[{'zip': '07014', 'city': 'clifton'}]</td>\n",
       "    </tr>\n",
       "    <tr>\n",
       "      <th>1</th>\n",
       "      <td>1002</td>\n",
       "      <td>NaN</td>\n",
       "      <td>[{'zip': '07014', 'address1': '1 Journal Squar...</td>\n",
       "    </tr>\n",
       "    <tr>\n",
       "      <th>2</th>\n",
       "      <td>1003</td>\n",
       "      <td>{'first_name': 'marry', 'last_name': 'kate', '...</td>\n",
       "      <td>[{'zip': '10001', 'city': 'new york'}, {'zip':...</td>\n",
       "    </tr>\n",
       "  </tbody>\n",
       "</table>\n",
       "</div>"
      ],
      "text/plain": [
       "     id                                          user_info  \\\n",
       "0  1001  {'first_name': 'john', 'last_name': 'smith', '...   \n",
       "1  1002                                                NaN   \n",
       "2  1003  {'first_name': 'marry', 'last_name': 'kate', '...   \n",
       "\n",
       "                                             address  \n",
       "0              [{'zip': '07014', 'city': 'clifton'}]  \n",
       "1  [{'zip': '07014', 'address1': '1 Journal Squar...  \n",
       "2  [{'zip': '10001', 'city': 'new york'}, {'zip':...  "
      ]
     },
     "execution_count": 5,
     "metadata": {},
     "output_type": "execute_result"
    }
   ],
   "source": [
    "df"
   ]
  },
  {
   "cell_type": "markdown",
   "metadata": {},
   "source": [
    "### Using flat_table"
   ]
  },
  {
   "cell_type": "code",
   "execution_count": 6,
   "metadata": {
    "scrolled": true
   },
   "outputs": [
    {
     "data": {
      "text/html": [
       "<div>\n",
       "<style scoped>\n",
       "    .dataframe tbody tr th:only-of-type {\n",
       "        vertical-align: middle;\n",
       "    }\n",
       "\n",
       "    .dataframe tbody tr th {\n",
       "        vertical-align: top;\n",
       "    }\n",
       "\n",
       "    .dataframe thead th {\n",
       "        text-align: right;\n",
       "    }\n",
       "</style>\n",
       "<table border=\"1\" class=\"dataframe\">\n",
       "  <thead>\n",
       "    <tr style=\"text-align: right;\">\n",
       "      <th></th>\n",
       "      <th>index</th>\n",
       "      <th>id</th>\n",
       "      <th>user_info.gender</th>\n",
       "      <th>user_info.phones.home</th>\n",
       "      <th>user_info.phones.mobile</th>\n",
       "      <th>user_info.last_name</th>\n",
       "      <th>user_info.first_name</th>\n",
       "      <th>address.address1</th>\n",
       "      <th>address.city</th>\n",
       "      <th>address.zip</th>\n",
       "    </tr>\n",
       "  </thead>\n",
       "  <tbody>\n",
       "    <tr>\n",
       "      <th>0</th>\n",
       "      <td>0</td>\n",
       "      <td>1001</td>\n",
       "      <td>NaN</td>\n",
       "      <td>978-..</td>\n",
       "      <td>201-..</td>\n",
       "      <td>smith</td>\n",
       "      <td>john</td>\n",
       "      <td>NaN</td>\n",
       "      <td>clifton</td>\n",
       "      <td>07014</td>\n",
       "    </tr>\n",
       "    <tr>\n",
       "      <th>1</th>\n",
       "      <td>1</td>\n",
       "      <td>1002</td>\n",
       "      <td>NaN</td>\n",
       "      <td>NaN</td>\n",
       "      <td>NaN</td>\n",
       "      <td>NaN</td>\n",
       "      <td>NaN</td>\n",
       "      <td>1 Journal Square</td>\n",
       "      <td>NaN</td>\n",
       "      <td>07014</td>\n",
       "    </tr>\n",
       "    <tr>\n",
       "      <th>2</th>\n",
       "      <td>2</td>\n",
       "      <td>1003</td>\n",
       "      <td>female</td>\n",
       "      <td>NaN</td>\n",
       "      <td>NaN</td>\n",
       "      <td>kate</td>\n",
       "      <td>marry</td>\n",
       "      <td>NaN</td>\n",
       "      <td>new york</td>\n",
       "      <td>10001</td>\n",
       "    </tr>\n",
       "    <tr>\n",
       "      <th>3</th>\n",
       "      <td>2</td>\n",
       "      <td>1003</td>\n",
       "      <td>female</td>\n",
       "      <td>NaN</td>\n",
       "      <td>NaN</td>\n",
       "      <td>kate</td>\n",
       "      <td>marry</td>\n",
       "      <td>NaN</td>\n",
       "      <td>brooklyn</td>\n",
       "      <td>10008</td>\n",
       "    </tr>\n",
       "  </tbody>\n",
       "</table>\n",
       "</div>"
      ],
      "text/plain": [
       "   index    id user_info.gender user_info.phones.home user_info.phones.mobile  \\\n",
       "0      0  1001              NaN                978-..                  201-..   \n",
       "1      1  1002              NaN                   NaN                     NaN   \n",
       "2      2  1003           female                   NaN                     NaN   \n",
       "3      2  1003           female                   NaN                     NaN   \n",
       "\n",
       "  user_info.last_name user_info.first_name  address.address1 address.city  \\\n",
       "0               smith                 john               NaN      clifton   \n",
       "1                 NaN                  NaN  1 Journal Square          NaN   \n",
       "2                kate                marry               NaN     new york   \n",
       "3                kate                marry               NaN     brooklyn   \n",
       "\n",
       "  address.zip  \n",
       "0       07014  \n",
       "1       07014  \n",
       "2       10001  \n",
       "3       10008  "
      ]
     },
     "execution_count": 6,
     "metadata": {},
     "output_type": "execute_result"
    }
   ],
   "source": [
    "flat_table.normalize(df)"
   ]
  },
  {
   "cell_type": "markdown",
   "metadata": {},
   "source": [
    "### Mapper function"
   ]
  },
  {
   "cell_type": "code",
   "execution_count": 7,
   "metadata": {},
   "outputs": [
    {
     "data": {
      "text/html": [
       "<div>\n",
       "<style scoped>\n",
       "    .dataframe tbody tr th:only-of-type {\n",
       "        vertical-align: middle;\n",
       "    }\n",
       "\n",
       "    .dataframe tbody tr th {\n",
       "        vertical-align: top;\n",
       "    }\n",
       "\n",
       "    .dataframe thead th {\n",
       "        text-align: right;\n",
       "    }\n",
       "</style>\n",
       "<table border=\"1\" class=\"dataframe\">\n",
       "  <thead>\n",
       "    <tr style=\"text-align: right;\">\n",
       "      <th></th>\n",
       "      <th>parent</th>\n",
       "      <th>child</th>\n",
       "      <th>type</th>\n",
       "      <th>obj</th>\n",
       "    </tr>\n",
       "  </thead>\n",
       "  <tbody>\n",
       "    <tr>\n",
       "      <th>0</th>\n",
       "      <td>.</td>\n",
       "      <td>id</td>\n",
       "      <td>int</td>\n",
       "      <td>...</td>\n",
       "    </tr>\n",
       "    <tr>\n",
       "      <th>1</th>\n",
       "      <td>.</td>\n",
       "      <td>user_info</td>\n",
       "      <td>dict</td>\n",
       "      <td>...</td>\n",
       "    </tr>\n",
       "    <tr>\n",
       "      <th>2</th>\n",
       "      <td>user_info</td>\n",
       "      <td>user_info.gender</td>\n",
       "      <td>str</td>\n",
       "      <td>...</td>\n",
       "    </tr>\n",
       "    <tr>\n",
       "      <th>3</th>\n",
       "      <td>user_info</td>\n",
       "      <td>user_info.phones.home</td>\n",
       "      <td>str</td>\n",
       "      <td>...</td>\n",
       "    </tr>\n",
       "    <tr>\n",
       "      <th>4</th>\n",
       "      <td>user_info</td>\n",
       "      <td>user_info.phones.mobile</td>\n",
       "      <td>str</td>\n",
       "      <td>...</td>\n",
       "    </tr>\n",
       "    <tr>\n",
       "      <th>5</th>\n",
       "      <td>user_info</td>\n",
       "      <td>user_info.last_name</td>\n",
       "      <td>str</td>\n",
       "      <td>...</td>\n",
       "    </tr>\n",
       "    <tr>\n",
       "      <th>6</th>\n",
       "      <td>user_info</td>\n",
       "      <td>user_info.first_name</td>\n",
       "      <td>str</td>\n",
       "      <td>...</td>\n",
       "    </tr>\n",
       "    <tr>\n",
       "      <th>7</th>\n",
       "      <td>.</td>\n",
       "      <td>address</td>\n",
       "      <td>list</td>\n",
       "      <td>...</td>\n",
       "    </tr>\n",
       "    <tr>\n",
       "      <th>8</th>\n",
       "      <td></td>\n",
       "      <td>address</td>\n",
       "      <td>dict</td>\n",
       "      <td>...</td>\n",
       "    </tr>\n",
       "    <tr>\n",
       "      <th>9</th>\n",
       "      <td>address</td>\n",
       "      <td>address.address1</td>\n",
       "      <td>str</td>\n",
       "      <td>...</td>\n",
       "    </tr>\n",
       "    <tr>\n",
       "      <th>10</th>\n",
       "      <td>address</td>\n",
       "      <td>address.city</td>\n",
       "      <td>str</td>\n",
       "      <td>...</td>\n",
       "    </tr>\n",
       "    <tr>\n",
       "      <th>11</th>\n",
       "      <td>address</td>\n",
       "      <td>address.zip</td>\n",
       "      <td>str</td>\n",
       "      <td>...</td>\n",
       "    </tr>\n",
       "  </tbody>\n",
       "</table>\n",
       "</div>"
      ],
      "text/plain": [
       "       parent                    child  type  obj\n",
       "0           .                       id   int  ...\n",
       "1           .                user_info  dict  ...\n",
       "2   user_info         user_info.gender   str  ...\n",
       "3   user_info    user_info.phones.home   str  ...\n",
       "4   user_info  user_info.phones.mobile   str  ...\n",
       "5   user_info      user_info.last_name   str  ...\n",
       "6   user_info     user_info.first_name   str  ...\n",
       "7           .                  address  list  ...\n",
       "8                              address  dict  ...\n",
       "9     address         address.address1   str  ...\n",
       "10    address             address.city   str  ...\n",
       "11    address              address.zip   str  ..."
      ]
     },
     "execution_count": 7,
     "metadata": {},
     "output_type": "execute_result"
    }
   ],
   "source": [
    "mapper = flat_table.mapper(df)\n",
    "mapper['obj'] = '...'\n",
    "mapper"
   ]
  },
  {
   "cell_type": "code",
   "execution_count": 8,
   "metadata": {},
   "outputs": [
    {
     "name": "stdout",
     "output_type": "stream",
     "text": [
      "|    | parent    | child                   | type   | obj   |\n",
      "|---:|:----------|:------------------------|:-------|:------|\n",
      "|  0 | .         | id                      | int    | ...   |\n",
      "|  1 | .         | user_info               | dict   | ...   |\n",
      "|  2 | user_info | user_info.gender        | str    | ...   |\n",
      "|  3 | user_info | user_info.phones.home   | str    | ...   |\n",
      "|  4 | user_info | user_info.phones.mobile | str    | ...   |\n",
      "|  5 | user_info | user_info.last_name     | str    | ...   |\n",
      "|  6 | user_info | user_info.first_name    | str    | ...   |\n",
      "|  7 | .         | address                 | list   | ...   |\n",
      "|  8 |           | address                 | dict   | ...   |\n",
      "|  9 | address   | address.address1        | str    | ...   |\n",
      "| 10 | address   | address.city            | str    | ...   |\n",
      "| 11 | address   | address.zip             | str    | ...   |\n"
     ]
    }
   ],
   "source": [
    "print(mapper.to_markdown())"
   ]
  },
  {
   "cell_type": "code",
   "execution_count": 9,
   "metadata": {},
   "outputs": [
    {
     "data": {
      "text/html": [
       "<div>\n",
       "<style scoped>\n",
       "    .dataframe tbody tr th:only-of-type {\n",
       "        vertical-align: middle;\n",
       "    }\n",
       "\n",
       "    .dataframe tbody tr th {\n",
       "        vertical-align: top;\n",
       "    }\n",
       "\n",
       "    .dataframe thead th {\n",
       "        text-align: right;\n",
       "    }\n",
       "</style>\n",
       "<table border=\"1\" class=\"dataframe\">\n",
       "  <thead>\n",
       "    <tr style=\"text-align: right;\">\n",
       "      <th></th>\n",
       "      <th>index</th>\n",
       "      <th>id</th>\n",
       "      <th>user_info.gender</th>\n",
       "      <th>user_info.phones.home</th>\n",
       "      <th>user_info.phones.mobile</th>\n",
       "      <th>user_info.last_name</th>\n",
       "      <th>user_info.first_name</th>\n",
       "      <th>address.address1</th>\n",
       "      <th>address.city</th>\n",
       "      <th>address.zip</th>\n",
       "    </tr>\n",
       "  </thead>\n",
       "  <tbody>\n",
       "    <tr>\n",
       "      <th>0</th>\n",
       "      <td>0</td>\n",
       "      <td>1001</td>\n",
       "      <td>NaN</td>\n",
       "      <td>978-..</td>\n",
       "      <td>201-..</td>\n",
       "      <td>smith</td>\n",
       "      <td>john</td>\n",
       "      <td>NaN</td>\n",
       "      <td>clifton</td>\n",
       "      <td>07014</td>\n",
       "    </tr>\n",
       "    <tr>\n",
       "      <th>1</th>\n",
       "      <td>1</td>\n",
       "      <td>1002</td>\n",
       "      <td>NaN</td>\n",
       "      <td>NaN</td>\n",
       "      <td>NaN</td>\n",
       "      <td>NaN</td>\n",
       "      <td>NaN</td>\n",
       "      <td>1 Journal Square</td>\n",
       "      <td>NaN</td>\n",
       "      <td>07014</td>\n",
       "    </tr>\n",
       "    <tr>\n",
       "      <th>2</th>\n",
       "      <td>2</td>\n",
       "      <td>1003</td>\n",
       "      <td>female</td>\n",
       "      <td>NaN</td>\n",
       "      <td>NaN</td>\n",
       "      <td>kate</td>\n",
       "      <td>marry</td>\n",
       "      <td>NaN</td>\n",
       "      <td>new york</td>\n",
       "      <td>10001</td>\n",
       "    </tr>\n",
       "    <tr>\n",
       "      <th>3</th>\n",
       "      <td>2</td>\n",
       "      <td>1003</td>\n",
       "      <td>female</td>\n",
       "      <td>NaN</td>\n",
       "      <td>NaN</td>\n",
       "      <td>kate</td>\n",
       "      <td>marry</td>\n",
       "      <td>NaN</td>\n",
       "      <td>brooklyn</td>\n",
       "      <td>10008</td>\n",
       "    </tr>\n",
       "  </tbody>\n",
       "</table>\n",
       "</div>"
      ],
      "text/plain": [
       "   index    id user_info.gender user_info.phones.home user_info.phones.mobile  \\\n",
       "0      0  1001              NaN                978-..                  201-..   \n",
       "1      1  1002              NaN                   NaN                     NaN   \n",
       "2      2  1003           female                   NaN                     NaN   \n",
       "3      2  1003           female                   NaN                     NaN   \n",
       "\n",
       "  user_info.last_name user_info.first_name  address.address1 address.city  \\\n",
       "0               smith                 john               NaN      clifton   \n",
       "1                 NaN                  NaN  1 Journal Square          NaN   \n",
       "2                kate                marry               NaN     new york   \n",
       "3                kate                marry               NaN     brooklyn   \n",
       "\n",
       "  address.zip  \n",
       "0       07014  \n",
       "1       07014  \n",
       "2       10001  \n",
       "3       10008  "
      ]
     },
     "execution_count": 9,
     "metadata": {},
     "output_type": "execute_result"
    }
   ],
   "source": [
    "final = flat_table.normalize(df)\n",
    "final"
   ]
  },
  {
   "cell_type": "code",
   "execution_count": 10,
   "metadata": {},
   "outputs": [
    {
     "name": "stdout",
     "output_type": "stream",
     "text": [
      "|    |   index |   id | user_info.gender   | user_info.phones.home   | user_info.phones.mobile   | user_info.last_name   | user_info.first_name   | address.address1   | address.city   |   address.zip |\n",
      "|---:|--------:|-----:|:-------------------|:------------------------|:--------------------------|:----------------------|:-----------------------|:-------------------|:---------------|--------------:|\n",
      "|  0 |       0 | 1001 | nan                | 978-..                  | 201-..                    | smith                 | john                   | nan                | clifton        |         07014 |\n",
      "|  1 |       1 | 1002 | nan                | nan                     | nan                       | nan                   | nan                    | 1 Journal Square   | nan            |         07014 |\n",
      "|  2 |       2 | 1003 | female             | nan                     | nan                       | kate                  | marry                  | nan                | new york       |         10001 |\n",
      "|  3 |       2 | 1003 | female             | nan                     | nan                       | kate                  | marry                  | nan                | brooklyn       |         10008 |\n"
     ]
    }
   ],
   "source": [
    "print(final.to_markdown())"
   ]
  },
  {
   "cell_type": "markdown",
   "metadata": {},
   "source": [
    "### New in Version 1.1.0"
   ]
  },
  {
   "cell_type": "code",
   "execution_count": 11,
   "metadata": {},
   "outputs": [
    {
     "data": {
      "text/html": [
       "<div>\n",
       "<style scoped>\n",
       "    .dataframe tbody tr th:only-of-type {\n",
       "        vertical-align: middle;\n",
       "    }\n",
       "\n",
       "    .dataframe tbody tr th {\n",
       "        vertical-align: top;\n",
       "    }\n",
       "\n",
       "    .dataframe thead th {\n",
       "        text-align: right;\n",
       "    }\n",
       "</style>\n",
       "<table border=\"1\" class=\"dataframe\">\n",
       "  <thead>\n",
       "    <tr style=\"text-align: right;\">\n",
       "      <th></th>\n",
       "      <th>index</th>\n",
       "      <th>id</th>\n",
       "      <th>user_info</th>\n",
       "      <th>address.address1</th>\n",
       "      <th>address.city</th>\n",
       "      <th>address.zip</th>\n",
       "    </tr>\n",
       "  </thead>\n",
       "  <tbody>\n",
       "    <tr>\n",
       "      <th>0</th>\n",
       "      <td>0</td>\n",
       "      <td>1001</td>\n",
       "      <td>{'first_name': 'john', 'last_name': 'smith', '...</td>\n",
       "      <td>NaN</td>\n",
       "      <td>clifton</td>\n",
       "      <td>07014</td>\n",
       "    </tr>\n",
       "    <tr>\n",
       "      <th>1</th>\n",
       "      <td>1</td>\n",
       "      <td>1002</td>\n",
       "      <td>NaN</td>\n",
       "      <td>1 Journal Square</td>\n",
       "      <td>NaN</td>\n",
       "      <td>07014</td>\n",
       "    </tr>\n",
       "    <tr>\n",
       "      <th>2</th>\n",
       "      <td>2</td>\n",
       "      <td>1003</td>\n",
       "      <td>{'first_name': 'marry', 'last_name': 'kate', '...</td>\n",
       "      <td>NaN</td>\n",
       "      <td>new york</td>\n",
       "      <td>10001</td>\n",
       "    </tr>\n",
       "    <tr>\n",
       "      <th>3</th>\n",
       "      <td>2</td>\n",
       "      <td>1003</td>\n",
       "      <td>{'first_name': 'marry', 'last_name': 'kate', '...</td>\n",
       "      <td>NaN</td>\n",
       "      <td>brooklyn</td>\n",
       "      <td>10008</td>\n",
       "    </tr>\n",
       "  </tbody>\n",
       "</table>\n",
       "</div>"
      ],
      "text/plain": [
       "   index    id                                          user_info  \\\n",
       "0      0  1001  {'first_name': 'john', 'last_name': 'smith', '...   \n",
       "1      1  1002                                                NaN   \n",
       "2      2  1003  {'first_name': 'marry', 'last_name': 'kate', '...   \n",
       "3      2  1003  {'first_name': 'marry', 'last_name': 'kate', '...   \n",
       "\n",
       "   address.address1 address.city address.zip  \n",
       "0               NaN      clifton       07014  \n",
       "1  1 Journal Square          NaN       07014  \n",
       "2               NaN     new york       10001  \n",
       "3               NaN     brooklyn       10008  "
      ]
     },
     "execution_count": 11,
     "metadata": {},
     "output_type": "execute_result"
    }
   ],
   "source": [
    "final = flat_table.normalize(df, expand_dicts=False, expand_lists=True)\n",
    "final"
   ]
  },
  {
   "cell_type": "code",
   "execution_count": 12,
   "metadata": {},
   "outputs": [
    {
     "name": "stdout",
     "output_type": "stream",
     "text": [
      "|    |   index |   id | user_info                                                                                      | address.address1   | address.city   |   address.zip |\n",
      "|---:|--------:|-----:|:-----------------------------------------------------------------------------------------------|:-------------------|:---------------|--------------:|\n",
      "|  0 |       0 | 1001 | {'first_name': 'john', 'last_name': 'smith', 'phones': {'mobile': '201-..', 'home': '978-..'}} | nan                | clifton        |         07014 |\n",
      "|  1 |       1 | 1002 | nan                                                                                            | 1 Journal Square   | nan            |         07014 |\n",
      "|  2 |       2 | 1003 | {'first_name': 'marry', 'last_name': 'kate', 'gender': 'female'}                               | nan                | new york       |         10001 |\n",
      "|  3 |       2 | 1003 | {'first_name': 'marry', 'last_name': 'kate', 'gender': 'female'}                               | nan                | brooklyn       |         10008 |\n"
     ]
    }
   ],
   "source": [
    "print(final.to_markdown())"
   ]
  },
  {
   "cell_type": "markdown",
   "metadata": {},
   "source": [
    "### Comparison with json_normalize()"
   ]
  },
  {
   "cell_type": "code",
   "execution_count": 13,
   "metadata": {},
   "outputs": [
    {
     "ename": "AttributeError",
     "evalue": "'float' object has no attribute 'items'",
     "output_type": "error",
     "traceback": [
      "\u001b[0;31m---------------------------------------------------------------------------\u001b[0m",
      "\u001b[0;31mAttributeError\u001b[0m                            Traceback (most recent call last)",
      "\u001b[0;32m<ipython-input-13-e7c34793435b>\u001b[0m in \u001b[0;36m<module>\u001b[0;34m\u001b[0m\n\u001b[0;32m----> 1\u001b[0;31m \u001b[0mpd\u001b[0m\u001b[0;34m.\u001b[0m\u001b[0mjson_normalize\u001b[0m\u001b[0;34m(\u001b[0m\u001b[0mdf\u001b[0m\u001b[0;34m.\u001b[0m\u001b[0muser_info\u001b[0m\u001b[0;34m,\u001b[0m \u001b[0mmax_level\u001b[0m\u001b[0;34m=\u001b[0m\u001b[0;36m0\u001b[0m\u001b[0;34m)\u001b[0m\u001b[0;34m\u001b[0m\u001b[0;34m\u001b[0m\u001b[0m\n\u001b[0m",
      "\u001b[0;32m~/Projects/flat_table/.venv/lib/python3.8/site-packages/pandas/io/json/_normalize.py\u001b[0m in \u001b[0;36m_json_normalize\u001b[0;34m(data, record_path, meta, meta_prefix, record_prefix, errors, sep, max_level)\u001b[0m\n\u001b[1;32m    276\u001b[0m             \u001b[0;31m# TODO: handle record value which are lists, at least error\u001b[0m\u001b[0;34m\u001b[0m\u001b[0;34m\u001b[0m\u001b[0;34m\u001b[0m\u001b[0m\n\u001b[1;32m    277\u001b[0m             \u001b[0;31m#       reasonably\u001b[0m\u001b[0;34m\u001b[0m\u001b[0;34m\u001b[0m\u001b[0;34m\u001b[0m\u001b[0m\n\u001b[0;32m--> 278\u001b[0;31m             \u001b[0mdata\u001b[0m \u001b[0;34m=\u001b[0m \u001b[0mnested_to_record\u001b[0m\u001b[0;34m(\u001b[0m\u001b[0mdata\u001b[0m\u001b[0;34m,\u001b[0m \u001b[0msep\u001b[0m\u001b[0;34m=\u001b[0m\u001b[0msep\u001b[0m\u001b[0;34m,\u001b[0m \u001b[0mmax_level\u001b[0m\u001b[0;34m=\u001b[0m\u001b[0mmax_level\u001b[0m\u001b[0;34m)\u001b[0m\u001b[0;34m\u001b[0m\u001b[0;34m\u001b[0m\u001b[0m\n\u001b[0m\u001b[1;32m    279\u001b[0m         \u001b[0;32mreturn\u001b[0m \u001b[0mDataFrame\u001b[0m\u001b[0;34m(\u001b[0m\u001b[0mdata\u001b[0m\u001b[0;34m)\u001b[0m\u001b[0;34m\u001b[0m\u001b[0;34m\u001b[0m\u001b[0m\n\u001b[1;32m    280\u001b[0m     \u001b[0;32melif\u001b[0m \u001b[0;32mnot\u001b[0m \u001b[0misinstance\u001b[0m\u001b[0;34m(\u001b[0m\u001b[0mrecord_path\u001b[0m\u001b[0;34m,\u001b[0m \u001b[0mlist\u001b[0m\u001b[0;34m)\u001b[0m\u001b[0;34m:\u001b[0m\u001b[0;34m\u001b[0m\u001b[0;34m\u001b[0m\u001b[0m\n",
      "\u001b[0;32m~/Projects/flat_table/.venv/lib/python3.8/site-packages/pandas/io/json/_normalize.py\u001b[0m in \u001b[0;36mnested_to_record\u001b[0;34m(ds, prefix, sep, level, max_level)\u001b[0m\n\u001b[1;32m     80\u001b[0m     \u001b[0;32mfor\u001b[0m \u001b[0md\u001b[0m \u001b[0;32min\u001b[0m \u001b[0mds\u001b[0m\u001b[0;34m:\u001b[0m\u001b[0;34m\u001b[0m\u001b[0;34m\u001b[0m\u001b[0m\n\u001b[1;32m     81\u001b[0m         \u001b[0mnew_d\u001b[0m \u001b[0;34m=\u001b[0m \u001b[0mcopy\u001b[0m\u001b[0;34m.\u001b[0m\u001b[0mdeepcopy\u001b[0m\u001b[0;34m(\u001b[0m\u001b[0md\u001b[0m\u001b[0;34m)\u001b[0m\u001b[0;34m\u001b[0m\u001b[0;34m\u001b[0m\u001b[0m\n\u001b[0;32m---> 82\u001b[0;31m         \u001b[0;32mfor\u001b[0m \u001b[0mk\u001b[0m\u001b[0;34m,\u001b[0m \u001b[0mv\u001b[0m \u001b[0;32min\u001b[0m \u001b[0md\u001b[0m\u001b[0;34m.\u001b[0m\u001b[0mitems\u001b[0m\u001b[0;34m(\u001b[0m\u001b[0;34m)\u001b[0m\u001b[0;34m:\u001b[0m\u001b[0;34m\u001b[0m\u001b[0;34m\u001b[0m\u001b[0m\n\u001b[0m\u001b[1;32m     83\u001b[0m             \u001b[0;31m# each key gets renamed with prefix\u001b[0m\u001b[0;34m\u001b[0m\u001b[0;34m\u001b[0m\u001b[0;34m\u001b[0m\u001b[0m\n\u001b[1;32m     84\u001b[0m             \u001b[0;32mif\u001b[0m \u001b[0;32mnot\u001b[0m \u001b[0misinstance\u001b[0m\u001b[0;34m(\u001b[0m\u001b[0mk\u001b[0m\u001b[0;34m,\u001b[0m \u001b[0mstr\u001b[0m\u001b[0;34m)\u001b[0m\u001b[0;34m:\u001b[0m\u001b[0;34m\u001b[0m\u001b[0;34m\u001b[0m\u001b[0m\n",
      "\u001b[0;31mAttributeError\u001b[0m: 'float' object has no attribute 'items'"
     ]
    }
   ],
   "source": [
    "pd.json_normalize(df.user_info, max_level=0)"
   ]
  }
 ],
 "metadata": {
  "kernelspec": {
   "display_name": "Flat Table",
   "language": "python",
   "name": "flat-table"
  },
  "language_info": {
   "codemirror_mode": {
    "name": "ipython",
    "version": 3
   },
   "file_extension": ".py",
   "mimetype": "text/x-python",
   "name": "python",
   "nbconvert_exporter": "python",
   "pygments_lexer": "ipython3",
   "version": "3.8.3"
  }
 },
 "nbformat": 4,
 "nbformat_minor": 2
}
