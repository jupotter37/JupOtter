{
 "cells": [
  {
   "cell_type": "markdown",
   "metadata": {},
   "source": [
    "This notebook demonstrates new features in the develop branch of vrs. The primary new features are Repeats and Abundance, and secondary classes that enable their use in representing common variation that involves the duplication of sequence.\n",
    "\n",
    "The corresponding schema (currently) exists only in the vrs develop branch. It also requires an up-to-date vrs-python package.\n",
    "\n",
    "**Models in this notebook are under development. They are likely to change before release and may not ever be released.  Don't use them yet.** "
   ]
  },
  {
   "cell_type": "code",
   "execution_count": 1,
   "metadata": {},
   "outputs": [],
   "source": [
    "from ga4gh.core import ga4gh_identify, ga4gh_serialize\n",
    "from ga4gh.vrs import models, vrs_enref, vrs_deref\n",
    "from nbsupport import ppo, translate_sequence_identifier"
   ]
  },
  {
   "cell_type": "code",
   "execution_count": 2,
   "metadata": {},
   "outputs": [],
   "source": [
    "from ga4gh.vrs._internal.models import _load_vrs_models\n",
    "models = _load_vrs_models()"
   ]
  },
  {
   "cell_type": "markdown",
   "metadata": {},
   "source": [
    "# New Features"
   ]
  },
  {
   "cell_type": "markdown",
   "metadata": {
    "hidden": true
   },
   "source": [
    "## NestedInterval\n",
    "\n",
    "**Summary:** NestedInterval is a new Interval type represent regions where the start and end coordinates are uncertain but may be bounded. This class is not identifiable."
   ]
  },
  {
   "cell_type": "code",
   "execution_count": 3,
   "metadata": {
    "hidden": true
   },
   "outputs": [
    {
     "name": "stdout",
     "output_type": "stream",
     "text": [
      "{\n",
      "  \"inner\": {\n",
      "    \"end\": 30,\n",
      "    \"start\": 20,\n",
      "    \"type\": \"SimpleInterval\"\n",
      "  },\n",
      "  \"outer\": {\n",
      "    \"end\": 40,\n",
      "    \"start\": 10,\n",
      "    \"type\": \"SimpleInterval\"\n",
      "  },\n",
      "  \"type\": \"NestedInterval\"\n",
      "}\n"
     ]
    }
   ],
   "source": [
    "ni = models.NestedInterval(\n",
    "    inner = models.SimpleInterval(start=20, end=30),\n",
    "    outer = models.SimpleInterval(start=10, end=40))\n",
    "ppo(ni)"
   ]
  },
  {
   "cell_type": "code",
   "execution_count": 4,
   "metadata": {
    "code_folding": [],
    "hidden": true,
    "scrolled": true
   },
   "outputs": [
    {
     "name": "stdout",
     "output_type": "stream",
     "text": [
      "{\n",
      "  \"interval\": {\n",
      "    \"inner\": {\n",
      "      \"end\": 30,\n",
      "      \"start\": 20,\n",
      "      \"type\": \"SimpleInterval\"\n",
      "    },\n",
      "    \"outer\": {\n",
      "      \"end\": 40,\n",
      "      \"start\": 10,\n",
      "      \"type\": \"SimpleInterval\"\n",
      "    },\n",
      "    \"type\": \"NestedInterval\"\n",
      "  },\n",
      "  \"sequence_id\": \"ga4gh:SQ.0123abcd\",\n",
      "  \"type\": \"SequenceLocation\"\n",
      "}\n"
     ]
    }
   ],
   "source": [
    "sl = models.SequenceLocation(\n",
    "    sequence_id = \"ga4gh:SQ.0123abcd\",\n",
    "    interval = ni)\n",
    "ppo(sl)"
   ]
  },
  {
   "cell_type": "markdown",
   "metadata": {},
   "source": [
    "**Commentary**\n",
    "\n",
    "NestedIntervals are modeled as a pair of `inner` and `outer` ranges, each of which is a SimpleInterval.  A `start` and `end` are consistent with a NestedInterval if they meet these criteria: `outer.start <= start <= inner.start <= inner.end <= end <= outer.end`.\n",
    "\n",
    "NestedIntervals are conceptualy related to, and interchangeable with, intervals of intervals (i.e., start and end, each of which is defined by an interval).\n",
    "\n",
    "Converting HGVS expressions to NestedIntervals requires care. Imagine this sequence with an exon (or any feature) at base positions 4-6 inclusive and sequence DEF.\n",
    "\n",
    "```\n",
    "base:     1   2   3   4   5   6   7   8   9\n",
    "          a   b   c [ D   E   F ] g   h   i\n",
    "i-base:  0  1   2   3   4   5   6   7   8   9\n",
    "\n",
    "```\n",
    "\n",
    "HGVS for the region to the left and right (abc, ghi) would be `(1_3)_(7_9)`, corresponding to interbase ranges (0,3) and (6,9). As a nested interval, the range becomes inner=(3,6) and outer=(0,9)."
   ]
  },
  {
   "cell_type": "markdown",
   "metadata": {},
   "source": [
    "## Gene\n",
    "\n",
    "**Summary:** The Gene class wraps an external definition of a gene to be used as the subject of a abundance statement. For example, \"PTEN del\". Gene is not an identifiable class.\n",
    "\n",
    "\n",
    "Genes are intended to be used to represent systemic variation, not molecular variation."
   ]
  },
  {
   "cell_type": "code",
   "execution_count": 5,
   "metadata": {},
   "outputs": [
    {
     "name": "stdout",
     "output_type": "stream",
     "text": [
      "{\n",
      "  \"gene_id\": \"ncbigene:1234\",\n",
      "  \"type\": \"Gene\"\n",
      "}\n"
     ]
    }
   ],
   "source": [
    "g = models.Gene(gene_id=\"ncbigene:1234\")\n",
    "ppo(g)"
   ]
  },
  {
   "cell_type": "markdown",
   "metadata": {},
   "source": [
    "## Sequence Expressions (Not Identfiable)\n",
    "\n",
    "Sequence Expressions provide mechanisms to describe the sequence that exists at a particular location. \n",
    "\n",
    "The most primitive ways to describe such sequence is through `LiteralSequence`, which specifies the sequence directly in the model, and `DerivedSequence`, which specifies sequence with respect to a SequenceLocation. A `DerivedSequence` may also specify transformations, such as `reverse`, `complement`, and `reversecomplement`. Future extensions may provide metods to describe approximate sequence matching (other than by IUPAC ambiguity codes), sequences constrained by size or size multiples (e.g., modulo 3)."
   ]
  },
  {
   "cell_type": "markdown",
   "metadata": {},
   "source": [
    "### LiteralSequence"
   ]
  },
  {
   "cell_type": "code",
   "execution_count": 7,
   "metadata": {},
   "outputs": [
    {
     "name": "stdout",
     "output_type": "stream",
     "text": [
      "{\n",
      "  \"sequence\": \"ACGT\",\n",
      "  \"type\": \"LiteralSequenceExpression\"\n",
      "}\n"
     ]
    }
   ],
   "source": [
    "ls = models.LiteralSequenceExpression(sequence=\"ACGT\")\n",
    "ppo(ls)"
   ]
  },
  {
   "cell_type": "markdown",
   "metadata": {},
   "source": [
    "### DerivedSequence\n",
    "\n",
    "**Summary:** A DerivedSeqeuence is a sequence derived from a location, optionally with transformation."
   ]
  },
  {
   "cell_type": "code",
   "execution_count": 8,
   "metadata": {},
   "outputs": [
    {
     "name": "stdout",
     "output_type": "stream",
     "text": [
      "{\n",
      "  \"interval\": {\n",
      "    \"end\": 33,\n",
      "    \"start\": 22,\n",
      "    \"type\": \"SimpleInterval\"\n",
      "  },\n",
      "  \"sequence_id\": \"ga4gh:SQ.0123abcd\",\n",
      "  \"type\": \"SequenceLocation\"\n",
      "}\n"
     ]
    }
   ],
   "source": [
    "sl = models.SequenceLocation(\n",
    "        sequence_id=\"ga4gh:SQ.0123abcd\",\n",
    "        interval=models.SimpleInterval(start=22, end=33))\n",
    "ppo(sl)"
   ]
  },
  {
   "cell_type": "code",
   "execution_count": 9,
   "metadata": {},
   "outputs": [
    {
     "name": "stdout",
     "output_type": "stream",
     "text": [
      "{\n",
      "  \"location\": {\n",
      "    \"interval\": {\n",
      "      \"end\": 33,\n",
      "      \"start\": 22,\n",
      "      \"type\": \"SimpleInterval\"\n",
      "    },\n",
      "    \"sequence_id\": \"ga4gh:SQ.0123abcd\",\n",
      "    \"type\": \"SequenceLocation\"\n",
      "  },\n",
      "  \"type\": \"DerivedSequenceExpression\"\n",
      "}\n"
     ]
    }
   ],
   "source": [
    "ds = models.DerivedSequenceExpression(location=sl)\n",
    "ppo(ds)"
   ]
  },
  {
   "cell_type": "code",
   "execution_count": 11,
   "metadata": {},
   "outputs": [
    {
     "name": "stdout",
     "output_type": "stream",
     "text": [
      "{\n",
      "  \"location\": {\n",
      "    \"interval\": {\n",
      "      \"end\": 33,\n",
      "      \"start\": 22,\n",
      "      \"type\": \"SimpleInterval\"\n",
      "    },\n",
      "    \"sequence_id\": \"ga4gh:SQ.0123abcd\",\n",
      "    \"type\": \"SequenceLocation\"\n",
      "  },\n",
      "  \"type\": \"DerivedSequenceExpression\"\n",
      "}\n"
     ]
    }
   ],
   "source": [
    "ds = models.DerivedSequenceExpression(location=sl)\n",
    "ppo(ds)"
   ]
  },
  {
   "cell_type": "markdown",
   "metadata": {},
   "source": [
    "### RepeatedSequence\n",
    "\n",
    "**Summary:** A RepeatSequence is a contiguous span of tandem copies of a sequence of any length (length >= 1). The number of copies may be known precisely or may be specified as a range (min, max). A RepeatSequence is primarily used within an Allele to create a repeat within a reference sequence."
   ]
  },
  {
   "cell_type": "code",
   "execution_count": 15,
   "metadata": {},
   "outputs": [
    {
     "name": "stdout",
     "output_type": "stream",
     "text": [
      "{\n",
      "  \"count\": {\n",
      "    \"max\": 10,\n",
      "    \"min\": 5,\n",
      "    \"type\": \"CopyCount\"\n",
      "  },\n",
      "  \"seq_expr\": {\n",
      "    \"sequence\": \"CAG\",\n",
      "    \"type\": \"LiteralSequenceExpression\"\n",
      "  },\n",
      "  \"type\": \"RepeatedSequenceExpression\"\n",
      "}\n"
     ]
    }
   ],
   "source": [
    "rs = models.RepeatedSequenceExpression(\n",
    "    seq_expr=models.LiteralSequenceExpression(sequence=\"CAG\"),\n",
    "    count={\"min\": 5, \"max\": 10})\n",
    "ppo(rs)"
   ]
  },
  {
   "cell_type": "code",
   "execution_count": 17,
   "metadata": {
    "scrolled": true
   },
   "outputs": [
    {
     "name": "stdout",
     "output_type": "stream",
     "text": [
      "{\n",
      "  \"count\": {\n",
      "    \"max\": 10,\n",
      "    \"min\": 5,\n",
      "    \"type\": \"CopyCount\"\n",
      "  },\n",
      "  \"seq_expr\": {\n",
      "    \"location\": {\n",
      "      \"interval\": {\n",
      "        \"end\": 30,\n",
      "        \"start\": 20,\n",
      "        \"type\": \"SimpleInterval\"\n",
      "      },\n",
      "      \"sequence_id\": \"ga4gh:SQ.abc123\",\n",
      "      \"type\": \"SequenceLocation\"\n",
      "    },\n",
      "    \"type\": \"DerivedSequenceExpression\"\n",
      "  },\n",
      "  \"type\": \"RepeatedSequenceExpression\"\n",
      "}\n"
     ]
    }
   ],
   "source": [
    "sl = models.SequenceLocation(\n",
    "    sequence_id=\"ga4gh:SQ.abc123\",\n",
    "    interval=models.SimpleInterval(start=20, end=30))\n",
    "rs = models.RepeatedSequenceExpression(\n",
    "    seq_expr=models.DerivedSequenceExpression(location=sl),\n",
    "    count={\"min\": 5, \"max\": 10})\n",
    "ppo(rs)"
   ]
  },
  {
   "cell_type": "code",
   "execution_count": 21,
   "metadata": {},
   "outputs": [
    {
     "name": "stdout",
     "output_type": "stream",
     "text": [
      "{\n",
      "  \"copies\": {\n",
      "    \"absolute_measure\": true,\n",
      "    \"max\": 5,\n",
      "    \"min\": 0,\n",
      "    \"type\": \"CopyCount\"\n",
      "  },\n",
      "  \"subject\": {\n",
      "    \"gene_id\": \"ncbigene:672\",\n",
      "    \"type\": \"Gene\"\n",
      "  },\n",
      "  \"type\": \"AbsoluteAbundance\"\n",
      "}\n"
     ]
    }
   ],
   "source": [
    "cnv = models.CopyNumber(\n",
    "    subject=models.Gene(gene_id=\"ncbigene:672\"),\n",
    "    copies=models.CopyCount(min=0, max=5, absolute_measure=True))\n",
    "ppo(cnv)"
   ]
  },
  {
   "cell_type": "markdown",
   "metadata": {},
   "source": [
    "---\n",
    "# Specific Examples\n",
    "\n",
    "The examples below use variation from ClinVar and VICC to demonstrate the above classes."
   ]
  },
  {
   "cell_type": "markdown",
   "metadata": {},
   "source": [
    "## VCV000528890.1 NC_000001.11:g.(?\\_218346682)\\_(218441382\\_?)del\n",
    "\n",
    "\n",
    "Three possible interpretations:\n",
    "* Molecular variation w/del\n",
    "* MV w/Repeat state 0\n",
    "* Abundance abs copy = 1"
   ]
  },
  {
   "cell_type": "code",
   "execution_count": null,
   "metadata": {
    "scrolled": true
   },
   "outputs": [],
   "source": [
    "a = models.Allele(\n",
    "    location=models.SequenceLocation(\n",
    "        sequence_id=translate_sequence_identifier(\"NC_000001.11\"),\n",
    "        interval=models.NestedInterval(\n",
    "            inner=models.SimpleInterval(start=218346681, end=218441382),\n",
    "            outer=models.SimpleInterval(start=None, end=None))),\n",
    "    state=models.SequenceState(sequence=''))\n",
    "ppo(a)"
   ]
  },
  {
   "cell_type": "markdown",
   "metadata": {},
   "source": [
    "## VCV000665644.1 NC_000001.10:g.(?\\_15764951)\\_(15765010\\_?)dup"
   ]
  },
  {
   "cell_type": "code",
   "execution_count": null,
   "metadata": {},
   "outputs": [],
   "source": [
    "# if the copies are not known to be tandem, this should be an Abundance statement\n",
    "a = models.Abundance(\n",
    "    subject=models.SequenceLocation(\n",
    "        sequence_id=translate_sequence_identifier(\"NC_000001.11\"),\n",
    "        interval=models.NestedInterval(\n",
    "            inner=models.SimpleInterval(start=15764950, end=15765010),\n",
    "            outer=models.SimpleInterval(start=None, end=None))),\n",
    "    amount={\"min\":2, \"max\": 2, \"measure\": \"AbsoluteCount\"})\n",
    "a.as_dict()"
   ]
  },
  {
   "cell_type": "markdown",
   "metadata": {},
   "source": [
    "## VCV000662440.1 NM_003000.2(SDHB):c.656_707dup (p.Pro237_Phe238insAspTer)"
   ]
  },
  {
   "cell_type": "code",
   "execution_count": null,
   "metadata": {},
   "outputs": [],
   "source": [
    "a = models.Allele(\n",
    "    location=models.SequenceLocation(\n",
    "        sequence_id=translate_sequence_identifier(\"NM_003000.2\"),\n",
    "        interval=models.SimpleInterval(start=655, end=707)),\n",
    "    state=models.RepeatState(copies={\"min\":2, \"max\": 2}))\n",
    "a.as_dict()"
   ]
  },
  {
   "cell_type": "markdown",
   "metadata": {},
   "source": [
    "## VCV000007621.2 NM_000214.3(JAG1):c.2091_2095GAAAG[1] (p.Gly699fs)\n",
    "```\n",
    "This variant is incorrectly written.  The repeat unit GAAAG should be left-shuffled to GGAAA, making the left-shifted version c.2090_2094GGAAA.\n",
    "\n",
    " c.2081     2091     2101     2111\n",
    " n.2551     2561     2571     2581  \n",
    "      |        |        |        |\n",
    "      AAATGGGTGGAAAGGAAAGACCTGCCAC\n",
    "\n",
    "Converting a repeat to a SequenceState requires examining downstream sequence for the repeat unit, and inserting or deleting as necessary.  Imagine that this sequence had five GAAAG repeats and we got `[1]`; then, 4 repeats would be deleted, which is evident only from sequence context.\n",
    "\n",
    "See note below about sequence locations for repeats.\n",
    "```"
   ]
  },
  {
   "cell_type": "markdown",
   "metadata": {},
   "source": [
    "### Discuss: Location of repeats\n",
    "\n",
    "```\n",
    " n.2551              2561              2571              2581  \n",
    " c.2081              2091              2101              2111\n",
    "      |                 |                 |                 |\n",
    "      A A A T G G G T G G A A A G G A A A G A C C T G C C A C\n",
    "                      [-------] [-------] - \n",
    "\n",
    "* What is the assertion of reference? Two GGAAA at 2090?\n",
    "* The variant above is an assertion of only 1 repeat. Can we assert zero repeats?\n",
    "* Must be left aligned? How does that comport with fully justified?\n",
    "\n",
    "```"
   ]
  },
  {
   "cell_type": "code",
   "execution_count": null,
   "metadata": {},
   "outputs": [],
   "source": [
    "a = models.Allele(\n",
    "    location=models.SequenceLocation(\n",
    "        sequence_id=translate_sequence_identifier(\"NM_000214.3\"),\n",
    "        interval=models.SimpleInterval(start=2089, end=2089)),\n",
    "    state=models.RepeatState(sequence=\"GGAAA\", copies={\"min\": 1,\"max\": 1}))\n",
    "a.as_dict()"
   ]
  },
  {
   "cell_type": "markdown",
   "metadata": {},
   "source": [
    "## VCV000144802.1 GRCh38/hg38 1p36.32(chr1:2651321-2701929)x1\n",
    "⇒ make it possible to represent cytoband and coordinate representations, but not both in one object\n"
   ]
  },
  {
   "cell_type": "code",
   "execution_count": null,
   "metadata": {},
   "outputs": [],
   "source": [
    "cl = models.ChromosomeLocation(chr=\"1\",\n",
    "    interval=models.CytobandInterval(start=\"p36.32\", end=\"p36.32\"))\n",
    "cl.as_dict()"
   ]
  },
  {
   "cell_type": "code",
   "execution_count": null,
   "metadata": {},
   "outputs": [],
   "source": [
    "ab = models.Abundance(\n",
    "    location=cl,\n",
    "    amount={\n",
    "        \"min\": 1, \"max\": 1})\n",
    "ab.as_dict()"
   ]
  },
  {
   "cell_type": "code",
   "execution_count": null,
   "metadata": {
    "scrolled": false
   },
   "outputs": [],
   "source": [
    "ga4gh_identify(ab)"
   ]
  },
  {
   "cell_type": "markdown",
   "metadata": {},
   "source": [
    "## VCV000149842.1 GRCh38/hg38 15q11.2(chr15:25334870-25351819)x3\n",
    "⇒ specified with HGVS NC_000015.8:g.(?_23131110)_(23148059_?)dup, ..."
   ]
  },
  {
   "cell_type": "markdown",
   "metadata": {},
   "source": [
    "## VCV000395246.1 GRCh37/hg19 Xq21.33-28(chrX:94043221-155246585)x1"
   ]
  },
  {
   "cell_type": "markdown",
   "metadata": {},
   "source": [
    "## VCV000394192.1 GRCh37/hg19 Xp11.4(chrX:40456453-40487150)x2"
   ]
  },
  {
   "cell_type": "markdown",
   "metadata": {},
   "source": [
    "## 3 copies EGFR\n",
    "\n",
    "Larry:\n",
    "ab = models.Abundance(\n",
    "    molstate = Gene('ncbigene:1234')\n",
    "    amount={min: 3, max: 3}\n",
    "    )\n",
    "\n",
    "Alex:\n",
    "ab = models.Abundance(\n",
    "    molvar = Allele(\n",
    "       location = Gene('ncbigene:1234'),\n",
    "       state = AmbiguousState()),\n",
    "    amount={min: 3, max: 3}\n",
    "    )\n",
    "\n",
    "ab = models.Abundance(\n",
    "    molvar = Allele(\n",
    "       location = NM_1234.4:22_33,\n",
    "       state = sequence='' ),\n",
    "    amount={min: 3, max: 3}\n",
    "    )\n",
    "\n",
    "\n",
    "\n",
    "ab = models.Abundance(\n",
    "    molvar = Allele(\n",
    "       location = NM_01234.5,\n",
    "       state = AmbiguousState()),\n",
    "    amount={min: 3, max: 3}\n",
    "    )\n",
    "\n",
    "ab = models.Abundance(\n",
    "    molvar = Transcript(NM_01234.5),\n",
    "    amount={min: 3, max: 3}\n",
    "    )"
   ]
  },
  {
   "cell_type": "markdown",
   "metadata": {},
   "source": [
    "## EID473 ... “increased copy number or amplification of EGFR”... (>8x copies)"
   ]
  },
  {
   "cell_type": "markdown",
   "metadata": {},
   "source": [
    "## EID5925 “increased EGFR gene copy number”"
   ]
  },
  {
   "cell_type": "code",
   "execution_count": null,
   "metadata": {},
   "outputs": [],
   "source": []
  },
  {
   "cell_type": "markdown",
   "metadata": {},
   "source": [
    "## VCV000254074.1 NM_007294.3(BRCA1):c.5075-?_5277+?dup203"
   ]
  },
  {
   "cell_type": "markdown",
   "metadata": {},
   "source": [
    "## VCV000145395.1 GRCh38/hg38 1p36.33(chr1:844353-911241)x3 (FAM41C , LINC01128)"
   ]
  },
  {
   "cell_type": "markdown",
   "metadata": {},
   "source": [
    "## VCV000395687.1 GRCh37/hg19 Xp22.33-q28(chrX:70297-155255792)\n",
    "NCBI calls this a \"copy number loss\" with corresponding HGVS `NC_000023.10:g.(?_70297)_(155255792_?)del`"
   ]
  },
  {
   "cell_type": "markdown",
   "metadata": {},
   "source": []
  },
  {
   "cell_type": "markdown",
   "metadata": {},
   "source": [
    "# Discussion/Questions/Decisions\n",
    "\n",
    "## What is the location of a repeat?\n",
    "\n",
    "A repeat should be located over the entire region of the repeated sequence. Rationale: RepeatState is essentially a delins, where the ins is a repeated sequence.\n",
    "\n",
    "## Should we permit copy number zero?\n",
    "\n",
    "RepeatState and Abundance may specify zero repeats/counts. \n",
    "\n",
    "Rationale: Users may wish to express count ranges that include 0, such as 0 <= count <= 2. Using a distinct deletion state in lieu of 0 would create significant discontinuities in the data model.\n",
    "\n",
    "## How to describe repeat and abundance source sequences ?\n",
    "\n",
    "Obvious needs: 1) inline? sequence, 2) sequence from SequenceLocation, 3) arbitrary sequence constrained by size (e.g., modulo 3). \n",
    "\n",
    "Re: \"Approximate\" repeats: We have yet to come up with a precise definition of approximate, that is a characterization of the ways in which a sequence might be approximate.\n",
    "\n",
    "Reece thinks that it's important that an expression can be matched against a query sequence. Unclear whether other think that this is important too. A related but distinct issue is whether an expression can generate a sequence (as with a grammar) and whether that's finite.\n",
    "\n",
    "\n",
    "## Are RepeatState instances normalized?\n",
    "\n",
    "RepeatState instances are not normalized. Rationale: Data producers may choose a repeat unit that may have meaning, such as starting on a codon boundary. However, in the absence of a reason to choose a particular repeat unit, users should use the left-most representation of the repeat accounting for circular permutations of the repeat unit (as with normalization).\n",
    "\n",
    "\n",
    "## What about digest?\n",
    "\n",
    "In VRS, the digest is always a digest of the data structure.  If the implied sequence is well-defined, it the repeat must be converted to an equivalent SequenceState Allele. \n",
    "\n",
    "\n",
    "##  Can a SequenceLocation be used as a Sequence?\n"
   ]
  },
  {
   "cell_type": "markdown",
   "metadata": {},
   "source": [
    "## Should VRS require all properties explicitly?"
   ]
  },
  {
   "cell_type": "markdown",
   "metadata": {},
   "source": [
    "## Nerding about Sequence State languages\n",
    "\n",
    "Sequence States might be considered to provide two related but distinct functions: *generating* sequence and *matching* sequence. Generating is the process of emiting the sequence or sequences that might match a given sequence state. Matching is the process of determining whether a given sequence satisfies the current state.\n",
    "\n",
    "For literal sequences without ambiguity codes, the generated sequence is the sequence that defines the sequence state. For an Allele with such a sequence state, we could infer the resulting sequence. Or, given a sequence, we could easily assess whether it matches.\n",
    "\n",
    "For sequences with ambiguity codes, this becomes harder. For example, 'ANT' as a DNA sequences would match 4 DNA sequences and would generate 4 DNA sequences. Allowing ambiguity codes means that it is impossible to infer a unique sequence from a given Allele. Furthermore, combinatorial expansion grows quickly: ANNT would generate and match 4^2 = 16 sequences.  Despite the combinatorial expansion, these combinations could be enumerated.\n",
    "\n",
    "More expressive Sequence States, which might be supported in the future, create a language that is no longer enumerable at all, but could still be matched. For example, Sequence States that support regular expressions (AN\\*T) or unbounded sizes (\"at least 5 CAG repeats\") create infinite sets which can no longer be completely enumerated. However, a given sequence may still be matched to such an expression.\n",
    "\n",
    "Expressions fall into a few categories:\n",
    "* Countable, Unary -- expressions that generate only one sequence. Examples: Literal, Inferred, Inverted (w/no ambiguity codes)\n",
    "* Countable, non-unary -- expressions that generate more than one sequence. Examples: Literal, regexp (w/ambiguity codes)\n",
    "* Uncountable -- expressions generate an infinite number of sequences (e.g., \"size > 5 nt\").\n",
    "\n",
    "This is relevant to VRS because we *may* want to describe or constrain when certain types should be used.\n",
    "\n",
    "Because unary sequences refer to a specific sequence, they may be used to impute a derived sequence. In contrast, the non-unary and uncountable expressions generate a family of sequences."
   ]
  },
  {
   "cell_type": "code",
   "execution_count": null,
   "metadata": {},
   "outputs": [],
   "source": []
  },
  {
   "cell_type": "markdown",
   "metadata": {},
   "source": [
    "## Transcript Coordinates\n",
    "\n",
    "The biological consequences of variants are often inferred from their impacts on transcripts and translated protein sequences. For VRS, we seek to be able to precisely communicate variation in terms of transcript coordinates.\n",
    "\n",
    "\"Transcript\" is not well-defined in the community: It may mean vaguely refer to a sequence with an implied biological role, a particular exon structure on a sequence, or, a family of exon structures on different sequences (eg a RefSeq and its projection onto a chromosomal sequence). It is essential to establish a precise definition of Transcript for use in VRS.\n",
    "\n",
    "The proposed VRS model is that **a Transcript is a set of ordered exon features on a specific sequence, optionally annotated with coding sequence start and end**. A \"founding\" Transcript may be related to others through projection (alignment) onto other sequences, in which case they form a family of Transcripts based on the founder.\n",
    "\n",
    "Modeling Transcripts explicitly (as opposed to with generic features) is justified because of the unique and central role that Transcripts play defining a coordinate system to be used when describing variation.\n",
    "\n",
    "A TranscriptLocation is a location on a Transcript coordinate system, using an interval on the Transcript. (This is analagous to SequenceLocations, Sequences, and sequence intervals.)"
   ]
  },
  {
   "cell_type": "markdown",
   "metadata": {},
   "source": [
    "### Transcripts\n",
    "\n",
    "For example, [NM_000314.6](https://www.ncbi.nlm.nih.gov/nuccore/NM_000314.8) is *defined* by RefSeq as having a *transcript sequence* with a structure of nine exons and a CDS region (see below). This Transcript is the founding Transcript. The NCBI [PTEN gene page] (https://www.ncbi.nlm.nih.gov/gene/5728) shows that this (founding) transcript may be projected onto four genomic references: GRCh 37 chr 10, GRCh 38 chr 10, GRCh 38 patch, and a RefSeqGene sequence. The founding transcript and its alignment onto the genomic references constitute a family of five distinct VRS Transcripts."
   ]
  },
  {
   "cell_type": "code",
   "execution_count": null,
   "metadata": {},
   "outputs": [],
   "source": [
    "# Example transcript: NM_000314.6 (PTEN) on GRCh38 chr 10\n",
    "# Coordinates written as c. or n. are base-counted, origin 1.\n",
    "# Other coordinates are interbase.\n",
    "\n",
    "# NM_000314.6(PTEN):c.78C>A  ~  NC_000010.11:g.87864547C>T\n",
    "\n",
    "# NM_000314.6 structure on NM_000314.6 sequence\n",
    "# These exons and CDS on the NM_000314.6 sequence constitute the\n",
    "# definition of this transcript\n",
    "t_exons = [(0,1110), (1110,1195), (1195,1240),\n",
    "            (1240,1284), (1284,1523), (1523,1665),\n",
    "            (1665,1832), (1832,2057), (2057,8701)]\n",
    "t_cds = (1031,2243)\n",
    "\n",
    "# NM_000314.6 aligned (by NCBI) to NC_000010.11 sequence (GRCh38 chr 10), + strand\n",
    "g_exons = [(87863437, 87864548), (87894024, 87894109), (87925512, 87925557),\n",
    "           (87931045, 87931089), (87933012, 87933251), (87952117, 87952259),\n",
    "           (87957852, 87958019), (87960893, 87961118), (87965286, 87971930)]\n",
    "\n",
    "# Cigars of alignment (relative to transcript)\n",
    "tg_cigars = \"666=1I39=1X404= 85= 45= 44= 239= 142= 167= 225= 6644=\"\n",
    "\n",
    "# g_cds is computed from t_cds, accounting for alignment \n",
    "# 1032 = 1031 + 1I in cigar\n",
    "g_cds = (87863437 + 1032, 87965286 + 2243 - 2057)\n",
    "\n",
    "t_sequence_id = translate_sequence_identifier(\"refseq:NM_000314.6\")\n",
    "g_sequence_id = translate_sequence_identifier(\"refseq:NC_000010.11\")"
   ]
  },
  {
   "cell_type": "code",
   "execution_count": null,
   "metadata": {
    "scrolled": true
   },
   "outputs": [],
   "source": [
    "t_transcript = models.Transcript(\n",
    "  sequence_id = t_sequence_id,\n",
    "  exons = [models.SimpleInterval(start=ex[0], end=ex[1]) for ex in t_exons],\n",
    "  cds = models.SimpleInterval(start=t_cds[0], end=t_cds[1])\n",
    ")\n",
    "t_transcript.as_dict()"
   ]
  },
  {
   "cell_type": "code",
   "execution_count": null,
   "metadata": {},
   "outputs": [],
   "source": [
    "t_transcript_id = ga4gh_identify(t_transcript)\n",
    "t_transcript_id"
   ]
  },
  {
   "cell_type": "code",
   "execution_count": null,
   "metadata": {
    "scrolled": true
   },
   "outputs": [],
   "source": [
    "g_transcript = models.Transcript(\n",
    "  sequence_id = g_sequence_id,\n",
    "  exons = [models.SimpleInterval(start=ex[0], end=ex[1]) for ex in g_exons],\n",
    "  cds = models.SimpleInterval(start=g_cds[0], end=g_cds[1])\n",
    ")\n",
    "g_transcript.as_dict()"
   ]
  },
  {
   "cell_type": "code",
   "execution_count": null,
   "metadata": {},
   "outputs": [],
   "source": [
    "g_transcript_id = ga4gh_identify(g_transcript)\n",
    "g_transcript_id"
   ]
  },
  {
   "cell_type": "markdown",
   "metadata": {},
   "source": [
    "### TranscriptLocations and TranscriptIntervals\n",
    "\n",
    "Example: NM_000314.6:c.78C>A from [RCV000204337.5](https://www.ncbi.nlm.nih.gov/clinvar/48116316/).\n",
    "\n",
    "The CDS start of RefSeq transcript NM_000314.6 is 1032; that is, c.1 corresponds to n.1032 (+1031). Therefore, c.78 (interbase <77,78>)corresponds to n.1109, or interbase interval <1108,1109>.\n",
    "\n",
    "**☛ VRS does not support CDS numbering explicitly, but does provide the information required to compute it easily.** "
   ]
  },
  {
   "cell_type": "code",
   "execution_count": null,
   "metadata": {
    "scrolled": true
   },
   "outputs": [],
   "source": [
    "t_tloc = models.TranscriptLocation(\n",
    "    transcript = t_transcript,\n",
    "    interval = models.TranscriptInterval(\n",
    "        start=models.BaseOffset(base=1108),\n",
    "        end=models.BaseOffset(base=1109)))\n",
    "t_tloc.as_dict()"
   ]
  },
  {
   "cell_type": "code",
   "execution_count": 2,
   "metadata": {},
   "outputs": [
    {
     "ename": "NameError",
     "evalue": "name 'vrs_enref' is not defined",
     "output_type": "error",
     "traceback": [
      "\u001b[0;31m---------------------------------------------------------------------------\u001b[0m",
      "\u001b[0;31mNameError\u001b[0m                                 Traceback (most recent call last)",
      "\u001b[0;32m<ipython-input-2-d60227990a3e>\u001b[0m in \u001b[0;36m<module>\u001b[0;34m\u001b[0m\n\u001b[1;32m      1\u001b[0m \u001b[0;31m# or, more concisely with the identified transcript:\u001b[0m\u001b[0;34m\u001b[0m\u001b[0;34m\u001b[0m\u001b[0;34m\u001b[0m\u001b[0m\n\u001b[0;32m----> 2\u001b[0;31m \u001b[0mvrs_enref\u001b[0m\u001b[0;34m(\u001b[0m\u001b[0mt_tloc\u001b[0m\u001b[0;34m)\u001b[0m\u001b[0;34m.\u001b[0m\u001b[0mas_dict\u001b[0m\u001b[0;34m(\u001b[0m\u001b[0;34m)\u001b[0m\u001b[0;34m\u001b[0m\u001b[0;34m\u001b[0m\u001b[0m\n\u001b[0m",
      "\u001b[0;31mNameError\u001b[0m: name 'vrs_enref' is not defined"
     ]
    }
   ],
   "source": [
    "# or, more concisely with the identified transcript:\n",
    "vrs_enref(t_tloc).as_dict()"
   ]
  },
  {
   "cell_type": "code",
   "execution_count": null,
   "metadata": {},
   "outputs": [],
   "source": [
    "# A CDS coordinate must be computed using the transcript information, as follows:\n",
    "t_tloc.interval.start.base - t_transcript.cds.start + 1"
   ]
  },
  {
   "cell_type": "code",
   "execution_count": null,
   "metadata": {
    "scrolled": false
   },
   "outputs": [],
   "source": [
    "# NM_000314.6:c.78C>A corresponds to NC_000010.11:g.87864547C>T.\n",
    "# NC_000010.11 contains a 1 nt insertion at interbase 666 relative to NM_000314.6.\n",
    "# Therefore, <1108,1109> on NM_000314.6 corresponds to <1109,1110> on NC_000010.11.\n",
    "\n",
    "g_tloc = models.TranscriptLocation(\n",
    "    transcript = g_transcript,\n",
    "    interval = models.TranscriptInterval(\n",
    "        start=models.BaseOffset(base=1109),\n",
    "        end=models.BaseOffset(base=1110)))\n",
    "vrs_enref(g_tloc).as_dict()"
   ]
  },
  {
   "cell_type": "code",
   "execution_count": null,
   "metadata": {},
   "outputs": [],
   "source": [
    "# \"offset positions\"\n",
    "# NM_000314.6(PTEN):c.79+3A>G ~ NC_000010.11:g.87864551A>G"
   ]
  },
  {
   "cell_type": "markdown",
   "metadata": {},
   "source": [
    "### Transcript Feature Locations"
   ]
  },
  {
   "cell_type": "code",
   "execution_count": null,
   "metadata": {},
   "outputs": [],
   "source": [
    "tf = models.TranscriptFeature(feature_type=\"exon\", index=0)\n",
    "tf.as_dict()"
   ]
  },
  {
   "cell_type": "code",
   "execution_count": null,
   "metadata": {},
   "outputs": [],
   "source": [
    "tfi = models.TranscriptFeatureInterval(\n",
    "    start=models.TranscriptFeature(feature_type=\"exon\", index=0),\n",
    "    end=models.TranscriptFeature(feature_type=\"exon\", index=5),\n",
    ")\n",
    "tfi.as_dict()"
   ]
  },
  {
   "cell_type": "code",
   "execution_count": null,
   "metadata": {},
   "outputs": [],
   "source": [
    "tfl = models.TranscriptLocation(\n",
    "    transcript = g_transcript,\n",
    "    interval = tfi)\n",
    "tfl.as_dict()"
   ]
  },
  {
   "cell_type": "code",
   "execution_count": null,
   "metadata": {},
   "outputs": [],
   "source": [
    "ga4gh_identify(tfl)"
   ]
  },
  {
   "cell_type": "code",
   "execution_count": null,
   "metadata": {},
   "outputs": [],
   "source": [
    "vrs_enref(tfl).as_dict()"
   ]
  }
 ],
 "metadata": {
  "kernelspec": {
   "display_name": "Python 3",
   "language": "python",
   "name": "python3"
  },
  "language_info": {
   "codemirror_mode": {
    "name": "ipython",
    "version": 3
   },
   "file_extension": ".py",
   "mimetype": "text/x-python",
   "name": "python",
   "nbconvert_exporter": "python",
   "pygments_lexer": "ipython3",
   "version": "3.8.6"
  },
  "toc": {
   "base_numbering": 1,
   "nav_menu": {},
   "number_sections": true,
   "sideBar": true,
   "skip_h1_title": false,
   "title_cell": "Table of Contents",
   "title_sidebar": "Contents",
   "toc_cell": false,
   "toc_position": {
    "height": "calc(100% - 180px)",
    "left": "10px",
    "top": "150px",
    "width": "228.594px"
   },
   "toc_section_display": true,
   "toc_window_display": true
  },
  "varInspector": {
   "cols": {
    "lenName": 16,
    "lenType": 16,
    "lenVar": 40
   },
   "kernels_config": {
    "python": {
     "delete_cmd_postfix": "",
     "delete_cmd_prefix": "del ",
     "library": "var_list.py",
     "varRefreshCmd": "print(var_dic_list())"
    },
    "r": {
     "delete_cmd_postfix": ") ",
     "delete_cmd_prefix": "rm(",
     "library": "var_list.r",
     "varRefreshCmd": "cat(var_dic_list()) "
    }
   },
   "position": {
    "height": "198px",
    "left": "994px",
    "right": "20px",
    "top": "114px",
    "width": "350px"
   },
   "types_to_exclude": [
    "module",
    "function",
    "builtin_function_or_method",
    "instance",
    "_Feature"
   ],
   "window_display": false
  }
 },
 "nbformat": 4,
 "nbformat_minor": 4
}
