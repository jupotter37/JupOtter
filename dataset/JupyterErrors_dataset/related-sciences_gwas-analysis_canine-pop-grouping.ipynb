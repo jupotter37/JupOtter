{
 "cells": [
  {
   "cell_type": "markdown",
   "metadata": {},
   "source": [
    "### Canine Pop Group Benchmarking\n",
    "\n",
    "```\n",
    "// Trying to emulate this:\n",
    "df\n",
    "    .withColumn(\"mask1\", expr(\"array_max(transform(filter(genotypes, g -> g.population == 0), g -> array_max(g.calls))) > 0\"))\n",
    "    .withColumn(\"mask2\", expr(\"array_max(transform(filter(genotypes, g -> g.population == 1), g -> array_max(g.calls))) > 0\"))\n",
    "    .withColumn(\"mask3\", expr(\"array_max(transform(filter(genotypes, g -> g.population == 2), g -> array_max(g.calls))) > 0\"))\n",
    "    .withColumn(\"mask\", $\"mask1\" || $\"mask2\" || $\"mask3\")\n",
    "    .filter($\"mask\")\n",
    "    .count\n",
    "```"
   ]
  },
  {
   "cell_type": "code",
   "execution_count": 1,
   "metadata": {},
   "outputs": [
    {
     "name": "stderr",
     "output_type": "stream",
     "text": [
      "Running on Apache Spark version 2.4.4\n",
      "SparkUI available at http://a783b4e25167:4040\n",
      "Welcome to\n",
      "     __  __     <>__\n",
      "    / /_/ /__  __/ /\n",
      "   / __  / _ `/ / /\n",
      "  /_/ /_/\\_,_/_/_/   version 0.2.30-2ae07d872f43\n",
      "LOGGING: writing to /home/eczech/repos/gwas-analysis/notebooks/benchmark/hail-20200211-2226-0.2.30-2ae07d872f43.log\n"
     ]
    }
   ],
   "source": [
    "import hail as hl\n",
    "import pandas as pd\n",
    "import numpy as np\n",
    "import plotnine as pn\n",
    "import functools \n",
    "import matplotlib.pyplot as plt\n",
    "import plotly.graph_objects as go\n",
    "import plotly.express as px\n",
    "import os.path as osp\n",
    "%run ../nb.py\n",
    "%run ../organism/canine/files.py\n",
    "%run ../organism/canine/common.py\n",
    "temp_dir = osp.expanduser('~/data/gwas/tmp/canine')\n",
    "gab.register_timeop_magic(get_ipython(), 'hail')\n",
    "hl.init()"
   ]
  },
  {
   "cell_type": "code",
   "execution_count": 2,
   "metadata": {},
   "outputs": [
    {
     "data": {
      "text/plain": [
       "ReferenceGenome(name=canine, contigs=['1', '2', '3', '4', '5', '6', '7', '8', '9', '10', '11', '12', '13', '14', '15', '16', '17', '18', '19', '20', '21', '22', '23', '24', '25', '26', '27', '28', '29', '30', '31', '32', '33', '34', '35', '36', '37', '38', '39', '41'], lengths={'1': 122670980, '2': 85416217, '3': 91858198, '4': 88267880, '5': 88908300, '6': 77552613, '7': 80858461, '8': 74057381, '9': 61043804, '10': 69316974, '11': 74388336, '12': 72480470, '13': 63232306, '14': 60959782, '15': 64187680, '16': 59511764, '17': 64281982, '18': 55763074, '19': 53735656, '20': 58114749, '21': 50855586, '22': 61382644, '23': 52291577, '24': 47651928, '25': 51628093, '26': 38939728, '27': 45753342, '28': 41164216, '29': 41841565, '30': 40196606, '31': 39786599, '32': 38745890, '33': 31361794, '34': 42089769, '35': 26506199, '36': 30798114, '37': 30897806, '38': 23903967, '39': 123833839, '41': 6608343}, x_contigs=['39'], y_contigs=[], mt_contigs=['41'], par=[])"
      ]
     },
     "execution_count": 2,
     "metadata": {},
     "output_type": "execute_result"
    }
   ],
   "source": [
    "hl.ReferenceGenome(**load_reference_genome('../organism/canine/data/reference_genome.json'))"
   ]
  },
  {
   "cell_type": "code",
   "execution_count": 3,
   "metadata": {},
   "outputs": [
    {
     "data": {
      "text/plain": [
       "(149845, 1350)"
      ]
     },
     "execution_count": 3,
     "metadata": {},
     "output_type": "execute_result"
    }
   ],
   "source": [
    "mt = hl.read_matrix_table(osp.join(temp_dir, 'mt_ref_qc_1.mt'))\n",
    "mt.count()"
   ]
  },
  {
   "cell_type": "code",
   "execution_count": 4,
   "metadata": {},
   "outputs": [],
   "source": [
    "breeds = ['ACKR', 'MAST', 'CARD', 'MPIN', 'TIBM', 'TURV', 'SAMO', 'MALT', 'POM', 'SALU']"
   ]
  },
  {
   "cell_type": "code",
   "execution_count": 5,
   "metadata": {},
   "outputs": [
    {
     "name": "stderr",
     "output_type": "stream",
     "text": [
      "2020-02-11 22:26:55 Hail: WARN: cols(): Resulting column table is sorted by 'col_key'.\n",
      "    To preserve matrix table column order, first unkey columns with 'key_cols_by()'\n",
      "2020-02-11 22:26:57 Hail: INFO: Coerced sorted dataset\n"
     ]
    },
    {
     "data": {
      "text/html": [
       "<table><thead style=\"font-weight: bold;\"><tr><td>s</td><td>fam_id</td><td>breed</td></tr>\n",
       "<tr><td>str</td><td>str</td><td>str</td></tr>\n",
       "</thead><tbody><tr><td>&quot;ACKR_09007&quot;</td><td>&quot;ACKR&quot;</td><td>&quot;ACKR&quot;</td></tr>\n",
       "<tr><td>&quot;ACKR_09030&quot;</td><td>&quot;ACKR&quot;</td><td>&quot;ACKR&quot;</td></tr>\n",
       "<tr><td>&quot;ACKR_09032&quot;</td><td>&quot;ACKR&quot;</td><td>&quot;ACKR&quot;</td></tr>\n",
       "</tbody></table><p style=\"background: #fdd; padding: 0.4em;\">showing top 3 rows</p>\n"
      ],
      "text/plain": [
       "+--------------+--------+--------+\n",
       "| s            | fam_id | breed  |\n",
       "+--------------+--------+--------+\n",
       "| str          | str    | str    |\n",
       "+--------------+--------+--------+\n",
       "| \"ACKR_09007\" | \"ACKR\" | \"ACKR\" |\n",
       "| \"ACKR_09030\" | \"ACKR\" | \"ACKR\" |\n",
       "| \"ACKR_09032\" | \"ACKR\" | \"ACKR\" |\n",
       "+--------------+--------+--------+\n",
       "showing top 3 rows"
      ]
     },
     "metadata": {},
     "output_type": "display_data"
    }
   ],
   "source": [
    "df = get_fam(ORGANISM_CANINE_REF_DIR, PLINK_FILE_REF).assign(breed=get_breed)\n",
    "ht = hl.Table.from_pandas(df[['fid', 'iid', 'breed']].rename(columns={'fid': 'fam_id', 'iid': 's'})).key_by('s')\n",
    "mt = mt.annotate_cols(breed=ht[mt.s].breed)\n",
    "cht = mt.cols()\n",
    "cht.select(cht.fam_id, cht.breed).show(3)"
   ]
  },
  {
   "cell_type": "code",
   "execution_count": 15,
   "metadata": {},
   "outputs": [
    {
     "name": "stdout",
     "output_type": "stream",
     "text": [
      "CPU times: user 115 ms, sys: 4.12 ms, total: 119 ms\n",
      "Wall time: 3.16 s\n"
     ]
    },
    {
     "data": {
      "text/plain": [
       "(149845, 1350)"
      ]
     },
     "execution_count": 15,
     "metadata": {},
     "output_type": "execute_result"
    }
   ],
   "source": [
    "%%time\n",
    "def run_qc(mt, breeds):\n",
    "    masks = {}\n",
    "    for i, br in enumerate(breeds):\n",
    "        mt = mt.annotate_rows(**{'mask' + str(i): hl.agg.fraction(hl.is_defined(mt.GT)) > .9 + .001 * i})\n",
    "    mt = mt.filter_rows(functools.reduce(lambda m1, m2: m1 & m2, [mt['mask' + str(i)] for i in range(len(breeds))]))\n",
    "    return mt\n",
    "run_qc(mt, breeds[:8]).count()"
   ]
  },
  {
   "cell_type": "code",
   "execution_count": 25,
   "metadata": {},
   "outputs": [
    {
     "name": "stderr",
     "output_type": "stream",
     "text": [
      "2020-02-11 22:58:59 Hail: ERROR: scope violation: 'GroupedMatrixTable.aggregate_cols' expects an expression indexed by []\n",
      "    Found indices ['row'], with unexpected indices ['row']. Invalid fields:\n",
      "        'variant_qc' (indices ['row'])\n"
     ]
    },
    {
     "ename": "ExpressionException",
     "evalue": "scope violation: 'GroupedMatrixTable.aggregate_cols' expects an expression indexed by []\n    Found indices ['row'], with unexpected indices ['row']. Invalid fields:\n        'variant_qc' (indices ['row'])",
     "output_type": "error",
     "traceback": [
      "\u001b[0;31m---------------------------------------------------------------------------\u001b[0m",
      "\u001b[0;31mExpressionException\u001b[0m                       Traceback (most recent call last)",
      "\u001b[0;32m<ipython-input-25-c62bfdb679df>\u001b[0m in \u001b[0;36m<module>\u001b[0;34m\u001b[0m\n\u001b[1;32m      1\u001b[0m \u001b[0mmtq\u001b[0m \u001b[0;34m=\u001b[0m \u001b[0mhl\u001b[0m\u001b[0;34m.\u001b[0m\u001b[0mvariant_qc\u001b[0m\u001b[0;34m(\u001b[0m\u001b[0mmt\u001b[0m\u001b[0;34m)\u001b[0m\u001b[0;34m\u001b[0m\u001b[0;34m\u001b[0m\u001b[0m\n\u001b[0;32m----> 2\u001b[0;31m \u001b[0mmtq\u001b[0m\u001b[0;34m.\u001b[0m\u001b[0mgroup_cols_by\u001b[0m\u001b[0;34m(\u001b[0m\u001b[0mmtq\u001b[0m\u001b[0;34m.\u001b[0m\u001b[0mbreed\u001b[0m\u001b[0;34m)\u001b[0m\u001b[0;34m.\u001b[0m\u001b[0maggregate_cols\u001b[0m\u001b[0;34m(\u001b[0m\u001b[0mcall_rate\u001b[0m\u001b[0;34m=\u001b[0m\u001b[0mmtq\u001b[0m\u001b[0;34m.\u001b[0m\u001b[0mvariant_qc\u001b[0m\u001b[0;34m.\u001b[0m\u001b[0mcall_rate\u001b[0m\u001b[0;34m)\u001b[0m\u001b[0;34m\u001b[0m\u001b[0;34m\u001b[0m\u001b[0m\n\u001b[0m",
      "\u001b[0;32m</opt/conda/envs/hail/lib/python3.7/site-packages/decorator.py:decorator-gen-1119>\u001b[0m in \u001b[0;36maggregate_cols\u001b[0;34m(self, **named_exprs)\u001b[0m\n",
      "\u001b[0;32m/opt/conda/envs/hail/lib/python3.7/site-packages/hail/typecheck/check.py\u001b[0m in \u001b[0;36mwrapper\u001b[0;34m(__original_func, *args, **kwargs)\u001b[0m\n\u001b[1;32m    583\u001b[0m     \u001b[0;32mdef\u001b[0m \u001b[0mwrapper\u001b[0m\u001b[0;34m(\u001b[0m\u001b[0m__original_func\u001b[0m\u001b[0;34m,\u001b[0m \u001b[0;34m*\u001b[0m\u001b[0margs\u001b[0m\u001b[0;34m,\u001b[0m \u001b[0;34m**\u001b[0m\u001b[0mkwargs\u001b[0m\u001b[0;34m)\u001b[0m\u001b[0;34m:\u001b[0m\u001b[0;34m\u001b[0m\u001b[0;34m\u001b[0m\u001b[0m\n\u001b[1;32m    584\u001b[0m         \u001b[0margs_\u001b[0m\u001b[0;34m,\u001b[0m \u001b[0mkwargs_\u001b[0m \u001b[0;34m=\u001b[0m \u001b[0mcheck_all\u001b[0m\u001b[0;34m(\u001b[0m\u001b[0m__original_func\u001b[0m\u001b[0;34m,\u001b[0m \u001b[0margs\u001b[0m\u001b[0;34m,\u001b[0m \u001b[0mkwargs\u001b[0m\u001b[0;34m,\u001b[0m \u001b[0mcheckers\u001b[0m\u001b[0;34m,\u001b[0m \u001b[0mis_method\u001b[0m\u001b[0;34m=\u001b[0m\u001b[0mis_method\u001b[0m\u001b[0;34m)\u001b[0m\u001b[0;34m\u001b[0m\u001b[0;34m\u001b[0m\u001b[0m\n\u001b[0;32m--> 585\u001b[0;31m         \u001b[0;32mreturn\u001b[0m \u001b[0m__original_func\u001b[0m\u001b[0;34m(\u001b[0m\u001b[0;34m*\u001b[0m\u001b[0margs_\u001b[0m\u001b[0;34m,\u001b[0m \u001b[0;34m**\u001b[0m\u001b[0mkwargs_\u001b[0m\u001b[0;34m)\u001b[0m\u001b[0;34m\u001b[0m\u001b[0;34m\u001b[0m\u001b[0m\n\u001b[0m\u001b[1;32m    586\u001b[0m \u001b[0;34m\u001b[0m\u001b[0m\n\u001b[1;32m    587\u001b[0m     \u001b[0;32mreturn\u001b[0m \u001b[0mwrapper\u001b[0m\u001b[0;34m\u001b[0m\u001b[0;34m\u001b[0m\u001b[0m\n",
      "\u001b[0;32m/opt/conda/envs/hail/lib/python3.7/site-packages/hail/matrixtable.py\u001b[0m in \u001b[0;36maggregate_cols\u001b[0;34m(self, **named_exprs)\u001b[0m\n\u001b[1;32m    287\u001b[0m         \u001b[0mbase\u001b[0m \u001b[0;34m=\u001b[0m \u001b[0mself\u001b[0m\u001b[0;34m.\u001b[0m\u001b[0m_col_fields\u001b[0m \u001b[0;32mif\u001b[0m \u001b[0mself\u001b[0m\u001b[0;34m.\u001b[0m\u001b[0m_col_fields\u001b[0m \u001b[0;32mis\u001b[0m \u001b[0;32mnot\u001b[0m \u001b[0;32mNone\u001b[0m \u001b[0;32melse\u001b[0m \u001b[0mhl\u001b[0m\u001b[0;34m.\u001b[0m\u001b[0mstruct\u001b[0m\u001b[0;34m(\u001b[0m\u001b[0;34m)\u001b[0m\u001b[0;34m\u001b[0m\u001b[0;34m\u001b[0m\u001b[0m\n\u001b[1;32m    288\u001b[0m         \u001b[0;32mfor\u001b[0m \u001b[0mk\u001b[0m\u001b[0;34m,\u001b[0m \u001b[0me\u001b[0m \u001b[0;32min\u001b[0m \u001b[0mnamed_exprs\u001b[0m\u001b[0;34m.\u001b[0m\u001b[0mitems\u001b[0m\u001b[0;34m(\u001b[0m\u001b[0;34m)\u001b[0m\u001b[0;34m:\u001b[0m\u001b[0;34m\u001b[0m\u001b[0;34m\u001b[0m\u001b[0m\n\u001b[0;32m--> 289\u001b[0;31m             \u001b[0manalyze\u001b[0m\u001b[0;34m(\u001b[0m\u001b[0;34m'GroupedMatrixTable.aggregate_cols'\u001b[0m\u001b[0;34m,\u001b[0m \u001b[0me\u001b[0m\u001b[0;34m,\u001b[0m \u001b[0mself\u001b[0m\u001b[0;34m.\u001b[0m\u001b[0m_parent\u001b[0m\u001b[0;34m.\u001b[0m\u001b[0m_global_indices\u001b[0m\u001b[0;34m,\u001b[0m \u001b[0;34m{\u001b[0m\u001b[0mself\u001b[0m\u001b[0;34m.\u001b[0m\u001b[0m_parent\u001b[0m\u001b[0;34m.\u001b[0m\u001b[0m_col_axis\u001b[0m\u001b[0;34m}\u001b[0m\u001b[0;34m)\u001b[0m\u001b[0;34m\u001b[0m\u001b[0;34m\u001b[0m\u001b[0m\n\u001b[0m\u001b[1;32m    290\u001b[0m \u001b[0;34m\u001b[0m\u001b[0m\n\u001b[1;32m    291\u001b[0m         \u001b[0mself\u001b[0m\u001b[0;34m.\u001b[0m\u001b[0m_check_bindings\u001b[0m\u001b[0;34m(\u001b[0m\u001b[0;34m'aggregate_cols'\u001b[0m\u001b[0;34m,\u001b[0m \u001b[0mnamed_exprs\u001b[0m\u001b[0;34m,\u001b[0m \u001b[0mself\u001b[0m\u001b[0;34m.\u001b[0m\u001b[0m_parent\u001b[0m\u001b[0;34m.\u001b[0m\u001b[0m_col_indices\u001b[0m\u001b[0;34m)\u001b[0m\u001b[0;34m\u001b[0m\u001b[0;34m\u001b[0m\u001b[0m\n",
      "\u001b[0;32m</opt/conda/envs/hail/lib/python3.7/site-packages/decorator.py:decorator-gen-663>\u001b[0m in \u001b[0;36manalyze\u001b[0;34m(caller, expr, expected_indices, aggregation_axes, broadcast)\u001b[0m\n",
      "\u001b[0;32m/opt/conda/envs/hail/lib/python3.7/site-packages/hail/typecheck/check.py\u001b[0m in \u001b[0;36mwrapper\u001b[0;34m(__original_func, *args, **kwargs)\u001b[0m\n\u001b[1;32m    583\u001b[0m     \u001b[0;32mdef\u001b[0m \u001b[0mwrapper\u001b[0m\u001b[0;34m(\u001b[0m\u001b[0m__original_func\u001b[0m\u001b[0;34m,\u001b[0m \u001b[0;34m*\u001b[0m\u001b[0margs\u001b[0m\u001b[0;34m,\u001b[0m \u001b[0;34m**\u001b[0m\u001b[0mkwargs\u001b[0m\u001b[0;34m)\u001b[0m\u001b[0;34m:\u001b[0m\u001b[0;34m\u001b[0m\u001b[0;34m\u001b[0m\u001b[0m\n\u001b[1;32m    584\u001b[0m         \u001b[0margs_\u001b[0m\u001b[0;34m,\u001b[0m \u001b[0mkwargs_\u001b[0m \u001b[0;34m=\u001b[0m \u001b[0mcheck_all\u001b[0m\u001b[0;34m(\u001b[0m\u001b[0m__original_func\u001b[0m\u001b[0;34m,\u001b[0m \u001b[0margs\u001b[0m\u001b[0;34m,\u001b[0m \u001b[0mkwargs\u001b[0m\u001b[0;34m,\u001b[0m \u001b[0mcheckers\u001b[0m\u001b[0;34m,\u001b[0m \u001b[0mis_method\u001b[0m\u001b[0;34m=\u001b[0m\u001b[0mis_method\u001b[0m\u001b[0;34m)\u001b[0m\u001b[0;34m\u001b[0m\u001b[0;34m\u001b[0m\u001b[0m\n\u001b[0;32m--> 585\u001b[0;31m         \u001b[0;32mreturn\u001b[0m \u001b[0m__original_func\u001b[0m\u001b[0;34m(\u001b[0m\u001b[0;34m*\u001b[0m\u001b[0margs_\u001b[0m\u001b[0;34m,\u001b[0m \u001b[0;34m**\u001b[0m\u001b[0mkwargs_\u001b[0m\u001b[0;34m)\u001b[0m\u001b[0;34m\u001b[0m\u001b[0;34m\u001b[0m\u001b[0m\n\u001b[0m\u001b[1;32m    586\u001b[0m \u001b[0;34m\u001b[0m\u001b[0m\n\u001b[1;32m    587\u001b[0m     \u001b[0;32mreturn\u001b[0m \u001b[0mwrapper\u001b[0m\u001b[0;34m\u001b[0m\u001b[0;34m\u001b[0m\u001b[0m\n",
      "\u001b[0;32m/opt/conda/envs/hail/lib/python3.7/site-packages/hail/expr/expressions/expression_utils.py\u001b[0m in \u001b[0;36manalyze\u001b[0;34m(caller, expr, expected_indices, aggregation_axes, broadcast)\u001b[0m\n\u001b[1;32m    127\u001b[0m         \u001b[0;32mfor\u001b[0m \u001b[0me\u001b[0m \u001b[0;32min\u001b[0m \u001b[0merrors\u001b[0m\u001b[0;34m:\u001b[0m\u001b[0;34m\u001b[0m\u001b[0;34m\u001b[0m\u001b[0m\n\u001b[1;32m    128\u001b[0m             \u001b[0merror\u001b[0m\u001b[0;34m(\u001b[0m\u001b[0;34m'{}'\u001b[0m\u001b[0;34m.\u001b[0m\u001b[0mformat\u001b[0m\u001b[0;34m(\u001b[0m\u001b[0me\u001b[0m\u001b[0;34m.\u001b[0m\u001b[0mmsg\u001b[0m\u001b[0;34m)\u001b[0m\u001b[0;34m)\u001b[0m\u001b[0;34m\u001b[0m\u001b[0;34m\u001b[0m\u001b[0m\n\u001b[0;32m--> 129\u001b[0;31m         \u001b[0;32mraise\u001b[0m \u001b[0merrors\u001b[0m\u001b[0;34m[\u001b[0m\u001b[0;36m0\u001b[0m\u001b[0;34m]\u001b[0m\u001b[0;34m\u001b[0m\u001b[0;34m\u001b[0m\u001b[0m\n\u001b[0m\u001b[1;32m    130\u001b[0m \u001b[0;34m\u001b[0m\u001b[0m\n\u001b[1;32m    131\u001b[0m \u001b[0;34m\u001b[0m\u001b[0m\n",
      "\u001b[0;31mExpressionException\u001b[0m: scope violation: 'GroupedMatrixTable.aggregate_cols' expects an expression indexed by []\n    Found indices ['row'], with unexpected indices ['row']. Invalid fields:\n        'variant_qc' (indices ['row'])"
     ]
    }
   ],
   "source": [
    "#mtq = hl.variant_qc(mt)\n",
    "mt.group_cols_by(mt.breed).aggregate_cols(call_rate=hl.agg.fraction(hl.is_defined(mt.GT)))"
   ]
  },
  {
   "cell_type": "code",
   "execution_count": null,
   "metadata": {},
   "outputs": [],
   "source": [
    "g.aggregate_rows(call_rate=)"
   ]
  },
  {
   "cell_type": "code",
   "execution_count": null,
   "metadata": {},
   "outputs": [],
   "source": [
    "%%time\n",
    "def run_qc(mt, breeds):\n",
    "    masks = {}\n",
    "    for i, br in enumerate(breeds):\n",
    "        mt = mt.annotate_rows(**{'mask' + str(i): hl.agg.fraction(hl.is_defined(mt.GT)) > .9 + .001 * i})\n",
    "    mt = mt.filter_rows(functools.reduce(lambda m1, m2: m1 & m2, [mt['mask' + str(i)] for i in range(len(breeds))]))\n",
    "    return mt\n",
    "run_qc(mt, breeds[:8]).count()"
   ]
  },
  {
   "cell_type": "code",
   "execution_count": 7,
   "metadata": {},
   "outputs": [
    {
     "name": "stdout",
     "output_type": "stream",
     "text": [
      "CPU times: user 16 µs, sys: 0 ns, total: 16 µs\n",
      "Wall time: 23.1 µs\n"
     ]
    }
   ],
   "source": [
    "%%time\n",
    "def run_qc(mt, breeds):\n",
    "    masks = {}\n",
    "    for i, br in enumerate(breeds):\n",
    "        print(br)\n",
    "        mtf = hl.variant_qc(mt.filter_cols(mt.breed == br))\n",
    "        mt = mt.annotate_rows(**{'mask' + str(i): mtf.rows()[mt.row_key].variant_qc.p_value_hwe > 10e-6})\n",
    "        #mt = mt.annotate_rows(**{'mask' + str(i): mtf.rows()[mt.row_key].variant_qc.call_rate > .9})\n",
    "    mt = mt.filter_rows(functools.reduce(lambda m1, m2: m1 & m2, [mt['mask' + str(i)] for i in range(len(breeds))]))\n",
    "    return mt\n",
    "#mtt.aggregate_rows(hl.agg.counter(functools.reduce(lambda m1, m2: m1 & m2, [mtt[\"mask0\"], mtt[\"mask1\"], mtt[\"mask2\"]])))"
   ]
  },
  {
   "cell_type": "code",
   "execution_count": 8,
   "metadata": {},
   "outputs": [
    {
     "name": "stdout",
     "output_type": "stream",
     "text": [
      "ACKR\n",
      "MAST\n",
      "CPU times: user 201 ms, sys: 15.4 ms, total: 217 ms\n",
      "Wall time: 6.24 s\n"
     ]
    },
    {
     "data": {
      "text/plain": [
       "(149845, 1350)"
      ]
     },
     "execution_count": 8,
     "metadata": {},
     "output_type": "execute_result"
    }
   ],
   "source": [
    "%%time\n",
    "run_qc(mt, breeds[:2]).count()"
   ]
  },
  {
   "cell_type": "code",
   "execution_count": 9,
   "metadata": {},
   "outputs": [
    {
     "name": "stdout",
     "output_type": "stream",
     "text": [
      "ACKR\n",
      "MAST\n",
      "CARD\n",
      "CPU times: user 352 ms, sys: 7.69 ms, total: 359 ms\n",
      "Wall time: 7.81 s\n"
     ]
    },
    {
     "data": {
      "text/plain": [
       "(149845, 1350)"
      ]
     },
     "execution_count": 9,
     "metadata": {},
     "output_type": "execute_result"
    }
   ],
   "source": [
    "%%time\n",
    "run_qc(mt, breeds[:3]).count()"
   ]
  },
  {
   "cell_type": "code",
   "execution_count": 10,
   "metadata": {},
   "outputs": [
    {
     "name": "stdout",
     "output_type": "stream",
     "text": [
      "ACKR\n",
      "MAST\n",
      "CARD\n",
      "MPIN\n",
      "CPU times: user 700 ms, sys: 10.7 ms, total: 711 ms\n",
      "Wall time: 10.7 s\n"
     ]
    },
    {
     "data": {
      "text/plain": [
       "(149845, 1350)"
      ]
     },
     "execution_count": 10,
     "metadata": {},
     "output_type": "execute_result"
    }
   ],
   "source": [
    "%%time\n",
    "run_qc(mt, breeds[:4]).count()"
   ]
  },
  {
   "cell_type": "code",
   "execution_count": 11,
   "metadata": {},
   "outputs": [
    {
     "name": "stdout",
     "output_type": "stream",
     "text": [
      "ACKR\n",
      "MAST\n",
      "CARD\n",
      "MPIN\n",
      "TIBM\n",
      "CPU times: user 1.61 s, sys: 35.9 ms, total: 1.65 s\n",
      "Wall time: 14.7 s\n"
     ]
    },
    {
     "data": {
      "text/plain": [
       "(149845, 1350)"
      ]
     },
     "execution_count": 11,
     "metadata": {},
     "output_type": "execute_result"
    }
   ],
   "source": [
    "%%time\n",
    "run_qc(mt, breeds[:5]).count()"
   ]
  },
  {
   "cell_type": "code",
   "execution_count": 12,
   "metadata": {},
   "outputs": [
    {
     "name": "stdout",
     "output_type": "stream",
     "text": [
      "ACKR\n",
      "MAST\n",
      "CARD\n",
      "MPIN\n",
      "TIBM\n",
      "TURV\n",
      "CPU times: user 4.32 s, sys: 35 ms, total: 4.35 s\n",
      "Wall time: 22.4 s\n"
     ]
    },
    {
     "data": {
      "text/plain": [
       "(149845, 1350)"
      ]
     },
     "execution_count": 12,
     "metadata": {},
     "output_type": "execute_result"
    }
   ],
   "source": [
    "%%time\n",
    "run_qc(mt, breeds[:6]).count()"
   ]
  },
  {
   "cell_type": "code",
   "execution_count": 13,
   "metadata": {},
   "outputs": [
    {
     "name": "stdout",
     "output_type": "stream",
     "text": [
      "ACKR\n",
      "MAST\n",
      "CARD\n",
      "MPIN\n",
      "TIBM\n",
      "TURV\n",
      "SAMO\n",
      "CPU times: user 12.3 s, sys: 85.6 ms, total: 12.3 s\n",
      "Wall time: 40.6 s\n"
     ]
    },
    {
     "data": {
      "text/plain": [
       "(149845, 1350)"
      ]
     },
     "execution_count": 13,
     "metadata": {},
     "output_type": "execute_result"
    }
   ],
   "source": [
    "%%time\n",
    "run_qc(mt, breeds[:7]).count()"
   ]
  },
  {
   "cell_type": "code",
   "execution_count": 14,
   "metadata": {},
   "outputs": [
    {
     "name": "stdout",
     "output_type": "stream",
     "text": [
      "ACKR\n",
      "MAST\n",
      "CARD\n",
      "MPIN\n",
      "TIBM\n",
      "TURV\n",
      "SAMO\n",
      "MALT\n",
      "CPU times: user 35.9 s, sys: 331 ms, total: 36.2 s\n",
      "Wall time: 1min 33s\n"
     ]
    },
    {
     "data": {
      "text/plain": [
       "(149845, 1350)"
      ]
     },
     "execution_count": 14,
     "metadata": {},
     "output_type": "execute_result"
    }
   ],
   "source": [
    "%%time\n",
    "run_qc(mt, breeds[:8]).count()"
   ]
  },
  {
   "cell_type": "code",
   "execution_count": null,
   "metadata": {},
   "outputs": [],
   "source": [
    "%%time\n",
    "def hwe_maf_qc(mt):\n",
    "    cts = {}\n",
    "    res = mt\n",
    "    # TODO: Is there a more efficient way to do this?  It may make more sense \n",
    "    # to use boolean reduction on N mask arrays instead of successive joins\n",
    "    for br in mts.keys():\n",
    "        mtf = hl.variant_qc(mt.filter_cols(mt.breed == br))\n",
    "        #mtf = mtf.filter_rows((mtf.variant_qc.p_value_hwe > threshold_hwep) & (hl.min(mtf.variant_qc.AF) > threshold_maf))\n",
    "        mtf = mtf.filter_rows((mtf.variant_qc.p_value_hwe > threshold_hwep))\n",
    "        #cts[br] = mtf.count()[0]\n",
    "        res = res.semi_join_rows(mtf.rows())\n",
    "    #print('Number of variants after filtering by breed-specific QC thresholds: ', cts)\n",
    "    return res\n",
    "\n",
    "mt_qc = hwe_maf_qc(mt)\n",
    "mt_qc.count()"
   ]
  }
 ],
 "metadata": {
  "kernelspec": {
   "display_name": "Python 3",
   "language": "python",
   "name": "python3"
  },
  "language_info": {
   "codemirror_mode": {
    "name": "ipython",
    "version": 3
   },
   "file_extension": ".py",
   "mimetype": "text/x-python",
   "name": "python",
   "nbconvert_exporter": "python",
   "pygments_lexer": "ipython3",
   "version": "3.7.6"
  }
 },
 "nbformat": 4,
 "nbformat_minor": 4
}
