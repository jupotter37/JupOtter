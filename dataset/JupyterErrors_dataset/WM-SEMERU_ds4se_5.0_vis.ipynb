{
 "cells": [
  {
   "cell_type": "code",
   "execution_count": null,
   "metadata": {},
   "outputs": [],
   "source": [
    "# default_exp vis"
   ]
  },
  {
   "cell_type": "markdown",
   "metadata": {},
   "source": [
    "# Exploration of your data\n",
    "\n",
    "> This module comprises all the statistical and inference techniques to describe the inner properties of software data. The submodules might include:\n",
    ">\n",
    "> - Descriptive statistics\n",
    "> - Software Metrics\n",
    "> - Information Theory\n",
    "> - Learning Principels Detection (Occams' Razor, Biased data, and Data Snooping)\n",
    "> - Inference: Probabilistic and Causal"
   ]
  },
  {
   "cell_type": "code",
   "execution_count": null,
   "metadata": {},
   "outputs": [
    {
     "name": "stdout",
     "output_type": "stream",
     "text": [
      "Requirement already satisfied: dit in /Users/danielquiroga/anaconda3/lib/python3.7/site-packages (1.2.3)\n",
      "Requirement already satisfied: boltons in /Users/danielquiroga/anaconda3/lib/python3.7/site-packages (from dit) (20.2.1)\n",
      "Requirement already satisfied: scipy>=0.15.0 in /Users/danielquiroga/anaconda3/lib/python3.7/site-packages (from dit) (1.4.1)\n",
      "Requirement already satisfied: debtcollector in /Users/danielquiroga/anaconda3/lib/python3.7/site-packages (from dit) (2.2.0)\n",
      "Requirement already satisfied: contextlib2 in /Users/danielquiroga/anaconda3/lib/python3.7/site-packages (from dit) (0.6.0.post1)\n",
      "Requirement already satisfied: prettytable in /Users/danielquiroga/anaconda3/lib/python3.7/site-packages (from dit) (1.0.1)\n",
      "Requirement already satisfied: six>=1.4.0 in /Users/danielquiroga/anaconda3/lib/python3.7/site-packages (from dit) (1.14.0)\n",
      "Requirement already satisfied: networkx in /Users/danielquiroga/anaconda3/lib/python3.7/site-packages (from dit) (2.4)\n",
      "Requirement already satisfied: numpy>=1.11 in /Users/danielquiroga/anaconda3/lib/python3.7/site-packages (from dit) (1.18.1)\n",
      "Requirement already satisfied: pbr!=2.1.0,>=2.0.0 in /Users/danielquiroga/anaconda3/lib/python3.7/site-packages (from debtcollector->dit) (5.5.0)\n",
      "Requirement already satisfied: wrapt>=1.7.0 in /Users/danielquiroga/anaconda3/lib/python3.7/site-packages (from debtcollector->dit) (1.11.2)\n",
      "Requirement already satisfied: wcwidth in /Users/danielquiroga/anaconda3/lib/python3.7/site-packages (from prettytable->dit) (0.1.8)\n",
      "Requirement already satisfied: setuptools in /Users/danielquiroga/anaconda3/lib/python3.7/site-packages (from prettytable->dit) (50.3.0)\n",
      "Requirement already satisfied: decorator>=4.3.0 in /Users/danielquiroga/anaconda3/lib/python3.7/site-packages (from networkx->dit) (4.4.1)\n",
      "\u001b[33mWARNING: You are using pip version 20.2.3; however, version 20.2.4 is available.\n",
      "You should consider upgrading via the '/Users/danielquiroga/anaconda3/bin/python -m pip install --upgrade pip' command.\u001b[0m\n",
      "Requirement already satisfied: sentencepiece in /Users/danielquiroga/anaconda3/lib/python3.7/site-packages (0.1.91)\n",
      "\u001b[33mWARNING: You are using pip version 20.2.3; however, version 20.2.4 is available.\n",
      "You should consider upgrading via the '/Users/danielquiroga/anaconda3/bin/python -m pip install --upgrade pip' command.\u001b[0m\n"
     ]
    }
   ],
   "source": [
    "!pip install dit\n",
    "!pip install sentencepiece"
   ]
  },
  {
   "cell_type": "code",
   "execution_count": null,
   "metadata": {},
   "outputs": [],
   "source": [
    "# export\n",
    "# Imports\n",
    "import matplotlib.pyplot as plt\n",
    "import numpy as np\n",
    "\n",
    "#from ds4se.desc.stats import *\n",
    "from mpl_toolkits.mplot3d import Axes3D\n",
    "from scipy.interpolate import griddata\n",
    "from sklearn.decomposition import PCA\n",
    "from sklearn.manifold import TSNE"
   ]
  },
  {
   "cell_type": "code",
   "execution_count": null,
   "metadata": {},
   "outputs": [],
   "source": [
    "#hide\n",
    "from nbdev.showdoc import *"
   ]
  },
  {
   "cell_type": "code",
   "execution_count": null,
   "metadata": {},
   "outputs": [],
   "source": [
    "#export\n",
    "def get_contours(x_range, y_range, delta):\n",
    "    x = np.arange(x_range[0], x_range[1], delta)\n",
    "    y = np.arange(x_range[0], x_range[1], delta)\n",
    "    X, Y = np.meshgrid(x, y)\n",
    "    Z = X + Y\n",
    "    \n",
    "    return X, Y, Z"
   ]
  },
  {
   "cell_type": "code",
   "execution_count": null,
   "metadata": {},
   "outputs": [],
   "source": [
    "#export\n",
    "def visualize_gt_ngt(gt, ngt, title, y_label):\n",
    "    plt.title(title)\n",
    "    plt.xlim(2, 15)\n",
    "    plt.xlabel('req entropy')\n",
    "    \n",
    "    plt.ylim(2, 15)\n",
    "    plt.ylabel(f'{y_label} entropy')\n",
    "    plt.gca().set_aspect('equal', adjustable='box')\n",
    "    \n",
    "#     xi = np.linspace(2, 10, 10)\n",
    "#     yi = np.linspace(2, 10, 10)\n",
    "#     zi = griddata((gt[0], gt[1]), gt[1], (xi[None,:], yi[:,None]), method='linear')\n",
    "    X, Y, Z = get_contours([1, 16], [1, 16], 1)\n",
    "    plt.contourf(X, Y, Z, levels = 20, cmap = 'gray')\n",
    "    \n",
    "#     plt.tricontour(gt[0], gt[1])\n",
    "    plt.scatter(ngt[0], ngt[1], c='r', label='non-groundtruth', alpha = 0.5)\n",
    "    plt.scatter(gt[0], gt[1], c='b', label='groundtruth', alpha = 0.5)\n",
    "    \n",
    "    plt.legend()\n",
    "    plt.show()"
   ]
  },
  {
   "cell_type": "code",
   "execution_count": null,
   "metadata": {},
   "outputs": [],
   "source": [
    "#export\n",
    "def visualize_events(events, color, title, label):\n",
    "    plt.title(title)\n",
    "    maxi, mini, μ, med, σ, med_σ = get_desc_stats(events)\n",
    "    text = f'Max: {maxi:.3f}\\nMin: {mini:.3f}\\nMean: {μ:.3f}\\nMed: {med:.3f}\\nStDev: {σ:.3f}\\nMAD: {med_σ:.3f}'\n",
    "    plt.gcf().text(0.02, 0.35, text, fontsize=14)\n",
    "    plt.hlines(1,0,1)\n",
    "    plt.gca().yaxis.set_major_locator(plt.NullLocator())\n",
    "    plt.eventplot(events, orientation='horizontal', colors=color, alpha = 0.5, label=label)\n",
    "    plt.subplots_adjust(left=0.25)\n",
    "    plt.legend()\n",
    "    plt.show()"
   ]
  },
  {
   "cell_type": "code",
   "execution_count": null,
   "metadata": {},
   "outputs": [],
   "source": [
    "#export\n",
    "def plot_counts(counts, x_label, y_label, top_k = 30):\n",
    "    labels, values = zip(*counts.most_common()[:top_k])\n",
    "\n",
    "    indexes = np.arange(len(labels))\n",
    "    width = 0.5\n",
    "    plt.figure(num=None, figsize=(22, 4), dpi=60, facecolor='w', edgecolor='k')\n",
    "    plt.xlabel(x_label)\n",
    "    plt.ylabel(y_label)\n",
    "    plt.bar(indexes, values, width, align = 'center')\n",
    "    plt.xticks(indexes, labels)\n",
    "    plt.show()"
   ]
  },
  {
   "cell_type": "code",
   "execution_count": null,
   "metadata": {},
   "outputs": [
    {
     "ename": "NameError",
     "evalue": "name 'LIB_entropies' is not defined",
     "output_type": "error",
     "traceback": [
      "\u001b[0;31m---------------------------------------------------------------------------\u001b[0m",
      "\u001b[0;31mNameError\u001b[0m                                 Traceback (most recent call last)",
      "\u001b[0;32m<ipython-input-9-02881aea3d63>\u001b[0m in \u001b[0;36m<module>\u001b[0;34m\u001b[0m\n\u001b[1;32m      1\u001b[0m \u001b[0;31m# Create a histogram of the entropy distribution\u001b[0m\u001b[0;34m\u001b[0m\u001b[0;34m\u001b[0m\u001b[0;34m\u001b[0m\u001b[0m\n\u001b[0;32m----> 2\u001b[0;31m \u001b[0mplt\u001b[0m\u001b[0;34m.\u001b[0m\u001b[0mhist\u001b[0m\u001b[0;34m(\u001b[0m\u001b[0mLIB_entropies\u001b[0m\u001b[0;34m,\u001b[0m \u001b[0mbins\u001b[0m \u001b[0;34m=\u001b[0m \u001b[0;36m20\u001b[0m\u001b[0;34m)\u001b[0m\u001b[0;34m\u001b[0m\u001b[0;34m\u001b[0m\u001b[0m\n\u001b[0m\u001b[1;32m      3\u001b[0m \u001b[0mplt\u001b[0m\u001b[0;34m.\u001b[0m\u001b[0mylabel\u001b[0m\u001b[0;34m(\u001b[0m\u001b[0;34m\"Num Files\"\u001b[0m\u001b[0;34m)\u001b[0m\u001b[0;34m\u001b[0m\u001b[0;34m\u001b[0m\u001b[0m\n\u001b[1;32m      4\u001b[0m \u001b[0mplt\u001b[0m\u001b[0;34m.\u001b[0m\u001b[0mxlabel\u001b[0m\u001b[0;34m(\u001b[0m\u001b[0;34m\"Entropy\"\u001b[0m\u001b[0;34m)\u001b[0m\u001b[0;34m\u001b[0m\u001b[0;34m\u001b[0m\u001b[0m\n\u001b[1;32m      5\u001b[0m \u001b[0mplt\u001b[0m\u001b[0;34m.\u001b[0m\u001b[0mshow\u001b[0m\u001b[0;34m(\u001b[0m\u001b[0;34m)\u001b[0m\u001b[0;34m\u001b[0m\u001b[0;34m\u001b[0m\u001b[0m\n",
      "\u001b[0;31mNameError\u001b[0m: name 'LIB_entropies' is not defined"
     ]
    }
   ],
   "source": [
    "# Create a histogram of the entropy distribution\n",
    "plt.hist(LIB_entropies, bins = 20)\n",
    "plt.ylabel(\"Num Files\")\n",
    "plt.xlabel(\"Entropy\")\n",
    "plt.show()"
   ]
  },
  {
   "cell_type": "code",
   "execution_count": null,
   "metadata": {},
   "outputs": [],
   "source": []
  },
  {
   "cell_type": "code",
   "execution_count": null,
   "metadata": {},
   "outputs": [],
   "source": [
    "# export\n",
    "def vis_3d(gt, ngt, src_dtype, trgt_dtype):\n",
    "    fig = plt.figure()\n",
    "    ax = fig.add_subplot(111, projection='3d')\n",
    "    plt.xlim(1, 15)\n",
    "    plt.ylim(1, 15)\n",
    "    ax.scatter(gt[0], gt[1], gt[2], c='b', marker='o')\n",
    "    ax.scatter(ngt[0], ngt[1], ngt[2], c='r', marker='^')\n",
    "\n",
    "    ax.set_xlabel(src_dtype)\n",
    "    ax.set_ylabel(trgt_dtype)\n",
    "    ax.set_zlabel('Word Mover Distance')\n",
    "    \n",
    "    ax.invert_yaxis()\n",
    "    ax.set_zlim(0, 1)\n",
    "\n",
    "    plt.show()"
   ]
  },
  {
   "cell_type": "code",
   "execution_count": null,
   "metadata": {},
   "outputs": [],
   "source": [
    "# export\n",
    "# Uses PCA first and then t-SNE\n",
    "def reduce_dims(doc_vecs, dims = 2):\n",
    "    # hyperparameters from https://towardsdatascience.com/visualising-high-dimensional-datasets-using-pca-and-t-sne-in-python-8ef87e7915b\n",
    "\n",
    "    pca = PCA(n_components=30)\n",
    "    pca_features = pca.fit_transform(doc_vecs)\n",
    "\n",
    "    tsne = TSNE(n_components=dims, verbose=1, perplexity=40, n_iter=300)\n",
    "    tsne_features = tsne.fit_transform(doc_vecs)\n",
    "    \n",
    "    return tsne_features"
   ]
  },
  {
   "cell_type": "code",
   "execution_count": null,
   "metadata": {},
   "outputs": [],
   "source": [
    "# export\n",
    "def clusterize_w_entropy(gt_doc_vecs, ngt_doc_vecs, gt_entropies, ngt_entropies):\n",
    "    gt_reduced_vecs = reduce_dims(gt_doc_vecs)\n",
    "    ngt_reduced_vecs = reduce_dims(ngt_doc_vecs)\n",
    "    \n",
    "    fig = plt.figure()\n",
    "    ax = fig.add_subplot(111, projection='3d')\n",
    "    ax.scatter(gt_reduced_vecs[:, 0], gt_reduced_vecs[:, 1], gt_entropies, c='b', marker='o')\n",
    "    ax.scatter(ngt_reduced_vecs[:, 0], ngt_reduced_vecs[:, 1], ngt_entropies, c='r', marker='^')\n",
    "\n",
    "#     ax.set_xlabel(src_dtype)\n",
    "#     ax.set_ylabel(trgt_dtype)\n",
    "    ax.set_zlabel('Entropy')\n",
    "    \n",
    "    ax.invert_yaxis()\n",
    "\n",
    "    plt.show()"
   ]
  },
  {
   "cell_type": "code",
   "execution_count": null,
   "metadata": {},
   "outputs": [
    {
     "data": {
      "text/html": [
       "<div>\n",
       "<style scoped>\n",
       "    .dataframe tbody tr th:only-of-type {\n",
       "        vertical-align: middle;\n",
       "    }\n",
       "\n",
       "    .dataframe tbody tr th {\n",
       "        vertical-align: top;\n",
       "    }\n",
       "\n",
       "    .dataframe thead th {\n",
       "        text-align: right;\n",
       "    }\n",
       "</style>\n",
       "<table border=\"1\" class=\"dataframe\">\n",
       "  <thead>\n",
       "    <tr style=\"text-align: right;\">\n",
       "      <th></th>\n",
       "      <th>src_dtype</th>\n",
       "      <th>trgt_dtype</th>\n",
       "      <th>src_file</th>\n",
       "      <th>trgt_file</th>\n",
       "      <th>src_doc</th>\n",
       "      <th>trgt_doc</th>\n",
       "      <th>src_vec</th>\n",
       "      <th>trgt_vec</th>\n",
       "      <th>wmd</th>\n",
       "      <th>ground_truth</th>\n",
       "    </tr>\n",
       "  </thead>\n",
       "  <tbody>\n",
       "    <tr>\n",
       "      <th>0</th>\n",
       "      <td>req</td>\n",
       "      <td>src</td>\n",
       "      <td>test_data/LibEST_semeru_format/requirements/RQ...</td>\n",
       "      <td>test_data/LibEST_semeru_format/source_code/est.h</td>\n",
       "      <td>requir server key generat follow exampl valid ...</td>\n",
       "      <td>file est est public api enrol secur transport ...</td>\n",
       "      <td>[0.00314126, -0.11988081, -0.28746873, 0.01172...</td>\n",
       "      <td>[-0.01909254, -0.12634756, -0.2693117, 0.01079...</td>\n",
       "      <td>0.340562</td>\n",
       "      <td>0</td>\n",
       "    </tr>\n",
       "    <tr>\n",
       "      <th>1</th>\n",
       "      <td>req</td>\n",
       "      <td>src</td>\n",
       "      <td>test_data/LibEST_semeru_format/requirements/RQ...</td>\n",
       "      <td>test_data/LibEST_semeru_format/source_code/est...</td>\n",
       "      <td>requir certif less tls mutual authent certif l...</td>\n",
       "      <td>static pthread pthread self void return get cu...</td>\n",
       "      <td>[0.03502419, -0.11070093, -0.26910967, 0.00777...</td>\n",
       "      <td>[-0.01663938, -0.12135821, -0.279722, 0.009708...</td>\n",
       "      <td>0.410977</td>\n",
       "      <td>0</td>\n",
       "    </tr>\n",
       "    <tr>\n",
       "      <th>2</th>\n",
       "      <td>req</td>\n",
       "      <td>src</td>\n",
       "      <td>test_data/LibEST_semeru_format/requirements/RQ...</td>\n",
       "      <td>test_data/LibEST_semeru_format/source_code/est...</td>\n",
       "      <td>requir client use implicit databas est client ...</td>\n",
       "      <td>prototyp privat est server part public api voi...</td>\n",
       "      <td>[0.02980203, -0.11710332, -0.26550922, 0.00489...</td>\n",
       "      <td>[-0.03448066, -0.14800207, -0.26153752, 0.0186...</td>\n",
       "      <td>0.386474</td>\n",
       "      <td>0</td>\n",
       "    </tr>\n",
       "    <tr>\n",
       "      <th>3</th>\n",
       "      <td>req</td>\n",
       "      <td>src</td>\n",
       "      <td>test_data/LibEST_semeru_format/requirements/RQ...</td>\n",
       "      <td>test_data/LibEST_semeru_format/source_code/est...</td>\n",
       "      <td>requir inform refer idev ieee standard associ ...</td>\n",
       "      <td>libest test api void est log est log level lvl...</td>\n",
       "      <td>[0.01319338, -0.11533403, -0.2819848, 0.009903...</td>\n",
       "      <td>[-0.04279312, -0.12860508, -0.2682275, 0.00651...</td>\n",
       "      <td>0.447825</td>\n",
       "      <td>0</td>\n",
       "    </tr>\n",
       "    <tr>\n",
       "      <th>4</th>\n",
       "      <td>req</td>\n",
       "      <td>src</td>\n",
       "      <td>test_data/LibEST_semeru_format/requirements/RQ...</td>\n",
       "      <td>test_data/LibEST_semeru_format/source_code/est...</td>\n",
       "      <td>requir tls client authent recommend method ide...</td>\n",
       "      <td>tcw err tcw connect tcw sock sock tcw opt opt ...</td>\n",
       "      <td>[0.03560031, -0.11806617, -0.2603899, 0.008908...</td>\n",
       "      <td>[-0.02559054, -0.11442585, -0.285615, 0.005884...</td>\n",
       "      <td>0.532702</td>\n",
       "      <td>0</td>\n",
       "    </tr>\n",
       "  </tbody>\n",
       "</table>\n",
       "</div>"
      ],
      "text/plain": [
       "  src_dtype trgt_dtype                                           src_file  \\\n",
       "0       req        src  test_data/LibEST_semeru_format/requirements/RQ...   \n",
       "1       req        src  test_data/LibEST_semeru_format/requirements/RQ...   \n",
       "2       req        src  test_data/LibEST_semeru_format/requirements/RQ...   \n",
       "3       req        src  test_data/LibEST_semeru_format/requirements/RQ...   \n",
       "4       req        src  test_data/LibEST_semeru_format/requirements/RQ...   \n",
       "\n",
       "                                           trgt_file  \\\n",
       "0   test_data/LibEST_semeru_format/source_code/est.h   \n",
       "1  test_data/LibEST_semeru_format/source_code/est...   \n",
       "2  test_data/LibEST_semeru_format/source_code/est...   \n",
       "3  test_data/LibEST_semeru_format/source_code/est...   \n",
       "4  test_data/LibEST_semeru_format/source_code/est...   \n",
       "\n",
       "                                             src_doc  \\\n",
       "0  requir server key generat follow exampl valid ...   \n",
       "1  requir certif less tls mutual authent certif l...   \n",
       "2  requir client use implicit databas est client ...   \n",
       "3  requir inform refer idev ieee standard associ ...   \n",
       "4  requir tls client authent recommend method ide...   \n",
       "\n",
       "                                            trgt_doc  \\\n",
       "0  file est est public api enrol secur transport ...   \n",
       "1  static pthread pthread self void return get cu...   \n",
       "2  prototyp privat est server part public api voi...   \n",
       "3  libest test api void est log est log level lvl...   \n",
       "4  tcw err tcw connect tcw sock sock tcw opt opt ...   \n",
       "\n",
       "                                             src_vec  \\\n",
       "0  [0.00314126, -0.11988081, -0.28746873, 0.01172...   \n",
       "1  [0.03502419, -0.11070093, -0.26910967, 0.00777...   \n",
       "2  [0.02980203, -0.11710332, -0.26550922, 0.00489...   \n",
       "3  [0.01319338, -0.11533403, -0.2819848, 0.009903...   \n",
       "4  [0.03560031, -0.11806617, -0.2603899, 0.008908...   \n",
       "\n",
       "                                            trgt_vec       wmd  ground_truth  \n",
       "0  [-0.01909254, -0.12634756, -0.2693117, 0.01079...  0.340562             0  \n",
       "1  [-0.01663938, -0.12135821, -0.279722, 0.009708...  0.410977             0  \n",
       "2  [-0.03448066, -0.14800207, -0.26153752, 0.0186...  0.386474             0  \n",
       "3  [-0.04279312, -0.12860508, -0.2682275, 0.00651...  0.447825             0  \n",
       "4  [-0.02559054, -0.11442585, -0.285615, 0.005884...  0.532702             0  "
      ]
     },
     "execution_count": null,
     "metadata": {},
     "output_type": "execute_result"
    }
   ],
   "source": [
    "# hide\n",
    "from pathlib import Path\n",
    "import pandas as pd\n",
    "import numpy as np\n",
    "import pkg_resources\n",
    "\n",
    "def makeArray(text):\n",
    "    return np.fromstring(text[1:-1],sep=' ')\n",
    "\n",
    "path = Path('/Users/danielquiroga/ds4se/benchmarking/traceability/testbeds/nltk')\n",
    "#path = pkg_resources.resource_filename('benchmarking', 'traceability/testbeds/nltk/libest_req2src.csv')\n",
    "req2src = pd.read_csv(path/'libest_req2src.csv')#, dtype={'src_vec': np.float32, 'trgt_vec': np.float32})\n",
    "\n",
    "req2src['src_vec'] = req2src['src_vec'].apply(makeArray)\n",
    "req2src['trgt_vec'] = req2src['trgt_vec'].apply(makeArray)\n",
    "req2src.head()"
   ]
  },
  {
   "cell_type": "code",
   "execution_count": null,
   "metadata": {},
   "outputs": [
    {
     "name": "stdout",
     "output_type": "stream",
     "text": [
      "   src_dtype trgt_dtype                                           src_file  \\\n",
      "6        req        src  test_data/LibEST_semeru_format/requirements/RQ...   \n",
      "8        req        src  test_data/LibEST_semeru_format/requirements/RQ...   \n",
      "12       req        src  test_data/LibEST_semeru_format/requirements/RQ...   \n",
      "13       req        src  test_data/LibEST_semeru_format/requirements/RQ...   \n",
      "19       req        src  test_data/LibEST_semeru_format/requirements/RQ...   \n",
      "25       req        src  test_data/LibEST_semeru_format/requirements/RQ...   \n",
      "27       req        src  test_data/LibEST_semeru_format/requirements/RQ...   \n",
      "31       req        src  test_data/LibEST_semeru_format/requirements/RQ...   \n",
      "32       req        src  test_data/LibEST_semeru_format/requirements/RQ...   \n",
      "35       req        src  test_data/LibEST_semeru_format/requirements/RQ...   \n",
      "39       req        src  test_data/LibEST_semeru_format/requirements/RQ...   \n",
      "41       req        src  test_data/LibEST_semeru_format/requirements/RQ...   \n",
      "44       req        src  test_data/LibEST_semeru_format/requirements/RQ...   \n",
      "46       req        src  test_data/LibEST_semeru_format/requirements/RQ...   \n",
      "47       req        src  test_data/LibEST_semeru_format/requirements/RQ...   \n",
      "48       req        src  test_data/LibEST_semeru_format/requirements/RQ...   \n",
      "49       req        src  test_data/LibEST_semeru_format/requirements/RQ...   \n",
      "53       req        src  test_data/LibEST_semeru_format/requirements/RQ...   \n",
      "55       req        src  test_data/LibEST_semeru_format/requirements/RQ...   \n",
      "58       req        src  test_data/LibEST_semeru_format/requirements/RQ...   \n",
      "61       req        src  test_data/LibEST_semeru_format/requirements/RQ...   \n",
      "65       req        src  test_data/LibEST_semeru_format/requirements/RQ...   \n",
      "68       req        src  test_data/LibEST_semeru_format/requirements/RQ...   \n",
      "73       req        src  test_data/LibEST_semeru_format/requirements/RQ...   \n",
      "75       req        src  test_data/LibEST_semeru_format/requirements/RQ...   \n",
      "80       req        src  test_data/LibEST_semeru_format/requirements/RQ...   \n",
      "81       req        src  test_data/LibEST_semeru_format/requirements/RQ...   \n",
      "88       req        src  test_data/LibEST_semeru_format/requirements/RQ...   \n",
      "89       req        src  test_data/LibEST_semeru_format/requirements/RQ...   \n",
      "90       req        src  test_data/LibEST_semeru_format/requirements/RQ...   \n",
      "\n",
      "                                            trgt_file  \\\n",
      "6   test_data/LibEST_semeru_format/source_code/est...   \n",
      "8   test_data/LibEST_semeru_format/source_code/est...   \n",
      "12  test_data/LibEST_semeru_format/source_code/est...   \n",
      "13  test_data/LibEST_semeru_format/source_code/est...   \n",
      "19  test_data/LibEST_semeru_format/source_code/est...   \n",
      "25  test_data/LibEST_semeru_format/source_code/est...   \n",
      "27  test_data/LibEST_semeru_format/source_code/est...   \n",
      "31  test_data/LibEST_semeru_format/source_code/est...   \n",
      "32  test_data/LibEST_semeru_format/source_code/est...   \n",
      "35  test_data/LibEST_semeru_format/source_code/est...   \n",
      "39  test_data/LibEST_semeru_format/source_code/est...   \n",
      "41  test_data/LibEST_semeru_format/source_code/est...   \n",
      "44  test_data/LibEST_semeru_format/source_code/est...   \n",
      "46  test_data/LibEST_semeru_format/source_code/est...   \n",
      "47  test_data/LibEST_semeru_format/source_code/est...   \n",
      "48  test_data/LibEST_semeru_format/source_code/est...   \n",
      "49  test_data/LibEST_semeru_format/source_code/est...   \n",
      "53   test_data/LibEST_semeru_format/source_code/est.c   \n",
      "55  test_data/LibEST_semeru_format/source_code/est...   \n",
      "58  test_data/LibEST_semeru_format/source_code/est...   \n",
      "61  test_data/LibEST_semeru_format/source_code/est...   \n",
      "65   test_data/LibEST_semeru_format/source_code/est.c   \n",
      "68   test_data/LibEST_semeru_format/source_code/est.c   \n",
      "73  test_data/LibEST_semeru_format/source_code/est...   \n",
      "75  test_data/LibEST_semeru_format/source_code/est...   \n",
      "80  test_data/LibEST_semeru_format/source_code/est...   \n",
      "81   test_data/LibEST_semeru_format/source_code/est.c   \n",
      "88  test_data/LibEST_semeru_format/source_code/est...   \n",
      "89  test_data/LibEST_semeru_format/source_code/est...   \n",
      "90  test_data/LibEST_semeru_format/source_code/est...   \n",
      "\n",
      "                                              src_doc  \\\n",
      "6   requir simpl enrol enrol respons enrol success...   \n",
      "8   requir http uri control est server must suppor...   \n",
      "12  requir enrol enrol follow exampl valid simplee...   \n",
      "13  requir http base client authent est server opt...   \n",
      "19  requir link ident pop inform server polici det...   \n",
      "25  requir certif less tls authent est client est ...   \n",
      "27  requir server author client must check est ser...   \n",
      "31  requir obtain certif est client request copi c...   \n",
      "32  requir obtain certif follow exampl valid cacer...   \n",
      "35  requir protocol design layer figur provid expa...   \n",
      "39  requir secur consider support basic authent sp...   \n",
      "41  requir client author decis issu certif client ...   \n",
      "44  requir proof possess defin section cmc rfc pro...   \n",
      "46  requir certif respons success server respons m...   \n",
      "47  requir certif request est client request est d...   \n",
      "48  requir full cmc est client request certif est ...   \n",
      "49  requir certif less tls mutual authent certif l...   \n",
      "53  requir client author decis issu certif client ...   \n",
      "55  requir secur consider support basic authent sp...   \n",
      "58  requir simpl enrol client https post simpleenr...   \n",
      "61  requir enrol enrol follow exampl valid simplee...   \n",
      "65  requir secur consider support basic authent sp...   \n",
      "68  requir csr attribut follow exampl valid csratt...   \n",
      "73  requir http layer http use transfer est messag...   \n",
      "75  requir http base client authent est server may...   \n",
      "80  requir csr attribut follow exampl valid csratt...   \n",
      "81  requir full cmc est client request certif est ...   \n",
      "88  requir full cmc request http post fullcmc vali...   \n",
      "89  requir messag type document use exist media ty...   \n",
      "90  requir secur consider support basic authent sp...   \n",
      "\n",
      "                                             trgt_doc  \\\n",
      "6   function send est specif http error respons vo...   \n",
      "8   libest test api void est log est log level lvl...   \n",
      "12  util function set certif privat key use ssl co...   \n",
      "13  libest test api void est log est log level lvl...   \n",
      "19  libest test api void est log est log level lvl...   \n",
      "25  function send est specif http error respons vo...   \n",
      "27  util function set certif privat key use ssl co...   \n",
      "31  util function set certif privat key use ssl co...   \n",
      "32  function send est specif http error respons vo...   \n",
      "35  libest test api void est log est log level lvl...   \n",
      "39  sinc hijack open ssl buf mem data util functio...   \n",
      "41  libest test api void est log est log level lvl...   \n",
      "44  function send est specif http error respons vo...   \n",
      "46  sinc hijack open ssl buf mem data util functio...   \n",
      "47  prototyp privat est server part public api voi...   \n",
      "48  static pthread pthread self void return get cu...   \n",
      "49  util function set certif privat key use ssl co...   \n",
      "53  static void est log func char list null defaul...   \n",
      "55  function send est specif http error respons vo...   \n",
      "58  util function set certif privat key use ssl co...   \n",
      "61  sinc hijack open ssl buf mem data util functio...   \n",
      "65  static void est log func char list null defaul...   \n",
      "68  static void est log func char list null defaul...   \n",
      "73  function send est specif http error respons vo...   \n",
      "75  static pthread pthread self void return get cu...   \n",
      "80  libest test api void est log est log level lvl...   \n",
      "81  static void est log func char list null defaul...   \n",
      "88  author routin int ossl verifi int store ctx ct...   \n",
      "89  libest test api void est log est log level lvl...   \n",
      "90  util function set certif privat key use ssl co...   \n",
      "\n",
      "                                              src_vec  \\\n",
      "6   [0.0260162316, -0.115243517, -0.268985897, 0.0...   \n",
      "8   [0.0186196789, -0.124857284, -0.264275014, 0.0...   \n",
      "12  [0.01086677, -0.11569759, -0.28234908, 0.00865...   \n",
      "13  [0.04073122, -0.11057831, -0.25867715, 0.00132...   \n",
      "19  [0.02866512, -0.11441547, -0.2701774, 0.004420...   \n",
      "25  [0.03959643, -0.11830101, -0.2548828, 0.010779...   \n",
      "27  [0.03480774, -0.12051839, -0.25787443, 0.00640...   \n",
      "31  [0.02438382, -0.13098782, -0.26134843, 0.01413...   \n",
      "32  [0.00447892, -0.11617817, -0.28854927, 0.01061...   \n",
      "35  [0.02657052, -0.12036944, -0.26600012, 0.00769...   \n",
      "39  [0.0189344, -0.12086762, -0.27243558, 0.011243...   \n",
      "41  [0.02829203, -0.12302754, -0.26229742, 0.00880...   \n",
      "44  [0.0231978204, -0.11478623, -0.269795746, 0.00...   \n",
      "46  [0.02339767, -0.1270185, -0.26099136, 0.010248...   \n",
      "47  [0.02632169, -0.13015677, -0.2576756, 0.012419...   \n",
      "48  [0.0286738, -0.12377226, -0.26314363, 0.006265...   \n",
      "49  [0.03502419, -0.11070093, -0.26910967, 0.00777...   \n",
      "53  [0.02829203, -0.12302754, -0.26229742, 0.00880...   \n",
      "55  [0.0189344, -0.12086762, -0.27243558, 0.011243...   \n",
      "58  [0.01958846, -0.1267131, -0.26361227, 0.014587...   \n",
      "61  [0.01086677, -0.11569759, -0.28234908, 0.00865...   \n",
      "65  [0.0189344, -0.12086762, -0.27243558, 0.011243...   \n",
      "68  [0.02395854, -0.11083509, -0.2696939, 0.005152...   \n",
      "73  [0.03864323, -0.10897409, -0.26056692, 0.00260...   \n",
      "75  [0.04189074, -0.11007163, -0.2551596, 0.002335...   \n",
      "80  [0.02395854, -0.11083509, -0.2696939, 0.005152...   \n",
      "81  [0.0286738, -0.12377226, -0.26314363, 0.006265...   \n",
      "88  [0.0331680961, -0.109561153, -0.268568397, 0.0...   \n",
      "89  [0.02480437, -0.11728615, -0.26795545, 0.00619...   \n",
      "90  [0.0189344, -0.12086762, -0.27243558, 0.011243...   \n",
      "\n",
      "                                             trgt_vec       wmd  ground_truth  \n",
      "6   [-0.01627092, -0.13162005, -0.2732596, 0.01455...  0.332639             1  \n",
      "8   [-0.04279312, -0.12860508, -0.2682275, 0.00651...  0.484459             1  \n",
      "12  [-0.01212583, -0.13326815, -0.27721918, 0.0163...  0.250320             1  \n",
      "13  [-0.04279312, -0.12860508, -0.2682275, 0.00651...  0.569128             1  \n",
      "19  [-0.04279312, -0.12860508, -0.2682275, 0.00651...  0.515907             1  \n",
      "25  [-0.01627092, -0.13162005, -0.2732596, 0.01455...  0.461240             1  \n",
      "27  [-0.01212583, -0.13326815, -0.27721918, 0.0163...  0.391945             1  \n",
      "31  [-0.01212583, -0.13326815, -0.27721918, 0.0163...  0.344504             1  \n",
      "32  [-0.01627092, -0.13162005, -0.2732596, 0.01455...  0.347400             1  \n",
      "35  [-0.04279312, -0.12860508, -0.2682275, 0.00651...  0.509546             1  \n",
      "39  [-0.0169997998, -0.135897011, -0.274189174, 0....  0.296709             1  \n",
      "41  [-0.04279312, -0.12860508, -0.2682275, 0.00651...  0.526098             1  \n",
      "44  [-0.01627092, -0.13162005, -0.2732596, 0.01455...  0.355341             1  \n",
      "46  [-0.0169997998, -0.135897011, -0.274189174, 0....  0.370033             1  \n",
      "47  [-0.03448066, -0.14800207, -0.26153752, 0.0186...  0.395595             1  \n",
      "48  [-0.01663938, -0.12135821, -0.279722, 0.009708...  0.437930             1  \n",
      "49  [-0.01212583, -0.13326815, -0.27721918, 0.0163...  0.336537             1  \n",
      "53  [-0.0212573297, -0.131797388, -0.281705827, 0....  0.416881             1  \n",
      "55  [-0.01627092, -0.13162005, -0.2732596, 0.01455...  0.299358             1  \n",
      "58  [-0.01212583, -0.13326815, -0.27721918, 0.0163...  0.321521             1  \n",
      "61  [-0.0169997998, -0.135897011, -0.274189174, 0....  0.281076             1  \n",
      "65  [-0.0212573297, -0.131797388, -0.281705827, 0....  0.329363             1  \n",
      "68  [-0.0212573297, -0.131797388, -0.281705827, 0....  0.343209             1  \n",
      "73  [-0.01627092, -0.13162005, -0.2732596, 0.01455...  0.405939             1  \n",
      "75  [-0.01663938, -0.12135821, -0.279722, 0.009708...  0.471456             1  \n",
      "80  [-0.04279312, -0.12860508, -0.2682275, 0.00651...  0.466086             1  \n",
      "81  [-0.0212573297, -0.131797388, -0.281705827, 0....  0.430980             1  \n",
      "88  [-0.02280794, -0.13919947, -0.28047982, 0.0205...  0.400498             1  \n",
      "89  [-0.04279312, -0.12860508, -0.2682275, 0.00651...  0.506730             1  \n",
      "90  [-0.01212583, -0.13326815, -0.27721918, 0.0163...  0.266283             1  \n"
     ]
    }
   ],
   "source": [
    "# hide\n",
    "gt = req2src.loc[req2src.ground_truth == 1]\n",
    "ngt = req2src.loc[req2src.ground_truth == 0]"
   ]
  },
  {
   "cell_type": "code",
   "execution_count": null,
   "metadata": {},
   "outputs": [
    {
     "name": "stdout",
     "output_type": "stream",
     "text": [
      "[t-SNE] Computing 29 nearest neighbors...\n",
      "[t-SNE] Indexed 30 samples in 0.000s...\n",
      "[t-SNE] Computed neighbors for 30 samples in 0.002s...\n",
      "[t-SNE] Computed conditional probabilities for sample 30 / 30\n",
      "[t-SNE] Mean sigma: 1125899906842624.000000\n",
      "[t-SNE] KL divergence after 250 iterations with early exaggeration: 43.292397\n",
      "[t-SNE] KL divergence after 300 iterations: 0.595612\n",
      "[t-SNE] Computing 69 nearest neighbors...\n",
      "[t-SNE] Indexed 70 samples in 0.000s...\n",
      "[t-SNE] Computed neighbors for 70 samples in 0.001s...\n",
      "[t-SNE] Computed conditional probabilities for sample 70 / 70\n",
      "[t-SNE] Mean sigma: 0.073296\n",
      "[t-SNE] KL divergence after 250 iterations with early exaggeration: 51.802353\n",
      "[t-SNE] KL divergence after 300 iterations: 0.940130\n"
     ]
    },
    {
     "data": {
      "image/png": "[encoded data removed]",
      "text/plain": [
       "<Figure size 432x288 with 1 Axes>"
      ]
     },
     "metadata": {
      "needs_background": "light"
     },
     "output_type": "display_data"
    }
   ],
   "source": [
    "# hide\n",
    "clusterize_w_entropy(np.stack(gt.src_vec.to_list()), np.stack(ngt.src_vec.to_list()), gt.wmd.values, ngt.wmd.values)"
   ]
  },
  {
   "cell_type": "code",
   "execution_count": null,
   "metadata": {},
   "outputs": [
    {
     "data": {
      "text/plain": [
       "(100, 100)"
      ]
     },
     "execution_count": null,
     "metadata": {},
     "output_type": "execute_result"
    }
   ],
   "source": [
    "np.stack(req2src.src_vec.to_list()).shape"
   ]
  },
  {
   "cell_type": "code",
   "execution_count": null,
   "metadata": {},
   "outputs": [],
   "source": []
  },
  {
   "cell_type": "code",
   "execution_count": null,
   "metadata": {},
   "outputs": [],
   "source": [
    "delta = 1\n",
    "x = np.arange(2.0, 10.0, delta)\n",
    "y = np.arange(2.0, 10.0, delta)\n",
    "X, Y = np.meshgrid(x, y)\n",
    "Z = X + Y"
   ]
  },
  {
   "cell_type": "code",
   "execution_count": null,
   "metadata": {},
   "outputs": [],
   "source": [
    "import matplotlib.cm as cm"
   ]
  },
  {
   "cell_type": "code",
   "execution_count": null,
   "metadata": {},
   "outputs": [],
   "source": [
    "X, Y, Z = get_contours([2, 11], [2, 11], 1)"
   ]
  },
  {
   "cell_type": "code",
   "execution_count": null,
   "metadata": {},
   "outputs": [],
   "source": []
  },
  {
   "cell_type": "code",
   "execution_count": null,
   "metadata": {},
   "outputs": [
    {
     "data": {
      "text/plain": [
       "Text(0.5, 1.0, 'Simplest default with labels')"
      ]
     },
     "execution_count": null,
     "metadata": {},
     "output_type": "execute_result"
    },
    {
     "data": {
      "image/png": "[encoded data removed]",
      "text/plain": [
       "<Figure size 432x288 with 1 Axes>"
      ]
     },
     "metadata": {
      "needs_background": "light"
     },
     "output_type": "display_data"
    }
   ],
   "source": [
    "fig, ax = plt.subplots()\n",
    "CS = ax.contourf(X, Y, Z, levels = 12, cmap = 'gray')\n",
    "ax.set_title('Simplest default with labels')"
   ]
  },
  {
   "cell_type": "code",
   "execution_count": null,
   "metadata": {},
   "outputs": [],
   "source": [
    "ax.contour?"
   ]
  },
  {
   "cell_type": "code",
   "execution_count": null,
   "metadata": {},
   "outputs": [
    {
     "data": {
      "image/png": "[encoded data removed]",
      "text/plain": [
       "<Figure size 432x288 with 1 Axes>"
      ]
     },
     "metadata": {
      "needs_background": "light"
     },
     "output_type": "display_data"
    }
   ],
   "source": [
    "fig = plt.figure()\n",
    "ax = fig.add_subplot(111, projection='3d')"
   ]
  },
  {
   "cell_type": "code",
   "execution_count": null,
   "metadata": {},
   "outputs": [
    {
     "data": {
      "image/png": "[encoded data removed]",
      "text/plain": [
       "<Figure size 432x288 with 1 Axes>"
      ]
     },
     "metadata": {
      "needs_background": "light"
     },
     "output_type": "display_data"
    }
   ],
   "source": [
    "def randrange(n, vmin, vmax):\n",
    "    '''\n",
    "    Helper function to make an array of random numbers having shape (n, )\n",
    "    with each number distributed Uniform(vmin, vmax).\n",
    "    '''\n",
    "    return (vmax - vmin)*np.random.rand(n) + vmin\n",
    "\n",
    "fig = plt.figure()\n",
    "ax = fig.add_subplot(111, projection='3d')\n",
    "\n",
    "n = 100\n",
    "\n",
    "# For each set of style and range settings, plot n random points in the box\n",
    "# defined by x in [23, 32], y in [0, 100], z in [zlow, zhigh].\n",
    "for c, m, zlow, zhigh in [('r', 'o', -50, -25), ('b', '^', -30, -5)]:\n",
    "    xs = randrange(n, 23, 32)\n",
    "    ys = randrange(n, 0, 100)\n",
    "    zs = randrange(n, zlow, zhigh)\n",
    "    ax.scatter(xs, ys, zs, c=c, marker=m)\n",
    "\n",
    "ax.set_xlabel('X Label')\n",
    "ax.set_ylabel('Y Label')\n",
    "ax.set_zlabel('Z Label')\n",
    "\n",
    "plt.show()"
   ]
  },
  {
   "cell_type": "code",
   "execution_count": null,
   "metadata": {},
   "outputs": [],
   "source": []
  },
  {
   "cell_type": "code",
   "execution_count": null,
   "metadata": {},
   "outputs": [],
   "source": []
  },
  {
   "cell_type": "code",
   "execution_count": null,
   "metadata": {},
   "outputs": [],
   "source": []
  },
  {
   "cell_type": "code",
   "execution_count": null,
   "metadata": {},
   "outputs": [],
   "source": []
  },
  {
   "cell_type": "code",
   "execution_count": null,
   "metadata": {},
   "outputs": [],
   "source": []
  },
  {
   "cell_type": "code",
   "execution_count": null,
   "metadata": {},
   "outputs": [],
   "source": []
  },
  {
   "cell_type": "code",
   "execution_count": null,
   "metadata": {},
   "outputs": [],
   "source": []
  },
  {
   "cell_type": "code",
   "execution_count": null,
   "metadata": {},
   "outputs": [],
   "source": []
  },
  {
   "cell_type": "code",
   "execution_count": null,
   "metadata": {},
   "outputs": [
    {
     "name": "stdout",
     "output_type": "stream",
     "text": [
      "Converted 0.0_mgmnt.prep.i.ipynb.\n",
      "Converted 0.1_mgmnt.prep.conv.ipynb.\n",
      "Converted 0.2_mgmnt.db.mongo.ipynb.\n",
      "Converted 0.3_mgmnt.prep.bpe.ipynb.\n",
      "Converted 0.4_mgmnt.corpus.ipynb.\n",
      "Converted 0.5_mgmnt.prep.traceability.ipynb.\n",
      "Converted 0.6_mgmnt.prep.nltk.ipynb.\n",
      "Converted 1.0_exp.i.ipynb.\n",
      "Converted 1.1_exp.info.ipynb.\n",
      "Converted 2.0_repr.i.ipynb.\n",
      "Converted 2.1_repr.roberta.train.ipynb.\n",
      "Converted 2.2_repr.roberta.eval.ipynb.\n",
      "Converted 2.3_repr.word2vec.train.ipynb.\n",
      "Converted 2.4_repr.doc2vec.train.ipynb.\n",
      "Converted 2.5_repr.doc2vec.eval.ipynb.\n",
      "Converted 2.6_repr.word2vec.eval.ipynb.\n",
      "Converted 3.0_mining.ir.model.ipynb.\n",
      "Converted 3.1_mining.ir.i.ipynb.\n",
      "Converted 3.2_mining.unsupervised.eval.ipynb.\n",
      "Converted 4.0_benchmark.i.ipynb.\n",
      "Converted 4.1_benchmark.traceability.ipynb.\n",
      "Converted 4.2_benchmark.codegen.ipynb.\n",
      "Converted 5.0_vis.ipynb.\n",
      "Converted 6.0_desc.stats.ipynb.\n",
      "Converted 6.1_desc.metrics.se.ipynb.\n",
      "Converted 7.0_inf.i.ipynb.\n",
      "Converted 7.1_inf.bayesian.ipynb.\n",
      "Converted 7.2_inf.causal.ipynb.\n",
      "Converted aa_blog.example.ipynb.\n",
      "Converted ab_templates.example.ipynb.\n",
      "Converted ac_emp.eval.pp1.rq1.ipynb.\n",
      "Converted ad_emp.eval.pp1.rq2.ipynb.\n",
      "Converted ae_emp.eval.pp1.rq3.ipynb.\n",
      "Converted af_emp.eval.pp1.rq4.ipynb.\n",
      "Converted index.ipynb.\n"
     ]
    }
   ],
   "source": [
    "from nbdev.export import notebook2script\n",
    "notebook2script()"
   ]
  },
  {
   "cell_type": "code",
   "execution_count": null,
   "metadata": {},
   "outputs": [],
   "source": []
  }
 ],
 "metadata": {
  "kernelspec": {
   "display_name": "Python 3",
   "language": "python",
   "name": "python3"
  }
 },
 "nbformat": 4,
 "nbformat_minor": 1
}
