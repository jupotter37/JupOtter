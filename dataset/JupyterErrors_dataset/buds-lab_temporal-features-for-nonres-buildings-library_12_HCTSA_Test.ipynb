{
 "cells": [
  {
   "cell_type": "code",
   "execution_count": 1,
   "metadata": {
    "collapsed": true
   },
   "outputs": [],
   "source": [
    "import numpy as np\n",
    "from pyopy.hctsa import hctsa\n",
    "import pandas as pd"
   ]
  },
  {
   "cell_type": "code",
   "execution_count": 2,
   "metadata": {
    "collapsed": false
   },
   "outputs": [
    {
     "name": "stdout",
     "output_type": "stream",
     "text": [
      "Starting engine\n",
      "Warming up\n",
      "Configuring HCTSA\n",
      "Setting up HCTSA operators\n",
      "Hooray, we can use HCTSA now...\n"
     ]
    }
   ],
   "source": [
    "_ = hctsa.prepare(engine='matlab')"
   ]
  },
  {
   "cell_type": "code",
   "execution_count": 3,
   "metadata": {
    "collapsed": false
   },
   "outputs": [
    {
     "data": {
      "text/plain": [
       "0.96999999999999975"
      ]
     },
     "execution_count": 3,
     "metadata": {},
     "output_type": "execute_result"
    }
   ],
   "source": [
    "hctsa.operations.AC_1(np.arange(100))"
   ]
  },
  {
   "cell_type": "code",
   "execution_count": 4,
   "metadata": {
    "collapsed": false
   },
   "outputs": [
    {
     "data": {
      "text/plain": [
       "array([ 0,  1,  2,  3,  4,  5,  6,  7,  8,  9, 10, 11, 12, 13, 14, 15, 16,\n",
       "       17, 18, 19, 20, 21, 22, 23, 24, 25, 26, 27, 28, 29, 30, 31, 32, 33,\n",
       "       34, 35, 36, 37, 38, 39, 40, 41, 42, 43, 44, 45, 46, 47, 48, 49, 50,\n",
       "       51, 52, 53, 54, 55, 56, 57, 58, 59, 60, 61, 62, 63, 64, 65, 66, 67,\n",
       "       68, 69, 70, 71, 72, 73, 74, 75, 76, 77, 78, 79, 80, 81, 82, 83, 84,\n",
       "       85, 86, 87, 88, 89, 90, 91, 92, 93, 94, 95, 96, 97, 98, 99])"
      ]
     },
     "execution_count": 4,
     "metadata": {},
     "output_type": "execute_result"
    }
   ],
   "source": [
    "np.arange(100)"
   ]
  },
  {
   "cell_type": "code",
   "execution_count": 5,
   "metadata": {
    "collapsed": false
   },
   "outputs": [
    {
     "data": {
      "text/plain": [
       "HCTSAOperation('AC_1', \"CO_AutoCorr(y,1,'Fourier')\", <pyopy.hctsa.hctsa_bindings.CO_AutoCorr object at 0x10bbfecd0>)"
      ]
     },
     "execution_count": 5,
     "metadata": {},
     "output_type": "execute_result"
    }
   ],
   "source": [
    "getattr(hctsa.operations, \"AC_1\")"
   ]
  },
  {
   "cell_type": "code",
   "execution_count": 6,
   "metadata": {
    "collapsed": false
   },
   "outputs": [
    {
     "data": {
      "text/plain": [
       "1051"
      ]
     },
     "execution_count": 6,
     "metadata": {},
     "output_type": "execute_result"
    }
   ],
   "source": [
    "len(hctsa.catalog.allops())"
   ]
  },
  {
   "cell_type": "code",
   "execution_count": 7,
   "metadata": {
    "collapsed": false
   },
   "outputs": [],
   "source": [
    "hctsa_allops = pd.DataFrame(hctsa.catalog.allops())"
   ]
  },
  {
   "cell_type": "code",
   "execution_count": 8,
   "metadata": {
    "collapsed": false
   },
   "outputs": [],
   "source": [
    "#hctsa_allops[0]"
   ]
  },
  {
   "cell_type": "code",
   "execution_count": 9,
   "metadata": {
    "collapsed": true
   },
   "outputs": [],
   "source": [
    "test_operationsoutput = {}"
   ]
  },
  {
   "cell_type": "code",
   "execution_count": 10,
   "metadata": {
    "collapsed": true
   },
   "outputs": [],
   "source": [
    "testdata = np.arange(100)"
   ]
  },
  {
   "cell_type": "code",
   "execution_count": 11,
   "metadata": {
    "collapsed": false
   },
   "outputs": [
    {
     "data": {
      "text/plain": [
       "array([ 0,  1,  2,  3,  4,  5,  6,  7,  8,  9, 10, 11, 12, 13, 14, 15, 16,\n",
       "       17, 18, 19, 20, 21, 22, 23, 24, 25, 26, 27, 28, 29, 30, 31, 32, 33,\n",
       "       34, 35, 36, 37, 38, 39, 40, 41, 42, 43, 44, 45, 46, 47, 48, 49, 50,\n",
       "       51, 52, 53, 54, 55, 56, 57, 58, 59, 60, 61, 62, 63, 64, 65, 66, 67,\n",
       "       68, 69, 70, 71, 72, 73, 74, 75, 76, 77, 78, 79, 80, 81, 82, 83, 84,\n",
       "       85, 86, 87, 88, 89, 90, 91, 92, 93, 94, 95, 96, 97, 98, 99])"
      ]
     },
     "execution_count": 11,
     "metadata": {},
     "output_type": "execute_result"
    }
   ],
   "source": [
    "testdata"
   ]
  },
  {
   "cell_type": "code",
   "execution_count": 54,
   "metadata": {
    "collapsed": false
   },
   "outputs": [
    {
     "name": "stdout",
     "output_type": "stream",
     "text": [
      "AC_1\n",
      "AC_10\n",
      "AC_11\n",
      "AC_12\n",
      "AC_13\n",
      "AC_14\n",
      "AC_15\n",
      "AC_16\n",
      "AC_17\n",
      "AC_18\n",
      "AC_19\n",
      "AC_2\n",
      "AC_20\n",
      "AC_21\n",
      "AC_22\n",
      "AC_23\n",
      "AC_24\n",
      "AC_25\n",
      "AC_26\n",
      "AC_27\n",
      "AC_28\n",
      "AC_29\n",
      "AC_3\n",
      "AC_30\n",
      "AC_31\n",
      "AC_32\n",
      "AC_33\n",
      "AC_34\n",
      "AC_35\n",
      "AC_36\n",
      "AC_37\n",
      "AC_38\n",
      "AC_39\n",
      "AC_4\n",
      "AC_40\n",
      "AC_5\n",
      "AC_6\n",
      "AC_7\n",
      "AC_8\n",
      "AC_9\n",
      "AC_nl_001\n",
      "AC_nl_002\n",
      "AC_nl_003\n",
      "AC_nl_004\n",
      "AC_nl_005\n",
      "AC_nl_006\n",
      "AC_nl_011\n",
      "AC_nl_012\n",
      "AC_nl_013\n",
      "AC_nl_014\n",
      "AC_nl_015\n",
      "AC_nl_016\n",
      "AC_nl_022\n",
      "AC_nl_023\n",
      "AC_nl_024\n",
      "AC_nl_025\n",
      "AC_nl_026\n",
      "AC_nl_033\n",
      "AC_nl_034\n",
      "AC_nl_035\n",
      "AC_nl_036\n",
      "AC_nl_044\n",
      "AC_nl_045\n",
      "AC_nl_046\n",
      "AC_nl_055\n",
      "AC_nl_056\n",
      "AC_nl_066\n",
      "AC_nl_11\n",
      "AC_nl_112\n",
      "AC_nl_113\n",
      "AC_nl_12\n",
      "AC_nl_122\n",
      "AC_nl_123\n",
      "AC_nl_1234\n",
      "AC_nl_12345\n",
      "AC_nl_123456\n",
      "AC_nl_1234567\n",
      "AC_nl_12345678\n",
      "AC_nl_124\n",
      "AC_nl_13\n",
      "AC_nl_133\n",
      "AC_nl_134\n",
      "AC_nl_135\n",
      "AC_nl_1357\n",
      "AC_nl_14\n",
      "AC_nl_22\n",
      "AC_nl_223\n",
      "AC_nl_233\n",
      "AC_nl_24\n",
      "AC_nl_246\n",
      "AC_nl_2468\n",
      "AC_nl_33\n",
      "AC_nl_44\n",
      "AC_nl_55\n",
      "AC_nl_66\n",
      "ApEn1_01\n",
      "ApEn1_02\n",
      "ApEn2_01\n",
      "ApEn2_02\n",
      "CO_AddNoise_1_even_10\n",
      "CO_AddNoise_1_gaussian\n",
      "CO_AddNoise_1_kraskov1_4\n",
      "CO_AddNoise_1_quantiles_10\n",
      "CO_AddNoise_1_std1_10\n",
      "CO_AddNoise_ac_even_10\n",
      "CO_AddNoise_ac_gaussian\n",
      "CO_AddNoise_ac_kraskov1_4\n",
      "CO_AddNoise_ac_quantiles_10\n",
      "CO_AddNoise_ac_std1_10\n",
      "CO_AutoCorrShape_drown\n",
      "CO_CompareMinAMI_even_2_80\n",
      "CO_CompareMinAMI_quantiles_2_80\n",
      "CO_CompareMinAMI_std1_2_80\n",
      "CO_CompareMinAMI_std2_2_80\n",
      "CO_Embed2_AngleTau_50\n",
      "CO_Embed2_Basic_1\n",
      "CO_Embed2_Basic_tau\n",
      "CO_Embed2_Dist_tau\n",
      "CO_Embed2_Shapes_tau_circle_01\n",
      "CO_Embed2_Shapes_tau_circle_1\n",
      "CO_Embed2_tau\n",
      "CO_FirstMin_ac\n",
      "CO_FirstMin_mi_gaussian\n"
     ]
    },
    {
     "ename": "EngineException",
     "evalue": "Engine failed to run: [pyopy_result_0]=CO_FirstMin(pyopy_context_0_0,pyopy_context_0_1,pyopy_context_0_2);\n\tEngine Reason: \n\n# --- stdout:\n\n\n# --- stderr:\nError using IN_AutoMutualInfo (line 94)\nJava exception occurred: \ninfodynamics.utils.NonPositiveDefiniteMatrixException: CholeskyDecomposition is only performed on positive-definite matrices. Some reasons for non-positive-definite matrix are listed at http://www2.gsu.edu/~mkteer/npdmatri.html - note: a correlation matrix is non-positive-definite if you have more variables than observations\n\tat infodynamics.utils.MatrixUtils.CholeskyDecomposition(Unknown Source)\n\tat infodynamics.measures.continuous.gaussian.MutualInfoCalculatorMultiVariateGaussian.setCovariance(Unknown Source)\n\tat infodynamics.measures.continuous.gaussian.MutualInfoCalculatorMultiVariateGaussian.finaliseAddObservations(Unknown Source)\n\tat infodynamics.measures.continuous.MutualInfoMultiVariateCommon.setObservations(Unknown Source)\n\nError in CO_FirstMin>@(x)IN_AutoMutualInfo(y,x,'gaussian') (line 58)\n    corrfn = @(x) IN_AutoMutualInfo(y,x,'gaussian');\n\nError in CO_FirstMin (line 84)\n    autoCorr(i) = corrfn(i);\n\n\ncaused by Exception(\"\\n\\n# --- stdout:\\n\\n\\n# --- stderr:\\nError using IN_AutoMutualInfo (line 94)\\nJava exception occurred: \\ninfodynamics.utils.NonPositiveDefiniteMatrixException: CholeskyDecomposition is only performed on positive-definite matrices. Some reasons for non-positive-definite matrix are listed at http://www2.gsu.edu/~mkteer/npdmatri.html - note: a correlation matrix is non-positive-definite if you have more variables than observations\\n\\tat infodynamics.utils.MatrixUtils.CholeskyDecomposition(Unknown Source)\\n\\tat infodynamics.measures.continuous.gaussian.MutualInfoCalculatorMultiVariateGaussian.setCovariance(Unknown Source)\\n\\tat infodynamics.measures.continuous.gaussian.MutualInfoCalculatorMultiVariateGaussian.finaliseAddObservations(Unknown Source)\\n\\tat infodynamics.measures.continuous.MutualInfoMultiVariateCommon.setObservations(Unknown Source)\\n\\nError in CO_FirstMin>@(x)IN_AutoMutualInfo(y,x,'gaussian') (line 58)\\n    corrfn = @(x) IN_AutoMutualInfo(y,x,'gaussian');\\n\\nError in CO_FirstMin (line 84)\\n    autoCorr(i) = corrfn(i);\\n\\n\",)",
     "output_type": "error",
     "traceback": [
      "\u001b[0;31m---------------------------------------------------------------------------\u001b[0m",
      "\u001b[0;31mEngineException\u001b[0m                           Traceback (most recent call last)",
      "\u001b[0;32m<ipython-input-54-bf54bcd0abf9>\u001b[0m in \u001b[0;36m<module>\u001b[0;34m()\u001b[0m\n\u001b[1;32m      1\u001b[0m \u001b[0;32mfor\u001b[0m \u001b[0moperation\u001b[0m \u001b[0;32min\u001b[0m \u001b[0mhctsa_allops\u001b[0m\u001b[0;34m[\u001b[0m\u001b[0;36m0\u001b[0m\u001b[0;34m]\u001b[0m\u001b[0;34m:\u001b[0m\u001b[0;34m\u001b[0m\u001b[0m\n\u001b[1;32m      2\u001b[0m     \u001b[0;32mprint\u001b[0m \u001b[0moperation\u001b[0m\u001b[0;34m\u001b[0m\u001b[0m\n\u001b[0;32m----> 3\u001b[0;31m     \u001b[0mtest_operationsoutput\u001b[0m\u001b[0;34m[\u001b[0m\u001b[0moperation\u001b[0m\u001b[0;34m]\u001b[0m \u001b[0;34m=\u001b[0m \u001b[0mgetattr\u001b[0m\u001b[0;34m(\u001b[0m\u001b[0mhctsa\u001b[0m\u001b[0;34m.\u001b[0m\u001b[0moperations\u001b[0m\u001b[0;34m,\u001b[0m \u001b[0moperation\u001b[0m\u001b[0;34m)\u001b[0m\u001b[0;34m(\u001b[0m\u001b[0mtestdata\u001b[0m\u001b[0;34m)\u001b[0m\u001b[0;34m\u001b[0m\u001b[0m\n\u001b[0m",
      "\u001b[0;32m/Users/Clayton/anaconda/lib/python2.7/site-packages/pyopy/hctsa/hctsa_bindings_gen.pyc\u001b[0m in \u001b[0;36m__call__\u001b[0;34m(self, x, y, eng)\u001b[0m\n\u001b[1;32m     91\u001b[0m \u001b[0;34m\u001b[0m\u001b[0m\n\u001b[1;32m     92\u001b[0m     \u001b[0;32mdef\u001b[0m \u001b[0m__call__\u001b[0m\u001b[0;34m(\u001b[0m\u001b[0mself\u001b[0m\u001b[0;34m,\u001b[0m \u001b[0mx\u001b[0m\u001b[0;34m,\u001b[0m \u001b[0my\u001b[0m\u001b[0;34m=\u001b[0m\u001b[0mNone\u001b[0m\u001b[0;34m,\u001b[0m \u001b[0meng\u001b[0m\u001b[0;34m=\u001b[0m\u001b[0mNone\u001b[0m\u001b[0;34m)\u001b[0m\u001b[0;34m:\u001b[0m\u001b[0;34m\u001b[0m\u001b[0m\n\u001b[0;32m---> 93\u001b[0;31m         \u001b[0;32mreturn\u001b[0m \u001b[0mself\u001b[0m\u001b[0;34m.\u001b[0m\u001b[0mcompute\u001b[0m\u001b[0;34m(\u001b[0m\u001b[0mx\u001b[0m\u001b[0;34m,\u001b[0m \u001b[0my\u001b[0m\u001b[0;34m=\u001b[0m\u001b[0my\u001b[0m\u001b[0;34m,\u001b[0m \u001b[0meng\u001b[0m\u001b[0;34m=\u001b[0m\u001b[0meng\u001b[0m\u001b[0;34m)\u001b[0m\u001b[0;34m\u001b[0m\u001b[0m\n\u001b[0m\u001b[1;32m     94\u001b[0m \u001b[0;34m\u001b[0m\u001b[0m\n\u001b[1;32m     95\u001b[0m     \u001b[0;32mdef\u001b[0m \u001b[0m_as_tuple\u001b[0m\u001b[0;34m(\u001b[0m\u001b[0mself\u001b[0m\u001b[0;34m)\u001b[0m\u001b[0;34m:\u001b[0m\u001b[0;34m\u001b[0m\u001b[0m\n",
      "\u001b[0;32m/Users/Clayton/anaconda/lib/python2.7/site-packages/pyopy/hctsa/hctsa_bindings_gen.pyc\u001b[0m in \u001b[0;36mcompute\u001b[0;34m(self, x, y, eng)\u001b[0m\n\u001b[1;32m     88\u001b[0m         \u001b[0;32melse\u001b[0m\u001b[0;34m:\u001b[0m\u001b[0;34m\u001b[0m\u001b[0m\n\u001b[1;32m     89\u001b[0m             \u001b[0mx\u001b[0m \u001b[0;34m=\u001b[0m \u001b[0mhctsa_prepare_input\u001b[0m\u001b[0;34m(\u001b[0m\u001b[0mx\u001b[0m\u001b[0;34m,\u001b[0m \u001b[0mz_scored\u001b[0m\u001b[0;34m=\u001b[0m\u001b[0mFalse\u001b[0m\u001b[0;34m)\u001b[0m\u001b[0;34m\u001b[0m\u001b[0m\n\u001b[0;32m---> 90\u001b[0;31m         \u001b[0;32mreturn\u001b[0m \u001b[0mself\u001b[0m\u001b[0;34m.\u001b[0m\u001b[0moperation\u001b[0m\u001b[0;34m.\u001b[0m\u001b[0mcompute\u001b[0m\u001b[0;34m(\u001b[0m\u001b[0mx\u001b[0m\u001b[0;34m,\u001b[0m \u001b[0meng\u001b[0m\u001b[0;34m=\u001b[0m\u001b[0meng\u001b[0m\u001b[0;34m)\u001b[0m\u001b[0;34m\u001b[0m\u001b[0m\n\u001b[0m\u001b[1;32m     91\u001b[0m \u001b[0;34m\u001b[0m\u001b[0m\n\u001b[1;32m     92\u001b[0m     \u001b[0;32mdef\u001b[0m \u001b[0m__call__\u001b[0m\u001b[0;34m(\u001b[0m\u001b[0mself\u001b[0m\u001b[0;34m,\u001b[0m \u001b[0mx\u001b[0m\u001b[0;34m,\u001b[0m \u001b[0my\u001b[0m\u001b[0;34m=\u001b[0m\u001b[0mNone\u001b[0m\u001b[0;34m,\u001b[0m \u001b[0meng\u001b[0m\u001b[0;34m=\u001b[0m\u001b[0mNone\u001b[0m\u001b[0;34m)\u001b[0m\u001b[0;34m:\u001b[0m\u001b[0;34m\u001b[0m\u001b[0m\n",
      "\u001b[0;32m/Users/Clayton/anaconda/lib/python2.7/site-packages/pyopy/hctsa/hctsa_bindings_gen.pyc\u001b[0m in \u001b[0;36mcompute\u001b[0;34m(self, x, eng)\u001b[0m\n\u001b[1;32m     52\u001b[0m \u001b[0;34m\u001b[0m\u001b[0m\n\u001b[1;32m     53\u001b[0m     \u001b[0;32mdef\u001b[0m \u001b[0mcompute\u001b[0m\u001b[0;34m(\u001b[0m\u001b[0mself\u001b[0m\u001b[0;34m,\u001b[0m \u001b[0mx\u001b[0m\u001b[0;34m,\u001b[0m \u001b[0meng\u001b[0m\u001b[0;34m=\u001b[0m\u001b[0mNone\u001b[0m\u001b[0;34m)\u001b[0m\u001b[0;34m:\u001b[0m\u001b[0;34m\u001b[0m\u001b[0m\n\u001b[0;32m---> 54\u001b[0;31m         \u001b[0;32mreturn\u001b[0m \u001b[0mself\u001b[0m\u001b[0;34m.\u001b[0m\u001b[0mtransform\u001b[0m\u001b[0;34m(\u001b[0m\u001b[0mx\u001b[0m\u001b[0;34m,\u001b[0m \u001b[0meng\u001b[0m\u001b[0;34m=\u001b[0m\u001b[0meng\u001b[0m\u001b[0;34m)\u001b[0m\u001b[0;34m\u001b[0m\u001b[0m\n\u001b[0m\u001b[1;32m     55\u001b[0m \u001b[0;34m\u001b[0m\u001b[0m\n\u001b[1;32m     56\u001b[0m     \u001b[0;32mdef\u001b[0m \u001b[0m_eval_hook\u001b[0m\u001b[0;34m(\u001b[0m\u001b[0mself\u001b[0m\u001b[0;34m,\u001b[0m \u001b[0meng\u001b[0m\u001b[0;34m,\u001b[0m \u001b[0mx\u001b[0m\u001b[0;34m)\u001b[0m\u001b[0;34m:\u001b[0m\u001b[0;34m\u001b[0m\u001b[0m\n",
      "\u001b[0;32m/Users/Clayton/anaconda/lib/python2.7/site-packages/pyopy/hctsa/hctsa_bindings_gen.pyc\u001b[0m in \u001b[0;36mtransform\u001b[0;34m(self, x, eng)\u001b[0m\n\u001b[1;32m     49\u001b[0m     \u001b[0;32mdef\u001b[0m \u001b[0mtransform\u001b[0m\u001b[0;34m(\u001b[0m\u001b[0mself\u001b[0m\u001b[0;34m,\u001b[0m \u001b[0mx\u001b[0m\u001b[0;34m,\u001b[0m \u001b[0meng\u001b[0m\u001b[0;34m=\u001b[0m\u001b[0mNone\u001b[0m\u001b[0;34m)\u001b[0m\u001b[0;34m:\u001b[0m\u001b[0;34m\u001b[0m\u001b[0m\n\u001b[1;32m     50\u001b[0m         \u001b[0meng\u001b[0m \u001b[0;34m=\u001b[0m \u001b[0mself\u001b[0m\u001b[0;34m.\u001b[0m\u001b[0m_infer_eng\u001b[0m\u001b[0;34m(\u001b[0m\u001b[0meng\u001b[0m\u001b[0;34m)\u001b[0m\u001b[0;34m\u001b[0m\u001b[0m\n\u001b[0;32m---> 51\u001b[0;31m         \u001b[0;32mreturn\u001b[0m \u001b[0mself\u001b[0m\u001b[0;34m.\u001b[0m\u001b[0m_eval_hook\u001b[0m\u001b[0;34m(\u001b[0m\u001b[0meng\u001b[0m\u001b[0;34m,\u001b[0m \u001b[0mx\u001b[0m\u001b[0;34m)\u001b[0m\u001b[0;34m\u001b[0m\u001b[0m\n\u001b[0m\u001b[1;32m     52\u001b[0m \u001b[0;34m\u001b[0m\u001b[0m\n\u001b[1;32m     53\u001b[0m     \u001b[0;32mdef\u001b[0m \u001b[0mcompute\u001b[0m\u001b[0;34m(\u001b[0m\u001b[0mself\u001b[0m\u001b[0;34m,\u001b[0m \u001b[0mx\u001b[0m\u001b[0;34m,\u001b[0m \u001b[0meng\u001b[0m\u001b[0;34m=\u001b[0m\u001b[0mNone\u001b[0m\u001b[0;34m)\u001b[0m\u001b[0;34m:\u001b[0m\u001b[0;34m\u001b[0m\u001b[0m\n",
      "\u001b[0;32m/Users/Clayton/anaconda/lib/python2.7/site-packages/pyopy/hctsa/hctsa_bindings.pyc\u001b[0m in \u001b[0;36m_eval_hook\u001b[0;34m(self, eng, x)\u001b[0m\n\u001b[1;32m    399\u001b[0m         \u001b[0;32melif\u001b[0m \u001b[0mself\u001b[0m\u001b[0;34m.\u001b[0m\u001b[0mextraParam\u001b[0m \u001b[0;32mis\u001b[0m \u001b[0mNone\u001b[0m\u001b[0;34m:\u001b[0m\u001b[0;34m\u001b[0m\u001b[0m\n\u001b[1;32m    400\u001b[0m             \u001b[0;32mreturn\u001b[0m \u001b[0meng\u001b[0m\u001b[0;34m.\u001b[0m\u001b[0mrun_function\u001b[0m\u001b[0;34m(\u001b[0m\u001b[0;36m1\u001b[0m\u001b[0;34m,\u001b[0m \u001b[0;34m'CO_FirstMin'\u001b[0m\u001b[0;34m,\u001b[0m \u001b[0mx\u001b[0m\u001b[0;34m,\u001b[0m \u001b[0mself\u001b[0m\u001b[0;34m.\u001b[0m\u001b[0mminWhat\u001b[0m\u001b[0;34m)\u001b[0m\u001b[0;34m\u001b[0m\u001b[0m\n\u001b[0;32m--> 401\u001b[0;31m         \u001b[0;32mreturn\u001b[0m \u001b[0meng\u001b[0m\u001b[0;34m.\u001b[0m\u001b[0mrun_function\u001b[0m\u001b[0;34m(\u001b[0m\u001b[0;36m1\u001b[0m\u001b[0;34m,\u001b[0m \u001b[0;34m'CO_FirstMin'\u001b[0m\u001b[0;34m,\u001b[0m \u001b[0mx\u001b[0m\u001b[0;34m,\u001b[0m \u001b[0mself\u001b[0m\u001b[0;34m.\u001b[0m\u001b[0mminWhat\u001b[0m\u001b[0;34m,\u001b[0m \u001b[0mself\u001b[0m\u001b[0;34m.\u001b[0m\u001b[0mextraParam\u001b[0m\u001b[0;34m)\u001b[0m\u001b[0;34m\u001b[0m\u001b[0m\n\u001b[0m\u001b[1;32m    402\u001b[0m \u001b[0;34m\u001b[0m\u001b[0m\n\u001b[1;32m    403\u001b[0m \u001b[0;34m\u001b[0m\u001b[0m\n",
      "\u001b[0;32m/Users/Clayton/anaconda/lib/python2.7/site-packages/pyopy/base.pyc\u001b[0m in \u001b[0;36mrun_function\u001b[0;34m(self, nout, funcname, *args)\u001b[0m\n\u001b[1;32m    538\u001b[0m                     \u001b[0margs\u001b[0m \u001b[0;34m=\u001b[0m \u001b[0;34m[\u001b[0m\u001b[0margs\u001b[0m\u001b[0;34m]\u001b[0m\u001b[0;34m\u001b[0m\u001b[0m\n\u001b[1;32m    539\u001b[0m                 \u001b[0mcommand\u001b[0m \u001b[0;34m=\u001b[0m \u001b[0;34mu'%s=%s(%s);'\u001b[0m \u001b[0;34m%\u001b[0m \u001b[0;34m(\u001b[0m\u001b[0;34mu'[%s]'\u001b[0m \u001b[0;34m%\u001b[0m \u001b[0;34mu','\u001b[0m\u001b[0;34m.\u001b[0m\u001b[0mjoin\u001b[0m\u001b[0;34m(\u001b[0m\u001b[0mresult_vars\u001b[0m\u001b[0;34m)\u001b[0m\u001b[0;34m,\u001b[0m \u001b[0mfuncname\u001b[0m\u001b[0;34m,\u001b[0m \u001b[0;34mu','\u001b[0m\u001b[0;34m.\u001b[0m\u001b[0mjoin\u001b[0m\u001b[0;34m(\u001b[0m\u001b[0mmap\u001b[0m\u001b[0;34m(\u001b[0m\u001b[0mpy2matstr\u001b[0m\u001b[0;34m,\u001b[0m \u001b[0margs\u001b[0m\u001b[0;34m)\u001b[0m\u001b[0;34m)\u001b[0m\u001b[0;34m)\u001b[0m\u001b[0;34m\u001b[0m\u001b[0m\n\u001b[0;32m--> 540\u001b[0;31m                 \u001b[0m_\u001b[0m\u001b[0;34m,\u001b[0m \u001b[0mresults\u001b[0m \u001b[0;34m=\u001b[0m \u001b[0mself\u001b[0m\u001b[0;34m.\u001b[0m\u001b[0meval\u001b[0m\u001b[0;34m(\u001b[0m\u001b[0mcommand\u001b[0m\u001b[0;34m,\u001b[0m \u001b[0mouts2py\u001b[0m\u001b[0;34m=\u001b[0m\u001b[0mTrue\u001b[0m\u001b[0;34m)\u001b[0m\u001b[0;34m\u001b[0m\u001b[0m\n\u001b[0m\u001b[1;32m    541\u001b[0m                 \u001b[0;32mreturn\u001b[0m \u001b[0mresults\u001b[0m\u001b[0;34m[\u001b[0m\u001b[0;36m0\u001b[0m\u001b[0;34m]\u001b[0m \u001b[0;32mif\u001b[0m \u001b[0mlen\u001b[0m\u001b[0;34m(\u001b[0m\u001b[0mresults\u001b[0m\u001b[0;34m)\u001b[0m \u001b[0;34m==\u001b[0m \u001b[0;36m1\u001b[0m \u001b[0;32melse\u001b[0m \u001b[0mresults\u001b[0m\u001b[0;34m\u001b[0m\u001b[0m\n\u001b[1;32m    542\u001b[0m         \u001b[0;32mfinally\u001b[0m\u001b[0;34m:\u001b[0m\u001b[0;34m\u001b[0m\u001b[0m\n",
      "\u001b[0;32m/Users/Clayton/anaconda/lib/python2.7/site-packages/pyopy/base.pyc\u001b[0m in \u001b[0;36meval\u001b[0;34m(self, command, outs2py, supress_text_output)\u001b[0m\n\u001b[1;32m    476\u001b[0m                 command + (';' if supress_text_output and not command.endswith(';') else ''))\n\u001b[1;32m    477\u001b[0m             \u001b[0;32mif\u001b[0m \u001b[0mresponse\u001b[0m\u001b[0;34m.\u001b[0m\u001b[0msuccess\u001b[0m \u001b[0;32mis\u001b[0m \u001b[0mFalse\u001b[0m\u001b[0;34m:\u001b[0m\u001b[0;34m\u001b[0m\u001b[0m\n\u001b[0;32m--> 478\u001b[0;31m                 \u001b[0;32mraise\u001b[0m \u001b[0mException\u001b[0m\u001b[0;34m(\u001b[0m\u001b[0mresponse\u001b[0m\u001b[0;34m.\u001b[0m\u001b[0mmatlab_out\u001b[0m\u001b[0;34m(\u001b[0m\u001b[0;34m)\u001b[0m\u001b[0;34m)\u001b[0m\u001b[0;34m\u001b[0m\u001b[0m\n\u001b[0m\u001b[1;32m    479\u001b[0m             \u001b[0;32mif\u001b[0m \u001b[0mouts2py\u001b[0m\u001b[0;34m:\u001b[0m\u001b[0;34m\u001b[0m\u001b[0m\n\u001b[1;32m    480\u001b[0m                 \u001b[0;31m# return response, map(self.get, outputs_from_command(actual_command))\u001b[0m\u001b[0;34m\u001b[0m\u001b[0;34m\u001b[0m\u001b[0m\n",
      "\u001b[0;31mEngineException\u001b[0m: Engine failed to run: [pyopy_result_0]=CO_FirstMin(pyopy_context_0_0,pyopy_context_0_1,pyopy_context_0_2);\n\tEngine Reason: \n\n# --- stdout:\n\n\n# --- stderr:\nError using IN_AutoMutualInfo (line 94)\nJava exception occurred: \ninfodynamics.utils.NonPositiveDefiniteMatrixException: CholeskyDecomposition is only performed on positive-definite matrices. Some reasons for non-positive-definite matrix are listed at http://www2.gsu.edu/~mkteer/npdmatri.html - note: a correlation matrix is non-positive-definite if you have more variables than observations\n\tat infodynamics.utils.MatrixUtils.CholeskyDecomposition(Unknown Source)\n\tat infodynamics.measures.continuous.gaussian.MutualInfoCalculatorMultiVariateGaussian.setCovariance(Unknown Source)\n\tat infodynamics.measures.continuous.gaussian.MutualInfoCalculatorMultiVariateGaussian.finaliseAddObservations(Unknown Source)\n\tat infodynamics.measures.continuous.MutualInfoMultiVariateCommon.setObservations(Unknown Source)\n\nError in CO_FirstMin>@(x)IN_AutoMutualInfo(y,x,'gaussian') (line 58)\n    corrfn = @(x) IN_AutoMutualInfo(y,x,'gaussian');\n\nError in CO_FirstMin (line 84)\n    autoCorr(i) = corrfn(i);\n\n\ncaused by Exception(\"\\n\\n# --- stdout:\\n\\n\\n# --- stderr:\\nError using IN_AutoMutualInfo (line 94)\\nJava exception occurred: \\ninfodynamics.utils.NonPositiveDefiniteMatrixException: CholeskyDecomposition is only performed on positive-definite matrices. Some reasons for non-positive-definite matrix are listed at http://www2.gsu.edu/~mkteer/npdmatri.html - note: a correlation matrix is non-positive-definite if you have more variables than observations\\n\\tat infodynamics.utils.MatrixUtils.CholeskyDecomposition(Unknown Source)\\n\\tat infodynamics.measures.continuous.gaussian.MutualInfoCalculatorMultiVariateGaussian.setCovariance(Unknown Source)\\n\\tat infodynamics.measures.continuous.gaussian.MutualInfoCalculatorMultiVariateGaussian.finaliseAddObservations(Unknown Source)\\n\\tat infodynamics.measures.continuous.MutualInfoMultiVariateCommon.setObservations(Unknown Source)\\n\\nError in CO_FirstMin>@(x)IN_AutoMutualInfo(y,x,'gaussian') (line 58)\\n    corrfn = @(x) IN_AutoMutualInfo(y,x,'gaussian');\\n\\nError in CO_FirstMin (line 84)\\n    autoCorr(i) = corrfn(i);\\n\\n\",)"
     ]
    }
   ],
   "source": [
    "for operation in hctsa_allops[0]:\n",
    "    print operation\n",
    "    try:\n",
    "        test_operationsoutput[operation] = getattr(hctsa.operations, operation)(testdata)\n",
    "        print \"done in \"\n",
    "    except:\n",
    "        print \"didn't work\""
   ]
  },
  {
   "cell_type": "code",
   "execution_count": null,
   "metadata": {
    "collapsed": true
   },
   "outputs": [],
   "source": []
  }
 ],
 "metadata": {
  "hide_input": false,
  "kernelspec": {
   "display_name": "Python 2",
   "language": "python",
   "name": "python2"
  },
  "language_info": {
   "codemirror_mode": {
    "name": "ipython",
    "version": 2
   },
   "file_extension": ".py",
   "mimetype": "text/x-python",
   "name": "python",
   "nbconvert_exporter": "python",
   "pygments_lexer": "ipython2",
   "version": "2.7.12"
  }
 },
 "nbformat": 4,
 "nbformat_minor": 0
}
