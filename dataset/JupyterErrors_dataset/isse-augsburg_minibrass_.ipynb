{
 "cells": [
  {
   "cell_type": "code",
   "execution_count": 1,
   "metadata": {},
   "outputs": [],
   "source": [
    "import numpy as np\n",
    "import pandas as pd"
   ]
  },
  {
   "cell_type": "code",
   "execution_count": 2,
   "metadata": {},
   "outputs": [
    {
     "name": "stdout",
     "output_type": "stream",
     "text": [
      "[1 0 0 1 1 0 0 0 0 1 0 0 1 0 1 0 1 0]\n",
      "[0 1 1 0 0 1 1 1 1 0 1 1 0 1 0 1 0 1]\n"
     ]
    }
   ],
   "source": [
    "amplifiers = np.genfromtxt('amplifiers_0.csv',delimiter=',').astype(int)\n",
    "print(amplifiers)\n",
    "normals = 1-amplifiers\n",
    "print(normals)"
   ]
  },
  {
   "cell_type": "code",
   "execution_count": null,
   "metadata": {},
   "outputs": [],
   "source": []
  },
  {
   "cell_type": "code",
   "execution_count": 3,
   "metadata": {},
   "outputs": [],
   "source": [
    "weights_biased = np.atleast_2d(np.genfromtxt('weights-biased_0.csv', delimiter=','))\n",
    "weights_unbiased = np.atleast_2d(np.genfromtxt('weights-unbiased_0.csv', delimiter=','))\n",
    "condorcet_biased = np.atleast_2d(np.genfromtxt('condorcet-biased_0.csv', delimiter=','))\n",
    "unanimity_biased = np.atleast_2d(np.genfromtxt('unanimity_0.csv', delimiter=','))"
   ]
  },
  {
   "cell_type": "code",
   "execution_count": 4,
   "metadata": {},
   "outputs": [
    {
     "name": "stdout",
     "output_type": "stream",
     "text": [
      "[1. 1. 1. 1. 1. 1. 1.]\n",
      "[5. 1. 2. 1. 1. 1. 1. 1. 1. 1. 2.]\n"
     ]
    }
   ],
   "source": [
    "print(weights_biased[:,amplifiers.astype(bool)].mean(axis=0))\n",
    "print(weights_biased[:,normals.astype(bool)].mean(axis=0))"
   ]
  },
  {
   "cell_type": "code",
   "execution_count": 5,
   "metadata": {},
   "outputs": [
    {
     "name": "stdout",
     "output_type": "stream",
     "text": [
      "[1. 1. 3. 1. 1. 1. 3.]\n",
      "[1. 1. 1. 1. 2. 1. 1. 1. 1. 1. 1.]\n"
     ]
    }
   ],
   "source": [
    "print(weights_unbiased[:,amplifiers.astype(bool)].mean(axis=0))\n",
    "print(weights_unbiased[:,normals.astype(bool)].mean(axis=0))"
   ]
  },
  {
   "cell_type": "code",
   "execution_count": 6,
   "metadata": {},
   "outputs": [
    {
     "name": "stdout",
     "output_type": "stream",
     "text": [
      "[1. 1. 1. 1. 3. 4. 1.]\n",
      "[1. 1. 2. 1. 1. 1. 1. 1. 1. 1. 1.]\n"
     ]
    }
   ],
   "source": [
    "print(condorcet_biased[:,amplifiers.astype(bool)].mean(axis=0))\n",
    "print(condorcet_biased[:,normals.astype(bool)].mean(axis=0))"
   ]
  },
  {
   "cell_type": "code",
   "execution_count": 7,
   "metadata": {},
   "outputs": [
    {
     "name": "stdout",
     "output_type": "stream",
     "text": [
      "[1. 1. 1. 1. 2. 4. 1.]\n",
      "[1. 1. 1. 3. 1. 1. 1. 1. 1. 3. 1.]\n"
     ]
    }
   ],
   "source": [
    "print(unanimity_biased[:,amplifiers.astype(bool)].mean(axis=0))\n",
    "print(unanimity_biased[:,normals.astype(bool)].mean(axis=0))"
   ]
  },
  {
   "cell_type": "code",
   "execution_count": 19,
   "metadata": {},
   "outputs": [],
   "source": [
    "n_experiments = 200\n",
    "num_companies = 5.\n",
    "\n",
    "all_weights_ub_amp_means = []\n",
    "all_weights_ub_namp_means = []\n",
    "\n",
    "all_weights_amp_means = []\n",
    "all_weights_namp_means = []\n",
    "\n",
    "all_condorcet_amp_means = []\n",
    "all_condorcet_namp_means = []\n",
    "\n",
    "all_unanimity_amp_means = []\n",
    "all_unanimity_namp_means = []\n",
    "\n",
    "for i in range(n_experiments):\n",
    "    amplifiers = np.genfromtxt('amplifiers_%d.csv' %i ,delimiter=',').astype(int)\n",
    "    normals = 1-amplifiers\n",
    "    if(sum(amplifiers) == 0 or sum(normals) == 0):\n",
    "        continue\n",
    "    \n",
    "    weights_biased = np.atleast_2d(np.genfromtxt('weights-biased_%d.csv' % i, delimiter=','))\n",
    "    #print(\"----- WEIGHTS \")\n",
    "    #print(\"----- amplifiers\")\n",
    "    #print(weights_biased[:,amplifiers.astype(bool)])\n",
    "    #print(weights_biased[:,amplifiers.astype(bool)].mean())\n",
    "    all_weights_amp_means += [weights_biased[:,amplifiers.astype(bool)].mean()]\n",
    "    \n",
    "    #print(\"----- non amplifiers\")\n",
    "    #print(weights_biased[:,normals.astype(bool)])\n",
    "    #print(weights_biased[:,normals.astype(bool)].mean())\n",
    "    all_weights_namp_means += [weights_biased[:,normals.astype(bool)].mean()]\n",
    "    \n",
    "    weights_unbiased = np.atleast_2d(np.genfromtxt('weights-unbiased_%d.csv' % i, delimiter=','))\n",
    "    all_weights_ub_amp_means += [weights_unbiased[:,amplifiers.astype(bool)].mean()]\n",
    "    all_weights_ub_namp_means += [ weights_unbiased[:,normals.astype(bool)].mean()]\n",
    "    \n",
    "    condorcet_biased = np.atleast_2d(np.genfromtxt('condorcet-biased_%d.csv' % i, delimiter=','))\n",
    "    #print(\"----- CONDORCET \")\n",
    "    #print(\"----- amplifiers\")\n",
    "    #print(condorcet_biased[:,amplifiers.astype(bool)])\n",
    "    #print(condorcet_biased[:,amplifiers.astype(bool)].mean())\n",
    "    all_condorcet_amp_means += [condorcet_biased[:,amplifiers.astype(bool)].mean()]\n",
    "    \n",
    "    #print(\"----- non amplifiers\")\n",
    "    #print(condorcet_biased[:,normals.astype(bool)])\n",
    "    #print(condorcet_biased[:,normals.astype(bool)].mean())\n",
    "    all_condorcet_namp_means += [condorcet_biased[:,normals.astype(bool)].mean()]\n",
    "    \n",
    "    unanimity_biased = np.atleast_2d(np.genfromtxt('unanimity_%d.csv' % i, delimiter=','))\n",
    "    all_unanimity_amp_means += [ unanimity_biased[:,amplifiers.astype(bool)].mean()]\n",
    "    all_unanimity_namp_means += [unanimity_biased[:,normals.astype(bool)].mean()]"
   ]
  },
  {
   "cell_type": "code",
   "execution_count": 20,
   "metadata": {},
   "outputs": [
    {
     "data": {
      "text/plain": [
       "[1.0,\n",
       " 1.0,\n",
       " 1.0,\n",
       " 1.0,\n",
       " 1.0,\n",
       " 1.0,\n",
       " 1.0,\n",
       " 1.0,\n",
       " 1.0,\n",
       " 1.0,\n",
       " 1.0,\n",
       " 1.0,\n",
       " 1.0,\n",
       " 1.0,\n",
       " 1.0,\n",
       " 1.0,\n",
       " 1.0,\n",
       " 1.0,\n",
       " 1.0,\n",
       " 1.0,\n",
       " 1.1428571428571428,\n",
       " 1.25,\n",
       " 1.0,\n",
       " 1.0,\n",
       " 1.0,\n",
       " 1.0,\n",
       " 1.2,\n",
       " 1.0,\n",
       " 1.0,\n",
       " 1.0,\n",
       " 1.0,\n",
       " 1.0,\n",
       " 1.0,\n",
       " 1.0,\n",
       " 1.0,\n",
       " 1.0,\n",
       " 1.0,\n",
       " 1.0,\n",
       " 1.0,\n",
       " 1.0,\n",
       " 1.0,\n",
       " 1.0,\n",
       " 1.0,\n",
       " 1.0,\n",
       " 1.0,\n",
       " 1.0,\n",
       " 1.0,\n",
       " 1.1666666666666667,\n",
       " 1.0,\n",
       " 1.0,\n",
       " 1.125,\n",
       " 1.125,\n",
       " 1.0,\n",
       " 1.0,\n",
       " 1.0,\n",
       " 1.1428571428571428,\n",
       " 1.0,\n",
       " 1.0,\n",
       " 1.0,\n",
       " 1.0,\n",
       " 1.0,\n",
       " 1.0,\n",
       " 1.0,\n",
       " 1.0,\n",
       " 1.0,\n",
       " 1.0,\n",
       " 1.2222222222222223,\n",
       " 1.0,\n",
       " 1.0,\n",
       " 1.0,\n",
       " 1.0,\n",
       " 1.0,\n",
       " 1.0,\n",
       " 1.0,\n",
       " 1.0,\n",
       " 1.0,\n",
       " 1.0,\n",
       " 1.0,\n",
       " 1.0,\n",
       " 1.0,\n",
       " 1.0,\n",
       " 1.0,\n",
       " 1.0,\n",
       " 1.0,\n",
       " 1.0,\n",
       " 1.0,\n",
       " 1.0,\n",
       " 1.0,\n",
       " 1.0,\n",
       " 1.0,\n",
       " 1.0,\n",
       " 1.0,\n",
       " 1.0,\n",
       " 1.0,\n",
       " 1.0,\n",
       " 1.0,\n",
       " 1.0,\n",
       " 1.0,\n",
       " 1.0,\n",
       " 1.0,\n",
       " 1.0,\n",
       " 1.0,\n",
       " 1.0,\n",
       " 1.0,\n",
       " 1.0,\n",
       " 1.0,\n",
       " 1.0,\n",
       " 1.0,\n",
       " 1.0,\n",
       " 1.0,\n",
       " 1.0,\n",
       " 1.0,\n",
       " 1.0,\n",
       " 1.0,\n",
       " 1.0,\n",
       " 1.0,\n",
       " 1.0,\n",
       " 1.0,\n",
       " 1.0,\n",
       " 1.0,\n",
       " 1.0,\n",
       " 1.1428571428571428,\n",
       " 1.0,\n",
       " 1.0,\n",
       " 1.1428571428571428,\n",
       " 1.0,\n",
       " 1.0,\n",
       " 1.0,\n",
       " 1.0,\n",
       " 1.0,\n",
       " 1.0,\n",
       " 1.0,\n",
       " 1.0,\n",
       " 1.0,\n",
       " 1.0,\n",
       " 1.0,\n",
       " 1.0,\n",
       " 1.0,\n",
       " 1.0,\n",
       " 1.0,\n",
       " 1.0,\n",
       " 1.0,\n",
       " 1.0,\n",
       " 1.0,\n",
       " 1.0,\n",
       " 1.2,\n",
       " 1.0,\n",
       " 1.0,\n",
       " 1.0,\n",
       " 1.0,\n",
       " 1.0,\n",
       " 1.0,\n",
       " 1.0,\n",
       " 1.0,\n",
       " 1.0,\n",
       " 1.0,\n",
       " 1.0,\n",
       " 1.0,\n",
       " 1.0,\n",
       " 1.0,\n",
       " 1.0,\n",
       " 1.0,\n",
       " 1.0,\n",
       " 1.0,\n",
       " 1.0,\n",
       " 1.0,\n",
       " 1.0,\n",
       " 1.0,\n",
       " 1.0,\n",
       " 1.0,\n",
       " 1.0,\n",
       " 1.0,\n",
       " 1.0,\n",
       " 1.0,\n",
       " 1.0,\n",
       " 1.0,\n",
       " 1.0,\n",
       " 1.0,\n",
       " 1.0,\n",
       " 1.0,\n",
       " 1.0,\n",
       " 1.0,\n",
       " 1.0,\n",
       " 1.0,\n",
       " 1.0,\n",
       " 1.0,\n",
       " 1.0,\n",
       " 1.0,\n",
       " 1.0,\n",
       " 1.0,\n",
       " 1.0,\n",
       " 1.0,\n",
       " 1.0,\n",
       " 1.0,\n",
       " 1.0,\n",
       " 1.0,\n",
       " 1.0]"
      ]
     },
     "execution_count": 20,
     "metadata": {},
     "output_type": "execute_result"
    }
   ],
   "source": [
    "all_weights_amp_means"
   ]
  },
  {
   "cell_type": "code",
   "execution_count": 9,
   "metadata": {},
   "outputs": [
    {
     "data": {
      "text/plain": [
       "[1.5454545454545454,\n",
       " 1.4666666666666666,\n",
       " 1.7333333333333334,\n",
       " 1.5833333333333333,\n",
       " 1.4,\n",
       " 1.4615384615384615,\n",
       " 1.3846153846153846,\n",
       " 1.6153846153846154,\n",
       " 1.3571428571428572,\n",
       " 1.4285714285714286,\n",
       " 1.7333333333333334,\n",
       " 1.5833333333333333,\n",
       " 1.7333333333333334,\n",
       " 1.5333333333333334,\n",
       " 1.2666666666666666,\n",
       " 1.4615384615384615,\n",
       " 1.7142857142857142,\n",
       " 1.7692307692307692,\n",
       " 1.5714285714285714,\n",
       " 2.8,\n",
       " 1.6363636363636365,\n",
       " 1.5,\n",
       " 2.0833333333333335,\n",
       " 1.5,\n",
       " 1.75,\n",
       " 1.5625,\n",
       " 1.8461538461538463,\n",
       " 1.4,\n",
       " 1.3076923076923077,\n",
       " 1.8,\n",
       " 1.5294117647058822,\n",
       " 1.3846153846153846,\n",
       " 1.2857142857142858,\n",
       " 1.5,\n",
       " 1.5454545454545454,\n",
       " 2.2,\n",
       " 1.9090909090909092,\n",
       " 1.6153846153846154,\n",
       " 1.4666666666666666,\n",
       " 2.0,\n",
       " 1.6153846153846154,\n",
       " 1.6,\n",
       " 1.5,\n",
       " 1.7142857142857142,\n",
       " 1.4666666666666666,\n",
       " 1.4666666666666666,\n",
       " 1.5,\n",
       " 1.8333333333333333]"
      ]
     },
     "execution_count": 9,
     "metadata": {},
     "output_type": "execute_result"
    }
   ],
   "source": [
    "all_weights_namp_means"
   ]
  },
  {
   "cell_type": "code",
   "execution_count": 64,
   "metadata": {},
   "outputs": [
    {
     "data": {
      "text/plain": [
       "[3.3333333333333335,\n",
       " 3.5,\n",
       " 3.3333333333333335,\n",
       " 4.0,\n",
       " 3.6666666666666665,\n",
       " 3.0,\n",
       " 3.3333333333333335,\n",
       " 3.0,\n",
       " 3.6666666666666665,\n",
       " 3.0,\n",
       " 3.5,\n",
       " 3.0,\n",
       " 3.0,\n",
       " 3.0,\n",
       " 3.0,\n",
       " 3.2857142857142856,\n",
       " 2.75,\n",
       " 3.75,\n",
       " 4.0,\n",
       " 5.333333333333333,\n",
       " 3.6666666666666665,\n",
       " 3.2857142857142856,\n",
       " 2.5,\n",
       " 2.5,\n",
       " 4.75,\n",
       " 3.4,\n",
       " 3.0,\n",
       " 4.0,\n",
       " 4.666666666666667,\n",
       " 3.5,\n",
       " 4.6,\n",
       " 3.6666666666666665,\n",
       " 3.5,\n",
       " 4.0,\n",
       " 3.6666666666666665,\n",
       " 2.0,\n",
       " 3.5,\n",
       " nan,\n",
       " 3.75,\n",
       " 4.25,\n",
       " 2.7142857142857144,\n",
       " 4.666666666666667,\n",
       " 4.5,\n",
       " 3.75,\n",
       " 5.0,\n",
       " 3.2857142857142856,\n",
       " 4.0,\n",
       " 4.0,\n",
       " 3.5,\n",
       " 4.166666666666667,\n",
       " 5.5,\n",
       " 3.6666666666666665,\n",
       " 4.5,\n",
       " 2.6666666666666665,\n",
       " 4.0,\n",
       " 6.0,\n",
       " 4.0,\n",
       " 2.75,\n",
       " 3.0,\n",
       " 4.5,\n",
       " 4.0,\n",
       " 3.5,\n",
       " 3.0,\n",
       " 3.5,\n",
       " nan,\n",
       " 3.0,\n",
       " 3.0,\n",
       " 3.5,\n",
       " 4.0,\n",
       " 6.0,\n",
       " 3.0,\n",
       " 3.8333333333333335,\n",
       " 3.8,\n",
       " 3.0,\n",
       " 3.5,\n",
       " 4.5,\n",
       " 4.0,\n",
       " 4.0,\n",
       " 3.5,\n",
       " 3.0,\n",
       " 3.0,\n",
       " 3.5,\n",
       " 1.0,\n",
       " 2.0,\n",
       " 3.5,\n",
       " 3.6,\n",
       " 3.0,\n",
       " 3.0,\n",
       " 3.0,\n",
       " 3.2,\n",
       " 3.6666666666666665,\n",
       " 4.0,\n",
       " 3.5,\n",
       " 3.0,\n",
       " 3.5,\n",
       " 4.0,\n",
       " 3.6666666666666665,\n",
       " 1.0,\n",
       " 2.8333333333333335,\n",
       " 3.6666666666666665]"
      ]
     },
     "execution_count": 64,
     "metadata": {},
     "output_type": "execute_result"
    }
   ],
   "source": [
    "all_condorcet_amp_means"
   ]
  },
  {
   "cell_type": "code",
   "execution_count": 65,
   "metadata": {},
   "outputs": [
    {
     "data": {
      "text/plain": [
       "[4.111111111111111,\n",
       " 4.0,\n",
       " 3.6666666666666665,\n",
       " 4.333333333333333,\n",
       " 3.8333333333333335,\n",
       " 3.5,\n",
       " 3.0,\n",
       " 3.5555555555555554,\n",
       " 3.4444444444444446,\n",
       " 3.8181818181818183,\n",
       " 3.5,\n",
       " 3.7777777777777777,\n",
       " 4.0,\n",
       " 3.8,\n",
       " 3.3636363636363638,\n",
       " 3.6,\n",
       " 3.75,\n",
       " 4.5,\n",
       " 3.75,\n",
       " 3.6666666666666665,\n",
       " 4.0,\n",
       " 3.0,\n",
       " 4.25,\n",
       " 3.1,\n",
       " 3.25,\n",
       " 3.7142857142857144,\n",
       " 3.7,\n",
       " 3.5555555555555554,\n",
       " 3.2222222222222223,\n",
       " 3.875,\n",
       " 3.0,\n",
       " 3.7777777777777777,\n",
       " 4.25,\n",
       " 3.6,\n",
       " 3.5555555555555554,\n",
       " 3.8,\n",
       " 4.125,\n",
       " 3.75,\n",
       " 3.375,\n",
       " 3.625,\n",
       " 3.4,\n",
       " 3.6666666666666665,\n",
       " 3.6,\n",
       " 4.125,\n",
       " 3.25,\n",
       " 2.6,\n",
       " 3.0,\n",
       " 3.3636363636363638,\n",
       " 3.7,\n",
       " 2.6666666666666665,\n",
       " 3.3,\n",
       " 3.5555555555555554,\n",
       " 3.8,\n",
       " 3.2222222222222223,\n",
       " 3.6,\n",
       " 3.909090909090909,\n",
       " 3.727272727272727,\n",
       " 4.0,\n",
       " 3.8,\n",
       " 3.7,\n",
       " 3.0,\n",
       " 3.7,\n",
       " 4.0,\n",
       " 3.4,\n",
       " 3.6666666666666665,\n",
       " 3.8,\n",
       " 4.0,\n",
       " 4.375,\n",
       " 3.3,\n",
       " 3.6363636363636362,\n",
       " 3.3636363636363638,\n",
       " 3.5,\n",
       " 3.7142857142857144,\n",
       " 3.3636363636363638,\n",
       " 4.5,\n",
       " 3.0,\n",
       " 4.0,\n",
       " 4.428571428571429,\n",
       " 3.75,\n",
       " 3.111111111111111,\n",
       " 4.1,\n",
       " 4.2,\n",
       " 4.181818181818182,\n",
       " 3.727272727272727,\n",
       " 3.9,\n",
       " 4.142857142857143,\n",
       " 4.0,\n",
       " 3.8181818181818183,\n",
       " 3.272727272727273,\n",
       " 4.0,\n",
       " 2.888888888888889,\n",
       " 3.625,\n",
       " 3.8,\n",
       " 3.7777777777777777,\n",
       " 3.25,\n",
       " 3.5454545454545454,\n",
       " 3.3333333333333335,\n",
       " 4.090909090909091,\n",
       " 3.6666666666666665,\n",
       " 4.111111111111111]"
      ]
     },
     "execution_count": 65,
     "metadata": {},
     "output_type": "execute_result"
    }
   ],
   "source": [
    "all_condorcet_namp_means"
   ]
  },
  {
   "cell_type": "code",
   "execution_count": 66,
   "metadata": {},
   "outputs": [
    {
     "data": {
      "image/png": "[encoded data removed]",
      "text/plain": [
       "<Figure size 432x288 with 1 Axes>"
      ]
     },
     "metadata": {
      "needs_background": "light"
     },
     "output_type": "display_data"
    }
   ],
   "source": [
    "# Credit: Josh Hemann\n",
    "\n",
    "import numpy as np\n",
    "import matplotlib.pyplot as plt\n",
    "from matplotlib.ticker import MaxNLocator\n",
    "from collections import namedtuple\n",
    "\n",
    "\n",
    "n_groups = 5\n",
    "\n",
    "means_men = (20, 35, 30, 35, 27)\n",
    "std_men = (2, 3, 4, 1, 2)\n",
    "\n",
    "means_women = (25, 32, 34, 20, 25)\n",
    "std_women = (3, 5, 2, 3, 3)\n",
    "\n",
    "fig, ax = plt.subplots()\n",
    "\n",
    "index = np.arange(n_groups)\n",
    "bar_width = 0.35\n",
    "\n",
    "opacity = 0.4\n",
    "error_config = {'ecolor': '0.3'}\n",
    "\n",
    "rects1 = ax.bar(index, means_men, bar_width,\n",
    "                alpha=opacity, color='b',\n",
    "                yerr=std_men, error_kw=error_config,\n",
    "                label='Men')\n",
    "\n",
    "rects2 = ax.bar(index + bar_width, means_women, bar_width,\n",
    "                alpha=opacity, color='r',\n",
    "                yerr=std_women, error_kw=error_config,\n",
    "                label='Women')\n",
    "\n",
    "ax.set_xlabel('Group')\n",
    "ax.set_ylabel('Scores')\n",
    "ax.set_title('Scores by group and gender')\n",
    "ax.set_xticks(index + bar_width / 2)\n",
    "ax.set_xticklabels(('A', 'B', 'C', 'D', 'E'))\n",
    "ax.legend()\n",
    "\n",
    "fig.tight_layout()\n",
    "plt.show()\n"
   ]
  },
  {
   "cell_type": "code",
   "execution_count": 27,
   "metadata": {},
   "outputs": [
    {
     "data": {
      "image/png": "[encoded data removed]",
      "text/plain": [
       "<Figure size 432x288 with 1 Axes>"
      ]
     },
     "metadata": {
      "needs_background": "light"
     },
     "output_type": "display_data"
    }
   ],
   "source": [
    "# Credit: Josh Hemann\n",
    "\n",
    "import numpy as np\n",
    "import matplotlib.pyplot as plt\n",
    "from matplotlib.ticker import MaxNLocator\n",
    "from collections import namedtuple\n",
    "\n",
    "\n",
    "n_groups = 4 # weighted and condorcet \n",
    "# within each group amplifiers and non-amplifiers correspond to men and women\n",
    "\n",
    "all_weights_ub_amp_means = np.array(all_weights_ub_amp_means)\n",
    "all_weights_ub_namp_means = np.array(all_weights_ub_namp_means)\n",
    "\n",
    "all_weights_amp_means = np.array(all_weights_amp_means)\n",
    "all_weights_namp_means = np.array(all_weights_namp_means)\n",
    "\n",
    "all_condorcet_amp_means = np.array(all_condorcet_amp_means)\n",
    "all_condorcet_namp_means = np.array(all_condorcet_namp_means)\n",
    "\n",
    "all_unanimity_amp_means = np.array(all_unanimity_amp_means)\n",
    "all_unanimity_namp_means = np.array(all_unanimity_namp_means)\n",
    "    \n",
    "means_amp = (all_weights_ub_amp_means.mean(), all_weights_amp_means.mean(), all_condorcet_amp_means.mean(), all_unanimity_amp_means.mean())\n",
    "std_amp = (all_weights_ub_amp_means.std(), all_weights_amp_means.std(), all_condorcet_amp_means.std(), all_unanimity_amp_means.std())\n",
    "\n",
    "means_namp = (all_weights_ub_namp_means.mean(), all_weights_namp_means.mean(), all_condorcet_namp_means.mean(), all_unanimity_namp_means.mean())\n",
    "std_namp = (all_weights_ub_namp_means.std(), all_weights_namp_means.std(), all_condorcet_namp_means.std(), all_unanimity_namp_means.std())\n",
    "\n",
    "fig, ax = plt.subplots()\n",
    "\n",
    "means_amp = 3. - np.array(means_amp)\n",
    "means_namp = 3. -  np.array(means_namp)\n",
    "\n",
    "index = np.arange(n_groups)\n",
    "bar_width = 0.35\n",
    "\n",
    "opacity = 0.4\n",
    "error_config = {'ecolor': '0.3'}\n",
    "\n",
    "rects1 = ax.bar(index, means_amp, bar_width,\n",
    "                alpha=opacity, color='b',\n",
    "                yerr=std_amp, error_kw=error_config,\n",
    "                label='Amplifiers')\n",
    "\n",
    "rects2 = ax.bar(index + bar_width, means_namp, bar_width,\n",
    "                alpha=opacity, color='r',\n",
    "                yerr=std_namp, error_kw=error_config,\n",
    "                label='Non-amplifiers')\n",
    "\n",
    "ax.set_xlabel('Group')\n",
    "ax.set_ylabel('Satisfaction degrees')\n",
    "ax.set_title('Satisfaction degrees by voting function and group')\n",
    "ax.set_xticks(index + bar_width / 2)\n",
    "ax.set_xticklabels(('WCSP Unbiased', 'WCSP Biased', 'Condorcet', 'Pareto / Unanimity'))\n",
    "ax.legend()\n",
    "\n",
    "fig.tight_layout()\n",
    "plt.savefig(\"mentor-matching-comparison.pdf\")\n",
    "plt.show()\n"
   ]
  },
  {
   "cell_type": "code",
   "execution_count": 23,
   "metadata": {},
   "outputs": [
    {
     "ename": "TypeError",
     "evalue": "unsupported operand type(s) for -: 'int' and 'tuple'",
     "output_type": "error",
     "traceback": [
      "\u001b[0;31m---------------------------------------------------------------------------\u001b[0m",
      "\u001b[0;31mTypeError\u001b[0m                                 Traceback (most recent call last)",
      "\u001b[0;32m<ipython-input-23-68c99bc96e5e>\u001b[0m in \u001b[0;36m<module>\u001b[0;34m\u001b[0m\n\u001b[0;32m----> 1\u001b[0;31m \u001b[0;36m3\u001b[0m\u001b[0;34m-\u001b[0m \u001b[0mmeans_amp\u001b[0m\u001b[0;34m\u001b[0m\u001b[0m\n\u001b[0m",
      "\u001b[0;31mTypeError\u001b[0m: unsupported operand type(s) for -: 'int' and 'tuple'"
     ]
    }
   ],
   "source": [
    "3 - means_amp"
   ]
  },
  {
   "cell_type": "code",
   "execution_count": 69,
   "metadata": {},
   "outputs": [
    {
     "data": {
      "text/plain": [
       "(nan, nan, nan, nan)"
      ]
     },
     "execution_count": 69,
     "metadata": {},
     "output_type": "execute_result"
    }
   ],
   "source": [
    "means_amp"
   ]
  },
  {
   "cell_type": "code",
   "execution_count": 50,
   "metadata": {},
   "outputs": [
    {
     "data": {
      "text/plain": [
       "(3.922222222222222, 3.068888888888889, 3.9888888888888885)"
      ]
     },
     "execution_count": 50,
     "metadata": {},
     "output_type": "execute_result"
    }
   ],
   "source": [
    "means_namp"
   ]
  },
  {
   "cell_type": "code",
   "execution_count": 60,
   "metadata": {},
   "outputs": [
    {
     "data": {
      "text/plain": [
       "(nan, nan, nan, nan)"
      ]
     },
     "execution_count": 60,
     "metadata": {},
     "output_type": "execute_result"
    }
   ],
   "source": [
    "means_amp"
   ]
  },
  {
   "cell_type": "code",
   "execution_count": null,
   "metadata": {},
   "outputs": [],
   "source": []
  }
 ],
 "metadata": {
  "kernelspec": {
   "display_name": "Python 3",
   "language": "python",
   "name": "python3"
  },
  "language_info": {
   "codemirror_mode": {
    "name": "ipython",
    "version": 3
   },
   "file_extension": ".py",
   "mimetype": "text/x-python",
   "name": "python",
   "nbconvert_exporter": "python",
   "pygments_lexer": "ipython3",
   "version": "3.6.2"
  }
 },
 "nbformat": 4,
 "nbformat_minor": 2
}
