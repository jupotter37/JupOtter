{
 "cells": [
  {
   "cell_type": "code",
   "execution_count": 88,
   "metadata": {},
   "outputs": [],
   "source": [
    "s = \"def greeting(name: str) -> str: \\\n",
    "    return 'Hello ' + name \""
   ]
  },
  {
   "cell_type": "code",
   "execution_count": 89,
   "metadata": {},
   "outputs": [],
   "source": [
    "import astor,ast"
   ]
  },
  {
   "cell_type": "code",
   "execution_count": 90,
   "metadata": {},
   "outputs": [],
   "source": [
    "a = ast.parse(s)"
   ]
  },
  {
   "cell_type": "code",
   "execution_count": 91,
   "metadata": {},
   "outputs": [],
   "source": [
    "#!pipenv install typed-ast"
   ]
  },
  {
   "cell_type": "code",
   "execution_count": 92,
   "metadata": {},
   "outputs": [],
   "source": [
    "from typed_ast import ast3"
   ]
  },
  {
   "cell_type": "code",
   "execution_count": 93,
   "metadata": {},
   "outputs": [],
   "source": [
    "a = ast3.parse(s)"
   ]
  },
  {
   "cell_type": "code",
   "execution_count": 94,
   "metadata": {},
   "outputs": [
    {
     "data": {
      "text/plain": [
       "<typed_ast._ast3.Module at 0x7fdd50cac128>"
      ]
     },
     "execution_count": 94,
     "metadata": {},
     "output_type": "execute_result"
    }
   ],
   "source": [
    "a"
   ]
  },
  {
   "cell_type": "code",
   "execution_count": 152,
   "metadata": {},
   "outputs": [
    {
     "data": {
      "text/plain": [
       "'name'"
      ]
     },
     "execution_count": 152,
     "metadata": {},
     "output_type": "execute_result"
    }
   ],
   "source": [
    "a.body[0].args.args[0].arg"
   ]
  },
  {
   "cell_type": "code",
   "execution_count": 157,
   "metadata": {},
   "outputs": [],
   "source": [
    "hypothesis_mappings = {\"str\": \"text())\"}\n",
    "\n",
    "def make_test(a):\n",
    "    for i in a.body:\n",
    "        name = i.name\n",
    "        r = i.returns.id\n",
    "        args_names = [x.arg for x in i.args.args]\n",
    "        args_names = \", \".join(args_names)\n",
    "        args_annotation = [ x.annotation.id for x in i.args.args]\n",
    "        hypothesis_map = [find_mapping(arg) for arg in args_annotation]\n",
    "        hypothesis_map =\", \".join(hypothesis_map)\n",
    "        decorator = \"@given(\" \n",
    "        t = decorator+hypothesis_map+\")\"+\"\\n\"\n",
    "        \n",
    "        t += f'def test_{name}({args_names}):\\n'\n",
    "        t +=f'    assert type({name}({args_names})) is {r}'\n",
    "        return t\n",
    "def find_mapping(arg):\n",
    "    if arg in hypothesis_mappings.keys():\n",
    "        return hypothesis_mappings[arg]\n",
    "    elif arg in build_dict.keys():\n",
    "        return build_dict[arg]"
   ]
  },
  {
   "cell_type": "code",
   "execution_count": 158,
   "metadata": {},
   "outputs": [
    {
     "name": "stdout",
     "output_type": "stream",
     "text": [
      "@given(text()))\n",
      "def test_greeting(name):\n",
      "    assert type(greeting(name)) is str\n"
     ]
    }
   ],
   "source": [
    "print(make_test(a))"
   ]
  },
  {
   "cell_type": "code",
   "execution_count": 10,
   "metadata": {},
   "outputs": [],
   "source": [
    "#!pipenv install hypothesis"
   ]
  },
  {
   "cell_type": "code",
   "execution_count": 11,
   "metadata": {},
   "outputs": [],
   "source": [
    "from hypothesis import given\n",
    "from hypothesis.strategies import text,builds,lists\n",
    "\n",
    "def greeting(name: str) -> str: \n",
    "    return 'Hello ' + name \n",
    "@given(text())\n",
    "def test_greeting(s):\n",
    "    assert type(greeting(s)) is str"
   ]
  },
  {
   "cell_type": "code",
   "execution_count": 12,
   "metadata": {},
   "outputs": [],
   "source": [
    "test_greeting()"
   ]
  },
  {
   "cell_type": "code",
   "execution_count": 13,
   "metadata": {},
   "outputs": [],
   "source": [
    "from collections import namedtuple"
   ]
  },
  {
   "cell_type": "code",
   "execution_count": 14,
   "metadata": {},
   "outputs": [],
   "source": [
    "from typing import List\n",
    "class DataPoint:\n",
    "    def __init__(self,x:int,y:int):\n",
    "        self.x = x\n",
    "        self.y =y\n",
    "\n",
    "class DataSet:\n",
    "    def __init__(self,label:str,data:List[DataPoint],backgroundColor:str):\n",
    "        self.label=label\n",
    "        self.data=data\n",
    "        self.backgroundColor = backgroundColor\n",
    "\n",
    "class Data:\n",
    "    def __init__(self,datasets:List[DataSet]=None):\n",
    "        self.datasets=datasets"
   ]
  },
  {
   "cell_type": "code",
   "execution_count": 15,
   "metadata": {},
   "outputs": [],
   "source": [
    "data1 = Data([DataSet(label=\"label1\",data=[DataPoint(1,2),DataPoint(3,4)],backgroundColor=\"00b8ff\")])"
   ]
  },
  {
   "cell_type": "code",
   "execution_count": 16,
   "metadata": {},
   "outputs": [],
   "source": [
    "from crawto.Charts.charts import tsne_plot,make_html"
   ]
  },
  {
   "cell_type": "code",
   "execution_count": 17,
   "metadata": {},
   "outputs": [],
   "source": [
    "%load_ext autoreload\n",
    "%autoreload 2"
   ]
  },
  {
   "cell_type": "code",
   "execution_count": 18,
   "metadata": {},
   "outputs": [],
   "source": [
    "from crawto.Charts.charts import tsne_plot,make_html\n",
    "from hypothesis import given\n",
    "from hypothesis.strategies import text,builds,lists,floats\n",
    "#from crawto.Charts.chart_types import \n",
    "\n",
    "@given(builds(Data,lists(builds(DataSet,text(),lists(builds(DataPoint,floats(),floats())),text()))))\n",
    "def test_tsne_chart(d):\n",
    "    assert type(make_html(d)) is str"
   ]
  },
  {
   "cell_type": "code",
   "execution_count": 20,
   "metadata": {},
   "outputs": [],
   "source": [
    "s=open(\"crawto/Charts/charts.py\").read()\n",
    "a = ast3.parse(s)"
   ]
  },
  {
   "cell_type": "code",
   "execution_count": 21,
   "metadata": {},
   "outputs": [
    {
     "data": {
      "text/plain": [
       "[<typed_ast._ast3.ImportFrom at 0x7ffe5c4cdeb8>,\n",
       " <typed_ast._ast3.ImportFrom at 0x7ffe5c4cdb70>,\n",
       " <typed_ast._ast3.Import at 0x7ffe5c4cdfd0>,\n",
       " <typed_ast._ast3.ImportFrom at 0x7ffe5c4cd4a8>,\n",
       " <typed_ast._ast3.ImportFrom at 0x7ffe5c4cda90>,\n",
       " <typed_ast._ast3.Import at 0x7ffe5c4cdc50>,\n",
       " <typed_ast._ast3.Import at 0x7ffe5c4cdf60>,\n",
       " <typed_ast._ast3.Import at 0x7ffe5c4cd0f0>,\n",
       " <typed_ast._ast3.FunctionDef at 0x7ffe5c4cd4e0>,\n",
       " <typed_ast._ast3.FunctionDef at 0x7ffe5c4f8b70>,\n",
       " <typed_ast._ast3.FunctionDef at 0x7ffe5c4fdcf8>]"
      ]
     },
     "execution_count": 21,
     "metadata": {},
     "output_type": "execute_result"
    }
   ],
   "source": [
    "a.body"
   ]
  },
  {
   "cell_type": "code",
   "execution_count": 22,
   "metadata": {},
   "outputs": [
    {
     "data": {
      "text/plain": [
       "True"
      ]
     },
     "execution_count": 22,
     "metadata": {},
     "output_type": "execute_result"
    }
   ],
   "source": [
    "import typed_ast\n",
    "type(a.body[0]) is typed_ast._ast3.ImportFrom"
   ]
  },
  {
   "cell_type": "code",
   "execution_count": 23,
   "metadata": {},
   "outputs": [],
   "source": [
    "z =a.body[7]"
   ]
  },
  {
   "cell_type": "code",
   "execution_count": 24,
   "metadata": {},
   "outputs": [
    {
     "ename": "AttributeError",
     "evalue": "'Import' object has no attribute 'args'",
     "output_type": "error",
     "traceback": [
      "\u001b[0;31m---------------------------------------------------------------------------\u001b[0m",
      "\u001b[0;31mAttributeError\u001b[0m                            Traceback (most recent call last)",
      "\u001b[0;32m<ipython-input-24-27f85c9ededa>\u001b[0m in \u001b[0;36m<module>\u001b[0;34m\u001b[0m\n\u001b[0;32m----> 1\u001b[0;31m \u001b[0mz\u001b[0m\u001b[0;34m.\u001b[0m\u001b[0margs\u001b[0m\u001b[0;34m.\u001b[0m\u001b[0margs\u001b[0m\u001b[0;34m[\u001b[0m\u001b[0;36m0\u001b[0m\u001b[0;34m]\u001b[0m\u001b[0;34m.\u001b[0m\u001b[0mannotation\u001b[0m\u001b[0;34m.\u001b[0m\u001b[0mid\u001b[0m\u001b[0;34m\u001b[0m\u001b[0;34m\u001b[0m\u001b[0m\n\u001b[0m",
      "\u001b[0;31mAttributeError\u001b[0m: 'Import' object has no attribute 'args'"
     ]
    }
   ],
   "source": [
    "z.args.args[0].annotation.id"
   ]
  },
  {
   "cell_type": "code",
   "execution_count": null,
   "metadata": {},
   "outputs": [],
   "source": [
    "dir(a.body[4])"
   ]
  },
  {
   "cell_type": "code",
   "execution_count": 25,
   "metadata": {},
   "outputs": [
    {
     "data": {
      "text/plain": [
       "('Data', 'Charts.chart_type', 2)"
      ]
     },
     "execution_count": 25,
     "metadata": {},
     "output_type": "execute_result"
    }
   ],
   "source": [
    "a.body[4].names[0].name,a.body[4].module,a.body[4].level"
   ]
  },
  {
   "cell_type": "code",
   "execution_count": 26,
   "metadata": {},
   "outputs": [],
   "source": [
    "import typing\n",
    "ast_import_union = typing.Union[typed_ast._ast3.ImportFrom,typed_ast._ast3.Import]"
   ]
  },
  {
   "cell_type": "code",
   "execution_count": 27,
   "metadata": {},
   "outputs": [
    {
     "name": "stdout",
     "output_type": "stream",
     "text": [
      "Data\n"
     ]
    }
   ],
   "source": [
    "for i in a.body[4].names:\n",
    "    print(i.name)"
   ]
  },
  {
   "cell_type": "code",
   "execution_count": 127,
   "metadata": {},
   "outputs": [
    {
     "data": {
      "text/plain": [
       "{'Data': '/mnt/e/projects/crawto/crawto/Charts/chart_type.py'}"
      ]
     },
     "execution_count": 127,
     "metadata": {},
     "output_type": "execute_result"
    }
   ],
   "source": [
    "name_module_dict"
   ]
  },
  {
   "cell_type": "code",
   "execution_count": 128,
   "metadata": {},
   "outputs": [
    {
     "name": "stdout",
     "output_type": "stream",
     "text": [
      "Data\n"
     ]
    }
   ],
   "source": [
    "for i in name_module_dict:"
   ]
  },
  {
   "cell_type": "code",
   "execution_count": 173,
   "metadata": {},
   "outputs": [],
   "source": [
    "import typed_ast\n",
    "import os\n",
    "from typed_ast import ast3\n",
    "import astor,ast\n",
    "def make_tests_for_file(filename):\n",
    "    s=open(filename).read()\n",
    "    a = ast3.parse(s)\n",
    "    name_module_dict = {}\n",
    "    for i in a.body:\n",
    "        map_relative_import_to_object(i,name_module_dict)\n",
    "    full_build_dict = {}\n",
    "    for i in name_module_dict:\n",
    "        module = open(name_module_dict[i]).read()\n",
    "        module = ast3.parse(module)\n",
    "        build_dict = iterate_module_operate_class(module)\n",
    "        if i in build_dict:\n",
    "            full_build_dict[i] = build_dict[i]\n",
    "    \n",
    "    t = make_test(a, full_build_dict)\n",
    "    return t\n",
    "        \n",
    "    \n",
    "    \n",
    "def map_relative_import_to_object(ast_import,name_module_dict):\n",
    "    if type(ast_import) is typed_ast._ast3.ImportFrom:\n",
    "        if ast_import.level>0:\n",
    "            module=ast_import.module\n",
    "            for i in ast_import.names:\n",
    "                m = module.split(\".\")[-1]\n",
    "                name_module_dict[i.name] = [\n",
    "                    i for i,j,k in os.walk(os.getcwd()) if \"chart_type.py\" in k][0]+\"/\"+m.replace(\".\",\"/\")+\".py\"\n",
    "    return name_module_dict\n",
    "tested_things = [typed_ast._ast3.FunctionDef,typed_ast._ast3.ClassDef]\n",
    "generic_types=['str','int','float']\n",
    "hypothesis_dict = {\n",
    "    'str':'text()',\n",
    "    'int':'int()',\n",
    "    'float':'float()',\n",
    "    'List':'lists'\n",
    "}\n",
    "hypothesis_mappings = {\"str\": \"text())\"}\n",
    "\n",
    "def iterate_module_operate_class(ast3_Module):\n",
    "    \n",
    "    body = ast3_Module.body\n",
    "    classes = {}\n",
    "    for i in body:\n",
    "        if type(i) is typed_ast._ast3.ClassDef:\n",
    "            p = parse_class(i)\n",
    "            classes[i.name] = p\n",
    "    class_dict = find_and_replace_customs\n",
    "    return class_dict(classes)\n",
    "            \n",
    "def get_class_names(ast_Module):\n",
    "    class_names = []\n",
    "    for i in b.body:\n",
    "        try:\n",
    "            class_names.append(i.name)\n",
    "        except:\n",
    "            pass\n",
    "    return class_names\n",
    "\n",
    "def parse_class(ast3_ClassDef):\n",
    "    for i in ast3_ClassDef.body:\n",
    "        if i.name == '__init__':\n",
    "            args = [a.value.id for a in i.body]\n",
    "            d = {}\n",
    "            for i in i.args.args: \n",
    "                if parse_annotations(i) is not None:\n",
    "                    att, annotation = parse_annotations(i)\n",
    "                    d[att]=annotation\n",
    "    return d\n",
    "\n",
    "def parse_annotations(ast3_ClassDef_args_args_i):\n",
    "    if ast3_ClassDef_args_args_i.arg ==\"self\":\n",
    "        pass\n",
    "    elif 'annotation' in dir(ast3_ClassDef_args_args_i):\n",
    "        att = ast3_ClassDef_args_args_i.arg\n",
    "        try:\n",
    "            annotation = ast3_ClassDef_args_args_i.annotation.id\n",
    "        except:\n",
    "            annotation = ast3_ClassDef_args_args_i.annotation.value.id\n",
    "            if 'slice' in dir(ast3_ClassDef_args_args_i.annotation):\n",
    "                slice_id = ast3_ClassDef_args_args_i.annotation.slice.value.id\n",
    "                annotation = (annotation,slice_id)\n",
    "        return att,annotation\n",
    "    \n",
    "def find_and_replace_customs(class_dict):\n",
    "    build_dict = {}\n",
    "    for i in class_dict:\n",
    "        tmp_dict = {}\n",
    "        for x,y in zip(list(class_dict[i].keys()),list(class_dict[i].values())):\n",
    "            if y in generic_types:\n",
    "                tmp_dict[x] = hypothesis_dict[y]\n",
    "            elif type(y) is tuple:\n",
    "                if y[0] is 'List':\n",
    "                    if y[1] in build_dict:\n",
    "                        tmp_dict[x] = build_dict[y[1]]\n",
    "        build_string = f'builds({i}' \n",
    "        for x,y in zip(list(tmp_dict.keys()),list(tmp_dict.values())):\n",
    "            build_string +=f',{x}={y}'\n",
    "        build_string += \")\"\n",
    "        build_dict[i] = build_string\n",
    "    return build_dict\n",
    "\n",
    "def make_test(a,full_build_dict):\n",
    "    tt = []\n",
    "    for i in a.body:\n",
    "        if type(i) in tested_things:\n",
    "            if 'returns' in dir(i):\n",
    "                if 'id' in dir(i.returns):\n",
    "                    name = i.name\n",
    "                    r = i.returns.id\n",
    "                    if r in hypothesis_mappings.keys():\n",
    "                        args_names = [x.arg for x in i.args.args]\n",
    "                        args_names = \", \".join(args_names)\n",
    "                        args_annotation = [ x.annotation.id for x in i.args.args]\n",
    "                        hypothesis_map = [find_mapping(arg,full_build_dict) for arg in args_annotation]\n",
    "                        hypothesis_map =\", \".join(hypothesis_map)\n",
    "                        decorator = \"@given(\" \n",
    "                        t = decorator+hypothesis_map+\")\"+\"\\n\"\n",
    "                        t += f'def test_{name}({args_names}):\\n'\n",
    "                        t +=f'    assert type({name}({args_names})) is {r}'\n",
    "                        tt.append(t)\n",
    "    return tt\n",
    "\n",
    "def find_mapping(arg,full_build_dict):\n",
    "    if arg in hypothesis_mappings.keys():\n",
    "        return hypothesis_mappings[arg]\n",
    "    elif arg in full_build_dict.keys():\n",
    "        return full_build_dict[arg]"
   ]
  },
  {
   "cell_type": "code",
   "execution_count": 176,
   "metadata": {},
   "outputs": [
    {
     "name": "stdout",
     "output_type": "stream",
     "text": [
      "@given(builds(Data,datasets=builds(DataSet,label=text(),data=builds(DataPoint,x=float(),y=float()),backgroundColor=text())))\n",
      "def test_make_html(data):\n",
      "    assert type(make_html(data)) is str\n"
     ]
    }
   ],
   "source": [
    "print(make_tests_for_file(\"crawto/Charts/charts.py\")[0])"
   ]
  },
  {
   "cell_type": "code",
   "execution_count": 83,
   "metadata": {},
   "outputs": [
    {
     "data": {
      "text/plain": [
       "True"
      ]
     },
     "execution_count": 83,
     "metadata": {},
     "output_type": "execute_result"
    }
   ],
   "source": [
    "'str' in hypothesis_mappings.keys()"
   ]
  },
  {
   "cell_type": "code",
   "execution_count": 178,
   "metadata": {},
   "outputs": [
    {
     "ename": "NameError",
     "evalue": "name 'Data' is not defined",
     "output_type": "error",
     "traceback": [
      "\u001b[0;31m---------------------------------------------------------------------------\u001b[0m",
      "\u001b[0;31mNameError\u001b[0m                                 Traceback (most recent call last)",
      "\u001b[0;32m<ipython-input-178-8c750a4d2058>\u001b[0m in \u001b[0;36m<module>\u001b[0;34m\u001b[0m\n\u001b[1;32m      1\u001b[0m \u001b[0;32mfrom\u001b[0m \u001b[0mhypothesis\u001b[0m \u001b[0;32mimport\u001b[0m \u001b[0mgiven\u001b[0m\u001b[0;34m\u001b[0m\u001b[0;34m\u001b[0m\u001b[0m\n\u001b[1;32m      2\u001b[0m \u001b[0;32mfrom\u001b[0m \u001b[0mhypothesis\u001b[0m\u001b[0;34m.\u001b[0m\u001b[0mstrategies\u001b[0m \u001b[0;32mimport\u001b[0m \u001b[0mtext\u001b[0m\u001b[0;34m,\u001b[0m\u001b[0mbuilds\u001b[0m\u001b[0;34m,\u001b[0m\u001b[0mlists\u001b[0m\u001b[0;34m\u001b[0m\u001b[0;34m\u001b[0m\u001b[0m\n\u001b[0;32m----> 3\u001b[0;31m \u001b[0;34m@\u001b[0m\u001b[0mgiven\u001b[0m\u001b[0;34m(\u001b[0m\u001b[0mbuilds\u001b[0m\u001b[0;34m(\u001b[0m\u001b[0mData\u001b[0m\u001b[0;34m,\u001b[0m\u001b[0mdatasets\u001b[0m\u001b[0;34m=\u001b[0m\u001b[0mbuilds\u001b[0m\u001b[0;34m(\u001b[0m\u001b[0mDataSet\u001b[0m\u001b[0;34m,\u001b[0m\u001b[0mlabel\u001b[0m\u001b[0;34m=\u001b[0m\u001b[0mtext\u001b[0m\u001b[0;34m(\u001b[0m\u001b[0;34m)\u001b[0m\u001b[0;34m,\u001b[0m\u001b[0mdata\u001b[0m\u001b[0;34m=\u001b[0m\u001b[0mbuilds\u001b[0m\u001b[0;34m(\u001b[0m\u001b[0mDataPoint\u001b[0m\u001b[0;34m,\u001b[0m\u001b[0mx\u001b[0m\u001b[0;34m=\u001b[0m\u001b[0mfloat\u001b[0m\u001b[0;34m(\u001b[0m\u001b[0;34m)\u001b[0m\u001b[0;34m,\u001b[0m\u001b[0my\u001b[0m\u001b[0;34m=\u001b[0m\u001b[0mfloat\u001b[0m\u001b[0;34m(\u001b[0m\u001b[0;34m)\u001b[0m\u001b[0;34m)\u001b[0m\u001b[0;34m,\u001b[0m\u001b[0mbackgroundColor\u001b[0m\u001b[0;34m=\u001b[0m\u001b[0mtext\u001b[0m\u001b[0;34m(\u001b[0m\u001b[0;34m)\u001b[0m\u001b[0;34m)\u001b[0m\u001b[0;34m)\u001b[0m\u001b[0;34m)\u001b[0m\u001b[0;34m\u001b[0m\u001b[0;34m\u001b[0m\u001b[0m\n\u001b[0m\u001b[1;32m      4\u001b[0m \u001b[0;32mdef\u001b[0m \u001b[0mtest_make_html\u001b[0m\u001b[0;34m(\u001b[0m\u001b[0mdata\u001b[0m\u001b[0;34m)\u001b[0m\u001b[0;34m:\u001b[0m\u001b[0;34m\u001b[0m\u001b[0;34m\u001b[0m\u001b[0m\n\u001b[1;32m      5\u001b[0m     \u001b[0;32massert\u001b[0m \u001b[0mtype\u001b[0m\u001b[0;34m(\u001b[0m\u001b[0mmake_html\u001b[0m\u001b[0;34m(\u001b[0m\u001b[0mdata\u001b[0m\u001b[0;34m)\u001b[0m\u001b[0;34m)\u001b[0m \u001b[0;32mis\u001b[0m \u001b[0mstr\u001b[0m\u001b[0;34m\u001b[0m\u001b[0;34m\u001b[0m\u001b[0m\n",
      "\u001b[0;31mNameError\u001b[0m: name 'Data' is not defined"
     ]
    }
   ],
   "source": [
    "from hypothesis import given\n",
    "from hypothesis.strategies import text,builds,lists\n",
    "\n",
    "@given(builds(Data,datasets=builds(DataSet,label=text(),data=builds(DataPoint,x=float(),y=float()),backgroundColor=text())))\n",
    "def test_make_html(data):\n",
    "    assert type(make_html(data)) is str"
   ]
  },
  {
   "cell_type": "code",
   "execution_count": null,
   "metadata": {},
   "outputs": [],
   "source": []
  }
 ],
 "metadata": {
  "@webio": {
   "lastCommId": null,
   "lastKernelId": null
  },
  "kernelspec": {
   "display_name": "Python 3",
   "language": "python",
   "name": "python3"
  },
  "language_info": {
   "codemirror_mode": {
    "name": "ipython",
    "version": 3
   },
   "file_extension": ".py",
   "mimetype": "text/x-python",
   "name": "python",
   "nbconvert_exporter": "python",
   "pygments_lexer": "ipython3",
   "version": "3.6.7"
  }
 },
 "nbformat": 4,
 "nbformat_minor": 2
}
