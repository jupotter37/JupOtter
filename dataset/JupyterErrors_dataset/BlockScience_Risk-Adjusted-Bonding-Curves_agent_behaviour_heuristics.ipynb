{
 "cells": [
  {
   "cell_type": "markdown",
   "metadata": {},
   "source": [
    "# Agent Behaviour Heuristics"
   ]
  },
  {
   "cell_type": "markdown",
   "metadata": {},
   "source": [
    "## Price in Bonding Curve"
   ]
  },
  {
   "cell_type": "code",
   "execution_count": 1,
   "metadata": {},
   "outputs": [
    {
     "name": "stdout",
     "output_type": "stream",
     "text": [
      "\n",
      "<class 'list'>\n",
      "[1000]\n",
      "\n",
      "Initial Conditions (config.py) :  {'reserve': 300, 'price': 1, 'realized_price': 0, 'spot_price': 1, 'private_price': 0, 'private_alpha': 0, 'kappa': 0, 'supply': 600.0, 'alpha': [0.5], 'supply_0': 200, 'supply_1': 200, 'supply_free': 600.0, 'attestations': 40, 'attestations_0': 20, 'attestations_1': 20, 'invariant_V': 1200.0, 'invariant_I': 650.0, 'agent_attestations_1': 0, 'agent_attestations_0': 0, 'agent_reserve': 50, 'agent_supply': 50, 'agent_supply_1': 10, 'agent_supply_0': 10, 'agent_supply_free': 30}\n",
      "Params (config.py) :  {'starting_kappa': 2, 'starting_alpha': 0.5, 'money_raised': 1000, 'C': 700, 'f': 0.03, 'm': 0.15, 'period': 2000, 'rules_price': 'martin'}\n",
      "Params (config.py) :  {'starting_kappa': 2, 'starting_alpha': 0.5, 'money_raised': 1000, 'C': 700, 'f': 0.03, 'm': 0.15, 'period': 2000, 'rules_price': 'step'}\n",
      "Params (config.py) :  {'starting_kappa': 2, 'starting_alpha': 0.5, 'money_raised': 1000, 'C': 700, 'f': 0.03, 'm': 0.15, 'period': 2000, 'rules_price': 'ramp'}\n",
      "Params (config.py) :  {'starting_kappa': 2, 'starting_alpha': 0.5, 'money_raised': 1000, 'C': 700, 'f': 0.03, 'm': 0.15, 'period': 2000, 'rules_price': 'sin'}\n"
     ]
    }
   ],
   "source": [
    "import sys\n",
    "sys.path.append('../')\n",
    "\n",
    "import matplotlib.pyplot as plt\n",
    "import run2"
   ]
  },
  {
   "cell_type": "code",
   "execution_count": 2,
   "metadata": {},
   "outputs": [
    {
     "name": "stdout",
     "output_type": "stream",
     "text": [
      "Configurations Length: 4\n",
      "Execution Method: local_simulations\n",
      "Execution Mode: parallelized\n",
      "Negative attestation. | alpha =  0.5 private_alpha =  0\n",
      "amt_neg =  25.71871947652138\n",
      "amt_Q0 =  0.42414779089564814\n",
      "Negative attestation. | alpha =  0.5 private_alpha =  0\n",
      "amt_neg =  26.582622071107387\n",
      "amt_Q0 =  0.43824229349004096\n",
      "--------------------------------------\n",
      "Positive attestation. | alpha =  0.5 private_alpha =  0.57\n",
      "amt_pos =  4.019218008240225\n",
      "amt_Q1 =  0.06687515962961577\n",
      "Negative attestation. | alpha =  0.5 private_alpha =  0\n",
      "RESERVE =  300.0  | deltaR =  0.0  | deltaS =  0\n",
      "amt_neg =  25.440091344604117\n",
      "SUPPLY =  600.0  | deltaR =  0  | deltaS =  0.0\n",
      "amt_Q0 =  0.4195999200866529\n",
      "--------------------------------------\n",
      "AGENT RESERVE = 50.0 deltar =  0.0 policy_input['amt_to_bond'] =  0\n",
      "Positive attestation. | alpha =  0.5 private_alpha =  0.56\n",
      "AGENT SUPPLY = 30.0 deltas =  0.0 policy_input['amt_to_burn'] =  0\n",
      "amt_pos =  3.121948099203049\n",
      "SPOT PRICE P (from bondburn update) =  1.0\n",
      "amt_Q1 =  0.051964959394927845\n",
      "RESERVE =  306.25  | deltaR =  0.0  | deltaS =  0\n",
      "SUPPLY =  606.2177826491071  | deltaR =  6.25  | deltaS =  -6.217782649107107\n",
      "AGENT RESERVE = 43.75 deltar =  0.0 policy_input['amt_to_bond'] =  6.25\n",
      "AGENT SUPPLY = 36.21778264910711 deltas =  6.217782649107107 policy_input['amt_to_burn'] =  0\n",
      "SPOT PRICE P (from bondburn update) =  1.0\n",
      "PRICE pbar (from bondburn update) = 1.0051814855409138\n",
      "Negative attestation. | alpha =  0.5 private_alpha =  0\n",
      "amt_neg =  25.290303294569462\n",
      "amt_Q0 =  0.41715460578137353\n",
      "--------------------------------------\n",
      "No attestation. alpha =  0.5 private_alpha =  0.5 s =  50\n",
      "RESERVE =  [300.01963492]  | deltaR =  0.0  | deltaS =  0\n",
      "SUPPLY =  [600.0196346]  | deltaR =  [0.01963492]  | deltaS =  [-0.0196346]\n",
      "AGENT RESERVE = [49.98036508] deltar =  0.0 policy_input['amt_to_bond'] =  [0.01963492]\n",
      "AGENT SUPPLY = [30.0196346] deltas =  [0.0196346] policy_input['amt_to_burn'] =  0\n",
      "SPOT PRICE P (from bondburn update) =  1.0\n",
      "PRICE pbar (from bondburn update) = [1.00001636]\n",
      "ValueError: sim_configs' N must > 0\n"
     ]
    },
    {
     "ename": "TypeError",
     "evalue": "zip argument #1 must support iteration",
     "output_type": "error",
     "traceback": [
      "\u001b[0;31m---------------------------------------------------------------------------\u001b[0m",
      "\u001b[0;31mTypeError\u001b[0m                                 Traceback (most recent call last)",
      "\u001b[0;32m<ipython-input-2-1dc3f75a6cbb>\u001b[0m in \u001b[0;36m<module>\u001b[0;34m\u001b[0m\n\u001b[0;32m----> 1\u001b[0;31m \u001b[0mexp\u001b[0m \u001b[0;34m=\u001b[0m \u001b[0mrun2\u001b[0m\u001b[0;34m.\u001b[0m\u001b[0mrun\u001b[0m\u001b[0;34m(\u001b[0m\u001b[0;34m)\u001b[0m\u001b[0;34m\u001b[0m\u001b[0;34m\u001b[0m\u001b[0m\n\u001b[0m",
      "\u001b[0;32m~/Documents/Github/ICF_Internal/run2.py\u001b[0m in \u001b[0;36mrun\u001b[0;34m(drop_midsteps)\u001b[0m\n\u001b[1;32m     19\u001b[0m     \u001b[0;31m# pprint(configs)\u001b[0m\u001b[0;34m\u001b[0m\u001b[0;34m\u001b[0m\u001b[0;34m\u001b[0m\u001b[0m\n\u001b[1;32m     20\u001b[0m \u001b[0;34m\u001b[0m\u001b[0m\n\u001b[0;32m---> 21\u001b[0;31m     \u001b[0mraw_system_events\u001b[0m\u001b[0;34m,\u001b[0m \u001b[0mtensor_field\u001b[0m\u001b[0;34m,\u001b[0m \u001b[0msessions\u001b[0m \u001b[0;34m=\u001b[0m \u001b[0mrun\u001b[0m\u001b[0;34m.\u001b[0m\u001b[0mexecute\u001b[0m\u001b[0;34m(\u001b[0m\u001b[0;34m)\u001b[0m\u001b[0;34m\u001b[0m\u001b[0;34m\u001b[0m\u001b[0m\n\u001b[0m\u001b[1;32m     22\u001b[0m     \u001b[0msimulation_result\u001b[0m \u001b[0;34m=\u001b[0m \u001b[0mpd\u001b[0m\u001b[0;34m.\u001b[0m\u001b[0mDataFrame\u001b[0m\u001b[0;34m(\u001b[0m\u001b[0mraw_system_events\u001b[0m\u001b[0;34m)\u001b[0m\u001b[0;34m\u001b[0m\u001b[0;34m\u001b[0m\u001b[0m\n\u001b[1;32m     23\u001b[0m     \u001b[0mprint\u001b[0m\u001b[0;34m(\u001b[0m\u001b[0mtype\u001b[0m\u001b[0;34m(\u001b[0m\u001b[0msimulation_result\u001b[0m\u001b[0;34m)\u001b[0m\u001b[0;34m)\u001b[0m\u001b[0;34m\u001b[0m\u001b[0;34m\u001b[0m\u001b[0m\n",
      "\u001b[0;32m/usr/local/lib/python3.7/site-packages/cadCAD/engine/__init__.py\u001b[0m in \u001b[0;36mexecute\u001b[0;34m(self)\u001b[0m\n\u001b[1;32m    130\u001b[0m                 \u001b[0msim_executors\u001b[0m\u001b[0;34m,\u001b[0m \u001b[0mvar_dict_list\u001b[0m\u001b[0;34m,\u001b[0m \u001b[0mstates_lists\u001b[0m\u001b[0;34m,\u001b[0m \u001b[0mconfigs_structs\u001b[0m\u001b[0;34m,\u001b[0m \u001b[0menv_processes_list\u001b[0m\u001b[0;34m,\u001b[0m \u001b[0mTs\u001b[0m\u001b[0;34m,\u001b[0m \u001b[0mSimIDs\u001b[0m\u001b[0;34m,\u001b[0m \u001b[0mRunIDs\u001b[0m \u001b[0;31m#Ns\u001b[0m\u001b[0;34m\u001b[0m\u001b[0;34m\u001b[0m\u001b[0m\n\u001b[1;32m    131\u001b[0m             )\n\u001b[0;32m--> 132\u001b[0;31m             \u001b[0;32mreturn\u001b[0m \u001b[0mget_final_results\u001b[0m\u001b[0;34m(\u001b[0m\u001b[0msimulations_results\u001b[0m\u001b[0;34m,\u001b[0m \u001b[0mpartial_state_updates\u001b[0m\u001b[0;34m,\u001b[0m \u001b[0meps\u001b[0m\u001b[0;34m,\u001b[0m \u001b[0msessions\u001b[0m\u001b[0;34m,\u001b[0m \u001b[0mremote_threshold\u001b[0m\u001b[0;34m)\u001b[0m\u001b[0;34m\u001b[0m\u001b[0;34m\u001b[0m\u001b[0m\n\u001b[0m\u001b[1;32m    133\u001b[0m         \u001b[0;32melif\u001b[0m \u001b[0mself\u001b[0m\u001b[0;34m.\u001b[0m\u001b[0mexec_context\u001b[0m \u001b[0;34m==\u001b[0m \u001b[0mExecutionMode\u001b[0m\u001b[0;34m.\u001b[0m\u001b[0mdistributed\u001b[0m\u001b[0;34m:\u001b[0m\u001b[0;34m\u001b[0m\u001b[0;34m\u001b[0m\u001b[0m\n\u001b[1;32m    134\u001b[0m             \u001b[0mprint\u001b[0m\u001b[0;34m(\u001b[0m\u001b[0;34m\"Execution Method: \"\u001b[0m \u001b[0;34m+\u001b[0m \u001b[0mself\u001b[0m\u001b[0;34m.\u001b[0m\u001b[0mexec_method\u001b[0m\u001b[0;34m.\u001b[0m\u001b[0m__name__\u001b[0m\u001b[0;34m)\u001b[0m\u001b[0;34m\u001b[0m\u001b[0;34m\u001b[0m\u001b[0m\n",
      "\u001b[0;32m/usr/local/lib/python3.7/site-packages/cadCAD/engine/__init__.py\u001b[0m in \u001b[0;36mget_final_results\u001b[0;34m(simulations, psus, eps, sessions, remote_threshold)\u001b[0m\n\u001b[1;32m     95\u001b[0m         \u001b[0;32mdef\u001b[0m \u001b[0mget_final_results\u001b[0m\u001b[0;34m(\u001b[0m\u001b[0msimulations\u001b[0m\u001b[0;34m,\u001b[0m \u001b[0mpsus\u001b[0m\u001b[0;34m,\u001b[0m \u001b[0meps\u001b[0m\u001b[0;34m,\u001b[0m \u001b[0msessions\u001b[0m\u001b[0;34m,\u001b[0m \u001b[0mremote_threshold\u001b[0m\u001b[0;34m)\u001b[0m\u001b[0;34m:\u001b[0m\u001b[0;34m\u001b[0m\u001b[0;34m\u001b[0m\u001b[0m\n\u001b[1;32m     96\u001b[0m             \u001b[0mflat_timesteps\u001b[0m\u001b[0;34m,\u001b[0m \u001b[0mtensor_fields\u001b[0m \u001b[0;34m=\u001b[0m \u001b[0;34m[\u001b[0m\u001b[0;34m]\u001b[0m\u001b[0;34m,\u001b[0m \u001b[0;34m[\u001b[0m\u001b[0;34m]\u001b[0m\u001b[0;34m\u001b[0m\u001b[0;34m\u001b[0m\u001b[0m\n\u001b[0;32m---> 97\u001b[0;31m             \u001b[0;32mfor\u001b[0m \u001b[0msim_result\u001b[0m\u001b[0;34m,\u001b[0m \u001b[0mpsu\u001b[0m\u001b[0;34m,\u001b[0m \u001b[0mep\u001b[0m \u001b[0;32min\u001b[0m \u001b[0mlist\u001b[0m\u001b[0;34m(\u001b[0m\u001b[0mzip\u001b[0m\u001b[0;34m(\u001b[0m\u001b[0msimulations\u001b[0m\u001b[0;34m,\u001b[0m \u001b[0mpsus\u001b[0m\u001b[0;34m,\u001b[0m \u001b[0meps\u001b[0m\u001b[0;34m)\u001b[0m\u001b[0;34m)\u001b[0m\u001b[0;34m:\u001b[0m\u001b[0;34m\u001b[0m\u001b[0;34m\u001b[0m\u001b[0m\n\u001b[0m\u001b[1;32m     98\u001b[0m                 \u001b[0mflat_timesteps\u001b[0m\u001b[0;34m.\u001b[0m\u001b[0mappend\u001b[0m\u001b[0;34m(\u001b[0m\u001b[0mflatten\u001b[0m\u001b[0;34m(\u001b[0m\u001b[0msim_result\u001b[0m\u001b[0;34m)\u001b[0m\u001b[0;34m)\u001b[0m\u001b[0;34m\u001b[0m\u001b[0;34m\u001b[0m\u001b[0m\n\u001b[1;32m     99\u001b[0m                 \u001b[0mtensor_fields\u001b[0m\u001b[0;34m.\u001b[0m\u001b[0mappend\u001b[0m\u001b[0;34m(\u001b[0m\u001b[0mcreate_tensor_field\u001b[0m\u001b[0;34m(\u001b[0m\u001b[0mpsu\u001b[0m\u001b[0;34m,\u001b[0m \u001b[0mep\u001b[0m\u001b[0;34m)\u001b[0m\u001b[0;34m)\u001b[0m\u001b[0;34m\u001b[0m\u001b[0;34m\u001b[0m\u001b[0m\n",
      "\u001b[0;31mTypeError\u001b[0m: zip argument #1 must support iteration"
     ]
    }
   ],
   "source": [
    "exp = run2.run()"
   ]
  },
  {
   "cell_type": "code",
   "execution_count": null,
   "metadata": {},
   "outputs": [],
   "source": []
  }
 ],
 "metadata": {
  "kernelspec": {
   "display_name": "Python 3",
   "language": "python",
   "name": "python3"
  },
  "language_info": {
   "codemirror_mode": {
    "name": "ipython",
    "version": 3
   },
   "file_extension": ".py",
   "mimetype": "text/x-python",
   "name": "python",
   "nbconvert_exporter": "python",
   "pygments_lexer": "ipython3",
   "version": "3.7.4"
  }
 },
 "nbformat": 4,
 "nbformat_minor": 4
}
