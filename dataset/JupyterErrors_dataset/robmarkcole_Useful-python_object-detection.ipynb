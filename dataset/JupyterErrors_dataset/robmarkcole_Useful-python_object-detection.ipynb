{
 "cells": [
  {
   "cell_type": "markdown",
   "metadata": {},
   "source": [
    "## Model\n",
    "* Extract code from https://github.com/tensorflow/examples/blob/master/lite/examples/object_detection/raspberry_pi/detect_picamera.py\n",
    "* Also see https://www.tensorflow.org/lite/guide/python\n",
    "\n",
    "First download the model files using the shell script, make sure you have permissions first:"
   ]
  },
  {
   "cell_type": "code",
   "execution_count": 1,
   "metadata": {},
   "outputs": [],
   "source": [
    "!chmod 755 download.sh"
   ]
  },
  {
   "cell_type": "code",
   "execution_count": 2,
   "metadata": {},
   "outputs": [
    {
     "name": "stdout",
     "output_type": "stream",
     "text": [
      "\n",
      "Archive:  coco_ssd_mobilenet_v1_1.0_quant_2018_06_29.zip\n",
      "  inflating: /tmp/detect.tflite      \n",
      "  inflating: /tmp/labelmap.txt       \n",
      "\n",
      "\n",
      "Files downloaded to /tmp\n"
     ]
    }
   ],
   "source": [
    "!./download.sh"
   ]
  },
  {
   "cell_type": "code",
   "execution_count": 3,
   "metadata": {},
   "outputs": [
    {
     "name": "stdout",
     "output_type": "stream",
     "text": [
      "coco_labels.txt\n",
      "\u001b[34mcom.apple.launchd.0LAg8LBzCK\u001b[m\u001b[m\n",
      "\u001b[34mcom.apple.launchd.KtS5mrFMrY\u001b[m\u001b[m\n",
      "detect.tflite\n",
      "mobilenet_ssd_v2_coco_quant_postprocess_edgetpu.tflite\n",
      "\u001b[34mpowerlog\u001b[m\u001b[m\n"
     ]
    }
   ],
   "source": [
    "!ls /tmp"
   ]
  },
  {
   "cell_type": "markdown",
   "metadata": {},
   "source": [
    "Install latest tensorflow"
   ]
  },
  {
   "cell_type": "code",
   "execution_count": 1,
   "metadata": {},
   "outputs": [],
   "source": [
    "# !pip install --user --upgrade tensorflow  # install in $HOME"
   ]
  },
  {
   "cell_type": "code",
   "execution_count": 13,
   "metadata": {},
   "outputs": [],
   "source": [
    "import numpy as np\n",
    "import re\n",
    "from PIL import Image\n",
    "import tensorflow as tf # TF2"
   ]
  },
  {
   "cell_type": "code",
   "execution_count": 14,
   "metadata": {},
   "outputs": [
    {
     "data": {
      "text/plain": [
       "'2.0.0'"
      ]
     },
     "execution_count": 14,
     "metadata": {},
     "output_type": "execute_result"
    }
   ],
   "source": [
    "tf.__version__"
   ]
  },
  {
   "cell_type": "code",
   "execution_count": 15,
   "metadata": {},
   "outputs": [],
   "source": [
    "def load_labels(path):\n",
    "    \"\"\"Loads the labels file. Supports files with or without index numbers.\"\"\"\n",
    "    with open(path, 'r', encoding='utf-8') as f:\n",
    "        lines = f.readlines()\n",
    "        labels = {}\n",
    "        for row_number, content in enumerate(lines):\n",
    "            pair = re.split(r'[:\\s]+', content.strip(), maxsplit=1)\n",
    "            if len(pair) == 2 and pair[0].strip().isdigit():\n",
    "                labels[int(pair[0])] = pair[1].strip()\n",
    "            else:\n",
    "                labels[row_number] = pair[0].strip()\n",
    "    return labels"
   ]
  },
  {
   "cell_type": "code",
   "execution_count": 16,
   "metadata": {},
   "outputs": [],
   "source": [
    "model_path = '/tmp/mobilenet_ssd_v2_coco_quant_postprocess_edgetpu.tflite'\n",
    "labels_path = '/tmp/coco_labels.txt'"
   ]
  },
  {
   "cell_type": "code",
   "execution_count": 17,
   "metadata": {},
   "outputs": [],
   "source": [
    "labels = load_labels(labels_path)"
   ]
  },
  {
   "cell_type": "code",
   "execution_count": 20,
   "metadata": {},
   "outputs": [
    {
     "data": {
      "text/plain": [
       "{0: 'person',\n",
       " 1: 'bicycle',\n",
       " 2: 'car',\n",
       " 3: 'motorcycle',\n",
       " 4: 'airplane',\n",
       " 5: 'bus',\n",
       " 6: 'train',\n",
       " 7: 'truck',\n",
       " 8: 'boat',\n",
       " 9: 'traffic light',\n",
       " 10: 'fire hydrant',\n",
       " 12: 'stop sign',\n",
       " 13: 'parking meter',\n",
       " 14: 'bench',\n",
       " 15: 'bird',\n",
       " 16: 'cat',\n",
       " 17: 'dog',\n",
       " 18: 'horse',\n",
       " 19: 'sheep',\n",
       " 20: 'cow',\n",
       " 21: 'elephant',\n",
       " 22: 'bear',\n",
       " 23: 'zebra',\n",
       " 24: 'giraffe',\n",
       " 26: 'backpack',\n",
       " 27: 'umbrella',\n",
       " 30: 'handbag',\n",
       " 31: 'tie',\n",
       " 32: 'suitcase',\n",
       " 33: 'frisbee',\n",
       " 34: 'skis',\n",
       " 35: 'snowboard',\n",
       " 36: 'sports ball',\n",
       " 37: 'kite',\n",
       " 38: 'baseball bat',\n",
       " 39: 'baseball glove',\n",
       " 40: 'skateboard',\n",
       " 41: 'surfboard',\n",
       " 42: 'tennis racket',\n",
       " 43: 'bottle',\n",
       " 45: 'wine glass',\n",
       " 46: 'cup',\n",
       " 47: 'fork',\n",
       " 48: 'knife',\n",
       " 49: 'spoon',\n",
       " 50: 'bowl',\n",
       " 51: 'banana',\n",
       " 52: 'apple',\n",
       " 53: 'sandwich',\n",
       " 54: 'orange',\n",
       " 55: 'broccoli',\n",
       " 56: 'carrot',\n",
       " 57: 'hot dog',\n",
       " 58: 'pizza',\n",
       " 59: 'donut',\n",
       " 60: 'cake',\n",
       " 61: 'chair',\n",
       " 62: 'couch',\n",
       " 63: 'potted plant',\n",
       " 64: 'bed',\n",
       " 66: 'dining table',\n",
       " 69: 'toilet',\n",
       " 71: 'tv',\n",
       " 72: 'laptop',\n",
       " 73: 'mouse',\n",
       " 74: 'remote',\n",
       " 75: 'keyboard',\n",
       " 76: 'cell phone',\n",
       " 77: 'microwave',\n",
       " 78: 'oven',\n",
       " 79: 'toaster',\n",
       " 80: 'sink',\n",
       " 81: 'refrigerator',\n",
       " 83: 'book',\n",
       " 84: 'clock',\n",
       " 85: 'vase',\n",
       " 86: 'scissors',\n",
       " 87: 'teddy bear',\n",
       " 88: 'hair drier',\n",
       " 89: 'toothbrush'}"
      ]
     },
     "execution_count": 20,
     "metadata": {},
     "output_type": "execute_result"
    }
   ],
   "source": [
    "labels"
   ]
  },
  {
   "cell_type": "code",
   "execution_count": 8,
   "metadata": {},
   "outputs": [],
   "source": [
    "interpreter = tf.lite.Interpreter(model_path=model_path)"
   ]
  },
  {
   "cell_type": "code",
   "execution_count": 22,
   "metadata": {},
   "outputs": [
    {
     "ename": "RuntimeError",
     "evalue": "There is at least 1 reference to internal data\n      in the interpreter in the form of a numpy array or slice. Be sure to\n      only hold the function returned from tensor() if you are using raw\n      data access.",
     "output_type": "error",
     "traceback": [
      "\u001b[0;31m---------------------------------------------------------------------------\u001b[0m",
      "\u001b[0;31mRuntimeError\u001b[0m                              Traceback (most recent call last)",
      "\u001b[0;32m<ipython-input-22-e8f284b41149>\u001b[0m in \u001b[0;36m<module>\u001b[0;34m\u001b[0m\n\u001b[0;32m----> 1\u001b[0;31m \u001b[0minterpreter\u001b[0m\u001b[0;34m.\u001b[0m\u001b[0mallocate_tensors\u001b[0m\u001b[0;34m(\u001b[0m\u001b[0;34m)\u001b[0m\u001b[0;34m\u001b[0m\u001b[0;34m\u001b[0m\u001b[0m\n\u001b[0m",
      "\u001b[0;32m~/.local/lib/python3.7/site-packages/tensorflow_core/lite/python/interpreter.py\u001b[0m in \u001b[0;36mallocate_tensors\u001b[0;34m(self)\u001b[0m\n\u001b[1;32m    241\u001b[0m \u001b[0;34m\u001b[0m\u001b[0m\n\u001b[1;32m    242\u001b[0m   \u001b[0;32mdef\u001b[0m \u001b[0mallocate_tensors\u001b[0m\u001b[0;34m(\u001b[0m\u001b[0mself\u001b[0m\u001b[0;34m)\u001b[0m\u001b[0;34m:\u001b[0m\u001b[0;34m\u001b[0m\u001b[0;34m\u001b[0m\u001b[0m\n\u001b[0;32m--> 243\u001b[0;31m     \u001b[0mself\u001b[0m\u001b[0;34m.\u001b[0m\u001b[0m_ensure_safe\u001b[0m\u001b[0;34m(\u001b[0m\u001b[0;34m)\u001b[0m\u001b[0;34m\u001b[0m\u001b[0;34m\u001b[0m\u001b[0m\n\u001b[0m\u001b[1;32m    244\u001b[0m     \u001b[0;32mreturn\u001b[0m \u001b[0mself\u001b[0m\u001b[0;34m.\u001b[0m\u001b[0m_interpreter\u001b[0m\u001b[0;34m.\u001b[0m\u001b[0mAllocateTensors\u001b[0m\u001b[0;34m(\u001b[0m\u001b[0;34m)\u001b[0m\u001b[0;34m\u001b[0m\u001b[0;34m\u001b[0m\u001b[0m\n\u001b[1;32m    245\u001b[0m \u001b[0;34m\u001b[0m\u001b[0m\n",
      "\u001b[0;32m~/.local/lib/python3.7/site-packages/tensorflow_core/lite/python/interpreter.py\u001b[0m in \u001b[0;36m_ensure_safe\u001b[0;34m(self)\u001b[0m\n\u001b[1;32m    270\u001b[0m       \u001b[0;32min\u001b[0m \u001b[0mthe\u001b[0m \u001b[0minterpreter\u001b[0m \u001b[0;32min\u001b[0m \u001b[0mthe\u001b[0m \u001b[0mform\u001b[0m \u001b[0mof\u001b[0m \u001b[0ma\u001b[0m \u001b[0mnumpy\u001b[0m \u001b[0marray\u001b[0m \u001b[0;32mor\u001b[0m \u001b[0mslice\u001b[0m\u001b[0;34m.\u001b[0m \u001b[0mBe\u001b[0m \u001b[0msure\u001b[0m \u001b[0mto\u001b[0m\u001b[0;34m\u001b[0m\u001b[0;34m\u001b[0m\u001b[0m\n\u001b[1;32m    271\u001b[0m       \u001b[0monly\u001b[0m \u001b[0mhold\u001b[0m \u001b[0mthe\u001b[0m \u001b[0mfunction\u001b[0m \u001b[0mreturned\u001b[0m \u001b[0;32mfrom\u001b[0m \u001b[0mtensor\u001b[0m\u001b[0;34m(\u001b[0m\u001b[0;34m)\u001b[0m \u001b[0;32mif\u001b[0m \u001b[0myou\u001b[0m \u001b[0mare\u001b[0m \u001b[0musing\u001b[0m \u001b[0mraw\u001b[0m\u001b[0;34m\u001b[0m\u001b[0;34m\u001b[0m\u001b[0m\n\u001b[0;32m--> 272\u001b[0;31m       data access.\"\"\")\n\u001b[0m\u001b[1;32m    273\u001b[0m \u001b[0;34m\u001b[0m\u001b[0m\n\u001b[1;32m    274\u001b[0m   \u001b[0;32mdef\u001b[0m \u001b[0m_get_tensor_details\u001b[0m\u001b[0;34m(\u001b[0m\u001b[0mself\u001b[0m\u001b[0;34m,\u001b[0m \u001b[0mtensor_index\u001b[0m\u001b[0;34m)\u001b[0m\u001b[0;34m:\u001b[0m\u001b[0;34m\u001b[0m\u001b[0;34m\u001b[0m\u001b[0m\n",
      "\u001b[0;31mRuntimeError\u001b[0m: There is at least 1 reference to internal data\n      in the interpreter in the form of a numpy array or slice. Be sure to\n      only hold the function returned from tensor() if you are using raw\n      data access."
     ]
    }
   ],
   "source": [
    "interpreter.allocate_tensors()"
   ]
  },
  {
   "cell_type": "markdown",
   "metadata": {},
   "source": [
    "Try on linux"
   ]
  },
  {
   "cell_type": "code",
   "execution_count": null,
   "metadata": {},
   "outputs": [],
   "source": []
  }
 ],
 "metadata": {
  "kernelspec": {
   "display_name": "Python 3",
   "language": "python",
   "name": "python3"
  },
  "language_info": {
   "codemirror_mode": {
    "name": "ipython",
    "version": 3
   },
   "file_extension": ".py",
   "mimetype": "text/x-python",
   "name": "python",
   "nbconvert_exporter": "python",
   "pygments_lexer": "ipython3",
   "version": "3.7.3"
  }
 },
 "nbformat": 4,
 "nbformat_minor": 4
}
