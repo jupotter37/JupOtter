{
 "cells": [
  {
   "cell_type": "markdown",
   "metadata": {},
   "source": [
    "# Explore CSV files and format fields to streamline the integration in a SQL DB"
   ]
  },
  {
   "cell_type": "markdown",
   "metadata": {},
   "source": [
    "Most date fields in our csv are not formatted in the way MySQL expect to find them (_expected format is `YYYY-MM-DD`_). If one wants to use SQL to interface with the data, some pre-processing is required.\n",
    "\n",
    "**Note**: all the table from the original archive contain a comma at the end of the header. This mess up with `pandas` and other data wrangling tool. I copied the original data in files prefix with `DG_` that I use below to process the dates. _e.g._ `WATER-SYSTEM.csv` becomes `DG_WATER_SYSTEM.csv` with a first header row which DOES NOT terminate by a comma."
   ]
  },
  {
   "cell_type": "code",
   "execution_count": 288,
   "metadata": {
    "collapsed": true
   },
   "outputs": [],
   "source": [
    "from os.path import join\n",
    "import uuid\n",
    "\n",
    "import pandas as pd\n",
    "from datetime import datetime as dt"
   ]
  },
  {
   "cell_type": "markdown",
   "metadata": {},
   "source": [
    "**Important**: Update the global variable below with the absolute path to the folder containing all the csv files."
   ]
  },
  {
   "cell_type": "code",
   "execution_count": 97,
   "metadata": {
    "collapsed": true
   },
   "outputs": [],
   "source": [
    "PATH_TO_DATA_FOLDER = \"/Users/fpaupier/projects/safe-water/data/SDWIS/\""
   ]
  },
  {
   "cell_type": "markdown",
   "metadata": {},
   "source": [
    "## `WATER_SYSTEM` table"
   ]
  },
  {
   "cell_type": "markdown",
   "metadata": {},
   "source": [
    "There are 5 dates fields in this table. With two types of formatting:\n",
    "\n",
    "1. Date formatted in `dd-mm-yy` _e.g `01-JUN-83` for June 1, 1983_. Fields encoded with this date format are:\n",
    "    - `OUTSTANDING_PERFORM_BEGIN_DATE`\n",
    "    - `PWS_DEACTIVATION_DATE`\n",
    "    - `SOURCE_PROTECTION_BEGIN_DATE`\n",
    "    \n",
    "    Note that this formatting is ambiguous about the year. \n",
    "    --> Dates fromatted that way will be converted to the MySQL friendly date format `YYY-MM-DD`.\n",
    "    \n",
    "    \n",
    "2. Dates are also formatted with the `MM-DD` format, fields encoded that way are:\n",
    "     - `SEASON_BEGIN_DATE` formatted in `MM-DD`\n",
    "     - `SEASON_END_DATE` formatted in `MM-DD`\n",
    "     \n",
    "     Note that those dates inform on year-recurring events, they occur every years. We keep them as raw text fields. Fine grained processing of those dates will be done by consumers applications.\n",
    "     \n"
   ]
  },
  {
   "cell_type": "markdown",
   "metadata": {},
   "source": [
    "## Load and format data"
   ]
  },
  {
   "cell_type": "code",
   "execution_count": 236,
   "metadata": {
    "collapsed": true
   },
   "outputs": [],
   "source": [
    "OUTSTANDING_PERFORM_BEGIN_DATE_idx = 44\n",
    "PWS_DEACTIVATION_DATE_idx = 8\n",
    "SOURCE_PROTECTION_BEGIN_DATE_idx = 42"
   ]
  },
  {
   "cell_type": "code",
   "execution_count": 237,
   "metadata": {
    "collapsed": true,
    "scrolled": true
   },
   "outputs": [],
   "source": [
    "df = pd.read_csv(join(PATH_TO_DATA_FOLDER, \"DG_WATER_SYSTEM.csv\"),\n",
    "                 sep=\",\",\n",
    "                 header=0,\n",
    "                 index_col=0,\n",
    "                 encoding=\"utf-8\",\n",
    "                 low_memory=False, #To avoid type inference\n",
    "                 parse_dates=[PWS_DEACTIVATION_DATE_idx, SOURCE_PROTECTION_BEGIN_DATE_idx, OUTSTANDING_PERFORM_BEGIN_DATE_idx])\n",
    "\n",
    "\n"
   ]
  },
  {
   "cell_type": "code",
   "execution_count": 238,
   "metadata": {
    "scrolled": false
   },
   "outputs": [
    {
     "data": {
      "text/html": [
       "<div>\n",
       "<style scoped>\n",
       "    .dataframe tbody tr th:only-of-type {\n",
       "        vertical-align: middle;\n",
       "    }\n",
       "\n",
       "    .dataframe tbody tr th {\n",
       "        vertical-align: top;\n",
       "    }\n",
       "\n",
       "    .dataframe thead th {\n",
       "        text-align: right;\n",
       "    }\n",
       "</style>\n",
       "<table border=\"1\" class=\"dataframe\">\n",
       "  <thead>\n",
       "    <tr style=\"text-align: right;\">\n",
       "      <th></th>\n",
       "      <th>WATER_SYSTEM.PWS_NAME</th>\n",
       "      <th>WATER_SYSTEM.NPM_CANDIDATE</th>\n",
       "      <th>WATER_SYSTEM.PRIMACY_AGENCY_CODE</th>\n",
       "      <th>WATER_SYSTEM.EPA_REGION</th>\n",
       "      <th>WATER_SYSTEM.SEASON_BEGIN_DATE</th>\n",
       "      <th>WATER_SYSTEM.SEASON_END_DATE</th>\n",
       "      <th>WATER_SYSTEM.PWS_ACTIVITY_CODE</th>\n",
       "      <th>WATER_SYSTEM.PWS_DEACTIVATION_DATE</th>\n",
       "      <th>WATER_SYSTEM.PWS_TYPE_CODE</th>\n",
       "      <th>WATER_SYSTEM.DBPR_SCHEDULE_CAT_CODE</th>\n",
       "      <th>...</th>\n",
       "      <th>WATER_SYSTEM.CITY_NAME</th>\n",
       "      <th>WATER_SYSTEM.ZIP_CODE</th>\n",
       "      <th>WATER_SYSTEM.COUNTRY_CODE</th>\n",
       "      <th>WATER_SYSTEM.STATE_CODE</th>\n",
       "      <th>WATER_SYSTEM.SOURCE_WATER_PROTECTION_CODE</th>\n",
       "      <th>WATER_SYSTEM.SOURCE_PROTECTION_BEGIN_DATE</th>\n",
       "      <th>WATER_SYSTEM.OUTSTANDING_PERFORMER</th>\n",
       "      <th>WATER_SYSTEM.OUTSTANDING_PERFORM_BEGIN_DATE</th>\n",
       "      <th>WATER_SYSTEM.CITIES_SERVED</th>\n",
       "      <th>WATER_SYSTEM.COUNTIES_SERVED</th>\n",
       "    </tr>\n",
       "    <tr>\n",
       "      <th>WATER_SYSTEM.PWSID</th>\n",
       "      <th></th>\n",
       "      <th></th>\n",
       "      <th></th>\n",
       "      <th></th>\n",
       "      <th></th>\n",
       "      <th></th>\n",
       "      <th></th>\n",
       "      <th></th>\n",
       "      <th></th>\n",
       "      <th></th>\n",
       "      <th></th>\n",
       "      <th></th>\n",
       "      <th></th>\n",
       "      <th></th>\n",
       "      <th></th>\n",
       "      <th></th>\n",
       "      <th></th>\n",
       "      <th></th>\n",
       "      <th></th>\n",
       "      <th></th>\n",
       "      <th></th>\n",
       "    </tr>\n",
       "  </thead>\n",
       "  <tbody>\n",
       "    <tr>\n",
       "      <th>AR1900063</th>\n",
       "      <td>USCOE BSWP118 PONTIAC</td>\n",
       "      <td>N</td>\n",
       "      <td>AR</td>\n",
       "      <td>6</td>\n",
       "      <td>01-01</td>\n",
       "      <td>12-31</td>\n",
       "      <td>I</td>\n",
       "      <td>1983-06-01</td>\n",
       "      <td>TNCWS</td>\n",
       "      <td>NaN</td>\n",
       "      <td>...</td>\n",
       "      <td>LITTLE ROCK</td>\n",
       "      <td>72203</td>\n",
       "      <td>US</td>\n",
       "      <td>AR</td>\n",
       "      <td>NaN</td>\n",
       "      <td>NaT</td>\n",
       "      <td>NaN</td>\n",
       "      <td>NaT</td>\n",
       "      <td>Not Reported</td>\n",
       "      <td>Marion</td>\n",
       "    </tr>\n",
       "    <tr>\n",
       "      <th>AR1900071</th>\n",
       "      <td>USCOE BSWP126 HIGHWAY K</td>\n",
       "      <td>N</td>\n",
       "      <td>AR</td>\n",
       "      <td>6</td>\n",
       "      <td>01-01</td>\n",
       "      <td>12-31</td>\n",
       "      <td>I</td>\n",
       "      <td>1983-06-01</td>\n",
       "      <td>TNCWS</td>\n",
       "      <td>NaN</td>\n",
       "      <td>...</td>\n",
       "      <td>LITTLE ROCK</td>\n",
       "      <td>72203</td>\n",
       "      <td>US</td>\n",
       "      <td>AR</td>\n",
       "      <td>NaN</td>\n",
       "      <td>NaT</td>\n",
       "      <td>NaN</td>\n",
       "      <td>NaT</td>\n",
       "      <td>Not Reported</td>\n",
       "      <td>Marion</td>\n",
       "    </tr>\n",
       "    <tr>\n",
       "      <th>AR1900072</th>\n",
       "      <td>USCOE BSW127 LOWERY</td>\n",
       "      <td>N</td>\n",
       "      <td>AR</td>\n",
       "      <td>6</td>\n",
       "      <td>01-01</td>\n",
       "      <td>12-31</td>\n",
       "      <td>I</td>\n",
       "      <td>1983-06-01</td>\n",
       "      <td>TNCWS</td>\n",
       "      <td>NaN</td>\n",
       "      <td>...</td>\n",
       "      <td>LITTLE ROCK</td>\n",
       "      <td>72203</td>\n",
       "      <td>US</td>\n",
       "      <td>AR</td>\n",
       "      <td>NaN</td>\n",
       "      <td>NaT</td>\n",
       "      <td>NaN</td>\n",
       "      <td>NaT</td>\n",
       "      <td>Not Reported</td>\n",
       "      <td>Marion</td>\n",
       "    </tr>\n",
       "    <tr>\n",
       "      <th>AR1900075</th>\n",
       "      <td>USCOE GFW02 DAM SITE</td>\n",
       "      <td>N</td>\n",
       "      <td>AR</td>\n",
       "      <td>6</td>\n",
       "      <td>01-01</td>\n",
       "      <td>12-31</td>\n",
       "      <td>I</td>\n",
       "      <td>1983-06-01</td>\n",
       "      <td>TNCWS</td>\n",
       "      <td>NaN</td>\n",
       "      <td>...</td>\n",
       "      <td>LITTLE ROCK</td>\n",
       "      <td>72203</td>\n",
       "      <td>US</td>\n",
       "      <td>AR</td>\n",
       "      <td>NaN</td>\n",
       "      <td>NaT</td>\n",
       "      <td>NaN</td>\n",
       "      <td>NaT</td>\n",
       "      <td>Not Reported</td>\n",
       "      <td>Cleburne</td>\n",
       "    </tr>\n",
       "    <tr>\n",
       "      <th>AR1900076</th>\n",
       "      <td>USCOE GFW03 DAM SITE</td>\n",
       "      <td>N</td>\n",
       "      <td>AR</td>\n",
       "      <td>6</td>\n",
       "      <td>01-01</td>\n",
       "      <td>12-31</td>\n",
       "      <td>I</td>\n",
       "      <td>1983-06-01</td>\n",
       "      <td>TNCWS</td>\n",
       "      <td>NaN</td>\n",
       "      <td>...</td>\n",
       "      <td>LITTLE ROCK</td>\n",
       "      <td>72203</td>\n",
       "      <td>US</td>\n",
       "      <td>AR</td>\n",
       "      <td>NaN</td>\n",
       "      <td>NaT</td>\n",
       "      <td>NaN</td>\n",
       "      <td>NaT</td>\n",
       "      <td>Not Reported</td>\n",
       "      <td>Cleburne</td>\n",
       "    </tr>\n",
       "  </tbody>\n",
       "</table>\n",
       "<p>5 rows × 46 columns</p>\n",
       "</div>"
      ],
      "text/plain": [
       "                      WATER_SYSTEM.PWS_NAME WATER_SYSTEM.NPM_CANDIDATE  \\\n",
       "WATER_SYSTEM.PWSID                                                       \n",
       "AR1900063             USCOE BSWP118 PONTIAC                          N   \n",
       "AR1900071           USCOE BSWP126 HIGHWAY K                          N   \n",
       "AR1900072               USCOE BSW127 LOWERY                          N   \n",
       "AR1900075              USCOE GFW02 DAM SITE                          N   \n",
       "AR1900076              USCOE GFW03 DAM SITE                          N   \n",
       "\n",
       "                   WATER_SYSTEM.PRIMACY_AGENCY_CODE  WATER_SYSTEM.EPA_REGION  \\\n",
       "WATER_SYSTEM.PWSID                                                             \n",
       "AR1900063                                        AR                        6   \n",
       "AR1900071                                        AR                        6   \n",
       "AR1900072                                        AR                        6   \n",
       "AR1900075                                        AR                        6   \n",
       "AR1900076                                        AR                        6   \n",
       "\n",
       "                   WATER_SYSTEM.SEASON_BEGIN_DATE  \\\n",
       "WATER_SYSTEM.PWSID                                  \n",
       "AR1900063                                   01-01   \n",
       "AR1900071                                   01-01   \n",
       "AR1900072                                   01-01   \n",
       "AR1900075                                   01-01   \n",
       "AR1900076                                   01-01   \n",
       "\n",
       "                   WATER_SYSTEM.SEASON_END_DATE  \\\n",
       "WATER_SYSTEM.PWSID                                \n",
       "AR1900063                                 12-31   \n",
       "AR1900071                                 12-31   \n",
       "AR1900072                                 12-31   \n",
       "AR1900075                                 12-31   \n",
       "AR1900076                                 12-31   \n",
       "\n",
       "                   WATER_SYSTEM.PWS_ACTIVITY_CODE  \\\n",
       "WATER_SYSTEM.PWSID                                  \n",
       "AR1900063                                       I   \n",
       "AR1900071                                       I   \n",
       "AR1900072                                       I   \n",
       "AR1900075                                       I   \n",
       "AR1900076                                       I   \n",
       "\n",
       "                   WATER_SYSTEM.PWS_DEACTIVATION_DATE  \\\n",
       "WATER_SYSTEM.PWSID                                      \n",
       "AR1900063                                  1983-06-01   \n",
       "AR1900071                                  1983-06-01   \n",
       "AR1900072                                  1983-06-01   \n",
       "AR1900075                                  1983-06-01   \n",
       "AR1900076                                  1983-06-01   \n",
       "\n",
       "                   WATER_SYSTEM.PWS_TYPE_CODE  \\\n",
       "WATER_SYSTEM.PWSID                              \n",
       "AR1900063                               TNCWS   \n",
       "AR1900071                               TNCWS   \n",
       "AR1900072                               TNCWS   \n",
       "AR1900075                               TNCWS   \n",
       "AR1900076                               TNCWS   \n",
       "\n",
       "                    WATER_SYSTEM.DBPR_SCHEDULE_CAT_CODE  ...  \\\n",
       "WATER_SYSTEM.PWSID                                       ...   \n",
       "AR1900063                                           NaN  ...   \n",
       "AR1900071                                           NaN  ...   \n",
       "AR1900072                                           NaN  ...   \n",
       "AR1900075                                           NaN  ...   \n",
       "AR1900076                                           NaN  ...   \n",
       "\n",
       "                   WATER_SYSTEM.CITY_NAME WATER_SYSTEM.ZIP_CODE  \\\n",
       "WATER_SYSTEM.PWSID                                                \n",
       "AR1900063                     LITTLE ROCK                 72203   \n",
       "AR1900071                     LITTLE ROCK                 72203   \n",
       "AR1900072                     LITTLE ROCK                 72203   \n",
       "AR1900075                     LITTLE ROCK                 72203   \n",
       "AR1900076                     LITTLE ROCK                 72203   \n",
       "\n",
       "                    WATER_SYSTEM.COUNTRY_CODE WATER_SYSTEM.STATE_CODE  \\\n",
       "WATER_SYSTEM.PWSID                                                      \n",
       "AR1900063                                  US                      AR   \n",
       "AR1900071                                  US                      AR   \n",
       "AR1900072                                  US                      AR   \n",
       "AR1900075                                  US                      AR   \n",
       "AR1900076                                  US                      AR   \n",
       "\n",
       "                    WATER_SYSTEM.SOURCE_WATER_PROTECTION_CODE  \\\n",
       "WATER_SYSTEM.PWSID                                              \n",
       "AR1900063                                                 NaN   \n",
       "AR1900071                                                 NaN   \n",
       "AR1900072                                                 NaN   \n",
       "AR1900075                                                 NaN   \n",
       "AR1900076                                                 NaN   \n",
       "\n",
       "                    WATER_SYSTEM.SOURCE_PROTECTION_BEGIN_DATE  \\\n",
       "WATER_SYSTEM.PWSID                                              \n",
       "AR1900063                                                 NaT   \n",
       "AR1900071                                                 NaT   \n",
       "AR1900072                                                 NaT   \n",
       "AR1900075                                                 NaT   \n",
       "AR1900076                                                 NaT   \n",
       "\n",
       "                    WATER_SYSTEM.OUTSTANDING_PERFORMER  \\\n",
       "WATER_SYSTEM.PWSID                                       \n",
       "AR1900063                                          NaN   \n",
       "AR1900071                                          NaN   \n",
       "AR1900072                                          NaN   \n",
       "AR1900075                                          NaN   \n",
       "AR1900076                                          NaN   \n",
       "\n",
       "                    WATER_SYSTEM.OUTSTANDING_PERFORM_BEGIN_DATE  \\\n",
       "WATER_SYSTEM.PWSID                                                \n",
       "AR1900063                                                   NaT   \n",
       "AR1900071                                                   NaT   \n",
       "AR1900072                                                   NaT   \n",
       "AR1900075                                                   NaT   \n",
       "AR1900076                                                   NaT   \n",
       "\n",
       "                    WATER_SYSTEM.CITIES_SERVED  WATER_SYSTEM.COUNTIES_SERVED  \n",
       "WATER_SYSTEM.PWSID                                                            \n",
       "AR1900063                         Not Reported                        Marion  \n",
       "AR1900071                         Not Reported                        Marion  \n",
       "AR1900072                         Not Reported                        Marion  \n",
       "AR1900075                         Not Reported                      Cleburne  \n",
       "AR1900076                         Not Reported                      Cleburne  \n",
       "\n",
       "[5 rows x 46 columns]"
      ]
     },
     "execution_count": 238,
     "metadata": {},
     "output_type": "execute_result"
    }
   ],
   "source": [
    "df.head()"
   ]
  },
  {
   "cell_type": "markdown",
   "metadata": {},
   "source": [
    "### Sanitize booleans\n",
    "The fields `IS_GRANT_ELIGIBLE_IND`, `IS_WHOLESALER_IND`, `NPM_CANDIDATE` and `IS_SCHOOL_OR_DAYCARE_IND` are text values `N` or `Y`. They should be casted as `Booleans` in the database to allow easily expressed queries. "
   ]
  },
  {
   "cell_type": "code",
   "execution_count": 239,
   "metadata": {
    "scrolled": true
   },
   "outputs": [
    {
     "data": {
      "text/plain": [
       "array(['N', 'Y'], dtype=object)"
      ]
     },
     "execution_count": 239,
     "metadata": {},
     "output_type": "execute_result"
    }
   ],
   "source": [
    "df['WATER_SYSTEM.IS_GRANT_ELIGIBLE_IND'].dropna().unique()"
   ]
  },
  {
   "cell_type": "code",
   "execution_count": 240,
   "metadata": {
    "scrolled": true
   },
   "outputs": [
    {
     "data": {
      "text/plain": [
       "array(['N', 'Y'], dtype=object)"
      ]
     },
     "execution_count": 240,
     "metadata": {},
     "output_type": "execute_result"
    }
   ],
   "source": [
    "df['WATER_SYSTEM.IS_WHOLESALER_IND'].dropna().unique()"
   ]
  },
  {
   "cell_type": "code",
   "execution_count": 241,
   "metadata": {
    "scrolled": true
   },
   "outputs": [
    {
     "data": {
      "text/plain": [
       "array(['N', 'Y'], dtype=object)"
      ]
     },
     "execution_count": 241,
     "metadata": {},
     "output_type": "execute_result"
    }
   ],
   "source": [
    "df['WATER_SYSTEM.IS_SCHOOL_OR_DAYCARE_IND'].dropna().unique()"
   ]
  },
  {
   "cell_type": "code",
   "execution_count": 242,
   "metadata": {},
   "outputs": [
    {
     "data": {
      "text/plain": [
       "array(['N', 'Y'], dtype=object)"
      ]
     },
     "execution_count": 242,
     "metadata": {},
     "output_type": "execute_result"
    }
   ],
   "source": [
    "df['WATER_SYSTEM.NPM_CANDIDATE'].dropna().unique()"
   ]
  },
  {
   "cell_type": "code",
   "execution_count": 243,
   "metadata": {
    "collapsed": true
   },
   "outputs": [],
   "source": [
    "def type_checker(arr):\n",
    "    ref = arr[0]\n",
    "    ref_type = type(ref)\n",
    "    flag = 1;\n",
    "    for i in arr:\n",
    "        if type(i) != ref_type:\n",
    "            print('ERROR!')\n",
    "            flag = 0;\n",
    "    if flag == 1:\n",
    "        print('compatible types')"
   ]
  },
  {
   "cell_type": "code",
   "execution_count": 244,
   "metadata": {},
   "outputs": [
    {
     "data": {
      "text/plain": [
       "array(['72203', '92365', '92398', ..., '49661', '48909-7741',\n",
       "       '55011-9204'], dtype=object)"
      ]
     },
     "execution_count": 244,
     "metadata": {},
     "output_type": "execute_result"
    }
   ],
   "source": [
    "tst = df['WATER_SYSTEM.ZIP_CODE'].dropna().unique()\n",
    "tst"
   ]
  },
  {
   "cell_type": "code",
   "execution_count": 245,
   "metadata": {},
   "outputs": [
    {
     "name": "stdout",
     "output_type": "stream",
     "text": [
      "compatible types\n"
     ]
    }
   ],
   "source": [
    "type_checker(tst)"
   ]
  },
  {
   "cell_type": "markdown",
   "metadata": {},
   "source": [
    "### Perform sanitization\n",
    "\n",
    "Map `N` to `False` and `Y` to `True`."
   ]
  },
  {
   "cell_type": "code",
   "execution_count": 246,
   "metadata": {
    "collapsed": true
   },
   "outputs": [],
   "source": [
    "df['WATER_SYSTEM.IS_GRANT_ELIGIBLE_IND'] = df['WATER_SYSTEM.IS_GRANT_ELIGIBLE_IND'].map({'N': 0, 'Y': 1})\n",
    "df['WATER_SYSTEM.IS_WHOLESALER_IND'] = df['WATER_SYSTEM.IS_WHOLESALER_IND'].map({'N': 0, 'Y': 1})\n",
    "df['WATER_SYSTEM.IS_SCHOOL_OR_DAYCARE_IND'] = df['WATER_SYSTEM.IS_SCHOOL_OR_DAYCARE_IND'].map({'N': 0, 'Y': 1})\n",
    "df['WATER_SYSTEM.NPM_CANDIDATE'] = df['WATER_SYSTEM.NPM_CANDIDATE'].map({'N': 0, 'Y': 1});\n",
    "\n"
   ]
  },
  {
   "cell_type": "markdown",
   "metadata": {},
   "source": [
    "Check sanitization output:"
   ]
  },
  {
   "cell_type": "code",
   "execution_count": 247,
   "metadata": {},
   "outputs": [
    {
     "data": {
      "text/plain": [
       "array([0, 1])"
      ]
     },
     "execution_count": 247,
     "metadata": {},
     "output_type": "execute_result"
    }
   ],
   "source": [
    "df['WATER_SYSTEM.IS_GRANT_ELIGIBLE_IND'].dropna().unique()"
   ]
  },
  {
   "cell_type": "code",
   "execution_count": 248,
   "metadata": {},
   "outputs": [
    {
     "data": {
      "text/plain": [
       "array([0, 1])"
      ]
     },
     "execution_count": 248,
     "metadata": {},
     "output_type": "execute_result"
    }
   ],
   "source": [
    "df['WATER_SYSTEM.IS_WHOLESALER_IND'].dropna().unique()"
   ]
  },
  {
   "cell_type": "code",
   "execution_count": 249,
   "metadata": {},
   "outputs": [
    {
     "data": {
      "text/plain": [
       "array([0, 1])"
      ]
     },
     "execution_count": 249,
     "metadata": {},
     "output_type": "execute_result"
    }
   ],
   "source": [
    "df['WATER_SYSTEM.IS_SCHOOL_OR_DAYCARE_IND'].dropna().unique()"
   ]
  },
  {
   "cell_type": "code",
   "execution_count": 250,
   "metadata": {
    "scrolled": true
   },
   "outputs": [
    {
     "data": {
      "text/plain": [
       "array([0, 1])"
      ]
     },
     "execution_count": 250,
     "metadata": {},
     "output_type": "execute_result"
    }
   ],
   "source": [
    "df['WATER_SYSTEM.NPM_CANDIDATE'].dropna().unique()"
   ]
  },
  {
   "cell_type": "markdown",
   "metadata": {},
   "source": [
    "## Save sanitized data"
   ]
  },
  {
   "cell_type": "markdown",
   "metadata": {},
   "source": [
    "Save the sanitized dataset in a new csv file:"
   ]
  },
  {
   "cell_type": "code",
   "execution_count": 251,
   "metadata": {
    "collapsed": true
   },
   "outputs": [],
   "source": [
    "# Data will be saved in the `sanitized` folder.\n",
    "sanitized_csv_file = join(PATH_TO_DATA_FOLDER, 'sanitized', 'WATER_SYSTEM.csv')"
   ]
  },
  {
   "cell_type": "code",
   "execution_count": 252,
   "metadata": {
    "collapsed": true
   },
   "outputs": [],
   "source": [
    "df.to_csv(sanitized_csv_file, sep=\",\", encoding='utf-8')\n",
    "\n"
   ]
  },
  {
   "cell_type": "markdown",
   "metadata": {},
   "source": [
    "## `WATER_SYSTEM_FACILITY` table"
   ]
  },
  {
   "cell_type": "code",
   "execution_count": 511,
   "metadata": {
    "collapsed": true
   },
   "outputs": [],
   "source": [
    "# date to process\n",
    "FACILITY_DEACTIVATION_DATE_idx = 7\n",
    "PWS_DEACTIVATION_DATE_idx = 18"
   ]
  },
  {
   "cell_type": "code",
   "execution_count": 512,
   "metadata": {
    "collapsed": true
   },
   "outputs": [],
   "source": [
    "wsf = pd.read_csv(join(PATH_TO_DATA_FOLDER, \"DG_WATER_SYSTEM_FACILITY.csv\"),\n",
    "                 sep=\",\",\n",
    "                 header=0,\n",
    "                 index_col=0,\n",
    "                 encoding=\"utf-8\",\n",
    "                 low_memory=False,\n",
    "                 parse_dates=[FACILITY_DEACTIVATION_DATE_idx, PWS_DEACTIVATION_DATE_idx],\n",
    "                 )\n",
    "\n"
   ]
  },
  {
   "cell_type": "code",
   "execution_count": 284,
   "metadata": {
    "collapsed": true
   },
   "outputs": [],
   "source": [
    "# Process binary fields\n",
    "wsf['WATER_SYSTEM_FACILITY.IS_SOURCE_IND'] = wsf['WATER_SYSTEM_FACILITY.IS_SOURCE_IND'].map({'N': 0, 'Y': 1})"
   ]
  },
  {
   "cell_type": "code",
   "execution_count": 513,
   "metadata": {
    "collapsed": true
   },
   "outputs": [],
   "source": [
    "def longest_item(arr):\n",
    "    m = arr[0]\n",
    "    l = len(m)\n",
    "    for i in arr:\n",
    "        if len(i) > l:\n",
    "            m = i\n",
    "            l = len(i)\n",
    "    return m"
   ]
  },
  {
   "cell_type": "code",
   "execution_count": 515,
   "metadata": {},
   "outputs": [
    {
     "data": {
      "text/plain": [
       "12"
      ]
     },
     "execution_count": 515,
     "metadata": {},
     "output_type": "execute_result"
    }
   ],
   "source": [
    "len(longest_item(wsf['WATER_SYSTEM_FACILITY.FACILITY_ID'].unique()))"
   ]
  },
  {
   "cell_type": "code",
   "execution_count": 287,
   "metadata": {},
   "outputs": [
    {
     "data": {
      "text/plain": [
       "1408854"
      ]
     },
     "execution_count": 287,
     "metadata": {},
     "output_type": "execute_result"
    }
   ],
   "source": [
    "len(wsf['WATER_SYSTEM_FACILITY.FACILITY_ID'])"
   ]
  },
  {
   "cell_type": "code",
   "execution_count": 272,
   "metadata": {},
   "outputs": [
    {
     "data": {
      "text/plain": [
       "(1408854, 20)"
      ]
     },
     "execution_count": 272,
     "metadata": {},
     "output_type": "execute_result"
    }
   ],
   "source": [
    "wsf.shape"
   ]
  },
  {
   "cell_type": "markdown",
   "metadata": {},
   "source": [
    "**Important**: There are only `203 078` unique `FACILITY_ID` in the dataset and yet there are `1 408 854` different records. `FACILITY_ID` alone cannot be counted as a primary key.\n",
    "\n",
    "Thus we add prepend a ID column as primary key."
   ]
  },
  {
   "cell_type": "code",
   "execution_count": 289,
   "metadata": {
    "collapsed": true
   },
   "outputs": [],
   "source": [
    "ids = []\n",
    "for idx in range(wsf.shape[0]):\n",
    "    ids.append(str(uuid.uuid4()))"
   ]
  },
  {
   "cell_type": "code",
   "execution_count": 291,
   "metadata": {
    "collapsed": true
   },
   "outputs": [],
   "source": [
    "# Prepend the ID serie to the dataframe\n",
    "wsf.insert(0, 'ID', pd.Series(ids, index=wsf.index))"
   ]
  },
  {
   "cell_type": "code",
   "execution_count": 292,
   "metadata": {
    "scrolled": true
   },
   "outputs": [
    {
     "data": {
      "text/html": [
       "<div>\n",
       "<style scoped>\n",
       "    .dataframe tbody tr th:only-of-type {\n",
       "        vertical-align: middle;\n",
       "    }\n",
       "\n",
       "    .dataframe tbody tr th {\n",
       "        vertical-align: top;\n",
       "    }\n",
       "\n",
       "    .dataframe thead th {\n",
       "        text-align: right;\n",
       "    }\n",
       "</style>\n",
       "<table border=\"1\" class=\"dataframe\">\n",
       "  <thead>\n",
       "    <tr style=\"text-align: right;\">\n",
       "      <th></th>\n",
       "      <th>ID</th>\n",
       "      <th>WATER_SYSTEM_FACILITY.PRIMACY_AGENCY_CODE</th>\n",
       "      <th>WATER_SYSTEM_FACILITY.EPA_REGION</th>\n",
       "      <th>WATER_SYSTEM_FACILITY.FACILITY_ID</th>\n",
       "      <th>WATER_SYSTEM_FACILITY.FACILITY_NAME</th>\n",
       "      <th>WATER_SYSTEM_FACILITY.STATE_FACILITY_ID</th>\n",
       "      <th>WATER_SYSTEM_FACILITY.FACILITY_ACTIVITY_CODE</th>\n",
       "      <th>WATER_SYSTEM_FACILITY.FACILITY_DEACTIVATION_DATE</th>\n",
       "      <th>WATER_SYSTEM_FACILITY.FACILITY_TYPE_CODE</th>\n",
       "      <th>WATER_SYSTEM_FACILITY.SUBMISSION_STATUS_CODE</th>\n",
       "      <th>...</th>\n",
       "      <th>WATER_SYSTEM_FACILITY.WATER_TYPE_CODE</th>\n",
       "      <th>WATER_SYSTEM_FACILITY.AVAILABILITY_CODE</th>\n",
       "      <th>WATER_SYSTEM_FACILITY.SELLER_TREATMENT_CODE</th>\n",
       "      <th>WATER_SYSTEM_FACILITY.SELLER_PWSID</th>\n",
       "      <th>WATER_SYSTEM_FACILITY.SELLER_PWS_NAME</th>\n",
       "      <th>WATER_SYSTEM_FACILITY.FILTRATION_STATUS_CODE</th>\n",
       "      <th>WATER_SYSTEM_FACILITY.PWS_ACTIVITY_CODE</th>\n",
       "      <th>WATER_SYSTEM_FACILITY.PWS_DEACTIVATION_DATE</th>\n",
       "      <th>WATER_SYSTEM_FACILITY.PWS_TYPE_CODE</th>\n",
       "      <th>WATER_SYSTEM_FACILITY.IS_SOURCE_TREATED_IND</th>\n",
       "    </tr>\n",
       "    <tr>\n",
       "      <th>WATER_SYSTEM_FACILITY.PWSID</th>\n",
       "      <th></th>\n",
       "      <th></th>\n",
       "      <th></th>\n",
       "      <th></th>\n",
       "      <th></th>\n",
       "      <th></th>\n",
       "      <th></th>\n",
       "      <th></th>\n",
       "      <th></th>\n",
       "      <th></th>\n",
       "      <th></th>\n",
       "      <th></th>\n",
       "      <th></th>\n",
       "      <th></th>\n",
       "      <th></th>\n",
       "      <th></th>\n",
       "      <th></th>\n",
       "      <th></th>\n",
       "      <th></th>\n",
       "      <th></th>\n",
       "      <th></th>\n",
       "    </tr>\n",
       "  </thead>\n",
       "  <tbody>\n",
       "    <tr>\n",
       "      <th>NY0900222</th>\n",
       "      <td>9c2ce89f-7c29-489a-8c23-0485bcf908aa</td>\n",
       "      <td>NY</td>\n",
       "      <td>2</td>\n",
       "      <td>54061</td>\n",
       "      <td>TRANS. MAIN 6 X 500'</td>\n",
       "      <td>000000081224</td>\n",
       "      <td>A</td>\n",
       "      <td>NaT</td>\n",
       "      <td>TM</td>\n",
       "      <td>Y</td>\n",
       "      <td>...</td>\n",
       "      <td>NaN</td>\n",
       "      <td>NaN</td>\n",
       "      <td>NaN</td>\n",
       "      <td>NaN</td>\n",
       "      <td>NaN</td>\n",
       "      <td>NaN</td>\n",
       "      <td>A</td>\n",
       "      <td>NaT</td>\n",
       "      <td>CWS</td>\n",
       "      <td>NaN</td>\n",
       "    </tr>\n",
       "    <tr>\n",
       "      <th>NY0900222</th>\n",
       "      <td>e023b201-683b-4ae5-9b2c-7b92a55b0dae</td>\n",
       "      <td>NY</td>\n",
       "      <td>2</td>\n",
       "      <td>75508</td>\n",
       "      <td>XXIDSE-DISTRIBUTION STAGE 2</td>\n",
       "      <td>XXIDSE</td>\n",
       "      <td>I</td>\n",
       "      <td>2012-05-23</td>\n",
       "      <td>DS</td>\n",
       "      <td>Y</td>\n",
       "      <td>...</td>\n",
       "      <td>NaN</td>\n",
       "      <td>NaN</td>\n",
       "      <td>NaN</td>\n",
       "      <td>NaN</td>\n",
       "      <td>NaN</td>\n",
       "      <td>NaN</td>\n",
       "      <td>A</td>\n",
       "      <td>NaT</td>\n",
       "      <td>CWS</td>\n",
       "      <td>NaN</td>\n",
       "    </tr>\n",
       "    <tr>\n",
       "      <th>NY1000240</th>\n",
       "      <td>959cf25d-2854-4c85-b14d-97ef385a71b5</td>\n",
       "      <td>NY</td>\n",
       "      <td>2</td>\n",
       "      <td>63273</td>\n",
       "      <td>DISTRIBUTION SYSTEM</td>\n",
       "      <td>DS-01</td>\n",
       "      <td>A</td>\n",
       "      <td>NaT</td>\n",
       "      <td>DS</td>\n",
       "      <td>Y</td>\n",
       "      <td>...</td>\n",
       "      <td>NaN</td>\n",
       "      <td>NaN</td>\n",
       "      <td>NaN</td>\n",
       "      <td>NaN</td>\n",
       "      <td>NaN</td>\n",
       "      <td>NaN</td>\n",
       "      <td>A</td>\n",
       "      <td>NaT</td>\n",
       "      <td>CWS</td>\n",
       "      <td>NaN</td>\n",
       "    </tr>\n",
       "    <tr>\n",
       "      <th>NY1000240</th>\n",
       "      <td>e2a3b971-9427-4d3f-b70c-fd01d02161ef</td>\n",
       "      <td>NY</td>\n",
       "      <td>2</td>\n",
       "      <td>73477</td>\n",
       "      <td>485,000 GALLON STORAGE TANK</td>\n",
       "      <td>ST-01</td>\n",
       "      <td>A</td>\n",
       "      <td>NaT</td>\n",
       "      <td>ST</td>\n",
       "      <td>Y</td>\n",
       "      <td>...</td>\n",
       "      <td>NaN</td>\n",
       "      <td>NaN</td>\n",
       "      <td>NaN</td>\n",
       "      <td>NaN</td>\n",
       "      <td>NaN</td>\n",
       "      <td>NaN</td>\n",
       "      <td>A</td>\n",
       "      <td>NaT</td>\n",
       "      <td>CWS</td>\n",
       "      <td>NaN</td>\n",
       "    </tr>\n",
       "    <tr>\n",
       "      <th>NY0611916</th>\n",
       "      <td>54965745-440f-4a8f-90b2-984d5283516f</td>\n",
       "      <td>NY</td>\n",
       "      <td>2</td>\n",
       "      <td>67310</td>\n",
       "      <td>DISTRIBUTION SYSTEM (HV2)</td>\n",
       "      <td>DS-001</td>\n",
       "      <td>A</td>\n",
       "      <td>NaT</td>\n",
       "      <td>DS</td>\n",
       "      <td>Y</td>\n",
       "      <td>...</td>\n",
       "      <td>NaN</td>\n",
       "      <td>NaN</td>\n",
       "      <td>NaN</td>\n",
       "      <td>NaN</td>\n",
       "      <td>NaN</td>\n",
       "      <td>NaN</td>\n",
       "      <td>A</td>\n",
       "      <td>NaT</td>\n",
       "      <td>TNCWS</td>\n",
       "      <td>NaN</td>\n",
       "    </tr>\n",
       "  </tbody>\n",
       "</table>\n",
       "<p>5 rows × 21 columns</p>\n",
       "</div>"
      ],
      "text/plain": [
       "                                                               ID  \\\n",
       "WATER_SYSTEM_FACILITY.PWSID                                         \n",
       "NY0900222                    9c2ce89f-7c29-489a-8c23-0485bcf908aa   \n",
       "NY0900222                    e023b201-683b-4ae5-9b2c-7b92a55b0dae   \n",
       "NY1000240                    959cf25d-2854-4c85-b14d-97ef385a71b5   \n",
       "NY1000240                    e2a3b971-9427-4d3f-b70c-fd01d02161ef   \n",
       "NY0611916                    54965745-440f-4a8f-90b2-984d5283516f   \n",
       "\n",
       "                            WATER_SYSTEM_FACILITY.PRIMACY_AGENCY_CODE  \\\n",
       "WATER_SYSTEM_FACILITY.PWSID                                             \n",
       "NY0900222                                                          NY   \n",
       "NY0900222                                                          NY   \n",
       "NY1000240                                                          NY   \n",
       "NY1000240                                                          NY   \n",
       "NY0611916                                                          NY   \n",
       "\n",
       "                             WATER_SYSTEM_FACILITY.EPA_REGION  \\\n",
       "WATER_SYSTEM_FACILITY.PWSID                                     \n",
       "NY0900222                                                   2   \n",
       "NY0900222                                                   2   \n",
       "NY1000240                                                   2   \n",
       "NY1000240                                                   2   \n",
       "NY0611916                                                   2   \n",
       "\n",
       "                            WATER_SYSTEM_FACILITY.FACILITY_ID  \\\n",
       "WATER_SYSTEM_FACILITY.PWSID                                     \n",
       "NY0900222                                               54061   \n",
       "NY0900222                                               75508   \n",
       "NY1000240                                               63273   \n",
       "NY1000240                                               73477   \n",
       "NY0611916                                               67310   \n",
       "\n",
       "                            WATER_SYSTEM_FACILITY.FACILITY_NAME  \\\n",
       "WATER_SYSTEM_FACILITY.PWSID                                       \n",
       "NY0900222                                  TRANS. MAIN 6 X 500'   \n",
       "NY0900222                           XXIDSE-DISTRIBUTION STAGE 2   \n",
       "NY1000240                                   DISTRIBUTION SYSTEM   \n",
       "NY1000240                           485,000 GALLON STORAGE TANK   \n",
       "NY0611916                             DISTRIBUTION SYSTEM (HV2)   \n",
       "\n",
       "                            WATER_SYSTEM_FACILITY.STATE_FACILITY_ID  \\\n",
       "WATER_SYSTEM_FACILITY.PWSID                                           \n",
       "NY0900222                                              000000081224   \n",
       "NY0900222                                                    XXIDSE   \n",
       "NY1000240                                                     DS-01   \n",
       "NY1000240                                                     ST-01   \n",
       "NY0611916                                                    DS-001   \n",
       "\n",
       "                            WATER_SYSTEM_FACILITY.FACILITY_ACTIVITY_CODE  \\\n",
       "WATER_SYSTEM_FACILITY.PWSID                                                \n",
       "NY0900222                                                              A   \n",
       "NY0900222                                                              I   \n",
       "NY1000240                                                              A   \n",
       "NY1000240                                                              A   \n",
       "NY0611916                                                              A   \n",
       "\n",
       "                            WATER_SYSTEM_FACILITY.FACILITY_DEACTIVATION_DATE  \\\n",
       "WATER_SYSTEM_FACILITY.PWSID                                                    \n",
       "NY0900222                                                                NaT   \n",
       "NY0900222                                                         2012-05-23   \n",
       "NY1000240                                                                NaT   \n",
       "NY1000240                                                                NaT   \n",
       "NY0611916                                                                NaT   \n",
       "\n",
       "                            WATER_SYSTEM_FACILITY.FACILITY_TYPE_CODE  \\\n",
       "WATER_SYSTEM_FACILITY.PWSID                                            \n",
       "NY0900222                                                         TM   \n",
       "NY0900222                                                         DS   \n",
       "NY1000240                                                         DS   \n",
       "NY1000240                                                         ST   \n",
       "NY0611916                                                         DS   \n",
       "\n",
       "                            WATER_SYSTEM_FACILITY.SUBMISSION_STATUS_CODE  ...  \\\n",
       "WATER_SYSTEM_FACILITY.PWSID                                               ...   \n",
       "NY0900222                                                              Y  ...   \n",
       "NY0900222                                                              Y  ...   \n",
       "NY1000240                                                              Y  ...   \n",
       "NY1000240                                                              Y  ...   \n",
       "NY0611916                                                              Y  ...   \n",
       "\n",
       "                             WATER_SYSTEM_FACILITY.WATER_TYPE_CODE  \\\n",
       "WATER_SYSTEM_FACILITY.PWSID                                          \n",
       "NY0900222                                                      NaN   \n",
       "NY0900222                                                      NaN   \n",
       "NY1000240                                                      NaN   \n",
       "NY1000240                                                      NaN   \n",
       "NY0611916                                                      NaN   \n",
       "\n",
       "                            WATER_SYSTEM_FACILITY.AVAILABILITY_CODE  \\\n",
       "WATER_SYSTEM_FACILITY.PWSID                                           \n",
       "NY0900222                                                       NaN   \n",
       "NY0900222                                                       NaN   \n",
       "NY1000240                                                       NaN   \n",
       "NY1000240                                                       NaN   \n",
       "NY0611916                                                       NaN   \n",
       "\n",
       "                            WATER_SYSTEM_FACILITY.SELLER_TREATMENT_CODE  \\\n",
       "WATER_SYSTEM_FACILITY.PWSID                                               \n",
       "NY0900222                                                           NaN   \n",
       "NY0900222                                                           NaN   \n",
       "NY1000240                                                           NaN   \n",
       "NY1000240                                                           NaN   \n",
       "NY0611916                                                           NaN   \n",
       "\n",
       "                            WATER_SYSTEM_FACILITY.SELLER_PWSID  \\\n",
       "WATER_SYSTEM_FACILITY.PWSID                                      \n",
       "NY0900222                                                  NaN   \n",
       "NY0900222                                                  NaN   \n",
       "NY1000240                                                  NaN   \n",
       "NY1000240                                                  NaN   \n",
       "NY0611916                                                  NaN   \n",
       "\n",
       "                            WATER_SYSTEM_FACILITY.SELLER_PWS_NAME  \\\n",
       "WATER_SYSTEM_FACILITY.PWSID                                         \n",
       "NY0900222                                                     NaN   \n",
       "NY0900222                                                     NaN   \n",
       "NY1000240                                                     NaN   \n",
       "NY1000240                                                     NaN   \n",
       "NY0611916                                                     NaN   \n",
       "\n",
       "                            WATER_SYSTEM_FACILITY.FILTRATION_STATUS_CODE  \\\n",
       "WATER_SYSTEM_FACILITY.PWSID                                                \n",
       "NY0900222                                                            NaN   \n",
       "NY0900222                                                            NaN   \n",
       "NY1000240                                                            NaN   \n",
       "NY1000240                                                            NaN   \n",
       "NY0611916                                                            NaN   \n",
       "\n",
       "                            WATER_SYSTEM_FACILITY.PWS_ACTIVITY_CODE  \\\n",
       "WATER_SYSTEM_FACILITY.PWSID                                           \n",
       "NY0900222                                                         A   \n",
       "NY0900222                                                         A   \n",
       "NY1000240                                                         A   \n",
       "NY1000240                                                         A   \n",
       "NY0611916                                                         A   \n",
       "\n",
       "                            WATER_SYSTEM_FACILITY.PWS_DEACTIVATION_DATE  \\\n",
       "WATER_SYSTEM_FACILITY.PWSID                                               \n",
       "NY0900222                                                           NaT   \n",
       "NY0900222                                                           NaT   \n",
       "NY1000240                                                           NaT   \n",
       "NY1000240                                                           NaT   \n",
       "NY0611916                                                           NaT   \n",
       "\n",
       "                            WATER_SYSTEM_FACILITY.PWS_TYPE_CODE  \\\n",
       "WATER_SYSTEM_FACILITY.PWSID                                       \n",
       "NY0900222                                                   CWS   \n",
       "NY0900222                                                   CWS   \n",
       "NY1000240                                                   CWS   \n",
       "NY1000240                                                   CWS   \n",
       "NY0611916                                                 TNCWS   \n",
       "\n",
       "                            WATER_SYSTEM_FACILITY.IS_SOURCE_TREATED_IND  \n",
       "WATER_SYSTEM_FACILITY.PWSID                                              \n",
       "NY0900222                                                           NaN  \n",
       "NY0900222                                                           NaN  \n",
       "NY1000240                                                           NaN  \n",
       "NY1000240                                                           NaN  \n",
       "NY0611916                                                           NaN  \n",
       "\n",
       "[5 rows x 21 columns]"
      ]
     },
     "execution_count": 292,
     "metadata": {},
     "output_type": "execute_result"
    }
   ],
   "source": [
    "wsf.head()"
   ]
  },
  {
   "cell_type": "code",
   "execution_count": 293,
   "metadata": {
    "collapsed": true
   },
   "outputs": [],
   "source": [
    "# Data will be saved in the `sanitized` folder.\n",
    "sanitized_wsf_file = join(PATH_TO_DATA_FOLDER, 'sanitized', 'WATER_SYSTEM_FACILITY.csv')\n",
    "wsf.to_csv(sanitized_wsf_file, sep=\",\", encoding='utf-8', quotechar='\"')"
   ]
  },
  {
   "cell_type": "code",
   "execution_count": 295,
   "metadata": {},
   "outputs": [
    {
     "data": {
      "text/plain": [
       "36"
      ]
     },
     "execution_count": 295,
     "metadata": {},
     "output_type": "execute_result"
    }
   ],
   "source": [
    "len('e5862a56-14ea-4dda-8fed-bf1efb0c9bbd')"
   ]
  },
  {
   "cell_type": "code",
   "execution_count": 510,
   "metadata": {},
   "outputs": [
    {
     "data": {
      "text/html": [
       "<div>\n",
       "<style scoped>\n",
       "    .dataframe tbody tr th:only-of-type {\n",
       "        vertical-align: middle;\n",
       "    }\n",
       "\n",
       "    .dataframe tbody tr th {\n",
       "        vertical-align: top;\n",
       "    }\n",
       "\n",
       "    .dataframe thead th {\n",
       "        text-align: right;\n",
       "    }\n",
       "</style>\n",
       "<table border=\"1\" class=\"dataframe\">\n",
       "  <thead>\n",
       "    <tr style=\"text-align: right;\">\n",
       "      <th></th>\n",
       "      <th>VIOLATION.VIOLATION_ID</th>\n",
       "      <th>VIOLATION.FACILITY_ID</th>\n",
       "      <th>VIOLATION.POPULATION_SERVED_COUNT</th>\n",
       "      <th>VIOLATION.NPM_CANDIDATE</th>\n",
       "      <th>VIOLATION.PWS_ACTIVITY_CODE</th>\n",
       "      <th>VIOLATION.PWS_DEACTIVATION_DATE</th>\n",
       "      <th>VIOLATION.PRIMARY_SOURCE_CODE</th>\n",
       "      <th>VIOLATION.POP_CAT_5_CODE</th>\n",
       "      <th>VIOLATION.PRIMACY_AGENCY_CODE</th>\n",
       "      <th>VIOLATION.EPA_REGION</th>\n",
       "      <th>...</th>\n",
       "      <th>VIOLATION.LATEST_ENFORCEMENT_ID</th>\n",
       "      <th>VIOLATION.RTC_ENFORCEMENT_ID</th>\n",
       "      <th>VIOLATION.RTC_DATE</th>\n",
       "      <th>VIOLATION.PUBLIC_NOTIFICATION_TIER</th>\n",
       "      <th>VIOLATION.ORIGINATOR_CODE</th>\n",
       "      <th>VIOLATION.SAMPLE_RESULT_ID</th>\n",
       "      <th>VIOLATION.CORRECTIVE_ACTION_ID</th>\n",
       "      <th>VIOLATION.RULE_CODE</th>\n",
       "      <th>VIOLATION.RULE_GROUP_CODE</th>\n",
       "      <th>VIOLATION.RULE_FAMILY_CODE</th>\n",
       "    </tr>\n",
       "    <tr>\n",
       "      <th>VIOLATION.PWSID</th>\n",
       "      <th></th>\n",
       "      <th></th>\n",
       "      <th></th>\n",
       "      <th></th>\n",
       "      <th></th>\n",
       "      <th></th>\n",
       "      <th></th>\n",
       "      <th></th>\n",
       "      <th></th>\n",
       "      <th></th>\n",
       "      <th></th>\n",
       "      <th></th>\n",
       "      <th></th>\n",
       "      <th></th>\n",
       "      <th></th>\n",
       "      <th></th>\n",
       "      <th></th>\n",
       "      <th></th>\n",
       "      <th></th>\n",
       "      <th></th>\n",
       "      <th></th>\n",
       "    </tr>\n",
       "  </thead>\n",
       "  <tbody>\n",
       "    <tr>\n",
       "      <th>WI1110274</th>\n",
       "      <td>1200004</td>\n",
       "      <td>2</td>\n",
       "      <td>35</td>\n",
       "      <td>N</td>\n",
       "      <td>A</td>\n",
       "      <td>NaN</td>\n",
       "      <td>GW</td>\n",
       "      <td>1</td>\n",
       "      <td>WI</td>\n",
       "      <td>5</td>\n",
       "      <td>...</td>\n",
       "      <td>1300019</td>\n",
       "      <td>1300016</td>\n",
       "      <td>24-OCT-12</td>\n",
       "      <td>3</td>\n",
       "      <td>S</td>\n",
       "      <td>NaN</td>\n",
       "      <td>NaN</td>\n",
       "      <td>310</td>\n",
       "      <td>300</td>\n",
       "      <td>310</td>\n",
       "    </tr>\n",
       "    <tr>\n",
       "      <th>WI1110274</th>\n",
       "      <td>1200003</td>\n",
       "      <td>2</td>\n",
       "      <td>35</td>\n",
       "      <td>N</td>\n",
       "      <td>A</td>\n",
       "      <td>NaN</td>\n",
       "      <td>GW</td>\n",
       "      <td>1</td>\n",
       "      <td>WI</td>\n",
       "      <td>5</td>\n",
       "      <td>...</td>\n",
       "      <td>1300019</td>\n",
       "      <td>1300016</td>\n",
       "      <td>24-OCT-12</td>\n",
       "      <td>3</td>\n",
       "      <td>S</td>\n",
       "      <td>NaN</td>\n",
       "      <td>NaN</td>\n",
       "      <td>310</td>\n",
       "      <td>300</td>\n",
       "      <td>310</td>\n",
       "    </tr>\n",
       "    <tr>\n",
       "      <th>WI1110274</th>\n",
       "      <td>1200024</td>\n",
       "      <td>NaN</td>\n",
       "      <td>35</td>\n",
       "      <td>N</td>\n",
       "      <td>A</td>\n",
       "      <td>NaN</td>\n",
       "      <td>GW</td>\n",
       "      <td>1</td>\n",
       "      <td>WI</td>\n",
       "      <td>5</td>\n",
       "      <td>...</td>\n",
       "      <td>1200015</td>\n",
       "      <td>1200015</td>\n",
       "      <td>21-AUG-12</td>\n",
       "      <td>2</td>\n",
       "      <td>S</td>\n",
       "      <td>NaN</td>\n",
       "      <td>NaN</td>\n",
       "      <td>110</td>\n",
       "      <td>100</td>\n",
       "      <td>110</td>\n",
       "    </tr>\n",
       "    <tr>\n",
       "      <th>WI1110274</th>\n",
       "      <td>1200023</td>\n",
       "      <td>2</td>\n",
       "      <td>35</td>\n",
       "      <td>N</td>\n",
       "      <td>A</td>\n",
       "      <td>NaN</td>\n",
       "      <td>GW</td>\n",
       "      <td>1</td>\n",
       "      <td>WI</td>\n",
       "      <td>5</td>\n",
       "      <td>...</td>\n",
       "      <td>1300019</td>\n",
       "      <td>1300016</td>\n",
       "      <td>24-OCT-12</td>\n",
       "      <td>3</td>\n",
       "      <td>S</td>\n",
       "      <td>NaN</td>\n",
       "      <td>NaN</td>\n",
       "      <td>310</td>\n",
       "      <td>300</td>\n",
       "      <td>310</td>\n",
       "    </tr>\n",
       "    <tr>\n",
       "      <th>WI1110274</th>\n",
       "      <td>1200002</td>\n",
       "      <td>NaN</td>\n",
       "      <td>35</td>\n",
       "      <td>N</td>\n",
       "      <td>A</td>\n",
       "      <td>NaN</td>\n",
       "      <td>GW</td>\n",
       "      <td>1</td>\n",
       "      <td>WI</td>\n",
       "      <td>5</td>\n",
       "      <td>...</td>\n",
       "      <td>1200010</td>\n",
       "      <td>1200010</td>\n",
       "      <td>26-MAR-12</td>\n",
       "      <td>2</td>\n",
       "      <td>S</td>\n",
       "      <td>NaN</td>\n",
       "      <td>NaN</td>\n",
       "      <td>110</td>\n",
       "      <td>100</td>\n",
       "      <td>110</td>\n",
       "    </tr>\n",
       "  </tbody>\n",
       "</table>\n",
       "<p>5 rows × 33 columns</p>\n",
       "</div>"
      ],
      "text/plain": [
       "                VIOLATION.VIOLATION_ID VIOLATION.FACILITY_ID  \\\n",
       "VIOLATION.PWSID                                                \n",
       "WI1110274                      1200004                     2   \n",
       "WI1110274                      1200003                     2   \n",
       "WI1110274                      1200024                   NaN   \n",
       "WI1110274                      1200023                     2   \n",
       "WI1110274                      1200002                   NaN   \n",
       "\n",
       "                 VIOLATION.POPULATION_SERVED_COUNT VIOLATION.NPM_CANDIDATE  \\\n",
       "VIOLATION.PWSID                                                              \n",
       "WI1110274                                       35                       N   \n",
       "WI1110274                                       35                       N   \n",
       "WI1110274                                       35                       N   \n",
       "WI1110274                                       35                       N   \n",
       "WI1110274                                       35                       N   \n",
       "\n",
       "                VIOLATION.PWS_ACTIVITY_CODE VIOLATION.PWS_DEACTIVATION_DATE  \\\n",
       "VIOLATION.PWSID                                                               \n",
       "WI1110274                                 A                             NaN   \n",
       "WI1110274                                 A                             NaN   \n",
       "WI1110274                                 A                             NaN   \n",
       "WI1110274                                 A                             NaN   \n",
       "WI1110274                                 A                             NaN   \n",
       "\n",
       "                VIOLATION.PRIMARY_SOURCE_CODE  VIOLATION.POP_CAT_5_CODE  \\\n",
       "VIOLATION.PWSID                                                           \n",
       "WI1110274                                  GW                         1   \n",
       "WI1110274                                  GW                         1   \n",
       "WI1110274                                  GW                         1   \n",
       "WI1110274                                  GW                         1   \n",
       "WI1110274                                  GW                         1   \n",
       "\n",
       "                VIOLATION.PRIMACY_AGENCY_CODE  VIOLATION.EPA_REGION  ...  \\\n",
       "VIOLATION.PWSID                                                      ...   \n",
       "WI1110274                                  WI                     5  ...   \n",
       "WI1110274                                  WI                     5  ...   \n",
       "WI1110274                                  WI                     5  ...   \n",
       "WI1110274                                  WI                     5  ...   \n",
       "WI1110274                                  WI                     5  ...   \n",
       "\n",
       "                VIOLATION.LATEST_ENFORCEMENT_ID VIOLATION.RTC_ENFORCEMENT_ID  \\\n",
       "VIOLATION.PWSID                                                                \n",
       "WI1110274                               1300019                      1300016   \n",
       "WI1110274                               1300019                      1300016   \n",
       "WI1110274                               1200015                      1200015   \n",
       "WI1110274                               1300019                      1300016   \n",
       "WI1110274                               1200010                      1200010   \n",
       "\n",
       "                VIOLATION.RTC_DATE VIOLATION.PUBLIC_NOTIFICATION_TIER  \\\n",
       "VIOLATION.PWSID                                                         \n",
       "WI1110274                24-OCT-12                                  3   \n",
       "WI1110274                24-OCT-12                                  3   \n",
       "WI1110274                21-AUG-12                                  2   \n",
       "WI1110274                24-OCT-12                                  3   \n",
       "WI1110274                26-MAR-12                                  2   \n",
       "\n",
       "                VIOLATION.ORIGINATOR_CODE VIOLATION.SAMPLE_RESULT_ID  \\\n",
       "VIOLATION.PWSID                                                        \n",
       "WI1110274                               S                        NaN   \n",
       "WI1110274                               S                        NaN   \n",
       "WI1110274                               S                        NaN   \n",
       "WI1110274                               S                        NaN   \n",
       "WI1110274                               S                        NaN   \n",
       "\n",
       "                 VIOLATION.CORRECTIVE_ACTION_ID VIOLATION.RULE_CODE  \\\n",
       "VIOLATION.PWSID                                                       \n",
       "WI1110274                                   NaN                 310   \n",
       "WI1110274                                   NaN                 310   \n",
       "WI1110274                                   NaN                 110   \n",
       "WI1110274                                   NaN                 310   \n",
       "WI1110274                                   NaN                 110   \n",
       "\n",
       "                 VIOLATION.RULE_GROUP_CODE VIOLATION.RULE_FAMILY_CODE  \n",
       "VIOLATION.PWSID                                                        \n",
       "WI1110274                              300                        310  \n",
       "WI1110274                              300                        310  \n",
       "WI1110274                              100                        110  \n",
       "WI1110274                              300                        310  \n",
       "WI1110274                              100                        110  \n",
       "\n",
       "[5 rows x 33 columns]"
      ]
     },
     "execution_count": 510,
     "metadata": {},
     "output_type": "execute_result"
    }
   ],
   "source": []
  },
  {
   "cell_type": "markdown",
   "metadata": {},
   "source": [
    "## `VIOLATION` table\n"
   ]
  },
  {
   "cell_type": "code",
   "execution_count": 303,
   "metadata": {
    "collapsed": true
   },
   "outputs": [],
   "source": [
    "# date to process\n",
    "COMPL_PER_BEGIN_DATE_idx = 22\n",
    "COMPL_PER_END_DATE_idx = 23\n",
    "RTC_DATE_idx = 26"
   ]
  },
  {
   "cell_type": "code",
   "execution_count": 304,
   "metadata": {
    "collapsed": true
   },
   "outputs": [],
   "source": [
    "violation = pd.read_csv(join(PATH_TO_DATA_FOLDER, \"DG_VIOLATION.csv\"),\n",
    "                 sep=\",\",\n",
    "                 header=0,\n",
    "                 index_col=0,\n",
    "                 encoding=\"utf-8\",\n",
    "                 low_memory=False,\n",
    "                 parse_dates=[COMPL_PER_BEGIN_DATE_idx, COMPL_PER_END_DATE_idx, RTC_DATE_idx],\n",
    "                 )\n",
    "\n"
   ]
  },
  {
   "cell_type": "code",
   "execution_count": 305,
   "metadata": {
    "scrolled": true
   },
   "outputs": [
    {
     "data": {
      "text/html": [
       "<div>\n",
       "<style scoped>\n",
       "    .dataframe tbody tr th:only-of-type {\n",
       "        vertical-align: middle;\n",
       "    }\n",
       "\n",
       "    .dataframe tbody tr th {\n",
       "        vertical-align: top;\n",
       "    }\n",
       "\n",
       "    .dataframe thead th {\n",
       "        text-align: right;\n",
       "    }\n",
       "</style>\n",
       "<table border=\"1\" class=\"dataframe\">\n",
       "  <thead>\n",
       "    <tr style=\"text-align: right;\">\n",
       "      <th></th>\n",
       "      <th>VIOLATION.VIOLATION_ID</th>\n",
       "      <th>VIOLATION.FACILITY_ID</th>\n",
       "      <th>VIOLATION.POPULATION_SERVED_COUNT</th>\n",
       "      <th>VIOLATION.NPM_CANDIDATE</th>\n",
       "      <th>VIOLATION.PWS_ACTIVITY_CODE</th>\n",
       "      <th>VIOLATION.PWS_DEACTIVATION_DATE</th>\n",
       "      <th>VIOLATION.PRIMARY_SOURCE_CODE</th>\n",
       "      <th>VIOLATION.POP_CAT_5_CODE</th>\n",
       "      <th>VIOLATION.PRIMACY_AGENCY_CODE</th>\n",
       "      <th>VIOLATION.EPA_REGION</th>\n",
       "      <th>...</th>\n",
       "      <th>VIOLATION.LATEST_ENFORCEMENT_ID</th>\n",
       "      <th>VIOLATION.RTC_ENFORCEMENT_ID</th>\n",
       "      <th>VIOLATION.RTC_DATE</th>\n",
       "      <th>VIOLATION.PUBLIC_NOTIFICATION_TIER</th>\n",
       "      <th>VIOLATION.ORIGINATOR_CODE</th>\n",
       "      <th>VIOLATION.SAMPLE_RESULT_ID</th>\n",
       "      <th>VIOLATION.CORRECTIVE_ACTION_ID</th>\n",
       "      <th>VIOLATION.RULE_CODE</th>\n",
       "      <th>VIOLATION.RULE_GROUP_CODE</th>\n",
       "      <th>VIOLATION.RULE_FAMILY_CODE</th>\n",
       "    </tr>\n",
       "    <tr>\n",
       "      <th>VIOLATION.PWSID</th>\n",
       "      <th></th>\n",
       "      <th></th>\n",
       "      <th></th>\n",
       "      <th></th>\n",
       "      <th></th>\n",
       "      <th></th>\n",
       "      <th></th>\n",
       "      <th></th>\n",
       "      <th></th>\n",
       "      <th></th>\n",
       "      <th></th>\n",
       "      <th></th>\n",
       "      <th></th>\n",
       "      <th></th>\n",
       "      <th></th>\n",
       "      <th></th>\n",
       "      <th></th>\n",
       "      <th></th>\n",
       "      <th></th>\n",
       "      <th></th>\n",
       "      <th></th>\n",
       "    </tr>\n",
       "  </thead>\n",
       "  <tbody>\n",
       "    <tr>\n",
       "      <th>WI1110274</th>\n",
       "      <td>1200004</td>\n",
       "      <td>2</td>\n",
       "      <td>35</td>\n",
       "      <td>N</td>\n",
       "      <td>A</td>\n",
       "      <td>NaN</td>\n",
       "      <td>GW</td>\n",
       "      <td>1</td>\n",
       "      <td>WI</td>\n",
       "      <td>5</td>\n",
       "      <td>...</td>\n",
       "      <td>1300019</td>\n",
       "      <td>1300016</td>\n",
       "      <td>2012-10-24</td>\n",
       "      <td>3</td>\n",
       "      <td>S</td>\n",
       "      <td>NaN</td>\n",
       "      <td>NaN</td>\n",
       "      <td>310</td>\n",
       "      <td>300</td>\n",
       "      <td>310</td>\n",
       "    </tr>\n",
       "    <tr>\n",
       "      <th>WI1110274</th>\n",
       "      <td>1200003</td>\n",
       "      <td>2</td>\n",
       "      <td>35</td>\n",
       "      <td>N</td>\n",
       "      <td>A</td>\n",
       "      <td>NaN</td>\n",
       "      <td>GW</td>\n",
       "      <td>1</td>\n",
       "      <td>WI</td>\n",
       "      <td>5</td>\n",
       "      <td>...</td>\n",
       "      <td>1300019</td>\n",
       "      <td>1300016</td>\n",
       "      <td>2012-10-24</td>\n",
       "      <td>3</td>\n",
       "      <td>S</td>\n",
       "      <td>NaN</td>\n",
       "      <td>NaN</td>\n",
       "      <td>310</td>\n",
       "      <td>300</td>\n",
       "      <td>310</td>\n",
       "    </tr>\n",
       "    <tr>\n",
       "      <th>WI1110274</th>\n",
       "      <td>1200024</td>\n",
       "      <td>NaN</td>\n",
       "      <td>35</td>\n",
       "      <td>N</td>\n",
       "      <td>A</td>\n",
       "      <td>NaN</td>\n",
       "      <td>GW</td>\n",
       "      <td>1</td>\n",
       "      <td>WI</td>\n",
       "      <td>5</td>\n",
       "      <td>...</td>\n",
       "      <td>1200015</td>\n",
       "      <td>1200015</td>\n",
       "      <td>2012-08-21</td>\n",
       "      <td>2</td>\n",
       "      <td>S</td>\n",
       "      <td>NaN</td>\n",
       "      <td>NaN</td>\n",
       "      <td>110</td>\n",
       "      <td>100</td>\n",
       "      <td>110</td>\n",
       "    </tr>\n",
       "    <tr>\n",
       "      <th>WI1110274</th>\n",
       "      <td>1200023</td>\n",
       "      <td>2</td>\n",
       "      <td>35</td>\n",
       "      <td>N</td>\n",
       "      <td>A</td>\n",
       "      <td>NaN</td>\n",
       "      <td>GW</td>\n",
       "      <td>1</td>\n",
       "      <td>WI</td>\n",
       "      <td>5</td>\n",
       "      <td>...</td>\n",
       "      <td>1300019</td>\n",
       "      <td>1300016</td>\n",
       "      <td>2012-10-24</td>\n",
       "      <td>3</td>\n",
       "      <td>S</td>\n",
       "      <td>NaN</td>\n",
       "      <td>NaN</td>\n",
       "      <td>310</td>\n",
       "      <td>300</td>\n",
       "      <td>310</td>\n",
       "    </tr>\n",
       "    <tr>\n",
       "      <th>WI1110274</th>\n",
       "      <td>1200002</td>\n",
       "      <td>NaN</td>\n",
       "      <td>35</td>\n",
       "      <td>N</td>\n",
       "      <td>A</td>\n",
       "      <td>NaN</td>\n",
       "      <td>GW</td>\n",
       "      <td>1</td>\n",
       "      <td>WI</td>\n",
       "      <td>5</td>\n",
       "      <td>...</td>\n",
       "      <td>1200010</td>\n",
       "      <td>1200010</td>\n",
       "      <td>2012-03-26</td>\n",
       "      <td>2</td>\n",
       "      <td>S</td>\n",
       "      <td>NaN</td>\n",
       "      <td>NaN</td>\n",
       "      <td>110</td>\n",
       "      <td>100</td>\n",
       "      <td>110</td>\n",
       "    </tr>\n",
       "  </tbody>\n",
       "</table>\n",
       "<p>5 rows × 33 columns</p>\n",
       "</div>"
      ],
      "text/plain": [
       "                VIOLATION.VIOLATION_ID VIOLATION.FACILITY_ID  \\\n",
       "VIOLATION.PWSID                                                \n",
       "WI1110274                      1200004                     2   \n",
       "WI1110274                      1200003                     2   \n",
       "WI1110274                      1200024                   NaN   \n",
       "WI1110274                      1200023                     2   \n",
       "WI1110274                      1200002                   NaN   \n",
       "\n",
       "                 VIOLATION.POPULATION_SERVED_COUNT VIOLATION.NPM_CANDIDATE  \\\n",
       "VIOLATION.PWSID                                                              \n",
       "WI1110274                                       35                       N   \n",
       "WI1110274                                       35                       N   \n",
       "WI1110274                                       35                       N   \n",
       "WI1110274                                       35                       N   \n",
       "WI1110274                                       35                       N   \n",
       "\n",
       "                VIOLATION.PWS_ACTIVITY_CODE VIOLATION.PWS_DEACTIVATION_DATE  \\\n",
       "VIOLATION.PWSID                                                               \n",
       "WI1110274                                 A                             NaN   \n",
       "WI1110274                                 A                             NaN   \n",
       "WI1110274                                 A                             NaN   \n",
       "WI1110274                                 A                             NaN   \n",
       "WI1110274                                 A                             NaN   \n",
       "\n",
       "                VIOLATION.PRIMARY_SOURCE_CODE  VIOLATION.POP_CAT_5_CODE  \\\n",
       "VIOLATION.PWSID                                                           \n",
       "WI1110274                                  GW                         1   \n",
       "WI1110274                                  GW                         1   \n",
       "WI1110274                                  GW                         1   \n",
       "WI1110274                                  GW                         1   \n",
       "WI1110274                                  GW                         1   \n",
       "\n",
       "                VIOLATION.PRIMACY_AGENCY_CODE  VIOLATION.EPA_REGION  ...  \\\n",
       "VIOLATION.PWSID                                                      ...   \n",
       "WI1110274                                  WI                     5  ...   \n",
       "WI1110274                                  WI                     5  ...   \n",
       "WI1110274                                  WI                     5  ...   \n",
       "WI1110274                                  WI                     5  ...   \n",
       "WI1110274                                  WI                     5  ...   \n",
       "\n",
       "                VIOLATION.LATEST_ENFORCEMENT_ID VIOLATION.RTC_ENFORCEMENT_ID  \\\n",
       "VIOLATION.PWSID                                                                \n",
       "WI1110274                               1300019                      1300016   \n",
       "WI1110274                               1300019                      1300016   \n",
       "WI1110274                               1200015                      1200015   \n",
       "WI1110274                               1300019                      1300016   \n",
       "WI1110274                               1200010                      1200010   \n",
       "\n",
       "                VIOLATION.RTC_DATE VIOLATION.PUBLIC_NOTIFICATION_TIER  \\\n",
       "VIOLATION.PWSID                                                         \n",
       "WI1110274               2012-10-24                                  3   \n",
       "WI1110274               2012-10-24                                  3   \n",
       "WI1110274               2012-08-21                                  2   \n",
       "WI1110274               2012-10-24                                  3   \n",
       "WI1110274               2012-03-26                                  2   \n",
       "\n",
       "                VIOLATION.ORIGINATOR_CODE VIOLATION.SAMPLE_RESULT_ID  \\\n",
       "VIOLATION.PWSID                                                        \n",
       "WI1110274                               S                        NaN   \n",
       "WI1110274                               S                        NaN   \n",
       "WI1110274                               S                        NaN   \n",
       "WI1110274                               S                        NaN   \n",
       "WI1110274                               S                        NaN   \n",
       "\n",
       "                 VIOLATION.CORRECTIVE_ACTION_ID VIOLATION.RULE_CODE  \\\n",
       "VIOLATION.PWSID                                                       \n",
       "WI1110274                                   NaN                 310   \n",
       "WI1110274                                   NaN                 310   \n",
       "WI1110274                                   NaN                 110   \n",
       "WI1110274                                   NaN                 310   \n",
       "WI1110274                                   NaN                 110   \n",
       "\n",
       "                 VIOLATION.RULE_GROUP_CODE VIOLATION.RULE_FAMILY_CODE  \n",
       "VIOLATION.PWSID                                                        \n",
       "WI1110274                              300                        310  \n",
       "WI1110274                              300                        310  \n",
       "WI1110274                              100                        110  \n",
       "WI1110274                              300                        310  \n",
       "WI1110274                              100                        110  \n",
       "\n",
       "[5 rows x 33 columns]"
      ]
     },
     "execution_count": 305,
     "metadata": {},
     "output_type": "execute_result"
    }
   ],
   "source": [
    "violation.head()"
   ]
  },
  {
   "cell_type": "code",
   "execution_count": 306,
   "metadata": {},
   "outputs": [
    {
     "data": {
      "text/plain": [
       "array(['N', 'Y', nan], dtype=object)"
      ]
     },
     "execution_count": 306,
     "metadata": {},
     "output_type": "execute_result"
    }
   ],
   "source": [
    "violation['VIOLATION.IS_HEALTH_BASED_IND'].unique()"
   ]
  },
  {
   "cell_type": "markdown",
   "metadata": {},
   "source": [
    "Won't map it because of the Nan items, we keep the `y` `n` and `nan`."
   ]
  },
  {
   "cell_type": "code",
   "execution_count": 300,
   "metadata": {},
   "outputs": [
    {
     "data": {
      "text/plain": [
       "1089493"
      ]
     },
     "execution_count": 300,
     "metadata": {},
     "output_type": "execute_result"
    }
   ],
   "source": [
    "len(violation['VIOLATION.VIOLATION_ID'].unique())"
   ]
  },
  {
   "cell_type": "code",
   "execution_count": 301,
   "metadata": {},
   "outputs": [
    {
     "data": {
      "text/plain": [
       "(2212450, 33)"
      ]
     },
     "execution_count": 301,
     "metadata": {},
     "output_type": "execute_result"
    }
   ],
   "source": [
    "violation.shape"
   ]
  },
  {
   "cell_type": "markdown",
   "metadata": {},
   "source": [
    "Again, the number of id is inconsistent with the number fo records, we create a new ID for the column as primary key."
   ]
  },
  {
   "cell_type": "code",
   "execution_count": 307,
   "metadata": {
    "collapsed": true
   },
   "outputs": [],
   "source": [
    "ids_violation = []\n",
    "for idx in range(violation.shape[0]):\n",
    "    ids_violation.append(str(uuid.uuid4()))"
   ]
  },
  {
   "cell_type": "code",
   "execution_count": 308,
   "metadata": {},
   "outputs": [
    {
     "data": {
      "text/plain": [
       "['da7c77d1-57fa-40e6-9a8e-01bbbf9dbbd3',\n",
       " 'de518b9e-5d0b-4a81-8159-289024c0e5ee',\n",
       " 'c60dcd65-443d-45a2-b385-8c3fa400d6b6',\n",
       " '366f21f4-abfb-41ac-b0fa-a5d5442c6e83',\n",
       " 'aaec3dd6-246f-4fd6-bf13-a237b2714d76']"
      ]
     },
     "execution_count": 308,
     "metadata": {},
     "output_type": "execute_result"
    }
   ],
   "source": [
    "ids_violation[:5]"
   ]
  },
  {
   "cell_type": "code",
   "execution_count": 309,
   "metadata": {
    "collapsed": true
   },
   "outputs": [],
   "source": [
    "# Prepend the ID serie to the dataframe\n",
    "violation.insert(0, 'ID', pd.Series(ids_violation, index=violation.index))"
   ]
  },
  {
   "cell_type": "code",
   "execution_count": 310,
   "metadata": {},
   "outputs": [
    {
     "data": {
      "text/html": [
       "<div>\n",
       "<style scoped>\n",
       "    .dataframe tbody tr th:only-of-type {\n",
       "        vertical-align: middle;\n",
       "    }\n",
       "\n",
       "    .dataframe tbody tr th {\n",
       "        vertical-align: top;\n",
       "    }\n",
       "\n",
       "    .dataframe thead th {\n",
       "        text-align: right;\n",
       "    }\n",
       "</style>\n",
       "<table border=\"1\" class=\"dataframe\">\n",
       "  <thead>\n",
       "    <tr style=\"text-align: right;\">\n",
       "      <th></th>\n",
       "      <th>ID</th>\n",
       "      <th>VIOLATION.VIOLATION_ID</th>\n",
       "      <th>VIOLATION.FACILITY_ID</th>\n",
       "      <th>VIOLATION.POPULATION_SERVED_COUNT</th>\n",
       "      <th>VIOLATION.NPM_CANDIDATE</th>\n",
       "      <th>VIOLATION.PWS_ACTIVITY_CODE</th>\n",
       "      <th>VIOLATION.PWS_DEACTIVATION_DATE</th>\n",
       "      <th>VIOLATION.PRIMARY_SOURCE_CODE</th>\n",
       "      <th>VIOLATION.POP_CAT_5_CODE</th>\n",
       "      <th>VIOLATION.PRIMACY_AGENCY_CODE</th>\n",
       "      <th>...</th>\n",
       "      <th>VIOLATION.LATEST_ENFORCEMENT_ID</th>\n",
       "      <th>VIOLATION.RTC_ENFORCEMENT_ID</th>\n",
       "      <th>VIOLATION.RTC_DATE</th>\n",
       "      <th>VIOLATION.PUBLIC_NOTIFICATION_TIER</th>\n",
       "      <th>VIOLATION.ORIGINATOR_CODE</th>\n",
       "      <th>VIOLATION.SAMPLE_RESULT_ID</th>\n",
       "      <th>VIOLATION.CORRECTIVE_ACTION_ID</th>\n",
       "      <th>VIOLATION.RULE_CODE</th>\n",
       "      <th>VIOLATION.RULE_GROUP_CODE</th>\n",
       "      <th>VIOLATION.RULE_FAMILY_CODE</th>\n",
       "    </tr>\n",
       "    <tr>\n",
       "      <th>VIOLATION.PWSID</th>\n",
       "      <th></th>\n",
       "      <th></th>\n",
       "      <th></th>\n",
       "      <th></th>\n",
       "      <th></th>\n",
       "      <th></th>\n",
       "      <th></th>\n",
       "      <th></th>\n",
       "      <th></th>\n",
       "      <th></th>\n",
       "      <th></th>\n",
       "      <th></th>\n",
       "      <th></th>\n",
       "      <th></th>\n",
       "      <th></th>\n",
       "      <th></th>\n",
       "      <th></th>\n",
       "      <th></th>\n",
       "      <th></th>\n",
       "      <th></th>\n",
       "      <th></th>\n",
       "    </tr>\n",
       "  </thead>\n",
       "  <tbody>\n",
       "    <tr>\n",
       "      <th>WI1110274</th>\n",
       "      <td>da7c77d1-57fa-40e6-9a8e-01bbbf9dbbd3</td>\n",
       "      <td>1200004</td>\n",
       "      <td>2</td>\n",
       "      <td>35</td>\n",
       "      <td>N</td>\n",
       "      <td>A</td>\n",
       "      <td>NaN</td>\n",
       "      <td>GW</td>\n",
       "      <td>1</td>\n",
       "      <td>WI</td>\n",
       "      <td>...</td>\n",
       "      <td>1300019</td>\n",
       "      <td>1300016</td>\n",
       "      <td>2012-10-24</td>\n",
       "      <td>3</td>\n",
       "      <td>S</td>\n",
       "      <td>NaN</td>\n",
       "      <td>NaN</td>\n",
       "      <td>310</td>\n",
       "      <td>300</td>\n",
       "      <td>310</td>\n",
       "    </tr>\n",
       "    <tr>\n",
       "      <th>WI1110274</th>\n",
       "      <td>de518b9e-5d0b-4a81-8159-289024c0e5ee</td>\n",
       "      <td>1200003</td>\n",
       "      <td>2</td>\n",
       "      <td>35</td>\n",
       "      <td>N</td>\n",
       "      <td>A</td>\n",
       "      <td>NaN</td>\n",
       "      <td>GW</td>\n",
       "      <td>1</td>\n",
       "      <td>WI</td>\n",
       "      <td>...</td>\n",
       "      <td>1300019</td>\n",
       "      <td>1300016</td>\n",
       "      <td>2012-10-24</td>\n",
       "      <td>3</td>\n",
       "      <td>S</td>\n",
       "      <td>NaN</td>\n",
       "      <td>NaN</td>\n",
       "      <td>310</td>\n",
       "      <td>300</td>\n",
       "      <td>310</td>\n",
       "    </tr>\n",
       "    <tr>\n",
       "      <th>WI1110274</th>\n",
       "      <td>c60dcd65-443d-45a2-b385-8c3fa400d6b6</td>\n",
       "      <td>1200024</td>\n",
       "      <td>NaN</td>\n",
       "      <td>35</td>\n",
       "      <td>N</td>\n",
       "      <td>A</td>\n",
       "      <td>NaN</td>\n",
       "      <td>GW</td>\n",
       "      <td>1</td>\n",
       "      <td>WI</td>\n",
       "      <td>...</td>\n",
       "      <td>1200015</td>\n",
       "      <td>1200015</td>\n",
       "      <td>2012-08-21</td>\n",
       "      <td>2</td>\n",
       "      <td>S</td>\n",
       "      <td>NaN</td>\n",
       "      <td>NaN</td>\n",
       "      <td>110</td>\n",
       "      <td>100</td>\n",
       "      <td>110</td>\n",
       "    </tr>\n",
       "    <tr>\n",
       "      <th>WI1110274</th>\n",
       "      <td>366f21f4-abfb-41ac-b0fa-a5d5442c6e83</td>\n",
       "      <td>1200023</td>\n",
       "      <td>2</td>\n",
       "      <td>35</td>\n",
       "      <td>N</td>\n",
       "      <td>A</td>\n",
       "      <td>NaN</td>\n",
       "      <td>GW</td>\n",
       "      <td>1</td>\n",
       "      <td>WI</td>\n",
       "      <td>...</td>\n",
       "      <td>1300019</td>\n",
       "      <td>1300016</td>\n",
       "      <td>2012-10-24</td>\n",
       "      <td>3</td>\n",
       "      <td>S</td>\n",
       "      <td>NaN</td>\n",
       "      <td>NaN</td>\n",
       "      <td>310</td>\n",
       "      <td>300</td>\n",
       "      <td>310</td>\n",
       "    </tr>\n",
       "    <tr>\n",
       "      <th>WI1110274</th>\n",
       "      <td>aaec3dd6-246f-4fd6-bf13-a237b2714d76</td>\n",
       "      <td>1200002</td>\n",
       "      <td>NaN</td>\n",
       "      <td>35</td>\n",
       "      <td>N</td>\n",
       "      <td>A</td>\n",
       "      <td>NaN</td>\n",
       "      <td>GW</td>\n",
       "      <td>1</td>\n",
       "      <td>WI</td>\n",
       "      <td>...</td>\n",
       "      <td>1200010</td>\n",
       "      <td>1200010</td>\n",
       "      <td>2012-03-26</td>\n",
       "      <td>2</td>\n",
       "      <td>S</td>\n",
       "      <td>NaN</td>\n",
       "      <td>NaN</td>\n",
       "      <td>110</td>\n",
       "      <td>100</td>\n",
       "      <td>110</td>\n",
       "    </tr>\n",
       "  </tbody>\n",
       "</table>\n",
       "<p>5 rows × 34 columns</p>\n",
       "</div>"
      ],
      "text/plain": [
       "                                                   ID VIOLATION.VIOLATION_ID  \\\n",
       "VIOLATION.PWSID                                                                \n",
       "WI1110274        da7c77d1-57fa-40e6-9a8e-01bbbf9dbbd3                1200004   \n",
       "WI1110274        de518b9e-5d0b-4a81-8159-289024c0e5ee                1200003   \n",
       "WI1110274        c60dcd65-443d-45a2-b385-8c3fa400d6b6                1200024   \n",
       "WI1110274        366f21f4-abfb-41ac-b0fa-a5d5442c6e83                1200023   \n",
       "WI1110274        aaec3dd6-246f-4fd6-bf13-a237b2714d76                1200002   \n",
       "\n",
       "                VIOLATION.FACILITY_ID  VIOLATION.POPULATION_SERVED_COUNT  \\\n",
       "VIOLATION.PWSID                                                            \n",
       "WI1110274                           2                                 35   \n",
       "WI1110274                           2                                 35   \n",
       "WI1110274                         NaN                                 35   \n",
       "WI1110274                           2                                 35   \n",
       "WI1110274                         NaN                                 35   \n",
       "\n",
       "                VIOLATION.NPM_CANDIDATE VIOLATION.PWS_ACTIVITY_CODE  \\\n",
       "VIOLATION.PWSID                                                       \n",
       "WI1110274                             N                           A   \n",
       "WI1110274                             N                           A   \n",
       "WI1110274                             N                           A   \n",
       "WI1110274                             N                           A   \n",
       "WI1110274                             N                           A   \n",
       "\n",
       "                VIOLATION.PWS_DEACTIVATION_DATE VIOLATION.PRIMARY_SOURCE_CODE  \\\n",
       "VIOLATION.PWSID                                                                 \n",
       "WI1110274                                   NaN                            GW   \n",
       "WI1110274                                   NaN                            GW   \n",
       "WI1110274                                   NaN                            GW   \n",
       "WI1110274                                   NaN                            GW   \n",
       "WI1110274                                   NaN                            GW   \n",
       "\n",
       "                 VIOLATION.POP_CAT_5_CODE VIOLATION.PRIMACY_AGENCY_CODE  ...  \\\n",
       "VIOLATION.PWSID                                                          ...   \n",
       "WI1110274                               1                            WI  ...   \n",
       "WI1110274                               1                            WI  ...   \n",
       "WI1110274                               1                            WI  ...   \n",
       "WI1110274                               1                            WI  ...   \n",
       "WI1110274                               1                            WI  ...   \n",
       "\n",
       "                 VIOLATION.LATEST_ENFORCEMENT_ID VIOLATION.RTC_ENFORCEMENT_ID  \\\n",
       "VIOLATION.PWSID                                                                 \n",
       "WI1110274                                1300019                      1300016   \n",
       "WI1110274                                1300019                      1300016   \n",
       "WI1110274                                1200015                      1200015   \n",
       "WI1110274                                1300019                      1300016   \n",
       "WI1110274                                1200010                      1200010   \n",
       "\n",
       "                VIOLATION.RTC_DATE VIOLATION.PUBLIC_NOTIFICATION_TIER  \\\n",
       "VIOLATION.PWSID                                                         \n",
       "WI1110274               2012-10-24                                  3   \n",
       "WI1110274               2012-10-24                                  3   \n",
       "WI1110274               2012-08-21                                  2   \n",
       "WI1110274               2012-10-24                                  3   \n",
       "WI1110274               2012-03-26                                  2   \n",
       "\n",
       "                VIOLATION.ORIGINATOR_CODE VIOLATION.SAMPLE_RESULT_ID  \\\n",
       "VIOLATION.PWSID                                                        \n",
       "WI1110274                               S                        NaN   \n",
       "WI1110274                               S                        NaN   \n",
       "WI1110274                               S                        NaN   \n",
       "WI1110274                               S                        NaN   \n",
       "WI1110274                               S                        NaN   \n",
       "\n",
       "                VIOLATION.CORRECTIVE_ACTION_ID  VIOLATION.RULE_CODE  \\\n",
       "VIOLATION.PWSID                                                       \n",
       "WI1110274                                  NaN                  310   \n",
       "WI1110274                                  NaN                  310   \n",
       "WI1110274                                  NaN                  110   \n",
       "WI1110274                                  NaN                  310   \n",
       "WI1110274                                  NaN                  110   \n",
       "\n",
       "                VIOLATION.RULE_GROUP_CODE  VIOLATION.RULE_FAMILY_CODE  \n",
       "VIOLATION.PWSID                                                        \n",
       "WI1110274                             300                         310  \n",
       "WI1110274                             300                         310  \n",
       "WI1110274                             100                         110  \n",
       "WI1110274                             300                         310  \n",
       "WI1110274                             100                         110  \n",
       "\n",
       "[5 rows x 34 columns]"
      ]
     },
     "execution_count": 310,
     "metadata": {},
     "output_type": "execute_result"
    }
   ],
   "source": [
    "violation.head()"
   ]
  },
  {
   "cell_type": "code",
   "execution_count": 311,
   "metadata": {
    "collapsed": true
   },
   "outputs": [],
   "source": [
    "# Data will be saved in the `sanitized` folder.\n",
    "sanitized_violation_file = join(PATH_TO_DATA_FOLDER, 'sanitized', 'VIOLATION.csv')\n",
    "violation.to_csv(sanitized_violation_file, sep=\",\", encoding='utf-8', quotechar='\"')"
   ]
  },
  {
   "cell_type": "code",
   "execution_count": 322,
   "metadata": {},
   "outputs": [
    {
     "ename": "TypeError",
     "evalue": "object of type 'numpy.int64' has no len()",
     "output_type": "error",
     "traceback": [
      "\u001b[0;31m-----------------------------------------------------------\u001b[0m",
      "\u001b[0;31mTypeError\u001b[0m                 Traceback (most recent call last)",
      "\u001b[0;32m<ipython-input-322-9f628890ae06>\u001b[0m in \u001b[0;36m<module>\u001b[0;34m\u001b[0m\n\u001b[0;32m----> 1\u001b[0;31m \u001b[0mlongest_item\u001b[0m\u001b[0;34m(\u001b[0m\u001b[0mviolation\u001b[0m\u001b[0;34m[\u001b[0m\u001b[0;34m'VIOLATION.RULE_CODE'\u001b[0m\u001b[0;34m]\u001b[0m\u001b[0;34m)\u001b[0m\u001b[0;34m\u001b[0m\u001b[0;34m\u001b[0m\u001b[0m\n\u001b[0m",
      "\u001b[0;32m<ipython-input-285-63999c85a172>\u001b[0m in \u001b[0;36mlongest_item\u001b[0;34m(arr)\u001b[0m\n\u001b[1;32m      1\u001b[0m \u001b[0;32mdef\u001b[0m \u001b[0mlongest_item\u001b[0m\u001b[0;34m(\u001b[0m\u001b[0marr\u001b[0m\u001b[0;34m)\u001b[0m\u001b[0;34m:\u001b[0m\u001b[0;34m\u001b[0m\u001b[0;34m\u001b[0m\u001b[0m\n\u001b[1;32m      2\u001b[0m     \u001b[0mm\u001b[0m \u001b[0;34m=\u001b[0m \u001b[0marr\u001b[0m\u001b[0;34m[\u001b[0m\u001b[0;36m0\u001b[0m\u001b[0;34m]\u001b[0m\u001b[0;34m\u001b[0m\u001b[0;34m\u001b[0m\u001b[0m\n\u001b[0;32m----> 3\u001b[0;31m     \u001b[0ml\u001b[0m \u001b[0;34m=\u001b[0m \u001b[0mlen\u001b[0m\u001b[0;34m(\u001b[0m\u001b[0mm\u001b[0m\u001b[0;34m)\u001b[0m\u001b[0;34m\u001b[0m\u001b[0;34m\u001b[0m\u001b[0m\n\u001b[0m\u001b[1;32m      4\u001b[0m     \u001b[0;32mfor\u001b[0m \u001b[0mi\u001b[0m \u001b[0;32min\u001b[0m \u001b[0marr\u001b[0m\u001b[0;34m:\u001b[0m\u001b[0;34m\u001b[0m\u001b[0;34m\u001b[0m\u001b[0m\n\u001b[1;32m      5\u001b[0m         \u001b[0;32mif\u001b[0m \u001b[0mlen\u001b[0m\u001b[0;34m(\u001b[0m\u001b[0mi\u001b[0m\u001b[0;34m)\u001b[0m \u001b[0;34m>\u001b[0m \u001b[0ml\u001b[0m\u001b[0;34m:\u001b[0m\u001b[0;34m\u001b[0m\u001b[0;34m\u001b[0m\u001b[0m\n",
      "\u001b[0;31mTypeError\u001b[0m: object of type 'numpy.int64' has no len()"
     ]
    }
   ],
   "source": [
    "longest_item(violation['VIOLATION.RULE_CODE'])"
   ]
  },
  {
   "cell_type": "code",
   "execution_count": 332,
   "metadata": {},
   "outputs": [
    {
     "data": {
      "text/plain": [
       "array([    35,   2500,     59, ..., 205489,  13560,  13855])"
      ]
     },
     "execution_count": 332,
     "metadata": {},
     "output_type": "execute_result"
    }
   ],
   "source": [
    "violation['VIOLATION.POPULATION_SERVED_COUNT'].unique()"
   ]
  },
  {
   "cell_type": "markdown",
   "metadata": {},
   "source": [
    "## `VIOLATION_ENF_ASSOC` table\n"
   ]
  },
  {
   "cell_type": "code",
   "execution_count": 361,
   "metadata": {
    "collapsed": true
   },
   "outputs": [],
   "source": [
    "violation_enf = pd.read_csv(join(PATH_TO_DATA_FOLDER, \"DG_VIOLATION_ENF_ASSOC.csv\"),\n",
    "                 sep=\",\",\n",
    "                 header=0,\n",
    "                 index_col=0,\n",
    "                 encoding=\"utf-8\",\n",
    "                 low_memory=False,\n",
    "                 )\n"
   ]
  },
  {
   "cell_type": "code",
   "execution_count": 362,
   "metadata": {},
   "outputs": [
    {
     "data": {
      "text/html": [
       "<div>\n",
       "<style scoped>\n",
       "    .dataframe tbody tr th:only-of-type {\n",
       "        vertical-align: middle;\n",
       "    }\n",
       "\n",
       "    .dataframe tbody tr th {\n",
       "        vertical-align: top;\n",
       "    }\n",
       "\n",
       "    .dataframe thead th {\n",
       "        text-align: right;\n",
       "    }\n",
       "</style>\n",
       "<table border=\"1\" class=\"dataframe\">\n",
       "  <thead>\n",
       "    <tr style=\"text-align: right;\">\n",
       "      <th></th>\n",
       "      <th>VIOLATION_ENF_ASSOC.ENFORCEMENT_ID</th>\n",
       "      <th>VIOLATION_ENF_ASSOC.VIOLATION_ID</th>\n",
       "    </tr>\n",
       "    <tr>\n",
       "      <th>VIOLATION_ENF_ASSOC.PWSID</th>\n",
       "      <th></th>\n",
       "      <th></th>\n",
       "    </tr>\n",
       "  </thead>\n",
       "  <tbody>\n",
       "    <tr>\n",
       "      <th>NC0241588</th>\n",
       "      <td>788429</td>\n",
       "      <td>4626636</td>\n",
       "    </tr>\n",
       "    <tr>\n",
       "      <th>MS0020006</th>\n",
       "      <td>7105413</td>\n",
       "      <td>7104973</td>\n",
       "    </tr>\n",
       "    <tr>\n",
       "      <th>CT0180334</th>\n",
       "      <td>1209</td>\n",
       "      <td>129209</td>\n",
       "    </tr>\n",
       "    <tr>\n",
       "      <th>PA1150767</th>\n",
       "      <td>11001569001</td>\n",
       "      <td>1102713</td>\n",
       "    </tr>\n",
       "    <tr>\n",
       "      <th>OH3841912</th>\n",
       "      <td>8122709</td>\n",
       "      <td>8658209</td>\n",
       "    </tr>\n",
       "  </tbody>\n",
       "</table>\n",
       "</div>"
      ],
      "text/plain": [
       "                          VIOLATION_ENF_ASSOC.ENFORCEMENT_ID  \\\n",
       "VIOLATION_ENF_ASSOC.PWSID                                      \n",
       "NC0241588                                             788429   \n",
       "MS0020006                                            7105413   \n",
       "CT0180334                                               1209   \n",
       "PA1150767                                        11001569001   \n",
       "OH3841912                                            8122709   \n",
       "\n",
       "                          VIOLATION_ENF_ASSOC.VIOLATION_ID  \n",
       "VIOLATION_ENF_ASSOC.PWSID                                   \n",
       "NC0241588                                          4626636  \n",
       "MS0020006                                          7104973  \n",
       "CT0180334                                           129209  \n",
       "PA1150767                                          1102713  \n",
       "OH3841912                                          8658209  "
      ]
     },
     "execution_count": 362,
     "metadata": {},
     "output_type": "execute_result"
    }
   ],
   "source": [
    "violation_enf.head()"
   ]
  },
  {
   "cell_type": "code",
   "execution_count": 356,
   "metadata": {},
   "outputs": [
    {
     "data": {
      "text/plain": [
       "(4891691, 3)"
      ]
     },
     "execution_count": 356,
     "metadata": {},
     "output_type": "execute_result"
    }
   ],
   "source": [
    "violation_enf.shape"
   ]
  },
  {
   "cell_type": "code",
   "execution_count": 419,
   "metadata": {},
   "outputs": [
    {
     "data": {
      "text/plain": [
       "False"
      ]
     },
     "execution_count": 419,
     "metadata": {},
     "output_type": "execute_result"
    }
   ],
   "source": [
    "violation_enf['VIOLATION_ENF_ASSOC.VIOLATION_ID'].isnull().any()"
   ]
  },
  {
   "cell_type": "code",
   "execution_count": 360,
   "metadata": {},
   "outputs": [
    {
     "data": {
      "text/plain": [
       "False"
      ]
     },
     "execution_count": 360,
     "metadata": {},
     "output_type": "execute_result"
    }
   ],
   "source": [
    "violation_enf['VIOLATION_ENF_ASSOC.ENFORCEMENT_ID'].is_unique"
   ]
  },
  {
   "cell_type": "markdown",
   "metadata": {},
   "source": [
    "Sadly we cannot use the ENFORCEMENT_ID as primary key cause its not unique, we create a new `ID` key."
   ]
  },
  {
   "cell_type": "code",
   "execution_count": 365,
   "metadata": {
    "collapsed": true
   },
   "outputs": [],
   "source": [
    "ids_violation_enf = []\n",
    "for idx in range(violation_enf.shape[0]):\n",
    "    ids_violation_enf.append(str(uuid.uuid4()))"
   ]
  },
  {
   "cell_type": "code",
   "execution_count": 366,
   "metadata": {
    "collapsed": true
   },
   "outputs": [],
   "source": [
    "# Prepend the ID serie to the dataframe\n",
    "violation_enf.insert(0, 'ID', pd.Series(ids_violation_enf, index=violation_enf.index))"
   ]
  },
  {
   "cell_type": "code",
   "execution_count": 367,
   "metadata": {},
   "outputs": [
    {
     "data": {
      "text/html": [
       "<div>\n",
       "<style scoped>\n",
       "    .dataframe tbody tr th:only-of-type {\n",
       "        vertical-align: middle;\n",
       "    }\n",
       "\n",
       "    .dataframe tbody tr th {\n",
       "        vertical-align: top;\n",
       "    }\n",
       "\n",
       "    .dataframe thead th {\n",
       "        text-align: right;\n",
       "    }\n",
       "</style>\n",
       "<table border=\"1\" class=\"dataframe\">\n",
       "  <thead>\n",
       "    <tr style=\"text-align: right;\">\n",
       "      <th></th>\n",
       "      <th>ID</th>\n",
       "      <th>VIOLATION_ENF_ASSOC.ENFORCEMENT_ID</th>\n",
       "      <th>VIOLATION_ENF_ASSOC.VIOLATION_ID</th>\n",
       "    </tr>\n",
       "    <tr>\n",
       "      <th>VIOLATION_ENF_ASSOC.PWSID</th>\n",
       "      <th></th>\n",
       "      <th></th>\n",
       "      <th></th>\n",
       "    </tr>\n",
       "  </thead>\n",
       "  <tbody>\n",
       "    <tr>\n",
       "      <th>NC0241588</th>\n",
       "      <td>c9f81ec0-c050-4bd0-9af3-d019de1fb31a</td>\n",
       "      <td>788429</td>\n",
       "      <td>4626636</td>\n",
       "    </tr>\n",
       "    <tr>\n",
       "      <th>MS0020006</th>\n",
       "      <td>fbf0edec-efb8-4c4a-80d6-afdcf1ffc67f</td>\n",
       "      <td>7105413</td>\n",
       "      <td>7104973</td>\n",
       "    </tr>\n",
       "    <tr>\n",
       "      <th>CT0180334</th>\n",
       "      <td>7d72119f-0dac-44f3-87b0-25da9f49345b</td>\n",
       "      <td>1209</td>\n",
       "      <td>129209</td>\n",
       "    </tr>\n",
       "    <tr>\n",
       "      <th>PA1150767</th>\n",
       "      <td>9829fa37-d453-4151-bb2f-c12b8bdda854</td>\n",
       "      <td>11001569001</td>\n",
       "      <td>1102713</td>\n",
       "    </tr>\n",
       "    <tr>\n",
       "      <th>OH3841912</th>\n",
       "      <td>de725c07-c4e4-4987-8db1-be06f6721f5c</td>\n",
       "      <td>8122709</td>\n",
       "      <td>8658209</td>\n",
       "    </tr>\n",
       "  </tbody>\n",
       "</table>\n",
       "</div>"
      ],
      "text/plain": [
       "                                                             ID  \\\n",
       "VIOLATION_ENF_ASSOC.PWSID                                         \n",
       "NC0241588                  c9f81ec0-c050-4bd0-9af3-d019de1fb31a   \n",
       "MS0020006                  fbf0edec-efb8-4c4a-80d6-afdcf1ffc67f   \n",
       "CT0180334                  7d72119f-0dac-44f3-87b0-25da9f49345b   \n",
       "PA1150767                  9829fa37-d453-4151-bb2f-c12b8bdda854   \n",
       "OH3841912                  de725c07-c4e4-4987-8db1-be06f6721f5c   \n",
       "\n",
       "                          VIOLATION_ENF_ASSOC.ENFORCEMENT_ID  \\\n",
       "VIOLATION_ENF_ASSOC.PWSID                                      \n",
       "NC0241588                                             788429   \n",
       "MS0020006                                            7105413   \n",
       "CT0180334                                               1209   \n",
       "PA1150767                                        11001569001   \n",
       "OH3841912                                            8122709   \n",
       "\n",
       "                          VIOLATION_ENF_ASSOC.VIOLATION_ID  \n",
       "VIOLATION_ENF_ASSOC.PWSID                                   \n",
       "NC0241588                                          4626636  \n",
       "MS0020006                                          7104973  \n",
       "CT0180334                                           129209  \n",
       "PA1150767                                          1102713  \n",
       "OH3841912                                          8658209  "
      ]
     },
     "execution_count": 367,
     "metadata": {},
     "output_type": "execute_result"
    }
   ],
   "source": [
    "violation_enf.head()"
   ]
  },
  {
   "cell_type": "code",
   "execution_count": 369,
   "metadata": {
    "collapsed": true
   },
   "outputs": [],
   "source": [
    "# Data will be saved in the `sanitized` folder.\n",
    "sanitized_violation_enf_file = join(PATH_TO_DATA_FOLDER, 'sanitized', 'VIOLATION_ENF_ASSOC.csv')\n",
    "violation_enf.to_csv(sanitized_violation_enf_file, sep=\",\", encoding='utf-8')"
   ]
  },
  {
   "cell_type": "markdown",
   "metadata": {},
   "source": [
    "## `SERVICE_AREA` table\n"
   ]
  },
  {
   "cell_type": "code",
   "execution_count": 378,
   "metadata": {
    "collapsed": true
   },
   "outputs": [],
   "source": [
    "service_area = pd.read_csv(join(PATH_TO_DATA_FOLDER, \"DG_SERVICE_AREA.csv\"),\n",
    "                 sep=\",\",\n",
    "                 header=0,\n",
    "                 index_col=0,\n",
    "                 encoding=\"utf-8\",\n",
    "                 low_memory=False,\n",
    "                 )\n"
   ]
  },
  {
   "cell_type": "code",
   "execution_count": 379,
   "metadata": {},
   "outputs": [
    {
     "data": {
      "text/html": [
       "<div>\n",
       "<style scoped>\n",
       "    .dataframe tbody tr th:only-of-type {\n",
       "        vertical-align: middle;\n",
       "    }\n",
       "\n",
       "    .dataframe tbody tr th {\n",
       "        vertical-align: top;\n",
       "    }\n",
       "\n",
       "    .dataframe thead th {\n",
       "        text-align: right;\n",
       "    }\n",
       "</style>\n",
       "<table border=\"1\" class=\"dataframe\">\n",
       "  <thead>\n",
       "    <tr style=\"text-align: right;\">\n",
       "      <th></th>\n",
       "      <th>SERVICE_AREA.PRIMACY_AGENCY_CODE</th>\n",
       "      <th>SERVICE_AREA.EPA_REGION</th>\n",
       "      <th>SERVICE_AREA.PWS_ACTIVITY_CODE</th>\n",
       "      <th>SERVICE_AREA.PWS_TYPE_CODE</th>\n",
       "      <th>SERVICE_AREA.SERVICE_AREA_TYPE_CODE</th>\n",
       "      <th>SERVICE_AREA.IS_PRIMARY_SERVICE_AREA_CODE</th>\n",
       "    </tr>\n",
       "    <tr>\n",
       "      <th>SERVICE_AREA.PWSID</th>\n",
       "      <th></th>\n",
       "      <th></th>\n",
       "      <th></th>\n",
       "      <th></th>\n",
       "      <th></th>\n",
       "      <th></th>\n",
       "    </tr>\n",
       "  </thead>\n",
       "  <tbody>\n",
       "    <tr>\n",
       "      <th>MD0100047</th>\n",
       "      <td>MD</td>\n",
       "      <td>3</td>\n",
       "      <td>A</td>\n",
       "      <td>CWS</td>\n",
       "      <td>OR</td>\n",
       "      <td>Y</td>\n",
       "    </tr>\n",
       "    <tr>\n",
       "      <th>MD1220047</th>\n",
       "      <td>MD</td>\n",
       "      <td>3</td>\n",
       "      <td>A</td>\n",
       "      <td>NTNCWS</td>\n",
       "      <td>DC</td>\n",
       "      <td>Y</td>\n",
       "    </tr>\n",
       "    <tr>\n",
       "      <th>MD1101338</th>\n",
       "      <td>MD</td>\n",
       "      <td>3</td>\n",
       "      <td>A</td>\n",
       "      <td>NTNCWS</td>\n",
       "      <td>DC</td>\n",
       "      <td>Y</td>\n",
       "    </tr>\n",
       "    <tr>\n",
       "      <th>MD1011124</th>\n",
       "      <td>MD</td>\n",
       "      <td>3</td>\n",
       "      <td>A</td>\n",
       "      <td>TNCWS</td>\n",
       "      <td>OT</td>\n",
       "      <td>Y</td>\n",
       "    </tr>\n",
       "    <tr>\n",
       "      <th>MD1021756</th>\n",
       "      <td>MD</td>\n",
       "      <td>3</td>\n",
       "      <td>A</td>\n",
       "      <td>TNCWS</td>\n",
       "      <td>OT</td>\n",
       "      <td>Y</td>\n",
       "    </tr>\n",
       "  </tbody>\n",
       "</table>\n",
       "</div>"
      ],
      "text/plain": [
       "                   SERVICE_AREA.PRIMACY_AGENCY_CODE  SERVICE_AREA.EPA_REGION  \\\n",
       "SERVICE_AREA.PWSID                                                             \n",
       "MD0100047                                        MD                        3   \n",
       "MD1220047                                        MD                        3   \n",
       "MD1101338                                        MD                        3   \n",
       "MD1011124                                        MD                        3   \n",
       "MD1021756                                        MD                        3   \n",
       "\n",
       "                   SERVICE_AREA.PWS_ACTIVITY_CODE SERVICE_AREA.PWS_TYPE_CODE  \\\n",
       "SERVICE_AREA.PWSID                                                             \n",
       "MD0100047                                       A                        CWS   \n",
       "MD1220047                                       A                     NTNCWS   \n",
       "MD1101338                                       A                     NTNCWS   \n",
       "MD1011124                                       A                      TNCWS   \n",
       "MD1021756                                       A                      TNCWS   \n",
       "\n",
       "                   SERVICE_AREA.SERVICE_AREA_TYPE_CODE  \\\n",
       "SERVICE_AREA.PWSID                                       \n",
       "MD0100047                                           OR   \n",
       "MD1220047                                           DC   \n",
       "MD1101338                                           DC   \n",
       "MD1011124                                           OT   \n",
       "MD1021756                                           OT   \n",
       "\n",
       "                   SERVICE_AREA.IS_PRIMARY_SERVICE_AREA_CODE  \n",
       "SERVICE_AREA.PWSID                                            \n",
       "MD0100047                                                  Y  \n",
       "MD1220047                                                  Y  \n",
       "MD1101338                                                  Y  \n",
       "MD1011124                                                  Y  \n",
       "MD1021756                                                  Y  "
      ]
     },
     "execution_count": 379,
     "metadata": {},
     "output_type": "execute_result"
    }
   ],
   "source": [
    "service_area.head()"
   ]
  },
  {
   "cell_type": "markdown",
   "metadata": {},
   "source": [
    "Again there is no primary key so we add one"
   ]
  },
  {
   "cell_type": "code",
   "execution_count": 381,
   "metadata": {},
   "outputs": [
    {
     "data": {
      "text/plain": [
       "False"
      ]
     },
     "execution_count": 381,
     "metadata": {},
     "output_type": "execute_result"
    }
   ],
   "source": [
    "service_area.index.isnull().any()"
   ]
  },
  {
   "cell_type": "markdown",
   "metadata": {},
   "source": [
    "We can use a foreign key of PWSID to the WATER_SYSTEM table.\n",
    "Yet, we need to add a primary key."
   ]
  },
  {
   "cell_type": "code",
   "execution_count": 382,
   "metadata": {
    "collapsed": true
   },
   "outputs": [],
   "source": [
    "ids_service_area = []\n",
    "for idx in range(service_area.shape[0]):\n",
    "    ids_service_area.append(str(uuid.uuid4()))"
   ]
  },
  {
   "cell_type": "code",
   "execution_count": 383,
   "metadata": {
    "collapsed": true
   },
   "outputs": [],
   "source": [
    "# Prepend the ID serie to the dataframe\n",
    "service_area.insert(0, 'ID', pd.Series(ids_service_area, index=service_area.index))"
   ]
  },
  {
   "cell_type": "code",
   "execution_count": 384,
   "metadata": {},
   "outputs": [
    {
     "data": {
      "text/html": [
       "<div>\n",
       "<style scoped>\n",
       "    .dataframe tbody tr th:only-of-type {\n",
       "        vertical-align: middle;\n",
       "    }\n",
       "\n",
       "    .dataframe tbody tr th {\n",
       "        vertical-align: top;\n",
       "    }\n",
       "\n",
       "    .dataframe thead th {\n",
       "        text-align: right;\n",
       "    }\n",
       "</style>\n",
       "<table border=\"1\" class=\"dataframe\">\n",
       "  <thead>\n",
       "    <tr style=\"text-align: right;\">\n",
       "      <th></th>\n",
       "      <th>ID</th>\n",
       "      <th>SERVICE_AREA.PRIMACY_AGENCY_CODE</th>\n",
       "      <th>SERVICE_AREA.EPA_REGION</th>\n",
       "      <th>SERVICE_AREA.PWS_ACTIVITY_CODE</th>\n",
       "      <th>SERVICE_AREA.PWS_TYPE_CODE</th>\n",
       "      <th>SERVICE_AREA.SERVICE_AREA_TYPE_CODE</th>\n",
       "      <th>SERVICE_AREA.IS_PRIMARY_SERVICE_AREA_CODE</th>\n",
       "    </tr>\n",
       "    <tr>\n",
       "      <th>SERVICE_AREA.PWSID</th>\n",
       "      <th></th>\n",
       "      <th></th>\n",
       "      <th></th>\n",
       "      <th></th>\n",
       "      <th></th>\n",
       "      <th></th>\n",
       "      <th></th>\n",
       "    </tr>\n",
       "  </thead>\n",
       "  <tbody>\n",
       "    <tr>\n",
       "      <th>MD0100047</th>\n",
       "      <td>96e894b0-91b2-4c6a-915c-77a4c5dabd41</td>\n",
       "      <td>MD</td>\n",
       "      <td>3</td>\n",
       "      <td>A</td>\n",
       "      <td>CWS</td>\n",
       "      <td>OR</td>\n",
       "      <td>Y</td>\n",
       "    </tr>\n",
       "    <tr>\n",
       "      <th>MD1220047</th>\n",
       "      <td>3dd5b572-e95e-4564-b329-ebc0450e04dd</td>\n",
       "      <td>MD</td>\n",
       "      <td>3</td>\n",
       "      <td>A</td>\n",
       "      <td>NTNCWS</td>\n",
       "      <td>DC</td>\n",
       "      <td>Y</td>\n",
       "    </tr>\n",
       "    <tr>\n",
       "      <th>MD1101338</th>\n",
       "      <td>9bf90f34-8d2c-40ff-8340-d4b0c6ded7cf</td>\n",
       "      <td>MD</td>\n",
       "      <td>3</td>\n",
       "      <td>A</td>\n",
       "      <td>NTNCWS</td>\n",
       "      <td>DC</td>\n",
       "      <td>Y</td>\n",
       "    </tr>\n",
       "    <tr>\n",
       "      <th>MD1011124</th>\n",
       "      <td>2cd1f536-3fc6-4424-9165-cef9e065e653</td>\n",
       "      <td>MD</td>\n",
       "      <td>3</td>\n",
       "      <td>A</td>\n",
       "      <td>TNCWS</td>\n",
       "      <td>OT</td>\n",
       "      <td>Y</td>\n",
       "    </tr>\n",
       "    <tr>\n",
       "      <th>MD1021756</th>\n",
       "      <td>480b760a-dd49-46a8-86c4-f25984e9c2d9</td>\n",
       "      <td>MD</td>\n",
       "      <td>3</td>\n",
       "      <td>A</td>\n",
       "      <td>TNCWS</td>\n",
       "      <td>OT</td>\n",
       "      <td>Y</td>\n",
       "    </tr>\n",
       "  </tbody>\n",
       "</table>\n",
       "</div>"
      ],
      "text/plain": [
       "                                                      ID  \\\n",
       "SERVICE_AREA.PWSID                                         \n",
       "MD0100047           96e894b0-91b2-4c6a-915c-77a4c5dabd41   \n",
       "MD1220047           3dd5b572-e95e-4564-b329-ebc0450e04dd   \n",
       "MD1101338           9bf90f34-8d2c-40ff-8340-d4b0c6ded7cf   \n",
       "MD1011124           2cd1f536-3fc6-4424-9165-cef9e065e653   \n",
       "MD1021756           480b760a-dd49-46a8-86c4-f25984e9c2d9   \n",
       "\n",
       "                   SERVICE_AREA.PRIMACY_AGENCY_CODE  SERVICE_AREA.EPA_REGION  \\\n",
       "SERVICE_AREA.PWSID                                                             \n",
       "MD0100047                                        MD                        3   \n",
       "MD1220047                                        MD                        3   \n",
       "MD1101338                                        MD                        3   \n",
       "MD1011124                                        MD                        3   \n",
       "MD1021756                                        MD                        3   \n",
       "\n",
       "                   SERVICE_AREA.PWS_ACTIVITY_CODE SERVICE_AREA.PWS_TYPE_CODE  \\\n",
       "SERVICE_AREA.PWSID                                                             \n",
       "MD0100047                                       A                        CWS   \n",
       "MD1220047                                       A                     NTNCWS   \n",
       "MD1101338                                       A                     NTNCWS   \n",
       "MD1011124                                       A                      TNCWS   \n",
       "MD1021756                                       A                      TNCWS   \n",
       "\n",
       "                   SERVICE_AREA.SERVICE_AREA_TYPE_CODE  \\\n",
       "SERVICE_AREA.PWSID                                       \n",
       "MD0100047                                           OR   \n",
       "MD1220047                                           DC   \n",
       "MD1101338                                           DC   \n",
       "MD1011124                                           OT   \n",
       "MD1021756                                           OT   \n",
       "\n",
       "                   SERVICE_AREA.IS_PRIMARY_SERVICE_AREA_CODE  \n",
       "SERVICE_AREA.PWSID                                            \n",
       "MD0100047                                                  Y  \n",
       "MD1220047                                                  Y  \n",
       "MD1101338                                                  Y  \n",
       "MD1011124                                                  Y  \n",
       "MD1021756                                                  Y  "
      ]
     },
     "execution_count": 384,
     "metadata": {},
     "output_type": "execute_result"
    }
   ],
   "source": [
    "service_area.head()"
   ]
  },
  {
   "cell_type": "code",
   "execution_count": 385,
   "metadata": {
    "collapsed": true
   },
   "outputs": [],
   "source": [
    "# Data will be saved in the `sanitized` folder.\n",
    "sanitized_service_area_file = join(PATH_TO_DATA_FOLDER, 'sanitized', 'SERVICE_AREA.csv')\n",
    "service_area.to_csv(sanitized_service_area_file, sep=\",\", encoding='utf-8')"
   ]
  },
  {
   "cell_type": "markdown",
   "metadata": {},
   "source": [
    "## `GEOGRAPHIC_AREA` table\n"
   ]
  },
  {
   "cell_type": "code",
   "execution_count": 386,
   "metadata": {
    "collapsed": true
   },
   "outputs": [],
   "source": [
    "geo = pd.read_csv(join(PATH_TO_DATA_FOLDER, \"DG_GEOGRAPHIC_AREA.csv\"),\n",
    "                 sep=\",\",\n",
    "                 header=0,\n",
    "                 index_col=0,\n",
    "                 encoding=\"utf-8\",\n",
    "                 low_memory=False,\n",
    "                 )\n"
   ]
  },
  {
   "cell_type": "code",
   "execution_count": 387,
   "metadata": {},
   "outputs": [
    {
     "data": {
      "text/html": [
       "<div>\n",
       "<style scoped>\n",
       "    .dataframe tbody tr th:only-of-type {\n",
       "        vertical-align: middle;\n",
       "    }\n",
       "\n",
       "    .dataframe tbody tr th {\n",
       "        vertical-align: top;\n",
       "    }\n",
       "\n",
       "    .dataframe thead th {\n",
       "        text-align: right;\n",
       "    }\n",
       "</style>\n",
       "<table border=\"1\" class=\"dataframe\">\n",
       "  <thead>\n",
       "    <tr style=\"text-align: right;\">\n",
       "      <th></th>\n",
       "      <th>GEO_ID</th>\n",
       "      <th>PRIMACY_AGENCY_CODE</th>\n",
       "      <th>EPA_REGION</th>\n",
       "      <th>PWS_ACTIVITY_CODE</th>\n",
       "      <th>PWS_TYPE_CODE</th>\n",
       "      <th>TRIBAL_CODE</th>\n",
       "      <th>STATE_SERVED</th>\n",
       "      <th>ANSI_ENTITY_CODE</th>\n",
       "      <th>ZIP_CODE_SERVED</th>\n",
       "      <th>CITY_SERVED</th>\n",
       "      <th>AREA_TYPE_CODE</th>\n",
       "      <th>COUNTY_SERVED</th>\n",
       "    </tr>\n",
       "    <tr>\n",
       "      <th>PWSID</th>\n",
       "      <th></th>\n",
       "      <th></th>\n",
       "      <th></th>\n",
       "      <th></th>\n",
       "      <th></th>\n",
       "      <th></th>\n",
       "      <th></th>\n",
       "      <th></th>\n",
       "      <th></th>\n",
       "      <th></th>\n",
       "      <th></th>\n",
       "      <th></th>\n",
       "    </tr>\n",
       "  </thead>\n",
       "  <tbody>\n",
       "    <tr>\n",
       "      <th>AK2113536</th>\n",
       "      <td>22749033</td>\n",
       "      <td>AK</td>\n",
       "      <td>10</td>\n",
       "      <td>N</td>\n",
       "      <td>TNCWS</td>\n",
       "      <td>NaN</td>\n",
       "      <td>AK</td>\n",
       "      <td>NaN</td>\n",
       "      <td>NaN</td>\n",
       "      <td>HAINES</td>\n",
       "      <td>CT</td>\n",
       "      <td>NaN</td>\n",
       "    </tr>\n",
       "    <tr>\n",
       "      <th>AK2113536</th>\n",
       "      <td>22749034</td>\n",
       "      <td>AK</td>\n",
       "      <td>10</td>\n",
       "      <td>N</td>\n",
       "      <td>TNCWS</td>\n",
       "      <td>NaN</td>\n",
       "      <td>NaN</td>\n",
       "      <td>100</td>\n",
       "      <td>NaN</td>\n",
       "      <td>NaN</td>\n",
       "      <td>CN</td>\n",
       "      <td>Haines Borough</td>\n",
       "    </tr>\n",
       "    <tr>\n",
       "      <th>ME0009920</th>\n",
       "      <td>22749035</td>\n",
       "      <td>ME</td>\n",
       "      <td>1</td>\n",
       "      <td>I</td>\n",
       "      <td>TNCWS</td>\n",
       "      <td>NaN</td>\n",
       "      <td>ME</td>\n",
       "      <td>NaN</td>\n",
       "      <td>NaN</td>\n",
       "      <td>BETHEL</td>\n",
       "      <td>CT</td>\n",
       "      <td>NaN</td>\n",
       "    </tr>\n",
       "    <tr>\n",
       "      <th>ME0009920</th>\n",
       "      <td>22749036</td>\n",
       "      <td>ME</td>\n",
       "      <td>1</td>\n",
       "      <td>I</td>\n",
       "      <td>TNCWS</td>\n",
       "      <td>NaN</td>\n",
       "      <td>NaN</td>\n",
       "      <td>017</td>\n",
       "      <td>NaN</td>\n",
       "      <td>NaN</td>\n",
       "      <td>CN</td>\n",
       "      <td>Oxford</td>\n",
       "    </tr>\n",
       "    <tr>\n",
       "      <th>NY0319346</th>\n",
       "      <td>22749037</td>\n",
       "      <td>NY</td>\n",
       "      <td>2</td>\n",
       "      <td>I</td>\n",
       "      <td>TNCWS</td>\n",
       "      <td>NaN</td>\n",
       "      <td>NY</td>\n",
       "      <td>NaN</td>\n",
       "      <td>NaN</td>\n",
       "      <td>UNION (T)</td>\n",
       "      <td>CT</td>\n",
       "      <td>NaN</td>\n",
       "    </tr>\n",
       "  </tbody>\n",
       "</table>\n",
       "</div>"
      ],
      "text/plain": [
       "             GEO_ID PRIMACY_AGENCY_CODE  EPA_REGION PWS_ACTIVITY_CODE  \\\n",
       "PWSID                                                                   \n",
       "AK2113536  22749033                  AK          10                 N   \n",
       "AK2113536  22749034                  AK          10                 N   \n",
       "ME0009920  22749035                  ME           1                 I   \n",
       "ME0009920  22749036                  ME           1                 I   \n",
       "NY0319346  22749037                  NY           2                 I   \n",
       "\n",
       "          PWS_TYPE_CODE  TRIBAL_CODE STATE_SERVED ANSI_ENTITY_CODE  \\\n",
       "PWSID                                                                \n",
       "AK2113536         TNCWS          NaN           AK              NaN   \n",
       "AK2113536         TNCWS          NaN          NaN              100   \n",
       "ME0009920         TNCWS          NaN           ME              NaN   \n",
       "ME0009920         TNCWS          NaN          NaN              017   \n",
       "NY0319346         TNCWS          NaN           NY              NaN   \n",
       "\n",
       "           ZIP_CODE_SERVED CITY_SERVED AREA_TYPE_CODE   COUNTY_SERVED  \n",
       "PWSID                                                                  \n",
       "AK2113536              NaN      HAINES             CT             NaN  \n",
       "AK2113536              NaN         NaN             CN  Haines Borough  \n",
       "ME0009920              NaN      BETHEL             CT             NaN  \n",
       "ME0009920              NaN         NaN             CN          Oxford  \n",
       "NY0319346              NaN   UNION (T)             CT             NaN  "
      ]
     },
     "execution_count": 387,
     "metadata": {},
     "output_type": "execute_result"
    }
   ],
   "source": [
    "geo.head()"
   ]
  },
  {
   "cell_type": "code",
   "execution_count": 391,
   "metadata": {},
   "outputs": [
    {
     "data": {
      "text/plain": [
       "True"
      ]
     },
     "execution_count": 391,
     "metadata": {},
     "output_type": "execute_result"
    }
   ],
   "source": [
    "geo['GEO_ID'].is_unique"
   ]
  },
  {
   "cell_type": "code",
   "execution_count": 392,
   "metadata": {},
   "outputs": [
    {
     "data": {
      "text/plain": [
       "False"
      ]
     },
     "execution_count": 392,
     "metadata": {},
     "output_type": "execute_result"
    }
   ],
   "source": [
    "geo['GEO_ID'].isnull().values.any()"
   ]
  },
  {
   "cell_type": "code",
   "execution_count": 394,
   "metadata": {},
   "outputs": [
    {
     "data": {
      "text/plain": [
       "False"
      ]
     },
     "execution_count": 394,
     "metadata": {},
     "output_type": "execute_result"
    }
   ],
   "source": [
    "geo.index.isnull().any()"
   ]
  },
  {
   "cell_type": "markdown",
   "metadata": {},
   "source": [
    "We can use the `GEO_ID` as primary key for the table. We also set a foreign key on PWSID to WATER_SYSTEM (PWSID). "
   ]
  },
  {
   "cell_type": "markdown",
   "metadata": {},
   "source": [
    "No need to use a different file."
   ]
  },
  {
   "cell_type": "markdown",
   "metadata": {},
   "source": [
    "## Table `ENFORCEMENT_ACTION`"
   ]
  },
  {
   "cell_type": "code",
   "execution_count": 398,
   "metadata": {
    "collapsed": true
   },
   "outputs": [],
   "source": [
    "ENFORCMENT_DATE_idx = 3"
   ]
  },
  {
   "cell_type": "code",
   "execution_count": 410,
   "metadata": {
    "collapsed": true
   },
   "outputs": [],
   "source": [
    "enfo = pd.read_csv(join(PATH_TO_DATA_FOLDER, \"DG_ENFORCEMENT_ACTION.csv\"),\n",
    "                 sep=\",\",\n",
    "                 header=0,\n",
    "                 encoding=\"utf-8\",\n",
    "                index_col=0,\n",
    "                 low_memory=False,\n",
    "                 parse_dates=[ENFORCMENT_DATE_idx]\n",
    "                 )\n"
   ]
  },
  {
   "cell_type": "code",
   "execution_count": 411,
   "metadata": {},
   "outputs": [
    {
     "data": {
      "text/html": [
       "<div>\n",
       "<style scoped>\n",
       "    .dataframe tbody tr th:only-of-type {\n",
       "        vertical-align: middle;\n",
       "    }\n",
       "\n",
       "    .dataframe tbody tr th {\n",
       "        vertical-align: top;\n",
       "    }\n",
       "\n",
       "    .dataframe thead th {\n",
       "        text-align: right;\n",
       "    }\n",
       "</style>\n",
       "<table border=\"1\" class=\"dataframe\">\n",
       "  <thead>\n",
       "    <tr style=\"text-align: right;\">\n",
       "      <th></th>\n",
       "      <th>ENFORCEMENT_ID</th>\n",
       "      <th>ORIGINATOR_CODE</th>\n",
       "      <th>ENFORCEMENT_DATE</th>\n",
       "      <th>ENFORCEMENT_ACTION_TYPE_CODE</th>\n",
       "      <th>ENFORCEMENT_COMMENT_TEXT</th>\n",
       "    </tr>\n",
       "    <tr>\n",
       "      <th>PWSID</th>\n",
       "      <th></th>\n",
       "      <th></th>\n",
       "      <th></th>\n",
       "      <th></th>\n",
       "      <th></th>\n",
       "    </tr>\n",
       "  </thead>\n",
       "  <tbody>\n",
       "    <tr>\n",
       "      <th>OH8200003</th>\n",
       "      <td>1091220</td>\n",
       "      <td>S</td>\n",
       "      <td>2015-11-19</td>\n",
       "      <td>SIE</td>\n",
       "      <td>NaN</td>\n",
       "    </tr>\n",
       "    <tr>\n",
       "      <th>OH8200003</th>\n",
       "      <td>1091221</td>\n",
       "      <td>S</td>\n",
       "      <td>2015-12-09</td>\n",
       "      <td>SIF</td>\n",
       "      <td>NaN</td>\n",
       "    </tr>\n",
       "    <tr>\n",
       "      <th>OH8300012</th>\n",
       "      <td>6062769</td>\n",
       "      <td>S</td>\n",
       "      <td>2015-11-19</td>\n",
       "      <td>SIE</td>\n",
       "      <td>NaN</td>\n",
       "    </tr>\n",
       "    <tr>\n",
       "      <th>OH8301012</th>\n",
       "      <td>8073814</td>\n",
       "      <td>S</td>\n",
       "      <td>2015-12-07</td>\n",
       "      <td>SIA</td>\n",
       "      <td>NaN</td>\n",
       "    </tr>\n",
       "    <tr>\n",
       "      <th>OH8301012</th>\n",
       "      <td>8073815</td>\n",
       "      <td>S</td>\n",
       "      <td>2015-12-07</td>\n",
       "      <td>SIE</td>\n",
       "      <td>NaN</td>\n",
       "    </tr>\n",
       "  </tbody>\n",
       "</table>\n",
       "</div>"
      ],
      "text/plain": [
       "          ENFORCEMENT_ID ORIGINATOR_CODE ENFORCEMENT_DATE  \\\n",
       "PWSID                                                       \n",
       "OH8200003        1091220               S       2015-11-19   \n",
       "OH8200003        1091221               S       2015-12-09   \n",
       "OH8300012        6062769               S       2015-11-19   \n",
       "OH8301012        8073814               S       2015-12-07   \n",
       "OH8301012        8073815               S       2015-12-07   \n",
       "\n",
       "          ENFORCEMENT_ACTION_TYPE_CODE ENFORCEMENT_COMMENT_TEXT  \n",
       "PWSID                                                            \n",
       "OH8200003                          SIE                      NaN  \n",
       "OH8200003                          SIF                      NaN  \n",
       "OH8300012                          SIE                      NaN  \n",
       "OH8301012                          SIA                      NaN  \n",
       "OH8301012                          SIE                      NaN  "
      ]
     },
     "execution_count": 411,
     "metadata": {},
     "output_type": "execute_result"
    }
   ],
   "source": [
    "enfo.head()"
   ]
  },
  {
   "cell_type": "code",
   "execution_count": 402,
   "metadata": {},
   "outputs": [
    {
     "data": {
      "text/plain": [
       "False"
      ]
     },
     "execution_count": 402,
     "metadata": {},
     "output_type": "execute_result"
    }
   ],
   "source": [
    "enfo['PWSID'].isnull().values.any()"
   ]
  },
  {
   "cell_type": "markdown",
   "metadata": {},
   "source": [
    "We can use PWSID ad fk to WATER_SYSTEM (PWSID)"
   ]
  },
  {
   "cell_type": "code",
   "execution_count": 403,
   "metadata": {},
   "outputs": [
    {
     "data": {
      "text/plain": [
       "array(['S', 'R', 'F'], dtype=object)"
      ]
     },
     "execution_count": 403,
     "metadata": {},
     "output_type": "execute_result"
    }
   ],
   "source": [
    "enfo['ORIGINATOR_CODE'].unique()"
   ]
  },
  {
   "cell_type": "code",
   "execution_count": 404,
   "metadata": {},
   "outputs": [
    {
     "data": {
      "text/plain": [
       "array(['SIE', 'SIF', 'SIA', 'SFM', 'SOX', 'SFJ', 'SFO', 'SO0', 'SFG',\n",
       "       'SIB', 'SIC', 'SID', 'EOX', 'SFL', 'SFR', 'SFK', 'SO8', 'SFH',\n",
       "       'SOY', 'SFQ', 'EFJ', 'SO6', 'SII', 'SFN', 'SF4', 'EFL', 'EF/',\n",
       "       'SO+', 'EF<', 'SO7', 'SF%', 'EO6', 'SFS', 'SFU', 'EFR', 'EIA',\n",
       "       'EO8', 'SF3', 'SFT', 'EIC', 'EFK', 'EIE', 'EIF', 'EF-', 'SFV',\n",
       "       'EO0', 'EIB', 'EOY', 'EO7', 'SOZ', 'EID', 'EFG', 'EFH', 'EFQ',\n",
       "       'EII', 'SF5', 'EF!', 'EO+', 'SFW'], dtype=object)"
      ]
     },
     "execution_count": 404,
     "metadata": {},
     "output_type": "execute_result"
    }
   ],
   "source": [
    "enfo['ENFORCEMENT_ACTION_TYPE_CODE'].unique()"
   ]
  },
  {
   "cell_type": "code",
   "execution_count": 409,
   "metadata": {},
   "outputs": [
    {
     "data": {
      "text/plain": [
       "False"
      ]
     },
     "execution_count": 409,
     "metadata": {},
     "output_type": "execute_result"
    }
   ],
   "source": [
    "enfo['ENFORCEMENT_ID'].is_unique"
   ]
  },
  {
   "cell_type": "markdown",
   "metadata": {},
   "source": [
    "We need to add another id."
   ]
  },
  {
   "cell_type": "code",
   "execution_count": 412,
   "metadata": {
    "collapsed": true
   },
   "outputs": [],
   "source": [
    "ids_enfo = []\n",
    "for idx in range(enfo.shape[0]):\n",
    "    ids_enfo.append(str(uuid.uuid4()))"
   ]
  },
  {
   "cell_type": "code",
   "execution_count": 413,
   "metadata": {
    "collapsed": true
   },
   "outputs": [],
   "source": [
    "# Prepend the ID serie to the dataframe\n",
    "enfo.insert(0, 'ID', pd.Series(ids_enfo, index=enfo.index))"
   ]
  },
  {
   "cell_type": "code",
   "execution_count": 414,
   "metadata": {},
   "outputs": [
    {
     "data": {
      "text/html": [
       "<div>\n",
       "<style scoped>\n",
       "    .dataframe tbody tr th:only-of-type {\n",
       "        vertical-align: middle;\n",
       "    }\n",
       "\n",
       "    .dataframe tbody tr th {\n",
       "        vertical-align: top;\n",
       "    }\n",
       "\n",
       "    .dataframe thead th {\n",
       "        text-align: right;\n",
       "    }\n",
       "</style>\n",
       "<table border=\"1\" class=\"dataframe\">\n",
       "  <thead>\n",
       "    <tr style=\"text-align: right;\">\n",
       "      <th></th>\n",
       "      <th>ID</th>\n",
       "      <th>ENFORCEMENT_ID</th>\n",
       "      <th>ORIGINATOR_CODE</th>\n",
       "      <th>ENFORCEMENT_DATE</th>\n",
       "      <th>ENFORCEMENT_ACTION_TYPE_CODE</th>\n",
       "      <th>ENFORCEMENT_COMMENT_TEXT</th>\n",
       "    </tr>\n",
       "    <tr>\n",
       "      <th>PWSID</th>\n",
       "      <th></th>\n",
       "      <th></th>\n",
       "      <th></th>\n",
       "      <th></th>\n",
       "      <th></th>\n",
       "      <th></th>\n",
       "    </tr>\n",
       "  </thead>\n",
       "  <tbody>\n",
       "    <tr>\n",
       "      <th>OH8200003</th>\n",
       "      <td>dc3dbc09-bf95-42ca-b55e-f6bad0c8b66a</td>\n",
       "      <td>1091220</td>\n",
       "      <td>S</td>\n",
       "      <td>2015-11-19</td>\n",
       "      <td>SIE</td>\n",
       "      <td>NaN</td>\n",
       "    </tr>\n",
       "    <tr>\n",
       "      <th>OH8200003</th>\n",
       "      <td>74f8bed5-04c8-4f38-811b-a0b3f9d2698c</td>\n",
       "      <td>1091221</td>\n",
       "      <td>S</td>\n",
       "      <td>2015-12-09</td>\n",
       "      <td>SIF</td>\n",
       "      <td>NaN</td>\n",
       "    </tr>\n",
       "    <tr>\n",
       "      <th>OH8300012</th>\n",
       "      <td>77583693-34fa-4664-b222-2f5d341b5d78</td>\n",
       "      <td>6062769</td>\n",
       "      <td>S</td>\n",
       "      <td>2015-11-19</td>\n",
       "      <td>SIE</td>\n",
       "      <td>NaN</td>\n",
       "    </tr>\n",
       "    <tr>\n",
       "      <th>OH8301012</th>\n",
       "      <td>e3613975-3b98-4434-8178-9a6863e449f6</td>\n",
       "      <td>8073814</td>\n",
       "      <td>S</td>\n",
       "      <td>2015-12-07</td>\n",
       "      <td>SIA</td>\n",
       "      <td>NaN</td>\n",
       "    </tr>\n",
       "    <tr>\n",
       "      <th>OH8301012</th>\n",
       "      <td>ff14337c-7dd2-4e54-8b70-bde602de20df</td>\n",
       "      <td>8073815</td>\n",
       "      <td>S</td>\n",
       "      <td>2015-12-07</td>\n",
       "      <td>SIE</td>\n",
       "      <td>NaN</td>\n",
       "    </tr>\n",
       "  </tbody>\n",
       "</table>\n",
       "</div>"
      ],
      "text/plain": [
       "                                             ID ENFORCEMENT_ID  \\\n",
       "PWSID                                                            \n",
       "OH8200003  dc3dbc09-bf95-42ca-b55e-f6bad0c8b66a        1091220   \n",
       "OH8200003  74f8bed5-04c8-4f38-811b-a0b3f9d2698c        1091221   \n",
       "OH8300012  77583693-34fa-4664-b222-2f5d341b5d78        6062769   \n",
       "OH8301012  e3613975-3b98-4434-8178-9a6863e449f6        8073814   \n",
       "OH8301012  ff14337c-7dd2-4e54-8b70-bde602de20df        8073815   \n",
       "\n",
       "          ORIGINATOR_CODE ENFORCEMENT_DATE ENFORCEMENT_ACTION_TYPE_CODE  \\\n",
       "PWSID                                                                     \n",
       "OH8200003               S       2015-11-19                          SIE   \n",
       "OH8200003               S       2015-12-09                          SIF   \n",
       "OH8300012               S       2015-11-19                          SIE   \n",
       "OH8301012               S       2015-12-07                          SIA   \n",
       "OH8301012               S       2015-12-07                          SIE   \n",
       "\n",
       "          ENFORCEMENT_COMMENT_TEXT  \n",
       "PWSID                               \n",
       "OH8200003                      NaN  \n",
       "OH8200003                      NaN  \n",
       "OH8300012                      NaN  \n",
       "OH8301012                      NaN  \n",
       "OH8301012                      NaN  "
      ]
     },
     "execution_count": 414,
     "metadata": {},
     "output_type": "execute_result"
    }
   ],
   "source": [
    "enfo.head()"
   ]
  },
  {
   "cell_type": "code",
   "execution_count": 415,
   "metadata": {
    "collapsed": true
   },
   "outputs": [],
   "source": [
    "# Data will be saved in the `sanitized` folder.\n",
    "sanitized_enfo_file = join(PATH_TO_DATA_FOLDER, 'sanitized', 'ENFORCEMENT_ACTION.csv')\n",
    "enfo.to_csv(sanitized_enfo_file, sep=\",\", encoding='utf-8')"
   ]
  },
  {
   "cell_type": "markdown",
   "metadata": {},
   "source": [
    "## `contaminant-codes` table "
   ]
  },
  {
   "cell_type": "code",
   "execution_count": 420,
   "metadata": {
    "collapsed": true
   },
   "outputs": [],
   "source": [
    "cont = pd.read_csv(join(PATH_TO_DATA_FOLDER, \"contaminant-codes.csv\"),\n",
    "                 sep=\",\",\n",
    "                 header=0,\n",
    "                 encoding=\"utf-8\",\n",
    "                index_col=0,\n",
    "                 low_memory=False,\n",
    "                 )\n"
   ]
  },
  {
   "cell_type": "code",
   "execution_count": 421,
   "metadata": {},
   "outputs": [
    {
     "data": {
      "text/html": [
       "<div>\n",
       "<style scoped>\n",
       "    .dataframe tbody tr th:only-of-type {\n",
       "        vertical-align: middle;\n",
       "    }\n",
       "\n",
       "    .dataframe tbody tr th {\n",
       "        vertical-align: top;\n",
       "    }\n",
       "\n",
       "    .dataframe thead th {\n",
       "        text-align: right;\n",
       "    }\n",
       "</style>\n",
       "<table border=\"1\" class=\"dataframe\">\n",
       "  <thead>\n",
       "    <tr style=\"text-align: right;\">\n",
       "      <th></th>\n",
       "      <th>NAME</th>\n",
       "      <th>SCIENTIFIC_NAME</th>\n",
       "      <th>TYPE_CODE</th>\n",
       "    </tr>\n",
       "    <tr>\n",
       "      <th>CODE</th>\n",
       "      <th></th>\n",
       "      <th></th>\n",
       "      <th></th>\n",
       "    </tr>\n",
       "  </thead>\n",
       "  <tbody>\n",
       "    <tr>\n",
       "      <th>0100</th>\n",
       "      <td>TURBIDITY</td>\n",
       "      <td>NaN</td>\n",
       "      <td>WQ</td>\n",
       "    </tr>\n",
       "    <tr>\n",
       "      <th>0200</th>\n",
       "      <td>SWTR</td>\n",
       "      <td>NaN</td>\n",
       "      <td>RL</td>\n",
       "    </tr>\n",
       "    <tr>\n",
       "      <th>0300</th>\n",
       "      <td>IESWTR</td>\n",
       "      <td>NaN</td>\n",
       "      <td>RL</td>\n",
       "    </tr>\n",
       "    <tr>\n",
       "      <th>0400</th>\n",
       "      <td>DBP STAGE 1</td>\n",
       "      <td>NaN</td>\n",
       "      <td>RL</td>\n",
       "    </tr>\n",
       "    <tr>\n",
       "      <th>0500</th>\n",
       "      <td>FILTER BACKWASH RULE</td>\n",
       "      <td>NaN</td>\n",
       "      <td>RL</td>\n",
       "    </tr>\n",
       "  </tbody>\n",
       "</table>\n",
       "</div>"
      ],
      "text/plain": [
       "                      NAME SCIENTIFIC_NAME TYPE_CODE\n",
       "CODE                                                \n",
       "0100             TURBIDITY             NaN        WQ\n",
       "0200                  SWTR             NaN        RL\n",
       "0300                IESWTR             NaN        RL\n",
       "0400           DBP STAGE 1             NaN        RL\n",
       "0500  FILTER BACKWASH RULE             NaN        RL"
      ]
     },
     "execution_count": 421,
     "metadata": {},
     "output_type": "execute_result"
    }
   ],
   "source": [
    "cont.head()"
   ]
  },
  {
   "cell_type": "code",
   "execution_count": 423,
   "metadata": {},
   "outputs": [
    {
     "data": {
      "text/plain": [
       "True"
      ]
     },
     "execution_count": 423,
     "metadata": {},
     "output_type": "execute_result"
    }
   ],
   "source": [
    "cont.index.is_unique"
   ]
  },
  {
   "cell_type": "code",
   "execution_count": 426,
   "metadata": {},
   "outputs": [
    {
     "data": {
      "text/plain": [
       "False"
      ]
     },
     "execution_count": 426,
     "metadata": {},
     "output_type": "execute_result"
    }
   ],
   "source": [
    "cont.index.isnull().any()"
   ]
  },
  {
   "cell_type": "markdown",
   "metadata": {},
   "source": [
    "We can use the code as primary key"
   ]
  },
  {
   "cell_type": "code",
   "execution_count": 428,
   "metadata": {},
   "outputs": [
    {
     "data": {
      "text/plain": [
       "array(['WQ', 'RL', 'GC', 'IOC', 'OC', 'RA', 'OT', 'MOR'], dtype=object)"
      ]
     },
     "execution_count": 428,
     "metadata": {},
     "output_type": "execute_result"
    }
   ],
   "source": [
    "cont['TYPE_CODE'].unique()"
   ]
  },
  {
   "cell_type": "markdown",
   "metadata": {},
   "source": [
    "We can directly integrate the file"
   ]
  },
  {
   "cell_type": "markdown",
   "metadata": {},
   "source": [
    "## `contaminant-group-codes.csv` Table"
   ]
  },
  {
   "cell_type": "code",
   "execution_count": 431,
   "metadata": {
    "collapsed": true
   },
   "outputs": [],
   "source": [
    "cont_groups = pd.read_csv(join(PATH_TO_DATA_FOLDER, \"contaminant-group-codes.csv\"),\n",
    "                 sep=\",\",\n",
    "                 header=0,\n",
    "                 encoding=\"utf-8\",\n",
    "                index_col=0,\n",
    "                 low_memory=False,\n",
    "                 )\n"
   ]
  },
  {
   "cell_type": "code",
   "execution_count": 433,
   "metadata": {},
   "outputs": [
    {
     "data": {
      "text/html": [
       "<div>\n",
       "<style scoped>\n",
       "    .dataframe tbody tr th:only-of-type {\n",
       "        vertical-align: middle;\n",
       "    }\n",
       "\n",
       "    .dataframe tbody tr th {\n",
       "        vertical-align: top;\n",
       "    }\n",
       "\n",
       "    .dataframe thead th {\n",
       "        text-align: right;\n",
       "    }\n",
       "</style>\n",
       "<table border=\"1\" class=\"dataframe\">\n",
       "  <thead>\n",
       "    <tr style=\"text-align: right;\">\n",
       "      <th></th>\n",
       "      <th>CONTAMINANT_NAME</th>\n",
       "      <th>CONTAMINANT_GROUP</th>\n",
       "      <th>CONTAMINANT_GROUP_CODE</th>\n",
       "    </tr>\n",
       "    <tr>\n",
       "      <th>CONTAMINANT_CODE</th>\n",
       "      <th></th>\n",
       "      <th></th>\n",
       "      <th></th>\n",
       "    </tr>\n",
       "  </thead>\n",
       "  <tbody>\n",
       "    <tr>\n",
       "      <th>4000</th>\n",
       "      <td>GROSS ALPHA, EXCL. RADON &amp; U</td>\n",
       "      <td>ALL RADIOCHEMICAL</td>\n",
       "      <td>ARAD</td>\n",
       "    </tr>\n",
       "    <tr>\n",
       "      <th>4002</th>\n",
       "      <td>GROSS ALPHA, INCL. RADON &amp; U</td>\n",
       "      <td>ALL RADIOCHEMICAL</td>\n",
       "      <td>ARAD</td>\n",
       "    </tr>\n",
       "    <tr>\n",
       "      <th>4004</th>\n",
       "      <td>RADON</td>\n",
       "      <td>ALL RADIOCHEMICAL</td>\n",
       "      <td>ARAD</td>\n",
       "    </tr>\n",
       "    <tr>\n",
       "      <th>4006</th>\n",
       "      <td>COMBINED URANIUM</td>\n",
       "      <td>ALL RADIOCHEMICAL</td>\n",
       "      <td>ARAD</td>\n",
       "    </tr>\n",
       "    <tr>\n",
       "      <th>4100</th>\n",
       "      <td>GROSS BETA PARTICLE ACTIVITY</td>\n",
       "      <td>ALL RADIOCHEMICAL</td>\n",
       "      <td>ARAD</td>\n",
       "    </tr>\n",
       "  </tbody>\n",
       "</table>\n",
       "</div>"
      ],
      "text/plain": [
       "                              CONTAMINANT_NAME  CONTAMINANT_GROUP  \\\n",
       "CONTAMINANT_CODE                                                    \n",
       "4000              GROSS ALPHA, EXCL. RADON & U  ALL RADIOCHEMICAL   \n",
       "4002              GROSS ALPHA, INCL. RADON & U  ALL RADIOCHEMICAL   \n",
       "4004                                     RADON  ALL RADIOCHEMICAL   \n",
       "4006                          COMBINED URANIUM  ALL RADIOCHEMICAL   \n",
       "4100              GROSS BETA PARTICLE ACTIVITY  ALL RADIOCHEMICAL   \n",
       "\n",
       "                 CONTAMINANT_GROUP_CODE  \n",
       "CONTAMINANT_CODE                         \n",
       "4000                               ARAD  \n",
       "4002                               ARAD  \n",
       "4004                               ARAD  \n",
       "4006                               ARAD  \n",
       "4100                               ARAD  "
      ]
     },
     "execution_count": 433,
     "metadata": {},
     "output_type": "execute_result"
    }
   ],
   "source": [
    "cont_groups.head()"
   ]
  },
  {
   "cell_type": "code",
   "execution_count": 436,
   "metadata": {},
   "outputs": [
    {
     "data": {
      "text/plain": [
       "array(['ALL RADIOCHEMICAL', 'ALL REG EXP.PBCU/DBP', 'ALL SOCS',\n",
       "       'ALL VOCS(REG/UNREG)', 'BASELINE SECONDARIES', 'CYANIDE GROUP',\n",
       "       'TTHM & HAA5', 'SOC - DIQUAT', 'SOC - ENDOTHALL', 'FLUORIDE GROUP',\n",
       "       'GROSS ALPHA', 'SOC - GLYPHOSATE', 'HALOACETIC ACIDS',\n",
       "       'HEAVY METALS', 'NITRATES GROUP', 'NITRITE GROUP', 'NEW RAD RULE',\n",
       "       'LEAD AND COPPER', 'ALL REG PRE-2008', 'QT GA & UMASS',\n",
       "       'OLD RAD RULE', 'REGULATED SOCS', 'SECONDARY PARAMETERS',\n",
       "       'SECONDARY HEAVY META', 'OLD SOCS', 'TOCA', 'TOTAL TRIHALOMETHANE',\n",
       "       'UNREGULATED', 'VOLATILE ORGANICS'], dtype=object)"
      ]
     },
     "execution_count": 436,
     "metadata": {},
     "output_type": "execute_result"
    }
   ],
   "source": [
    "cont_groups.CONTAMINANT_GROUP.unique()"
   ]
  },
  {
   "cell_type": "code",
   "execution_count": 437,
   "metadata": {},
   "outputs": [
    {
     "data": {
      "text/plain": [
       "array(['ARAD', 'AREG', 'ASOC', 'AVOC', 'BSEC', 'CYA', 'DBP1', 'DIQU',\n",
       "       'ENDO', 'FLU', 'GA', 'GLYP', 'HAA5', 'HM', 'NIT', 'NITI', 'NRAD',\n",
       "       'PBCU', 'PRE8', 'QGAU', 'RAD', 'RSOC', 'SEC', 'SECM', 'SOCS',\n",
       "       'TOCA', 'TTHM', 'UNRG', 'VOC1'], dtype=object)"
      ]
     },
     "execution_count": 437,
     "metadata": {},
     "output_type": "execute_result"
    }
   ],
   "source": [
    "cont_groups.CONTAMINANT_GROUP_CODE.unique()"
   ]
  },
  {
   "cell_type": "code",
   "execution_count": 434,
   "metadata": {},
   "outputs": [
    {
     "data": {
      "text/plain": [
       "False"
      ]
     },
     "execution_count": 434,
     "metadata": {},
     "output_type": "execute_result"
    }
   ],
   "source": [
    "cont_groups.index.is_unique"
   ]
  },
  {
   "cell_type": "code",
   "execution_count": 444,
   "metadata": {},
   "outputs": [
    {
     "data": {
      "text/plain": [
       "False"
      ]
     },
     "execution_count": 444,
     "metadata": {},
     "output_type": "execute_result"
    }
   ],
   "source": [
    "cont_groups.CONTAMINANT_GROUP_CODE.isnull().values.any()"
   ]
  },
  {
   "cell_type": "code",
   "execution_count": 443,
   "metadata": {},
   "outputs": [
    {
     "data": {
      "text/plain": [
       "False"
      ]
     },
     "execution_count": 443,
     "metadata": {},
     "output_type": "execute_result"
    }
   ],
   "source": [
    "cont_groups.index.isnull().any()"
   ]
  },
  {
   "cell_type": "markdown",
   "metadata": {},
   "source": [
    "We need a new primary key"
   ]
  },
  {
   "cell_type": "code",
   "execution_count": 438,
   "metadata": {
    "collapsed": true
   },
   "outputs": [],
   "source": [
    "ids_conts_groupe = []\n",
    "for idx in range(cont_groups.shape[0]):\n",
    "    ids_conts_groupe.append(str(uuid.uuid4()))"
   ]
  },
  {
   "cell_type": "code",
   "execution_count": 440,
   "metadata": {
    "collapsed": true
   },
   "outputs": [],
   "source": [
    "# Prepend the ID serie to the dataframe\n",
    "cont_groups.insert(0, 'ID', pd.Series(ids_conts_groupe, index=cont_groups.index))"
   ]
  },
  {
   "cell_type": "code",
   "execution_count": 441,
   "metadata": {},
   "outputs": [
    {
     "data": {
      "text/html": [
       "<div>\n",
       "<style scoped>\n",
       "    .dataframe tbody tr th:only-of-type {\n",
       "        vertical-align: middle;\n",
       "    }\n",
       "\n",
       "    .dataframe tbody tr th {\n",
       "        vertical-align: top;\n",
       "    }\n",
       "\n",
       "    .dataframe thead th {\n",
       "        text-align: right;\n",
       "    }\n",
       "</style>\n",
       "<table border=\"1\" class=\"dataframe\">\n",
       "  <thead>\n",
       "    <tr style=\"text-align: right;\">\n",
       "      <th></th>\n",
       "      <th>ID</th>\n",
       "      <th>CONTAMINANT_NAME</th>\n",
       "      <th>CONTAMINANT_GROUP</th>\n",
       "      <th>CONTAMINANT_GROUP_CODE</th>\n",
       "    </tr>\n",
       "    <tr>\n",
       "      <th>CONTAMINANT_CODE</th>\n",
       "      <th></th>\n",
       "      <th></th>\n",
       "      <th></th>\n",
       "      <th></th>\n",
       "    </tr>\n",
       "  </thead>\n",
       "  <tbody>\n",
       "    <tr>\n",
       "      <th>4000</th>\n",
       "      <td>33e97efe-8477-4ff3-a8d7-93f9f8b29aeb</td>\n",
       "      <td>GROSS ALPHA, EXCL. RADON &amp; U</td>\n",
       "      <td>ALL RADIOCHEMICAL</td>\n",
       "      <td>ARAD</td>\n",
       "    </tr>\n",
       "    <tr>\n",
       "      <th>4002</th>\n",
       "      <td>5b9dce38-5fa6-467d-a55c-5e48d912d5c5</td>\n",
       "      <td>GROSS ALPHA, INCL. RADON &amp; U</td>\n",
       "      <td>ALL RADIOCHEMICAL</td>\n",
       "      <td>ARAD</td>\n",
       "    </tr>\n",
       "    <tr>\n",
       "      <th>4004</th>\n",
       "      <td>ff0c8dd4-f77e-4b2d-81bb-9012d23fea38</td>\n",
       "      <td>RADON</td>\n",
       "      <td>ALL RADIOCHEMICAL</td>\n",
       "      <td>ARAD</td>\n",
       "    </tr>\n",
       "    <tr>\n",
       "      <th>4006</th>\n",
       "      <td>66a54c51-175d-436a-85d5-f3661d7ea79d</td>\n",
       "      <td>COMBINED URANIUM</td>\n",
       "      <td>ALL RADIOCHEMICAL</td>\n",
       "      <td>ARAD</td>\n",
       "    </tr>\n",
       "    <tr>\n",
       "      <th>4100</th>\n",
       "      <td>5376e21c-1dcb-4621-a33f-d0da4fcfa405</td>\n",
       "      <td>GROSS BETA PARTICLE ACTIVITY</td>\n",
       "      <td>ALL RADIOCHEMICAL</td>\n",
       "      <td>ARAD</td>\n",
       "    </tr>\n",
       "  </tbody>\n",
       "</table>\n",
       "</div>"
      ],
      "text/plain": [
       "                                                    ID  \\\n",
       "CONTAMINANT_CODE                                         \n",
       "4000              33e97efe-8477-4ff3-a8d7-93f9f8b29aeb   \n",
       "4002              5b9dce38-5fa6-467d-a55c-5e48d912d5c5   \n",
       "4004              ff0c8dd4-f77e-4b2d-81bb-9012d23fea38   \n",
       "4006              66a54c51-175d-436a-85d5-f3661d7ea79d   \n",
       "4100              5376e21c-1dcb-4621-a33f-d0da4fcfa405   \n",
       "\n",
       "                              CONTAMINANT_NAME  CONTAMINANT_GROUP  \\\n",
       "CONTAMINANT_CODE                                                    \n",
       "4000              GROSS ALPHA, EXCL. RADON & U  ALL RADIOCHEMICAL   \n",
       "4002              GROSS ALPHA, INCL. RADON & U  ALL RADIOCHEMICAL   \n",
       "4004                                     RADON  ALL RADIOCHEMICAL   \n",
       "4006                          COMBINED URANIUM  ALL RADIOCHEMICAL   \n",
       "4100              GROSS BETA PARTICLE ACTIVITY  ALL RADIOCHEMICAL   \n",
       "\n",
       "                 CONTAMINANT_GROUP_CODE  \n",
       "CONTAMINANT_CODE                         \n",
       "4000                               ARAD  \n",
       "4002                               ARAD  \n",
       "4004                               ARAD  \n",
       "4006                               ARAD  \n",
       "4100                               ARAD  "
      ]
     },
     "execution_count": 441,
     "metadata": {},
     "output_type": "execute_result"
    }
   ],
   "source": [
    "cont_groups.head()"
   ]
  },
  {
   "cell_type": "code",
   "execution_count": 442,
   "metadata": {
    "collapsed": true
   },
   "outputs": [],
   "source": [
    "# Data will be saved in the `sanitized` folder.\n",
    "sanitized_conts_groupe_file = join(PATH_TO_DATA_FOLDER, 'sanitized', 'CONTAMINANT_GROUP_CODES.csv')\n",
    "cont_groups.to_csv(sanitized_conts_groupe_file, sep=\",\", encoding='utf-8')"
   ]
  },
  {
   "cell_type": "markdown",
   "metadata": {},
   "source": [
    "## `LCR_SAMPLE` Table"
   ]
  },
  {
   "cell_type": "code",
   "execution_count": 445,
   "metadata": {
    "collapsed": true
   },
   "outputs": [],
   "source": [
    "SAMPLING_START_DATE_idx = 3 \n",
    "SAMPLING_END_DATE_idx = 2"
   ]
  },
  {
   "cell_type": "code",
   "execution_count": 447,
   "metadata": {
    "collapsed": true
   },
   "outputs": [],
   "source": [
    "samp = pd.read_csv(join(PATH_TO_DATA_FOLDER, \"DG_LCR_SAMPLE.csv\"),\n",
    "                 sep=\",\",\n",
    "                 header=0,\n",
    "                 encoding=\"utf-8\",\n",
    "                index_col=1,\n",
    "                 low_memory=False,\n",
    "                parse_dates=[SAMPLING_END_DATE_idx, SAMPLING_START_DATE_idx]\n",
    "                 )\n"
   ]
  },
  {
   "cell_type": "code",
   "execution_count": 448,
   "metadata": {
    "scrolled": true
   },
   "outputs": [
    {
     "data": {
      "text/html": [
       "<div>\n",
       "<style scoped>\n",
       "    .dataframe tbody tr th:only-of-type {\n",
       "        vertical-align: middle;\n",
       "    }\n",
       "\n",
       "    .dataframe tbody tr th {\n",
       "        vertical-align: top;\n",
       "    }\n",
       "\n",
       "    .dataframe thead th {\n",
       "        text-align: right;\n",
       "    }\n",
       "</style>\n",
       "<table border=\"1\" class=\"dataframe\">\n",
       "  <thead>\n",
       "    <tr style=\"text-align: right;\">\n",
       "      <th></th>\n",
       "      <th>PWSID</th>\n",
       "      <th>SAMPLING_END_DATE</th>\n",
       "      <th>SAMPLING_START_DATE</th>\n",
       "      <th>RECONCILIATION_ID</th>\n",
       "      <th>PRIMACY_AGENCY_CODE</th>\n",
       "      <th>EPA_REGION</th>\n",
       "    </tr>\n",
       "    <tr>\n",
       "      <th>SAMPLE_ID</th>\n",
       "      <th></th>\n",
       "      <th></th>\n",
       "      <th></th>\n",
       "      <th></th>\n",
       "      <th></th>\n",
       "      <th></th>\n",
       "    </tr>\n",
       "  </thead>\n",
       "  <tbody>\n",
       "    <tr>\n",
       "      <th>ME30165</th>\n",
       "      <td>ME0090250</td>\n",
       "      <td>2018-12-31</td>\n",
       "      <td>2016-01-01</td>\n",
       "      <td>NaN</td>\n",
       "      <td>ME</td>\n",
       "      <td>1</td>\n",
       "    </tr>\n",
       "    <tr>\n",
       "      <th>ME30307</th>\n",
       "      <td>ME0009850</td>\n",
       "      <td>2018-12-31</td>\n",
       "      <td>2016-01-01</td>\n",
       "      <td>NaN</td>\n",
       "      <td>ME</td>\n",
       "      <td>1</td>\n",
       "    </tr>\n",
       "    <tr>\n",
       "      <th>ME30353</th>\n",
       "      <td>ME0091565</td>\n",
       "      <td>2018-12-31</td>\n",
       "      <td>2016-01-01</td>\n",
       "      <td>NaN</td>\n",
       "      <td>ME</td>\n",
       "      <td>1</td>\n",
       "    </tr>\n",
       "    <tr>\n",
       "      <th>ME30211</th>\n",
       "      <td>ME0091537</td>\n",
       "      <td>2018-12-31</td>\n",
       "      <td>2016-01-01</td>\n",
       "      <td>NaN</td>\n",
       "      <td>ME</td>\n",
       "      <td>1</td>\n",
       "    </tr>\n",
       "    <tr>\n",
       "      <th>ME30272</th>\n",
       "      <td>ME0002893</td>\n",
       "      <td>2019-12-31</td>\n",
       "      <td>2017-01-01</td>\n",
       "      <td>NaN</td>\n",
       "      <td>ME</td>\n",
       "      <td>1</td>\n",
       "    </tr>\n",
       "  </tbody>\n",
       "</table>\n",
       "</div>"
      ],
      "text/plain": [
       "               PWSID SAMPLING_END_DATE SAMPLING_START_DATE  RECONCILIATION_ID  \\\n",
       "SAMPLE_ID                                                                       \n",
       "ME30165    ME0090250        2018-12-31          2016-01-01                NaN   \n",
       "ME30307    ME0009850        2018-12-31          2016-01-01                NaN   \n",
       "ME30353    ME0091565        2018-12-31          2016-01-01                NaN   \n",
       "ME30211    ME0091537        2018-12-31          2016-01-01                NaN   \n",
       "ME30272    ME0002893        2019-12-31          2017-01-01                NaN   \n",
       "\n",
       "          PRIMACY_AGENCY_CODE  EPA_REGION  \n",
       "SAMPLE_ID                                  \n",
       "ME30165                    ME           1  \n",
       "ME30307                    ME           1  \n",
       "ME30353                    ME           1  \n",
       "ME30211                    ME           1  \n",
       "ME30272                    ME           1  "
      ]
     },
     "execution_count": 448,
     "metadata": {},
     "output_type": "execute_result"
    }
   ],
   "source": [
    "samp.head()"
   ]
  },
  {
   "cell_type": "code",
   "execution_count": 452,
   "metadata": {
    "scrolled": true
   },
   "outputs": [
    {
     "data": {
      "text/plain": [
       "False"
      ]
     },
     "execution_count": 452,
     "metadata": {},
     "output_type": "execute_result"
    }
   ],
   "source": [
    "samp.PWSID.isnull().values.any()"
   ]
  },
  {
   "cell_type": "code",
   "execution_count": 453,
   "metadata": {},
   "outputs": [
    {
     "data": {
      "text/plain": [
       "array([ 1,  7,  2,  3,  8, 10,  4,  9,  5,  6])"
      ]
     },
     "execution_count": 453,
     "metadata": {},
     "output_type": "execute_result"
    }
   ],
   "source": [
    "samp.EPA_REGION.unique()"
   ]
  },
  {
   "cell_type": "code",
   "execution_count": 454,
   "metadata": {},
   "outputs": [
    {
     "data": {
      "text/plain": [
       "array(['ME', 'NE', 'NJ', 'VA', 'SD', 'ID', 'TN', 'AS', 'OH', 'LA', 'NV',\n",
       "       'NN', 'CA', 'NY', 'VT', 'DE', 'FL', 'MS', '10', 'WA', 'WI', 'ND',\n",
       "       'TX', 'MO', 'RI', 'UT', 'CT', 'MT', 'AR', 'WY', 'GA', 'OR', 'WV',\n",
       "       'MN', 'IA', 'MA', 'OK', 'HI', 'MD', 'IL', 'AZ', 'NC', 'CO', '08',\n",
       "       'IN', 'NM', 'KY', 'SC', 'PR', '01', 'DC', '06', 'MI', 'KS', 'AK',\n",
       "       'NH', 'PA', '05', 'AL', '07', '09', '04', 'MP', 'GU', 'VI', '02'],\n",
       "      dtype=object)"
      ]
     },
     "execution_count": 454,
     "metadata": {},
     "output_type": "execute_result"
    }
   ],
   "source": [
    "samp.PRIMACY_AGENCY_CODE.unique()"
   ]
  },
  {
   "cell_type": "code",
   "execution_count": 455,
   "metadata": {},
   "outputs": [
    {
     "data": {
      "text/plain": [
       "array([nan])"
      ]
     },
     "execution_count": 455,
     "metadata": {},
     "output_type": "execute_result"
    }
   ],
   "source": [
    "samp.RECONCILIATION_ID.unique()"
   ]
  },
  {
   "cell_type": "markdown",
   "metadata": {},
   "source": [
    "Reconciliatio_ID is only `NAN` -> we drop it"
   ]
  },
  {
   "cell_type": "code",
   "execution_count": 458,
   "metadata": {
    "collapsed": true
   },
   "outputs": [],
   "source": [
    "samp.drop(axis=1, labels='RECONCILIATION_ID', inplace=True);"
   ]
  },
  {
   "cell_type": "code",
   "execution_count": 459,
   "metadata": {},
   "outputs": [
    {
     "data": {
      "text/html": [
       "<div>\n",
       "<style scoped>\n",
       "    .dataframe tbody tr th:only-of-type {\n",
       "        vertical-align: middle;\n",
       "    }\n",
       "\n",
       "    .dataframe tbody tr th {\n",
       "        vertical-align: top;\n",
       "    }\n",
       "\n",
       "    .dataframe thead th {\n",
       "        text-align: right;\n",
       "    }\n",
       "</style>\n",
       "<table border=\"1\" class=\"dataframe\">\n",
       "  <thead>\n",
       "    <tr style=\"text-align: right;\">\n",
       "      <th></th>\n",
       "      <th>PWSID</th>\n",
       "      <th>SAMPLING_END_DATE</th>\n",
       "      <th>SAMPLING_START_DATE</th>\n",
       "      <th>PRIMACY_AGENCY_CODE</th>\n",
       "      <th>EPA_REGION</th>\n",
       "    </tr>\n",
       "    <tr>\n",
       "      <th>SAMPLE_ID</th>\n",
       "      <th></th>\n",
       "      <th></th>\n",
       "      <th></th>\n",
       "      <th></th>\n",
       "      <th></th>\n",
       "    </tr>\n",
       "  </thead>\n",
       "  <tbody>\n",
       "    <tr>\n",
       "      <th>ME30165</th>\n",
       "      <td>ME0090250</td>\n",
       "      <td>2018-12-31</td>\n",
       "      <td>2016-01-01</td>\n",
       "      <td>ME</td>\n",
       "      <td>1</td>\n",
       "    </tr>\n",
       "    <tr>\n",
       "      <th>ME30307</th>\n",
       "      <td>ME0009850</td>\n",
       "      <td>2018-12-31</td>\n",
       "      <td>2016-01-01</td>\n",
       "      <td>ME</td>\n",
       "      <td>1</td>\n",
       "    </tr>\n",
       "    <tr>\n",
       "      <th>ME30353</th>\n",
       "      <td>ME0091565</td>\n",
       "      <td>2018-12-31</td>\n",
       "      <td>2016-01-01</td>\n",
       "      <td>ME</td>\n",
       "      <td>1</td>\n",
       "    </tr>\n",
       "    <tr>\n",
       "      <th>ME30211</th>\n",
       "      <td>ME0091537</td>\n",
       "      <td>2018-12-31</td>\n",
       "      <td>2016-01-01</td>\n",
       "      <td>ME</td>\n",
       "      <td>1</td>\n",
       "    </tr>\n",
       "    <tr>\n",
       "      <th>ME30272</th>\n",
       "      <td>ME0002893</td>\n",
       "      <td>2019-12-31</td>\n",
       "      <td>2017-01-01</td>\n",
       "      <td>ME</td>\n",
       "      <td>1</td>\n",
       "    </tr>\n",
       "  </tbody>\n",
       "</table>\n",
       "</div>"
      ],
      "text/plain": [
       "               PWSID SAMPLING_END_DATE SAMPLING_START_DATE  \\\n",
       "SAMPLE_ID                                                    \n",
       "ME30165    ME0090250        2018-12-31          2016-01-01   \n",
       "ME30307    ME0009850        2018-12-31          2016-01-01   \n",
       "ME30353    ME0091565        2018-12-31          2016-01-01   \n",
       "ME30211    ME0091537        2018-12-31          2016-01-01   \n",
       "ME30272    ME0002893        2019-12-31          2017-01-01   \n",
       "\n",
       "          PRIMACY_AGENCY_CODE  EPA_REGION  \n",
       "SAMPLE_ID                                  \n",
       "ME30165                    ME           1  \n",
       "ME30307                    ME           1  \n",
       "ME30353                    ME           1  \n",
       "ME30211                    ME           1  \n",
       "ME30272                    ME           1  "
      ]
     },
     "execution_count": 459,
     "metadata": {},
     "output_type": "execute_result"
    }
   ],
   "source": [
    "samp.head()"
   ]
  },
  {
   "cell_type": "code",
   "execution_count": 450,
   "metadata": {},
   "outputs": [
    {
     "data": {
      "text/plain": [
       "False"
      ]
     },
     "execution_count": 450,
     "metadata": {},
     "output_type": "execute_result"
    }
   ],
   "source": [
    "samp.index.is_unique"
   ]
  },
  {
   "cell_type": "markdown",
   "metadata": {},
   "source": [
    "We need a new key"
   ]
  },
  {
   "cell_type": "code",
   "execution_count": 460,
   "metadata": {
    "collapsed": true
   },
   "outputs": [],
   "source": [
    "ids_samp = []\n",
    "for idx in range(samp.shape[0]):\n",
    "    ids_samp.append(str(uuid.uuid4()))"
   ]
  },
  {
   "cell_type": "code",
   "execution_count": 461,
   "metadata": {
    "collapsed": true
   },
   "outputs": [],
   "source": [
    "# Prepend the ID serie to the dataframe\n",
    "samp.insert(0, 'ID', pd.Series(ids_samp, index=samp.index))"
   ]
  },
  {
   "cell_type": "code",
   "execution_count": 462,
   "metadata": {},
   "outputs": [
    {
     "data": {
      "text/html": [
       "<div>\n",
       "<style scoped>\n",
       "    .dataframe tbody tr th:only-of-type {\n",
       "        vertical-align: middle;\n",
       "    }\n",
       "\n",
       "    .dataframe tbody tr th {\n",
       "        vertical-align: top;\n",
       "    }\n",
       "\n",
       "    .dataframe thead th {\n",
       "        text-align: right;\n",
       "    }\n",
       "</style>\n",
       "<table border=\"1\" class=\"dataframe\">\n",
       "  <thead>\n",
       "    <tr style=\"text-align: right;\">\n",
       "      <th></th>\n",
       "      <th>ID</th>\n",
       "      <th>PWSID</th>\n",
       "      <th>SAMPLING_END_DATE</th>\n",
       "      <th>SAMPLING_START_DATE</th>\n",
       "      <th>PRIMACY_AGENCY_CODE</th>\n",
       "      <th>EPA_REGION</th>\n",
       "    </tr>\n",
       "    <tr>\n",
       "      <th>SAMPLE_ID</th>\n",
       "      <th></th>\n",
       "      <th></th>\n",
       "      <th></th>\n",
       "      <th></th>\n",
       "      <th></th>\n",
       "      <th></th>\n",
       "    </tr>\n",
       "  </thead>\n",
       "  <tbody>\n",
       "    <tr>\n",
       "      <th>ME30165</th>\n",
       "      <td>b386c319-cafd-45a8-acd8-f0b12a0b4977</td>\n",
       "      <td>ME0090250</td>\n",
       "      <td>2018-12-31</td>\n",
       "      <td>2016-01-01</td>\n",
       "      <td>ME</td>\n",
       "      <td>1</td>\n",
       "    </tr>\n",
       "    <tr>\n",
       "      <th>ME30307</th>\n",
       "      <td>c58688dc-8d85-4db6-ab37-aa34ea2e76bf</td>\n",
       "      <td>ME0009850</td>\n",
       "      <td>2018-12-31</td>\n",
       "      <td>2016-01-01</td>\n",
       "      <td>ME</td>\n",
       "      <td>1</td>\n",
       "    </tr>\n",
       "    <tr>\n",
       "      <th>ME30353</th>\n",
       "      <td>151d9793-5ecc-474a-b4f0-d7172460bd1d</td>\n",
       "      <td>ME0091565</td>\n",
       "      <td>2018-12-31</td>\n",
       "      <td>2016-01-01</td>\n",
       "      <td>ME</td>\n",
       "      <td>1</td>\n",
       "    </tr>\n",
       "    <tr>\n",
       "      <th>ME30211</th>\n",
       "      <td>400b8e00-5af2-4213-8b23-26654623e5c6</td>\n",
       "      <td>ME0091537</td>\n",
       "      <td>2018-12-31</td>\n",
       "      <td>2016-01-01</td>\n",
       "      <td>ME</td>\n",
       "      <td>1</td>\n",
       "    </tr>\n",
       "    <tr>\n",
       "      <th>ME30272</th>\n",
       "      <td>3194b387-cc9e-4268-a575-2542457243f0</td>\n",
       "      <td>ME0002893</td>\n",
       "      <td>2019-12-31</td>\n",
       "      <td>2017-01-01</td>\n",
       "      <td>ME</td>\n",
       "      <td>1</td>\n",
       "    </tr>\n",
       "  </tbody>\n",
       "</table>\n",
       "</div>"
      ],
      "text/plain": [
       "                                             ID      PWSID SAMPLING_END_DATE  \\\n",
       "SAMPLE_ID                                                                      \n",
       "ME30165    b386c319-cafd-45a8-acd8-f0b12a0b4977  ME0090250        2018-12-31   \n",
       "ME30307    c58688dc-8d85-4db6-ab37-aa34ea2e76bf  ME0009850        2018-12-31   \n",
       "ME30353    151d9793-5ecc-474a-b4f0-d7172460bd1d  ME0091565        2018-12-31   \n",
       "ME30211    400b8e00-5af2-4213-8b23-26654623e5c6  ME0091537        2018-12-31   \n",
       "ME30272    3194b387-cc9e-4268-a575-2542457243f0  ME0002893        2019-12-31   \n",
       "\n",
       "          SAMPLING_START_DATE PRIMACY_AGENCY_CODE  EPA_REGION  \n",
       "SAMPLE_ID                                                      \n",
       "ME30165            2016-01-01                  ME           1  \n",
       "ME30307            2016-01-01                  ME           1  \n",
       "ME30353            2016-01-01                  ME           1  \n",
       "ME30211            2016-01-01                  ME           1  \n",
       "ME30272            2017-01-01                  ME           1  "
      ]
     },
     "execution_count": 462,
     "metadata": {},
     "output_type": "execute_result"
    }
   ],
   "source": [
    "samp.head()"
   ]
  },
  {
   "cell_type": "code",
   "execution_count": 463,
   "metadata": {
    "collapsed": true
   },
   "outputs": [],
   "source": [
    "# Data will be saved in the `sanitized` folder.\n",
    "sanitized_samp_file = join(PATH_TO_DATA_FOLDER, 'sanitized', 'LCR_SAMPLE.csv')\n",
    "samp.to_csv(sanitized_samp_file, sep=\",\", encoding='utf-8')"
   ]
  },
  {
   "cell_type": "code",
   "execution_count": 464,
   "metadata": {},
   "outputs": [
    {
     "data": {
      "text/plain": [
       "'191021111290L3Y2008-'"
      ]
     },
     "execution_count": 464,
     "metadata": {},
     "output_type": "execute_result"
    }
   ],
   "source": [
    "longest_item(samp.index)"
   ]
  },
  {
   "cell_type": "markdown",
   "metadata": {},
   "source": [
    "## `LCR_SAMPLE_RESULT` table"
   ]
  },
  {
   "cell_type": "code",
   "execution_count": 465,
   "metadata": {
    "collapsed": true
   },
   "outputs": [],
   "source": [
    "res = pd.read_csv(join(PATH_TO_DATA_FOLDER, \"DG_LCR_SAMPLE_RESULT.csv\"),\n",
    "                 sep=\",\",\n",
    "                 header=0,\n",
    "                 encoding=\"utf-8\",\n",
    "                index_col=0,\n",
    "                 low_memory=False,\n",
    "                 )\n"
   ]
  },
  {
   "cell_type": "code",
   "execution_count": 466,
   "metadata": {},
   "outputs": [
    {
     "data": {
      "text/html": [
       "<div>\n",
       "<style scoped>\n",
       "    .dataframe tbody tr th:only-of-type {\n",
       "        vertical-align: middle;\n",
       "    }\n",
       "\n",
       "    .dataframe tbody tr th {\n",
       "        vertical-align: top;\n",
       "    }\n",
       "\n",
       "    .dataframe thead th {\n",
       "        text-align: right;\n",
       "    }\n",
       "</style>\n",
       "<table border=\"1\" class=\"dataframe\">\n",
       "  <thead>\n",
       "    <tr style=\"text-align: right;\">\n",
       "      <th></th>\n",
       "      <th>SAMPLE_ID</th>\n",
       "      <th>PRIMACY_AGENCY_CODE</th>\n",
       "      <th>EPA_REGION</th>\n",
       "      <th>SAR_ID</th>\n",
       "      <th>CONTAMINANT_CODE</th>\n",
       "      <th>RESULT_SIGN_CODE</th>\n",
       "      <th>SAMPLE_MEASURE</th>\n",
       "      <th>UNIT_OF_MEASURE</th>\n",
       "    </tr>\n",
       "    <tr>\n",
       "      <th>PWSID</th>\n",
       "      <th></th>\n",
       "      <th></th>\n",
       "      <th></th>\n",
       "      <th></th>\n",
       "      <th></th>\n",
       "      <th></th>\n",
       "      <th></th>\n",
       "      <th></th>\n",
       "    </tr>\n",
       "  </thead>\n",
       "  <tbody>\n",
       "    <tr>\n",
       "      <th>AL0001366</th>\n",
       "      <td>AL56912</td>\n",
       "      <td>AL</td>\n",
       "      <td>4</td>\n",
       "      <td>16251692</td>\n",
       "      <td>PB90</td>\n",
       "      <td>NaN</td>\n",
       "      <td>0.0050</td>\n",
       "      <td>mg/L</td>\n",
       "    </tr>\n",
       "    <tr>\n",
       "      <th>AL0001380</th>\n",
       "      <td>AL56805</td>\n",
       "      <td>AL</td>\n",
       "      <td>4</td>\n",
       "      <td>16251696</td>\n",
       "      <td>PB90</td>\n",
       "      <td>NaN</td>\n",
       "      <td>0.0050</td>\n",
       "      <td>mg/L</td>\n",
       "    </tr>\n",
       "    <tr>\n",
       "      <th>WV3302709</th>\n",
       "      <td>WV32819</td>\n",
       "      <td>WV</td>\n",
       "      <td>3</td>\n",
       "      <td>15563385</td>\n",
       "      <td>PB90</td>\n",
       "      <td>NaN</td>\n",
       "      <td>0.0000</td>\n",
       "      <td>mg/L</td>\n",
       "    </tr>\n",
       "    <tr>\n",
       "      <th>WV3302947</th>\n",
       "      <td>WV32818</td>\n",
       "      <td>WV</td>\n",
       "      <td>3</td>\n",
       "      <td>15563453</td>\n",
       "      <td>PB90</td>\n",
       "      <td>NaN</td>\n",
       "      <td>0.0030</td>\n",
       "      <td>mg/L</td>\n",
       "    </tr>\n",
       "    <tr>\n",
       "      <th>KS2015905</th>\n",
       "      <td>KS6623</td>\n",
       "      <td>KS</td>\n",
       "      <td>7</td>\n",
       "      <td>14482660</td>\n",
       "      <td>PB90</td>\n",
       "      <td>NaN</td>\n",
       "      <td>0.0027</td>\n",
       "      <td>mg/L</td>\n",
       "    </tr>\n",
       "  </tbody>\n",
       "</table>\n",
       "</div>"
      ],
      "text/plain": [
       "          SAMPLE_ID PRIMACY_AGENCY_CODE  EPA_REGION    SAR_ID  \\\n",
       "PWSID                                                           \n",
       "AL0001366   AL56912                  AL           4  16251692   \n",
       "AL0001380   AL56805                  AL           4  16251696   \n",
       "WV3302709   WV32819                  WV           3  15563385   \n",
       "WV3302947   WV32818                  WV           3  15563453   \n",
       "KS2015905    KS6623                  KS           7  14482660   \n",
       "\n",
       "          CONTAMINANT_CODE RESULT_SIGN_CODE  SAMPLE_MEASURE UNIT_OF_MEASURE  \n",
       "PWSID                                                                        \n",
       "AL0001366             PB90              NaN          0.0050            mg/L  \n",
       "AL0001380             PB90              NaN          0.0050            mg/L  \n",
       "WV3302709             PB90              NaN          0.0000            mg/L  \n",
       "WV3302947             PB90              NaN          0.0030            mg/L  \n",
       "KS2015905             PB90              NaN          0.0027            mg/L  "
      ]
     },
     "execution_count": 466,
     "metadata": {},
     "output_type": "execute_result"
    }
   ],
   "source": [
    "res.head()"
   ]
  },
  {
   "cell_type": "code",
   "execution_count": 469,
   "metadata": {},
   "outputs": [
    {
     "data": {
      "text/plain": [
       "False"
      ]
     },
     "execution_count": 469,
     "metadata": {},
     "output_type": "execute_result"
    }
   ],
   "source": [
    "res.index.isnull().any()"
   ]
  },
  {
   "cell_type": "markdown",
   "metadata": {},
   "source": [
    "We can set a fk on WATER SYSTEM(PWSID)"
   ]
  },
  {
   "cell_type": "code",
   "execution_count": 470,
   "metadata": {},
   "outputs": [
    {
     "data": {
      "text/plain": [
       "False"
      ]
     },
     "execution_count": 470,
     "metadata": {},
     "output_type": "execute_result"
    }
   ],
   "source": [
    "res.SAMPLE_ID.isnull().values.any()"
   ]
  },
  {
   "cell_type": "markdown",
   "metadata": {},
   "source": [
    "We can set a fk on LCR_SAMPLE(SAMPLE_ID)"
   ]
  },
  {
   "cell_type": "code",
   "execution_count": 471,
   "metadata": {},
   "outputs": [
    {
     "data": {
      "text/plain": [
       "array(['PB90', 'CU90'], dtype=object)"
      ]
     },
     "execution_count": 471,
     "metadata": {},
     "output_type": "execute_result"
    }
   ],
   "source": [
    "res.CONTAMINANT_CODE.unique()"
   ]
  },
  {
   "cell_type": "code",
   "execution_count": 479,
   "metadata": {},
   "outputs": [
    {
     "data": {
      "text/plain": [
       "True"
      ]
     },
     "execution_count": 479,
     "metadata": {},
     "output_type": "execute_result"
    }
   ],
   "source": [
    "res.SAR_ID.is_unique and not res.SAR_ID.isnull().values.any()"
   ]
  },
  {
   "cell_type": "markdown",
   "metadata": {},
   "source": [
    "We can use SAR_ID as an ID!"
   ]
  },
  {
   "cell_type": "code",
   "execution_count": 480,
   "metadata": {},
   "outputs": [
    {
     "data": {
      "text/plain": [
       "array([ 4,  3,  7,  6,  5,  1,  2,  9,  8, 10])"
      ]
     },
     "execution_count": 480,
     "metadata": {},
     "output_type": "execute_result"
    }
   ],
   "source": [
    "res.EPA_REGION.unique()"
   ]
  },
  {
   "cell_type": "code",
   "execution_count": 481,
   "metadata": {},
   "outputs": [
    {
     "data": {
      "text/plain": [
       "array(['AL', 'WV', 'KS', 'OK', 'IL', 'CT', 'NJ', 'WI', 'CA', 'NY', 'MA',\n",
       "       'PR', 'MT', 'ND', 'OR', 'MO', 'IA', 'MI', 'VT', '05', 'FL', 'AZ',\n",
       "       'WA', 'KY', 'TX', 'VA', 'CO', 'ID', 'OH', 'LA', 'NN', 'IN', 'ME',\n",
       "       'WY', 'GA', 'PA', 'TN', 'UT', 'RI', 'MN', 'AK', 'SD', 'DE', 'NE',\n",
       "       'AR', 'SC', '06', 'NM', 'MD', 'NC', '09', 'HI', 'MS', 'NH', '10',\n",
       "       '08', 'MP', '01', 'NV', 'DC', '04', '07', 'AS', '02', 'GU', 'VI'],\n",
       "      dtype=object)"
      ]
     },
     "execution_count": 481,
     "metadata": {},
     "output_type": "execute_result"
    }
   ],
   "source": [
    "res.PRIMACY_AGENCY_CODE.unique()"
   ]
  },
  {
   "cell_type": "code",
   "execution_count": 482,
   "metadata": {},
   "outputs": [
    {
     "data": {
      "text/plain": [
       "array([nan, '<', '='], dtype=object)"
      ]
     },
     "execution_count": 482,
     "metadata": {},
     "output_type": "execute_result"
    }
   ],
   "source": [
    "res.RESULT_SIGN_CODE.unique()"
   ]
  },
  {
   "cell_type": "code",
   "execution_count": 483,
   "metadata": {},
   "outputs": [
    {
     "data": {
      "text/plain": [
       "array(['mg/L'], dtype=object)"
      ]
     },
     "execution_count": 483,
     "metadata": {},
     "output_type": "execute_result"
    }
   ],
   "source": [
    "res.UNIT_OF_MEASURE.unique()"
   ]
  },
  {
   "cell_type": "markdown",
   "metadata": {},
   "source": [
    "No processing to do."
   ]
  },
  {
   "cell_type": "code",
   "execution_count": 487,
   "metadata": {
    "scrolled": true
   },
   "outputs": [
    {
     "data": {
      "text/plain": [
       "PWSID\n",
       "AL0001366    0.005000\n",
       "AL0001380    0.005000\n",
       "WV3302709    0.000000\n",
       "WV3302947    0.003000\n",
       "KS2015905    0.002700\n",
       "KS2009102    0.000000\n",
       "OK1020909    0.003177\n",
       "OK1021622    0.004496\n",
       "OK1021731    0.000000\n",
       "IL2035200    0.004600\n",
       "IL2010080    0.003500\n",
       "CT1440021    0.000000\n",
       "CT0189973    0.000000\n",
       "NJ0805427    0.000000\n",
       "WI8160511    0.004500\n",
       "CA2100549    0.000000\n",
       "NY2800138    0.002000\n",
       "NY1330601    0.004000\n",
       "MA2028015    0.000000\n",
       "MA2012008    0.002000\n",
       "MA1283003    0.011000\n",
       "WI6480200    0.003005\n",
       "WI7350614    0.002600\n",
       "CA3901477    0.002100\n",
       "CA3900517    0.009100\n",
       "PR0004604    0.006000\n",
       "WV9925013    0.001300\n",
       "WV9925016    0.001500\n",
       "IL1410250    0.000000\n",
       "MT0003089    0.007000\n",
       "               ...   \n",
       "AZ0410242    0.000000\n",
       "AZ0410317    0.000000\n",
       "NY3202411    0.011000\n",
       "VT0005619    0.009000\n",
       "VT0021020    0.002000\n",
       "VT0021037    0.005000\n",
       "CT0110011    0.000000\n",
       "CT0110051    0.001000\n",
       "CT0180171    0.004000\n",
       "CT0180181    0.003000\n",
       "CT0970041    0.003000\n",
       "CA3600086    0.002600\n",
       "CA3600139    0.000000\n",
       "CA3600166    0.000000\n",
       "CA3600399    0.000000\n",
       "CA3600193    0.010000\n",
       "CA0400013    1.700000\n",
       "IL0735329    0.002700\n",
       "IL1030150    0.002995\n",
       "IL0750250    0.003700\n",
       "IL1470250    0.000000\n",
       "IL0315145    0.000000\n",
       "IL0751000    0.000000\n",
       "IL0770010    0.002400\n",
       "IL1090010    0.000000\n",
       "IL1570250    0.000000\n",
       "IL0395225    0.000000\n",
       "IL0850100    0.000000\n",
       "IL0015545    0.001400\n",
       "IL0050020    0.000000\n",
       "Name: SAMPLE_MEASURE, Length: 223376, dtype: float64"
      ]
     },
     "execution_count": 487,
     "metadata": {},
     "output_type": "execute_result"
    }
   ],
   "source": [
    "res.SAMPLE_MEASURE"
   ]
  },
  {
   "cell_type": "markdown",
   "metadata": {},
   "source": [
    "## `TREATMENT` table"
   ]
  },
  {
   "cell_type": "code",
   "execution_count": 488,
   "metadata": {
    "collapsed": true
   },
   "outputs": [],
   "source": [
    "treat = pd.read_csv(join(PATH_TO_DATA_FOLDER, \"DG_TREATMENT.csv\"),\n",
    "                 sep=\",\",\n",
    "                 header=0,\n",
    "                 encoding=\"utf-8\",\n",
    "                index_col=2,\n",
    "                 low_memory=False,\n",
    "                 )\n"
   ]
  },
  {
   "cell_type": "code",
   "execution_count": 491,
   "metadata": {
    "scrolled": true
   },
   "outputs": [
    {
     "data": {
      "text/html": [
       "<div>\n",
       "<style scoped>\n",
       "    .dataframe tbody tr th:only-of-type {\n",
       "        vertical-align: middle;\n",
       "    }\n",
       "\n",
       "    .dataframe tbody tr th {\n",
       "        vertical-align: top;\n",
       "    }\n",
       "\n",
       "    .dataframe thead th {\n",
       "        text-align: right;\n",
       "    }\n",
       "</style>\n",
       "<table border=\"1\" class=\"dataframe\">\n",
       "  <thead>\n",
       "    <tr style=\"text-align: right;\">\n",
       "      <th></th>\n",
       "      <th>PWSID</th>\n",
       "      <th>FACILITY_ID</th>\n",
       "      <th>COMMENTS_TEXT</th>\n",
       "      <th>TREATMENT_OBJECTIVE_CODE</th>\n",
       "      <th>TREATMENT_PROCESS_CODE</th>\n",
       "    </tr>\n",
       "    <tr>\n",
       "      <th>TREATMENT_ID</th>\n",
       "      <th></th>\n",
       "      <th></th>\n",
       "      <th></th>\n",
       "      <th></th>\n",
       "      <th></th>\n",
       "    </tr>\n",
       "  </thead>\n",
       "  <tbody>\n",
       "    <tr>\n",
       "      <th>22727</th>\n",
       "      <td>MS0220004</td>\n",
       "      <td>31986</td>\n",
       "      <td>INHIBITOR, POLYPHOSPHATE</td>\n",
       "      <td>C</td>\n",
       "      <td>447</td>\n",
       "    </tr>\n",
       "    <tr>\n",
       "      <th>26515</th>\n",
       "      <td>MS0220005</td>\n",
       "      <td>39514</td>\n",
       "      <td>AERATION, PACKED TOWER</td>\n",
       "      <td>C</td>\n",
       "      <td>145</td>\n",
       "    </tr>\n",
       "    <tr>\n",
       "      <th>26518</th>\n",
       "      <td>MS0220005</td>\n",
       "      <td>39514</td>\n",
       "      <td>LIME - SODA ASH ADDITION</td>\n",
       "      <td>F</td>\n",
       "      <td>500</td>\n",
       "    </tr>\n",
       "    <tr>\n",
       "      <th>26524</th>\n",
       "      <td>MS0220005</td>\n",
       "      <td>39514</td>\n",
       "      <td>FILTRATION, PRESSURE SAND</td>\n",
       "      <td>F</td>\n",
       "      <td>344</td>\n",
       "    </tr>\n",
       "    <tr>\n",
       "      <th>22407</th>\n",
       "      <td>MS0220007</td>\n",
       "      <td>31301</td>\n",
       "      <td>LIME - SODA ASH ADDITION</td>\n",
       "      <td>C</td>\n",
       "      <td>500</td>\n",
       "    </tr>\n",
       "  </tbody>\n",
       "</table>\n",
       "</div>"
      ],
      "text/plain": [
       "                  PWSID FACILITY_ID              COMMENTS_TEXT  \\\n",
       "TREATMENT_ID                                                     \n",
       "22727         MS0220004       31986   INHIBITOR, POLYPHOSPHATE   \n",
       "26515         MS0220005       39514     AERATION, PACKED TOWER   \n",
       "26518         MS0220005       39514   LIME - SODA ASH ADDITION   \n",
       "26524         MS0220005       39514  FILTRATION, PRESSURE SAND   \n",
       "22407         MS0220007       31301   LIME - SODA ASH ADDITION   \n",
       "\n",
       "             TREATMENT_OBJECTIVE_CODE  TREATMENT_PROCESS_CODE  \n",
       "TREATMENT_ID                                                   \n",
       "22727                               C                     447  \n",
       "26515                               C                     145  \n",
       "26518                               F                     500  \n",
       "26524                               F                     344  \n",
       "22407                               C                     500  "
      ]
     },
     "execution_count": 491,
     "metadata": {},
     "output_type": "execute_result"
    }
   ],
   "source": [
    "treat.head()"
   ]
  },
  {
   "cell_type": "code",
   "execution_count": 495,
   "metadata": {
    "scrolled": false
   },
   "outputs": [
    {
     "data": {
      "text/plain": [
       "False"
      ]
     },
     "execution_count": 495,
     "metadata": {},
     "output_type": "execute_result"
    }
   ],
   "source": [
    "treat.PWSID.isnull().values.any() "
   ]
  },
  {
   "cell_type": "markdown",
   "metadata": {},
   "source": [
    "We can use a fk on WATER SYSTEM (PWSID)"
   ]
  },
  {
   "cell_type": "code",
   "execution_count": 502,
   "metadata": {},
   "outputs": [
    {
     "data": {
      "text/plain": [
       "False"
      ]
     },
     "execution_count": 502,
     "metadata": {},
     "output_type": "execute_result"
    }
   ],
   "source": [
    "treat.FACILITY_ID.isnull().values.any()"
   ]
  },
  {
   "cell_type": "markdown",
   "metadata": {},
   "source": [
    "We can use a fk on WATER SYSTEM FACILiTY(FACILITY_ID)"
   ]
  },
  {
   "cell_type": "code",
   "execution_count": 496,
   "metadata": {},
   "outputs": [
    {
     "data": {
      "text/plain": [
       "array(['C', 'F', 'D', 'P', 'T', 'Z', 'R', 'O', 'S', 'I', 'M', 'B', 'E'],\n",
       "      dtype=object)"
      ]
     },
     "execution_count": 496,
     "metadata": {},
     "output_type": "execute_result"
    }
   ],
   "source": [
    "treat.TREATMENT_OBJECTIVE_CODE.unique()"
   ]
  },
  {
   "cell_type": "code",
   "execution_count": 497,
   "metadata": {},
   "outputs": [
    {
     "data": {
      "text/plain": [
       "array([447, 145, 500, 344, 401, 742, 240, 125, 360, 345, 660, 421, 740,\n",
       "       348, 403, 143, 380, 160, 600, 121, 520, 141, 423, 461, 473, 460,\n",
       "       999, 640, 147, 680, 346, 343, 720, 341, 741, 200, 560, 443, 445,\n",
       "       342, 449, 100, 361, 543, 363, 320, 220, 347, 455, 300, 700, 149,\n",
       "       627, 623, 441, 541, 620, 180, 580, 625, 365, 362, 370, 190, 369,\n",
       "       364, 367, 372, 368])"
      ]
     },
     "execution_count": 497,
     "metadata": {},
     "output_type": "execute_result"
    }
   ],
   "source": [
    "treat.TREATMENT_PROCESS_CODE.unique()"
   ]
  },
  {
   "cell_type": "code",
   "execution_count": 492,
   "metadata": {
    "scrolled": true
   },
   "outputs": [
    {
     "data": {
      "text/plain": [
       "False"
      ]
     },
     "execution_count": 492,
     "metadata": {},
     "output_type": "execute_result"
    }
   ],
   "source": [
    "treat.index.is_unique"
   ]
  },
  {
   "cell_type": "markdown",
   "metadata": {},
   "source": [
    "We need a new key for the treatment"
   ]
  },
  {
   "cell_type": "code",
   "execution_count": 498,
   "metadata": {
    "collapsed": true
   },
   "outputs": [],
   "source": [
    "ids_treat= []\n",
    "for idx in range(treat.shape[0]):\n",
    "    ids_treat.append(str(uuid.uuid4()))"
   ]
  },
  {
   "cell_type": "code",
   "execution_count": 499,
   "metadata": {
    "collapsed": true
   },
   "outputs": [],
   "source": [
    "# Prepend the ID serie to the dataframe\n",
    "treat.insert(0, 'ID', pd.Series(ids_treat, index=treat.index))"
   ]
  },
  {
   "cell_type": "code",
   "execution_count": 500,
   "metadata": {},
   "outputs": [
    {
     "data": {
      "text/html": [
       "<div>\n",
       "<style scoped>\n",
       "    .dataframe tbody tr th:only-of-type {\n",
       "        vertical-align: middle;\n",
       "    }\n",
       "\n",
       "    .dataframe tbody tr th {\n",
       "        vertical-align: top;\n",
       "    }\n",
       "\n",
       "    .dataframe thead th {\n",
       "        text-align: right;\n",
       "    }\n",
       "</style>\n",
       "<table border=\"1\" class=\"dataframe\">\n",
       "  <thead>\n",
       "    <tr style=\"text-align: right;\">\n",
       "      <th></th>\n",
       "      <th>ID</th>\n",
       "      <th>PWSID</th>\n",
       "      <th>FACILITY_ID</th>\n",
       "      <th>COMMENTS_TEXT</th>\n",
       "      <th>TREATMENT_OBJECTIVE_CODE</th>\n",
       "      <th>TREATMENT_PROCESS_CODE</th>\n",
       "    </tr>\n",
       "    <tr>\n",
       "      <th>TREATMENT_ID</th>\n",
       "      <th></th>\n",
       "      <th></th>\n",
       "      <th></th>\n",
       "      <th></th>\n",
       "      <th></th>\n",
       "      <th></th>\n",
       "    </tr>\n",
       "  </thead>\n",
       "  <tbody>\n",
       "    <tr>\n",
       "      <th>22727</th>\n",
       "      <td>835a5452-dc6b-498a-a957-7d1abb2c0ecf</td>\n",
       "      <td>MS0220004</td>\n",
       "      <td>31986</td>\n",
       "      <td>INHIBITOR, POLYPHOSPHATE</td>\n",
       "      <td>C</td>\n",
       "      <td>447</td>\n",
       "    </tr>\n",
       "    <tr>\n",
       "      <th>26515</th>\n",
       "      <td>5f5d79e3-4c59-40f7-8535-eeeb55ec8213</td>\n",
       "      <td>MS0220005</td>\n",
       "      <td>39514</td>\n",
       "      <td>AERATION, PACKED TOWER</td>\n",
       "      <td>C</td>\n",
       "      <td>145</td>\n",
       "    </tr>\n",
       "    <tr>\n",
       "      <th>26518</th>\n",
       "      <td>e8ace27a-056b-40b9-ac21-e955d2411acf</td>\n",
       "      <td>MS0220005</td>\n",
       "      <td>39514</td>\n",
       "      <td>LIME - SODA ASH ADDITION</td>\n",
       "      <td>F</td>\n",
       "      <td>500</td>\n",
       "    </tr>\n",
       "    <tr>\n",
       "      <th>26524</th>\n",
       "      <td>55139563-567d-408e-815b-d32ecdfdb687</td>\n",
       "      <td>MS0220005</td>\n",
       "      <td>39514</td>\n",
       "      <td>FILTRATION, PRESSURE SAND</td>\n",
       "      <td>F</td>\n",
       "      <td>344</td>\n",
       "    </tr>\n",
       "    <tr>\n",
       "      <th>22407</th>\n",
       "      <td>f4da5e67-5e1b-47e4-9062-3b0608de3282</td>\n",
       "      <td>MS0220007</td>\n",
       "      <td>31301</td>\n",
       "      <td>LIME - SODA ASH ADDITION</td>\n",
       "      <td>C</td>\n",
       "      <td>500</td>\n",
       "    </tr>\n",
       "  </tbody>\n",
       "</table>\n",
       "</div>"
      ],
      "text/plain": [
       "                                                ID      PWSID FACILITY_ID  \\\n",
       "TREATMENT_ID                                                                \n",
       "22727         835a5452-dc6b-498a-a957-7d1abb2c0ecf  MS0220004       31986   \n",
       "26515         5f5d79e3-4c59-40f7-8535-eeeb55ec8213  MS0220005       39514   \n",
       "26518         e8ace27a-056b-40b9-ac21-e955d2411acf  MS0220005       39514   \n",
       "26524         55139563-567d-408e-815b-d32ecdfdb687  MS0220005       39514   \n",
       "22407         f4da5e67-5e1b-47e4-9062-3b0608de3282  MS0220007       31301   \n",
       "\n",
       "                          COMMENTS_TEXT TREATMENT_OBJECTIVE_CODE  \\\n",
       "TREATMENT_ID                                                       \n",
       "22727          INHIBITOR, POLYPHOSPHATE                        C   \n",
       "26515            AERATION, PACKED TOWER                        C   \n",
       "26518          LIME - SODA ASH ADDITION                        F   \n",
       "26524         FILTRATION, PRESSURE SAND                        F   \n",
       "22407          LIME - SODA ASH ADDITION                        C   \n",
       "\n",
       "              TREATMENT_PROCESS_CODE  \n",
       "TREATMENT_ID                          \n",
       "22727                            447  \n",
       "26515                            145  \n",
       "26518                            500  \n",
       "26524                            344  \n",
       "22407                            500  "
      ]
     },
     "execution_count": 500,
     "metadata": {},
     "output_type": "execute_result"
    }
   ],
   "source": [
    "treat.head()"
   ]
  },
  {
   "cell_type": "code",
   "execution_count": 501,
   "metadata": {
    "collapsed": true
   },
   "outputs": [],
   "source": [
    "# Data will be saved in the `sanitized` folder.\n",
    "sanitized_treat_file = join(PATH_TO_DATA_FOLDER, 'sanitized', 'TREATMENT.csv')\n",
    "treat.to_csv(sanitized_treat_file, sep=\",\", encoding='utf-8')"
   ]
  },
  {
   "cell_type": "code",
   "execution_count": 507,
   "metadata": {},
   "outputs": [
    {
     "data": {
      "text/plain": [
       "17"
      ]
     },
     "execution_count": 507,
     "metadata": {},
     "output_type": "execute_result"
    }
   ],
   "source": [
    "len(longest_item(treat.index))"
   ]
  },
  {
   "cell_type": "code",
   "execution_count": 506,
   "metadata": {},
   "outputs": [
    {
     "data": {
      "text/plain": [
       "False"
      ]
     },
     "execution_count": 506,
     "metadata": {},
     "output_type": "execute_result"
    }
   ],
   "source": [
    "treat.index.isnull().any()"
   ]
  },
  {
   "cell_type": "code",
   "execution_count": null,
   "metadata": {
    "collapsed": true
   },
   "outputs": [],
   "source": []
  }
 ],
 "metadata": {
  "kernelspec": {
   "display_name": "Python 3",
   "language": "python",
   "name": "python3"
  },
  "language_info": {
   "codemirror_mode": {
    "name": "ipython",
    "version": 3
   },
   "file_extension": ".py",
   "mimetype": "text/x-python",
   "name": "python",
   "nbconvert_exporter": "python",
   "pygments_lexer": "ipython3",
   "version": "3.7.3"
  }
 },
 "nbformat": 4,
 "nbformat_minor": 2
}
