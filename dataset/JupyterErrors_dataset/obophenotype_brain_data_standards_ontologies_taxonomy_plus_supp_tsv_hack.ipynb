{
 "cells": [
  {
   "cell_type": "code",
   "execution_count": 33,
   "metadata": {},
   "outputs": [],
   "source": [
    "import pandas as pd\n",
    "import warnings\n",
    "\n",
    "\n",
    "\n",
    "def tree_recurse(tree, out, parent_node_id = ''):\n",
    "    \"\"\"Convert Allen Taxonomy JSON to a list of nodes and edges, where nodes are\n",
    "    Copies of nodes in Allen JSON & edges are duples - (subject(child), object(parent))\n",
    "    identified by 'cell_set_accession'.\n",
    "    \n",
    "    Args:\n",
    "        - Tree: Allen taxonomy in JSON, or some subtree of it\n",
    "        - Output structure to populate (starting point must be an empty dict)\n",
    "        - parent_node_id: 'cell_set_accession' of parent.  Default (no parent) = root.\n",
    "        \n",
    "    \"\"\"\n",
    "    if not out:\n",
    "        out['nodes']= []\n",
    "        out['edges'] = set()\n",
    "    if 'node_attributes' in tree.keys():\n",
    "        if len(tree['node_attributes']) > 1:\n",
    "            warnings.warn(\"Don't know how to deal with multiple nodes per recurse\")\n",
    "        ID = tree['node_attributes'][0]['cell_set_accession']\n",
    "            \n",
    "        out['nodes'].append(tree['node_attributes'][0])\n",
    "        if parent_node_id:\n",
    "            out['edges'].add((ID, parent_node_id))\n",
    "        if 'children' in tree.keys():\n",
    "            for c in tree['children']:\n",
    "                tree_recurse(c, out, parent_node_id = ID)\n",
    "        else:\n",
    "            warnings.warn(\"non leaf node %s has no children\" % ID)\n",
    "    elif 'leaf_attributes' in tree.keys():\n",
    "        if len(tree['leaf_attributes']) > 1:\n",
    "            warnings.warn(\"Don't know how to deal with multiple nodes per recurse\")       \n",
    "        ID = tree['leaf_attributes'][0]['cell_set_accession']\n",
    "        # Tag leaves\n",
    "        tree['leaf_attributes'][0]['is_leaf'] = True\n",
    "        out['nodes'].append(tree['leaf_attributes'][0])\n",
    "        out['edges'].add((ID, parent_node_id))\n",
    "        if 'children' in tree.keys():\n",
    "            warnings.warn('leaf node %s has children!' % ID)\n",
    "    else:\n",
    "        warnings.warn(\"No recognized nodes\")"
   ]
  },
  {
   "cell_type": "code",
   "execution_count": 34,
   "metadata": {},
   "outputs": [],
   "source": [
    "CCN202002013_tab = pd.read_csv('../src/dendrograms/nomenclature_table_CCN202002013.csv', sep=',')"
   ]
  },
  {
   "cell_type": "code",
   "execution_count": 35,
   "metadata": {},
   "outputs": [
    {
     "data": {
      "text/plain": [
       "Index(['cell_set_preferred_alias', 'original_label', 'cell_set_label',\n",
       "       'cell_set_accession', 'cell_set_aligned_alias',\n",
       "       'cell_set_additional_alias', 'cell_set_alias_assignee',\n",
       "       'cell_set_alias_citation', 'cell_set_structure',\n",
       "       'cell_set_ontology_tag', 'taxonomy_id', 'species', 'modality',\n",
       "       'child_cell_set_accessions'],\n",
       "      dtype='object')"
      ]
     },
     "execution_count": 35,
     "metadata": {},
     "output_type": "execute_result"
    }
   ],
   "source": [
    "CCN202002013_tab.columns"
   ]
  },
  {
   "cell_type": "code",
   "execution_count": 36,
   "metadata": {},
   "outputs": [],
   "source": [
    "import json\n",
    "f = open('../src/dendrograms/CCN202002013.json', 'r')\n",
    "CCN202002013_dend = json.loads(f.read())"
   ]
  },
  {
   "cell_type": "code",
   "execution_count": 37,
   "metadata": {},
   "outputs": [],
   "source": [
    "CCN202002013_nodes_edges = {}\n",
    "tree_recurse(CCN202002013_dend, CCN202002013_nodes_edges)"
   ]
  },
  {
   "cell_type": "code",
   "execution_count": null,
   "metadata": {},
   "outputs": [],
   "source": []
  },
  {
   "cell_type": "code",
   "execution_count": null,
   "metadata": {},
   "outputs": [],
   "source": []
  },
  {
   "cell_type": "code",
   "execution_count": 38,
   "metadata": {},
   "outputs": [],
   "source": [
    "dendrogram_nodes = [n['cell_set_accession'] for n in CCN202002013_nodes_edges['nodes']]\n",
    "tab_nodes = CCN202002013_tab['cell_set_accession']\n",
    "nodes_not_in_dend = set(tab_nodes) - set(dendrogram_nodes)"
   ]
  },
  {
   "cell_type": "code",
   "execution_count": 39,
   "metadata": {},
   "outputs": [
    {
     "data": {
      "text/plain": [
       "{'CS202002013_232',\n",
       " 'CS202002013_233',\n",
       " 'CS202002013_234',\n",
       " 'CS202002013_235',\n",
       " 'CS202002013_236',\n",
       " 'CS202002013_237',\n",
       " 'CS202002013_238',\n",
       " 'CS202002013_239',\n",
       " 'CS202002013_240',\n",
       " 'CS202002013_241',\n",
       " 'CS202002013_242',\n",
       " 'CS202002013_243',\n",
       " 'CS202002013_244',\n",
       " 'CS202002013_245',\n",
       " 'CS202002013_246',\n",
       " 'CS202002013_247',\n",
       " 'CS202002013_248',\n",
       " 'CS202002013_249',\n",
       " 'CS202002013_250',\n",
       " 'CS202002013_251',\n",
       " 'CS202002013_252',\n",
       " 'CS202002013_253',\n",
       " 'CS202002013_254',\n",
       " 'CS202002013_255',\n",
       " 'CS202002013_256',\n",
       " 'CS202002013_257',\n",
       " 'CS202002013_258',\n",
       " 'CS202002013_259',\n",
       " 'CS202002013_260',\n",
       " 'CS202002013_261'}"
      ]
     },
     "execution_count": 39,
     "metadata": {},
     "output_type": "execute_result"
    }
   ],
   "source": [
    "nodes_not_in_dend"
   ]
  },
  {
   "cell_type": "code",
   "execution_count": 20,
   "metadata": {},
   "outputs": [
    {
     "ename": "TypeError",
     "evalue": "'Series' objects are mutable, thus they cannot be hashed",
     "output_type": "error",
     "traceback": [
      "\u001b[0;31m---------------------------------------------------------------------------\u001b[0m",
      "\u001b[0;31mTypeError\u001b[0m                                 Traceback (most recent call last)",
      "\u001b[0;32m<ipython-input-20-319f3d028adb>\u001b[0m in \u001b[0;36m<module>\u001b[0;34m\u001b[0m\n\u001b[0;32m----> 1\u001b[0;31m \u001b[0mCCN202002013_tab\u001b[0m\u001b[0;34m[\u001b[0m\u001b[0;34m(\u001b[0m\u001b[0mCCN202002013_tab\u001b[0m\u001b[0;34m[\u001b[0m\u001b[0;34m'cell_set_accession'\u001b[0m\u001b[0;34m]\u001b[0m \u001b[0;32min\u001b[0m \u001b[0mnodes_not_in_dend\u001b[0m\u001b[0;34m)\u001b[0m\u001b[0;34m]\u001b[0m\u001b[0;34m\u001b[0m\u001b[0;34m\u001b[0m\u001b[0m\n\u001b[0m",
      "\u001b[0;32m/usr/local/lib/python3.8/site-packages/pandas/core/generic.py\u001b[0m in \u001b[0;36m__hash__\u001b[0;34m(self)\u001b[0m\n\u001b[1;32m   1663\u001b[0m \u001b[0;34m\u001b[0m\u001b[0m\n\u001b[1;32m   1664\u001b[0m     \u001b[0;32mdef\u001b[0m \u001b[0m__hash__\u001b[0m\u001b[0;34m(\u001b[0m\u001b[0mself\u001b[0m\u001b[0;34m)\u001b[0m\u001b[0;34m:\u001b[0m\u001b[0;34m\u001b[0m\u001b[0;34m\u001b[0m\u001b[0m\n\u001b[0;32m-> 1665\u001b[0;31m         raise TypeError(\n\u001b[0m\u001b[1;32m   1666\u001b[0m             \u001b[0;34mf\"{repr(type(self).__name__)} objects are mutable, \"\u001b[0m\u001b[0;34m\u001b[0m\u001b[0;34m\u001b[0m\u001b[0m\n\u001b[1;32m   1667\u001b[0m             \u001b[0;34mf\"thus they cannot be hashed\"\u001b[0m\u001b[0;34m\u001b[0m\u001b[0;34m\u001b[0m\u001b[0m\n",
      "\u001b[0;31mTypeError\u001b[0m: 'Series' objects are mutable, thus they cannot be hashed"
     ]
    }
   ],
   "source": []
  },
  {
   "cell_type": "code",
   "execution_count": 40,
   "metadata": {},
   "outputs": [],
   "source": [
    "CCN202002013_tab.set_index('cell_set_accession', inplace=True)"
   ]
  },
  {
   "cell_type": "code",
   "execution_count": 47,
   "metadata": {},
   "outputs": [
    {
     "data": {
      "text/plain": [
       "cell_set_accession\n",
       "CS202002013_232                        Sst\n",
       "CS202002013_233                      Pvalb\n",
       "CS202002013_234          Non-IT projecting\n",
       "CS202002013_235               Non-Neuronal\n",
       "CS202002013_236                  Oligo-OPC\n",
       "CS202002013_237                        NaN\n",
       "CS202002013_238                   Other NN\n",
       "CS202002013_239                    Lamp5_2\n",
       "CS202002013_240                     Sncg_3\n",
       "CS202002013_241                     Sncg_1\n",
       "CS202002013_242                      Vip_3\n",
       "CS202002013_243                      Vip_2\n",
       "CS202002013_244                      Vip_1\n",
       "CS202002013_245                      Sst_2\n",
       "CS202002013_246                      Sst_3\n",
       "CS202002013_247                      Sst_6\n",
       "CS202002013_248                    Pvalb_1\n",
       "CS202002013_249                    Pvalb_2\n",
       "CS202002013_250                    L5 IT_1\n",
       "CS202002013_251                    L6 IT_2\n",
       "CS202002013_252                    L5 ET_1\n",
       "CS202002013_253                    L6 CT_1\n",
       "CS202002013_254                    Oligo_2\n",
       "CS202002013_255                    VLMC(i)\n",
       "CS202002013_256      Large CCK basket cell\n",
       "CS202002013_257      L2/3 Bipolar VIP cell\n",
       "CS202002013_258       L5 T Martinotti cell\n",
       "CS202002013_259       Lower FS Basket cell\n",
       "CS202002013_260        MY-projecting L5 ET\n",
       "CS202002013_261    Non-MY-projecting L5 ET\n",
       "Name: cell_set_preferred_alias, dtype: object"
      ]
     },
     "execution_count": 47,
     "metadata": {},
     "output_type": "execute_result"
    }
   ],
   "source": [
    "CCN202002013_tab.loc[nodes_not_in_dend]['cell_set_preferred_alias'].sort_index()\n"
   ]
  },
  {
   "cell_type": "code",
   "execution_count": null,
   "metadata": {},
   "outputs": [],
   "source": []
  }
 ],
 "metadata": {
  "kernelspec": {
   "display_name": "Python 3",
   "language": "python",
   "name": "python3"
  },
  "language_info": {
   "codemirror_mode": {
    "name": "ipython",
    "version": 3
   },
   "file_extension": ".py",
   "mimetype": "text/x-python",
   "name": "python",
   "nbconvert_exporter": "python",
   "pygments_lexer": "ipython3",
   "version": "3.8.5"
  }
 },
 "nbformat": 4,
 "nbformat_minor": 4
}
