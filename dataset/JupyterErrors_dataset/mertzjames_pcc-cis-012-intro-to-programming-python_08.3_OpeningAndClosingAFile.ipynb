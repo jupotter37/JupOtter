{
 "cells": [
  {
   "cell_type": "markdown",
   "metadata": {
    "slideshow": {
     "slide_type": "slide"
    }
   },
   "source": [
    "# 9.3 Opening and Closing a File\n",
    "\n",
    "Now for the meat of this module.  In this lesson we're going to learn:\n",
    "\n",
    "- How to open a file.\n",
    "- The importance of closing a file properly.\n",
    "- Two approaches to handling openning and closing files.\n",
    "- Different options when openning a file."
   ]
  },
  {
   "cell_type": "markdown",
   "metadata": {
    "slideshow": {
     "slide_type": "slide"
    }
   },
   "source": [
    "## How to Open a File\n",
    "\n",
    "In order to open a file within Python, you'll use the `open()` builtin function.  The `open` function returns a file handler instead of the actual file.  The file handler is what is used to interact with the file giving the user access to 4 basics functions:\n",
    "\n",
    "1. Open\n",
    "2. Read\n",
    "3. Write\n",
    "4. Close"
   ]
  },
  {
   "cell_type": "code",
   "execution_count": 1,
   "metadata": {
    "slideshow": {
     "slide_type": "-"
    }
   },
   "outputs": [
    {
     "name": "stdout",
     "output_type": "stream",
     "text": [
      "<_io.TextIOWrapper name='/Users/mertz/Documents/Repos/pcc-cis-012-intro-to-programming-python/Lecture Material/9_File_IO/resources/darth_plagueis_tragedy.txt' mode='r' encoding='UTF-8'>\n"
     ]
    }
   ],
   "source": [
    "import pathlib\n",
    "\n",
    "path = pathlib.Path.cwd() / 'resources/darth_plagueis_tragedy.txt'\n",
    "fh = open(path)\n",
    "print(fh)"
   ]
  },
  {
   "cell_type": "markdown",
   "metadata": {
    "slideshow": {
     "slide_type": "-"
    }
   },
   "source": [
    "<div class=\"panel panel-warning\">\n",
    "    <div class=\"panel-heading\"><b>Warning!</b></div>\n",
    "    <div class=\"panel-body\">\n",
    "        <p>You should <b>always</b> make sure to properly close your files.  Failure to do so may cause issues during operation of your Python program.</p>\n",
    "    </div>\n",
    "</div>"
   ]
  },
  {
   "cell_type": "markdown",
   "metadata": {
    "slideshow": {
     "slide_type": "subslide"
    }
   },
   "source": [
    "### Checking if a File Exists"
   ]
  },
  {
   "cell_type": "code",
   "execution_count": 2,
   "metadata": {
    "slideshow": {
     "slide_type": "-"
    }
   },
   "outputs": [
    {
     "ename": "FileNotFoundError",
     "evalue": "[Errno 2] No such file or directory: '/Users/mertz/Documents/Repos/pcc-cis-012-intro-to-programming-python/Lecture Material/9_File_IO/some_junk_file.junkext'",
     "output_type": "error",
     "traceback": [
      "\u001b[0;31m---------------------------------------------------------------------------\u001b[0m",
      "\u001b[0;31mFileNotFoundError\u001b[0m                         Traceback (most recent call last)",
      "\u001b[0;32m<ipython-input-2-4fa8fdfece25>\u001b[0m in \u001b[0;36m<module>\u001b[0;34m\u001b[0m\n\u001b[1;32m      1\u001b[0m \u001b[0mpath\u001b[0m \u001b[0;34m=\u001b[0m \u001b[0mpathlib\u001b[0m\u001b[0;34m.\u001b[0m\u001b[0mPath\u001b[0m\u001b[0;34m.\u001b[0m\u001b[0mcwd\u001b[0m\u001b[0;34m(\u001b[0m\u001b[0;34m)\u001b[0m \u001b[0;34m/\u001b[0m \u001b[0;34m'some_junk_file.junkext'\u001b[0m\u001b[0;34m\u001b[0m\u001b[0m\n\u001b[0;32m----> 2\u001b[0;31m \u001b[0mfh\u001b[0m \u001b[0;34m=\u001b[0m \u001b[0mopen\u001b[0m\u001b[0;34m(\u001b[0m\u001b[0mpath\u001b[0m\u001b[0;34m)\u001b[0m\u001b[0;34m\u001b[0m\u001b[0m\n\u001b[0m\u001b[1;32m      3\u001b[0m \u001b[0mprint\u001b[0m\u001b[0;34m(\u001b[0m\u001b[0mfh\u001b[0m\u001b[0;34m)\u001b[0m\u001b[0;34m\u001b[0m\u001b[0m\n",
      "\u001b[0;31mFileNotFoundError\u001b[0m: [Errno 2] No such file or directory: '/Users/mertz/Documents/Repos/pcc-cis-012-intro-to-programming-python/Lecture Material/9_File_IO/some_junk_file.junkext'"
     ]
    }
   ],
   "source": [
    "path = pathlib.Path.cwd() / 'some_junk_file.junkext'\n",
    "fh = open(path)\n",
    "print(fh)"
   ]
  },
  {
   "cell_type": "markdown",
   "metadata": {
    "slideshow": {
     "slide_type": "subslide"
    }
   },
   "source": [
    "Use what we learned about `pathlib` to make sure that the file can be opened and then open it."
   ]
  },
  {
   "cell_type": "code",
   "execution_count": 3,
   "metadata": {
    "slideshow": {
     "slide_type": "-"
    }
   },
   "outputs": [
    {
     "name": "stdout",
     "output_type": "stream",
     "text": [
      "/Users/mertz/Documents/Repos/pcc-cis-012-intro-to-programming-python/Lecture Material/9_File_IO/some_junk_file.junkext does not exist!\n"
     ]
    }
   ],
   "source": [
    "if path.exists():\n",
    "    fh = open(path)\n",
    "else:\n",
    "    print(f'{path} does not exist!')"
   ]
  },
  {
   "cell_type": "markdown",
   "metadata": {
    "slideshow": {
     "slide_type": "slide"
    }
   },
   "source": [
    "## Properly Ensuring File Closure\n",
    "\n",
    "There are two ways to close a file:\n",
    "\n",
    "1. Manually using the `.close()` method.\n",
    "2. Using the `with` statement (preferred)."
   ]
  },
  {
   "cell_type": "markdown",
   "metadata": {
    "slideshow": {
     "slide_type": "subslide"
    }
   },
   "source": [
    "### Ensured Closure Using `try`/`finally`"
   ]
  },
  {
   "cell_type": "code",
   "execution_count": 4,
   "metadata": {
    "slideshow": {
     "slide_type": "-"
    }
   },
   "outputs": [
    {
     "name": "stdout",
     "output_type": "stream",
     "text": [
      "<_io.TextIOWrapper name='/Users/mertz/Documents/Repos/pcc-cis-012-intro-to-programming-python/Lecture Material/9_File_IO/resources/darth_plagueis_tragedy.txt' mode='r' encoding='UTF-8'>\n"
     ]
    }
   ],
   "source": [
    "path = pathlib.Path.cwd() / 'resources/darth_plagueis_tragedy.txt'\n",
    "fh = open(path)\n",
    "try:\n",
    "    print(fh)\n",
    "finally:  # No matter what happens even if an exception occurs, this will be ran\n",
    "    fh.close()"
   ]
  },
  {
   "cell_type": "markdown",
   "metadata": {
    "slideshow": {
     "slide_type": "subslide"
    }
   },
   "source": [
    "Let's examine what happens when something goes wrong here:"
   ]
  },
  {
   "cell_type": "code",
   "execution_count": 5,
   "metadata": {
    "slideshow": {
     "slide_type": "-"
    }
   },
   "outputs": [
    {
     "name": "stdout",
     "output_type": "stream",
     "text": [
      "---------> this still happened <---------\n"
     ]
    },
    {
     "ename": "NotImplementedError",
     "evalue": "",
     "output_type": "error",
     "traceback": [
      "\u001b[0;31m---------------------------------------------------------------------------\u001b[0m",
      "\u001b[0;31mNotImplementedError\u001b[0m                       Traceback (most recent call last)",
      "\u001b[0;32m<ipython-input-5-05ee6d8f5f59>\u001b[0m in \u001b[0;36m<module>\u001b[0;34m\u001b[0m\n\u001b[1;32m      5\u001b[0m \u001b[0mfh\u001b[0m \u001b[0;34m=\u001b[0m \u001b[0mopen\u001b[0m\u001b[0;34m(\u001b[0m\u001b[0mpath\u001b[0m\u001b[0;34m)\u001b[0m\u001b[0;34m\u001b[0m\u001b[0m\n\u001b[1;32m      6\u001b[0m \u001b[0;32mtry\u001b[0m\u001b[0;34m:\u001b[0m\u001b[0;34m\u001b[0m\u001b[0m\n\u001b[0;32m----> 7\u001b[0;31m     \u001b[0mstuff_that_errors\u001b[0m\u001b[0;34m(\u001b[0m\u001b[0mfh\u001b[0m\u001b[0;34m)\u001b[0m\u001b[0;34m\u001b[0m\u001b[0m\n\u001b[0m\u001b[1;32m      8\u001b[0m \u001b[0;32mfinally\u001b[0m\u001b[0;34m:\u001b[0m\u001b[0;34m\u001b[0m\u001b[0m\n\u001b[1;32m      9\u001b[0m     \u001b[0mprint\u001b[0m\u001b[0;34m(\u001b[0m\u001b[0;34m'---------> this still happened <---------'\u001b[0m\u001b[0;34m)\u001b[0m\u001b[0;34m\u001b[0m\u001b[0m\n",
      "\u001b[0;32m<ipython-input-5-05ee6d8f5f59>\u001b[0m in \u001b[0;36mstuff_that_errors\u001b[0;34m(fh)\u001b[0m\n\u001b[1;32m      1\u001b[0m \u001b[0;32mdef\u001b[0m \u001b[0mstuff_that_errors\u001b[0m\u001b[0;34m(\u001b[0m\u001b[0mfh\u001b[0m\u001b[0;34m)\u001b[0m\u001b[0;34m:\u001b[0m\u001b[0;34m\u001b[0m\u001b[0m\n\u001b[0;32m----> 2\u001b[0;31m     \u001b[0;32mraise\u001b[0m \u001b[0mNotImplementedError\u001b[0m\u001b[0;34m(\u001b[0m\u001b[0;34m)\u001b[0m\u001b[0;34m\u001b[0m\u001b[0m\n\u001b[0m\u001b[1;32m      3\u001b[0m \u001b[0;34m\u001b[0m\u001b[0m\n\u001b[1;32m      4\u001b[0m \u001b[0mpath\u001b[0m \u001b[0;34m=\u001b[0m \u001b[0mpathlib\u001b[0m\u001b[0;34m.\u001b[0m\u001b[0mPath\u001b[0m\u001b[0;34m.\u001b[0m\u001b[0mcwd\u001b[0m\u001b[0;34m(\u001b[0m\u001b[0;34m)\u001b[0m \u001b[0;34m/\u001b[0m \u001b[0;34m'resources/darth_plagueis_tragedy.txt'\u001b[0m\u001b[0;34m\u001b[0m\u001b[0m\n\u001b[1;32m      5\u001b[0m \u001b[0mfh\u001b[0m \u001b[0;34m=\u001b[0m \u001b[0mopen\u001b[0m\u001b[0;34m(\u001b[0m\u001b[0mpath\u001b[0m\u001b[0;34m)\u001b[0m\u001b[0;34m\u001b[0m\u001b[0m\n",
      "\u001b[0;31mNotImplementedError\u001b[0m: "
     ]
    }
   ],
   "source": [
    "def stuff_that_errors(fh):\n",
    "    raise NotImplementedError()\n",
    "\n",
    "path = pathlib.Path.cwd() / 'resources/darth_plagueis_tragedy.txt'\n",
    "fh = open(path)\n",
    "try:\n",
    "    stuff_that_errors(fh)\n",
    "finally:\n",
    "    print('---------> this still happened <---------')\n",
    "    fh.close()"
   ]
  },
  {
   "cell_type": "markdown",
   "metadata": {
    "slideshow": {
     "slide_type": "subslide"
    }
   },
   "source": [
    "Furthermore, since we're using jupyter notebooks and the Python program that's executing here is still running, we can check to see if the file is still opened."
   ]
  },
  {
   "cell_type": "code",
   "execution_count": 6,
   "metadata": {
    "slideshow": {
     "slide_type": "-"
    }
   },
   "outputs": [
    {
     "data": {
      "text/plain": [
       "True"
      ]
     },
     "execution_count": 6,
     "metadata": {},
     "output_type": "execute_result"
    }
   ],
   "source": [
    "fh.closed"
   ]
  },
  {
   "cell_type": "markdown",
   "metadata": {
    "slideshow": {
     "slide_type": "subslide"
    }
   },
   "source": [
    "### Ensured Closure Using the `with` Statement\n",
    "\n",
    "Using the `with` statement will automatically take care of the `try`/`except` block for you.  It makes your code cleaner."
   ]
  },
  {
   "cell_type": "code",
   "execution_count": 7,
   "metadata": {
    "slideshow": {
     "slide_type": "-"
    }
   },
   "outputs": [
    {
     "name": "stdout",
     "output_type": "stream",
     "text": [
      "<_io.TextIOWrapper name='/Users/mertz/Documents/Repos/pcc-cis-012-intro-to-programming-python/Lecture Material/9_File_IO/resources/darth_plagueis_tragedy.txt' mode='r' encoding='UTF-8'>\n"
     ]
    }
   ],
   "source": [
    "path = pathlib.Path.cwd() / 'resources/darth_plagueis_tragedy.txt'\n",
    "with open(path) as fh:\n",
    "    print(fh)"
   ]
  },
  {
   "cell_type": "code",
   "execution_count": 8,
   "metadata": {
    "slideshow": {
     "slide_type": "-"
    }
   },
   "outputs": [
    {
     "name": "stdout",
     "output_type": "stream",
     "text": [
      "True\n"
     ]
    }
   ],
   "source": [
    "print(fh.closed)"
   ]
  },
  {
   "attachments": {
    "image.png": {
     "image/png": "[encoded data removed]"
    }
   },
   "cell_type": "markdown",
   "metadata": {
    "slideshow": {
     "slide_type": "slide"
    }
   },
   "source": [
    "## The `open` Function Parameter\n",
    "\n",
    "The first parameter for the `open()` function is the file path.  We use the `pathlib` path for this, but it can be just a string as well.  There is a second positional argument that is used to assign file access.\n",
    "\n",
    "![image.png](attachment:image.png)\n",
    "\n",
    "<div class=\"alert alert-info\">\n",
    "    <b>Note:</b> by default <code>'w'</code> is the default permissons.\n",
    "</div>"
   ]
  },
  {
   "cell_type": "code",
   "execution_count": 9,
   "metadata": {
    "slideshow": {
     "slide_type": "subslide"
    }
   },
   "outputs": [
    {
     "name": "stdout",
     "output_type": "stream",
     "text": [
      "<_io.TextIOWrapper name='resources/darth_plagueis_tragedy.txt' mode='w' encoding='UTF-8'>\n"
     ]
    }
   ],
   "source": [
    "path = pathlib.Path('resources/kronos.txt')\n",
    "with open(path, 'w') as fh:\n",
    "    print(fh)"
   ]
  },
  {
   "cell_type": "code",
   "execution_count": 10,
   "metadata": {
    "slideshow": {
     "slide_type": "-"
    }
   },
   "outputs": [
    {
     "name": "stdout",
     "output_type": "stream",
     "text": [
      "<_io.BufferedReader name='resources/darth_plagueis_tragedy.txt'>\n"
     ]
    }
   ],
   "source": [
    "with open('resources/kronos.txt', 'rb') as fh:\n",
    "    print(fh)"
   ]
  },
  {
   "cell_type": "markdown",
   "metadata": {
    "slideshow": {
     "slide_type": "slide"
    }
   },
   "source": [
    "## In-Class Assignment\n",
    "\n",
    "1. Using `with` open the file `resources/test_data.txt` in read mode.  Print the file handler to make sure it properly opened.\n",
    "1. Using `with` open the file `resources/<your name>.txt` in write mode.  Print the file handler to make sure it properly opened."
   ]
  },
  {
   "cell_type": "code",
   "execution_count": 11,
   "metadata": {
    "slideshow": {
     "slide_type": "subslide"
    }
   },
   "outputs": [
    {
     "name": "stdout",
     "output_type": "stream",
     "text": [
      "<_io.TextIOWrapper name='resources/test_data.txt' mode='r' encoding='UTF-8'>\n"
     ]
    }
   ],
   "source": [
    "import pathlib\n",
    "\n",
    "# Using `with` open the file `resources/test_data.txt` in read mode.  \n",
    "# Print the file handler to make sure it properly opened.\n",
    "data_path = pathlib.Path('resources/test_data.txt')\n",
    "with open(data_path) as reader:\n",
    "    print(reader)"
   ]
  },
  {
   "cell_type": "code",
   "execution_count": 12,
   "metadata": {},
   "outputs": [
    {
     "name": "stdout",
     "output_type": "stream",
     "text": [
      "<_io.TextIOWrapper name='resources/kronos.txt' mode='w' encoding='UTF-8'>\n"
     ]
    }
   ],
   "source": [
    "# Using `with` open the file `resources/<your name>.txt` in write mode.  \n",
    "# Print the file handler to make sure it properly opened.\n",
    "my_path = pathlib.Path('resources/kronos.txt')\n",
    "with open(my_path, 'w') as writer:\n",
    "    print(writer)"
   ]
  }
 ],
 "metadata": {
  "celltoolbar": "Slideshow",
  "kernelspec": {
   "display_name": "Python 3",
   "language": "python",
   "name": "python3"
  },
  "language_info": {
   "codemirror_mode": {
    "name": "ipython",
    "version": 3
   },
   "file_extension": ".py",
   "mimetype": "text/x-python",
   "name": "python",
   "nbconvert_exporter": "python",
   "pygments_lexer": "ipython3",
   "version": "3.6.6"
  }
 },
 "nbformat": 4,
 "nbformat_minor": 4
}
