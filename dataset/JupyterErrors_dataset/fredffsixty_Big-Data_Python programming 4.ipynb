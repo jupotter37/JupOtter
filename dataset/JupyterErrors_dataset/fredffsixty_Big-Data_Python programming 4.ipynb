{
 "cells": [
  {
   "cell_type": "markdown",
   "metadata": {},
   "source": [
    "# Uso avanzato delle funzioni e dei moduli\n",
    "\n",
    "Una funzione si definisce attraverso il costrutto `def` che aggiunge il suo nome al namespace del modulo in cui essa si trova.\n",
    "\n",
    "```python\n",
    "def nomeFunzione(lista_argomenti):\n",
    "    istruzione\n",
    "    istruzione\n",
    "    ...\n",
    "    [return expressione_risultato]\n",
    "```\n",
    "\n",
    "I parametri sono passati _**per assegnamento**_. Una variabile passata come parametro è riferita sempre dallo stesso indirizzo finché può essere modificata e si tratta di un tipo _mutable_, ma non appena viene riassegnata, ovvero si cerca di modificare un paranetro di tipo _immutable_, si genera un nuovo riferimento locale per il valore modificato e la variabile esterna _**non viene alterata**_. A questo proposito possiamo usare la funzione built-in `id()` che ritorna il riferimento assoluto all'oggetto passato per argomento."
   ]
  },
  {
   "cell_type": "code",
   "execution_count": 1,
   "metadata": {},
   "outputs": [
    {
     "data": {
      "text/plain": [
       "4583832896"
      ]
     },
     "execution_count": 1,
     "metadata": {},
     "output_type": "execute_result"
    }
   ],
   "source": [
    "x = [1,2,3,4]\n",
    "id(x)"
   ]
  },
  {
   "cell_type": "code",
   "execution_count": 2,
   "metadata": {},
   "outputs": [
    {
     "name": "stdout",
     "output_type": "stream",
     "text": [
      "4583832896\n",
      "4583832896 [1, 2, 3, 4, 1, 2, 3, 4]\n"
     ]
    },
    {
     "data": {
      "text/plain": [
       "[1, 2, 3, 4, 1, 2, 3, 4]"
      ]
     },
     "execution_count": 2,
     "metadata": {},
     "output_type": "execute_result"
    }
   ],
   "source": [
    "# Uso di un tipo mutable\n",
    "def myfun(obj):\n",
    "    print(id(obj))\n",
    "    obj *= 2\n",
    "    print(id(obj),obj)\n",
    "\n",
    "\n",
    "myfun(x)\n",
    "x"
   ]
  },
  {
   "cell_type": "code",
   "execution_count": 3,
   "metadata": {},
   "outputs": [
    {
     "name": "stdout",
     "output_type": "stream",
     "text": [
      "4583741680\n",
      "4583742512 pluto\n"
     ]
    },
    {
     "data": {
      "text/plain": [
       "'pippo'"
      ]
     },
     "execution_count": 3,
     "metadata": {},
     "output_type": "execute_result"
    }
   ],
   "source": [
    "# Modifca di un tipo immutable\n",
    "s = 'pippo'\n",
    "def myfun(obj):\n",
    "    print(id(obj))\n",
    "    obj = 'pluto'\n",
    "    print(id(obj),obj)\n",
    "\n",
    "\n",
    "myfun(s)\n",
    "s"
   ]
  },
  {
   "cell_type": "markdown",
   "metadata": {},
   "source": [
    "Le funzioni possono annidarsi l'una nell'altra:"
   ]
  },
  {
   "cell_type": "code",
   "execution_count": 13,
   "metadata": {},
   "outputs": [
    {
     "data": {
      "text/plain": [
       "25"
      ]
     },
     "execution_count": 13,
     "metadata": {},
     "output_type": "execute_result"
    }
   ],
   "source": [
    "def esterna(n):\n",
    "    def interna(x,exponent=3):\n",
    "        return x**exponent\n",
    "    \n",
    "    return interna(n,exponent=2)\n",
    "\n",
    "esterna(5)"
   ]
  },
  {
   "cell_type": "markdown",
   "metadata": {},
   "source": [
    "Una funzione accetta liste di parametri variabili sia posizionali, sia in forma di coppie chiave-valore. Se si vogliono usare parametri variabili li si deve dichiarare in un preciso ordine:\n",
    "```python\n",
    "def nomeFunzione(parametri_posizionali, *parametri_variabili, **parametri_con_keyword):\n",
    "    ...\n",
    "```\n",
    "\n",
    "Tra i parametri posso dichiarare anche dei parametri con valori di default che divengono automaticamente parametri variabili perché non è necessario passarli se adottiamo i valori di default.\n",
    "\n",
    "Tra i parametri che possiamo passare ***ci possono essere funzioni***. Una funzione ***può restituire una funzione come risultato***."
   ]
  },
  {
   "cell_type": "code",
   "execution_count": 14,
   "metadata": {},
   "outputs": [
    {
     "name": "stdout",
     "output_type": "stream",
     "text": [
      "Hello Prof. Jack\n",
      "Hello Dr. Jack\n",
      "Hello Prof. John\n",
      "Hello Dr. John\n",
      "Ciao Mr. Harry\n",
      "Ciao Mr. George\n"
     ]
    },
    {
     "data": {
      "text/plain": [
       "(2, ['mamma', 'nonna'])"
      ]
     },
     "execution_count": 14,
     "metadata": {},
     "output_type": "execute_result"
    }
   ],
   "source": [
    "def saluta(saluto,*people,**titolo):\n",
    "    for p in people:\n",
    "        for k in titolo:\n",
    "            print(f'{saluto} {titolo[k]} {p}')\n",
    "\n",
    "saluta('Hello','Jack','John',prof='Prof.',dott='Dr.')\n",
    "saluta('Ciao','Harry','George',titolo='Mr.')\n",
    "\n",
    "def conta(oggetti,step=3):\n",
    "    obj = []\n",
    "    for i in range(0,len(oggetti),step):\n",
    "        obj.append(oggetti[i])\n",
    "    return len(obj), obj\n",
    "\n",
    "conta(['mamma','papà','nonno','nonna'])"
   ]
  },
  {
   "cell_type": "code",
   "execution_count": 12,
   "metadata": {},
   "outputs": [
    {
     "data": {
      "text/plain": [
       "(2, ['mamma', 'nonno'])"
      ]
     },
     "execution_count": 12,
     "metadata": {},
     "output_type": "execute_result"
    }
   ],
   "source": [
    "conta(['mamma','papà','nonno','nonna'],step=2)"
   ]
  },
  {
   "cell_type": "markdown",
   "metadata": {},
   "source": [
    "Ogni funzione consentono la definizione di una _docstring_ per fornire la documentazione alla chiamata della funzione `help()` sul proprio nome. La documentazione è la prima stringa commento racchiusa da:```\"\"\" ... \"\"\"``` che si trova in testa al modulo o alla funzione, subito sotto la linea `def`."
   ]
  },
  {
   "cell_type": "code",
   "execution_count": 17,
   "metadata": {},
   "outputs": [
    {
     "name": "stdout",
     "output_type": "stream",
     "text": [
      "Help on function conta in module __main__:\n",
      "\n",
      "conta(oggetti, step=3)\n",
      "\n"
     ]
    }
   ],
   "source": [
    "help(conta) #senza docstring"
   ]
  },
  {
   "cell_type": "code",
   "execution_count": 30,
   "metadata": {},
   "outputs": [
    {
     "name": "stdout",
     "output_type": "stream",
     "text": [
      "Help on function conta2 in module __main__:\n",
      "\n",
      "conta2(oggetti, step=3)\n",
      "    Conta gli oggetti passati come lista secondo lo step passato per argomento\n",
      "    ritorna la tupla contenente il numero di oggetti contati e la lista degli\n",
      "    oggetti contati\n",
      "\n"
     ]
    }
   ],
   "source": [
    "def conta2(oggetti,step=3):\n",
    "    \"\"\"\n",
    "    Conta gli oggetti passati come lista secondo lo step passato per argomento\n",
    "    ritorna la tupla contenente il numero di oggetti contati e la lista degli\n",
    "    oggetti contati\n",
    "    \"\"\"\n",
    "    obj = []\n",
    "    for i in range(0,len(oggetti),step):\n",
    "        obj.append(oggetti[i])\n",
    "    return len(obj), obj\n",
    "\n",
    "help(conta2)"
   ]
  },
  {
   "cell_type": "code",
   "execution_count": 33,
   "metadata": {},
   "outputs": [
    {
     "data": {
      "text/plain": [
       "'\\n    Conta gli oggetti passati come lista secondo lo step passato per argomento\\n    ritorna la tupla contenente il numero di oggetti contati e la lista degli\\n    oggetti contati\\n    '"
      ]
     },
     "execution_count": 33,
     "metadata": {},
     "output_type": "execute_result"
    }
   ],
   "source": [
    "# la variabile speciale __doc__, definita automaticamente nel contesto della funzione conta2\n",
    "# contiene la docstring\n",
    "\n",
    "conta2.__doc__"
   ]
  },
  {
   "cell_type": "markdown",
   "metadata": {},
   "source": [
    "Per vedere quali sono i nomi definiti nel contesto di `conta2()` invochiamo:"
   ]
  },
  {
   "cell_type": "code",
   "execution_count": 20,
   "metadata": {},
   "outputs": [
    {
     "data": {
      "text/plain": [
       "['__annotations__',\n",
       " '__call__',\n",
       " '__class__',\n",
       " '__closure__',\n",
       " '__code__',\n",
       " '__defaults__',\n",
       " '__delattr__',\n",
       " '__dict__',\n",
       " '__dir__',\n",
       " '__doc__',\n",
       " '__eq__',\n",
       " '__format__',\n",
       " '__ge__',\n",
       " '__get__',\n",
       " '__getattribute__',\n",
       " '__globals__',\n",
       " '__gt__',\n",
       " '__hash__',\n",
       " '__init__',\n",
       " '__init_subclass__',\n",
       " '__kwdefaults__',\n",
       " '__le__',\n",
       " '__lt__',\n",
       " '__module__',\n",
       " '__name__',\n",
       " '__ne__',\n",
       " '__new__',\n",
       " '__qualname__',\n",
       " '__reduce__',\n",
       " '__reduce_ex__',\n",
       " '__repr__',\n",
       " '__setattr__',\n",
       " '__sizeof__',\n",
       " '__str__',\n",
       " '__subclasshook__']"
      ]
     },
     "execution_count": 20,
     "metadata": {},
     "output_type": "execute_result"
    }
   ],
   "source": [
    "dir(conta2)"
   ]
  },
  {
   "cell_type": "code",
   "execution_count": 21,
   "metadata": {},
   "outputs": [
    {
     "data": {
      "text/plain": [
       "['In',\n",
       " 'Out',\n",
       " '_',\n",
       " '_1',\n",
       " '_10',\n",
       " '_11',\n",
       " '_12',\n",
       " '_13',\n",
       " '_14',\n",
       " '_15',\n",
       " '_16',\n",
       " '_19',\n",
       " '_20',\n",
       " '_8',\n",
       " '_9',\n",
       " '__',\n",
       " '___',\n",
       " '__builtin__',\n",
       " '__builtins__',\n",
       " '__doc__',\n",
       " '__loader__',\n",
       " '__name__',\n",
       " '__package__',\n",
       " '__spec__',\n",
       " '_dh',\n",
       " '_i',\n",
       " '_i1',\n",
       " '_i10',\n",
       " '_i11',\n",
       " '_i12',\n",
       " '_i13',\n",
       " '_i14',\n",
       " '_i15',\n",
       " '_i16',\n",
       " '_i17',\n",
       " '_i18',\n",
       " '_i19',\n",
       " '_i2',\n",
       " '_i20',\n",
       " '_i21',\n",
       " '_i3',\n",
       " '_i4',\n",
       " '_i6',\n",
       " '_i8',\n",
       " '_i9',\n",
       " '_ih',\n",
       " '_ii',\n",
       " '_iii',\n",
       " '_oh',\n",
       " 'conta',\n",
       " 'conta2',\n",
       " 'exit',\n",
       " 'get_ipython',\n",
       " 'printId',\n",
       " 'quit',\n",
       " 'saluta',\n",
       " 'x']"
      ]
     },
     "execution_count": 21,
     "metadata": {},
     "output_type": "execute_result"
    }
   ],
   "source": [
    "# dir() mostra la lista dei simboli definiti nel contesto corrente, \n",
    "# tra cui ci sono tutti i simboli che abbiamo dichiarato finora e che \n",
    "# possono essere cancellati con del()\n",
    "dir()"
   ]
  },
  {
   "cell_type": "markdown",
   "metadata": {},
   "source": [
    "## Variabili globali e locali\n",
    "\n",
    "Le variabili definite al livello del modulo corrente sono globali e sono visibili all'interno degli ambiti definiti dalle funzioni, ***ma solo se usate in lettura***. Se definiamo una variabile con lo stesso nome di una globale, otteniamo di gestire una variabile _locale_ che maschera la visibilità della globale."
   ]
  },
  {
   "cell_type": "code",
   "execution_count": 17,
   "metadata": {},
   "outputs": [
    {
     "name": "stdout",
     "output_type": "stream",
     "text": [
      "2\n",
      "4525785488 6\n"
     ]
    },
    {
     "data": {
      "text/plain": [
       "4525785360"
      ]
     },
     "execution_count": 17,
     "metadata": {},
     "output_type": "execute_result"
    }
   ],
   "source": [
    "x = 2\n",
    "\n",
    "def stampa():\n",
    "    print(x)\n",
    "\n",
    "def moltiplica_e_stampa():\n",
    "    # l'errore insorge già all'istruzione print perché\n",
    "    # l'istruzione di moltiplicazione implica la definizione del nuovo simbolo per\n",
    "    # tutto l'ambito di visibilità della funzione\n",
    "    x = 3\n",
    "    x *= 2\n",
    "    print(id(x),x)\n",
    "\n",
    "stampa()\n",
    "moltiplica_e_stampa()\n",
    "id(x)"
   ]
  },
  {
   "cell_type": "markdown",
   "metadata": {},
   "source": [
    "La parola chiave `global` risolve il problema."
   ]
  },
  {
   "cell_type": "code",
   "execution_count": 20,
   "metadata": {},
   "outputs": [
    {
     "name": "stdout",
     "output_type": "stream",
     "text": [
      "8\n",
      "16\n"
     ]
    },
    {
     "data": {
      "text/plain": [
       "16"
      ]
     },
     "execution_count": 20,
     "metadata": {},
     "output_type": "execute_result"
    }
   ],
   "source": [
    "def moltiplica_e_stampa2():\n",
    "    global x\n",
    "    print(x)\n",
    "    x *= 2 # ovviamente questa istruzione *cambia* la variabile globale passata per riferimento\n",
    "    print(x)\n",
    "\n",
    "moltiplica_e_stampa2()\n",
    "x"
   ]
  },
  {
   "cell_type": "markdown",
   "metadata": {},
   "source": [
    "La parola chiave `nonlocal` definisce una variabile locale di una funzione come _globale_ per l'ambito di visibilità di una funzione annidata al suo interno:"
   ]
  },
  {
   "cell_type": "code",
   "execution_count": 3,
   "metadata": {},
   "outputs": [
    {
     "name": "stdout",
     "output_type": "stream",
     "text": [
      "[2, 3, 4, 5, 6, 7]\n"
     ]
    },
    {
     "data": {
      "text/plain": [
       "-0.047956372427609105"
      ]
     },
     "execution_count": 3,
     "metadata": {},
     "output_type": "execute_result"
    }
   ],
   "source": [
    "import math\n",
    "intervallo = [0, 0.5, 1]\n",
    "\n",
    "def integrale(fun,da,a): # passaggio di una funzione come parametro\n",
    "    \n",
    "    intervallo = [x for x in range(da,a+1)]\n",
    "    \n",
    "    def integrando():\n",
    "        nonlocal intervallo\n",
    "        print(intervallo)\n",
    "        \n",
    "        return map(fun,intervallo)\n",
    "    \n",
    "    # Applichiamo il concetto di map-reduce: sum raccoglie tutti gli elementi\n",
    "    # che erano stati localmente *trasformati* secondo map\n",
    "    return sum(integrando())/len(intervallo)\n",
    "\n",
    "integrale(math.sin,2,7)"
   ]
  },
  {
   "cell_type": "markdown",
   "metadata": {},
   "source": [
    "## Moduli e Package\n",
    "\n",
    "Il codice Python viene organizzato normalmente in moduli, i quali che vengono caricati nell'ambiente di esecuzione attraverso la direttiva `import` che aggiunge al namespace corrente il nome del modulo. Tale nome fa da riferimento per accedere a tutti i nomi (costanti, funzioni, etc.) definiti al suo interno. E' possibile definire direttamente nell'ambiente il nome di una funzione utilizzando la forma `from modulo import nome [as mio_nome]`.\n",
    "\n"
   ]
  },
  {
   "cell_type": "code",
   "execution_count": 4,
   "metadata": {},
   "outputs": [
    {
     "ename": "ModuleNotFoundError",
     "evalue": "No module named 'mymodule'",
     "output_type": "error",
     "traceback": [
      "\u001b[0;31m---------------------------------------------------------------------------\u001b[0m",
      "\u001b[0;31mModuleNotFoundError\u001b[0m                       Traceback (most recent call last)",
      "\u001b[0;32m<ipython-input-4-9af6f895aaa2>\u001b[0m in \u001b[0;36m<module>\u001b[0;34m\u001b[0m\n\u001b[0;32m----> 1\u001b[0;31m \u001b[0;32mimport\u001b[0m \u001b[0mmymodule\u001b[0m \u001b[0;31m# corrisponde alla presenza di un file mymodule.py nel percorso di ricerca dei moduli\u001b[0m\u001b[0;34m\u001b[0m\u001b[0;34m\u001b[0m\u001b[0m\n\u001b[0m\u001b[1;32m      2\u001b[0m \u001b[0;34m\u001b[0m\u001b[0m\n\u001b[1;32m      3\u001b[0m \u001b[0mdir\u001b[0m\u001b[0;34m(\u001b[0m\u001b[0mmymodule\u001b[0m\u001b[0;34m)\u001b[0m \u001b[0;31m# elenco dei nomi definiti in mymodule\u001b[0m\u001b[0;34m\u001b[0m\u001b[0;34m\u001b[0m\u001b[0m\n",
      "\u001b[0;31mModuleNotFoundError\u001b[0m: No module named 'mymodule'"
     ]
    }
   ],
   "source": [
    "import mymodule # corrisponde alla presenza di un file mymodule.py nel percorso di ricerca dei moduli\n",
    "\n",
    "dir(mymodule) # elenco dei nomi definiti in mymodule"
   ]
  },
  {
   "cell_type": "code",
   "execution_count": 5,
   "metadata": {},
   "outputs": [
    {
     "data": {
      "text/plain": [
       "['/Users/pirrone/src/github repositories/Big-Data',\n",
       " '/Users/pirrone/.vscode/extensions/ms-toolsai.jupyter-2021.9.1101343141/pythonFiles',\n",
       " '/Users/pirrone/.vscode/extensions/ms-toolsai.jupyter-2021.9.1101343141/pythonFiles/lib/python',\n",
       " '/usr/local/Cellar/python@3.9/3.9.7_1/Frameworks/Python.framework/Versions/3.9/lib/python39.zip',\n",
       " '/usr/local/Cellar/python@3.9/3.9.7_1/Frameworks/Python.framework/Versions/3.9/lib/python3.9',\n",
       " '/usr/local/Cellar/python@3.9/3.9.7_1/Frameworks/Python.framework/Versions/3.9/lib/python3.9/lib-dynload',\n",
       " '',\n",
       " '/usr/local/lib/python3.9/site-packages',\n",
       " '/usr/local/lib/python3.9/site-packages/IPython/extensions',\n",
       " '/Users/pirrone/.ipython']"
      ]
     },
     "execution_count": 5,
     "metadata": {},
     "output_type": "execute_result"
    }
   ],
   "source": [
    "# I moduli vengono caricati direttamente dalle cartelle elencate nella lista\n",
    "# sys.path che può essere estesa dall'utente per ricomprendere cartelle proprie\n",
    "# sys.path comprende anche la cartella corrente\n",
    "\n",
    "import sys\n",
    "\n",
    "sys.path"
   ]
  },
  {
   "cell_type": "code",
   "execution_count": 6,
   "metadata": {},
   "outputs": [
    {
     "data": {
      "text/plain": [
       "['__builtins__',\n",
       " '__cached__',\n",
       " '__doc__',\n",
       " '__file__',\n",
       " '__loader__',\n",
       " '__name__',\n",
       " '__package__',\n",
       " '__spec__',\n",
       " 'bar',\n",
       " 'foo']"
      ]
     },
     "execution_count": 6,
     "metadata": {},
     "output_type": "execute_result"
    }
   ],
   "source": [
    "sys.path.extend(['/Users/pirrone/src/github repositories/Big-Data/Python programming'])\n",
    "\n",
    "import mymodule\n",
    "\n",
    "dir(mymodule)"
   ]
  },
  {
   "cell_type": "markdown",
   "metadata": {},
   "source": [
    "La docstring di un modulo è riporata in testa al file come commento multilinea \"\"\"...\"\"\"\n",
    "\n",
    "```python\n",
    "\"\"\"\n",
    "Definizione del modulo mymodule.py\n",
    "\"\"\"\n",
    "\n",
    "def foo(n):\n",
    "    for i in range(n):\n",
    "        print('foo')\n",
    "        \n",
    "def bar(s):\n",
    "    print(s.capitalize())\n",
    "```"
   ]
  },
  {
   "cell_type": "code",
   "execution_count": 7,
   "metadata": {},
   "outputs": [
    {
     "name": "stdout",
     "output_type": "stream",
     "text": [
      "Help on module mymodule:\n",
      "\n",
      "NAME\n",
      "    mymodule - Definizione del modulo mymodule.py\n",
      "\n",
      "FUNCTIONS\n",
      "    bar(s)\n",
      "    \n",
      "    foo(n)\n",
      "\n",
      "FILE\n",
      "    /Users/pirrone/src/github repositories/Big-Data/Python programming/mymodule.py\n",
      "\n",
      "\n",
      "Help on function foo in module mymodule:\n",
      "\n",
      "foo(n)\n",
      "\n"
     ]
    }
   ],
   "source": [
    "help(mymodule)\n",
    "\n",
    "help(mymodule.foo) # help(foo) ritorna solo il nome della funzione perché non è stata definita la sua docstring"
   ]
  },
  {
   "cell_type": "markdown",
   "metadata": {},
   "source": [
    "I moduli possono essere articolati in package che sono essenzialmente cartelle che racchiudono più file sorgente, ciascuno dei quali è un modulo importabile attraverso la direttiva `import nomepackage.nomemodulo`. Nel nostro esempio abbiamo un package siffatto:\n",
    "\n",
    "```\n",
    "mypackage/\n",
    "    |------- __init__.py\n",
    "    |------- module1.py\n",
    "    |------- mysubpackage\n",
    "                |-------- __init__.py\n",
    "                |-------- module2.py\n",
    "```\n",
    "\n",
    "\n",
    "La cartella di un package si contraddistingue per la presenza di un file `__init__.py` che può anche essere vuoto ovvero contenere codice di utilità per tutti i moduli del package. Nell'esempio, `__init__.py` contiene la docstring del package:\n",
    "\n",
    "```python\n",
    "\"\"\"\n",
    "Mypackage contiene il modulo module1 e il package subpackage che a sua volta contiene il modulo\n",
    "module2.\n",
    "\n",
    "Importare i moduli con la seguente sintassi:\n",
    "\n",
    "    - import mypackage.module1\n",
    "    - import mypackage.subpackage.module2\n",
    "\"\"\"\n",
    "```"
   ]
  },
  {
   "cell_type": "code",
   "execution_count": 7,
   "metadata": {},
   "outputs": [
    {
     "name": "stdout",
     "output_type": "stream",
     "text": [
      "Help on package mypackage:\n",
      "\n",
      "NAME\n",
      "    mypackage\n",
      "\n",
      "DESCRIPTION\n",
      "    Mypackage contiene il modulo module1 e il package subpackage che a sua volta contiene il modulo\n",
      "    module2.\n",
      "    \n",
      "    Importare i moduli con la seguente sintassi:\n",
      "    \n",
      "        - import mypackage.module1\n",
      "        - import mypackage.subpackage.module2\n",
      "\n",
      "PACKAGE CONTENTS\n",
      "    module1\n",
      "    mysubpackage (package)\n",
      "\n",
      "FILE\n",
      "    /Users/pirrone/src/github repositories/Big-Data/Python programming/mypackage/__init__.py\n",
      "\n",
      "\n"
     ]
    }
   ],
   "source": [
    "import mypackage\n",
    "\n",
    "help(mypackage)"
   ]
  },
  {
   "cell_type": "code",
   "execution_count": 8,
   "metadata": {},
   "outputs": [
    {
     "data": {
      "text/plain": [
       "['__builtins__',\n",
       " '__cached__',\n",
       " '__doc__',\n",
       " '__file__',\n",
       " '__loader__',\n",
       " '__name__',\n",
       " '__package__',\n",
       " '__path__',\n",
       " '__spec__']"
      ]
     },
     "execution_count": 8,
     "metadata": {},
     "output_type": "execute_result"
    }
   ],
   "source": [
    "# non abbiamo importato moduli da mypackage\n",
    "dir(mypackage)"
   ]
  },
  {
   "cell_type": "code",
   "execution_count": 9,
   "metadata": {},
   "outputs": [
    {
     "name": "stdout",
     "output_type": "stream",
     "text": [
      "Help on module mypackage.module1 in mypackage:\n",
      "\n",
      "NAME\n",
      "    mypackage.module1 - Il modulo module1 è caricato direttamente da package\n",
      "\n",
      "FUNCTIONS\n",
      "    myFun()\n",
      "        myFun() -- stampa un messaggio\n",
      "\n",
      "FILE\n",
      "    /Users/pirrone/src/github repositories/Big-Data/Python programming/mypackage/module1.py\n",
      "\n",
      "\n",
      "Sono il modulo 1!!\n"
     ]
    }
   ],
   "source": [
    "import mypackage.module1 as m1\n",
    "\n",
    "help(m1)\n",
    "\n",
    "m1.myFun()"
   ]
  },
  {
   "cell_type": "code",
   "execution_count": 10,
   "metadata": {},
   "outputs": [
    {
     "name": "stdout",
     "output_type": "stream",
     "text": [
      "Help on module mypackage.mysubpackage.module2 in mypackage.mysubpackage:\n",
      "\n",
      "NAME\n",
      "    mypackage.mysubpackage.module2 - Il modulo module2 è caricato da subpackage\n",
      "\n",
      "FUNCTIONS\n",
      "    myMethod(*args, **kwargs)\n",
      "        myMethod(*args,lang=en,newline=False) -- stampa un messaggio di saluto ad args in \n",
      "        inglese e senza andare a capo dopo ogni saluto.\n",
      "        \n",
      "        lang=it saluta in italiano\n",
      "        newline=True va a acapo dopo ogni saluto\n",
      "\n",
      "FILE\n",
      "    /Users/pirrone/src/github repositories/Big-Data/Python programming/mypackage/mysubpackage/module2.py\n",
      "\n",
      "\n",
      "Help on function myMethod in module mypackage.mysubpackage.module2:\n",
      "\n",
      "myMethod(*args, **kwargs)\n",
      "    myMethod(*args,lang=en,newline=False) -- stampa un messaggio di saluto ad args in \n",
      "    inglese e senza andare a capo dopo ogni saluto.\n",
      "    \n",
      "    lang=it saluta in italiano\n",
      "    newline=True va a acapo dopo ogni saluto\n",
      "\n"
     ]
    }
   ],
   "source": [
    "import mypackage.mysubpackage.module2 as m2\n",
    "\n",
    "help(m2)\n",
    "\n",
    "help(m2.myMethod) # il metodo ha la sua docstring"
   ]
  },
  {
   "cell_type": "code",
   "execution_count": 11,
   "metadata": {},
   "outputs": [
    {
     "ename": "SyntaxError",
     "evalue": "Invalid arguments (<string>)",
     "output_type": "error",
     "traceback": [
      "Traceback \u001b[0;36m(most recent call last)\u001b[0m:\n",
      "  File \u001b[1;32m\"/usr/local/lib/python3.9/site-packages/IPython/core/interactiveshell.py\"\u001b[0m, line \u001b[1;32m3437\u001b[0m, in \u001b[1;35mrun_code\u001b[0m\n    exec(code_obj, self.user_global_ns, self.user_ns)\n",
      "  File \u001b[1;32m\"<ipython-input-11-406992fb65be>\"\u001b[0m, line \u001b[1;32m1\u001b[0m, in \u001b[1;35m<module>\u001b[0m\n    m2.myMethod('Harry','Sally',pippo=3)\n",
      "\u001b[0;36m  File \u001b[0;32m\"/Users/pirrone/src/github repositories/Big-Data/Python programming/mypackage/mysubpackage/module2.py\"\u001b[0;36m, line \u001b[0;32m25\u001b[0;36m, in \u001b[0;35mmyMethod\u001b[0;36m\u001b[0m\n\u001b[0;31m    raise SyntaxError('Invalid arguments')\u001b[0m\n",
      "\u001b[0;36m  File \u001b[0;32m\"<string>\"\u001b[0;36m, line \u001b[0;32munknown\u001b[0m\n\u001b[0;31mSyntaxError\u001b[0m\u001b[0;31m:\u001b[0m Invalid arguments\n"
     ]
    }
   ],
   "source": [
    "m2.myMethod('Harry','Sally',pippo=3)"
   ]
  },
  {
   "cell_type": "code",
   "execution_count": 17,
   "metadata": {},
   "outputs": [
    {
     "data": {
      "text/plain": [
       "'Ciao Harry! , Ciao Sally! \\n'"
      ]
     },
     "execution_count": 17,
     "metadata": {},
     "output_type": "execute_result"
    }
   ],
   "source": [
    "\n",
    "m2.myMethod('Harry','Sally',lang='it')"
   ]
  },
  {
   "cell_type": "markdown",
   "metadata": {},
   "source": [
    "## Generatori\n",
    "\n",
    "Un generatore è una funzione che usa la direttiva `yield` al posto di `return` nel suo codice, anche più di una volta. Si tratta della definizione implicita di un iteratore che, per essere costruito dall'utente, comporterebbe una classe che implementi i metodi interni `__next__()` e `__iter__()` e gestisca esplicitamente l'eccezione `StopIteration`.\n",
    "\n",
    "La direttiva `yield` restituisce il controllo al chiamante e mantiene lo stato interno della funzione; tale stato viene ricordato tra chiamate successive. L'iteratore genera un oggetto iterabile con tanti elementi quante sono le chiaate a `yield`. Esternamente, il generatore implementa automaticamente `next()` e solleva `StopIteration` quando l'iteratore è interamente consumato."
   ]
  },
  {
   "cell_type": "code",
   "execution_count": 21,
   "metadata": {},
   "outputs": [
    {
     "name": "stdout",
     "output_type": "stream",
     "text": [
      "16\n",
      "256\n",
      "65536\n"
     ]
    }
   ],
   "source": [
    "def genSquares(seed,num):\n",
    "    \n",
    "    for i in range(num):\n",
    "        seed **= 2\n",
    "        yield seed\n",
    "\n",
    "a = genSquares(4,3)\n",
    "\n",
    "## Consumiamo l'iteratore\n",
    "while True:\n",
    "    try:\n",
    "        print(next(a))\n",
    "    except StopIteration:\n",
    "        break"
   ]
  },
  {
   "cell_type": "markdown",
   "metadata": {},
   "source": [
    "## Closures\n",
    "\n",
    "Le closures in Python, sono un meccanismo di programmazione funzionale perché di fatto consentono la restituzione di funzioni, annidate all'interno della closure, le quali utilizzano variabili locali della closure stessa e, in questo modo, consentono di restituirle all'esterno con un meccanismo di information hiding."
   ]
  },
  {
   "cell_type": "code",
   "execution_count": 1,
   "metadata": {},
   "outputs": [
    {
     "name": "stdout",
     "output_type": "stream",
     "text": [
      "6\n",
      "9\n",
      "5\n",
      "10\n",
      "-1.0\n"
     ]
    }
   ],
   "source": [
    "# Esempio di closure \n",
    "# logger() è una closure che genera funzioni di logging che lavorano\n",
    "# sulla funzione func che è stata registrata nel logger stesso\n",
    "# la funzione log_func() lavora dul parametro func di logger che è definito nello\n",
    "# scope di quest'ultima e viene esportato al di fuori di questo, anche se nascosto,\n",
    "# perché log_func() viene restituita all'ambiente\n",
    "\n",
    "import math\n",
    "import logging # libreria standard per l'implementazione dei file di log\n",
    "\n",
    "logging.basicConfig(filename='./Data/example.log', level=logging.INFO) \n",
    "\n",
    "def logger(func):\n",
    "    \n",
    "    call_order = 1\n",
    "    \n",
    "    def log_func(*args):\n",
    "        \n",
    "        nonlocal call_order\n",
    "        \n",
    "        logging.info('Run #{}: \"{}\" is called with arguments {}'.format(call_order,func.__name__, args)) \n",
    "        print(func(*args))\n",
    "        call_order += 1\n",
    "    \n",
    "    # log_func viene restituita ***senza*** parentesi in quanto oggetto funzione \n",
    "\n",
    "    return log_func\n",
    "\n",
    "def add(x, y): \n",
    "    return x+y \n",
    "\n",
    "def sub(x, y): \n",
    "    return x-y \n",
    "\n",
    "add_logger = logger(add) \n",
    "sub_logger = logger(sub) \n",
    "\n",
    "add_logger(3, 3) \n",
    "add_logger(4, 5) \n",
    "\n",
    "sub_logger(10, 5) \n",
    "sub_logger(20, 10)\n",
    "\n",
    "cos_logger = logger(math.cos)\n",
    "\n",
    "cos_logger(math.pi)\n"
   ]
  },
  {
   "cell_type": "markdown",
   "metadata": {},
   "source": [
    "ogni closure generata ha un attributo `__closure__` che è una tupla di \"celle\" ognuna delle quali contiene uno degli oggetti incapsulati. "
   ]
  },
  {
   "cell_type": "code",
   "execution_count": 2,
   "metadata": {},
   "outputs": [
    {
     "name": "stdout",
     "output_type": "stream",
     "text": [
      "3\n",
      "<function add at 0x1086cab00>\n"
     ]
    }
   ],
   "source": [
    "for cell in add_logger.__closure__:\n",
    "    print(cell.cell_contents)"
   ]
  },
  {
   "cell_type": "markdown",
   "metadata": {},
   "source": [
    "## Decoratori\n",
    "\n",
    "I decoratori sono una interessante caratteristica di Pyhton per la ***metaprogrammazione***. Un decoratore è una funzione che modifica il comportamento di un'altra a run time agendo da wrapper che richiama la funzione cui si applica ed eseguendo del codice proprio sia prima sia dopo la chiamata della funzione modificata."
   ]
  },
  {
   "cell_type": "code",
   "execution_count": 3,
   "metadata": {},
   "outputs": [],
   "source": [
    "import random\n",
    "PLUGINS = dict()\n",
    "\n",
    "def register(func):\n",
    "    \"\"\"Registra una funzione come plug-in\"\"\"\n",
    "    PLUGINS[func.__name__] = func\n",
    "    return func\n",
    "\n",
    "@register\n",
    "def say_hello(name):\n",
    "    return f\"Hello {name}\"\n",
    "\n",
    "@register\n",
    "def be_awesome(name):\n",
    "    return f\"Yo {name}, together we are the awesomest!\"\n",
    "\n",
    "def randomly_greet(name):\n",
    "    greeter, greeter_func = random.choice(list(PLUGINS.items())) # sceglie randomicamente uno dei plugin registrati\n",
    "    print(f\"Using {greeter!r}\") # !r è un codice di formattazione che converte greeter --> repr(greeter).__format__\n",
    "    return greeter_func(name)"
   ]
  },
  {
   "cell_type": "code",
   "execution_count": 4,
   "metadata": {},
   "outputs": [
    {
     "data": {
      "text/plain": [
       "{'say_hello': <function __main__.say_hello(name)>,\n",
       " 'be_awesome': <function __main__.be_awesome(name)>}"
      ]
     },
     "execution_count": 4,
     "metadata": {},
     "output_type": "execute_result"
    }
   ],
   "source": [
    "PLUGINS"
   ]
  },
  {
   "cell_type": "code",
   "execution_count": 5,
   "metadata": {},
   "outputs": [
    {
     "name": "stdout",
     "output_type": "stream",
     "text": [
      "Help on function register in module __main__:\n",
      "\n",
      "register(func)\n",
      "    Registra una funzione come plug-in\n",
      "\n",
      "Using 'be_awesome'\n"
     ]
    },
    {
     "data": {
      "text/plain": [
       "'Yo Bob, together we are the awesomest!'"
      ]
     },
     "execution_count": 5,
     "metadata": {},
     "output_type": "execute_result"
    }
   ],
   "source": [
    "help(register)\n",
    "\n",
    "\n",
    "randomly_greet('Bob')"
   ]
  },
  {
   "cell_type": "code",
   "execution_count": 6,
   "metadata": {},
   "outputs": [
    {
     "name": "stdout",
     "output_type": "stream",
     "text": [
      "Using 'be_awesome'\n"
     ]
    },
    {
     "data": {
      "text/plain": [
       "'Yo Jack, together we are the awesomest!'"
      ]
     },
     "execution_count": 6,
     "metadata": {},
     "output_type": "execute_result"
    }
   ],
   "source": [
    "randomly_greet('Jack')"
   ]
  },
  {
   "cell_type": "markdown",
   "metadata": {},
   "source": [
    "La struttura di un decoratore generico fa utilizzo di una funzione _**wrapper**_ che avvolge la funzione decorata, ne intercetta i parametri e la restituisce per ottenere i risultati dell'esecuzione"
   ]
  },
  {
   "cell_type": "code",
   "execution_count": 7,
   "metadata": {},
   "outputs": [
    {
     "name": "stdout",
     "output_type": "stream",
     "text": [
      "Hello Mary\n",
      "Hello Mary\n",
      "Hello Pippo\n",
      "Hello Pippo\n",
      "None\n"
     ]
    }
   ],
   "source": [
    "# il decoratore do_twice usa wrapper_do_twice per intercettare gli argomenti di func\n",
    "\n",
    "def do_twice(func):\n",
    "\n",
    "    def wrapper_do_twice(*args, **kwargs):\n",
    "        func(*args, **kwargs)\n",
    "        func(*args, **kwargs)\n",
    "\n",
    "    return wrapper_do_twice\n",
    "\n",
    "@do_twice\n",
    "def greet(name):\n",
    "    print(f'Hello {name}')\n",
    "\n",
    "@do_twice\n",
    "def saluta(name):\n",
    "    print(f'Hello {name}')\n",
    "    return f'Hello {name}'\n",
    "\n",
    "greet('Mary')\n",
    "print(saluta('Pippo'))  # wrapper_do_twice non ritorna nulla ovvero None e non può \n",
    "                        # restituire il risultato di saluta alla funzione print\n"
   ]
  },
  {
   "cell_type": "code",
   "execution_count": 22,
   "metadata": {},
   "outputs": [
    {
     "name": "stdout",
     "output_type": "stream",
     "text": [
      "Hello Topolino\n",
      "Hello Topolino\n",
      "Hello Topolino\n"
     ]
    },
    {
     "data": {
      "text/plain": [
       "'wrapper_do_two_times'"
      ]
     },
     "execution_count": 22,
     "metadata": {},
     "output_type": "execute_result"
    }
   ],
   "source": [
    "def do_two_times(func):\n",
    "\n",
    "    def wrapper_do_two_times(*args, **kwargs):\n",
    "        func(*args, **kwargs)\n",
    "        return func(*args, **kwargs) # adesso abiamo un argomento di ritorno!\n",
    "\n",
    "    return wrapper_do_two_times\n",
    "\n",
    "@do_two_times\n",
    "def ciao(name):\n",
    "    print(f'Hello {name}')\n",
    "    return f'Hello {name}'\n",
    "\n",
    "print(ciao('Topolino'))\n",
    "\n",
    "# chiediamo alla funzione decorata ciao di dirci il suo nome tramite l'attributo __name__\n",
    "ciao.__name__"
   ]
  },
  {
   "cell_type": "code",
   "execution_count": 1,
   "metadata": {},
   "outputs": [
    {
     "name": "stdout",
     "output_type": "stream",
     "text": [
      "4\n",
      "3\n",
      "2\n",
      "1\n",
      "Arrivati!\n"
     ]
    },
    {
     "data": {
      "text/plain": [
       "'countdown'"
      ]
     },
     "execution_count": 1,
     "metadata": {},
     "output_type": "execute_result"
    }
   ],
   "source": [
    "import functools  # libreria standard di decoratori che modificano le funzioni in vari modi\n",
    "import time\n",
    "\n",
    "def slow_down(_func=None, *, rate=1):   # * serve per indicare che **non possono** \n",
    "                                        # esserci argomenti posizionali\n",
    "                                        # _func è semplicemente un marker per capire se il decoratore\n",
    "                                        # è stato chiamato con o senza argomenti propri\n",
    "                                    \n",
    "    \"\"\"Attende un numero di secondi pari a rate prima di chiamare la funzione\"\"\"\n",
    "\n",
    "    def decorator_slow_down(func): # serve solo per gestire il ritorno corretto\n",
    "        \n",
    "        # il decoratore seguente è una utility che effettua \n",
    "        # il wrapping di func in modo da \"sembrare\" func\n",
    "        # cioè risistema i valori di __name__, __doc__, etc.\n",
    "        @functools.wraps(func)  \n",
    "        def wrapper_slow_down(*args, **kwargs):\n",
    "            time.sleep(rate)\n",
    "            return func(*args, **kwargs)\n",
    "        \n",
    "        return wrapper_slow_down\n",
    "   \n",
    "    if _func is None:   # slow_down è stato chiamato con argomenti (obbligatoriamente chiave-valore)\n",
    "                        # e quindi il vero decoratore cioè decorator_slow_down usa il meccanismo\n",
    "                        # di closure per incamerare il nuovo valore di rate e viene restituito \n",
    "                        # come oggetto funzione che avrà poi come argomento la funzione decorata\n",
    "        return decorator_slow_down \n",
    "                                   \n",
    "    else:\n",
    "        return decorator_slow_down(_func) # slow_down è stato chiamato **senza** argomenti quindi\n",
    "                                          # _func fa riferimento direttamente alla funzione decorata e\n",
    "                                          # rate ha il valore di default. Di conseguenza si può \n",
    "                                          # invocare direttamente il decoratore decorator_slow_down\n",
    "                                          # con argomento _func che è appunto la funzione decorata\n",
    "\n",
    "@slow_down(rate=3)\n",
    "def countdown(from_number):\n",
    "    if from_number < 1:\n",
    "        print(\"Arrivati!\")\n",
    "    else:\n",
    "        print(from_number)\n",
    "        countdown(from_number - 1)\n",
    "        \n",
    "countdown(4) # senza l'uso di @functools.wrap() avremmo dovuto chiamare esplicitamente wrapper_slow_down()\n",
    "\n",
    "#chiediamo il nome alla funzione decorata\n",
    "countdown.__name__"
   ]
  },
  {
   "cell_type": "markdown",
   "metadata": {},
   "source": [
    "I decoratori possono essere composti e possono applicarsi anche alle classi, nel senso delle loro funzioni costruttore che sono del tipo `<nome_classe>()`."
   ]
  },
  {
   "cell_type": "code",
   "execution_count": 27,
   "metadata": {},
   "outputs": [
    {
     "name": "stdout",
     "output_type": "stream",
     "text": [
      "Calling wrapper_do_twice('Giorgio', ripeti=2)\n",
      "Ciao Giorgio!, Ciao Giorgio!, \n",
      "Ciao Giorgio!, Ciao Giorgio!, \n",
      "'wrapper_do_twice' returned None\n"
     ]
    }
   ],
   "source": [
    "import functools\n",
    "\n",
    "def debug(func):\n",
    "    \"\"\"Print the function signature and return value\"\"\"\n",
    "    @functools.wraps(func)\n",
    "    def wrapper_debug(*args, **kwargs):\n",
    "        args_repr = [repr(a) for a in args]                      # lista degli argomenti posizionali\n",
    "        kwargs_repr = [f\"{k}={v!r}\" for k, v in kwargs.items()]  # lista degli argomenti chiave-valore\n",
    "        signature = \", \".join(args_repr + kwargs_repr)           # unisce le due liste come un'unica stringa separata da ','\n",
    "        print(f\"Calling {func.__name__}({signature})\")           # stampa la firma dela funzione\n",
    "        value = func(*args, **kwargs)\n",
    "        print(f\"{func.__name__!r} returned {value!r}\")           # stampa il risultato\n",
    "        return value\n",
    "    return wrapper_debug\n",
    "\n",
    "@debug\n",
    "@do_twice\n",
    "def myfun(nome,ripeti=5,saluto='Ciao'):\n",
    "\n",
    "    result = ''\n",
    "    \n",
    "    for i in range(ripeti):\n",
    "        result += f'{saluto} {nome}!, '\n",
    "    \n",
    "    print(result)\n",
    "    \n",
    "myfun('Giorgio',ripeti=2)"
   ]
  },
  {
   "cell_type": "code",
   "execution_count": null,
   "metadata": {},
   "outputs": [],
   "source": []
  }
 ],
 "metadata": {
  "interpreter": {
   "hash": "aee8b7b246df8f9039afb4144a1f6fd8d2ca17a180786b69acc140d282b71a49"
  },
  "kernelspec": {
   "display_name": "Python 3.9.7 64-bit",
   "name": "python3"
  },
  "language_info": {
   "codemirror_mode": {
    "name": "ipython",
    "version": 3
   },
   "file_extension": ".py",
   "mimetype": "text/x-python",
   "name": "python",
   "nbconvert_exporter": "python",
   "pygments_lexer": "ipython3",
   "version": "3.10.7"
  }
 },
 "nbformat": 4,
 "nbformat_minor": 4
}
