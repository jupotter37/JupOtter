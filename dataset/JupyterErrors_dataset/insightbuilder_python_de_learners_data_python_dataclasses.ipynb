{
 "cells": [
  {
   "cell_type": "markdown",
   "metadata": {},
   "source": [
    "**Dataclass** is a class that typically contains only Class. There are no restrictions though"
   ]
  },
  {
   "cell_type": "code",
   "execution_count": 1,
   "metadata": {},
   "outputs": [],
   "source": [
    "from dataclasses import dataclass\n",
    "\n",
    "@dataclass\n",
    "class DataClassCard:\n",
    "    rank: str\n",
    "    suit: str"
   ]
  },
  {
   "cell_type": "code",
   "execution_count": 3,
   "metadata": {},
   "outputs": [
    {
     "name": "stdout",
     "output_type": "stream",
     "text": [
      "Q\n",
      "DataClassCard(rank='Q', suit='hearts')\n"
     ]
    }
   ],
   "source": [
    "qoh = DataClassCard('Q','hearts')\n",
    "print(qoh.rank)\n",
    "print(qoh)"
   ]
  },
  {
   "cell_type": "code",
   "execution_count": 6,
   "metadata": {},
   "outputs": [],
   "source": [
    "class RegCard:\n",
    "    def __init__(self, rank, suit) -> None:\n",
    "        self.rank = rank\n",
    "        self.suit = suit\n",
    "    #The below methods are built by default in Dataclass\n",
    "    def __repr__(self):\n",
    "        return (f'{self.__class__.__name__}'\n",
    "                f'(rank={self.rank!r}, suit={self.suit!r})')\n",
    "\n",
    "    def __eq__(self, other):\n",
    "        if other.__class__ is not self.__class__:\n",
    "            return NotImplemented\n",
    "        return (self.rank, self.suit) == (other.rank, other.suit)"
   ]
  },
  {
   "cell_type": "code",
   "execution_count": 5,
   "metadata": {},
   "outputs": [
    {
     "name": "stdout",
     "output_type": "stream",
     "text": [
      "<__main__.RegCard object at 0x7f1e682bbed0>\n"
     ]
    }
   ],
   "source": [
    "rqoh = RegCard('Q','Spade')\n",
    "print(rqoh)"
   ]
  },
  {
   "cell_type": "markdown",
   "metadata": {},
   "source": [
    "How to add default values to data class fields\n",
    "\n",
    "How data classes allow for ordering of objects\n",
    "\n",
    "How to represent immutable data\n",
    "\n",
    "How data classes handle inheritance"
   ]
  },
  {
   "cell_type": "code",
   "execution_count": 11,
   "metadata": {},
   "outputs": [],
   "source": [
    "# More suitable alternate will be Namedtuple\n",
    "from collections import namedtuple\n",
    "\n",
    "nmecard = namedtuple('NameTupcard',['rank','suit'])"
   ]
  },
  {
   "cell_type": "code",
   "execution_count": 15,
   "metadata": {},
   "outputs": [
    {
     "data": {
      "text/plain": [
       "NameTupcard(rank='Q', suit='clubs')"
      ]
     },
     "execution_count": 15,
     "metadata": {},
     "output_type": "execute_result"
    }
   ],
   "source": [
    "nmecard('Q', 'clubs') ## the named tuple creates an object which then acts as template\n",
    "\n",
    "## Cannot use the NameTupCard to instantiate the object, need to use nmecard variable\n",
    "# There are inherent restriction like the NamedTuple is immutable, and no default value "
   ]
  },
  {
   "cell_type": "markdown",
   "metadata": {},
   "source": [
    "In addition to tuple, dict, namedtuple, and attrs, there are many other similar projects, including typing.NamedTuple, namedlist, attrdict, plumber, and fields. While data classes are a great new alternative."
   ]
  },
  {
   "cell_type": "code",
   "execution_count": 16,
   "metadata": {},
   "outputs": [],
   "source": [
    "@dataclass\n",
    "class Position:\n",
    "    name: str\n",
    "    lon: float\n",
    "    lat: float"
   ]
  },
  {
   "cell_type": "code",
   "execution_count": 18,
   "metadata": {},
   "outputs": [
    {
     "data": {
      "text/plain": [
       "Position(name='oslo', lon=58, lat=56)"
      ]
     },
     "execution_count": 18,
     "metadata": {},
     "output_type": "execute_result"
    }
   ],
   "source": [
    "pos = Position('oslo',58,56)\n",
    "pos"
   ]
  },
  {
   "cell_type": "code",
   "execution_count": 19,
   "metadata": {},
   "outputs": [],
   "source": [
    "from dataclasses import make_dataclass\n",
    "\n",
    "Position = make_dataclass('Position', ['name', 'lat', 'lon'])"
   ]
  },
  {
   "cell_type": "code",
   "execution_count": 20,
   "metadata": {},
   "outputs": [],
   "source": [
    "@dataclass\n",
    "class Position:\n",
    "    name: str\n",
    "    lon: float = 0.0\n",
    "    lat: float = 0.0"
   ]
  },
  {
   "cell_type": "code",
   "execution_count": 21,
   "metadata": {},
   "outputs": [
    {
     "data": {
      "text/plain": [
       "Position(name='Green Valley', lon=0.0, lat=0.0)"
      ]
     },
     "execution_count": 21,
     "metadata": {},
     "output_type": "execute_result"
    }
   ],
   "source": [
    "Position('Green Valley')"
   ]
  },
  {
   "cell_type": "code",
   "execution_count": 22,
   "metadata": {},
   "outputs": [],
   "source": [
    "#Type of the attributes is mandatory, however if you don't want \n",
    "# provide a type, then better use Any\n",
    "\n",
    "from dataclasses import dataclass\n",
    "from typing import Any\n",
    "\n",
    "@dataclass\n",
    "class WithoutExplicitTypes:\n",
    "    name: Any\n",
    "    value: Any = 42"
   ]
  },
  {
   "cell_type": "code",
   "execution_count": 23,
   "metadata": {},
   "outputs": [],
   "source": [
    "from math import asin, cos, radians, sin, sqrt\n",
    "\n",
    "@dataclass\n",
    "class Position:\n",
    "    name: str\n",
    "    lon: float = 0.0\n",
    "    lat: float = 0.0\n",
    "\n",
    "    def distance_to(self, other):\n",
    "        r = 6371  # Earth radius in kilometers\n",
    "        lam_1, lam_2 = radians(self.lon), radians(other.lon)\n",
    "        phi_1, phi_2 = radians(self.lat), radians(other.lat)\n",
    "        h = (sin((phi_2 - phi_1) / 2)**2\n",
    "             + cos(phi_1) * cos(phi_2) * sin((lam_2 - lam_1) / 2)**2)\n",
    "        return 2 * r * asin(sqrt(h))"
   ]
  },
  {
   "cell_type": "code",
   "execution_count": 24,
   "metadata": {},
   "outputs": [
    {
     "data": {
      "text/plain": [
       "5693.336554050493"
      ]
     },
     "execution_count": 24,
     "metadata": {},
     "output_type": "execute_result"
    }
   ],
   "source": [
    "os = Position('osls',57.8,26.8)\n",
    "ds = Position('denves',80.8,76.8)\n",
    "os.distance_to(ds)"
   ]
  },
  {
   "cell_type": "markdown",
   "metadata": {},
   "source": [
    "about some more advanced features **like parameters to** the @dataclass decorator and the **field()** function. Together, they give you **more control** when creating a data class."
   ]
  },
  {
   "cell_type": "code",
   "execution_count": 25,
   "metadata": {},
   "outputs": [],
   "source": [
    "from typing import List\n",
    "\n",
    "@dataclass\n",
    "class PlayingCard:\n",
    "    rank: str\n",
    "    suit: str\n",
    "\n",
    "@dataclass\n",
    "class Deck:\n",
    "    cards: List[PlayingCard]"
   ]
  },
  {
   "cell_type": "code",
   "execution_count": 26,
   "metadata": {},
   "outputs": [],
   "source": [
    "koh = PlayingCard('k','spade')\n",
    "qos = PlayingCard('q','spade')\n",
    "\n",
    "two = Deck([koh, qos])"
   ]
  },
  {
   "cell_type": "code",
   "execution_count": 27,
   "metadata": {},
   "outputs": [
    {
     "data": {
      "text/plain": [
       "Deck(cards=[PlayingCard(rank='k', suit='spade'), PlayingCard(rank='q', suit='spade')])"
      ]
     },
     "execution_count": 27,
     "metadata": {},
     "output_type": "execute_result"
    }
   ],
   "source": [
    "two"
   ]
  },
  {
   "cell_type": "code",
   "execution_count": 28,
   "metadata": {},
   "outputs": [],
   "source": [
    "RANKS = '2 3 4 5 6 7 8 9 10 J Q K A'.split()\n",
    "SUITS = '♣ ♢ ♡ ♠'.split()\n",
    "\n",
    "def make_french_deck():\n",
    "    return [PlayingCard(r, s) for s in SUITS for r in RANKS]"
   ]
  },
  {
   "cell_type": "code",
   "execution_count": 31,
   "metadata": {},
   "outputs": [],
   "source": [
    "deck = make_french_deck()"
   ]
  },
  {
   "cell_type": "code",
   "execution_count": 32,
   "metadata": {},
   "outputs": [
    {
     "data": {
      "text/plain": [
       "list"
      ]
     },
     "execution_count": 32,
     "metadata": {},
     "output_type": "execute_result"
    }
   ],
   "source": [
    "type(deck)"
   ]
  },
  {
   "cell_type": "code",
   "execution_count": 33,
   "metadata": {},
   "outputs": [
    {
     "ename": "ValueError",
     "evalue": "mutable default <class 'list'> for field cards is not allowed: use default_factory",
     "output_type": "error",
     "traceback": [
      "\u001b[0;31m---------------------------------------------------------------------------\u001b[0m",
      "\u001b[0;31mValueError\u001b[0m                                Traceback (most recent call last)",
      "\u001b[1;32m/home/kamal/gitfolders/python_de_learners_data/code_script_notebooks/jupyter_notebooks/python_dataclasses.ipynb Cell 25\u001b[0m line \u001b[0;36m1\n\u001b[0;32m----> <a href='vscode-notebook-cell:/home/kamal/gitfolders/python_de_learners_data/code_script_notebooks/jupyter_notebooks/python_dataclasses.ipynb#X35sZmlsZQ%3D%3D?line=0'>1</a>\u001b[0m \u001b[39m@dataclass\u001b[39;49m\n\u001b[1;32m      <a href='vscode-notebook-cell:/home/kamal/gitfolders/python_de_learners_data/code_script_notebooks/jupyter_notebooks/python_dataclasses.ipynb#X35sZmlsZQ%3D%3D?line=1'>2</a>\u001b[0m \u001b[39mclass\u001b[39;49;00m \u001b[39mDeck\u001b[39;49;00m:  \u001b[39m# Will NOT work\u001b[39;49;00m\n\u001b[1;32m      <a href='vscode-notebook-cell:/home/kamal/gitfolders/python_de_learners_data/code_script_notebooks/jupyter_notebooks/python_dataclasses.ipynb#X35sZmlsZQ%3D%3D?line=2'>3</a>\u001b[0m     cards: List[PlayingCard] \u001b[39m=\u001b[39;49m make_french_deck()\n",
      "File \u001b[0;32m/usr/lib/python3.11/dataclasses.py:1230\u001b[0m, in \u001b[0;36mdataclass\u001b[0;34m(cls, init, repr, eq, order, unsafe_hash, frozen, match_args, kw_only, slots, weakref_slot)\u001b[0m\n\u001b[1;32m   1227\u001b[0m     \u001b[39mreturn\u001b[39;00m wrap\n\u001b[1;32m   1229\u001b[0m \u001b[39m# We're called as @dataclass without parens.\u001b[39;00m\n\u001b[0;32m-> 1230\u001b[0m \u001b[39mreturn\u001b[39;00m wrap(\u001b[39mcls\u001b[39;49m)\n",
      "File \u001b[0;32m/usr/lib/python3.11/dataclasses.py:1220\u001b[0m, in \u001b[0;36mdataclass.<locals>.wrap\u001b[0;34m(cls)\u001b[0m\n\u001b[1;32m   1219\u001b[0m \u001b[39mdef\u001b[39;00m \u001b[39mwrap\u001b[39m(\u001b[39mcls\u001b[39m):\n\u001b[0;32m-> 1220\u001b[0m     \u001b[39mreturn\u001b[39;00m _process_class(\u001b[39mcls\u001b[39;49m, init, \u001b[39mrepr\u001b[39;49m, eq, order, unsafe_hash,\n\u001b[1;32m   1221\u001b[0m                           frozen, match_args, kw_only, slots,\n\u001b[1;32m   1222\u001b[0m                           weakref_slot)\n",
      "File \u001b[0;32m/usr/lib/python3.11/dataclasses.py:958\u001b[0m, in \u001b[0;36m_process_class\u001b[0;34m(cls, init, repr, eq, order, unsafe_hash, frozen, match_args, kw_only, slots, weakref_slot)\u001b[0m\n\u001b[1;32m    955\u001b[0m         kw_only \u001b[39m=\u001b[39m \u001b[39mTrue\u001b[39;00m\n\u001b[1;32m    956\u001b[0m     \u001b[39melse\u001b[39;00m:\n\u001b[1;32m    957\u001b[0m         \u001b[39m# Otherwise it's a field of some type.\u001b[39;00m\n\u001b[0;32m--> 958\u001b[0m         cls_fields\u001b[39m.\u001b[39mappend(_get_field(\u001b[39mcls\u001b[39;49m, name, \u001b[39mtype\u001b[39;49m, kw_only))\n\u001b[1;32m    960\u001b[0m \u001b[39mfor\u001b[39;00m f \u001b[39min\u001b[39;00m cls_fields:\n\u001b[1;32m    961\u001b[0m     fields[f\u001b[39m.\u001b[39mname] \u001b[39m=\u001b[39m f\n",
      "File \u001b[0;32m/usr/lib/python3.11/dataclasses.py:815\u001b[0m, in \u001b[0;36m_get_field\u001b[0;34m(cls, a_name, a_type, default_kw_only)\u001b[0m\n\u001b[1;32m    811\u001b[0m \u001b[39m# For real fields, disallow mutable defaults.  Use unhashable as a proxy\u001b[39;00m\n\u001b[1;32m    812\u001b[0m \u001b[39m# indicator for mutability.  Read the __hash__ attribute from the class,\u001b[39;00m\n\u001b[1;32m    813\u001b[0m \u001b[39m# not the instance.\u001b[39;00m\n\u001b[1;32m    814\u001b[0m \u001b[39mif\u001b[39;00m f\u001b[39m.\u001b[39m_field_type \u001b[39mis\u001b[39;00m _FIELD \u001b[39mand\u001b[39;00m f\u001b[39m.\u001b[39mdefault\u001b[39m.\u001b[39m\u001b[39m__class__\u001b[39m\u001b[39m.\u001b[39m\u001b[39m__hash__\u001b[39m \u001b[39mis\u001b[39;00m \u001b[39mNone\u001b[39;00m:\n\u001b[0;32m--> 815\u001b[0m     \u001b[39mraise\u001b[39;00m \u001b[39mValueError\u001b[39;00m(\u001b[39mf\u001b[39m\u001b[39m'\u001b[39m\u001b[39mmutable default \u001b[39m\u001b[39m{\u001b[39;00m\u001b[39mtype\u001b[39m(f\u001b[39m.\u001b[39mdefault)\u001b[39m}\u001b[39;00m\u001b[39m for field \u001b[39m\u001b[39m'\u001b[39m\n\u001b[1;32m    816\u001b[0m                      \u001b[39mf\u001b[39m\u001b[39m'\u001b[39m\u001b[39m{\u001b[39;00mf\u001b[39m.\u001b[39mname\u001b[39m}\u001b[39;00m\u001b[39m is not allowed: use default_factory\u001b[39m\u001b[39m'\u001b[39m)\n\u001b[1;32m    818\u001b[0m \u001b[39mreturn\u001b[39;00m f\n",
      "\u001b[0;31mValueError\u001b[0m: mutable default <class 'list'> for field cards is not allowed: use default_factory"
     ]
    }
   ],
   "source": [
    "@dataclass\n",
    "class Deck:  # Will NOT work\n",
    "    cards: List[PlayingCard] = make_french_deck()"
   ]
  },
  {
   "cell_type": "code",
   "execution_count": 38,
   "metadata": {},
   "outputs": [],
   "source": [
    "from dataclasses import field\n",
    "\n",
    "@dataclass\n",
    "class Deck:\n",
    "    # using the field function to create the elements \n",
    "    cards: List[PlayingCard] = field(default_factory=make_french_deck)\n",
    "\n",
    "    def __repr__(self):\n",
    "        cards = ', '.join(f'{c!s}' for c in self.cards)\n",
    "        return f'{self.__class__.__name__}({cards})'"
   ]
  },
  {
   "cell_type": "markdown",
   "metadata": {},
   "source": [
    "default: Default value of the field\n",
    "\n",
    "default_factory: Function that returns the initial value of the field\n",
    "\n",
    "init: Use field in .__init__() method? (Default is True.)\n",
    "\n",
    "repr: Use field in repr of the object? (Default is True.)\n",
    "\n",
    "compare: Include the field in comparisons? (Default is True.)\n",
    "\n",
    "hash: Include the field when calculating hash()? (Default is to use the same as for compare.)\n",
    "\n",
    "metadata: A mapping with information about the field"
   ]
  },
  {
   "cell_type": "code",
   "execution_count": 40,
   "metadata": {},
   "outputs": [
    {
     "data": {
      "text/plain": [
       "Deck(♣2, ♣3, ♣4, ♣5, ♣6, ♣7, ♣8, ♣9, ♣10, ♣J, ♣Q, ♣K, ♣A, ♢2, ♢3, ♢4, ♢5, ♢6, ♢7, ♢8, ♢9, ♢10, ♢J, ♢Q, ♢K, ♢A, ♡2, ♡3, ♡4, ♡5, ♡6, ♡7, ♡8, ♡9, ♡10, ♡J, ♡Q, ♡K, ♡A, ♠2, ♠3, ♠4, ♠5, ♠6, ♠7, ♠8, ♠9, ♠10, ♠J, ♠Q, ♠K, ♠A)"
      ]
     },
     "execution_count": 40,
     "metadata": {},
     "output_type": "execute_result"
    }
   ],
   "source": [
    "deckedlist = Deck()\n",
    "deckedlist\n",
    "\n",
    "#The below representation possible due to the __repr__ method added above\n",
    "# Note the !s specifier in the {c!s} format string. It means \n",
    "# that we explicitly want to use the str() representation of each PlayingCard."
   ]
  },
  {
   "cell_type": "code",
   "execution_count": 36,
   "metadata": {},
   "outputs": [],
   "source": [
    "@dataclass\n",
    "class Position:\n",
    "    name: str\n",
    "    lon: float = field(default=0.0, metadata={'unit': 'degrees'})\n",
    "    lat: float = field(default=0.0, metadata={'unit': 'degrees'})"
   ]
  },
  {
   "cell_type": "code",
   "execution_count": 37,
   "metadata": {},
   "outputs": [],
   "source": [
    "@dataclass\n",
    "class PlayingCard:\n",
    "    rank: str\n",
    "    suit: str\n",
    "\n",
    "    def __str__(self):\n",
    "        return f'{self.suit}{self.rank}'"
   ]
  },
  {
   "cell_type": "markdown",
   "metadata": {},
   "source": [
    "Parameters that can be added to dataclass decorator\n",
    "\n",
    "init: Add .__init__() method? (Default is True.)\n",
    "\n",
    "repr: Add .__repr__() method? (Default is True.)\n",
    "\n",
    "eq: Add .__eq__() method? (Default is True.)\n",
    "\n",
    "order: Add ordering methods? (Default is False.)\n",
    "\n",
    "unsafe_hash: Force the addition of a .__hash__() method? (Default is False.)\n",
    "\n",
    "frozen: If True, assigning to fields raise an exception. (Default is False.)"
   ]
  },
  {
   "cell_type": "code",
   "execution_count": 41,
   "metadata": {},
   "outputs": [],
   "source": [
    "@dataclass(order=True)\n",
    "class PlayingCard:\n",
    "    rank: str\n",
    "    suit: str\n",
    "\n",
    "    def __str__(self):\n",
    "        return f'{self.suit}{self.rank}'"
   ]
  },
  {
   "cell_type": "code",
   "execution_count": 43,
   "metadata": {},
   "outputs": [
    {
     "data": {
      "text/plain": [
       "42"
      ]
     },
     "execution_count": 43,
     "metadata": {},
     "output_type": "execute_result"
    }
   ],
   "source": [
    "card = PlayingCard('Q', '♡')\n",
    "\n",
    "RANKS.index(card.rank) * len(SUITS) + SUITS.index(card.suit)"
   ]
  },
  {
   "cell_type": "code",
   "execution_count": 44,
   "metadata": {},
   "outputs": [],
   "source": [
    "from dataclasses import dataclass\n",
    "\n",
    "@dataclass(frozen=True)\n",
    "class Position:\n",
    "    name: str\n",
    "    lon: float = 0.0\n",
    "    lat: float = 0.0"
   ]
  },
  {
   "cell_type": "code",
   "execution_count": 45,
   "metadata": {},
   "outputs": [],
   "source": [
    "poslo = Position('oslo',10,86)"
   ]
  },
  {
   "cell_type": "code",
   "execution_count": 46,
   "metadata": {},
   "outputs": [
    {
     "data": {
      "text/plain": [
       "Position(name='oslo', lon=10, lat=86)"
      ]
     },
     "execution_count": 46,
     "metadata": {},
     "output_type": "execute_result"
    }
   ],
   "source": [
    "poslo"
   ]
  },
  {
   "cell_type": "code",
   "execution_count": 47,
   "metadata": {},
   "outputs": [
    {
     "ename": "FrozenInstanceError",
     "evalue": "cannot assign to field 'lon'",
     "output_type": "error",
     "traceback": [
      "\u001b[0;31m---------------------------------------------------------------------------\u001b[0m",
      "\u001b[0;31mFrozenInstanceError\u001b[0m                       Traceback (most recent call last)",
      "\u001b[1;32m/home/kamal/gitfolders/python_de_learners_data/code_script_notebooks/jupyter_notebooks/python_dataclasses.ipynb Cell 37\u001b[0m line \u001b[0;36m1\n\u001b[0;32m----> <a href='vscode-notebook-cell:/home/kamal/gitfolders/python_de_learners_data/code_script_notebooks/jupyter_notebooks/python_dataclasses.ipynb#X44sZmlsZQ%3D%3D?line=0'>1</a>\u001b[0m poslo\u001b[39m.\u001b[39;49mlon \u001b[39m=\u001b[39m \u001b[39m6\u001b[39m\n",
      "File \u001b[0;32m<string>:4\u001b[0m, in \u001b[0;36m__setattr__\u001b[0;34m(self, name, value)\u001b[0m\n",
      "\u001b[0;31mFrozenInstanceError\u001b[0m: cannot assign to field 'lon'"
     ]
    }
   ],
   "source": [
    "poslo.lon = 6"
   ]
  },
  {
   "cell_type": "code",
   "execution_count": 48,
   "metadata": {},
   "outputs": [],
   "source": [
    "@dataclass(frozen=True)\n",
    "class ImmutableCard:\n",
    "    rank: str\n",
    "    suit: str\n",
    "\n",
    "@dataclass(frozen=True)\n",
    "class ImmutableDeck:\n",
    "    \"\"\"This is still mutable\"\"\"\n",
    "    cards: List[ImmutableCard]"
   ]
  },
  {
   "cell_type": "code",
   "execution_count": 49,
   "metadata": {},
   "outputs": [],
   "source": [
    "#Inheritance... Simple\n",
    "\n",
    "@dataclass\n",
    "class Position:\n",
    "    name: str\n",
    "    lon: float\n",
    "    lat: float # No default value\n",
    "\n",
    "@dataclass\n",
    "class Capital(Position):\n",
    "    country: str"
   ]
  },
  {
   "cell_type": "code",
   "execution_count": 50,
   "metadata": {},
   "outputs": [
    {
     "ename": "TypeError",
     "evalue": "non-default argument 'country' follows default argument",
     "output_type": "error",
     "traceback": [
      "\u001b[0;31m---------------------------------------------------------------------------\u001b[0m",
      "\u001b[0;31mTypeError\u001b[0m                                 Traceback (most recent call last)",
      "\u001b[1;32m/home/kamal/gitfolders/python_de_learners_data/code_script_notebooks/jupyter_notebooks/python_dataclasses.ipynb Cell 40\u001b[0m line \u001b[0;36m9\n\u001b[1;32m      <a href='vscode-notebook-cell:/home/kamal/gitfolders/python_de_learners_data/code_script_notebooks/jupyter_notebooks/python_dataclasses.ipynb#X62sZmlsZQ%3D%3D?line=5'>6</a>\u001b[0m     lon: \u001b[39mfloat\u001b[39m \u001b[39m=\u001b[39m \u001b[39m0.0\u001b[39m\n\u001b[1;32m      <a href='vscode-notebook-cell:/home/kamal/gitfolders/python_de_learners_data/code_script_notebooks/jupyter_notebooks/python_dataclasses.ipynb#X62sZmlsZQ%3D%3D?line=6'>7</a>\u001b[0m     lat: \u001b[39mfloat\u001b[39m \u001b[39m=\u001b[39m \u001b[39m2.0\u001b[39m\n\u001b[0;32m----> <a href='vscode-notebook-cell:/home/kamal/gitfolders/python_de_learners_data/code_script_notebooks/jupyter_notebooks/python_dataclasses.ipynb#X62sZmlsZQ%3D%3D?line=8'>9</a>\u001b[0m \u001b[39m@dataclass\u001b[39;49m\n\u001b[1;32m     <a href='vscode-notebook-cell:/home/kamal/gitfolders/python_de_learners_data/code_script_notebooks/jupyter_notebooks/python_dataclasses.ipynb#X62sZmlsZQ%3D%3D?line=9'>10</a>\u001b[0m \u001b[39mclass\u001b[39;49;00m \u001b[39mCapital\u001b[39;49;00m(Position):\n\u001b[1;32m     <a href='vscode-notebook-cell:/home/kamal/gitfolders/python_de_learners_data/code_script_notebooks/jupyter_notebooks/python_dataclasses.ipynb#X62sZmlsZQ%3D%3D?line=10'>11</a>\u001b[0m     country: \u001b[39mstr\u001b[39;49m\n",
      "File \u001b[0;32m/usr/lib/python3.11/dataclasses.py:1230\u001b[0m, in \u001b[0;36mdataclass\u001b[0;34m(cls, init, repr, eq, order, unsafe_hash, frozen, match_args, kw_only, slots, weakref_slot)\u001b[0m\n\u001b[1;32m   1227\u001b[0m     \u001b[39mreturn\u001b[39;00m wrap\n\u001b[1;32m   1229\u001b[0m \u001b[39m# We're called as @dataclass without parens.\u001b[39;00m\n\u001b[0;32m-> 1230\u001b[0m \u001b[39mreturn\u001b[39;00m wrap(\u001b[39mcls\u001b[39;49m)\n",
      "File \u001b[0;32m/usr/lib/python3.11/dataclasses.py:1220\u001b[0m, in \u001b[0;36mdataclass.<locals>.wrap\u001b[0;34m(cls)\u001b[0m\n\u001b[1;32m   1219\u001b[0m \u001b[39mdef\u001b[39;00m \u001b[39mwrap\u001b[39m(\u001b[39mcls\u001b[39m):\n\u001b[0;32m-> 1220\u001b[0m     \u001b[39mreturn\u001b[39;00m _process_class(\u001b[39mcls\u001b[39;49m, init, \u001b[39mrepr\u001b[39;49m, eq, order, unsafe_hash,\n\u001b[1;32m   1221\u001b[0m                           frozen, match_args, kw_only, slots,\n\u001b[1;32m   1222\u001b[0m                           weakref_slot)\n",
      "File \u001b[0;32m/usr/lib/python3.11/dataclasses.py:1027\u001b[0m, in \u001b[0;36m_process_class\u001b[0;34m(cls, init, repr, eq, order, unsafe_hash, frozen, match_args, kw_only, slots, weakref_slot)\u001b[0m\n\u001b[1;32m   1022\u001b[0m \u001b[39mif\u001b[39;00m init:\n\u001b[1;32m   1023\u001b[0m     \u001b[39m# Does this class have a post-init function?\u001b[39;00m\n\u001b[1;32m   1024\u001b[0m     has_post_init \u001b[39m=\u001b[39m \u001b[39mhasattr\u001b[39m(\u001b[39mcls\u001b[39m, _POST_INIT_NAME)\n\u001b[1;32m   1026\u001b[0m     _set_new_attribute(\u001b[39mcls\u001b[39m, \u001b[39m'\u001b[39m\u001b[39m__init__\u001b[39m\u001b[39m'\u001b[39m,\n\u001b[0;32m-> 1027\u001b[0m                        _init_fn(all_init_fields,\n\u001b[1;32m   1028\u001b[0m                                 std_init_fields,\n\u001b[1;32m   1029\u001b[0m                                 kw_only_init_fields,\n\u001b[1;32m   1030\u001b[0m                                 frozen,\n\u001b[1;32m   1031\u001b[0m                                 has_post_init,\n\u001b[1;32m   1032\u001b[0m                                 \u001b[39m# The name to use for the \"self\"\u001b[39;49;00m\n\u001b[1;32m   1033\u001b[0m                                 \u001b[39m# param in __init__.  Use \"self\"\u001b[39;49;00m\n\u001b[1;32m   1034\u001b[0m                                 \u001b[39m# if possible.\u001b[39;49;00m\n\u001b[1;32m   1035\u001b[0m                                 \u001b[39m'\u001b[39;49m\u001b[39m__dataclass_self__\u001b[39;49m\u001b[39m'\u001b[39;49m \u001b[39mif\u001b[39;49;00m \u001b[39m'\u001b[39;49m\u001b[39mself\u001b[39;49m\u001b[39m'\u001b[39;49m \u001b[39min\u001b[39;49;00m fields\n\u001b[1;32m   1036\u001b[0m                                         \u001b[39melse\u001b[39;49;00m \u001b[39m'\u001b[39;49m\u001b[39mself\u001b[39;49m\u001b[39m'\u001b[39;49m,\n\u001b[1;32m   1037\u001b[0m                                 \u001b[39mglobals\u001b[39;49m,\n\u001b[1;32m   1038\u001b[0m                                 slots,\n\u001b[1;32m   1039\u001b[0m                       ))\n\u001b[1;32m   1041\u001b[0m \u001b[39m# Get the fields as a list, and include only real fields.  This is\u001b[39;00m\n\u001b[1;32m   1042\u001b[0m \u001b[39m# used in all of the following methods.\u001b[39;00m\n\u001b[1;32m   1043\u001b[0m field_list \u001b[39m=\u001b[39m [f \u001b[39mfor\u001b[39;00m f \u001b[39min\u001b[39;00m fields\u001b[39m.\u001b[39mvalues() \u001b[39mif\u001b[39;00m f\u001b[39m.\u001b[39m_field_type \u001b[39mis\u001b[39;00m _FIELD]\n",
      "File \u001b[0;32m/usr/lib/python3.11/dataclasses.py:545\u001b[0m, in \u001b[0;36m_init_fn\u001b[0;34m(fields, std_fields, kw_only_fields, frozen, has_post_init, self_name, globals, slots)\u001b[0m\n\u001b[1;32m    543\u001b[0m             seen_default \u001b[39m=\u001b[39m \u001b[39mTrue\u001b[39;00m\n\u001b[1;32m    544\u001b[0m         \u001b[39melif\u001b[39;00m seen_default:\n\u001b[0;32m--> 545\u001b[0m             \u001b[39mraise\u001b[39;00m \u001b[39mTypeError\u001b[39;00m(\u001b[39mf\u001b[39m\u001b[39m'\u001b[39m\u001b[39mnon-default argument \u001b[39m\u001b[39m{\u001b[39;00mf\u001b[39m.\u001b[39mname\u001b[39m!r}\u001b[39;00m\u001b[39m \u001b[39m\u001b[39m'\u001b[39m\n\u001b[1;32m    546\u001b[0m                             \u001b[39m'\u001b[39m\u001b[39mfollows default argument\u001b[39m\u001b[39m'\u001b[39m)\n\u001b[1;32m    548\u001b[0m \u001b[39mlocals\u001b[39m \u001b[39m=\u001b[39m {\u001b[39mf\u001b[39m\u001b[39m'\u001b[39m\u001b[39m_type_\u001b[39m\u001b[39m{\u001b[39;00mf\u001b[39m.\u001b[39mname\u001b[39m}\u001b[39;00m\u001b[39m'\u001b[39m: f\u001b[39m.\u001b[39mtype \u001b[39mfor\u001b[39;00m f \u001b[39min\u001b[39;00m fields}\n\u001b[1;32m    549\u001b[0m \u001b[39mlocals\u001b[39m\u001b[39m.\u001b[39mupdate({\n\u001b[1;32m    550\u001b[0m     \u001b[39m'\u001b[39m\u001b[39mMISSING\u001b[39m\u001b[39m'\u001b[39m: MISSING,\n\u001b[1;32m    551\u001b[0m     \u001b[39m'\u001b[39m\u001b[39m_HAS_DEFAULT_FACTORY\u001b[39m\u001b[39m'\u001b[39m: _HAS_DEFAULT_FACTORY,\n\u001b[1;32m    552\u001b[0m     \u001b[39m'\u001b[39m\u001b[39m__dataclass_builtins_object__\u001b[39m\u001b[39m'\u001b[39m: \u001b[39mobject\u001b[39m,\n\u001b[1;32m    553\u001b[0m })\n",
      "\u001b[0;31mTypeError\u001b[0m: non-default argument 'country' follows default argument"
     ]
    }
   ],
   "source": [
    "#Inheritance ... complex\n",
    "\n",
    "@dataclass\n",
    "class Position:\n",
    "    name: str\n",
    "    lon: float = 0.0\n",
    "    lat: float = 2.0\n",
    "\n",
    "@dataclass\n",
    "class Capital(Position):\n",
    "    country: str\n",
    "\n",
    "# this is not valid Python. If a parameter has a default value, all following parameters must also have a default value. In other words, if a field in a base class has a default value, then all new fields added in a subclass must have default values as well."
   ]
  },
  {
   "cell_type": "code",
   "execution_count": 51,
   "metadata": {},
   "outputs": [],
   "source": [
    "@dataclass\n",
    "class SimplePosition:\n",
    "    name: str\n",
    "    lon: float\n",
    "    lat: float\n",
    "\n",
    "@dataclass\n",
    "class SlotPosition:\n",
    "    __slots__ = ['name', 'lon', 'lat']\n",
    "    name: str\n",
    "    lon: float\n",
    "    lat: float"
   ]
  },
  {
   "cell_type": "code",
   "execution_count": 52,
   "metadata": {},
   "outputs": [
    {
     "data": {
      "text/plain": [
       "(624, 160)"
      ]
     },
     "execution_count": 52,
     "metadata": {},
     "output_type": "execute_result"
    }
   ],
   "source": [
    "from pympler import asizeof\n",
    "simple = SimplePosition('London', -0.1, 51.5)\n",
    "slot = SlotPosition('Madrid', -3.7, 40.4)\n",
    "asizeof.asizesof(simple, slot)"
   ]
  }
 ],
 "metadata": {
  "kernelspec": {
   "display_name": "Python 3",
   "language": "python",
   "name": "python3"
  },
  "language_info": {
   "codemirror_mode": {
    "name": "ipython",
    "version": 3
   },
   "file_extension": ".py",
   "mimetype": "text/x-python",
   "name": "python",
   "nbconvert_exporter": "python",
   "pygments_lexer": "ipython3",
   "version": "3.11.4"
  },
  "orig_nbformat": 4
 },
 "nbformat": 4,
 "nbformat_minor": 2
}
