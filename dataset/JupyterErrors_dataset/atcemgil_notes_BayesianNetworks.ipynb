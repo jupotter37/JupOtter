{
 "cells": [
  {
   "cell_type": "markdown",
   "metadata": {},
   "source": [
    "# Bayesian Network in a Jupyter Notebook (BJN) \n",
    "\n",
    "Ali Taylan Cemgil, 2018\n",
    "\n",
    "Bogazici University\n",
    "\n",
    "This notebook contains a self contained python implementation of the junction tree algorithm for exact inference in Bayesian networks with discrete probability tables. The aim is pedagogical, to provide a compact implementation so that the algorithms can be run in a notebook. \n"
   ]
  },
  {
   "cell_type": "markdown",
   "metadata": {},
   "source": [
    "# Bayesian Networks\n",
    "A Bayesian Network is a probability model that has the form\n",
    "$\n",
    "\\newcommand{\\pa}[1]{ {\\mathop{pa}({#1})}}\n",
    "$\n",
    "$$\n",
    "p(x_{1:N}) = \\prod_{n=1}^N p(x_n | x_\\pa{n})\n",
    "$$\n",
    "The distribution is said to respect a directed acyclic graph (DAG) $\\mathcal{G} = (V_\\mathcal{G}, E_\\mathcal{G})$ with $N$ nodes, where each random variable $x_n$ is associated with the node $n$ of $\\mathcal{G}$. \n",
    "\n",
    "For each node $n$, the set of (possibly empty) parents nodes is denoted by $\\pa{n}$. \n",
    "\n",
    "We assume that for each node $j$ in $\\pa{n}$, we have a directed edge $j\\rightarrow n$, denoted as the pair $(j,n)$. The edge set of $\\mathcal{G}$ is the union of all such edges\n",
    "$$\n",
    "E_\\mathcal{G} = \\bigcup_{n \\in [N]} \\bigcup_{j \\in \\pa{n}} \\{(j,n)\\}\n",
    "$$\n",
    "\n",
    "To be associated with a proper probability model, the graph $G$ must be acyclic, that is it must be free of any directed cycles."
   ]
  },
  {
   "cell_type": "markdown",
   "metadata": {},
   "source": [
    "\n",
    "In BJN, the elements of a Bayesian Network model are:\n",
    "\n",
    "1. `alphabet`: \n",
    "      The alphabet is a set of strings for each random variable $x_n$ for $n \\in [N]$. For each random variable $x_n$ that we include in our model (an observable or a hidden) we have a corresponding unique identifier in the alphabet. To enforce a user specified ordering, the `alphabet` is represented as a list `index_names` where `index_names[n]` is the string identifier for $x_n$. \n",
    "\n",
    "1. `parents`: \n",
    "    `parents` is a catalog that defines the edges of the directed acyclic graph $\\mathcal{G}$. For each random variable $x_n$, we specify the set of parents $\\pa{n}$, the variables that directly effect $x_n$. Here, each element of the alphabet is a key, and `parents[index_names[n]]` = $\\pa{n}$ is the parent list.\n",
    "\n",
    "1. `states`: `states` is a catalog, where each key is a name from the alphabet and the value is a list of strings that specify a human readable string with each state of the random variable. \n",
    "In a discrete model each random variable $x_n$ has $I_n$ possible states. We derive a list `cardinalities` from states that is ordered according to the order specified by `index_names` where `cardinalities[n]` = $I_n$. The list `cardinalities` and the dictionary `states` must be consistent: `cardinalities[n] = len(states[index_names[n]])`\n",
    "\n",
    "1. `theta`: A catalog or list of conditional probability tables, indexed by $n =0 \\dots N-1$ . Each table `theta[n]` is an array that has $N$ dimensions. The dimensions that are in $\\{n\\} \\cup \\pa{n}$ have a cardinality $I_n$. The remaining dimensions have a cardinality of one, given by `cardinality[n]`.\n"
   ]
  },
  {
   "cell_type": "markdown",
   "metadata": {},
   "source": [
    "## Utility Functions"
   ]
  },
  {
   "cell_type": "code",
   "execution_count": 1,
   "metadata": {
    "collapsed": true
   },
   "outputs": [],
   "source": [
    "\n",
    "import numpy as np\n",
    "import scipy as sc\n",
    "from scipy.special import gammaln\n",
    "from scipy.special import digamma\n",
    "%matplotlib inline\n",
    "\n",
    "from itertools import combinations\n",
    "\n",
    "import pygraphviz as pgv\n",
    "from IPython.display import Image\n",
    "from IPython.display import display\n",
    "\n",
    "def normalize(A, axis=None):\n",
    "    \"\"\"Normalize a probability table along a specified axis\"\"\"\n",
    "    Z = np.sum(A, axis=axis,keepdims=True)\n",
    "    idx = np.where(Z == 0)\n",
    "    Z[idx] = 1\n",
    "    return A/Z\n",
    "\n",
    "def find(cond):\n",
    "    \"\"\"\n",
    "        finds indices where the given condition is satisfied.\n",
    "    \"\"\"\n",
    "    return list(np.where(cond)[0])\n"
   ]
  },
  {
   "cell_type": "markdown",
   "metadata": {},
   "source": [
    "## Random structure and parameter generators"
   ]
  },
  {
   "cell_type": "code",
   "execution_count": 2,
   "metadata": {
    "collapsed": true
   },
   "outputs": [],
   "source": [
    "def random_alphabet(N=20, first_letter='A'):\n",
    "    \"\"\"Generates unique strings to be used as index_names\"\"\"\n",
    "    if N<27:\n",
    "        alphabet = [chr(i+ord(first_letter)) for i in range(N)]\n",
    "    else:\n",
    "        alphabet = ['X'+str(i) for i in range(N)]    \n",
    "    return alphabet\n",
    "\n",
    "def random_parents(alphabet, max_indeg=3):\n",
    "    \"\"\"Random DAG generation\"\"\"\n",
    "    N = len(alphabet)\n",
    "    print(alphabet)\n",
    "    indeg = lambda: np.random.choice(range(1,max_indeg+1))\n",
    "    parents = {a:[b for b in np.random.choice(alphabet[0:(1 if i==0 else i)], replace=False, size=min(indeg(),i))] for i,a in enumerate(alphabet)}\n",
    "    return parents\n",
    "\n",
    "def random_cardinalities(alphabet, cardinality_choices=[2,3,4,5]):\n",
    "    \"\"\"Random cardinalities\"\"\"\n",
    "    return [np.random.choice(cardinality_choices) for a in alphabet]\n",
    "    \n",
    "def states_from_cardinalities(alphabet, cardinalities):\n",
    "    \"\"\"Generate generic labels for each state\"\"\"\n",
    "    return {a:[a+\"_state_\"+str(u) for u in range(cardinalities[i])] for i,a in enumerate(alphabet)}\n",
    "    \n",
    "def cardinalities_from_states(alphabet, states):\n",
    "    \"\"\"Count each cardinality according to the order implied by the alphabet list\"\"\"\n",
    "    return [len(states[a]) for a in alphabet]    \n",
    "    \n",
    "def random_observations(cardinalities, visibles):\n",
    "    \"\"\"\n",
    "    Samples a tensor of the shape of visibles. This function does not sample \n",
    "    from the joint distribution implied by the graph and the probability tables\n",
    "    \"\"\"\n",
    "    return np.random.choice(range(10), size=clique_shape(cardinalities, visibles))\n",
    " \n",
    "def random_dirichlet_cp_table(gamma, cardinalities, n, pa_n):\n",
    "    '''\n",
    "        gamma : Dirichlet shape parameter\n",
    "        cardinalities : List of number of states of each variable\n",
    "        n, pa_n : Output a table of form p(n | pa_n ), n is an index, pa_n is the list of parents of n \n",
    "    '''\n",
    "    N = len(cardinalities)\n",
    "    cl_shape = clique_shape(cardinalities, [n]+pa_n)\n",
    "    U = clique_prior_marginal(cardinalities, cl_shape)\n",
    "    return normalize(np.random.gamma(shape=gamma*U, size=cl_shape), axis=n)\n",
    "\n",
    "def random_cp_tables(index_names, cardinalities, parents, gamma):\n",
    "    \"\"\"\n",
    "    Samples a set of conditional probability tables consistent with the factorization\n",
    "    implied by the graph.\n",
    "    \"\"\"\n",
    "    N = len(index_names)\n",
    "    theta = [[]]*N\n",
    "    for n,a in enumerate(index_names):\n",
    "        theta[n] = random_dirichlet_cp_table(gamma, cardinalities, n, index_names_to_num(index_names, parents[a]))\n",
    "        #print(a, parents[a])\n",
    "        #print(theta[n].shape)\n",
    "        #print('--')\n",
    "    return theta\n",
    "\n",
    "def random_model(N=10, max_indeg=4):\n",
    "    \"\"\"\n",
    "    Generates a random Bayesian Network\n",
    "    \"\"\"\n",
    "    index_names = random_alphabet(N)\n",
    "    parents = random_parents(index_names)\n",
    "    cardinalities = random_cardinalities(index_names)\n",
    "    states = states_from_cardinalities(index_names, cardinalities)\n",
    "    \n",
    "    return index_names, parents, cardinalities, states"
   ]
  },
  {
   "cell_type": "markdown",
   "metadata": {},
   "source": [
    "## Graph Utilities and Visualizations"
   ]
  },
  {
   "cell_type": "code",
   "execution_count": 3,
   "metadata": {
    "collapsed": true
   },
   "outputs": [],
   "source": [
    "  \n",
    "def clique_shape(cardinalities, family):\n",
    "    N = len(cardinalities)\n",
    "    size = [1]*N\n",
    "    for i in family:\n",
    "        size[i] = cardinalities[i] \n",
    "    return size\n",
    "\n",
    "def clique_prior_marginal(cardinalities, shape):\n",
    "    U = 1\n",
    "    for a1,a2 in zip(shape, cardinalities):\n",
    "        U = U*a2/a1\n",
    "    return U\n",
    "    \n",
    "def index_names_to_num(index_names, names):\n",
    "    name2idx = {name: i for i,name in enumerate(index_names)}\n",
    "    return [name2idx[nm] for nm in names] \n",
    "\n",
    "def show_dag_image(index_names, parents, imstr='_BJN_tempfile.png'):\n",
    "    name2idx = {name: i for i,name in enumerate(index_names)}\n",
    "    A = pgv.AGraph(directed=True)\n",
    "    for i_n in index_names:\n",
    "        A.add_node(name2idx[i_n], label=i_n)\n",
    "        for j_n in parents[i_n]:\n",
    "            A.add_edge(name2idx[j_n], name2idx[i_n])\n",
    "    A.layout(prog='dot')\n",
    "    A.draw(imstr)\n",
    "    display(Image(imstr))\n",
    "    return \n",
    "\n",
    "def show_ug_image(UG, imstr='_BJN_tempfile.png'):\n",
    "    A = pgv.AGraph(directed=False)\n",
    "\n",
    "    for i_n in range(UG.shape[0]):\n",
    "        A.add_node(i_n, label=i_n)\n",
    "        for j_n in find(UG[i_n,:]):\n",
    "            if j_n>i_n:\n",
    "                A.add_edge(j_n, i_n)\n",
    "\n",
    "    A.layout(prog='dot')\n",
    "    A.draw(imstr)\n",
    "    display(Image(imstr))\n",
    "    return\n",
    "\n",
    "def make_cp_tables(index_names, cardinalities, cp_tables):\n",
    "    N = len(index_names)\n",
    "    theta = [[]]*N\n",
    "\n",
    "    for c in cp_tables:\n",
    "        if not isinstance(c, tuple):\n",
    "            nums = index_names_to_num(index_names, (c,))\n",
    "        else:\n",
    "            nums = index_names_to_num(index_names, c)\n",
    "        #print(nums)\n",
    "        n = nums[0]\n",
    "        idx = list(reversed(nums))\n",
    "        theta[n] = np.einsum(np.array(cp_tables[c]), idx, sorted(idx)).reshape(clique_shape(cardinalities,idx))\n",
    "    \n",
    "    return theta\n",
    "\n",
    "\n",
    "    \n",
    "def make_adjacency_matrix(index_names, parents):\n",
    "        nVertex = len(index_names)\n",
    "        name2idx = {name: i for i,name in enumerate(index_names)}\n",
    "\n",
    "        ## Build Graph data structures\n",
    "        # Adjacency matrix\n",
    "        adj = np.zeros((nVertex, nVertex), dtype=int)\n",
    "        for i_name in parents.keys():\n",
    "            i = name2idx[i_name]\n",
    "            for m_name in parents[i_name]:\n",
    "                j = name2idx[m_name]\n",
    "                adj[i, j] = 1\n",
    "\n",
    "        return adj\n",
    "\n",
    "def make_families(index_names, parents):\n",
    "    nVertex = len(index_names)\n",
    "    adj = make_adjacency_matrix(index_names, parents)\n",
    "    # Possibly check topological ordering\n",
    "    # toposort(adj)\n",
    "    \n",
    "    # Family, Parents and Children\n",
    "    fa = [[]]*nVertex\n",
    "    #pa = [[]]*nVertex\n",
    "    #ch = [[]]*nVertex\n",
    "    for n in range(nVertex):\n",
    "        p = find(adj[n,:])\n",
    "        #pa[n] = p\n",
    "        fa[n] = [n]+p\n",
    "        #c = find(adj[:,n])\n",
    "        #ch[n] = c\n",
    "    \n",
    "    return fa\n",
    "\n",
    "def permute_table(index_names, cardinalities, visible_names, X):\n",
    "    '''\n",
    "    Given a network with index_names and cardinalities, reshape a table X with \n",
    "    the given order as in visible_names so that it fits the storage convention of BNJNB.\n",
    "    '''\n",
    "    \n",
    "    nums = index_names_to_num(index_names, visible_names)\n",
    "    osize = [cardinalities[n] for n in nums]\n",
    "    idx = list(nums)\n",
    "    shape = clique_shape(cardinalities,idx)\n",
    "    return np.einsum(X, idx, sorted(idx)).reshape(shape)\n",
    "\n",
    "\n",
    "def make_cliques(families, cardinalities, visibles=None, show_graph=False):\n",
    "    '''\n",
    "        Builds the set of cliques of a triangulated graph.\n",
    "    '''\n",
    "    N = len(families)\n",
    "        \n",
    "    if visibles:\n",
    "        C = families+[visibles]\n",
    "    else:\n",
    "        C = families\n",
    "\n",
    "    # Moral Graph\n",
    "    MG = np.zeros((N, N)) \n",
    "\n",
    "    for F in C:\n",
    "        for edge in combinations(F,2):\n",
    "            MG[edge[0], edge[1]] = 1  \n",
    "            MG[edge[1], edge[0]] = 1  \n",
    "\n",
    "#    if show_graph:\n",
    "#        show_ug_image(MG,imstr='MG.png')\n",
    "\n",
    "\n",
    "    elim = []\n",
    "    Clique = []\n",
    "    visited = [False]*N\n",
    "\n",
    "    # Find an elimination sequence\n",
    "    # Based on greedy search \n",
    "    # Criteria, select the minimum induced clique size\n",
    "    for j in range(N):\n",
    "\n",
    "        min_clique_size = np.inf\n",
    "        min_idx = -1\n",
    "        for i in range(N):\n",
    "            if not visited[i]:\n",
    "                neigh = find(MG[i,:])\n",
    "                nm = np.prod(clique_shape(cardinalities, neigh+[i]))\n",
    "\n",
    "                if min_clique_size > nm:\n",
    "                    min_idx = i\n",
    "                    min_clique_size = nm\n",
    "\n",
    "        neigh = find(MG[min_idx,:])\n",
    "        temp = set(neigh+[min_idx])\n",
    "\n",
    "        is_subset = False\n",
    "        for CC in Clique:\n",
    "            if temp.issubset(CC):\n",
    "                is_subset=True\n",
    "        if not is_subset:\n",
    "            Clique.append(temp)\n",
    "\n",
    "        # Remove the node from the moral graph\n",
    "        for edge in combinations(neigh,2):\n",
    "            MG[edge[0], edge[1]] = 1\n",
    "            MG[edge[1], edge[0]] = 1\n",
    "\n",
    "        MG[min_idx,:] = 0\n",
    "        MG[:, min_idx] = 0\n",
    "        elim.append(min_idx)\n",
    "        visited[min_idx] = True\n",
    "#        if show_graph:\n",
    "#            show_ug_image(MG,imstr='MG'+str(j)+'.png')\n",
    "\n",
    "    return Clique, elim   \n",
    "\n",
    "def topological_order(index_names, parents):\n",
    "    \"\"\"\n",
    "    returns a topological ordering of the graph \n",
    "    \"\"\"\n",
    "    adj = make_adjacency_matrix(index_names, parents)\n",
    "    nVertex = len(index_names)\n",
    "    indeg = np.sum(adj, axis = 1)\n",
    "    zero_in = find(indeg==0)\n",
    "    topo_order = []\n",
    "    while zero_in:\n",
    "        n = zero_in.pop(0)\n",
    "        topo_order.append(n)\n",
    "        for j in find(adj[:,n]):\n",
    "            indeg[j] -= 1\n",
    "            if indeg[j] == 0:\n",
    "                zero_in.append(j)\n",
    "                \n",
    "    if len(topo_order)<nVertex:\n",
    "        return []\n",
    "    else:\n",
    "        return topo_order\n",
    "\n",
    "    "
   ]
  },
  {
   "cell_type": "markdown",
   "metadata": {},
   "source": [
    "## Spanning tree and graph traversal"
   ]
  },
  {
   "cell_type": "code",
   "execution_count": 4,
   "metadata": {
    "collapsed": true
   },
   "outputs": [],
   "source": [
    "def mst(E, N):\n",
    "    \"\"\"\n",
    "    Generate a Spanning Tree of a graph with N nodes by Kruskal's algorithm, \n",
    "    given preordered edge set E with each edge as (weight, v1, v2)\n",
    "    \n",
    "    For a minimum spanning tree, use\n",
    "    E.sort()\n",
    "    mst(E, N)\n",
    "    \n",
    "    For a maximum spanning tree, use\n",
    "    E.sort(reverse=True)\n",
    "    mst(E, N)\n",
    "    \"\"\"\n",
    "    \n",
    "    parent = list(range(N))\n",
    "    spanning_tree = {i:[] for i in range(N)}\n",
    "\n",
    "    def find_v(vertex):\n",
    "        v = vertex\n",
    "        while parent[v] != v:\n",
    "            v = parent[v]\n",
    "        return v\n",
    "\n",
    "    def union(v1, v2):\n",
    "        root1 = find_v(v1)\n",
    "        root2 = find_v(v2)\n",
    "        if root1 != root2:\n",
    "            parent[root2] = root1\n",
    "    \n",
    "    for edge in E:\n",
    "        weight, v1, v2 = edge\n",
    "        p1, p2 = find_v(v1), find_v(v2)\n",
    "        if p1 != p2:\n",
    "            union(p1, p2)\n",
    "            spanning_tree[v1].append(v2)\n",
    "            spanning_tree[v2].append(v1)\n",
    "            \n",
    "    return spanning_tree\n",
    "\n",
    "def bfs(adj_list, root):\n",
    "    \"\"\"\n",
    "        Breadth-first search starting from the root\n",
    "        \n",
    "        adj_list : A list of lists where adj_list[n] denotes the set of nodes that can be reached from node n\n",
    "        \n",
    "        Returns a BFS order, and a BFS tree as an array parent[i] \n",
    "        The root node has parent[rootnode] = -1\n",
    "    \"\"\"\n",
    "    N = len(adj_list)\n",
    "    visited = [False]*N\n",
    "    parent = [-1]*N\n",
    "    \n",
    "    queue = [root]\n",
    "    order = []\n",
    "    while queue:\n",
    "        v = queue.pop(0)\n",
    "        if not visited[v]:\n",
    "            visited[v] = True\n",
    "            for w in adj_list[v]:\n",
    "                if not visited[w]:\n",
    "                    parent[w] = v\n",
    "                    queue.append(w) \n",
    "            order.append(v)\n",
    "            \n",
    "\n",
    "    return order, parent"
   ]
  },
  {
   "cell_type": "code",
   "execution_count": 5,
   "metadata": {
    "collapsed": true
   },
   "outputs": [],
   "source": [
    "def is_leaf(i, parent):\n",
    "    return  not (i in parent)\n",
    "\n",
    "def is_root(i, parent):\n",
    "    return parent[i] == -1\n",
    "\n",
    "def make_list_receive_from(parent):\n",
    "    lst = [[] for i in range(len(parent)) ]\n",
    "    for i,p in enumerate(parent):\n",
    "        if p!= -1:\n",
    "            lst[p].append(i)\n",
    "    \n",
    "    return lst"
   ]
  },
  {
   "cell_type": "markdown",
   "metadata": {},
   "source": [
    "## Samplers"
   ]
  },
  {
   "cell_type": "code",
   "execution_count": 6,
   "metadata": {
    "collapsed": true
   },
   "outputs": [],
   "source": [
    "def sample_indices(index_names, parents, cardinalities, theta, num_of_samples=1):\n",
    "    '''\n",
    "    Sample directly the indices given a Bayesian network\n",
    "    '''\n",
    "    N = len(index_names)\n",
    "    order = topological_order(index_names, parents)\n",
    "    X = []\n",
    "\n",
    "    for count in range(num_of_samples):\n",
    "        x = [[]]*N\n",
    "        for n in order:\n",
    "            varname = index_names[n] \n",
    "\n",
    "            idx = index_names_to_num(index_names,parents[varname])\n",
    "\n",
    "            j = [0]*N\n",
    "            for i in idx:\n",
    "                j[i] = x[i]\n",
    "\n",
    "            I_n = cardinalities[n]\n",
    "            j[n] = tuple(range(I_n))\n",
    "            #print(j)\n",
    "            #print(theta[n][j])\n",
    "            x[n] = np.random.choice(I_n, p=theta[n][j].flatten())\n",
    "            #print(x)        \n",
    "        X.append(x)        \n",
    "    return X\n",
    "\n",
    "\n",
    "def sample_states(var_names, states, index_names, parents, theta, num_of_samples=1):\n",
    "    \"\"\"\n",
    "    Returns a dict with keys as state_name tuples and values as counts.\n",
    "    This function generates each sample separately, so if \n",
    "    num_of_samples is large, consider using sample_counts\n",
    "    \n",
    "    \"\"\"\n",
    "    N = len(index_names)\n",
    "    order = topological_order(index_names, parents)\n",
    "    \n",
    "    X = dict()\n",
    "    nums = index_names_to_num(index_names,var_names)\n",
    "    cardinalities = cardinalities_from_states(index_names, states)\n",
    "    \n",
    "    shape = clique_shape(cardinalities, nums)\n",
    "    \n",
    "    for count in range(num_of_samples):\n",
    "        x = [[]]*N\n",
    "        for n in order:\n",
    "            varname = index_names[n] \n",
    "\n",
    "            idx = index_names_to_num(index_names,parents[varname])\n",
    "\n",
    "            j = [0]*N\n",
    "            for i in idx:\n",
    "                j[i] = x[i]\n",
    "\n",
    "            I_n = cardinalities[n]\n",
    "            j[n] = tuple(range(I_n))\n",
    "            #print(j)\n",
    "            #print(theta[n][j])\n",
    "            x[n] = np.random.choice(I_n, p=theta[n][j].flatten())\n",
    "            #print(x)    \n",
    "    \n",
    "        key = tuple((states[index_names[n]][x[n]] for n in nums))\n",
    "        X[key] = X.get(key, 0) + 1\n",
    "    \n",
    "    return X\n",
    "\n",
    "\n",
    "\n",
    "def counts_to_table(var_names, ev_counts, index_names, states):\n",
    "    \"\"\"\n",
    "    Given observed variables names as var_names and\n",
    "    observations as key-value pairs {state_configuration: count} \n",
    "    create a table of counts.\n",
    "    \n",
    "    A state configuration is a tuple (state_name_0, ..., state_name_{K-1})\n",
    "    where K is the lenght of var_names, and state_name_k is a state\n",
    "    from states[var_names[k]]\n",
    "    \"\"\"\n",
    "    var_nums = list(index_names_to_num(index_names, var_names))\n",
    "    cardinalities = cardinalities_from_states(index_names, states)\n",
    "    shape = clique_shape(cardinalities, var_nums)\n",
    "    C = np.zeros(shape=shape)\n",
    "    N = len(index_names)\n",
    "\n",
    "    for rec in ev_counts.keys():\n",
    "        conf = [0]*N\n",
    "        for key, val in zip(var_names, rec):\n",
    "            s = states[key].index(val)\n",
    "            n = index_names_to_num(index_names, [key])[0]\n",
    "\n",
    "            conf[n] = s\n",
    "\n",
    "        #print(conf)\n",
    "        # Final value is the count that the pair is observed\n",
    "        C[tuple(conf)] += ev_counts[rec]\n",
    "        \n",
    "    return C \n",
    "\n",
    "def table_to_counts(T, var_names, index_names, states, clamped=[], threshold = 0):\n",
    "    \"\"\"\n",
    "    Convert a table on index_names clamped on setdiff(index_names, var_names)\n",
    "    to a dict of counts. Keys are state configurations. \n",
    "    \"\"\"\n",
    "    var_nums = list(index_names_to_num(index_names, var_names))\n",
    "    M = len(index_names)\n",
    "    \n",
    "    ev_count = {}\n",
    "    for u in zip(*(T>threshold).nonzero()):\n",
    "        if not clamped:\n",
    "            key = tuple((states[v][u[var_nums[i]]] for i,v in enumerate(var_names)))\n",
    "        else:\n",
    "            key = tuple((states[v][u[var_nums[i]]] if clamped[var_nums[i]] is None else states[v][clamped[var_nums[i]]] for i,v in enumerate(var_names)))\n",
    "        ev_count[key] = T[u]\n",
    "        \n",
    "    return ev_count\n"
   ]
  },
  {
   "cell_type": "markdown",
   "metadata": {},
   "source": [
    "## The inference Engine"
   ]
  },
  {
   "cell_type": "code",
   "execution_count": 7,
   "metadata": {
    "collapsed": true
   },
   "outputs": [],
   "source": [
    "def clamped_pot(X, ev_states):\n",
    "    \"\"\"\n",
    "        Returns a subslice of a table. Used for clamping conditional probability tables \n",
    "        to a given set of evidence. \n",
    "        \n",
    "        X: table\n",
    "        ev_states: list of clamped states ev_states[i]==e (use None if not clamped)\n",
    "    \"\"\"\n",
    "    \n",
    "    #                  var is clamped,              var not clamped\n",
    "    #                  ev_states[i]==e           ev_states[i]==None\n",
    "    # var is member    idx[i] = e                   idx[i] = slice(0, X.shape[i])\n",
    "    # var not member   idx[i] = None                idx[i] = slice(0, X.shape[i])\n",
    "    \n",
    "    card = list(X.shape)\n",
    "    N = len(card)    \n",
    "    idx = [[]]*N\n",
    "\n",
    "    for i,e in enumerate(ev_states):\n",
    "        if e is None and X.shape[i]>1: # the variable is unclamped or it is not a member of the potential\n",
    "            idx[i] = slice(0, X.shape[i])\n",
    "        else:\n",
    "            if X.shape[i]==1:\n",
    "                idx[i] = 0\n",
    "            else:\n",
    "                idx[i] = e\n",
    "                card[i] = 1\n",
    "    return X[tuple(idx)].reshape(card)         "
   ]
  },
  {
   "cell_type": "code",
   "execution_count": 8,
   "metadata": {
    "scrolled": true
   },
   "outputs": [
    {
     "name": "stdout",
     "output_type": "stream",
     "text": [
      "(2, 4, 3, 1, 5)\n",
      "*\n",
      "(1, 4, 3, 1, 1)\n"
     ]
    }
   ],
   "source": [
    "sz = (2,4,3,1,5)\n",
    "T = np.random.choice([1,2,3,4], size=sz)\n",
    "print(T.shape)\n",
    "#print(T[1,:,:,0,0].shape)\n",
    "print('*')\n",
    "print(clamped_pot(T, [1, None, None, 7, 0]).shape)"
   ]
  },
  {
   "cell_type": "code",
   "execution_count": 9,
   "metadata": {
    "collapsed": true
   },
   "outputs": [],
   "source": [
    "def multiply(theta, idx): \n",
    "    \"\"\"Multiply a subset of a given list of potentials\"\"\"\n",
    "    par = [f(n) for n in idx for f in (lambda n: theta[n], lambda n: range(len(theta)))]+[range(len(theta))]    \n",
    "    return np.einsum(*par)\n",
    "\n",
    "def condition_and_multiply(theta, idx, ev_states): \n",
    "    \"\"\"Multiply a subset of a given list of potentials\"\"\"\n",
    "    par = [f(n) for n in idx for f in (lambda n: clamped_pot(theta[n], ev_states), lambda n: range(len(theta)))]+[range(len(theta))]    \n",
    "    return np.einsum(*par)\n",
    "\n",
    "def marginalize(Cp, idx, cardinalities):\n",
    "    return np.einsum(Cp, range(len(cardinalities)), [int(s) for s in sorted(idx)]).reshape(clique_shape(cardinalities,idx))\n",
    "\n",
    "\n",
    "class Engine():\n",
    "    def __init__(self, index_names, parents, states, theta, visible_names=[]):\n",
    "        \n",
    "        self.states = states\n",
    "        cardinalities = [len(states[a]) for a in index_names]\n",
    "        \n",
    "        families = make_families(index_names, parents)        \n",
    "        self.cardinalities = cardinalities\n",
    "        self.index_names = index_names\n",
    "        \n",
    "        visibles = index_names_to_num(index_names, visible_names)\n",
    "        self.Clique, self.elim = make_cliques(families, cardinalities, visibles)\n",
    "\n",
    "        \n",
    "        # Assign each conditional Probability table to one of the Clique potentials\n",
    "        # Clique2Pot is the assignments\n",
    "        self.Pot = families\n",
    "        self.Clique2Pot = np.zeros((len(self.Clique), len(self.Pot)))\n",
    "        selected = [False]*len(self.Pot)\n",
    "        for i,c in enumerate(self.Clique):\n",
    "            for j,p in enumerate(self.Pot):\n",
    "                if not selected[j]:\n",
    "                    self.Clique2Pot[i,j] = set(p).issubset(c)\n",
    "                    if self.Clique2Pot[i,j]: \n",
    "                        selected[j] = True\n",
    "\n",
    "        # Find the root clique\n",
    "        # In our case it will be the one where all the visibles are a subset of\n",
    "        self.RootClique = -1\n",
    "        for i,c in enumerate(self.Clique):\n",
    "            if set(visibles).issubset(c):\n",
    "                self.RootClique = i\n",
    "                break\n",
    "\n",
    "        # Build the junction graph and compute a spanning tree\n",
    "        junction_graph_edges = []\n",
    "        for i,p in enumerate(self.Clique):\n",
    "            for j,q in enumerate(self.Clique):\n",
    "                ln = len(p.intersection(q))\n",
    "                if i<j and ln>0:\n",
    "                    junction_graph_edges.append((ln,i,j)) \n",
    "        junction_graph_edges.sort(reverse=True)\n",
    "        self.mst = mst(junction_graph_edges, len(self.Clique))\n",
    "        self.order, self.parent = bfs(self.mst, self.RootClique)\n",
    "        self.receive_from = make_list_receive_from(self.parent)\n",
    "\n",
    "        self.visibles = visibles\n",
    "        \n",
    "        # Setup the data structures for the Junction tree algorithm\n",
    "        self.SeparatorPot = dict()\n",
    "        self.CliquePot = dict()\n",
    "        self.theta = theta\n",
    "        self.cardinalities_clamped = []\n",
    "    \n",
    "    def propagate_observation(self, observed_configuration={}):\n",
    "        \n",
    "        ev_names = list(observed_configuration.keys())\n",
    "        observed_states = [self.states[nm].index(observed_configuration[nm]) for nm in ev_names]\n",
    "        \n",
    "        nums = index_names_to_num(self.index_names, ev_names)\n",
    "        #cardinalities_clamped = self.cardinalities.copy()\n",
    "        cardinalities_clamped = [1 if i in nums else c for i,c in enumerate(self.cardinalities)]\n",
    "        ev_states = [None]*len(self.cardinalities)\n",
    "        for i,e in zip(nums, observed_states):\n",
    "            ev_states[i] = e\n",
    "        \n",
    "        # Collect stage\n",
    "        for c in reversed(self.order):\n",
    "            self.CliquePot[c] = np.ones(clique_shape(cardinalities_clamped, self.Clique[c]))\n",
    "            for p in self.receive_from[c]:\n",
    "                self.CliquePot[c] *= self.SeparatorPot[(p,c)]\n",
    "\n",
    "            # Prepare Clique Potentials \n",
    "            # Find probability tables that need to be multiplied into \n",
    "            # the Clique potential \n",
    "            idx = find(self.Clique2Pot[c, :])\n",
    "            if idx:\n",
    "                #print(idx)\n",
    "                #print(ev_states)\n",
    "                self.CliquePot[c] *= condition_and_multiply(self.theta, idx, ev_states) \n",
    "\n",
    "            # Set the separator potential\n",
    "            if not is_root(c, self.parent):\n",
    "                idx = self.Clique[self.parent[c]].intersection(self.Clique[c])\n",
    "                self.SeparatorPot[(c,self.parent[c])] = marginalize(self.CliquePot[c], idx, cardinalities_clamped)\n",
    "\n",
    "        # Distribution Stage\n",
    "        for c in self.order[1:]:\n",
    "            idx = self.Clique[self.parent[c]].intersection(self.Clique[c])\n",
    "            self.CliquePot[c] *= marginalize(self.CliquePot[self.parent[c]], idx, cardinalities_clamped)/self.SeparatorPot[(c,self.parent[c])]        \n",
    "        \n",
    "        self.cardinalities_clamped = cardinalities_clamped\n",
    "        self.values_clamped = ev_states\n",
    "        \n",
    "    def propagate_table(self, X=None):\n",
    "        # Reset \n",
    "        self.values_clamped = [None]*len(self.cardinalities)\n",
    "        # Collect stage\n",
    "        for c in reversed(self.order):\n",
    "            self.CliquePot[c] = np.ones(clique_shape(self.cardinalities, self.Clique[c]))\n",
    "            for p in self.receive_from[c]:\n",
    "                self.CliquePot[c] *= self.SeparatorPot[(p,c)]\n",
    "\n",
    "            # Prepare Clique Potentials \n",
    "            # Find probability tables that need to be multiplied into \n",
    "            # the Clique potential \n",
    "            idx = find(self.Clique2Pot[c, :])\n",
    "            if idx:\n",
    "                self.CliquePot[c] *= multiply(self.theta, idx) \n",
    "\n",
    "            # Set the separator potential\n",
    "            if not is_root(c, self.parent):\n",
    "                idx = self.Clique[self.parent[c]].intersection(self.Clique[c])\n",
    "                self.SeparatorPot[(c,self.parent[c])] = marginalize(self.CliquePot[c], idx, self.cardinalities)\n",
    "\n",
    "        if X is not None:    \n",
    "            SepX = marginalize(self.CliquePot[self.RootClique], self.visibles, self.cardinalities)\n",
    "            # Note: Take care of zero divide\n",
    "            self.CliquePot[self.RootClique] *= X/SepX\n",
    "\n",
    "        # Distribution Stage\n",
    "        for c in self.order[1:]:\n",
    "            idx = self.Clique[self.parent[c]].intersection(self.Clique[c])\n",
    "            self.CliquePot[c] *= marginalize(self.CliquePot[self.parent[c]], idx, self.cardinalities)/self.SeparatorPot[(c,self.parent[c])]\n",
    "        \n",
    "#    def propagate(self, ev_names=[],ev_counts=None):\n",
    "#               \n",
    "#        if ev_names:\n",
    "#            X = evidence_to_table(ev_names, ev_counts, self.index_names, self.cardinalities, self.states)\n",
    "#        else:\n",
    "#            X = None\n",
    "\n",
    "    def compute_ESS(self, X=[]):\n",
    "        \"\"\"Compute Expected Sufficient Statistics for each probability table\"\"\"\n",
    "        E_S = dict()\n",
    "        self.propagate_table(X)\n",
    "        for c in self.order:\n",
    "            for n in find(self.Clique2Pot[c, :]):\n",
    "                E_S[n] = marginalize(self.CliquePot[c], self.Pot[n], self.cardinalities)\n",
    "        return E_S\n",
    "    \n",
    "    def compute_marginal(self, var_names, normalization=False):\n",
    "        \"\"\"\n",
    "        Compute a marginal table on variables in var_names \n",
    "        if the variables are the subset of a clique, otherwise returns None.\n",
    "        var_names can be forced to be a subset of a clique by specifying\n",
    "        Engine(..., visible_names=var_names) \n",
    "        \"\"\"\n",
    "\n",
    "        var_indices = index_names_to_num(self.index_names, var_names)\n",
    "        idx = set(var_indices)\n",
    "        j = None\n",
    "        for c in self.order:\n",
    "            if idx.issubset(self.Clique[c]):\n",
    "                j = c\n",
    "                break\n",
    "    \n",
    "        if j is not None:\n",
    "            if self.cardinalities_clamped:\n",
    "                if normalization:\n",
    "                    return normalize(marginalize(self.CliquePot[j], var_indices, self.cardinalities_clamped))               \n",
    "                else:\n",
    "                    return marginalize(self.CliquePot[j], var_indices, self.cardinalities_clamped)                \n",
    "            else:\n",
    "                if normalization:\n",
    "                    return normalize(marginalize(self.CliquePot[j], var_indices, self.cardinalities))                    \n",
    "                else:\n",
    "                    return marginalize(self.CliquePot[j], var_indices, self.cardinalities)\n",
    "        else:\n",
    "            print('Desired marginal is not a subset of any clique')\n",
    "            return None\n",
    "        \n",
    "    def singleton_marginals(self, var_names, normalization=False):\n",
    "        \"\"\" For each variable in var_names compute its marginal \"\"\"\n",
    "        L = {}\n",
    "        var_indices = index_names_to_num(self.index_names, var_names)\n",
    "        for j, v in enumerate(var_names):\n",
    "            marg = self.compute_marginal([v])\n",
    "            if normalization:\n",
    "                marg = normalize(marg)\n",
    "            if self.values_clamped[var_indices[j]] is None:\n",
    "                L[v] = {self.states[v][i]: p for i,p in enumerate(marg.flatten())}\n",
    "            else:\n",
    "                L[v] = {self.states[v][self.values_clamped[var_indices[j]]]: p for i,p in enumerate(marg.flatten())}\n",
    "            \n",
    "        return L\n",
    "        \n",
    "            \n",
    "    def sample_table(self, var_names, num_of_samples=1):\n",
    "        #self.propagate_observation({})\n",
    "        P = self.compute_marginal(var_names)\n",
    "        if P is not None:\n",
    "            return np.random.multinomial(num_of_samples, P.flatten()).reshape(P.shape)\n",
    "        else:\n",
    "            return None\n",
    "        \n",
    "    def marginal_table(self, marg_names, normalization=False):\n",
    "        clamped = self.values_clamped\n",
    "        return table_to_counts(self.compute_marginal(marg_names, normalization), marg_names, self.index_names, self.states, clamped)\n",
    "        "
   ]
  },
  {
   "cell_type": "markdown",
   "metadata": {},
   "source": [
    "# Examples"
   ]
  },
  {
   "cell_type": "markdown",
   "metadata": {},
   "source": [
    "## Example: Oranges, Apples and Bananas\n",
    "\n",
    "Alice has two boxes, Box1 and Box2. In Box1, there are $10$ oranges, $4$ apples and $1$ banana, in Box2 there are $2$ oranges, $6$ apples and $2$ bananas. Alice chooses one of the boxes randomly, with equal probability and\n",
    "selects one of the fruits randomly, with equal probability. \n",
    "\n",
    "1. What is the probability of choosing a Banana?\n",
    "1. Given a banana is chosen, what is the probability that Alice chose Box1?"
   ]
  },
  {
   "cell_type": "markdown",
   "metadata": {},
   "source": [
    "### Definition of the Model Structure"
   ]
  },
  {
   "cell_type": "code",
   "execution_count": 10,
   "metadata": {
    "scrolled": false
   },
   "outputs": [
    {
     "data": {
      "image/png": "[encoded data removed]",
      "text/plain": [
       "<IPython.core.display.Image object>"
      ]
     },
     "metadata": {},
     "output_type": "display_data"
    }
   ],
   "source": [
    "## Define the model\n",
    "index_names = ['Box', 'Fruit']\n",
    "parents = {'Box': [], 'Fruit': ['Box']}\n",
    "\n",
    "show_dag_image(index_names, parents)\n"
   ]
  },
  {
   "cell_type": "markdown",
   "metadata": {},
   "source": [
    "### Definition of Model Parameters"
   ]
  },
  {
   "cell_type": "code",
   "execution_count": 25,
   "metadata": {
    "collapsed": true
   },
   "outputs": [],
   "source": [
    "states = {'Box': ['Box1', 'Box2'], \n",
    "          'Fruit': ['Apple', 'Orange', 'Banana']}\n",
    "\n",
    "cardinalities = cardinalities_from_states(index_names, states)\n",
    "\n",
    "# Conditional Probability Tables\n",
    "cp_tables = {('Box'): [0.5, 0.5],\n",
    "             ('Fruit', 'Box'): [[10./15, 4./15, 1./15],[2./10, 6./10, 2./10]]\n",
    "            }\n",
    "\n",
    "# Initialize the correct index order for strided access by computing the necessary permutations\n",
    "theta = make_cp_tables(index_names, cardinalities, cp_tables)"
   ]
  },
  {
   "cell_type": "markdown",
   "metadata": {},
   "source": [
    "### Creation of the Inference Engine"
   ]
  },
  {
   "cell_type": "code",
   "execution_count": 13,
   "metadata": {
    "collapsed": true
   },
   "outputs": [],
   "source": [
    "eng = Engine(index_names, parents, states, theta)"
   ]
  },
  {
   "cell_type": "markdown",
   "metadata": {},
   "source": [
    "### Formulation of the Query\n",
    "\n",
    "__Example Query__: What is the probability of choosing a Banana?\n",
    "\n",
    "We need to compute the marginal $p(\\text{Fruit}) = \\sum_{\\text{Box}} p(\\text{Fruit}|\\text{Box}) p(\\text{Box})$"
   ]
  },
  {
   "cell_type": "code",
   "execution_count": 14,
   "metadata": {
    "scrolled": true
   },
   "outputs": [
    {
     "name": "stdout",
     "output_type": "stream",
     "text": [
      "[[ 0.43333333  0.43333333  0.13333333]]\n",
      "[[ 0.43333333  0.43333333  0.13333333]]\n"
     ]
    }
   ],
   "source": [
    "# Using the BJN\n",
    "eng.propagate_observation()\n",
    "#eng.propagate_table()\n",
    "print(eng.compute_marginal(['Fruit']))\n",
    "\n",
    "# Independent verification \n",
    "print(marginalize(multiply(theta, [0,1]), [1], cardinalities))\n"
   ]
  },
  {
   "cell_type": "markdown",
   "metadata": {},
   "source": [
    "__Example Query__: Given a banana is chosen, what is the probability that Alice took it from Box1?\n",
    "\n",
    "We need to compute the posterior $$p(\\text{Box}| \\text{Fruit} = \\text{`banana`}) = \\frac{ p(\\text{Fruit} = \\text{`banana`}|\\text{Box}) p(\\text{Box})}{p(\\text{Fruit} = \\text{`banana`})}$$\n",
    "\n",
    "BJN implements two methods for calculating the answer for this query.\n",
    "\n",
    "1. `propagate_observation`\n",
    "1. `propagate_table`\n",
    "\n",
    "In the first method, `propagate_observation`, a single observation is represented by a catalog with key-value pairs where keys are observed variable names and values are observed states. This is the standard method for inference in Bayesian networks."
   ]
  },
  {
   "cell_type": "code",
   "execution_count": 15,
   "metadata": {
    "scrolled": true
   },
   "outputs": [
    {
     "name": "stdout",
     "output_type": "stream",
     "text": [
      "[[ 0.25]\n",
      " [ 0.75]]\n",
      "[ 0.25  0.75]\n"
     ]
    }
   ],
   "source": [
    "#obs = {'Fruit': 'Orange', 'Box': 'Box1'}\n",
    "#obs = {'Fruit': 'Orange'}\n",
    "obs = {'Fruit':'Banana'}\n",
    "eng = Engine(index_names, parents, states, theta)\n",
    "eng.propagate_observation(obs)\n",
    "\n",
    "marg_names = ['Box']\n",
    "print(normalize(eng.compute_marginal(marg_names)))\n",
    "\n",
    "# Independent verification \n",
    "#print(normalize(multiply(theta, [0,1])[:,1]))\n",
    "print(normalize(multiply(theta, [0,1])[:,2]))\n"
   ]
  },
  {
   "cell_type": "markdown",
   "metadata": {},
   "source": [
    "In the second method, `propagate_table`, we assume that we have obtained a collection \n",
    "of observations and we are given the counts of each possible configuration. "
   ]
  },
  {
   "cell_type": "code",
   "execution_count": 52,
   "metadata": {
    "scrolled": true
   },
   "outputs": [
    {
     "name": "stdout",
     "output_type": "stream",
     "text": [
      "[[ 0.25]\n",
      " [ 0.75]]\n",
      "[ 0.25  0.75]\n"
     ]
    }
   ],
   "source": [
    "ev_names = ['Fruit']\n",
    "ev_counts = {('Banana',): 1}\n",
    "\n",
    "ev_table = counts_to_table(ev_names, ev_counts, index_names, states)\n",
    "eng = Engine(index_names, parents, states, theta, visible_names=ev_names)\n",
    "eng.propagate_table(ev_table)\n",
    "\n",
    "marg_names = ['Box']\n",
    "#idx = index_names_to_num(index_names, ['Box'])\n",
    "print(normalize(eng.compute_marginal(marg_names)))\n",
    "\n",
    "# Independent verification \n",
    "print(normalize(multiply(theta, [0,1])[:,2]))\n"
   ]
  },
  {
   "cell_type": "markdown",
   "metadata": {},
   "source": [
    "The advantage of using `propagate_table` is that if several observations are given on\n",
    "the same variables, as is often the case in applications, the expected sufficient statistics can be computed in one collect-distribute iteration instead of a separate one for each observation."
   ]
  },
  {
   "cell_type": "code",
   "execution_count": 28,
   "metadata": {},
   "outputs": [
    {
     "name": "stdout",
     "output_type": "stream",
     "text": [
      "[[ 0.30232558]\n",
      " [ 0.69767442]]\n"
     ]
    }
   ],
   "source": [
    "ev_names = ['Fruit']\n",
    "ev_counts = {('Orange',):3, ('Banana',):1}\n",
    "#ev_counts = {('Orange',):2, ('Banana',):5, ('Apple',):12}\n",
    "#ev_counts = {('Orange',):1}\n",
    "C = counts_to_table(ev_names, ev_counts, index_names, states)\n",
    "\n",
    "eng.propagate_table(C)\n",
    "\n",
    "marg_names = ['Box']\n",
    "#idx = index_names_to_num(index_names, ['Box'])\n",
    "print(normalize(eng.compute_marginal(marg_names)))\n"
   ]
  },
  {
   "cell_type": "code",
   "execution_count": 17,
   "metadata": {},
   "outputs": [
    {
     "data": {
      "text/plain": [
       "{('Box1',): 0.29999999999999999, ('Box2',): 0.69999999999999996}"
      ]
     },
     "execution_count": 17,
     "metadata": {},
     "output_type": "execute_result"
    }
   ],
   "source": [
    "eng.marginal_table(marg_names)"
   ]
  },
  {
   "cell_type": "code",
   "execution_count": 29,
   "metadata": {
    "scrolled": true
   },
   "outputs": [
    {
     "name": "stdout",
     "output_type": "stream",
     "text": [
      "[[ 0.63157895  0.          0.        ]\n",
      " [ 0.          0.10526316  0.26315789]]\n"
     ]
    }
   ],
   "source": [
    "ev_names = ['Fruit','Box']\n",
    "ev_counts = {('Apple','Box1'):12, ('Orange','Box2'):2, ('Banana','Box2'):5}\n",
    "\n",
    "eng = Engine(index_names, parents, states, theta, visible_names=ev_names)\n",
    "C = counts_to_table(ev_names, ev_counts, index_names, states)\n",
    "eng.propagate_table(C)\n",
    "\n",
    "marg_names = ['Fruit', 'Box']\n",
    "#idx = index_names_to_num(index_names, ['Box'])\n",
    "print(normalize(eng.compute_marginal(marg_names)))\n"
   ]
  },
  {
   "cell_type": "code",
   "execution_count": 30,
   "metadata": {
    "scrolled": true
   },
   "outputs": [
    {
     "name": "stdout",
     "output_type": "stream",
     "text": [
      "{('Orange', 'Box2'): 329, ('Orange', 'Box1'): 120, ('Apple', 'Box1'): 329, ('Banana', 'Box1'): 33, ('Apple', 'Box2'): 88, ('Banana', 'Box2'): 101}\n",
      "[[ 329.  120.   33.]\n",
      " [  88.  329.  101.]]\n"
     ]
    }
   ],
   "source": [
    "   \n",
    "var_names = ['Fruit', 'Box']\n",
    "ev_counts = sample_states(var_names, states, index_names, parents, theta, num_of_samples=1000)\n",
    "C = counts_to_table(var_names, ev_counts, index_names, states)\n",
    "#eng = Engine(index_names, visible_names, parents, cardinalities, theta)\n",
    "\n",
    "#C = evidence_to_counts(X, index_names)\n",
    "print(ev_counts)\n",
    "print(C)"
   ]
  },
  {
   "cell_type": "markdown",
   "metadata": {},
   "source": [
    "## Example: Two dice\n",
    "\n",
    "Two fair die are thrown. Their sum comes up $9$. What is the face value of the first dice?"
   ]
  },
  {
   "cell_type": "code",
   "execution_count": 31,
   "metadata": {
    "scrolled": true
   },
   "outputs": [
    {
     "data": {
      "image/png": "[encoded data removed]",
      "text/plain": [
       "<IPython.core.display.Image object>"
      ]
     },
     "metadata": {},
     "output_type": "display_data"
    }
   ],
   "source": [
    "from itertools import product \n",
    "%matplotlib inline\n",
    "import matplotlib as mpl\n",
    "import matplotlib.pyplot as plt\n",
    "\n",
    "## Define the model\n",
    "index_names = ['Die1', 'Die2', 'Sum']\n",
    "\n",
    "parents = {'Die1': [], 'Die2': [], 'Sum': ['Die1', 'Die2']}\n",
    "\n",
    "states = {'Die1': list(range(1,7)), 'Die2': list(range(1,7)), 'Sum': list(range(2,13))}\n",
    "cardinalities = cardinalities_from_states(index_names, states)\n",
    "\n",
    "show_dag_image(index_names, parents)\n",
    "\n",
    "S = np.zeros(cardinalities)\n",
    "\n",
    "for i,j in product(range(1,7),repeat=2):\n",
    "    S[i-1,j-1,i+j-2] = 1\n",
    "\n",
    "cp_tables = {('Die1',): [1/6, 1/6,1/6,1/6,1/6,1/6],\n",
    "             ('Die2',): [1/6, 1/6,1/6,1/6,1/6,1/6],\n",
    "             ('Sum','Die1','Die2'): S\n",
    "    }\n",
    "\n",
    "theta = make_cp_tables(index_names, cardinalities, cp_tables )\n",
    "eng = Engine(index_names, parents, states, theta)"
   ]
  },
  {
   "cell_type": "code",
   "execution_count": 32,
   "metadata": {},
   "outputs": [
    {
     "data": {
      "text/plain": [
       "array([[[ 0. ],\n",
       "        [ 0. ],\n",
       "        [ 0. ],\n",
       "        [ 0. ],\n",
       "        [ 0. ],\n",
       "        [ 0. ]],\n",
       "\n",
       "       [[ 0. ],\n",
       "        [ 0. ],\n",
       "        [ 0. ],\n",
       "        [ 0. ],\n",
       "        [ 0. ],\n",
       "        [ 0.2]],\n",
       "\n",
       "       [[ 0. ],\n",
       "        [ 0. ],\n",
       "        [ 0. ],\n",
       "        [ 0. ],\n",
       "        [ 0.2],\n",
       "        [ 0. ]],\n",
       "\n",
       "       [[ 0. ],\n",
       "        [ 0. ],\n",
       "        [ 0. ],\n",
       "        [ 0.2],\n",
       "        [ 0. ],\n",
       "        [ 0. ]],\n",
       "\n",
       "       [[ 0. ],\n",
       "        [ 0. ],\n",
       "        [ 0.2],\n",
       "        [ 0. ],\n",
       "        [ 0. ],\n",
       "        [ 0. ]],\n",
       "\n",
       "       [[ 0. ],\n",
       "        [ 0.2],\n",
       "        [ 0. ],\n",
       "        [ 0. ],\n",
       "        [ 0. ],\n",
       "        [ 0. ]]])"
      ]
     },
     "execution_count": 32,
     "metadata": {},
     "output_type": "execute_result"
    }
   ],
   "source": [
    "eng.propagate_observation({'Sum':8})\n",
    "marg = eng.compute_marginal(['Die1', 'Die2'], normalization=True)\n",
    "marg"
   ]
  },
  {
   "cell_type": "code",
   "execution_count": 33,
   "metadata": {
    "scrolled": true
   },
   "outputs": [
    {
     "data": {
      "image/png": "[encoded data removed]",
      "text/plain": [
       "<matplotlib.figure.Figure at 0x150ad316a0>"
      ]
     },
     "metadata": {},
     "output_type": "display_data"
    }
   ],
   "source": [
    "vname = 'Die2'\n",
    "eng.propagate_observation({'Sum':9})\n",
    "marg = eng.singleton_marginals([vname], states)\n",
    "a = [x for x in marg[vname].keys()]\n",
    "b = [marg[vname][x] for x in marg[vname].keys()]\n",
    "\n",
    "plt.title(vname)\n",
    "plt.bar(a, normalize(b))\n",
    "plt.ylim([0, 1])\n",
    "plt.show()\n"
   ]
  },
  {
   "cell_type": "code",
   "execution_count": 34,
   "metadata": {
    "scrolled": true
   },
   "outputs": [
    {
     "name": "stdout",
     "output_type": "stream",
     "text": [
      "[[[ 0.5       ]]\n",
      "\n",
      " [[ 0.33333333]]\n",
      "\n",
      " [[ 0.16666667]]\n",
      "\n",
      " [[ 0.        ]]\n",
      "\n",
      " [[ 0.        ]]\n",
      "\n",
      " [[ 0.        ]]]\n"
     ]
    }
   ],
   "source": [
    "\n",
    "ev_names = ['Sum']\n",
    "ev_counts = {(2,):1, (3,):1, (4,):1}\n",
    "C = counts_to_table(ev_names, ev_counts, index_names, states)\n",
    "eng.propagate_table(C)\n",
    "\n",
    "\n",
    "marg_names = ['Die1']\n",
    "#idx = index_names_to_num(index_names, ['Box'])\n",
    "print(normalize(eng.compute_marginal(marg_names)))\n",
    "\n"
   ]
  },
  {
   "cell_type": "code",
   "execution_count": 35,
   "metadata": {
    "scrolled": false
   },
   "outputs": [
    {
     "data": {
      "text/plain": [
       "{(3, 6): 0.027777777777777776,\n",
       " (4, 5): 0.027777777777777776,\n",
       " (5, 4): 0.027777777777777776,\n",
       " (6, 3): 0.027777777777777776}"
      ]
     },
     "execution_count": 35,
     "metadata": {},
     "output_type": "execute_result"
    }
   ],
   "source": [
    "#marg_names = ['Sum','Die2', 'Die1']\n",
    "marg_names = ['Die2', 'Die1']\n",
    "eng.propagate_observation({'Sum':9})\n",
    "clamped = eng.values_clamped\n",
    "table_to_counts(eng.compute_marginal(marg_names), marg_names, index_names, states, clamped)"
   ]
  },
  {
   "cell_type": "code",
   "execution_count": 139,
   "metadata": {
    "scrolled": true
   },
   "outputs": [
    {
     "data": {
      "text/plain": [
       "array([[[ 0.        ],\n",
       "        [ 0.        ],\n",
       "        [ 0.        ],\n",
       "        [ 0.        ],\n",
       "        [ 0.        ],\n",
       "        [ 0.        ]],\n",
       "\n",
       "       [[ 0.        ],\n",
       "        [ 0.        ],\n",
       "        [ 0.        ],\n",
       "        [ 0.        ],\n",
       "        [ 0.        ],\n",
       "        [ 0.        ]],\n",
       "\n",
       "       [[ 0.        ],\n",
       "        [ 0.        ],\n",
       "        [ 0.        ],\n",
       "        [ 0.        ],\n",
       "        [ 0.        ],\n",
       "        [ 0.02777778]],\n",
       "\n",
       "       [[ 0.        ],\n",
       "        [ 0.        ],\n",
       "        [ 0.        ],\n",
       "        [ 0.        ],\n",
       "        [ 0.02777778],\n",
       "        [ 0.        ]],\n",
       "\n",
       "       [[ 0.        ],\n",
       "        [ 0.        ],\n",
       "        [ 0.        ],\n",
       "        [ 0.02777778],\n",
       "        [ 0.        ],\n",
       "        [ 0.        ]],\n",
       "\n",
       "       [[ 0.        ],\n",
       "        [ 0.        ],\n",
       "        [ 0.02777778],\n",
       "        [ 0.        ],\n",
       "        [ 0.        ],\n",
       "        [ 0.        ]]])"
      ]
     },
     "execution_count": 139,
     "metadata": {},
     "output_type": "execute_result"
    }
   ],
   "source": [
    "eng.compute_marginal(marg_names)"
   ]
  },
  {
   "cell_type": "code",
   "execution_count": 74,
   "metadata": {},
   "outputs": [
    {
     "data": {
      "text/plain": [
       "{(11, 5, 6): 0.5, (11, 6, 5): 0.5}"
      ]
     },
     "execution_count": 74,
     "metadata": {},
     "output_type": "execute_result"
    }
   ],
   "source": [
    "marg_names = ['Sum','Die2', 'Die1']\n",
    "eng.propagate_observation({'Sum': 11})\n",
    "eng.marginal_table(marg_names, normalization=True)"
   ]
  },
  {
   "cell_type": "code",
   "execution_count": 29,
   "metadata": {},
   "outputs": [
    {
     "data": {
      "text/plain": [
       "{'Die1': {1: 0.0, 2: 0.0, 3: 0.25, 4: 0.25, 5: 0.25, 6: 0.25},\n",
       " 'Die2': {1: 0.0, 2: 0.0, 3: 0.25, 4: 0.25, 5: 0.25, 6: 0.25},\n",
       " 'Sum': {9: 1.0}}"
      ]
     },
     "execution_count": 29,
     "metadata": {},
     "output_type": "execute_result"
    }
   ],
   "source": [
    "marg_names = ['Sum','Die2', 'Die1']\n",
    "T = eng.singleton_marginals(marg_names, normalization=True)\n",
    "T"
   ]
  },
  {
   "cell_type": "markdown",
   "metadata": {},
   "source": [
    "## Example: A Simple chain"
   ]
  },
  {
   "cell_type": "code",
   "execution_count": 32,
   "metadata": {},
   "outputs": [
    {
     "data": {
      "image/png": "[encoded data removed]",
      "text/plain": [
       "<IPython.core.display.Image object>"
      ]
     },
     "metadata": {},
     "output_type": "display_data"
    }
   ],
   "source": [
    "## Define the model\n",
    "index_names = ['i', 'j', 'k']\n",
    "cardinalities = [10, 20, 3]\n",
    "parents = {'i': [], 'j': ['k'], 'k': ['i']}\n",
    "\n",
    "show_dag_image(index_names, parents)\n",
    "\n",
    "#parents = {'k': [], 'i': ['k'], 'j': ['k']}\n",
    "visible_names = ['i','j']\n",
    "visibles = index_names_to_num(index_names, visible_names)\n",
    "\n"
   ]
  },
  {
   "cell_type": "markdown",
   "metadata": {},
   "source": [
    "## Example: Chest Clinic\n",
    "\n",
    "The `chest clinic` model (originally known also as `Asia`) is a famous toy medical expert system example from the classical 1988 paper of Lauritzen and Spiegelhalter.\n",
    "https://www.jstor.org/stable/pdf/2345762.pdf\n",
    "\n",
    " Shortness-of-breath (dyspnoea) may be due to tuberculosis, lung cancer or\n",
    " bronchitis, or none of them, or more than one of them. A recent visit to Asia\n",
    " increases the chances of tuberculosis, while smoking is known to be a risk factor\n",
    " for both lung cancer and bronchitis. The results of a single chest X-ray do not\n",
    " discriminate between lung cancer and tuberculosis, as neither does the presence\n",
    " or absence of dyspnoea.\n",
    "\n",
    "Also see: http://www.bnlearn.com/documentation/man/asia.html\n",
    "\n",
    "\n",
    "In this toy domain, a patient can have three diseases:\n",
    "\n",
    "* T: Tuberculosis\n",
    "* L: Lung Cancer\n",
    "* B: Bronchitis \n",
    "\n",
    "We also have the following possible a-priori effects on contracting a disease:\n",
    "\n",
    "* A: There is a Tuberculosis epidemic in Asia, so a visit may have an effect on Tuberculosis\n",
    "* S: Smoking history is known to have an effect both on Lung cancer and Bronchitis\n",
    "\n",
    "Logical variables may be present, for example \n",
    "* E: Either T or L or both\n",
    "\n",
    "Symptoms or medical test results\n",
    "\n",
    "* D: The patient can show Dyspnea: Difficult breathing; shortness of breath, depending on T,L or B \n",
    "* X: X Ray gives a positive response if either Lung Cancer or Tuberclosis, or both. B does not have a direct efect on the outcome of the X-Ray\n"
   ]
  },
  {
   "cell_type": "code",
   "execution_count": 11,
   "metadata": {
    "scrolled": false
   },
   "outputs": [
    {
     "data": {
      "image/png": "[encoded data removed]",
      "text/plain": [
       "<IPython.core.display.Image object>"
      ]
     },
     "metadata": {},
     "output_type": "display_data"
    }
   ],
   "source": [
    "# [A][S][T|A][L|S][B|S][E|T:L][X|E][D|B:E]\n",
    "\n",
    "index_names = ['A', 'S', 'T', 'L', 'B', 'E', 'X', 'D']\n",
    "parents = {'A':[], 'S':[], 'T':['A'], 'L':['S'], 'B':['S'], 'E':['T','L'], 'X':['E'], 'D':['B','E']}\n",
    "\n",
    "## A Method for systematically entering the conditional probability tables\n",
    "\n",
    "# P(A = Yes) = 0.01\n",
    "# P(S = Yes) = 0.5\n",
    "# P(T=Positive | A=Yes) = 0.05\n",
    "# P(T=Positive | A=No) = 0.01\n",
    "# P(L=Positive | S=Yes) = 0.1\n",
    "# P(L=Positive | S=No) = 0.01\n",
    "# P(B=Positive | S=Yes) = 0.6\n",
    "# P(B=Positive | S=No) = 0.3\n",
    "# P(E=True | L=Positive, T=Positive) = 1\n",
    "# P(E=True | L=Positive, T=Negative) = 1\n",
    "# P(E=True | L=Negative, T=Positive) = 1\n",
    "# P(E=True | L=Negative, T=Negative) = 0\n",
    "# P(X=Positive | E=True) = 0.98\n",
    "# P(X=Positive | E=False) = 0.05\n",
    "# P(D=Positive | E=True, B=Positive) = 0.9\n",
    "# P(D=Positive | E=True, B=Negative) = 0.7\n",
    "# P(D=Positive | E=False, B=Positive) = 0.8\n",
    "# P(D=Positive | E=False, B=Negative) = 0.1\n",
    "\n",
    "states = {'A':['No', 'Yes'], \n",
    "          'S':['No', 'Yes'], \n",
    "          'T':['Negative','Positive'], \n",
    "          'L':['Negative','Positive'], \n",
    "          'B':['Negative','Positive'], \n",
    "          'E':['False', 'True'], \n",
    "          'X':['Negative','Positive'],\n",
    "          'D':['Negative','Positive']}\n",
    "\n",
    "cardinalities = cardinalities_from_states(index_names, states) \n",
    "\n",
    "# Conditional Probability Tables\n",
    "cp_tables = {('A',): [0.99, 0.01],\n",
    "             ('S',): [0.5, 0.5],\n",
    "             ('T','A'): [[0.99, 0.01],[0.95,0.05]],\n",
    "             ('L','S'): [[0.99, 0.01],[0.9,0.1]],\n",
    "             ('B','S'): [[0.7,0.3],[0.4, 0.6]],\n",
    "             ('E','T','L'): [[[1.,0.],[0.,1.]] , [[0.,1.],[0.,1.]]],\n",
    "             ('X','E'): [[0.95, 0.05], [0.02, 0.98]],\n",
    "             ('D','B','E'):[[[0.9,0.1],[0.2,0.8]],[[0.3,0.7],[0.1,0.9]]]\n",
    "            }\n",
    "\n",
    "# Todo: write a converter from a standard bn format\n",
    "\n",
    "theta = make_cp_tables(index_names, cardinalities, cp_tables)\n",
    "show_dag_image(index_names, parents)\n",
    "\n",
    "eng = Engine(index_names, parents, states, theta)"
   ]
  },
  {
   "cell_type": "code",
   "execution_count": 12,
   "metadata": {
    "scrolled": false
   },
   "outputs": [
    {
     "data": {
      "text/plain": [
       "{('Negative',): 0.051340447999999997, ('Positive',): 0.0041787200000000012}"
      ]
     },
     "execution_count": 12,
     "metadata": {},
     "output_type": "execute_result"
    }
   ],
   "source": [
    "eng.propagate_observation({'X': 'Positive', 'D':'Positive', 'S':'Yes'})\n",
    "#normalize(eng.compute_marginal(['T']))\n",
    "eng.marginal_table(['T'])"
   ]
  },
  {
   "cell_type": "code",
   "execution_count": 13,
   "metadata": {},
   "outputs": [
    {
     "data": {
      "text/plain": [
       "{('Negative',): 0.051340447999999997, ('Positive',): 0.0041787200000000012}"
      ]
     },
     "execution_count": 13,
     "metadata": {},
     "output_type": "execute_result"
    }
   ],
   "source": [
    "eng.marginal_table(['T'])"
   ]
  },
  {
   "cell_type": "code",
   "execution_count": 39,
   "metadata": {},
   "outputs": [
    {
     "data": {
      "text/plain": [
       "{('No', 'Negative'): 0.015687342,\n",
       " ('No', 'Positive'): 0.039138065999999999,\n",
       " ('Yes', 'Negative'): 0.00020749000000000001,\n",
       " ('Yes', 'Positive'): 0.00048627000000000002}"
      ]
     },
     "execution_count": 39,
     "metadata": {},
     "output_type": "execute_result"
    }
   ],
   "source": [
    "vis_names = ['A','B']\n",
    "eng = Engine(index_names, parents, states, theta, visible_names=vis_names)\n",
    "eng.propagate_observation({'X': 'Positive', 'D':'Positive', 'S':'Yes'})\n",
    "eng.marginal_table(vis_names)"
   ]
  },
  {
   "cell_type": "code",
   "execution_count": 40,
   "metadata": {},
   "outputs": [
    {
     "data": {
      "text/plain": [
       "array([[[[[[[[ 0.05482541]]]]]]],\n",
       "\n",
       "\n",
       "\n",
       "\n",
       "\n",
       "\n",
       "       [[[[[[[ 0.00069376]]]]]]]])"
      ]
     },
     "execution_count": 40,
     "metadata": {},
     "output_type": "execute_result"
    }
   ],
   "source": [
    "marg = eng.compute_marginal(['A'])\n",
    "marg"
   ]
  },
  {
   "cell_type": "code",
   "execution_count": 41,
   "metadata": {},
   "outputs": [
    {
     "data": {
      "text/plain": [
       "{('No',): 0.054825408000000006, ('Yes',): 0.00069376000000000008}"
      ]
     },
     "execution_count": 41,
     "metadata": {},
     "output_type": "execute_result"
    }
   ],
   "source": [
    "eng.marginal_table(['A'])"
   ]
  },
  {
   "cell_type": "code",
   "execution_count": 27,
   "metadata": {
    "scrolled": false
   },
   "outputs": [
    {
     "data": {
      "text/plain": [
       "{'A': {'Yes': 1.0},\n",
       " 'B': {'Negative': 0.29908037361623618, 'Positive': 0.70091962638376382},\n",
       " 'L': {'Negative': 0.42083717712177127, 'Positive': 0.57916282287822873},\n",
       " 'T': {'Negative': 0.71041858856088558, 'Positive': 0.28958141143911442}}"
      ]
     },
     "execution_count": 27,
     "metadata": {},
     "output_type": "execute_result"
    }
   ],
   "source": [
    "#eng.propagate_observation({'X': 'Positive', 'D':'Positive', 'S':'Yes'})\n",
    "#eng.propagate_observation({'A':'Yes','S':'Yes','X':'Positive','D':'Positive'})\n",
    "#eng.propagate_observation({'A':'Yes','S':'Yes'})\n",
    "eng.propagate_observation({'X': 'Positive', 'A':'Yes', 'D':'Positive','S':'Yes'})\n",
    "#eng.propagate_observation({'S':'Yes'})\n",
    "#eng.propagate_observation({})\n",
    "eng.singleton_marginals(['A','T','L','B'], normalization=True)"
   ]
  },
  {
   "cell_type": "code",
   "execution_count": 114,
   "metadata": {},
   "outputs": [
    {
     "data": {
      "text/plain": [
       "array([[[[[[[[ 0.16021391]]]],\n",
       "\n",
       "\n",
       "\n",
       "          [[[[ 0.55020468]]]]],\n",
       "\n",
       "\n",
       "\n",
       "\n",
       "         [[[[[ 0.26062327]]]],\n",
       "\n",
       "\n",
       "\n",
       "          [[[[ 0.02895814]]]]]]]])"
      ]
     },
     "execution_count": 114,
     "metadata": {},
     "output_type": "execute_result"
    }
   ],
   "source": [
    "normalize(eng.compute_marginal(['T','L']))"
   ]
  },
  {
   "cell_type": "code",
   "execution_count": 43,
   "metadata": {
    "scrolled": true
   },
   "outputs": [
    {
     "data": {
      "text/plain": [
       "[2, 3]"
      ]
     },
     "execution_count": 43,
     "metadata": {},
     "output_type": "execute_result"
    }
   ],
   "source": [
    "eng.propagate_observation({'X':'Positive'})\n",
    "var_names = ['T','L']\n",
    "X = eng.sample_table(var_names, num_of_samples=10000)\n",
    "table_to_counts(X, index_names, index_names, states, clamped=eng.values_clamped)\n",
    "\n",
    "visibles = index_names_to_num(index_names, var_names)\n",
    "visibles"
   ]
  },
  {
   "cell_type": "code",
   "execution_count": 44,
   "metadata": {},
   "outputs": [
    {
     "data": {
      "text/plain": [
       "(1, 1, 2, 2, 1, 1, 1, 1)"
      ]
     },
     "execution_count": 44,
     "metadata": {},
     "output_type": "execute_result"
    }
   ],
   "source": [
    "X.shape"
   ]
  },
  {
   "cell_type": "code",
   "execution_count": 45,
   "metadata": {
    "collapsed": true
   },
   "outputs": [],
   "source": [
    "P = multiply(eng.theta, range(len(cardinalities)))\n",
    "P /= marginalize(P, visibles, cardinalities)\n",
    "E_S = X*P"
   ]
  },
  {
   "cell_type": "code",
   "execution_count": 46,
   "metadata": {
    "scrolled": true
   },
   "outputs": [
    {
     "data": {
      "text/plain": [
       "array([[[[[[[[ 1171.86147186]]]]]],\n",
       "\n",
       "\n",
       "\n",
       "\n",
       "\n",
       "        [[[[[[ 8828.13852814]]]]]]]])"
      ]
     },
     "execution_count": 46,
     "metadata": {},
     "output_type": "execute_result"
    }
   ],
   "source": [
    "marginalize(E_S, [1], cardinalities)"
   ]
  },
  {
   "cell_type": "markdown",
   "metadata": {},
   "source": [
    "## A Random Graph"
   ]
  },
  {
   "cell_type": "code",
   "execution_count": 47,
   "metadata": {
    "scrolled": true
   },
   "outputs": [
    {
     "name": "stdout",
     "output_type": "stream",
     "text": [
      "['A', 'S', 'T', 'L', 'B', 'E', 'X', 'D']\n"
     ]
    },
    {
     "data": {
      "image/png": "[encoded data removed]",
      "text/plain": [
       "<IPython.core.display.Image object>"
      ]
     },
     "metadata": {},
     "output_type": "display_data"
    },
    {
     "name": "stdout",
     "output_type": "stream",
     "text": [
      "{'A': [], 'S': ['A'], 'T': ['S', 'A'], 'L': ['A', 'T'], 'B': ['L', 'T'], 'E': ['B', 'A', 'S'], 'X': ['L'], 'D': ['L', 'E', 'X']}\n",
      "[3, 4, 5, 4, 4, 3, 3, 3]\n",
      "{'A': ['A_state_0', 'A_state_1', 'A_state_2'], 'S': ['S_state_0', 'S_state_1', 'S_state_2', 'S_state_3'], 'T': ['T_state_0', 'T_state_1', 'T_state_2', 'T_state_3', 'T_state_4'], 'L': ['L_state_0', 'L_state_1', 'L_state_2', 'L_state_3'], 'B': ['B_state_0', 'B_state_1', 'B_state_2', 'B_state_3'], 'E': ['E_state_0', 'E_state_1', 'E_state_2'], 'X': ['X_state_0', 'X_state_1', 'X_state_2'], 'D': ['D_state_0', 'D_state_1', 'D_state_2']}\n"
     ]
    },
    {
     "data": {
      "text/plain": [
       "(3, 1, 1, 1, 1, 1, 1, 1)"
      ]
     },
     "execution_count": 47,
     "metadata": {},
     "output_type": "execute_result"
    }
   ],
   "source": [
    "#index_names = [a for a in set(['A', 'S', 'T', 'L', 'B', 'E', 'X', 'D'])]\n",
    "index_names = ['A', 'S', 'T', 'L', 'B', 'E', 'X', 'D']\n",
    "parents = random_parents(index_names)\n",
    "show_dag_image(index_names, parents)\n",
    "\n",
    "visible_names = ['X','A','B']\n",
    "visibles = index_names_to_num(index_names, visible_names)\n",
    "\n",
    "families = make_families(index_names, parents)\n",
    "cardinalities = random_cardinalities(index_names)\n",
    "states = states_from_cardinalities(index_names, cardinalities)\n",
    "\n",
    "gamma = 0.01\n",
    "theta = random_cp_tables(index_names, cardinalities, parents, gamma)\n",
    "X = random_observations(cardinalities, visibles)\n",
    "\n",
    "print(parents)\n",
    "print(cardinalities)\n",
    "print(states)\n",
    "theta[0].shape"
   ]
  },
  {
   "cell_type": "markdown",
   "metadata": {},
   "source": [
    "# Obsolete"
   ]
  },
  {
   "cell_type": "markdown",
   "metadata": {},
   "source": [
    "## Example 4: A random Model"
   ]
  },
  {
   "cell_type": "code",
   "execution_count": 152,
   "metadata": {},
   "outputs": [
    {
     "name": "stdout",
     "output_type": "stream",
     "text": [
      "['A', 'B', 'C', 'D', 'E', 'F', 'G', 'H', 'I', 'J']\n"
     ]
    },
    {
     "data": {
      "image/png": "[encoded data removed]",
      "text/plain": [
       "<IPython.core.display.Image object>"
      ]
     },
     "metadata": {},
     "output_type": "display_data"
    },
    {
     "name": "stdout",
     "output_type": "stream",
     "text": [
      "[0, 2, 9, 5, 4, 1, 3, 6, 7, 8]\n",
      "[{0, 1, 2, 4}, {1, 2, 4, 6}, {3, 6, 7, 8, 9}, {1, 3, 4, 5, 7}, {1, 3, 4, 6, 7}, {1, 3, 6, 7, 8}]\n"
     ]
    }
   ],
   "source": [
    "index_names, parents, cardinalities, states = random_model(10, max_indeg=4)\n",
    "show_dag_image(index_names, parents)\n",
    "\n",
    "#theta = make_random_cp_tables(index_names, cardinalities, parents, gamma=0.01)    \n",
    "\n",
    "visible_names = index_names[-4:]\n",
    "\n",
    "families = make_families(index_names, parents)\n",
    "visibles = index_names_to_num(index_names, visible_names)\n",
    "\n",
    "Clique, elim_seq = make_cliques(families, cardinalities, visibles, show_graph=False)\n",
    "\n",
    "\n",
    "print(elim_seq)\n",
    "print(Clique)"
   ]
  },
  {
   "cell_type": "markdown",
   "metadata": {},
   "source": [
    "## Example 5: A Hidden Markov Model"
   ]
  },
  {
   "cell_type": "code",
   "execution_count": 43,
   "metadata": {},
   "outputs": [
    {
     "data": {
      "image/png": "[encoded data removed]",
      "text/plain": [
       "<IPython.core.display.Image object>"
      ]
     },
     "metadata": {},
     "output_type": "display_data"
    }
   ],
   "source": [
    "index_names = ['X1', 'X2', 'X3', 'X4', 'Y1', 'Y2', 'Y3', 'Y4']\n",
    "parents = {'X1':[], 'Y1':['X1'], 'X2':['X1'], 'Y2':['X2'], 'X3':['X2'], 'Y3':['X3'], 'X4':['X3'], 'Y4':['X4'] }\n",
    "cardinalities = [2]*8\n",
    "\n",
    "show_dag_image(index_names, parents)\n"
   ]
  },
  {
   "cell_type": "markdown",
   "metadata": {},
   "source": [
    "# Building an inference engine"
   ]
  },
  {
   "cell_type": "code",
   "execution_count": null,
   "metadata": {
    "collapsed": true
   },
   "outputs": [],
   "source": [
    "#index_names = [a for a in set(['A', 'S', 'T', 'L', 'B', 'E', 'X', 'D'])]\n",
    "index_names = ['A', 'S', 'T', 'L', 'B', 'E', 'X', 'D']\n",
    "visible_names = ['X', 'A', 'D']\n",
    "parents = random_parents(index_names)\n",
    "cardinalities = random_cardinalities(index_names)\n",
    "states = random_states(index_names, cardinalities)\n",
    "\n",
    "show_dag_image(index_names, parents)\n",
    "\n",
    "\n",
    "families = make_families(index_names, parents)\n",
    "visibles = make_visibles(index_names, visible_names)\n",
    "\n",
    "\n",
    "Clique, elim_seq = make_cliques(families, cardinalities, visibles=None)\n",
    "\n",
    "gamma = 0.01\n",
    "theta = make_random_cp_tables(index_names, cardinalities, parents, gamma)\n"
   ]
  },
  {
   "cell_type": "code",
   "execution_count": 146,
   "metadata": {
    "scrolled": false
   },
   "outputs": [
    {
     "data": {
      "image/png": "[encoded data removed]",
      "text/plain": [
       "<IPython.core.display.Image object>"
      ]
     },
     "metadata": {},
     "output_type": "display_data"
    },
    {
     "data": {
      "text/plain": [
       "array([[[[[[[[167, 525],\n",
       "             [ 13, 130]]]]]]],\n",
       "\n",
       "\n",
       "\n",
       "\n",
       "\n",
       "\n",
       "       [[[[[[[ 34, 122],\n",
       "             [  3,   6]]]]]]]])"
      ]
     },
     "execution_count": 146,
     "metadata": {},
     "output_type": "execute_result"
    }
   ],
   "source": [
    "index_names = ['A', 'S', 'T', 'L', 'B', 'E', 'X', 'D']\n",
    "parents = {'A':[], 'S':[], 'T':['A'], 'L':['S'], 'B':['S'], 'E':['T','L'], 'X':['E'], 'D':['B','E']}\n",
    "show_dag_image(index_names, parents)\n",
    "cardinalities = [2,2,2,2,2,2,2,2]\n",
    "states = states_from_cardinalities(index_names, cardinalities)\n",
    "\n",
    "visible_names = ['A', 'X', 'D']\n",
    "visibles = index_names_to_num(index_names, visible_names)\n",
    "## Generate random potentials\n",
    "gamma = 0.01\n",
    "theta = random_cp_tables(index_names, cardinalities, parents, gamma)\n",
    "\n",
    "#X = random_observations(cardinalities, visibles)\n",
    "\n",
    "eng = Engine(index_names, parents, states, theta, visible_names) \n",
    "eng.propagate_observation({})\n",
    "\n",
    "eng.sample_table(visible_names, num_of_samples=1000 )"
   ]
  },
  {
   "cell_type": "code",
   "execution_count": 147,
   "metadata": {},
   "outputs": [
    {
     "data": {
      "text/plain": [
       "{('A_state_0', 'X_state_0', 'D_state_0'): 0.18341920669020023,\n",
       " ('A_state_0', 'X_state_0', 'D_state_1'): 0.52152678520244722,\n",
       " ('A_state_0', 'X_state_1', 'D_state_0'): 0.010894159202562521,\n",
       " ('A_state_0', 'X_state_1', 'D_state_1'): 0.12013387702693117,\n",
       " ('A_state_1', 'X_state_0', 'D_state_0'): 0.041894295387379522,\n",
       " ('A_state_1', 'X_state_0', 'D_state_1'): 0.11523178987570294,\n",
       " ('A_state_1', 'X_state_1', 'D_state_0'): 0.00080947836472182726,\n",
       " ('A_state_1', 'X_state_1', 'D_state_1'): 0.0060904082500545086}"
      ]
     },
     "execution_count": 147,
     "metadata": {},
     "output_type": "execute_result"
    }
   ],
   "source": [
    "eng.propagate_observation()\n",
    "eng.marginal_table(visible_names)"
   ]
  },
  {
   "cell_type": "code",
   "execution_count": 148,
   "metadata": {
    "collapsed": true
   },
   "outputs": [],
   "source": [
    "X = eng.sample_table(visible_names, num_of_samples=1000)"
   ]
  },
  {
   "cell_type": "code",
   "execution_count": 149,
   "metadata": {},
   "outputs": [
    {
     "data": {
      "text/plain": [
       "array([[[[[[[[205, 522],\n",
       "             [ 12,  83]]]]]]],\n",
       "\n",
       "\n",
       "\n",
       "\n",
       "\n",
       "\n",
       "       [[[[[[[ 50, 121],\n",
       "             [  0,   7]]]]]]]])"
      ]
     },
     "execution_count": 149,
     "metadata": {},
     "output_type": "execute_result"
    }
   ],
   "source": [
    "X"
   ]
  },
  {
   "cell_type": "code",
   "execution_count": 150,
   "metadata": {},
   "outputs": [
    {
     "ename": "AttributeError",
     "evalue": "'Engine' object has no attribute 'propagate'",
     "output_type": "error",
     "traceback": [
      "\u001b[0;31m---------------------------------------------------------------------------\u001b[0m",
      "\u001b[0;31mAttributeError\u001b[0m                            Traceback (most recent call last)",
      "\u001b[0;32m<ipython-input-150-c3860827cc9b>\u001b[0m in \u001b[0;36m<module>\u001b[0;34m()\u001b[0m\n\u001b[0;32m----> 1\u001b[0;31m \u001b[0mE_S_new\u001b[0m \u001b[0;34m=\u001b[0m \u001b[0meng\u001b[0m\u001b[0;34m.\u001b[0m\u001b[0mcompute_ESS\u001b[0m\u001b[0;34m(\u001b[0m\u001b[0;34m)\u001b[0m\u001b[0;34m\u001b[0m\u001b[0m\n\u001b[0m",
      "\u001b[0;32m<ipython-input-105-09f129bfda77>\u001b[0m in \u001b[0;36mcompute_ESS\u001b[0;34m(self, X)\u001b[0m\n\u001b[1;32m    148\u001b[0m         \u001b[0;34m\"\"\"Compute Expected Sufficient Statistics for each probability table\"\"\"\u001b[0m\u001b[0;34m\u001b[0m\u001b[0m\n\u001b[1;32m    149\u001b[0m         \u001b[0mE_S\u001b[0m \u001b[0;34m=\u001b[0m \u001b[0mdict\u001b[0m\u001b[0;34m(\u001b[0m\u001b[0;34m)\u001b[0m\u001b[0;34m\u001b[0m\u001b[0m\n\u001b[0;32m--> 150\u001b[0;31m         \u001b[0mself\u001b[0m\u001b[0;34m.\u001b[0m\u001b[0mpropagate\u001b[0m\u001b[0;34m(\u001b[0m\u001b[0mX\u001b[0m\u001b[0;34m)\u001b[0m\u001b[0;34m\u001b[0m\u001b[0m\n\u001b[0m\u001b[1;32m    151\u001b[0m         \u001b[0;32mfor\u001b[0m \u001b[0mc\u001b[0m \u001b[0;32min\u001b[0m \u001b[0mself\u001b[0m\u001b[0;34m.\u001b[0m\u001b[0morder\u001b[0m\u001b[0;34m:\u001b[0m\u001b[0;34m\u001b[0m\u001b[0m\n\u001b[1;32m    152\u001b[0m             \u001b[0;32mfor\u001b[0m \u001b[0mn\u001b[0m \u001b[0;32min\u001b[0m \u001b[0mfind\u001b[0m\u001b[0;34m(\u001b[0m\u001b[0mself\u001b[0m\u001b[0;34m.\u001b[0m\u001b[0mClique2Pot\u001b[0m\u001b[0;34m[\u001b[0m\u001b[0mc\u001b[0m\u001b[0;34m,\u001b[0m \u001b[0;34m:\u001b[0m\u001b[0;34m]\u001b[0m\u001b[0;34m)\u001b[0m\u001b[0;34m:\u001b[0m\u001b[0;34m\u001b[0m\u001b[0m\n",
      "\u001b[0;31mAttributeError\u001b[0m: 'Engine' object has no attribute 'propagate'"
     ]
    }
   ],
   "source": [
    "E_S_new = eng.compute_ESS()"
   ]
  },
  {
   "cell_type": "code",
   "execution_count": 323,
   "metadata": {
    "collapsed": true
   },
   "outputs": [],
   "source": [
    "P = multiply(eng.theta, range(len(cardinalities)))\n",
    "E_S = P"
   ]
  },
  {
   "cell_type": "code",
   "execution_count": 105,
   "metadata": {
    "collapsed": true
   },
   "outputs": [],
   "source": [
    "E_S_new = eng.propagate(X)\n"
   ]
  },
  {
   "cell_type": "code",
   "execution_count": 324,
   "metadata": {
    "collapsed": true
   },
   "outputs": [],
   "source": [
    "P = multiply(eng.theta, range(len(cardinalities)))\n",
    "Px = marginalize(P, visibles, cardinalities)\n",
    "P /= Px\n",
    "E_S = X*P"
   ]
  },
  {
   "cell_type": "markdown",
   "metadata": {},
   "source": [
    "https://github.com/jupyter-widgets/tutorial/blob/master/notebooks/04.00-widget-list.ipynb"
   ]
  },
  {
   "cell_type": "code",
   "execution_count": 49,
   "metadata": {},
   "outputs": [
    {
     "data": {
      "application/vnd.jupyter.widget-view+json": {
       "model_id": "ea254f5189e4413eaddb82eaebccdfec",
       "version_major": 2,
       "version_minor": 0
      },
      "text/html": [
       "<p>Failed to display Jupyter Widget of type <code>interactive</code>.</p>\n",
       "<p>\n",
       "  If you're reading this message in Jupyter Notebook or JupyterLab, it may mean\n",
       "  that the widgets JavaScript is still loading. If this message persists, it\n",
       "  likely means that the widgets JavaScript library is either not installed or\n",
       "  not enabled. See the <a href=\"https://ipywidgets.readthedocs.io/en/stable/user_install.html\">Jupyter\n",
       "  Widgets Documentation</a> for setup instructions.\n",
       "</p>\n",
       "<p>\n",
       "  If you're reading this message in another notebook frontend (for example, a static\n",
       "  rendering on GitHub or <a href=\"https://nbviewer.jupyter.org/\">NBViewer</a>),\n",
       "  it may mean that your frontend doesn't currently support widgets.\n",
       "</p>\n"
      ],
      "text/plain": [
       "interactive(children=(FloatSlider(value=3.14, description='th', max=6.283185307179586, step=0.01), Output()), _dom_classes=('widget-interact',))"
      ]
     },
     "metadata": {},
     "output_type": "display_data"
    },
    {
     "data": {
      "text/plain": [
       "<function __main__.set_line>"
      ]
     },
     "execution_count": 49,
     "metadata": {},
     "output_type": "execute_result"
    }
   ],
   "source": [
    "%matplotlib inline\n",
    "\n",
    "import matplotlib as mpl\n",
    "import matplotlib.pyplot as plt\n",
    "\n",
    "import numpy as np\n",
    "\n",
    "from ipywidgets import interact, interactive, fixed\n",
    "import ipywidgets as widgets\n",
    "from IPython.display import clear_output, display, HTML\n",
    "from matplotlib import rc\n",
    "\n",
    "mpl.rc('font',**{'family':'sans-serif','sans-serif':['Helvetica']})\n",
    "mpl.rc('text', usetex=True)\n",
    "\n",
    "fig = plt.figure(figsize=(5,5))\n",
    "ax = plt.gca()\n",
    "ln = plt.Line2D([0],[0])\n",
    "\n",
    "ax.add_line(ln)\n",
    "ax.set_xlim([-1,1])\n",
    "ax.set_ylim([-1,1])\n",
    "ax.set_axis_off()\n",
    "\n",
    "plt.close(fig)\n",
    "\n",
    "def set_line(th):\n",
    "    ln.set_xdata([np.cos(th), -np.cos(th)])\n",
    "    ln.set_ydata([np.sin(th), -np.sin(th)])\n",
    "    display(fig)   \n",
    "    \n",
    "interact(set_line, th=(0.0, 2*np.pi,0.01))"
   ]
  },
  {
   "cell_type": "code",
   "execution_count": 76,
   "metadata": {},
   "outputs": [
    {
     "data": {
      "application/vnd.jupyter.widget-view+json": {
       "model_id": "09493f6a7e4b466fa8c6d3084142c2c8",
       "version_major": 2,
       "version_minor": 0
      },
      "text/html": [
       "<p>Failed to display Jupyter Widget of type <code>IntSlider</code>.</p>\n",
       "<p>\n",
       "  If you're reading this message in Jupyter Notebook or JupyterLab, it may mean\n",
       "  that the widgets JavaScript is still loading. If this message persists, it\n",
       "  likely means that the widgets JavaScript library is either not installed or\n",
       "  not enabled. See the <a href=\"https://ipywidgets.readthedocs.io/en/stable/user_install.html\">Jupyter\n",
       "  Widgets Documentation</a> for setup instructions.\n",
       "</p>\n",
       "<p>\n",
       "  If you're reading this message in another notebook frontend (for example, a static\n",
       "  rendering on GitHub or <a href=\"https://nbviewer.jupyter.org/\">NBViewer</a>),\n",
       "  it may mean that your frontend doesn't currently support widgets.\n",
       "</p>\n"
      ],
      "text/plain": [
       "IntSlider(value=7, continuous_update=False, description='Test:', max=10)"
      ]
     },
     "metadata": {},
     "output_type": "display_data"
    }
   ],
   "source": [
    "widgets.IntSlider(\n",
    "    value=7,\n",
    "    min=0,\n",
    "    max=10,\n",
    "    step=1,\n",
    "    description='Test:',\n",
    "    disabled=False,\n",
    "    continuous_update=False,\n",
    "    orientation='horizontal',\n",
    "    readout=True,\n",
    "    readout_format='d'\n",
    ")"
   ]
  },
  {
   "cell_type": "code",
   "execution_count": 93,
   "metadata": {
    "scrolled": true
   },
   "outputs": [
    {
     "data": {
      "application/vnd.jupyter.widget-view+json": {
       "model_id": "0d02d3e49ac049658a42e7fea1ab3017",
       "version_major": 2,
       "version_minor": 0
      },
      "text/html": [
       "<p>Failed to display Jupyter Widget of type <code>FloatSlider</code>.</p>\n",
       "<p>\n",
       "  If you're reading this message in Jupyter Notebook or JupyterLab, it may mean\n",
       "  that the widgets JavaScript is still loading. If this message persists, it\n",
       "  likely means that the widgets JavaScript library is either not installed or\n",
       "  not enabled. See the <a href=\"https://ipywidgets.readthedocs.io/en/stable/user_install.html\">Jupyter\n",
       "  Widgets Documentation</a> for setup instructions.\n",
       "</p>\n",
       "<p>\n",
       "  If you're reading this message in another notebook frontend (for example, a static\n",
       "  rendering on GitHub or <a href=\"https://nbviewer.jupyter.org/\">NBViewer</a>),\n",
       "  it may mean that your frontend doesn't currently support widgets.\n",
       "</p>\n"
      ],
      "text/plain": [
       "FloatSlider(value=7.5, continuous_update=False, description='Test:', max=10.0, orientation='vertical')"
      ]
     },
     "metadata": {},
     "output_type": "display_data"
    }
   ],
   "source": [
    "widgets.FloatSlider(\n",
    "    value=7.5,\n",
    "    min=0,\n",
    "    max=10.0,\n",
    "    step=0.1,\n",
    "    description='Test:',\n",
    "    disabled=False,\n",
    "    continuous_update=False,\n",
    "    orientation='vertical',\n",
    "    readout=True,\n",
    "    readout_format='.2f',\n",
    ")"
   ]
  },
  {
   "cell_type": "code",
   "execution_count": 56,
   "metadata": {
    "scrolled": true
   },
   "outputs": [
    {
     "data": {
      "application/vnd.jupyter.widget-view+json": {
       "model_id": "ddf75e9db5c3424a9835ce204135adb1",
       "version_major": 2,
       "version_minor": 0
      },
      "text/html": [
       "<p>Failed to display Jupyter Widget of type <code>IntRangeSlider</code>.</p>\n",
       "<p>\n",
       "  If you're reading this message in Jupyter Notebook or JupyterLab, it may mean\n",
       "  that the widgets JavaScript is still loading. If this message persists, it\n",
       "  likely means that the widgets JavaScript library is either not installed or\n",
       "  not enabled. See the <a href=\"https://ipywidgets.readthedocs.io/en/stable/user_install.html\">Jupyter\n",
       "  Widgets Documentation</a> for setup instructions.\n",
       "</p>\n",
       "<p>\n",
       "  If you're reading this message in another notebook frontend (for example, a static\n",
       "  rendering on GitHub or <a href=\"https://nbviewer.jupyter.org/\">NBViewer</a>),\n",
       "  it may mean that your frontend doesn't currently support widgets.\n",
       "</p>\n"
      ],
      "text/plain": [
       "IntRangeSlider(value=(5, 7), continuous_update=False, description='Test:', max=10)"
      ]
     },
     "metadata": {},
     "output_type": "display_data"
    }
   ],
   "source": [
    "w = widgets.IntRangeSlider(\n",
    "    value=[5, 7],\n",
    "    min=0,\n",
    "    max=10,\n",
    "    step=1,\n",
    "    description='Test:',\n",
    "    disabled=False,\n",
    "    continuous_update=False,\n",
    "    orientation='horizontal',\n",
    "    readout=True,\n",
    "    readout_format='d',\n",
    ")\n",
    "display(w)"
   ]
  },
  {
   "cell_type": "code",
   "execution_count": 60,
   "metadata": {},
   "outputs": [
    {
     "data": {
      "text/plain": [
       "(4, 9)"
      ]
     },
     "execution_count": 60,
     "metadata": {},
     "output_type": "execute_result"
    }
   ],
   "source": [
    "w.get_interact_value()"
   ]
  },
  {
   "cell_type": "code",
   "execution_count": 61,
   "metadata": {
    "collapsed": true
   },
   "outputs": [],
   "source": [
    "w = widgets.BoundedIntText(\n",
    "    value=7,\n",
    "    min=0,\n",
    "    max=10,\n",
    "    step=1,\n",
    "    description='Text:',\n",
    "    disabled=False\n",
    ")"
   ]
  },
  {
   "cell_type": "code",
   "execution_count": 62,
   "metadata": {
    "scrolled": true
   },
   "outputs": [
    {
     "data": {
      "application/vnd.jupyter.widget-view+json": {
       "model_id": "ece7f14ce4c34ff89c5b8d0f9d0d9c5e",
       "version_major": 2,
       "version_minor": 0
      },
      "text/html": [
       "<p>Failed to display Jupyter Widget of type <code>BoundedIntText</code>.</p>\n",
       "<p>\n",
       "  If you're reading this message in Jupyter Notebook or JupyterLab, it may mean\n",
       "  that the widgets JavaScript is still loading. If this message persists, it\n",
       "  likely means that the widgets JavaScript library is either not installed or\n",
       "  not enabled. See the <a href=\"https://ipywidgets.readthedocs.io/en/stable/user_install.html\">Jupyter\n",
       "  Widgets Documentation</a> for setup instructions.\n",
       "</p>\n",
       "<p>\n",
       "  If you're reading this message in another notebook frontend (for example, a static\n",
       "  rendering on GitHub or <a href=\"https://nbviewer.jupyter.org/\">NBViewer</a>),\n",
       "  it may mean that your frontend doesn't currently support widgets.\n",
       "</p>\n"
      ],
      "text/plain": [
       "BoundedIntText(value=7, description='Text:', max=10)"
      ]
     },
     "metadata": {},
     "output_type": "display_data"
    }
   ],
   "source": [
    "display(w)"
   ]
  },
  {
   "cell_type": "code",
   "execution_count": 65,
   "metadata": {},
   "outputs": [
    {
     "data": {
      "text/plain": [
       "10"
      ]
     },
     "execution_count": 65,
     "metadata": {},
     "output_type": "execute_result"
    }
   ],
   "source": [
    "w.value"
   ]
  },
  {
   "cell_type": "code",
   "execution_count": 52,
   "metadata": {
    "scrolled": true
   },
   "outputs": [
    {
     "data": {
      "application/vnd.jupyter.widget-view+json": {
       "model_id": "c4b49dcb9d744a3db82e67e4eff09563",
       "version_major": 2,
       "version_minor": 0
      },
      "text/html": [
       "<p>Failed to display Jupyter Widget of type <code>Accordion</code>.</p>\n",
       "<p>\n",
       "  If you're reading this message in Jupyter Notebook or JupyterLab, it may mean\n",
       "  that the widgets JavaScript is still loading. If this message persists, it\n",
       "  likely means that the widgets JavaScript library is either not installed or\n",
       "  not enabled. See the <a href=\"https://ipywidgets.readthedocs.io/en/stable/user_install.html\">Jupyter\n",
       "  Widgets Documentation</a> for setup instructions.\n",
       "</p>\n",
       "<p>\n",
       "  If you're reading this message in another notebook frontend (for example, a static\n",
       "  rendering on GitHub or <a href=\"https://nbviewer.jupyter.org/\">NBViewer</a>),\n",
       "  it may mean that your frontend doesn't currently support widgets.\n",
       "</p>\n"
      ],
      "text/plain": [
       "Accordion(children=(IntSlider(value=0), Text(value='')), _titles={'0': 'Slider', '1': 'Text'})"
      ]
     },
     "metadata": {},
     "output_type": "display_data"
    }
   ],
   "source": [
    "accordion = widgets.Accordion(children=[widgets.IntSlider(), widgets.Text()])\n",
    "accordion.set_title(0, 'Slider')\n",
    "accordion.set_title(1, 'Text')\n",
    "accordion\n"
   ]
  },
  {
   "cell_type": "code",
   "execution_count": 85,
   "metadata": {
    "scrolled": true
   },
   "outputs": [
    {
     "data": {
      "application/vnd.jupyter.widget-view+json": {
       "model_id": "0e9abdfa1bf54fac878fe2f4acb9e76f",
       "version_major": 2,
       "version_minor": 0
      },
      "text/html": [
       "<p>Failed to display Jupyter Widget of type <code>Tab</code>.</p>\n",
       "<p>\n",
       "  If you're reading this message in Jupyter Notebook or JupyterLab, it may mean\n",
       "  that the widgets JavaScript is still loading. If this message persists, it\n",
       "  likely means that the widgets JavaScript library is either not installed or\n",
       "  not enabled. See the <a href=\"https://ipywidgets.readthedocs.io/en/stable/user_install.html\">Jupyter\n",
       "  Widgets Documentation</a> for setup instructions.\n",
       "</p>\n",
       "<p>\n",
       "  If you're reading this message in another notebook frontend (for example, a static\n",
       "  rendering on GitHub or <a href=\"https://nbviewer.jupyter.org/\">NBViewer</a>),\n",
       "  it may mean that your frontend doesn't currently support widgets.\n",
       "</p>\n"
      ],
      "text/plain": [
       "Tab(children=(Accordion(children=(IntSlider(value=40), Text(value='')), _titles={'0': 'Slider', '1': 'Text'}), Accordion(children=(IntSlider(value=40), Text(value='')), _titles={'0': 'Slider', '1': 'Text'})), _titles={'0': 'An accordion', '1': 'Copy of the accordion'})"
      ]
     },
     "metadata": {},
     "output_type": "display_data"
    }
   ],
   "source": [
    "tab_nest = widgets.Tab()\n",
    "tab_nest.children = [accordion, accordion]\n",
    "tab_nest.set_title(0, 'An accordion')\n",
    "tab_nest.set_title(1, 'Copy of the accordion')\n",
    "tab_nest"
   ]
  },
  {
   "cell_type": "code",
   "execution_count": 53,
   "metadata": {
    "scrolled": true
   },
   "outputs": [
    {
     "data": {
      "application/vnd.jupyter.widget-view+json": {
       "model_id": "8cc84777859042f9ad08792d477d81c2",
       "version_major": 2,
       "version_minor": 0
      },
      "text/html": [
       "<p>Failed to display Jupyter Widget of type <code>HBox</code>.</p>\n",
       "<p>\n",
       "  If you're reading this message in Jupyter Notebook or JupyterLab, it may mean\n",
       "  that the widgets JavaScript is still loading. If this message persists, it\n",
       "  likely means that the widgets JavaScript library is either not installed or\n",
       "  not enabled. See the <a href=\"https://ipywidgets.readthedocs.io/en/stable/user_install.html\">Jupyter\n",
       "  Widgets Documentation</a> for setup instructions.\n",
       "</p>\n",
       "<p>\n",
       "  If you're reading this message in another notebook frontend (for example, a static\n",
       "  rendering on GitHub or <a href=\"https://nbviewer.jupyter.org/\">NBViewer</a>),\n",
       "  it may mean that your frontend doesn't currently support widgets.\n",
       "</p>\n"
      ],
      "text/plain": [
       "HBox(children=(Label(value='0'), Label(value='1'), Label(value='2'), Label(value='3')))"
      ]
     },
     "metadata": {},
     "output_type": "display_data"
    }
   ],
   "source": [
    "items = [widgets.Label(str(i)) for i in range(4)]\n",
    "w2 = widgets.HBox(items)\n",
    "display(w2)"
   ]
  },
  {
   "cell_type": "code",
   "execution_count": 54,
   "metadata": {
    "scrolled": true
   },
   "outputs": [
    {
     "data": {
      "application/vnd.jupyter.widget-view+json": {
       "model_id": "1505bc4229564427bf3e0662fb51413e",
       "version_major": 2,
       "version_minor": 0
      },
      "text/html": [
       "<p>Failed to display Jupyter Widget of type <code>HBox</code>.</p>\n",
       "<p>\n",
       "  If you're reading this message in Jupyter Notebook or JupyterLab, it may mean\n",
       "  that the widgets JavaScript is still loading. If this message persists, it\n",
       "  likely means that the widgets JavaScript library is either not installed or\n",
       "  not enabled. See the <a href=\"https://ipywidgets.readthedocs.io/en/stable/user_install.html\">Jupyter\n",
       "  Widgets Documentation</a> for setup instructions.\n",
       "</p>\n",
       "<p>\n",
       "  If you're reading this message in another notebook frontend (for example, a static\n",
       "  rendering on GitHub or <a href=\"https://nbviewer.jupyter.org/\">NBViewer</a>),\n",
       "  it may mean that your frontend doesn't currently support widgets.\n",
       "</p>\n"
      ],
      "text/plain": [
       "HBox(children=(VBox(children=(Label(value='0'), Label(value='1'))), VBox(children=(Label(value='2'), Label(value='3')))))"
      ]
     },
     "metadata": {},
     "output_type": "display_data"
    }
   ],
   "source": [
    "items = [widgets.Label(str(i)) for i in range(4)]\n",
    "left_box = widgets.VBox([items[0], items[1]])\n",
    "right_box = widgets.VBox([items[2], items[3]])\n",
    "widgets.HBox([left_box, right_box])"
   ]
  },
  {
   "cell_type": "code",
   "execution_count": 94,
   "metadata": {
    "scrolled": true
   },
   "outputs": [
    {
     "data": {
      "application/vnd.jupyter.widget-view+json": {
       "model_id": "b3f1a92c68c049c8a63b08f6653aa503",
       "version_major": 2,
       "version_minor": 0
      },
      "text/html": [
       "<p>Failed to display Jupyter Widget of type <code>Dropdown</code>.</p>\n",
       "<p>\n",
       "  If you're reading this message in Jupyter Notebook or JupyterLab, it may mean\n",
       "  that the widgets JavaScript is still loading. If this message persists, it\n",
       "  likely means that the widgets JavaScript library is either not installed or\n",
       "  not enabled. See the <a href=\"https://ipywidgets.readthedocs.io/en/stable/user_install.html\">Jupyter\n",
       "  Widgets Documentation</a> for setup instructions.\n",
       "</p>\n",
       "<p>\n",
       "  If you're reading this message in another notebook frontend (for example, a static\n",
       "  rendering on GitHub or <a href=\"https://nbviewer.jupyter.org/\">NBViewer</a>),\n",
       "  it may mean that your frontend doesn't currently support widgets.\n",
       "</p>\n"
      ],
      "text/plain": [
       "Dropdown(description='Number:', index=1, options=(('One', 1), ('Two', 2), ('Three', 3)), value=2)"
      ]
     },
     "metadata": {},
     "output_type": "display_data"
    }
   ],
   "source": [
    "w = widgets.Dropdown(\n",
    "    options=[('One', 1), ('Two', 2), ('Three', 3)],\n",
    "    value=2,\n",
    "    description='Number:',\n",
    ")\n",
    "\n",
    "display(w)"
   ]
  },
  {
   "cell_type": "code",
   "execution_count": 122,
   "metadata": {
    "scrolled": true
   },
   "outputs": [
    {
     "data": {
      "application/vnd.jupyter.widget-view+json": {
       "model_id": "94bfd74578264e37b32fc39c845a57c7",
       "version_major": 2,
       "version_minor": 0
      },
      "text/html": [
       "<p>Failed to display Jupyter Widget of type <code>ToggleButtons</code>.</p>\n",
       "<p>\n",
       "  If you're reading this message in Jupyter Notebook or JupyterLab, it may mean\n",
       "  that the widgets JavaScript is still loading. If this message persists, it\n",
       "  likely means that the widgets JavaScript library is either not installed or\n",
       "  not enabled. See the <a href=\"https://ipywidgets.readthedocs.io/en/stable/user_install.html\">Jupyter\n",
       "  Widgets Documentation</a> for setup instructions.\n",
       "</p>\n",
       "<p>\n",
       "  If you're reading this message in another notebook frontend (for example, a static\n",
       "  rendering on GitHub or <a href=\"https://nbviewer.jupyter.org/\">NBViewer</a>),\n",
       "  it may mean that your frontend doesn't currently support widgets.\n",
       "</p>\n"
      ],
      "text/plain": [
       "ToggleButtons(button_style='warning', description='Speed:', options=('Slow', 'Regular', 'Fast', 'Ultra'), tooltips=['Description of slow', 'Description of regular', 'Description of fast'], value='Slow')"
      ]
     },
     "metadata": {},
     "output_type": "display_data"
    }
   ],
   "source": [
    "w = widgets.ToggleButtons(\n",
    "    options=['Slow', 'Regular', 'Fast','Ultra'],\n",
    "    description='Speed:',\n",
    "    disabled=False,\n",
    "    button_style='warning', # 'success', 'info', 'warning', 'danger' or ''\n",
    "    tooltips=['Description of slow', 'Description of regular', 'Description of fast'],\n",
    "    #icons=['check'] * 3\n",
    ")\n",
    "\n",
    "display(w)"
   ]
  },
  {
   "cell_type": "code",
   "execution_count": null,
   "metadata": {
    "collapsed": true
   },
   "outputs": [],
   "source": [
    "w."
   ]
  },
  {
   "cell_type": "code",
   "execution_count": 120,
   "metadata": {
    "scrolled": false
   },
   "outputs": [
    {
     "data": {
      "application/vnd.jupyter.widget-view+json": {
       "model_id": "e19dd42d50a04d87b762c6aaa3e2c04a",
       "version_major": 2,
       "version_minor": 0
      },
      "text/html": [
       "<p>Failed to display Jupyter Widget of type <code>Select</code>.</p>\n",
       "<p>\n",
       "  If you're reading this message in Jupyter Notebook or JupyterLab, it may mean\n",
       "  that the widgets JavaScript is still loading. If this message persists, it\n",
       "  likely means that the widgets JavaScript library is either not installed or\n",
       "  not enabled. See the <a href=\"https://ipywidgets.readthedocs.io/en/stable/user_install.html\">Jupyter\n",
       "  Widgets Documentation</a> for setup instructions.\n",
       "</p>\n",
       "<p>\n",
       "  If you're reading this message in another notebook frontend (for example, a static\n",
       "  rendering on GitHub or <a href=\"https://nbviewer.jupyter.org/\">NBViewer</a>),\n",
       "  it may mean that your frontend doesn't currently support widgets.\n",
       "</p>\n"
      ],
      "text/plain": [
       "Select(description='OS:', index=2, options=('Linux', 'Windows', 'OSX', '?'), rows=4, value='OSX')"
      ]
     },
     "metadata": {},
     "output_type": "display_data"
    },
    {
     "data": {
      "application/vnd.jupyter.widget-view+json": {
       "model_id": "7587226ca41f43219f21826978d3e6f2",
       "version_major": 2,
       "version_minor": 0
      },
      "text/html": [
       "<p>Failed to display Jupyter Widget of type <code>Select</code>.</p>\n",
       "<p>\n",
       "  If you're reading this message in Jupyter Notebook or JupyterLab, it may mean\n",
       "  that the widgets JavaScript is still loading. If this message persists, it\n",
       "  likely means that the widgets JavaScript library is either not installed or\n",
       "  not enabled. See the <a href=\"https://ipywidgets.readthedocs.io/en/stable/user_install.html\">Jupyter\n",
       "  Widgets Documentation</a> for setup instructions.\n",
       "</p>\n",
       "<p>\n",
       "  If you're reading this message in another notebook frontend (for example, a static\n",
       "  rendering on GitHub or <a href=\"https://nbviewer.jupyter.org/\">NBViewer</a>),\n",
       "  it may mean that your frontend doesn't currently support widgets.\n",
       "</p>\n"
      ],
      "text/plain": [
       "Select(description='Class:', disabled=True, index=4, options=('A', 'B', 'C', 'D', '?'), value='?')"
      ]
     },
     "metadata": {},
     "output_type": "display_data"
    }
   ],
   "source": [
    "w = widgets.Select(\n",
    "    options=['Linux', 'Windows', 'OSX', '?'],\n",
    "    value='OSX',\n",
    "    rows=4,\n",
    "    description='OS:',\n",
    "    disabled=False\n",
    ")\n",
    "\n",
    "w2 = widgets.Select(\n",
    "    options=['A', 'B', 'C','D', '?'],\n",
    "    value='?',\n",
    "    rows=5,\n",
    "    description='Class:',\n",
    "    disabled=True\n",
    ")\n",
    "display(w, w2)"
   ]
  },
  {
   "cell_type": "code",
   "execution_count": 121,
   "metadata": {
    "collapsed": true
   },
   "outputs": [],
   "source": [
    "w2.disabled = False"
   ]
  },
  {
   "cell_type": "code",
   "execution_count": 110,
   "metadata": {},
   "outputs": [
    {
     "data": {
      "application/vnd.jupyter.widget-view+json": {
       "model_id": "639ed2ef252246b9ae2cb1df0af4ccac",
       "version_major": 2,
       "version_minor": 0
      },
      "text/html": [
       "<p>Failed to display Jupyter Widget of type <code>Label</code>.</p>\n",
       "<p>\n",
       "  If you're reading this message in Jupyter Notebook or JupyterLab, it may mean\n",
       "  that the widgets JavaScript is still loading. If this message persists, it\n",
       "  likely means that the widgets JavaScript library is either not installed or\n",
       "  not enabled. See the <a href=\"https://ipywidgets.readthedocs.io/en/stable/user_install.html\">Jupyter\n",
       "  Widgets Documentation</a> for setup instructions.\n",
       "</p>\n",
       "<p>\n",
       "  If you're reading this message in another notebook frontend (for example, a static\n",
       "  rendering on GitHub or <a href=\"https://nbviewer.jupyter.org/\">NBViewer</a>),\n",
       "  it may mean that your frontend doesn't currently support widgets.\n",
       "</p>\n"
      ],
      "text/plain": [
       "Label(value='The values of range1 and range2 are synchronized')"
      ]
     },
     "metadata": {},
     "output_type": "display_data"
    },
    {
     "data": {
      "application/vnd.jupyter.widget-view+json": {
       "model_id": "de21bf79c38a4fba96ffee8a4db3f17d",
       "version_major": 2,
       "version_minor": 0
      },
      "text/html": [
       "<p>Failed to display Jupyter Widget of type <code>IntSlider</code>.</p>\n",
       "<p>\n",
       "  If you're reading this message in Jupyter Notebook or JupyterLab, it may mean\n",
       "  that the widgets JavaScript is still loading. If this message persists, it\n",
       "  likely means that the widgets JavaScript library is either not installed or\n",
       "  not enabled. See the <a href=\"https://ipywidgets.readthedocs.io/en/stable/user_install.html\">Jupyter\n",
       "  Widgets Documentation</a> for setup instructions.\n",
       "</p>\n",
       "<p>\n",
       "  If you're reading this message in another notebook frontend (for example, a static\n",
       "  rendering on GitHub or <a href=\"https://nbviewer.jupyter.org/\">NBViewer</a>),\n",
       "  it may mean that your frontend doesn't currently support widgets.\n",
       "</p>\n"
      ],
      "text/plain": [
       "IntSlider(value=1, description='Slider', max=5, min=-5)"
      ]
     },
     "metadata": {},
     "output_type": "display_data"
    }
   ],
   "source": [
    "caption = widgets.Label(value='The values of range1 and range2 are synchronized')\n",
    "slider = widgets.IntSlider(min=-5, max=5, value=1, description='Slider')\n",
    "\n",
    "def handle_slider_change(change):\n",
    "    caption.value = 'The slider value is ' + (\n",
    "        'negative' if change.new < 0 else 'nonnegative'\n",
    "    )\n",
    "\n",
    "slider.observe(handle_slider_change, names='value')\n",
    "\n",
    "display(caption, slider)"
   ]
  },
  {
   "cell_type": "code",
   "execution_count": 112,
   "metadata": {},
   "outputs": [
    {
     "data": {
      "application/vnd.jupyter.widget-view+json": {
       "model_id": "2bb6a4c305be49769781098b8ca74a6a",
       "version_major": 2,
       "version_minor": 0
      },
      "text/html": [
       "<p>Failed to display Jupyter Widget of type <code>Button</code>.</p>\n",
       "<p>\n",
       "  If you're reading this message in Jupyter Notebook or JupyterLab, it may mean\n",
       "  that the widgets JavaScript is still loading. If this message persists, it\n",
       "  likely means that the widgets JavaScript library is either not installed or\n",
       "  not enabled. See the <a href=\"https://ipywidgets.readthedocs.io/en/stable/user_install.html\">Jupyter\n",
       "  Widgets Documentation</a> for setup instructions.\n",
       "</p>\n",
       "<p>\n",
       "  If you're reading this message in another notebook frontend (for example, a static\n",
       "  rendering on GitHub or <a href=\"https://nbviewer.jupyter.org/\">NBViewer</a>),\n",
       "  it may mean that your frontend doesn't currently support widgets.\n",
       "</p>\n"
      ],
      "text/plain": [
       "Button(description='Click Me!', style=ButtonStyle())"
      ]
     },
     "metadata": {},
     "output_type": "display_data"
    },
    {
     "data": {
      "application/vnd.jupyter.widget-view+json": {
       "model_id": "413b1ed4d05c4ca18e64326aa9d2c3b5",
       "version_major": 2,
       "version_minor": 0
      },
      "text/html": [
       "<p>Failed to display Jupyter Widget of type <code>Output</code>.</p>\n",
       "<p>\n",
       "  If you're reading this message in Jupyter Notebook or JupyterLab, it may mean\n",
       "  that the widgets JavaScript is still loading. If this message persists, it\n",
       "  likely means that the widgets JavaScript library is either not installed or\n",
       "  not enabled. See the <a href=\"https://ipywidgets.readthedocs.io/en/stable/user_install.html\">Jupyter\n",
       "  Widgets Documentation</a> for setup instructions.\n",
       "</p>\n",
       "<p>\n",
       "  If you're reading this message in another notebook frontend (for example, a static\n",
       "  rendering on GitHub or <a href=\"https://nbviewer.jupyter.org/\">NBViewer</a>),\n",
       "  it may mean that your frontend doesn't currently support widgets.\n",
       "</p>\n"
      ],
      "text/plain": [
       "Output()"
      ]
     },
     "metadata": {},
     "output_type": "display_data"
    }
   ],
   "source": [
    "from IPython.display import display\n",
    "button = widgets.Button(description=\"Click Me!\")\n",
    "output = widgets.Output()\n",
    "\n",
    "display(button, output)\n",
    "\n",
    "def on_button_clicked(b):\n",
    "    with output:\n",
    "        print(\"Button clicked.\")\n",
    "        print(b)\n",
    "\n",
    "button.on_click(on_button_clicked)"
   ]
  },
  {
   "cell_type": "code",
   "execution_count": 114,
   "metadata": {},
   "outputs": [
    {
     "data": {
      "application/vnd.jupyter.widget-view+json": {
       "model_id": "f1b46b652cf747e9afb079aada069920",
       "version_major": 2,
       "version_minor": 0
      },
      "text/html": [
       "<p>Failed to display Jupyter Widget of type <code>IntSlider</code>.</p>\n",
       "<p>\n",
       "  If you're reading this message in Jupyter Notebook or JupyterLab, it may mean\n",
       "  that the widgets JavaScript is still loading. If this message persists, it\n",
       "  likely means that the widgets JavaScript library is either not installed or\n",
       "  not enabled. See the <a href=\"https://ipywidgets.readthedocs.io/en/stable/user_install.html\">Jupyter\n",
       "  Widgets Documentation</a> for setup instructions.\n",
       "</p>\n",
       "<p>\n",
       "  If you're reading this message in another notebook frontend (for example, a static\n",
       "  rendering on GitHub or <a href=\"https://nbviewer.jupyter.org/\">NBViewer</a>),\n",
       "  it may mean that your frontend doesn't currently support widgets.\n",
       "</p>\n"
      ],
      "text/plain": [
       "IntSlider(value=0)"
      ]
     },
     "metadata": {},
     "output_type": "display_data"
    },
    {
     "data": {
      "application/vnd.jupyter.widget-view+json": {
       "model_id": "39099dc2469a4f18a459ae6d7924ec38",
       "version_major": 2,
       "version_minor": 0
      },
      "text/html": [
       "<p>Failed to display Jupyter Widget of type <code>Output</code>.</p>\n",
       "<p>\n",
       "  If you're reading this message in Jupyter Notebook or JupyterLab, it may mean\n",
       "  that the widgets JavaScript is still loading. If this message persists, it\n",
       "  likely means that the widgets JavaScript library is either not installed or\n",
       "  not enabled. See the <a href=\"https://ipywidgets.readthedocs.io/en/stable/user_install.html\">Jupyter\n",
       "  Widgets Documentation</a> for setup instructions.\n",
       "</p>\n",
       "<p>\n",
       "  If you're reading this message in another notebook frontend (for example, a static\n",
       "  rendering on GitHub or <a href=\"https://nbviewer.jupyter.org/\">NBViewer</a>),\n",
       "  it may mean that your frontend doesn't currently support widgets.\n",
       "</p>\n"
      ],
      "text/plain": [
       "Output()"
      ]
     },
     "metadata": {},
     "output_type": "display_data"
    }
   ],
   "source": [
    "int_range = widgets.IntSlider()\n",
    "output2 = widgets.Output()\n",
    "\n",
    "display(int_range, output2)\n",
    "\n",
    "def on_value_change(change):\n",
    "    with output2:\n",
    "        print(change['new'])\n",
    "\n",
    "int_range.observe(on_value_change, names='value')"
   ]
  }
 ],
 "metadata": {
  "kernelspec": {
   "display_name": "Python [default]",
   "language": "python",
   "name": "python3"
  },
  "language_info": {
   "codemirror_mode": {
    "name": "ipython",
    "version": 3
   },
   "file_extension": ".py",
   "mimetype": "text/x-python",
   "name": "python",
   "nbconvert_exporter": "python",
   "pygments_lexer": "ipython3",
   "version": "3.6.1"
  },
  "toc": {
   "nav_menu": {},
   "number_sections": true,
   "sideBar": true,
   "skip_h1_title": false,
   "toc_cell": false,
   "toc_position": {},
   "toc_section_display": "block",
   "toc_window_display": false
  }
 },
 "nbformat": 4,
 "nbformat_minor": 2
}
