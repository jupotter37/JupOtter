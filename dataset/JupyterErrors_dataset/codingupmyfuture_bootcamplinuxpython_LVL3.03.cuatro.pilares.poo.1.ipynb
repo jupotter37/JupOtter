{
  "nbformat": 4,
  "nbformat_minor": 0,
  "metadata": {
    "colab": {
      "provenance": []
    },
    "kernelspec": {
      "name": "python3",
      "display_name": "Python 3"
    },
    "language_info": {
      "name": "python"
    }
  },
  "cells": [
    {
      "cell_type": "markdown",
      "source": [
        "<p><img src=\"https://i.postimg.cc/cCjTSn8r/ss-cumf.png\" alt=\"\" width=\"1280\" height=\"300\" /></p>\n",
        "\n"
      ],
      "metadata": {
        "id": "Eu8R9qbuI_2n"
      }
    },
    {
      "cell_type": "markdown",
      "source": [
        "# **4 PILARES DE POO**\n",
        "<p><img src=\"https://static.wikia.nocookie.net/alexanaprogramacioniutirla/images/1/13/Pilares.gif/revision/latest?cb=20100219060401&path-prefix=es\" alt=\"\" width=\"400\" height=\"300\" /></p>"
      ],
      "metadata": {
        "id": "yMO3ulukJKmu"
      }
    },
    {
      "cell_type": "markdown",
      "source": [
        "## **ENCAPSULAMIENTO**\n",
        "\n",
        "<p><img src=\"https://upload.wikimedia.org/wikipedia/commons/thumb/8/82/CPT-OOP-interfaces.svg/1200px-CPT-OOP-interfaces.svg.png\" alt=\"\" width=\"500\" height=\"300\" /></p>\n",
        "\n",
        "Cuando hablamos de encapsulamiento estamos hablando de accesibilidad.\n",
        "\n",
        "\n",
        "```\n",
        "pública: si no tienen nada adelante, es una variable pública\n",
        "_semipública: si tiene un guion `_` adelante se conoce como semipública\n",
        "__privada: si tiene dos guiones de piso  `__` es privada (teóricamente, pero no es del todo verdad)\n",
        "```\n",
        "\n",
        "Notas:\n",
        "\n",
        "* En Python, el encapsulamiento es débil\n",
        "* Estos nombres aplican tanto para métodos como para atributos\n",
        "\n",
        "\n"
      ],
      "metadata": {
        "id": "0Ch3ouRZJ32J"
      }
    },
    {
      "cell_type": "code",
      "source": [
        "class AccountBank:\n",
        "  bank: str = \"Bootcamp\"\n",
        "  _level: int = 3\n",
        "  __taxes: float = 0.34\n",
        "\n",
        "accounBank = AccountBank()\n",
        "print(accounBank.bank)\n",
        "print(accounBank._level)\n",
        "print(accounBank.__taxes)"
      ],
      "metadata": {
        "colab": {
          "base_uri": "https://localhost:8080/",
          "height": 245
        },
        "id": "zcBBCKp-Ka1V",
        "outputId": "36498555-7f3f-42e6-e2cc-9cc2bc9ee1c2"
      },
      "execution_count": 1,
      "outputs": [
        {
          "output_type": "stream",
          "name": "stdout",
          "text": [
            "Bootcamp\n",
            "3\n"
          ]
        },
        {
          "output_type": "error",
          "ename": "AttributeError",
          "evalue": "ignored",
          "traceback": [
            "\u001b[0;31m---------------------------------------------------------------------------\u001b[0m",
            "\u001b[0;31mAttributeError\u001b[0m                            Traceback (most recent call last)",
            "\u001b[0;32m<ipython-input-1-ed39945fe7b9>\u001b[0m in \u001b[0;36m<cell line: 9>\u001b[0;34m()\u001b[0m\n\u001b[1;32m      7\u001b[0m \u001b[0mprint\u001b[0m\u001b[0;34m(\u001b[0m\u001b[0maccounBank\u001b[0m\u001b[0;34m.\u001b[0m\u001b[0mbank\u001b[0m\u001b[0;34m)\u001b[0m\u001b[0;34m\u001b[0m\u001b[0;34m\u001b[0m\u001b[0m\n\u001b[1;32m      8\u001b[0m \u001b[0mprint\u001b[0m\u001b[0;34m(\u001b[0m\u001b[0maccounBank\u001b[0m\u001b[0;34m.\u001b[0m\u001b[0m_level\u001b[0m\u001b[0;34m)\u001b[0m\u001b[0;34m\u001b[0m\u001b[0;34m\u001b[0m\u001b[0m\n\u001b[0;32m----> 9\u001b[0;31m \u001b[0mprint\u001b[0m\u001b[0;34m(\u001b[0m\u001b[0maccounBank\u001b[0m\u001b[0;34m.\u001b[0m\u001b[0m__taxes\u001b[0m\u001b[0;34m)\u001b[0m\u001b[0;34m\u001b[0m\u001b[0;34m\u001b[0m\u001b[0m\n\u001b[0m",
            "\u001b[0;31mAttributeError\u001b[0m: 'AccountBank' object has no attribute '__taxes'"
          ]
        }
      ]
    },
    {
      "cell_type": "code",
      "source": [
        "AccountBank.__dict__"
      ],
      "metadata": {
        "colab": {
          "base_uri": "https://localhost:8080/"
        },
        "id": "NtZG9P8_uxqa",
        "outputId": "ee67de3f-b4ab-4444-cc6c-664cc278df41"
      },
      "execution_count": 2,
      "outputs": [
        {
          "output_type": "execute_result",
          "data": {
            "text/plain": [
              "mappingproxy({'__module__': '__main__',\n",
              "              '__annotations__': {'bank': str,\n",
              "               '_level': int,\n",
              "               '_AccountBank__taxes': float},\n",
              "              'bank': 'Bootcamp',\n",
              "              '_level': 3,\n",
              "              '_AccountBank__taxes': 0.34,\n",
              "              '__dict__': <attribute '__dict__' of 'AccountBank' objects>,\n",
              "              '__weakref__': <attribute '__weakref__' of 'AccountBank' objects>,\n",
              "              '__doc__': None})"
            ]
          },
          "metadata": {},
          "execution_count": 2
        }
      ]
    },
    {
      "cell_type": "code",
      "source": [
        "dir(AccountBank)"
      ],
      "metadata": {
        "colab": {
          "base_uri": "https://localhost:8080/"
        },
        "id": "IqZgG0rAxKzO",
        "outputId": "3806498a-6e2f-4d50-b212-37ace8b8a17e"
      },
      "execution_count": 3,
      "outputs": [
        {
          "output_type": "execute_result",
          "data": {
            "text/plain": [
              "['_AccountBank__taxes',\n",
              " '__annotations__',\n",
              " '__class__',\n",
              " '__delattr__',\n",
              " '__dict__',\n",
              " '__dir__',\n",
              " '__doc__',\n",
              " '__eq__',\n",
              " '__format__',\n",
              " '__ge__',\n",
              " '__getattribute__',\n",
              " '__gt__',\n",
              " '__hash__',\n",
              " '__init__',\n",
              " '__init_subclass__',\n",
              " '__le__',\n",
              " '__lt__',\n",
              " '__module__',\n",
              " '__ne__',\n",
              " '__new__',\n",
              " '__reduce__',\n",
              " '__reduce_ex__',\n",
              " '__repr__',\n",
              " '__setattr__',\n",
              " '__sizeof__',\n",
              " '__str__',\n",
              " '__subclasshook__',\n",
              " '__weakref__',\n",
              " '_level',\n",
              " 'bank']"
            ]
          },
          "metadata": {},
          "execution_count": 3
        }
      ]
    },
    {
      "cell_type": "markdown",
      "source": [
        "## **HERENCIA**\n",
        "<p><img src=\"https://lh3.googleusercontent.com/nVpYEGH-S9y40tn0tB0rafK3_6i3ZLlYDyfNbsP_C7v3a7yshiyrP8SrLdnUZ2UR1fpGyVaR9Wf-uE9lEtqjeCRhk9HsIkd4wtLATpt4ZCOyNdrUl09sPf37YqIoDZnJAh9k5TeqTr5oYJx3QlnR4cKLAGEDxh6POk5DP2QW175Npo7G-KBf3-NGwwLWupOBokuOZRGn6wgT_35oXlCWwlc_4UjPG6zZqGDSdzZ63wLE4Aba0u1pnZ-6MwPosyGfA_3T0omLcdjh82EP6lBiHvRlNWiSa9d9Qac_teYv7Ww4gT-uP0KcLYUx2qdMO7JPp7y2t4S7NcbSfGsk7SLb7AH-zwcExNjHTsQVu2YG7tMlkwTljAP6BxWlLXOXiOpZAJr4gbx1xgBj-7gBSv4DGZdnWrkdcbWSa6IqTjaKB1YI7QStAwRk_zyri2CKrVWelbW_Hy_tcL2V4okgZgD-oVSEUFb9FYQEw9_MN9j3N36m1JaJEXb6d5YSQPfOq0kVUnZttw4wVCmx61e_QIrIguoVrlM2CmxOR_mmnx4AFMAoajfWStMyDe9B32moLCfJj0lJK1janDX5BFVKqj-uHHubjtqm3xLg_AXam4hFAWVzVbbDhdF2=w634-h463-no\" alt=\"\" width=\"500\" height=\"300\" /></p>\n",
        "\n",
        "La herencia permite que una clase (llamada clase derivada o subclase) herede atributos y métodos de otra clase (llamada clase base o superclase). Principalmente se usa para:\n",
        "\n",
        "* Reutilización de código\n",
        "* Programación avanzada\n",
        "* **Polimorfismo** (lo veremos más adelante): El polimorfismo se basa en la herencia y la capacidad de las clases derivadas de una clase base para sobrescribir (anular) sus métodos. Esto permite que el mismo método o función pueda comportarse de manera diferente según el tipo de objeto con el que se esté trabajando, lo que aporta versatilidad y extensibilidad al código.\n",
        "* heredar estado y comportamiento\n",
        "\n",
        "Nota: cuando creamos una clase heredamos implícitamente de `object`\n",
        "\n",
        "```python\n",
        "class NombreClase(ClaseHeredar1, ClaseHeredar2, ClaseHeredar ....... n):\n",
        "  pass\n",
        "```"
      ],
      "metadata": {
        "id": "xxlRu8qILAoC"
      }
    },
    {
      "cell_type": "code",
      "source": [
        "class Persona:\n",
        "  pass"
      ],
      "metadata": {
        "id": "RvFaJmy6Kc4S"
      },
      "execution_count": 4,
      "outputs": []
    },
    {
      "cell_type": "code",
      "source": [
        "# no requerido, redundante | se hacia en python 2, pero en versiones modernas no requerido\n",
        "class Persona(object):\n",
        "  pass"
      ],
      "metadata": {
        "id": "MBV9a_1WS-qK"
      },
      "execution_count": 5,
      "outputs": []
    },
    {
      "cell_type": "code",
      "source": [
        "objeto = object()\n",
        "print(id(objeto.__init__)) # constructor\n",
        "print(objeto.__repr__)     # lo veremos luego\n",
        "print(id(objeto.__hash__)) # lo veremos luego\n",
        "dir(objeto)"
      ],
      "metadata": {
        "colab": {
          "base_uri": "https://localhost:8080/"
        },
        "id": "tYKxlAYcTyA2",
        "outputId": "104ee1b5-6716-4c9a-caab-3957dea11a4a"
      },
      "execution_count": 6,
      "outputs": [
        {
          "output_type": "stream",
          "name": "stdout",
          "text": [
            "133778843330896\n",
            "<method-wrapper '__repr__' of object object at 0x79abd215bb90>\n",
            "133778843330896\n"
          ]
        },
        {
          "output_type": "execute_result",
          "data": {
            "text/plain": [
              "['__class__',\n",
              " '__delattr__',\n",
              " '__dir__',\n",
              " '__doc__',\n",
              " '__eq__',\n",
              " '__format__',\n",
              " '__ge__',\n",
              " '__getattribute__',\n",
              " '__gt__',\n",
              " '__hash__',\n",
              " '__init__',\n",
              " '__init_subclass__',\n",
              " '__le__',\n",
              " '__lt__',\n",
              " '__ne__',\n",
              " '__new__',\n",
              " '__reduce__',\n",
              " '__reduce_ex__',\n",
              " '__repr__',\n",
              " '__setattr__',\n",
              " '__sizeof__',\n",
              " '__str__',\n",
              " '__subclasshook__']"
            ]
          },
          "metadata": {},
          "execution_count": 6
        }
      ]
    },
    {
      "cell_type": "markdown",
      "source": [
        "### **HERENCIA ELEMENTAL o SIMPLE**"
      ],
      "metadata": {
        "id": "azzdwq1X3JfU"
      }
    },
    {
      "cell_type": "code",
      "source": [
        "class Persona:\n",
        "  id: str = \"NIDF\"\n",
        "  nombre: str = \"\"\n",
        "  edad: int = \"\"\n",
        "\n",
        "  def __init__(self, genero: str = \"NO_IMPORTA\"):\n",
        "    self.__gen = genero\n",
        "\n",
        "  def dormir(self):\n",
        "    print(f\"la persona con edad {self.edad} debe dormir x horas al día\")\n",
        "\n",
        "  def _genero_para_bootcamp(self):\n",
        "    print(f\"preferencia de género para el curso: {self.__gen} \")"
      ],
      "metadata": {
        "id": "8Sn_E7oHchRn"
      },
      "execution_count": 7,
      "outputs": []
    },
    {
      "cell_type": "code",
      "source": [
        "class Profesor(Persona):\n",
        "  def calcular_salario(self, horas_trabajadas: int, valor_horas: int):\n",
        "    return horas_trabajadas * valor_horas"
      ],
      "metadata": {
        "id": "FuI2sS_BchPL"
      },
      "execution_count": 8,
      "outputs": []
    },
    {
      "cell_type": "code",
      "source": [
        "profesor = Profesor()\n",
        "print(profesor.id)\n",
        "profesor.id = \"12345\"\n",
        "print(profesor.id)\n",
        "profesor.dormir()"
      ],
      "metadata": {
        "colab": {
          "base_uri": "https://localhost:8080/"
        },
        "id": "13xe7c12chMx",
        "outputId": "f983e188-b159-499d-937e-8f35503cc806"
      },
      "execution_count": 9,
      "outputs": [
        {
          "output_type": "stream",
          "name": "stdout",
          "text": [
            "NIDF\n",
            "12345\n",
            "la persona con edad  debe dormir x horas al día\n"
          ]
        }
      ]
    },
    {
      "cell_type": "code",
      "source": [
        "profesor.edad = 15\n",
        "profesor.dormir()"
      ],
      "metadata": {
        "colab": {
          "base_uri": "https://localhost:8080/"
        },
        "id": "wpuOPxvXchKU",
        "outputId": "9b400ec5-474c-419d-b03d-25b052e6db97"
      },
      "execution_count": 10,
      "outputs": [
        {
          "output_type": "stream",
          "name": "stdout",
          "text": [
            "la persona con edad 15 debe dormir x horas al día\n"
          ]
        }
      ]
    },
    {
      "cell_type": "code",
      "source": [
        "profesor._genero_para_bootcamp()"
      ],
      "metadata": {
        "colab": {
          "base_uri": "https://localhost:8080/"
        },
        "id": "LhghyST-chH3",
        "outputId": "b8f6a9c7-9d20-418e-b9a9-fec1d4f7a7ec"
      },
      "execution_count": 11,
      "outputs": [
        {
          "output_type": "stream",
          "name": "stdout",
          "text": [
            "preferencia de género para el curso: NO_IMPORTA \n"
          ]
        }
      ]
    },
    {
      "cell_type": "code",
      "source": [
        "profesor2 = Profesor(\"xyz\")\n",
        "profesor2._genero_para_bootcamp()"
      ],
      "metadata": {
        "colab": {
          "base_uri": "https://localhost:8080/"
        },
        "id": "RYajLYtGchFR",
        "outputId": "e61e65d4-3769-4ffe-d5e6-7fa7301a2f76"
      },
      "execution_count": 12,
      "outputs": [
        {
          "output_type": "stream",
          "name": "stdout",
          "text": [
            "preferencia de género para el curso: xyz \n"
          ]
        }
      ]
    },
    {
      "cell_type": "code",
      "source": [
        "persona = Persona()\n",
        "persona._genero_para_bootcamp()"
      ],
      "metadata": {
        "colab": {
          "base_uri": "https://localhost:8080/"
        },
        "id": "BmTib82H3f0I",
        "outputId": "3bf2fc82-bc76-4db6-9370-65202b534eeb"
      },
      "execution_count": 13,
      "outputs": [
        {
          "output_type": "stream",
          "name": "stdout",
          "text": [
            "preferencia de género para el curso: NO_IMPORTA \n"
          ]
        }
      ]
    },
    {
      "cell_type": "markdown",
      "source": [
        "### **VALIDADORES DEL TIPO**"
      ],
      "metadata": {
        "id": "n4kiJGj_3ZO1"
      }
    },
    {
      "cell_type": "code",
      "source": [
        "# type\n",
        "print(type(profesor))\n",
        "print(type(persona))"
      ],
      "metadata": {
        "colab": {
          "base_uri": "https://localhost:8080/"
        },
        "id": "ZMEHZBbL16ho",
        "outputId": "1cc03df9-fd29-49ca-e64f-c8c2b6a6319a"
      },
      "execution_count": 14,
      "outputs": [
        {
          "output_type": "stream",
          "name": "stdout",
          "text": [
            "<class '__main__.Profesor'>\n",
            "<class '__main__.Persona'>\n"
          ]
        }
      ]
    },
    {
      "cell_type": "code",
      "source": [
        "# isinstance\n",
        "isinstance(profesor, Profesor)"
      ],
      "metadata": {
        "colab": {
          "base_uri": "https://localhost:8080/"
        },
        "id": "s62ttKdm166C",
        "outputId": "0407b2dc-729d-4f4e-ad59-3f4be6d935a6"
      },
      "execution_count": 15,
      "outputs": [
        {
          "output_type": "execute_result",
          "data": {
            "text/plain": [
              "True"
            ]
          },
          "metadata": {},
          "execution_count": 15
        }
      ]
    },
    {
      "cell_type": "code",
      "source": [
        "# isinstance\n",
        "isinstance(profesor, Persona)"
      ],
      "metadata": {
        "colab": {
          "base_uri": "https://localhost:8080/"
        },
        "id": "hEUraeZ13_Bk",
        "outputId": "a0c4ebe4-6a70-45f5-eaa1-05d0d595777d"
      },
      "execution_count": 16,
      "outputs": [
        {
          "output_type": "execute_result",
          "data": {
            "text/plain": [
              "True"
            ]
          },
          "metadata": {},
          "execution_count": 16
        }
      ]
    },
    {
      "cell_type": "code",
      "source": [
        "# isinstance\n",
        "isinstance(persona, Profesor)"
      ],
      "metadata": {
        "colab": {
          "base_uri": "https://localhost:8080/"
        },
        "id": "2dlXsJRC3--8",
        "outputId": "126c5f5a-9a19-4107-f885-a084b77d3a5e"
      },
      "execution_count": 17,
      "outputs": [
        {
          "output_type": "execute_result",
          "data": {
            "text/plain": [
              "False"
            ]
          },
          "metadata": {},
          "execution_count": 17
        }
      ]
    },
    {
      "cell_type": "code",
      "source": [
        "# isinstance\n",
        "isinstance(persona, object)"
      ],
      "metadata": {
        "colab": {
          "base_uri": "https://localhost:8080/"
        },
        "id": "_5i64PE03-8V",
        "outputId": "53b48dcd-1e5d-481b-b71d-87baa99697e0"
      },
      "execution_count": 18,
      "outputs": [
        {
          "output_type": "execute_result",
          "data": {
            "text/plain": [
              "True"
            ]
          },
          "metadata": {},
          "execution_count": 18
        }
      ]
    },
    {
      "cell_type": "code",
      "source": [
        "# isinstance\n",
        "issubclass(Profesor, Persona)"
      ],
      "metadata": {
        "colab": {
          "base_uri": "https://localhost:8080/"
        },
        "id": "R-qJ3Mpn3-5e",
        "outputId": "946f6d8b-2f2d-47bc-9876-a4d367cebcfe"
      },
      "execution_count": 19,
      "outputs": [
        {
          "output_type": "execute_result",
          "data": {
            "text/plain": [
              "True"
            ]
          },
          "metadata": {},
          "execution_count": 19
        }
      ]
    },
    {
      "cell_type": "markdown",
      "source": [
        "### **HERENCIA MÚLTIPLE**"
      ],
      "metadata": {
        "id": "86yaqPF240CW"
      }
    },
    {
      "cell_type": "code",
      "source": [
        "# utilitario\n",
        "class GeneradorIdentificadores:\n",
        "\n",
        "  def obtener_hash_persona(self, id: str = \"ND\", nombre: str = \"ND\", edad: int = 0):\n",
        "    print(id)\n",
        "    print(nombre)\n",
        "    print(edad)\n",
        "    return hash((\n",
        "        \"id\",id,\n",
        "        \"nombre\", nombre,\n",
        "        \"edad\", edad))\n"
      ],
      "metadata": {
        "id": "gNAr4vyb3-2V"
      },
      "execution_count": 20,
      "outputs": []
    },
    {
      "cell_type": "code",
      "source": [
        "class Profesor(Persona, GeneradorIdentificadores):\n",
        "  def calcular_salario(self, horas_trabajadas: int, valor_horas: int):\n",
        "    return horas_trabajadas * valor_horas"
      ],
      "metadata": {
        "id": "rFys_wtZ4zT3"
      },
      "execution_count": 21,
      "outputs": []
    },
    {
      "cell_type": "code",
      "source": [
        "profesor = Profesor()\n",
        "dir(profesor)"
      ],
      "metadata": {
        "colab": {
          "base_uri": "https://localhost:8080/"
        },
        "id": "kDxzZTYB4zQ9",
        "outputId": "c2748df3-2d74-438d-f81f-9c243af4f335"
      },
      "execution_count": 22,
      "outputs": [
        {
          "output_type": "execute_result",
          "data": {
            "text/plain": [
              "['_Persona__gen',\n",
              " '__annotations__',\n",
              " '__class__',\n",
              " '__delattr__',\n",
              " '__dict__',\n",
              " '__dir__',\n",
              " '__doc__',\n",
              " '__eq__',\n",
              " '__format__',\n",
              " '__ge__',\n",
              " '__getattribute__',\n",
              " '__gt__',\n",
              " '__hash__',\n",
              " '__init__',\n",
              " '__init_subclass__',\n",
              " '__le__',\n",
              " '__lt__',\n",
              " '__module__',\n",
              " '__ne__',\n",
              " '__new__',\n",
              " '__reduce__',\n",
              " '__reduce_ex__',\n",
              " '__repr__',\n",
              " '__setattr__',\n",
              " '__sizeof__',\n",
              " '__str__',\n",
              " '__subclasshook__',\n",
              " '__weakref__',\n",
              " '_genero_para_bootcamp',\n",
              " 'calcular_salario',\n",
              " 'dormir',\n",
              " 'edad',\n",
              " 'id',\n",
              " 'nombre',\n",
              " 'obtener_hash_persona']"
            ]
          },
          "metadata": {},
          "execution_count": 22
        }
      ]
    },
    {
      "cell_type": "code",
      "source": [
        "profesor.obtener_hash_persona()"
      ],
      "metadata": {
        "colab": {
          "base_uri": "https://localhost:8080/"
        },
        "id": "bOhVOtxn4zOj",
        "outputId": "5104d072-0e5b-4aa2-f99e-c5bff4cf47a5"
      },
      "execution_count": 23,
      "outputs": [
        {
          "output_type": "stream",
          "name": "stdout",
          "text": [
            "ND\n",
            "ND\n",
            "0\n"
          ]
        },
        {
          "output_type": "execute_result",
          "data": {
            "text/plain": [
              "-6906670998874588347"
            ]
          },
          "metadata": {},
          "execution_count": 23
        }
      ]
    },
    {
      "cell_type": "code",
      "source": [
        "profesor.obtener_hash_persona(profesor.id)"
      ],
      "metadata": {
        "colab": {
          "base_uri": "https://localhost:8080/"
        },
        "id": "CEy6fYGq4zLs",
        "outputId": "a5f6f96e-c648-460c-b50d-def95ff76b60"
      },
      "execution_count": 24,
      "outputs": [
        {
          "output_type": "stream",
          "name": "stdout",
          "text": [
            "NIDF\n",
            "ND\n",
            "0\n"
          ]
        },
        {
          "output_type": "execute_result",
          "data": {
            "text/plain": [
              "8782040861152661391"
            ]
          },
          "metadata": {},
          "execution_count": 24
        }
      ]
    },
    {
      "cell_type": "code",
      "source": [
        "print(profesor.id)"
      ],
      "metadata": {
        "colab": {
          "base_uri": "https://localhost:8080/"
        },
        "id": "eGjoBQTI4zEN",
        "outputId": "7afb0242-103c-41ee-f5e6-4dc164dcf632"
      },
      "execution_count": 25,
      "outputs": [
        {
          "output_type": "stream",
          "name": "stdout",
          "text": [
            "NIDF\n"
          ]
        }
      ]
    },
    {
      "cell_type": "code",
      "source": [
        "profesor.obtener_hash_persona(profesor.id)"
      ],
      "metadata": {
        "colab": {
          "base_uri": "https://localhost:8080/"
        },
        "id": "fVw7BFOL3-zy",
        "outputId": "6365bf1d-9b8e-402c-8ac8-76127f0bbd7b"
      },
      "execution_count": 26,
      "outputs": [
        {
          "output_type": "stream",
          "name": "stdout",
          "text": [
            "NIDF\n",
            "ND\n",
            "0\n"
          ]
        },
        {
          "output_type": "execute_result",
          "data": {
            "text/plain": [
              "8782040861152661391"
            ]
          },
          "metadata": {},
          "execution_count": 26
        }
      ]
    },
    {
      "cell_type": "code",
      "source": [
        "class Pepito(Profesor):\n",
        "  hihi: str = \"abcd\""
      ],
      "metadata": {
        "id": "lz31BZ637adc"
      },
      "execution_count": 27,
      "outputs": []
    },
    {
      "cell_type": "code",
      "source": [
        "pepito = Pepito()\n",
        "pepito.obtener_hash_persona(profesor.id)"
      ],
      "metadata": {
        "colab": {
          "base_uri": "https://localhost:8080/"
        },
        "id": "px5oKRLR7aVE",
        "outputId": "5a274ead-e018-4431-e866-df3c464cc125"
      },
      "execution_count": 28,
      "outputs": [
        {
          "output_type": "stream",
          "name": "stdout",
          "text": [
            "NIDF\n",
            "ND\n",
            "0\n"
          ]
        },
        {
          "output_type": "execute_result",
          "data": {
            "text/plain": [
              "8782040861152661391"
            ]
          },
          "metadata": {},
          "execution_count": 28
        }
      ]
    },
    {
      "cell_type": "markdown",
      "source": [
        "## **POLIMORFISMO**\n",
        "\n",
        "El polimorfismo se basa en la herencia y la capacidad de las clases derivadas de una clase base para sobrescribir (anular) sus métodos. Esto permite que el mismo método o función pueda comportarse de manera diferente según el tipo de objeto con el que se esté trabajando, lo que aporta versatilidad y extensibilidad al código."
      ],
      "metadata": {
        "id": "xqsF9TvmeXvI"
      }
    },
    {
      "cell_type": "code",
      "source": [
        "class Animal:\n",
        "  rama: str = \"biología & taxonomía\"\n",
        "  def comunicacion(self, defecto: str = \"hablar\") -> str:\n",
        "    return defecto\n",
        "\n",
        "  def comunicacion_mala_practica(self, defecto):\n",
        "    return defecto\n",
        "\n",
        "class Perro(Animal):\n",
        "  def comunicacion(self) -> None:\n",
        "    print(\"Woof!\")\n",
        "\n",
        "class Gato(Animal):\n",
        "  def comunicacion(self) -> None:\n",
        "    print(\"Meow!\" * 10)\n",
        "\n",
        "class Humano(Animal):\n",
        "  rama: str = \"desconocida\"\n",
        "  pass"
      ],
      "metadata": {
        "id": "1g7c1lqY9X8a"
      },
      "execution_count": 30,
      "outputs": []
    },
    {
      "cell_type": "code",
      "source": [
        "# analicemos animal\n",
        "animal = Animal()\n",
        "print(type(animal.comunicacion))\n",
        "print(animal.comunicacion.__name__)\n",
        "print(animal.comunicacion.__annotations__)\n",
        "print(animal.comunicacion_mala_practica.__annotations__)\n",
        "valor = animal.comunicacion()\n",
        "funcion = animal.comunicacion\n",
        "print(valor)\n",
        "print(funcion())"
      ],
      "metadata": {
        "colab": {
          "base_uri": "https://localhost:8080/"
        },
        "id": "X505t5969X5X",
        "outputId": "dbe5b3e2-5499-45e4-844c-fc26592cd681"
      },
      "execution_count": 31,
      "outputs": [
        {
          "output_type": "stream",
          "name": "stdout",
          "text": [
            "<class 'method'>\n",
            "comunicacion\n",
            "{'defecto': <class 'str'>, 'return': <class 'str'>}\n",
            "{}\n",
            "hablar\n",
            "hablar\n"
          ]
        }
      ]
    },
    {
      "cell_type": "code",
      "source": [
        "# analicemos animal\n",
        "perro = Perro()\n",
        "print(type(perro.comunicacion))\n",
        "print(perro.comunicacion.__name__)\n",
        "print(perro.comunicacion.__annotations__)\n",
        "print(perro.comunicacion_mala_practica.__annotations__)\n",
        "valor = perro.comunicacion()\n",
        "funcion = perro.comunicacion\n",
        "print(valor)\n",
        "print(funcion())"
      ],
      "metadata": {
        "colab": {
          "base_uri": "https://localhost:8080/"
        },
        "id": "7WvQHJpo9X2e",
        "outputId": "5ccb6618-acd6-4b7f-f5a4-16e2526130ff"
      },
      "execution_count": 32,
      "outputs": [
        {
          "output_type": "stream",
          "name": "stdout",
          "text": [
            "<class 'method'>\n",
            "comunicacion\n",
            "{'return': None}\n",
            "{}\n",
            "Woof!\n",
            "None\n",
            "Woof!\n",
            "None\n"
          ]
        }
      ]
    },
    {
      "cell_type": "code",
      "source": [
        "# analicemos gato\n",
        "gato = Gato()\n",
        "gato.comunicacion()"
      ],
      "metadata": {
        "colab": {
          "base_uri": "https://localhost:8080/"
        },
        "id": "ogJhWUa59Xzu",
        "outputId": "a2f307f6-a7c5-46b2-b85a-796b2ea8a0df"
      },
      "execution_count": 33,
      "outputs": [
        {
          "output_type": "stream",
          "name": "stdout",
          "text": [
            "Meow!Meow!Meow!Meow!Meow!Meow!Meow!Meow!Meow!Meow!\n"
          ]
        }
      ]
    },
    {
      "cell_type": "code",
      "source": [
        "gato.rama"
      ],
      "metadata": {
        "colab": {
          "base_uri": "https://localhost:8080/",
          "height": 35
        },
        "id": "DfynIKCM9XxB",
        "outputId": "24e7be93-25ab-4674-a4e5-9333734487f2"
      },
      "execution_count": 34,
      "outputs": [
        {
          "output_type": "execute_result",
          "data": {
            "text/plain": [
              "'biología & taxonomía'"
            ],
            "application/vnd.google.colaboratory.intrinsic+json": {
              "type": "string"
            }
          },
          "metadata": {},
          "execution_count": 34
        }
      ]
    },
    {
      "cell_type": "code",
      "source": [
        "humano = Humano()\n",
        "print(humano.rama)\n"
      ],
      "metadata": {
        "colab": {
          "base_uri": "https://localhost:8080/"
        },
        "id": "gU8x5kKC9XuZ",
        "outputId": "057cc05a-f8c8-4c2a-e91f-8c767c411922"
      },
      "execution_count": 35,
      "outputs": [
        {
          "output_type": "stream",
          "name": "stdout",
          "text": [
            "desconocida\n"
          ]
        }
      ]
    },
    {
      "cell_type": "code",
      "source": [
        "humano.comunicacion()"
      ],
      "metadata": {
        "colab": {
          "base_uri": "https://localhost:8080/",
          "height": 35
        },
        "id": "ZvnUO6q29Xrj",
        "outputId": "9cd397ad-ac1e-405d-c0db-64de8b7ad28c"
      },
      "execution_count": 36,
      "outputs": [
        {
          "output_type": "execute_result",
          "data": {
            "text/plain": [
              "'hablar'"
            ],
            "application/vnd.google.colaboratory.intrinsic+json": {
              "type": "string"
            }
          },
          "metadata": {},
          "execution_count": 36
        }
      ]
    },
    {
      "cell_type": "code",
      "source": [
        "print(humano.comunicacion.__annotations__)"
      ],
      "metadata": {
        "colab": {
          "base_uri": "https://localhost:8080/"
        },
        "id": "ZysVMX2K9XpP",
        "outputId": "9366065e-797a-4e94-8026-609ea67068d9"
      },
      "execution_count": 37,
      "outputs": [
        {
          "output_type": "stream",
          "name": "stdout",
          "text": [
            "{'defecto': <class 'str'>, 'return': <class 'str'>}\n"
          ]
        }
      ]
    },
    {
      "cell_type": "markdown",
      "source": [
        "## **SUPER**\n",
        "\n",
        "`super()` es una función incorporada que se utiliza para llamar a métodos de la clase base o superclase. Permite acceder y ejecutar los métodos de una superclase desde una subclase, lo que es especialmente útil cuando la subclase ha sobrescrito el método de la superclase y aún se necesita acceder a la versión original del método."
      ],
      "metadata": {
        "id": "mFdOm3tRch1K"
      }
    }
  ]
}