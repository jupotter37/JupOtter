{
  "nbformat": 4,
  "nbformat_minor": 0,
  "metadata": {
    "kernelspec": {
      "display_name": "Python 3.8.1 64-bit ('azureml_py38': conda)",
      "name": "python381jvsc74a57bd017c92ebe4c347de728263208104da506711e9388d419f2667b4726047bdcfa3c"
    },
    "language_info": {
      "codemirror_mode": {
        "name": "ipython",
        "version": 3
      },
      "file_extension": ".py",
      "mimetype": "text/x-python",
      "name": "python",
      "nbconvert_exporter": "python",
      "pygments_lexer": "ipython3",
      "version": "3.8.1"
    },
    "orig_nbformat": 2,
    "colab": {
      "name": "09_networkx_visualization.ipynb",
      "provenance": []
    }
  },
  "cells": [
    {
      "cell_type": "markdown",
      "metadata": {
        "id": "WzB9UDFewHGX"
      },
      "source": [
        "# Customizing NetworkX Graphs"
      ]
    },
    {
      "cell_type": "code",
      "metadata": {
        "id": "PpqCaEihwQ5t",
        "outputId": "61280abc-50c8-407b-b0d9-bfd54f88d8da",
        "colab": {
          "base_uri": "https://localhost:8080/",
          "height": 1000
        }
      },
      "source": [
        "#%%capture\n",
        "!pip install rarecrowds\n",
        "!pip install networkx==2.5.1\n",
        "!pip install pronto==2.4.1\n",
        "!pip install plotly==4.14.3\n",
        "!pip install pydot==1.4.2"
      ],
      "execution_count": 1,
      "outputs": [
        {
          "output_type": "stream",
          "text": [
            "Collecting rarecrowds\n",
            "\u001b[?25l  Downloading https://files.pythonhosted.org/packages/d1/21/e541a05efcc5885981969d17139c45a3d100010ed6823de7b53e8ba5525d/rarecrowds-0.0.5-py3-none-any.whl (25.6MB)\n",
            "\u001b[K     |████████████████████████████████| 25.6MB 38.8MB/s \n",
            "\u001b[?25hCollecting tqdm==4.47.0\n",
            "\u001b[?25l  Downloading https://files.pythonhosted.org/packages/46/62/7663894f67ac5a41a0d8812d78d9d2a9404124051885af9d77dc526fb399/tqdm-4.47.0-py2.py3-none-any.whl (66kB)\n",
            "\u001b[K     |████████████████████████████████| 71kB 7.0MB/s \n",
            "\u001b[?25hRequirement already satisfied: networkx==2.5.1 in /usr/local/lib/python3.7/dist-packages (from rarecrowds) (2.5.1)\n",
            "Collecting protobuf==3.15.7\n",
            "\u001b[?25l  Downloading https://files.pythonhosted.org/packages/31/78/cc23cd87d4929bfc9b26a39e94608a0ae71fa61dc44902f111d8ff1be00f/protobuf-3.15.7-cp37-cp37m-manylinux1_x86_64.whl (1.0MB)\n",
            "\u001b[K     |████████████████████████████████| 1.0MB 52.0MB/s \n",
            "\u001b[?25hCollecting pronto==2.4.1\n",
            "\u001b[?25l  Downloading https://files.pythonhosted.org/packages/f6/92/bc290a3afc93107e8d2c156d9083f3f9c3a0a2a77be610fbbb496708fe76/pronto-2.4.1-py2.py3-none-any.whl (59kB)\n",
            "\u001b[K     |████████████████████████████████| 61kB 6.2MB/s \n",
            "\u001b[?25hCollecting plotly==4.14.3\n",
            "\u001b[?25l  Downloading https://files.pythonhosted.org/packages/1f/f6/bd3c17c8003b6641df1228e80e1acac97ed8402635e46c2571f8e1ef63af/plotly-4.14.3-py2.py3-none-any.whl (13.2MB)\n",
            "\u001b[K     |████████████████████████████████| 13.2MB 48.6MB/s \n",
            "\u001b[?25hCollecting pandas==1.0.5\n",
            "\u001b[?25l  Downloading https://files.pythonhosted.org/packages/af/f3/683bf2547a3eaeec15b39cef86f61e921b3b187f250fcd2b5c5fb4386369/pandas-1.0.5-cp37-cp37m-manylinux1_x86_64.whl (10.1MB)\n",
            "\u001b[K     |████████████████████████████████| 10.1MB 200kB/s \n",
            "\u001b[?25hCollecting azure-storage-blob==12.8.0\n",
            "\u001b[?25l  Downloading https://files.pythonhosted.org/packages/09/14/4ca417a9c92b0fb93516575dd7be9b058bf13d531dcc21239b5f8f216a69/azure_storage_blob-12.8.0-py2.py3-none-any.whl (341kB)\n",
            "\u001b[K     |████████████████████████████████| 348kB 43.5MB/s \n",
            "\u001b[?25hCollecting pydot==1.4.2\n",
            "  Downloading https://files.pythonhosted.org/packages/ea/76/75b1bb82e9bad3e3d656556eaa353d8cd17c4254393b08ec9786ac8ed273/pydot-1.4.2-py2.py3-none-any.whl\n",
            "Requirement already satisfied: decorator<5,>=4.3 in /usr/local/lib/python3.7/dist-packages (from networkx==2.5.1->rarecrowds) (4.4.2)\n",
            "Requirement already satisfied: six>=1.9 in /usr/local/lib/python3.7/dist-packages (from protobuf==3.15.7->rarecrowds) (1.15.0)\n",
            "Requirement already satisfied: python-dateutil~=2.8 in /usr/local/lib/python3.7/dist-packages (from pronto==2.4.1->rarecrowds) (2.8.1)\n",
            "Collecting fastobo~=0.10.0\n",
            "\u001b[?25l  Downloading https://files.pythonhosted.org/packages/9c/5d/df2925f548000483c412851926548c45d1324731c2864a02a17e8e728ac8/fastobo-0.10.1-cp37-cp37m-manylinux2010_x86_64.whl (1.6MB)\n",
            "\u001b[K     |████████████████████████████████| 1.6MB 39.3MB/s \n",
            "\u001b[?25hRequirement already satisfied: chardet~=3.0 in /usr/local/lib/python3.7/dist-packages (from pronto==2.4.1->rarecrowds) (3.0.4)\n",
            "Requirement already satisfied: retrying>=1.3.3 in /usr/local/lib/python3.7/dist-packages (from plotly==4.14.3->rarecrowds) (1.3.3)\n",
            "Requirement already satisfied: pytz>=2017.2 in /usr/local/lib/python3.7/dist-packages (from pandas==1.0.5->rarecrowds) (2018.9)\n",
            "Requirement already satisfied: numpy>=1.13.3 in /usr/local/lib/python3.7/dist-packages (from pandas==1.0.5->rarecrowds) (1.19.5)\n",
            "Collecting msrest>=0.6.18\n",
            "\u001b[?25l  Downloading https://files.pythonhosted.org/packages/e8/cc/6c96bfb3d3cf4c3bdedfa6b46503223f4c2a4fa388377697e0f8082a4fed/msrest-0.6.21-py2.py3-none-any.whl (85kB)\n",
            "\u001b[K     |████████████████████████████████| 92kB 8.6MB/s \n",
            "\u001b[?25hCollecting cryptography>=2.1.4\n",
            "\u001b[?25l  Downloading https://files.pythonhosted.org/packages/b2/26/7af637e6a7e87258b963f1731c5982fb31cd507f0d90d91836e446955d02/cryptography-3.4.7-cp36-abi3-manylinux2014_x86_64.whl (3.2MB)\n",
            "\u001b[K     |████████████████████████████████| 3.2MB 47.6MB/s \n",
            "\u001b[?25hCollecting azure-core<2.0.0,>=1.10.0\n",
            "\u001b[?25l  Downloading https://files.pythonhosted.org/packages/19/18/21cfd7faf7ab24c35689c9f199179081cee8fec44668c7f090e1db61226d/azure_core-1.13.0-py2.py3-none-any.whl (133kB)\n",
            "\u001b[K     |████████████████████████████████| 143kB 36.8MB/s \n",
            "\u001b[?25hRequirement already satisfied: pyparsing>=2.1.4 in /usr/local/lib/python3.7/dist-packages (from pydot==1.4.2->rarecrowds) (2.4.7)\n",
            "Collecting isodate>=0.6.0\n",
            "\u001b[?25l  Downloading https://files.pythonhosted.org/packages/9b/9f/b36f7774ff5ea8e428fdcfc4bb332c39ee5b9362ddd3d40d9516a55221b2/isodate-0.6.0-py2.py3-none-any.whl (45kB)\n",
            "\u001b[K     |████████████████████████████████| 51kB 3.3MB/s \n",
            "\u001b[?25hRequirement already satisfied: requests~=2.16 in /usr/local/lib/python3.7/dist-packages (from msrest>=0.6.18->azure-storage-blob==12.8.0->rarecrowds) (2.23.0)\n",
            "Requirement already satisfied: requests-oauthlib>=0.5.0 in /usr/local/lib/python3.7/dist-packages (from msrest>=0.6.18->azure-storage-blob==12.8.0->rarecrowds) (1.3.0)\n",
            "Requirement already satisfied: certifi>=2017.4.17 in /usr/local/lib/python3.7/dist-packages (from msrest>=0.6.18->azure-storage-blob==12.8.0->rarecrowds) (2020.12.5)\n",
            "Requirement already satisfied: cffi>=1.12 in /usr/local/lib/python3.7/dist-packages (from cryptography>=2.1.4->azure-storage-blob==12.8.0->rarecrowds) (1.14.5)\n",
            "Requirement already satisfied: urllib3!=1.25.0,!=1.25.1,<1.26,>=1.21.1 in /usr/local/lib/python3.7/dist-packages (from requests~=2.16->msrest>=0.6.18->azure-storage-blob==12.8.0->rarecrowds) (1.24.3)\n",
            "Requirement already satisfied: idna<3,>=2.5 in /usr/local/lib/python3.7/dist-packages (from requests~=2.16->msrest>=0.6.18->azure-storage-blob==12.8.0->rarecrowds) (2.10)\n",
            "Requirement already satisfied: oauthlib>=3.0.0 in /usr/local/lib/python3.7/dist-packages (from requests-oauthlib>=0.5.0->msrest>=0.6.18->azure-storage-blob==12.8.0->rarecrowds) (3.1.0)\n",
            "Requirement already satisfied: pycparser in /usr/local/lib/python3.7/dist-packages (from cffi>=1.12->cryptography>=2.1.4->azure-storage-blob==12.8.0->rarecrowds) (2.20)\n",
            "\u001b[31mERROR: google-colab 1.0.0 has requirement pandas~=1.1.0; python_version >= \"3.0\", but you'll have pandas 1.0.5 which is incompatible.\u001b[0m\n",
            "Installing collected packages: tqdm, protobuf, fastobo, pronto, plotly, pandas, isodate, msrest, cryptography, azure-core, azure-storage-blob, pydot, rarecrowds\n",
            "  Found existing installation: tqdm 4.41.1\n",
            "    Uninstalling tqdm-4.41.1:\n",
            "      Successfully uninstalled tqdm-4.41.1\n",
            "  Found existing installation: protobuf 3.12.4\n",
            "    Uninstalling protobuf-3.12.4:\n",
            "      Successfully uninstalled protobuf-3.12.4\n",
            "  Found existing installation: plotly 4.4.1\n",
            "    Uninstalling plotly-4.4.1:\n",
            "      Successfully uninstalled plotly-4.4.1\n",
            "  Found existing installation: pandas 1.1.5\n",
            "    Uninstalling pandas-1.1.5:\n",
            "      Successfully uninstalled pandas-1.1.5\n",
            "  Found existing installation: pydot 1.3.0\n",
            "    Uninstalling pydot-1.3.0:\n",
            "      Successfully uninstalled pydot-1.3.0\n",
            "Successfully installed azure-core-1.13.0 azure-storage-blob-12.8.0 cryptography-3.4.7 fastobo-0.10.1 isodate-0.6.0 msrest-0.6.21 pandas-1.0.5 plotly-4.14.3 pronto-2.4.1 protobuf-3.15.7 pydot-1.4.2 rarecrowds-0.0.5 tqdm-4.47.0\n"
          ],
          "name": "stdout"
        },
        {
          "output_type": "display_data",
          "data": {
            "application/vnd.colab-display-data+json": {
              "pip_warning": {
                "packages": [
                  "google",
                  "pandas"
                ]
              }
            }
          },
          "metadata": {
            "tags": []
          }
        },
        {
          "output_type": "stream",
          "text": [
            "Requirement already satisfied: networkx==2.5.1 in /usr/local/lib/python3.7/dist-packages (2.5.1)\n",
            "Requirement already satisfied: decorator<5,>=4.3 in /usr/local/lib/python3.7/dist-packages (from networkx==2.5.1) (4.4.2)\n",
            "Requirement already satisfied: pronto==2.4.1 in /usr/local/lib/python3.7/dist-packages (2.4.1)\n",
            "Requirement already satisfied: python-dateutil~=2.8 in /usr/local/lib/python3.7/dist-packages (from pronto==2.4.1) (2.8.1)\n",
            "Requirement already satisfied: fastobo~=0.10.0 in /usr/local/lib/python3.7/dist-packages (from pronto==2.4.1) (0.10.1)\n",
            "Requirement already satisfied: networkx~=2.3 in /usr/local/lib/python3.7/dist-packages (from pronto==2.4.1) (2.5.1)\n",
            "Requirement already satisfied: chardet~=3.0 in /usr/local/lib/python3.7/dist-packages (from pronto==2.4.1) (3.0.4)\n",
            "Requirement already satisfied: six>=1.5 in /usr/local/lib/python3.7/dist-packages (from python-dateutil~=2.8->pronto==2.4.1) (1.15.0)\n",
            "Requirement already satisfied: decorator<5,>=4.3 in /usr/local/lib/python3.7/dist-packages (from networkx~=2.3->pronto==2.4.1) (4.4.2)\n",
            "Requirement already satisfied: plotly==4.14.3 in /usr/local/lib/python3.7/dist-packages (4.14.3)\n",
            "Requirement already satisfied: retrying>=1.3.3 in /usr/local/lib/python3.7/dist-packages (from plotly==4.14.3) (1.3.3)\n",
            "Requirement already satisfied: six in /usr/local/lib/python3.7/dist-packages (from plotly==4.14.3) (1.15.0)\n",
            "Requirement already satisfied: pydot==1.4.2 in /usr/local/lib/python3.7/dist-packages (1.4.2)\n",
            "Requirement already satisfied: pyparsing>=2.1.4 in /usr/local/lib/python3.7/dist-packages (from pydot==1.4.2) (2.4.7)\n"
          ],
          "name": "stdout"
        }
      ]
    },
    {
      "cell_type": "code",
      "metadata": {
        "id": "X4-LuQYQwHGh"
      },
      "source": [
        "import networkx as nx\n",
        "from pronto import Ontology\n",
        "import plotly.graph_objects as go\n",
        "from rarecrowds import PatientSampler"
      ],
      "execution_count": 2,
      "outputs": []
    },
    {
      "cell_type": "code",
      "metadata": {
        "id": "GfEjj3UwwHGi",
        "outputId": "bfee07b8-1ddf-4f09-b0a7-05e0ca565948",
        "colab": {
          "base_uri": "https://localhost:8080/"
        }
      },
      "source": [
        "hp_obo_url = \"http://purl.obolibrary.org/obo/hp.obo\"\n",
        "hp = Ontology(hp_obo_url)"
      ],
      "execution_count": 3,
      "outputs": [
        {
          "output_type": "stream",
          "text": [
            "/usr/local/lib/python3.7/dist-packages/ipykernel_launcher.py:2: UnicodeWarning: unsound encoding, assuming ISO-8859-1 (73% confidence)\n",
            "  \n"
          ],
          "name": "stderr"
        }
      ]
    },
    {
      "cell_type": "code",
      "metadata": {
        "id": "waYu9ty5wHGk",
        "outputId": "446e9633-bae2-48ee-d986-5a6ae3511223",
        "colab": {
          "base_uri": "https://localhost:8080/"
        }
      },
      "source": [
        "hp[\"HP:0000077\"] # Abnormality of the kidney"
      ],
      "execution_count": 4,
      "outputs": [
        {
          "output_type": "execute_result",
          "data": {
            "text/plain": [
              "Term('HP:0000077', name='Abnormality of the kidney')"
            ]
          },
          "metadata": {
            "tags": []
          },
          "execution_count": 4
        }
      ]
    },
    {
      "cell_type": "markdown",
      "metadata": {
        "id": "GfHyBtTPwHGl"
      },
      "source": [
        "Initial 10th terms"
      ]
    },
    {
      "cell_type": "code",
      "metadata": {
        "id": "HtXdlYf-wHGl",
        "outputId": "e9904a77-9cdf-4c1a-8a58-a81d267d9594",
        "colab": {
          "base_uri": "https://localhost:8080/"
        }
      },
      "source": [
        "[term for term in hp.terms()][:10]"
      ],
      "execution_count": 5,
      "outputs": [
        {
          "output_type": "execute_result",
          "data": {
            "text/plain": [
              "[Term('HP:0000001', name='All'),\n",
              " Term('HP:0000002', name='Abnormality of body height'),\n",
              " Term('HP:0000003', name='Multicystic kidney dysplasia'),\n",
              " Term('HP:0000005', name='Mode of inheritance'),\n",
              " Term('HP:0000006', name='Autosomal dominant inheritance'),\n",
              " Term('HP:0000007', name='Autosomal recessive inheritance'),\n",
              " Term('HP:0000008', name='Abnormal morphology of female internal genitalia'),\n",
              " Term('HP:0000009', name='Functional abnormality of the bladder'),\n",
              " Term('HP:0000010', name='Recurrent urinary tract infections'),\n",
              " Term('HP:0000011', name='Neurogenic bladder')]"
            ]
          },
          "metadata": {
            "tags": []
          },
          "execution_count": 5
        }
      ]
    },
    {
      "cell_type": "markdown",
      "metadata": {
        "id": "T58ocKkywHGm"
      },
      "source": [
        "## Build the graph"
      ]
    },
    {
      "cell_type": "code",
      "metadata": {
        "id": "9-3dAvn3wHGm"
      },
      "source": [
        "def parse_comment(term):\n",
        "    return term.comment if term.comment else \"\""
      ],
      "execution_count": 6,
      "outputs": []
    },
    {
      "cell_type": "code",
      "metadata": {
        "id": "phLOq0HvwHGn"
      },
      "source": [
        "def parse_synonyms(term):\n",
        "    syns = []\n",
        "    for synom in term.synonyms:\n",
        "        syn = {\n",
        "            \"label\": synom.description,\n",
        "            \"scope\": synom.scope,\n",
        "            \"type\": synom.type.id if synom.type else None,\n",
        "            \"xrefs\": [xr.id for xr in synom.xrefs] if synom.xrefs else None,\n",
        "        }\n",
        "        syns.append(syn)\n",
        "    return syns\n"
      ],
      "execution_count": 7,
      "outputs": []
    },
    {
      "cell_type": "code",
      "metadata": {
        "id": "NEtXl5fqwHGn"
      },
      "source": [
        "def add_node(G, id, term):\n",
        "    # print(\"adding node\", id, term)\n",
        "    G.add_node(\n",
        "        id,\n",
        "        label=term.name,\n",
        "        desc=str(term.definition),\n",
        "        comment=parse_comment(term),\n",
        "        synonyms=parse_synonyms(term),\n",
        "    )\n"
      ],
      "execution_count": 8,
      "outputs": []
    },
    {
      "cell_type": "code",
      "metadata": {
        "id": "_311T6mfwHGo"
      },
      "source": [
        "def add_edge(G, term):\n",
        "    for sub in term.subclasses(1):\n",
        "        if sub.id != term.id:\n",
        "            G.add_edge(term.id, sub.id)"
      ],
      "execution_count": 9,
      "outputs": []
    },
    {
      "cell_type": "code",
      "metadata": {
        "id": "jzKR7FB1wHGo"
      },
      "source": [
        "G = nx.DiGraph()\n",
        "for id in hp:\n",
        "    term = hp[id]\n",
        "    if not term.obsolete:\n",
        "        add_node(G, id, term)\n",
        "        add_edge(G, term)\n"
      ],
      "execution_count": 10,
      "outputs": []
    },
    {
      "cell_type": "code",
      "metadata": {
        "id": "20fWrHQDwHGq",
        "outputId": "ad58a7ab-19a4-4ab1-98b4-4719da74bef4",
        "colab": {
          "base_uri": "https://localhost:8080/"
        }
      },
      "source": [
        "len(G.nodes())"
      ],
      "execution_count": 11,
      "outputs": [
        {
          "output_type": "execute_result",
          "data": {
            "text/plain": [
              "15872"
            ]
          },
          "metadata": {
            "tags": []
          },
          "execution_count": 11
        }
      ]
    },
    {
      "cell_type": "code",
      "metadata": {
        "id": "DKmQQspgwHGq",
        "outputId": "e749b27f-3539-42d2-a444-18f6e66db9a7",
        "colab": {
          "base_uri": "https://localhost:8080/"
        }
      },
      "source": [
        "G.nodes()[\"HP:0000078\"]"
      ],
      "execution_count": 12,
      "outputs": [
        {
          "output_type": "execute_result",
          "data": {
            "text/plain": [
              "{'comment': '',\n",
              " 'desc': 'An abnormality of the genital system.',\n",
              " 'label': 'Abnormality of the genital system',\n",
              " 'synonyms': [{'label': 'Genital abnormalities',\n",
              "   'scope': 'EXACT',\n",
              "   'type': 'layperson',\n",
              "   'xrefs': None},\n",
              "  {'label': 'Genital anomalies',\n",
              "   'scope': 'EXACT',\n",
              "   'type': 'layperson',\n",
              "   'xrefs': None},\n",
              "  {'label': 'Abnormality of the reproductive system',\n",
              "   'scope': 'RELATED',\n",
              "   'type': 'layperson',\n",
              "   'xrefs': None},\n",
              "  {'label': 'Genital abnormality',\n",
              "   'scope': 'EXACT',\n",
              "   'type': 'layperson',\n",
              "   'xrefs': None},\n",
              "  {'label': 'Genital defects',\n",
              "   'scope': 'EXACT',\n",
              "   'type': 'layperson',\n",
              "   'xrefs': None}]}"
            ]
          },
          "metadata": {
            "tags": []
          },
          "execution_count": 12
        }
      ]
    },
    {
      "cell_type": "code",
      "metadata": {
        "id": "wLv_rk4owHGr",
        "outputId": "e20e6285-d979-4a07-b39f-f5a050ac0143",
        "colab": {
          "base_uri": "https://localhost:8080/"
        }
      },
      "source": [
        "[edge for edge in G.edges()][:10]"
      ],
      "execution_count": 13,
      "outputs": [
        {
          "output_type": "execute_result",
          "data": {
            "text/plain": [
              "[('HP:0000001', 'HP:0000005'),\n",
              " ('HP:0000001', 'HP:0000118'),\n",
              " ('HP:0000001', 'HP:0012823'),\n",
              " ('HP:0000001', 'HP:0032223'),\n",
              " ('HP:0000001', 'HP:0032443'),\n",
              " ('HP:0000001', 'HP:0040279'),\n",
              " ('HP:0000005', 'HP:0000006'),\n",
              " ('HP:0000005', 'HP:0000007'),\n",
              " ('HP:0000005', 'HP:0001425'),\n",
              " ('HP:0000005', 'HP:0001426')]"
            ]
          },
          "metadata": {
            "tags": []
          },
          "execution_count": 13
        }
      ]
    },
    {
      "cell_type": "code",
      "metadata": {
        "id": "Nske0yiewHGr",
        "outputId": "209302e7-3c74-4475-a6aa-2bf391acf063",
        "colab": {
          "base_uri": "https://localhost:8080/"
        }
      },
      "source": [
        "[successor for successor in G.successors(\"HP:0000005\")]"
      ],
      "execution_count": 14,
      "outputs": [
        {
          "output_type": "execute_result",
          "data": {
            "text/plain": [
              "['HP:0000006',\n",
              " 'HP:0000007',\n",
              " 'HP:0001425',\n",
              " 'HP:0001426',\n",
              " 'HP:0001427',\n",
              " 'HP:0001428',\n",
              " 'HP:0001466',\n",
              " 'HP:0003743',\n",
              " 'HP:0003745',\n",
              " 'HP:0010985',\n",
              " 'HP:0032113',\n",
              " 'HP:0032382']"
            ]
          },
          "metadata": {
            "tags": []
          },
          "execution_count": 14
        }
      ]
    },
    {
      "cell_type": "code",
      "metadata": {
        "id": "seiMOyGbwHGs"
      },
      "source": [
        "def _predecessors(G, id, depth):\n",
        "    depth -= 1\n",
        "    items = set()\n",
        "    if G.has_node(id):\n",
        "        for item in G.predecessors(id):\n",
        "            items.add(item)\n",
        "            if depth != 0:\n",
        "                for it in _predecessors(G, item, depth):\n",
        "                    items.add(it)\n",
        "    return items\n",
        "\n",
        "def predecessors(G, ids, depth=1):\n",
        "    if not type(ids) is list:\n",
        "        ids = [ids]\n",
        "    items = set()\n",
        "    for id in ids:\n",
        "        for item in _predecessors(G, id, depth):\n",
        "            items.add(item)\n",
        "    res = list(items)\n",
        "    res.sort()\n",
        "    return res\n"
      ],
      "execution_count": 15,
      "outputs": []
    },
    {
      "cell_type": "code",
      "metadata": {
        "id": "n7nPEYQ4wHGs"
      },
      "source": [
        "def _successors(G, id, depth):\n",
        "    depth -= 1\n",
        "    items = set()\n",
        "    for item in G.successors(id):\n",
        "        items.add(item)\n",
        "        if depth != 0:\n",
        "            for it in _successors(G, item, depth):\n",
        "                items.add(it)\n",
        "    return items\n",
        "\n",
        "def successors(G, ids, depth=1):\n",
        "    if not type(ids) is list:\n",
        "        ids = [ids]\n",
        "    items = set()\n",
        "    for id in ids:\n",
        "        for item in _successors(G, id, depth):\n",
        "            items.add(item)\n",
        "    res = list(items)\n",
        "    res.sort()\n",
        "    return res"
      ],
      "execution_count": 16,
      "outputs": []
    },
    {
      "cell_type": "code",
      "metadata": {
        "id": "jqqAsqtAwHGt",
        "outputId": "b95ab5cc-3971-4b9e-c6f4-c8b2d8063bb4",
        "colab": {
          "base_uri": "https://localhost:8080/"
        }
      },
      "source": [
        "_successors(G, id=\"HP:0000005\", depth=1)"
      ],
      "execution_count": 17,
      "outputs": [
        {
          "output_type": "execute_result",
          "data": {
            "text/plain": [
              "{'HP:0000006',\n",
              " 'HP:0000007',\n",
              " 'HP:0001425',\n",
              " 'HP:0001426',\n",
              " 'HP:0001427',\n",
              " 'HP:0001428',\n",
              " 'HP:0001466',\n",
              " 'HP:0003743',\n",
              " 'HP:0003745',\n",
              " 'HP:0010985',\n",
              " 'HP:0032113',\n",
              " 'HP:0032382'}"
            ]
          },
          "metadata": {
            "tags": []
          },
          "execution_count": 17
        }
      ]
    },
    {
      "cell_type": "code",
      "metadata": {
        "id": "f81_uATowHGt",
        "outputId": "ac898ece-5c58-4b6f-929b-2f4b4f1b8ddd",
        "colab": {
          "base_uri": "https://localhost:8080/"
        }
      },
      "source": [
        "successors(G, ids=[\"HP:0000005\"])"
      ],
      "execution_count": 18,
      "outputs": [
        {
          "output_type": "execute_result",
          "data": {
            "text/plain": [
              "['HP:0000006',\n",
              " 'HP:0000007',\n",
              " 'HP:0001425',\n",
              " 'HP:0001426',\n",
              " 'HP:0001427',\n",
              " 'HP:0001428',\n",
              " 'HP:0001466',\n",
              " 'HP:0003743',\n",
              " 'HP:0003745',\n",
              " 'HP:0010985',\n",
              " 'HP:0032113',\n",
              " 'HP:0032382']"
            ]
          },
          "metadata": {
            "tags": []
          },
          "execution_count": 18
        }
      ]
    },
    {
      "cell_type": "code",
      "metadata": {
        "id": "McNdGaq0wHGu",
        "outputId": "015fae6e-78cf-497d-b65d-51d466a4a217",
        "colab": {
          "base_uri": "https://localhost:8080/"
        }
      },
      "source": [
        "predecessors(G, ids=[\"HP:0000005\"], depth=1)"
      ],
      "execution_count": 19,
      "outputs": [
        {
          "output_type": "execute_result",
          "data": {
            "text/plain": [
              "['HP:0000001']"
            ]
          },
          "metadata": {
            "tags": []
          },
          "execution_count": 19
        }
      ]
    },
    {
      "cell_type": "code",
      "metadata": {
        "id": "tyTgXQmqwHGu",
        "outputId": "cd4af184-8ed0-45df-d4ce-ef695ab73d29",
        "colab": {
          "base_uri": "https://localhost:8080/"
        }
      },
      "source": [
        "predecessors(G, ids=[\"HP:0000091\"], depth=10)"
      ],
      "execution_count": 20,
      "outputs": [
        {
          "output_type": "execute_result",
          "data": {
            "text/plain": [
              "['HP:0000001',\n",
              " 'HP:0000077',\n",
              " 'HP:0000079',\n",
              " 'HP:0000118',\n",
              " 'HP:0000119',\n",
              " 'HP:0010935',\n",
              " 'HP:0012210',\n",
              " 'HP:0012575']"
            ]
          },
          "metadata": {
            "tags": []
          },
          "execution_count": 20
        }
      ]
    },
    {
      "cell_type": "markdown",
      "metadata": {
        "id": "H6btub5ywHGv"
      },
      "source": [
        "## Plot Disease"
      ]
    },
    {
      "cell_type": "code",
      "metadata": {
        "id": "P5LEQl7GwHGv",
        "outputId": "2a220400-57f0-480d-be8a-6ad3d538de71",
        "colab": {
          "base_uri": "https://localhost:8080/"
        }
      },
      "source": [
        "sampler = PatientSampler()\n",
        "patients = sampler.sample(patient_params=\"default\", N=5)\n",
        "patient = patients['ORPHA:324']['cohort'][0]['phenotype']\n",
        "patient = {\"phenotype\": patient}\n",
        "patient"
      ],
      "execution_count": 21,
      "outputs": [
        {
          "output_type": "execute_result",
          "data": {
            "text/plain": [
              "{'phenotype': {'HP:0001131': {},\n",
              "  'HP:0001446': {},\n",
              "  'HP:0001510': {},\n",
              "  'HP:0001712': {},\n",
              "  'HP:0001877': {},\n",
              "  'HP:0002027': {},\n",
              "  'HP:0002637': {},\n",
              "  'HP:0003336': {},\n",
              "  'HP:0008969': {},\n",
              "  'HP:0011276': {},\n",
              "  'HP:0012211': {},\n",
              "  'HP:0012638': {},\n",
              "  'HP:0025276': {}}}"
            ]
          },
          "metadata": {
            "tags": []
          },
          "execution_count": 21
        }
      ]
    },
    {
      "cell_type": "code",
      "metadata": {
        "id": "1UeqHtHywHGv"
      },
      "source": [
        "def prepare_data(G, hpo, disease_set):\n",
        "    mapping = {n: n.replace(\":\", \"_\") for n in G.nodes}\n",
        "    G = nx.relabel_nodes(G, mapping)\n",
        "    pos = nx.drawing.nx_pydot.graphviz_layout(G, prog=\"dot\")\n",
        "    data = {\n",
        "        \"edges\": {\"x\": [], \"y\": []},\n",
        "        \"preds\": {\"x\": [], \"y\": [], \"labels\": []},\n",
        "        \"phens\": {\"x\": [], \"y\": [], \"labels\": []},\n",
        "    }\n",
        "    for edge in G.edges:\n",
        "        x0, y0 = pos[edge[0]]\n",
        "        x1, y1 = pos[edge[1]]\n",
        "        data[\"edges\"][\"x\"].append(x0)\n",
        "        data[\"edges\"][\"x\"].append(x1)\n",
        "        data[\"edges\"][\"x\"].append(None)\n",
        "        data[\"edges\"][\"y\"].append(y0)\n",
        "        data[\"edges\"][\"y\"].append(y1)\n",
        "        data[\"edges\"][\"y\"].append(None)\n",
        "    for node in G.nodes:\n",
        "        x, y = pos[node]\n",
        "        label = hpo[node.replace(\"_\", \":\")]\n",
        "        # print(\"label\", label)\n",
        "        # print(\"label\", label.id)\n",
        "        label = f\"{label.id}: {label.name}\"\n",
        "        if node.replace(\"_\", \":\") in disease_set:\n",
        "            data[\"phens\"][\"x\"].append(x)\n",
        "            data[\"phens\"][\"y\"].append(y)\n",
        "            data[\"phens\"][\"labels\"].append(label)\n",
        "        else:\n",
        "            data[\"preds\"][\"x\"].append(x)\n",
        "            data[\"preds\"][\"y\"].append(y)\n",
        "            data[\"preds\"][\"labels\"].append(label)\n",
        "    return data"
      ],
      "execution_count": 22,
      "outputs": []
    },
    {
      "cell_type": "code",
      "metadata": {
        "id": "yEUVEzWBwHGw"
      },
      "source": [
        "def scatter_edge_trace(plt_data):\n",
        "    return go.Scatter(\n",
        "        x=plt_data[\"edges\"][\"x\"],\n",
        "        y=plt_data[\"edges\"][\"y\"],\n",
        "        name=\"HPO links\",\n",
        "        line=dict(width=0.75, color=\"#888\"),\n",
        "        hoverinfo=\"none\",\n",
        "        mode=\"lines\",\n",
        "    )\n"
      ],
      "execution_count": 23,
      "outputs": []
    },
    {
      "cell_type": "code",
      "metadata": {
        "id": "m6lf7ymPwHGx"
      },
      "source": [
        "def scatter_pred_trace(plt_data):\n",
        "    return go.Scatter(\n",
        "        x=plt_data[\"preds\"][\"x\"],\n",
        "        y=plt_data[\"preds\"][\"y\"],\n",
        "        name=\"Predecessor terms\",\n",
        "        text=plt_data[\"preds\"][\"labels\"],\n",
        "        mode=\"markers\",\n",
        "        marker=dict(color=\"#888\", size=5, line_width=0),\n",
        "    )\n"
      ],
      "execution_count": 24,
      "outputs": []
    },
    {
      "cell_type": "code",
      "metadata": {
        "id": "OPBvFimpwHGx"
      },
      "source": [
        "def scatter_terms_trace(plt_data):\n",
        "    return go.Scatter(\n",
        "        x=plt_data[\"phens\"][\"x\"],\n",
        "        y=plt_data[\"phens\"][\"y\"],\n",
        "        name=\"Input terms\",\n",
        "        mode=\"markers\",\n",
        "        text=plt_data[\"phens\"][\"labels\"],\n",
        "        marker=dict(size=10, line_width=1),\n",
        "    )\n"
      ],
      "execution_count": 25,
      "outputs": []
    },
    {
      "cell_type": "code",
      "metadata": {
        "id": "k6a-CUn_wHGy"
      },
      "source": [
        "def get_title(disease):\n",
        "    name = disease.get(\"name\")\n",
        "    code = disease.get(\"id\")\n",
        "    title = \"HPO comparison\"\n",
        "    if name or code:\n",
        "        if name:\n",
        "            title += f\" of a {name} patient\"\n",
        "        if code:\n",
        "            if \"orpha\" in code.lower():\n",
        "                link = \"http://www.orpha.net/consor/cgi-bin/OC_Exp.php?lng=en&Expert=\"\n",
        "                link += code.split(\":\")[1]\n",
        "            elif \"omim\" in code.lower():\n",
        "                link = \"https://www.omim.org/entry/\"\n",
        "                link += code.split(\":\")[1]\n",
        "            elif \"mondo\" in code.lower():\n",
        "                link = \"https://monarchinitiative.org/disease/\"\n",
        "                link += code.upper()\n",
        "            title += f\" <a href='{link}'>({code})</a>\"\n",
        "    return title\n"
      ],
      "execution_count": 26,
      "outputs": []
    },
    {
      "cell_type": "code",
      "metadata": {
        "id": "sURMDpI-wHGy"
      },
      "source": [
        "def get_figure_object(plt_data):\n",
        "    edge_trace = scatter_edge_trace(plt_data)\n",
        "    pred_trace = scatter_pred_trace(plt_data)\n",
        "    terms_trace = scatter_terms_trace(plt_data)\n",
        "\n",
        "    return go.Figure(\n",
        "        data=[edge_trace, pred_trace, terms_trace],\n",
        "        layout=go.Layout(\n",
        "            width=1000,\n",
        "            height=600,\n",
        "            showlegend=True,\n",
        "            hovermode=\"closest\",\n",
        "            margin=dict(b=20, l=5, r=5, t=40),\n",
        "            xaxis=dict(showgrid=False, zeroline=False, showticklabels=False),\n",
        "            yaxis=dict(showgrid=False, zeroline=False, showticklabels=False),\n",
        "        ),\n",
        "    )\n"
      ],
      "execution_count": 27,
      "outputs": []
    },
    {
      "cell_type": "code",
      "metadata": {
        "id": "ZdaA7pXswHGz"
      },
      "source": [
        "def plot_disease(G, patient, disease, name: str = \"\", code: str = \"\"):\n",
        "    patient_set = set(patient[\"phenotype\"])\n",
        "    patient_list = list(patient_set)\n",
        "    hpo_set = set(predecessors(G, patient_list, 1000))\n",
        "    hpo_set = patient_set.union(hpo_set)\n",
        "    try:\n",
        "        hpo_set.remove(\"HP:0000001\")\n",
        "    except:\n",
        "        pass\n",
        "    G = G.subgraph(list(hpo_set))\n",
        "\n",
        "    plt_data = prepare_data(G, hp, patient_set)\n",
        "    \n",
        "    fig = get_figure_object(plt_data)\n",
        "    title = get_title(disease)\n",
        "    fig.update_layout(title=title, titlefont_size=14)\n",
        "    fig.show()\n",
        "    return fig\n"
      ],
      "execution_count": 28,
      "outputs": []
    },
    {
      "cell_type": "code",
      "metadata": {
        "id": "H3vwg-3vwHGz",
        "outputId": "5f222405-2c09-4604-d299-530220ecf0c4",
        "colab": {
          "base_uri": "https://localhost:8080/",
          "height": 1000
        }
      },
      "source": [
        "disease = {  # This entry may also be a list of HPO terms.\n",
        "    \"name\": patients[\"ORPHA:324\"][\"name\"],\n",
        "    \"id\": patients[\"ORPHA:324\"][\"id\"],\n",
        "    \"phenotype\": patients[\"ORPHA:324\"][\"phenotype\"],\n",
        "}\n",
        "\n",
        "plot_disease(G, patient, disease)"
      ],
      "execution_count": 29,
      "outputs": [
        {
          "output_type": "display_data",
          "data": {
            "text/html": [
              "<html>\n",
              "<head><meta charset=\"utf-8\" /></head>\n",
              "<body>\n",
              "    <div>            <script src=\"https://cdnjs.cloudflare.com/ajax/libs/mathjax/2.7.5/MathJax.js?config=TeX-AMS-MML_SVG\"></script><script type=\"text/javascript\">if (window.MathJax) {MathJax.Hub.Config({SVG: {font: \"STIX-Web\"}});}</script>                <script type=\"text/javascript\">window.PlotlyConfig = {MathJaxConfig: 'local'};</script>\n",
              "        <script src=\"https://cdn.plot.ly/plotly-latest.min.js\"></script>                <div id=\"c90162d5-b210-40f3-b9c3-ee51073ff560\" class=\"plotly-graph-div\" style=\"height:600px; width:1000px;\"></div>            <script type=\"text/javascript\">                                    window.PLOTLYENV=window.PLOTLYENV || {};                                    if (document.getElementById(\"c90162d5-b210-40f3-b9c3-ee51073ff560\")) {                    Plotly.newPlot(                        \"c90162d5-b210-40f3-b9c3-ee51073ff560\",                        [{\"hoverinfo\": \"none\", \"line\": {\"color\": \"#888\", \"width\": 0.75}, \"mode\": \"lines\", \"name\": \"HPO links\", \"type\": \"scatter\", \"x\": [176.78, 176.78, null, 2000.8, 2062.8, null, 182.78, 176.78, null, 869.78, 792.78, null, 1749.8, 2000.8, null, 176.78, 176.78, null, 3092.8, 3183.8, null, 2696.8, 2696.8, null, 200.78, 182.78, null, 398.78, 399.78, null, 2696.8, 2696.8, null, 1549.8, 1749.8, null, 1549.8, 2127.8, null, 784.78, 534.78, null, 3183.8, 3183.8, null, 1155.8, 1155.8, null, 1155.8, 1682.8, null, 1449.8, 1475.8, null, 1449.8, 1745.8, null, 1449.8, 1155.8, null, 1155.8, 1011.8, null, 1527.8, 1549.8, null, 792.78, 594.78, null, 485.78, 398.78, null, 594.78, 594.78, null, 3658.8, 3637.8, null, 1156.8, 1155.8, null, 3183.8, 3183.8, null, 3637.8, 3594.8, null, 534.78, 534.78, null, 1136.8, 869.78, null, 1136.8, 1157.8, null, 1850.8, 1860.8, null, 3413.8, 3513.8, null, 3413.8, 3183.8, null, 838.78, 853.78, null, 3183.8, 3183.8, null, 2696.8, 2869.8, null, 2696.8, 2605.8, null, 2127.8, 2062.8, null, 2605.8, 2737.8, null, 594.78, 594.78, null, 2869.8, 2737.8, null, 2203.8, 2193.8, null, 2501.8, 2415.8, null, 3658.8, 3658.8, null, 3658.8, 3937.8, null, 1527.8, 1527.8, null, 1527.8, 200.78, null, 1527.8, 1850.8, null, 1527.8, 2501.8, null, 1527.8, 3658.8, null, 1527.8, 2937.8, null, 1527.8, 2203.8, null, 1527.8, 784.78, null, 1527.8, 485.78, null, 1527.8, 1136.8, null, 1527.8, 1449.8, null, 853.78, 1011.8, null, 1745.8, 1682.8, null, 3594.8, 3513.8, null, 1157.8, 838.78, null, 1157.8, 1156.8, null, 2937.8, 3413.8, null, 2937.8, 3092.8, null, 2937.8, 2696.8, null, 534.78, 399.78, null, 1475.8, 1155.8, null], \"y\": [234.0, 162.0, null, 162.0, 90.0, null, 306.0, 234.0, null, 306.0, 234.0, null, 234.0, 162.0, null, 162.0, 90.0, null, 306.0, 234.0, null, 306.0, 234.0, null, 378.0, 306.0, null, 234.0, 162.0, null, 234.0, 162.0, null, 306.0, 234.0, null, 306.0, 234.0, null, 378.0, 306.0, null, 90.0, 18.0, null, 162.0, 90.0, null, 162.0, 90.0, null, 234.0, 162.0, null, 234.0, 162.0, null, 234.0, 162.0, null, 90.0, 18.0, null, 378.0, 306.0, null, 234.0, 162.0, null, 378.0, 234.0, null, 90.0, 18.0, null, 306.0, 234.0, null, 234.0, 162.0, null, 162.0, 90.0, null, 234.0, 162.0, null, 306.0, 234.0, null, 378.0, 306.0, null, 378.0, 306.0, null, 378.0, 306.0, null, 306.0, 90.0, null, 306.0, 234.0, null, 162.0, 90.0, null, 234.0, 162.0, null, 162.0, 90.0, null, 162.0, 90.0, null, 234.0, 90.0, null, 90.0, 18.0, null, 162.0, 90.0, null, 90.0, 18.0, null, 378.0, 306.0, null, 378.0, 306.0, null, 378.0, 306.0, null, 378.0, 306.0, null, 450.0, 378.0, null, 450.0, 378.0, null, 450.0, 378.0, null, 450.0, 378.0, null, 450.0, 378.0, null, 450.0, 378.0, null, 450.0, 378.0, null, 450.0, 378.0, null, 450.0, 378.0, null, 450.0, 378.0, null, 450.0, 234.0, null, 90.0, 18.0, null, 162.0, 90.0, null, 162.0, 90.0, null, 306.0, 162.0, null, 306.0, 234.0, null, 378.0, 306.0, null, 378.0, 306.0, null, 378.0, 306.0, null, 234.0, 162.0, null, 162.0, 90.0, null]}, {\"marker\": {\"color\": \"#888\", \"line\": {\"width\": 0}, \"size\": 5}, \"mode\": \"markers\", \"name\": \"Predecessor terms\", \"text\": [\"HP:0004328: Abnormal anterior eye segment morphology\", \"HP:0000077: Abnormality of the kidney\", \"HP:0012372: Abnormal eye morphology\", \"HP:0000924: Abnormality of the skeletal system\", \"HP:0010935: Abnormality of the upper urinary tract\", \"HP:0000481: Abnormal cornea morphology\", \"HP:0011025: Abnormal cardiovascular system physiology\", \"HP:0030680: Abnormality of cardiovascular system morphology\", \"HP:0000478: Abnormality of the eye\", \"HP:0012531: Pain\", \"HP:0001627: Abnormal heart morphology\", \"HP:0000079: Abnormality of the urinary system\", \"HP:0025031: Abnormality of the digestive system\", \"HP:0033401: Tissue ischemia\", \"HP:0009127: Abnormality of the musculature of the limbs\", \"HP:0040064: Abnormality of limbs\", \"HP:0001437: Abnormality of the musculature of the lower limbs\", \"HP:0000119: Abnormality of the genitourinary system\", \"HP:0011842: Abnormality of skeletal morphology\", \"HP:0025142: Constitutional symptom\", \"HP:0011849: Abnormal bone ossification\", \"HP:0000951: Abnormality of the skin\", \"HP:0011805: Abnormal skeletal muscle morphology\", \"HP:0025323: Abnormal arterial physiology\", \"HP:0011121: Abnormality of skin morphology\", \"HP:0025032: Abnormality of digestive system physiology\", \"HP:0033127: Abnormality of the musculoskeletal system\", \"HP:0000707: Abnormality of the nervous system\", \"HP:0002597: Abnormality of the vasculature\", \"HP:0011804: Abnormal muscle physiology\", \"HP:0030163: Abnormal vascular physiology\", \"HP:0001713: Abnormal cardiac ventricle morphology\", \"HP:0011277: Abnormality of the urinary system physiology\", \"HP:0001714: Ventricular hypertrophy\", \"HP:0003330: Abnormal bone structure\", \"HP:0001711: Abnormal left ventricle morphology\", \"HP:0001871: Abnormality of blood and blood-forming tissues\", \"HP:0001507: Growth abnormality\", \"HP:0001574: Abnormality of the integument\", \"HP:0000118: Phenotypic abnormality\", \"HP:0003552: Muscle stiffness\", \"HP:0002817: Abnormality of the upper limb\", \"HP:0011354: Generalized abnormality of skin\", \"HP:0003011: Abnormality of the musculature\", \"HP:0001626: Abnormality of the cardiovascular system\", \"HP:0011458: Abdominal symptom\", \"HP:0002814: Abnormality of the lower limb\"], \"type\": \"scatter\", \"x\": [176.78, 2000.8, 182.78, 869.78, 1749.8, 176.78, 3092.8, 2696.8, 200.78, 398.78, 2696.8, 1549.8, 784.78, 3183.8, 1155.8, 1449.8, 1155.8, 1527.8, 792.78, 485.78, 594.78, 3658.8, 1156.8, 3183.8, 3637.8, 534.78, 1136.8, 1850.8, 3413.8, 838.78, 3183.8, 2696.8, 2127.8, 2605.8, 594.78, 2869.8, 2203.8, 2501.8, 3658.8, 1527.8, 853.78, 1745.8, 3594.8, 1157.8, 2937.8, 534.78, 1475.8], \"y\": [234.0, 162.0, 306.0, 306.0, 234.0, 162.0, 306.0, 306.0, 378.0, 234.0, 234.0, 306.0, 378.0, 90.0, 162.0, 234.0, 90.0, 378.0, 234.0, 378.0, 90.0, 306.0, 234.0, 162.0, 234.0, 306.0, 378.0, 378.0, 306.0, 162.0, 234.0, 162.0, 234.0, 90.0, 162.0, 90.0, 378.0, 378.0, 378.0, 450.0, 90.0, 162.0, 162.0, 306.0, 378.0, 234.0, 162.0]}, {\"marker\": {\"line\": {\"width\": 1}, \"size\": 10}, \"mode\": \"markers\", \"name\": \"Input terms\", \"text\": [\"HP:0002027: Abdominal pain\", \"HP:0003336: Abnormal enchondral ossification\", \"HP:0001712: Left ventricular hypertrophy\", \"HP:0001446: Abnormality of the musculature of the upper limbs\", \"HP:0002637: Cerebral ischemia\", \"HP:0025276: Abnormality of skin adnexa physiology\", \"HP:0001510: Growth delay\", \"HP:0001131: Corneal dystrophy\", \"HP:0011276: Vascular skin abnormality\", \"HP:0012638: Abnormal nervous system physiology\", \"HP:0008969: Leg muscle stiffness\", \"HP:0001877: Abnormal erythrocyte morphology\", \"HP:0012211: Abnormal renal physiology\"], \"type\": \"scatter\", \"x\": [399.78, 594.78, 2737.8, 1682.8, 3183.8, 3937.8, 2415.8, 176.78, 3513.8, 1860.8, 1011.8, 2193.8, 2062.8], \"y\": [162.0, 18.0, 18.0, 90.0, 18.0, 306.0, 306.0, 90.0, 90.0, 306.0, 18.0, 306.0, 90.0]}],                        {\"height\": 600, \"hovermode\": \"closest\", \"margin\": {\"b\": 20, \"l\": 5, \"r\": 5, \"t\": 40}, \"showlegend\": true, \"template\": {\"data\": {\"bar\": [{\"error_x\": {\"color\": \"#2a3f5f\"}, \"error_y\": {\"color\": \"#2a3f5f\"}, \"marker\": {\"line\": {\"color\": \"#E5ECF6\", \"width\": 0.5}}, \"type\": \"bar\"}], \"barpolar\": [{\"marker\": {\"line\": {\"color\": \"#E5ECF6\", \"width\": 0.5}}, \"type\": \"barpolar\"}], \"carpet\": [{\"aaxis\": {\"endlinecolor\": \"#2a3f5f\", \"gridcolor\": \"white\", \"linecolor\": \"white\", \"minorgridcolor\": \"white\", \"startlinecolor\": \"#2a3f5f\"}, \"baxis\": {\"endlinecolor\": \"#2a3f5f\", \"gridcolor\": \"white\", \"linecolor\": \"white\", \"minorgridcolor\": \"white\", \"startlinecolor\": \"#2a3f5f\"}, \"type\": \"carpet\"}], \"choropleth\": [{\"colorbar\": {\"outlinewidth\": 0, \"ticks\": \"\"}, \"type\": \"choropleth\"}], \"contour\": [{\"colorbar\": {\"outlinewidth\": 0, \"ticks\": \"\"}, \"colorscale\": [[0.0, \"#0d0887\"], [0.1111111111111111, \"#46039f\"], [0.2222222222222222, \"#7201a8\"], [0.3333333333333333, \"#9c179e\"], [0.4444444444444444, \"#bd3786\"], [0.5555555555555556, \"#d8576b\"], [0.6666666666666666, \"#ed7953\"], [0.7777777777777778, \"#fb9f3a\"], [0.8888888888888888, \"#fdca26\"], [1.0, \"#f0f921\"]], \"type\": \"contour\"}], \"contourcarpet\": [{\"colorbar\": {\"outlinewidth\": 0, \"ticks\": \"\"}, \"type\": \"contourcarpet\"}], \"heatmap\": [{\"colorbar\": {\"outlinewidth\": 0, \"ticks\": \"\"}, \"colorscale\": [[0.0, \"#0d0887\"], [0.1111111111111111, \"#46039f\"], [0.2222222222222222, \"#7201a8\"], [0.3333333333333333, \"#9c179e\"], [0.4444444444444444, \"#bd3786\"], [0.5555555555555556, \"#d8576b\"], [0.6666666666666666, \"#ed7953\"], [0.7777777777777778, \"#fb9f3a\"], [0.8888888888888888, \"#fdca26\"], [1.0, \"#f0f921\"]], \"type\": \"heatmap\"}], \"heatmapgl\": [{\"colorbar\": {\"outlinewidth\": 0, \"ticks\": \"\"}, \"colorscale\": [[0.0, \"#0d0887\"], [0.1111111111111111, \"#46039f\"], [0.2222222222222222, \"#7201a8\"], [0.3333333333333333, \"#9c179e\"], [0.4444444444444444, \"#bd3786\"], [0.5555555555555556, \"#d8576b\"], [0.6666666666666666, \"#ed7953\"], [0.7777777777777778, \"#fb9f3a\"], [0.8888888888888888, \"#fdca26\"], [1.0, \"#f0f921\"]], \"type\": \"heatmapgl\"}], \"histogram\": [{\"marker\": {\"colorbar\": {\"outlinewidth\": 0, \"ticks\": \"\"}}, \"type\": \"histogram\"}], \"histogram2d\": [{\"colorbar\": {\"outlinewidth\": 0, \"ticks\": \"\"}, \"colorscale\": [[0.0, \"#0d0887\"], [0.1111111111111111, \"#46039f\"], [0.2222222222222222, \"#7201a8\"], [0.3333333333333333, \"#9c179e\"], [0.4444444444444444, \"#bd3786\"], [0.5555555555555556, \"#d8576b\"], [0.6666666666666666, \"#ed7953\"], [0.7777777777777778, \"#fb9f3a\"], [0.8888888888888888, \"#fdca26\"], [1.0, \"#f0f921\"]], \"type\": \"histogram2d\"}], \"histogram2dcontour\": [{\"colorbar\": {\"outlinewidth\": 0, \"ticks\": \"\"}, \"colorscale\": [[0.0, \"#0d0887\"], [0.1111111111111111, \"#46039f\"], [0.2222222222222222, \"#7201a8\"], [0.3333333333333333, \"#9c179e\"], [0.4444444444444444, \"#bd3786\"], [0.5555555555555556, \"#d8576b\"], [0.6666666666666666, \"#ed7953\"], [0.7777777777777778, \"#fb9f3a\"], [0.8888888888888888, \"#fdca26\"], [1.0, \"#f0f921\"]], \"type\": \"histogram2dcontour\"}], \"mesh3d\": [{\"colorbar\": {\"outlinewidth\": 0, \"ticks\": \"\"}, \"type\": \"mesh3d\"}], \"parcoords\": [{\"line\": {\"colorbar\": {\"outlinewidth\": 0, \"ticks\": \"\"}}, \"type\": \"parcoords\"}], \"pie\": [{\"automargin\": true, \"type\": \"pie\"}], \"scatter\": [{\"marker\": {\"colorbar\": {\"outlinewidth\": 0, \"ticks\": \"\"}}, \"type\": \"scatter\"}], \"scatter3d\": [{\"line\": {\"colorbar\": {\"outlinewidth\": 0, \"ticks\": \"\"}}, \"marker\": {\"colorbar\": {\"outlinewidth\": 0, \"ticks\": \"\"}}, \"type\": \"scatter3d\"}], \"scattercarpet\": [{\"marker\": {\"colorbar\": {\"outlinewidth\": 0, \"ticks\": \"\"}}, \"type\": \"scattercarpet\"}], \"scattergeo\": [{\"marker\": {\"colorbar\": {\"outlinewidth\": 0, \"ticks\": \"\"}}, \"type\": \"scattergeo\"}], \"scattergl\": [{\"marker\": {\"colorbar\": {\"outlinewidth\": 0, \"ticks\": \"\"}}, \"type\": \"scattergl\"}], \"scattermapbox\": [{\"marker\": {\"colorbar\": {\"outlinewidth\": 0, \"ticks\": \"\"}}, \"type\": \"scattermapbox\"}], \"scatterpolar\": [{\"marker\": {\"colorbar\": {\"outlinewidth\": 0, \"ticks\": \"\"}}, \"type\": \"scatterpolar\"}], \"scatterpolargl\": [{\"marker\": {\"colorbar\": {\"outlinewidth\": 0, \"ticks\": \"\"}}, \"type\": \"scatterpolargl\"}], \"scatterternary\": [{\"marker\": {\"colorbar\": {\"outlinewidth\": 0, \"ticks\": \"\"}}, \"type\": \"scatterternary\"}], \"surface\": [{\"colorbar\": {\"outlinewidth\": 0, \"ticks\": \"\"}, \"colorscale\": [[0.0, \"#0d0887\"], [0.1111111111111111, \"#46039f\"], [0.2222222222222222, \"#7201a8\"], [0.3333333333333333, \"#9c179e\"], [0.4444444444444444, \"#bd3786\"], [0.5555555555555556, \"#d8576b\"], [0.6666666666666666, \"#ed7953\"], [0.7777777777777778, \"#fb9f3a\"], [0.8888888888888888, \"#fdca26\"], [1.0, \"#f0f921\"]], \"type\": \"surface\"}], \"table\": [{\"cells\": {\"fill\": {\"color\": \"#EBF0F8\"}, \"line\": {\"color\": \"white\"}}, \"header\": {\"fill\": {\"color\": \"#C8D4E3\"}, \"line\": {\"color\": \"white\"}}, \"type\": \"table\"}]}, \"layout\": {\"annotationdefaults\": {\"arrowcolor\": \"#2a3f5f\", \"arrowhead\": 0, \"arrowwidth\": 1}, \"autotypenumbers\": \"strict\", \"coloraxis\": {\"colorbar\": {\"outlinewidth\": 0, \"ticks\": \"\"}}, \"colorscale\": {\"diverging\": [[0, \"#8e0152\"], [0.1, \"#c51b7d\"], [0.2, \"#de77ae\"], [0.3, \"#f1b6da\"], [0.4, \"#fde0ef\"], [0.5, \"#f7f7f7\"], [0.6, \"#e6f5d0\"], [0.7, \"#b8e186\"], [0.8, \"#7fbc41\"], [0.9, \"#4d9221\"], [1, \"#276419\"]], \"sequential\": [[0.0, \"#0d0887\"], [0.1111111111111111, \"#46039f\"], [0.2222222222222222, \"#7201a8\"], [0.3333333333333333, \"#9c179e\"], [0.4444444444444444, \"#bd3786\"], [0.5555555555555556, \"#d8576b\"], [0.6666666666666666, \"#ed7953\"], [0.7777777777777778, \"#fb9f3a\"], [0.8888888888888888, \"#fdca26\"], [1.0, \"#f0f921\"]], \"sequentialminus\": [[0.0, \"#0d0887\"], [0.1111111111111111, \"#46039f\"], [0.2222222222222222, \"#7201a8\"], [0.3333333333333333, \"#9c179e\"], [0.4444444444444444, \"#bd3786\"], [0.5555555555555556, \"#d8576b\"], [0.6666666666666666, \"#ed7953\"], [0.7777777777777778, \"#fb9f3a\"], [0.8888888888888888, \"#fdca26\"], [1.0, \"#f0f921\"]]}, \"colorway\": [\"#636efa\", \"#EF553B\", \"#00cc96\", \"#ab63fa\", \"#FFA15A\", \"#19d3f3\", \"#FF6692\", \"#B6E880\", \"#FF97FF\", \"#FECB52\"], \"font\": {\"color\": \"#2a3f5f\"}, \"geo\": {\"bgcolor\": \"white\", \"lakecolor\": \"white\", \"landcolor\": \"#E5ECF6\", \"showlakes\": true, \"showland\": true, \"subunitcolor\": \"white\"}, \"hoverlabel\": {\"align\": \"left\"}, \"hovermode\": \"closest\", \"mapbox\": {\"style\": \"light\"}, \"paper_bgcolor\": \"white\", \"plot_bgcolor\": \"#E5ECF6\", \"polar\": {\"angularaxis\": {\"gridcolor\": \"white\", \"linecolor\": \"white\", \"ticks\": \"\"}, \"bgcolor\": \"#E5ECF6\", \"radialaxis\": {\"gridcolor\": \"white\", \"linecolor\": \"white\", \"ticks\": \"\"}}, \"scene\": {\"xaxis\": {\"backgroundcolor\": \"#E5ECF6\", \"gridcolor\": \"white\", \"gridwidth\": 2, \"linecolor\": \"white\", \"showbackground\": true, \"ticks\": \"\", \"zerolinecolor\": \"white\"}, \"yaxis\": {\"backgroundcolor\": \"#E5ECF6\", \"gridcolor\": \"white\", \"gridwidth\": 2, \"linecolor\": \"white\", \"showbackground\": true, \"ticks\": \"\", \"zerolinecolor\": \"white\"}, \"zaxis\": {\"backgroundcolor\": \"#E5ECF6\", \"gridcolor\": \"white\", \"gridwidth\": 2, \"linecolor\": \"white\", \"showbackground\": true, \"ticks\": \"\", \"zerolinecolor\": \"white\"}}, \"shapedefaults\": {\"line\": {\"color\": \"#2a3f5f\"}}, \"ternary\": {\"aaxis\": {\"gridcolor\": \"white\", \"linecolor\": \"white\", \"ticks\": \"\"}, \"baxis\": {\"gridcolor\": \"white\", \"linecolor\": \"white\", \"ticks\": \"\"}, \"bgcolor\": \"#E5ECF6\", \"caxis\": {\"gridcolor\": \"white\", \"linecolor\": \"white\", \"ticks\": \"\"}}, \"title\": {\"x\": 0.05}, \"xaxis\": {\"automargin\": true, \"gridcolor\": \"white\", \"linecolor\": \"white\", \"ticks\": \"\", \"title\": {\"standoff\": 15}, \"zerolinecolor\": \"white\", \"zerolinewidth\": 2}, \"yaxis\": {\"automargin\": true, \"gridcolor\": \"white\", \"linecolor\": \"white\", \"ticks\": \"\", \"title\": {\"standoff\": 15}, \"zerolinecolor\": \"white\", \"zerolinewidth\": 2}}}, \"title\": {\"font\": {\"size\": 14}, \"text\": \"HPO comparison of a Fabry disease patient <a href='http://www.orpha.net/consor/cgi-bin/OC_Exp.php?lng=en&Expert=324'>(ORPHA:324)</a>\"}, \"width\": 1000, \"xaxis\": {\"showgrid\": false, \"showticklabels\": false, \"zeroline\": false}, \"yaxis\": {\"showgrid\": false, \"showticklabels\": false, \"zeroline\": false}},                        {\"responsive\": true}                    ).then(function(){\n",
              "                            \n",
              "var gd = document.getElementById('c90162d5-b210-40f3-b9c3-ee51073ff560');\n",
              "var x = new MutationObserver(function (mutations, observer) {{\n",
              "        var display = window.getComputedStyle(gd).display;\n",
              "        if (!display || display === 'none') {{\n",
              "            console.log([gd, 'removed!']);\n",
              "            Plotly.purge(gd);\n",
              "            observer.disconnect();\n",
              "        }}\n",
              "}});\n",
              "\n",
              "// Listen for the removal of the full notebook cells\n",
              "var notebookContainer = gd.closest('#notebook-container');\n",
              "if (notebookContainer) {{\n",
              "    x.observe(notebookContainer, {childList: true});\n",
              "}}\n",
              "\n",
              "// Listen for the clearing of the current output cell\n",
              "var outputEl = gd.closest('.output');\n",
              "if (outputEl) {{\n",
              "    x.observe(outputEl, {childList: true});\n",
              "}}\n",
              "\n",
              "                        })                };                            </script>        </div>\n",
              "</body>\n",
              "</html>"
            ]
          },
          "metadata": {
            "tags": []
          }
        },
        {
          "output_type": "display_data",
          "data": {
            "text/html": [
              "<html>\n",
              "<head><meta charset=\"utf-8\" /></head>\n",
              "<body>\n",
              "    <div>            <script src=\"https://cdnjs.cloudflare.com/ajax/libs/mathjax/2.7.5/MathJax.js?config=TeX-AMS-MML_SVG\"></script><script type=\"text/javascript\">if (window.MathJax) {MathJax.Hub.Config({SVG: {font: \"STIX-Web\"}});}</script>                <script type=\"text/javascript\">window.PlotlyConfig = {MathJaxConfig: 'local'};</script>\n",
              "        <script src=\"https://cdn.plot.ly/plotly-latest.min.js\"></script>                <div id=\"27d3bee5-fdc8-4c1d-9ce1-563d0d831575\" class=\"plotly-graph-div\" style=\"height:600px; width:1000px;\"></div>            <script type=\"text/javascript\">                                    window.PLOTLYENV=window.PLOTLYENV || {};                                    if (document.getElementById(\"27d3bee5-fdc8-4c1d-9ce1-563d0d831575\")) {                    Plotly.newPlot(                        \"27d3bee5-fdc8-4c1d-9ce1-563d0d831575\",                        [{\"hoverinfo\": \"none\", \"line\": {\"color\": \"#888\", \"width\": 0.75}, \"mode\": \"lines\", \"name\": \"HPO links\", \"type\": \"scatter\", \"x\": [176.78, 176.78, null, 2000.8, 2062.8, null, 182.78, 176.78, null, 869.78, 792.78, null, 1749.8, 2000.8, null, 176.78, 176.78, null, 3092.8, 3183.8, null, 2696.8, 2696.8, null, 200.78, 182.78, null, 398.78, 399.78, null, 2696.8, 2696.8, null, 1549.8, 1749.8, null, 1549.8, 2127.8, null, 784.78, 534.78, null, 3183.8, 3183.8, null, 1155.8, 1155.8, null, 1155.8, 1682.8, null, 1449.8, 1475.8, null, 1449.8, 1745.8, null, 1449.8, 1155.8, null, 1155.8, 1011.8, null, 1527.8, 1549.8, null, 792.78, 594.78, null, 485.78, 398.78, null, 594.78, 594.78, null, 3658.8, 3637.8, null, 1156.8, 1155.8, null, 3183.8, 3183.8, null, 3637.8, 3594.8, null, 534.78, 534.78, null, 1136.8, 869.78, null, 1136.8, 1157.8, null, 1850.8, 1860.8, null, 3413.8, 3513.8, null, 3413.8, 3183.8, null, 838.78, 853.78, null, 3183.8, 3183.8, null, 2696.8, 2869.8, null, 2696.8, 2605.8, null, 2127.8, 2062.8, null, 2605.8, 2737.8, null, 594.78, 594.78, null, 2869.8, 2737.8, null, 2203.8, 2193.8, null, 2501.8, 2415.8, null, 3658.8, 3658.8, null, 3658.8, 3937.8, null, 1527.8, 1527.8, null, 1527.8, 200.78, null, 1527.8, 1850.8, null, 1527.8, 2501.8, null, 1527.8, 3658.8, null, 1527.8, 2937.8, null, 1527.8, 2203.8, null, 1527.8, 784.78, null, 1527.8, 485.78, null, 1527.8, 1136.8, null, 1527.8, 1449.8, null, 853.78, 1011.8, null, 1745.8, 1682.8, null, 3594.8, 3513.8, null, 1157.8, 838.78, null, 1157.8, 1156.8, null, 2937.8, 3413.8, null, 2937.8, 3092.8, null, 2937.8, 2696.8, null, 534.78, 399.78, null, 1475.8, 1155.8, null], \"y\": [234.0, 162.0, null, 162.0, 90.0, null, 306.0, 234.0, null, 306.0, 234.0, null, 234.0, 162.0, null, 162.0, 90.0, null, 306.0, 234.0, null, 306.0, 234.0, null, 378.0, 306.0, null, 234.0, 162.0, null, 234.0, 162.0, null, 306.0, 234.0, null, 306.0, 234.0, null, 378.0, 306.0, null, 90.0, 18.0, null, 162.0, 90.0, null, 162.0, 90.0, null, 234.0, 162.0, null, 234.0, 162.0, null, 234.0, 162.0, null, 90.0, 18.0, null, 378.0, 306.0, null, 234.0, 162.0, null, 378.0, 234.0, null, 90.0, 18.0, null, 306.0, 234.0, null, 234.0, 162.0, null, 162.0, 90.0, null, 234.0, 162.0, null, 306.0, 234.0, null, 378.0, 306.0, null, 378.0, 306.0, null, 378.0, 306.0, null, 306.0, 90.0, null, 306.0, 234.0, null, 162.0, 90.0, null, 234.0, 162.0, null, 162.0, 90.0, null, 162.0, 90.0, null, 234.0, 90.0, null, 90.0, 18.0, null, 162.0, 90.0, null, 90.0, 18.0, null, 378.0, 306.0, null, 378.0, 306.0, null, 378.0, 306.0, null, 378.0, 306.0, null, 450.0, 378.0, null, 450.0, 378.0, null, 450.0, 378.0, null, 450.0, 378.0, null, 450.0, 378.0, null, 450.0, 378.0, null, 450.0, 378.0, null, 450.0, 378.0, null, 450.0, 378.0, null, 450.0, 378.0, null, 450.0, 234.0, null, 90.0, 18.0, null, 162.0, 90.0, null, 162.0, 90.0, null, 306.0, 162.0, null, 306.0, 234.0, null, 378.0, 306.0, null, 378.0, 306.0, null, 378.0, 306.0, null, 234.0, 162.0, null, 162.0, 90.0, null]}, {\"marker\": {\"color\": \"#888\", \"line\": {\"width\": 0}, \"size\": 5}, \"mode\": \"markers\", \"name\": \"Predecessor terms\", \"text\": [\"HP:0004328: Abnormal anterior eye segment morphology\", \"HP:0000077: Abnormality of the kidney\", \"HP:0012372: Abnormal eye morphology\", \"HP:0000924: Abnormality of the skeletal system\", \"HP:0010935: Abnormality of the upper urinary tract\", \"HP:0000481: Abnormal cornea morphology\", \"HP:0011025: Abnormal cardiovascular system physiology\", \"HP:0030680: Abnormality of cardiovascular system morphology\", \"HP:0000478: Abnormality of the eye\", \"HP:0012531: Pain\", \"HP:0001627: Abnormal heart morphology\", \"HP:0000079: Abnormality of the urinary system\", \"HP:0025031: Abnormality of the digestive system\", \"HP:0033401: Tissue ischemia\", \"HP:0009127: Abnormality of the musculature of the limbs\", \"HP:0040064: Abnormality of limbs\", \"HP:0001437: Abnormality of the musculature of the lower limbs\", \"HP:0000119: Abnormality of the genitourinary system\", \"HP:0011842: Abnormality of skeletal morphology\", \"HP:0025142: Constitutional symptom\", \"HP:0011849: Abnormal bone ossification\", \"HP:0000951: Abnormality of the skin\", \"HP:0011805: Abnormal skeletal muscle morphology\", \"HP:0025323: Abnormal arterial physiology\", \"HP:0011121: Abnormality of skin morphology\", \"HP:0025032: Abnormality of digestive system physiology\", \"HP:0033127: Abnormality of the musculoskeletal system\", \"HP:0000707: Abnormality of the nervous system\", \"HP:0002597: Abnormality of the vasculature\", \"HP:0011804: Abnormal muscle physiology\", \"HP:0030163: Abnormal vascular physiology\", \"HP:0001713: Abnormal cardiac ventricle morphology\", \"HP:0011277: Abnormality of the urinary system physiology\", \"HP:0001714: Ventricular hypertrophy\", \"HP:0003330: Abnormal bone structure\", \"HP:0001711: Abnormal left ventricle morphology\", \"HP:0001871: Abnormality of blood and blood-forming tissues\", \"HP:0001507: Growth abnormality\", \"HP:0001574: Abnormality of the integument\", \"HP:0000118: Phenotypic abnormality\", \"HP:0003552: Muscle stiffness\", \"HP:0002817: Abnormality of the upper limb\", \"HP:0011354: Generalized abnormality of skin\", \"HP:0003011: Abnormality of the musculature\", \"HP:0001626: Abnormality of the cardiovascular system\", \"HP:0011458: Abdominal symptom\", \"HP:0002814: Abnormality of the lower limb\"], \"type\": \"scatter\", \"x\": [176.78, 2000.8, 182.78, 869.78, 1749.8, 176.78, 3092.8, 2696.8, 200.78, 398.78, 2696.8, 1549.8, 784.78, 3183.8, 1155.8, 1449.8, 1155.8, 1527.8, 792.78, 485.78, 594.78, 3658.8, 1156.8, 3183.8, 3637.8, 534.78, 1136.8, 1850.8, 3413.8, 838.78, 3183.8, 2696.8, 2127.8, 2605.8, 594.78, 2869.8, 2203.8, 2501.8, 3658.8, 1527.8, 853.78, 1745.8, 3594.8, 1157.8, 2937.8, 534.78, 1475.8], \"y\": [234.0, 162.0, 306.0, 306.0, 234.0, 162.0, 306.0, 306.0, 378.0, 234.0, 234.0, 306.0, 378.0, 90.0, 162.0, 234.0, 90.0, 378.0, 234.0, 378.0, 90.0, 306.0, 234.0, 162.0, 234.0, 306.0, 378.0, 378.0, 306.0, 162.0, 234.0, 162.0, 234.0, 90.0, 162.0, 90.0, 378.0, 378.0, 378.0, 450.0, 90.0, 162.0, 162.0, 306.0, 378.0, 234.0, 162.0]}, {\"marker\": {\"line\": {\"width\": 1}, \"size\": 10}, \"mode\": \"markers\", \"name\": \"Input terms\", \"text\": [\"HP:0002027: Abdominal pain\", \"HP:0003336: Abnormal enchondral ossification\", \"HP:0001712: Left ventricular hypertrophy\", \"HP:0001446: Abnormality of the musculature of the upper limbs\", \"HP:0002637: Cerebral ischemia\", \"HP:0025276: Abnormality of skin adnexa physiology\", \"HP:0001510: Growth delay\", \"HP:0001131: Corneal dystrophy\", \"HP:0011276: Vascular skin abnormality\", \"HP:0012638: Abnormal nervous system physiology\", \"HP:0008969: Leg muscle stiffness\", \"HP:0001877: Abnormal erythrocyte morphology\", \"HP:0012211: Abnormal renal physiology\"], \"type\": \"scatter\", \"x\": [399.78, 594.78, 2737.8, 1682.8, 3183.8, 3937.8, 2415.8, 176.78, 3513.8, 1860.8, 1011.8, 2193.8, 2062.8], \"y\": [162.0, 18.0, 18.0, 90.0, 18.0, 306.0, 306.0, 90.0, 90.0, 306.0, 18.0, 306.0, 90.0]}],                        {\"height\": 600, \"hovermode\": \"closest\", \"margin\": {\"b\": 20, \"l\": 5, \"r\": 5, \"t\": 40}, \"showlegend\": true, \"template\": {\"data\": {\"bar\": [{\"error_x\": {\"color\": \"#2a3f5f\"}, \"error_y\": {\"color\": \"#2a3f5f\"}, \"marker\": {\"line\": {\"color\": \"#E5ECF6\", \"width\": 0.5}}, \"type\": \"bar\"}], \"barpolar\": [{\"marker\": {\"line\": {\"color\": \"#E5ECF6\", \"width\": 0.5}}, \"type\": \"barpolar\"}], \"carpet\": [{\"aaxis\": {\"endlinecolor\": \"#2a3f5f\", \"gridcolor\": \"white\", \"linecolor\": \"white\", \"minorgridcolor\": \"white\", \"startlinecolor\": \"#2a3f5f\"}, \"baxis\": {\"endlinecolor\": \"#2a3f5f\", \"gridcolor\": \"white\", \"linecolor\": \"white\", \"minorgridcolor\": \"white\", \"startlinecolor\": \"#2a3f5f\"}, \"type\": \"carpet\"}], \"choropleth\": [{\"colorbar\": {\"outlinewidth\": 0, \"ticks\": \"\"}, \"type\": \"choropleth\"}], \"contour\": [{\"colorbar\": {\"outlinewidth\": 0, \"ticks\": \"\"}, \"colorscale\": [[0.0, \"#0d0887\"], [0.1111111111111111, \"#46039f\"], [0.2222222222222222, \"#7201a8\"], [0.3333333333333333, \"#9c179e\"], [0.4444444444444444, \"#bd3786\"], [0.5555555555555556, \"#d8576b\"], [0.6666666666666666, \"#ed7953\"], [0.7777777777777778, \"#fb9f3a\"], [0.8888888888888888, \"#fdca26\"], [1.0, \"#f0f921\"]], \"type\": \"contour\"}], \"contourcarpet\": [{\"colorbar\": {\"outlinewidth\": 0, \"ticks\": \"\"}, \"type\": \"contourcarpet\"}], \"heatmap\": [{\"colorbar\": {\"outlinewidth\": 0, \"ticks\": \"\"}, \"colorscale\": [[0.0, \"#0d0887\"], [0.1111111111111111, \"#46039f\"], [0.2222222222222222, \"#7201a8\"], [0.3333333333333333, \"#9c179e\"], [0.4444444444444444, \"#bd3786\"], [0.5555555555555556, \"#d8576b\"], [0.6666666666666666, \"#ed7953\"], [0.7777777777777778, \"#fb9f3a\"], [0.8888888888888888, \"#fdca26\"], [1.0, \"#f0f921\"]], \"type\": \"heatmap\"}], \"heatmapgl\": [{\"colorbar\": {\"outlinewidth\": 0, \"ticks\": \"\"}, \"colorscale\": [[0.0, \"#0d0887\"], [0.1111111111111111, \"#46039f\"], [0.2222222222222222, \"#7201a8\"], [0.3333333333333333, \"#9c179e\"], [0.4444444444444444, \"#bd3786\"], [0.5555555555555556, \"#d8576b\"], [0.6666666666666666, \"#ed7953\"], [0.7777777777777778, \"#fb9f3a\"], [0.8888888888888888, \"#fdca26\"], [1.0, \"#f0f921\"]], \"type\": \"heatmapgl\"}], \"histogram\": [{\"marker\": {\"colorbar\": {\"outlinewidth\": 0, \"ticks\": \"\"}}, \"type\": \"histogram\"}], \"histogram2d\": [{\"colorbar\": {\"outlinewidth\": 0, \"ticks\": \"\"}, \"colorscale\": [[0.0, \"#0d0887\"], [0.1111111111111111, \"#46039f\"], [0.2222222222222222, \"#7201a8\"], [0.3333333333333333, \"#9c179e\"], [0.4444444444444444, \"#bd3786\"], [0.5555555555555556, \"#d8576b\"], [0.6666666666666666, \"#ed7953\"], [0.7777777777777778, \"#fb9f3a\"], [0.8888888888888888, \"#fdca26\"], [1.0, \"#f0f921\"]], \"type\": \"histogram2d\"}], \"histogram2dcontour\": [{\"colorbar\": {\"outlinewidth\": 0, \"ticks\": \"\"}, \"colorscale\": [[0.0, \"#0d0887\"], [0.1111111111111111, \"#46039f\"], [0.2222222222222222, \"#7201a8\"], [0.3333333333333333, \"#9c179e\"], [0.4444444444444444, \"#bd3786\"], [0.5555555555555556, \"#d8576b\"], [0.6666666666666666, \"#ed7953\"], [0.7777777777777778, \"#fb9f3a\"], [0.8888888888888888, \"#fdca26\"], [1.0, \"#f0f921\"]], \"type\": \"histogram2dcontour\"}], \"mesh3d\": [{\"colorbar\": {\"outlinewidth\": 0, \"ticks\": \"\"}, \"type\": \"mesh3d\"}], \"parcoords\": [{\"line\": {\"colorbar\": {\"outlinewidth\": 0, \"ticks\": \"\"}}, \"type\": \"parcoords\"}], \"pie\": [{\"automargin\": true, \"type\": \"pie\"}], \"scatter\": [{\"marker\": {\"colorbar\": {\"outlinewidth\": 0, \"ticks\": \"\"}}, \"type\": \"scatter\"}], \"scatter3d\": [{\"line\": {\"colorbar\": {\"outlinewidth\": 0, \"ticks\": \"\"}}, \"marker\": {\"colorbar\": {\"outlinewidth\": 0, \"ticks\": \"\"}}, \"type\": \"scatter3d\"}], \"scattercarpet\": [{\"marker\": {\"colorbar\": {\"outlinewidth\": 0, \"ticks\": \"\"}}, \"type\": \"scattercarpet\"}], \"scattergeo\": [{\"marker\": {\"colorbar\": {\"outlinewidth\": 0, \"ticks\": \"\"}}, \"type\": \"scattergeo\"}], \"scattergl\": [{\"marker\": {\"colorbar\": {\"outlinewidth\": 0, \"ticks\": \"\"}}, \"type\": \"scattergl\"}], \"scattermapbox\": [{\"marker\": {\"colorbar\": {\"outlinewidth\": 0, \"ticks\": \"\"}}, \"type\": \"scattermapbox\"}], \"scatterpolar\": [{\"marker\": {\"colorbar\": {\"outlinewidth\": 0, \"ticks\": \"\"}}, \"type\": \"scatterpolar\"}], \"scatterpolargl\": [{\"marker\": {\"colorbar\": {\"outlinewidth\": 0, \"ticks\": \"\"}}, \"type\": \"scatterpolargl\"}], \"scatterternary\": [{\"marker\": {\"colorbar\": {\"outlinewidth\": 0, \"ticks\": \"\"}}, \"type\": \"scatterternary\"}], \"surface\": [{\"colorbar\": {\"outlinewidth\": 0, \"ticks\": \"\"}, \"colorscale\": [[0.0, \"#0d0887\"], [0.1111111111111111, \"#46039f\"], [0.2222222222222222, \"#7201a8\"], [0.3333333333333333, \"#9c179e\"], [0.4444444444444444, \"#bd3786\"], [0.5555555555555556, \"#d8576b\"], [0.6666666666666666, \"#ed7953\"], [0.7777777777777778, \"#fb9f3a\"], [0.8888888888888888, \"#fdca26\"], [1.0, \"#f0f921\"]], \"type\": \"surface\"}], \"table\": [{\"cells\": {\"fill\": {\"color\": \"#EBF0F8\"}, \"line\": {\"color\": \"white\"}}, \"header\": {\"fill\": {\"color\": \"#C8D4E3\"}, \"line\": {\"color\": \"white\"}}, \"type\": \"table\"}]}, \"layout\": {\"annotationdefaults\": {\"arrowcolor\": \"#2a3f5f\", \"arrowhead\": 0, \"arrowwidth\": 1}, \"autotypenumbers\": \"strict\", \"coloraxis\": {\"colorbar\": {\"outlinewidth\": 0, \"ticks\": \"\"}}, \"colorscale\": {\"diverging\": [[0, \"#8e0152\"], [0.1, \"#c51b7d\"], [0.2, \"#de77ae\"], [0.3, \"#f1b6da\"], [0.4, \"#fde0ef\"], [0.5, \"#f7f7f7\"], [0.6, \"#e6f5d0\"], [0.7, \"#b8e186\"], [0.8, \"#7fbc41\"], [0.9, \"#4d9221\"], [1, \"#276419\"]], \"sequential\": [[0.0, \"#0d0887\"], [0.1111111111111111, \"#46039f\"], [0.2222222222222222, \"#7201a8\"], [0.3333333333333333, \"#9c179e\"], [0.4444444444444444, \"#bd3786\"], [0.5555555555555556, \"#d8576b\"], [0.6666666666666666, \"#ed7953\"], [0.7777777777777778, \"#fb9f3a\"], [0.8888888888888888, \"#fdca26\"], [1.0, \"#f0f921\"]], \"sequentialminus\": [[0.0, \"#0d0887\"], [0.1111111111111111, \"#46039f\"], [0.2222222222222222, \"#7201a8\"], [0.3333333333333333, \"#9c179e\"], [0.4444444444444444, \"#bd3786\"], [0.5555555555555556, \"#d8576b\"], [0.6666666666666666, \"#ed7953\"], [0.7777777777777778, \"#fb9f3a\"], [0.8888888888888888, \"#fdca26\"], [1.0, \"#f0f921\"]]}, \"colorway\": [\"#636efa\", \"#EF553B\", \"#00cc96\", \"#ab63fa\", \"#FFA15A\", \"#19d3f3\", \"#FF6692\", \"#B6E880\", \"#FF97FF\", \"#FECB52\"], \"font\": {\"color\": \"#2a3f5f\"}, \"geo\": {\"bgcolor\": \"white\", \"lakecolor\": \"white\", \"landcolor\": \"#E5ECF6\", \"showlakes\": true, \"showland\": true, \"subunitcolor\": \"white\"}, \"hoverlabel\": {\"align\": \"left\"}, \"hovermode\": \"closest\", \"mapbox\": {\"style\": \"light\"}, \"paper_bgcolor\": \"white\", \"plot_bgcolor\": \"#E5ECF6\", \"polar\": {\"angularaxis\": {\"gridcolor\": \"white\", \"linecolor\": \"white\", \"ticks\": \"\"}, \"bgcolor\": \"#E5ECF6\", \"radialaxis\": {\"gridcolor\": \"white\", \"linecolor\": \"white\", \"ticks\": \"\"}}, \"scene\": {\"xaxis\": {\"backgroundcolor\": \"#E5ECF6\", \"gridcolor\": \"white\", \"gridwidth\": 2, \"linecolor\": \"white\", \"showbackground\": true, \"ticks\": \"\", \"zerolinecolor\": \"white\"}, \"yaxis\": {\"backgroundcolor\": \"#E5ECF6\", \"gridcolor\": \"white\", \"gridwidth\": 2, \"linecolor\": \"white\", \"showbackground\": true, \"ticks\": \"\", \"zerolinecolor\": \"white\"}, \"zaxis\": {\"backgroundcolor\": \"#E5ECF6\", \"gridcolor\": \"white\", \"gridwidth\": 2, \"linecolor\": \"white\", \"showbackground\": true, \"ticks\": \"\", \"zerolinecolor\": \"white\"}}, \"shapedefaults\": {\"line\": {\"color\": \"#2a3f5f\"}}, \"ternary\": {\"aaxis\": {\"gridcolor\": \"white\", \"linecolor\": \"white\", \"ticks\": \"\"}, \"baxis\": {\"gridcolor\": \"white\", \"linecolor\": \"white\", \"ticks\": \"\"}, \"bgcolor\": \"#E5ECF6\", \"caxis\": {\"gridcolor\": \"white\", \"linecolor\": \"white\", \"ticks\": \"\"}}, \"title\": {\"x\": 0.05}, \"xaxis\": {\"automargin\": true, \"gridcolor\": \"white\", \"linecolor\": \"white\", \"ticks\": \"\", \"title\": {\"standoff\": 15}, \"zerolinecolor\": \"white\", \"zerolinewidth\": 2}, \"yaxis\": {\"automargin\": true, \"gridcolor\": \"white\", \"linecolor\": \"white\", \"ticks\": \"\", \"title\": {\"standoff\": 15}, \"zerolinecolor\": \"white\", \"zerolinewidth\": 2}}}, \"title\": {\"font\": {\"size\": 14}, \"text\": \"HPO comparison of a Fabry disease patient <a href='http://www.orpha.net/consor/cgi-bin/OC_Exp.php?lng=en&Expert=324'>(ORPHA:324)</a>\"}, \"width\": 1000, \"xaxis\": {\"showgrid\": false, \"showticklabels\": false, \"zeroline\": false}, \"yaxis\": {\"showgrid\": false, \"showticklabels\": false, \"zeroline\": false}},                        {\"responsive\": true}                    ).then(function(){\n",
              "                            \n",
              "var gd = document.getElementById('27d3bee5-fdc8-4c1d-9ce1-563d0d831575');\n",
              "var x = new MutationObserver(function (mutations, observer) {{\n",
              "        var display = window.getComputedStyle(gd).display;\n",
              "        if (!display || display === 'none') {{\n",
              "            console.log([gd, 'removed!']);\n",
              "            Plotly.purge(gd);\n",
              "            observer.disconnect();\n",
              "        }}\n",
              "}});\n",
              "\n",
              "// Listen for the removal of the full notebook cells\n",
              "var notebookContainer = gd.closest('#notebook-container');\n",
              "if (notebookContainer) {{\n",
              "    x.observe(notebookContainer, {childList: true});\n",
              "}}\n",
              "\n",
              "// Listen for the clearing of the current output cell\n",
              "var outputEl = gd.closest('.output');\n",
              "if (outputEl) {{\n",
              "    x.observe(outputEl, {childList: true});\n",
              "}}\n",
              "\n",
              "                        })                };                            </script>        </div>\n",
              "</body>\n",
              "</html>"
            ]
          },
          "metadata": {
            "tags": []
          }
        }
      ]
    },
    {
      "cell_type": "code",
      "metadata": {
        "id": "MKeWKrspyABs",
        "outputId": "fcf69c17-7bdc-4ef6-c26e-18fe57d21128",
        "colab": {
          "base_uri": "https://localhost:8080/",
          "height": 487
        }
      },
      "source": [
        "from rarecrowds import PatientSampler\n",
        "from rarecrowds import PhenotypicComparison\n",
        "\n",
        "sampler = PatientSampler()\n",
        "patients = sampler.sample(patient_params=\"default\", N=5)\n",
        "fig = PhenotypicComparison(patient = patients['ORPHA:324']['cohort'][0]['phenotype'])"
      ],
      "execution_count": 31,
      "outputs": [
        {
          "output_type": "stream",
          "text": [
            "\"dot\" with args ['-Tdot', '/tmp/tmp1vmj6ntp'] returned code: 1\n",
            "\n",
            "stdout, stderr:\n",
            " b''\n",
            "b\"Error: /tmp/tmp1vmj6ntp: syntax error in line 2 near ':'\\n\"\n",
            "\n"
          ],
          "name": "stdout"
        },
        {
          "output_type": "error",
          "ename": "AssertionError",
          "evalue": "ignored",
          "traceback": [
            "\u001b[0;31m---------------------------------------------------------------------------\u001b[0m",
            "\u001b[0;31mAssertionError\u001b[0m                            Traceback (most recent call last)",
            "\u001b[0;32m<ipython-input-31-2f42da683cba>\u001b[0m in \u001b[0;36m<module>\u001b[0;34m()\u001b[0m\n\u001b[1;32m      4\u001b[0m \u001b[0msampler\u001b[0m \u001b[0;34m=\u001b[0m \u001b[0mPatientSampler\u001b[0m\u001b[0;34m(\u001b[0m\u001b[0;34m)\u001b[0m\u001b[0;34m\u001b[0m\u001b[0;34m\u001b[0m\u001b[0m\n\u001b[1;32m      5\u001b[0m \u001b[0mpatients\u001b[0m \u001b[0;34m=\u001b[0m \u001b[0msampler\u001b[0m\u001b[0;34m.\u001b[0m\u001b[0msample\u001b[0m\u001b[0;34m(\u001b[0m\u001b[0mpatient_params\u001b[0m\u001b[0;34m=\u001b[0m\u001b[0;34m\"default\"\u001b[0m\u001b[0;34m,\u001b[0m \u001b[0mN\u001b[0m\u001b[0;34m=\u001b[0m\u001b[0;36m5\u001b[0m\u001b[0;34m)\u001b[0m\u001b[0;34m\u001b[0m\u001b[0;34m\u001b[0m\u001b[0m\n\u001b[0;32m----> 6\u001b[0;31m \u001b[0mfig\u001b[0m \u001b[0;34m=\u001b[0m \u001b[0mPhenotypicComparison\u001b[0m\u001b[0;34m(\u001b[0m\u001b[0mpatient\u001b[0m \u001b[0;34m=\u001b[0m \u001b[0mpatients\u001b[0m\u001b[0;34m[\u001b[0m\u001b[0;34m'ORPHA:324'\u001b[0m\u001b[0;34m]\u001b[0m\u001b[0;34m[\u001b[0m\u001b[0;34m'cohort'\u001b[0m\u001b[0;34m]\u001b[0m\u001b[0;34m[\u001b[0m\u001b[0;36m0\u001b[0m\u001b[0;34m]\u001b[0m\u001b[0;34m[\u001b[0m\u001b[0;34m'phenotype'\u001b[0m\u001b[0;34m]\u001b[0m\u001b[0;34m)\u001b[0m\u001b[0;34m\u001b[0m\u001b[0;34m\u001b[0m\u001b[0m\n\u001b[0m",
            "\u001b[0;32m/usr/local/lib/python3.7/dist-packages/rarecrowds/utils/phenotypic_comparison.py\u001b[0m in \u001b[0;36m__init__\u001b[0;34m(self, patient, disease)\u001b[0m\n\u001b[1;32m     15\u001b[0m \u001b[0;34m\u001b[0m\u001b[0m\n\u001b[1;32m     16\u001b[0m         \u001b[0;32mif\u001b[0m \u001b[0;32mnot\u001b[0m \u001b[0mdisease\u001b[0m\u001b[0;34m:\u001b[0m\u001b[0;34m\u001b[0m\u001b[0;34m\u001b[0m\u001b[0m\n\u001b[0;32m---> 17\u001b[0;31m             \u001b[0mself\u001b[0m\u001b[0;34m.\u001b[0m\u001b[0mplot_disease\u001b[0m\u001b[0;34m(\u001b[0m\u001b[0mpatient\u001b[0m\u001b[0;34m)\u001b[0m\u001b[0;34m\u001b[0m\u001b[0;34m\u001b[0m\u001b[0m\n\u001b[0m\u001b[1;32m     18\u001b[0m         \u001b[0;32melif\u001b[0m \u001b[0;32mnot\u001b[0m \u001b[0mpatient\u001b[0m\u001b[0;34m:\u001b[0m\u001b[0;34m\u001b[0m\u001b[0;34m\u001b[0m\u001b[0m\n\u001b[1;32m     19\u001b[0m             self.plot_disease(\n",
            "\u001b[0;32m/usr/local/lib/python3.7/dist-packages/rarecrowds/utils/phenotypic_comparison.py\u001b[0m in \u001b[0;36mplot_disease\u001b[0;34m(self, patient, name, code)\u001b[0m\n\u001b[1;32m     67\u001b[0m         \u001b[0mG\u001b[0m \u001b[0;34m=\u001b[0m \u001b[0mself\u001b[0m\u001b[0;34m.\u001b[0m\u001b[0mhpo\u001b[0m\u001b[0;34m.\u001b[0m\u001b[0mGraph\u001b[0m\u001b[0;34m.\u001b[0m\u001b[0msubgraph\u001b[0m\u001b[0;34m(\u001b[0m\u001b[0mlist\u001b[0m\u001b[0;34m(\u001b[0m\u001b[0mhpo_set\u001b[0m\u001b[0;34m)\u001b[0m\u001b[0;34m)\u001b[0m\u001b[0;34m\u001b[0m\u001b[0;34m\u001b[0m\u001b[0m\n\u001b[1;32m     68\u001b[0m \u001b[0;34m\u001b[0m\u001b[0m\n\u001b[0;32m---> 69\u001b[0;31m         \u001b[0mplt_data\u001b[0m \u001b[0;34m=\u001b[0m \u001b[0mprepare_data\u001b[0m\u001b[0;34m(\u001b[0m\u001b[0mG\u001b[0m\u001b[0;34m,\u001b[0m \u001b[0mpatient_set\u001b[0m\u001b[0;34m)\u001b[0m\u001b[0;34m\u001b[0m\u001b[0;34m\u001b[0m\u001b[0m\n\u001b[0m\u001b[1;32m     70\u001b[0m \u001b[0;34m\u001b[0m\u001b[0m\n\u001b[1;32m     71\u001b[0m         edge_trace = go.Scatter(\n",
            "\u001b[0;32m/usr/local/lib/python3.7/dist-packages/rarecrowds/utils/phenotypic_comparison.py\u001b[0m in \u001b[0;36mprepare_data\u001b[0;34m(G, disease_set)\u001b[0m\n\u001b[1;32m     28\u001b[0m             \u001b[0mmapping\u001b[0m \u001b[0;34m=\u001b[0m \u001b[0;34m{\u001b[0m\u001b[0mn\u001b[0m\u001b[0;34m:\u001b[0m \u001b[0mn\u001b[0m\u001b[0;34m.\u001b[0m\u001b[0mreplace\u001b[0m\u001b[0;34m(\u001b[0m\u001b[0;34m\":\"\u001b[0m\u001b[0;34m,\u001b[0m \u001b[0;34m\"_\"\u001b[0m\u001b[0;34m)\u001b[0m \u001b[0;32mfor\u001b[0m \u001b[0mn\u001b[0m \u001b[0;32min\u001b[0m \u001b[0mG\u001b[0m\u001b[0;34m.\u001b[0m\u001b[0mnodes\u001b[0m\u001b[0;34m}\u001b[0m\u001b[0;34m\u001b[0m\u001b[0;34m\u001b[0m\u001b[0m\n\u001b[1;32m     29\u001b[0m             \u001b[0mG\u001b[0m \u001b[0;34m=\u001b[0m \u001b[0mnx\u001b[0m\u001b[0;34m.\u001b[0m\u001b[0mrelabel_nodes\u001b[0m\u001b[0;34m(\u001b[0m\u001b[0mG\u001b[0m\u001b[0;34m,\u001b[0m \u001b[0mmapping\u001b[0m\u001b[0;34m)\u001b[0m\u001b[0;34m\u001b[0m\u001b[0;34m\u001b[0m\u001b[0m\n\u001b[0;32m---> 30\u001b[0;31m             \u001b[0mpos\u001b[0m \u001b[0;34m=\u001b[0m \u001b[0mnx\u001b[0m\u001b[0;34m.\u001b[0m\u001b[0mdrawing\u001b[0m\u001b[0;34m.\u001b[0m\u001b[0mnx_pydot\u001b[0m\u001b[0;34m.\u001b[0m\u001b[0mgraphviz_layout\u001b[0m\u001b[0;34m(\u001b[0m\u001b[0mG\u001b[0m\u001b[0;34m,\u001b[0m \u001b[0mprog\u001b[0m\u001b[0;34m=\u001b[0m\u001b[0;34m\"dot\"\u001b[0m\u001b[0;34m)\u001b[0m\u001b[0;34m\u001b[0m\u001b[0;34m\u001b[0m\u001b[0m\n\u001b[0m\u001b[1;32m     31\u001b[0m             data = {\n\u001b[1;32m     32\u001b[0m                 \u001b[0;34m\"edges\"\u001b[0m\u001b[0;34m:\u001b[0m \u001b[0;34m{\u001b[0m\u001b[0;34m\"x\"\u001b[0m\u001b[0;34m:\u001b[0m \u001b[0;34m[\u001b[0m\u001b[0;34m]\u001b[0m\u001b[0;34m,\u001b[0m \u001b[0;34m\"y\"\u001b[0m\u001b[0;34m:\u001b[0m \u001b[0;34m[\u001b[0m\u001b[0;34m]\u001b[0m\u001b[0;34m}\u001b[0m\u001b[0;34m,\u001b[0m\u001b[0;34m\u001b[0m\u001b[0;34m\u001b[0m\u001b[0m\n",
            "\u001b[0;32m/usr/local/lib/python3.7/dist-packages/networkx/drawing/nx_pydot.py\u001b[0m in \u001b[0;36mgraphviz_layout\u001b[0;34m(G, prog, root)\u001b[0m\n\u001b[1;32m    255\u001b[0m     \u001b[0mThis\u001b[0m \u001b[0;32mis\u001b[0m \u001b[0ma\u001b[0m \u001b[0mwrapper\u001b[0m \u001b[0;32mfor\u001b[0m \u001b[0mpydot_layout\u001b[0m\u001b[0;34m.\u001b[0m\u001b[0;34m\u001b[0m\u001b[0;34m\u001b[0m\u001b[0m\n\u001b[1;32m    256\u001b[0m     \"\"\"\n\u001b[0;32m--> 257\u001b[0;31m     \u001b[0;32mreturn\u001b[0m \u001b[0mpydot_layout\u001b[0m\u001b[0;34m(\u001b[0m\u001b[0mG\u001b[0m\u001b[0;34m=\u001b[0m\u001b[0mG\u001b[0m\u001b[0;34m,\u001b[0m \u001b[0mprog\u001b[0m\u001b[0;34m=\u001b[0m\u001b[0mprog\u001b[0m\u001b[0;34m,\u001b[0m \u001b[0mroot\u001b[0m\u001b[0;34m=\u001b[0m\u001b[0mroot\u001b[0m\u001b[0;34m)\u001b[0m\u001b[0;34m\u001b[0m\u001b[0;34m\u001b[0m\u001b[0m\n\u001b[0m\u001b[1;32m    258\u001b[0m \u001b[0;34m\u001b[0m\u001b[0m\n\u001b[1;32m    259\u001b[0m \u001b[0;34m\u001b[0m\u001b[0m\n",
            "\u001b[0;32m/usr/local/lib/python3.7/dist-packages/networkx/drawing/nx_pydot.py\u001b[0m in \u001b[0;36mpydot_layout\u001b[0;34m(G, prog, root)\u001b[0m\n\u001b[1;32m    304\u001b[0m     \u001b[0;31m# List of low-level bytes comprising a string in the dot language converted\u001b[0m\u001b[0;34m\u001b[0m\u001b[0;34m\u001b[0m\u001b[0;34m\u001b[0m\u001b[0m\n\u001b[1;32m    305\u001b[0m     \u001b[0;31m# from the passed graph with the passed external GraphViz command.\u001b[0m\u001b[0;34m\u001b[0m\u001b[0;34m\u001b[0m\u001b[0;34m\u001b[0m\u001b[0m\n\u001b[0;32m--> 306\u001b[0;31m     \u001b[0mD_bytes\u001b[0m \u001b[0;34m=\u001b[0m \u001b[0mP\u001b[0m\u001b[0;34m.\u001b[0m\u001b[0mcreate_dot\u001b[0m\u001b[0;34m(\u001b[0m\u001b[0mprog\u001b[0m\u001b[0;34m=\u001b[0m\u001b[0mprog\u001b[0m\u001b[0;34m)\u001b[0m\u001b[0;34m\u001b[0m\u001b[0;34m\u001b[0m\u001b[0m\n\u001b[0m\u001b[1;32m    307\u001b[0m \u001b[0;34m\u001b[0m\u001b[0m\n\u001b[1;32m    308\u001b[0m     \u001b[0;31m# Unique string decoded from these bytes with the preferred locale encoding\u001b[0m\u001b[0;34m\u001b[0m\u001b[0;34m\u001b[0m\u001b[0;34m\u001b[0m\u001b[0m\n",
            "\u001b[0;32m/usr/local/lib/python3.7/dist-packages/pydot.py\u001b[0m in \u001b[0;36mnew_method\u001b[0;34m(f, prog, encoding)\u001b[0m\n\u001b[1;32m   1732\u001b[0m                 \u001b[0;34m\"\"\"Refer to docstring of method `create`.\"\"\"\u001b[0m\u001b[0;34m\u001b[0m\u001b[0;34m\u001b[0m\u001b[0m\n\u001b[1;32m   1733\u001b[0m                 return self.create(\n\u001b[0;32m-> 1734\u001b[0;31m                     format=f, prog=prog, encoding=encoding)\n\u001b[0m\u001b[1;32m   1735\u001b[0m             \u001b[0mname\u001b[0m \u001b[0;34m=\u001b[0m \u001b[0;34m'create_{fmt}'\u001b[0m\u001b[0;34m.\u001b[0m\u001b[0mformat\u001b[0m\u001b[0;34m(\u001b[0m\u001b[0mfmt\u001b[0m\u001b[0;34m=\u001b[0m\u001b[0mfrmt\u001b[0m\u001b[0;34m)\u001b[0m\u001b[0;34m\u001b[0m\u001b[0;34m\u001b[0m\u001b[0m\n\u001b[1;32m   1736\u001b[0m             \u001b[0mself\u001b[0m\u001b[0;34m.\u001b[0m\u001b[0m__setattr__\u001b[0m\u001b[0;34m(\u001b[0m\u001b[0mname\u001b[0m\u001b[0;34m,\u001b[0m \u001b[0mnew_method\u001b[0m\u001b[0;34m)\u001b[0m\u001b[0;34m\u001b[0m\u001b[0;34m\u001b[0m\u001b[0m\n",
            "\u001b[0;32m/usr/local/lib/python3.7/dist-packages/pydot.py\u001b[0m in \u001b[0;36mcreate\u001b[0;34m(self, prog, format, encoding)\u001b[0m\n\u001b[1;32m   1958\u001b[0m                     \u001b[0mprog\u001b[0m\u001b[0;34m=\u001b[0m\u001b[0mprog\u001b[0m\u001b[0;34m,\u001b[0m\u001b[0;34m\u001b[0m\u001b[0;34m\u001b[0m\u001b[0m\n\u001b[1;32m   1959\u001b[0m                     \u001b[0marguments\u001b[0m\u001b[0;34m=\u001b[0m\u001b[0marguments\u001b[0m\u001b[0;34m,\u001b[0m\u001b[0;34m\u001b[0m\u001b[0;34m\u001b[0m\u001b[0m\n\u001b[0;32m-> 1960\u001b[0;31m                     \u001b[0mcode\u001b[0m\u001b[0;34m=\u001b[0m\u001b[0mprocess\u001b[0m\u001b[0;34m.\u001b[0m\u001b[0mreturncode\u001b[0m\u001b[0;34m,\u001b[0m\u001b[0;34m\u001b[0m\u001b[0;34m\u001b[0m\u001b[0m\n\u001b[0m\u001b[1;32m   1961\u001b[0m                 )\n\u001b[1;32m   1962\u001b[0m             )\n",
            "\u001b[0;31mAssertionError\u001b[0m: \"dot\" with args ['-Tdot', '/tmp/tmp1vmj6ntp'] returned code: 1"
          ]
        }
      ]
    }
  ]
}