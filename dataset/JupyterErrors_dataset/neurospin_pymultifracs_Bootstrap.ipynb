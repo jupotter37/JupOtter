{
 "cells": [
  {
   "cell_type": "code",
   "execution_count": 1,
   "id": "02bb776f-fe2f-442b-9fb5-94d9076da5f5",
   "metadata": {},
   "outputs": [],
   "source": [
    "%load_ext autoreload\n",
    "%autoreload 2"
   ]
  },
  {
   "cell_type": "code",
   "execution_count": 2,
   "id": "94e6471d",
   "metadata": {},
   "outputs": [],
   "source": [
    "%matplotlib inline"
   ]
  },
  {
   "cell_type": "code",
   "execution_count": 3,
   "id": "0a0e287d",
   "metadata": {},
   "outputs": [],
   "source": [
    "import matplotlib.pyplot as plt\n",
    "import seaborn as sns\n",
    "sns.set(style=\"white\")\n",
    "figure_folder = 'figures/'"
   ]
  },
  {
   "cell_type": "code",
   "execution_count": 4,
   "id": "f14e5059",
   "metadata": {},
   "outputs": [
    {
     "data": {
      "image/png": "[encoded data removed]",
      "text/plain": [
       "<Figure size 640x480 with 1 Axes>"
      ]
     },
     "metadata": {},
     "output_type": "display_data"
    }
   ],
   "source": [
    "from pymultifracs.simul import mrw\n",
    "import numpy as np\n",
    "\n",
    "X = mrw(shape=2**18, H=0.8, lam=np.sqrt(0.03), L=2**18)\n",
    "\n",
    "plt.plot(X)\n",
    "plt.title(r'realization of a MRW, $H$=0.8, $\\lambda^2$=0.03', size='large')\n",
    "plt.ylabel('X')\n",
    "plt.xlabel('t')\n",
    "sns.despine()\n",
    "plt.show()"
   ]
  },
  {
   "cell_type": "code",
   "execution_count": 5,
   "id": "4395f690",
   "metadata": {},
   "outputs": [],
   "source": [
    "from pymultifracs.wavelet import wavelet_analysis"
   ]
  },
  {
   "cell_type": "code",
   "execution_count": 6,
   "id": "9be986d8",
   "metadata": {},
   "outputs": [],
   "source": [
    "WT = wavelet_analysis(np.c_[X, X], p_exp=2, j1=3, j2=14)"
   ]
  },
  {
   "cell_type": "code",
   "execution_count": 8,
   "id": "51ad6a37",
   "metadata": {},
   "outputs": [],
   "source": [
    "coef_boot = WT.wt_coefs.bootstrap(100, 3)"
   ]
  },
  {
   "cell_type": "code",
   "execution_count": 30,
   "id": "7a2ce2e4",
   "metadata": {},
   "outputs": [],
   "source": [
    "leader_boot = WT.wt_leaders.bootstrap(100, 3)"
   ]
  },
  {
   "cell_type": "code",
   "execution_count": 12,
   "id": "7e79dbec",
   "metadata": {},
   "outputs": [],
   "source": [
    "from pymultifracs.mfa import mf_analysis, mf_analysis_full"
   ]
  },
  {
   "cell_type": "code",
   "execution_count": 15,
   "id": "a944b831-e528-4758-8b0f-4350f40ae373",
   "metadata": {},
   "outputs": [],
   "source": [
    "scaling_ranges = [(3, 12)]"
   ]
  },
  {
   "cell_type": "code",
   "execution_count": 24,
   "id": "41093e82",
   "metadata": {},
   "outputs": [
    {
     "data": {
      "text/plain": [
       "(14, 2, 1)"
      ]
     },
     "execution_count": 24,
     "metadata": {},
     "output_type": "execute_result"
    }
   ],
   "source": [
    "dwt.cumulants.C2.shape"
   ]
  },
  {
   "cell_type": "code",
   "execution_count": 23,
   "id": "0a562d6f",
   "metadata": {},
   "outputs": [
    {
     "data": {
      "text/plain": [
       "(12, 2, 2)"
      ]
     },
     "execution_count": 23,
     "metadata": {},
     "output_type": "execute_result"
    }
   ],
   "source": [
    "dwt.cumulants.CIE_C2.shape"
   ]
  },
  {
   "cell_type": "code",
   "execution_count": 26,
   "id": "aec9d99d",
   "metadata": {},
   "outputs": [],
   "source": [
    "dwt = mf_analysis(WT.wt_coefs, scaling_ranges, weighted='bootstrap', n_cumul=3, q=None, bootstrap_weighted=None)"
   ]
  },
  {
   "cell_type": "code",
   "execution_count": 32,
   "id": "aec9d99d",
   "metadata": {},
   "outputs": [],
   "source": [
    "dwt, lwt = mf_analysis([WT.wt_coefs, WT.wt_leaders], scaling_ranges, weighted='bootstrap', n_cumul=3, q=None, bootstrap_weighted=None, estimates=['s', 'c'])"
   ]
  },
  {
   "cell_type": "code",
   "execution_count": 30,
   "id": "4468e5e1",
   "metadata": {},
   "outputs": [],
   "source": [
    "dwt, lwt = mf_analysis_full(np.c_[X, X, X, X], scaling_ranges, weighted='bootstrap', p_exp=2,\n",
    "                            n_cumul=2, R=5, estimates=['s', 'c'])"
   ]
  },
  {
   "cell_type": "code",
   "execution_count": 47,
   "id": "f977dba0",
   "metadata": {},
   "outputs": [
    {
     "name": "stdout",
     "output_type": "stream",
     "text": [
      "(2, 10, 4, 1) (2, 10, 4, 5)\n"
     ]
    },
    {
     "data": {
      "text/plain": [
       "array([[[0.6, 0.6, 0.6, 0.6],\n",
       "        [0.6, 0.6, 0.6, 0.6],\n",
       "        [0.6, 0.6, 0.6, 0.6],\n",
       "        [0.6, 0.6, 0.6, 0.6],\n",
       "        [0.6, 0.6, 0.6, 0.6],\n",
       "        [0.6, 0.6, 0.6, 0.6],\n",
       "        [0.6, 0.6, 0.6, 0.6],\n",
       "        [0.6, 0.6, 0.6, 0.6],\n",
       "        [0.8, 0.8, 0.8, 0.8],\n",
       "        [0.8, 0.8, 0.8, 0.8]],\n",
       "\n",
       "       [[1. , 1. , 1. , 1. ],\n",
       "        [1. , 1. , 1. , 1. ],\n",
       "        [1. , 1. , 1. , 1. ],\n",
       "        [1. , 1. , 1. , 1. ],\n",
       "        [1. , 1. , 1. , 1. ],\n",
       "        [1. , 1. , 1. , 1. ],\n",
       "        [1. , 1. , 1. , 1. ],\n",
       "        [1. , 1. , 1. , 1. ],\n",
       "        [1. , 1. , 1. , 1. ],\n",
       "        [1. , 1. , 1. , 1. ]]])"
      ]
     },
     "execution_count": 47,
     "metadata": {},
     "output_type": "execute_result"
    }
   ],
   "source": [
    "lwt.cumulants.compute_Lambda()"
   ]
  },
  {
   "cell_type": "code",
   "execution_count": 29,
   "id": "b6eec530",
   "metadata": {},
   "outputs": [
    {
     "data": {
      "text/plain": [
       "(1, 12, 20)"
      ]
     },
     "execution_count": 29,
     "metadata": {},
     "output_type": "execute_result"
    }
   ],
   "source": [
    "dwt.structure.bootstrapped_mrq.logvalues.shape"
   ]
  },
  {
   "cell_type": "code",
   "execution_count": 30,
   "id": "b6eec530",
   "metadata": {},
   "outputs": [
    {
     "data": {
      "text/plain": [
       "(2, 12, 20)"
      ]
     },
     "execution_count": 30,
     "metadata": {},
     "output_type": "execute_result"
    }
   ],
   "source": [
    "lwt.cumulants.bootstrapped_mrq.values.shape"
   ]
  },
  {
   "cell_type": "code",
   "execution_count": 31,
   "id": "b6eec530",
   "metadata": {},
   "outputs": [
    {
     "data": {
      "text/plain": [
       "(12, 4, 5)"
      ]
     },
     "execution_count": 31,
     "metadata": {},
     "output_type": "execute_result"
    }
   ],
   "source": [
    "lwt.cumulants.bootstrapped_mrq.C2.shape"
   ]
  },
  {
   "cell_type": "code",
   "execution_count": 32,
   "id": "b6eec530",
   "metadata": {},
   "outputs": [
    {
     "data": {
      "text/plain": [
       "(12, 4, 1)"
      ]
     },
     "execution_count": 32,
     "metadata": {},
     "output_type": "execute_result"
    }
   ],
   "source": [
    "lwt.cumulants.C2.shape"
   ]
  },
  {
   "cell_type": "code",
   "execution_count": 34,
   "id": "f3f9a2ca",
   "metadata": {},
   "outputs": [
    {
     "data": {
      "text/plain": [
       "(1, 4, 1)"
      ]
     },
     "execution_count": 34,
     "metadata": {},
     "output_type": "execute_result"
    }
   ],
   "source": [
    "dwt.structure.s_q(2).shape"
   ]
  },
  {
   "cell_type": "code",
   "execution_count": 35,
   "id": "f3f9a2ca",
   "metadata": {},
   "outputs": [
    {
     "data": {
      "text/plain": [
       "(1, 4, 5)"
      ]
     },
     "execution_count": 35,
     "metadata": {},
     "output_type": "execute_result"
    }
   ],
   "source": [
    "dwt.structure.bootstrapped_mrq.s_q(2).shape"
   ]
  },
  {
   "cell_type": "code",
   "execution_count": 50,
   "id": "a3bffb2a",
   "metadata": {},
   "outputs": [
    {
     "data": {
      "text/plain": [
       "(12, 4, 1)"
      ]
     },
     "execution_count": 50,
     "metadata": {},
     "output_type": "execute_result"
    }
   ],
   "source": [
    "dwt.structure.S_q(2).shape"
   ]
  },
  {
   "cell_type": "code",
   "execution_count": 56,
   "id": "b6eec530",
   "metadata": {},
   "outputs": [
    {
     "name": "stdout",
     "output_type": "stream",
     "text": [
      "(12, 4, 5)\n",
      "(2, 12, 4)\n"
     ]
    },
    {
     "data": {
      "text/plain": [
       "(12, 4, 2)"
      ]
     },
     "execution_count": 56,
     "metadata": {},
     "output_type": "execute_result"
    }
   ],
   "source": [
    "dwt.structure.CIE_S_q(2).shape"
   ]
  },
  {
   "cell_type": "code",
   "execution_count": 23,
   "id": "b6eec530",
   "metadata": {},
   "outputs": [
    {
     "data": {
      "text/plain": [
       "(12, 2, 1)"
      ]
     },
     "execution_count": 23,
     "metadata": {},
     "output_type": "execute_result"
    }
   ],
   "source": [
    "dwt.structure.S_q(2).shape"
   ]
  },
  {
   "cell_type": "code",
   "execution_count": 24,
   "id": "b6eec530",
   "metadata": {},
   "outputs": [
    {
     "data": {
      "text/plain": [
       "(12, 2, 5)"
      ]
     },
     "execution_count": 24,
     "metadata": {},
     "output_type": "execute_result"
    }
   ],
   "source": [
    "dwt.structure.bootstrapped_mrq.S_q(2).shape"
   ]
  },
  {
   "cell_type": "code",
   "execution_count": 25,
   "id": "b6eec530",
   "metadata": {},
   "outputs": [
    {
     "data": {
      "text/plain": [
       "(1, 2, 2)"
      ]
     },
     "execution_count": 25,
     "metadata": {},
     "output_type": "execute_result"
    }
   ],
   "source": [
    "lwt.cumulants.CIE_c2.shape"
   ]
  },
  {
   "cell_type": "code",
   "execution_count": 26,
   "id": "b6eec530",
   "metadata": {},
   "outputs": [
    {
     "data": {
      "text/plain": [
       "(12, 2, 1)"
      ]
     },
     "execution_count": 26,
     "metadata": {},
     "output_type": "execute_result"
    }
   ],
   "source": [
    "lwt.cumulants.C2.shape"
   ]
  },
  {
   "cell_type": "code",
   "execution_count": 27,
   "id": "090ec40d",
   "metadata": {},
   "outputs": [
    {
     "data": {
      "text/plain": [
       "5"
      ]
     },
     "execution_count": 27,
     "metadata": {},
     "output_type": "execute_result"
    }
   ],
   "source": [
    "dwt.structure.bootstrapped_mrq.n_rep // dwt.structure.bootstrapped_mrq.n_sig"
   ]
  },
  {
   "cell_type": "code",
   "execution_count": 208,
   "id": "b03f660b",
   "metadata": {},
   "outputs": [
    {
     "data": {
      "text/plain": [
       "(1, 12, 5)"
      ]
     },
     "execution_count": 208,
     "metadata": {},
     "output_type": "execute_result"
    }
   ],
   "source": [
    "dwt.structure.bootstrapped_mrq.S2.shape"
   ]
  },
  {
   "cell_type": "code",
   "execution_count": 181,
   "id": "b03f660b",
   "metadata": {},
   "outputs": [
    {
     "data": {
      "text/plain": [
       "(2, 12, 5)"
      ]
     },
     "execution_count": 181,
     "metadata": {},
     "output_type": "execute_result"
    }
   ],
   "source": [
    "lwt.cumulants.bootstrapped_mrq.values.shape"
   ]
  },
  {
   "cell_type": "code",
   "execution_count": 188,
   "id": "24a2dc32",
   "metadata": {},
   "outputs": [],
   "source": [
    "out = lwt.cumulants.bootstrapped_mrq.values[\n",
    "    lwt.cumulants.bootstrapped_mrq.m == 1][0]"
   ]
  },
  {
   "cell_type": "code",
   "execution_count": 196,
   "id": "9e0dbe5a",
   "metadata": {},
   "outputs": [
    {
     "data": {
      "text/plain": [
       "array([[[-11.00915431, -11.01807911, -11.01327628, -11.00999299,\n",
       "         -11.00941835]],\n",
       "\n",
       "       [[-10.43555379, -10.4477402 , -10.44377471, -10.43519931,\n",
       "         -10.43701785]],\n",
       "\n",
       "       [[ -9.88631646,  -9.9002147 ,  -9.89611985,  -9.88973557,\n",
       "          -9.888181  ]],\n",
       "\n",
       "       [[ -9.32532937,  -9.33602872,  -9.33495626,  -9.33025251,\n",
       "          -9.3353311 ]],\n",
       "\n",
       "       [[ -8.76498973,  -8.76376331,  -8.77038338,  -8.75931894,\n",
       "          -8.76604203]],\n",
       "\n",
       "       [[ -8.18012021,  -8.19204033,  -8.18942715,  -8.18706268,\n",
       "          -8.19097823]],\n",
       "\n",
       "       [[ -7.63053383,  -7.63747568,  -7.62180592,  -7.60302869,\n",
       "          -7.6169804 ]],\n",
       "\n",
       "       [[ -7.02406554,  -7.00536055,  -7.05133346,  -7.02565969,\n",
       "          -7.02986797]],\n",
       "\n",
       "       [[ -6.45529587,  -6.46448565,  -6.47184377,  -6.45547325,\n",
       "          -6.45560645]],\n",
       "\n",
       "       [[ -5.95309108,  -5.89317968,  -5.94177404,  -5.87031429,\n",
       "          -5.87970015]],\n",
       "\n",
       "       [[ -5.36657356,  -5.34856591,  -5.41809038,  -5.35885813,\n",
       "          -5.37727617]],\n",
       "\n",
       "       [[ -4.80674896,  -4.70594916,  -4.72526958,  -4.79539739,\n",
       "          -4.80457226]]])"
      ]
     },
     "execution_count": 196,
     "metadata": {},
     "output_type": "execute_result"
    }
   ],
   "source": [
    "out.reshape(out.shape[0], lwt.cumulants.bootstrapped_mrq.n_sig, -1)"
   ]
  },
  {
   "cell_type": "code",
   "execution_count": 184,
   "id": "3475ba6a",
   "metadata": {},
   "outputs": [
    {
     "data": {
      "text/plain": [
       "(12, 5)"
      ]
     },
     "execution_count": 184,
     "metadata": {},
     "output_type": "execute_result"
    }
   ],
   "source": [
    "out.shape"
   ]
  },
  {
   "cell_type": "code",
   "execution_count": 169,
   "id": "447374af",
   "metadata": {},
   "outputs": [
    {
     "data": {
      "text/plain": [
       "(2, 1, 60)"
      ]
     },
     "execution_count": 169,
     "metadata": {},
     "output_type": "execute_result"
    }
   ],
   "source": [
    "out.reshape(out.shape[0], lwt.cumulants.bootstrapped_mrq.n_sig, -1)"
   ]
  },
  {
   "cell_type": "code",
   "execution_count": 220,
   "id": "953ef69f",
   "metadata": {},
   "outputs": [
    {
     "data": {
      "text/plain": [
       "(2, 12, 5)"
      ]
     },
     "execution_count": 220,
     "metadata": {},
     "output_type": "execute_result"
    }
   ],
   "source": [
    "lwt.cumulants.bootstrapped_mrq.values.shape"
   ]
  },
  {
   "cell_type": "code",
   "execution_count": 146,
   "id": "8f548f3e",
   "metadata": {},
   "outputs": [
    {
     "ename": "ValueError",
     "evalue": "cannot select an axis to squeeze out which has size not equal to one",
     "output_type": "error",
     "traceback": [
      "\u001b[0;31m---------------------------------------------------------------------------\u001b[0m",
      "\u001b[0;31mValueError\u001b[0m                                Traceback (most recent call last)",
      "\u001b[1;32m/u/74/dumeurm1/unix/PhD/pymultifracs/notebooks/Bootstrap.ipynb Cell 18\u001b[0m in \u001b[0;36m<cell line: 1>\u001b[0;34m()\u001b[0m\n\u001b[0;32m----> <a href='vscode-notebook-cell:/u/74/dumeurm1/unix/PhD/pymultifracs/notebooks/Bootstrap.ipynb#Y134sZmlsZQ%3D%3D?line=0'>1</a>\u001b[0m lwt\u001b[39m.\u001b[39;49mcumulants\u001b[39m.\u001b[39;49mCI_C2\n",
      "File \u001b[0;32m~/PhD/pymultifracs/pymultifracs/cumulants.py:383\u001b[0m, in \u001b[0;36mCumulants.__getattr__\u001b[0;34m(self, name)\u001b[0m\n\u001b[1;32m    380\u001b[0m \u001b[39mif\u001b[39;00m name \u001b[39m==\u001b[39m \u001b[39m'\u001b[39m\u001b[39mn_rep\u001b[39m\u001b[39m'\u001b[39m:\n\u001b[1;32m    381\u001b[0m     \u001b[39mreturn\u001b[39;00m \u001b[39mself\u001b[39m\u001b[39m.\u001b[39mlog_cumulants\u001b[39m.\u001b[39mshape[\u001b[39m-\u001b[39m\u001b[39m1\u001b[39m]\n\u001b[0;32m--> 383\u001b[0m \u001b[39mif\u001b[39;00m (super_attr \u001b[39m:=\u001b[39m \u001b[39msuper\u001b[39;49m()\u001b[39m.\u001b[39;49m\u001b[39m__getattr__\u001b[39;49m(name)) \u001b[39mis\u001b[39;00m \u001b[39mnot\u001b[39;00m \u001b[39mNone\u001b[39;00m:\n\u001b[1;32m    384\u001b[0m     \u001b[39mreturn\u001b[39;00m super_attr\n\u001b[1;32m    386\u001b[0m \u001b[39mreturn\u001b[39;00m \u001b[39mself\u001b[39m\u001b[39m.\u001b[39m\u001b[39m__getattribute__\u001b[39m(name)\n",
      "File \u001b[0;32m~/PhD/pymultifracs/pymultifracs/multiresquantity.py:152\u001b[0m, in \u001b[0;36mMultiResolutionQuantityBase.__getattr__\u001b[0;34m(self, name)\u001b[0m\n\u001b[1;32m    148\u001b[0m \u001b[39mif\u001b[39;00m name[:\u001b[39m3\u001b[39m] \u001b[39m==\u001b[39m \u001b[39m'\u001b[39m\u001b[39mCI_\u001b[39m\u001b[39m'\u001b[39m:\n\u001b[1;32m    150\u001b[0m     bootstrapped_mrq \u001b[39m=\u001b[39m \u001b[39mself\u001b[39m\u001b[39m.\u001b[39m_get_bootstrapped_mrq()\n\u001b[0;32m--> 152\u001b[0m     \u001b[39mreturn\u001b[39;00m get_confidence_interval(bootstrapped_mrq, name[\u001b[39m3\u001b[39;49m:])\n\u001b[1;32m    154\u001b[0m \u001b[39melif\u001b[39;00m name[:\u001b[39m4\u001b[39m] \u001b[39m==\u001b[39m \u001b[39m'\u001b[39m\u001b[39mCIE_\u001b[39m\u001b[39m'\u001b[39m:\n\u001b[1;32m    156\u001b[0m     \u001b[39mself\u001b[39m\u001b[39m.\u001b[39m_check_bootstrap_mrq()\n",
      "File \u001b[0;32m~/PhD/pymultifracs/pymultifracs/bootstrap.py:139\u001b[0m, in \u001b[0;36mget_confidence_interval\u001b[0;34m(mrq, name)\u001b[0m\n\u001b[1;32m    136\u001b[0m     \u001b[39mreturn\u001b[39;00m \u001b[39mNone\u001b[39;00m\n\u001b[1;32m    138\u001b[0m \u001b[39m# shape (n_scale, n_rep)\u001b[39;00m\n\u001b[0;32m--> 139\u001b[0m attribute \u001b[39m=\u001b[39m \u001b[39mgetattr\u001b[39;49m(mrq, name)\n\u001b[1;32m    141\u001b[0m \u001b[39mif\u001b[39;00m callable(attribute):\n\u001b[1;32m    143\u001b[0m     \u001b[39mdef\u001b[39;00m \u001b[39mwrapper\u001b[39m(\u001b[39m*\u001b[39margs, \u001b[39m*\u001b[39m\u001b[39m*\u001b[39mkwargs):\n",
      "File \u001b[0;32m~/PhD/pymultifracs/pymultifracs/cumulants.py:375\u001b[0m, in \u001b[0;36mCumulants.__getattr__\u001b[0;34m(self, name)\u001b[0m\n\u001b[1;32m    373\u001b[0m \u001b[39mif\u001b[39;00m name[\u001b[39m0\u001b[39m] \u001b[39m==\u001b[39m \u001b[39m'\u001b[39m\u001b[39mC\u001b[39m\u001b[39m'\u001b[39m \u001b[39mand\u001b[39;00m \u001b[39mlen\u001b[39m(name) \u001b[39m==\u001b[39m \u001b[39m2\u001b[39m \u001b[39mand\u001b[39;00m name[\u001b[39m1\u001b[39m:]\u001b[39m.\u001b[39misdigit():\n\u001b[1;32m    374\u001b[0m     out \u001b[39m=\u001b[39m \u001b[39mself\u001b[39m\u001b[39m.\u001b[39mvalues[\u001b[39mself\u001b[39m\u001b[39m.\u001b[39mm \u001b[39m==\u001b[39m \u001b[39mint\u001b[39m(name[\u001b[39m1\u001b[39m])][\u001b[39m0\u001b[39m]\n\u001b[0;32m--> 375\u001b[0m     \u001b[39mreturn\u001b[39;00m out\u001b[39m.\u001b[39;49mreshape(out\u001b[39m.\u001b[39;49mshape[\u001b[39m0\u001b[39;49m], \u001b[39mself\u001b[39;49m\u001b[39m.\u001b[39;49mn_sig, \u001b[39m-\u001b[39;49m\u001b[39m1\u001b[39;49m)\u001b[39m.\u001b[39;49msqueeze(axis\u001b[39m=\u001b[39;49m\u001b[39m2\u001b[39;49m)\n\u001b[1;32m    377\u001b[0m \u001b[39mif\u001b[39;00m name \u001b[39m==\u001b[39m \u001b[39m'\u001b[39m\u001b[39mM\u001b[39m\u001b[39m'\u001b[39m:\n\u001b[1;32m    378\u001b[0m     \u001b[39mreturn\u001b[39;00m \u001b[39m-\u001b[39m\u001b[39mself\u001b[39m\u001b[39m.\u001b[39mc2\n",
      "\u001b[0;31mValueError\u001b[0m: cannot select an axis to squeeze out which has size not equal to one"
     ]
    }
   ],
   "source": [
    "lwt.cumulants.CI_C2"
   ]
  },
  {
   "cell_type": "code",
   "execution_count": 37,
   "id": "d46a28ff",
   "metadata": {},
   "outputs": [
    {
     "data": {
      "text/plain": [
       "200"
      ]
     },
     "execution_count": 37,
     "metadata": {},
     "output_type": "execute_result"
    }
   ],
   "source": [
    "dwt.structure.bootstrapped_mrq.n_rep"
   ]
  },
  {
   "cell_type": "code",
   "execution_count": 259,
   "id": "189a5a6d",
   "metadata": {},
   "outputs": [
    {
     "data": {
      "text/plain": [
       "array([[0.31002617, 0.32171424],\n",
       "       [0.29010381, 0.3044415 ],\n",
       "       [0.26550483, 0.28065204],\n",
       "       [0.24535346, 0.26244538],\n",
       "       [0.21180265, 0.2364089 ],\n",
       "       [0.18729983, 0.21926339],\n",
       "       [0.15241689, 0.20140989],\n",
       "       [0.14279832, 0.1961378 ],\n",
       "       [0.15192837, 0.23060064],\n",
       "       [0.21657489, 0.36274522],\n",
       "       [0.10153733, 0.23169788],\n",
       "       [0.0266347 , 0.19450504]])"
      ]
     },
     "execution_count": 259,
     "metadata": {},
     "output_type": "execute_result"
    }
   ],
   "source": [
    "lwt.cumulants.bootstrapped_mrq.CI_C2"
   ]
  },
  {
   "cell_type": "code",
   "execution_count": 253,
   "id": "d46a28ff",
   "metadata": {},
   "outputs": [
    {
     "data": {
      "text/plain": [
       "(1, 2)"
      ]
     },
     "execution_count": 253,
     "metadata": {},
     "output_type": "execute_result"
    }
   ],
   "source": [
    "lwt.cumulants.CI_c2.shape"
   ]
  },
  {
   "cell_type": "code",
   "execution_count": 254,
   "id": "d46a28ff",
   "metadata": {},
   "outputs": [
    {
     "data": {
      "text/plain": [
       "(12, 2)"
      ]
     },
     "execution_count": 254,
     "metadata": {},
     "output_type": "execute_result"
    }
   ],
   "source": [
    "lwt.cumulants.CI_C2.shape"
   ]
  },
  {
   "cell_type": "code",
   "execution_count": 125,
   "id": "d46a28ff",
   "metadata": {},
   "outputs": [
    {
     "ename": "TypeError",
     "evalue": "'NoneType' object cannot be interpreted as an integer",
     "output_type": "error",
     "traceback": [
      "\u001b[0;31m---------------------------------------------------------------------------\u001b[0m",
      "\u001b[0;31mTypeError\u001b[0m                                 Traceback (most recent call last)",
      "\u001b[1;32m/u/74/dumeurm1/unix/PhD/pymultifracs/notebooks/Bootstrap.ipynb Cell 21\u001b[0m in \u001b[0;36m<cell line: 1>\u001b[0;34m()\u001b[0m\n\u001b[0;32m----> <a href='vscode-notebook-cell:/u/74/dumeurm1/unix/PhD/pymultifracs/notebooks/Bootstrap.ipynb#X65sZmlsZQ%3D%3D?line=0'>1</a>\u001b[0m lwt\u001b[39m.\u001b[39;49mcumulants\u001b[39m.\u001b[39;49mc2\u001b[39m.\u001b[39mshape\n",
      "File \u001b[0;32m~/PhD/pymultifracs/pymultifracs/cumulants.py:370\u001b[0m, in \u001b[0;36mCumulants.__getattr__\u001b[0;34m(self, name)\u001b[0m\n\u001b[1;32m    368\u001b[0m \u001b[39mif\u001b[39;00m name[\u001b[39m0\u001b[39m] \u001b[39m==\u001b[39m \u001b[39m'\u001b[39m\u001b[39mc\u001b[39m\u001b[39m'\u001b[39m \u001b[39mand\u001b[39;00m \u001b[39mlen\u001b[39m(name) \u001b[39m==\u001b[39m \u001b[39m2\u001b[39m \u001b[39mand\u001b[39;00m name[\u001b[39m1\u001b[39m:]\u001b[39m.\u001b[39misdigit():\n\u001b[1;32m    369\u001b[0m     out \u001b[39m=\u001b[39m \u001b[39mself\u001b[39m\u001b[39m.\u001b[39mlog_cumulants[\u001b[39mself\u001b[39m\u001b[39m.\u001b[39mm \u001b[39m==\u001b[39m \u001b[39mint\u001b[39m(name[\u001b[39m1\u001b[39m])][\u001b[39m0\u001b[39m]\n\u001b[0;32m--> 370\u001b[0m     \u001b[39mreturn\u001b[39;00m out\u001b[39m.\u001b[39;49mreshape(out\u001b[39m.\u001b[39;49mshape[\u001b[39m0\u001b[39;49m], \u001b[39mself\u001b[39;49m\u001b[39m.\u001b[39;49mn_sig, \u001b[39m-\u001b[39;49m\u001b[39m1\u001b[39;49m)\u001b[39m.\u001b[39msqueeze(axis\u001b[39m=\u001b[39m\u001b[39m2\u001b[39m)\n\u001b[1;32m    372\u001b[0m \u001b[39mif\u001b[39;00m name[\u001b[39m0\u001b[39m] \u001b[39m==\u001b[39m \u001b[39m'\u001b[39m\u001b[39mC\u001b[39m\u001b[39m'\u001b[39m \u001b[39mand\u001b[39;00m \u001b[39mlen\u001b[39m(name) \u001b[39m==\u001b[39m \u001b[39m2\u001b[39m \u001b[39mand\u001b[39;00m name[\u001b[39m1\u001b[39m:]\u001b[39m.\u001b[39misdigit():\n\u001b[1;32m    373\u001b[0m     out \u001b[39m=\u001b[39m \u001b[39mself\u001b[39m\u001b[39m.\u001b[39mvalues[\u001b[39mself\u001b[39m\u001b[39m.\u001b[39mm \u001b[39m==\u001b[39m \u001b[39mint\u001b[39m(name[\u001b[39m1\u001b[39m])][\u001b[39m0\u001b[39m]\n",
      "\u001b[0;31mTypeError\u001b[0m: 'NoneType' object cannot be interpreted as an integer"
     ]
    }
   ],
   "source": [
    "lwt.cumulants.c2.shape"
   ]
  },
  {
   "cell_type": "code",
   "execution_count": 49,
   "id": "35df10c5",
   "metadata": {},
   "outputs": [],
   "source": [
    "dwt1, lwt1 = mf_analysis([WT.wt_coefs, WT.wt_leaders], [(3, 12)], weighted=True, n_cumul=3, q=None)"
   ]
  },
  {
   "cell_type": "code",
   "execution_count": 42,
   "id": "56f8915c",
   "metadata": {},
   "outputs": [],
   "source": [
    "from typing import Tuple\n",
    "def estimate_confidence_interval_from_bootstrap(\n",
    "        bootstrap_estimates: np.ndarray,\n",
    "        confidence_level: float = 95.0) \\\n",
    "        -> Tuple[float, float]:\n",
    "    \"\"\"\n",
    "    This function estimates a confidence interval of an estimator given a\n",
    "    variety of estimates of the same statistic from resampled data.\n",
    "    Args:\n",
    "        bootstrap_estimates: a NumPy array of dimension (B, ) containing the statistic\n",
    "                    computed from resampled data\n",
    "        confidence_level: the confidence level associated with the confidence\n",
    "                          interval in percent (i.e. between 0 and 100)\n",
    "    \"\"\"\n",
    "\n",
    "    percent = 100.0 - confidence_level\n",
    "    bootstrap_confidence_interval \\\n",
    "        = (np.percentile(bootstrap_estimates, percent / 2.0, axis=-1),\n",
    "           np.percentile(bootstrap_estimates, 100.0 - percent / 2.0, axis=-1))\n",
    "\n",
    "    return bootstrap_confidence_interval"
   ]
  },
  {
   "cell_type": "code",
   "execution_count": 43,
   "id": "534507e9",
   "metadata": {},
   "outputs": [
    {
     "data": {
      "image/png": "[encoded data removed]",
      "text/plain": [
       "<Figure size 640x480 with 3 Axes>"
      ]
     },
     "metadata": {},
     "output_type": "display_data"
    }
   ],
   "source": [
    "lwt1.cumulants.plot(cm_boot=lwt.cumulants)"
   ]
  },
  {
   "cell_type": "code",
   "execution_count": 68,
   "id": "02995115",
   "metadata": {},
   "outputs": [],
   "source": [
    "import pandas as pd"
   ]
  },
  {
   "cell_type": "code",
   "execution_count": 76,
   "id": "e35b7fdd",
   "metadata": {},
   "outputs": [],
   "source": [
    "df1 = pd.DataFrame(lwt1.cumulants.C2, lwt1.cumulants.j, ['est'])"
   ]
  },
  {
   "cell_type": "code",
   "execution_count": 77,
   "id": "fb86cc90",
   "metadata": {},
   "outputs": [],
   "source": [
    "df = pd.DataFrame(CI, lwt.cumulants.j, ['CI_lo', 'CI_hi'])"
   ]
  },
  {
   "cell_type": "code",
   "execution_count": 78,
   "id": "c3c0d311",
   "metadata": {},
   "outputs": [
    {
     "data": {
      "text/html": [
       "<div>\n",
       "<style scoped>\n",
       "    .dataframe tbody tr th:only-of-type {\n",
       "        vertical-align: middle;\n",
       "    }\n",
       "\n",
       "    .dataframe tbody tr th {\n",
       "        vertical-align: top;\n",
       "    }\n",
       "\n",
       "    .dataframe thead th {\n",
       "        text-align: right;\n",
       "    }\n",
       "</style>\n",
       "<table border=\"1\" class=\"dataframe\">\n",
       "  <thead>\n",
       "    <tr style=\"text-align: right;\">\n",
       "      <th></th>\n",
       "      <th>CI_lo</th>\n",
       "      <th>CI_hi</th>\n",
       "      <th>est</th>\n",
       "    </tr>\n",
       "  </thead>\n",
       "  <tbody>\n",
       "    <tr>\n",
       "      <th>2</th>\n",
       "      <td>0.409823</td>\n",
       "      <td>0.443453</td>\n",
       "      <td>0.427682</td>\n",
       "    </tr>\n",
       "    <tr>\n",
       "      <th>3</th>\n",
       "      <td>0.375947</td>\n",
       "      <td>0.409872</td>\n",
       "      <td>0.393274</td>\n",
       "    </tr>\n",
       "    <tr>\n",
       "      <th>4</th>\n",
       "      <td>0.341777</td>\n",
       "      <td>0.383074</td>\n",
       "      <td>0.364597</td>\n",
       "    </tr>\n",
       "    <tr>\n",
       "      <th>5</th>\n",
       "      <td>0.345677</td>\n",
       "      <td>0.389646</td>\n",
       "      <td>0.373013</td>\n",
       "    </tr>\n",
       "    <tr>\n",
       "      <th>6</th>\n",
       "      <td>0.327895</td>\n",
       "      <td>0.384836</td>\n",
       "      <td>0.358738</td>\n",
       "    </tr>\n",
       "    <tr>\n",
       "      <th>7</th>\n",
       "      <td>0.339635</td>\n",
       "      <td>0.413199</td>\n",
       "      <td>0.375578</td>\n",
       "    </tr>\n",
       "    <tr>\n",
       "      <th>8</th>\n",
       "      <td>0.281940</td>\n",
       "      <td>0.381566</td>\n",
       "      <td>0.329378</td>\n",
       "    </tr>\n",
       "    <tr>\n",
       "      <th>9</th>\n",
       "      <td>0.253409</td>\n",
       "      <td>0.364893</td>\n",
       "      <td>0.301224</td>\n",
       "    </tr>\n",
       "    <tr>\n",
       "      <th>10</th>\n",
       "      <td>0.204546</td>\n",
       "      <td>0.369407</td>\n",
       "      <td>0.280157</td>\n",
       "    </tr>\n",
       "    <tr>\n",
       "      <th>11</th>\n",
       "      <td>0.113603</td>\n",
       "      <td>0.346363</td>\n",
       "      <td>0.191650</td>\n",
       "    </tr>\n",
       "    <tr>\n",
       "      <th>12</th>\n",
       "      <td>0.051266</td>\n",
       "      <td>0.125304</td>\n",
       "      <td>0.098616</td>\n",
       "    </tr>\n",
       "    <tr>\n",
       "      <th>1</th>\n",
       "      <td>0.576474</td>\n",
       "      <td>0.612476</td>\n",
       "      <td>0.594125</td>\n",
       "    </tr>\n",
       "  </tbody>\n",
       "</table>\n",
       "</div>"
      ],
      "text/plain": [
       "       CI_lo     CI_hi       est\n",
       "2   0.409823  0.443453  0.427682\n",
       "3   0.375947  0.409872  0.393274\n",
       "4   0.341777  0.383074  0.364597\n",
       "5   0.345677  0.389646  0.373013\n",
       "6   0.327895  0.384836  0.358738\n",
       "7   0.339635  0.413199  0.375578\n",
       "8   0.281940  0.381566  0.329378\n",
       "9   0.253409  0.364893  0.301224\n",
       "10  0.204546  0.369407  0.280157\n",
       "11  0.113603  0.346363  0.191650\n",
       "12  0.051266  0.125304  0.098616\n",
       "1   0.576474  0.612476  0.594125"
      ]
     },
     "execution_count": 78,
     "metadata": {},
     "output_type": "execute_result"
    }
   ],
   "source": [
    "df.join(df1)"
   ]
  }
 ],
 "metadata": {
  "kernelspec": {
   "display_name": "Python 3.9.7 ('LG')",
   "language": "python",
   "name": "python3"
  },
  "language_info": {
   "codemirror_mode": {
    "name": "ipython",
    "version": 3
   },
   "file_extension": ".py",
   "mimetype": "text/x-python",
   "name": "python",
   "nbconvert_exporter": "python",
   "pygments_lexer": "ipython3",
   "version": "3.10.0"
  },
  "vscode": {
   "interpreter": {
    "hash": "fff546168d806488d9e3dde4ac347d91e27e55fd5c03786b60ad649cf7047478"
   }
  }
 },
 "nbformat": 4,
 "nbformat_minor": 5
}
