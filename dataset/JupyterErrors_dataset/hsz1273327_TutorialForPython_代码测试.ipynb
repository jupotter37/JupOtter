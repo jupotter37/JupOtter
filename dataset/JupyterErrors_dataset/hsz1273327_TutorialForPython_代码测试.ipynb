{
 "cells": [
  {
   "cell_type": "markdown",
   "metadata": {},
   "source": [
    "# 代码测试\n",
    "\n",
    "项目写完后应该写测试以确保代码稳定可靠.经过测试稳定可靠的代码才能经得住时间的考验.但即便有测试,如果代码覆盖不够,测试用例不能覆盖全部情况,这样也并不能保准项目就一定稳健.因此条件允许的话也最好将类型注释写好,利用mypy做好静态类型检验.\n",
    "\n",
    "将代码分解为独立不耦合的小部件,针对这些小部件的测试就是单元测试.测试单元应该集中于小部分的功能,并且证明在各种情况下它的行为正确(包括错误行为).\n",
    "\n",
    "常常将测试代码和运行代码一起写是一种非常好的习惯.聪明地使用这种方法将会帮助你更加精确地定义代码的含义,并且代码的耦合性更低.\n",
    "\n",
    "一般来说,更加推崇的方法是先写测试用例确定代码行为,再写代码,也就是所谓的测试驱动编程.\n",
    "\n",
    "**测试的通用规则**：\n",
    "\n",
    "+ 测试单元应该集中于小部分的功能,并且证明它是对的.\n",
    "+ 每个测试单元应该完全独立.每个都能够单独运行,除了调用的命令,都需在测试套件中.要想实现这个规则,测试单元应该加载最新的数据集,之后再做一些清理.\n",
    "+ 尽量使测试单元快速运行.如果一个单独的测试单元需要较长的时间去运行,开发进度将会延迟,测试单元将不能如期常态性运行.有时候因为测试单元需要复杂的数据结构,并且当它运行时每次都要加载,所以其运行时间较长.把运行吃力的测试单元放在单独的测试组件中,并且按照需要运行其它测试单元.\n",
    "+ 学习使用工具,学习如何运行一个单独的测试用例.然后,当在一个模块中开发了一个功能时,经常运行这个功能的测试用例,理想情况下,一切都将自动.\n",
    "+ 在编码会话前后,要常常运行完整的测试组件.只有这样,你才会坚信剩余的代码不会中断.\n",
    "+ 实现钩子(hook)是一个非常好的主意.因为一旦把代码放入分享仓库中,这个钩子可以运行所有的测试单元.\n",
    "+ 如果你在开发期间不得不打断自己的工作,写一个被打断的单元测试,它关于下一步要开发的东西.当回到工作时,你将更快地回到原先被打断的地方,并且步入正轨.\n",
    "+ 当你调试代码的时候,首先需要写一个精确定位bug的测试单元.尽管这样做很难,但是捕捉bug的单元测试在项目中很重要.\n",
    "+ 测试函数使用长且描述性的名字.这边的样式指导与运行代码有点不一样,运行代码更倾向于使用短的名字,而测试函数不会直接被调用.在运行代码中,`square()`或者甚至`sqr()`这样的命名都是可以的,但是在测试代码中,你应该这样取名`test_square_of_number_2()`,`test_square_negative_number()`.当测试单元失败时,函数名应该显示,而且尽可能具有描述性.\n",
    "+ 当发生了一些问题,或者不得不改变时,如果代码中有一套不错的测试单元,维护将很大一部分依靠测试组件解决问题,或者修改确定的行为.因此测试代码应该尽可能多读,甚至多于运行代码.目的不明确的测试单元在这种情况下没有多少用处.\n",
    "+ 测试代码的另外一个用处是作为新开发人员的入门.当工作基于代码,运行并且阅读相关的测试代码是一个非常好的做法.开发人员将会或者应该发现热点,而这将引起困难和其它情况,如果他们一定要加一些功能,第一步应该是要增加一个测试单元,通过这种方法,确保新功能不再是一个没有被嵌入到接口中的工作路径.\n",
    "\n",
    "\n",
    "## 测试的步骤和分类\n",
    "\n",
    "通常而言我们的测试也是递进式的进行的.对于一个项目而言,我们的的要求从高到底依次提高大致是:\n",
    "\n",
    "1. 按预期的输入功能能用不出错\n",
    "2. 不按预期输入系统也不容易崩溃(鲁棒性)\n",
    "3. 可以更快的处理任务,充分利用资源.\n",
    "\n",
    "那针对这3个要求,测试可以分为如下几种:\n",
    "\n",
    "1. 功能测试(最低限度的保证按预期的输入功能能用不出错)\n",
    "2. 单元测试(确保鲁棒性)\n",
    "3. 性能测试(用于做性能优化)\n",
    "\n",
    "本章只讨论前两种测试,第三种测试可以参考本篇的[性能调优工具]()部分\n",
    "\n",
    "如果是针对多个软件项目或多个模块项目组合实现的复杂项目,那么除了以上三种针对每个子项目的测试外还有如下几种测试用于确保项目整体的质量:\n",
    "\n",
    "+ 冒烟测试(确保系统的主要功能可以运行)\n",
    "+ 回归测试(在系统有变化时测试整体是否引入问题)\n",
    "+ monkey测试(也称搞怪测试,就是用一些随机,稀奇古怪的方式来操作软件,以测试整个系统的健壮性和稳定性)\n",
    "+ 压力测试(用于测试系统在高负载下的效果,通常要搞到环境崩溃以确定系统能力范围)\n",
    "+ 灰度测试(这种测试是在生产环境的,是将新版本随机的小范围的发布到线上以获取用户反馈和验证系统稳定性的一种测试)\n",
    "\n",
    "这一部分会在后面别的篇章中细讲.\n",
    "\n",
    "本文只介绍在python中如何进行功能测试和单元测试.\n",
    "\n",
    "本文从的测试例子为如下模块:"
   ]
  },
  {
   "cell_type": "code",
   "execution_count": 1,
   "metadata": {},
   "outputs": [
    {
     "name": "stdout",
     "output_type": "stream",
     "text": [
      "Writing examples/utest/func_oper_unitest.py\n"
     ]
    }
   ],
   "source": [
    "%%writefile examples/utest/func_oper_unitest.py\n",
    "#!/usr/bin/env python\n",
    "\n",
    "\"\"\"\\\n",
    "这里可以写用到多个函数的\n",
    "\n",
    "\"\"\"\n",
    "from functools import reduce\n",
    "from operator import mul,add\n",
    "\n",
    "def multiply(*args):\n",
    "    \"\"\"\\\n",
    "    这里可以写单元测试\n",
    "    >>> multiply(2,3)\n",
    "    6\n",
    "    >>> multiply('baka~',3)\n",
    "    'baka~baka~baka~'\n",
    "    \"\"\"\n",
    "    return reduce(mul,args)\n",
    "\n",
    "def summing(*args):\n",
    "    \"\"\"\\\n",
    "    这里可以写单元测试\n",
    "    >>> summing(2,3)\n",
    "    5\n",
    "    >>> summing(2,3,4)\n",
    "    9\n",
    "    \"\"\"\n",
    "    return reduce(add,args)"
   ]
  },
  {
   "cell_type": "markdown",
   "metadata": {},
   "source": [
    "## 功能测试\n",
    "\n",
    "功能测试作用是最低限度的保证按预期的输入功能能用不出错.其实这种测试也就划定了功能的范围.在python中功能测试可以使用`doctest`,利用`docstring`进行,这样即做了功能测试,又相当于在文档中为各个功能提供了例子."
   ]
  },
  {
   "cell_type": "markdown",
   "metadata": {},
   "source": [
    "### 使用doctest利用docstring进行简单测试\n",
    "\n",
    "Python提供了解析[docstring](http://localhost:8888/notebooks/Workspace/Documents/TutorialForPython/python-tool-chain/docstring%E5%B7%A5%E5%85%B7.ipynb)中特定语法内容作为测试代码和待验证结果的工具.\n",
    "\n",
    "其语法就是:\n",
    "\n",
    "+ 以`>>> `开头的就是要执行的代码\n",
    "+ 以`... `开头的行表示python中的代码段,\n",
    "+ 要执行代码下面一行就是要验证的内容.\n",
    "\n",
    "比如`a.py`:\n",
    "\n",
    "```python\n",
    "\"\"\"测试乘法接口.\n",
    "\n",
    "这里可以写单元测试\n",
    ">>> multiply(2,3)\n",
    "6\n",
    ">>> multiply('baka~',3)\n",
    "'baka~baka~baka~'\n",
    "\"\"\"\n",
    "```\n",
    "\n",
    "而要进行测试有3种方式:\n",
    "\n",
    "+ 直接使用命令行工具`python -m doctest a.py -v`\n",
    "    \n",
    "    这种方式只对单文件的模块或脚本有效.\n",
    "\n",
    "+ 在这个要测试的模块的最后加上\n",
    "\n",
    "    ```python\n",
    "    if __name__ == '__main__':\n",
    "        import doctest\n",
    "        doctest.testmod(verbose=True)\n",
    "    ```\n",
    "\n",
    "    然后直接执行这个文件即可.这种方式只能测试没有复杂依赖关系的模块,否则容易因为执行的文件无法import同级模块报错.\n",
    "    如果要防止这种报错就得修改源码,这就得不偿失了.\n",
    "    \n",
    "+ 在要测的模块外新建一个python脚本,内容为:\n",
    "\n",
    "    ```python\n",
    "    if __name__ == '__main__':\n",
    "        import doctest\n",
    "        import mod\n",
    "        doctest.testmod(mod,verbose=True)\n",
    "    ```\n",
    "    \n",
    "    其中mod为你要测试的包含docstring的模块.这种方式比较推荐放在根模块的`__init__.py`中,这样就可以直接运行模块以查看功能测试是否通过了.\n",
    "\n",
    "可以看到doctest写起来一点也不方便,会有除了代码外的很多额外内容需要添加,但它的优点就是代码和结果都可见,因此它的适用场景更多的是作为第一级的子模块的接口的功能测试工具.如果在所有模块中使用`doctest`那注释的文本量就爆炸了,这样反而更加不利于代码维护.\n",
    "\n",
    "一个个人比较推荐的模块结构如下:\n",
    "\n",
    "```shell\n",
    "mod---__init__.py(作为doctest的执行入口)\n",
    "    |--submod1_1---__init__.py(写doctest)\n",
    "    |            |--a.py(不写doctest)\n",
    "    |\n",
    "    |--submod_2---__init__.py(写doctest)\n",
    "    |           |--b.py(不写docttest)\n",
    "    |\n",
    "    |--c.py(写doctest)\n",
    "\n",
    "```\n",
    "\n",
    "\n"
   ]
  },
  {
   "cell_type": "markdown",
   "metadata": {},
   "source": [
    "## 单元测试与unittest模块\n",
    "\n",
    "单元测试强调覆盖范围,一方面是要求代码要尽可能多的被测试用例覆盖,另一方面也要求接口的输入情况尽可能多的被测试用例覆盖.\n",
    "\n",
    "python标准库中自带了unittest框架以用来做单元测试.unittest已经可以满足一般的测试需求了.它包含了所有测试框架需要的部件.相比较使用第三方测试框架,unittest相对来说更加稳定可靠,而且作为标准库,也避免了额外的依赖安装.\n",
    "\n",
    "同时结合第三方包`coverage`可以很好的输出测试的覆盖率.\n",
    "\n",
    "\n",
    "使用 unittest 的标准流程为：\n",
    "\n",
    "+ 从 unittest.TestCase 派生一个子类\n",
    "+ 在类中定义各种以 `\"test_\"` 打头的方法\n",
    "+ 通过 unittest.main() 函数来启动测试\n",
    "\n",
    "unittest可以指定测试**模块**使用\n",
    "\n",
    "`unittest test.py`或者`unittest test`或者`unittest test.test`\n",
    "\n",
    "它可以带上以下参数\n",
    "\n",
    "+ -v 测试的详细信息\n",
    "+ -f 出错就停\n",
    "+ -c 可以用ctrol+c停止,并出结果\n",
    "+ -b 运行时结果存到stderr和stdout里\n",
    "\n",
    "unittest 支持自动搜索,这需要在后面加上子选项`discover`,\n",
    "`discover`可以有这些参数:\n",
    "\n",
    "\n",
    "+ -s 指定文件夹\n",
    "+ -t 指定模块\n",
    "+ -p 模式匹配要测试的文件\n",
    "\n",
    "`unittest`的一个很有用的特性是`TestCase`的`setUp()`和`tearDown()`方法,这种方法统称\"钩子\"它们提供了为测试进行准备和扫尾工作的功能,听起来就像上下文管理器一样.这种功能很适合用在测试对象需要复杂执行环境的情况下."
   ]
  },
  {
   "cell_type": "markdown",
   "metadata": {},
   "source": [
    "### 测试用例\n",
    "\n",
    "测试用例是指一系列相关测试的实例.如何界定这个相关程度根据实际情况而定,比如粗略的测试可以以模块为单位,一个模块的测试都放在一个测试用例中,细致的则可以是针对一个函数或者一个接口的测试都放在一个测试用例中.\n",
    "\n",
    "`unittest.TestCase`是测试用例的超类,编写测试用例只要继承它即可."
   ]
  },
  {
   "cell_type": "code",
   "execution_count": 2,
   "metadata": {},
   "outputs": [
    {
     "name": "stdout",
     "output_type": "stream",
     "text": [
      "Writing examples/utest/test_my.py\n"
     ]
    }
   ],
   "source": [
    "%%writefile examples/utest/test_my.py\n",
    "\n",
    "import unittest\n",
    "    \n",
    "from func_oper_unitest import multiply,summing\n",
    "\n",
    "class Test_mul(unittest.TestCase):\n",
    "    def setUp(self):\n",
    "        pass\n",
    "    def test_number_3_4(self):\n",
    "        self.assertEqual(multiply(3,4),12)\n",
    "    def test_string_a_3(self):\n",
    "        self.assertEqual(multiply('a',3),'aaa')\n",
    "        \n",
    "class Test_sum(unittest.TestCase):\n",
    "    def setUp(self):\n",
    "        pass\n",
    "    def test_number_3_4(self):\n",
    "        self.assertEqual(summing(3,4),7)\n",
    "    def test_number_3_4_5(self):\n",
    "        self.assertEqual(summing(3,4,5),12)\n",
    "class TestCase1(unittest.TestCase):\n",
    "    def setUp(self):\n",
    "        pass\n",
    "    def test_sum_mul_2_3_mul_2_3(self):\n",
    "        self.assertEqual(summing(multiply(2,3),multiply(2,3)),12)\n",
    "\n",
    "if __name__ == '__main__':\n",
    "    unittest.main()\n"
   ]
  },
  {
   "cell_type": "code",
   "execution_count": 3,
   "metadata": {},
   "outputs": [
    {
     "name": "stdout",
     "output_type": "stream",
     "text": [
      "test_sum_mul_2_3_mul_2_3 (test_my.TestCase1) ... ok\n",
      "test_number_3_4 (test_my.Test_mul) ... ok\n",
      "test_string_a_3 (test_my.Test_mul) ... ok\n",
      "test_number_3_4 (test_my.Test_sum) ... ok\n",
      "test_number_3_4_5 (test_my.Test_sum) ... ok\n",
      "\n",
      "----------------------------------------------------------------------\n",
      "Ran 5 tests in 0.000s\n",
      "\n",
      "OK\n"
     ]
    }
   ],
   "source": [
    "!python3 -m unittest discover -v -s ./examples/utest"
   ]
  },
  {
   "cell_type": "markdown",
   "metadata": {},
   "source": [
    "## 钩子\n",
    "\n",
    "如果要对一个模块中的每一个测试函数都做同样的初始化操作和结尾清除等操作,那么创建n个测试用例就得写n遍一样的代码.为了减少重复的代码测试用例的实例可以使用下面两个函数定义其中每个测试样例的初始化和清除工作:\n",
    "\n",
    "+ `setUp(self)`: 每次执行测试用例之前调用.无参数,无返回值.该方法抛出的异常都视为error而不是测试不通过.没有默认的实现.\n",
    "\n",
    "+ `tearDown(self)`: 每次执行测试用例之后调用.无参数,无返回值.测试方法抛出异常,该方法也正常调用,该方法抛出的异常都视为error,而不是测试不通过.只用`setUp()`调用成功该方法才会被调用.没有默认的实现.通过`setup`和`tesrDown`组装一个`module`成为一个固定的测试实例.注意:如果`setup`运行抛出错误则测试用例代码则不会执行.但是如果`setup`执行成功,不管测试用例是否执行成功都会执行`teardown`.\n",
    "\n",
    "测试用例也有一个类级别的钩子,它可以在测试用例类实例化之前和类全部测试实例运行完后进行操作\n",
    "\n",
    "```python\n",
    "@classmethod\n",
    "def setUpClass(cls):\n",
    "    cls._connection = createExpensiveConnectionObject()\n",
    "\n",
    "@classmethod\n",
    "def tearDownClass(cls):\n",
    "    cls._connection.destroy()\n",
    "```\n",
    "\n",
    "测试钩子也可以定义模块级别的钩子,它会在模块被引用和模块运行结束后进行工作\n",
    "\n",
    "```python\n",
    "\n",
    "def setUpModule():\n",
    "   createConnection()\n",
    "def tearDownModule(): \n",
    "   closeConnection()\n",
    "```"
   ]
  },
  {
   "cell_type": "code",
   "execution_count": 4,
   "metadata": {},
   "outputs": [
    {
     "name": "stdout",
     "output_type": "stream",
     "text": [
      "Writing examples/utest/test_hook.py\n"
     ]
    }
   ],
   "source": [
    "%%writefile examples/utest/test_hook.py\n",
    "\n",
    "import unittest\n",
    "    \n",
    "from func_oper_unitest import multiply,summing\n",
    "\n",
    "def setUpModule():\n",
    "    print(\"setUpModule\")\n",
    "def tearDownModule(): \n",
    "    print(\"tearUpModule\")\n",
    "\n",
    "    \n",
    "class Test_mul(unittest.TestCase):\n",
    "    @classmethod\n",
    "    def setUpClass(cls):\n",
    "        print(\"setUpClass\")\n",
    "\n",
    "    @classmethod\n",
    "    def tearDownClass(cls):\n",
    "        print(\"tearDownClass\")\n",
    "    def setUp(self):\n",
    "        print(\"instance setUp\")\n",
    "    def tearDown(self):\n",
    "        print(\"instance tearDown\")\n",
    "    def test_number_3_4(self):\n",
    "        print(\"t1\")\n",
    "        self.assertEqual(multiply(3,4),12)\n",
    "    def test_string_a_3(self):\n",
    "        print(\"t2\")\n",
    "        self.assertEqual(multiply('a',3),'aaa')\n",
    "        \n",
    "        \n",
    "\n",
    "\n",
    "if __name__ == '__main__':\n",
    "    unittest.main()"
   ]
  },
  {
   "cell_type": "code",
   "execution_count": 5,
   "metadata": {},
   "outputs": [
    {
     "name": "stdout",
     "output_type": "stream",
     "text": [
      "setUpModule\n",
      "setUpClass\n",
      "test_number_3_4 (test_hook.Test_mul) ... instance setUp\n",
      "t1\n",
      "instance tearDown\n",
      "ok\n",
      "test_string_a_3 (test_hook.Test_mul) ... instance setUp\n",
      "t2\n",
      "instance tearDown\n",
      "ok\n",
      "tearDownClass\n",
      "tearUpModule\n",
      "test_sum_mul_2_3_mul_2_3 (test_my.TestCase1) ... ok\n",
      "test_number_3_4 (test_my.Test_mul) ... ok\n",
      "test_string_a_3 (test_my.Test_mul) ... ok\n",
      "test_number_3_4 (test_my.Test_sum) ... ok\n",
      "test_number_3_4_5 (test_my.Test_sum) ... ok\n",
      "\n",
      "----------------------------------------------------------------------\n",
      "Ran 7 tests in 0.000s\n",
      "\n",
      "OK\n"
     ]
    }
   ],
   "source": [
    "!python3 -m unittest discover -v -s ./examples/utest"
   ]
  },
  {
   "cell_type": "markdown",
   "metadata": {},
   "source": [
    "上面的结果可以很清洗的看到测试钩子的上下文范围."
   ]
  },
  {
   "cell_type": "markdown",
   "metadata": {},
   "source": [
    "## 断言\n",
    "\n",
    "断言是用来声明结果状态的工具,如果结果符合预期,那么断言就该通过,否则断言就该报断言错误\n",
    "\n",
    "\n",
    "python自带断言关键字`assert`"
   ]
  },
  {
   "cell_type": "code",
   "execution_count": 6,
   "metadata": {},
   "outputs": [],
   "source": [
    "assert 1==1"
   ]
  },
  {
   "cell_type": "code",
   "execution_count": 7,
   "metadata": {},
   "outputs": [
    {
     "ename": "AssertionError",
     "evalue": "",
     "output_type": "error",
     "traceback": [
      "\u001b[0;31m---------------------------------------------------------------------------\u001b[0m",
      "\u001b[0;31mAssertionError\u001b[0m                            Traceback (most recent call last)",
      "Cell \u001b[0;32mIn[7], line 1\u001b[0m\n\u001b[0;32m----> 1\u001b[0m \u001b[38;5;28;01massert\u001b[39;00m \u001b[38;5;241m1\u001b[39m\u001b[38;5;241m==\u001b[39m\u001b[38;5;241m0\u001b[39m\n",
      "\u001b[0;31mAssertionError\u001b[0m: "
     ]
    }
   ],
   "source": [
    "assert 1==0"
   ]
  },
  {
   "cell_type": "markdown",
   "metadata": {},
   "source": [
    "自带的断言关键字功能单一,往往不能完全满足测试需要,比如要测报错的错误类型就很麻烦了,因此除`assert`关键字外,标准库`unittest`模块还有其他几个断言工具实现更加复杂的断言."
   ]
  },
  {
   "cell_type": "markdown",
   "metadata": {},
   "source": [
    "### 基本断言方法\n",
    "\n",
    "基本的断言方法提供了测试结果是True还是False。所有的断言方法都有一个msg参数，如果指定msg参数的值，则将该信息作为失败的错误信息返回。\n",
    "\n",
    "断言方法|\t断言描述\n",
    "---|---\n",
    "`assertEqual(arg1, arg2, msg=None)`|验证arg1=arg2，不等则fail\n",
    "`assertNotEqual(arg1, arg2, msg=None)`|验证arg1 != arg2, 相等则fail\n",
    "`assertTrue(expr, msg=None)`|验证expr是true，如果为false，则fail\n",
    "`assertFalse(expr,msg=None)`|验证expr是false，如果为true，则fail\n",
    "`assertIs(arg1, arg2, msg=None)`|验证arg1、arg2是同一个对象，不是则fail\n",
    "`assertIsNot(arg1, arg2, msg=None)`|验证arg1、arg2不是同一个对象，是则fail\n",
    "`assertIsNone(expr, msg=None)`|验证expr是None，不是则fail\n",
    "`assertIsNotNone(expr, msg=None)`|验证expr不是None，是则fail\n",
    "`assertIn(arg1, arg2, msg=None)`|验证arg1是arg2的子串，不是则fail\n",
    "`assertNotIn(arg1, arg2, msg=None)`|验证arg1不是arg2的子串，是则fail\n",
    "`assertIsInstance(obj, cls, msg=None)`|验证obj是cls的实例，不是则fail\n",
    "`assertNotIsInstance(obj, cls, msg=None)`|验证obj不是cls的实例，是则fail"
   ]
  },
  {
   "cell_type": "markdown",
   "metadata": {},
   "source": [
    "### 容器断言\n",
    "\n",
    "判断两个容器中内容是否一样\n",
    "\n",
    "断言方法|针对容器|断言描述\n",
    "---|---|---\n",
    "`assertMultiLineEqual(a, b)`|strings|比较两个字符串是否一样\n",
    "`assertSequenceEqual(a, b)`|sequences|比较两个序列是否一样\n",
    "`assertListEqual(a, b)`|lists|\t比较两个list是否一样\n",
    "`assertTupleEqual(a, b)`|tuples|比较两个元组是否一样\n",
    "`assertSetEqual(a, b)`|sets 或者 frozensets|比较两个集合是否一样\n",
    "`assertDictEqual(a, b)`|dicts|比较两个字典是否一样"
   ]
  },
  {
   "cell_type": "markdown",
   "metadata": {},
   "source": [
    "### 模糊比较断言\n",
    "\n",
    "unittest框架提供的第二种断言类型就是比较断言。\n",
    "\n",
    "下面我们看下各种比较断言：\n",
    "\n",
    "\n",
    "断言方法|断言描述|参数说明\n",
    "---|---|---\n",
    "`assertAlmostEqual(first, second, places=7, msg=None, delta=None)`|验证first约等于second|palces:指定精确到小数点后多少位,默认为7\n",
    "`assertNotAlmostEqual(first, second, places, msg, delta)`|验证first不约等于second|palces:指定精确到小数点后多少位,默认为7,注: 在上述的两个函数中如果delta指定了值则first和second之间的差值必须小于等于delta\n",
    "`assertGreater(first, second, msg=None)`|验证first>second，否则fail|---\n",
    "`assertGreaterEqual(first, second, msg=None)`|验证first ≥ second，否则fail|---\n",
    "`assertLess(first, second, msg=None)`|验证first < second，否则fail|---\n",
    "`assertLessEqual(first, second, msg=None)`|验证first ≤ second，否则fail|---\n",
    "`assertRegexpMatches(text, regexp, msg=None)`|验证正则表达式regexp搜索==匹配==的文本text|regexp:通常使用re.search()\n",
    "`assertNotRegexpMatches(text, regexp, msg=None)`|验证正则表达式regexp搜索==不匹配==的文本text|regexp:通常使用re.search()"
   ]
  },
  {
   "cell_type": "markdown",
   "metadata": {},
   "source": [
    "### 异常断言\n",
    "\n",
    "\n",
    "断言方法|\t断言描述\n",
    "---|---\n",
    "`assertRaises(exc, fun, *args, **kwds)`\t|验证异常测试，第一个参数是预期的异常,第二个则是待测的函数名,后面的则是待测函数的参数.当调用待测试函数时,在传入相应的测试数据后，如果测试通过，则表明待测试函数抛出了预期的异常，否则测试失败. \n",
    "`assertRaisesRegex(exc, r, fun, *args, **kwds)`\t|验证异常测试，第一个参数是预期的异常,第二个参数则是一个用来匹配错误信息的正则表达式,第三个则是待测的函数名,后面的则是待测函数的参数.当调用待测试函数时,在传入相应的测试数据后，如果测试通过，则表明待测试函数抛出了预期的异常,且错误信息也匹配，否则测试失败. \n",
    "`assertWarns(warn, fun, *args, **kwds)`|验证警告测试，第一个参数是预期的警告,第二个参数是待测的函数名,后面的则是待测函数的参数.当调用待测试函数时,在传入相应的测试数据后，如果测试通过，则表明待测试函数抛出了预期的警告否则测试失败. \n",
    "`assertWarnsRegex(warn, r, fun, *args, **kwds)`|验证警告测试，第一个参数是预期的警告,第二个参数则是一个用来匹配警告信息的正则表达式,第三个则是待测的函数名,后面的则是待测函数的参数.当调用待测试函数时,在传入相应的测试数据后，如果测试通过，则表明待测试函数抛出了预期的警告，且警告信息也匹配否则测试失败. \n",
    "`assertLogs(logger, level)`|断言log信息\n",
    "\n",
    "\n",
    "异常断言与其他不太一样,往往结合上下文使用"
   ]
  },
  {
   "cell_type": "code",
   "execution_count": 8,
   "metadata": {},
   "outputs": [
    {
     "name": "stdout",
     "output_type": "stream",
     "text": [
      "Writing examples/utest/test_assert_base.py\n"
     ]
    }
   ],
   "source": [
    "%%writefile examples/utest/test_assert_base.py\n",
    "import unittest\n",
    "class demoTest(unittest.TestCase):\n",
    "    def test_eq(self):\n",
    "        self.assertEqual(4 + 5,9)\n",
    "\n",
    "    def test_not_eq(self):\n",
    "        self.assertNotEqual(5 * 2,10)\n",
    "\n",
    "    def test_seq(self):\n",
    "        a=[\"1\",\"2\",\"3\"]\n",
    "        b = (\"1\",\"2\",\"3\")\n",
    "        self.assertSequenceEqual(a, b)\n",
    "\n",
    "    def test_not_seq(self):\n",
    "        a = [\"1\",\"2\",\"3\"]\n",
    "        b = (\"1\",\"2\",\"3\",\"4\")\n",
    "        self.assertSequenceEqual(a, b)\n",
    "\n",
    "    def test_almost_eq(self):\n",
    "        self.assertAlmostEqual(1.003, 1.004, places = 2)\n",
    "\n",
    "    def test_not_almost_eq(self):\n",
    "        self.assertAlmostEqual(1.003, 1.004, places = 4)\n",
    "        \n",
    "    def test_exc(self):\n",
    "        def fun():\n",
    "            assert 0\n",
    "        self.assertRaises(AssertionError, fun)\n",
    "\n",
    "    def test_with_exc(self):\n",
    "        def fun():\n",
    "            assert 0\n",
    "        with self.assertRaises(AssertionError) as a:\n",
    "            fun()\n",
    "\n"
   ]
  },
  {
   "cell_type": "code",
   "execution_count": 9,
   "metadata": {},
   "outputs": [
    {
     "name": "stdout",
     "output_type": "stream",
     "text": [
      "test_almost_eq (test_assert_base.demoTest) ... ok\n",
      "test_eq (test_assert_base.demoTest) ... ok\n",
      "test_exc (test_assert_base.demoTest) ... ok\n",
      "test_not_almost_eq (test_assert_base.demoTest) ... FAIL\n",
      "test_not_eq (test_assert_base.demoTest) ... FAIL\n",
      "test_not_seq (test_assert_base.demoTest) ... FAIL\n",
      "test_seq (test_assert_base.demoTest) ... ok\n",
      "test_with_exc (test_assert_base.demoTest) ... ok\n",
      "setUpModule\n",
      "setUpClass\n",
      "test_number_3_4 (test_hook.Test_mul) ... instance setUp\n",
      "t1\n",
      "instance tearDown\n",
      "ok\n",
      "test_string_a_3 (test_hook.Test_mul) ... instance setUp\n",
      "t2\n",
      "instance tearDown\n",
      "ok\n",
      "tearDownClass\n",
      "tearUpModule\n",
      "test_sum_mul_2_3_mul_2_3 (test_my.TestCase1) ... ok\n",
      "test_number_3_4 (test_my.Test_mul) ... ok\n",
      "test_string_a_3 (test_my.Test_mul) ... ok\n",
      "test_number_3_4 (test_my.Test_sum) ... ok\n",
      "test_number_3_4_5 (test_my.Test_sum) ... ok\n",
      "\n",
      "======================================================================\n",
      "FAIL: test_not_almost_eq (test_assert_base.demoTest)\n",
      "----------------------------------------------------------------------\n",
      "Traceback (most recent call last):\n",
      "  File \"/Users/mac/WORKSPACE/GITHUB/BLOG/TutorialForPython/src/工具链篇/examples/utest/test_assert_base.py\", line 23, in test_not_almost_eq\n",
      "    self.assertAlmostEqual(1.003, 1.004, places = 4)\n",
      "AssertionError: 1.003 != 1.004 within 4 places (0.001000000000000112 difference)\n",
      "\n",
      "======================================================================\n",
      "FAIL: test_not_eq (test_assert_base.demoTest)\n",
      "----------------------------------------------------------------------\n",
      "Traceback (most recent call last):\n",
      "  File \"/Users/mac/WORKSPACE/GITHUB/BLOG/TutorialForPython/src/工具链篇/examples/utest/test_assert_base.py\", line 7, in test_not_eq\n",
      "    self.assertNotEqual(5 * 2,10)\n",
      "AssertionError: 10 == 10\n",
      "\n",
      "======================================================================\n",
      "FAIL: test_not_seq (test_assert_base.demoTest)\n",
      "----------------------------------------------------------------------\n",
      "Traceback (most recent call last):\n",
      "  File \"/Users/mac/WORKSPACE/GITHUB/BLOG/TutorialForPython/src/工具链篇/examples/utest/test_assert_base.py\", line 17, in test_not_seq\n",
      "    self.assertSequenceEqual(a, b)\n",
      "AssertionError: Sequences differ: ['1', '2', '3'] != ('1', '2', '3', '4')\n",
      "\n",
      "Second sequence contains 1 additional elements.\n",
      "First extra element 3:\n",
      "'4'\n",
      "\n",
      "- ['1', '2', '3']\n",
      "+ ('1', '2', '3', '4')\n",
      "\n",
      "----------------------------------------------------------------------\n",
      "Ran 15 tests in 0.001s\n",
      "\n",
      "FAILED (failures=3)\n"
     ]
    }
   ],
   "source": [
    "!python3 -m unittest discover -v -s ./examples/utest"
   ]
  },
  {
   "cell_type": "markdown",
   "metadata": {},
   "source": [
    "## 跳过测试和预期测试出错\n",
    "\n",
    "unittest提供了4个装饰器来控制测试的行为\n",
    "\n",
    "+ @unittest.skip(reason)\n",
    "跳过测试用例的某条测试项目\n",
    "\n",
    "+ @unittest.skipIf(condition, reason)\n",
    "如果条件`condition`条件成立,那就跳过测试用例的某条测试项目\n",
    "\n",
    "+ @unittest.skipUnless(condition, reason)\n",
    "如果条件`condition`条件不成立,那就跳过测试用例的某条测试项目\n",
    "\n",
    "+ @unittest.expectedFailure\n",
    "断定测试项目会失败\n"
   ]
  },
  {
   "cell_type": "code",
   "execution_count": 10,
   "metadata": {},
   "outputs": [
    {
     "name": "stdout",
     "output_type": "stream",
     "text": [
      "Writing examples/utest/test_assert_skip.py\n"
     ]
    }
   ],
   "source": [
    "%%writefile examples/utest/test_assert_skip.py\n",
    "import unittest\n",
    "class demoTest(unittest.TestCase):\n",
    "    @unittest.skip(\"跳过\")\n",
    "    def test_eq(self):\n",
    "        self.assertEqual(4 + 5,9)\n",
    "    @unittest.expectedFailure \n",
    "    def test_not_eq(self):\n",
    "        self.assertNotEqual(5 * 2,10)\n",
    "    @unittest.skipIf(1==0, \"if 1 ==0\")\n",
    "    def test_seq(self):\n",
    "        a=[\"1\",\"2\",\"3\"]\n",
    "        b = (\"1\",\"2\",\"3\")\n",
    "        self.assertSequenceEqual(a, b)\n",
    "    @unittest.skipUnless(1==0, \"unless 1 ==0\")\n",
    "    def test_seq_2(self):\n",
    "        a=[\"1\",\"2\",\"3\"]\n",
    "        b = (\"1\",\"2\",\"3\")\n",
    "        self.assertSequenceEqual(a, b)\n",
    "    @unittest.expectedFailure \n",
    "    def test_not_seq(self):\n",
    "        a = [\"1\",\"2\",\"3\"]\n",
    "        b = (\"1\",\"2\",\"3\",\"4\")\n",
    "        self.assertSequenceEqual(a, b)\n"
   ]
  },
  {
   "cell_type": "code",
   "execution_count": 11,
   "metadata": {},
   "outputs": [
    {
     "name": "stdout",
     "output_type": "stream",
     "text": [
      "test_almost_eq (test_assert_base.demoTest) ... ok\n",
      "test_eq (test_assert_base.demoTest) ... ok\n",
      "test_exc (test_assert_base.demoTest) ... ok\n",
      "test_not_almost_eq (test_assert_base.demoTest) ... FAIL\n",
      "test_not_eq (test_assert_base.demoTest) ... FAIL\n",
      "test_not_seq (test_assert_base.demoTest) ... FAIL\n",
      "test_seq (test_assert_base.demoTest) ... ok\n",
      "test_with_exc (test_assert_base.demoTest) ... ok\n",
      "test_eq (test_assert_skip.demoTest) ... skipped '跳过'\n",
      "test_not_eq (test_assert_skip.demoTest) ... expected failure\n",
      "test_not_seq (test_assert_skip.demoTest) ... expected failure\n",
      "test_seq (test_assert_skip.demoTest) ... ok\n",
      "test_seq_2 (test_assert_skip.demoTest) ... skipped 'unless 1 ==0'\n",
      "setUpModule\n",
      "setUpClass\n",
      "test_number_3_4 (test_hook.Test_mul) ... instance setUp\n",
      "t1\n",
      "instance tearDown\n",
      "ok\n",
      "test_string_a_3 (test_hook.Test_mul) ... instance setUp\n",
      "t2\n",
      "instance tearDown\n",
      "ok\n",
      "tearDownClass\n",
      "tearUpModule\n",
      "test_sum_mul_2_3_mul_2_3 (test_my.TestCase1) ... ok\n",
      "test_number_3_4 (test_my.Test_mul) ... ok\n",
      "test_string_a_3 (test_my.Test_mul) ... ok\n",
      "test_number_3_4 (test_my.Test_sum) ... ok\n",
      "test_number_3_4_5 (test_my.Test_sum) ... ok\n",
      "\n",
      "======================================================================\n",
      "FAIL: test_not_almost_eq (test_assert_base.demoTest)\n",
      "----------------------------------------------------------------------\n",
      "Traceback (most recent call last):\n",
      "  File \"/Users/mac/WORKSPACE/GITHUB/BLOG/TutorialForPython/src/工具链篇/examples/utest/test_assert_base.py\", line 23, in test_not_almost_eq\n",
      "    self.assertAlmostEqual(1.003, 1.004, places = 4)\n",
      "AssertionError: 1.003 != 1.004 within 4 places (0.001000000000000112 difference)\n",
      "\n",
      "======================================================================\n",
      "FAIL: test_not_eq (test_assert_base.demoTest)\n",
      "----------------------------------------------------------------------\n",
      "Traceback (most recent call last):\n",
      "  File \"/Users/mac/WORKSPACE/GITHUB/BLOG/TutorialForPython/src/工具链篇/examples/utest/test_assert_base.py\", line 7, in test_not_eq\n",
      "    self.assertNotEqual(5 * 2,10)\n",
      "AssertionError: 10 == 10\n",
      "\n",
      "======================================================================\n",
      "FAIL: test_not_seq (test_assert_base.demoTest)\n",
      "----------------------------------------------------------------------\n",
      "Traceback (most recent call last):\n",
      "  File \"/Users/mac/WORKSPACE/GITHUB/BLOG/TutorialForPython/src/工具链篇/examples/utest/test_assert_base.py\", line 17, in test_not_seq\n",
      "    self.assertSequenceEqual(a, b)\n",
      "AssertionError: Sequences differ: ['1', '2', '3'] != ('1', '2', '3', '4')\n",
      "\n",
      "Second sequence contains 1 additional elements.\n",
      "First extra element 3:\n",
      "'4'\n",
      "\n",
      "- ['1', '2', '3']\n",
      "+ ('1', '2', '3', '4')\n",
      "\n",
      "----------------------------------------------------------------------\n",
      "Ran 20 tests in 0.002s\n",
      "\n",
      "FAILED (failures=3, skipped=2, expected failures=2)\n"
     ]
    }
   ],
   "source": [
    "!python3 -m unittest discover -v -s ./examples/utest"
   ]
  },
  {
   "cell_type": "markdown",
   "metadata": {},
   "source": [
    "## 使用子测验进行迭代测试\n",
    "\n",
    "有时候我们希望对一个迭代器中的内容分别进行测试,这种时候就可以使用测试样例的`subTest`上下文"
   ]
  },
  {
   "cell_type": "code",
   "execution_count": 12,
   "metadata": {},
   "outputs": [
    {
     "name": "stdout",
     "output_type": "stream",
     "text": [
      "Writing examples/utest/test_subtest.py\n"
     ]
    }
   ],
   "source": [
    "%%writefile examples/utest/test_subtest.py\n",
    "import unittest\n",
    "class demoTest(unittest.TestCase):\n",
    "   \n",
    "    def test_subtest(self):\n",
    "        for i in range(0, 6):\n",
    "            with self.subTest(i=i):\n",
    "                self.assertEqual(i % 2, 0)"
   ]
  },
  {
   "cell_type": "code",
   "execution_count": 13,
   "metadata": {},
   "outputs": [
    {
     "name": "stdout",
     "output_type": "stream",
     "text": [
      "test_almost_eq (test_assert_base.demoTest) ... ok\n",
      "test_eq (test_assert_base.demoTest) ... ok\n",
      "test_exc (test_assert_base.demoTest) ... ok\n",
      "test_not_almost_eq (test_assert_base.demoTest) ... FAIL\n",
      "test_not_eq (test_assert_base.demoTest) ... FAIL\n",
      "test_not_seq (test_assert_base.demoTest) ... FAIL\n",
      "test_seq (test_assert_base.demoTest) ... ok\n",
      "test_with_exc (test_assert_base.demoTest) ... ok\n",
      "test_eq (test_assert_skip.demoTest) ... skipped '跳过'\n",
      "test_not_eq (test_assert_skip.demoTest) ... expected failure\n",
      "test_not_seq (test_assert_skip.demoTest) ... expected failure\n",
      "test_seq (test_assert_skip.demoTest) ... ok\n",
      "test_seq_2 (test_assert_skip.demoTest) ... skipped 'unless 1 ==0'\n",
      "setUpModule\n",
      "setUpClass\n",
      "test_number_3_4 (test_hook.Test_mul) ... instance setUp\n",
      "t1\n",
      "instance tearDown\n",
      "ok\n",
      "test_string_a_3 (test_hook.Test_mul) ... instance setUp\n",
      "t2\n",
      "instance tearDown\n",
      "ok\n",
      "tearDownClass\n",
      "tearUpModule\n",
      "test_sum_mul_2_3_mul_2_3 (test_my.TestCase1) ... ok\n",
      "test_number_3_4 (test_my.Test_mul) ... ok\n",
      "test_string_a_3 (test_my.Test_mul) ... ok\n",
      "test_number_3_4 (test_my.Test_sum) ... ok\n",
      "test_number_3_4_5 (test_my.Test_sum) ... ok\n",
      "test_subtest (test_subtest.demoTest) ... \n",
      "======================================================================\n",
      "FAIL: test_not_almost_eq (test_assert_base.demoTest)\n",
      "----------------------------------------------------------------------\n",
      "Traceback (most recent call last):\n",
      "  File \"/Users/mac/WORKSPACE/GITHUB/BLOG/TutorialForPython/src/工具链篇/examples/utest/test_assert_base.py\", line 23, in test_not_almost_eq\n",
      "    self.assertAlmostEqual(1.003, 1.004, places = 4)\n",
      "AssertionError: 1.003 != 1.004 within 4 places (0.001000000000000112 difference)\n",
      "\n",
      "======================================================================\n",
      "FAIL: test_not_eq (test_assert_base.demoTest)\n",
      "----------------------------------------------------------------------\n",
      "Traceback (most recent call last):\n",
      "  File \"/Users/mac/WORKSPACE/GITHUB/BLOG/TutorialForPython/src/工具链篇/examples/utest/test_assert_base.py\", line 7, in test_not_eq\n",
      "    self.assertNotEqual(5 * 2,10)\n",
      "AssertionError: 10 == 10\n",
      "\n",
      "======================================================================\n",
      "FAIL: test_not_seq (test_assert_base.demoTest)\n",
      "----------------------------------------------------------------------\n",
      "Traceback (most recent call last):\n",
      "  File \"/Users/mac/WORKSPACE/GITHUB/BLOG/TutorialForPython/src/工具链篇/examples/utest/test_assert_base.py\", line 17, in test_not_seq\n",
      "    self.assertSequenceEqual(a, b)\n",
      "AssertionError: Sequences differ: ['1', '2', '3'] != ('1', '2', '3', '4')\n",
      "\n",
      "Second sequence contains 1 additional elements.\n",
      "First extra element 3:\n",
      "'4'\n",
      "\n",
      "- ['1', '2', '3']\n",
      "+ ('1', '2', '3', '4')\n",
      "\n",
      "======================================================================\n",
      "FAIL: test_subtest (test_subtest.demoTest) (i=1)\n",
      "----------------------------------------------------------------------\n",
      "Traceback (most recent call last):\n",
      "  File \"/Users/mac/WORKSPACE/GITHUB/BLOG/TutorialForPython/src/工具链篇/examples/utest/test_subtest.py\", line 7, in test_subtest\n",
      "    self.assertEqual(i % 2, 0)\n",
      "AssertionError: 1 != 0\n",
      "\n",
      "======================================================================\n",
      "FAIL: test_subtest (test_subtest.demoTest) (i=3)\n",
      "----------------------------------------------------------------------\n",
      "Traceback (most recent call last):\n",
      "  File \"/Users/mac/WORKSPACE/GITHUB/BLOG/TutorialForPython/src/工具链篇/examples/utest/test_subtest.py\", line 7, in test_subtest\n",
      "    self.assertEqual(i % 2, 0)\n",
      "AssertionError: 1 != 0\n",
      "\n",
      "======================================================================\n",
      "FAIL: test_subtest (test_subtest.demoTest) (i=5)\n",
      "----------------------------------------------------------------------\n",
      "Traceback (most recent call last):\n",
      "  File \"/Users/mac/WORKSPACE/GITHUB/BLOG/TutorialForPython/src/工具链篇/examples/utest/test_subtest.py\", line 7, in test_subtest\n",
      "    self.assertEqual(i % 2, 0)\n",
      "AssertionError: 1 != 0\n",
      "\n",
      "----------------------------------------------------------------------\n",
      "Ran 21 tests in 0.003s\n",
      "\n",
      "FAILED (failures=6, skipped=2, expected failures=2)\n"
     ]
    }
   ],
   "source": [
    "!python3 -m unittest discover -v -s ./examples/utest"
   ]
  },
  {
   "cell_type": "markdown",
   "metadata": {},
   "source": [
    "## 分组测试\n",
    "\n",
    "很多时候我们希望将测试用例组织起来一部分一部分的测试而不是一次全测了,这种时候就可以使用`unittest.TestSuite`组织需要的测试,细化的运行测试.\n",
    "\n",
    "注意细分的测试不能用命令行工具来运行了,而是应该独立运行脚本"
   ]
  },
  {
   "cell_type": "code",
   "execution_count": 14,
   "metadata": {},
   "outputs": [
    {
     "name": "stdout",
     "output_type": "stream",
     "text": [
      "Writing examples/utest/test_suite.py\n"
     ]
    }
   ],
   "source": [
    "%%writefile examples/utest/test_suite.py\n",
    "import unittest\n",
    "class ArithTest(unittest.TestCase):\n",
    "    def test_eq(self):\n",
    "        self.assertEqual(4 + 5,9)\n",
    "\n",
    "    def test_not_eq(self):\n",
    "        self.assertNotEqual(5 * 2,10)\n",
    "\n",
    "    def test_seq(self):\n",
    "        a=[\"1\",\"2\",\"3\"]\n",
    "        b = (\"1\",\"2\",\"3\")\n",
    "        self.assertSequenceEqual(a, b)\n",
    "\n",
    "    def test_not_seq(self):\n",
    "        a = [\"1\",\"2\",\"3\"]\n",
    "        b = (\"1\",\"2\",\"3\",\"4\")\n",
    "        self.assertSequenceEqual(a, b)\n",
    "\n",
    "\n",
    "\n",
    "def suite():\n",
    "    suite = unittest.TestSuite()\n",
    "    suite.addTest(ArithTest(\"test_eq\"))\n",
    "    suite.addTest(ArithTest('test_seq'))\n",
    "    return suite\n",
    "\n",
    "\n",
    "if __name__ == '__main__':\n",
    "    runner = unittest.TextTestRunner(verbosity=2)\n",
    "    test_suite = suite()\n",
    "    runner.run(test_suite)\n"
   ]
  },
  {
   "cell_type": "code",
   "execution_count": 15,
   "metadata": {},
   "outputs": [
    {
     "name": "stdout",
     "output_type": "stream",
     "text": [
      "test_eq (__main__.ArithTest) ... ok\n",
      "test_seq (__main__.ArithTest) ... ok\n",
      "\n",
      "----------------------------------------------------------------------\n",
      "Ran 2 tests in 0.000s\n",
      "\n",
      "OK\n"
     ]
    }
   ],
   "source": [
    "!python3 examples/utest/test_suite.py"
   ]
  },
  {
   "cell_type": "markdown",
   "metadata": {},
   "source": [
    "## 测试模块最佳实践\n",
    "\n",
    "测试驱动的开发模式中,我们需要全局测试以便了解被测试到的代码覆盖情况,也需要对每个单独的文件执行测试,用来了解针对某一接口或者功能的测试是否可以通过,因此我们需要测试模块可以全局测试也可以单测试文件测试.假设我们的测试模块文件结构如下:\n",
    "\n",
    "```shell\n",
    "test|\n",
    "   |---__init__.py\n",
    "   |---test_model1|\n",
    "   |          |--__init__.py\n",
    "   |          |--test_interface1.py\n",
    "   |          |--test_interface2.py\n",
    "   |\n",
    "   |---test_model2|\n",
    "   |          |--__init__.py\n",
    "   |          |--test_interface3.py\n",
    "   |\n",
    "   |---main.py\n",
    "     \n",
    "```\n",
    "\n"
   ]
  },
  {
   "cell_type": "markdown",
   "metadata": {},
   "source": [
    "## mock测试\n",
    "\n",
    "mock测试就是在测试过程中对于某些不容易构造或者不容易获取的对象用一个虚拟的对象来创建以便测试的测试方法.\n",
    "\n",
    "mock测试通常有几个使用场景:\n",
    "\n",
    "+ 调用外部接口\n",
    "\n",
    "通常我的软件都会调用一些已有的服务,与这些服务进行交互我们才能顺利执行软件.这就引入了副作用——我们测试的时候不希望真的为了测试而这些外部服务,但不调用往往我们的业务逻辑又进展不下去.直观一点,我们希望测试一项扫码付款功能,它需要调用支付宝的付款接口,我们测试的时候当然并不希望真的调用支付宝付款,毕竟会真的产生交易,这种时候就是mock测试的用武之地了.\n",
    "\n",
    "+ 模拟耗时步骤\n",
    "\n",
    "比如我们要写一个代码,它会进行一步耗时1小时的计算(可以假设是使用`tensorflow`训练一个深度学习模型).而我们的测试代码只是希望测试出去训练模型外的业务逻辑有没有出错,这样的话就可以使用mock模拟一下这一步耗时的计算,这样就可以先调通其他逻辑,确保无误后再构建完整的代码了\n",
    "\n",
    "+ 不修改环境的测试\n",
    "\n",
    "比如我们的测试要删除数据库中的一条数据,而我们并不是真的要删掉,而是测试功能是否可以实现,这种时候就可以使用mock测试了"
   ]
  },
  {
   "cell_type": "markdown",
   "metadata": {},
   "source": [
    "### 一个真实的例子\n",
    "\n",
    "unittest模块提供了一个[`mock`子模块](https://docs.python.org/3.10/library/unittest.mock.html),\n",
    "\n",
    "\n",
    "我们以一个测试文件删除的例子来看看mock怎么工作的\n",
    "\n",
    "待测脚本:\n",
    "\n",
    "待测脚本可以判断path是不是文件,如果是就删除"
   ]
  },
  {
   "cell_type": "code",
   "execution_count": 16,
   "metadata": {},
   "outputs": [
    {
     "name": "stdout",
     "output_type": "stream",
     "text": [
      "Writing examples/rm/rm.py\n"
     ]
    }
   ],
   "source": [
    "%%writefile examples/rm/rm.py\n",
    "import os\n",
    "import os.path\n",
    "def rm(filename):\n",
    "    if os.path.isfile(filename):\n",
    "        os.remove(filename)"
   ]
  },
  {
   "cell_type": "markdown",
   "metadata": {},
   "source": [
    "测试用例:"
   ]
  },
  {
   "cell_type": "code",
   "execution_count": 18,
   "metadata": {},
   "outputs": [
    {
     "name": "stdout",
     "output_type": "stream",
     "text": [
      "Writing examples/rm/test/rm_test_1.py\n"
     ]
    }
   ],
   "source": [
    "%%writefile examples/rm/test/rm_test_1.py\n",
    "from rm import rm\n",
    "from unittest import mock\n",
    "from unittest import TestCase\n",
    "\n",
    "class RmTestCase(TestCase):\n",
    "\n",
    "    @mock.patch('rm.os.path')\n",
    "    @mock.patch('rm.os')\n",
    "    def test_rm(self, mock_os, mock_path):\n",
    "        # mock_path就是patch过后的`os.path`,mock_os就是patch过后的`os`\n",
    "        #需要注意顺序\n",
    "        #指定`mock_path.isfile`的返回值False\n",
    "        mock_path.isfile.return_value = False\n",
    "\n",
    "        rm(\"any path\")        \n",
    "        #测试mock_os.remove有没有被调用\n",
    "        self.assertFalse(mock_os.remove.called, \"Failed to not remove the file if not present.\")        \n",
    "        # 指定`mock_path.isfile`的返回值为True\n",
    "        mock_path.isfile.return_value = True\n",
    "\n",
    "        rm(\"any path\")\n",
    "\n",
    "        mock_os.remove.assert_called_with(\"any path\")"
   ]
  },
  {
   "cell_type": "code",
   "execution_count": 19,
   "metadata": {},
   "outputs": [
    {
     "name": "stdout",
     "output_type": "stream",
     "text": [
      "test_rm (examples.rm.test.rm_test_1.RmTestCase) ... ok\n",
      "\n",
      "----------------------------------------------------------------------\n",
      "Ran 1 test in 0.002s\n",
      "\n",
      "OK\n"
     ]
    }
   ],
   "source": [
    "!python3 -m unittest -v examples.rm.test.rm_test_1"
   ]
  },
  {
   "cell_type": "markdown",
   "metadata": {},
   "source": [
    "`mock.patch`装饰器将指定的对象替换为mock,其实质就是猴子补丁.\n",
    "\n",
    "利用`patch`装饰器将原始对象替换为`mock`对象,并将替换后的对象作为参数传入测试用例的测试项中"
   ]
  },
  {
   "cell_type": "markdown",
   "metadata": {},
   "source": [
    "### 指定mock行为\n",
    "\n",
    "mock对象是假的,但他可以模拟真实行为,以下是它的接口:"
   ]
  },
  {
   "cell_type": "code",
   "execution_count": 20,
   "metadata": {},
   "outputs": [],
   "source": [
    "from unittest.mock import Mock\n",
    "mock = Mock()"
   ]
  },
  {
   "cell_type": "markdown",
   "metadata": {},
   "source": [
    "### 断言行为\n",
    "\n",
    "+ `assert_called`\n",
    "\n",
    "断言方法被调用过至少一次"
   ]
  },
  {
   "cell_type": "code",
   "execution_count": 21,
   "metadata": {},
   "outputs": [
    {
     "ename": "AssertionError",
     "evalue": "Expected 'method' to have been called.",
     "output_type": "error",
     "traceback": [
      "\u001b[0;31m---------------------------------------------------------------------------\u001b[0m",
      "\u001b[0;31mAssertionError\u001b[0m                            Traceback (most recent call last)",
      "Cell \u001b[0;32mIn[21], line 1\u001b[0m\n\u001b[0;32m----> 1\u001b[0m \u001b[43mmock\u001b[49m\u001b[38;5;241;43m.\u001b[39;49m\u001b[43mmethod\u001b[49m\u001b[38;5;241;43m.\u001b[39;49m\u001b[43massert_called\u001b[49m\u001b[43m(\u001b[49m\u001b[43m)\u001b[49m\n",
      "File \u001b[0;32m~/anaconda3/lib/python3.10/unittest/mock.py:898\u001b[0m, in \u001b[0;36mNonCallableMock.assert_called\u001b[0;34m(self)\u001b[0m\n\u001b[1;32m    895\u001b[0m \u001b[38;5;28;01mif\u001b[39;00m \u001b[38;5;28mself\u001b[39m\u001b[38;5;241m.\u001b[39mcall_count \u001b[38;5;241m==\u001b[39m \u001b[38;5;241m0\u001b[39m:\n\u001b[1;32m    896\u001b[0m     msg \u001b[38;5;241m=\u001b[39m (\u001b[38;5;124m\"\u001b[39m\u001b[38;5;124mExpected \u001b[39m\u001b[38;5;124m'\u001b[39m\u001b[38;5;132;01m%s\u001b[39;00m\u001b[38;5;124m'\u001b[39m\u001b[38;5;124m to have been called.\u001b[39m\u001b[38;5;124m\"\u001b[39m \u001b[38;5;241m%\u001b[39m\n\u001b[1;32m    897\u001b[0m            (\u001b[38;5;28mself\u001b[39m\u001b[38;5;241m.\u001b[39m_mock_name \u001b[38;5;129;01mor\u001b[39;00m \u001b[38;5;124m'\u001b[39m\u001b[38;5;124mmock\u001b[39m\u001b[38;5;124m'\u001b[39m))\n\u001b[0;32m--> 898\u001b[0m     \u001b[38;5;28;01mraise\u001b[39;00m \u001b[38;5;167;01mAssertionError\u001b[39;00m(msg)\n",
      "\u001b[0;31mAssertionError\u001b[0m: Expected 'method' to have been called."
     ]
    }
   ],
   "source": [
    "mock.method.assert_called()"
   ]
  },
  {
   "cell_type": "code",
   "execution_count": 22,
   "metadata": {},
   "outputs": [
    {
     "data": {
      "text/plain": [
       "<Mock name='mock.method()' id='140328004052080'>"
      ]
     },
     "execution_count": 22,
     "metadata": {},
     "output_type": "execute_result"
    }
   ],
   "source": [
    "mock.method()"
   ]
  },
  {
   "cell_type": "code",
   "execution_count": 23,
   "metadata": {},
   "outputs": [],
   "source": [
    "mock.method.assert_called()"
   ]
  },
  {
   "cell_type": "markdown",
   "metadata": {},
   "source": [
    "+ `assert_called_once`\n",
    "\n",
    "断言方法只被调用过一次(3.6)"
   ]
  },
  {
   "cell_type": "code",
   "execution_count": 24,
   "metadata": {},
   "outputs": [],
   "source": [
    "mock.method.assert_called_once()"
   ]
  },
  {
   "cell_type": "code",
   "execution_count": 25,
   "metadata": {},
   "outputs": [
    {
     "data": {
      "text/plain": [
       "<Mock name='mock.method()' id='140328004052080'>"
      ]
     },
     "execution_count": 25,
     "metadata": {},
     "output_type": "execute_result"
    }
   ],
   "source": [
    "mock.method()"
   ]
  },
  {
   "cell_type": "code",
   "execution_count": 26,
   "metadata": {},
   "outputs": [
    {
     "ename": "AssertionError",
     "evalue": "Expected 'method' to have been called once. Called 2 times.\nCalls: [call(), call()].",
     "output_type": "error",
     "traceback": [
      "\u001b[0;31m---------------------------------------------------------------------------\u001b[0m",
      "\u001b[0;31mAssertionError\u001b[0m                            Traceback (most recent call last)",
      "Cell \u001b[0;32mIn[26], line 1\u001b[0m\n\u001b[0;32m----> 1\u001b[0m \u001b[43mmock\u001b[49m\u001b[38;5;241;43m.\u001b[39;49m\u001b[43mmethod\u001b[49m\u001b[38;5;241;43m.\u001b[39;49m\u001b[43massert_called_once\u001b[49m\u001b[43m(\u001b[49m\u001b[43m)\u001b[49m\n",
      "File \u001b[0;32m~/anaconda3/lib/python3.10/unittest/mock.py:908\u001b[0m, in \u001b[0;36mNonCallableMock.assert_called_once\u001b[0;34m(self)\u001b[0m\n\u001b[1;32m    903\u001b[0m \u001b[38;5;28;01mif\u001b[39;00m \u001b[38;5;129;01mnot\u001b[39;00m \u001b[38;5;28mself\u001b[39m\u001b[38;5;241m.\u001b[39mcall_count \u001b[38;5;241m==\u001b[39m \u001b[38;5;241m1\u001b[39m:\n\u001b[1;32m    904\u001b[0m     msg \u001b[38;5;241m=\u001b[39m (\u001b[38;5;124m\"\u001b[39m\u001b[38;5;124mExpected \u001b[39m\u001b[38;5;124m'\u001b[39m\u001b[38;5;132;01m%s\u001b[39;00m\u001b[38;5;124m'\u001b[39m\u001b[38;5;124m to have been called once. Called \u001b[39m\u001b[38;5;132;01m%s\u001b[39;00m\u001b[38;5;124m times.\u001b[39m\u001b[38;5;132;01m%s\u001b[39;00m\u001b[38;5;124m\"\u001b[39m\n\u001b[1;32m    905\u001b[0m            \u001b[38;5;241m%\u001b[39m (\u001b[38;5;28mself\u001b[39m\u001b[38;5;241m.\u001b[39m_mock_name \u001b[38;5;129;01mor\u001b[39;00m \u001b[38;5;124m'\u001b[39m\u001b[38;5;124mmock\u001b[39m\u001b[38;5;124m'\u001b[39m,\n\u001b[1;32m    906\u001b[0m               \u001b[38;5;28mself\u001b[39m\u001b[38;5;241m.\u001b[39mcall_count,\n\u001b[1;32m    907\u001b[0m               \u001b[38;5;28mself\u001b[39m\u001b[38;5;241m.\u001b[39m_calls_repr()))\n\u001b[0;32m--> 908\u001b[0m     \u001b[38;5;28;01mraise\u001b[39;00m \u001b[38;5;167;01mAssertionError\u001b[39;00m(msg)\n",
      "\u001b[0;31mAssertionError\u001b[0m: Expected 'method' to have been called once. Called 2 times.\nCalls: [call(), call()]."
     ]
    }
   ],
   "source": [
    "mock.method.assert_called_once()"
   ]
  },
  {
   "cell_type": "markdown",
   "metadata": {},
   "source": [
    "+ `assert_called_with(*args, **kwargs)`\n",
    "\n",
    "断言方法被调用过且调用时的参数为填入的参数"
   ]
  },
  {
   "cell_type": "code",
   "execution_count": 27,
   "metadata": {},
   "outputs": [
    {
     "data": {
      "text/plain": [
       "<Mock name='mock.method()' id='140328004052080'>"
      ]
     },
     "execution_count": 27,
     "metadata": {},
     "output_type": "execute_result"
    }
   ],
   "source": [
    "mock.method(1,2,k=4)"
   ]
  },
  {
   "cell_type": "code",
   "execution_count": 28,
   "metadata": {},
   "outputs": [],
   "source": [
    "mock.method.assert_called_with(1, 2,k=4)"
   ]
  },
  {
   "cell_type": "markdown",
   "metadata": {},
   "source": [
    "+ `assert_called_once_with(*args, **kwargs)`\n",
    "\n",
    "断言方法只被调用过一次且调用时的参数为填入的参数\n",
    "\n",
    "+ `assert_any_call(*args, **kwargs)`\n",
    "\n",
    "断言对象有方法被用参数调用过调用过\n",
    "\n",
    "+ `assert_has_calls(calls, any_order=False)`\n",
    "\n",
    "断言某些结果是被mock对象产出的"
   ]
  },
  {
   "cell_type": "code",
   "execution_count": 29,
   "metadata": {},
   "outputs": [
    {
     "data": {
      "text/plain": [
       "[call(1), call(2), call(3), call(4)]"
      ]
     },
     "execution_count": 29,
     "metadata": {},
     "output_type": "execute_result"
    }
   ],
   "source": [
    "mock = Mock(return_value=None)\n",
    "call1 = mock(1)\n",
    "call2 = mock(2)\n",
    "call3 = mock(3)\n",
    "call4 = mock(4)\n",
    "mock.mock_calls# 查看mock对象的call对象"
   ]
  },
  {
   "cell_type": "code",
   "execution_count": 30,
   "metadata": {},
   "outputs": [
    {
     "data": {
      "text/plain": [
       "call(1)"
      ]
     },
     "execution_count": 30,
     "metadata": {},
     "output_type": "execute_result"
    }
   ],
   "source": [
    "call1 = mock.mock_calls[0]\n",
    "call1"
   ]
  },
  {
   "cell_type": "code",
   "execution_count": 31,
   "metadata": {},
   "outputs": [],
   "source": [
    "mock.assert_has_calls(mock.mock_calls[:2])"
   ]
  },
  {
   "cell_type": "code",
   "execution_count": 32,
   "metadata": {},
   "outputs": [],
   "source": [
    "mock.assert_has_calls(mock.mock_calls, any_order=True)"
   ]
  },
  {
   "cell_type": "markdown",
   "metadata": {},
   "source": [
    "+ `assert_not_called()`\n",
    "\n",
    "断言mock对象没被调用过"
   ]
  },
  {
   "cell_type": "markdown",
   "metadata": {},
   "source": [
    "### 设置行为\n",
    "\n",
    "+ `reset_mock(*, return_value=False, side_effect=False)`\n",
    "\n",
    "重置mock对象,`side_effect`翻译为副作用,可以设置一个异常\n",
    "\n",
    "+ `mock_add_spec(spec, spec_set=False)`\n",
    "\n",
    "为mock设置规范,来定义mock对象内部的属性(attribute)\n",
    "\n",
    "+ `attach_mock(mock, attribute)`\n",
    "\n",
    "为mock设置一个mock对象在它上面\n",
    "\n",
    "+ `configure_mock(**kwargs)`\n",
    "\n",
    "设置mock"
   ]
  },
  {
   "cell_type": "code",
   "execution_count": 33,
   "metadata": {},
   "outputs": [
    {
     "data": {
      "text/plain": [
       "3"
      ]
     },
     "execution_count": 33,
     "metadata": {},
     "output_type": "execute_result"
    }
   ],
   "source": [
    "attrs = {'method.return_value': 3, 'other.side_effect': KeyError}\n",
    "mock.configure_mock(**attrs)\n",
    "mock.method()"
   ]
  },
  {
   "cell_type": "code",
   "execution_count": 34,
   "metadata": {},
   "outputs": [
    {
     "ename": "KeyError",
     "evalue": "",
     "output_type": "error",
     "traceback": [
      "\u001b[0;31m---------------------------------------------------------------------------\u001b[0m",
      "\u001b[0;31mKeyError\u001b[0m                                  Traceback (most recent call last)",
      "Cell \u001b[0;32mIn[34], line 1\u001b[0m\n\u001b[0;32m----> 1\u001b[0m \u001b[43mmock\u001b[49m\u001b[38;5;241;43m.\u001b[39;49m\u001b[43mother\u001b[49m\u001b[43m(\u001b[49m\u001b[43m)\u001b[49m\n",
      "File \u001b[0;32m~/anaconda3/lib/python3.10/unittest/mock.py:1114\u001b[0m, in \u001b[0;36mCallableMixin.__call__\u001b[0;34m(self, *args, **kwargs)\u001b[0m\n\u001b[1;32m   1112\u001b[0m \u001b[38;5;28mself\u001b[39m\u001b[38;5;241m.\u001b[39m_mock_check_sig(\u001b[38;5;241m*\u001b[39margs, \u001b[38;5;241m*\u001b[39m\u001b[38;5;241m*\u001b[39mkwargs)\n\u001b[1;32m   1113\u001b[0m \u001b[38;5;28mself\u001b[39m\u001b[38;5;241m.\u001b[39m_increment_mock_call(\u001b[38;5;241m*\u001b[39margs, \u001b[38;5;241m*\u001b[39m\u001b[38;5;241m*\u001b[39mkwargs)\n\u001b[0;32m-> 1114\u001b[0m \u001b[38;5;28;01mreturn\u001b[39;00m \u001b[38;5;28;43mself\u001b[39;49m\u001b[38;5;241;43m.\u001b[39;49m\u001b[43m_mock_call\u001b[49m\u001b[43m(\u001b[49m\u001b[38;5;241;43m*\u001b[39;49m\u001b[43margs\u001b[49m\u001b[43m,\u001b[49m\u001b[43m \u001b[49m\u001b[38;5;241;43m*\u001b[39;49m\u001b[38;5;241;43m*\u001b[39;49m\u001b[43mkwargs\u001b[49m\u001b[43m)\u001b[49m\n",
      "File \u001b[0;32m~/anaconda3/lib/python3.10/unittest/mock.py:1118\u001b[0m, in \u001b[0;36mCallableMixin._mock_call\u001b[0;34m(self, *args, **kwargs)\u001b[0m\n\u001b[1;32m   1117\u001b[0m \u001b[38;5;28;01mdef\u001b[39;00m \u001b[38;5;21m_mock_call\u001b[39m(\u001b[38;5;28mself\u001b[39m, \u001b[38;5;241m/\u001b[39m, \u001b[38;5;241m*\u001b[39margs, \u001b[38;5;241m*\u001b[39m\u001b[38;5;241m*\u001b[39mkwargs):\n\u001b[0;32m-> 1118\u001b[0m     \u001b[38;5;28;01mreturn\u001b[39;00m \u001b[38;5;28;43mself\u001b[39;49m\u001b[38;5;241;43m.\u001b[39;49m\u001b[43m_execute_mock_call\u001b[49m\u001b[43m(\u001b[49m\u001b[38;5;241;43m*\u001b[39;49m\u001b[43margs\u001b[49m\u001b[43m,\u001b[49m\u001b[43m \u001b[49m\u001b[38;5;241;43m*\u001b[39;49m\u001b[38;5;241;43m*\u001b[39;49m\u001b[43mkwargs\u001b[49m\u001b[43m)\u001b[49m\n",
      "File \u001b[0;32m~/anaconda3/lib/python3.10/unittest/mock.py:1173\u001b[0m, in \u001b[0;36mCallableMixin._execute_mock_call\u001b[0;34m(self, *args, **kwargs)\u001b[0m\n\u001b[1;32m   1171\u001b[0m \u001b[38;5;28;01mif\u001b[39;00m effect \u001b[38;5;129;01mis\u001b[39;00m \u001b[38;5;129;01mnot\u001b[39;00m \u001b[38;5;28;01mNone\u001b[39;00m:\n\u001b[1;32m   1172\u001b[0m     \u001b[38;5;28;01mif\u001b[39;00m _is_exception(effect):\n\u001b[0;32m-> 1173\u001b[0m         \u001b[38;5;28;01mraise\u001b[39;00m effect\n\u001b[1;32m   1174\u001b[0m     \u001b[38;5;28;01melif\u001b[39;00m \u001b[38;5;129;01mnot\u001b[39;00m _callable(effect):\n\u001b[1;32m   1175\u001b[0m         result \u001b[38;5;241m=\u001b[39m \u001b[38;5;28mnext\u001b[39m(effect)\n",
      "\u001b[0;31mKeyError\u001b[0m: "
     ]
    }
   ],
   "source": [
    "mock.other()"
   ]
  },
  {
   "cell_type": "markdown",
   "metadata": {},
   "source": [
    "+ `return_value`\n",
    "\n",
    "设置mock的返回值"
   ]
  },
  {
   "cell_type": "code",
   "execution_count": 35,
   "metadata": {},
   "outputs": [
    {
     "data": {
      "text/plain": [
       "'fish'"
      ]
     },
     "execution_count": 35,
     "metadata": {},
     "output_type": "execute_result"
    }
   ],
   "source": [
    "mock = Mock()\n",
    "mock.return_value = 'fish'\n",
    "mock()"
   ]
  },
  {
   "cell_type": "markdown",
   "metadata": {},
   "source": [
    "+ `side_effect`\n",
    "\n",
    "设置一个副作用,也就是异常"
   ]
  },
  {
   "cell_type": "code",
   "execution_count": 36,
   "metadata": {},
   "outputs": [
    {
     "ename": "Exception",
     "evalue": "Boom!",
     "output_type": "error",
     "traceback": [
      "\u001b[0;31m---------------------------------------------------------------------------\u001b[0m",
      "\u001b[0;31mException\u001b[0m                                 Traceback (most recent call last)",
      "Cell \u001b[0;32mIn[36], line 5\u001b[0m\n\u001b[1;32m      1\u001b[0m mock \u001b[38;5;241m=\u001b[39m Mock()\n\u001b[1;32m      2\u001b[0m mock\u001b[38;5;241m.\u001b[39mside_effect \u001b[38;5;241m=\u001b[39m \u001b[38;5;167;01mException\u001b[39;00m(\u001b[38;5;124m'\u001b[39m\u001b[38;5;124mBoom!\u001b[39m\u001b[38;5;124m'\u001b[39m)\n\u001b[0;32m----> 5\u001b[0m \u001b[43mmock\u001b[49m\u001b[43m(\u001b[49m\u001b[43m)\u001b[49m\n",
      "File \u001b[0;32m~/anaconda3/lib/python3.10/unittest/mock.py:1114\u001b[0m, in \u001b[0;36mCallableMixin.__call__\u001b[0;34m(self, *args, **kwargs)\u001b[0m\n\u001b[1;32m   1112\u001b[0m \u001b[38;5;28mself\u001b[39m\u001b[38;5;241m.\u001b[39m_mock_check_sig(\u001b[38;5;241m*\u001b[39margs, \u001b[38;5;241m*\u001b[39m\u001b[38;5;241m*\u001b[39mkwargs)\n\u001b[1;32m   1113\u001b[0m \u001b[38;5;28mself\u001b[39m\u001b[38;5;241m.\u001b[39m_increment_mock_call(\u001b[38;5;241m*\u001b[39margs, \u001b[38;5;241m*\u001b[39m\u001b[38;5;241m*\u001b[39mkwargs)\n\u001b[0;32m-> 1114\u001b[0m \u001b[38;5;28;01mreturn\u001b[39;00m \u001b[38;5;28;43mself\u001b[39;49m\u001b[38;5;241;43m.\u001b[39;49m\u001b[43m_mock_call\u001b[49m\u001b[43m(\u001b[49m\u001b[38;5;241;43m*\u001b[39;49m\u001b[43margs\u001b[49m\u001b[43m,\u001b[49m\u001b[43m \u001b[49m\u001b[38;5;241;43m*\u001b[39;49m\u001b[38;5;241;43m*\u001b[39;49m\u001b[43mkwargs\u001b[49m\u001b[43m)\u001b[49m\n",
      "File \u001b[0;32m~/anaconda3/lib/python3.10/unittest/mock.py:1118\u001b[0m, in \u001b[0;36mCallableMixin._mock_call\u001b[0;34m(self, *args, **kwargs)\u001b[0m\n\u001b[1;32m   1117\u001b[0m \u001b[38;5;28;01mdef\u001b[39;00m \u001b[38;5;21m_mock_call\u001b[39m(\u001b[38;5;28mself\u001b[39m, \u001b[38;5;241m/\u001b[39m, \u001b[38;5;241m*\u001b[39margs, \u001b[38;5;241m*\u001b[39m\u001b[38;5;241m*\u001b[39mkwargs):\n\u001b[0;32m-> 1118\u001b[0m     \u001b[38;5;28;01mreturn\u001b[39;00m \u001b[38;5;28;43mself\u001b[39;49m\u001b[38;5;241;43m.\u001b[39;49m\u001b[43m_execute_mock_call\u001b[49m\u001b[43m(\u001b[49m\u001b[38;5;241;43m*\u001b[39;49m\u001b[43margs\u001b[49m\u001b[43m,\u001b[49m\u001b[43m \u001b[49m\u001b[38;5;241;43m*\u001b[39;49m\u001b[38;5;241;43m*\u001b[39;49m\u001b[43mkwargs\u001b[49m\u001b[43m)\u001b[49m\n",
      "File \u001b[0;32m~/anaconda3/lib/python3.10/unittest/mock.py:1173\u001b[0m, in \u001b[0;36mCallableMixin._execute_mock_call\u001b[0;34m(self, *args, **kwargs)\u001b[0m\n\u001b[1;32m   1171\u001b[0m \u001b[38;5;28;01mif\u001b[39;00m effect \u001b[38;5;129;01mis\u001b[39;00m \u001b[38;5;129;01mnot\u001b[39;00m \u001b[38;5;28;01mNone\u001b[39;00m:\n\u001b[1;32m   1172\u001b[0m     \u001b[38;5;28;01mif\u001b[39;00m _is_exception(effect):\n\u001b[0;32m-> 1173\u001b[0m         \u001b[38;5;28;01mraise\u001b[39;00m effect\n\u001b[1;32m   1174\u001b[0m     \u001b[38;5;28;01melif\u001b[39;00m \u001b[38;5;129;01mnot\u001b[39;00m _callable(effect):\n\u001b[1;32m   1175\u001b[0m         result \u001b[38;5;241m=\u001b[39m \u001b[38;5;28mnext\u001b[39m(effect)\n",
      "\u001b[0;31mException\u001b[0m: Boom!"
     ]
    }
   ],
   "source": [
    "mock = Mock()\n",
    "mock.side_effect = Exception('Boom!')\n",
    "\n",
    "\n",
    "mock()"
   ]
  },
  {
   "cell_type": "markdown",
   "metadata": {},
   "source": [
    "### mock状态监控\n",
    "\n",
    "+ `called`\n",
    "\n",
    "是否被调用过\n",
    "\n",
    "+ `call_count`\n",
    "\n",
    "被调用计数\n",
    "\n",
    "+ `call_args`\n",
    "\n",
    "mock的最近的call对象"
   ]
  },
  {
   "cell_type": "code",
   "execution_count": 37,
   "metadata": {},
   "outputs": [
    {
     "name": "stdout",
     "output_type": "stream",
     "text": [
      "None\n"
     ]
    }
   ],
   "source": [
    "mock = Mock(return_value=None)\n",
    "print(mock.call_args)"
   ]
  },
  {
   "cell_type": "code",
   "execution_count": 38,
   "metadata": {},
   "outputs": [
    {
     "data": {
      "text/plain": [
       "call()"
      ]
     },
     "execution_count": 38,
     "metadata": {},
     "output_type": "execute_result"
    }
   ],
   "source": [
    "mock()\n",
    "mock.call_args"
   ]
  },
  {
   "cell_type": "code",
   "execution_count": 39,
   "metadata": {},
   "outputs": [
    {
     "data": {
      "text/plain": [
       "True"
      ]
     },
     "execution_count": 39,
     "metadata": {},
     "output_type": "execute_result"
    }
   ],
   "source": [
    "mock.call_args == ()"
   ]
  },
  {
   "cell_type": "code",
   "execution_count": 40,
   "metadata": {},
   "outputs": [
    {
     "data": {
      "text/plain": [
       "call(3, 4)"
      ]
     },
     "execution_count": 40,
     "metadata": {},
     "output_type": "execute_result"
    }
   ],
   "source": [
    "mock(3, 4)\n",
    "mock.call_args"
   ]
  },
  {
   "cell_type": "code",
   "execution_count": 41,
   "metadata": {},
   "outputs": [
    {
     "data": {
      "text/plain": [
       "True"
      ]
     },
     "execution_count": 41,
     "metadata": {},
     "output_type": "execute_result"
    }
   ],
   "source": [
    "mock.call_args == ((3, 4),)"
   ]
  },
  {
   "cell_type": "code",
   "execution_count": 42,
   "metadata": {},
   "outputs": [
    {
     "data": {
      "text/plain": [
       "call(3, 4, 5, key='fish', next='w00t!')"
      ]
     },
     "execution_count": 42,
     "metadata": {},
     "output_type": "execute_result"
    }
   ],
   "source": [
    "mock(3, 4, 5, key='fish', next='w00t!')\n",
    "mock.call_args"
   ]
  },
  {
   "cell_type": "markdown",
   "metadata": {},
   "source": [
    "+ `call_args_list`\n",
    "\n",
    "mock的call对象列表"
   ]
  },
  {
   "cell_type": "code",
   "execution_count": 43,
   "metadata": {},
   "outputs": [
    {
     "data": {
      "text/plain": [
       "[call(), call(3, 4), call(3, 4, 5, key='fish', next='w00t!')]"
      ]
     },
     "execution_count": 43,
     "metadata": {},
     "output_type": "execute_result"
    }
   ],
   "source": [
    "mock.call_args_list"
   ]
  },
  {
   "cell_type": "markdown",
   "metadata": {},
   "source": [
    "+ `method_calls`\n",
    "\n",
    "mock对象中的方法调用情况"
   ]
  },
  {
   "cell_type": "code",
   "execution_count": 44,
   "metadata": {},
   "outputs": [
    {
     "data": {
      "text/plain": [
       "[]"
      ]
     },
     "execution_count": 44,
     "metadata": {},
     "output_type": "execute_result"
    }
   ],
   "source": [
    "mock.method_calls"
   ]
  },
  {
   "cell_type": "code",
   "execution_count": 45,
   "metadata": {},
   "outputs": [
    {
     "data": {
      "text/plain": [
       "<Mock name='mock.method1()' id='140328005952480'>"
      ]
     },
     "execution_count": 45,
     "metadata": {},
     "output_type": "execute_result"
    }
   ],
   "source": [
    "mock.method1()"
   ]
  },
  {
   "cell_type": "code",
   "execution_count": 46,
   "metadata": {},
   "outputs": [
    {
     "data": {
      "text/plain": [
       "[call.method1()]"
      ]
     },
     "execution_count": 46,
     "metadata": {},
     "output_type": "execute_result"
    }
   ],
   "source": [
    "mock.method_calls"
   ]
  },
  {
   "cell_type": "markdown",
   "metadata": {},
   "source": [
    "+ `mock_calls`\n",
    "\n",
    "mock自身调用和其方法调用情况"
   ]
  },
  {
   "cell_type": "code",
   "execution_count": 47,
   "metadata": {},
   "outputs": [
    {
     "data": {
      "text/plain": [
       "[call(), call(3, 4), call(3, 4, 5, key='fish', next='w00t!'), call.method1()]"
      ]
     },
     "execution_count": 47,
     "metadata": {},
     "output_type": "execute_result"
    }
   ],
   "source": [
    "mock.mock_calls"
   ]
  },
  {
   "cell_type": "markdown",
   "metadata": {},
   "source": [
    "## `*`伪造数据\n",
    "\n",
    "mock只能伪造接口行为,但很多时候我们测试的问题是没有数据.伪造数据可以使用[faker](https://github.com/joke2k/faker)这个包.\n",
    "\n",
    "这个包可以模拟\n",
    "\n",
    "+ 地址\n",
    "+ 车牌号\n",
    "+ 银行信息\n",
    "+ 条形码\n",
    "+ 颜色\n",
    "+ 公司信息\n",
    "+ 信用卡信息\n",
    "+ 货币信息\n",
    "+ 时间\n",
    "+ 文件名\n",
    "+ 地理信息\n",
    "+ 互联网相关信息\n",
    "+ 国际标准书号\n",
    "+ 工作信息\n",
    "+ 文章内容\n",
    "+ 加密或编码信息\n",
    "+ 人物信息\n",
    "+ 电话号码信息\n",
    "+ 个人信息\n",
    "+ python容器内容\n",
    "+ 社会安全码\n",
    "+ http请求的user_agent\n",
    "\n",
    "同时也支持非英语伪造信息,我们可以简单的在实例初始化时传入语言参数来变更为对应的语言"
   ]
  },
  {
   "cell_type": "code",
   "execution_count": 48,
   "metadata": {},
   "outputs": [],
   "source": [
    "from faker import Faker\n",
    "fake_en = Faker()\n",
    "fake_cn = Faker('zh_CN')"
   ]
  },
  {
   "cell_type": "code",
   "execution_count": 49,
   "metadata": {},
   "outputs": [
    {
     "data": {
      "text/plain": [
       "{'job': 'Development worker, international aid',\n",
       " 'company': 'Mclaughlin-Long',\n",
       " 'ssn': '127-56-4277',\n",
       " 'residence': '2816 Angelica Branch\\nJohnsonstad, KS 87015',\n",
       " 'current_location': (Decimal('-20.6507845'), Decimal('64.226983')),\n",
       " 'blood_group': 'AB-',\n",
       " 'website': ['https://www.wright-thompson.com/',\n",
       "  'http://www.carter.com/',\n",
       "  'http://castro.org/'],\n",
       " 'username': 'jacob51',\n",
       " 'name': 'Susan Jones',\n",
       " 'sex': 'F',\n",
       " 'address': '036 Meagan Spurs Apt. 765\\nMeganhaven, KY 43401',\n",
       " 'mail': 'campbellcynthia@hotmail.com',\n",
       " 'birthdate': datetime.date(1986, 3, 7)}"
      ]
     },
     "execution_count": 49,
     "metadata": {},
     "output_type": "execute_result"
    }
   ],
   "source": [
    "fake_en.profile()"
   ]
  },
  {
   "cell_type": "code",
   "execution_count": 50,
   "metadata": {},
   "outputs": [
    {
     "data": {
      "text/plain": [
       "{'job': '艺术/设计',\n",
       " 'company': '富罳网络有限公司',\n",
       " 'ssn': '442000197302066642',\n",
       " 'residence': '江西省南京县平山兰州街D座 302746',\n",
       " 'current_location': (Decimal('-20.6157775'), Decimal('-111.254788')),\n",
       " 'blood_group': 'AB+',\n",
       " 'website': ['https://25.cn/',\n",
       "  'http://www.xue.cn/',\n",
       "  'https://hehe.cn/',\n",
       "  'http://qinzheng.cn/'],\n",
       " 'username': 'qiang18',\n",
       " 'name': '陈秀英',\n",
       " 'sex': 'M',\n",
       " 'address': '云南省杭州市萧山张街X座 569975',\n",
       " 'mail': 'jxie@gmail.com',\n",
       " 'birthdate': datetime.date(1940, 1, 7)}"
      ]
     },
     "execution_count": 50,
     "metadata": {},
     "output_type": "execute_result"
    }
   ],
   "source": [
    "fake_cn.profile()"
   ]
  },
  {
   "cell_type": "markdown",
   "metadata": {},
   "source": [
    "## 测试覆盖率\n",
    "\n",
    "测试通过往往也并不能保证程序一定稳健可靠,因为测试很有可能没有覆盖全面.这时候测试覆盖率就成了评价一个项目可靠程度的标准之一了.\n",
    "\n",
    "python标准库没有提供覆盖率统计工具,但[coverage.py](http://coverage.readthedocs.io/en/latest/cmd.html)已经是实质上的覆盖率标准工具了.\n",
    "\n",
    "\n",
    "coverage的使用有两步:\n",
    "\n",
    "+ 使用coverage脚本的`run`命令执行脚本"
   ]
  },
  {
   "cell_type": "code",
   "execution_count": 53,
   "metadata": {},
   "outputs": [
    {
     "name": "stdout",
     "output_type": "stream",
     "text": [
      "test_eq (__main__.ArithTest) ... ok\n",
      "test_seq (__main__.ArithTest) ... ok\n",
      "\n",
      "----------------------------------------------------------------------\n",
      "Ran 2 tests in 0.000s\n",
      "\n",
      "OK\n"
     ]
    }
   ],
   "source": [
    "!python3 -m coverage run examples/utest/test_suite.py"
   ]
  },
  {
   "cell_type": "markdown",
   "metadata": {},
   "source": [
    "+ 使用report/html命令输出覆盖率结果"
   ]
  },
  {
   "cell_type": "code",
   "execution_count": 54,
   "metadata": {},
   "outputs": [
    {
     "name": "stdout",
     "output_type": "stream",
     "text": [
      "Name                           Stmts   Miss  Cover\n",
      "--------------------------------------------------\n",
      "examples/utest/test_suite.py      23      4    83%\n",
      "--------------------------------------------------\n",
      "TOTAL                             23      4    83%\n"
     ]
    }
   ],
   "source": [
    "!coverage report"
   ]
  },
  {
   "cell_type": "markdown",
   "metadata": {},
   "source": [
    "如果是针对全局的测试覆盖率,那么这样用:"
   ]
  },
  {
   "cell_type": "code",
   "execution_count": 55,
   "metadata": {},
   "outputs": [
    {
     "name": "stdout",
     "output_type": "stream",
     "text": [
      "test_almost_eq (test_assert_base.demoTest) ... ok\n",
      "test_eq (test_assert_base.demoTest) ... ok\n",
      "test_exc (test_assert_base.demoTest) ... ok\n",
      "test_not_almost_eq (test_assert_base.demoTest) ... FAIL\n",
      "test_not_eq (test_assert_base.demoTest) ... FAIL\n",
      "test_not_seq (test_assert_base.demoTest) ... FAIL\n",
      "test_seq (test_assert_base.demoTest) ... ok\n",
      "test_with_exc (test_assert_base.demoTest) ... ok\n",
      "test_eq (test_assert_skip.demoTest) ... skipped '跳过'\n",
      "test_not_eq (test_assert_skip.demoTest) ... expected failure\n",
      "test_not_seq (test_assert_skip.demoTest) ... expected failure\n",
      "test_seq (test_assert_skip.demoTest) ... ok\n",
      "test_seq_2 (test_assert_skip.demoTest) ... skipped 'unless 1 ==0'\n",
      "setUpModule\n",
      "setUpClass\n",
      "test_number_3_4 (test_hook.Test_mul) ... instance setUp\n",
      "t1\n",
      "instance tearDown\n",
      "ok\n",
      "test_string_a_3 (test_hook.Test_mul) ... instance setUp\n",
      "t2\n",
      "instance tearDown\n",
      "ok\n",
      "tearDownClass\n",
      "tearUpModule\n",
      "test_sum_mul_2_3_mul_2_3 (test_my.TestCase1) ... ok\n",
      "test_number_3_4 (test_my.Test_mul) ... ok\n",
      "test_string_a_3 (test_my.Test_mul) ... ok\n",
      "test_number_3_4 (test_my.Test_sum) ... ok\n",
      "test_number_3_4_5 (test_my.Test_sum) ... ok\n",
      "test_subtest (test_subtest.demoTest) ... test_eq (test_suite.ArithTest) ... ok\n",
      "test_not_eq (test_suite.ArithTest) ... FAIL\n",
      "test_not_seq (test_suite.ArithTest) ... FAIL\n",
      "test_seq (test_suite.ArithTest) ... ok\n",
      "\n",
      "======================================================================\n",
      "FAIL: test_not_almost_eq (test_assert_base.demoTest)\n",
      "----------------------------------------------------------------------\n",
      "Traceback (most recent call last):\n",
      "  File \"/Users/mac/WORKSPACE/GITHUB/BLOG/TutorialForPython/src/工具链篇/examples/utest/test_assert_base.py\", line 23, in test_not_almost_eq\n",
      "    self.assertAlmostEqual(1.003, 1.004, places = 4)\n",
      "AssertionError: 1.003 != 1.004 within 4 places (0.001000000000000112 difference)\n",
      "\n",
      "======================================================================\n",
      "FAIL: test_not_eq (test_assert_base.demoTest)\n",
      "----------------------------------------------------------------------\n",
      "Traceback (most recent call last):\n",
      "  File \"/Users/mac/WORKSPACE/GITHUB/BLOG/TutorialForPython/src/工具链篇/examples/utest/test_assert_base.py\", line 7, in test_not_eq\n",
      "    self.assertNotEqual(5 * 2,10)\n",
      "AssertionError: 10 == 10\n",
      "\n",
      "======================================================================\n",
      "FAIL: test_not_seq (test_assert_base.demoTest)\n",
      "----------------------------------------------------------------------\n",
      "Traceback (most recent call last):\n",
      "  File \"/Users/mac/WORKSPACE/GITHUB/BLOG/TutorialForPython/src/工具链篇/examples/utest/test_assert_base.py\", line 17, in test_not_seq\n",
      "    self.assertSequenceEqual(a, b)\n",
      "AssertionError: Sequences differ: ['1', '2', '3'] != ('1', '2', '3', '4')\n",
      "\n",
      "Second sequence contains 1 additional elements.\n",
      "First extra element 3:\n",
      "'4'\n",
      "\n",
      "- ['1', '2', '3']\n",
      "+ ('1', '2', '3', '4')\n",
      "\n",
      "======================================================================\n",
      "FAIL: test_subtest (test_subtest.demoTest) (i=1)\n",
      "----------------------------------------------------------------------\n",
      "Traceback (most recent call last):\n",
      "  File \"/Users/mac/WORKSPACE/GITHUB/BLOG/TutorialForPython/src/工具链篇/examples/utest/test_subtest.py\", line 7, in test_subtest\n",
      "    self.assertEqual(i % 2, 0)\n",
      "AssertionError: 1 != 0\n",
      "\n",
      "======================================================================\n",
      "FAIL: test_subtest (test_subtest.demoTest) (i=3)\n",
      "----------------------------------------------------------------------\n",
      "Traceback (most recent call last):\n",
      "  File \"/Users/mac/WORKSPACE/GITHUB/BLOG/TutorialForPython/src/工具链篇/examples/utest/test_subtest.py\", line 7, in test_subtest\n",
      "    self.assertEqual(i % 2, 0)\n",
      "AssertionError: 1 != 0\n",
      "\n",
      "======================================================================\n",
      "FAIL: test_subtest (test_subtest.demoTest) (i=5)\n",
      "----------------------------------------------------------------------\n",
      "Traceback (most recent call last):\n",
      "  File \"/Users/mac/WORKSPACE/GITHUB/BLOG/TutorialForPython/src/工具链篇/examples/utest/test_subtest.py\", line 7, in test_subtest\n",
      "    self.assertEqual(i % 2, 0)\n",
      "AssertionError: 1 != 0\n",
      "\n",
      "======================================================================\n",
      "FAIL: test_not_eq (test_suite.ArithTest)\n",
      "----------------------------------------------------------------------\n",
      "Traceback (most recent call last):\n",
      "  File \"/Users/mac/WORKSPACE/GITHUB/BLOG/TutorialForPython/src/工具链篇/examples/utest/test_suite.py\", line 7, in test_not_eq\n",
      "    self.assertNotEqual(5 * 2,10)\n",
      "AssertionError: 10 == 10\n",
      "\n",
      "======================================================================\n",
      "FAIL: test_not_seq (test_suite.ArithTest)\n",
      "----------------------------------------------------------------------\n",
      "Traceback (most recent call last):\n",
      "  File \"/Users/mac/WORKSPACE/GITHUB/BLOG/TutorialForPython/src/工具链篇/examples/utest/test_suite.py\", line 17, in test_not_seq\n",
      "    self.assertSequenceEqual(a, b)\n",
      "AssertionError: Sequences differ: ['1', '2', '3'] != ('1', '2', '3', '4')\n",
      "\n",
      "Second sequence contains 1 additional elements.\n",
      "First extra element 3:\n",
      "'4'\n",
      "\n",
      "- ['1', '2', '3']\n",
      "+ ('1', '2', '3', '4')\n",
      "\n",
      "----------------------------------------------------------------------\n",
      "Ran 25 tests in 0.004s\n",
      "\n",
      "FAILED (failures=8, skipped=2, expected failures=2)\n"
     ]
    }
   ],
   "source": [
    "!python3 -m coverage run --source=examples/utest -m unittest discover -v -s ./examples/utest"
   ]
  },
  {
   "cell_type": "markdown",
   "metadata": {},
   "source": [
    "其中`--source=`用于指定要测试覆盖率的文件夹"
   ]
  },
  {
   "cell_type": "code",
   "execution_count": 56,
   "metadata": {},
   "outputs": [
    {
     "name": "stdout",
     "output_type": "stream",
     "text": [
      "Name                                  Stmts   Miss  Cover\n",
      "---------------------------------------------------------\n",
      "examples/utest/func_oper_unitest.py       7      0   100%\n",
      "examples/utest/test_assert_base.py       27      0   100%\n",
      "examples/utest/test_assert_skip.py       23      4    83%\n",
      "examples/utest/test_hook.py              25      1    96%\n",
      "examples/utest/test_my.py                23      1    96%\n",
      "examples/utest/test_subtest.py            6      0   100%\n",
      "examples/utest/test_suite.py             23      7    70%\n",
      "---------------------------------------------------------\n",
      "TOTAL                                   134     13    90%\n"
     ]
    }
   ],
   "source": [
    "!python3 -m coverage report "
   ]
  },
  {
   "cell_type": "markdown",
   "metadata": {},
   "source": [
    "## `*`其他测试矿建\n",
    "\n",
    "当然了还有其他的知名测试框架比如[nose](https://github.com/nose-devs/nose),[pytest](https://github.com/pytest-dev/pytest)等,都很值得尝试.但个人觉得标准库的测试框架已经相当够用,结合coverage.py,也很简单直接.少即是多,我们的项目应该尽量减少第三方依赖.\n",
    "\n",
    "如果一定要用第三方测试库还是更加推荐pytest,因为它目前更新维护还算比较积极,社区用的人也比较多."
   ]
  }
 ],
 "metadata": {
  "kernelspec": {
   "display_name": "Python 3 (ipykernel)",
   "language": "python",
   "name": "python3"
  },
  "language_info": {
   "codemirror_mode": {
    "name": "ipython",
    "version": 3
   },
   "file_extension": ".py",
   "mimetype": "text/x-python",
   "name": "python",
   "nbconvert_exporter": "python",
   "pygments_lexer": "ipython3",
   "version": "3.10.11"
  }
 },
 "nbformat": 4,
 "nbformat_minor": 4
}
