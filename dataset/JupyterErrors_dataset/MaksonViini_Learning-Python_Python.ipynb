{
  "nbformat": 4,
  "nbformat_minor": 0,
  "metadata": {
    "colab": {
      "name": "Python.ipynb",
      "provenance": [],
      "collapsed_sections": [
        "sr7NqmjIORO-",
        "yrFwvlFr0_2l",
        "XWTdKDgUYeY0",
        "hqdmVW6tiP2Z",
        "z6HJVSxZmv77",
        "Hsgk4AGNnDww",
        "MEooR5aLncYB",
        "rh9XFNik6vRK",
        "MYK50UD1DB5G",
        "V_Fx_YgTko7B"
      ],
      "authorship_tag": "ABX9TyOcB5RUODLo5SQw9/zT5mrc",
      "include_colab_link": true
    },
    "kernelspec": {
      "name": "python3",
      "display_name": "Python 3"
    }
  },
  "cells": [
    {
      "cell_type": "markdown",
      "metadata": {
        "id": "view-in-github",
        "colab_type": "text"
      },
      "source": [
        "<a href=\"https://colab.research.google.com/github/MaksonViini/Learning-Python/blob/master/Python.ipynb\" target=\"_parent\"><img src=\"https://colab.research.google.com/assets/colab-badge.svg\" alt=\"Open In Colab\"/></a>"
      ]
    },
    {
      "cell_type": "markdown",
      "metadata": {
        "id": "sr7NqmjIORO-",
        "colab_type": "text"
      },
      "source": [
        "### **Numeros**"
      ]
    },
    {
      "cell_type": "code",
      "metadata": {
        "id": "q0smt_BCOHF-",
        "colab_type": "code",
        "colab": {
          "base_uri": "https://localhost:8080/"
        },
        "outputId": "4d42f481-3242-4e8b-bdc7-88fa55346a38"
      },
      "source": [
        "# Convertendo de float para int\n",
        "x = 10.5\n",
        "x = int(x)\n",
        "print(type(x))"
      ],
      "execution_count": null,
      "outputs": [
        {
          "output_type": "stream",
          "text": [
            "<class 'int'>\n"
          ],
          "name": "stdout"
        }
      ]
    },
    {
      "cell_type": "code",
      "metadata": {
        "id": "2MQbu3cXOcHe",
        "colab_type": "code",
        "colab": {
          "base_uri": "https://localhost:8080/"
        },
        "outputId": "ffed2631-217e-41ab-da47-f84c2486f74c"
      },
      "source": [
        "# Gerando um numero aleatorio entre um intervalo\n",
        "from random import randint, randrange\n",
        "num = randrange(0, 20)\n",
        "print(num)\n",
        "num1 = randint(0, 20)\n",
        "print(num1)\n",
        "lista = [randrange(0, 20),\n",
        "         randrange(0, 20),\n",
        "         randrange(0, 20),\n",
        "         randrange(0, 20)]\n",
        "print(lista)"
      ],
      "execution_count": null,
      "outputs": [
        {
          "output_type": "stream",
          "text": [
            "6\n",
            "2\n",
            "[9, 19, 6, 7]\n"
          ],
          "name": "stdout"
        }
      ]
    },
    {
      "cell_type": "markdown",
      "metadata": {
        "id": "yrFwvlFr0_2l",
        "colab_type": "text"
      },
      "source": [
        "###**String**\n"
      ]
    },
    {
      "cell_type": "code",
      "metadata": {
        "id": "WRzTs_eZ1Feq",
        "colab_type": "code",
        "colab": {
          "base_uri": "https://localhost:8080/"
        },
        "outputId": "6f3e48f2-eafb-4384-f998-2cb3e8dad15b"
      },
      "source": [
        "# Tipo\n",
        "type(\"String\")"
      ],
      "execution_count": null,
      "outputs": [
        {
          "output_type": "execute_result",
          "data": {
            "text/plain": [
              "str"
            ]
          },
          "metadata": {
            "tags": []
          },
          "execution_count": 13
        }
      ]
    },
    {
      "cell_type": "code",
      "metadata": {
        "id": "kORLwXng1KiA",
        "colab_type": "code",
        "colab": {
          "base_uri": "https://localhost:8080/"
        },
        "outputId": "69e6b81a-2c39-40ea-df24-fa5967e93f90"
      },
      "source": [
        "# obter pedacoes de string usando []\n",
        "\"Coisa\"[0]\n",
        "\"Isso\"[:2]"
      ],
      "execution_count": null,
      "outputs": [
        {
          "output_type": "execute_result",
          "data": {
            "application/vnd.google.colaboratory.intrinsic+json": {
              "type": "string"
            },
            "text/plain": [
              "'Is'"
            ]
          },
          "metadata": {
            "tags": []
          },
          "execution_count": 14
        }
      ]
    },
    {
      "cell_type": "code",
      "metadata": {
        "id": "ekhtl4Xz1aMq",
        "colab_type": "code",
        "colab": {
          "base_uri": "https://localhost:8080/"
        },
        "outputId": "3a5d27f4-41ba-40ed-a0ce-5f2e619ca17c"
      },
      "source": [
        "# Obtendo pedacos\n",
        "nome = \"    makson vinico\"\n",
        "print(nome.upper()) # Caixa alta\n",
        "print(nome.lower()) # Caixa baixa\n",
        "print(nome.split()) # Dividir as palavras apos delimitador\n",
        "print(nome.strip()) # Retirar os espacos no inicio e no fim\n",
        "\",\".join(\"abc\") # Inserindo virgula dentro das letras abc, saida igual a: a,b,c"
      ],
      "execution_count": null,
      "outputs": [
        {
          "output_type": "stream",
          "text": [
            "    MAKSON VINICO\n",
            "    makson vinico\n",
            "['makson', 'vinico']\n",
            "makson vinico\n"
          ],
          "name": "stdout"
        },
        {
          "output_type": "execute_result",
          "data": {
            "application/vnd.google.colaboratory.intrinsic+json": {
              "type": "string"
            },
            "text/plain": [
              "'a,b,c'"
            ]
          },
          "metadata": {
            "tags": []
          },
          "execution_count": 15
        }
      ]
    },
    {
      "cell_type": "code",
      "metadata": {
        "id": "48eOwKHqPzu1",
        "colab_type": "code",
        "colab": {
          "base_uri": "https://localhost:8080/"
        },
        "outputId": "fdee389c-c073-4a01-8500-c3e40bf08568"
      },
      "source": [
        "# Tamanho da string\n",
        "coisa = \"Vamos verificar o tamanho com espacos\"\n",
        "print(len(coisa))"
      ],
      "execution_count": null,
      "outputs": [
        {
          "output_type": "stream",
          "text": [
            "37\n"
          ],
          "name": "stdout"
        }
      ]
    },
    {
      "cell_type": "code",
      "metadata": {
        "id": "GyZiQiKHQMwE",
        "colab_type": "code",
        "colab": {
          "base_uri": "https://localhost:8080/"
        },
        "outputId": "22f4a742-8366-4468-c130-2ca3cfb46d4c"
      },
      "source": [
        "# Substituicao\n",
        "print(coisa.replace(\"Vamos\", \"Going\"))"
      ],
      "execution_count": null,
      "outputs": [
        {
          "output_type": "stream",
          "text": [
            "Going verificar o tamanho com espacos\n"
          ],
          "name": "stdout"
        }
      ]
    },
    {
      "cell_type": "code",
      "metadata": {
        "id": "Nmu3HxwyRqMV",
        "colab_type": "code",
        "colab": {
          "base_uri": "https://localhost:8080/"
        },
        "outputId": "cd378f16-0589-4d48-829f-8685989a773e"
      },
      "source": [
        "# Split em todos os espacos\n",
        "print(coisa.split(\" \"))\n",
        "print(len(coisa.split(\" \"))) #Contando a quantidade de espacos"
      ],
      "execution_count": null,
      "outputs": [
        {
          "output_type": "stream",
          "text": [
            "['Vamos', 'verificar', 'o', 'tamanho', 'com', 'espacos']\n",
            "6\n"
          ],
          "name": "stdout"
        }
      ]
    },
    {
      "cell_type": "code",
      "metadata": {
        "id": "Mx4GMIjBSRjj",
        "colab_type": "code",
        "colab": {
          "base_uri": "https://localhost:8080/"
        },
        "outputId": "679ff21f-a362-4525-c048-86c3de2facbe"
      },
      "source": [
        "# Verificar se uma palavra aparece em uma frase\n",
        "frase = \"Aprendendo Python\"\n",
        "print(\"Python\" in frase) # Verifica se Pytohn esta na frase\n",
        "print(\"Python\" not in frase) # Verifica se Python nao esta na frase"
      ],
      "execution_count": null,
      "outputs": [
        {
          "output_type": "stream",
          "text": [
            "True\n",
            "False\n"
          ],
          "name": "stdout"
        }
      ]
    },
    {
      "cell_type": "code",
      "metadata": {
        "id": "aLgy6eBqXhWq",
        "colab_type": "code",
        "colab": {
          "base_uri": "https://localhost:8080/"
        },
        "outputId": "ce22591e-9e8e-4350-f086-fed11af213fc"
      },
      "source": [
        "# Concatenando variaveis / strings\n",
        "print(\"ISSO\" , \"aI\")"
      ],
      "execution_count": null,
      "outputs": [
        {
          "output_type": "stream",
          "text": [
            "ISSO aI\n"
          ],
          "name": "stdout"
        }
      ]
    },
    {
      "cell_type": "markdown",
      "metadata": {
        "id": "XWTdKDgUYeY0",
        "colab_type": "text"
      },
      "source": [
        "### **Tipo Boolean**\n"
      ]
    },
    {
      "cell_type": "code",
      "metadata": {
        "id": "bJw6lXkMYjYe",
        "colab_type": "code",
        "colab": {
          "base_uri": "https://localhost:8080/"
        },
        "outputId": "e54d00c2-37c4-49b1-d40e-03a7562e676a"
      },
      "source": [
        "conteudo = False\n",
        "print(type(conteudo)) # Retorna o tipo bool"
      ],
      "execution_count": null,
      "outputs": [
        {
          "output_type": "stream",
          "text": [
            "<class 'bool'>\n"
          ],
          "name": "stdout"
        }
      ]
    },
    {
      "cell_type": "code",
      "metadata": {
        "id": "FR0rZNMQYtF2",
        "colab_type": "code",
        "colab": {
          "base_uri": "https://localhost:8080/"
        },
        "outputId": "a0e1bf69-f57e-4566-dcd8-fed0d8b15538"
      },
      "source": [
        "print(bool(\"dsdsdskdks\")) # Verdadeiro pois tem conteudo dentro"
      ],
      "execution_count": null,
      "outputs": [
        {
          "output_type": "stream",
          "text": [
            "True\n"
          ],
          "name": "stdout"
        }
      ]
    },
    {
      "cell_type": "markdown",
      "metadata": {
        "id": "hqdmVW6tiP2Z",
        "colab_type": "text"
      },
      "source": [
        "###**Lista**"
      ]
    },
    {
      "cell_type": "code",
      "metadata": {
        "id": "iFSIDGakiT8N",
        "colab_type": "code",
        "colab": {
          "base_uri": "https://localhost:8080/"
        },
        "outputId": "e9a6b196-9c43-48ed-f832-9b5755088852"
      },
      "source": [
        "numeros = [1, 29, 43, 4, 15, 6]\n",
        "print(sorted(numeros)) # Organiza em ordem\n",
        "numeros.append(\"a\") # Adicionando um novo elemento a lista\n",
        "print(numeros)"
      ],
      "execution_count": null,
      "outputs": [
        {
          "output_type": "stream",
          "text": [
            "[1, 4, 6, 15, 29, 43]\n",
            "[1, 29, 43, 4, 15, 6, 'a']\n"
          ],
          "name": "stdout"
        }
      ]
    },
    {
      "cell_type": "code",
      "metadata": {
        "id": "kzBcmI8sjFG_",
        "colab_type": "code",
        "colab": {
          "base_uri": "https://localhost:8080/"
        },
        "outputId": "797710a2-c9e2-4b14-b807-b2c20aef1cbb"
      },
      "source": [
        "carros = [\"Fusion\", \"Corola\", \"Gol\"]\n",
        "carros.remove(\"Gol\") # Metodo para remover um elemento\n",
        "print(carros)\n",
        "carros.reverse() # Inverte os elementos da lista\n",
        "print(carros)"
      ],
      "execution_count": null,
      "outputs": [
        {
          "output_type": "stream",
          "text": [
            "['Fusion', 'Corola']\n",
            "['Corola', 'Fusion']\n"
          ],
          "name": "stdout"
        }
      ]
    },
    {
      "cell_type": "code",
      "metadata": {
        "id": "gmgr0gVFj37H",
        "colab_type": "code",
        "colab": {
          "base_uri": "https://localhost:8080/"
        },
        "outputId": "7df132ec-c6be-4eb0-e105-9f7c52ab9eff"
      },
      "source": [
        "carros = [\"Fusion\", \"Corola\", \"Gol\"]\n",
        "del carros[2] #Remove o carro do indice 2\n",
        "print(carros)\n",
        "carros.clear() # Remove todos os elementos da lista\n",
        "print(carros)"
      ],
      "execution_count": null,
      "outputs": [
        {
          "output_type": "stream",
          "text": [
            "['Fusion', 'Corola']\n",
            "[]\n"
          ],
          "name": "stdout"
        }
      ]
    },
    {
      "cell_type": "code",
      "metadata": {
        "id": "TIY-aVzAlFas",
        "colab_type": "code",
        "colab": {
          "base_uri": "https://localhost:8080/"
        },
        "outputId": "ffe4271e-f002-4e34-bf12-5a9aac090a38"
      },
      "source": [
        "carros = [\"Fusion\", \"Corola\", \"Gol\"]\n",
        "carros2 = []\n",
        "carros2 = list(carros) # Copiando toda uma lista para outra\n",
        "print(carros)\n",
        "print(carros2)"
      ],
      "execution_count": null,
      "outputs": [
        {
          "output_type": "stream",
          "text": [
            "['Fusion', 'Corola', 'Gol']\n",
            "['Fusion', 'Corola', 'Gol']\n"
          ],
          "name": "stdout"
        }
      ]
    },
    {
      "cell_type": "code",
      "metadata": {
        "id": "EZayK80-luub",
        "colab_type": "code",
        "colab": {
          "base_uri": "https://localhost:8080/"
        },
        "outputId": "65265afd-8c7b-4f64-e75b-e34e476f94b7"
      },
      "source": [
        "carros = [\"Fusion\", \"Corola\", \"Gol\"]\n",
        "carros2 = [\"Celta\", \"Uno\"]\n",
        "carros3 = carros + carros2 # Concatenar uma lista\n",
        "print(carros3)\n",
        "print(sorted(carros3)) # Ordenando a lista"
      ],
      "execution_count": null,
      "outputs": [
        {
          "output_type": "stream",
          "text": [
            "['Fusion', 'Corola', 'Gol', 'Celta', 'Uno']\n",
            "['Celta', 'Corola', 'Fusion', 'Gol', 'Uno']\n"
          ],
          "name": "stdout"
        }
      ]
    },
    {
      "cell_type": "code",
      "metadata": {
        "id": "64XFO4AoqLwY",
        "colab_type": "code",
        "colab": {
          "base_uri": "https://localhost:8080/",
          "height": 34
        },
        "outputId": "dd0625ef-6c09-429e-e629-43e4de275fbf"
      },
      "source": [
        "# List Comprehension\n",
        "texto = 'Morando com abacate'\n",
        "print([letra for letra in texto])"
      ],
      "execution_count": 2,
      "outputs": [
        {
          "output_type": "stream",
          "text": [
            "['M', 'o', 'r', 'a', 'n', 'd', 'o', ' ', 'c', 'o', 'm', ' ', 'a', 'b', 'a', 'c', 'a', 't', 'e']\n"
          ],
          "name": "stdout"
        }
      ]
    },
    {
      "cell_type": "code",
      "metadata": {
        "id": "MtSSNZAnquCY",
        "colab_type": "code",
        "colab": {
          "base_uri": "https://localhost:8080/",
          "height": 34
        },
        "outputId": "68f9e545-ab9f-43eb-e088-ec0f0dc432f9"
      },
      "source": [
        "# Verificando somente pares\n",
        "numero = range(0, 30)\n",
        "print([i**2 for i in numero if i % 2 == 0]) # Elevando todos os pares ao quadrado"
      ],
      "execution_count": 12,
      "outputs": [
        {
          "output_type": "stream",
          "text": [
            "[0, 4, 16, 36, 64, 100, 144, 196, 256, 324, 400, 484, 576, 676, 784]\n"
          ],
          "name": "stdout"
        }
      ]
    },
    {
      "cell_type": "code",
      "metadata": {
        "id": "74Ut7f1VrIq4",
        "colab_type": "code",
        "colab": {}
      },
      "source": [
        "def par (*n):\n",
        "  return ([i for i in numero if i % 2 == 0])"
      ],
      "execution_count": 9,
      "outputs": []
    },
    {
      "cell_type": "code",
      "metadata": {
        "id": "YHpaCnuSrSrw",
        "colab_type": "code",
        "colab": {
          "base_uri": "https://localhost:8080/",
          "height": 34
        },
        "outputId": "8ac9bf5d-62be-40f3-cd7f-e53ffac49db9"
      },
      "source": [
        "par(numero)"
      ],
      "execution_count": 10,
      "outputs": [
        {
          "output_type": "execute_result",
          "data": {
            "text/plain": [
              "[0, 2, 4, 6, 8, 10, 12, 14, 16, 18, 20, 22, 24, 26, 28]"
            ]
          },
          "metadata": {
            "tags": []
          },
          "execution_count": 10
        }
      ]
    },
    {
      "cell_type": "markdown",
      "metadata": {
        "id": "z6HJVSxZmv77",
        "colab_type": "text"
      },
      "source": [
        "###**Condicionais**"
      ]
    },
    {
      "cell_type": "code",
      "metadata": {
        "id": "wnQk9KQXm4k2",
        "colab_type": "code",
        "colab": {
          "base_uri": "https://localhost:8080/"
        },
        "outputId": "96492b8a-56e5-4e63-8788-ee5fb36f516c"
      },
      "source": [
        "if 10 > 5: # Condicional 'SE'\n",
        "  print(f\"{10} e maior que {5} \") # Se 10 e maior que 5, entra aqui\n",
        "else: # Se nao\n",
        "  print(f\"{10} e menor que {5} \") # Entra aqui"
      ],
      "execution_count": null,
      "outputs": [
        {
          "output_type": "stream",
          "text": [
            "10 e maior que 5 \n"
          ],
          "name": "stdout"
        }
      ]
    },
    {
      "cell_type": "code",
      "metadata": {
        "id": "3CzpSH4wp6oZ",
        "colab_type": "code",
        "colab": {
          "base_uri": "https://localhost:8080/"
        },
        "outputId": "3e004c6b-d88c-4d75-b078-4a55604bda4c"
      },
      "source": [
        "num = 10\n",
        "if num % 2 == 0: # Verifica se o num e PAR, se nao, ele e IMPAR\n",
        "  print(f\"{num} e PAR \")\n",
        "else:\n",
        "  print(f\"{num} e IMPAR \")"
      ],
      "execution_count": null,
      "outputs": [
        {
          "output_type": "stream",
          "text": [
            "10 e PAR \n"
          ],
          "name": "stdout"
        }
      ]
    },
    {
      "cell_type": "code",
      "metadata": {
        "id": "p1IikLqaqQEJ",
        "colab_type": "code",
        "colab": {
          "base_uri": "https://localhost:8080/"
        },
        "outputId": "51efb273-1204-429c-c748-000c4d091566"
      },
      "source": [
        "num = [] # Declara uma lista\n",
        "if 10 > 11: # Como 10 nao e maior que 11, nao efetua a impressao\n",
        "  print(num)\n",
        "else: # Se nao\n",
        "  num.append(10) # Adiciona 10 a lista vazia\n",
        "print(num) # Imprime a lista com o numero 10"
      ],
      "execution_count": null,
      "outputs": [
        {
          "output_type": "stream",
          "text": [
            "[10]\n"
          ],
          "name": "stdout"
        }
      ]
    },
    {
      "cell_type": "code",
      "metadata": {
        "id": "p5vGHcXqq_vm",
        "colab_type": "code",
        "colab": {
          "base_uri": "https://localhost:8080/"
        },
        "outputId": "10f6668e-39e3-4705-a50b-99ff25ab12d3"
      },
      "source": [
        "# CALCULADORA BASICA\n",
        "num = 10\n",
        "num2 = 2\n",
        "op = '/'\n",
        "if op == '*': # Verifica se op e igual a *, para multiplicacao\n",
        "  print(num * num2)\n",
        "elif op == '+': # Funciona como um else if e verifica se op e igual a +, para soma\n",
        "  print(num + num2)\n",
        "elif op == '-': #Verifica se op e igual a -, para subtracao\n",
        "  print(num - num2)\n",
        "elif op == '/': # Verifica se op e igual a /, para divisao\n",
        "  print(num / num2)"
      ],
      "execution_count": null,
      "outputs": [
        {
          "output_type": "stream",
          "text": [
            "5.0\n"
          ],
          "name": "stdout"
        }
      ]
    },
    {
      "cell_type": "markdown",
      "metadata": {
        "id": "Hsgk4AGNnDww",
        "colab_type": "text"
      },
      "source": [
        "###**Loop**"
      ]
    },
    {
      "cell_type": "code",
      "metadata": {
        "id": "XL8QZHsznHVh",
        "colab_type": "code",
        "colab": {
          "base_uri": "https://localhost:8080/"
        },
        "outputId": "534a7e5b-e5ee-4bf6-9762-bdb52edff792"
      },
      "source": [
        "carros = [\"Corsa\", \"Golf\", \"Gol\", \"Corola\"]\n",
        "for i in carros: # Percorre cada elemento da lista\n",
        "  print(i , end=\" \") # printa os elementos em ordem saltando um espaco a cada um deles"
      ],
      "execution_count": null,
      "outputs": [
        {
          "output_type": "stream",
          "text": [
            "Corsa Golf Gol Corola "
          ],
          "name": "stdout"
        }
      ]
    },
    {
      "cell_type": "code",
      "metadata": {
        "id": "QJDyxGsiqzMA",
        "colab_type": "code",
        "colab": {
          "base_uri": "https://localhost:8080/"
        },
        "outputId": "b06c7c7c-a5d6-4410-ab28-df2685eefb83"
      },
      "source": [
        "for i in range(0, 10): # Vai de 0 a 9\n",
        "  print(i)"
      ],
      "execution_count": null,
      "outputs": [
        {
          "output_type": "stream",
          "text": [
            "0\n",
            "1\n",
            "2\n",
            "3\n",
            "4\n",
            "5\n",
            "6\n",
            "7\n",
            "8\n",
            "9\n"
          ],
          "name": "stdout"
        }
      ]
    },
    {
      "cell_type": "code",
      "metadata": {
        "id": "IITFIS8lxgLJ",
        "colab_type": "code",
        "colab": {
          "base_uri": "https://localhost:8080/"
        },
        "outputId": "7c85623b-2159-4da8-d6eb-65138b6d6e03"
      },
      "source": [
        "for letra in \"Makson\":\n",
        "  print(letra) # Percorre a string Makson\n",
        "else: # For no python tem ELSE\n",
        "  print(\"Vi\")"
      ],
      "execution_count": null,
      "outputs": [
        {
          "output_type": "stream",
          "text": [
            "M\n",
            "a\n",
            "k\n",
            "s\n",
            "o\n",
            "n\n",
            "Vi\n"
          ],
          "name": "stdout"
        }
      ]
    },
    {
      "cell_type": "code",
      "metadata": {
        "id": "GtVINdqExgFJ",
        "colab_type": "code",
        "colab": {
          "base_uri": "https://localhost:8080/"
        },
        "outputId": "b23a9499-7569-4628-e0fb-bcacbdb39d4b"
      },
      "source": [
        "i = 0\n",
        "while i < 10:\n",
        "  print(i)\n",
        "  i += 1"
      ],
      "execution_count": null,
      "outputs": [
        {
          "output_type": "stream",
          "text": [
            "0\n",
            "1\n",
            "2\n",
            "3\n",
            "4\n",
            "5\n",
            "6\n",
            "7\n",
            "8\n",
            "9\n"
          ],
          "name": "stdout"
        }
      ]
    },
    {
      "cell_type": "code",
      "metadata": {
        "id": "TPTIAV9Hxf-Q",
        "colab_type": "code",
        "colab": {
          "base_uri": "https://localhost:8080/"
        },
        "outputId": "f5408e06-05af-454a-d54a-2ebe107e1bc1"
      },
      "source": [
        "lista = [\"Nome\", \"Carro\", 11, 13, 18] # Declara uma lista\n",
        "tamanho = len(lista) # Pega o tamanho da lista\n",
        "i = 0\n",
        "while i < tamanho: # Verifica enquanto tamanho for maior que i\n",
        "  print(lista[i], end=\" \") # Mostra cara indice da lista\n",
        "  i += 1 # Acresta um para posteriormente ser a condicao de parada"
      ],
      "execution_count": null,
      "outputs": [
        {
          "output_type": "stream",
          "text": [
            "Nome Carro 11 13 18 "
          ],
          "name": "stdout"
        }
      ]
    },
    {
      "cell_type": "markdown",
      "metadata": {
        "id": "MEooR5aLncYB",
        "colab_type": "text"
      },
      "source": [
        "###**Matrizes**\n"
      ]
    },
    {
      "cell_type": "code",
      "metadata": {
        "id": "Hn-4Kdv6ngYQ",
        "colab_type": "code",
        "colab": {
          "base_uri": "https://localhost:8080/"
        },
        "outputId": "de2b1278-0175-40a2-a036-a6faa6463709"
      },
      "source": [
        "l = [1, 2, 3, 4] # Array\n",
        "matriz = [[1, 4], # Matriz, a matriz e formada por arrays encadeados\n",
        "          [2, 6], \n",
        "          [3, 9]]\n",
        "print(f\"O indice i = 1 e j = 1 e? {matriz[1][1]}\")          \n",
        "for i in matriz:\n",
        "  print(i)      "
      ],
      "execution_count": null,
      "outputs": [
        {
          "output_type": "stream",
          "text": [
            "O indice i = 1 e j = 1 e? 6\n",
            "[1, 4]\n",
            "[2, 6]\n",
            "[3, 9]\n"
          ],
          "name": "stdout"
        }
      ]
    },
    {
      "cell_type": "markdown",
      "metadata": {
        "id": "rh9XFNik6vRK",
        "colab_type": "text"
      },
      "source": [
        "###**Tuplas**\n"
      ]
    },
    {
      "cell_type": "code",
      "metadata": {
        "id": "QTHNWryb62GH",
        "colab_type": "code",
        "colab": {}
      },
      "source": [
        "# contruindo uma tupla\n",
        "num = tuple([1, 2, 3]) # Tuplas sao imutaveis"
      ],
      "execution_count": null,
      "outputs": []
    },
    {
      "cell_type": "code",
      "metadata": {
        "id": "NhYY712ZAXj1",
        "colab_type": "code",
        "colab": {
          "base_uri": "https://localhost:8080/",
          "height": 162
        },
        "outputId": "03a25fc6-2c0f-4ba2-e97e-f79fe016a8f4"
      },
      "source": [
        "num[0] = 9 #Tupla e imutavel, nao da para modificar valores ja definidos"
      ],
      "execution_count": null,
      "outputs": [
        {
          "output_type": "error",
          "ename": "TypeError",
          "evalue": "ignored",
          "traceback": [
            "\u001b[0;31m---------------------------------------------------------------------------\u001b[0m",
            "\u001b[0;31mTypeError\u001b[0m                                 Traceback (most recent call last)",
            "\u001b[0;32m<ipython-input-39-f7691216c350>\u001b[0m in \u001b[0;36m<module>\u001b[0;34m()\u001b[0m\n\u001b[0;32m----> 1\u001b[0;31m \u001b[0mnum\u001b[0m\u001b[0;34m[\u001b[0m\u001b[0;36m0\u001b[0m\u001b[0;34m]\u001b[0m \u001b[0;34m=\u001b[0m \u001b[0;36m9\u001b[0m \u001b[0;31m#Tupla e imutavel, nao da para modificar valores ja definidos\u001b[0m\u001b[0;34m\u001b[0m\u001b[0;34m\u001b[0m\u001b[0m\n\u001b[0m",
            "\u001b[0;31mTypeError\u001b[0m: 'tuple' object does not support item assignment"
          ]
        }
      ]
    },
    {
      "cell_type": "code",
      "metadata": {
        "id": "_s1B4L4TAXhH",
        "colab_type": "code",
        "colab": {}
      },
      "source": [
        "type(num)"
      ],
      "execution_count": null,
      "outputs": []
    },
    {
      "cell_type": "code",
      "metadata": {
        "id": "RX6tlwWXAXeJ",
        "colab_type": "code",
        "colab": {}
      },
      "source": [
        "print(num[0])"
      ],
      "execution_count": null,
      "outputs": []
    },
    {
      "cell_type": "code",
      "metadata": {
        "id": "esGgUXWtAXZv",
        "colab_type": "code",
        "colab": {}
      },
      "source": [
        "x = (5, 'abacaxi', 55.00) #Pode conter qualquer lista de dados, pode tambem conter listas, dicionarios e etc"
      ],
      "execution_count": null,
      "outputs": []
    },
    {
      "cell_type": "code",
      "metadata": {
        "id": "97bKaJgAAXKg",
        "colab_type": "code",
        "colab": {}
      },
      "source": [
        "print(type(x))"
      ],
      "execution_count": null,
      "outputs": []
    },
    {
      "cell_type": "code",
      "metadata": {
        "id": "1N6_CLL96nj2",
        "colab_type": "code",
        "colab": {}
      },
      "source": [
        "x, y = (\"Makson\", \"Vinicio\")\n",
        "print(x)\n",
        "print(y)"
      ],
      "execution_count": null,
      "outputs": []
    },
    {
      "cell_type": "markdown",
      "metadata": {
        "id": "MYK50UD1DB5G",
        "colab_type": "text"
      },
      "source": [
        "###**Dicionarios**"
      ]
    },
    {
      "cell_type": "code",
      "metadata": {
        "id": "mU71DgJRDIf8",
        "colab_type": "code",
        "colab": {}
      },
      "source": [
        "# Dicionarios usa o conceito de Chave : Valor\n",
        "x = {\"Key\":\"Value\", \n",
        "     \"Teste\":\"1\", \n",
        "     \"Carro\":\"Ronda\"}\n",
        "print(x)"
      ],
      "execution_count": null,
      "outputs": []
    },
    {
      "cell_type": "code",
      "metadata": {
        "id": "QUhfEOUCr0Ao",
        "colab_type": "code",
        "colab": {}
      },
      "source": [
        "carro = {\"Marca\":\"Toyota\", \n",
        "         \"Modelo\":\"Corolla\", \n",
        "         \"Ano\":\"2018\", \n",
        "         \"Cor\":\"Preto\"\n",
        "         }\n",
        "print(carro[\"Marca\"]) # Apontando para a chave, para retornar o valor"
      ],
      "execution_count": null,
      "outputs": []
    },
    {
      "cell_type": "code",
      "metadata": {
        "id": "nCqSzLR_3Yl-",
        "colab_type": "code",
        "colab": {}
      },
      "source": [
        "for i in carro:\n",
        "  print(i, \":\", carro[i])"
      ],
      "execution_count": null,
      "outputs": []
    },
    {
      "cell_type": "code",
      "metadata": {
        "id": "g27MbNVC4oV9",
        "colab_type": "code",
        "colab": {}
      },
      "source": [
        "print(len(carro)) # 4 conjuntos chave valor"
      ],
      "execution_count": null,
      "outputs": []
    },
    {
      "cell_type": "code",
      "metadata": {
        "id": "HQSdeEtz42YM",
        "colab_type": "code",
        "colab": {}
      },
      "source": [
        "carro[\"Cidade\"] = \"BH\" # Inclue uma nova chave/valor\n",
        "print(carro)"
      ],
      "execution_count": null,
      "outputs": []
    },
    {
      "cell_type": "code",
      "metadata": {
        "id": "B-4H862O5NKL",
        "colab_type": "code",
        "colab": {}
      },
      "source": [
        "carro.pop(\"Cidade\") # Remove uma chave"
      ],
      "execution_count": null,
      "outputs": []
    },
    {
      "cell_type": "code",
      "metadata": {
        "id": "XYJ6RnwH5Q5G",
        "colab_type": "code",
        "colab": {}
      },
      "source": [
        "carro"
      ],
      "execution_count": null,
      "outputs": []
    },
    {
      "cell_type": "code",
      "metadata": {
        "id": "yRG-YfPO8KcN",
        "colab_type": "code",
        "colab": {}
      },
      "source": [
        "carro.clear() # Limpar o dicionario\n",
        "print(carro)"
      ],
      "execution_count": null,
      "outputs": []
    },
    {
      "cell_type": "code",
      "metadata": {
        "id": "jpEtuLCz8Yub",
        "colab_type": "code",
        "colab": {}
      },
      "source": [
        "carros = {\"Carro1\":{\"Modelo\":\"Corola\"},\n",
        "         \"Carro2\":{\"Modelo\":\"Gol\"},\n",
        "         \"Carro3\":{\"Modelo\":\"Focus\"}}   "
      ],
      "execution_count": null,
      "outputs": []
    },
    {
      "cell_type": "code",
      "metadata": {
        "id": "9YL8GjDR8hcj",
        "colab_type": "code",
        "colab": {}
      },
      "source": [
        "print(carros)"
      ],
      "execution_count": null,
      "outputs": []
    },
    {
      "cell_type": "code",
      "metadata": {
        "id": "YI6Iwl-wN7iG",
        "colab_type": "code",
        "colab": {}
      },
      "source": [
        "print(carros[\"Carro1\"][\"Modelo\"]) # Pega a chave carro1, e a chave modelo"
      ],
      "execution_count": null,
      "outputs": []
    },
    {
      "cell_type": "code",
      "metadata": {
        "id": "-clxa70JOOTH",
        "colab_type": "code",
        "colab": {}
      },
      "source": [
        "Carro1 = {\"Modelo\":\"Corola\"}\n",
        "Carro2 = {\"Modelo\":\"Gol\"},\n",
        "Carro3 = {\"Modelo\":\"Focus\"}"
      ],
      "execution_count": null,
      "outputs": []
    },
    {
      "cell_type": "code",
      "metadata": {
        "id": "ZV5tg79uOZMV",
        "colab_type": "code",
        "colab": {}
      },
      "source": [
        "carros = {\"C1\":Carro1, \n",
        "          \"C2\":Carro2, \n",
        "          \"C3\":Carro3\n",
        "          }\n",
        "print(carros)"
      ],
      "execution_count": null,
      "outputs": []
    },
    {
      "cell_type": "code",
      "metadata": {
        "id": "mwu-qwQbOtSg",
        "colab_type": "code",
        "colab": {}
      },
      "source": [
        "print(carros[\"C1\"])"
      ],
      "execution_count": null,
      "outputs": []
    },
    {
      "cell_type": "markdown",
      "metadata": {
        "id": "V_Fx_YgTko7B",
        "colab_type": "text"
      },
      "source": [
        "###**Funções**"
      ]
    },
    {
      "cell_type": "code",
      "metadata": {
        "id": "gdYE8S1TlGhp",
        "colab_type": "code",
        "colab": {}
      },
      "source": [
        "def soma (n1, n2):\n",
        "  return n1 + n2\n",
        "\n",
        "def mult (n1, n2):\n",
        "  return n1 * n2\n",
        "\n",
        "def str (st):\n",
        "  print(st)\n",
        "  \n",
        "def par (n1):\n",
        "  if n1 % 2 == 0:\n",
        "    return True"
      ],
      "execution_count": null,
      "outputs": []
    },
    {
      "cell_type": "code",
      "metadata": {
        "id": "TpXWAbveKkvM",
        "colab_type": "code",
        "colab": {}
      },
      "source": [
        "print(soma(1, 5))"
      ],
      "execution_count": null,
      "outputs": []
    },
    {
      "cell_type": "code",
      "metadata": {
        "id": "lovCumeL--wD",
        "colab_type": "code",
        "colab": {}
      },
      "source": [
        "str(\"Chamando a funcao str para fazer a impressao\")\n",
        "par(2)"
      ],
      "execution_count": null,
      "outputs": []
    },
    {
      "cell_type": "code",
      "metadata": {
        "id": "h7LbSqtfDwpu",
        "colab_type": "code",
        "colab": {}
      },
      "source": [
        "x = soma(1, 2) + soma(2, 3)\n",
        "print(x)"
      ],
      "execution_count": null,
      "outputs": []
    },
    {
      "cell_type": "code",
      "metadata": {
        "id": "0AGUTY25D3Qc",
        "colab_type": "code",
        "colab": {}
      },
      "source": [
        "def media (a):\n",
        "  return mean(a)"
      ],
      "execution_count": null,
      "outputs": []
    },
    {
      "cell_type": "code",
      "metadata": {
        "id": "EuJJBXKKLWt7",
        "colab_type": "code",
        "colab": {}
      },
      "source": [
        "print(media([2, 2, 4, 5, 9, 8, 5, 6, 4]))"
      ],
      "execution_count": null,
      "outputs": []
    },
    {
      "cell_type": "code",
      "metadata": {
        "id": "tMxI72BDByMk",
        "colab_type": "code",
        "colab": {}
      },
      "source": [
        "for i in range(0, 4):\n",
        "  print(media([i, i + 1]))"
      ],
      "execution_count": null,
      "outputs": []
    },
    {
      "cell_type": "code",
      "metadata": {
        "id": "PNwTkPUGCgf8",
        "colab_type": "code",
        "colab": {}
      },
      "source": [
        "def desvio(n):\n",
        "  from statistics import stdev\n",
        "  return stdev(n)"
      ],
      "execution_count": null,
      "outputs": []
    },
    {
      "cell_type": "code",
      "metadata": {
        "id": "0Wz1YafSC3-z",
        "colab_type": "code",
        "colab": {}
      },
      "source": [
        "print(desvio([3, 6, 5, 4]))"
      ],
      "execution_count": null,
      "outputs": []
    },
    {
      "cell_type": "code",
      "metadata": {
        "id": "11dEuvWPBc2f",
        "colab_type": "code",
        "colab": {
          "base_uri": "https://localhost:8080/",
          "height": 34
        },
        "outputId": "cefbb601-85f3-4206-9fdd-6c0c86b47d7b"
      },
      "source": [
        "# Funcoes lambda\n",
        "soma = lambda a, b : a + b\n",
        "soma(2, 4)"
      ],
      "execution_count": null,
      "outputs": [
        {
          "output_type": "execute_result",
          "data": {
            "text/plain": [
              "6"
            ]
          },
          "metadata": {
            "tags": []
          },
          "execution_count": 2
        }
      ]
    },
    {
      "cell_type": "code",
      "metadata": {
        "id": "dAgB-S7VSP03",
        "colab_type": "code",
        "colab": {
          "base_uri": "https://localhost:8080/",
          "height": 34
        },
        "outputId": "d91fa6a3-1edf-4065-ebc8-e146baf055ef"
      },
      "source": [
        "mul = lambda a, b, c : (a + b) * c\n",
        "mul(2, 2, 2)"
      ],
      "execution_count": null,
      "outputs": [
        {
          "output_type": "execute_result",
          "data": {
            "text/plain": [
              "8"
            ]
          },
          "metadata": {
            "tags": []
          },
          "execution_count": 3
        }
      ]
    },
    {
      "cell_type": "code",
      "metadata": {
        "id": "hCqFq6czg646",
        "colab_type": "code",
        "colab": {}
      },
      "source": [
        "maior = lambda a, b : a > b"
      ],
      "execution_count": null,
      "outputs": []
    },
    {
      "cell_type": "code",
      "metadata": {
        "id": "WMSdpmmvhDcR",
        "colab_type": "code",
        "colab": {
          "base_uri": "https://localhost:8080/",
          "height": 34
        },
        "outputId": "93193ba6-d01b-4d40-8f6d-7cc568474ccb"
      },
      "source": [
        "maior(6, 2)"
      ],
      "execution_count": null,
      "outputs": [
        {
          "output_type": "execute_result",
          "data": {
            "text/plain": [
              "True"
            ]
          },
          "metadata": {
            "tags": []
          },
          "execution_count": 13
        }
      ]
    },
    {
      "cell_type": "markdown",
      "metadata": {
        "id": "6H2MSbbVZYrM",
        "colab_type": "text"
      },
      "source": [
        "###**Tratamento de Execoes**\n"
      ]
    },
    {
      "cell_type": "code",
      "metadata": {
        "id": "tR7Gl2LzZf6Z",
        "colab_type": "code",
        "colab": {
          "base_uri": "https://localhost:8080/",
          "height": 84
        },
        "outputId": "150c8484-7c9e-4e22-9e55-25a2915e2b64"
      },
      "source": [
        "try: # Tente executar isso\n",
        "  a = int(input('Numerador: '))\n",
        "  b = int(input('Denominador: '))\n",
        "  c = a/b\n",
        "except Exception as error: # Se nao conseguir, mostre a execao\n",
        "  print(f'Infelizmente nao foi possivel efetuar a divisao, pois tivemos o erro {error} :( ')\n",
        "else: # caso contrario, mostra o que foi executado \n",
        "  print(f'A divisao e {c} ')\n",
        "finally: # Mostra a mensagem idependente do que aconteca\n",
        "  print('FIM!')"
      ],
      "execution_count": null,
      "outputs": [
        {
          "output_type": "stream",
          "text": [
            "Numerador: 6\n",
            "Denominador: \n",
            "Infelizmente nao foi possivel efetuar a divisao, pois tivemos o erro invalid literal for int() with base 10: '' :( \n",
            "FIM!\n"
          ],
          "name": "stdout"
        }
      ]
    },
    {
      "cell_type": "code",
      "metadata": {
        "id": "2XAzmbGih2_r",
        "colab_type": "code",
        "colab": {}
      },
      "source": [
        "def valida (a, b):\n",
        "  try:\n",
        "    if a > 0 and b > 0:\n",
        "      return max(a, b)\n",
        "  except Exception as error:\n",
        "    print(f'Infelizmente nao foi possivel, pois ou a ou b nao e maior que 0 e o erro e {error} ') # Nao vai printar, pois o maior ou nao satisfazer o if, nao conta como erro no python\n",
        "  finally:\n",
        "    print('FIM!')"
      ],
      "execution_count": null,
      "outputs": []
    },
    {
      "cell_type": "code",
      "metadata": {
        "id": "FiOikpGJi9ui",
        "colab_type": "code",
        "colab": {
          "base_uri": "https://localhost:8080/",
          "height": 34
        },
        "outputId": "fc9cac53-103e-4ecb-d84a-fd3e08bb5efd"
      },
      "source": [
        "valida(3, 0)"
      ],
      "execution_count": null,
      "outputs": [
        {
          "output_type": "stream",
          "text": [
            "FIM!\n"
          ],
          "name": "stdout"
        }
      ]
    },
    {
      "cell_type": "markdown",
      "metadata": {
        "id": "VYWI5-pLpxco",
        "colab_type": "text"
      },
      "source": [
        "###**Compressao de lista**\n"
      ]
    },
    {
      "cell_type": "code",
      "metadata": {
        "id": "7bziXKGfp2xQ",
        "colab_type": "code",
        "colab": {}
      },
      "source": [
        ""
      ],
      "execution_count": null,
      "outputs": []
    }
  ]
}