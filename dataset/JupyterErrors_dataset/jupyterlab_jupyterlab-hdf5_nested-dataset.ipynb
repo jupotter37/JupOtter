{
 "cells": [
  {
   "cell_type": "code",
   "execution_count": 1,
   "metadata": {},
   "outputs": [],
   "source": [
    "%reload_ext autoreload\n",
    "%autoreload 2\n",
    "\n",
    "from collections import namedtuple\n",
    "import h5py\n",
    "import os\n",
    "import numpy as np\n",
    "import re\n",
    "\n",
    "from genNested import genNested\n",
    "\n",
    "genkws = dict(N=2, shape=(100, 100))"
   ]
  },
  {
   "cell_type": "code",
   "execution_count": 15,
   "metadata": {},
   "outputs": [],
   "source": [
    "genNested('nested', **genkws)"
   ]
  },
  {
   "cell_type": "code",
   "execution_count": 16,
   "metadata": {},
   "outputs": [],
   "source": [
    "genNested('nested_int', func=np.random.randint, **genkws)"
   ]
  },
  {
   "cell_type": "code",
   "execution_count": 17,
   "metadata": {},
   "outputs": [],
   "source": [
    "genNested('nested_data_ext', ext='.data', **genkws)"
   ]
  },
  {
   "cell_type": "code",
   "execution_count": 18,
   "metadata": {},
   "outputs": [],
   "source": [
    "genNested('nested_int_data_ext', ext='.data', func=np.random.randint, **genkws)"
   ]
  },
  {
   "cell_type": "markdown",
   "metadata": {},
   "source": [
    "<br/>"
   ]
  },
  {
   "cell_type": "code",
   "execution_count": 2,
   "metadata": {},
   "outputs": [],
   "source": [
    "genNested('nested_int', func=np.random.randint, suffix='.h5', **genkws)"
   ]
  },
  {
   "cell_type": "code",
   "execution_count": 3,
   "metadata": {},
   "outputs": [
    {
     "ename": "TypeError",
     "evalue": "unsupported operand type(s) for ** or pow(): 'str' and 'dict'",
     "output_type": "error",
     "traceback": [
      "\u001b[0;31m---------------------------------------------------------------------------\u001b[0m",
      "\u001b[0;31mTypeError\u001b[0m                                 Traceback (most recent call last)",
      "\u001b[0;32m<ipython-input-3-7da62dbf9952>\u001b[0m in \u001b[0;36m<module>\u001b[0;34m\u001b[0m\n\u001b[0;32m----> 1\u001b[0;31m \u001b[0mgenNested\u001b[0m\u001b[0;34m(\u001b[0m\u001b[0;34m'nested_data_ext'\u001b[0m\u001b[0;34m,\u001b[0m \u001b[0mext\u001b[0m\u001b[0;34m=\u001b[0m\u001b[0;34m'.data'\u001b[0m\u001b[0;34m,\u001b[0m \u001b[0msuffix\u001b[0m\u001b[0;34m=\u001b[0m\u001b[0;34m'.h5,'\u001b[0m \u001b[0;34m**\u001b[0m\u001b[0mgenkws\u001b[0m\u001b[0;34m)\u001b[0m\u001b[0;34m\u001b[0m\u001b[0;34m\u001b[0m\u001b[0m\n\u001b[0m",
      "\u001b[0;31mTypeError\u001b[0m: unsupported operand type(s) for ** or pow(): 'str' and 'dict'"
     ]
    }
   ],
   "source": [
    "genNested('nested_data_ext', ext='.data', suffix='.h5,' **genkws)"
   ]
  },
  {
   "cell_type": "code",
   "execution_count": 3,
   "metadata": {},
   "outputs": [],
   "source": [
    "# genNested('nested_int_one_d', N=2, fillRange=True, shape=(1000,)*1)\n",
    "genNested('nested_int_high_d', N=2, fillRange=True, shape=(40, 50, 60, 70))"
   ]
  },
  {
   "cell_type": "markdown",
   "metadata": {},
   "source": [
    "<br/>"
   ]
  },
  {
   "cell_type": "code",
   "execution_count": 2,
   "metadata": {},
   "outputs": [],
   "source": [
    "def datasetDict(data):\n",
    "    return dict([\n",
    "        ('data', data)\n",
    "    ])\n",
    "\n",
    "def apiSplit(apipath):\n",
    "    fpath,uri = apipath.split('::')\n",
    "    uri = '/' + uri.lstrip('/')\n",
    "    return fpath,uri\n",
    "\n",
    "_emptyUriRe = re.compile('//')\n",
    "def uriJoin(*parts):\n",
    "    return _emptyUriRe.sub('/', '/'.join(parts))"
   ]
  },
  {
   "cell_type": "markdown",
   "metadata": {},
   "source": [
    "# get data as slice of dataset"
   ]
  },
  {
   "cell_type": "code",
   "execution_count": 4,
   "metadata": {},
   "outputs": [],
   "source": [
    "def getDatasetHdf(dset, rslice, cslice):\n",
    "    return [datasetDict(dset[rslice, cslice].tolist())]"
   ]
  },
  {
   "cell_type": "code",
   "execution_count": 5,
   "metadata": {},
   "outputs": [],
   "source": [
    "uriPath='/leaf01/leaf02/data02'\n",
    "row = [0, 100]\n",
    "col = [300, 400]\n",
    "\n",
    "with h5py.File('nested.hdf5', 'r') as f:\n",
    "    dsetDicts = getDatasetHdf(f[uriPath], slice(*row), slice(*col))"
   ]
  },
  {
   "cell_type": "code",
   "execution_count": 6,
   "metadata": {},
   "outputs": [
    {
     "name": "stdout",
     "output_type": "stream",
     "text": [
      "[2.0, 2.0, 2.0, 2.0, 2.0, 2.0, 2.0, 2.0, 2.0, 2.0]\n",
      "[354.0801205661843, 263.3045041027946, 915.3626615907067, 895.6892912969805, 199.078683331102, 936.5571186083694, 843.3847828064879, 529.9872286550377, 638.9560465999808, 244.6667289546418]\n",
      "[71.89232190411676, 127.3325714968102, 759.8493181720801, 239.95158737540612, 535.3828295801447, 471.41321741625364, 667.8442122960569, 916.7827814606713, 463.04704059719217, 26.19853606088851]\n"
     ]
    }
   ],
   "source": [
    "print(dsetDicts[0]['data'][0][:10],\n",
    "      dsetDicts[0]['data'][1][:10],\n",
    "      dsetDicts[0]['data'][-1][:10],\n",
    "      sep='\\n')"
   ]
  },
  {
   "cell_type": "code",
   "execution_count": null,
   "metadata": {},
   "outputs": [],
   "source": []
  },
  {
   "cell_type": "markdown",
   "metadata": {},
   "source": [
    "# misc"
   ]
  },
  {
   "cell_type": "code",
   "execution_count": 12,
   "metadata": {},
   "outputs": [
    {
     "name": "stdout",
     "output_type": "stream",
     "text": [
      "['_MutableMapping__marker', '__abstractmethods__', '__bool__', '__class__', '__contains__', '__delattr__', '__delitem__', '__dict__', '__dir__', '__doc__', '__enter__', '__eq__', '__exit__', '__format__', '__ge__', '__getattribute__', '__getitem__', '__gt__', '__hash__', '__init__', '__init_subclass__', '__iter__', '__le__', '__len__', '__lt__', '__module__', '__ne__', '__new__', '__nonzero__', '__reduce__', '__reduce_ex__', '__repr__', '__reversed__', '__setattr__', '__setitem__', '__sizeof__', '__slots__', '__str__', '__subclasshook__', '__weakref__', '_abc_impl', '_d', '_e', '_gcpl_crt_order', '_id', '_lapl', '_lcpl', 'attrs', 'clear', 'close', 'copy', 'create_dataset', 'create_dataset_like', 'create_group', 'create_virtual_dataset', 'driver', 'fid', 'file', 'filename', 'flush', 'get', 'id', 'items', 'keys', 'libver', 'mode', 'move', 'name', 'parent', 'pop', 'popitem', 'ref', 'regionref', 'require_dataset', 'require_group', 'setdefault', 'swmr_mode', 'update', 'userblock_size', 'values', 'visit', 'visititems']\n",
      "['__bool__', '__class__', '__contains__', '__copy__', '__delattr__', '__dir__', '__doc__', '__eq__', '__format__', '__ge__', '__getattribute__', '__gt__', '__hash__', '__init__', '__init_subclass__', '__iter__', '__le__', '__len__', '__lt__', '__ne__', '__new__', '__reduce__', '__reduce_ex__', '__repr__', '__setattr__', '__setstate__', '__sizeof__', '__str__', '__subclasshook__', '_close', 'close', 'fileno', 'get_access_plist', 'get_comment', 'get_create_plist', 'get_file_image', 'get_filesize', 'get_freespace', 'get_intent', 'get_linkval', 'get_mdc_config', 'get_mdc_hit_rate', 'get_mdc_size', 'get_num_objs', 'get_objname_by_idx', 'get_objtype_by_idx', 'get_vfd_handle', 'id', 'link', 'links', 'locked', 'move', 'name', 'reopen', 'reset_mdc_hit_rate_stats', 'set_comment', 'set_mdc_config', 'start_swmr_write', 'unlink', 'valid']\n",
      "['__bool__', '__class__', '__contains__', '__copy__', '__delattr__', '__dir__', '__doc__', '__eq__', '__format__', '__ge__', '__getattribute__', '__gt__', '__hash__', '__init__', '__init_subclass__', '__iter__', '__le__', '__len__', '__lt__', '__ne__', '__new__', '__reduce__', '__reduce_ex__', '__repr__', '__setattr__', '__setstate__', '__sizeof__', '__str__', '__subclasshook__', '_close', 'close', 'fileno', 'get_comment', 'get_create_plist', 'get_linkval', 'get_num_objs', 'get_objname_by_idx', 'get_objtype_by_idx', 'id', 'link', 'links', 'locked', 'move', 'set_comment', 'unlink', 'valid']\n"
     ]
    }
   ],
   "source": [
    "import h5py\n",
    "\n",
    "dsetPth='/leaf01/leaf02/data02'\n",
    "grpPth = '/leaf01/leaf02'\n",
    "\n",
    "with h5py.File('nested.hdf5', 'r') as f:\n",
    "    dset = f[dsetPth]\n",
    "    grp = f[grpPth]\n",
    "    \n",
    "#     print(dir(grp))\n",
    "    print(dir(grp.file))\n",
    "    print(dir(grp.file.id))\n",
    "    print(dir(grp.id))"
   ]
  },
  {
   "cell_type": "code",
   "execution_count": null,
   "metadata": {},
   "outputs": [],
   "source": []
  }
 ],
 "metadata": {
  "kernelspec": {
   "display_name": "Python 3",
   "language": "python",
   "name": "python3"
  },
  "language_info": {
   "codemirror_mode": {
    "name": "ipython",
    "version": 3
   },
   "file_extension": ".py",
   "mimetype": "text/x-python",
   "name": "python",
   "nbconvert_exporter": "python",
   "pygments_lexer": "ipython3",
   "version": "3.7.6"
  }
 },
 "nbformat": 4,
 "nbformat_minor": 4
}
