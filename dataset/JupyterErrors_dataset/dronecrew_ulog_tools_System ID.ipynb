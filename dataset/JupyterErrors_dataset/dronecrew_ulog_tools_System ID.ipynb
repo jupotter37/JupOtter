{
 "cells": [
  {
   "cell_type": "code",
   "execution_count": 7,
   "metadata": {},
   "outputs": [
    {
     "name": "stdout",
     "output_type": "stream",
     "text": [
      "The autoreload extension is already loaded. To reload it, use:\n",
      "  %reload_ext autoreload\n"
     ]
    }
   ],
   "source": [
    "import sys\n",
    "if not '..' in sys.path:\n",
    "    sys.path.insert(0, '..')\n",
    "import control\n",
    "import sympy\n",
    "import numpy as np\n",
    "import matplotlib.pyplot as plt\n",
    "import ulog_tools as ut\n",
    "import ulog_tools.control_opt as opt\n",
    "\n",
    "%matplotlib inline\n",
    "%load_ext autoreload\n",
    "%autoreload 2"
   ]
  },
  {
   "cell_type": "markdown",
   "metadata": {},
   "source": [
    "# System Identification"
   ]
  },
  {
   "cell_type": "code",
   "execution_count": 3,
   "metadata": {},
   "outputs": [
    {
     "data": {
      "text/plain": [
       "{'pitch': {'model': {'delay': 0.051503721021908873,\n",
       "   'f_s': 232.99287433805779,\n",
       "   'fit': 0.57135828183122261,\n",
       "   'gain': 29.538707721830491,\n",
       "   'sample_delay': 12},\n",
       "  't_end': 80,\n",
       "  't_start': 75},\n",
       " 'roll': {'model': {'delay': 0.072963604781037569,\n",
       "   'f_s': 232.99287433805779,\n",
       "   'fit': 0.80970246292599435,\n",
       "   'gain': 45.686710321167887,\n",
       "   'sample_delay': 17},\n",
       "  't_end': 105,\n",
       "  't_start': 100},\n",
       " 'yaw': {'model': {'delay': 0.11159139554746923,\n",
       "   'f_s': 232.99287433805779,\n",
       "   'fit': 0.87415539224859207,\n",
       "   'gain': 41.274521147805387,\n",
       "   'sample_delay': 26},\n",
       "  't_end': 5,\n",
       "  't_start': 0}}"
      ]
     },
     "execution_count": 3,
     "metadata": {},
     "output_type": "execute_result"
    }
   ],
   "source": [
    "log_file = ut.ulog.download_log('http://review.px4.io/download?log=35b27fdb-6a93-427a-b634-72ab45b9609e', '/tmp')\n",
    "data = ut.sysid.prepare_data(log_file)\n",
    "res = ut.sysid.attitude_sysid(data)\n",
    "res"
   ]
  },
  {
   "cell_type": "markdown",
   "metadata": {},
   "source": [
    "# Continuous Time Optimization"
   ]
  },
  {
   "cell_type": "code",
   "execution_count": 8,
   "metadata": {},
   "outputs": [
    {
     "ename": "TypeError",
     "evalue": "attitude_loop_design() missing 2 required positional arguments: 'dcut_hz' and 'est_delay'",
     "output_type": "error",
     "traceback": [
      "\u001b[0;31m---------------------------------------------------------------------------\u001b[0m",
      "\u001b[0;31mTypeError\u001b[0m                                 Traceback (most recent call last)",
      "\u001b[0;32m<ipython-input-8-2a15fca2e900>\u001b[0m in \u001b[0;36m<module>\u001b[0;34m()\u001b[0m\n\u001b[0;32m----> 1\u001b[0;31m \u001b[0mopt\u001b[0m\u001b[0;34m.\u001b[0m\u001b[0mattitude_loop_design\u001b[0m\u001b[0;34m(\u001b[0m\u001b[0mres\u001b[0m\u001b[0;34m[\u001b[0m\u001b[0;34m'roll'\u001b[0m\u001b[0;34m]\u001b[0m\u001b[0;34m[\u001b[0m\u001b[0;34m'model'\u001b[0m\u001b[0;34m]\u001b[0m\u001b[0;34m,\u001b[0m \u001b[0;34m'ROLL'\u001b[0m\u001b[0;34m)\u001b[0m\u001b[0;34m\u001b[0m\u001b[0m\n\u001b[0m",
      "\u001b[0;31mTypeError\u001b[0m: attitude_loop_design() missing 2 required positional arguments: 'dcut_hz' and 'est_delay'"
     ]
    }
   ],
   "source": [
    "opt.attitude_loop_design(res['roll']['model'], 'ROLL', d)"
   ]
  },
  {
   "cell_type": "code",
   "execution_count": 6,
   "metadata": {},
   "outputs": [
    {
     "data": {
      "text/plain": [
       "{'MC_PITCHRATE_D': 0.015662896675004697,\n",
       " 'MC_PITCHRATE_I': 0.48847645640076243,\n",
       " 'MC_PITCHRATE_P': 0.51104029619426683,\n",
       " 'MC_PITCH_P': 5.8666514695501988}"
      ]
     },
     "execution_count": 6,
     "metadata": {},
     "output_type": "execute_result"
    }
   ],
   "source": [
    "attitude_loop_design(res['pitch']['model'], 'PITCH')"
   ]
  },
  {
   "cell_type": "code",
   "execution_count": 7,
   "metadata": {},
   "outputs": [
    {
     "data": {
      "text/plain": [
       "{'MC_YAWRATE_D': 0.017251069591687748,\n",
       " 'MC_YAWRATE_I': 0.19498248018478978,\n",
       " 'MC_YAWRATE_P': 0.18924319337905329,\n",
       " 'MC_YAW_P': 3.598452484267229}"
      ]
     },
     "execution_count": 7,
     "metadata": {},
     "output_type": "execute_result"
    }
   ],
   "source": [
    "attitude_loop_design(res['yaw']['model'], 'YAW')"
   ]
  }
 ],
 "metadata": {
  "kernelspec": {
   "display_name": "Python 3",
   "language": "python",
   "name": "python3"
  },
  "language_info": {
   "codemirror_mode": {
    "name": "ipython",
    "version": 3
   },
   "file_extension": ".py",
   "mimetype": "text/x-python",
   "name": "python",
   "nbconvert_exporter": "python",
   "pygments_lexer": "ipython3",
   "version": "3.6.1"
  },
  "latex_envs": {
   "LaTeX_envs_menu_present": true,
   "autocomplete": true,
   "bibliofile": "biblio.bib",
   "cite_by": "apalike",
   "current_citInitial": 1,
   "eqLabelWithNumbers": true,
   "eqNumInitial": 1,
   "hotkeys": {
    "equation": "Ctrl-E",
    "itemize": "Ctrl-I"
   },
   "labels_anchors": false,
   "latex_user_defs": false,
   "report_style_numbering": false,
   "user_envs_cfg": false
  },
  "toc": {
   "colors": {
    "hover_highlight": "#DAA520",
    "navigate_num": "#000000",
    "navigate_text": "#333333",
    "running_highlight": "#FF0000",
    "selected_highlight": "#FFD700",
    "sidebar_border": "#EEEEEE",
    "wrapper_background": "#FFFFFF"
   },
   "moveMenuLeft": true,
   "nav_menu": {
    "height": "116px",
    "width": "252px"
   },
   "navigate_menu": true,
   "number_sections": true,
   "sideBar": true,
   "threshold": 4,
   "toc_cell": false,
   "toc_section_display": "block",
   "toc_window_display": false,
   "widenNotebook": false
  }
 },
 "nbformat": 4,
 "nbformat_minor": 1
}
