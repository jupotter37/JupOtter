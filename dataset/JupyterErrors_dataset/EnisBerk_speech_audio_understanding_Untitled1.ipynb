{
 "cells": [
  {
   "cell_type": "code",
   "execution_count": 1,
   "metadata": {},
   "outputs": [
    {
     "name": "stdout",
     "output_type": "stream",
     "text": [
      "/home/enis/projects/nna/src\n"
     ]
    }
   ],
   "source": [
    "import os\n",
    "import sys\n",
    "\n",
    "module_path = os.path.abspath(os.path.join('../../src'))\n",
    "print(module_path)\n",
    "if module_path not in sys.path:\n",
    "    sys.path.append(module_path)"
   ]
  },
  {
   "cell_type": "code",
   "execution_count": 5,
   "metadata": {},
   "outputs": [],
   "source": [
    "import numpy as np"
   ]
  },
  {
   "cell_type": "code",
   "execution_count": 6,
   "metadata": {},
   "outputs": [],
   "source": [
    "dataPath= \"/home/enis/projects/nna/results/predictions/8tags_on_8sites_pathV2.npy\""
   ]
  },
  {
   "cell_type": "code",
   "execution_count": 10,
   "metadata": {},
   "outputs": [],
   "source": [
    "data2check=np.load(dataPath,allow_pickle=True)[()]"
   ]
  },
  {
   "cell_type": "code",
   "execution_count": null,
   "metadata": {},
   "outputs": [],
   "source": []
  },
  {
   "cell_type": "code",
   "execution_count": 17,
   "metadata": {},
   "outputs": [
    {
     "data": {
      "text/plain": [
       "dict_keys(['Neural Net_Songbird', 'Neural Net_Water Bird', 'Neural Net_Insect', 'Neural Net_Running Water', 'Neural Net_Rain', 'Neural Net_Cable', 'Neural Net_Wind', 'Neural Net_Aircraft'])"
      ]
     },
     "execution_count": 17,
     "metadata": {},
     "output_type": "execute_result"
    }
   ],
   "source": [
    "data2check2.keys()"
   ]
  },
  {
   "cell_type": "code",
   "execution_count": 18,
   "metadata": {},
   "outputs": [
    {
     "data": {
      "text/plain": [
       "{PosixPath('/tank/data/nna/real/stinchcomb/05-Colville5/2016/CLVL5_20160602_163306.MP3'): array([0., 0., 0., ..., 1., 1., 0.]),\n",
       " PosixPath('/tank/data/nna/real/stinchcomb/05-Colville5/2016/CLVL5_20160604_181421.MP3'): array([0., 1., 1., ..., 1., 1., 0.]),\n",
       " PosixPath('/tank/data/nna/real/stinchcomb/05-Colville5/2016/CLVL5_20160606_195535.MP3'): array([1., 1., 0., ..., 1., 1., 1.]),\n",
       " PosixPath('/tank/data/nna/real/stinchcomb/05-Colville5/2016/CLVL5_20160608_213649.MP3'): array([1., 1., 1., ..., 1., 1., 1.]),\n",
       " PosixPath('/tank/data/nna/real/stinchcomb/05-Colville5/2016/CLVL5_20160610_231803.MP3'): array([1., 0., 1., ..., 1., 1., 1.]),\n",
       " PosixPath('/tank/data/nna/real/stinchcomb/05-Colville5/2016/CLVL5_20160613_005919.MP3'): array([1., 1., 1., ..., 1., 1., 1.]),\n",
       " PosixPath('/tank/data/nna/real/stinchcomb/05-Colville5/2016/CLVL5_20160615_024034.MP3'): array([1., 1., 1., ..., 1., 1., 1.]),\n",
       " PosixPath('/tank/data/nna/real/stinchcomb/05-Colville5/2016/CLVL5_20160617_042148.MP3'): array([1., 1., 1., ..., 1., 1., 1.]),\n",
       " PosixPath('/tank/data/nna/real/stinchcomb/05-Colville5/2016/CLVL5_20160619_060304.MP3'): array([1., 1., 1., ..., 1., 1., 1.]),\n",
       " PosixPath('/tank/data/nna/real/stinchcomb/05-Colville5/2016/CLVL5_20160621_074419.MP3'): array([1., 1., 1., ..., 1., 1., 1.]),\n",
       " PosixPath('/tank/data/nna/real/stinchcomb/05-Colville5/2016/CLVL5_20160623_092534.MP3'): array([1., 1., 0., ..., 0., 0., 0.]),\n",
       " PosixPath('/tank/data/nna/real/stinchcomb/05-Colville5/2016/CLVL5_20160624_185002.MP3'): array([1., 0., 1., ..., 1., 1., 1.]),\n",
       " PosixPath('/tank/data/nna/real/stinchcomb/05-Colville5/2016/CLVL5_20160626_203118.MP3'): array([0., 0., 0., ..., 0., 0., 1.]),\n",
       " PosixPath('/tank/data/nna/real/stinchcomb/05-Colville5/2016/CLVL5_20160628_221234.MP3'): array([0., 1., 0., ..., 0., 0., 0.]),\n",
       " PosixPath('/tank/data/nna/real/stinchcomb/05-Colville5/2016/CLVL5_20160630_235349.MP3'): array([0., 0., 0., ..., 0., 0., 0.]),\n",
       " PosixPath('/tank/data/nna/real/stinchcomb/05-Colville5/2016/CLVL5_20160703_013505.MP3'): array([0., 0., 0., ..., 1., 1., 1.]),\n",
       " PosixPath('/tank/data/nna/real/stinchcomb/05-Colville5/2016/CLVL5_20160705_031621.MP3'): array([1., 1., 1., ..., 0., 0., 0.]),\n",
       " PosixPath('/tank/data/nna/real/stinchcomb/05-Colville5/2016/CLVL5_20160707_045736.MP3'): array([0., 0., 0., ..., 1., 1., 1.]),\n",
       " PosixPath('/tank/data/nna/real/stinchcomb/05-Colville5/2016/CLVL5_20160709_063852.MP3'): array([0., 1., 1., ..., 0., 0., 0.]),\n",
       " PosixPath('/tank/data/nna/real/stinchcomb/05-Colville5/2016/CLVL5_20160711_082008.MP3'): array([0., 0., 0., ..., 1., 1., 1.]),\n",
       " PosixPath('/tank/data/nna/real/stinchcomb/05-Colville5/2016/CLVL5_20160713_100125.MP3'): array([0., 0., 0., ..., 0., 0., 0.]),\n",
       " PosixPath('/tank/data/nna/real/stinchcomb/05-Colville5/2016/CLVL5_20160715_114241.MP3'): array([0., 0., 0., ..., 0., 0., 0.]),\n",
       " PosixPath('/tank/data/nna/real/stinchcomb/05-Colville5/2016/CLVL5_20160717_132357.MP3'): array([0., 0., 0., ..., 0., 0., 0.]),\n",
       " PosixPath('/tank/data/nna/real/stinchcomb/05-Colville5/2016/CLVL5_20160719_150511.MP3'): array([0., 0., 0., ..., 0., 0., 1.]),\n",
       " PosixPath('/tank/data/nna/real/stinchcomb/05-Colville5/2016/CLVL5_20160721_164626.MP3'): array([1., 1., 0., ..., 0., 0., 0.]),\n",
       " PosixPath('/tank/data/nna/real/stinchcomb/05-Colville5/2016/CLVL5_20160723_182741.MP3'): array([1., 0., 0., ..., 0., 0., 0.]),\n",
       " PosixPath('/tank/data/nna/real/stinchcomb/19-Itkillik2/2016/ITKILLIK2_20160626_172259.MP3'): array([0., 0., 0., ..., 0., 0., 0.]),\n",
       " PosixPath('/tank/data/nna/real/stinchcomb/19-Itkillik2/2016/ITKILLIK2_20160628_190415.MP3'): array([0., 0., 0., ..., 0., 0., 0.]),\n",
       " PosixPath('/tank/data/nna/real/stinchcomb/19-Itkillik2/2016/ITKILLIK2_20160630_204531.MP3'): array([0., 0., 0., ..., 0., 0., 0.]),\n",
       " PosixPath('/tank/data/nna/real/stinchcomb/19-Itkillik2/2016/ITKILLIK2_20160702_222647.MP3'): array([0., 0., 0., ..., 0., 0., 0.]),\n",
       " PosixPath('/tank/data/nna/real/stinchcomb/19-Itkillik2/2016/ITKILLIK2_20160705_000803.MP3'): array([0., 0., 0., ..., 0., 0., 0.]),\n",
       " PosixPath('/tank/data/nna/real/stinchcomb/19-Itkillik2/2016/ITKILLIK2_20160707_014919.MP3'): array([1., 0., 0., ..., 1., 1., 1.]),\n",
       " PosixPath('/tank/data/nna/real/stinchcomb/19-Itkillik2/2016/ITKILLIK2_20160709_033035.MP3'): array([0., 1., 0., ..., 0., 0., 0.]),\n",
       " PosixPath('/tank/data/nna/real/stinchcomb/19-Itkillik2/2016/ITKILLIK2_20160711_051151.MP3'): array([0., 0., 1., ..., 0., 0., 0.]),\n",
       " PosixPath('/tank/data/nna/real/stinchcomb/19-Itkillik2/2016/ITKILLIK2_20160713_065308.MP3'): array([0., 0., 0., ..., 0., 1., 0.]),\n",
       " PosixPath('/tank/data/nna/real/stinchcomb/19-Itkillik2/2016/ITKILLIK2_20160715_083425.MP3'): array([0., 1., 1., ..., 0., 0., 0.]),\n",
       " PosixPath('/tank/data/nna/real/stinchcomb/19-Itkillik2/2016/ITKILLIK2_20160717_101541.MP3'): array([0., 0., 0., ..., 0., 0., 0.]),\n",
       " PosixPath('/tank/data/nna/real/stinchcomb/19-Itkillik2/2016/ITKILLIK2_20160719_115656.MP3'): array([0., 0., 0., ..., 1., 0., 0.]),\n",
       " PosixPath('/tank/data/nna/real/stinchcomb/19-Itkillik2/2016/ITKILLIK2_20160721_133811.MP3'): array([1., 0., 1., ..., 0., 1., 1.]),\n",
       " PosixPath('/tank/data/nna/real/stinchcomb/19-Itkillik2/2016/ITKILLIK2_20160723_151926.MP3'): array([0., 0., 1., ..., 0., 0., 1.]),\n",
       " PosixPath('/tank/data/nna/real/stinchcomb/19-Itkillik2/2016/ITKILLIK2_20160725_170041.MP3'): array([1., 1., 0., ..., 0., 0., 0.]),\n",
       " PosixPath('/tank/data/nna/real/stinchcomb/19-Itkillik2/2016/ITKILLIK2_20160728_171820.MP3'): array([0., 0., 0., ..., 0., 0., 0.]),\n",
       " PosixPath('/tank/data/nna/real/stinchcomb/19-Itkillik2/2016/ITKILLIK2_20160730_185936.MP3'): array([0., 0., 0., ..., 0., 0., 0.]),\n",
       " PosixPath('/tank/data/nna/real/stinchcomb/19-Itkillik2/2016/ITKILLIK2_20160801_204052.MP3'): array([0., 0., 0., ..., 0., 0., 0.]),\n",
       " PosixPath('/tank/data/nna/real/stinchcomb/19-Itkillik2/2016/ITKILLIK2_20160803_222207.MP3'): array([0., 0., 0., ..., 1., 0., 0.]),\n",
       " PosixPath('/tank/data/nna/real/stinchcomb/19-Itkillik2/2016/ITKILLIK2_20160806_000321.MP3'): array([0., 0., 0., ..., 0., 0., 0.]),\n",
       " PosixPath('/tank/data/nna/real/stinchcomb/19-Itkillik2/2016/ITKILLIK2_20160808_014437.MP3'): array([0., 0., 0., ..., 0., 0., 0.]),\n",
       " PosixPath('/tank/data/nna/real/stinchcomb/19-Itkillik2/2016/ITKILLIK2_20160810_032552.MP3'): array([0., 0., 0., ..., 0., 1., 0.]),\n",
       " PosixPath('/tank/data/nna/real/stinchcomb/19-Itkillik2/2016/ITKILLIK2_20160812_050707.MP3'): array([1., 0., 0., ..., 0., 0., 0.]),\n",
       " PosixPath('/tank/data/nna/real/stinchcomb/19-Itkillik2/2016/ITKILLIK2_20160814_064822.MP3'): array([0., 0., 0., ..., 0., 0., 0.]),\n",
       " PosixPath('/tank/data/nna/real/stinchcomb/19-Itkillik2/2016/ITKILLIK2_20160816_082938.MP3'): array([0., 0., 0., ..., 0., 0., 0.]),\n",
       " PosixPath('/tank/data/nna/real/stinchcomb/19-Itkillik2/2016/ITKILLIK2_20160818_101053.MP3'): array([0., 0., 0., ..., 0., 0., 0.]),\n",
       " PosixPath('/tank/data/nna/real/stinchcomb/04-Colville4/2016/CLVL4_20160602_153918.MP3'): array([1., 1., 0., 0., 0., 0., 0., 0., 0., 0., 0., 0., 1., 0., 0., 0., 1.,\n",
       "        0., 0., 0., 0., 0.]),\n",
       " PosixPath('/tank/data/nna/real/stinchcomb/04-Colville4/2016/CLVL4_20160602_154908.MP3'): array([0., 0., 0., ..., 0., 0., 0.]),\n",
       " PosixPath('/tank/data/nna/real/stinchcomb/04-Colville4/2016/CLVL4_20160604_173026.MP3'): array([0., 0., 0., ..., 0., 1., 1.]),\n",
       " PosixPath('/tank/data/nna/real/stinchcomb/04-Colville4/2016/CLVL4_20160606_191142.MP3'): array([1., 1., 1., ..., 0., 0., 1.]),\n",
       " PosixPath('/tank/data/nna/real/stinchcomb/04-Colville4/2016/CLVL4_20160608_205258.MP3'): array([0., 0., 0., ..., 0., 0., 0.]),\n",
       " PosixPath('/tank/data/nna/real/stinchcomb/04-Colville4/2016/CLVL4_20160610_223415.MP3'): array([1., 0., 1., ..., 1., 1., 1.]),\n",
       " PosixPath('/tank/data/nna/real/stinchcomb/04-Colville4/2016/CLVL4_20160613_001533.MP3'): array([1., 1., 1., ..., 1., 1., 1.]),\n",
       " PosixPath('/tank/data/nna/real/stinchcomb/04-Colville4/2016/CLVL4_20160615_015650.MP3'): array([1., 1., 1., ..., 1., 1., 1.]),\n",
       " PosixPath('/tank/data/nna/real/stinchcomb/04-Colville4/2016/CLVL4_20160617_033807.MP3'): array([1., 1., 1., ..., 1., 1., 1.]),\n",
       " PosixPath('/tank/data/nna/real/stinchcomb/04-Colville4/2016/CLVL4_20160619_051925.MP3'): array([1., 1., 1., ..., 1., 1., 0.]),\n",
       " PosixPath('/tank/data/nna/real/stinchcomb/04-Colville4/2016/CLVL4_20160621_070042.MP3'): array([1., 1., 1., ..., 1., 1., 1.]),\n",
       " PosixPath('/tank/data/nna/real/stinchcomb/04-Colville4/2016/CLVL4_20160623_084159.MP3'): array([1., 1., 1., ..., 1., 1., 0.]),\n",
       " PosixPath('/tank/data/nna/real/stinchcomb/04-Colville4/2016/CLVL4_20160624_192354.MP3'): array([0., 0., 1., ..., 0., 0., 1.]),\n",
       " PosixPath('/tank/data/nna/real/stinchcomb/04-Colville4/2016/CLVL4_20160626_210512.MP3'): array([0., 0., 0., ..., 0., 0., 0.]),\n",
       " PosixPath('/tank/data/nna/real/stinchcomb/04-Colville4/2016/CLVL4_20160628_224630.MP3'): array([0., 1., 0., ..., 1., 1., 1.]),\n",
       " PosixPath('/tank/data/nna/real/stinchcomb/04-Colville4/2016/CLVL4_20160701_002747.MP3'): array([1., 1., 0., ..., 1., 1., 1.]),\n",
       " PosixPath('/tank/data/nna/real/stinchcomb/04-Colville4/2016/CLVL4_20160703_020906.MP3'): array([1., 1., 1., ..., 1., 1., 1.]),\n",
       " PosixPath('/tank/data/nna/real/stinchcomb/04-Colville4/2016/CLVL4_20160705_035024.MP3'): array([1., 1., 0., ..., 1., 1., 1.]),\n",
       " PosixPath('/tank/data/nna/real/stinchcomb/04-Colville4/2016/CLVL4_20160707_053141.MP3'): array([1., 1., 1., ..., 1., 1., 1.]),\n",
       " PosixPath('/tank/data/nna/real/stinchcomb/04-Colville4/2016/CLVL4_20160709_071259.MP3'): array([0., 0., 0., ..., 1., 1., 1.]),\n",
       " PosixPath('/tank/data/nna/real/stinchcomb/04-Colville4/2016/CLVL4_20160711_085418.MP3'): array([1., 1., 1., ..., 1., 1., 1.]),\n",
       " PosixPath('/tank/data/nna/real/stinchcomb/04-Colville4/2016/CLVL4_20160713_103536.MP3'): array([1., 1., 1., ..., 0., 0., 0.]),\n",
       " PosixPath('/tank/data/nna/real/stinchcomb/04-Colville4/2016/CLVL4_20160715_121655.MP3'): array([0., 0., 0., ..., 0., 0., 0.]),\n",
       " PosixPath('/tank/data/nna/real/stinchcomb/04-Colville4/2016/CLVL4_20160717_135813.MP3'): array([0., 0., 0., ..., 0., 0., 0.]),\n",
       " PosixPath('/tank/data/nna/real/stinchcomb/04-Colville4/2016/CLVL4_20160719_153930.MP3'): array([0., 0., 0., ..., 1., 1., 0.]),\n",
       " PosixPath('/tank/data/nna/real/stinchcomb/04-Colville4/2016/CLVL4_20160727_160736.MP3'): array([0., 1., 1., ..., 0., 0., 0.]),\n",
       " PosixPath('/tank/data/nna/real/stinchcomb/20-Umiat/2013/UMIAT_20130713_180248.MP3'): array([1., 1., 0., ..., 1., 0., 0.]),\n",
       " PosixPath('/tank/data/nna/real/stinchcomb/20-Umiat/2013/UMIAT_20130715_194403.MP3'): array([0., 0., 1., ..., 0., 1., 1.]),\n",
       " PosixPath('/tank/data/nna/real/stinchcomb/20-Umiat/2013/UMIAT_20130717_212516.MP3'): array([0., 1., 1., ..., 0., 1., 1.]),\n",
       " PosixPath('/tank/data/nna/real/stinchcomb/20-Umiat/2013/UMIAT_20130719_230628.MP3'): array([1., 0., 1., ..., 0., 0., 0.]),\n",
       " PosixPath('/tank/data/nna/real/stinchcomb/20-Umiat/2013/UMIAT_20130722_004741.MP3'): array([0., 0., 0., ..., 1., 0., 0.]),\n",
       " PosixPath('/tank/data/nna/real/stinchcomb/20-Umiat/2013/UMIAT_20130723_192129.MP3'): array([1., 0., 0., ..., 0., 1., 0.]),\n",
       " PosixPath('/tank/data/nna/real/stinchcomb/20-Umiat/2013/UMIAT_20130725_210243.MP3'): array([0., 0., 0., ..., 0., 0., 0.]),\n",
       " PosixPath('/tank/data/nna/real/stinchcomb/20-Umiat/2013/UMIAT_20130727_224356.MP3'): array([0., 0., 0., ..., 0., 0., 0.]),\n",
       " PosixPath('/tank/data/nna/real/stinchcomb/20-Umiat/2013/UMIAT_20130730_002508.MP3'): array([0., 0., 0., ..., 0., 0., 0.]),\n",
       " PosixPath('/tank/data/nna/real/stinchcomb/20-Umiat/2013/UMIAT_20130801_020621.MP3'): array([1., 0., 0., ..., 0., 0., 0.]),\n",
       " PosixPath('/tank/data/nna/real/stinchcomb/20-Umiat/2013/UMIAT_20130803_034733.MP3'): array([0., 0., 0., ..., 1., 1., 1.]),\n",
       " PosixPath('/tank/data/nna/real/stinchcomb/20-Umiat/2013/UMIAT_20130805_052845.MP3'): array([0., 1., 1., ..., 0., 0., 0.]),\n",
       " PosixPath('/tank/data/nna/real/stinchcomb/20-Umiat/2013/UMIAT_20130814_190609.MP3'): array([1., 1., 0., ..., 1., 1., 1.]),\n",
       " PosixPath('/tank/data/nna/real/stinchcomb/20-Umiat/2013/UMIAT_20130816_204722.MP3'): array([0., 0., 0., ..., 0., 0., 0.]),\n",
       " PosixPath('/tank/data/nna/real/stinchcomb/20-Umiat/2013/UMIAT_20130818_222835.MP3'): array([0., 0., 0., ..., 1., 0., 0.]),\n",
       " PosixPath('/tank/data/nna/real/stinchcomb/20-Umiat/2013/UMIAT_20130821_000947.MP3'): array([1., 1., 0., ..., 0., 0., 0.]),\n",
       " PosixPath('/tank/data/nna/real/stinchcomb/20-Umiat/2013/UMIAT_20130823_015059.MP3'): array([0., 0., 0., ..., 0., 0., 0.]),\n",
       " PosixPath('/tank/data/nna/real/stinchcomb/20-Umiat/2013/UMIAT_20130825_033211.MP3'): array([0., 0., 0., ..., 0., 0., 0.]),\n",
       " PosixPath('/tank/data/nna/real/stinchcomb/20-Umiat/2013/UMIAT_20130827_051323.MP3'): array([0., 0., 0., ..., 0., 0., 0.]),\n",
       " PosixPath('/tank/data/nna/real/stinchcomb/20-Umiat/2013/UMIAT_20130829_065436.MP3'): array([0., 0., 0., ..., 0., 0., 0.]),\n",
       " PosixPath('/tank/data/nna/real/stinchcomb/20-Umiat/2013/UMIAT_20130831_083548.MP3'): array([0., 0., 0., ..., 0., 0., 0.]),\n",
       " PosixPath('/tank/data/nna/real/stinchcomb/20-Umiat/2013/UMIAT_20130902_101700.MP3'): array([0., 0., 0., ..., 0., 1., 0.]),\n",
       " PosixPath('/tank/data/nna/real/stinchcomb/20-Umiat/2013/UMIAT_20130904_115811.MP3'): array([1., 0., 0., ..., 1., 1., 1.]),\n",
       " PosixPath('/tank/data/nna/real/stinchcomb/20-Umiat/2013/UMIAT_20130906_133922.MP3'): array([1., 1., 1., ..., 0., 1., 1.]),\n",
       " PosixPath('/tank/data/nna/real/stinchcomb/20-Umiat/2013/UMIAT_20130908_152033.MP3'): array([1., 1., 1., ..., 0., 0., 1.]),\n",
       " PosixPath('/tank/data/nna/real/stinchcomb/20-Umiat/2013/UMIAT_20130910_170145.MP3'): array([1., 0., 1., ..., 0., 0., 0.]),\n",
       " PosixPath('/tank/data/nna/real/stinchcomb/20-Umiat/2013/UMIAT_20130912_184256.MP3'): array([0., 0., 0., ..., 0., 0., 0.]),\n",
       " PosixPath('/tank/data/nna/real/stinchcomb/03-OceanPt/2016/OCNPT_20160624_200541.MP3'): array([1., 0., 0., ..., 0., 0., 0.]),\n",
       " PosixPath('/tank/data/nna/real/stinchcomb/03-OceanPt/2016/OCNPT_20160626_214658.MP3'): array([0., 0., 0., ..., 0., 0., 0.]),\n",
       " PosixPath('/tank/data/nna/real/stinchcomb/03-OceanPt/2016/OCNPT_20160628_232813.MP3'): array([0., 0., 0., ..., 0., 0., 0.]),\n",
       " PosixPath('/tank/data/nna/real/stinchcomb/03-OceanPt/2016/OCNPT_20160701_010928.MP3'): array([0., 0., 0., ..., 0., 0., 0.]),\n",
       " PosixPath('/tank/data/nna/real/stinchcomb/03-OceanPt/2016/OCNPT_20160703_025043.MP3'): array([0., 0., 0., ..., 0., 0., 0.]),\n",
       " PosixPath('/tank/data/nna/real/stinchcomb/03-OceanPt/2016/OCNPT_20160705_043158.MP3'): array([1., 0., 0., ..., 0., 0., 0.]),\n",
       " PosixPath('/tank/data/nna/real/stinchcomb/03-OceanPt/2016/OCNPT_20160707_061314.MP3'): array([1., 1., 1., ..., 0., 0., 0.]),\n",
       " PosixPath('/tank/data/nna/real/stinchcomb/03-OceanPt/2016/OCNPT_20160709_075429.MP3'): array([0., 0., 0., ..., 0., 0., 0.]),\n",
       " PosixPath('/tank/data/nna/real/stinchcomb/03-OceanPt/2016/OCNPT_20160711_093545.MP3'): array([1., 1., 0., ..., 0., 1., 1.]),\n",
       " PosixPath('/tank/data/nna/real/stinchcomb/03-OceanPt/2016/OCNPT_20160713_111701.MP3'): array([0., 1., 1., ..., 0., 0., 0.]),\n",
       " PosixPath('/tank/data/nna/real/stinchcomb/03-OceanPt/2016/OCNPT_20160715_125817.MP3'): array([0., 0., 0., ..., 0., 0., 0.]),\n",
       " PosixPath('/tank/data/nna/real/stinchcomb/03-OceanPt/2016/OCNPT_20160727_151103.MP3'): array([0., 0., 0., ..., 0., 0., 0.]),\n",
       " PosixPath('/tank/data/nna/real/stinchcomb/03-OceanPt/2016/OCNPT_20160729_165219.MP3'): array([0., 0., 0., ..., 0., 0., 0.]),\n",
       " PosixPath('/tank/data/nna/real/stinchcomb/03-OceanPt/2016/OCNPT_20160731_183334.MP3'): array([0., 0., 0., ..., 0., 0., 0.]),\n",
       " PosixPath('/tank/data/nna/real/stinchcomb/03-OceanPt/2016/OCNPT_20160802_201449.MP3'): array([0., 0., 0., ..., 0., 0., 0.]),\n",
       " PosixPath('/tank/data/nna/real/stinchcomb/03-OceanPt/2016/OCNPT_20160804_215603.MP3'): array([0., 0., 0., ..., 0., 0., 0.]),\n",
       " PosixPath('/tank/data/nna/real/stinchcomb/03-OceanPt/2016/OCNPT_20160806_233717.MP3'): array([0., 0., 0., ..., 0., 0., 0.]),\n",
       " PosixPath('/tank/data/nna/real/stinchcomb/03-OceanPt/2016/OCNPT_20160809_011833.MP3'): array([0., 0., 0., ..., 0., 0., 0.]),\n",
       " PosixPath('/tank/data/nna/real/stinchcomb/03-OceanPt/2016/OCNPT_20160811_025947.MP3'): array([0., 1., 0., ..., 0., 0., 0.]),\n",
       " PosixPath('/tank/data/nna/real/stinchcomb/03-OceanPt/2016/OCNPT_20160813_044101.MP3'): array([0., 0., 0., ..., 1., 1., 1.]),\n",
       " PosixPath('/tank/data/nna/real/stinchcomb/03-OceanPt/2016/OCNPT_20160815_062216.MP3'): array([1., 0., 0., ..., 0., 0., 0.]),\n",
       " PosixPath('/tank/data/nna/real/stinchcomb/03-OceanPt/2016/OCNPT_20160817_080330.MP3'): array([0., 0., 0., ..., 0., 0., 0.]),\n",
       " PosixPath('/tank/data/nna/real/stinchcomb/03-OceanPt/2016/OCNPT_20160819_094445.MP3'): array([1., 0., 0., ..., 0., 0., 0.]),\n",
       " PosixPath('/tank/data/nna/real/stinchcomb/03-OceanPt/2016/OCNPT_20160821_112600.MP3'): array([0., 0., 0., ..., 0., 0., 0.]),\n",
       " PosixPath('/tank/data/nna/real/stinchcomb/03-OceanPt/2016/OCNPT_20160823_130714.MP3'): array([0., 0., 0., ..., 0., 0., 0.]),\n",
       " PosixPath('/tank/data/nna/real/stinchcomb/03-OceanPt/2016/OCNPT_20160825_144829.MP3'): array([0., 0., 1., ..., 0., 0., 0.]),\n",
       " PosixPath('/tank/data/nna/real/stinchcomb/03-OceanPt/2016/OCNPT_20160827_093853.MP3'): array([0.]),\n",
       " PosixPath('/tank/data/nna/real/stinchcomb/02-Colville2/2016/CLVL2_20160602_135656.MP3'): array([0., 0., 0., ..., 1., 1., 1.]),\n",
       " PosixPath('/tank/data/nna/real/stinchcomb/02-Colville2/2016/CLVL2_20160604_153809.MP3'): array([1., 1., 1., ..., 0., 1., 1.]),\n",
       " PosixPath('/tank/data/nna/real/stinchcomb/02-Colville2/2016/CLVL2_20160606_171921.MP3'): array([1., 1., 0., ..., 1., 1., 1.]),\n",
       " PosixPath('/tank/data/nna/real/stinchcomb/02-Colville2/2016/CLVL2_20160608_190033.MP3'): array([1., 0., 1., ..., 0., 0., 1.]),\n",
       " PosixPath('/tank/data/nna/real/stinchcomb/02-Colville2/2016/CLVL2_20160610_204145.MP3'): array([1., 1., 1., ..., 0., 0., 0.]),\n",
       " PosixPath('/tank/data/nna/real/stinchcomb/02-Colville2/2016/CLVL2_20160612_222259.MP3'): array([0., 0., 0., ..., 1., 0., 0.]),\n",
       " PosixPath('/tank/data/nna/real/stinchcomb/02-Colville2/2016/CLVL2_20160615_000411.MP3'): array([1., 1., 0., ..., 0., 1., 1.]),\n",
       " PosixPath('/tank/data/nna/real/stinchcomb/02-Colville2/2016/CLVL2_20160617_014524.MP3'): array([1., 1., 1., ..., 1., 0., 0.]),\n",
       " PosixPath('/tank/data/nna/real/stinchcomb/02-Colville2/2016/CLVL2_20160619_032637.MP3'): array([1., 1., 1., ..., 0., 1., 0.]),\n",
       " PosixPath('/tank/data/nna/real/stinchcomb/02-Colville2/2016/CLVL2_20160621_050750.MP3'): array([0., 0., 0., ..., 1., 1., 1.]),\n",
       " PosixPath('/tank/data/nna/real/stinchcomb/02-Colville2/2016/CLVL2_20160623_064903.MP3'): array([1., 1., 1., ..., 0., 0., 0.]),\n",
       " PosixPath('/tank/data/nna/real/stinchcomb/02-Colville2/2016/CLVL2_20160624_204814.MP3'): array([0., 0., 0., ..., 0., 0., 0.]),\n",
       " PosixPath('/tank/data/nna/real/stinchcomb/02-Colville2/2016/CLVL2_20160626_222929.MP3'): array([0., 0., 0., ..., 1., 1., 1.]),\n",
       " PosixPath('/tank/data/nna/real/stinchcomb/02-Colville2/2016/CLVL2_20160629_001042.MP3'): array([1., 0., 1., ..., 0., 0., 0.]),\n",
       " PosixPath('/tank/data/nna/real/stinchcomb/02-Colville2/2016/CLVL2_20160701_015155.MP3'): array([0., 0., 0., ..., 1., 0., 1.]),\n",
       " PosixPath('/tank/data/nna/real/stinchcomb/02-Colville2/2016/CLVL2_20160703_033309.MP3'): array([0., 1., 1., ..., 0., 0., 0.]),\n",
       " PosixPath('/tank/data/nna/real/stinchcomb/02-Colville2/2016/CLVL2_20160705_051422.MP3'): array([0., 0., 0., ..., 1., 0., 0.]),\n",
       " PosixPath('/tank/data/nna/real/stinchcomb/02-Colville2/2016/CLVL2_20160707_065535.MP3'): array([0., 0., 0., ..., 1., 0., 1.]),\n",
       " PosixPath('/tank/data/nna/real/stinchcomb/02-Colville2/2016/CLVL2_20160709_083649.MP3'): array([0., 0., 0., ..., 0., 0., 0.]),\n",
       " PosixPath('/tank/data/nna/real/stinchcomb/02-Colville2/2016/CLVL2_20160711_101803.MP3'): array([0., 0., 0., ..., 0., 1., 0.]),\n",
       " PosixPath('/tank/data/nna/real/stinchcomb/02-Colville2/2016/CLVL2_20160713_115917.MP3'): array([1., 0., 0., ..., 1., 0., 0.]),\n",
       " PosixPath('/tank/data/nna/real/stinchcomb/02-Colville2/2016/CLVL2_20160715_134031.MP3'): array([0., 1., 0., ..., 1., 1., 1.]),\n",
       " PosixPath('/tank/data/nna/real/stinchcomb/02-Colville2/2016/CLVL2_20160717_152145.MP3'): array([1., 1., 1., ..., 0., 0., 0.]),\n",
       " PosixPath('/tank/data/nna/real/stinchcomb/02-Colville2/2016/CLVL2_20160719_170257.MP3'): array([0., 0., 0., ..., 0., 0., 0.]),\n",
       " PosixPath('/tank/data/nna/real/stinchcomb/02-Colville2/2016/CLVL2_20160721_184410.MP3'): array([0., 0., 0., ..., 1., 1., 1.]),\n",
       " PosixPath('/tank/data/nna/real/stinchcomb/02-Colville2/2016/CLVL2_20160723_202522.MP3'): array([1., 1., 1., ..., 0., 0., 0.]),\n",
       " PosixPath('/tank/data/nna/real/stinchcomb/02-Colville2/2016/CLVL2_20160725_151545.MP3'): array([0.]),\n",
       " PosixPath('/tank/data/nna/real/stinchcomb/02-Colville2/2016/CLVL2_20160827_085325.MP3'): array([0.]),\n",
       " PosixPath('/tank/data/nna/real/stinchcomb/01-Itkillik/2016/ITKILLIK1_20160623_194501.MP3'): array([1., 0., 0., ..., 1., 1., 1.]),\n",
       " PosixPath('/tank/data/nna/real/stinchcomb/01-Itkillik/2016/ITKILLIK1_20160625_212615.MP3'): array([1., 1., 1., ..., 1., 1., 0.]),\n",
       " PosixPath('/tank/data/nna/real/stinchcomb/01-Itkillik/2016/ITKILLIK1_20160627_230728.MP3'): array([0., 0., 0., ..., 0., 0., 0.]),\n",
       " PosixPath('/tank/data/nna/real/stinchcomb/01-Itkillik/2016/ITKILLIK1_20160630_004840.MP3'): array([1., 1., 1., ..., 1., 1., 1.]),\n",
       " PosixPath('/tank/data/nna/real/stinchcomb/01-Itkillik/2016/ITKILLIK1_20160702_022953.MP3'): array([1., 1., 1., ..., 0., 1., 1.]),\n",
       " PosixPath('/tank/data/nna/real/stinchcomb/01-Itkillik/2016/ITKILLIK1_20160704_041106.MP3'): array([0., 1., 0., ..., 1., 0., 0.]),\n",
       " PosixPath('/tank/data/nna/real/stinchcomb/01-Itkillik/2016/ITKILLIK1_20160706_055218.MP3'): array([0., 1., 0., ..., 0., 1., 1.]),\n",
       " PosixPath('/tank/data/nna/real/stinchcomb/01-Itkillik/2016/ITKILLIK1_20160708_073331.MP3'): array([1., 1., 1., ..., 1., 1., 0.]),\n",
       " PosixPath('/tank/data/nna/real/stinchcomb/01-Itkillik/2016/ITKILLIK1_20160710_091444.MP3'): array([1., 1., 1., ..., 1., 0., 0.]),\n",
       " PosixPath('/tank/data/nna/real/stinchcomb/01-Itkillik/2016/ITKILLIK1_20160712_105557.MP3'): array([1., 0., 1., ..., 1., 0., 0.]),\n",
       " PosixPath('/tank/data/nna/real/stinchcomb/01-Itkillik/2016/ITKILLIK1_20160714_123710.MP3'): array([1., 1., 0., ..., 0., 1., 1.]),\n",
       " PosixPath('/tank/data/nna/real/stinchcomb/01-Itkillik/2016/ITKILLIK1_20160716_141823.MP3'): array([0., 1., 0., ..., 0., 1., 1.]),\n",
       " PosixPath('/tank/data/nna/real/stinchcomb/01-Itkillik/2016/ITKILLIK1_20160718_155936.MP3'): array([0., 0., 0., ..., 0., 0., 1.]),\n",
       " PosixPath('/tank/data/nna/real/stinchcomb/01-Itkillik/2016/ITKILLIK1_20160720_174047.MP3'): array([0., 0., 1., ..., 1., 1., 1.]),\n",
       " PosixPath('/tank/data/nna/real/stinchcomb/01-Itkillik/2016/ITKILLIK1_20160722_192159.MP3'): array([1., 1., 1., ..., 1., 1., 1.]),\n",
       " PosixPath('/tank/data/nna/real/stinchcomb/01-Itkillik/2016/ITKILLIK1_20160724_141221.MP3'): array([1.]),\n",
       " PosixPath('/tank/data/nna/real/stinchcomb/01-Itkillik/2016/ITKILLIK1_20160727_135107.MP3'): array([0., 0., 0., ..., 0., 0., 1.]),\n",
       " PosixPath('/tank/data/nna/real/stinchcomb/01-Itkillik/2016/ITKILLIK1_20160729_153220.MP3'): array([1., 1., 1., ..., 0., 0., 0.]),\n",
       " PosixPath('/tank/data/nna/real/stinchcomb/01-Itkillik/2016/ITKILLIK1_20160731_171332.MP3'): array([0., 0., 0., ..., 1., 1., 0.]),\n",
       " PosixPath('/tank/data/nna/real/stinchcomb/01-Itkillik/2016/ITKILLIK1_20160802_185445.MP3'): array([0., 1., 0., ..., 0., 0., 1.]),\n",
       " PosixPath('/tank/data/nna/real/stinchcomb/01-Itkillik/2016/ITKILLIK1_20160804_203556.MP3'): array([0., 1., 1., ..., 0., 0., 1.]),\n",
       " PosixPath('/tank/data/nna/real/stinchcomb/01-Itkillik/2016/ITKILLIK1_20160806_221708.MP3'): array([0., 1., 0., ..., 1., 1., 1.]),\n",
       " PosixPath('/tank/data/nna/real/stinchcomb/01-Itkillik/2016/ITKILLIK1_20160808_235821.MP3'): array([1., 0., 0., ..., 1., 1., 1.]),\n",
       " PosixPath('/tank/data/nna/real/stinchcomb/01-Itkillik/2016/ITKILLIK1_20160811_013933.MP3'): array([1., 1., 0., ..., 0., 0., 1.]),\n",
       " PosixPath('/tank/data/nna/real/stinchcomb/01-Itkillik/2016/ITKILLIK1_20160813_032044.MP3'): array([0., 0., 0., ..., 1., 0., 0.]),\n",
       " PosixPath('/tank/data/nna/real/stinchcomb/01-Itkillik/2016/ITKILLIK1_20160815_050156.MP3'): array([0., 0., 0., ..., 1., 0., 0.]),\n",
       " PosixPath('/tank/data/nna/real/stinchcomb/01-Itkillik/2016/ITKILLIK1_20160817_064308.MP3'): array([1., 0., 0., ..., 1., 1., 0.]),\n",
       " PosixPath('/tank/data/nna/real/stinchcomb/01-Itkillik/2016/ITKILLIK1_20160819_082421.MP3'): array([1., 1., 1., ..., 0., 0., 0.]),\n",
       " PosixPath('/tank/data/nna/real/stinchcomb/01-Itkillik/2016/ITKILLIK1_20160821_100532.MP3'): array([0., 1., 0., ..., 0., 0., 0.]),\n",
       " PosixPath('/tank/data/nna/real/stinchcomb/01-Itkillik/2016/ITKILLIK1_20160823_114644.MP3'): array([0., 0., 0., ..., 0., 0., 0.]),\n",
       " PosixPath('/tank/data/nna/real/stinchcomb/01-Itkillik/2016/ITKILLIK1_20160825_132756.MP3'): array([0., 0., 0., ..., 1., 0., 1.]),\n",
       " PosixPath('/tank/data/nna/real/stinchcomb/01-Itkillik/2016/ITKILLIK1_20160827_081818.MP3'): array([0.]),\n",
       " PosixPath('/tank/data/nna/real/stinchcomb/09-USGS/2016/USGS_20160603_151612.MP3'): array([0., 0., 0., ..., 0., 0., 0.]),\n",
       " PosixPath('/tank/data/nna/real/stinchcomb/09-USGS/2016/USGS_20160605_165727.MP3'): array([0., 0., 0., ..., 1., 0., 0.]),\n",
       " PosixPath('/tank/data/nna/real/stinchcomb/09-USGS/2016/USGS_20160607_183841.MP3'): array([1., 0., 0., ..., 0., 0., 0.]),\n",
       " PosixPath('/tank/data/nna/real/stinchcomb/09-USGS/2016/USGS_20160609_201955.MP3'): array([1., 0., 1., ..., 0., 1., 0.]),\n",
       " PosixPath('/tank/data/nna/real/stinchcomb/09-USGS/2016/USGS_20160611_220109.MP3'): array([1., 0., 0., 1., 1., 1., 1., 1., 1., 1., 1., 0., 1., 1., 1., 1., 1.,\n",
       "        0., 0., 1., 1., 0., 0., 1., 1., 1., 1., 0., 0., 1., 1., 1., 0., 0.,\n",
       "        1., 1., 1., 1., 1., 1., 1.]),\n",
       " PosixPath('/tank/data/nna/real/stinchcomb/09-USGS/2016/USGS_20160613_234225.MP3'): array([0., 0., 0., ..., 0., 0., 0.]),\n",
       " PosixPath('/tank/data/nna/real/stinchcomb/09-USGS/2016/USGS_20160616_012339.MP3'): array([0., 0., 0., ..., 0., 0., 0.]),\n",
       " PosixPath('/tank/data/nna/real/stinchcomb/09-USGS/2016/USGS_20160618_030453.MP3'): array([0., 0., 0., ..., 0., 0., 0.]),\n",
       " PosixPath('/tank/data/nna/real/stinchcomb/09-USGS/2016/USGS_20160620_044609.MP3'): array([0., 0., 0., ..., 0., 0., 0.]),\n",
       " PosixPath('/tank/data/nna/real/stinchcomb/09-USGS/2016/USGS_20160622_062723.MP3'): array([0., 0., 0., ..., 0., 0., 1.]),\n",
       " PosixPath('/tank/data/nna/real/stinchcomb/09-USGS/2016/USGS_20160624_080838.MP3'): array([1., 1., 0., ..., 1., 1., 1.]),\n",
       " PosixPath('/tank/data/nna/real/stinchcomb/09-USGS/2016/USGS_20160626_094953.MP3'): array([0., 0., 0., ..., 0., 0., 0.]),\n",
       " PosixPath('/tank/data/nna/real/stinchcomb/09-USGS/2016/USGS_20160626_135605.MP3'): array([0.]),\n",
       " PosixPath('/tank/data/nna/real/stinchcomb/09-USGS/2016/USGS_20160626_135647.MP3'): array([0.]),\n",
       " PosixPath('/tank/data/nna/real/stinchcomb/09-USGS/2016/USGS_20160626_135759.MP3'): array([1., 1., 1., ..., 0., 0., 0.]),\n",
       " PosixPath('/tank/data/nna/real/stinchcomb/09-USGS/2016/USGS_20160628_153915.MP3'): array([0., 0., 0., ..., 0., 0., 0.]),\n",
       " PosixPath('/tank/data/nna/real/stinchcomb/09-USGS/2016/USGS_20160630_172030.MP3'): array([0., 0., 0., ..., 0., 0., 0.]),\n",
       " PosixPath('/tank/data/nna/real/stinchcomb/09-USGS/2016/USGS_20160702_190146.MP3'): array([0., 0., 0., ..., 0., 0., 0.]),\n",
       " PosixPath('/tank/data/nna/real/stinchcomb/09-USGS/2016/USGS_20160704_204301.MP3'): array([0., 0., 0., ..., 0., 0., 0.]),\n",
       " PosixPath('/tank/data/nna/real/stinchcomb/09-USGS/2016/USGS_20160706_222416.MP3'): array([0., 0., 0., ..., 0., 0., 0.]),\n",
       " PosixPath('/tank/data/nna/real/stinchcomb/09-USGS/2016/USGS_20160709_000531.MP3'): array([0., 0., 0., ..., 1., 1., 0.]),\n",
       " PosixPath('/tank/data/nna/real/stinchcomb/09-USGS/2016/USGS_20160711_014646.MP3'): array([0., 1., 1., ..., 0., 0., 0.]),\n",
       " PosixPath('/tank/data/nna/real/stinchcomb/09-USGS/2016/USGS_20160713_032802.MP3'): array([0., 0., 0., ..., 0., 0., 0.]),\n",
       " PosixPath('/tank/data/nna/real/stinchcomb/09-USGS/2016/USGS_20160715_050919.MP3'): array([1., 0., 0., ..., 0., 0., 0.]),\n",
       " PosixPath('/tank/data/nna/real/stinchcomb/09-USGS/2016/USGS_20160717_065035.MP3'): array([1., 1., 0., 0., 1., 0., 0., 0., 0., 0., 1., 1., 1., 1., 1., 1., 1.,\n",
       "        1., 0., 1., 1., 0., 1., 1., 1., 1., 1., 1., 1., 1., 1., 1., 1., 0.,\n",
       "        0., 1., 1., 0., 1., 0., 1., 1., 1., 1., 1., 1., 1., 0., 0., 0., 0.,\n",
       "        1., 1., 0., 1., 1., 1., 1., 1., 1., 0., 1., 1., 0., 1., 1., 0., 0.,\n",
       "        1., 1., 1., 0., 0., 1., 1., 1., 1., 1., 0., 0., 0., 0., 0., 0., 0.,\n",
       "        0., 1., 1., 0., 0., 1., 1., 1., 1.]),\n",
       " PosixPath('/tank/data/nna/real/stinchcomb/09-USGS/2016/USGS_20160719_083150.MP3'): array([1., 0., 1., 1., 1., 0., 1., 1., 1., 0., 0., 1., 1., 1., 1., 1., 0.,\n",
       "        0., 0., 0., 0., 0., 0., 0., 0., 1., 0., 0., 1., 1., 1., 1., 1.]),\n",
       " PosixPath('/tank/data/nna/real/stinchcomb/09-USGS/2016/USGS_20160721_144426.MP3'): array([0., 1., 0., ..., 0., 0., 0.]),\n",
       " PosixPath('/tank/data/nna/real/stinchcomb/09-USGS/2016/USGS_20160723_162541.MP3'): array([0., 0., 0., ..., 0., 0., 0.]),\n",
       " PosixPath('/tank/data/nna/real/stinchcomb/09-USGS/2016/USGS_20160725_180656.MP3'): array([0., 0., 0., ..., 1., 0., 1.]),\n",
       " PosixPath('/tank/data/nna/real/stinchcomb/09-USGS/2016/USGS_20160727_194812.MP3'): array([0., 1., 1., ..., 0., 0., 0.]),\n",
       " PosixPath('/tank/data/nna/real/stinchcomb/09-USGS/2016/USGS_20160729_212927.MP3'): array([1., 0., 0., ..., 0., 0., 0.]),\n",
       " PosixPath('/tank/data/nna/real/stinchcomb/09-USGS/2016/USGS_20160731_231042.MP3'): array([0., 0., 0., ..., 0., 0., 0.]),\n",
       " PosixPath('/tank/data/nna/real/stinchcomb/09-USGS/2016/USGS_20160803_005157.MP3'): array([0., 0., 0., ..., 0., 0., 0.]),\n",
       " PosixPath('/tank/data/nna/real/stinchcomb/09-USGS/2016/USGS_20160805_023311.MP3'): array([0., 0., 0., ..., 1., 0., 1.]),\n",
       " PosixPath('/tank/data/nna/real/stinchcomb/09-USGS/2016/USGS_20160807_041426.MP3'): array([0., 0., 0., ..., 0., 0., 0.]),\n",
       " PosixPath('/tank/data/nna/real/stinchcomb/09-USGS/2016/USGS_20160809_055541.MP3'): array([0., 0., 0., ..., 0., 1., 0.]),\n",
       " PosixPath('/tank/data/nna/real/stinchcomb/09-USGS/2016/USGS_20160811_073655.MP3'): array([0., 0., 1., ..., 0., 0., 0.]),\n",
       " PosixPath('/tank/data/nna/real/stinchcomb/09-USGS/2016/USGS_20160813_091810.MP3'): array([1., 1., 0., ..., 0., 0., 0.]),\n",
       " PosixPath('/tank/data/nna/real/stinchcomb/09-USGS/2016/USGS_20160815_105924.MP3'): array([0., 0., 0., ..., 0., 1., 0.]),\n",
       " PosixPath('/tank/data/nna/real/stinchcomb/09-USGS/2016/USGS_20160817_124039.MP3'): array([1., 1., 0., ..., 1., 1., 0.]),\n",
       " PosixPath('/tank/data/nna/real/stinchcomb/09-USGS/2016/USGS_20160819_142155.MP3'): array([0., 0., 0., ..., 0., 0., 0.]),\n",
       " PosixPath('/tank/data/nna/real/stinchcomb/09-USGS/2016/USGS_20160821_091219.MP3'): array([0.])}"
      ]
     },
     "execution_count": 18,
     "metadata": {},
     "output_type": "execute_result"
    }
   ],
   "source": [
    "data2check2['Neural Net_Songbird']"
   ]
  },
  {
   "cell_type": "code",
   "execution_count": 19,
   "metadata": {},
   "outputs": [],
   "source": [
    "thepath='/scratch/enis/data/nna/real/stinchcomb/09-USGS/2016/USGS_20160603_151612_SONGBIRD/'"
   ]
  },
  {
   "cell_type": "code",
   "execution_count": 25,
   "metadata": {},
   "outputs": [],
   "source": [
    "# list_files(str(thepath))\n",
    "import glob\n",
    "files=(glob.glob(thepath+\"*\"))\n",
    "files.sort()"
   ]
  },
  {
   "cell_type": "code",
   "execution_count": 29,
   "metadata": {},
   "outputs": [],
   "source": [
    "aa=[]\n",
    "for f in files:\n",
    "    a=np.load(f)\n",
    "    aa.append(a)"
   ]
  },
  {
   "cell_type": "code",
   "execution_count": 33,
   "metadata": {},
   "outputs": [],
   "source": [
    "bb=np.concatenate(aa)"
   ]
  },
  {
   "cell_type": "code",
   "execution_count": 34,
   "metadata": {},
   "outputs": [
    {
     "data": {
      "text/plain": [
       "(17887,)"
      ]
     },
     "execution_count": 34,
     "metadata": {},
     "output_type": "execute_result"
    }
   ],
   "source": [
    "bb.shape"
   ]
  },
  {
   "cell_type": "code",
   "execution_count": 36,
   "metadata": {},
   "outputs": [],
   "source": [
    "hour,minute,second=15,16,12\n"
   ]
  },
  {
   "cell_type": "code",
   "execution_count": 37,
   "metadata": {},
   "outputs": [
    {
     "data": {
      "text/plain": [
       "11089.0"
      ]
     },
     "execution_count": 37,
     "metadata": {},
     "output_type": "execute_result"
    }
   ],
   "source": [
    "sum(bb)"
   ]
  },
  {
   "cell_type": "code",
   "execution_count": 38,
   "metadata": {},
   "outputs": [
    {
     "data": {
      "text/plain": [
       "(17887,)"
      ]
     },
     "execution_count": 38,
     "metadata": {},
     "output_type": "execute_result"
    }
   ],
   "source": [
    "bb.shape"
   ]
  },
  {
   "cell_type": "code",
   "execution_count": 42,
   "metadata": {},
   "outputs": [
    {
     "data": {
      "text/plain": [
       "49.68611111111111"
      ]
     },
     "execution_count": 42,
     "metadata": {},
     "output_type": "execute_result"
    }
   ],
   "source": [
    "178870/3600"
   ]
  },
  {
   "cell_type": "code",
   "execution_count": 48,
   "metadata": {},
   "outputs": [],
   "source": [
    "from datetime import datetime,timedelta"
   ]
  },
  {
   "cell_type": "code",
   "execution_count": 46,
   "metadata": {},
   "outputs": [],
   "source": [
    "datetime1=datetime(year=2016,month=6,day=3,hour=hour,minute=minute,second=second)"
   ]
  },
  {
   "cell_type": "code",
   "execution_count": 49,
   "metadata": {},
   "outputs": [
    {
     "data": {
      "text/plain": [
       "datetime.datetime(2016, 6, 5, 16, 57, 22)"
      ]
     },
     "execution_count": 49,
     "metadata": {},
     "output_type": "execute_result"
    }
   ],
   "source": [
    "datetime1+timedelta(seconds=178870)"
   ]
  },
  {
   "cell_type": "code",
   "execution_count": 50,
   "metadata": {},
   "outputs": [
    {
     "data": {
      "text/plain": [
       "datetime.datetime(2016, 6, 5, 16, 57, 22)"
      ]
     },
     "execution_count": 50,
     "metadata": {},
     "output_type": "execute_result"
    }
   ],
   "source": [
    "datetime(2016, 6, 5, 16, 57, 22)"
   ]
  },
  {
   "cell_type": "code",
   "execution_count": 51,
   "metadata": {},
   "outputs": [
    {
     "name": "stdout",
     "output_type": "stream",
     "text": [
      "/home/enis/projects/nna/src\n"
     ]
    }
   ],
   "source": [
    "import os\n",
    "import sys\n",
    "\n",
    "module_path = os.path.abspath(os.path.join('../../src'))\n",
    "print(module_path)\n",
    "if module_path not in sys.path:\n",
    "    sys.path.append(module_path)"
   ]
  },
  {
   "cell_type": "code",
   "execution_count": 52,
   "metadata": {},
   "outputs": [],
   "source": [
    "import csv \n",
    "from pathlib import Path\n",
    "from os import listdir\n",
    "import pickle\n",
    "\n",
    "from labeling_utils import load_labels\n",
    "\n",
    "import numpy as np\n",
    "from sklearn.metrics import precision_recall_fscore_support\n",
    "\n",
    "\n",
    "# tags=[\"Songbird\",\"Water Bird\",\"Insect\",\"Running Water\",\"Rain\",\"Cable\",\"Wind\",\"Vehicle\",\"Aircraft\"]\n",
    "tags=[\"Songbird\",\"Water Bird\",\"Insect\",\"Running Water\",\"Rain\",\"Cable\",\"Wind\",\"Aircraft\"]\n",
    "\n",
    "from tabulate import tabulate\n",
    "tag_set=tags[:]\n"
   ]
  },
  {
   "cell_type": "code",
   "execution_count": 53,
   "metadata": {},
   "outputs": [],
   "source": [
    "#LOAD MODEL predictions\n",
    "splits_path= Path('/files/scratch/enis/data/nna/labeling/splits/')\n",
    "\n",
    "labelsbymodelpath=Path('/scratch/enis/data/nna/labeling/deep_labels/')\n",
    "dbfile = open(labelsbymodelpath / \"classifications_all_2.pkl\", 'rb')  \n",
    "modelresults = pickle.load(dbfile) \n",
    "dbfile.close() "
   ]
  },
  {
   "cell_type": "code",
   "execution_count": 394,
   "metadata": {},
   "outputs": [
    {
     "name": "stdout",
     "output_type": "stream",
     "text": [
      "unique files: 91 \n",
      "total files 91\n"
     ]
    }
   ],
   "source": [
    "# LOAD LABELS by human\n",
    "labelsbyhumanpath=Path('/scratch/enis/data/nna/labeling/resultsReal/')\n",
    "# filter by username\n",
    "labelsbyhuman=[i for i in listdir(labelsbyhumanpath) if (\".csv\" in i) ]\n",
    "\n",
    "humanresults={}\n",
    "counter=0\n",
    "for apath in labelsbyhuman:\n",
    "    with open(labelsbyhumanpath / apath, newline='') as f:\n",
    "        reader=csv.reader(f)\n",
    "        for row in reader:\n",
    "            counter+=1\n",
    "            humanresults[row[0]]=row[1:]\n",
    "\n",
    "print(\"unique files:\",len(humanresults),\"\\ntotal files\",counter)"
   ]
  },
  {
   "cell_type": "code",
   "execution_count": 395,
   "metadata": {},
   "outputs": [],
   "source": [
    "#Join vehicle and Aircraft\n",
    "for file_name,tagshere in humanresults.items():\n",
    "#     print(file_name,tagshere)\n",
    "    \n",
    "    tagshere=[\"Aircraft\" if tag == \"Vehicle\" else tag for tag in tags]"
   ]
  },
  {
   "cell_type": "code",
   "execution_count": null,
   "metadata": {},
   "outputs": [],
   "source": []
  },
  {
   "cell_type": "code",
   "execution_count": 402,
   "metadata": {},
   "outputs": [],
   "source": [
    "histogram={}\n",
    "hist2={}\n",
    "for file_name in humanresults:\n",
    "    pr=humanresults[file_name]\n",
    "    place_name=file_name.split(\"_\")[0]\n",
    "#     print(file_name)\n",
    "    histogram.setdefault(place_name,0)\n",
    "    for a in pr:\n",
    "        hist2.setdefault(a,0)\n",
    "        hist2[a]+=1\n",
    "    histogram[place_name]+=1"
   ]
  },
  {
   "cell_type": "code",
   "execution_count": 403,
   "metadata": {},
   "outputs": [
    {
     "data": {
      "text/plain": [
       "{'Clipping': 67,\n",
       " 'Songbird': 25,\n",
       " 'Wind': 18,\n",
       " 'Water Bird': 12,\n",
       " 'Aircraft': 2,\n",
       " 'Running Water': 2,\n",
       " 'Insect': 2}"
      ]
     },
     "execution_count": 403,
     "metadata": {},
     "output_type": "execute_result"
    }
   ],
   "source": [
    "hist2"
   ]
  },
  {
   "cell_type": "code",
   "execution_count": 400,
   "metadata": {},
   "outputs": [],
   "source": [
    "a=list(histogram.items())\n",
    "a.sort(key=lambda x:x[1],reverse=True)\n",
    "# a"
   ]
  },
  {
   "cell_type": "code",
   "execution_count": null,
   "metadata": {},
   "outputs": [],
   "source": []
  },
  {
   "cell_type": "code",
   "execution_count": 404,
   "metadata": {},
   "outputs": [],
   "source": [
    "# load name of the labels\n",
    "labels=load_labels()"
   ]
  },
  {
   "cell_type": "code",
   "execution_count": 405,
   "metadata": {},
   "outputs": [],
   "source": [
    "def vectorized_y_true(humanresults,tag_set):\n",
    "    y_true={tag: [None]*len(humanresults) for tag in tag_set}\n",
    "    for i,tags in enumerate(humanresults.values()):\n",
    "        # we  only look for tags in tag_set\n",
    "        for tag in tag_set:\n",
    "            if tag in tags:\n",
    "                y_true[tag][i] = 1\n",
    "            else:\n",
    "                y_true[tag][i] = 0 \n",
    "    return y_true"
   ]
  },
  {
   "cell_type": "code",
   "execution_count": 406,
   "metadata": {},
   "outputs": [],
   "source": [
    "y_true_dict=vectorized_y_true(humanresults,tag_set)\n"
   ]
  },
  {
   "cell_type": "code",
   "execution_count": null,
   "metadata": {},
   "outputs": [],
   "source": []
  },
  {
   "cell_type": "code",
   "execution_count": 408,
   "metadata": {},
   "outputs": [],
   "source": [
    "import numpy as np\n",
    "import matplotlib.pyplot as plt\n",
    "from matplotlib.colors import ListedColormap\n",
    "from sklearn.model_selection import train_test_split\n",
    "# from sklearn.preprocessing import StandardScaler\n",
    "# from sklearn.datasets import make_moons, make_circles, make_classification\n",
    "from sklearn.neural_network import MLPClassifier\n",
    "from sklearn.neighbors import KNeighborsClassifier\n",
    "from sklearn.svm import SVC\n",
    "from sklearn.gaussian_process import GaussianProcessClassifier\n",
    "from sklearn.gaussian_process.kernels import RBF\n",
    "from sklearn.tree import DecisionTreeClassifier\n",
    "from sklearn.ensemble import RandomForestClassifier, AdaBoostClassifier\n",
    "from sklearn.naive_bayes import GaussianNB\n",
    "from sklearn.discriminant_analysis import QuadraticDiscriminantAnalysis\n",
    "from sklearn.metrics import roc_auc_score\n"
   ]
  },
  {
   "cell_type": "code",
   "execution_count": 409,
   "metadata": {},
   "outputs": [],
   "source": [
    "classifier_model_path='../../src/assets/sklearnModels/Songbird_Neural Net_Raw_many2one_2020-03-02--14-06.joblib'\n",
    "\n"
   ]
  },
  {
   "cell_type": "code",
   "execution_count": 410,
   "metadata": {},
   "outputs": [],
   "source": [
    "import joblib\n",
    "classifier_model=joblib.load(classifier_model_path)"
   ]
  },
  {
   "cell_type": "code",
   "execution_count": 411,
   "metadata": {},
   "outputs": [],
   "source": [
    "def many2one_predict(X,clf):\n",
    "    if X.size==0:\n",
    "        return X\n",
    "    res=clf.predict(X)\n",
    "    res=np.append(res,[0]*(-res.size%10)) if res.size%10!=0 else res\n",
    "    res=res.reshape(-1,10)\n",
    "    res=np.max(res,axis=1)\n",
    "    return res"
   ]
  },
  {
   "cell_type": "code",
   "execution_count": 420,
   "metadata": {},
   "outputs": [
    {
     "data": {
      "text/plain": [
       "{'S4A10276_20190617_134602_55m_14s__55m_24s.flac': ['Clipping'],\n",
       " 'S4A10262_20190530_211602_22m_39s__22m_49s.flac': ['Clipping'],\n",
       " 'S4A10272_20190520_074602_42m_27s__42m_37s.flac': ['Songbird'],\n",
       " 'S4A10209_20190509_224602_52m_27s__52m_37s.flac': ['Clipping'],\n",
       " 'S4A10262_20190613_223000_51m_42s__51m_52s.flac': ['Songbird', 'Clipping'],\n",
       " 'S4A10258_20190524_230000_71m_13s__71m_23s.flac': ['Clipping'],\n",
       " 'S4A10268_20190611_111602_18m_39s__18m_49s.flac': ['Clipping'],\n",
       " 'S4A10283_20190603_140000_2m_12s__2m_22s.flac': ['Clipping'],\n",
       " 'S4A10275_20190531_020000_11m_21s__11m_31s.flac': ['Clipping'],\n",
       " 'S4A10266_20190517_224602_13m_56s__14m_6s.flac': ['Clipping'],\n",
       " 'S4A10284_20190526_083000_36m_17s__36m_27s.flac': ['Clipping'],\n",
       " 'S4A10284_20190524_151602_20m_19s__20m_29s.flac': ['Clipping'],\n",
       " 'S4A10262_20190602_090000_28m_15s__28m_25s.flac': ['Clipping'],\n",
       " 'S4A10268_20190510_131602_27m_15s__27m_25s.flac': ['Clipping'],\n",
       " 'S4A10292_20190610_171602_61m_11s__61m_21s.flac': ['Songbird', 'Wind'],\n",
       " 'S4A10270_20190527_034602_27m_20s__27m_30s.flac': ['Clipping'],\n",
       " 'S4A10273_20190508_030000_70m_59s__71m_9s.flac': ['Clipping'],\n",
       " 'S4A10264_20190516_201602_32m_4s__32m_14s.flac': ['Clipping'],\n",
       " 'S4A10273_20190616_120000_44m_0s__44m_10s.flac': ['Wind', 'Clipping'],\n",
       " 'S4A10307_20190508_141602_43m_8s__43m_18s.flac': ['Clipping'],\n",
       " 'S4A10292_20190614_043000_60m_11s__60m_21s.flac': ['Clipping'],\n",
       " 'S4A10261_20190522_211602_3m_34s__3m_44s.flac': ['Songbird', 'Water Bird'],\n",
       " 'S4A10366_20190610_053000_24m_54s__25m_4s.flac': ['Songbird'],\n",
       " 'S4A10297_20190613_223000_30m_52s__31m_2s.flac': ['Wind'],\n",
       " 'S4A10273_20190604_083000_19m_36s__19m_46s.flac': ['Clipping'],\n",
       " 'S4A10310_20190526_234602_60m_42s__60m_52s.flac': ['Clipping'],\n",
       " 'S4A10307_20190612_190000_25m_34s__25m_44s.flac': ['Water Bird', 'Wind'],\n",
       " 'S4A10280_20190524_003000_35m_28s__35m_38s.flac': ['Songbird', 'Water Bird'],\n",
       " 'S4A10301_20190528_044602_27m_58s__28m_8s.flac': ['Songbird',\n",
       "  'Water Bird',\n",
       "  'Clipping'],\n",
       " 'S4A10284_20190527_170000_17m_24s__17m_34s.flac': ['Clipping'],\n",
       " 'S4A10322_20190522_014602_62m_6s__62m_16s.flac': ['Songbird', 'Water Bird'],\n",
       " 'S4A10264_20190620_110000_5m_45s__5m_55s.flac': ['Songbird', 'Clipping'],\n",
       " 'S4A10227_20190512_014602_19m_48s__19m_58s.flac': ['Water Bird'],\n",
       " 'S4A10297_20190518_081602_11m_8s__11m_18s.flac': ['Songbird',\n",
       "  'Water Bird',\n",
       "  'Wind'],\n",
       " 'S4A10264_20190528_141602_36m_46s__36m_56s.flac': ['Clipping'],\n",
       " 'S4A10243_20190506_144602_7m_43s__7m_53s.flac': ['Clipping'],\n",
       " 'S4A10245_20190614_001602_27m_1s__27m_11s.flac': ['Songbird',\n",
       "  'Water Bird',\n",
       "  'Wind',\n",
       "  'Clipping'],\n",
       " 'S4A10258_20190529_074602_2m_35s__2m_45s.flac': ['Clipping'],\n",
       " 'S4A10279_20190608_063000_55m_55s__56m_5s.flac': ['Songbird', 'Water Bird'],\n",
       " 'S4A10301_20190702_151602_6m_17s__6m_27s.flac': ['Clipping'],\n",
       " 'S4A10259_20190530_150000_51m_39s__51m_49s.flac': ['Clipping'],\n",
       " 'S4A10295_20190615_130000_27m_25s__27m_35s.flac': ['Aircraft'],\n",
       " 'S4A10245_20190524_054602_47m_55s__48m_5s.flac': ['Songbird', 'Wind'],\n",
       " 'S4A10261_20190529_084602_11m_5s__11m_15s.flac': ['Clipping'],\n",
       " 'S4A10266_20190529_074602_44m_16s__44m_26s.flac': ['Clipping'],\n",
       " 'S4A10209_20190526_094602_70m_16s__70m_26s.flac': ['Clipping'],\n",
       " 'S4A10288_20190527_230000_47m_29s__47m_39s.flac': ['Songbird', 'Clipping'],\n",
       " 'S4A10227_20190505_004602_23m_36s__23m_46s.flac': ['Clipping'],\n",
       " 'S4A10264_20190529_091602_63m_14s__63m_24s.flac': ['Clipping'],\n",
       " 'S4A10238_20190524_140000_67m_11s__67m_21s.flac': ['Clipping'],\n",
       " 'S4A10266_20190525_173000_21m_47s__21m_57s.flac': ['Songbird',\n",
       "  'Running Water',\n",
       "  'Wind'],\n",
       " 'S4A10290_20190510_063000_62m_51s__63m_1s.flac': ['Clipping'],\n",
       " 'S4A10298_20190511_020000_60m_7s__60m_17s.flac': ['Clipping'],\n",
       " 'S4A10287_20190505_051602_0m_2s__0m_12s.flac': ['Clipping'],\n",
       " 'S4A10261_20190525_093000_54m_41s__54m_51s.flac': ['Songbird', 'Aircraft'],\n",
       " 'S4A10261_20190521_074602_19m_35s__19m_45s.flac': ['Songbird', 'Water Bird'],\n",
       " 'S4A10279_20190506_194602_44m_39s__44m_49s.flac': ['Clipping'],\n",
       " 'S4A10280_20190527_184602_63m_53s__64m_3s.flac': ['Clipping'],\n",
       " 'S4A10258_20190527_073000_55m_10s__55m_20s.flac': ['Clipping'],\n",
       " 'S4A10252_20190505_140000_2m_52s__3m_2s.flac': ['Clipping'],\n",
       " 'S4A10252_20190517_173000_17m_10s__17m_20s.flac': ['Clipping'],\n",
       " 'S4A10295_20190605_083000_58m_49s__58m_59s.flac': ['Songbird',\n",
       "  'Wind',\n",
       "  'Clipping'],\n",
       " 'S4A10257_20190602_004602_70m_32s__70m_42s.flac': ['Clipping'],\n",
       " 'S4A10266_20190512_053000_22m_53s__23m_3s.flac': ['Wind'],\n",
       " 'S4A10287_20190509_070000_46m_15s__46m_25s.flac': [],\n",
       " 'S4A10287_20190528_171602_38m_22s__38m_32s.flac': ['Clipping'],\n",
       " 'S4A10361_20190602_053000_67m_15s__67m_25s.flac': ['Clipping'],\n",
       " 'S4A10209_20190612_140000_32m_54s__33m_4s.flac': ['Clipping'],\n",
       " 'S4A10298_20190611_021602_19m_9s__19m_19s.flac': ['Water Bird'],\n",
       " 'S4A10261_20190523_204602_46m_29s__46m_39s.flac': ['Songbird'],\n",
       " 'S4A10243_20190610_150000_71m_46s__71m_56s.flac': ['Songbird',\n",
       "  'Wind',\n",
       "  'Clipping'],\n",
       " 'S4A10361_20190520_174602_49m_59s__50m_9s.flac': ['Songbird',\n",
       "  'Wind',\n",
       "  'Clipping'],\n",
       " 'S4A10243_20190531_103000_15m_35s__15m_45s.flac': ['Clipping'],\n",
       " 'S4A10264_20190507_043000_8m_43s__8m_53s.flac': ['Wind'],\n",
       " 'S4A10209_20190511_160000_31m_5s__31m_15s.flac': ['Wind', 'Clipping'],\n",
       " 'S4A10243_20190517_033000_54m_23s__54m_33s.flac': ['Clipping'],\n",
       " 'S4A10252_20190604_191602_35m_7s__35m_17s.flac': ['Clipping'],\n",
       " 'S4A10255_20190603_080000_32m_36s__32m_46s.flac': ['Clipping'],\n",
       " 'S4A10257_20190528_031602_4m_48s__4m_58s.flac': ['Wind', 'Clipping'],\n",
       " 'S4A10275_20190601_013000_3m_41s__3m_51s.flac': ['Clipping'],\n",
       " 'S4A10252_20190608_214602_6m_59s__7m_9s.flac': ['Wind', 'Clipping'],\n",
       " 'S4A10279_20190523_100000_5m_45s__5m_55s.flac': ['Running Water'],\n",
       " 'S4A10209_20190528_174602_25m_42s__25m_52s.flac': ['Clipping'],\n",
       " 'S4A10327_20190607_023000_72m_27s__72m_37s.flac': ['Songbird', 'Insect'],\n",
       " 'S4A10270_20190605_041602_21m_28s__21m_38s.flac': ['Songbird', 'Clipping'],\n",
       " 'S4A10252_20190610_021602_69m_24s__69m_34s.flac': ['Songbird', 'Insect'],\n",
       " 'S4A10310_20190513_064602_28m_57s__29m_7s.flac': ['Songbird',\n",
       "  'Wind',\n",
       "  'Clipping'],\n",
       " 'S4A10252_20190531_161602_44m_11s__44m_21s.flac': ['Clipping'],\n",
       " 'S4A10307_20190609_031602_54m_10s__54m_20s.flac': ['Water Bird',\n",
       "  'Wind',\n",
       "  'Clipping'],\n",
       " 'S4A10295_20190601_060000_34m_22s__34m_32s.flac': ['Clipping'],\n",
       " 'S4A10276_20190618_224602_9m_52s__10m_2s.flac': ['Clipping']}"
      ]
     },
     "execution_count": 420,
     "metadata": {},
     "output_type": "execute_result"
    }
   ],
   "source": [
    "humanresults"
   ]
  },
  {
   "cell_type": "code",
   "execution_count": 412,
   "metadata": {},
   "outputs": [],
   "source": [
    "split_path=Path('/scratch/enis/data/nna/labeling/split_real_embeddings/')\n",
    "# filter by username\n",
    "split_embeds=[i for i in listdir(split_path) ]\n",
    "raw_embeds =  [i for i in split_embeds if \"rawembed\" in i]\n",
    "proc_embeds = [i for i in split_embeds if \"_embed\" in i]"
   ]
  },
  {
   "cell_type": "code",
   "execution_count": 421,
   "metadata": {},
   "outputs": [],
   "source": [
    "import copy\n",
    "def pick_embed(embed_type):\n",
    "    # humanresults[proc_embeds[0].replace(\"_embed.npy\",\".mp3\")]\n",
    "    X=[]\n",
    "    for i in humanresults:\n",
    "        if embed_type==\"Raw\":\n",
    "            file_name=i.replace(\".flac\",\"_rawembed.npy\")\n",
    "        elif embed_type==\"Normalized\":\n",
    "            file_name=i.replace(\".flac\",\"_embed.npy\")\n",
    "        else:\n",
    "            raise Exception(\"ERROR with embed type\")\n",
    "        an_x=np.load(split_path / file_name)\n",
    "        X.append(an_x)\n",
    "    return np.array(X)\n",
    "\n",
    "def map_reduce(X,y_true_dict,func_type):\n",
    "    X_copy=X[:]\n",
    "    # X.shape --> (1300, 10, 128)\n",
    "    y_true_dict_copy=copy.deepcopy(y_true_dict)\n",
    "    if func_type==\"Average\":\n",
    "        return np.mean(X_copy,axis=1),y_true_dict_copy\n",
    "    elif func_type==\"Concat\":\n",
    "        return np.reshape(X_copy,(-1,1280)),y_true_dict_copy\n",
    "    elif func_type==\"many2one\":\n",
    "        return np.reshape(X_copy,(-1,1280)),y_true_dict_copy\n",
    "    else:\n",
    "        raise Exception(\"ERROR with embed type\")\n",
    "        \n",
    "def pick_embedsv2(split_path,fileNames):\n",
    "    # humanresults[proc_embeds[0].replace(\"_embed.npy\",\".mp3\")]\n",
    "    X=[]\n",
    "    for file_name in fileNames:\n",
    "        an_x=np.load(split_path / file_name)\n",
    "        X.append(an_x)\n",
    "    return np.concatenate(X)"
   ]
  },
  {
   "cell_type": "code",
   "execution_count": 103,
   "metadata": {},
   "outputs": [],
   "source": [
    "earlierModelpath=\"/home/enis/projects/nna/results/models/raw_many2one_NN_12_04_Y-00:18.pkl\"\n"
   ]
  },
  {
   "cell_type": "code",
   "execution_count": null,
   "metadata": {},
   "outputs": [],
   "source": []
  },
  {
   "cell_type": "code",
   "execution_count": 112,
   "metadata": {},
   "outputs": [],
   "source": [
    "\n",
    "import pickle\n",
    "# pickle.dumps(all_models['Raw_many2one'],open(\"raw_many2one_NN\", 'wb'))\n",
    "earlierModel = pickle.load(open(earlierModelpath, 'rb'))\n",
    "earlierModel=earlierModel['Neural Net_Songbird']"
   ]
  },
  {
   "cell_type": "code",
   "execution_count": null,
   "metadata": {},
   "outputs": [],
   "source": []
  },
  {
   "cell_type": "code",
   "execution_count": 422,
   "metadata": {},
   "outputs": [],
   "source": [
    "aaa=pick_embed(\"Raw\")"
   ]
  },
  {
   "cell_type": "code",
   "execution_count": 423,
   "metadata": {},
   "outputs": [],
   "source": [
    "X=aaa"
   ]
  },
  {
   "cell_type": "code",
   "execution_count": 258,
   "metadata": {},
   "outputs": [],
   "source": [
    "VggFilesFolder=\"/scratch/enis/data/nna/real/stinchcomb/09-USGS/2016/USGS_20160603_151612_vgg/\"\n",
    "VggFilesFolder=\"/scratch/enis/data/nna/real/stinchcomb/09-USGS/2016/USGS_20160603_151612_vgg/\"\n",
    "\n",
    "split_path=Path(VggFilesFolder)\n",
    "# filter by username\n",
    "split_embeds=[i for i in listdir(split_path) ]\n",
    "raw_embeds =  sorted([i for i in split_embeds if \"rawembed\" in i])\n",
    "proc_embeds = sorted([i for i in split_embeds if \"_embed\" in i])\n",
    "\n",
    "VggFilesRaw= pick_embedsv2(split_path,raw_embeds)\n"
   ]
  },
  {
   "cell_type": "code",
   "execution_count": 439,
   "metadata": {},
   "outputs": [
    {
     "ename": "FileNotFoundError",
     "evalue": "[Errno 2] No such file or directory: '/scratch/enis/data/nna/real/anwr/31/2019/S4A10297_20190504*_vgg'",
     "output_type": "error",
     "traceback": [
      "\u001b[0;31m---------------------------------------------------------------------------\u001b[0m",
      "\u001b[0;31mFileNotFoundError\u001b[0m                         Traceback (most recent call last)",
      "\u001b[0;32m<ipython-input-439-d05535939430>\u001b[0m in \u001b[0;36m<module>\u001b[0;34m\u001b[0m\n\u001b[0;32m----> 1\u001b[0;31m \u001b[0mos\u001b[0m\u001b[0;34m.\u001b[0m\u001b[0mlistdir\u001b[0m\u001b[0;34m(\u001b[0m\u001b[0;34m\"/scratch/enis/data/nna/real/anwr/31/2019/S4A10297_20190504*_vgg\"\u001b[0m\u001b[0;34m)\u001b[0m\u001b[0;34m\u001b[0m\u001b[0;34m\u001b[0m\u001b[0m\n\u001b[0m",
      "\u001b[0;31mFileNotFoundError\u001b[0m: [Errno 2] No such file or directory: '/scratch/enis/data/nna/real/anwr/31/2019/S4A10297_20190504*_vgg'"
     ]
    }
   ],
   "source": [
    "os.listdir(\"/scratch/enis/data/nna/real/anwr/31/2019/S4A10297_20190504*_vgg\")"
   ]
  },
  {
   "cell_type": "code",
   "execution_count": 444,
   "metadata": {},
   "outputs": [],
   "source": [
    "# !ls /scratch/enis/data/nna/real/anwr/31/2019/S4A10297_20190504*_vgg/*\n",
    "firstDay=\"\"\"\n",
    "/scratch/enis/data/nna/real/anwr/31/2019/S4A10297_20190504_000000_vgg/S4A10297_20190504_000000_embeddings000.npy\n",
    "/scratch/enis/data/nna/real/anwr/31/2019/S4A10297_20190504_000000_vgg/S4A10297_20190504_000000_rawembeddings000.npy\n",
    "/scratch/enis/data/nna/real/anwr/31/2019/S4A10297_20190504_011602_vgg/S4A10297_20190504_011602_embeddings000.npy\n",
    "/scratch/enis/data/nna/real/anwr/31/2019/S4A10297_20190504_011602_vgg/S4A10297_20190504_011602_rawembeddings000.npy\n",
    "/scratch/enis/data/nna/real/anwr/31/2019/S4A10297_20190504_043000_vgg/S4A10297_20190504_043000_embeddings000.npy\n",
    "/scratch/enis/data/nna/real/anwr/31/2019/S4A10297_20190504_043000_vgg/S4A10297_20190504_043000_rawembeddings000.npy\n",
    "/scratch/enis/data/nna/real/anwr/31/2019/S4A10297_20190504_054602_vgg/S4A10297_20190504_054602_embeddings000.npy\n",
    "/scratch/enis/data/nna/real/anwr/31/2019/S4A10297_20190504_054602_vgg/S4A10297_20190504_054602_rawembeddings000.npy\n",
    "/scratch/enis/data/nna/real/anwr/31/2019/S4A10297_20190504_093000_vgg/S4A10297_20190504_093000_embeddings000.npy\n",
    "/scratch/enis/data/nna/real/anwr/31/2019/S4A10297_20190504_093000_vgg/S4A10297_20190504_093000_rawembeddings000.npy\n",
    "/scratch/enis/data/nna/real/anwr/31/2019/S4A10297_20190504_104602_vgg/S4A10297_20190504_104602_embeddings000.npy\n",
    "/scratch/enis/data/nna/real/anwr/31/2019/S4A10297_20190504_104602_vgg/S4A10297_20190504_104602_rawembeddings000.npy\n",
    "/scratch/enis/data/nna/real/anwr/31/2019/S4A10297_20190504_140000_vgg/S4A10297_20190504_140000_embeddings000.npy\n",
    "/scratch/enis/data/nna/real/anwr/31/2019/S4A10297_20190504_140000_vgg/S4A10297_20190504_140000_rawembeddings000.npy\n",
    "/scratch/enis/data/nna/real/anwr/31/2019/S4A10297_20190504_151602_vgg/S4A10297_20190504_151602_embeddings000.npy\n",
    "/scratch/enis/data/nna/real/anwr/31/2019/S4A10297_20190504_151602_vgg/S4A10297_20190504_151602_rawembeddings000.npy\n",
    "/scratch/enis/data/nna/real/anwr/31/2019/S4A10297_20190504_190000_vgg/S4A10297_20190504_190000_embeddings000.npy\n",
    "/scratch/enis/data/nna/real/anwr/31/2019/S4A10297_20190504_190000_vgg/S4A10297_20190504_190000_rawembeddings000.npy\n",
    "/scratch/enis/data/nna/real/anwr/31/2019/S4A10297_20190504_201602_vgg/S4A10297_20190504_201602_embeddings000.npy\n",
    "/scratch/enis/data/nna/real/anwr/31/2019/S4A10297_20190504_201602_vgg/S4A10297_20190504_201602_rawembeddings000.npy\n",
    "/scratch/enis/data/nna/real/anwr/31/2019/S4A10297_20190504_233000_vgg/S4A10297_20190504_233000_embeddings000.npy\n",
    "/scratch/enis/data/nna/real/anwr/31/2019/S4A10297_20190504_233000_vgg/S4A10297_20190504_233000_rawembeddings000.npy\n",
    "\"\"\"\n",
    "\n",
    "firstDayFiles=list(filter(lambda x: \"raw\" in x, firstDay.split(\"\\n\")[1:]))\n",
    "firstDayFiles.sort()\n"
   ]
  },
  {
   "cell_type": "code",
   "execution_count": 496,
   "metadata": {},
   "outputs": [
    {
     "data": {
      "text/plain": [
       "(4560, 128)"
      ]
     },
     "execution_count": 496,
     "metadata": {},
     "output_type": "execute_result"
    }
   ],
   "source": [
    "an_x.shape"
   ]
  },
  {
   "cell_type": "code",
   "execution_count": null,
   "metadata": {},
   "outputs": [],
   "source": []
  },
  {
   "cell_type": "code",
   "execution_count": 498,
   "metadata": {},
   "outputs": [
    {
     "name": "stdout",
     "output_type": "stream",
     "text": [
      "0\n",
      "2\n",
      "7078\n",
      "2\n",
      "8878\n",
      "2\n",
      "7078\n",
      "2\n",
      "8878\n",
      "2\n",
      "7078\n"
     ]
    }
   ],
   "source": []
  },
  {
   "cell_type": "code",
   "execution_count": 391,
   "metadata": {},
   "outputs": [],
   "source": [
    "SONGBIRDFolder=\"/scratch/enis/data/nna/real/stinchcomb/09-USGS/2016/USGS_20160603_151612_SONGBIRD/\"\n",
    "SONGBIRDFolder=Path(SONGBIRDFolder)\n",
    "songbirdPreds=sorted([i for i in listdir(SONGBIRDFolder) ])\n",
    "songbirdPreds= pick_embedsv2(SONGBIRDFolder,songbirdPreds)\n",
    "songbirdPreds=songbirdPreds.reshape(-1,1)\n",
    "\n"
   ]
  },
  {
   "cell_type": "code",
   "execution_count": 492,
   "metadata": {},
   "outputs": [
    {
     "data": {
      "text/plain": [
       "(7, 720)"
      ]
     },
     "execution_count": 492,
     "metadata": {},
     "output_type": "execute_result"
    }
   ],
   "source": [
    "classifier_modelResultP.shape"
   ]
  },
  {
   "cell_type": "code",
   "execution_count": 535,
   "metadata": {},
   "outputs": [
    {
     "data": {
      "text/plain": [
       "(567040, 1)"
      ]
     },
     "execution_count": 535,
     "metadata": {},
     "output_type": "execute_result"
    }
   ],
   "source": [
    ".shape"
   ]
  },
  {
   "cell_type": "code",
   "execution_count": 545,
   "metadata": {},
   "outputs": [
    {
     "name": "stdout",
     "output_type": "stream",
     "text": [
      "0.0 0.6333333333333333\n",
      "0.6336111111111111 1.25\n",
      "2.25 2.8833333333333333\n",
      "2.883611111111111 3.5\n",
      "4.75 5.383333333333334\n",
      "5.383611111111111 6.0\n",
      "7.0 7.633333333333334\n",
      "7.633611111111111 8.25\n",
      "9.5 10.133333333333333\n",
      "10.133611111111112 10.75\n",
      "11.75 12.383333333333333\n"
     ]
    }
   ],
   "source": [
    "X=[]\n",
    "\n",
    "    \n",
    "endold=0\n",
    "for f in firstDayFiles:\n",
    "    an_x=np.load(f)\n",
    "    passed=an_x.shape[0]\n",
    "    x=(f.split(\"/\")[-1].split(\"_\")[2])\n",
    "    hour,minute,second=[ int(x[i:i+2]) for i in range(0, len(x), 2) ]\n",
    "    start=(hour*3600)+(minute*60)+(second)\n",
    "    end=start+passed\n",
    "#     print(start-endold,hour)\n",
    "    print(start/7200,end/7200)\n",
    "#     if start-endold>0:\n",
    "#         zeros=np.zeros(((start-endold)//10,1))\n",
    "#         X.append(zeros)\n",
    "\n",
    "    an_x=an_x.reshape(-1,1)\n",
    "    an_x=an_x[:(an_x.shape[0]//1280)*1280,:]\n",
    "    an_x,y_dict=map_reduce(an_x,{},\"many2one\")\n",
    "    an_x=getResults2(an_x,{},[classifier_model],names,tag_set,logs=True,many2one=True)\n",
    "    X.append(an_x)\n",
    "#     print(int(hour)-hourold+1,minute,second)\n",
    "    endold=int(end)\n",
    "\n",
    "\n",
    "\n",
    "# classifierlater_anwr=np.concatenate(X)\n"
   ]
  },
  {
   "cell_type": "code",
   "execution_count": 516,
   "metadata": {},
   "outputs": [
    {
     "data": {
      "text/plain": [
       "(456, 1)"
      ]
     },
     "execution_count": 516,
     "metadata": {},
     "output_type": "execute_result"
    }
   ],
   "source": [
    "an_x.shape"
   ]
  },
  {
   "cell_type": "code",
   "execution_count": 543,
   "metadata": {},
   "outputs": [
    {
     "data": {
      "text/plain": [
       "[array([0.33945531]),\n",
       " array([0.41668319]),\n",
       " array([0.14224038]),\n",
       " array([0.17361962]),\n",
       " array([0.08200306]),\n",
       " array([0.04977615]),\n",
       " array([0.61800053]),\n",
       " array([0.27023856]),\n",
       " array([0.05089733]),\n",
       " array([0.04238444]),\n",
       " array([0.42327845])]"
      ]
     },
     "execution_count": 543,
     "metadata": {},
     "output_type": "execute_result"
    }
   ],
   "source": [
    "visA"
   ]
  },
  {
   "cell_type": "code",
   "execution_count": 542,
   "metadata": {},
   "outputs": [
    {
     "data": {
      "image/png": "[encoded data removed]",
      "text/plain": [
       "<Figure size 432x288 with 1 Axes>"
      ]
     },
     "metadata": {
      "needs_background": "light"
     },
     "output_type": "display_data"
    }
   ],
   "source": [
    "visA=[]\n",
    "for an_x in X:\n",
    "    visA.append(np.sum(an_x,axis=0)/an_x.shape[0])\n",
    "    \n",
    "plt.plot(visA)\n",
    "plt.show()"
   ]
  },
  {
   "cell_type": "code",
   "execution_count": 537,
   "metadata": {},
   "outputs": [
    {
     "name": "stdout",
     "output_type": "stream",
     "text": [
      "[3.96606813e-01 4.14922988e-01 2.60775595e-01 0.00000000e+00\n",
      " 1.40319670e-01 4.51567824e-01 4.66862635e-01 1.35552669e-02\n",
      " 0.00000000e+00 1.40377854e-01 4.51510006e-01 4.69399765e-01\n",
      " 1.10177714e-02 1.20662603e-04 4.00982715e-01 4.10431527e-01\n",
      " 2.60770492e-01 0.00000000e+00 1.20664648e-04 4.03760488e-01\n",
      " 4.07653760e-01 2.60770484e-01 0.00000000e+00 1.47128831e-01\n",
      " 3.89023867e-01]\n"
     ]
    },
    {
     "data": {
      "image/png": "[encoded data removed]",
      "text/plain": [
       "<Figure size 432x288 with 1 Axes>"
      ]
     },
     "metadata": {
      "needs_background": "light"
     },
     "output_type": "display_data"
    }
   ],
   "source": [
    "# X=[]\n",
    "# for file_name in firstDayFiles:\n",
    "#     an_x=np.load(file_name)\n",
    "#     X.append(an_x)\n",
    "# AnwrVgg=np.concatenate(X)\n",
    "# AnwrVgg=AnwrVgg.reshape(-1,1)\n",
    "# X_anwr,y_dict=map_reduce(AnwrVgg,{},\"many2one\")\n",
    "# names=[\"MLP\"]\n",
    "\n",
    "# classifierlater_anwr=getResults2(X_anwr,{},[classifier_model],names,tag_set,logs=True,many2one=True)\n",
    "\n",
    "secondsGather=360\n",
    "classifier_modelResultP=np.pad(classifierlater_anwr, ((0,secondsGather-(classifierlater_anwr.shape[0]%secondsGather)),(0,0)), 'constant', constant_values=(-1, 0))\n",
    "classifier_modelResultP=classifier_modelResultP.reshape(-1,secondsGather)\n",
    "songbirdPredsSum=np.sum(classifier_modelResultP,axis=1)/secondsGather\n",
    "print(songbirdPredsSum)\n",
    "import matplotlib.pyplot as plt\n",
    "plt.plot(songbirdPredsSum)\n",
    "plt.show()\n"
   ]
  },
  {
   "cell_type": "code",
   "execution_count": 477,
   "metadata": {},
   "outputs": [
    {
     "data": {
      "text/plain": [
       "13.76388888888889"
      ]
     },
     "execution_count": 477,
     "metadata": {},
     "output_type": "execute_result"
    }
   ],
   "source": [
    "49550/3600"
   ]
  },
  {
   "cell_type": "code",
   "execution_count": 463,
   "metadata": {},
   "outputs": [
    {
     "data": {
      "text/plain": [
       "(4955, 1)"
      ]
     },
     "execution_count": 463,
     "metadata": {},
     "output_type": "execute_result"
    }
   ],
   "source": [
    "classifierlater_anwr.shape"
   ]
  },
  {
   "cell_type": "code",
   "execution_count": 456,
   "metadata": {},
   "outputs": [],
   "source": [
    "names=[\"MLP\"]\n",
    "earlierModelResult=get_results(X_transformed,y_true_dict,[earlierModel],names,tag_set,logs=True,many2one=True)\n",
    "classifier_modelResult=get_results(X_transformed,y_true_dict,[classifier_model],names,tag_set,logs=True,many2one=True)\n",
    "\n"
   ]
  },
  {
   "cell_type": "code",
   "execution_count": null,
   "metadata": {},
   "outputs": [],
   "source": []
  },
  {
   "cell_type": "code",
   "execution_count": 260,
   "metadata": {},
   "outputs": [],
   "source": [
    "Vgg_transformed,_=map_reduce(VggFilesRaw,{},\"many2one\")\n",
    "# X.shape --> (1300, 10, 128)"
   ]
  },
  {
   "cell_type": "code",
   "execution_count": null,
   "metadata": {},
   "outputs": [],
   "source": []
  },
  {
   "cell_type": "code",
   "execution_count": 425,
   "metadata": {},
   "outputs": [],
   "source": [
    "X_transformed,y_dict=map_reduce(X,y_true_dict,\"many2one\")\n"
   ]
  },
  {
   "cell_type": "code",
   "execution_count": 194,
   "metadata": {},
   "outputs": [
    {
     "data": {
      "text/plain": [
       "MLPClassifier(activation='relu', alpha=0.0001, batch_size='auto', beta_1=0.9,\n",
       "              beta_2=0.999, early_stopping=False, epsilon=1e-08,\n",
       "              hidden_layer_sizes=(100,), learning_rate='constant',\n",
       "              learning_rate_init=0.001, max_iter=1000, momentum=0.9,\n",
       "              n_iter_no_change=10, nesterovs_momentum=True, power_t=0.5,\n",
       "              random_state=84, shuffle=True, solver='adam', tol=0.0001,\n",
       "              validation_fraction=0.1, verbose=False, warm_start=False)"
      ]
     },
     "execution_count": 194,
     "metadata": {},
     "output_type": "execute_result"
    }
   ],
   "source": [
    "classifier_model"
   ]
  },
  {
   "cell_type": "code",
   "execution_count": 195,
   "metadata": {},
   "outputs": [
    {
     "data": {
      "text/plain": [
       "MLPClassifier(activation='relu', alpha=0.0001, batch_size='auto', beta_1=0.9,\n",
       "              beta_2=0.999, early_stopping=False, epsilon=1e-08,\n",
       "              hidden_layer_sizes=(100,), learning_rate='constant',\n",
       "              learning_rate_init=0.001, max_iter=1000, momentum=0.9,\n",
       "              n_iter_no_change=10, nesterovs_momentum=True, power_t=0.5,\n",
       "              random_state=None, shuffle=True, solver='adam', tol=0.0001,\n",
       "              validation_fraction=0.1, verbose=False, warm_start=False)"
      ]
     },
     "execution_count": 195,
     "metadata": {},
     "output_type": "execute_result"
    }
   ],
   "source": [
    "earlierModel"
   ]
  },
  {
   "cell_type": "code",
   "execution_count": 176,
   "metadata": {},
   "outputs": [],
   "source": [
    "clf=classifier_model\n",
    "# clf=earlierModel"
   ]
  },
  {
   "cell_type": "code",
   "execution_count": 426,
   "metadata": {},
   "outputs": [],
   "source": [
    "names=[\"MLP\"]\n",
    "earlierModelResult=get_results(X_transformed,y_true_dict,[earlierModel],names,tag_set,logs=True,many2one=True)\n",
    "classifier_modelResult=get_results(X_transformed,y_true_dict,[classifier_model],names,tag_set,logs=True,many2one=True)\n",
    "\n"
   ]
  },
  {
   "cell_type": "code",
   "execution_count": null,
   "metadata": {},
   "outputs": [],
   "source": []
  },
  {
   "cell_type": "code",
   "execution_count": 268,
   "metadata": {},
   "outputs": [],
   "source": [
    "names=[\"MLP\"]\n",
    "earlierModelResult=getResults2(Vgg_transformed,{},[earlierModel],names,tag_set,logs=True,many2one=True)\n",
    "classifier_modelResult=getResults2(Vgg_transformed,{},[classifier_model],names,tag_set,logs=True,many2one=True)\n",
    "\n"
   ]
  },
  {
   "cell_type": "code",
   "execution_count": 356,
   "metadata": {},
   "outputs": [],
   "source": [
    "threshold=0.5\n",
    "predearlier=(earlierModelResult > threshold).astype(np.int)\n",
    "predlater=(classifier_modelResult > threshold).astype(np.int)"
   ]
  },
  {
   "cell_type": "code",
   "execution_count": null,
   "metadata": {},
   "outputs": [],
   "source": []
  },
  {
   "cell_type": "code",
   "execution_count": null,
   "metadata": {},
   "outputs": [],
   "source": []
  },
  {
   "cell_type": "code",
   "execution_count": 392,
   "metadata": {},
   "outputs": [],
   "source": [
    "# earlierModelResult.reshape(-1,3600)\n",
    "secondsGather=720\n",
    "earlierModelResultP=np.pad(predearlier, ((0,secondsGather-(earlierModelResult.shape[0]%secondsGather)),(0,0)), 'constant', constant_values=(-1, 0))\n",
    "earlierModelResultP=earlierModelResultP.reshape(-1,secondsGather)\n",
    "earlierModelResultSum=np.sum(earlierModelResultP,axis=1)/secondsGather\n",
    "\n",
    "\n",
    "classifier_modelResultP=np.pad(predlater, ((0,secondsGather-(earlierModelResult.shape[0]%secondsGather)),(0,0)), 'constant', constant_values=(-1, 0))\n",
    "classifier_modelResultP=classifier_modelResultP.reshape(-1,secondsGather)\n",
    "classifier_modelResultSum=np.sum(classifier_modelResultP,axis=1)/secondsGather\n",
    "\n",
    "\n",
    "classifier_modelResultP=np.pad(songbirdPreds, ((0,secondsGather-(earlierModelResult.shape[0]%secondsGather)),(0,0)), 'constant', constant_values=(-1, 0))\n",
    "classifier_modelResultP=classifier_modelResultP.reshape(-1,secondsGather)\n",
    "songbirdPredsSum=np.sum(classifier_modelResultP,axis=1)/secondsGather\n",
    "\n"
   ]
  },
  {
   "cell_type": "code",
   "execution_count": 390,
   "metadata": {},
   "outputs": [
    {
     "data": {
      "text/plain": [
       "array([11089.])"
      ]
     },
     "execution_count": 390,
     "metadata": {},
     "output_type": "execute_result"
    }
   ],
   "source": [
    "sum(songbirdPreds)"
   ]
  },
  {
   "cell_type": "code",
   "execution_count": null,
   "metadata": {},
   "outputs": [],
   "source": []
  },
  {
   "cell_type": "code",
   "execution_count": 393,
   "metadata": {
    "scrolled": true
   },
   "outputs": [
    {
     "data": {
      "image/png": "[encoded data removed]",
      "text/plain": [
       "<Figure size 432x288 with 1 Axes>"
      ]
     },
     "metadata": {
      "needs_background": "light"
     },
     "output_type": "display_data"
    }
   ],
   "source": [
    "import matplotlib.pyplot as plt\n",
    "plt.plot(songbirdPredsSum)\n",
    "plt.show()\n"
   ]
  },
  {
   "cell_type": "code",
   "execution_count": 358,
   "metadata": {},
   "outputs": [
    {
     "data": {
      "image/png": "[encoded data removed]",
      "text/plain": [
       "<Figure size 432x288 with 1 Axes>"
      ]
     },
     "metadata": {
      "needs_background": "light"
     },
     "output_type": "display_data"
    }
   ],
   "source": [
    "import matplotlib.pyplot as plt\n",
    "plt.plot(classifier_modelResultSum)\n",
    "plt.show()\n"
   ]
  },
  {
   "cell_type": "code",
   "execution_count": 359,
   "metadata": {},
   "outputs": [
    {
     "data": {
      "image/png": "[encoded data removed]",
      "text/plain": [
       "<Figure size 432x288 with 1 Axes>"
      ]
     },
     "metadata": {
      "needs_background": "light"
     },
     "output_type": "display_data"
    }
   ],
   "source": [
    "import matplotlib.pyplot as plt\n",
    "plt.plot(earlierModelResultSum)\n",
    "plt.show()"
   ]
  },
  {
   "cell_type": "code",
   "execution_count": 159,
   "metadata": {},
   "outputs": [],
   "source": [
    "from sklearn.metrics import confusion_matrix"
   ]
  },
  {
   "cell_type": "code",
   "execution_count": null,
   "metadata": {},
   "outputs": [],
   "source": [
    "roc_auc_score(y_val,y_val_pred[:,1:])"
   ]
  },
  {
   "cell_type": "code",
   "execution_count": 209,
   "metadata": {},
   "outputs": [
    {
     "data": {
      "text/plain": [
       "73"
      ]
     },
     "execution_count": 209,
     "metadata": {},
     "output_type": "execute_result"
    }
   ],
   "source": [
    "sum(earlierModelResult[0])"
   ]
  },
  {
   "cell_type": "code",
   "execution_count": 231,
   "metadata": {},
   "outputs": [
    {
     "name": "stdout",
     "output_type": "stream",
     "text": [
      "1 0\n",
      "1 0\n",
      "1 0\n",
      "1 0\n",
      "0 1\n",
      "0 1\n"
     ]
    },
    {
     "data": {
      "text/plain": [
       "6"
      ]
     },
     "execution_count": 231,
     "metadata": {},
     "output_type": "execute_result"
    }
   ],
   "source": [
    "count=0\n",
    "for c,a,b in zip(earlierModelResult[0],predearlier,predmodel):\n",
    "    if a!=b and c==1:\n",
    "        print(a,b)\n",
    "        count+=1\n",
    "count"
   ]
  },
  {
   "cell_type": "code",
   "execution_count": 429,
   "metadata": {},
   "outputs": [
    {
     "name": "stdout",
     "output_type": "stream",
     "text": [
      "tn 32\n",
      "fp 34\n",
      "fn 5\n",
      "tp 20\n"
     ]
    }
   ],
   "source": [
    "threshold=0.5\n",
    "predearlier=(earlierModelResult[1] > threshold).astype(np.int).reshape(-1)\n",
    "(tn, fp, fn, tp)=confusion_matrix(earlierModelResult[0],predearlier).ravel()\n",
    "for i in zip((tn, fp, fn, tp),(\"tn\", \"fp\", \"fn\", \"tp\")):\n",
    "    print(i[1],i[0])\n",
    "    "
   ]
  },
  {
   "cell_type": "code",
   "execution_count": 430,
   "metadata": {},
   "outputs": [
    {
     "name": "stdout",
     "output_type": "stream",
     "text": [
      "tn 24\n",
      "fp 42\n",
      "fn 4\n",
      "tp 21\n"
     ]
    }
   ],
   "source": [
    "threshold=0.5\n",
    "predmodel=(classifier_modelResult[1] > threshold).astype(np.int).reshape(-1)\n",
    "(tn, fp, fn, tp)=confusion_matrix(classifier_modelResult[0],predmodel).ravel()\n",
    "for i in zip((tn, fp, fn, tp),(\"tn\", \"fp\", \"fn\", \"tp\")):\n",
    "    print(i[1],i[0])"
   ]
  },
  {
   "cell_type": "code",
   "execution_count": 223,
   "metadata": {},
   "outputs": [],
   "source": [
    "X_input,y_true_dict=X_transformed,y_true_dict\n",
    "\n",
    "X_train, X_test, y_train, y_test = train_test_split(\n",
    "    X_input, y_true_dict[tag], test_size=0.2, random_state=42)\n",
    "X_train, X_val, y_train, y_val = train_test_split(\n",
    "    X_train, y_train, test_size=0.25, random_state=42)\n"
   ]
  },
  {
   "cell_type": "code",
   "execution_count": 224,
   "metadata": {},
   "outputs": [
    {
     "ename": "AttributeError",
     "evalue": "module 'sklearn.metrics' has no attribute 'plot_roc_curve'",
     "output_type": "error",
     "traceback": [
      "\u001b[0;31m---------------------------------------------------------------------------\u001b[0m",
      "\u001b[0;31mAttributeError\u001b[0m                            Traceback (most recent call last)",
      "\u001b[0;32m<ipython-input-224-f473a3392d25>\u001b[0m in \u001b[0;36m<module>\u001b[0;34m\u001b[0m\n\u001b[1;32m      6\u001b[0m \u001b[0;31m# clf.fit(X_train, y_train)\u001b[0m\u001b[0;34m\u001b[0m\u001b[0;34m\u001b[0m\u001b[0;34m\u001b[0m\u001b[0m\n\u001b[1;32m      7\u001b[0m \u001b[0;34m\u001b[0m\u001b[0m\n\u001b[0;32m----> 8\u001b[0;31m \u001b[0mmetrics\u001b[0m\u001b[0;34m.\u001b[0m\u001b[0mplot_roc_curve\u001b[0m\u001b[0;34m(\u001b[0m\u001b[0mpredmodel\u001b[0m\u001b[0;34m,\u001b[0m \u001b[0mX_test\u001b[0m\u001b[0;34m,\u001b[0m \u001b[0my_test\u001b[0m\u001b[0;34m)\u001b[0m  \u001b[0;31m# doctest: +SKIP\u001b[0m\u001b[0;34m\u001b[0m\u001b[0;34m\u001b[0m\u001b[0m\n\u001b[0m\u001b[1;32m      9\u001b[0m \u001b[0mplt\u001b[0m\u001b[0;34m.\u001b[0m\u001b[0mshow\u001b[0m\u001b[0;34m(\u001b[0m\u001b[0;34m)\u001b[0m\u001b[0;34m\u001b[0m\u001b[0;34m\u001b[0m\u001b[0m\n",
      "\u001b[0;31mAttributeError\u001b[0m: module 'sklearn.metrics' has no attribute 'plot_roc_curve'"
     ]
    }
   ],
   "source": [
    "import matplotlib.pyplot as plt  # doctest: +SKIP\n",
    "from sklearn import  metrics\n",
    "# X, y = datasets.make_classification(random_state=0)\n",
    "# X_train, X_test, y_train, y_test = model_selection.train_test_split(            X, y, random_state=0)\n",
    "# clf = svm.SVC(random_state=0)\n",
    "# clf.fit(X_train, y_train)\n",
    "\n",
    "metrics.plot_roc_curve(predmodel, X_test, y_test)  # doctest: +SKIP\n",
    "plt.show()"
   ]
  },
  {
   "cell_type": "code",
   "execution_count": 432,
   "metadata": {},
   "outputs": [
    {
     "data": {
      "image/png": "[encoded data removed]",
      "text/plain": [
       "<Figure size 432x288 with 1 Axes>"
      ]
     },
     "metadata": {
      "needs_background": "light"
     },
     "output_type": "display_data"
    }
   ],
   "source": [
    "import sklearn.metrics as metrics\n",
    "# calculate the fpr and tpr for all thresholds of the classification\n",
    "# probs = model.predict_proba(X_test)\n",
    "# preds = probs[:,1]\n",
    "\n",
    "# fpr, tpr, threshold = metrics.roc_curve(earlierModelResult[0], classifier_modelResult[1])\n",
    "\n",
    "fpr, tpr, threshold = metrics.roc_curve(classifier_modelResult[0], classifier_modelResult[1])\n",
    "roc_auc = metrics.auc(fpr, tpr)\n",
    "\n",
    "# method I: plt\n",
    "import matplotlib.pyplot as plt\n",
    "plt.title('Songbird - Real data ROC ')\n",
    "plt.plot(fpr, tpr, 'b', label = 'AUC = %0.2f' % roc_auc)\n",
    "plt.legend(loc = 'lower right')\n",
    "plt.plot([0, 1], [0, 1],'r--')\n",
    "plt.xlim([0, 1])\n",
    "plt.ylim([0, 1])\n",
    "plt.ylabel('True Positive Rate')\n",
    "plt.xlabel('False Positive Rate')\n",
    "plt.show()\n"
   ]
  },
  {
   "cell_type": "code",
   "execution_count": 221,
   "metadata": {},
   "outputs": [
    {
     "name": "stdout",
     "output_type": "stream",
     "text": [
      "tn 44\n",
      "fp 132\n",
      "fn 5\n",
      "tp 79\n"
     ]
    }
   ],
   "source": [
    "validation\n",
    "# threshold=0.5\n",
    "# predmodel=(classifier_modelResult[1] > threshold).astype(np.int).reshape(-1)\n",
    "# (tn, fp, fn, tp)=confusion_matrix(classifier_modelResult[0],predmodel).ravel()\n",
    "# for i in zip((tn, fp, fn, tp),(\"tn\", \"fp\", \"fn\", \"tp\")):\n",
    "#     print(i[1],i[0])"
   ]
  },
  {
   "cell_type": "code",
   "execution_count": 193,
   "metadata": {},
   "outputs": [
    {
     "name": "stdout",
     "output_type": "stream",
     "text": [
      "(tn, fp, fn, tp)\n"
     ]
    },
    {
     "data": {
      "text/plain": [
       "array([195,  16,  19,  30])"
      ]
     },
     "execution_count": 193,
     "metadata": {},
     "output_type": "execute_result"
    }
   ],
   "source": [
    "# threshold=0.5\n",
    "# pred1=(b[1] < threshold).astype(np.int).reshape(-1)\n",
    "# pred2=(a[1] < threshold).astype(np.int).reshape(-1)\n",
    "# print(\"(tn, fp, fn, tp)\")\n",
    "# confusion_matrix(pred1,pred2).ravel()"
   ]
  },
  {
   "cell_type": "code",
   "execution_count": 152,
   "metadata": {},
   "outputs": [
    {
     "name": "stdout",
     "output_type": "stream",
     "text": [
      "(1, 5)\n",
      "(2, 3)\n"
     ]
    }
   ],
   "source": [
    "for b in zip([1,2],[5,3]):\n",
    "    print(b)"
   ]
  },
  {
   "cell_type": "code",
   "execution_count": 156,
   "metadata": {},
   "outputs": [
    {
     "name": "stdout",
     "output_type": "stream",
     "text": [
      "(1, array([0.99999723]), 1, array([0.99999994]))\n",
      "(0, array([0.67656621]), 0, array([0.4396293]))\n",
      "(0, array([0.74866972]), 0, array([0.00514271]))\n",
      "(1, array([0.99918287]), 1, array([0.33031274]))\n",
      "(0, array([0.3090745]), 0, array([0.96677882]))\n",
      "(0, array([0.98858907]), 0, array([0.07915522]))\n",
      "(0, array([0.99996987]), 0, array([0.99982941]))\n",
      "(0, array([0.65676598]), 0, array([0.54548656]))\n",
      "(0, array([0.96783979]), 0, array([0.88124542]))\n",
      "(1, array([0.99998492]), 1, array([0.99999735]))\n",
      "(0, array([0.92587703]), 0, array([0.99949117]))\n",
      "(0, array([0.99409376]), 0, array([0.99891762]))\n",
      "(0, array([0.99293023]), 0, array([0.76208114]))\n",
      "(1, array([0.99954635]), 1, array([0.98366473]))\n",
      "(0, array([0.74914731]), 0, array([0.50540662]))\n",
      "(0, array([0.93635366]), 0, array([0.92220286]))\n",
      "(0, array([0.99986629]), 0, array([0.99673434]))\n",
      "(0, array([0.2723398]), 0, array([0.79113202]))\n",
      "(1, array([0.82132873]), 1, array([0.62366169]))\n",
      "(1, array([0.97103691]), 1, array([0.83495587]))\n",
      "(0, array([0.71914368]), 0, array([0.9294678]))\n",
      "(0, array([0.82334296]), 0, array([0.50292144]))\n",
      "(0, array([0.98898748]), 0, array([0.99768399]))\n",
      "(1, array([0.78335284]), 1, array([0.03141273]))\n",
      "(0, array([0.38017896]), 0, array([0.99676512]))\n",
      "(0, array([0.96167519]), 0, array([0.9982101]))\n",
      "(0, array([0.65290504]), 0, array([0.89087065]))\n",
      "(0, array([0.00677259]), 0, array([0.02160693]))\n",
      "(0, array([2.11048267e-05]), 0, array([0.00185669]))\n",
      "(0, array([0.87638538]), 0, array([0.90004576]))\n",
      "(0, array([1.]), 0, array([0.99999675]))\n",
      "(0, array([0.99097409]), 0, array([0.61916972]))\n",
      "(0, array([0.99994739]), 0, array([0.97945106]))\n",
      "(0, array([0.99953733]), 0, array([0.99878378]))\n",
      "(1, array([1.]), 1, array([1.]))\n",
      "(0, array([0.85878478]), 0, array([0.97879452]))\n",
      "(0, array([0.99867284]), 0, array([0.99949697]))\n",
      "(0, array([0.99893169]), 0, array([0.99999992]))\n",
      "(1, array([0.93387528]), 1, array([0.1122461]))\n",
      "(1, array([1.]), 1, array([1.]))\n",
      "(0, array([0.08818541]), 0, array([0.67360619]))\n",
      "(0, array([0.277782]), 0, array([0.15989482]))\n",
      "(0, array([0.05246479]), 0, array([0.0061872]))\n",
      "(1, array([0.99999914]), 1, array([0.39008238]))\n",
      "(0, array([0.99995277]), 0, array([0.93098394]))\n",
      "(0, array([0.00021545]), 0, array([3.2054987e-06]))\n",
      "(0, array([0.87145336]), 0, array([0.9562759]))\n",
      "(1, array([0.99999927]), 1, array([1.]))\n",
      "(1, array([0.96279421]), 1, array([0.78189135]))\n",
      "(0, array([0.31332845]), 0, array([0.00316062]))\n",
      "(0, array([0.99999966]), 0, array([0.99999769]))\n",
      "(0, array([0.06790616]), 0, array([0.1307973]))\n",
      "(0, array([0.96411264]), 0, array([0.64577345]))\n",
      "(0, array([0.57608641]), 0, array([0.10957189]))\n",
      "(0, array([0.91808263]), 0, array([0.97953041]))\n",
      "(0, array([0.06514972]), 0, array([0.05041844]))\n",
      "(0, array([0.74413423]), 0, array([0.08983142]))\n",
      "(0, array([0.9926527]), 0, array([0.99977041]))\n",
      "(0, array([0.97327285]), 0, array([0.35553217]))\n",
      "(1, array([0.99988096]), 1, array([1.]))\n",
      "(0, array([4.07173928e-05]), 0, array([0.01224157]))\n",
      "(0, array([0.96671548]), 0, array([0.89362435]))\n",
      "(1, array([0.99918136]), 1, array([0.96830773]))\n",
      "(0, array([0.01490271]), 0, array([0.10849054]))\n",
      "(0, array([0.99999972]), 0, array([0.99978706]))\n",
      "(1, array([0.19841169]), 1, array([0.72732453]))\n",
      "(0, array([0.90935383]), 0, array([0.514088]))\n",
      "(1, array([0.99979791]), 1, array([0.99996432]))\n",
      "(0, array([0.00720932]), 0, array([0.00142138]))\n",
      "(0, array([0.95189169]), 0, array([0.81812598]))\n",
      "(0, array([0.97465429]), 0, array([0.97036099]))\n",
      "(0, array([0.58649975]), 0, array([0.49782331]))\n",
      "(1, array([1.]), 1, array([1.]))\n",
      "(0, array([0.26957631]), 0, array([0.99306039]))\n",
      "(1, array([1.]), 1, array([1.]))\n",
      "(1, array([0.99999999]), 1, array([0.99999998]))\n",
      "(0, array([0.17113706]), 0, array([0.78224145]))\n",
      "(0, array([0.00963872]), 0, array([0.02203134]))\n",
      "(1, array([0.99999999]), 1, array([1.]))\n",
      "(0, array([0.06392209]), 0, array([0.92361923]))\n",
      "(1, array([0.98265289]), 1, array([0.91209993]))\n",
      "(1, array([0.99999116]), 1, array([1.]))\n",
      "(1, array([0.9999987]), 1, array([0.99999935]))\n",
      "(0, array([0.99320341]), 0, array([0.99301597]))\n",
      "(1, array([1.]), 1, array([1.]))\n",
      "(0, array([0.88092934]), 0, array([0.9761257]))\n",
      "(1, array([0.98801847]), 1, array([0.88289543]))\n",
      "(1, array([0.85912788]), 1, array([0.89047313]))\n",
      "(0, array([0.99914531]), 0, array([0.98480613]))\n",
      "(1, array([0.99987951]), 1, array([0.9998643]))\n",
      "(0, array([0.89258063]), 0, array([0.11006836]))\n",
      "(1, array([0.99999837]), 1, array([0.99999984]))\n",
      "(0, array([0.99986901]), 0, array([0.71819225]))\n",
      "(0, array([0.99999729]), 0, array([0.99999952]))\n",
      "(1, array([0.99999981]), 1, array([0.99999997]))\n",
      "(0, array([0.95270146]), 0, array([0.9230997]))\n",
      "(0, array([0.99996278]), 0, array([0.9979406]))\n",
      "(0, array([0.32962196]), 0, array([0.45240532]))\n",
      "(0, array([0.96247496]), 0, array([0.96393898]))\n",
      "(0, array([0.99441555]), 0, array([0.99688031]))\n",
      "(1, array([0.9998259]), 1, array([0.99999281]))\n",
      "(0, array([0.5990119]), 0, array([0.44951563]))\n",
      "(1, array([0.99508185]), 1, array([0.99951544]))\n",
      "(0, array([0.99807251]), 0, array([0.99989248]))\n",
      "(0, array([0.44473121]), 0, array([0.94130071]))\n",
      "(0, array([0.99806099]), 0, array([0.9743564]))\n",
      "(0, array([0.02049219]), 0, array([0.07690292]))\n",
      "(1, array([1.]), 1, array([0.99999933]))\n",
      "(0, array([0.87009527]), 0, array([0.40307104]))\n",
      "(1, array([0.99961361]), 1, array([0.99881522]))\n",
      "(1, array([0.99999939]), 1, array([0.99998769]))\n",
      "(0, array([0.93748657]), 0, array([0.39142399]))\n",
      "(0, array([0.94136405]), 0, array([0.87778278]))\n",
      "(0, array([0.99419464]), 0, array([0.99999503]))\n",
      "(0, array([0.99956015]), 0, array([0.85652823]))\n",
      "(1, array([0.9999066]), 1, array([0.99999978]))\n",
      "(0, array([0.93475733]), 0, array([0.93227055]))\n",
      "(0, array([0.39611882]), 0, array([0.5106986]))\n",
      "(0, array([1.]), 0, array([0.99999988]))\n",
      "(0, array([1.]), 0, array([1.]))\n",
      "(0, array([0.94096844]), 0, array([0.88268792]))\n",
      "(0, array([0.62725264]), 0, array([0.99989924]))\n",
      "(1, array([0.99999999]), 1, array([1.]))\n",
      "(0, array([0.95209905]), 0, array([0.84244764]))\n",
      "(0, array([0.80119218]), 0, array([0.89569599]))\n",
      "(0, array([0.98412571]), 0, array([0.99939819]))\n",
      "(0, array([0.663775]), 0, array([0.97795794]))\n",
      "(1, array([0.99988607]), 1, array([0.99989633]))\n",
      "(0, array([0.86540482]), 0, array([0.74289501]))\n",
      "(1, array([1.]), 1, array([0.99996081]))\n",
      "(0, array([1.]), 0, array([0.99995728]))\n",
      "(1, array([0.99939381]), 1, array([0.9997758]))\n",
      "(0, array([0.98791682]), 0, array([0.98013411]))\n",
      "(1, array([0.99955337]), 1, array([0.99746017]))\n",
      "(0, array([0.47398629]), 0, array([0.44655049]))\n",
      "(0, array([0.86008283]), 0, array([0.99109372]))\n",
      "(1, array([0.99987023]), 1, array([0.99999999]))\n",
      "(1, array([0.99999944]), 1, array([0.99999998]))\n",
      "(0, array([0.99204724]), 0, array([0.97873351]))\n",
      "(1, array([0.99999931]), 1, array([0.99999389]))\n",
      "(0, array([0.97976277]), 0, array([0.99849709]))\n",
      "(0, array([0.54286564]), 0, array([0.26985977]))\n",
      "(0, array([0.01588561]), 0, array([0.00018956]))\n",
      "(0, array([0.9893256]), 0, array([0.98453979]))\n",
      "(0, array([0.9999492]), 0, array([0.99987986]))\n",
      "(0, array([0.03431108]), 0, array([0.12800603]))\n",
      "(0, array([0.99465667]), 0, array([0.99583754]))\n",
      "(1, array([1.]), 1, array([1.]))\n",
      "(0, array([0.00053157]), 0, array([0.99797007]))\n",
      "(0, array([0.76451058]), 0, array([0.80516242]))\n",
      "(0, array([0.98957075]), 0, array([0.72732404]))\n",
      "(0, array([0.94068427]), 0, array([0.92544044]))\n",
      "(1, array([1.]), 1, array([1.]))\n",
      "(0, array([0.99967521]), 0, array([0.94267198]))\n",
      "(1, array([0.32411966]), 1, array([0.99521363]))\n",
      "(1, array([0.99776229]), 1, array([0.99941506]))\n",
      "(1, array([0.7073759]), 1, array([0.99994896]))\n",
      "(1, array([0.99999354]), 1, array([0.99999997]))\n",
      "(0, array([0.01938189]), 0, array([0.00678835]))\n",
      "(1, array([1.]), 1, array([1.]))\n",
      "(0, array([0.51332532]), 0, array([0.92906943]))\n",
      "(0, array([0.00502595]), 0, array([0.03257258]))\n",
      "(0, array([0.99908963]), 0, array([0.9909607]))\n",
      "(1, array([1.]), 1, array([1.]))\n",
      "(0, array([0.05273329]), 0, array([0.4010956]))\n",
      "(0, array([0.91245216]), 0, array([0.99534979]))\n",
      "(0, array([0.9864438]), 0, array([0.9794664]))\n",
      "(0, array([0.9999961]), 0, array([0.99999977]))\n",
      "(0, array([0.47278573]), 0, array([0.38500335]))\n",
      "(0, array([0.58209587]), 0, array([0.99776912]))\n",
      "(0, array([0.998177]), 0, array([0.99954407]))\n",
      "(1, array([0.99995583]), 1, array([0.9999867]))\n",
      "(0, array([0.13067407]), 0, array([0.85731481]))\n",
      "(0, array([0.54281056]), 0, array([0.95221993]))\n",
      "(0, array([0.91555075]), 0, array([0.99986564]))\n",
      "(0, array([0.50883196]), 0, array([0.80916552]))\n",
      "(0, array([0.58473579]), 0, array([0.73487734]))\n",
      "(1, array([0.7042746]), 1, array([0.90875554]))\n",
      "(0, array([0.71935088]), 0, array([0.91783893]))\n",
      "(1, array([0.99999996]), 1, array([1.]))\n",
      "(0, array([0.86732951]), 0, array([0.96097867]))\n",
      "(1, array([0.99999916]), 1, array([0.99999986]))\n",
      "(0, array([0.99499412]), 0, array([0.98794948]))\n",
      "(1, array([0.99996546]), 1, array([0.99483984]))\n",
      "(0, array([0.39107357]), 0, array([0.90536055]))\n",
      "(1, array([0.9706027]), 1, array([0.98786139]))\n",
      "(0, array([4.32726659e-07]), 0, array([1.5039388e-06]))\n",
      "(1, array([1.]), 1, array([0.99999951]))\n",
      "(0, array([0.99997335]), 0, array([0.99979517]))\n",
      "(1, array([1.]), 1, array([1.]))\n",
      "(0, array([0.99999109]), 0, array([0.99778493]))\n",
      "(1, array([0.85591337]), 1, array([0.9132626]))\n",
      "(0, array([0.80306414]), 0, array([0.70965469]))\n",
      "(1, array([1.]), 1, array([1.]))\n",
      "(1, array([0.9908951]), 1, array([0.99999942]))\n",
      "(0, array([0.89695451]), 0, array([0.99922221]))\n",
      "(0, array([0.93463257]), 0, array([0.51996347]))\n",
      "(1, array([1.]), 1, array([1.]))\n",
      "(0, array([0.88497652]), 0, array([0.99736581]))\n",
      "(1, array([0.00167833]), 1, array([0.05258844]))\n",
      "(1, array([1.]), 1, array([0.99999965]))\n",
      "(0, array([0.87026488]), 0, array([0.08755715]))\n",
      "(0, array([0.49080286]), 0, array([0.16363408]))\n",
      "(0, array([0.99897333]), 0, array([0.86973022]))\n",
      "(1, array([0.99944966]), 1, array([0.95988142]))\n",
      "(1, array([1.]), 1, array([0.99999997]))\n",
      "(0, array([0.99442506]), 0, array([0.9917306]))\n",
      "(0, array([0.00255642]), 0, array([2.04721056e-06]))\n",
      "(1, array([0.99953766]), 1, array([0.99994764]))\n",
      "(1, array([0.96757136]), 1, array([0.99961146]))\n",
      "(0, array([0.99980736]), 0, array([0.99971716]))\n",
      "(0, array([0.65823406]), 0, array([0.98341671]))\n",
      "(1, array([0.99316519]), 1, array([0.99526517]))\n",
      "(1, array([0.97469171]), 1, array([0.99464305]))\n",
      "(1, array([0.71345319]), 1, array([0.99146707]))\n",
      "(0, array([0.729895]), 0, array([0.66996114]))\n",
      "(0, array([0.86325268]), 0, array([0.77770334]))\n",
      "(0, array([0.99809065]), 0, array([0.99861008]))\n",
      "(0, array([0.99999451]), 0, array([0.94222382]))\n",
      "(0, array([0.59369348]), 0, array([0.95627366]))\n",
      "(0, array([0.22451124]), 0, array([0.95801496]))\n",
      "(1, array([1.]), 1, array([1.]))\n",
      "(0, array([0.43937042]), 0, array([0.94720947]))\n",
      "(1, array([1.]), 1, array([1.]))\n",
      "(0, array([0.95654174]), 0, array([0.57577565]))\n",
      "(0, array([9.03192457e-11]), 0, array([5.76483401e-07]))\n",
      "(0, array([0.99314077]), 0, array([0.99227997]))\n",
      "(0, array([0.86747644]), 0, array([0.79354674]))\n",
      "(0, array([0.99512718]), 0, array([0.99346357]))\n",
      "(0, array([0.92237841]), 0, array([0.75583081]))\n",
      "(0, array([0.62388265]), 0, array([2.94125366e-06]))\n",
      "(1, array([0.95450106]), 1, array([0.76247184]))\n",
      "(0, array([0.8464587]), 0, array([0.52955898]))\n",
      "(1, array([0.74033155]), 1, array([0.94779692]))\n",
      "(0, array([0.00077107]), 0, array([0.00076937]))\n",
      "(0, array([0.0102126]), 0, array([0.40923019]))\n",
      "(1, array([0.99999994]), 1, array([1.]))\n",
      "(0, array([0.98488642]), 0, array([0.97017835]))\n",
      "(0, array([0.17068665]), 0, array([0.00379619]))\n",
      "(1, array([0.94729767]), 1, array([0.92012372]))\n",
      "(0, array([0.99462852]), 0, array([0.98976247]))\n",
      "(1, array([0.99999999]), 1, array([1.]))\n",
      "(0, array([0.99546851]), 0, array([0.9999359]))\n",
      "(1, array([0.98855449]), 1, array([0.99442778]))\n",
      "(0, array([0.98855215]), 0, array([0.98998853]))\n",
      "(0, array([0.94757512]), 0, array([0.98221388]))\n",
      "(1, array([0.99863365]), 1, array([0.99243014]))\n",
      "(0, array([0.00146239]), 0, array([0.00112856]))\n",
      "(0, array([0.99993764]), 0, array([0.99619396]))\n",
      "(0, array([0.92354007]), 0, array([0.58968813]))\n",
      "(0, array([0.91857505]), 0, array([0.8387677]))\n",
      "(0, array([0.9999922]), 0, array([0.9936183]))\n",
      "(0, array([0.98083169]), 0, array([0.95694594]))\n",
      "(0, array([0.91592663]), 0, array([0.87112169]))\n",
      "(0, array([0.77160825]), 0, array([0.98216262]))\n",
      "(0, array([0.99973025]), 0, array([0.99867652]))\n",
      "(0, array([0.89888192]), 0, array([0.99565333]))\n",
      "(1, array([1.]), 1, array([1.]))\n",
      "(1, array([0.95215248]), 1, array([0.98432314]))\n",
      "(0, array([0.74788073]), 0, array([0.33793196]))\n"
     ]
    }
   ],
   "source": [
    "for i in zip(*a,*b):\n",
    "    print(i)"
   ]
  },
  {
   "cell_type": "code",
   "execution_count": 93,
   "metadata": {},
   "outputs": [],
   "source": [
    "class color:\n",
    "   PURPLE = '\\033[95m'\n",
    "   CYAN = '\\033[96m'\n",
    "   DARKCYAN = '\\033[36m'\n",
    "   BLUE = '\\033[94m'\n",
    "   GREEN = '\\033[92m'\n",
    "   YELLOW = '\\033[93m'\n",
    "   RED = '\\033[91m'\n",
    "   BOLD = '\\033[1m'\n",
    "   UNDERLINE = '\\033[4m'\n",
    "   END = '\\033[0m'\n",
    "    \n",
    "short_names=['N. Neighbors',\n",
    " 'Linear SVM',\n",
    " 'RBF SVM',\n",
    " 'Gaussian P.',\n",
    " 'Decision T.',\n",
    " 'Random F.',\n",
    " 'NN',\n",
    " 'AdaBoost',\n",
    " 'Naive B.',\n",
    " 'QDA']\n",
    "\n",
    "def print_result(results):\n",
    "    headers= [\"Tag\",]+short_names\n",
    "    table=[]\n",
    "#     sample_count=len(next(iter(y_true_dict.values())))\n",
    "#     print(\"Total sample:\",sample_count,\"And threshold is\",prob_threshold)\n",
    "    for tag in (tag_set):\n",
    "#         positive_count=sum(y_true_dict[tag])\n",
    "        table.append([tag,*results[tag]])\n",
    "\n",
    "    print(tabulate(table, headers=headers))\n",
    "\n",
    "def reverse_results(results,classifierNames=[]):\n",
    "    results_clf2={}\n",
    "    for tag,scores_per_Tag2 in results.items():\n",
    "        scores_per_Tag=scores_per_Tag2[:]\n",
    "        maximum=max(scores_per_Tag)\n",
    "        scores_per_Tag=[color.BOLD + x + color.END if x==maximum else x for x in scores_per_Tag]\n",
    "\n",
    "        for i,name in enumerate(classifierNames):\n",
    "            score=scores_per_Tag[i]\n",
    "            results_clf2.setdefault(name,[])\n",
    "            results_clf2[name].append(score)      \n",
    "    return results_clf2\n",
    "        \n",
    "\n",
    "def print_result2(results,classifierNames=[],tag_set=[]):\n",
    "    results_clf=reverse_results(results,classifierNames)\n",
    "    headers= [\"Tag\",]+list(tag_set)\n",
    "    table=[]\n",
    "#     sample_count=len(next(iter(y_true_dict.values())))\n",
    "#     print(\"Total sample:\",sample_count,\"And threshold is\",prob_threshold)\n",
    "#     for tag in tag_set:\n",
    "#         aresult=[]\n",
    "    for i,name in enumerate(classifierNames):\n",
    "#         positive_count=sum(y_true_dict[tag])\n",
    "        table.append([classifierNames[i],*results_clf[name]])\n",
    "    \n",
    "    print(tabulate(table, headers=headers))\n"
   ]
  },
  {
   "cell_type": "code",
   "execution_count": 117,
   "metadata": {},
   "outputs": [
    {
     "data": {
      "text/plain": [
       "['Songbird',\n",
       " 'Water Bird',\n",
       " 'Insect',\n",
       " 'Running Water',\n",
       " 'Rain',\n",
       " 'Cable',\n",
       " 'Wind',\n",
       " 'Aircraft']"
      ]
     },
     "execution_count": 117,
     "metadata": {},
     "output_type": "execute_result"
    }
   ],
   "source": [
    "tag_set"
   ]
  },
  {
   "cell_type": "code",
   "execution_count": null,
   "metadata": {},
   "outputs": [],
   "source": []
  },
  {
   "cell_type": "code",
   "execution_count": 414,
   "metadata": {},
   "outputs": [],
   "source": [
    "def get_results(X_input,y_true_dict,classifiers,names,tag_set,logs=False,many2one=False):\n",
    "    results={}\n",
    "    models={}\n",
    "\n",
    "    for tag in (tag_set):\n",
    "        X_train, X_test, y_train, y_test = train_test_split(\n",
    "            X_input, y_true_dict[tag], test_size=0.2, random_state=42)\n",
    "        X_train, X_val, y_train, y_val = train_test_split(\n",
    "            X_train, y_train, test_size=0.25, random_state=42)\n",
    "\n",
    "#         X_val,X_test=X_test,X_val\n",
    "#         y_val,y_test=y_test,y_val\n",
    "        X_val,y_val=X_input, y_true_dict[tag]\n",
    "        if many2one:\n",
    "        # I modift y_train to be bigger to match X_train \n",
    "        # and I modify y_val_pred to be smaller to match y_val\n",
    "            [X_train,X_test,X_val]=[np.reshape(x_array,(-1,128)) for x_array in [X_train,X_test,X_val]]\n",
    "\n",
    "            for y_array in [y_train]:\n",
    "                new_array=np.zeros((len(y_array)*10))\n",
    "                for i,v in enumerate(y_array):\n",
    "                    new_array[i*10:(i+1)*10]=v\n",
    "                y_array[:]=new_array[:]\n",
    "\n",
    "        for name, clf in zip(names, classifiers):\n",
    "            try:\n",
    "#                 clf.fit(X_train, y_train)\n",
    "                models[name+\"_\"+tag]=(copy.deepcopy(clf))\n",
    "                y_val_pred=clf.predict_proba(X_val)\n",
    "\n",
    "                if many2one:\n",
    "                    excerpt_count=int(y_val_pred[:,1:].shape[0]/10)\n",
    "#                     if logs : print(\"excerpt_count\",excerpt_count)\n",
    "                    y_val_pred_new= np.empty((excerpt_count,2))\n",
    "                    for i in range(0,y_val_pred.shape[0],10):\n",
    "                        theslice=y_val_pred[i:i+10,1:]\n",
    "                        value=np.max(theslice)\n",
    "                        y_val_pred_new[int(i/10),1:]=value\n",
    "                    y_val_pred=y_val_pred_new\n",
    "                return (y_val,y_val_pred[:,1:])\n",
    "                score=roc_auc_score(y_val,y_val_pred[:,1:])\n",
    "\n",
    "                score=\"{:.2}\".format(score)\n",
    "\n",
    "                results.setdefault(tag,[])\n",
    "\n",
    "                results[tag].append(score)\n",
    "\n",
    "                if logs : print(tag,name,score) \n",
    "            except Exception as e: \n",
    "                if logs : print(e) \n",
    "                score=\"-1\"\n",
    "\n",
    "                results.setdefault(tag,[])\n",
    "\n",
    "                results[tag].append(score)\n",
    "\n",
    "                if logs : print(tag,name,score) \n",
    "    return results,models"
   ]
  },
  {
   "cell_type": "code",
   "execution_count": 267,
   "metadata": {},
   "outputs": [],
   "source": [
    "def getResults2(X_input,y_true_dict,classifiers,names,tag_set,logs=False,many2one=False):\n",
    "    results={}\n",
    "    models={}\n",
    "    if many2one:\n",
    "    # I modift y_train to be bigger to match X_train \n",
    "    # and I modify y_val_pred to be smaller to match y_val\n",
    "        X_input=X_input.reshape(-1,128)\n",
    "#         [X_train,X_test,X_val]=[np.reshape(x_array,(-1,128)) for x_array in [X_train,X_test,X_val]]\n",
    "\n",
    "#         for y_array in [y_train]:\n",
    "#             new_array=np.zeros((len(y_array)*10))\n",
    "#             for i,v in enumerate(y_array):\n",
    "#                 new_array[i*10:(i+1)*10]=v\n",
    "#             y_array[:]=new_array[:]\n",
    "\n",
    "    for name, clf in zip(names, classifiers):\n",
    "        try:\n",
    "#                 clf.fit(X_train, y_train)\n",
    "            models[name+\"_\"+tag]=(copy.deepcopy(clf))\n",
    "            y_val_pred=clf.predict_proba(X_input)\n",
    "\n",
    "            if many2one:\n",
    "                excerpt_count=int(y_val_pred[:,1:].shape[0]/10)\n",
    "#                     if logs : print(\"excerpt_count\",excerpt_count)\n",
    "                y_val_pred_new= np.empty((excerpt_count,2))\n",
    "                for i in range(0,y_val_pred.shape[0],10):\n",
    "                    theslice=y_val_pred[i:i+10,1:]\n",
    "                    value=np.max(theslice)\n",
    "                    y_val_pred_new[int(i/10),1:]=value\n",
    "                y_val_pred=y_val_pred_new\n",
    "            return (y_val_pred[:,1:])\n",
    "#             score=roc_auc_score(y_val,y_val_pred[:,1:])\n",
    "\n",
    "#             score=\"{:.2}\".format(score)\n",
    "\n",
    "#             results.setdefault(tag,[])\n",
    "\n",
    "#             results[tag].append(score)\n",
    "\n",
    "#             if logs : print(tag,name,score) \n",
    "        except Exception as e: \n",
    "            if logs : print(e) \n",
    "            score=\"-1\"\n",
    "\n",
    "#             results.setdefault(tag,[])\n",
    "\n",
    "#             results[tag].append(score)\n",
    "\n",
    "#             if logs : print(tag,name,score) \n",
    "#     return results,models"
   ]
  },
  {
   "cell_type": "code",
   "execution_count": null,
   "metadata": {},
   "outputs": [],
   "source": []
  }
 ],
 "metadata": {
  "kernelspec": {
   "display_name": "speechEnv",
   "language": "python",
   "name": "speechenv"
  },
  "language_info": {
   "codemirror_mode": {
    "name": "ipython",
    "version": 3
   },
   "file_extension": ".py",
   "mimetype": "text/x-python",
   "name": "python",
   "nbconvert_exporter": "python",
   "pygments_lexer": "ipython3",
   "version": "3.7.2"
  }
 },
 "nbformat": 4,
 "nbformat_minor": 4
}
