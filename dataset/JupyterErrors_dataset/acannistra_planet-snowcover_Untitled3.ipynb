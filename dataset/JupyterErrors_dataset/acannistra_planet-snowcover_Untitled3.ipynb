{
 "cells": [
  {
   "cell_type": "code",
   "execution_count": 1,
   "metadata": {},
   "outputs": [],
   "source": [
    "import os\n",
    "from os import environ\n",
    "import sys\n",
    "import io\n",
    "from os.path import expanduser\n",
    "sys.path.append(\"../model/robosat_pink/\")\n",
    "\n",
    "\n",
    "from importlib import import_module\n",
    "import pkgutil\n",
    "\n",
    "import pandas as pd\n",
    "\n",
    "import boto3\n",
    "import s3fs\n",
    "\n",
    "import ipywidgets as widgets\n",
    "\n",
    "from re import match \n",
    "\n",
    "import sklearn\n",
    "from tqdm import tqdm, tqdm_notebook\n",
    "\n",
    "from numpy.random import randint\n",
    "import numpy as np\n",
    "\n",
    "import robosat_pink.losses\n",
    "import robosat_pink.models\n",
    "from robosat_pink.datasets import MultiSlippyMapTilesConcatenation\n",
    "from robosat_pink.tools.train import get_dataset_loaders\n",
    "from robosat_pink.config import load_config\n",
    "from robosat_pink.logs import Logs\n",
    "from robosat_pink.metrics import Metrics\n",
    "\n",
    "import skimage\n",
    "\n",
    "import torch\n",
    "import torch.backends.cudnn\n",
    "from torch.optim import Adam\n",
    "from torch.utils.data import DataLoader\n",
    "\n",
    "import matplotlib.pyplot as plt\n",
    "%matplotlib inline"
   ]
  },
  {
   "cell_type": "markdown",
   "metadata": {},
   "source": [
    "# Large-Scale Performance Stats\n",
    "\n",
    "## Pick Trained Model to Test"
   ]
  },
  {
   "cell_type": "code",
   "execution_count": 2,
   "metadata": {},
   "outputs": [
    {
     "data": {
      "application/vnd.jupyter.widget-view+json": {
       "model_id": "55750479cd02444da153d91aaf706903",
       "version_major": 2,
       "version_minor": 0
      },
      "text/plain": [
       "Select(layout=Layout(width='500px'), options=('planet-snowcover-models/checkpoint-16-may-all.pth', 'planet-sno…"
      ]
     },
     "metadata": {},
     "output_type": "display_data"
    }
   ],
   "source": [
    "fs = s3fs.S3FileSystem(session = boto3.Session(profile_name='esip'))\n",
    "models = fs.walk(\"planet-snowcover-models\")\n",
    "ans = widgets.Select(options=models, layout = {'width': \"500px\"}, rows = 20)\n",
    "ans"
   ]
  },
  {
   "cell_type": "code",
   "execution_count": 3,
   "metadata": {},
   "outputs": [
    {
     "name": "stdout",
     "output_type": "stream",
     "text": [
      "s3://planet-snowcover-models/checkpoint-16-may-all.pth\n"
     ]
    }
   ],
   "source": [
    "trainedModel = \"s3://\" + ans.value\n",
    "print(trainedModel)"
   ]
  },
  {
   "cell_type": "markdown",
   "metadata": {},
   "source": [
    "Load trained model."
   ]
  },
  {
   "cell_type": "code",
   "execution_count": 4,
   "metadata": {},
   "outputs": [],
   "source": [
    "# trainedModel = \"s3://planet-snowcover-models/checkpoint-190319-20:47:57\"\n",
    "# trainedModel = \"s3://planet-snowcover-models/checkpoint-16-may-all.pth\"\n",
    "\n",
    "S3_CHECKPOINT = False\n",
    "if trainedModel.startswith(\"s3://\"):\n",
    "    S3_CHECKPOINT = True\n",
    "    # load from s3 \n",
    "    trainedModel = trainedModel[5:]\n",
    "    sess = boto3.Session(profile_name='esip')\n",
    "    fs = s3fs.S3FileSystem(session=sess)\n",
    "    s3ckpt = s3fs.S3File(fs, trainedModel, 'rb')\n",
    "    \n"
   ]
  },
  {
   "cell_type": "markdown",
   "metadata": {},
   "source": [
    "## Pick Dataset Configuration"
   ]
  },
  {
   "cell_type": "code",
   "execution_count": 5,
   "metadata": {},
   "outputs": [],
   "source": [
    "modelConfig = '../s3-train.toml'\n"
   ]
  },
  {
   "cell_type": "markdown",
   "metadata": {},
   "source": [
    "## Build Network"
   ]
  },
  {
   "cell_type": "code",
   "execution_count": 6,
   "metadata": {},
   "outputs": [],
   "source": [
    "config = load_config(modelConfig)\n",
    "\n",
    "if torch.cuda.is_available():\n",
    "    device = torch.device(\"cuda\")\n",
    "    torch.backends.cudnn.benchmark = True\n",
    "else:\n",
    "    device = torch.device(\"cpu\")\n",
    "\n",
    "\n",
    "num_classes = len(config[\"classes\"])\n",
    "num_channels = 0\n",
    "for channel in config[\"channels\"]:\n",
    "    num_channels += len(channel[\"bands\"])\n",
    "pretrained = config[\"model\"][\"pretrained\"]\n",
    "encoder = config[\"model\"][\"encoder\"]\n",
    "\n",
    "models = [name for _, name, _ in pkgutil.iter_modules([os.path.dirname(robosat_pink.models.__file__)])]\n",
    "if config[\"model\"][\"name\"] not in [model for model in models]:\n",
    "    sys.exit(\"Unknown model, thoses available are {}\".format([model for model in models]))\n",
    "\n",
    "model_module = import_module(\"robosat_pink.models.{}\".format(config[\"model\"][\"name\"]))\n",
    "net = getattr(model_module, \"{}\".format(config[\"model\"][\"name\"].title()))(\n",
    "    num_classes=num_classes, num_channels=num_channels, encoder=encoder, pretrained=pretrained\n",
    ").to(device)\n",
    "\n",
    "net = torch.nn.DataParallel(net)\n",
    "optimizer = Adam(net.parameters(), lr=config[\"model\"][\"lr\"], weight_decay=config[\"model\"][\"decay\"])\n"
   ]
  },
  {
   "cell_type": "markdown",
   "metadata": {},
   "source": [
    "## Load Images"
   ]
  },
  {
   "cell_type": "code",
   "execution_count": 7,
   "metadata": {},
   "outputs": [
    {
     "name": "stdout",
     "output_type": "stream",
     "text": [
      "Searching for imagery...(planet-snowcover-imagery/(.*)_AnalyticMS_SR_clip_tiled)\n",
      "candidates:\n",
      "['planet-snowcover-imagery/20180423_180737_1009_3B_AnalyticMS_DN_udm_clip.tif', 'planet-snowcover-imagery/20180601_181447_0f32_3B_AnalyticMS_DN_udm_clip.tif', 'planet-snowcover-imagery/20180601_181447_0f32_3B_AnalyticMS_SR_clip.tif', 'planet-snowcover-imagery/20180601_181447_0f32_3B_AnalyticMS_metadata_clip.xml', 'planet-snowcover-imagery/20180601_181447_0f32_metadata.json', 'planet-snowcover-imagery/20180601_181448_0f32_3B_AnalyticMS_DN_udm_clip.tif', 'planet-snowcover-imagery/20180601_181448_0f32_3B_AnalyticMS_SR_clip.tif', 'planet-snowcover-imagery/20180601_181448_0f32_3B_AnalyticMS_metadata_clip.xml', 'planet-snowcover-imagery/20180601_181448_0f32_metadata.json', 'planet-snowcover-imagery/20180601_181449_0f32_3B_AnalyticMS_DN_udm_clip.tif', 'planet-snowcover-imagery/20180601_181449_0f32_3B_AnalyticMS_SR_clip_scaled.tif', 'planet-snowcover-imagery/20180601_181449_0f32_3B_AnalyticMS_metadata_clip.xml', 'planet-snowcover-imagery/20180601_181449_0f32_metadata.json', 'planet-snowcover-imagery/20180601_181450_0f32_3B_AnalyticMS_DN_udm_clip.tif', 'planet-snowcover-imagery/20180601_181450_0f32_3B_AnalyticMS_SR_clip.tif', 'planet-snowcover-imagery/20180601_181450_0f32_3B_AnalyticMS_metadata_clip.xml', 'planet-snowcover-imagery/20180601_181450_0f32_metadata.json', 'planet-snowcover-imagery/20180601_181451_0f32_3B_AnalyticMS_DN_udm_clip.tif', 'planet-snowcover-imagery/20180601_181451_0f32_3B_AnalyticMS_SR_clip.tif', 'planet-snowcover-imagery/20180601_181451_0f32_3B_AnalyticMS_metadata_clip.xml', 'planet-snowcover-imagery/20180601_181451_0f32_metadata.json', 'planet-snowcover-imagery/complete-tiles.csv', 'planet-snowcover-imagery/manifest.json', 'planet-snowcover-imagery/20170224_171306_0e26_3B_AnalyticMS_SR_clip', 'planet-snowcover-imagery/20170224_171307_0e26_3B_AnalyticMS_SR_clip', 'planet-snowcover-imagery/20180330_172048_0f3f_3B_AnalyticMS_SR_clip', 'planet-snowcover-imagery/20180330_172049_0f3f_3B_AnalyticMS_SR_clip', 'planet-snowcover-imagery/20180330_172052_0f3f_3B_AnalyticMS_SR_clip', 'planet-snowcover-imagery/20180330_172053_0f3f_3B_AnalyticMS_SR_clip', 'planet-snowcover-imagery/20180330_172054_0f3f_3B_AnalyticMS_SR_clip', 'planet-snowcover-imagery/20180422_180809_1033_3B_AnalyticMS_SR_clip_tiled', 'planet-snowcover-imagery/20180422_180811_1033_3B_AnalyticMS_SR_clip_tiled', 'planet-snowcover-imagery/20180422_180812_1033_3B_AnalyticMS_SR_clip_tiled', 'planet-snowcover-imagery/20180422_182001_101c_3B_AnalyticMS_SR_clip_tiled', 'planet-snowcover-imagery/20180422_182002_101c_3B_AnalyticMS_SR_clip_tiled', 'planet-snowcover-imagery/20180423_180735_1009_3B_AnalyticMS_SR_clip_tiled', 'planet-snowcover-imagery/20180423_180736_1009_3B_AnalyticMS_SR_clip_tiled', 'planet-snowcover-imagery/20180423_180737_1009_3B_AnalyticMS_SR_clip_tiled', 'planet-snowcover-imagery/20180423_180738_1009_3B_AnalyticMS_SR_clip_tiled', 'planet-snowcover-imagery/20180423_181001_100c_3B_AnalyticMS_SR_clip_tiled', 'planet-snowcover-imagery/20180423_181002_100c_3B_AnalyticMS_SR_clip_tiled', 'planet-snowcover-imagery/20180423_181004_100c_3B_AnalyticMS_SR_clip_tiled', 'planet-snowcover-imagery/20180601_181447_0f32_3B_AnalyticMS_SR_clip_tiled', 'planet-snowcover-imagery/20180601_181448_0f32_3B_AnalyticMS_SR_clip_tiled', 'planet-snowcover-imagery/20180601_181450_0f32_3B_AnalyticMS_SR_clip_tiled', 'planet-snowcover-imagery/20180601_181451_0f32_3B_AnalyticMS_SR_clip_tiled', 'planet-snowcover-imagery/PSScene4Band_20170129_180054_0e0f_analytic_sr', 'planet-snowcover-imagery/planet-orders']\n",
      "result:\n",
      "['planet-snowcover-imagery/20180422_180809_1033_3B_AnalyticMS_SR_clip_tiled', 'planet-snowcover-imagery/20180422_180811_1033_3B_AnalyticMS_SR_clip_tiled', 'planet-snowcover-imagery/20180422_180812_1033_3B_AnalyticMS_SR_clip_tiled', 'planet-snowcover-imagery/20180422_182001_101c_3B_AnalyticMS_SR_clip_tiled', 'planet-snowcover-imagery/20180422_182002_101c_3B_AnalyticMS_SR_clip_tiled', 'planet-snowcover-imagery/20180423_180735_1009_3B_AnalyticMS_SR_clip_tiled', 'planet-snowcover-imagery/20180423_180736_1009_3B_AnalyticMS_SR_clip_tiled', 'planet-snowcover-imagery/20180423_180737_1009_3B_AnalyticMS_SR_clip_tiled', 'planet-snowcover-imagery/20180423_180738_1009_3B_AnalyticMS_SR_clip_tiled', 'planet-snowcover-imagery/20180423_181001_100c_3B_AnalyticMS_SR_clip_tiled', 'planet-snowcover-imagery/20180423_181002_100c_3B_AnalyticMS_SR_clip_tiled', 'planet-snowcover-imagery/20180423_181004_100c_3B_AnalyticMS_SR_clip_tiled', 'planet-snowcover-imagery/20180601_181447_0f32_3B_AnalyticMS_SR_clip_tiled', 'planet-snowcover-imagery/20180601_181448_0f32_3B_AnalyticMS_SR_clip_tiled', 'planet-snowcover-imagery/20180601_181450_0f32_3B_AnalyticMS_SR_clip_tiled', 'planet-snowcover-imagery/20180601_181451_0f32_3B_AnalyticMS_SR_clip_tiled']\n",
      "Searching for mask...(planet-snowcover-snow/ASO_3M_SD_USCASJ_20180601_tiles_02$)\n",
      "candidates:\n",
      "['planet-snowcover-snow/ASO_3M_QF_USCOGM_20170225.geojson', 'planet-snowcover-snow/ASO_3M_QF_USCOGM_20170225.tif', 'planet-snowcover-snow/ASO_3M_QF_USCOGM_20170225_binary.tif', 'planet-snowcover-snow/ASO_3M_SD_USCAJW_20180423.tif', 'planet-snowcover-snow/ASO_3M_SD_USCATE_20180423_binary.tif', 'planet-snowcover-snow/ASO_3M_SD_USCOCB_20160404.geojson', 'planet-snowcover-snow/ASO_3M_SD_USCOCB_20160404.tif', 'planet-snowcover-snow/ASO_3M_SD_USCOCB_20160404_binary.tif', 'planet-snowcover-snow/ASO_3M_SD_USCOCB_20180330.geojson', 'planet-snowcover-snow/ASO_3M_SD_USCOCB_20180330.tif', 'planet-snowcover-snow/ASO_3M_SD_USCOCB_20180330_binary.tif', 'planet-snowcover-snow/ASO_3M_SD_USCOGM_20170225.geojson', 'planet-snowcover-snow/ASO_3M_SD_USCOGM_20170225.tif', 'planet-snowcover-snow/ASO_3M_SD_USCOGM_20170225_binary.tif', 'planet-snowcover-snow/ASO_3M_SD_USWAOL_20160208.tif', 'planet-snowcover-snow/ASO_3M_SD_USWAOL_20160208_binary.tif', 'planet-snowcover-snow/ASO_3M_SD_USWAOL_20160208_half1.geojson', 'planet-snowcover-snow/ASO_3M_SD_USWAOL_20160208_half1.tif', 'planet-snowcover-snow/ASO_3M_SD_USWAOL_20160208_half1_binary.tif', 'planet-snowcover-snow/ASO_3M_SD_USWAOL_20160208_half2.geojson', 'planet-snowcover-snow/ASO_3M_SD_USWAOL_20160208_half2.tif', 'planet-snowcover-snow/ASO_3M_SD_USWAOL_20160208_half2_binary.tif', 'planet-snowcover-snow/ASO_3M_SD_USWAOL_20160329.tif', 'planet-snowcover-snow/ASO_3M_SD_USWAOL_20160329_binary.tif', 'planet-snowcover-snow/ASO_3M_SD_USCAJW_20180423', 'planet-snowcover-snow/ASO_3M_SD_USCASJ_20180601', 'planet-snowcover-snow/ASO_3M_SD_USCASJ_20180601_tiles', 'planet-snowcover-snow/ASO_3M_SD_USCASJ_20180601_tiles_02', 'planet-snowcover-snow/ASO_3M_SD_USCATE_20180423.tif?_ga=2.77458517.1128125195.1558820397-857243106_binary', 'planet-snowcover-snow/ASO_3M_SD_USCOCB_20160404_binary', 'planet-snowcover-snow/ASO_3M_SD_USCOCB_20180330_binary', 'planet-snowcover-snow/ASO_3M_SD_USCOGM_20170225_binary', 'planet-snowcover-snow/ASO_3M_SD_USWAOL_20160208_half1_binary', 'planet-snowcover-snow/ASO_3M_SD_USWAOL_20160208_half2_binary']\n",
      "result:\n",
      "['planet-snowcover-snow/ASO_3M_SD_USCASJ_20180601_tiles_02']\n",
      "Merging tilesets...\n"
     ]
    }
   ],
   "source": [
    "fs = s3fs.S3FileSystem(session = boto3.Session(profile_name = config['dataset']['aws_profile']))\n",
    "\n",
    "imagery_searchpath = config['dataset']['image_bucket']  + '/' +  config['dataset']['imagery_directory_regex']\n",
    "print(\"Searching for imagery...({})\".format(imagery_searchpath))\n",
    "imagery_candidates = fs.ls(config['dataset']['image_bucket'])\n",
    "print(\"candidates:\")\n",
    "print(imagery_candidates)\n",
    "imagery_locs = [c for c in imagery_candidates if match(imagery_searchpath, c)]\n",
    "print(\"result:\")\n",
    "print(imagery_locs)\n",
    "\n",
    "mask_searchpath = config['dataset']['mask_bucket'] + '/' +  config['dataset']['mask_directory_regex']\n",
    "print(\"Searching for mask...({})\".format(mask_searchpath))\n",
    "mask_candidates = fs.ls(config['dataset']['mask_bucket'])\n",
    "print(\"candidates:\")\n",
    "print(mask_candidates)\n",
    "mask_locs = [c for c in mask_candidates if match(mask_searchpath, c)]\n",
    "print(\"result:\")\n",
    "print(mask_locs)\n",
    "\n",
    "assert(len(mask_locs) > 0 and len(imagery_locs) > 0)\n",
    "\n",
    "print(\"Merging tilesets...\")\n",
    "\n",
    "allTiles = MultiSlippyMapTilesConcatenation(imagery_locs, mask_locs, aws_profile = config['dataset']['aws_profile'])\n"
   ]
  },
  {
   "cell_type": "markdown",
   "metadata": {},
   "source": [
    "Make DataLoader:\n"
   ]
  },
  {
   "cell_type": "code",
   "execution_count": 8,
   "metadata": {},
   "outputs": [],
   "source": [
    "loader = DataLoader(allTiles,\n",
    "                    batch_size = 7 , \n",
    "                    shuffle = True,\n",
    "                    num_workers = 1)"
   ]
  },
  {
   "cell_type": "markdown",
   "metadata": {},
   "source": [
    "## Evaluate Batches"
   ]
  },
  {
   "cell_type": "code",
   "execution_count": 9,
   "metadata": {},
   "outputs": [
    {
     "name": "stderr",
     "output_type": "stream",
     "text": [
      "Predict:   0%|          | 0/63 [00:00<?, ?batch/s]"
     ]
    },
    {
     "name": "stdout",
     "output_type": "stream",
     "text": [
      "1.0\n",
      "1.0\n",
      "1.0\n",
      "1.0\n"
     ]
    },
    {
     "name": "stderr",
     "output_type": "stream",
     "text": [
      "/home/ubuntu/anaconda3/envs/pytorch_p36/lib/python3.6/site-packages/sklearn/metrics/classification.py:1145: UndefinedMetricWarning: Recall and F-score are ill-defined and being set to 0.0 due to no true samples.\n",
      "  'recall', 'true', average, warn_for)\n",
      "Predict:   2%|1         | 1/63 [00:40<41:27, 40.12s/batch]"
     ]
    },
    {
     "name": "stdout",
     "output_type": "stream",
     "text": [
      "1.0\n",
      "1.0\n",
      "1.0\n",
      "1.0\n",
      "1.0\n",
      "1.0\n",
      "1.0\n",
      "1.0\n"
     ]
    },
    {
     "name": "stderr",
     "output_type": "stream",
     "text": [
      "Predict:   3%|3         | 2/63 [01:17<39:31, 38.88s/batch]"
     ]
    },
    {
     "name": "stdout",
     "output_type": "stream",
     "text": [
      "1.0\n",
      "1.0\n",
      "1.0\n",
      "1.0\n",
      "1.0\n",
      "1.0\n"
     ]
    },
    {
     "name": "stderr",
     "output_type": "stream",
     "text": [
      "Predict:   5%|4         | 3/63 [01:55<38:30, 38.51s/batch]"
     ]
    },
    {
     "name": "stdout",
     "output_type": "stream",
     "text": [
      "1.0\n",
      "1.0\n",
      "1.0\n",
      "1.0\n",
      "1.0\n",
      "1.0\n",
      "1.0\n",
      "1.0\n"
     ]
    },
    {
     "name": "stderr",
     "output_type": "stream",
     "text": [
      "Predict:   6%|6         | 4/63 [02:33<37:47, 38.43s/batch]"
     ]
    },
    {
     "name": "stdout",
     "output_type": "stream",
     "text": [
      "1.0\n",
      "1.0\n",
      "1.0\n",
      "1.0\n",
      "1.0\n",
      "1.0\n",
      "1.0\n"
     ]
    },
    {
     "name": "stderr",
     "output_type": "stream",
     "text": [
      "Predict:   8%|7         | 5/63 [03:11<36:57, 38.24s/batch]"
     ]
    },
    {
     "name": "stdout",
     "output_type": "stream",
     "text": [
      "1.0\n",
      "1.0\n",
      "1.0\n",
      "1.0\n",
      "1.0\n",
      "1.0\n",
      "1.0\n"
     ]
    },
    {
     "name": "stderr",
     "output_type": "stream",
     "text": [
      "Predict:  10%|9         | 6/63 [03:49<36:18, 38.22s/batch]"
     ]
    },
    {
     "name": "stdout",
     "output_type": "stream",
     "text": [
      "1.0\n",
      "1.0\n",
      "1.0\n",
      "1.0\n",
      "1.0\n",
      "1.0\n",
      "1.0\n"
     ]
    },
    {
     "name": "stderr",
     "output_type": "stream",
     "text": [
      "Predict:  11%|#1        | 7/63 [04:26<35:33, 38.11s/batch]"
     ]
    },
    {
     "name": "stdout",
     "output_type": "stream",
     "text": [
      "1.0\n",
      "1.0\n",
      "1.0\n",
      "1.0\n",
      "1.0\n",
      "1.0\n",
      "1.0\n"
     ]
    },
    {
     "name": "stderr",
     "output_type": "stream",
     "text": [
      "Predict:  13%|#2        | 8/63 [05:04<34:52, 38.05s/batch]"
     ]
    },
    {
     "name": "stdout",
     "output_type": "stream",
     "text": [
      "1.0\n",
      "1.0\n",
      "1.0\n",
      "1.0\n",
      "1.0\n",
      "1.0\n",
      "1.0\n"
     ]
    },
    {
     "name": "stderr",
     "output_type": "stream",
     "text": [
      "Predict:  14%|#4        | 9/63 [05:43<34:18, 38.13s/batch]"
     ]
    },
    {
     "name": "stdout",
     "output_type": "stream",
     "text": [
      "1.0\n",
      "1.0\n",
      "1.0\n",
      "1.0\n",
      "1.0\n",
      "1.0\n",
      "1.0\n"
     ]
    },
    {
     "name": "stderr",
     "output_type": "stream",
     "text": [
      "Predict:  16%|#5        | 10/63 [06:20<33:36, 38.05s/batch]"
     ]
    },
    {
     "name": "stdout",
     "output_type": "stream",
     "text": [
      "1.0\n",
      "1.0\n",
      "1.0\n",
      "1.0\n",
      "1.0\n",
      "1.0\n",
      "1.0\n"
     ]
    },
    {
     "name": "stderr",
     "output_type": "stream",
     "text": [
      "Predict:  17%|#7        | 11/63 [06:57<32:55, 37.99s/batch]"
     ]
    },
    {
     "name": "stdout",
     "output_type": "stream",
     "text": [
      "1.0\n",
      "1.0\n",
      "1.0\n",
      "1.0\n",
      "1.0\n",
      "1.0\n"
     ]
    },
    {
     "name": "stderr",
     "output_type": "stream",
     "text": [
      "Predict:  19%|#9        | 12/63 [07:35<32:15, 37.95s/batch]"
     ]
    },
    {
     "name": "stdout",
     "output_type": "stream",
     "text": [
      "1.0\n",
      "1.0\n",
      "1.0\n",
      "1.0\n",
      "1.0\n",
      "1.0\n",
      "1.0\n",
      "1.0\n"
     ]
    },
    {
     "name": "stderr",
     "output_type": "stream",
     "text": [
      "Predict:  21%|##        | 13/63 [08:12<31:35, 37.92s/batch]"
     ]
    },
    {
     "name": "stdout",
     "output_type": "stream",
     "text": [
      "1.0\n",
      "1.0\n",
      "1.0\n",
      "1.0\n",
      "1.0\n",
      "1.0\n",
      "1.0"
     ]
    },
    {
     "name": "stderr",
     "output_type": "stream",
     "text": [
      "Predict:  22%|##2       | 14/63 [08:50<30:55, 37.88s/batch]"
     ]
    },
    {
     "name": "stdout",
     "output_type": "stream",
     "text": [
      "\n",
      "1.0\n",
      "1.0\n",
      "1.0\n",
      "1.0\n",
      "1.0\n",
      "1.0\n",
      "1.0\n"
     ]
    },
    {
     "name": "stderr",
     "output_type": "stream",
     "text": [
      "Predict:  24%|##3       | 15/63 [09:27<30:16, 37.85s/batch]"
     ]
    },
    {
     "name": "stdout",
     "output_type": "stream",
     "text": [
      "1.0\n",
      "1.0\n",
      "1.0\n",
      "1.0\n",
      "1.0\n",
      "1.0\n"
     ]
    },
    {
     "name": "stderr",
     "output_type": "stream",
     "text": [
      "Predict:  25%|##5       | 16/63 [10:05<29:37, 37.82s/batch]"
     ]
    },
    {
     "name": "stdout",
     "output_type": "stream",
     "text": [
      "1.0\n",
      "1.0\n",
      "1.0\n",
      "1.0\n",
      "1.0\n",
      "1.0\n",
      "1.0\n",
      "1.0\n"
     ]
    },
    {
     "name": "stderr",
     "output_type": "stream",
     "text": [
      "Predict:  27%|##6       | 17/63 [10:42<28:57, 37.78s/batch]"
     ]
    },
    {
     "name": "stdout",
     "output_type": "stream",
     "text": [
      "1.0\n",
      "1.0\n",
      "1.0\n",
      "1.0\n",
      "1.0\n",
      "1.0\n",
      "1.0"
     ]
    },
    {
     "name": "stderr",
     "output_type": "stream",
     "text": [
      "Predict:  29%|##8       | 18/63 [11:19<28:19, 37.76s/batch]"
     ]
    },
    {
     "name": "stdout",
     "output_type": "stream",
     "text": [
      "\n",
      "1.0\n",
      "1.0\n",
      "1.0\n",
      "1.0\n",
      "1.0\n",
      "1.0\n",
      "1.0\n"
     ]
    },
    {
     "name": "stderr",
     "output_type": "stream",
     "text": [
      "Predict:  30%|###       | 19/63 [11:57<27:40, 37.74s/batch]"
     ]
    },
    {
     "name": "stdout",
     "output_type": "stream",
     "text": [
      "1.0\n",
      "1.0\n",
      "1.0\n",
      "1.0\n",
      "1.0\n",
      "1.0\n"
     ]
    },
    {
     "name": "stderr",
     "output_type": "stream",
     "text": [
      "Predict:  32%|###1      | 20/63 [12:34<27:02, 37.74s/batch]"
     ]
    },
    {
     "name": "stdout",
     "output_type": "stream",
     "text": [
      "1.0\n",
      "1.0\n",
      "1.0\n",
      "1.0\n",
      "1.0\n",
      "1.0\n",
      "1.0\n",
      "1.0\n"
     ]
    },
    {
     "name": "stderr",
     "output_type": "stream",
     "text": [
      "Predict:  33%|###3      | 21/63 [13:12<26:24, 37.73s/batch]"
     ]
    },
    {
     "name": "stdout",
     "output_type": "stream",
     "text": [
      "1.0\n",
      "1.0\n",
      "1.0\n",
      "1.0\n",
      "1.0\n",
      "1.0\n"
     ]
    },
    {
     "name": "stderr",
     "output_type": "stream",
     "text": [
      "Predict:  35%|###4      | 22/63 [13:49<25:46, 37.72s/batch]"
     ]
    },
    {
     "name": "stdout",
     "output_type": "stream",
     "text": [
      "1.0\n",
      "1.0\n",
      "1.0\n",
      "1.0\n",
      "1.0\n",
      "1.0\n",
      "1.0\n"
     ]
    },
    {
     "name": "stderr",
     "output_type": "stream",
     "text": [
      "Predict:  37%|###6      | 23/63 [14:27<25:08, 37.70s/batch]"
     ]
    },
    {
     "name": "stdout",
     "output_type": "stream",
     "text": [
      "1.0\n",
      "1.0\n",
      "1.0\n",
      "1.0\n",
      "1.0\n",
      "1.0\n",
      "1.0\n",
      "1.0\n"
     ]
    },
    {
     "name": "stderr",
     "output_type": "stream",
     "text": [
      "Predict:  38%|###8      | 24/63 [15:04<24:30, 37.69s/batch]"
     ]
    },
    {
     "name": "stdout",
     "output_type": "stream",
     "text": [
      "1.0\n",
      "1.0\n",
      "1.0\n",
      "1.0\n",
      "1.0\n",
      "1.0\n",
      "1.0\n"
     ]
    },
    {
     "name": "stderr",
     "output_type": "stream",
     "text": [
      "Predict:  40%|###9      | 25/63 [15:42<23:52, 37.69s/batch]"
     ]
    },
    {
     "name": "stdout",
     "output_type": "stream",
     "text": [
      "1.0\n",
      "1.0\n",
      "1.0\n",
      "1.0\n",
      "1.0\n",
      "1.0\n",
      "1.0\n"
     ]
    },
    {
     "name": "stderr",
     "output_type": "stream",
     "text": [
      "Predict:  41%|####1     | 26/63 [16:19<23:14, 37.68s/batch]"
     ]
    },
    {
     "name": "stdout",
     "output_type": "stream",
     "text": [
      "1.0\n",
      "1.0\n",
      "1.0\n",
      "1.0\n",
      "1.0\n",
      "1.0\n",
      "1.0\n"
     ]
    },
    {
     "name": "stderr",
     "output_type": "stream",
     "text": [
      "Predict:  43%|####2     | 27/63 [16:57<22:36, 37.67s/batch]"
     ]
    },
    {
     "name": "stdout",
     "output_type": "stream",
     "text": [
      "1.0\n",
      "1.0\n",
      "1.0\n",
      "1.0\n",
      "1.0\n",
      "1.0\n",
      "1.0\n"
     ]
    },
    {
     "name": "stderr",
     "output_type": "stream",
     "text": [
      "Predict:  44%|####4     | 28/63 [17:34<21:58, 37.67s/batch]"
     ]
    },
    {
     "name": "stdout",
     "output_type": "stream",
     "text": [
      "1.0\n",
      "1.0\n",
      "1.0\n",
      "1.0\n",
      "1.0\n",
      "1.0\n",
      "1.0\n"
     ]
    },
    {
     "name": "stderr",
     "output_type": "stream",
     "text": [
      "Predict:  46%|####6     | 29/63 [18:12<21:20, 37.66s/batch]"
     ]
    },
    {
     "name": "stdout",
     "output_type": "stream",
     "text": [
      "1.0\n",
      "1.0\n",
      "1.0\n",
      "1.0\n",
      "1.0\n",
      "1.0\n",
      "1.0\n"
     ]
    },
    {
     "name": "stderr",
     "output_type": "stream",
     "text": [
      "Predict:  48%|####7     | 30/63 [18:49<20:42, 37.66s/batch]"
     ]
    },
    {
     "name": "stdout",
     "output_type": "stream",
     "text": [
      "1.0\n",
      "1.0\n",
      "1.0\n",
      "1.0\n",
      "1.0\n",
      "1.0\n",
      "1.0\n"
     ]
    },
    {
     "name": "stderr",
     "output_type": "stream",
     "text": [
      "Predict:  49%|####9     | 31/63 [19:27<20:04, 37.65s/batch]"
     ]
    },
    {
     "name": "stdout",
     "output_type": "stream",
     "text": [
      "1.0\n",
      "1.0\n",
      "1.0\n",
      "1.0\n",
      "1.0\n",
      "1.0\n",
      "1.0\n"
     ]
    },
    {
     "name": "stderr",
     "output_type": "stream",
     "text": [
      "Predict:  51%|#####     | 32/63 [20:04<19:27, 37.65s/batch]"
     ]
    },
    {
     "name": "stdout",
     "output_type": "stream",
     "text": [
      "1.0\n",
      "1.0\n",
      "1.0\n",
      "1.0\n",
      "1.0\n",
      "1.0\n",
      "1.0\n"
     ]
    },
    {
     "name": "stderr",
     "output_type": "stream",
     "text": [
      "Predict:  52%|#####2    | 33/63 [20:43<18:50, 37.68s/batch]"
     ]
    },
    {
     "name": "stdout",
     "output_type": "stream",
     "text": [
      "1.0\n",
      "1.0\n",
      "1.0\n",
      "1.0\n",
      "1.0\n",
      "1.0\n",
      "1.0\n"
     ]
    },
    {
     "name": "stderr",
     "output_type": "stream",
     "text": [
      "Predict:  54%|#####3    | 34/63 [21:20<18:12, 37.67s/batch]"
     ]
    },
    {
     "name": "stdout",
     "output_type": "stream",
     "text": [
      "1.0\n",
      "1.0\n",
      "1.0\n",
      "1.0\n",
      "1.0\n",
      "1.0\n",
      "1.0\n"
     ]
    },
    {
     "name": "stderr",
     "output_type": "stream",
     "text": [
      "Predict:  56%|#####5    | 35/63 [21:58<17:34, 37.66s/batch]"
     ]
    },
    {
     "name": "stdout",
     "output_type": "stream",
     "text": [
      "1.0\n",
      "1.0\n",
      "1.0\n",
      "1.0\n",
      "1.0\n",
      "1.0\n",
      "1.0\n"
     ]
    },
    {
     "name": "stderr",
     "output_type": "stream",
     "text": [
      "Predict:  57%|#####7    | 36/63 [22:35<16:56, 37.66s/batch]"
     ]
    },
    {
     "name": "stdout",
     "output_type": "stream",
     "text": [
      "1.0\n",
      "1.0\n",
      "1.0\n",
      "1.0\n",
      "1.0\n",
      "1.0\n",
      "1.0\n"
     ]
    },
    {
     "name": "stderr",
     "output_type": "stream",
     "text": [
      "Predict:  59%|#####8    | 37/63 [23:13<16:18, 37.65s/batch]"
     ]
    },
    {
     "name": "stdout",
     "output_type": "stream",
     "text": [
      "1.0\n",
      "1.0\n",
      "1.0\n",
      "1.0\n",
      "1.0\n",
      "1.0\n",
      "1.0\n"
     ]
    },
    {
     "name": "stderr",
     "output_type": "stream",
     "text": [
      "Predict:  60%|######    | 38/63 [23:50<15:41, 37.64s/batch]"
     ]
    },
    {
     "name": "stdout",
     "output_type": "stream",
     "text": [
      "1.0\n",
      "1.0\n",
      "1.0\n",
      "1.0\n",
      "1.0\n",
      "1.0\n",
      "1.0\n"
     ]
    },
    {
     "name": "stderr",
     "output_type": "stream",
     "text": [
      "Predict:  62%|######1   | 39/63 [24:27<15:03, 37.64s/batch]"
     ]
    },
    {
     "name": "stdout",
     "output_type": "stream",
     "text": [
      "1.0\n",
      "1.0\n",
      "1.0\n",
      "1.0\n",
      "1.0\n",
      "1.0\n",
      "1.0\n"
     ]
    },
    {
     "name": "stderr",
     "output_type": "stream",
     "text": [
      "Predict:  63%|######3   | 40/63 [25:05<14:25, 37.64s/batch]"
     ]
    },
    {
     "name": "stdout",
     "output_type": "stream",
     "text": [
      "1.0\n",
      "1.0\n",
      "1.0\n",
      "1.0\n",
      "1.0\n",
      "1.0\n",
      "1.0\n"
     ]
    },
    {
     "name": "stderr",
     "output_type": "stream",
     "text": [
      "Predict:  65%|######5   | 41/63 [25:43<13:47, 37.63s/batch]"
     ]
    },
    {
     "name": "stdout",
     "output_type": "stream",
     "text": [
      "1.0\n",
      "1.0\n",
      "1.0\n",
      "1.0\n",
      "1.0\n",
      "1.0\n",
      "1.0\n"
     ]
    },
    {
     "name": "stderr",
     "output_type": "stream",
     "text": [
      "Predict:  67%|######6   | 42/63 [26:20<13:10, 37.63s/batch]"
     ]
    },
    {
     "name": "stdout",
     "output_type": "stream",
     "text": [
      "1.0\n",
      "1.0\n",
      "1.0\n",
      "1.0\n",
      "1.0\n",
      "1.0\n",
      "1.0\n"
     ]
    },
    {
     "name": "stderr",
     "output_type": "stream",
     "text": [
      "Predict:  68%|######8   | 43/63 [26:57<12:32, 37.62s/batch]"
     ]
    },
    {
     "name": "stdout",
     "output_type": "stream",
     "text": [
      "1.0\n",
      "1.0\n",
      "1.0\n",
      "1.0\n",
      "1.0\n",
      "1.0\n",
      "1.0\n"
     ]
    },
    {
     "name": "stderr",
     "output_type": "stream",
     "text": [
      "Predict:  70%|######9   | 44/63 [27:35<11:54, 37.62s/batch]"
     ]
    },
    {
     "name": "stdout",
     "output_type": "stream",
     "text": [
      "1.0\n",
      "1.0\n",
      "1.0\n",
      "1.0\n",
      "1.0\n",
      "1.0\n",
      "1.0\n"
     ]
    },
    {
     "name": "stderr",
     "output_type": "stream",
     "text": [
      "Predict:  71%|#######1  | 45/63 [28:12<11:17, 37.62s/batch]"
     ]
    },
    {
     "name": "stdout",
     "output_type": "stream",
     "text": [
      "1.0\n",
      "1.0\n",
      "1.0\n",
      "1.0\n",
      "1.0\n",
      "1.0\n",
      "1.0\n"
     ]
    },
    {
     "name": "stderr",
     "output_type": "stream",
     "text": [
      "Predict:  73%|#######3  | 46/63 [28:50<10:39, 37.62s/batch]"
     ]
    },
    {
     "name": "stdout",
     "output_type": "stream",
     "text": [
      "1.0\n",
      "1.0\n",
      "1.0\n",
      "1.0\n",
      "1.0\n",
      "1.0\n",
      "1.0\n"
     ]
    },
    {
     "name": "stderr",
     "output_type": "stream",
     "text": [
      "Predict:  75%|#######4  | 47/63 [29:28<10:01, 37.62s/batch]"
     ]
    },
    {
     "name": "stdout",
     "output_type": "stream",
     "text": [
      "1.0\n",
      "1.0\n",
      "1.0\n",
      "1.0\n",
      "1.0\n",
      "1.0\n",
      "1.0\n"
     ]
    },
    {
     "name": "stderr",
     "output_type": "stream",
     "text": [
      "Predict:  76%|#######6  | 48/63 [30:05<09:24, 37.62s/batch]"
     ]
    },
    {
     "name": "stdout",
     "output_type": "stream",
     "text": [
      "1.0\n",
      "1.0\n",
      "1.0\n",
      "1.0\n",
      "1.0\n",
      "1.0\n",
      "1.0\n"
     ]
    },
    {
     "name": "stderr",
     "output_type": "stream",
     "text": [
      "Predict:  78%|#######7  | 49/63 [30:43<08:46, 37.61s/batch]"
     ]
    },
    {
     "name": "stdout",
     "output_type": "stream",
     "text": [
      "1.0\n",
      "1.0\n",
      "1.0\n",
      "1.0\n",
      "1.0\n",
      "1.0\n",
      "1.0\n"
     ]
    },
    {
     "name": "stderr",
     "output_type": "stream",
     "text": [
      "Predict:  79%|#######9  | 50/63 [31:20<08:08, 37.61s/batch]"
     ]
    },
    {
     "name": "stdout",
     "output_type": "stream",
     "text": [
      "1.0\n",
      "1.0\n",
      "1.0\n",
      "1.0\n",
      "1.0\n",
      "1.0\n",
      "1.0\n"
     ]
    },
    {
     "name": "stderr",
     "output_type": "stream",
     "text": [
      "Predict:  81%|########  | 51/63 [31:58<07:31, 37.61s/batch]"
     ]
    },
    {
     "name": "stdout",
     "output_type": "stream",
     "text": [
      "1.0\n",
      "1.0\n",
      "1.0\n",
      "1.0\n",
      "1.0\n",
      "1.0\n",
      "1.0\n"
     ]
    },
    {
     "name": "stderr",
     "output_type": "stream",
     "text": [
      "Predict:  83%|########2 | 52/63 [32:35<06:53, 37.61s/batch]"
     ]
    },
    {
     "name": "stdout",
     "output_type": "stream",
     "text": [
      "1.0\n",
      "1.0\n",
      "1.0\n",
      "1.0\n",
      "1.0\n",
      "1.0\n",
      "1.0"
     ]
    },
    {
     "name": "stderr",
     "output_type": "stream",
     "text": [
      "Predict:  84%|########4 | 53/63 [33:13<06:16, 37.60s/batch]"
     ]
    },
    {
     "name": "stdout",
     "output_type": "stream",
     "text": [
      "\n",
      "1.0\n",
      "1.0\n",
      "1.0\n",
      "1.0\n",
      "1.0\n",
      "1.0\n",
      "1.0\n"
     ]
    },
    {
     "name": "stderr",
     "output_type": "stream",
     "text": [
      "Predict:  86%|########5 | 54/63 [33:50<05:38, 37.61s/batch]"
     ]
    },
    {
     "name": "stdout",
     "output_type": "stream",
     "text": [
      "1.0\n",
      "1.0\n",
      "1.0\n",
      "1.0\n",
      "1.0\n",
      "1.0\n",
      "1.0\n"
     ]
    },
    {
     "name": "stderr",
     "output_type": "stream",
     "text": [
      "Predict:  87%|########7 | 55/63 [34:28<05:00, 37.60s/batch]"
     ]
    },
    {
     "name": "stdout",
     "output_type": "stream",
     "text": [
      "1.0\n",
      "1.0\n",
      "1.0\n",
      "1.0\n",
      "1.0\n",
      "1.0\n",
      "1.0\n"
     ]
    },
    {
     "name": "stderr",
     "output_type": "stream",
     "text": [
      "Predict:  89%|########8 | 56/63 [35:05<04:23, 37.60s/batch]"
     ]
    },
    {
     "name": "stdout",
     "output_type": "stream",
     "text": [
      "1.0\n",
      "1.0\n",
      "1.0\n",
      "1.0\n",
      "1.0\n",
      "1.0\n",
      "1.0\n"
     ]
    },
    {
     "name": "stderr",
     "output_type": "stream",
     "text": [
      "Predict:  90%|######### | 57/63 [35:43<03:45, 37.61s/batch]"
     ]
    },
    {
     "name": "stdout",
     "output_type": "stream",
     "text": [
      "1.0\n",
      "1.0\n",
      "1.0\n",
      "1.0\n",
      "1.0\n",
      "1.0\n",
      "1.0\n"
     ]
    },
    {
     "name": "stderr",
     "output_type": "stream",
     "text": [
      "Predict:  92%|#########2| 58/63 [36:21<03:08, 37.61s/batch]"
     ]
    },
    {
     "name": "stdout",
     "output_type": "stream",
     "text": [
      "1.0\n",
      "1.0\n",
      "1.0\n",
      "1.0\n",
      "1.0\n",
      "1.0\n"
     ]
    },
    {
     "name": "stderr",
     "output_type": "stream",
     "text": [
      "Predict:  94%|#########3| 59/63 [36:58<02:30, 37.61s/batch]"
     ]
    },
    {
     "name": "stdout",
     "output_type": "stream",
     "text": [
      "1.0\n",
      "1.0\n",
      "1.0\n",
      "1.0\n",
      "1.0\n",
      "1.0\n",
      "1.0\n"
     ]
    },
    {
     "name": "stderr",
     "output_type": "stream",
     "text": [
      "Predict:  95%|#########5| 60/63 [37:36<01:52, 37.61s/batch]"
     ]
    },
    {
     "name": "stdout",
     "output_type": "stream",
     "text": [
      "1.0\n",
      "1.0\n",
      "1.0\n",
      "1.0\n",
      "1.0\n",
      "1.0\n",
      "1.0\n"
     ]
    },
    {
     "name": "stderr",
     "output_type": "stream",
     "text": [
      "Predict:  97%|#########6| 61/63 [38:14<01:15, 37.61s/batch]"
     ]
    },
    {
     "name": "stdout",
     "output_type": "stream",
     "text": [
      "1.0\n",
      "1.0\n",
      "1.0\n",
      "1.0\n",
      "1.0\n",
      "1.0\n",
      "1.0\n",
      "1.0\n"
     ]
    },
    {
     "name": "stderr",
     "output_type": "stream",
     "text": [
      "Predict:  98%|#########8| 62/63 [38:51<00:37, 37.60s/batch]"
     ]
    },
    {
     "name": "stdout",
     "output_type": "stream",
     "text": [
      "1.0\n",
      "1.0\n",
      "1.0\n",
      "1.0\n",
      "1.0\n",
      "1.0\n",
      "1.0\n"
     ]
    },
    {
     "name": "stderr",
     "output_type": "stream",
     "text": [
      "Predict: 100%|##########| 63/63 [39:31<00:00, 37.64s/batch]"
     ]
    },
    {
     "name": "stdout",
     "output_type": "stream",
     "text": [
      "1.0\n",
      "1.0\n"
     ]
    },
    {
     "name": "stderr",
     "output_type": "stream",
     "text": [
      "\n"
     ]
    }
   ],
   "source": [
    "batchStats = []\n",
    "\n",
    "net.eval()\n",
    "\n",
    "for images, masks, _tiles in tqdm(loader, desc=\"Predict\", unit=\"batch\", ascii=True):\n",
    "\n",
    "    with torch.no_grad():\n",
    "        raw = net(images)\n",
    "\n",
    "    for raw_prob, mask in zip(raw, masks):\n",
    "        prob = raw_prob > 0 \n",
    "        print(np.mean(prob.flatten().cpu().numpy()))\n",
    "        stats = sklearn.metrics.precision_recall_fscore_support(\n",
    "                    np.round(mask.flatten().cpu().numpy()),\n",
    "                    prob.flatten().cpu().numpy(), average='binary')\n",
    "        batchStats.append(stats)\n",
    "        \n",
    "        \n",
    "\n",
    "        \n"
   ]
  },
  {
   "cell_type": "code",
   "execution_count": 15,
   "metadata": {},
   "outputs": [],
   "source": [
    "aggStats = np.array([s[:3] for s in batchStats if s[0] != 0.0])"
   ]
  },
  {
   "cell_type": "code",
   "execution_count": 16,
   "metadata": {},
   "outputs": [
    {
     "data": {
      "text/plain": [
       "array([[5.45867920e-01, 1.00000000e+00, 7.06228408e-01],\n",
       "       [1.07387543e-01, 1.00000000e+00, 1.93947536e-01],\n",
       "       [5.17799377e-01, 1.00000000e+00, 6.82302793e-01],\n",
       "       [7.70385742e-01, 1.00000000e+00, 8.70302696e-01],\n",
       "       [2.62870789e-02, 1.00000000e+00, 5.12275355e-02],\n",
       "       [4.95910645e-04, 1.00000000e+00, 9.91329678e-04],\n",
       "       [1.11984253e-01, 1.00000000e+00, 2.01413379e-01],\n",
       "       [1.32705688e-01, 1.00000000e+00, 2.34316274e-01],\n",
       "       [1.36680603e-02, 1.00000000e+00, 2.69675268e-02],\n",
       "       [1.47090912e-01, 1.00000000e+00, 2.56459031e-01],\n",
       "       [3.65962982e-01, 1.00000000e+00, 5.35831479e-01],\n",
       "       [5.42068481e-02, 1.00000000e+00, 1.02839112e-01],\n",
       "       [2.55943298e-01, 1.00000000e+00, 4.07571422e-01],\n",
       "       [2.05230713e-03, 1.00000000e+00, 4.09620758e-03],\n",
       "       [9.53674316e-05, 1.00000000e+00, 1.90716675e-04],\n",
       "       [4.37953949e-01, 1.00000000e+00, 6.09134874e-01],\n",
       "       [3.42021942e-01, 1.00000000e+00, 5.09711401e-01],\n",
       "       [2.71453857e-02, 1.00000000e+00, 5.28559756e-02],\n",
       "       [5.34057617e-04, 1.00000000e+00, 1.06754510e-03],\n",
       "       [6.82640076e-02, 1.00000000e+00, 1.27803627e-01],\n",
       "       [2.31178284e-01, 1.00000000e+00, 3.75539898e-01],\n",
       "       [2.33524323e-01, 1.00000000e+00, 3.78629457e-01],\n",
       "       [4.80232239e-02, 1.00000000e+00, 9.16453429e-02],\n",
       "       [6.80923462e-02, 1.00000000e+00, 1.27502732e-01],\n",
       "       [2.76683807e-01, 1.00000000e+00, 4.33441398e-01],\n",
       "       [3.44596863e-01, 1.00000000e+00, 5.12565323e-01],\n",
       "       [1.48620605e-02, 1.00000000e+00, 2.92888287e-02],\n",
       "       [5.20401001e-02, 1.00000000e+00, 9.89317804e-02],\n",
       "       [4.39414978e-01, 1.00000000e+00, 6.10546624e-01],\n",
       "       [3.05175781e-05, 1.00000000e+00, 6.10332937e-05],\n",
       "       [9.40361023e-02, 1.00000000e+00, 1.71906763e-01],\n",
       "       [3.34281921e-01, 1.00000000e+00, 5.01066403e-01],\n",
       "       [4.30297852e-03, 1.00000000e+00, 8.56908444e-03],\n",
       "       [2.15679169e-01, 1.00000000e+00, 3.54829093e-01],\n",
       "       [7.91740417e-02, 1.00000000e+00, 1.46730812e-01],\n",
       "       [2.87078857e-01, 1.00000000e+00, 4.46093657e-01],\n",
       "       [4.89822388e-01, 1.00000000e+00, 6.57558098e-01],\n",
       "       [5.33531189e-01, 1.00000000e+00, 6.95820460e-01],\n",
       "       [4.34875488e-03, 1.00000000e+00, 8.65985020e-03],\n",
       "       [5.59749603e-01, 1.00000000e+00, 7.17742902e-01],\n",
       "       [7.30552673e-01, 1.00000000e+00, 8.44299841e-01],\n",
       "       [3.08685303e-01, 1.00000000e+00, 4.71748712e-01],\n",
       "       [1.47766113e-01, 1.00000000e+00, 2.57484712e-01],\n",
       "       [1.14440918e-05, 1.00000000e+00, 2.28879217e-05],\n",
       "       [3.17531586e-01, 1.00000000e+00, 4.82009827e-01],\n",
       "       [1.24668121e-01, 1.00000000e+00, 2.21697617e-01],\n",
       "       [4.64572906e-01, 1.00000000e+00, 6.34414176e-01],\n",
       "       [2.07355499e-01, 1.00000000e+00, 3.43487066e-01],\n",
       "       [6.22432709e-01, 1.00000000e+00, 7.67283235e-01],\n",
       "       [7.03292847e-01, 1.00000000e+00, 8.25803793e-01],\n",
       "       [8.88824463e-04, 1.00000000e+00, 1.77607031e-03],\n",
       "       [2.29759216e-02, 1.00000000e+00, 4.49197701e-02],\n",
       "       [1.17031097e-01, 1.00000000e+00, 2.09539551e-01],\n",
       "       [4.69970703e-01, 1.00000000e+00, 6.39428666e-01],\n",
       "       [5.56354523e-01, 1.00000000e+00, 7.14945746e-01],\n",
       "       [8.27865601e-02, 1.00000000e+00, 1.52913904e-01],\n",
       "       [3.70674133e-01, 1.00000000e+00, 5.40863980e-01],\n",
       "       [4.82604980e-01, 1.00000000e+00, 6.51023013e-01],\n",
       "       [1.79191589e-01, 1.00000000e+00, 3.03922774e-01],\n",
       "       [5.48213959e-01, 1.00000000e+00, 7.08188885e-01],\n",
       "       [1.84402466e-01, 1.00000000e+00, 3.11384806e-01],\n",
       "       [6.45954132e-01, 1.00000000e+00, 7.84899311e-01],\n",
       "       [1.03397369e-01, 1.00000000e+00, 1.87416378e-01],\n",
       "       [4.36973572e-02, 1.00000000e+00, 8.37356862e-02],\n",
       "       [7.30262756e-01, 1.00000000e+00, 8.44106196e-01],\n",
       "       [6.90460205e-03, 1.00000000e+00, 1.37145109e-02],\n",
       "       [4.17213440e-02, 1.00000000e+00, 8.01007760e-02],\n",
       "       [6.57592773e-01, 1.00000000e+00, 7.93431033e-01],\n",
       "       [1.66854858e-02, 1.00000000e+00, 3.28232990e-02],\n",
       "       [6.59168243e-01, 1.00000000e+00, 7.94576736e-01],\n",
       "       [4.58000183e-01, 1.00000000e+00, 6.28258060e-01],\n",
       "       [6.57768250e-02, 1.00000000e+00, 1.23434519e-01],\n",
       "       [2.41249084e-01, 1.00000000e+00, 3.88719859e-01],\n",
       "       [3.68026733e-01, 1.00000000e+00, 5.38040265e-01],\n",
       "       [1.49917603e-03, 1.00000000e+00, 2.99386372e-03],\n",
       "       [3.50646973e-02, 1.00000000e+00, 6.77536339e-02],\n",
       "       [1.30462646e-03, 1.00000000e+00, 2.60585326e-03],\n",
       "       [4.52804565e-03, 1.00000000e+00, 9.01526976e-03],\n",
       "       [1.78440094e-01, 1.00000000e+00, 3.02841179e-01],\n",
       "       [2.62214661e-01, 1.00000000e+00, 4.15483465e-01],\n",
       "       [1.22951508e-01, 1.00000000e+00, 2.18979193e-01],\n",
       "       [5.45967102e-01, 1.00000000e+00, 7.06311410e-01],\n",
       "       [2.97321320e-01, 1.00000000e+00, 4.58361880e-01],\n",
       "       [2.35061646e-02, 1.00000000e+00, 4.59326292e-02],\n",
       "       [6.48197174e-01, 1.00000000e+00, 7.86552949e-01],\n",
       "       [6.25888824e-01, 1.00000000e+00, 7.69903594e-01],\n",
       "       [4.06684875e-01, 1.00000000e+00, 5.78217457e-01],\n",
       "       [4.83203888e-01, 1.00000000e+00, 6.51567720e-01],\n",
       "       [4.54597473e-02, 1.00000000e+00, 8.69660404e-02],\n",
       "       [1.51824951e-03, 1.00000000e+00, 3.03189585e-03],\n",
       "       [3.81469727e-06, 1.00000000e+00, 7.62936543e-06],\n",
       "       [1.00582123e-01, 1.00000000e+00, 1.82779859e-01],\n",
       "       [4.28596497e-01, 1.00000000e+00, 6.00024566e-01],\n",
       "       [5.64373016e-01, 1.00000000e+00, 7.21532538e-01],\n",
       "       [2.34046936e-01, 1.00000000e+00, 3.79316101e-01],\n",
       "       [5.68523407e-01, 1.00000000e+00, 7.24915426e-01],\n",
       "       [4.97817993e-03, 1.00000000e+00, 9.90704083e-03],\n",
       "       [2.34302521e-01, 1.00000000e+00, 3.79651693e-01],\n",
       "       [3.17531586e-01, 1.00000000e+00, 4.82009827e-01],\n",
       "       [2.79617310e-02, 1.00000000e+00, 5.44022800e-02],\n",
       "       [3.98254395e-01, 1.00000000e+00, 5.69645118e-01],\n",
       "       [5.02208710e-01, 1.00000000e+00, 6.68627078e-01],\n",
       "       [2.22255707e-01, 1.00000000e+00, 3.63681193e-01],\n",
       "       [7.25173950e-03, 1.00000000e+00, 1.43990608e-02],\n",
       "       [5.44357300e-02, 1.00000000e+00, 1.03250921e-01],\n",
       "       [9.09423828e-03, 1.00000000e+00, 1.80245569e-02],\n",
       "       [9.15527344e-05, 1.00000000e+00, 1.83088706e-04],\n",
       "       [1.32484436e-02, 1.00000000e+00, 2.61504346e-02],\n",
       "       [4.77787018e-01, 1.00000000e+00, 6.46625004e-01],\n",
       "       [5.76782227e-03, 1.00000000e+00, 1.14694905e-02],\n",
       "       [9.29641724e-03, 1.00000000e+00, 1.84215798e-02],\n",
       "       [3.33786011e-03, 1.00000000e+00, 6.65351172e-03],\n",
       "       [1.36569977e-01, 1.00000000e+00, 2.40319522e-01],\n",
       "       [1.51062012e-03, 1.00000000e+00, 3.01668317e-03],\n",
       "       [4.67990875e-01, 1.00000000e+00, 6.37593711e-01],\n",
       "       [2.42362976e-01, 1.00000000e+00, 3.90164518e-01],\n",
       "       [1.82533264e-01, 1.00000000e+00, 3.08715653e-01],\n",
       "       [3.79562378e-02, 1.00000000e+00, 7.31364896e-02],\n",
       "       [4.43267822e-03, 1.00000000e+00, 8.82623260e-03],\n",
       "       [1.74980164e-02, 1.00000000e+00, 3.43942024e-02],\n",
       "       [1.65821075e-01, 1.00000000e+00, 2.84470883e-01],\n",
       "       [2.58026123e-02, 1.00000000e+00, 5.03071683e-02],\n",
       "       [6.57608032e-01, 1.00000000e+00, 7.93442140e-01],\n",
       "       [5.25703430e-01, 1.00000000e+00, 6.89129250e-01],\n",
       "       [6.46327972e-01, 1.00000000e+00, 7.85175230e-01],\n",
       "       [3.58581543e-03, 1.00000000e+00, 7.14600660e-03],\n",
       "       [7.13348389e-04, 1.00000000e+00, 1.42567977e-03],\n",
       "       [2.89916992e-04, 1.00000000e+00, 5.79665929e-04],\n",
       "       [1.52587891e-05, 1.00000000e+00, 3.05171125e-05],\n",
       "       [3.29093933e-02, 1.00000000e+00, 6.37217427e-02],\n",
       "       [1.86828613e-01, 1.00000000e+00, 3.14836719e-01],\n",
       "       [2.25448608e-03, 1.00000000e+00, 4.49882962e-03],\n",
       "       [4.06879425e-01, 1.00000000e+00, 5.78414067e-01],\n",
       "       [1.46682739e-01, 1.00000000e+00, 2.55838401e-01],\n",
       "       [6.68285370e-01, 1.00000000e+00, 8.01164335e-01],\n",
       "       [2.85797119e-02, 1.00000000e+00, 5.55712145e-02],\n",
       "       [1.25503540e-02, 1.00000000e+00, 2.47895899e-02],\n",
       "       [9.23156738e-04, 1.00000000e+00, 1.84461061e-03],\n",
       "       [1.53541565e-02, 1.00000000e+00, 3.02439428e-02],\n",
       "       [4.34112549e-03, 1.00000000e+00, 8.64472315e-03],\n",
       "       [2.55313873e-01, 1.00000000e+00, 4.06772965e-01],\n",
       "       [4.29840088e-01, 1.00000000e+00, 6.01242183e-01],\n",
       "       [2.19612122e-02, 1.00000000e+00, 4.29785630e-02],\n",
       "       [1.44462585e-02, 1.00000000e+00, 2.84810722e-02],\n",
       "       [3.17382812e-03, 1.00000000e+00, 6.32757362e-03],\n",
       "       [6.06918335e-03, 1.00000000e+00, 1.20651411e-02],\n",
       "       [4.24110413e-01, 1.00000000e+00, 5.95614510e-01],\n",
       "       [2.81860352e-01, 1.00000000e+00, 4.39767641e-01],\n",
       "       [8.62007141e-02, 1.00000000e+00, 1.58719679e-01],\n",
       "       [9.22775269e-03, 1.00000000e+00, 1.82867597e-02],\n",
       "       [5.22068024e-01, 1.00000000e+00, 6.85998281e-01],\n",
       "       [3.62396240e-03, 1.00000000e+00, 7.22175344e-03],\n",
       "       [3.04664612e-01, 1.00000000e+00, 4.67038975e-01],\n",
       "       [5.09841919e-01, 1.00000000e+00, 6.75358013e-01],\n",
       "       [2.62832642e-03, 1.00000000e+00, 5.24287285e-03],\n",
       "       [2.09388733e-02, 1.00000000e+00, 4.10188579e-02],\n",
       "       [4.24549103e-01, 1.00000000e+00, 5.96046991e-01],\n",
       "       [3.34190369e-01, 1.00000000e+00, 5.00963545e-01],\n",
       "       [6.14101410e-01, 1.00000000e+00, 7.60920480e-01],\n",
       "       [6.32171631e-02, 1.00000000e+00, 1.18916747e-01],\n",
       "       [2.18276978e-01, 1.00000000e+00, 3.58337195e-01],\n",
       "       [3.13976288e-01, 1.00000000e+00, 4.77902517e-01],\n",
       "       [4.43252563e-01, 1.00000000e+00, 6.14241159e-01],\n",
       "       [2.88234711e-01, 1.00000000e+00, 4.47487881e-01],\n",
       "       [3.51894379e-01, 1.00000000e+00, 5.20594485e-01],\n",
       "       [3.27781677e-01, 1.00000000e+00, 4.93728273e-01],\n",
       "       [5.88829041e-01, 1.00000000e+00, 7.41211327e-01],\n",
       "       [6.41059875e-02, 1.00000000e+00, 1.20487975e-01],\n",
       "       [5.32333374e-01, 1.00000000e+00, 6.94800992e-01],\n",
       "       [3.87954712e-03, 1.00000000e+00, 7.72910880e-03],\n",
       "       [4.73148346e-01, 1.00000000e+00, 6.42363476e-01],\n",
       "       [5.65986633e-02, 1.00000000e+00, 1.07133702e-01],\n",
       "       [5.43899536e-02, 1.00000000e+00, 1.03168573e-01],\n",
       "       [2.92587280e-01, 1.00000000e+00, 4.52715704e-01],\n",
       "       [5.60531616e-01, 1.00000000e+00, 7.18385466e-01],\n",
       "       [4.38690186e-04, 1.00000000e+00, 8.76995642e-04],\n",
       "       [7.46917725e-03, 1.00000000e+00, 1.48276045e-02],\n",
       "       [3.31878662e-04, 1.00000000e+00, 6.63537110e-04],\n",
       "       [2.63214111e-04, 1.00000000e+00, 5.26289696e-04],\n",
       "       [8.50296021e-03, 1.00000000e+00, 1.68625389e-02],\n",
       "       [2.26661682e-01, 1.00000000e+00, 3.69558592e-01],\n",
       "       [6.80580139e-02, 1.00000000e+00, 1.27442542e-01],\n",
       "       [9.72747803e-04, 1.00000000e+00, 1.94360497e-03],\n",
       "       [4.18045044e-01, 1.00000000e+00, 5.89607567e-01],\n",
       "       [1.21688843e-03, 1.00000000e+00, 2.43081882e-03],\n",
       "       [5.58853149e-03, 1.00000000e+00, 1.11149468e-02],\n",
       "       [3.81469727e-06, 1.00000000e+00, 7.62936543e-06],\n",
       "       [1.73858643e-01, 1.00000000e+00, 2.96217340e-01],\n",
       "       [1.88827515e-03, 1.00000000e+00, 3.76943257e-03],\n",
       "       [2.89421082e-02, 1.00000000e+00, 5.62560477e-02],\n",
       "       [2.48756409e-01, 1.00000000e+00, 3.98406618e-01],\n",
       "       [6.64680481e-01, 1.00000000e+00, 7.98568240e-01],\n",
       "       [2.79724121e-01, 1.00000000e+00, 4.37163161e-01],\n",
       "       [5.97557068e-01, 1.00000000e+00, 7.48088541e-01],\n",
       "       [6.28852844e-02, 1.00000000e+00, 1.18329391e-01],\n",
       "       [2.47413635e-01, 1.00000000e+00, 3.96682589e-01],\n",
       "       [2.05993652e-04, 1.00000000e+00, 4.11902455e-04],\n",
       "       [8.17031860e-02, 1.00000000e+00, 1.51063965e-01],\n",
       "       [4.19921875e-01, 1.00000000e+00, 5.91471802e-01],\n",
       "       [3.57620239e-01, 1.00000000e+00, 5.26833983e-01],\n",
       "       [2.28881836e-05, 1.00000000e+00, 4.57753195e-05],\n",
       "       [5.73043823e-02, 1.00000000e+00, 1.08397134e-01],\n",
       "       [7.53669739e-02, 1.00000000e+00, 1.40169776e-01],\n",
       "       [5.83648682e-04, 1.00000000e+00, 1.16661647e-03],\n",
       "       [1.65557861e-03, 1.00000000e+00, 3.30568441e-03],\n",
       "       [2.00157166e-02, 1.00000000e+00, 3.92458983e-02],\n",
       "       [1.64108276e-01, 1.00000000e+00, 2.81946756e-01],\n",
       "       [1.49612427e-02, 1.00000000e+00, 2.94814069e-02],\n",
       "       [6.89655304e-01, 1.00000000e+00, 8.16326623e-01],\n",
       "       [4.72572327e-01, 1.00000000e+00, 6.41832415e-01],\n",
       "       [3.81469727e-06, 1.00000000e+00, 7.62936543e-06],\n",
       "       [6.44683838e-04, 1.00000000e+00, 1.28853698e-03],\n",
       "       [3.38783264e-01, 1.00000000e+00, 5.06106213e-01],\n",
       "       [3.37028503e-02, 1.00000000e+00, 6.52080050e-02],\n",
       "       [7.60574341e-02, 1.00000000e+00, 1.41363150e-01],\n",
       "       [5.72090149e-02, 1.00000000e+00, 1.08226498e-01],\n",
       "       [2.17437744e-04, 1.00000000e+00, 4.34780950e-04],\n",
       "       [2.08663940e-03, 1.00000000e+00, 4.16458881e-03],\n",
       "       [4.76760864e-02, 1.00000000e+00, 9.10130279e-02],\n",
       "       [1.79290771e-04, 1.00000000e+00, 3.58517264e-04],\n",
       "       [3.91849518e-01, 1.00000000e+00, 5.63063051e-01],\n",
       "       [3.99135590e-01, 1.00000000e+00, 5.70545975e-01],\n",
       "       [5.72204590e-05, 1.00000000e+00, 1.14434370e-04],\n",
       "       [2.73292542e-01, 1.00000000e+00, 4.29269053e-01],\n",
       "       [8.39233398e-05, 1.00000000e+00, 1.67832595e-04],\n",
       "       [4.60689545e-01, 1.00000000e+00, 6.30783655e-01],\n",
       "       [1.44958496e-03, 1.00000000e+00, 2.89497341e-03],\n",
       "       [4.50443268e-01, 1.00000000e+00, 6.21111184e-01],\n",
       "       [4.79511261e-01, 1.00000000e+00, 6.48202246e-01],\n",
       "       [2.27584839e-02, 1.00000000e+00, 4.45041214e-02],\n",
       "       [8.54492188e-04, 1.00000000e+00, 1.70752531e-03],\n",
       "       [2.20676422e-01, 1.00000000e+00, 3.61564159e-01],\n",
       "       [1.96685791e-02, 1.00000000e+00, 3.85783764e-02],\n",
       "       [5.25539398e-01, 1.00000000e+00, 6.88988300e-01],\n",
       "       [1.31988525e-03, 1.00000000e+00, 2.63629091e-03],\n",
       "       [3.59748840e-01, 1.00000000e+00, 5.29140132e-01],\n",
       "       [3.07609558e-01, 1.00000000e+00, 4.70491449e-01],\n",
       "       [1.29852295e-02, 1.00000000e+00, 2.56375495e-02],\n",
       "       [4.56718445e-01, 1.00000000e+00, 6.27051091e-01],\n",
       "       [1.01852417e-03, 1.00000000e+00, 2.03497567e-03],\n",
       "       [2.28881836e-05, 1.00000000e+00, 4.57753195e-05],\n",
       "       [2.25067139e-04, 1.00000000e+00, 4.50032990e-04],\n",
       "       [4.31442261e-02, 1.00000000e+00, 8.27195799e-02],\n",
       "       [2.31300354e-01, 1.00000000e+00, 3.75700946e-01],\n",
       "       [6.24618530e-02, 1.00000000e+00, 1.17579474e-01],\n",
       "       [7.68047333e-01, 1.00000000e+00, 8.68808565e-01],\n",
       "       [3.06823730e-01, 1.00000000e+00, 4.69571715e-01],\n",
       "       [5.48171997e-03, 1.00000000e+00, 1.09036691e-02],\n",
       "       [1.20429993e-01, 1.00000000e+00, 2.14971026e-01],\n",
       "       [5.62591553e-01, 1.00000000e+00, 7.20074996e-01],\n",
       "       [3.79524231e-02, 1.00000000e+00, 7.31294080e-02],\n",
       "       [2.05993652e-04, 1.00000000e+00, 4.11902455e-04],\n",
       "       [1.06239319e-02, 1.00000000e+00, 2.10245009e-02],\n",
       "       [4.98973846e-01, 1.00000000e+00, 6.65753906e-01],\n",
       "       [5.72204590e-05, 1.00000000e+00, 1.14434370e-04],\n",
       "       [1.13166809e-01, 1.00000000e+00, 2.03324081e-01],\n",
       "       [5.41137695e-01, 1.00000000e+00, 7.02257426e-01],\n",
       "       [3.73535156e-01, 1.00000000e+00, 5.43903306e-01],\n",
       "       [2.25387573e-01, 1.00000000e+00, 3.67863324e-01],\n",
       "       [4.43550110e-01, 1.00000000e+00, 6.14526793e-01],\n",
       "       [2.75394440e-01, 1.00000000e+00, 4.31857677e-01],\n",
       "       [3.27907562e-01, 1.00000000e+00, 4.93871067e-01],\n",
       "       [3.20968628e-01, 1.00000000e+00, 4.85959501e-01],\n",
       "       [2.03132629e-02, 1.00000000e+00, 3.98176985e-02],\n",
       "       [6.86355591e-01, 1.00000000e+00, 8.14010514e-01],\n",
       "       [2.80761719e-03, 1.00000000e+00, 5.59951309e-03],\n",
       "       [1.18389130e-01, 1.00000000e+00, 2.11713663e-01],\n",
       "       [4.87861633e-02, 1.00000000e+00, 9.30335755e-02],\n",
       "       [7.07626343e-03, 1.00000000e+00, 1.40530835e-02],\n",
       "       [9.39178467e-03, 1.00000000e+00, 1.86087995e-02],\n",
       "       [4.66690063e-02, 1.00000000e+00, 8.91762459e-02],\n",
       "       [7.85247803e-01, 1.00000000e+00, 8.79707345e-01],\n",
       "       [1.31874084e-02, 1.00000000e+00, 2.60315285e-02],\n",
       "       [3.54347229e-01, 1.00000000e+00, 5.23273827e-01],\n",
       "       [3.03001404e-02, 1.00000000e+00, 5.88180845e-02],\n",
       "       [4.32662964e-02, 1.00000000e+00, 8.29439167e-02],\n",
       "       [4.22409058e-01, 1.00000000e+00, 5.93934713e-01],\n",
       "       [4.44602966e-02, 1.00000000e+00, 8.51354461e-02],\n",
       "       [9.32235718e-02, 1.00000000e+00, 1.70548046e-01],\n",
       "       [2.02941895e-03, 1.00000000e+00, 4.05061749e-03],\n",
       "       [3.68232727e-01, 1.00000000e+00, 5.38260370e-01],\n",
       "       [6.64478302e-01, 1.00000000e+00, 7.98422306e-01]])"
      ]
     },
     "execution_count": 16,
     "metadata": {},
     "output_type": "execute_result"
    }
   ],
   "source": [
    "aggStats"
   ]
  },
  {
   "cell_type": "code",
   "execution_count": 11,
   "metadata": {},
   "outputs": [
    {
     "ename": "AttributeError",
     "evalue": "'numpy.ndarray' object has no attribute 'Precision'",
     "output_type": "error",
     "traceback": [
      "\u001b[0;31m---------------------------------------------------------------------------\u001b[0m",
      "\u001b[0;31mAttributeError\u001b[0m                            Traceback (most recent call last)",
      "\u001b[0;32m<ipython-input-11-9bc56c9bbc65>\u001b[0m in \u001b[0;36m<module>\u001b[0;34m()\u001b[0m\n\u001b[0;32m----> 1\u001b[0;31m \u001b[0maggStats\u001b[0m\u001b[0;34m.\u001b[0m\u001b[0mPrecision\u001b[0m\u001b[0;34m.\u001b[0m\u001b[0mmean\u001b[0m\u001b[0;34m(\u001b[0m\u001b[0;34m)\u001b[0m\u001b[0;34m,\u001b[0m \u001b[0maggStats\u001b[0m\u001b[0;34m.\u001b[0m\u001b[0mRecall\u001b[0m\u001b[0;34m.\u001b[0m\u001b[0mmean\u001b[0m\u001b[0;34m(\u001b[0m\u001b[0;34m)\u001b[0m\u001b[0;34m,\u001b[0m \u001b[0maggStats\u001b[0m\u001b[0;34m.\u001b[0m\u001b[0mF1\u001b[0m\u001b[0;34m.\u001b[0m\u001b[0mmean\u001b[0m\u001b[0;34m(\u001b[0m\u001b[0;34m)\u001b[0m\u001b[0;34m\u001b[0m\u001b[0;34m\u001b[0m\u001b[0m\n\u001b[0m",
      "\u001b[0;31mAttributeError\u001b[0m: 'numpy.ndarray' object has no attribute 'Precision'"
     ]
    }
   ],
   "source": [
    "aggStats.Precision.mean(), aggStats.Recall.mean(), aggStats.F1.mean()"
   ]
  },
  {
   "cell_type": "code",
   "execution_count": 12,
   "metadata": {},
   "outputs": [
    {
     "name": "stdout",
     "output_type": "stream",
     "text": [
      "2e85f6b7a36d870a74566dff9cb3bc75-5554-12685-15\n",
      "6c3fdc04b3ef10f50c192d86ebb8f144-5547-12702-15\n",
      "898c3daa4112e8a7efe1ca89a833dec7-5506-12700-15\n",
      "2e85f6b7a36d870a74566dff9cb3bc75-5551-12687-15\n",
      "2e85f6b7a36d870a74566dff9cb3bc75-5558-12688-15\n",
      "6db35152a3edab340e601ebff65f3e96-5545-12685-15\n",
      "6db35152a3edab340e601ebff65f3e96-5553-12683-15\n",
      "6db35152a3edab340e601ebff65f3e96-5548-12685-15\n"
     ]
    }
   ],
   "source": [
    "limit = 8\n",
    "images, masks, tiles = [], [], []\n",
    "idxs = np.random.randint(0, len(allTiles), size=limit)\n",
    "for i in idxs:\n",
    "    i, m, t = allTiles[i]\n",
    "    print(t)\n",
    "    images.append(i)\n",
    "    masks.append(m)\n",
    "    tiles.append(t)\n",
    "\n",
    "    \n",
    "imageTensor = torch.from_numpy(np.stack(images))"
   ]
  },
  {
   "cell_type": "code",
   "execution_count": 13,
   "metadata": {},
   "outputs": [
    {
     "name": "stderr",
     "output_type": "stream",
     "text": [
      "/home/ubuntu/anaconda3/envs/pytorch_p36/lib/python3.6/site-packages/sklearn/metrics/classification.py:1145: UndefinedMetricWarning: Recall and F-score are ill-defined and being set to 0.0 due to no true samples.\n",
      "  'recall', 'true', average, warn_for)\n"
     ]
    }
   ],
   "source": [
    "with torch.no_grad():\n",
    "    raw = net(imageTensor)\n",
    "\n",
    "for raw_prob, mask in zip(raw, masks):\n",
    "    prob = raw_prob > 0 \n",
    "    stats = sklearn.metrics.precision_recall_fscore_support(\n",
    "                np.round(mask.flatten().cpu().numpy()),\n",
    "                prob.flatten().cpu().numpy(), average='binary')\n",
    "\n"
   ]
  },
  {
   "cell_type": "code",
   "execution_count": 13,
   "metadata": {},
   "outputs": [
    {
     "name": "stdout",
     "output_type": "stream",
     "text": [
      "tensor([[[[-0.1348, -0.1303, -0.1343,  ..., -0.1366, -0.1376, -0.1401],\n",
      "          [-0.1399, -0.1408, -0.1384,  ..., -0.1372, -0.1411, -0.1418],\n",
      "          [-0.1404, -0.1369, -0.1358,  ..., -0.1416, -0.1408, -0.1392],\n",
      "          ...,\n",
      "          [-0.1409, -0.1427, -0.1416,  ..., -0.1295, -0.1516, -0.1624],\n",
      "          [-0.1386, -0.1432, -0.1432,  ..., -0.1538, -0.1509, -0.1569],\n",
      "          [-0.1352, -0.1373, -0.1326,  ..., -0.1287, -0.1270, -0.1249]]],\n",
      "\n",
      "\n",
      "        [[[-0.1330, -0.1248, -0.1290,  ..., -0.1414, -0.1388, -0.1401],\n",
      "          [-0.1390, -0.1357, -0.1421,  ..., -0.1407, -0.1426, -0.1433],\n",
      "          [-0.1451, -0.1423, -0.1413,  ..., -0.1464, -0.1448, -0.1416],\n",
      "          ...,\n",
      "          [-0.1381, -0.1388, -0.1408,  ..., -0.1400, -0.1412, -0.1424],\n",
      "          [-0.1386, -0.1428, -0.1428,  ..., -0.1447, -0.1397, -0.1423],\n",
      "          [-0.1353, -0.1375, -0.1329,  ..., -0.1365, -0.1348, -0.1346]]],\n",
      "\n",
      "\n",
      "        [[[-0.1342, -0.1293, -0.1337,  ..., -0.1429, -0.1402, -0.1384],\n",
      "          [-0.1413, -0.1408, -0.1408,  ..., -0.1436, -0.1444, -0.1426],\n",
      "          [-0.1387, -0.1395, -0.1387,  ..., -0.1472, -0.1468, -0.1428],\n",
      "          ...,\n",
      "          [-0.1354, -0.1393, -0.1378,  ..., -0.1302, -0.1362, -0.1384],\n",
      "          [-0.1346, -0.1399, -0.1374,  ..., -0.1302, -0.1373, -0.1401],\n",
      "          [-0.1339, -0.1360, -0.1333,  ..., -0.1332, -0.1351, -0.1336]]],\n",
      "\n",
      "\n",
      "        ...,\n",
      "\n",
      "\n",
      "        [[[-0.1341, -0.1250, -0.1316,  ..., -0.1274, -0.1267, -0.1334],\n",
      "          [-0.1389, -0.1352, -0.1339,  ..., -0.1243, -0.1358, -0.1462],\n",
      "          [-0.1413, -0.1418, -0.1382,  ..., -0.1497, -0.1427, -0.1478],\n",
      "          ...,\n",
      "          [-0.1706, -0.1728, -0.1784,  ..., -0.1413, -0.1802, -0.1693],\n",
      "          [-0.1723, -0.1965, -0.1968,  ..., -0.1842, -0.1924, -0.1715],\n",
      "          [-0.1502, -0.1712, -0.1418,  ..., -0.1365, -0.1392, -0.1173]]],\n",
      "\n",
      "\n",
      "        [[[-0.1338, -0.1280, -0.1336,  ..., -0.1402, -0.1374, -0.1389],\n",
      "          [-0.1401, -0.1381, -0.1392,  ..., -0.1380, -0.1416, -0.1434],\n",
      "          [-0.1401, -0.1392, -0.1372,  ..., -0.1424, -0.1329, -0.1388],\n",
      "          ...,\n",
      "          [-0.1412, -0.1406, -0.1392,  ..., -0.1356, -0.1376, -0.1401],\n",
      "          [-0.1358, -0.1404, -0.1400,  ..., -0.1431, -0.1376, -0.1419],\n",
      "          [-0.1342, -0.1360, -0.1321,  ..., -0.1366, -0.1331, -0.1340]]],\n",
      "\n",
      "\n",
      "        [[[-0.1350, -0.1303, -0.1324,  ..., -0.1412, -0.1405, -0.1405],\n",
      "          [-0.1411, -0.1436, -0.1442,  ..., -0.1419, -0.1438, -0.1422],\n",
      "          [-0.1406, -0.1450, -0.1433,  ..., -0.1432, -0.1420, -0.1416],\n",
      "          ...,\n",
      "          [-0.1361, -0.1394, -0.1388,  ..., -0.1359, -0.1390, -0.1413],\n",
      "          [-0.1378, -0.1415, -0.1406,  ..., -0.1387, -0.1389, -0.1408],\n",
      "          [-0.1362, -0.1406, -0.1349,  ..., -0.1345, -0.1338, -0.1348]]]],\n",
      "       device='cuda:0')\n"
     ]
    }
   ],
   "source": [
    "print(raw)"
   ]
  },
  {
   "cell_type": "code",
   "execution_count": 14,
   "metadata": {},
   "outputs": [],
   "source": [
    "def plot3(image, mask, pred, tile, ax = None):\n",
    "#     fig.suptitle(tile)\n",
    "    ax[0].imshow(image)\n",
    "    ax[0].set_title(tile)\n",
    "    ax[1].imshow(mask)\n",
    "    ax[1].set_title(\"mask\")\n",
    "    ax[2].imshow(pred, cmap='cividis', vmin = 0.2, vmax = 1)\n",
    "    ax[2].set_title('prediction')\n",
    "#     diff = ax[3].imshow((pred > 0) - mask, cmap='seismic')\n",
    "    mets = sklearn.metrics.precision_recall_fscore_support(np.round(mask.flatten()), \n",
    "                                                          (pred > 0).flatten().astype(int), average='binary')\n",
    "    ax[2].set_title(mets)\n",
    "        \n",
    "    print(mets)\n",
    "    return(mets)\n",
    "\n",
    "#     plt.colorbar(diff, ax = ax[3])\n",
    "    # NDSI = 1-4 / 1 + 4\n",
    "#    plt.colorbar(pred, ax  = ax[2], orientation='horizontal')\n"
   ]
  },
  {
   "cell_type": "code",
   "execution_count": 15,
   "metadata": {},
   "outputs": [
    {
     "name": "stderr",
     "output_type": "stream",
     "text": [
      "/home/ubuntu/anaconda3/envs/pytorch_p36/lib/python3.6/site-packages/skimage/util/dtype.py:141: UserWarning: Possible precision loss when converting from float32 to uint16\n",
      "  .format(dtypeobj_in, dtypeobj_out))\n",
      "/home/ubuntu/anaconda3/envs/pytorch_p36/lib/python3.6/site-packages/skimage/util/dtype.py:141: UserWarning: Possible precision loss when converting from float64 to float32\n",
      "  .format(dtypeobj_in, dtypeobj_out))\n"
     ]
    },
    {
     "ename": "TypeError",
     "evalue": "list indices must be integers or slices, not tuple",
     "output_type": "error",
     "traceback": [
      "\u001b[0;31m---------------------------------------------------------------------------\u001b[0m",
      "\u001b[0;31mTypeError\u001b[0m                                 Traceback (most recent call last)",
      "\u001b[0;32m<ipython-input-15-c4aa3bfa03ac>\u001b[0m in \u001b[0;36m<module>\u001b[0;34m()\u001b[0m\n\u001b[1;32m      6\u001b[0m     \u001b[0mrgb\u001b[0m \u001b[0;34m=\u001b[0m \u001b[0mnp\u001b[0m\u001b[0;34m.\u001b[0m\u001b[0mmoveaxis\u001b[0m\u001b[0;34m(\u001b[0m\u001b[0mimageTensor\u001b[0m\u001b[0;34m[\u001b[0m\u001b[0mimage\u001b[0m\u001b[0;34m,\u001b[0m \u001b[0;34m[\u001b[0m\u001b[0;36m2\u001b[0m\u001b[0;34m,\u001b[0m \u001b[0;36m1\u001b[0m\u001b[0;34m,\u001b[0m \u001b[0;36m0\u001b[0m\u001b[0;34m]\u001b[0m\u001b[0;34m,\u001b[0m \u001b[0;34m:\u001b[0m\u001b[0;34m,\u001b[0m \u001b[0;34m:\u001b[0m\u001b[0;34m]\u001b[0m\u001b[0;34m.\u001b[0m\u001b[0mnumpy\u001b[0m\u001b[0;34m(\u001b[0m\u001b[0;34m)\u001b[0m\u001b[0;34m,\u001b[0m \u001b[0;36m0\u001b[0m\u001b[0;34m,\u001b[0m \u001b[0;36m2\u001b[0m\u001b[0;34m)\u001b[0m\u001b[0;34m\u001b[0m\u001b[0;34m\u001b[0m\u001b[0m\n\u001b[1;32m      7\u001b[0m     \u001b[0mrgb\u001b[0m \u001b[0;34m=\u001b[0m \u001b[0mskimage\u001b[0m\u001b[0;34m.\u001b[0m\u001b[0mexposure\u001b[0m\u001b[0;34m.\u001b[0m\u001b[0mrescale_intensity\u001b[0m\u001b[0;34m(\u001b[0m\u001b[0mskimage\u001b[0m\u001b[0;34m.\u001b[0m\u001b[0mexposure\u001b[0m\u001b[0;34m.\u001b[0m\u001b[0mequalize_adapthist\u001b[0m\u001b[0;34m(\u001b[0m\u001b[0mrgb\u001b[0m\u001b[0;34m)\u001b[0m\u001b[0;34m,\u001b[0m \u001b[0min_range\u001b[0m \u001b[0;34m=\u001b[0m \u001b[0;34m(\u001b[0m\u001b[0;36m0\u001b[0m\u001b[0;34m,\u001b[0m \u001b[0;36m.62\u001b[0m\u001b[0;34m)\u001b[0m\u001b[0;34m)\u001b[0m\u001b[0;34m\u001b[0m\u001b[0;34m\u001b[0m\u001b[0m\n\u001b[0;32m----> 8\u001b[0;31m     \u001b[0mmet\u001b[0m \u001b[0;34m=\u001b[0m \u001b[0mplot3\u001b[0m\u001b[0;34m(\u001b[0m\u001b[0mrgb\u001b[0m\u001b[0;34m,\u001b[0m \u001b[0mmasks\u001b[0m\u001b[0;34m[\u001b[0m\u001b[0mimage\u001b[0m\u001b[0;34m,\u001b[0m \u001b[0;34m:\u001b[0m\u001b[0;34m,\u001b[0m \u001b[0;34m:\u001b[0m\u001b[0;34m]\u001b[0m\u001b[0;34m,\u001b[0m  \u001b[0;34m(\u001b[0m\u001b[0mraw\u001b[0m\u001b[0;34m[\u001b[0m\u001b[0mimage\u001b[0m\u001b[0;34m]\u001b[0m\u001b[0;34m)\u001b[0m\u001b[0;34m.\u001b[0m\u001b[0mcpu\u001b[0m\u001b[0;34m(\u001b[0m\u001b[0;34m)\u001b[0m\u001b[0;34m.\u001b[0m\u001b[0mnumpy\u001b[0m\u001b[0;34m(\u001b[0m\u001b[0;34m)\u001b[0m\u001b[0;34m.\u001b[0m\u001b[0msqueeze\u001b[0m\u001b[0;34m(\u001b[0m\u001b[0;34m)\u001b[0m  \u001b[0;34m,\u001b[0m \u001b[0mtiles\u001b[0m\u001b[0;34m[\u001b[0m\u001b[0mimage\u001b[0m\u001b[0;34m]\u001b[0m\u001b[0;34m,\u001b[0m \u001b[0max\u001b[0m \u001b[0;34m=\u001b[0m \u001b[0max\u001b[0m\u001b[0;34m[\u001b[0m\u001b[0mimage\u001b[0m\u001b[0;34m]\u001b[0m\u001b[0;34m)\u001b[0m\u001b[0;34m\u001b[0m\u001b[0;34m\u001b[0m\u001b[0m\n\u001b[0m\u001b[1;32m      9\u001b[0m     \u001b[0;32mif\u001b[0m \u001b[0mmet\u001b[0m\u001b[0;34m[\u001b[0m\u001b[0;36m0\u001b[0m\u001b[0;34m]\u001b[0m \u001b[0;34m!=\u001b[0m \u001b[0;36m0\u001b[0m\u001b[0;34m:\u001b[0m\u001b[0;34m\u001b[0m\u001b[0;34m\u001b[0m\u001b[0m\n\u001b[1;32m     10\u001b[0m         \u001b[0mmets\u001b[0m\u001b[0;34m.\u001b[0m\u001b[0mappend\u001b[0m\u001b[0;34m(\u001b[0m\u001b[0mmet\u001b[0m\u001b[0;34m)\u001b[0m\u001b[0;34m\u001b[0m\u001b[0;34m\u001b[0m\u001b[0m\n",
      "\u001b[0;31mTypeError\u001b[0m: list indices must be integers or slices, not tuple"
     ]
    },
    {
     "data": {
      "image/png": "[encoded data removed]",
      "text/plain": [
       "<Figure size 1440x3600 with 24 Axes>"
      ]
     },
     "metadata": {},
     "output_type": "display_data"
    }
   ],
   "source": [
    "fig, ax = plt.subplots(raw.shape[0], 3, figsize=(20, 50))\n",
    "mets = []\n",
    "for image in range(raw.shape[0]):\n",
    "    imageTensor = imageTensor.cpu()\n",
    "    raw = raw.cpu()\n",
    "    rgb = np.moveaxis(imageTensor[image, [2, 1, 0], :, :].numpy(), 0, 2)\n",
    "    rgb = skimage.exposure.rescale_intensity(skimage.exposure.equalize_adapthist(rgb), in_range = (0, .62))\n",
    "    met = plot3(rgb, masks[image, :, :],  (raw[image]).cpu().numpy().squeeze()  , tiles[image], ax = ax[image])\n",
    "    if met[0] != 0:\n",
    "        mets.append(met)\n",
    "#    plot3(s[0][image, 3, :, :], s[1][image, :, :],  torch.nn.functional.softmax(raw[image].squeeze(), dim=0).data.cpu().numpy())\n",
    "fig.suptitle(np.mean(np.array(mets)[:, :3], axis=1))\n",
    "\n",
    "\n",
    "plt.savefig(\"testout.png\")"
   ]
  },
  {
   "cell_type": "code",
   "execution_count": 18,
   "metadata": {},
   "outputs": [
    {
     "data": {
      "text/plain": [
       "tensor([[[0.0259, 0.0267, 0.0280,  ..., 0.0416, 0.0428, 0.0439],\n",
       "         [0.0255, 0.0263, 0.0277,  ..., 0.0436, 0.0447, 0.0457],\n",
       "         [0.0254, 0.0260, 0.0274,  ..., 0.0462, 0.0472, 0.0480],\n",
       "         ...,\n",
       "         [0.0374, 0.0342, 0.0302,  ..., 0.3643, 0.3174, 0.2828],\n",
       "         [0.0347, 0.0326, 0.0298,  ..., 0.3798, 0.3426, 0.3152],\n",
       "         [0.0325, 0.0312, 0.0295,  ..., 0.3905, 0.3602, 0.3378]],\n",
       "\n",
       "        [[0.0380, 0.0381, 0.0386,  ..., 0.0546, 0.0546, 0.0547],\n",
       "         [0.0377, 0.0380, 0.0388,  ..., 0.0562, 0.0560, 0.0561],\n",
       "         [0.0376, 0.0381, 0.0392,  ..., 0.0582, 0.0580, 0.0579],\n",
       "         ...,\n",
       "         [0.0455, 0.0428, 0.0393,  ..., 0.3721, 0.3291, 0.2970],\n",
       "         [0.0430, 0.0411, 0.0387,  ..., 0.3872, 0.3527, 0.3269],\n",
       "         [0.0410, 0.0398, 0.0382,  ..., 0.3975, 0.3691, 0.3478]],\n",
       "\n",
       "        [[0.0436, 0.0441, 0.0452,  ..., 0.0655, 0.0655, 0.0657],\n",
       "         [0.0431, 0.0438, 0.0452,  ..., 0.0676, 0.0677, 0.0679],\n",
       "         [0.0427, 0.0436, 0.0453,  ..., 0.0705, 0.0707, 0.0709],\n",
       "         ...,\n",
       "         [0.0521, 0.0492, 0.0455,  ..., 0.3841, 0.3356, 0.2993],\n",
       "         [0.0488, 0.0469, 0.0445,  ..., 0.3991, 0.3609, 0.3322],\n",
       "         [0.0462, 0.0450, 0.0436,  ..., 0.4092, 0.3784, 0.3551]],\n",
       "\n",
       "        [[0.1316, 0.1319, 0.1338,  ..., 0.1617, 0.1673, 0.1715],\n",
       "         [0.1320, 0.1324, 0.1344,  ..., 0.1645, 0.1697, 0.1736],\n",
       "         [0.1331, 0.1334, 0.1355,  ..., 0.1682, 0.1728, 0.1762],\n",
       "         ...,\n",
       "         [0.1363, 0.1283, 0.1174,  ..., 0.3894, 0.3664, 0.3500],\n",
       "         [0.1329, 0.1260, 0.1165,  ..., 0.4024, 0.3831, 0.3693],\n",
       "         [0.1307, 0.1245, 0.1161,  ..., 0.4116, 0.3949, 0.3830]]])"
      ]
     },
     "execution_count": 18,
     "metadata": {},
     "output_type": "execute_result"
    }
   ],
   "source": [
    "imageTensor[0]"
   ]
  },
  {
   "cell_type": "code",
   "execution_count": 26,
   "metadata": {},
   "outputs": [
    {
     "ename": "IndexError",
     "evalue": "index 50 is out of bounds for dimension 0 with size 8",
     "output_type": "error",
     "traceback": [
      "\u001b[0;31m---------------------------------------------------------------------------\u001b[0m",
      "\u001b[0;31mIndexError\u001b[0m                                Traceback (most recent call last)",
      "\u001b[0;32m<ipython-input-26-0929e9afb783>\u001b[0m in \u001b[0;36m<module>\u001b[0;34m()\u001b[0m\n\u001b[0;32m----> 1\u001b[0;31m (raw[50\n\u001b[0m\u001b[1;32m      2\u001b[0m     ] > 0).any()\n",
      "\u001b[0;31mIndexError\u001b[0m: index 50 is out of bounds for dimension 0 with size 8"
     ]
    }
   ],
   "source": [
    "(raw[50\n",
    "    ] > 0).any()\n"
   ]
  },
  {
   "cell_type": "code",
   "execution_count": null,
   "metadata": {},
   "outputs": [],
   "source": []
  }
 ],
 "metadata": {
  "kernelspec": {
   "display_name": "Environment (conda_pytorch_p36)",
   "language": "python",
   "name": "conda_pytorch_p36"
  },
  "language_info": {
   "codemirror_mode": {
    "name": "ipython",
    "version": 3
   },
   "file_extension": ".py",
   "mimetype": "text/x-python",
   "name": "python",
   "nbconvert_exporter": "python",
   "pygments_lexer": "ipython3",
   "version": "3.6.9"
  }
 },
 "nbformat": 4,
 "nbformat_minor": 2
}
