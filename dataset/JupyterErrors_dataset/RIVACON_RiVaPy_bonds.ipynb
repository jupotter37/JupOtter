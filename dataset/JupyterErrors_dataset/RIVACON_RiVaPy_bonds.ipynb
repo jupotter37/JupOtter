{
 "cells": [
  {
   "cell_type": "code",
   "execution_count": 1,
   "metadata": {
    "ExecuteTime": {
     "end_time": "2023-01-02T16:10:57.488619Z",
     "start_time": "2023-01-02T16:10:56.462244Z"
    }
   },
   "outputs": [
    {
     "name": "stderr",
     "output_type": "stream",
     "text": [
      "/home/doeltz/doeltz/development/RiVaPy/notebooks/instruments/../../rivapy/__init__.py:8: UserWarning: The pyvacon module is not available. You may not use all functionality without this module. Consider installing pyvacon.\n",
      "  warnings.warn('The pyvacon module is not available. You may not use all functionality without this module. Consider installing pyvacon.')\n"
     ]
    },
    {
     "data": {
      "text/html": [
       "<style>.container { width:80% !important; }</style>"
      ],
      "text/plain": [
       "<IPython.core.display.HTML object>"
      ]
     },
     "metadata": {},
     "output_type": "display_data"
    }
   ],
   "source": [
    "import sys\n",
    "import datetime as dt\n",
    "sys.path.insert(0,'../..')\n",
    "import matplotlib.pyplot as plt\n",
    "from rivapy.instruments import ZeroCouponBondSpecification, FixedRateBondSpecification, PlainVanillaCouponBondSpecification\n",
    "from rivapy.instruments.factory import create\n",
    "from rivapy.tools.enums import DayCounterType, RollConvention, SecuritizationLevel, Currency\n",
    "from rivapy.pricing import bond_pricing\n",
    "from IPython.display import display, HTML\n",
    "display(HTML(\"<style>.container { width:80% !important; }</style>\"))\n",
    "\n",
    "%load_ext autoreload\n",
    "%autoreload 2\n",
    "\n",
    "%matplotlib inline"
   ]
  },
  {
   "cell_type": "code",
   "execution_count": 2,
   "metadata": {
    "ExecuteTime": {
     "end_time": "2023-01-02T16:11:00.655810Z",
     "start_time": "2023-01-02T16:11:00.632700Z"
    },
    "code_folding": [
     7
    ]
   },
   "outputs": [],
   "source": [
    "from collections.abc import Callable\n",
    "import datetime as dt\n",
    "import pandas as pd\n",
    "import rivapy.tools.interfaces as interfaces\n",
    "from rivapy.instruments.factory import create as _instrument_create\n",
    "from rivapy.marketdata.factory import create as _marketdata_create\n",
    "\n",
    "class MemoryStorage:\n",
    "    def __init__(self, create: Callable[[dict], object]):\n",
    "        self._store = {}\n",
    "        self.create = create\n",
    "        \n",
    "    def add(self, instrument: interfaces.FactoryObject):\n",
    "        if instrument.obj_id in self._store.keys():\n",
    "            tmp = self._store[instrument.obj_id][-1]\n",
    "            ins_dict = instrument.to_dict()\n",
    "            if interfaces.FactoryObject.hash_for_dict(tmp) != interfaces.FactoryObject.hash_for_dict(ins_dict):\n",
    "                self._store[instrument.obj_id].append(ins_dict)\n",
    "        else:\n",
    "            self._store[instrument.obj_id] = [instrument.to_dict()]\n",
    "            \n",
    "    def get_by_id(self, obj_id: str):\n",
    "        if obj_id in self._store.keys():\n",
    "            return self.create(self._store[obj_id][-1])\n",
    "        else:\n",
    "            raise Exception('No instrument with id ' + obj_id + ' exists in storage.')\n",
    "        \n",
    "    def _append_values(self, results: dict, keys: list):\n",
    "        for k,v in self._store.items():\n",
    "            obj = v[-1]\n",
    "            for r in results.keys():\n",
    "                if r == 'num_version':\n",
    "                    results[r].append(len(v))\n",
    "                else:\n",
    "                    results[r].append(obj.get(r))\n",
    "        \n",
    "    def get_object_list(self, keys=['obj_id', 'cls', 'expiry', 'issue_date' ]):\n",
    "        num_version = []\n",
    "        tmp ={k:[] for k in keys}\n",
    "        tmp['num_version'] = []\n",
    "        self._append_values(tmp, keys)\n",
    "        return pd.DataFrame(tmp)"
   ]
  },
  {
   "cell_type": "code",
   "execution_count": 3,
   "metadata": {
    "ExecuteTime": {
     "end_time": "2023-01-02T16:11:01.547734Z",
     "start_time": "2023-01-02T16:11:01.510921Z"
    }
   },
   "outputs": [],
   "source": [
    "ins_store = MemoryStorage(_instrument_create)\n",
    "mkt_store = MemoryStorage(_marketdata_create)"
   ]
  },
  {
   "cell_type": "code",
   "execution_count": 4,
   "metadata": {
    "ExecuteTime": {
     "end_time": "2023-01-02T16:11:02.079127Z",
     "start_time": "2023-01-02T16:11:02.061390Z"
    }
   },
   "outputs": [],
   "source": [
    "for days in range (30,90, 30):\n",
    "    bond = ZeroCouponBondSpecification('BOND_'+str(days), issue_date = dt.datetime(2023,1,1), maturity_date=dt.datetime(2023,1,1) + dt.timedelta(days=days), \n",
    "                              currency=Currency.EUR, notional=10.0, issuer='Depp2', \n",
    "                            securitization_level=SecuritizationLevel.SUBORDINATED)\n",
    "    ins_store.add(bond)\n",
    "    \n",
    "ins_store.add(PlainVanillaCouponBondSpecification('PV_BOND_'+str(days), \n",
    "                                     issue_date = dt.datetime(2023,1,1),\n",
    "                                     maturity_date=dt.datetime(2025,1,2), \n",
    "                                    currency=Currency.EUR, notional=1.0, \n",
    "                                     issuer='Depp', \n",
    "                                    securitization_level=SecuritizationLevel.SUBORDINATED, \n",
    "                                    coupon = 0.05, coupon_freq='1Y', accrual_start = dt.datetime(2023,2,10)))"
   ]
  },
  {
   "cell_type": "code",
   "execution_count": 15,
   "metadata": {
    "ExecuteTime": {
     "end_time": "2023-01-02T16:22:12.206544Z",
     "start_time": "2023-01-02T16:22:11.864067Z"
    }
   },
   "outputs": [
    {
     "ename": "TypeError",
     "evalue": "can't compare datetime.datetime to datetime.date",
     "output_type": "error",
     "traceback": [
      "\u001b[0;31m---------------------------------------------------------------------------\u001b[0m",
      "\u001b[0;31mTypeError\u001b[0m                                 Traceback (most recent call last)",
      "\u001b[0;32m/tmp/ipykernel_146436/56054797.py\u001b[0m in \u001b[0;36m<module>\u001b[0;34m\u001b[0m\n\u001b[1;32m      6\u001b[0m                                     \u001b[0msecuritization_level\u001b[0m\u001b[0;34m=\u001b[0m\u001b[0mSecuritizationLevel\u001b[0m\u001b[0;34m.\u001b[0m\u001b[0mSUBORDINATED\u001b[0m\u001b[0;34m,\u001b[0m\u001b[0;34m\u001b[0m\u001b[0;34m\u001b[0m\u001b[0m\n\u001b[1;32m      7\u001b[0m                                     coupon = 0.05, coupon_freq='1Y', accrual_start = dt.datetime(2023,2,10))\n\u001b[0;32m----> 8\u001b[0;31m \u001b[0mbond_spec\u001b[0m\u001b[0;34m.\u001b[0m\u001b[0mexpected_cashflows\u001b[0m\u001b[0;34m(\u001b[0m\u001b[0;34m)\u001b[0m\u001b[0;34m\u001b[0m\u001b[0;34m\u001b[0m\u001b[0m\n\u001b[0m",
      "\u001b[0;32m~/doeltz/development/RiVaPy/notebooks/instruments/../../rivapy/instruments/bond_specifications.py\u001b[0m in \u001b[0;36mexpected_cashflows\u001b[0;34m(self)\u001b[0m\n\u001b[1;32m    260\u001b[0m         \u001b[0;32melif\u001b[0m \u001b[0mperiod\u001b[0m\u001b[0;34m.\u001b[0m\u001b[0mdays\u001b[0m \u001b[0;34m>\u001b[0m \u001b[0;36m0\u001b[0m\u001b[0;34m:\u001b[0m\u001b[0;34m\u001b[0m\u001b[0;34m\u001b[0m\u001b[0m\n\u001b[1;32m    261\u001b[0m             \u001b[0mcoupon_multiplier\u001b[0m \u001b[0;34m=\u001b[0m \u001b[0mperiod\u001b[0m\u001b[0;34m.\u001b[0m\u001b[0mdays\u001b[0m\u001b[0;34m/\u001b[0m\u001b[0;36m365.0\u001b[0m\u001b[0;34m\u001b[0m\u001b[0;34m\u001b[0m\u001b[0m\n\u001b[0;32m--> 262\u001b[0;31m         \u001b[0mschedule\u001b[0m \u001b[0;34m=\u001b[0m \u001b[0mSchedule\u001b[0m\u001b[0;34m(\u001b[0m\u001b[0mself\u001b[0m\u001b[0;34m.\u001b[0m\u001b[0maccrual_start\u001b[0m\u001b[0;34m,\u001b[0m \u001b[0mself\u001b[0m\u001b[0;34m.\u001b[0m\u001b[0mmaturity_date\u001b[0m\u001b[0;34m,\u001b[0m \u001b[0mperiod\u001b[0m\u001b[0;34m,\u001b[0m \u001b[0mstub\u001b[0m\u001b[0;34m=\u001b[0m\u001b[0mself\u001b[0m\u001b[0;34m.\u001b[0m\u001b[0mstub\u001b[0m\u001b[0;34m)\u001b[0m\u001b[0;34m.\u001b[0m\u001b[0mgenerate_dates\u001b[0m\u001b[0;34m(\u001b[0m\u001b[0mends_only\u001b[0m\u001b[0;34m=\u001b[0m\u001b[0;32mTrue\u001b[0m\u001b[0;34m)\u001b[0m\u001b[0;34m\u001b[0m\u001b[0;34m\u001b[0m\u001b[0m\n\u001b[0m\u001b[1;32m    263\u001b[0m         \u001b[0mresult\u001b[0m \u001b[0;34m=\u001b[0m \u001b[0;34m[\u001b[0m\u001b[0;34m(\u001b[0m\u001b[0md\u001b[0m\u001b[0;34m,\u001b[0m \u001b[0mself\u001b[0m\u001b[0;34m.\u001b[0m\u001b[0mcoupon\u001b[0m\u001b[0;34m*\u001b[0m\u001b[0mcoupon_multiplier\u001b[0m\u001b[0;34m)\u001b[0m \u001b[0;32mfor\u001b[0m \u001b[0md\u001b[0m \u001b[0;32min\u001b[0m \u001b[0mschedule\u001b[0m\u001b[0;34m]\u001b[0m\u001b[0;34m\u001b[0m\u001b[0;34m\u001b[0m\u001b[0m\n\u001b[1;32m    264\u001b[0m         \u001b[0mresult\u001b[0m\u001b[0;34m.\u001b[0m\u001b[0minsert\u001b[0m\u001b[0;34m(\u001b[0m\u001b[0;36m0\u001b[0m\u001b[0;34m,\u001b[0m \u001b[0;34m(\u001b[0m\u001b[0mself\u001b[0m\u001b[0;34m.\u001b[0m\u001b[0maccrual_start\u001b[0m\u001b[0;34m,\u001b[0m \u001b[0;36m0.0\u001b[0m\u001b[0;34m)\u001b[0m\u001b[0;34m)\u001b[0m\u001b[0;31m# the first entry of this schedule is the accrual start which has a cashflow of zero and is just used for accrual calculation\u001b[0m\u001b[0;34m\u001b[0m\u001b[0;34m\u001b[0m\u001b[0m\n",
      "\u001b[0;32m~/doeltz/development/RiVaPy/notebooks/instruments/../../rivapy/tools/datetools.py\u001b[0m in \u001b[0;36mgenerate_dates\u001b[0;34m(self, ends_only)\u001b[0m\n\u001b[1;32m    346\u001b[0m         \u001b[0;31m# roll out dates ignoring any business day issues\u001b[0m\u001b[0;34m\u001b[0m\u001b[0;34m\u001b[0m\u001b[0m\n\u001b[1;32m    347\u001b[0m         \u001b[0;32mif\u001b[0m \u001b[0mself\u001b[0m\u001b[0;34m.\u001b[0m\u001b[0m__backwards\u001b[0m\u001b[0;34m:\u001b[0m\u001b[0;34m\u001b[0m\u001b[0;34m\u001b[0m\u001b[0m\n\u001b[0;32m--> 348\u001b[0;31m             schedule_dates = Schedule._roll_out(self.__end_day, self.__start_day, self.__time_period,\n\u001b[0m\u001b[1;32m    349\u001b[0m                                                 True, self.__stub)\n\u001b[1;32m    350\u001b[0m             \u001b[0mschedule_dates\u001b[0m\u001b[0;34m.\u001b[0m\u001b[0mreverse\u001b[0m\u001b[0;34m(\u001b[0m\u001b[0;34m)\u001b[0m\u001b[0;34m\u001b[0m\u001b[0;34m\u001b[0m\u001b[0m\n",
      "\u001b[0;32m~/doeltz/development/RiVaPy/notebooks/instruments/../../rivapy/tools/datetools.py\u001b[0m in \u001b[0;36m_roll_out\u001b[0;34m(from_, to_, term, backwards, allow_stub)\u001b[0m\n\u001b[1;32m    308\u001b[0m \u001b[0;34m\u001b[0m\u001b[0m\n\u001b[1;32m    309\u001b[0m         \u001b[0;31m# check input consistency:\u001b[0m\u001b[0;34m\u001b[0m\u001b[0;34m\u001b[0m\u001b[0m\n\u001b[0;32m--> 310\u001b[0;31m         \u001b[0;32mif\u001b[0m \u001b[0;34m(\u001b[0m\u001b[0;34m~\u001b[0m\u001b[0mbackwards\u001b[0m\u001b[0;34m)\u001b[0m \u001b[0;34m&\u001b[0m \u001b[0;34m(\u001b[0m\u001b[0mfrom_\u001b[0m \u001b[0;34m<\u001b[0m \u001b[0mto_\u001b[0m\u001b[0;34m)\u001b[0m\u001b[0;34m:\u001b[0m\u001b[0;34m\u001b[0m\u001b[0;34m\u001b[0m\u001b[0m\n\u001b[0m\u001b[1;32m    311\u001b[0m             \u001b[0mdirection\u001b[0m \u001b[0;34m=\u001b[0m \u001b[0;34m+\u001b[0m\u001b[0;36m1\u001b[0m\u001b[0;34m\u001b[0m\u001b[0;34m\u001b[0m\u001b[0m\n\u001b[1;32m    312\u001b[0m         \u001b[0;32melif\u001b[0m \u001b[0mbackwards\u001b[0m \u001b[0;34m&\u001b[0m \u001b[0;34m(\u001b[0m\u001b[0mfrom_\u001b[0m \u001b[0;34m>\u001b[0m \u001b[0mto_\u001b[0m\u001b[0;34m)\u001b[0m\u001b[0;34m:\u001b[0m\u001b[0;34m\u001b[0m\u001b[0;34m\u001b[0m\u001b[0m\n",
      "\u001b[0;31mTypeError\u001b[0m: can't compare datetime.datetime to datetime.date"
     ]
    }
   ],
   "source": [
    "bond_spec = PlainVanillaCouponBondSpecification('PV_BOND_'+str(days), \n",
    "                                     issue_date = dt.datetime(2023,1,1),\n",
    "                                     maturity_date=dt.datetime(2025,1,2), \n",
    "                                    currency=Currency.EUR, notional=1.0, \n",
    "                                     issuer='Depp', \n",
    "                                    securitization_level=SecuritizationLevel.SUBORDINATED, \n",
    "                                    coupon = 0.05, coupon_freq='1Y', accrual_start = dt.datetime(2023,2,10))\n",
    "bond_spec.expected_cashflows()"
   ]
  },
  {
   "cell_type": "code",
   "execution_count": 10,
   "metadata": {
    "ExecuteTime": {
     "end_time": "2023-01-02T16:13:48.117406Z",
     "start_time": "2023-01-02T16:13:48.071152Z"
    }
   },
   "outputs": [
    {
     "ename": "TypeError",
     "evalue": "can't compare datetime.datetime to datetime.date",
     "output_type": "error",
     "traceback": [
      "\u001b[0;31m---------------------------------------------------------------------------\u001b[0m",
      "\u001b[0;31mTypeError\u001b[0m                                 Traceback (most recent call last)",
      "\u001b[0;32m/tmp/ipykernel_146436/3847429729.py\u001b[0m in \u001b[0;36m<module>\u001b[0;34m\u001b[0m\n\u001b[0;32m----> 1\u001b[0;31m \u001b[0mbond_pricing\u001b[0m\u001b[0;34m.\u001b[0m\u001b[0mSimpleCashflowPricer\u001b[0m\u001b[0;34m.\u001b[0m\u001b[0mcompute_yield\u001b[0m\u001b[0;34m(\u001b[0m\u001b[0mtarget_dirty_price\u001b[0m\u001b[0;34m=\u001b[0m\u001b[0;36m100.0\u001b[0m\u001b[0;34m,\u001b[0m \u001b[0mval_date\u001b[0m \u001b[0;34m=\u001b[0m \u001b[0mdt\u001b[0m\u001b[0;34m.\u001b[0m\u001b[0mdatetime\u001b[0m\u001b[0;34m(\u001b[0m\u001b[0;36m2023\u001b[0m\u001b[0;34m,\u001b[0m\u001b[0;36m5\u001b[0m\u001b[0;34m,\u001b[0m\u001b[0;36m1\u001b[0m\u001b[0;34m)\u001b[0m\u001b[0;34m,\u001b[0m \u001b[0mspecification\u001b[0m\u001b[0;34m=\u001b[0m\u001b[0mbond_spec\u001b[0m\u001b[0;34m)\u001b[0m\u001b[0;34m\u001b[0m\u001b[0;34m\u001b[0m\u001b[0m\n\u001b[0m",
      "\u001b[0;32m~/doeltz/development/RiVaPy/notebooks/instruments/../../rivapy/pricing/bond_pricing.py\u001b[0m in \u001b[0;36mcompute_yield\u001b[0;34m(target_dirty_price, val_date, specification)\u001b[0m\n\u001b[1;32m     21\u001b[0m             \u001b[0mdc\u001b[0m \u001b[0;34m=\u001b[0m \u001b[0mDiscountCurveParametrized\u001b[0m\u001b[0;34m(\u001b[0m\u001b[0;34m''\u001b[0m\u001b[0;34m,\u001b[0m \u001b[0mval_date\u001b[0m\u001b[0;34m,\u001b[0m \u001b[0mConstantRate\u001b[0m\u001b[0;34m(\u001b[0m\u001b[0mr\u001b[0m\u001b[0;34m)\u001b[0m\u001b[0;34m)\u001b[0m\u001b[0;34m\u001b[0m\u001b[0;34m\u001b[0m\u001b[0m\n\u001b[1;32m     22\u001b[0m             \u001b[0;32mreturn\u001b[0m \u001b[0mSimpleCashflowPricer\u001b[0m\u001b[0;34m.\u001b[0m\u001b[0mpv_cashflows\u001b[0m\u001b[0;34m(\u001b[0m\u001b[0mval_date\u001b[0m\u001b[0;34m,\u001b[0m \u001b[0mspecification\u001b[0m\u001b[0;34m,\u001b[0m \u001b[0mdc\u001b[0m\u001b[0;34m)\u001b[0m\u001b[0;34m-\u001b[0m\u001b[0mtarget_dirty_price\u001b[0m\u001b[0;34m\u001b[0m\u001b[0;34m\u001b[0m\u001b[0m\n\u001b[0;32m---> 23\u001b[0;31m         \u001b[0mbrentq\u001b[0m\u001b[0;34m(\u001b[0m\u001b[0mtarget_function\u001b[0m\u001b[0;34m,\u001b[0m \u001b[0;34m-\u001b[0m\u001b[0;36m0.2\u001b[0m\u001b[0;34m,\u001b[0m \u001b[0;36m0.2\u001b[0m\u001b[0;34m,\u001b[0m \u001b[0mfull_output\u001b[0m \u001b[0;34m=\u001b[0m \u001b[0;32mFalse\u001b[0m\u001b[0;34m)\u001b[0m\u001b[0;34m\u001b[0m\u001b[0;34m\u001b[0m\u001b[0m\n\u001b[0m",
      "\u001b[0;32m~/anaconda3/envs/aifa/lib/python3.9/site-packages/scipy/optimize/zeros.py\u001b[0m in \u001b[0;36mbrentq\u001b[0;34m(f, a, b, args, xtol, rtol, maxiter, full_output, disp)\u001b[0m\n\u001b[1;32m    774\u001b[0m     \u001b[0;32mif\u001b[0m \u001b[0mrtol\u001b[0m \u001b[0;34m<\u001b[0m \u001b[0m_rtol\u001b[0m\u001b[0;34m:\u001b[0m\u001b[0;34m\u001b[0m\u001b[0;34m\u001b[0m\u001b[0m\n\u001b[1;32m    775\u001b[0m         \u001b[0;32mraise\u001b[0m \u001b[0mValueError\u001b[0m\u001b[0;34m(\u001b[0m\u001b[0;34m\"rtol too small (%g < %g)\"\u001b[0m \u001b[0;34m%\u001b[0m \u001b[0;34m(\u001b[0m\u001b[0mrtol\u001b[0m\u001b[0;34m,\u001b[0m \u001b[0m_rtol\u001b[0m\u001b[0;34m)\u001b[0m\u001b[0;34m)\u001b[0m\u001b[0;34m\u001b[0m\u001b[0;34m\u001b[0m\u001b[0m\n\u001b[0;32m--> 776\u001b[0;31m     \u001b[0mr\u001b[0m \u001b[0;34m=\u001b[0m \u001b[0m_zeros\u001b[0m\u001b[0;34m.\u001b[0m\u001b[0m_brentq\u001b[0m\u001b[0;34m(\u001b[0m\u001b[0mf\u001b[0m\u001b[0;34m,\u001b[0m \u001b[0ma\u001b[0m\u001b[0;34m,\u001b[0m \u001b[0mb\u001b[0m\u001b[0;34m,\u001b[0m \u001b[0mxtol\u001b[0m\u001b[0;34m,\u001b[0m \u001b[0mrtol\u001b[0m\u001b[0;34m,\u001b[0m \u001b[0mmaxiter\u001b[0m\u001b[0;34m,\u001b[0m \u001b[0margs\u001b[0m\u001b[0;34m,\u001b[0m \u001b[0mfull_output\u001b[0m\u001b[0;34m,\u001b[0m \u001b[0mdisp\u001b[0m\u001b[0;34m)\u001b[0m\u001b[0;34m\u001b[0m\u001b[0;34m\u001b[0m\u001b[0m\n\u001b[0m\u001b[1;32m    777\u001b[0m     \u001b[0;32mreturn\u001b[0m \u001b[0mresults_c\u001b[0m\u001b[0;34m(\u001b[0m\u001b[0mfull_output\u001b[0m\u001b[0;34m,\u001b[0m \u001b[0mr\u001b[0m\u001b[0;34m)\u001b[0m\u001b[0;34m\u001b[0m\u001b[0;34m\u001b[0m\u001b[0m\n\u001b[1;32m    778\u001b[0m \u001b[0;34m\u001b[0m\u001b[0m\n",
      "\u001b[0;32m~/doeltz/development/RiVaPy/notebooks/instruments/../../rivapy/pricing/bond_pricing.py\u001b[0m in \u001b[0;36mtarget_function\u001b[0;34m(r)\u001b[0m\n\u001b[1;32m     20\u001b[0m         \u001b[0;32mdef\u001b[0m \u001b[0mtarget_function\u001b[0m\u001b[0;34m(\u001b[0m\u001b[0mr\u001b[0m\u001b[0;34m:\u001b[0m \u001b[0mfloat\u001b[0m\u001b[0;34m)\u001b[0m\u001b[0;34m->\u001b[0m\u001b[0mfloat\u001b[0m\u001b[0;34m:\u001b[0m\u001b[0;34m\u001b[0m\u001b[0;34m\u001b[0m\u001b[0m\n\u001b[1;32m     21\u001b[0m             \u001b[0mdc\u001b[0m \u001b[0;34m=\u001b[0m \u001b[0mDiscountCurveParametrized\u001b[0m\u001b[0;34m(\u001b[0m\u001b[0;34m''\u001b[0m\u001b[0;34m,\u001b[0m \u001b[0mval_date\u001b[0m\u001b[0;34m,\u001b[0m \u001b[0mConstantRate\u001b[0m\u001b[0;34m(\u001b[0m\u001b[0mr\u001b[0m\u001b[0;34m)\u001b[0m\u001b[0;34m)\u001b[0m\u001b[0;34m\u001b[0m\u001b[0;34m\u001b[0m\u001b[0m\n\u001b[0;32m---> 22\u001b[0;31m             \u001b[0;32mreturn\u001b[0m \u001b[0mSimpleCashflowPricer\u001b[0m\u001b[0;34m.\u001b[0m\u001b[0mpv_cashflows\u001b[0m\u001b[0;34m(\u001b[0m\u001b[0mval_date\u001b[0m\u001b[0;34m,\u001b[0m \u001b[0mspecification\u001b[0m\u001b[0;34m,\u001b[0m \u001b[0mdc\u001b[0m\u001b[0;34m)\u001b[0m\u001b[0;34m-\u001b[0m\u001b[0mtarget_dirty_price\u001b[0m\u001b[0;34m\u001b[0m\u001b[0;34m\u001b[0m\u001b[0m\n\u001b[0m\u001b[1;32m     23\u001b[0m         \u001b[0mbrentq\u001b[0m\u001b[0;34m(\u001b[0m\u001b[0mtarget_function\u001b[0m\u001b[0;34m,\u001b[0m \u001b[0;34m-\u001b[0m\u001b[0;36m0.2\u001b[0m\u001b[0;34m,\u001b[0m \u001b[0;36m0.2\u001b[0m\u001b[0;34m,\u001b[0m \u001b[0mfull_output\u001b[0m \u001b[0;34m=\u001b[0m \u001b[0;32mFalse\u001b[0m\u001b[0;34m)\u001b[0m\u001b[0;34m\u001b[0m\u001b[0;34m\u001b[0m\u001b[0m\n",
      "\u001b[0;32m~/doeltz/development/RiVaPy/notebooks/instruments/../../rivapy/pricing/bond_pricing.py\u001b[0m in \u001b[0;36mpv_cashflows\u001b[0;34m(val_date, specification, discount_curve)\u001b[0m\n\u001b[1;32m     11\u001b[0m         \u001b[0mpv_cashflows\u001b[0m \u001b[0;34m=\u001b[0m \u001b[0;36m0.0\u001b[0m\u001b[0;34m\u001b[0m\u001b[0;34m\u001b[0m\u001b[0m\n\u001b[1;32m     12\u001b[0m         \u001b[0;32mfor\u001b[0m \u001b[0mc\u001b[0m \u001b[0;32min\u001b[0m \u001b[0mcashflows\u001b[0m\u001b[0;34m:\u001b[0m\u001b[0;34m\u001b[0m\u001b[0;34m\u001b[0m\u001b[0m\n\u001b[0;32m---> 13\u001b[0;31m             \u001b[0;32mif\u001b[0m \u001b[0mc\u001b[0m\u001b[0;34m[\u001b[0m\u001b[0;36m0\u001b[0m\u001b[0;34m]\u001b[0m\u001b[0;34m>=\u001b[0m \u001b[0mval_date\u001b[0m\u001b[0;34m:\u001b[0m\u001b[0;34m\u001b[0m\u001b[0;34m\u001b[0m\u001b[0m\n\u001b[0m\u001b[1;32m     14\u001b[0m                 \u001b[0mpv_cashflows\u001b[0m \u001b[0;34m+=\u001b[0m \u001b[0mdiscount_curve\u001b[0m\u001b[0;34m.\u001b[0m\u001b[0mvalue\u001b[0m\u001b[0;34m(\u001b[0m\u001b[0mval_date\u001b[0m\u001b[0;34m,\u001b[0m \u001b[0mc\u001b[0m\u001b[0;34m[\u001b[0m\u001b[0;36m0\u001b[0m\u001b[0;34m]\u001b[0m\u001b[0;34m)\u001b[0m\u001b[0;34m*\u001b[0m\u001b[0mc\u001b[0m\u001b[0;34m[\u001b[0m\u001b[0;36m1\u001b[0m\u001b[0;34m]\u001b[0m\u001b[0;34m\u001b[0m\u001b[0;34m\u001b[0m\u001b[0m\n\u001b[1;32m     15\u001b[0m         \u001b[0;32mreturn\u001b[0m \u001b[0mpv_cashflows\u001b[0m\u001b[0;34m\u001b[0m\u001b[0;34m\u001b[0m\u001b[0m\n",
      "\u001b[0;31mTypeError\u001b[0m: can't compare datetime.datetime to datetime.date"
     ]
    }
   ],
   "source": [
    "bond_pricing.SimpleCashflowPricer.compute_yield(target_dirty_price=100.0, val_date = dt.datetime(2023,5,1), specification=bond_spec)"
   ]
  },
  {
   "cell_type": "code",
   "execution_count": 6,
   "metadata": {
    "ExecuteTime": {
     "end_time": "2023-01-02T13:10:43.785721Z",
     "start_time": "2023-01-02T13:10:43.774242Z"
    }
   },
   "outputs": [
    {
     "data": {
      "text/plain": [
       "[(datetime.datetime(2023, 2, 10, 0, 0), 0.0),\n",
       " (datetime.date(2024, 1, 2), 0.05),\n",
       " (datetime.date(2025, 1, 2), 0.05),\n",
       " (datetime.date(2025, 1, 2), 1.0)]"
      ]
     },
     "execution_count": 6,
     "metadata": {},
     "output_type": "execute_result"
    }
   ],
   "source": [
    "pv_bond.expected_cashflows()"
   ]
  },
  {
   "cell_type": "code",
   "execution_count": 7,
   "metadata": {
    "ExecuteTime": {
     "end_time": "2023-01-02T13:10:43.797286Z",
     "start_time": "2023-01-02T13:10:43.786584Z"
    }
   },
   "outputs": [
    {
     "data": {
      "text/plain": [
       "{'accrual_start': datetime.datetime(2023, 2, 10, 0, 0),\n",
       " 'coupon_freq': '1Y',\n",
       " 'coupon': 0.05,\n",
       " 'obj_id': 'PV_BOND_60',\n",
       " 'issuer': 'Depp',\n",
       " 'securitization_level': 'SUBORDINATED',\n",
       " 'issue_date': datetime.date(2023, 1, 1),\n",
       " 'maturity_date': datetime.date(2025, 1, 2),\n",
       " 'currency': 'EUR',\n",
       " 'notional': 1.0,\n",
       " 'cls': 'PlainVanillaCouponBondSpecification'}"
      ]
     },
     "execution_count": 7,
     "metadata": {},
     "output_type": "execute_result"
    }
   ],
   "source": [
    "pv_bond.to_dict()"
   ]
  },
  {
   "cell_type": "code",
   "execution_count": 8,
   "metadata": {
    "ExecuteTime": {
     "end_time": "2023-01-02T13:10:43.814756Z",
     "start_time": "2023-01-02T13:10:43.798212Z"
    }
   },
   "outputs": [
    {
     "data": {
      "text/html": [
       "<div>\n",
       "<style scoped>\n",
       "    .dataframe tbody tr th:only-of-type {\n",
       "        vertical-align: middle;\n",
       "    }\n",
       "\n",
       "    .dataframe tbody tr th {\n",
       "        vertical-align: top;\n",
       "    }\n",
       "\n",
       "    .dataframe thead th {\n",
       "        text-align: right;\n",
       "    }\n",
       "</style>\n",
       "<table border=\"1\" class=\"dataframe\">\n",
       "  <thead>\n",
       "    <tr style=\"text-align: right;\">\n",
       "      <th></th>\n",
       "      <th>obj_id</th>\n",
       "      <th>cls</th>\n",
       "      <th>maturity_date</th>\n",
       "      <th>issue_date</th>\n",
       "      <th>issuer</th>\n",
       "      <th>securitisation_level</th>\n",
       "      <th>num_version</th>\n",
       "    </tr>\n",
       "  </thead>\n",
       "  <tbody>\n",
       "    <tr>\n",
       "      <th>0</th>\n",
       "      <td>BOND_30</td>\n",
       "      <td>ZeroCouponBondSpecification</td>\n",
       "      <td>2023-01-31</td>\n",
       "      <td>2023-01-01</td>\n",
       "      <td>Depp2</td>\n",
       "      <td>None</td>\n",
       "      <td>1</td>\n",
       "    </tr>\n",
       "    <tr>\n",
       "      <th>1</th>\n",
       "      <td>BOND_60</td>\n",
       "      <td>ZeroCouponBondSpecification</td>\n",
       "      <td>2023-03-02</td>\n",
       "      <td>2023-01-01</td>\n",
       "      <td>Depp2</td>\n",
       "      <td>None</td>\n",
       "      <td>1</td>\n",
       "    </tr>\n",
       "    <tr>\n",
       "      <th>2</th>\n",
       "      <td>PV_BOND_60</td>\n",
       "      <td>PlainVanillaCouponBondSpecification</td>\n",
       "      <td>2025-01-02</td>\n",
       "      <td>2023-01-01</td>\n",
       "      <td>Depp</td>\n",
       "      <td>None</td>\n",
       "      <td>1</td>\n",
       "    </tr>\n",
       "  </tbody>\n",
       "</table>\n",
       "</div>"
      ],
      "text/plain": [
       "       obj_id                                  cls maturity_date  issue_date  \\\n",
       "0     BOND_30          ZeroCouponBondSpecification    2023-01-31  2023-01-01   \n",
       "1     BOND_60          ZeroCouponBondSpecification    2023-03-02  2023-01-01   \n",
       "2  PV_BOND_60  PlainVanillaCouponBondSpecification    2025-01-02  2023-01-01   \n",
       "\n",
       "  issuer securitisation_level  num_version  \n",
       "0  Depp2                 None            1  \n",
       "1  Depp2                 None            1  \n",
       "2   Depp                 None            1  "
      ]
     },
     "execution_count": 8,
     "metadata": {},
     "output_type": "execute_result"
    }
   ],
   "source": [
    "ins_store.get_object_list(keys=['obj_id', 'cls', 'maturity_date', 'issue_date', 'issuer', 'securitisation_level' ])"
   ]
  },
  {
   "cell_type": "code",
   "execution_count": 17,
   "metadata": {
    "ExecuteTime": {
     "end_time": "2023-01-02T14:12:35.707284Z",
     "start_time": "2023-01-02T14:12:35.376476Z"
    }
   },
   "outputs": [],
   "source": [
    "from rivapy.marketdata.curves import NelsonSiegel, DiscountCurveParametrized\n",
    "\n",
    "ns = NelsonSiegel(beta0=0.1, beta1 = 0.02, beta2=0.1, tau=1.0)\n",
    "dc = DiscountCurveParametrized('DC',  refdate = dt.datetime(2023,1,1), rate_parametrization=ns, \n",
    "                               daycounter = DayCounterType.Act365Fixed)\n",
    "#mkt_store.add(dc)"
   ]
  },
  {
   "cell_type": "code",
   "execution_count": 19,
   "metadata": {
    "ExecuteTime": {
     "end_time": "2023-01-02T14:12:40.910826Z",
     "start_time": "2023-01-02T14:12:40.799160Z"
    }
   },
   "outputs": [
    {
     "data": {
      "text/plain": [
       "[<matplotlib.lines.Line2D at 0x7fe8c4c87af0>]"
      ]
     },
     "execution_count": 19,
     "metadata": {},
     "output_type": "execute_result"
    },
    {
     "data": {
      "image/png": "[encoded data removed]",
      "text/plain": [
       "<Figure size 432x288 with 1 Axes>"
      ]
     },
     "metadata": {
      "needs_background": "light"
     },
     "output_type": "display_data"
    }
   ],
   "source": [
    "mkt_store.get_by_id('DC')\n",
    "dates = [dt.datetime(2023,1,1) + dt.timedelta(days=30*days) for days in range(120)]\n",
    "values = [dc.value(refdate = dt.datetime(2023,1,1),d=d) for d in dates]\n",
    "plt.plot(dates, values)"
   ]
  },
  {
   "cell_type": "code",
   "execution_count": null,
   "metadata": {},
   "outputs": [],
   "source": []
  }
 ],
 "metadata": {
  "hide_input": false,
  "kernelspec": {
   "display_name": "Python 3 (ipykernel)",
   "language": "python",
   "name": "python3"
  },
  "language_info": {
   "codemirror_mode": {
    "name": "ipython",
    "version": 3
   },
   "file_extension": ".py",
   "mimetype": "text/x-python",
   "name": "python",
   "nbconvert_exporter": "python",
   "pygments_lexer": "ipython3",
   "version": "3.9.7"
  },
  "toc": {
   "base_numbering": 1,
   "nav_menu": {},
   "number_sections": false,
   "sideBar": false,
   "skip_h1_title": false,
   "title_cell": "Table of Contents",
   "title_sidebar": "Contents",
   "toc_cell": false,
   "toc_position": {},
   "toc_section_display": false,
   "toc_window_display": false
  },
  "varInspector": {
   "cols": {
    "lenName": 16,
    "lenType": 16,
    "lenVar": 40
   },
   "kernels_config": {
    "python": {
     "delete_cmd_postfix": "",
     "delete_cmd_prefix": "del ",
     "library": "var_list.py",
     "varRefreshCmd": "print(var_dic_list())"
    },
    "r": {
     "delete_cmd_postfix": ") ",
     "delete_cmd_prefix": "rm(",
     "library": "var_list.r",
     "varRefreshCmd": "cat(var_dic_list()) "
    }
   },
   "types_to_exclude": [
    "module",
    "function",
    "builtin_function_or_method",
    "instance",
    "_Feature"
   ],
   "window_display": false
  }
 },
 "nbformat": 4,
 "nbformat_minor": 2
}
