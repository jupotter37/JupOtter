{
 "cells": [
  {
   "cell_type": "code",
   "execution_count": 1,
   "id": "5e97313d-e2d8-4fc1-88c0-53369e613adb",
   "metadata": {},
   "outputs": [
    {
     "name": "stdout",
     "output_type": "stream",
     "text": [
      "env: GOOGLE_APPLICATION_CREDENTIALS=/Users/klim/Desktop/area51.json\n"
     ]
    }
   ],
   "source": [
    "PROJECT = \"area51-lab\"\n",
    "DATASET = \"raw\"\n",
    "TABLE = \"testing\"\n",
    "TABLE_PATH = f\"projects/{PROJECT}/datasets/{DATASET}/tables/{TABLE}\"\n",
    "WRITE_STREAM = f\"{TABLE_PATH}/streams/_default\"\n",
    "\n",
    "%env GOOGLE_APPLICATION_CREDENTIALS=/Users/klim/Desktop/area51.json"
   ]
  },
  {
   "cell_type": "code",
   "execution_count": 2,
   "id": "bf8c76d1-6bdb-4aff-84c3-2a30a7368d8b",
   "metadata": {},
   "outputs": [
    {
     "data": {
      "text/plain": [
       "['../',\n",
       " '/Users/klim/Projects/twitter-trends-crawling/src/notebooks',\n",
       " '/Users/klim/.pyenv/versions/3.9.13/lib/python39.zip',\n",
       " '/Users/klim/.pyenv/versions/3.9.13/lib/python3.9',\n",
       " '/Users/klim/.pyenv/versions/3.9.13/lib/python3.9/lib-dynload',\n",
       " '',\n",
       " '/Users/klim/Library/Caches/pypoetry/virtualenvs/twitter-trends-crawling-8JX5Pgav-py3.9/lib/python3.9/site-packages']"
      ]
     },
     "execution_count": 2,
     "metadata": {},
     "output_type": "execute_result"
    }
   ],
   "source": [
    "import sys\n",
    "\n",
    "sys.path.insert(0, \"../\")\n",
    "sys.path"
   ]
  },
  {
   "cell_type": "code",
   "execution_count": 7,
   "id": "031252dd-5444-417e-897b-008212992999",
   "metadata": {},
   "outputs": [
    {
     "data": {
      "text/plain": [
       "'projects/area51-lab/datasets/raw/tables/testing/streams/Cic3MzkxZDQ2MC0wMDAwLTI3MWYtYjkzNS1kNGY1NDdmMzBmYjA6czA'"
      ]
     },
     "execution_count": 7,
     "metadata": {},
     "output_type": "execute_result"
    }
   ],
   "source": [
    "from datetime import datetime as dt, timezone as tz\n",
    "from google.cloud.bigquery_storage import (\n",
    "    BigQueryWriteClient,\n",
    "    AppendRowsRequest, \n",
    "    WriteStream,\n",
    "    ProtoRows,\n",
    "    ProtoSchema\n",
    ")\n",
    "from google.protobuf import descriptor_pb2\n",
    "import model.bqmodel_pb2 as model\n",
    "\n",
    "client = BigQueryWriteClient()\n",
    "parent = client.table_path(PROJECT, DATASET, TABLE)\n",
    "write_stream = client.create_write_stream(\n",
    "    parent=parent, \n",
    "    write_stream=WriteStream(type_=WriteStream.Type.COMMITTED)\n",
    ")\n",
    "\n",
    "write_stream.name"
   ]
  },
  {
   "cell_type": "code",
   "execution_count": 10,
   "id": "52c62d69-3712-44ea-91e9-e799570e18c6",
   "metadata": {},
   "outputs": [
    {
     "data": {
      "text/plain": [
       "id: \"123123132131\"\n",
       "username: \"123123132131\"\n",
       "display_name: \"123123132131\"\n",
       "description: \"123123132131\"\n",
       "created_timestamp: 1659307933825412\n",
       "verified: true\n",
       "location: \"123\"\n",
       "followers_count: 10\n",
       "friends_count: 10\n",
       "statuses_count: 10\n",
       "favourites_count: 10\n",
       "data_ts: 1659307933825412"
      ]
     },
     "execution_count": 10,
     "metadata": {},
     "output_type": "execute_result"
    }
   ],
   "source": [
    "proto_descriptor = descriptor_pb2.DescriptorProto()\n",
    "model.User.DESCRIPTOR.CopyToProto(proto_descriptor)\n",
    "\n",
    "delta = dt.now() - dt(1970, 1, 1)\n",
    "ts_value = int(delta.total_seconds()) * 1000000 + int(delta.microseconds)\n",
    "\n",
    "row = model.User()\n",
    "row.id = \"123123132131\"\n",
    "row.username = \"123123132131\"\n",
    "row.display_name = \"123123132131\"\n",
    "row.created_timestamp = ts_value\n",
    "row.description = \"123123132131\"\n",
    "row.verified = True\n",
    "row.location = \"123\"\n",
    "row.followers_count = 10\n",
    "row.friends_count = 10\n",
    "row.statuses_count = 10\n",
    "row.favourites_count = 10\n",
    "row.data_ts = ts_value\n",
    "\n",
    "row"
   ]
  },
  {
   "cell_type": "code",
   "execution_count": 11,
   "id": "61450a74-3e93-4968-899f-ff58b91fc52e",
   "metadata": {},
   "outputs": [
    {
     "ename": "InvalidArgument",
     "evalue": "400 Invalid proto schema: BqMessage.proto: User.label: The [proto3_optional=true] option may only be set on proto3fields, not User.label Entity: projects/area51-lab/datasets/raw/tables/testing/streams/Cic3MzkxZDQ2MC0wMDAwLTI3MWYtYjkzNS1kNGY1NDdmMzBmYjA6czA",
     "output_type": "error",
     "traceback": [
      "\u001b[0;31m---------------------------------------------------------------------------\u001b[0m",
      "\u001b[0;31m_MultiThreadedRendezvous\u001b[0m                  Traceback (most recent call last)",
      "File \u001b[0;32m~/Library/Caches/pypoetry/virtualenvs/twitter-trends-crawling-8JX5Pgav-py3.9/lib/python3.9/site-packages/google/api_core/grpc_helpers.py:140\u001b[0m, in \u001b[0;36m_wrap_stream_errors.<locals>.error_remapped_callable\u001b[0;34m(*args, **kwargs)\u001b[0m\n\u001b[1;32m    139\u001b[0m     prefetch_first \u001b[38;5;241m=\u001b[39m \u001b[38;5;28mgetattr\u001b[39m(callable_, \u001b[38;5;124m\"\u001b[39m\u001b[38;5;124m_prefetch_first_result_\u001b[39m\u001b[38;5;124m\"\u001b[39m, \u001b[38;5;28;01mTrue\u001b[39;00m)\n\u001b[0;32m--> 140\u001b[0m     \u001b[38;5;28;01mreturn\u001b[39;00m \u001b[43m_StreamingResponseIterator\u001b[49m\u001b[43m(\u001b[49m\n\u001b[1;32m    141\u001b[0m \u001b[43m        \u001b[49m\u001b[43mresult\u001b[49m\u001b[43m,\u001b[49m\u001b[43m \u001b[49m\u001b[43mprefetch_first_result\u001b[49m\u001b[38;5;241;43m=\u001b[39;49m\u001b[43mprefetch_first\u001b[49m\n\u001b[1;32m    142\u001b[0m \u001b[43m    \u001b[49m\u001b[43m)\u001b[49m\n\u001b[1;32m    143\u001b[0m \u001b[38;5;28;01mexcept\u001b[39;00m grpc\u001b[38;5;241m.\u001b[39mRpcError \u001b[38;5;28;01mas\u001b[39;00m exc:\n",
      "File \u001b[0;32m~/Library/Caches/pypoetry/virtualenvs/twitter-trends-crawling-8JX5Pgav-py3.9/lib/python3.9/site-packages/google/api_core/grpc_helpers.py:66\u001b[0m, in \u001b[0;36m_StreamingResponseIterator.__init__\u001b[0;34m(self, wrapped, prefetch_first_result)\u001b[0m\n\u001b[1;32m     65\u001b[0m     \u001b[38;5;28;01mif\u001b[39;00m prefetch_first_result:\n\u001b[0;32m---> 66\u001b[0m         \u001b[38;5;28mself\u001b[39m\u001b[38;5;241m.\u001b[39m_stored_first_result \u001b[38;5;241m=\u001b[39m \u001b[38;5;28;43mnext\u001b[39;49m\u001b[43m(\u001b[49m\u001b[38;5;28;43mself\u001b[39;49m\u001b[38;5;241;43m.\u001b[39;49m\u001b[43m_wrapped\u001b[49m\u001b[43m)\u001b[49m\n\u001b[1;32m     67\u001b[0m \u001b[38;5;28;01mexcept\u001b[39;00m \u001b[38;5;167;01mTypeError\u001b[39;00m:\n\u001b[1;32m     68\u001b[0m     \u001b[38;5;66;03m# It is possible the wrapped method isn't an iterable (a grpc.Call\u001b[39;00m\n\u001b[1;32m     69\u001b[0m     \u001b[38;5;66;03m# for instance). If this happens don't store the first result.\u001b[39;00m\n",
      "File \u001b[0;32m~/Library/Caches/pypoetry/virtualenvs/twitter-trends-crawling-8JX5Pgav-py3.9/lib/python3.9/site-packages/grpc/_channel.py:426\u001b[0m, in \u001b[0;36m_Rendezvous.__next__\u001b[0;34m(self)\u001b[0m\n\u001b[1;32m    425\u001b[0m \u001b[38;5;28;01mdef\u001b[39;00m \u001b[38;5;21m__next__\u001b[39m(\u001b[38;5;28mself\u001b[39m):\n\u001b[0;32m--> 426\u001b[0m     \u001b[38;5;28;01mreturn\u001b[39;00m \u001b[38;5;28;43mself\u001b[39;49m\u001b[38;5;241;43m.\u001b[39;49m\u001b[43m_next\u001b[49m\u001b[43m(\u001b[49m\u001b[43m)\u001b[49m\n",
      "File \u001b[0;32m~/Library/Caches/pypoetry/virtualenvs/twitter-trends-crawling-8JX5Pgav-py3.9/lib/python3.9/site-packages/grpc/_channel.py:826\u001b[0m, in \u001b[0;36m_MultiThreadedRendezvous._next\u001b[0;34m(self)\u001b[0m\n\u001b[1;32m    825\u001b[0m \u001b[38;5;28;01melif\u001b[39;00m \u001b[38;5;28mself\u001b[39m\u001b[38;5;241m.\u001b[39m_state\u001b[38;5;241m.\u001b[39mcode \u001b[38;5;129;01mis\u001b[39;00m \u001b[38;5;129;01mnot\u001b[39;00m \u001b[38;5;28;01mNone\u001b[39;00m:\n\u001b[0;32m--> 826\u001b[0m     \u001b[38;5;28;01mraise\u001b[39;00m \u001b[38;5;28mself\u001b[39m\n",
      "\u001b[0;31m_MultiThreadedRendezvous\u001b[0m: <_MultiThreadedRendezvous of RPC that terminated with:\n\tstatus = StatusCode.INVALID_ARGUMENT\n\tdetails = \"Invalid proto schema: BqMessage.proto: User.label: The [proto3_optional=true] option may only be set on proto3fields, not User.label Entity: projects/area51-lab/datasets/raw/tables/testing/streams/Cic3MzkxZDQ2MC0wMDAwLTI3MWYtYjkzNS1kNGY1NDdmMzBmYjA6czA\"\n\tdebug_error_string = \"{\"created\":\"@1659279145.483631000\",\"description\":\"Error received from peer ipv6:[2404:6800:4001:80a::200a]:443\",\"file\":\"src/core/lib/surface/call.cc\",\"file_line\":1075,\"grpc_message\":\"Invalid proto schema: BqMessage.proto: User.label: The [proto3_optional=true] option may only be set on proto3fields, not User.label Entity: projects/area51-lab/datasets/raw/tables/testing/streams/Cic3MzkxZDQ2MC0wMDAwLTI3MWYtYjkzNS1kNGY1NDdmMzBmYjA6czA\",\"grpc_status\":3}\"\n>",
      "\nThe above exception was the direct cause of the following exception:\n",
      "\u001b[0;31mInvalidArgument\u001b[0m                           Traceback (most recent call last)",
      "Input \u001b[0;32mIn [11]\u001b[0m, in \u001b[0;36m<cell line: 13>\u001b[0;34m()\u001b[0m\n\u001b[1;32m      6\u001b[0m proto_data \u001b[38;5;241m=\u001b[39m AppendRowsRequest\u001b[38;5;241m.\u001b[39mProtoData(\n\u001b[1;32m      7\u001b[0m     writer_schema\u001b[38;5;241m=\u001b[39mproto_schema,\n\u001b[1;32m      8\u001b[0m     rows\u001b[38;5;241m=\u001b[39mproto_rows\n\u001b[1;32m      9\u001b[0m )\n\u001b[1;32m     11\u001b[0m request \u001b[38;5;241m=\u001b[39m AppendRowsRequest(write_stream\u001b[38;5;241m=\u001b[39mwrite_stream\u001b[38;5;241m.\u001b[39mname, proto_rows\u001b[38;5;241m=\u001b[39mproto_data)\n\u001b[0;32m---> 13\u001b[0m resp \u001b[38;5;241m=\u001b[39m \u001b[43mclient\u001b[49m\u001b[38;5;241;43m.\u001b[39;49m\u001b[43mappend_rows\u001b[49m\u001b[43m(\u001b[49m\u001b[43mrequests\u001b[49m\u001b[38;5;241;43m=\u001b[39;49m\u001b[38;5;28;43miter\u001b[39;49m\u001b[43m(\u001b[49m\u001b[43m[\u001b[49m\u001b[43mrequest\u001b[49m\u001b[43m]\u001b[49m\u001b[43m)\u001b[49m\u001b[43m)\u001b[49m\n\u001b[1;32m     14\u001b[0m resps \u001b[38;5;241m=\u001b[39m \u001b[38;5;28mlist\u001b[39m(resp)\n\u001b[1;32m     16\u001b[0m \u001b[38;5;28mprint\u001b[39m(resps)\n",
      "File \u001b[0;32m~/Library/Caches/pypoetry/virtualenvs/twitter-trends-crawling-8JX5Pgav-py3.9/lib/python3.9/site-packages/google/cloud/bigquery_storage_v1/services/big_query_write/client.py:687\u001b[0m, in \u001b[0;36mBigQueryWriteClient.append_rows\u001b[0;34m(self, requests, retry, timeout, metadata)\u001b[0m\n\u001b[1;32m    684\u001b[0m metadata \u001b[38;5;241m=\u001b[39m \u001b[38;5;28mtuple\u001b[39m(metadata) \u001b[38;5;241m+\u001b[39m (gapic_v1\u001b[38;5;241m.\u001b[39mrouting_header\u001b[38;5;241m.\u001b[39mto_grpc_metadata(()),)\n\u001b[1;32m    686\u001b[0m \u001b[38;5;66;03m# Send the request.\u001b[39;00m\n\u001b[0;32m--> 687\u001b[0m response \u001b[38;5;241m=\u001b[39m \u001b[43mrpc\u001b[49m\u001b[43m(\u001b[49m\n\u001b[1;32m    688\u001b[0m \u001b[43m    \u001b[49m\u001b[43mrequests\u001b[49m\u001b[43m,\u001b[49m\n\u001b[1;32m    689\u001b[0m \u001b[43m    \u001b[49m\u001b[43mretry\u001b[49m\u001b[38;5;241;43m=\u001b[39;49m\u001b[43mretry\u001b[49m\u001b[43m,\u001b[49m\n\u001b[1;32m    690\u001b[0m \u001b[43m    \u001b[49m\u001b[43mtimeout\u001b[49m\u001b[38;5;241;43m=\u001b[39;49m\u001b[43mtimeout\u001b[49m\u001b[43m,\u001b[49m\n\u001b[1;32m    691\u001b[0m \u001b[43m    \u001b[49m\u001b[43mmetadata\u001b[49m\u001b[38;5;241;43m=\u001b[39;49m\u001b[43mmetadata\u001b[49m\u001b[43m,\u001b[49m\n\u001b[1;32m    692\u001b[0m \u001b[43m\u001b[49m\u001b[43m)\u001b[49m\n\u001b[1;32m    694\u001b[0m \u001b[38;5;66;03m# Done; return the response.\u001b[39;00m\n\u001b[1;32m    695\u001b[0m \u001b[38;5;28;01mreturn\u001b[39;00m response\n",
      "File \u001b[0;32m~/Library/Caches/pypoetry/virtualenvs/twitter-trends-crawling-8JX5Pgav-py3.9/lib/python3.9/site-packages/google/api_core/gapic_v1/method.py:154\u001b[0m, in \u001b[0;36m_GapicCallable.__call__\u001b[0;34m(self, timeout, retry, *args, **kwargs)\u001b[0m\n\u001b[1;32m    151\u001b[0m     metadata\u001b[38;5;241m.\u001b[39mextend(\u001b[38;5;28mself\u001b[39m\u001b[38;5;241m.\u001b[39m_metadata)\n\u001b[1;32m    152\u001b[0m     kwargs[\u001b[38;5;124m\"\u001b[39m\u001b[38;5;124mmetadata\u001b[39m\u001b[38;5;124m\"\u001b[39m] \u001b[38;5;241m=\u001b[39m metadata\n\u001b[0;32m--> 154\u001b[0m \u001b[38;5;28;01mreturn\u001b[39;00m \u001b[43mwrapped_func\u001b[49m\u001b[43m(\u001b[49m\u001b[38;5;241;43m*\u001b[39;49m\u001b[43margs\u001b[49m\u001b[43m,\u001b[49m\u001b[43m \u001b[49m\u001b[38;5;241;43m*\u001b[39;49m\u001b[38;5;241;43m*\u001b[39;49m\u001b[43mkwargs\u001b[49m\u001b[43m)\u001b[49m\n",
      "File \u001b[0;32m~/Library/Caches/pypoetry/virtualenvs/twitter-trends-crawling-8JX5Pgav-py3.9/lib/python3.9/site-packages/google/api_core/retry.py:283\u001b[0m, in \u001b[0;36mRetry.__call__.<locals>.retry_wrapped_func\u001b[0;34m(*args, **kwargs)\u001b[0m\n\u001b[1;32m    279\u001b[0m target \u001b[38;5;241m=\u001b[39m functools\u001b[38;5;241m.\u001b[39mpartial(func, \u001b[38;5;241m*\u001b[39margs, \u001b[38;5;241m*\u001b[39m\u001b[38;5;241m*\u001b[39mkwargs)\n\u001b[1;32m    280\u001b[0m sleep_generator \u001b[38;5;241m=\u001b[39m exponential_sleep_generator(\n\u001b[1;32m    281\u001b[0m     \u001b[38;5;28mself\u001b[39m\u001b[38;5;241m.\u001b[39m_initial, \u001b[38;5;28mself\u001b[39m\u001b[38;5;241m.\u001b[39m_maximum, multiplier\u001b[38;5;241m=\u001b[39m\u001b[38;5;28mself\u001b[39m\u001b[38;5;241m.\u001b[39m_multiplier\n\u001b[1;32m    282\u001b[0m )\n\u001b[0;32m--> 283\u001b[0m \u001b[38;5;28;01mreturn\u001b[39;00m \u001b[43mretry_target\u001b[49m\u001b[43m(\u001b[49m\n\u001b[1;32m    284\u001b[0m \u001b[43m    \u001b[49m\u001b[43mtarget\u001b[49m\u001b[43m,\u001b[49m\n\u001b[1;32m    285\u001b[0m \u001b[43m    \u001b[49m\u001b[38;5;28;43mself\u001b[39;49m\u001b[38;5;241;43m.\u001b[39;49m\u001b[43m_predicate\u001b[49m\u001b[43m,\u001b[49m\n\u001b[1;32m    286\u001b[0m \u001b[43m    \u001b[49m\u001b[43msleep_generator\u001b[49m\u001b[43m,\u001b[49m\n\u001b[1;32m    287\u001b[0m \u001b[43m    \u001b[49m\u001b[38;5;28;43mself\u001b[39;49m\u001b[38;5;241;43m.\u001b[39;49m\u001b[43m_deadline\u001b[49m\u001b[43m,\u001b[49m\n\u001b[1;32m    288\u001b[0m \u001b[43m    \u001b[49m\u001b[43mon_error\u001b[49m\u001b[38;5;241;43m=\u001b[39;49m\u001b[43mon_error\u001b[49m\u001b[43m,\u001b[49m\n\u001b[1;32m    289\u001b[0m \u001b[43m\u001b[49m\u001b[43m)\u001b[49m\n",
      "File \u001b[0;32m~/Library/Caches/pypoetry/virtualenvs/twitter-trends-crawling-8JX5Pgav-py3.9/lib/python3.9/site-packages/google/api_core/retry.py:190\u001b[0m, in \u001b[0;36mretry_target\u001b[0;34m(target, predicate, sleep_generator, deadline, on_error)\u001b[0m\n\u001b[1;32m    188\u001b[0m \u001b[38;5;28;01mfor\u001b[39;00m sleep \u001b[38;5;129;01min\u001b[39;00m sleep_generator:\n\u001b[1;32m    189\u001b[0m     \u001b[38;5;28;01mtry\u001b[39;00m:\n\u001b[0;32m--> 190\u001b[0m         \u001b[38;5;28;01mreturn\u001b[39;00m \u001b[43mtarget\u001b[49m\u001b[43m(\u001b[49m\u001b[43m)\u001b[49m\n\u001b[1;32m    192\u001b[0m     \u001b[38;5;66;03m# pylint: disable=broad-except\u001b[39;00m\n\u001b[1;32m    193\u001b[0m     \u001b[38;5;66;03m# This function explicitly must deal with broad exceptions.\u001b[39;00m\n\u001b[1;32m    194\u001b[0m     \u001b[38;5;28;01mexcept\u001b[39;00m \u001b[38;5;167;01mException\u001b[39;00m \u001b[38;5;28;01mas\u001b[39;00m exc:\n",
      "File \u001b[0;32m~/Library/Caches/pypoetry/virtualenvs/twitter-trends-crawling-8JX5Pgav-py3.9/lib/python3.9/site-packages/google/api_core/grpc_helpers.py:144\u001b[0m, in \u001b[0;36m_wrap_stream_errors.<locals>.error_remapped_callable\u001b[0;34m(*args, **kwargs)\u001b[0m\n\u001b[1;32m    140\u001b[0m     \u001b[38;5;28;01mreturn\u001b[39;00m _StreamingResponseIterator(\n\u001b[1;32m    141\u001b[0m         result, prefetch_first_result\u001b[38;5;241m=\u001b[39mprefetch_first\n\u001b[1;32m    142\u001b[0m     )\n\u001b[1;32m    143\u001b[0m \u001b[38;5;28;01mexcept\u001b[39;00m grpc\u001b[38;5;241m.\u001b[39mRpcError \u001b[38;5;28;01mas\u001b[39;00m exc:\n\u001b[0;32m--> 144\u001b[0m     \u001b[38;5;28;01mraise\u001b[39;00m exceptions\u001b[38;5;241m.\u001b[39mfrom_grpc_error(exc) \u001b[38;5;28;01mfrom\u001b[39;00m \u001b[38;5;21;01mexc\u001b[39;00m\n",
      "\u001b[0;31mInvalidArgument\u001b[0m: 400 Invalid proto schema: BqMessage.proto: User.label: The [proto3_optional=true] option may only be set on proto3fields, not User.label Entity: projects/area51-lab/datasets/raw/tables/testing/streams/Cic3MzkxZDQ2MC0wMDAwLTI3MWYtYjkzNS1kNGY1NDdmMzBmYjA6czA"
     ]
    }
   ],
   "source": [
    "proto_schema = ProtoSchema(proto_descriptor=proto_descriptor)\n",
    "proto_rows = ProtoRows(serialized_rows=[\n",
    "    row.SerializeToString(),\n",
    "    row.SerializeToString()\n",
    "])\n",
    "proto_data = AppendRowsRequest.ProtoData(\n",
    "    writer_schema=proto_schema,\n",
    "    rows=proto_rows\n",
    ")\n",
    "\n",
    "request = AppendRowsRequest(write_stream=write_stream.name, proto_rows=proto_data)\n",
    "\n",
    "resp = client.append_rows(requests=iter([request]))\n",
    "resps = list(resp)\n",
    "\n",
    "print(resps)\n",
    "\n",
    "for resp in resps:\n",
    "    print(resp.append_result)\n",
    "    if resp.append_result:\n",
    "        pass"
   ]
  },
  {
   "cell_type": "code",
   "execution_count": null,
   "id": "6e58716e-60d2-4958-946a-d38f7b797395",
   "metadata": {},
   "outputs": [],
   "source": []
  },
  {
   "cell_type": "code",
   "execution_count": 3,
   "id": "fdfdb50b-5082-4014-bc68-f23b99b527c8",
   "metadata": {},
   "outputs": [
    {
     "ename": "AttributeError",
     "evalue": "Assignment not allowed to repeated field \"hashtags\" in protocol message object.",
     "output_type": "error",
     "traceback": [
      "\u001b[0;31m---------------------------------------------------------------------------\u001b[0m",
      "\u001b[0;31mAttributeError\u001b[0m                            Traceback (most recent call last)",
      "Input \u001b[0;32mIn [3]\u001b[0m, in \u001b[0;36m<cell line: 16>\u001b[0;34m()\u001b[0m\n\u001b[1;32m     14\u001b[0m row\u001b[38;5;241m.\u001b[39mquote_tweets_count \u001b[38;5;241m=\u001b[39m \u001b[38;5;241m1\u001b[39m\n\u001b[1;32m     15\u001b[0m row\u001b[38;5;241m.\u001b[39mlikes_count \u001b[38;5;241m=\u001b[39m \u001b[38;5;241m1\u001b[39m\n\u001b[0;32m---> 16\u001b[0m \u001b[43mrow\u001b[49m\u001b[38;5;241;43m.\u001b[39;49m\u001b[43mhashtags\u001b[49m \u001b[38;5;241m=\u001b[39m []\n\u001b[1;32m     17\u001b[0m row\u001b[38;5;241m.\u001b[39mreplies\u001b[38;5;241m.\u001b[39mextend([\u001b[38;5;124m\"\u001b[39m\u001b[38;5;124m123123132131\u001b[39m\u001b[38;5;124m\"\u001b[39m, \u001b[38;5;124m\"\u001b[39m\u001b[38;5;124m123123132131\u001b[39m\u001b[38;5;124m\"\u001b[39m])\n\u001b[1;32m     18\u001b[0m row\u001b[38;5;241m.\u001b[39msource_label \u001b[38;5;241m=\u001b[39m \u001b[38;5;124m\"\u001b[39m\u001b[38;5;124m123123132131\u001b[39m\u001b[38;5;124m\"\u001b[39m\n",
      "\u001b[0;31mAttributeError\u001b[0m: Assignment not allowed to repeated field \"hashtags\" in protocol message object."
     ]
    }
   ],
   "source": [
    "proto_descriptor = descriptor_pb2.DescriptorProto()\n",
    "model.Tweet.DESCRIPTOR.CopyToProto(proto_descriptor)\n",
    "\n",
    "delta = dt.now() - dt(1970, 1, 1)\n",
    "ts_value = int(delta.total_seconds()) * 1000000 + int(delta.microseconds)\n",
    "\n",
    "row = model.Tweet()\n",
    "row.id = \"123123132131\"\n",
    "row.url = \"123123132131\"\n",
    "row.content = \"123123132131\"\n",
    "row.created_timestamp = ts_value\n",
    "row.user_id = \"123123132131\"\n",
    "row.retweets_count = 1\n",
    "row.quote_tweets_count = 1\n",
    "row.likes_count = 1\n",
    "# row.hashtags.exten\n",
    "row.replies.extend([\"123123132131\", \"123123132131\"])\n",
    "row.source_label = \"123123132131\"\n",
    "row.\n",
    "\n",
    "row"
   ]
  },
  {
   "cell_type": "code",
   "execution_count": 6,
   "id": "b7f8f4c7-6b4a-453e-ad51-357cbf8d7dc1",
   "metadata": {},
   "outputs": [
    {
     "data": {
      "text/plain": [
       "[append_result {\n",
       "   offset {\n",
       "     value: 3\n",
       "   }\n",
       " }]"
      ]
     },
     "execution_count": 6,
     "metadata": {},
     "output_type": "execute_result"
    }
   ],
   "source": [
    "proto_schema = ProtoSchema(proto_descriptor=proto_descriptor)\n",
    "proto_rows = ProtoRows(serialized_rows=[\n",
    "    row.SerializeToString(),\n",
    "    row.SerializeToString(),\n",
    "    row.SerializeToString()\n",
    "])\n",
    "proto_data = AppendRowsRequest.ProtoData(\n",
    "    writer_schema=proto_schema,\n",
    "    rows=proto_rows\n",
    ")\n",
    "\n",
    "request = AppendRowsRequest(write_stream=write_stream.name, proto_rows=proto_data)\n",
    "\n",
    "resp = client.append_rows(requests=iter([request]))\n",
    "resps = list(resp)\n",
    "\n",
    "print(resps)\n",
    "\n",
    "for resp in resps:\n",
    "    print(resp.append_result)\n",
    "    if resp.append_result:\n",
    "        pass"
   ]
  },
  {
   "cell_type": "code",
   "execution_count": null,
   "id": "a4e09ba6-5e60-43f0-a437-744b590a74f0",
   "metadata": {},
   "outputs": [],
   "source": []
  }
 ],
 "metadata": {
  "kernelspec": {
   "display_name": "Python 3 (ipykernel)",
   "language": "python",
   "name": "python3"
  },
  "language_info": {
   "codemirror_mode": {
    "name": "ipython",
    "version": 3
   },
   "file_extension": ".py",
   "mimetype": "text/x-python",
   "name": "python",
   "nbconvert_exporter": "python",
   "pygments_lexer": "ipython3",
   "version": "3.9.13"
  }
 },
 "nbformat": 4,
 "nbformat_minor": 5
}
