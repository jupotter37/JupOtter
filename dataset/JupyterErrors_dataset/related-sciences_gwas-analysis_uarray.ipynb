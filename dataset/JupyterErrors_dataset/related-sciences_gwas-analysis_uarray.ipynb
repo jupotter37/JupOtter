{
 "cells": [
  {
   "cell_type": "markdown",
   "metadata": {},
   "source": [
    "### Uarray Experiments\n",
    "\n",
    "\n",
    "- https://github.com/Quansight-Labs/uarray/blob/master/uarray/tests/test_uarray.py\n",
    "- https://github.com/Quansight-Labs/unumpy/blob/f58b32e3ac469125c900b2bc24735cd103e9be67/unumpy/_multimethods.py#L1108\n",
    "    - Examples of building front end Numpy API\n",
    "- https://github.com/Quansight-Labs/unumpy/blob/master/unumpy/numpy_backend.py\n",
    "    - Examples of backend Numpy API\n",
    "- Defining domains: https://uarray.org/en/latest/glossary.html#domainglossary"
   ]
  },
  {
   "cell_type": "code",
   "execution_count": 4,
   "metadata": {},
   "outputs": [
    {
     "name": "stdout",
     "output_type": "stream",
     "text": [
      "Found existing installation: uarray 0.6.0\n",
      "Uninstalling uarray-0.6.0:\n",
      "  Successfully uninstalled uarray-0.6.0\n"
     ]
    }
   ],
   "source": [
    "!pip uninstall --yes uarray"
   ]
  },
  {
   "cell_type": "code",
   "execution_count": 7,
   "metadata": {},
   "outputs": [
    {
     "name": "stdout",
     "output_type": "stream",
     "text": [
      "Collecting uarray\n",
      "  Cloning git://github.com/Quansight-Labs/uarray.git to /tmp/pip-install-yxbeiim8/uarray\n",
      "  Running command git clone -q git://github.com/Quansight-Labs/uarray.git /tmp/pip-install-yxbeiim8/uarray\n",
      "Building wheels for collected packages: uarray\n",
      "  Building wheel for uarray (setup.py) ... \u001b[?25ldone\n",
      "\u001b[?25h  Created wheel for uarray: filename=uarray-0.6.0+28.ged4307e-cp37-cp37m-linux_x86_64.whl size=247171 sha256=7beee6426142bb2ec5f4a823b7b357f4099e895ac504ce4eaaae668697c47d7b\n",
      "  Stored in directory: /tmp/pip-ephem-wheel-cache-eob3nmwn/wheels/73/a1/b5/57ee8eb0154b8049769a6b9301a83dff2e2b99a6d17b72e8e8\n",
      "Successfully built uarray\n",
      "Installing collected packages: uarray\n",
      "Successfully installed uarray-0.6.0+28.ged4307e\n"
     ]
    }
   ],
   "source": [
    "#!pip install uarray\n",
    "!pip install git+git://github.com/Quansight-Labs/uarray.git#egg=uarray"
   ]
  },
  {
   "cell_type": "code",
   "execution_count": 10,
   "metadata": {},
   "outputs": [],
   "source": [
    "import dask.array as da"
   ]
  },
  {
   "cell_type": "code",
   "execution_count": 2,
   "metadata": {},
   "outputs": [],
   "source": [
    "import uarray as ua\n",
    "from uarray import Dispatchable, wrap_single_convertor"
   ]
  },
  {
   "cell_type": "markdown",
   "metadata": {},
   "source": [
    "-----\n",
    "\n",
    "### Example 1\n",
    "\n",
    "A very simple frontend + backend implementation."
   ]
  },
  {
   "cell_type": "code",
   "execution_count": 6,
   "metadata": {},
   "outputs": [
    {
     "name": "stdout",
     "output_type": "stream",
     "text": [
      "in extractor:  input value\n",
      "in convert:  [<Dispatchable: type=<class 'str'>, value='input value'>] False\n",
      "\t0:  <class 'str'> True input value\n",
      "in replacer:  ('input value',) {} ('input value',)\n",
      "in func:  <uarray multimethod 'argextractor'> ('input value',) {}\n",
      "('input value',)\n"
     ]
    }
   ],
   "source": [
    "# This is the method that would be documented (i.e. the frontend)\n",
    "# * Note that neither this nor argreplacer are called if __ua_convert__ is not implemented in backend,\n",
    "# instead the multimethod is handed to the __ua_function__ method to resolve everything in one place\n",
    "\n",
    "def argextractor(arg1):\n",
    "    \"\"\" Target API function (docs copied from here to multimethod)\"\"\"\n",
    "    print('in extractor: ', arg1)\n",
    "    return [ua.Dispatchable(arg1, str)]\n",
    "\n",
    "def argreplacer(args, kwargs, dispatchables):\n",
    "    print('in replacer: ', args, kwargs, dispatchables)\n",
    "    out_args = dispatchables[:1]\n",
    "    return out_args, kwargs\n",
    "\n",
    "mm = ua.generate_multimethod(\n",
    "    argextractor, \n",
    "    argreplacer, \n",
    "    domain='tests',\n",
    "    default=lambda arg1: 'default value'\n",
    ")\n",
    "\n",
    "class Backend:\n",
    "    __ua_domain__ = \"tests\"\n",
    "    \n",
    "    def __ua_convert__(self, dispatchables, coerce=False):\n",
    "        # See: https://github.com/Quansight-Labs/uarray/blob/059dadec639d6317ac40aa065de3b5c2675b2e16/uarray/__init__.py#L67\n",
    "        print('in convert: ', dispatchables, coerce)\n",
    "        for i, d in enumerate(dispatchables):\n",
    "            print('\\t' + str(i) + ': ', d.type, d.coercible, d.value)\n",
    "            yield d.value\n",
    "            \n",
    "    def __ua_function__(self, f, args, kwargs):\n",
    "        print('in func: ', f, args, kwargs) \n",
    "        return str(args)\n",
    "    \n",
    "be = Backend()\n",
    "\n",
    "with ua.set_backend(be):\n",
    "    print(mm('input value'))"
   ]
  },
  {
   "cell_type": "code",
   "execution_count": 4,
   "metadata": {},
   "outputs": [
    {
     "name": "stdout",
     "output_type": "stream",
     "text": [
      "default value\n"
     ]
    }
   ],
   "source": [
    "# Check default with no backend set\n",
    "print(mm('input value'))"
   ]
  },
  {
   "cell_type": "markdown",
   "metadata": {},
   "source": [
    "--------\n",
    "\n",
    "### Example 2\n",
    "\n",
    "Sub-domains\n",
    "\n",
    "See: https://github.com/Quansight-Labs/uarray/blob/master/uarray/tests/test_uarray.py#L313"
   ]
  },
  {
   "cell_type": "code",
   "execution_count": 4,
   "metadata": {},
   "outputs": [
    {
     "data": {
      "text/plain": [
       "'0.6.0+28.ged4307e'"
      ]
     },
     "execution_count": 4,
     "metadata": {},
     "output_type": "execute_result"
    }
   ],
   "source": [
    "ua.__version__"
   ]
  },
  {
   "cell_type": "code",
   "execution_count": 5,
   "metadata": {},
   "outputs": [],
   "source": [
    "import uarray as ua\n",
    "def test_hierarchical_backends():\n",
    "    mm = ua.generate_multimethod(\n",
    "        lambda: (), lambda a, kw, d: (a, kw), \"ua_tests.foo.bar\"\n",
    "    )\n",
    "    subdomains = \"ua_tests.foo.bar\".split(\".\")\n",
    "    depth = len(subdomains)\n",
    "\n",
    "    mms = [\n",
    "        ua.generate_multimethod(\n",
    "            lambda: (), lambda a, kw, d: (a, kw), \".\".join(subdomains[: i + 1])\n",
    "        )\n",
    "        for i in range(depth)\n",
    "    ]\n",
    "\n",
    "    class DisableBackend:\n",
    "        def __init__(self, domain):\n",
    "            self.__ua_domain__ = domain\n",
    "            self.active = True\n",
    "            self.ret = object()\n",
    "\n",
    "        def __ua_function__(self, f, a, kw):\n",
    "            if self.active:\n",
    "                return self.ret\n",
    "\n",
    "            raise ua.BackendNotImplementedError(self.__ua_domain__)\n",
    "\n",
    "    be = [DisableBackend(\".\".join(subdomains[: i + 1])) for i in range(depth)]\n",
    "\n",
    "    ua.set_global_backend(be[1])\n",
    "    for i in range(1, depth):\n",
    "        assert mms[i]() is be[1].ret\n",
    "test_hierarchical_backends()"
   ]
  },
  {
   "cell_type": "code",
   "execution_count": 4,
   "metadata": {},
   "outputs": [
    {
     "ename": "BackendNotImplementedError",
     "evalue": "No selected backends had an implementation for this function.",
     "output_type": "error",
     "traceback": [
      "\u001b[0;31m---------------------------------------------------------------------------\u001b[0m",
      "\u001b[0;31mBackendNotImplementedError\u001b[0m                Traceback (most recent call last)",
      "\u001b[0;32m<ipython-input-4-e68d58653d14>\u001b[0m in \u001b[0;36m<module>\u001b[0;34m\u001b[0m\n\u001b[1;32m     39\u001b[0m \u001b[0;31m#ua.register_backend(b2)\u001b[0m\u001b[0;34m\u001b[0m\u001b[0;34m\u001b[0m\u001b[0;34m\u001b[0m\u001b[0m\n\u001b[1;32m     40\u001b[0m \u001b[0mua\u001b[0m\u001b[0;34m.\u001b[0m\u001b[0mset_global_backend\u001b[0m\u001b[0;34m(\u001b[0m\u001b[0mb2\u001b[0m\u001b[0;34m,\u001b[0m \u001b[0mcoerce\u001b[0m\u001b[0;34m=\u001b[0m\u001b[0;32mTrue\u001b[0m\u001b[0;34m)\u001b[0m\u001b[0;34m\u001b[0m\u001b[0;34m\u001b[0m\u001b[0m\n\u001b[0;32m---> 41\u001b[0;31m \u001b[0mprint\u001b[0m\u001b[0;34m(\u001b[0m\u001b[0mmm\u001b[0m\u001b[0;34m(\u001b[0m\u001b[0;34m'x'\u001b[0m\u001b[0;34m,\u001b[0m \u001b[0mn\u001b[0m\u001b[0;34m=\u001b[0m\u001b[0;36m5\u001b[0m\u001b[0;34m)\u001b[0m\u001b[0;34m)\u001b[0m\u001b[0;34m\u001b[0m\u001b[0;34m\u001b[0m\u001b[0m\n\u001b[0m",
      "\u001b[0;31mBackendNotImplementedError\u001b[0m: No selected backends had an implementation for this function."
     ]
    }
   ],
   "source": [
    "import uarray as ua\n",
    "\n",
    "def create_array(a, n=10):\n",
    "    \"\"\"Multiply arrays\"\"\"\n",
    "    print('in extractor: ', a, b)\n",
    "    pass\n",
    "\n",
    "\n",
    "class Backend1:\n",
    "    __ua_domain__ = \"main\"\n",
    "    \n",
    "    def __ua_function__(self, f, args, kwargs):\n",
    "        return 'from b1'\n",
    "    \n",
    "class Backend2:\n",
    "    __ua_domain__ = \"main.sub1\"\n",
    "    \n",
    "    def __ua_function__(self, f, args, kwargs):\n",
    "        return 'from b2'\n",
    "    \n",
    "class Backend3:\n",
    "    __ua_domain__ = \"main.sub1.sub2\"\n",
    "    \n",
    "    def __ua_function__(self, f, args, kwargs):\n",
    "        return 'from b3'\n",
    "\n",
    "b1 = Backend1()\n",
    "b2 = Backend2()\n",
    "b3 = Backend3()\n",
    "\n",
    "mm = ua.generate_multimethod(\n",
    "    create_array,\n",
    "    lambda args, kwargs, dispatchables: args,\n",
    "    domain='main.sub1.sub2'\n",
    ")\n",
    "\n",
    "\n",
    "ua.clear_backends('main')\n",
    "#ua.register_backend(b2)\n",
    "ua.set_global_backend(b2, coerce=True)\n",
    "print(mm('x', n=5))"
   ]
  },
  {
   "cell_type": "markdown",
   "metadata": {},
   "source": [
    "-------"
   ]
  },
  {
   "cell_type": "code",
   "execution_count": null,
   "metadata": {},
   "outputs": [],
   "source": [
    "# Inside ulinalg, you would define a method consisting of an argument replacer and argument extractor.\n",
    "\n",
    "# The argument extractor is the simpler of the two: It \"extracts\" the array arguments from the method as a tuple.\n",
    "# The argument replacer \"replaces\" the array arguments inside args, kwargs with the supplied arrays.\n",
    "\n",
    "# https://github.com/Quansight-Labs/uarray/blob/master/notebooks/02_basic_dev_tutorial.ipynb\n",
    "def solve_argreplacer(args, kwargs, arrays):\n",
    "    out_args = arrays + args[2:]\n",
    "    return out_args, kwargs\n",
    "\n",
    "@unp.create_numpy(solve_argreplacer)\n",
    "@all_of_type(unp.ndarray)\n",
    "def solve(a, b, sym_pos=False, lower=False, overwrite_a=False, overwrite_b=False, debug=None, check_finite=True, assume_a='gen', transposed=False):\n",
    "    return (a, b)"
   ]
  },
  {
   "cell_type": "code",
   "execution_count": null,
   "metadata": {},
   "outputs": [],
   "source": [
    "# def __ua_function__(method, args, kwargs):\n",
    "#     if method in _implementations:\n",
    "#         return _implementations[method](*args, **kwargs)\n",
    "\n",
    "#     if not hasattr(sparse, method.__name__):\n",
    "#         return NotImplemented\n",
    "\n",
    "#     return getattr(sparse, method.__name__)(*args, **kwargs)\n",
    "\n",
    "\n",
    "# @wrap_single_convertor\n",
    "# def __ua_convert__(value, dispatch_type, coerce):\n",
    "#     if dispatch_type is ufunc:\n",
    "#         return getattr(np, value.name)\n",
    "\n",
    "#     if value is None:\n",
    "#         return None\n",
    "\n",
    "#     if dispatch_type is ndarray:\n",
    "#         if not coerce:\n",
    "#             if not isinstance(value, sparse.SparseArray):\n",
    "#                 return NotImplemented\n",
    "\n",
    "#         if isinstance(value, sparse.SparseArray):\n",
    "#             return value\n",
    "\n",
    "#         return sparse.as_coo(np.asarray(value))"
   ]
  }
 ],
 "metadata": {
  "kernelspec": {
   "display_name": "Python 3",
   "language": "python",
   "name": "python3"
  },
  "language_info": {
   "codemirror_mode": {
    "name": "ipython",
    "version": 3
   },
   "file_extension": ".py",
   "mimetype": "text/x-python",
   "name": "python",
   "nbconvert_exporter": "python",
   "pygments_lexer": "ipython3",
   "version": "3.7.6"
  }
 },
 "nbformat": 4,
 "nbformat_minor": 4
}
