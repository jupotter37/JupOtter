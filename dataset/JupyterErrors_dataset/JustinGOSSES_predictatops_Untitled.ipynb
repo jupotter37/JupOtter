{
 "cells": [
  {
   "cell_type": "code",
   "execution_count": null,
   "metadata": {},
   "outputs": [],
   "source": [
    "from predictatops import wellsKNN"
   ]
  },
  {
   "cell_type": "code",
   "execution_count": 1,
   "metadata": {},
   "outputs": [
    {
     "name": "stdout",
     "output_type": "stream",
     "text": [
      "Untitled.ipynb          test_StratPickSupML.py\r\n"
     ]
    }
   ],
   "source": [
    "ls"
   ]
  },
  {
   "cell_type": "code",
   "execution_count": 2,
   "metadata": {},
   "outputs": [
    {
     "name": "stdout",
     "output_type": "stream",
     "text": [
      "/Users/justingosses/Code/predictatops\n"
     ]
    }
   ],
   "source": [
    "cd ..\n"
   ]
  },
  {
   "cell_type": "code",
   "execution_count": 3,
   "metadata": {},
   "outputs": [
    {
     "name": "stdout",
     "output_type": "stream",
     "text": [
      "/Users/justingosses/Code/predictatops/predictatops\n"
     ]
    }
   ],
   "source": [
    "cd predictatops"
   ]
  },
  {
   "cell_type": "code",
   "execution_count": 4,
   "metadata": {},
   "outputs": [],
   "source": [
    "%load_ext autoreload"
   ]
  },
  {
   "cell_type": "code",
   "execution_count": 5,
   "metadata": {},
   "outputs": [
    {
     "name": "stderr",
     "output_type": "stream",
     "text": [
      "/Users/justingosses/anaconda/envs/MannvilleDask2/lib/python3.6/importlib/_bootstrap.py:219: RuntimeWarning: numpy.dtype size changed, may indicate binary incompatibility. Expected 96, got 88\n",
      "  return f(*args, **kwds)\n",
      "/Users/justingosses/anaconda/envs/MannvilleDask2/lib/python3.6/importlib/_bootstrap.py:219: RuntimeWarning: numpy.dtype size changed, may indicate binary incompatibility. Expected 96, got 88\n",
      "  return f(*args, **kwds)\n"
     ]
    }
   ],
   "source": [
    "from wellsKNN import get_data_for_wellsKNN"
   ]
  },
  {
   "cell_type": "code",
   "execution_count": 6,
   "metadata": {},
   "outputs": [
    {
     "ename": "AttributeError",
     "evalue": "'str' object has no attribute 'picks_df'",
     "output_type": "error",
     "traceback": [
      "\u001b[0;31m---------------------------------------------------------------------------\u001b[0m",
      "\u001b[0;31mAttributeError\u001b[0m                            Traceback (most recent call last)",
      "\u001b[0;32m<ipython-input-6-2775db592ee3>\u001b[0m in \u001b[0;36m<module>\u001b[0;34m()\u001b[0m\n\u001b[0;32m----> 1\u001b[0;31m \u001b[0mdir\u001b[0m\u001b[0;34m(\u001b[0m\u001b[0mget_data_for_wellsKNN\u001b[0m\u001b[0;34m(\u001b[0m\u001b[0;34m\"adfad\"\u001b[0m\u001b[0;34m)\u001b[0m\u001b[0;34m)\u001b[0m\u001b[0;34m\u001b[0m\u001b[0m\n\u001b[0m",
      "\u001b[0;32m~/Code/predictatops/predictatops/wellsKNN.py\u001b[0m in \u001b[0;36mget_data_for_wellsKNN\u001b[0;34m(input_data_inst)\u001b[0m\n\u001b[1;32m     48\u001b[0m     \u001b[0mReturns\u001b[0m \u001b[0mdataframes\u001b[0m \u001b[0mof\u001b[0m \u001b[0mpicks\u001b[0m\u001b[0;34m,\u001b[0m \u001b[0mpick\u001b[0m \u001b[0mdictionaries\u001b[0m\u001b[0;34m,\u001b[0m \u001b[0mwell\u001b[0m \u001b[0mnames\u001b[0m\u001b[0;34m,\u001b[0m \u001b[0;32mand\u001b[0m \u001b[0mgis\u001b[0m \u001b[0mdata\u001b[0m\u001b[0;34m.\u001b[0m\u001b[0;34m\u001b[0m\u001b[0m\n\u001b[1;32m     49\u001b[0m     \"\"\"\n\u001b[0;32m---> 50\u001b[0;31m     \u001b[0mpicks\u001b[0m \u001b[0;34m=\u001b[0m \u001b[0minput_data_inst\u001b[0m\u001b[0;34m.\u001b[0m\u001b[0mpicks_df\u001b[0m\u001b[0;34m\u001b[0m\u001b[0m\n\u001b[0m\u001b[1;32m     51\u001b[0m     \u001b[0mpicks_dic\u001b[0m \u001b[0;34m=\u001b[0m \u001b[0mpd\u001b[0m\u001b[0;34m.\u001b[0m\u001b[0mread_csv\u001b[0m\u001b[0;34m(\u001b[0m\u001b[0minput_data_inst\u001b[0m\u001b[0;34m.\u001b[0m\u001b[0mpicks_dic\u001b[0m\u001b[0;34m,\u001b[0m\u001b[0minput_data_inst\u001b[0m\u001b[0;34m.\u001b[0m\u001b[0mpicks_dic_file_path_delimiter\u001b[0m\u001b[0;34m)\u001b[0m\u001b[0;34m\u001b[0m\u001b[0m\n\u001b[1;32m     52\u001b[0m     \u001b[0minput_data_inst\u001b[0m\u001b[0;34m.\u001b[0m\u001b[0mload_wells_file\u001b[0m\u001b[0;34m(\u001b[0m\u001b[0;34m)\u001b[0m\u001b[0;34m\u001b[0m\u001b[0m\n",
      "\u001b[0;31mAttributeError\u001b[0m: 'str' object has no attribute 'picks_df'"
     ]
    }
   ],
   "source": [
    "dir(get_data_for_wellsKNN(\"adfad\"))"
   ]
  },
  {
   "cell_type": "code",
   "execution_count": 7,
   "metadata": {},
   "outputs": [],
   "source": [
    "from features import *\n",
    "%autoreload 2"
   ]
  },
  {
   "cell_type": "code",
   "execution_count": 8,
   "metadata": {},
   "outputs": [
    {
     "name": "stdout",
     "output_type": "stream",
     "text": [
      "head of picks df =      SitID  HorID      Pick  Quality\n",
      "0  102496   1000       321        1\n",
      "1  102496   2000                 -1\n",
      "2  102496   3000                 -1\n",
      "3  102496   4000                 -1\n",
      "4  102496   5000       438        2\n",
      "making base folder for results in: ../results\n",
      "base_path directory already exists, ../results  so not creating it again. This may or may not be what you intended, so just flagging it.\n",
      "directory  checkData  already exists so not making it again in make_all_directories function of configurationplusfiles.py\n",
      "directory  load  already exists so not making it again in make_all_directories function of configurationplusfiles.py\n",
      "directory  split  already exists so not making it again in make_all_directories function of configurationplusfiles.py\n",
      "directory  wellsKNN  already exists so not making it again in make_all_directories function of configurationplusfiles.py\n",
      "directory  features  already exists so not making it again in make_all_directories function of configurationplusfiles.py\n",
      "directory  trainclasses  already exists so not making it again in make_all_directories function of configurationplusfiles.py\n",
      "directory  prediction  already exists so not making it again in make_all_directories function of configurationplusfiles.py\n",
      "directory  evaluate  already exists so not making it again in make_all_directories function of configurationplusfiles.py\n",
      "directory  map  already exists so not making it again in make_all_directories function of configurationplusfiles.py\n",
      "made directories for each step in the process. They should be in :  ../results\n",
      "must have curve list is:  ['ILD', 'NPHI', 'GR', 'DPHI', 'DEPT']\n",
      "set must_have_tops_list as:  [13000, 14000]\n",
      " set self.top_name_col_in_picks_df as:  HorID\n",
      "config.siteID_col_in_picks_df =  SitID\n",
      "all config is {'csv_of_well_names_wTopsCuves__name': '', 'csv_of_well_names_wTopCurves__path': '.', 'must_have_curves_list': ['ILD', 'NPHI', 'GR', 'DPHI', 'DEPT'], 'must_have_tops__list': [13000, 14000], 'target_top': 13000, 'top_under_target': 14000, 'top_name_col_in_picks_df': 'HorID', 'siteID_col_in_picks_df': 'SitID', 'UWI': 'UWI', 'HorID_name_col_in_picks_df': 'HorID', 'quality_col_name_in_picks_df': 'Quality', 'picks_depth_col_in_picks_df': 'Pick', 'quality_items_to_skip__list': [-1, 0], 'test': 'test0', 'threshold_returnCurvesThatArePresentInThisManyWells': 2000, 'max_numb_wells_to_load': 1000000, 'split_traintest_percent': 0.8, 'kdtree_leaf': 2, 'kdtree_k': 8, 'NN1_topTarget_DEPTH': 'NN1_topTarget_DEPTH', 'NN1_TopHelper_DEPTH': 'NN1_TopHelper_DEPTH', 'trainOrTest': 'trainOrTest'}\n",
      "columns Index(['SitID', 'lat', 'lng', 'UWI', 'TopHelper_HorID', 'TopTarget_HorID',\n",
      "       'TopHelper_DEPTH', 'TopTarget_DEPTH', 'TopHelper_HorID_Qual',\n",
      "       'TopTarget_Qual', 'Neighbors_Obj', 'NN1_topTarget_DEPTH',\n",
      "       'NN1_TopHelper_DEPTH', 'NN1_thickness',\n",
      "       'topTarget_Depth_predBy_NN1thick',\n",
      "       'diff_Top_Depth_Real_v_predBy_NN1thick'],\n",
      "      dtype='object')\n",
      "wells_df_from_split_curveData.columns Index(['CALI', 'COND', 'DELT', 'DEPT', 'DPHI', 'DT', 'GR', 'ILD', 'ILM',\n",
      "       'NPHI', 'PHID', 'RHOB', 'SFL', 'SFLU', 'SN', 'SP', 'UWI',\n",
      "       'trainOrTest'],\n",
      "      dtype='object')\n"
     ]
    }
   ],
   "source": [
    "import features_runner\n",
    "%autoreload 2"
   ]
  },
  {
   "cell_type": "code",
   "execution_count": 10,
   "metadata": {},
   "outputs": [
    {
     "name": "stdout",
     "output_type": "stream",
     "text": [
      "columns Index(['SitID', 'lat', 'lng', 'UWI', 'TopHelper_HorID', 'TopTarget_HorID',\n",
      "       'TopHelper_DEPTH', 'TopTarget_DEPTH', 'TopHelper_HorID_Qual',\n",
      "       'TopTarget_Qual', 'Neighbors_Obj', 'NN1_topTarget_DEPTH',\n",
      "       'NN1_TopHelper_DEPTH', 'NN1_thickness',\n",
      "       'topTarget_Depth_predBy_NN1thick',\n",
      "       'diff_Top_Depth_Real_v_predBy_NN1thick'],\n",
      "      dtype='object')\n",
      "wells_df_from_split_curveData.columns Index(['CALI', 'COND', 'DELT', 'DEPT', 'DPHI', 'DT', 'GR', 'ILD', 'ILM',\n",
      "       'NPHI', 'PHID', 'RHOB', 'SFL', 'SFLU', 'SN', 'SP', 'UWI',\n",
      "       'trainOrTest'],\n",
      "      dtype='object')\n",
      "df_all_wells_wKNN.columns Index(['CALI', 'COND', 'DELT', 'DEPT', 'DPHI', 'DT', 'GR', 'ILD', 'ILM',\n",
      "       'NPHI', 'PHID', 'RHOB', 'SFL', 'SFLU', 'SN', 'SP', 'UWI', 'trainOrTest',\n",
      "       'SitID', 'lat', 'lng', 'TopHelper_HorID', 'TopTarget_HorID',\n",
      "       'TopHelper_DEPTH', 'TopTarget_DEPTH', 'TopHelper_HorID_Qual',\n",
      "       'TopTarget_Qual', 'Neighbors_Obj', 'NN1_topTarget_DEPTH',\n",
      "       'NN1_TopHelper_DEPTH', 'NN1_thickness',\n",
      "       'topTarget_Depth_predBy_NN1thick',\n",
      "       'diff_Top_Depth_Real_v_predBy_NN1thick'],\n",
      "      dtype='object')\n",
      "columns Index(['SitID', 'lat', 'lng', 'UWI', 'TopHelper_HorID', 'TopTarget_HorID',\n",
      "       'TopHelper_DEPTH', 'TopTarget_DEPTH', 'TopHelper_HorID_Qual',\n",
      "       'TopTarget_Qual', 'Neighbors_Obj', 'NN1_topTarget_DEPTH',\n",
      "       'NN1_TopHelper_DEPTH', 'NN1_thickness',\n",
      "       'topTarget_Depth_predBy_NN1thick',\n",
      "       'diff_Top_Depth_Real_v_predBy_NN1thick'],\n",
      "      dtype='object')\n",
      "wells_df_from_split_curveData.columns Index(['CALI', 'COND', 'DELT', 'DEPT', 'DPHI', 'DT', 'GR', 'ILD', 'ILM',\n",
      "       'NPHI', 'PHID', 'RHOB', 'SFL', 'SFLU', 'SN', 'SP', 'UWI',\n",
      "       'trainOrTest'],\n",
      "      dtype='object')\n",
      "df_all_wells_wKNN.columns Index(['CALI', 'COND', 'DELT', 'DEPT', 'DPHI', 'DT', 'GR', 'ILD', 'ILM',\n",
      "       'NPHI', 'PHID', 'RHOB', 'SFL', 'SFLU', 'SN', 'SP', 'UWI', 'trainOrTest',\n",
      "       'SitID', 'lat', 'lng', 'TopHelper_HorID', 'TopTarget_HorID',\n",
      "       'TopHelper_DEPTH', 'TopTarget_DEPTH', 'TopHelper_HorID_Qual',\n",
      "       'TopTarget_Qual', 'Neighbors_Obj', 'NN1_topTarget_DEPTH',\n",
      "       'NN1_TopHelper_DEPTH', 'NN1_thickness',\n",
      "       'topTarget_Depth_predBy_NN1thick',\n",
      "       'diff_Top_Depth_Real_v_predBy_NN1thick'],\n",
      "      dtype='object')\n"
     ]
    }
   ],
   "source": [
    "%run -i 'features_runner.py'"
   ]
  },
  {
   "cell_type": "code",
   "execution_count": null,
   "metadata": {},
   "outputs": [],
   "source": []
  },
  {
   "cell_type": "code",
   "execution_count": null,
   "metadata": {},
   "outputs": [],
   "source": []
  },
  {
   "cell_type": "code",
   "execution_count": null,
   "metadata": {},
   "outputs": [],
   "source": []
  }
 ],
 "metadata": {
  "kernelspec": {
   "display_name": "Python [conda env:MannvilleDask2]",
   "language": "python",
   "name": "conda-env-MannvilleDask2-py"
  },
  "language_info": {
   "codemirror_mode": {
    "name": "ipython",
    "version": 3
   },
   "file_extension": ".py",
   "mimetype": "text/x-python",
   "name": "python",
   "nbconvert_exporter": "python",
   "pygments_lexer": "ipython3",
   "version": "3.6.6"
  }
 },
 "nbformat": 4,
 "nbformat_minor": 2
}
