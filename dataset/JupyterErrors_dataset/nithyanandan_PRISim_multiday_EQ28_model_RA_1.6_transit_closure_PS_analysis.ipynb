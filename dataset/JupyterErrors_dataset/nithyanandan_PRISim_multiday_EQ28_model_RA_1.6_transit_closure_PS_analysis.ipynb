{
 "cells": [
  {
   "cell_type": "markdown",
   "metadata": {},
   "source": [
    "## Get required modules imported"
   ]
  },
  {
   "cell_type": "code",
   "execution_count": 1,
   "metadata": {},
   "outputs": [],
   "source": [
    "import copy, glob\n",
    "import progressbar as PGB\n",
    "import numpy as NP\n",
    "import numpy.ma as MA\n",
    "from scipy import interpolate, stats\n",
    "import matplotlib.pyplot as PLT\n",
    "import matplotlib.colors as PLTC\n",
    "import matplotlib.ticker as PLTick\n",
    "import yaml, argparse, warnings\n",
    "from astropy.io import ascii\n",
    "import astropy.units as U\n",
    "from astropy.stats import sigma_clipped_stats, histogram\n",
    "import astropy.constants as FCNST\n",
    "import astropy.cosmology as cosmology\n",
    "from astroutils import DSP_modules as DSP\n",
    "from astroutils import constants as CNST\n",
    "from astroutils import mathops as OPS\n",
    "from astroutils import nonmathops as NMO\n",
    "from astroutils import lookup_operations as LKP\n",
    "import astroutils\n",
    "import prisim\n",
    "from prisim import interferometry as RI\n",
    "from prisim import bispectrum_phase as BSP\n",
    "from prisim import delay_spectrum as DS\n",
    "\n",
    "from IPython.core.debugger import set_trace\n",
    "%matplotlib inline"
   ]
  },
  {
   "cell_type": "markdown",
   "metadata": {},
   "source": [
    "### Print AstroUtils, PRISim version"
   ]
  },
  {
   "cell_type": "code",
   "execution_count": 2,
   "metadata": {},
   "outputs": [
    {
     "name": "stdout",
     "output_type": "stream",
     "text": [
      "AstroUtils git # 1be75833b358cbc53ff9fd12ec376a5c6335463a\n",
      "PRISim git # bb083bc1abd3ef44d0b18c094fedfe3dc30ed6ac\n"
     ]
    }
   ],
   "source": [
    "print('AstroUtils git # {0}\\nPRISim git # {1}'.format(astroutils.__githash__, prisim.__githash__))"
   ]
  },
  {
   "cell_type": "markdown",
   "metadata": {},
   "source": [
    "## Set up Cosmology"
   ]
  },
  {
   "cell_type": "code",
   "execution_count": 3,
   "metadata": {},
   "outputs": [],
   "source": [
    "cosmoPlanck15 = cosmology.Planck15 # Planck 2015 cosmology\n",
    "cosmo100 = cosmoPlanck15.clone(name='Modified Planck 2015 cosmology with h=1.0', H0=100.0) # Modified Planck 2015 cosmology with h=1.0, H= 100 km/s/Mpc"
   ]
  },
  {
   "cell_type": "markdown",
   "metadata": {},
   "source": [
    "## Read YAML file containing input parameters"
   ]
  },
  {
   "cell_type": "code",
   "execution_count": 4,
   "metadata": {},
   "outputs": [],
   "source": [
    "inparmsfile = '/lustre/aoc/users/nthyagar/codes/mine/python/projects/closure/multiday_EQ28_model_RA_1.6_transit_closure_PS_analysis_parms.yaml'\n",
    "with open(inparmsfile, 'r') as parms_file:\n",
    "    parms = yaml.safe_load(parms_file)"
   ]
  },
  {
   "cell_type": "code",
   "execution_count": 5,
   "metadata": {},
   "outputs": [
    {
     "name": "stdout",
     "output_type": "stream",
     "text": [
      "{'plot': {'2b': {'action': False}, '2c': {'kprll_min': 0.85, 'action': True, 'diagoffsets_b': [[[0], [1], [0]], [[0], [1], [0, 1, 2, 3, 4, 5, 6, 7, 8, 9, 10, 11, 12, 13, 14, 15, 16, 17, 18, 19, 20, 21, 22, 23, 24, 25, 26, 27, 28, 29, 30]], [[0], [1], [1, 2, 3, 4, 5, 6, 7, 8, 9, 10, 11, 12, 13, 14, 15, 16, 17, 18, 19, 20, 21, 22, 23, 24, 25, 26, 27, 28, 29, 30]], [[0], [-1, 0, 1], [1, 2, 3, 4, 5, 6, 7, 8, 9, 10, 11, 12, 13, 14, 15, 16, 17, 18, 19, 20, 21, 22, 23, 24, 25, 26, 27, 28, 29, 30]]], 'diagoffsets_a': [[[0], [0]], [[0], [0, 1, 2, 3, 4, 5, 6, 7, 8, 9, 10, 11, 12, 13, 14, 15, 16, 17, 18, 19, 20, 21, 22, 23, 24, 25, 26, 27, 28, 29, 30]], [[0], [1, 2, 3, 4, 5, 6, 7, 8, 9, 10, 11, 12, 13, 14, 15, 16, 17, 18, 19, 20, 21, 22, 23, 24, 25, 26, 27, 28, 29, 30]], [[0], [1, 2, 3, 4, 5, 6, 7, 8, 9, 10, 11, 12, 13, 14, 15, 16, 17, 18, 19, 20, 21, 22, 23, 24, 25, 26, 27, 28, 29, 30]]], 'incohax_b': [[1, 2, 3], [1, 2, 3], [1, 2, 3], [1, 2, 3]], 'incohax_a': [[1, 3], [1, 3], [1, 3], [1, 3]]}, '2a': {'action': False}, '3b': {'action': False, 'spw': [1]}, '1b': {'action': False, 'triad': [0, 1, 12]}, '2f': {'collapseax': [1], 'incohax': [1, 2, 3], 'selection': {'triads': None, 'lst': [11, 12, 13, 14, 15, 16, 17, 18, 19, 20, 21, 22, 23, 24, 25, 26, 27, 28, 29, 30, 31, 32, 33, 34, 35, 36, 37, 38, 39, 40, 41, 42, 43, 44, 45, 46, 47, 48, 49, 50, 51, 52], 'dlst_range': [1.1], 'days': None}, 'datapool': 'whole', 'antloc_file': '/data4/HERA_Simulations/simulations/hera_layouts/antenna_positions_350.dat', 'cohax': None, 'subselection': {'spw': None, 'day': [[0, 0], [0, 1]], 'lstdiag': [0, 1]}, 'statistic': 'median', 'action': False}, '1a': {'action': False, 'triad': None}, '2c_err': {'action': True, 'other_pserr_file': '/lustre/aoc/projects/hera/nthyagar/data/HERA/IDR2.1/ClosurePhase/Binned_Data_0100_0220/EQ28/XX/PS/xCPDPS_collapse_axes_123_EQ28XX_LST_1.6hr_errinfo_incoh_diag_avg.hdf5', 'current_lbl': 'Model', 'other_label': 'Data'}, '3': {'simlabels': ['FG', 'HI'], 'Tsys': None, '21cm_PS_dir': '/lustre/aoc/users/nthyagar/data/EoR_models/21cmFAST/Andrei_Mesinger/Faint_galaxies_fiducial_1024/PS/21cm_PS/', 'visfile_prfx': 'all-simvis', 'lst': None, 'sim_rootdir': '/lustre/aoc/projects/hera/nthyagar/data/HERA/IDR2.1/ClosurePhase/models/visibilities/', 'action': True, 'visdirs': ['GLEAM_all_RA_1.6_FOV30_ephemeris/RA_1.6_transit_NFbeam_120x10.7sec_1024x97.7kHz/simdata/', 'HI_21cmfast_FaintGalaxies_fiducial/14.0arcmin_v2/Fornax_transit_NFbeam_120x10.7sec_1024x97.7kHz/simdata/']}, '2d': {'action': False, 'kbin_min': None, 'kbin_max': None, 'kbintype': 'linear', 'num_kbins': None}, '1': {'action': False}, '2e': {'action': False, 'subselection': {'triaddiag': [0], 'spw': [0, 1], 'day': [[0, 1]], 'lstdiag': [0, 1]}}, '1c': {'action': False}, '2': {'incohax': [1, 2, 3], 'selection': {'lstrange': [1.6, 2.0], 'triads': None, 'lst': [11, 12, 13, 14, 15, 16, 17, 18, 19, 20, 21, 22, 23, 24, 25, 26, 27, 28, 29, 30, 31, 32, 33, 34, 35, 36, 37, 38, 39, 40, 41, 42, 43, 44, 45, 46, 47, 48, 49, 50, 51, 52], 'dlst_range': [1.1], 'days': None}, 'PS_dir': 'PS/', 'xlim': None, 'beaminfo': {'filefmt': 'UVbeam', 'telescope': {'shape': 'dish', 'ocoords': 'altaz', 'orientation': [90.0, 270.0], 'ground_plane': None, 'size': 14.0, 'id': 'hera', 'phased_array': False}, 'nside': 128, 'select_freq': 150000000.0, 'chromatic': True, 'pol': 'X', 'beamfile': 'NF_HERA_antenna_power_pattern_99-201_MHz_nside_128.uvbeam', 'filepathtype': 'default', 'spec_interp': 'cubic'}, 'datapool': ['whole'], 'collapseax_b': [1, 2, 3], 'collapseax_a': [1, 3], 'sampling': 'resampled', 'cohax': None, 'units': 'K', 'infile_pfx_b': 'xCPDPS_collapse_axes_123', 'modelinfo': {'outfile_pfx_b': ['xCPDPS_collapse_axes_123', 'xCPDPS_collapse_axes_123'], 'PS_dir': ['/lustre/aoc/projects/hera/nthyagar/data/HERA/IDR2.1/ClosurePhase/models/bispectrum_phase/PS/', '/lustre/aoc/projects/hera/nthyagar/data/HERA/IDR2.1/ClosurePhase/models/bispectrum_phase/PS/'], 'mdl_day': [[[0, 0], [0, 0]]], 'mdl_cohax': [None, None], 'mdl_ndaybins': [2, 2], 'infile_pfx_a': ['xCPDPS_collapse_axes_13', 'xCPDPS_collapse_axes_13'], 'outfile_pfx_a': ['xCPDPS_collapse_axes_13', 'xCPDPS_collapse_axes_13'], 'infile_pfx_b': ['xCPDPS_collapse_axes_123', 'xCPDPS_collapse_axes_123'], 'mdl_collapax_a': [[1, 3], [1, 3]], 'mdl_collapax_b': [[1, 2, 3], [1, 2, 3]], 'mdl_incohax': [[1, 2, 3], [1, 2, 3]]}, 'statistic': 'median', 'action': True, 'infile_pfx_a': 'xCPDPS_collapse_axes_13', 'subselection': {'triaddiag': [0], 'spw': [0, 1], 'day': [[0, 1]], 'lstdiag': [0, 1]}, 'outfile_pfx_a': 'xCPDPS_collapse_axes_13', 'errtype': ['ssdiff'], 'outfile_pfx_b': 'xCPDPS_collapse_axes_123', 'nsigma': 1.0}, '1e': {'action': False, 'triplet': [25, 26, 39], 'infile': 'EQ14', 'obsind': 0}, '1d': {'selection': {'lstrange': [1.5, 2.1], 'triads': None, 'dayind': 0}, 'applyflags': False, 'action': False, 'datastage': 'prelim', 'statistic': 'median', 'sparseness': 10.0}, '1g': {'action': False, 'infile1': 'EQ14new', 'infile2': 'EQ14old', 'avgind': 0, 'obsind': 0}, '1f': {'action': False, 'labels': ['EWs', 'EQ14', 'EQ29'], 'obsind': 0, 'infiles': ['EW14', 'EQ14', 'EQ28'], 'avgind': 0}, '3c': {'t_int': 60.0, 't_field': 22.0, 'bl': [[14.6, 0.0, 0.0], [29.2, 0.0, 0.0]], 'bl_same_bin': [[[14.6, 0.0, 0.0], [7.3, 12.644, 0.0], [7.3, -12.644, 0.0]], [[29.2, 0.0, 0.0], [14.6, 25.288, 0.0], [14.6, -25.288, 0.0]]], 'npol': 2, 'n_days': 9, 'spw': [0, 1], 'n_batches': 2, 'action': True, 'bltol': 1.0, 'sampling': 'resampled', 'A_eff': [100.0, 100.0]}, '1h': {'action': False, 'selection': {'lstrange': [1.6, 2.0], 'triads': None, 'dayind': 0}, 'freq_bins': [115000000.0, 120000000.0, 125000000.0, 130000000.0, 135000000.0], 'statistic': 'rms'}, '3a': {'action': False, 'bl': [[29.2, 0.0, 0.0], [14.6, 25.288, 0.0], [14.6, -25.288, 0.0]], 'bltol': 0.2, 'spw': [1]}, '3d': {'action': False}}, 'preProcessing': {'daybinsize': None, 'flagchans': [], 'band_center': 150000000.0, 'mdl_ndaybins': [2, 2], 'freq_resolution': 97656.25, 'lstbinsize': 60.0, 'flagants': [], 'appendaxis': 'obsid', 'ndaybins': 2, 'action': True, 'append': False}, 'delaySpectrum': {'bl': [[29.2, 0.0, 0.0], [14.6, 25.287942, 0.0], [-14.6, 25.287942, 0.0]], 'pad': 1.0, 'bltol': 0.1, 'subband': {'shape': 'bhw', 'fftpow': 2.0, 'freq_center': [126500000.0, 163000000.0], 'bw_eff': [10000000.0, 10000000.0]}, 'applyflags': False}, 'dirStruct': {'visfiletype': 'prisim', 'infiles': ['EQ28XX_GLEAM_all_RA_1.6_FOV_30_ephemeris_HERA61_noisy.npz'], 'projectdir': '/lustre/aoc/projects/hera/nthyagar/data/HERA/IDR2.1/ClosurePhase/models/', 'hdf5_infile': 'EQ28XX_GLEAM_all_RA_1.6_FOV_30_ephemeris_HERA61_noisy.hdf5', 'model_hdf5files': ['EQ28XX_GLEAM_all_RA_1.6_FOV_30_ephemeris_HERA61_noiseless.hdf5', 'EQ28XX_HI_21cmfast_FaintGalaxies_fiducial_GLEAM_all_RA_1.6_FOV_30_ephemeris_HERA61_noiseless.hdf5'], 'datadir': 'bispectrum_phase/', 'model_labels': ['FG', 'FG+HI'], 'visfile': '/lustre/aoc/projects/hera/nthyagar/data/HERA/IDR2.1/ClosurePhase/models/visibilities/GLEAM_all_RA_1.6_FOV30_ephemeris/RA_1.6_transit_NFbeam_120x10.7sec_1024x97.7kHz/simdata/simvis-copy', 'modeldir': '/lustre/aoc/projects/hera/nthyagar/data/HERA/IDR2.1/ClosurePhase/models/bispectrum_phase/', 'model_npzfiles': ['EQ28XX_GLEAM_all_RA_1.6_FOV_30_ephemeris_HERA61_noiseless.npz', 'EQ28XX_HI_21cmfast_FaintGalaxies_fiducial_GLEAM_all_RA_1.6_FOV_30_ephemeris_HERA61_noiseless.npz'], 'figdir': 'figures/'}, 'telescope': {'latitude': -30.7224, 'longitude': 21.4278}}\n"
     ]
    }
   ],
   "source": [
    "print(parms)"
   ]
  },
  {
   "cell_type": "markdown",
   "metadata": {},
   "source": [
    "## Parse YAML file and obtain input parameters"
   ]
  },
  {
   "cell_type": "code",
   "execution_count": 6,
   "metadata": {},
   "outputs": [],
   "source": [
    "projectdir = parms['dirStruct']['projectdir']\n",
    "datadir = projectdir + parms['dirStruct']['datadir']\n",
    "figdir = datadir + parms['dirStruct']['figdir']\n",
    "modelsdir = parms['dirStruct']['modeldir']\n",
    "infiles = parms['dirStruct']['infiles']\n",
    "visfile = parms['dirStruct']['visfile']\n",
    "visfiletype = parms['dirStruct']['visfiletype']\n",
    "hdf5_infile = parms['dirStruct']['hdf5_infile']\n",
    "model_hdf5files = parms['dirStruct']['model_hdf5files']\n",
    "model_labels = parms['dirStruct']['model_labels']\n",
    "\n",
    "telescope_parms = parms['telescope']\n",
    "site_latitude = telescope_parms['latitude']\n",
    "site_longitude = telescope_parms['longitude']\n",
    "\n",
    "preprocessinfo = parms['preProcessing']\n",
    "preprocess = preprocessinfo['action']\n",
    "flagchans = preprocessinfo['flagchans']\n",
    "if flagchans is not None:\n",
    "    flagchans = NP.asarray(preprocessinfo['flagchans']).reshape(-1)\n",
    "flagants = preprocessinfo['flagants']\n",
    "if flagants is not None:\n",
    "    flagants = NP.asarray(preprocessinfo['flagants']).reshape(-1)\n",
    "daybinsize = preprocessinfo['daybinsize']\n",
    "ndaybins = preprocessinfo['ndaybins']\n",
    "lstbinsize = preprocessinfo['lstbinsize']\n",
    "band_center = preprocessinfo['band_center']\n",
    "freq_resolution = preprocessinfo['freq_resolution']\n",
    "mdl_ndaybins = preprocessinfo['mdl_ndaybins']\n",
    "\n",
    "dspecinfo = parms['delaySpectrum']\n",
    "subbandinfo = dspecinfo['subband']\n",
    "freq_window_centers = NP.asarray(subbandinfo['freq_center'])\n",
    "freq_window_bw = NP.asarray(subbandinfo['bw_eff'])\n",
    "freq_window_shape = subbandinfo['shape']\n",
    "freq_window_fftpow = subbandinfo['fftpow']\n",
    "pad = dspecinfo['pad']\n",
    "apply_flags = dspecinfo['applyflags']\n",
    "if apply_flags:\n",
    "    applyflags_str = 'Y'\n",
    "else:\n",
    "    applyflags_str = 'N'"
   ]
  },
  {
   "cell_type": "markdown",
   "metadata": {},
   "source": [
    "## Read and load Reference visibilities for appropriate scaling"
   ]
  },
  {
   "cell_type": "code",
   "execution_count": 7,
   "metadata": {},
   "outputs": [
    {
     "name": "stdout",
     "output_type": "stream",
     "text": [
      "The history saving thread hit an unexpected error (OperationalError('database is locked',)).History will not be written to the database.\n"
     ]
    }
   ],
   "source": [
    "bl = NP.asarray(dspecinfo['bl'])\n",
    "if bl.shape[0] != 3:\n",
    "    raise ValueError('Input bl must be made of three vectors forming the triad')\n",
    "bltol = dspecinfo['bltol']\n",
    "\n",
    "infile = infiles[0]\n",
    "infile_no_ext = hdf5_infile.split('.hdf5')[0]\n",
    "\n",
    "# visdata = NP.load(visfile)\n",
    "if visfile is None:\n",
    "    visinfo = None\n",
    "else:\n",
    "    if visfiletype == 'hdf5':\n",
    "        visinfo = NMO.load_dict_from_hdf5(visfile+'.hdf5')\n",
    "        blind, blrefind, dbl = LKP.find_1NN(visinfo['baseline']['blvect'], bl, distance_ULIM=bltol, remove_oob=True)\n",
    "        if blrefind.size != 3:\n",
    "            blind_missing = NP.setdiff1d(NP.arange(3), blind, assume_unique=True)\n",
    "            blind_next, blrefind_next, dbl_next = LKP.find_1NN(visinfo['baseline']['blvect'], -1*bl[blind_missing,:], distance_ULIM=bltol, remove_oob=True)\n",
    "            if blind_next.size + blind.size != 3:\n",
    "                raise ValueError('Exactly three baselines were not found in the reference baselines')\n",
    "            else:\n",
    "                blind = NP.append(blind, blind_missing[blind_next])\n",
    "                blrefind = NP.append(blrefind, blrefind_next)\n",
    "        else:\n",
    "            blind_missing = []\n",
    "\n",
    "        vistriad = MA.array(visinfo['vis_real'][blrefind,:,:] + 1j * visinfo['vis_imag'][blrefind,:,:], mask=visinfo['mask'][blrefind,:,:])\n",
    "        if len(blind_missing) > 0:\n",
    "            vistriad[-blrefind_next.size:,:,:] = vistriad[-blrefind_next.size:,:,:].conj()\n",
    "    else:\n",
    "        visinfo = RI.InterferometerArray(None, None, None, init_file=visfile)"
   ]
  },
  {
   "cell_type": "code",
   "execution_count": 8,
   "metadata": {},
   "outputs": [
    {
     "name": "stdout",
     "output_type": "stream",
     "text": [
      "/lustre/aoc/projects/hera/nthyagar/data/HERA/IDR2.1/ClosurePhase/models/visibilities/GLEAM_all_RA_1.6_FOV30_ephemeris/RA_1.6_transit_NFbeam_120x10.7sec_1024x97.7kHz/simdata/simvis-copy\n",
      "(1738, 1024, 120)\n",
      "[1.61665576 1.61963612 1.62261648 1.62559684 1.6285772  1.63155756\n",
      " 1.63453792 1.63751828 1.64049864 1.643479   1.64645936 1.64943972\n",
      " 1.65242008 1.65540044 1.6583808  1.66136116 1.66434152 1.66732188\n",
      " 1.67030224 1.6732826  1.67626296 1.67924332 1.68222368 1.68520404\n",
      " 1.6881844  1.69116476 1.69414512 1.69712548 1.70010584 1.7030862\n",
      " 1.70606656 1.70904692 1.71202728 1.71500764 1.717988   1.72096836\n",
      " 1.72394872 1.72692908 1.72990944 1.7328898  1.73587016 1.73885052\n",
      " 1.74183088 1.74481124 1.7477916  1.75077196 1.75375232 1.75673268\n",
      " 1.75971304 1.7626934  1.76567376 1.76865412 1.77163448 1.77461484\n",
      " 1.7775952  1.78057556 1.78355592 1.78653628 1.78951664 1.792497\n",
      " 1.79547736 1.79845772 1.80143808 1.80441844 1.8073988  1.81037916\n",
      " 1.81335952 1.81633988 1.81932024 1.8223006  1.82528096 1.82826132\n",
      " 1.83124168 1.83422204 1.8372024  1.84018276 1.84316312 1.84614348\n",
      " 1.84912384 1.8521042  1.85508456 1.85806492 1.86104528 1.86402564\n",
      " 1.867006   1.86998636 1.87296672 1.87594708 1.87892744 1.8819078\n",
      " 1.88488816 1.88786852 1.89084888 1.89382924 1.8968096  1.89978996\n",
      " 1.90277032 1.90575068 1.90873104 1.9117114  1.91469176 1.91767212\n",
      " 1.92065248 1.92363284 1.9266132  1.92959356 1.93257392 1.93555428\n",
      " 1.93853464 1.941515   1.94449536 1.94747572 1.95045608 1.95343644\n",
      " 1.9564168  1.95939716 1.96237752 1.96535788 1.96833823 1.97131859]\n"
     ]
    }
   ],
   "source": [
    "print(visfile)\n",
    "print(visinfo.skyvis_freq.shape)\n",
    "print(visinfo.lst/15.0) # LST in hours"
   ]
  },
  {
   "cell_type": "markdown",
   "metadata": {},
   "source": [
    "## Load NPZ file containing Closure Phases for basic information"
   ]
  },
  {
   "cell_type": "code",
   "execution_count": 9,
   "metadata": {},
   "outputs": [],
   "source": [
    "tmpnpzdata = NP.load(datadir+infile)\n",
    "nchan = tmpnpzdata['flags'].shape[-1]\n",
    "freqs = band_center + freq_resolution * (NP.arange(nchan) - int(0.5*nchan)) "
   ]
  },
  {
   "cell_type": "code",
   "execution_count": 10,
   "metadata": {},
   "outputs": [],
   "source": [
    "# eq28yy_npzfile = '/lustre/aoc/projects/hera/nthyagar/data/HERA/IDR2.1/ClosurePhase/Binned_Data/EQ28/YY/EQ28YY.hdf5'\n",
    "# eq28yy_cpObj = BSP.ClosurePhase(eq28yy_npzfile, freqs, infmt='hdf5')\n",
    "# print(eq28yy_cpObj.cpinfo['raw']['lst'])"
   ]
  },
  {
   "cell_type": "markdown",
   "metadata": {},
   "source": [
    "## Initialize instance of class ClosurePhase"
   ]
  },
  {
   "cell_type": "code",
   "execution_count": 11,
   "metadata": {},
   "outputs": [],
   "source": [
    "cpObj = BSP.ClosurePhase(datadir+hdf5_infile, freqs, infmt='hdf5')"
   ]
  },
  {
   "cell_type": "code",
   "execution_count": 12,
   "metadata": {},
   "outputs": [
    {
     "name": "stdout",
     "output_type": "stream",
     "text": [
      "[[1.61665576 1.61665576 1.61665576 1.61665576]\n",
      " [1.61963612 1.61963612 1.61963612 1.61963612]\n",
      " [1.62261648 1.62261648 1.62261648 1.62261648]\n",
      " [1.62559684 1.62559684 1.62559684 1.62559684]\n",
      " [1.6285772  1.6285772  1.6285772  1.6285772 ]\n",
      " [1.63155756 1.63155756 1.63155756 1.63155756]\n",
      " [1.63453792 1.63453792 1.63453792 1.63453792]\n",
      " [1.63751828 1.63751828 1.63751828 1.63751828]\n",
      " [1.64049864 1.64049864 1.64049864 1.64049864]\n",
      " [1.643479   1.643479   1.643479   1.643479  ]\n",
      " [1.64645936 1.64645936 1.64645936 1.64645936]\n",
      " [1.64943972 1.64943972 1.64943972 1.64943972]\n",
      " [1.65242008 1.65242008 1.65242008 1.65242008]\n",
      " [1.65540044 1.65540044 1.65540044 1.65540044]\n",
      " [1.6583808  1.6583808  1.6583808  1.6583808 ]\n",
      " [1.66136116 1.66136116 1.66136116 1.66136116]\n",
      " [1.66434152 1.66434152 1.66434152 1.66434152]\n",
      " [1.66732188 1.66732188 1.66732188 1.66732188]\n",
      " [1.67030224 1.67030224 1.67030224 1.67030224]\n",
      " [1.6732826  1.6732826  1.6732826  1.6732826 ]\n",
      " [1.67626296 1.67626296 1.67626296 1.67626296]\n",
      " [1.67924332 1.67924332 1.67924332 1.67924332]\n",
      " [1.68222368 1.68222368 1.68222368 1.68222368]\n",
      " [1.68520404 1.68520404 1.68520404 1.68520404]\n",
      " [1.6881844  1.6881844  1.6881844  1.6881844 ]\n",
      " [1.69116476 1.69116476 1.69116476 1.69116476]\n",
      " [1.69414512 1.69414512 1.69414512 1.69414512]\n",
      " [1.69712548 1.69712548 1.69712548 1.69712548]\n",
      " [1.70010584 1.70010584 1.70010584 1.70010584]\n",
      " [1.7030862  1.7030862  1.7030862  1.7030862 ]\n",
      " [1.70606656 1.70606656 1.70606656 1.70606656]\n",
      " [1.70904692 1.70904692 1.70904692 1.70904692]\n",
      " [1.71202728 1.71202728 1.71202728 1.71202728]\n",
      " [1.71500764 1.71500764 1.71500764 1.71500764]\n",
      " [1.717988   1.717988   1.717988   1.717988  ]\n",
      " [1.72096836 1.72096836 1.72096836 1.72096836]\n",
      " [1.72394872 1.72394872 1.72394872 1.72394872]\n",
      " [1.72692908 1.72692908 1.72692908 1.72692908]\n",
      " [1.72990944 1.72990944 1.72990944 1.72990944]\n",
      " [1.7328898  1.7328898  1.7328898  1.7328898 ]\n",
      " [1.73587016 1.73587016 1.73587016 1.73587016]\n",
      " [1.73885052 1.73885052 1.73885052 1.73885052]\n",
      " [1.74183088 1.74183088 1.74183088 1.74183088]\n",
      " [1.74481124 1.74481124 1.74481124 1.74481124]\n",
      " [1.7477916  1.7477916  1.7477916  1.7477916 ]\n",
      " [1.75077196 1.75077196 1.75077196 1.75077196]\n",
      " [1.75375232 1.75375232 1.75375232 1.75375232]\n",
      " [1.75673268 1.75673268 1.75673268 1.75673268]\n",
      " [1.75971304 1.75971304 1.75971304 1.75971304]\n",
      " [1.7626934  1.7626934  1.7626934  1.7626934 ]\n",
      " [1.76567376 1.76567376 1.76567376 1.76567376]\n",
      " [1.76865412 1.76865412 1.76865412 1.76865412]\n",
      " [1.77163448 1.77163448 1.77163448 1.77163448]\n",
      " [1.77461484 1.77461484 1.77461484 1.77461484]\n",
      " [1.7775952  1.7775952  1.7775952  1.7775952 ]\n",
      " [1.78057556 1.78057556 1.78057556 1.78057556]\n",
      " [1.78355592 1.78355592 1.78355592 1.78355592]\n",
      " [1.78653628 1.78653628 1.78653628 1.78653628]\n",
      " [1.78951664 1.78951664 1.78951664 1.78951664]\n",
      " [1.792497   1.792497   1.792497   1.792497  ]\n",
      " [1.79547736 1.79547736 1.79547736 1.79547736]\n",
      " [1.79845772 1.79845772 1.79845772 1.79845772]\n",
      " [1.80143808 1.80143808 1.80143808 1.80143808]\n",
      " [1.80441844 1.80441844 1.80441844 1.80441844]\n",
      " [1.8073988  1.8073988  1.8073988  1.8073988 ]\n",
      " [1.81037916 1.81037916 1.81037916 1.81037916]\n",
      " [1.81335952 1.81335952 1.81335952 1.81335952]\n",
      " [1.81633988 1.81633988 1.81633988 1.81633988]\n",
      " [1.81932024 1.81932024 1.81932024 1.81932024]\n",
      " [1.8223006  1.8223006  1.8223006  1.8223006 ]\n",
      " [1.82528096 1.82528096 1.82528096 1.82528096]\n",
      " [1.82826132 1.82826132 1.82826132 1.82826132]\n",
      " [1.83124168 1.83124168 1.83124168 1.83124168]\n",
      " [1.83422204 1.83422204 1.83422204 1.83422204]\n",
      " [1.8372024  1.8372024  1.8372024  1.8372024 ]\n",
      " [1.84018276 1.84018276 1.84018276 1.84018276]\n",
      " [1.84316312 1.84316312 1.84316312 1.84316312]\n",
      " [1.84614348 1.84614348 1.84614348 1.84614348]\n",
      " [1.84912384 1.84912384 1.84912384 1.84912384]\n",
      " [1.8521042  1.8521042  1.8521042  1.8521042 ]\n",
      " [1.85508456 1.85508456 1.85508456 1.85508456]\n",
      " [1.85806492 1.85806492 1.85806492 1.85806492]\n",
      " [1.86104528 1.86104528 1.86104528 1.86104528]\n",
      " [1.86402564 1.86402564 1.86402564 1.86402564]\n",
      " [1.867006   1.867006   1.867006   1.867006  ]\n",
      " [1.86998636 1.86998636 1.86998636 1.86998636]\n",
      " [1.87296672 1.87296672 1.87296672 1.87296672]\n",
      " [1.87594708 1.87594708 1.87594708 1.87594708]\n",
      " [1.87892744 1.87892744 1.87892744 1.87892744]\n",
      " [1.8819078  1.8819078  1.8819078  1.8819078 ]\n",
      " [1.88488816 1.88488816 1.88488816 1.88488816]\n",
      " [1.88786852 1.88786852 1.88786852 1.88786852]\n",
      " [1.89084888 1.89084888 1.89084888 1.89084888]\n",
      " [1.89382924 1.89382924 1.89382924 1.89382924]\n",
      " [1.8968096  1.8968096  1.8968096  1.8968096 ]\n",
      " [1.89978996 1.89978996 1.89978996 1.89978996]\n",
      " [1.90277032 1.90277032 1.90277032 1.90277032]\n",
      " [1.90575068 1.90575068 1.90575068 1.90575068]\n",
      " [1.90873104 1.90873104 1.90873104 1.90873104]\n",
      " [1.9117114  1.9117114  1.9117114  1.9117114 ]\n",
      " [1.91469176 1.91469176 1.91469176 1.91469176]\n",
      " [1.91767212 1.91767212 1.91767212 1.91767212]\n",
      " [1.92065248 1.92065248 1.92065248 1.92065248]\n",
      " [1.92363284 1.92363284 1.92363284 1.92363284]\n",
      " [1.9266132  1.9266132  1.9266132  1.9266132 ]\n",
      " [1.92959356 1.92959356 1.92959356 1.92959356]\n",
      " [1.93257392 1.93257392 1.93257392 1.93257392]\n",
      " [1.93555428 1.93555428 1.93555428 1.93555428]\n",
      " [1.93853464 1.93853464 1.93853464 1.93853464]\n",
      " [1.941515   1.941515   1.941515   1.941515  ]\n",
      " [1.94449536 1.94449536 1.94449536 1.94449536]\n",
      " [1.94747572 1.94747572 1.94747572 1.94747572]\n",
      " [1.95045608 1.95045608 1.95045608 1.95045608]\n",
      " [1.95343644 1.95343644 1.95343644 1.95343644]\n",
      " [1.9564168  1.9564168  1.9564168  1.9564168 ]\n",
      " [1.95939716 1.95939716 1.95939716 1.95939716]\n",
      " [1.96237752 1.96237752 1.96237752 1.96237752]\n",
      " [1.96535788 1.96535788 1.96535788 1.96535788]\n",
      " [1.96833823 1.96833823 1.96833823 1.96833823]\n",
      " [1.97131859 1.97131859 1.97131859 1.97131859]]\n"
     ]
    }
   ],
   "source": [
    "print(cpObj.cpinfo['raw']['lst'])"
   ]
  },
  {
   "cell_type": "code",
   "execution_count": 13,
   "metadata": {},
   "outputs": [
    {
     "name": "stdout",
     "output_type": "stream",
     "text": [
      "[u'raw', 'processed', 'errinfo']\n"
     ]
    }
   ],
   "source": [
    "print(cpObj.cpinfo.keys())"
   ]
  },
  {
   "cell_type": "code",
   "execution_count": 14,
   "metadata": {},
   "outputs": [
    {
     "name": "stdout",
     "output_type": "stream",
     "text": [
      "[u'triads', u'cphase', u'days', u'lst-day', u'lst', u'flags']\n",
      "(37, 3)\n",
      "(4,)\n",
      "(120, 4)\n",
      "(120, 4)\n",
      "(120, 4, 37, 1024)\n"
     ]
    }
   ],
   "source": [
    "print(cpObj.cpinfo['raw'].keys())\n",
    "print(cpObj.cpinfo['raw']['triads'].shape)\n",
    "print(cpObj.cpinfo['raw']['days'].shape)\n",
    "print(cpObj.cpinfo['raw']['lst-day'].shape)\n",
    "print(cpObj.cpinfo['raw']['lst'].shape)\n",
    "print(cpObj.cpinfo['raw']['cphase'].shape)"
   ]
  },
  {
   "cell_type": "markdown",
   "metadata": {},
   "source": [
    "## Smooth in LST and days"
   ]
  },
  {
   "cell_type": "code",
   "execution_count": 15,
   "metadata": {},
   "outputs": [
    {
     "name": "stdout",
     "output_type": "stream",
     "text": [
      "('day bin size = None', 'ndaybins=2', 'LST bin size = 60.0s')\n"
     ]
    },
    {
     "name": "stderr",
     "output_type": "stream",
     "text": [
      "/lustre/aoc/users/nthyagar/src/miniconda2/envs/PRISim-dev/lib/python2.7/site-packages/scipy/stats/_binned_statistic.py:607: FutureWarning: Using a non-tuple sequence for multidimensional indexing is deprecated; use `arr[tuple(seq)]` instead of `arr[seq]`. In the future this will be interpreted as an array index, `arr[np.array(seq)]`, which will result either in an error or a different result.\n",
      "  result = result[core]\n"
     ]
    }
   ],
   "source": [
    "print('day bin size = '+str(daybinsize), 'ndaybins={0:0d}'.format(ndaybins), 'LST bin size = {0:.1f}s'.format(lstbinsize))\n",
    "cpObj.smooth_in_tbins(daybinsize=daybinsize, ndaybins=ndaybins, lstbinsize=lstbinsize)"
   ]
  },
  {
   "cell_type": "code",
   "execution_count": 16,
   "metadata": {},
   "outputs": [
    {
     "name": "stdout",
     "output_type": "stream",
     "text": [
      "['prelim', 'native']\n"
     ]
    }
   ],
   "source": [
    "print(cpObj.cpinfo['processed'].keys())"
   ]
  },
  {
   "cell_type": "code",
   "execution_count": 17,
   "metadata": {},
   "outputs": [
    {
     "name": "stdout",
     "output_type": "stream",
     "text": [
      "['cphase', 'wts', 'eicp', 'dlstbins', 'daybins', 'lstbins', 'diff_dbins']\n",
      "['rms', 'median', 'mad', 'mean']\n",
      "(22,)\n",
      "[1.62498909 1.64165576 1.65832243 1.67498909 1.69165576 1.70832243\n",
      " 1.72498909 1.74165576 1.75832243 1.77498909 1.79165576 1.80832243\n",
      " 1.82498909 1.84165576 1.85832243 1.87498909 1.89165576 1.90832243\n",
      " 1.92498909 1.94165576 1.95832243 1.97498909]\n",
      "(2,)\n",
      "[2458445.83629826 2458447.83629826]\n",
      "(22, 2, 37, 1024)\n",
      "(22, 2, 37, 1024)\n"
     ]
    }
   ],
   "source": [
    "print(cpObj.cpinfo['processed']['prelim'].keys())\n",
    "print(cpObj.cpinfo['processed']['prelim']['cphase'].keys())\n",
    "print(cpObj.cpinfo['processed']['prelim']['lstbins'].shape)\n",
    "print(cpObj.cpinfo['processed']['prelim']['lstbins'])\n",
    "print(cpObj.cpinfo['processed']['prelim']['daybins'].shape)\n",
    "print(cpObj.cpinfo['processed']['prelim']['daybins'])\n",
    "print(cpObj.cpinfo['processed']['prelim']['cphase']['median'].shape)\n",
    "print(cpObj.cpinfo['processed']['prelim']['eicp']['median'].shape)"
   ]
  },
  {
   "cell_type": "markdown",
   "metadata": {},
   "source": [
    "## Subtract a model of Closure Phase (optional)\n",
    "### Creates new keys 'submodel' and 'residual' with a key-value structure similar to 'prelim'"
   ]
  },
  {
   "cell_type": "code",
   "execution_count": 18,
   "metadata": {},
   "outputs": [
    {
     "name": "stdout",
     "output_type": "stream",
     "text": [
      "['prelim', 'residual', 'submodel', 'native']\n"
     ]
    }
   ],
   "source": [
    "cpObj.subtract(NP.zeros(1024))\n",
    "print(cpObj.cpinfo['processed'].keys())"
   ]
  },
  {
   "cell_type": "markdown",
   "metadata": {},
   "source": [
    "## Create subsample differences to keep track of noise from the noisy data"
   ]
  },
  {
   "cell_type": "code",
   "execution_count": 19,
   "metadata": {},
   "outputs": [
    {
     "name": "stdout",
     "output_type": "stream",
     "text": [
      "('ndaybins=4', 'LST bin size = 60.0s')\n"
     ]
    }
   ],
   "source": [
    "# ndaybins=4\n",
    "print('ndaybins={0:0d}'.format(4), 'LST bin size = {0:.1f}s'.format(lstbinsize))\n",
    "cpObj.subsample_differencing(daybinsize=None, ndaybins=4, lstbinsize=lstbinsize)"
   ]
  },
  {
   "cell_type": "code",
   "execution_count": 20,
   "metadata": {},
   "outputs": [
    {
     "name": "stdout",
     "output_type": "stream",
     "text": [
      "['wts', 'eicp_diff', 'dlstbins', 'daybins', 'lstbins', 'list_of_pair_of_pairs', 'diff_dbins']\n",
      "(4,)\n",
      "(22,)\n",
      "3\n",
      "[[0, 1, 2, 3], [0, 2, 1, 3], [0, 3, 1, 2]]\n",
      "['1', '0']\n",
      "['median', 'mean']\n",
      "(22, 3, 37, 1024)\n",
      "(22, 3, 37, 1024)\n"
     ]
    }
   ],
   "source": [
    "print(cpObj.cpinfo['errinfo'].keys())\n",
    "print(cpObj.cpinfo['errinfo']['daybins'].shape)\n",
    "print(cpObj.cpinfo['errinfo']['lstbins'].shape)\n",
    "print(len(cpObj.cpinfo['errinfo']['list_of_pair_of_pairs']))\n",
    "print(cpObj.cpinfo['errinfo']['list_of_pair_of_pairs'])\n",
    "print(cpObj.cpinfo['errinfo']['eicp_diff'].keys())\n",
    "print(cpObj.cpinfo['errinfo']['eicp_diff']['0'].keys())\n",
    "print(cpObj.cpinfo['errinfo']['eicp_diff']['0']['median'].shape)\n",
    "print(cpObj.cpinfo['errinfo']['eicp_diff']['1']['median'].shape)"
   ]
  },
  {
   "cell_type": "markdown",
   "metadata": {},
   "source": [
    "## Create an instance of class ClosurePhaseDelaySpectrum"
   ]
  },
  {
   "cell_type": "code",
   "execution_count": 21,
   "metadata": {},
   "outputs": [],
   "source": [
    "cpDSobj = BSP.ClosurePhaseDelaySpectrum(cpObj)"
   ]
  },
  {
   "cell_type": "markdown",
   "metadata": {},
   "source": [
    "## Prepare to compute delay spectrum of the ClosurePhaseDelaySpectrum instance"
   ]
  },
  {
   "cell_type": "code",
   "execution_count": 22,
   "metadata": {},
   "outputs": [],
   "source": [
    "if visinfo is not None:\n",
    "    if visfiletype == 'hdf5':\n",
    "        visscaleinfo = {'vis': vistriad, 'lst': visinfo['header']['LST'], 'smoothinfo': {'op_type': 'interp1d', 'interp_kind': 'linear'}}\n",
    "    else:\n",
    "        visscaleinfo = {'vis': visinfo, 'bltriplet': bl, 'smoothinfo': {'op_type': 'interp1d', 'interp_kind': 'linear'}}\n",
    "else:\n",
    "    visscaleinfo = None"
   ]
  },
  {
   "cell_type": "code",
   "execution_count": 23,
   "metadata": {},
   "outputs": [
    {
     "name": "stdout",
     "output_type": "stream",
     "text": [
      "('freq window centers = ', array([1.265e+08, 1.630e+08]))\n",
      "('freq window BW eff = ', array([10000000., 10000000.]))\n",
      "freq window shape = bhw\n",
      "freq window fftpow = 2.0\n",
      "pad = 1.0\n"
     ]
    }
   ],
   "source": [
    "print('freq window centers = ', freq_window_centers)\n",
    "print('freq window BW eff = ', freq_window_bw)\n",
    "print('freq window shape = '+freq_window_shape)\n",
    "print('freq window fftpow = {0:.1f}'.format(freq_window_fftpow))\n",
    "print('pad = {0:.1f}'.format(pad))"
   ]
  },
  {
   "cell_type": "markdown",
   "metadata": {},
   "source": [
    "## compute delay spectrum of the ClosurePhaseDelaySpectrum instance"
   ]
  },
  {
   "cell_type": "code",
   "execution_count": 24,
   "metadata": {},
   "outputs": [
    {
     "name": "stderr",
     "output_type": "stream",
     "text": [
      "/lustre/aoc/users/nthyagar/src/miniconda2/envs/PRISim-dev/lib/python2.7/site-packages/numpy/ma/core.py:2788: ComplexWarning: Casting complex values to real discards the imaginary part\n",
      "  order=order, subok=True, ndmin=ndmin)\n",
      "/lustre/aoc/users/nthyagar/src/miniconda2/envs/PRISim-dev/lib/python2.7/site-packages/astroutils/mathops.py:1344: RuntimeWarning: invalid value encountered in less\n",
      "  mask_out = NP.logical_or(wts_interped.data < eps, NP.isnan(wts_interped.data)) # Mask small, negative, and NaN weights\n"
     ]
    },
    {
     "name": "stdout",
     "output_type": "stream",
     "text": [
      "\tRenormalized the shaping window to unit power.\n",
      "\tRenormalized the shaping window to unit power.\n"
     ]
    }
   ],
   "source": [
    "cpds = cpDSobj.FT(freq_window_bw, freq_center=freq_window_centers, shape=freq_window_shape, fftpow=freq_window_fftpow, pad=pad, datapool='prelim', visscaleinfo=visscaleinfo, method='fft', resample=True, apply_flags=apply_flags)"
   ]
  },
  {
   "cell_type": "markdown",
   "metadata": {},
   "source": [
    "## Load model closure phase spectra"
   ]
  },
  {
   "cell_type": "code",
   "execution_count": 25,
   "metadata": {},
   "outputs": [],
   "source": [
    "model_cpObjs = []\n",
    "if model_hdf5files is not None:\n",
    "    for i in range(len(model_hdf5files)):\n",
    "        mdl_infile_no_ext = model_hdf5files[i].split('.hdf5')[0]\n",
    "        model_cpObj = BSP.ClosurePhase(modelsdir+model_hdf5files[i], freqs, infmt='hdf5')\n",
    "        model_cpObj.smooth_in_tbins(daybinsize=daybinsize, ndaybins=mdl_ndaybins[i], lstbinsize=lstbinsize)\n",
    "        model_cpObj.subsample_differencing(daybinsize=None, ndaybins=4, lstbinsize=lstbinsize)\n",
    "        model_cpObj.subtract(NP.zeros(1024))\n",
    "        model_cpObjs += [copy.deepcopy(model_cpObj)]"
   ]
  },
  {
   "cell_type": "markdown",
   "metadata": {},
   "source": [
    "## Gather info on plots to be made"
   ]
  },
  {
   "cell_type": "code",
   "execution_count": 26,
   "metadata": {},
   "outputs": [
    {
     "name": "stdout",
     "output_type": "stream",
     "text": [
      "['2c', '2c_err', '3', '2', '3c']\n"
     ]
    }
   ],
   "source": [
    "plot_info = parms['plot']\n",
    "plots = [key for key in plot_info if plot_info[key]['action']]\n",
    "print(plots)"
   ]
  },
  {
   "cell_type": "markdown",
   "metadata": {},
   "source": [
    "### Plot 1h: # Plot closure spectra deviations from mean/median during the averaging process and their RMS"
   ]
  },
  {
   "cell_type": "code",
   "execution_count": 26,
   "metadata": {},
   "outputs": [],
   "source": [
    "if '1h' in plots:\n",
    "    statistic = plot_info['1h']['statistic']\n",
    "    timetriad_selection = plot_info['1h']['selection']\n",
    "    cpdev = cpObj.cpinfo['processed']['prelim']['cphase'][statistic]\n",
    "    if timetriad_selection is not None:\n",
    "        dayind = timetriad_selection['dayind']\n",
    "    else:\n",
    "        dayind = 0\n",
    "    for key in timetriad_selection:\n",
    "        if timetriad_selection[key] is not None:\n",
    "            if key == 'triads':\n",
    "                triads = map(tuple, timetriad_selection[key])\n",
    "            elif key == 'lstrange':\n",
    "                lstrange = timetriad_selection[key]\n",
    "                lstbins = cpObj.cpinfo['processed']['prelim']['lstbins']\n",
    "                if lstrange is None:\n",
    "                    lstinds = NP.arange(lstbins.size)\n",
    "                else:\n",
    "                    lstrange = NP.asarray(lstrange)\n",
    "                    lstinds = NP.where(NP.logical_and(lstbins >= lstrange.min(), lstbins <= lstrange.max()))[0]\n",
    "        else:\n",
    "            if key == 'triads':\n",
    "                triads = map(tuple, cpDSobj.cPhase.cpinfo['raw']['triads'])\n",
    "            elif key == 'lstrange':\n",
    "                lstbins = cpObj.cpinfo['processed']['prelim']['lstbins']\n",
    "                lstinds = NP.arange(lstbins.size)\n",
    "    print(cpdev.shape)\n",
    "    print(lstrange)\n",
    "    print(lstbins)\n",
    "    print(lstinds)"
   ]
  },
  {
   "cell_type": "code",
   "execution_count": 27,
   "metadata": {},
   "outputs": [
    {
     "ename": "NameError",
     "evalue": "name 'lstinds' is not defined",
     "output_type": "error",
     "traceback": [
      "\u001b[0;31m---------------------------------------------------------------------------\u001b[0m",
      "\u001b[0;31mNameError\u001b[0m                                 Traceback (most recent call last)",
      "\u001b[0;32m<ipython-input-27-b421919d99a2>\u001b[0m in \u001b[0;36m<module>\u001b[0;34m()\u001b[0m\n\u001b[1;32m      1\u001b[0m \u001b[0mncol\u001b[0m \u001b[0;34m=\u001b[0m \u001b[0;36m3\u001b[0m\u001b[0;34m\u001b[0m\u001b[0m\n\u001b[0;32m----> 2\u001b[0;31m \u001b[0mnrow\u001b[0m \u001b[0;34m=\u001b[0m \u001b[0mmin\u001b[0m\u001b[0;34m(\u001b[0m\u001b[0;36m4\u001b[0m\u001b[0;34m,\u001b[0m \u001b[0mint\u001b[0m\u001b[0;34m(\u001b[0m\u001b[0mNP\u001b[0m\u001b[0;34m.\u001b[0m\u001b[0mceil\u001b[0m\u001b[0;34m(\u001b[0m\u001b[0;36m1.0\u001b[0m\u001b[0;34m*\u001b[0m\u001b[0mlstinds\u001b[0m\u001b[0;34m.\u001b[0m\u001b[0msize\u001b[0m\u001b[0;34m/\u001b[0m\u001b[0mncol\u001b[0m\u001b[0;34m)\u001b[0m\u001b[0;34m)\u001b[0m\u001b[0;34m)\u001b[0m\u001b[0;34m\u001b[0m\u001b[0m\n\u001b[0m\u001b[1;32m      3\u001b[0m \u001b[0mnpages\u001b[0m \u001b[0;34m=\u001b[0m \u001b[0mint\u001b[0m\u001b[0;34m(\u001b[0m\u001b[0mNP\u001b[0m\u001b[0;34m.\u001b[0m\u001b[0mceil\u001b[0m\u001b[0;34m(\u001b[0m\u001b[0;36m1.0\u001b[0m \u001b[0;34m*\u001b[0m \u001b[0mlstinds\u001b[0m\u001b[0;34m.\u001b[0m\u001b[0msize\u001b[0m \u001b[0;34m/\u001b[0m \u001b[0;34m(\u001b[0m\u001b[0mnrow\u001b[0m\u001b[0;34m*\u001b[0m\u001b[0mncol\u001b[0m\u001b[0;34m)\u001b[0m\u001b[0;34m)\u001b[0m\u001b[0;34m)\u001b[0m\u001b[0;34m\u001b[0m\u001b[0m\n\u001b[1;32m      4\u001b[0m \u001b[0mnlst_remain\u001b[0m \u001b[0;34m=\u001b[0m \u001b[0mlstinds\u001b[0m\u001b[0;34m.\u001b[0m\u001b[0msize\u001b[0m\u001b[0;34m\u001b[0m\u001b[0m\n\u001b[1;32m      5\u001b[0m \u001b[0;32mfor\u001b[0m \u001b[0mpagei\u001b[0m \u001b[0;32min\u001b[0m \u001b[0mrange\u001b[0m\u001b[0;34m(\u001b[0m\u001b[0mnpages\u001b[0m\u001b[0;34m)\u001b[0m\u001b[0;34m:\u001b[0m\u001b[0;34m\u001b[0m\u001b[0m\n",
      "\u001b[0;31mNameError\u001b[0m: name 'lstinds' is not defined"
     ]
    }
   ],
   "source": [
    "    ncol = 3\n",
    "    nrow = min(4, int(NP.ceil(1.0*lstinds.size/ncol)))\n",
    "    npages = int(NP.ceil(1.0 * lstinds.size / (nrow*ncol)))\n",
    "    nlst_remain = lstinds.size\n",
    "    for pagei in range(npages):\n",
    "        if pagei > 0:\n",
    "            nlst_remain = lstinds.size - pagei * nrow * ncol\n",
    "            nrow = min(4, int(NP.ceil(1.0*nlst_remain/ncol)))\n",
    "        fig, axs = PLT.subplots(nrows=nrow, ncols=ncol, sharex=True, sharey=True, figsize=(10,8))\n",
    "        for i in range(nrow):\n",
    "            for j in range(ncol):\n",
    "                lstind = (lstinds.size - nlst_remain) + i*ncol+j\n",
    "                if lstind < lstinds.size:\n",
    "                    lind = lstinds[lstind]\n",
    "                    for triad in triads:\n",
    "                        triad_ind = triads.index(triad)\n",
    "                        axs[i,j].plot(1e-6*freqs, NP.degrees(cpdev[lind,dayind,triad_ind,:]), marker='.', ms=2, ls='none')\n",
    "                        axs[i,j].text(0.5, 0.97, '{0:.2f} hrs'.format(lstbins[lind]), transform=axs[i,j].transAxes, fontsize=10, weight='medium', ha='center', va='top', color='black')\n",
    "                else:\n",
    "                    axs[i,j].axis('off')\n",
    "                axs[i,j].set_xlim(1e-6*freqs.min(), 1e-6*freqs.max())\n",
    "                axs[i,j].set_ylim(0,39)\n",
    "\n",
    "        fig.subplots_adjust(hspace=0, wspace=0)\n",
    "        fig.subplots_adjust(top=0.95)\n",
    "        fig.subplots_adjust(left=0.1)\n",
    "        fig.subplots_adjust(bottom=0.15)\n",
    "        fig.subplots_adjust(right=0.98)\n",
    "\n",
    "        big_ax = fig.add_subplot(111)\n",
    "        big_ax.set_facecolor('none') # matplotlib.__version__ >= 2.0.0\n",
    "        # big_ax.set_axis_bgcolor('none') # matplotlib.__version__ < 2.0.0\n",
    "        big_ax.tick_params(labelcolor='none', top=False, bottom=False, left=False, right=False)\n",
    "        big_ax.set_xticks([])\n",
    "        big_ax.set_yticks([])\n",
    "        big_ax.set_xlabel(r'$f$ [MHz]', fontsize=12, weight='medium', labelpad=20)\n",
    "        big_ax.set_ylabel(r'$\\sigma_{\\phi_\\nabla}$ [degrees]', fontsize=12, weight='medium', labelpad=35)\n",
    "\n",
    "        # PLT.savefig(figdir + '{0}_cp{1}_spectra_{2}_{2}_{4}_triads_day_{4}_{5:.1f}x_sparse_page_{6:03d}_of_{8:0d}.png'.format(statistic, infile_no_ext, flags_str, datastr, len(triads), dayind, sparseness, pagei+1, npages), bbox_inches=0)\n",
    "        # PLT.savefig(figdir + '{0}_cp{1}_spectra_{2}_{2}_{4}_triads_day_{4}_{5:.1f}x_sparse_page_{6:03d}_of_{8:0d}.eps'.format(statistic, infile_no_ext, flags_str, datastr, len(triads), dayind, sparseness, pagei+1, npages), bbox_inches=0)"
   ]
  },
  {
   "cell_type": "markdown",
   "metadata": {},
   "source": [
    "## Plot 2: Plot closure phase delay power spectra"
   ]
  },
  {
   "cell_type": "code",
   "execution_count": 27,
   "metadata": {},
   "outputs": [],
   "source": [
    "if ('2' in plots) or ('2a' in plots) or ('2b' in plots) or ('2c' in plots) or ('2d' in plots):\n",
    "    dir_PS = plot_info['2']['PS_dir']\n",
    "    infile_pfx_a = plot_info['2']['infile_pfx_a']\n",
    "    outfile_pfx_a = plot_info['2']['outfile_pfx_a']\n",
    "    infile_pfx_b = plot_info['2']['infile_pfx_b']\n",
    "    outfile_pfx_b = plot_info['2']['outfile_pfx_b']\n",
    "    sampling = plot_info['2']['sampling']\n",
    "    statistic = plot_info['2']['statistic']\n",
    "    cohax = plot_info['2']['cohax']\n",
    "    incohax = plot_info['2']['incohax']\n",
    "    collapseax_a = plot_info['2']['collapseax_a']\n",
    "    collapseax_b = plot_info['2']['collapseax_b']\n",
    "    datapool = plot_info['2']['datapool']\n",
    "    pspec_unit_type = plot_info['2']['units']\n",
    "    ps_errtype = plot_info['2']['errtype']\n",
    "    nsigma = plot_info['2']['nsigma']\n",
    "    beaminfo = plot_info['2']['beaminfo']\n",
    "    xlim = plot_info['2']['xlim']\n",
    "    if infile_pfx_a is not None:\n",
    "        ps_infile_a = datadir + dir_PS + infile_pfx_a + '_' + infile_no_ext + '.hdf5'\n",
    "        pserr_infile_a = datadir + dir_PS + infile_pfx_a + '_' + infile_no_ext + '_errinfo.hdf5'\n",
    "    if outfile_pfx_a is not None:\n",
    "        ps_outfile_a = datadir + dir_PS + outfile_pfx_a + '_' + infile_no_ext + '.hdf5'\n",
    "        pserr_outfile_a = datadir + dir_PS + outfile_pfx_a + '_' + infile_no_ext + '_errinfo.hdf5'\n",
    "\n",
    "    if infile_pfx_b is not None:\n",
    "        ps_infile_b = datadir + dir_PS + infile_pfx_b + '_' + infile_no_ext + '.hdf5'\n",
    "        pserr_infile_b = datadir + dir_PS + infile_pfx_b + '_' + infile_no_ext + '_errinfo.hdf5'\n",
    "    if outfile_pfx_b is not None:\n",
    "        ps_outfile_b = datadir + dir_PS + outfile_pfx_b + '_' + infile_no_ext + '.hdf5'\n",
    "        pserr_outfile_b = datadir + dir_PS + outfile_pfx_b + '_' + infile_no_ext + '_errinfo.hdf5'\n",
    "\n",
    "    timetriad_selection = plot_info['2']['selection']\n",
    "    if timetriad_selection is not None:\n",
    "        dayind = timetriad_selection['days']\n",
    "    for key in timetriad_selection:\n",
    "        if timetriad_selection[key] is not None:\n",
    "            if key == 'triads':\n",
    "                triads = map(tuple, timetriad_selection[key])\n",
    "            elif key == 'lstrange':\n",
    "                lstrange = timetriad_selection[key]\n",
    "                lstbins = cpObj.cpinfo['processed']['prelim']['lstbins']\n",
    "                if lstrange is None:\n",
    "                    lstinds = NP.arange(lstbins.size)\n",
    "                else:\n",
    "                    lstrange = NP.asarray(lstrange)\n",
    "                    lstinds = NP.where(NP.logical_and(lstbins >= lstrange.min(), lstbins <= lstrange.max()))[0]\n",
    "                    if lstinds.size == 0:\n",
    "                        raise ValueError('No data found in the specified LST range.')\n",
    "        else:\n",
    "            if key == 'triads':\n",
    "                triads = map(tuple, cpDSobj.cPhase.cpinfo['raw']['triads'])\n",
    "            elif key == 'lstrange':\n",
    "                lstbins = cpObj.cpinfo['processed']['prelim']['lstbins']\n",
    "                lstinds = NP.arange(lstbins.size)\n",
    "    selection = {'triads': triads, 'lst': lstinds, 'days': dayind}\n",
    "    autoinfo = {'axes': cohax}\n",
    "    xinfo_a = {'axes': incohax, 'avgcov': False, 'collapse_axes': collapseax_a, 'dlst_range': timetriad_selection['dlst_range']}\n",
    "    xinfo_b = {'axes': incohax, 'avgcov': False, 'collapse_axes': collapseax_b, 'dlst_range': timetriad_selection['dlst_range']}\n",
    "\n",
    "    if pspec_unit_type == 'K':\n",
    "        pspec_unit = 'mK2 Mpc3'\n",
    "    else:\n",
    "        pspec_unit = 'Jy2 Mpc'\n",
    "\n",
    "    subselection = plot_info['2']['subselection']\n",
    "#     mdl_ndaybins = plot_info['2']['modelinfo']['mdl_ndaybins']\n",
    "    mdl_day = plot_info['2']['modelinfo']['mdl_day']\n",
    "    mdl_cohax = plot_info['2']['modelinfo']['mdl_cohax']\n",
    "    mdl_incohax = plot_info['2']['modelinfo']['mdl_incohax']\n",
    "    mdl_collapseax_a = plot_info['2']['modelinfo']['mdl_collapax_a']\n",
    "    mdl_collapseax_b = plot_info['2']['modelinfo']['mdl_collapax_b']\n",
    "    mdl_dir_PS = plot_info['2']['modelinfo']['PS_dir']\n",
    "    mdl_infile_pfx_a = plot_info['2']['modelinfo']['infile_pfx_a']\n",
    "    mdl_outfile_pfx_a = plot_info['2']['modelinfo']['outfile_pfx_a']\n",
    "    mdl_infile_pfx_b = plot_info['2']['modelinfo']['infile_pfx_b']\n",
    "    mdl_outfile_pfx_b = plot_info['2']['modelinfo']['outfile_pfx_b']\n",
    "\n",
    "    if model_hdf5files is not None:\n",
    "        mdl_autoinfo = [{'axes': mdl_cohax[i]} for i in range(len(model_hdf5files))]\n",
    "        mdl_xinfo_a = [{'axes': mdl_incohax[i], 'avgcov': False, 'collapse_axes': mdl_collapseax_a[i], 'dlst_range': timetriad_selection['dlst_range']} for i in range(len(model_hdf5files))]\n",
    "        mdl_xinfo_b = [{'axes': mdl_incohax[i], 'avgcov': False, 'collapse_axes': mdl_collapseax_b[i], 'dlst_range': timetriad_selection['dlst_range']} for i in range(len(model_hdf5files))]\n",
    "\n",
    "    if statistic is None:\n",
    "        statistic = ['mean', 'median']\n",
    "    else:\n",
    "        statistic = [statistic]"
   ]
  },
  {
   "cell_type": "markdown",
   "metadata": {},
   "source": [
    "### Read (from existing HDF5) / compute cross-PS and cross-PS-error and save (if requested) to a HDF5 file for easier reading"
   ]
  },
  {
   "cell_type": "code",
   "execution_count": 28,
   "metadata": {},
   "outputs": [],
   "source": [
    "    if infile_pfx_a is not None:\n",
    "        xcpdps2_a = BSP.read_CPhase_cross_power_spectrum(ps_infile_a)\n",
    "        xcpdps2_a_errinfo = BSP.read_CPhase_cross_power_spectrum(pserr_infile_a)\n",
    "    else:\n",
    "        xcpdps2_a = cpDSobj.compute_power_spectrum(selection=selection, autoinfo=autoinfo, xinfo=xinfo_a, units=pspec_unit_type, beamparms=beaminfo)\n",
    "        xcpdps2_a_errinfo = cpDSobj.compute_power_spectrum_uncertainty(selection=selection, autoinfo=autoinfo, xinfo=xinfo_a, units=pspec_unit_type, beamparms=beaminfo)\n",
    "    if outfile_pfx_a is not None:\n",
    "        BSP.save_CPhase_cross_power_spectrum(xcpdps2_a, ps_outfile_a)\n",
    "        BSP.save_CPhase_cross_power_spectrum(xcpdps2_a_errinfo, pserr_outfile_a)\n",
    "\n",
    "    if infile_pfx_b is not None:\n",
    "        xcpdps2_b = BSP.read_CPhase_cross_power_spectrum(ps_infile_b)\n",
    "        xcpdps2_b_errinfo = BSP.read_CPhase_cross_power_spectrum(pserr_infile_b)\n",
    "    else:\n",
    "        xcpdps2_b = cpDSobj.compute_power_spectrum(selection=selection, autoinfo=autoinfo, xinfo=xinfo_b, units=pspec_unit_type, beamparms=beaminfo)\n",
    "        xcpdps2_b_errinfo = cpDSobj.compute_power_spectrum_uncertainty(selection=selection, autoinfo=autoinfo, xinfo=xinfo_b, units=pspec_unit_type, beamparms=beaminfo)\n",
    "    if outfile_pfx_b is not None:\n",
    "        BSP.save_CPhase_cross_power_spectrum(xcpdps2_b, ps_outfile_b)\n",
    "        BSP.save_CPhase_cross_power_spectrum(xcpdps2_b_errinfo, pserr_outfile_b)"
   ]
  },
  {
   "cell_type": "code",
   "execution_count": 29,
   "metadata": {},
   "outputs": [],
   "source": [
    "    nsamples_incoh = xcpdps2_a[sampling]['whole']['nsamples_incoh']\n",
    "    nsamples_coh = xcpdps2_a[sampling]['whole']['nsamples_coh']"
   ]
  },
  {
   "cell_type": "markdown",
   "metadata": {},
   "source": [
    "### Read/compute model cross-PS and model cross-PS errors and save (if requested) to external HDF5 file for easier reading later"
   ]
  },
  {
   "cell_type": "code",
   "execution_count": 30,
   "metadata": {},
   "outputs": [
    {
     "name": "stderr",
     "output_type": "stream",
     "text": [
      "100% |-----------------------------------------------| 2/2 Models Time: 0:00:07\n"
     ]
    }
   ],
   "source": [
    "    model_cpDSobjs = []\n",
    "    cpds_models = []\n",
    "    xcpdps2_a_models = []\n",
    "    xcpdps2_a_errinfo_models = []\n",
    "    xcpdps2_b_models = []\n",
    "    xcpdps2_b_errinfo_models = []\n",
    "\n",
    "    if model_hdf5files is not None:\n",
    "        if mdl_infile_pfx_a is not None:\n",
    "            if isinstance(mdl_infile_pfx_a, list):\n",
    "                if (len(mdl_infile_pfx_a) > 0):\n",
    "                    if not isinstance(mdl_dir_PS, list):\n",
    "                        if isinstance(mdl_dir_PS, str):\n",
    "                            mdl_dir_PS = [mdl_dir_PS] * len(model_hdf5files)\n",
    "                        else:\n",
    "                            raise TypeError('PS directory for models must be a list of strings')\n",
    "                    else:\n",
    "                        if len(mdl_dir_PS) != len(model_hdf5files):\n",
    "                            raise ValueError('Input model PS directories must match the number of models being analyzed.')\n",
    "            else:\n",
    "                raise TypeError('Input model PS infile_a prefixes must be specified as a list of strings')\n",
    "\n",
    "        if mdl_infile_pfx_b is not None:\n",
    "            if isinstance(mdl_infile_pfx_b, list):\n",
    "                if len(mdl_infile_pfx_b) != len(mdl_infile_pfx_b):\n",
    "                    raise ValueError('Length of input model PS infile_b prefixes must match the length of input model PS infile_a prefixes')\n",
    "            else:\n",
    "                raise TypeError('Input model PS infile_b prefixes must be specified as a list of strings')\n",
    "\n",
    "        progress = PGB.ProgressBar(widgets=[PGB.Percentage(), PGB.Bar(marker='-', left=' |', right='| '), PGB.Counter(), '/{0:0d} Models '.format(len(model_hdf5files)), PGB.ETA()], maxval=len(model_hdf5files)).start()\n",
    "\n",
    "        for i in range(len(model_hdf5files)):\n",
    "            mdl_infile_no_ext = model_hdf5files[i].split('.hdf5')[0]\n",
    "            mdl_ps_infile_a_provided = False\n",
    "            mdl_pserr_infile_a_provided = False\n",
    "            mdl_ps_infile_b_provided = False\n",
    "            mdl_pserr_infile_b_provided = False\n",
    "            if mdl_infile_pfx_a is not None:\n",
    "                if len(mdl_infile_pfx_a) > 0:\n",
    "                    if mdl_infile_pfx_a[i] is not None:\n",
    "                        if not isinstance(mdl_infile_pfx_a[i], str):\n",
    "                            raise TypeError('Input {0}-th model cross PS file must be a string'.format(i+1))\n",
    "                        else:\n",
    "                            try:\n",
    "                                model_xcpdps2_a = BSP.read_CPhase_cross_power_spectrum(mdl_dir_PS[i]+mdl_infile_pfx_a[i]+'_'+mdl_infile_no_ext+'.hdf5')\n",
    "                            except IOError as xcption:\n",
    "                                mdl_ps_infile_a_provided = False\n",
    "                                warnings.warn('Provided model cross-power spectrum infile_a \"{0}\" could not be opened. Will proceed with computing of model cross power spectrum based on parameters specified.'.format(mdl_dir_PS[i]+mdl_infile_pfx_a[i]+'.hdf5'))\n",
    "                            else:\n",
    "                                mdl_ps_infile_a_provided = True\n",
    "                                xcpdps2_a_models += [copy.deepcopy(model_xcpdps2_a)]\n",
    "\n",
    "                            try:\n",
    "                                model_xcpdps2_a_errinfo = BSP.read_CPhase_cross_power_spectrum(mdl_dir_PS[i]+mdl_infile_pfx_a[i]+'_'+mdl_infile_no_ext+'_errinfo.hdf5')\n",
    "                            except IOError as xcption:\n",
    "                                mdl_pserr_infile_a_provided = False\n",
    "                                warnings.warn('Provided model cross-power spectrum infile_a \"{0}\" could not be opened. Will proceed with computing of model cross power spectrum based on parameters specified.'.format(mdl_dir_PS[i]+mdl_infile_pfx_a[i]+'_errinfo.hdf5'))\n",
    "                            else:\n",
    "                                mdl_pserr_infile_a_provided = True\n",
    "                                xcpdps2_a_errinfo_models += [copy.deepcopy(model_xcpdps2_a_errinfo)]\n",
    "\n",
    "            if mdl_infile_pfx_b is not None:\n",
    "                if len(mdl_infile_pfx_b) > 0:\n",
    "                    if mdl_infile_pfx_b[i] is not None:\n",
    "                        if not isinstance(mdl_infile_pfx_b[i], str):\n",
    "                            raise TypeError('Input {0}-th model cross PS file must be a string'.format(i+1))\n",
    "                        else:\n",
    "                            try:\n",
    "                                model_xcpdps2_b = BSP.read_CPhase_cross_power_spectrum(mdl_dir_PS[i]+mdl_infile_pfx_b[i]+'_'+mdl_infile_no_ext+'.hdf5')\n",
    "                            except IOError as xcption:\n",
    "                                mdl_ps_infile_b_provided = False\n",
    "                                warnings.warn('Provided model cross-power spectrum infile_b \"{0}\" could not be opened. Will proceed with computing of model cross power spectrum based on parameters specified.'.format(mdl_dir_PS[i]+mdl_infile_pfx_b[i]+'.hdf5'))\n",
    "                            else:\n",
    "                                mdl_ps_infile_b_provided = True\n",
    "                                xcpdps2_b_models += [copy.deepcopy(model_xcpdps2_b)]\n",
    "\n",
    "                            try:\n",
    "                                model_xcpdps2_b_errinfo = BSP.read_CPhase_cross_power_spectrum(mdl_dir_PS[i]+mdl_infile_pfx_b[i]+'_'+mdl_infile_no_ext+'_errinfo.hdf5')\n",
    "                            except IOError as xcption:\n",
    "                                mdl_pserr_infile_b_provided = False\n",
    "                                warnings.warn('Provided model cross-power spectrum infile_b \"{0}\" could not be opened. Will proceed with computing of model cross power spectrum based on parameters specified.'.format(mdl_dir_PS[i]+mdl_infile_pfx_b[i]+'_errinfo.hdf5'))\n",
    "                            else:\n",
    "                                mdl_pserr_infile_b_provided = True\n",
    "                                xcpdps2_b_errinfo_models += [copy.deepcopy(model_xcpdps2_b_errinfo)]\n",
    "\n",
    "            if (not mdl_ps_infile_a_provided) or (not mdl_pserr_infile_a_provided) or (not mdl_ps_infile_b_provided) or (not mdl_pserr_infile_b_provided):\n",
    "#                 model_cpObj = BSP.ClosurePhase(modelsdir+model_hdf5files[i], freqs, infmt='hdf5')\n",
    "#                 model_cpObj.smooth_in_tbins(daybinsize=daybinsize, ndaybins=mdl_ndaybins[i], lstbinsize=lstbinsize)\n",
    "#                 model_cpObj.subsample_differencing(daybinsize=None, ndaybins=4, lstbinsize=lstbinsize)\n",
    "#                 model_cpObj.subtract(NP.zeros(1024))\n",
    "#                 model_cpObjs += [copy.deepcopy(model_cpObj)]\n",
    "                model_cpDSobjs += [BSP.ClosurePhaseDelaySpectrum(model_cpObjs[i])]\n",
    "                cpds_models += [model_cpDSobjs[i].FT(freq_window_bw, freq_center=freq_window_centers, shape=freq_window_shape, fftpow=freq_window_fftpow, pad=pad, datapool='prelim', visscaleinfo=visscaleinfo, method='fft', resample=True, apply_flags=apply_flags)]\n",
    "\n",
    "                if not mdl_ps_infile_a_provided:\n",
    "                    xcpdps2_a_models += [model_cpDSobjs[i].compute_power_spectrum(selection=selection, autoinfo=mdl_autoinfo[i], xinfo=mdl_xinfo_a[i], units=pspec_unit_type, beamparms=beaminfo)]\n",
    "                if not mdl_pserr_infile_a_provided:\n",
    "                    xcpdps2_a_errinfo_models += [model_cpDSobjs[i].compute_power_spectrum_uncertainty(selection=selection, autoinfo=autoinfo, xinfo=xinfo_a, units=pspec_unit_type, beamparms=beaminfo)]\n",
    "\n",
    "                if not mdl_ps_infile_b_provided:\n",
    "                    xcpdps2_b_models += [model_cpDSobjs[i].compute_power_spectrum(selection=selection, autoinfo=mdl_autoinfo[i], xinfo=mdl_xinfo_b[i], units=pspec_unit_type, beamparms=beaminfo)]\n",
    "                if not mdl_pserr_infile_b_provided:\n",
    "                    xcpdps2_b_errinfo_models += [model_cpDSobjs[i].compute_power_spectrum_uncertainty(selection=selection, autoinfo=autoinfo, xinfo=xinfo_b, units=pspec_unit_type, beamparms=beaminfo)]\n",
    "\n",
    "            else:\n",
    "                model_cpObjs += [None]\n",
    "                model_cpDSobjs += [None]\n",
    "                cpds_models += [None]\n",
    "\n",
    "            if mdl_outfile_pfx_a is not None:\n",
    "                if isinstance(mdl_outfile_pfx_a, str):\n",
    "                    mdl_outfile_pfx_a = [mdl_outfile_pfx_a] * len(model_hdf5files)\n",
    "                if not isinstance(mdl_outfile_pfx_a, list):\n",
    "                    raise TypeError('The model cross-power spectrum outfile prefixes must be specified as a list with item for each model.')\n",
    "                if len(mdl_outfile_pfx_a) != len(mdl_dir_PS):\n",
    "                    raise ValueError('Invalid number of model cross-power output files specified')\n",
    "                mdl_ps_outfile_a = mdl_dir_PS[i] + mdl_outfile_pfx_a[i] + '_' + mdl_infile_no_ext + '.hdf5'\n",
    "                mdl_pserr_outfile_a = mdl_dir_PS[i] + mdl_outfile_pfx_a[i] + '_' + mdl_infile_no_ext + '_errinfo.hdf5'\n",
    "                BSP.save_CPhase_cross_power_spectrum(xcpdps2_a_models[-1], mdl_ps_outfile_a)\n",
    "                BSP.save_CPhase_cross_power_spectrum(xcpdps2_a_errinfo_models[-1], mdl_pserr_outfile_a)\n",
    "\n",
    "            if mdl_outfile_pfx_b is not None:\n",
    "                if isinstance(mdl_outfile_pfx_b, str):\n",
    "                    mdl_outfile_pfx_b = [mdl_outfile_pfx_b] * len(model_hdf5files)\n",
    "                if not isinstance(mdl_outfile_pfx_b, list):\n",
    "                    raise TypeError('The model cross-power spectrum outfile prefixes must be specified as a list with item for each model.')\n",
    "                if len(mdl_outfile_pfx_b) != len(mdl_dir_PS):\n",
    "                    raise ValueError('Invalid number of model cross-power output files specified')\n",
    "                mdl_ps_outfile_b = mdl_dir_PS[i] + mdl_outfile_pfx_b[i] + '_' + mdl_infile_no_ext + '.hdf5'\n",
    "                mdl_pserr_outfile_b = mdl_dir_PS[i] + mdl_outfile_pfx_b[i] + '_' + mdl_infile_no_ext + '_errinfo.hdf5'\n",
    "                BSP.save_CPhase_cross_power_spectrum(xcpdps2_b_models[-1], mdl_ps_outfile_b)\n",
    "                BSP.save_CPhase_cross_power_spectrum(xcpdps2_b_errinfo_models[-1], mdl_pserr_outfile_b)\n",
    "\n",
    "            progress.update(i+1)\n",
    "        progress.finish()"
   ]
  },
  {
   "cell_type": "markdown",
   "metadata": {},
   "source": [
    "### Set up plot parameters"
   ]
  },
  {
   "cell_type": "code",
   "execution_count": 31,
   "metadata": {},
   "outputs": [],
   "source": [
    "    spw = subselection['spw']\n",
    "    if spw is None:\n",
    "        spwind = NP.arange(xcpdps2_a[sampling]['z'].size)\n",
    "    else:\n",
    "        spwind = NP.asarray(spw)\n",
    "    lstind = NMO.find_list_in_list(xcpdps2_a[sampling][datapool[0]]['diagoffsets'][1], NP.asarray(subselection['lstdiag']))\n",
    "    dayind = NP.asarray(subselection['day'])\n",
    "    dayind_models = NP.asarray(mdl_day)\n",
    "    triadind = NMO.find_list_in_list(xcpdps2_a[sampling][datapool[0]]['diagoffsets'][3], NP.asarray(subselection['triaddiag']))\n",
    "\n",
    "    errshade = {}\n",
    "    for errtype in ps_errtype:\n",
    "        if errtype.lower() == 'ssdiff':\n",
    "            errshade[errtype] = '0.8'\n",
    "        elif errtype.lower() == 'psdiff':\n",
    "            errshade[errtype] = '0.6'\n",
    "    \n",
    "    mdl_colrs = ['red', 'green', 'blue', 'cyan', 'gray', 'orange']"
   ]
  },
  {
   "cell_type": "code",
   "execution_count": 32,
   "metadata": {},
   "outputs": [
    {
     "name": "stdout",
     "output_type": "stream",
     "text": [
      "[[0 1]]\n",
      "[0 1]\n"
     ]
    }
   ],
   "source": [
    "    print(dayind)\n",
    "    print(lstind)"
   ]
  },
  {
   "cell_type": "markdown",
   "metadata": {},
   "source": [
    "## Plot 2b: Plot power spectra including individual models specified in model_hdf5files. y-axis contains both negative and positive values while still employing logarithmic scale mostly, and linear scale for small values around zero."
   ]
  },
  {
   "cell_type": "code",
   "execution_count": 33,
   "metadata": {},
   "outputs": [],
   "source": [
    "    if '2b' in plots:\n",
    "        for stat in statistic:\n",
    "            for zind in spwind:\n",
    "                for lind in lstind:\n",
    "                    for di,dind in enumerate(dayind):\n",
    "                        maxabsvals = []\n",
    "                        minabsvals = []\n",
    "                        maxvals = []\n",
    "                        minvals = []\n",
    "                        fig, axs = PLT.subplots(nrows=1, ncols=len(datapool), sharex=True, sharey=True, figsize=(4.0*len(datapool), 3.6))\n",
    "                        if len(datapool) == 1:\n",
    "                            axs = [axs]\n",
    "                        for dpoolind,dpool in enumerate(datapool):\n",
    "                            for trno,trind in enumerate([triadind[0]]):\n",
    "                                if model_hdf5files is not None:\n",
    "                                    for mdlind, mdl in enumerate(model_labels):\n",
    "                                        if dpool in xcpdps2_a_models[mdlind][sampling]:\n",
    "                                            psval = (2/3.0) * xcpdps2_a_models[mdlind][sampling][dpool][stat][zind,lind,dayind_models[di][mdlind][0],dayind_models[di][mdlind][1],trind,:].to(pspec_unit).value\n",
    "\n",
    "                                            # negind = psval.real < 0.0\n",
    "                                            # posind = NP.logical_not(negind)\n",
    "                                            maxabsvals += [NP.abs(psval.real).max()]\n",
    "                                            minabsvals += [NP.abs(psval.real).min()]\n",
    "                                            maxvals += [psval.real.max()]\n",
    "                                            minvals += [psval.real.min()]\n",
    "                                            axs[dpoolind].plot(xcpdps2_a_models[mdlind][sampling]['kprll'][zind,:], psval.real, ls='none', marker='.', ms=3, color=mdl_colrs[mdlind], label='{0}'.format(mdl))\n",
    "\n",
    "                                if dpool in xcpdps2_a[sampling]:\n",
    "                                    psval = (2/3.0) * xcpdps2_a[sampling][dpool][stat][zind,lind,dind[0],dind[1],trind,:].to(pspec_unit).value\n",
    "                                    psrms = (2/3.0) * NP.nanstd(xcpdps2_a_errinfo[sampling]['errinfo'][stat][zind,lind,:,trind,:], axis=0).to(pspec_unit).value\n",
    "\n",
    "                                    maxabsvals += [NP.abs(psval.real + nsigma*psrms).max()]\n",
    "                                    minabsvals += [NP.abs(psval.real).min()]\n",
    "                                    maxvals += [(psval.real + nsigma*psrms).max()]\n",
    "                                    minvals += [(psval.real - nsigma*psrms).min()]\n",
    "\n",
    "                                    # axs[dpoolind].plot(xcpdps2_a[sampling]['kprll'][zind,:], psval.real, ls='none', marker='.', ms=1, color='black', label='FG+N')\n",
    "                                    axs[dpoolind].errorbar(xcpdps2_a[sampling]['kprll'][zind,:], psval.real, yerr=nsigma*psrms, xerr=None, ecolor='0.8', ls='none', marker='.', ms=4, color='black', label='FG+N')\n",
    "\n",
    "                                legend = axs[dpoolind].legend(loc='center', bbox_to_anchor=(0.5,0.3), shadow=False, fontsize=8)\n",
    "                                if trno == 0:\n",
    "                                    axs[dpoolind].text(0.05, 0.97, 'Real', transform=axs[dpoolind].transAxes, fontsize=8, weight='medium', ha='left', va='top', color='black')\n",
    "                                    axs[dpoolind].text(0.95, 0.97, r'$z=$'+' {0:.1f}'.format(xcpdps2_a[sampling]['z'][zind]), transform=axs[dpoolind].transAxes, fontsize=8, weight='medium', ha='right', va='top', color='black')\n",
    "                                    axs[dpoolind].text(0.05, 0.92, r'$\\Delta$'+'LST = {0:.1f} s'.format(lind*3.6e3*xcpdps2_a['dlst'][0]), transform=axs[dpoolind].transAxes, fontsize=8, weight='medium', ha='left', va='top', color='black')\n",
    "                                    axs[dpoolind].text(0.05, 0.87, 'G{0[0]:0d}{0[1]:0d}'.format(dind), transform=axs[dpoolind].transAxes, fontsize=8, weight='medium', ha='left', va='top', color='black')\n",
    "\n",
    "                                axt = axs[dpoolind].twiny()\n",
    "                                axt.set_xlim(1e6*xcpdps2_a[sampling]['lags'].min(), 1e6*xcpdps2_a[sampling]['lags'].max())\n",
    "\n",
    "                            minvals = NP.asarray(minvals)\n",
    "                            maxvals = NP.asarray(maxvals)\n",
    "                            minabsvals = NP.asarray(minabsvals)\n",
    "                            maxabsvals = NP.asarray(maxabsvals)\n",
    "                            if xlim is None:\n",
    "                                axs[dpoolind].set_xlim(0.99*xcpdps2_a[sampling]['kprll'][zind,:].min(), 1.01*xcpdps2_a[sampling]['kprll'][zind,:].max())\n",
    "                            else:\n",
    "                                axs[dpoolind].set_xlim(xlim)\n",
    "                            if NP.min(minvals) < 0.0:\n",
    "                                axs[dpoolind].set_ylim(1.5*NP.min(minvals), 2*NP.max(maxabsvals))\n",
    "                            else:\n",
    "                                axs[dpoolind].set_ylim(0.5*NP.min(minvals), 2*NP.max(maxabsvals))\n",
    "                            axs[dpoolind].set_yscale('symlog', linthreshy=10**NP.floor(NP.log10(NP.min(minabsvals[minabsvals > 0.0]))))\n",
    "                            tickloc = PLTick.SymmetricalLogLocator(linthresh=10**NP.floor(NP.log10(NP.min(minabsvals[minabsvals > 0.0]))), base=100.0)\n",
    "                            axs[dpoolind].yaxis.set_major_locator(tickloc)\n",
    "                            axs[dpoolind].grid(color='0.8', which='both', linestyle=':', lw=1)\n",
    "\n",
    "                        fig.subplots_adjust(top=0.85)\n",
    "                        fig.subplots_adjust(bottom=0.16)\n",
    "                        fig.subplots_adjust(left=0.22)\n",
    "                        fig.subplots_adjust(right=0.98)\n",
    "\n",
    "                        big_ax = fig.add_subplot(111)\n",
    "                        big_ax.set_facecolor('none') # matplotlib.__version__ >= 2.0.0\n",
    "                        # big_ax.set_axis_bgcolor('none') # matplotlib.__version__ < 2.0.0\n",
    "                        big_ax.tick_params(labelcolor='none', top=False, bottom=False, left=False, right=False)\n",
    "                        big_ax.set_xticks([])\n",
    "                        big_ax.set_yticks([])\n",
    "                        big_ax.set_xlabel(r'$\\kappa_\\parallel$'+' [pseudo '+r'$h$'+' Mpc'+r'$^{-1}$'+']', fontsize=12, weight='medium', labelpad=20)\n",
    "                        if pspec_unit_type == 'K':\n",
    "                            big_ax.set_ylabel(r'$\\frac{2}{3}\\, P_\\nabla(\\kappa_\\parallel)$ [pseudo mK$^2h^{-3}$ Mpc$^3$]', fontsize=12, weight='medium', labelpad=40)\n",
    "                        else:\n",
    "                            big_ax.set_ylabel(r'$\\frac{2}{3}\\, P_\\nabla(\\kappa_\\parallel)$ [pseudo Jy$^2h^{-1}$ Mpc]', fontsize=12, weight='medium', labelpad=40)\n",
    "\n",
    "                        big_axt = big_ax.twiny()\n",
    "                        big_axt.set_xticks([])\n",
    "                        big_axt.set_xlabel(r'$\\tau$'+' ['+r'$\\mu$'+'s]', fontsize=12, weight='medium', labelpad=20)\n",
    "\n",
    "                        PLT.savefig(figdir + '{0}_symlog_real_cpdps_z_{1:.1f}_{2}_{3}_dlst_{4:.1f}s_lstdiag_{5:0d}_day_{6[0]:0d}_{6[1]:0d}_triaddiags_{7:0d}_flags_{8}.pdf'.format(infile_no_ext, xcpdps2_a[sampling]['z'][zind], stat, sampling, 3.6e3*xcpdps2_a['dlst'][0], subselection['lstdiag'][lind], dind, xcpdps2_a[sampling][datapool[0]]['diagoffsets'][3][trind], applyflags_str), bbox_inches=0)\n",
    "                        print(figdir + '{0}_symlog_real_cpdps_z_{1:.1f}_{2}_{3}_dlst_{4:.1f}s_lstdiag_{5:0d}_day_{6[0]:0d}_{6[1]:0d}_triaddiags_{7:0d}_flags_{8}.pdf'.format(infile_no_ext, xcpdps2_a[sampling]['z'][zind], stat, sampling, 3.6e3*xcpdps2_a['dlst'][0], subselection['lstdiag'][lind], dind, xcpdps2_a[sampling][datapool[0]]['diagoffsets'][3][trind], applyflags_str))"
   ]
  },
  {
   "cell_type": "markdown",
   "metadata": {},
   "source": [
    "## Plot 2c: Plot PS after incoherent averaging over redundant triads, LST diff range, and/or other polarization."
   ]
  },
  {
   "cell_type": "code",
   "execution_count": 34,
   "metadata": {},
   "outputs": [
    {
     "name": "stderr",
     "output_type": "stream",
     "text": [
      "100% |-----------------------------------------------| 2/2 Models Time: 0:00:06\n"
     ]
    }
   ],
   "source": [
    "    if ('2c' in plots) or ('2c_err' in plots) or ('2d' in plots):\n",
    "        kprll_min_for_rms = plot_info['2c']['kprll_min']\n",
    "        if kprll_min_for_rms is None:\n",
    "            kprll_min_for_rms = 0.0\n",
    "        avg_incohax_a = plot_info['2c']['incohax_a']\n",
    "        diagoffsets_incohax_a = plot_info['2c']['diagoffsets_a']\n",
    "        diagoffsets_a = []\n",
    "        avg_incohax_b = plot_info['2c']['incohax_b']\n",
    "        diagoffsets_incohax_b = plot_info['2c']['diagoffsets_b']\n",
    "        diagoffsets_b = []\n",
    "        for combi,incax_comb in enumerate(avg_incohax_a):\n",
    "            diagoffsets_a += [{}]\n",
    "            for incaxind,incax in enumerate(incax_comb):\n",
    "                diagoffsets_a[-1][incax] = NP.asarray(diagoffsets_incohax_a[combi][incaxind])\n",
    "        xcpdps2_a_avg, excpdps2_a_avg = BSP.incoherent_cross_power_spectrum_average(xcpdps2_a, excpdps=xcpdps2_a_errinfo, diagoffsets=diagoffsets_a)\n",
    "\n",
    "        avg_xcpdps2_a_models = []\n",
    "        avg_excpdps2_a_models = []\n",
    "\n",
    "        for combi,incax_comb in enumerate(avg_incohax_b):\n",
    "            diagoffsets_b += [{}]\n",
    "            for incaxind,incax in enumerate(incax_comb):\n",
    "                diagoffsets_b[-1][incax] = NP.asarray(diagoffsets_incohax_b[combi][incaxind])\n",
    "\n",
    "        # xcpdps2_b_avg, excpdps2_b_avg = BSP.incoherent_cross_power_spectrum_average(xcpdps2_b, excpdps=None, diagoffsets=diagoffsets_b)\n",
    "        xcpdps2_b_avg, excpdps2_b_avg = BSP.incoherent_cross_power_spectrum_average(xcpdps2_b, excpdps=xcpdps2_b_errinfo, diagoffsets=diagoffsets_b)\n",
    "        avg_xcpdps2_b_models = []\n",
    "        avg_excpdps2_b_models = []\n",
    "\n",
    "        if model_hdf5files is not None:\n",
    "            progress = PGB.ProgressBar(widgets=[PGB.Percentage(), PGB.Bar(marker='-', left=' |', right='| '), PGB.Counter(), '/{0:0d} Models '.format(len(model_hdf5files)), PGB.ETA()], maxval=len(model_hdf5files)).start()\n",
    "\n",
    "            for i in range(len(model_hdf5files)):\n",
    "                avg_xcpdps2_a_model, avg_excpdps2_a_model = BSP.incoherent_cross_power_spectrum_average(xcpdps2_a_models[i], excpdps=xcpdps2_a_errinfo_models[i], diagoffsets=diagoffsets_a)\n",
    "                avg_xcpdps2_a_models += [copy.deepcopy(avg_xcpdps2_a_model)]\n",
    "                avg_excpdps2_a_models += [copy.deepcopy(avg_excpdps2_a_model)]\n",
    "\n",
    "                # avg_xcpdps2_b_model, avg_excpdps2_b_model = BSP.incoherent_cross_power_spectrum_average(xcpdps2_b_models[i], excpdps=None, diagoffsets=diagoffsets_b)\n",
    "                avg_xcpdps2_b_model, avg_excpdps2_b_model = BSP.incoherent_cross_power_spectrum_average(xcpdps2_b_models[i], excpdps=xcpdps2_b_errinfo_models[i], diagoffsets=diagoffsets_b)\n",
    "                avg_xcpdps2_b_models += [copy.deepcopy(avg_xcpdps2_b_model)]\n",
    "                avg_excpdps2_b_models += [copy.deepcopy(avg_excpdps2_b_model)]\n",
    "\n",
    "                progress.update(i+1)\n",
    "            progress.finish()"
   ]
  },
  {
   "cell_type": "markdown",
   "metadata": {},
   "source": [
    "### Save incoherently averaged power spectra for later use"
   ]
  },
  {
   "cell_type": "code",
   "execution_count": 35,
   "metadata": {},
   "outputs": [
    {
     "name": "stdout",
     "output_type": "stream",
     "text": [
      "/lustre/aoc/projects/hera/nthyagar/data/HERA/IDR2.1/ClosurePhase/models/bispectrum_phase/PS/xCPDPS_collapse_axes_123_EQ28XX_GLEAM_all_RA_1.6_FOV_30_ephemeris_HERA61_noisy_errinfo_incoh_diag_avg.hdf5\n"
     ]
    }
   ],
   "source": [
    "        # Save incoherent cross power average of the main dataset and its uncertainties\n",
    "    \n",
    "        xps_avg_outfile_b = datadir + dir_PS + outfile_pfx_b + '_' + infile_no_ext + '_incoh_diag_avg.hdf5'\n",
    "        xpserr_avg_outfile_b = datadir + dir_PS + outfile_pfx_b + '_' + infile_no_ext + '_errinfo_incoh_diag_avg.hdf5'        \n",
    "        BSP.save_CPhase_cross_power_spectrum(xcpdps2_b_avg, xps_avg_outfile_b)\n",
    "        BSP.save_CPhase_cross_power_spectrum(excpdps2_b_avg, xpserr_avg_outfile_b)\n",
    "        print(xpserr_avg_outfile_b)"
   ]
  },
  {
   "cell_type": "code",
   "execution_count": 36,
   "metadata": {},
   "outputs": [
    {
     "name": "stdout",
     "output_type": "stream",
     "text": [
      "EQ28XX_GLEAM_all_RA_1.6_FOV_30_ephemeris_HERA61_noisy\n"
     ]
    }
   ],
   "source": [
    "        print(infile_no_ext)"
   ]
  },
  {
   "cell_type": "code",
   "execution_count": 37,
   "metadata": {},
   "outputs": [
    {
     "name": "stdout",
     "output_type": "stream",
     "text": [
      "{1: array([0]), 2: array([1]), 3: array([0])}\n",
      "{1: array([0]), 2: array([1]), 3: array([ 0,  1,  2,  3,  4,  5,  6,  7,  8,  9, 10, 11, 12, 13, 14, 15, 16,\n",
      "       17, 18, 19, 20, 21, 22, 23, 24, 25, 26, 27, 28, 29, 30])}\n",
      "{1: array([0]), 2: array([1]), 3: array([ 1,  2,  3,  4,  5,  6,  7,  8,  9, 10, 11, 12, 13, 14, 15, 16, 17,\n",
      "       18, 19, 20, 21, 22, 23, 24, 25, 26, 27, 28, 29, 30])}\n",
      "{1: array([0]), 2: array([-1,  0,  1]), 3: array([ 1,  2,  3,  4,  5,  6,  7,  8,  9, 10, 11, 12, 13, 14, 15, 16, 17,\n",
      "       18, 19, 20, 21, 22, 23, 24, 25, 26, 27, 28, 29, 30])}\n",
      "[[1, 2, 3], [1, 2, 3], [1, 2, 3], [1, 2, 3]]\n",
      "[[[0], [1], [0]], [[0], [1], [0, 1, 2, 3, 4, 5, 6, 7, 8, 9, 10, 11, 12, 13, 14, 15, 16, 17, 18, 19, 20, 21, 22, 23, 24, 25, 26, 27, 28, 29, 30]], [[0], [1], [1, 2, 3, 4, 5, 6, 7, 8, 9, 10, 11, 12, 13, 14, 15, 16, 17, 18, 19, 20, 21, 22, 23, 24, 25, 26, 27, 28, 29, 30]], [[0], [-1, 0, 1], [1, 2, 3, 4, 5, 6, 7, 8, 9, 10, 11, 12, 13, 14, 15, 16, 17, 18, 19, 20, 21, 22, 23, 24, 25, 26, 27, 28, 29, 30]]]\n",
      "4\n",
      "(2, 1, 1, 1, 103)\n",
      "(2, 1, 2, 2, 1, 103)\n"
     ]
    }
   ],
   "source": [
    "        print(diagoffsets_b[0])\n",
    "        print(diagoffsets_b[1])\n",
    "        print(diagoffsets_b[2])\n",
    "        print(diagoffsets_b[3])\n",
    "        print(avg_incohax_b)\n",
    "        print(diagoffsets_incohax_b)\n",
    "        print(len(xcpdps2_b_avg['resampled']['whole']['median']))\n",
    "        print(xcpdps2_b_avg[sampling]['whole']['median'][2].shape)\n",
    "        print(xcpdps2_a_avg[sampling]['whole']['median'][3].shape)"
   ]
  },
  {
   "cell_type": "code",
   "execution_count": 40,
   "metadata": {
    "scrolled": false
   },
   "outputs": [
    {
     "name": "stdout",
     "output_type": "stream",
     "text": [
      "/lustre/aoc/projects/hera/nthyagar/data/HERA/IDR2.1/ClosurePhase/models/bispectrum_phase/figures/EQ28XX_GLEAM_all_RA_1.6_FOV_30_ephemeris_HERA61_noisy_symlog_incoh_avg_real_cpdps_z_10.2_median_resampled_dlst_60.0s_flags_N_comb_0.pdf\n",
      "/lustre/aoc/projects/hera/nthyagar/data/HERA/IDR2.1/ClosurePhase/models/bispectrum_phase/figures/EQ28XX_GLEAM_all_RA_1.6_FOV_30_ephemeris_HERA61_noisy_symlog_incoh_avg_real_cpdps_z_10.2_median_resampled_dlst_60.0s_flags_N_comb_1.pdf\n",
      "/lustre/aoc/projects/hera/nthyagar/data/HERA/IDR2.1/ClosurePhase/models/bispectrum_phase/figures/EQ28XX_GLEAM_all_RA_1.6_FOV_30_ephemeris_HERA61_noisy_symlog_incoh_avg_real_cpdps_z_10.2_median_resampled_dlst_60.0s_flags_N_comb_2.pdf\n",
      "/lustre/aoc/projects/hera/nthyagar/data/HERA/IDR2.1/ClosurePhase/models/bispectrum_phase/figures/EQ28XX_GLEAM_all_RA_1.6_FOV_30_ephemeris_HERA61_noisy_symlog_incoh_avg_real_cpdps_z_10.2_median_resampled_dlst_60.0s_flags_N_comb_3.pdf\n",
      "/lustre/aoc/projects/hera/nthyagar/data/HERA/IDR2.1/ClosurePhase/models/bispectrum_phase/figures/EQ28XX_GLEAM_all_RA_1.6_FOV_30_ephemeris_HERA61_noisy_symlog_incoh_avg_real_cpdps_z_7.7_median_resampled_dlst_60.0s_flags_N_comb_0.pdf\n",
      "/lustre/aoc/projects/hera/nthyagar/data/HERA/IDR2.1/ClosurePhase/models/bispectrum_phase/figures/EQ28XX_GLEAM_all_RA_1.6_FOV_30_ephemeris_HERA61_noisy_symlog_incoh_avg_real_cpdps_z_7.7_median_resampled_dlst_60.0s_flags_N_comb_1.pdf\n",
      "/lustre/aoc/projects/hera/nthyagar/data/HERA/IDR2.1/ClosurePhase/models/bispectrum_phase/figures/EQ28XX_GLEAM_all_RA_1.6_FOV_30_ephemeris_HERA61_noisy_symlog_incoh_avg_real_cpdps_z_7.7_median_resampled_dlst_60.0s_flags_N_comb_2.pdf\n",
      "/lustre/aoc/projects/hera/nthyagar/data/HERA/IDR2.1/ClosurePhase/models/bispectrum_phase/figures/EQ28XX_GLEAM_all_RA_1.6_FOV_30_ephemeris_HERA61_noisy_symlog_incoh_avg_real_cpdps_z_7.7_median_resampled_dlst_60.0s_flags_N_comb_3.pdf\n"
     ]
    },
    {
     "data": {
      "image/png": "[encoded data removed]",
      "text/plain": [
       "<Figure size 288x259.2 with 4 Axes>"
      ]
     },
     "metadata": {
      "needs_background": "light"
     },
     "output_type": "display_data"
    },
    {
     "data": {
      "image/png": "[encoded data removed]",
      "text/plain": [
       "<Figure size 288x259.2 with 4 Axes>"
      ]
     },
     "metadata": {
      "needs_background": "light"
     },
     "output_type": "display_data"
    },
    {
     "data": {
      "image/png": "[encoded data removed]",
      "text/plain": [
       "<Figure size 288x259.2 with 4 Axes>"
      ]
     },
     "metadata": {
      "needs_background": "light"
     },
     "output_type": "display_data"
    },
    {
     "data": {
      "image/png": "[encoded data removed]",
      "text/plain": [
       "<Figure size 288x259.2 with 4 Axes>"
      ]
     },
     "metadata": {
      "needs_background": "light"
     },
     "output_type": "display_data"
    },
    {
     "data": {
      "image/png": "[encoded data removed]",
      "text/plain": [
       "<Figure size 288x259.2 with 4 Axes>"
      ]
     },
     "metadata": {
      "needs_background": "light"
     },
     "output_type": "display_data"
    },
    {
     "data": {
      "image/png": "[encoded data removed]",
      "text/plain": [
       "<Figure size 288x259.2 with 4 Axes>"
      ]
     },
     "metadata": {
      "needs_background": "light"
     },
     "output_type": "display_data"
    },
    {
     "data": {
      "image/png": "[encoded data removed]",
      "text/plain": [
       "<Figure size 288x259.2 with 4 Axes>"
      ]
     },
     "metadata": {
      "needs_background": "light"
     },
     "output_type": "display_data"
    },
    {
     "data": {
      "image/png": "[encoded data removed]",
      "text/plain": [
       "<Figure size 288x259.2 with 4 Axes>"
      ]
     },
     "metadata": {
      "needs_background": "light"
     },
     "output_type": "display_data"
    }
   ],
   "source": [
    "        if '2c' in plots:\n",
    "\n",
    "#             ylim = {0: [-1e5, 1e9], 1: [-1e5, 1e8]} # keys are spw indices\n",
    "#             linthreshy = 1e0\n",
    "            ylim = {0: [-1e10, 1e16], 1: [-1e10, 1e14]} # keys are spw indices\n",
    "            linthreshy = 9e5\n",
    "\n",
    "            lstind = [0]\n",
    "            triadind = [0]\n",
    "            dayind = [0]\n",
    "            dayind_models = NP.zeros(len(model_labels), dtype=int).reshape(1,-1)\n",
    "\n",
    "            for stat in statistic:\n",
    "                for zind in spwind:\n",
    "                    kprll_ind_for_rms = NP.where(NP.abs(excpdps2_b_avg[sampling]['kprll'][zind,:]) >= kprll_min_for_rms)[0]\n",
    "                    kprll_for_rms = excpdps2_b_avg[sampling]['kprll'][zind,kprll_ind_for_rms]\n",
    "                    for lind in lstind:\n",
    "                        for di,dind in enumerate(dayind):\n",
    "                            for combi in range(len(diagoffsets_b)):\n",
    "                                maxabsvals = []\n",
    "                                minabsvals = []\n",
    "                                maxvals = []\n",
    "                                minvals = []\n",
    "                                fig, axs = PLT.subplots(nrows=1, ncols=len(datapool), sharex=True, sharey=True, figsize=(4.0*len(datapool), 3.6))\n",
    "                                if len(datapool) == 1:\n",
    "                                    axs = [axs]\n",
    "                                for dpoolind,dpool in enumerate(datapool):\n",
    "                                    for trno,trind in enumerate(triadind):\n",
    "#                                         if model_hdf5files is not None:\n",
    "#                                             for mdlind, mdl in enumerate(model_labels):\n",
    "#                                                 if dpool in avg_xcpdps2_b_models[mdlind][sampling]:\n",
    "#                                                     psval = (1/3.0) * avg_xcpdps2_b_models[mdlind][sampling][dpool][stat][combi][zind,lind,dayind_models[di][mdlind],trind,:].to(pspec_unit).value\n",
    "#                                                     maxabsvals += [NP.abs(psval.real).max()]\n",
    "#                                                     minabsvals += [NP.abs(psval.real).min()]\n",
    "#                                                     maxvals += [psval.real.max()]\n",
    "#                                                     minvals += [psval.real.min()]\n",
    "#                                                     axs[dpoolind].plot(avg_xcpdps2_b_models[mdlind][sampling]['kprll'][zind,:], psval.real, ls='none', marker='.', ms=3, color=mdl_colrs[mdlind], label='{0}'.format(mdl))\n",
    "\n",
    "                                        if dpool in xcpdps2_b_avg[sampling]:\n",
    "                                            psval = (2/3.0) * xcpdps2_b_avg[sampling][dpool][stat][combi][zind,lind,dind,trind,:].to(pspec_unit).value\n",
    "                                            ps_ssdiff = (2/3.0) * excpdps2_b_avg[sampling]['errinfo'][stat][combi][zind,lind,:,trind,kprll_ind_for_rms].to(pspec_unit).value # Single RMS across all k_prll bins\n",
    "                                            psrms_ssdiff = (2/3.0) * NP.nanstd(excpdps2_a_avg[sampling]['errinfo'][stat][combi][zind,lind,:,trind,:], axis=0).to(pspec_unit).value # RMS per k_prll bin\n",
    "                                            if 2 in avg_incohax_b[combi]:\n",
    "                                                ind_dayax_in_incohax = avg_incohax_b[combi].index(2)\n",
    "                                                if 0 in diagoffsets_incohax_b[combi][ind_dayax_in_incohax]:\n",
    "                                                    rms_inflation_factor = 2.0 * NP.sqrt(2.0)\n",
    "                                                else:\n",
    "                                                    rms_inflation_factor = NP.sqrt(2.0)\n",
    "                                            else:\n",
    "                                                rms_inflation_factor = NP.sqrt(2.0)\n",
    "                                            psrms_psdiff = (2/3.0) * (xcpdps2_a_avg[sampling][dpool][stat][combi][zind,lind,1,1,trind,:] - xcpdps2_a_avg[sampling][dpool][stat][combi][zind,lind,0,0,trind,:]).to(pspec_unit).value\n",
    "                                            psrms_psdiff = NP.abs(psrms_psdiff.real) / rms_inflation_factor\n",
    "\n",
    "                                            psrms_max = NP.amax(NP.vstack((psrms_ssdiff, psrms_psdiff)), axis=0)\n",
    "\n",
    "                                            maxabsvals += [NP.abs(psval.real + nsigma*psrms_max).max()]\n",
    "                                            minabsvals += [NP.abs(psval.real).min()]\n",
    "                                            maxvals += [(psval.real + nsigma*psrms_max).max()]\n",
    "                                            minvals += [(psval.real - nsigma*psrms_max).min()]\n",
    "\n",
    "                                            for errtype in ps_errtype:\n",
    "                                                if errtype.lower() == 'ssdiff':                                                    \n",
    "                                                    axs[dpoolind].errorbar(xcpdps2_b_avg[sampling]['kprll'][zind,:], psval.real, yerr=nsigma*psrms_ssdiff, xerr=None, ecolor=errshade[errtype.lower()], ls='none', marker='.', ms=4, color='black')\n",
    "                                                    psmean_ssdiff_across_kbins, psmedian_ssdiff_across_kbins, psrms_ssdiff_across_kbins = sigma_clipped_stats(NP.vstack((ps_ssdiff.real, ps_ssdiff.imag)))\n",
    "                                                    pos_kprll_ind_for_rms = NP.where(kprll_for_rms >= 0.0)[0]\n",
    "                                                    neg_kprll_ind_for_rms = NP.where(kprll_for_rms <= 0.0)[0]\n",
    "                                                    axs[dpoolind].hlines([-psrms_ssdiff_across_kbins, psrms_ssdiff_across_kbins], kprll_for_rms[pos_kprll_ind_for_rms].min(), kprll_for_rms[pos_kprll_ind_for_rms].max(), linestyles='--', lw=1.5, color='0.25')\n",
    "                                                    axs[dpoolind].hlines([-psrms_ssdiff_across_kbins, psrms_ssdiff_across_kbins], kprll_for_rms[neg_kprll_ind_for_rms].min(), kprll_for_rms[neg_kprll_ind_for_rms].max(), linestyles='--', lw=1.5, color='0.25')\n",
    "                                                elif errtype.lower() == 'psdiff':\n",
    "                                                    axs[dpoolind].errorbar(xcpdps2_b_avg[sampling]['kprll'][zind,:], psval.real, yerr=nsigma*psrms_psdiff, xerr=None, ecolor=errshade[errtype.lower()], ls='none', marker='.', ms=4, color='black', label='FG+N')\n",
    "\n",
    "#                                         legend = axs[dpoolind].legend(loc='center', bbox_to_anchor=(0.5,0.3), shadow=False, fontsize=8)\n",
    "                                        if trno == 0:\n",
    "                                            # axs[dpoolind].text(0.05, 0.97, 'Real', transform=axs[dpoolind].transAxes, fontsize=8, weight='medium', ha='left', va='top', color='black')\n",
    "                                            axs[dpoolind].text(0.95, 0.97, r'$z=$'+' {0:.1f}'.format(xcpdps2_b_avg[sampling]['z'][zind]), transform=axs[dpoolind].transAxes, fontsize=8, weight='medium', ha='right', va='top', color='black')\n",
    "                                            # axs[dpoolind].text(0.05, 0.92, r'$\\Delta$'+'LST = {0:.1f} s'.format(lind*3.6e3*xcpdps2_a_avg['dlst'][0]), transform=axs[dpoolind].transAxes, fontsize=8, weight='medium', ha='left', va='top', color='black')\n",
    "                                            # axs[dpoolind].text(0.05, 0.87, 'G{0[0]:0d}{0[1]:0d}'.format(dind), transform=axs[dpoolind].transAxes, fontsize=8, weight='medium', ha='left', va='top', color='black')\n",
    "\n",
    "                                        axt = axs[dpoolind].twiny()\n",
    "                                        axt.set_xlim(1e6*xcpdps2_b_avg[sampling]['lags'].min(), 1e6*xcpdps2_b_avg[sampling]['lags'].max())\n",
    "\n",
    "                                    axs[dpoolind].axhline(y=0, xmin=0, xmax=1, ls='-', lw=1, color='black')\n",
    "\n",
    "                                    minvals = NP.asarray(minvals)\n",
    "                                    maxvals = NP.asarray(maxvals)\n",
    "                                    minabsvals = NP.asarray(minabsvals)\n",
    "                                    maxabsvals = NP.asarray(maxabsvals)\n",
    "                                    if xlim is None:\n",
    "                                        axs[dpoolind].set_xlim(0.99*xcpdps2_b_avg[sampling]['kprll'][zind,:].min(), 1.01*xcpdps2_b_avg[sampling]['kprll'][zind,:].max())\n",
    "                                    else:\n",
    "                                        axs[dpoolind].set_xlim(xlim)\n",
    "#                                     if NP.min(minvals) < 0.0:\n",
    "#                                         axs[dpoolind].set_ylim(1.5*NP.min(minvals), 2*NP.max(maxabsvals))\n",
    "#                                     else:\n",
    "#                                         axs[dpoolind].set_ylim(0.5*NP.min(minvals), 2*NP.max(maxabsvals))\n",
    "                                    axs[dpoolind].set_ylim(ylim[zind])\n",
    "                                        \n",
    "#                                     axs[dpoolind].set_yscale('symlog', linthreshy=10**NP.ceil(NP.log10(NP.min(minabsvals[minabsvals > 0.0]))))\n",
    "#                                     tickloc = PLTick.SymmetricalLogLocator(linthresh=10**NP.ceil(NP.log10(NP.min(minabsvals[minabsvals > 0.0]))), base=100.0)\n",
    "                                    axs[dpoolind].set_yscale('symlog', linthreshy=linthreshy)\n",
    "                                    tickloc = PLTick.SymmetricalLogLocator(linthresh=linthreshy, base=100.0)\n",
    "\n",
    "                                    axs[dpoolind].yaxis.set_major_locator(tickloc)\n",
    "                                    yticklocs = NP.asarray(axs[dpoolind].get_yticks())\n",
    "                                    ytickspacings = NP.diff(yticklocs)\n",
    "                                    tickinds_to_remove = NP.setdiff1d(NP.where(NP.abs(yticklocs)<=linthreshy)[0], NP.argmin(NP.abs(yticklocs)))\n",
    "                                    if tickinds_to_remove.size > 0:\n",
    "                                        new_yticklocs = yticklocs[NP.setdiff1d(NP.arange(yticklocs.size), tickinds_to_remove)]\n",
    "                                        axs[dpoolind].yaxis.set_major_locator(PLTick.FixedLocator((new_yticklocs.tolist())))\n",
    "                                  \n",
    "                                    axs[dpoolind].grid(color='0.8', which='both', linestyle=':', lw=1)\n",
    "\n",
    "                                fig.subplots_adjust(top=0.85)\n",
    "                                fig.subplots_adjust(bottom=0.16)\n",
    "                                fig.subplots_adjust(left=0.22)\n",
    "                                fig.subplots_adjust(right=0.98)\n",
    "\n",
    "                                big_ax = fig.add_subplot(111)\n",
    "                                big_ax.set_facecolor('none') # matplotlib.__version__ >= 2.0.0\n",
    "                                # big_ax.set_axis_bgcolor('none') # matplotlib.__version__ < 2.0.0\n",
    "                                big_ax.tick_params(labelcolor='none', top=False, bottom=False, left=False, right=False)\n",
    "                                big_ax.set_xticks([])\n",
    "                                big_ax.set_yticks([])\n",
    "                                big_ax.set_xlabel(r'$\\kappa_\\parallel$'+' [pseudo '+r'$h$'+' Mpc'+r'$^{-1}$'+']', fontsize=12, weight='medium', labelpad=20)\n",
    "                                if pspec_unit_type == 'K':\n",
    "                                    big_ax.set_ylabel(r'$\\frac{2}{3}\\, P_\\nabla(\\kappa_\\parallel)$ [pseudo mK$^2h^{-3}$ Mpc$^3$]', fontsize=12, weight='medium', labelpad=35)\n",
    "                                else:\n",
    "                                    big_ax.set_ylabel(r'$\\frac{2}{3}\\, P_\\nabla(\\kappa_\\parallel)$ [pseudo Jy$^2h^{-1}$ Mpc]', fontsize=12, weight='medium', labelpad=35)\n",
    "\n",
    "                                big_axt = big_ax.twiny()\n",
    "                                big_axt.set_xticks([])\n",
    "                                big_axt.set_xlabel(r'$\\tau$'+' ['+r'$\\mu$'+'s]', fontsize=12, weight='medium', labelpad=20)\n",
    "\n",
    "                                PLT.savefig(figdir + '{0}_symlog_incoh_avg_real_cpdps_z_{1:.1f}_{2}_{3}_dlst_{4:.1f}s_flags_{5}_comb_{6:0d}.pdf'.format(infile_no_ext, xcpdps2_b_avg[sampling]['z'][zind], stat, sampling, 3.6e3*xcpdps2_b_avg['dlst'][0], applyflags_str, combi), bbox_inches=0)\n",
    "                                print(figdir + '{0}_symlog_incoh_avg_real_cpdps_z_{1:.1f}_{2}_{3}_dlst_{4:.1f}s_flags_{5}_comb_{6:0d}.pdf'.format(infile_no_ext, xcpdps2_b_avg[sampling]['z'][zind], stat, sampling, 3.6e3*xcpdps2_b_avg['dlst'][0], applyflags_str, combi))                                "
   ]
  },
  {
   "cell_type": "markdown",
   "metadata": {},
   "source": [
    "## Plot 2c_err: PS Error analysis after incoherent averaging over redundant triads, LST diff range"
   ]
  },
  {
   "cell_type": "code",
   "execution_count": 39,
   "metadata": {
    "scrolled": false
   },
   "outputs": [
    {
     "name": "stdout",
     "output_type": "stream",
     "text": [
      "median\n",
      "=======================================\n",
      "===================\n",
      "SpW: 0, Diagcomb: 0\n",
      "-------------------\n",
      "Current (real): Mean = -49734378.8916,\t Median = -74178777.6097,\t RMS = 345166569.352\n",
      "Other (real): Mean = -1597968788.2,\t Median = -2181348742.4,\t RMS = 4679827865.61\n",
      "K-S (real): k-val = 0.754901960784,\t p-val = 3.12604644001e-52\n",
      "\n",
      "Current (imag): Mean = -151076446.107,\t Median = -165161809.972,\t RMS = 1376083906.05\n",
      "Other (imag): Mean = 101128580.743,\t Median = -15706087.549,\t RMS = 2534947462.83\n",
      "K-S (imag): k-val = 0.230392156863,\t p-val = 2.98961657147e-05\n",
      "\n",
      "Current: Mean = -76486909.3945,\t Median = -91492822.5945,\t RMS = 839909709.373\n",
      "Other: Mean = -887887304.054,\t Median = -1371938388.09,\t RMS = 3755327212.36\n",
      "K-S: k-val = 0.414215686275,\t p-val = 2.25571911188e-31\n",
      "===================\n",
      "SpW: 0, Diagcomb: 1\n",
      "-------------------\n",
      "Current (real): Mean = -20866.0352744,\t Median = 3008167.17216,\t RMS = 74799398.4795\n",
      "Other (real): Mean = -1684884166.68,\t Median = -2136223517.33,\t RMS = 4550926455.59\n",
      "K-S (real): k-val = 0.78431372549,\t p-val = 2.39619381162e-56\n",
      "\n",
      "Current (imag): Mean = 9841925.82812,\t Median = 13807410.5305,\t RMS = 296289835.625\n",
      "Other (imag): Mean = 44984004.9918,\t Median = 106038722.119,\t RMS = 1054875916.68\n",
      "K-S (imag): k-val = 0.279411764706,\t p-val = 1.59883713771e-07\n",
      "\n",
      "Current: Mean = -2886649.84502,\t Median = 4103681.25188,\t RMS = 185125861.923\n",
      "Other: Mean = -737105813.72,\t Median = -684806975.248,\t RMS = 1912823872.66\n",
      "K-S: k-val = 0.514705882353,\t p-val = 3.27901946743e-48\n",
      "===================\n",
      "SpW: 0, Diagcomb: 2\n",
      "-------------------\n",
      "Current (real): Mean = 2488328.98966,\t Median = 9248091.75772,\t RMS = 77538142.9361\n",
      "Other (real): Mean = -1686483527.28,\t Median = -2134912051.12,\t RMS = 4550203698.17\n",
      "K-S (real): k-val = 0.78431372549,\t p-val = 2.39619381162e-56\n",
      "\n",
      "Current (imag): Mean = 15537699.2429,\t Median = 5110899.7349,\t RMS = 293975949.736\n",
      "Other (imag): Mean = 62731990.5672,\t Median = 130941921.998,\t RMS = 1067972321.98\n",
      "K-S (imag): k-val = 0.289215686275,\t p-val = 4.97754919184e-08\n",
      "\n",
      "Current: Mean = 1916427.28683,\t Median = 7438452.93484,\t RMS = 181901803.816\n",
      "Other: Mean = -735768070.348,\t Median = -667801068.264,\t RMS = 1977064309.46\n",
      "K-S: k-val = 0.512254901961,\t p-val = 9.32735250948e-48\n",
      "===================\n",
      "SpW: 0, Diagcomb: 3\n",
      "-------------------\n",
      "Current (real): Mean = 2488328.98966,\t Median = 9248091.75772,\t RMS = 77538142.9361\n",
      "Other (real): Mean = -1686483527.28,\t Median = -2134912051.12,\t RMS = 4550203698.17\n",
      "K-S (real): k-val = 0.78431372549,\t p-val = 2.39619381162e-56\n",
      "\n",
      "Current (imag): Mean = 15537699.2429,\t Median = 5110899.7349,\t RMS = 293975949.736\n",
      "Other (imag): Mean = 62731990.5672,\t Median = 130941921.998,\t RMS = 1067972321.98\n",
      "K-S (imag): k-val = 0.289215686275,\t p-val = 4.97754919184e-08\n",
      "\n",
      "Current: Mean = 1916427.28683,\t Median = 7438452.93484,\t RMS = 181901803.816\n",
      "Other: Mean = -735768070.348,\t Median = -667801068.264,\t RMS = 1977064309.46\n",
      "K-S: k-val = 0.512254901961,\t p-val = 9.32735250948e-48\n",
      "===================\n",
      "SpW: 1, Diagcomb: 0\n",
      "-------------------\n",
      "Current (real): Mean = 709048.50052,\t Median = -2767957.99002,\t RMS = 62435962.4202\n",
      "Other (real): Mean = 42004828.246,\t Median = 37074847.7871,\t RMS = 112785184.051\n",
      "K-S (real): k-val = 0.315068493151,\t p-val = 4.19379264444e-10\n",
      "\n",
      "Current (imag): Mean = -2334642.05056,\t Median = -4591543.59296,\t RMS = 244723084.635\n",
      "Other (imag): Mean = 41425586.8386,\t Median = 43767728.726,\t RMS = 513533680.146\n",
      "K-S (imag): k-val = 0.200913242009,\t p-val = 0.000231965051757\n",
      "\n",
      "Current: Mean = -7655271.53496,\t Median = -5247401.21526,\t RMS = 137012611.621\n",
      "Other: Mean = 57880877.0464,\t Median = 43215474.4321,\t RMS = 346938122.387\n",
      "K-S: k-val = 0.230593607306,\t p-val = 1.02655759069e-10\n",
      "===================\n",
      "SpW: 1, Diagcomb: 1\n",
      "-------------------\n",
      "Current (real): Mean = 2516205.82491,\t Median = 1109829.63341,\t RMS = 15104636.7499\n",
      "Other (real): Mean = 7111822.47081,\t Median = 5684357.74141,\t RMS = 33172531.8143\n",
      "K-S (real): k-val = 0.255707762557,\t p-val = 8.4332788508e-07\n",
      "\n",
      "Current (imag): Mean = 682071.082974,\t Median = 4789962.48729,\t RMS = 57310663.9441\n",
      "Other (imag): Mean = 2601184.41819,\t Median = 1728108.95112,\t RMS = 121404335.763\n",
      "K-S (imag): k-val = 0.191780821918,\t p-val = 0.000518888006104\n",
      "\n",
      "Current: Mean = 2414487.60326,\t Median = 2273051.5969,\t RMS = 37851121.628\n",
      "Other: Mean = 5468900.38243,\t Median = 5126209.80513,\t RMS = 79439581.2746\n",
      "K-S: k-val = 0.184931506849,\t p-val = 4.8196434838e-07\n",
      "===================\n",
      "SpW: 1, Diagcomb: 2\n",
      "-------------------\n",
      "Current (real): Mean = 2619872.21406,\t Median = 1735184.77232,\t RMS = 14859029.4855\n",
      "Other (real): Mean = 3871273.16774,\t Median = 2856465.3557,\t RMS = 35063233.5247\n",
      "K-S (real): k-val = 0.223744292237,\t p-val = 2.63114598855e-05\n",
      "\n",
      "Current (imag): Mean = 1693953.93362,\t Median = 5821634.34474,\t RMS = 57305408.518\n",
      "Other (imag): Mean = -1342511.4379,\t Median = -4161118.98907,\t RMS = 125769787.885\n",
      "K-S (imag): k-val = 0.196347031963,\t p-val = 0.000348562731566\n",
      "\n",
      "Current: Mean = 2319956.4837,\t Median = 2842596.84093,\t RMS = 39179015.6296\n",
      "Other: Mean = 3847017.94546,\t Median = 1752305.58614,\t RMS = 78705924.8923\n",
      "K-S: k-val = 0.139269406393,\t p-val = 0.000352934822526\n",
      "===================\n",
      "SpW: 1, Diagcomb: 3\n",
      "-------------------\n",
      "Current (real): Mean = 2619872.21406,\t Median = 1735184.77232,\t RMS = 14859029.4855\n",
      "Other (real): Mean = 3871273.16774,\t Median = 2856465.3557,\t RMS = 35063233.5247\n",
      "K-S (real): k-val = 0.223744292237,\t p-val = 2.63114598855e-05\n",
      "\n",
      "Current (imag): Mean = 1693953.93362,\t Median = 5821634.34474,\t RMS = 57305408.518\n",
      "Other (imag): Mean = -1342511.4379,\t Median = -4161118.98907,\t RMS = 125769787.885\n",
      "K-S (imag): k-val = 0.196347031963,\t p-val = 0.000348562731566\n",
      "\n",
      "Current: Mean = 2319956.4837,\t Median = 2842596.84093,\t RMS = 39179015.6296\n",
      "Other: Mean = 3847017.94546,\t Median = 1752305.58614,\t RMS = 78705924.8923\n",
      "K-S: k-val = 0.139269406393,\t p-val = 0.000352934822526\n"
     ]
    },
    {
     "data": {
      "image/png": "[encoded data removed]",
      "text/plain": [
       "<Figure size 288x324 with 3 Axes>"
      ]
     },
     "metadata": {
      "needs_background": "light"
     },
     "output_type": "display_data"
    },
    {
     "data": {
      "image/png": "[encoded data removed]",
      "text/plain": [
       "<Figure size 288x324 with 3 Axes>"
      ]
     },
     "metadata": {
      "needs_background": "light"
     },
     "output_type": "display_data"
    },
    {
     "data": {
      "image/png": "[encoded data removed]",
      "text/plain": [
       "<Figure size 288x324 with 3 Axes>"
      ]
     },
     "metadata": {
      "needs_background": "light"
     },
     "output_type": "display_data"
    },
    {
     "data": {
      "image/png": "[encoded data removed]",
      "text/plain": [
       "<Figure size 288x324 with 3 Axes>"
      ]
     },
     "metadata": {
      "needs_background": "light"
     },
     "output_type": "display_data"
    },
    {
     "data": {
      "image/png": "[encoded data removed]",
      "text/plain": [
       "<Figure size 288x324 with 3 Axes>"
      ]
     },
     "metadata": {
      "needs_background": "light"
     },
     "output_type": "display_data"
    },
    {
     "data": {
      "image/png": "[encoded data removed]",
      "text/plain": [
       "<Figure size 288x324 with 3 Axes>"
      ]
     },
     "metadata": {
      "needs_background": "light"
     },
     "output_type": "display_data"
    },
    {
     "data": {
      "image/png": "[encoded data removed]",
      "text/plain": [
       "<Figure size 288x324 with 3 Axes>"
      ]
     },
     "metadata": {
      "needs_background": "light"
     },
     "output_type": "display_data"
    },
    {
     "data": {
      "image/png": "[encoded data removed]",
      "text/plain": [
       "<Figure size 288x324 with 3 Axes>"
      ]
     },
     "metadata": {
      "needs_background": "light"
     },
     "output_type": "display_data"
    }
   ],
   "source": [
    "        if '2c_err' in plots:\n",
    "            current_label = plot_info['2c_err']['current_lbl']\n",
    "            other_label = plot_info['2c_err']['other_label']\n",
    "            other_pserr_file = plot_info['2c_err']['other_pserr_file']\n",
    "            other_excpdps2_b_avg = BSP.read_CPhase_cross_power_spectrum(other_pserr_file)\n",
    "            lstind = [0]\n",
    "            triadind = [0]\n",
    "            dayind = [0]\n",
    "            \n",
    "            for stat in statistic:\n",
    "                print(stat)\n",
    "                print('=======================================')\n",
    "                for zind in spwind:\n",
    "                    kprll_ind_current_for_rms = NP.where(NP.abs(excpdps2_b_avg[sampling]['kprll'][zind,:]) >= kprll_min_for_rms)[0]\n",
    "                    kprll_current_for_rms = excpdps2_b_avg[sampling]['kprll'][zind,kprll_ind_current_for_rms]\n",
    "                    kprll_ind_other_for_rms = NP.where(NP.abs(other_excpdps2_b_avg[sampling]['kprll'][zind,:]) >= kprll_min_for_rms)[0]\n",
    "                    kprll_other_for_rms = other_excpdps2_b_avg[sampling]['kprll'][zind,kprll_ind_other_for_rms]\n",
    "                    for lind in lstind:\n",
    "                        for dpoolind,dpool in enumerate(datapool):\n",
    "                            for di,dind in enumerate(dayind):\n",
    "                                for trno,trind in enumerate(triadind):\n",
    "                                    for combi in range(len(diagoffsets_b)):\n",
    "                                        ps_ssdiff_current = (2/3.0) * excpdps2_b_avg[sampling]['errinfo'][stat][combi][zind,lind,:,trind,kprll_ind_current_for_rms].to(pspec_unit).value\n",
    "                                        ps_ssdiff_other = (2/3.0) * other_excpdps2_b_avg[sampling]['errinfo'][stat][combi][zind,lind,:,trind,kprll_ind_other_for_rms].to(pspec_unit).value\n",
    "                                        hist_current_real, hist_current_real_bins = histogram(ps_ssdiff_current.real.ravel(), bins='knuth', density=False)\n",
    "                                        hist_other_real, hist_other_real_bins = histogram(ps_ssdiff_other.real.ravel(), bins='knuth', density=False)\n",
    "                                        hist_current_imag, hist_current_imag_bins = histogram(ps_ssdiff_current.imag.ravel(), bins='knuth', density=False)\n",
    "                                        hist_other_imag, hist_other_imag_bins = histogram(ps_ssdiff_other.imag.ravel(), bins='knuth', density=False)\n",
    "                                        hist_current, hist_current_bins = histogram(NP.vstack((ps_ssdiff_current.real,ps_ssdiff_current.imag)).ravel(), bins='knuth', density=False)\n",
    "                                        hist_other, hist_other_bins = histogram(NP.vstack((ps_ssdiff_other.real,ps_ssdiff_other.imag)).ravel(), bins='knuth', density=False)\n",
    "\n",
    "                                        current_real_mean, current_real_median, current_real_std = sigma_clipped_stats(ps_ssdiff_current.real) \n",
    "                                        current_imag_mean, current_imag_median, current_imag_std = sigma_clipped_stats(ps_ssdiff_current.imag)\n",
    "                                        current_mean, current_median, current_std = sigma_clipped_stats(NP.vstack((ps_ssdiff_current.real, ps_ssdiff_current.imag)))\n",
    "                                        other_real_mean, other_real_median, other_real_std = sigma_clipped_stats(ps_ssdiff_other.real) \n",
    "                                        other_imag_mean, other_imag_median, other_imag_std = sigma_clipped_stats(ps_ssdiff_other.imag)\n",
    "                                        other_mean, other_median, other_std = sigma_clipped_stats(NP.vstack((ps_ssdiff_other.real, ps_ssdiff_other.imag)))\n",
    "\n",
    "                                        real_kval, real_pval = stats.ks_2samp(ps_ssdiff_current.real.ravel(), ps_ssdiff_other.real.ravel())\n",
    "                                        imag_kval, imag_pval = stats.ks_2samp(ps_ssdiff_current.imag.ravel(), ps_ssdiff_other.imag.ravel())\n",
    "                                        kval, pval = stats.ks_2samp(NP.vstack((ps_ssdiff_other.real, ps_ssdiff_other.imag)).ravel(), NP.vstack((ps_ssdiff_current.real, ps_ssdiff_current.imag)).ravel())\n",
    "\n",
    "                                        print('===================')\n",
    "                                        print('SpW: {0}, Diagcomb: {1}'.format(zind, combi))\n",
    "                                        print('-------------------')\n",
    "                                        print('Current (real): Mean = {0},\\t Median = {1},\\t RMS = {2}'.format(current_real_mean, current_real_median, current_real_std))\n",
    "                                        print('Other (real): Mean = {0},\\t Median = {1},\\t RMS = {2}'.format(other_real_mean, other_real_median, other_real_std))\n",
    "                                        print('K-S (real): k-val = {0},\\t p-val = {1}'.format(real_kval, real_pval))\n",
    "\n",
    "                                        print('\\nCurrent (imag): Mean = {0},\\t Median = {1},\\t RMS = {2}'.format(current_imag_mean, current_imag_median, current_imag_std))\n",
    "                                        print('Other (imag): Mean = {0},\\t Median = {1},\\t RMS = {2}'.format(other_imag_mean, other_imag_median, other_imag_std))\n",
    "                                        print('K-S (imag): k-val = {0},\\t p-val = {1}'.format(imag_kval, imag_pval))\n",
    "\n",
    "                                        print('\\nCurrent: Mean = {0},\\t Median = {1},\\t RMS = {2}'.format(current_mean, current_median, current_std))\n",
    "                                        print('Other: Mean = {0},\\t Median = {1},\\t RMS = {2}'.format(other_mean, other_median, other_std))\n",
    "                                        print('K-S: k-val = {0},\\t p-val = {1}'.format(kval, pval))\n",
    "\n",
    "                                        fig, axs = PLT.subplots(nrows=3, sharex=True, sharey=True, figsize=(4.0, 4.5))\n",
    "                                        hist_current_real, hist_current_real_bins, patches = axs[0].hist(ps_ssdiff_current.real.ravel(), bins=hist_current_real_bins, density=False, histtype='step', ls='-', color='black', lw=2, label='{0} (real)'.format(current_label))\n",
    "                                        hist_other_real, hist_other_real_bins, patches = axs[0].hist(ps_ssdiff_other.real.ravel(), bins=hist_other_real_bins, density=False, histtype='step', ls='-', color='gray', lw=2, label='{0} (real)'.format(other_label))\n",
    "                                        hist_current_imag, hist_current_imag_bins, patches = axs[1].hist(ps_ssdiff_current.imag.ravel(), bins=hist_current_imag_bins, density=False, histtype='step', ls='-', color='black', lw=2, label='{0} (imag)'.format(current_label))\n",
    "                                        hist_other_imag, hist_other_imag_bins, patches = axs[1].hist(ps_ssdiff_other.imag.ravel(), bins=hist_other_imag_bins, density=False, histtype='step', ls='-', color='gray', lw=2, label='{0} (imag)'.format(other_label))\n",
    "                                        hist_current, hist_current_bins, patches = axs[2].hist(NP.vstack((ps_ssdiff_current.real,ps_ssdiff_current.imag)).ravel(), bins=hist_current_bins, density=False, histtype='step', ls='-', color='black', lw=2, label='{0}'.format(current_label))\n",
    "                                        hist_other, hist_other_bins, patches = axs[2].hist(NP.vstack((ps_ssdiff_other.real,ps_ssdiff_other.imag)).ravel(), bins=hist_current_bins, density=False, histtype='step', ls='-', color='gray', lw=2, label='{0}'.format(other_label))\n",
    "                                        \n",
    "                                        axs[0].legend(loc='upper right')\n",
    "                                        axs[1].legend(loc='upper right')\n",
    "                                        axs[2].legend(loc='upper right')\n",
    "                                        axs[2].set_xlim(-5*other_std, 5*other_std)\n",
    "                     \n",
    "                                        fig.subplots_adjust(hspace=0, wspace=0)\n",
    "                                        "
   ]
  },
  {
   "cell_type": "markdown",
   "metadata": {},
   "source": [
    "## Plot 2d: Plot PS after incoherent averaging over k-bins, in standard PS and Delta^2 units"
   ]
  },
  {
   "cell_type": "code",
   "execution_count": 38,
   "metadata": {},
   "outputs": [],
   "source": [
    "        if '2d' in plots:\n",
    "            kbin_min = plot_info['2d']['kbin_min']\n",
    "            kbin_max = plot_info['2d']['kbin_max']\n",
    "            num_kbins = plot_info['2d']['num_kbins']\n",
    "            kbintype = plot_info['2d']['kbintype']\n",
    "            if (kbin_min is None) or (kbin_max is None):\n",
    "                kbins = None\n",
    "            else:\n",
    "                if num_kbins is None:\n",
    "                    raise ValueError('Input num_kbins must be set if kbin range is provided')\n",
    "                if kbintype == 'linear':\n",
    "                    kbins = NP.linspace(kbin_min, kbin_max, num=num_kbins, endpoint=True)\n",
    "                elif kbintype == 'log':\n",
    "                    if kbin_min > 0.0:\n",
    "                        kbins = NP.geomspace(kbin_min, kbin_max, num=num_kbins, endpoint=True)\n",
    "                    elif kbin_min == 0.0:\n",
    "                        eps_k = 1e-3\n",
    "                        kbins = NP.geomspace(kbin_min+eps_k, kbin_max, num=num_kbins, endpoint=True)\n",
    "                    else:\n",
    "                        eps_k = 1e-3\n",
    "                        kbins_pos = NP.geomspace(eps_k, kbin_max, num=num_kbins, endpoint=True)\n",
    "                        ind_kbin_thresh = NP.argmin(kbins_pos[kbins_pos >= NP.abs(kbin_min)])\n",
    "                        kbins_neg = -1 * kbins_pos[:ind_kbin_thresh+1][::-1]\n",
    "                        kbins = NP.hstack((kbins_neg, kbins_pos))\n",
    "                else:\n",
    "                    raise ValueError('Input kbintype must be set to \"linear\" or \"log\"')\n",
    "            xcpdps2_a_avg_kbin = BSP.incoherent_kbin_averaging(xcpdps2_a_avg, kbins=kbins, kbintype=kbintype)\n",
    "            excpdps2_a_avg_kbin = BSP.incoherent_kbin_averaging(excpdps2_a_avg, kbins=kbins, kbintype=kbintype)\n",
    "            xcpdps2_a_avg_kbin_models = []\n",
    "            excpdps2_a_avg_kbin_models = []\n",
    "\n",
    "            xcpdps2_b_avg_kbin = BSP.incoherent_kbin_averaging(xcpdps2_b_avg, kbins=kbins, kbintype=kbintype)\n",
    "            excpdps2_b_avg_kbin = BSP.incoherent_kbin_averaging(excpdps2_b_avg, kbins=kbins, kbintype=kbintype)\n",
    "            xcpdps2_b_avg_kbin_models = []\n",
    "            excpdps2_b_avg_kbin_models = []\n",
    "\n",
    "            if model_hdf5files is not None:\n",
    "                for i in range(len(model_hdf5files)):\n",
    "                    xcpdps2_a_avg_kbin_models += [BSP.incoherent_kbin_averaging(avg_xcpdps2_a_models[i], kbins=kbins, kbintype=kbintype)]\n",
    "                    excpdps2_a_avg_kbin_models += [BSP.incoherent_kbin_averaging(avg_excpdps2_a_models[i], kbins=kbins, kbintype=kbintype)]\n",
    "                    xcpdps2_b_avg_kbin_models += [BSP.incoherent_kbin_averaging(avg_xcpdps2_b_models[i], kbins=kbins, kbintype=kbintype)]\n",
    "                    excpdps2_b_avg_kbin_models += [BSP.incoherent_kbin_averaging(avg_excpdps2_b_models[i], kbins=kbins, kbintype=kbintype)]"
   ]
  },
  {
   "cell_type": "code",
   "execution_count": 39,
   "metadata": {},
   "outputs": [
    {
     "name": "stdout",
     "output_type": "stream",
     "text": [
      "{'action': False, 'kbin_min': None, 'kbin_max': None, 'kbintype': 'linear', 'num_kbins': None}\n"
     ]
    },
    {
     "ename": "NameError",
     "evalue": "name 'kbin_min' is not defined",
     "output_type": "error",
     "traceback": [
      "\u001b[0;31m---------------------------------------------------------------------------\u001b[0m",
      "\u001b[0;31mNameError\u001b[0m                                 Traceback (most recent call last)",
      "\u001b[0;32m<ipython-input-39-66cfe3f7bb36>\u001b[0m in \u001b[0;36m<module>\u001b[0;34m()\u001b[0m\n\u001b[1;32m     13\u001b[0m \u001b[0;31m#             print(len(excpdps2_avg_kbin['oversampled']['kbininfo']['kbin_edges']))\u001b[0m\u001b[0;34m\u001b[0m\u001b[0;34m\u001b[0m\u001b[0m\n\u001b[1;32m     14\u001b[0m \u001b[0;32mprint\u001b[0m\u001b[0;34m(\u001b[0m\u001b[0mplot_info\u001b[0m\u001b[0;34m[\u001b[0m\u001b[0;34m'2d'\u001b[0m\u001b[0;34m]\u001b[0m\u001b[0;34m)\u001b[0m\u001b[0;34m\u001b[0m\u001b[0m\n\u001b[0;32m---> 15\u001b[0;31m \u001b[0;32mprint\u001b[0m\u001b[0;34m(\u001b[0m\u001b[0mkbin_min\u001b[0m\u001b[0;34m)\u001b[0m\u001b[0;34m\u001b[0m\u001b[0m\n\u001b[0m\u001b[1;32m     16\u001b[0m \u001b[0;32mprint\u001b[0m\u001b[0;34m(\u001b[0m\u001b[0mkbins\u001b[0m\u001b[0;34m)\u001b[0m\u001b[0;34m\u001b[0m\u001b[0m\n\u001b[1;32m     17\u001b[0m \u001b[0;32mprint\u001b[0m\u001b[0;34m(\u001b[0m\u001b[0mkbintype\u001b[0m\u001b[0;34m)\u001b[0m\u001b[0;34m\u001b[0m\u001b[0m\n",
      "\u001b[0;31mNameError\u001b[0m: name 'kbin_min' is not defined"
     ]
    }
   ],
   "source": [
    "#             print(combi)\n",
    "#             print(xcpdps2_avg_kbin['resampled']['whole']['median']['PS'][0].shape)\n",
    "#             print(xcpdps2_avg_kbin_models[0]['resampled']['whole']['median']['PS'][0].shape)\n",
    "#             print(excpdps2_avg_kbin['resampled'].keys())\n",
    "#             print(xcpdps2_avg_kbin[sampling]['kbininfo'][dpool][stat][combi][zind,lind,dind[0],dind[1],trind,:].shape)\n",
    "#             print(pstype)\n",
    "#             print(xcpdps2_avg_kbin[sampling][dpool][stat][pstype][combi][zind,lind,dind[0],dind[1],trind,:].shape)\n",
    "#             print(len(xcpdps2_avg_kbin[sampling][dpool][stat][pstype]))\n",
    "#             print(psrms.shape)\n",
    "#             print(dpoolind)\n",
    "#             print(xcpdps2_avg_kbin[sampling]['kbininfo'][dpool][stat][combi][zind,lind,dind[0],dind[1],trind,:].shape)\n",
    "#             print(len(xcpdps2_avg_kbin['oversampled']['kbininfo']['kbin_edges']))\n",
    "#             print(len(excpdps2_avg_kbin['oversampled']['kbininfo']['kbin_edges']))\n",
    "print(plot_info['2d'])\n",
    "print(kbin_min)\n",
    "print(kbins)\n",
    "print(kbintype)\n",
    "#             print(xcpdps2_avg_kbin[sampling]['kbininfo']['kbin_edges'][0])\n",
    "#             print(xcpdps2_avg_kbin[sampling][datapool[0]]['diagoffsets'][3])"
   ]
  },
  {
   "cell_type": "code",
   "execution_count": 40,
   "metadata": {
    "scrolled": false
   },
   "outputs": [
    {
     "ename": "NameError",
     "evalue": "name 'xcpdps2_b_avg_kbin' is not defined",
     "output_type": "error",
     "traceback": [
      "\u001b[0;31m---------------------------------------------------------------------------\u001b[0m",
      "\u001b[0;31mNameError\u001b[0m                                 Traceback (most recent call last)",
      "\u001b[0;32m<ipython-input-40-3c3e7f9d14f3>\u001b[0m in \u001b[0;36m<module>\u001b[0;34m()\u001b[0m\n\u001b[1;32m     33\u001b[0m \u001b[0;31m#                                                         axs[dpoolind].plot(kval, psval.real, ls='none', marker='.', ms=3, color=mdl_colrs[mdlind], label='{0}'.format(mdl))\u001b[0m\u001b[0;34m\u001b[0m\u001b[0;34m\u001b[0m\u001b[0m\n\u001b[1;32m     34\u001b[0m \u001b[0;34m\u001b[0m\u001b[0m\n\u001b[0;32m---> 35\u001b[0;31m                                 \u001b[0;32mif\u001b[0m \u001b[0mdpool\u001b[0m \u001b[0;32min\u001b[0m \u001b[0mxcpdps2_b_avg_kbin\u001b[0m\u001b[0;34m[\u001b[0m\u001b[0msampling\u001b[0m\u001b[0;34m]\u001b[0m\u001b[0;34m:\u001b[0m\u001b[0;34m\u001b[0m\u001b[0m\n\u001b[0m\u001b[1;32m     36\u001b[0m                                     \u001b[0;32mif\u001b[0m \u001b[0mpstype\u001b[0m \u001b[0;34m==\u001b[0m \u001b[0;34m'PS'\u001b[0m\u001b[0;34m:\u001b[0m\u001b[0;34m\u001b[0m\u001b[0m\n\u001b[1;32m     37\u001b[0m                                         \u001b[0mpsval\u001b[0m \u001b[0;34m=\u001b[0m \u001b[0;34m(\u001b[0m\u001b[0;36m2\u001b[0m\u001b[0;34m/\u001b[0m\u001b[0;36m3.0\u001b[0m\u001b[0;34m)\u001b[0m \u001b[0;34m*\u001b[0m \u001b[0mxcpdps2_b_avg_kbin\u001b[0m\u001b[0;34m[\u001b[0m\u001b[0msampling\u001b[0m\u001b[0;34m]\u001b[0m\u001b[0;34m[\u001b[0m\u001b[0mdpool\u001b[0m\u001b[0;34m]\u001b[0m\u001b[0;34m[\u001b[0m\u001b[0mstat\u001b[0m\u001b[0;34m]\u001b[0m\u001b[0;34m[\u001b[0m\u001b[0mpstype\u001b[0m\u001b[0;34m]\u001b[0m\u001b[0;34m[\u001b[0m\u001b[0mcombi\u001b[0m\u001b[0;34m]\u001b[0m\u001b[0;34m[\u001b[0m\u001b[0mzind\u001b[0m\u001b[0;34m,\u001b[0m\u001b[0mlind\u001b[0m\u001b[0;34m,\u001b[0m\u001b[0mdind\u001b[0m\u001b[0;34m,\u001b[0m\u001b[0mtrind\u001b[0m\u001b[0;34m,\u001b[0m\u001b[0;34m:\u001b[0m\u001b[0;34m]\u001b[0m\u001b[0;34m.\u001b[0m\u001b[0mto\u001b[0m\u001b[0;34m(\u001b[0m\u001b[0mpspec_unit\u001b[0m\u001b[0;34m)\u001b[0m\u001b[0;34m.\u001b[0m\u001b[0mvalue\u001b[0m\u001b[0;34m\u001b[0m\u001b[0m\n",
      "\u001b[0;31mNameError\u001b[0m: name 'xcpdps2_b_avg_kbin' is not defined"
     ]
    },
    {
     "data": {
      "image/png": "[encoded data removed]",
      "text/plain": [
       "<Figure size 288x259.2 with 1 Axes>"
      ]
     },
     "metadata": {
      "needs_background": "light"
     },
     "output_type": "display_data"
    }
   ],
   "source": [
    "            lstind = [0]\n",
    "            triadind = [0]\n",
    "            dayind = [0]\n",
    "            dayind_models = NP.zeros(len(model_labels), dtype=int).reshape(1,-1)\n",
    "\n",
    "            for stat in statistic:\n",
    "                for zind in spwind:\n",
    "                    for lind in lstind:\n",
    "                        for di,dind in enumerate(dayind):\n",
    "                            for pstype in ['PS', 'Del2']:\n",
    "                                for combi in range(len(diagoffsets_b)):\n",
    "                                    maxabsvals = []\n",
    "                                    minabsvals = []\n",
    "                                    maxvals = []\n",
    "                                    minvals = []\n",
    "                                    fig, axs = PLT.subplots(nrows=1, ncols=len(datapool), sharex=True, sharey=True, figsize=(4.0*len(datapool), 3.6))\n",
    "                                    if len(datapool) == 1:\n",
    "                                        axs = [axs]\n",
    "                                    for dpoolind,dpool in enumerate(datapool):\n",
    "                                        for trno,trind in enumerate(triadind):\n",
    "#                                             if model_hdf5files is not None:\n",
    "#                                                 for mdlind, mdl in enumerate(model_labels):\n",
    "#                                                     if dpool in xcpdps2_b_avg_kbin_models[mdlind][sampling]:\n",
    "#                                                         if pstype == 'PS':\n",
    "#                                                             psval = (2/3.0) * xcpdps2_b_avg_kbin_models[mdlind][sampling][dpool][stat][pstype][combi][zind,lind,dayind_models[di][mdlind],trind,:].to(pspec_unit).value\n",
    "#                                                         else:\n",
    "#                                                             psval = (2/3.0) * xcpdps2_b_avg_kbin_models[mdlind][sampling][dpool][stat][pstype][combi][zind,lind,dayind_models[di][mdlind],trind,:].to('K2').value\n",
    "#                                                         kval = xcpdps2_b_avg_kbin_models[mdlind][sampling]['kbininfo'][dpool][stat][combi][zind,lind,dayind_models[di][mdlind],trind,:].to('Mpc-1').value\n",
    "#                                                         maxabsvals += [NP.nanmin(NP.abs(psval.real))]\n",
    "#                                                         minabsvals += [NP.nanmin(NP.abs(psval.real))]\n",
    "#                                                         maxvals += [NP.nanmax(psval.real)]\n",
    "#                                                         minvals += [NP.nanmin(psval.real)]\n",
    "#                                                         axs[dpoolind].plot(kval, psval.real, ls='none', marker='.', ms=3, color=mdl_colrs[mdlind], label='{0}'.format(mdl))\n",
    "\n",
    "                                            if dpool in xcpdps2_b_avg_kbin[sampling]:\n",
    "                                                if pstype == 'PS':\n",
    "                                                    psval = (2/3.0) * xcpdps2_b_avg_kbin[sampling][dpool][stat][pstype][combi][zind,lind,dind,trind,:].to(pspec_unit).value\n",
    "                                                    psrms_ssdiff = (2/3.0) * NP.nanstd(excpdps2_b_avg_kbin[sampling]['errinfo'][stat][pstype][combi][zind,lind,:,trind,:], axis=0).to(pspec_unit).value\n",
    "                                                    psrms_psdiff = (2/3.0) * (xcpdps2_a_avg_kbin[sampling][dpool][stat][pstype][combi][zind,lind,1,1,trind,:] - xcpdps2_a_avg_kbin[sampling][dpool][stat][pstype][combi][zind,lind,0,0,trind,:]).to(pspec_unit).value\n",
    "                                                else:\n",
    "                                                    psval = (2/3.0) * xcpdps2_b_avg_kbin[sampling][dpool][stat][pstype][combi][zind,lind,dind,trind,:].to('mK2').value\n",
    "                                                    psrms_ssdiff = (2/3.0) * NP.nanstd(excpdps2_b_avg_kbin[sampling]['errinfo'][stat][pstype][combi][zind,lind,:,trind,:], axis=0).to('mK2').value\n",
    "                                                    psrms_psdiff = (2/3.0) * (xcpdps2_a_avg_kbin[sampling][dpool][stat][pstype][combi][zind,lind,1,1,trind,:] - xcpdps2_a_avg_kbin[sampling][dpool][stat][pstype][combi][zind,lind,0,0,trind,:]).to('mK2').value\n",
    "\n",
    "                                                if 2 in avg_incohax_b[combi]:\n",
    "                                                    ind_dayax_in_incohax = avg_incohax_b[combi].index(2)\n",
    "                                                    if 0 in diagoffsets_incohax_b[combi][ind_dayax_in_incohax]:\n",
    "                                                        rms_inflation_factor = 2.0 * NP.sqrt(2.0)\n",
    "                                                    else:\n",
    "                                                        rms_inflation_factor = NP.sqrt(2.0)\n",
    "                                                else:\n",
    "                                                    rms_inflation_factor = NP.sqrt(2.0)\n",
    "                                                psrms_psdiff = NP.abs(psrms_psdiff.real) / rms_inflation_factor\n",
    "                                                psrms_max = NP.amax(NP.vstack((psrms_ssdiff, psrms_psdiff)), axis=0)\n",
    "\n",
    "                                                kval = xcpdps2_b_avg_kbin[sampling]['kbininfo'][dpool][stat][combi][zind,lind,dind,trind,:].to('Mpc-1').value\n",
    "\n",
    "                                                maxabsvals += [NP.nanmax(NP.abs(psval.real + nsigma*psrms_max.real))]\n",
    "                                                minabsvals += [NP.nanmin(NP.abs(psval.real))]\n",
    "                                                maxvals += [NP.nanmax(psval.real + nsigma*psrms_max.real)]\n",
    "                                                minvals += [NP.nanmin(psval.real - nsigma*psrms_max.real)]\n",
    "                                                \n",
    "                                                for errtype in ps_errtype:\n",
    "                                                    if errtype.lower() == 'ssdiff':\n",
    "                                                        axs[dpoolind].errorbar(kval, psval.real, yerr=nsigma*psrms_ssdiff, xerr=None, ecolor=errshade[errtype.lower()], ls='none', marker='.', ms=4, color='black')\n",
    "                                                    elif errtype.lower() == 'psdiff':\n",
    "                                                        axs[dpoolind].errorbar(kval, psval.real, yerr=nsigma*psrms_psdiff, xerr=None, ecolor=errshade[errtype.lower()], ls='none', marker='.', ms=4, color='black', label='FG+N')\n",
    "#                                             legend = axs[dpoolind].legend(loc='center', bbox_to_anchor=(0.5,0.3), shadow=False, fontsize=8)\n",
    "                                            if trno == 0:\n",
    "                                                # axs[dpoolind].text(0.05, 0.97, 'Real', transform=axs[dpoolind].transAxes, fontsize=8, weight='medium', ha='left', va='top', color='black')\n",
    "                                                axs[dpoolind].text(0.95, 0.97, r'$z=$'+' {0:.1f}'.format(xcpdps2_b_avg_kbin['resampled']['z'][zind]), transform=axs[dpoolind].transAxes, fontsize=8, weight='medium', ha='right', va='top', color='black')\n",
    "                                                # axs[dpoolind].text(0.05, 0.92, r'$\\Delta$'+'LST = {0:.1f} s'.format(lind*3.6e3*xcpdps2_a_avg_kbin['dlst'][0]), transform=axs[dpoolind].transAxes, fontsize=8, weight='medium', ha='left', va='top', color='black')\n",
    "                                                # axs[dpoolind].text(0.05, 0.87, 'G{0[0]:0d}{0[1]:0d}'.format(dind), transform=axs[dpoolind].transAxes, fontsize=8, weight='medium', ha='left', va='top', color='black')\n",
    "\n",
    "                                        axs[dpoolind].axhline(y=0, xmin=0, xmax=1, ls='-', lw=1, color='black')\n",
    "\n",
    "                                        minvals = NP.asarray(minvals)\n",
    "                                        maxvals = NP.asarray(maxvals)\n",
    "                                        minabsvals = NP.asarray(minabsvals)\n",
    "                                        maxabsvals = NP.asarray(maxabsvals)\n",
    "                                        axs[dpoolind].set_xlim(0.99*NP.nanmin(xcpdps2_b_avg_kbin['resampled']['kbininfo']['kbin_edges'][zind].to('Mpc-1').value), 1.01*NP.nanmax(xcpdps2_b_avg_kbin['resampled']['kbininfo']['kbin_edges'][zind].to('Mpc-1').value))\n",
    "                                        if NP.min(minvals) < 0.0:\n",
    "                                            axs[dpoolind].set_ylim(1.5*NP.nanmin(minvals), 2*NP.nanmax(maxabsvals))\n",
    "                                        else:\n",
    "                                            axs[dpoolind].set_ylim(0.5*NP.nanmin(minvals), 2*NP.nanmax(maxabsvals))\n",
    "#                                         axs[dpoolind].set_yscale('symlog', linthreshy=10**NP.floor(NP.log10(NP.min(minabsvals[minabsvals > 0.0]))))\n",
    "#                                         tickloc = PLTick.SymmetricalLogLocator(linthresh=10**NP.floor(NP.log10(NP.min(minabsvals[minabsvals > 0.0]))), base=100.0)\n",
    "                                        axs[dpoolind].set_yscale('symlog', linthreshy=10**NP.ceil(NP.log10(NP.min(minabsvals[minabsvals > 0.0]))))\n",
    "                                        tickloc = PLTick.SymmetricalLogLocator(linthresh=10**NP.ceil(NP.log10(NP.min(minabsvals[minabsvals > 0.0]))), base=100.0)\n",
    "\n",
    "                                        axs[dpoolind].yaxis.set_major_locator(tickloc)\n",
    "                                        axs[dpoolind].grid(color='0.8', which='both', linestyle=':', lw=1)\n",
    "\n",
    "                                    fig.subplots_adjust(top=0.85)\n",
    "                                    fig.subplots_adjust(bottom=0.16)\n",
    "                                    fig.subplots_adjust(left=0.22)\n",
    "                                    fig.subplots_adjust(right=0.98)\n",
    "\n",
    "                                    big_ax = fig.add_subplot(111)\n",
    "                                    big_ax.set_facecolor('none') # matplotlib.__version__ >= 2.0.0\n",
    "                                    # big_ax.set_axis_bgcolor('none') # matplotlib.__version__ < 2.0.0\n",
    "                                    big_ax.tick_params(labelcolor='none', top=False, bottom=False, left=False, right=False)\n",
    "                                    big_ax.set_xticks([])\n",
    "                                    big_ax.set_yticks([])\n",
    "                                    big_ax.set_xlabel(r'$\\kappa_\\parallel$'+' [pseudo '+r'$h$'+' Mpc'+r'$^{-1}$'+']', fontsize=12, weight='medium', labelpad=20)\n",
    "                                    if pstype == 'PS':\n",
    "                                        big_ax.set_ylabel(r'$\\frac{2}{3}\\, P_\\nabla(\\kappa_\\parallel)$ [pseudo mK$^2h^{-3}$ Mpc$^3$]', fontsize=12, weight='medium', labelpad=35)\n",
    "                                    else:\n",
    "                                        big_ax.set_ylabel(r'$\\frac{2}{3}\\, \\Delta_\\nabla^2(\\kappa_\\parallel)$ [pseudo mK$^2$]', fontsize=12, weight='medium', labelpad=35)\n",
    "\n",
    "#                                     big_axt = big_ax.twiny()\n",
    "#                                     big_axt.set_xticks([])\n",
    "#                                     big_axt.set_xlabel(r'$\\tau$'+' ['+r'$\\mu$'+'s]', fontsize=12, weight='medium', labelpad=20)\n",
    "                                    if pstype == 'PS':\n",
    "                                        PLT.savefig(figdir + '{0}_symlog_incoh_kbin_avg_real_cpdps_z_{1:.1f}_{2}_{3}_dlst_{4:.1f}s_flags_{5}_comb_{6:0d}.pdf'.format(infile_no_ext, xcpdps2_a_avg_kbin[sampling]['z'][zind], stat, sampling, 3.6e3*xcpdps2_b_avg_kbin['dlst'][0], applyflags_str, combi), bbox_inches=0)\n",
    "                                        print(figdir + '{0}_symlog_incoh_kbin_avg_real_cpdps_z_{1:.1f}_{2}_{3}_dlst_{4:.1f}s_flags_{5}_comb_{6:0d}.pdf'.format(infile_no_ext, xcpdps2_a_avg_kbin[sampling]['z'][zind], stat, sampling, 3.6e3*xcpdps2_b_avg_kbin['dlst'][0], applyflags_str, combi))\n",
    "                                    else:\n",
    "                                        PLT.savefig(figdir + '{0}_symlog_incoh_kbin_avg_real_cpDel2_z_{1:.1f}_{2}_{3}_dlst_{4:.1f}s_flags_{5}_comb_{6:0d}.pdf'.format(infile_no_ext, xcpdps2_a_avg_kbin[sampling]['z'][zind], stat, sampling, 3.6e3*xcpdps2_b_avg_kbin['dlst'][0], applyflags_str, combi), bbox_inches=0)\n",
    "                                        figdir + '{0}_symlog_incoh_kbin_avg_real_cpDel2_z_{1:.1f}_{2}_{3}_dlst_{4:.1f}s_flags_{5}_comb_{6:0d}.pdf'.format(infile_no_ext, xcpdps2_a_avg_kbin[sampling]['z'][zind], stat, sampling, 3.6e3*xcpdps2_b_avg_kbin['dlst'][0], applyflags_str, combi)"
   ]
  },
  {
   "cell_type": "markdown",
   "metadata": {},
   "source": [
    "## Plot 3: Plot visibilities, closure spectra and standard delay power spectra from the visibilities"
   ]
  },
  {
   "cell_type": "code",
   "execution_count": 48,
   "metadata": {},
   "outputs": [],
   "source": [
    "if ('3' in plots) or ('3a' in plots) or ('3b' in plots) or ('3c' in plots):\n",
    "\n",
    "    HI_PS_dir = plot_info['3']['21cm_PS_dir']\n",
    "    sim_rootdir = plot_info['3']['sim_rootdir']\n",
    "    visdirs = plot_info['3']['visdirs']\n",
    "    simvisdirs = [sim_rootdir+visdir for visdir in visdirs]\n",
    "    simlabels = plot_info['3']['simlabels']\n",
    "    visfile_prefix = plot_info['3']['visfile_prfx']\n",
    "\n",
    "    theory_HI_PS_files = glob.glob(HI_PS_dir+'ps_*')\n",
    "    z_theory_HI_PS_files = NP.asarray([fname.split('/')[-1].split('_')[3].split('z')[1] for fname in theory_HI_PS_files], dtype=NP.float)\n",
    "    h_Planck15 = DS.cosmoPlanck15.h\n",
    "\n",
    "    z_freq_window_centers = CNST.rest_freq_HI / freq_window_centers - 1\n",
    "    psfile_inds = [NP.argmin(NP.abs(z_theory_HI_PS_files - z_freq_window_center)) for z_freq_window_center in z_freq_window_centers]"
   ]
  },
  {
   "cell_type": "code",
   "execution_count": null,
   "metadata": {},
   "outputs": [],
   "source": [
    "    simvis_objs = [RI.InterferometerArray(None, None, None, init_file=simvisdir+visfile_prefix) for simvisdir in simvisdirs]"
   ]
  },
  {
   "cell_type": "code",
   "execution_count": null,
   "metadata": {},
   "outputs": [],
   "source": [
    "    select_lst = plot_info['3']['lst']\n",
    "    simlst = (simvis_objs[0].lst / 15.0) # in hours\n",
    "    if select_lst is None:\n",
    "        lstind = NP.asarray(NP.floor(simlst.size/2.0).astype(int)).reshape(-1)\n",
    "    elif isinstance(select_lst, (int,float)):\n",
    "        lstind = NP.asarray(NP.argmin(NP.abs(simlst - select_lst))).reshape(-1)\n",
    "    elif isinstance(select_lst, list):\n",
    "        lstind = NP.asarray([NP.argmin(NP.abs(simlst - select_lst[i])) for i in range(len(select_lst))])\n",
    "    else:\n",
    "        raise TypeError('Invalid format for selecting LST')\n",
    "\n",
    "    sysT = plot_info['3']['Tsys']"
   ]
  },
  {
   "cell_type": "markdown",
   "metadata": {},
   "source": [
    "## Plot 3a: Plot Visibility spectra of FG and HI amplitudes"
   ]
  },
  {
   "cell_type": "code",
   "execution_count": null,
   "metadata": {},
   "outputs": [],
   "source": [
    "    if '3a' in plots:\n",
    "        spw = plot_info['3a']['spw']\n",
    "        if spw is not None:\n",
    "            spwind = NP.asarray(spw).reshape(-1)\n",
    "\n",
    "        blvects = NP.asarray(plot_info['3a']['bl'])\n",
    "        bll = NP.sqrt(NP.sum(blvects**2, axis=1))\n",
    "        blo = NP.degrees(NP.arctan2(blvects[:,1], blvects[:,0]))\n",
    "        bltol = plot_info['3a']['bltol']\n",
    "        blinds, blrefinds, dbl = LKP.find_1NN(simvis_objs[0].baselines, blvects, distance_ULIM=bltol, remove_oob=True)\n",
    "\n",
    "        blcolrs = ['black', 'red', 'cyan']\n",
    "        for lind in lstind:\n",
    "            fig, axs = PLT.subplots(nrows=2, ncols=1, sharex='col', gridspec_kw={'height_ratios': [2, 1]}, figsize=(3.6, 3), constrained_layout=False)\n",
    "            for simind,simlbl in enumerate(simlabels):\n",
    "                if spw is not None:\n",
    "                    for zind in spwind:\n",
    "                        axs[simind].axvspan((freq_window_centers[zind]-0.5*freq_window_bw[zind])/1e6, (freq_window_centers[zind]+0.5*freq_window_bw[zind])/1e6, facecolor='0.8')\n",
    "                for blno, blrefind in enumerate(blrefinds):\n",
    "                    if simind == 0:\n",
    "                        axs[simind].plot(simvis_objs[simind].channels/1e6, NP.abs(simvis_objs[simind].skyvis_freq[blrefind,:,lind]), ls='-', color=blcolrs[blno], label='{0:.1f} m, {1:.1f}'.format(bll[blno], blo[blno])+r'$^\\circ$')\n",
    "                        if blno == blinds.size-1:\n",
    "                            axs[simind].plot(simvis_objs[simind].channels/1e6, simvis_objs[0].vis_rms_freq[blrefind,:,lind], ls='--', color='black', label='Noise RMS')\n",
    "                            axs[simind].text(0.05, 0.95, 'FG', transform=axs[simind].transAxes, fontsize=8, weight='medium', ha='left', va='top', color='black')\n",
    "                            axs[simind].set_ylabel(r'$|V|$ [Jy]', fontsize=12, weight='medium')\n",
    "                            legend = axs[simind].legend(loc='upper right', shadow=False, fontsize=7)\n",
    "                    else:\n",
    "                        axs[simind].plot(simvis_objs[simind].channels/1e6, NP.abs(simvis_objs[0].skyvis_freq[blrefind,:,lind] + simvis_objs[simind].skyvis_freq[blrefind,:,lind]) - NP.abs(simvis_objs[0].skyvis_freq[blrefind,:,lind]), ls='-', color=blcolrs[blno], alpha=0.5)\n",
    "                        if blno == blinds.size-1:\n",
    "                            axs[simind].set_ylim(-5e-3, 4e-3)\n",
    "                            axs[simind].text(0.95, 0.05, 'H I', transform=axs[simind].transAxes, fontsize=8, weight='medium', ha='right', va='bottom', color='black')\n",
    "                            axs[simind].set_ylabel(r'$\\delta |V|$ [Jy]', fontsize=12, weight='medium')\n",
    "            fig.subplots_adjust(hspace=0, wspace=0)\n",
    "            fig.subplots_adjust(top=0.95)\n",
    "            fig.subplots_adjust(bottom=0.15)\n",
    "            fig.subplots_adjust(left=0.25)\n",
    "            fig.subplots_adjust(right=0.98)\n",
    "\n",
    "            big_ax = fig.add_subplot(111)\n",
    "            big_ax.set_facecolor('none') # matplotlib.__version__ >= 2.0.0\n",
    "            big_ax.tick_params(labelcolor='none', top=False, bottom=False, left=False, right=False)\n",
    "            big_ax.set_xticks([])\n",
    "            big_ax.set_yticks([])\n",
    "            big_ax.set_xlabel(r'$f$ [MHz]', fontsize=12, weight='medium', labelpad=20)\n",
    "            PLT.savefig(figdir+'model_visibility_spectrum_{0:.1f}m_lst_{1:.3f}hr.pdf'.format(bll[blno], simlst[lind]), bbox_inches=0)\n"
   ]
  },
  {
   "cell_type": "markdown",
   "metadata": {},
   "source": [
    "## Plot 3b: Plot closure phase spectrum for foregrounds and the fluctuations"
   ]
  },
  {
   "cell_type": "code",
   "execution_count": null,
   "metadata": {},
   "outputs": [],
   "source": [
    "    if '3b' in plots:\n",
    "        spw = plot_info['3b']['spw']\n",
    "        if spw is not None:\n",
    "            spwind = NP.asarray(spw).reshape(-1)\n",
    "        for lind in lstind:\n",
    "            fig, axs = PLT.subplots(nrows=2, ncols=1, sharex='col', gridspec_kw={'height_ratios': [2, 1]}, figsize=(3.6, 3), constrained_layout=False)\n",
    "            for simind,simlbl in enumerate(simlabels):\n",
    "                if spw is not None:\n",
    "                    for zind in spwind:\n",
    "                        axs[simind].axvspan((freq_window_centers[zind]-0.5*freq_window_bw[zind])/1e6, (freq_window_centers[zind]+0.5*freq_window_bw[zind])/1e6, facecolor='0.8')\n",
    "                if simind == 0:\n",
    "                    axs[simind].plot(model_cpObjs[simind].f/1e6, model_cpObjs[simind].cpinfo['processed']['native']['cphase'][lind,0,0,:], ls='-', color='black')\n",
    "                    axs[simind].set_ylim(-NP.pi, NP.pi)\n",
    "                    axs[simind].set_ylabel(r'$\\phi_\\nabla^\\mathrm{F}(f)$ [rad]', fontsize=12, weight='medium')\n",
    "                elif simind == 1:\n",
    "                    axs[simind].plot(model_cpObjs[simind].f/1e6, model_cpObjs[simind].cpinfo['processed']['native']['cphase'][lind,0,0,:] - model_cpObjs[0].cpinfo['processed']['native']['cphase'][lind,0,0,:], ls='-', color='black')\n",
    "                    axs[simind].set_ylim(-2e-4, 2e-4)\n",
    "                    axs[simind].set_ylabel(r'$\\delta\\phi_\\nabla^\\mathrm{HI}(f)$ [rad]', fontsize=12, weight='medium')\n",
    "\n",
    "            fig.subplots_adjust(hspace=0, wspace=0)\n",
    "            fig.subplots_adjust(top=0.95, bottom=0.15, left=0.25, right=0.98)\n",
    "\n",
    "            big_ax = fig.add_subplot(111)\n",
    "            big_ax.set_facecolor('none') # matplotlib.__version__ >= 2.0.0\n",
    "            big_ax.tick_params(labelcolor='none', top=False, bottom=False, left=False, right=False)\n",
    "            big_ax.set_xticks([])\n",
    "            big_ax.set_yticks([])\n",
    "            big_ax.set_xlabel(r'$f$ [MHz]', fontsize=12, weight='medium', labelpad=20)\n",
    "            PLT.savefig(figdir+'model_cPhase_spectrum_EQ28_lst_{0:.3f}hr.pdf'.format(simlst[lind]), bbox_inches=0)                \n"
   ]
  },
  {
   "cell_type": "markdown",
   "metadata": {},
   "source": [
    "## Plot 3c: Standard visibility-based delay power spectrum "
   ]
  },
  {
   "cell_type": "code",
   "execution_count": null,
   "metadata": {},
   "outputs": [],
   "source": [
    "    if '3c' in plots:\n",
    "        n_days = plot_info['3c']['n_days']\n",
    "        n_batches = plot_info['3c']['n_batches']\n",
    "        t_field = plot_info['3c']['t_field'] * U.min\n",
    "        t_int = plot_info['3c']['t_int'] * U.s\n",
    "        n_pairs_of_batches = n_batches * (n_batches - 1) / 2.0 # Number of pairs of batches going into the cross-product\n",
    "        n_int_per_field = t_field * 60.0 / t_int # Number of coherent integrations on a field\n",
    "        npol = plot_info['3c']['npol']\n",
    "\n",
    "        sampling = plot_info['3c']['sampling']\n",
    "        spw = plot_info['3c']['spw']\n",
    "        if spw is None:\n",
    "            spwind = NP.arange(simDPS_objs[0].subband_delay_power_spectra['sim']['z'].size)\n",
    "        else:\n",
    "            spwind = NP.asarray(spw)\n",
    "\n",
    "        eff_A = plot_info['3c']['A_eff']\n",
    "        if isinstance(eff_A, (int,float)):\n",
    "            eff_A = eff_A + NP.zeros_like(freq_window_centers)\n",
    "        elif isinstance(eff_A, list):\n",
    "            eff_A = NP.asarray(eff_A) + NP.zeros_like(freq_window_centers)\n",
    "        else:\n",
    "            raise TypeError('Effective area must be a scalar or list')\n",
    "        eff_A = eff_A * U.m**2\n",
    "\n",
    "        blvects = NP.asarray(plot_info['3c']['bl'])\n",
    "        bll = NP.sqrt(NP.sum(blvects**2, axis=1))\n",
    "        blo = NP.degrees(NP.arctan2(blvects[:,1], blvects[:,0]))\n",
    "        bltol = plot_info['3c']['bltol']\n",
    "        blinds, blrefinds, dbl = LKP.find_1NN(simvis_objs[0].baselines, blvects, distance_ULIM=bltol, remove_oob=True)\n",
    "\n",
    "        bl_same_bin = plot_info['3c']['bl_same_bin']\n",
    "        blvctinds = []\n",
    "        blvctrefinds = []\n",
    "        blhists = []\n",
    "        blwts_coherent = []\n",
    "        blwts_incoherent = []\n",
    "        for blgrpind in range(len(bl_same_bin)):\n",
    "            blvctgrp = NP.asarray(bl_same_bin[blgrpind])\n",
    "            indNN_list, blind_ngbrof, blind_ngbrin = LKP.find_NN(simvis_objs[0].baselines, blvctgrp, distance_ULIM=bltol, flatten=True)\n",
    "            blvctinds += [blind_ngbrin]\n",
    "            blvctrefinds += [blind_ngbrof]\n",
    "            blhist, blind_type, bl_binnum, ri = OPS.binned_statistic(blind_ngbrin, values=None, statistic='count', bins=range(blind_ngbrin.max()+2), range=None)\n",
    "            blhists += [blhist]\n",
    "            blwts_coherent += [NP.sum(blhist**2)]\n",
    "            blwts_incoherent += [NP.sum(blhist)]\n",
    "\n",
    "        if sysT is None:\n",
    "            sysT = simvis_objs[0].Tsys\n",
    "        elif isinstance(sysT, (int,float)):\n",
    "            sysT = sysT + NP.zeros_like(simvis_objs[0].shape)\n",
    "        else:\n",
    "            raise TypeError('Input system temperature in invalid format')\n",
    "        sysT = sysT * U.K\n",
    "\n",
    "        freqinds = NP.asarray([NP.argmin(NP.abs(simvis_objs[0].channels - fwin)) for fwin in freq_window_centers])\n",
    "        nearest_Tsys = sysT[NP.ix_(blrefinds,freqinds,lstind)]\n",
    "\n",
    "        df = simvis_objs[0].freq_resolution * U.Hz\n",
    "        sysT_per_unit_visibility = nearest_Tsys / NP.sqrt(df * t_int * n_days) # Noise RMS temperature (in K) per batch. Of this, 1/sqrt(2) each in real and imaginary parts\n",
    "        sysT_per_unit_visibility_real = sysT_per_unit_visibility / NP.sqrt(2.0) # in K\n",
    "        sysT_per_unit_visibility_imag = sysT_per_unit_visibility / NP.sqrt(2.0) # in K\n",
    "        rms_noise_K_dspec_bin = sysT_per_unit_visibility * NP.sqrt(freq_window_bw.reshape(1,-1,1)*U.Hz / df) * df # in K.Hz, of which 1/sqrt(2) each in real and imaginary parts\n",
    "        rms_noise_K_dspec_bin_real = rms_noise_K_dspec_bin / NP.sqrt(2.0) # in K.Hz\n",
    "        rms_noise_K_dspec_bin_imag = rms_noise_K_dspec_bin / NP.sqrt(2.0) # in K.Hz\n",
    "\n",
    "        # Product of two independent Gaussian random variables is a modified Bessel function of the second kind with RMS as below:\n",
    "\n",
    "        rms_noise_K_crosssprod_bin_real = NP.sqrt(rms_noise_K_dspec_bin_real**2 * rms_noise_K_dspec_bin_real**2 + rms_noise_K_dspec_bin_imag**2 * rms_noise_K_dspec_bin_imag**2) / NP.sqrt(npol * n_pairs_of_batches * n_int_per_field) # in K^2 Hz^2, per baseline\n",
    "        rms_noise_K_crosssprod_bin_imag = NP.sqrt(rms_noise_K_dspec_bin_real**2 * rms_noise_K_dspec_bin_imag**2 + rms_noise_K_dspec_bin_real**2 * rms_noise_K_dspec_bin_imag**2) / NP.sqrt(npol * n_pairs_of_batches * n_int_per_field) # in K^2 Hz^2, per baseline\n",
    "\n",
    "        rest_freq_HI = CNST.rest_freq_HI * U.Hz\n",
    "        center_redshifts = rest_freq_HI / (freq_window_centers * U.Hz) - 1\n",
    "        redshifts_ulim = rest_freq_HI / ((freq_window_centers - 0.5 * freq_window_bw) * U.Hz) - 1\n",
    "        redshifts_llim = rest_freq_HI / ((freq_window_centers + 0.5 * freq_window_bw) * U.Hz) - 1\n",
    "\n",
    "        center_redshifts = center_redshifts.to_value()\n",
    "        redshifts_ulim = redshifts_ulim.to_value()\n",
    "        redshifts_llim = redshifts_llim.to_value()\n",
    "\n",
    "        wl = FCNST.c / (freq_window_centers * U.Hz)\n",
    "        rz = cosmo100.comoving_distance(center_redshifts)\n",
    "        drz = cosmo100.comoving_distance(redshifts_ulim) - cosmo100.comoving_distance(redshifts_llim)\n",
    "\n",
    "        conv_factor1 = (wl**2 / eff_A)\n",
    "        conv_factor2 = rz**2 * drz / (freq_window_bw * U.Hz)**2\n",
    "        conv_factor = conv_factor1 * conv_factor2\n",
    "\n",
    "        noise_xpspec_rms_real = rms_noise_K_crosssprod_bin_real * conv_factor.reshape(1,-1,1)\n",
    "\n",
    "        noise_xpspec_rms_real_blgroups = []\n",
    "        for blgrpind in range(len(bl_same_bin)):\n",
    "            noise_xpspec_rms_real_blgroups += [{'coh_bl': noise_xpspec_rms_real[blgrpind].to('K2 Mpc3') / NP.sqrt(blwts_coherent[blgrpind]), 'incoh_bl': noise_xpspec_rms_real[blgrpind].to('K2 Mpc3') / NP.sqrt(blwts_incoherent[blgrpind])}]\n"
   ]
  },
  {
   "cell_type": "markdown",
   "metadata": {},
   "source": [
    "### Compute visibility-based Delay Power Spectra"
   ]
  },
  {
   "cell_type": "code",
   "execution_count": null,
   "metadata": {},
   "outputs": [],
   "source": [
    "    if '3c' in plots:\n",
    "        simDS_objs = [DS.DelaySpectrum(interferometer_array=simvis_obj) for simvis_obj in simvis_objs]\n",
    "\n",
    "        simDPS_objs = []\n",
    "        for simind,simlbl in enumerate(simlabels):\n",
    "            dspec = simDS_objs[simind].delay_transform(action='store')\n",
    "            subband_dspec = simDS_objs[simind].subband_delay_transform({key: freq_window_bw for key in ['cc', 'sim']}, freq_center={key: freq_window_centers for key in ['cc', 'sim']}, shape={key: freq_window_shape for key in ['cc', 'sim']}, fftpow={key: freq_window_fftpow for key in ['cc', 'sim']}, pad={key: pad for key in ['cc', 'sim']}, bpcorrect=False, action='return_resampled')\n",
    "        simDPS_objs = []\n",
    "        for simind,simlbl in enumerate(simlabels):\n",
    "            simDPS_objs += [DS.DelayPowerSpectrum(simDS_objs[simind])]\n",
    "            simDPS_objs[simind].compute_power_spectrum()        "
   ]
  },
  {
   "cell_type": "code",
   "execution_count": null,
   "metadata": {},
   "outputs": [],
   "source": [
    "    if '3c' in plots:\n",
    "        colrs_sim = ['black', 'black']\n",
    "        colrs_ref = ['gray', 'gray']\n",
    "        # colrs_sim = ['red', 'blue']\n",
    "        # colrs_ref = ['orange', 'cyan']\n",
    "        lstyles = [':', '-']\n",
    "        for blno, blrefind in enumerate(blrefinds):\n",
    "            for lstno,lind in enumerate(lstind):\n",
    "                for zind in spwind:\n",
    "                    pstable = ascii.read(theory_HI_PS_files[psfile_inds[zind]])\n",
    "                    k = pstable['col1'] # in 1/Mpc\n",
    "                    delta2 = 1e-6 * pstable['col2'] # in K^2\n",
    "                    pk = 2 * NP.pi**2 / k**3 * delta2 # in K^2 Mpc^3\n",
    "                    k_h = k / h_Planck15 # in h/Mpc\n",
    "                    pk_h = pk * h_Planck15**3 # in K^2 (Mpc/h)^3\n",
    "\n",
    "                    kprll_sim = simDPS_objs[simind].subband_delay_power_spectra_resampled['sim']['kprll'][zind,:]\n",
    "                    kperp_sim = simDPS_objs[simind].subband_delay_power_spectra_resampled['sim']['kperp'][zind,blrefind]\n",
    "                    k_sim = NP.sqrt(kperp_sim**2 + kprll_sim**2)\n",
    "\n",
    "                    log10_ps_interped = OPS.interpolate_array(NP.log10(pk_h), NP.log10(k_h), NP.log10(k_sim), axis=-1, kind='linear')\n",
    "                    ps_interped = 10**log10_ps_interped\n",
    "\n",
    "                    fig = PLT.figure(figsize=(4.0, 3.6))\n",
    "                    ax = fig.add_subplot(111)\n",
    "\n",
    "                    for simind,simlbl in enumerate(simlabels):\n",
    "                        if simind == 0:\n",
    "                            ax.plot(simDPS_objs[simind].subband_delay_power_spectra_resampled['sim']['kprll'][zind,:], simDPS_objs[simind].subband_delay_power_spectra_resampled['sim']['skyvis_lag'][blrefind,zind,:,lind], ls=lstyles[simind], color=colrs_sim[zind], label=r'$P_\\mathrm{F}$'+' ({0:.1f} MHz)'.format(freq_window_centers[zind]/1e6))\n",
    "                        else:\n",
    "                            ax.plot(simDPS_objs[simind].subband_delay_power_spectra_resampled['sim']['kprll'][zind,:], simDPS_objs[simind].subband_delay_power_spectra_resampled['sim']['skyvis_lag'][blrefind,zind,:,lind], ls=lstyles[simind], color=colrs_sim[zind], label=r'$P_\\mathrm{HI}$'+' (sim), '+r'$z=$'+'{0:.1f}'.format(simDPS_objs[simind].subband_delay_power_spectra['sim']['z'][zind]))\n",
    "                            ax.plot(simDPS_objs[simind].subband_delay_power_spectra_resampled['sim']['kprll'][zind,:], ps_interped, ls='-', color=colrs_ref[zind], label=r'$P_\\mathrm{HI}$'+' (ref), '+r'$z=$'+'{0:.1f}'.format(simDPS_objs[simind].subband_delay_power_spectra['sim']['z'][zind]))\n",
    "                    ax.axhline(y=noise_xpspec_rms_real_blgroups[blno]['coh_bl'][zind,lstno].to('K2 Mpc3').value, ls='--', color='gray', label=r'$P_\\mathrm{N}$'+' (red.)')\n",
    "                    ax.axhline(y=noise_xpspec_rms_real_blgroups[blno]['incoh_bl'][zind,lstno].to('K2 Mpc3').value, ls='--', color='black', label=r'$P_\\mathrm{N}$'+' (non-red.)')\n",
    "                    ax.set_yscale('log')\n",
    "                    ax.legend(loc='upper right', shadow=False, fontsize=7.5)\n",
    "                    ax.text(0.1, 0.9, '{0:.1f} m'.format(bll[blno]), transform=ax.transAxes, fontsize=8, weight='medium', ha='left', va='top', color='black')\n",
    "                    ax.set_xlabel(r'$k_\\parallel$ [$h$ Mpc$^{-1}$]')\n",
    "                    ax.set_ylabel(r'$P_b(k_\\parallel)$ [K$^2$ $h^{-3}$ Mpc$^3$]')\n",
    "                    axt = ax.twiny()\n",
    "                    axt.set_xlim(1e6*simDS_objs[simind].subband_delay_spectra_resampled['sim']['lags'].min(), 1e6*simDS_objs[simind].subband_delay_spectra_resampled['sim']['lags'].max())\n",
    "                    axt.set_xlabel(r'$\\tau$'+' ['+r'$\\mu$'+'s]')\n",
    "                    fig.subplots_adjust(bottom=0.15, left=0.18, right=0.98)\n",
    "\n",
    "                    PLT.savefig(figdir+'delay_PS_{0:.1f}m_z_{1:.1f}_lst_{2:.3f}hr.pdf'.format(bll[blno], simDPS_objs[simind].subband_delay_power_spectra['sim']['z'][zind], simlst[lind]), bbox_inches=0)"
   ]
  }
 ],
 "metadata": {
  "anaconda-cloud": {},
  "kernelspec": {
   "display_name": "Python 2",
   "language": "python",
   "name": "python2"
  },
  "language_info": {
   "codemirror_mode": {
    "name": "ipython",
    "version": 2
   },
   "file_extension": ".py",
   "mimetype": "text/x-python",
   "name": "python",
   "nbconvert_exporter": "python",
   "pygments_lexer": "ipython2",
   "version": "2.7.15"
  }
 },
 "nbformat": 4,
 "nbformat_minor": 1
}
