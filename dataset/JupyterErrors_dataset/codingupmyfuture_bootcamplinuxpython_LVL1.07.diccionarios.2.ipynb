{
  "cells": [
    {
      "cell_type": "markdown",
      "metadata": {
        "id": "S8gTUH4D-q12"
      },
      "source": [
        "<p><img src=\"https://i.postimg.cc/cCjTSn8r/ss-cumf.png\" alt=\"\" width=\"1280\" height=\"300\" /></p>"
      ]
    },
    {
      "cell_type": "markdown",
      "metadata": {
        "id": "I9y4uJNz_kvS"
      },
      "source": [
        "# **DICCIONARIOS**\n",
        "\n",
        "Son estructuras de datos no ordenadas, las cuales se representan por llave y por valor, y pueden tener múltiples elementos\n",
        "\n",
        "Consideraciones:\n",
        "\n",
        "\n",
        "1.   Si vas a asignar varios elementos en un diccionario, deben ir separados por \",\" menos el último\n",
        "2.   Las llaves son únicas\n",
        "3.   Si asigno un valor a una llave existente, no crea una nueva llave, pero sí reemplaza el valor\n",
        "4.   Las llaves pueden ser de otros tipos de datos diferentes a texto\n",
        "5.   Si la llave no existe la crea automáticamente al momento de asignar valor\n",
        "6.   Si la llave no existe y se quiere acceder a ella, genera error\n",
        "7.   Me permite manejar niveles\n",
        "8.   Los valores pueden ser cualquier tipo de dato"
      ]
    },
    {
      "cell_type": "code",
      "execution_count": 3,
      "metadata": {
        "colab": {
          "base_uri": "https://localhost:8080/"
        },
        "id": "UawIpi49-X05",
        "outputId": "eada6fbe-6faf-4978-c596-3e60844f1b92"
      },
      "outputs": [
        {
          "output_type": "stream",
          "name": "stdout",
          "text": [
            "<class 'dict'> {'llave': 'valor', 'edad': 18.5}\n"
          ]
        }
      ],
      "source": [
        "dvacio: dict = {}\n",
        "dinicializado = {\"llave\": \"valor\", \"edad\": 18.5}\n",
        "print(type(dinicializado), dinicializado)"
      ]
    },
    {
      "cell_type": "code",
      "execution_count": 4,
      "metadata": {
        "colab": {
          "base_uri": "https://localhost:8080/"
        },
        "id": "_Sxv7zWUxgnx",
        "outputId": "5392db5a-b4d4-4a1e-f0a0-2e4cc7db8699"
      },
      "outputs": [
        {
          "output_type": "stream",
          "name": "stdout",
          "text": [
            "18.5\n"
          ]
        }
      ],
      "source": [
        "# llaves de primer nivel\n",
        "# acceso elemental propenso a errores\n",
        "print(dinicializado[\"edad\"])"
      ]
    },
    {
      "cell_type": "code",
      "execution_count": 5,
      "metadata": {
        "colab": {
          "base_uri": "https://localhost:8080/",
          "height": 193
        },
        "id": "QPT20gQQx3Sy",
        "outputId": "c5af26b6-80db-42f2-fc9f-a5313d708b78"
      },
      "outputs": [
        {
          "output_type": "error",
          "ename": "AttributeError",
          "evalue": "ignored",
          "traceback": [
            "\u001b[0;31m---------------------------------------------------------------------------\u001b[0m",
            "\u001b[0;31mAttributeError\u001b[0m                            Traceback (most recent call last)",
            "\u001b[0;32m<ipython-input-5-9fa96404c558>\u001b[0m in \u001b[0;36m<cell line: 2>\u001b[0;34m()\u001b[0m\n\u001b[1;32m      1\u001b[0m \u001b[0;31m# forma no permitida\u001b[0m\u001b[0;34m\u001b[0m\u001b[0;34m\u001b[0m\u001b[0m\n\u001b[0;32m----> 2\u001b[0;31m \u001b[0mprint\u001b[0m\u001b[0;34m(\u001b[0m\u001b[0mdinicializado\u001b[0m\u001b[0;34m.\u001b[0m\u001b[0medad\u001b[0m\u001b[0;34m)\u001b[0m\u001b[0;34m\u001b[0m\u001b[0;34m\u001b[0m\u001b[0m\n\u001b[0m",
            "\u001b[0;31mAttributeError\u001b[0m: 'dict' object has no attribute 'edad'"
          ]
        }
      ],
      "source": [
        "# forma no permitida\n",
        "print(dinicializado.edad)"
      ]
    },
    {
      "cell_type": "code",
      "execution_count": 8,
      "metadata": {
        "colab": {
          "base_uri": "https://localhost:8080/",
          "height": 211
        },
        "id": "xmcCymsEyHCH",
        "outputId": "633aa98d-60ee-48f1-a6c6-8835f11a8117"
      },
      "outputs": [
        {
          "output_type": "stream",
          "name": "stdout",
          "text": [
            "{'llave': 'valor', 'edad': 18.5}\n"
          ]
        },
        {
          "output_type": "error",
          "ename": "KeyError",
          "evalue": "ignored",
          "traceback": [
            "\u001b[0;31m---------------------------------------------------------------------------\u001b[0m",
            "\u001b[0;31mKeyError\u001b[0m                                  Traceback (most recent call last)",
            "\u001b[0;32m<ipython-input-8-793af09d1f92>\u001b[0m in \u001b[0;36m<cell line: 2>\u001b[0;34m()\u001b[0m\n\u001b[1;32m      1\u001b[0m \u001b[0mprint\u001b[0m\u001b[0;34m(\u001b[0m\u001b[0mdinicializado\u001b[0m\u001b[0;34m)\u001b[0m\u001b[0;34m\u001b[0m\u001b[0;34m\u001b[0m\u001b[0m\n\u001b[0;32m----> 2\u001b[0;31m \u001b[0mprint\u001b[0m\u001b[0;34m(\u001b[0m\u001b[0mdinicializado\u001b[0m\u001b[0;34m[\u001b[0m\u001b[0;34m\"dígame_el_futuro\"\u001b[0m\u001b[0;34m]\u001b[0m\u001b[0;34m)\u001b[0m\u001b[0;34m\u001b[0m\u001b[0;34m\u001b[0m\u001b[0m\n\u001b[0m",
            "\u001b[0;31mKeyError\u001b[0m: 'dígame_el_futuro'"
          ]
        }
      ],
      "source": [
        "print(dinicializado)\n",
        "print(dinicializado[\"dígame_el_futuro\"])"
      ]
    },
    {
      "cell_type": "markdown",
      "metadata": {
        "id": "2Y08FgocyZ6j"
      },
      "source": [
        "## **GET**\n",
        "\n",
        "Recomendada cuando se tenga incertidumbre\n",
        "\n",
        "\n",
        "Nota: no queda almacenado en el diccionario\n",
        "```\n",
        "# nota: cualquier tipo de dato\n",
        "diccionario.get(\"llave\", \"valor en caso de que no exita la llave\")\n",
        "```\n",
        "\n"
      ]
    },
    {
      "cell_type": "code",
      "execution_count": 9,
      "metadata": {
        "colab": {
          "base_uri": "https://localhost:8080/"
        },
        "id": "ApCrHyTgyYcf",
        "outputId": "97dfc762-09c6-4ea8-d2d7-af87270e48e0"
      },
      "outputs": [
        {
          "output_type": "stream",
          "name": "stdout",
          "text": [
            "{'llave': 'valor', 'edad': 18.5}\n",
            "sacan 5, si estudian.\n"
          ]
        }
      ],
      "source": [
        "print(dinicializado)\n",
        "print(dinicializado.get(\"dígame_el_futuro\", \"sacan 5, si estudian.\"))"
      ]
    },
    {
      "cell_type": "code",
      "execution_count": 10,
      "metadata": {
        "colab": {
          "base_uri": "https://localhost:8080/"
        },
        "id": "InKXluwxzdMU",
        "outputId": "27765518-a5d8-48cd-d304-178022172215"
      },
      "outputs": [
        {
          "output_type": "stream",
          "name": "stdout",
          "text": [
            "{'llave': 'valor', 'edad': 18.5}\n",
            "18.5\n",
            "{'llave': 'valor', 'edad': 18.5}\n"
          ]
        }
      ],
      "source": [
        "print(dinicializado)\n",
        "print(dinicializado.get(\"edad\", True))\n",
        "print(dinicializado)"
      ]
    },
    {
      "cell_type": "code",
      "execution_count": 11,
      "metadata": {
        "colab": {
          "base_uri": "https://localhost:8080/"
        },
        "id": "raG9DShQAACG",
        "outputId": "0886be98-0ad1-45dc-e921-937cc5a061f3"
      },
      "outputs": [
        {
          "output_type": "execute_result",
          "data": {
            "text/plain": [
              "-1"
            ]
          },
          "metadata": {},
          "execution_count": 11
        }
      ],
      "source": [
        "# forma 1 | pregunta\n",
        "dinicializado.get(\"fafa\", -1)"
      ]
    },
    {
      "cell_type": "markdown",
      "metadata": {
        "id": "bDxBLJUK0Gst"
      },
      "source": [
        "## **KEYS**\n",
        "\n",
        "Solamente traen los elementos del primer nivel"
      ]
    },
    {
      "cell_type": "code",
      "execution_count": 12,
      "metadata": {
        "colab": {
          "base_uri": "https://localhost:8080/"
        },
        "id": "KNAL34Y80FnR",
        "outputId": "8c1d7894-6a5a-4665-b74a-ad87deac5614"
      },
      "outputs": [
        {
          "output_type": "stream",
          "name": "stdout",
          "text": [
            "{'llave': 'valor', 'edad': 18.5}\n",
            "dict_keys(['llave', 'edad'])\n",
            "['llave', 'edad']\n"
          ]
        }
      ],
      "source": [
        "print(dinicializado)\n",
        "print(dinicializado.keys())\n",
        "print(list(dinicializado.keys()))"
      ]
    },
    {
      "cell_type": "markdown",
      "metadata": {
        "id": "50ZwrYLO0isR"
      },
      "source": [
        "## **VALUES**\n",
        "\n",
        "Solamente traen los elementos del primer nivel"
      ]
    },
    {
      "cell_type": "code",
      "execution_count": 13,
      "metadata": {
        "colab": {
          "base_uri": "https://localhost:8080/"
        },
        "id": "jiCoYSJe0jDA",
        "outputId": "784564ca-5f48-4e48-dbff-7c0f9ba40e85"
      },
      "outputs": [
        {
          "output_type": "stream",
          "name": "stdout",
          "text": [
            "{'llave': 'valor', 'edad': 18.5}\n",
            "dict_values(['valor', 18.5])\n",
            "['valor', 18.5]\n"
          ]
        }
      ],
      "source": [
        "print(dinicializado)\n",
        "print(dinicializado.values())\n",
        "print(list(dinicializado.values()))"
      ]
    },
    {
      "cell_type": "markdown",
      "metadata": {
        "id": "748jQ6wl007e"
      },
      "source": [
        "## **ITEMS**"
      ]
    },
    {
      "cell_type": "code",
      "execution_count": 14,
      "metadata": {
        "colab": {
          "base_uri": "https://localhost:8080/"
        },
        "id": "P3MYDuci00f8",
        "outputId": "2bdc6012-af43-424a-febb-b0dfe640ccc6"
      },
      "outputs": [
        {
          "output_type": "stream",
          "name": "stdout",
          "text": [
            "{'llave': 'valor', 'edad': 18.5}\n",
            "dict_items([('llave', 'valor'), ('edad', 18.5)])\n",
            "[('llave', 'valor'), ('edad', 18.5)]\n"
          ]
        }
      ],
      "source": [
        "print(dinicializado)\n",
        "print(dinicializado.items())\n",
        "items = list(dinicializado.items())\n",
        "print(items)"
      ]
    },
    {
      "cell_type": "code",
      "execution_count": 15,
      "metadata": {
        "colab": {
          "base_uri": "https://localhost:8080/"
        },
        "id": "vj9_jI2r1erB",
        "outputId": "d4435fd2-8d0f-4e49-f337-783b4010b0f4"
      },
      "outputs": [
        {
          "output_type": "stream",
          "name": "stdout",
          "text": [
            "('llave', 'valor')\n",
            "llave\n"
          ]
        }
      ],
      "source": [
        "print(items[0])\n",
        "print(items[0][0])"
      ]
    },
    {
      "cell_type": "code",
      "execution_count": 16,
      "metadata": {
        "colab": {
          "base_uri": "https://localhost:8080/"
        },
        "id": "0zNg4afZ2G2T",
        "outputId": "ba8d81c8-66be-4b6a-8bb7-069d7820e49f"
      },
      "outputs": [
        {
          "output_type": "stream",
          "name": "stdout",
          "text": [
            "elemento_1: ('llave', 'valor')\n",
            "elemento_2: ('edad', 18.5)\n"
          ]
        }
      ],
      "source": [
        "elemento_1, elemento_2 = list(dinicializado.items())\n",
        "print(\"elemento_1:\",elemento_1)\n",
        "print(\"elemento_2:\",elemento_2)"
      ]
    },
    {
      "cell_type": "code",
      "execution_count": 17,
      "metadata": {
        "colab": {
          "base_uri": "https://localhost:8080/"
        },
        "id": "hAk8yFK92Qz3",
        "outputId": "b654a3ac-9031-4f9c-f026-f278008ff803"
      },
      "outputs": [
        {
          "output_type": "stream",
          "name": "stdout",
          "text": [
            "llave:  llave\n",
            "valor:  valor\n",
            "llave:  edad\n",
            "valor:  18.5\n"
          ]
        }
      ],
      "source": [
        "# nivel 2\n",
        "for key, value in dinicializado.items():\n",
        "  print(\"llave: \", key)\n",
        "  print(\"valor: \", value)"
      ]
    },
    {
      "cell_type": "markdown",
      "metadata": {
        "id": "ixn32ChN2woo"
      },
      "source": [
        "\n",
        "\n",
        "```\n",
        "Antes de ':' es la llave, después de los 'valores'\n",
        "{'llave': 'valor', 'edad': 18.5}\n",
        "\n",
        "llaves:\n",
        "'llave'\n",
        "'edad'\n",
        "\n",
        "valores:\n",
        "'valor'\n",
        "18.5\n",
        "```\n",
        "\n"
      ]
    },
    {
      "cell_type": "markdown",
      "metadata": {
        "id": "z4AGiZrq3qov"
      },
      "source": [
        "## **ASIGNACIÓN**"
      ]
    },
    {
      "cell_type": "code",
      "execution_count": 18,
      "metadata": {
        "colab": {
          "base_uri": "https://localhost:8080/"
        },
        "id": "zRBSuf5k3uy6",
        "outputId": "fb7f9129-9b98-4c83-a2d8-6417ca14e39d"
      },
      "outputs": [
        {
          "output_type": "stream",
          "name": "stdout",
          "text": [
            "{'llave': 'valor', 'edad': 18.5}\n",
            "{'llave': 'valor', 'edad': 18.5, 'python_level': 1}\n"
          ]
        }
      ],
      "source": [
        "print(dinicializado)\n",
        "dinicializado[\"python_level\"] = 1\n",
        "print(dinicializado)"
      ]
    },
    {
      "cell_type": "markdown",
      "metadata": {
        "id": "uADsu85Q3_2s"
      },
      "source": [
        "## **POP**"
      ]
    },
    {
      "cell_type": "code",
      "execution_count": 19,
      "metadata": {
        "colab": {
          "base_uri": "https://localhost:8080/"
        },
        "id": "s5oshMvK3_Z0",
        "outputId": "480951fb-8370-452d-b7a5-bce58c74c8e3"
      },
      "outputs": [
        {
          "output_type": "stream",
          "name": "stdout",
          "text": [
            "{'llave': 'valor', 'edad': 18.5, 'python_level': 1}\n",
            "{'edad': 18.5, 'python_level': 1}\n"
          ]
        }
      ],
      "source": [
        "print(dinicializado)\n",
        "dinicializado.pop('llave')\n",
        "print(dinicializado)"
      ]
    },
    {
      "cell_type": "markdown",
      "metadata": {
        "id": "1EHWGHFI5fA-"
      },
      "source": [
        "## **COPY**"
      ]
    },
    {
      "cell_type": "code",
      "execution_count": 20,
      "metadata": {
        "colab": {
          "base_uri": "https://localhost:8080/"
        },
        "id": "E37ohiO25htn",
        "outputId": "1f5cad90-41dc-4de4-cf55-1f2c8f537b5b"
      },
      "outputs": [
        {
          "output_type": "stream",
          "name": "stdout",
          "text": [
            "{'edad': 18.5, 'python_level': 1}\n",
            "{'edad': 18.5, 'python_level': 1}\n"
          ]
        }
      ],
      "source": [
        "copia_a = dinicializado.copy()\n",
        "copia_b = dinicializado.copy()\n",
        "print(copia_a)\n",
        "print(copia_b)"
      ]
    },
    {
      "cell_type": "markdown",
      "metadata": {
        "id": "bdYp0s3P4RtA"
      },
      "source": [
        "## **UPDATE**"
      ]
    },
    {
      "cell_type": "code",
      "execution_count": 21,
      "metadata": {
        "colab": {
          "base_uri": "https://localhost:8080/"
        },
        "id": "KVWD7JM64QRj",
        "outputId": "fc685f2d-fade-456e-d81e-d2ba66dd0486"
      },
      "outputs": [
        {
          "output_type": "stream",
          "name": "stdout",
          "text": [
            "{(6.210587535457488, -75.57099775407882): 'Parque del Poblado'}\n"
          ]
        }
      ],
      "source": [
        "# Ejemplo con información geográfica | investigar latitud y longitud, SIG\n",
        "a_concatenar = {(6.210587535457488, -75.57099775407882): \"Parque del Poblado\"}\n",
        "print(a_concatenar)"
      ]
    },
    {
      "cell_type": "code",
      "execution_count": 22,
      "metadata": {
        "colab": {
          "base_uri": "https://localhost:8080/"
        },
        "id": "G-2qwwwx8k2p",
        "outputId": "811e87f5-579c-44c9-a3ce-fa2bafe81eb2"
      },
      "outputs": [
        {
          "output_type": "stream",
          "name": "stdout",
          "text": [
            "Parque del Poblado\n"
          ]
        }
      ],
      "source": [
        "print(a_concatenar[(6.210587535457488, -75.57099775407882)])"
      ]
    },
    {
      "cell_type": "code",
      "execution_count": 23,
      "metadata": {
        "colab": {
          "base_uri": "https://localhost:8080/"
        },
        "id": "OoGGdveH3-rp",
        "outputId": "246d9f59-9881-4290-bf31-578afd971723"
      },
      "outputs": [
        {
          "output_type": "stream",
          "name": "stdout",
          "text": [
            "antes {'edad': 18.5, 'python_level': 1}\n",
            "después {'edad': 18.5, 'python_level': 1, (6.210587535457488, -75.57099775407882): 'Parque del Poblado'}\n"
          ]
        }
      ],
      "source": [
        "print(\"antes\",copia_a )\n",
        "copia_a.update(a_concatenar)\n",
        "print(\"después\",copia_a )"
      ]
    },
    {
      "cell_type": "code",
      "execution_count": 24,
      "metadata": {
        "colab": {
          "base_uri": "https://localhost:8080/"
        },
        "id": "QzAaqpwk57KL",
        "outputId": "cef2ce28-e9b2-48de-ac2a-7461b29dd1b7"
      },
      "outputs": [
        {
          "output_type": "stream",
          "name": "stdout",
          "text": [
            "dict_keys(['edad', 'python_level', (6.210587535457488, -75.57099775407882)])\n"
          ]
        }
      ],
      "source": [
        "print(copia_a.keys())"
      ]
    },
    {
      "cell_type": "code",
      "execution_count": 25,
      "metadata": {
        "colab": {
          "base_uri": "https://localhost:8080/"
        },
        "id": "yRBPF1Fb6AKv",
        "outputId": "e2a2283d-657a-4c9c-a46b-202a7c9e0c6e"
      },
      "outputs": [
        {
          "output_type": "stream",
          "name": "stdout",
          "text": [
            "dict_values([18.5, 1, 'Parque del Poblado'])\n"
          ]
        }
      ],
      "source": [
        "print(copia_a.values())"
      ]
    },
    {
      "cell_type": "markdown",
      "metadata": {
        "id": "_ftlPlGA6J6U"
      },
      "source": [
        "## **TRUCO**\n",
        "\n",
        "\n",
        "\n",
        "1.   **KEY ARGS | KARGS**: **\n",
        "2.   **ARGS**: *\n",
        "\n"
      ]
    },
    {
      "cell_type": "code",
      "execution_count": 26,
      "metadata": {
        "colab": {
          "base_uri": "https://localhost:8080/"
        },
        "id": "MJW2zhwU6H4q",
        "outputId": "8fd0a038-5527-4e2a-f51f-56f6f9bbc1f8"
      },
      "outputs": [
        {
          "output_type": "stream",
          "name": "stdout",
          "text": [
            "{'edad': 18.5, 'python_level': 1, (6.210587535457488, -75.57099775407882): 'Parque del Poblado'}\n"
          ]
        }
      ],
      "source": [
        "dic_final = {**copia_b, **a_concatenar}\n",
        "print(dic_final)"
      ]
    },
    {
      "cell_type": "markdown",
      "source": [
        "## **POPITEM**"
      ],
      "metadata": {
        "id": "3tifB2kGPqjb"
      }
    },
    {
      "cell_type": "code",
      "source": [
        "dic_final"
      ],
      "metadata": {
        "colab": {
          "base_uri": "https://localhost:8080/"
        },
        "id": "bueUNP_SUggU",
        "outputId": "2bf8b520-ab4c-4e3c-9c5d-618380cb8aae"
      },
      "execution_count": 27,
      "outputs": [
        {
          "output_type": "execute_result",
          "data": {
            "text/plain": [
              "{'edad': 18.5,\n",
              " 'python_level': 1,\n",
              " (6.210587535457488, -75.57099775407882): 'Parque del Poblado'}"
            ]
          },
          "metadata": {},
          "execution_count": 27
        }
      ]
    },
    {
      "cell_type": "code",
      "source": [
        "dic_final.keys()"
      ],
      "metadata": {
        "colab": {
          "base_uri": "https://localhost:8080/"
        },
        "id": "dVQ8ccoIUnpb",
        "outputId": "61512974-8d8a-4325-8497-03441923e999"
      },
      "execution_count": 28,
      "outputs": [
        {
          "output_type": "execute_result",
          "data": {
            "text/plain": [
              "dict_keys(['edad', 'python_level', (6.210587535457488, -75.57099775407882)])"
            ]
          },
          "metadata": {},
          "execution_count": 28
        }
      ]
    },
    {
      "cell_type": "code",
      "source": [
        "llave, valor = dic_final.popitem()\n",
        "print(\"llave eliminada \", llave, \"valor_eliminado de la llave\", valor)"
      ],
      "metadata": {
        "colab": {
          "base_uri": "https://localhost:8080/"
        },
        "id": "b2LQQ8m-U5F8",
        "outputId": "35c357e2-22e4-47bf-dcde-46b7744e6917"
      },
      "execution_count": 29,
      "outputs": [
        {
          "output_type": "stream",
          "name": "stdout",
          "text": [
            "llave eliminada  (6.210587535457488, -75.57099775407882) valor_eliminado de la llave Parque del Poblado\n"
          ]
        }
      ]
    },
    {
      "cell_type": "code",
      "source": [
        "dic_final"
      ],
      "metadata": {
        "colab": {
          "base_uri": "https://localhost:8080/"
        },
        "id": "s1HQoS9YVLld",
        "outputId": "4f957152-7bbd-49bd-d37c-dfbbeaf5a1c4"
      },
      "execution_count": 30,
      "outputs": [
        {
          "output_type": "execute_result",
          "data": {
            "text/plain": [
              "{'edad': 18.5, 'python_level': 1}"
            ]
          },
          "metadata": {},
          "execution_count": 30
        }
      ]
    },
    {
      "cell_type": "markdown",
      "source": [
        "## **CLEAR**"
      ],
      "metadata": {
        "id": "sbA736lhPupA"
      }
    },
    {
      "cell_type": "code",
      "source": [
        "print(\"antes\")\n",
        "dic_final"
      ],
      "metadata": {
        "colab": {
          "base_uri": "https://localhost:8080/"
        },
        "id": "rT0E-b-dVVSD",
        "outputId": "222d7c07-b461-4e67-a828-e9c711491d44"
      },
      "execution_count": 31,
      "outputs": [
        {
          "output_type": "stream",
          "name": "stdout",
          "text": [
            "antes\n"
          ]
        },
        {
          "output_type": "execute_result",
          "data": {
            "text/plain": [
              "{'edad': 18.5, 'python_level': 1}"
            ]
          },
          "metadata": {},
          "execution_count": 31
        }
      ]
    },
    {
      "cell_type": "code",
      "source": [
        "dic_final.clear()"
      ],
      "metadata": {
        "id": "OqdSWiTRVVNt"
      },
      "execution_count": 32,
      "outputs": []
    },
    {
      "cell_type": "code",
      "source": [
        "print(\"después\")\n",
        "dic_final"
      ],
      "metadata": {
        "colab": {
          "base_uri": "https://localhost:8080/"
        },
        "id": "VNPKggaqVZy5",
        "outputId": "ce580a67-fcdd-433e-a8ed-fc2d53b74d86"
      },
      "execution_count": 33,
      "outputs": [
        {
          "output_type": "stream",
          "name": "stdout",
          "text": [
            "después\n"
          ]
        },
        {
          "output_type": "execute_result",
          "data": {
            "text/plain": [
              "{}"
            ]
          },
          "metadata": {},
          "execution_count": 33
        }
      ]
    },
    {
      "cell_type": "markdown",
      "source": [
        "## **NIVELES**\n",
        "\n",
        "Truco: cuando el valor de una llave es otro diccionario"
      ],
      "metadata": {
        "id": "6CUZIXaZVohM"
      }
    },
    {
      "cell_type": "code",
      "source": [
        "turismo:dict = {}"
      ],
      "metadata": {
        "id": "34r-HA28Vnr4"
      },
      "execution_count": 34,
      "outputs": []
    },
    {
      "cell_type": "code",
      "source": [
        "turismo[\"050001\"] = 1"
      ],
      "metadata": {
        "id": "uN1xWA0fV8KD"
      },
      "execution_count": 35,
      "outputs": []
    },
    {
      "cell_type": "code",
      "source": [
        "turismo"
      ],
      "metadata": {
        "colab": {
          "base_uri": "https://localhost:8080/"
        },
        "id": "en0uc-KzWbYK",
        "outputId": "38feeff8-99e5-49fb-d98d-c262e9bce4bb"
      },
      "execution_count": 36,
      "outputs": [
        {
          "output_type": "execute_result",
          "data": {
            "text/plain": [
              "{'050001': 1}"
            ]
          },
          "metadata": {},
          "execution_count": 36
        }
      ]
    },
    {
      "cell_type": "code",
      "source": [
        "\n",
        "turismo[\"050001\"] = {\n",
        "    \"nombre_departamento\": \"ANTIOQUIA\",\n",
        "    \"nombre_municipio\": \"MEDELLÍN\",\n",
        "    \"codigo_departamento\": \"05\",\n",
        "    \"codigo_municipio\": \"001\"\n",
        "}"
      ],
      "metadata": {
        "id": "ZHocAuXOWd6Z"
      },
      "execution_count": 37,
      "outputs": []
    },
    {
      "cell_type": "code",
      "source": [
        "# no aprender, ignorar\n",
        "import pprint"
      ],
      "metadata": {
        "id": "LOBJnS5yXKy0"
      },
      "execution_count": 38,
      "outputs": []
    },
    {
      "cell_type": "code",
      "source": [
        "pprint.pprint(turismo)"
      ],
      "metadata": {
        "colab": {
          "base_uri": "https://localhost:8080/"
        },
        "id": "ZIUdMwG6XBx3",
        "outputId": "43ddd53d-679a-4899-bff2-9f506d5f5f73"
      },
      "execution_count": 39,
      "outputs": [
        {
          "output_type": "stream",
          "name": "stdout",
          "text": [
            "{'050001': {'codigo_departamento': '05',\n",
            "            'codigo_municipio': '001',\n",
            "            'nombre_departamento': 'ANTIOQUIA',\n",
            "            'nombre_municipio': 'MEDELLÍN'}}\n"
          ]
        }
      ]
    },
    {
      "cell_type": "code",
      "source": [
        "# llamado al segundo nivel #1\n",
        "print(turismo['050001'], type(turismo['050001']))"
      ],
      "metadata": {
        "colab": {
          "base_uri": "https://localhost:8080/"
        },
        "id": "OLF76f94XX2E",
        "outputId": "31f01da0-8282-45f5-9e1f-a8d7133c7345"
      },
      "execution_count": 40,
      "outputs": [
        {
          "output_type": "stream",
          "name": "stdout",
          "text": [
            "{'nombre_departamento': 'ANTIOQUIA', 'nombre_municipio': 'MEDELLÍN', 'codigo_departamento': '05', 'codigo_municipio': '001'} <class 'dict'>\n"
          ]
        }
      ]
    },
    {
      "cell_type": "code",
      "source": [
        "# llamado al segundo nivel #2 | concatenando\n",
        "print(turismo['050001']['nombre_municipio'])"
      ],
      "metadata": {
        "colab": {
          "base_uri": "https://localhost:8080/"
        },
        "id": "rFaHDA8aYHf_",
        "outputId": "b21571dc-143d-40e7-8dec-2046c4beade2"
      },
      "execution_count": 41,
      "outputs": [
        {
          "output_type": "stream",
          "name": "stdout",
          "text": [
            "MEDELLÍN\n"
          ]
        }
      ]
    },
    {
      "cell_type": "code",
      "source": [
        "pprint.pprint(turismo)"
      ],
      "metadata": {
        "colab": {
          "base_uri": "https://localhost:8080/"
        },
        "id": "ple9ZKhlYrEE",
        "outputId": "af85e2f4-f60f-4ac2-fcaf-c311ed06602b"
      },
      "execution_count": 42,
      "outputs": [
        {
          "output_type": "stream",
          "name": "stdout",
          "text": [
            "{'050001': {'codigo_departamento': '05',\n",
            "            'codigo_municipio': '001',\n",
            "            'nombre_departamento': 'ANTIOQUIA',\n",
            "            'nombre_municipio': 'MEDELLÍN'}}\n"
          ]
        }
      ]
    },
    {
      "cell_type": "code",
      "source": [
        "# agregando un tercer nivel\n",
        "turismo['050001']['sitios_turisticos'] = {\n",
        "    \"parque_del_poblado\": (6.210587535457488, -75.57099775407882)\n",
        "}"
      ],
      "metadata": {
        "id": "uHPewBUcYuLE"
      },
      "execution_count": 43,
      "outputs": []
    },
    {
      "cell_type": "code",
      "source": [
        "pprint.pprint(turismo)"
      ],
      "metadata": {
        "colab": {
          "base_uri": "https://localhost:8080/"
        },
        "id": "WYqHwYzsZJLC",
        "outputId": "f106b3a1-3b8c-4067-b8b8-8d251837e572"
      },
      "execution_count": 44,
      "outputs": [
        {
          "output_type": "stream",
          "name": "stdout",
          "text": [
            "{'050001': {'codigo_departamento': '05',\n",
            "            'codigo_municipio': '001',\n",
            "            'nombre_departamento': 'ANTIOQUIA',\n",
            "            'nombre_municipio': 'MEDELLÍN',\n",
            "            'sitios_turisticos': {'parque_del_poblado': (6.210587535457488,\n",
            "                                                         -75.57099775407882)}}}\n"
          ]
        }
      ]
    },
    {
      "cell_type": "code",
      "source": [
        "print(turismo['050001']['sitios_turisticos'][\"parque_del_poblado\"])"
      ],
      "metadata": {
        "colab": {
          "base_uri": "https://localhost:8080/"
        },
        "id": "rctM4vN0ZiMc",
        "outputId": "9bbe3504-bd83-4b2c-aefc-ca3a3fc213f8"
      },
      "execution_count": 45,
      "outputs": [
        {
          "output_type": "stream",
          "name": "stdout",
          "text": [
            "(6.210587535457488, -75.57099775407882)\n"
          ]
        }
      ]
    },
    {
      "cell_type": "code",
      "source": [
        "turismo['050002'] = {\n",
        "    \"nombre_municipio\": \"desconocido\"\n",
        "}\n",
        "pprint.pprint(turismo)"
      ],
      "metadata": {
        "colab": {
          "base_uri": "https://localhost:8080/"
        },
        "id": "gSYBhz-sapwZ",
        "outputId": "60772262-7d11-457e-bbba-774c8b21176f"
      },
      "execution_count": 46,
      "outputs": [
        {
          "output_type": "stream",
          "name": "stdout",
          "text": [
            "{'050001': {'codigo_departamento': '05',\n",
            "            'codigo_municipio': '001',\n",
            "            'nombre_departamento': 'ANTIOQUIA',\n",
            "            'nombre_municipio': 'MEDELLÍN',\n",
            "            'sitios_turisticos': {'parque_del_poblado': (6.210587535457488,\n",
            "                                                         -75.57099775407882)}},\n",
            " '050002': {'nombre_municipio': 'desconocido'}}\n"
          ]
        }
      ]
    },
    {
      "cell_type": "code",
      "source": [
        "turismo[\"050001\"][\"sitios_turisticos\"][\"actividades\"] = {\n",
        "    \"actividad_principal\": \"beber\",\n",
        "    'otras_actividades': ['discotecas', 'bares', 'restaurantes']\n",
        "}"
      ],
      "metadata": {
        "id": "repYfzppcHXL"
      },
      "execution_count": 47,
      "outputs": []
    },
    {
      "cell_type": "code",
      "source": [
        "pprint.pprint(turismo)"
      ],
      "metadata": {
        "colab": {
          "base_uri": "https://localhost:8080/"
        },
        "id": "wpBLU2-OdIx0",
        "outputId": "138d7165-8749-4ebd-8649-459d638bf582"
      },
      "execution_count": 48,
      "outputs": [
        {
          "output_type": "stream",
          "name": "stdout",
          "text": [
            "{'050001': {'codigo_departamento': '05',\n",
            "            'codigo_municipio': '001',\n",
            "            'nombre_departamento': 'ANTIOQUIA',\n",
            "            'nombre_municipio': 'MEDELLÍN',\n",
            "            'sitios_turisticos': {'actividades': {'actividad_principal': 'beber',\n",
            "                                                  'otras_actividades': ['discotecas',\n",
            "                                                                        'bares',\n",
            "                                                                        'restaurantes']},\n",
            "                                  'parque_del_poblado': (6.210587535457488,\n",
            "                                                         -75.57099775407882)}},\n",
            " '050002': {'nombre_municipio': 'desconocido'}}\n"
          ]
        }
      ]
    },
    {
      "cell_type": "code",
      "source": [
        "print(turismo[\"050001\"][\"sitios_turisticos\"][\"actividades\"][\"otras_actividades\"])"
      ],
      "metadata": {
        "colab": {
          "base_uri": "https://localhost:8080/"
        },
        "id": "PxeV8KxcdQ5a",
        "outputId": "f523ce3d-7650-4729-b6a2-fa9bc2aba6f0"
      },
      "execution_count": 49,
      "outputs": [
        {
          "output_type": "stream",
          "name": "stdout",
          "text": [
            "['discotecas', 'bares', 'restaurantes']\n"
          ]
        }
      ]
    },
    {
      "cell_type": "code",
      "source": [
        "listas = [turismo]"
      ],
      "metadata": {
        "id": "G8yVzQ7cddyQ"
      },
      "execution_count": 50,
      "outputs": []
    },
    {
      "cell_type": "code",
      "source": [
        "print(len(listas))\n",
        "pprint.pprint(listas)"
      ],
      "metadata": {
        "colab": {
          "base_uri": "https://localhost:8080/"
        },
        "id": "q1MYMyJbdiZg",
        "outputId": "98bfea7c-94f1-4cde-9d27-8dac7526eb37"
      },
      "execution_count": 51,
      "outputs": [
        {
          "output_type": "stream",
          "name": "stdout",
          "text": [
            "1\n",
            "[{'050001': {'codigo_departamento': '05',\n",
            "             'codigo_municipio': '001',\n",
            "             'nombre_departamento': 'ANTIOQUIA',\n",
            "             'nombre_municipio': 'MEDELLÍN',\n",
            "             'sitios_turisticos': {'actividades': {'actividad_principal': 'beber',\n",
            "                                                   'otras_actividades': ['discotecas',\n",
            "                                                                         'bares',\n",
            "                                                                         'restaurantes']},\n",
            "                                   'parque_del_poblado': (6.210587535457488,\n",
            "                                                          -75.57099775407882)}},\n",
            "  '050002': {'nombre_municipio': 'desconocido'}}]\n"
          ]
        }
      ]
    },
    {
      "cell_type": "code",
      "source": [
        "print(listas[\"050001\"][\"sitios_turisticos\"][\"actividades\"][\"otras_actividades\"])"
      ],
      "metadata": {
        "colab": {
          "base_uri": "https://localhost:8080/",
          "height": 176
        },
        "id": "pHq478b8dtfp",
        "outputId": "a3c3562a-ddff-4d87-8c06-a0dc40107fbf"
      },
      "execution_count": 52,
      "outputs": [
        {
          "output_type": "error",
          "ename": "TypeError",
          "evalue": "ignored",
          "traceback": [
            "\u001b[0;31m---------------------------------------------------------------------------\u001b[0m",
            "\u001b[0;31mTypeError\u001b[0m                                 Traceback (most recent call last)",
            "\u001b[0;32m<ipython-input-52-075575104364>\u001b[0m in \u001b[0;36m<cell line: 1>\u001b[0;34m()\u001b[0m\n\u001b[0;32m----> 1\u001b[0;31m \u001b[0mprint\u001b[0m\u001b[0;34m(\u001b[0m\u001b[0mlistas\u001b[0m\u001b[0;34m[\u001b[0m\u001b[0;34m\"050001\"\u001b[0m\u001b[0;34m]\u001b[0m\u001b[0;34m[\u001b[0m\u001b[0;34m\"sitios_turisticos\"\u001b[0m\u001b[0;34m]\u001b[0m\u001b[0;34m[\u001b[0m\u001b[0;34m\"actividades\"\u001b[0m\u001b[0;34m]\u001b[0m\u001b[0;34m[\u001b[0m\u001b[0;34m\"otras_actividades\"\u001b[0m\u001b[0;34m]\u001b[0m\u001b[0;34m)\u001b[0m\u001b[0;34m\u001b[0m\u001b[0;34m\u001b[0m\u001b[0m\n\u001b[0m",
            "\u001b[0;31mTypeError\u001b[0m: list indices must be integers or slices, not str"
          ]
        }
      ]
    },
    {
      "cell_type": "code",
      "source": [
        "print(listas[0][\"050001\"][\"sitios_turisticos\"][\"actividades\"][\"otras_actividades\"])"
      ],
      "metadata": {
        "colab": {
          "base_uri": "https://localhost:8080/"
        },
        "id": "EV70e-zuemYc",
        "outputId": "c5c3b99b-3ac0-470f-8c38-0f5f55f798dc"
      },
      "execution_count": 53,
      "outputs": [
        {
          "output_type": "stream",
          "name": "stdout",
          "text": [
            "['discotecas', 'bares', 'restaurantes']\n"
          ]
        }
      ]
    },
    {
      "cell_type": "code",
      "source": [
        "listas.append({1: \"ejemplo primer nivel\"})"
      ],
      "metadata": {
        "id": "iAIsXt6het8K"
      },
      "execution_count": 54,
      "outputs": []
    },
    {
      "cell_type": "code",
      "source": [
        "print(len(listas))\n",
        "pprint.pprint(listas)"
      ],
      "metadata": {
        "colab": {
          "base_uri": "https://localhost:8080/"
        },
        "id": "uaP96HyRe2RG",
        "outputId": "09433f5e-133b-40a7-b2a0-c0ed6c048854"
      },
      "execution_count": 55,
      "outputs": [
        {
          "output_type": "stream",
          "name": "stdout",
          "text": [
            "2\n",
            "[{'050001': {'codigo_departamento': '05',\n",
            "             'codigo_municipio': '001',\n",
            "             'nombre_departamento': 'ANTIOQUIA',\n",
            "             'nombre_municipio': 'MEDELLÍN',\n",
            "             'sitios_turisticos': {'actividades': {'actividad_principal': 'beber',\n",
            "                                                   'otras_actividades': ['discotecas',\n",
            "                                                                         'bares',\n",
            "                                                                         'restaurantes']},\n",
            "                                   'parque_del_poblado': (6.210587535457488,\n",
            "                                                          -75.57099775407882)}},\n",
            "  '050002': {'nombre_municipio': 'desconocido'}},\n",
            " {1: 'ejemplo primer nivel'}]\n"
          ]
        }
      ]
    },
    {
      "cell_type": "code",
      "source": [
        "turismo[\"050001\"][\"sitios_turisticos\"][\"parque_del_poblado\"] =  {1: 'ejemplo primer nivel'}"
      ],
      "metadata": {
        "id": "BiWN4m-MfspP"
      },
      "execution_count": 56,
      "outputs": []
    },
    {
      "cell_type": "code",
      "source": [
        "pprint.pprint(listas)"
      ],
      "metadata": {
        "id": "lBQHIbDpf6Rf"
      },
      "execution_count": null,
      "outputs": []
    },
    {
      "cell_type": "markdown",
      "source": [
        "## **EJEMPLO**"
      ],
      "metadata": {
        "id": "NWICfU0ejy5Z"
      }
    },
    {
      "cell_type": "code",
      "source": [
        "\"\"\"\n",
        "cedula\n",
        "  datos personales:\n",
        "    nombres\n",
        "    apellidos\n",
        "    estado civil\n",
        "    fecha nacimiento\n",
        "    genero\n",
        "    tipo sangre\n",
        "      rh\n",
        "      grupo_sanguineo\n",
        "\n",
        "\n",
        "  datos de contacto\n",
        "    telefono\n",
        "    email\n",
        "    fax\n",
        "    celuar\n",
        "    fijo\n",
        "    direcciones\n",
        "      [\n",
        "        direccion\n",
        "        estado:\n",
        "      ]\n",
        "\n",
        "\"\"\"\n",
        "\n",
        "usuaros: dict = {}"
      ],
      "metadata": {
        "id": "UB_5lVFCiSuj"
      },
      "execution_count": 57,
      "outputs": []
    },
    {
      "cell_type": "markdown",
      "source": [
        "## **DESAGREGADO**"
      ],
      "metadata": {
        "id": "dJaKQ7Zvj1nm"
      }
    },
    {
      "cell_type": "code",
      "source": [
        "\"\"\"\n",
        "datos personales:\n",
        "    nombres\n",
        "    apellidos\n",
        "    estado civil\n",
        "    fecha nacimiento\n",
        "    genero\n",
        "    tipo sangre\n",
        "      rh\n",
        "      grupo_sanguineo\n",
        "\"\"\"\n",
        "datos_per: dict = {}\n",
        "datos_per = {\n",
        "    \"nombre\": \"pepito\",\n",
        "    \"apellidos\": \"perez\",\n",
        "    \"estado_civil\": \"solteros\",\n",
        "    \"fecha_nacimiento\": \"01/01/2000\",\n",
        "    \"genero\": \"masculino\",\n",
        "    \"tipo_sangre\": {\n",
        "      \"rh\": \"+\",\n",
        "      \"grupo_sanguineo\": \"AB\"\n",
        "    }\n",
        "}\n",
        "\n",
        "pprint.pprint(datos_per)"
      ],
      "metadata": {
        "colab": {
          "base_uri": "https://localhost:8080/"
        },
        "id": "yvRHKa5kjtEZ",
        "outputId": "c656430e-c23b-43bb-916f-3ffb82048245"
      },
      "execution_count": 58,
      "outputs": [
        {
          "output_type": "stream",
          "name": "stdout",
          "text": [
            "{'apellidos': 'perez',\n",
            " 'estado_civil': 'solteros',\n",
            " 'fecha_nacimiento': '01/01/2000',\n",
            " 'genero': 'masculino',\n",
            " 'nombre': 'pepito',\n",
            " 'tipo_sangre': {'grupo_sanguineo': 'AB', 'rh': '+'}}\n"
          ]
        }
      ]
    },
    {
      "cell_type": "code",
      "source": [
        "\"\"\"\n",
        "  datos de contacto\n",
        "    telefono\n",
        "    email\n",
        "    fax\n",
        "    celular\n",
        "    fijo\n",
        "    direcciones\n",
        "      [\n",
        "        direccion\n",
        "        estado:\n",
        "      ]\n",
        "\n",
        "\"\"\"\n",
        "datos_contacto: dict = {}"
      ],
      "metadata": {
        "id": "luXpFCfCk6sj"
      },
      "execution_count": 59,
      "outputs": []
    },
    {
      "cell_type": "code",
      "source": [
        "datos_contacto = {\n",
        "    \"telefono\": \"4444444\",\n",
        "    \"email\": \"demo@demo.com\",\n",
        "    \"fax\": None,\n",
        "    \"celular\": \"3000000000\",\n",
        "    \"fijo\": None,\n",
        "    \"direcciones\": (\n",
        "        {\n",
        "            \"direccion\": \"parque del poblado\",\n",
        "            \"estado\": \"activa\"\n",
        "        },\n",
        "        {\n",
        "            \"direccion\": \"el parque del periodista\",\n",
        "            \"estado\": \"inactiva\"\n",
        "        },\n",
        "    )\n",
        "}"
      ],
      "metadata": {
        "id": "T5Tc2J3UlEEB"
      },
      "execution_count": 60,
      "outputs": []
    },
    {
      "cell_type": "code",
      "source": [
        "pprint.pprint(datos_contacto)"
      ],
      "metadata": {
        "colab": {
          "base_uri": "https://localhost:8080/"
        },
        "id": "EKDTp4N4mAay",
        "outputId": "3056d039-c253-4e98-8e9f-c139c85d6b9b"
      },
      "execution_count": 61,
      "outputs": [
        {
          "output_type": "stream",
          "name": "stdout",
          "text": [
            "{'celular': '3000000000',\n",
            " 'direcciones': ({'direccion': 'parque del poblado', 'estado': 'activa'},\n",
            "                 {'direccion': 'el parque del periodista',\n",
            "                  'estado': 'inactiva'}),\n",
            " 'email': 'demo@demo.com',\n",
            " 'fax': None,\n",
            " 'fijo': None,\n",
            " 'telefono': '4444444'}\n"
          ]
        }
      ]
    },
    {
      "cell_type": "code",
      "source": [
        "print(datos_contacto[\"datos_contacto\"]['direcciones'])\n",
        "print(datos_contacto[\"datos_contacto\"]['direcciones'][0][\"estado\"])"
      ],
      "metadata": {
        "colab": {
          "base_uri": "https://localhost:8080/",
          "height": 193
        },
        "id": "geAkpd6HmX4x",
        "outputId": "c0f805aa-554c-4a05-e7fd-ee4afb581923"
      },
      "execution_count": 62,
      "outputs": [
        {
          "output_type": "error",
          "ename": "KeyError",
          "evalue": "ignored",
          "traceback": [
            "\u001b[0;31m---------------------------------------------------------------------------\u001b[0m",
            "\u001b[0;31mKeyError\u001b[0m                                  Traceback (most recent call last)",
            "\u001b[0;32m<ipython-input-62-7c87d7d38f64>\u001b[0m in \u001b[0;36m<cell line: 1>\u001b[0;34m()\u001b[0m\n\u001b[0;32m----> 1\u001b[0;31m \u001b[0mprint\u001b[0m\u001b[0;34m(\u001b[0m\u001b[0mdatos_contacto\u001b[0m\u001b[0;34m[\u001b[0m\u001b[0;34m\"datos_contacto\"\u001b[0m\u001b[0;34m]\u001b[0m\u001b[0;34m[\u001b[0m\u001b[0;34m'direcciones'\u001b[0m\u001b[0;34m]\u001b[0m\u001b[0;34m)\u001b[0m\u001b[0;34m\u001b[0m\u001b[0;34m\u001b[0m\u001b[0m\n\u001b[0m\u001b[1;32m      2\u001b[0m \u001b[0mprint\u001b[0m\u001b[0;34m(\u001b[0m\u001b[0mdatos_contacto\u001b[0m\u001b[0;34m[\u001b[0m\u001b[0;34m\"datos_contacto\"\u001b[0m\u001b[0;34m]\u001b[0m\u001b[0;34m[\u001b[0m\u001b[0;34m'direcciones'\u001b[0m\u001b[0;34m]\u001b[0m\u001b[0;34m[\u001b[0m\u001b[0;36m0\u001b[0m\u001b[0;34m]\u001b[0m\u001b[0;34m[\u001b[0m\u001b[0;34m\"estado\"\u001b[0m\u001b[0;34m]\u001b[0m\u001b[0;34m)\u001b[0m\u001b[0;34m\u001b[0m\u001b[0;34m\u001b[0m\u001b[0m\n",
            "\u001b[0;31mKeyError\u001b[0m: 'datos_contacto'"
          ]
        }
      ]
    },
    {
      "cell_type": "code",
      "source": [
        "print(datos_contacto[\"datos_contacto\"]['direcciones'][0].keys())"
      ],
      "metadata": {
        "colab": {
          "base_uri": "https://localhost:8080/",
          "height": 176
        },
        "id": "L6zPf63MmxmZ",
        "outputId": "0fdb67a0-491b-4060-f59f-a334171d890b"
      },
      "execution_count": 63,
      "outputs": [
        {
          "output_type": "error",
          "ename": "KeyError",
          "evalue": "ignored",
          "traceback": [
            "\u001b[0;31m---------------------------------------------------------------------------\u001b[0m",
            "\u001b[0;31mKeyError\u001b[0m                                  Traceback (most recent call last)",
            "\u001b[0;32m<ipython-input-63-5fd98853babf>\u001b[0m in \u001b[0;36m<cell line: 1>\u001b[0;34m()\u001b[0m\n\u001b[0;32m----> 1\u001b[0;31m \u001b[0mprint\u001b[0m\u001b[0;34m(\u001b[0m\u001b[0mdatos_contacto\u001b[0m\u001b[0;34m[\u001b[0m\u001b[0;34m\"datos_contacto\"\u001b[0m\u001b[0;34m]\u001b[0m\u001b[0;34m[\u001b[0m\u001b[0;34m'direcciones'\u001b[0m\u001b[0;34m]\u001b[0m\u001b[0;34m[\u001b[0m\u001b[0;36m0\u001b[0m\u001b[0;34m]\u001b[0m\u001b[0;34m.\u001b[0m\u001b[0mkeys\u001b[0m\u001b[0;34m(\u001b[0m\u001b[0;34m)\u001b[0m\u001b[0;34m)\u001b[0m\u001b[0;34m\u001b[0m\u001b[0;34m\u001b[0m\u001b[0m\n\u001b[0m",
            "\u001b[0;31mKeyError\u001b[0m: 'datos_contacto'"
          ]
        }
      ]
    },
    {
      "cell_type": "code",
      "source": [
        "final: dict = {}\n",
        "final[\"9999\"] = {\n",
        "  \"datos_personales\": datos_per,\n",
        "  \"datos_contacto\": datos_contacto\n",
        "}"
      ],
      "metadata": {
        "id": "3N2bBJngnKw_"
      },
      "execution_count": 65,
      "outputs": []
    },
    {
      "cell_type": "code",
      "source": [
        "\"\"\"\n",
        "cedula\n",
        "  datos personales:\n",
        "    nombres\n",
        "    apellidos\n",
        "    estado civil\n",
        "    fecha nacimiento\n",
        "    genero\n",
        "    tipo sangre\n",
        "      rh\n",
        "      grupo_sanguineo\n",
        "\n",
        "\n",
        "  datos de contacto\n",
        "    telefono\n",
        "    email\n",
        "    fax\n",
        "    celular\n",
        "    fijo\n",
        "    direcciones\n",
        "      [\n",
        "        direccion\n",
        "        estado:\n",
        "      ]\n",
        "\n",
        "\"\"\"\n",
        "\n",
        "pprint.pprint(final)"
      ],
      "metadata": {
        "colab": {
          "base_uri": "https://localhost:8080/"
        },
        "id": "xOXDg9Kyncxz",
        "outputId": "57e7c431-8491-4a27-d0fc-3da99a147e9c"
      },
      "execution_count": 66,
      "outputs": [
        {
          "output_type": "stream",
          "name": "stdout",
          "text": [
            "{'9999': {'datos_contacto': {'celular': '3000000000',\n",
            "                             'direcciones': ({'direccion': 'parque del poblado',\n",
            "                                              'estado': 'activa'},\n",
            "                                             {'direccion': 'el parque del '\n",
            "                                                           'periodista',\n",
            "                                              'estado': 'inactiva'}),\n",
            "                             'email': 'demo@demo.com',\n",
            "                             'fax': None,\n",
            "                             'fijo': None,\n",
            "                             'telefono': '4444444'},\n",
            "          'datos_personales': {'apellidos': 'perez',\n",
            "                               'estado_civil': 'solteros',\n",
            "                               'fecha_nacimiento': '01/01/2000',\n",
            "                               'genero': 'masculino',\n",
            "                               'nombre': 'pepito',\n",
            "                               'tipo_sangre': {'grupo_sanguineo': 'AB',\n",
            "                                               'rh': '+'}}}}\n"
          ]
        }
      ]
    },
    {
      "cell_type": "code",
      "source": [
        "final_alternativo = {}"
      ],
      "metadata": {
        "id": "2lOz32F_qvHt"
      },
      "execution_count": 67,
      "outputs": []
    },
    {
      "cell_type": "code",
      "source": [
        "final_alternativo[\"9999\"] = {\n",
        "  \"datos_personales\": {\n",
        "    \"telefono\": \"4444444\",\n",
        "    \"email\": \"demo@demo.com\",\n",
        "    \"fax\": None,\n",
        "    \"celular\": \"3000000000\",\n",
        "    \"fijo\": None,\n",
        "    \"direcciones\": (\n",
        "        {\n",
        "            \"direccion\": \"parque del poblado\",\n",
        "            \"estado\": \"activa\"\n",
        "        },\n",
        "        {\n",
        "            \"direccion\": \"el parque del periodista\",\n",
        "            \"estado\": \"inactiva\"\n",
        "        },\n",
        "    )\n",
        "  },\n",
        "  \"datos_contacto\": {\n",
        "    \"telefono\": \"4444444\",\n",
        "    \"email\": \"demo@demo.com\",\n",
        "    \"fax\": None,\n",
        "    \"celular\": \"3000000000\",\n",
        "    \"fijo\": None,\n",
        "    \"direcciones\": (\n",
        "        {\n",
        "            \"direccion\": \"parque del poblado\",\n",
        "            \"estado\": \"activa\"\n",
        "        },\n",
        "        {\n",
        "            \"direccion\": \"el parque del periodista\",\n",
        "            \"estado\": \"inactiva\"\n",
        "        },\n",
        "    )\n",
        "  }\n",
        "}"
      ],
      "metadata": {
        "id": "BGS0PwbvqzZd"
      },
      "execution_count": 68,
      "outputs": []
    },
    {
      "cell_type": "code",
      "source": [
        "\"\"\"\n",
        "1111 - info\n",
        "2222 - info\n",
        "3333 - info\n",
        "4444 - info\n",
        "\"\"\""
      ],
      "metadata": {
        "id": "0yqpcoyzrj4O",
        "colab": {
          "base_uri": "https://localhost:8080/",
          "height": 35
        },
        "outputId": "0af57dca-f3dd-45da-da29-ceb45b66703a"
      },
      "execution_count": 69,
      "outputs": [
        {
          "output_type": "execute_result",
          "data": {
            "text/plain": [
              "'\\n1111 - info\\n2222 - info\\n3333 - info\\n4444 - info\\n'"
            ],
            "application/vnd.google.colaboratory.intrinsic+json": {
              "type": "string"
            }
          },
          "metadata": {},
          "execution_count": 69
        }
      ]
    }
  ],
  "metadata": {
    "colab": {
      "provenance": [],
      "toc_visible": true
    },
    "kernelspec": {
      "display_name": "Python 3",
      "name": "python3"
    },
    "language_info": {
      "codemirror_mode": {
        "name": "ipython",
        "version": 3
      },
      "file_extension": ".py",
      "mimetype": "text/x-python",
      "name": "python",
      "nbconvert_exporter": "python",
      "pygments_lexer": "ipython3",
      "version": "3.10.7"
    }
  },
  "nbformat": 4,
  "nbformat_minor": 0
}