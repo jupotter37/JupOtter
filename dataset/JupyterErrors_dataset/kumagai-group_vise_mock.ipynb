{
 "cells": [
  {
   "cell_type": "code",
   "execution_count": 1,
   "metadata": {
    "collapsed": true,
    "pycharm": {
     "is_executing": false
    }
   },
   "outputs": [],
   "source": [
    "from unittest.mock import patch\n",
    "\n",
    "class ProductionClass:\n",
    "    def method(self, a, b, c, d):\n",
    "        pass\n",
    "\n",
    "with patch.object(target=ProductionClass, \n",
    "                  attribute='method', \n",
    "                  return_value=None) as mock_method:\n",
    "    thing = ProductionClass()\n",
    "    thing.method(1, 2, 3)\n",
    "\n",
    "mock_method.assert_called_once_with(1, 2, 3)\n"
   ]
  },
  {
   "cell_type": "code",
   "execution_count": 2,
   "outputs": [],
   "source": [
    "from unittest.mock import patch\n",
    "\n",
    "foo = {'key': 'value'}\n",
    "original = foo.copy()\n",
    "with patch.dict(foo, {'newkey': 'newvalue'}, clear=True):\n",
    "    assert foo == {'newkey': 'newvalue'}\n",
    "\n",
    "assert foo == original\n"
   ],
   "metadata": {
    "collapsed": false,
    "pycharm": {
     "name": "#%%\n",
     "is_executing": false
    }
   }
  },
  {
   "cell_type": "code",
   "execution_count": 3,
   "outputs": [
    {
     "name": "stdout",
     "text": [
      "foobarbaz\n"
     ],
     "output_type": "stream"
    }
   ],
   "source": [
    "from unittest.mock import MagicMock\n",
    "\n",
    "mock = MagicMock()\n",
    "mock.__str__.return_value = 'foobarbaz'\n",
    "print(str(mock))\n",
    "\n",
    "mock.__str__.assert_called_with()\n",
    "\n"
   ],
   "metadata": {
    "collapsed": false,
    "pycharm": {
     "name": "#%%\n",
     "is_executing": false
    }
   }
  },
  {
   "cell_type": "code",
   "execution_count": 4,
   "outputs": [
    {
     "name": "stdout",
     "text": [
      "wheeeeee\n"
     ],
     "output_type": "stream"
    }
   ],
   "source": [
    "from unittest.mock import Mock\n",
    "mock = Mock()\n",
    "mock.__str__ = Mock(return_value='wheeeeee')\n",
    "print(str(mock))\n",
    "\n"
   ],
   "metadata": {
    "collapsed": false,
    "pycharm": {
     "name": "#%%\n",
     "is_executing": false
    }
   }
  },
  {
   "cell_type": "code",
   "execution_count": 5,
   "outputs": [
    {
     "traceback": [
      "\u001b[0;31m---------------------------------------------------------------------------\u001b[0m",
      "\u001b[0;31mTypeError\u001b[0m                                 Traceback (most recent call last)",
      "\u001b[0;32m<ipython-input-5-80956bbe51fb>\u001b[0m in \u001b[0;36m<module>\u001b[0;34m\u001b[0m\n\u001b[1;32m      7\u001b[0m \u001b[0;34m\u001b[0m\u001b[0m\n\u001b[1;32m      8\u001b[0m \u001b[0mmock_function\u001b[0m\u001b[0;34m.\u001b[0m\u001b[0massert_called_once_with\u001b[0m\u001b[0;34m(\u001b[0m\u001b[0;36m1\u001b[0m\u001b[0;34m,\u001b[0m \u001b[0;36m2\u001b[0m\u001b[0;34m,\u001b[0m \u001b[0;36m3\u001b[0m\u001b[0;34m)\u001b[0m\u001b[0;34m\u001b[0m\u001b[0;34m\u001b[0m\u001b[0m\n\u001b[0;32m----> 9\u001b[0;31m \u001b[0mmock_function\u001b[0m\u001b[0;34m(\u001b[0m\u001b[0;34m'wrong arguments'\u001b[0m\u001b[0;34m)\u001b[0m\u001b[0;34m\u001b[0m\u001b[0;34m\u001b[0m\u001b[0m\n\u001b[0m\u001b[1;32m     10\u001b[0m \u001b[0;34m\u001b[0m\u001b[0m\n\u001b[1;32m     11\u001b[0m \u001b[0;34m\u001b[0m\u001b[0m\n",
      "\u001b[0;32m<string>\u001b[0m in \u001b[0;36mfunction\u001b[0;34m(*args, **kwargs)\u001b[0m\n",
      "\u001b[0;32m/usr/local/Cellar/python/3.7.7/Frameworks/Python.framework/Versions/3.7/lib/python3.7/unittest/mock.py\u001b[0m in \u001b[0;36mchecksig\u001b[0;34m(*args, **kwargs)\u001b[0m\n\u001b[1;32m    173\u001b[0m     \u001b[0mfunc\u001b[0m\u001b[0;34m,\u001b[0m \u001b[0msig\u001b[0m \u001b[0;34m=\u001b[0m \u001b[0mresult\u001b[0m\u001b[0;34m\u001b[0m\u001b[0;34m\u001b[0m\u001b[0m\n\u001b[1;32m    174\u001b[0m     \u001b[0;32mdef\u001b[0m \u001b[0mchecksig\u001b[0m\u001b[0;34m(\u001b[0m\u001b[0;34m*\u001b[0m\u001b[0margs\u001b[0m\u001b[0;34m,\u001b[0m \u001b[0;34m**\u001b[0m\u001b[0mkwargs\u001b[0m\u001b[0;34m)\u001b[0m\u001b[0;34m:\u001b[0m\u001b[0;34m\u001b[0m\u001b[0;34m\u001b[0m\u001b[0m\n\u001b[0;32m--> 175\u001b[0;31m         \u001b[0msig\u001b[0m\u001b[0;34m.\u001b[0m\u001b[0mbind\u001b[0m\u001b[0;34m(\u001b[0m\u001b[0;34m*\u001b[0m\u001b[0margs\u001b[0m\u001b[0;34m,\u001b[0m \u001b[0;34m**\u001b[0m\u001b[0mkwargs\u001b[0m\u001b[0;34m)\u001b[0m\u001b[0;34m\u001b[0m\u001b[0;34m\u001b[0m\u001b[0m\n\u001b[0m\u001b[1;32m    176\u001b[0m     \u001b[0m_copy_func_details\u001b[0m\u001b[0;34m(\u001b[0m\u001b[0mfunc\u001b[0m\u001b[0;34m,\u001b[0m \u001b[0mchecksig\u001b[0m\u001b[0;34m)\u001b[0m\u001b[0;34m\u001b[0m\u001b[0;34m\u001b[0m\u001b[0m\n\u001b[1;32m    177\u001b[0m \u001b[0;34m\u001b[0m\u001b[0m\n",
      "\u001b[0;32m/usr/local/Cellar/python/3.7.7/Frameworks/Python.framework/Versions/3.7/lib/python3.7/inspect.py\u001b[0m in \u001b[0;36mbind\u001b[0;34m(*args, **kwargs)\u001b[0m\n\u001b[1;32m   3013\u001b[0m         \u001b[0;32mif\u001b[0m \u001b[0mthe\u001b[0m \u001b[0mpassed\u001b[0m \u001b[0marguments\u001b[0m \u001b[0mcan\u001b[0m \u001b[0;32mnot\u001b[0m \u001b[0mbe\u001b[0m \u001b[0mbound\u001b[0m\u001b[0;34m.\u001b[0m\u001b[0;34m\u001b[0m\u001b[0;34m\u001b[0m\u001b[0m\n\u001b[1;32m   3014\u001b[0m         \"\"\"\n\u001b[0;32m-> 3015\u001b[0;31m         \u001b[0;32mreturn\u001b[0m \u001b[0margs\u001b[0m\u001b[0;34m[\u001b[0m\u001b[0;36m0\u001b[0m\u001b[0;34m]\u001b[0m\u001b[0;34m.\u001b[0m\u001b[0m_bind\u001b[0m\u001b[0;34m(\u001b[0m\u001b[0margs\u001b[0m\u001b[0;34m[\u001b[0m\u001b[0;36m1\u001b[0m\u001b[0;34m:\u001b[0m\u001b[0;34m]\u001b[0m\u001b[0;34m,\u001b[0m \u001b[0mkwargs\u001b[0m\u001b[0;34m)\u001b[0m\u001b[0;34m\u001b[0m\u001b[0;34m\u001b[0m\u001b[0m\n\u001b[0m\u001b[1;32m   3016\u001b[0m \u001b[0;34m\u001b[0m\u001b[0m\n\u001b[1;32m   3017\u001b[0m     \u001b[0;32mdef\u001b[0m \u001b[0mbind_partial\u001b[0m\u001b[0;34m(\u001b[0m\u001b[0;34m*\u001b[0m\u001b[0margs\u001b[0m\u001b[0;34m,\u001b[0m \u001b[0;34m**\u001b[0m\u001b[0mkwargs\u001b[0m\u001b[0;34m)\u001b[0m\u001b[0;34m:\u001b[0m\u001b[0;34m\u001b[0m\u001b[0;34m\u001b[0m\u001b[0m\n",
      "\u001b[0;32m/usr/local/Cellar/python/3.7.7/Frameworks/Python.framework/Versions/3.7/lib/python3.7/inspect.py\u001b[0m in \u001b[0;36m_bind\u001b[0;34m(self, args, kwargs, partial)\u001b[0m\n\u001b[1;32m   2928\u001b[0m                             \u001b[0mmsg\u001b[0m \u001b[0;34m=\u001b[0m \u001b[0;34m'missing a required argument: {arg!r}'\u001b[0m\u001b[0;34m\u001b[0m\u001b[0;34m\u001b[0m\u001b[0m\n\u001b[1;32m   2929\u001b[0m                             \u001b[0mmsg\u001b[0m \u001b[0;34m=\u001b[0m \u001b[0mmsg\u001b[0m\u001b[0;34m.\u001b[0m\u001b[0mformat\u001b[0m\u001b[0;34m(\u001b[0m\u001b[0marg\u001b[0m\u001b[0;34m=\u001b[0m\u001b[0mparam\u001b[0m\u001b[0;34m.\u001b[0m\u001b[0mname\u001b[0m\u001b[0;34m)\u001b[0m\u001b[0;34m\u001b[0m\u001b[0;34m\u001b[0m\u001b[0m\n\u001b[0;32m-> 2930\u001b[0;31m                             \u001b[0;32mraise\u001b[0m \u001b[0mTypeError\u001b[0m\u001b[0;34m(\u001b[0m\u001b[0mmsg\u001b[0m\u001b[0;34m)\u001b[0m \u001b[0;32mfrom\u001b[0m \u001b[0;32mNone\u001b[0m\u001b[0;34m\u001b[0m\u001b[0;34m\u001b[0m\u001b[0m\n\u001b[0m\u001b[1;32m   2931\u001b[0m             \u001b[0;32melse\u001b[0m\u001b[0;34m:\u001b[0m\u001b[0;34m\u001b[0m\u001b[0;34m\u001b[0m\u001b[0m\n\u001b[1;32m   2932\u001b[0m                 \u001b[0;31m# We have a positional argument to process\u001b[0m\u001b[0;34m\u001b[0m\u001b[0;34m\u001b[0m\u001b[0;34m\u001b[0m\u001b[0m\n",
      "\u001b[0;31mTypeError\u001b[0m: missing a required argument: 'b'"
     ],
     "ename": "TypeError",
     "evalue": "missing a required argument: 'b'",
     "output_type": "error"
    }
   ],
   "source": [
    "from unittest.mock import create_autospec\n",
    "def function(a, b, c):\n",
    "    pass\n",
    "\n",
    "mock_function = create_autospec(function, return_value='fishy')\n",
    "mock_function(1, 2, 3)\n",
    "\n",
    "mock_function.assert_called_once_with(1, 2, 3)\n",
    "mock_function('wrong arguments')\n"
   ],
   "metadata": {
    "collapsed": false,
    "pycharm": {
     "name": "#%%\n",
     "is_executing": false
    }
   }
  },
  {
   "cell_type": "code",
   "execution_count": null,
   "outputs": [],
   "source": [
    "from unittest.mock import create_autospec\n",
    "class A:\n",
    "    def __init__(self, a, b, c):\n",
    "        pass\n",
    "\n",
    "mock_class = create_autospec(A, return_value='fishy')\n",
    "mock_class(1, 2, 3)\n",
    "\n",
    "mock_class.assert_called_once_with(1, 2, 3)\n",
    "mock_class('wrong arguments')\n",
    "\n"
   ],
   "metadata": {
    "collapsed": false,
    "pycharm": {
     "name": "#%%\n",
     "is_executing": false
    }
   }
  },
  {
   "cell_type": "code",
   "execution_count": null,
   "outputs": [],
   "source": [
    "mock = Mock(return_value=None)\n",
    "mock(1, 2, arg='thing')\n",
    "mock('some', 'thing', 'else')\n",
    "mock.assert_any_call(1, 2, arg='thing')"
   ],
   "metadata": {
    "collapsed": false,
    "pycharm": {
     "name": "#%%\n",
     "is_executing": false
    }
   }
  },
  {
   "cell_type": "code",
   "execution_count": null,
   "outputs": [],
   "source": [
    "from unittest.mock import Mock, call \n",
    "mock = Mock(return_value=None)\n",
    "mock(1)\n",
    "mock(2)\n",
    "mock(3)\n",
    "mock(4)\n",
    "calls = [call(2), call(3)]\n",
    "mock.assert_has_calls(calls)\n",
    "calls = [call(4), call(2), call(3)]\n",
    "mock.assert_has_calls(calls, any_order=True)"
   ],
   "metadata": {
    "collapsed": false,
    "pycharm": {
     "name": "#%%\n",
     "is_executing": false
    }
   }
  },
  {
   "cell_type": "code",
   "source": [
    "from unittest.mock import Mock\n",
    "mock = Mock(spec=3)\n",
    "isinstance(mock, int)"
   ],
   "metadata": {
    "collapsed": false,
    "pycharm": {
     "name": "#%% \n",
     "is_executing": false
    }
   },
   "execution_count": null,
   "outputs": []
  },
  {
   "cell_type": "code",
   "execution_count": null,
   "outputs": [],
   "source": [
    "from unittest.mock import MagicMock \n",
    "m = MagicMock(attribute=3, other='fish')\n",
    "m.attribute\n",
    "\n",
    "m.other\n"
   ],
   "metadata": {
    "collapsed": false,
    "pycharm": {
     "name": "#%%\n",
     "is_executing": false
    }
   }
  },
  {
   "cell_type": "code",
   "execution_count": null,
   "outputs": [],
   "source": [
    "from unittest.mock import Mock\n",
    "attrs = {'method.return_value': 3, 'other.side_effect': KeyError}\n",
    "mock = Mock(some_attribute='eggs', **attrs)\n",
    "mock.some_attribute\n",
    "\n",
    "mock.method()\n",
    "\n",
    "mock.other()\n",
    "\n"
   ],
   "metadata": {
    "collapsed": false,
    "pycharm": {
     "name": "#%%\n",
     "is_executing": false
    }
   }
  },
  {
   "cell_type": "code",
   "execution_count": null,
   "outputs": [],
   "source": [
    "m = MagicMock(return_value=6)\n",
    "def side_effect(*args, **kwargs):\n",
    "    return 3\n",
    "\n",
    "m.side_effect = side_effect\n",
    "print(m())\n",
    "\n",
    "m.side_effect = None\n",
    "print(m())"
   ],
   "metadata": {
    "collapsed": false,
    "pycharm": {
     "name": "#%%\n",
     "is_executing": false
    }
   }
  },
  {
   "cell_type": "code",
   "execution_count": null,
   "outputs": [],
   "source": [
    "class Class:\n",
    "    def __init__(self, a):\n",
    "        pass\n",
    "    \n",
    "Original = Class\n",
    "patcher = patch('__main__.Class', spec=True)\n",
    "#patcher = patch('__main__.Class', autospec=True)\n",
    "MockClass = patcher.start()\n",
    "instance = MockClass()\n",
    "assert isinstance(instance, Original)\n",
    "print(instance.__class__)\n",
    "print(Original)\n",
    "patcher.stop()"
   ],
   "metadata": {
    "collapsed": false,
    "pycharm": {
     "name": "#%%\n",
     "is_executing": false
    }
   }
  },
  {
   "cell_type": "code",
   "execution_count": null,
   "outputs": [],
   "source": [
    "class Class:\n",
    "    def method(self, a):\n",
    "        pass\n",
    "\n",
    "patcher = patch('__main__.Class.method', return_value=100)\n",
    "patcher.start()\n",
    "print(Class().method(10))\n",
    "patcher.stop()\n",
    "\n",
    "@patch('__main__.Class.method', return_value=100)\n",
    "def aaaa(mock):\n",
    "    print(Class().method(10))\n",
    "    \n",
    "print(aaaa())"
   ],
   "metadata": {
    "collapsed": false,
    "pycharm": {
     "name": "#%%\n",
     "is_executing": false
    }
   }
  },
  {
   "cell_type": "code",
   "execution_count": null,
   "outputs": [],
   "source": [
    "class SomeClass:\n",
    "    def __init__(self, x):\n",
    "        self.x = 100 \n",
    "\n",
    "    def class_method(self, a):\n",
    "        pass\n",
    "\n",
    "@patch.object(SomeClass, 'class_method')\n",
    "def test(mock_method):\n",
    "    mock_method.return_value = 1000\n",
    "    a = SomeClass(10)\n",
    "    print(a.x)\n",
    "    assert a.class_method(3) == 1000\n",
    "    mock_method.assert_called_with(3)\n",
    "\n",
    "test()\n",
    "\n"
   ],
   "metadata": {
    "collapsed": false,
    "pycharm": {
     "name": "#%%\n",
     "is_executing": false
    }
   }
  },
  {
   "cell_type": "code",
   "execution_count": null,
   "outputs": [],
   "source": [
    "import os\n",
    "import unittest\n",
    "from unittest.mock import patch\n",
    "\n",
    "print(os.environ)\n",
    "assert isinstance(os.environ, dict) is False\n",
    "@patch.dict('os.environ', {'newkey': 'newvalue'})\n",
    "class TestSample(unittest.TestCase):\n",
    "    def test_sample(self):\n",
    "        print(\"test_sample works\")\n",
    "        self.assertEqual(os.environ['newkey'], 'newvalue')\n",
    "        \n",
    "TestSample().test_sample()        "
   ],
   "metadata": {
    "collapsed": false,
    "pycharm": {
     "name": "#%%\n",
     "is_executing": false
    }
   }
  },
  {
   "cell_type": "code",
   "execution_count": 6,
   "outputs": [
    {
     "traceback": [
      "\u001b[0;31m---------------------------------------------------------------------------\u001b[0m",
      "\u001b[0;31mTypeError\u001b[0m                                 Traceback (most recent call last)",
      "\u001b[0;32m<ipython-input-6-a27f0cae33aa>\u001b[0m in \u001b[0;36m<module>\u001b[0;34m\u001b[0m\n\u001b[1;32m      4\u001b[0m \u001b[0;31m#    assert patched_foo == {'newkey': 'newvalue'}\u001b[0m\u001b[0;34m\u001b[0m\u001b[0;34m\u001b[0m\u001b[0;34m\u001b[0m\u001b[0m\n\u001b[1;32m      5\u001b[0m \u001b[0;31m#    # You can add, update or delete keys of foo (or patched_foo, it's the same dict)\u001b[0m\u001b[0;34m\u001b[0m\u001b[0;34m\u001b[0m\u001b[0;34m\u001b[0m\u001b[0m\n\u001b[0;32m----> 6\u001b[0;31m     \u001b[0mpatched_foo\u001b[0m\u001b[0;34m[\u001b[0m\u001b[0;34m'spam'\u001b[0m\u001b[0;34m]\u001b[0m \u001b[0;34m=\u001b[0m \u001b[0;34m'eggs'\u001b[0m\u001b[0;34m\u001b[0m\u001b[0;34m\u001b[0m\u001b[0m\n\u001b[0m\u001b[1;32m      7\u001b[0m \u001b[0;34m\u001b[0m\u001b[0m\n\u001b[1;32m      8\u001b[0m \u001b[0;32massert\u001b[0m \u001b[0mfoo\u001b[0m \u001b[0;34m==\u001b[0m \u001b[0;34m{\u001b[0m\u001b[0;34m}\u001b[0m\u001b[0;34m\u001b[0m\u001b[0;34m\u001b[0m\u001b[0m\n",
      "\u001b[0;31mTypeError\u001b[0m: 'NoneType' object does not support item assignment"
     ],
     "ename": "TypeError",
     "evalue": "'NoneType' object does not support item assignment",
     "output_type": "error"
    }
   ],
   "source": [
    "foo = {}\n",
    "with patch.dict(foo, {'newkey': 'newvalue'}) as patched_foo:\n",
    "    assert foo == {'newkey': 'newvalue'}\n",
    "#    assert patched_foo == {'newkey': 'newvalue'}\n",
    "#    # You can add, update or delete keys of foo (or patched_foo, it's the same dict)\n",
    "    patched_foo['spam'] = 'eggs'\n",
    "\n",
    "assert foo == {}\n",
    "assert patched_foo is None \n",
    "\n"
   ],
   "metadata": {
    "collapsed": false,
    "pycharm": {
     "name": "#%%\n",
     "is_executing": false
    }
   }
  },
  {
   "cell_type": "code",
   "execution_count": null,
   "outputs": [],
   "source": [
    "class A:\n",
    "    def __init__(self):\n",
    "        self.a = 10\n",
    "        \n",
    "    def method(self):\n",
    "        return 20\n",
    "\n",
    "def test_(mocker):\n",
    "    mocker.patch('__main__.A')\n",
    "    mocker.method.return_value = 100\n",
    "\n",
    "    a = A()\n",
    "    assert a.a == 10\n",
    "\n"
   ],
   "metadata": {
    "collapsed": false,
    "pycharm": {
     "name": "#%%\n"
    }
   }
  }
 ],
 "metadata": {
  "kernelspec": {
   "display_name": "Python 3",
   "language": "python",
   "name": "python3"
  },
  "language_info": {
   "codemirror_mode": {
    "name": "ipython",
    "version": 2
   },
   "file_extension": ".py",
   "mimetype": "text/x-python",
   "name": "python",
   "nbconvert_exporter": "python",
   "pygments_lexer": "ipython2",
   "version": "2.7.6"
  },
  "pycharm": {
   "stem_cell": {
    "cell_type": "raw",
    "source": [],
    "metadata": {
     "collapsed": false
    }
   }
  }
 },
 "nbformat": 4,
 "nbformat_minor": 0
}