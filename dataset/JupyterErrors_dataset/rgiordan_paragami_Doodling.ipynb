{
 "cells": [
  {
   "cell_type": "code",
   "execution_count": 1,
   "metadata": {
    "collapsed": true
   },
   "outputs": [],
   "source": [
    "import autograd\n",
    "import autograd.numpy as np\n",
    "import autograd.scipy as sp\n",
    "from autograd.test_util import check_grads\n",
    "\n",
    "import paragami\n",
    "import scipy as osp\n",
    "\n",
    "import copy\n",
    "import example_utils\n",
    "\n",
    "import matplotlib.pyplot as plt\n",
    "%matplotlib inline\n",
    "def comparison_plot(x, y):\n",
    "    plt.plot(x, x, 'k')\n",
    "    plt.plot(x, y, 'r+')"
   ]
  },
  {
   "cell_type": "code",
   "execution_count": 2,
   "metadata": {
    "collapsed": true
   },
   "outputs": [],
   "source": [
    "np.random.seed(42)\n",
    "\n",
    "num_obs = 20\n",
    "\n",
    "# True values of parameters\n",
    "true_sigma = \\\n",
    "    np.eye(3) * np.diag(np.array([1, 2, 3])) + \\\n",
    "    np.random.random((3, 3)) * 0.1\n",
    "true_sigma = 0.5 * (true_sigma + true_sigma.T)\n",
    "\n",
    "true_mu = np.array([0, 1, 2])\n",
    "\n",
    "# Data\n",
    "x = np.random.multivariate_normal(\n",
    "    mean=true_mu, cov=true_sigma, size=(num_obs, ))\n",
    "\n",
    "# Original weights.\n",
    "original_weights = np.ones(num_obs)\n",
    "\n",
    "# Original regularizer.\n",
    "original_lam = 1.0"
   ]
  },
  {
   "cell_type": "code",
   "execution_count": 3,
   "metadata": {},
   "outputs": [
    {
     "data": {
      "text/plain": [
       "110.0015452043328"
      ]
     },
     "execution_count": 3,
     "metadata": {},
     "output_type": "execute_result"
    }
   ],
   "source": [
    "def model_logpdf(norm_par, weights, x):\n",
    "#     data_lpdf = example_utils.get_normal_log_prob(\n",
    "#         x, mu=norm_par['mu'], sigma=norm_par['sigma'])\n",
    "    data_lpdf = autograd.scipy.stats.multivariate_normal.logpdf(\n",
    "        x, norm_par['mu'], norm_par['sigma'])\n",
    "    return np.sum(weights * data_lpdf)\n",
    "\n",
    "def objective_fun(norm_par, weights, lam, x):\n",
    "    return \\\n",
    "        -model_logpdf(norm_par, weights, x) + \\\n",
    "        example_utils.regularizer(norm_par, lam)\n",
    "\n",
    "norm_par = dict()\n",
    "norm_par['mu'] = true_mu\n",
    "norm_par['sigma'] = true_sigma\n",
    "\n",
    "objective_fun(norm_par, original_weights, original_lam, x)"
   ]
  },
  {
   "cell_type": "code",
   "execution_count": 14,
   "metadata": {
    "scrolled": false
   },
   "outputs": [
    {
     "ename": "AssertionError",
     "evalue": "Derivative (VJP) check of [unknown name] failed with arg [0.01838482 0.0760574  0.34902187 0.03878424 0.03397008 0.55879116\n 0.         1.         2.        ]:\nanalytic: 2.1897183261330797\nnumeric:  -4.661007817642502",
     "output_type": "error",
     "traceback": [
      "\u001b[0;31m---------------------------------------------------------------------------\u001b[0m",
      "\u001b[0;31mAssertionError\u001b[0m                            Traceback (most recent call last)",
      "\u001b[0;32m<ipython-input-14-13bddf338bd7>\u001b[0m in \u001b[0;36m<module>\u001b[0;34m\u001b[0m\n\u001b[1;32m     28\u001b[0m \u001b[0;31m# This verifies that the objective is being differentiated correctly.\u001b[0m\u001b[0;34m\u001b[0m\u001b[0;34m\u001b[0m\u001b[0m\n\u001b[1;32m     29\u001b[0m \u001b[0;31m#check_grads(objective_flat)(norm_par_flat) # FWD mode not working\u001b[0m\u001b[0;34m\u001b[0m\u001b[0;34m\u001b[0m\u001b[0m\n\u001b[0;32m---> 30\u001b[0;31m \u001b[0mcheck_grads\u001b[0m\u001b[0;34m(\u001b[0m\u001b[0mobjective_flat\u001b[0m\u001b[0;34m,\u001b[0m \u001b[0mmodes\u001b[0m\u001b[0;34m=\u001b[0m\u001b[0;34m[\u001b[0m\u001b[0;34m'rev'\u001b[0m\u001b[0;34m]\u001b[0m\u001b[0;34m)\u001b[0m\u001b[0;34m(\u001b[0m\u001b[0mnorm_par_flat\u001b[0m\u001b[0;34m)\u001b[0m\u001b[0;34m\u001b[0m\u001b[0m\n\u001b[0m",
      "\u001b[0;32m~/.local/lib/python3.5/site-packages/autograd/wrap_util.py\u001b[0m in \u001b[0;36mnary_f\u001b[0;34m(*args, **kwargs)\u001b[0m\n\u001b[1;32m     18\u001b[0m             \u001b[0;32melse\u001b[0m\u001b[0;34m:\u001b[0m\u001b[0;34m\u001b[0m\u001b[0m\n\u001b[1;32m     19\u001b[0m                 \u001b[0mx\u001b[0m \u001b[0;34m=\u001b[0m \u001b[0mtuple\u001b[0m\u001b[0;34m(\u001b[0m\u001b[0margs\u001b[0m\u001b[0;34m[\u001b[0m\u001b[0mi\u001b[0m\u001b[0;34m]\u001b[0m \u001b[0;32mfor\u001b[0m \u001b[0mi\u001b[0m \u001b[0;32min\u001b[0m \u001b[0margnum\u001b[0m\u001b[0;34m)\u001b[0m\u001b[0;34m\u001b[0m\u001b[0m\n\u001b[0;32m---> 20\u001b[0;31m             \u001b[0;32mreturn\u001b[0m \u001b[0munary_operator\u001b[0m\u001b[0;34m(\u001b[0m\u001b[0munary_f\u001b[0m\u001b[0;34m,\u001b[0m \u001b[0mx\u001b[0m\u001b[0;34m,\u001b[0m \u001b[0;34m*\u001b[0m\u001b[0mnary_op_args\u001b[0m\u001b[0;34m,\u001b[0m \u001b[0;34m**\u001b[0m\u001b[0mnary_op_kwargs\u001b[0m\u001b[0;34m)\u001b[0m\u001b[0;34m\u001b[0m\u001b[0m\n\u001b[0m\u001b[1;32m     21\u001b[0m         \u001b[0;32mreturn\u001b[0m \u001b[0mnary_f\u001b[0m\u001b[0;34m\u001b[0m\u001b[0m\n\u001b[1;32m     22\u001b[0m     \u001b[0;32mreturn\u001b[0m \u001b[0mnary_operator\u001b[0m\u001b[0;34m\u001b[0m\u001b[0m\n",
      "\u001b[0;32m~/.local/lib/python3.5/site-packages/autograd/test_util.py\u001b[0m in \u001b[0;36mcheck_grads\u001b[0;34m(f, x, modes, order)\u001b[0m\n\u001b[1;32m     61\u001b[0m             \u001b[0mcheck_grads\u001b[0m\u001b[0;34m(\u001b[0m\u001b[0mgrad_f\u001b[0m\u001b[0;34m,\u001b[0m \u001b[0;34m(\u001b[0m\u001b[0;36m0\u001b[0m\u001b[0;34m,\u001b[0m \u001b[0;36m1\u001b[0m\u001b[0;34m)\u001b[0m\u001b[0;34m,\u001b[0m \u001b[0mmodes\u001b[0m\u001b[0;34m,\u001b[0m \u001b[0morder\u001b[0m\u001b[0;34m=\u001b[0m\u001b[0morder\u001b[0m\u001b[0;34m-\u001b[0m\u001b[0;36m1\u001b[0m\u001b[0;34m)\u001b[0m\u001b[0;34m(\u001b[0m\u001b[0mx\u001b[0m\u001b[0;34m,\u001b[0m \u001b[0mv\u001b[0m\u001b[0;34m)\u001b[0m\u001b[0;34m\u001b[0m\u001b[0m\n\u001b[1;32m     62\u001b[0m     \u001b[0;32mif\u001b[0m \u001b[0;34m'rev'\u001b[0m \u001b[0;32min\u001b[0m \u001b[0mmodes\u001b[0m\u001b[0;34m:\u001b[0m\u001b[0;34m\u001b[0m\u001b[0m\n\u001b[0;32m---> 63\u001b[0;31m         \u001b[0mcheck_vjp\u001b[0m\u001b[0;34m(\u001b[0m\u001b[0mf\u001b[0m\u001b[0;34m,\u001b[0m \u001b[0mx\u001b[0m\u001b[0;34m)\u001b[0m\u001b[0;34m\u001b[0m\u001b[0m\n\u001b[0m\u001b[1;32m     64\u001b[0m         \u001b[0;32mif\u001b[0m \u001b[0morder\u001b[0m \u001b[0;34m>\u001b[0m \u001b[0;36m1\u001b[0m\u001b[0;34m:\u001b[0m\u001b[0;34m\u001b[0m\u001b[0m\n\u001b[1;32m     65\u001b[0m             \u001b[0mgrad_f\u001b[0m \u001b[0;34m=\u001b[0m \u001b[0;32mlambda\u001b[0m \u001b[0mx\u001b[0m\u001b[0;34m,\u001b[0m \u001b[0mv\u001b[0m\u001b[0;34m:\u001b[0m \u001b[0mmake_vjp\u001b[0m\u001b[0;34m(\u001b[0m\u001b[0mf\u001b[0m\u001b[0;34m,\u001b[0m \u001b[0mx\u001b[0m\u001b[0;34m)\u001b[0m\u001b[0;34m[\u001b[0m\u001b[0;36m0\u001b[0m\u001b[0;34m]\u001b[0m\u001b[0;34m(\u001b[0m\u001b[0mv\u001b[0m\u001b[0;34m)\u001b[0m\u001b[0;34m\u001b[0m\u001b[0m\n",
      "\u001b[0;32m~/.local/lib/python3.5/site-packages/autograd/test_util.py\u001b[0m in \u001b[0;36mcheck_vjp\u001b[0;34m(f, x)\u001b[0m\n\u001b[1;32m     35\u001b[0m         (\"Derivative (VJP) check of {} failed with arg {}:\\n\"\n\u001b[1;32m     36\u001b[0m          \"analytic: {}\\nnumeric:  {}\".format(\n\u001b[0;32m---> 37\u001b[0;31m             get_name(f), x, vjv_numeric, vjv_exact))\n\u001b[0m\u001b[1;32m     38\u001b[0m \u001b[0;34m\u001b[0m\u001b[0m\n\u001b[1;32m     39\u001b[0m \u001b[0;32mdef\u001b[0m \u001b[0mcheck_jvp\u001b[0m\u001b[0;34m(\u001b[0m\u001b[0mf\u001b[0m\u001b[0;34m,\u001b[0m \u001b[0mx\u001b[0m\u001b[0;34m)\u001b[0m\u001b[0;34m:\u001b[0m\u001b[0;34m\u001b[0m\u001b[0m\n",
      "\u001b[0;31mAssertionError\u001b[0m: Derivative (VJP) check of [unknown name] failed with arg [0.01838482 0.0760574  0.34902187 0.03878424 0.03397008 0.55879116\n 0.         1.         2.        ]:\nanalytic: 2.1897183261330797\nnumeric:  -4.661007817642502"
     ]
    }
   ],
   "source": [
    "np.random.seed(42)\n",
    "\n",
    "norm_param_pattern = paragami.PatternDict()\n",
    "norm_param_pattern['sigma'] = paragami.PSDSymmetricMatrixPattern(size=3)\n",
    "norm_param_pattern['mu'] = paragami.NumericArrayPattern(shape=(3, ))\n",
    "\n",
    "def objective_fun_lambda(par_dict):\n",
    "    return objective_fun(par_dict, original_weights, original_lam, x)\n",
    "\n",
    "# objective_flat = paragami.FlattenFunctionInput(\n",
    "#     lambda par_dict: objective_fun(par_dict, original_weights, original_lam, x),\n",
    "#     patterns=norm_param_pattern,\n",
    "#     free=True)\n",
    "\n",
    "objective_flat = paragami.FlattenFunctionInput(\n",
    "    objective_fun_lambda,\n",
    "    patterns=norm_param_pattern,\n",
    "    free=True)\n",
    "\n",
    "# It's always a good idea to double check for bugs.\n",
    "\n",
    "# This checks that the two functions return the same value.\n",
    "norm_par_flat = norm_param_pattern.flatten(norm_par, free=True)\n",
    "assert(np.linalg.norm(\n",
    "    objective_flat(norm_par_flat) - \\\n",
    "    objective_fun(norm_par, original_weights, original_lam, x)) < 1e-8)\n",
    "\n",
    "# This verifies that the objective is being differentiated correctly. \n",
    "#check_grads(objective_flat)(norm_par_flat) # FWD mode not working\n",
    "check_grads(objective_flat, modes=['rev'])(norm_par_flat)"
   ]
  },
  {
   "cell_type": "code",
   "execution_count": null,
   "metadata": {
    "scrolled": false
   },
   "outputs": [],
   "source": [
    "objective_wrapper = paragami.OptimizationObjective(objective_flat)\n",
    "objective_wrapper.set_print_every(5)\n",
    "\n",
    "init_param = np.ones(norm_param_pattern.flat_length(free=True))\n",
    "\n",
    "mle_opt = osp.optimize.minimize(\n",
    "    method='trust-ncg',\n",
    "    x0=init_param,\n",
    "    fun=objective_wrapper.f,\n",
    "    jac=objective_wrapper.grad,\n",
    "    hessp=objective_wrapper.hessian_vector_product,\n",
    "    options={'gtol': 1e-12, 'disp': False})"
   ]
  },
  {
   "cell_type": "code",
   "execution_count": null,
   "metadata": {},
   "outputs": [],
   "source": [
    "print(mle_opt.x)\n",
    "norm_par_opt = norm_param_pattern.fold(mle_opt.x, free=True)\n",
    "print(norm_par_opt['sigma'])\n",
    "print(true_sigma)\n",
    "print(norm_par_opt['mu'])\n",
    "print(true_mu)\n",
    "\n",
    "par_flat0 = copy.deepcopy(mle_opt.x)\n",
    "hess0 = objective_wrapper.hessian(par_flat0)"
   ]
  },
  {
   "cell_type": "code",
   "execution_count": null,
   "metadata": {
    "collapsed": true
   },
   "outputs": [],
   "source": [
    "lam_free = True # Works better\n",
    "\n",
    "# To evaluate the regularization parameter\n",
    "lam_pattern = paragami.NumericScalarPattern(lb=0)\n",
    "objective_reg_flat = \\\n",
    "    paragami.FlattenFunctionInput(\n",
    "        lambda par_dict, lam: objective_fun(par_dict, original_weights, lam, x),\n",
    "    patterns=[norm_param_pattern, lam_pattern],\n",
    "    free=[True, lam_free])\n",
    "lam_flat0 = lam_pattern.flatten(original_lam, free=lam_free)\n",
    "\n",
    "# Sanity check\n",
    "assert(objective_reg_flat(par_flat0, lam_flat0) ==\n",
    "       objective_fun(norm_par_opt, original_weights, original_lam, x))\n",
    "\n",
    "weight_sens = paragami.ParametricSensitivityTaylorExpansion(\n",
    "    objective_reg_flat,\n",
    "    input_val0=par_flat0,\n",
    "    hyper_val0=lam_flat0,\n",
    "    hess0=hess0,\n",
    "    order=4)"
   ]
  },
  {
   "cell_type": "code",
   "execution_count": null,
   "metadata": {
    "collapsed": true
   },
   "outputs": [],
   "source": [
    "def reoptimize_lam(lam_flat1, print_every=10):\n",
    "    new_objective_wrapper = \\\n",
    "        paragami.OptimizationObjective(\n",
    "            lambda par_flat: objective_reg_flat(par_flat, lam_flat1))\n",
    "    new_objective_wrapper.set_print_every(10)\n",
    "    new_mle_opt = osp.optimize.minimize(\n",
    "        method='trust-ncg',\n",
    "        x0=par_flat0,\n",
    "        fun=new_objective_wrapper.f,\n",
    "        jac=new_objective_wrapper.grad,\n",
    "        hessp=new_objective_wrapper.hessian_vector_product,\n",
    "        options={'gtol': 1e-12, 'disp': False})\n",
    "    return new_mle_opt"
   ]
  },
  {
   "cell_type": "code",
   "execution_count": null,
   "metadata": {},
   "outputs": [],
   "source": [
    "new_lam = 5\n",
    "#new_lam = 0.001\n",
    "\n",
    "lam_flat1 = lam_pattern.flatten(new_lam, free=lam_free)\n",
    "print('dhyper norm', np.linalg.norm(lam_flat1 - lam_flat0))\n",
    "par1 = reoptimize_lam(lam_flat1).x\n",
    "\n",
    "plt.figure()\n",
    "par1_pred = weight_sens.evaluate_taylor_series(lam_flat1, max_order=1)\n",
    "comparison_plot(par1, par1_pred)\n",
    "print(np.linalg.norm(par1 - par1_pred))\n",
    "\n",
    "plt.figure()\n",
    "par1_pred = weight_sens.evaluate_taylor_series(lam_flat1, max_order=2)\n",
    "comparison_plot(par1, par1_pred)\n",
    "print(np.linalg.norm(par1 - par1_pred))\n",
    "\n",
    "plt.figure()\n",
    "par1_pred = weight_sens.evaluate_taylor_series(lam_flat1, max_order=3)\n",
    "comparison_plot(par1, par1_pred)\n",
    "print(np.linalg.norm(par1 - par1_pred))\n",
    "\n",
    "plt.figure()\n",
    "par1_pred = weight_sens.evaluate_taylor_series(lam_flat1, max_order=4)\n",
    "comparison_plot(par1, par1_pred)\n",
    "print(np.linalg.norm(par1 - par1_pred))\n"
   ]
  },
  {
   "cell_type": "code",
   "execution_count": null,
   "metadata": {
    "collapsed": true
   },
   "outputs": [],
   "source": [
    "# To evaluate the regularization parameter\n",
    "weight_pattern = paragami.NumericVectorPattern(length=num_obs)\n",
    "objective_weight_flat = \\\n",
    "    paragami.FlattenFunctionInput(\n",
    "        lambda par_dict, weights: objective_fun(par_dict, weights, original_lam, x),\n",
    "    patterns=[norm_param_pattern, weight_pattern],\n",
    "    free=[True, False])\n",
    "weight_flat0 = weight_pattern.flatten(original_weights, free=False)\n",
    "\n",
    "# Sanity check\n",
    "assert(objective_weight_flat(par_flat0, weight_flat0) ==\n",
    "       objective_fun(norm_par_opt, original_weights, original_lam, x))\n",
    "\n",
    "weight_sens = paragami.ParametricSensitivityTaylorExpansion(\n",
    "    objective_weight_flat,\n",
    "    input_val0=par_flat0,\n",
    "    hyper_val0=weight_flat0,\n",
    "    hess0=hess0,\n",
    "    order=4)"
   ]
  },
  {
   "cell_type": "code",
   "execution_count": null,
   "metadata": {
    "collapsed": true
   },
   "outputs": [],
   "source": [
    "def reoptimize_weights(weight_flat1, print_every=10):\n",
    "    new_objective_wrapper = \\\n",
    "        paragami.OptimizationObjective(\n",
    "            lambda par_flat: objective_weight_flat(par_flat, weight_flat1))\n",
    "    new_objective_wrapper.set_print_every(10)\n",
    "    new_mle_opt = osp.optimize.minimize(\n",
    "        method='trust-ncg',\n",
    "        x0=par_flat0,\n",
    "        fun=new_objective_wrapper.f,\n",
    "        jac=new_objective_wrapper.grad,\n",
    "        hessp=new_objective_wrapper.hessian_vector_product,\n",
    "        options={'gtol': 1e-12, 'disp': False})\n",
    "    return new_mle_opt"
   ]
  },
  {
   "cell_type": "code",
   "execution_count": null,
   "metadata": {},
   "outputs": [],
   "source": [
    "new_weights = example_utils.draw_bootstrap_weights(num_obs)\n",
    "weight_flat1 = weight_pattern.flatten(new_weights, free=False)\n",
    "\n",
    "print('dhyper norm', np.linalg.norm(weight_flat1 - weight_flat0))\n",
    "par1 = reoptimize_weights(weight_flat1).x\n",
    "\n",
    "for order in range(1, 5):\n",
    "    plt.figure()\n",
    "    plt.title('Order {}'.format(order))\n",
    "    par1_pred = weight_sens.evaluate_taylor_series(weight_flat1, max_order=order)\n",
    "    comparison_plot(par1, par1_pred)\n",
    "    print(np.linalg.norm(par1 - par1_pred))\n"
   ]
  }
 ],
 "metadata": {
  "kernelspec": {
   "display_name": "Python 3",
   "language": "python",
   "name": "python3"
  },
  "language_info": {
   "codemirror_mode": {
    "name": "ipython",
    "version": 3
   },
   "file_extension": ".py",
   "mimetype": "text/x-python",
   "name": "python",
   "nbconvert_exporter": "python",
   "pygments_lexer": "ipython3",
   "version": "3.5.2"
  }
 },
 "nbformat": 4,
 "nbformat_minor": 2
}
