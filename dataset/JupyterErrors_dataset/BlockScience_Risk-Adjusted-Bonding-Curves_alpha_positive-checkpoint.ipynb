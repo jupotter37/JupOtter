{
 "cells": [
  {
   "cell_type": "markdown",
   "metadata": {},
   "source": [
    "# Testing Alpha Update upon Positive Attestations"
   ]
  },
  {
   "cell_type": "markdown",
   "metadata": {},
   "source": [
    "An agent executes a positive attestation when they desire to increase the system alpha closer in magnitude to their private belief of alpha.\n",
    "\n",
    "To make a positive attestation, the agent bonds $\\Delta s$ quantity of supply tokens to the $S_1$ bucket. In exchange, they get $\\Delta q_1$ quantity of positive claims. "
   ]
  },
  {
   "cell_type": "markdown",
   "metadata": {},
   "source": [
    "\n",
    "$$\\alpha_{t+1} = (\\epsilon) \\alpha + (1-\\epsilon)\\cdot(1-\\delta) \\alpha + (1-\\epsilon).(\\delta) \\bar\\alpha$$\n",
    "<br/> where $\\epsilon$ is the designer-defined fixed weight between [0,1] and $\\delta=\\frac{\\Delta s}{S_1+S_0+\\Delta s}$ is the dynamic weight.\n"
   ]
  },
  {
   "cell_type": "markdown",
   "metadata": {},
   "source": [
    "The realized alpha, $\\bar\\alpha$ is given by $$\\bar\\alpha = \\frac{\\Delta s}{S} \\frac{R}{B}$$ \n",
    "<br/> where $B = (C+R)\\left[\\frac{q_1+\\Delta q_1}{Q_1+\\Delta q1}\\frac{S_1+\\Delta S}{S}-\\frac{q_1}{Q_1}\\frac{S_1}{S}\\right]-(C)\\left[\\frac{\\Delta s}{S}\\right]$\n"
   ]
  },
  {
   "cell_type": "markdown",
   "metadata": {},
   "source": [
    "In the following tests, we want to verify if the update in alpha is directionally correct - i.e we see an increase with each positive attestaion - and if the resultant system alpha is within its domain [0,1]."
   ]
  },
  {
   "cell_type": "markdown",
   "metadata": {},
   "source": [
    "### Test criteria\n",
    "\n",
    "The tests below must produce results that satisfy the below criteria. \n",
    "\n",
    "#### Alpha Update\n",
    "For an attestation $\\Delta s \\rightarrow S_1$, where $\\Delta s \\geq 0$, \n",
    "- $ \\alpha_{t+1} \\in [0,1] $\n",
    "- The realized alpha $\\bar\\alpha \\geq \\alpha_{t}$\n",
    "- The computed $\\alpha_{t+1} \\geq \\alpha_{t}$\n",
    "\n",
    "#### State Variable Updates\n",
    "Several state variables are computed in these tests. The following domains may be asserted on the state variables.\n",
    "\n",
    "- $ S \\in [0, \\infty) $\n",
    "- $ Q_1 \\in [0, \\infty) $\n",
    "- $ S_1 \\in [0, S] \\space | \\space S_1 = S - S_0 - S_free $\n",
    "- $ S_0 \\in [0, S] \\space | \\space S_0 = S - S_1 - S_free $\n",
    "<br/> <br/>\n",
    "- $ s \\in [0, S] $\n",
    "- $ q_1 \\in [0, Q_1] $\n",
    "- $ s_1 \\in [0, S_1] $\n"
   ]
  },
  {
   "cell_type": "markdown",
   "metadata": {},
   "source": [
    "### Intitialize state variables"
   ]
  },
  {
   "cell_type": "code",
   "execution_count": 51,
   "metadata": {},
   "outputs": [],
   "source": [
    "E = 0.46\n",
    "C = 7000\n",
    "R = 3000\n",
    "S = 300\n",
    "\n",
    "Q1 = [100]\n",
    "q1 = [0]\n",
    "S1 = [100] \n",
    "S0 = [100]\n",
    "s1 = [0]\n",
    "s = [20]\n",
    "\n",
    "alpha = [0.5]"
   ]
  },
  {
   "cell_type": "markdown",
   "metadata": {},
   "source": [
    "### Input an agent action signal \n",
    "The agent action signal contains a series of $\\Delta s$ that they would use to make positive attestations."
   ]
  },
  {
   "cell_type": "code",
   "execution_count": 52,
   "metadata": {},
   "outputs": [],
   "source": [
    "deltas = [1, 4, 5, 6, 3, 0, 1]"
   ]
  },
  {
   "cell_type": "markdown",
   "metadata": {},
   "source": [
    "### Compute $\\alpha_{t+1}$ for each agent action event and update state variables"
   ]
  },
  {
   "cell_type": "markdown",
   "metadata": {},
   "source": [
    "State variables are updated in each iteration\n",
    "            \n",
    "- $S \\rightarrow S - \\Delta s$\n",
    "- $Q_1 \\rightarrow Q_1 + \\Delta q$\n",
    "- $Q_0 \\rightarrow Q_0$\n",
    "- $S_1 \\rightarrow S_1 + \\Delta s$\n",
    "- $S_0 \\rightarrow S0 $\n",
    "<br/> <br/> \n",
    "- $s \\rightarrow s - \\Delta s$\n",
    "- $q_1 \\rightarrow q_1 + \\Delta q$\n",
    "- $q_0 \\rightarrow q_0$\n",
    "- $s_1 \\rightarrow s_1 + \\Delta s$\n",
    "- $s_0 \\rightarrow s_0$\n",
    "<br/> <br/> \n",
    "- $\\alpha_t \\rightarrow \\alpha_{t+1}$\n",
    "\n",
    "\n"
   ]
  },
  {
   "cell_type": "code",
   "execution_count": 53,
   "metadata": {},
   "outputs": [
    {
     "name": "stdout",
     "output_type": "stream",
     "text": [
      "D =  0.004975124378109453\n",
      "alpha_bar =  0.06233186571425884\n",
      "alpha[i] = 0.5 | new_alpha =  0.49882417516162036\n",
      "deltas = 1  | deltaq1 =  5.773502691896324\n",
      "s[i] = 20\n",
      "____________________________\n",
      "D =  0.01951219512195122\n",
      "alpha_bar =  0.15595901638002552\n",
      "alpha[i] = 0.49882417516162036 | new_alpha =  0.4952115471471411\n",
      "deltas = 4  | deltaq1 =  12.213672050459229\n",
      "s[i] = 19\n",
      "____________________________\n",
      "D =  0.023809523809523808\n",
      "alpha_bar =  0.18087860549529386\n",
      "alpha[i] = 0.4952115471471411 | new_alpha =  0.4911701236116173\n",
      "deltas = 5  | deltaq1 =  15.232078761440219\n",
      "s[i] = 15\n",
      "____________________________\n",
      "D =  0.027777777777777776\n",
      "alpha_bar =  0.19533272980326338\n",
      "alpha[i] = 0.4911701236116173 | new_alpha =  0.48673256270449206\n",
      "deltas = 6  | deltaq1 =  18.84004750742875\n",
      "s[i] = 10\n",
      "____________________________\n",
      "D =  0.0136986301369863\n",
      "alpha_bar =  0.1161363117318615\n",
      "alpha[i] = 0.48673256270449206 | new_alpha =  0.4839911657794891\n",
      "deltas = 3  | deltaq1 =  15.205930101122458\n",
      "s[i] = 4\n",
      "____________________________\n",
      "alpha[i] = 0.4839911657794891 | new_alpha =  0.4839911657794891\n",
      "____________________________\n",
      "D =  0.004545454545454545\n",
      "alpha_bar =  0.05128172968954486\n",
      "alpha[i] = 0.4839911657794891 | new_alpha =  0.4829290607999956\n",
      "deltas = 1  | deltaq1 =  9.657062620877959\n",
      "s[i] = 1\n",
      "____________________________\n"
     ]
    }
   ],
   "source": [
    "import math\n",
    "\n",
    "for i in range(len(deltas)): \n",
    "    \n",
    "    A = 1+(deltas[i]/S)\n",
    "    deltaq1 = Q1[i]*(math.sqrt(A-1))\n",
    "        \n",
    "    if deltas[i] == 0:\n",
    "        new_alpha = alpha[i]\n",
    "        print(\"alpha[i] =\", alpha[i], \"| new_alpha = \", new_alpha)\n",
    "        print(\"____________________________\")\n",
    "    else:   \n",
    "        attest_prop_after = (q1[i]+deltaq1)/(Q1[i]+deltaq1)\n",
    "        supply_prop_after = (S1[i]+deltas[i])/S\n",
    "        attest_supply_prop_before = (q1[i]/Q1[i])*(S1[i]/S)\n",
    "    \n",
    "        B = (attest_prop_after*supply_prop_after) - attest_supply_prop_before\n",
    "              \n",
    "        pre1 = (C+R)*B\n",
    "        \n",
    "        pre2 = (C)*(deltas[i]/S)\n",
    "        \n",
    "        alpha_bar = (deltas[i]/S)*(R/(pre1 - pre2))\n",
    "        \n",
    "       # pre3 = (deltas[i]/S)*R\n",
    "       # pre4 = (C+R)*B\n",
    "       # pre5 = (C)*(deltas[i]/S)\n",
    "        \n",
    "       # alpha_bar = pre3 / (pre4 - pre5)\n",
    "    \n",
    "        D = deltas[i]/(S0[i]+S1[i]+deltas[i])\n",
    "    \n",
    "        T1 = E*alpha[i]\n",
    "    \n",
    "        T2 = (1-E)*(1-D)*alpha[i]\n",
    "    \n",
    "        T3 = (1-E)*(D)*alpha_bar\n",
    "    \n",
    "        new_alpha = T1+T2+T3\n",
    "    \n",
    "        print(\"D = \", D)\n",
    "        print(\"alpha_bar = \", alpha_bar)\n",
    "        print(\"alpha[i] =\", alpha[i], \"| new_alpha = \", new_alpha)\n",
    "        # print(\"alpha = \", alpha)\n",
    "        print(\"deltas =\", deltas[i], \" | deltaq1 = \", deltaq1)\n",
    "        print(\"s[i] =\" , s[i])\n",
    "        print(\"____________________________\")\n",
    "    \n",
    "    # Update operations\n",
    "    Q1.append(Q1[i] + deltaq1)\n",
    "    S1.append(S1[i] + deltas[i])\n",
    "    S0.append(S0[i])\n",
    "    s1.append(s1[i] + deltas[i])\n",
    "    s.append(s[i] - deltas[i])\n",
    "    q1.append(deltaq1)\n",
    "    alpha.append(new_alpha)\n",
    "    "
   ]
  },
  {
   "cell_type": "markdown",
   "metadata": {},
   "source": [
    "### Component Tests  - June 17"
   ]
  },
  {
   "cell_type": "code",
   "execution_count": 9,
   "metadata": {},
   "outputs": [],
   "source": [
    "# Set state variables\n",
    "C = 7000\n",
    "R = 3000\n",
    "\n",
    "Q1 = 300\n",
    "S = 1000\n",
    "S1 = 500\n",
    "S0 = 200\n",
    "\n",
    "q1 = 10\n",
    "s1 = 13\n",
    "\n",
    "delta_s = 5"
   ]
  },
  {
   "cell_type": "code",
   "execution_count": 10,
   "metadata": {},
   "outputs": [
    {
     "name": "stdout",
     "output_type": "stream",
     "text": [
      "delta_q =  0.7490648364513186\n"
     ]
    }
   ],
   "source": [
    "# Calculate delta q\n",
    "import math\n",
    "\n",
    "delta_q = Q1*(math.sqrt(1+(delta_s/S))-1)\n",
    "print(\"delta_q = \", delta_q)"
   ]
  },
  {
   "cell_type": "code",
   "execution_count": 13,
   "metadata": {},
   "outputs": [
    {
     "name": "stdout",
     "output_type": "stream",
     "text": [
      "B1 =  48.82525756790532\n"
     ]
    }
   ],
   "source": [
    "# Calculate B1 (using S1+delta_s)\n",
    "attest_prop_after = (q1+delta_q)/(Q1+delta_q)\n",
    "supply_prop_after = (S1+delta_s)/S\n",
    "attest_supply_before = (q1/Q1)*(S1/S)\n",
    "\n",
    "B1 = (C+R)*((attest_prop_after * supply_prop_after) - attest_supply_before) + (C)*(delta_s/S)\n",
    "print(\"B1 = \", B1)"
   ]
  },
  {
   "cell_type": "code",
   "execution_count": 14,
   "metadata": {},
   "outputs": [
    {
     "name": "stdout",
     "output_type": "stream",
     "text": [
      "B2 =  37.10004218393854\n"
     ]
    }
   ],
   "source": [
    "# Calculate B2 (using s1+delta_s)\n",
    "attest_prop_after = (q1+delta_q)/(Q1+delta_q)\n",
    "supply_prop_after = (s1+delta_s)/S\n",
    "attest_supply_before = (q1/Q1)*(s1/S)\n",
    "\n",
    "B2 = (C+R)*((attest_prop_after * supply_prop_after) - attest_supply_before) + (C)*(delta_s/S)\n",
    "print(\"B2 = \", B2)"
   ]
  },
  {
   "cell_type": "code",
   "execution_count": 16,
   "metadata": {},
   "outputs": [
    {
     "name": "stdout",
     "output_type": "stream",
     "text": [
      "alpha_bar_1 =  0.30721804138233705\n"
     ]
    }
   ],
   "source": [
    "# Calculate alpha_bar_1\n",
    "\n",
    "alpha_bar_1 = (delta_s/S)*(R/B1)\n",
    "print(\"alpha_bar_1 = \", alpha_bar_1)"
   ]
  },
  {
   "cell_type": "code",
   "execution_count": 17,
   "metadata": {},
   "outputs": [
    {
     "name": "stdout",
     "output_type": "stream",
     "text": [
      "alpha_bar_2 =  0.40431220874713303\n"
     ]
    }
   ],
   "source": [
    "# Calculate alpha_bar_2\n",
    "\n",
    "alpha_bar_2 = (delta_s/S)*(R/B2)\n",
    "print(\"alpha_bar_2 = \", alpha_bar_2)"
   ]
  },
  {
   "cell_type": "markdown",
   "metadata": {},
   "source": [
    "#### Trial 2: With using s1+delta_s & attest_prop_after = (q1+delta_q)/(Q)"
   ]
  },
  {
   "cell_type": "code",
   "execution_count": 19,
   "metadata": {},
   "outputs": [
    {
     "name": "stdout",
     "output_type": "stream",
     "text": [
      "B3 =  35.50374584306976\n"
     ]
    }
   ],
   "source": [
    "#Calculate B3 w/ s1+delta_s & attest_prop_after = (q1+delta_q)/(Q)\n",
    "Q = 300+100\n",
    "\n",
    "attest_prop_after = (q1+delta_q)/(Q)\n",
    "supply_prop_after = (s1+delta_s)/S\n",
    "attest_supply_before = (q1/Q1)*(s1/S)\n",
    "\n",
    "B3 = (C+R)*((attest_prop_after * supply_prop_after) - attest_supply_before) + (C)*(delta_s/S)\n",
    "print(\"B3 = \", B3)"
   ]
  },
  {
   "cell_type": "code",
   "execution_count": 20,
   "metadata": {},
   "outputs": [
    {
     "name": "stdout",
     "output_type": "stream",
     "text": [
      "alpha_bar_3 =  0.422490631447779\n"
     ]
    }
   ],
   "source": [
    "# Calculate alpha_bar_3\n",
    "\n",
    "alpha_bar_3 = (delta_s/S)*(R/B3)\n",
    "print(\"alpha_bar_3 = \", alpha_bar_3)"
   ]
  },
  {
   "cell_type": "markdown",
   "metadata": {},
   "source": [
    "**B should be 30 for alpha_bar to be 0.5**"
   ]
  },
  {
   "cell_type": "code",
   "execution_count": 21,
   "metadata": {},
   "outputs": [
    {
     "name": "stdout",
     "output_type": "stream",
     "text": [
      "alpha_bar_4 =  0.5\n"
     ]
    }
   ],
   "source": [
    "B4 = 30\n",
    "\n",
    "# Calculate alpha_bar_4\n",
    "\n",
    "alpha_bar_4 = (delta_s/S)*(R/B4)\n",
    "print(\"alpha_bar_4 = \", alpha_bar_4)"
   ]
  },
  {
   "cell_type": "markdown",
   "metadata": {},
   "source": [
    "#### Trial 3: With attest_prop_after = (Q1+delta_q)/(Q) & supply_prop_after = (S1+delta_s)/S & attest_supply_before = (Q1/Q)*(S1/S)"
   ]
  },
  {
   "cell_type": "code",
   "execution_count": 33,
   "metadata": {},
   "outputs": [
    {
     "name": "stdout",
     "output_type": "stream",
     "text": [
      "B4 =  81.95694356019797\n"
     ]
    }
   ],
   "source": [
    "#Calculate B4 w/ attest_prop_after = (Q1+delta_q)/(Q) and supply_prop_after = (S1+delta_s)/S and attest_supply_before = (Q1/Q)*(S1/S)\n",
    "Q = 300+100\n",
    "\n",
    "attest_prop_after = (Q1+delta_q)/(Q)\n",
    "supply_prop_after = (S1+delta_s)/S\n",
    "attest_supply_before = (Q1/Q)*(S1/S)\n",
    "\n",
    "B4 = (C+R)*((attest_prop_after * supply_prop_after) - attest_supply_before) + (C)*(delta_s/S)\n",
    "print(\"B4 = \", B4)"
   ]
  },
  {
   "cell_type": "markdown",
   "metadata": {},
   "source": [
    "#### Trial 4: With attest_prop_after = (q1+delta_q)/(Q) & supply_prop_after = (S1+delta_s)/S & attest_supply_before = (q1/Q1)(S1/S)"
   ]
  },
  {
   "cell_type": "code",
   "execution_count": 32,
   "metadata": {},
   "outputs": [
    {
     "name": "stdout",
     "output_type": "stream",
     "text": [
      "B5 =  45.706943560197885\n"
     ]
    }
   ],
   "source": [
    "# Calculate B5 w/ attest_prop_after = (q1+delta_q)/(Q) & supply_prop_after = (S1+delta_s)/S & attest_supply_before = (q1/Q)(S1/S)\n",
    "\n",
    "Q = 300+100\n",
    "\n",
    "attest_prop_after = (q1+delta_q)/(Q)\n",
    "supply_prop_after = (S1+delta_s)/S\n",
    "attest_supply_before = (q1/Q)*(S1/S)\n",
    "\n",
    "B5 = (C+R)*((attest_prop_after * supply_prop_after) - attest_supply_before) + (C)*(delta_s/S)\n",
    "print(\"B5 = \", B5)\n"
   ]
  },
  {
   "cell_type": "code",
   "execution_count": 36,
   "metadata": {},
   "outputs": [
    {
     "name": "stdout",
     "output_type": "stream",
     "text": [
      "B6 =  35.50374584306976\n"
     ]
    }
   ],
   "source": [
    "# Calculate B6 w/ attest_prop_after = (q1+delta_q)/(Q) & supply_prop_after = (s1+delta_s)/S & attest_supply_before = (q1/Q)(s1/S)\n",
    "\n",
    "Q = 300+100\n",
    "\n",
    "attest_prop_after = (q1+delta_q)/(Q)\n",
    "supply_prop_after = (s1+delta_s)/S\n",
    "attest_supply_before = (q1/Q1)*(s1/S)\n",
    "\n",
    "B6 = (C+R)*((attest_prop_after * supply_prop_after) - attest_supply_before) + (C)*(delta_s/S)\n",
    "print(\"B6 = \", B6)"
   ]
  },
  {
   "cell_type": "code",
   "execution_count": 48,
   "metadata": {},
   "outputs": [
    {
     "name": "stdout",
     "output_type": "stream",
     "text": [
      "alpha_bar =  0.422490631447779\n"
     ]
    }
   ],
   "source": [
    "# Compute alpha bar\n",
    "\n",
    "alpha_bar = (delta_s/S)*(R/B6)\n",
    "print(\"alpha_bar = \", alpha_bar)"
   ]
  },
  {
   "cell_type": "markdown",
   "metadata": {},
   "source": [
    "### Component Tests - June 18"
   ]
  },
  {
   "cell_type": "markdown",
   "metadata": {},
   "source": [
    "#### Compute $\\bar\\alpha$, single iteration"
   ]
  },
  {
   "cell_type": "code",
   "execution_count": 1,
   "metadata": {},
   "outputs": [],
   "source": [
    "# Set state variables\n",
    "C = 7000\n",
    "R = 3000\n",
    "\n",
    "Q1 = 300\n",
    "S = 1000\n",
    "S1 = 500\n",
    "S0 = 200\n",
    "\n",
    "q1 = 10\n",
    "s1 = 13\n",
    "\n",
    "delta_s = 5"
   ]
  },
  {
   "cell_type": "code",
   "execution_count": 2,
   "metadata": {},
   "outputs": [
    {
     "name": "stdout",
     "output_type": "stream",
     "text": [
      "delta_q =  0.7490648364513186\n"
     ]
    }
   ],
   "source": [
    "# Calculate delta q\n",
    "import math\n",
    "\n",
    "delta_q = Q1*(math.sqrt(1+(delta_s/S))-1)\n",
    "print(\"delta_q = \", delta_q)"
   ]
  },
  {
   "cell_type": "code",
   "execution_count": 3,
   "metadata": {},
   "outputs": [
    {
     "name": "stdout",
     "output_type": "stream",
     "text": [
      "B1 =  48.82525756790532\n"
     ]
    }
   ],
   "source": [
    "# Calculate B1 \n",
    "\n",
    "attest_prop_after = (q1+delta_q)/(Q1+delta_q)\n",
    "supply_prop_after = (S1+delta_s)/S\n",
    "attest_supply_before = (q1/Q1)*(S1/S)\n",
    "\n",
    "B1 = (C+R)*((attest_prop_after * supply_prop_after) - attest_supply_before) + (C)*(delta_s/S)\n",
    "\n",
    "print(\"B1 = \", B1)"
   ]
  },
  {
   "cell_type": "code",
   "execution_count": 4,
   "metadata": {},
   "outputs": [
    {
     "name": "stdout",
     "output_type": "stream",
     "text": [
      "alpha_bar =  0.30721804138233705\n"
     ]
    }
   ],
   "source": [
    "# Compute alpha_bar\n",
    "\n",
    "alpha_bar = (delta_s/S)*(R/B1)\n",
    "print(\"alpha_bar = \", alpha_bar)"
   ]
  },
  {
   "cell_type": "code",
   "execution_count": 10,
   "metadata": {},
   "outputs": [
    {
     "name": "stdout",
     "output_type": "stream",
     "text": [
      "new_alpha =  0.49924801363659776\n"
     ]
    }
   ],
   "source": [
    "# Compute alpha_t+1\n",
    "\n",
    "E = 0.45\n",
    "alpha = 0.5\n",
    "\n",
    "D = delta_s/(S0+S1+delta_s)\n",
    "    \n",
    "T1 = E*alpha\n",
    "    \n",
    "T2 = (1-E)*(1-D)*alpha\n",
    "    \n",
    "T3 = (1-E)*(D)*alpha_bar\n",
    "    \n",
    "new_alpha = T1+T2+T3\n",
    "\n",
    "print(\"new_alpha = \", new_alpha)"
   ]
  },
  {
   "cell_type": "markdown",
   "metadata": {},
   "source": [
    "#### Compute $\\bar\\alpha$, multiple iterations & updates"
   ]
  },
  {
   "cell_type": "code",
   "execution_count": 25,
   "metadata": {},
   "outputs": [],
   "source": [
    "# Set state variables\n",
    "C = 7000\n",
    "R = 3000\n",
    "\n",
    "Q1 = [300]\n",
    "S = [1000]\n",
    "S1 = [500]\n",
    "S0 = [200]\n",
    "\n",
    "q1 = [10]\n",
    "s1 = [13]\n",
    "\n",
    "s = [50]\n",
    "\n",
    "alpha = [0.5]\n",
    "\n",
    "delta_s = [5, 6, 5, 1, 3, 2]"
   ]
  },
  {
   "cell_type": "code",
   "execution_count": 26,
   "metadata": {},
   "outputs": [
    {
     "name": "stdout",
     "output_type": "stream",
     "text": [
      "0\n",
      "delta_q =  0.7490648364513186\n",
      "1\n"
     ]
    },
    {
     "ename": "IndexError",
     "evalue": "list index out of range",
     "output_type": "error",
     "traceback": [
      "\u001b[0;31m---------------------------------------------------------------------------\u001b[0m",
      "\u001b[0;31mIndexError\u001b[0m                                Traceback (most recent call last)",
      "\u001b[0;32m<ipython-input-26-82f8f89b2910>\u001b[0m in \u001b[0;36m<module>\u001b[0;34m\u001b[0m\n\u001b[1;32m      5\u001b[0m     \u001b[0mprint\u001b[0m\u001b[0;34m(\u001b[0m\u001b[0mi\u001b[0m\u001b[0;34m)\u001b[0m\u001b[0;34m\u001b[0m\u001b[0;34m\u001b[0m\u001b[0m\n\u001b[1;32m      6\u001b[0m     \u001b[0;31m# Calculate delta q\u001b[0m\u001b[0;34m\u001b[0m\u001b[0;34m\u001b[0m\u001b[0;34m\u001b[0m\u001b[0m\n\u001b[0;32m----> 7\u001b[0;31m     \u001b[0mA\u001b[0m \u001b[0;34m=\u001b[0m \u001b[0mmath\u001b[0m\u001b[0;34m.\u001b[0m\u001b[0msqrt\u001b[0m\u001b[0;34m(\u001b[0m\u001b[0;36m1\u001b[0m\u001b[0;34m+\u001b[0m\u001b[0;34m(\u001b[0m\u001b[0mdelta_s\u001b[0m\u001b[0;34m[\u001b[0m\u001b[0mi\u001b[0m\u001b[0;34m]\u001b[0m\u001b[0;34m/\u001b[0m\u001b[0mS\u001b[0m\u001b[0;34m[\u001b[0m\u001b[0mi\u001b[0m\u001b[0;34m]\u001b[0m\u001b[0;34m)\u001b[0m\u001b[0;34m)\u001b[0m\u001b[0;34m\u001b[0m\u001b[0;34m\u001b[0m\u001b[0m\n\u001b[0m\u001b[1;32m      8\u001b[0m     \u001b[0mdelta_q\u001b[0m \u001b[0;34m=\u001b[0m \u001b[0mQ1\u001b[0m\u001b[0;34m[\u001b[0m\u001b[0mi\u001b[0m\u001b[0;34m]\u001b[0m\u001b[0;34m*\u001b[0m\u001b[0;34m(\u001b[0m\u001b[0mA\u001b[0m\u001b[0;34m-\u001b[0m\u001b[0;36m1\u001b[0m\u001b[0;34m)\u001b[0m\u001b[0;34m\u001b[0m\u001b[0;34m\u001b[0m\u001b[0m\n\u001b[1;32m      9\u001b[0m     \u001b[0mprint\u001b[0m\u001b[0;34m(\u001b[0m\u001b[0;34m\"delta_q = \"\u001b[0m\u001b[0;34m,\u001b[0m \u001b[0mdelta_q\u001b[0m\u001b[0;34m)\u001b[0m\u001b[0;34m\u001b[0m\u001b[0;34m\u001b[0m\u001b[0m\n",
      "\u001b[0;31mIndexError\u001b[0m: list index out of range"
     ]
    }
   ],
   "source": [
    "import math\n",
    "\n",
    "for i in range(len(delta_s)): \n",
    "    \n",
    "    print(i)\n",
    "    # Calculate delta q\n",
    "    A = math.sqrt(1+(delta_s[i]/S[i]))\n",
    "    delta_q = Q1[i]*(A-1)\n",
    "    print(\"delta_q = \", delta_q)"
   ]
  },
  {
   "cell_type": "code",
   "execution_count": 30,
   "metadata": {},
   "outputs": [
    {
     "name": "stdout",
     "output_type": "stream",
     "text": [
      "-------------------- 0 ---------------------\n",
      "delta_q =  0.7490648364513186\n",
      "B1 =  48.82525756790532\n",
      "alpha_bar =  0.30721804138233705\n",
      "new_alpha =  0.49924801363659776\n",
      "-------------------- 1 ---------------------\n",
      "delta_q =  0.9054181994856562\n",
      "B1 =  59.23012810069612\n",
      "alpha_bar =  0.3054265260164771\n",
      "new_alpha =  0.4983484202341415\n",
      "-------------------- 2 ---------------------\n",
      "delta_q =  0.7615626435088391\n",
      "B1 =  49.973664537975864\n",
      "alpha_bar =  0.30349655818280225\n",
      "new_alpha =  0.49760003668576\n",
      "-------------------- 3 ---------------------\n",
      "delta_q =  0.15362766836940397\n",
      "B1 =  10.08924783928661\n",
      "alpha_bar =  0.30218114733322393\n",
      "new_alpha =  0.4974501337720308\n",
      "-------------------- 4 ---------------------\n",
      "delta_q =  0.46135173938293506\n",
      "B1 =  30.350134160776534\n",
      "alpha_bar =  0.3016673973560601\n",
      "new_alpha =  0.49700146500107756\n",
      "-------------------- 5 ---------------------\n",
      "delta_q =  0.3090577295748399\n",
      "B1 =  20.356871673421104\n",
      "alpha_bar =  0.3007558861603277\n",
      "new_alpha =  0.4967024758920405\n"
     ]
    }
   ],
   "source": [
    "import math\n",
    "\n",
    "for i in range(len(delta_s)): \n",
    "    \n",
    "    print(\"--------------------\", i, \"---------------------\")\n",
    "    \n",
    "    # Calculate delta q\n",
    "    A = math.sqrt(1+(delta_s[i]/S[i]))\n",
    "    delta_q = Q1[i]*(A-1)\n",
    "    print(\"delta_q = \", delta_q)\n",
    "    \n",
    "    # Calculate B1 \n",
    "    attest_prop_after = (q1[i]+delta_q)/(Q1[i]+delta_q)\n",
    "    supply_prop_after = (S1[i]+delta_s[i])/S[i]\n",
    "    attest_supply_before = (q1[i]/Q1[i])*(S1[i]/S[i])\n",
    "\n",
    "    B1 = (C+R)*((attest_prop_after * supply_prop_after) - attest_supply_before) + (C)*(delta_s[i]/S[i])\n",
    "\n",
    "    print(\"B1 = \", B1)\n",
    "    \n",
    "    # Compute alpha_bar\n",
    "\n",
    "    alpha_bar = (delta_s[i]/S[i])*(R/B1)\n",
    "    print(\"alpha_bar = \", alpha_bar)\n",
    "    \n",
    "    # Compute alpha_t+1\n",
    "\n",
    "    E = 0.45\n",
    "\n",
    "    D = delta_s[i]/(S0[i]+S1[i]+delta_s[i])\n",
    "    \n",
    "    T1 = E*alpha[i]\n",
    "    T2 = (1-E)*(1-D)*alpha[i]  \n",
    "    T3 = (1-E)*(D)*alpha_bar\n",
    "    \n",
    "    new_alpha = T1+T2+T3\n",
    "\n",
    "    print(\"new_alpha = \", new_alpha)\n",
    "    \n",
    "    # Update state variables\n",
    "    Q1.append(Q1[i]+delta_q)\n",
    "    S.append(S[i]-delta_s[i])\n",
    "    S1.append(S1[i]+delta_s[i])\n",
    "    S0.append(S0[i])\n",
    "    q1.append(q1[i]+delta_q)\n",
    "    s1.append(s1[i]+delta_s[i])\n",
    "    s.append(s[i]-delta_s[i])\n",
    "    alpha.append(new_alpha)"
   ]
  }
 ],
 "metadata": {
  "kernelspec": {
   "display_name": "Python 3",
   "language": "python",
   "name": "python3"
  },
  "language_info": {
   "codemirror_mode": {
    "name": "ipython",
    "version": 3
   },
   "file_extension": ".py",
   "mimetype": "text/x-python",
   "name": "python",
   "nbconvert_exporter": "python",
   "pygments_lexer": "ipython3",
   "version": "3.7.4"
  }
 },
 "nbformat": 4,
 "nbformat_minor": 4
}
