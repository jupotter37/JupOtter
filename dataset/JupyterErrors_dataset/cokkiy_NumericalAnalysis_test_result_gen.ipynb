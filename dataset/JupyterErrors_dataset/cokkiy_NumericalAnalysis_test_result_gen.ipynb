{
 "cells": [
  {
   "cell_type": "code",
   "execution_count": 2,
   "metadata": {},
   "outputs": [
    {
     "ename": "KeyError",
     "evalue": "'y'",
     "output_type": "error",
     "traceback": [
      "\u001b[0;31m---------------------------------------------------------------------------\u001b[0m",
      "\u001b[0;31mKeyError\u001b[0m                                  Traceback (most recent call last)",
      "Cell \u001b[0;32mIn[2], line 3\u001b[0m\n\u001b[1;32m      1\u001b[0m \u001b[38;5;28;01mfor\u001b[39;00m x \u001b[38;5;129;01min\u001b[39;00m [\u001b[38;5;241m1.0\u001b[39m,\u001b[38;5;241m2.0\u001b[39m,\u001b[38;5;241m3.0\u001b[39m, \u001b[38;5;241m4.0\u001b[39m, \u001b[38;5;241m5.0\u001b[39m, \u001b[38;5;241m6.0\u001b[39m, \u001b[38;5;241m7.0\u001b[39m, \u001b[38;5;241m8.\u001b[39m, \u001b[38;5;241m9.0\u001b[39m, \u001b[38;5;241m10.0\u001b[39m, \u001b[38;5;241m11.0\u001b[39m, \u001b[38;5;241m12.\u001b[39m, \u001b[38;5;241m13.0\u001b[39m, \u001b[38;5;241m14.0\u001b[39m, \u001b[38;5;241m15.0\u001b[39m, \u001b[38;5;241m16.0\u001b[39m]:\n\u001b[1;32m      2\u001b[0m     y\u001b[38;5;241m=\u001b[39m\u001b[38;5;241m1.0\u001b[39m\u001b[38;5;241m+\u001b[39m\u001b[38;5;241m2.0\u001b[39m\u001b[38;5;241m*\u001b[39mx\u001b[38;5;241m+\u001b[39m\u001b[38;5;241m3.0\u001b[39m\u001b[38;5;241m*\u001b[39mx\u001b[38;5;241m*\u001b[39m\u001b[38;5;241m*\u001b[39m\u001b[38;5;241m2\u001b[39m\u001b[38;5;241m+\u001b[39m\u001b[38;5;241m4.0\u001b[39m\u001b[38;5;241m*\u001b[39mx\u001b[38;5;241m*\u001b[39m\u001b[38;5;241m*\u001b[39m\u001b[38;5;241m3\u001b[39m\n\u001b[0;32m----> 3\u001b[0m     \u001b[38;5;28mprint\u001b[39m(\u001b[38;5;124;43m\"\u001b[39;49m\u001b[38;5;132;43;01m{y}\u001b[39;49;00m\u001b[38;5;124;43m,\u001b[39;49m\u001b[38;5;124;43m\"\u001b[39;49m\u001b[38;5;241;43m.\u001b[39;49m\u001b[43mformat\u001b[49m\u001b[43m(\u001b[49m\u001b[43my\u001b[49m\u001b[43m)\u001b[49m)\n",
      "\u001b[0;31mKeyError\u001b[0m: 'y'"
     ]
    }
   ],
   "source": [
    "for x in [1.0,2.0,3.0, 4.0, 5.0, 6.0, 7.0, 8., 9.0, 10.0, 11.0, 12., 13.0, 14.0, 15.0, 16.0]:\n",
    "    y=1.0+2.0*x+3.0*x**2+4.0*x**3\n",
    "    print(\"{y},\".format(y=y))"
   ]
  },
  {
   "cell_type": "code",
   "execution_count": null,
   "metadata": {},
   "outputs": [],
   "source": [
    "for x in [        3.0, 4.0, 5.0, 6.0, 7.0, 8., 9.0, 10.0, 11.0, 12., 13.0, 14.0, 15.0, 16.0, 17.0, 18., ]:\n",
    "    y=1.0+(x-3.0)*(2.0+(x-4.0)*(3.0+4.0*(x-5.0)))\n",
    "    print(y)"
   ]
  },
  {
   "cell_type": "code",
   "execution_count": null,
   "metadata": {},
   "outputs": [],
   "source": [
    "for x in [3.0, 4.0, 5.0, 6.0, 7.0, 8., 9.0, 10.0, 11.0, 12., 13.0, 14.0, 15.0, 16.0, 17.0, 18., ]:\n",
    "    y=1.0+(x-3.0)*(2.0+(x)*(3.0+5.0*(x)))\n",
    "    print(\"{y},\".format(y=y))"
   ]
  },
  {
   "cell_type": "code",
   "execution_count": null,
   "metadata": {},
   "outputs": [],
   "source": [
    "for x in [1.0,2.0,3.0,4.0,5.0,6.0,7.0,8.0]:\n",
    "    y=1.0+x*(2.0)\n",
    "    print(\"{y},\".format(y=y))"
   ]
  },
  {
   "cell_type": "code",
   "execution_count": null,
   "metadata": {},
   "outputs": [],
   "source": [
    "for x in [1.0,2.0,3.0,4.0,5.0,6.0,7.0,8.0]:\n",
    "    y=1.0+x*(2.0)+x*x*3.0\n",
    "    print(\"{y},\".format(y=y))"
   ]
  },
  {
   "cell_type": "code",
   "execution_count": null,
   "metadata": {},
   "outputs": [],
   "source": [
    "for x in [3.0, 4.0, 5.0, 6.0, 7.0, 8.0, 9.0, 10.0, 11., 12., 13., 14., 15.0, 16.0, 17.0, 20.0,]:\n",
    "    y=1.0+2.0*x+3.0*x*x+4.0*x*x*x+5.0*x*x*x*x\n",
    "    print(\"{y},\".format(y=y))"
   ]
  },
  {
   "cell_type": "code",
   "execution_count": null,
   "metadata": {},
   "outputs": [],
   "source": [
    "for x in [1.0,2.0,3.0, 4.0, 5.0, 6.0, 7.0, 8.0, 9.0, 10.0, 11., 12., 13., 14., 15.0, 16.0]:\n",
    "    y=1.0+(x-3.0)*(2.0+(x-4.0)*(3.0+(x-5.0)*(4+5.0*x)))\n",
    "    print(\"{y},\".format(y=y))"
   ]
  },
  {
   "cell_type": "code",
   "execution_count": 6,
   "metadata": {},
   "outputs": [
    {
     "name": "stdout",
     "output_type": "stream",
     "text": [
      "1.0,\n",
      "3.0,\n",
      "11.0,\n",
      "49.0,\n",
      "261.0,\n",
      "911.0,\n",
      "2383.0,\n",
      "5181.0,\n",
      "9929.0,\n",
      "17371.0,\n",
      "28371.0,\n",
      "43913.0,\n",
      "65101.0,\n",
      "93159.0,\n",
      "129431.0,\n",
      "175381.0,\n"
     ]
    }
   ],
   "source": [
    "for x in [3.0, 4.0, 5.0, 6.0, 7.0, 8.0, 9.0, 10.0, 11., 12., 13., 14., 15.0, 16.0,17.0,18.0]:\n",
    "    y=1.0+(x-3.0)*(2.0+(x-4.0)*(3.0+(x-5.0)*(4+5.0*(x-6.0))))\n",
    "    print(\"{y},\".format(y=y))"
   ]
  }
 ],
 "metadata": {
  "kernelspec": {
   "display_name": "myenv",
   "language": "python",
   "name": "python3"
  },
  "language_info": {
   "codemirror_mode": {
    "name": "ipython",
    "version": 3
   },
   "file_extension": ".py",
   "mimetype": "text/x-python",
   "name": "python",
   "nbconvert_exporter": "python",
   "pygments_lexer": "ipython3",
   "version": "3.11.6"
  }
 },
 "nbformat": 4,
 "nbformat_minor": 2
}
