{
 "cells": [
  {
   "cell_type": "markdown",
   "metadata": {},
   "source": [
    "# Introduction to Linear Algebra "
   ]
  },
  {
   "cell_type": "markdown",
   "metadata": {},
   "source": [
    "## Matrices"
   ]
  },
  {
   "cell_type": "markdown",
   "metadata": {},
   "source": [
    "### Conventions of Representation "
   ]
  },
  {
   "cell_type": "markdown",
   "metadata": {},
   "source": [
    "In the last chapter, we introduced a convention of representing vectors as an ordered, vertical arrangement of numbers within square brackets."
   ]
  },
  {
   "cell_type": "markdown",
   "metadata": {},
   "source": [
    "$$\\vec{a}=\\begin{bmatrix} 3\\\\4\\end{bmatrix}; \\quad \n",
    "\\vec{b}=\\begin{bmatrix} 2\\\\-1\\end{bmatrix}; \\quad \n",
    "\\vec{c}=\\begin{bmatrix} -3\\\\-3\\end{bmatrix}; \\quad \n",
    "\\vec{d}=\\begin{bmatrix} -2\\\\3\\end{bmatrix}; \\quad\n",
    "\\vec{e}=\\begin{bmatrix} 2\\\\3\\\\5\\end{bmatrix}\n",
    "$$"
   ]
  },
  {
   "cell_type": "markdown",
   "metadata": {},
   "source": [
    "This is part of a broader convention of orderly arranging numbers in a rectangular, table-like structure called a __matrix__. A variable containing a vector is represented with a small letter and an arrow above it. A variable containing a matrix is conventionally represented with a capital letter. For example, M is a matrix containing 12 numbers arranged in a particular way."
   ]
  },
  {
   "cell_type": "markdown",
   "metadata": {},
   "source": [
    "$$M=\\begin{bmatrix} 1 & 3 & -2 & 4\\\\2 & 3 & -1 & -1\\\\ -1 & 1 & 3 & 4\\end{bmatrix}$$"
   ]
  },
  {
   "cell_type": "markdown",
   "metadata": {},
   "source": [
    "As the table-like arrangement of numbers suggests, a matrix can be organised into rows and columns. This allows us to assess its size. The matrix $M$ has 3 rows and 4 columns, thus it is described as a $3\\times4$ matrix. The convention is to always start with the number of rows. "
   ]
  },
  {
   "cell_type": "markdown",
   "metadata": {},
   "source": [
    "$$M_{3\\times4}=\\underset{\\;\\\\\\mathbf{3 \\, rows \\, \\times \\, 4 \\, \\text{columns}}}{\\begin{bmatrix} 1 & 3 & -2 & 4\\\\2 & 3 & -1 & -1\\\\ -1 & 1 & 3 & 4\\end{bmatrix}}$$"
   ]
  },
  {
   "cell_type": "markdown",
   "metadata": {},
   "source": [
    "With this in mind, we can think of vectors as single column matrices. "
   ]
  },
  {
   "cell_type": "markdown",
   "metadata": {},
   "source": [
    "### Why a Matrix?"
   ]
  },
  {
   "cell_type": "markdown",
   "metadata": {},
   "source": [
    "There is not a single precise meaning associated with matrices. They are first and foremost a  mathematical structure uniquely arranging numbers. We can use numbers to count but also to measure.  We can use vectors to describe a direction and magnitude of a force but also features of some object we are trying to encode computationally. Consequently, we can use this rectangular arrangement of numbers for many things. We can, for example, concisely represent a system of linear equations, or conveniently represent any linear transformation of space. These specific uses, however, do not exhaust what this structure may ultimately facilitate. It is rather that we have found a way of using an ordered table of numbers to accomplish something more efficiently or to describe something in a way which ends up further illuminating it from a new perspective. When this happens, as it does in linear algebra, we tend to associate a specific meaning to mathematical objects such are matrices and forget that meaning is a matter of the perspective taken."
   ]
  },
  {
   "cell_type": "markdown",
   "metadata": {},
   "source": [
    "### Matrices in Linar Algebra"
   ]
  },
  {
   "cell_type": "markdown",
   "metadata": {},
   "source": [
    "#### Linear Transformation"
   ]
  },
  {
   "cell_type": "markdown",
   "metadata": {},
   "source": [
    "In linear algebra, matrices extend the idea of manipulating vectors in space, towards manipulating the space itself (including all the possible vectors in it). To explain this, we will use the idea of a __linear transformation__. We can think of a linear transformation as a function (with some properties), which can transform an input defined in terms of vectors into an output defined in terms of vectors."
   ]
  },
  {
   "cell_type": "markdown",
   "metadata": {},
   "source": [
    "<img src=\"img/linear-algebra18.png\" alt=\"drawing\" width=\"500\"/>"
   ]
  },
  {
   "cell_type": "markdown",
   "metadata": {},
   "source": [
    " In linear algebra, space itself is defined in terms of vectors. We can, for example, make a linear combination of any two linearly independent 2-D vectors to reach any point in 2-D space. Hence a linear transformation can transform a whole space into a different one."
   ]
  },
  {
   "cell_type": "markdown",
   "metadata": {},
   "source": [
    "What are the properties of a linear transformation? The most obvious one is the linearity. It is an aspect that mathematics defines formally, in terms of operations, without much regard to its spatial aspect. This leads to a multitude of possible geometric interpretations. Let's describe one: <br>\n",
    "Imagine a two-dimensional plane. The plane itself has no shape (you can think of it as an empty canvas), so to illustrate its principal two directions, we need some kind of a helping device. One such device is the coordinate axes. Another such device is a grid, subdividing the space with two sets of lines, parallel to the coordinate axes. The axes lay in the centre of this grid. A linear transformation of space implies that the coordinate centre remains fixed at $(0,0)$, and the the grid lines of the transformed space remain parallel to each other and equally spaced. "
   ]
  },
  {
   "cell_type": "markdown",
   "metadata": {},
   "source": [
    "<img src=\"img/linear-algebra19.png\" alt=\"drawing\" width=\"800\"/>"
   ]
  },
  {
   "cell_type": "markdown",
   "metadata": {},
   "source": [
    "#### Using Basis Vectors to Describe a Linear Transformation"
   ]
  },
  {
   "cell_type": "markdown",
   "metadata": {},
   "source": [
    "If the linearity is guaranteed, an easier and much more convenient way to describe what a linear transformation accomplishes is to track how it transforms its basis vectors. In the case of the 2-dimensional space, we start with the basis vectors $\\boldsymbol{\\hat{\\imath}}$ and $\\boldsymbol{\\hat{\\jmath}}$. A linear transformation transforms the space such that  $\\boldsymbol{\\hat{\\imath}}$ and $\\boldsymbol{\\hat{\\jmath}}$ (usually) end up at a new location in space in terms of the starting condition. We can call these transformed vectors $\\boldsymbol{\\hat{\\imath}}^{\\;new}$ and $\\boldsymbol{\\hat{\\jmath}}^{\\; new}$"
   ]
  },
  {
   "cell_type": "markdown",
   "metadata": {},
   "source": [
    "![SegmentLocal](img/linear-algebra20.gif \"segment\")"
   ]
  },
  {
   "cell_type": "markdown",
   "metadata": {},
   "source": [
    "Numerically expressing this linear transformation is easier than one might think. We simply need to capture the coordinates of the transformed basis vectors $\\boldsymbol{\\hat{\\imath}}^{\\;new}$ and $\\boldsymbol{\\hat{\\jmath}}^{\\; new}$ in terms of the original space and put them in a matrix! Since we have two vectors, our matrix will have 2 columns. The first vector corresponds to the first column (we count columns from left to right). Because our vectors are two-dimensional, our matrix will have 2 rows. The first spatial dimension starts at the top (we encode dimensions from the top towards the bottom)."
   ]
  },
  {
   "cell_type": "markdown",
   "metadata": {},
   "source": [
    "<img src=\"img/linear-algebra21.png\" alt=\"drawing\" width=\"800\"/>"
   ]
  },
  {
   "cell_type": "markdown",
   "metadata": {},
   "source": [
    "To capture the transformation described in the image above we define a matrix $M$ as follows:"
   ]
  },
  {
   "cell_type": "markdown",
   "metadata": {},
   "source": [
    "$$M=\\begin{bmatrix} -1&-2\\\\3&-1\\end{bmatrix}$$"
   ]
  },
  {
   "cell_type": "markdown",
   "metadata": {},
   "source": [
    "### Some Common Linear Transformations"
   ]
  },
  {
   "cell_type": "markdown",
   "metadata": {},
   "source": [
    "Some linear transformations are used very often, especially when applied in computer graphics. A good example is using matrices to rotate a space in a certain direction. "
   ]
  },
  {
   "cell_type": "markdown",
   "metadata": {},
   "source": [
    "#### Rotate 90 Degrees Clockwise"
   ]
  },
  {
   "cell_type": "markdown",
   "metadata": {},
   "source": [
    "<img src=\"img/linear-algebra22.png\" alt=\"drawing\" width=\"800\"/>"
   ]
  },
  {
   "cell_type": "markdown",
   "metadata": {},
   "source": [
    "$$M_{rotate 90+}=\\begin{bmatrix} 0&-1\\\\-1&0\\end{bmatrix}$$"
   ]
  },
  {
   "cell_type": "markdown",
   "metadata": {},
   "source": [
    "#### Rotate 90 Degrees Counter-clockwise"
   ]
  },
  {
   "cell_type": "markdown",
   "metadata": {},
   "source": [
    "<img src=\"img/linear-algebra23.png\" alt=\"drawing\" width=\"800\"/>"
   ]
  },
  {
   "cell_type": "markdown",
   "metadata": {},
   "source": [
    "$$M_{rotate 90-}=\\begin{bmatrix} 0&-1\\\\1&0\\end{bmatrix}$$"
   ]
  },
  {
   "cell_type": "markdown",
   "metadata": {},
   "source": [
    "#### Shear Transformation"
   ]
  },
  {
   "cell_type": "markdown",
   "metadata": {},
   "source": [
    "With this transformation, all the vector components in the direction of $\\boldsymbol{\\hat{\\imath}}$ remain unchanged, but the ones in the $\\boldsymbol{\\hat{\\jmath}}$ direction get pushed towards the $\\boldsymbol{\\hat{\\imath}}$. "
   ]
  },
  {
   "cell_type": "markdown",
   "metadata": {},
   "source": [
    "<img src=\"img/linear-algebra24.png\" alt=\"drawing\" width=\"800\"/>"
   ]
  },
  {
   "cell_type": "markdown",
   "metadata": {},
   "source": [
    "$$M_{shear}=\\begin{bmatrix} 1&1\\\\0&1\\end{bmatrix}$$"
   ]
  },
  {
   "cell_type": "markdown",
   "metadata": {},
   "source": [
    "#### Identity Matrix"
   ]
  },
  {
   "cell_type": "markdown",
   "metadata": {},
   "source": [
    "A transformation matrix that does not transform the space at all is a matrix whose columns contain the basis vectors. This idea might sound not that useful, yet such a matrix is extremely important in mathematics. Its name is an __identity matrix__, and it is usually symbolised with the capital $I$. An identity matrix serves a similar purpose that the number one does in arithmetics. Multiplying any number by one also does not change the number. "
   ]
  },
  {
   "cell_type": "markdown",
   "metadata": {},
   "source": [
    "<img src=\"img/linear-algebra25.png\" alt=\"drawing\" width=\"800\"/>"
   ]
  },
  {
   "cell_type": "markdown",
   "metadata": {},
   "source": [
    "$$I=\\begin{bmatrix} 1&0\\\\0&1\\end{bmatrix}$$"
   ]
  },
  {
   "cell_type": "markdown",
   "metadata": {},
   "source": [
    "In the case of three dimensions, an identity matrix would be contain 3 vectors of 3 dimensions:"
   ]
  },
  {
   "cell_type": "markdown",
   "metadata": {},
   "source": [
    "$$I_{3}=\\begin{bmatrix} 1&0&0 \\\\ 0&1&0 \\\\ 0&0&1 \\end{bmatrix}$$"
   ]
  },
  {
   "cell_type": "markdown",
   "metadata": {},
   "source": [
    "Notice an important feature that in both cases, the diagonal elements are ones, and all the rest are zeros."
   ]
  },
  {
   "cell_type": "markdown",
   "metadata": {},
   "source": [
    "### Elementary Matrix Operations"
   ]
  },
  {
   "cell_type": "markdown",
   "metadata": {},
   "source": [
    "#### How a Linear Transformation Affects an Arbitary Vector"
   ]
  },
  {
   "cell_type": "markdown",
   "metadata": {},
   "source": [
    "Let us return to the transformation matrix $M$, we have created, described as:\n",
    "$$M=\\begin{bmatrix} 0&-3\\\\4&-1\\end{bmatrix}$$"
   ]
  },
  {
   "cell_type": "markdown",
   "metadata": {},
   "source": [
    "The matrix $M$ is sufficient to compute where any vector of the original space will land in the transformed space. The process is illustrated in the image below. (Fig. 1) We start in the space defined by the basis vectors $\\boldsymbol{\\hat{\\imath}}$ and $\\boldsymbol{\\hat{\\jmath}}$. The vector $\\vec{p}$ is an arbitrary vector in this space whose coordinates are $-0.5$ and $1.5$. We can describe $\\vec{p}$ as a linear combination of the basis vectors: $\\vec{p}=-0.5\\boldsymbol{\\hat{\\imath}}-1.5\\boldsymbol{\\hat{\\jmath}}$."
   ]
  },
  {
   "cell_type": "markdown",
   "metadata": {},
   "source": [
    "Now we transform the space. To define the transformation we change the direction and orientation of the basis vectors. We end up with new vectors $\\boldsymbol{\\hat{\\imath}}^{\\;new}$ and $\\boldsymbol{\\hat{\\jmath}}^{\\; new}$. To encode this transformation in a matrix $M$, we capture vector's new coordinates: $\\boldsymbol{\\hat{\\imath}}^{\\;new}$ has coordinates $-1$ and $3$; $\\boldsymbol{\\hat{\\jmath}}^{\\;new}$ has coordinates $-2$ and $-1$. (Fig. 2)"
   ]
  },
  {
   "cell_type": "markdown",
   "metadata": {},
   "source": [
    "<img src=\"img/linear-algebra26.png\" alt=\"drawing\" width=\"800\"/>"
   ]
  },
  {
   "cell_type": "markdown",
   "metadata": {},
   "source": [
    "To compute where the vector $\\vec{p}$ lands in the transformed space, we multiply $\\vec{p}$'s first coordinate $-0.5$ with the first column of the transformation matrix $M$, and the $\\vec{p}$'s second coordinate $-1.5$ with the second column. This gives us the vector $\\vec{p}^{\\;new}$ whose coordinates in terms of the old space are $3.5$ and $0$ (Fig. 3) Once we remove the old space and its basis vectors from the picture, we are left with new basis vectors $\\boldsymbol{\\hat{\\imath}}^{\\;new}$, $\\boldsymbol{\\hat{\\jmath}}^{\\;new}$ and the vector $\\vec{p}^{\\;new}$. (Fig. 4) If we represent the vector $\\vec{p}^{\\;new}$ as a linear combination of $\\boldsymbol{\\hat{\\imath}}^{\\;new}$ and $\\boldsymbol{\\hat{\\jmath}}^{\\;new}$ we notice something very interesting. The linear combination is parametrised by the same scalars $-0.5$ and $-1.5$ just like in the space we started! (Fig. 1) Vectors $\\vec{p}$'s coordinates are still $-0.5$ and $-1.5$, only in terms of the new basis vectors (In terms of the old basis vectors, its coordinates are $3.5$ and $0$). The consequence of linearity of the transformation is that as we transform the space, the basis vectors of the space change, but the scalars parametrising every vector in this space remain constant."
   ]
  },
  {
   "cell_type": "markdown",
   "metadata": {},
   "source": [
    "<img src=\"img/linear-algebra27.png\" alt=\"drawing\" width=\"800\"/>"
   ]
  },
  {
   "cell_type": "markdown",
   "metadata": {},
   "source": [
    "#### Multiplying a Vector by a Matrix"
   ]
  },
  {
   "cell_type": "markdown",
   "metadata": {},
   "source": [
    "The calculation we performed to find the landing coordinates of $\\vec{p}^{\\;new}$ was, in fact, the same as __multiplying__ a vectory $\\vec{p}$ by a matrix $M$. To correctly perform the calculation, the transformation matrix needs to be on the left of the vector that it multiplies. What we did can be described algebraically as following:"
   ]
  },
  {
   "cell_type": "markdown",
   "metadata": {},
   "source": [
    "\\begin{align}\n",
    "\\vec{p}^{\\;new}&=M \\times \\vec{p} \\\\\\\\\n",
    "\\vec{p}^{\\;new}&=\\begin{bmatrix} -1&-2\\\\3&-1 \\end{bmatrix}\\times \\begin{bmatrix} -0.5\\\\-1.5\\end{bmatrix} \\\\\\\\\n",
    "\\vec{p}^{\\;new}&=-0.5 \\begin{bmatrix} -1\\\\3 \\end{bmatrix} -1.5\\begin{bmatrix} -2\\\\-1 \\end{bmatrix} \\\\\\\\\n",
    "\\vec{p}^{\\;new}&=\\begin{bmatrix} 0.5\\\\-1.5 \\end{bmatrix}+\\begin{bmatrix} 3\\\\1.5 \\end{bmatrix} \\\\\\\\\n",
    "\\vec{p}^{\\;new}&=\\begin{bmatrix} 3.5\\\\0 \\end{bmatrix}\n",
    "\\end{align}"
   ]
  },
  {
   "cell_type": "markdown",
   "metadata": {},
   "source": [
    "#### Matrix Multiplication"
   ]
  },
  {
   "cell_type": "markdown",
   "metadata": {},
   "source": [
    "##### Composing Linear Transformations"
   ]
  },
  {
   "cell_type": "markdown",
   "metadata": {},
   "source": [
    "A single matrix can be used to describe a transformation of space. A __product__ of two matrices can be used to compose two linear transformations into one! Let's say that we wanted to first rotate a vector by 90 degrees counter-clockwise and then perform a shear operation. We could start with a vector $\\vec{q}$ and multiply it by the matrix $M_{rotate90+}$. This operation would yield a vector $\\vec{q_{rotated}}$. \n"
   ]
  },
  {
   "cell_type": "markdown",
   "metadata": {},
   "source": [
    "$$\\vec{q_{rotated}}=M_{rotate90-} \\times \\vec{q}$$"
   ]
  },
  {
   "cell_type": "markdown",
   "metadata": {},
   "source": [
    "Now we can multiply the vector $q_{rotated}$ by the matrix $M_{shear}$ and get the final vector $q_{final}$. "
   ]
  },
  {
   "cell_type": "markdown",
   "metadata": {},
   "source": [
    "$$\\vec{q_{final}}=M_{shear} \\times \\vec{q_{rotated}}$$"
   ]
  },
  {
   "cell_type": "markdown",
   "metadata": {},
   "source": [
    "Vector multiplication allows us to compute a new matrix $M_{rotate-shear}$ whose effect on the vector $\\vec{q}$ would be of applying both the rotation and shear transformation at the same time! The order of operations matter, as we will get a different result if we first applied shear and then rotated than if we first rotated and then applied shear. The operation that comes last should be on the left of the operation that precedes it. "
   ]
  },
  {
   "cell_type": "markdown",
   "metadata": {},
   "source": [
    "\\begin{align}\n",
    "M_{rotate-shear}&=M_{shear}\\times M_{rotate90-} \\\\\\\\\n",
    "M_{rotate-shear}&=\\begin{bmatrix} 1&1\\\\0&1\\end{bmatrix} \\times \\begin{bmatrix} 0&-1\\\\1&0\\end{bmatrix} \\\\\\\\\n",
    "M_{rotate-shear}&=\\begin{bmatrix} 1&-1\\\\1&0\\end{bmatrix}\n",
    "\\end{align}"
   ]
  },
  {
   "cell_type": "markdown",
   "metadata": {},
   "source": [
    "![SegmentLocal](img/linear-algebra28.gif \"segment\")"
   ]
  },
  {
   "cell_type": "markdown",
   "metadata": {},
   "source": [
    "##### Matrix Multiplication Rules"
   ]
  },
  {
   "cell_type": "markdown",
   "metadata": {},
   "source": [
    "In the previous step, we skipped the process of actually computing the matrix product and directly showed the result. This is because matrix multiplication can be quite numerically cumbersome, and its computation can obscure the idea of what it stands for in linear algebra—composing linear transformations. Here we introduce the multiplication rules. Let's start with an example of a single matrix, $A$:"
   ]
  },
  {
   "cell_type": "markdown",
   "metadata": {},
   "source": [
    "$$\n",
    "A=\\begin{bmatrix}\n",
    "a_{11}&a_{12}&a_{13}&a_{14} \\\\\n",
    "a_{21}&a_{22}&a_{23}&a_{14} \\\\\n",
    "a_{31}&a_{32}&a_{33}&a_{14} \\\\\n",
    "\\end{bmatrix} \\\\\n",
    "$$"
   ]
  },
  {
   "cell_type": "markdown",
   "metadata": {},
   "source": [
    "$A$ is a $3\\times4$ matrix containing 12 elements distributed in 3 rows and 4 columns. Each element $a_{ij}$ is indexed by two numbers. The first one $i$ defines the element's row and the second one $j$ the element's column. Thus the name $a_{23}$ indicates an element in the second row and the third column."
   ]
  },
  {
   "cell_type": "markdown",
   "metadata": {},
   "source": [
    "Let's introduce another matrix B:"
   ]
  },
  {
   "cell_type": "markdown",
   "metadata": {},
   "source": [
    "$$\n",
    "B=\\begin{bmatrix}\n",
    "b_{11}&b_{12} \\\\\n",
    "b_{21}&b_{22} \\\\\n",
    "b_{31}&a_{32} \\\\\n",
    "b_{41}&a_{42} \\\\\n",
    "\\end{bmatrix} \\\\\n",
    "$$"
   ]
  },
  {
   "cell_type": "markdown",
   "metadata": {},
   "source": [
    "$B$ is a $4\\times2$ matrix, containing 8 elements distributed in 4 rows and 2 columns. The element indexing rules are the same as in the case of $A$."
   ]
  },
  {
   "cell_type": "markdown",
   "metadata": {},
   "source": [
    "To compute a matrix product, matrices need to be compatible in size. Moreover, the compatibility then defines the size of the product:"
   ]
  },
  {
   "cell_type": "markdown",
   "metadata": {},
   "source": [
    "__To compute the matrix product $A\\times B$, the number of columns of matrix A needs to match the number of rows of matrix B. If this criterion is met, the product matrix will have the same number of rows as the matrix A and the same number of columns as the matrix B.__"
   ]
  },
  {
   "cell_type": "markdown",
   "metadata": {},
   "source": [
    "Since matrix $A$ is a $\\color{red}3\\times \\boldsymbol{4}$ matrix and B is a $\\boldsymbol{4} \\times \\color{blue}2$ matrix, two matrices are compatible to compute the product $A \\times B$, and the product matrix will be a $\\color{red}3 \\times \\color{blue}2$ matrix."
   ]
  },
  {
   "cell_type": "markdown",
   "metadata": {},
   "source": [
    "\\begin{align}\n",
    "C_{\\color{red}3\\times \\color{blue}2} &= A_{\\color{red}3\\times\\boldsymbol{4}} \\times B_{\\boldsymbol{4}\\times\\color{blue}2} \\\\\\\\\n",
    "C &= \\begin{bmatrix}\n",
    "c_{11} & c_{12} \\\\\n",
    "c_{21} & c_{22} \\\\\n",
    "c_{31} & c_{32}\n",
    "\\end{bmatrix}\n",
    "\\end{align}"
   ]
  },
  {
   "cell_type": "markdown",
   "metadata": {},
   "source": [
    "What is left is to compute are actual elements $c_{ij}$, and for that, we will need the dot product operation. Index $_{\\color{red}2 \\color{blue}1}$ of tells us that to compute the element $c_{\\color{red}2 \\color{blue}1}$ we need to dot multiply the <span style=\"color:red\">__second__ </span>row of the matrix $A$ by the <span style=\"color:blue\">__first__</span> column of the matrix $B$. To compute the element $c_{\\color{red}3 \\color{blue}2}$ we need to dot multiply the <span style=\"color:red\">__third__ </span>row of the matrix $A$ by the <span style=\"color:blue\">__second__</span> column of the matrix $B$. In other words, to compute $c_{\\color{red}2 \\color{blue}1}$ we need to multiply:"
   ]
  },
  {
   "cell_type": "markdown",
   "metadata": {},
   "source": [
    "<img src=\"img/linear-algebra29.png\" alt=\"drawing\" width=\"500\"/>"
   ]
  },
  {
   "cell_type": "markdown",
   "metadata": {},
   "source": [
    "Notice that any column or a row of a matrix is one-dimensional, so we can think of it as a vector and represent it consequently:"
   ]
  },
  {
   "cell_type": "markdown",
   "metadata": {},
   "source": [
    "\\begin{align}\n",
    "c_{21} &= \\begin{bmatrix} a_{21} \\\\ a_{22} \\\\ a_{23} \\\\ a_{24}\\end{bmatrix} \\cdot\n",
    "\\begin{bmatrix} b_{11} \\\\ b_{21} \\\\ b_{31} \\\\ b_{41}\\end{bmatrix} \\\\[2ex]\n",
    "c_{21} &=a_{21}b_{11}+a_{22}b_{21}+a_{23}b_{31}+a_{24}b_{41}\n",
    "\\end{align}"
   ]
  },
  {
   "cell_type": "markdown",
   "metadata": {},
   "source": [
    "to compute $c_{\\color{red}3 \\color{blue}2}$ we need to multiply:"
   ]
  },
  {
   "cell_type": "markdown",
   "metadata": {},
   "source": [
    "<img src=\"img/linear-algebra30.png\" alt=\"drawing\" width=\"500\"/>"
   ]
  },
  {
   "cell_type": "markdown",
   "metadata": {},
   "source": [
    "And in terms of a dot product of vectors:"
   ]
  },
  {
   "cell_type": "markdown",
   "metadata": {},
   "source": [
    "\\begin{align}\n",
    "c_{32} &= \\begin{bmatrix} a_{31} \\\\ a_{32} \\\\ a_{33} \\\\ a_{34}\\end{bmatrix} \\cdot\n",
    "\\begin{bmatrix} b_{12} \\\\ b_{22} \\\\ b_{32} \\\\ b_{42}\\end{bmatrix} \\\\[2ex]\n",
    "c_{32} &=a_{31}b_{12}+a_{32}b_{22}+a_{33}b_{32}+a_{34}b_{42}\n",
    "\\end{align}"
   ]
  },
  {
   "cell_type": "markdown",
   "metadata": {},
   "source": [
    "The animation below shows how to compute the rest of the elements:"
   ]
  },
  {
   "cell_type": "markdown",
   "metadata": {},
   "source": [
    "![SegmentLocal](img/linear-algebra31.gif \"segment\")"
   ]
  },
  {
   "cell_type": "markdown",
   "metadata": {},
   "source": [
    "Here it should be clear why the matrix multiplication requires that $A$ and $B$ are compatible in size. If matrix $A$ had 3 rows instead of 4, and the matrix $B$ remained the same, we would need to dot multiply two vectors of a different length. That is simply not possible, as dot product requires us to have to vectors with the same number of elements. "
   ]
  },
  {
   "cell_type": "markdown",
   "metadata": {},
   "source": [
    "To compute all the elements of matrix C, we need to compute 8 dot products of two 4-dimensional vectors. This is why the matrix multiplication is better left to computers."
   ]
  },
  {
   "cell_type": "markdown",
   "metadata": {},
   "source": [
    "$$\n",
    "C=\n",
    "\\begin{bmatrix} a_{11}b_{11}+a_{12}b_{21}+a_{13}b_{31}+a_{14}b_{41} &  a_{11}b_{12}+a_{12}b_{22}+a_{13}b_{32}+a_{14}b_{42} \\\\\n",
    "a_{21}b_{11}+a_{22}b_{21}+a_{23}b_{31}+a_{24}b_{41} &  a_{21}b_{12}+a_{22}b_{22}+a_{23}b_{32}+a_{24}b_{42} \\\\\n",
    "a_{31}b_{11}+a_{32}b_{21}+a_{33}b_{31}+a_{34}b_{41} &  a_{31}b_{12}+a_{32}b_{22}+a_{33}b_{32}+a_{34}b_{42} \\\\\n",
    "a_{41}b_{11}+a_{42}b_{21}+a_{43}b_{31}+a_{44}b_{41} &  a_{41}b_{12}+a_{4}b_{22}+a_{43}b_{32}+a_{44}b_{42} \\\\\n",
    "\\end{bmatrix}\n",
    "$$"
   ]
  },
  {
   "cell_type": "markdown",
   "metadata": {},
   "source": [
    "#### Matrix Addition and Subtraction"
   ]
  },
  {
   "cell_type": "markdown",
   "metadata": {},
   "source": [
    "Matrix addition and subtraction do not have a straightforward intuitive meaning. They can be performed, but we need to think of them purely in algebraic terms. Similarly to vectors, to be able to add or subtract two matrices, they need to be of the same size. If the matrix $A$ is a $3\\times4$ matrix, then the matrix $B$ needs to be a $3\\times4$ matrix as well if we wish to compute $A+B$ and $A-B$. If the matrices are of the same size, both addition and subtraction  are trivial. We simply need to add or subtract individual elements of both matrices that have matching indices. "
   ]
  },
  {
   "cell_type": "markdown",
   "metadata": {},
   "source": [
    "$$A_{2\\times3}=\\begin{bmatrix}\n",
    "a_{11} & a_{12} & a_{13}\\\\\n",
    "a_{21} & a_{22} & a_{23}\\\\\n",
    "\\end{bmatrix}; \\quad\n",
    "B_{2\\times3} = \\begin{bmatrix}\n",
    "b_{11} & b_{12} & b_{13}\\\\\n",
    "b_{21} & b_{22} & b_{23}\\\\\n",
    "\\end{bmatrix} \\\\[2em]\n",
    "A+B = \\begin{bmatrix}\n",
    "a_{11}+b_{11} & a_{12}+b_{12} & a_{13}+b_{13}\\\\\n",
    "a_{21}+b_{21} & a_{22}+b_{22} & a_{23}+a_{23}\\\\\n",
    "\\end{bmatrix} \\\\[2em]\n",
    "A-B = \\begin{bmatrix}\n",
    "a_{11}-b_{11} & a_{12}-b_{12} & a_{13}-b_{13}\\\\\n",
    "a_{21}-b_{21} & a_{22}-b_{22} & a_{23}-a_{23}\\\\\n",
    "\\end{bmatrix}\n",
    "$$"
   ]
  },
  {
   "cell_type": "markdown",
   "metadata": {},
   "source": [
    "#### Multiplying a Matrix by a Scalar"
   ]
  },
  {
   "cell_type": "markdown",
   "metadata": {},
   "source": [
    "Another common operation is to multiply a matrix by a scalar. This is also very straightforward. Every element of the new matrix will be a multiple of the old one and the given scalar. "
   ]
  },
  {
   "cell_type": "markdown",
   "metadata": {},
   "source": [
    "$$A_{2\\times3}=\\begin{bmatrix}\n",
    "a_{11} & a_{12} & a_{13}\\\\\n",
    "a_{21} & a_{22} & a_{23}\\\\\n",
    "\\end{bmatrix}; \\\\[2em]\n",
    "pA = \\begin{bmatrix}\n",
    "p\\,a_{11} & p\\,a_{12} & p\\,a_{13}\\\\\n",
    "p\\,a_{21} & p\\,a_{22} & p\\,a_{23}\\\\\n",
    "\\end{bmatrix}\n",
    "$$"
   ]
  },
  {
   "cell_type": "markdown",
   "metadata": {},
   "source": [
    "### Elementary Matrix Operations in Python"
   ]
  },
  {
   "cell_type": "markdown",
   "metadata": {},
   "source": [
    "To represent matrices in Python programming language, we will use the linear algebra library called NumPy. To import it we write the following line of code:"
   ]
  },
  {
   "cell_type": "code",
   "execution_count": 6,
   "metadata": {},
   "outputs": [],
   "source": [
    "import numpy as np"
   ]
  },
  {
   "cell_type": "markdown",
   "metadata": {},
   "source": [
    "Let us define matrices $A$, $B$ and $C$ as follows:"
   ]
  },
  {
   "cell_type": "markdown",
   "metadata": {},
   "source": [
    "$$\n",
    "A=\\begin{bmatrix}\n",
    "4 & 2 & -1 & 5 \\\\\n",
    "2 & 1 & 3 & -3 \\\\\n",
    "-2 & -3 & 1 & 4 \\\\\n",
    "\\end{bmatrix}; \\quad\n",
    "B=\\begin{bmatrix}\n",
    "-1 & 1 \\\\\n",
    "3 & -3 \\\\\n",
    "4 & -2 \\\\\n",
    "5 & 5 \\\\\n",
    "\\end{bmatrix}; \\quad\n",
    "C=\\begin{bmatrix}\n",
    "1 & 3  \\\\\n",
    "3 & -1 \\\\\n",
    "\\end{bmatrix}; \\quad\n",
    "D=\\begin{bmatrix}\n",
    "2 & 1  \\\\\n",
    "-1 & 2 \\\\\n",
    "\\end{bmatrix}\n",
    "$$"
   ]
  },
  {
   "cell_type": "markdown",
   "metadata": {},
   "source": [
    "Now we can use NumPy's data structure called array to represent matrices:"
   ]
  },
  {
   "cell_type": "code",
   "execution_count": 10,
   "metadata": {},
   "outputs": [],
   "source": [
    "A = np.array([[4,   2, -1,  5],\n",
    "              [2,   1,  3, -3],\n",
    "              [-2, -3,  1,  4]])"
   ]
  },
  {
   "cell_type": "code",
   "execution_count": 14,
   "metadata": {},
   "outputs": [],
   "source": [
    "B = np.array([[-1,  1],\n",
    "              [ 3, -3],\n",
    "              [ 4, -2],\n",
    "              [ 5,  5]])"
   ]
  },
  {
   "cell_type": "code",
   "execution_count": 15,
   "metadata": {},
   "outputs": [],
   "source": [
    "C = np.array([[-1,  3],\n",
    "              [ 3, -1]])"
   ]
  },
  {
   "cell_type": "code",
   "execution_count": 20,
   "metadata": {},
   "outputs": [],
   "source": [
    "D = np.array([[ 2, 1],\n",
    "              [-1, 2]])"
   ]
  },
  {
   "cell_type": "markdown",
   "metadata": {},
   "source": [
    "To make sure we encoded them properly, we can use the command print:"
   ]
  },
  {
   "cell_type": "code",
   "execution_count": 17,
   "metadata": {},
   "outputs": [
    {
     "name": "stdout",
     "output_type": "stream",
     "text": [
      "[[ 4  2 -1  5]\n",
      " [ 2  1  3 -3]\n",
      " [-2 -3  1  4]]\n"
     ]
    }
   ],
   "source": [
    "print (A)"
   ]
  },
  {
   "cell_type": "code",
   "execution_count": 18,
   "metadata": {},
   "outputs": [
    {
     "name": "stdout",
     "output_type": "stream",
     "text": [
      "[[-1  1]\n",
      " [ 3 -3]\n",
      " [ 4 -2]\n",
      " [ 5  5]]\n"
     ]
    }
   ],
   "source": [
    "print (B)"
   ]
  },
  {
   "cell_type": "code",
   "execution_count": 19,
   "metadata": {},
   "outputs": [
    {
     "name": "stdout",
     "output_type": "stream",
     "text": [
      "[[-1  3]\n",
      " [ 3 -1]]\n"
     ]
    }
   ],
   "source": [
    "print (C)"
   ]
  },
  {
   "cell_type": "code",
   "execution_count": 21,
   "metadata": {},
   "outputs": [
    {
     "name": "stdout",
     "output_type": "stream",
     "text": [
      "[[ 2  1]\n",
      " [-1  2]]\n"
     ]
    }
   ],
   "source": [
    "print (D)"
   ]
  },
  {
   "cell_type": "markdown",
   "metadata": {},
   "source": [
    "#### Matrix Addition and Subtraction in Python"
   ]
  },
  {
   "cell_type": "markdown",
   "metadata": {},
   "source": [
    "We can only add two matrices if they are of the same size. Thus attempting to compute $A+B$ will result in an error:"
   ]
  },
  {
   "cell_type": "code",
   "execution_count": 22,
   "metadata": {},
   "outputs": [
    {
     "ename": "ValueError",
     "evalue": "operands could not be broadcast together with shapes (3,4) (4,2) ",
     "output_type": "error",
     "traceback": [
      "\u001b[0;31m---------------------------------------------------------------------------\u001b[0m",
      "\u001b[0;31mValueError\u001b[0m                                Traceback (most recent call last)",
      "\u001b[0;32m<ipython-input-22-17a53b3d2418>\u001b[0m in \u001b[0;36m<module>\u001b[0;34m()\u001b[0m\n\u001b[0;32m----> 1\u001b[0;31m \u001b[0mA\u001b[0m\u001b[0;34m+\u001b[0m\u001b[0mB\u001b[0m\u001b[0;34m\u001b[0m\u001b[0m\n\u001b[0m",
      "\u001b[0;31mValueError\u001b[0m: operands could not be broadcast together with shapes (3,4) (4,2) "
     ]
    }
   ],
   "source": [
    "A+B"
   ]
  },
  {
   "cell_type": "markdown",
   "metadata": {},
   "source": [
    "What we can add are the matrices $C$ and $D$:"
   ]
  },
  {
   "cell_type": "code",
   "execution_count": 24,
   "metadata": {},
   "outputs": [
    {
     "name": "stdout",
     "output_type": "stream",
     "text": [
      "[[1 4]\n",
      " [2 1]]\n"
     ]
    }
   ],
   "source": [
    "print (C+D)"
   ]
  },
  {
   "cell_type": "markdown",
   "metadata": {},
   "source": [
    "or we can add any matrix to itself"
   ]
  },
  {
   "cell_type": "code",
   "execution_count": 25,
   "metadata": {},
   "outputs": [
    {
     "name": "stdout",
     "output_type": "stream",
     "text": [
      "[[ 8  4 -2 10]\n",
      " [ 4  2  6 -6]\n",
      " [-4 -6  2  8]]\n"
     ]
    }
   ],
   "source": [
    "print (A+A)"
   ]
  },
  {
   "cell_type": "markdown",
   "metadata": {},
   "source": [
    "#### Multiplying a Matrix by a Scalar in Python"
   ]
  },
  {
   "cell_type": "markdown",
   "metadata": {},
   "source": [
    "Multiplying a matrix by a scalar in python is quite straightforward. To multiply the matrix $A$ by 5, we write:"
   ]
  },
  {
   "cell_type": "code",
   "execution_count": 37,
   "metadata": {},
   "outputs": [
    {
     "name": "stdout",
     "output_type": "stream",
     "text": [
      "[[ 20  10  -5  25]\n",
      " [ 10   5  15 -15]\n",
      " [-10 -15   5  20]]\n"
     ]
    }
   ],
   "source": [
    "print (5*A)"
   ]
  },
  {
   "cell_type": "code",
   "execution_count": 38,
   "metadata": {},
   "outputs": [
    {
     "name": "stdout",
     "output_type": "stream",
     "text": [
      "[[-20 -10   5 -25]\n",
      " [-10  -5 -15  15]\n",
      " [ 10  15  -5 -20]]\n"
     ]
    }
   ],
   "source": [
    "print (-5*A)"
   ]
  },
  {
   "cell_type": "markdown",
   "metadata": {},
   "source": [
    "#### Matrix Multiplication in Python"
   ]
  },
  {
   "cell_type": "markdown",
   "metadata": {},
   "source": [
    "We can only multiply two matrices if their sizes are matching. We can for example compute $A\\times B$. To apply matrix multiplication we will use the NumPy command `np.dot`:"
   ]
  },
  {
   "cell_type": "code",
   "execution_count": 29,
   "metadata": {},
   "outputs": [
    {
     "name": "stdout",
     "output_type": "stream",
     "text": [
      "[[ 23  25]\n",
      " [ -2 -22]\n",
      " [ 17  25]]\n"
     ]
    }
   ],
   "source": [
    "print (np.dot(A,B))"
   ]
  },
  {
   "cell_type": "markdown",
   "metadata": {},
   "source": [
    "Since matrix product is not commutative, trying to compute the product $B\\times A$ will not work:"
   ]
  },
  {
   "cell_type": "code",
   "execution_count": 30,
   "metadata": {},
   "outputs": [
    {
     "ename": "ValueError",
     "evalue": "shapes (4,2) and (3,4) not aligned: 2 (dim 1) != 3 (dim 0)",
     "output_type": "error",
     "traceback": [
      "\u001b[0;31m---------------------------------------------------------------------------\u001b[0m",
      "\u001b[0;31mValueError\u001b[0m                                Traceback (most recent call last)",
      "\u001b[0;32m<ipython-input-30-85c41339c4cd>\u001b[0m in \u001b[0;36m<module>\u001b[0;34m()\u001b[0m\n\u001b[0;32m----> 1\u001b[0;31m \u001b[0mprint\u001b[0m \u001b[0;34m(\u001b[0m\u001b[0mnp\u001b[0m\u001b[0;34m.\u001b[0m\u001b[0mdot\u001b[0m\u001b[0;34m(\u001b[0m\u001b[0mB\u001b[0m\u001b[0;34m,\u001b[0m\u001b[0mA\u001b[0m\u001b[0;34m)\u001b[0m\u001b[0;34m)\u001b[0m\u001b[0;34m\u001b[0m\u001b[0m\n\u001b[0m",
      "\u001b[0;31mValueError\u001b[0m: shapes (4,2) and (3,4) not aligned: 2 (dim 1) != 3 (dim 0)"
     ]
    }
   ],
   "source": [
    "print (np.dot(B,A))"
   ]
  },
  {
   "cell_type": "markdown",
   "metadata": {},
   "source": [
    "However, we can find the product $B\\times C$ or $B\\times D$:"
   ]
  },
  {
   "cell_type": "code",
   "execution_count": 31,
   "metadata": {},
   "outputs": [
    {
     "name": "stdout",
     "output_type": "stream",
     "text": [
      "[[  4  -4]\n",
      " [-12  12]\n",
      " [-10  14]\n",
      " [ 10  10]]\n"
     ]
    }
   ],
   "source": [
    "print (np.dot(B,C))"
   ]
  },
  {
   "cell_type": "code",
   "execution_count": 32,
   "metadata": {},
   "outputs": [
    {
     "name": "stdout",
     "output_type": "stream",
     "text": [
      "[[-3  1]\n",
      " [ 9 -3]\n",
      " [10  0]\n",
      " [ 5 15]]\n"
     ]
    }
   ],
   "source": [
    "print (np.dot(B,D))"
   ]
  },
  {
   "cell_type": "markdown",
   "metadata": {},
   "source": [
    "Since the matrices $C$ and $D$ have the same size, computing both $C\\times D$ and $D\\times C$ is possible:"
   ]
  },
  {
   "cell_type": "code",
   "execution_count": 33,
   "metadata": {},
   "outputs": [
    {
     "name": "stdout",
     "output_type": "stream",
     "text": [
      "[[-5  5]\n",
      " [ 7  1]]\n"
     ]
    }
   ],
   "source": [
    "print (np.dot(C,D))"
   ]
  },
  {
   "cell_type": "code",
   "execution_count": 34,
   "metadata": {
    "scrolled": true
   },
   "outputs": [
    {
     "name": "stdout",
     "output_type": "stream",
     "text": [
      "[[ 1  5]\n",
      " [ 7 -5]]\n"
     ]
    }
   ],
   "source": [
    "print (np.dot(D,C))"
   ]
  }
 ],
 "metadata": {
  "kernelspec": {
   "display_name": "Python 3",
   "language": "python",
   "name": "python3"
  },
  "language_info": {
   "codemirror_mode": {
    "name": "ipython",
    "version": 3
   },
   "file_extension": ".py",
   "mimetype": "text/x-python",
   "name": "python",
   "nbconvert_exporter": "python",
   "pygments_lexer": "ipython3",
   "version": "3.7.0"
  }
 },
 "nbformat": 4,
 "nbformat_minor": 2
}
