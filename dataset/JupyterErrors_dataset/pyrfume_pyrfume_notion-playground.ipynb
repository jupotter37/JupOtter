{
 "cells": [
  {
   "cell_type": "code",
   "execution_count": 1,
   "id": "853d3b05-8754-4fd4-863e-350d8955789f",
   "metadata": {},
   "outputs": [],
   "source": [
    "import notion.store\n",
    "import notion.client"
   ]
  },
  {
   "cell_type": "code",
   "execution_count": 2,
   "id": "41608db6-3b12-4a99-ab6e-8694b87969fb",
   "metadata": {},
   "outputs": [],
   "source": [
    "tv2 = \"d1c5c50f632e9cf8a3437113ec4e337f718dc3bb524287ad4a18e1b2336b588668a447ea29b617ab0ea61ac1ec6075c64907439703339e15771abd7789ee4d840cfbace67bb1cb469a33693b60a2\""
   ]
  },
  {
   "cell_type": "code",
   "execution_count": 3,
   "id": "32a0a173-e84e-47d4-b431-7f7ab51fd655",
   "metadata": {},
   "outputs": [],
   "source": [
    "from tzlocal import get_localzone\n",
    "\n",
    "import notion\n",
    "\n",
    "\n",
    "def call_load_page_chunk(self, page_id):\n",
    "\n",
    "    if self._client.in_transaction():\n",
    "        self._pages_to_refresh.append(page_id)\n",
    "        return\n",
    "\n",
    "    data = {\n",
    "        \"pageId\": page_id,\n",
    "        \"limit\": 100,\n",
    "        \"cursor\": {\"stack\": []},\n",
    "        \"chunkNumber\": 0,\n",
    "        \"verticalColumns\": False,\n",
    "    }\n",
    "\n",
    "    recordmap = self._client.post(\"loadPageChunk\", data).json()[\"recordMap\"]\n",
    "\n",
    "    self.store_recordmap(recordmap)\n",
    "\n",
    "\n",
    "def call_query_collection(\n",
    "    self,\n",
    "    collection_id,\n",
    "    collection_view_id,\n",
    "    search=\"\",\n",
    "    type=\"table\",\n",
    "    aggregate=[],\n",
    "    aggregations=[],\n",
    "    filter={},\n",
    "    sort=[],\n",
    "    calendar_by=\"\",\n",
    "    group_by=\"\",\n",
    "):\n",
    "\n",
    "    assert not (\n",
    "        aggregate and aggregations\n",
    "    ), \"Use only one of `aggregate` or `aggregations` (old vs new format)\"\n",
    "\n",
    "    # convert singletons into lists if needed\n",
    "    if isinstance(aggregate, dict):\n",
    "        aggregate = [aggregate]\n",
    "    if isinstance(sort, dict):\n",
    "        sort = [sort]\n",
    "\n",
    "    data = {\n",
    "        \"collectionId\": collection_id,\n",
    "        \"collectionViewId\": collection_view_id,\n",
    "        \"loader\": {\n",
    "            \"limit\": 1000000,\n",
    "            \"loadContentCover\": True,\n",
    "            \"searchQuery\": search,\n",
    "            \"userLocale\": \"en\",\n",
    "            \"userTimeZone\": str(get_localzone()),\n",
    "            \"type\": type,\n",
    "        },\n",
    "        \"query\": {\n",
    "            \"aggregate\": aggregate,\n",
    "            \"aggregations\": aggregations,\n",
    "            \"filter\": filter,\n",
    "            \"sort\": sort,\n",
    "        },\n",
    "    }\n",
    "\n",
    "    response = self._client.post(\"queryCollection\", data).json()\n",
    "\n",
    "    self.store_recordmap(response[\"recordMap\"])\n",
    "\n",
    "    return response[\"result\"]\n",
    "\n",
    "\n",
    "def search_pages_with_parent(self, parent_id, search=\"\"):\n",
    "    data = {\n",
    "        \"query\": search,\n",
    "        \"parentId\": parent_id,\n",
    "        \"limit\": 100,\n",
    "        \"spaceId\": self.current_space.id,\n",
    "    }\n",
    "    response = self.post(\"searchPagesWithParent\", data).json()\n",
    "    self._store.store_recordmap(response[\"recordMap\"])\n",
    "    return response[\"results\"]\n",
    "\n",
    "\n",
    "notion.store.RecordStore.call_load_page_chunk = call_load_page_chunk\n",
    "notion.store.RecordStore.call_query_collection = call_query_collection\n",
    "notion.client.NotionClient.search_pages_with_parent = search_pages_with_parent"
   ]
  },
  {
   "cell_type": "code",
   "execution_count": 4,
   "id": "198f3f21-1e5d-4cac-b287-ff386c8852b8",
   "metadata": {},
   "outputs": [],
   "source": [
    "client = notion.client.NotionClient(token_v2=tv2)"
   ]
  },
  {
   "cell_type": "code",
   "execution_count": 10,
   "id": "41638b10-882b-4d54-a696-e0163e0ab532",
   "metadata": {},
   "outputs": [],
   "source": [
    "page = client.get_block(\"https://www.notion.so/Grants-5c5aa0417ce44205bfd23c3ec4e30b13\")"
   ]
  },
  {
   "cell_type": "code",
   "execution_count": 8,
   "id": "972ec8ed-5d23-4877-b755-5be254c24625",
   "metadata": {},
   "outputs": [
    {
     "ename": "AttributeError",
     "evalue": "'NoneType' object has no attribute 'title'",
     "output_type": "error",
     "traceback": [
      "\u001b[0;31m---------------------------------------------------------------------------\u001b[0m",
      "\u001b[0;31mAttributeError\u001b[0m                            Traceback (most recent call last)",
      "\u001b[0;32m<ipython-input-8-83738dd7c9a2>\u001b[0m in \u001b[0;36m<module>\u001b[0;34m\u001b[0m\n\u001b[0;32m----> 1\u001b[0;31m \u001b[0mpage\u001b[0m\u001b[0;34m.\u001b[0m\u001b[0mtitle\u001b[0m \u001b[0;34m=\u001b[0m \u001b[0;34m'Grants2'\u001b[0m\u001b[0;34m\u001b[0m\u001b[0;34m\u001b[0m\u001b[0m\n\u001b[0m",
      "\u001b[0;31mAttributeError\u001b[0m: 'NoneType' object has no attribute 'title'"
     ]
    }
   ],
   "source": [
    "page.title = \"Grants2\""
   ]
  },
  {
   "cell_type": "code",
   "execution_count": 11,
   "id": "e0831f6b-0016-4970-a55d-068fec0a481b",
   "metadata": {},
   "outputs": [],
   "source": [
    "page"
   ]
  },
  {
   "cell_type": "code",
   "execution_count": null,
   "id": "a4f208ae-57ed-4f44-8d00-6df8fa8c36a7",
   "metadata": {},
   "outputs": [],
   "source": []
  }
 ],
 "metadata": {
  "kernelspec": {
   "display_name": "Python 3",
   "language": "python",
   "name": "python3"
  },
  "language_info": {
   "codemirror_mode": {
    "name": "ipython",
    "version": 3
   },
   "file_extension": ".py",
   "mimetype": "text/x-python",
   "name": "python",
   "nbconvert_exporter": "python",
   "pygments_lexer": "ipython3",
   "version": "3.9.4"
  }
 },
 "nbformat": 4,
 "nbformat_minor": 5
}
