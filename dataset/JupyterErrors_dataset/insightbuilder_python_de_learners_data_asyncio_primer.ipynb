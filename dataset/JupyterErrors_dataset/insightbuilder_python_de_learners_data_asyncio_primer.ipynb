{
 "cells": [
  {
   "cell_type": "markdown",
   "metadata": {},
   "source": [
    "Parallelism consists of performing multiple operations at the same time. \n",
    "\n",
    "Multiprocessing is a means to effect parallelism, and it entails spreading tasks over a computer’s central processing units (CPUs, or cores). Multiprocessing is well-suited for CPU-bound tasks: tightly bound for loops and mathematical computations usually fall into this category.\n",
    "\n",
    "Concurrency is a slightly broader term than parallelism. It suggests that multiple tasks have the ability to run in an overlapping manner. (There’s a saying that concurrency does not imply parallelism.)\n",
    "\n",
    "Threading is a concurrent execution model whereby multiple threads take turns executing tasks. One process can contain multiple threads. Python has a complicated relationship with threading thanks to its GIL, but that’s beyond the scope of this article."
   ]
  },
  {
   "cell_type": "markdown",
   "metadata": {},
   "source": [
    "**async IO** is not a newly invented concept, and it has existed or is being built into other languages and runtime environments, such as Go, C#, or Scala.\n",
    "\n",
    "In fact, async IO is a single-threaded, single-process design: it uses **cooperative multitasking**, a term that you’ll flesh out by the end of this tutorial.\n",
    "\n",
    "**What is Asynchronous?**\n",
    "\n",
    "- Asynchronous routines are able to “pause” while waiting on their ultimate result and let other routines run in the meantime.\n",
    "\n",
    "- Asynchronous code, through the mechanism above, facilitates concurrent execution. To put it differently, asynchronous code gives the look and feel of concurrency.\n",
    "\n",
    "\n",
    "![Alt text](image.png)\n",
    "\n",
    "cooperative multitasking is a fancy way of saying that a program’s event loop (more on that later) communicates with multiple tasks to let each take turns running at the optimal time.\n",
    "\n",
    "There are two keywords, async and await, serve different purposes but come together to help you declare, build, execute, and manage asynchronous code."
   ]
  },
  {
   "cell_type": "markdown",
   "metadata": {},
   "source": [
    "**a coroutine** is a function that can **suspend its execution** before reaching return, and it can **indirectly pass control** to another coroutine for some time."
   ]
  },
  {
   "cell_type": "markdown",
   "metadata": {
    "vscode": {
     "languageId": "plaintext"
    }
   },
   "source": [
    "syntax async def introduces either a native coroutine or an asynchronous generator. The expressions async with and async for are also valid, and you’ll see them later on.\n",
    "\n",
    "The keyword await passes function control back to the event loop. (It suspends the execution of the surrounding coroutine.) If Python encounters an await f() expression in the scope of g(), this is how await tells the event loop, “Suspend execution of g() until whatever I’m waiting on—the result of f()—is returned. In the meantime, go let something else run."
   ]
  },
  {
   "cell_type": "code",
   "execution_count": null,
   "metadata": {},
   "outputs": [],
   "source": [
    "async def g():\n",
    "    # Pause here and come back to g() when f() is ready\n",
    "    r = await f()\n",
    "    return r"
   ]
  },
  {
   "cell_type": "markdown",
   "metadata": {
    "vscode": {
     "languageId": "plaintext"
    }
   },
   "source": [
    "A function that you introduce with async def is a coroutine. It may use await, return, or yield, but all of these are optional. Declaring async def noop(): pass is valid:\n",
    "\n",
    "Using await and/or return creates a coroutine function. To call a coroutine function, you must await it to get its results."
   ]
  },
  {
   "cell_type": "markdown",
   "metadata": {
    "vscode": {
     "languageId": "plaintext"
    }
   },
   "source": [
    "await f(), it’s required that f() be an object that is **awaitable**. \n",
    "\n",
    "Well, that’s not very helpful, is it? \n",
    "\n",
    "For now, just know that an awaitable object is either \n",
    "\n",
    "(1) another coroutine or (2) an object defining an ._await_() dunder method that returns an iterator. \n",
    "\n",
    "If you’re writing a program, for the large majority of purposes, you should only need to worry about case #1."
   ]
  },
  {
   "cell_type": "markdown",
   "metadata": {
    "vscode": {
     "languageId": "plaintext"
    }
   },
   "source": [
    "**function** is all-or-nothing. Once it starts, it won’t stop until it hits a return, then pushes that value to the caller (the function that calls it). \n",
    "\n",
    "**generator**, on the other hand, pauses each time it hits a yield and goes no further. Not only can it push this value to calling stack, but it can keep a hold of its local variables when you resume it by calling next() on it"
   ]
  },
  {
   "cell_type": "markdown",
   "metadata": {},
   "source": [
    "Coroutines are repurposed generators that take advantage of the peculiarities of generator methods.\n",
    "\n",
    "Old generator-based coroutines use yield from to wait for a coroutine result. Modern Python syntax in native coroutines simply replaces yield from with await as the means of waiting on a coroutine result. The await is analogous to yield from, and it often helps to think of it as such.\n",
    "\n",
    "The use of await is a signal that marks a break point. It lets a coroutine temporarily suspend execution and permits the program to come back to it later."
   ]
  },
  {
   "cell_type": "markdown",
   "metadata": {},
   "source": [
    "In other words, asynchronous iterators and asynchronous generators are not designed to concurrently map some function over a sequence or iterator. They’re merely designed to let the enclosing coroutine allow other tasks to take their turn. \n",
    "\n",
    "The async for and async with statements are only needed to the extent that using plain for or with would “break” the nature of await in the coroutine. This distinction between asynchronicity and concurrency is a key one to grasp."
   ]
  },
  {
   "cell_type": "markdown",
   "metadata": {},
   "source": [
    "entire management of the event loop has been implicitly handled by one function call:\n",
    "\n",
    "asyncio.run(main())"
   ]
  },
  {
   "cell_type": "markdown",
   "metadata": {},
   "source": [
    "One use-case for queues (as is the case here) is for the queue to act as a transmitter for producers and consumers that aren’t otherwise directly chained or associated with each other."
   ]
  },
  {
   "cell_type": "code",
   "execution_count": 3,
   "metadata": {},
   "outputs": [],
   "source": [
    "async def main():\n",
    "    # This does *not* introduce concurrent execution\n",
    "    # It is meant to show syntax only\n",
    "    g = [i async for i in mygen()]\n",
    "    f = [j async for j in mygen() if not (j // 3 % 5)]\n",
    "    return g, f"
   ]
  },
  {
   "cell_type": "code",
   "execution_count": 10,
   "metadata": {},
   "outputs": [
    {
     "name": "stdout",
     "output_type": "stream",
     "text": [
      "Requirement already satisfied: nest-asyncio in /home/kamal/matrix_env/lib/python3.11/site-packages (1.5.8)\n"
     ]
    }
   ],
   "source": [
    "!pip install nest-asyncio"
   ]
  },
  {
   "cell_type": "code",
   "execution_count": 11,
   "metadata": {},
   "outputs": [],
   "source": [
    "%autoawait asyncio\n",
    "\n",
    "import asyncio\n",
    "import nest_asyncio\n",
    "nest_asyncio.apply()\n"
   ]
  },
  {
   "cell_type": "code",
   "execution_count": 12,
   "metadata": {},
   "outputs": [
    {
     "name": "stdout",
     "output_type": "stream",
     "text": [
      "count one\n",
      "count two\n",
      "count three\n",
      "count four\n",
      "count five\n",
      "count six\n"
     ]
    },
    {
     "ename": "RuntimeError",
     "evalue": "Cannot close a running event loop",
     "output_type": "error",
     "traceback": [
      "\u001b[0;31m---------------------------------------------------------------------------\u001b[0m",
      "\u001b[0;31mRuntimeError\u001b[0m                              Traceback (most recent call last)",
      "\u001b[1;32m/home/kamal/gitfolders/python_de_learners_data/code_script_notebooks/projects/asyncio/asyncio_primer.ipynb Cell 16\u001b[0m line \u001b[0;36m3\n\u001b[1;32m      <a href='vscode-notebook-cell:/home/kamal/gitfolders/python_de_learners_data/code_script_notebooks/projects/asyncio/asyncio_primer.ipynb#X24sZmlsZQ%3D%3D?line=0'>1</a>\u001b[0m loop \u001b[39m=\u001b[39m asyncio\u001b[39m.\u001b[39mget_event_loop()\n\u001b[1;32m      <a href='vscode-notebook-cell:/home/kamal/gitfolders/python_de_learners_data/code_script_notebooks/projects/asyncio/asyncio_primer.ipynb#X24sZmlsZQ%3D%3D?line=1'>2</a>\u001b[0m loop\u001b[39m.\u001b[39mrun_until_complete(main())\n\u001b[0;32m----> <a href='vscode-notebook-cell:/home/kamal/gitfolders/python_de_learners_data/code_script_notebooks/projects/asyncio/asyncio_primer.ipynb#X24sZmlsZQ%3D%3D?line=2'>3</a>\u001b[0m loop\u001b[39m.\u001b[39;49mclose()\n",
      "File \u001b[0;32m/usr/lib/python3.11/asyncio/unix_events.py:68\u001b[0m, in \u001b[0;36m_UnixSelectorEventLoop.close\u001b[0;34m(self)\u001b[0m\n\u001b[1;32m     67\u001b[0m \u001b[39mdef\u001b[39;00m \u001b[39mclose\u001b[39m(\u001b[39mself\u001b[39m):\n\u001b[0;32m---> 68\u001b[0m     \u001b[39msuper\u001b[39;49m()\u001b[39m.\u001b[39;49mclose()\n\u001b[1;32m     69\u001b[0m     \u001b[39mif\u001b[39;00m \u001b[39mnot\u001b[39;00m sys\u001b[39m.\u001b[39mis_finalizing():\n\u001b[1;32m     70\u001b[0m         \u001b[39mfor\u001b[39;00m sig \u001b[39min\u001b[39;00m \u001b[39mlist\u001b[39m(\u001b[39mself\u001b[39m\u001b[39m.\u001b[39m_signal_handlers):\n",
      "File \u001b[0;32m/usr/lib/python3.11/asyncio/selector_events.py:88\u001b[0m, in \u001b[0;36mBaseSelectorEventLoop.close\u001b[0;34m(self)\u001b[0m\n\u001b[1;32m     86\u001b[0m \u001b[39mdef\u001b[39;00m \u001b[39mclose\u001b[39m(\u001b[39mself\u001b[39m):\n\u001b[1;32m     87\u001b[0m     \u001b[39mif\u001b[39;00m \u001b[39mself\u001b[39m\u001b[39m.\u001b[39mis_running():\n\u001b[0;32m---> 88\u001b[0m         \u001b[39mraise\u001b[39;00m \u001b[39mRuntimeError\u001b[39;00m(\u001b[39m\"\u001b[39m\u001b[39mCannot close a running event loop\u001b[39m\u001b[39m\"\u001b[39m)\n\u001b[1;32m     89\u001b[0m     \u001b[39mif\u001b[39;00m \u001b[39mself\u001b[39m\u001b[39m.\u001b[39mis_closed():\n\u001b[1;32m     90\u001b[0m         \u001b[39mreturn\u001b[39;00m\n",
      "\u001b[0;31mRuntimeError\u001b[0m: Cannot close a running event loop"
     ]
    }
   ],
   "source": [
    "loop = asyncio.get_event_loop()\n",
    "loop.run_until_complete(main())\n",
    "loop.close()"
   ]
  },
  {
   "cell_type": "code",
   "execution_count": 5,
   "metadata": {},
   "outputs": [
    {
     "name": "stdout",
     "output_type": "stream",
     "text": [
      "count one\n",
      "count two\n",
      "count three\n",
      "count four\n",
      "count five\n",
      "count six\n",
      "Script executed in 1.00 seconds.\n"
     ]
    }
   ],
   "source": [
    "import time,asyncio\n",
    "\n",
    "async def count():\n",
    "    print(\"count one\")\n",
    "    await asyncio.sleep(1)\n",
    "    print(\"count four\")\n",
    "\n",
    "async def count_further():\n",
    "    print(\"count two\")\n",
    "    await asyncio.sleep(1)\n",
    "    print(\"count five\")\n",
    "\n",
    "async def count_even_further():\n",
    "    print(\"count three\")\n",
    "    await asyncio.sleep(1)\n",
    "    print(\"count six\")\n",
    "\n",
    "async def main():\n",
    "    await asyncio.gather(count(), count_further(), count_even_further())\n",
    "\n",
    "s = time.perf_counter()\n",
    "await main()\n",
    "elapsed = time.perf_counter() - s\n",
    "print(f\"Script executed in {elapsed:0.2f} seconds.\")"
   ]
  },
  {
   "cell_type": "markdown",
   "metadata": {},
   "source": [
    "#1: Coroutines don’t do much on their own until they are tied to the event loop.\n",
    "\n",
    "You saw this point before in the explanation on generators, but it’s worth restating. If you have a main coroutine that awaits others, simply calling it in isolation has little effect:"
   ]
  },
  {
   "cell_type": "code",
   "execution_count": 13,
   "metadata": {},
   "outputs": [
    {
     "data": {
      "text/plain": [
       "<coroutine object main at 0x7f985cc593c0>"
      ]
     },
     "execution_count": 13,
     "metadata": {},
     "output_type": "execute_result"
    }
   ],
   "source": [
    "async def main():\n",
    "    print(\"Hello ...\")\n",
    "    await asyncio.sleep(1)\n",
    "    print(\"World!\")\n",
    "\n",
    "rout = main()\n",
    "rout"
   ]
  },
  {
   "cell_type": "code",
   "execution_count": 14,
   "metadata": {},
   "outputs": [
    {
     "name": "stdout",
     "output_type": "stream",
     "text": [
      "Hello ...\n",
      "World!\n"
     ]
    }
   ],
   "source": [
    "asyncio.run(rout)"
   ]
  },
  {
   "cell_type": "markdown",
   "metadata": {},
   "source": [
    "#2: By default, an async IO event loop runs in a single thread and on a single CPU core. Usually, running one single-threaded event loop in one CPU core is more than sufficient. It is also possible to run event loops across multiple cores. Check out this talk by John Reese for more, and be warned that your laptop may spontaneously combust.\n",
    "\n",
    "#3. Event loops are pluggable. That is, you could, if you really wanted, write your own event loop implementation and have it run tasks just the same. This is wonderfully demonstrated in the uvloop package, which is an implementation of the event loop in Cython."
   ]
  },
  {
   "cell_type": "markdown",
   "metadata": {},
   "source": [
    " In contrast, almost everything in aiohttp is an awaitable coroutine, such as session.request() and response.text(). It’s a great package otherwise, but you’re doing yourself a disservice by using requests in asynchronous code."
   ]
  },
  {
   "cell_type": "code",
   "execution_count": 16,
   "metadata": {},
   "outputs": [],
   "source": [
    "# areq.py\n",
    "\n",
    "\"\"\"Asynchronously get links embedded in multiple pages' HMTL.\"\"\"\n",
    "\n",
    "import asyncio\n",
    "import logging\n",
    "import re\n",
    "import sys\n",
    "from typing import IO\n",
    "import urllib.error\n",
    "import urllib.parse\n",
    "\n",
    "import aiofiles\n",
    "import aiohttp\n",
    "from aiohttp import ClientSession\n",
    "\n",
    "logging.basicConfig(\n",
    "    format=\"%(asctime)s %(levelname)s:%(name)s: %(message)s\",\n",
    "    level=logging.DEBUG,\n",
    "    datefmt=\"%H:%M:%S\",\n",
    "    stream=sys.stderr,\n",
    ")\n",
    "logger = logging.getLogger(\"areq\")\n",
    "logging.getLogger(\"chardet.charsetprober\").disabled = True\n",
    "\n",
    "HREF_RE = re.compile(r'href=\"(.*?)\"')\n",
    "\n",
    "async def fetch_html(url: str, session: ClientSession, **kwargs) -> str:\n",
    "    \"\"\"GET request wrapper to fetch page HTML.\n",
    "\n",
    "    kwargs are passed to `session.request()`.\n",
    "    \"\"\"\n",
    "\n",
    "    resp = await session.request(method=\"GET\", url=url, **kwargs)\n",
    "    resp.raise_for_status()\n",
    "    logger.info(\"Got response [%s] for URL: %s\", resp.status, url)\n",
    "    html = await resp.text()\n",
    "    return html\n",
    "\n",
    "async def parse(url: str, session: ClientSession, **kwargs) -> set:\n",
    "    \"\"\"Find HREFs in the HTML of `url`.\"\"\"\n",
    "    found = set()\n",
    "    try:\n",
    "        html = await fetch_html(url=url, session=session, **kwargs)\n",
    "    except (\n",
    "        aiohttp.ClientError,\n",
    "        aiohttp.http_exceptions.HttpProcessingError,\n",
    "    ) as e:\n",
    "        logger.error(\n",
    "            \"aiohttp exception for %s [%s]: %s\",\n",
    "            url,\n",
    "            getattr(e, \"status\", None),\n",
    "            getattr(e, \"message\", None),\n",
    "        )\n",
    "        return found\n",
    "    except Exception as e:\n",
    "        logger.exception(\n",
    "            \"Non-aiohttp exception occured:  %s\", getattr(e, \"__dict__\", {})\n",
    "        )\n",
    "        return found\n",
    "    else:\n",
    "        for link in HREF_RE.findall(html):\n",
    "            try:\n",
    "                abslink = urllib.parse.urljoin(url, link)\n",
    "            except (urllib.error.URLError, ValueError):\n",
    "                logger.exception(\"Error parsing URL: %s\", link)\n",
    "                pass\n",
    "            else:\n",
    "                found.add(abslink)\n",
    "        logger.info(\"Found %d links for %s\", len(found), url)\n",
    "        return found\n",
    "\n",
    "async def write_one(file: IO, url: str, **kwargs) -> None:\n",
    "    \"\"\"Write the found HREFs from `url` to `file`.\"\"\"\n",
    "    res = await parse(url=url, **kwargs)\n",
    "    if not res:\n",
    "        return None\n",
    "    async with aiofiles.open(file, \"a\") as f:\n",
    "        for p in res:\n",
    "            await f.write(f\"{url}\\t{p}\\n\")\n",
    "        logger.info(\"Wrote results for source URL: %s\", url)\n",
    "\n",
    "async def bulk_crawl_and_write(file: IO, urls: set, **kwargs) -> None:\n",
    "    \"\"\"Crawl & write concurrently to `file` for multiple `urls`.\"\"\"\n",
    "    async with ClientSession() as session:\n",
    "        tasks = []\n",
    "        for url in urls:\n",
    "            tasks.append(\n",
    "                write_one(file=file, url=url, session=session, **kwargs)\n",
    "            )\n",
    "        await asyncio.gather(*tasks)\n"
   ]
  },
  {
   "cell_type": "code",
   "execution_count": null,
   "metadata": {},
   "outputs": [
    {
     "name": "stderr",
     "output_type": "stream",
     "text": [
      "18:30:44 INFO:areq: Got response [200] for URL: https://1.1.1.1/\n",
      "18:30:44 DEBUG:charset_normalizer: Encoding detection: utf_8 is most likely the one.\n",
      "18:30:44 INFO:areq: Found 36 links for https://1.1.1.1/\n",
      "/home/kamal/matrix_env/lib/python3.11/site-packages/pygments/regexopt.py:77: RuntimeWarning: coroutine 'main' was never awaited\n",
      "  '|'.join(regex_opt_inner(list(group[1]), '')\n",
      "RuntimeWarning: Enable tracemalloc to get the object allocation traceback\n"
     ]
    },
    {
     "ename": "TypeError",
     "evalue": "expected str, bytes or os.PathLike object, not TextIOWrapper",
     "output_type": "error",
     "traceback": [
      "\u001b[0;31m---------------------------------------------------------------------------\u001b[0m",
      "\u001b[0;31mTypeError\u001b[0m                                 Traceback (most recent call last)",
      "\u001b[1;32m/home/kamal/gitfolders/python_de_learners_data/code_script_notebooks/projects/asyncio/asyncio_primer.ipynb Cell 24\u001b[0m line \u001b[0;36m1\n\u001b[1;32m      <a href='vscode-notebook-cell:/home/kamal/gitfolders/python_de_learners_data/code_script_notebooks/projects/asyncio/asyncio_primer.ipynb#X42sZmlsZQ%3D%3D?line=6'>7</a>\u001b[0m \u001b[39mwith\u001b[39;00m \u001b[39mopen\u001b[39m(\u001b[39m\"\u001b[39m\u001b[39mfoundURLs.txt\u001b[39m\u001b[39m\"\u001b[39m, \u001b[39m\"\u001b[39m\u001b[39mw\u001b[39m\u001b[39m\"\u001b[39m) \u001b[39mas\u001b[39;00m outfile:\n\u001b[1;32m      <a href='vscode-notebook-cell:/home/kamal/gitfolders/python_de_learners_data/code_script_notebooks/projects/asyncio/asyncio_primer.ipynb#X42sZmlsZQ%3D%3D?line=7'>8</a>\u001b[0m     outfile\u001b[39m.\u001b[39mwrite(\u001b[39m\"\u001b[39m\u001b[39msource_url\u001b[39m\u001b[39m\\t\u001b[39;00m\u001b[39mparsed_url\u001b[39m\u001b[39m\\n\u001b[39;00m\u001b[39m\"\u001b[39m)\n\u001b[0;32m---> <a href='vscode-notebook-cell:/home/kamal/gitfolders/python_de_learners_data/code_script_notebooks/projects/asyncio/asyncio_primer.ipynb#X42sZmlsZQ%3D%3D?line=9'>10</a>\u001b[0m asyncio\u001b[39m.\u001b[39;49mrun(bulk_crawl_and_write(file\u001b[39m=\u001b[39;49moutfile, urls\u001b[39m=\u001b[39;49murls))\n",
      "File \u001b[0;32m~/matrix_env/lib/python3.11/site-packages/nest_asyncio.py:31\u001b[0m, in \u001b[0;36m_patch_asyncio.<locals>.run\u001b[0;34m(main, debug)\u001b[0m\n\u001b[1;32m     29\u001b[0m task \u001b[39m=\u001b[39m asyncio\u001b[39m.\u001b[39mensure_future(main)\n\u001b[1;32m     30\u001b[0m \u001b[39mtry\u001b[39;00m:\n\u001b[0;32m---> 31\u001b[0m     \u001b[39mreturn\u001b[39;00m loop\u001b[39m.\u001b[39;49mrun_until_complete(task)\n\u001b[1;32m     32\u001b[0m \u001b[39mfinally\u001b[39;00m:\n\u001b[1;32m     33\u001b[0m     \u001b[39mif\u001b[39;00m \u001b[39mnot\u001b[39;00m task\u001b[39m.\u001b[39mdone():\n",
      "File \u001b[0;32m~/matrix_env/lib/python3.11/site-packages/nest_asyncio.py:99\u001b[0m, in \u001b[0;36m_patch_loop.<locals>.run_until_complete\u001b[0;34m(self, future)\u001b[0m\n\u001b[1;32m     96\u001b[0m \u001b[39mif\u001b[39;00m \u001b[39mnot\u001b[39;00m f\u001b[39m.\u001b[39mdone():\n\u001b[1;32m     97\u001b[0m     \u001b[39mraise\u001b[39;00m \u001b[39mRuntimeError\u001b[39;00m(\n\u001b[1;32m     98\u001b[0m         \u001b[39m'\u001b[39m\u001b[39mEvent loop stopped before Future completed.\u001b[39m\u001b[39m'\u001b[39m)\n\u001b[0;32m---> 99\u001b[0m \u001b[39mreturn\u001b[39;00m f\u001b[39m.\u001b[39;49mresult()\n",
      "File \u001b[0;32m/usr/lib/python3.11/asyncio/futures.py:203\u001b[0m, in \u001b[0;36mFuture.result\u001b[0;34m(self)\u001b[0m\n\u001b[1;32m    201\u001b[0m \u001b[39mself\u001b[39m\u001b[39m.\u001b[39m__log_traceback \u001b[39m=\u001b[39m \u001b[39mFalse\u001b[39;00m\n\u001b[1;32m    202\u001b[0m \u001b[39mif\u001b[39;00m \u001b[39mself\u001b[39m\u001b[39m.\u001b[39m_exception \u001b[39mis\u001b[39;00m \u001b[39mnot\u001b[39;00m \u001b[39mNone\u001b[39;00m:\n\u001b[0;32m--> 203\u001b[0m     \u001b[39mraise\u001b[39;00m \u001b[39mself\u001b[39m\u001b[39m.\u001b[39m_exception\u001b[39m.\u001b[39mwith_traceback(\u001b[39mself\u001b[39m\u001b[39m.\u001b[39m_exception_tb)\n\u001b[1;32m    204\u001b[0m \u001b[39mreturn\u001b[39;00m \u001b[39mself\u001b[39m\u001b[39m.\u001b[39m_result\n",
      "File \u001b[0;32m/usr/lib/python3.11/asyncio/tasks.py:267\u001b[0m, in \u001b[0;36mTask.__step\u001b[0;34m(***failed resolving arguments***)\u001b[0m\n\u001b[1;32m    263\u001b[0m \u001b[39mtry\u001b[39;00m:\n\u001b[1;32m    264\u001b[0m     \u001b[39mif\u001b[39;00m exc \u001b[39mis\u001b[39;00m \u001b[39mNone\u001b[39;00m:\n\u001b[1;32m    265\u001b[0m         \u001b[39m# We use the `send` method directly, because coroutines\u001b[39;00m\n\u001b[1;32m    266\u001b[0m         \u001b[39m# don't have `__iter__` and `__next__` methods.\u001b[39;00m\n\u001b[0;32m--> 267\u001b[0m         result \u001b[39m=\u001b[39m coro\u001b[39m.\u001b[39msend(\u001b[39mNone\u001b[39;00m)\n\u001b[1;32m    268\u001b[0m     \u001b[39melse\u001b[39;00m:\n\u001b[1;32m    269\u001b[0m         result \u001b[39m=\u001b[39m coro\u001b[39m.\u001b[39mthrow(exc)\n",
      "\u001b[1;32m/home/kamal/gitfolders/python_de_learners_data/code_script_notebooks/projects/asyncio/asyncio_primer.ipynb Cell 24\u001b[0m line \u001b[0;36m9\n\u001b[1;32m     <a href='vscode-notebook-cell:/home/kamal/gitfolders/python_de_learners_data/code_script_notebooks/projects/asyncio/asyncio_primer.ipynb#X42sZmlsZQ%3D%3D?line=86'>87</a>\u001b[0m \u001b[39mfor\u001b[39;00m url \u001b[39min\u001b[39;00m urls:\n\u001b[1;32m     <a href='vscode-notebook-cell:/home/kamal/gitfolders/python_de_learners_data/code_script_notebooks/projects/asyncio/asyncio_primer.ipynb#X42sZmlsZQ%3D%3D?line=87'>88</a>\u001b[0m     tasks\u001b[39m.\u001b[39mappend(\n\u001b[1;32m     <a href='vscode-notebook-cell:/home/kamal/gitfolders/python_de_learners_data/code_script_notebooks/projects/asyncio/asyncio_primer.ipynb#X42sZmlsZQ%3D%3D?line=88'>89</a>\u001b[0m         write_one(file\u001b[39m=\u001b[39mfile, url\u001b[39m=\u001b[39murl, session\u001b[39m=\u001b[39msession, \u001b[39m*\u001b[39m\u001b[39m*\u001b[39mkwargs)\n\u001b[1;32m     <a href='vscode-notebook-cell:/home/kamal/gitfolders/python_de_learners_data/code_script_notebooks/projects/asyncio/asyncio_primer.ipynb#X42sZmlsZQ%3D%3D?line=89'>90</a>\u001b[0m     )\n\u001b[0;32m---> <a href='vscode-notebook-cell:/home/kamal/gitfolders/python_de_learners_data/code_script_notebooks/projects/asyncio/asyncio_primer.ipynb#X42sZmlsZQ%3D%3D?line=90'>91</a>\u001b[0m \u001b[39mawait\u001b[39;00m asyncio\u001b[39m.\u001b[39mgather(\u001b[39m*\u001b[39mtasks)\n",
      "File \u001b[0;32m/usr/lib/python3.11/asyncio/tasks.py:339\u001b[0m, in \u001b[0;36mTask.__wakeup\u001b[0;34m(self, future)\u001b[0m\n\u001b[1;32m    337\u001b[0m \u001b[39mdef\u001b[39;00m \u001b[39m__wakeup\u001b[39m(\u001b[39mself\u001b[39m, future):\n\u001b[1;32m    338\u001b[0m     \u001b[39mtry\u001b[39;00m:\n\u001b[0;32m--> 339\u001b[0m         future\u001b[39m.\u001b[39;49mresult()\n\u001b[1;32m    340\u001b[0m     \u001b[39mexcept\u001b[39;00m \u001b[39mBaseException\u001b[39;00m \u001b[39mas\u001b[39;00m exc:\n\u001b[1;32m    341\u001b[0m         \u001b[39m# This may also be a cancellation.\u001b[39;00m\n\u001b[1;32m    342\u001b[0m         \u001b[39mself\u001b[39m\u001b[39m.\u001b[39m__step(exc)\n",
      "File \u001b[0;32m/usr/lib/python3.11/asyncio/tasks.py:269\u001b[0m, in \u001b[0;36mTask.__step\u001b[0;34m(***failed resolving arguments***)\u001b[0m\n\u001b[1;32m    267\u001b[0m         result \u001b[39m=\u001b[39m coro\u001b[39m.\u001b[39msend(\u001b[39mNone\u001b[39;00m)\n\u001b[1;32m    268\u001b[0m     \u001b[39melse\u001b[39;00m:\n\u001b[0;32m--> 269\u001b[0m         result \u001b[39m=\u001b[39m coro\u001b[39m.\u001b[39mthrow(exc)\n\u001b[1;32m    270\u001b[0m \u001b[39mexcept\u001b[39;00m \u001b[39mStopIteration\u001b[39;00m \u001b[39mas\u001b[39;00m exc:\n\u001b[1;32m    271\u001b[0m     \u001b[39mif\u001b[39;00m \u001b[39mself\u001b[39m\u001b[39m.\u001b[39m_must_cancel:\n\u001b[1;32m    272\u001b[0m         \u001b[39m# Task is cancelled right before coro stops.\u001b[39;00m\n",
      "\u001b[1;32m/home/kamal/gitfolders/python_de_learners_data/code_script_notebooks/projects/asyncio/asyncio_primer.ipynb Cell 24\u001b[0m line \u001b[0;36m7\n\u001b[1;32m     <a href='vscode-notebook-cell:/home/kamal/gitfolders/python_de_learners_data/code_script_notebooks/projects/asyncio/asyncio_primer.ipynb#X42sZmlsZQ%3D%3D?line=75'>76</a>\u001b[0m \u001b[39mif\u001b[39;00m \u001b[39mnot\u001b[39;00m res:\n\u001b[1;32m     <a href='vscode-notebook-cell:/home/kamal/gitfolders/python_de_learners_data/code_script_notebooks/projects/asyncio/asyncio_primer.ipynb#X42sZmlsZQ%3D%3D?line=76'>77</a>\u001b[0m     \u001b[39mreturn\u001b[39;00m \u001b[39mNone\u001b[39;00m\n\u001b[0;32m---> <a href='vscode-notebook-cell:/home/kamal/gitfolders/python_de_learners_data/code_script_notebooks/projects/asyncio/asyncio_primer.ipynb#X42sZmlsZQ%3D%3D?line=77'>78</a>\u001b[0m \u001b[39masync\u001b[39;00m \u001b[39mwith\u001b[39;00m aiofiles\u001b[39m.\u001b[39mopen(file, \u001b[39m\"\u001b[39m\u001b[39ma\u001b[39m\u001b[39m\"\u001b[39m) \u001b[39mas\u001b[39;00m f:\n\u001b[1;32m     <a href='vscode-notebook-cell:/home/kamal/gitfolders/python_de_learners_data/code_script_notebooks/projects/asyncio/asyncio_primer.ipynb#X42sZmlsZQ%3D%3D?line=78'>79</a>\u001b[0m     \u001b[39mfor\u001b[39;00m p \u001b[39min\u001b[39;00m res:\n\u001b[1;32m     <a href='vscode-notebook-cell:/home/kamal/gitfolders/python_de_learners_data/code_script_notebooks/projects/asyncio/asyncio_primer.ipynb#X42sZmlsZQ%3D%3D?line=79'>80</a>\u001b[0m         \u001b[39mawait\u001b[39;00m f\u001b[39m.\u001b[39mwrite(\u001b[39mf\u001b[39m\u001b[39m\"\u001b[39m\u001b[39m{\u001b[39;00murl\u001b[39m}\u001b[39;00m\u001b[39m\\t\u001b[39;00m\u001b[39m{\u001b[39;00mp\u001b[39m}\u001b[39;00m\u001b[39m\\n\u001b[39;00m\u001b[39m\"\u001b[39m)\n",
      "File \u001b[0;32m~/matrix_env/lib/python3.11/site-packages/aiofiles/base.py:98\u001b[0m, in \u001b[0;36m_ContextManager.__aenter__\u001b[0;34m(self)\u001b[0m\n\u001b[1;32m     97\u001b[0m \u001b[39masync\u001b[39;00m \u001b[39mdef\u001b[39;00m \u001b[39m__aenter__\u001b[39m(\u001b[39mself\u001b[39m):\n\u001b[0;32m---> 98\u001b[0m     \u001b[39mself\u001b[39m\u001b[39m.\u001b[39m_obj \u001b[39m=\u001b[39m \u001b[39mawait\u001b[39;00m \u001b[39mself\u001b[39m\u001b[39m.\u001b[39m_coro\n\u001b[1;32m     99\u001b[0m     \u001b[39mreturn\u001b[39;00m \u001b[39mself\u001b[39m\u001b[39m.\u001b[39m_obj\n",
      "File \u001b[0;32m~/matrix_env/lib/python3.11/site-packages/aiofiles/threadpool/__init__.py:94\u001b[0m, in \u001b[0;36m_open\u001b[0;34m(file, mode, buffering, encoding, errors, newline, closefd, opener, loop, executor)\u001b[0m\n\u001b[1;32m     82\u001b[0m     loop \u001b[39m=\u001b[39m asyncio\u001b[39m.\u001b[39mget_running_loop()\n\u001b[1;32m     83\u001b[0m cb \u001b[39m=\u001b[39m partial(\n\u001b[1;32m     84\u001b[0m     sync_open,\n\u001b[1;32m     85\u001b[0m     file,\n\u001b[0;32m   (...)\u001b[0m\n\u001b[1;32m     92\u001b[0m     opener\u001b[39m=\u001b[39mopener,\n\u001b[1;32m     93\u001b[0m )\n\u001b[0;32m---> 94\u001b[0m f \u001b[39m=\u001b[39m \u001b[39myield from\u001b[39;00m loop\u001b[39m.\u001b[39mrun_in_executor(executor, cb)\n\u001b[1;32m     96\u001b[0m \u001b[39mreturn\u001b[39;00m wrap(f, loop\u001b[39m=\u001b[39mloop, executor\u001b[39m=\u001b[39mexecutor)\n",
      "File \u001b[0;32m/usr/lib/python3.11/asyncio/futures.py:287\u001b[0m, in \u001b[0;36mFuture.__await__\u001b[0;34m(self)\u001b[0m\n\u001b[1;32m    285\u001b[0m \u001b[39mif\u001b[39;00m \u001b[39mnot\u001b[39;00m \u001b[39mself\u001b[39m\u001b[39m.\u001b[39mdone():\n\u001b[1;32m    286\u001b[0m     \u001b[39mself\u001b[39m\u001b[39m.\u001b[39m_asyncio_future_blocking \u001b[39m=\u001b[39m \u001b[39mTrue\u001b[39;00m\n\u001b[0;32m--> 287\u001b[0m     \u001b[39myield\u001b[39;00m \u001b[39mself\u001b[39m  \u001b[39m# This tells Task to wait for completion.\u001b[39;00m\n\u001b[1;32m    288\u001b[0m \u001b[39mif\u001b[39;00m \u001b[39mnot\u001b[39;00m \u001b[39mself\u001b[39m\u001b[39m.\u001b[39mdone():\n\u001b[1;32m    289\u001b[0m     \u001b[39mraise\u001b[39;00m \u001b[39mRuntimeError\u001b[39;00m(\u001b[39m\"\u001b[39m\u001b[39mawait wasn\u001b[39m\u001b[39m'\u001b[39m\u001b[39mt used with future\u001b[39m\u001b[39m\"\u001b[39m)\n",
      "File \u001b[0;32m/usr/lib/python3.11/asyncio/tasks.py:339\u001b[0m, in \u001b[0;36mTask.__wakeup\u001b[0;34m(self, future)\u001b[0m\n\u001b[1;32m    337\u001b[0m \u001b[39mdef\u001b[39;00m \u001b[39m__wakeup\u001b[39m(\u001b[39mself\u001b[39m, future):\n\u001b[1;32m    338\u001b[0m     \u001b[39mtry\u001b[39;00m:\n\u001b[0;32m--> 339\u001b[0m         future\u001b[39m.\u001b[39;49mresult()\n\u001b[1;32m    340\u001b[0m     \u001b[39mexcept\u001b[39;00m \u001b[39mBaseException\u001b[39;00m \u001b[39mas\u001b[39;00m exc:\n\u001b[1;32m    341\u001b[0m         \u001b[39m# This may also be a cancellation.\u001b[39;00m\n\u001b[1;32m    342\u001b[0m         \u001b[39mself\u001b[39m\u001b[39m.\u001b[39m__step(exc)\n",
      "File \u001b[0;32m/usr/lib/python3.11/asyncio/futures.py:203\u001b[0m, in \u001b[0;36mFuture.result\u001b[0;34m(self)\u001b[0m\n\u001b[1;32m    201\u001b[0m \u001b[39mself\u001b[39m\u001b[39m.\u001b[39m__log_traceback \u001b[39m=\u001b[39m \u001b[39mFalse\u001b[39;00m\n\u001b[1;32m    202\u001b[0m \u001b[39mif\u001b[39;00m \u001b[39mself\u001b[39m\u001b[39m.\u001b[39m_exception \u001b[39mis\u001b[39;00m \u001b[39mnot\u001b[39;00m \u001b[39mNone\u001b[39;00m:\n\u001b[0;32m--> 203\u001b[0m     \u001b[39mraise\u001b[39;00m \u001b[39mself\u001b[39m\u001b[39m.\u001b[39m_exception\u001b[39m.\u001b[39mwith_traceback(\u001b[39mself\u001b[39m\u001b[39m.\u001b[39m_exception_tb)\n\u001b[1;32m    204\u001b[0m \u001b[39mreturn\u001b[39;00m \u001b[39mself\u001b[39m\u001b[39m.\u001b[39m_result\n",
      "File \u001b[0;32m/usr/lib/python3.11/concurrent/futures/thread.py:58\u001b[0m, in \u001b[0;36m_WorkItem.run\u001b[0;34m(self)\u001b[0m\n\u001b[1;32m     55\u001b[0m     \u001b[39mreturn\u001b[39;00m\n\u001b[1;32m     57\u001b[0m \u001b[39mtry\u001b[39;00m:\n\u001b[0;32m---> 58\u001b[0m     result \u001b[39m=\u001b[39m \u001b[39mself\u001b[39;49m\u001b[39m.\u001b[39;49mfn(\u001b[39m*\u001b[39;49m\u001b[39mself\u001b[39;49m\u001b[39m.\u001b[39;49margs, \u001b[39m*\u001b[39;49m\u001b[39m*\u001b[39;49m\u001b[39mself\u001b[39;49m\u001b[39m.\u001b[39;49mkwargs)\n\u001b[1;32m     59\u001b[0m \u001b[39mexcept\u001b[39;00m \u001b[39mBaseException\u001b[39;00m \u001b[39mas\u001b[39;00m exc:\n\u001b[1;32m     60\u001b[0m     \u001b[39mself\u001b[39m\u001b[39m.\u001b[39mfuture\u001b[39m.\u001b[39mset_exception(exc)\n",
      "\u001b[0;31mTypeError\u001b[0m: expected str, bytes or os.PathLike object, not TextIOWrapper"
     ]
    },
    {
     "name": "stderr",
     "output_type": "stream",
     "text": [
      "18:30:44 ERROR:areq: aiohttp exception for https://www.ietf.org/rfc/rfc2616.txt [None]: None\n",
      "18:30:44 ERROR:areq: aiohttp exception for https://docs.python.org/3/this-url-will-404.html [None]: None\n",
      "18:30:44 ERROR:areq: aiohttp exception for https://www.nytimes.com/guides/ [None]: None\n",
      "18:30:44 ERROR:areq: aiohttp exception for https://www.politico.com/tipsheets/morning-money [None]: None\n",
      "18:30:44 ERROR:areq: aiohttp exception for https://www.bloomberg.com/markets/economics [None]: None\n",
      "18:30:44 ERROR:areq: aiohttp exception for https://regex101.com/ [None]: None\n",
      "18:30:45 ERROR:areq: aiohttp exception for https://www.mediamatters.org/ [None]: None\n"
     ]
    }
   ],
   "source": [
    "import pathlib\n",
    "import sys\n",
    "\n",
    "with open(\"urls.txt\") as infile:\n",
    "    urls = set(map(str.strip, infile))\n",
    "\n",
    "with open(\"foundURLs.txt\", \"w\") as outfile:\n",
    "    outfile.write(\"source_url\\tparsed_url\\n\")\n",
    "\n",
    "asyncio.run(bulk_crawl_and_write(file=outfile, urls=urls))"
   ]
  },
  {
   "cell_type": "markdown",
   "metadata": {},
   "source": [
    "Async IO shines when you have multiple IO-bound tasks where the tasks would otherwise be dominated by blocking IO-bound wait time, such as:\n",
    "\n",
    "Network IO, whether your program is the server or the client side\n",
    "\n",
    "Serverless designs, such as a peer-to-peer, multi-user network like a group chatroom\n",
    "\n",
    "Read/write operations where you want to mimic a “fire-and-forget” style but worry less about holding a lock on whatever you’re reading and writing to\n",
    "\n",
    "The biggest reason not to use it is that await only supports a specific set of objects that define a specific set of methods. If you want to do async read operations with a certain DBMS, you’ll need to find not just a Python wrapper for that DBMS, but one that supports the async/await syntax. Coroutines that contain synchronous calls block other coroutines and tasks from running."
   ]
  },
  {
   "cell_type": "code",
   "execution_count": 18,
   "metadata": {},
   "outputs": [],
   "source": [
    "async def coro(seq) -> list:\n",
    "    \"\"\"'IO' wait time is proportional to the max element.\"\"\"\n",
    "    await asyncio.sleep(max(seq))\n",
    "    return list(reversed(seq))\n",
    "\n",
    "async def main():\n",
    "    # This is a bit redundant in the case of one task\n",
    "    # We could use `await coro([3, 2, 1])` on its own\n",
    "    t = asyncio.create_task(coro([3, 2, 1]))  # Python 3.7+\n",
    "    await t\n",
    "    print(f't: type {type(t)}')\n",
    "    print(f't done: {t.done()}')"
   ]
  },
  {
   "cell_type": "code",
   "execution_count": 19,
   "metadata": {},
   "outputs": [
    {
     "name": "stdout",
     "output_type": "stream",
     "text": [
      "t: type <class 'asyncio.tasks.Task'>\n",
      "t done: True\n"
     ]
    }
   ],
   "source": [
    "asyncio.run(main())"
   ]
  },
  {
   "cell_type": "code",
   "execution_count": 20,
   "metadata": {},
   "outputs": [],
   "source": [
    "import time\n",
    "async def main():\n",
    "    t = asyncio.create_task(coro([3, 2, 1]))\n",
    "    t2 = asyncio.create_task(coro([10, 5, 0]))  # Python 3.7+\n",
    "    print('Start:', time.strftime('%X'))\n",
    "    a = await asyncio.gather(t, t2)\n",
    "    print('End:', time.strftime('%X'))  # Should be 10 seconds\n",
    "    print(f'Both tasks done: {all((t.done(), t2.done()))}')\n",
    "    return a"
   ]
  },
  {
   "cell_type": "code",
   "execution_count": 21,
   "metadata": {},
   "outputs": [
    {
     "name": "stdout",
     "output_type": "stream",
     "text": [
      "Start: 18:35:17\n",
      "End: 18:35:27\n",
      "Both tasks done: True\n"
     ]
    },
    {
     "data": {
      "text/plain": [
       "[[1, 2, 3], [0, 5, 10]]"
      ]
     },
     "execution_count": 21,
     "metadata": {},
     "output_type": "execute_result"
    }
   ],
   "source": [
    "asyncio.run(main())"
   ]
  },
  {
   "cell_type": "code",
   "execution_count": 22,
   "metadata": {},
   "outputs": [],
   "source": [
    "async def main():\n",
    "    t = asyncio.create_task(coro([3, 2, 1]))\n",
    "    t2 = asyncio.create_task(coro([10, 5, 0]))\n",
    "    print('Start:', time.strftime('%X'))\n",
    "    for res in asyncio.as_completed((t, t2)):\n",
    "        compl = await res\n",
    "        print(f'res: {compl} completed at {time.strftime(\"%X\")}')\n",
    "    print('End:', time.strftime('%X'))\n",
    "    print(f'Both tasks done: {all((t.done(), t2.done()))}')"
   ]
  },
  {
   "cell_type": "code",
   "execution_count": 23,
   "metadata": {},
   "outputs": [
    {
     "name": "stdout",
     "output_type": "stream",
     "text": [
      "Start: 18:36:27\n",
      "res: [1, 2, 3] completed at 18:36:30\n",
      "res: [0, 5, 10] completed at 18:36:37\n",
      "End: 18:36:37\n",
      "Both tasks done: True\n"
     ]
    }
   ],
   "source": [
    "asyncio.run(main())"
   ]
  },
  {
   "cell_type": "markdown",
   "metadata": {},
   "source": [
    "### Precedence\n",
    "\n",
    "While they behave somewhat similarly, the await keyword has significantly higher precedence than yield. \n",
    "\n",
    "- You’re now equipped to use async/await and the libraries built off of it. Here’s a recap of what you’ve covered:\n",
    "\n",
    "- Asynchronous IO as a language-agnostic model and a way to effect concurrency by letting coroutines indirectly communicate with each other\n",
    "\n",
    "- The specifics of Python’s new async and await keywords, used to mark and define coroutines\n",
    "asyncio, the Python package that provides the API to run and manage coroutines"
   ]
  }
 ],
 "metadata": {
  "kernelspec": {
   "display_name": "matrix_env",
   "language": "python",
   "name": "python3"
  },
  "language_info": {
   "codemirror_mode": {
    "name": "ipython",
    "version": 3
   },
   "file_extension": ".py",
   "mimetype": "text/x-python",
   "name": "python",
   "nbconvert_exporter": "python",
   "pygments_lexer": "ipython3",
   "version": "3.11.4"
  },
  "orig_nbformat": 4
 },
 "nbformat": 4,
 "nbformat_minor": 2
}
