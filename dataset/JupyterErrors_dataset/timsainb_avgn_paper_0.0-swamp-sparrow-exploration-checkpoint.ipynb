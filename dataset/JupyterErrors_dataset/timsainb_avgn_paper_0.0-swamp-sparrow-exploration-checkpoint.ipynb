{
 "cells": [
  {
   "cell_type": "code",
   "execution_count": 1,
   "metadata": {
    "ExecuteTime": {
     "end_time": "2020-03-13T04:11:11.805409Z",
     "start_time": "2020-03-13T04:11:11.785976Z"
    }
   },
   "outputs": [
    {
     "name": "stdout",
     "output_type": "stream",
     "text": [
      "env: CUDA_VISIBLE_DEVICES=[]\n"
     ]
    }
   ],
   "source": [
    "%load_ext autoreload\n",
    "%autoreload 2\n",
    "%env CUDA_VISIBLE_DEVICES=[]"
   ]
  },
  {
   "cell_type": "markdown",
   "metadata": {},
   "source": [
    "### Swamp sparrow vocalizations\n",
    "Source:\n",
    "- https://figshare.com/articles/SwampSparrow_luscdb_zip/5625310\n",
    "- https://www.nature.com/articles/s41467-018-04728-1"
   ]
  },
  {
   "cell_type": "code",
   "execution_count": 2,
   "metadata": {
    "ExecuteTime": {
     "end_time": "2020-03-13T04:11:12.898143Z",
     "start_time": "2020-03-13T04:11:12.094550Z"
    }
   },
   "outputs": [],
   "source": [
    "from pathlib2 import Path\n",
    "import pandas as pd\n",
    "import matplotlib.pyplot as plt\n",
    "import IPython\n",
    "import numpy as np"
   ]
  },
  {
   "cell_type": "code",
   "execution_count": 3,
   "metadata": {
    "ExecuteTime": {
     "end_time": "2020-03-13T04:11:17.357973Z",
     "start_time": "2020-03-13T04:11:12.900728Z"
    }
   },
   "outputs": [
    {
     "name": "stderr",
     "output_type": "stream",
     "text": [
      "/mnt/cube/tsainbur/conda_envs/tpy3/lib/python3.6/site-packages/tqdm/autonotebook/__init__.py:14: TqdmExperimentalWarning: Using `tqdm.autonotebook.tqdm` in notebook mode. Use `tqdm.tqdm` instead to force console mode (e.g. in jupyter console)\n",
      "  \" (e.g. in jupyter console)\", TqdmExperimentalWarning)\n"
     ]
    }
   ],
   "source": [
    "from tqdm.autonotebook import tqdm\n",
    "from librosa.core.time_frequency import mel_frequencies\n",
    "from avgn.signalprocessing.spectrogramming_tf import spectrogram_tensorflow\n",
    "from avgn.utils.audio import load_wav, float32_to_int16, int16_to_float32, write_wav\n",
    "from avgn.visualization.spectrogram import visualize_spec, plot_spec\n",
    "from avgn.signalprocessing.filtering import butter_bandpass_filter"
   ]
  },
  {
   "cell_type": "code",
   "execution_count": 4,
   "metadata": {
    "ExecuteTime": {
     "end_time": "2020-03-13T04:11:17.403557Z",
     "start_time": "2020-03-13T04:11:17.360192Z"
    }
   },
   "outputs": [],
   "source": [
    "DSLOC = Path('/mnt/cube/Datasets/swampsparrow/') / 'swampsparrow-xml'"
   ]
  },
  {
   "cell_type": "code",
   "execution_count": 5,
   "metadata": {
    "ExecuteTime": {
     "end_time": "2020-03-13T04:11:17.443101Z",
     "start_time": "2020-03-13T04:11:17.405532Z"
    }
   },
   "outputs": [
    {
     "data": {
      "text/plain": [
       "PosixPath('/mnt/cube/Datasets/swampsparrow/swampsparrow-xml/SYLLABLE.csv')"
      ]
     },
     "execution_count": 5,
     "metadata": {},
     "output_type": "execute_result"
    }
   ],
   "source": [
    "DSLOC / 'SYLLABLE.csv'"
   ]
  },
  {
   "cell_type": "markdown",
   "metadata": {},
   "source": [
    "### Load data"
   ]
  },
  {
   "cell_type": "code",
   "execution_count": 6,
   "metadata": {
    "ExecuteTime": {
     "end_time": "2020-03-13T04:11:17.562908Z",
     "start_time": "2020-03-13T04:11:17.444882Z"
    }
   },
   "outputs": [
    {
     "data": {
      "text/html": [
       "<div>\n",
       "<style scoped>\n",
       "    .dataframe tbody tr th:only-of-type {\n",
       "        vertical-align: middle;\n",
       "    }\n",
       "\n",
       "    .dataframe tbody tr th {\n",
       "        vertical-align: top;\n",
       "    }\n",
       "\n",
       "    .dataframe thead th {\n",
       "        text-align: right;\n",
       "    }\n",
       "</style>\n",
       "<table border=\"1\" class=\"dataframe\">\n",
       "  <thead>\n",
       "    <tr style=\"text-align: right;\">\n",
       "      <th></th>\n",
       "      <th>ID</th>\n",
       "      <th>NUMSONGS</th>\n",
       "      <th>NAME</th>\n",
       "      <th>SPECID</th>\n",
       "      <th>POPID</th>\n",
       "      <th>LOCDESC</th>\n",
       "      <th>GRIDTYPE</th>\n",
       "      <th>GRIDX</th>\n",
       "      <th>GRIDY</th>\n",
       "      <th>SEX</th>\n",
       "      <th>RANK</th>\n",
       "      <th>AGE</th>\n",
       "    </tr>\n",
       "  </thead>\n",
       "  <tbody>\n",
       "    <tr>\n",
       "      <th>0</th>\n",
       "      <td>48</td>\n",
       "      <td>NaN</td>\n",
       "      <td>MIWAT01</td>\n",
       "      <td>Swamp Sparrow</td>\n",
       "      <td>Waterloo, MI</td>\n",
       "      <td>NaN</td>\n",
       "      <td>UTM</td>\n",
       "      <td>42.360523</td>\n",
       "      <td>-84.1779184</td>\n",
       "      <td>NaN</td>\n",
       "      <td>NaN</td>\n",
       "      <td>NaN</td>\n",
       "    </tr>\n",
       "    <tr>\n",
       "      <th>1</th>\n",
       "      <td>49</td>\n",
       "      <td>NaN</td>\n",
       "      <td>MIWAT02</td>\n",
       "      <td>Swamp Sparrow</td>\n",
       "      <td>Waterloo, MI</td>\n",
       "      <td>NaN</td>\n",
       "      <td>UTM</td>\n",
       "      <td>42.360924</td>\n",
       "      <td>-84.1781069</td>\n",
       "      <td>NaN</td>\n",
       "      <td>NaN</td>\n",
       "      <td>NaN</td>\n",
       "    </tr>\n",
       "    <tr>\n",
       "      <th>2</th>\n",
       "      <td>50</td>\n",
       "      <td>NaN</td>\n",
       "      <td>MIWAT03</td>\n",
       "      <td>Swamp Sparrow</td>\n",
       "      <td>Waterloo, MI</td>\n",
       "      <td></td>\n",
       "      <td>UTM</td>\n",
       "      <td>42.360829</td>\n",
       "      <td>-84.1782932</td>\n",
       "      <td>NaN</td>\n",
       "      <td>NaN</td>\n",
       "      <td>NaN</td>\n",
       "    </tr>\n",
       "  </tbody>\n",
       "</table>\n",
       "</div>"
      ],
      "text/plain": [
       "   ID  NUMSONGS     NAME         SPECID         POPID LOCDESC GRIDTYPE  \\\n",
       "0  48       NaN  MIWAT01  Swamp Sparrow  Waterloo, MI     NaN      UTM   \n",
       "1  49       NaN  MIWAT02  Swamp Sparrow  Waterloo, MI     NaN      UTM   \n",
       "2  50       NaN  MIWAT03  Swamp Sparrow  Waterloo, MI              UTM   \n",
       "\n",
       "       GRIDX        GRIDY  SEX  RANK  AGE  \n",
       "0  42.360523  -84.1779184  NaN   NaN  NaN  \n",
       "1  42.360924  -84.1781069  NaN   NaN  NaN  \n",
       "2  42.360829  -84.1782932  NaN   NaN  NaN  "
      ]
     },
     "execution_count": 6,
     "metadata": {},
     "output_type": "execute_result"
    }
   ],
   "source": [
    "individual = pd.read_csv(DSLOC / 'INDIVIDUAL.csv')\n",
    "individual[:3]"
   ]
  },
  {
   "cell_type": "code",
   "execution_count": 7,
   "metadata": {
    "ExecuteTime": {
     "end_time": "2020-03-13T04:11:17.630982Z",
     "start_time": "2020-03-13T04:11:17.565562Z"
    }
   },
   "outputs": [
    {
     "data": {
      "text/html": [
       "<div>\n",
       "<style scoped>\n",
       "    .dataframe tbody tr th:only-of-type {\n",
       "        vertical-align: middle;\n",
       "    }\n",
       "\n",
       "    .dataframe tbody tr th {\n",
       "        vertical-align: top;\n",
       "    }\n",
       "\n",
       "    .dataframe thead th {\n",
       "        text-align: right;\n",
       "    }\n",
       "</style>\n",
       "<table border=\"1\" class=\"dataframe\">\n",
       "  <thead>\n",
       "    <tr style=\"text-align: right;\">\n",
       "      <th></th>\n",
       "      <th>SONGID</th>\n",
       "      <th>STARTTIME</th>\n",
       "      <th>ENDTIME</th>\n",
       "    </tr>\n",
       "  </thead>\n",
       "  <tbody>\n",
       "    <tr>\n",
       "      <th>0</th>\n",
       "      <td>2531</td>\n",
       "      <td>1220</td>\n",
       "      <td>1536</td>\n",
       "    </tr>\n",
       "    <tr>\n",
       "      <th>1</th>\n",
       "      <td>2531</td>\n",
       "      <td>1223</td>\n",
       "      <td>1297</td>\n",
       "    </tr>\n",
       "    <tr>\n",
       "      <th>2</th>\n",
       "      <td>2531</td>\n",
       "      <td>1306</td>\n",
       "      <td>1378</td>\n",
       "    </tr>\n",
       "  </tbody>\n",
       "</table>\n",
       "</div>"
      ],
      "text/plain": [
       "   SONGID  STARTTIME  ENDTIME\n",
       "0    2531       1220     1536\n",
       "1    2531       1223     1297\n",
       "2    2531       1306     1378"
      ]
     },
     "execution_count": 7,
     "metadata": {},
     "output_type": "execute_result"
    }
   ],
   "source": [
    "syllables = pd.read_csv(DSLOC / 'SYLLABLE.csv')\n",
    "syllables[:3]"
   ]
  },
  {
   "cell_type": "code",
   "execution_count": 13,
   "metadata": {
    "ExecuteTime": {
     "end_time": "2020-03-13T04:14:43.201388Z",
     "start_time": "2020-03-13T04:14:42.673708Z"
    }
   },
   "outputs": [],
   "source": [
    "pd.options.display.max_columns = None"
   ]
  },
  {
   "cell_type": "code",
   "execution_count": 8,
   "metadata": {
    "ExecuteTime": {
     "end_time": "2020-03-13T04:11:29.877406Z",
     "start_time": "2020-03-13T04:11:17.632856Z"
    }
   },
   "outputs": [
    {
     "data": {
      "text/html": [
       "<div>\n",
       "<style scoped>\n",
       "    .dataframe tbody tr th:only-of-type {\n",
       "        vertical-align: middle;\n",
       "    }\n",
       "\n",
       "    .dataframe tbody tr th {\n",
       "        vertical-align: top;\n",
       "    }\n",
       "\n",
       "    .dataframe thead th {\n",
       "        text-align: right;\n",
       "    }\n",
       "</style>\n",
       "<table border=\"1\" class=\"dataframe\">\n",
       "  <thead>\n",
       "    <tr style=\"text-align: right;\">\n",
       "      <th></th>\n",
       "      <th>ID</th>\n",
       "      <th>SONGID</th>\n",
       "      <th>SIGNAL</th>\n",
       "      <th>PEAKFREQ</th>\n",
       "      <th>FUNDFREQ</th>\n",
       "      <th>MEANFREQ</th>\n",
       "      <th>MEDIANFREQ</th>\n",
       "      <th>PEAKFREQCHANGE</th>\n",
       "      <th>FUNDFREQCHANGE</th>\n",
       "      <th>MEANFREQCHANGE</th>\n",
       "      <th>...</th>\n",
       "      <th>GAPAFTER</th>\n",
       "      <th>TIMESTEP</th>\n",
       "      <th>FRAMELENGTH</th>\n",
       "      <th>MAXF</th>\n",
       "      <th>WINDOWMETHOD</th>\n",
       "      <th>DY</th>\n",
       "      <th>DYNRANGE</th>\n",
       "      <th>DYNCOMP</th>\n",
       "      <th>ECHORANGE</th>\n",
       "      <th>ECHOCOMP</th>\n",
       "    </tr>\n",
       "  </thead>\n",
       "  <tbody>\n",
       "    <tr>\n",
       "      <th>0</th>\n",
       "      <td>1820682</td>\n",
       "      <td>2011</td>\n",
       "      <td>3 177 145 139 3 178 146 137 3 179 146 137 3 18...</td>\n",
       "      <td>4263.57421875 3832.91015625 15.0 0.0 4062.5976...</td>\n",
       "      <td>4283.673733543762 3815.8396713317325 19.0 0.0 ...</td>\n",
       "      <td>4270.3427222250075 3826.5109432227587 19.0 0.0...</td>\n",
       "      <td>4306.266418097342 3843.9194083976013 14.0 3.0 ...</td>\n",
       "      <td>0.007604770101606771 0.006679462853040866 0.0 ...</td>\n",
       "      <td>0.007604770101606771 0.006679462853040866 0.0 ...</td>\n",
       "      <td>0.007604770101606771 0.006679462853040866 0.0 ...</td>\n",
       "      <td>...</td>\n",
       "      <td>7.5</td>\n",
       "      <td>0.5</td>\n",
       "      <td>5.0</td>\n",
       "      <td>10000</td>\n",
       "      <td>NaN</td>\n",
       "      <td>43.066406</td>\n",
       "      <td>200.0</td>\n",
       "      <td>36.0</td>\n",
       "      <td>25</td>\n",
       "      <td>1.0</td>\n",
       "    </tr>\n",
       "    <tr>\n",
       "      <th>1</th>\n",
       "      <td>1820683</td>\n",
       "      <td>2011</td>\n",
       "      <td>3 230 60 57 3 231 63 57 3 232 64 57 3 233 66 5...</td>\n",
       "      <td>7407.421875 3100.78125 0.0 42.0 4587.030418882...</td>\n",
       "      <td>7389.1988844382295 3027.87251546893 0.0 42.5 4...</td>\n",
       "      <td>7409.13028952881 3048.31062821831 0.0 43.0 455...</td>\n",
       "      <td>7426.946155956237 3060.4056743941146 0.0 44.0 ...</td>\n",
       "      <td>-0.012553735012542117 -0.03338982031684048 28....</td>\n",
       "      <td>-0.012553735012542117 -0.03338982031684048 28....</td>\n",
       "      <td>-0.012553735012542117 -0.03338982031684048 28....</td>\n",
       "      <td>...</td>\n",
       "      <td>2.5</td>\n",
       "      <td>0.5</td>\n",
       "      <td>5.0</td>\n",
       "      <td>10000</td>\n",
       "      <td>NaN</td>\n",
       "      <td>43.066406</td>\n",
       "      <td>200.0</td>\n",
       "      <td>36.0</td>\n",
       "      <td>25</td>\n",
       "      <td>1.0</td>\n",
       "    </tr>\n",
       "    <tr>\n",
       "      <th>2</th>\n",
       "      <td>1820684</td>\n",
       "      <td>2011</td>\n",
       "      <td>5 328 115 111 103 102 3 329 126 101 3 330 134 ...</td>\n",
       "      <td>4995.703125 3316.11328125 0.0 4.5 4117.1484375...</td>\n",
       "      <td>5137.39993108298 3399.0993019123976 0.0 4.0 42...</td>\n",
       "      <td>5047.68551414882 3327.0782209257077 0.0 4.5 41...</td>\n",
       "      <td>5064.723596006633 3325.6770996024384 0.0 4.5 4...</td>\n",
       "      <td>-0.12936507276325204 -0.12951987178017654 0.0 ...</td>\n",
       "      <td>-0.12936507276325204 -0.12951987178017654 0.0 ...</td>\n",
       "      <td>-0.12936507276325204 -0.12951987178017654 0.0 ...</td>\n",
       "      <td>...</td>\n",
       "      <td>28.5</td>\n",
       "      <td>0.5</td>\n",
       "      <td>5.0</td>\n",
       "      <td>10000</td>\n",
       "      <td>NaN</td>\n",
       "      <td>43.066406</td>\n",
       "      <td>200.0</td>\n",
       "      <td>36.0</td>\n",
       "      <td>25</td>\n",
       "      <td>1.0</td>\n",
       "    </tr>\n",
       "  </tbody>\n",
       "</table>\n",
       "<p>3 rows × 34 columns</p>\n",
       "</div>"
      ],
      "text/plain": [
       "        ID  SONGID                                             SIGNAL  \\\n",
       "0  1820682    2011  3 177 145 139 3 178 146 137 3 179 146 137 3 18...   \n",
       "1  1820683    2011  3 230 60 57 3 231 63 57 3 232 64 57 3 233 66 5...   \n",
       "2  1820684    2011  5 328 115 111 103 102 3 329 126 101 3 330 134 ...   \n",
       "\n",
       "                                            PEAKFREQ  \\\n",
       "0  4263.57421875 3832.91015625 15.0 0.0 4062.5976...   \n",
       "1  7407.421875 3100.78125 0.0 42.0 4587.030418882...   \n",
       "2  4995.703125 3316.11328125 0.0 4.5 4117.1484375...   \n",
       "\n",
       "                                            FUNDFREQ  \\\n",
       "0  4283.673733543762 3815.8396713317325 19.0 0.0 ...   \n",
       "1  7389.1988844382295 3027.87251546893 0.0 42.5 4...   \n",
       "2  5137.39993108298 3399.0993019123976 0.0 4.0 42...   \n",
       "\n",
       "                                            MEANFREQ  \\\n",
       "0  4270.3427222250075 3826.5109432227587 19.0 0.0...   \n",
       "1  7409.13028952881 3048.31062821831 0.0 43.0 455...   \n",
       "2  5047.68551414882 3327.0782209257077 0.0 4.5 41...   \n",
       "\n",
       "                                          MEDIANFREQ  \\\n",
       "0  4306.266418097342 3843.9194083976013 14.0 3.0 ...   \n",
       "1  7426.946155956237 3060.4056743941146 0.0 44.0 ...   \n",
       "2  5064.723596006633 3325.6770996024384 0.0 4.5 4...   \n",
       "\n",
       "                                      PEAKFREQCHANGE  \\\n",
       "0  0.007604770101606771 0.006679462853040866 0.0 ...   \n",
       "1  -0.012553735012542117 -0.03338982031684048 28....   \n",
       "2  -0.12936507276325204 -0.12951987178017654 0.0 ...   \n",
       "\n",
       "                                      FUNDFREQCHANGE  \\\n",
       "0  0.007604770101606771 0.006679462853040866 0.0 ...   \n",
       "1  -0.012553735012542117 -0.03338982031684048 28....   \n",
       "2  -0.12936507276325204 -0.12951987178017654 0.0 ...   \n",
       "\n",
       "                                      MEANFREQCHANGE  ... GAPAFTER TIMESTEP  \\\n",
       "0  0.007604770101606771 0.006679462853040866 0.0 ...  ...      7.5      0.5   \n",
       "1  -0.012553735012542117 -0.03338982031684048 28....  ...      2.5      0.5   \n",
       "2  -0.12936507276325204 -0.12951987178017654 0.0 ...  ...     28.5      0.5   \n",
       "\n",
       "  FRAMELENGTH   MAXF WINDOWMETHOD         DY DYNRANGE DYNCOMP ECHORANGE  \\\n",
       "0         5.0  10000          NaN  43.066406    200.0    36.0        25   \n",
       "1         5.0  10000          NaN  43.066406    200.0    36.0        25   \n",
       "2         5.0  10000          NaN  43.066406    200.0    36.0        25   \n",
       "\n",
       "   ECHOCOMP  \n",
       "0       1.0  \n",
       "1       1.0  \n",
       "2       1.0  \n",
       "\n",
       "[3 rows x 34 columns]"
      ]
     },
     "execution_count": 8,
     "metadata": {},
     "output_type": "execute_result"
    }
   ],
   "source": [
    "elements = pd.read_csv(DSLOC / 'ELEMENT.csv')\n",
    "elements[:3]"
   ]
  },
  {
   "cell_type": "code",
   "execution_count": 14,
   "metadata": {
    "ExecuteTime": {
     "end_time": "2020-03-13T04:14:45.840689Z",
     "start_time": "2020-03-13T04:14:45.774605Z"
    }
   },
   "outputs": [
    {
     "data": {
      "text/html": [
       "<div>\n",
       "<style scoped>\n",
       "    .dataframe tbody tr th:only-of-type {\n",
       "        vertical-align: middle;\n",
       "    }\n",
       "\n",
       "    .dataframe tbody tr th {\n",
       "        vertical-align: top;\n",
       "    }\n",
       "\n",
       "    .dataframe thead th {\n",
       "        text-align: right;\n",
       "    }\n",
       "</style>\n",
       "<table border=\"1\" class=\"dataframe\">\n",
       "  <thead>\n",
       "    <tr style=\"text-align: right;\">\n",
       "      <th></th>\n",
       "      <th>ID</th>\n",
       "      <th>SONGID</th>\n",
       "      <th>SIGNAL</th>\n",
       "      <th>PEAKFREQ</th>\n",
       "      <th>FUNDFREQ</th>\n",
       "      <th>MEANFREQ</th>\n",
       "      <th>MEDIANFREQ</th>\n",
       "      <th>PEAKFREQCHANGE</th>\n",
       "      <th>FUNDFREQCHANGE</th>\n",
       "      <th>MEANFREQCHANGE</th>\n",
       "      <th>MEDIANFREQCHANGE</th>\n",
       "      <th>HARMONICITY</th>\n",
       "      <th>WIENER</th>\n",
       "      <th>BANDWIDTH</th>\n",
       "      <th>AMPLITUDE</th>\n",
       "      <th>REVERBERATION</th>\n",
       "      <th>TRILLAMP</th>\n",
       "      <th>TRILLRATE</th>\n",
       "      <th>POWERSPECTRUM</th>\n",
       "      <th>STARTTIME</th>\n",
       "      <th>OVERALLPEAKFREQ1</th>\n",
       "      <th>OVERALLPEAKFREQ2</th>\n",
       "      <th>TIMELENGTH</th>\n",
       "      <th>GAPBEFORE</th>\n",
       "      <th>GAPAFTER</th>\n",
       "      <th>TIMESTEP</th>\n",
       "      <th>FRAMELENGTH</th>\n",
       "      <th>MAXF</th>\n",
       "      <th>WINDOWMETHOD</th>\n",
       "      <th>DY</th>\n",
       "      <th>DYNRANGE</th>\n",
       "      <th>DYNCOMP</th>\n",
       "      <th>ECHORANGE</th>\n",
       "      <th>ECHOCOMP</th>\n",
       "    </tr>\n",
       "  </thead>\n",
       "  <tbody>\n",
       "    <tr>\n",
       "      <th>0</th>\n",
       "      <td>1820682</td>\n",
       "      <td>2011</td>\n",
       "      <td>3 177 145 139 3 178 146 137 3 179 146 137 3 18...</td>\n",
       "      <td>4263.57421875 3832.91015625 15.0 0.0 4062.5976...</td>\n",
       "      <td>4283.673733543762 3815.8396713317325 19.0 0.0 ...</td>\n",
       "      <td>4270.3427222250075 3826.5109432227587 19.0 0.0...</td>\n",
       "      <td>4306.266418097342 3843.9194083976013 14.0 3.0 ...</td>\n",
       "      <td>0.007604770101606771 0.006679462853040866 0.0 ...</td>\n",
       "      <td>0.007604770101606771 0.006679462853040866 0.0 ...</td>\n",
       "      <td>0.007604770101606771 0.006679462853040866 0.0 ...</td>\n",
       "      <td>0.007604770101606771 0.006679462853040866 0.0 ...</td>\n",
       "      <td>0.6417240713887844 0.5782139509622957 13.0 0.0...</td>\n",
       "      <td>-0.028506678217236365 -0.1948960193124872 19.0...</td>\n",
       "      <td>301.46484375 -86.1328125 18.0 0.0 -76.19441105...</td>\n",
       "      <td>35.679351806640625 11.216655731201172 19.0 11....</td>\n",
       "      <td>100.0 0.5 2.0 8.5 27.82051282051282 43.5 50.0 ...</td>\n",
       "      <td>0.0 0.0 0.0 0.0 0.0 0.0 0.0 0.0 0.0 0.0 0.0 0....</td>\n",
       "      <td>40.0 40.0 0.0 0.0 40.0 40.0 40.0 40.0 40.0 40....</td>\n",
       "      <td>0.0 0.0 0.0 0.0 0.0 0.0 0.0 0.0 0.0 0.0 0.0 0....</td>\n",
       "      <td>177</td>\n",
       "      <td>4134.375</td>\n",
       "      <td>4134.375</td>\n",
       "      <td>19.0</td>\n",
       "      <td>-10000.0</td>\n",
       "      <td>7.5</td>\n",
       "      <td>0.5</td>\n",
       "      <td>5.0</td>\n",
       "      <td>10000</td>\n",
       "      <td>NaN</td>\n",
       "      <td>43.066406</td>\n",
       "      <td>200.0</td>\n",
       "      <td>36.0</td>\n",
       "      <td>25</td>\n",
       "      <td>1.0</td>\n",
       "    </tr>\n",
       "    <tr>\n",
       "      <th>1</th>\n",
       "      <td>1820683</td>\n",
       "      <td>2011</td>\n",
       "      <td>3 230 60 57 3 231 63 57 3 232 64 57 3 233 66 5...</td>\n",
       "      <td>7407.421875 3100.78125 0.0 42.0 4587.030418882...</td>\n",
       "      <td>7389.1988844382295 3027.87251546893 0.0 42.5 4...</td>\n",
       "      <td>7409.13028952881 3048.31062821831 0.0 43.0 455...</td>\n",
       "      <td>7426.946155956237 3060.4056743941146 0.0 44.0 ...</td>\n",
       "      <td>-0.012553735012542117 -0.03338982031684048 28....</td>\n",
       "      <td>-0.012553735012542117 -0.03338982031684048 28....</td>\n",
       "      <td>-0.012553735012542117 -0.03338982031684048 28....</td>\n",
       "      <td>-0.012553735012542117 -0.03338982031684048 28....</td>\n",
       "      <td>0.6734669894201485 0.5877230486423247 16.5 5.0...</td>\n",
       "      <td>-0.04550707709243979 -0.2510391688153517 0.0 1...</td>\n",
       "      <td>516.796875 -86.1328125 17.5 0.0 -75.5952875664...</td>\n",
       "      <td>35.076597929000854 7.0471343994140625 0.0 17.5...</td>\n",
       "      <td>100.0 0.5 0.0 7.0 26.829787234042552 100.0 100...</td>\n",
       "      <td>0.0 0.0 0.0 0.0 0.0 0.0 0.0 0.0 0.0 0.0 0.0 0....</td>\n",
       "      <td>40.0 40.0 0.0 0.0 40.0 40.0 40.0 40.0 40.0 40....</td>\n",
       "      <td>0.0 0.0 0.0 0.0 0.0 0.0 0.0 0.0 0.0 0.0 0.0 0....</td>\n",
       "      <td>230</td>\n",
       "      <td>4565.039</td>\n",
       "      <td>3186.914</td>\n",
       "      <td>46.5</td>\n",
       "      <td>7.5</td>\n",
       "      <td>2.5</td>\n",
       "      <td>0.5</td>\n",
       "      <td>5.0</td>\n",
       "      <td>10000</td>\n",
       "      <td>NaN</td>\n",
       "      <td>43.066406</td>\n",
       "      <td>200.0</td>\n",
       "      <td>36.0</td>\n",
       "      <td>25</td>\n",
       "      <td>1.0</td>\n",
       "    </tr>\n",
       "    <tr>\n",
       "      <th>2</th>\n",
       "      <td>1820684</td>\n",
       "      <td>2011</td>\n",
       "      <td>5 328 115 111 103 102 3 329 126 101 3 330 134 ...</td>\n",
       "      <td>4995.703125 3316.11328125 0.0 4.5 4117.1484375...</td>\n",
       "      <td>5137.39993108298 3399.0993019123976 0.0 4.0 42...</td>\n",
       "      <td>5047.68551414882 3327.0782209257077 0.0 4.5 41...</td>\n",
       "      <td>5064.723596006633 3325.6770996024384 0.0 4.5 4...</td>\n",
       "      <td>-0.12936507276325204 -0.12951987178017654 0.0 ...</td>\n",
       "      <td>-0.12936507276325204 -0.12951987178017654 0.0 ...</td>\n",
       "      <td>-0.12936507276325204 -0.12951987178017654 0.0 ...</td>\n",
       "      <td>-0.12936507276325204 -0.12951987178017654 0.0 ...</td>\n",
       "      <td>0.7165497097891279 0.5925254874604499 0.0 4.0 ...</td>\n",
       "      <td>-0.047124243903335805 -0.27740346752434225 0.0...</td>\n",
       "      <td>1421.19140625 -86.1328125 2.0 0.5 482.34375 43...</td>\n",
       "      <td>33.46252632141113 24.335822105407715 4.5 1.5 2...</td>\n",
       "      <td>100.0 47.5 1.5 0.5 87.35 72.0 47.5 54.0 100.0 ...</td>\n",
       "      <td>0.0 0.0 0.0 0.0 0.0 0.0 0.0 0.0 0.0 0.0 0.0 0....</td>\n",
       "      <td>40.0 40.0 0.0 0.0 40.0 40.0 40.0 40.0 40.0 40....</td>\n",
       "      <td>0.0 0.0 0.0 0.0 0.0 0.0 0.0 0.0 0.0 0.0 0.0 0....</td>\n",
       "      <td>328</td>\n",
       "      <td>4263.574</td>\n",
       "      <td>3402.246</td>\n",
       "      <td>4.5</td>\n",
       "      <td>2.5</td>\n",
       "      <td>28.5</td>\n",
       "      <td>0.5</td>\n",
       "      <td>5.0</td>\n",
       "      <td>10000</td>\n",
       "      <td>NaN</td>\n",
       "      <td>43.066406</td>\n",
       "      <td>200.0</td>\n",
       "      <td>36.0</td>\n",
       "      <td>25</td>\n",
       "      <td>1.0</td>\n",
       "    </tr>\n",
       "  </tbody>\n",
       "</table>\n",
       "</div>"
      ],
      "text/plain": [
       "        ID  SONGID                                             SIGNAL  \\\n",
       "0  1820682    2011  3 177 145 139 3 178 146 137 3 179 146 137 3 18...   \n",
       "1  1820683    2011  3 230 60 57 3 231 63 57 3 232 64 57 3 233 66 5...   \n",
       "2  1820684    2011  5 328 115 111 103 102 3 329 126 101 3 330 134 ...   \n",
       "\n",
       "                                            PEAKFREQ  \\\n",
       "0  4263.57421875 3832.91015625 15.0 0.0 4062.5976...   \n",
       "1  7407.421875 3100.78125 0.0 42.0 4587.030418882...   \n",
       "2  4995.703125 3316.11328125 0.0 4.5 4117.1484375...   \n",
       "\n",
       "                                            FUNDFREQ  \\\n",
       "0  4283.673733543762 3815.8396713317325 19.0 0.0 ...   \n",
       "1  7389.1988844382295 3027.87251546893 0.0 42.5 4...   \n",
       "2  5137.39993108298 3399.0993019123976 0.0 4.0 42...   \n",
       "\n",
       "                                            MEANFREQ  \\\n",
       "0  4270.3427222250075 3826.5109432227587 19.0 0.0...   \n",
       "1  7409.13028952881 3048.31062821831 0.0 43.0 455...   \n",
       "2  5047.68551414882 3327.0782209257077 0.0 4.5 41...   \n",
       "\n",
       "                                          MEDIANFREQ  \\\n",
       "0  4306.266418097342 3843.9194083976013 14.0 3.0 ...   \n",
       "1  7426.946155956237 3060.4056743941146 0.0 44.0 ...   \n",
       "2  5064.723596006633 3325.6770996024384 0.0 4.5 4...   \n",
       "\n",
       "                                      PEAKFREQCHANGE  \\\n",
       "0  0.007604770101606771 0.006679462853040866 0.0 ...   \n",
       "1  -0.012553735012542117 -0.03338982031684048 28....   \n",
       "2  -0.12936507276325204 -0.12951987178017654 0.0 ...   \n",
       "\n",
       "                                      FUNDFREQCHANGE  \\\n",
       "0  0.007604770101606771 0.006679462853040866 0.0 ...   \n",
       "1  -0.012553735012542117 -0.03338982031684048 28....   \n",
       "2  -0.12936507276325204 -0.12951987178017654 0.0 ...   \n",
       "\n",
       "                                      MEANFREQCHANGE  \\\n",
       "0  0.007604770101606771 0.006679462853040866 0.0 ...   \n",
       "1  -0.012553735012542117 -0.03338982031684048 28....   \n",
       "2  -0.12936507276325204 -0.12951987178017654 0.0 ...   \n",
       "\n",
       "                                    MEDIANFREQCHANGE  \\\n",
       "0  0.007604770101606771 0.006679462853040866 0.0 ...   \n",
       "1  -0.012553735012542117 -0.03338982031684048 28....   \n",
       "2  -0.12936507276325204 -0.12951987178017654 0.0 ...   \n",
       "\n",
       "                                         HARMONICITY  \\\n",
       "0  0.6417240713887844 0.5782139509622957 13.0 0.0...   \n",
       "1  0.6734669894201485 0.5877230486423247 16.5 5.0...   \n",
       "2  0.7165497097891279 0.5925254874604499 0.0 4.0 ...   \n",
       "\n",
       "                                              WIENER  \\\n",
       "0  -0.028506678217236365 -0.1948960193124872 19.0...   \n",
       "1  -0.04550707709243979 -0.2510391688153517 0.0 1...   \n",
       "2  -0.047124243903335805 -0.27740346752434225 0.0...   \n",
       "\n",
       "                                           BANDWIDTH  \\\n",
       "0  301.46484375 -86.1328125 18.0 0.0 -76.19441105...   \n",
       "1  516.796875 -86.1328125 17.5 0.0 -75.5952875664...   \n",
       "2  1421.19140625 -86.1328125 2.0 0.5 482.34375 43...   \n",
       "\n",
       "                                           AMPLITUDE  \\\n",
       "0  35.679351806640625 11.216655731201172 19.0 11....   \n",
       "1  35.076597929000854 7.0471343994140625 0.0 17.5...   \n",
       "2  33.46252632141113 24.335822105407715 4.5 1.5 2...   \n",
       "\n",
       "                                       REVERBERATION  \\\n",
       "0  100.0 0.5 2.0 8.5 27.82051282051282 43.5 50.0 ...   \n",
       "1  100.0 0.5 0.0 7.0 26.829787234042552 100.0 100...   \n",
       "2  100.0 47.5 1.5 0.5 87.35 72.0 47.5 54.0 100.0 ...   \n",
       "\n",
       "                                            TRILLAMP  \\\n",
       "0  0.0 0.0 0.0 0.0 0.0 0.0 0.0 0.0 0.0 0.0 0.0 0....   \n",
       "1  0.0 0.0 0.0 0.0 0.0 0.0 0.0 0.0 0.0 0.0 0.0 0....   \n",
       "2  0.0 0.0 0.0 0.0 0.0 0.0 0.0 0.0 0.0 0.0 0.0 0....   \n",
       "\n",
       "                                           TRILLRATE  \\\n",
       "0  40.0 40.0 0.0 0.0 40.0 40.0 40.0 40.0 40.0 40....   \n",
       "1  40.0 40.0 0.0 0.0 40.0 40.0 40.0 40.0 40.0 40....   \n",
       "2  40.0 40.0 0.0 0.0 40.0 40.0 40.0 40.0 40.0 40....   \n",
       "\n",
       "                                       POWERSPECTRUM  STARTTIME  \\\n",
       "0  0.0 0.0 0.0 0.0 0.0 0.0 0.0 0.0 0.0 0.0 0.0 0....        177   \n",
       "1  0.0 0.0 0.0 0.0 0.0 0.0 0.0 0.0 0.0 0.0 0.0 0....        230   \n",
       "2  0.0 0.0 0.0 0.0 0.0 0.0 0.0 0.0 0.0 0.0 0.0 0....        328   \n",
       "\n",
       "   OVERALLPEAKFREQ1  OVERALLPEAKFREQ2  TIMELENGTH  GAPBEFORE  GAPAFTER  \\\n",
       "0          4134.375          4134.375        19.0   -10000.0       7.5   \n",
       "1          4565.039          3186.914        46.5        7.5       2.5   \n",
       "2          4263.574          3402.246         4.5        2.5      28.5   \n",
       "\n",
       "   TIMESTEP  FRAMELENGTH   MAXF  WINDOWMETHOD         DY  DYNRANGE  DYNCOMP  \\\n",
       "0       0.5          5.0  10000           NaN  43.066406     200.0     36.0   \n",
       "1       0.5          5.0  10000           NaN  43.066406     200.0     36.0   \n",
       "2       0.5          5.0  10000           NaN  43.066406     200.0     36.0   \n",
       "\n",
       "   ECHORANGE  ECHOCOMP  \n",
       "0         25       1.0  \n",
       "1         25       1.0  \n",
       "2         25       1.0  "
      ]
     },
     "execution_count": 14,
     "metadata": {},
     "output_type": "execute_result"
    }
   ],
   "source": [
    "elements[:3]"
   ]
  },
  {
   "cell_type": "code",
   "execution_count": 9,
   "metadata": {
    "ExecuteTime": {
     "end_time": "2020-03-13T04:11:29.931734Z",
     "start_time": "2020-03-13T04:11:29.879480Z"
    }
   },
   "outputs": [
    {
     "data": {
      "text/plain": [
       "97613"
      ]
     },
     "execution_count": 9,
     "metadata": {},
     "output_type": "execute_result"
    }
   ],
   "source": [
    "len(elements.ID.unique())"
   ]
  },
  {
   "cell_type": "code",
   "execution_count": 10,
   "metadata": {
    "ExecuteTime": {
     "end_time": "2020-03-13T04:11:29.974246Z",
     "start_time": "2020-03-13T04:11:29.933330Z"
    }
   },
   "outputs": [
    {
     "data": {
      "text/plain": [
       "1855"
      ]
     },
     "execution_count": 10,
     "metadata": {},
     "output_type": "execute_result"
    }
   ],
   "source": [
    "len(elements.SONGID.unique())"
   ]
  },
  {
   "cell_type": "code",
   "execution_count": 11,
   "metadata": {
    "ExecuteTime": {
     "end_time": "2020-03-13T04:11:30.016447Z",
     "start_time": "2020-03-13T04:11:29.975766Z"
    }
   },
   "outputs": [
    {
     "data": {
      "text/plain": [
       "97613"
      ]
     },
     "execution_count": 11,
     "metadata": {},
     "output_type": "execute_result"
    }
   ],
   "source": [
    "len(elements)"
   ]
  },
  {
   "cell_type": "code",
   "execution_count": 33,
   "metadata": {
    "ExecuteTime": {
     "end_time": "2020-03-13T04:21:00.702751Z",
     "start_time": "2020-03-13T04:21:00.655472Z"
    }
   },
   "outputs": [],
   "source": [
    "def string2int16(string):\n",
    "    byte_array = bytes.fromhex(string)\n",
    "    count = int(len(byte_array) / 2)\n",
    "    return struct.unpack(\"h\" * count, byte_array)"
   ]
  },
  {
   "cell_type": "code",
   "execution_count": 66,
   "metadata": {
    "ExecuteTime": {
     "end_time": "2020-03-13T04:29:54.227813Z",
     "start_time": "2020-03-13T04:29:54.181989Z"
    }
   },
   "outputs": [],
   "source": [
    "from tqdm.autonotebook import tqdm"
   ]
  },
  {
   "cell_type": "code",
   "execution_count": null,
   "metadata": {
    "ExecuteTime": {
     "start_time": "2020-03-13T04:33:42.862Z"
    }
   },
   "outputs": [
    {
     "data": {
      "application/vnd.jupyter.widget-view+json": {
       "model_id": "a939d476eac945f5a1ce97a1a214142d",
       "version_major": 2,
       "version_minor": 0
      },
      "text/plain": [
       "HBox(children=(IntProgress(value=1, bar_style='info', max=1), HTML(value='')))"
      ]
     },
     "metadata": {},
     "output_type": "display_data"
    }
   ],
   "source": [
    "freq_diffs = [float(row.MEDIANFREQ.split(' ')[0]) - float(row.MEDIANFREQ.split(' ')[-2]) for idx, row in tqdm(elements.iterrows()), total=len(elements)]    "
   ]
  },
  {
   "cell_type": "code",
   "execution_count": 78,
   "metadata": {
    "ExecuteTime": {
     "end_time": "2020-03-13T04:32:38.041223Z",
     "start_time": "2020-03-13T04:32:37.991045Z"
    }
   },
   "outputs": [
    {
     "data": {
      "text/plain": [
       "[-25.174312508879666, -4205.221974676882, -1739.0464964041944]"
      ]
     },
     "execution_count": 78,
     "metadata": {},
     "output_type": "execute_result"
    }
   ],
   "source": [
    "freq_diffs[:3]"
   ]
  },
  {
   "cell_type": "code",
   "execution_count": 76,
   "metadata": {
    "ExecuteTime": {
     "end_time": "2020-03-13T04:31:50.859768Z",
     "start_time": "2020-03-13T04:31:50.160920Z"
    }
   },
   "outputs": [
    {
     "data": {
      "application/vnd.jupyter.widget-view+json": {
       "model_id": "bbce8f35c4014dca8a15aaa8e7e6ce8e",
       "version_major": 2,
       "version_minor": 0
      },
      "text/plain": [
       "HBox(children=(IntProgress(value=1, bar_style='info', max=1), HTML(value='')))"
      ]
     },
     "metadata": {},
     "output_type": "display_data"
    },
    {
     "name": "stdout",
     "output_type": "stream",
     "text": [
      "-25.174312508879666\n"
     ]
    }
   ],
   "source": [
    "for idx, row in tqdm(elements.iterrows()):\n",
    "    print(float(row.MEDIANFREQ.split(' ')[-2]) - float(row.MEDIANFREQ.split(' ')[0]))\n",
    "    break"
   ]
  },
  {
   "cell_type": "code",
   "execution_count": 77,
   "metadata": {
    "ExecuteTime": {
     "end_time": "2020-03-13T04:32:19.202727Z",
     "start_time": "2020-03-13T04:32:19.052817Z"
    }
   },
   "outputs": [
    {
     "data": {
      "text/plain": [
       "[<matplotlib.lines.Line2D at 0x7fe4e309e6a0>]"
      ]
     },
     "execution_count": 77,
     "metadata": {},
     "output_type": "execute_result"
    },
    {
     "data": {
      "image/png": "[encoded data removed]",
      "text/plain": [
       "<Figure size 432x288 with 1 Axes>"
      ]
     },
     "metadata": {
      "needs_background": "light"
     },
     "output_type": "display_data"
    }
   ],
   "source": [
    "plt.plot(np.array(row.MEDIANFREQ.split(' '))[:-1].astype('float'))\n"
   ]
  },
  {
   "cell_type": "code",
   "execution_count": 64,
   "metadata": {
    "ExecuteTime": {
     "end_time": "2020-03-13T04:28:14.263486Z",
     "start_time": "2020-03-13T04:28:14.123548Z"
    }
   },
   "outputs": [
    {
     "name": "stdout",
     "output_type": "stream",
     "text": [
      "4823.4375 4478.9062\n"
     ]
    },
    {
     "data": {
      "image/png": "[encoded data removed]",
      "text/plain": [
       "<Figure size 432x288 with 1 Axes>"
      ]
     },
     "metadata": {
      "needs_background": "light"
     },
     "output_type": "display_data"
    }
   ],
   "source": [
    "idx = 40\n",
    "plt.plot(np.array(elements.MEDIANFREQ.values[idx].split(' '))[:-1].astype('float'))\n",
    "#plt.plot(np.array(elements.PEAKFREQ.values[idx].split(' '))[:-1].astype('float'))\n",
    "#plt.plot(np.array(elements.MEANFREQ.values[idx].split(' '))[:-1].astype('float'))\n",
    "#plt.plot(np.array(elements.MEDIANFREQ.values[idx].split(' '))[:-1].astype('float'))\n",
    "print(elements.OVERALLPEAKFREQ1.values[idx], elements.OVERALLPEAKFREQ2.values[idx])"
   ]
  },
  {
   "cell_type": "code",
   "execution_count": null,
   "metadata": {},
   "outputs": [],
   "source": [
    "plt.hist(elements.TIMELENGTH.values);"
   ]
  },
  {
   "cell_type": "code",
   "execution_count": 16,
   "metadata": {
    "ExecuteTime": {
     "end_time": "2020-03-13T04:09:57.580868Z",
     "start_time": "2020-03-13T04:09:57.535930Z"
    }
   },
   "outputs": [
    {
     "data": {
      "text/plain": [
       "Index(['ID', 'SONGID', 'SIGNAL', 'PEAKFREQ', 'FUNDFREQ', 'MEANFREQ',\n",
       "       'MEDIANFREQ', 'PEAKFREQCHANGE', 'FUNDFREQCHANGE', 'MEANFREQCHANGE',\n",
       "       'MEDIANFREQCHANGE', 'HARMONICITY', 'WIENER', 'BANDWIDTH', 'AMPLITUDE',\n",
       "       'REVERBERATION', 'TRILLAMP', 'TRILLRATE', 'POWERSPECTRUM', 'STARTTIME',\n",
       "       'OVERALLPEAKFREQ1', 'OVERALLPEAKFREQ2', 'TIMELENGTH', 'GAPBEFORE',\n",
       "       'GAPAFTER', 'TIMESTEP', 'FRAMELENGTH', 'MAXF', 'WINDOWMETHOD', 'DY',\n",
       "       'DYNRANGE', 'DYNCOMP', 'ECHORANGE', 'ECHOCOMP'],\n",
       "      dtype='object')"
      ]
     },
     "execution_count": 16,
     "metadata": {},
     "output_type": "execute_result"
    }
   ],
   "source": [
    "elements.columns"
   ]
  },
  {
   "cell_type": "code",
   "execution_count": 17,
   "metadata": {
    "ExecuteTime": {
     "end_time": "2019-06-20T18:51:39.860738Z",
     "start_time": "2019-06-20T18:51:39.731368Z"
    }
   },
   "outputs": [
    {
     "data": {
      "text/html": [
       "<div>\n",
       "<style scoped>\n",
       "    .dataframe tbody tr th:only-of-type {\n",
       "        vertical-align: middle;\n",
       "    }\n",
       "\n",
       "    .dataframe tbody tr th {\n",
       "        vertical-align: top;\n",
       "    }\n",
       "\n",
       "    .dataframe thead th {\n",
       "        text-align: right;\n",
       "    }\n",
       "</style>\n",
       "<table border=\"1\" class=\"dataframe\">\n",
       "  <thead>\n",
       "    <tr style=\"text-align: right;\">\n",
       "      <th></th>\n",
       "      <th>ID</th>\n",
       "      <th>INDIVIDUALID</th>\n",
       "      <th>NAME</th>\n",
       "      <th>ECHOCOMP</th>\n",
       "      <th>ECHORANGE</th>\n",
       "      <th>DYNCOMP</th>\n",
       "      <th>DYNRANGE</th>\n",
       "      <th>MAXFREQ</th>\n",
       "      <th>FRAMELENGTH</th>\n",
       "      <th>TIMESTEP</th>\n",
       "      <th>...</th>\n",
       "      <th>RECORDINGEQUIPMENT</th>\n",
       "      <th>RECORDER</th>\n",
       "      <th>NOISE1</th>\n",
       "      <th>NOISE2</th>\n",
       "      <th>NOISE3</th>\n",
       "      <th>TIME</th>\n",
       "      <th>QUALITY</th>\n",
       "      <th>TYPE</th>\n",
       "      <th>CUSTOM0</th>\n",
       "      <th>CUSTOM1</th>\n",
       "    </tr>\n",
       "  </thead>\n",
       "  <tbody>\n",
       "    <tr>\n",
       "      <th>0</th>\n",
       "      <td>2193</td>\n",
       "      <td>561</td>\n",
       "      <td>TypeS-CentroidA-C2.wav</td>\n",
       "      <td>1.0</td>\n",
       "      <td>50</td>\n",
       "      <td>40.0</td>\n",
       "      <td>200</td>\n",
       "      <td>10000</td>\n",
       "      <td>5.0</td>\n",
       "      <td>0.5</td>\n",
       "      <td>...</td>\n",
       "      <td>Sony PCM D50 / Shure SM57 / Sony PBR330</td>\n",
       "      <td>R F Lachlan</td>\n",
       "      <td>0.0</td>\n",
       "      <td>200</td>\n",
       "      <td>15</td>\n",
       "      <td>1301475691000</td>\n",
       "      <td></td>\n",
       "      <td></td>\n",
       "      <td>NaN</td>\n",
       "      <td>NaN</td>\n",
       "    </tr>\n",
       "    <tr>\n",
       "      <th>1</th>\n",
       "      <td>2011</td>\n",
       "      <td>251</td>\n",
       "      <td>SWSP09HVTIV29K1.wav</td>\n",
       "      <td>1.0</td>\n",
       "      <td>50</td>\n",
       "      <td>40.0</td>\n",
       "      <td>200</td>\n",
       "      <td>10000</td>\n",
       "      <td>5.0</td>\n",
       "      <td>0.5</td>\n",
       "      <td>...</td>\n",
       "      <td>Sony PCM D50 / Shure SM57 / Sony PBR330</td>\n",
       "      <td>R F Lachlan</td>\n",
       "      <td>0.0</td>\n",
       "      <td>200</td>\n",
       "      <td>15</td>\n",
       "      <td>1259216618000</td>\n",
       "      <td></td>\n",
       "      <td></td>\n",
       "      <td>NaN</td>\n",
       "      <td>NaN</td>\n",
       "    </tr>\n",
       "    <tr>\n",
       "      <th>2</th>\n",
       "      <td>2010</td>\n",
       "      <td>251</td>\n",
       "      <td>SWSP09HVTIV29GG1.wav</td>\n",
       "      <td>1.0</td>\n",
       "      <td>50</td>\n",
       "      <td>40.0</td>\n",
       "      <td>200</td>\n",
       "      <td>10000</td>\n",
       "      <td>5.0</td>\n",
       "      <td>0.5</td>\n",
       "      <td>...</td>\n",
       "      <td>Sony PCM D50 / Shure SM57 / Sony PBR330</td>\n",
       "      <td>R F Lachlan</td>\n",
       "      <td>0.0</td>\n",
       "      <td>200</td>\n",
       "      <td>15</td>\n",
       "      <td>1259216653000</td>\n",
       "      <td></td>\n",
       "      <td></td>\n",
       "      <td>NaN</td>\n",
       "      <td>NaN</td>\n",
       "    </tr>\n",
       "  </tbody>\n",
       "</table>\n",
       "<p>3 rows × 28 columns</p>\n",
       "</div>"
      ],
      "text/plain": [
       "     ID  INDIVIDUALID                    NAME  ECHOCOMP  ECHORANGE  DYNCOMP  \\\n",
       "0  2193           561  TypeS-CentroidA-C2.wav       1.0         50     40.0   \n",
       "1  2011           251     SWSP09HVTIV29K1.wav       1.0         50     40.0   \n",
       "2  2010           251    SWSP09HVTIV29GG1.wav       1.0         50     40.0   \n",
       "\n",
       "   DYNRANGE  MAXFREQ  FRAMELENGTH  TIMESTEP  ...  \\\n",
       "0       200    10000          5.0       0.5  ...   \n",
       "1       200    10000          5.0       0.5  ...   \n",
       "2       200    10000          5.0       0.5  ...   \n",
       "\n",
       "                        RECORDINGEQUIPMENT     RECORDER  NOISE1  NOISE2  \\\n",
       "0  Sony PCM D50 / Shure SM57 / Sony PBR330  R F Lachlan     0.0     200   \n",
       "1  Sony PCM D50 / Shure SM57 / Sony PBR330  R F Lachlan     0.0     200   \n",
       "2  Sony PCM D50 / Shure SM57 / Sony PBR330  R F Lachlan     0.0     200   \n",
       "\n",
       "   NOISE3           TIME QUALITY TYPE CUSTOM0 CUSTOM1  \n",
       "0      15  1301475691000                  NaN     NaN  \n",
       "1      15  1259216618000                  NaN     NaN  \n",
       "2      15  1259216653000                  NaN     NaN  \n",
       "\n",
       "[3 rows x 28 columns]"
      ]
     },
     "execution_count": 17,
     "metadata": {},
     "output_type": "execute_result"
    }
   ],
   "source": [
    "songdata = pd.read_csv(DSLOC / 'SONGDATA.csv')\n",
    "songdata[:3]"
   ]
  },
  {
   "cell_type": "code",
   "execution_count": 18,
   "metadata": {
    "ExecuteTime": {
     "end_time": "2019-06-20T18:51:39.919345Z",
     "start_time": "2019-06-20T18:51:39.862428Z"
    }
   },
   "outputs": [
    {
     "data": {
      "text/plain": [
       "1870"
      ]
     },
     "execution_count": 18,
     "metadata": {},
     "output_type": "execute_result"
    }
   ],
   "source": [
    "len(songdata)"
   ]
  },
  {
   "cell_type": "code",
   "execution_count": 19,
   "metadata": {
    "ExecuteTime": {
     "end_time": "2019-06-20T18:51:40.042110Z",
     "start_time": "2019-06-20T18:51:39.921129Z"
    }
   },
   "outputs": [
    {
     "data": {
      "text/plain": [
       "616"
      ]
     },
     "execution_count": 19,
     "metadata": {},
     "output_type": "execute_result"
    }
   ],
   "source": [
    "len(np.unique(songdata.INDIVIDUALID.values))"
   ]
  },
  {
   "cell_type": "code",
   "execution_count": 20,
   "metadata": {
    "ExecuteTime": {
     "end_time": "2019-06-20T18:51:51.379311Z",
     "start_time": "2019-06-20T18:51:40.043703Z"
    }
   },
   "outputs": [],
   "source": [
    "wavs = pd.read_csv(DSLOC / 'WAVS.csv')"
   ]
  },
  {
   "cell_type": "code",
   "execution_count": 21,
   "metadata": {
    "ExecuteTime": {
     "end_time": "2019-06-20T18:51:51.453665Z",
     "start_time": "2019-06-20T18:51:51.381203Z"
    }
   },
   "outputs": [
    {
     "data": {
      "text/html": [
       "<div>\n",
       "<style scoped>\n",
       "    .dataframe tbody tr th:only-of-type {\n",
       "        vertical-align: middle;\n",
       "    }\n",
       "\n",
       "    .dataframe tbody tr th {\n",
       "        vertical-align: top;\n",
       "    }\n",
       "\n",
       "    .dataframe thead th {\n",
       "        text-align: right;\n",
       "    }\n",
       "</style>\n",
       "<table border=\"1\" class=\"dataframe\">\n",
       "  <thead>\n",
       "    <tr style=\"text-align: right;\">\n",
       "      <th></th>\n",
       "      <th>ID</th>\n",
       "      <th>SONGID</th>\n",
       "      <th>FILENAME</th>\n",
       "      <th>WAV</th>\n",
       "      <th>SAMPLERATE</th>\n",
       "      <th>FRAMESIZE</th>\n",
       "      <th>STEREO</th>\n",
       "      <th>BIGEND</th>\n",
       "      <th>SIGNED</th>\n",
       "      <th>SSIZEINBITS</th>\n",
       "      <th>TIME</th>\n",
       "    </tr>\n",
       "  </thead>\n",
       "  <tbody>\n",
       "    <tr>\n",
       "      <th>0</th>\n",
       "      <td>71</td>\n",
       "      <td>71</td>\n",
       "      <td>PymConneaut08T50C-Z.wav</td>\n",
       "      <td>ebffe8ffdbffe3ffdfffddffe2ffdfffe3ffc8ffc4ffcd...</td>\n",
       "      <td>44100.0</td>\n",
       "      <td>2</td>\n",
       "      <td>1</td>\n",
       "      <td>0</td>\n",
       "      <td>1</td>\n",
       "      <td>16</td>\n",
       "      <td>1222840401000</td>\n",
       "    </tr>\n",
       "    <tr>\n",
       "      <th>1</th>\n",
       "      <td>72</td>\n",
       "      <td>72</td>\n",
       "      <td>PymConneaut08T42B-RA</td>\n",
       "      <td>c7ffb3ffc6ffd7ffd8fff8fffbff0400eaffdeffc2ffa8...</td>\n",
       "      <td>44100.0</td>\n",
       "      <td>2</td>\n",
       "      <td>1</td>\n",
       "      <td>0</td>\n",
       "      <td>1</td>\n",
       "      <td>16</td>\n",
       "      <td>1222837577000</td>\n",
       "    </tr>\n",
       "    <tr>\n",
       "      <th>2</th>\n",
       "      <td>73</td>\n",
       "      <td>73</td>\n",
       "      <td>PymConneaut08T42A-A.wav</td>\n",
       "      <td>e7ffe9fff0fffcfff6fff3fffffff2ffeeffebffe2fffa...</td>\n",
       "      <td>44100.0</td>\n",
       "      <td>2</td>\n",
       "      <td>1</td>\n",
       "      <td>0</td>\n",
       "      <td>1</td>\n",
       "      <td>16</td>\n",
       "      <td>1222837530000</td>\n",
       "    </tr>\n",
       "  </tbody>\n",
       "</table>\n",
       "</div>"
      ],
      "text/plain": [
       "   ID  SONGID                 FILENAME  \\\n",
       "0  71      71  PymConneaut08T50C-Z.wav   \n",
       "1  72      72     PymConneaut08T42B-RA   \n",
       "2  73      73  PymConneaut08T42A-A.wav   \n",
       "\n",
       "                                                 WAV  SAMPLERATE  FRAMESIZE  \\\n",
       "0  ebffe8ffdbffe3ffdfffddffe2ffdfffe3ffc8ffc4ffcd...     44100.0          2   \n",
       "1  c7ffb3ffc6ffd7ffd8fff8fffbff0400eaffdeffc2ffa8...     44100.0          2   \n",
       "2  e7ffe9fff0fffcfff6fff3fffffff2ffeeffebffe2fffa...     44100.0          2   \n",
       "\n",
       "   STEREO  BIGEND  SIGNED  SSIZEINBITS           TIME  \n",
       "0       1       0       1           16  1222840401000  \n",
       "1       1       0       1           16  1222837577000  \n",
       "2       1       0       1           16  1222837530000  "
      ]
     },
     "execution_count": 21,
     "metadata": {},
     "output_type": "execute_result"
    }
   ],
   "source": [
    "wavs[:3]"
   ]
  },
  {
   "cell_type": "code",
   "execution_count": 22,
   "metadata": {
    "ExecuteTime": {
     "end_time": "2019-06-20T18:51:51.559225Z",
     "start_time": "2019-06-20T18:51:51.455439Z"
    }
   },
   "outputs": [
    {
     "data": {
      "text/html": [
       "<div>\n",
       "<style scoped>\n",
       "    .dataframe tbody tr th:only-of-type {\n",
       "        vertical-align: middle;\n",
       "    }\n",
       "\n",
       "    .dataframe tbody tr th {\n",
       "        vertical-align: top;\n",
       "    }\n",
       "\n",
       "    .dataframe thead th {\n",
       "        text-align: right;\n",
       "    }\n",
       "</style>\n",
       "<table border=\"1\" class=\"dataframe\">\n",
       "  <thead>\n",
       "    <tr style=\"text-align: right;\">\n",
       "      <th></th>\n",
       "      <th>ID</th>\n",
       "      <th>SONGID</th>\n",
       "      <th>FILENAME</th>\n",
       "      <th>WAV</th>\n",
       "      <th>SAMPLERATE</th>\n",
       "      <th>FRAMESIZE</th>\n",
       "      <th>STEREO</th>\n",
       "      <th>BIGEND</th>\n",
       "      <th>SIGNED</th>\n",
       "      <th>SSIZEINBITS</th>\n",
       "      <th>TIME</th>\n",
       "    </tr>\n",
       "  </thead>\n",
       "  <tbody>\n",
       "    <tr>\n",
       "      <th>1447</th>\n",
       "      <td>1590</td>\n",
       "      <td>1590</td>\n",
       "      <td>SWSP09WATPO2C1.wav</td>\n",
       "      <td>d2ffd0ffdcffd2ffe4ffdcffdbffdfffd2ffd5ffd6ffd4...</td>\n",
       "      <td>44100.0</td>\n",
       "      <td>2</td>\n",
       "      <td>1</td>\n",
       "      <td>0</td>\n",
       "      <td>1</td>\n",
       "      <td>16</td>\n",
       "      <td>1245110195000</td>\n",
       "    </tr>\n",
       "  </tbody>\n",
       "</table>\n",
       "</div>"
      ],
      "text/plain": [
       "        ID  SONGID            FILENAME  \\\n",
       "1447  1590    1590  SWSP09WATPO2C1.wav   \n",
       "\n",
       "                                                    WAV  SAMPLERATE  \\\n",
       "1447  d2ffd0ffdcffd2ffe4ffdcffdbffdfffd2ffd5ffd6ffd4...     44100.0   \n",
       "\n",
       "      FRAMESIZE  STEREO  BIGEND  SIGNED  SSIZEINBITS           TIME  \n",
       "1447          2       1       0       1           16  1245110195000  "
      ]
     },
     "execution_count": 22,
     "metadata": {},
     "output_type": "execute_result"
    }
   ],
   "source": [
    "wavs[wavs.FILENAME.values == 'SWSP09WATPO2C1.wav']"
   ]
  },
  {
   "cell_type": "code",
   "execution_count": 23,
   "metadata": {
    "ExecuteTime": {
     "end_time": "2019-06-20T18:51:51.659503Z",
     "start_time": "2019-06-20T18:51:51.560856Z"
    }
   },
   "outputs": [
    {
     "data": {
      "text/html": [
       "<div>\n",
       "<style scoped>\n",
       "    .dataframe tbody tr th:only-of-type {\n",
       "        vertical-align: middle;\n",
       "    }\n",
       "\n",
       "    .dataframe tbody tr th {\n",
       "        vertical-align: top;\n",
       "    }\n",
       "\n",
       "    .dataframe thead th {\n",
       "        text-align: right;\n",
       "    }\n",
       "</style>\n",
       "<table border=\"1\" class=\"dataframe\">\n",
       "  <thead>\n",
       "    <tr style=\"text-align: right;\">\n",
       "      <th></th>\n",
       "      <th>ID</th>\n",
       "      <th>INDIVIDUALID</th>\n",
       "      <th>NAME</th>\n",
       "      <th>ECHOCOMP</th>\n",
       "      <th>ECHORANGE</th>\n",
       "      <th>DYNCOMP</th>\n",
       "      <th>DYNRANGE</th>\n",
       "      <th>MAXFREQ</th>\n",
       "      <th>FRAMELENGTH</th>\n",
       "      <th>TIMESTEP</th>\n",
       "      <th>...</th>\n",
       "      <th>RECORDINGEQUIPMENT</th>\n",
       "      <th>RECORDER</th>\n",
       "      <th>NOISE1</th>\n",
       "      <th>NOISE2</th>\n",
       "      <th>NOISE3</th>\n",
       "      <th>TIME</th>\n",
       "      <th>QUALITY</th>\n",
       "      <th>TYPE</th>\n",
       "      <th>CUSTOM0</th>\n",
       "      <th>CUSTOM1</th>\n",
       "    </tr>\n",
       "  </thead>\n",
       "  <tbody>\n",
       "    <tr>\n",
       "      <th>422</th>\n",
       "      <td>1590</td>\n",
       "      <td>49</td>\n",
       "      <td>SWSP09WATPO2C1.wav</td>\n",
       "      <td>1.0</td>\n",
       "      <td>50</td>\n",
       "      <td>40.0</td>\n",
       "      <td>200</td>\n",
       "      <td>10000</td>\n",
       "      <td>5.0</td>\n",
       "      <td>0.5</td>\n",
       "      <td>...</td>\n",
       "      <td>Sony PCM D50 / Shure SM57 / Sony PBR330</td>\n",
       "      <td>R F Lachlan</td>\n",
       "      <td>0.0</td>\n",
       "      <td>200</td>\n",
       "      <td>15</td>\n",
       "      <td>1245110195000</td>\n",
       "      <td></td>\n",
       "      <td></td>\n",
       "      <td>NaN</td>\n",
       "      <td>NaN</td>\n",
       "    </tr>\n",
       "  </tbody>\n",
       "</table>\n",
       "<p>1 rows × 28 columns</p>\n",
       "</div>"
      ],
      "text/plain": [
       "       ID  INDIVIDUALID                NAME  ECHOCOMP  ECHORANGE  DYNCOMP  \\\n",
       "422  1590            49  SWSP09WATPO2C1.wav       1.0         50     40.0   \n",
       "\n",
       "     DYNRANGE  MAXFREQ  FRAMELENGTH  TIMESTEP  ...  \\\n",
       "422       200    10000          5.0       0.5  ...   \n",
       "\n",
       "                          RECORDINGEQUIPMENT     RECORDER  NOISE1  NOISE2  \\\n",
       "422  Sony PCM D50 / Shure SM57 / Sony PBR330  R F Lachlan     0.0     200   \n",
       "\n",
       "     NOISE3           TIME QUALITY TYPE CUSTOM0 CUSTOM1  \n",
       "422      15  1245110195000                  NaN     NaN  \n",
       "\n",
       "[1 rows x 28 columns]"
      ]
     },
     "execution_count": 23,
     "metadata": {},
     "output_type": "execute_result"
    }
   ],
   "source": [
    "songdata[songdata.NAME == 'SWSP09WATPO2C1.wav']"
   ]
  },
  {
   "cell_type": "code",
   "execution_count": 24,
   "metadata": {
    "ExecuteTime": {
     "end_time": "2019-06-20T18:51:51.744566Z",
     "start_time": "2019-06-20T18:51:51.661199Z"
    }
   },
   "outputs": [
    {
     "data": {
      "text/plain": [
       "'2009-06-15 16:56:35'"
      ]
     },
     "execution_count": 24,
     "metadata": {},
     "output_type": "execute_result"
    }
   ],
   "source": [
    "import datetime\n",
    "recording_time = datetime.datetime.fromtimestamp(1245110195000/1000.).strftime('%Y-%m-%d %H:%M:%S')\n",
    "recording_time"
   ]
  },
  {
   "cell_type": "code",
   "execution_count": 25,
   "metadata": {
    "ExecuteTime": {
     "end_time": "2019-06-20T18:51:51.827163Z",
     "start_time": "2019-06-20T18:51:51.746924Z"
    }
   },
   "outputs": [],
   "source": [
    "import struct\n",
    "def string2int16(string):\n",
    "    byte_array = bytes.fromhex(string)\n",
    "    count = int(len(byte_array)/2)\n",
    "    return struct.unpack(\"h\"*count, byte_array)"
   ]
  },
  {
   "cell_type": "code",
   "execution_count": 26,
   "metadata": {
    "ExecuteTime": {
     "end_time": "2019-06-20T18:51:51.914721Z",
     "start_time": "2019-06-20T18:51:51.833733Z"
    }
   },
   "outputs": [],
   "source": [
    "# load the wav\n",
    "rate, data = load_wav('SWSP09WATPO1B1.wav')\n",
    "wavs[wavs.FILENAME.values == 'SWSP09WATPO1B1.wav']\n",
    "wav_varbinary = wavs[wavs.FILENAME.values == 'SWSP09WATPO1B1.wav'].WAV.values[0]\n",
    "data_from_binary = string2int16(wav_varbinary)"
   ]
  },
  {
   "cell_type": "code",
   "execution_count": 27,
   "metadata": {
    "ExecuteTime": {
     "end_time": "2019-06-20T18:51:51.995325Z",
     "start_time": "2019-06-20T18:51:51.917256Z"
    }
   },
   "outputs": [
    {
     "data": {
      "text/plain": [
       "(array([-1, -3,  3, 26, 11], dtype=int16), (-1, -3, 3, 26, 11))"
      ]
     },
     "execution_count": 27,
     "metadata": {},
     "output_type": "execute_result"
    }
   ],
   "source": [
    "data[:5], data_from_binary[:5]"
   ]
  },
  {
   "cell_type": "markdown",
   "metadata": {},
   "source": [
    "### Plot syllables by ID"
   ]
  },
  {
   "cell_type": "code",
   "execution_count": 28,
   "metadata": {
    "ExecuteTime": {
     "end_time": "2019-06-20T18:51:52.086348Z",
     "start_time": "2019-06-20T18:51:51.997112Z"
    }
   },
   "outputs": [
    {
     "data": {
      "text/plain": [
       "array(['ID', 'INDIVIDUALID', 'NAME', 'ECHOCOMP', 'ECHORANGE', 'DYNCOMP',\n",
       "       'DYNRANGE', 'MAXFREQ', 'FRAMELENGTH', 'TIMESTEP', 'FILTERCUTOFF',\n",
       "       'WINDOWMETHOD', 'DX', 'DY', 'SAMPLERATE', 'USER', 'CALL_LOCATION',\n",
       "       'CALL_CONTEXT', 'RECORDINGEQUIPMENT', 'RECORDER', 'NOISE1',\n",
       "       'NOISE2', 'NOISE3', 'TIME', 'QUALITY', 'TYPE', 'CUSTOM0',\n",
       "       'CUSTOM1'], dtype=object)"
      ]
     },
     "execution_count": 28,
     "metadata": {},
     "output_type": "execute_result"
    }
   ],
   "source": [
    "songdata.columns.values"
   ]
  },
  {
   "cell_type": "code",
   "execution_count": 29,
   "metadata": {
    "ExecuteTime": {
     "end_time": "2019-06-20T18:51:52.211534Z",
     "start_time": "2019-06-20T18:51:52.088115Z"
    }
   },
   "outputs": [
    {
     "data": {
      "text/html": [
       "<div>\n",
       "<style scoped>\n",
       "    .dataframe tbody tr th:only-of-type {\n",
       "        vertical-align: middle;\n",
       "    }\n",
       "\n",
       "    .dataframe tbody tr th {\n",
       "        vertical-align: top;\n",
       "    }\n",
       "\n",
       "    .dataframe thead th {\n",
       "        text-align: right;\n",
       "    }\n",
       "</style>\n",
       "<table border=\"1\" class=\"dataframe\">\n",
       "  <thead>\n",
       "    <tr style=\"text-align: right;\">\n",
       "      <th></th>\n",
       "      <th>ID</th>\n",
       "      <th>INDIVIDUALID</th>\n",
       "      <th>NAME</th>\n",
       "      <th>ECHOCOMP</th>\n",
       "      <th>ECHORANGE</th>\n",
       "      <th>DYNCOMP</th>\n",
       "      <th>DYNRANGE</th>\n",
       "      <th>MAXFREQ</th>\n",
       "      <th>FRAMELENGTH</th>\n",
       "      <th>TIMESTEP</th>\n",
       "      <th>...</th>\n",
       "      <th>RECORDINGEQUIPMENT</th>\n",
       "      <th>RECORDER</th>\n",
       "      <th>NOISE1</th>\n",
       "      <th>NOISE2</th>\n",
       "      <th>NOISE3</th>\n",
       "      <th>TIME</th>\n",
       "      <th>QUALITY</th>\n",
       "      <th>TYPE</th>\n",
       "      <th>CUSTOM0</th>\n",
       "      <th>CUSTOM1</th>\n",
       "    </tr>\n",
       "  </thead>\n",
       "  <tbody>\n",
       "    <tr>\n",
       "      <th>0</th>\n",
       "      <td>2193</td>\n",
       "      <td>561</td>\n",
       "      <td>TypeS-CentroidA-C2.wav</td>\n",
       "      <td>1.0</td>\n",
       "      <td>50</td>\n",
       "      <td>40.0</td>\n",
       "      <td>200</td>\n",
       "      <td>10000</td>\n",
       "      <td>5.0</td>\n",
       "      <td>0.5</td>\n",
       "      <td>...</td>\n",
       "      <td>Sony PCM D50 / Shure SM57 / Sony PBR330</td>\n",
       "      <td>R F Lachlan</td>\n",
       "      <td>0.0</td>\n",
       "      <td>200</td>\n",
       "      <td>15</td>\n",
       "      <td>1301475691000</td>\n",
       "      <td></td>\n",
       "      <td></td>\n",
       "      <td>NaN</td>\n",
       "      <td>NaN</td>\n",
       "    </tr>\n",
       "  </tbody>\n",
       "</table>\n",
       "<p>1 rows × 28 columns</p>\n",
       "</div>"
      ],
      "text/plain": [
       "     ID  INDIVIDUALID                    NAME  ECHOCOMP  ECHORANGE  DYNCOMP  \\\n",
       "0  2193           561  TypeS-CentroidA-C2.wav       1.0         50     40.0   \n",
       "\n",
       "   DYNRANGE  MAXFREQ  FRAMELENGTH  TIMESTEP  ...  \\\n",
       "0       200    10000          5.0       0.5  ...   \n",
       "\n",
       "                        RECORDINGEQUIPMENT     RECORDER  NOISE1  NOISE2  \\\n",
       "0  Sony PCM D50 / Shure SM57 / Sony PBR330  R F Lachlan     0.0     200   \n",
       "\n",
       "   NOISE3           TIME QUALITY TYPE CUSTOM0 CUSTOM1  \n",
       "0      15  1301475691000                  NaN     NaN  \n",
       "\n",
       "[1 rows x 28 columns]"
      ]
     },
     "execution_count": 29,
     "metadata": {},
     "output_type": "execute_result"
    }
   ],
   "source": [
    "songdata[:1]"
   ]
  },
  {
   "cell_type": "code",
   "execution_count": 30,
   "metadata": {
    "ExecuteTime": {
     "end_time": "2019-06-20T18:51:52.313882Z",
     "start_time": "2019-06-20T18:51:52.213406Z"
    }
   },
   "outputs": [
    {
     "data": {
      "text/html": [
       "<div>\n",
       "<style scoped>\n",
       "    .dataframe tbody tr th:only-of-type {\n",
       "        vertical-align: middle;\n",
       "    }\n",
       "\n",
       "    .dataframe tbody tr th {\n",
       "        vertical-align: top;\n",
       "    }\n",
       "\n",
       "    .dataframe thead th {\n",
       "        text-align: right;\n",
       "    }\n",
       "</style>\n",
       "<table border=\"1\" class=\"dataframe\">\n",
       "  <thead>\n",
       "    <tr style=\"text-align: right;\">\n",
       "      <th></th>\n",
       "      <th>ID</th>\n",
       "      <th>SONGID</th>\n",
       "      <th>FILENAME</th>\n",
       "      <th>WAV</th>\n",
       "      <th>SAMPLERATE</th>\n",
       "      <th>FRAMESIZE</th>\n",
       "      <th>STEREO</th>\n",
       "      <th>BIGEND</th>\n",
       "      <th>SIGNED</th>\n",
       "      <th>SSIZEINBITS</th>\n",
       "      <th>TIME</th>\n",
       "    </tr>\n",
       "  </thead>\n",
       "  <tbody>\n",
       "    <tr>\n",
       "      <th>0</th>\n",
       "      <td>71</td>\n",
       "      <td>71</td>\n",
       "      <td>PymConneaut08T50C-Z.wav</td>\n",
       "      <td>ebffe8ffdbffe3ffdfffddffe2ffdfffe3ffc8ffc4ffcd...</td>\n",
       "      <td>44100.0</td>\n",
       "      <td>2</td>\n",
       "      <td>1</td>\n",
       "      <td>0</td>\n",
       "      <td>1</td>\n",
       "      <td>16</td>\n",
       "      <td>1222840401000</td>\n",
       "    </tr>\n",
       "  </tbody>\n",
       "</table>\n",
       "</div>"
      ],
      "text/plain": [
       "   ID  SONGID                 FILENAME  \\\n",
       "0  71      71  PymConneaut08T50C-Z.wav   \n",
       "\n",
       "                                                 WAV  SAMPLERATE  FRAMESIZE  \\\n",
       "0  ebffe8ffdbffe3ffdfffddffe2ffdfffe3ffc8ffc4ffcd...     44100.0          2   \n",
       "\n",
       "   STEREO  BIGEND  SIGNED  SSIZEINBITS           TIME  \n",
       "0       1       0       1           16  1222840401000  "
      ]
     },
     "execution_count": 30,
     "metadata": {},
     "output_type": "execute_result"
    }
   ],
   "source": [
    "wavs[:1]"
   ]
  },
  {
   "cell_type": "code",
   "execution_count": 31,
   "metadata": {
    "ExecuteTime": {
     "end_time": "2019-06-20T18:51:52.436436Z",
     "start_time": "2019-06-20T18:51:52.315787Z"
    }
   },
   "outputs": [
    {
     "data": {
      "text/html": [
       "<div>\n",
       "<style scoped>\n",
       "    .dataframe tbody tr th:only-of-type {\n",
       "        vertical-align: middle;\n",
       "    }\n",
       "\n",
       "    .dataframe tbody tr th {\n",
       "        vertical-align: top;\n",
       "    }\n",
       "\n",
       "    .dataframe thead th {\n",
       "        text-align: right;\n",
       "    }\n",
       "</style>\n",
       "<table border=\"1\" class=\"dataframe\">\n",
       "  <thead>\n",
       "    <tr style=\"text-align: right;\">\n",
       "      <th></th>\n",
       "      <th>ID</th>\n",
       "      <th>SONGID</th>\n",
       "      <th>SIGNAL</th>\n",
       "      <th>PEAKFREQ</th>\n",
       "      <th>FUNDFREQ</th>\n",
       "      <th>MEANFREQ</th>\n",
       "      <th>MEDIANFREQ</th>\n",
       "      <th>PEAKFREQCHANGE</th>\n",
       "      <th>FUNDFREQCHANGE</th>\n",
       "      <th>MEANFREQCHANGE</th>\n",
       "      <th>...</th>\n",
       "      <th>GAPAFTER</th>\n",
       "      <th>TIMESTEP</th>\n",
       "      <th>FRAMELENGTH</th>\n",
       "      <th>MAXF</th>\n",
       "      <th>WINDOWMETHOD</th>\n",
       "      <th>DY</th>\n",
       "      <th>DYNRANGE</th>\n",
       "      <th>DYNCOMP</th>\n",
       "      <th>ECHORANGE</th>\n",
       "      <th>ECHOCOMP</th>\n",
       "    </tr>\n",
       "  </thead>\n",
       "  <tbody>\n",
       "    <tr>\n",
       "      <th>0</th>\n",
       "      <td>1820682</td>\n",
       "      <td>2011</td>\n",
       "      <td>3 177 145 139 3 178 146 137 3 179 146 137 3 18...</td>\n",
       "      <td>4263.57421875 3832.91015625 15.0 0.0 4062.5976...</td>\n",
       "      <td>4283.673733543762 3815.8396713317325 19.0 0.0 ...</td>\n",
       "      <td>4270.3427222250075 3826.5109432227587 19.0 0.0...</td>\n",
       "      <td>4306.266418097342 3843.9194083976013 14.0 3.0 ...</td>\n",
       "      <td>0.007604770101606771 0.006679462853040866 0.0 ...</td>\n",
       "      <td>0.007604770101606771 0.006679462853040866 0.0 ...</td>\n",
       "      <td>0.007604770101606771 0.006679462853040866 0.0 ...</td>\n",
       "      <td>...</td>\n",
       "      <td>7.5</td>\n",
       "      <td>0.5</td>\n",
       "      <td>5.0</td>\n",
       "      <td>10000</td>\n",
       "      <td>NaN</td>\n",
       "      <td>43.066406</td>\n",
       "      <td>200.0</td>\n",
       "      <td>36.0</td>\n",
       "      <td>25</td>\n",
       "      <td>1.0</td>\n",
       "    </tr>\n",
       "  </tbody>\n",
       "</table>\n",
       "<p>1 rows × 34 columns</p>\n",
       "</div>"
      ],
      "text/plain": [
       "        ID  SONGID                                             SIGNAL  \\\n",
       "0  1820682    2011  3 177 145 139 3 178 146 137 3 179 146 137 3 18...   \n",
       "\n",
       "                                            PEAKFREQ  \\\n",
       "0  4263.57421875 3832.91015625 15.0 0.0 4062.5976...   \n",
       "\n",
       "                                            FUNDFREQ  \\\n",
       "0  4283.673733543762 3815.8396713317325 19.0 0.0 ...   \n",
       "\n",
       "                                            MEANFREQ  \\\n",
       "0  4270.3427222250075 3826.5109432227587 19.0 0.0...   \n",
       "\n",
       "                                          MEDIANFREQ  \\\n",
       "0  4306.266418097342 3843.9194083976013 14.0 3.0 ...   \n",
       "\n",
       "                                      PEAKFREQCHANGE  \\\n",
       "0  0.007604770101606771 0.006679462853040866 0.0 ...   \n",
       "\n",
       "                                      FUNDFREQCHANGE  \\\n",
       "0  0.007604770101606771 0.006679462853040866 0.0 ...   \n",
       "\n",
       "                                      MEANFREQCHANGE  ... GAPAFTER TIMESTEP  \\\n",
       "0  0.007604770101606771 0.006679462853040866 0.0 ...  ...      7.5      0.5   \n",
       "\n",
       "  FRAMELENGTH   MAXF WINDOWMETHOD         DY DYNRANGE DYNCOMP ECHORANGE  \\\n",
       "0         5.0  10000          NaN  43.066406    200.0    36.0        25   \n",
       "\n",
       "   ECHOCOMP  \n",
       "0       1.0  \n",
       "\n",
       "[1 rows x 34 columns]"
      ]
     },
     "execution_count": 31,
     "metadata": {},
     "output_type": "execute_result"
    }
   ],
   "source": [
    "elements[:1]"
   ]
  },
  {
   "cell_type": "code",
   "execution_count": 32,
   "metadata": {
    "ExecuteTime": {
     "end_time": "2019-06-20T18:51:52.539905Z",
     "start_time": "2019-06-20T18:51:52.438257Z"
    }
   },
   "outputs": [
    {
     "data": {
      "text/html": [
       "<div>\n",
       "<style scoped>\n",
       "    .dataframe tbody tr th:only-of-type {\n",
       "        vertical-align: middle;\n",
       "    }\n",
       "\n",
       "    .dataframe tbody tr th {\n",
       "        vertical-align: top;\n",
       "    }\n",
       "\n",
       "    .dataframe thead th {\n",
       "        text-align: right;\n",
       "    }\n",
       "</style>\n",
       "<table border=\"1\" class=\"dataframe\">\n",
       "  <thead>\n",
       "    <tr style=\"text-align: right;\">\n",
       "      <th></th>\n",
       "      <th>ID</th>\n",
       "      <th>NUMSONGS</th>\n",
       "      <th>NAME</th>\n",
       "      <th>SPECID</th>\n",
       "      <th>POPID</th>\n",
       "      <th>LOCDESC</th>\n",
       "      <th>GRIDTYPE</th>\n",
       "      <th>GRIDX</th>\n",
       "      <th>GRIDY</th>\n",
       "      <th>SEX</th>\n",
       "      <th>RANK</th>\n",
       "      <th>AGE</th>\n",
       "    </tr>\n",
       "  </thead>\n",
       "  <tbody>\n",
       "    <tr>\n",
       "      <th>0</th>\n",
       "      <td>48</td>\n",
       "      <td>NaN</td>\n",
       "      <td>MIWAT01</td>\n",
       "      <td>Swamp Sparrow</td>\n",
       "      <td>Waterloo, MI</td>\n",
       "      <td>NaN</td>\n",
       "      <td>UTM</td>\n",
       "      <td>42.360523</td>\n",
       "      <td>-84.1779184</td>\n",
       "      <td>NaN</td>\n",
       "      <td>NaN</td>\n",
       "      <td>NaN</td>\n",
       "    </tr>\n",
       "  </tbody>\n",
       "</table>\n",
       "</div>"
      ],
      "text/plain": [
       "   ID  NUMSONGS     NAME         SPECID         POPID LOCDESC GRIDTYPE  \\\n",
       "0  48       NaN  MIWAT01  Swamp Sparrow  Waterloo, MI     NaN      UTM   \n",
       "\n",
       "       GRIDX        GRIDY  SEX  RANK  AGE  \n",
       "0  42.360523  -84.1779184  NaN   NaN  NaN  "
      ]
     },
     "execution_count": 32,
     "metadata": {},
     "output_type": "execute_result"
    }
   ],
   "source": [
    "individual[:1]"
   ]
  },
  {
   "cell_type": "code",
   "execution_count": 33,
   "metadata": {
    "ExecuteTime": {
     "end_time": "2019-06-20T18:51:52.636624Z",
     "start_time": "2019-06-20T18:51:52.541830Z"
    }
   },
   "outputs": [
    {
     "data": {
      "text/plain": [
       "array(['Waterloo, MI', 'Adirondacks, NY', 'Hudson Valley, NY',\n",
       "       'Montezuma, NY', 'Conneaut, PA', 'Horicon, WI', nan], dtype=object)"
      ]
     },
     "execution_count": 33,
     "metadata": {},
     "output_type": "execute_result"
    }
   ],
   "source": [
    "individual.POPID.unique()"
   ]
  },
  {
   "cell_type": "markdown",
   "metadata": {},
   "source": [
    "### get waveforms of individual elements + INDIVIDUAL ID + POP ID + time"
   ]
  },
  {
   "cell_type": "code",
   "execution_count": 73,
   "metadata": {
    "ExecuteTime": {
     "end_time": "2019-06-20T19:02:19.146835Z",
     "start_time": "2019-06-20T19:02:19.045757Z"
    }
   },
   "outputs": [],
   "source": [
    "# indv, date"
   ]
  },
  {
   "cell_type": "code",
   "execution_count": 74,
   "metadata": {
    "ExecuteTime": {
     "end_time": "2019-06-20T19:02:19.285367Z",
     "start_time": "2019-06-20T19:02:19.216552Z"
    }
   },
   "outputs": [],
   "source": [
    "def process_swampsparrow_call(row):\n",
    "    return"
   ]
  },
  {
   "cell_type": "code",
   "execution_count": 112,
   "metadata": {
    "ExecuteTime": {
     "end_time": "2019-06-20T19:11:13.131367Z",
     "start_time": "2019-06-20T19:11:12.594394Z"
    }
   },
   "outputs": [],
   "source": [
    "for idx, row in wavs.iterrows():\n",
    "    if idx == 8: break\n",
    "    #break"
   ]
  },
  {
   "cell_type": "code",
   "execution_count": 113,
   "metadata": {
    "ExecuteTime": {
     "end_time": "2019-06-20T19:11:13.258709Z",
     "start_time": "2019-06-20T19:11:13.136820Z"
    }
   },
   "outputs": [],
   "source": [
    "wavdata = string2int16(row.WAV)"
   ]
  },
  {
   "cell_type": "code",
   "execution_count": 114,
   "metadata": {
    "ExecuteTime": {
     "end_time": "2019-06-20T19:11:13.370553Z",
     "start_time": "2019-06-20T19:11:13.262922Z"
    }
   },
   "outputs": [
    {
     "data": {
      "text/plain": [
       "ID                                                            79\n",
       "SONGID                                                        79\n",
       "FILENAME                                PymConneaut08T98C-UR.wav\n",
       "WAV            44003f00240004000400edffe1ffd8ffdbffddffdeffd5...\n",
       "SAMPLERATE                                                 44100\n",
       "FRAMESIZE                                                      2\n",
       "STEREO                                                         1\n",
       "BIGEND                                                         0\n",
       "SIGNED                                                         1\n",
       "SSIZEINBITS                                                   16\n",
       "TIME                                               1222886711000\n",
       "Name: 8, dtype: object"
      ]
     },
     "execution_count": 114,
     "metadata": {},
     "output_type": "execute_result"
    }
   ],
   "source": [
    "row"
   ]
  },
  {
   "cell_type": "code",
   "execution_count": 115,
   "metadata": {
    "ExecuteTime": {
     "end_time": "2019-06-20T19:11:13.528270Z",
     "start_time": "2019-06-20T19:11:13.373602Z"
    }
   },
   "outputs": [
    {
     "data": {
      "text/plain": [
       "(105791, 2.398888888888889)"
      ]
     },
     "execution_count": 115,
     "metadata": {},
     "output_type": "execute_result"
    }
   ],
   "source": [
    "len(wavdata), len(wavdata)/row.SAMPLERATE"
   ]
  },
  {
   "cell_type": "code",
   "execution_count": 116,
   "metadata": {
    "ExecuteTime": {
     "end_time": "2019-06-20T19:11:14.337571Z",
     "start_time": "2019-06-20T19:11:13.531371Z"
    }
   },
   "outputs": [
    {
     "data": {
      "text/html": [
       "\n",
       "                <audio controls=\"controls\" >\n",
       "                    <source src=\"data:audio/wav;base64,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\" type=\"audio/wav\" />\n",
       "                    Your browser does not support the audio element.\n",
       "                </audio>\n",
       "              "
      ],
      "text/plain": [
       "<IPython.lib.display.Audio object>"
      ]
     },
     "execution_count": 116,
     "metadata": {},
     "output_type": "execute_result"
    },
    {
     "data": {
      "image/png": "[encoded data removed]",
      "text/plain": [
       "<Figure size 1440x288 with 1 Axes>"
      ]
     },
     "metadata": {
      "needs_background": "light"
     },
     "output_type": "display_data"
    }
   ],
   "source": [
    "fig, ax = plt.subplots(figsize=(20,4))\n",
    "plt.plot(wavdata)\n",
    "IPython.display.Audio(data=wavdata, rate=row.SAMPLERATE)"
   ]
  },
  {
   "cell_type": "code",
   "execution_count": 117,
   "metadata": {
    "ExecuteTime": {
     "end_time": "2019-06-20T19:11:14.418553Z",
     "start_time": "2019-06-20T19:11:14.339914Z"
    }
   },
   "outputs": [
    {
     "data": {
      "text/html": [
       "<div>\n",
       "<style scoped>\n",
       "    .dataframe tbody tr th:only-of-type {\n",
       "        vertical-align: middle;\n",
       "    }\n",
       "\n",
       "    .dataframe tbody tr th {\n",
       "        vertical-align: top;\n",
       "    }\n",
       "\n",
       "    .dataframe thead th {\n",
       "        text-align: right;\n",
       "    }\n",
       "</style>\n",
       "<table border=\"1\" class=\"dataframe\">\n",
       "  <thead>\n",
       "    <tr style=\"text-align: right;\">\n",
       "      <th></th>\n",
       "      <th>SONGID</th>\n",
       "      <th>STARTTIME</th>\n",
       "      <th>ENDTIME</th>\n",
       "    </tr>\n",
       "  </thead>\n",
       "  <tbody>\n",
       "    <tr>\n",
       "      <th>10947</th>\n",
       "      <td>79</td>\n",
       "      <td>208</td>\n",
       "      <td>2220</td>\n",
       "    </tr>\n",
       "    <tr>\n",
       "      <th>10948</th>\n",
       "      <td>79</td>\n",
       "      <td>208</td>\n",
       "      <td>234</td>\n",
       "    </tr>\n",
       "    <tr>\n",
       "      <th>10949</th>\n",
       "      <td>79</td>\n",
       "      <td>255</td>\n",
       "      <td>397</td>\n",
       "    </tr>\n",
       "  </tbody>\n",
       "</table>\n",
       "</div>"
      ],
      "text/plain": [
       "       SONGID  STARTTIME  ENDTIME\n",
       "10947      79        208     2220\n",
       "10948      79        208      234\n",
       "10949      79        255      397"
      ]
     },
     "execution_count": 117,
     "metadata": {},
     "output_type": "execute_result"
    }
   ],
   "source": [
    "wav_syllables = syllables[syllables.SONGID == row.SONGID]\n",
    "wav_syllables[:3]"
   ]
  },
  {
   "cell_type": "code",
   "execution_count": 118,
   "metadata": {
    "ExecuteTime": {
     "end_time": "2019-06-20T19:11:14.527516Z",
     "start_time": "2019-06-20T19:11:14.420554Z"
    }
   },
   "outputs": [
    {
     "data": {
      "text/html": [
       "<div>\n",
       "<style scoped>\n",
       "    .dataframe tbody tr th:only-of-type {\n",
       "        vertical-align: middle;\n",
       "    }\n",
       "\n",
       "    .dataframe tbody tr th {\n",
       "        vertical-align: top;\n",
       "    }\n",
       "\n",
       "    .dataframe thead th {\n",
       "        text-align: right;\n",
       "    }\n",
       "</style>\n",
       "<table border=\"1\" class=\"dataframe\">\n",
       "  <thead>\n",
       "    <tr style=\"text-align: right;\">\n",
       "      <th></th>\n",
       "      <th>ID</th>\n",
       "      <th>SONGID</th>\n",
       "      <th>SIGNAL</th>\n",
       "      <th>PEAKFREQ</th>\n",
       "      <th>FUNDFREQ</th>\n",
       "      <th>MEANFREQ</th>\n",
       "      <th>MEDIANFREQ</th>\n",
       "      <th>PEAKFREQCHANGE</th>\n",
       "      <th>FUNDFREQCHANGE</th>\n",
       "      <th>MEANFREQCHANGE</th>\n",
       "      <th>...</th>\n",
       "      <th>GAPAFTER</th>\n",
       "      <th>TIMESTEP</th>\n",
       "      <th>FRAMELENGTH</th>\n",
       "      <th>MAXF</th>\n",
       "      <th>WINDOWMETHOD</th>\n",
       "      <th>DY</th>\n",
       "      <th>DYNRANGE</th>\n",
       "      <th>DYNCOMP</th>\n",
       "      <th>ECHORANGE</th>\n",
       "      <th>ECHOCOMP</th>\n",
       "    </tr>\n",
       "  </thead>\n",
       "  <tbody>\n",
       "    <tr>\n",
       "      <th>97166</th>\n",
       "      <td>1918355</td>\n",
       "      <td>79</td>\n",
       "      <td>3 417 81 78 3 418 82 77 3 419 83 77 3 420 84 7...</td>\n",
       "      <td>6503.02734375 4091.30859375 0.0 24.0 5546.9531...</td>\n",
       "      <td>6474.346051351946 3944.0324608575584 0.0 24.5 ...</td>\n",
       "      <td>6510.837259306231 3565.6882243178625 0.0 24.5 ...</td>\n",
       "      <td>9293.263967130424 4062.0421471060536 24.5 23.5...</td>\n",
       "      <td>-0.015979609304389644 -0.027485775018798998 0....</td>\n",
       "      <td>-0.015979609304389644 -0.027485775018798998 0....</td>\n",
       "      <td>-0.015979609304389644 -0.027485775018798998 0....</td>\n",
       "      <td>...</td>\n",
       "      <td>23.0</td>\n",
       "      <td>0.5</td>\n",
       "      <td>5.805</td>\n",
       "      <td>10000</td>\n",
       "      <td>NaN</td>\n",
       "      <td>43.0664</td>\n",
       "      <td>200.0</td>\n",
       "      <td>36.0</td>\n",
       "      <td>25</td>\n",
       "      <td>1.0</td>\n",
       "    </tr>\n",
       "  </tbody>\n",
       "</table>\n",
       "<p>1 rows × 34 columns</p>\n",
       "</div>"
      ],
      "text/plain": [
       "            ID  SONGID                                             SIGNAL  \\\n",
       "97166  1918355      79  3 417 81 78 3 418 82 77 3 419 83 77 3 420 84 7...   \n",
       "\n",
       "                                                PEAKFREQ  \\\n",
       "97166  6503.02734375 4091.30859375 0.0 24.0 5546.9531...   \n",
       "\n",
       "                                                FUNDFREQ  \\\n",
       "97166  6474.346051351946 3944.0324608575584 0.0 24.5 ...   \n",
       "\n",
       "                                                MEANFREQ  \\\n",
       "97166  6510.837259306231 3565.6882243178625 0.0 24.5 ...   \n",
       "\n",
       "                                              MEDIANFREQ  \\\n",
       "97166  9293.263967130424 4062.0421471060536 24.5 23.5...   \n",
       "\n",
       "                                          PEAKFREQCHANGE  \\\n",
       "97166  -0.015979609304389644 -0.027485775018798998 0....   \n",
       "\n",
       "                                          FUNDFREQCHANGE  \\\n",
       "97166  -0.015979609304389644 -0.027485775018798998 0....   \n",
       "\n",
       "                                          MEANFREQCHANGE  ... GAPAFTER  \\\n",
       "97166  -0.015979609304389644 -0.027485775018798998 0....  ...     23.0   \n",
       "\n",
       "      TIMESTEP FRAMELENGTH   MAXF WINDOWMETHOD       DY DYNRANGE DYNCOMP  \\\n",
       "97166      0.5       5.805  10000          NaN  43.0664    200.0    36.0   \n",
       "\n",
       "      ECHORANGE  ECHOCOMP  \n",
       "97166        25       1.0  \n",
       "\n",
       "[1 rows x 34 columns]"
      ]
     },
     "execution_count": 118,
     "metadata": {},
     "output_type": "execute_result"
    }
   ],
   "source": [
    "wav_elements = elements[elements.SONGID == row.SONGID]\n",
    "wav_elements[:1]"
   ]
  },
  {
   "cell_type": "code",
   "execution_count": 119,
   "metadata": {
    "ExecuteTime": {
     "end_time": "2019-06-20T19:11:14.601107Z",
     "start_time": "2019-06-20T19:11:14.530464Z"
    }
   },
   "outputs": [
    {
     "data": {
      "text/html": [
       "<div>\n",
       "<style scoped>\n",
       "    .dataframe tbody tr th:only-of-type {\n",
       "        vertical-align: middle;\n",
       "    }\n",
       "\n",
       "    .dataframe tbody tr th {\n",
       "        vertical-align: top;\n",
       "    }\n",
       "\n",
       "    .dataframe thead th {\n",
       "        text-align: right;\n",
       "    }\n",
       "</style>\n",
       "<table border=\"1\" class=\"dataframe\">\n",
       "  <thead>\n",
       "    <tr style=\"text-align: right;\">\n",
       "      <th></th>\n",
       "      <th>97166</th>\n",
       "    </tr>\n",
       "  </thead>\n",
       "  <tbody>\n",
       "    <tr>\n",
       "      <th>ID</th>\n",
       "      <td>1918355</td>\n",
       "    </tr>\n",
       "    <tr>\n",
       "      <th>SONGID</th>\n",
       "      <td>79</td>\n",
       "    </tr>\n",
       "    <tr>\n",
       "      <th>SIGNAL</th>\n",
       "      <td>3 417 81 78 3 418 82 77 3 419 83 77 3 420 84 7...</td>\n",
       "    </tr>\n",
       "    <tr>\n",
       "      <th>PEAKFREQ</th>\n",
       "      <td>6503.02734375 4091.30859375 0.0 24.0 5546.9531...</td>\n",
       "    </tr>\n",
       "    <tr>\n",
       "      <th>FUNDFREQ</th>\n",
       "      <td>6474.346051351946 3944.0324608575584 0.0 24.5 ...</td>\n",
       "    </tr>\n",
       "    <tr>\n",
       "      <th>MEANFREQ</th>\n",
       "      <td>6510.837259306231 3565.6882243178625 0.0 24.5 ...</td>\n",
       "    </tr>\n",
       "    <tr>\n",
       "      <th>MEDIANFREQ</th>\n",
       "      <td>9293.263967130424 4062.0421471060536 24.5 23.5...</td>\n",
       "    </tr>\n",
       "    <tr>\n",
       "      <th>PEAKFREQCHANGE</th>\n",
       "      <td>-0.015979609304389644 -0.027485775018798998 0....</td>\n",
       "    </tr>\n",
       "    <tr>\n",
       "      <th>FUNDFREQCHANGE</th>\n",
       "      <td>-0.015979609304389644 -0.027485775018798998 0....</td>\n",
       "    </tr>\n",
       "    <tr>\n",
       "      <th>MEANFREQCHANGE</th>\n",
       "      <td>-0.015979609304389644 -0.027485775018798998 0....</td>\n",
       "    </tr>\n",
       "    <tr>\n",
       "      <th>MEDIANFREQCHANGE</th>\n",
       "      <td>-0.015979609304389644 -0.027485775018798998 0....</td>\n",
       "    </tr>\n",
       "    <tr>\n",
       "      <th>HARMONICITY</th>\n",
       "      <td>0.6699836632075836 0.5515186444579149 22.5 0.0...</td>\n",
       "    </tr>\n",
       "    <tr>\n",
       "      <th>WIENER</th>\n",
       "      <td>-0.03563232730552734 -0.29520714122464653 0.0 ...</td>\n",
       "    </tr>\n",
       "    <tr>\n",
       "      <th>BANDWIDTH</th>\n",
       "      <td>645.99609375 -86.1328125 24.5 0.0 -2.583984375...</td>\n",
       "    </tr>\n",
       "    <tr>\n",
       "      <th>AMPLITUDE</th>\n",
       "      <td>34.52050030231476 8.301210403442383 0.0 11.5 1...</td>\n",
       "    </tr>\n",
       "    <tr>\n",
       "      <th>REVERBERATION</th>\n",
       "      <td>100.0 0.5 21.5 0.0 15.66 0.5 0.5 0.5 0.5 0.5 0...</td>\n",
       "    </tr>\n",
       "    <tr>\n",
       "      <th>TRILLAMP</th>\n",
       "      <td>0.0 0.0 0.0 0.0 0.0 0.0 0.0 0.0 0.0 0.0 0.0 0....</td>\n",
       "    </tr>\n",
       "    <tr>\n",
       "      <th>TRILLRATE</th>\n",
       "      <td>40.0 40.0 0.0 0.0 40.0 40.0 40.0 40.0 40.0 40....</td>\n",
       "    </tr>\n",
       "    <tr>\n",
       "      <th>POWERSPECTRUM</th>\n",
       "      <td>0.0 0.0 0.0 0.0 0.0 0.0 0.0 0.0 0.0 0.0 0.0 0....</td>\n",
       "    </tr>\n",
       "    <tr>\n",
       "      <th>STARTTIME</th>\n",
       "      <td>417</td>\n",
       "    </tr>\n",
       "    <tr>\n",
       "      <th>OVERALLPEAKFREQ1</th>\n",
       "      <td>5813.97</td>\n",
       "    </tr>\n",
       "    <tr>\n",
       "      <th>OVERALLPEAKFREQ2</th>\n",
       "      <td>5857.03</td>\n",
       "    </tr>\n",
       "    <tr>\n",
       "      <th>TIMELENGTH</th>\n",
       "      <td>24.5</td>\n",
       "    </tr>\n",
       "    <tr>\n",
       "      <th>GAPBEFORE</th>\n",
       "      <td>-10000</td>\n",
       "    </tr>\n",
       "    <tr>\n",
       "      <th>GAPAFTER</th>\n",
       "      <td>23</td>\n",
       "    </tr>\n",
       "    <tr>\n",
       "      <th>TIMESTEP</th>\n",
       "      <td>0.5</td>\n",
       "    </tr>\n",
       "    <tr>\n",
       "      <th>FRAMELENGTH</th>\n",
       "      <td>5.805</td>\n",
       "    </tr>\n",
       "    <tr>\n",
       "      <th>MAXF</th>\n",
       "      <td>10000</td>\n",
       "    </tr>\n",
       "    <tr>\n",
       "      <th>WINDOWMETHOD</th>\n",
       "      <td>NaN</td>\n",
       "    </tr>\n",
       "    <tr>\n",
       "      <th>DY</th>\n",
       "      <td>43.0664</td>\n",
       "    </tr>\n",
       "    <tr>\n",
       "      <th>DYNRANGE</th>\n",
       "      <td>200</td>\n",
       "    </tr>\n",
       "    <tr>\n",
       "      <th>DYNCOMP</th>\n",
       "      <td>36</td>\n",
       "    </tr>\n",
       "    <tr>\n",
       "      <th>ECHORANGE</th>\n",
       "      <td>25</td>\n",
       "    </tr>\n",
       "    <tr>\n",
       "      <th>ECHOCOMP</th>\n",
       "      <td>1</td>\n",
       "    </tr>\n",
       "  </tbody>\n",
       "</table>\n",
       "</div>"
      ],
      "text/plain": [
       "                                                              97166\n",
       "ID                                                          1918355\n",
       "SONGID                                                           79\n",
       "SIGNAL            3 417 81 78 3 418 82 77 3 419 83 77 3 420 84 7...\n",
       "PEAKFREQ          6503.02734375 4091.30859375 0.0 24.0 5546.9531...\n",
       "FUNDFREQ          6474.346051351946 3944.0324608575584 0.0 24.5 ...\n",
       "MEANFREQ          6510.837259306231 3565.6882243178625 0.0 24.5 ...\n",
       "MEDIANFREQ        9293.263967130424 4062.0421471060536 24.5 23.5...\n",
       "PEAKFREQCHANGE    -0.015979609304389644 -0.027485775018798998 0....\n",
       "FUNDFREQCHANGE    -0.015979609304389644 -0.027485775018798998 0....\n",
       "MEANFREQCHANGE    -0.015979609304389644 -0.027485775018798998 0....\n",
       "MEDIANFREQCHANGE  -0.015979609304389644 -0.027485775018798998 0....\n",
       "HARMONICITY       0.6699836632075836 0.5515186444579149 22.5 0.0...\n",
       "WIENER            -0.03563232730552734 -0.29520714122464653 0.0 ...\n",
       "BANDWIDTH         645.99609375 -86.1328125 24.5 0.0 -2.583984375...\n",
       "AMPLITUDE         34.52050030231476 8.301210403442383 0.0 11.5 1...\n",
       "REVERBERATION     100.0 0.5 21.5 0.0 15.66 0.5 0.5 0.5 0.5 0.5 0...\n",
       "TRILLAMP          0.0 0.0 0.0 0.0 0.0 0.0 0.0 0.0 0.0 0.0 0.0 0....\n",
       "TRILLRATE         40.0 40.0 0.0 0.0 40.0 40.0 40.0 40.0 40.0 40....\n",
       "POWERSPECTRUM     0.0 0.0 0.0 0.0 0.0 0.0 0.0 0.0 0.0 0.0 0.0 0....\n",
       "STARTTIME                                                       417\n",
       "OVERALLPEAKFREQ1                                            5813.97\n",
       "OVERALLPEAKFREQ2                                            5857.03\n",
       "TIMELENGTH                                                     24.5\n",
       "GAPBEFORE                                                    -10000\n",
       "GAPAFTER                                                         23\n",
       "TIMESTEP                                                        0.5\n",
       "FRAMELENGTH                                                   5.805\n",
       "MAXF                                                          10000\n",
       "WINDOWMETHOD                                                    NaN\n",
       "DY                                                          43.0664\n",
       "DYNRANGE                                                        200\n",
       "DYNCOMP                                                          36\n",
       "ECHORANGE                                                        25\n",
       "ECHOCOMP                                                          1"
      ]
     },
     "execution_count": 119,
     "metadata": {},
     "output_type": "execute_result"
    }
   ],
   "source": [
    "wav_elements[:1].T"
   ]
  },
  {
   "cell_type": "code",
   "execution_count": 120,
   "metadata": {
    "ExecuteTime": {
     "end_time": "2019-06-20T19:11:14.684024Z",
     "start_time": "2019-06-20T19:11:14.603443Z"
    }
   },
   "outputs": [
    {
     "data": {
      "text/plain": [
       "(105791, 2.398888888888889)"
      ]
     },
     "execution_count": 120,
     "metadata": {},
     "output_type": "execute_result"
    }
   ],
   "source": [
    "len(wavdata), len(wavdata)/row.SAMPLERATE"
   ]
  },
  {
   "cell_type": "code",
   "execution_count": 121,
   "metadata": {
    "ExecuteTime": {
     "end_time": "2019-06-20T19:11:14.768479Z",
     "start_time": "2019-06-20T19:11:14.685821Z"
    }
   },
   "outputs": [
    {
     "data": {
      "text/plain": [
       "Index(['ID', 'SONGID', 'SIGNAL', 'PEAKFREQ', 'FUNDFREQ', 'MEANFREQ',\n",
       "       'MEDIANFREQ', 'PEAKFREQCHANGE', 'FUNDFREQCHANGE', 'MEANFREQCHANGE',\n",
       "       'MEDIANFREQCHANGE', 'HARMONICITY', 'WIENER', 'BANDWIDTH', 'AMPLITUDE',\n",
       "       'REVERBERATION', 'TRILLAMP', 'TRILLRATE', 'POWERSPECTRUM', 'STARTTIME',\n",
       "       'OVERALLPEAKFREQ1', 'OVERALLPEAKFREQ2', 'TIMELENGTH', 'GAPBEFORE',\n",
       "       'GAPAFTER', 'TIMESTEP', 'FRAMELENGTH', 'MAXF', 'WINDOWMETHOD', 'DY',\n",
       "       'DYNRANGE', 'DYNCOMP', 'ECHORANGE', 'ECHOCOMP'],\n",
       "      dtype='object')"
      ]
     },
     "execution_count": 121,
     "metadata": {},
     "output_type": "execute_result"
    }
   ],
   "source": [
    "wav_elements.columns"
   ]
  },
  {
   "cell_type": "code",
   "execution_count": 122,
   "metadata": {
    "ExecuteTime": {
     "end_time": "2019-06-20T19:11:14.852397Z",
     "start_time": "2019-06-20T19:11:14.770296Z"
    }
   },
   "outputs": [
    {
     "data": {
      "text/plain": [
       "array([0.5, 0.5, 0.5, 0.5, 0.5, 0.5, 0.5, 0.5, 0.5, 0.5, 0.5, 0.5, 0.5,\n",
       "       0.5, 0.5, 0.5, 0.5, 0.5, 0.5, 0.5, 0.5, 0.5, 0.5, 0.5, 0.5, 0.5,\n",
       "       0.5, 0.5, 0.5, 0.5, 0.5, 0.5, 0.5, 0.5, 0.5, 0.5, 0.5, 0.5, 0.5,\n",
       "       0.5, 0.5, 0.5, 0.5, 0.5, 0.5, 0.5, 0.5, 0.5, 0.5, 0.5, 0.5, 0.5])"
      ]
     },
     "execution_count": 122,
     "metadata": {},
     "output_type": "execute_result"
    }
   ],
   "source": [
    "wav_elements.TIMESTEP.values"
   ]
  },
  {
   "cell_type": "code",
   "execution_count": 123,
   "metadata": {
    "ExecuteTime": {
     "end_time": "2019-06-20T19:11:14.935606Z",
     "start_time": "2019-06-20T19:11:14.854177Z"
    }
   },
   "outputs": [
    {
     "data": {
      "text/plain": [
       "array([0.5, 0.5, 0.5, 0.5, 0.5, 0.5, 0.5, 0.5, 0.5, 0.5, 0.5, 0.5, 0.5,\n",
       "       0.5, 0.5, 0.5, 0.5, 0.5, 0.5, 0.5, 0.5, 0.5, 0.5, 0.5, 0.5, 0.5,\n",
       "       0.5, 0.5, 0.5, 0.5, 0.5, 0.5, 0.5, 0.5, 0.5, 0.5, 0.5, 0.5, 0.5,\n",
       "       0.5, 0.5, 0.5, 0.5, 0.5, 0.5, 0.5, 0.5, 0.5, 0.5, 0.5, 0.5, 0.5])"
      ]
     },
     "execution_count": 123,
     "metadata": {},
     "output_type": "execute_result"
    }
   ],
   "source": [
    "wav_elements.TIMESTEP.values"
   ]
  },
  {
   "cell_type": "code",
   "execution_count": 124,
   "metadata": {
    "ExecuteTime": {
     "end_time": "2019-06-20T19:11:15.019679Z",
     "start_time": "2019-06-20T19:11:14.937389Z"
    }
   },
   "outputs": [
    {
     "data": {
      "text/plain": [
       "array([24.5,  6. , 41.5, 12. , 26.5,  9.5, 36.5, 12.5, 27.5,  6.5, 35.5,\n",
       "       12.5, 26.5,  8.5, 39. , 13.5, 26. ,  9. , 36.5, 13. , 24.5,  8.5,\n",
       "       37. , 13. , 26.5,  9.5, 39.5, 13. , 26.5,  9.5, 35.5, 13.5, 23.5,\n",
       "        7.5, 37. , 12. , 24. ,  8. , 35. , 12.5, 24. ,  7.5, 37. , 12.5,\n",
       "       22.5,  8.5, 35.5, 12.5, 20.5,  6. , 34. , 12.5])"
      ]
     },
     "execution_count": 124,
     "metadata": {},
     "output_type": "execute_result"
    }
   ],
   "source": [
    "wav_elements.TIMELENGTH.values"
   ]
  },
  {
   "cell_type": "code",
   "execution_count": null,
   "metadata": {},
   "outputs": [],
   "source": []
  },
  {
   "cell_type": "code",
   "execution_count": 125,
   "metadata": {
    "ExecuteTime": {
     "end_time": "2019-06-20T19:11:15.101795Z",
     "start_time": "2019-06-20T19:11:15.021526Z"
    }
   },
   "outputs": [
    {
     "data": {
      "text/plain": [
       "array([ 417,  512,  533,  651,  739,  843,  868,  976, 1059, 1168, 1194,\n",
       "       1299, 1381, 1489, 1513, 1619, 1700, 1805, 1831, 1937, 2015, 2118,\n",
       "       2144, 2246, 2318, 2420, 2445, 2552, 2623, 2731, 2758, 2861, 2933,\n",
       "       3033, 3059, 3168, 3236, 3338, 3368, 3475, 3545, 3648, 3676, 3783,\n",
       "       3854, 3953, 3982, 4090, 4169, 4275, 4305, 4413])"
      ]
     },
     "execution_count": 125,
     "metadata": {},
     "output_type": "execute_result"
    }
   ],
   "source": [
    "wav_elements.STARTTIME.values"
   ]
  },
  {
   "cell_type": "code",
   "execution_count": 126,
   "metadata": {
    "ExecuteTime": {
     "end_time": "2019-06-20T19:11:15.183479Z",
     "start_time": "2019-06-20T19:11:15.104769Z"
    }
   },
   "outputs": [],
   "source": [
    "# element 1 is 31.5ms long. it starts at 295 TIMELENGTH (0.5ms) samples in"
   ]
  },
  {
   "cell_type": "code",
   "execution_count": 127,
   "metadata": {
    "ExecuteTime": {
     "end_time": "2019-06-20T19:11:16.251916Z",
     "start_time": "2019-06-20T19:11:15.185653Z"
    }
   },
   "outputs": [
    {
     "data": {
      "image/png": "[encoded data removed]",
      "text/plain": [
       "<Figure size 3600x288 with 1 Axes>"
      ]
     },
     "metadata": {
      "needs_background": "light"
     },
     "output_type": "display_data"
    }
   ],
   "source": [
    "fig, ax = plt.subplots(figsize=(50,4))\n",
    "plt.plot(wavdata, color='k')\n",
    "IPython.display.Audio(data=wavdata, rate=row.SAMPLERATE)\n",
    "\n",
    "for syll_num in range(len(wav_elements.STARTTIME.values)):\n",
    "    syll_start = ((wav_elements.STARTTIME.values[syll_num]*0.5)/1000)*row.SAMPLERATE\n",
    "    syll_end = syll_start + ((wav_elements.TIMELENGTH.values[syll_num])/1000)*row.SAMPLERATE\n",
    "\n",
    "    ax.axvline(syll_start, color='red')\n",
    "    ax.axvline(syll_end, color = 'blue')"
   ]
  },
  {
   "cell_type": "code",
   "execution_count": 128,
   "metadata": {
    "ExecuteTime": {
     "end_time": "2019-06-20T19:11:16.331064Z",
     "start_time": "2019-06-20T19:11:16.253891Z"
    }
   },
   "outputs": [
    {
     "name": "stdout",
     "output_type": "stream",
     "text": [
      "441.0\n",
      "88.2\n"
     ]
    }
   ],
   "source": [
    "from avgn.signalprocessing import spectrogramming as sg\n",
    "import tensorflow as tf\n",
    "def prepare_mel_matrix(hparams, return_numpy=True):\n",
    "    # create a filter to convolve with the spectrogram\n",
    "    mel_matrix = tf.signal.linear_to_mel_weight_matrix(\n",
    "        num_mel_bins=hparams.num_mel_bins,\n",
    "        num_spectrogram_bins=int(hparams.n_fft / 2) + 1,\n",
    "        sample_rate=rate,\n",
    "        lower_edge_hertz=hparams.mel_lower_edge_hertz,\n",
    "        upper_edge_hertz=hparams.mel_upper_edge_hertz,\n",
    "        dtype=tf.dtypes.float32,\n",
    "        name=None,\n",
    "    )\n",
    "    \n",
    "    # gets the center frequencies of mel bands\n",
    "    mel_f = mel_frequencies(\n",
    "        n_mels=hparams.num_mel_bins + 2,\n",
    "        fmin=hparams.mel_lower_edge_hertz,\n",
    "        fmax=hparams.mel_upper_edge_hertz,\n",
    "    )\n",
    "\n",
    "    # Slaney-style mel is scaled to be approx constant energy per channel (from librosa)\n",
    "    enorm = tf.dtypes.cast(\n",
    "        tf.expand_dims(\n",
    "            tf.constant(\n",
    "                2.0 / (mel_f[2 : hparams.num_mel_bins + 2] - mel_f[: hparams.num_mel_bins])\n",
    "            ),\n",
    "            0,\n",
    "        ),\n",
    "        tf.float32,\n",
    "    )\n",
    "\n",
    "    mel_matrix = tf.multiply(mel_matrix, enorm)\n",
    "    mel_matrix = tf.divide(mel_matrix, tf.reduce_sum(mel_matrix, axis=0))\n",
    "    if return_numpy:\n",
    "        return mel_matrix.numpy()\n",
    "    else:\n",
    "        return mel_matrix\n",
    "    \n",
    "win_length_ms = 10\n",
    "hop_length_ms = 2\n",
    "print(win_length_ms / 1000 * rate)\n",
    "print(hop_length_ms / 1000 * rate)\n",
    "\n",
    "hparams = HParams(\n",
    "    # spectrogramming\n",
    "    win_length=int(rate / 1000 * win_length_ms),\n",
    "    n_fft=1024,\n",
    "    hop_length=int(rate / 1000 * hop_length_ms),\n",
    "    ref_level_db=20,\n",
    "    min_level_db=-40,\n",
    "    preemphasis=0.97,\n",
    "    # mel scaling\n",
    "    num_mel_bins=64,\n",
    "    mel_lower_edge_hertz=2500,\n",
    "    mel_upper_edge_hertz=10000,\n",
    "    # inversion\n",
    "    power=1.5,  # for spectral inversion\n",
    "    griffin_lim_iters=50,\n",
    "    pad=True,\n",
    "    #\n",
    ")\n",
    "mel_matrix = prepare_mel_matrix(hparams)"
   ]
  },
  {
   "cell_type": "code",
   "execution_count": 129,
   "metadata": {
    "ExecuteTime": {
     "end_time": "2019-06-20T19:11:16.446668Z",
     "start_time": "2019-06-20T19:11:16.333580Z"
    }
   },
   "outputs": [
    {
     "data": {
      "text/html": [
       "<div>\n",
       "<style scoped>\n",
       "    .dataframe tbody tr th:only-of-type {\n",
       "        vertical-align: middle;\n",
       "    }\n",
       "\n",
       "    .dataframe tbody tr th {\n",
       "        vertical-align: top;\n",
       "    }\n",
       "\n",
       "    .dataframe thead th {\n",
       "        text-align: right;\n",
       "    }\n",
       "</style>\n",
       "<table border=\"1\" class=\"dataframe\">\n",
       "  <thead>\n",
       "    <tr style=\"text-align: right;\">\n",
       "      <th></th>\n",
       "      <th>SONGID</th>\n",
       "      <th>STARTTIME</th>\n",
       "      <th>ENDTIME</th>\n",
       "    </tr>\n",
       "  </thead>\n",
       "  <tbody>\n",
       "    <tr>\n",
       "      <th>10947</th>\n",
       "      <td>79</td>\n",
       "      <td>208</td>\n",
       "      <td>2220</td>\n",
       "    </tr>\n",
       "    <tr>\n",
       "      <th>10948</th>\n",
       "      <td>79</td>\n",
       "      <td>208</td>\n",
       "      <td>234</td>\n",
       "    </tr>\n",
       "    <tr>\n",
       "      <th>10949</th>\n",
       "      <td>79</td>\n",
       "      <td>255</td>\n",
       "      <td>397</td>\n",
       "    </tr>\n",
       "  </tbody>\n",
       "</table>\n",
       "</div>"
      ],
      "text/plain": [
       "       SONGID  STARTTIME  ENDTIME\n",
       "10947      79        208     2220\n",
       "10948      79        208      234\n",
       "10949      79        255      397"
      ]
     },
     "execution_count": 129,
     "metadata": {},
     "output_type": "execute_result"
    }
   ],
   "source": [
    "wav_syllables = syllables[syllables.SONGID == row.SONGID]\n",
    "wav_syllables[:3]"
   ]
  },
  {
   "cell_type": "code",
   "execution_count": 130,
   "metadata": {
    "ExecuteTime": {
     "end_time": "2019-06-20T19:11:16.539905Z",
     "start_time": "2019-06-20T19:11:16.448640Z"
    }
   },
   "outputs": [
    {
     "data": {
      "text/html": [
       "<div>\n",
       "<style scoped>\n",
       "    .dataframe tbody tr th:only-of-type {\n",
       "        vertical-align: middle;\n",
       "    }\n",
       "\n",
       "    .dataframe tbody tr th {\n",
       "        vertical-align: top;\n",
       "    }\n",
       "\n",
       "    .dataframe thead th {\n",
       "        text-align: right;\n",
       "    }\n",
       "</style>\n",
       "<table border=\"1\" class=\"dataframe\">\n",
       "  <thead>\n",
       "    <tr style=\"text-align: right;\">\n",
       "      <th></th>\n",
       "      <th>SONGID</th>\n",
       "      <th>STARTTIME</th>\n",
       "      <th>ENDTIME</th>\n",
       "    </tr>\n",
       "  </thead>\n",
       "  <tbody>\n",
       "    <tr>\n",
       "      <th>10947</th>\n",
       "      <td>79</td>\n",
       "      <td>208</td>\n",
       "      <td>2220</td>\n",
       "    </tr>\n",
       "    <tr>\n",
       "      <th>10948</th>\n",
       "      <td>79</td>\n",
       "      <td>208</td>\n",
       "      <td>234</td>\n",
       "    </tr>\n",
       "    <tr>\n",
       "      <th>10949</th>\n",
       "      <td>79</td>\n",
       "      <td>255</td>\n",
       "      <td>397</td>\n",
       "    </tr>\n",
       "    <tr>\n",
       "      <th>10950</th>\n",
       "      <td>79</td>\n",
       "      <td>421</td>\n",
       "      <td>558</td>\n",
       "    </tr>\n",
       "    <tr>\n",
       "      <th>10951</th>\n",
       "      <td>79</td>\n",
       "      <td>583</td>\n",
       "      <td>718</td>\n",
       "    </tr>\n",
       "    <tr>\n",
       "      <th>10952</th>\n",
       "      <td>79</td>\n",
       "      <td>744</td>\n",
       "      <td>877</td>\n",
       "    </tr>\n",
       "    <tr>\n",
       "      <th>10953</th>\n",
       "      <td>79</td>\n",
       "      <td>902</td>\n",
       "      <td>1033</td>\n",
       "    </tr>\n",
       "    <tr>\n",
       "      <th>10954</th>\n",
       "      <td>79</td>\n",
       "      <td>1058</td>\n",
       "      <td>1186</td>\n",
       "    </tr>\n",
       "    <tr>\n",
       "      <th>10955</th>\n",
       "      <td>79</td>\n",
       "      <td>1209</td>\n",
       "      <td>1339</td>\n",
       "    </tr>\n",
       "    <tr>\n",
       "      <th>10956</th>\n",
       "      <td>79</td>\n",
       "      <td>1365</td>\n",
       "      <td>1491</td>\n",
       "    </tr>\n",
       "    <tr>\n",
       "      <th>10957</th>\n",
       "      <td>79</td>\n",
       "      <td>1516</td>\n",
       "      <td>1643</td>\n",
       "    </tr>\n",
       "    <tr>\n",
       "      <th>10958</th>\n",
       "      <td>79</td>\n",
       "      <td>1668</td>\n",
       "      <td>1797</td>\n",
       "    </tr>\n",
       "    <tr>\n",
       "      <th>10959</th>\n",
       "      <td>79</td>\n",
       "      <td>1823</td>\n",
       "      <td>1950</td>\n",
       "    </tr>\n",
       "    <tr>\n",
       "      <th>10960</th>\n",
       "      <td>79</td>\n",
       "      <td>1976</td>\n",
       "      <td>2106</td>\n",
       "    </tr>\n",
       "    <tr>\n",
       "      <th>10961</th>\n",
       "      <td>79</td>\n",
       "      <td>2137</td>\n",
       "      <td>2220</td>\n",
       "    </tr>\n",
       "  </tbody>\n",
       "</table>\n",
       "</div>"
      ],
      "text/plain": [
       "       SONGID  STARTTIME  ENDTIME\n",
       "10947      79        208     2220\n",
       "10948      79        208      234\n",
       "10949      79        255      397\n",
       "10950      79        421      558\n",
       "10951      79        583      718\n",
       "10952      79        744      877\n",
       "10953      79        902     1033\n",
       "10954      79       1058     1186\n",
       "10955      79       1209     1339\n",
       "10956      79       1365     1491\n",
       "10957      79       1516     1643\n",
       "10958      79       1668     1797\n",
       "10959      79       1823     1950\n",
       "10960      79       1976     2106\n",
       "10961      79       2137     2220"
      ]
     },
     "execution_count": 130,
     "metadata": {},
     "output_type": "execute_result"
    }
   ],
   "source": [
    "wav_syllables"
   ]
  },
  {
   "cell_type": "code",
   "execution_count": 131,
   "metadata": {
    "ExecuteTime": {
     "end_time": "2019-06-20T19:11:16.626262Z",
     "start_time": "2019-06-20T19:11:16.541545Z"
    }
   },
   "outputs": [
    {
     "data": {
      "text/plain": [
       "array([ 417,  512,  533,  651,  739,  843,  868,  976, 1059, 1168, 1194,\n",
       "       1299, 1381, 1489, 1513, 1619, 1700, 1805, 1831, 1937, 2015, 2118,\n",
       "       2144, 2246, 2318, 2420, 2445, 2552, 2623, 2731, 2758, 2861, 2933,\n",
       "       3033, 3059, 3168, 3236, 3338, 3368, 3475, 3545, 3648, 3676, 3783,\n",
       "       3854, 3953, 3982, 4090, 4169, 4275, 4305, 4413])"
      ]
     },
     "execution_count": 131,
     "metadata": {},
     "output_type": "execute_result"
    }
   ],
   "source": [
    "wav_elements.STARTTIME.values"
   ]
  },
  {
   "cell_type": "code",
   "execution_count": 132,
   "metadata": {
    "ExecuteTime": {
     "end_time": "2019-06-20T19:11:17.531331Z",
     "start_time": "2019-06-20T19:11:16.627918Z"
    }
   },
   "outputs": [
    {
     "data": {
      "image/png": "[encoded data removed]",
      "text/plain": [
       "<Figure size 3600x288 with 1 Axes>"
      ]
     },
     "metadata": {
      "needs_background": "light"
     },
     "output_type": "display_data"
    }
   ],
   "source": [
    "spectrogram = sg.spectrogram(int16_to_float32(np.array(wavdata)), hparams)\n",
    "mel_spec = np.dot(spectrogram.T, mel_matrix).T\n",
    "fig, ax = plt.subplots(ncols = 1, figsize=(50,4))\n",
    "#axs[0].matshow(spectrogram, origin='lower', aspect='auto', cmap = plt.cm.afmhot)\n",
    "ax.matshow(mel_spec, origin='lower', aspect='auto', extent = [0,len(wavdata),0,1],cmap = plt.cm.afmhot)\n",
    "\n",
    "for syll_num in range(len(wav_elements.STARTTIME.values)):\n",
    "    syll_start = ((wav_elements.STARTTIME.values[syll_num]*0.5)/1000)*row.SAMPLERATE\n",
    "    syll_end = syll_start + ((wav_elements.TIMELENGTH.values[syll_num])/1000)*row.SAMPLERATE\n",
    "\n",
    "    ax.axvline(syll_start, color='red')\n",
    "    ax.axvline(syll_end, color = 'blue')\n",
    "    ax.fill_between([syll_start,syll_end], [.9,.9], [1,1], color='white')\n",
    "    \n",
    "    \n",
    "for syll_num in range(1, len(wav_syllables.STARTTIME.values)):\n",
    "    syll_start = ((wav_syllables.STARTTIME.values[syll_num])/1000)*row.SAMPLERATE\n",
    "    syll_end = ((wav_syllables.ENDTIME.values[syll_num])/1000)*row.SAMPLERATE\n",
    "\n",
    "    ax.axvline(syll_start, color='green')\n",
    "    ax.axvline(syll_end, color='white')\n",
    "    ax.fill_between([syll_start,syll_end], [0,0], [0.1,0.1], color='green')\n",
    "    #break\n",
    "    \n",
    "plt.show()\n"
   ]
  },
  {
   "cell_type": "code",
   "execution_count": 104,
   "metadata": {
    "ExecuteTime": {
     "end_time": "2019-06-20T19:07:49.077578Z",
     "start_time": "2019-06-20T19:07:48.972500Z"
    }
   },
   "outputs": [
    {
     "data": {
      "text/plain": [
       "[3836.7, 102708.90000000001]"
      ]
     },
     "execution_count": 104,
     "metadata": {},
     "output_type": "execute_result"
    }
   ],
   "source": [
    "[syll_start,syll_end]"
   ]
  },
  {
   "cell_type": "code",
   "execution_count": null,
   "metadata": {
    "ExecuteTime": {
     "end_time": "2019-06-20T19:01:29.483911Z",
     "start_time": "2019-06-20T19:01:29.393628Z"
    }
   },
   "outputs": [],
   "source": []
  },
  {
   "cell_type": "code",
   "execution_count": null,
   "metadata": {
    "ExecuteTime": {
     "end_time": "2019-06-20T19:01:29.708841Z",
     "start_time": "2019-06-20T19:01:29.646665Z"
    }
   },
   "outputs": [],
   "source": []
  },
  {
   "cell_type": "code",
   "execution_count": null,
   "metadata": {
    "ExecuteTime": {
     "end_time": "2019-06-06T18:56:58.496287Z",
     "start_time": "2019-06-06T18:56:57.753512Z"
    }
   },
   "outputs": [],
   "source": []
  },
  {
   "cell_type": "code",
   "execution_count": 70,
   "metadata": {
    "ExecuteTime": {
     "end_time": "2019-06-20T19:01:31.099482Z",
     "start_time": "2019-06-20T19:01:30.747491Z"
    },
    "scrolled": false
   },
   "outputs": [
    {
     "data": {
      "image/png": "[encoded data removed]",
      "text/plain": [
       "<Figure size 1440x216 with 1 Axes>"
      ]
     },
     "metadata": {
      "needs_background": "light"
     },
     "output_type": "display_data"
    }
   ],
   "source": [
    "for idx, row in wavs[:50].iterrows():\n",
    "    wavdata = string2int16(row.WAV)\n",
    "    spectrogram = sg.spectrogram(int16_to_float32(np.array(wavdata)), hparams)\n",
    "    mel_spec = np.dot(spectrogram.T, mel_matrix).T\n",
    "    fig, ax = plt.subplots(ncols = 1, figsize=(20,3))\n",
    "    #axs[0].matshow(spectrogram, origin='lower', aspect='auto', cmap = plt.cm.afmhot)\n",
    "    ax.matshow(mel_spec, origin='lower', aspect='auto', cmap = plt.cm.afmhot)\n",
    "    plt.show()\n",
    "    break"
   ]
  },
  {
   "cell_type": "code",
   "execution_count": null,
   "metadata": {
    "ExecuteTime": {
     "end_time": "2019-06-20T18:52:01.312594Z",
     "start_time": "2019-06-20T18:51:24.682Z"
    }
   },
   "outputs": [],
   "source": [
    "# get bounding box on frequency (in mel...)"
   ]
  },
  {
   "cell_type": "code",
   "execution_count": 134,
   "metadata": {
    "ExecuteTime": {
     "end_time": "2019-06-20T23:22:50.226596Z",
     "start_time": "2019-06-20T23:22:50.103946Z"
    }
   },
   "outputs": [
    {
     "ename": "AttributeError",
     "evalue": "'Series' object has no attribute 'HARMONICITY'",
     "output_type": "error",
     "traceback": [
      "\u001b[0;31m---------------------------------------------------------------------------\u001b[0m",
      "\u001b[0;31mAttributeError\u001b[0m                            Traceback (most recent call last)",
      "\u001b[0;32m<ipython-input-134-a0f28afc1ecc>\u001b[0m in \u001b[0;36m<module>\u001b[0;34m\u001b[0m\n\u001b[0;32m----> 1\u001b[0;31m \u001b[0mrow\u001b[0m\u001b[0;34m.\u001b[0m\u001b[0mHARMONICITY\u001b[0m\u001b[0;34m\u001b[0m\u001b[0;34m\u001b[0m\u001b[0m\n\u001b[0m",
      "\u001b[0;32m/mnt/cube/tsainbur/conda_envs/tpy3/lib/python3.6/site-packages/pandas/core/generic.py\u001b[0m in \u001b[0;36m__getattr__\u001b[0;34m(self, name)\u001b[0m\n\u001b[1;32m   5065\u001b[0m             \u001b[0;32mif\u001b[0m \u001b[0mself\u001b[0m\u001b[0;34m.\u001b[0m\u001b[0m_info_axis\u001b[0m\u001b[0;34m.\u001b[0m\u001b[0m_can_hold_identifiers_and_holds_name\u001b[0m\u001b[0;34m(\u001b[0m\u001b[0mname\u001b[0m\u001b[0;34m)\u001b[0m\u001b[0;34m:\u001b[0m\u001b[0;34m\u001b[0m\u001b[0;34m\u001b[0m\u001b[0m\n\u001b[1;32m   5066\u001b[0m                 \u001b[0;32mreturn\u001b[0m \u001b[0mself\u001b[0m\u001b[0;34m[\u001b[0m\u001b[0mname\u001b[0m\u001b[0;34m]\u001b[0m\u001b[0;34m\u001b[0m\u001b[0;34m\u001b[0m\u001b[0m\n\u001b[0;32m-> 5067\u001b[0;31m             \u001b[0;32mreturn\u001b[0m \u001b[0mobject\u001b[0m\u001b[0;34m.\u001b[0m\u001b[0m__getattribute__\u001b[0m\u001b[0;34m(\u001b[0m\u001b[0mself\u001b[0m\u001b[0;34m,\u001b[0m \u001b[0mname\u001b[0m\u001b[0;34m)\u001b[0m\u001b[0;34m\u001b[0m\u001b[0;34m\u001b[0m\u001b[0m\n\u001b[0m\u001b[1;32m   5068\u001b[0m \u001b[0;34m\u001b[0m\u001b[0m\n\u001b[1;32m   5069\u001b[0m     \u001b[0;32mdef\u001b[0m \u001b[0m__setattr__\u001b[0m\u001b[0;34m(\u001b[0m\u001b[0mself\u001b[0m\u001b[0;34m,\u001b[0m \u001b[0mname\u001b[0m\u001b[0;34m,\u001b[0m \u001b[0mvalue\u001b[0m\u001b[0;34m)\u001b[0m\u001b[0;34m:\u001b[0m\u001b[0;34m\u001b[0m\u001b[0;34m\u001b[0m\u001b[0m\n",
      "\u001b[0;31mAttributeError\u001b[0m: 'Series' object has no attribute 'HARMONICITY'"
     ]
    }
   ],
   "source": [
    "row.HARMONICITY"
   ]
  },
  {
   "cell_type": "code",
   "execution_count": 133,
   "metadata": {
    "ExecuteTime": {
     "end_time": "2019-06-20T23:22:47.431228Z",
     "start_time": "2019-06-20T23:22:46.164911Z"
    }
   },
   "outputs": [
    {
     "ename": "AttributeError",
     "evalue": "'Series' object has no attribute 'HARMONICITY'",
     "output_type": "error",
     "traceback": [
      "\u001b[0;31m---------------------------------------------------------------------------\u001b[0m",
      "\u001b[0;31mAttributeError\u001b[0m                            Traceback (most recent call last)",
      "\u001b[0;32m<ipython-input-133-4c3b68ea46ae>\u001b[0m in \u001b[0;36m<module>\u001b[0;34m\u001b[0m\n\u001b[0;32m----> 1\u001b[0;31m \u001b[0mplt\u001b[0m\u001b[0;34m.\u001b[0m\u001b[0mplot\u001b[0m\u001b[0;34m(\u001b[0m\u001b[0mrow\u001b[0m\u001b[0;34m.\u001b[0m\u001b[0mHARMONICITY\u001b[0m\u001b[0;34m)\u001b[0m\u001b[0;34m\u001b[0m\u001b[0;34m\u001b[0m\u001b[0m\n\u001b[0m",
      "\u001b[0;32m/mnt/cube/tsainbur/conda_envs/tpy3/lib/python3.6/site-packages/pandas/core/generic.py\u001b[0m in \u001b[0;36m__getattr__\u001b[0;34m(self, name)\u001b[0m\n\u001b[1;32m   5065\u001b[0m             \u001b[0;32mif\u001b[0m \u001b[0mself\u001b[0m\u001b[0;34m.\u001b[0m\u001b[0m_info_axis\u001b[0m\u001b[0;34m.\u001b[0m\u001b[0m_can_hold_identifiers_and_holds_name\u001b[0m\u001b[0;34m(\u001b[0m\u001b[0mname\u001b[0m\u001b[0;34m)\u001b[0m\u001b[0;34m:\u001b[0m\u001b[0;34m\u001b[0m\u001b[0;34m\u001b[0m\u001b[0m\n\u001b[1;32m   5066\u001b[0m                 \u001b[0;32mreturn\u001b[0m \u001b[0mself\u001b[0m\u001b[0;34m[\u001b[0m\u001b[0mname\u001b[0m\u001b[0;34m]\u001b[0m\u001b[0;34m\u001b[0m\u001b[0;34m\u001b[0m\u001b[0m\n\u001b[0;32m-> 5067\u001b[0;31m             \u001b[0;32mreturn\u001b[0m \u001b[0mobject\u001b[0m\u001b[0;34m.\u001b[0m\u001b[0m__getattribute__\u001b[0m\u001b[0;34m(\u001b[0m\u001b[0mself\u001b[0m\u001b[0;34m,\u001b[0m \u001b[0mname\u001b[0m\u001b[0;34m)\u001b[0m\u001b[0;34m\u001b[0m\u001b[0;34m\u001b[0m\u001b[0m\n\u001b[0m\u001b[1;32m   5068\u001b[0m \u001b[0;34m\u001b[0m\u001b[0m\n\u001b[1;32m   5069\u001b[0m     \u001b[0;32mdef\u001b[0m \u001b[0m__setattr__\u001b[0m\u001b[0;34m(\u001b[0m\u001b[0mself\u001b[0m\u001b[0;34m,\u001b[0m \u001b[0mname\u001b[0m\u001b[0;34m,\u001b[0m \u001b[0mvalue\u001b[0m\u001b[0;34m)\u001b[0m\u001b[0;34m:\u001b[0m\u001b[0;34m\u001b[0m\u001b[0;34m\u001b[0m\u001b[0m\n",
      "\u001b[0;31mAttributeError\u001b[0m: 'Series' object has no attribute 'HARMONICITY'"
     ]
    }
   ],
   "source": [
    "plt.plot(row.HARMONICITY)"
   ]
  },
  {
   "cell_type": "code",
   "execution_count": null,
   "metadata": {},
   "outputs": [],
   "source": []
  },
  {
   "cell_type": "code",
   "execution_count": null,
   "metadata": {},
   "outputs": [],
   "source": []
  },
  {
   "cell_type": "code",
   "execution_count": null,
   "metadata": {},
   "outputs": [],
   "source": []
  },
  {
   "cell_type": "code",
   "execution_count": null,
   "metadata": {},
   "outputs": [],
   "source": []
  },
  {
   "cell_type": "code",
   "execution_count": null,
   "metadata": {},
   "outputs": [],
   "source": []
  },
  {
   "cell_type": "code",
   "execution_count": null,
   "metadata": {},
   "outputs": [],
   "source": []
  },
  {
   "cell_type": "code",
   "execution_count": null,
   "metadata": {},
   "outputs": [],
   "source": []
  },
  {
   "cell_type": "code",
   "execution_count": null,
   "metadata": {},
   "outputs": [],
   "source": []
  },
  {
   "cell_type": "code",
   "execution_count": null,
   "metadata": {},
   "outputs": [],
   "source": []
  },
  {
   "cell_type": "code",
   "execution_count": null,
   "metadata": {},
   "outputs": [],
   "source": []
  },
  {
   "cell_type": "code",
   "execution_count": null,
   "metadata": {},
   "outputs": [],
   "source": []
  }
 ],
 "metadata": {
  "kernelspec": {
   "display_name": "Python 3",
   "language": "python",
   "name": "python3"
  },
  "language_info": {
   "codemirror_mode": {
    "name": "ipython",
    "version": 3
   },
   "file_extension": ".py",
   "mimetype": "text/x-python",
   "name": "python",
   "nbconvert_exporter": "python",
   "pygments_lexer": "ipython3",
   "version": "3.6.7"
  }
 },
 "nbformat": 4,
 "nbformat_minor": 2
}
