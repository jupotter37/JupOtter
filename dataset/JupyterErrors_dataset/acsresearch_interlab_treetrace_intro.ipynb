{
 "cells": [
  {
   "cell_type": "markdown",
   "id": "c0fed295-5189-4ac9-af7b-8837e5a01a9a",
   "metadata": {},
   "source": [
    "# Introduction to TreeTrace module\n",
    "\n",
    "**NOTE: This notebooks deals with both standard tracing nodes use and some low-level aspects of nodes and their storage.**\n",
    "\n",
    "TreeTrace nodes are a framework for logging, tracing, result storage, and visualization of nested computations and actor interactions.\n",
    "They have been designed with large textual and structured (e.g. JSON) inputs and outputs in mind, as well as generic and custom visualizations.\n",
    "\n",
    "A `TracingNode` is an event of certain name, type (`kind`, with small differences in semantics for several built-in ones), start and end time, inputs,\n",
    "result or error (exception), tags, and any child nodes - forming a rooted tree. Tags allow for tracing node filtering and search. Inputs and result support structured data and visualizations (see below).\n",
    "\n",
    "## Storage\n",
    "\n",
    "Currently, TracingNodes are stored as JSON files (one JSON file for every designated stored root node), but in the future we plan to also support DB storage.\n",
    "\n",
    "## Visualization and UI\n",
    "\n",
    "The framework also contains a web-based browser for the browsing tracing nodes - both directly in a jupyter notebook and in a separate web-browser window.\n",
    "\n",
    "Tracing nodes and their visualization interact well with dataclasses (and JSON-like data in general) but also support custom visualizations: bitmap images, HTML, SVG (more can be added).\n",
    "\n",
    "The current browser also shows still running TracingNodes (manual reloads required for refresh).\n",
    "\n",
    "## In InterLab\n",
    "\n",
    "Tracing nodes are an independent part of InterLab - you can use them in other projects (e.g. for the tracing browser), or use interlab without tracing nodes (some TracingNodes are still created but not stored by default, and should pose a trivial performance penalty comparable to logging).\n"
   ]
  },
  {
   "cell_type": "code",
   "execution_count": 1,
   "id": "517e9432-85fc-482d-b95c-8cdd571ffbea",
   "metadata": {
    "tags": []
   },
   "outputs": [],
   "source": [
    "from dataclasses import dataclass\n",
    "import json\n",
    "import matplotlib.pyplot as plt\n",
    "from treetrace import TracingNode, with_trace, current_tracing_node, Tag, FileStorage\n",
    "from treetrace.ext.pyplot import capture_figure\n",
    "\n",
    "def show(obj):\n",
    "    print(json.dumps(obj, indent=2))"
   ]
  },
  {
   "cell_type": "markdown",
   "id": "35f9e3cd-6944-459d-9084-3f80771768a5",
   "metadata": {},
   "source": [
    "## Basic tracing node examples"
   ]
  },
  {
   "cell_type": "markdown",
   "id": "40a4abc3-696b-4bc2-8489-3ce2efc60489",
   "metadata": {},
   "source": [
    "### Internals"
   ]
  },
  {
   "cell_type": "code",
   "execution_count": 2,
   "id": "d690bf53-f5d4-4335-8f21-b95dd9e42ba7",
   "metadata": {
    "tags": []
   },
   "outputs": [
    {
     "data": {
      "text/html": [
       "\n",
       "<div id=2f3c61d4-52d8-4626-baab-5bd671b50282></div>\n",
       "<script src=\"https://cdn.jsdelivr.net/gh/acsresearch/interlab@9fbc2169cd64cac537b74c432a6d1a7a2b7e8b0c/treetrace/ui/browser/assets/index-1ea692e0.js\"></script>\n",
       "<link rel=\"stylesheet\" href=\"https://cdn.jsdelivr.net/gh/acsresearch/interlab@9fbc2169cd64cac537b74c432a6d1a7a2b7e8b0c/treetrace/ui/browser/assets/index-72b169f7.css\">\n",
       "<script>\n",
       "import(\"https://cdn.jsdelivr.net/gh/acsresearch/interlab@9fbc2169cd64cac537b74c432a6d1a7a2b7e8b0c/treetrace/ui/browser/assets/index-1ea692e0.js\").then(() => window.initTreeTraceBrowser(\"2f3c61d4-52d8-4626-baab-5bd671b50282\", {\"_type\": \"TracingNode\", \"name\": \"MyTracingNode\", \"uid\": \"2024-01-20T20-22-57-MyTracingNode-oxZRTf\", \"version\": \"3.0\", \"result\": \"Lorem ipsum ...\", \"inputs\": {\"a\": 10, \"b\": 20}, \"start_time\": \"2024-01-20T20:22:57.824213\", \"end_time\": \"2024-01-20T20:22:57.824243\"}))\n",
       "</script>\n"
      ],
      "text/plain": [
       "<IPython.core.display.HTML object>"
      ]
     },
     "metadata": {},
     "output_type": "display_data"
    }
   ],
   "source": [
    "# Tracing node with input and output\n",
    "with TracingNode(\"MyTracingNode\", inputs={\"a\": 10, \"b\": 20}) as node:\n",
    "    node.set_result(\"Lorem ipsum ...\")\n",
    "\n",
    "node.display()"
   ]
  },
  {
   "cell_type": "code",
   "execution_count": 3,
   "id": "d40d7af5-d2ce-4589-abd2-babcbb5833b3",
   "metadata": {},
   "outputs": [
    {
     "name": "stdout",
     "output_type": "stream",
     "text": [
      "{\n",
      "  \"_type\": \"TracingNode\",\n",
      "  \"name\": \"MyTracingNode\",\n",
      "  \"uid\": \"2024-01-20T20-22-57-MyTracingNode-oxZRTf\",\n",
      "  \"version\": \"3.0\",\n",
      "  \"result\": \"Lorem ipsum ...\",\n",
      "  \"inputs\": {\n",
      "    \"a\": 10,\n",
      "    \"b\": 20\n",
      "  },\n",
      "  \"start_time\": \"2024-01-20T20:22:57.824213\",\n",
      "  \"end_time\": \"2024-01-20T20:22:57.824243\"\n",
      "}\n"
     ]
    }
   ],
   "source": [
    "# How it looks as JSON\n",
    "show(node.to_dict())"
   ]
  },
  {
   "cell_type": "code",
   "execution_count": 4,
   "id": "8de3a2de-c7a3-4f7a-961a-452775c73517",
   "metadata": {
    "tags": []
   },
   "outputs": [
    {
     "data": {
      "text/html": [
       "\n",
       "<div id=4c0de894-daae-4b9d-ae6d-afee9ee678c1></div>\n",
       "<script src=\"https://cdn.jsdelivr.net/gh/acsresearch/interlab@9fbc2169cd64cac537b74c432a6d1a7a2b7e8b0c/treetrace/ui/browser/assets/index-1ea692e0.js\"></script>\n",
       "<link rel=\"stylesheet\" href=\"https://cdn.jsdelivr.net/gh/acsresearch/interlab@9fbc2169cd64cac537b74c432a6d1a7a2b7e8b0c/treetrace/ui/browser/assets/index-72b169f7.css\">\n",
       "<script>\n",
       "import(\"https://cdn.jsdelivr.net/gh/acsresearch/interlab@9fbc2169cd64cac537b74c432a6d1a7a2b7e8b0c/treetrace/ui/browser/assets/index-1ea692e0.js\").then(() => window.initTreeTraceBrowser(\"4c0de894-daae-4b9d-ae6d-afee9ee678c1\", {\"_type\": \"TracingNode\", \"name\": \"MyTracingNode\", \"uid\": \"2024-01-20T20-22-57-MyTracingNode-5JBI0y\", \"version\": \"3.0\", \"result\": \"result\", \"children\": [{\"_type\": \"TracingNode\", \"name\": \"ChildNode1\", \"uid\": \"2024-01-20T20-22-57-ChildNode1-R9tNce\", \"result\": \"result\", \"start_time\": \"2024-01-20T20:22:57.850171\", \"end_time\": \"2024-01-20T20:22:57.850183\"}, {\"_type\": \"TracingNode\", \"name\": \"ChildNode2\", \"uid\": \"2024-01-20T20-22-57-ChildNode2-o8uo1q\", \"result\": \"result2\", \"start_time\": \"2024-01-20T20:22:57.850200\", \"end_time\": \"2024-01-20T20:22:57.850207\"}], \"start_time\": \"2024-01-20T20:22:57.850139\", \"end_time\": \"2024-01-20T20:22:57.850212\"}))\n",
       "</script>\n"
      ],
      "text/plain": [
       "<IPython.core.display.HTML object>"
      ]
     },
     "metadata": {},
     "output_type": "display_data"
    }
   ],
   "source": [
    "# Tracing node nesting\n",
    "with TracingNode(\"MyTracingNode\") as node:\n",
    "    with TracingNode(\"ChildNode1\") as n1:\n",
    "        n1.set_result(\"result\")\n",
    "    with TracingNode(\"ChildNode2\") as n2:\n",
    "        n2.set_result(\"result2\")\n",
    "    node.set_result(\"result\")\n",
    "node.display()"
   ]
  },
  {
   "cell_type": "code",
   "execution_count": null,
   "id": "54b17e6d-689c-4560-bd58-6ab158cc1a07",
   "metadata": {
    "tags": []
   },
   "outputs": [],
   "source": []
  },
  {
   "cell_type": "markdown",
   "id": "3964518b-f3cd-40b5-baa8-58815dad1c1f",
   "metadata": {},
   "source": [
    "### Functions"
   ]
  },
  {
   "cell_type": "code",
   "execution_count": 5,
   "id": "447519e9-7d51-4cc9-8f48-2ea3aca1d4c7",
   "metadata": {
    "tags": []
   },
   "outputs": [
    {
     "data": {
      "text/html": [
       "\n",
       "<div id=e49d25f2-6e7e-4122-9712-1a29bcb4e241></div>\n",
       "<script src=\"https://cdn.jsdelivr.net/gh/acsresearch/interlab@9fbc2169cd64cac537b74c432a6d1a7a2b7e8b0c/treetrace/ui/browser/assets/index-1ea692e0.js\"></script>\n",
       "<link rel=\"stylesheet\" href=\"https://cdn.jsdelivr.net/gh/acsresearch/interlab@9fbc2169cd64cac537b74c432a6d1a7a2b7e8b0c/treetrace/ui/browser/assets/index-72b169f7.css\">\n",
       "<script>\n",
       "import(\"https://cdn.jsdelivr.net/gh/acsresearch/interlab@9fbc2169cd64cac537b74c432a6d1a7a2b7e8b0c/treetrace/ui/browser/assets/index-1ea692e0.js\").then(() => window.initTreeTraceBrowser(\"e49d25f2-6e7e-4122-9712-1a29bcb4e241\", {\"_type\": \"TracingNode\", \"name\": \"root\", \"uid\": \"2024-01-20T20-22-57-root-ZDEK9l\", \"version\": \"3.0\", \"children\": [{\"_type\": \"TracingNode\", \"name\": \"my_function\", \"uid\": \"2024-01-20T20-22-57-my_function-vq3vQL\", \"kind\": \"call\", \"result\": 30, \"inputs\": {\"a\": 10, \"b\": 20}, \"start_time\": \"2024-01-20T20:22:57.857245\", \"end_time\": \"2024-01-20T20:22:57.857260\"}], \"start_time\": \"2024-01-20T20:22:57.857187\", \"end_time\": \"2024-01-20T20:22:57.857266\"}))\n",
       "</script>\n"
      ],
      "text/plain": [
       "<IPython.core.display.HTML object>"
      ]
     },
     "metadata": {},
     "output_type": "display_data"
    }
   ],
   "source": [
    "# Tracing decorator\n",
    "\n",
    "@with_trace\n",
    "def my_function(a, b):\n",
    "    return a + b\n",
    "\n",
    "with TracingNode(\"root\") as node:\n",
    "    my_function(10, 20)\n",
    "    \n",
    "node.display()"
   ]
  },
  {
   "cell_type": "markdown",
   "id": "261ae6ea-d084-4d08-8f6b-00b2e138caa2",
   "metadata": {},
   "source": [
    "### Exceptions"
   ]
  },
  {
   "cell_type": "code",
   "execution_count": 6,
   "id": "358c8704-fda9-40c4-96b9-944b1fad871a",
   "metadata": {
    "tags": []
   },
   "outputs": [
    {
     "data": {
      "text/html": [
       "\n",
       "<div id=eaccc974-fd01-4f91-b4a0-40ac7b190967></div>\n",
       "<script src=\"https://cdn.jsdelivr.net/gh/acsresearch/interlab@9fbc2169cd64cac537b74c432a6d1a7a2b7e8b0c/treetrace/ui/browser/assets/index-1ea692e0.js\"></script>\n",
       "<link rel=\"stylesheet\" href=\"https://cdn.jsdelivr.net/gh/acsresearch/interlab@9fbc2169cd64cac537b74c432a6d1a7a2b7e8b0c/treetrace/ui/browser/assets/index-72b169f7.css\">\n",
       "<script>\n",
       "import(\"https://cdn.jsdelivr.net/gh/acsresearch/interlab@9fbc2169cd64cac537b74c432a6d1a7a2b7e8b0c/treetrace/ui/browser/assets/index-1ea692e0.js\").then(() => window.initTreeTraceBrowser(\"eaccc974-fd01-4f91-b4a0-40ac7b190967\", {\"_type\": \"TracingNode\", \"name\": \"root\", \"uid\": \"2024-01-20T20-22-57-root-CSb46i\", \"version\": \"3.0\", \"state\": \"error\", \"error\": {\"_type\": \"Exception\", \"message\": \"Oops\", \"traceback\": {\"_type\": \"$traceback\", \"frames\": [{\"name\": \"<module>\", \"filename\": \"/tmp/ipykernel_407716/2021579235.py\", \"lineno\": 9, \"line\": \"my_function(10, 20)\"}, {\"name\": \"wrapper\", \"filename\": \"/home/gavento/proj/interlab/treetrace/tracing/tracingnode.py\", \"lineno\": 427, \"line\": \"result = func(*a, **kw)\"}, {\"name\": \"my_function\", \"filename\": \"/tmp/ipykernel_407716/2021579235.py\", \"lineno\": 5, \"line\": \"raise Exception(\\\"Oops\\\")\"}]}}, \"children\": [{\"_type\": \"TracingNode\", \"name\": \"my_function\", \"uid\": \"2024-01-20T20-22-57-my_function-VsfxfV\", \"state\": \"error\", \"kind\": \"call\", \"error\": {\"_type\": \"Exception\", \"message\": \"Oops\", \"traceback\": {\"_type\": \"$traceback\", \"frames\": [{\"name\": \"wrapper\", \"filename\": \"/home/gavento/proj/interlab/treetrace/tracing/tracingnode.py\", \"lineno\": 427, \"line\": \"result = func(*a, **kw)\"}, {\"name\": \"my_function\", \"filename\": \"/tmp/ipykernel_407716/2021579235.py\", \"lineno\": 5, \"line\": \"raise Exception(\\\"Oops\\\")\"}]}}, \"inputs\": {\"a\": 10, \"b\": 20}, \"start_time\": \"2024-01-20T20:22:57.864896\", \"end_time\": \"2024-01-20T20:22:57.865242\"}], \"start_time\": \"2024-01-20T20:22:57.864832\", \"end_time\": \"2024-01-20T20:22:57.865303\"}))\n",
       "</script>\n"
      ],
      "text/plain": [
       "<IPython.core.display.HTML object>"
      ]
     },
     "metadata": {},
     "output_type": "display_data"
    }
   ],
   "source": [
    "# Error handling\n",
    "\n",
    "@with_trace\n",
    "def my_function(a, b):\n",
    "    raise Exception(\"Oops\")\n",
    "\n",
    "try:\n",
    "    with TracingNode(\"root\") as failing_node:\n",
    "        my_function(10, 20)\n",
    "except:\n",
    "    pass\n",
    "\n",
    "failing_node.display()"
   ]
  },
  {
   "cell_type": "code",
   "execution_count": 7,
   "id": "89849b74-9cf0-487a-bbaf-f670e7c2e82a",
   "metadata": {},
   "outputs": [
    {
     "ename": "Exception",
     "evalue": "Oops",
     "output_type": "error",
     "traceback": [
      "\u001b[0;31m---------------------------------------------------------------------------\u001b[0m",
      "\u001b[0;31mException\u001b[0m                                 Traceback (most recent call last)",
      "Cell \u001b[0;32mIn[7], line 5\u001b[0m\n\u001b[1;32m      1\u001b[0m \u001b[38;5;66;03m# note: errors must still be handled!\u001b[39;00m\n\u001b[1;32m      2\u001b[0m \n\u001b[1;32m      3\u001b[0m \u001b[38;5;66;03m# This is expected to throw an error - note the tracing node would still be stored if you set up storage here\u001b[39;00m\n\u001b[1;32m      4\u001b[0m \u001b[38;5;28;01mwith\u001b[39;00m TracingNode(\u001b[38;5;124m\"\u001b[39m\u001b[38;5;124mroot\u001b[39m\u001b[38;5;124m\"\u001b[39m) \u001b[38;5;28;01mas\u001b[39;00m node:\n\u001b[0;32m----> 5\u001b[0m     \u001b[43mmy_function\u001b[49m\u001b[43m(\u001b[49m\u001b[38;5;241;43m1\u001b[39;49m\u001b[43m,\u001b[49m\u001b[43m \u001b[49m\u001b[38;5;241;43m2\u001b[39;49m\u001b[43m)\u001b[49m\n",
      "File \u001b[0;32m~/proj/interlab/treetrace/tracing/tracingnode.py:427\u001b[0m, in \u001b[0;36mwith_trace.<locals>.helper.<locals>.wrapper\u001b[0;34m(*a, **kw)\u001b[0m\n\u001b[1;32m    420\u001b[0m binding \u001b[38;5;241m=\u001b[39m signature\u001b[38;5;241m.\u001b[39mbind(\u001b[38;5;241m*\u001b[39ma, \u001b[38;5;241m*\u001b[39m\u001b[38;5;241m*\u001b[39mkw)\n\u001b[1;32m    421\u001b[0m \u001b[38;5;28;01mwith\u001b[39;00m TracingNode(\n\u001b[1;32m    422\u001b[0m     name\u001b[38;5;241m=\u001b[39mname \u001b[38;5;129;01mor\u001b[39;00m func\u001b[38;5;241m.\u001b[39m\u001b[38;5;18m__name__\u001b[39m,\n\u001b[1;32m    423\u001b[0m     kind\u001b[38;5;241m=\u001b[39mkind \u001b[38;5;129;01mor\u001b[39;00m \u001b[38;5;124m\"\u001b[39m\u001b[38;5;124mcall\u001b[39m\u001b[38;5;124m\"\u001b[39m,\n\u001b[1;32m    424\u001b[0m     inputs\u001b[38;5;241m=\u001b[39mbinding\u001b[38;5;241m.\u001b[39marguments,\n\u001b[1;32m    425\u001b[0m     tags\u001b[38;5;241m=\u001b[39mtags,\n\u001b[1;32m    426\u001b[0m ) \u001b[38;5;28;01mas\u001b[39;00m node:\n\u001b[0;32m--> 427\u001b[0m     result \u001b[38;5;241m=\u001b[39m \u001b[43mfunc\u001b[49m\u001b[43m(\u001b[49m\u001b[38;5;241;43m*\u001b[39;49m\u001b[43ma\u001b[49m\u001b[43m,\u001b[49m\u001b[43m \u001b[49m\u001b[38;5;241;43m*\u001b[39;49m\u001b[38;5;241;43m*\u001b[39;49m\u001b[43mkw\u001b[49m\u001b[43m)\u001b[49m\n\u001b[1;32m    428\u001b[0m     node\u001b[38;5;241m.\u001b[39mset_result(result)\n\u001b[1;32m    429\u001b[0m     \u001b[38;5;28;01mreturn\u001b[39;00m result\n",
      "Cell \u001b[0;32mIn[6], line 5\u001b[0m, in \u001b[0;36mmy_function\u001b[0;34m(a, b)\u001b[0m\n\u001b[1;32m      3\u001b[0m \u001b[38;5;129m@with_trace\u001b[39m\n\u001b[1;32m      4\u001b[0m \u001b[38;5;28;01mdef\u001b[39;00m \u001b[38;5;21mmy_function\u001b[39m(a, b):\n\u001b[0;32m----> 5\u001b[0m     \u001b[38;5;28;01mraise\u001b[39;00m \u001b[38;5;167;01mException\u001b[39;00m(\u001b[38;5;124m\"\u001b[39m\u001b[38;5;124mOops\u001b[39m\u001b[38;5;124m\"\u001b[39m)\n",
      "\u001b[0;31mException\u001b[0m: Oops"
     ]
    }
   ],
   "source": [
    "# note: errors must still be handled!\n",
    "\n",
    "# This is expected to throw an error - note the tracing node would still be stored if you set up storage here\n",
    "with TracingNode(\"root\") as node:\n",
    "    my_function(1, 2)"
   ]
  },
  {
   "cell_type": "code",
   "execution_count": 8,
   "id": "9d28ae58-3cb8-4479-8d21-4f80467be33a",
   "metadata": {},
   "outputs": [
    {
     "data": {
      "text/html": [
       "\n",
       "<div id=2214f339-0623-4815-a4cf-33badd6b91f0></div>\n",
       "<script src=\"https://cdn.jsdelivr.net/gh/acsresearch/interlab@9fbc2169cd64cac537b74c432a6d1a7a2b7e8b0c/treetrace/ui/browser/assets/index-1ea692e0.js\"></script>\n",
       "<link rel=\"stylesheet\" href=\"https://cdn.jsdelivr.net/gh/acsresearch/interlab@9fbc2169cd64cac537b74c432a6d1a7a2b7e8b0c/treetrace/ui/browser/assets/index-72b169f7.css\">\n",
       "<script>\n",
       "import(\"https://cdn.jsdelivr.net/gh/acsresearch/interlab@9fbc2169cd64cac537b74c432a6d1a7a2b7e8b0c/treetrace/ui/browser/assets/index-1ea692e0.js\").then(() => window.initTreeTraceBrowser(\"2214f339-0623-4815-a4cf-33badd6b91f0\", {\"_type\": \"TracingNode\", \"name\": \"root\", \"uid\": \"2024-01-20T20-22-57-root-RVELDE\", \"version\": \"3.0\", \"state\": \"error\", \"error\": {\"_type\": \"Exception\", \"message\": \"Oops\", \"traceback\": {\"_type\": \"$traceback\", \"frames\": [{\"name\": \"<module>\", \"filename\": \"/tmp/ipykernel_407716/3239238954.py\", \"lineno\": 5, \"line\": \"my_function(1, 2)\"}, {\"name\": \"wrapper\", \"filename\": \"/home/gavento/proj/interlab/treetrace/tracing/tracingnode.py\", \"lineno\": 427, \"line\": \"result = func(*a, **kw)\"}, {\"name\": \"my_function\", \"filename\": \"/tmp/ipykernel_407716/2021579235.py\", \"lineno\": 5, \"line\": \"raise Exception(\\\"Oops\\\")\"}]}}, \"children\": [{\"_type\": \"TracingNode\", \"name\": \"my_function\", \"uid\": \"2024-01-20T20-22-57-my_function-PFckj5\", \"state\": \"error\", \"kind\": \"call\", \"error\": {\"_type\": \"Exception\", \"message\": \"Oops\", \"traceback\": {\"_type\": \"$traceback\", \"frames\": [{\"name\": \"wrapper\", \"filename\": \"/home/gavento/proj/interlab/treetrace/tracing/tracingnode.py\", \"lineno\": 427, \"line\": \"result = func(*a, **kw)\"}, {\"name\": \"my_function\", \"filename\": \"/tmp/ipykernel_407716/2021579235.py\", \"lineno\": 5, \"line\": \"raise Exception(\\\"Oops\\\")\"}]}}, \"inputs\": {\"a\": 1, \"b\": 2}, \"start_time\": \"2024-01-20T20:22:57.874726\", \"end_time\": \"2024-01-20T20:22:57.874832\"}], \"start_time\": \"2024-01-20T20:22:57.874632\", \"end_time\": \"2024-01-20T20:22:57.874894\"}))\n",
       "</script>\n"
      ],
      "text/plain": [
       "<IPython.core.display.HTML object>"
      ]
     },
     "metadata": {},
     "output_type": "display_data"
    }
   ],
   "source": [
    "node.display()"
   ]
  },
  {
   "cell_type": "code",
   "execution_count": null,
   "id": "03a99644-e6a9-4fd3-9b6a-613835a2f4ba",
   "metadata": {},
   "outputs": [],
   "source": []
  },
  {
   "cell_type": "markdown",
   "id": "b2d48d87-40d4-4177-9127-7b66c6611dea",
   "metadata": {},
   "source": [
    "### Dataclasses"
   ]
  },
  {
   "cell_type": "code",
   "execution_count": 9,
   "id": "c4b9ab8d-40c8-4762-9988-88ece04763e4",
   "metadata": {
    "tags": []
   },
   "outputs": [
    {
     "data": {
      "text/html": [
       "\n",
       "<div id=4a807dfb-273d-48e4-8491-f80be9f79fe7></div>\n",
       "<script src=\"https://cdn.jsdelivr.net/gh/acsresearch/interlab@9fbc2169cd64cac537b74c432a6d1a7a2b7e8b0c/treetrace/ui/browser/assets/index-1ea692e0.js\"></script>\n",
       "<link rel=\"stylesheet\" href=\"https://cdn.jsdelivr.net/gh/acsresearch/interlab@9fbc2169cd64cac537b74c432a6d1a7a2b7e8b0c/treetrace/ui/browser/assets/index-72b169f7.css\">\n",
       "<script>\n",
       "import(\"https://cdn.jsdelivr.net/gh/acsresearch/interlab@9fbc2169cd64cac537b74c432a6d1a7a2b7e8b0c/treetrace/ui/browser/assets/index-1ea692e0.js\").then(() => window.initTreeTraceBrowser(\"4a807dfb-273d-48e4-8491-f80be9f79fe7\", {\"_type\": \"TracingNode\", \"name\": \"root\", \"uid\": \"2024-01-20T20-23-08-root-rLn9Ny\", \"version\": \"3.0\", \"children\": [{\"_type\": \"TracingNode\", \"name\": \"say_hi\", \"uid\": \"2024-01-20T20-23-08-say_hi-bMQnrr\", \"kind\": \"call\", \"result\": \"Hi Alice!\", \"inputs\": {\"person\": {\"name\": \"Alice\", \"age\": 21, \"_type\": \"Person\"}}, \"start_time\": \"2024-01-20T20:23:08.795626\", \"end_time\": \"2024-01-20T20:23:08.795645\"}], \"start_time\": \"2024-01-20T20:23:08.795544\", \"end_time\": \"2024-01-20T20:23:08.795651\"}))\n",
       "</script>\n"
      ],
      "text/plain": [
       "<IPython.core.display.HTML object>"
      ]
     },
     "metadata": {},
     "output_type": "display_data"
    }
   ],
   "source": [
    "# Dataclasses are serialized for logging inside tracing nodes\n",
    "\n",
    "@dataclass\n",
    "class Person:\n",
    "    name: str\n",
    "    age: int\n",
    "    \n",
    "@with_trace\n",
    "def say_hi(person):\n",
    "    return f\"Hi {person.name}!\"\n",
    "\n",
    "with TracingNode(\"root\") as node:\n",
    "    person = Person(\"Alice\", 21)\n",
    "    say_hi(person)\n",
    "\n",
    "node.display()"
   ]
  },
  {
   "cell_type": "code",
   "execution_count": 10,
   "id": "28f67ce4-9005-4551-9c64-4085eaa976fc",
   "metadata": {},
   "outputs": [
    {
     "data": {
      "text/html": [
       "\n",
       "<div id=98bb2e18-a1ee-433c-bf6f-0d906739cc72></div>\n",
       "<script src=\"https://cdn.jsdelivr.net/gh/acsresearch/interlab@9fbc2169cd64cac537b74c432a6d1a7a2b7e8b0c/treetrace/ui/browser/assets/index-1ea692e0.js\"></script>\n",
       "<link rel=\"stylesheet\" href=\"https://cdn.jsdelivr.net/gh/acsresearch/interlab@9fbc2169cd64cac537b74c432a6d1a7a2b7e8b0c/treetrace/ui/browser/assets/index-72b169f7.css\">\n",
       "<script>\n",
       "import(\"https://cdn.jsdelivr.net/gh/acsresearch/interlab@9fbc2169cd64cac537b74c432a6d1a7a2b7e8b0c/treetrace/ui/browser/assets/index-1ea692e0.js\").then(() => window.initTreeTraceBrowser(\"98bb2e18-a1ee-433c-bf6f-0d906739cc72\", {\"_type\": \"TracingNode\", \"name\": \"root\", \"uid\": \"2024-01-20T20-23-08-root-ZHW691\", \"version\": \"3.0\", \"children\": [{\"_type\": \"TracingNode\", \"name\": \"give_birth\", \"uid\": \"2024-01-20T20-23-08-give_birth-LS5mvK\", \"kind\": \"call\", \"result\": {\"name\": \"Alice\", \"age\": 0, \"_type\": \"Person\"}, \"inputs\": {\"name\": \"Alice\"}, \"start_time\": \"2024-01-20T20:23:08.802614\", \"end_time\": \"2024-01-20T20:23:08.802660\"}], \"start_time\": \"2024-01-20T20:23:08.802556\", \"end_time\": \"2024-01-20T20:23:08.802666\"}))\n",
       "</script>\n"
      ],
      "text/plain": [
       "<IPython.core.display.HTML object>"
      ]
     },
     "metadata": {},
     "output_type": "display_data"
    }
   ],
   "source": [
    "# same with dataclass outputs\n",
    "@with_trace\n",
    "def give_birth(name):\n",
    "    return Person(age=0, name=name)\n",
    "\n",
    "with TracingNode(\"root\") as node:\n",
    "    give_birth(\"Alice\")\n",
    "\n",
    "node.display()"
   ]
  },
  {
   "cell_type": "markdown",
   "id": "ed0bd8c3-faf8-44e7-97d7-df18c78439c7",
   "metadata": {},
   "source": [
    "### Tags"
   ]
  },
  {
   "cell_type": "code",
   "execution_count": 11,
   "id": "2543b8bf-516a-4315-b627-db7926ab14e0",
   "metadata": {},
   "outputs": [
    {
     "data": {
      "text/html": [
       "\n",
       "<div id=271cca04-cd72-45b8-9ae6-f89daf20ce0c></div>\n",
       "<script src=\"https://cdn.jsdelivr.net/gh/acsresearch/interlab@9fbc2169cd64cac537b74c432a6d1a7a2b7e8b0c/treetrace/ui/browser/assets/index-1ea692e0.js\"></script>\n",
       "<link rel=\"stylesheet\" href=\"https://cdn.jsdelivr.net/gh/acsresearch/interlab@9fbc2169cd64cac537b74c432a6d1a7a2b7e8b0c/treetrace/ui/browser/assets/index-72b169f7.css\">\n",
       "<script>\n",
       "import(\"https://cdn.jsdelivr.net/gh/acsresearch/interlab@9fbc2169cd64cac537b74c432a6d1a7a2b7e8b0c/treetrace/ui/browser/assets/index-1ea692e0.js\").then(() => window.initTreeTraceBrowser(\"271cca04-cd72-45b8-9ae6-f89daf20ce0c\", {\"_type\": \"TracingNode\", \"name\": \"root\", \"uid\": \"2024-01-20T20-23-08-root-UCpYUI\", \"version\": \"3.0\", \"tags\": [{\"name\": \"tag1\", \"color\": null, \"_type\": \"Tag\"}, {\"name\": \"tag2\", \"color\": null, \"_type\": \"Tag\"}, {\"name\": \"exp1\", \"color\": null, \"_type\": \"Tag\"}, {\"name\": \"success!\", \"color\": \"lightgreen\", \"_type\": \"Tag\"}], \"start_time\": \"2024-01-20T20:23:08.810301\", \"end_time\": \"2024-01-20T20:23:08.810324\"}))\n",
       "</script>\n"
      ],
      "text/plain": [
       "<IPython.core.display.HTML object>"
      ]
     },
     "metadata": {},
     "output_type": "display_data"
    }
   ],
   "source": [
    "# Tags\n",
    "\n",
    "with TracingNode(\"root\", tags=[\"tag1\", \"tag2\"]) as node:\n",
    "    node.add_tag(\"exp1\")  # Add to a tracing node dynamically\n",
    "    node.add_tag(Tag(\"success!\", color=\"lightgreen\"))  # Add colored tag\n",
    "\n",
    "node.display()"
   ]
  },
  {
   "cell_type": "markdown",
   "id": "b65909dc-bfee-41e8-9ee8-98fb6efe3d1a",
   "metadata": {},
   "source": [
    "### Images and Plots"
   ]
  },
  {
   "cell_type": "code",
   "execution_count": 12,
   "id": "b84af607-4fde-4d59-8cff-0cfa7cdbe6b4",
   "metadata": {},
   "outputs": [
    {
     "data": {
      "text/html": [
       "\n",
       "<div id=ff488e6b-aa50-4ef3-abb3-cd04a4a02b46></div>\n",
       "<script src=\"https://cdn.jsdelivr.net/gh/acsresearch/interlab@9fbc2169cd64cac537b74c432a6d1a7a2b7e8b0c/treetrace/ui/browser/assets/index-1ea692e0.js\"></script>\n",
       "<link rel=\"stylesheet\" href=\"https://cdn.jsdelivr.net/gh/acsresearch/interlab@9fbc2169cd64cac537b74c432a6d1a7a2b7e8b0c/treetrace/ui/browser/assets/index-72b169f7.css\">\n",
       "<script>\n",
       "import(\"https://cdn.jsdelivr.net/gh/acsresearch/interlab@9fbc2169cd64cac537b74c432a6d1a7a2b7e8b0c/treetrace/ui/browser/assets/index-1ea692e0.js\").then(() => window.initTreeTraceBrowser(\"ff488e6b-aa50-4ef3-abb3-cd04a4a02b46\", {\"_type\": \"TracingNode\", \"name\": \"root\", \"uid\": \"2024-01-20T20-23-08-root-Dq3wTA\", \"version\": \"3.0\", \"children\": [{\"_type\": \"TracingNode\", \"name\": \"first\", \"uid\": \"2024-01-20T20-23-08-first-6sX5Gi\", \"start_time\": \"2024-01-20T20:23:08.817593\", \"end_time\": \"2024-01-20T20:23:08.817602\", \"meta\": {\"color\": \"lightgreen\"}}, {\"_type\": \"TracingNode\", \"name\": \"second\", \"uid\": \"2024-01-20T20-23-08-second-isr51V\", \"start_time\": \"2024-01-20T20:23:08.817621\", \"end_time\": \"2024-01-20T20:23:08.817627\", \"meta\": {\"color\": \"lightblue\"}}, {\"_type\": \"TracingNode\", \"name\": \"image demo\", \"uid\": \"2024-01-20T20-23-08-image_demo-54FqBu\", \"inputs\": {\"my_chart\": {\"_type\": \"$blob\", \"data\": \"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\", \"mime_type\": \"image/png\"}, \"other_param\": 42}, \"start_time\": \"2024-01-20T20:23:08.921265\", \"end_time\": \"2024-01-20T20:23:08.921319\"}], \"start_time\": \"2024-01-20T20:23:08.817560\", \"end_time\": \"2024-01-20T20:23:08.921324\"}))\n",
       "</script>\n"
      ],
      "text/plain": [
       "<IPython.core.display.HTML object>"
      ]
     },
     "metadata": {},
     "output_type": "display_data"
    }
   ],
   "source": [
    "with TracingNode(\"root\") as root:\n",
    "    with TracingNode(\"first\", meta={\"color\": \"lightgreen\"}):\n",
    "        pass\n",
    "    with TracingNode(\"second\", meta={\"color\": \"lightblue\"}):\n",
    "        pass        \n",
    "\n",
    "    fig, ax = plt.subplots()\n",
    "    \n",
    "    fruits = ['apple', 'blueberry', 'cherry', 'orange']\n",
    "    counts = [40, 100, 30, 55]\n",
    "    bar_labels = ['red', 'blue', '_red', 'orange']\n",
    "    bar_colors = ['tab:red', 'tab:blue', 'tab:red', 'tab:orange']\n",
    "    \n",
    "    ax.bar(fruits, counts, label=bar_labels, color=bar_colors)\n",
    "    \n",
    "    with TracingNode(\"image demo\", inputs={\"my_chart\": capture_figure(fig), \"other_param\": 42}) as root2:\n",
    "        pass\n",
    "\n",
    "root.display()"
   ]
  },
  {
   "cell_type": "code",
   "execution_count": 13,
   "id": "23b41f20-fe91-4894-8d5c-9f47f1140782",
   "metadata": {},
   "outputs": [
    {
     "data": {
      "text/html": [
       "\n",
       "<div id=2e2c81f9-d358-4cd4-acbc-76e6b1c405d1></div>\n",
       "<script src=\"https://cdn.jsdelivr.net/gh/acsresearch/interlab@9fbc2169cd64cac537b74c432a6d1a7a2b7e8b0c/treetrace/ui/browser/assets/index-1ea692e0.js\"></script>\n",
       "<link rel=\"stylesheet\" href=\"https://cdn.jsdelivr.net/gh/acsresearch/interlab@9fbc2169cd64cac537b74c432a6d1a7a2b7e8b0c/treetrace/ui/browser/assets/index-72b169f7.css\">\n",
       "<script>\n",
       "import(\"https://cdn.jsdelivr.net/gh/acsresearch/interlab@9fbc2169cd64cac537b74c432a6d1a7a2b7e8b0c/treetrace/ui/browser/assets/index-1ea692e0.js\").then(() => window.initTreeTraceBrowser(\"2e2c81f9-d358-4cd4-acbc-76e6b1c405d1\", {\"_type\": \"TracingNode\", \"name\": \"root\", \"uid\": \"2024-01-20T20-23-08-root-QXrkWb\", \"version\": \"3.0\", \"children\": [{\"_type\": \"TracingNode\", \"name\": \"child\", \"uid\": \"2024-01-20T20-23-08-child-IMZWpT\", \"tags\": [{\"name\": \"tag1\", \"color\": null, \"_type\": \"Tag\"}], \"start_time\": \"2024-01-20T20:23:08.930293\", \"end_time\": \"2024-01-20T20:23:08.930330\"}], \"start_time\": \"2024-01-20T20:23:08.930258\", \"end_time\": \"2024-01-20T20:23:08.930336\"}))\n",
       "</script>\n"
      ],
      "text/plain": [
       "<IPython.core.display.HTML object>"
      ]
     },
     "metadata": {},
     "output_type": "display_data"
    }
   ],
   "source": [
    "# get current tracing node\n",
    "\n",
    "with TracingNode(\"root\") as node:\n",
    "    with TracingNode(\"child\"):\n",
    "        current_tracing_node().add_tag(\"tag1\")\n",
    "\n",
    "node.display()"
   ]
  },
  {
   "cell_type": "markdown",
   "id": "a0f4a640-9026-437b-be2f-193e561a71b8",
   "metadata": {},
   "source": [
    "### Events"
   ]
  },
  {
   "cell_type": "code",
   "execution_count": 14,
   "id": "cd87bf47-b910-4f54-aea4-6077567dc5f9",
   "metadata": {},
   "outputs": [
    {
     "data": {
      "text/html": [
       "\n",
       "<div id=b6a03959-2d72-4ba3-b072-bf37f853c9c5></div>\n",
       "<script src=\"https://cdn.jsdelivr.net/gh/acsresearch/interlab@9fbc2169cd64cac537b74c432a6d1a7a2b7e8b0c/treetrace/ui/browser/assets/index-1ea692e0.js\"></script>\n",
       "<link rel=\"stylesheet\" href=\"https://cdn.jsdelivr.net/gh/acsresearch/interlab@9fbc2169cd64cac537b74c432a6d1a7a2b7e8b0c/treetrace/ui/browser/assets/index-72b169f7.css\">\n",
       "<script>\n",
       "import(\"https://cdn.jsdelivr.net/gh/acsresearch/interlab@9fbc2169cd64cac537b74c432a6d1a7a2b7e8b0c/treetrace/ui/browser/assets/index-1ea692e0.js\").then(() => window.initTreeTraceBrowser(\"b6a03959-2d72-4ba3-b072-bf37f853c9c5\", {\"_type\": \"TracingNode\", \"name\": \"root\", \"uid\": \"2024-01-20T20-23-08-root-KCBKVF\", \"version\": \"3.0\", \"children\": [{\"_type\": \"TracingNode\", \"name\": \"Message to Alice\", \"uid\": \"2024-01-20T20-23-08-Message_to_Alice-tFOcty\", \"kind\": \"message\", \"result\": \"Hi, Alice!\", \"end_time\": \"2024-01-20T20:23:08.948058\"}], \"start_time\": \"2024-01-20T20:23:08.947996\", \"end_time\": \"2024-01-20T20:23:08.948072\"}))\n",
       "</script>\n"
      ],
      "text/plain": [
       "<IPython.core.display.HTML object>"
      ]
     },
     "metadata": {},
     "output_type": "display_data"
    }
   ],
   "source": [
    "# Events (instant node with immediate result)\n",
    "\n",
    "with TracingNode(\"root\") as node:\n",
    "    node.add_event(\"Message to Alice\", kind=\"message\", data=\"Hi, Alice!\")\n",
    "\n",
    "node.display()"
   ]
  },
  {
   "cell_type": "markdown",
   "id": "faab39e4-0488-47b5-af6a-8e046ea0bdb6",
   "metadata": {},
   "source": [
    "### Storage"
   ]
  },
  {
   "cell_type": "code",
   "execution_count": 15,
   "id": "ba0d2484-3e67-4657-b605-25ff77410c05",
   "metadata": {},
   "outputs": [],
   "source": [
    "# Register a tracing node into storage\n",
    "!rm logs/treetrace_intro/*\n",
    "storage=FileStorage(\"logs/treetrace_intro\")\n",
    "with TracingNode(\"root1\", storage=storage):\n",
    "    pass\n"
   ]
  },
  {
   "cell_type": "code",
   "execution_count": 16,
   "id": "a018fb25-9800-4fdf-b735-963965bdc0f3",
   "metadata": {},
   "outputs": [],
   "source": [
    "# Manual writing a tracing node into storage\n",
    "\n",
    "with TracingNode(\"root2\", tags=[\"hello\"]) as c:\n",
    "    pass\n",
    "\n",
    "storage.write_node(c)"
   ]
  },
  {
   "cell_type": "code",
   "execution_count": 17,
   "id": "84fc110b-30a9-44ed-a145-bf154cf815e9",
   "metadata": {},
   "outputs": [],
   "source": [
    "# with block and storage; all root tracing nodes in storage block are written in storage\n",
    "\n",
    "with storage:\n",
    "    with TracingNode(\"root3\"):  # <-- This node is root; it is automatcally written in storage\n",
    "        with TracingNode(\"child\"): # <-- This node is not root; not automatically written in storage\n",
    "            pass"
   ]
  },
  {
   "cell_type": "code",
   "execution_count": 18,
   "id": "4c582166-799b-4e4e-a669-6af9d7d0863a",
   "metadata": {},
   "outputs": [
    {
     "data": {
      "text/plain": [
       "[PosixPath('/home/gavento/proj/interlab/notebooks/logs/treetrace_intro/2024-01-20T20-23-09-root4-5HFiHl.ctx/_self.gz'),\n",
       " PosixPath('/home/gavento/proj/interlab/notebooks/logs/treetrace_intro/2024-01-20T20-23-09-root4-5HFiHl.ctx/2024-01-20T20-23-09-first_child-mN2p5P.ctx'),\n",
       " PosixPath('/home/gavento/proj/interlab/notebooks/logs/treetrace_intro/2024-01-20T20-23-09-root4-5HFiHl.ctx/2024-01-20T20-23-09-second_child-C98Yz5.ctx'),\n",
       " PosixPath('/home/gavento/proj/interlab/notebooks/logs/treetrace_intro/2024-01-20T20-23-09-root4-5HFiHl.ctx/2024-01-20T20-23-09-first_child-mN2p5P.ctx/_self.gz'),\n",
       " PosixPath('/home/gavento/proj/interlab/notebooks/logs/treetrace_intro/2024-01-20T20-23-09-root4-5HFiHl.ctx/2024-01-20T20-23-09-first_child-mN2p5P.ctx/2024-01-20T20-23-09-a-xKw4LV.full.gz'),\n",
       " PosixPath('/home/gavento/proj/interlab/notebooks/logs/treetrace_intro/2024-01-20T20-23-09-root4-5HFiHl.ctx/2024-01-20T20-23-09-first_child-mN2p5P.ctx/2024-01-20T20-23-09-a-xKw4LV.root.gz'),\n",
       " PosixPath('/home/gavento/proj/interlab/notebooks/logs/treetrace_intro/2024-01-20T20-23-09-root4-5HFiHl.ctx/2024-01-20T20-23-09-first_child-mN2p5P.ctx/2024-01-20T20-23-09-b-dv2k8a.full.gz'),\n",
       " PosixPath('/home/gavento/proj/interlab/notebooks/logs/treetrace_intro/2024-01-20T20-23-09-root4-5HFiHl.ctx/2024-01-20T20-23-09-first_child-mN2p5P.ctx/2024-01-20T20-23-09-b-dv2k8a.root.gz'),\n",
       " PosixPath('/home/gavento/proj/interlab/notebooks/logs/treetrace_intro/2024-01-20T20-23-09-root4-5HFiHl.ctx/2024-01-20T20-23-09-second_child-C98Yz5.ctx/_self.gz'),\n",
       " PosixPath('/home/gavento/proj/interlab/notebooks/logs/treetrace_intro/2024-01-20T20-23-09-root4-5HFiHl.ctx/2024-01-20T20-23-09-second_child-C98Yz5.ctx/2024-01-20T20-23-09-a-qYZJJZ.full.gz'),\n",
       " PosixPath('/home/gavento/proj/interlab/notebooks/logs/treetrace_intro/2024-01-20T20-23-09-root4-5HFiHl.ctx/2024-01-20T20-23-09-second_child-C98Yz5.ctx/2024-01-20T20-23-09-a-qYZJJZ.root.gz'),\n",
       " PosixPath('/home/gavento/proj/interlab/notebooks/logs/treetrace_intro/2024-01-20T20-23-09-root4-5HFiHl.ctx/2024-01-20T20-23-09-second_child-C98Yz5.ctx/2024-01-20T20-23-09-b-Fj3wOh.full.gz'),\n",
       " PosixPath('/home/gavento/proj/interlab/notebooks/logs/treetrace_intro/2024-01-20T20-23-09-root4-5HFiHl.ctx/2024-01-20T20-23-09-second_child-C98Yz5.ctx/2024-01-20T20-23-09-b-Fj3wOh.root.gz')]"
      ]
     },
     "execution_count": 18,
     "metadata": {},
     "output_type": "execute_result"
    }
   ],
   "source": [
    "# Composing directory structure with tracing nodes:\n",
    "# each node subtree marked with `directory=True` gets stored in a separete json rather than in the main json\n",
    "\n",
    "with TracingNode(\"root4\", storage=storage, directory=True) as root:\n",
    "    with TracingNode(\"first child\", directory=True):\n",
    "        with TracingNode(\"a\"):\n",
    "            pass\n",
    "        with TracingNode(\"b\", tags=[\"hello\"]):\n",
    "            pass\n",
    "    with TracingNode(\"second child\", directory=True):\n",
    "        with TracingNode(\"a\"):\n",
    "            pass\n",
    "        with TracingNode(\"b\"):\n",
    "            pass\n",
    "\n",
    "import pathlib\n",
    "list(pathlib.Path(f\"{storage.directory}/{root.uid}.ctx\").rglob(\"*\"))"
   ]
  },
  {
   "cell_type": "markdown",
   "id": "27d4aabe-8ab7-4170-8e08-12bf12c7b540",
   "metadata": {},
   "source": [
    "### Data browser"
   ]
  },
  {
   "cell_type": "code",
   "execution_count": 19,
   "id": "55028a5f-2ce6-4340-8424-36a9e2db7664",
   "metadata": {},
   "outputs": [
    {
     "name": "stderr",
     "output_type": "stream",
     "text": [
      "[2024-01-20 20:23:09,251] INFO(treetrace.ui.storage_server): Started tracing UI server: <ServerHandle http://localhost:5000>\n"
     ]
    },
    {
     "data": {
      "text/plain": [
       "<ServerHandle http://localhost:5000>"
      ]
     },
     "execution_count": 19,
     "metadata": {},
     "output_type": "execute_result"
    }
   ],
   "source": [
    "# Running data browser over storage\n",
    "\n",
    "storage.start_server(port=5000)"
   ]
  },
  {
   "cell_type": "code",
   "execution_count": 20,
   "id": "b538dea8-0ba9-42d9-a939-2c5691461be8",
   "metadata": {},
   "outputs": [
    {
     "data": {
      "text/html": [
       "\n",
       "        <iframe\n",
       "            width=\"95%\"\n",
       "            height=\"700\"\n",
       "            src=\"http://localhost:5000\"\n",
       "            frameborder=\"0\"\n",
       "            allowfullscreen\n",
       "            \n",
       "        ></iframe>\n",
       "        "
      ],
      "text/plain": [
       "<IPython.lib.display.IFrame at 0x72da57f1b640>"
      ]
     },
     "metadata": {},
     "output_type": "display_data"
    }
   ],
   "source": [
    "# Show live content of storage\n",
    "storage.live_display()"
   ]
  },
  {
   "cell_type": "code",
   "execution_count": 21,
   "id": "f5ac9b2c-0e46-4335-b8f9-94c564da328f",
   "metadata": {},
   "outputs": [],
   "source": [
    "# Long running cell, you can observe it in browser in running state (needs to be refreshed manually)\n",
    "\n",
    "with TracingNode(\"Long running\", storage=storage):\n",
    "    with TracingNode(\"Child1\"):\n",
    "        import time\n",
    "        time.sleep(10)"
   ]
  },
  {
   "cell_type": "code",
   "execution_count": 22,
   "id": "85092727-63fa-46be-b810-c594a5f80469",
   "metadata": {},
   "outputs": [
    {
     "name": "stdout",
     "output_type": "stream",
     "text": [
      "2024-01-20T20-23-09-root1-favMip root1\n",
      "2024-01-20T20-23-09-root2-eDqFyT root2\n",
      "2024-01-20T20-23-09-root3-WwoZmd root3\n",
      "2024-01-20T20-23-09-Long_running-IDATaL Long running\n",
      "2024-01-20T20-23-09-root4-5HFiHl root4\n"
     ]
    }
   ],
   "source": [
    "# Read all stored (root) nodes\n",
    "\n",
    "for node in storage.read_all_nodes():\n",
    "    print(node.uid, node.name)"
   ]
  },
  {
   "cell_type": "code",
   "execution_count": 23,
   "id": "fcf86e95-dbbb-4d7b-b4a8-3ea4a5ed4948",
   "metadata": {},
   "outputs": [],
   "source": [
    "# Recursively search for specific tracing nodes\n",
    "\n",
    "for node in storage.find_nodes(lambda ctx: ctx.has_tag_name(\"hello\")):\n",
    "    print(node.uid, node.name)"
   ]
  },
  {
   "cell_type": "code",
   "execution_count": 24,
   "id": "7caf5ab5-ee58-415e-8ef9-e539fdc1ab4a",
   "metadata": {},
   "outputs": [
    {
     "name": "stdout",
     "output_type": "stream",
     "text": [
      "2024-01-20T20-23-09-root4-5HFiHl root4\n"
     ]
    },
    {
     "data": {
      "text/plain": [
       "[<treetrace.tracing.tracingnode.TracingNode at 0x72da57ff2cb0>,\n",
       " <treetrace.tracing.tracingnode.TracingNode at 0x72da57ff2f50>]"
      ]
     },
     "execution_count": 24,
     "metadata": {},
     "output_type": "execute_result"
    }
   ],
   "source": [
    "# Read a tracing node by uid\n",
    "\n",
    "node = storage.read_node(root.uid)\n",
    "print(node.uid, node.name)\n",
    "\n",
    "\n",
    "# Search in specific tracing nodes\n",
    "\n",
    "node.find_nodes(lambda x: x.name == \"a\")"
   ]
  }
 ],
 "metadata": {
  "kernelspec": {
   "display_name": "Python 3 (ipykernel)",
   "language": "python",
   "name": "python3"
  },
  "language_info": {
   "codemirror_mode": {
    "name": "ipython",
    "version": 3
   },
   "file_extension": ".py",
   "mimetype": "text/x-python",
   "name": "python",
   "nbconvert_exporter": "python",
   "pygments_lexer": "ipython3",
   "version": "3.10.12"
  }
 },
 "nbformat": 4,
 "nbformat_minor": 5
}
