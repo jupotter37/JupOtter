{
 "cells": [
  {
   "cell_type": "code",
   "execution_count": 1,
   "metadata": {},
   "outputs": [],
   "source": [
    "import gc\n",
    "from datetime import datetime, timedelta,date\n",
    "import warnings\n",
    "import itertools\n",
    "import numpy as np # linear algebra\n",
    "import pandas as pd # data processing, CSV file I/O (e.g. pd.read_csv)\n",
    "from sklearn.random_projection import GaussianRandomProjection\n",
    "from sklearn.random_projection import SparseRandomProjection,johnson_lindenstrauss_min_dim\n",
    "from sklearn.decomposition import PCA, FastICA,NMF,LatentDirichletAllocation,IncrementalPCA,MiniBatchSparsePCA\n",
    "from sklearn.decomposition import TruncatedSVD,FactorAnalysis,KernelPCA\n",
    "\n",
    "import seaborn as sns\n",
    "import lightgbm as lgb\n",
    "import matplotlib.pyplot as plt\n",
    "from sklearn.metrics import mean_squared_error\n",
    "from sklearn.model_selection import StratifiedKFold\n",
    "\n",
    "#settings\n",
    "warnings.filterwarnings('ignore')\n",
    "np.random.seed(2018)"
   ]
  },
  {
   "cell_type": "code",
   "execution_count": 2,
   "metadata": {},
   "outputs": [],
   "source": [
    "def reduce_mem_usage(df, verbose=True):\n",
    "    numerics = ['int16', 'int32', 'int64', 'float16', 'float32', 'float64']\n",
    "    start_mem = df.memory_usage().sum() / 1024**2    \n",
    "    for col in df.columns:\n",
    "        col_type = df[col].dtypes\n",
    "        if col_type in numerics:\n",
    "            c_min = df[col].min()\n",
    "            c_max = df[col].max()\n",
    "            if str(col_type)[:3] == 'int':\n",
    "                if c_min > np.iinfo(np.int8).min and c_max < np.iinfo(np.int8).max:\n",
    "                    df[col] = df[col].astype(np.int8)\n",
    "                elif c_min > np.iinfo(np.int16).min and c_max < np.iinfo(np.int16).max:\n",
    "                    df[col] = df[col].astype(np.int16)\n",
    "                elif c_min > np.iinfo(np.int32).min and c_max < np.iinfo(np.int32).max:\n",
    "                    df[col] = df[col].astype(np.int32)\n",
    "                elif c_min > np.iinfo(np.int64).min and c_max < np.iinfo(np.int64).max:\n",
    "                    df[col] = df[col].astype(np.int64)  \n",
    "            else:\n",
    "                if c_min > np.finfo(np.float16).min and c_max < np.finfo(np.float16).max:\n",
    "                    df[col] = df[col].astype(np.float16)\n",
    "                elif c_min > np.finfo(np.float32).min and c_max < np.finfo(np.float32).max:\n",
    "                    df[col] = df[col].astype(np.float32)\n",
    "                else:\n",
    "                    df[col] = df[col].astype(np.float64)    \n",
    "    end_mem = df.memory_usage().sum() / 1024**2\n",
    "    if verbose: print('Mem. usage decreased to {:5.2f} Mb ({:.1f}% reduction)'.format(end_mem, 100 * (start_mem - end_mem) / start_mem))\n",
    "    return df"
   ]
  },
  {
   "cell_type": "code",
   "execution_count": 3,
   "metadata": {},
   "outputs": [],
   "source": [
    "historical_trans_df = pd.read_csv('input/historical_transactions.csv')\n",
    "new_merchant_trans_df = pd.read_csv('input/new_merchant_transactions.csv')\n",
    "merchant_df = pd.read_csv('input/merchants.csv')"
   ]
  },
  {
   "cell_type": "code",
   "execution_count": 4,
   "metadata": {},
   "outputs": [],
   "source": [
    "def get_hist_default_prorcessing(df):\n",
    "    df['purchase_date'] = pd.to_datetime(df['purchase_date'])\n",
    "    df['year'] = df['purchase_date'].dt.year\n",
    "    df['weekofyear'] = df['purchase_date'].dt.weekofyear\n",
    "    df['month'] = df['purchase_date'].dt.month\n",
    "    df['dayofweek'] = df['purchase_date'].dt.dayofweek\n",
    "    df['weekend'] = (df.purchase_date.dt.weekday >=5).astype(int)\n",
    "    df['hour'] = df['purchase_date'].dt.hour\n",
    "    df['authorized_flag'] = df['authorized_flag'].map({'Y':1, 'N':0})\n",
    "    df['category_1'] = df['category_1'].map({'Y':1, 'N':0}) \n",
    "    df['category_3'] = df['category_3'].map({'A':0, 'B':1, 'C':2}) \n",
    "    df['month_diff'] = ((datetime.today() - df['purchase_date']).dt.days)//30\n",
    "    df['month_diff'] += df['month_lag']\n",
    "    return df"
   ]
  },
  {
   "cell_type": "code",
   "execution_count": 5,
   "metadata": {},
   "outputs": [],
   "source": [
    "def get_prefix(group_col, target_col, prefix=None):\n",
    "    if isinstance(group_col, list) is True:\n",
    "        g = '_'.join(group_col)\n",
    "    else:\n",
    "        g = group_col\n",
    "    if isinstance(target_col, list) is True:\n",
    "        t = '_'.join(target_col)\n",
    "    else:\n",
    "        t = target_col\n",
    "    if prefix is not None:\n",
    "        return prefix + '_' + g + '_' + t\n",
    "    return g + '_' + t\n",
    "    \n",
    "def groupby_helper(df, group_col, target_col, agg_method, prefix_param=None):\n",
    "    try:\n",
    "        prefix = get_prefix(group_col, target_col, prefix_param)\n",
    "        print(group_col, target_col, agg_method)\n",
    "        group_df = df.groupby(group_col)[target_col].agg(agg_method)\n",
    "        group_df.columns = ['{}_{}'.format(prefix, m) for m in agg_method]\n",
    "    except BaseException as e:\n",
    "        print(e)\n",
    "    return group_df.reset_index()"
   ]
  },
  {
   "cell_type": "code",
   "execution_count": 6,
   "metadata": {},
   "outputs": [],
   "source": [
    "historical_trans_df = get_hist_default_prorcessing(historical_trans_df)\n",
    "new_merchant_trans_df = get_hist_default_prorcessing(new_merchant_trans_df)"
   ]
  },
  {
   "cell_type": "code",
   "execution_count": 7,
   "metadata": {},
   "outputs": [],
   "source": [
    "historical_trans_df = pd.get_dummies(historical_trans_df, columns=['category_2', 'category_3'])\n",
    "new_merchant_trans_df = pd.get_dummies(new_merchant_trans_df, columns=['category_2', 'category_3'])"
   ]
  },
  {
   "cell_type": "code",
   "execution_count": 8,
   "metadata": {},
   "outputs": [],
   "source": [
    "#historical_trans_df = reduce_mem_usage(historical_trans_df)\n",
    "#new_merchant_trans_df = reduce_mem_usage(new_merchant_trans_df)"
   ]
  },
  {
   "cell_type": "code",
   "execution_count": 9,
   "metadata": {},
   "outputs": [],
   "source": [
    "authorized_transactions = historical_trans_df[historical_trans_df['authorized_flag'] == 1]\n",
    "historical_transactions = historical_trans_df[historical_trans_df['authorized_flag'] == 0]"
   ]
  },
  {
   "cell_type": "code",
   "execution_count": 10,
   "metadata": {
    "scrolled": true
   },
   "outputs": [],
   "source": [
    "train_df = pd.read_csv('input/train.csv')\n",
    "test_df = pd.read_csv('input/test.csv')\n",
    "\n",
    "def get_train_default_prorcessing(df):\n",
    "    df['first_active_month'] = pd.to_datetime(df['first_active_month'])\n",
    "    df['dayofweek'] = df['first_active_month'].dt.dayofweek\n",
    "    df['weekofyear'] = df['first_active_month'].dt.weekofyear\n",
    "    df['dayofyear'] = df['first_active_month'].dt.dayofyear\n",
    "    df['quarter'] = df['first_active_month'].dt.quarter\n",
    "    df['month'] = df['first_active_month'].dt.month\n",
    "    df['elapsed_time'] = (datetime(2018, 2, 1).date() - df['first_active_month'].dt.date).dt.days\n",
    "    return df\n",
    "\n",
    "train_df = get_train_default_prorcessing(train_df)\n",
    "test_df = get_train_default_prorcessing(test_df)\n",
    "\n",
    "train_df['outliers'] = 0\n",
    "train_df.loc[train_df['target'] < -30, 'outliers'] = 1\n",
    "train_df['outliers'].value_counts()\n",
    "\n",
    "all_df = pd.concat([train_df,test_df])"
   ]
  },
  {
   "cell_type": "code",
   "execution_count": 11,
   "metadata": {},
   "outputs": [
    {
     "name": "stdout",
     "output_type": "stream",
     "text": [
      "['dayofyear'] outliers ['mean']\n",
      "['elapsed_time'] outliers ['mean']\n"
     ]
    }
   ],
   "source": [
    "group_df = groupby_helper(train_df,['dayofyear'], 'outliers',['mean'])\n",
    "all_df = all_df.merge(group_df, on=['dayofyear'], how='left')\n",
    "\n",
    "group_df = groupby_helper(train_df,['elapsed_time'], 'outliers',['mean'])\n",
    "all_df = all_df.merge(group_df, on=['elapsed_time'], how='left')"
   ]
  },
  {
   "cell_type": "code",
   "execution_count": 13,
   "metadata": {},
   "outputs": [
    {
     "name": "stdout",
     "output_type": "stream",
     "text": [
      "['card_id'] purchase_amount ['sum', 'max', 'min', 'mean', 'std']\n",
      "['card_id'] installments ['sum', 'max', 'min', 'mean', 'std']\n",
      "['card_id'] purchase_amount ['sum', 'max', 'min', 'mean', 'std']\n",
      "['card_id'] installments ['sum', 'max', 'min', 'mean', 'std']\n"
     ]
    }
   ],
   "source": [
    "group_df = groupby_helper(historical_trans_df,['card_id'], 'purchase_amount',['sum','max','min','mean','std'])\n",
    "all_df = all_df.merge(group_df, on=['card_id'], how='left')\n",
    "group_df = groupby_helper(historical_trans_df,['card_id'], 'installments',['sum','max','min','mean','std'])\n",
    "all_df = all_df.merge(group_df, on=['card_id'], how='left')\n",
    "group_df = groupby_helper(new_merchant_trans_df,['card_id'], 'purchase_amount',['sum','max','min','mean','std'],'new_hist')\n",
    "all_df = all_df.merge(group_df, on=['card_id'], how='left')\n",
    "group_df = groupby_helper(new_merchant_trans_df,['card_id'], 'installments',['sum','max','min','mean','std'],'new_hist')\n",
    "all_df = all_df.merge(group_df, on=['card_id'], how='left')"
   ]
  },
  {
   "cell_type": "code",
   "execution_count": 14,
   "metadata": {},
   "outputs": [
    {
     "name": "stdout",
     "output_type": "stream",
     "text": [
      "['card_id'] month ['nunique', 'max', 'min', 'mean', 'std']\n",
      "['card_id'] month ['nunique', 'max', 'min', 'mean', 'std']\n",
      "['card_id'] month ['nunique', 'max', 'min', 'mean']\n"
     ]
    }
   ],
   "source": [
    "group_df = groupby_helper(historical_transactions,['card_id'], 'month',['nunique','max','min','mean','std'],'auth_0')\n",
    "all_df = all_df.merge(group_df, on=['card_id'], how='left')\n",
    "group_df = groupby_helper(authorized_transactions,['card_id'], 'month',['nunique','max','min','mean','std'],'auth_1')\n",
    "all_df = all_df.merge(group_df, on=['card_id'], how='left')\n",
    "group_df = groupby_helper(new_merchant_trans_df,['card_id'], 'month',['nunique','max','min','mean'],'new_hist')\n",
    "all_df = all_df.merge(group_df, on=['card_id'], how='left')"
   ]
  },
  {
   "cell_type": "code",
   "execution_count": 15,
   "metadata": {},
   "outputs": [
    {
     "name": "stdout",
     "output_type": "stream",
     "text": [
      "['card_id'] month_lag ['max', 'min', 'mean', 'std']\n",
      "['card_id'] month_lag ['max', 'min', 'mean', 'std']\n"
     ]
    }
   ],
   "source": [
    "group_df = groupby_helper(historical_trans_df,['card_id'], 'month_lag',['max','min','mean','std'])\n",
    "all_df = all_df.merge(group_df, on=['card_id'], how='left')\n",
    "group_df = groupby_helper(new_merchant_trans_df,['card_id'], 'month_lag',['max','min','mean','std'],'new_hist')\n",
    "all_df = all_df.merge(group_df, on=['card_id'], how='left')"
   ]
  },
  {
   "cell_type": "code",
   "execution_count": 16,
   "metadata": {},
   "outputs": [
    {
     "name": "stdout",
     "output_type": "stream",
     "text": [
      "['card_id'] merchant_id ['nunique']\n"
     ]
    }
   ],
   "source": [
    "group_df = groupby_helper(historical_trans_df,['card_id'], 'merchant_id',['nunique'])\n",
    "all_df = all_df.merge(group_df, on=['card_id'], how='left')"
   ]
  },
  {
   "cell_type": "code",
   "execution_count": 17,
   "metadata": {},
   "outputs": [
    {
     "name": "stdout",
     "output_type": "stream",
     "text": [
      "['card_id'] merchant_category_id ['nunique']\n",
      "['card_id'] merchant_category_id ['nunique']\n"
     ]
    }
   ],
   "source": [
    "group_df = groupby_helper(historical_transactions,['card_id'], 'merchant_category_id',['nunique'],'auth_0')\n",
    "all_df = all_df.merge(group_df, on=['card_id'], how='left')\n",
    "group_df = groupby_helper(authorized_transactions,['card_id'], 'merchant_category_id',['nunique'],'auth_1')\n",
    "all_df = all_df.merge(group_df, on=['card_id'], how='left')"
   ]
  },
  {
   "cell_type": "code",
   "execution_count": 18,
   "metadata": {},
   "outputs": [
    {
     "name": "stdout",
     "output_type": "stream",
     "text": [
      "['card_id'] subsector_id ['nunique']\n",
      "['card_id'] subsector_id ['nunique']\n"
     ]
    }
   ],
   "source": [
    "group_df = groupby_helper(historical_transactions,['card_id'], 'subsector_id',['nunique'],'auth_0')\n",
    "all_df = all_df.merge(group_df, on=['card_id'], how='left')\n",
    "group_df = groupby_helper(authorized_transactions,['card_id'], 'subsector_id',['nunique'],'auth_1')\n",
    "all_df = all_df.merge(group_df, on=['card_id'], how='left')"
   ]
  },
  {
   "cell_type": "code",
   "execution_count": 19,
   "metadata": {},
   "outputs": [
    {
     "name": "stdout",
     "output_type": "stream",
     "text": [
      "['card_id'] state_id ['nunique']\n",
      "['card_id'] state_id ['nunique']\n"
     ]
    }
   ],
   "source": [
    "group_df = groupby_helper(historical_transactions,['card_id'], 'state_id',['nunique'],'auth_0')\n",
    "all_df = all_df.merge(group_df, on=['card_id'], how='left')\n",
    "group_df = groupby_helper(authorized_transactions,['card_id'], 'state_id',['nunique'],'auth_1')\n",
    "all_df = all_df.merge(group_df, on=['card_id'], how='left')"
   ]
  },
  {
   "cell_type": "code",
   "execution_count": 20,
   "metadata": {},
   "outputs": [
    {
     "name": "stdout",
     "output_type": "stream",
     "text": [
      "['card_id'] city_id ['nunique']\n"
     ]
    }
   ],
   "source": [
    "group_df = groupby_helper(historical_trans_df,['card_id'], 'city_id',['nunique'])\n",
    "all_df = all_df.merge(group_df, on=['card_id'], how='left')"
   ]
  },
  {
   "cell_type": "code",
   "execution_count": 21,
   "metadata": {},
   "outputs": [
    {
     "name": "stdout",
     "output_type": "stream",
     "text": [
      "['card_id'] merchant_category_id ['nunique']\n",
      "['card_id'] subsector_id ['nunique']\n",
      "['card_id'] state_id ['nunique']\n"
     ]
    }
   ],
   "source": [
    "group_df = groupby_helper(new_merchant_trans_df,['card_id'], 'merchant_category_id',['nunique'],'new_hist')\n",
    "all_df = all_df.merge(group_df, on=['card_id'], how='left')\n",
    "group_df = groupby_helper(new_merchant_trans_df,['card_id'], 'subsector_id',['nunique'],'new_hist')\n",
    "all_df = all_df.merge(group_df, on=['card_id'], how='left')\n",
    "group_df = groupby_helper(new_merchant_trans_df,['card_id'], 'state_id',['nunique'],'new_hist')\n",
    "all_df = all_df.merge(group_df, on=['card_id'], how='left')"
   ]
  },
  {
   "cell_type": "code",
   "execution_count": 22,
   "metadata": {},
   "outputs": [
    {
     "name": "stdout",
     "output_type": "stream",
     "text": [
      "['card_id'] month_diff ['mean']\n"
     ]
    }
   ],
   "source": [
    "group_df = groupby_helper(historical_trans_df,['card_id'], 'month_diff',['mean'])\n",
    "all_df = all_df.merge(group_df, on=['card_id'], how='left')"
   ]
  },
  {
   "cell_type": "code",
   "execution_count": 23,
   "metadata": {},
   "outputs": [
    {
     "name": "stdout",
     "output_type": "stream",
     "text": [
      "['card_id'] month_diff ['mean']\n"
     ]
    }
   ],
   "source": [
    "group_df = groupby_helper(new_merchant_trans_df,['card_id'], 'month_diff',['mean'],'new_hist')\n",
    "all_df = all_df.merge(group_df, on=['card_id'], how='left')"
   ]
  },
  {
   "cell_type": "code",
   "execution_count": 24,
   "metadata": {},
   "outputs": [
    {
     "name": "stdout",
     "output_type": "stream",
     "text": [
      "['card_id'] category_1 ['sum', 'mean']\n"
     ]
    }
   ],
   "source": [
    "group_df = groupby_helper(historical_trans_df,['card_id'], 'category_1',['sum','mean'])\n",
    "all_df = all_df.merge(group_df, on=['card_id'], how='left')"
   ]
  },
  {
   "cell_type": "code",
   "execution_count": 25,
   "metadata": {},
   "outputs": [
    {
     "name": "stdout",
     "output_type": "stream",
     "text": [
      "['card_id'] category_1 ['sum', 'mean']\n"
     ]
    }
   ],
   "source": [
    "group_df = groupby_helper(new_merchant_trans_df,['card_id'], 'category_1',['sum','mean'],'new_hist')\n",
    "all_df = all_df.merge(group_df, on=['card_id'], how='left')"
   ]
  },
  {
   "cell_type": "code",
   "execution_count": 26,
   "metadata": {},
   "outputs": [
    {
     "name": "stdout",
     "output_type": "stream",
     "text": [
      "['card_id'] card_id ['size']\n",
      "['card_id'] card_id ['size']\n"
     ]
    }
   ],
   "source": [
    "group_df = groupby_helper(historical_transactions,['card_id'], 'card_id',['size'],'auth_0')\n",
    "all_df = all_df.merge(group_df, on=['card_id'], how='left')\n",
    "group_df = groupby_helper(authorized_transactions,['card_id'], 'card_id',['size'],'auth_1')\n",
    "all_df = all_df.merge(group_df, on=['card_id'], how='left')"
   ]
  },
  {
   "cell_type": "code",
   "execution_count": 27,
   "metadata": {},
   "outputs": [
    {
     "name": "stdout",
     "output_type": "stream",
     "text": [
      "['card_id'] card_id ['size']\n"
     ]
    }
   ],
   "source": [
    "group_df = groupby_helper(new_merchant_trans_df,['card_id'], 'card_id',['size'],'new_hist')\n",
    "all_df = all_df.merge(group_df, on=['card_id'], how='left')"
   ]
  },
  {
   "cell_type": "code",
   "execution_count": 28,
   "metadata": {},
   "outputs": [
    {
     "name": "stdout",
     "output_type": "stream",
     "text": [
      "['card_id'] category_2_1.0 ['mean']\n",
      "['card_id'] category_2_2.0 ['mean']\n",
      "['card_id'] category_2_3.0 ['mean']\n",
      "['card_id'] category_2_4.0 ['mean']\n",
      "['card_id'] category_2_5.0 ['mean']\n"
     ]
    }
   ],
   "source": [
    "group_df = groupby_helper(historical_trans_df,['card_id'], 'category_2_1.0',['mean'])\n",
    "all_df = all_df.merge(group_df, on=['card_id'], how='left')\n",
    "group_df = groupby_helper(historical_trans_df,['card_id'], 'category_2_2.0',['mean'])\n",
    "all_df = all_df.merge(group_df, on=['card_id'], how='left')\n",
    "group_df = groupby_helper(historical_trans_df,['card_id'], 'category_2_3.0',['mean'])\n",
    "all_df = all_df.merge(group_df, on=['card_id'], how='left')\n",
    "group_df = groupby_helper(historical_trans_df,['card_id'], 'category_2_4.0',['mean'])\n",
    "all_df = all_df.merge(group_df, on=['card_id'], how='left')\n",
    "group_df = groupby_helper(historical_trans_df,['card_id'], 'category_2_5.0',['mean'])\n",
    "all_df = all_df.merge(group_df, on=['card_id'], how='left')"
   ]
  },
  {
   "cell_type": "code",
   "execution_count": 29,
   "metadata": {},
   "outputs": [
    {
     "name": "stdout",
     "output_type": "stream",
     "text": [
      "['card_id'] category_2_1.0 ['mean']\n",
      "['card_id'] category_2_2.0 ['mean']\n",
      "['card_id'] category_2_3.0 ['mean']\n",
      "['card_id'] category_2_4.0 ['mean']\n",
      "['card_id'] category_2_5.0 ['mean']\n"
     ]
    }
   ],
   "source": [
    "group_df = groupby_helper(new_merchant_trans_df,['card_id'], 'category_2_1.0',['mean'],'new_hist')\n",
    "all_df = all_df.merge(group_df, on=['card_id'], how='left')\n",
    "group_df = groupby_helper(new_merchant_trans_df,['card_id'], 'category_2_2.0',['mean'],'new_hist')\n",
    "all_df = all_df.merge(group_df, on=['card_id'], how='left')\n",
    "group_df = groupby_helper(new_merchant_trans_df,['card_id'], 'category_2_3.0',['mean'],'new_hist')\n",
    "all_df = all_df.merge(group_df, on=['card_id'], how='left')\n",
    "group_df = groupby_helper(new_merchant_trans_df,['card_id'], 'category_2_4.0',['mean'],'new_hist')\n",
    "all_df = all_df.merge(group_df, on=['card_id'], how='left')\n",
    "group_df = groupby_helper(new_merchant_trans_df,['card_id'], 'category_2_5.0',['mean'],'new_hist')\n",
    "all_df = all_df.merge(group_df, on=['card_id'], how='left')"
   ]
  },
  {
   "cell_type": "code",
   "execution_count": 90,
   "metadata": {},
   "outputs": [
    {
     "name": "stdout",
     "output_type": "stream",
     "text": [
      "['card_id'] purchase_date ['min', 'max']\n"
     ]
    }
   ],
   "source": [
    "group_df = groupby_helper(historical_trans_df,['card_id'], 'purchase_date',['min', 'max'])\n",
    "group_df['card_id_purchase_date_min'] = pd.DatetimeIndex(group_df['card_id_purchase_date_min']).astype(np.int64) * 1e-9\n",
    "group_df['card_id_purchase_date_max'] = pd.DatetimeIndex(group_df['card_id_purchase_date_max']).astype(np.int64) * 1e-9\n",
    "all_df = all_df.merge(group_df, on=['card_id'], how='left')"
   ]
  },
  {
   "cell_type": "code",
   "execution_count": 31,
   "metadata": {},
   "outputs": [
    {
     "name": "stdout",
     "output_type": "stream",
     "text": [
      "['card_id'] purchase_date ['min', 'max']\n"
     ]
    }
   ],
   "source": [
    "group_df = groupby_helper(new_merchant_trans_df,['card_id'], 'purchase_date',['min', 'max'],'new_hist')\n",
    "group_df['new_hist_card_id_purchase_date_min'] = pd.DatetimeIndex(group_df['new_hist_card_id_purchase_date_min']).astype(np.int64) * 1e-9\n",
    "group_df['new_hist_card_id_purchase_date_max'] = pd.DatetimeIndex(group_df['new_hist_card_id_purchase_date_max']).astype(np.int64) * 1e-9\n",
    "all_df = all_df.merge(group_df, on=['card_id'], how='left')"
   ]
  },
  {
   "cell_type": "code",
   "execution_count": 32,
   "metadata": {},
   "outputs": [],
   "source": [
    "def aggregate_per_month(history):\n",
    "    grouped = history.groupby(['card_id', 'month_lag'])\n",
    "\n",
    "    agg_func = {\n",
    "            'purchase_amount': ['count', 'sum', 'mean', 'min', 'max', 'std'],\n",
    "            'installments': ['count', 'sum', 'mean', 'min', 'max', 'std'],\n",
    "            }\n",
    "\n",
    "    intermediate_group = grouped.agg(agg_func)\n",
    "    intermediate_group.columns = ['_'.join(col).strip() for col in intermediate_group.columns.values]\n",
    "    intermediate_group.reset_index(inplace=True)\n",
    "\n",
    "    final_group = intermediate_group.groupby('card_id').agg(['mean', 'std'])\n",
    "    final_group.columns = ['_'.join(col).strip() for col in final_group.columns.values]\n",
    "    final_group.reset_index(inplace=True)\n",
    "    \n",
    "    return final_group\n",
    "\n",
    "final_group =  aggregate_per_month(authorized_transactions) "
   ]
  },
  {
   "cell_type": "code",
   "execution_count": 33,
   "metadata": {},
   "outputs": [],
   "source": [
    "all_df = all_df.merge(final_group, on=['card_id'], how='left')"
   ]
  },
  {
   "cell_type": "code",
   "execution_count": 34,
   "metadata": {},
   "outputs": [],
   "source": [
    "def successive_aggregates(df, field1, field2):\n",
    "    t = df.groupby(['card_id', field1])[field2].mean()\n",
    "    u = pd.DataFrame(t).reset_index().groupby('card_id')[field2].agg(['mean', 'min', 'max', 'std'])\n",
    "    u.columns = [field1 + '_' + field2 + '_' + col for col in u.columns.values]\n",
    "    u.reset_index(inplace=True)\n",
    "    return u"
   ]
  },
  {
   "cell_type": "code",
   "execution_count": 35,
   "metadata": {},
   "outputs": [],
   "source": [
    "additional_fields = successive_aggregates(new_merchant_trans_df, 'category_1', 'purchase_amount')\n",
    "additional_fields = additional_fields.merge(successive_aggregates(new_merchant_trans_df, 'installments', 'purchase_amount'),\n",
    "                                            on = 'card_id', how='left')\n",
    "additional_fields = additional_fields.merge(successive_aggregates(new_merchant_trans_df, 'city_id', 'purchase_amount'),\n",
    "                                            on = 'card_id', how='left')\n",
    "additional_fields = additional_fields.merge(successive_aggregates(new_merchant_trans_df, 'category_1', 'installments'),\n",
    "                                            on = 'card_id', how='left')\n",
    "all_df = all_df.merge(additional_fields, on=['card_id'], how='left')"
   ]
  },
  {
   "cell_type": "code",
   "execution_count": 104,
   "metadata": {},
   "outputs": [
    {
     "name": "stdout",
     "output_type": "stream",
     "text": [
      "['card_id'] reference_date ['max']\n"
     ]
    }
   ],
   "source": [
    "historical_trans_df['reference_date'] = (historical_trans_df['year']+(historical_trans_df['month']-historical_trans_df['month_lag'])//12)\n",
    "historical_trans_df['reference_date'] = historical_trans_df['reference_date'].astype(np.int64)\n",
    "historical_trans_df['reference_date'] = historical_trans_df['reference_date']*10000\n",
    "historical_trans_df['reference_date'] =historical_trans_df['reference_date'] +((historical_trans_df['month']-historical_trans_df['month_lag'])%12+1)*100+1\n",
    "group_df = groupby_helper(historical_trans_df,['card_id'],'reference_date',['max'])\n",
    "all_df = all_df.merge(group_df, on=['card_id'], how='left')\n",
    "all_df.rename(columns={'card_id_reference_date_max':'reference_date'},inplace=True)\n",
    "\n",
    "all_df['reference_date'] = pd.to_datetime(all_df['reference_date'],yearfirst=True,format='%Y%m%d')\n",
    "all_df['reference_to_firstactive'] = (all_df['reference_date'] - all_df['first_active_month']).dt.days\n",
    "all_df['reference_date'] = pd.DatetimeIndex(all_df['reference_date']).\\\n",
    "                                      astype(np.int64) * 1e-9"
   ]
  },
  {
   "cell_type": "code",
   "execution_count": 105,
   "metadata": {},
   "outputs": [
    {
     "name": "stdout",
     "output_type": "stream",
     "text": [
      "['card_id'] reference_date2 ['max']\n"
     ]
    }
   ],
   "source": [
    "historical_trans_df['reference_date2'] = (historical_trans_df['year']+(historical_trans_df['month']-historical_trans_df['month_lag'])//12)\n",
    "historical_trans_df['reference_date2'] = historical_trans_df['reference_date2'].astype(np.int64)\n",
    "historical_trans_df['reference_date2'] = historical_trans_df['reference_date2']*100\n",
    "historical_trans_df['reference_date2'] =historical_trans_df['reference_date2'] +((historical_trans_df['month']-historical_trans_df['month_lag'])%12+1)*1\n",
    "group_df = groupby_helper(historical_trans_df,['card_id'],'reference_date2',['max'])\n",
    "all_df = all_df.merge(group_df, on=['card_id'], how='left')\n",
    "all_df.rename(columns={'card_id_reference_date2_max':'reference_date2'},inplace=True)\n",
    "\n",
    "all_df['year'] = all_df['first_active_month'].dt.year\n",
    "all_df['year_month'] = all_df['year']*100 + all_df['month']\n",
    "all_df['diff_reference_date'] = 12*(all_df['reference_date2']//100 - all_df['year_month']//100) + (all_df['reference_date2']%100 - all_df['year_month']%100)\n",
    "del all_df['year']\n",
    "del all_df['year_month']"
   ]
  },
  {
   "cell_type": "code",
   "execution_count": 155,
   "metadata": {},
   "outputs": [],
   "source": [
    "song_train_feature = pd.read_csv('input/train_for_yeonmin')\n",
    "song_test_feature = pd.read_csv('input/test_for_yeonmin')"
   ]
  },
  {
   "cell_type": "code",
   "execution_count": 157,
   "metadata": {},
   "outputs": [],
   "source": [
    "song_all_df = pd.concat([song_train_feature,song_test_feature])"
   ]
  },
  {
   "cell_type": "code",
   "execution_count": 159,
   "metadata": {},
   "outputs": [
    {
     "data": {
      "text/plain": [
       "(325540, 11)"
      ]
     },
     "execution_count": 159,
     "metadata": {},
     "output_type": "execute_result"
    }
   ],
   "source": [
    "song_all_df.shape"
   ]
  },
  {
   "cell_type": "code",
   "execution_count": 163,
   "metadata": {
    "scrolled": true
   },
   "outputs": [],
   "source": [
    "song_all_df = song_all_df.reset_index(drop=True)"
   ]
  },
  {
   "cell_type": "code",
   "execution_count": 164,
   "metadata": {
    "scrolled": true
   },
   "outputs": [],
   "source": [
    "all_df = pd.concat([all_df,song_all_df], axis=1)"
   ]
  },
  {
   "cell_type": "code",
   "execution_count": 149,
   "metadata": {},
   "outputs": [
    {
     "name": "stdout",
     "output_type": "stream",
     "text": [
      "['diff_reference_date'] target ['min']\n"
     ]
    }
   ],
   "source": [
    "group_df = groupby_helper(all_df,['diff_reference_date'],'target',['min'])\n",
    "all_df = all_df.merge(group_df, on=['diff_reference_date'], how='left')"
   ]
  },
  {
   "cell_type": "markdown",
   "metadata": {},
   "source": [
    "### Feature 삭제 할 때 사용!\n",
    "사용 금지"
   ]
  },
  {
   "cell_type": "code",
   "execution_count": 175,
   "metadata": {},
   "outputs": [
    {
     "name": "stdout",
     "output_type": "stream",
     "text": [
      "merchant_id_entropy\n"
     ]
    }
   ],
   "source": [
    "for col in all_df.columns:\n",
    "    if col.find('merchant_id_entropy') != -1:\n",
    "        print(col)\n",
    "        del all_df[col]"
   ]
  },
  {
   "cell_type": "markdown",
   "metadata": {},
   "source": [
    "merchant_id_entropy"
   ]
  },
  {
   "cell_type": "code",
   "execution_count": 176,
   "metadata": {
    "scrolled": true
   },
   "outputs": [
    {
     "data": {
      "text/plain": [
       "['dayofweek',\n",
       " 'dayofyear',\n",
       " 'elapsed_time',\n",
       " 'feature_1',\n",
       " 'feature_2',\n",
       " 'feature_3',\n",
       " 'month',\n",
       " 'quarter',\n",
       " 'weekofyear',\n",
       " 'dayofyear_outliers_mean',\n",
       " 'elapsed_time_outliers_mean',\n",
       " 'card_id_purchase_amount_sum',\n",
       " 'card_id_purchase_amount_max',\n",
       " 'card_id_purchase_amount_min',\n",
       " 'card_id_purchase_amount_mean',\n",
       " 'card_id_purchase_amount_std',\n",
       " 'card_id_installments_sum',\n",
       " 'card_id_installments_max',\n",
       " 'card_id_installments_min',\n",
       " 'card_id_installments_mean',\n",
       " 'card_id_installments_std',\n",
       " 'new_hist_card_id_purchase_amount_sum',\n",
       " 'new_hist_card_id_purchase_amount_max',\n",
       " 'new_hist_card_id_purchase_amount_min',\n",
       " 'new_hist_card_id_purchase_amount_mean',\n",
       " 'new_hist_card_id_purchase_amount_std',\n",
       " 'new_hist_card_id_installments_sum',\n",
       " 'new_hist_card_id_installments_max',\n",
       " 'new_hist_card_id_installments_min',\n",
       " 'new_hist_card_id_installments_mean',\n",
       " 'new_hist_card_id_installments_std',\n",
       " 'auth_0_card_id_month_nunique',\n",
       " 'auth_0_card_id_month_max',\n",
       " 'auth_0_card_id_month_min',\n",
       " 'auth_0_card_id_month_mean',\n",
       " 'auth_0_card_id_month_std',\n",
       " 'auth_1_card_id_month_nunique',\n",
       " 'auth_1_card_id_month_max',\n",
       " 'auth_1_card_id_month_min',\n",
       " 'auth_1_card_id_month_mean',\n",
       " 'auth_1_card_id_month_std',\n",
       " 'new_hist_card_id_month_nunique',\n",
       " 'new_hist_card_id_month_max',\n",
       " 'new_hist_card_id_month_min',\n",
       " 'new_hist_card_id_month_mean',\n",
       " 'card_id_month_lag_max',\n",
       " 'card_id_month_lag_min',\n",
       " 'card_id_month_lag_mean',\n",
       " 'card_id_month_lag_std',\n",
       " 'new_hist_card_id_month_lag_max',\n",
       " 'new_hist_card_id_month_lag_min',\n",
       " 'new_hist_card_id_month_lag_mean',\n",
       " 'new_hist_card_id_month_lag_std',\n",
       " 'card_id_merchant_id_nunique',\n",
       " 'auth_0_card_id_merchant_category_id_nunique',\n",
       " 'auth_1_card_id_merchant_category_id_nunique',\n",
       " 'auth_0_card_id_subsector_id_nunique',\n",
       " 'auth_1_card_id_subsector_id_nunique',\n",
       " 'auth_0_card_id_state_id_nunique',\n",
       " 'auth_1_card_id_state_id_nunique',\n",
       " 'card_id_city_id_nunique',\n",
       " 'new_hist_card_id_merchant_category_id_nunique',\n",
       " 'new_hist_card_id_subsector_id_nunique',\n",
       " 'new_hist_card_id_state_id_nunique',\n",
       " 'card_id_month_diff_mean',\n",
       " 'new_hist_card_id_month_diff_mean',\n",
       " 'card_id_category_1_sum',\n",
       " 'card_id_category_1_mean',\n",
       " 'new_hist_card_id_category_1_sum',\n",
       " 'new_hist_card_id_category_1_mean',\n",
       " 'auth_0_card_id_card_id_size',\n",
       " 'auth_1_card_id_card_id_size',\n",
       " 'new_hist_card_id_card_id_size',\n",
       " 'card_id_category_2_1.0_mean',\n",
       " 'card_id_category_2_2.0_mean',\n",
       " 'card_id_category_2_3.0_mean',\n",
       " 'card_id_category_2_4.0_mean',\n",
       " 'card_id_category_2_5.0_mean',\n",
       " 'new_hist_card_id_category_2_1.0_mean',\n",
       " 'new_hist_card_id_category_2_2.0_mean',\n",
       " 'new_hist_card_id_category_2_3.0_mean',\n",
       " 'new_hist_card_id_category_2_4.0_mean',\n",
       " 'new_hist_card_id_category_2_5.0_mean',\n",
       " 'new_hist_card_id_purchase_date_min',\n",
       " 'new_hist_card_id_purchase_date_max',\n",
       " 'month_lag_mean',\n",
       " 'month_lag_std',\n",
       " 'purchase_amount_count_mean',\n",
       " 'purchase_amount_count_std',\n",
       " 'purchase_amount_sum_mean',\n",
       " 'purchase_amount_sum_std',\n",
       " 'purchase_amount_mean_mean',\n",
       " 'purchase_amount_mean_std',\n",
       " 'purchase_amount_min_mean',\n",
       " 'purchase_amount_min_std',\n",
       " 'purchase_amount_max_mean',\n",
       " 'purchase_amount_max_std',\n",
       " 'purchase_amount_std_mean',\n",
       " 'purchase_amount_std_std',\n",
       " 'installments_count_mean',\n",
       " 'installments_count_std',\n",
       " 'installments_sum_mean',\n",
       " 'installments_sum_std',\n",
       " 'installments_mean_mean',\n",
       " 'installments_mean_std',\n",
       " 'installments_min_mean',\n",
       " 'installments_min_std',\n",
       " 'installments_max_mean',\n",
       " 'installments_max_std',\n",
       " 'installments_std_mean',\n",
       " 'installments_std_std',\n",
       " 'category_1_purchase_amount_mean',\n",
       " 'category_1_purchase_amount_min',\n",
       " 'category_1_purchase_amount_max',\n",
       " 'category_1_purchase_amount_std',\n",
       " 'installments_purchase_amount_mean',\n",
       " 'installments_purchase_amount_min',\n",
       " 'installments_purchase_amount_max',\n",
       " 'installments_purchase_amount_std',\n",
       " 'city_id_purchase_amount_mean',\n",
       " 'city_id_purchase_amount_min',\n",
       " 'city_id_purchase_amount_max',\n",
       " 'city_id_purchase_amount_std',\n",
       " 'category_1_installments_mean',\n",
       " 'category_1_installments_min',\n",
       " 'category_1_installments_max',\n",
       " 'category_1_installments_std',\n",
       " 'diff_reference_date',\n",
       " 'card_id_purchase_date_min',\n",
       " 'card_id_purchase_date_max',\n",
       " 'reference_date',\n",
       " 'reference_to_firstactive',\n",
       " 'reference_date2',\n",
       " 'merchant_category_id_entropy',\n",
       " 'state_id_entropy',\n",
       " 'city_id_entropy',\n",
       " 'subsector_id_entropy',\n",
       " 'purchase_date_entropy',\n",
       " 'hist_merchant_category_idmerchant_identropy_mean1_5',\n",
       " 'hist_merchant_category_idmerchant_identropy_mean6_10',\n",
       " 'hist_month_lagsubsector_identropy_mean1_200',\n",
       " 'hist_corr_day_count']"
      ]
     },
     "execution_count": 176,
     "metadata": {},
     "output_type": "execute_result"
    }
   ],
   "source": [
    "\n",
    "train_df = all_df.loc[all_df['target'].notnull()]\n",
    "test_df = all_df.loc[all_df['target'].isnull()]\n",
    "#train_df = train_df.reset_index()\n",
    "#test_df = test_df.reset_index()\n",
    "\n",
    "#group_df = groupby_helper(train_df,['reference_to_firstactive'], 'target',['median'])\n",
    "#train_df = train_df.merge(group_df, on=['reference_to_firstactive'], how='left')\n",
    "#test_df = test_df.merge(group_df, on=['reference_to_firstactive'], how='left')\n",
    "\n",
    "#del train_df['reference_date'], test_df['reference_date']\n",
    "\n",
    "train_columns = [c for c in train_df.columns if c not in ['card_id', 'first_active_month','target','outliers']]\n",
    "train_columns"
   ]
  },
  {
   "cell_type": "code",
   "execution_count": 177,
   "metadata": {},
   "outputs": [
    {
     "data": {
      "text/plain": [
       "['dayofweek',\n",
       " 'dayofyear',\n",
       " 'elapsed_time',\n",
       " 'feature_1',\n",
       " 'feature_2',\n",
       " 'feature_3',\n",
       " 'month',\n",
       " 'quarter',\n",
       " 'weekofyear',\n",
       " 'dayofyear_outliers_mean',\n",
       " 'elapsed_time_outliers_mean',\n",
       " 'card_id_purchase_amount_sum',\n",
       " 'card_id_purchase_amount_max',\n",
       " 'card_id_purchase_amount_min',\n",
       " 'card_id_purchase_amount_mean',\n",
       " 'card_id_purchase_amount_std',\n",
       " 'card_id_installments_sum',\n",
       " 'card_id_installments_max',\n",
       " 'card_id_installments_min',\n",
       " 'card_id_installments_mean',\n",
       " 'card_id_installments_std',\n",
       " 'new_hist_card_id_purchase_amount_sum',\n",
       " 'new_hist_card_id_purchase_amount_max',\n",
       " 'new_hist_card_id_purchase_amount_min',\n",
       " 'new_hist_card_id_purchase_amount_mean',\n",
       " 'new_hist_card_id_purchase_amount_std',\n",
       " 'new_hist_card_id_installments_sum',\n",
       " 'new_hist_card_id_installments_max',\n",
       " 'new_hist_card_id_installments_min',\n",
       " 'new_hist_card_id_installments_mean',\n",
       " 'new_hist_card_id_installments_std',\n",
       " 'auth_0_card_id_month_nunique',\n",
       " 'auth_0_card_id_month_max',\n",
       " 'auth_0_card_id_month_min',\n",
       " 'auth_0_card_id_month_mean',\n",
       " 'auth_0_card_id_month_std',\n",
       " 'auth_1_card_id_month_nunique',\n",
       " 'auth_1_card_id_month_max',\n",
       " 'auth_1_card_id_month_min',\n",
       " 'auth_1_card_id_month_mean',\n",
       " 'auth_1_card_id_month_std',\n",
       " 'new_hist_card_id_month_nunique',\n",
       " 'new_hist_card_id_month_max',\n",
       " 'new_hist_card_id_month_min',\n",
       " 'new_hist_card_id_month_mean',\n",
       " 'card_id_month_lag_max',\n",
       " 'card_id_month_lag_min',\n",
       " 'card_id_month_lag_mean',\n",
       " 'card_id_month_lag_std',\n",
       " 'new_hist_card_id_month_lag_max',\n",
       " 'new_hist_card_id_month_lag_min',\n",
       " 'new_hist_card_id_month_lag_mean',\n",
       " 'new_hist_card_id_month_lag_std',\n",
       " 'card_id_merchant_id_nunique',\n",
       " 'auth_0_card_id_merchant_category_id_nunique',\n",
       " 'auth_1_card_id_merchant_category_id_nunique',\n",
       " 'auth_0_card_id_subsector_id_nunique',\n",
       " 'auth_1_card_id_subsector_id_nunique',\n",
       " 'auth_0_card_id_state_id_nunique',\n",
       " 'auth_1_card_id_state_id_nunique',\n",
       " 'card_id_city_id_nunique',\n",
       " 'new_hist_card_id_merchant_category_id_nunique',\n",
       " 'new_hist_card_id_subsector_id_nunique',\n",
       " 'new_hist_card_id_state_id_nunique',\n",
       " 'card_id_month_diff_mean',\n",
       " 'new_hist_card_id_month_diff_mean',\n",
       " 'card_id_category_1_sum',\n",
       " 'card_id_category_1_mean',\n",
       " 'new_hist_card_id_category_1_sum',\n",
       " 'new_hist_card_id_category_1_mean',\n",
       " 'auth_0_card_id_card_id_size',\n",
       " 'auth_1_card_id_card_id_size',\n",
       " 'new_hist_card_id_card_id_size',\n",
       " 'card_id_category_2_1.0_mean',\n",
       " 'card_id_category_2_2.0_mean',\n",
       " 'card_id_category_2_3.0_mean',\n",
       " 'card_id_category_2_4.0_mean',\n",
       " 'card_id_category_2_5.0_mean',\n",
       " 'new_hist_card_id_category_2_1.0_mean',\n",
       " 'new_hist_card_id_category_2_2.0_mean',\n",
       " 'new_hist_card_id_category_2_3.0_mean',\n",
       " 'new_hist_card_id_category_2_4.0_mean',\n",
       " 'new_hist_card_id_category_2_5.0_mean',\n",
       " 'new_hist_card_id_purchase_date_min',\n",
       " 'new_hist_card_id_purchase_date_max',\n",
       " 'month_lag_mean',\n",
       " 'month_lag_std',\n",
       " 'purchase_amount_count_mean',\n",
       " 'purchase_amount_count_std',\n",
       " 'purchase_amount_sum_mean',\n",
       " 'purchase_amount_sum_std',\n",
       " 'purchase_amount_mean_mean',\n",
       " 'purchase_amount_mean_std',\n",
       " 'purchase_amount_min_mean',\n",
       " 'purchase_amount_min_std',\n",
       " 'purchase_amount_max_mean',\n",
       " 'purchase_amount_max_std',\n",
       " 'purchase_amount_std_mean',\n",
       " 'purchase_amount_std_std',\n",
       " 'installments_count_mean',\n",
       " 'installments_count_std',\n",
       " 'installments_sum_mean',\n",
       " 'installments_sum_std',\n",
       " 'installments_mean_mean',\n",
       " 'installments_mean_std',\n",
       " 'installments_min_mean',\n",
       " 'installments_min_std',\n",
       " 'installments_max_mean',\n",
       " 'installments_max_std',\n",
       " 'installments_std_mean',\n",
       " 'installments_std_std',\n",
       " 'category_1_purchase_amount_mean',\n",
       " 'category_1_purchase_amount_min',\n",
       " 'category_1_purchase_amount_max',\n",
       " 'category_1_purchase_amount_std',\n",
       " 'installments_purchase_amount_mean',\n",
       " 'installments_purchase_amount_min',\n",
       " 'installments_purchase_amount_max',\n",
       " 'installments_purchase_amount_std',\n",
       " 'city_id_purchase_amount_mean',\n",
       " 'city_id_purchase_amount_min',\n",
       " 'city_id_purchase_amount_max',\n",
       " 'city_id_purchase_amount_std',\n",
       " 'category_1_installments_mean',\n",
       " 'category_1_installments_min',\n",
       " 'category_1_installments_max',\n",
       " 'category_1_installments_std',\n",
       " 'diff_reference_date',\n",
       " 'card_id_purchase_date_min',\n",
       " 'card_id_purchase_date_max',\n",
       " 'reference_date',\n",
       " 'reference_to_firstactive',\n",
       " 'reference_date2',\n",
       " 'merchant_category_id_entropy',\n",
       " 'state_id_entropy',\n",
       " 'city_id_entropy',\n",
       " 'subsector_id_entropy',\n",
       " 'purchase_date_entropy',\n",
       " 'hist_merchant_category_idmerchant_identropy_mean1_5',\n",
       " 'hist_merchant_category_idmerchant_identropy_mean6_10',\n",
       " 'hist_month_lagsubsector_identropy_mean1_200',\n",
       " 'hist_corr_day_count',\n",
       " 'ica_1',\n",
       " 'ica_2',\n",
       " 'ica_3',\n",
       " 'ica_4',\n",
       " 'ica_5',\n",
       " 'ica_6',\n",
       " 'ica_7',\n",
       " 'ica_8',\n",
       " 'ica_9',\n",
       " 'ica_10',\n",
       " 'ica_11',\n",
       " 'ica_12']"
      ]
     },
     "execution_count": 177,
     "metadata": {},
     "output_type": "execute_result"
    }
   ],
   "source": [
    "# PCA\n",
    "n_comp = 12\n",
    "\n",
    "# ICA\n",
    "ica = FastICA(n_components=n_comp, random_state=2019)\n",
    "ica2_results_train = ica.fit_transform(train_df[train_columns].fillna(-1))\n",
    "ica2_results_test = ica.transform(test_df[train_columns].fillna(-1))\n",
    "\n",
    "for i in range(1, n_comp+1):\n",
    "    train_df['ica_' + str(i)] = ica2_results_train[:,i-1]\n",
    "    test_df['ica_' + str(i)] = ica2_results_test[:, i-1]\n",
    "    train_columns.append('ica_' + str(i))\n",
    "\n",
    "train_columns"
   ]
  },
  {
   "cell_type": "code",
   "execution_count": 178,
   "metadata": {},
   "outputs": [
    {
     "data": {
      "text/plain": [
       "(201917, 157)"
      ]
     },
     "execution_count": 178,
     "metadata": {},
     "output_type": "execute_result"
    }
   ],
   "source": [
    "train = train_df.copy()\n",
    "target = train['target']\n",
    "del train['target']\n",
    "\n",
    "# categorical_feats = ['feature_2', 'feature_3']\n",
    "\n",
    "train.shape"
   ]
  },
  {
   "cell_type": "code",
   "execution_count": 179,
   "metadata": {
    "scrolled": true
   },
   "outputs": [
    {
     "name": "stdout",
     "output_type": "stream",
     "text": [
      "fold 1\n",
      "Training until validation scores don't improve for 100 rounds.\n",
      "[100]\ttraining's rmse: 3.60912\tvalid_1's rmse: 3.69102\n",
      "[200]\ttraining's rmse: 3.51927\tvalid_1's rmse: 3.66086\n",
      "[300]\ttraining's rmse: 3.46588\tvalid_1's rmse: 3.65114\n",
      "[400]\ttraining's rmse: 3.42343\tvalid_1's rmse: 3.64741\n",
      "[500]\ttraining's rmse: 3.38607\tvalid_1's rmse: 3.64553\n",
      "[600]\ttraining's rmse: 3.3545\tvalid_1's rmse: 3.64463\n",
      "[700]\ttraining's rmse: 3.32537\tvalid_1's rmse: 3.6438\n",
      "Early stopping, best iteration is:\n",
      "[684]\ttraining's rmse: 3.32958\tvalid_1's rmse: 3.6436\n",
      "fold 2\n",
      "Training until validation scores don't improve for 100 rounds.\n",
      "[100]\ttraining's rmse: 3.60595\tvalid_1's rmse: 3.6974\n",
      "[200]\ttraining's rmse: 3.51661\tvalid_1's rmse: 3.6735\n",
      "[300]\ttraining's rmse: 3.45942\tvalid_1's rmse: 3.66375\n",
      "[400]\ttraining's rmse: 3.41739\tvalid_1's rmse: 3.65964\n",
      "[500]\ttraining's rmse: 3.38143\tvalid_1's rmse: 3.65674\n",
      "[600]\ttraining's rmse: 3.34993\tvalid_1's rmse: 3.65519\n",
      "[700]\ttraining's rmse: 3.32129\tvalid_1's rmse: 3.65394\n",
      "[800]\ttraining's rmse: 3.29572\tvalid_1's rmse: 3.65384\n",
      "[900]\ttraining's rmse: 3.26937\tvalid_1's rmse: 3.65376\n",
      "Early stopping, best iteration is:\n",
      "[868]\ttraining's rmse: 3.27772\tvalid_1's rmse: 3.65326\n",
      "fold 3\n",
      "Training until validation scores don't improve for 100 rounds.\n",
      "[100]\ttraining's rmse: 3.60953\tvalid_1's rmse: 3.68094\n",
      "[200]\ttraining's rmse: 3.52038\tvalid_1's rmse: 3.65501\n",
      "[300]\ttraining's rmse: 3.46315\tvalid_1's rmse: 3.64528\n",
      "[400]\ttraining's rmse: 3.41904\tvalid_1's rmse: 3.64018\n",
      "[500]\ttraining's rmse: 3.38292\tvalid_1's rmse: 3.63871\n",
      "[600]\ttraining's rmse: 3.35119\tvalid_1's rmse: 3.63839\n",
      "[700]\ttraining's rmse: 3.3196\tvalid_1's rmse: 3.63822\n",
      "Early stopping, best iteration is:\n",
      "[655]\ttraining's rmse: 3.33346\tvalid_1's rmse: 3.63765\n",
      "fold 4\n",
      "Training until validation scores don't improve for 100 rounds.\n",
      "[100]\ttraining's rmse: 3.60164\tvalid_1's rmse: 3.70421\n",
      "[200]\ttraining's rmse: 3.51114\tvalid_1's rmse: 3.68211\n",
      "[300]\ttraining's rmse: 3.45389\tvalid_1's rmse: 3.67307\n",
      "[400]\ttraining's rmse: 3.40994\tvalid_1's rmse: 3.66938\n",
      "[500]\ttraining's rmse: 3.37385\tvalid_1's rmse: 3.66771\n",
      "[600]\ttraining's rmse: 3.34173\tvalid_1's rmse: 3.66648\n",
      "[700]\ttraining's rmse: 3.3124\tvalid_1's rmse: 3.66557\n",
      "Early stopping, best iteration is:\n",
      "[681]\ttraining's rmse: 3.31781\tvalid_1's rmse: 3.6652\n",
      "fold 5\n",
      "Training until validation scores don't improve for 100 rounds.\n",
      "[100]\ttraining's rmse: 3.60492\tvalid_1's rmse: 3.70033\n",
      "[200]\ttraining's rmse: 3.51536\tvalid_1's rmse: 3.67678\n",
      "[300]\ttraining's rmse: 3.45514\tvalid_1's rmse: 3.66794\n",
      "[400]\ttraining's rmse: 3.41108\tvalid_1's rmse: 3.66392\n",
      "[500]\ttraining's rmse: 3.37403\tvalid_1's rmse: 3.66152\n",
      "[600]\ttraining's rmse: 3.3408\tvalid_1's rmse: 3.6612\n",
      "[700]\ttraining's rmse: 3.31004\tvalid_1's rmse: 3.66088\n",
      "[800]\ttraining's rmse: 3.2821\tvalid_1's rmse: 3.66103\n",
      "Early stopping, best iteration is:\n",
      "[735]\ttraining's rmse: 3.30039\tvalid_1's rmse: 3.66041\n",
      "3.6520393465322947\n"
     ]
    }
   ],
   "source": [
    "param = {'num_leaves': 31,\n",
    "         'min_data_in_leaf': 30, \n",
    "         'objective':'regression',\n",
    "         'max_depth': -1,\n",
    "         'learning_rate': 0.015,\n",
    "         \"min_child_samples\": 20,\n",
    "         \"boosting\": \"gbdt\",\n",
    "         \"feature_fraction\": 0.9,\n",
    "         \"bagging_freq\": 1,\n",
    "         \"bagging_fraction\": 0.9 ,\n",
    "         \"bagging_seed\": 11,\n",
    "         \"metric\": 'rmse',\n",
    "         \"lambda_l1\": 0.1,\n",
    "         \"verbosity\": -1,\n",
    "         \"nthread\": 24,\n",
    "         \"random_state\": 2019}\n",
    "\n",
    "#prepare fit model with cross-validation\n",
    "folds = StratifiedKFold(n_splits=5, shuffle=True, random_state=2019)\n",
    "oof = np.zeros(len(train))\n",
    "predictions = np.zeros(len(test_df))\n",
    "feature_importance_df = pd.DataFrame()\n",
    "\n",
    "for fold_, (trn_idx, val_idx) in enumerate(folds.split(train, train['outliers'].values)):\n",
    "    strLog = \"fold {}\".format(fold_+1)\n",
    "    print(strLog)\n",
    "    trn_data = lgb.Dataset(train.iloc[trn_idx][train_columns], label=target.iloc[trn_idx])#, categorical_feature=categorical_feats)\n",
    "    val_data = lgb.Dataset(train.iloc[val_idx][train_columns], label=target.iloc[val_idx])#, categorical_feature=categorical_feats)\n",
    "\n",
    "    num_round = 10000\n",
    "    clf = lgb.train(param, trn_data, num_round, valid_sets = [trn_data, val_data], verbose_eval=100, early_stopping_rounds = 100)\n",
    "    oof[val_idx] = clf.predict(train.iloc[val_idx][train_columns], num_iteration=clf.best_iteration)\n",
    "    \n",
    "    #feature importance\n",
    "    fold_importance_df = pd.DataFrame()\n",
    "    fold_importance_df[\"Feature\"] = train_columns\n",
    "    fold_importance_df[\"importance\"] = clf.feature_importance()\n",
    "    fold_importance_df[\"fold\"] = fold_ + 1\n",
    "    feature_importance_df = pd.concat([feature_importance_df, fold_importance_df], axis=0)\n",
    "    #predictions\n",
    "    predictions += clf.predict(test_df[train_columns], num_iteration=clf.best_iteration) / folds.n_splits\n",
    "    \n",
    "cv_score = np.sqrt(mean_squared_error(oof, target))\n",
    "print(cv_score)"
   ]
  },
  {
   "cell_type": "code",
   "execution_count": 143,
   "metadata": {},
   "outputs": [
    {
     "data": {
      "image/png": "[encoded data removed]",
      "text/plain": [
       "<Figure size 1008x1872 with 1 Axes>"
      ]
     },
     "metadata": {},
     "output_type": "display_data"
    }
   ],
   "source": [
    "filename = '{}_cv{:.6f}'.format(datetime.now().strftime('%Y%m%d_%H%M%S'), cv_score)\n",
    "\n",
    "cols = (feature_importance_df[[\"Feature\", \"importance\"]]\n",
    "        .groupby(\"Feature\")\n",
    "        .mean()\n",
    "        .sort_values(by=\"importance\", ascending=False)[:1000].index)\n",
    "best_features = feature_importance_df.loc[feature_importance_df.Feature.isin(cols)]\n",
    "\n",
    "plt.figure(figsize=(14,26))\n",
    "sns.barplot(x=\"importance\", y=\"Feature\", data=best_features.sort_values(by=\"importance\",ascending=False))\n",
    "plt.title('LightGBM Features (averaged over folds)')\n",
    "plt.tight_layout()\n",
    "plt.savefig('fi/{}_lgbm_importances.png'.format(filename))"
   ]
  },
  {
   "cell_type": "code",
   "execution_count": 359,
   "metadata": {},
   "outputs": [],
   "source": [
    "sub_df = pd.DataFrame({\"card_id\":test_df[\"card_id\"].values})\n",
    "sub_df[\"target\"] = predictions\n",
    "#sub_df.loc[sub_df['target']<-9,'target'] = -33.21928095\n",
    "sub_df.to_csv(\"output/submission_{}.csv\".format(filename), index=False)"
   ]
  },
  {
   "cell_type": "markdown",
   "metadata": {},
   "source": [
    "    실패한 피쳐"
   ]
  },
  {
   "cell_type": "code",
   "execution_count": 493,
   "metadata": {
    "scrolled": true
   },
   "outputs": [],
   "source": [
    "all_df['card_id_total'] = all_df['auth_0_card_id_card_id_size'] + all_df['auth_1_card_id_card_id_size'] + all_df['new_hist_card_id_card_id_size']\n",
    "all_df['card_id_diff'] = all_df['auth_0_card_id_card_id_size'] + all_df['auth_1_card_id_card_id_size'] - all_df['new_hist_card_id_card_id_size']\n",
    "all_df['card_id_ratio'] = (all_df['auth_0_card_id_card_id_size'] + all_df['auth_1_card_id_card_id_size'])/all_df['new_hist_card_id_card_id_size']"
   ]
  },
  {
   "cell_type": "markdown",
   "metadata": {},
   "source": [
    "### 위에까지 확정된 Feature"
   ]
  },
  {
   "cell_type": "code",
   "execution_count": 335,
   "metadata": {},
   "outputs": [
    {
     "name": "stdout",
     "output_type": "stream",
     "text": [
      "['card_id', 'merchant_id'] ['purchase_date'] ['size']\n"
     ]
    }
   ],
   "source": [
    "group_df = groupby_helper(historical_trans_df,['card_id','merchant_id'],['purchase_date'],['size'])\n",
    "temp = group_df.groupby(['card_id'])['card_id_merchant_id_purchase_date_size'].apply(pd.DataFrame.kurt)\n",
    "temp = temp.reset_index()\n",
    "temp.columns = ['card_id','card_id_merchant_id_purchase_date_size_kurtosis']\n",
    "all_df = all_df.merge(temp, on='card_id', how='left')"
   ]
  },
  {
   "cell_type": "code",
   "execution_count": null,
   "metadata": {},
   "outputs": [],
   "source": [
    "group_df = groupby_helper(historical_trans_df,['card_id'], 'purchase_date',['min', 'max'],'temp_temp')\n",
    "all_df = all_df.merge(group_df, on='card_id', how='left')\n",
    "all_df['new_hist_hist_first_buy'] = (all_df['new_hist_card_id_purchase_date_min'] - all_df['first_active_month']).dt.days\n",
    "all_df['new_hist_hist_last_buy'] = (all_df['new_hist_card_id_purchase_date_max'] - all_df['first_active_month']).dt.days\n",
    "del all_df['card_id_purchase_date_min'], all_df['card_id_purchase_date_max']"
   ]
  },
  {
   "cell_type": "code",
   "execution_count": 508,
   "metadata": {},
   "outputs": [],
   "source": [
    "all_df['first_active_month'] = pd.DatetimeIndex(all_df['first_active_month']).\\\n",
    "                                      astype(np.int64) * 1e-9"
   ]
  },
  {
   "cell_type": "code",
   "execution_count": 529,
   "metadata": {},
   "outputs": [
    {
     "name": "stdout",
     "output_type": "stream",
     "text": [
      "['card_id'] hour ['mean']\n",
      "['card_id'] weekofyear ['mean']\n"
     ]
    }
   ],
   "source": [
    "group_df = groupby_helper(historical_trans_df,['card_id'], 'hour',['mean'])\n",
    "all_df = all_df.merge(group_df, on='card_id', how='left')\n",
    "\n",
    "group_df = groupby_helper(historical_trans_df,['card_id'], 'weekofyear',['mean'])\n",
    "all_df = all_df.merge(group_df, on='card_id', how='left')"
   ]
  },
  {
   "cell_type": "code",
   "execution_count": null,
   "metadata": {},
   "outputs": [],
   "source": [
    "all_df['first_active_month']."
   ]
  },
  {
   "cell_type": "code",
   "execution_count": 500,
   "metadata": {},
   "outputs": [
    {
     "name": "stdout",
     "output_type": "stream",
     "text": [
      "['card_id'] weekofyear ['nunique', 'mean', 'min', 'max']\n"
     ]
    }
   ],
   "source": [
    "group_df = groupby_helper(historical_trans_df,['card_id'], 'weekofyear',['nunique', 'mean'])\n",
    "all_df = all_df.merge(group_df, on='card_id', how='left')"
   ]
  },
  {
   "cell_type": "code",
   "execution_count": null,
   "metadata": {},
   "outputs": [],
   "source": [
    "group_df = groupby_helper(new_merchant_trans_df,['card_id'], 'weekofyear',['nunique', 'mean'],'new_hist')\n",
    "all_df = all_df.merge(group_df, on='card_id', how='left')"
   ]
  },
  {
   "cell_type": "code",
   "execution_count": 467,
   "metadata": {
    "scrolled": true
   },
   "outputs": [
    {
     "name": "stdout",
     "output_type": "stream",
     "text": [
      "['card_id', 'month_lag'] purchase_amount ['count', 'sum', 'mean', 'min', 'max', 'std']\n",
      "['card_id'] card_id_month_lag_purchase_amount_count ['mean', 'std']\n",
      "['card_id'] card_id_month_lag_purchase_amount_sum ['mean', 'std']\n",
      "['card_id'] card_id_month_lag_purchase_amount_mean ['mean', 'std']\n",
      "['card_id'] card_id_month_lag_purchase_amount_min ['mean', 'std']\n",
      "['card_id'] card_id_month_lag_purchase_amount_max ['mean', 'std']\n",
      "['card_id'] card_id_month_lag_purchase_amount_std ['mean', 'std']\n"
     ]
    }
   ],
   "source": [
    "temp = groupby_helper(historical_trans_df,['card_id','month_lag'], 'purchase_amount',['count', 'sum', 'mean', 'min', 'max', 'std'])\n",
    "for col in ['card_id_month_lag_purchase_amount_count',\n",
    "       'card_id_month_lag_purchase_amount_sum',\n",
    "       'card_id_month_lag_purchase_amount_mean',\n",
    "       'card_id_month_lag_purchase_amount_min',\n",
    "       'card_id_month_lag_purchase_amount_max',\n",
    "       'card_id_month_lag_purchase_amount_std']:\n",
    "    group_df = groupby_helper(temp,['card_id'], col,['mean','std'])\n",
    "    all_df = all_df.merge(group_df, on=['card_id'], how='left')"
   ]
  },
  {
   "cell_type": "code",
   "execution_count": 421,
   "metadata": {},
   "outputs": [],
   "source": [
    "new_merchant_trans_df.loc[:, 'purchase_date'] = pd.DatetimeIndex(new_merchant_trans_df['purchase_date']).\\\n",
    "                                      astype(np.int64) * 1e-9"
   ]
  },
  {
   "cell_type": "code",
   "execution_count": 419,
   "metadata": {},
   "outputs": [],
   "source": [
    "historical_trans_df.loc[:, 'purchase_date'] = pd.DatetimeIndex(historical_trans_df['purchase_date']).\\\n",
    "                                      astype(np.int64) * 1e-9"
   ]
  },
  {
   "cell_type": "code",
   "execution_count": 436,
   "metadata": {},
   "outputs": [],
   "source": [
    "historical_transactions.loc[:, 'purchase_date'] = pd.DatetimeIndex(historical_transactions['purchase_date']).\\\n",
    "                                      astype(np.int64) * 1e-9"
   ]
  },
  {
   "cell_type": "code",
   "execution_count": 437,
   "metadata": {},
   "outputs": [],
   "source": [
    "authorized_transactions.loc[:, 'purchase_date'] = pd.DatetimeIndex(authorized_transactions['purchase_date']).\\\n",
    "                                      astype(np.int64) * 1e-9"
   ]
  },
  {
   "cell_type": "code",
   "execution_count": 446,
   "metadata": {},
   "outputs": [
    {
     "name": "stdout",
     "output_type": "stream",
     "text": [
      "['card_id'] purchase_date ['min', 'max']\n"
     ]
    }
   ],
   "source": [
    "group_df = groupby_helper(historical_trans_df,['card_id'], 'purchase_date',['min', 'max'])\n",
    "all_df = all_df.merge(group_df, on=['card_id'], how='left')"
   ]
  },
  {
   "cell_type": "code",
   "execution_count": 440,
   "metadata": {},
   "outputs": [
    {
     "name": "stdout",
     "output_type": "stream",
     "text": [
      "['card_id'] purchase_date [<function ptp at 0x7f93dc0ad950>, 'min', 'max']\n",
      "['card_id'] purchase_date [<function ptp at 0x7f93dc0ad950>, 'min', 'max']\n"
     ]
    }
   ],
   "source": [
    "group_df = groupby_helper(historical_transactions,['card_id'], 'purchase_date',[np.ptp,'min', 'max'],'auth_0')\n",
    "all_df = all_df.merge(group_df, on=['card_id'], how='left')\n",
    "group_df = groupby_helper(authorized_transactions,['card_id'], 'purchase_date',[np.ptp,'min', 'max'],'auth_1')\n",
    "all_df = all_df.merge(group_df, on=['card_id'], how='left')\n"
   ]
  },
  {
   "cell_type": "code",
   "execution_count": 50,
   "metadata": {},
   "outputs": [
    {
     "name": "stdout",
     "output_type": "stream",
     "text": [
      "['card_id'] category_3_0.0 ['mean']\n",
      "['card_id'] category_3_1.0 ['mean']\n",
      "['card_id'] category_3_2.0 ['mean']\n"
     ]
    }
   ],
   "source": [
    "group_df = groupby_helper(historical_trans_df,['card_id'], 'category_3_0.0',['mean'])\n",
    "all_df = all_df.merge(group_df, on=['card_id'], how='left')\n",
    "group_df = groupby_helper(historical_trans_df,['card_id'], 'category_3_1.0',['mean'])\n",
    "all_df = all_df.merge(group_df, on=['card_id'], how='left')\n",
    "group_df = groupby_helper(historical_trans_df,['card_id'], 'category_3_2.0',['mean'])\n",
    "all_df = all_df.merge(group_df, on=['card_id'], how='left')"
   ]
  },
  {
   "cell_type": "code",
   "execution_count": 51,
   "metadata": {},
   "outputs": [
    {
     "name": "stdout",
     "output_type": "stream",
     "text": [
      "['card_id'] category_3_0.0 ['mean']\n",
      "['card_id'] category_3_1.0 ['mean']\n",
      "['card_id'] category_3_2.0 ['mean']\n"
     ]
    }
   ],
   "source": [
    "group_df = groupby_helper(new_merchant_trans_df,['card_id'], 'category_3_0.0',['mean'],'new_hist')\n",
    "all_df = all_df.merge(group_df, on=['card_id'], how='left')\n",
    "group_df = groupby_helper(new_merchant_trans_df,['card_id'], 'category_3_1.0',['mean'],'new_hist')\n",
    "all_df = all_df.merge(group_df, on=['card_id'], how='left')\n",
    "group_df = groupby_helper(new_merchant_trans_df,['card_id'], 'category_3_2.0',['mean'],'new_hist')\n",
    "all_df = all_df.merge(group_df, on=['card_id'], how='left')"
   ]
  },
  {
   "cell_type": "code",
   "execution_count": 409,
   "metadata": {},
   "outputs": [
    {
     "name": "stdout",
     "output_type": "stream",
     "text": [
      "['card_id'] category_3_0.0 ['mean']\n",
      "['card_id'] category_3_0.0 ['mean']\n",
      "['card_id'] category_3_1.0 ['mean']\n",
      "['card_id'] category_3_1.0 ['mean']\n",
      "['card_id'] category_3_2.0 ['mean']\n",
      "['card_id'] category_3_2.0 ['mean']\n"
     ]
    }
   ],
   "source": [
    "group_df = groupby_helper(historical_transactions,['card_id'], 'category_3_0.0',['mean'],'auth_0')\n",
    "all_df = all_df.merge(group_df, on=['card_id'], how='left')\n",
    "group_df = groupby_helper(authorized_transactions,['card_id'], 'category_3_0.0',['mean'],'auth_1')\n",
    "all_df = all_df.merge(group_df, on=['card_id'], how='left')\n",
    "group_df = groupby_helper(historical_transactions,['card_id'], 'category_3_1.0',['mean'],'auth_0')\n",
    "all_df = all_df.merge(group_df, on=['card_id'], how='left')\n",
    "group_df = groupby_helper(authorized_transactions,['card_id'], 'category_3_1.0',['mean'],'auth_1')\n",
    "all_df = all_df.merge(group_df, on=['card_id'], how='left')\n",
    "group_df = groupby_helper(historical_transactions,['card_id'], 'category_3_2.0',['mean'],'auth_0')\n",
    "all_df = all_df.merge(group_df, on=['card_id'], how='left')\n",
    "group_df = groupby_helper(authorized_transactions,['card_id'], 'category_3_2.0',['mean'],'auth_1')\n",
    "all_df = all_df.merge(group_df, on=['card_id'], how='left')"
   ]
  },
  {
   "cell_type": "code",
   "execution_count": 129,
   "metadata": {},
   "outputs": [
    {
     "name": "stdout",
     "output_type": "stream",
     "text": [
      "['card_id'] installments ['sum', 'max', 'min', 'mean', 'std']\n",
      "['card_id'] installments ['sum', 'max', 'min', 'mean', 'std']\n"
     ]
    }
   ],
   "source": [
    "group_df = groupby_helper(historical_transactions,['card_id'], 'installments',['sum','max','min','mean','std'],'auth_0')\n",
    "all_df = all_df.merge(group_df, on=['card_id'], how='left')\n",
    "group_df = groupby_helper(authorized_transactions,['card_id'], 'installments',['sum','max','min','mean','std'],'auth_1')\n",
    "all_df = all_df.merge(group_df, on=['card_id'], how='left')\n"
   ]
  },
  {
   "cell_type": "code",
   "execution_count": 152,
   "metadata": {
    "collapsed": true
   },
   "outputs": [
    {
     "name": "stdout",
     "output_type": "stream",
     "text": [
      "['card_id'] installments ['sum', 'max', 'min', 'mean']\n",
      "\n"
     ]
    },
    {
     "ename": "UnboundLocalError",
     "evalue": "local variable 'group_df' referenced before assignment",
     "output_type": "error",
     "traceback": [
      "\u001b[0;31m---------------------------------------------------------------------------\u001b[0m",
      "\u001b[0;31mUnboundLocalError\u001b[0m                         Traceback (most recent call last)",
      "\u001b[0;32m<ipython-input-152-5509f4d97fd4>\u001b[0m in \u001b[0;36m<module>\u001b[0;34m()\u001b[0m\n\u001b[0;32m----> 1\u001b[0;31m \u001b[0mgroup_df\u001b[0m \u001b[0;34m=\u001b[0m \u001b[0mgroupby_helper\u001b[0m\u001b[0;34m(\u001b[0m\u001b[0mhistorical_trans_df\u001b[0m\u001b[0;34m,\u001b[0m\u001b[0;34m[\u001b[0m\u001b[0;34m'card_id'\u001b[0m\u001b[0;34m]\u001b[0m\u001b[0;34m,\u001b[0m \u001b[0;34m'installments'\u001b[0m\u001b[0;34m,\u001b[0m\u001b[0;34m[\u001b[0m\u001b[0;34m'sum'\u001b[0m\u001b[0;34m,\u001b[0m\u001b[0;34m'max'\u001b[0m\u001b[0;34m,\u001b[0m\u001b[0;34m'min'\u001b[0m\u001b[0;34m,\u001b[0m\u001b[0;34m'mean'\u001b[0m\u001b[0;34m]\u001b[0m\u001b[0;34m)\u001b[0m\u001b[0;34m\u001b[0m\u001b[0m\n\u001b[0m\u001b[1;32m      2\u001b[0m \u001b[0mall_df\u001b[0m \u001b[0;34m=\u001b[0m \u001b[0mall_df\u001b[0m\u001b[0;34m.\u001b[0m\u001b[0mmerge\u001b[0m\u001b[0;34m(\u001b[0m\u001b[0mgroup_df\u001b[0m\u001b[0;34m,\u001b[0m \u001b[0mon\u001b[0m\u001b[0;34m=\u001b[0m\u001b[0;34m[\u001b[0m\u001b[0;34m'card_id'\u001b[0m\u001b[0;34m]\u001b[0m\u001b[0;34m,\u001b[0m \u001b[0mhow\u001b[0m\u001b[0;34m=\u001b[0m\u001b[0;34m'left'\u001b[0m\u001b[0;34m)\u001b[0m\u001b[0;34m\u001b[0m\u001b[0m\n\u001b[1;32m      3\u001b[0m \u001b[0;34m\u001b[0m\u001b[0m\n\u001b[1;32m      4\u001b[0m \u001b[0mgroup_df\u001b[0m \u001b[0;34m=\u001b[0m \u001b[0mgroupby_helper\u001b[0m\u001b[0;34m(\u001b[0m\u001b[0mhistorical_trans_df\u001b[0m\u001b[0;34m,\u001b[0m\u001b[0;34m[\u001b[0m\u001b[0;34m'card_id'\u001b[0m\u001b[0;34m]\u001b[0m\u001b[0;34m,\u001b[0m \u001b[0;34m'month_lag'\u001b[0m\u001b[0;34m,\u001b[0m\u001b[0;34m[\u001b[0m\u001b[0;34m'max'\u001b[0m\u001b[0;34m,\u001b[0m\u001b[0;34m'min'\u001b[0m\u001b[0;34m,\u001b[0m\u001b[0;34m'mean'\u001b[0m\u001b[0;34m,\u001b[0m\u001b[0;34m'std'\u001b[0m\u001b[0;34m]\u001b[0m\u001b[0;34m)\u001b[0m\u001b[0;34m\u001b[0m\u001b[0m\n\u001b[1;32m      5\u001b[0m \u001b[0mall_df\u001b[0m \u001b[0;34m=\u001b[0m \u001b[0mall_df\u001b[0m\u001b[0;34m.\u001b[0m\u001b[0mmerge\u001b[0m\u001b[0;34m(\u001b[0m\u001b[0mgroup_df\u001b[0m\u001b[0;34m,\u001b[0m \u001b[0mon\u001b[0m\u001b[0;34m=\u001b[0m\u001b[0;34m[\u001b[0m\u001b[0;34m'card_id'\u001b[0m\u001b[0;34m]\u001b[0m\u001b[0;34m,\u001b[0m \u001b[0mhow\u001b[0m\u001b[0;34m=\u001b[0m\u001b[0;34m'left'\u001b[0m\u001b[0;34m)\u001b[0m\u001b[0;34m\u001b[0m\u001b[0m\n",
      "\u001b[0;32m<ipython-input-9-7ae5b8c2ef03>\u001b[0m in \u001b[0;36mgroupby_helper\u001b[0;34m(df, group_col, target_col, agg_method, prefix_param)\u001b[0m\n\u001b[1;32m     20\u001b[0m     \u001b[0;32mexcept\u001b[0m \u001b[0mBaseException\u001b[0m \u001b[0;32mas\u001b[0m \u001b[0me\u001b[0m\u001b[0;34m:\u001b[0m\u001b[0;34m\u001b[0m\u001b[0m\n\u001b[1;32m     21\u001b[0m         \u001b[0mprint\u001b[0m\u001b[0;34m(\u001b[0m\u001b[0me\u001b[0m\u001b[0;34m)\u001b[0m\u001b[0;34m\u001b[0m\u001b[0m\n\u001b[0;32m---> 22\u001b[0;31m     \u001b[0;32mreturn\u001b[0m \u001b[0mgroup_df\u001b[0m\u001b[0;34m.\u001b[0m\u001b[0mreset_index\u001b[0m\u001b[0;34m(\u001b[0m\u001b[0;34m)\u001b[0m\u001b[0;34m\u001b[0m\u001b[0m\n\u001b[0m",
      "\u001b[0;31mUnboundLocalError\u001b[0m: local variable 'group_df' referenced before assignment"
     ]
    }
   ],
   "source": [
    "group_df = groupby_helper(historical_trans_df,['card_id'], 'installments',['sum','max','min','mean'])\n",
    "all_df = all_df.merge(group_df, on=['card_id'], how='left')\n",
    "\n",
    "group_df = groupby_helper(historical_trans_df,['card_id'], 'month_lag',['max','min','mean','std'])\n",
    "all_df = all_df.merge(group_df, on=['card_id'], how='left')"
   ]
  }
 ],
 "metadata": {
  "kernelspec": {
   "display_name": "Python 3",
   "language": "python",
   "name": "python3"
  },
  "language_info": {
   "codemirror_mode": {
    "name": "ipython",
    "version": 3
   },
   "file_extension": ".py",
   "mimetype": "text/x-python",
   "name": "python",
   "nbconvert_exporter": "python",
   "pygments_lexer": "ipython3",
   "version": "3.6.5"
  }
 },
 "nbformat": 4,
 "nbformat_minor": 2
}
