{
 "cells": [
  {
   "cell_type": "code",
   "execution_count": 1,
   "metadata": {},
   "outputs": [
    {
     "data": {
      "text/plain": [
       "\"\\n\\nLICENSE MIT\\n2020\\nGuillaume Rozier\\nWebsite : http://www.covidtracker.fr\\nMail : guillaume.rozier@telecomnancy.net\\n\\nREADME:\\nThis file contains scripts that download data from data.gouv.fr and then process it to build many graphes.\\nI'm currently cleaning the code, please ask me if something is not clear enough.\\n\\nThe charts are exported to 'charts/images/france'.\\nData is download to/imported from 'data/france'.\\nRequirements: please see the imports below (use pip3 to install them).\\n\\n\""
      ]
     },
     "execution_count": 1,
     "metadata": {},
     "output_type": "execute_result"
    }
   ],
   "source": [
    "\"\"\"\n",
    "\n",
    "LICENSE MIT\n",
    "2020\n",
    "Guillaume Rozier\n",
    "Website : http://www.covidtracker.fr\n",
    "Mail : guillaume.rozier@telecomnancy.net\n",
    "\n",
    "README:\n",
    "This file contains scripts that download data from data.gouv.fr and then process it to build many graphes.\n",
    "I'm currently cleaning the code, please ask me if something is not clear enough.\n",
    "\n",
    "The charts are exported to 'charts/images/france'.\n",
    "Data is download to/imported from 'data/france'.\n",
    "Requirements: please see the imports below (use pip3 to install them).\n",
    "\n",
    "\"\"\""
   ]
  },
  {
   "cell_type": "code",
   "execution_count": 2,
   "metadata": {},
   "outputs": [],
   "source": [
    "def nbWithSpaces(nb):\n",
    "    str_nb = str(int(round(nb)))\n",
    "    if(nb>100000):\n",
    "        return str_nb[:3] + \" \" + str_nb[3:]\n",
    "    elif(nb>10000):\n",
    "        return str_nb[:2] + \" \" + str_nb[2:]\n",
    "    elif(nb>1000):\n",
    "        return str_nb[:1] + \" \" + str_nb[1:]\n",
    "    else:\n",
    "        return str_nb"
   ]
  },
  {
   "cell_type": "code",
   "execution_count": 3,
   "metadata": {},
   "outputs": [],
   "source": [
    "import pandas as pd\n",
    "PATH = \"../../\"\n",
    "import france_data_management as data\n",
    "import plotly.graph_objects as go\n",
    "import locale\n",
    "from datetime import datetime\n",
    "locale.setlocale(locale.LC_ALL, 'fr_FR.UTF-8')\n",
    "now = datetime.now()"
   ]
  },
  {
   "cell_type": "code",
   "execution_count": 24,
   "metadata": {},
   "outputs": [
    {
     "name": "stderr",
     "output_type": "stream",
     "text": [
      "36it [00:06,  5.46it/s]                      \n"
     ]
    }
   ],
   "source": [
    "data.download_data()\n",
    "df_tests =data.import_data_tests_sexe()\n",
    "df_tests = df_tests[df_tests.cl_age90 == 0]\n",
    "df_tests[\"P_rolling\"] = df_tests[\"P\"].rolling(window=7).mean()"
   ]
  },
  {
   "cell_type": "code",
   "execution_count": 25,
   "metadata": {},
   "outputs": [],
   "source": [
    "data.download_data_variants()\n",
    "df_variants = data.import_data_variants()"
   ]
  },
  {
   "cell_type": "code",
   "execution_count": 26,
   "metadata": {},
   "outputs": [],
   "source": [
    "df_variants[\"jour\"] = df_variants.semaine.apply(lambda x: x[11:]) "
   ]
  },
  {
   "cell_type": "code",
   "execution_count": 27,
   "metadata": {},
   "outputs": [],
   "source": [
    "fig = go.Figure()\n",
    "\n",
    "fig.add_trace(\n",
    "    go.Scatter(\n",
    "        x=df_variants.jour,\n",
    "        y=df_variants.tx_A1,\n",
    "        name=\"Mutation E484K (\" + str(df_variants.tx_A1.values[-1]).replace(\".\", \",\") + \" %)<br>dont Beta\",\n",
    "        showlegend=True,\n",
    "    )\n",
    ")\n",
    "\n",
    "fig.add_trace(\n",
    "    go.Scatter(\n",
    "        x=df_variants.jour,\n",
    "        y=df_variants.tx_B1,\n",
    "        name=\"Mutation E484Q (\" + str(df_variants.tx_B1.values[-1]).replace(\".\", \",\") + \" %)<br>dont Kappa\",\n",
    "    )\n",
    ")\n",
    "\n",
    "fig.add_trace(\n",
    "    go.Scatter(\n",
    "        x=df_variants.jour,\n",
    "        y=df_variants.tx_C1,\n",
    "        name=\"Mutation L452R (\" + str(df_variants.tx_C1.values[-1]).replace(\".\", \",\") + \" %)<br>dont Delta\",\n",
    "        showlegend=True,\n",
    "    )\n",
    ")\n",
    "y=100 - df_variants.tx_A1 - df_variants.tx_B1 - df_variants.tx_C1\n",
    "fig.add_trace(\n",
    "    go.Scatter(\n",
    "        x=df_variants.jour,\n",
    "        y=y,\n",
    "        name=\"Autres (\" + str(round(y.values[-1], 1)).replace(\".\", \",\") + \" %)\",\n",
    "        showlegend=True,\n",
    "    )\n",
    ")\n",
    "\n",
    "fig.update_yaxes(ticksuffix=\"%\")\n",
    "\n",
    "fig.update_layout(\n",
    "     title={\n",
    "        'text': \"Proportion de variants dans les tests positifs (en %)\",\n",
    "        'y':0.99,\n",
    "        'x':0.5,\n",
    "        'xanchor': 'center',\n",
    "        'yanchor': 'top',\n",
    "         'font': {'size': 30}\n",
    "    },\n",
    "    annotations = [\n",
    "                    dict(\n",
    "                        x=0.5,\n",
    "                        y=1.1,\n",
    "                        xref='paper',\n",
    "                        yref='paper',\n",
    "                        text='Mis à jour le {}. Données : Santé publique France. Auteur : @guillaumerozier - covidtracker.fr.'.format(now.strftime('%d %B')),\n",
    "                        showarrow = False\n",
    "                    )]\n",
    ")\n",
    "fig.write_image(PATH+\"images/charts/france/{}.jpeg\".format(\"variants_pourcent\"), scale=2, width=1000, height=600)\n"
   ]
  },
  {
   "cell_type": "code",
   "execution_count": 28,
   "metadata": {},
   "outputs": [
    {
     "ename": "ValueError",
     "evalue": "cannot convert float NaN to integer",
     "output_type": "error",
     "traceback": [
      "\u001b[0;31m---------------------------------------------------------------------------\u001b[0m",
      "\u001b[0;31mValueError\u001b[0m                                Traceback (most recent call last)",
      "\u001b[0;32m<ipython-input-28-0f3f48d1a7e0>\u001b[0m in \u001b[0;36m<module>\u001b[0;34m\u001b[0m\n\u001b[1;32m      8\u001b[0m         \u001b[0mx\u001b[0m\u001b[0;34m=\u001b[0m\u001b[0mdf_variants\u001b[0m\u001b[0;34m.\u001b[0m\u001b[0mjour\u001b[0m\u001b[0;34m,\u001b[0m\u001b[0;34m\u001b[0m\u001b[0;34m\u001b[0m\u001b[0m\n\u001b[1;32m      9\u001b[0m         \u001b[0my\u001b[0m\u001b[0;34m=\u001b[0m\u001b[0my\u001b[0m\u001b[0;34m,\u001b[0m\u001b[0;34m\u001b[0m\u001b[0;34m\u001b[0m\u001b[0m\n\u001b[0;32m---> 10\u001b[0;31m         \u001b[0mname\u001b[0m\u001b[0;34m=\u001b[0m\u001b[0;34m\"<b>Autres souches</b><br>\"\u001b[0m \u001b[0;34m+\u001b[0m \u001b[0mstr\u001b[0m\u001b[0;34m(\u001b[0m\u001b[0mnbWithSpaces\u001b[0m\u001b[0;34m(\u001b[0m\u001b[0my\u001b[0m\u001b[0;34m[\u001b[0m\u001b[0;34m-\u001b[0m\u001b[0;36m1\u001b[0m\u001b[0;34m]\u001b[0m\u001b[0;34m)\u001b[0m\u001b[0;34m)\u001b[0m\u001b[0;34m.\u001b[0m\u001b[0mreplace\u001b[0m\u001b[0;34m(\u001b[0m\u001b[0;34m\".\"\u001b[0m\u001b[0;34m,\u001b[0m \u001b[0;34m\",\"\u001b[0m\u001b[0;34m)\u001b[0m \u001b[0;34m+\u001b[0m \u001b[0;34m\" (\"\u001b[0m \u001b[0;34m+\u001b[0m \u001b[0mstr\u001b[0m\u001b[0;34m(\u001b[0m\u001b[0mround\u001b[0m\u001b[0;34m(\u001b[0m\u001b[0mpourcent\u001b[0m\u001b[0;34m[\u001b[0m\u001b[0;34m-\u001b[0m\u001b[0;36m1\u001b[0m\u001b[0;34m]\u001b[0m\u001b[0;34m,\u001b[0m \u001b[0;36m1\u001b[0m\u001b[0;34m)\u001b[0m\u001b[0;34m)\u001b[0m\u001b[0;34m.\u001b[0m\u001b[0mreplace\u001b[0m\u001b[0;34m(\u001b[0m\u001b[0;34m\".\"\u001b[0m\u001b[0;34m,\u001b[0m \u001b[0;34m\",\"\u001b[0m\u001b[0;34m)\u001b[0m \u001b[0;34m+\u001b[0m \u001b[0;34m\" %) \"\u001b[0m\u001b[0;34m,\u001b[0m\u001b[0;34m\u001b[0m\u001b[0;34m\u001b[0m\u001b[0m\n\u001b[0m\u001b[1;32m     11\u001b[0m         \u001b[0mstackgroup\u001b[0m\u001b[0;34m=\u001b[0m\u001b[0;34m'one'\u001b[0m\u001b[0;34m\u001b[0m\u001b[0;34m\u001b[0m\u001b[0m\n\u001b[1;32m     12\u001b[0m     )\n",
      "\u001b[0;32m<ipython-input-2-aed9880ee492>\u001b[0m in \u001b[0;36mnbWithSpaces\u001b[0;34m(nb)\u001b[0m\n\u001b[1;32m      1\u001b[0m \u001b[0;32mdef\u001b[0m \u001b[0mnbWithSpaces\u001b[0m\u001b[0;34m(\u001b[0m\u001b[0mnb\u001b[0m\u001b[0;34m)\u001b[0m\u001b[0;34m:\u001b[0m\u001b[0;34m\u001b[0m\u001b[0;34m\u001b[0m\u001b[0m\n\u001b[0;32m----> 2\u001b[0;31m     \u001b[0mstr_nb\u001b[0m \u001b[0;34m=\u001b[0m \u001b[0mstr\u001b[0m\u001b[0;34m(\u001b[0m\u001b[0mint\u001b[0m\u001b[0;34m(\u001b[0m\u001b[0mround\u001b[0m\u001b[0;34m(\u001b[0m\u001b[0mnb\u001b[0m\u001b[0;34m)\u001b[0m\u001b[0;34m)\u001b[0m\u001b[0;34m)\u001b[0m\u001b[0;34m\u001b[0m\u001b[0;34m\u001b[0m\u001b[0m\n\u001b[0m\u001b[1;32m      3\u001b[0m     \u001b[0;32mif\u001b[0m\u001b[0;34m(\u001b[0m\u001b[0mnb\u001b[0m\u001b[0;34m>\u001b[0m\u001b[0;36m100000\u001b[0m\u001b[0;34m)\u001b[0m\u001b[0;34m:\u001b[0m\u001b[0;34m\u001b[0m\u001b[0;34m\u001b[0m\u001b[0m\n\u001b[1;32m      4\u001b[0m         \u001b[0;32mreturn\u001b[0m \u001b[0mstr_nb\u001b[0m\u001b[0;34m[\u001b[0m\u001b[0;34m:\u001b[0m\u001b[0;36m3\u001b[0m\u001b[0;34m]\u001b[0m \u001b[0;34m+\u001b[0m \u001b[0;34m\" \"\u001b[0m \u001b[0;34m+\u001b[0m \u001b[0mstr_nb\u001b[0m\u001b[0;34m[\u001b[0m\u001b[0;36m3\u001b[0m\u001b[0;34m:\u001b[0m\u001b[0;34m]\u001b[0m\u001b[0;34m\u001b[0m\u001b[0;34m\u001b[0m\u001b[0m\n\u001b[1;32m      5\u001b[0m     \u001b[0;32melif\u001b[0m\u001b[0;34m(\u001b[0m\u001b[0mnb\u001b[0m\u001b[0;34m>\u001b[0m\u001b[0;36m10000\u001b[0m\u001b[0;34m)\u001b[0m\u001b[0;34m:\u001b[0m\u001b[0;34m\u001b[0m\u001b[0;34m\u001b[0m\u001b[0m\n",
      "\u001b[0;31mValueError\u001b[0m: cannot convert float NaN to integer"
     ]
    }
   ],
   "source": [
    "fig = go.Figure()\n",
    "n_days = len(df_variants)\n",
    "\n",
    "pourcent=100 - df_variants.tx_C1.values\n",
    "y=df_tests[\"P_rolling\"].values[-n_days:] * pourcent/100\n",
    "fig.add_trace(\n",
    "    go.Scatter(\n",
    "        x=df_variants.jour,\n",
    "        y=y,\n",
    "        name=\"<b>Autres souches</b><br>\" + str(nbWithSpaces(y[-1])).replace(\".\", \",\") + \" (\" + str(round(pourcent[-1], 1)).replace(\".\", \",\") + \" %) \",\n",
    "        stackgroup='one'\n",
    "    )\n",
    ")\n",
    "\n",
    "pourcent=df_variants.tx_C1.values\n",
    "y=df_tests[\"P_rolling\"].values[-n_days:] * pourcent/100\n",
    "fig.add_trace(\n",
    "    go.Scatter(\n",
    "        x=df_variants.jour,\n",
    "        y=y,\n",
    "        name=\"Mutation L452R, dont <b>Delta </b><br>\" + str(nbWithSpaces(y[-1])).replace(\".\", \",\") + \" (\" + str(pourcent[-1]).replace(\".\", \",\") + \" %) \",\n",
    "        stackgroup='one'\n",
    "    )\n",
    ")\n",
    "\n",
    "\n",
    "fig.update_yaxes(ticksuffix=\"\")\n",
    "\n",
    "fig.update_layout(\n",
    "     title={\n",
    "        'text': \"Nombre de variants dans les cas détectés\",\n",
    "        'y':0.99,\n",
    "        'x':0.5,\n",
    "        'xanchor': 'center',\n",
    "        'yanchor': 'top',\n",
    "         'font': {'size': 30}\n",
    "    },\n",
    "    annotations = [\n",
    "                    dict(\n",
    "                        x=0.5,\n",
    "                        y=1.1,\n",
    "                        xref='paper',\n",
    "                        yref='paper',\n",
    "                        text='Mis à jour : {}. Données : Santé publique France. Auteur : @guillaumerozier - covidtracker.fr.'.format(now.strftime('%d %B')),\n",
    "                        showarrow = False\n",
    "                    )]\n",
    ")\n",
    "fig.write_image(PATH+\"images/charts/france/{}.jpeg\".format(\"variants_nombre\"), scale=2, width=1000, height=600)\n"
   ]
  }
 ],
 "metadata": {
  "kernelspec": {
   "display_name": "Python 3",
   "language": "python",
   "name": "python3"
  },
  "language_info": {
   "codemirror_mode": {
    "name": "ipython",
    "version": 3
   },
   "file_extension": ".py",
   "mimetype": "text/x-python",
   "name": "python",
   "nbconvert_exporter": "python",
   "pygments_lexer": "ipython3",
   "version": "3.7.4"
  }
 },
 "nbformat": 4,
 "nbformat_minor": 2
}
