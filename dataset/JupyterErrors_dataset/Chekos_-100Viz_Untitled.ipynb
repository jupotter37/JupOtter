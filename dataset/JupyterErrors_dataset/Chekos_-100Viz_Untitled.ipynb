{
 "cells": [
  {
   "cell_type": "markdown",
   "metadata": {},
   "source": [
    "# Daily Chart 01: Firefighters in California\n",
    "Source: American Community Survey, 2003-2016.<br>\n",
    "Notes: Adults (18+) in California (FIPS = 06), occupational code (OCC) 3740: Firefighters. List and dates of largest fires in California from [Wikipedia](https://en.wikipedia.org/wiki/List_of_California_wildfires)"
   ]
  },
  {
   "cell_type": "markdown",
   "metadata": {},
   "source": [
    "***\n",
    "**Set up**"
   ]
  },
  {
   "cell_type": "code",
   "execution_count": 27,
   "metadata": {},
   "outputs": [],
   "source": [
    "import pandas as pd\n",
    "import altair as alt\n",
    "\n",
    "# Theme:\n",
    "%run \"../../00 - Set Up/scripts/cimarron_theme.py\""
   ]
  },
  {
   "cell_type": "code",
   "execution_count": 2,
   "metadata": {},
   "outputs": [
    {
     "data": {
      "text/html": [
       "<div>\n",
       "<style scoped>\n",
       "    .dataframe tbody tr th:only-of-type {\n",
       "        vertical-align: middle;\n",
       "    }\n",
       "\n",
       "    .dataframe tbody tr th {\n",
       "        vertical-align: top;\n",
       "    }\n",
       "\n",
       "    .dataframe thead th {\n",
       "        text-align: right;\n",
       "    }\n",
       "</style>\n",
       "<table border=\"1\" class=\"dataframe\">\n",
       "  <thead>\n",
       "    <tr style=\"text-align: right;\">\n",
       "      <th></th>\n",
       "      <th>Year</th>\n",
       "      <th>Native</th>\n",
       "      <th>Foreign-Born</th>\n",
       "    </tr>\n",
       "  </thead>\n",
       "  <tbody>\n",
       "    <tr>\n",
       "      <th>0</th>\n",
       "      <td>2003-01-01</td>\n",
       "      <td>32985</td>\n",
       "      <td>1843</td>\n",
       "    </tr>\n",
       "    <tr>\n",
       "      <th>1</th>\n",
       "      <td>2004-01-01</td>\n",
       "      <td>39399</td>\n",
       "      <td>2789</td>\n",
       "    </tr>\n",
       "    <tr>\n",
       "      <th>2</th>\n",
       "      <td>2005-01-01</td>\n",
       "      <td>34608</td>\n",
       "      <td>1536</td>\n",
       "    </tr>\n",
       "    <tr>\n",
       "      <th>3</th>\n",
       "      <td>2006-01-01</td>\n",
       "      <td>33815</td>\n",
       "      <td>1876</td>\n",
       "    </tr>\n",
       "    <tr>\n",
       "      <th>4</th>\n",
       "      <td>2007-01-01</td>\n",
       "      <td>38985</td>\n",
       "      <td>2839</td>\n",
       "    </tr>\n",
       "  </tbody>\n",
       "</table>\n",
       "</div>"
      ],
      "text/plain": [
       "        Year  Native  Foreign-Born\n",
       "0 2003-01-01   32985          1843\n",
       "1 2004-01-01   39399          2789\n",
       "2 2005-01-01   34608          1536\n",
       "3 2006-01-01   33815          1876\n",
       "4 2007-01-01   38985          2839"
      ]
     },
     "execution_count": 2,
     "metadata": {},
     "output_type": "execute_result"
    }
   ],
   "source": [
    "df = pd.read_csv('../data/processed/Firefighters in CA.csv', parse_dates=['Year'])\n",
    "\n",
    "df.head()"
   ]
  },
  {
   "cell_type": "code",
   "execution_count": 3,
   "metadata": {},
   "outputs": [],
   "source": [
    "dff = df.melt(id_vars='Year').copy()\n",
    "dff.columns = ['year', 'native status', 'number of people',]"
   ]
  },
  {
   "cell_type": "code",
   "execution_count": 76,
   "metadata": {},
   "outputs": [
    {
     "data": {
      "text/html": [
       "<div>\n",
       "<style scoped>\n",
       "    .dataframe tbody tr th:only-of-type {\n",
       "        vertical-align: middle;\n",
       "    }\n",
       "\n",
       "    .dataframe tbody tr th {\n",
       "        vertical-align: top;\n",
       "    }\n",
       "\n",
       "    .dataframe thead th {\n",
       "        text-align: right;\n",
       "    }\n",
       "</style>\n",
       "<table border=\"1\" class=\"dataframe\">\n",
       "  <thead>\n",
       "    <tr style=\"text-align: right;\">\n",
       "      <th></th>\n",
       "      <th>end</th>\n",
       "      <th>event</th>\n",
       "      <th>start</th>\n",
       "      <th>acres</th>\n",
       "    </tr>\n",
       "  </thead>\n",
       "  <tbody>\n",
       "    <tr>\n",
       "      <th>0</th>\n",
       "      <td>2003-12-05</td>\n",
       "      <td>Cedar</td>\n",
       "      <td>2003-10-25</td>\n",
       "      <td>273246</td>\n",
       "    </tr>\n",
       "    <tr>\n",
       "      <th>1</th>\n",
       "      <td>2006-10-13</td>\n",
       "      <td>Day</td>\n",
       "      <td>2006-09-04</td>\n",
       "      <td>162702</td>\n",
       "    </tr>\n",
       "    <tr>\n",
       "      <th>2</th>\n",
       "      <td>2007-10-29</td>\n",
       "      <td>Zaca</td>\n",
       "      <td>2007-07-04</td>\n",
       "      <td>240207</td>\n",
       "    </tr>\n",
       "    <tr>\n",
       "      <th>3</th>\n",
       "      <td>2007-11-13</td>\n",
       "      <td>Witch</td>\n",
       "      <td>2007-10-21</td>\n",
       "      <td>197990</td>\n",
       "    </tr>\n",
       "    <tr>\n",
       "      <th>4</th>\n",
       "      <td>2008-09-30</td>\n",
       "      <td>Klamath Theater Complex</td>\n",
       "      <td>2008-06-21</td>\n",
       "      <td>192038</td>\n",
       "    </tr>\n",
       "  </tbody>\n",
       "</table>\n",
       "</div>"
      ],
      "text/plain": [
       "          end                    event       start   acres\n",
       "0  2003-12-05                    Cedar  2003-10-25  273246\n",
       "1  2006-10-13                      Day  2006-09-04  162702\n",
       "2  2007-10-29                     Zaca  2007-07-04  240207\n",
       "3  2007-11-13                    Witch  2007-10-21  197990\n",
       "4  2008-09-30  Klamath Theater Complex  2008-06-21  192038"
      ]
     },
     "execution_count": 76,
     "metadata": {},
     "output_type": "execute_result"
    }
   ],
   "source": [
    "fires = [{\n",
    "            \"start\": \"2003-10-25\",\n",
    "            \"end\": \"2003-12-05\",\n",
    "            \"event\": \"Cedar\"\n",
    "          },\n",
    "          {\n",
    "            \"start\": \"2006-09-04\",\n",
    "            \"end\": \"2006-10-13\",\n",
    "            \"event\": \"Day\"\n",
    "          },\n",
    "          {\n",
    "            \"start\": \"2007-07-04\",\n",
    "            \"end\": \"2007-10-29\",\n",
    "            \"event\": \"Zaca\"\n",
    "          },\n",
    "          {\n",
    "            \"start\": \"2007-10-21\",\n",
    "            \"end\": \"2007-11-13\",\n",
    "            \"event\": \"Witch\"\n",
    "          },\n",
    "          {\n",
    "            \"start\": \"2008-06-21\",\n",
    "            \"end\": \"2008-09-30\",\n",
    "            \"event\": \"Klamath Theater Complex\"\n",
    "          },\n",
    "          {\n",
    "            \"start\": \"2008-06-21\",\n",
    "            \"end\": \"2008-07-27\",\n",
    "            \"event\": \"Basin Complex\"\n",
    "          },\n",
    "          {\n",
    "            \"start\": \"2009-08-26\",\n",
    "            \"end\": \"2009-10-16\",\n",
    "            \"event\": \"Station\"\n",
    "          },\n",
    "          {\n",
    "            \"start\": \"2012-08-12\",\n",
    "            \"end\": \"2012-08-30\",\n",
    "            \"event\": \"Rush\"\n",
    "          },\n",
    "          {\n",
    "            \"start\": \"2013-08-17\",\n",
    "            \"end\": \"2014-09-04\",\n",
    "            \"event\": \"Rim\"\n",
    "          },\n",
    "          {\n",
    "            \"start\": \"2014-08-12\",\n",
    "            \"end\": \"2014-10-31\",\n",
    "            \"event\": \"Happy Camp\"\n",
    "          },\n",
    "          {\n",
    "            \"start\": \"2015-07-31\",\n",
    "            \"end\": \"2015-11-05\",\n",
    "            \"event\": \"Rough\"\n",
    "          }]\n",
    "\n",
    "fires = alt.pd.DataFrame(fires)\n",
    "\n",
    "acres = pd.Series([273246, 162702, 240207, 197990, 192038, 162818, 160557, 271911, 257314, 134056, 151623,])\n",
    "\n",
    "fires['acres'] = acres\n",
    "fires.head()"
   ]
  },
  {
   "cell_type": "code",
   "execution_count": 83,
   "metadata": {},
   "outputs": [],
   "source": [
    "base = alt.Chart(dff.groupby('year')[\"number of people\"].sum().reset_index()).mark_line().encode(\n",
    "    x = alt.X(\"year:T\", title = \" \", axis = alt.Axis()),\n",
    "    y = alt.Y(\"number of people:Q\", title = \"\",),\n",
    ").properties(\n",
    "    title = \"Number of Firefighters in CA\",\n",
    "    width = 600,\n",
    "    height = 400,\n",
    ")\n",
    "\n",
    "band = alt.Chart(fires).mark_rect().encode(\n",
    "    x='start:T',\n",
    "    x2='end:T',\n",
    "    color = alt.Color(\"acres:Q\", legend = alt.Legend(title = \"total acres burned\"))\n",
    ").properties(\n",
    "    width = 600,\n",
    "    height = 400,\n",
    "    \n",
    ")\n",
    "\n",
    "main_chart = base + band"
   ]
  },
  {
   "cell_type": "code",
   "execution_count": 81,
   "metadata": {},
   "outputs": [
    {
     "data": {
      "application/vnd.vegalite.v2+json": {
       "$schema": "https://vega.github.io/schema/vega-lite/v2.4.3.json",
       "autosize": "fit",
       "config": {
        "arc": {
         "fill": "#282828"
        },
        "area": {
         "fill": "#282828"
        },
        "axisBand": {
         "grid": false
        },
        "axisBottom": {
         "domain": false,
         "domainColor": "black",
         "domainWidth": 3,
         "grid": true,
         "gridColor": "#282828",
         "gridWidth": 1,
         "labelFont": "Ubuntu Condensed",
         "labelFontSize": 12,
         "labelPadding": 4,
         "tickColor": "#282828",
         "tickSize": 10,
         "titleFont": "Ubuntu",
         "titleFontSize": 14,
         "titlePadding": 10
        },
        "axisLeft": {
         "domainColor": "#282828",
         "domainWidth": 1,
         "gridColor": "#282828",
         "gridWidth": 1,
         "labelFont": "Ubuntu Condensed",
         "labelFontSize": 12,
         "labelPadding": 4,
         "tickColor": "#282828",
         "tickSize": 10,
         "ticks": true,
         "titleFont": "Ubuntu",
         "titleFontSize": 14,
         "titlePadding": 10
        },
        "axisRight": {
         "domainColor": "#282828",
         "domainWidth": 1,
         "gridColor": "#282828",
         "gridWidth": 1,
         "labelFont": "Ubuntu Condensed",
         "labelFontSize": 12,
         "labelPadding": 4,
         "tickColor": "#282828",
         "tickSize": 10,
         "ticks": true,
         "titleFont": "Ubuntu",
         "titleFontSize": 14,
         "titlePadding": 10
        },
        "axisTop": {
         "domain": false,
         "domainColor": "black",
         "domainWidth": 3,
         "grid": true,
         "gridColor": "#282828",
         "gridWidth": 1,
         "labelFont": "Ubuntu Condensed",
         "labelFontSize": 12,
         "labelPadding": 4,
         "tickColor": "#282828",
         "tickSize": 10,
         "titleFont": "Ubuntu",
         "titleFontSize": 14,
         "titlePadding": 10
        },
        "background": "#FFFAFA",
        "geoshape": {
         "fill": "#C0C0C0"
        },
        "group": {
         "fill": "#FFFAFA"
        },
        "legend": {
         "labelFont": "Ubuntu Condensed",
         "labelFontSize": 11,
         "padding": 1,
         "symbolSize": 30,
         "symbolType": "square",
         "titleFont": "Ubuntu",
         "titleFontSize": 14,
         "titlePadding": 10
        },
        "line": {
         "color": "#282828",
         "stroke": "#282828",
         "strokewidth": 2
        },
        "path": {
         "stroke": "#282828",
         "strokeWidth": 0.5
        },
        "point": {
         "filled": true
        },
        "range": {
         "category": [
          "#dc0d7a",
          "#02a3cd",
          "#e4a100",
          "#dc0d12",
          "#074a7e",
          "#e46800",
          "#aa3594",
          "#a20c4b"
         ],
         "diverging": [
          "#dc0d12",
          "#e9686b",
          "#fbe1e1",
          "#dff4f9",
          "#81d1e6",
          "#03a3cd"
         ],
         "heatmap": [
          "#fcdfef",
          "#f8bfde",
          "#f59fce",
          "#f180be",
          "#ee60ad",
          "#eb409d",
          "#e7208c",
          "#e4007c"
         ]
        },
        "rect": {
         "fill": "#A20C4B",
         "opacity": 0.3
        },
        "style": {
         "bar": {
          "binSpacing": 2,
          "fill": "#282828",
          "stroke": false
         },
         "text": {
          "align": "right",
          "dx": 300,
          "font": "Ubuntu Mono",
          "fontSize": 10,
          "fontWeight": 100,
          "href": "https://twitter.com/ChekosWH",
          "size": 10,
          "text": "Made by @ChekosWH"
         }
        },
        "symbol": {
         "opacity": 1,
         "shape": "circle",
         "size": 40,
         "strokeWidth": 1
        },
        "title": {
         "anchor": "start",
         "font": "Ubuntu",
         "fontSize": 24,
         "fontWeight": 600,
         "offset": 20
        },
        "view": {
         "stroke": false
        }
       },
       "data": {
        "values": [
         {
          "acres": 273246,
          "end": "2003-12-05",
          "event": "Cedar",
          "start": "2003-10-25"
         },
         {
          "acres": 162702,
          "end": "2006-10-13",
          "event": "Day",
          "start": "2006-09-04"
         },
         {
          "acres": 240207,
          "end": "2007-10-29",
          "event": "Zaca",
          "start": "2007-07-04"
         },
         {
          "acres": 197990,
          "end": "2007-11-13",
          "event": "Witch",
          "start": "2007-10-21"
         },
         {
          "acres": 192038,
          "end": "2008-09-30",
          "event": "Klamath Theater Complex",
          "start": "2008-06-21"
         },
         {
          "acres": 162818,
          "end": "2008-07-27",
          "event": "Basin Complex",
          "start": "2008-06-21"
         },
         {
          "acres": 160557,
          "end": "2009-10-16",
          "event": "Station",
          "start": "2009-08-26"
         },
         {
          "acres": 271911,
          "end": "2012-08-30",
          "event": "Rush",
          "start": "2012-08-12"
         },
         {
          "acres": 257314,
          "end": "2014-09-04",
          "event": "Rim",
          "start": "2013-08-17"
         },
         {
          "acres": 134056,
          "end": "2014-10-31",
          "event": "Happy Camp",
          "start": "2014-08-12"
         },
         {
          "acres": 151623,
          "end": "2015-11-05",
          "event": "Rough",
          "start": "2015-07-31"
         }
        ]
       },
       "height": 5,
       "mark": {
        "text": "SOURCE: American Community Survey, 2003-2016.",
        "type": "text"
       },
       "width": 600
      },
      "image/png": "[encoded data removed]",
      "text/plain": [
       "<VegaLite 2 object>\n",
       "\n",
       "If you see this message, it means the renderer has not been properly enabled\n",
       "for the frontend that you are using. For more information, see\n",
       "https://altair-viz.github.io/user_guide/troubleshooting.html\n"
      ]
     },
     "execution_count": 81,
     "metadata": {},
     "output_type": "execute_result"
    }
   ],
   "source": [
    "source = \"SOURCE: American Community Survey, 2003-2016.\"\n",
    "source2 = \"List and dates of largest fires in California from Wikipedia.\"\n",
    "notes = \"NOTES: Adults (18+) in California, OCCupational code 3740: Firefighters.\"\n",
    "\n",
    "        \n",
    "source_chart = alt.Chart(fires).mark_text(text = source).properties(\n",
    "    height = 5,\n",
    "    width = 600,\n",
    ")\n",
    "source2_chart = alt.Chart(fires).mark_text(text = source2,).properties(\n",
    "    height = 5,\n",
    "    width = 600,\n",
    ")\n",
    "notes_chart = alt.Chart(fires).mark_text(text = notes + source2).properties(\n",
    "    height = 5,\n",
    "    width = 600,\n",
    ")\n",
    "\n",
    "caption = source_chart & source2_chart & notes_chart\n",
    "\n",
    "source_chart"
   ]
  },
  {
   "cell_type": "code",
   "execution_count": 84,
   "metadata": {},
   "outputs": [],
   "source": [
    "daily_chart1 = main_chart & source_chart & notes_chart"
   ]
  },
  {
   "cell_type": "code",
   "execution_count": 87,
   "metadata": {},
   "outputs": [
    {
     "ename": "ImportError",
     "evalue": "selenium package is required for saving chart as png",
     "output_type": "error",
     "traceback": [
      "\u001b[0;31m---------------------------------------------------------------------------\u001b[0m",
      "\u001b[0;31mImportError\u001b[0m                               Traceback (most recent call last)",
      "\u001b[0;32m<ipython-input-87-1a3f2dc07fe3>\u001b[0m in \u001b[0;36m<module>\u001b[0;34m()\u001b[0m\n\u001b[0;32m----> 1\u001b[0;31m \u001b[0mdaily_chart1\u001b[0m\u001b[0;34m.\u001b[0m\u001b[0msavechart\u001b[0m\u001b[0;34m(\u001b[0m\u001b[0mfp\u001b[0m \u001b[0;34m=\u001b[0m \u001b[0;34m\"../images/daily_chart1.png\"\u001b[0m\u001b[0;34m)\u001b[0m\u001b[0;34m\u001b[0m\u001b[0m\n\u001b[0m",
      "\u001b[0;32m/anaconda/envs/daily_chart/lib/python3.6/site-packages/altair/vegalite/v2/api.py\u001b[0m in \u001b[0;36msavechart\u001b[0;34m(self, fp, format, **kwargs)\u001b[0m\n\u001b[1;32m    371\u001b[0m             \u001b[0mDeprecationWarning\u001b[0m\u001b[0;34m\u001b[0m\u001b[0m\n\u001b[1;32m    372\u001b[0m         )\n\u001b[0;32m--> 373\u001b[0;31m         \u001b[0;32mreturn\u001b[0m \u001b[0mself\u001b[0m\u001b[0;34m.\u001b[0m\u001b[0msave\u001b[0m\u001b[0;34m(\u001b[0m\u001b[0mfp\u001b[0m\u001b[0;34m,\u001b[0m \u001b[0mformat\u001b[0m\u001b[0;34m=\u001b[0m\u001b[0;32mNone\u001b[0m\u001b[0;34m,\u001b[0m \u001b[0;34m**\u001b[0m\u001b[0mkwargs\u001b[0m\u001b[0;34m)\u001b[0m\u001b[0;34m\u001b[0m\u001b[0m\n\u001b[0m\u001b[1;32m    374\u001b[0m \u001b[0;34m\u001b[0m\u001b[0m\n\u001b[1;32m    375\u001b[0m     def save(self, fp, format=None, override_data_transformer=True,\n",
      "\u001b[0;32m/anaconda/envs/daily_chart/lib/python3.6/site-packages/altair/vegalite/v2/api.py\u001b[0m in \u001b[0;36msave\u001b[0;34m(self, fp, format, override_data_transformer, scale_factor, **kwargs)\u001b[0m\n\u001b[1;32m    412\u001b[0m         \u001b[0;32mif\u001b[0m \u001b[0moverride_data_transformer\u001b[0m\u001b[0;34m:\u001b[0m\u001b[0;34m\u001b[0m\u001b[0m\n\u001b[1;32m    413\u001b[0m             \u001b[0;32mwith\u001b[0m \u001b[0mdata_transformers\u001b[0m\u001b[0;34m.\u001b[0m\u001b[0menable\u001b[0m\u001b[0;34m(\u001b[0m\u001b[0;34m'default'\u001b[0m\u001b[0;34m,\u001b[0m \u001b[0mmax_rows\u001b[0m\u001b[0;34m=\u001b[0m\u001b[0;32mNone\u001b[0m\u001b[0;34m)\u001b[0m\u001b[0;34m:\u001b[0m\u001b[0;34m\u001b[0m\u001b[0m\n\u001b[0;32m--> 414\u001b[0;31m                 \u001b[0mresult\u001b[0m \u001b[0;34m=\u001b[0m \u001b[0msave\u001b[0m\u001b[0;34m(\u001b[0m\u001b[0;34m**\u001b[0m\u001b[0mkwds\u001b[0m\u001b[0;34m)\u001b[0m\u001b[0;34m\u001b[0m\u001b[0m\n\u001b[0m\u001b[1;32m    415\u001b[0m         \u001b[0;32melse\u001b[0m\u001b[0;34m:\u001b[0m\u001b[0;34m\u001b[0m\u001b[0m\n\u001b[1;32m    416\u001b[0m             \u001b[0mresult\u001b[0m \u001b[0;34m=\u001b[0m \u001b[0msave\u001b[0m\u001b[0;34m(\u001b[0m\u001b[0;34m**\u001b[0m\u001b[0mkwds\u001b[0m\u001b[0;34m)\u001b[0m\u001b[0;34m\u001b[0m\u001b[0m\n",
      "\u001b[0;32m/anaconda/envs/daily_chart/lib/python3.6/site-packages/altair/utils/save.py\u001b[0m in \u001b[0;36msave\u001b[0;34m(chart, fp, vega_version, vegaembed_version, format, mode, vegalite_version, embed_options, json_kwds, webdriver, scale_factor)\u001b[0m\n\u001b[1;32m     92\u001b[0m                                         \u001b[0mvegaembed_version\u001b[0m\u001b[0;34m=\u001b[0m\u001b[0mvegaembed_version\u001b[0m\u001b[0;34m,\u001b[0m\u001b[0;34m\u001b[0m\u001b[0m\n\u001b[1;32m     93\u001b[0m                                         \u001b[0mwebdriver\u001b[0m\u001b[0;34m=\u001b[0m\u001b[0mwebdriver\u001b[0m\u001b[0;34m,\u001b[0m\u001b[0;34m\u001b[0m\u001b[0m\n\u001b[0;32m---> 94\u001b[0;31m                                         scale_factor=scale_factor)\n\u001b[0m\u001b[1;32m     95\u001b[0m         \u001b[0;32mif\u001b[0m \u001b[0mformat\u001b[0m \u001b[0;34m==\u001b[0m \u001b[0;34m'png'\u001b[0m\u001b[0;34m:\u001b[0m\u001b[0;34m\u001b[0m\u001b[0m\n\u001b[1;32m     96\u001b[0m             \u001b[0mwrite_file_or_filename\u001b[0m\u001b[0;34m(\u001b[0m\u001b[0mfp\u001b[0m\u001b[0;34m,\u001b[0m \u001b[0mmimebundle\u001b[0m\u001b[0;34m[\u001b[0m\u001b[0;34m'image/png'\u001b[0m\u001b[0;34m]\u001b[0m\u001b[0;34m,\u001b[0m \u001b[0mmode\u001b[0m\u001b[0;34m=\u001b[0m\u001b[0;34m'wb'\u001b[0m\u001b[0;34m)\u001b[0m\u001b[0;34m\u001b[0m\u001b[0m\n",
      "\u001b[0;32m/anaconda/envs/daily_chart/lib/python3.6/site-packages/altair/utils/mimebundle.py\u001b[0m in \u001b[0;36mspec_to_mimebundle\u001b[0;34m(spec, format, mode, vega_version, vegaembed_version, vegalite_version, **kwargs)\u001b[0m\n\u001b[1;32m     54\u001b[0m                               \u001b[0mvega_version\u001b[0m\u001b[0;34m=\u001b[0m\u001b[0mvega_version\u001b[0m\u001b[0;34m,\u001b[0m\u001b[0;34m\u001b[0m\u001b[0m\n\u001b[1;32m     55\u001b[0m                               \u001b[0mvegaembed_version\u001b[0m\u001b[0;34m=\u001b[0m\u001b[0mvegaembed_version\u001b[0m\u001b[0;34m,\u001b[0m\u001b[0;34m\u001b[0m\u001b[0m\n\u001b[0;32m---> 56\u001b[0;31m                               vegalite_version=vegalite_version, **kwargs)\n\u001b[0m\u001b[1;32m     57\u001b[0m         \u001b[0;32mif\u001b[0m \u001b[0mformat\u001b[0m \u001b[0;34m==\u001b[0m \u001b[0;34m'png'\u001b[0m\u001b[0;34m:\u001b[0m\u001b[0;34m\u001b[0m\u001b[0m\n\u001b[1;32m     58\u001b[0m             \u001b[0mrender\u001b[0m \u001b[0;34m=\u001b[0m \u001b[0mbase64\u001b[0m\u001b[0;34m.\u001b[0m\u001b[0mdecodebytes\u001b[0m\u001b[0;34m(\u001b[0m\u001b[0mrender\u001b[0m\u001b[0;34m.\u001b[0m\u001b[0msplit\u001b[0m\u001b[0;34m(\u001b[0m\u001b[0;34m','\u001b[0m\u001b[0;34m,\u001b[0m \u001b[0;36m1\u001b[0m\u001b[0;34m)\u001b[0m\u001b[0;34m[\u001b[0m\u001b[0;36m1\u001b[0m\u001b[0;34m]\u001b[0m\u001b[0;34m.\u001b[0m\u001b[0mencode\u001b[0m\u001b[0;34m(\u001b[0m\u001b[0;34m)\u001b[0m\u001b[0;34m)\u001b[0m\u001b[0;34m\u001b[0m\u001b[0m\n",
      "\u001b[0;32m/anaconda/envs/daily_chart/lib/python3.6/site-packages/altair/utils/headless.py\u001b[0m in \u001b[0;36mcompile_spec\u001b[0;34m(spec, format, mode, vega_version, vegaembed_version, vegalite_version, scale_factor, driver_timeout, webdriver)\u001b[0m\n\u001b[1;32m    130\u001b[0m     \u001b[0;32mif\u001b[0m \u001b[0mselenium\u001b[0m \u001b[0;32mis\u001b[0m \u001b[0;32mNone\u001b[0m\u001b[0;34m:\u001b[0m\u001b[0;34m\u001b[0m\u001b[0m\n\u001b[1;32m    131\u001b[0m         raise ImportError(\"selenium package is required \"\n\u001b[0;32m--> 132\u001b[0;31m                           \"for saving chart as {0}\".format(format))\n\u001b[0m\u001b[1;32m    133\u001b[0m     \u001b[0;32mif\u001b[0m \u001b[0mwebdriver\u001b[0m \u001b[0;34m==\u001b[0m \u001b[0;34m'chrome'\u001b[0m\u001b[0;34m:\u001b[0m\u001b[0;34m\u001b[0m\u001b[0m\n\u001b[1;32m    134\u001b[0m         \u001b[0mwebdriver_class\u001b[0m \u001b[0;34m=\u001b[0m \u001b[0mselenium\u001b[0m\u001b[0;34m.\u001b[0m\u001b[0mwebdriver\u001b[0m\u001b[0;34m.\u001b[0m\u001b[0mChrome\u001b[0m\u001b[0;34m\u001b[0m\u001b[0m\n",
      "\u001b[0;31mImportError\u001b[0m: selenium package is required for saving chart as png"
     ]
    }
   ],
   "source": [
    "daily_chart1.savechart(fp = \"../images/daily_chart1.png\")"
   ]
  },
  {
   "cell_type": "code",
   "execution_count": 86,
   "metadata": {},
   "outputs": [
    {
     "name": "stdout",
     "output_type": "stream",
     "text": [
      "Collecting selenium\n",
      "\u001b[?25l  Downloading https://files.pythonhosted.org/packages/b8/53/9cafbb616d20c7624ff31bcabd82e5cc9823206267664e68aa8acdde4629/selenium-3.14.0-py2.py3-none-any.whl (898kB)\n",
      "\u001b[K    100% |████████████████████████████████| 901kB 11.8MB/s \n",
      "\u001b[?25hCollecting urllib3 (from selenium)\n",
      "\u001b[?25l  Downloading https://files.pythonhosted.org/packages/bd/c9/6fdd990019071a4a32a5e7cb78a1d92c53851ef4f56f62a3486e6a7d8ffb/urllib3-1.23-py2.py3-none-any.whl (133kB)\n",
      "\u001b[K    100% |████████████████████████████████| 143kB 19.1MB/s \n",
      "\u001b[?25hInstalling collected packages: urllib3, selenium\n",
      "Successfully installed selenium-3.14.0 urllib3-1.23\n"
     ]
    }
   ],
   "source": [
    "!pip install selenium"
   ]
  },
  {
   "cell_type": "code",
   "execution_count": null,
   "metadata": {},
   "outputs": [],
   "source": []
  },
  {
   "cell_type": "code",
   "execution_count": null,
   "metadata": {},
   "outputs": [],
   "source": []
  }
 ],
 "metadata": {
  "kernelspec": {
   "display_name": "Python 3",
   "language": "python",
   "name": "python3"
  },
  "language_info": {
   "codemirror_mode": {
    "name": "ipython",
    "version": 3
   },
   "file_extension": ".py",
   "mimetype": "text/x-python",
   "name": "python",
   "nbconvert_exporter": "python",
   "pygments_lexer": "ipython3",
   "version": "3.6.6"
  }
 },
 "nbformat": 4,
 "nbformat_minor": 2
}
