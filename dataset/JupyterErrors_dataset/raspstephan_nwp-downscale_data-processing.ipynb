{
 "cells": [
  {
   "cell_type": "code",
   "execution_count": 5,
   "id": "73e9950c",
   "metadata": {},
   "outputs": [],
   "source": [
    "import torch\n",
    "from torch.nn import functional as F\n",
    "from torch import nn\n",
    "from pytorch_lightning.core.lightning import LightningModule\n",
    "import pytorch_lightning as pl\n",
    "\n",
    "import torch.optim as optim\n",
    "import torchvision\n",
    "import torchvision.datasets as datasets\n",
    "import torchvision.transforms as transforms\n",
    "from torch.utils.data import DataLoader\n",
    "\n",
    "from src.models import *\n",
    "from src.dataloader import *\n",
    "from src.utils import *\n",
    "\n",
    "import xarray as xr\n",
    "import numpy as np\n",
    "import matplotlib.pyplot as plt\n",
    "\n",
    "import pickle\n",
    "import json"
   ]
  },
  {
   "cell_type": "markdown",
   "id": "6482bd74",
   "metadata": {},
   "source": [
    "## Train and Val"
   ]
  },
  {
   "cell_type": "code",
   "execution_count": 9,
   "id": "466e0581",
   "metadata": {},
   "outputs": [],
   "source": [
    "data_dir = '/home/jupyter/data/'"
   ]
  },
  {
   "cell_type": "code",
   "execution_count": 10,
   "id": "6a1b72fa",
   "metadata": {},
   "outputs": [],
   "source": [
    "args = {'tigge_dir':data_dir + f'tigge/32km/',\n",
    "    'tigge_vars':['total_precipitation_ens10','total_column_water', '2m_temperature', 'convective_available_potential_energy', 'convective_inhibition'],\n",
    "    'mrms_dir':data_dir + f'mrms/4km/RadarOnly_QPE_06H/',\n",
    "    'rq_fn':data_dir + f'mrms/4km/RadarQuality.nc',\n",
    "#     'const_fn':data_dir + 'tigge/32km/constants.nc',\n",
    "#     'const_vars':['orog', 'lsm'],\n",
    "    'data_period':('2018-01', '2019-12'),\n",
    "    'val_days':1,\n",
    "    'split':'train',\n",
    "#     'pure_sr_ratio':8, \n",
    "    'tp_log':0.01, \n",
    "    'scale':True,\n",
    "    'ensemble_mode':'stack_by_variable',\n",
    "    'pad_tigge':15,\n",
    "    'pad_tigge_channel': True, \n",
    "    'idx_stride': 8\n",
    "    }\n",
    "\n",
    "save_dir = '/home/jupyter/data/data_patches/'\n",
    "# dataset_name = 'ensemble_tp_x10_added_vars_TCW-T-CAPE-CIN_log_trans_padded_15_channel'"
   ]
  },
  {
   "cell_type": "code",
   "execution_count": 6,
   "id": "d390a217",
   "metadata": {},
   "outputs": [
    {
     "name": "stdout",
     "output_type": "stream",
     "text": [
      "setting nans in convective_inhibition to 0\n"
     ]
    },
    {
     "name": "stderr",
     "output_type": "stream",
     "text": [
      "/opt/conda/envs/ilan/lib/python3.9/site-packages/xarray/core/indexing.py:1379: PerformanceWarning: Slicing is producing a large chunk. To accept the large\n",
      "chunk and silence this warning, set the option\n",
      "    >>> with dask.config.set(**{'array.slicing.split_large_chunks': False}):\n",
      "    ...     array[indexer]\n",
      "\n",
      "To avoid creating the large chunks, set the option\n",
      "    >>> with dask.config.set(**{'array.slicing.split_large_chunks': True}):\n",
      "    ...     array[indexer]\n",
      "  return self.array[key]\n"
     ]
    },
    {
     "name": "stdout",
     "output_type": "stream",
     "text": [
      "Loading data\n"
     ]
    }
   ],
   "source": [
    "ds_train = TiggeMRMSDataset(**args)"
   ]
  },
  {
   "cell_type": "code",
   "execution_count": null,
   "id": "efc4ebcd",
   "metadata": {},
   "outputs": [],
   "source": []
  },
  {
   "cell_type": "code",
   "execution_count": 12,
   "id": "2b846af5",
   "metadata": {},
   "outputs": [],
   "source": [
    "# pickle.dump(args, open(save_dir+'train/configs/dataset_args.pkl', 'wb'))"
   ]
  },
  {
   "cell_type": "code",
   "execution_count": null,
   "id": "daec6c9c",
   "metadata": {},
   "outputs": [],
   "source": [
    "#save_images(ds_train, save_dir, 'train')"
   ]
  },
  {
   "cell_type": "code",
   "execution_count": 6,
   "id": "135dbda0",
   "metadata": {},
   "outputs": [],
   "source": [
    "pickle.dump(ds_train, open(data_dir + f\"saved_datasets/traindataset_{dataset_name}.pkl\", \"wb\"))\n",
    "pickle.dump(args, open(data_dir + f\"saved_datasets/traindataset_{dataset_name}_args.pkl\", \"wb\"))"
   ]
  },
  {
   "cell_type": "code",
   "execution_count": 13,
   "id": "87aa77cd",
   "metadata": {},
   "outputs": [],
   "source": [
    "val_args = args\n",
    "val_args['maxs'] = ds_train.maxs\n",
    "val_args['mins'] = ds_train.mins\n",
    "val_args['split'] = 'valid'\n",
    "\n",
    "#ds_valid = TiggeMRMSDataset(**val_args)"
   ]
  },
  {
   "cell_type": "code",
   "execution_count": 14,
   "id": "909b74b8",
   "metadata": {
    "collapsed": true,
    "jupyter": {
     "outputs_hidden": true
    }
   },
   "outputs": [
    {
     "ename": "NameError",
     "evalue": "name 'ds_valid' is not defined",
     "output_type": "error",
     "traceback": [
      "\u001b[0;31m---------------------------------------------------------------------------\u001b[0m",
      "\u001b[0;31mNameError\u001b[0m                                 Traceback (most recent call last)",
      "\u001b[0;32m<ipython-input-14-475ae31dc870>\u001b[0m in \u001b[0;36m<module>\u001b[0;34m\u001b[0m\n\u001b[1;32m      1\u001b[0m \u001b[0mpickle\u001b[0m\u001b[0;34m.\u001b[0m\u001b[0mdump\u001b[0m\u001b[0;34m(\u001b[0m\u001b[0mval_args\u001b[0m\u001b[0;34m,\u001b[0m \u001b[0mopen\u001b[0m\u001b[0;34m(\u001b[0m\u001b[0msave_dir\u001b[0m\u001b[0;34m+\u001b[0m\u001b[0;34m'valid/configs/dataset_args.pkl'\u001b[0m\u001b[0;34m,\u001b[0m \u001b[0;34m'wb'\u001b[0m\u001b[0;34m)\u001b[0m\u001b[0;34m)\u001b[0m\u001b[0;34m\u001b[0m\u001b[0;34m\u001b[0m\u001b[0m\n\u001b[0;32m----> 2\u001b[0;31m \u001b[0mlen\u001b[0m\u001b[0;34m(\u001b[0m\u001b[0mds_valid\u001b[0m\u001b[0;34m)\u001b[0m\u001b[0;34m\u001b[0m\u001b[0;34m\u001b[0m\u001b[0m\n\u001b[0m",
      "\u001b[0;31mNameError\u001b[0m: name 'ds_valid' is not defined"
     ]
    }
   ],
   "source": [
    "pickle.dump(val_args, open(save_dir+'valid/configs/dataset_args.pkl', 'wb'))\n",
    "len(ds_valid)"
   ]
  },
  {
   "cell_type": "code",
   "execution_count": null,
   "id": "78e467ba",
   "metadata": {},
   "outputs": [],
   "source": [
    "save_images(ds_valid, save_dir, 'valid')"
   ]
  },
  {
   "cell_type": "code",
   "execution_count": 8,
   "id": "12bf1477",
   "metadata": {},
   "outputs": [],
   "source": [
    "#pickle.dump(ds_valid, open(data_dir + f\"saved_datasets/validdataset_{dataset_name}.pkl\", \"wb\"))\n",
    "#pickle.dump(val_args, open(data_dir + f\"saved_datasets/validdataset_{dataset_name}_args.pkl\", \"wb\"))"
   ]
  },
  {
   "cell_type": "code",
   "execution_count": 11,
   "id": "5e1abcb7",
   "metadata": {},
   "outputs": [],
   "source": []
  },
  {
   "cell_type": "code",
   "execution_count": null,
   "id": "7f08419f",
   "metadata": {},
   "outputs": [],
   "source": [
    "val_args = pickle.load(open('/home/jupyter/data/data_patches/valid/configs/dataset_args.pkl', 'rb'))\n",
    "\n",
    "test_args = args\n",
    "test_args['href_dir'] = data_dir + 'hrefv2/4km/total_precipitation/2020*.nc'\n",
    "test_args['maxs'] = val_args['maxs']\n",
    "test_args['mins'] = val_args['mins']\n",
    "test_args.pop('val_days')\n",
    "test_args.pop('split')\n",
    "test_args['first_days'] = 5\n",
    "test_args['data_period'] = ('2020-01', '2020-12')\n",
    "# test_dataset_name = dataset_name + f\"_first_days_{test_args['first_days']}\"\n",
    "\n",
    "ds_test = TiggeMRMSHREFDataset(**test_args)"
   ]
  },
  {
   "cell_type": "code",
   "execution_count": null,
   "id": "807414a1",
   "metadata": {},
   "outputs": [],
   "source": [
    "save_images(ds_test, save_dir, 'test')"
   ]
  },
  {
   "cell_type": "code",
   "execution_count": 17,
   "id": "94ba16d5",
   "metadata": {},
   "outputs": [
    {
     "data": {
      "text/plain": [
       "9680"
      ]
     },
     "execution_count": 17,
     "metadata": {},
     "output_type": "execute_result"
    }
   ],
   "source": [
    "pickle.dump(test_args, open(save_dir+'test/configs/dataset_args.pkl', 'wb'))\n",
    "len(ds_test)"
   ]
  },
  {
   "cell_type": "code",
   "execution_count": 18,
   "id": "eab24a2d",
   "metadata": {},
   "outputs": [],
   "source": [
    "pickle.dump(ds_test, open(data_dir + f\"saved_datasets/testdataset_{test_dataset_name}.pkl\", \"wb\"))\n",
    "pickle.dump(test_args, open(data_dir + f\"saved_datasets/testdataset_{test_dataset_name}_args.pkl\", \"wb\"))"
   ]
  },
  {
   "cell_type": "code",
   "execution_count": null,
   "id": "87dc6b78",
   "metadata": {},
   "outputs": [],
   "source": [
    "print(\"check\")"
   ]
  },
  {
   "cell_type": "code",
   "execution_count": null,
   "id": "82de0bfd",
   "metadata": {},
   "outputs": [],
   "source": []
  }
 ],
 "metadata": {
  "environment": {
   "name": "common-cu110.m78",
   "type": "gcloud",
   "uri": "gcr.io/deeplearning-platform-release/base-cu110:m78"
  },
  "kernelspec": {
   "display_name": "Python [conda env:ilan]",
   "language": "python",
   "name": "conda-env-ilan-py"
  },
  "language_info": {
   "codemirror_mode": {
    "name": "ipython",
    "version": 3
   },
   "file_extension": ".py",
   "mimetype": "text/x-python",
   "name": "python",
   "nbconvert_exporter": "python",
   "pygments_lexer": "ipython3",
   "version": "3.9.5"
  }
 },
 "nbformat": 4,
 "nbformat_minor": 5
}
