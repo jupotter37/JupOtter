{
 "cells": [
  {
   "cell_type": "markdown",
   "metadata": {},
   "source": [
    "# 01. Login to the Meijer 'App'\n",
    "\n",
    "Mimic the events that happen after clicking \"SIGN IN\".\n",
    "\n",
    "Meijer username and password are stored in `auth` file."
   ]
  },
  {
   "cell_type": "code",
   "execution_count": 1,
   "metadata": {},
   "outputs": [],
   "source": [
    "import os\n",
    "import requests\n",
    "import base64"
   ]
  },
  {
   "cell_type": "code",
   "execution_count": 2,
   "metadata": {},
   "outputs": [],
   "source": [
    "# Generate the Authorization string from account_services_secret\n",
    "account_services_secret=\"drAqas76Re7RekeBanaMaNEMah7paDE5\"\n",
    "AUTH=base64.encodebytes(\"mma:{}\".format(account_services_secret).encode(\"UTF-8\")).decode(\"UTF-8\").strip()"
   ]
  },
  {
   "cell_type": "code",
   "execution_count": 9,
   "metadata": {},
   "outputs": [],
   "source": [
    "with open(\"auth\", \"r\") as fid:\n",
    "    meijer_user, meijer_pass, meijer_accountid = fid.read().splitlines()"
   ]
  },
  {
   "cell_type": "code",
   "execution_count": 10,
   "metadata": {},
   "outputs": [],
   "source": [
    "request=dict()\n",
    "request[\"url\"] = \"https://login.meijer.com/as/token.oauth2\"\n",
    "request[\"headers\"] = {\n",
    "    'Authorization': 'Basic {}'.format(AUTH),\n",
    "    'Platform': 'Android',\n",
    "    'Version': '5.10.0',\n",
    "    'Build': '51000000',\n",
    "    'User-Agent': 'okhttp/3.8.0'\n",
    "}\n",
    "request[\"params\"] =  {\n",
    "    'grant_type': 'client_credentials',\n",
    "    'scope': 'openid',\n",
    "    \"username\": meijer_user,\n",
    "    \"password\": meijer_pass,\n",
    "}\n",
    "r = requests.post(**request)\n",
    "assert r.status_code==200"
   ]
  },
  {
   "cell_type": "code",
   "execution_count": 11,
   "metadata": {},
   "outputs": [
    {
     "data": {
      "text/plain": [
       "dict_keys(['access_token', 'token_type', 'expires_in'])"
      ]
     },
     "execution_count": 11,
     "metadata": {},
     "output_type": "execute_result"
    }
   ],
   "source": [
    "r.json().keys()"
   ]
  },
  {
   "cell_type": "code",
   "execution_count": 12,
   "metadata": {},
   "outputs": [],
   "source": [
    "access_token=r.json()[\"access_token\"]"
   ]
  },
  {
   "cell_type": "markdown",
   "metadata": {},
   "source": [
    "TODO: Figure out how the App knows what the account ID is before this URL is called. Looking at the cookies and response data nothing apparent jumped out. So it's probably some ```base64``` string burried in the ```access_token``` or something.\n",
    "\n",
    "For now, hard code it in the env variables."
   ]
  },
  {
   "cell_type": "code",
   "execution_count": 14,
   "metadata": {},
   "outputs": [
    {
     "data": {
      "text/plain": [
       "<Response [401]>"
      ]
     },
     "execution_count": 14,
     "metadata": {},
     "output_type": "execute_result"
    }
   ],
   "source": [
    "request=dict()\n",
    "request[\"url\"] = \"https://mservices.meijer.com/dgtlmma/accounts/getAccount?id={}\".format(meijer_accountid)\n",
    "request[\"headers\"] = {\n",
    "    'Accept': 'application/vnd.meijer.account.account-v1.0+json',\n",
    "    'Authorization': 'Bearer {}'.format(access_token),\n",
    "    'Content-Type': 'application/json',\n",
    "    'Platform': 'Android',\n",
    "    'Version': '5.10.0',\n",
    "    'Build': '51000000',\n",
    "    'User-Agent': 'okhttp/3.8.0'\n",
    "}\n",
    "r = requests.get(**request)\n",
    "r"
   ]
  },
  {
   "cell_type": "code",
   "execution_count": null,
   "metadata": {},
   "outputs": [],
   "source": [
    "r."
   ]
  },
  {
   "cell_type": "code",
   "execution_count": 13,
   "metadata": {},
   "outputs": [
    {
     "ename": "AssertionError",
     "evalue": "",
     "output_type": "error",
     "traceback": [
      "\u001b[0;31m---------------------------------------------------------------------------\u001b[0m",
      "\u001b[0;31mAssertionError\u001b[0m                            Traceback (most recent call last)",
      "\u001b[0;32m<ipython-input-13-387b541a6622>\u001b[0m in \u001b[0;36m<module>\u001b[0;34m\u001b[0m\n\u001b[1;32m     11\u001b[0m }\n\u001b[1;32m     12\u001b[0m \u001b[0mr\u001b[0m \u001b[0;34m=\u001b[0m \u001b[0mrequests\u001b[0m\u001b[0;34m.\u001b[0m\u001b[0mget\u001b[0m\u001b[0;34m(\u001b[0m\u001b[0;34m**\u001b[0m\u001b[0mrequest\u001b[0m\u001b[0;34m)\u001b[0m\u001b[0;34m\u001b[0m\u001b[0;34m\u001b[0m\u001b[0m\n\u001b[0;32m---> 13\u001b[0;31m \u001b[0;32massert\u001b[0m \u001b[0mr\u001b[0m\u001b[0;34m.\u001b[0m\u001b[0mstatus_code\u001b[0m\u001b[0;34m==\u001b[0m\u001b[0;36m200\u001b[0m\u001b[0;34m\u001b[0m\u001b[0;34m\u001b[0m\u001b[0m\n\u001b[0m\u001b[1;32m     14\u001b[0m \u001b[0mr\u001b[0m\u001b[0;34m.\u001b[0m\u001b[0mjson\u001b[0m\u001b[0;34m(\u001b[0m\u001b[0;34m)\u001b[0m\u001b[0;34m.\u001b[0m\u001b[0mkeys\u001b[0m\u001b[0;34m(\u001b[0m\u001b[0;34m)\u001b[0m\u001b[0;34m\u001b[0m\u001b[0;34m\u001b[0m\u001b[0m\n",
      "\u001b[0;31mAssertionError\u001b[0m: "
     ]
    }
   ],
   "source": [
    "assert r.status_code==200\n",
    "r.json().keys()"
   ]
  },
  {
   "cell_type": "code",
   "execution_count": null,
   "metadata": {},
   "outputs": [],
   "source": []
  }
 ],
 "metadata": {
  "kernelspec": {
   "display_name": "Python 3",
   "language": "python",
   "name": "python3"
  },
  "language_info": {
   "codemirror_mode": {
    "name": "ipython",
    "version": 3
   },
   "file_extension": ".py",
   "mimetype": "text/x-python",
   "name": "python",
   "nbconvert_exporter": "python",
   "pygments_lexer": "ipython3",
   "version": "3.7.3"
  }
 },
 "nbformat": 4,
 "nbformat_minor": 2
}
