{
 "cells": [
  {
   "cell_type": "markdown",
   "metadata": {},
   "source": [
    "## Tutorial 6. Handling errors\n",
    "\n",
    "\n",
    "Created by Emanuel Flores-Bautista 2019.  All content contained in this notebook is licensed under a [Creative Commons License 4.0](https://creativecommons.org/licenses/by/4.0/). The code is licensed under a [MIT license](https://opensource.org/licenses/MIT). This notebook was based on the amazing tutorials from Justin Bois and Jake Van der Plas. "
   ]
  },
  {
   "cell_type": "code",
   "execution_count": 10,
   "metadata": {
    "ExecuteTime": {
     "end_time": "2019-04-26T17:52:26.248681Z",
     "start_time": "2019-04-26T12:52:24.065360-05:00"
    }
   },
   "outputs": [],
   "source": [
    "import numpy as np\n",
    "import pandas as pd\n",
    "import seaborn as sns\n",
    "import scipy.stats as stats\n",
    "import matplotlib.pyplot as plt\n",
    "import TCD19_utils as TCD\n",
    "TCD.set_plotting_style_2()\n",
    "\n",
    "# Magic command to enable plotting inside notebook\n",
    "%matplotlib inline\n",
    "# Magic command to enable svg format in plots\n",
    "%config InlineBackend.figure_format = 'svg'"
   ]
  },
  {
   "cell_type": "markdown",
   "metadata": {},
   "source": [
    "Even the best baker can burn a cake. Much of programming is based on knowing how to google for making new code work and to troubleshoot errors."
   ]
  },
  {
   "cell_type": "markdown",
   "metadata": {},
   "source": [
    "There are three basic types of errors: **syntax**, **Runtime**, and **semantic** errors. \n",
    "\n"
   ]
  },
  {
   "cell_type": "markdown",
   "metadata": {},
   "source": [
    "## Syntax errors"
   ]
  },
  {
   "cell_type": "markdown",
   "metadata": {},
   "source": [
    "A **syntax** error means you wrote something that the python interpreter cannot understand. A simple syntax error would be something like the following."
   ]
  },
  {
   "cell_type": "code",
   "execution_count": null,
   "metadata": {
    "ExecuteTime": {
     "end_time": "2019-04-05T00:35:01.309868Z",
     "start_time": "2019-04-04T18:35:01.303221-06:00"
    }
   },
   "outputs": [],
   "source": [
    "simple_list = [1,2,3"
   ]
  },
  {
   "cell_type": "markdown",
   "metadata": {},
   "source": [
    "In this error, it shows that the parser is expecting and ending bracket to complete the list. "
   ]
  },
  {
   "cell_type": "code",
   "execution_count": null,
   "metadata": {
    "ExecuteTime": {
     "end_time": "2019-04-05T00:36:54.951874Z",
     "start_time": "2019-04-04T18:36:54.945484-06:00"
    }
   },
   "outputs": [],
   "source": [
    "Another basic error is the following: "
   ]
  },
  {
   "cell_type": "markdown",
   "metadata": {
    "ExecuteTime": {
     "end_time": "2019-04-05T00:37:16.837688Z",
     "start_time": "2019-04-04T18:37:16.831324-06:00"
    }
   },
   "source": [
    "In this last cell, I forgot to make it a markdown cell to run it. Let's look at another simple example. "
   ]
  },
  {
   "cell_type": "code",
   "execution_count": null,
   "metadata": {
    "ExecuteTime": {
     "end_time": "2019-04-05T00:37:41.465551Z",
     "start_time": "2019-04-04T18:37:41.459898-06:00"
    }
   },
   "outputs": [],
   "source": [
    "for i in range(10)\n",
    "    print(i)"
   ]
  },
  {
   "cell_type": "markdown",
   "metadata": {},
   "source": [
    "In this last cell, I didn't put the ending colon in the `for` loop. \n",
    "\n",
    "Quite generally, syntax errors are easy to deal with, since the cell won't run if any are present, moreover, it will show where the error lies. "
   ]
  },
  {
   "cell_type": "markdown",
   "metadata": {
    "ExecuteTime": {
     "end_time": "2019-04-05T00:38:12.145786Z",
     "start_time": "2019-04-04T18:38:12.142437-06:00"
    }
   },
   "source": [
    "## Runtime errors."
   ]
  },
  {
   "cell_type": "markdown",
   "metadata": {},
   "source": [
    "Runtime errors occur when a program has a correct syntax, but the interpreter encounters something wrong. Let's look at a simple example. "
   ]
  },
  {
   "cell_type": "code",
   "execution_count": null,
   "metadata": {
    "ExecuteTime": {
     "end_time": "2019-04-05T00:41:38.352772Z",
     "start_time": "2019-04-04T18:41:38.338449-06:00"
    }
   },
   "outputs": [],
   "source": [
    "simple_tuple = (0,1, 3.1416)\n",
    "\n",
    "simple_tuple[0] = 5"
   ]
  },
  {
   "cell_type": "markdown",
   "metadata": {},
   "source": [
    "In this last example, we have an error because tuples are immutable and thus we cannot change its first element to 5. \n",
    "\n",
    "The interpreter shows a `TypeError` which is a specific type of runtime error. \n",
    "\n",
    "Runtime errors are more difficult to spot than syntax errors because it is possible that a program could run all the way through without encountering the error for some inputs, but for other inputs, you get an error.\n",
    "\n"
   ]
  },
  {
   "cell_type": "code",
   "execution_count": null,
   "metadata": {
    "ExecuteTime": {
     "end_time": "2019-04-05T00:44:26.444703Z",
     "start_time": "2019-04-04T18:44:26.438687-06:00"
    }
   },
   "outputs": [],
   "source": [
    "def adder(a, b):\n",
    "    \"\"\"Add two numbers.\"\"\"\n",
    "    return a + b"
   ]
  },
  {
   "cell_type": "code",
   "execution_count": null,
   "metadata": {
    "ExecuteTime": {
     "end_time": "2019-04-05T00:44:37.510150Z",
     "start_time": "2019-04-04T18:44:37.502050-06:00"
    }
   },
   "outputs": [],
   "source": [
    "adder(23,576.1)"
   ]
  },
  {
   "cell_type": "markdown",
   "metadata": {},
   "source": [
    "The function above runs fine with numbers. It can also work with strings and lists."
   ]
  },
  {
   "cell_type": "code",
   "execution_count": null,
   "metadata": {
    "ExecuteTime": {
     "end_time": "2019-04-05T00:46:00.494331Z",
     "start_time": "2019-04-04T18:46:00.488698-06:00"
    }
   },
   "outputs": [],
   "source": [
    "adder('Hello', ' friend')"
   ]
  },
  {
   "cell_type": "code",
   "execution_count": null,
   "metadata": {
    "ExecuteTime": {
     "end_time": "2019-04-05T00:46:01.817546Z",
     "start_time": "2019-04-04T18:46:01.809652-06:00"
    }
   },
   "outputs": [],
   "source": [
    "adder(['Hello friend'], [' how are you?'])"
   ]
  },
  {
   "cell_type": "markdown",
   "metadata": {},
   "source": [
    "However, if we try to add a string and a number, we get a `TypeError`, the kind of runtime error we saw before."
   ]
  },
  {
   "cell_type": "code",
   "execution_count": null,
   "metadata": {
    "ExecuteTime": {
     "end_time": "2019-04-05T00:46:53.276972Z",
     "start_time": "2019-04-04T18:46:53.260404-06:00"
    }
   },
   "outputs": [],
   "source": [
    "adder('Hey', 88)"
   ]
  },
  {
   "cell_type": "markdown",
   "metadata": {},
   "source": [
    "## Semantic errors "
   ]
  },
  {
   "cell_type": "markdown",
   "metadata": {},
   "source": [
    "Semantic errors are probably the most hard to find. You will encounter them when your program has a correct syntax, runs without runtime errors, and then produces the wrong result. "
   ]
  },
  {
   "cell_type": "markdown",
   "metadata": {},
   "source": [
    "## Try, except statements"
   ]
  },
  {
   "cell_type": "markdown",
   "metadata": {
    "ExecuteTime": {
     "end_time": "2019-04-26T17:48:35.261136Z",
     "start_time": "2019-04-26T12:48:35.253173-05:00"
    }
   },
   "source": [
    "The try block lets you test a block of code for errors. The except block lets you handle the error. The finally block lets you execute code, regardless of the result of the try- and except blocks."
   ]
  },
  {
   "cell_type": "code",
   "execution_count": 28,
   "metadata": {
    "ExecuteTime": {
     "end_time": "2019-04-26T17:55:40.722753Z",
     "start_time": "2019-04-26T12:55:40.717288-05:00"
    }
   },
   "outputs": [],
   "source": [
    "def safe_divide(a, b):\n",
    "    try:\n",
    "        return a / b\n",
    "    except:\n",
    "        return 1E100"
   ]
  },
  {
   "cell_type": "code",
   "execution_count": 30,
   "metadata": {
    "ExecuteTime": {
     "end_time": "2019-04-26T17:56:03.888875Z",
     "start_time": "2019-04-26T12:56:03.880112-05:00"
    }
   },
   "outputs": [
    {
     "name": "stdout",
     "output_type": "stream",
     "text": [
      "try something here\n",
      "this happens only if it succeeds\n",
      "this happens no matter what\n"
     ]
    }
   ],
   "source": [
    "try:\n",
    "    print(\"try something here\")\n",
    "except:\n",
    "    print(\"this happens only if it fails\")\n",
    "else:\n",
    "    print(\"this happens only if it succeeds\")\n",
    "finally:\n",
    "    print(\"this happens no matter what\")"
   ]
  },
  {
   "cell_type": "markdown",
   "metadata": {},
   "source": [
    "## Assertions for data validation\n",
    "\n",
    "When you're building a data analysis pipeline you ideally want to make python files with functions to execute some analyisis and visualizations. However, before you actually make the analysis it is a good practice to make some tests to make sure the data sources are suited for your analysis. The python `assert` statement let's you raise an error if a boolean comparison is set to `False`. \n",
    "\n",
    "In order to do your data validation you should think of the following: \n",
    "\n",
    "Think about all of the expectations you have of your data source.\n",
    "* What is its structure?\n",
    "* What type is it? (Numeric, sequencing, etc.)\n",
    "* Is it complete? (NaNs), if not, how should one handle the missing data. The [`sklearn.imputer`](https://scikit-learn.org/stable/modules/impute.html) module is a great source to do so. "
   ]
  },
  {
   "cell_type": "code",
   "execution_count": 20,
   "metadata": {
    "ExecuteTime": {
     "end_time": "2019-04-26T17:55:01.318168Z",
     "start_time": "2019-04-26T12:55:01.313510-05:00"
    }
   },
   "outputs": [],
   "source": [
    "x = np.linspace(0,100,5)"
   ]
  },
  {
   "cell_type": "code",
   "execution_count": 22,
   "metadata": {
    "ExecuteTime": {
     "end_time": "2019-04-26T17:55:07.963294Z",
     "start_time": "2019-04-26T12:55:07.959766-05:00"
    }
   },
   "outputs": [],
   "source": [
    "assert type(x) == np.ndarray"
   ]
  },
  {
   "cell_type": "code",
   "execution_count": 25,
   "metadata": {
    "ExecuteTime": {
     "end_time": "2019-04-26T17:55:26.887203Z",
     "start_time": "2019-04-26T12:55:26.881694-05:00"
    }
   },
   "outputs": [],
   "source": [
    "df = pd.DataFrame({'x':[1,2,3,4]})"
   ]
  },
  {
   "cell_type": "code",
   "execution_count": 26,
   "metadata": {
    "ExecuteTime": {
     "end_time": "2019-04-26T17:55:27.093709Z",
     "start_time": "2019-04-26T12:55:27.086796-05:00"
    }
   },
   "outputs": [],
   "source": [
    "assert type(df) == pd.DataFrame"
   ]
  },
  {
   "cell_type": "code",
   "execution_count": 27,
   "metadata": {
    "ExecuteTime": {
     "end_time": "2019-04-26T17:55:35.533691Z",
     "start_time": "2019-04-26T12:55:35.519755-05:00"
    }
   },
   "outputs": [
    {
     "ename": "AssertionError",
     "evalue": "",
     "output_type": "error",
     "traceback": [
      "\u001b[0;31m---------------------------------------------------------------------------\u001b[0m",
      "\u001b[0;31mAssertionError\u001b[0m                            Traceback (most recent call last)",
      "\u001b[0;32m<ipython-input-27-7a375459c462>\u001b[0m in \u001b[0;36m<module>\u001b[0;34m()\u001b[0m\n\u001b[0;32m----> 1\u001b[0;31m \u001b[0;32massert\u001b[0m \u001b[0mtype\u001b[0m\u001b[0;34m(\u001b[0m\u001b[0mdf\u001b[0m\u001b[0;34m)\u001b[0m \u001b[0;34m==\u001b[0m \u001b[0mnp\u001b[0m\u001b[0;34m.\u001b[0m\u001b[0mndarray\u001b[0m\u001b[0;34m\u001b[0m\u001b[0;34m\u001b[0m\u001b[0m\n\u001b[0m",
      "\u001b[0;31mAssertionError\u001b[0m: "
     ]
    }
   ],
   "source": [
    "assert type(df) == np.ndarray"
   ]
  },
  {
   "cell_type": "code",
   "execution_count": null,
   "metadata": {},
   "outputs": [],
   "source": []
  }
 ],
 "metadata": {
  "kernelspec": {
   "display_name": "Python 3",
   "language": "python",
   "name": "python3"
  },
  "language_info": {
   "codemirror_mode": {
    "name": "ipython",
    "version": 3
   },
   "file_extension": ".py",
   "mimetype": "text/x-python",
   "name": "python",
   "nbconvert_exporter": "python",
   "pygments_lexer": "ipython3",
   "version": "3.6.7"
  },
  "toc": {
   "base_numbering": 1,
   "nav_menu": {},
   "number_sections": true,
   "sideBar": true,
   "skip_h1_title": false,
   "title_cell": "Table of Contents",
   "title_sidebar": "Contents",
   "toc_cell": false,
   "toc_position": {},
   "toc_section_display": true,
   "toc_window_display": false
  },
  "varInspector": {
   "cols": {
    "lenName": 16,
    "lenType": 16,
    "lenVar": 40
   },
   "kernels_config": {
    "python": {
     "delete_cmd_postfix": "",
     "delete_cmd_prefix": "del ",
     "library": "var_list.py",
     "varRefreshCmd": "print(var_dic_list())"
    },
    "r": {
     "delete_cmd_postfix": ") ",
     "delete_cmd_prefix": "rm(",
     "library": "var_list.r",
     "varRefreshCmd": "cat(var_dic_list()) "
    }
   },
   "types_to_exclude": [
    "module",
    "function",
    "builtin_function_or_method",
    "instance",
    "_Feature"
   ],
   "window_display": false
  }
 },
 "nbformat": 4,
 "nbformat_minor": 2
}
