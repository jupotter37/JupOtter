{
 "cells": [
  {
   "cell_type": "code",
   "execution_count": 3,
   "metadata": {},
   "outputs": [
    {
     "ename": "SyntaxError",
     "evalue": "Missing parentheses in call to 'print'. Did you mean print(\"Results for\",solved_name)? (<ipython-input-3-8822713492a9>, line 50)",
     "traceback": [
      "\u001b[0;36m  File \u001b[0;32m\"<ipython-input-3-8822713492a9>\"\u001b[0;36m, line \u001b[0;32m50\u001b[0m\n\u001b[0;31m    print \"Results for\",solved_name\u001b[0m\n\u001b[0m                      ^\u001b[0m\n\u001b[0;31mSyntaxError\u001b[0m\u001b[0;31m:\u001b[0m Missing parentheses in call to 'print'. Did you mean print(\"Results for\",solved_name)?\n"
     ],
     "output_type": "error"
    }
   ],
   "source": [
    "# parallel.py\n",
    "from __future__ import division\n",
    "from pyomo.environ import *\n",
    "from pyomo.opt import SolverFactory\n",
    "from pyomo.opt.parallel import SolverManagerFactory\n",
    "import sys\n",
    "\n",
    "action_handle_map = {} # maps action handles to instances\n",
    "\n",
    "# Create a solver\n",
    "optsolver = SolverFactory('ipopt')\n",
    "\n",
    "# create a solver manager\n",
    "# 'pyro' could be replaced with 'serial'\n",
    "solver_manager = SolverManagerFactory('pyro')\n",
    "if solver_manager is None:\n",
    "    print(\"Failed to create solver manager.\")\n",
    "    sys.exit(1)\n",
    "\n",
    "#\n",
    "# A simple model with binary variables and\n",
    "# an empty constraint list.\n",
    "#\n",
    "model = AbstractModel()\n",
    "model.n = Param(default=4)\n",
    "model.x = Var(RangeSet(model.n), within=Binary)\n",
    "def o_rule(model):\n",
    "    return summation(model.x)\n",
    "model.o = Objective(rule=o_rule)\n",
    "model.c = ConstraintList()\n",
    "\n",
    "# Create two model instances\n",
    "instance1 = model.create()\n",
    "\n",
    "instance2 = model.create()\n",
    "instance2.x[1] = 1\n",
    "instance2.x[1].fixed = True\n",
    "\n",
    "# send them to the solver(s)\n",
    "action_handle = solver_manager.queue(instance1, opt=optsolver, warmstart=False, tee=True, verbose=False)\n",
    "action_handle_map[action_handle] = \"Original\"\n",
    "action_handle = solver_manager.queue(instance2, opt=optsolver, warmstart=False, tee=True, verbose=False)\n",
    "action_handle_map[action_handle] = \"One Var Fixed\"\n",
    "\n",
    "# retrieve the solutions\n",
    "for i in range(2): # we know there are two instances\n",
    "    this_action_handle = solver_manager.wait_any()\n",
    "    solved_name = action_handle_map[this_action_handle]\n",
    "    results = solver_manager.get_results(this_action_handle)\n",
    "    print( \"Results for\",solved_name)\n",
    "    print(results)"
   ]
  },
  {
   "cell_type": "code",
   "execution_count": 25,
   "metadata": {},
   "outputs": [],
   "source": [
    "import json\n",
    "import os\n",
    "\n",
    "path = os.path.join(os.getcwd(), \"utils\", \"32da813acb9e\", \"Input.registry.file\")\n",
    "with open(path, \"r\") as file:\n",
    "    input_config_file = json.loads(file.read())\n",
    "\n",
    "input_config_mqtt = {}\n",
    "model_name = \"CarParkModel\"\n",
    "\n",
    "defined_external_names = ['SoC_Value']\n",
    "defined_non_prediction_names =  ['P_PV']\n",
    "defined_prediction_names =  []\n",
    "external_names =  []\n",
    "\n",
    "prediction_names = []\n",
    "non_prediction_names = []\n",
    "external_names = []\n",
    "generic_names = []\n",
    "\n",
    "def add_name_to_list(key):\n",
    "    if key in defined_prediction_names:\n",
    "        prediction_names.append(key)\n",
    "    elif key in defined_non_prediction_names:\n",
    "        non_prediction_names.append(key)\n",
    "    elif key in defined_external_names:\n",
    "        external_names.append(key)\n",
    "    else:\n",
    "        generic_names.append(key)\n",
    "\n",
    "model_variables = {'Feasible_ESS_Decisions': {'type': 'Set', 'indexing': 'None'}, 'Feasible_VAC_Decisions': {'type': 'Set', 'indexing': 'None'}, 'Value_Index': {'type': 'Set', 'indexing': 'None'}, 'Value': {'type': 'Param', 'indexing': 'index'}, 'P_PV_Forecast': {'type': 'Param', 'indexing': 'None'}, 'Initial_ESS_SoC': {'type': 'Param', 'indexing': 'index'}, 'Initial_VAC_SoC': {'type': 'Param', 'indexing': 'index'}, 'Number_of_Parked_Cars': {'type': 'Param', 'indexing': 'None'}, 'Unit_Consumption_Assumption': {'type': 'Param', 'indexing': 'None'}, 'Unit_Drop_Penalty': {'type': 'Param', 'indexing': 'None'}, 'ESS_Capacity': {'type': 'Param', 'indexing': 'None'}, 'VAC_Capacity': {'type': 'Param', 'indexing': 'None'}, 'Behavior_Model_Index': {'type': 'Set', 'indexing': 'None'}, 'Behavior_Model': {'type': 'Param', 'indexing': 'None'}, 'dT': {'type': 'Param', 'indexing': 'None'}, 'Decision': {'type': 'Var', 'indexing': 'index'}, 'P_ESS': {'type': 'Var', 'indexing': 'None'}, 'P_VAC': {'type': 'Var', 'indexing': 'None'}, 'P_PV': {'type': 'Var', 'indexing': 'index'}, 'P_GRID': {'type': 'Var', 'indexing': 'None'}}\n",
    "\n",
    "class Constants:\n",
    "\n",
    "    ESS = \"ESS\"\n",
    "    SoC_Value = \"SoC_Value\"\n",
    "    meta = \"meta\"\n",
    "    P_PV = \"P_PV\"\n",
    "    P_Load = \"P_Load\"\n",
    "    Q_Load = \"Q_Load\"\n",
    "    mqtt = \"mqtt\"\n",
    "    Cars = \"Cars\"\n",
    "    Charging_Station = \"Charging_Station\"\n",
    "\n",
    "\n",
    "def extract_optimization_values():\n",
    "    data = {}\n",
    "    for input_config in [input_config_file, input_config_mqtt]:\n",
    "        for k, v in input_config.items():\n",
    "            if isinstance(v, dict):\n",
    "                for k1, v1 in v.items():\n",
    "                    if k1 == Constants.meta:\n",
    "                        for k2, v2 in v1.items():\n",
    "                            try:\n",
    "                                v2 = float(v2)\n",
    "                            except ValueError:\n",
    "                                pass\n",
    "                            if isinstance(v2, float) and v2.is_integer():\n",
    "                                v2 = int(v2)\n",
    "                            if k2 in model_variables.keys():\n",
    "                                indexing = model_variables[k2][\"indexing\"]\n",
    "                                if indexing == \"index\":\n",
    "                                    data[k2] = {int(0): v2}\n",
    "                                elif indexing == \"None\":\n",
    "                                    data[k2] = {None: v2}\n",
    "                            else:\n",
    "                                data[k2] = {None: v2}\n",
    "                    if k1 == Constants.Cars:\n",
    "                        for car in v1:\n",
    "                            print(car)\n",
    "                    if k1 == Constants.Charging_Station:\n",
    "                        print(k1)\n",
    "                    elif k1 == Constants.SoC_Value and isinstance(v1, int):\n",
    "                        indexing = model_variables[Constants.SoC_Value][\"indexing\"]\n",
    "                        if indexing == \"index\":\n",
    "                            data[Constants.SoC_Value] = {int(0): float(v1 / 100)}\n",
    "                        elif indexing == \"None\":\n",
    "                            data[Constants.SoC_Value] = {None: float(v1 / 100)}\n",
    "                    elif isinstance(v1, list):\n",
    "                        add_name_to_list(k1)\n",
    "                    elif k == \"generic\" and not isinstance(v1, dict):\n",
    "                        try:\n",
    "                            v1 = float(v1)\n",
    "                        except ValueError:\n",
    "                            pass\n",
    "                        if isinstance(v1, float) and v1.is_integer():\n",
    "                            v1 = int(v1)\n",
    "                        data[k1] = {None: v1}\n",
    "    return data\n",
    "\n",
    "data = extract_optimization_values()\n",
    "data"
   ]
  },
  {
   "cell_type": "code",
   "execution_count": 26,
   "metadata": {},
   "outputs": [],
   "source": [
    "path = os.path.join(os.getcwd(), \"utils\", \"32da813acb9e\", \"Input.registry.file\")\n",
    "with open(path, \"r\") as file:\n",
    "    input_config_file = json.loads(file.read())\n",
    "\n",
    "input_config_mqtt = {}\n",
    "model_name = \"CarParkModel\""
   ]
  },
  {
   "cell_type": "code",
   "execution_count": 27,
   "metadata": {},
   "outputs": [],
   "source": [
    "defined_external_names = ['SoC_Value']\n",
    "defined_non_prediction_names =  ['P_PV']\n",
    "defined_prediction_names =  []\n",
    "external_names =  []\n",
    "\n",
    "prediction_names = []\n",
    "non_prediction_names = []\n",
    "external_names = []\n",
    "generic_names = []\n",
    "\n",
    "def add_name_to_list(key):\n",
    "    if key in defined_prediction_names:\n",
    "        prediction_names.append(key)\n",
    "    elif key in defined_non_prediction_names:\n",
    "        non_prediction_names.append(key)\n",
    "    elif key in defined_external_names:\n",
    "        external_names.append(key)\n",
    "    else:\n",
    "        generic_names.append(key)"
   ]
  },
  {
   "cell_type": "code",
   "execution_count": 44,
   "metadata": {},
   "outputs": [],
   "source": [
    "model_variables = {'Feasible_ESS_Decisions': {'type': 'Set', 'indexing': 'None'}, 'Feasible_VAC_Decisions': {'type': 'Set', 'indexing': 'None'}, 'Value_Index': {'type': 'Set', 'indexing': 'None'}, 'Value': {'type': 'Param', 'indexing': 'index'}, 'P_PV_Forecast': {'type': 'Param', 'indexing': 'None'}, 'Initial_ESS_SoC': {'type': 'Param', 'indexing': 'index'}, 'Initial_VAC_SoC': {'type': 'Param', 'indexing': 'index'}, 'Number_of_Parked_Cars': {'type': 'Param', 'indexing': 'None'}, 'Unit_Consumption_Assumption': {'type': 'Param', 'indexing': 'None'}, 'Unit_Drop_Penalty': {'type': 'Param', 'indexing': 'None'}, 'ESS_Capacity': {'type': 'Param', 'indexing': 'None'}, 'VAC_Capacity': {'type': 'Param', 'indexing': 'None'}, 'Behavior_Model_Index': {'type': 'Set', 'indexing': 'None'}, 'Behavior_Model': {'type': 'Param', 'indexing': 'None'}, 'dT': {'type': 'Param', 'indexing': 'None'}, 'Decision': {'type': 'Var', 'indexing': 'index'}, 'P_ESS': {'type': 'Var', 'indexing': 'None'}, 'P_VAC': {'type': 'Var', 'indexing': 'None'}, 'P_PV': {'type': 'Var', 'indexing': 'index'}, 'P_GRID': {'type': 'Var', 'indexing': 'None'}}\n",
    "\n",
    "class Constants:\n",
    "\n",
    "    ESS = \"ESS\"\n",
    "    SoC_Value = \"SoC_Value\"\n",
    "    meta = \"meta\"\n",
    "    P_PV = \"P_PV\"\n",
    "    P_Load = \"P_Load\"\n",
    "    Q_Load = \"Q_Load\"\n",
    "    mqtt = \"mqtt\"\n",
    "    Cars = \"Cars\"\n",
    "    Charging_Station = \"Charging_Station\"\n"
   ]
  },
  {
   "cell_type": "code",
   "execution_count": 54,
   "metadata": {},
   "outputs": [],
   "source": [
    "def extract_optimization_values():\n",
    "    data = {}\n",
    "    for input_config in [input_config_file, input_config_mqtt]:\n",
    "        for k, v in input_config.items():\n",
    "            if isinstance(v, dict):\n",
    "                for k1, v1 in v.items():\n",
    "                    if k1 == Constants.meta:\n",
    "                        for k2, v2 in v1.items():\n",
    "                            try:\n",
    "                                v2 = float(v2)\n",
    "                            except ValueError:\n",
    "                                pass\n",
    "                            if isinstance(v2, float) and v2.is_integer():\n",
    "                                v2 = int(v2)\n",
    "                            if k2 in model_variables.keys():\n",
    "                                indexing = model_variables[k2][\"indexing\"]\n",
    "                                if indexing == \"index\":\n",
    "                                    data[k2] = {int(0): v2}\n",
    "                                elif indexing == \"None\":\n",
    "                                    data[k2] = {None: v2}\n",
    "                            else:\n",
    "                                data[k2] = {None: v2}\n",
    "                    if k1 == Constants.Cars:\n",
    "                        for car in v1:\n",
    "                            print(car)\n",
    "                    if k1 == Constants.Charging_Station:\n",
    "                        print(k1)\n",
    "                    elif k1 == Constants.SoC_Value and isinstance(v1, int):\n",
    "                        indexing = model_variables[Constants.SoC_Value][\"indexing\"]\n",
    "                        if indexing == \"index\":\n",
    "                            data[Constants.SoC_Value] = {int(0): float(v1 / 100)}\n",
    "                        elif indexing == \"None\":\n",
    "                            data[Constants.SoC_Value] = {None: float(v1 / 100)}\n",
    "                    elif isinstance(v1, list):\n",
    "                        add_name_to_list(k1)\n",
    "                    elif k == \"generic\" and not isinstance(v1, dict):\n",
    "                        try:\n",
    "                            v1 = float(v1)\n",
    "                        except ValueError:\n",
    "                            pass\n",
    "                        if isinstance(v1, float) and v1.is_integer():\n",
    "                            v1 = int(v1)\n",
    "                        data[k1] = {None: v1}\n",
    "    return data"
   ]
  },
  {
   "cell_type": "code",
   "execution_count": 55,
   "metadata": {},
   "outputs": [
    {
     "name": "stdout",
     "output_type": "stream",
     "text": [
      "{'Car_Name': 'Car1', 'Battery_Capacity_kWh': 30}\n",
      "{'Car_Name': 'Car2', 'Battery_Capacity_kWh': 30}\n",
      "{'Car_Name': 'Car3', 'Battery_Capacity_kWh': 30}\n",
      "{'Car_Name': 'Car4', 'Battery_Capacity_kWh': 30}\n",
      "{'Car_Name': 'Car5', 'Battery_Capacity_kWh': 30}\n",
      "{'Car_Name': 'Car6', 'Battery_Capacity_kWh': 30}\n",
      "{'Car_Name': 'Car7', 'Battery_Capacity_kWh': 30}\n",
      "Charging_Station\n"
     ]
    },
    {
     "data": {
      "text/plain": [
       "{'ESS_Capacity': {None: 2430},\n",
       " 'ESS_Max_Charge_Power': {None: 0.62},\n",
       " 'ESS_Max_Discharge_Power': {None: 0.62},\n",
       " 'ESS_Max_SoC': {None: 1},\n",
       " 'ESS_Min_SoC': {None: 0.2},\n",
       " 'Behavior_Model': {None: 'null'},\n",
       " 'Initial_ESS_SoC': {None: 'null'},\n",
       " 'Initial_VAC_SoC': {None: 'null'},\n",
       " 'Number_of_Parked_Cars': {None: 7},\n",
       " 'Unit_Consumption_Assumption': {None: 2.5},\n",
       " 'Unit_Drop_Penalty': {None: 1},\n",
       " 'VAC_Capacity': {None: 'null'},\n",
       " 'Value': {None: 'null'},\n",
       " 'Max_Voltage_Drop': {None: 1.2315135},\n",
       " 'Min_Voltage_Drop': {None: 1.0246457},\n",
       " 'P_Grid_Max_Export_Power': {None: 10},\n",
       " 'Q_Grid_Max_Export_Power': {None: 10},\n",
       " 'pf_Load': {None: 1},\n",
       " 'PV_Inv_Max_Power': {None: 3501}}"
      ]
     },
     "execution_count": 55,
     "metadata": {},
     "output_type": "execute_result"
    }
   ],
   "source": [
    "data = extract_optimization_values()\n",
    "data"
   ]
  },
  {
   "cell_type": "code",
   "execution_count": 6,
   "metadata": {},
   "outputs": [
    {
     "ename": "AssertionError",
     "evalue": "Error",
     "traceback": [
      "\u001b[0;31m---------------------------------------------------------------------------\u001b[0m",
      "\u001b[0;31mAssertionError\u001b[0m                            Traceback (most recent call last)",
      "\u001b[0;32m<ipython-input-6-a293480d832f>\u001b[0m in \u001b[0;36m<module>\u001b[0;34m\u001b[0m\n\u001b[1;32m      1\u001b[0m \u001b[0mx\u001b[0m \u001b[0;34m=\u001b[0m \u001b[0;32mNone\u001b[0m\u001b[0;34m\u001b[0m\u001b[0;34m\u001b[0m\u001b[0m\n\u001b[1;32m      2\u001b[0m \u001b[0;34m\u001b[0m\u001b[0m\n\u001b[0;32m----> 3\u001b[0;31m \u001b[0;32massert\u001b[0m \u001b[0mx\u001b[0m\u001b[0;34m,\u001b[0m \u001b[0;34m\"Error\"\u001b[0m\u001b[0;34m\u001b[0m\u001b[0;34m\u001b[0m\u001b[0m\n\u001b[0m",
      "\u001b[0;31mAssertionError\u001b[0m: Error"
     ],
     "output_type": "error"
    }
   ],
   "source": [
    "x = None\n",
    "\n",
    "assert x, \"Error\""
   ]
  },
  {
   "cell_type": "code",
   "execution_count": null,
   "metadata": {},
   "outputs": [],
   "source": []
  }
 ],
 "metadata": {
  "kernelspec": {
   "display_name": "Python 3",
   "language": "python",
   "name": "python3"
  },
  "language_info": {
   "codemirror_mode": {
    "name": "ipython",
    "version": 3
   },
   "file_extension": ".py",
   "mimetype": "text/x-python",
   "name": "python",
   "nbconvert_exporter": "python",
   "pygments_lexer": "ipython3",
   "version": "3.6.8"
  },
  "varInspector": {
   "cols": {
    "lenName": 16.0,
    "lenType": 16.0,
    "lenVar": 40.0
   },
   "kernels_config": {
    "python": {
     "delete_cmd_postfix": "",
     "delete_cmd_prefix": "del ",
     "library": "var_list.py",
     "varRefreshCmd": "print(var_dic_list())"
    },
    "r": {
     "delete_cmd_postfix": ") ",
     "delete_cmd_prefix": "rm(",
     "library": "var_list.r",
     "varRefreshCmd": "cat(var_dic_list()) "
    }
   },
   "types_to_exclude": [
    "module",
    "function",
    "builtin_function_or_method",
    "instance",
    "_Feature"
   ],
   "window_display": false
  }
 },
 "nbformat": 4,
 "nbformat_minor": 2
}
