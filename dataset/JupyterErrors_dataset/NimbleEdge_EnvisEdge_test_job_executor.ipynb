{
 "cells": [
  {
   "cell_type": "code",
   "execution_count": 10,
   "metadata": {},
   "outputs": [
    {
     "name": "stdout",
     "output_type": "stream",
     "text": [
      "['/home/ramesht/env/envis/lib/python3.8/site-packages/ray/thirdparty_files', '/home/ramesht/env/envis/lib/python3.8/site-packages/ray/pickle5_files', '/home/ramesht/origin/RecoEdge/notebooks', '/home/ramesht/origin/RecoEdge/notebooks', '/home/ramesht/origin/RecoEdge', '/usr/lib/python38.zip', '/usr/lib/python3.8', '/usr/lib/python3.8/lib-dynload', '', '/home/ramesht/env/envis/lib/python3.8/site-packages', '/home/ramesht/.local/lib/python3.8/site-packages', '../']\n"
     ]
    }
   ],
   "source": [
    "import sys\n",
    "sys.path.append(\"../\")\n",
    "print(sys.path)"
   ]
  },
  {
   "cell_type": "code",
   "execution_count": null,
   "metadata": {},
   "outputs": [],
   "source": [
    "import yaml\n",
    "import json\n",
    "from json import dumps, loads\n",
    "from kafka import KafkaProducer, KafkaConsumer\n",
    "from fedrec.data_models.job_submit_model import JobSubmitMessage\n",
    "from fedrec.utilities import registry\n",
    "import fedrec\n",
    "import experiments\n",
    "import fl_strategies\n",
    "import datasets\n",
    "with open(\"../configs/regression.yml\", 'r') as cfg:\n",
    "    config = yaml.load(cfg, Loader=yaml.FullLoader)\n",
    "\n",
    "def init_kafka(config):\n",
    "    producer_url = \"{}:{}\".format(\n",
    "        config[\"producer_url\"], config[\"producer_port\"])\n",
    "    return KafkaProducer(\n",
    "        bootstrap_servers=[producer_url])\n",
    "\n",
    "# serializer = registry.construct(\"serializer\", \"json\")\n",
    "# config = config[\"multiprocessing\"][\"communications\"]\n",
    "\n",
    "producer = init_kafka(config[\"multiprocessing\"][\"communication_interface\"])\n",
    "producer.send('job-request-aggregator', value=str({\"job_type\":\"train\", \"results\": {},\"error\": [1,2]}).encode('utf-8'))\n"
   ]
  },
  {
   "cell_type": "code",
   "execution_count": null,
   "metadata": {},
   "outputs": [],
   "source": [
    "def init_kafka(config):\n",
    "    consumer_url = \"{}:{}\".format(\n",
    "        config[\"consumer_url\"], config[\"consumer_port\"])\n",
    "    return KafkaConsumer(\n",
    "        bootstrap_servers=[consumer_url])\n",
    "\n"
   ]
  },
  {
   "cell_type": "code",
   "execution_count": 11,
   "metadata": {},
   "outputs": [
    {
     "name": "stdout",
     "output_type": "stream",
     "text": [
      "{'__class__': <class 'fl_strategies.fed_avg.FedAvg'>, '__delattr__': <method-wrapper '__delattr__' of FedAvg object at 0x7fcf427086d0>, '__dir__': <built-in method __dir__ of FedAvg object at 0x7fcf427086d0>, '__eq__': <method-wrapper '__eq__' of FedAvg object at 0x7fcf427086d0>, '__format__': <built-in method __format__ of FedAvg object at 0x7fcf427086d0>, '__ge__': <method-wrapper '__ge__' of FedAvg object at 0x7fcf427086d0>, '__getattribute__': <method-wrapper '__getattribute__' of FedAvg object at 0x7fcf427086d0>, '__gt__': <method-wrapper '__gt__' of FedAvg object at 0x7fcf427086d0>, '__hash__': <method-wrapper '__hash__' of FedAvg object at 0x7fcf427086d0>, '__init__': <bound method FedAvg.__init__ of <fl_strategies.fed_avg.FedAvg object at 0x7fcf427086d0>>, '__init_subclass__': <built-in method __init_subclass__ of type object at 0x677ab30>, '__le__': <method-wrapper '__le__' of FedAvg object at 0x7fcf427086d0>, '__lt__': <method-wrapper '__lt__' of FedAvg object at 0x7fcf427086d0>, '__ne__': <method-wrapper '__ne__' of FedAvg object at 0x7fcf427086d0>, '__new__': <built-in method __new__ of type object at 0x9075a0>, '__reduce__': <built-in method __reduce__ of FedAvg object at 0x7fcf427086d0>, '__reduce_ex__': <built-in method __reduce_ex__ of FedAvg object at 0x7fcf427086d0>, '__repr__': <method-wrapper '__repr__' of FedAvg object at 0x7fcf427086d0>, '__setattr__': <method-wrapper '__setattr__' of FedAvg object at 0x7fcf427086d0>, '__sizeof__': <built-in method __sizeof__ of FedAvg object at 0x7fcf427086d0>, '__str__': <method-wrapper '__str__' of FedAvg object at 0x7fcf427086d0>, '__subclasshook__': <built-in method __subclasshook__ of type object at 0x677ab30>, '_get_default_state': <bound method EnvisBase._get_default_state of <fl_strategies.fed_avg.FedAvg object at 0x7fcf427086d0>>, '_set_state': <bound method EnvisBase._set_state of <fl_strategies.fed_avg.FedAvg object at 0x7fcf427086d0>>, 'aggregate': <bound method FedAvg.aggregate of <fl_strategies.fed_avg.FedAvg object at 0x7fcf427086d0>>, 'model': Regression_Net(\n",
      "  (linear): Linear(in_features=49152, out_features=62, bias=True)\n",
      "  (loss_fn): CrossEntropyLoss()\n",
      "), 'sample_clients': <bound method FedAvg.sample_clients of <fl_strategies.fed_avg.FedAvg object at 0x7fcf427086d0>>, 'store_state': <bound method FedAvg.store_state of <fl_strategies.fed_avg.FedAvg object at 0x7fcf427086d0>>, 'update': <bound method EnvisBase.update of <fl_strategies.fed_avg.FedAvg object at 0x7fcf427086d0>>}\n",
      "*****************************\n",
      "{'__init__': <bound method FedAvg.__init__ of <fl_strategies.fed_avg.FedAvg object at 0x7fcf427086d0>>, '_get_default_state': <bound method EnvisBase._get_default_state of <fl_strategies.fed_avg.FedAvg object at 0x7fcf427086d0>>, '_set_state': <bound method EnvisBase._set_state of <fl_strategies.fed_avg.FedAvg object at 0x7fcf427086d0>>, 'aggregate': <bound method FedAvg.aggregate of <fl_strategies.fed_avg.FedAvg object at 0x7fcf427086d0>>, 'sample_clients': <bound method FedAvg.sample_clients of <fl_strategies.fed_avg.FedAvg object at 0x7fcf427086d0>>, 'store_state': <bound method FedAvg.store_state of <fl_strategies.fed_avg.FedAvg object at 0x7fcf427086d0>>, 'update': <bound method EnvisBase.update of <fl_strategies.fed_avg.FedAvg object at 0x7fcf427086d0>>}\n"
     ]
    }
   ],
   "source": [
    "from fedrec.python_executors.aggregator import Aggregator, Neighbour\n",
    "from fedrec.utilities.logger import NoOpLogger\n",
    "from fedrec.data_models.state_tensors_model import StateTensors\n",
    "from inspect import ismethod, getmembers, isfunction\n",
    "from fedrec.utilities import registry\n",
    "import torch\n",
    "import yaml \n",
    "\n",
    "import fedrec\n",
    "import experiments\n",
    "import fl_strategies\n",
    "import datasets\n",
    "\n",
    "with open(\"../configs/regression.yml\", 'r') as cfg:\n",
    "    config = yaml.load(cfg, Loader=yaml.FullLoader)\n",
    "\n",
    "ag_config = {\n",
    "        # Seed for RNG used in shuffling the training data.\n",
    "    \"data_seed\" : 100,\n",
    "    # Seed for RNG used in initializing the model.\n",
    "    \"init_seed\" : 100,\n",
    "    # Seed for RNG used in computing the model's training loss.\n",
    "    # Only relevant with internal randomness in the model, e.g. with dropout.\n",
    "    \"model_seed\" : 100\n",
    "}\n",
    "tensor = StateTensors(\n",
    "        storage='/home/varun/dump_tensor/',\n",
    "        worker_id=0, round_idx=0,\n",
    "        tensors=torch.load(\n",
    "            '/home/ramesht/dump_tensor/worker_id_0/0_0_trainer87.pt'),\n",
    "        tensor_type='trainer',\n",
    "        suffix=\"41\")\n",
    "\n",
    "in_neighbours={\n",
    "            0: Neighbour(0, tensor, 5)}\n",
    "worker=registry.construct('aggregator',\n",
    "                        config['aggregator'],\n",
    "                        unused_keys=(),\n",
    "                        config_dict=config,\n",
    "                        in_neighbours=in_neighbours,\n",
    "                        out_neighbours={})\n",
    "print({\n",
    "    func_name: getattr(worker, func_name)\n",
    "    for func_name in dir(worker)\n",
    "    if callable(getattr(worker, func_name))\n",
    "})\n",
    "\n",
    "print(\"*****************************\")\n",
    "\n",
    "print(\n",
    "    {\n",
    "    func_name_list[0]: getattr(worker, func_name_list[0])\n",
    "    for func_name_list in getmembers(worker, predicate=ismethod)\n",
    "}\n",
    ")"
   ]
  },
  {
   "cell_type": "code",
   "execution_count": 12,
   "metadata": {},
   "outputs": [
    {
     "ename": "AttributeError",
     "evalue": "'Tensor' object has no attribute 'copy'",
     "output_type": "error",
     "traceback": [
      "\u001b[0;31m---------------------------------------------------------------------------\u001b[0m",
      "\u001b[0;31mAttributeError\u001b[0m                            Traceback (most recent call last)",
      "\u001b[1;32m/home/ramesht/origin/RecoEdge/notebooks/test_job_executor.ipynb Cell 5'\u001b[0m in \u001b[0;36m<module>\u001b[0;34m\u001b[0m\n\u001b[0;32m----> <a href='vscode-notebook-cell://ssh-remote%2Bdev-ec2/home/ramesht/origin/RecoEdge/notebooks/test_job_executor.ipynb#ch0000004vscode-remote?line=0'>1</a>\u001b[0m worker\u001b[39m.\u001b[39;49mmodel\u001b[39m.\u001b[39;49mload_state_dict(tensor\u001b[39m.\u001b[39;49mtensors)\n",
      "File \u001b[0;32m~/env/envis/lib/python3.8/site-packages/torch/nn/modules/module.py:1455\u001b[0m, in \u001b[0;36mModule.load_state_dict\u001b[0;34m(self, state_dict, strict)\u001b[0m\n\u001b[1;32m   <a href='file:///home/ramesht/env/envis/lib/python3.8/site-packages/torch/nn/modules/module.py?line=1452'>1453</a>\u001b[0m \u001b[39m# copy state_dict so _load_from_state_dict can modify it\u001b[39;00m\n\u001b[1;32m   <a href='file:///home/ramesht/env/envis/lib/python3.8/site-packages/torch/nn/modules/module.py?line=1453'>1454</a>\u001b[0m metadata \u001b[39m=\u001b[39m \u001b[39mgetattr\u001b[39m(state_dict, \u001b[39m'\u001b[39m\u001b[39m_metadata\u001b[39m\u001b[39m'\u001b[39m, \u001b[39mNone\u001b[39;00m)\n\u001b[0;32m-> <a href='file:///home/ramesht/env/envis/lib/python3.8/site-packages/torch/nn/modules/module.py?line=1454'>1455</a>\u001b[0m state_dict \u001b[39m=\u001b[39m state_dict\u001b[39m.\u001b[39;49mcopy()\n\u001b[1;32m   <a href='file:///home/ramesht/env/envis/lib/python3.8/site-packages/torch/nn/modules/module.py?line=1455'>1456</a>\u001b[0m \u001b[39mif\u001b[39;00m metadata \u001b[39mis\u001b[39;00m \u001b[39mnot\u001b[39;00m \u001b[39mNone\u001b[39;00m:\n\u001b[1;32m   <a href='file:///home/ramesht/env/envis/lib/python3.8/site-packages/torch/nn/modules/module.py?line=1456'>1457</a>\u001b[0m     \u001b[39m# mypy isn't aware that \"_metadata\" exists in state_dict\u001b[39;00m\n\u001b[1;32m   <a href='file:///home/ramesht/env/envis/lib/python3.8/site-packages/torch/nn/modules/module.py?line=1457'>1458</a>\u001b[0m     state_dict\u001b[39m.\u001b[39m_metadata \u001b[39m=\u001b[39m metadata  \u001b[39m# type: ignore[attr-defined]\u001b[39;00m\n",
      "\u001b[0;31mAttributeError\u001b[0m: 'Tensor' object has no attribute 'copy'"
     ]
    }
   ],
   "source": [
    "worker.model.load_state_dict(tensor.tensors)"
   ]
  },
  {
   "cell_type": "code",
   "execution_count": 7,
   "metadata": {},
   "outputs": [],
   "source": [
    "tensor = StateTensors(\n",
    "        storage='/home/varun/dump_tensor/',\n",
    "        worker_id=0, round_idx=0,\n",
    "        tensors=torch.load(\n",
    "            '/home/varun/dump_tensor/user-module_1.pt'),\n",
    "        tensor_type='trainer',\n",
    "        suffix=\"41\")"
   ]
  },
  {
   "cell_type": "code",
   "execution_count": 9,
   "metadata": {},
   "outputs": [
    {
     "data": {
      "text/plain": [
       "'/home/varun/dump_tensor/test.pt'"
      ]
     },
     "execution_count": 9,
     "metadata": {},
     "output_type": "execute_result"
    }
   ],
   "source": [
    "from fedrec.utilities.io_utils import save_tensors\n",
    "save_tensors(worker.model.state_dict(), '/home/varun/dump_tensor/test.pt')"
   ]
  }
 ],
 "metadata": {
  "interpreter": {
   "hash": "51531c554075179001860b6fe6c704d2e9ab2c7b904341e6ce5ef1aa017c6f81"
  },
  "kernelspec": {
   "display_name": "Python 3.8.12 64-bit ('recoedge': conda)",
   "language": "python",
   "name": "python3"
  },
  "language_info": {
   "codemirror_mode": {
    "name": "ipython",
    "version": 3
   },
   "file_extension": ".py",
   "mimetype": "text/x-python",
   "name": "python",
   "nbconvert_exporter": "python",
   "pygments_lexer": "ipython3",
   "version": "3.8.10"
  },
  "orig_nbformat": 4
 },
 "nbformat": 4,
 "nbformat_minor": 2
}
