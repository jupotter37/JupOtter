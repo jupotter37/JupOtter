{
 "cells": [
  {
   "attachments": {},
   "cell_type": "markdown",
   "metadata": {},
   "source": [
    "## 标题:python中类的构造方法`__new__`有什么用,和`__init__`有什么区别\n",
    "\n",
    "### 1. 常规写法\n",
    "1. 在常规写法中，我们就是使用`__init__`来初始化一个类的实例。"
   ]
  },
  {
   "cell_type": "code",
   "execution_count": 55,
   "metadata": {},
   "outputs": [
    {
     "name": "stdout",
     "output_type": "stream",
     "text": [
      "init a class, self.args=(1, 2, 3), {'gzh': '统计学人'}\n",
      "init a class, self.args=(1, 2, 3), {'date': '2022-12-25'}\n"
     ]
    }
   ],
   "source": [
    "class A(object):\n",
    "    def __init__(self, *args,**kwargs):\n",
    "        self.args = args\n",
    "        self.kwargs = kwargs\n",
    "        print(f\"init a class, {self.args=}, {self.kwargs}\")\n",
    "\n",
    "\n",
    "a = A(1,2,3,gzh='统计学人')\n",
    "b = A(1,2,3,date = \"2022-12-25\")\n"
   ]
  },
  {
   "cell_type": "code",
   "execution_count": 56,
   "metadata": {},
   "outputs": [
    {
     "name": "stdout",
     "output_type": "stream",
     "text": [
      "<__main__.A object at 0x7f8ee547e050>\n",
      "<__main__.A object at 0x7f8ee547f3a0>\n"
     ]
    }
   ],
   "source": [
    "print(a)\n",
    "print(b)"
   ]
  },
  {
   "attachments": {},
   "cell_type": "markdown",
   "metadata": {},
   "source": [
    "### 2. 添加`__new__`属性"
   ]
  },
  {
   "cell_type": "code",
   "execution_count": 57,
   "metadata": {},
   "outputs": [
    {
     "name": "stdout",
     "output_type": "stream",
     "text": [
      "__new__ is called in 2022-12-25 13:28:36.702439\n",
      "__init__ is called in 2022-12-25 13:28:36.702623\n"
     ]
    }
   ],
   "source": [
    "from datetime import datetime\n",
    "\n",
    "class A(object):\n",
    "\n",
    "    def __new__(cls, *args, **kwargs) :\n",
    "        # print(\"*\"*80)\n",
    "        print(f\"__new__ is called in {datetime.now()}\")\n",
    "        # print(\"*\"*80)\n",
    "\n",
    "        return super().__new__(cls)\n",
    "\n",
    "    def __init__(self, *args,**kwargs):\n",
    "        self.args = args\n",
    "        self.kwargs = kwargs\n",
    "        print(f\"__init__ is called in {datetime.now()}\")\n",
    "        # print(f\"{self.args=}, {self.kwargs}\")\n",
    "\n",
    "\n",
    "a = A(1,2,3,gzh='统计学人')\n",
    "# b = A(1,2,3,date = \"2022-12-25\")"
   ]
  },
  {
   "attachments": {},
   "cell_type": "markdown",
   "metadata": {},
   "source": [
    "查看上面的运行时间，可以看出来：先运行`__new__`，再运行`__init__`，这里也不得不介绍一下这个到底是怎么回事\n",
    "### `__new__`和`__init__`的关系\n",
    "1. `__new__` 负责`对象创建`。\n",
    "2.  `__init__` 负责`对象初始化`。\n",
    "\n",
    "#### `tips:`\n",
    "1. 说白了，以前我们只是知道一个对象的需要初始化，但是不知道这个对象在初始化之前需要创建一个对象。这一次就是更加仔细的把一个对象的创建过程，表现出来。\n",
    "2. 这么做图什么？图的是对每一个步骤、每一个数据对象的精准控制。\n",
    "\n",
    "### 使用注意事项\n",
    "1. `__new__`的第一个参数是`cls`，而不是`self`，这个是不同于`__init__`的。\n",
    "2. `__new__`一般来说，最好是需要`return`的, 但是`__init__`不需要返回值。\n",
    "3. `__new__`通常情况下，最好不要用。\n",
    "\n",
    "## 使用`__new__`的场景\n",
    "### 1. 不可改变类型的子类\n",
    "有这样一个场景，需要使用一个新的数据类型：大写类型的tuple，即不管输入什么字符串列表，都需要返回的是大写字符串的tuple样式：\n",
    "\n",
    "example: `myclass(['a','hello', 'world']) => ('A', 'HELLO', 'WORDLD')`\n",
    "\n",
    "\n",
    "Q： 有的人说，这还不简单，就是创建一个返回为`tuple`的类呗，为什么要继承这个`tuple`类？\n",
    "\n",
    "A： 这么做肯定是可以的，但是从性能角度考虑，`tuple`类型是全部都是使用C语言编写的，直接使用`tuple`的内置方法来实现，效率更高。你写的任何python代码，都是没有内置C更快的。"
   ]
  },
  {
   "cell_type": "code",
   "execution_count": 58,
   "metadata": {},
   "outputs": [
    {
     "name": "stdout",
     "output_type": "stream",
     "text": [
      "UPPERCASE TUPLE EXAMPLE\n",
      "init ['hello', 'world']\n"
     ]
    },
    {
     "ename": "TypeError",
     "evalue": "'UppercaseTuple' object does not support item assignment",
     "output_type": "error",
     "traceback": [
      "\u001b[0;31m---------------------------------------------------------------------------\u001b[0m",
      "\u001b[0;31mTypeError\u001b[0m                                 Traceback (most recent call last)",
      "Cell \u001b[0;32mIn[58], line 12\u001b[0m\n\u001b[1;32m      9\u001b[0m     \u001b[39mprint\u001b[39m(\u001b[39m\"\u001b[39m\u001b[39mUPPERCASE TUPLE EXAMPLE\u001b[39m\u001b[39m\"\u001b[39m)\n\u001b[1;32m     10\u001b[0m     \u001b[39mprint\u001b[39m(UppercaseTuple([\u001b[39m\"\u001b[39m\u001b[39mhello\u001b[39m\u001b[39m\"\u001b[39m, \u001b[39m\"\u001b[39m\u001b[39mworld\u001b[39m\u001b[39m\"\u001b[39m]))\n\u001b[0;32m---> 12\u001b[0m inheriting_immutable_uppercase_tuple_example()\n",
      "Cell \u001b[0;32mIn[58], line 10\u001b[0m, in \u001b[0;36minheriting_immutable_uppercase_tuple_example\u001b[0;34m()\u001b[0m\n\u001b[1;32m      8\u001b[0m \u001b[39mdef\u001b[39;00m \u001b[39minheriting_immutable_uppercase_tuple_example\u001b[39m():\n\u001b[1;32m      9\u001b[0m     \u001b[39mprint\u001b[39m(\u001b[39m\"\u001b[39m\u001b[39mUPPERCASE TUPLE EXAMPLE\u001b[39m\u001b[39m\"\u001b[39m)\n\u001b[0;32m---> 10\u001b[0m     \u001b[39mprint\u001b[39m(UppercaseTuple([\u001b[39m\"\u001b[39;49m\u001b[39mhello\u001b[39;49m\u001b[39m\"\u001b[39;49m, \u001b[39m\"\u001b[39;49m\u001b[39mworld\u001b[39;49m\u001b[39m\"\u001b[39;49m]))\n",
      "Cell \u001b[0;32mIn[58], line 5\u001b[0m, in \u001b[0;36mUppercaseTuple.__init__\u001b[0;34m(self, iterable)\u001b[0m\n\u001b[1;32m      3\u001b[0m \u001b[39mprint\u001b[39m(\u001b[39mf\u001b[39m\u001b[39m\"\u001b[39m\u001b[39minit \u001b[39m\u001b[39m{\u001b[39;00miterable\u001b[39m}\u001b[39;00m\u001b[39m\"\u001b[39m)\n\u001b[1;32m      4\u001b[0m \u001b[39mfor\u001b[39;00m i , arg \u001b[39min\u001b[39;00m \u001b[39menumerate\u001b[39m(iterable):\n\u001b[0;32m----> 5\u001b[0m     \u001b[39mself\u001b[39;49m[i] \u001b[39m=\u001b[39m arg\u001b[39m.\u001b[39mupper()\n",
      "\u001b[0;31mTypeError\u001b[0m: 'UppercaseTuple' object does not support item assignment"
     ]
    }
   ],
   "source": [
    "class UppercaseTuple(tuple):\n",
    "    def __init__(self, iterable):\n",
    "        print(f\"init {iterable}\")\n",
    "        for i , arg in enumerate(iterable):\n",
    "            self[i] = arg.upper()\n",
    "\n",
    "\n",
    "def inheriting_immutable_uppercase_tuple_example():\n",
    "    print(\"UPPERCASE TUPLE EXAMPLE\")\n",
    "    print(UppercaseTuple([\"hello\", \"world\"]))\n",
    "\n",
    "inheriting_immutable_uppercase_tuple_example()"
   ]
  },
  {
   "attachments": {},
   "cell_type": "markdown",
   "metadata": {},
   "source": [
    "#### 代码报错\n",
    "上面代码是使用`__init__`写了一个类，希望实现我们的需求。但是没完成？，原因如下：\n",
    "1. 因为tuple是一个不可变类型的数据格式。\n",
    "2. tuple数据类型在被创建之后，就不能在使用`__init__`来进行初始化了。\n",
    "3. 因此我们要赶在tuple被创建的时候，就要开始动手做一些事情了。\n",
    "\n"
   ]
  },
  {
   "cell_type": "code",
   "execution_count": null,
   "metadata": {},
   "outputs": [
    {
     "name": "stdout",
     "output_type": "stream",
     "text": [
      "UPPERCASE TUPLE EXAMPLE\n",
      "('HELLO', 'WORLD')\n"
     ]
    }
   ],
   "source": [
    "class UppercaseTuple(tuple):\n",
    "    def __new__(cls, iterable):\n",
    "        upper_iterable = (s.upper() for s in iterable)\n",
    "        return super().__new__(cls, upper_iterable)\n",
    "    # def __init__(self, iterable):\n",
    "    #     print(f\"init {iterable}\")\n",
    "    #     for i , arg in enumerate(iterable):\n",
    "    #         self[i] = arg.upper()\n",
    "\n",
    "\n",
    "def inheriting_immutable_uppercase_tuple_example():\n",
    "    print(\"UPPERCASE TUPLE EXAMPLE\")\n",
    "    print(UppercaseTuple([\"hello\", \"world\"]))\n",
    "\n",
    "inheriting_immutable_uppercase_tuple_example()"
   ]
  },
  {
   "attachments": {},
   "cell_type": "markdown",
   "metadata": {},
   "source": [
    "### 单例模式\n",
    "单例模式最初的定义出现于《设计模式》：“保证一个类仅有一个实例，并提供一个访问它的全局访问点。”\n",
    "单例的使用主要是在需要保证全局只有一个实例可以被访问的情况，比如系统日志的输出、操作系统的任务管理器等。\n",
    "\n",
    "说的更加直白一点：不管是macos还是window系统，电脑上都是有一个垃圾桶🚮。而且只有一个。你不会在电脑上放两个垃圾桶吧。那么强制只有一个垃圾桶，而且可以在任何地方把文件丢到垃圾桶里面，这种设计模式就是`单例模式`"
   ]
  },
  {
   "cell_type": "code",
   "execution_count": null,
   "metadata": {},
   "outputs": [
    {
     "name": "stdout",
     "output_type": "stream",
     "text": [
      "SINGLETON EXAMPLE\n",
      "x is y=True\n"
     ]
    }
   ],
   "source": [
    "class Singleton:\n",
    "    \"\"\"单例模式的代码\"\"\" \n",
    "    _instance = None \n",
    "\n",
    "    def __new__(cls, *args, **kwargs):\n",
    "        if cls._instance is None:\n",
    "            cls._instance = super().__new__(cls, *args, **kwargs)\n",
    "        \n",
    "        return cls._instance\n",
    "\n",
    "def singleton_example():\n",
    "    print(\"SINGLETON EXAMPLE\")\n",
    "    x = Singleton()\n",
    "    y = Singleton()\n",
    "\n",
    "    print(f\"{x is y=}\")\n",
    "\n",
    "singleton_example()"
   ]
  },
  {
   "attachments": {},
   "cell_type": "markdown",
   "metadata": {},
   "source": [
    "#### 说明\n",
    "1. 上面就是一个简单的单例模式模式的案例，x,y其实关联到一个实例上。\n",
    "\n",
    "为了更加清楚单例模式模式，那我们来举例子：\n",
    "1. 你是光明县的县长，叫梅县长。\n",
    "2. 你们厂里有一台污水处理厂，而且只有一台。\n",
    "3. 有一天，一个养猪场的厂长来找你，说：“我这里有很多猪，每天拉屎拉尿的，有很多污水，需要处理，你给我盖污水处理厂一个吧”。\n",
    "4. 又有一天，一个化肥厂的厂长来找你，说：“我这里每天要生产很多化肥，但是有很多污水，你给我盖个污水处理厂吧”。\n",
    "5. 有很多人来找你，希望你给他们盖污水处理厂。\n",
    "6. 你作为县长，肯定说没问题。说：“你们养猪场的污水处理厂，我批准了。你们化肥长的污水处理厂我也批准了，，，，，”。\n",
    "7. 但是你实际上，只是盖了一个污水处理厂。虽然允诺了盖了十几个污水厂。只不过是暗地里修了很多管道，通往一个污水处理厂罢了。\n",
    "8. 污水处理厂，最重要的还是设备，一台设备几百万。但是管道才多少钱。这样下来，利用政府项目，捞了多少油水。"
   ]
  },
  {
   "cell_type": "code",
   "execution_count": null,
   "metadata": {},
   "outputs": [
    {
     "name": "stdout",
     "output_type": "stream",
     "text": [
      "当官期间\n",
      "给 养猪 盖的 县南污水处理厂\n",
      "县南污水处理厂 已经盖过了，就用之前的吧\n",
      "x is y = True\n",
      "给 钢铁厂 盖的 县北污水处理厂\n"
     ]
    }
   ],
   "source": [
    "class Wushui:\n",
    "    _loaded = {}\n",
    "\n",
    "    def __new__(cls, factory_name:str, to_user:str):\n",
    "        if (factory := cls._loaded.get(factory_name)) is not None:\n",
    "            print(f\"{factory_name} 已经盖过了，就用之前的吧\")\n",
    "            return factory\n",
    "        \n",
    "        factory = super().__new__(cls)\n",
    "        cls._loaded[factory_name] = factory\n",
    "        factory._init_from_user(factory_name, to_user)\n",
    "        return factory\n",
    "\n",
    "    def _init_from_user(self, factory_name:str, to_user:str):\n",
    "        print(f\"给 {to_user} 盖的 {factory_name}\")\n",
    "        self.to_user = to_user\n",
    "\n",
    "def dangguan():\n",
    "    \n",
    "    print(\"当官期间\")\n",
    "    x = Wushui(factory_name=\"县南污水处理厂\", to_user=\"养猪\")\n",
    "    y = Wushui(factory_name=\"县南污水处理厂\", to_user=\"化肥厂\")\n",
    "    print(f\"{x is y = }\")\n",
    "    z = Wushui(factory_name=\"县北污水处理厂\", to_user=\"钢铁厂\")\n",
    "\n",
    "dangguan()\n"
   ]
  },
  {
   "attachments": {},
   "cell_type": "markdown",
   "metadata": {},
   "source": [
    "#### 说明\n",
    "\n",
    "上面的运行结果可以看出来:\n",
    "1. 先给`养猪场`盖一个`县南污水处理厂`\n",
    "2. 后来虽然给`化肥厂`表面上也盖了一个所谓处理厂，但是县长的小算盘：依然使用`县南污水处理厂`\n",
    "3. 钢铁污水多，还是另外盖一个新的`县北污水处理厂`.\n",
    "\n",
    "这样看下来，基本上就是对使用`__new__`实现`单例模式`非常清晰了吧。\n",
    "\n",
    "\n",
    "#### 继续\n",
    "到这里，你作为老谋深算的梅县长，肯定也是知道并没有结束，上面方案虽然是把问题解决了，但是我们要做的天衣无缝，不然很容易被撸下马。做县长肯定是没那么简单的。\n",
    "\n",
    "1. 你也知道，不同类型的污水，肯定是不能混合处理的。养猪的污水和生活污水是不能混合的，钢铁厂的污水和化肥厂的污水肯定也是不能混合的。\n",
    "2. 虽然对外你说的是建立了几个厂，但是你实际上就一个厂处理，万一一个厂发生爆炸了，这可怎么办。\n",
    "3. 但是出于成本考虑，需要把不同的污水放在一个厂处理。这可怎么办？\n",
    "4. 那就这么做：一个厂，按照污水的处理需求，分为：`常规污水`,`重金属污水`,`生活污水`,不同污水来了，就什么方式处理。反正就是见招拆招.\n",
    "5. 而且污水处理厂，升级改造，还是能赚到不少钱的。美滋滋。开干！"
   ]
  },
  {
   "cell_type": "code",
   "execution_count": null,
   "metadata": {},
   "outputs": [
    {
     "name": "stdout",
     "output_type": "stream",
     "text": [
      "('车间1', '养猪场', '常规污水', '10吨')\n",
      "('车间2', '东苑', '生活污水', '20吨')\n",
      "('车间1', '化肥厂', '常规污水', '30吨')\n",
      "('车间3', '钢铁厂', '重金属污水', '40吨')\n"
     ]
    }
   ],
   "source": [
    "class BigFactory:\n",
    "    _registry = {}\n",
    "    _wushui_type = {'养猪场':'常规污水', '东苑':'生活污水', '钢铁厂':'重金属污水', '化肥厂':'常规污水'}\n",
    "\n",
    "    def __init_subclass__(cls, prefix, **kwargs) -> None:\n",
    "        super().__init_subclass__(**kwargs)\n",
    "        cls._registry[prefix] = cls\n",
    "\n",
    "    \n",
    "    def __new__(cls, wushui:str):\n",
    "        send_name,sep, size = wushui.partition(\"送来了\")\n",
    "\n",
    "        if sep:\n",
    "            size = size \n",
    "        else:\n",
    "            size = 0\n",
    "            # prefix = \"常规污水\"\n",
    "\n",
    "        prefix = cls._wushui_type.get(send_name, \"常规污水\")\n",
    "        \n",
    "        \n",
    "        subclass = cls._registry[prefix]\n",
    "        obj = object.__new__(subclass)\n",
    "        obj.size = size \n",
    "        obj.send_name = send_name\n",
    "        obj.wushui_type = prefix\n",
    "        return obj\n",
    "\n",
    "class smallfactory1(BigFactory, prefix=\"常规污水\"):\n",
    "    def process(self):\n",
    "        return '车间1', self.send_name, self.wushui_type, self.size \n",
    "\n",
    "class smallfactory2(BigFactory,prefix=\"生活污水\"):\n",
    "    def process(self):\n",
    "        return '车间2', self.send_name, self.wushui_type, self.size \n",
    "\n",
    "class smallfactory3(BigFactory,prefix=\"重金属污水\"):\n",
    "    def process(self):\n",
    "        return '车间3', self.send_name, self.wushui_type, self.size \n",
    "\n",
    "\n",
    "\n",
    "\n",
    "def dangguan():\n",
    "    print(BigFactory(wushui=\"养猪场送来了10吨\").process())\n",
    "    print(BigFactory(wushui=\"东苑送来了20吨\").process())\n",
    "    print(BigFactory(wushui=\"化肥厂送来了30吨\").process())\n",
    "    print(BigFactory(wushui=\"钢铁厂送来了40吨\").process())\n",
    "\n",
    "dangguan()"
   ]
  },
  {
   "attachments": {},
   "cell_type": "markdown",
   "metadata": {},
   "source": [
    "#### 说明\n",
    "1. 可以看出来，我们这个新的智能工厂，会自动的处理各种类型的污水，按照污水的来源，分发到不同的车间。\n",
    "2. 这个工厂不管是表面服务于各个生产工厂，还是说内部的污水处理逻辑。都是相当强大的。\n",
    "3. 这个钱虽然是贪了不少，但是通过科学的手段来贪，可谓是秒哇！"
   ]
  },
  {
   "attachments": {},
   "cell_type": "markdown",
   "metadata": {},
   "source": [
    "## 参考链接\n",
    "1. https://juejin.cn/post/6844904065302790158\n",
    "2. https://peps.python.org/pep-0487/#requiring-an-explicit-decorator-on-init-subclass\n",
    "3. https://www.cnblogs.com/zhanhaixiang/p/15615286.html\n",
    "4. https://www.51cto.com/article/711136.html\n",
    "5. https://blog.csdn.net/luoweifu/article/details/82732313\n",
    "6. https://zhuanlan.zhihu.com/p/21379984\n",
    "7. https://zhuanlan.zhihu.com/p/225834335\n",
    "8. https://stackoverflow.com/questions/45400284/understanding-init-subclass\n",
    "9. https://www.youtube.com/watch?v=-zsV0_QrfTw\n",
    "10. https://www.programiz.com/python-programming/methods/string/partition"
   ]
  },
  {
   "cell_type": "code",
   "execution_count": null,
   "metadata": {},
   "outputs": [],
   "source": []
  }
 ],
 "metadata": {
  "kernelspec": {
   "display_name": "mynet310",
   "language": "python",
   "name": "python3"
  },
  "language_info": {
   "codemirror_mode": {
    "name": "ipython",
    "version": 3
   },
   "file_extension": ".py",
   "mimetype": "text/x-python",
   "name": "python",
   "nbconvert_exporter": "python",
   "pygments_lexer": "ipython3",
   "version": "3.10.8"
  },
  "orig_nbformat": 4,
  "vscode": {
   "interpreter": {
    "hash": "5257071dabf8bddc40a63bcf728c0d99adb25068da338be57902ffcde80a2e1e"
   }
  }
 },
 "nbformat": 4,
 "nbformat_minor": 2
}
