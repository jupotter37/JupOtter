{
 "cells": [
  {
   "cell_type": "markdown",
   "id": "09cf64b6-1bf6-4858-bfe8-3d9219b5c564",
   "metadata": {},
   "source": [
    "# Overview : Paillier cryptosystem\n",
    "\n",
    "In this notebook, we explore a simple example to explore homomorphic encryption technique using [Paillier](https://en.wikipedia.org/wiki/Paillier_cryptosystem) cryptosystem. The Pailier cryptosystem is an efficient additive partial homomorphic encryption system that is based on the composite residuosity class problem. This means that given only the ciphertexts on $m_{1}$ and $m_{2}$ along with the same public key, anyone can calculate the cipher text on $m_{1} + m_{2}$. This method works very well in privacy preservation for financial scenarios where the transactions are mainly related to addition and substraction operations on the amount or balance. "
   ]
  },
  {
   "cell_type": "markdown",
   "id": "a968eb3e-10ef-419a-8cd1-43d2c8403438",
   "metadata": {},
   "source": [
    "## Public key encryption scheme "
   ]
  },
  {
   "cell_type": "markdown",
   "id": "585abff9-f36c-419e-b410-860496794561",
   "metadata": {},
   "source": [
    "The basic public key encryption scheme has three stages:\n",
    "1. generate a public-private key pair.\n",
    "2. encrypt a number.\n",
    "3. decrypt a number.\n",
    "\n",
    "The **helper functions** that we use are:\n",
    "\n",
    "1. $gcd(x,y)$ outputs the greatest common divisor of $x$ and $y$.\n",
    "2. $lcm(x,y)$ outputs the least common multiple of $x$ and $y$.\n",
    "\n",
    "**Key Generation**\n",
    "\n",
    "The process of key generation are as follows,\n",
    "\n",
    "1. Pick two large prime numbers $p$ and $q$, randomly and independently. Confirm that $gcd(pq,(p-1)(q-1))$ is $1$. If not, start again.\n",
    "2. Compute $n = pq$.\n",
    "3. Define function, $L(x) = \\frac{(x-1)}{n}$.\n",
    "4. Compute $\\lambda$ as $lcm(p-1, q-1)$.\n",
    "5. Pick a random integer $g$ in the set $Z^*_{n^2}$ (integers between $1$ and $n^2$).\n",
    "6. Calculate the [modular multiplicative inverse](https://en.wikipedia.org/wiki/Modular_multiplicative_inverse) $\\mu = (L(g^\\lambda\\ mod \\ n^2))^{-1} mod \\ n$. If $\\mu$ does not exist, start again from step 1. (For understanding, if $x \\ mod \\ y = r$ then, $x \\ = \\ dividend$, $y \\ = \\ divisor$ and $r \\ = \\ remainder$)\n",
    "7. The public key is $(n,g)$. We use this from encryption.\n",
    "8. The private key is $\\lambda$. We use this for decryption.\n",
    "\n",
    "**Encryption**\n",
    "\n",
    "The steps for encryption are as follows,\n",
    "\n",
    "1. Let $m$ be a message to be encrypted where $0\\le m<n$.\n",
    "2. Pick a random number $r$ in the range $0<r<n$.\n",
    "3. Compute $cipher \\ text, c = g^m . r^n mod (n^2)$\n",
    "\n",
    "**Decryption** \n",
    "\n",
    "1. Let $c$ be the cipher text to decrypt, where $c \\in Z^*_{n^2}$.\n",
    "2. We compute the plain text message as: $m = L(c^\\lambda mod \\ n^2).\\mu \\ mod(n)$"
   ]
  },
  {
   "cell_type": "markdown",
   "id": "6c7dab58-3e3b-4716-baaf-870a0bd63809",
   "metadata": {},
   "source": [
    "## Public Key Encryption Scheme (Example)\n",
    "\n",
    "**Key Generation**\n",
    "\n",
    "1. Pick $p \\ = \\ 13$ and $q \\ = \\ 17$. (These are previously tested numbers that satisfy the condition.)\n",
    "2. Compute $n \\ = \\ 221$.\n",
    "3. Compute $\\lambda \\ = \\ 48$.\n",
    "4. Pick $g \\ = \\ 4886$.\n",
    "5. Compute $\\mu \\ = \\ 159$.\n",
    "\n",
    "\n",
    "**Encryption**\n",
    "1. Set $m_{1} \\ = \\ 123$.\n",
    "2. Pick $r_{1} \\ = \\ 666$.\n",
    "3. Compute $cipher \\ text, c_{1} \\ = \\ 25889 \\ mod \\ 221^2$.\n",
    "\n",
    "**Decryption***\n",
    "1. $m_{decrypted} = 123 \\ mod \\ 221 \\ = 123$. (Same as $m_{1})$"
   ]
  },
  {
   "cell_type": "markdown",
   "id": "e4b87734-dbe3-4a31-a887-6ca1e850205b",
   "metadata": {},
   "source": [
    "## Using [python-paillier](https://pypi.org/project/phe/)"
   ]
  },
  {
   "cell_type": "markdown",
   "id": "f55156b1-3a7e-4016-92ae-912cb0bbd6c6",
   "metadata": {},
   "source": [
    "In this section, we will see how we can implement a partial homomorphic encryption technique using paillier python pachage."
   ]
  },
  {
   "cell_type": "code",
   "execution_count": 1,
   "id": "a329524a-663a-48b1-a191-a0890c8df5b9",
   "metadata": {},
   "outputs": [],
   "source": [
    "from phe import paillier\n",
    "import statistics"
   ]
  },
  {
   "cell_type": "markdown",
   "id": "5566dd67-5bc9-4823-b1ae-1e83a65cfede",
   "metadata": {},
   "source": [
    "**Assigning two random numbers**"
   ]
  },
  {
   "cell_type": "code",
   "execution_count": 2,
   "id": "516e9e49-9ba0-48d7-b4b2-121e9e0e7dc7",
   "metadata": {},
   "outputs": [],
   "source": [
    "num1 = 30\n",
    "num2 = 40"
   ]
  },
  {
   "cell_type": "markdown",
   "id": "b4b37271-9300-4918-9fdb-99582e0f7b1c",
   "metadata": {},
   "source": [
    "**Generating public and private keys and encrypting the numbers**"
   ]
  },
  {
   "cell_type": "code",
   "execution_count": 3,
   "id": "a55ca8b2-d70e-4f78-8359-ad111c3b761e",
   "metadata": {},
   "outputs": [],
   "source": [
    "pub_key, priv_key = paillier.generate_paillier_keypair()\n",
    "cipher_num1, cipher_num2 = pub_key.encrypt(num1), pub_key.encrypt(num2)"
   ]
  },
  {
   "cell_type": "markdown",
   "id": "24fbc9db-584c-4a9e-8f18-c0cfd252cc9a",
   "metadata": {},
   "source": [
    "**Adding two encrypted numbers together**"
   ]
  },
  {
   "cell_type": "code",
   "execution_count": 4,
   "id": "53320457-d088-4e16-9705-97fbce63e565",
   "metadata": {},
   "outputs": [],
   "source": [
    "result = cipher_num1 + cipher_num2\n",
    "result = priv_key.decrypt(result)"
   ]
  },
  {
   "cell_type": "markdown",
   "id": "cd3d7241-e1c4-4506-980a-09ed127dc3aa",
   "metadata": {},
   "source": [
    "**Decrypting the result**"
   ]
  },
  {
   "cell_type": "code",
   "execution_count": 5,
   "id": "5479f718-7df8-4c4f-aca3-951221df5413",
   "metadata": {},
   "outputs": [
    {
     "name": "stdout",
     "output_type": "stream",
     "text": [
      "Add two encrypted numbers together: 70\n"
     ]
    }
   ],
   "source": [
    "print(\"Add two encrypted numbers together:\", result)"
   ]
  },
  {
   "cell_type": "markdown",
   "id": "f46262a1-eccb-4d95-8211-00a8260c0c37",
   "metadata": {},
   "source": [
    "**Adding a scalar to the encrypted number and decrypting the result**"
   ]
  },
  {
   "cell_type": "code",
   "execution_count": 6,
   "id": "df8806b9-cdb2-4ef5-8823-701164fe6ea6",
   "metadata": {},
   "outputs": [],
   "source": [
    "result = cipher_num1 + 5\n",
    "result = priv_key.decrypt(result)"
   ]
  },
  {
   "cell_type": "code",
   "execution_count": 7,
   "id": "da0eb3c1-bb5a-44ea-a08e-8259dcf98b95",
   "metadata": {},
   "outputs": [
    {
     "name": "stdout",
     "output_type": "stream",
     "text": [
      "Add an encrypted number to a number: 35\n"
     ]
    }
   ],
   "source": [
    "print(\"Add an encrypted number to a number:\", result)"
   ]
  },
  {
   "cell_type": "markdown",
   "id": "b88ea480-60d4-4933-8128-989566f15e7d",
   "metadata": {},
   "source": [
    "Calculate the time taken to perform addition."
   ]
  },
  {
   "cell_type": "code",
   "execution_count": 8,
   "id": "c514af11-1658-4e01-ba1e-a1b1d56eaf78",
   "metadata": {},
   "outputs": [
    {
     "name": "stdout",
     "output_type": "stream",
     "text": [
      "Homomorphic Addition takes:\n",
      "92.8 µs ± 3.4 µs per loop (mean ± std. dev. of 7 runs, 2 loops each)\n",
      "Median for HE addition 0.0001842719502747059\n",
      "Vector Addition takes:\n",
      "102 ns ± 62.3 ns per loop (mean ± std. dev. of 7 runs, 2 loops each)\n",
      "Median for Vector Addition 1.448206603527069e-07\n"
     ]
    }
   ],
   "source": [
    "print(\"Homomorphic Addition takes:\")\n",
    "he_add =  %timeit -n2 -o (cipher_num1 + cipher_num2)\n",
    "median_he = statistics.median(he_add.all_runs)\n",
    "print(\"Median for HE addition {}\".format(median_he))\n",
    "print(\"Vector Addition takes:\")\n",
    "v_add = %timeit -n2 -o (num1 + num2)\n",
    "res = he_add.best / v_add.best\n",
    "median_vec = statistics.median(v_add.all_runs)\n",
    "print(\"Median for Vector Addition {}\".format(median_vec))\n",
    "result_median = median_he/ median_vec"
   ]
  },
  {
   "cell_type": "code",
   "execution_count": 9,
   "id": "9c494f6f-6e1e-4607-b810-fdc4e953f9f9",
   "metadata": {},
   "outputs": [
    {
     "name": "stdout",
     "output_type": "stream",
     "text": [
      "Vector Addition is 1258.9540983606557 times faster than Homomorphic Addition\n",
      "Median Vector Addition is 1272.4147909967846 times better than Median Homomorphic Addition\n"
     ]
    }
   ],
   "source": [
    "print(\"Vector Addition is {} times faster than Homomorphic Addition\".format(res))\n",
    "print(\"Median Vector Addition is {} times better than Median Homomorphic Addition\".format(result_median))"
   ]
  },
  {
   "cell_type": "code",
   "execution_count": 10,
   "id": "f6f4b81b-7d34-4360-a13e-9a29b6fb939c",
   "metadata": {},
   "outputs": [
    {
     "ename": "NotImplementedError",
     "evalue": "Good luck with that...",
     "output_type": "error",
     "traceback": [
      "\u001b[0;31m---------------------------------------------------------------------------\u001b[0m",
      "\u001b[0;31mNotImplementedError\u001b[0m                       Traceback (most recent call last)",
      "\u001b[0;32m/tmp/ipykernel_10148/2493274443.py\u001b[0m in \u001b[0;36m<cell line: 3>\u001b[0;34m()\u001b[0m\n\u001b[1;32m      1\u001b[0m \u001b[0;31m# Multiplication is not supported by pallier two ciphertexts are not supported,\u001b[0m\u001b[0;34m\u001b[0m\u001b[0;34m\u001b[0m\u001b[0;34m\u001b[0m\u001b[0m\n\u001b[1;32m      2\u001b[0m \u001b[0;31m# here's an error to add evidence:\u001b[0m\u001b[0;34m\u001b[0m\u001b[0;34m\u001b[0m\u001b[0;34m\u001b[0m\u001b[0m\n\u001b[0;32m----> 3\u001b[0;31m \u001b[0mresult\u001b[0m \u001b[0;34m=\u001b[0m \u001b[0mcipher_num1\u001b[0m \u001b[0;34m*\u001b[0m \u001b[0mcipher_num2\u001b[0m\u001b[0;34m\u001b[0m\u001b[0;34m\u001b[0m\u001b[0m\n\u001b[0m\u001b[1;32m      4\u001b[0m \u001b[0mresult\u001b[0m \u001b[0;34m=\u001b[0m \u001b[0mpriv_key\u001b[0m\u001b[0;34m.\u001b[0m\u001b[0mdecrypt\u001b[0m\u001b[0;34m(\u001b[0m\u001b[0mresult\u001b[0m\u001b[0;34m)\u001b[0m\u001b[0;34m\u001b[0m\u001b[0;34m\u001b[0m\u001b[0m\n",
      "\u001b[0;32m/opt/app-root/lib64/python3.8/site-packages/phe/paillier.py\u001b[0m in \u001b[0;36m__mul__\u001b[0;34m(self, other)\u001b[0m\n\u001b[1;32m    506\u001b[0m         \u001b[0;34m\"\"\"Multiply by an int, float, or EncodedNumber.\"\"\"\u001b[0m\u001b[0;34m\u001b[0m\u001b[0;34m\u001b[0m\u001b[0m\n\u001b[1;32m    507\u001b[0m         \u001b[0;32mif\u001b[0m \u001b[0misinstance\u001b[0m\u001b[0;34m(\u001b[0m\u001b[0mother\u001b[0m\u001b[0;34m,\u001b[0m \u001b[0mEncryptedNumber\u001b[0m\u001b[0;34m)\u001b[0m\u001b[0;34m:\u001b[0m\u001b[0;34m\u001b[0m\u001b[0;34m\u001b[0m\u001b[0m\n\u001b[0;32m--> 508\u001b[0;31m             \u001b[0;32mraise\u001b[0m \u001b[0mNotImplementedError\u001b[0m\u001b[0;34m(\u001b[0m\u001b[0;34m'Good luck with that...'\u001b[0m\u001b[0;34m)\u001b[0m\u001b[0;34m\u001b[0m\u001b[0;34m\u001b[0m\u001b[0m\n\u001b[0m\u001b[1;32m    509\u001b[0m \u001b[0;34m\u001b[0m\u001b[0m\n\u001b[1;32m    510\u001b[0m         \u001b[0;32mif\u001b[0m \u001b[0misinstance\u001b[0m\u001b[0;34m(\u001b[0m\u001b[0mother\u001b[0m\u001b[0;34m,\u001b[0m \u001b[0mEncodedNumber\u001b[0m\u001b[0;34m)\u001b[0m\u001b[0;34m:\u001b[0m\u001b[0;34m\u001b[0m\u001b[0;34m\u001b[0m\u001b[0m\n",
      "\u001b[0;31mNotImplementedError\u001b[0m: Good luck with that..."
     ]
    }
   ],
   "source": [
    "# Multiplication is not supported by pallier two ciphertexts are not supported,\n",
    "# here's an error to add evidence:\n",
    "result = cipher_num1 * cipher_num2\n",
    "result = priv_key.decrypt(result)"
   ]
  },
  {
   "cell_type": "markdown",
   "id": "e32846d9-4e68-4d26-b314-201b04202216",
   "metadata": {},
   "source": [
    "In this section, we went through a simple partial homomorphic encryption scheme. We understood the mathematics behind the encryption and decryption and public and private key generation. In the next work, we will be encountering more complex encryption system and their applications in modern world. "
   ]
  }
 ],
 "metadata": {
  "kernelspec": {
   "display_name": "Python 3 (ipykernel)",
   "language": "python",
   "name": "python3"
  },
  "language_info": {
   "codemirror_mode": {
    "name": "ipython",
    "version": 3
   },
   "file_extension": ".py",
   "mimetype": "text/x-python",
   "name": "python",
   "nbconvert_exporter": "python",
   "pygments_lexer": "ipython3",
   "version": "3.8.8"
  }
 },
 "nbformat": 4,
 "nbformat_minor": 5
}
