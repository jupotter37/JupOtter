{
 "cells": [
  {
   "cell_type": "code",
   "execution_count": 1,
   "metadata": {},
   "outputs": [],
   "source": [
    "import numpy as np\n",
    "import re"
   ]
  },
  {
   "cell_type": "code",
   "execution_count": 2,
   "metadata": {},
   "outputs": [],
   "source": [
    "def sub_letters(sink):\n",
    "    from re import sub\n",
    "    sink = sink.lower()\n",
    "    return sub(pattern=r'\\w*', repl='', string=sink) "
   ]
  },
  {
   "cell_type": "code",
   "execution_count": 3,
   "metadata": {},
   "outputs": [
    {
     "name": "stdout",
     "output_type": "stream",
     "text": [
      "(10080,)\n",
      "['$' '\" {  :\\\\\"\". $ .\"\\\\\" ; }\"' '$' '\"< =\". $ .\"></>\"' '$'\n",
      " '\" {  :\". $ .\" ; }\"' '$' '$' '\"< =\\\\\" :\". $ .\"\\\\\"></>\"'\n",
      " '\"< =\\\\\" :\". $ .\"\\\\\"></>\"']\n",
      "(10080,)\n",
      "['$tainted' '\"body { color :\\\\\"\". $tainted .\"\\\\\" ; }\"' '$tainted'\n",
      " '\"<div id=\". $tainted .\">content</div>\"' '$tainted'\n",
      " '\"body { color :\". $tainted .\" ; }\"' '$tainted' '$tainted'\n",
      " '\"<span style=\\\\\"color :\". $tainted .\"\\\\\">Hey</span>\"'\n",
      " '\"<span style=\\\\\"color :\". $tainted .\"\\\\\">Hey</span>\"']\n"
     ]
    }
   ],
   "source": [
    "sink_list = []\n",
    "with open('sink.txt') as sf:\n",
    "    for line in sf.readlines():\n",
    "        line = line[:-2]    # 去掉 \\n\n",
    "#         sub_letters(line)\n",
    "        line = sub_letters(line)\n",
    "        sink_list.append(str(line))\n",
    "sink_list = np.array(sink_list)\n",
    "print(sink_list.shape)\n",
    "print(sink_list[:10])\n",
    "\n",
    "raw_sink_list = []\n",
    "with open('sink.txt') as sf:\n",
    "    for line in sf.readlines():\n",
    "        line = line[:-2]    # 去掉 \\n\n",
    "        raw_sink_list.append(str(line))\n",
    "raw_sink_list = np.array(raw_sink_list)\n",
    "print(raw_sink_list.shape)\n",
    "print(raw_sink_list[:10])"
   ]
  },
  {
   "cell_type": "markdown",
   "metadata": {},
   "source": [
    "# 特征提取函数"
   ]
  },
  {
   "cell_type": "code",
   "execution_count": 4,
   "metadata": {},
   "outputs": [],
   "source": [
    "from collections import Counter\n",
    "\n",
    "# 特征抽取helper\n",
    "def get_index_list(sub, s):\n",
    "    index_list = []\n",
    "    index = s.find(sub)\n",
    "    while index != -1:\n",
    "        index_list.append(int(index))\n",
    "        index = s.find(sub,index + 1)\n",
    "    if len(index_list) > 0:\n",
    "        return index_list\n",
    "    else:\n",
    "        return -1\n",
    "\n",
    "\n",
    "def get_freq_dict(sink):\n",
    "    freq_dict = dict(Counter(sink))\n",
    "    return freq_dict\n",
    "\n",
    "\n",
    "# ************************* 特征抽取 *************************\n",
    "def dollar_index(sink):\n",
    "    sink = str(sink).lower()\n",
    "    return sink.find('$')\n",
    "\n",
    "\n",
    "def length_of_sink(sink):\n",
    "    return len(str(sink).lower())\n",
    "\n",
    "\n",
    "def count_angle(sink):\n",
    "    return str(sink).lower().count('<')\n",
    "\n",
    "\n",
    "\n",
    "def count_brace(sink):\n",
    "    return str(sink).lower().count('{')\n",
    "\n",
    "\n",
    "def count_double_quotes(sink):\n",
    "    return str(sink).lower().count('\\\"')\n",
    "\n",
    "\n",
    "def count_single_quotes(sink):\n",
    "    return str(sink).lower().count('\\'')\n",
    "\n",
    "\n",
    "def count_slash(sink):\n",
    "    return str(sink).lower().count('\\/')\n",
    "    \n",
    "    \n",
    "def count_anti_slash(sink):\n",
    "    return str(sink).lower().count('\\\\')\n",
    "\n",
    "\n",
    "def count_parenthesis(sink):\n",
    "    return str(sink).lower().count('(')\n",
    "\n",
    "\n",
    "def count_colon(sink):\n",
    "    return str(sink).lower().count(':')\n",
    "\n",
    "\n",
    "def dollar_inside_angle(sink):\n",
    "    left_paren_pos = get_index_list('<', sink)\n",
    "    if left_paren_pos == -1:\n",
    "        return -1\n",
    "    right_paren_pos = get_index_list('>', sink)\n",
    "    if right_paren_pos == -1:\n",
    "        return -1\n",
    "    dollar_pos = get_index_list('$', sink)\n",
    "    if dollar_pos == -1:\n",
    "        return -1\n",
    "    for left, right in zip(left_paren_pos, right_paren_pos):\n",
    "#         print(left)\n",
    "#         print(right)\n",
    "        for dollar in dollar_pos:\n",
    "#             print(dollar)\n",
    "            if left < dollar and dollar < right:\n",
    "                return 1\n",
    "    return -1\n",
    "    \n",
    "    \n",
    "def dollar_inside_paren(sink):\n",
    "    left_paren_pos = get_index_list('(', sink)\n",
    "    if left_paren_pos == -1:\n",
    "        return -1\n",
    "    right_paren_pos = get_index_list(')', sink)\n",
    "    if right_paren_pos == -1:\n",
    "        return -1\n",
    "    dollar_pos = get_index_list('$', sink)\n",
    "    if dollar_pos == -1:\n",
    "        return -1\n",
    "    for left, right in zip(left_paren_pos, right_paren_pos):\n",
    "#         print(left)\n",
    "#         print(right)\n",
    "        for dollar in dollar_pos:\n",
    "#             print(dollar)\n",
    "            if left < dollar and dollar < right:\n",
    "                return 1\n",
    "    return -1\n",
    "\n",
    "\n",
    "def dollar_inside_brace(sink):\n",
    "    left_brace_pos = get_index_list('{', sink)\n",
    "    if left_brace_pos == -1:\n",
    "        return -1\n",
    "    right_brace_pos = get_index_list('}', sink)\n",
    "    if right_brace_pos == -1:\n",
    "        return -1\n",
    "    dollar_pos = get_index_list('$', sink)\n",
    "    if dollar_pos == -1:\n",
    "        return -1\n",
    "    for left, right in zip(left_brace_pos, right_brace_pos):\n",
    "#         print(left)\n",
    "#         print(right)\n",
    "        for dollar in dollar_pos:\n",
    "#             print(dollar)\n",
    "            if left < dollar and dollar < right:\n",
    "                return 1\n",
    "    return -1\n",
    "\n",
    "\n",
    "def dollar_behind_colon(sink):\n",
    "    colon_pos = get_index_list(':', sink)\n",
    "    if colon_pos == -1:\n",
    "        return -1\n",
    "    dollar_pos = get_index_list('$', sink)\n",
    "    if dollar_pos == -1:\n",
    "        return -1\n",
    "    for colo in colon_pos:\n",
    "        for dollar in dollar_pos:\n",
    "            if colo < dollar:\n",
    "                return 1\n",
    "    return -1\n",
    "\n",
    "feature_func_list = [ dollar_index, count_angle, count_brace,\n",
    "                      count_double_quotes, count_single_quotes, count_slash,\n",
    "                      count_anti_slash, count_parenthesis, dollar_inside_angle,\n",
    "                      dollar_inside_brace, dollar_inside_paren, count_colon, \n",
    "                      dollar_behind_colon\n",
    "                    ]"
   ]
  },
  {
   "cell_type": "markdown",
   "metadata": {},
   "source": [
    "# 特征抽取"
   ]
  },
  {
   "cell_type": "code",
   "execution_count": 5,
   "metadata": {},
   "outputs": [
    {
     "name": "stdout",
     "output_type": "stream",
     "text": [
      "(10080, 13)\n"
     ]
    }
   ],
   "source": [
    "feature_list = []\n",
    "for sink in sink_list:\n",
    "    feature = []\n",
    "    for func in feature_func_list:\n",
    "        feature.append(func(sink))\n",
    "    if len(feature) != 0:\n",
    "        feature_list.append(feature)\n",
    "    else:\n",
    "        print('feature extracting error!')\n",
    "feature_list = np.array(feature_list)\n",
    "# X_std = 1.0 * (feature_list - feature_list.mean()) / feature_list.std()\n",
    "X_std = feature_list\n",
    "print(X_std.shape)"
   ]
  },
  {
   "cell_type": "markdown",
   "metadata": {},
   "source": [
    "# 开始聚类"
   ]
  },
  {
   "cell_type": "code",
   "execution_count": 6,
   "metadata": {},
   "outputs": [
    {
     "name": "stdout",
     "output_type": "stream",
     "text": [
      "Initialization complete\n",
      "start iteration\n",
      "done sorting\n",
      "end inner loop\n",
      "Iteration 0, inertia 2.9064602592576853e-22\n",
      "center shift 7.397796e-13 within tolerance 2.089308e-04\n",
      "Initialization complete\n",
      "start iteration\n",
      "done sorting\n",
      "end inner loop\n",
      "Iteration 0, inertia 2.9064602592576853e-22\n",
      "center shift 7.397796e-13 within tolerance 2.089308e-04\n",
      "Initialization complete\n",
      "start iteration\n",
      "done sorting\n",
      "end inner loop\n",
      "Iteration 0, inertia 2.9064602592576853e-22\n",
      "center shift 7.397796e-13 within tolerance 2.089308e-04\n",
      "Initialization complete\n",
      "start iteration\n",
      "done sorting\n",
      "end inner loop\n",
      "Iteration 0, inertia 2.9064602592576853e-22\n",
      "center shift 7.397796e-13 within tolerance 2.089308e-04\n",
      "Initialization complete\n",
      "start iteration\n",
      "done sorting\n",
      "end inner loop\n",
      "Iteration 0, inertia 2.9064602592576853e-22\n",
      "center shift 7.397796e-13 within tolerance 2.089308e-04\n",
      "Initialization complete\n",
      "start iteration\n",
      "done sorting\n",
      "end inner loop\n",
      "Iteration 0, inertia 2.9064602592576853e-22\n",
      "center shift 7.397796e-13 within tolerance 2.089308e-04\n",
      "Initialization complete\n",
      "start iteration\n",
      "done sorting\n",
      "end inner loop\n",
      "Iteration 0, inertia 2.9064602592576853e-22\n",
      "center shift 7.397796e-13 within tolerance 2.089308e-04\n",
      "Initialization complete\n",
      "start iteration\n",
      "done sorting\n",
      "end inner loop\n",
      "Iteration 0, inertia 2.9064602592576853e-22\n",
      "center shift 7.397796e-13 within tolerance 2.089308e-04\n",
      "Initialization complete\n",
      "start iteration\n",
      "done sorting\n",
      "end inner loop\n",
      "Iteration 0, inertia 2.9064602592576853e-22\n",
      "center shift 7.397796e-13 within tolerance 2.089308e-04\n",
      "Initialization complete\n",
      "start iteration\n",
      "done sorting\n",
      "end inner loop\n",
      "Iteration 0, inertia 2.9064602592576853e-22\n",
      "center shift 7.397796e-13 within tolerance 2.089308e-04\n"
     ]
    },
    {
     "data": {
      "text/plain": [
       "KMeans(algorithm='auto', copy_x=True, init='k-means++', max_iter=100,\n",
       "       n_clusters=17, n_init=10, n_jobs=None, precompute_distances='auto',\n",
       "       random_state=None, tol=0.0001, verbose=2)"
      ]
     },
     "execution_count": 6,
     "metadata": {},
     "output_type": "execute_result"
    }
   ],
   "source": [
    "import matplotlib.pyplot as plt\n",
    "from sklearn.cluster import KMeans\n",
    "model = KMeans(n_clusters=17, max_iter=100, tol=1e-4, verbose=2)\n",
    "model.fit(X_std)\n",
    "# label_pred = model.labels_"
   ]
  },
  {
   "cell_type": "code",
   "execution_count": 7,
   "metadata": {},
   "outputs": [
    {
     "name": "stdout",
     "output_type": "stream",
     "text": [
      "               0             1             2             3             4    5  \\\n",
      "0   9.000000e+00  2.000000e+00 -9.714451e-16  6.000000e+00 -3.885781e-15  0.0   \n",
      "1   3.197442e-13 -1.654232e-14 -4.135581e-15  1.172396e-13 -1.654232e-14  0.0   \n",
      "2   7.000000e+00 -3.885781e-15 -9.714451e-16  4.000000e+00  2.000000e+00  0.0   \n",
      "3   1.100000e+01 -3.885781e-15  1.000000e+00  4.000000e+00  2.000000e+00  0.0   \n",
      "4   7.000000e+00  2.000000e+00 -9.714451e-16  4.000000e+00 -3.885781e-15  0.0   \n",
      "5   1.200000e+01  1.000000e+00 -9.714451e-16  6.000000e+00 -3.885781e-15  0.0   \n",
      "6   7.000000e+00 -3.885781e-15 -9.714451e-16  6.000000e+00 -3.885781e-15  0.0   \n",
      "7   9.000000e+00  2.000000e+00 -9.714451e-16  4.000000e+00  2.000000e+00  0.0   \n",
      "8   9.000000e+00 -3.885781e-15  1.000000e+00  4.000000e+00 -3.885781e-15  0.0   \n",
      "9   6.000000e+00  1.000000e+00 -9.714451e-16  6.000000e+00 -3.885781e-15  0.0   \n",
      "10  1.100000e+01  1.000000e+00 -9.714451e-16  4.000000e+00  2.000000e+00  0.0   \n",
      "11  1.100000e+01  2.000000e+00 -9.714451e-16  6.000000e+00 -3.885781e-15  0.0   \n",
      "12  6.000000e+00 -3.885781e-15 -9.714451e-16  4.000000e+00  2.000000e+00  0.0   \n",
      "13  7.000000e+00 -3.885781e-15 -9.714451e-16  6.000000e+00 -3.885781e-15  0.0   \n",
      "14  1.100000e+01 -3.885781e-15  1.000000e+00  6.000000e+00 -3.885781e-15  0.0   \n",
      "15  6.000000e+00  1.000000e+00 -9.714451e-16  4.000000e+00 -3.885781e-15  0.0   \n",
      "16  6.000000e+00 -3.885781e-15 -9.714451e-16  4.000000e+00  2.000000e+00  0.0   \n",
      "\n",
      "               6             7    8    9   10            11   12  类别数目  \n",
      "0   2.000000e+00 -9.714451e-16  1.0 -1.0 -1.0  5.828671e-16 -1.0   480  \n",
      "1   1.354472e-14 -4.135581e-15 -1.0 -1.0 -1.0 -9.575674e-15 -1.0  2400  \n",
      "2  -7.105427e-15  1.000000e+00 -1.0 -1.0  1.0  5.828671e-16 -1.0   480  \n",
      "3   2.000000e+00 -9.714451e-16 -1.0  1.0 -1.0  1.000000e+00  1.0   480  \n",
      "4  -7.105427e-15 -9.714451e-16  1.0 -1.0 -1.0  5.828671e-16 -1.0   480  \n",
      "5   4.000000e+00 -9.714451e-16  1.0 -1.0 -1.0  5.828671e-16 -1.0   480  \n",
      "6   2.000000e+00 -9.714451e-16 -1.0 -1.0 -1.0  5.828671e-16 -1.0   480  \n",
      "7  -7.105427e-15 -9.714451e-16  1.0 -1.0 -1.0  5.828671e-16 -1.0   480  \n",
      "8  -7.105427e-15 -9.714451e-16 -1.0  1.0 -1.0  1.000000e+00  1.0   480  \n",
      "9   2.000000e+00 -9.714451e-16  1.0 -1.0 -1.0  5.828671e-16 -1.0   480  \n",
      "10  2.000000e+00 -9.714451e-16  1.0 -1.0 -1.0  5.828671e-16 -1.0   480  \n",
      "11  2.000000e+00 -9.714451e-16  1.0 -1.0 -1.0  1.000000e+00  1.0   480  \n",
      "12 -7.105427e-15 -9.714451e-16 -1.0 -1.0 -1.0  5.828671e-16 -1.0   480  \n",
      "13  2.000000e+00  1.000000e+00 -1.0 -1.0  1.0  5.828671e-16 -1.0   480  \n",
      "14  2.000000e+00 -9.714451e-16 -1.0  1.0 -1.0  1.000000e+00  1.0   480  \n",
      "15 -7.105427e-15 -9.714451e-16  1.0 -1.0 -1.0  5.828671e-16 -1.0   480  \n",
      "16 -7.105427e-15  1.000000e+00 -1.0 -1.0  1.0  5.828671e-16 -1.0   480  \n"
     ]
    }
   ],
   "source": [
    "#简单打印结果\n",
    "import pandas as pd\n",
    "\n",
    "std_features_df = pd.DataFrame(X_std)\n",
    "r1 = pd.Series(model.labels_).value_counts() #统计各个类别的数目\n",
    "r2 = pd.DataFrame(model.cluster_centers_) #找出聚类中心\n",
    "r = pd.concat([r2, r1], axis = 1) #横向连接（0是纵向），得到聚类中心对应的类别下的数目\n",
    "r.columns = list(std_features_df.columns) + [u'类别数目'] #重命名表头\n",
    "print(r)\n"
   ]
  },
  {
   "cell_type": "code",
   "execution_count": 8,
   "metadata": {},
   "outputs": [],
   "source": [
    "import pandas as pd\n",
    "\n",
    "r = pd.concat([std_features_df, pd.Series(model.labels_, index = std_features_df.index)], axis = 1)  #详细输出每个样本对应的类别\n",
    "r.columns = list(std_features_df.columns) + [u'聚类类别'] #重命名表头\n",
    "# r.to_excel('outputfile') #保存结果"
   ]
  },
  {
   "cell_type": "code",
   "execution_count": 9,
   "metadata": {},
   "outputs": [],
   "source": [
    "from sklearn.manifold import TSNE\n",
    "tsne = TSNE()\n",
    "tsne.fit_transform(std_features_df) #进行数据降维,并返回结果\n",
    "tsne = pd.DataFrame(tsne.embedding_, index = std_features_df.index) #转换数据格式\n"
   ]
  },
  {
   "cell_type": "code",
   "execution_count": 10,
   "metadata": {},
   "outputs": [
    {
     "name": "stderr",
     "output_type": "stream",
     "text": [
      "findfont: Font family ['sans-serif'] not found. Falling back to DejaVu Sans.\n"
     ]
    },
    {
     "data": {
      "image/png": "[encoded data removed]",
      "text/plain": [
       "<Figure size 432x288 with 1 Axes>"
      ]
     },
     "metadata": {
      "needs_background": "light"
     },
     "output_type": "display_data"
    }
   ],
   "source": [
    "%matplotlib inline\n",
    "\n",
    "plt.rcParams['font.sans-serif'] = ['SimHei'] #用来正常显示中文标签\n",
    "plt.rcParams['axes.unicode_minus'] = False #用来正常显示负号\n",
    "\n",
    "#不同类别用不同颜色和样式绘图\n",
    "d = tsne[r[u'聚类类别'] == 0]     #找出聚类类别为0的数据对应的降维结果\n",
    "plt.plot(d[0], d[1], 'r.')\n",
    "d = tsne[r[u'聚类类别'] == 1]\n",
    "plt.plot(d[0], d[1], 'go')\n",
    "d = tsne[r[u'聚类类别'] == 2]\n",
    "plt.plot(d[0], d[1], 'b*')\n",
    "d = tsne[r[u'聚类类别'] == 3]\n",
    "plt.plot(d[0], d[1], 'y*')\n",
    "d = tsne[r[u'聚类类别'] == 4]\n",
    "plt.plot(d[0], d[1], 'cv')\n",
    "d = tsne[r[u'聚类类别'] == 5]\n",
    "plt.plot(d[0], d[1], 'm^')\n",
    "d = tsne[r[u'聚类类别'] == 6]\n",
    "plt.plot(d[0], d[1], 'g<')\n",
    "d = tsne[r[u'聚类类别'] == 7]\n",
    "plt.plot(d[0], d[1], 'k>')\n",
    "d = tsne[r[u'聚类类别'] == 8]\n",
    "plt.plot(d[0], d[1], 'r1')\n",
    "d = tsne[r[u'聚类类别'] == 9]\n",
    "plt.plot(d[0], d[1], 'g2')\n",
    "d = tsne[r[u'聚类类别'] == 10]\n",
    "plt.plot(d[0], d[1], 'b3')\n",
    "d = tsne[r[u'聚类类别'] == 11]\n",
    "plt.plot(d[0], d[1], 'y4')\n",
    "d = tsne[r[u'聚类类别'] == 12]\n",
    "plt.plot(d[0], d[1], 'cs')\n",
    "d = tsne[r[u'聚类类别'] == 13]\n",
    "plt.plot(d[0], d[1], 'mp')\n",
    "d = tsne[r[u'聚类类别'] == 14]\n",
    "plt.plot(d[0], d[1], 'gh')\n",
    "d = tsne[r[u'聚类类别'] == 15]\n",
    "plt.plot(d[0], d[1], 'kH')\n",
    "d = tsne[r[u'聚类类别'] == 16]\n",
    "plt.plot(d[0], d[1], 'r+')\n",
    "plt.show()"
   ]
  },
  {
   "cell_type": "code",
   "execution_count": 11,
   "metadata": {},
   "outputs": [
    {
     "ename": "NameError",
     "evalue": "name 'label_pd' is not defined",
     "output_type": "error",
     "traceback": [
      "\u001b[0;31m---------------------------------------------------------------------------\u001b[0m",
      "\u001b[0;31mNameError\u001b[0m                                 Traceback (most recent call last)",
      "\u001b[0;32m<ipython-input-11-1c31dc4aa5e3>\u001b[0m in \u001b[0;36m<module>\u001b[0;34m\u001b[0m\n\u001b[0;32m----> 1\u001b[0;31m \u001b[0mkmeans_cluster_df\u001b[0m \u001b[0;34m=\u001b[0m \u001b[0mpd\u001b[0m\u001b[0;34m.\u001b[0m\u001b[0mconcat\u001b[0m\u001b[0;34m(\u001b[0m\u001b[0;34m[\u001b[0m\u001b[0mlabel_pd\u001b[0m\u001b[0;34m.\u001b[0m\u001b[0mDataFrame\u001b[0m\u001b[0;34m(\u001b[0m\u001b[0msink_list\u001b[0m\u001b[0;34m,\u001b[0m \u001b[0mcolumns\u001b[0m\u001b[0;34m=\u001b[0m\u001b[0;34m[\u001b[0m\u001b[0;34m'sink'\u001b[0m\u001b[0;34m]\u001b[0m\u001b[0;34m)\u001b[0m\u001b[0;34m,\u001b[0m \u001b[0mr\u001b[0m\u001b[0;34m]\u001b[0m\u001b[0;34m,\u001b[0m \u001b[0maxis\u001b[0m \u001b[0;34m=\u001b[0m \u001b[0;36m1\u001b[0m\u001b[0;34m)\u001b[0m\u001b[0;34m\u001b[0m\u001b[0;34m\u001b[0m\u001b[0m\n\u001b[0m\u001b[1;32m      2\u001b[0m \u001b[0mkmeans_cluster_df\u001b[0m\u001b[0;34m.\u001b[0m\u001b[0mto_csv\u001b[0m\u001b[0;34m(\u001b[0m\u001b[0;34m'kmeans_cluster.csv'\u001b[0m\u001b[0;34m,\u001b[0m \u001b[0mindex\u001b[0m\u001b[0;34m=\u001b[0m\u001b[0;32mNone\u001b[0m\u001b[0;34m)\u001b[0m\u001b[0;34m\u001b[0m\u001b[0;34m\u001b[0m\u001b[0m\n",
      "\u001b[0;31mNameError\u001b[0m: name 'label_pd' is not defined"
     ]
    }
   ],
   "source": [
    "kmeans_cluster_df = pd.concat([label_pd.DataFrame(sink_list, columns=['sink']), r], axis = 1)\n",
    "kmeans_cluster_df.to_csv('kmeans_cluster.csv', index=None)"
   ]
  },
  {
   "cell_type": "code",
   "execution_count": 15,
   "metadata": {},
   "outputs": [
    {
     "name": "stdout",
     "output_type": "stream",
     "text": [
      "(10080, 7)\n"
     ]
    }
   ],
   "source": [
    "old_df = pd.read_csv('./../php_xss_datasets.csv')\n",
    "\n",
    "old_df['sink'] = raw_sink_list\n",
    "old_df['sink_type'] = model.labels_\n",
    "\n",
    "print(old_df.shape)\n",
    "\n",
    "old_df.to_csv('./../php_xss_datasets.csv', index=None, encoding='utf-8')"
   ]
  },
  {
   "cell_type": "code",
   "execution_count": 14,
   "metadata": {},
   "outputs": [
    {
     "data": {
      "text/plain": [
       "['sink_cluster_kmeans.model']"
      ]
     },
     "execution_count": 14,
     "metadata": {},
     "output_type": "execute_result"
    }
   ],
   "source": [
    "from joblib import dump\n",
    "\n",
    "dump(model, 'sink_cluster_kmeans.model')"
   ]
  },
  {
   "cell_type": "code",
   "execution_count": 92,
   "metadata": {},
   "outputs": [
    {
     "data": {
      "text/plain": [
       "True"
      ]
     },
     "execution_count": 92,
     "metadata": {},
     "output_type": "execute_result"
    }
   ],
   "source": [
    "model.predict"
   ]
  },
  {
   "cell_type": "code",
   "execution_count": 13,
   "metadata": {},
   "outputs": [
    {
     "name": "stdout",
     "output_type": "stream",
     "text": [
      "[8]\n"
     ]
    }
   ],
   "source": [
    "from extract_sink_features import get_sink_features\n",
    "\n",
    "sink_test = '\"body { font :\". $tainted .\" ; }\"'\n",
    "features = np.array(get_sink_features(sink_test))\n",
    "print(model.predict(features.reshape(1, -1)))"
   ]
  },
  {
   "cell_type": "code",
   "execution_count": null,
   "metadata": {},
   "outputs": [],
   "source": []
  }
 ],
 "metadata": {
  "kernelspec": {
   "display_name": "Python 3",
   "language": "python",
   "name": "python3"
  },
  "language_info": {
   "codemirror_mode": {
    "name": "ipython",
    "version": 3
   },
   "file_extension": ".py",
   "mimetype": "text/x-python",
   "name": "python",
   "nbconvert_exporter": "python",
   "pygments_lexer": "ipython3",
   "version": "3.7.5"
  }
 },
 "nbformat": 4,
 "nbformat_minor": 4
}
