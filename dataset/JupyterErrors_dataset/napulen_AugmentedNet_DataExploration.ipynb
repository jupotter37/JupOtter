{
 "cells": [
  {
   "cell_type": "markdown",
   "id": "received-detector",
   "metadata": {},
   "source": [
    "# General Imports"
   ]
  },
  {
   "cell_type": "code",
   "execution_count": 1,
   "id": "pressing-estate",
   "metadata": {},
   "outputs": [
    {
     "ename": "ImportError",
     "evalue": "cannot import name 'ANNOTATIONSCOREMAP' from 'AugmentedNet.common' (/home/napulen/dev/AugmentedNet/notebooks/../AugmentedNet/common.py)",
     "output_type": "error",
     "traceback": [
      "\u001b[0;31m---------------------------------------------------------------------------\u001b[0m",
      "\u001b[0;31mImportError\u001b[0m                               Traceback (most recent call last)",
      "\u001b[0;32m<ipython-input-1-62953e7838da>\u001b[0m in \u001b[0;36m<module>\u001b[0;34m\u001b[0m\n\u001b[1;32m      1\u001b[0m \u001b[0;32mimport\u001b[0m \u001b[0msys\u001b[0m\u001b[0;34m;\u001b[0m \u001b[0msys\u001b[0m\u001b[0;34m.\u001b[0m\u001b[0mpath\u001b[0m\u001b[0;34m.\u001b[0m\u001b[0minsert\u001b[0m\u001b[0;34m(\u001b[0m\u001b[0;36m0\u001b[0m\u001b[0;34m,\u001b[0m \u001b[0;34m\"..\"\u001b[0m\u001b[0;34m)\u001b[0m\u001b[0;34m\u001b[0m\u001b[0;34m\u001b[0m\u001b[0m\n\u001b[0;32m----> 2\u001b[0;31m \u001b[0;32mfrom\u001b[0m \u001b[0mAugmentedNet\u001b[0m\u001b[0;34m.\u001b[0m\u001b[0mcommon\u001b[0m \u001b[0;32mimport\u001b[0m \u001b[0mANNOTATIONSCOREMAP\u001b[0m\u001b[0;34m\u001b[0m\u001b[0;34m\u001b[0m\u001b[0m\n\u001b[0m\u001b[1;32m      3\u001b[0m \u001b[0;32mfrom\u001b[0m \u001b[0mAugmentedNet\u001b[0m\u001b[0;34m.\u001b[0m\u001b[0mannotation_parser\u001b[0m \u001b[0;32mimport\u001b[0m \u001b[0m_initialDataFrame\u001b[0m\u001b[0;34m\u001b[0m\u001b[0;34m\u001b[0m\u001b[0m\n",
      "\u001b[0;31mImportError\u001b[0m: cannot import name 'ANNOTATIONSCOREMAP' from 'AugmentedNet.common' (/home/napulen/dev/AugmentedNet/notebooks/../AugmentedNet/common.py)"
     ]
    }
   ],
   "source": [
    "import sys; sys.path.insert(0, \"..\")\n",
    "from AugmentedNet.common import ANNOTATIONSCOREMAP\n",
    "from AugmentedNet.annotation_parser import _initialDataFrame"
   ]
  },
  {
   "cell_type": "markdown",
   "id": "martial-zoning",
   "metadata": {},
   "source": [
    "# 1. Exploring Roman Numeral Annotations"
   ]
  },
  {
   "cell_type": "code",
   "execution_count": null,
   "id": "digital-safety",
   "metadata": {},
   "outputs": [],
   "source": [
    "import pandas as pd\n",
    "import music21\n",
    "import seaborn as sns\n",
    "import matplotlib.pyplot as plt\n",
    "from collections import Counter\n",
    "pd.set_option('display.max_rows', 6000)"
   ]
  },
  {
   "cell_type": "code",
   "execution_count": null,
   "id": "integrated-password",
   "metadata": {},
   "outputs": [],
   "source": [
    "dfAll = pd.DataFrame({\n",
    "    'offset': [],\n",
    "    'genre': [],\n",
    "    'composer': [],\n",
    "    'work': [],\n",
    "    'movement': [],\n",
    "    'measure': [],\n",
    "    'duration': [],\n",
    "    'isOnset': [],\n",
    "    'pitchNames': [],\n",
    "    'bass': [],\n",
    "    'root': [],\n",
    "    'inversion': [],\n",
    "    'quality': [],\n",
    "    'pcset': [],\n",
    "    'localKey': [],\n",
    "    'tonicizedKey': [],\n",
    "    'degree1': [],\n",
    "    'degree2': []\n",
    "})\n",
    "for score in ANNOTATIONSCOREMAP:\n",
    "    print(score)\n",
    "    _, _, genre, composer, work, movement, _ = score.split('/')\n",
    "    s = music21.converter.parse(score, format=\"romantext\")\n",
    "    df = _initialDataFrame(s)\n",
    "    df['genre'] = genre\n",
    "    df['composer'] = composer\n",
    "    df['work'] = work\n",
    "    df['movement'] = movement\n",
    "    df['offset'] = df.index\n",
    "    dfAll = dfAll.append(df, ignore_index=True)"
   ]
  },
  {
   "cell_type": "code",
   "execution_count": null,
   "id": "resident-utility",
   "metadata": {},
   "outputs": [],
   "source": [
    "dfAll"
   ]
  },
  {
   "cell_type": "markdown",
   "id": "passing-customs",
   "metadata": {},
   "source": [
    "## Roman Numeral"
   ]
  },
  {
   "cell_type": "code",
   "execution_count": null,
   "id": "official-earthquake",
   "metadata": {},
   "outputs": [],
   "source": [
    "N = 75\n",
    "d = dfAll.romanNumeral.value_counts().to_dict()\n",
    "x, y = list(d.keys()), list(d.values())\n",
    "plt.figure(figsize=(40, 10))\n",
    "sns.barplot(x=x[:N], y=y[:N])"
   ]
  },
  {
   "cell_type": "markdown",
   "id": "pretty-glasgow",
   "metadata": {},
   "source": [
    "Number of classes"
   ]
  },
  {
   "cell_type": "code",
   "execution_count": null,
   "id": "defined-pursuit",
   "metadata": {},
   "outputs": [],
   "source": [
    "len(d)"
   ]
  },
  {
   "cell_type": "markdown",
   "id": "victorian-submission",
   "metadata": {},
   "source": [
    "Coverage of N most common classes"
   ]
  },
  {
   "cell_type": "code",
   "execution_count": null,
   "id": "juvenile-colorado",
   "metadata": {},
   "outputs": [],
   "source": [
    "covered = sum(list(d.values())[:N])\n",
    "total = sum(d.values())\n",
    "print(\"The {} most common classes account for {:.0%} of the annotations in the dataset; or {} annotations out of {}\".format(N, covered/total, covered, total))"
   ]
  },
  {
   "cell_type": "code",
   "execution_count": null,
   "id": "universal-biography",
   "metadata": {},
   "outputs": [],
   "source": [
    "list(d.keys())[:N]"
   ]
  },
  {
   "cell_type": "markdown",
   "id": "adapted-respondent",
   "metadata": {},
   "source": [
    "## Local Key"
   ]
  },
  {
   "cell_type": "code",
   "execution_count": null,
   "id": "latter-while",
   "metadata": {},
   "outputs": [],
   "source": [
    "d = dfAll.localKey.value_counts().to_dict()\n",
    "x, y = list(d.keys()), list(d.values())\n",
    "plt.figure(figsize=(20, 5))\n",
    "sns.barplot(x=x, y=y)"
   ]
  },
  {
   "cell_type": "code",
   "execution_count": null,
   "id": "fleet-leone",
   "metadata": {},
   "outputs": [],
   "source": [
    "d"
   ]
  },
  {
   "cell_type": "markdown",
   "id": "centered-heath",
   "metadata": {},
   "source": [
    "## Tonicized Keys"
   ]
  },
  {
   "cell_type": "code",
   "execution_count": null,
   "id": "located-artist",
   "metadata": {},
   "outputs": [],
   "source": [
    "d = dfAll.tonicizedKey.value_counts().to_dict()\n",
    "del d['None']\n",
    "x, y = list(d.keys()), list(d.values())\n",
    "plt.figure(figsize=(20, 5))\n",
    "sns.barplot(x=x, y=y)"
   ]
  },
  {
   "cell_type": "markdown",
   "id": "strategic-reception",
   "metadata": {},
   "source": [
    "## Quality"
   ]
  },
  {
   "cell_type": "code",
   "execution_count": null,
   "id": "wicked-photograph",
   "metadata": {},
   "outputs": [],
   "source": [
    "d = dfAll.quality.value_counts().to_dict()\n",
    "x, y = list(d.keys()), list(d.values())\n",
    "plt.figure(figsize=(20, 5))\n",
    "sns.barplot(x=x[:10], y=y[:10])"
   ]
  },
  {
   "cell_type": "code",
   "execution_count": null,
   "id": "defined-exhaust",
   "metadata": {},
   "outputs": [],
   "source": [
    "d"
   ]
  },
  {
   "cell_type": "markdown",
   "id": "figured-stopping",
   "metadata": {},
   "source": [
    "## PCSETS"
   ]
  },
  {
   "cell_type": "code",
   "execution_count": null,
   "id": "danish-custom",
   "metadata": {},
   "outputs": [],
   "source": [
    "d = dfAll.pcset.value_counts().to_dict()\n",
    "x, y = list(d.keys()), list(d.values())\n",
    "x = [str(_) for _ in x]\n",
    "plt.figure(figsize=(20, 5))\n",
    "sns.barplot(x=x, y=y)"
   ]
  },
  {
   "cell_type": "code",
   "execution_count": null,
   "id": "powerful-horizon",
   "metadata": {},
   "outputs": [],
   "source": [
    "d"
   ]
  },
  {
   "cell_type": "markdown",
   "id": "verbal-ownership",
   "metadata": {},
   "source": [
    "## Scale Degrees 1"
   ]
  },
  {
   "cell_type": "code",
   "execution_count": null,
   "id": "about-dynamics",
   "metadata": {},
   "outputs": [],
   "source": [
    "d = dfAll.degree1.value_counts().to_dict()\n",
    "x, y = list(d.keys()), list(d.values())\n",
    "plt.figure(figsize=(20, 5))\n",
    "sns.barplot(x=x[:50], y=y[:50])"
   ]
  },
  {
   "cell_type": "code",
   "execution_count": null,
   "id": "choice-plate",
   "metadata": {},
   "outputs": [],
   "source": [
    "d"
   ]
  },
  {
   "cell_type": "markdown",
   "id": "narrow-consent",
   "metadata": {},
   "source": [
    "## Scale Degree 2"
   ]
  },
  {
   "cell_type": "code",
   "execution_count": null,
   "id": "challenging-marsh",
   "metadata": {},
   "outputs": [],
   "source": [
    "d = dfAll.degree2.value_counts().to_dict()\n",
    "del d['None']\n",
    "x, y = list(d.keys()), list(d.values())\n",
    "plt.figure(figsize=(20, 5))\n",
    "sns.barplot(x=x[:50], y=y[:50])"
   ]
  },
  {
   "cell_type": "code",
   "execution_count": null,
   "id": "controversial-beijing",
   "metadata": {},
   "outputs": [],
   "source": [
    "d"
   ]
  },
  {
   "cell_type": "markdown",
   "id": "photographic-lexington",
   "metadata": {},
   "source": [
    "## Inversion"
   ]
  },
  {
   "cell_type": "code",
   "execution_count": null,
   "id": "toxic-spyware",
   "metadata": {},
   "outputs": [],
   "source": [
    "d = dfAll.inversion.value_counts().to_dict()\n",
    "x, y = list(d.keys()), list(d.values())\n",
    "plt.figure(figsize=(20, 5))\n",
    "sns.barplot(x=x[:50], y=y[:50])"
   ]
  },
  {
   "cell_type": "code",
   "execution_count": null,
   "id": "cloudy-parade",
   "metadata": {},
   "outputs": [],
   "source": [
    "d"
   ]
  },
  {
   "cell_type": "markdown",
   "id": "strange-engine",
   "metadata": {},
   "source": [
    "## Root"
   ]
  },
  {
   "cell_type": "code",
   "execution_count": null,
   "id": "elect-spotlight",
   "metadata": {},
   "outputs": [],
   "source": [
    "d = dfAll.root.value_counts().to_dict()\n",
    "x, y = list(d.keys()), list(d.values())\n",
    "plt.figure(figsize=(20, 5))\n",
    "sns.barplot(x=x[:50], y=y[:50])"
   ]
  },
  {
   "cell_type": "code",
   "execution_count": null,
   "id": "second-salvation",
   "metadata": {},
   "outputs": [],
   "source": [
    "d"
   ]
  },
  {
   "cell_type": "markdown",
   "id": "removed-arlington",
   "metadata": {},
   "source": [
    "## Bass"
   ]
  },
  {
   "cell_type": "code",
   "execution_count": null,
   "id": "level-ratio",
   "metadata": {},
   "outputs": [],
   "source": [
    "d = dfAll.bass.value_counts().to_dict()\n",
    "x, y = list(d.keys()), list(d.values())\n",
    "plt.figure(figsize=(20, 5))\n",
    "sns.barplot(x=x[:50], y=y[:50])"
   ]
  },
  {
   "cell_type": "code",
   "execution_count": null,
   "id": "joined-reproduction",
   "metadata": {},
   "outputs": [],
   "source": [
    "d"
   ]
  },
  {
   "cell_type": "markdown",
   "id": "needed-latitude",
   "metadata": {},
   "source": [
    "## Harmonic Rhythm (duration)"
   ]
  },
  {
   "cell_type": "code",
   "execution_count": null,
   "id": "peaceful-sheriff",
   "metadata": {},
   "outputs": [],
   "source": [
    "d = dfAll.duration.value_counts().to_dict()\n",
    "x, y = list(d.keys()), list(d.values())\n",
    "x = [str(_) for _ in x]\n",
    "plt.figure(figsize=(20, 5))\n",
    "sns.barplot(x=x, y=y)"
   ]
  },
  {
   "cell_type": "code",
   "execution_count": null,
   "id": "reflected-excitement",
   "metadata": {},
   "outputs": [],
   "source": [
    "d"
   ]
  },
  {
   "cell_type": "markdown",
   "id": "interracial-quality",
   "metadata": {},
   "source": [
    "# Exploring notes and intervals"
   ]
  },
  {
   "cell_type": "code",
   "execution_count": null,
   "id": "known-positive",
   "metadata": {},
   "outputs": [],
   "source": [
    "from common import ANNOTATIONSCOREMAP\n",
    "from score_parser import _initialDataFrame"
   ]
  },
  {
   "cell_type": "code",
   "execution_count": null,
   "id": "important-image",
   "metadata": {},
   "outputs": [],
   "source": [
    "import pandas as pd\n",
    "import music21\n",
    "import seaborn as sns\n",
    "import matplotlib.pyplot as plt\n",
    "from collections import Counter\n",
    "pd.set_option('display.max_rows', 6000)"
   ]
  },
  {
   "cell_type": "code",
   "execution_count": null,
   "id": "impossible-emerald",
   "metadata": {},
   "outputs": [],
   "source": [
    "dfAll = pd.DataFrame({\n",
    "    'offset': [],\n",
    "    'genre': [],\n",
    "    'composer': [],\n",
    "    'work': [],\n",
    "    'movement': [],\n",
    "    'measure': [],\n",
    "    'duration': [],\n",
    "    'notes': [],\n",
    "    'intervals': [],\n",
    "})\n",
    "for annotation, score in ANNOTATIONSCOREMAP.items():\n",
    "    print(score)\n",
    "    _, _, genre, composer, work, movement, _ = annotation.split('/')\n",
    "    s = music21.converter.parse(score, format=\"romantext\")\n",
    "    df = _initialDataFrame(s)\n",
    "    df['genre'] = genre\n",
    "    df['composer'] = composer\n",
    "    df['work'] = work\n",
    "    df['movement'] = movement\n",
    "    df['offset'] = df.index\n",
    "    dfAll = dfAll.append(df, ignore_index=True)"
   ]
  },
  {
   "cell_type": "markdown",
   "id": "italian-denial",
   "metadata": {},
   "source": [
    "## Intervals"
   ]
  },
  {
   "cell_type": "code",
   "execution_count": null,
   "id": "durable-battle",
   "metadata": {},
   "outputs": [],
   "source": [
    "dfAll"
   ]
  },
  {
   "cell_type": "code",
   "execution_count": null,
   "id": "tracked-power",
   "metadata": {},
   "outputs": [],
   "source": [
    "N=100\n",
    "intervals = dfAll.intervals.apply(frozenset)\n",
    "d = intervals.value_counts().to_dict()\n",
    "# x, y = list(d.keys()), list(d.values())\n",
    "# plt.figure(figsize=(40, 10))\n",
    "# sns.barplot(x=x[:N], y=y[:N])"
   ]
  },
  {
   "cell_type": "markdown",
   "id": "constitutional-debate",
   "metadata": {},
   "source": [
    "These are all the unique interval classes used across the dataset"
   ]
  },
  {
   "cell_type": "code",
   "execution_count": null,
   "id": "temporal-driver",
   "metadata": {},
   "outputs": [],
   "source": [
    "unique = {i for ilist in intervals for i in ilist}"
   ]
  },
  {
   "cell_type": "code",
   "execution_count": null,
   "id": "close-process",
   "metadata": {},
   "outputs": [],
   "source": [
    "unique"
   ]
  },
  {
   "cell_type": "code",
   "execution_count": null,
   "id": "instrumental-nursing",
   "metadata": {},
   "outputs": [],
   "source": []
  }
 ],
 "metadata": {
  "kernelspec": {
   "display_name": "Python 3",
   "language": "python",
   "name": "python3"
  },
  "language_info": {
   "codemirror_mode": {
    "name": "ipython",
    "version": 3
   },
   "file_extension": ".py",
   "mimetype": "text/x-python",
   "name": "python",
   "nbconvert_exporter": "python",
   "pygments_lexer": "ipython3",
   "version": "3.8.10"
  }
 },
 "nbformat": 4,
 "nbformat_minor": 5
}
