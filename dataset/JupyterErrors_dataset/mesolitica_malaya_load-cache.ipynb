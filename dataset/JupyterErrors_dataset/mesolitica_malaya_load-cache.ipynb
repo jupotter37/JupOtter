{
 "cells": [
  {
   "cell_type": "markdown",
   "metadata": {},
   "source": [
    "# Malaya Cache"
   ]
  },
  {
   "cell_type": "markdown",
   "metadata": {},
   "source": [
    "<div class=\"alert alert-info\">\n",
    "\n",
    "This tutorial is available as an IPython notebook at [Malaya/example/caching](https://github.com/huseinzol05/Malaya/tree/master/example/caching).\n",
    "    \n",
    "</div>"
   ]
  },
  {
   "cell_type": "markdown",
   "metadata": {},
   "source": [
    "**This module only useful if use default Malaya repository, for huggingface, read more at** https://huggingface.co/docs/datasets/v1.12.0/cache.html"
   ]
  },
  {
   "cell_type": "markdown",
   "metadata": {},
   "source": [
    "### Default Cache location\n",
    "\n",
    "You actually can know where is your Malaya default caching folder. Caching folder will save any models, vocabs, and rules downloaded for specific modules."
   ]
  },
  {
   "cell_type": "code",
   "execution_count": 1,
   "metadata": {},
   "outputs": [],
   "source": [
    "import malaya"
   ]
  },
  {
   "cell_type": "code",
   "execution_count": 2,
   "metadata": {},
   "outputs": [
    {
     "data": {
      "text/plain": [
       "'/Users/huseinzolkepli/Malaya'"
      ]
     },
     "execution_count": 2,
     "metadata": {},
     "output_type": "execute_result"
    }
   ],
   "source": [
    "malaya.__home__"
   ]
  },
  {
   "cell_type": "markdown",
   "metadata": {},
   "source": [
    "### Change default Cache location\n",
    "\n",
    "To change default cache location, you need to set `MALAYA_CACHE` OS environment before import Malaya,\n",
    "\n",
    "```bash\n",
    "export MALAYA_CACHE=/Users/huseinzolkepli/Documents/Malaya\n",
    "```\n",
    "\n",
    "Or you can set in bashenv to make it permanent if you want."
   ]
  },
  {
   "cell_type": "code",
   "execution_count": 1,
   "metadata": {},
   "outputs": [],
   "source": [
    "import os\n",
    "\n",
    "os.environ['MALAYA_CACHE'] = '/Users/huseinzolkepli/Documents/malaya-cache'"
   ]
  },
  {
   "cell_type": "code",
   "execution_count": 2,
   "metadata": {},
   "outputs": [
    {
     "data": {
      "text/plain": [
       "'/Users/huseinzolkepli/Documents/malaya-cache'"
      ]
     },
     "execution_count": 2,
     "metadata": {},
     "output_type": "execute_result"
    }
   ],
   "source": [
    "import malaya\n",
    "\n",
    "malaya.__home__"
   ]
  },
  {
   "cell_type": "markdown",
   "metadata": {},
   "source": [
    "### Cache subdirectories\n",
    "\n",
    "Start from version 1.0, Malaya put models in subdirectories, you can print it by simply,"
   ]
  },
  {
   "cell_type": "code",
   "execution_count": 3,
   "metadata": {},
   "outputs": [
    {
     "name": "stdout",
     "output_type": "stream",
     "text": [
      "Malaya/\n",
      "├── keyword-extraction/\n",
      "│   ├── alxlnet/\n",
      "│   │   ├── model.pb\n",
      "│   │   ├── sp10m.cased.v9.model\n",
      "│   │   ├── sp10m.cased.v9.vocab\n",
      "│   │   └── version\n",
      "│   └── tiny-bert/\n",
      "│       ├── model.pb\n",
      "│       ├── sp10m.cased.bert.model\n",
      "│       ├── sp10m.cased.bert.vocab\n",
      "│       └── version\n",
      "├── qa-squad/\n",
      "│   ├── albert/\n",
      "│   │   ├── model.pb\n",
      "│   │   ├── sp10m.cased.v10.model\n",
      "│   │   ├── sp10m.cased.v10.vocab\n",
      "│   │   └── version\n",
      "│   ├── albert-quantized/\n",
      "│   │   ├── model.pb\n",
      "│   │   ├── sp10m.cased.v10.model\n",
      "│   │   ├── sp10m.cased.v10.vocab\n",
      "│   │   └── version\n",
      "│   ├── alxlnet/\n",
      "│   │   ├── model.pb\n",
      "│   │   ├── sp10m.cased.v9.model\n",
      "│   │   ├── sp10m.cased.v9.vocab\n",
      "│   │   └── version\n",
      "│   ├── bert/\n",
      "│   ├── tiny-bert/\n",
      "│   │   ├── model.pb\n",
      "│   │   ├── sp10m.cased.bert.model\n",
      "│   │   ├── sp10m.cased.bert.vocab\n",
      "│   │   └── version\n",
      "│   ├── xlnet/\n",
      "│   │   ├── model.pb\n",
      "│   │   ├── sp10m.cased.v9.model\n",
      "│   │   ├── sp10m.cased.v9.vocab\n",
      "│   │   └── version\n",
      "│   └── xlnet-quantized/\n",
      "│       ├── model.pb\n",
      "│       ├── sp10m.cased.v9.model\n",
      "│       ├── sp10m.cased.v9.vocab\n",
      "│       └── version\n",
      "├── sentiment/\n",
      "│   ├── albert/\n",
      "│   │   ├── model.pb\n",
      "│   │   ├── sp10m.cased.v10.model\n",
      "│   │   ├── sp10m.cased.v10.vocab\n",
      "│   │   └── version\n",
      "│   ├── alxlnet/\n",
      "│   │   ├── model.pb\n",
      "│   │   ├── sp10m.cased.v9.model\n",
      "│   │   ├── sp10m.cased.v9.vocab\n",
      "│   │   └── version\n",
      "│   ├── bert/\n",
      "│   │   ├── model.pb\n",
      "│   │   ├── sp10m.cased.bert.model\n",
      "│   │   ├── sp10m.cased.bert.vocab\n",
      "│   │   └── version\n",
      "│   ├── xlnet/\n",
      "│   │   └── model.pb\n",
      "│   └── xlnet-quantized/\n",
      "│       ├── model.pb\n",
      "│       ├── sp10m.cased.v9.model\n",
      "│       ├── sp10m.cased.v9.vocab\n",
      "│       └── version\n",
      "├── similarity/\n",
      "│   ├── albert/\n",
      "│   │   ├── model.pb\n",
      "│   │   ├── sp10m.cased.v10.model\n",
      "│   │   ├── sp10m.cased.v10.vocab\n",
      "│   │   └── version\n",
      "│   ├── alxlnet/\n",
      "│   │   ├── model.pb\n",
      "│   │   ├── sp10m.cased.v9.model\n",
      "│   │   ├── sp10m.cased.v9.vocab\n",
      "│   │   └── version\n",
      "│   ├── alxlnet-quantized/\n",
      "│   │   ├── model.pb\n",
      "│   │   ├── sp10m.cased.v9.model\n",
      "│   │   ├── sp10m.cased.v9.vocab\n",
      "│   │   └── version\n",
      "│   └── tiny-bert/\n",
      "│       ├── model.pb\n",
      "│       ├── sp10m.cased.bert.model\n",
      "│       ├── sp10m.cased.bert.vocab\n",
      "│       └── version\n",
      "├── stem/\n",
      "│   └── lstm-bahdanau/\n",
      "│       ├── model.pb\n",
      "│       ├── stemmer.yttm\n",
      "│       └── version\n",
      "├── translation-en-ms/\n",
      "├── version\n",
      "└── wordvector/\n",
      "    └── news/\n",
      "        ├── version\n",
      "        ├── wordvector.json\n",
      "        └── wordvector.npy\n"
     ]
    }
   ],
   "source": [
    "malaya.utils.print_cache()"
   ]
  },
  {
   "cell_type": "markdown",
   "metadata": {},
   "source": [
    "### Deleting specific model\n",
    "\n",
    "Let say you want to clear some spaces, start from version 1.0, you can specifically choose which model you want to delete."
   ]
  },
  {
   "cell_type": "code",
   "execution_count": 4,
   "metadata": {},
   "outputs": [
    {
     "data": {
      "text/plain": [
       "True"
      ]
     },
     "execution_count": 4,
     "metadata": {},
     "output_type": "execute_result"
    }
   ],
   "source": [
    "malaya.utils.delete_cache('wordvector/news')"
   ]
  },
  {
   "cell_type": "markdown",
   "metadata": {},
   "source": [
    "What happen if a directory does not exist?"
   ]
  },
  {
   "cell_type": "code",
   "execution_count": 7,
   "metadata": {},
   "outputs": [
    {
     "ename": "Exception",
     "evalue": "folder not exist, please check path from `malaya.utils.print_cache()`",
     "output_type": "error",
     "traceback": [
      "\u001b[0;31m---------------------------------------------------------------------------\u001b[0m",
      "\u001b[0;31mException\u001b[0m                                 Traceback (most recent call last)",
      "\u001b[0;32m<ipython-input-7-1104f6734f26>\u001b[0m in \u001b[0;36m<module>\u001b[0;34m\u001b[0m\n\u001b[0;32m----> 1\u001b[0;31m \u001b[0mmalaya\u001b[0m\u001b[0;34m.\u001b[0m\u001b[0mutils\u001b[0m\u001b[0;34m.\u001b[0m\u001b[0mdelete_cache\u001b[0m\u001b[0;34m(\u001b[0m\u001b[0;34m'wordvector/news2'\u001b[0m\u001b[0;34m)\u001b[0m\u001b[0;34m\u001b[0m\u001b[0;34m\u001b[0m\u001b[0m\n\u001b[0m",
      "\u001b[0;32m~/Documents/tf-1.15/env/lib/python3.7/site-packages/malaya_boilerplate-0.0.1-py3.7.egg/malaya_boilerplate/utils.py\u001b[0m in \u001b[0;36mdelete_cache\u001b[0;34m(location)\u001b[0m\n\u001b[1;32m    188\u001b[0m     \u001b[0;32mif\u001b[0m \u001b[0;32mnot\u001b[0m \u001b[0mos\u001b[0m\u001b[0;34m.\u001b[0m\u001b[0mpath\u001b[0m\u001b[0;34m.\u001b[0m\u001b[0mexists\u001b[0m\u001b[0;34m(\u001b[0m\u001b[0mlocation\u001b[0m\u001b[0;34m)\u001b[0m\u001b[0;34m:\u001b[0m\u001b[0;34m\u001b[0m\u001b[0;34m\u001b[0m\u001b[0m\n\u001b[1;32m    189\u001b[0m         raise Exception(\n\u001b[0;32m--> 190\u001b[0;31m             \u001b[0;34mf'folder not exist, please check path from `{__package__}.utils.print_cache()`'\u001b[0m\u001b[0;34m\u001b[0m\u001b[0;34m\u001b[0m\u001b[0m\n\u001b[0m\u001b[1;32m    191\u001b[0m         )\n\u001b[1;32m    192\u001b[0m     \u001b[0;32mif\u001b[0m \u001b[0;32mnot\u001b[0m \u001b[0mos\u001b[0m\u001b[0;34m.\u001b[0m\u001b[0mpath\u001b[0m\u001b[0;34m.\u001b[0m\u001b[0misdir\u001b[0m\u001b[0;34m(\u001b[0m\u001b[0mlocation\u001b[0m\u001b[0;34m)\u001b[0m\u001b[0;34m:\u001b[0m\u001b[0;34m\u001b[0m\u001b[0;34m\u001b[0m\u001b[0m\n",
      "\u001b[0;31mException\u001b[0m: folder not exist, please check path from `malaya.utils.print_cache()`"
     ]
    }
   ],
   "source": [
    "malaya.utils.delete_cache('wordvector/news2')"
   ]
  },
  {
   "cell_type": "markdown",
   "metadata": {},
   "source": [
    "### Purge cache\n",
    "\n",
    "You can simply delete all models, totally purge it. By simply,"
   ]
  },
  {
   "cell_type": "code",
   "execution_count": 8,
   "metadata": {},
   "outputs": [
    {
     "data": {
      "text/plain": [
       "<function malaya_boilerplate.utils.delete_all_cache()>"
      ]
     },
     "execution_count": 8,
     "metadata": {},
     "output_type": "execute_result"
    }
   ],
   "source": [
    "malaya.utils.delete_all_cache"
   ]
  },
  {
   "cell_type": "markdown",
   "metadata": {},
   "source": [
    "I am not gonna to run it, because I prefer to keep it for now?"
   ]
  }
 ],
 "metadata": {
  "kernelspec": {
   "display_name": "Python 3",
   "language": "python",
   "name": "python3"
  },
  "language_info": {
   "codemirror_mode": {
    "name": "ipython",
    "version": 3
   },
   "file_extension": ".py",
   "mimetype": "text/x-python",
   "name": "python",
   "nbconvert_exporter": "python",
   "pygments_lexer": "ipython3",
   "version": "3.7.7"
  },
  "varInspector": {
   "cols": {
    "lenName": 16,
    "lenType": 16,
    "lenVar": 40
   },
   "kernels_config": {
    "python": {
     "delete_cmd_postfix": "",
     "delete_cmd_prefix": "del ",
     "library": "var_list.py",
     "varRefreshCmd": "print(var_dic_list())"
    },
    "r": {
     "delete_cmd_postfix": ") ",
     "delete_cmd_prefix": "rm(",
     "library": "var_list.r",
     "varRefreshCmd": "cat(var_dic_list()) "
    }
   },
   "types_to_exclude": [
    "module",
    "function",
    "builtin_function_or_method",
    "instance",
    "_Feature"
   ],
   "window_display": false
  }
 },
 "nbformat": 4,
 "nbformat_minor": 2
}
