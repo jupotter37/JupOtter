{
 "cells": [
  {
   "cell_type": "code",
   "execution_count": 1,
   "metadata": {},
   "outputs": [],
   "source": [
    "#automatically reload modules when they have changed\n",
    "%reload_ext autoreload\n",
    "from pathlib import Path\n",
    "import random\n",
    "import os\n",
    "\n",
    "from yaml_config_wrapper import Configuration\n",
    "from RLcraft import MalmoMazeEnv"
   ]
  },
  {
   "cell_type": "code",
   "execution_count": 2,
   "metadata": {},
   "outputs": [
    {
     "name": "stdout",
     "output_type": "stream",
     "text": [
      "Configuration file loaded successfully from path: /Users/gkos/Insync/Gdrive/Projects/UTK/Minecraft-AI/configs/mazes.yml\n",
      "Configuration Tag: mazes-v1\n"
     ]
    }
   ],
   "source": [
    "yml_path = 'configs/mazes.yml'\n",
    "# Load YML config file\n",
    "c = Configuration(config_src=yml_path)\n",
    "# Load configs from config class\n",
    "general_config = c.get_config('general')\n",
    "train_config = c.get_config('train')[0]['config']\n",
    "env_config = train_config['env_config']"
   ]
  },
  {
   "cell_type": "code",
   "execution_count": 12,
   "metadata": {},
   "outputs": [
    {
     "name": "stdout",
     "output_type": "stream",
     "text": [
      "Generating new seed ...\n",
      "Loading environment ...\n",
      "Resetting environment ...\n",
      "Environment Loaded!\n",
      "Possible actions and action space actions for current env:\n",
      "Action: 0 -> move 1\n",
      "Action: 1 -> move -1\n",
      "Action: 2 -> strafe 1\n",
      "Action: 3 -> strafe -1\n",
      "Action: 4 -> turn 1\n",
      "Action: 5 -> turn -1\n",
      "Sampling an action..\n",
      "2 -> strafe 1\n"
     ]
    }
   ],
   "source": [
    "try:\n",
    "    env.close()\n",
    "except:\n",
    "    pass\n",
    "# Generate a seed for maze \n",
    "print(\"Generating new seed ...\")\n",
    "maze_seed = random.randint(1, 9999)\n",
    "print(\"Loading environment ...\")\n",
    "# num = random.randint(0, 8)\n",
    "# mission_file = run_config[\"env_config\"][\"mission_file\"].replace(\"*\", str(num))\n",
    "# from glob import glob\n",
    "# mission_files = glob(run_config[\"env_config\"][\"mission_file\"])\n",
    "# mission_file = random.choice(mission_files)\n",
    "os.environ['MALMO_XSD_PATH'] = '/Users/gkos/Insync/Gdrive/Projects/UTK/Minecraft-AI/MalmoPlatform/Schemas'\n",
    "\n",
    "env = MalmoMazeEnv(\n",
    "            mazeseed=maze_seed,\n",
    "            xml=env_config[\"xml\"],\n",
    "            width=900,#env_config[\"width\"],\n",
    "            height=800,#env_config[\"height\"],\n",
    "            millisec_per_tick=env_config['millisec_per_tick'],\n",
    "            mission_timeout_ms=env_config['mission_timeout_ms'],\n",
    "            step_reward=env_config['step_reward'],\n",
    "            win_reward=env_config['win_reward'],\n",
    "            lose_reward=env_config['lose_reward'],\n",
    "            action_space=env_config['action_space'],\n",
    "            client_port=env_config['client_port'],\n",
    "            time_wait=env_config['time_wait'],\n",
    "            max_loop=env_config['max_loop'])\n",
    "print(\"Resetting environment ...\")\n",
    "_ = env.reset()\n",
    "print(\"Environment Loaded!\")\n",
    "\n",
    "print(\"Possible actions and action space actions for current env:\")\n",
    "for action in range(6):\n",
    "    print(f\"Action: {action} -> {env.action_space[action]}\")\n",
    "print(\"Sampling an action..\")\n",
    "action = env.action_space.sample()\n",
    "print(f'{action} -> {env.action_space[action]}')"
   ]
  },
  {
   "cell_type": "code",
   "execution_count": 11,
   "metadata": {},
   "outputs": [
    {
     "name": "stdout",
     "output_type": "stream",
     "text": [
      "Reward:  -1\n",
      "Done:  True\n",
      "Info:  WorldState (ended): 0 obs, 0 rewards, 0 frames since last state.\n"
     ]
    },
    {
     "ename": "IndexError",
     "evalue": "Index out of range",
     "output_type": "error",
     "traceback": [
      "\u001b[0;31m---------------------------------------------------------------------------\u001b[0m",
      "\u001b[0;31mIndexError\u001b[0m                                Traceback (most recent call last)",
      "\u001b[0;32m<ipython-input-11-4727b39f0106>\u001b[0m in \u001b[0;36m<module>\u001b[0;34m\u001b[0m\n\u001b[1;32m      4\u001b[0m \u001b[0mprint\u001b[0m\u001b[0;34m(\u001b[0m\u001b[0;34m\"Done: \"\u001b[0m\u001b[0;34m,\u001b[0m \u001b[0mdone\u001b[0m\u001b[0;34m)\u001b[0m\u001b[0;34m\u001b[0m\u001b[0;34m\u001b[0m\u001b[0m\n\u001b[1;32m      5\u001b[0m \u001b[0mprint\u001b[0m\u001b[0;34m(\u001b[0m\u001b[0;34m\"Info: \"\u001b[0m\u001b[0;34m,\u001b[0m \u001b[0minfo\u001b[0m\u001b[0;34m)\u001b[0m\u001b[0;34m\u001b[0m\u001b[0;34m\u001b[0m\u001b[0m\n\u001b[0;32m----> 6\u001b[0;31m print(f\"Info.observations: len={len(info.observations)} \"\\\n\u001b[0m\u001b[1;32m      7\u001b[0m       f\"type={type(info.observations[0])}\")\n\u001b[1;32m      8\u001b[0m \u001b[0mprint\u001b[0m\u001b[0;34m(\u001b[0m\u001b[0;34mf\"Observation: type={type(obs)}, shape={obs.shape}\"\u001b[0m\u001b[0;34m)\u001b[0m\u001b[0;34m\u001b[0m\u001b[0;34m\u001b[0m\u001b[0m\n",
      "\u001b[0;31mIndexError\u001b[0m: Index out of range"
     ]
    }
   ],
   "source": [
    "# Take an action and get the observation, reward, done, and info\n",
    "obs, reward, done, info = env.step(0)\n",
    "print(\"Reward: \", reward)\n",
    "print(\"Done: \", done)\n",
    "print(\"Info: \", info)\n",
    "print(f\"Info.observations: len={len(info.observations)} \"\\\n",
    "      f\"type={type(info.observations[0])}\")\n",
    "print(f\"Observation: type={type(obs)}, shape={obs.shape}\")"
   ]
  },
  {
   "cell_type": "code",
   "execution_count": 40,
   "metadata": {},
   "outputs": [
    {
     "name": "stdout",
     "output_type": "stream",
     "text": [
      "dict_keys(['DistanceTravelled', 'TimeAlive', 'MobsKilled', 'PlayersKilled', 'DamageTaken', 'DamageDealt', 'Life', 'Score', 'Food', 'XP', 'IsAlive', 'Air', 'Name', 'XPos', 'YPos', 'ZPos', 'Pitch', 'Yaw', 'WorldTime', 'TotalTime', 'floor10x10'])\n",
      "# ------ Usable data ------ #\n",
      "Var obs: a (84, 84, 3) np array\n",
      "Var info_obs['floor10x10']: a 81 list: ['air', 'air', 'air'] ... \n",
      "Var info_obs['TotalTime']: 56363\n",
      "Var info_obs['XPos']: 4.5\n",
      "Var info_obs['YPos']: 227.0625\n",
      "Var info_obs['ZPos']: 1.5\n",
      "Var info_obs['Yaw']: 270.0\n",
      "Var info_obs['XP']: 20.0\n"
     ]
    }
   ],
   "source": [
    "# Find Usable Data\n",
    "# Transform the info observation\n",
    "import json\n",
    "info_obs = json.loads(info.observations[-1].text)\n",
    "print(info_obs.keys())\n",
    "floor_data = info_obs['floor10x10']\n",
    "time_data = info_obs['TotalTime']\n",
    "xpos_data = info_obs['XPos']\n",
    "ypos_data = info_obs['YPos']\n",
    "zpos_data = info_obs['ZPos']\n",
    "yaw_data = info_obs['Yaw']  # where the player is facing\n",
    "hp_data = info_obs['Life']\n",
    "print(\"# ------ Usable data ------ #\")\n",
    "print(f\"Var obs: a {obs.shape} np array\")\n",
    "print(f\"Var info_obs['floor10x10']: a {len(floor_data)} list: {floor_data[:3]} ... \")\n",
    "print(f\"Var info_obs['TotalTime']: {time_data}\")\n",
    "print(f\"Var info_obs['XPos']: {xpos_data}\")\n",
    "print(f\"Var info_obs['YPos']: {ypos_data}\")\n",
    "print(f\"Var info_obs['ZPos']: {zpos_data}\")\n",
    "print(f\"Var info_obs['Yaw']: {yaw_data}\")\n",
    "print(f\"Var info_obs['Life']: {hp_data}\")\n",
    "# print(obs)"
   ]
  },
  {
   "cell_type": "code",
   "execution_count": null,
   "metadata": {},
   "outputs": [],
   "source": [
    "# Use the internal actions to move the agent\n",
    "# move: walks forwards/backwards\n",
    "#   0 -> Nothing, 1 -> Forward, -1 -> Backward\n",
    "# strafe: walks left/right\n",
    "#   0 -> Nothing, 1 -> Right, -1 -> Left\n",
    "# turn: turns the camera left/right without moving\n",
    "#   0 -> Nothing, 1 -> Right, -1 -> Left\n",
    "env.agent_host.sendCommand(\"turn 1\")"
   ]
  },
  {
   "cell_type": "code",
   "execution_count": 38,
   "metadata": {},
   "outputs": [],
   "source": [
    "env.close()"
   ]
  },
  {
   "cell_type": "code",
   "execution_count": null,
   "metadata": {},
   "outputs": [],
   "source": []
  }
 ],
 "metadata": {
  "kernelspec": {
   "display_name": "minerl",
   "language": "python",
   "name": "python3"
  },
  "language_info": {
   "codemirror_mode": {
    "name": "ipython",
    "version": 3
   },
   "file_extension": ".py",
   "mimetype": "text/x-python",
   "name": "python",
   "nbconvert_exporter": "python",
   "pygments_lexer": "ipython3",
   "version": "3.6.15 (default, Dec  9 2022, 19:43:09) \n[GCC Apple LLVM 14.0.0 (clang-1400.0.29.202)]"
  },
  "orig_nbformat": 4,
  "vscode": {
   "interpreter": {
    "hash": "75234d1335ff66cfe5d0bc1388cf2cdd424fb0816c3e6a45c858cda25df5e6da"
   }
  }
 },
 "nbformat": 4,
 "nbformat_minor": 2
}
