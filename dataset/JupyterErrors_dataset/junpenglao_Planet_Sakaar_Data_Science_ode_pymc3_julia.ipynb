{
 "cells": [
  {
   "cell_type": "code",
   "execution_count": 1,
   "metadata": {},
   "outputs": [
    {
     "ename": "ModuleNotFoundError",
     "evalue": "No module named 'julia_venv'",
     "output_type": "error",
     "traceback": [
      "\u001b[0;31m---------------------------------------------------------------------------\u001b[0m",
      "\u001b[0;31mModuleNotFoundError\u001b[0m                       Traceback (most recent call last)",
      "\u001b[0;32m<ipython-input-1-1c26d1772c66>\u001b[0m in \u001b[0;36m<module>\u001b[0;34m()\u001b[0m\n\u001b[1;32m      2\u001b[0m \u001b[0mwarnings\u001b[0m\u001b[0;34m.\u001b[0m\u001b[0msimplefilter\u001b[0m\u001b[0;34m(\u001b[0m\u001b[0maction\u001b[0m\u001b[0;34m=\u001b[0m\u001b[0;34m'ignore'\u001b[0m\u001b[0;34m,\u001b[0m \u001b[0mcategory\u001b[0m\u001b[0;34m=\u001b[0m\u001b[0mFutureWarning\u001b[0m\u001b[0;34m)\u001b[0m\u001b[0;34m\u001b[0m\u001b[0m\n\u001b[1;32m      3\u001b[0m \u001b[0;34m\u001b[0m\u001b[0m\n\u001b[0;32m----> 4\u001b[0;31m \u001b[0;32mfrom\u001b[0m \u001b[0mjulia_venv\u001b[0m \u001b[0;32mimport\u001b[0m \u001b[0mget_julia\u001b[0m\u001b[0;34m\u001b[0m\u001b[0m\n\u001b[0m\u001b[1;32m      5\u001b[0m \u001b[0;32mfrom\u001b[0m \u001b[0mdiffeqpy\u001b[0m \u001b[0;32mimport\u001b[0m \u001b[0mde\u001b[0m\u001b[0;34m\u001b[0m\u001b[0m\n\u001b[1;32m      6\u001b[0m \u001b[0;32mimport\u001b[0m \u001b[0mtheano\u001b[0m\u001b[0;34m\u001b[0m\u001b[0m\n",
      "\u001b[0;31mModuleNotFoundError\u001b[0m: No module named 'julia_venv'"
     ]
    }
   ],
   "source": [
    "import warnings\n",
    "warnings.simplefilter(action='ignore', category=FutureWarning)\n",
    "\n",
    "from julia_venv import get_julia\n",
    "from diffeqpy import de\n",
    "import theano\n",
    "import theano.tensor as tt\n",
    "import numpy as np\n",
    "import matplotlib.pyplot as plt\n",
    "import pymc3 as pm\n",
    "import seaborn as sns"
   ]
  },
  {
   "cell_type": "code",
   "execution_count": 4,
   "metadata": {},
   "outputs": [
    {
     "ename": "ModuleNotFoundError",
     "evalue": "No module named 'julia_venv'",
     "output_type": "error",
     "traceback": [
      "\u001b[0;31m---------------------------------------------------------------------------\u001b[0m",
      "\u001b[0;31mModuleNotFoundError\u001b[0m                       Traceback (most recent call last)",
      "\u001b[0;32m<ipython-input-4-c30589497b57>\u001b[0m in \u001b[0;36m<module>\u001b[0;34m()\u001b[0m\n\u001b[0;32m----> 1\u001b[0;31m \u001b[0;32mimport\u001b[0m \u001b[0mjulia_venv\u001b[0m\u001b[0;34m\u001b[0m\u001b[0m\n\u001b[0m",
      "\u001b[0;31mModuleNotFoundError\u001b[0m: No module named 'julia_venv'"
     ]
    }
   ],
   "source": []
  },
  {
   "cell_type": "code",
   "execution_count": 3,
   "metadata": {},
   "outputs": [
    {
     "ename": "RuntimeError",
     "evalue": "It seems your Julia and PyJulia setup are not supported.\n\nJulia interpreter:\n    julia\nPython interpreter and libpython used by PyCall.jl:\n    /home/junpenglao/anaconda3/bin/python3\n    /home/junpenglao/anaconda3/lib/libpython3.6m.so.1.0\nPython interpreter used to import PyJulia and its libpython.\n    /home/junpenglao/anaconda3/bin/python\n    /home/junpenglao/anaconda3/lib/libpython3.6m.so.1.0\n\nYour Python interpreter \"/home/junpenglao/anaconda3/bin/python\"\nis statically linked to libpython.  Currently, PyJulia does not support\nsuch Python interpreter.  One easy workaround is to run your Python\nscript with `python-jl` command bundled in PyJulia.  You can simply do:\n\n    python-jl PATH/TO/YOUR/SCRIPT.py\n\nSee `python-jl --help` for more information.\n\nFor other available workarounds, see:\n    https://github.com/JuliaPy/pyjulia/issues/185\n\nFor more information, see:\n    https://github.com/JuliaPy/pyjulia\n    https://github.com/JuliaPy/PyCall.jl\n",
     "output_type": "error",
     "traceback": [
      "\u001b[0;31m---------------------------------------------------------------------------\u001b[0m",
      "\u001b[0;31mRuntimeError\u001b[0m                              Traceback (most recent call last)",
      "\u001b[0;32m<ipython-input-3-4385a8e361b3>\u001b[0m in \u001b[0;36m<module>\u001b[0;34m()\u001b[0m\n\u001b[0;32m----> 1\u001b[0;31m \u001b[0mjul\u001b[0m \u001b[0;34m=\u001b[0m \u001b[0mjulia\u001b[0m\u001b[0;34m.\u001b[0m\u001b[0mJulia\u001b[0m\u001b[0;34m(\u001b[0m\u001b[0;34m)\u001b[0m\u001b[0;34m\u001b[0m\u001b[0m\n\u001b[0m",
      "\u001b[0;32m~/anaconda3/lib/python3.6/site-packages/julia/core.py\u001b[0m in \u001b[0;36m__init__\u001b[0;34m(self, *args, **kwargs)\u001b[0m\n\u001b[1;32m    790\u001b[0m \u001b[0;34m\u001b[0m\u001b[0m\n\u001b[1;32m    791\u001b[0m     \u001b[0;32mdef\u001b[0m \u001b[0m__init__\u001b[0m\u001b[0;34m(\u001b[0m\u001b[0mself\u001b[0m\u001b[0;34m,\u001b[0m \u001b[0;34m*\u001b[0m\u001b[0margs\u001b[0m\u001b[0;34m,\u001b[0m \u001b[0;34m**\u001b[0m\u001b[0mkwargs\u001b[0m\u001b[0;34m)\u001b[0m\u001b[0;34m:\u001b[0m\u001b[0;34m\u001b[0m\u001b[0m\n\u001b[0;32m--> 792\u001b[0;31m         \u001b[0mself\u001b[0m\u001b[0;34m.\u001b[0m\u001b[0m__julia\u001b[0m \u001b[0;34m=\u001b[0m \u001b[0mJulia\u001b[0m\u001b[0;34m(\u001b[0m\u001b[0;34m*\u001b[0m\u001b[0margs\u001b[0m\u001b[0;34m,\u001b[0m \u001b[0;34m**\u001b[0m\u001b[0mkwargs\u001b[0m\u001b[0;34m)\u001b[0m\u001b[0;34m\u001b[0m\u001b[0m\n\u001b[0m\u001b[1;32m    793\u001b[0m     \u001b[0m__init__\u001b[0m\u001b[0;34m.\u001b[0m\u001b[0m__doc__\u001b[0m \u001b[0;34m=\u001b[0m \u001b[0mJulia\u001b[0m\u001b[0;34m.\u001b[0m\u001b[0m__init__\u001b[0m\u001b[0;34m.\u001b[0m\u001b[0m__doc__\u001b[0m\u001b[0;34m\u001b[0m\u001b[0m\n\u001b[1;32m    794\u001b[0m \u001b[0;34m\u001b[0m\u001b[0m\n",
      "\u001b[0;32m~/anaconda3/lib/python3.6/site-packages/julia/core.py\u001b[0m in \u001b[0;36m__init__\u001b[0;34m(self, init_julia, jl_init_path, runtime, jl_runtime_path, debug)\u001b[0m\n\u001b[1;32m    611\u001b[0m                         \"PyJulia does not support Julia < 0.6 anymore\")\n\u001b[1;32m    612\u001b[0m                 \u001b[0;32melif\u001b[0m \u001b[0mversion_range\u001b[0m \u001b[0;34m==\u001b[0m \u001b[0;36m1\u001b[0m\u001b[0;34m:\u001b[0m\u001b[0;34m\u001b[0m\u001b[0m\n\u001b[0;32m--> 613\u001b[0;31m                     \u001b[0mraise_separate_cache_error\u001b[0m\u001b[0;34m(\u001b[0m\u001b[0mruntime\u001b[0m\u001b[0;34m,\u001b[0m \u001b[0mjlinfo\u001b[0m\u001b[0;34m)\u001b[0m\u001b[0;34m\u001b[0m\u001b[0m\n\u001b[0m\u001b[1;32m    614\u001b[0m                 \u001b[0;31m# Intercept precompilation\u001b[0m\u001b[0;34m\u001b[0m\u001b[0;34m\u001b[0m\u001b[0m\n\u001b[1;32m    615\u001b[0m                 \u001b[0mos\u001b[0m\u001b[0;34m.\u001b[0m\u001b[0menviron\u001b[0m\u001b[0;34m[\u001b[0m\u001b[0;34m\"PYCALL_PYTHON_EXE\"\u001b[0m\u001b[0;34m]\u001b[0m \u001b[0;34m=\u001b[0m \u001b[0msys\u001b[0m\u001b[0;34m.\u001b[0m\u001b[0mexecutable\u001b[0m\u001b[0;34m\u001b[0m\u001b[0m\n",
      "\u001b[0;32m~/anaconda3/lib/python3.6/site-packages/julia/core.py\u001b[0m in \u001b[0;36mraise_separate_cache_error\u001b[0;34m(runtime, jlinfo, _determine_if_statically_linked)\u001b[0m\n\u001b[1;32m    425\u001b[0m         \u001b[0mjl_libpython\u001b[0m\u001b[0;34m=\u001b[0m\u001b[0mnormalize_path\u001b[0m\u001b[0;34m(\u001b[0m\u001b[0mjlinfo\u001b[0m\u001b[0;34m.\u001b[0m\u001b[0mlibpython\u001b[0m\u001b[0;34m)\u001b[0m\u001b[0;34m,\u001b[0m\u001b[0;34m\u001b[0m\u001b[0m\n\u001b[1;32m    426\u001b[0m         sys=sys)\n\u001b[0;32m--> 427\u001b[0;31m     \u001b[0;32mraise\u001b[0m \u001b[0mRuntimeError\u001b[0m\u001b[0;34m(\u001b[0m\u001b[0mmessage\u001b[0m\u001b[0;34m)\u001b[0m\u001b[0;34m\u001b[0m\u001b[0m\n\u001b[0m\u001b[1;32m    428\u001b[0m \u001b[0;34m\u001b[0m\u001b[0m\n\u001b[1;32m    429\u001b[0m \u001b[0;34m\u001b[0m\u001b[0m\n",
      "\u001b[0;31mRuntimeError\u001b[0m: It seems your Julia and PyJulia setup are not supported.\n\nJulia interpreter:\n    julia\nPython interpreter and libpython used by PyCall.jl:\n    /home/junpenglao/anaconda3/bin/python3\n    /home/junpenglao/anaconda3/lib/libpython3.6m.so.1.0\nPython interpreter used to import PyJulia and its libpython.\n    /home/junpenglao/anaconda3/bin/python\n    /home/junpenglao/anaconda3/lib/libpython3.6m.so.1.0\n\nYour Python interpreter \"/home/junpenglao/anaconda3/bin/python\"\nis statically linked to libpython.  Currently, PyJulia does not support\nsuch Python interpreter.  One easy workaround is to run your Python\nscript with `python-jl` command bundled in PyJulia.  You can simply do:\n\n    python-jl PATH/TO/YOUR/SCRIPT.py\n\nSee `python-jl --help` for more information.\n\nFor other available workarounds, see:\n    https://github.com/JuliaPy/pyjulia/issues/185\n\nFor more information, see:\n    https://github.com/JuliaPy/pyjulia\n    https://github.com/JuliaPy/PyCall.jl\n"
     ]
    }
   ],
   "source": [
    "jul = get_julia()"
   ]
  },
  {
   "cell_type": "code",
   "execution_count": 3,
   "metadata": {},
   "outputs": [],
   "source": [
    "class ODE(theano.Op):\n",
    "    def __init__(self, dy_function, start, eval_points, n_params, solver, *args):\n",
    "        super().__init__(*args)\n",
    "        if not isinstance(eval_points, np.ndarray):\n",
    "            raise TypeError('eval_points must be a numpy array.')\n",
    "        if not isinstance(start, np.ndarray):\n",
    "            raise TypeError('start must be a numpy array.')\n",
    "            \n",
    "        self._dy_function = dy_function\n",
    "        self._start = start\n",
    "        self._eval_points = eval_points\n",
    "        self._n_params = n_params\n",
    "        self._t_range = (0., float(np.max(eval_points)))\n",
    "        self._solver = solver\n",
    "\n",
    "    def make_node(self, params):\n",
    "        if not params.ndim == 1:\n",
    "            raise ValueError('Parameter array must be 1d')\n",
    "\n",
    "        params = theano.tensor.as_tensor_variable(params)\n",
    "        out_type = tt.TensorType(self._eval_points.dtype, [False, False])\n",
    "        out = tt.TensorVariable(out_type)\n",
    "        grad_type = tt.TensorType(\n",
    "            params.dtype,\n",
    "            [False, False, False])\n",
    "        grad = tt.TensorVariable(grad_type)\n",
    "        return theano.Apply(self, [params], [out, grad])\n",
    "\n",
    "    def perform(self, node, inputs, output_storage):\n",
    "        problem = de.ODELocalSensitivityProblem(\n",
    "            self._dy_function, self._start, self._t_range, inputs[0])\n",
    "        solution = de.solve(problem, self._solver, saveat=self._eval_points)\n",
    "        if solution.retcode != 'Success':\n",
    "            n_time = len(self._eval_points)\n",
    "            n_sol = len(self._start)\n",
    "            output_storage[0][0] = np.full((n_time, n_sol), np.nan)\n",
    "            output_storage[1][0] = np.full((n_time, self._n_params, n_sol), np.nan)\n",
    "            return\n",
    "        \n",
    "        vals = []\n",
    "        grads = []\n",
    "        if self._eval_points[0] == 0:\n",
    "            start_idx = 0\n",
    "        else:\n",
    "            start_idx = 1\n",
    "        for i in range(start_idx, len(solution.t)):\n",
    "            # julia indexing is 1-based\n",
    "            val, grad = de.extract_local_sensitivities(solution, i + 1)\n",
    "            vals.append(val)\n",
    "            grads.append(grad)\n",
    "\n",
    "        output_storage[0][0] = np.array(vals)\n",
    "        output_storage[1][0] = np.array(grads)\n",
    "        \n",
    "    def grad(self, inputs, g):\n",
    "        val, grad = self(*inputs)\n",
    "        return [(grad * g[0][:, None, :]).sum(0).sum(-1)]\n"
   ]
  },
  {
   "cell_type": "code",
   "execution_count": 29,
   "metadata": {},
   "outputs": [],
   "source": [
    "func = jul.eval(\"\"\"\n",
    "@ode_def_nohes simple begin\n",
    "    dx1 = v1\n",
    "    dx2 = v2\n",
    "    dv1 = -M1 * x1 / (x1 ^ 2 + x2 ^ 2)^(3/2) - M2 * (x1 - 1) / ((x1 - 1) ^ 2 + (x2 - 0.5) ^ 2)^(3/2)\n",
    "    dv2 = -M1 * x2 / (x1 ^ 2 + x2 ^ 2)^(3/2) - M2 * (x2 - 0.5) / ((x1 - 1) ^ 2 + (x2 - 0.5) ^ 2)^(3/2)\n",
    "end M1 M2\n",
    "\"\"\")"
   ]
  },
  {
   "cell_type": "code",
   "execution_count": 41,
   "metadata": {},
   "outputs": [],
   "source": [
    "u0 = np.array([0.3, 0.2, 20, 0.0])\n",
    "tmax = 0.2\n",
    "problem = de.ODEProblem(func, u0, (0., tmax), [1., 0.1])\n",
    "solution = de.solve(problem)"
   ]
  },
  {
   "cell_type": "code",
   "execution_count": 59,
   "metadata": {},
   "outputs": [],
   "source": [
    "u0 = np.array([0.3, 0.2, 1.6, -0.3])\n",
    "tmax = 1.\n",
    "problem = de.ODEProblem(func, u0, (0., tmax), [1., 0.1])\n",
    "solution = de.solve(problem)"
   ]
  },
  {
   "cell_type": "code",
   "execution_count": 60,
   "metadata": {},
   "outputs": [
    {
     "data": {
      "text/plain": [
       "<matplotlib.collections.PathCollection at 0x1c43858da0>"
      ]
     },
     "execution_count": 60,
     "metadata": {},
     "output_type": "execute_result"
    },
    {
     "data": {
      "image/png": "[encoded data removed]",
      "text/plain": [
       "<Figure size 432x288 with 1 Axes>"
      ]
     },
     "metadata": {},
     "output_type": "display_data"
    }
   ],
   "source": [
    "vals = np.linspace(0, tmax, 400)\n",
    "y = [solution(t) for t in vals]\n",
    "plt.plot(*np.array(y)[:, :2].T)\n",
    "plt.scatter(*np.array([[0, 0], [1, 0.5]]).T)"
   ]
  },
  {
   "cell_type": "code",
   "execution_count": 61,
   "metadata": {},
   "outputs": [],
   "source": [
    "observation_times = np.array([0.2, 0.3, 0.4, 0.5, .6, .8, .9, .95])\n",
    "true_state = np.array([solution(t) for t in observation_times])\n",
    "true_pos = true_state[:, :2]\n",
    "sigma = 0.01\n",
    "measured_pos = true_pos + sigma * np.random.randn(*true_pos.shape)"
   ]
  },
  {
   "cell_type": "code",
   "execution_count": 62,
   "metadata": {},
   "outputs": [
    {
     "data": {
      "text/plain": [
       "<matplotlib.collections.PathCollection at 0x1c436f9198>"
      ]
     },
     "execution_count": 62,
     "metadata": {},
     "output_type": "execute_result"
    },
    {
     "data": {
      "image/png": "[encoded data removed]",
      "text/plain": [
       "<Figure size 432x288 with 1 Axes>"
      ]
     },
     "metadata": {},
     "output_type": "display_data"
    }
   ],
   "source": [
    "plt.plot(*np.array(y)[:, :2].T)\n",
    "plt.scatter(*np.array([[0, 0], [1, 0.5]]).T)\n",
    "plt.scatter(*measured_pos.T)"
   ]
  },
  {
   "cell_type": "code",
   "execution_count": 63,
   "metadata": {},
   "outputs": [],
   "source": [
    "with pm.Model() as model:\n",
    "    log_m1 = pm.Normal('log_m1', mu=0.03, sd=0.05)\n",
    "    m1 = tt.exp(log_m1)\n",
    "    pm.Deterministic('m1', m1)\n",
    "    log_m2 = pm.Normal('log_m2', mu=-2.3, sd=0.1)\n",
    "    m2 = tt.exp(log_m2)\n",
    "    pm.Deterministic('m2', m2)\n",
    "    \n",
    "    sigma = pm.HalfNormal('sigma', 0.015)\n",
    "    \n",
    "    solver = ODE(func, u0, observation_times, 2, de.Vern7())\n",
    "    position = solver(tt.stack([m1, m2]))[0]\n",
    "    position = position[:, :2]\n",
    "    pm.Deterministic('position', position)\n",
    "    \n",
    "    pm.Normal('y', mu=position, sd=sigma, observed=measured_pos)"
   ]
  },
  {
   "cell_type": "code",
   "execution_count": 64,
   "metadata": {},
   "outputs": [],
   "source": [
    "# In order to use the adjoined derivatives, we probably want\n",
    "# something like this (but with a better interface?)\n",
    "\n",
    "# error_dist = pm.Normal.dist(sd=tt.stack([sigma_x, sigma_y]))\n",
    "# pm.ODEObservedTimes(\n",
    "#     'y', error_dist, func, u0, observation_times, observed=observed)"
   ]
  },
  {
   "cell_type": "code",
   "execution_count": 65,
   "metadata": {},
   "outputs": [],
   "source": [
    "func = model.logp_dlogp_function(profile=True)\n",
    "func.set_extra_values({})\n",
    "x = np.random.randn(func.size) * 0.001\n",
    "for _ in range(100):\n",
    "    func(x)"
   ]
  },
  {
   "cell_type": "code",
   "execution_count": 66,
   "metadata": {},
   "outputs": [
    {
     "name": "stdout",
     "output_type": "stream",
     "text": [
      "3.84 ms ± 204 µs per loop (mean ± std. dev. of 7 runs, 100 loops each)\n"
     ]
    }
   ],
   "source": [
    "%timeit func(x)"
   ]
  },
  {
   "cell_type": "code",
   "execution_count": 67,
   "metadata": {},
   "outputs": [
    {
     "name": "stderr",
     "output_type": "stream",
     "text": [
      "Ops\n",
      "---\n",
      "<% time> <sum %> <apply time> <time per call> <type> <#call> <#apply> <Op name>\n",
      "  97.8%    97.8%       3.320s       3.64e-03s     Py     911        1   <__main__.ODE object at 0x1c3d28d080>\n",
      "   0.4%    98.3%       0.015s       1.67e-05s     C      911        1   IncSubtensor{InplaceInc;::, :int64:}\n",
      "   0.3%    98.6%       0.010s       3.48e-06s     C     2733        3   IncSubtensor{InplaceInc;int64:int64:}\n",
      "   0.1%    98.7%       0.005s       1.73e-06s     C     2733        3   Alloc\n",
      "   0.1%    98.8%       0.003s       1.70e-06s     C     1822        2   InplaceDimShuffle{x,x}\n",
      "   0.1%    98.9%       0.003s       7.06e-07s     C     3644        4   Sum{acc_dtype=float64}\n",
      "   0.1%    99.0%       0.002s       2.46e-06s     C      911        1   Elemwise{Composite{Switch(i0, (i1 * (i2 - i3)), i4)}}\n",
      "   0.1%    99.0%       0.002s       2.24e-06s     C      911        1   Elemwise{Composite{(Switch(i0, (i1 * i2 * i2), i3) + i4 + (i5 * (((i6 * i7 * Composite{inv(Composite{(sqr(i0) * i0)}(i0))}(i2)) / i8) - (i9 * Composite{inv(Composite{(sqr(i0) * i0)}(i0))}(i2))) * i2))}}[(0, 7)]\n",
      "   0.1%    99.1%       0.002s       6.50e-07s     C     2733        3   Reshape{1}\n",
      "   0.1%    99.1%       0.002s       9.33e-07s     C     1822        2   Shape_i{0}\n",
      "   ... (remaining 26 Ops account for   0.89%(0.03s) of the runtime)\n",
      "\n"
     ]
    }
   ],
   "source": [
    "func.profile.summary_ops(N=10)"
   ]
  },
  {
   "cell_type": "code",
   "execution_count": 68,
   "metadata": {},
   "outputs": [],
   "source": [
    "with model:\n",
    "    pred = pm.sample_prior_predictive()"
   ]
  },
  {
   "cell_type": "code",
   "execution_count": 73,
   "metadata": {},
   "outputs": [
    {
     "data": {
      "text/plain": [
       "<matplotlib.collections.PathCollection at 0x1c46dc1a58>"
      ]
     },
     "execution_count": 73,
     "metadata": {},
     "output_type": "execute_result"
    },
    {
     "data": {
      "image/png": "[encoded data removed]",
      "text/plain": [
       "<Figure size 432x288 with 1 Axes>"
      ]
     },
     "metadata": {},
     "output_type": "display_data"
    }
   ],
   "source": [
    "plt.scatter(*pred['position'][3].T)"
   ]
  },
  {
   "cell_type": "markdown",
   "metadata": {},
   "source": [
    "We sample with only one core, appearently multiprocessing and julia don't work well together.\n",
    "The second chain doesn't sample at all if we use multiprocessing."
   ]
  },
  {
   "cell_type": "code",
   "execution_count": 74,
   "metadata": {},
   "outputs": [
    {
     "name": "stderr",
     "output_type": "stream",
     "text": [
      "Auto-assigning NUTS sampler...\n",
      "Initializing NUTS using adapt_diag...\n",
      "Sequential sampling (2 chains in 1 job)\n",
      "NUTS: [sigma, log_m2, log_m1]\n",
      "100%|██████████| 1000/1000 [01:34<00:00, 10.61it/s]\n",
      "100%|██████████| 1000/1000 [00:43<00:00, 23.04it/s]\n"
     ]
    }
   ],
   "source": [
    "with model:\n",
    "    trace = pm.sample(init='adapt_diag', cores=1)"
   ]
  },
  {
   "cell_type": "code",
   "execution_count": 83,
   "metadata": {},
   "outputs": [
    {
     "data": {
      "text/plain": [
       "{'log_m1': 481.9726224735199,\n",
       " 'log_m2': 518.0924009408575,\n",
       " 'm1': 481.73164477805744,\n",
       " 'm2': 512.073154197797,\n",
       " 'sigma': 545.8739602666244,\n",
       " 'position': array([[1265.7010564 , 1486.96550494],\n",
       "        [1403.06528137, 1213.05975095],\n",
       "        [1471.58087939,  845.4809863 ],\n",
       "        [1498.61923827,  692.43098576],\n",
       "        [1503.94635357,  613.69006663],\n",
       "        [1464.15173887,  513.49461506],\n",
       "        [1400.41515961,  465.13481349],\n",
       "        [1346.10887717,  460.34378396]])}"
      ]
     },
     "execution_count": 83,
     "metadata": {},
     "output_type": "execute_result"
    }
   ],
   "source": [
    "pm.effective_n(trace)"
   ]
  },
  {
   "cell_type": "code",
   "execution_count": 84,
   "metadata": {},
   "outputs": [
    {
     "data": {
      "text/plain": [
       "{'log_m1': 1.0006891945650531,\n",
       " 'log_m2': 1.0008083832664203,\n",
       " 'm1': 1.0006960358126993,\n",
       " 'm2': 1.000738854774232,\n",
       " 'sigma': 0.9995779890500335,\n",
       " 'position': array([[0.99921639, 0.99903087],\n",
       "        [0.99909221, 0.99923421],\n",
       "        [0.99904202, 0.99972368],\n",
       "        [0.99902477, 1.00007193],\n",
       "        [0.99902193, 1.00031523],\n",
       "        [0.99905032, 1.00072773],\n",
       "        [0.99910208, 1.00090424],\n",
       "        [0.99915233, 1.00089082]])}"
      ]
     },
     "execution_count": 84,
     "metadata": {},
     "output_type": "execute_result"
    }
   ],
   "source": [
    "pm.gelman_rubin(trace)"
   ]
  },
  {
   "cell_type": "code",
   "execution_count": 85,
   "metadata": {},
   "outputs": [
    {
     "data": {
      "text/plain": [
       "<matplotlib.axes._subplots.AxesSubplot at 0x1c44095d30>"
      ]
     },
     "execution_count": 85,
     "metadata": {},
     "output_type": "execute_result"
    },
    {
     "data": {
      "image/png": "[encoded data removed]",
      "text/plain": [
       "<Figure size 432x288 with 1 Axes>"
      ]
     },
     "metadata": {},
     "output_type": "display_data"
    }
   ],
   "source": [
    "pm.energyplot(trace)"
   ]
  },
  {
   "cell_type": "markdown",
   "metadata": {},
   "source": [
    "We learn a lot about the mass of the first point."
   ]
  },
  {
   "cell_type": "code",
   "execution_count": 75,
   "metadata": {},
   "outputs": [
    {
     "data": {
      "text/plain": [
       "<matplotlib.axes._subplots.AxesSubplot at 0x1c3d9f4518>"
      ]
     },
     "execution_count": 75,
     "metadata": {},
     "output_type": "execute_result"
    },
    {
     "data": {
      "image/png": "[encoded data removed]",
      "text/plain": [
       "<Figure size 432x288 with 1 Axes>"
      ]
     },
     "metadata": {},
     "output_type": "display_data"
    }
   ],
   "source": [
    "sns.distplot(pred['m1'])\n",
    "sns.distplot(trace['m1'])"
   ]
  },
  {
   "cell_type": "markdown",
   "metadata": {},
   "source": [
    "The marginal uncertainty in the mass of the second point doesn't change much."
   ]
  },
  {
   "cell_type": "code",
   "execution_count": 76,
   "metadata": {},
   "outputs": [
    {
     "data": {
      "text/plain": [
       "<matplotlib.axes._subplots.AxesSubplot at 0x1c4384dd68>"
      ]
     },
     "execution_count": 76,
     "metadata": {},
     "output_type": "execute_result"
    },
    {
     "data": {
      "image/png": "[encoded data removed]",
      "text/plain": [
       "<Figure size 432x288 with 1 Axes>"
      ]
     },
     "metadata": {},
     "output_type": "display_data"
    }
   ],
   "source": [
    "sns.distplot(pred['m2'])\n",
    "sns.distplot(trace['m2'])"
   ]
  },
  {
   "cell_type": "code",
   "execution_count": 77,
   "metadata": {},
   "outputs": [
    {
     "data": {
      "text/plain": [
       "<matplotlib.axes._subplots.AxesSubplot at 0x1c46fa3438>"
      ]
     },
     "execution_count": 77,
     "metadata": {},
     "output_type": "execute_result"
    },
    {
     "data": {
      "image/png": "[encoded data removed]",
      "text/plain": [
       "<Figure size 432x288 with 1 Axes>"
      ]
     },
     "metadata": {},
     "output_type": "display_data"
    }
   ],
   "source": [
    "sns.distplot(pred['sigma'])\n",
    "sns.distplot(trace['sigma'])"
   ]
  },
  {
   "cell_type": "markdown",
   "metadata": {},
   "source": [
    "The posteriors are correlated. So after observing the value we know that if M1 is small, then so is M2."
   ]
  },
  {
   "cell_type": "code",
   "execution_count": 87,
   "metadata": {},
   "outputs": [
    {
     "data": {
      "text/plain": [
       "<matplotlib.collections.PathCollection at 0x1c4415a198>"
      ]
     },
     "execution_count": 87,
     "metadata": {},
     "output_type": "execute_result"
    },
    {
     "data": {
      "image/png": "[encoded data removed]",
      "text/plain": [
       "<Figure size 432x288 with 1 Axes>"
      ]
     },
     "metadata": {},
     "output_type": "display_data"
    }
   ],
   "source": [
    "plt.scatter(trace['m1'], trace['m2'])"
   ]
  }
 ],
 "metadata": {
  "kernelspec": {
   "display_name": "Python 3",
   "language": "python",
   "name": "python3"
  },
  "language_info": {
   "codemirror_mode": {
    "name": "ipython",
    "version": 3
   },
   "file_extension": ".py",
   "mimetype": "text/x-python",
   "name": "python",
   "nbconvert_exporter": "python",
   "pygments_lexer": "ipython3",
   "version": "3.6.5"
  }
 },
 "nbformat": 4,
 "nbformat_minor": 2
}
