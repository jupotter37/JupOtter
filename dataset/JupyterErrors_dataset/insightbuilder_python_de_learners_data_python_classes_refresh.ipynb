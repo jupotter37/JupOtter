{
 "cells": [
  {
   "cell_type": "markdown",
   "metadata": {},
   "source": [
    "### Will be looking into the Python Classes\n",
    "\n",
    "find 1: Start reading the python modules with clarity, and visualise the data / control / logic flow\n",
    "\n",
    "find 2: Learn and master how to alter the existing modules after reading and understanding them \n",
    "\n",
    "find 3: How python is used in big projects, and start contributing there\n",
    "\n",
    "**Class is a code that specifies the data & behaviour that represent & model a particular type of object**\n",
    "\n",
    "Class is a blue-print or die from which many things that can do things can be brought to cyber reality. \n",
    "\n",
    "Attributes are the data represented inside the class, in short vars in class\n",
    "\n",
    "Methods are functions defined within class, which dictate the behaviour\n",
    "\n",
    "Attributes + Methods are members of the class / object. The class will act as namespace for these attributes and methods. Only through the classes, these internal variables can be reached..\n",
    "\n",
    "With above condition python objects can be used to model some complex problems and solve them.\n",
    "\n",
    "Class hierarchies promotes code reuse... (came across compound statements in python..)\n",
    "\n",
    "### Python classes can help you write more organized, structured, maintainable, reusable, flexible, and user-friendly code"
   ]
  },
  {
   "cell_type": "markdown",
   "metadata": {},
   "source": [
    "### Examples of real world python classes in action"
   ]
  },
  {
   "cell_type": "code",
   "execution_count": null,
   "metadata": {},
   "outputs": [],
   "source": [
    "\n",
    "class Person:\n",
    "    def __init__(self, name, age):\n",
    "        self.name = name\n",
    "        self.age = age\n",
    "\n",
    "    def introduce(self):\n",
    "        print(f\"Hi, I'm {self.name} and I'm {self.age} years old.\")\n",
    "\n",
    "person1 = Person(\"Alice\", 30)\n",
    "person1.introduce()\n",
    "\n",
    "\n",
    "import tkinter as tk\n",
    "\n",
    "class GUI:\n",
    "    def __init__(self, root):\n",
    "        self.root = root\n",
    "        self.label = tk.Label(root, text=\"Hello, GUI!\")\n",
    "        self.label.pack()\n",
    "\n",
    "root = tk.Tk()\n",
    "app = GUI(root)\n",
    "root.mainloop()\n",
    "\n",
    "import sqlite3\n",
    "\n",
    "class Employee:\n",
    "    def __init__(self, emp_id, emp_name):\n",
    "        self.emp_id = emp_id\n",
    "        self.emp_name = emp_name\n",
    "\n",
    "def create_employee_table():\n",
    "    connection = sqlite3.connect(\"employee.db\")\n",
    "    cursor = connection.cursor()\n",
    "    cursor.execute('''CREATE TABLE IF NOT EXISTS employees (id INTEGER PRIMARY KEY, name TEXT)''')\n",
    "    connection.commit()\n",
    "    connection.close()\n",
    "\n",
    "def insert_employee(employee):\n",
    "    connection = sqlite3.connect(\"employee.db\")\n",
    "    cursor = connection.cursor()\n",
    "    cursor.execute(\"INSERT INTO employees (name) VALUES (?)\", (employee.emp_name,))\n",
    "    connection.commit()\n",
    "    connection.close()\n",
    "\n",
    "# Usage\n",
    "create_employee_table()\n",
    "emp = Employee(1, \"John Doe\")\n",
    "insert_employee(emp)\n",
    "\n",
    "from flask import Flask\n",
    "\n",
    "app = Flask(__name__)\n",
    "\n",
    "@app.route('/')\n",
    "def hello_world():\n",
    "    return 'Hello, World!'\n",
    "\n",
    "if __name__ == '__main__':\n",
    "    app.run()\n",
    "\n",
    "import pygame\n",
    "\n",
    "class Player(pygame.sprite.Sprite):\n",
    "    def __init__(self):\n",
    "        super().__init__()\n",
    "        self.image = pygame.Surface((50, 50))\n",
    "        self.image.fill((255, 0, 0))\n",
    "        self.rect = self.image.get_rect()\n",
    "        self.rect.center = (250, 250)\n",
    "\n",
    "pygame.init()\n",
    "screen = pygame.display.set_mode((500, 500))\n",
    "player = Player()\n",
    "all_sprites = pygame.sprite.Group()\n",
    "all_sprites.add(player)\n",
    "\n",
    "running = True\n",
    "while running:\n",
    "    for event in pygame.event.get():\n",
    "        if event.type == pygame.QUIT:\n",
    "            running = False\n",
    "\n",
    "    all_sprites.update()\n",
    "    screen.fill((0, 0, 0))\n",
    "    all_sprites.draw(screen)\n",
    "    pygame.display.flip()\n",
    "\n",
    "pygame.quit()\n"
   ]
  },
  {
   "cell_type": "markdown",
   "metadata": {},
   "source": [
    "### Understanding Python classes"
   ]
  },
  {
   "cell_type": "code",
   "execution_count": 2,
   "metadata": {},
   "outputs": [],
   "source": [
    "# First Class\n",
    "\n",
    "import math\n",
    "\n",
    "class Circle:\n",
    "    def __init__(self, radius) -> None:\n",
    "        \"\"\"__init__ is the initializer which defines & sets init vals\"\"\"\n",
    "        self.radius = radius\n",
    "\n",
    "    def calc_area(self):\n",
    "        return round(math.pi * self.radius ** 2, 2)"
   ]
  },
  {
   "cell_type": "code",
   "execution_count": 6,
   "metadata": {},
   "outputs": [
    {
     "data": {
      "text/plain": [
       "78.54"
      ]
     },
     "execution_count": 6,
     "metadata": {},
     "output_type": "execute_result"
    }
   ],
   "source": [
    "cir1 = Circle(8) #l the Circle() class constructor with a pair of \n",
    "#parentheses and a set of appropriate arguments.\n",
    "\n",
    "cir1.calc_area()\n",
    "\n",
    "cdir = Circle(5)\n",
    "cdir.calc_area()"
   ]
  },
  {
   "cell_type": "markdown",
   "metadata": {},
   "source": [
    "Note that the dot (.) in this syntax basically means give me the following attribute or method from this object.\n",
    "\n",
    "In Python, all attributes are accessible in one way or another. However, Python has a well-established naming convention that you should use to communicate that an attribute or method isn’t intended for use from outside its containing class or object.\n",
    "\n",
    "Non-public members exist only to **support the internal implementation of a given class and may be removed at any time**, so you shouldn’t rely on them.\n",
    "\n",
    "A good approach will be to start with all your attributes as non-public and only make them public if real use cases appear.\n",
    "\n",
    "**name mangling** is adding double underscores before the attribute or method. These are not available in public api of the classes"
   ]
  },
  {
   "cell_type": "code",
   "execution_count": 7,
   "metadata": {},
   "outputs": [
    {
     "data": {
      "text/plain": [
       "8"
      ]
     },
     "execution_count": 7,
     "metadata": {},
     "output_type": "execute_result"
    }
   ],
   "source": [
    "cir1.radius"
   ]
  },
  {
   "cell_type": "code",
   "execution_count": 10,
   "metadata": {},
   "outputs": [
    {
     "data": {
      "text/plain": [
       "{'_SampleClass__value': 'olo'}"
      ]
     },
     "execution_count": 10,
     "metadata": {},
     "output_type": "execute_result"
    }
   ],
   "source": [
    "class SampleClass:\n",
    "     def __init__(self, value):\n",
    "         self.__value = value\n",
    "     def __method(self):\n",
    "         print(self.__value)\n",
    "\n",
    "tam = SampleClass(\"olo\")\n",
    "\n",
    "vars(tam)\n",
    "# In the above example, you use the built-in vars() function, which returns a \n",
    "# dictionary of all the members associated with the given object. This dictionary\n",
    "#  plays an important role in Python classes. "
   ]
  },
  {
   "cell_type": "code",
   "execution_count": 11,
   "metadata": {},
   "outputs": [
    {
     "name": "stdout",
     "output_type": "stream",
     "text": [
      "olo\n"
     ]
    }
   ],
   "source": [
    "#you can still access the values of the mangled names\n",
    "\n",
    "tam._SampleClass__method()"
   ]
  },
  {
   "cell_type": "markdown",
   "metadata": {},
   "source": [
    "You shouldn’t use regular classes when you need to:\n",
    "\n",
    "Store only data. Use a data class or a named tuple instead.\n",
    "Provide a single method. Use a function instead.\n",
    "\n",
    "**Class attributes:** A class attribute is a variable that you define in the class body directly. Class attributes belong to their containing class. Their data is common to the class and all its instances.\n",
    "\n",
    "**Instance attributes:** An instance is a variable that you define inside a method. Instance attributes belong to a concrete instance of a given class. Their data is only available to that instance and defines its state."
   ]
  },
  {
   "cell_type": "code",
   "execution_count": 1,
   "metadata": {},
   "outputs": [],
   "source": [
    "# class that keeps count of the number of instance created \n",
    "\n",
    "class ObjCounter:\n",
    "    num = 0\n",
    "    def __init__(self) -> None:\n",
    "        ObjCounter.num += 1"
   ]
  },
  {
   "cell_type": "code",
   "execution_count": 2,
   "metadata": {},
   "outputs": [
    {
     "data": {
      "text/plain": [
       "<__main__.ObjCounter at 0x16369958f90>"
      ]
     },
     "execution_count": 2,
     "metadata": {},
     "output_type": "execute_result"
    }
   ],
   "source": [
    "#every time the cell is executed, the new object will be created but not assigned to any variable\n",
    "\n",
    "ObjCounter()"
   ]
  },
  {
   "cell_type": "markdown",
   "metadata": {},
   "source": [
    "When creating the above objects without thought, i realized these objects will be in the garbage. I got curious to check how to look at the garbage values. Came across memory_profiler and objgraph. \n",
    "\n",
    "muppy and heapy can help in checking if the objects are properly released"
   ]
  },
  {
   "cell_type": "code",
   "execution_count": 3,
   "metadata": {},
   "outputs": [
    {
     "data": {
      "text/plain": [
       "1"
      ]
     },
     "execution_count": 3,
     "metadata": {},
     "output_type": "execute_result"
    }
   ],
   "source": [
    "ObjCounter.num"
   ]
  },
  {
   "cell_type": "code",
   "execution_count": 4,
   "metadata": {},
   "outputs": [
    {
     "ename": "ModuleNotFoundError",
     "evalue": "No module named 'objgraph'",
     "output_type": "error",
     "traceback": [
      "\u001b[1;31m---------------------------------------------------------------------------\u001b[0m",
      "\u001b[1;31mModuleNotFoundError\u001b[0m                       Traceback (most recent call last)",
      "\u001b[1;32md:\\gitFolders\\python_de_learners_data\\code_script_notebooks\\jupyter_notebooks\\python_classes_refresh.ipynb Cell 16\u001b[0m line \u001b[0;36m1\n\u001b[1;32m----> <a href='vscode-notebook-cell:/d%3A/gitFolders/python_de_learners_data/code_script_notebooks/jupyter_notebooks/python_classes_refresh.ipynb#X21sZmlsZQ%3D%3D?line=0'>1</a>\u001b[0m \u001b[39mimport\u001b[39;00m \u001b[39mobjgraph\u001b[39;00m\n\u001b[0;32m      <a href='vscode-notebook-cell:/d%3A/gitFolders/python_de_learners_data/code_script_notebooks/jupyter_notebooks/python_classes_refresh.ipynb#X21sZmlsZQ%3D%3D?line=2'>3</a>\u001b[0m objgraph\u001b[39m.\u001b[39mshow_backrefs([ObjCounter])\n",
      "\u001b[1;31mModuleNotFoundError\u001b[0m: No module named 'objgraph'"
     ]
    }
   ],
   "source": [
    "import objgraph\n",
    "\n",
    "objgraph.show_backrefs([ObjCounter])"
   ]
  },
  {
   "cell_type": "code",
   "execution_count": 5,
   "metadata": {},
   "outputs": [],
   "source": [
    "class Car:\n",
    "    def __init__(self, make, model, year, color):\n",
    "        self.make = make\n",
    "        self.model = model\n",
    "        self.year = year\n",
    "        self.color = color\n",
    "        self.started = False\n",
    "        self.speed = 0\n",
    "        self.max_speed = 200\n",
    "\n",
    "#Defining total of 7 instance attributes"
   ]
  },
  {
   "cell_type": "code",
   "execution_count": 6,
   "metadata": {},
   "outputs": [
    {
     "name": "stdout",
     "output_type": "stream",
     "text": [
      "0\n",
      "200\n"
     ]
    }
   ],
   "source": [
    "toy_cam = Car(\"Toyota\",\"camry\",5778,\"pinkish_green\")\n",
    "print(toy_cam.speed)\n",
    "print(toy_cam.max_speed)"
   ]
  },
  {
   "cell_type": "markdown",
   "metadata": {},
   "source": [
    "Each key in .__dict__ represents an attribute name. The value associated with a given key represents the value of the corresponding attribute."
   ]
  },
  {
   "cell_type": "code",
   "execution_count": 30,
   "metadata": {},
   "outputs": [],
   "source": [
    "class SampleClass:\n",
    "    class_attr = 100\n",
    "\n",
    "    def __init__(self, instance_attr):\n",
    "        self.instance_attr = instance_attr\n",
    "\n",
    "    def method(self):\n",
    "        print(f\"Class attribute: {self.class_attr}\")\n",
    "        print(f\"Instance attribute: {self.instance_attr}\")"
   ]
  },
  {
   "cell_type": "code",
   "execution_count": 31,
   "metadata": {},
   "outputs": [
    {
     "data": {
      "text/plain": [
       "100"
      ]
     },
     "execution_count": 31,
     "metadata": {},
     "output_type": "execute_result"
    }
   ],
   "source": [
    "SampleClass.class_attr"
   ]
  },
  {
   "cell_type": "code",
   "execution_count": 32,
   "metadata": {},
   "outputs": [
    {
     "data": {
      "text/plain": [
       "mappingproxy({'__module__': '__main__',\n",
       "              'class_attr': 100,\n",
       "              '__init__': <function __main__.SampleClass.__init__(self, instance_attr)>,\n",
       "              'method': <function __main__.SampleClass.method(self)>,\n",
       "              '__dict__': <attribute '__dict__' of 'SampleClass' objects>,\n",
       "              '__weakref__': <attribute '__weakref__' of 'SampleClass' objects>,\n",
       "              '__doc__': None})"
      ]
     },
     "execution_count": 32,
     "metadata": {},
     "output_type": "execute_result"
    }
   ],
   "source": [
    "SampleClass.__dict__"
   ]
  },
  {
   "cell_type": "code",
   "execution_count": 33,
   "metadata": {},
   "outputs": [
    {
     "data": {
      "text/plain": [
       "'hola!!!'"
      ]
     },
     "execution_count": 33,
     "metadata": {},
     "output_type": "execute_result"
    }
   ],
   "source": [
    "inst = SampleClass(\"hola!!!\")\n",
    "\n",
    "inst.instance_attr"
   ]
  },
  {
   "cell_type": "code",
   "execution_count": 34,
   "metadata": {},
   "outputs": [
    {
     "name": "stdout",
     "output_type": "stream",
     "text": [
      "Class attribute: 100\n",
      "Instance attribute: hola!!!\n"
     ]
    }
   ],
   "source": [
    "inst.method()"
   ]
  },
  {
   "cell_type": "code",
   "execution_count": 35,
   "metadata": {},
   "outputs": [
    {
     "data": {
      "text/plain": [
       "'Hello, Pythonista!'"
      ]
     },
     "execution_count": 35,
     "metadata": {},
     "output_type": "execute_result"
    }
   ],
   "source": [
    "inst.__dict__[\"instance_attr\"] = \"Hello, Pythonista!\"\n",
    "\n",
    "inst.instance_attr"
   ]
  },
  {
   "cell_type": "markdown",
   "metadata": {},
   "source": [
    "In python, you can add new attributes to your classes and instances dynamically\n",
    "\n",
    "**This is entirely new way of jiving**"
   ]
  },
  {
   "cell_type": "code",
   "execution_count": 36,
   "metadata": {},
   "outputs": [],
   "source": [
    "class Record:\n",
    "    \"\"\"Hold a record data\"\"\""
   ]
  },
  {
   "cell_type": "code",
   "execution_count": 37,
   "metadata": {},
   "outputs": [],
   "source": [
    "john = {\n",
    "    \"name\": \"Johny Bravo\",\n",
    "    \"position\": \"Pythony Dude\",\n",
    "    \"department\": \"Winding date\",\n",
    "    \"salary\": \"Dorked\",\n",
    "    \"hired\": \"What??\",\n",
    "    \"is-manager\": \"in your dreams\"\n",
    "}"
   ]
  },
  {
   "cell_type": "code",
   "execution_count": 38,
   "metadata": {},
   "outputs": [],
   "source": [
    "#Manually creating the instance with the data...\n",
    "\n",
    "johnRec = Record()\n",
    "\n",
    "#setattr is another in-built function\n",
    "\n",
    "for f, v in john.items():\n",
    "    setattr(johnRec, f, v) #observe the setattr function.. its inbuilt"
   ]
  },
  {
   "cell_type": "code",
   "execution_count": 40,
   "metadata": {},
   "outputs": [
    {
     "data": {
      "text/plain": [
       "{'name': 'Johny Bravo',\n",
       " 'position': 'Pythony Dude',\n",
       " 'department': 'Winding date',\n",
       " 'salary': 'Dorked',\n",
       " 'hired': 'What??',\n",
       " 'is-manager': 'in your dreams'}"
      ]
     },
     "execution_count": 40,
     "metadata": {},
     "output_type": "execute_result"
    }
   ],
   "source": [
    "johnRec.__dict__"
   ]
  },
  {
   "cell_type": "code",
   "execution_count": 41,
   "metadata": {},
   "outputs": [],
   "source": [
    "class BrokenUser:\n",
    "    pass"
   ]
  },
  {
   "cell_type": "code",
   "execution_count": 42,
   "metadata": {},
   "outputs": [
    {
     "data": {
      "text/plain": [
       "{'name': 'Doe Eyes', 'job': 'fixing class'}"
      ]
     },
     "execution_count": 42,
     "metadata": {},
     "output_type": "execute_result"
    }
   ],
   "source": [
    "jane = BrokenUser()\n",
    "\n",
    "jane.name = \"Doe Eyes\"\n",
    "\n",
    "jane.job = \"fixing class\"\n",
    "\n",
    "jane.__dict__"
   ]
  },
  {
   "cell_type": "code",
   "execution_count": 43,
   "metadata": {},
   "outputs": [],
   "source": [
    "def __init__(self, name, job):\n",
    "    self.name = name\n",
    "    self.job = job\n",
    "\n",
    "BrokenUser.__init__ = __init__ #we are assigning the method like values"
   ]
  },
  {
   "cell_type": "code",
   "execution_count": 44,
   "metadata": {},
   "outputs": [
    {
     "data": {
      "text/plain": [
       "{'name': 'lin', 'job': 'fixed obj'}"
      ]
     },
     "execution_count": 44,
     "metadata": {},
     "output_type": "execute_result"
    }
   ],
   "source": [
    "lin = BrokenUser('lin','fixed obj')\n",
    "lin.__dict__"
   ]
  },
  {
   "cell_type": "markdown",
   "metadata": {},
   "source": [
    "To create a managed attribute with function-like behavior in Python, you can use either a property or a descriptor, depending on your specific needs.\n",
    "\n",
    "https://realpython.com/python-property/"
   ]
  },
  {
   "cell_type": "code",
   "execution_count": 45,
   "metadata": {},
   "outputs": [],
   "source": [
    "import math\n",
    "\n",
    "class Circle:\n",
    "    def __init__(self, radius):\n",
    "        self.radius = radius\n",
    "\n",
    "    @property\n",
    "    def radius(self):\n",
    "        return self._radius\n",
    "\n",
    "    @radius.setter\n",
    "    def radius(self, value):\n",
    "        \"\"\" Note that property setters need to take an argument providing the value that you want to store in the underlying attribute\"\"\"\n",
    "        if not isinstance(value, int | float) or value <= 0:\n",
    "            raise ValueError(\"positive number expected\")\n",
    "        self._radius = value\n",
    "\n",
    "    def calculate_area(self):\n",
    "        return round(math.pi * self._radius**2, 2)"
   ]
  },
  {
   "cell_type": "code",
   "execution_count": 47,
   "metadata": {},
   "outputs": [],
   "source": [
    "cirNew1 = Circle(10)"
   ]
  },
  {
   "cell_type": "markdown",
   "metadata": {},
   "source": [
    "**Explore How descriptors work**\n",
    "\n",
    "You’ve decided to continue creating classes for your drawing application, and now you have the following Square class"
   ]
  },
  {
   "cell_type": "code",
   "execution_count": 50,
   "metadata": {},
   "outputs": [
    {
     "data": {
      "text/plain": [
       "' .__get__() and .__set__() special methods, which are part of the descriptor protocol'"
      ]
     },
     "execution_count": 50,
     "metadata": {},
     "output_type": "execute_result"
    }
   ],
   "source": [
    "import math\n",
    "\n",
    "class PositiveNumber:\n",
    "    def __set_name__(self,owner,name):\n",
    "        self.name = name\n",
    "\n",
    "    def __get__(self,instance, owner):\n",
    "        return instance.__dict__[self.name]\n",
    "\n",
    "    def __set__(self,instance, value):\n",
    "        if not isinstance(value, int|float) or value <= 0:\n",
    "            raise ValueError(\"Positive num expected\")\n",
    "        instance.__dict__[self._name] = value\n",
    "\"\"\" .__get__() and .__set__() special methods, which are part of the descriptor protocol\"\"\""
   ]
  },
  {
   "cell_type": "code",
   "execution_count": 49,
   "metadata": {},
   "outputs": [],
   "source": [
    "class Circle:\n",
    "    rad = PositiveNumber()\n",
    "\n",
    "    def __init__(self) -> None:\n",
    "        self.radius = rad\n",
    "\n",
    "    def calculate_area(self):\n",
    "        return round(math.pi * self.rad**2, 2)\n",
    "    \n",
    "class Square:\n",
    "\n",
    "    side = PositiveNumber()\n",
    "\n",
    "    def __init__(self, side):\n",
    "        self.side = side\n",
    "\n",
    "    def calculate_area(self):\n",
    "        return round(self.side **2, 2)"
   ]
  },
  {
   "cell_type": "markdown",
   "metadata": {},
   "source": [
    "Python descriptors provide a powerful tool for adding function-like behavior on top of your instance attributes. They can help you remove repetition from your code, making it cleaner and more maintainable. They also promote code reuse."
   ]
  },
  {
   "cell_type": "markdown",
   "metadata": {},
   "source": [
    "Using the .__slots__ attribute can help you reduce the memory footprint of the corresponding instances. This attribute prevents the automatic creation of an instance .__dict__. \n",
    "\n",
    "__slots__ will prevent you from adding the instance attributes dynamically"
   ]
  },
  {
   "cell_type": "code",
   "execution_count": 51,
   "metadata": {},
   "outputs": [],
   "source": [
    "class Point:\n",
    "    __slots__ = (\"x\",\"y\")\n",
    "\n",
    "    def __init__(self, x, y) -> None:\n",
    "        self.x = x\n",
    "        self.y = y"
   ]
  },
  {
   "cell_type": "code",
   "execution_count": 52,
   "metadata": {},
   "outputs": [
    {
     "ename": "AttributeError",
     "evalue": "'Point' object has no attribute '__dict__'",
     "output_type": "error",
     "traceback": [
      "\u001b[0;31m---------------------------------------------------------------------------\u001b[0m",
      "\u001b[0;31mAttributeError\u001b[0m                            Traceback (most recent call last)",
      "\u001b[1;32m/home/kamal/gitfolders/python_de_learners_data/code_script_notebooks/jupyter_notebooks/python_classes_refresh.ipynb Cell 44\u001b[0m line \u001b[0;36m2\n\u001b[1;32m      <a href='vscode-notebook-cell:/home/kamal/gitfolders/python_de_learners_data/code_script_notebooks/jupyter_notebooks/python_classes_refresh.ipynb#X60sZmlsZQ%3D%3D?line=0'>1</a>\u001b[0m pt \u001b[39m=\u001b[39m Point(\u001b[39m5\u001b[39m,\u001b[39m7\u001b[39m)\n\u001b[0;32m----> <a href='vscode-notebook-cell:/home/kamal/gitfolders/python_de_learners_data/code_script_notebooks/jupyter_notebooks/python_classes_refresh.ipynb#X60sZmlsZQ%3D%3D?line=1'>2</a>\u001b[0m pt\u001b[39m.\u001b[39;49m\u001b[39m__dict__\u001b[39;49m\n",
      "\u001b[0;31mAttributeError\u001b[0m: 'Point' object has no attribute '__dict__'"
     ]
    }
   ],
   "source": [
    "pt = Point(5,7)\n",
    "pt.__dict__"
   ]
  },
  {
   "cell_type": "markdown",
   "metadata": {},
   "source": [
    "!pip install pympler objgraph xdot\n",
    "\n",
    "In a Python class, you can define **three different types of methods**:\n",
    "\n",
    "**Instance methods**, which take the current instance, self, as their first argument\n",
    "\n",
    "**Class methods**, which take the current class, cls, as their first argument\n",
    "\n",
    "**Static methods**, which take neither the class nor the instance"
   ]
  },
  {
   "cell_type": "code",
   "execution_count": 1,
   "metadata": {},
   "outputs": [],
   "source": [
    "class Car:\n",
    "    def __init__(self, make, model, year, color):\n",
    "        self.make = make\n",
    "        self.model = model\n",
    "        self.year = year\n",
    "        self.color = color\n",
    "        self.started = False\n",
    "        self.speed = 0\n",
    "        self.max_speed = 200\n",
    "\n",
    "    def start(self): #Instance method\n",
    "        print(\"Starting the car...\")\n",
    "        self.started = True\n",
    "\n",
    "    def stop(self): #Instance method\n",
    "        print(\"Stopping the car...\")\n",
    "        self.started = False\n",
    "\n",
    "    \n",
    "    def accelerate(self, value):\n",
    "        if not self.started:\n",
    "            print(\"Car is not started!\")\n",
    "            return\n",
    "        if self.speed + value <= self.max_speed:\n",
    "            self.speed += value\n",
    "        else:\n",
    "            self.speed = self.max_speed\n",
    "        print(f\"Accelerating to {self.speed} km/h...\")\n",
    "\n",
    "    def brake(self, value):\n",
    "        if self.speed - value >= 0:\n",
    "            self.speed -= value\n",
    "        else:\n",
    "            self.speed = 0\n",
    "        print(f\"Braking to {self.speed} km/h...\")\n",
    "\n",
    "    def __str__(self):\n",
    "        \"\"\"Informal string representation\"\"\"\n",
    "        return f\"{self.make}, {self.model}, {self.color}: ({self.year})\"\n",
    "\n",
    "    def __repr__(self):\n",
    "        \"\"\"Can recreate object if possible, so requires formal string representation\"\"\"\n",
    "        return (\n",
    "            f\"{type(self).__name__}\"\n",
    "            f'(make=\"{self.make}\", '\n",
    "            f'model=\"{self.model}\", '\n",
    "            f\"year={self.year}, \"\n",
    "            f'color=\"{self.color}\")'\n",
    "        )"
   ]
  },
  {
   "cell_type": "code",
   "execution_count": 2,
   "metadata": {},
   "outputs": [
    {
     "name": "stdout",
     "output_type": "stream",
     "text": [
      "Starting the car...\n"
     ]
    }
   ],
   "source": [
    "mustang_mary = Car(\"Marble\",\"Mustang\",6228,\"UEllow\")\n",
    "\n",
    "mustang_mary.start()"
   ]
  },
  {
   "cell_type": "code",
   "execution_count": 56,
   "metadata": {},
   "outputs": [
    {
     "name": "stdout",
     "output_type": "stream",
     "text": [
      "Accelerating to 200 km/h...\n"
     ]
    }
   ],
   "source": [
    "mustang_mary.accelerate(580)"
   ]
  },
  {
   "cell_type": "code",
   "execution_count": 57,
   "metadata": {},
   "outputs": [
    {
     "name": "stdout",
     "output_type": "stream",
     "text": [
      "Stopping the car...\n"
     ]
    }
   ],
   "source": [
    "mustang_mary.stop()"
   ]
  },
  {
   "cell_type": "code",
   "execution_count": 59,
   "metadata": {},
   "outputs": [
    {
     "name": "stdout",
     "output_type": "stream",
     "text": [
      "Braking to 195 km/h...\n"
     ]
    }
   ],
   "source": [
    "mustang_mary.brake(5)"
   ]
  },
  {
   "cell_type": "code",
   "execution_count": 3,
   "metadata": {},
   "outputs": [
    {
     "name": "stdout",
     "output_type": "stream",
     "text": [
      "Starting the car...\n",
      "Accelerating to 100 km/h...\n",
      "Braking to 0 km/h...\n",
      "Stopping the car...\n"
     ]
    }
   ],
   "source": [
    "ford_mustang = Car(\"Ford\", \"Mustang\", 2022, \"Black\")\n",
    "\n",
    "Car.start(ford_mustang)\n",
    "Car.accelerate(ford_mustang, 100)\n",
    "\n",
    "\n",
    "Car.brake(ford_mustang, 100)\n",
    "\n",
    "Car.stop(ford_mustang)"
   ]
  },
  {
   "cell_type": "markdown",
   "metadata": {},
   "source": [
    "Dunder Methods: **Python calls them automatically in response to specific operations.**\n",
    "They provide a great set of tools that will allow you to unlock the power of classes in Python"
   ]
  },
  {
   "cell_type": "markdown",
   "metadata": {},
   "source": [
    "When you use an instance of Car as an argument to str() or print(), you get a user-friendly string representation of the car at hand. This informal representation comes in handy when you need your programs to present your users with information about specific objects."
   ]
  },
  {
   "cell_type": "code",
   "execution_count": 6,
   "metadata": {},
   "outputs": [
    {
     "name": "stdout",
     "output_type": "stream",
     "text": [
      "Marble, Mustang, UEllow: (6228)\n",
      "Ford, Mustang, Black: (2022)\n"
     ]
    }
   ],
   "source": [
    "print(str(mustang_mary)) # Return in case of str is still not \n",
    "# directly printed and is informal\n",
    "\n",
    "print(ford_mustang)"
   ]
  },
  {
   "cell_type": "code",
   "execution_count": 7,
   "metadata": {},
   "outputs": [
    {
     "data": {
      "text/plain": [
       "'Car(make=\"Ford\", model=\"Mustang\", year=2022, color=\"Black\")'"
      ]
     },
     "execution_count": 7,
     "metadata": {},
     "output_type": "execute_result"
    }
   ],
   "source": [
    "repr(ford_mustang) #Formal representation... and used to recreate the object"
   ]
  },
  {
   "cell_type": "markdown",
   "metadata": {},
   "source": [
    "### Python protocols\n",
    "\n",
    "- Iterator \n",
    "\n",
    "- Iterable\n",
    "\n",
    "- Descriptor : writing managed attributes \n",
    "\n",
    "- Context Manager : working using \"with\" statement "
   ]
  },
  {
   "cell_type": "code",
   "execution_count": 14,
   "metadata": {},
   "outputs": [],
   "source": [
    "class ThreeDPoint:\n",
    "    def __init__(self, x, y, z):\n",
    "        self.x = x\n",
    "        self.y = y\n",
    "        self.z = z\n",
    "    def __iter__(self): #The .__iter__() method is a generator function that returns an iterator. \n",
    "       yield from (self.x, self.y, self.z)\n",
    "\n",
    "    @classmethod\n",
    "    def from_sequence(cls, sequence):\n",
    "        return cls(*sequence)\n",
    "    \n",
    "    @staticmethod\n",
    "    def show_intro_message(name):\n",
    "        print(f\"Hey {name}! This is your 3D Point!\")\n",
    "        \n",
    "    def __repr__(self):\n",
    "        return f\"{type(self).__name__}({self.x}, {self.y}, {self.z})\""
   ]
  },
  {
   "cell_type": "code",
   "execution_count": 9,
   "metadata": {},
   "outputs": [
    {
     "data": {
      "text/plain": [
       "[8, 6, 5]"
      ]
     },
     "execution_count": 9,
     "metadata": {},
     "output_type": "execute_result"
    }
   ],
   "source": [
    "list(ThreeDPoint(8,6,5))"
   ]
  },
  {
   "cell_type": "code",
   "execution_count": 11,
   "metadata": {},
   "outputs": [
    {
     "data": {
      "text/plain": [
       "ThreeDPoint(5, 7, 6)"
      ]
     },
     "execution_count": 11,
     "metadata": {},
     "output_type": "execute_result"
    }
   ],
   "source": [
    "ThreeDPoint.from_sequence((5,7,6))"
   ]
  },
  {
   "cell_type": "markdown",
   "metadata": {},
   "source": [
    "You can create class methods using the **@classmethod decorator**. Providing your classes with multiple constructors is one of the most common use cases of class methods in Python."
   ]
  },
  {
   "cell_type": "code",
   "execution_count": 15,
   "metadata": {},
   "outputs": [
    {
     "data": {
      "text/plain": [
       "ThreeDPoint(5, 62, 61)"
      ]
     },
     "execution_count": 15,
     "metadata": {},
     "output_type": "execute_result"
    }
   ],
   "source": [
    "pt = ThreeDPoint(62,12,68)\n",
    "pt.from_sequence((5,62,61)) # << This will return a object created using ThreeDPoint"
   ]
  },
  {
   "cell_type": "markdown",
   "metadata": {},
   "source": [
    "**class methods** should be accessed through the corresponding class name for better clarity and to avoid confusion.\n",
    "\n",
    "Your Python classes can also have **static methods**. These methods don’t take the instance or the class as an argument. So, they’re regular functions defined within a class. "
   ]
  },
  {
   "cell_type": "code",
   "execution_count": 18,
   "metadata": {},
   "outputs": [
    {
     "name": "stdout",
     "output_type": "stream",
     "text": [
      "Hey Super! This is your 3D Point!\n"
     ]
    }
   ],
   "source": [
    "pt.show_intro_message('Super')\n",
    "\n",
    "# Static methods like .show_intro_message() don’t operate on the current instance, self, \n",
    "# or the current class, cls. They work as **independent functions** enclosed in a class"
   ]
  },
  {
   "cell_type": "markdown",
   "metadata": {},
   "source": [
    "Using methods to access and update attributes **promotes encapsulation**. Encapsulation is a fundamental OOP principle that recommends protecting an object’s state or data from the outside world, preventing direct access. \n",
    "\n",
    "The object’s state should only be accessible through a public interface consisting of getter and setter methods."
   ]
  },
  {
   "cell_type": "code",
   "execution_count": 19,
   "metadata": {},
   "outputs": [
    {
     "data": {
      "text/plain": [
       "'tomorrow'"
      ]
     },
     "execution_count": 19,
     "metadata": {},
     "output_type": "execute_result"
    }
   ],
   "source": [
    "class Person:\n",
    "    def __init__(self, name):\n",
    "        self.set_name(name)\n",
    "\n",
    "    def get_name(self):\n",
    "        return self._name\n",
    "\n",
    "    def set_name(self, value):\n",
    "        self._name = value\n",
    "\n",
    "newPers = Person(\"tomorrow\")\n",
    "newPers.get_name()\n",
    "\n",
    "### The above pattern is less popular in python..."
   ]
  },
  {
   "cell_type": "markdown",
   "metadata": {},
   "source": [
    ". If you ever need to add function-like behavior on top of a public attribute, then you can **turn it into a property** instead of breaking the API by replacing the attribute with a method."
   ]
  },
  {
   "cell_type": "code",
   "execution_count": 20,
   "metadata": {},
   "outputs": [],
   "source": [
    "# person.py\n",
    "\n",
    "class Person:\n",
    "    def __init__(self, name):\n",
    "        self.name = name\n",
    "\n",
    "    @property\n",
    "    def name(self):\n",
    "        return self._name\n",
    "\n",
    "    @name.setter\n",
    "    def name(self, value):\n",
    "        self._name = value.upper()\n",
    "\n",
    "## the setter takes care making the value into uppercase and storing it"
   ]
  },
  {
   "cell_type": "code",
   "execution_count": 21,
   "metadata": {},
   "outputs": [
    {
     "data": {
      "text/plain": [
       "'TODAY'"
      ]
     },
     "execution_count": 21,
     "metadata": {},
     "output_type": "execute_result"
    }
   ],
   "source": [
    "pers = Person('Today')\n",
    "pers.name"
   ]
  },
  {
   "cell_type": "markdown",
   "metadata": {},
   "source": [
    " Note how you can still assign new values to .name using an assignment instead of a method call. Running the **assignment triggers the setter method**, which uppercases the input value."
   ]
  },
  {
   "cell_type": "code",
   "execution_count": 7,
   "metadata": {},
   "outputs": [],
   "source": [
    "from datetime import datetime\n",
    "\n",
    "class Employee:\n",
    "    company = \"Example, Inc.\" # Class attribute\n",
    "\n",
    "    def __init__(self, name, birth_date):\n",
    "        \"\"\"Two instance attributes\"\"\"\n",
    "        self.name = name\n",
    "        self.birth_date = birth_date\n",
    "\n",
    "    @property\n",
    "    def birth_date(self):\n",
    "        \"\"\"Keep the same name as the attribute. If changed wont work...\"\"\"\n",
    "        return self._birth_date\n",
    "\n",
    "    @birth_date.setter\n",
    "    def birth_date(self,value):\n",
    "        self._birth_date = datetime.fromisoformat(value)\n",
    "\n",
    "    def compute_age(self):\n",
    "        today = datetime.today()\n",
    "        age = today.year - self.birth_date.year\n",
    "        birthday = datetime(\n",
    "            today.year,\n",
    "            self.birth_date.month,\n",
    "            self.birth_date.day\n",
    "        )\n",
    "        if today < birthday:\n",
    "            age -= 1\n",
    "        return age\n",
    "\n",
    "    @classmethod\n",
    "    def from_dict(cls, data_dict):\n",
    "        \"\"\"This is a convenience method to build the object from dicts...\"\"\"\n",
    "        return cls(**data_dict)\n",
    "\n",
    "    def __str__(self):\n",
    "        return f\"{self.name} is {self.compute_age()} years old\"\n",
    "\n",
    "    def __repr__(self):\n",
    "        return (\n",
    "            f\"{type(self).__name__}(\"\n",
    "            f\"name='{self.name}', \"\n",
    "            f\"birth_date='{self.birth_date.strftime('%Y-%m-%d')}')\"\n",
    "        )"
   ]
  },
  {
   "cell_type": "code",
   "execution_count": 8,
   "metadata": {},
   "outputs": [],
   "source": [
    "bravo = Employee(\"jonny yes\",'1986-05-26')\n",
    "jane = {\"name\":'jenny fer',\"birth_date\":\"2022-06-23\"}\n",
    "janny = Employee.from_dict(jane)"
   ]
  },
  {
   "cell_type": "code",
   "execution_count": 9,
   "metadata": {},
   "outputs": [
    {
     "data": {
      "text/plain": [
       "Employee(name='jonny yes', birth_date='1986-05-26')"
      ]
     },
     "execution_count": 9,
     "metadata": {},
     "output_type": "execute_result"
    }
   ],
   "source": [
    "bravo"
   ]
  },
  {
   "cell_type": "code",
   "execution_count": 10,
   "metadata": {},
   "outputs": [
    {
     "data": {
      "text/plain": [
       "\"Employee(name='jonny yes', birth_date='1986-05-26')\""
      ]
     },
     "execution_count": 10,
     "metadata": {},
     "output_type": "execute_result"
    }
   ],
   "source": [
    "repr(bravo)"
   ]
  },
  {
   "cell_type": "markdown",
   "metadata": {},
   "source": [
    "You’ll find a few exceptions that can occur when working with Python classes. These are some of the most common ones:\n",
    "\n",
    "An **AttributeError** occurs when the specified object doesn’t define the attribute or method that you’re trying to access. Take, for example, accessing .z on the Point class defined in the above example.\n",
    "\n",
    "A **TypeError** occurs when you apply an operation or function to an object that doesn’t support that operation. For example, consider calling the built-in len() function with a number as an argument.\n",
    "\n",
    "A **NotImplementedError** occurs when an abstract method isn’t implemented in a concrete subclass. You’ll learn more about this exception in the section Creating Abstract Base Classes (ABC) and Interfaces."
   ]
  },
  {
   "cell_type": "markdown",
   "metadata": {},
   "source": [
    "Learn the basics of using **data classes and enumerations** to efficiently write robust, reliable, and specialized classes in Python.\n",
    "\n",
    "Python’s data classes specialize in storing data. However, they’re also code generators that produce a lot of class-related boilerplate code for you behind the scenes."
   ]
  },
  {
   "cell_type": "code",
   "execution_count": 12,
   "metadata": {},
   "outputs": [],
   "source": [
    "from dataclasses import dataclass\n",
    "\n",
    "@dataclass\n",
    "class ThreeDPoint:\n",
    "    x: int | float\n",
    "    y: int | float\n",
    "    z: int | float\n",
    "    a: int | float\n",
    "    b = 0.0\n",
    "    k: int | float = 0.0\n",
    "    \n",
    "    @classmethod\n",
    "    def from_sequence(cls, sequence):\n",
    "        return cls(*sequence)\n",
    "\n",
    "    @staticmethod\n",
    "    def show_intro(name):\n",
    "        print(f'Hola {name}. This is a 4d point.. well!!!')"
   ]
  },
  {
   "cell_type": "code",
   "execution_count": 14,
   "metadata": {},
   "outputs": [],
   "source": [
    "seq = [5,7,9,8]\n",
    "\n",
    "seq_pt = ThreeDPoint.from_sequence(sequence=seq)"
   ]
  },
  {
   "cell_type": "code",
   "execution_count": 15,
   "metadata": {},
   "outputs": [
    {
     "name": "stdout",
     "output_type": "stream",
     "text": [
      "ThreeDPoint(x=5, y=7, z=9, a=8, k=0.0)\n"
     ]
    }
   ],
   "source": [
    "print(seq_pt)"
   ]
  },
  {
   "cell_type": "code",
   "execution_count": 2,
   "metadata": {},
   "outputs": [
    {
     "name": "stdout",
     "output_type": "stream",
     "text": [
      "this is static\n",
      "Called from Class\n",
      "this is static\n"
     ]
    }
   ],
   "source": [
    "class LinuxHint:\n",
    "\n",
    "    @staticmethod\n",
    "    def stat_function():\n",
    "        print('this is static')\n",
    "\n",
    "lxht = LinuxHint()\n",
    "lxht.stat_function()\n",
    "print(\"Called from Class\")\n",
    "LinuxHint.stat_function()"
   ]
  },
  {
   "cell_type": "code",
   "execution_count": null,
   "metadata": {},
   "outputs": [],
   "source": []
  },
  {
   "cell_type": "markdown",
   "metadata": {},
   "source": [
    "**Enums** allow you to create sets of named constants, which are known as members and can be accessed through the enumeration itself.\n",
    "\n",
    "Use enums to represent variables that can **take one of a limited set** of possible values."
   ]
  },
  {
   "cell_type": "code",
   "execution_count": 23,
   "metadata": {},
   "outputs": [],
   "source": [
    "from enum import Enum\n",
    "\n",
    "class WeekDay(Enum):\n",
    "    MONDAY = 1\n",
    "    TUESDAY = 2\n",
    "    WEDNESDAY = 3\n",
    "    THURSDAY = 4\n",
    "    FRIDAY = 5\n",
    "    SATURDAY = 6\n",
    "    SUNDAY = 7\n",
    "\n",
    "\n",
    "    @classmethod\n",
    "    def favorite_day(cls):\n",
    "        return cls.FRIDAY\n",
    "\n",
    "    def __str__(self):\n",
    "        return f\"Current day: {self.name}\"\n",
    "\n",
    "### This specific enum groups seven constants representing the days of the week. These constants are the enum members. Because they’re constants, you should \n",
    "### follow the convention for naming any constant in Python: uppercase letters and, if applicable, underscores between words.\"\"\""
   ]
  },
  {
   "cell_type": "code",
   "execution_count": 19,
   "metadata": {},
   "outputs": [
    {
     "data": {
      "text/plain": [
       "<WeekDay.MONDAY: 1>"
      ]
     },
     "execution_count": 19,
     "metadata": {},
     "output_type": "execute_result"
    }
   ],
   "source": [
    "WeekDay.MONDAY"
   ]
  },
  {
   "cell_type": "code",
   "execution_count": 20,
   "metadata": {},
   "outputs": [
    {
     "data": {
      "text/plain": [
       "<WeekDay.TUESDAY: 2>"
      ]
     },
     "execution_count": 20,
     "metadata": {},
     "output_type": "execute_result"
    }
   ],
   "source": [
    "WeekDay(2)"
   ]
  },
  {
   "cell_type": "code",
   "execution_count": 22,
   "metadata": {},
   "outputs": [
    {
     "data": {
      "text/plain": [
       "1"
      ]
     },
     "execution_count": 22,
     "metadata": {},
     "output_type": "execute_result"
    }
   ],
   "source": [
    "WeekDay.MONDAY.value"
   ]
  },
  {
   "cell_type": "code",
   "execution_count": 25,
   "metadata": {},
   "outputs": [
    {
     "name": "stdout",
     "output_type": "stream",
     "text": [
      "Current day: THURSDAY\n"
     ]
    }
   ],
   "source": [
    "print(WeekDay.THURSDAY)"
   ]
  },
  {
   "cell_type": "markdown",
   "metadata": {},
   "source": [
    "1) Hierarchical relationships between classes, where **child classes inherit attributes and methods** from their parent class.\n",
    "\n",
    "2) Class inheriting from single parent/base/super class is called Simple or Single base inheritance\n",
    "\n",
    "3) Inheritance-based hierarchies express an is-a-type-of relationship between subclasses and their base classes."
   ]
  },
  {
   "cell_type": "code",
   "execution_count": 27,
   "metadata": {},
   "outputs": [],
   "source": [
    "class Parent:\n",
    "    pass\n",
    "\n",
    "class Child(Parent):\n",
    "    \"\"\"This is child/ derived / subclass\"\"\"\n",
    "    pass"
   ]
  },
  {
   "cell_type": "code",
   "execution_count": 28,
   "metadata": {},
   "outputs": [],
   "source": [
    "@dataclass\n",
    "class Vehicle:\n",
    "    make: str\n",
    "    model: str\n",
    "    year: int\n",
    "    _started: bool = False\n",
    "\n",
    "    def start(self):\n",
    "        print(\"Lets roll\")\n",
    "        self._started = True\n",
    "\n",
    "    def stop(self):\n",
    "        print(\"Stopped..\")\n",
    "        self._started = False"
   ]
  },
  {
   "cell_type": "code",
   "execution_count": 31,
   "metadata": {},
   "outputs": [
    {
     "name": "stdout",
     "output_type": "stream",
     "text": [
      "Lets roll\n",
      "Stopped..\n"
     ]
    }
   ],
   "source": [
    "veh1 = Vehicle(make='Toyota',model='Mustang',year=2126,)\n",
    "veh1.start()\n",
    "veh1.stop()"
   ]
  },
  {
   "cell_type": "code",
   "execution_count": null,
   "metadata": {},
   "outputs": [],
   "source": [
    "class Car(Vehicle):\n",
    "\n",
    "    def __init__(self, make, model, year, num_seats):\n",
    "        \"\"\" provide a custom .__init__() method in Car, which will shadow the superclass initializer.\"\"\"\n",
    "        super().__init__(make, model, year) #This calls the init method on Vehicle\n",
    "        self.num_seats = num_seats\n",
    "\n",
    "    def drive(self):\n",
    "        print(f'Driving my \"{self.make} - {self.model}\" on the road')\n",
    "\n",
    "    def __str__(self):\n",
    "        return f'\"{self.make} - {self.model}\" has {self.num_seats} seats'"
   ]
  },
  {
   "cell_type": "code",
   "execution_count": 33,
   "metadata": {},
   "outputs": [],
   "source": [
    "class Motorcycle(Vehicle):\n",
    "    def __init__(self, make, model, year, num_wheels):\n",
    "        super().__init__(make, model, year)\n",
    "        self.num_wheels = num_wheels\n",
    "\n",
    "    def ride(self):\n",
    "        print(f'Riding my \"{self.make} - {self.model}\" on the road')\n",
    "\n",
    "    def __str__(self):\n",
    "        return f'\"{self.make} - {self.model}\" has {self.num_wheels} wheels'"
   ]
  },
  {
   "cell_type": "code",
   "execution_count": 35,
   "metadata": {},
   "outputs": [
    {
     "name": "stdout",
     "output_type": "stream",
     "text": [
      "Lets roll\n",
      "Stopped..\n",
      "Driving my \"tesla - model 5\" on the road\n"
     ]
    }
   ],
   "source": [
    "tesla = Car(\"tesla\",\"model 5\",2822,7)\n",
    "tesla.start()\n",
    "tesla.stop()\n",
    "tesla.drive() #This is only present in Car"
   ]
  },
  {
   "cell_type": "code",
   "execution_count": 37,
   "metadata": {},
   "outputs": [
    {
     "name": "stdout",
     "output_type": "stream",
     "text": [
      "Lets roll\n",
      "Riding my \"harley - Iron 833\" on the road\n"
     ]
    },
    {
     "ename": "AttributeError",
     "evalue": "'Motorcycle' object has no attribute 'drive'",
     "output_type": "error",
     "traceback": [
      "\u001b[0;31m---------------------------------------------------------------------------\u001b[0m",
      "\u001b[0;31mAttributeError\u001b[0m                            Traceback (most recent call last)",
      "\u001b[1;32m/home/kamal/gitfolders/python_de_learners_data/code_script_notebooks/jupyter_notebooks/python_classes_refresh.ipynb Cell 92\u001b[0m line \u001b[0;36m7\n\u001b[1;32m      <a href='vscode-notebook-cell:/home/kamal/gitfolders/python_de_learners_data/code_script_notebooks/jupyter_notebooks/python_classes_refresh.ipynb#Y154sZmlsZQ%3D%3D?line=2'>3</a>\u001b[0m harley\u001b[39m.\u001b[39mstart()\n\u001b[1;32m      <a href='vscode-notebook-cell:/home/kamal/gitfolders/python_de_learners_data/code_script_notebooks/jupyter_notebooks/python_classes_refresh.ipynb#Y154sZmlsZQ%3D%3D?line=4'>5</a>\u001b[0m harley\u001b[39m.\u001b[39mride()\n\u001b[0;32m----> <a href='vscode-notebook-cell:/home/kamal/gitfolders/python_de_learners_data/code_script_notebooks/jupyter_notebooks/python_classes_refresh.ipynb#Y154sZmlsZQ%3D%3D?line=6'>7</a>\u001b[0m harley\u001b[39m.\u001b[39;49mdrive()\n",
      "\u001b[0;31mAttributeError\u001b[0m: 'Motorcycle' object has no attribute 'drive'"
     ]
    }
   ],
   "source": [
    "harley = Motorcycle('harley','Iron 833',2825, 9)\n",
    "\n",
    "harley.start()\n",
    "\n",
    "harley.ride() #This is only present in MotorCycle\n",
    "\n",
    "harley.drive()"
   ]
  },
  {
   "cell_type": "code",
   "execution_count": 38,
   "metadata": {},
   "outputs": [],
   "source": [
    "class Animal:\n",
    "    def __init__(self, name, sex, habitat):\n",
    "        self.name = name\n",
    "        self.sex = sex\n",
    "        self.habitat = habitat\n",
    "\n",
    "class Mammal(Animal):\n",
    "    unique_feature = \"Mammary glands\"\n",
    "\n",
    "class Bird(Animal):\n",
    "    unique_feature = \"Feathers\"\n",
    "\n",
    "class Fish(Animal):\n",
    "    unique_feature = \"Gills\"\n",
    "\n",
    "# Concrete Mammal\n",
    "class Dog(Mammal):\n",
    "    def walk(self):\n",
    "        print(\"The dog is walking\")\n",
    "\n",
    "class Cat(Mammal):\n",
    "    def walk(self):\n",
    "        print(\"The cat is walking\")\n",
    "\n",
    "# Concrete Birds\n",
    "class Eagle(Bird):\n",
    "    def fly(self):\n",
    "        print(\"The eagle is flying\")\n",
    "\n",
    "class Penguin(Bird):\n",
    "    def swim(self):\n",
    "        print(\"The penguin is swimming\")\n",
    "\n",
    "# Concrete Fishes\n",
    "class Salmon(Fish):\n",
    "    def swim(self):\n",
    "        print(\"The salmon is swimming\")\n",
    "\n",
    "class Shark(Fish):\n",
    "    def swim(self):\n",
    "        print(\"The shark is swimming\")"
   ]
  },
  {
   "cell_type": "markdown",
   "metadata": {},
   "source": [
    "With class diagrams, you can also represent other types of relationships, including:\n",
    "\n",
    "**Composition**, which expresses a strong **has-a** relationship. For example, a robot has an arm. If the robot stops existing, then the arm stops existing too.\n",
    "\n",
    "**Aggregation**, which expresses a softer **has-a** relationship. For example, a university has an instructor. If the university stops existing, the instructor doesn’t stop existing.\n",
    "\n",
    "**Association**, which expresses a **uses-a** relationship. For example, a student may be associated with a course. They will use the course. This relationship is common in database systems where you have one-to-one, one-to-many, and many-to-many associations.\n",
    "\n",
    "In these situations, you can use one of the following strategies, depending on your specific case:\n",
    "\n",
    "**Extending** an inherited method in a subclass, which means that you’ll **reuse the functionality** provided by the superclass and add new functionality on top\n",
    "\n",
    "**Overriding** an inherited method in a subclass, which means that you’ll **completely discard** the functionality from the superclass and provide new functionality in the subclass"
   ]
  },
  {
   "cell_type": "code",
   "execution_count": 39,
   "metadata": {},
   "outputs": [],
   "source": [
    "# aircrafts.py\n",
    "\n",
    "class Aircraft:\n",
    "    def __init__(self, thrust, lift, max_speed):\n",
    "        self.thrust = thrust\n",
    "        self.lift = lift\n",
    "        self.max_speed = max_speed\n",
    "\n",
    "    def show_technical_specs(self):\n",
    "        print(f\"Thrust: {self.thrust} kW\")\n",
    "        print(f\"Lift: {self.lift} kg\")\n",
    "        print(f\"Max speed: {self.max_speed} km/h\")\n",
    "\n",
    "class Helicopter(Aircraft):\n",
    "    def __init__(self, thrust, lift, max_speed, num_rotors):\n",
    "        super().__init__(thrust, lift, max_speed)\n",
    "        self.num_rotors = num_rotors\n",
    "\n",
    "    def show_technical_specs(self):\n",
    "        super().show_technical_specs()\n",
    "        print(f\"Number of rotors: {self.num_rotors}\")"
   ]
  },
  {
   "cell_type": "code",
   "execution_count": 41,
   "metadata": {},
   "outputs": [
    {
     "name": "stdout",
     "output_type": "stream",
     "text": [
      "Thrust: 1380 kW\n",
      "Lift: 7998 kg\n",
      "Max speed: 268 km/h\n",
      "Number of rotors: 3\n",
      "Thrust: 58686 kW\n",
      "Lift: 757575 kg\n",
      "Max speed: 5758 km/h\n"
     ]
    }
   ],
   "source": [
    "sirk = Helicopter(1380,7998,268,3)\n",
    "\n",
    "sirk.show_technical_specs()\n",
    "\n",
    "forke = Aircraft(58686,757575,5758) #No neeed for the number of rotors\n",
    "forke.show_technical_specs()"
   ]
  },
  {
   "cell_type": "code",
   "execution_count": 43,
   "metadata": {},
   "outputs": [],
   "source": [
    "class Worker:\n",
    "    def __init__(self, name, address, hourly_salary):\n",
    "        self.name = name\n",
    "        self.address = address\n",
    "        self.hourly_salary = hourly_salary\n",
    "\n",
    "    def show_profile(self):\n",
    "        print(\"== Worker profile ==\")\n",
    "        print(f\"Name: {self.name}\")\n",
    "        print(f\"Address: {self.address}\")\n",
    "        print(f\"Hourly salary: {self.hourly_salary}\")\n",
    "\n",
    "    def calculate_payroll(self, hours=40):\n",
    "        return self.hourly_salary * hours\n",
    "    \n",
    "class Manager(Worker):\n",
    "    def __init__(self, name, address, hourly_salary, hourly_bonus):\n",
    "        super().__init__(name, address, hourly_salary)\n",
    "        self.hourly_bonus = hourly_bonus\n",
    "\n",
    "    def calculate_payroll(self, hours=40):\n",
    "        return (self.hourly_salary + self.hourly_bonus) * hours"
   ]
  },
  {
   "cell_type": "code",
   "execution_count": 44,
   "metadata": {},
   "outputs": [
    {
     "name": "stdout",
     "output_type": "stream",
     "text": [
      "== Worker profile ==\n",
      "Name: jon\n",
      "Address: freeway\n",
      "Hourly salary: 578\n"
     ]
    }
   ],
   "source": [
    "jon = Worker('jon','freeway',578)\n",
    "\n",
    "jon.show_profile()"
   ]
  },
  {
   "cell_type": "code",
   "execution_count": 47,
   "metadata": {},
   "outputs": [
    {
     "name": "stdout",
     "output_type": "stream",
     "text": [
      "== Worker profile ==\n",
      "Name: mags\n",
      "Address: bokyu\n",
      "Hourly salary: 57\n"
     ]
    }
   ],
   "source": [
    "mang = Manager('mags','bokyu',57,58)\n",
    "mang.calculate_payroll()\n",
    "mang.show_profile()"
   ]
  },
  {
   "cell_type": "markdown",
   "metadata": {},
   "source": [
    "Multiple inheritance allows you to reuse code from several existing classes. However, you **must manage the complexity** of multiple inheritance with care."
   ]
  },
  {
   "cell_type": "code",
   "execution_count": 48,
   "metadata": {},
   "outputs": [],
   "source": [
    "# crafts.py\n",
    "\n",
    "class Vehicle:\n",
    "    def __init__(self, make, model, color):\n",
    "        self.make = make\n",
    "        self.model = model\n",
    "        self.color = color\n",
    "\n",
    "    def start(self):\n",
    "        print(\"Starting the engine...\")\n",
    "\n",
    "    def stop(self):\n",
    "        print(\"Stopping the engine...\")\n",
    "\n",
    "    def show_technical_specs(self):\n",
    "        print(f\"Make: {self.make}\")\n",
    "        print(f\"Model: {self.model}\")\n",
    "        print(f\"Color: {self.color}\")\n",
    "\n",
    "class Car(Vehicle):\n",
    "    def drive(self):\n",
    "        print(\"Driving on the road...\")\n",
    "\n",
    "class Aircraft(Vehicle):\n",
    "    def fly(self):\n",
    "        print(\"Flying in the sky...\")\n",
    "\n",
    "class FlyingCar(Car, Aircraft):\n",
    "    pass"
   ]
  },
  {
   "cell_type": "code",
   "execution_count": 49,
   "metadata": {},
   "outputs": [
    {
     "name": "stdout",
     "output_type": "stream",
     "text": [
      "Make: new age\n",
      "Model: rocket\n",
      "Color: jet black\n"
     ]
    }
   ],
   "source": [
    "spc_flb = FlyingCar(\"new age\",\"rocket\",\"jet black\")\n",
    "spc_flb.show_technical_specs()"
   ]
  },
  {
   "cell_type": "markdown",
   "metadata": {},
   "source": [
    "**MRO :** The real issue appears when multiple parents provide specific versions of the same method. In this case, it’d be difficult to determine which version of that method the subclass will endup using.\n",
    "\n",
    "**what is the method resolution order** in Python? It’s an algorithm that tells Python how to search for inherited methods in a multiple inheritance context"
   ]
  },
  {
   "cell_type": "markdown",
   "metadata": {},
   "source": [
    "Python searches for methods and attributes in the following order:\n",
    "\n",
    "The current class\n",
    "\n",
    "The leftmost superclasses\n",
    "\n",
    "The superclass listed next, from left to right, up to the last superclass\n",
    "\n",
    "The superclasses of inherited classes\n",
    "\n",
    "The object class"
   ]
  },
  {
   "cell_type": "code",
   "execution_count": 50,
   "metadata": {},
   "outputs": [],
   "source": [
    "class A:\n",
    "    def method(self):\n",
    "        print(\"A.method\")\n",
    "\n",
    "class B(A):\n",
    "    def method(self):\n",
    "        print(\"B.method\")\n",
    "\n",
    "class C(A):\n",
    "    def method(self):\n",
    "        print(\"C.method\")\n",
    "\n",
    "class D(B, C):\n",
    "    pass"
   ]
  },
  {
   "cell_type": "markdown",
   "metadata": {},
   "source": [
    "**A mixin class** provides methods that you can reuse in many other classes. Mixin classes don’t define new types, so they’re not intended to be instantiated. You use their functionality to attach extra features to other classes quickly\n",
    "\n",
    "They just **bundle specific functionality** that’s intended to be reused in other classes. They don't create a **is-a type** of relation"
   ]
  },
  {
   "cell_type": "markdown",
   "metadata": {},
   "source": [
    "Realize that all the subclasses of Person need **methods that serialize** their data into different formats, including JSON and pickle."
   ]
  },
  {
   "cell_type": "code",
   "execution_count": 51,
   "metadata": {},
   "outputs": [],
   "source": [
    "# mixins.py\n",
    "\n",
    "import json\n",
    "import pickle\n",
    "\n",
    "class Person:\n",
    "    def __init__(self, name, age):\n",
    "        self.name = name\n",
    "        self.age = age\n",
    "\n",
    "class SerializerMixin:\n",
    "    def to_json(self):\n",
    "        return json.dumps(self.__dict__)\n",
    "\n",
    "    def to_pickle(self):\n",
    "        return pickle.dumps(self.__dict__)\n",
    "\n",
    "class Employee(SerializerMixin, Person):\n",
    "    \"\"\"Due to MRO,placing your mixin classes before the base classes on\n",
    "      the list of parents is often necessary.\"\"\"\n",
    "    def __init__(self, name, age, salary):\n",
    "        super().__init__(name, age)\n",
    "        self.salary = salary"
   ]
  },
  {
   "cell_type": "code",
   "execution_count": 52,
   "metadata": {},
   "outputs": [
    {
     "data": {
      "text/plain": [
       "'{\"name\": \"Doe\", \"age\": 7, \"salary\": 5658}'"
      ]
     },
     "execution_count": 52,
     "metadata": {},
     "output_type": "execute_result"
    }
   ],
   "source": [
    "jon = Employee(\"Doe\",7,5658)\n",
    "\n",
    "jon.to_json()"
   ]
  },
  {
   "cell_type": "markdown",
   "metadata": {},
   "source": [
    "**Main drawback of inheritance** is that inheritance is defined at compile time. So, there’s no way to change the inherited functionality at runtime. Other techniques, like composition, allow you to dynamically change the functionality of a given class by replacing its components.\n",
    "\n",
    "The **composite object doesn’t have direct access** to each component’s interface. However, it can leverage each component’s implementation.\n",
    "\n",
    "**Delegation is another technique** that you can use to promote code reuse in your OOP programs. With delegation, you can represent can-do relationships, where an object relies on another object to perform a given task.\n"
   ]
  },
  {
   "cell_type": "code",
   "execution_count": 53,
   "metadata": {},
   "outputs": [],
   "source": [
    "class IndustrialRobot:\n",
    "    def __init__(self):\n",
    "        self.body = Body()\n",
    "        self.arm = Arm()\n",
    "\n",
    "    def rotate_body_left(self, degrees=10):\n",
    "        self.body.rotate_left(degrees)\n",
    "\n",
    "    def rotate_body_right(self, degrees=10):\n",
    "        self.body.rotate_right(degrees)\n",
    "\n",
    "    def move_arm_up(self, distance=10):\n",
    "        self.arm.move_up(distance)\n",
    "\n",
    "    def move_arm_down(self, distance=10):\n",
    "        self.arm.move_down(distance)\n",
    "\n",
    "    def weld(self):\n",
    "        self.arm.weld()\n",
    "\n",
    "class Body:\n",
    "    def __init__(self):\n",
    "        self.rotation = 0\n",
    "\n",
    "    def rotate_left(self, degrees=10):\n",
    "        self.rotation -= degrees\n",
    "        print(f\"Rotating body {degrees} degrees to the left...\")\n",
    "\n",
    "    def rotate_right(self, degrees=10):\n",
    "        self.rotation += degrees\n",
    "        print(f\"Rotating body {degrees} degrees to the right...\")\n",
    "\n",
    "class Arm:\n",
    "    def __init__(self):\n",
    "        self.position = 0\n",
    "\n",
    "    def move_up(self, distance=1):\n",
    "        self.position += 1\n",
    "        print(f\"Moving arm {distance} cm up...\")\n",
    "\n",
    "    def move_down(self, distance=1):\n",
    "        self.position -= 1\n",
    "        print(f\"Moving arm {distance} cm down...\")\n",
    "\n",
    "    def weld(self):\n",
    "        print(\"Welding...\")\n"
   ]
  },
  {
   "cell_type": "code",
   "execution_count": 54,
   "metadata": {},
   "outputs": [
    {
     "name": "stdout",
     "output_type": "stream",
     "text": [
      "Rotating body 10 degrees to the left...\n"
     ]
    }
   ],
   "source": [
    "roby = IndustrialRobot()\n",
    "\n",
    "roby.rotate_body_left()"
   ]
  },
  {
   "cell_type": "code",
   "execution_count": 55,
   "metadata": {},
   "outputs": [
    {
     "name": "stdout",
     "output_type": "stream",
     "text": [
      "Moving arm 5 cm down...\n"
     ]
    }
   ],
   "source": [
    "roby.move_arm_down(5)"
   ]
  },
  {
   "cell_type": "code",
   "execution_count": 57,
   "metadata": {},
   "outputs": [
    {
     "name": "stdout",
     "output_type": "stream",
     "text": [
      "Moving arm 1 cm down...\n"
     ]
    }
   ],
   "source": [
    "roby.arm.move_down()"
   ]
  },
  {
   "cell_type": "code",
   "execution_count": 58,
   "metadata": {},
   "outputs": [],
   "source": [
    "class Stack:\n",
    "    def __init__(self, items=None):\n",
    "        if items is None:\n",
    "            self._items = []\n",
    "        else:\n",
    "            self._items = list(items)\n",
    "\n",
    "    def push(self, item):\n",
    "        self._items.append(item)\n",
    "\n",
    "    def pop(self):\n",
    "        return self._items.pop()\n",
    "\n",
    "    def __repr__(self) -> str:\n",
    "        return f\"{type(self).__name__}({self._items})\""
   ]
  },
  {
   "cell_type": "code",
   "execution_count": 59,
   "metadata": {},
   "outputs": [
    {
     "data": {
      "text/plain": [
       "Stack([1, 2, 3])"
      ]
     },
     "execution_count": 59,
     "metadata": {},
     "output_type": "execute_result"
    }
   ],
   "source": [
    "stack = Stack([1, 2, 3])\n",
    "stack"
   ]
  },
  {
   "cell_type": "markdown",
   "metadata": {},
   "source": [
    "**Internals of parent classes** are visible to subclasses, which breaks encapsulation. If some of the parent’s functionality isn’t appropriate for the child, then you run the risk of incorrect use. In this situation, composition and delegation are safer options."
   ]
  },
  {
   "cell_type": "code",
   "execution_count": 60,
   "metadata": {},
   "outputs": [],
   "source": [
    "import json\n",
    "import pickle\n",
    "\n",
    "class Person:\n",
    "    def __init__(self, name, age):\n",
    "        self.name = name\n",
    "        self.age = age\n",
    "\n",
    "class Serializer:\n",
    "    def __init__(self, instance):\n",
    "        self.instance = instance\n",
    "\n",
    "    def to_json(self):\n",
    "        return json.dumps(self.instance.__dict__)\n",
    "\n",
    "    def to_pickle(self):\n",
    "        return pickle.dumps(self.instance.__dict__)\n",
    "\n",
    "class Employee(Person):\n",
    "    def __init__(self, name, age, salary):\n",
    "        super().__init__(name, age)\n",
    "        self.salary = salary\n",
    "\n",
    "    def __getattr__(self, attr):\n",
    "        return getattr(Serializer(self), attr)"
   ]
  },
  {
   "cell_type": "markdown",
   "metadata": {},
   "source": [
    "**Dependency injection** is a design pattern that you can use to achieve loose coupling between a class and its components. With this technique, you can provide an object’s dependencies from the outside, rather than inheriting or implementing them in the object itself. "
   ]
  },
  {
   "cell_type": "code",
   "execution_count": 62,
   "metadata": {},
   "outputs": [],
   "source": [
    "class IndustrialRobot:\n",
    "    def __init__(self, body, arm):\n",
    "        self.body = body\n",
    "        self.arm = arm\n",
    "\n",
    "robot = IndustrialRobot(Body(),Arm())\n",
    "\n",
    "# Now this method takes body and arm as arguments and assigns their values to the corresponding instance attributes, .body and .arm. \n",
    "# This allows you to inject appropriate\n",
    "# body and arm objects into the class so that it can do its work."
   ]
  },
  {
   "cell_type": "markdown",
   "metadata": {},
   "source": [
    "#### Now that you know about a few techniques that you can use as alternatives to inheritance, it’s time for you to learn about abstract base classes (ABCs) in Python.\n",
    "\n",
    "In other words, you want to define the specific set of public methods and attributes that all the classes in the hierarchy must implement. In Python, you can do this using what’s known as an abstract base class (ABC).\n",
    "\n",
    "**You can’t instantiate ABCs directly.** You must subclass them. In a sense, ABCs work as templates for other classes to inherit from."
   ]
  },
  {
   "cell_type": "code",
   "execution_count": 65,
   "metadata": {},
   "outputs": [],
   "source": [
    "from abc import ABC, abstractmethod\n",
    "from math import pi\n",
    "\n",
    "class Shape(ABC):\n",
    "    @abstractmethod\n",
    "    def get_area(self):\n",
    "        pass\n",
    "\n",
    "    @abstractmethod\n",
    "    def get_perimeter(self):\n",
    "        pass\n",
    "\n",
    "class Circle(Shape):\n",
    "    def __init__(self, radius):\n",
    "        self.radius = radius\n",
    "\n",
    "    def get_area(self):\n",
    "        return pi * self.radius ** 2\n",
    "\n",
    "##  By using the @abstractmethod decorator, you declare that \n",
    "# these two methods are the common interface that all \n",
    "# the subclasses of Shape must implement."
   ]
  },
  {
   "cell_type": "code",
   "execution_count": 66,
   "metadata": {},
   "outputs": [
    {
     "ename": "TypeError",
     "evalue": "Can't instantiate abstract class Circle with abstract method get_perimeter",
     "output_type": "error",
     "traceback": [
      "\u001b[0;31m---------------------------------------------------------------------------\u001b[0m",
      "\u001b[0;31mTypeError\u001b[0m                                 Traceback (most recent call last)",
      "\u001b[1;32m/home/kamal/gitfolders/python_de_learners_data/code_script_notebooks/jupyter_notebooks/python_classes_refresh.ipynb Cell 122\u001b[0m line \u001b[0;36m1\n\u001b[0;32m----> <a href='vscode-notebook-cell:/home/kamal/gitfolders/python_de_learners_data/code_script_notebooks/jupyter_notebooks/python_classes_refresh.ipynb#Y235sZmlsZQ%3D%3D?line=0'>1</a>\u001b[0m newCir \u001b[39m=\u001b[39m Circle(\u001b[39m100\u001b[39;49m)\n",
      "\u001b[0;31mTypeError\u001b[0m: Can't instantiate abstract class Circle with abstract method get_perimeter"
     ]
    }
   ],
   "source": [
    "newCir = Circle(100)"
   ]
  },
  {
   "cell_type": "code",
   "execution_count": 67,
   "metadata": {},
   "outputs": [],
   "source": [
    "class Circle(Shape):\n",
    "    def __init__(self, radius):\n",
    "        self.radius = radius\n",
    "\n",
    "    def get_area(self):\n",
    "        return pi * self.radius ** 2\n",
    "    \n",
    "    def get_perimeter(self):\n",
    "        return 2 * pi * self.radius"
   ]
  },
  {
   "cell_type": "code",
   "execution_count": 69,
   "metadata": {},
   "outputs": [
    {
     "name": "stdout",
     "output_type": "stream",
     "text": [
      "500\n",
      "785398.1633974483\n",
      "3141.592653589793\n"
     ]
    }
   ],
   "source": [
    "corCir = Circle(500)\n",
    "print(corCir.radius)\n",
    "print(corCir.get_area())\n",
    "print(corCir.get_perimeter())"
   ]
  },
  {
   "cell_type": "markdown",
   "metadata": {},
   "source": [
    ". Having a set of classes to implement the **same interface with specific behaviors** for concrete classes is a great way to unlock polymorphism.\n",
    "\n",
    "Because of this common interface between String, List, Tuples, you can use them in similar ways. For example, you can:\n",
    "\n",
    "Use them in loops because they provide the .__iter__() method\n",
    "\n",
    "Access their items by index because they implement the .__getitem__() method\n",
    "\n",
    "Determine their number of items because they include the .__len__() method"
   ]
  }
 ],
 "metadata": {
  "kernelspec": {
   "display_name": "Python 3",
   "language": "python",
   "name": "python3"
  },
  "language_info": {
   "codemirror_mode": {
    "name": "ipython",
    "version": 3
   },
   "file_extension": ".py",
   "mimetype": "text/x-python",
   "name": "python",
   "nbconvert_exporter": "python",
   "pygments_lexer": "ipython3",
   "version": "3.11.4"
  },
  "orig_nbformat": 4
 },
 "nbformat": 4,
 "nbformat_minor": 2
}
