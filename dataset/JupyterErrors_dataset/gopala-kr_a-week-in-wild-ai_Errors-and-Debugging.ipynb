{
 "cells": [
  {
   "cell_type": "markdown",
   "metadata": {},
   "source": [
    "<!--BOOK_INFORMATION-->\n",
    "<img align=\"left\" style=\"padding-right:10px;\" src=\"figures/PDSH-cover-small.png\">\n",
    "\n",
    "*This notebook contains an excerpt from the [Python Data Science Handbook](http://shop.oreilly.com/product/0636920034919.do) by Jake VanderPlas; the content is available [on GitHub](https://github.com/jakevdp/PythonDataScienceHandbook).*\n",
    "\n",
    "*The text is released under the [CC-BY-NC-ND license](https://creativecommons.org/licenses/by-nc-nd/3.0/us/legalcode), and code is released under the [MIT license](https://opensource.org/licenses/MIT). If you find this content useful, please consider supporting the work by [buying the book](http://shop.oreilly.com/product/0636920034919.do)!*"
   ]
  },
  {
   "cell_type": "markdown",
   "metadata": {},
   "source": [
    "<!--NAVIGATION-->\n",
    "< [IPython and Shell Commands](01.05-IPython-And-Shell-Commands.ipynb) | [Contents](Index.ipynb) | [Profiling and Timing Code](01.07-Timing-and-Profiling.ipynb) >\n",
    "\n",
    "<a href=\"https://colab.research.google.com/github/jakevdp/PythonDataScienceHandbook/blob/master/notebooks/01.06-Errors-and-Debugging.ipynb\"><img align=\"left\" src=\"https://colab.research.google.com/assets/colab-badge.svg\" alt=\"Open in Colab\" title=\"Open and Execute in Google Colaboratory\"></a>\n"
   ]
  },
  {
   "cell_type": "markdown",
   "metadata": {},
   "source": [
    "# Errors and Debugging"
   ]
  },
  {
   "cell_type": "code",
   "execution_count": 1,
   "metadata": {},
   "outputs": [
    {
     "name": "stdout",
     "output_type": "stream",
     "text": [
      "Collecting numpy==1.11.1\n",
      "\u001b[?25l  Downloading https://files.pythonhosted.org/packages/24/e9/a8da8938a1cf56d58b2a848584dac0cbf54460bc46535844b9a196942abb/numpy-1.11.1-cp35-cp35m-manylinux1_x86_64.whl (15.6MB)\n",
      "\u001b[K    100% |████████████████████████████████| 15.6MB 209kB/s eta 0:00:01   10% |███▍                            | 1.6MB 22.6MB/s eta 0:00:01\n",
      "\u001b[31mpymc3 3.5 has requirement numpy>=1.13.0, but you'll have numpy 1.11.1 which is incompatible.\u001b[0m\n",
      "\u001b[?25hInstalling collected packages: numpy\n",
      "  Found existing installation: numpy 1.15.0\n",
      "    Uninstalling numpy-1.15.0:\n",
      "      Successfully uninstalled numpy-1.15.0\n",
      "Successfully installed numpy-1.11.1\n",
      "Collecting pandas==0.18.1\n",
      "\u001b[?25l  Downloading https://files.pythonhosted.org/packages/05/ce/e3534d549710084d2c1bac7e708c671c7f23d7ddae88824f4001ecf64608/pandas-0.18.1-cp35-cp35m-manylinux1_x86_64.whl (15.1MB)\n",
      "\u001b[K    100% |████████████████████████████████| 15.2MB 2.6MB/s eta 0:00:01\n",
      "\u001b[?25hRequirement already satisfied: numpy>=1.7.0 in /home/nbuser/anaconda3_420/lib/python3.5/site-packages (from pandas==0.18.1) (1.11.1)\n",
      "Requirement already satisfied: pytz>=2011k in /home/nbuser/anaconda3_420/lib/python3.5/site-packages (from pandas==0.18.1) (2016.6.1)\n",
      "Requirement already satisfied: python-dateutil>=2 in /home/nbuser/anaconda3_420/lib/python3.5/site-packages (from pandas==0.18.1) (2.5.3)\n",
      "Requirement already satisfied: six>=1.5 in /home/nbuser/anaconda3_420/lib/python3.5/site-packages (from python-dateutil>=2->pandas==0.18.1) (1.10.0)\n",
      "\u001b[31mpymc3 3.5 has requirement numpy>=1.13.0, but you'll have numpy 1.11.1 which is incompatible.\u001b[0m\n",
      "Installing collected packages: pandas\n",
      "  Found existing installation: pandas 0.19.2\n",
      "    Uninstalling pandas-0.19.2:\n",
      "      Successfully uninstalled pandas-0.19.2\n",
      "Successfully installed pandas-0.18.1\n",
      "Collecting scipy==0.17.1\n",
      "\u001b[?25l  Downloading https://files.pythonhosted.org/packages/91/f3/0052c245d53eb5f0e13b7215811e52af3791a8a7d31771605697c28466a0/scipy-0.17.1-cp35-cp35m-manylinux1_x86_64.whl (41.1MB)\n",
      "\u001b[K    100% |████████████████████████████████| 41.1MB 134kB/s eta 0:00:01  5% |██                              | 2.4MB 17.8MB/s eta 0:00:03    15% |█████                           | 6.4MB 19.7MB/s eta 0:00:02    30% |█████████▉                      | 12.6MB 41.2MB/s eta 0:00:01\n",
      "\u001b[?25hInstalling collected packages: scipy\n",
      "  Found existing installation: scipy 1.1.0\n",
      "    Uninstalling scipy-1.1.0:\n",
      "      Successfully uninstalled scipy-1.1.0\n",
      "Successfully installed scipy-0.17.1\n",
      "Collecting scikit-learn==0.17.1\n",
      "\u001b[?25l  Downloading https://files.pythonhosted.org/packages/60/ed/d6523ed3c7bb1702cd20e106790735087a1c7fae6d22b855165b9c282404/scikit_learn-0.17.1-cp35-cp35m-manylinux1_x86_64.whl (17.5MB)\n",
      "\u001b[K    100% |████████████████████████████████| 17.6MB 1.8MB/s ta 0:00:011    72% |███████████████████████▏        | 12.7MB 23.2MB/s eta 0:00:01\n",
      "\u001b[?25hInstalling collected packages: scikit-learn\n",
      "  Found existing installation: scikit-learn 0.19.1\n",
      "    Uninstalling scikit-learn-0.19.1:\n",
      "      Successfully uninstalled scikit-learn-0.19.1\n",
      "Successfully installed scikit-learn-0.17.1\n",
      "Collecting scikit-image==0.12.3\n",
      "\u001b[?25l  Downloading https://files.pythonhosted.org/packages/8f/a4/a1779ab0d88186ab2ad607d4ee47d15595548101460fb0036406d2a90c7c/scikit_image-0.12.3-1-cp35-cp35m-manylinux1_x86_64.whl (28.2MB)\n",
      "\u001b[K    100% |████████████████████████████████| 28.2MB 518kB/s eta 0:00:01   10% |███▎                            | 2.8MB 17.4MB/s eta 0:00:02    24% |████████                        | 7.0MB 14.3MB/s eta 0:00:02    71% |███████████████████████         | 20.2MB 14.9MB/s eta 0:00:01\n",
      "\u001b[?25hRequirement already satisfied: dask[array]>=0.5.0 in /home/nbuser/anaconda3_420/lib/python3.5/site-packages (from scikit-image==0.12.3) (0.11.0)\n",
      "Requirement already satisfied: scipy>=0.9.0 in /home/nbuser/anaconda3_420/lib/python3.5/site-packages (from scikit-image==0.12.3) (0.17.1)\n",
      "Requirement already satisfied: networkx>=1.8 in /home/nbuser/anaconda3_420/lib/python3.5/site-packages (from scikit-image==0.12.3) (1.11)\n",
      "Requirement already satisfied: pillow>=2.1.0 in /home/nbuser/anaconda3_420/lib/python3.5/site-packages (from scikit-image==0.12.3) (4.3.0)\n",
      "Requirement already satisfied: matplotlib>=1.3.1 in /home/nbuser/anaconda3_420/lib/python3.5/site-packages (from scikit-image==0.12.3) (2.1.1)\n",
      "Requirement already satisfied: six>=1.7.3 in /home/nbuser/anaconda3_420/lib/python3.5/site-packages (from scikit-image==0.12.3) (1.10.0)\n",
      "Requirement already satisfied: numpy in /home/nbuser/anaconda3_420/lib/python3.5/site-packages (from dask[array]>=0.5.0->scikit-image==0.12.3) (1.11.1)\n",
      "Requirement already satisfied: toolz>=0.7.2 in /home/nbuser/anaconda3_420/lib/python3.5/site-packages (from dask[array]>=0.5.0->scikit-image==0.12.3) (0.8.0)\n",
      "Requirement already satisfied: decorator>=3.4.0 in /home/nbuser/anaconda3_420/lib/python3.5/site-packages (from networkx>=1.8->scikit-image==0.12.3) (4.0.10)\n",
      "Requirement already satisfied: olefile in /home/nbuser/anaconda3_420/lib/python3.5/site-packages (from pillow>=2.1.0->scikit-image==0.12.3) (0.44)\n",
      "Requirement already satisfied: python-dateutil>=2.0 in /home/nbuser/anaconda3_420/lib/python3.5/site-packages (from matplotlib>=1.3.1->scikit-image==0.12.3) (2.5.3)\n",
      "Requirement already satisfied: pytz in /home/nbuser/anaconda3_420/lib/python3.5/site-packages (from matplotlib>=1.3.1->scikit-image==0.12.3) (2016.6.1)\n",
      "Requirement already satisfied: cycler>=0.10 in /home/nbuser/anaconda3_420/lib/python3.5/site-packages (from matplotlib>=1.3.1->scikit-image==0.12.3) (0.10.0)\n",
      "Requirement already satisfied: pyparsing!=2.0.4,!=2.1.2,!=2.1.6,>=2.0.1 in /home/nbuser/anaconda3_420/lib/python3.5/site-packages (from matplotlib>=1.3.1->scikit-image==0.12.3) (2.1.4)\n",
      "Installing collected packages: scikit-image\n",
      "  Found existing installation: scikit-image 0.13.0\n",
      "    Uninstalling scikit-image-0.13.0:\n",
      "      Successfully uninstalled scikit-image-0.13.0\n",
      "Successfully installed scikit-image-0.12.3\n",
      "Collecting pillow==3.4.2\n",
      "\u001b[?25l  Downloading https://files.pythonhosted.org/packages/06/74/ba6a83f48448d125eb4307cd140d6661b677822628ef5862869a10dcdd30/Pillow-3.4.2-cp35-cp35m-manylinux1_x86_64.whl (5.6MB)\n",
      "\u001b[K    100% |████████████████████████████████| 5.6MB 4.4MB/s eta 0:00:01    41% |█████████████▎                  | 2.3MB 10.8MB/s eta 0:00:01\n",
      "\u001b[31mtorchvision 0.2.1 has requirement pillow>=4.1.1, but you'll have pillow 3.4.2 which is incompatible.\u001b[0m\n",
      "\u001b[?25hInstalling collected packages: pillow\n",
      "  Found existing installation: Pillow 4.3.0\n",
      "    Uninstalling Pillow-4.3.0:\n",
      "      Successfully uninstalled Pillow-4.3.0\n",
      "Successfully installed pillow-3.4.2\n",
      "Collecting matplotlib==1.5.1\n",
      "\u001b[?25l  Downloading https://files.pythonhosted.org/packages/8f/f4/c0c7e81f64d5f4d36e52e393af687f28882c53dcd924419d684dc9859f40/matplotlib-1.5.1.tar.gz (54.0MB)\n",
      "\u001b[K    100% |████████████████████████████████| 54.0MB 81kB/s  eta 0:00:01    44% |██████████████▏                 | 23.9MB 40.3MB/s eta 0:00:01    68% |██████████████████████          | 37.0MB 12.4MB/s eta 0:00:02    72% |███████████████████████▎        | 39.2MB 16.2MB/s eta 0:00:01    74% |███████████████████████▊        | 40.0MB 16.7MB/s eta 0:00:01    86% |███████████████████████████▊    | 46.8MB 31.5MB/s eta 0:00:01\n",
      "\u001b[?25hRequirement already satisfied: numpy>=1.6 in /home/nbuser/anaconda3_420/lib/python3.5/site-packages (from matplotlib==1.5.1) (1.11.1)\n",
      "Requirement already satisfied: python-dateutil in /home/nbuser/anaconda3_420/lib/python3.5/site-packages (from matplotlib==1.5.1) (2.5.3)\n",
      "Requirement already satisfied: pytz in /home/nbuser/anaconda3_420/lib/python3.5/site-packages (from matplotlib==1.5.1) (2016.6.1)\n",
      "Requirement already satisfied: cycler in /home/nbuser/anaconda3_420/lib/python3.5/site-packages (from matplotlib==1.5.1) (0.10.0)\n",
      "Requirement already satisfied: pyparsing!=2.0.4,>=1.5.6 in /home/nbuser/anaconda3_420/lib/python3.5/site-packages (from matplotlib==1.5.1) (2.1.4)\n",
      "Requirement already satisfied: six>=1.5 in /home/nbuser/anaconda3_420/lib/python3.5/site-packages (from python-dateutil->matplotlib==1.5.1) (1.10.0)\n",
      "Building wheels for collected packages: matplotlib\n",
      "  Running setup.py bdist_wheel for matplotlib ... \u001b[?25ldone\n",
      "\u001b[?25h  Stored in directory: /home/nbuser/.cache/pip/wheels/20/aa/a0/7f5b22abf34b2e8e07cac9b4dae93ec023cbc450e09dabb6b0\n"
     ]
    },
    {
     "name": "stdout",
     "output_type": "stream",
     "text": [
      "Successfully built matplotlib\n",
      "Installing collected packages: matplotlib\n",
      "  Found existing installation: matplotlib 2.1.1\n",
      "    Uninstalling matplotlib-2.1.1:\n",
      "      Successfully uninstalled matplotlib-2.1.1\n",
      "Successfully installed matplotlib-1.5.1\n",
      "Collecting seaborn==0.7.0\n",
      "\u001b[?25l  Downloading https://files.pythonhosted.org/packages/05/70/727aea83084506060c5fe2b35b6a640ddf66e926a4b54d752542e031b3c3/seaborn-0.7.0.tar.gz (154kB)\n",
      "\u001b[K    100% |████████████████████████████████| 163kB 5.4MB/s ta 0:00:01\n",
      "\u001b[?25hBuilding wheels for collected packages: seaborn\n",
      "  Running setup.py bdist_wheel for seaborn ... \u001b[?25ldone\n",
      "\u001b[?25h  Stored in directory: /home/nbuser/.cache/pip/wheels/95/6d/75/26f8edabd8ef8f09724ed0440326d745e4f962b45e04ab5b9a\n",
      "Successfully built seaborn\n",
      "Installing collected packages: seaborn\n",
      "  Found existing installation: seaborn 0.8\n",
      "    Uninstalling seaborn-0.8:\n",
      "      Successfully uninstalled seaborn-0.8\n",
      "Successfully installed seaborn-0.7.0\n",
      "Requirement already satisfied: line_profiler in /home/nbuser/anaconda3_420/lib/python3.5/site-packages (2.1.2)\n",
      "Requirement already satisfied: IPython>=0.13 in /home/nbuser/anaconda3_420/lib/python3.5/site-packages (from line_profiler) (6.2.1)\n",
      "Requirement already satisfied: setuptools>=18.5 in /home/nbuser/anaconda3_420/lib/python3.5/site-packages (from IPython>=0.13->line_profiler) (40.0.0)\n",
      "Requirement already satisfied: jedi>=0.10 in /home/nbuser/anaconda3_420/lib/python3.5/site-packages (from IPython>=0.13->line_profiler) (0.11.0)\n",
      "Requirement already satisfied: decorator in /home/nbuser/anaconda3_420/lib/python3.5/site-packages (from IPython>=0.13->line_profiler) (4.0.10)\n",
      "Requirement already satisfied: pickleshare in /home/nbuser/anaconda3_420/lib/python3.5/site-packages (from IPython>=0.13->line_profiler) (0.7.4)\n",
      "Requirement already satisfied: simplegeneric>0.8 in /home/nbuser/anaconda3_420/lib/python3.5/site-packages (from IPython>=0.13->line_profiler) (0.8.1)\n",
      "Requirement already satisfied: traitlets>=4.2 in /home/nbuser/anaconda3_420/lib/python3.5/site-packages (from IPython>=0.13->line_profiler) (4.3.1)\n",
      "Requirement already satisfied: prompt_toolkit<2.0.0,>=1.0.4 in /home/nbuser/anaconda3_420/lib/python3.5/site-packages (from IPython>=0.13->line_profiler) (1.0.15)\n",
      "Requirement already satisfied: pygments in /home/nbuser/anaconda3_420/lib/python3.5/site-packages (from IPython>=0.13->line_profiler) (2.1.3)\n",
      "Requirement already satisfied: pexpect in /home/nbuser/anaconda3_420/lib/python3.5/site-packages (from IPython>=0.13->line_profiler) (4.0.1)\n",
      "Requirement already satisfied: parso==0.1.* in /home/nbuser/anaconda3_420/lib/python3.5/site-packages (from jedi>=0.10->IPython>=0.13->line_profiler) (0.1.1)\n",
      "Requirement already satisfied: six>=1.9.0 in /home/nbuser/anaconda3_420/lib/python3.5/site-packages (from prompt_toolkit<2.0.0,>=1.0.4->IPython>=0.13->line_profiler) (1.10.0)\n",
      "Requirement already satisfied: wcwidth in /home/nbuser/anaconda3_420/lib/python3.5/site-packages (from prompt_toolkit<2.0.0,>=1.0.4->IPython>=0.13->line_profiler) (0.1.7)\n",
      "Requirement already satisfied: memory_profiler in /home/nbuser/anaconda3_420/lib/python3.5/site-packages (0.52.0)\n",
      "Requirement already satisfied: psutil in /home/nbuser/anaconda3_420/lib/python3.5/site-packages (from memory_profiler) (4.3.1)\n",
      "Requirement already satisfied: numexpr in /home/nbuser/anaconda3_420/lib/python3.5/site-packages (2.6.2)\n",
      "Requirement already satisfied: numpy>=1.6 in /home/nbuser/anaconda3_420/lib/python3.5/site-packages (from numexpr) (1.11.1)\n",
      "Collecting pandas-datareader\n",
      "\u001b[?25l  Downloading https://files.pythonhosted.org/packages/be/76/639c60ede26458dadf76bacaa9cbcc76f8cc5082fb2b2d90d0a90c699d36/pandas_datareader-0.6.0-py2.py3-none-any.whl (103kB)\n",
      "\u001b[K    100% |████████████████████████████████| 112kB 2.7MB/s ta 0:00:01\n",
      "\u001b[?25hRequirement already satisfied: lxml in /home/nbuser/anaconda3_420/lib/python3.5/site-packages (from pandas-datareader) (3.6.4)\n",
      "Requirement already satisfied: requests>=2.3.0 in /home/nbuser/anaconda3_420/lib/python3.5/site-packages (from pandas-datareader) (2.14.2)\n",
      "Collecting requests-file (from pandas-datareader)\n",
      "  Downloading https://files.pythonhosted.org/packages/23/9c/6e63c23c39e53d3df41c77a3d05a49a42c4e1383a6d2a5e3233161b89dbf/requests_file-1.4.3-py2.py3-none-any.whl\n",
      "Requirement already satisfied: wrapt in /home/nbuser/anaconda3_420/lib/python3.5/site-packages (from pandas-datareader) (1.10.6)\n",
      "Collecting pandas>=0.19.2 (from pandas-datareader)\n",
      "\u001b[?25l  Downloading https://files.pythonhosted.org/packages/5d/d4/6e9c56a561f1d27407bf29318ca43f36ccaa289271b805a30034eb3a8ec4/pandas-0.23.4-cp35-cp35m-manylinux1_x86_64.whl (8.7MB)\n",
      "\u001b[K    100% |████████████████████████████████| 8.7MB 2.7MB/s eta 0:00:01   3% |█▏                              | 307kB 14.6MB/s eta 0:00:01    48% |███████████████▌                | 4.2MB 18.0MB/s eta 0:00:01\n",
      "\u001b[?25hCollecting requests-ftp (from pandas-datareader)\n",
      "  Downloading https://files.pythonhosted.org/packages/3d/ca/14b2ad1e93b5195eeaf56b86b7ecfd5ea2d5754a68d17aeb1e5b9f95b3cf/requests-ftp-0.3.1.tar.gz\n",
      "Requirement already satisfied: six in /home/nbuser/anaconda3_420/lib/python3.5/site-packages (from requests-file->pandas-datareader) (1.10.0)\n",
      "Requirement already satisfied: numpy>=1.9.0 in /home/nbuser/anaconda3_420/lib/python3.5/site-packages (from pandas>=0.19.2->pandas-datareader) (1.11.1)\n",
      "Requirement already satisfied: python-dateutil>=2.5.0 in /home/nbuser/anaconda3_420/lib/python3.5/site-packages (from pandas>=0.19.2->pandas-datareader) (2.5.3)\n",
      "Requirement already satisfied: pytz>=2011k in /home/nbuser/anaconda3_420/lib/python3.5/site-packages (from pandas>=0.19.2->pandas-datareader) (2016.6.1)\n",
      "Building wheels for collected packages: requests-ftp\n",
      "  Running setup.py bdist_wheel for requests-ftp ... \u001b[?25ldone\n",
      "\u001b[?25h  Stored in directory: /home/nbuser/.cache/pip/wheels/2a/98/32/37195e45a3392a73d9f65c488cbea30fe5bad76aaef4d6b020\n",
      "Successfully built requests-ftp\n",
      "\u001b[31mpymc3 3.5 has requirement numpy>=1.13.0, but you'll have numpy 1.11.1 which is incompatible.\u001b[0m\n",
      "Installing collected packages: requests-file, pandas, requests-ftp, pandas-datareader\n",
      "  Found existing installation: pandas 0.18.1\n",
      "    Uninstalling pandas-0.18.1:\n",
      "      Successfully uninstalled pandas-0.18.1\n",
      "Successfully installed pandas-0.23.4 pandas-datareader-0.6.0 requests-file-1.4.3 requests-ftp-0.3.1\n",
      "Collecting netcdf4\n",
      "\u001b[?25l  Downloading https://files.pythonhosted.org/packages/30/46/a97c347683f6b104f32921b56633db1cffe07429699f864b67d43bde3f1a/netCDF4-1.4.1-cp35-cp35m-manylinux1_x86_64.whl (3.6MB)\n",
      "\u001b[K    100% |████████████████████████████████| 3.6MB 6.4MB/s eta 0:00:01    44% |██████████████▎                 | 1.6MB 14.8MB/s eta 0:00:01    68% |█████████████████████▉          | 2.5MB 18.9MB/s eta 0:00:01    94% |██████████████████████████████▏ | 3.4MB 17.7MB/s eta 0:00:01\n",
      "\u001b[?25hCollecting cftime (from netcdf4)\n",
      "  Downloading https://files.pythonhosted.org/packages/bf/f6/3045262ece2e730183b1f82d2ac7190ed12422c1ef43c8059bae210220ca/cftime-1.0.1.tar.gz\n",
      "Requirement already satisfied: numpy>=1.7 in /home/nbuser/anaconda3_420/lib/python3.5/site-packages (from netcdf4) (1.11.1)\n",
      "Building wheels for collected packages: cftime\n",
      "  Running setup.py bdist_wheel for cftime ... \u001b[?25ldone\n",
      "\u001b[?25h  Stored in directory: /home/nbuser/.cache/pip/wheels/68/ed/ad/f3c802b1612914988c33e9f2fc422c0acfdc23669864e833ba\n",
      "Successfully built cftime\n",
      "Installing collected packages: cftime, netcdf4\n",
      "Successfully installed cftime-1.0.1 netcdf4-1.4.1\n"
     ]
    }
   ],
   "source": [
    "!pip install numpy==1.11.1\n",
    "!pip install pandas==0.18.1\n",
    "!pip install scipy==0.17.1\n",
    "!pip install scikit-learn==0.17.1\n",
    "!pip install scikit-image==0.12.3\n",
    "!pip install pillow==3.4.2\n",
    "!pip install matplotlib==1.5.1\n",
    "!pip install seaborn==0.7.0\n",
    "!pip install line_profiler\n",
    "!pip install memory_profiler\n",
    "!pip install numexpr\n",
    "!pip install pandas-datareader\n",
    "!pip install netcdf4\n"
   ]
  },
  {
   "cell_type": "code",
   "execution_count": 3,
   "metadata": {},
   "outputs": [
    {
     "name": "stdout",
     "output_type": "stream",
     "text": [
      "Collecting watermark\n",
      "  Downloading https://files.pythonhosted.org/packages/91/67/8a54b9c29d875cd9ee1b17f81eec9c7c71788270819253fe7de4901e5847/watermark-1.6.1-py3-none-any.whl\n",
      "Requirement already satisfied: ipython in /home/nbuser/anaconda3_420/lib/python3.5/site-packages (from watermark) (6.2.1)\n",
      "Requirement already satisfied: setuptools>=18.5 in /home/nbuser/anaconda3_420/lib/python3.5/site-packages (from ipython->watermark) (40.0.0)\n",
      "Requirement already satisfied: jedi>=0.10 in /home/nbuser/anaconda3_420/lib/python3.5/site-packages (from ipython->watermark) (0.11.0)\n",
      "Requirement already satisfied: decorator in /home/nbuser/anaconda3_420/lib/python3.5/site-packages (from ipython->watermark) (4.0.10)\n",
      "Requirement already satisfied: pickleshare in /home/nbuser/anaconda3_420/lib/python3.5/site-packages (from ipython->watermark) (0.7.4)\n",
      "Requirement already satisfied: simplegeneric>0.8 in /home/nbuser/anaconda3_420/lib/python3.5/site-packages (from ipython->watermark) (0.8.1)\n",
      "Requirement already satisfied: traitlets>=4.2 in /home/nbuser/anaconda3_420/lib/python3.5/site-packages (from ipython->watermark) (4.3.1)\n",
      "Requirement already satisfied: prompt_toolkit<2.0.0,>=1.0.4 in /home/nbuser/anaconda3_420/lib/python3.5/site-packages (from ipython->watermark) (1.0.15)\n",
      "Requirement already satisfied: pygments in /home/nbuser/anaconda3_420/lib/python3.5/site-packages (from ipython->watermark) (2.1.3)\n",
      "Requirement already satisfied: pexpect in /home/nbuser/anaconda3_420/lib/python3.5/site-packages (from ipython->watermark) (4.0.1)\n",
      "Requirement already satisfied: parso==0.1.* in /home/nbuser/anaconda3_420/lib/python3.5/site-packages (from jedi>=0.10->ipython->watermark) (0.1.1)\n",
      "Requirement already satisfied: six>=1.9.0 in /home/nbuser/anaconda3_420/lib/python3.5/site-packages (from prompt_toolkit<2.0.0,>=1.0.4->ipython->watermark) (1.10.0)\n",
      "Requirement already satisfied: wcwidth in /home/nbuser/anaconda3_420/lib/python3.5/site-packages (from prompt_toolkit<2.0.0,>=1.0.4->ipython->watermark) (0.1.7)\n",
      "Installing collected packages: watermark\n",
      "Successfully installed watermark-1.6.1\n"
     ]
    }
   ],
   "source": [
    "!pip install watermark"
   ]
  },
  {
   "cell_type": "code",
   "execution_count": 8,
   "metadata": {},
   "outputs": [
    {
     "name": "stdout",
     "output_type": "stream",
     "text": [
      "3.5.4\n",
      "The watermark extension is already loaded. To reload it, use:\n",
      "  %reload_ext watermark\n",
      "Gopala KR \n",
      "last updated: 2018-08-30 \n",
      "\n",
      "CPython 3.5.4\n",
      "IPython 6.2.1\n",
      "\n",
      "watermark 1.6.1\n",
      "numpy 1.11.1\n",
      "pandas 0.23.4\n",
      "scipy 0.17.1\n",
      "scikit-learn 0.17.1\n",
      "matplotlib 1.5.1\n",
      "seaborn 0.7.0\n",
      "jupyter n\u0007\n",
      "notebook 5.0.0\n",
      "line_profiler n\u0007\n",
      "memory_profiler 0.52.0\n",
      "numexpr 2.6.2\n"
     ]
    },
    {
     "name": "stderr",
     "output_type": "stream",
     "text": [
      "/home/nbuser/anaconda3_420/lib/python3.5/site-packages/watermark/watermark.py:155: DeprecationWarning: Importing scikit-learn as `scikit-learn` has been depracated and will not be supported anymore in v1.7.0. Please use the package name `sklearn` instead.\n",
      "  DeprecationWarning)\n"
     ]
    }
   ],
   "source": [
    "import platform\n",
    "print(platform.python_version())\n",
    "\n",
    "%load_ext watermark\n",
    "%watermark -a 'Gopala KR' -u -d -v -p watermark,numpy,pandas,scipy,scikit-learn,matplotlib,seaborn,jupyter,notebook,line_profiler,memory_profiler,numexpr"
   ]
  },
  {
   "cell_type": "markdown",
   "metadata": {},
   "source": [
    "Code development and data analysis always require a bit of trial and error, and IPython contains tools to streamline this process.\n",
    "This section will briefly cover some options for controlling Python's exception reporting, followed by exploring tools for debugging errors in code."
   ]
  },
  {
   "cell_type": "markdown",
   "metadata": {},
   "source": [
    "## Controlling Exceptions: ``%xmode``\n",
    "\n",
    "Most of the time when a Python script fails, it will raise an Exception.\n",
    "When the interpreter hits one of these exceptions, information about the cause of the error can be found in the *traceback*, which can be accessed from within Python.\n",
    "With the ``%xmode`` magic function, IPython allows you to control the amount of information printed when the exception is raised.\n",
    "Consider the following code:"
   ]
  },
  {
   "cell_type": "code",
   "execution_count": 9,
   "metadata": {},
   "outputs": [],
   "source": [
    "def func1(a, b):\n",
    "    return a / b\n",
    "\n",
    "def func2(x):\n",
    "    a = x\n",
    "    b = x - 1\n",
    "    return func1(a, b)"
   ]
  },
  {
   "cell_type": "code",
   "execution_count": 10,
   "metadata": {},
   "outputs": [
    {
     "ename": "ZeroDivisionError",
     "evalue": "division by zero",
     "output_type": "error",
     "traceback": [
      "\u001b[0;31m---------------------------------------------------------------------------\u001b[0m",
      "\u001b[0;31mZeroDivisionError\u001b[0m                         Traceback (most recent call last)",
      "\u001b[0;32m<ipython-input-10-7cb498ea7ed1>\u001b[0m in \u001b[0;36m<module>\u001b[0;34m()\u001b[0m\n\u001b[0;32m----> 1\u001b[0;31m \u001b[0mfunc2\u001b[0m\u001b[0;34m(\u001b[0m\u001b[0;36m1\u001b[0m\u001b[0;34m)\u001b[0m\u001b[0;34m\u001b[0m\u001b[0m\n\u001b[0m",
      "\u001b[0;32m<ipython-input-9-586ccabd0db3>\u001b[0m in \u001b[0;36mfunc2\u001b[0;34m(x)\u001b[0m\n\u001b[1;32m      5\u001b[0m     \u001b[0ma\u001b[0m \u001b[0;34m=\u001b[0m \u001b[0mx\u001b[0m\u001b[0;34m\u001b[0m\u001b[0m\n\u001b[1;32m      6\u001b[0m     \u001b[0mb\u001b[0m \u001b[0;34m=\u001b[0m \u001b[0mx\u001b[0m \u001b[0;34m-\u001b[0m \u001b[0;36m1\u001b[0m\u001b[0;34m\u001b[0m\u001b[0m\n\u001b[0;32m----> 7\u001b[0;31m     \u001b[0;32mreturn\u001b[0m \u001b[0mfunc1\u001b[0m\u001b[0;34m(\u001b[0m\u001b[0ma\u001b[0m\u001b[0;34m,\u001b[0m \u001b[0mb\u001b[0m\u001b[0;34m)\u001b[0m\u001b[0;34m\u001b[0m\u001b[0m\n\u001b[0m",
      "\u001b[0;32m<ipython-input-9-586ccabd0db3>\u001b[0m in \u001b[0;36mfunc1\u001b[0;34m(a, b)\u001b[0m\n\u001b[1;32m      1\u001b[0m \u001b[0;32mdef\u001b[0m \u001b[0mfunc1\u001b[0m\u001b[0;34m(\u001b[0m\u001b[0ma\u001b[0m\u001b[0;34m,\u001b[0m \u001b[0mb\u001b[0m\u001b[0;34m)\u001b[0m\u001b[0;34m:\u001b[0m\u001b[0;34m\u001b[0m\u001b[0m\n\u001b[0;32m----> 2\u001b[0;31m     \u001b[0;32mreturn\u001b[0m \u001b[0ma\u001b[0m \u001b[0;34m/\u001b[0m \u001b[0mb\u001b[0m\u001b[0;34m\u001b[0m\u001b[0m\n\u001b[0m\u001b[1;32m      3\u001b[0m \u001b[0;34m\u001b[0m\u001b[0m\n\u001b[1;32m      4\u001b[0m \u001b[0;32mdef\u001b[0m \u001b[0mfunc2\u001b[0m\u001b[0;34m(\u001b[0m\u001b[0mx\u001b[0m\u001b[0;34m)\u001b[0m\u001b[0;34m:\u001b[0m\u001b[0;34m\u001b[0m\u001b[0m\n\u001b[1;32m      5\u001b[0m     \u001b[0ma\u001b[0m \u001b[0;34m=\u001b[0m \u001b[0mx\u001b[0m\u001b[0;34m\u001b[0m\u001b[0m\n",
      "\u001b[0;31mZeroDivisionError\u001b[0m: division by zero"
     ]
    }
   ],
   "source": [
    "func2(1)"
   ]
  },
  {
   "cell_type": "markdown",
   "metadata": {},
   "source": [
    "Calling ``func2`` results in an error, and reading the printed trace lets us see exactly what happened.\n",
    "By default, this trace includes several lines showing the context of each step that led to the error.\n",
    "Using the ``%xmode`` magic function (short for *Exception mode*), we can change what information is printed.\n",
    "\n",
    "``%xmode`` takes a single argument, the mode, and there are three possibilities: ``Plain``, ``Context``, and ``Verbose``.\n",
    "The default is ``Context``, and gives output like that just shown before.\n",
    "``Plain`` is more compact and gives less information:"
   ]
  },
  {
   "cell_type": "code",
   "execution_count": 11,
   "metadata": {},
   "outputs": [
    {
     "name": "stdout",
     "output_type": "stream",
     "text": [
      "Exception reporting mode: Plain\n"
     ]
    }
   ],
   "source": [
    "%xmode Plain"
   ]
  },
  {
   "cell_type": "code",
   "execution_count": 12,
   "metadata": {},
   "outputs": [
    {
     "ename": "ZeroDivisionError",
     "evalue": "division by zero",
     "output_type": "error",
     "traceback": [
      "Traceback \u001b[0;36m(most recent call last)\u001b[0m:\n",
      "  File \u001b[1;32m\"<ipython-input-12-7cb498ea7ed1>\"\u001b[0m, line \u001b[1;32m1\u001b[0m, in \u001b[1;35m<module>\u001b[0m\n    func2(1)\n",
      "  File \u001b[1;32m\"<ipython-input-9-586ccabd0db3>\"\u001b[0m, line \u001b[1;32m7\u001b[0m, in \u001b[1;35mfunc2\u001b[0m\n    return func1(a, b)\n",
      "\u001b[0;36m  File \u001b[0;32m\"<ipython-input-9-586ccabd0db3>\"\u001b[0;36m, line \u001b[0;32m2\u001b[0;36m, in \u001b[0;35mfunc1\u001b[0;36m\u001b[0m\n\u001b[0;31m    return a / b\u001b[0m\n",
      "\u001b[0;31mZeroDivisionError\u001b[0m\u001b[0;31m:\u001b[0m division by zero\n"
     ]
    }
   ],
   "source": [
    "func2(1)"
   ]
  },
  {
   "cell_type": "markdown",
   "metadata": {},
   "source": [
    "The ``Verbose`` mode adds some extra information, including the arguments to any functions that are called:"
   ]
  },
  {
   "cell_type": "code",
   "execution_count": 13,
   "metadata": {},
   "outputs": [
    {
     "name": "stdout",
     "output_type": "stream",
     "text": [
      "Exception reporting mode: Verbose\n"
     ]
    }
   ],
   "source": [
    "%xmode Verbose"
   ]
  },
  {
   "cell_type": "code",
   "execution_count": 14,
   "metadata": {},
   "outputs": [
    {
     "ename": "ZeroDivisionError",
     "evalue": "division by zero",
     "output_type": "error",
     "traceback": [
      "\u001b[0;31m---------------------------------------------------------------------------\u001b[0m",
      "\u001b[0;31mZeroDivisionError\u001b[0m                         Traceback (most recent call last)",
      "\u001b[0;32m<ipython-input-14-7cb498ea7ed1>\u001b[0m in \u001b[0;36m<module>\u001b[0;34m()\u001b[0m\n\u001b[0;32m----> 1\u001b[0;31m \u001b[0mfunc2\u001b[0m\u001b[0;34m(\u001b[0m\u001b[0;36m1\u001b[0m\u001b[0;34m)\u001b[0m\u001b[0;34m\u001b[0m\u001b[0m\n\u001b[0m        \u001b[0;36mglobal\u001b[0m \u001b[0;36mfunc2\u001b[0m \u001b[0;34m= <function func2 at 0x7f5128b1a950>\u001b[0m\n",
      "\u001b[0;32m<ipython-input-9-586ccabd0db3>\u001b[0m in \u001b[0;36mfunc2\u001b[0;34m(x=1)\u001b[0m\n\u001b[1;32m      5\u001b[0m     \u001b[0ma\u001b[0m \u001b[0;34m=\u001b[0m \u001b[0mx\u001b[0m\u001b[0;34m\u001b[0m\u001b[0m\n\u001b[1;32m      6\u001b[0m     \u001b[0mb\u001b[0m \u001b[0;34m=\u001b[0m \u001b[0mx\u001b[0m \u001b[0;34m-\u001b[0m \u001b[0;36m1\u001b[0m\u001b[0;34m\u001b[0m\u001b[0m\n\u001b[0;32m----> 7\u001b[0;31m     \u001b[0;32mreturn\u001b[0m \u001b[0mfunc1\u001b[0m\u001b[0;34m(\u001b[0m\u001b[0ma\u001b[0m\u001b[0;34m,\u001b[0m \u001b[0mb\u001b[0m\u001b[0;34m)\u001b[0m\u001b[0;34m\u001b[0m\u001b[0m\n\u001b[0m        \u001b[0;36mglobal\u001b[0m \u001b[0;36mfunc1\u001b[0m \u001b[0;34m= <function func1 at 0x7f5128b1a7b8>\u001b[0m\u001b[0;34m\n        \u001b[0m\u001b[0;36ma\u001b[0m \u001b[0;34m= 1\u001b[0m\u001b[0;34m\n        \u001b[0m\u001b[0;36mb\u001b[0m \u001b[0;34m= 0\u001b[0m\n",
      "\u001b[0;32m<ipython-input-9-586ccabd0db3>\u001b[0m in \u001b[0;36mfunc1\u001b[0;34m(a=1, b=0)\u001b[0m\n\u001b[1;32m      1\u001b[0m \u001b[0;32mdef\u001b[0m \u001b[0mfunc1\u001b[0m\u001b[0;34m(\u001b[0m\u001b[0ma\u001b[0m\u001b[0;34m,\u001b[0m \u001b[0mb\u001b[0m\u001b[0;34m)\u001b[0m\u001b[0;34m:\u001b[0m\u001b[0;34m\u001b[0m\u001b[0m\n\u001b[0;32m----> 2\u001b[0;31m     \u001b[0;32mreturn\u001b[0m \u001b[0ma\u001b[0m \u001b[0;34m/\u001b[0m \u001b[0mb\u001b[0m\u001b[0;34m\u001b[0m\u001b[0m\n\u001b[0m        \u001b[0;36ma\u001b[0m \u001b[0;34m= 1\u001b[0m\u001b[0;34m\n        \u001b[0m\u001b[0;36mb\u001b[0m \u001b[0;34m= 0\u001b[0m\n\u001b[1;32m      3\u001b[0m \u001b[0;34m\u001b[0m\u001b[0m\n\u001b[1;32m      4\u001b[0m \u001b[0;32mdef\u001b[0m \u001b[0mfunc2\u001b[0m\u001b[0;34m(\u001b[0m\u001b[0mx\u001b[0m\u001b[0;34m)\u001b[0m\u001b[0;34m:\u001b[0m\u001b[0;34m\u001b[0m\u001b[0m\n\u001b[1;32m      5\u001b[0m     \u001b[0ma\u001b[0m \u001b[0;34m=\u001b[0m \u001b[0mx\u001b[0m\u001b[0;34m\u001b[0m\u001b[0m\n",
      "\u001b[0;31mZeroDivisionError\u001b[0m: division by zero"
     ]
    }
   ],
   "source": [
    "func2(1)"
   ]
  },
  {
   "cell_type": "markdown",
   "metadata": {},
   "source": [
    "This extra information can help narrow-in on why the exception is being raised.\n",
    "So why not use the ``Verbose`` mode all the time?\n",
    "As code gets complicated, this kind of traceback can get extremely long.\n",
    "Depending on the context, sometimes the brevity of ``Default`` mode is easier to work with."
   ]
  },
  {
   "cell_type": "markdown",
   "metadata": {},
   "source": [
    "## Debugging: When Reading Tracebacks Is Not Enough\n",
    "\n",
    "The standard Python tool for interactive debugging is ``pdb``, the Python debugger.\n",
    "This debugger lets the user step through the code line by line in order to see what might be causing a more difficult error.\n",
    "The IPython-enhanced version of this is ``ipdb``, the IPython debugger.\n",
    "\n",
    "There are many ways to launch and use both these debuggers; we won't cover them fully here.\n",
    "Refer to the online documentation of these two utilities to learn more.\n",
    "\n",
    "In IPython, perhaps the most convenient interface to debugging is the ``%debug`` magic command.\n",
    "If you call it after hitting an exception, it will automatically open an interactive debugging prompt at the point of the exception.\n",
    "The ``ipdb`` prompt lets you explore the current state of the stack, explore the available variables, and even run Python commands!\n",
    "\n",
    "Let's look at the most recent exception, then do some basic tasks–print the values of ``a`` and ``b``, and type ``quit`` to quit the debugging session:"
   ]
  },
  {
   "cell_type": "code",
   "execution_count": 15,
   "metadata": {},
   "outputs": [
    {
     "name": "stdout",
     "output_type": "stream",
     "text": [
      "> \u001b[0;32m<ipython-input-9-586ccabd0db3>\u001b[0m(2)\u001b[0;36mfunc1\u001b[0;34m()\u001b[0m\n",
      "\u001b[0;32m      1 \u001b[0;31m\u001b[0;32mdef\u001b[0m \u001b[0mfunc1\u001b[0m\u001b[0;34m(\u001b[0m\u001b[0ma\u001b[0m\u001b[0;34m,\u001b[0m \u001b[0mb\u001b[0m\u001b[0;34m)\u001b[0m\u001b[0;34m:\u001b[0m\u001b[0;34m\u001b[0m\u001b[0m\n",
      "\u001b[0m\u001b[0;32m----> 2 \u001b[0;31m    \u001b[0;32mreturn\u001b[0m \u001b[0ma\u001b[0m \u001b[0;34m/\u001b[0m \u001b[0mb\u001b[0m\u001b[0;34m\u001b[0m\u001b[0m\n",
      "\u001b[0m\u001b[0;32m      3 \u001b[0;31m\u001b[0;34m\u001b[0m\u001b[0m\n",
      "\u001b[0m\u001b[0;32m      4 \u001b[0;31m\u001b[0;32mdef\u001b[0m \u001b[0mfunc2\u001b[0m\u001b[0;34m(\u001b[0m\u001b[0mx\u001b[0m\u001b[0;34m)\u001b[0m\u001b[0;34m:\u001b[0m\u001b[0;34m\u001b[0m\u001b[0m\n",
      "\u001b[0m\u001b[0;32m      5 \u001b[0;31m    \u001b[0ma\u001b[0m \u001b[0;34m=\u001b[0m \u001b[0mx\u001b[0m\u001b[0;34m\u001b[0m\u001b[0m\n",
      "\u001b[0m\n",
      "ipdb> a\n",
      "a = 1\n",
      "b = 0\n",
      "ipdb> x\n",
      "*** NameError: name 'x' is not defined\n",
      "ipdb> b\n",
      "ipdb> fun1\n",
      "*** NameError: name 'fun1' is not defined\n",
      "ipdb> quit\n"
     ]
    }
   ],
   "source": [
    "%debug"
   ]
  },
  {
   "cell_type": "markdown",
   "metadata": {},
   "source": [
    "The interactive debugger allows much more than this, though–we can even step up and down through the stack and explore the values of variables there:"
   ]
  },
  {
   "cell_type": "code",
   "execution_count": 16,
   "metadata": {},
   "outputs": [
    {
     "name": "stdout",
     "output_type": "stream",
     "text": [
      "> \u001b[0;32m<ipython-input-9-586ccabd0db3>\u001b[0m(2)\u001b[0;36mfunc1\u001b[0;34m()\u001b[0m\n",
      "\u001b[0;32m      1 \u001b[0;31m\u001b[0;32mdef\u001b[0m \u001b[0mfunc1\u001b[0m\u001b[0;34m(\u001b[0m\u001b[0ma\u001b[0m\u001b[0;34m,\u001b[0m \u001b[0mb\u001b[0m\u001b[0;34m)\u001b[0m\u001b[0;34m:\u001b[0m\u001b[0;34m\u001b[0m\u001b[0m\n",
      "\u001b[0m\u001b[0;32m----> 2 \u001b[0;31m    \u001b[0;32mreturn\u001b[0m \u001b[0ma\u001b[0m \u001b[0;34m/\u001b[0m \u001b[0mb\u001b[0m\u001b[0;34m\u001b[0m\u001b[0m\n",
      "\u001b[0m\u001b[0;32m      3 \u001b[0;31m\u001b[0;34m\u001b[0m\u001b[0m\n",
      "\u001b[0m\u001b[0;32m      4 \u001b[0;31m\u001b[0;32mdef\u001b[0m \u001b[0mfunc2\u001b[0m\u001b[0;34m(\u001b[0m\u001b[0mx\u001b[0m\u001b[0;34m)\u001b[0m\u001b[0;34m:\u001b[0m\u001b[0;34m\u001b[0m\u001b[0m\n",
      "\u001b[0m\u001b[0;32m      5 \u001b[0;31m    \u001b[0ma\u001b[0m \u001b[0;34m=\u001b[0m \u001b[0mx\u001b[0m\u001b[0;34m\u001b[0m\u001b[0m\n",
      "\u001b[0m\n",
      "ipdb> a\n",
      "a = 1\n",
      "b = 0\n",
      "ipdb> quit\n"
     ]
    }
   ],
   "source": [
    "%debug"
   ]
  },
  {
   "cell_type": "markdown",
   "metadata": {},
   "source": [
    "This allows you to quickly find out not only what caused the error, but what function calls led up to the error.\n",
    "\n",
    "If you'd like the debugger to launch automatically whenever an exception is raised, you can use the ``%pdb`` magic function to turn on this automatic behavior:"
   ]
  },
  {
   "cell_type": "code",
   "execution_count": null,
   "metadata": {},
   "outputs": [],
   "source": [
    "%xmode Plain\n",
    "%pdb on\n",
    "func2(1)"
   ]
  },
  {
   "cell_type": "markdown",
   "metadata": {},
   "source": [
    "Finally, if you have a script that you'd like to run from the beginning in interactive mode, you can run it with the command ``%run -d``, and use the ``next`` command to step through the lines of code interactively."
   ]
  },
  {
   "cell_type": "markdown",
   "metadata": {},
   "source": [
    "### Partial list of debugging commands\n",
    "\n",
    "There are many more available commands for interactive debugging than we've listed here; the following table contains a description of some of the more common and useful ones:\n",
    "\n",
    "| Command         |  Description                                                |\n",
    "|-----------------|-------------------------------------------------------------|\n",
    "| ``list``        | Show the current location in the file                       |\n",
    "| ``h(elp)``      | Show a list of commands, or find help on a specific command |\n",
    "| ``q(uit)``      | Quit the debugger and the program                           |\n",
    "| ``c(ontinue)``  | Quit the debugger, continue in the program                  |\n",
    "| ``n(ext)``      | Go to the next step of the program                          |\n",
    "| ``<enter>``     | Repeat the previous command                                 |\n",
    "| ``p(rint)``     | Print variables                                             |\n",
    "| ``s(tep)``      | Step into a subroutine                                      |\n",
    "| ``r(eturn)``    | Return out of a subroutine                                  |\n",
    "\n",
    "For more information, use the ``help`` command in the debugger, or take a look at ``ipdb``'s [online documentation](https://github.com/gotcha/ipdb)."
   ]
  },
  {
   "cell_type": "markdown",
   "metadata": {},
   "source": [
    "<!--NAVIGATION-->\n",
    "< [IPython and Shell Commands](01.05-IPython-And-Shell-Commands.ipynb) | [Contents](Index.ipynb) | [Profiling and Timing Code](01.07-Timing-and-Profiling.ipynb) >\n",
    "\n",
    "<a href=\"https://colab.research.google.com/github/jakevdp/PythonDataScienceHandbook/blob/master/notebooks/01.06-Errors-and-Debugging.ipynb\"><img align=\"left\" src=\"https://colab.research.google.com/assets/colab-badge.svg\" alt=\"Open in Colab\" title=\"Open and Execute in Google Colaboratory\"></a>\n"
   ]
  }
 ],
 "metadata": {
  "anaconda-cloud": {},
  "kernelspec": {
   "display_name": "Python 3",
   "language": "python",
   "name": "python3"
  },
  "language_info": {
   "codemirror_mode": {
    "name": "ipython",
    "version": 3
   },
   "file_extension": ".py",
   "mimetype": "text/x-python",
   "name": "python",
   "nbconvert_exporter": "python",
   "pygments_lexer": "ipython3",
   "version": "3.5.4"
  }
 },
 "nbformat": 4,
 "nbformat_minor": 1
}
