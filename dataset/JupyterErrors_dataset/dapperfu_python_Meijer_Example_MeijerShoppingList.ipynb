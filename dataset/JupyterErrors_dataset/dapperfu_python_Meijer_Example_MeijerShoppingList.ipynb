{
 "cells": [
  {
   "cell_type": "code",
   "execution_count": 3,
   "metadata": {},
   "outputs": [
    {
     "name": "stdout",
     "output_type": "stream",
     "text": [
      "The autoreload extension is already loaded. To reload it, use:\n",
      "  %reload_ext autoreload\n"
     ]
    },
    {
     "ename": "ImportError",
     "evalue": "cannot import name 'Meijer' from 'meijer' (unknown location)",
     "output_type": "error",
     "traceback": [
      "\u001b[0;31m---------------------------------------------------------------------------\u001b[0m",
      "\u001b[0;31mImportError\u001b[0m                               Traceback (most recent call last)",
      "\u001b[0;32m<ipython-input-3-11a81a8f4db8>\u001b[0m in \u001b[0;36m<module>\u001b[0;34m\u001b[0m\n\u001b[1;32m      1\u001b[0m \u001b[0mget_ipython\u001b[0m\u001b[0;34m(\u001b[0m\u001b[0;34m)\u001b[0m\u001b[0;34m.\u001b[0m\u001b[0mrun_line_magic\u001b[0m\u001b[0;34m(\u001b[0m\u001b[0;34m'load_ext'\u001b[0m\u001b[0;34m,\u001b[0m \u001b[0;34m'autoreload'\u001b[0m\u001b[0;34m)\u001b[0m\u001b[0;34m\u001b[0m\u001b[0;34m\u001b[0m\u001b[0m\n\u001b[1;32m      2\u001b[0m \u001b[0mget_ipython\u001b[0m\u001b[0;34m(\u001b[0m\u001b[0;34m)\u001b[0m\u001b[0;34m.\u001b[0m\u001b[0mrun_line_magic\u001b[0m\u001b[0;34m(\u001b[0m\u001b[0;34m'autoreload'\u001b[0m\u001b[0;34m,\u001b[0m \u001b[0;34m'2'\u001b[0m\u001b[0;34m)\u001b[0m\u001b[0;34m\u001b[0m\u001b[0;34m\u001b[0m\u001b[0m\n\u001b[0;32m----> 3\u001b[0;31m \u001b[0;32mfrom\u001b[0m \u001b[0mmeijer\u001b[0m \u001b[0;32mimport\u001b[0m \u001b[0mMeijer\u001b[0m\u001b[0;34m\u001b[0m\u001b[0;34m\u001b[0m\u001b[0m\n\u001b[0m",
      "\u001b[0;31mImportError\u001b[0m: cannot import name 'Meijer' from 'meijer' (unknown location)"
     ]
    }
   ],
   "source": [
    "%load_ext autoreload\n",
    "%autoreload 2\n",
    "from meijer import Meijer"
   ]
  },
  {
   "cell_type": "code",
   "execution_count": 2,
   "metadata": {},
   "outputs": [
    {
     "ename": "NameError",
     "evalue": "name 'Meijer' is not defined",
     "output_type": "error",
     "traceback": [
      "\u001b[0;31m---------------------------------------------------------------------------\u001b[0m",
      "\u001b[0;31mNameError\u001b[0m                                 Traceback (most recent call last)",
      "\u001b[0;32m<ipython-input-2-f597d72e8b78>\u001b[0m in \u001b[0;36m<module>\u001b[0;34m\u001b[0m\n\u001b[0;32m----> 1\u001b[0;31m \u001b[0mm\u001b[0m \u001b[0;34m=\u001b[0m \u001b[0mMeijer\u001b[0m\u001b[0;34m(\u001b[0m\u001b[0;34m)\u001b[0m\u001b[0;34m\u001b[0m\u001b[0;34m\u001b[0m\u001b[0m\n\u001b[0m\u001b[1;32m      2\u001b[0m \u001b[0mself\u001b[0m \u001b[0;34m=\u001b[0m \u001b[0mm\u001b[0m\u001b[0;34m\u001b[0m\u001b[0;34m\u001b[0m\u001b[0m\n",
      "\u001b[0;31mNameError\u001b[0m: name 'Meijer' is not defined"
     ]
    }
   ],
   "source": [
    "m = Meijer()\n",
    "self = m"
   ]
  },
  {
   "cell_type": "code",
   "execution_count": 3,
   "metadata": {},
   "outputs": [
    {
     "data": {
      "text/plain": [
       "{'meta': {'totalResults': 1,\n",
       "  'startingIndex': 0,\n",
       "  'resultsReturned': 1,\n",
       "  'sort': 'score desc,upc asc',\n",
       "  'facets': [{'field': 'hw_claims',\n",
       "    'displayName': 'Health and Wellness',\n",
       "    'type': 'value',\n",
       "    'values': []},\n",
       "   {'field': 'ways_to_save',\n",
       "    'displayName': 'Ways to Save',\n",
       "    'type': 'value',\n",
       "    'values': []}],\n",
       "  'categories': [{'field': 'TierId',\n",
       "    'displayName': 'Category',\n",
       "    'values': [{'value': 'T2-10308', 'display': 'Dairy', 'count': 1},\n",
       "     {'value': 'T2-10428', 'display': 'Mixed Fruit Tart', 'count': 1},\n",
       "     {'value': 'T2-10658', 'display': 'Breakfast', 'count': 1},\n",
       "     {'value': 'T2-10666', 'display': 'Rocky Road Brownies', 'count': 1},\n",
       "     {'value': 'T2-10697', 'display': 'Holiday Baking', 'count': 1},\n",
       "     {'value': 'T2-9974', 'display': 'Dairy', 'count': 1},\n",
       "     {'value': 'T2-9979', 'display': 'Cereal & Breakfast', 'count': 1}]}]},\n",
       " 'upcs': [{'id': '20_UPCA_4125010200',\n",
       "   'score': 99.917274,\n",
       "   'storeId': 20,\n",
       "   'upc': '4125010200',\n",
       "   'upc_type': 'UPCA',\n",
       "   'productId': '504293',\n",
       "   'shortName': 'Meijer Vitamin D Whole Milk, gal',\n",
       "   'longName': 'MEIJER MILK VITAMIN D GAL',\n",
       "   'description': 'You can find it on the doors of almost every refrigerator and in countless bowls of cereal across the world. With a smooth, creamy flavor in every sip and an added serving of calcium and Vitamin D, what’s not to love about Meijer Vitamin D Whole Milk? There’s a reason why it’s always at the top of your grocery list.',\n",
       "   'uom': 'EA',\n",
       "   'sellingSize': 'GALLON    ',\n",
       "   'isRandomWeight': False,\n",
       "   'images': [{'type': 'Front',\n",
       "     'format': 'png',\n",
       "     'size': 100,\n",
       "     'isPrimary': True,\n",
       "     'href': 'https://static.meijer.com/Media/000/41250/0004125010200_1_A1C1_0100.png'},\n",
       "    {'type': 'Front',\n",
       "     'format': 'png',\n",
       "     'size': 200,\n",
       "     'isPrimary': True,\n",
       "     'href': 'https://static.meijer.com/Media/000/41250/0004125010200_1_A1C1_0200.png'},\n",
       "    {'type': 'Front',\n",
       "     'format': 'png',\n",
       "     'size': 600,\n",
       "     'isPrimary': True,\n",
       "     'href': 'https://static.meijer.com/Media/000/41250/0004125010200_1_A1C1_0600.png'},\n",
       "    {'type': 'Front',\n",
       "     'format': 'png',\n",
       "     'size': 2000,\n",
       "     'isPrimary': True,\n",
       "     'href': 'https://static.meijer.com/Media/000/41250/0004125010200_1_A1C1_2000.png'}],\n",
       "   'brandName': 'Meijer',\n",
       "   'brandIsMeijer': True,\n",
       "   'isActive': True,\n",
       "   'isSellable': True,\n",
       "   'isKilled': False,\n",
       "   'isClickAndCollect': False,\n",
       "   'isShipToHome': False,\n",
       "   'isQuickShop': True,\n",
       "   'isAlcohol': False,\n",
       "   'hasDeposit': False,\n",
       "   'isTobacco': False,\n",
       "   'isAgeRestricted': False,\n",
       "   'isHazardousMaterial': False,\n",
       "   'isPreparedItem': False,\n",
       "   'isOrganic': False,\n",
       "   'isLocal': False,\n",
       "   'isPrimaryUPC': True,\n",
       "   'tier1Ids': [865, 902, 906, 913, 915],\n",
       "   'tier2Ids': [9974, 9979, 10308, 10428, 10658, 10666, 10697],\n",
       "   'tier3Ids': [213, 1686, 2343, 2554, 2762],\n",
       "   'tier4Ids': [540, 2950, 3996, 4311],\n",
       "   'tier1Names': ['Back to School',\n",
       "    'Grocery',\n",
       "    'Holiday',\n",
       "    'Meijer Made',\n",
       "    'Recipes'],\n",
       "   'tier2Names': ['Breakfast',\n",
       "    'Cereal & Breakfast',\n",
       "    'Dairy',\n",
       "    'Holiday Baking',\n",
       "    'Mixed Fruit Tart',\n",
       "    'Rocky Road Brownies'],\n",
       "   'tier3Names': ['Milk', 'Milk & Butter', 'Stir Up Your Day'],\n",
       "   'tier4Names': ['Dairy Milk', 'Milk', 'Stir it Up', 'Traditional Milk'],\n",
       "   'tier1Facet': ['865|Grocery',\n",
       "    '902|Meijer Made',\n",
       "    '906|Recipes',\n",
       "    '913|Back to School',\n",
       "    '915|Holiday'],\n",
       "   'tier2Facet': ['9974|Dairy',\n",
       "    '9979|Cereal & Breakfast',\n",
       "    '10308|Dairy',\n",
       "    '10428|Mixed Fruit Tart',\n",
       "    '10658|Breakfast',\n",
       "    '10666|Rocky Road Brownies',\n",
       "    '10697|Holiday Baking'],\n",
       "   'tier3Facet': ['213|Milk',\n",
       "    '1686|Milk',\n",
       "    '2343|Stir Up Your Day',\n",
       "    '2554|Milk',\n",
       "    '2762|Milk & Butter'],\n",
       "   'tier4Facet': ['540|Traditional Milk',\n",
       "    '2950|Dairy Milk',\n",
       "    '3996|Stir it Up',\n",
       "    '4311|Milk'],\n",
       "   'priceText': '$2.99',\n",
       "   'priceValue': 2.99,\n",
       "   'savingsValue': 0.0,\n",
       "   'hasMPerksOffers': False,\n",
       "   'calories': '150',\n",
       "   'protein': '8',\n",
       "   'fat': '8',\n",
       "   'hasAltUomMethod': False,\n",
       "   'updatedTimeStamp': '2017-06-08T03:45:11.637Z',\n",
       "   'links': {'mPerksOffers': []},\n",
       "   'weightEach': 1.0,\n",
       "   'isSubstitutable': True,\n",
       "   'isHotItem': False,\n",
       "   'waysToSave': 'mPerks',\n",
       "   'availability': 'In Store Pickup',\n",
       "   'isHomeDeliverable': True,\n",
       "   'ilcs': ['DARY-0-3-4', 'DARY-0-3-6', 'DARY-0-3-7', 'DARY-0-3-8'],\n",
       "   'ilc_primary': 'DARY-0-3-4',\n",
       "   'priceLessThanMap': False,\n",
       "   'salePriceStartDate': '2019-10-25T00:00:00Z',\n",
       "   'ilcPrimaryShelf': 'DARY-0-3-1-1',\n",
       "   'ilcShelves': ['DARY-0-3-1-1',\n",
       "    'DARY-0-3-1-1',\n",
       "    'DARY-0-3-1-1',\n",
       "    'DARY-0-3-1-1']}],\n",
       " 'linked': {}}"
      ]
     },
     "execution_count": 3,
     "metadata": {},
     "output_type": "execute_result"
    }
   ],
   "source": [
    "m.get_upc()"
   ]
  },
  {
   "cell_type": "code",
   "execution_count": 5,
   "metadata": {},
   "outputs": [
    {
     "data": {
      "text/plain": [
       "{'meta': {'totalResults': 0,\n",
       "  'startingIndex': 0,\n",
       "  'resultsReturned': 0,\n",
       "  'sort': 'score desc,upc asc',\n",
       "  'facets': [{'field': 'hw_claims',\n",
       "    'displayName': 'Health and Wellness',\n",
       "    'type': 'value',\n",
       "    'values': []},\n",
       "   {'field': 'ways_to_save',\n",
       "    'displayName': 'Ways to Save',\n",
       "    'type': 'value',\n",
       "    'values': []}],\n",
       "  'categories': [{'field': 'TierId',\n",
       "    'displayName': 'Category',\n",
       "    'values': []}]},\n",
       " 'upcs': [],\n",
       " 'linked': {}}"
      ]
     },
     "execution_count": 5,
     "metadata": {},
     "output_type": "execute_result"
    }
   ],
   "source": [
    "m.get_upc(upc=\"412501020\")"
   ]
  },
  {
   "cell_type": "code",
   "execution_count": 4,
   "metadata": {},
   "outputs": [],
   "source": [
    "def get_upc(self, upc=\"4125010200\", storeID=\"20\"):\n",
    "    request = dict()\n",
    "    request[\"url\"] = f\"https://mservices.meijer.com/DRNavMobileSvc/search/products?storeId={storeID}&q.upc={upc}\"\n",
    "    request[\"headers\"] = {\n",
    "        \"Accept\": \"application/vnd.meijer.search.product-v1.2+json\",\n",
    "    }\n",
    "    r = self.get(**request)\n",
    "    return r"
   ]
  },
  {
   "cell_type": "code",
   "execution_count": 16,
   "metadata": {},
   "outputs": [],
   "source": [
    "stores = m.stores()"
   ]
  },
  {
   "cell_type": "code",
   "execution_count": 27,
   "metadata": {},
   "outputs": [
    {
     "name": "stdout",
     "output_type": "stream",
     "text": [
      "2.99\n",
      "2.99\n",
      "2.79\n",
      "2.99\n",
      "2.29\n",
      "1.89\n",
      "3.39\n",
      "2.79\n",
      "1.89\n",
      "2.59\n",
      "3.69\n",
      "2.39\n",
      "3.59\n",
      "3.39\n",
      "2.39\n",
      "2.39\n",
      "2.29\n",
      "3.49\n",
      "2.59\n",
      "1.69\n",
      "1.69\n",
      "2.99\n",
      "1.99\n",
      "2.69\n",
      "1.79\n",
      "2.49\n",
      "2.39\n",
      "2.09\n",
      "2.29\n",
      "2.49\n",
      "2.69\n",
      "2.49\n",
      "2.49\n",
      "2.19\n",
      "2.09\n",
      "2.79\n",
      "2.19\n",
      "1.89\n",
      "1.69\n",
      "2.19\n",
      "1.89\n",
      "1.89\n",
      "2.19\n",
      "1.99\n",
      "2.89\n",
      "2.49\n",
      "2.59\n",
      "2.09\n",
      "2.19\n",
      "1.69\n",
      "2.99\n",
      "2.09\n",
      "2.39\n",
      "2.69\n",
      "0.99\n",
      "2.99\n",
      "2.69\n",
      "1.99\n",
      "2.59\n",
      "2.59\n",
      "2.29\n",
      "2.99\n",
      "2.49\n",
      "1.89\n",
      "2.29\n",
      "2.59\n",
      "2.89\n",
      "1.89\n",
      "2.29\n",
      "3.39\n",
      "2.69\n",
      "2.39\n",
      "2.19\n",
      "2.09\n",
      "1.49\n",
      "2.69\n",
      "1.99\n",
      "1.79\n",
      "2.49\n",
      "2.19\n",
      "2.09\n",
      "2.39\n",
      "2.3\n",
      "1.99\n",
      "2.09\n",
      "1.89\n",
      "1.69\n",
      "2.69\n",
      "2.39\n",
      "1.89\n",
      "2.59\n",
      "2.39\n",
      "2.19\n",
      "2.99\n",
      "1.89\n",
      "2.09\n",
      "2.99\n",
      "1.79\n",
      "2.29\n",
      "1.89\n",
      "2.19\n",
      "2.09\n",
      "1.69\n",
      "2.99\n",
      "1.49\n",
      "2.39\n",
      "2.99\n",
      "2.69\n",
      "2.4\n",
      "2.5\n",
      "1.89\n",
      "1.79\n",
      "2.59\n",
      "2.39\n",
      "2.69\n",
      "2.89\n",
      "1.89\n",
      "2.09\n",
      "1.99\n",
      "2.99\n",
      "2.29\n",
      "1.99\n",
      "1.79\n",
      "3.59\n",
      "1.79\n",
      "1.99\n",
      "2.49\n",
      "2.19\n",
      "2.69\n",
      "1.4\n",
      "1.99\n",
      "1.89\n",
      "1.89\n",
      "2.79\n",
      "2.19\n",
      "2.19\n",
      "2.89\n",
      "2.59\n",
      "1.59\n",
      "1.99\n",
      "1.89\n",
      "2.69\n",
      "1.89\n",
      "2.99\n",
      "2.59\n",
      "2.19\n",
      "2.29\n",
      "2.69\n",
      "1.49\n",
      "2.99\n",
      "2.59\n",
      "2.09\n",
      "2.49\n",
      "2.09\n",
      "2.19\n",
      "2.29\n",
      "2.49\n",
      "1.79\n",
      "3.39\n",
      "2.09\n",
      "2.09\n",
      "1.59\n",
      "2.99\n",
      "2.29\n",
      "1.99\n",
      "1.9\n",
      "1.59\n",
      "1.59\n",
      "2.09\n",
      "3.09\n",
      "2.29\n",
      "2.19\n",
      "2.59\n",
      "1.59\n",
      "2.39\n",
      "2.39\n",
      "2.49\n",
      "2.59\n",
      "2.59\n",
      "2.39\n",
      "2.49\n",
      "2.49\n",
      "2.19\n"
     ]
    },
    {
     "ename": "KeyError",
     "evalue": "'priceValue'",
     "output_type": "error",
     "traceback": [
      "\u001b[0;31m---------------------------------------------------------------------------\u001b[0m",
      "\u001b[0;31mKeyError\u001b[0m                                  Traceback (most recent call last)",
      "\u001b[0;32m<ipython-input-27-a405529f2c24>\u001b[0m in \u001b[0;36m<module>\u001b[0;34m\u001b[0m\n\u001b[1;32m      2\u001b[0m     \u001b[0mupc_data\u001b[0m \u001b[0;34m=\u001b[0m \u001b[0mget_upc\u001b[0m\u001b[0;34m(\u001b[0m\u001b[0mself\u001b[0m\u001b[0;34m,\u001b[0m\u001b[0mstoreID\u001b[0m\u001b[0;34m=\u001b[0m\u001b[0mstore\u001b[0m\u001b[0;34m[\u001b[0m\u001b[0;34m\"unitid\"\u001b[0m\u001b[0;34m]\u001b[0m\u001b[0;34m)\u001b[0m\u001b[0;34m\u001b[0m\u001b[0;34m\u001b[0m\u001b[0m\n\u001b[1;32m      3\u001b[0m     \u001b[0;32mif\u001b[0m \u001b[0mlen\u001b[0m\u001b[0;34m(\u001b[0m\u001b[0mupc_data\u001b[0m\u001b[0;34m[\u001b[0m\u001b[0;34m\"upcs\"\u001b[0m\u001b[0;34m]\u001b[0m\u001b[0;34m)\u001b[0m\u001b[0;34m>\u001b[0m\u001b[0;36m0\u001b[0m\u001b[0;34m:\u001b[0m\u001b[0;34m\u001b[0m\u001b[0;34m\u001b[0m\u001b[0m\n\u001b[0;32m----> 4\u001b[0;31m         \u001b[0mprint\u001b[0m\u001b[0;34m(\u001b[0m\u001b[0mupc_data\u001b[0m\u001b[0;34m[\u001b[0m\u001b[0;34m\"upcs\"\u001b[0m\u001b[0;34m]\u001b[0m\u001b[0;34m[\u001b[0m\u001b[0;36m0\u001b[0m\u001b[0;34m]\u001b[0m\u001b[0;34m[\u001b[0m\u001b[0;34m\"priceValue\"\u001b[0m\u001b[0;34m]\u001b[0m\u001b[0;34m)\u001b[0m\u001b[0;34m\u001b[0m\u001b[0;34m\u001b[0m\u001b[0m\n\u001b[0m",
      "\u001b[0;31mKeyError\u001b[0m: 'priceValue'"
     ]
    }
   ],
   "source": [
    "for store in stores:\n",
    "    upc_data = get_upc(self,storeID=store[\"unitid\"])\n",
    "    if len(upc_data[\"upcs\"])>0:\n",
    "        print(upc_data[\"upcs\"][0][\"priceValue\"])"
   ]
  },
  {
   "cell_type": "code",
   "execution_count": 31,
   "metadata": {},
   "outputs": [
    {
     "data": {
      "text/plain": [
       "{'meta': {'totalResults': 1,\n",
       "  'startingIndex': 0,\n",
       "  'resultsReturned': 1,\n",
       "  'sort': 'score desc,upc asc',\n",
       "  'facets': [{'field': 'hw_claims',\n",
       "    'displayName': 'Health and Wellness',\n",
       "    'type': 'value',\n",
       "    'values': []},\n",
       "   {'field': 'ways_to_save',\n",
       "    'displayName': 'Ways to Save',\n",
       "    'type': 'value',\n",
       "    'values': []}],\n",
       "  'categories': [{'field': 'TierId',\n",
       "    'displayName': 'Category',\n",
       "    'values': [{'value': 'T2-10308', 'display': 'Dairy', 'count': 1},\n",
       "     {'value': 'T2-10428', 'display': 'Mixed Fruit Tart', 'count': 1},\n",
       "     {'value': 'T2-10658', 'display': 'Breakfast', 'count': 1},\n",
       "     {'value': 'T2-10666', 'display': 'Rocky Road Brownies', 'count': 1},\n",
       "     {'value': 'T2-10697', 'display': 'Holiday Baking', 'count': 1},\n",
       "     {'value': 'T2-9974', 'display': 'Dairy', 'count': 1},\n",
       "     {'value': 'T2-9979', 'display': 'Cereal & Breakfast', 'count': 1}]}]},\n",
       " 'upcs': [{'id': '269_UPCA_4125010200',\n",
       "   'score': 99.917274,\n",
       "   'storeId': 269,\n",
       "   'upc': '4125010200',\n",
       "   'upc_type': 'UPCA',\n",
       "   'productId': '504293',\n",
       "   'shortName': 'Meijer Vitamin D Whole Milk, gal',\n",
       "   'longName': 'MEIJER MILK VITAMIN D GAL',\n",
       "   'description': 'You can find it on the doors of almost every refrigerator and in countless bowls of cereal across the world. With a smooth, creamy flavor in every sip and an added serving of calcium and Vitamin D, what’s not to love about Meijer Vitamin D Whole Milk? There’s a reason why it’s always at the top of your grocery list.',\n",
       "   'uom': 'EA',\n",
       "   'sellingSize': 'GALLON    ',\n",
       "   'isRandomWeight': False,\n",
       "   'images': [{'type': 'Front',\n",
       "     'format': 'png',\n",
       "     'size': 100,\n",
       "     'isPrimary': True,\n",
       "     'href': 'https://static.meijer.com/Media/000/41250/0004125010200_1_A1C1_0100.png'},\n",
       "    {'type': 'Front',\n",
       "     'format': 'png',\n",
       "     'size': 200,\n",
       "     'isPrimary': True,\n",
       "     'href': 'https://static.meijer.com/Media/000/41250/0004125010200_1_A1C1_0200.png'},\n",
       "    {'type': 'Front',\n",
       "     'format': 'png',\n",
       "     'size': 600,\n",
       "     'isPrimary': True,\n",
       "     'href': 'https://static.meijer.com/Media/000/41250/0004125010200_1_A1C1_0600.png'},\n",
       "    {'type': 'Front',\n",
       "     'format': 'png',\n",
       "     'size': 2000,\n",
       "     'isPrimary': True,\n",
       "     'href': 'https://static.meijer.com/Media/000/41250/0004125010200_1_A1C1_2000.png'}],\n",
       "   'brandName': 'Meijer',\n",
       "   'brandIsMeijer': True,\n",
       "   'isActive': True,\n",
       "   'isSellable': True,\n",
       "   'isKilled': False,\n",
       "   'isClickAndCollect': False,\n",
       "   'isShipToHome': False,\n",
       "   'isQuickShop': True,\n",
       "   'isAlcohol': False,\n",
       "   'hasDeposit': False,\n",
       "   'isTobacco': False,\n",
       "   'isAgeRestricted': False,\n",
       "   'isHazardousMaterial': False,\n",
       "   'isPreparedItem': False,\n",
       "   'isOrganic': False,\n",
       "   'isLocal': False,\n",
       "   'isPrimaryUPC': True,\n",
       "   'tier1Ids': [865, 902, 906, 913, 915],\n",
       "   'tier2Ids': [9974, 9979, 10308, 10428, 10658, 10666, 10697],\n",
       "   'tier3Ids': [213, 1686, 2343, 2554, 2762],\n",
       "   'tier4Ids': [540, 2950, 3996, 4311],\n",
       "   'tier1Names': ['Back to School',\n",
       "    'Grocery',\n",
       "    'Holiday',\n",
       "    'Meijer Made',\n",
       "    'Recipes'],\n",
       "   'tier2Names': ['Breakfast',\n",
       "    'Cereal & Breakfast',\n",
       "    'Dairy',\n",
       "    'Holiday Baking',\n",
       "    'Mixed Fruit Tart',\n",
       "    'Rocky Road Brownies'],\n",
       "   'tier3Names': ['Milk', 'Milk & Butter', 'Stir Up Your Day'],\n",
       "   'tier4Names': ['Dairy Milk', 'Milk', 'Stir it Up', 'Traditional Milk'],\n",
       "   'tier1Facet': ['865|Grocery',\n",
       "    '902|Meijer Made',\n",
       "    '906|Recipes',\n",
       "    '913|Back to School',\n",
       "    '915|Holiday'],\n",
       "   'tier2Facet': ['9974|Dairy',\n",
       "    '9979|Cereal & Breakfast',\n",
       "    '10308|Dairy',\n",
       "    '10428|Mixed Fruit Tart',\n",
       "    '10658|Breakfast',\n",
       "    '10666|Rocky Road Brownies',\n",
       "    '10697|Holiday Baking'],\n",
       "   'tier3Facet': ['213|Milk',\n",
       "    '1686|Milk',\n",
       "    '2343|Stir Up Your Day',\n",
       "    '2554|Milk',\n",
       "    '2762|Milk & Butter'],\n",
       "   'tier4Facet': ['540|Traditional Milk',\n",
       "    '2950|Dairy Milk',\n",
       "    '3996|Stir it Up',\n",
       "    '4311|Milk'],\n",
       "   'priceText': '$2.80',\n",
       "   'priceValue': 2.8,\n",
       "   'savingsValue': 0.0,\n",
       "   'hasMPerksOffers': False,\n",
       "   'calories': '150',\n",
       "   'protein': '8',\n",
       "   'fat': '8',\n",
       "   'hasAltUomMethod': False,\n",
       "   'updatedTimeStamp': '2017-06-08T03:45:11.637Z',\n",
       "   'links': {'mPerksOffers': []},\n",
       "   'weightEach': 1.0,\n",
       "   'isSubstitutable': True,\n",
       "   'isHotItem': False,\n",
       "   'waysToSave': 'mPerks',\n",
       "   'availability': 'In Store Pickup',\n",
       "   'isHomeDeliverable': True,\n",
       "   'ilcs': ['DARY-0-28-4', 'DARY-0-28-6', 'DARY-0-28-7', 'DARY-0-28-8'],\n",
       "   'ilc_primary': 'DARY-0-28-4',\n",
       "   'priceLessThanMap': False,\n",
       "   'salePriceStartDate': '2019-10-11T00:00:00Z',\n",
       "   'ilcPrimaryShelf': 'DARY-0-28-1-1',\n",
       "   'ilcShelves': ['DARY-0-28-1-1',\n",
       "    'DARY-0-28-1-1',\n",
       "    'DARY-0-28-1-1',\n",
       "    'DARY-0-28-1-1']}],\n",
       " 'linked': {}}"
      ]
     },
     "execution_count": 31,
     "metadata": {},
     "output_type": "execute_result"
    }
   ],
   "source": [
    "get_upc(self,storeID=store[\"unitid\"])"
   ]
  },
  {
   "cell_type": "code",
   "execution_count": 29,
   "metadata": {},
   "outputs": [
    {
     "data": {
      "text/plain": [
       "[{'FuelType': 'UNL-Regular Unleaded',\n",
       "  'FuelPrice': 2.519,\n",
       "  'PriceEffectiveDate': '2019-11-22T14:47:39.757'},\n",
       " {'FuelType': 'MID-Medium Unleaded',\n",
       "  'FuelPrice': 2.769,\n",
       "  'PriceEffectiveDate': '2019-11-22T14:47:39.757'},\n",
       " {'FuelType': 'PREM-Premium Unleaded',\n",
       "  'FuelPrice': 3.069,\n",
       "  'PriceEffectiveDate': '2019-11-22T14:47:39.757'},\n",
       " {'FuelType': 'DSL-Diesel',\n",
       "  'FuelPrice': 2.989,\n",
       "  'PriceEffectiveDate': '2019-11-22T14:47:39.757'},\n",
       " {'FuelType': 'E85-Premium Unleaded',\n",
       "  'FuelPrice': 2.419,\n",
       "  'PriceEffectiveDate': '2019-11-22T14:47:39.757'}]"
      ]
     },
     "execution_count": 29,
     "metadata": {},
     "output_type": "execute_result"
    }
   ],
   "source": [
    "store[\"FuelPrices\"]"
   ]
  },
  {
   "cell_type": "code",
   "execution_count": 23,
   "metadata": {},
   "outputs": [
    {
     "data": {
      "text/plain": [
       "{'meta': {'totalResults': 0,\n",
       "  'startingIndex': 0,\n",
       "  'resultsReturned': 0,\n",
       "  'sort': 'score desc,upc asc',\n",
       "  'facets': [{'field': 'hw_claims',\n",
       "    'displayName': 'Health and Wellness',\n",
       "    'type': 'value',\n",
       "    'values': []},\n",
       "   {'field': 'ways_to_save',\n",
       "    'displayName': 'Ways to Save',\n",
       "    'type': 'value',\n",
       "    'values': []}],\n",
       "  'categories': [{'field': 'TierId',\n",
       "    'displayName': 'Category',\n",
       "    'values': []}]},\n",
       " 'upcs': [],\n",
       " 'linked': {}}"
      ]
     },
     "execution_count": 23,
     "metadata": {},
     "output_type": "execute_result"
    }
   ],
   "source": [
    "upc_data"
   ]
  },
  {
   "cell_type": "code",
   "execution_count": 10,
   "metadata": {},
   "outputs": [],
   "source": [
    "r = add_upc(self)"
   ]
  },
  {
   "cell_type": "code",
   "execution_count": 14,
   "metadata": {},
   "outputs": [
    {
     "data": {
      "text/plain": [
       "2.99"
      ]
     },
     "execution_count": 14,
     "metadata": {},
     "output_type": "execute_result"
    }
   ],
   "source": [
    "r[\"upcs\"][0][\"priceValue\"]"
   ]
  },
  {
   "cell_type": "code",
   "execution_count": null,
   "metadata": {},
   "outputs": [],
   "source": [
    "https://mservices.meijer.com/DRNavMobileSvc/search/products?storeId=20&q.upc=4125010200 "
   ]
  },
  {
   "cell_type": "code",
   "execution_count": null,
   "metadata": {},
   "outputs": [],
   "source": []
  },
  {
   "cell_type": "code",
   "execution_count": null,
   "metadata": {},
   "outputs": [],
   "source": [
    "def get_list(self):\n",
    "    request = dict()\n",
    "    request[\"url\"] = \"https://mservices.meijer.com/listmanagement/api/list\"\n",
    "    request[\"headers\"] = {\n",
    "        \"Accept\": \"application/meijer.shoppingList.ShoppingList-v1.0+json\",\n",
    "    }\n",
    "    r = self.get(**request)\n",
    "    return r"
   ]
  },
  {
   "cell_type": "code",
   "execution_count": null,
   "metadata": {},
   "outputs": [],
   "source": [
    "def get_favorites(self):\n",
    "    request = dict()\n",
    "    request[\"url\"] = \"https://mservices.meijer.com/listmanagement/api/favorites\"\n",
    "    request[\"headers\"] = {\n",
    "        \"Accept\": \"application/vnd.meijer.favorites-v1.0+json\",\n",
    "    }\n",
    "    r = self.get(**request)\n",
    "    return r"
   ]
  },
  {
   "cell_type": "code",
   "execution_count": null,
   "metadata": {},
   "outputs": [],
   "source": [
    "r = get_favorites(self)\n",
    "r"
   ]
  },
  {
   "cell_type": "code",
   "execution_count": null,
   "metadata": {},
   "outputs": [],
   "source": [
    "r = get_list(self)"
   ]
  },
  {
   "cell_type": "code",
   "execution_count": null,
   "metadata": {},
   "outputs": [],
   "source": [
    "r"
   ]
  },
  {
   "cell_type": "code",
   "execution_count": null,
   "metadata": {},
   "outputs": [],
   "source": [
    "def list_add(self, description):\n",
    "    request = dict()\n",
    "    request[\"url\"] = \"https://mservices.meijer.com/listmanagement/api/list\"\n",
    "    request[\"headers\"] = {\n",
    "        \"Accept\": \"application/vnd.meijer.listManagement.list-v1.0+json\",\n",
    "        \"Content-Type\": \"application/vnd.meijer.listManagement.list-v1.0+json\",\n",
    "    }\n",
    "    request[\"json\"] = {'listItems': [{\n",
    "   'itemDescription': description,\n",
    "   'quantity': 1,\n",
    "    }]}\n",
    "    r = self.post(**request)\n",
    "    return r"
   ]
  },
  {
   "cell_type": "code",
   "execution_count": null,
   "metadata": {},
   "outputs": [],
   "source": [
    "list_add(self, \"FooBaz100\")"
   ]
  },
  {
   "cell_type": "code",
   "execution_count": null,
   "metadata": {},
   "outputs": [],
   "source": [
    "for i in range(10):\n",
    "    list_add(self, f\"Hello World {str(i)}\")"
   ]
  },
  {
   "cell_type": "code",
   "execution_count": null,
   "metadata": {},
   "outputs": [],
   "source": [
    "import json"
   ]
  },
  {
   "cell_type": "code",
   "execution_count": null,
   "metadata": {},
   "outputs": [],
   "source": [
    "for list_item in r[\"listItems\"]:\n",
    "    break"
   ]
  },
  {
   "cell_type": "code",
   "execution_count": null,
   "metadata": {},
   "outputs": [],
   "source": []
  },
  {
   "cell_type": "code",
   "execution_count": null,
   "metadata": {},
   "outputs": [],
   "source": [
    "def list_complete(self, item_id):\n",
    "    request = dict()\n",
    "    request[\"url\"] = f\"https://mservices.meijer.com/listmanagement/api/listItem/markascompleted/{item_id}\"\n",
    "    request[\"headers\"] = {\n",
    "        \"Accept\": \"application/vnd.meijer.listManagement.list-v1.0+json\",\n",
    "        \"Content-Type\": \"application/vnd.meijer.listManagement.list-v1.0+json\",\n",
    "    }\n",
    "    r = self.session.put(**request)\n",
    "    return r"
   ]
  },
  {
   "cell_type": "code",
   "execution_count": null,
   "metadata": {},
   "outputs": [],
   "source": [
    "def list_uncomplete(self, item_id):\n",
    "    request = dict()\n",
    "    request[\"url\"] = f\"https://mservices.meijer.com/listmanagement/api/listItem/markasnotcompleted/{item_id}\"\n",
    "    request[\"headers\"] = {\n",
    "        \"Accept\": \"application/vnd.meijer.listManagement.list-v1.0+json\",\n",
    "        \"Content-Type\": \"application/vnd.meijer.listManagement.list-v1.0+json\",\n",
    "    }\n",
    "    r = self.session.put(**request)\n",
    "    return r"
   ]
  },
  {
   "cell_type": "code",
   "execution_count": null,
   "metadata": {},
   "outputs": [],
   "source": [
    "list_ = get_list(self)"
   ]
  },
  {
   "cell_type": "code",
   "execution_count": null,
   "metadata": {},
   "outputs": [],
   "source": [
    "for item in list_[\"listItems\"]:\n",
    "    list_complete(self, item[\"listItemId\"])"
   ]
  },
  {
   "cell_type": "code",
   "execution_count": null,
   "metadata": {},
   "outputs": [],
   "source": [
    "class MeijerList(object):\n",
    "    \"\"\"Meijer Shopping List.\"\"\"\n",
    "    def __init__(self, meijer=None):\n",
    "        if meijer is None:\n",
    "            self.meijer=Meijer()\n",
    "        else:\n",
    "            self.meijer=meijer\n",
    "        \n",
    "    def get(self):\n",
    "        request = dict()\n",
    "        request[\"url\"] = \"https://mservices.meijer.com/listmanagement/api/list\"\n",
    "        request[\"headers\"] = {\n",
    "            \"Accept\": \"application/meijer.shoppingList.ShoppingList-v1.0+json\",\n",
    "        }\n",
    "        r = self.meijer.get(**request)\n",
    "        return r\n",
    "    \n",
    "    def add(self, description):\n",
    "        request = dict()\n",
    "        request[\"url\"] = \"https://mservices.meijer.com/listmanagement/api/list\"\n",
    "        request[\"headers\"] = {\n",
    "            \"Accept\": \"application/vnd.meijer.listManagement.list-v1.0+json\",\n",
    "            \"Content-Type\": \"application/vnd.meijer.listManagement.list-v1.0+json\",\n",
    "        }\n",
    "        request[\"json\"] = {'listItems': [{\n",
    "       'itemDescription': description,\n",
    "       'quantity': 1,\n",
    "        }]}\n",
    "        r = self.post(**request)\n",
    "        return r\n",
    "    \n",
    "    def complete(self, item: [dict, int]):\n",
    "        if isinstance(item, dict) and \"listItemId\" in item:\n",
    "            listItemId = item[\"listItemId\"]\n",
    "        elif isinstance(item, int):\n",
    "            listItemId = item\n",
    "        request = dict()\n",
    "        request[\"url\"] = f\"https://mservices.meijer.com/listmanagement/api/listItem/markascompleted/{listItemId}\"\n",
    "        request[\"headers\"] = {\n",
    "            \"Accept\": \"application/vnd.meijer.listManagement.list-v1.0+json\",\n",
    "            \"Content-Type\": \"application/vnd.meijer.listManagement.list-v1.0+json\",\n",
    "        }\n",
    "        r = self.meijer.put(**request)\n",
    "        return r\n",
    "\n",
    "    def uncomplete(self, item: [dict, int]):\n",
    "        if isinstance(item, dict) and \"listItemId\" in item:\n",
    "            listItemId = item[\"listItemId\"]\n",
    "        elif isinstance(item, int):\n",
    "            listItemId = item\n",
    "        request = dict()\n",
    "        request[\"url\"] = f\"https://mservices.meijer.com/listmanagement/api/listItem/markasnotcompleted/{listItemId}\"\n",
    "        request[\"headers\"] = {\n",
    "            \"Accept\": \"application/vnd.meijer.listManagement.list-v1.0+json\",\n",
    "            \"Content-Type\": \"application/vnd.meijer.listManagement.list-v1.0+json\",\n",
    "        }\n",
    "        r = self.meijer.put(**request)\n",
    "        return r\n",
    "    \n",
    "    @property\n",
    "    def items(self):\n",
    "        return self.get()[\"listItems\"]\n",
    "\n",
    "    @property\n",
    "    def count(self):\n",
    "        r = self.get()\n",
    "        assert r[\"totalCount\"] == len(r[\"listItems\"])\n",
    "        return r[\"totalCount\"]"
   ]
  },
  {
   "cell_type": "code",
   "execution_count": null,
   "metadata": {},
   "outputs": [],
   "source": [
    "shopping_list = MeijerList(meijer=self)"
   ]
  },
  {
   "cell_type": "code",
   "execution_count": null,
   "metadata": {},
   "outputs": [],
   "source": [
    "for item in shopping_list.items:\n",
    "    shopping_list.uncomplete(item)"
   ]
  },
  {
   "cell_type": "code",
   "execution_count": null,
   "metadata": {},
   "outputs": [],
   "source": [
    "shopping_list.get()"
   ]
  },
  {
   "cell_type": "code",
   "execution_count": null,
   "metadata": {},
   "outputs": [],
   "source": [
    "shopping_list.count"
   ]
  },
  {
   "cell_type": "code",
   "execution_count": null,
   "metadata": {},
   "outputs": [],
   "source": [
    "l = shopping_list.get()"
   ]
  },
  {
   "cell_type": "code",
   "execution_count": null,
   "metadata": {},
   "outputs": [],
   "source": []
  },
  {
   "cell_type": "code",
   "execution_count": null,
   "metadata": {},
   "outputs": [],
   "source": []
  },
  {
   "cell_type": "code",
   "execution_count": null,
   "metadata": {},
   "outputs": [],
   "source": []
  }
 ],
 "metadata": {
  "kernelspec": {
   "display_name": "Python 3",
   "language": "python",
   "name": "python3"
  },
  "language_info": {
   "codemirror_mode": {
    "name": "ipython",
    "version": 3
   },
   "file_extension": ".py",
   "mimetype": "text/x-python",
   "name": "python",
   "nbconvert_exporter": "python",
   "pygments_lexer": "ipython3",
   "version": "3.8.0"
  }
 },
 "nbformat": 4,
 "nbformat_minor": 2
}
