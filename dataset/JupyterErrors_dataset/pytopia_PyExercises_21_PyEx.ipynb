{
 "cells": [
  {
   "cell_type": "markdown",
   "id": "60bb1d05-cb22-4695-a7d9-150ea8ab8216",
   "metadata": {},
   "source": [
    "# 21 - Advanced Exercises\n",
    "\n",
    "*   The Meaning of Underscore (_)"
   ]
  },
  {
   "cell_type": "markdown",
   "id": "a3e98e84-22e6-491f-97d9-ac3d22ff470d",
   "metadata": {},
   "source": [
    "## 🥦🥦🥦\n",
    "1.Fix the error in the following code and explain why it occurred. \n"
   ]
  },
  {
   "cell_type": "code",
   "execution_count": 1,
   "id": "f2600395-e1b9-4c9b-9593-3b4bb99abb84",
   "metadata": {},
   "outputs": [
    {
     "name": "stdout",
     "output_type": "stream",
     "text": [
      " two real root \n",
      "-1.0\n",
      "-2.0\n"
     ]
    },
    {
     "ename": "NameError",
     "evalue": "name '_delta' is not defined",
     "output_type": "error",
     "traceback": [
      "\u001b[0;31m---------------------------------------------------------------------------\u001b[0m",
      "\u001b[0;31mNameError\u001b[0m                                 Traceback (most recent call last)",
      "\u001b[0;32m/tmp/ipykernel_3145/807721378.py\u001b[0m in \u001b[0;36m<module>\u001b[0;34m\u001b[0m\n\u001b[1;32m      4\u001b[0m \u001b[0mquadratic\u001b[0m\u001b[0;34m(\u001b[0m\u001b[0ma\u001b[0m\u001b[0;34m,\u001b[0m \u001b[0mb\u001b[0m\u001b[0;34m,\u001b[0m \u001b[0mc\u001b[0m\u001b[0;34m)\u001b[0m\u001b[0;34m\u001b[0m\u001b[0;34m\u001b[0m\u001b[0m\n\u001b[1;32m      5\u001b[0m \u001b[0;31m# Find discriminant of this quadratic equation delta = b^2 - 4ac\u001b[0m\u001b[0;34m\u001b[0m\u001b[0;34m\u001b[0m\u001b[0m\n\u001b[0;32m----> 6\u001b[0;31m \u001b[0mprint\u001b[0m\u001b[0;34m(\u001b[0m\u001b[0;34mf\"the discriminant of this quadratic equation is equal to :{_delta(a, b, c)}\"\u001b[0m\u001b[0;34m)\u001b[0m\u001b[0;34m\u001b[0m\u001b[0;34m\u001b[0m\u001b[0m\n\u001b[0m",
      "\u001b[0;31mNameError\u001b[0m: name '_delta' is not defined"
     ]
    }
   ],
   "source": [
    "# Write your own code in this cell\n",
    "from Files.underscore.utils import *\n",
    "\n",
    "a, b, c = 1, 3, 2\n",
    "# Find the roots of quadratic equation ax^2 + bx + c = 0\n",
    "quadratic(a, b, c)\n",
    "# Find discriminant of this quadratic equation delta = b^2 - 4ac\n",
    "print(f\"the discriminant of this quadratic equation is equal to :{_delta(a, b, c)}\")"
   ]
  },
  {
   "cell_type": "markdown",
   "id": "27eff95b-66a5-4fd2-ae11-dd580701e3ee",
   "metadata": {},
   "source": [
    "## 🥦🥦🥦\n",
    "2.Fix the error in the following code and explain why it occurred. \n",
    "\n",
    "(*Please do not change the variable names to make it easier to read the code, and only use underscores.*)\n"
   ]
  },
  {
   "cell_type": "code",
   "execution_count": 2,
   "id": "41790472-b828-4c8d-8bb0-1fa11e16af31",
   "metadata": {},
   "outputs": [
    {
     "name": "stdout",
     "output_type": "stream",
     "text": [
      "Rostam vs. Sohrab\n"
     ]
    },
    {
     "ename": "TypeError",
     "evalue": "'list' object is not callable",
     "output_type": "error",
     "traceback": [
      "\u001b[0;31m---------------------------------------------------------------------------\u001b[0m",
      "\u001b[0;31mTypeError\u001b[0m                                 Traceback (most recent call last)",
      "\u001b[0;32m/tmp/ipykernel_3145/2561219957.py\u001b[0m in \u001b[0;36m<module>\u001b[0;34m\u001b[0m\n\u001b[1;32m      2\u001b[0m \u001b[0meldest_son\u001b[0m  \u001b[0;34m=\u001b[0m \u001b[0mlist\u001b[0m\u001b[0;34m[\u001b[0m\u001b[0;36m0\u001b[0m\u001b[0;34m]\u001b[0m\u001b[0;34m\u001b[0m\u001b[0;34m\u001b[0m\u001b[0m\n\u001b[1;32m      3\u001b[0m \u001b[0mprint\u001b[0m\u001b[0;34m(\u001b[0m\u001b[0mname\u001b[0m \u001b[0;34m,\u001b[0m \u001b[0;34m\"vs.\"\u001b[0m\u001b[0;34m,\u001b[0m \u001b[0meldest_son\u001b[0m\u001b[0;34m)\u001b[0m\u001b[0;34m\u001b[0m\u001b[0;34m\u001b[0m\u001b[0m\n\u001b[0;32m----> 4\u001b[0;31m \u001b[0mlist\u001b[0m\u001b[0;34m(\u001b[0m\u001b[0;34m{\u001b[0m\u001b[0;36m1\u001b[0m\u001b[0;34m,\u001b[0m \u001b[0;36m2\u001b[0m\u001b[0;34m,\u001b[0m \u001b[0;36m3\u001b[0m \u001b[0;34m,\u001b[0m\u001b[0;36m4\u001b[0m\u001b[0;34m}\u001b[0m\u001b[0;34m)\u001b[0m\u001b[0;34m\u001b[0m\u001b[0;34m\u001b[0m\u001b[0m\n\u001b[0m",
      "\u001b[0;31mTypeError\u001b[0m: 'list' object is not callable"
     ]
    }
   ],
   "source": [
    "# Write your own code in this cell\n",
    "name , list , _ = (\"Rostam\", [\"Sohrab\", \"Faramarz\"], 2_000_000)\n",
    "eldest_son  = list[0]\n",
    "print(name , \"vs.\", eldest_son)\n",
    "list({1, 2, 3 ,4})"
   ]
  },
  {
   "cell_type": "markdown",
   "id": "ce0654f7-6cf1-40b4-b3cc-fadd6ae7f13d",
   "metadata": {},
   "source": [
    "## 🥦\n",
    "3.Is it possible to print the  $\\Pi$  using the **```m```** object and **```Math```** class? "
   ]
  },
  {
   "cell_type": "code",
   "execution_count": null,
   "id": "8c19c05b-9634-4133-a529-34b471419d19",
   "metadata": {},
   "outputs": [],
   "source": [
    "# Write your own code in this cell\n",
    "class Math(object):\n",
    "    def __init__(self):\n",
    "        self.__pi = 3.141_592_653_589_793_238_462_643\n",
    "    def circle_area(self, radius):\n",
    "        return self.__pi * (radius**2)\n",
    "m = Math()\n",
    "print(m.circle_area(3))\n",
    "# Using m\n",
    "print(m.     )\n",
    "# Using Math class\n",
    "print(Math().    )"
   ]
  },
  {
   "cell_type": "markdown",
   "id": "63b6f85c-e349-486b-a245-da20e83c9d80",
   "metadata": {},
   "source": [
    "## 🥦\n",
    "4.In the interpreter: The _ name points to the result of the last executed statement in an interactive interpreter session."
   ]
  },
  {
   "cell_type": "code",
   "execution_count": null,
   "id": "bb5e2c5b-2fa0-41f0-8b57-aa386e4995c7",
   "metadata": {},
   "outputs": [],
   "source": [
    "# Run this cell\n",
    "20 * 21"
   ]
  },
  {
   "cell_type": "code",
   "execution_count": null,
   "id": "c74cf7eb-4dfa-442d-8ff1-e460aed25217",
   "metadata": {},
   "outputs": [],
   "source": [
    "# Run this cell\n",
    "_"
   ]
  },
  {
   "cell_type": "markdown",
   "id": "554ac005-5da5-407c-ae7c-4ff6cbab9eda",
   "metadata": {},
   "source": [
    "in the followning cell what number do you think will be displayed if you **```print(_)```** based on the above description? "
   ]
  },
  {
   "cell_type": "code",
   "execution_count": null,
   "id": "5a1e6a48-f86a-4c9a-891e-aae6afa54389",
   "metadata": {},
   "outputs": [],
   "source": [
    "# Write your own code in this cell\n",
    "list1, _, list2 = ([1, 2, 3, 4, 5], -1, [6, 7, 8, 9, 10])\n",
    "list1.extend(list2)\n",
    "sum_ = 0\n",
    "for i in list1:\n",
    "     sum_ = i * (i+1)\n",
    "print(sum_)\n",
    "print()"
   ]
  }
 ],
 "metadata": {
  "kernelspec": {
   "display_name": "Python 3 (ipykernel)",
   "language": "python",
   "name": "python3"
  },
  "language_info": {
   "codemirror_mode": {
    "name": "ipython",
    "version": 3
   },
   "file_extension": ".py",
   "mimetype": "text/x-python",
   "name": "python",
   "nbconvert_exporter": "python",
   "pygments_lexer": "ipython3",
   "version": "3.9.7"
  }
 },
 "nbformat": 4,
 "nbformat_minor": 5
}
