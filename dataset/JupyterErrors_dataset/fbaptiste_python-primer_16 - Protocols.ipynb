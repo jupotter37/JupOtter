{
 "cells": [
  {
   "cell_type": "markdown",
   "id": "3e877d0f",
   "metadata": {},
   "source": [
    "### Protocols"
   ]
  },
  {
   "cell_type": "markdown",
   "id": "f3439424",
   "metadata": {},
   "source": [
    "Python is a protocol based language."
   ]
  },
  {
   "cell_type": "markdown",
   "id": "e29305d8",
   "metadata": {},
   "source": [
    "If you're coming from Java, you can think of protocols the same way you think of interfaces."
   ]
  },
  {
   "cell_type": "markdown",
   "id": "ba8a4161",
   "metadata": {},
   "source": [
    "Except Python does not have this very strict idea of an interface."
   ]
  },
  {
   "cell_type": "markdown",
   "id": "61f22a35",
   "metadata": {},
   "source": [
    "You simply add some functions to your class using a specific name, and if Python finds it there, it will use it. The onus is on you to get the naming right, and correctly implementing any specific set of these functions that loosely make up the protocol yourself."
   ]
  },
  {
   "cell_type": "markdown",
   "id": "7c69eaf8",
   "metadata": {},
   "source": [
    "#### The `str` and `repr` Protocols"
   ]
  },
  {
   "cell_type": "markdown",
   "id": "bb24b089",
   "metadata": {},
   "source": [
    "Let's take a look at a very simple example."
   ]
  },
  {
   "cell_type": "markdown",
   "id": "d878667e",
   "metadata": {},
   "source": [
    "When we have an object, we can as for it's string representation in two ways:"
   ]
  },
  {
   "cell_type": "code",
   "execution_count": 2,
   "id": "98471e29",
   "metadata": {},
   "outputs": [],
   "source": [
    "a = 10"
   ]
  },
  {
   "cell_type": "code",
   "execution_count": 3,
   "id": "4eb02b39",
   "metadata": {},
   "outputs": [
    {
     "data": {
      "text/plain": [
       "'10'"
      ]
     },
     "execution_count": 3,
     "metadata": {},
     "output_type": "execute_result"
    }
   ],
   "source": [
    "str(a)"
   ]
  },
  {
   "cell_type": "code",
   "execution_count": 4,
   "id": "6264ff9c",
   "metadata": {},
   "outputs": [
    {
     "data": {
      "text/plain": [
       "'10'"
      ]
     },
     "execution_count": 4,
     "metadata": {},
     "output_type": "execute_result"
    }
   ],
   "source": [
    "repr(a)"
   ]
  },
  {
   "cell_type": "markdown",
   "id": "a843f82e",
   "metadata": {},
   "source": [
    "These look identical, but that is not always the case. In general `str` is used for end-user display, and `repr` is used for development (or debugging) display."
   ]
  },
  {
   "cell_type": "markdown",
   "id": "593fbec0",
   "metadata": {},
   "source": [
    "For example:"
   ]
  },
  {
   "cell_type": "code",
   "execution_count": 6,
   "id": "40934468",
   "metadata": {},
   "outputs": [],
   "source": [
    "from fractions import Fraction"
   ]
  },
  {
   "cell_type": "code",
   "execution_count": 7,
   "id": "31927e84",
   "metadata": {},
   "outputs": [],
   "source": [
    "f = Fraction(1, 2)"
   ]
  },
  {
   "cell_type": "code",
   "execution_count": 8,
   "id": "93ff3206",
   "metadata": {},
   "outputs": [
    {
     "data": {
      "text/plain": [
       "'1/2'"
      ]
     },
     "execution_count": 8,
     "metadata": {},
     "output_type": "execute_result"
    }
   ],
   "source": [
    "str(f)"
   ]
  },
  {
   "cell_type": "code",
   "execution_count": 9,
   "id": "303bf594",
   "metadata": {},
   "outputs": [
    {
     "data": {
      "text/plain": [
       "'Fraction(1, 2)'"
      ]
     },
     "execution_count": 9,
     "metadata": {},
     "output_type": "execute_result"
    }
   ],
   "source": [
    "repr(f)"
   ]
  },
  {
   "cell_type": "markdown",
   "id": "1873996d",
   "metadata": {},
   "source": [
    "Each class may implement it's own mechanism for returning a value for either `str` or `repr`."
   ]
  },
  {
   "cell_type": "markdown",
   "id": "4c75dc25",
   "metadata": {},
   "source": [
    "This is done by implementing the correct protocol."
   ]
  },
  {
   "cell_type": "markdown",
   "id": "39f49a24",
   "metadata": {},
   "source": [
    "Let's create our own class and implement both the `str` and the `repr` protocols:"
   ]
  },
  {
   "cell_type": "code",
   "execution_count": 10,
   "id": "c5cd306d",
   "metadata": {},
   "outputs": [],
   "source": [
    "class Person:\n",
    "    def __init__(self, name):\n",
    "        self.name = name\n",
    "        \n",
    "    def __str__(self):\n",
    "        return self.name.strip()\n",
    "    \n",
    "    def __repr__(self):\n",
    "        return f\"Person(name='{self.name}')\""
   ]
  },
  {
   "cell_type": "markdown",
   "id": "f9e1b609",
   "metadata": {},
   "source": [
    "As you can see we simply implemented to specially name instance methods: `__str__` and `__repr__`.\n",
    "\n",
    "Let's use them:"
   ]
  },
  {
   "cell_type": "code",
   "execution_count": 11,
   "id": "340d5d4e",
   "metadata": {},
   "outputs": [],
   "source": [
    "p = Person('Isaac Newton')"
   ]
  },
  {
   "cell_type": "markdown",
   "id": "8eb01bff",
   "metadata": {},
   "source": [
    "Now these are just instance methods, and can be called that way:"
   ]
  },
  {
   "cell_type": "code",
   "execution_count": 14,
   "id": "636c95c4",
   "metadata": {},
   "outputs": [
    {
     "data": {
      "text/plain": [
       "'Isaac Newton'"
      ]
     },
     "execution_count": 14,
     "metadata": {},
     "output_type": "execute_result"
    }
   ],
   "source": [
    "p.__str__()"
   ]
  },
  {
   "cell_type": "code",
   "execution_count": 15,
   "id": "e647428f",
   "metadata": {},
   "outputs": [
    {
     "data": {
      "text/plain": [
       "\"Person(name='Isaac Newton')\""
      ]
     },
     "execution_count": 15,
     "metadata": {},
     "output_type": "execute_result"
    }
   ],
   "source": [
    "p.__repr__()"
   ]
  },
  {
   "cell_type": "markdown",
   "id": "9a63c4f3",
   "metadata": {},
   "source": [
    "But, because of the special names we used, when we use the `str()` and `repr()` functions, Python will find and use our custom `__str__` and `__repr__` methods instead:"
   ]
  },
  {
   "cell_type": "code",
   "execution_count": 16,
   "id": "c07951ee",
   "metadata": {},
   "outputs": [
    {
     "data": {
      "text/plain": [
       "'Isaac Newton'"
      ]
     },
     "execution_count": 16,
     "metadata": {},
     "output_type": "execute_result"
    }
   ],
   "source": [
    "str(p)"
   ]
  },
  {
   "cell_type": "code",
   "execution_count": 17,
   "id": "1104d9b9",
   "metadata": {},
   "outputs": [
    {
     "data": {
      "text/plain": [
       "\"Person(name='Isaac Newton')\""
      ]
     },
     "execution_count": 17,
     "metadata": {},
     "output_type": "execute_result"
    }
   ],
   "source": [
    "repr(p)"
   ]
  },
  {
   "cell_type": "markdown",
   "id": "30e15329",
   "metadata": {},
   "source": [
    "In Python, every class directly or indirectly, inherits from the `object` class. This class provides standard implementations for a lot of protocols."
   ]
  },
  {
   "cell_type": "code",
   "execution_count": 18,
   "id": "2d6a7ea2",
   "metadata": {},
   "outputs": [],
   "source": [
    "class Point:\n",
    "    def __init__(self, x, y):\n",
    "        self.x = x\n",
    "        self.y = y"
   ]
  },
  {
   "cell_type": "code",
   "execution_count": 19,
   "id": "cbf8c2b8",
   "metadata": {},
   "outputs": [],
   "source": [
    "p = Point(1, 2)"
   ]
  },
  {
   "cell_type": "code",
   "execution_count": 20,
   "id": "6b34d22c",
   "metadata": {},
   "outputs": [
    {
     "data": {
      "text/plain": [
       "'<__main__.Point object at 0x7fc8e855ebb0>'"
      ]
     },
     "execution_count": 20,
     "metadata": {},
     "output_type": "execute_result"
    }
   ],
   "source": [
    "str(p)"
   ]
  },
  {
   "cell_type": "code",
   "execution_count": 21,
   "id": "1890c761",
   "metadata": {},
   "outputs": [
    {
     "data": {
      "text/plain": [
       "'<__main__.Point object at 0x7fc8e855ebb0>'"
      ]
     },
     "execution_count": 21,
     "metadata": {},
     "output_type": "execute_result"
    }
   ],
   "source": [
    "repr(p)"
   ]
  },
  {
   "cell_type": "markdown",
   "id": "a59a519a",
   "metadata": {},
   "source": [
    "As you can see the default string and representations simply document the class that was used to create that object, and the memory address of the instance. As you saw, we can override this default behavior by implementing our own special functions."
   ]
  },
  {
   "cell_type": "markdown",
   "id": "c1a0f887",
   "metadata": {},
   "source": [
    "#### The `addition` Protocol"
   ]
  },
  {
   "cell_type": "markdown",
   "id": "c01a8a43",
   "metadata": {},
   "source": [
    "When we write something like this in Python:"
   ]
  },
  {
   "cell_type": "code",
   "execution_count": 23,
   "id": "56ac01b2",
   "metadata": {},
   "outputs": [
    {
     "data": {
      "text/plain": [
       "3"
      ]
     },
     "execution_count": 23,
     "metadata": {},
     "output_type": "execute_result"
    }
   ],
   "source": [
    "1 + 2"
   ]
  },
  {
   "cell_type": "markdown",
   "id": "bc43c0f9",
   "metadata": {},
   "source": [
    "What is actually happening, is that integres implement the addition protocol, and when Python sees\n",
    "\n",
    "```\n",
    "1 + 2\n",
    "```\n",
    "\n",
    "it actually uses the addition protocol defined by integers to evaluate that statement."
   ]
  },
  {
   "cell_type": "markdown",
   "id": "ac5fc3a5",
   "metadata": {},
   "source": [
    "We can implement this protocol in our custom classes too."
   ]
  },
  {
   "cell_type": "markdown",
   "id": "d90d802a",
   "metadata": {},
   "source": [
    "Let's start by creating a basic vector class:"
   ]
  },
  {
   "cell_type": "code",
   "execution_count": 25,
   "id": "1edd17fe",
   "metadata": {},
   "outputs": [],
   "source": [
    "class Vector:\n",
    "    def __init__(self, x, y):\n",
    "        self.x = x\n",
    "        self.y = y\n",
    "        \n",
    "    def __repr__(self):\n",
    "        return f\"Vector({self.x}, {self.y})\"\n",
    "    \n",
    "    def __str__(self):\n",
    "        return f\"({self.x}, {self.y})\""
   ]
  },
  {
   "cell_type": "code",
   "execution_count": 26,
   "id": "91c1e2cb",
   "metadata": {},
   "outputs": [],
   "source": [
    "v1 = Vector(1, 2)\n",
    "v2 = Vector(10, 20)"
   ]
  },
  {
   "cell_type": "markdown",
   "id": "4dde2fc1",
   "metadata": {},
   "source": [
    "We implemented the str and repr protocols, so we can do this:"
   ]
  },
  {
   "cell_type": "code",
   "execution_count": 28,
   "id": "de660add",
   "metadata": {},
   "outputs": [
    {
     "name": "stdout",
     "output_type": "stream",
     "text": [
      "(1, 2)\n",
      "Vector(1, 2)\n"
     ]
    }
   ],
   "source": [
    "print(str(v1))\n",
    "print(repr(v1))"
   ]
  },
  {
   "cell_type": "markdown",
   "id": "c2502d0d",
   "metadata": {},
   "source": [
    "But we cannot add those two vectors:"
   ]
  },
  {
   "cell_type": "code",
   "execution_count": 29,
   "id": "23d1e9f2",
   "metadata": {},
   "outputs": [
    {
     "ename": "TypeError",
     "evalue": "unsupported operand type(s) for +: 'Vector' and 'Vector'",
     "output_type": "error",
     "traceback": [
      "\u001b[0;31m---------------------------------------------------------------------------\u001b[0m",
      "\u001b[0;31mTypeError\u001b[0m                                 Traceback (most recent call last)",
      "\u001b[0;32m/var/folders/yt/fs7d95zj7bvc5xmlfkzy3cyw0000gn/T/ipykernel_11249/1072461077.py\u001b[0m in \u001b[0;36m<module>\u001b[0;34m\u001b[0m\n\u001b[0;32m----> 1\u001b[0;31m \u001b[0mv1\u001b[0m \u001b[0;34m+\u001b[0m \u001b[0mv2\u001b[0m\u001b[0;34m\u001b[0m\u001b[0;34m\u001b[0m\u001b[0m\n\u001b[0m",
      "\u001b[0;31mTypeError\u001b[0m: unsupported operand type(s) for +: 'Vector' and 'Vector'"
     ]
    }
   ],
   "source": [
    "v1 + v2"
   ]
  },
  {
   "cell_type": "markdown",
   "id": "bd90523c",
   "metadata": {},
   "source": [
    "As you can see Python is telling us it does not know how to add two `Vector` instances together."
   ]
  },
  {
   "cell_type": "markdown",
   "id": "5fc39da2",
   "metadata": {},
   "source": [
    "We can tell Python how to do that, by simply implementin the `add` protocol:"
   ]
  },
  {
   "cell_type": "code",
   "execution_count": 30,
   "id": "54545080",
   "metadata": {},
   "outputs": [],
   "source": [
    "class Vector:\n",
    "    def __init__(self, x, y):\n",
    "        self.x = x\n",
    "        self.y = y\n",
    "        \n",
    "    def __repr__(self):\n",
    "        return f\"Vector({self.x}, {self.y})\"\n",
    "    \n",
    "    def __str__(self):\n",
    "        return f\"({self.x}, {self.y})\"\n",
    "    \n",
    "    def __add__(self, other):\n",
    "        new_x = self.x + other.x\n",
    "        new_y = self.y + other.y\n",
    "        return Vector(new_x, new_y)"
   ]
  },
  {
   "cell_type": "markdown",
   "id": "df4e4778",
   "metadata": {},
   "source": [
    "Note: technically it would be better to check that `other` is also a `Vector` instance, but let's ignore that for now."
   ]
  },
  {
   "cell_type": "code",
   "execution_count": 32,
   "id": "1e7b4ff1",
   "metadata": {},
   "outputs": [],
   "source": [
    "v1 = Vector(1, 2)\n",
    "v2 = Vector(10, 20)"
   ]
  },
  {
   "cell_type": "markdown",
   "id": "cda6df10",
   "metadata": {},
   "source": [
    "And now we can add those two vectors together:"
   ]
  },
  {
   "cell_type": "code",
   "execution_count": 34,
   "id": "9a4a7445",
   "metadata": {},
   "outputs": [
    {
     "data": {
      "text/plain": [
       "Vector(11, 22)"
      ]
     },
     "execution_count": 34,
     "metadata": {},
     "output_type": "execute_result"
    }
   ],
   "source": [
    "v1 + v2"
   ]
  },
  {
   "cell_type": "markdown",
   "id": "6c47a34a",
   "metadata": {},
   "source": [
    "Ok, let's just go back and fix the `__add__` method, to at least make sure we are adding two vectors, because here's what happens right now:"
   ]
  },
  {
   "cell_type": "code",
   "execution_count": 35,
   "id": "f8141ff5",
   "metadata": {},
   "outputs": [
    {
     "ename": "AttributeError",
     "evalue": "'int' object has no attribute 'x'",
     "output_type": "error",
     "traceback": [
      "\u001b[0;31m---------------------------------------------------------------------------\u001b[0m",
      "\u001b[0;31mAttributeError\u001b[0m                            Traceback (most recent call last)",
      "\u001b[0;32m/var/folders/yt/fs7d95zj7bvc5xmlfkzy3cyw0000gn/T/ipykernel_11249/2907504966.py\u001b[0m in \u001b[0;36m<module>\u001b[0;34m\u001b[0m\n\u001b[0;32m----> 1\u001b[0;31m \u001b[0mv1\u001b[0m \u001b[0;34m+\u001b[0m \u001b[0;36m10\u001b[0m\u001b[0;34m\u001b[0m\u001b[0;34m\u001b[0m\u001b[0m\n\u001b[0m",
      "\u001b[0;32m/var/folders/yt/fs7d95zj7bvc5xmlfkzy3cyw0000gn/T/ipykernel_11249/3208433581.py\u001b[0m in \u001b[0;36m__add__\u001b[0;34m(self, other)\u001b[0m\n\u001b[1;32m     11\u001b[0m \u001b[0;34m\u001b[0m\u001b[0m\n\u001b[1;32m     12\u001b[0m     \u001b[0;32mdef\u001b[0m \u001b[0m__add__\u001b[0m\u001b[0;34m(\u001b[0m\u001b[0mself\u001b[0m\u001b[0;34m,\u001b[0m \u001b[0mother\u001b[0m\u001b[0;34m)\u001b[0m\u001b[0;34m:\u001b[0m\u001b[0;34m\u001b[0m\u001b[0;34m\u001b[0m\u001b[0m\n\u001b[0;32m---> 13\u001b[0;31m         \u001b[0mnew_x\u001b[0m \u001b[0;34m=\u001b[0m \u001b[0mself\u001b[0m\u001b[0;34m.\u001b[0m\u001b[0mx\u001b[0m \u001b[0;34m+\u001b[0m \u001b[0mother\u001b[0m\u001b[0;34m.\u001b[0m\u001b[0mx\u001b[0m\u001b[0;34m\u001b[0m\u001b[0;34m\u001b[0m\u001b[0m\n\u001b[0m\u001b[1;32m     14\u001b[0m         \u001b[0mnew_y\u001b[0m \u001b[0;34m=\u001b[0m \u001b[0mself\u001b[0m\u001b[0;34m.\u001b[0m\u001b[0my\u001b[0m \u001b[0;34m+\u001b[0m \u001b[0mother\u001b[0m\u001b[0;34m.\u001b[0m\u001b[0my\u001b[0m\u001b[0;34m\u001b[0m\u001b[0;34m\u001b[0m\u001b[0m\n\u001b[1;32m     15\u001b[0m         \u001b[0;32mreturn\u001b[0m \u001b[0mVector\u001b[0m\u001b[0;34m(\u001b[0m\u001b[0mnew_x\u001b[0m\u001b[0;34m,\u001b[0m \u001b[0mnew_y\u001b[0m\u001b[0;34m)\u001b[0m\u001b[0;34m\u001b[0m\u001b[0;34m\u001b[0m\u001b[0m\n",
      "\u001b[0;31mAttributeError\u001b[0m: 'int' object has no attribute 'x'"
     ]
    }
   ],
   "source": [
    "v1 + 10"
   ]
  },
  {
   "cell_type": "markdown",
   "id": "49ab1a6f",
   "metadata": {},
   "source": [
    "In fact, the weird things is that if we have another object with those `x` and `y` attributes, the addition may actually work!"
   ]
  },
  {
   "cell_type": "code",
   "execution_count": 41,
   "id": "26b24a9d",
   "metadata": {},
   "outputs": [],
   "source": [
    "class NotAVector:\n",
    "    def __init__(self, x, y, z):\n",
    "        self.x = x\n",
    "        self.y = y\n",
    "        self.x = z"
   ]
  },
  {
   "cell_type": "code",
   "execution_count": 42,
   "id": "dddf5021",
   "metadata": {},
   "outputs": [],
   "source": [
    "nav = NotAVector(10, 20, 30)"
   ]
  },
  {
   "cell_type": "code",
   "execution_count": 43,
   "id": "86a4823f",
   "metadata": {},
   "outputs": [
    {
     "data": {
      "text/plain": [
       "Vector(31, 22)"
      ]
     },
     "execution_count": 43,
     "metadata": {},
     "output_type": "execute_result"
    }
   ],
   "source": [
    "v1 + nav"
   ]
  },
  {
   "cell_type": "markdown",
   "id": "12f2fd9d",
   "metadata": {},
   "source": [
    "So, we may want to restrict our addition to only two vectors:"
   ]
  },
  {
   "cell_type": "code",
   "execution_count": 48,
   "id": "5bf0dee2",
   "metadata": {},
   "outputs": [],
   "source": [
    "class Vector:\n",
    "    def __init__(self, x, y):\n",
    "        self.x = x\n",
    "        self.y = y\n",
    "        \n",
    "    def __repr__(self):\n",
    "        return f\"Vector({self.x}, {self.y})\"\n",
    "    \n",
    "    def __str__(self):\n",
    "        return f\"({self.x}, {self.y})\"\n",
    "    \n",
    "    def __add__(self, other):\n",
    "        if not isinstance(other, Vector):\n",
    "            raise TypeError('Addition is only supported between two Vector instances.')\n",
    "        new_x = self.x + other.x\n",
    "        new_y = self.y + other.y\n",
    "        return Vector(new_x, new_y)"
   ]
  },
  {
   "cell_type": "code",
   "execution_count": 49,
   "id": "0dba56bf",
   "metadata": {},
   "outputs": [],
   "source": [
    "v1 = Vector(1, 2)\n",
    "v2 = Vector(10, 20)\n",
    "nav = NotAVector(10, 20, 30)"
   ]
  },
  {
   "cell_type": "code",
   "execution_count": 50,
   "id": "2f8113fc",
   "metadata": {},
   "outputs": [
    {
     "data": {
      "text/plain": [
       "Vector(11, 22)"
      ]
     },
     "execution_count": 50,
     "metadata": {},
     "output_type": "execute_result"
    }
   ],
   "source": [
    "v1 + v2"
   ]
  },
  {
   "cell_type": "code",
   "execution_count": 51,
   "id": "a32f41b8",
   "metadata": {},
   "outputs": [
    {
     "ename": "TypeError",
     "evalue": "Addition is only supported between two Vector instances.",
     "output_type": "error",
     "traceback": [
      "\u001b[0;31m---------------------------------------------------------------------------\u001b[0m",
      "\u001b[0;31mTypeError\u001b[0m                                 Traceback (most recent call last)",
      "\u001b[0;32m/var/folders/yt/fs7d95zj7bvc5xmlfkzy3cyw0000gn/T/ipykernel_11249/979182586.py\u001b[0m in \u001b[0;36m<module>\u001b[0;34m\u001b[0m\n\u001b[0;32m----> 1\u001b[0;31m \u001b[0mv1\u001b[0m \u001b[0;34m+\u001b[0m \u001b[0mnav\u001b[0m\u001b[0;34m\u001b[0m\u001b[0;34m\u001b[0m\u001b[0m\n\u001b[0m",
      "\u001b[0;32m/var/folders/yt/fs7d95zj7bvc5xmlfkzy3cyw0000gn/T/ipykernel_11249/1868119890.py\u001b[0m in \u001b[0;36m__add__\u001b[0;34m(self, other)\u001b[0m\n\u001b[1;32m     12\u001b[0m     \u001b[0;32mdef\u001b[0m \u001b[0m__add__\u001b[0m\u001b[0;34m(\u001b[0m\u001b[0mself\u001b[0m\u001b[0;34m,\u001b[0m \u001b[0mother\u001b[0m\u001b[0;34m)\u001b[0m\u001b[0;34m:\u001b[0m\u001b[0;34m\u001b[0m\u001b[0;34m\u001b[0m\u001b[0m\n\u001b[1;32m     13\u001b[0m         \u001b[0;32mif\u001b[0m \u001b[0;32mnot\u001b[0m \u001b[0misinstance\u001b[0m\u001b[0;34m(\u001b[0m\u001b[0mother\u001b[0m\u001b[0;34m,\u001b[0m \u001b[0mVector\u001b[0m\u001b[0;34m)\u001b[0m\u001b[0;34m:\u001b[0m\u001b[0;34m\u001b[0m\u001b[0;34m\u001b[0m\u001b[0m\n\u001b[0;32m---> 14\u001b[0;31m             \u001b[0;32mraise\u001b[0m \u001b[0mTypeError\u001b[0m\u001b[0;34m(\u001b[0m\u001b[0;34m'Addition is only supported between two Vector instances.'\u001b[0m\u001b[0;34m)\u001b[0m\u001b[0;34m\u001b[0m\u001b[0;34m\u001b[0m\u001b[0m\n\u001b[0m\u001b[1;32m     15\u001b[0m         \u001b[0mnew_x\u001b[0m \u001b[0;34m=\u001b[0m \u001b[0mself\u001b[0m\u001b[0;34m.\u001b[0m\u001b[0mx\u001b[0m \u001b[0;34m+\u001b[0m \u001b[0mother\u001b[0m\u001b[0;34m.\u001b[0m\u001b[0mx\u001b[0m\u001b[0;34m\u001b[0m\u001b[0;34m\u001b[0m\u001b[0m\n\u001b[1;32m     16\u001b[0m         \u001b[0mnew_y\u001b[0m \u001b[0;34m=\u001b[0m \u001b[0mself\u001b[0m\u001b[0;34m.\u001b[0m\u001b[0my\u001b[0m \u001b[0;34m+\u001b[0m \u001b[0mother\u001b[0m\u001b[0;34m.\u001b[0m\u001b[0my\u001b[0m\u001b[0;34m\u001b[0m\u001b[0;34m\u001b[0m\u001b[0m\n",
      "\u001b[0;31mTypeError\u001b[0m: Addition is only supported between two Vector instances."
     ]
    }
   ],
   "source": [
    "v1 + nav"
   ]
  },
  {
   "cell_type": "code",
   "execution_count": 52,
   "id": "9d2dddbf",
   "metadata": {},
   "outputs": [
    {
     "ename": "TypeError",
     "evalue": "Addition is only supported between two Vector instances.",
     "output_type": "error",
     "traceback": [
      "\u001b[0;31m---------------------------------------------------------------------------\u001b[0m",
      "\u001b[0;31mTypeError\u001b[0m                                 Traceback (most recent call last)",
      "\u001b[0;32m/var/folders/yt/fs7d95zj7bvc5xmlfkzy3cyw0000gn/T/ipykernel_11249/2907504966.py\u001b[0m in \u001b[0;36m<module>\u001b[0;34m\u001b[0m\n\u001b[0;32m----> 1\u001b[0;31m \u001b[0mv1\u001b[0m \u001b[0;34m+\u001b[0m \u001b[0;36m10\u001b[0m\u001b[0;34m\u001b[0m\u001b[0;34m\u001b[0m\u001b[0m\n\u001b[0m",
      "\u001b[0;32m/var/folders/yt/fs7d95zj7bvc5xmlfkzy3cyw0000gn/T/ipykernel_11249/1868119890.py\u001b[0m in \u001b[0;36m__add__\u001b[0;34m(self, other)\u001b[0m\n\u001b[1;32m     12\u001b[0m     \u001b[0;32mdef\u001b[0m \u001b[0m__add__\u001b[0m\u001b[0;34m(\u001b[0m\u001b[0mself\u001b[0m\u001b[0;34m,\u001b[0m \u001b[0mother\u001b[0m\u001b[0;34m)\u001b[0m\u001b[0;34m:\u001b[0m\u001b[0;34m\u001b[0m\u001b[0;34m\u001b[0m\u001b[0m\n\u001b[1;32m     13\u001b[0m         \u001b[0;32mif\u001b[0m \u001b[0;32mnot\u001b[0m \u001b[0misinstance\u001b[0m\u001b[0;34m(\u001b[0m\u001b[0mother\u001b[0m\u001b[0;34m,\u001b[0m \u001b[0mVector\u001b[0m\u001b[0;34m)\u001b[0m\u001b[0;34m:\u001b[0m\u001b[0;34m\u001b[0m\u001b[0;34m\u001b[0m\u001b[0m\n\u001b[0;32m---> 14\u001b[0;31m             \u001b[0;32mraise\u001b[0m \u001b[0mTypeError\u001b[0m\u001b[0;34m(\u001b[0m\u001b[0;34m'Addition is only supported between two Vector instances.'\u001b[0m\u001b[0;34m)\u001b[0m\u001b[0;34m\u001b[0m\u001b[0;34m\u001b[0m\u001b[0m\n\u001b[0m\u001b[1;32m     15\u001b[0m         \u001b[0mnew_x\u001b[0m \u001b[0;34m=\u001b[0m \u001b[0mself\u001b[0m\u001b[0;34m.\u001b[0m\u001b[0mx\u001b[0m \u001b[0;34m+\u001b[0m \u001b[0mother\u001b[0m\u001b[0;34m.\u001b[0m\u001b[0mx\u001b[0m\u001b[0;34m\u001b[0m\u001b[0;34m\u001b[0m\u001b[0m\n\u001b[1;32m     16\u001b[0m         \u001b[0mnew_y\u001b[0m \u001b[0;34m=\u001b[0m \u001b[0mself\u001b[0m\u001b[0;34m.\u001b[0m\u001b[0my\u001b[0m \u001b[0;34m+\u001b[0m \u001b[0mother\u001b[0m\u001b[0;34m.\u001b[0m\u001b[0my\u001b[0m\u001b[0;34m\u001b[0m\u001b[0;34m\u001b[0m\u001b[0m\n",
      "\u001b[0;31mTypeError\u001b[0m: Addition is only supported between two Vector instances."
     ]
    }
   ],
   "source": [
    "v1 + 10"
   ]
  },
  {
   "cell_type": "markdown",
   "id": "a64d9f6e",
   "metadata": {},
   "source": [
    "but what if we wanted to support something like this:"
   ]
  },
  {
   "cell_type": "code",
   "execution_count": 53,
   "id": "767fd659",
   "metadata": {},
   "outputs": [
    {
     "ename": "TypeError",
     "evalue": "Addition is only supported between two Vector instances.",
     "output_type": "error",
     "traceback": [
      "\u001b[0;31m---------------------------------------------------------------------------\u001b[0m",
      "\u001b[0;31mTypeError\u001b[0m                                 Traceback (most recent call last)",
      "\u001b[0;32m/var/folders/yt/fs7d95zj7bvc5xmlfkzy3cyw0000gn/T/ipykernel_11249/2570952853.py\u001b[0m in \u001b[0;36m<module>\u001b[0;34m\u001b[0m\n\u001b[0;32m----> 1\u001b[0;31m \u001b[0mv1\u001b[0m \u001b[0;34m+\u001b[0m \u001b[0;34m(\u001b[0m\u001b[0;36m10\u001b[0m\u001b[0;34m,\u001b[0m \u001b[0;36m20\u001b[0m\u001b[0;34m)\u001b[0m\u001b[0;34m\u001b[0m\u001b[0;34m\u001b[0m\u001b[0m\n\u001b[0m",
      "\u001b[0;32m/var/folders/yt/fs7d95zj7bvc5xmlfkzy3cyw0000gn/T/ipykernel_11249/1868119890.py\u001b[0m in \u001b[0;36m__add__\u001b[0;34m(self, other)\u001b[0m\n\u001b[1;32m     12\u001b[0m     \u001b[0;32mdef\u001b[0m \u001b[0m__add__\u001b[0m\u001b[0;34m(\u001b[0m\u001b[0mself\u001b[0m\u001b[0;34m,\u001b[0m \u001b[0mother\u001b[0m\u001b[0;34m)\u001b[0m\u001b[0;34m:\u001b[0m\u001b[0;34m\u001b[0m\u001b[0;34m\u001b[0m\u001b[0m\n\u001b[1;32m     13\u001b[0m         \u001b[0;32mif\u001b[0m \u001b[0;32mnot\u001b[0m \u001b[0misinstance\u001b[0m\u001b[0;34m(\u001b[0m\u001b[0mother\u001b[0m\u001b[0;34m,\u001b[0m \u001b[0mVector\u001b[0m\u001b[0;34m)\u001b[0m\u001b[0;34m:\u001b[0m\u001b[0;34m\u001b[0m\u001b[0;34m\u001b[0m\u001b[0m\n\u001b[0;32m---> 14\u001b[0;31m             \u001b[0;32mraise\u001b[0m \u001b[0mTypeError\u001b[0m\u001b[0;34m(\u001b[0m\u001b[0;34m'Addition is only supported between two Vector instances.'\u001b[0m\u001b[0;34m)\u001b[0m\u001b[0;34m\u001b[0m\u001b[0;34m\u001b[0m\u001b[0m\n\u001b[0m\u001b[1;32m     15\u001b[0m         \u001b[0mnew_x\u001b[0m \u001b[0;34m=\u001b[0m \u001b[0mself\u001b[0m\u001b[0;34m.\u001b[0m\u001b[0mx\u001b[0m \u001b[0;34m+\u001b[0m \u001b[0mother\u001b[0m\u001b[0;34m.\u001b[0m\u001b[0mx\u001b[0m\u001b[0;34m\u001b[0m\u001b[0;34m\u001b[0m\u001b[0m\n\u001b[1;32m     16\u001b[0m         \u001b[0mnew_y\u001b[0m \u001b[0;34m=\u001b[0m \u001b[0mself\u001b[0m\u001b[0;34m.\u001b[0m\u001b[0my\u001b[0m \u001b[0;34m+\u001b[0m \u001b[0mother\u001b[0m\u001b[0;34m.\u001b[0m\u001b[0my\u001b[0m\u001b[0;34m\u001b[0m\u001b[0;34m\u001b[0m\u001b[0m\n",
      "\u001b[0;31mTypeError\u001b[0m: Addition is only supported between two Vector instances."
     ]
    }
   ],
   "source": [
    "v1 + (10, 20)"
   ]
  },
  {
   "cell_type": "markdown",
   "id": "1520f715",
   "metadata": {},
   "source": [
    "or"
   ]
  },
  {
   "cell_type": "code",
   "execution_count": 54,
   "id": "5b0380e1",
   "metadata": {},
   "outputs": [
    {
     "ename": "TypeError",
     "evalue": "Addition is only supported between two Vector instances.",
     "output_type": "error",
     "traceback": [
      "\u001b[0;31m---------------------------------------------------------------------------\u001b[0m",
      "\u001b[0;31mTypeError\u001b[0m                                 Traceback (most recent call last)",
      "\u001b[0;32m/var/folders/yt/fs7d95zj7bvc5xmlfkzy3cyw0000gn/T/ipykernel_11249/2149939436.py\u001b[0m in \u001b[0;36m<module>\u001b[0;34m\u001b[0m\n\u001b[0;32m----> 1\u001b[0;31m \u001b[0mv1\u001b[0m \u001b[0;34m+\u001b[0m \u001b[0;34m[\u001b[0m\u001b[0;36m10\u001b[0m\u001b[0;34m,\u001b[0m \u001b[0;36m20\u001b[0m\u001b[0;34m]\u001b[0m\u001b[0;34m\u001b[0m\u001b[0;34m\u001b[0m\u001b[0m\n\u001b[0m",
      "\u001b[0;32m/var/folders/yt/fs7d95zj7bvc5xmlfkzy3cyw0000gn/T/ipykernel_11249/1868119890.py\u001b[0m in \u001b[0;36m__add__\u001b[0;34m(self, other)\u001b[0m\n\u001b[1;32m     12\u001b[0m     \u001b[0;32mdef\u001b[0m \u001b[0m__add__\u001b[0m\u001b[0;34m(\u001b[0m\u001b[0mself\u001b[0m\u001b[0;34m,\u001b[0m \u001b[0mother\u001b[0m\u001b[0;34m)\u001b[0m\u001b[0;34m:\u001b[0m\u001b[0;34m\u001b[0m\u001b[0;34m\u001b[0m\u001b[0m\n\u001b[1;32m     13\u001b[0m         \u001b[0;32mif\u001b[0m \u001b[0;32mnot\u001b[0m \u001b[0misinstance\u001b[0m\u001b[0;34m(\u001b[0m\u001b[0mother\u001b[0m\u001b[0;34m,\u001b[0m \u001b[0mVector\u001b[0m\u001b[0;34m)\u001b[0m\u001b[0;34m:\u001b[0m\u001b[0;34m\u001b[0m\u001b[0;34m\u001b[0m\u001b[0m\n\u001b[0;32m---> 14\u001b[0;31m             \u001b[0;32mraise\u001b[0m \u001b[0mTypeError\u001b[0m\u001b[0;34m(\u001b[0m\u001b[0;34m'Addition is only supported between two Vector instances.'\u001b[0m\u001b[0;34m)\u001b[0m\u001b[0;34m\u001b[0m\u001b[0;34m\u001b[0m\u001b[0m\n\u001b[0m\u001b[1;32m     15\u001b[0m         \u001b[0mnew_x\u001b[0m \u001b[0;34m=\u001b[0m \u001b[0mself\u001b[0m\u001b[0;34m.\u001b[0m\u001b[0mx\u001b[0m \u001b[0;34m+\u001b[0m \u001b[0mother\u001b[0m\u001b[0;34m.\u001b[0m\u001b[0mx\u001b[0m\u001b[0;34m\u001b[0m\u001b[0;34m\u001b[0m\u001b[0m\n\u001b[1;32m     16\u001b[0m         \u001b[0mnew_y\u001b[0m \u001b[0;34m=\u001b[0m \u001b[0mself\u001b[0m\u001b[0;34m.\u001b[0m\u001b[0my\u001b[0m \u001b[0;34m+\u001b[0m \u001b[0mother\u001b[0m\u001b[0;34m.\u001b[0m\u001b[0my\u001b[0m\u001b[0;34m\u001b[0m\u001b[0;34m\u001b[0m\u001b[0m\n",
      "\u001b[0;31mTypeError\u001b[0m: Addition is only supported between two Vector instances."
     ]
    }
   ],
   "source": [
    "v1 + [10, 20]"
   ]
  },
  {
   "cell_type": "markdown",
   "id": "6c154a67",
   "metadata": {},
   "source": [
    "We can enhance our `__add__` method to allow this:"
   ]
  },
  {
   "cell_type": "code",
   "execution_count": 55,
   "id": "54982ff3",
   "metadata": {},
   "outputs": [],
   "source": [
    "class Vector:\n",
    "    def __init__(self, x, y):\n",
    "        self.x = x\n",
    "        self.y = y\n",
    "        \n",
    "    def __repr__(self):\n",
    "        return f\"Vector({self.x}, {self.y})\"\n",
    "    \n",
    "    def __str__(self):\n",
    "        return f\"({self.x}, {self.y})\"\n",
    "    \n",
    "    def __add__(self, other):\n",
    "        if isinstance(other, (list, tuple)) and len(other) >= 2:\n",
    "            new_x = self.x + other[0]\n",
    "            new_y = self.y + other[1]\n",
    "        elif isinstance(other, Vector):\n",
    "            new_x = self.x + other.x\n",
    "            new_y = self.y + other.y\n",
    "        else:\n",
    "            raise TypeError(f\"Unsupported type for Vector addition: {type(other)}\")\n",
    "        return Vector(new_x, new_y)"
   ]
  },
  {
   "cell_type": "code",
   "execution_count": 56,
   "id": "71e23d53",
   "metadata": {},
   "outputs": [],
   "source": [
    "v1 = Vector(1, 2)\n",
    "v2 = Vector(10, 20)\n",
    "nav = NotAVector(10, 20, 30)"
   ]
  },
  {
   "cell_type": "code",
   "execution_count": 57,
   "id": "40148d8d",
   "metadata": {},
   "outputs": [
    {
     "data": {
      "text/plain": [
       "Vector(11, 22)"
      ]
     },
     "execution_count": 57,
     "metadata": {},
     "output_type": "execute_result"
    }
   ],
   "source": [
    "v1 + v2"
   ]
  },
  {
   "cell_type": "code",
   "execution_count": 58,
   "id": "916d1802",
   "metadata": {},
   "outputs": [
    {
     "data": {
      "text/plain": [
       "Vector(101, 202)"
      ]
     },
     "execution_count": 58,
     "metadata": {},
     "output_type": "execute_result"
    }
   ],
   "source": [
    "v1 + (100, 200)"
   ]
  },
  {
   "cell_type": "code",
   "execution_count": 59,
   "id": "47aee1f4",
   "metadata": {},
   "outputs": [
    {
     "data": {
      "text/plain": [
       "Vector(101, 202)"
      ]
     },
     "execution_count": 59,
     "metadata": {},
     "output_type": "execute_result"
    }
   ],
   "source": [
    "v1 + [100, 200]"
   ]
  },
  {
   "cell_type": "code",
   "execution_count": 60,
   "id": "41b62740",
   "metadata": {},
   "outputs": [
    {
     "ename": "TypeError",
     "evalue": "Unsupported type for Vector addition: <class '__main__.NotAVector'>",
     "output_type": "error",
     "traceback": [
      "\u001b[0;31m---------------------------------------------------------------------------\u001b[0m",
      "\u001b[0;31mTypeError\u001b[0m                                 Traceback (most recent call last)",
      "\u001b[0;32m/var/folders/yt/fs7d95zj7bvc5xmlfkzy3cyw0000gn/T/ipykernel_11249/979182586.py\u001b[0m in \u001b[0;36m<module>\u001b[0;34m\u001b[0m\n\u001b[0;32m----> 1\u001b[0;31m \u001b[0mv1\u001b[0m \u001b[0;34m+\u001b[0m \u001b[0mnav\u001b[0m\u001b[0;34m\u001b[0m\u001b[0;34m\u001b[0m\u001b[0m\n\u001b[0m",
      "\u001b[0;32m/var/folders/yt/fs7d95zj7bvc5xmlfkzy3cyw0000gn/T/ipykernel_11249/683602931.py\u001b[0m in \u001b[0;36m__add__\u001b[0;34m(self, other)\u001b[0m\n\u001b[1;32m     18\u001b[0m             \u001b[0mnew_y\u001b[0m \u001b[0;34m=\u001b[0m \u001b[0mself\u001b[0m\u001b[0;34m.\u001b[0m\u001b[0my\u001b[0m \u001b[0;34m+\u001b[0m \u001b[0mother\u001b[0m\u001b[0;34m.\u001b[0m\u001b[0my\u001b[0m\u001b[0;34m\u001b[0m\u001b[0;34m\u001b[0m\u001b[0m\n\u001b[1;32m     19\u001b[0m         \u001b[0;32melse\u001b[0m\u001b[0;34m:\u001b[0m\u001b[0;34m\u001b[0m\u001b[0;34m\u001b[0m\u001b[0m\n\u001b[0;32m---> 20\u001b[0;31m             \u001b[0;32mraise\u001b[0m \u001b[0mTypeError\u001b[0m\u001b[0;34m(\u001b[0m\u001b[0;34mf\"Unsupported type for Vector addition: {type(other)}\"\u001b[0m\u001b[0;34m)\u001b[0m\u001b[0;34m\u001b[0m\u001b[0;34m\u001b[0m\u001b[0m\n\u001b[0m\u001b[1;32m     21\u001b[0m         \u001b[0;32mreturn\u001b[0m \u001b[0mVector\u001b[0m\u001b[0;34m(\u001b[0m\u001b[0mnew_x\u001b[0m\u001b[0;34m,\u001b[0m \u001b[0mnew_y\u001b[0m\u001b[0;34m)\u001b[0m\u001b[0;34m\u001b[0m\u001b[0;34m\u001b[0m\u001b[0m\n",
      "\u001b[0;31mTypeError\u001b[0m: Unsupported type for Vector addition: <class '__main__.NotAVector'>"
     ]
    }
   ],
   "source": [
    "v1 + nav"
   ]
  },
  {
   "cell_type": "markdown",
   "id": "69f4a317",
   "metadata": {},
   "source": [
    "#### Other Protocols"
   ]
  },
  {
   "cell_type": "markdown",
   "id": "76069451",
   "metadata": {},
   "source": [
    "Most of the operators in Python, as well as various behavior traits of objects, are controlled in custom classes using these protocols, which you can find documented here:\n",
    "\n",
    "https://docs.python.org/3/reference/datamodel.html"
   ]
  }
 ],
 "metadata": {
  "kernelspec": {
   "display_name": "Python 3 (ipykernel)",
   "language": "python",
   "name": "python3"
  },
  "language_info": {
   "codemirror_mode": {
    "name": "ipython",
    "version": 3
   },
   "file_extension": ".py",
   "mimetype": "text/x-python",
   "name": "python",
   "nbconvert_exporter": "python",
   "pygments_lexer": "ipython3",
   "version": "3.9.1"
  }
 },
 "nbformat": 4,
 "nbformat_minor": 5
}
