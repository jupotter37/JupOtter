{
 "cells": [
  {
   "cell_type": "code",
   "execution_count": 1,
   "id": "e58621fa",
   "metadata": {},
   "outputs": [],
   "source": [
    "# Киллер правила\n",
    "# \n",
    "# 100 человек, каждый одновременно чья-то жертва и чей-то убийца  \n",
    "# у каждого человека в конверте имя \n",
    "#\n",
    "#  Филипп -> Паша -> Лера -> Саша -> Филипп\n",
    "#  Филипп -> Лера -> Саша -> Филипп\n",
    "\n",
    "# Устные вопросов:\n",
    "#\n",
    "# Сколько всего раздач конвертов существует? \n",
    "# Ответ: 100! = 100 * 99 * 98 * 97 * ... * 3 * 2 * 1\n",
    "#\n",
    "# Какова вероятность, что Паша получит конверт с самим собой при раздаче? \n",
    "# Ответ: 99!/100! = 1/100\n",
    "#\n",
    "# P(Лера получила конверт с собой)\n",
    "# Ответ: 1/100\n",
    "#\n",
    "# P(Лера и Паша суицидники) = 98!/100! = 1/99* 1/100\n",
    "# 1 2 | 98!\n",
    "#\n",
    "# Лера <---> Паша\n",
    "#\n",
    "# X - количество суицидников E(X) - ? \n",
    "# Y - количество мэтчингов   E(Y) - ?\n",
    "# Z - сколько жертв убил победитель E(Z) - ?"
   ]
  },
  {
   "cell_type": "markdown",
   "id": "b6074d87",
   "metadata": {},
   "source": [
    "## 1. Тут мы смотрим на функции из numpy"
   ]
  },
  {
   "cell_type": "code",
   "execution_count": 2,
   "id": "495ee477",
   "metadata": {},
   "outputs": [],
   "source": [
    "import numpy as np"
   ]
  },
  {
   "cell_type": "code",
   "execution_count": 3,
   "id": "dae45b23",
   "metadata": {},
   "outputs": [
    {
     "data": {
      "text/plain": [
       "[1, 2, 3, 4, 5, 6]"
      ]
     },
     "execution_count": 3,
     "metadata": {},
     "output_type": "execute_result"
    }
   ],
   "source": [
    "x = [1, 2, 3]\n",
    "y = [4, 5, 6]\n",
    "x + y"
   ]
  },
  {
   "cell_type": "code",
   "execution_count": 4,
   "id": "378da3ec",
   "metadata": {},
   "outputs": [
    {
     "data": {
      "text/plain": [
       "[1, 2, 3, 1, 2, 3]"
      ]
     },
     "execution_count": 4,
     "metadata": {},
     "output_type": "execute_result"
    }
   ],
   "source": [
    "2*x"
   ]
  },
  {
   "cell_type": "code",
   "execution_count": 5,
   "id": "1589b504",
   "metadata": {},
   "outputs": [
    {
     "ename": "TypeError",
     "evalue": "can't multiply sequence by non-int of type 'list'",
     "output_type": "error",
     "traceback": [
      "\u001b[0;31m---------------------------------------------------------------------------\u001b[0m",
      "\u001b[0;31mTypeError\u001b[0m                                 Traceback (most recent call last)",
      "Cell \u001b[0;32mIn[5], line 1\u001b[0m\n\u001b[0;32m----> 1\u001b[0m \u001b[43mx\u001b[49m\u001b[38;5;241;43m*\u001b[39;49m\u001b[43my\u001b[49m\n",
      "\u001b[0;31mTypeError\u001b[0m: can't multiply sequence by non-int of type 'list'"
     ]
    }
   ],
   "source": [
    "x*y"
   ]
  },
  {
   "cell_type": "code",
   "execution_count": 12,
   "id": "0ca93398",
   "metadata": {},
   "outputs": [
    {
     "data": {
      "text/plain": [
       "array([4, 5, 6])"
      ]
     },
     "execution_count": 12,
     "metadata": {},
     "output_type": "execute_result"
    }
   ],
   "source": [
    "xx = np.array(x)\n",
    "yy = np.array(y)\n",
    "yy"
   ]
  },
  {
   "cell_type": "code",
   "execution_count": 9,
   "id": "845eaddd",
   "metadata": {},
   "outputs": [
    {
     "data": {
      "text/plain": [
       "array([1, 2, 3])"
      ]
     },
     "execution_count": 9,
     "metadata": {},
     "output_type": "execute_result"
    }
   ],
   "source": [
    "xx"
   ]
  },
  {
   "cell_type": "code",
   "execution_count": 7,
   "id": "6d0e05f8",
   "metadata": {},
   "outputs": [
    {
     "data": {
      "text/plain": [
       "array([5, 7, 9])"
      ]
     },
     "execution_count": 7,
     "metadata": {},
     "output_type": "execute_result"
    }
   ],
   "source": [
    "xx + yy"
   ]
  },
  {
   "cell_type": "code",
   "execution_count": 10,
   "id": "257a826f",
   "metadata": {},
   "outputs": [
    {
     "data": {
      "text/plain": [
       "array([ 3,  9, 27])"
      ]
     },
     "execution_count": 10,
     "metadata": {},
     "output_type": "execute_result"
    }
   ],
   "source": [
    "3**xx"
   ]
  },
  {
   "cell_type": "code",
   "execution_count": 11,
   "id": "0603df4d",
   "metadata": {},
   "outputs": [
    {
     "data": {
      "text/plain": [
       "array([ 4, 10, 18])"
      ]
     },
     "execution_count": 11,
     "metadata": {},
     "output_type": "execute_result"
    }
   ],
   "source": [
    "xx * yy"
   ]
  },
  {
   "cell_type": "code",
   "execution_count": 13,
   "id": "eb07c501",
   "metadata": {},
   "outputs": [
    {
     "data": {
      "text/plain": [
       "32"
      ]
     },
     "execution_count": 13,
     "metadata": {},
     "output_type": "execute_result"
    }
   ],
   "source": [
    "xx @ yy"
   ]
  },
  {
   "cell_type": "code",
   "execution_count": 14,
   "id": "4fa54bc8",
   "metadata": {},
   "outputs": [
    {
     "data": {
      "text/plain": [
       "32"
      ]
     },
     "execution_count": 14,
     "metadata": {},
     "output_type": "execute_result"
    }
   ],
   "source": [
    "np.sum(xx * yy)"
   ]
  },
  {
   "cell_type": "code",
   "execution_count": 16,
   "id": "6962b941",
   "metadata": {},
   "outputs": [
    {
     "data": {
      "text/plain": [
       "6"
      ]
     },
     "execution_count": 16,
     "metadata": {},
     "output_type": "execute_result"
    }
   ],
   "source": [
    "np.sum(xx)"
   ]
  },
  {
   "cell_type": "code",
   "execution_count": 17,
   "id": "6af8d7b8",
   "metadata": {},
   "outputs": [
    {
     "data": {
      "text/plain": [
       "6"
      ]
     },
     "execution_count": 17,
     "metadata": {},
     "output_type": "execute_result"
    }
   ],
   "source": [
    "xx.sum()"
   ]
  },
  {
   "cell_type": "code",
   "execution_count": 19,
   "id": "f4a4b62c",
   "metadata": {},
   "outputs": [
    {
     "data": {
      "text/plain": [
       "3"
      ]
     },
     "execution_count": 19,
     "metadata": {},
     "output_type": "execute_result"
    }
   ],
   "source": [
    "xx.size"
   ]
  },
  {
   "cell_type": "code",
   "execution_count": 43,
   "id": "a9440585",
   "metadata": {},
   "outputs": [
    {
     "data": {
      "text/plain": [
       "array([0, 1, 2, 3, 4, 5, 6, 7, 8, 9])"
      ]
     },
     "execution_count": 43,
     "metadata": {},
     "output_type": "execute_result"
    }
   ],
   "source": [
    "x = np.arange(10)\n",
    "x"
   ]
  },
  {
   "cell_type": "code",
   "execution_count": 45,
   "id": "a2b6c889",
   "metadata": {},
   "outputs": [
    {
     "data": {
      "text/plain": [
       "array([9, 6, 7, 4, 0, 1, 5, 8, 3, 2])"
      ]
     },
     "execution_count": 45,
     "metadata": {},
     "output_type": "execute_result"
    }
   ],
   "source": [
    "np.random.shuffle(x)\n",
    "x"
   ]
  },
  {
   "cell_type": "code",
   "execution_count": 64,
   "id": "5596f82a",
   "metadata": {},
   "outputs": [
    {
     "data": {
      "text/plain": [
       "array([1., 1., 1., 1., 1., 1., 1., 1., 1., 1.])"
      ]
     },
     "execution_count": 64,
     "metadata": {},
     "output_type": "execute_result"
    }
   ],
   "source": [
    "np.ones(10)"
   ]
  },
  {
   "cell_type": "code",
   "execution_count": 105,
   "id": "b651097b",
   "metadata": {},
   "outputs": [
    {
     "data": {
      "text/plain": [
       "2.0"
      ]
     },
     "execution_count": 105,
     "metadata": {},
     "output_type": "execute_result"
    }
   ],
   "source": [
    "xx.mean()"
   ]
  },
  {
   "cell_type": "code",
   "execution_count": 112,
   "id": "0ce71498",
   "metadata": {},
   "outputs": [
    {
     "data": {
      "text/plain": [
       "28.86607004772212"
      ]
     },
     "execution_count": 112,
     "metadata": {},
     "output_type": "execute_result"
    }
   ],
   "source": [
    "zz = np.arange(100)\n",
    "zz.std()"
   ]
  },
  {
   "cell_type": "code",
   "execution_count": 113,
   "id": "af1149cc",
   "metadata": {},
   "outputs": [
    {
     "data": {
      "text/plain": [
       "49.5"
      ]
     },
     "execution_count": 113,
     "metadata": {},
     "output_type": "execute_result"
    }
   ],
   "source": [
    "zz.mean()"
   ]
  },
  {
   "cell_type": "code",
   "execution_count": 114,
   "id": "8a595a2b",
   "metadata": {},
   "outputs": [
    {
     "data": {
      "text/plain": [
       "833.25"
      ]
     },
     "execution_count": 114,
     "metadata": {},
     "output_type": "execute_result"
    }
   ],
   "source": [
    "zz.var()"
   ]
  },
  {
   "cell_type": "code",
   "execution_count": 115,
   "id": "c0349031",
   "metadata": {},
   "outputs": [
    {
     "data": {
      "text/plain": [
       "array([0., 0., 0., 0., 0., 0., 0., 0., 0., 0.])"
      ]
     },
     "execution_count": 115,
     "metadata": {},
     "output_type": "execute_result"
    }
   ],
   "source": [
    "np.zeros(10)"
   ]
  },
  {
   "cell_type": "code",
   "execution_count": 120,
   "id": "d517c920",
   "metadata": {},
   "outputs": [
    {
     "data": {
      "text/plain": [
       "91"
      ]
     },
     "execution_count": 120,
     "metadata": {},
     "output_type": "execute_result"
    }
   ],
   "source": [
    "np.random.choice(zz)"
   ]
  },
  {
   "cell_type": "code",
   "execution_count": null,
   "id": "89a0b6ed",
   "metadata": {},
   "outputs": [],
   "source": []
  },
  {
   "cell_type": "markdown",
   "id": "2d655c2c",
   "metadata": {},
   "source": [
    "## 2. Тут мы говорим про ООП"
   ]
  },
  {
   "cell_type": "code",
   "execution_count": null,
   "id": "01634414",
   "metadata": {},
   "outputs": [],
   "source": [
    "# model = LinearRegression()\n",
    "# model.fit(X, y)\n",
    "# model.predict(X_test)"
   ]
  },
  {
   "cell_type": "code",
   "execution_count": null,
   "id": "9bfac952",
   "metadata": {},
   "outputs": [],
   "source": [
    "# model_v2 = LinearRegression()\n",
    "# model_v2.fit(X_v2, y_v2)\n",
    "# model_v2.predict(X_test)"
   ]
  },
  {
   "cell_type": "code",
   "execution_count": null,
   "id": "adac5a06",
   "metadata": {},
   "outputs": [],
   "source": [
    "# зажарить(картошка)  - функция\n",
    "# картошка.зажарить() - метод"
   ]
  },
  {
   "cell_type": "code",
   "execution_count": null,
   "id": "4e60501a",
   "metadata": {},
   "outputs": [],
   "source": [
    "# pass - ключевое слово, означающее что пока что тут кода нет (заглушка)"
   ]
  },
  {
   "cell_type": "code",
   "execution_count": 163,
   "id": "98615b82",
   "metadata": {},
   "outputs": [],
   "source": [
    "class Killer:\n",
    "    \n",
    "    # __init__ есть в любом классе, это мето-конструктор \n",
    "    # он вызывается при создании класса \n",
    "    \n",
    "    # self - ключевое слово, которое помогает классу ссылаться на\n",
    "    # самого себя \n",
    "    \n",
    "    def __init__(self, n, verbouse=True):\n",
    "        self.n = n # константа внутри класса (атрибутами)\n",
    "        self.verbouse = verbouse\n",
    "        self.murder_target = np.arange(n)\n",
    "        \n",
    "        self.alive = np.ones(n)\n",
    "        self.reward = np.zeros(n)\n",
    "        \n",
    "        # конструктор один раз при создании класса вызовет эту функцию\n",
    "        self._create_game()\n",
    "            \n",
    "    def _create_game(self):\n",
    "        np.random.shuffle(self.murder_target)\n",
    "        \n",
    "    def __repr__(self):  # описание экземпляра\n",
    "        return f\"Killer({self.n})\"\n",
    "    \n",
    "    def __str__(self): # более длинное человеческое описание \n",
    "        return f\"Игра в киллера на {self.n} человек\"\n",
    "    \n",
    "    def __add__(self, other):\n",
    "        n = self.n + other.n\n",
    "        game = Killer(n)\n",
    "        return game\n",
    "    \n",
    "    def is_suicide(self, i):\n",
    "        return self.murder_target[i] == i\n",
    "    \n",
    "    def count_suicide(self):\n",
    "        return np.sum(self.murder_target == np.arange(self.n))\n",
    "    \n",
    "    def is_matching(self, i):\n",
    "        return self.murder_target[self.murder_target[i]] == i\n",
    "    \n",
    "    def count_matching(self):\n",
    "        # задание - дописать эту функцию\n",
    "        pass \n",
    "\n",
    "    def step(self):\n",
    "        killer_index = np.random.choice(self.murder_target[self.alive == 1])\n",
    "        target_index = self.murder_target[killer_index]\n",
    "        \n",
    "        self.alive[target_index] = 0 \n",
    "        self.reward[killer_index] += 1\n",
    "        \n",
    "        # забрал конверт\n",
    "        self.murder_target[killer_index] = self.murder_target[target_index]\n",
    "        self.murder_target[target_index] = -1 # для красоты\n",
    "        \n",
    "        if self.verbouse:\n",
    "            print(f'Свой ход делает игрок {killer_index}')\n",
    "            print(self.murder_target)\n",
    "            print(self.alive)\n",
    "            print(self.reward)\n",
    "            print(\" \")\n",
    "\n",
    "    def play_game(self):\n",
    "        if self.verbouse:\n",
    "            print(f'Cтартовая позиция')\n",
    "            print(self.murder_target)\n",
    "            print(self.alive)\n",
    "            print(self.reward)\n",
    "            print(\" \")  \n",
    "        \n",
    "        while np.sum(self.alive) > 0:\n",
    "            self.step()\n",
    "        "
   ]
  },
  {
   "cell_type": "code",
   "execution_count": 164,
   "id": "2159283d",
   "metadata": {},
   "outputs": [
    {
     "data": {
      "text/plain": [
       "Killer(10)"
      ]
     },
     "execution_count": 164,
     "metadata": {},
     "output_type": "execute_result"
    }
   ],
   "source": [
    "game = Killer(10)\n",
    "game"
   ]
  },
  {
   "cell_type": "code",
   "execution_count": 165,
   "id": "58e3a50d",
   "metadata": {},
   "outputs": [
    {
     "name": "stdout",
     "output_type": "stream",
     "text": [
      "Игра в киллера на 10 человек\n"
     ]
    }
   ],
   "source": [
    "print(game)"
   ]
  },
  {
   "cell_type": "code",
   "execution_count": 166,
   "id": "270049bd",
   "metadata": {},
   "outputs": [
    {
     "name": "stdout",
     "output_type": "stream",
     "text": [
      "Cтартовая позиция\n",
      "[7 8 2 0 4 5 9 3 6 1]\n",
      "[1. 1. 1. 1. 1. 1. 1. 1. 1. 1.]\n",
      "[0. 0. 0. 0. 0. 0. 0. 0. 0. 0.]\n",
      " \n",
      "Свой ход делает игрок 6\n",
      "[ 7  8  2  0  4  5  1  3  6 -1]\n",
      "[1. 1. 1. 1. 1. 1. 1. 1. 1. 0.]\n",
      "[0. 0. 0. 0. 0. 0. 1. 0. 0. 0.]\n",
      " \n",
      "Свой ход делает игрок 6\n",
      "[ 7 -1  2  0  4  5  8  3  6 -1]\n",
      "[1. 0. 1. 1. 1. 1. 1. 1. 1. 0.]\n",
      "[0. 0. 0. 0. 0. 0. 2. 0. 0. 0.]\n",
      " \n",
      "Свой ход делает игрок 5\n",
      "[ 7 -1  2  0  4 -1  8  3  6 -1]\n",
      "[1. 0. 1. 1. 1. 0. 1. 1. 1. 0.]\n",
      "[0. 0. 0. 0. 0. 1. 2. 0. 0. 0.]\n",
      " \n",
      "Свой ход делает игрок 0\n",
      "[ 3 -1  2  0  4 -1  8 -1  6 -1]\n",
      "[1. 0. 1. 1. 1. 0. 1. 0. 1. 0.]\n",
      "[1. 0. 0. 0. 0. 1. 2. 0. 0. 0.]\n",
      " \n",
      "Свой ход делает игрок 2\n",
      "[ 3 -1 -1  0  4 -1  8 -1  6 -1]\n",
      "[1. 0. 0. 1. 1. 0. 1. 0. 1. 0.]\n",
      "[1. 0. 1. 0. 0. 1. 2. 0. 0. 0.]\n",
      " \n",
      "Свой ход делает игрок 4\n",
      "[ 3 -1 -1  0 -1 -1  8 -1  6 -1]\n",
      "[1. 0. 0. 1. 0. 0. 1. 0. 1. 0.]\n",
      "[1. 0. 1. 0. 1. 1. 2. 0. 0. 0.]\n",
      " \n",
      "Свой ход делает игрок 0\n",
      "[ 0 -1 -1 -1 -1 -1  8 -1  6 -1]\n",
      "[1. 0. 0. 0. 0. 0. 1. 0. 1. 0.]\n",
      "[2. 0. 1. 0. 1. 1. 2. 0. 0. 0.]\n",
      " \n",
      "Свой ход делает игрок 8\n",
      "[ 0 -1 -1 -1 -1 -1 -1 -1  8 -1]\n",
      "[1. 0. 0. 0. 0. 0. 0. 0. 1. 0.]\n",
      "[2. 0. 1. 0. 1. 1. 2. 0. 1. 0.]\n",
      " \n",
      "Свой ход делает игрок 8\n",
      "[ 0 -1 -1 -1 -1 -1 -1 -1 -1 -1]\n",
      "[1. 0. 0. 0. 0. 0. 0. 0. 0. 0.]\n",
      "[2. 0. 1. 0. 1. 1. 2. 0. 2. 0.]\n",
      " \n",
      "Свой ход делает игрок 0\n",
      "[-1 -1 -1 -1 -1 -1 -1 -1 -1 -1]\n",
      "[0. 0. 0. 0. 0. 0. 0. 0. 0. 0.]\n",
      "[3. 0. 1. 0. 1. 1. 2. 0. 2. 0.]\n",
      " \n"
     ]
    }
   ],
   "source": [
    "game.play_game()"
   ]
  },
  {
   "cell_type": "code",
   "execution_count": 167,
   "id": "6c983306",
   "metadata": {},
   "outputs": [
    {
     "data": {
      "text/plain": [
       "Killer(5)"
      ]
     },
     "execution_count": 167,
     "metadata": {},
     "output_type": "execute_result"
    }
   ],
   "source": [
    "game1 = Killer(5)\n",
    "game1"
   ]
  },
  {
   "cell_type": "code",
   "execution_count": 168,
   "id": "6b0212aa",
   "metadata": {},
   "outputs": [
    {
     "data": {
      "text/plain": [
       "Killer(7)"
      ]
     },
     "execution_count": 168,
     "metadata": {},
     "output_type": "execute_result"
    }
   ],
   "source": [
    "game2 = Killer(7)\n",
    "game2"
   ]
  },
  {
   "cell_type": "code",
   "execution_count": 169,
   "id": "08bc7af1",
   "metadata": {},
   "outputs": [
    {
     "data": {
      "text/plain": [
       "Killer(12)"
      ]
     },
     "execution_count": 169,
     "metadata": {},
     "output_type": "execute_result"
    }
   ],
   "source": [
    "game = game1 + game2 \n",
    "game"
   ]
  },
  {
   "cell_type": "code",
   "execution_count": 170,
   "id": "dab7cdd9",
   "metadata": {},
   "outputs": [
    {
     "data": {
      "text/plain": [
       "Killer(5)"
      ]
     },
     "execution_count": 170,
     "metadata": {},
     "output_type": "execute_result"
    }
   ],
   "source": [
    "game1"
   ]
  },
  {
   "cell_type": "code",
   "execution_count": null,
   "id": "806e93e5",
   "metadata": {},
   "outputs": [],
   "source": []
  },
  {
   "cell_type": "code",
   "execution_count": 103,
   "id": "dc410243",
   "metadata": {},
   "outputs": [
    {
     "data": {
      "text/plain": [
       "1.00231"
      ]
     },
     "execution_count": 103,
     "metadata": {},
     "output_type": "execute_result"
    }
   ],
   "source": [
    "n_obs = 10**5\n",
    "np.mean([Killer(100).count_suicide() for i in range(n_obs)]) # оценка E(X)"
   ]
  },
  {
   "cell_type": "code",
   "execution_count": 151,
   "id": "f0501ce2",
   "metadata": {},
   "outputs": [],
   "source": [
    "n_obs = 10**5\n",
    "\n",
    "rewards = np.zeros(n_obs)\n",
    "for i in range(n_obs):\n",
    "    game = Killer(100, verbouse=False)\n",
    "    game.play_game()\n",
    "    rewards[i] = game.reward.max()"
   ]
  },
  {
   "cell_type": "code",
   "execution_count": 153,
   "id": "d18f5158",
   "metadata": {},
   "outputs": [
    {
     "data": {
      "text/plain": [
       "6.71347"
      ]
     },
     "execution_count": 153,
     "metadata": {},
     "output_type": "execute_result"
    }
   ],
   "source": [
    "rewards.mean()"
   ]
  },
  {
   "cell_type": "code",
   "execution_count": null,
   "id": "917ae18c",
   "metadata": {},
   "outputs": [],
   "source": [
    "# Ещё вопросы: \n",
    "#\n",
    "# Математическое ожидание числа цепочек в игре\n",
    "#\n",
    "# Математическое ожидание максимально длинной цепочки\n",
    "# \n",
    "# Поменялись правила игры! Если возникает мэтчинг или суицид,\n",
    "# мы случайно меняем конверты между двумя людьми при суициде \n",
    "# и между 4 людьми при мэтчинге. Математическое ожидание числа таких обменов.\n"
   ]
  },
  {
   "cell_type": "code",
   "execution_count": null,
   "id": "cbee6a37",
   "metadata": {},
   "outputs": [],
   "source": [
    "#[1, 0, 3, 4, 2]   # 2 цепи: \n",
    "                   # 1 -> 0 -> 1 \n",
    "                   # 2 -> 3 -> 4 -> 2"
   ]
  },
  {
   "cell_type": "code",
   "execution_count": null,
   "id": "126aceb5",
   "metadata": {},
   "outputs": [],
   "source": []
  },
  {
   "cell_type": "code",
   "execution_count": null,
   "id": "8404bd1d",
   "metadata": {},
   "outputs": [],
   "source": [
    "# Что можно поделать? \n",
    "\n",
    "# Есть необязательный контест про матрицу\n",
    "# Есть необязательный контест про numpy\n",
    "\n",
    "# Можно реализовать свой класс для комплексного числа \n",
    "# https://github.com/hse-econ-data-science/eds_spring_2020/blob/master/sem04_class/sem_04_181.py\n",
    "# https://github.com/hse-econ-data-science/eds_spring_2020/blob/master/sem04_class/sem_04_182.py\n",
    "\n",
    "# Можно почитать про классы семинар с ИАД\n",
    "# https://github.com/hse-ds/iad-intro-ds/blob/master/2021/seminars/sem04_oop.ipynb\n",
    "\n",
    "# Можно попробовать написать класс для отеля (второй файл - решение)\n",
    "# https://github.com/hse-econ-data-science/eds_spring_2020/blob/master/sem04_class/Classes.ipynb\n",
    "# https://github.com/hse-econ-data-science/eds_spring_2020/blob/master/sem04_class/Classes_solved_BEC1813-1814.ipynb\n",
    "\n",
    "\n",
    "# Про магические методы __smth__\n",
    "# https://proproprogs.ru/python_oop/metody-sravneniy-eq-ne-lt-gt"
   ]
  },
  {
   "cell_type": "code",
   "execution_count": null,
   "id": "3765a2ab",
   "metadata": {},
   "outputs": [],
   "source": []
  }
 ],
 "metadata": {
  "kernelspec": {
   "display_name": "Python 3 (ipykernel)",
   "language": "python",
   "name": "python3"
  },
  "language_info": {
   "codemirror_mode": {
    "name": "ipython",
    "version": 3
   },
   "file_extension": ".py",
   "mimetype": "text/x-python",
   "name": "python",
   "nbconvert_exporter": "python",
   "pygments_lexer": "ipython3",
   "version": "3.10.9"
  }
 },
 "nbformat": 4,
 "nbformat_minor": 5
}
