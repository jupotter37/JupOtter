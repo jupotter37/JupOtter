{
 "cells": [
  {
   "cell_type": "code",
   "execution_count": 1,
   "metadata": {},
   "outputs": [],
   "source": [
    "# from argoverse.map_representation.map_api import ArgoverseMap\n",
    "# from argoverse.data_loading.argoverse_tracking_loader import ArgoverseTrackingLoader\n",
    "# from argoverse.data_loading.argoverse_forecasting_loader import ArgoverseForecastingLoader\n",
    "# from argoverse.visualization.visualize_sequences import viz_sequence\n",
    "\n",
    "# from statistics import mean\n",
    "# import glob\n",
    "import torch\n",
    "from torch.utils.data import Dataset, DataLoader\n",
    "# from torchvision import transforms, utils\n",
    "# import torch.nn as nn\n",
    "\n",
    "from sgan.data.data import Argoverse_Social_Data, collate_traj_social\n",
    "\n",
    "import numpy as np"
   ]
  },
  {
   "cell_type": "code",
   "execution_count": 2,
   "metadata": {},
   "outputs": [],
   "source": [
    "argoverse_train = Argoverse_Social_Data('../../deep_prediction/data/train/data/')\n",
    "argoverse_val   = Argoverse_Social_Data('../../deep_prediction/data/val/data')\n",
    "argoverse_test  = Argoverse_Social_Data('../../deep_prediction/data/test_obs/data')\n",
    "\n",
    "batch_size = 4\n",
    "\n",
    "train_loader = DataLoader(argoverse_train, batch_size=batch_size,\n",
    "                    shuffle=True,collate_fn=collate_traj_social)\n",
    "val_loader = DataLoader(argoverse_val, batch_size=batch_size,\n",
    "                    shuffle=True,collate_fn=collate_traj_social)\n",
    "test_loader = DataLoader(argoverse_test, batch_size=batch_size,\n",
    "                    shuffle=True,collate_fn=collate_traj_social)"
   ]
  },
  {
   "cell_type": "code",
   "execution_count": 3,
   "metadata": {
    "scrolled": true
   },
   "outputs": [
    {
     "name": "stderr",
     "output_type": "stream",
     "text": [
      "/home/sapanagrawal777/sgan/scripts/sgan/data/data.py:183: UserWarning: To copy construct from a tensor, it is recommended to use sourceTensor.clone().detach() or sourceTensor.clone().detach().requires_grad_(True), rather than torch.tensor(sourceTensor).\n",
      "  agent_trajectory=torch.tensor(agent_trajectory)\n",
      "/home/sapanagrawal777/sgan/scripts/sgan/data/data.py:196: UserWarning: To copy construct from a tensor, it is recommended to use sourceTensor.clone().detach() or sourceTensor.clone().detach().requires_grad_(True), rather than torch.tensor(sourceTensor).\n",
      "  trajectory=torch.tensor(trajectory)\n"
     ]
    },
    {
     "name": "stdout",
     "output_type": "stream",
     "text": [
      "4\n"
     ]
    }
   ],
   "source": [
    "dataiter = iter(train_loader)\n",
    "batch = dataiter.next()\n",
    "\n",
    "train_agent = batch['train_agent']\n",
    "gt_agent = batch['gt_agent']\n",
    "neighbour = batch['neighbour']\n",
    "neighbour_gt = batch['neighbour_gt']\n",
    "\n",
    "obs_traj = train_agent[0].unsqueeze(0)\n",
    "obs_traj = torch.cat((obs_traj, neighbour[0]),0)\n",
    "\n",
    "pred_traj_gt = gt_agent[0].unsqueeze(0)\n",
    "pred_traj_gt = torch.cat((pred_traj_gt, neighbour_gt[0]),0)\n",
    "\n",
    "ped_count = obs_traj.shape[0]\n",
    "seq_start_end = [[0, ped_count]] # last number excluded\n",
    "\n",
    "print(len(neighbour))\n",
    "\n",
    "for i in range(1, len(neighbour)):\n",
    "    obs_traj = torch.cat((obs_traj, train_agent[i].unsqueeze(0)), 0)\n",
    "    obs_traj = torch.cat((obs_traj, neighbour[i]), 0)\n",
    "    \n",
    "    pred_traj_gt = torch.cat((pred_traj_gt, gt_agent[i].unsqueeze(0)), 0)\n",
    "    pred_traj_gt = torch.cat((pred_traj_gt, neighbour_gt[i]), 0)\n",
    "          \n",
    "    seq_start_end.append([ped_count, obs_traj.shape[0]])\n",
    "    ped_count = obs_traj.shape[0]\n",
    "\n",
    "obs_traj_rel = torch.zeros(obs_traj.shape)\n",
    "obs_traj_rel[:,1:,:] = obs_traj[:,1:,:] -  obs_traj[:,:-1,:]    \n",
    "\n",
    "pred_traj_gt_rel = torch.zeros(pred_traj_gt.shape)\n",
    "pred_traj_gt_rel[:,1:,:] = pred_traj_gt[:,1:,:] - pred_traj_gt[:,0:-1,:]\n",
    "\n",
    "seq_start_end = torch.tensor(seq_start_end)\n",
    "## \n",
    "obs_traj = obs_traj.transpose_(0,1) \n",
    "obs_traj_rel = obs_traj_rel.transpose_(0,1) \n",
    "pred_traj_gt = pred_traj_gt.transpose_(0,1) \n",
    "pred_traj_gt_rel = pred_traj_gt_rel.transpose_(0,1) \n",
    "\n"
   ]
  },
  {
   "cell_type": "code",
   "execution_count": 4,
   "metadata": {},
   "outputs": [
    {
     "name": "stdout",
     "output_type": "stream",
     "text": [
      "tensor([[ 0,  7],\n",
      "        [ 7, 15],\n",
      "        [15, 25],\n",
      "        [25, 30]])\n",
      "torch.Size([20, 30, 2])\n",
      "torch.Size([20, 30, 2])\n",
      "torch.Size([30, 30, 2])\n",
      "torch.Size([30, 30, 2])\n"
     ]
    }
   ],
   "source": [
    "print(seq_start_end)\n",
    "print(obs_traj.shape)\n",
    "print(obs_traj_rel.shape)\n",
    "print(pred_traj_gt.shape)\n",
    "print(pred_traj_gt_rel.shape)"
   ]
  },
  {
   "cell_type": "code",
   "execution_count": 5,
   "metadata": {},
   "outputs": [
    {
     "name": "stdout",
     "output_type": "stream",
     "text": [
      "torch.Size([1, 30, 4])\n",
      "torch.Size([30, 30, 2])\n",
      "torch.Size([30, 30, 2])\n"
     ]
    },
    {
     "ename": "RuntimeError",
     "evalue": "The size of tensor a (4) must match the size of tensor b (2) at non-singleton dimension 2",
     "output_type": "error",
     "traceback": [
      "\u001b[0;31m---------------------------------------------------------------------------\u001b[0m",
      "\u001b[0;31mRuntimeError\u001b[0m                              Traceback (most recent call last)",
      "\u001b[0;32m<ipython-input-5-1d7cb1ad0ac6>\u001b[0m in \u001b[0;36m<module>\u001b[0;34m\u001b[0m\n\u001b[1;32m      9\u001b[0m \u001b[0;34m\u001b[0m\u001b[0m\n\u001b[1;32m     10\u001b[0m loss = (loss_mask.unsqueeze(dim=0).transpose_(1,2) *\n\u001b[0;32m---> 11\u001b[0;31m             (pred_traj_gt.permute(1, 0, 2) - pred_traj.permute(1, 0, 2))**2)\n\u001b[0m\u001b[1;32m     12\u001b[0m \u001b[0;34m\u001b[0m\u001b[0m\n\u001b[1;32m     13\u001b[0m \u001b[0mprint\u001b[0m\u001b[0;34m(\u001b[0m\u001b[0mloss\u001b[0m\u001b[0;34m.\u001b[0m\u001b[0mshape\u001b[0m\u001b[0;34m)\u001b[0m\u001b[0;34m\u001b[0m\u001b[0;34m\u001b[0m\u001b[0m\n",
      "\u001b[0;31mRuntimeError\u001b[0m: The size of tensor a (4) must match the size of tensor b (2) at non-singleton dimension 2"
     ]
    }
   ],
   "source": [
    "pred_traj = torch.rand(pred_traj_gt.shape)\n",
    "\n",
    "loss_mask = torch.ones(len(neighbour), 50)\n",
    "loss_mask = loss_mask[:, 20:50]\n",
    "\n",
    "print(loss_mask.unsqueeze(dim=0).transpose_(1,2).shape)\n",
    "print(pred_traj_gt.permute(1, 0, 2).shape)\n",
    "print(pred_traj.permute(1, 0, 2).shape)\n",
    "\n",
    "loss = (loss_mask.unsqueeze(dim=0).transpose_(1,2) *\n",
    "            (pred_traj_gt.permute(1, 0, 2) - pred_traj.permute(1, 0, 2))**2)\n",
    "\n",
    "print(loss.shape)"
   ]
  },
  {
   "cell_type": "code",
   "execution_count": 7,
   "metadata": {},
   "outputs": [],
   "source": [
    "def poly_fit(traj, traj_len=30, threshold=0.002):\n",
    "    \"\"\"\n",
    "    Input:\n",
    "    - traj: Numpy array of shape (2, traj_len)\n",
    "    - traj_len: Len of trajectory\n",
    "    - threshold: Minimum error to be considered for non linear traj\n",
    "    Output:\n",
    "    - int: 1 -> Non Linear 0-> Linear\n",
    "    \"\"\"\n",
    "    t = np.linspace(0, traj_len - 1, traj_len)\n",
    "    res_x = np.polyfit(t, traj[:, 0], 2, full=True)[1]\n",
    "    res_y = np.polyfit(t, traj[:, 1], 2, full=True)[1]\n",
    "    \n",
    "    if res_x + res_y >= threshold:\n",
    "        return 1.0\n",
    "    else:\n",
    "        return 0.0"
   ]
  },
  {
   "cell_type": "code",
   "execution_count": 14,
   "metadata": {},
   "outputs": [],
   "source": [
    "dataiter = iter(train_loader)\n",
    "batch = dataiter.next()\n",
    "\n",
    "train_agent = batch['train_agent']\n",
    "gt_agent = batch['gt_agent']\n",
    "neighbour = batch['neighbour']\n",
    "neighbour_gt = batch['neighbour_gt']\n",
    "\n",
    "obs_traj = train_agent[0].unsqueeze(0)\n",
    "obs_traj = torch.cat((obs_traj, neighbour[0]),0)\n",
    "\n",
    "pred_traj_gt = gt_agent[0].unsqueeze(0)\n",
    "pred_traj_gt = torch.cat((pred_traj_gt, neighbour_gt[0]),0)\n",
    "\n",
    "ped_count = obs_traj.shape[0]\n",
    "seq_start_end = [[0, ped_count]] # last number excluded\n",
    "\n",
    "non_linear_ped = []\n",
    "_non_linear_ped = [poly_fit(np.array(gt_agent[0]))]\n",
    "\n",
    "for j in range(1,ped_count-1):\n",
    "    _non_linear_ped.append(poly_fit(np.array(neighbour_gt[0][j])))\n",
    "non_linear_ped += _non_linear_ped\n",
    "\n",
    "for i in range(1, len(neighbour)):\n",
    "    obs_traj = torch.cat((obs_traj, train_agent[i].unsqueeze(0)), 0)\n",
    "    obs_traj = torch.cat((obs_traj, neighbour[i]), 0)\n",
    "\n",
    "    pred_traj_gt = torch.cat((pred_traj_gt, gt_agent[i].unsqueeze(0)), 0)\n",
    "    pred_traj_gt = torch.cat((pred_traj_gt, neighbour_gt[i]), 0)\n",
    "\n",
    "    seq_start_end.append([ped_count, obs_traj.shape[0]])\n",
    "\n",
    "    num_peds_considered = obs_traj.shape[0] - ped_count\n",
    "    ped_count = obs_traj.shape[0]\n",
    "\n",
    "    _non_linear_ped = [poly_fit(np.array(gt_agent[i]))]\n",
    "\n",
    "    for j in range(1, num_peds_considered-1):\n",
    "        _non_linear_ped.append(poly_fit(np.array(neighbour_gt[i][j])))\n",
    "\n",
    "    non_linear_ped += _non_linear_ped\n",
    "\n",
    "obs_traj_rel = torch.zeros(obs_traj.shape)\n",
    "obs_traj_rel[:,1:,:] = obs_traj[:,1:,:] -  obs_traj[:,:-1,:]    \n",
    "\n",
    "pred_traj_gt_rel = torch.zeros(pred_traj_gt.shape)\n",
    "pred_traj_gt_rel[:,1:,:] = pred_traj_gt[:,1:,:] - pred_traj_gt[:,0:-1,:]\n",
    "\n",
    "seq_start_end = torch.tensor(seq_start_end)\n",
    "non_linear_ped = torch.tensor(non_linear_ped)\n",
    "## \n",
    "obs_traj = obs_traj.transpose_(0,1) \n",
    "obs_traj_rel = obs_traj_rel.transpose_(0,1) \n",
    "pred_traj_gt = pred_traj_gt.transpose_(0,1) \n",
    "pred_traj_gt_rel = pred_traj_gt_rel.transpose_(0,1) "
   ]
  },
  {
   "cell_type": "code",
   "execution_count": 57,
   "metadata": {},
   "outputs": [
    {
     "data": {
      "text/plain": [
       "tensor([0., 0., 0., 0., 0., 0., 0., 0., 0., 0., 0., 0., 0., 0., 0., 0., 0., 0., 0., 0., 0., 0., 0., 0.,\n",
       "        0., 0.])"
      ]
     },
     "execution_count": 57,
     "metadata": {},
     "output_type": "execute_result"
    }
   ],
   "source": [
    "1 - torch.tensor(non_linear_ped)"
   ]
  },
  {
   "cell_type": "code",
   "execution_count": null,
   "metadata": {},
   "outputs": [],
   "source": []
  }
 ],
 "metadata": {
  "kernelspec": {
   "display_name": "Python 3",
   "language": "python",
   "name": "python3"
  },
  "language_info": {
   "codemirror_mode": {
    "name": "ipython",
    "version": 3
   },
   "file_extension": ".py",
   "mimetype": "text/x-python",
   "name": "python",
   "nbconvert_exporter": "python",
   "pygments_lexer": "ipython3",
   "version": "3.7.4"
  }
 },
 "nbformat": 4,
 "nbformat_minor": 4
}
