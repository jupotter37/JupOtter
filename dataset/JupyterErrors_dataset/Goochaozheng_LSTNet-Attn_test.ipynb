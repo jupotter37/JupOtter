{
 "metadata": {
  "language_info": {
   "codemirror_mode": {
    "name": "ipython",
    "version": 3
   },
   "file_extension": ".py",
   "mimetype": "text/x-python",
   "name": "python",
   "nbconvert_exporter": "python",
   "pygments_lexer": "ipython3",
   "version": "3.7.9"
  },
  "orig_nbformat": 2,
  "kernelspec": {
   "name": "python379jvsc74a57bd0c672f8d9b3a494555f7197cb271183ca36e20591932ca8e174cea507579fcebe",
   "display_name": "Python 3.7.9 64-bit ('py3': conda)"
  }
 },
 "nbformat": 4,
 "nbformat_minor": 2,
 "cells": [
  {
   "cell_type": "code",
   "execution_count": 19,
   "metadata": {},
   "outputs": [],
   "source": [
    "from utils import *\n",
    "import torch\n",
    "import torch.nn as nn\n",
    "import numpy as np\n",
    "import torch.nn.functional as F\n",
    "from models import LSTNet"
   ]
  },
  {
   "cell_type": "code",
   "execution_count": 16,
   "metadata": {},
   "outputs": [],
   "source": [
    "Data = Data_utility('electricity', train=0.6, valid=0.2, cuda=True, horizon=3, window=7);"
   ]
  },
  {
   "cell_type": "code",
   "execution_count": 17,
   "metadata": {},
   "outputs": [
    {
     "output_type": "execute_result",
     "data": {
      "text/plain": [
       "26304"
      ]
     },
     "metadata": {},
     "execution_count": 17
    }
   ],
   "source": [
    "Data.n"
   ]
  },
  {
   "cell_type": "code",
   "execution_count": 11,
   "metadata": {},
   "outputs": [
    {
     "output_type": "execute_result",
     "data": {
      "text/plain": [
       "500"
      ]
     },
     "metadata": {},
     "execution_count": 11
    }
   ],
   "source": [
    "Data.m"
   ]
  },
  {
   "cell_type": "code",
   "execution_count": 12,
   "metadata": {},
   "outputs": [
    {
     "output_type": "execute_result",
     "data": {
      "text/plain": [
       "torch.Size([334, 7, 500])"
      ]
     },
     "metadata": {},
     "execution_count": 12
    }
   ],
   "source": [
    "Data.train[0].shape"
   ]
  },
  {
   "cell_type": "code",
   "execution_count": 2,
   "metadata": {},
   "outputs": [],
   "source": [
    "x = torch.rand((100, 144))"
   ]
  },
  {
   "cell_type": "code",
   "execution_count": 8,
   "metadata": {},
   "outputs": [
    {
     "output_type": "execute_result",
     "data": {
      "text/plain": [
       "tensor([0.5774, 0.9189, 0.0934, 0.8723, 0.0835, 0.0141, 0.9240, 0.1710, 0.4614,\n",
       "        0.0440, 0.1526, 0.3842, 0.4562, 0.6845, 0.3312, 0.2982, 0.1248, 0.4338,\n",
       "        0.7438, 0.1335, 0.4737, 0.7796, 0.4056, 0.4576, 0.0861, 0.7290, 0.9284,\n",
       "        0.5321, 0.0869, 0.1288, 0.2062, 0.8600, 0.2653, 0.1864, 0.4020, 0.8848,\n",
       "        0.4779, 0.2485, 0.7522, 0.7714, 0.7630, 0.5677, 0.7847, 0.1508, 0.3880,\n",
       "        0.7487, 0.1664, 0.3521, 0.2151, 0.6049, 0.5302, 0.9571, 0.6244, 0.8343,\n",
       "        0.9358, 0.0887, 0.7898, 0.7969, 0.5067, 0.0342, 0.9800, 0.1311, 0.8145,\n",
       "        0.1241, 0.4799, 0.7700, 0.4075, 0.0849, 0.1796, 0.2676, 0.8355, 0.4601,\n",
       "        0.6155, 0.4340, 0.2749, 0.3147, 0.5540, 0.0685, 0.6377, 0.6561, 0.2388,\n",
       "        0.0690, 0.8235, 0.7045, 0.2812, 0.0157, 0.2357, 0.8919, 0.8756, 0.1131,\n",
       "        0.9803, 0.0834, 0.5684, 0.7202, 0.1375, 0.1450, 0.8434, 0.1802, 0.3903,\n",
       "        0.0634, 0.7067, 0.8042, 0.1206, 0.3918, 0.3334, 0.1662, 0.9300, 0.5392,\n",
       "        0.0754, 0.9398, 0.2456, 0.8385, 0.5850, 0.5722, 0.7533, 0.5946, 0.2931,\n",
       "        0.0169, 0.8104, 0.6170, 0.4677, 0.9887, 0.2025, 0.0865, 0.2994, 0.1540,\n",
       "        0.8435, 0.3004, 0.0683, 0.5160, 0.3655, 0.5965, 0.6529, 0.4934, 0.1091,\n",
       "        0.8301, 0.0884, 0.9002, 0.4135, 0.2175, 0.5508, 0.5154, 0.4047, 0.2559])"
      ]
     },
     "metadata": {},
     "execution_count": 8
    }
   ],
   "source": [
    "x[0]"
   ]
  },
  {
   "cell_type": "code",
   "execution_count": 6,
   "metadata": {},
   "outputs": [],
   "source": [
    "v = x.view(100, 6, 24)"
   ]
  },
  {
   "cell_type": "code",
   "execution_count": 9,
   "metadata": {},
   "outputs": [
    {
     "output_type": "execute_result",
     "data": {
      "text/plain": [
       "tensor([[0.5774, 0.9189, 0.0934, 0.8723, 0.0835, 0.0141, 0.9240, 0.1710, 0.4614,\n",
       "         0.0440, 0.1526, 0.3842, 0.4562, 0.6845, 0.3312, 0.2982, 0.1248, 0.4338,\n",
       "         0.7438, 0.1335, 0.4737, 0.7796, 0.4056, 0.4576],\n",
       "        [0.0861, 0.7290, 0.9284, 0.5321, 0.0869, 0.1288, 0.2062, 0.8600, 0.2653,\n",
       "         0.1864, 0.4020, 0.8848, 0.4779, 0.2485, 0.7522, 0.7714, 0.7630, 0.5677,\n",
       "         0.7847, 0.1508, 0.3880, 0.7487, 0.1664, 0.3521],\n",
       "        [0.2151, 0.6049, 0.5302, 0.9571, 0.6244, 0.8343, 0.9358, 0.0887, 0.7898,\n",
       "         0.7969, 0.5067, 0.0342, 0.9800, 0.1311, 0.8145, 0.1241, 0.4799, 0.7700,\n",
       "         0.4075, 0.0849, 0.1796, 0.2676, 0.8355, 0.4601],\n",
       "        [0.6155, 0.4340, 0.2749, 0.3147, 0.5540, 0.0685, 0.6377, 0.6561, 0.2388,\n",
       "         0.0690, 0.8235, 0.7045, 0.2812, 0.0157, 0.2357, 0.8919, 0.8756, 0.1131,\n",
       "         0.9803, 0.0834, 0.5684, 0.7202, 0.1375, 0.1450],\n",
       "        [0.8434, 0.1802, 0.3903, 0.0634, 0.7067, 0.8042, 0.1206, 0.3918, 0.3334,\n",
       "         0.1662, 0.9300, 0.5392, 0.0754, 0.9398, 0.2456, 0.8385, 0.5850, 0.5722,\n",
       "         0.7533, 0.5946, 0.2931, 0.0169, 0.8104, 0.6170],\n",
       "        [0.4677, 0.9887, 0.2025, 0.0865, 0.2994, 0.1540, 0.8435, 0.3004, 0.0683,\n",
       "         0.5160, 0.3655, 0.5965, 0.6529, 0.4934, 0.1091, 0.8301, 0.0884, 0.9002,\n",
       "         0.4135, 0.2175, 0.5508, 0.5154, 0.4047, 0.2559]])"
      ]
     },
     "metadata": {},
     "execution_count": 9
    }
   ],
   "source": [
    "v[0]"
   ]
  },
  {
   "cell_type": "code",
   "execution_count": 20,
   "metadata": {},
   "outputs": [],
   "source": [
    "r_stack = torch.rand((100, 24, 64))\n",
    "r = torch.rand((100, 64))"
   ]
  },
  {
   "cell_type": "code",
   "execution_count": 22,
   "metadata": {},
   "outputs": [
    {
     "output_type": "execute_result",
     "data": {
      "text/plain": [
       "24"
      ]
     },
     "metadata": {},
     "execution_count": 22
    }
   ],
   "source": [
    "torch.cosine_similarity(r_stack, r.unsqueeze(1).repeat(1, 24, 1), 2).shape[1]"
   ]
  },
  {
   "cell_type": "code",
   "execution_count": 18,
   "metadata": {},
   "outputs": [
    {
     "output_type": "error",
     "ename": "NameError",
     "evalue": "name 'r_stack' is not defined",
     "traceback": [
      "\u001b[0;31m---------------------------------------------------------------------------\u001b[0m",
      "\u001b[0;31mNameError\u001b[0m                                 Traceback (most recent call last)",
      "\u001b[0;32m<ipython-input-18-e0bcae403f8f>\u001b[0m in \u001b[0;36m<module>\u001b[0;34m\u001b[0m\n\u001b[0;32m----> 1\u001b[0;31m \u001b[0mweight\u001b[0m \u001b[0;34m=\u001b[0m \u001b[0mtorch\u001b[0m\u001b[0;34m.\u001b[0m\u001b[0mbmm\u001b[0m\u001b[0;34m(\u001b[0m\u001b[0mr_stack\u001b[0m\u001b[0;34m,\u001b[0m \u001b[0mr\u001b[0m\u001b[0;34m.\u001b[0m\u001b[0munsqueeze\u001b[0m\u001b[0;34m(\u001b[0m\u001b[0;36m2\u001b[0m\u001b[0;34m)\u001b[0m\u001b[0;34m)\u001b[0m\u001b[0;34m\u001b[0m\u001b[0;34m\u001b[0m\u001b[0m\n\u001b[0m\u001b[1;32m      2\u001b[0m \u001b[0mweight\u001b[0m \u001b[0;34m=\u001b[0m \u001b[0mF\u001b[0m\u001b[0;34m.\u001b[0m\u001b[0msoftmax\u001b[0m\u001b[0;34m(\u001b[0m\u001b[0mweight\u001b[0m\u001b[0;34m,\u001b[0m \u001b[0;36m1\u001b[0m\u001b[0;34m)\u001b[0m\u001b[0;34m\u001b[0m\u001b[0;34m\u001b[0m\u001b[0m\n",
      "\u001b[0;31mNameError\u001b[0m: name 'r_stack' is not defined"
     ]
    }
   ],
   "source": [
    "weight = torch.bmm(r_stack, r.unsqueeze(2))\n",
    "weight = F.softmax(weight, 1)"
   ]
  },
  {
   "cell_type": "code",
   "execution_count": null,
   "metadata": {},
   "outputs": [],
   "source": [
    "torch.cosine_similarity(r_stack, r)"
   ]
  },
  {
   "cell_type": "code",
   "execution_count": 51,
   "metadata": {},
   "outputs": [
    {
     "output_type": "execute_result",
     "data": {
      "text/plain": [
       "torch.Size([100, 24, 1])"
      ]
     },
     "metadata": {},
     "execution_count": 51
    }
   ],
   "source": [
    "weight.shape"
   ]
  },
  {
   "cell_type": "code",
   "execution_count": 75,
   "metadata": {},
   "outputs": [],
   "source": [
    "weight = torch.ones((100, 24, 1)) * 0.1\n",
    "r_stack = torch.ones((100, 24, 64))"
   ]
  },
  {
   "cell_type": "code",
   "execution_count": 76,
   "metadata": {},
   "outputs": [],
   "source": [
    "output = torch.bmm(r_stack.permute(0,2,1), weight)"
   ]
  },
  {
   "cell_type": "code",
   "execution_count": 77,
   "metadata": {},
   "outputs": [
    {
     "output_type": "execute_result",
     "data": {
      "text/plain": [
       "torch.Size([100, 64, 1])"
      ]
     },
     "metadata": {},
     "execution_count": 77
    }
   ],
   "source": [
    "output.shape"
   ]
  },
  {
   "cell_type": "code",
   "execution_count": 78,
   "metadata": {},
   "outputs": [],
   "source": [
    "a = torch.rand((100, 64))\n",
    "b = torch.rand((100, 64))\n",
    "lin = nn.Linear(in_features=128, out_features=64)"
   ]
  },
  {
   "cell_type": "code",
   "execution_count": 80,
   "metadata": {},
   "outputs": [
    {
     "output_type": "execute_result",
     "data": {
      "text/plain": [
       "torch.Size([100, 128])"
      ]
     },
     "metadata": {},
     "execution_count": 80
    }
   ],
   "source": [
    "torch.cat((a,b),1).shape"
   ]
  },
  {
   "cell_type": "code",
   "execution_count": 66,
   "metadata": {},
   "outputs": [
    {
     "output_type": "execute_result",
     "data": {
      "text/plain": [
       "torch.Size([100, 2, 64])"
      ]
     },
     "metadata": {},
     "execution_count": 66
    }
   ],
   "source": [
    "output.shape"
   ]
  },
  {
   "cell_type": "code",
   "execution_count": 24,
   "metadata": {},
   "outputs": [],
   "source": [
    "multihead = nn.MultiheadAttention(embed_dim=64, num_heads=4)"
   ]
  },
  {
   "cell_type": "code",
   "execution_count": 25,
   "metadata": {},
   "outputs": [],
   "source": [
    "sample = torch.rand((168, 100, 64))\n",
    "output, weight = multihead(sample, sample, sample)"
   ]
  },
  {
   "cell_type": "code",
   "execution_count": 26,
   "metadata": {},
   "outputs": [
    {
     "output_type": "execute_result",
     "data": {
      "text/plain": [
       "torch.Size([168, 100, 64])"
      ]
     },
     "metadata": {},
     "execution_count": 26
    }
   ],
   "source": [
    "output.shape"
   ]
  },
  {
   "cell_type": "code",
   "execution_count": 99,
   "metadata": {},
   "outputs": [
    {
     "output_type": "execute_result",
     "data": {
      "text/plain": [
       "torch.Size([100, 64])"
      ]
     },
     "metadata": {},
     "execution_count": 99
    }
   ],
   "source": [
    "output.permute(1,0,2)[:, -1, :].shape"
   ]
  },
  {
   "cell_type": "code",
   "execution_count": null,
   "metadata": {},
   "outputs": [],
   "source": []
  }
 ]
}