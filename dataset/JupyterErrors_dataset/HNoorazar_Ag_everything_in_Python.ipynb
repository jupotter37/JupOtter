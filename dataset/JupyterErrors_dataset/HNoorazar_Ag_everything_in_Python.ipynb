{
 "cells": [
  {
   "cell_type": "markdown",
   "metadata": {
    "colab_type": "text",
    "id": "r8zJPd_vu_vE"
   },
   "source": [
    "# Do everything in Python. not Images of EE\n",
    "[https://github.com/renelikestacos/Google-Earth-Engine-Python-Examples/blob/master/005_EE_Proba-V_NDVI_Time-Series_Analysis.ipynb](https://github.com/renelikestacos/Google-Earth-Engine-Python-Examples/blob/master/005_EE_Proba-V_NDVI_Time-Series_Analysis.ipynb)\n",
    "\n",
    "    1. Get the Red and NIR bands\n",
    "    2. Compute NDVI\n",
    "    3. Form pandas dataframe\n",
    "    4. Carry on\n",
    "\n",
    "However, this example is done for one point. We have to deal with space and time."
   ]
  },
  {
   "cell_type": "markdown",
   "metadata": {
    "colab_type": "text",
    "id": "kwHl-GAMvmwf"
   },
   "source": [
    "# Read shapefiles and use them to get images off EE."
   ]
  },
  {
   "cell_type": "code",
   "execution_count": 1,
   "metadata": {
    "colab": {
     "base_uri": "https://localhost:8080/",
     "height": 171
    },
    "colab_type": "code",
    "executionInfo": {
     "elapsed": 42477,
     "status": "ok",
     "timestamp": 1579721505466,
     "user": {
      "displayName": "Hossein Noorazar",
      "photoUrl": "https://lh3.googleusercontent.com/a-/AAuE7mCD51X50VG0jXrChn3oUAWabpFgjnI_rX3bygPwilU=s64",
      "userId": "07953809792932992694"
     },
     "user_tz": 480
    },
    "id": "bSmRSD1XvDzP",
    "outputId": "721433a1-e6b4-4387-d3af-6733e578c502"
   },
   "outputs": [
    {
     "ename": "ModuleNotFoundError",
     "evalue": "No module named 'StringIO'",
     "output_type": "error",
     "traceback": [
      "\u001b[0;31m---------------------------------------------------------------------------\u001b[0m",
      "\u001b[0;31mModuleNotFoundError\u001b[0m                       Traceback (most recent call last)",
      "\u001b[0;32m<ipython-input-1-bfbeabf94e64>\u001b[0m in \u001b[0;36m<module>\u001b[0;34m\u001b[0m\n\u001b[0;32m----> 1\u001b[0;31m \u001b[0;32mimport\u001b[0m \u001b[0mee\u001b[0m\u001b[0;34m\u001b[0m\u001b[0;34m\u001b[0m\u001b[0m\n\u001b[0m\u001b[1;32m      2\u001b[0m \u001b[0mee\u001b[0m\u001b[0;34m.\u001b[0m\u001b[0mAuthenticate\u001b[0m\u001b[0;34m(\u001b[0m\u001b[0;34m)\u001b[0m\u001b[0;34m\u001b[0m\u001b[0;34m\u001b[0m\u001b[0m\n",
      "\u001b[0;32m~/opt/anaconda3/lib/python3.8/site-packages/ee/__init__.py\u001b[0m in \u001b[0;36m<module>\u001b[0;34m\u001b[0m\n\u001b[0;32m----> 1\u001b[0;31m \u001b[0;32mfrom\u001b[0m \u001b[0;34m.\u001b[0m\u001b[0mmain\u001b[0m \u001b[0;32mimport\u001b[0m \u001b[0mmain\u001b[0m\u001b[0;34m\u001b[0m\u001b[0;34m\u001b[0m\u001b[0m\n\u001b[0m",
      "\u001b[0;32m~/opt/anaconda3/lib/python3.8/site-packages/ee/main.py\u001b[0m in \u001b[0;36m<module>\u001b[0;34m\u001b[0m\n\u001b[1;32m      8\u001b[0m \u001b[0;32mimport\u001b[0m \u001b[0mstat\u001b[0m\u001b[0;34m\u001b[0m\u001b[0;34m\u001b[0m\u001b[0m\n\u001b[1;32m      9\u001b[0m \u001b[0;32mimport\u001b[0m \u001b[0mplistlib\u001b[0m\u001b[0;34m\u001b[0m\u001b[0;34m\u001b[0m\u001b[0m\n\u001b[0;32m---> 10\u001b[0;31m \u001b[0;32mimport\u001b[0m \u001b[0mStringIO\u001b[0m\u001b[0;34m\u001b[0m\u001b[0;34m\u001b[0m\u001b[0m\n\u001b[0m\u001b[1;32m     11\u001b[0m \u001b[0;32mimport\u001b[0m \u001b[0mplatform\u001b[0m\u001b[0;34m\u001b[0m\u001b[0;34m\u001b[0m\u001b[0m\n\u001b[1;32m     12\u001b[0m \u001b[0;32mimport\u001b[0m \u001b[0mtime\u001b[0m\u001b[0;34m\u001b[0m\u001b[0;34m\u001b[0m\u001b[0m\n",
      "\u001b[0;31mModuleNotFoundError\u001b[0m: No module named 'StringIO'"
     ]
    }
   ],
   "source": [
    "import ee\n",
    "ee.Authenticate()"
   ]
  },
  {
   "cell_type": "code",
   "execution_count": 0,
   "metadata": {
    "colab": {},
    "colab_type": "code",
    "id": "WbmJF5N0vIMx"
   },
   "outputs": [],
   "source": [
    "# Initialize the library.\n",
    "ee.Initialize()"
   ]
  },
  {
   "cell_type": "code",
   "execution_count": 0,
   "metadata": {
    "colab": {
     "base_uri": "https://localhost:8080/",
     "height": 457
    },
    "colab_type": "code",
    "executionInfo": {
     "elapsed": 9305,
     "status": "ok",
     "timestamp": 1579721519484,
     "user": {
      "displayName": "Hossein Noorazar",
      "photoUrl": "https://lh3.googleusercontent.com/a-/AAuE7mCD51X50VG0jXrChn3oUAWabpFgjnI_rX3bygPwilU=s64",
      "userId": "07953809792932992694"
     },
     "user_tz": 480
    },
    "id": "U8i9Zlw_vT-1",
    "outputId": "cc445b0a-1539-4bc9-93f9-88ec074bee83"
   },
   "outputs": [
    {
     "name": "stdout",
     "output_type": "stream",
     "text": [
      "Collecting geopandas\n",
      "\u001b[?25l  Downloading https://files.pythonhosted.org/packages/5b/0c/e6c99e561b03482220f00443f610ccf4dce9b50f4b1093d735f93c6fc8c6/geopandas-0.6.2-py2.py3-none-any.whl (919kB)\n",
      "\r",
      "\u001b[K     |▍                               | 10kB 19.5MB/s eta 0:00:01\r",
      "\u001b[K     |▊                               | 20kB 1.8MB/s eta 0:00:01\r",
      "\u001b[K     |█                               | 30kB 2.7MB/s eta 0:00:01\r",
      "\u001b[K     |█▍                              | 40kB 1.8MB/s eta 0:00:01\r",
      "\u001b[K     |█▉                              | 51kB 2.2MB/s eta 0:00:01\r",
      "\u001b[K     |██▏                             | 61kB 2.6MB/s eta 0:00:01\r",
      "\u001b[K     |██▌                             | 71kB 3.0MB/s eta 0:00:01\r",
      "\u001b[K     |██▉                             | 81kB 3.4MB/s eta 0:00:01\r",
      "\u001b[K     |███▏                            | 92kB 3.8MB/s eta 0:00:01\r",
      "\u001b[K     |███▋                            | 102kB 2.9MB/s eta 0:00:01\r",
      "\u001b[K     |████                            | 112kB 2.9MB/s eta 0:00:01\r",
      "\u001b[K     |████▎                           | 122kB 2.9MB/s eta 0:00:01\r",
      "\u001b[K     |████▋                           | 133kB 2.9MB/s eta 0:00:01\r",
      "\u001b[K     |█████                           | 143kB 2.9MB/s eta 0:00:01\r",
      "\u001b[K     |█████▍                          | 153kB 2.9MB/s eta 0:00:01\r",
      "\u001b[K     |█████▊                          | 163kB 2.9MB/s eta 0:00:01\r",
      "\u001b[K     |██████                          | 174kB 2.9MB/s eta 0:00:01\r",
      "\u001b[K     |██████▍                         | 184kB 2.9MB/s eta 0:00:01\r",
      "\u001b[K     |██████▊                         | 194kB 2.9MB/s eta 0:00:01\r",
      "\u001b[K     |███████▏                        | 204kB 2.9MB/s eta 0:00:01\r",
      "\u001b[K     |███████▌                        | 215kB 2.9MB/s eta 0:00:01\r",
      "\u001b[K     |███████▉                        | 225kB 2.9MB/s eta 0:00:01\r",
      "\u001b[K     |████████▏                       | 235kB 2.9MB/s eta 0:00:01\r",
      "\u001b[K     |████████▌                       | 245kB 2.9MB/s eta 0:00:01\r",
      "\u001b[K     |█████████                       | 256kB 2.9MB/s eta 0:00:01\r",
      "\u001b[K     |█████████▎                      | 266kB 2.9MB/s eta 0:00:01\r",
      "\u001b[K     |█████████▋                      | 276kB 2.9MB/s eta 0:00:01\r",
      "\u001b[K     |██████████                      | 286kB 2.9MB/s eta 0:00:01\r",
      "\u001b[K     |██████████▎                     | 296kB 2.9MB/s eta 0:00:01\r",
      "\u001b[K     |██████████▊                     | 307kB 2.9MB/s eta 0:00:01\r",
      "\u001b[K     |███████████                     | 317kB 2.9MB/s eta 0:00:01\r",
      "\u001b[K     |███████████▍                    | 327kB 2.9MB/s eta 0:00:01\r",
      "\u001b[K     |███████████▊                    | 337kB 2.9MB/s eta 0:00:01\r",
      "\u001b[K     |████████████                    | 348kB 2.9MB/s eta 0:00:01\r",
      "\u001b[K     |████████████▌                   | 358kB 2.9MB/s eta 0:00:01\r",
      "\u001b[K     |████████████▉                   | 368kB 2.9MB/s eta 0:00:01\r",
      "\u001b[K     |█████████████▏                  | 378kB 2.9MB/s eta 0:00:01\r",
      "\u001b[K     |█████████████▌                  | 389kB 2.9MB/s eta 0:00:01\r",
      "\u001b[K     |██████████████                  | 399kB 2.9MB/s eta 0:00:01\r",
      "\u001b[K     |██████████████▎                 | 409kB 2.9MB/s eta 0:00:01\r",
      "\u001b[K     |██████████████▋                 | 419kB 2.9MB/s eta 0:00:01\r",
      "\u001b[K     |███████████████                 | 430kB 2.9MB/s eta 0:00:01\r",
      "\u001b[K     |███████████████▎                | 440kB 2.9MB/s eta 0:00:01\r",
      "\u001b[K     |███████████████▊                | 450kB 2.9MB/s eta 0:00:01\r",
      "\u001b[K     |████████████████                | 460kB 2.9MB/s eta 0:00:01\r",
      "\u001b[K     |████████████████▍               | 471kB 2.9MB/s eta 0:00:01\r",
      "\u001b[K     |████████████████▊               | 481kB 2.9MB/s eta 0:00:01\r",
      "\u001b[K     |█████████████████               | 491kB 2.9MB/s eta 0:00:01\r",
      "\u001b[K     |█████████████████▌              | 501kB 2.9MB/s eta 0:00:01\r",
      "\u001b[K     |█████████████████▉              | 512kB 2.9MB/s eta 0:00:01\r",
      "\u001b[K     |██████████████████▏             | 522kB 2.9MB/s eta 0:00:01\r",
      "\u001b[K     |██████████████████▌             | 532kB 2.9MB/s eta 0:00:01\r",
      "\u001b[K     |██████████████████▉             | 542kB 2.9MB/s eta 0:00:01\r",
      "\u001b[K     |███████████████████▎            | 552kB 2.9MB/s eta 0:00:01\r",
      "\u001b[K     |███████████████████▋            | 563kB 2.9MB/s eta 0:00:01\r",
      "\u001b[K     |████████████████████            | 573kB 2.9MB/s eta 0:00:01\r",
      "\u001b[K     |████████████████████▎           | 583kB 2.9MB/s eta 0:00:01\r",
      "\u001b[K     |████████████████████▋           | 593kB 2.9MB/s eta 0:00:01\r",
      "\u001b[K     |█████████████████████           | 604kB 2.9MB/s eta 0:00:01\r",
      "\u001b[K     |█████████████████████▍          | 614kB 2.9MB/s eta 0:00:01\r",
      "\u001b[K     |█████████████████████▊          | 624kB 2.9MB/s eta 0:00:01\r",
      "\u001b[K     |██████████████████████          | 634kB 2.9MB/s eta 0:00:01\r",
      "\u001b[K     |██████████████████████▍         | 645kB 2.9MB/s eta 0:00:01\r",
      "\u001b[K     |██████████████████████▉         | 655kB 2.9MB/s eta 0:00:01\r",
      "\u001b[K     |███████████████████████▏        | 665kB 2.9MB/s eta 0:00:01\r",
      "\u001b[K     |███████████████████████▌        | 675kB 2.9MB/s eta 0:00:01\r",
      "\u001b[K     |███████████████████████▉        | 686kB 2.9MB/s eta 0:00:01\r",
      "\u001b[K     |████████████████████████▏       | 696kB 2.9MB/s eta 0:00:01\r",
      "\u001b[K     |████████████████████████▋       | 706kB 2.9MB/s eta 0:00:01\r",
      "\u001b[K     |█████████████████████████       | 716kB 2.9MB/s eta 0:00:01\r",
      "\u001b[K     |█████████████████████████▎      | 727kB 2.9MB/s eta 0:00:01\r",
      "\u001b[K     |█████████████████████████▋      | 737kB 2.9MB/s eta 0:00:01\r",
      "\u001b[K     |██████████████████████████      | 747kB 2.9MB/s eta 0:00:01\r",
      "\u001b[K     |██████████████████████████▍     | 757kB 2.9MB/s eta 0:00:01\r",
      "\u001b[K     |██████████████████████████▊     | 768kB 2.9MB/s eta 0:00:01\r",
      "\u001b[K     |███████████████████████████     | 778kB 2.9MB/s eta 0:00:01\r",
      "\u001b[K     |███████████████████████████▍    | 788kB 2.9MB/s eta 0:00:01\r",
      "\u001b[K     |███████████████████████████▉    | 798kB 2.9MB/s eta 0:00:01\r",
      "\u001b[K     |████████████████████████████▏   | 808kB 2.9MB/s eta 0:00:01\r",
      "\u001b[K     |████████████████████████████▌   | 819kB 2.9MB/s eta 0:00:01\r",
      "\u001b[K     |████████████████████████████▉   | 829kB 2.9MB/s eta 0:00:01\r",
      "\u001b[K     |█████████████████████████████▏  | 839kB 2.9MB/s eta 0:00:01\r",
      "\u001b[K     |█████████████████████████████▋  | 849kB 2.9MB/s eta 0:00:01\r",
      "\u001b[K     |██████████████████████████████  | 860kB 2.9MB/s eta 0:00:01\r",
      "\u001b[K     |██████████████████████████████▎ | 870kB 2.9MB/s eta 0:00:01\r",
      "\u001b[K     |██████████████████████████████▋ | 880kB 2.9MB/s eta 0:00:01\r",
      "\u001b[K     |███████████████████████████████ | 890kB 2.9MB/s eta 0:00:01\r",
      "\u001b[K     |███████████████████████████████▍| 901kB 2.9MB/s eta 0:00:01\r",
      "\u001b[K     |███████████████████████████████▊| 911kB 2.9MB/s eta 0:00:01\r",
      "\u001b[K     |████████████████████████████████| 921kB 2.9MB/s \n",
      "\u001b[?25hRequirement already satisfied: pandas>=0.23.0 in /usr/local/lib/python3.6/dist-packages (from geopandas) (0.25.3)\n",
      "Collecting fiona\n",
      "\u001b[?25l  Downloading https://files.pythonhosted.org/packages/50/f7/9899f8a9a2e38601472fe1079ce5088f58833221c8b8507d8b5eafd5404a/Fiona-1.8.13-cp36-cp36m-manylinux1_x86_64.whl (11.8MB)\n",
      "\u001b[K     |████████████████████████████████| 11.8MB 38.4MB/s \n",
      "\u001b[?25hCollecting pyproj\n",
      "\u001b[?25l  Downloading https://files.pythonhosted.org/packages/d6/70/eedc98cd52b86de24a1589c762612a98bea26cde649ffdd60c1db396cce8/pyproj-2.4.2.post1-cp36-cp36m-manylinux2010_x86_64.whl (10.1MB)\n",
      "\u001b[K     |████████████████████████████████| 10.1MB 41.1MB/s \n",
      "\u001b[?25hRequirement already satisfied: shapely in /usr/local/lib/python3.6/dist-packages (from geopandas) (1.6.4.post2)\n",
      "Requirement already satisfied: pytz>=2017.2 in /usr/local/lib/python3.6/dist-packages (from pandas>=0.23.0->geopandas) (2018.9)\n",
      "Requirement already satisfied: numpy>=1.13.3 in /usr/local/lib/python3.6/dist-packages (from pandas>=0.23.0->geopandas) (1.17.5)\n",
      "Requirement already satisfied: python-dateutil>=2.6.1 in /usr/local/lib/python3.6/dist-packages (from pandas>=0.23.0->geopandas) (2.6.1)\n",
      "Requirement already satisfied: attrs>=17 in /usr/local/lib/python3.6/dist-packages (from fiona->geopandas) (19.3.0)\n",
      "Collecting cligj>=0.5\n",
      "  Downloading https://files.pythonhosted.org/packages/e4/be/30a58b4b0733850280d01f8bd132591b4668ed5c7046761098d665ac2174/cligj-0.5.0-py3-none-any.whl\n",
      "Requirement already satisfied: click<8,>=4.0 in /usr/local/lib/python3.6/dist-packages (from fiona->geopandas) (7.0)\n",
      "Requirement already satisfied: six>=1.7 in /usr/local/lib/python3.6/dist-packages (from fiona->geopandas) (1.12.0)\n",
      "Collecting click-plugins>=1.0\n",
      "  Downloading https://files.pythonhosted.org/packages/e9/da/824b92d9942f4e472702488857914bdd50f73021efea15b4cad9aca8ecef/click_plugins-1.1.1-py2.py3-none-any.whl\n",
      "Collecting munch\n",
      "  Downloading https://files.pythonhosted.org/packages/cc/ab/85d8da5c9a45e072301beb37ad7f833cd344e04c817d97e0cc75681d248f/munch-2.5.0-py2.py3-none-any.whl\n",
      "Installing collected packages: cligj, click-plugins, munch, fiona, pyproj, geopandas\n",
      "Successfully installed click-plugins-1.1.1 cligj-0.5.0 fiona-1.8.13 geopandas-0.6.2 munch-2.5.0 pyproj-2.4.2.post1\n"
     ]
    }
   ],
   "source": [
    "!pip install geopandas"
   ]
  },
  {
   "cell_type": "code",
   "execution_count": 0,
   "metadata": {
    "colab": {
     "base_uri": "https://localhost:8080/",
     "height": 34
    },
    "colab_type": "code",
    "executionInfo": {
     "elapsed": 442,
     "status": "ok",
     "timestamp": 1579722349010,
     "user": {
      "displayName": "Hossein Noorazar",
      "photoUrl": "https://lh3.googleusercontent.com/a-/AAuE7mCD51X50VG0jXrChn3oUAWabpFgjnI_rX3bygPwilU=s64",
      "userId": "07953809792932992694"
     },
     "user_tz": 480
    },
    "id": "w7KxuM40vUzK",
    "outputId": "16afa72a-5f90-4539-b58d-7c750babcbc7"
   },
   "outputs": [
    {
     "name": "stdout",
     "output_type": "stream",
     "text": [
      "Folium version: 0.8.3\n"
     ]
    }
   ],
   "source": [
    "# Import libraries\n",
    "\n",
    "from IPython.display import Image\n",
    "import ee\n",
    "from pylab import *\n",
    "import seaborn as sns\n",
    "from matplotlib.pylab import rcParams\n",
    "from statsmodels.tsa.seasonal import seasonal_decompose\n",
    "\n",
    "\n",
    "import numpy as np\n",
    "import tensorflow as tp\n",
    "from IPython.display import Image\n",
    "import folium\n",
    "import matplotlib.pyplot as plt\n",
    "\n",
    "import pandas as pd\n",
    "import geopandas as gpd\n",
    "import datetime\n",
    "import time\n",
    "from shapely.geometry import Point, Polygon\n",
    "import folium\n",
    "\n",
    "# Define the URL format used for Earth Engine generated map tiles.\n",
    "EE_TILES = 'https://earthengine.googleapis.com/map/{mapid}/{{z}}/{{x}}/{{y}}?token={token}'\n",
    "\n",
    "print('Folium version: ' + folium.__version__)"
   ]
  },
  {
   "cell_type": "markdown",
   "metadata": {
    "colab_type": "text",
    "id": "EcVNrM6mvaZ-"
   },
   "source": [
    "# Load Proba-V image collection and point geometry\n",
    "\n",
    "Selected Location of point is from the Proba-V Footprint X18Y02 in Luxembourg, Europe."
   ]
  },
  {
   "cell_type": "code",
   "execution_count": 0,
   "metadata": {
    "colab": {},
    "colab_type": "code",
    "id": "Ia5GDZ1Rvgcg"
   },
   "outputs": [],
   "source": [
    "# Set start and end date\n",
    "startTime = datetime.datetime(2015, 1, 1)\n",
    "endTime = datetime.datetime(2017, 12, 31)\n",
    "\n",
    "# Create image collection\n",
    "collection = ee.ImageCollection('VITO/PROBAV/C1/S1_TOC_100M').filterDate(startTime, endTime)\n",
    "\n",
    "# Create point in Luxembourg (Proba-V Footprint: X18Y02)\n",
    "point = {'type':'Point', 'coordinates':[6.134136, 49.612485]};"
   ]
  },
  {
   "cell_type": "code",
   "execution_count": 0,
   "metadata": {
    "colab": {},
    "colab_type": "code",
    "id": "t5tqOW5_1adI"
   },
   "outputs": [],
   "source": [
    "rr = collection.getRegion(point,500)"
   ]
  },
  {
   "cell_type": "code",
   "execution_count": 0,
   "metadata": {
    "colab": {},
    "colab_type": "code",
    "id": "lmtPK-xx1pp_"
   },
   "outputs": [],
   "source": []
  },
  {
   "cell_type": "markdown",
   "metadata": {
    "colab_type": "text",
    "id": "VenERR9tvg1l"
   },
   "source": [
    "\n",
    "# Retrieve information, reshape and calculate NDVI\n",
    "\n",
    "Retrieving information from point geometry with a buffer of 500m over image collection. Reshaping data and calculating NDVI from RED and NIR band."
   ]
  },
  {
   "cell_type": "code",
   "execution_count": 0,
   "metadata": {
    "colab": {},
    "colab_type": "code",
    "id": "WzguxAPDvzZa"
   },
   "outputs": [],
   "source": [
    "info = collection.getRegion(point,500).getInfo()"
   ]
  },
  {
   "cell_type": "code",
   "execution_count": 0,
   "metadata": {
    "colab": {
     "base_uri": "https://localhost:8080/",
     "height": 54
    },
    "colab_type": "code",
    "executionInfo": {
     "elapsed": 473,
     "status": "ok",
     "timestamp": 1579723221174,
     "user": {
      "displayName": "Hossein Noorazar",
      "photoUrl": "https://lh3.googleusercontent.com/a-/AAuE7mCD51X50VG0jXrChn3oUAWabpFgjnI_rX3bygPwilU=s64",
      "userId": "07953809792932992694"
     },
     "user_tz": 480
    },
    "id": "iYUnzK07v14n",
    "outputId": "139fb1a7-5c4a-43f9-950b-40679d4c9979"
   },
   "outputs": [
    {
     "data": {
      "text/plain": [
       "['id', 'longitude', 'latitude', 'time', 'RED', 'NIR', 'BLUE', 'SWIR', 'NDVI', 'SZA', 'SAA', 'SWIRVAA', 'SWIRVZA', 'VNIRVAA', 'VNIRVZA', 'SM', 'TIME']"
      ]
     },
     "execution_count": 72,
     "metadata": {
      "tags": []
     },
     "output_type": "execute_result"
    }
   ],
   "source": [
    "info[0]"
   ]
  },
  {
   "cell_type": "code",
   "execution_count": 0,
   "metadata": {
    "colab": {},
    "colab_type": "code",
    "id": "3CCCcfSWx3x8"
   },
   "outputs": [],
   "source": []
  },
  {
   "cell_type": "code",
   "execution_count": 0,
   "metadata": {
    "colab": {},
    "colab_type": "code",
    "id": "bmjsKYYJyJg6"
   },
   "outputs": [],
   "source": [
    "# Reshape image collection \n",
    "header = info[0]\n",
    "data = array(info[1:])\n",
    "\n",
    "iTime = header.index('time')\n",
    "time = [datetime.datetime.fromtimestamp(i/1000) for i in (data[0:, iTime].astype(int))]\n",
    "\n",
    "# List of used image bands\n",
    "band_list = ['RED', 'NIR']\n",
    "\n",
    "iBands = [header.index(b) for b in band_list]\n",
    "yData = data[0:, iBands].astype(np.float)\n",
    "\n",
    "# Calculate NDVI\n",
    "red = yData[:,0]\n",
    "nir = yData[:,1]\n",
    "ndvi = (nir - red) / (nir + red)"
   ]
  },
  {
   "cell_type": "markdown",
   "metadata": {
    "colab_type": "text",
    "id": "pLv6LdSNyKXh"
   },
   "source": [
    "# Reshape NDVI array into Pandas Dataframe"
   ]
  },
  {
   "cell_type": "code",
   "execution_count": 0,
   "metadata": {
    "colab": {},
    "colab_type": "code",
    "id": "I-79gwSSyME4"
   },
   "outputs": [],
   "source": [
    "df = pd.DataFrame(data=ndvi, index=list(range(len(ndvi))), columns=['NDVI'])\n",
    "df = df.interpolate()\n",
    "df['Date'] = pd.Series(time, index=df.index)\n",
    "df = df.set_index(df.Date)\n",
    "df.index = pd.to_datetime(df.index)\n",
    "df['NDVI']=df['NDVI'].fillna(0)"
   ]
  },
  {
   "cell_type": "code",
   "execution_count": 0,
   "metadata": {
    "colab": {
     "base_uri": "https://localhost:8080/",
     "height": 34
    },
    "colab_type": "code",
    "executionInfo": {
     "elapsed": 391,
     "status": "ok",
     "timestamp": 1579722835507,
     "user": {
      "displayName": "Hossein Noorazar",
      "photoUrl": "https://lh3.googleusercontent.com/a-/AAuE7mCD51X50VG0jXrChn3oUAWabpFgjnI_rX3bygPwilU=s64",
      "userId": "07953809792932992694"
     },
     "user_tz": 480
    },
    "id": "Klg7TKWMzzI0",
    "outputId": "8168d23d-618f-412a-b335-3e5f072098e4"
   },
   "outputs": [
    {
     "data": {
      "text/plain": [
       "(1089,)"
      ]
     },
     "execution_count": 61,
     "metadata": {
      "tags": []
     },
     "output_type": "execute_result"
    }
   ],
   "source": [
    "ndvi.shape"
   ]
  },
  {
   "cell_type": "code",
   "execution_count": 0,
   "metadata": {
    "colab": {
     "base_uri": "https://localhost:8080/",
     "height": 34
    },
    "colab_type": "code",
    "executionInfo": {
     "elapsed": 494,
     "status": "ok",
     "timestamp": 1579722843409,
     "user": {
      "displayName": "Hossein Noorazar",
      "photoUrl": "https://lh3.googleusercontent.com/a-/AAuE7mCD51X50VG0jXrChn3oUAWabpFgjnI_rX3bygPwilU=s64",
      "userId": "07953809792932992694"
     },
     "user_tz": 480
    },
    "id": "gsxbj7Fx0KFn",
    "outputId": "450fd071-d661-40d6-f4c2-5ff8321253ca"
   },
   "outputs": [
    {
     "data": {
      "text/plain": [
       "(1089, 2)"
      ]
     },
     "execution_count": 63,
     "metadata": {
      "tags": []
     },
     "output_type": "execute_result"
    }
   ],
   "source": [
    "df.shape"
   ]
  },
  {
   "cell_type": "code",
   "execution_count": 0,
   "metadata": {
    "colab": {
     "base_uri": "https://localhost:8080/",
     "height": 225
    },
    "colab_type": "code",
    "executionInfo": {
     "elapsed": 1003,
     "status": "ok",
     "timestamp": 1579722865921,
     "user": {
      "displayName": "Hossein Noorazar",
      "photoUrl": "https://lh3.googleusercontent.com/a-/AAuE7mCD51X50VG0jXrChn3oUAWabpFgjnI_rX3bygPwilU=s64",
      "userId": "07953809792932992694"
     },
     "user_tz": 480
    },
    "id": "IkLhGXIf0ZSZ",
    "outputId": "3787243f-8821-4cbf-bbbd-69bb23b60e8d"
   },
   "outputs": [
    {
     "data": {
      "text/html": [
       "<div>\n",
       "<style scoped>\n",
       "    .dataframe tbody tr th:only-of-type {\n",
       "        vertical-align: middle;\n",
       "    }\n",
       "\n",
       "    .dataframe tbody tr th {\n",
       "        vertical-align: top;\n",
       "    }\n",
       "\n",
       "    .dataframe thead th {\n",
       "        text-align: right;\n",
       "    }\n",
       "</style>\n",
       "<table border=\"1\" class=\"dataframe\">\n",
       "  <thead>\n",
       "    <tr style=\"text-align: right;\">\n",
       "      <th></th>\n",
       "      <th>NDVI</th>\n",
       "      <th>Date</th>\n",
       "    </tr>\n",
       "    <tr>\n",
       "      <th>Date</th>\n",
       "      <th></th>\n",
       "      <th></th>\n",
       "    </tr>\n",
       "  </thead>\n",
       "  <tbody>\n",
       "    <tr>\n",
       "      <th>2015-01-01</th>\n",
       "      <td>0.000000</td>\n",
       "      <td>2015-01-01</td>\n",
       "    </tr>\n",
       "    <tr>\n",
       "      <th>2015-01-02</th>\n",
       "      <td>0.008690</td>\n",
       "      <td>2015-01-02</td>\n",
       "    </tr>\n",
       "    <tr>\n",
       "      <th>2015-01-03</th>\n",
       "      <td>0.022652</td>\n",
       "      <td>2015-01-03</td>\n",
       "    </tr>\n",
       "    <tr>\n",
       "      <th>2015-01-04</th>\n",
       "      <td>0.017543</td>\n",
       "      <td>2015-01-04</td>\n",
       "    </tr>\n",
       "    <tr>\n",
       "      <th>2015-01-05</th>\n",
       "      <td>0.012434</td>\n",
       "      <td>2015-01-05</td>\n",
       "    </tr>\n",
       "  </tbody>\n",
       "</table>\n",
       "</div>"
      ],
      "text/plain": [
       "                NDVI       Date\n",
       "Date                           \n",
       "2015-01-01  0.000000 2015-01-01\n",
       "2015-01-02  0.008690 2015-01-02\n",
       "2015-01-03  0.022652 2015-01-03\n",
       "2015-01-04  0.017543 2015-01-04\n",
       "2015-01-05  0.012434 2015-01-05"
      ]
     },
     "execution_count": 64,
     "metadata": {
      "tags": []
     },
     "output_type": "execute_result"
    }
   ],
   "source": [
    "df.head()"
   ]
  },
  {
   "cell_type": "code",
   "execution_count": 0,
   "metadata": {
    "colab": {},
    "colab_type": "code",
    "id": "Iy3l2avF0fi5"
   },
   "outputs": [],
   "source": []
  }
 ],
 "metadata": {
  "colab": {
   "authorship_tag": "ABX9TyPqtzp9uYY/awnq7XUvyAiu",
   "collapsed_sections": [],
   "name": "everything_in_Python",
   "provenance": []
  },
  "kernelspec": {
   "display_name": "Python 3",
   "language": "python",
   "name": "python3"
  },
  "language_info": {
   "codemirror_mode": {
    "name": "ipython",
    "version": 3
   },
   "file_extension": ".py",
   "mimetype": "text/x-python",
   "name": "python",
   "nbconvert_exporter": "python",
   "pygments_lexer": "ipython3",
   "version": "3.8.8"
  }
 },
 "nbformat": 4,
 "nbformat_minor": 1
}
