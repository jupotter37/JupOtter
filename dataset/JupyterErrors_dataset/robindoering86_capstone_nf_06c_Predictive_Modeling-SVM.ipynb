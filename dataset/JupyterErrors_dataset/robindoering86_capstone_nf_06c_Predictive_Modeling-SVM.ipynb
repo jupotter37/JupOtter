{
 "cells": [
  {
   "cell_type": "markdown",
   "metadata": {},
   "source": [
    "# Predictive Modelling: SVM"
   ]
  },
  {
   "cell_type": "markdown",
   "metadata": {},
   "source": [
    "# Imports"
   ]
  },
  {
   "cell_type": "code",
   "execution_count": 3,
   "metadata": {},
   "outputs": [
    {
     "name": "stdout",
     "output_type": "stream",
     "text": [
      "The autoreload extension is already loaded. To reload it, use:\n",
      "  %reload_ext autoreload\n"
     ]
    }
   ],
   "source": [
    "%load_ext autoreload\n",
    "%autoreload 2\n",
    "\n",
    "# Pandas and numpy\n",
    "import pandas as pd\n",
    "import numpy as np\n",
    "\n",
    "# \n",
    "from IPython.display import display, clear_output\n",
    "import sys\n",
    "import time\n",
    "\n",
    "# Libraries for Visualization\n",
    "import matplotlib.pyplot as plt\n",
    "import seaborn as sns\n",
    "from src.visualization.visualize import plot_corr_matrix, plot_multi, plot_norm_dist, plot_feature_importances\n",
    "\n",
    "# Some custom tools\n",
    "from src.data.tools import check_for_missing_vals\n",
    "\n",
    "# \n",
    "from src.models.predict_model import avg_model, run_combinations\n",
    "#from src.models.train_model import run_combinations \n",
    "\n",
    "# Alpaca API\n",
    "import alpaca_trade_api as tradeapi\n",
    "\n",
    "# Pickle\n",
    "import pickle\n",
    "import os\n",
    "from pathlib import Path\n",
    "\n",
    "# To load variables from .env file into system environment\n",
    "from dotenv import find_dotenv, load_dotenv\n",
    "\n",
    "from atomm.Indicators import MomentumIndicators\n",
    "from atomm.DataManager.main import MSDataManager\n",
    "from atomm.Tools import calc_open_position, calc_returns\n",
    "from src.visualization.visualize import plot_confusion_matrix\n",
    "from atomm.Methods import BlockingTimeSeriesSplit, PurgedKFold           \n",
    "\n",
    "\n",
    "import time\n",
    "\n",
    "# scikit-learn\n",
    "from sklearn.svm import SVC\n",
    "from sklearn.metrics import accuracy_score\n",
    "from sklearn.model_selection import cross_val_score, TimeSeriesSplit\n",
    "from xgboost import XGBClassifier\n",
    "from sklearn.metrics import classification_report, confusion_matrix, plot_confusion_matrix\n",
    "from sklearn.metrics import accuracy_score, recall_score, f1_score, precision_score\n",
    "from sklearn.model_selection import train_test_split, TimeSeriesSplit\n",
    "\n",
    "from sklearn.ensemble import BaggingClassifier\n",
    "from sklearn.multiclass import OneVsRestClassifier\n",
    "from sklearn.neighbors import KNeighborsClassifier\n",
    "from sklearn.ensemble import RandomForestClassifier\n",
    "from sklearn.linear_model import LogisticRegression\n",
    "\n",
    "# For BayesianHyperparameter Optimization\n",
    "from atomm.Models.Tuning import search_space, BayesianSearch\n",
    "from hyperopt import space_eval\n",
    "\n",
    "# Visualization libraries\n",
    "import seaborn as sns\n",
    "import matplotlib.pyplot as plt\n",
    "from pandas.plotting import scatter_matrix\n",
    "import matplotlib.gridspec as gridspec\n",
    "#import matplotlib.style as style\n",
    "from scipy import stats"
   ]
  },
  {
   "cell_type": "code",
   "execution_count": 4,
   "metadata": {},
   "outputs": [
    {
     "data": {
      "text/plain": [
       "True"
      ]
     },
     "execution_count": 4,
     "metadata": {},
     "output_type": "execute_result"
    }
   ],
   "source": [
    "# Load environment variables\n",
    "load_dotenv(find_dotenv())"
   ]
  },
  {
   "cell_type": "markdown",
   "metadata": {},
   "source": [
    "## Loading the data"
   ]
  },
  {
   "cell_type": "code",
   "execution_count": 8,
   "metadata": {},
   "outputs": [
    {
     "ename": "KeyError",
     "evalue": "'No object named nyse/engineered/weight in the file'",
     "output_type": "error",
     "traceback": [
      "\u001b[0;31m---------------------------------------------------------------------------\u001b[0m",
      "\u001b[0;31mKeyError\u001b[0m                                  Traceback (most recent call last)",
      "\u001b[0;32m<ipython-input-8-b224b6fbbf86>\u001b[0m in \u001b[0;36m<module>\u001b[0;34m\u001b[0m\n\u001b[1;32m      9\u001b[0m     \u001b[0my_3c\u001b[0m \u001b[0;34m=\u001b[0m \u001b[0mstorage\u001b[0m\u001b[0;34m.\u001b[0m\u001b[0mget\u001b[0m\u001b[0;34m(\u001b[0m\u001b[0;34m'nyse/engineered/target_three_class'\u001b[0m\u001b[0;34m)\u001b[0m\u001b[0;34m\u001b[0m\u001b[0;34m\u001b[0m\u001b[0m\n\u001b[1;32m     10\u001b[0m     \u001b[0mdf_moments\u001b[0m \u001b[0;34m=\u001b[0m \u001b[0mstorage\u001b[0m\u001b[0;34m.\u001b[0m\u001b[0mget\u001b[0m\u001b[0;34m(\u001b[0m\u001b[0;34m'nyse/engineered/features'\u001b[0m\u001b[0;34m)\u001b[0m\u001b[0;34m\u001b[0m\u001b[0;34m\u001b[0m\u001b[0m\n\u001b[0;32m---> 11\u001b[0;31m     \u001b[0mws\u001b[0m \u001b[0;34m=\u001b[0m \u001b[0mstorage\u001b[0m\u001b[0;34m.\u001b[0m\u001b[0mget\u001b[0m\u001b[0;34m(\u001b[0m\u001b[0;34m'nyse/engineered/weight'\u001b[0m\u001b[0;34m)\u001b[0m\u001b[0;34m\u001b[0m\u001b[0;34m\u001b[0m\u001b[0m\n\u001b[0m\u001b[1;32m     12\u001b[0m \u001b[0;34m\u001b[0m\u001b[0m\n\u001b[1;32m     13\u001b[0m     \u001b[0;31m#print(storage.info())\u001b[0m\u001b[0;34m\u001b[0m\u001b[0;34m\u001b[0m\u001b[0;34m\u001b[0m\u001b[0m\n",
      "\u001b[0;32m~/anaconda3/envs/capstone_nf/lib/python3.7/site-packages/pandas/io/pytables.py\u001b[0m in \u001b[0;36mget\u001b[0;34m(self, key)\u001b[0m\n\u001b[1;32m    717\u001b[0m         \u001b[0mgroup\u001b[0m \u001b[0;34m=\u001b[0m \u001b[0mself\u001b[0m\u001b[0;34m.\u001b[0m\u001b[0mget_node\u001b[0m\u001b[0;34m(\u001b[0m\u001b[0mkey\u001b[0m\u001b[0;34m)\u001b[0m\u001b[0;34m\u001b[0m\u001b[0;34m\u001b[0m\u001b[0m\n\u001b[1;32m    718\u001b[0m         \u001b[0;32mif\u001b[0m \u001b[0mgroup\u001b[0m \u001b[0;32mis\u001b[0m \u001b[0;32mNone\u001b[0m\u001b[0;34m:\u001b[0m\u001b[0;34m\u001b[0m\u001b[0;34m\u001b[0m\u001b[0m\n\u001b[0;32m--> 719\u001b[0;31m             \u001b[0;32mraise\u001b[0m \u001b[0mKeyError\u001b[0m\u001b[0;34m(\u001b[0m\u001b[0;34m\"No object named {key} in the file\"\u001b[0m\u001b[0;34m.\u001b[0m\u001b[0mformat\u001b[0m\u001b[0;34m(\u001b[0m\u001b[0mkey\u001b[0m\u001b[0;34m=\u001b[0m\u001b[0mkey\u001b[0m\u001b[0;34m)\u001b[0m\u001b[0;34m)\u001b[0m\u001b[0;34m\u001b[0m\u001b[0;34m\u001b[0m\u001b[0m\n\u001b[0m\u001b[1;32m    720\u001b[0m         \u001b[0;32mreturn\u001b[0m \u001b[0mself\u001b[0m\u001b[0;34m.\u001b[0m\u001b[0m_read_group\u001b[0m\u001b[0;34m(\u001b[0m\u001b[0mgroup\u001b[0m\u001b[0;34m)\u001b[0m\u001b[0;34m\u001b[0m\u001b[0;34m\u001b[0m\u001b[0m\n\u001b[1;32m    721\u001b[0m \u001b[0;34m\u001b[0m\u001b[0m\n",
      "\u001b[0;31mKeyError\u001b[0m: 'No object named nyse/engineered/weight in the file'"
     ]
    }
   ],
   "source": [
    "data_base_dir = os.environ.get('DATA_DIR_BASE_PATH')\n",
    "\n",
    "fname = os.path.join(data_base_dir, 'processed', 'index.h5')\n",
    "fname = Path(fname)\n",
    "# Load dataset from HDF storage\n",
    "with pd.HDFStore(fname) as storage:\n",
    "    djia = storage.get('nyse/cleaned/rand_symbols')\n",
    "    y_2c = storage.get('nyse/engineered/target_two_class')\n",
    "    y_3c = storage.get('nyse/engineered/target_three_class')\n",
    "    df_moments = storage.get('nyse/engineered/features')\n",
    "    #print(storage.info())\n",
    "    \n",
    "# Create copies of the pristine data\n",
    "X = df_moments.copy()\n",
    "y = y_3c.copy()\n",
    "y2 = y_2c.copy()\n",
    "prices = djia.copy()"
   ]
  },
  {
   "cell_type": "code",
   "execution_count": 6,
   "metadata": {},
   "outputs": [
    {
     "data": {
      "text/html": [
       "<div>\n",
       "<style scoped>\n",
       "    .dataframe tbody tr th:only-of-type {\n",
       "        vertical-align: middle;\n",
       "    }\n",
       "\n",
       "    .dataframe tbody tr th {\n",
       "        vertical-align: top;\n",
       "    }\n",
       "\n",
       "    .dataframe thead tr th {\n",
       "        text-align: left;\n",
       "    }\n",
       "\n",
       "    .dataframe thead tr:last-of-type th {\n",
       "        text-align: right;\n",
       "    }\n",
       "</style>\n",
       "<table border=\"1\" class=\"dataframe\">\n",
       "  <thead>\n",
       "    <tr>\n",
       "      <th></th>\n",
       "      <th colspan=\"9\" halign=\"left\">CNC</th>\n",
       "      <th>FMC</th>\n",
       "      <th>...</th>\n",
       "      <th>IBM</th>\n",
       "      <th colspan=\"9\" halign=\"left\">MSFT</th>\n",
       "    </tr>\n",
       "    <tr>\n",
       "      <th></th>\n",
       "      <th>signal_1</th>\n",
       "      <th>signal_3</th>\n",
       "      <th>signal_5</th>\n",
       "      <th>signal_7</th>\n",
       "      <th>signal_10</th>\n",
       "      <th>signal_15</th>\n",
       "      <th>signal_20</th>\n",
       "      <th>signal_25</th>\n",
       "      <th>signal_30</th>\n",
       "      <th>signal_1</th>\n",
       "      <th>...</th>\n",
       "      <th>signal_30</th>\n",
       "      <th>signal_1</th>\n",
       "      <th>signal_3</th>\n",
       "      <th>signal_5</th>\n",
       "      <th>signal_7</th>\n",
       "      <th>signal_10</th>\n",
       "      <th>signal_15</th>\n",
       "      <th>signal_20</th>\n",
       "      <th>signal_25</th>\n",
       "      <th>signal_30</th>\n",
       "    </tr>\n",
       "    <tr>\n",
       "      <th>Epoch</th>\n",
       "      <th></th>\n",
       "      <th></th>\n",
       "      <th></th>\n",
       "      <th></th>\n",
       "      <th></th>\n",
       "      <th></th>\n",
       "      <th></th>\n",
       "      <th></th>\n",
       "      <th></th>\n",
       "      <th></th>\n",
       "      <th></th>\n",
       "      <th></th>\n",
       "      <th></th>\n",
       "      <th></th>\n",
       "      <th></th>\n",
       "      <th></th>\n",
       "      <th></th>\n",
       "      <th></th>\n",
       "      <th></th>\n",
       "      <th></th>\n",
       "      <th></th>\n",
       "    </tr>\n",
       "  </thead>\n",
       "  <tbody>\n",
       "    <tr>\n",
       "      <th>2012-02-02 00:00:00+00:00</th>\n",
       "      <td>0</td>\n",
       "      <td>0</td>\n",
       "      <td>1</td>\n",
       "      <td>1</td>\n",
       "      <td>1</td>\n",
       "      <td>1</td>\n",
       "      <td>0</td>\n",
       "      <td>1</td>\n",
       "      <td>0</td>\n",
       "      <td>1</td>\n",
       "      <td>...</td>\n",
       "      <td>1</td>\n",
       "      <td>1</td>\n",
       "      <td>1</td>\n",
       "      <td>1</td>\n",
       "      <td>1</td>\n",
       "      <td>1</td>\n",
       "      <td>1</td>\n",
       "      <td>1</td>\n",
       "      <td>1</td>\n",
       "      <td>1</td>\n",
       "    </tr>\n",
       "    <tr>\n",
       "      <th>2012-02-03 00:00:00+00:00</th>\n",
       "      <td>0</td>\n",
       "      <td>1</td>\n",
       "      <td>1</td>\n",
       "      <td>1</td>\n",
       "      <td>1</td>\n",
       "      <td>1</td>\n",
       "      <td>1</td>\n",
       "      <td>0</td>\n",
       "      <td>0</td>\n",
       "      <td>0</td>\n",
       "      <td>...</td>\n",
       "      <td>1</td>\n",
       "      <td>0</td>\n",
       "      <td>1</td>\n",
       "      <td>1</td>\n",
       "      <td>1</td>\n",
       "      <td>1</td>\n",
       "      <td>1</td>\n",
       "      <td>1</td>\n",
       "      <td>1</td>\n",
       "      <td>1</td>\n",
       "    </tr>\n",
       "    <tr>\n",
       "      <th>2012-02-06 00:00:00+00:00</th>\n",
       "      <td>1</td>\n",
       "      <td>1</td>\n",
       "      <td>1</td>\n",
       "      <td>1</td>\n",
       "      <td>1</td>\n",
       "      <td>1</td>\n",
       "      <td>0</td>\n",
       "      <td>1</td>\n",
       "      <td>0</td>\n",
       "      <td>0</td>\n",
       "      <td>...</td>\n",
       "      <td>1</td>\n",
       "      <td>1</td>\n",
       "      <td>1</td>\n",
       "      <td>1</td>\n",
       "      <td>0</td>\n",
       "      <td>1</td>\n",
       "      <td>1</td>\n",
       "      <td>1</td>\n",
       "      <td>1</td>\n",
       "      <td>1</td>\n",
       "    </tr>\n",
       "    <tr>\n",
       "      <th>2012-02-07 00:00:00+00:00</th>\n",
       "      <td>1</td>\n",
       "      <td>1</td>\n",
       "      <td>1</td>\n",
       "      <td>1</td>\n",
       "      <td>1</td>\n",
       "      <td>1</td>\n",
       "      <td>1</td>\n",
       "      <td>0</td>\n",
       "      <td>0</td>\n",
       "      <td>1</td>\n",
       "      <td>...</td>\n",
       "      <td>1</td>\n",
       "      <td>1</td>\n",
       "      <td>1</td>\n",
       "      <td>0</td>\n",
       "      <td>1</td>\n",
       "      <td>1</td>\n",
       "      <td>1</td>\n",
       "      <td>1</td>\n",
       "      <td>1</td>\n",
       "      <td>1</td>\n",
       "    </tr>\n",
       "    <tr>\n",
       "      <th>2012-02-08 00:00:00+00:00</th>\n",
       "      <td>0</td>\n",
       "      <td>1</td>\n",
       "      <td>1</td>\n",
       "      <td>1</td>\n",
       "      <td>1</td>\n",
       "      <td>1</td>\n",
       "      <td>0</td>\n",
       "      <td>0</td>\n",
       "      <td>0</td>\n",
       "      <td>0</td>\n",
       "      <td>...</td>\n",
       "      <td>1</td>\n",
       "      <td>1</td>\n",
       "      <td>0</td>\n",
       "      <td>0</td>\n",
       "      <td>1</td>\n",
       "      <td>1</td>\n",
       "      <td>1</td>\n",
       "      <td>1</td>\n",
       "      <td>1</td>\n",
       "      <td>1</td>\n",
       "    </tr>\n",
       "    <tr>\n",
       "      <th>...</th>\n",
       "      <td>...</td>\n",
       "      <td>...</td>\n",
       "      <td>...</td>\n",
       "      <td>...</td>\n",
       "      <td>...</td>\n",
       "      <td>...</td>\n",
       "      <td>...</td>\n",
       "      <td>...</td>\n",
       "      <td>...</td>\n",
       "      <td>...</td>\n",
       "      <td>...</td>\n",
       "      <td>...</td>\n",
       "      <td>...</td>\n",
       "      <td>...</td>\n",
       "      <td>...</td>\n",
       "      <td>...</td>\n",
       "      <td>...</td>\n",
       "      <td>...</td>\n",
       "      <td>...</td>\n",
       "      <td>...</td>\n",
       "      <td>...</td>\n",
       "    </tr>\n",
       "    <tr>\n",
       "      <th>2019-10-31 00:00:00+00:00</th>\n",
       "      <td>0</td>\n",
       "      <td>0</td>\n",
       "      <td>0</td>\n",
       "      <td>0</td>\n",
       "      <td>0</td>\n",
       "      <td>0</td>\n",
       "      <td>0</td>\n",
       "      <td>0</td>\n",
       "      <td>0</td>\n",
       "      <td>1</td>\n",
       "      <td>...</td>\n",
       "      <td>0</td>\n",
       "      <td>1</td>\n",
       "      <td>1</td>\n",
       "      <td>0</td>\n",
       "      <td>0</td>\n",
       "      <td>0</td>\n",
       "      <td>0</td>\n",
       "      <td>0</td>\n",
       "      <td>0</td>\n",
       "      <td>0</td>\n",
       "    </tr>\n",
       "    <tr>\n",
       "      <th>2019-11-01 00:00:00+00:00</th>\n",
       "      <td>0</td>\n",
       "      <td>0</td>\n",
       "      <td>0</td>\n",
       "      <td>0</td>\n",
       "      <td>0</td>\n",
       "      <td>0</td>\n",
       "      <td>0</td>\n",
       "      <td>0</td>\n",
       "      <td>0</td>\n",
       "      <td>1</td>\n",
       "      <td>...</td>\n",
       "      <td>0</td>\n",
       "      <td>1</td>\n",
       "      <td>1</td>\n",
       "      <td>0</td>\n",
       "      <td>0</td>\n",
       "      <td>0</td>\n",
       "      <td>0</td>\n",
       "      <td>0</td>\n",
       "      <td>0</td>\n",
       "      <td>0</td>\n",
       "    </tr>\n",
       "    <tr>\n",
       "      <th>2019-11-04 00:00:00+00:00</th>\n",
       "      <td>1</td>\n",
       "      <td>0</td>\n",
       "      <td>0</td>\n",
       "      <td>0</td>\n",
       "      <td>0</td>\n",
       "      <td>0</td>\n",
       "      <td>0</td>\n",
       "      <td>0</td>\n",
       "      <td>0</td>\n",
       "      <td>1</td>\n",
       "      <td>...</td>\n",
       "      <td>0</td>\n",
       "      <td>0</td>\n",
       "      <td>0</td>\n",
       "      <td>0</td>\n",
       "      <td>0</td>\n",
       "      <td>0</td>\n",
       "      <td>0</td>\n",
       "      <td>0</td>\n",
       "      <td>0</td>\n",
       "      <td>0</td>\n",
       "    </tr>\n",
       "    <tr>\n",
       "      <th>2019-11-05 00:00:00+00:00</th>\n",
       "      <td>0</td>\n",
       "      <td>0</td>\n",
       "      <td>0</td>\n",
       "      <td>0</td>\n",
       "      <td>0</td>\n",
       "      <td>0</td>\n",
       "      <td>0</td>\n",
       "      <td>0</td>\n",
       "      <td>0</td>\n",
       "      <td>1</td>\n",
       "      <td>...</td>\n",
       "      <td>0</td>\n",
       "      <td>0</td>\n",
       "      <td>0</td>\n",
       "      <td>0</td>\n",
       "      <td>0</td>\n",
       "      <td>0</td>\n",
       "      <td>0</td>\n",
       "      <td>0</td>\n",
       "      <td>0</td>\n",
       "      <td>0</td>\n",
       "    </tr>\n",
       "    <tr>\n",
       "      <th>2019-11-06 00:00:00+00:00</th>\n",
       "      <td>0</td>\n",
       "      <td>0</td>\n",
       "      <td>0</td>\n",
       "      <td>0</td>\n",
       "      <td>0</td>\n",
       "      <td>0</td>\n",
       "      <td>0</td>\n",
       "      <td>0</td>\n",
       "      <td>0</td>\n",
       "      <td>0</td>\n",
       "      <td>...</td>\n",
       "      <td>0</td>\n",
       "      <td>0</td>\n",
       "      <td>0</td>\n",
       "      <td>0</td>\n",
       "      <td>0</td>\n",
       "      <td>0</td>\n",
       "      <td>0</td>\n",
       "      <td>0</td>\n",
       "      <td>0</td>\n",
       "      <td>0</td>\n",
       "    </tr>\n",
       "  </tbody>\n",
       "</table>\n",
       "<p>1954 rows × 450 columns</p>\n",
       "</div>"
      ],
      "text/plain": [
       "                               CNC                                       \\\n",
       "                          signal_1 signal_3 signal_5 signal_7 signal_10   \n",
       "Epoch                                                                     \n",
       "2012-02-02 00:00:00+00:00        0        0        1        1         1   \n",
       "2012-02-03 00:00:00+00:00        0        1        1        1         1   \n",
       "2012-02-06 00:00:00+00:00        1        1        1        1         1   \n",
       "2012-02-07 00:00:00+00:00        1        1        1        1         1   \n",
       "2012-02-08 00:00:00+00:00        0        1        1        1         1   \n",
       "...                            ...      ...      ...      ...       ...   \n",
       "2019-10-31 00:00:00+00:00        0        0        0        0         0   \n",
       "2019-11-01 00:00:00+00:00        0        0        0        0         0   \n",
       "2019-11-04 00:00:00+00:00        1        0        0        0         0   \n",
       "2019-11-05 00:00:00+00:00        0        0        0        0         0   \n",
       "2019-11-06 00:00:00+00:00        0        0        0        0         0   \n",
       "\n",
       "                                                                       FMC  \\\n",
       "                          signal_15 signal_20 signal_25 signal_30 signal_1   \n",
       "Epoch                                                                        \n",
       "2012-02-02 00:00:00+00:00         1         0         1         0        1   \n",
       "2012-02-03 00:00:00+00:00         1         1         0         0        0   \n",
       "2012-02-06 00:00:00+00:00         1         0         1         0        0   \n",
       "2012-02-07 00:00:00+00:00         1         1         0         0        1   \n",
       "2012-02-08 00:00:00+00:00         1         0         0         0        0   \n",
       "...                             ...       ...       ...       ...      ...   \n",
       "2019-10-31 00:00:00+00:00         0         0         0         0        1   \n",
       "2019-11-01 00:00:00+00:00         0         0         0         0        1   \n",
       "2019-11-04 00:00:00+00:00         0         0         0         0        1   \n",
       "2019-11-05 00:00:00+00:00         0         0         0         0        1   \n",
       "2019-11-06 00:00:00+00:00         0         0         0         0        0   \n",
       "\n",
       "                           ...       IBM     MSFT                             \\\n",
       "                           ... signal_30 signal_1 signal_3 signal_5 signal_7   \n",
       "Epoch                      ...                                                 \n",
       "2012-02-02 00:00:00+00:00  ...         1        1        1        1        1   \n",
       "2012-02-03 00:00:00+00:00  ...         1        0        1        1        1   \n",
       "2012-02-06 00:00:00+00:00  ...         1        1        1        1        0   \n",
       "2012-02-07 00:00:00+00:00  ...         1        1        1        0        1   \n",
       "2012-02-08 00:00:00+00:00  ...         1        1        0        0        1   \n",
       "...                        ...       ...      ...      ...      ...      ...   \n",
       "2019-10-31 00:00:00+00:00  ...         0        1        1        0        0   \n",
       "2019-11-01 00:00:00+00:00  ...         0        1        1        0        0   \n",
       "2019-11-04 00:00:00+00:00  ...         0        0        0        0        0   \n",
       "2019-11-05 00:00:00+00:00  ...         0        0        0        0        0   \n",
       "2019-11-06 00:00:00+00:00  ...         0        0        0        0        0   \n",
       "\n",
       "                                                                             \n",
       "                          signal_10 signal_15 signal_20 signal_25 signal_30  \n",
       "Epoch                                                                        \n",
       "2012-02-02 00:00:00+00:00         1         1         1         1         1  \n",
       "2012-02-03 00:00:00+00:00         1         1         1         1         1  \n",
       "2012-02-06 00:00:00+00:00         1         1         1         1         1  \n",
       "2012-02-07 00:00:00+00:00         1         1         1         1         1  \n",
       "2012-02-08 00:00:00+00:00         1         1         1         1         1  \n",
       "...                             ...       ...       ...       ...       ...  \n",
       "2019-10-31 00:00:00+00:00         0         0         0         0         0  \n",
       "2019-11-01 00:00:00+00:00         0         0         0         0         0  \n",
       "2019-11-04 00:00:00+00:00         0         0         0         0         0  \n",
       "2019-11-05 00:00:00+00:00         0         0         0         0         0  \n",
       "2019-11-06 00:00:00+00:00         0         0         0         0         0  \n",
       "\n",
       "[1954 rows x 450 columns]"
      ]
     },
     "execution_count": 6,
     "metadata": {},
     "output_type": "execute_result"
    }
   ],
   "source": [
    "y_2c"
   ]
  },
  {
   "cell_type": "code",
   "execution_count": 35,
   "metadata": {},
   "outputs": [],
   "source": [
    "forecast_horizon = [1, 3, 5, 7, 10, 15, 20, 25, 30]\n",
    "input_window_size = [3, 5, 7, 10, 15, 20, 25, 30]\n",
    "ti_list = ['macd', 'rsi', 'stoc', 'roc', 'bbu', 'bbl', 'ema', 'atr', 'adx', 'cci', 'williamsr', 'stocd']\n",
    "symbol_list = df_moments.columns.get_level_values(0).unique()"
   ]
  },
  {
   "cell_type": "code",
   "execution_count": 36,
   "metadata": {},
   "outputs": [
    {
     "data": {
      "text/plain": [
       "Index(['macd_3', 'rsi_3', 'stoc_3', 'roc_3', 'bbu_3', 'bbl_3', 'ema_3',\n",
       "       'atr_3', 'adx_3', 'cci_3', 'williamsr_3', 'stocd_3', 'macd_5', 'rsi_5',\n",
       "       'stoc_5', 'roc_5', 'bbu_5', 'bbl_5', 'ema_5', 'atr_5', 'adx_5', 'cci_5',\n",
       "       'williamsr_5', 'stocd_5', 'macd_7', 'rsi_7', 'stoc_7', 'roc_7', 'bbu_7',\n",
       "       'bbl_7', 'ema_7', 'atr_7', 'adx_7', 'cci_7', 'williamsr_7', 'stocd_7',\n",
       "       'macd_10', 'rsi_10', 'stoc_10', 'roc_10', 'bbu_10', 'bbl_10', 'ema_10',\n",
       "       'atr_10', 'adx_10', 'cci_10', 'williamsr_10', 'stocd_10', 'macd_15',\n",
       "       'rsi_15', 'stoc_15', 'roc_15', 'bbu_15', 'bbl_15', 'ema_15', 'atr_15',\n",
       "       'adx_15', 'cci_15', 'williamsr_15', 'stocd_15', 'macd_20', 'rsi_20',\n",
       "       'stoc_20', 'roc_20', 'bbu_20', 'bbl_20', 'ema_20', 'atr_20', 'adx_20',\n",
       "       'cci_20', 'williamsr_20', 'stocd_20', 'macd_25', 'rsi_25', 'stoc_25',\n",
       "       'roc_25', 'bbu_25', 'bbl_25', 'ema_25', 'atr_25', 'adx_25', 'cci_25',\n",
       "       'williamsr_25', 'stocd_25', 'macd_30', 'rsi_30', 'stoc_30', 'roc_30',\n",
       "       'bbu_30', 'bbl_30', 'ema_30', 'atr_30', 'adx_30', 'cci_30',\n",
       "       'williamsr_30', 'stocd_30'],\n",
       "      dtype='object')"
      ]
     },
     "execution_count": 36,
     "metadata": {},
     "output_type": "execute_result"
    }
   ],
   "source": [
    "df_moments.columns.get_level_values(1).unique()"
   ]
  },
  {
   "cell_type": "markdown",
   "metadata": {},
   "source": [
    "## Imputing missing values"
   ]
  },
  {
   "cell_type": "code",
   "execution_count": 37,
   "metadata": {},
   "outputs": [
    {
     "data": {
      "text/plain": [
       "(1954, 4800)"
      ]
     },
     "execution_count": 37,
     "metadata": {},
     "output_type": "execute_result"
    }
   ],
   "source": [
    "X.shape"
   ]
  },
  {
   "cell_type": "code",
   "execution_count": 38,
   "metadata": {},
   "outputs": [
    {
     "name": "stdout",
     "output_type": "stream",
     "text": [
      "No missing values found in dataframe\n"
     ]
    }
   ],
   "source": [
    "check_for_missing_vals(X)"
   ]
  },
  {
   "cell_type": "markdown",
   "metadata": {},
   "source": [
    "Prices values"
   ]
  },
  {
   "cell_type": "code",
   "execution_count": 39,
   "metadata": {},
   "outputs": [
    {
     "data": {
      "text/plain": [
       "(1954, 250)"
      ]
     },
     "execution_count": 39,
     "metadata": {},
     "output_type": "execute_result"
    }
   ],
   "source": [
    "prices.shape"
   ]
  },
  {
   "cell_type": "code",
   "execution_count": 40,
   "metadata": {},
   "outputs": [
    {
     "name": "stdout",
     "output_type": "stream",
     "text": [
      "No missing values found in dataframe\n"
     ]
    }
   ],
   "source": [
    "check_for_missing_vals(prices)"
   ]
  },
  {
   "cell_type": "code",
   "execution_count": 41,
   "metadata": {},
   "outputs": [
    {
     "data": {
      "text/plain": [
       "(1954, 450)"
      ]
     },
     "execution_count": 41,
     "metadata": {},
     "output_type": "execute_result"
    }
   ],
   "source": [
    "y_3c.shape"
   ]
  },
  {
   "cell_type": "code",
   "execution_count": 42,
   "metadata": {},
   "outputs": [
    {
     "name": "stdout",
     "output_type": "stream",
     "text": [
      "No missing values found in dataframe\n"
     ]
    }
   ],
   "source": [
    "check_for_missing_vals(y_3c)"
   ]
  },
  {
   "cell_type": "code",
   "execution_count": 43,
   "metadata": {},
   "outputs": [
    {
     "data": {
      "text/plain": [
       "(1954, 450)"
      ]
     },
     "execution_count": 43,
     "metadata": {},
     "output_type": "execute_result"
    }
   ],
   "source": [
    "y2.shape"
   ]
  },
  {
   "cell_type": "code",
   "execution_count": 44,
   "metadata": {},
   "outputs": [
    {
     "name": "stdout",
     "output_type": "stream",
     "text": [
      "No missing values found in dataframe\n"
     ]
    }
   ],
   "source": [
    "check_for_missing_vals(y2)"
   ]
  },
  {
   "cell_type": "markdown",
   "metadata": {},
   "source": [
    "No missing values, and sizes of ```y.shape[0]``` and```X.shape[0]``` match."
   ]
  },
  {
   "cell_type": "markdown",
   "metadata": {},
   "source": [
    "# Scaling the features"
   ]
  },
  {
   "cell_type": "code",
   "execution_count": 45,
   "metadata": {},
   "outputs": [],
   "source": [
    "from sklearn.preprocessing import MinMaxScaler, StandardScaler"
   ]
  },
  {
   "cell_type": "code",
   "execution_count": 46,
   "metadata": {},
   "outputs": [],
   "source": [
    "#scale = MinMaxScaler()\n",
    "scale = StandardScaler()"
   ]
  },
  {
   "cell_type": "code",
   "execution_count": 47,
   "metadata": {},
   "outputs": [],
   "source": [
    "scaled = scale.fit_transform(X)"
   ]
  },
  {
   "cell_type": "code",
   "execution_count": 48,
   "metadata": {},
   "outputs": [
    {
     "data": {
      "text/plain": [
       "(1954, 4800)"
      ]
     },
     "execution_count": 48,
     "metadata": {},
     "output_type": "execute_result"
    }
   ],
   "source": [
    "scaled.shape"
   ]
  },
  {
   "cell_type": "code",
   "execution_count": 49,
   "metadata": {},
   "outputs": [],
   "source": [
    "#X_scaled = pd.DataFrame(data=scaled, columns=X.columns)\n",
    "X_scaled = X"
   ]
  },
  {
   "cell_type": "markdown",
   "metadata": {},
   "source": [
    "# Train-Test Split"
   ]
  },
  {
   "cell_type": "code",
   "execution_count": 50,
   "metadata": {},
   "outputs": [],
   "source": [
    "# Use 70/30 train/test splits\n",
    "test_p = .3"
   ]
  },
  {
   "cell_type": "code",
   "execution_count": 30,
   "metadata": {},
   "outputs": [],
   "source": [
    "# Scaled, three-class\n",
    "test_size = int((1 - test_p) * X_scaled.shape[0])\n",
    "X_train, X_test, y_train, y_test = X_scaled[:test_size], X_scaled[test_size:], y_3c[:test_size], y_3c[test_size:]\n",
    "prices_train, prices_test = djia[:test_size], djia[test_size:]"
   ]
  },
  {
   "cell_type": "code",
   "execution_count": 51,
   "metadata": {},
   "outputs": [],
   "source": [
    "# Unscaled, two-class\n",
    "test_size = int((1 - test_p) * X.shape[0])\n",
    "X_train, X_test, y_train, y_test = X[:test_size], X[test_size:], y2[:test_size], y2[test_size:]\n",
    "prices_train, prices_test = djia[:test_size], djia[test_size:]"
   ]
  },
  {
   "cell_type": "code",
   "execution_count": 58,
   "metadata": {},
   "outputs": [],
   "source": [
    "# Scaled, two-class\n",
    "test_size = int((1 - test_p) * X.shape[0])\n",
    "X_train, X_test, y_train, y_test = X_scaled[:test_size], X_scaled[test_size:], y2[:test_size], y2[test_size:]\n",
    "prices_train, prices_test = djia[:test_size], djia[test_size:]"
   ]
  },
  {
   "cell_type": "code",
   "execution_count": null,
   "metadata": {},
   "outputs": [],
   "source": [
    "#test_size = test_p\n",
    "#X_train, X_test, y_train, y_test = train_test_split(X_scaled, y_3c, test_size=test_size, random_state=101)"
   ]
  },
  {
   "cell_type": "markdown",
   "metadata": {},
   "source": [
    "# Model"
   ]
  },
  {
   "cell_type": "code",
   "execution_count": 52,
   "metadata": {},
   "outputs": [
    {
     "data": {
      "text/plain": [
       "Index(['CNC', 'FMC', 'ALGN', 'RTN', 'FAST', 'ETFC', 'ABC', 'PFG', 'AXP', 'PNW',\n",
       "       'CMS', 'URI', 'PRGO', 'DRI', 'MAS', 'M', 'ZION', 'CINF', 'HIG', 'EOG',\n",
       "       'ICE', 'CBOE', 'ALL', 'UHS', 'FRT', 'NEM', 'BLL', 'NDAQ', 'CMG', 'JKHY',\n",
       "       'T', 'QCOM', 'FTI', 'AOS', 'ATVI', 'STT', 'TXN', 'KIM', 'NTAP', 'CHD',\n",
       "       'WYNN', 'GM', 'SJM', 'MCHP', 'ES', 'KMB', 'GIS', 'EXC', 'IBM', 'MSFT'],\n",
       "      dtype='object')"
      ]
     },
     "execution_count": 52,
     "metadata": {},
     "output_type": "execute_result"
    }
   ],
   "source": [
    "symbol_list"
   ]
  },
  {
   "cell_type": "code",
   "execution_count": 53,
   "metadata": {},
   "outputs": [],
   "source": [
    "symbol = 'T'\n",
    "n1 = 15\n",
    "n2 = 15\n",
    "n_estimators = 10\n",
    "# set up cross validation splits\n",
    "tscv = TimeSeriesSplit(n_splits=5)\n",
    "btscv = BlockingTimeSeriesSplit(n_splits=5)\n",
    "#ppcv = PurgedKFold(n_splits=5)"
   ]
  },
  {
   "cell_type": "code",
   "execution_count": 54,
   "metadata": {},
   "outputs": [],
   "source": [
    "# Creates a list of features for a given lookback window (n1)\n",
    "features = [f'{x}_{n1}' for x in ti_list]\n",
    "# Creates a list of all features\n",
    "all_features = [f'{x}_{n}' for x in ti_list for n in input_window_size]"
   ]
  },
  {
   "cell_type": "markdown",
   "metadata": {},
   "source": [
    "## Single lookback/lookahead combination"
   ]
  },
  {
   "cell_type": "code",
   "execution_count": 102,
   "metadata": {},
   "outputs": [
    {
     "data": {
      "text/plain": [
       "OneVsRestClassifier(estimator=BaggingClassifier(base_estimator=SVC(C=1.0,\n",
       "                                                                   break_ties=False,\n",
       "                                                                   cache_size=200,\n",
       "                                                                   class_weight='balanced',\n",
       "                                                                   coef0=0.0,\n",
       "                                                                   decision_function_shape='ovr',\n",
       "                                                                   degree=3,\n",
       "                                                                   gamma='scale',\n",
       "                                                                   kernel='rbf',\n",
       "                                                                   max_iter=-1,\n",
       "                                                                   probability=False,\n",
       "                                                                   random_state=None,\n",
       "                                                                   shrinking=True,\n",
       "                                                                   tol=0.001,\n",
       "                                                                   verbose=False),\n",
       "                                                bootstrap=True,\n",
       "                                                bootstrap_features=False,\n",
       "                                                max_features=1.0,\n",
       "                                                max_samples=0.4,\n",
       "                                                n_estimators=10, n_jobs=-1,\n",
       "                                                oob_score=False,\n",
       "                                                random_state=None, verbose=0,\n",
       "                                                warm_start=False),\n",
       "                    n_jobs=None)"
      ]
     },
     "execution_count": 102,
     "metadata": {},
     "output_type": "execute_result"
    }
   ],
   "source": [
    "clf_svc1 = OneVsRestClassifier(\n",
    "    BaggingClassifier(\n",
    "                    SVC(\n",
    "                        kernel='rbf',\n",
    "                        class_weight='balanced'\n",
    "                    ),\n",
    "                    max_samples=.4, \n",
    "                    n_estimators=n_estimators,\n",
    "                    n_jobs=-1)\n",
    ")\n",
    "\n",
    "\n",
    "clf_svc1.fit(X_train[symbol][[f'{x}_{n}' for x in ti_list]], y_train[symbol][f'signal_{n}'])"
   ]
  },
  {
   "cell_type": "code",
   "execution_count": 103,
   "metadata": {},
   "outputs": [
    {
     "name": "stdout",
     "output_type": "stream",
     "text": [
      "Accuracy Score:  0.5400340715502555\n",
      "              precision    recall  f1-score   support\n",
      "\n",
      "           0       0.91      0.52      0.66       505\n",
      "           1       0.19      0.68      0.29        82\n",
      "\n",
      "    accuracy                           0.54       587\n",
      "   macro avg       0.55      0.60      0.48       587\n",
      "weighted avg       0.81      0.54      0.61       587\n",
      "\n"
     ]
    },
    {
     "data": {
      "text/plain": [
       "<sklearn.metrics._plot.confusion_matrix.ConfusionMatrixDisplay at 0x1a3a7ca550>"
      ]
     },
     "execution_count": 103,
     "metadata": {},
     "output_type": "execute_result"
    },
    {
     "data": {
      "image/png": "[encoded data removed]",
      "text/plain": [
       "<Figure size 432x288 with 2 Axes>"
      ]
     },
     "metadata": {
      "needs_background": "light"
     },
     "output_type": "display_data"
    }
   ],
   "source": [
    "y_pred_svc1 = clf_svc1.predict(X_test[symbol][[f'{x}_{n}' for x in ti_list]])\n",
    "print('Accuracy Score: ', accuracy_score(y_pred_svc1, y_test[symbol][f'signal_{n}']))\n",
    "print(classification_report(y_pred_svc1, y_test[symbol][f'signal_{n}']))\n",
    "plot_confusion_matrix(\n",
    "    clf_svc1,\n",
    "    X_test[symbol][[f'{x}_{n}' for x in ti_list]],\n",
    "    y_test[symbol][f'signal_{n}'],\n",
    "    normalize='all'\n",
    ")"
   ]
  },
  {
   "cell_type": "markdown",
   "metadata": {},
   "source": [
    "## All combinations"
   ]
  },
  {
   "cell_type": "markdown",
   "metadata": {},
   "source": [
    "## Averaging across all 50 randomly selected stocks"
   ]
  },
  {
   "cell_type": "code",
   "execution_count": 172,
   "metadata": {},
   "outputs": [
    {
     "data": {
      "text/plain": [
       "'Leg [50/50]; Elapsed Time 337.0s\\n'"
      ]
     },
     "metadata": {},
     "output_type": "display_data"
    },
    {
     "data": {
      "text/html": [
       "<style  type=\"text/css\" >\n",
       "    #T_d7615608_2a75_11ea_a645_f0189811b80erow0_col0 {\n",
       "            background-color:  #00441b;\n",
       "            color:  #f1f1f1;\n",
       "        }    #T_d7615608_2a75_11ea_a645_f0189811b80erow0_col1 {\n",
       "            background-color:  #00441b;\n",
       "            color:  #f1f1f1;\n",
       "        }    #T_d7615608_2a75_11ea_a645_f0189811b80erow0_col2 {\n",
       "            background-color:  #00441b;\n",
       "            color:  #f1f1f1;\n",
       "        }    #T_d7615608_2a75_11ea_a645_f0189811b80erow0_col3 {\n",
       "            background-color:  #00441b;\n",
       "            color:  #f1f1f1;\n",
       "        }    #T_d7615608_2a75_11ea_a645_f0189811b80erow0_col4 {\n",
       "            background-color:  #00441b;\n",
       "            color:  #f1f1f1;\n",
       "        }    #T_d7615608_2a75_11ea_a645_f0189811b80erow0_col5 {\n",
       "            background-color:  #00441b;\n",
       "            color:  #f1f1f1;\n",
       "        }    #T_d7615608_2a75_11ea_a645_f0189811b80erow0_col6 {\n",
       "            background-color:  #00441b;\n",
       "            color:  #f1f1f1;\n",
       "        }    #T_d7615608_2a75_11ea_a645_f0189811b80erow0_col7 {\n",
       "            background-color:  #026f2e;\n",
       "            color:  #f1f1f1;\n",
       "        }    #T_d7615608_2a75_11ea_a645_f0189811b80erow1_col0 {\n",
       "            background-color:  #52b78b;\n",
       "            color:  #000000;\n",
       "        }    #T_d7615608_2a75_11ea_a645_f0189811b80erow1_col1 {\n",
       "            background-color:  #3ba76c;\n",
       "            color:  #000000;\n",
       "        }    #T_d7615608_2a75_11ea_a645_f0189811b80erow1_col2 {\n",
       "            background-color:  #097532;\n",
       "            color:  #f1f1f1;\n",
       "        }    #T_d7615608_2a75_11ea_a645_f0189811b80erow1_col3 {\n",
       "            background-color:  #1e8741;\n",
       "            color:  #000000;\n",
       "        }    #T_d7615608_2a75_11ea_a645_f0189811b80erow1_col4 {\n",
       "            background-color:  #19833e;\n",
       "            color:  #f1f1f1;\n",
       "        }    #T_d7615608_2a75_11ea_a645_f0189811b80erow1_col5 {\n",
       "            background-color:  #0a7633;\n",
       "            color:  #f1f1f1;\n",
       "        }    #T_d7615608_2a75_11ea_a645_f0189811b80erow1_col6 {\n",
       "            background-color:  #016e2d;\n",
       "            color:  #f1f1f1;\n",
       "        }    #T_d7615608_2a75_11ea_a645_f0189811b80erow1_col7 {\n",
       "            background-color:  #00441b;\n",
       "            color:  #f1f1f1;\n",
       "        }    #T_d7615608_2a75_11ea_a645_f0189811b80erow2_col0 {\n",
       "            background-color:  #a7ddd1;\n",
       "            color:  #000000;\n",
       "        }    #T_d7615608_2a75_11ea_a645_f0189811b80erow2_col1 {\n",
       "            background-color:  #4eb586;\n",
       "            color:  #000000;\n",
       "        }    #T_d7615608_2a75_11ea_a645_f0189811b80erow2_col2 {\n",
       "            background-color:  #2f9858;\n",
       "            color:  #000000;\n",
       "        }    #T_d7615608_2a75_11ea_a645_f0189811b80erow2_col3 {\n",
       "            background-color:  #40ad75;\n",
       "            color:  #000000;\n",
       "        }    #T_d7615608_2a75_11ea_a645_f0189811b80erow2_col4 {\n",
       "            background-color:  #005522;\n",
       "            color:  #f1f1f1;\n",
       "        }    #T_d7615608_2a75_11ea_a645_f0189811b80erow2_col5 {\n",
       "            background-color:  #39a569;\n",
       "            color:  #000000;\n",
       "        }    #T_d7615608_2a75_11ea_a645_f0189811b80erow2_col6 {\n",
       "            background-color:  #62c09f;\n",
       "            color:  #000000;\n",
       "        }    #T_d7615608_2a75_11ea_a645_f0189811b80erow2_col7 {\n",
       "            background-color:  #39a569;\n",
       "            color:  #000000;\n",
       "        }    #T_d7615608_2a75_11ea_a645_f0189811b80erow3_col0 {\n",
       "            background-color:  #4bb382;\n",
       "            color:  #000000;\n",
       "        }    #T_d7615608_2a75_11ea_a645_f0189811b80erow3_col1 {\n",
       "            background-color:  #3ca86d;\n",
       "            color:  #000000;\n",
       "        }    #T_d7615608_2a75_11ea_a645_f0189811b80erow3_col2 {\n",
       "            background-color:  #3fab72;\n",
       "            color:  #000000;\n",
       "        }    #T_d7615608_2a75_11ea_a645_f0189811b80erow3_col3 {\n",
       "            background-color:  #6cc4a8;\n",
       "            color:  #000000;\n",
       "        }    #T_d7615608_2a75_11ea_a645_f0189811b80erow3_col4 {\n",
       "            background-color:  #208843;\n",
       "            color:  #000000;\n",
       "        }    #T_d7615608_2a75_11ea_a645_f0189811b80erow3_col5 {\n",
       "            background-color:  #228a44;\n",
       "            color:  #000000;\n",
       "        }    #T_d7615608_2a75_11ea_a645_f0189811b80erow3_col6 {\n",
       "            background-color:  #62c09f;\n",
       "            color:  #000000;\n",
       "        }    #T_d7615608_2a75_11ea_a645_f0189811b80erow3_col7 {\n",
       "            background-color:  #005120;\n",
       "            color:  #f1f1f1;\n",
       "        }    #T_d7615608_2a75_11ea_a645_f0189811b80erow4_col0 {\n",
       "            background-color:  #36a164;\n",
       "            color:  #000000;\n",
       "        }    #T_d7615608_2a75_11ea_a645_f0189811b80erow4_col1 {\n",
       "            background-color:  #349f61;\n",
       "            color:  #000000;\n",
       "        }    #T_d7615608_2a75_11ea_a645_f0189811b80erow4_col2 {\n",
       "            background-color:  #2e9756;\n",
       "            color:  #000000;\n",
       "        }    #T_d7615608_2a75_11ea_a645_f0189811b80erow4_col3 {\n",
       "            background-color:  #53b88c;\n",
       "            color:  #000000;\n",
       "        }    #T_d7615608_2a75_11ea_a645_f0189811b80erow4_col4 {\n",
       "            background-color:  #006c2c;\n",
       "            color:  #f1f1f1;\n",
       "        }    #T_d7615608_2a75_11ea_a645_f0189811b80erow4_col5 {\n",
       "            background-color:  #1c8540;\n",
       "            color:  #000000;\n",
       "        }    #T_d7615608_2a75_11ea_a645_f0189811b80erow4_col6 {\n",
       "            background-color:  #36a164;\n",
       "            color:  #000000;\n",
       "        }    #T_d7615608_2a75_11ea_a645_f0189811b80erow4_col7 {\n",
       "            background-color:  #68c3a6;\n",
       "            color:  #000000;\n",
       "        }    #T_d7615608_2a75_11ea_a645_f0189811b80erow5_col0 {\n",
       "            background-color:  #9ad8ca;\n",
       "            color:  #000000;\n",
       "        }    #T_d7615608_2a75_11ea_a645_f0189811b80erow5_col1 {\n",
       "            background-color:  #258d48;\n",
       "            color:  #000000;\n",
       "        }    #T_d7615608_2a75_11ea_a645_f0189811b80erow5_col2 {\n",
       "            background-color:  #b0e1d6;\n",
       "            color:  #000000;\n",
       "        }    #T_d7615608_2a75_11ea_a645_f0189811b80erow5_col3 {\n",
       "            background-color:  #6dc5a9;\n",
       "            color:  #000000;\n",
       "        }    #T_d7615608_2a75_11ea_a645_f0189811b80erow5_col4 {\n",
       "            background-color:  #37a266;\n",
       "            color:  #000000;\n",
       "        }    #T_d7615608_2a75_11ea_a645_f0189811b80erow5_col5 {\n",
       "            background-color:  #55b98f;\n",
       "            color:  #000000;\n",
       "        }    #T_d7615608_2a75_11ea_a645_f0189811b80erow5_col6 {\n",
       "            background-color:  #f7fcfd;\n",
       "            color:  #000000;\n",
       "        }    #T_d7615608_2a75_11ea_a645_f0189811b80erow5_col7 {\n",
       "            background-color:  #eef8fb;\n",
       "            color:  #000000;\n",
       "        }    #T_d7615608_2a75_11ea_a645_f0189811b80erow6_col0 {\n",
       "            background-color:  #f4fbfc;\n",
       "            color:  #000000;\n",
       "        }    #T_d7615608_2a75_11ea_a645_f0189811b80erow6_col1 {\n",
       "            background-color:  #d3eeeb;\n",
       "            color:  #000000;\n",
       "        }    #T_d7615608_2a75_11ea_a645_f0189811b80erow6_col2 {\n",
       "            background-color:  #daf1f1;\n",
       "            color:  #000000;\n",
       "        }    #T_d7615608_2a75_11ea_a645_f0189811b80erow6_col3 {\n",
       "            background-color:  #e9f7fa;\n",
       "            color:  #000000;\n",
       "        }    #T_d7615608_2a75_11ea_a645_f0189811b80erow6_col4 {\n",
       "            background-color:  #f4fbfc;\n",
       "            color:  #000000;\n",
       "        }    #T_d7615608_2a75_11ea_a645_f0189811b80erow6_col5 {\n",
       "            background-color:  #f7fcfd;\n",
       "            color:  #000000;\n",
       "        }    #T_d7615608_2a75_11ea_a645_f0189811b80erow6_col6 {\n",
       "            background-color:  #edf8fb;\n",
       "            color:  #000000;\n",
       "        }    #T_d7615608_2a75_11ea_a645_f0189811b80erow6_col7 {\n",
       "            background-color:  #f7fcfd;\n",
       "            color:  #000000;\n",
       "        }    #T_d7615608_2a75_11ea_a645_f0189811b80erow7_col0 {\n",
       "            background-color:  #ebf7fa;\n",
       "            color:  #000000;\n",
       "        }    #T_d7615608_2a75_11ea_a645_f0189811b80erow7_col1 {\n",
       "            background-color:  #f7fcfd;\n",
       "            color:  #000000;\n",
       "        }    #T_d7615608_2a75_11ea_a645_f0189811b80erow7_col2 {\n",
       "            background-color:  #e0f3f5;\n",
       "            color:  #000000;\n",
       "        }    #T_d7615608_2a75_11ea_a645_f0189811b80erow7_col3 {\n",
       "            background-color:  #d4efec;\n",
       "            color:  #000000;\n",
       "        }    #T_d7615608_2a75_11ea_a645_f0189811b80erow7_col4 {\n",
       "            background-color:  #d0ede9;\n",
       "            color:  #000000;\n",
       "        }    #T_d7615608_2a75_11ea_a645_f0189811b80erow7_col5 {\n",
       "            background-color:  #ccece6;\n",
       "            color:  #000000;\n",
       "        }    #T_d7615608_2a75_11ea_a645_f0189811b80erow7_col6 {\n",
       "            background-color:  #e9f7fa;\n",
       "            color:  #000000;\n",
       "        }    #T_d7615608_2a75_11ea_a645_f0189811b80erow7_col7 {\n",
       "            background-color:  #f5fbfc;\n",
       "            color:  #000000;\n",
       "        }    #T_d7615608_2a75_11ea_a645_f0189811b80erow8_col0 {\n",
       "            background-color:  #f7fcfd;\n",
       "            color:  #000000;\n",
       "        }    #T_d7615608_2a75_11ea_a645_f0189811b80erow8_col1 {\n",
       "            background-color:  #f4fbfc;\n",
       "            color:  #000000;\n",
       "        }    #T_d7615608_2a75_11ea_a645_f0189811b80erow8_col2 {\n",
       "            background-color:  #f7fcfd;\n",
       "            color:  #000000;\n",
       "        }    #T_d7615608_2a75_11ea_a645_f0189811b80erow8_col3 {\n",
       "            background-color:  #f7fcfd;\n",
       "            color:  #000000;\n",
       "        }    #T_d7615608_2a75_11ea_a645_f0189811b80erow8_col4 {\n",
       "            background-color:  #f7fcfd;\n",
       "            color:  #000000;\n",
       "        }    #T_d7615608_2a75_11ea_a645_f0189811b80erow8_col5 {\n",
       "            background-color:  #55b98f;\n",
       "            color:  #000000;\n",
       "        }    #T_d7615608_2a75_11ea_a645_f0189811b80erow8_col6 {\n",
       "            background-color:  #d1eeea;\n",
       "            color:  #000000;\n",
       "        }    #T_d7615608_2a75_11ea_a645_f0189811b80erow8_col7 {\n",
       "            background-color:  #e7f6f9;\n",
       "            color:  #000000;\n",
       "        }</style><table id=\"T_d7615608_2a75_11ea_a645_f0189811b80e\" ><thead>    <tr>        <th class=\"blank level0\" ></th>        <th class=\"col_heading level0 col0\" >3</th>        <th class=\"col_heading level0 col1\" >5</th>        <th class=\"col_heading level0 col2\" >7</th>        <th class=\"col_heading level0 col3\" >10</th>        <th class=\"col_heading level0 col4\" >15</th>        <th class=\"col_heading level0 col5\" >20</th>        <th class=\"col_heading level0 col6\" >25</th>        <th class=\"col_heading level0 col7\" >30</th>    </tr></thead><tbody>\n",
       "                <tr>\n",
       "                        <th id=\"T_d7615608_2a75_11ea_a645_f0189811b80elevel0_row0\" class=\"row_heading level0 row0\" >1</th>\n",
       "                        <td id=\"T_d7615608_2a75_11ea_a645_f0189811b80erow0_col0\" class=\"data row0 col0\" >0.413629</td>\n",
       "                        <td id=\"T_d7615608_2a75_11ea_a645_f0189811b80erow0_col1\" class=\"data row0 col1\" >0.41339</td>\n",
       "                        <td id=\"T_d7615608_2a75_11ea_a645_f0189811b80erow0_col2\" class=\"data row0 col2\" >0.411721</td>\n",
       "                        <td id=\"T_d7615608_2a75_11ea_a645_f0189811b80erow0_col3\" class=\"data row0 col3\" >0.412368</td>\n",
       "                        <td id=\"T_d7615608_2a75_11ea_a645_f0189811b80erow0_col4\" class=\"data row0 col4\" >0.409506</td>\n",
       "                        <td id=\"T_d7615608_2a75_11ea_a645_f0189811b80erow0_col5\" class=\"data row0 col5\" >0.413663</td>\n",
       "                        <td id=\"T_d7615608_2a75_11ea_a645_f0189811b80erow0_col6\" class=\"data row0 col6\" >0.414037</td>\n",
       "                        <td id=\"T_d7615608_2a75_11ea_a645_f0189811b80erow0_col7\" class=\"data row0 col7\" >0.412129</td>\n",
       "            </tr>\n",
       "            <tr>\n",
       "                        <th id=\"T_d7615608_2a75_11ea_a645_f0189811b80elevel0_row1\" class=\"row_heading level0 row1\" >3</th>\n",
       "                        <td id=\"T_d7615608_2a75_11ea_a645_f0189811b80erow1_col0\" class=\"data row1 col0\" >0.406065</td>\n",
       "                        <td id=\"T_d7615608_2a75_11ea_a645_f0189811b80erow1_col1\" class=\"data row1 col1\" >0.406814</td>\n",
       "                        <td id=\"T_d7615608_2a75_11ea_a645_f0189811b80erow1_col2\" class=\"data row1 col2\" >0.409165</td>\n",
       "                        <td id=\"T_d7615608_2a75_11ea_a645_f0189811b80erow1_col3\" class=\"data row1 col3\" >0.407836</td>\n",
       "                        <td id=\"T_d7615608_2a75_11ea_a645_f0189811b80erow1_col4\" class=\"data row1 col4\" >0.406951</td>\n",
       "                        <td id=\"T_d7615608_2a75_11ea_a645_f0189811b80erow1_col5\" class=\"data row1 col5\" >0.410971</td>\n",
       "                        <td id=\"T_d7615608_2a75_11ea_a645_f0189811b80erow1_col6\" class=\"data row1 col6\" >0.411959</td>\n",
       "                        <td id=\"T_d7615608_2a75_11ea_a645_f0189811b80erow1_col7\" class=\"data row1 col7\" >0.414514</td>\n",
       "            </tr>\n",
       "            <tr>\n",
       "                        <th id=\"T_d7615608_2a75_11ea_a645_f0189811b80elevel0_row2\" class=\"row_heading level0 row2\" >5</th>\n",
       "                        <td id=\"T_d7615608_2a75_11ea_a645_f0189811b80erow2_col0\" class=\"data row2 col0\" >0.402078</td>\n",
       "                        <td id=\"T_d7615608_2a75_11ea_a645_f0189811b80erow2_col1\" class=\"data row2 col1\" >0.405486</td>\n",
       "                        <td id=\"T_d7615608_2a75_11ea_a645_f0189811b80erow2_col2\" class=\"data row2 col2\" >0.406917</td>\n",
       "                        <td id=\"T_d7615608_2a75_11ea_a645_f0189811b80erow2_col3\" class=\"data row2 col3\" >0.405077</td>\n",
       "                        <td id=\"T_d7615608_2a75_11ea_a645_f0189811b80erow2_col4\" class=\"data row2 col4\" >0.408893</td>\n",
       "                        <td id=\"T_d7615608_2a75_11ea_a645_f0189811b80erow2_col5\" class=\"data row2 col5\" >0.407939</td>\n",
       "                        <td id=\"T_d7615608_2a75_11ea_a645_f0189811b80erow2_col6\" class=\"data row2 col6\" >0.406337</td>\n",
       "                        <td id=\"T_d7615608_2a75_11ea_a645_f0189811b80erow2_col7\" class=\"data row2 col7\" >0.408382</td>\n",
       "            </tr>\n",
       "            <tr>\n",
       "                        <th id=\"T_d7615608_2a75_11ea_a645_f0189811b80elevel0_row3\" class=\"row_heading level0 row3\" >7</th>\n",
       "                        <td id=\"T_d7615608_2a75_11ea_a645_f0189811b80erow3_col0\" class=\"data row3 col0\" >0.40644</td>\n",
       "                        <td id=\"T_d7615608_2a75_11ea_a645_f0189811b80erow3_col1\" class=\"data row3 col1\" >0.406746</td>\n",
       "                        <td id=\"T_d7615608_2a75_11ea_a645_f0189811b80erow3_col2\" class=\"data row3 col2\" >0.40586</td>\n",
       "                        <td id=\"T_d7615608_2a75_11ea_a645_f0189811b80erow3_col3\" class=\"data row3 col3\" >0.402351</td>\n",
       "                        <td id=\"T_d7615608_2a75_11ea_a645_f0189811b80erow3_col4\" class=\"data row3 col4\" >0.406678</td>\n",
       "                        <td id=\"T_d7615608_2a75_11ea_a645_f0189811b80erow3_col5\" class=\"data row3 col5\" >0.40954</td>\n",
       "                        <td id=\"T_d7615608_2a75_11ea_a645_f0189811b80erow3_col6\" class=\"data row3 col6\" >0.406303</td>\n",
       "                        <td id=\"T_d7615608_2a75_11ea_a645_f0189811b80erow3_col7\" class=\"data row3 col7\" >0.413799</td>\n",
       "            </tr>\n",
       "            <tr>\n",
       "                        <th id=\"T_d7615608_2a75_11ea_a645_f0189811b80elevel0_row4\" class=\"row_heading level0 row4\" >10</th>\n",
       "                        <td id=\"T_d7615608_2a75_11ea_a645_f0189811b80erow4_col0\" class=\"data row4 col0\" >0.407836</td>\n",
       "                        <td id=\"T_d7615608_2a75_11ea_a645_f0189811b80erow4_col1\" class=\"data row4 col1\" >0.407359</td>\n",
       "                        <td id=\"T_d7615608_2a75_11ea_a645_f0189811b80erow4_col2\" class=\"data row4 col2\" >0.407019</td>\n",
       "                        <td id=\"T_d7615608_2a75_11ea_a645_f0189811b80erow4_col3\" class=\"data row4 col3\" >0.40385</td>\n",
       "                        <td id=\"T_d7615608_2a75_11ea_a645_f0189811b80erow4_col4\" class=\"data row4 col4\" >0.408041</td>\n",
       "                        <td id=\"T_d7615608_2a75_11ea_a645_f0189811b80erow4_col5\" class=\"data row4 col5\" >0.409915</td>\n",
       "                        <td id=\"T_d7615608_2a75_11ea_a645_f0189811b80erow4_col6\" class=\"data row4 col6\" >0.408825</td>\n",
       "                        <td id=\"T_d7615608_2a75_11ea_a645_f0189811b80erow4_col7\" class=\"data row4 col7\" >0.405451</td>\n",
       "            </tr>\n",
       "            <tr>\n",
       "                        <th id=\"T_d7615608_2a75_11ea_a645_f0189811b80elevel0_row5\" class=\"row_heading level0 row5\" >15</th>\n",
       "                        <td id=\"T_d7615608_2a75_11ea_a645_f0189811b80erow5_col0\" class=\"data row5 col0\" >0.402589</td>\n",
       "                        <td id=\"T_d7615608_2a75_11ea_a645_f0189811b80erow5_col1\" class=\"data row5 col1\" >0.408484</td>\n",
       "                        <td id=\"T_d7615608_2a75_11ea_a645_f0189811b80erow5_col2\" class=\"data row5 col2\" >0.400818</td>\n",
       "                        <td id=\"T_d7615608_2a75_11ea_a645_f0189811b80erow5_col3\" class=\"data row5 col3\" >0.402249</td>\n",
       "                        <td id=\"T_d7615608_2a75_11ea_a645_f0189811b80erow5_col4\" class=\"data row5 col4\" >0.405554</td>\n",
       "                        <td id=\"T_d7615608_2a75_11ea_a645_f0189811b80erow5_col5\" class=\"data row5 col5\" >0.406269</td>\n",
       "                        <td id=\"T_d7615608_2a75_11ea_a645_f0189811b80erow5_col6\" class=\"data row5 col6\" >0.39816</td>\n",
       "                        <td id=\"T_d7615608_2a75_11ea_a645_f0189811b80erow5_col7\" class=\"data row5 col7\" >0.397683</td>\n",
       "            </tr>\n",
       "            <tr>\n",
       "                        <th id=\"T_d7615608_2a75_11ea_a645_f0189811b80elevel0_row6\" class=\"row_heading level0 row6\" >20</th>\n",
       "                        <td id=\"T_d7615608_2a75_11ea_a645_f0189811b80erow6_col0\" class=\"data row6 col0\" >0.396491</td>\n",
       "                        <td id=\"T_d7615608_2a75_11ea_a645_f0189811b80erow6_col1\" class=\"data row6 col1\" >0.398705</td>\n",
       "                        <td id=\"T_d7615608_2a75_11ea_a645_f0189811b80erow6_col2\" class=\"data row6 col2\" >0.398637</td>\n",
       "                        <td id=\"T_d7615608_2a75_11ea_a645_f0189811b80erow6_col3\" class=\"data row6 col3\" >0.394719</td>\n",
       "                        <td id=\"T_d7615608_2a75_11ea_a645_f0189811b80erow6_col4\" class=\"data row6 col4\" >0.397922</td>\n",
       "                        <td id=\"T_d7615608_2a75_11ea_a645_f0189811b80erow6_col5\" class=\"data row6 col5\" >0.397002</td>\n",
       "                        <td id=\"T_d7615608_2a75_11ea_a645_f0189811b80erow6_col6\" class=\"data row6 col6\" >0.39925</td>\n",
       "                        <td id=\"T_d7615608_2a75_11ea_a645_f0189811b80erow6_col7\" class=\"data row6 col7\" >0.396559</td>\n",
       "            </tr>\n",
       "            <tr>\n",
       "                        <th id=\"T_d7615608_2a75_11ea_a645_f0189811b80elevel0_row7\" class=\"row_heading level0 row7\" >25</th>\n",
       "                        <td id=\"T_d7615608_2a75_11ea_a645_f0189811b80erow7_col0\" class=\"data row7 col0\" >0.397615</td>\n",
       "                        <td id=\"T_d7615608_2a75_11ea_a645_f0189811b80erow7_col1\" class=\"data row7 col1\" >0.394617</td>\n",
       "                        <td id=\"T_d7615608_2a75_11ea_a645_f0189811b80erow7_col2\" class=\"data row7 col2\" >0.398126</td>\n",
       "                        <td id=\"T_d7615608_2a75_11ea_a645_f0189811b80erow7_col3\" class=\"data row7 col3\" >0.396934</td>\n",
       "                        <td id=\"T_d7615608_2a75_11ea_a645_f0189811b80erow7_col4\" class=\"data row7 col4\" >0.400443</td>\n",
       "                        <td id=\"T_d7615608_2a75_11ea_a645_f0189811b80erow7_col5\" class=\"data row7 col5\" >0.401193</td>\n",
       "                        <td id=\"T_d7615608_2a75_11ea_a645_f0189811b80erow7_col6\" class=\"data row7 col6\" >0.399761</td>\n",
       "                        <td id=\"T_d7615608_2a75_11ea_a645_f0189811b80erow7_col7\" class=\"data row7 col7\" >0.396899</td>\n",
       "            </tr>\n",
       "            <tr>\n",
       "                        <th id=\"T_d7615608_2a75_11ea_a645_f0189811b80elevel0_row8\" class=\"row_heading level0 row8\" >30</th>\n",
       "                        <td id=\"T_d7615608_2a75_11ea_a645_f0189811b80erow8_col0\" class=\"data row8 col0\" >0.396048</td>\n",
       "                        <td id=\"T_d7615608_2a75_11ea_a645_f0189811b80erow8_col1\" class=\"data row8 col1\" >0.394991</td>\n",
       "                        <td id=\"T_d7615608_2a75_11ea_a645_f0189811b80erow8_col2\" class=\"data row8 col2\" >0.395707</td>\n",
       "                        <td id=\"T_d7615608_2a75_11ea_a645_f0189811b80erow8_col3\" class=\"data row8 col3\" >0.392811</td>\n",
       "                        <td id=\"T_d7615608_2a75_11ea_a645_f0189811b80erow8_col4\" class=\"data row8 col4\" >0.397683</td>\n",
       "                        <td id=\"T_d7615608_2a75_11ea_a645_f0189811b80erow8_col5\" class=\"data row8 col5\" >0.406269</td>\n",
       "                        <td id=\"T_d7615608_2a75_11ea_a645_f0189811b80erow8_col6\" class=\"data row8 col6\" >0.401704</td>\n",
       "                        <td id=\"T_d7615608_2a75_11ea_a645_f0189811b80erow8_col7\" class=\"data row8 col7\" >0.398535</td>\n",
       "            </tr>\n",
       "    </tbody></table>"
      ],
      "text/plain": [
       "<pandas.io.formats.style.Styler at 0x1a29dd4d50>"
      ]
     },
     "metadata": {},
     "output_type": "display_data"
    }
   ],
   "source": [
    "avg_results, scores_dict, preds_dict, params_dict, returns_dict = avg_model(\n",
    "    symbol_list,\n",
    "    forecast_horizon,                                 \n",
    "    input_window_size,                                  \n",
    "    X_train,    \n",
    "    X_test,    \n",
    "    y_train,    \n",
    "    y_test,    \n",
    "    prices_test,\n",
    "    model=clf_svc1,\n",
    "    silent = False\n",
    ")"
   ]
  },
  {
   "cell_type": "markdown",
   "metadata": {},
   "source": [
    "## Hyperparamter Optimization: GridSearch"
   ]
  },
  {
   "cell_type": "code",
   "execution_count": 132,
   "metadata": {},
   "outputs": [],
   "source": []
  },
  {
   "cell_type": "code",
   "execution_count": 163,
   "metadata": {},
   "outputs": [
    {
     "data": {
      "text/plain": [
       "0.5876651982378854"
      ]
     },
     "execution_count": 163,
     "metadata": {},
     "output_type": "execute_result"
    }
   ],
   "source": [
    "gsearch_xgb.best_score_"
   ]
  },
  {
   "cell_type": "markdown",
   "metadata": {},
   "source": [
    "## Hyperparamter Optimization: Bayesian Optimization"
   ]
  },
  {
   "cell_type": "markdown",
   "metadata": {},
   "source": [
    "### SVC"
   ]
  },
  {
   "cell_type": "code",
   "execution_count": 26,
   "metadata": {},
   "outputs": [],
   "source": [
    "n1=15\n",
    "n2=15\n",
    "symbol='T'"
   ]
  },
  {
   "cell_type": "code",
   "execution_count": 27,
   "metadata": {},
   "outputs": [
    {
     "data": {
      "text/plain": [
       "1    724\n",
       "0    643\n",
       "Name: signal_15, dtype: int64"
      ]
     },
     "execution_count": 27,
     "metadata": {},
     "output_type": "execute_result"
    }
   ],
   "source": [
    "y_train[symbol][f'signal_{n2}'].value_counts()"
   ]
  },
  {
   "cell_type": "code",
   "execution_count": 28,
   "metadata": {},
   "outputs": [
    {
     "data": {
      "text/plain": [
       "Index(['CNC', 'FMC', 'ALGN', 'RTN', 'FAST', 'ETFC', 'ABC', 'PFG', 'AXP', 'PNW',\n",
       "       'CMS', 'URI', 'PRGO', 'DRI', 'MAS', 'M', 'ZION', 'CINF', 'HIG', 'EOG',\n",
       "       'ICE', 'CBOE', 'ALL', 'UHS', 'FRT', 'NEM', 'BLL', 'NDAQ', 'CMG', 'JKHY',\n",
       "       'T', 'QCOM', 'FTI', 'AOS', 'ATVI', 'STT', 'TXN', 'KIM', 'NTAP', 'CHD',\n",
       "       'WYNN', 'GM', 'SJM', 'MCHP', 'ES', 'KMB', 'GIS', 'EXC', 'IBM', 'MSFT'],\n",
       "      dtype='object')"
      ]
     },
     "execution_count": 28,
     "metadata": {},
     "output_type": "execute_result"
    }
   ],
   "source": [
    "symbol_list"
   ]
  },
  {
   "cell_type": "code",
   "execution_count": 29,
   "metadata": {},
   "outputs": [],
   "source": [
    "# Optimizing for accuracy_score"
   ]
  },
  {
   "cell_type": "code",
   "execution_count": 55,
   "metadata": {},
   "outputs": [
    {
     "name": "stdout",
     "output_type": "stream",
     "text": [
      "100%|██████████| 100/100 [06:05<00:00,  3.66s/it, best loss: -0.5947136563876653]\n",
      "##### Results #####\n",
      "Score best parameters:  -0.5947136563876653\n",
      "Best parameters:  {'C': 12.927867540326599, 'cv': 'tscv', 'gamma': 0.00028813385759809826, 'max_samples': 0.9766968524508072, 'model': <class 'sklearn.svm._classes.SVC'>, 'normalize': 1, 'scale': 1}\n",
      "Test Score (accuracy):  0.534923339011925\n",
      "Parameter combinations evaluated:  100\n",
      "Time elapsed:  365.74483275413513\n"
     ]
    }
   ],
   "source": [
    "model = SVC\n",
    "bsearch_svca, clf_bsearch_svca, params_bsearch_svca = BayesianSearch(\n",
    "    search_space(model),\n",
    "    model,\n",
    "    X_train[symbol][features], \n",
    "    y_train[symbol][f'signal_{n2}'], \n",
    "    X_test[symbol][features],\n",
    "    y_test[symbol][f'signal_{n2}'],\n",
    "    num_eval=100,\n",
    "    scoring_metric='accuracy_score'\n",
    ")"
   ]
  },
  {
   "cell_type": "code",
   "execution_count": 56,
   "metadata": {},
   "outputs": [
    {
     "name": "stdout",
     "output_type": "stream",
     "text": [
      "Recall Score:  0.558974358974359\n",
      "              precision    recall  f1-score   support\n",
      "\n",
      "           0       0.36      0.49      0.41       197\n",
      "           1       0.68      0.56      0.61       390\n",
      "\n",
      "    accuracy                           0.53       587\n",
      "   macro avg       0.52      0.52      0.51       587\n",
      "weighted avg       0.57      0.53      0.55       587\n",
      "\n"
     ]
    },
    {
     "data": {
      "text/plain": [
       "<sklearn.metrics._plot.confusion_matrix.ConfusionMatrixDisplay at 0x1a289e94d0>"
      ]
     },
     "execution_count": 56,
     "metadata": {},
     "output_type": "execute_result"
    },
    {
     "data": {
      "image/png": "[encoded data removed]",
      "text/plain": [
       "<Figure size 432x288 with 2 Axes>"
      ]
     },
     "metadata": {
      "needs_background": "light"
     },
     "output_type": "display_data"
    }
   ],
   "source": [
    "y_pred_bsearch_svca = clf_bsearch_svca.predict(X_test[symbol][[f'{x}_{n1}' for x in ti_list]])\n",
    "print('Recall Score: ', recall_score(y_pred_bsearch_svca, y_test[symbol][f'signal_{n2}']))\n",
    "print(classification_report(y_pred_bsearch_svca, y_test[symbol][f'signal_{n2}']))\n",
    "plot_confusion_matrix(\n",
    "    clf_bsearch_svca,\n",
    "    X_test[symbol][[f'{x}_{n1}' for x in ti_list]], y_test[symbol][f'signal_{n2}'],\n",
    ")\n",
    "\n"
   ]
  },
  {
   "cell_type": "code",
   "execution_count": 100,
   "metadata": {},
   "outputs": [
    {
     "data": {
      "text/html": [
       "<div>\n",
       "<style scoped>\n",
       "    .dataframe tbody tr th:only-of-type {\n",
       "        vertical-align: middle;\n",
       "    }\n",
       "\n",
       "    .dataframe tbody tr th {\n",
       "        vertical-align: top;\n",
       "    }\n",
       "\n",
       "    .dataframe thead th {\n",
       "        text-align: right;\n",
       "    }\n",
       "</style>\n",
       "<table border=\"1\" class=\"dataframe\">\n",
       "  <thead>\n",
       "    <tr style=\"text-align: right;\">\n",
       "      <th></th>\n",
       "      <th>Close</th>\n",
       "      <th>Signal_Strat</th>\n",
       "      <th>Cum_Returns_Strat</th>\n",
       "      <th>Cum_Returns_BH</th>\n",
       "    </tr>\n",
       "    <tr>\n",
       "      <th>Epoch</th>\n",
       "      <th></th>\n",
       "      <th></th>\n",
       "      <th></th>\n",
       "      <th></th>\n",
       "    </tr>\n",
       "  </thead>\n",
       "  <tbody>\n",
       "    <tr>\n",
       "      <th>2017-07-11 00:00:00+00:00</th>\n",
       "      <td>NaN</td>\n",
       "      <td>1</td>\n",
       "      <td>NaN</td>\n",
       "      <td>NaN</td>\n",
       "    </tr>\n",
       "    <tr>\n",
       "      <th>2017-07-12 00:00:00+00:00</th>\n",
       "      <td>0.006284</td>\n",
       "      <td>1</td>\n",
       "      <td>0.006284</td>\n",
       "      <td>0.006284</td>\n",
       "    </tr>\n",
       "    <tr>\n",
       "      <th>2017-07-13 00:00:00+00:00</th>\n",
       "      <td>-0.016834</td>\n",
       "      <td>1</td>\n",
       "      <td>-0.010550</td>\n",
       "      <td>-0.010550</td>\n",
       "    </tr>\n",
       "    <tr>\n",
       "      <th>2017-07-14 00:00:00+00:00</th>\n",
       "      <td>0.002486</td>\n",
       "      <td>1</td>\n",
       "      <td>-0.008064</td>\n",
       "      <td>-0.008064</td>\n",
       "    </tr>\n",
       "    <tr>\n",
       "      <th>2017-07-17 00:00:00+00:00</th>\n",
       "      <td>0.002479</td>\n",
       "      <td>1</td>\n",
       "      <td>-0.005585</td>\n",
       "      <td>-0.005585</td>\n",
       "    </tr>\n",
       "    <tr>\n",
       "      <th>...</th>\n",
       "      <td>...</td>\n",
       "      <td>...</td>\n",
       "      <td>...</td>\n",
       "      <td>...</td>\n",
       "    </tr>\n",
       "    <tr>\n",
       "      <th>2019-10-31 00:00:00+00:00</th>\n",
       "      <td>0.007592</td>\n",
       "      <td>0</td>\n",
       "      <td>-0.077534</td>\n",
       "      <td>0.105152</td>\n",
       "    </tr>\n",
       "    <tr>\n",
       "      <th>2019-11-01 00:00:00+00:00</th>\n",
       "      <td>0.011951</td>\n",
       "      <td>0</td>\n",
       "      <td>-0.077534</td>\n",
       "      <td>0.117103</td>\n",
       "    </tr>\n",
       "    <tr>\n",
       "      <th>2019-11-04 00:00:00+00:00</th>\n",
       "      <td>-0.001540</td>\n",
       "      <td>0</td>\n",
       "      <td>-0.077534</td>\n",
       "      <td>0.115563</td>\n",
       "    </tr>\n",
       "    <tr>\n",
       "      <th>2019-11-05 00:00:00+00:00</th>\n",
       "      <td>0.007200</td>\n",
       "      <td>0</td>\n",
       "      <td>-0.077534</td>\n",
       "      <td>0.122763</td>\n",
       "    </tr>\n",
       "    <tr>\n",
       "      <th>2019-11-06 00:00:00+00:00</th>\n",
       "      <td>0.002042</td>\n",
       "      <td>0</td>\n",
       "      <td>-0.077534</td>\n",
       "      <td>0.124805</td>\n",
       "    </tr>\n",
       "  </tbody>\n",
       "</table>\n",
       "<p>587 rows × 4 columns</p>\n",
       "</div>"
      ],
      "text/plain": [
       "                              Close  Signal_Strat  Cum_Returns_Strat  \\\n",
       "Epoch                                                                  \n",
       "2017-07-11 00:00:00+00:00       NaN             1                NaN   \n",
       "2017-07-12 00:00:00+00:00  0.006284             1           0.006284   \n",
       "2017-07-13 00:00:00+00:00 -0.016834             1          -0.010550   \n",
       "2017-07-14 00:00:00+00:00  0.002486             1          -0.008064   \n",
       "2017-07-17 00:00:00+00:00  0.002479             1          -0.005585   \n",
       "...                             ...           ...                ...   \n",
       "2019-10-31 00:00:00+00:00  0.007592             0          -0.077534   \n",
       "2019-11-01 00:00:00+00:00  0.011951             0          -0.077534   \n",
       "2019-11-04 00:00:00+00:00 -0.001540             0          -0.077534   \n",
       "2019-11-05 00:00:00+00:00  0.007200             0          -0.077534   \n",
       "2019-11-06 00:00:00+00:00  0.002042             0          -0.077534   \n",
       "\n",
       "                           Cum_Returns_BH  \n",
       "Epoch                                      \n",
       "2017-07-11 00:00:00+00:00             NaN  \n",
       "2017-07-12 00:00:00+00:00        0.006284  \n",
       "2017-07-13 00:00:00+00:00       -0.010550  \n",
       "2017-07-14 00:00:00+00:00       -0.008064  \n",
       "2017-07-17 00:00:00+00:00       -0.005585  \n",
       "...                                   ...  \n",
       "2019-10-31 00:00:00+00:00        0.105152  \n",
       "2019-11-01 00:00:00+00:00        0.117103  \n",
       "2019-11-04 00:00:00+00:00        0.115563  \n",
       "2019-11-05 00:00:00+00:00        0.122763  \n",
       "2019-11-06 00:00:00+00:00        0.124805  \n",
       "\n",
       "[587 rows x 4 columns]"
      ]
     },
     "execution_count": 100,
     "metadata": {},
     "output_type": "execute_result"
    }
   ],
   "source": [
    "calc_returns(y_pred_bsearch_svca, djia[symbol][test_size:])"
   ]
  },
  {
   "cell_type": "code",
   "execution_count": 58,
   "metadata": {},
   "outputs": [],
   "source": [
    "# Optimizing for recall_score"
   ]
  },
  {
   "cell_type": "code",
   "execution_count": 114,
   "metadata": {},
   "outputs": [
    {
     "name": "stdout",
     "output_type": "stream",
     "text": [
      "100%|██████████| 25/25 [00:06<00:00,  3.61it/s, best loss: -0.7108025819023261]\n",
      "##### Results #####\n",
      "Score best parameters:  -0.7108025819023261\n",
      "Best parameters:  {'C': 909335.987922264, 'cv': 'btscv', 'gamma': 1.5720977363305555e-08, 'max_samples': 0.87708999682381, 'model': <class 'sklearn.svm._classes.SVC'>, 'normalize': 0, 'scale': 1}\n",
      "Test Score (accuracy):  0.6132879045996593\n",
      "Parameter combinations evaluated:  25\n",
      "Time elapsed:  7.157654047012329\n"
     ]
    }
   ],
   "source": [
    "model = SVC\n",
    "bsearch_svcb, clf_bsearch_svcb, params_bsearch_svcb = BayesianSearch(\n",
    "    search_space(model),\n",
    "    model,\n",
    "    X_train[symbol][features], \n",
    "    y_train[symbol][f'signal_{n2}'], \n",
    "    X_test[symbol][features],\n",
    "    y_test[symbol][f'signal_{n2}'],\n",
    "    num_eval=25,\n",
    "    scoring_metric='recall_score'\n",
    ")"
   ]
  },
  {
   "cell_type": "code",
   "execution_count": 115,
   "metadata": {},
   "outputs": [
    {
     "name": "stdout",
     "output_type": "stream",
     "text": [
      "Recall Score:  0.6133004926108374\n",
      "              precision    recall  f1-score   support\n",
      "\n",
      "           0       0.41      0.61      0.49       181\n",
      "           1       0.78      0.61      0.69       406\n",
      "\n",
      "    accuracy                           0.61       587\n",
      "   macro avg       0.60      0.61      0.59       587\n",
      "weighted avg       0.67      0.61      0.63       587\n",
      "\n"
     ]
    },
    {
     "data": {
      "text/plain": [
       "<sklearn.metrics._plot.confusion_matrix.ConfusionMatrixDisplay at 0x1a2b888690>"
      ]
     },
     "execution_count": 115,
     "metadata": {},
     "output_type": "execute_result"
    },
    {
     "data": {
      "image/png": "[encoded data removed]",
      "text/plain": [
       "<Figure size 432x288 with 2 Axes>"
      ]
     },
     "metadata": {
      "needs_background": "light"
     },
     "output_type": "display_data"
    }
   ],
   "source": [
    "y_pred_bsearch_svcb = clf_bsearch_svcb.predict(X_test[symbol][[f'{x}_{n1}' for x in ti_list]])\n",
    "print('Recall Score: ', recall_score(y_pred_bsearch_svcb, y_test[symbol][f'signal_{n2}']))\n",
    "print(classification_report(y_pred_bsearch_svcb, y_test[symbol][f'signal_{n2}']))\n",
    "plot_confusion_matrix(\n",
    "    clf_bsearch_svcb,\n",
    "    X_test[symbol][[f'{x}_{n1}' for x in ti_list]], y_test[symbol][f'signal_{n2}'],\n",
    ")"
   ]
  },
  {
   "cell_type": "code",
   "execution_count": 116,
   "metadata": {},
   "outputs": [
    {
     "data": {
      "text/html": [
       "<div>\n",
       "<style scoped>\n",
       "    .dataframe tbody tr th:only-of-type {\n",
       "        vertical-align: middle;\n",
       "    }\n",
       "\n",
       "    .dataframe tbody tr th {\n",
       "        vertical-align: top;\n",
       "    }\n",
       "\n",
       "    .dataframe thead th {\n",
       "        text-align: right;\n",
       "    }\n",
       "</style>\n",
       "<table border=\"1\" class=\"dataframe\">\n",
       "  <thead>\n",
       "    <tr style=\"text-align: right;\">\n",
       "      <th></th>\n",
       "      <th>Close</th>\n",
       "      <th>Signal_Strat</th>\n",
       "      <th>Cum_Returns_Strat</th>\n",
       "      <th>Cum_Returns_BH</th>\n",
       "    </tr>\n",
       "    <tr>\n",
       "      <th>Epoch</th>\n",
       "      <th></th>\n",
       "      <th></th>\n",
       "      <th></th>\n",
       "      <th></th>\n",
       "    </tr>\n",
       "  </thead>\n",
       "  <tbody>\n",
       "    <tr>\n",
       "      <th>2017-07-11 00:00:00+00:00</th>\n",
       "      <td>NaN</td>\n",
       "      <td>1</td>\n",
       "      <td>NaN</td>\n",
       "      <td>NaN</td>\n",
       "    </tr>\n",
       "    <tr>\n",
       "      <th>2017-07-12 00:00:00+00:00</th>\n",
       "      <td>0.006284</td>\n",
       "      <td>1</td>\n",
       "      <td>0.006284</td>\n",
       "      <td>0.006284</td>\n",
       "    </tr>\n",
       "    <tr>\n",
       "      <th>2017-07-13 00:00:00+00:00</th>\n",
       "      <td>-0.016834</td>\n",
       "      <td>1</td>\n",
       "      <td>-0.010550</td>\n",
       "      <td>-0.010550</td>\n",
       "    </tr>\n",
       "    <tr>\n",
       "      <th>2017-07-14 00:00:00+00:00</th>\n",
       "      <td>0.002486</td>\n",
       "      <td>1</td>\n",
       "      <td>-0.008064</td>\n",
       "      <td>-0.008064</td>\n",
       "    </tr>\n",
       "    <tr>\n",
       "      <th>2017-07-17 00:00:00+00:00</th>\n",
       "      <td>0.002479</td>\n",
       "      <td>1</td>\n",
       "      <td>-0.005585</td>\n",
       "      <td>-0.005585</td>\n",
       "    </tr>\n",
       "    <tr>\n",
       "      <th>...</th>\n",
       "      <td>...</td>\n",
       "      <td>...</td>\n",
       "      <td>...</td>\n",
       "      <td>...</td>\n",
       "    </tr>\n",
       "    <tr>\n",
       "      <th>2019-10-31 00:00:00+00:00</th>\n",
       "      <td>0.007592</td>\n",
       "      <td>0</td>\n",
       "      <td>-0.062133</td>\n",
       "      <td>0.105152</td>\n",
       "    </tr>\n",
       "    <tr>\n",
       "      <th>2019-11-01 00:00:00+00:00</th>\n",
       "      <td>0.011951</td>\n",
       "      <td>0</td>\n",
       "      <td>-0.062133</td>\n",
       "      <td>0.117103</td>\n",
       "    </tr>\n",
       "    <tr>\n",
       "      <th>2019-11-04 00:00:00+00:00</th>\n",
       "      <td>-0.001540</td>\n",
       "      <td>0</td>\n",
       "      <td>-0.062133</td>\n",
       "      <td>0.115563</td>\n",
       "    </tr>\n",
       "    <tr>\n",
       "      <th>2019-11-05 00:00:00+00:00</th>\n",
       "      <td>0.007200</td>\n",
       "      <td>0</td>\n",
       "      <td>-0.062133</td>\n",
       "      <td>0.122763</td>\n",
       "    </tr>\n",
       "    <tr>\n",
       "      <th>2019-11-06 00:00:00+00:00</th>\n",
       "      <td>0.002042</td>\n",
       "      <td>0</td>\n",
       "      <td>-0.062133</td>\n",
       "      <td>0.124805</td>\n",
       "    </tr>\n",
       "  </tbody>\n",
       "</table>\n",
       "<p>587 rows × 4 columns</p>\n",
       "</div>"
      ],
      "text/plain": [
       "                              Close  Signal_Strat  Cum_Returns_Strat  \\\n",
       "Epoch                                                                  \n",
       "2017-07-11 00:00:00+00:00       NaN             1                NaN   \n",
       "2017-07-12 00:00:00+00:00  0.006284             1           0.006284   \n",
       "2017-07-13 00:00:00+00:00 -0.016834             1          -0.010550   \n",
       "2017-07-14 00:00:00+00:00  0.002486             1          -0.008064   \n",
       "2017-07-17 00:00:00+00:00  0.002479             1          -0.005585   \n",
       "...                             ...           ...                ...   \n",
       "2019-10-31 00:00:00+00:00  0.007592             0          -0.062133   \n",
       "2019-11-01 00:00:00+00:00  0.011951             0          -0.062133   \n",
       "2019-11-04 00:00:00+00:00 -0.001540             0          -0.062133   \n",
       "2019-11-05 00:00:00+00:00  0.007200             0          -0.062133   \n",
       "2019-11-06 00:00:00+00:00  0.002042             0          -0.062133   \n",
       "\n",
       "                           Cum_Returns_BH  \n",
       "Epoch                                      \n",
       "2017-07-11 00:00:00+00:00             NaN  \n",
       "2017-07-12 00:00:00+00:00        0.006284  \n",
       "2017-07-13 00:00:00+00:00       -0.010550  \n",
       "2017-07-14 00:00:00+00:00       -0.008064  \n",
       "2017-07-17 00:00:00+00:00       -0.005585  \n",
       "...                                   ...  \n",
       "2019-10-31 00:00:00+00:00        0.105152  \n",
       "2019-11-01 00:00:00+00:00        0.117103  \n",
       "2019-11-04 00:00:00+00:00        0.115563  \n",
       "2019-11-05 00:00:00+00:00        0.122763  \n",
       "2019-11-06 00:00:00+00:00        0.124805  \n",
       "\n",
       "[587 rows x 4 columns]"
      ]
     },
     "execution_count": 116,
     "metadata": {},
     "output_type": "execute_result"
    }
   ],
   "source": [
    "calc_returns(y_pred_bsearch_svcb, djia[symbol][test_size:])"
   ]
  },
  {
   "cell_type": "code",
   "execution_count": 64,
   "metadata": {},
   "outputs": [],
   "source": [
    "# f1_score as scoring metric"
   ]
  },
  {
   "cell_type": "code",
   "execution_count": 111,
   "metadata": {},
   "outputs": [
    {
     "name": "stdout",
     "output_type": "stream",
     "text": [
      "100%|██████████| 25/25 [00:08<00:00,  3.09it/s, best loss: -0.6144869431643625]\n",
      "##### Results #####\n",
      "Score best parameters:  -0.6144869431643625\n",
      "Best parameters:  {'C': 507.3869829807817, 'cv': 'btscv', 'gamma': 7.809306119457608e-05, 'max_samples': 0.9070217363103084, 'model': <class 'sklearn.svm._classes.SVC'>, 'normalize': 1, 'scale': 0}\n",
      "Test Score (accuracy):  0.5468483816013628\n",
      "Parameter combinations evaluated:  25\n",
      "Time elapsed:  8.37241506576538\n"
     ]
    }
   ],
   "source": [
    "model = SVC\n",
    "bsearch_svcc, clf_bsearch_svcc, params_bsearch_svcc = BayesianSearch(\n",
    "    search_space(model),\n",
    "    model,\n",
    "    X_train[symbol][features], \n",
    "    y_train[symbol][f'signal_{n2}'], \n",
    "    X_test[symbol][features],\n",
    "    y_test[symbol][f'signal_{n2}'],\n",
    "    num_eval=25,\n",
    "    scoring_metric='f1_score'\n",
    ")"
   ]
  },
  {
   "cell_type": "code",
   "execution_count": 112,
   "metadata": {},
   "outputs": [
    {
     "name": "stdout",
     "output_type": "stream",
     "text": [
      "Recall Score:  0.5763688760806917\n",
      "              precision    recall  f1-score   support\n",
      "\n",
      "           0       0.45      0.50      0.48       240\n",
      "           1       0.63      0.58      0.60       347\n",
      "\n",
      "    accuracy                           0.55       587\n",
      "   macro avg       0.54      0.54      0.54       587\n",
      "weighted avg       0.56      0.55      0.55       587\n",
      "\n"
     ]
    },
    {
     "data": {
      "text/plain": [
       "<sklearn.metrics._plot.confusion_matrix.ConfusionMatrixDisplay at 0x1a2b5202d0>"
      ]
     },
     "execution_count": 112,
     "metadata": {},
     "output_type": "execute_result"
    },
    {
     "data": {
      "image/png": "[encoded data removed]",
      "text/plain": [
       "<Figure size 432x288 with 2 Axes>"
      ]
     },
     "metadata": {
      "needs_background": "light"
     },
     "output_type": "display_data"
    }
   ],
   "source": [
    "y_pred_bsearch_svcc = clf_bsearch_svcc.predict(X_test[symbol][[f'{x}_{n1}' for x in ti_list]])\n",
    "print('Recall Score: ', recall_score(y_pred_bsearch_svcc, y_test[symbol][f'signal_{n2}']))\n",
    "print(classification_report(y_pred_bsearch_svcc, y_test[symbol][f'signal_{n2}']))\n",
    "plot_confusion_matrix(\n",
    "    clf_bsearch_svcc,\n",
    "    X_test[symbol][[f'{x}_{n1}' for x in ti_list]], y_test[symbol][f'signal_{n2}'],\n",
    ")"
   ]
  },
  {
   "cell_type": "code",
   "execution_count": 113,
   "metadata": {},
   "outputs": [
    {
     "data": {
      "text/html": [
       "<div>\n",
       "<style scoped>\n",
       "    .dataframe tbody tr th:only-of-type {\n",
       "        vertical-align: middle;\n",
       "    }\n",
       "\n",
       "    .dataframe tbody tr th {\n",
       "        vertical-align: top;\n",
       "    }\n",
       "\n",
       "    .dataframe thead th {\n",
       "        text-align: right;\n",
       "    }\n",
       "</style>\n",
       "<table border=\"1\" class=\"dataframe\">\n",
       "  <thead>\n",
       "    <tr style=\"text-align: right;\">\n",
       "      <th></th>\n",
       "      <th>Close</th>\n",
       "      <th>Signal_Strat</th>\n",
       "      <th>Cum_Returns_Strat</th>\n",
       "      <th>Cum_Returns_BH</th>\n",
       "    </tr>\n",
       "    <tr>\n",
       "      <th>Epoch</th>\n",
       "      <th></th>\n",
       "      <th></th>\n",
       "      <th></th>\n",
       "      <th></th>\n",
       "    </tr>\n",
       "  </thead>\n",
       "  <tbody>\n",
       "    <tr>\n",
       "      <th>2017-07-11 00:00:00+00:00</th>\n",
       "      <td>NaN</td>\n",
       "      <td>1</td>\n",
       "      <td>NaN</td>\n",
       "      <td>NaN</td>\n",
       "    </tr>\n",
       "    <tr>\n",
       "      <th>2017-07-12 00:00:00+00:00</th>\n",
       "      <td>0.006284</td>\n",
       "      <td>1</td>\n",
       "      <td>0.006284</td>\n",
       "      <td>0.006284</td>\n",
       "    </tr>\n",
       "    <tr>\n",
       "      <th>2017-07-13 00:00:00+00:00</th>\n",
       "      <td>-0.016834</td>\n",
       "      <td>1</td>\n",
       "      <td>-0.010550</td>\n",
       "      <td>-0.010550</td>\n",
       "    </tr>\n",
       "    <tr>\n",
       "      <th>2017-07-14 00:00:00+00:00</th>\n",
       "      <td>0.002486</td>\n",
       "      <td>1</td>\n",
       "      <td>-0.008064</td>\n",
       "      <td>-0.008064</td>\n",
       "    </tr>\n",
       "    <tr>\n",
       "      <th>2017-07-17 00:00:00+00:00</th>\n",
       "      <td>0.002479</td>\n",
       "      <td>1</td>\n",
       "      <td>-0.005585</td>\n",
       "      <td>-0.005585</td>\n",
       "    </tr>\n",
       "    <tr>\n",
       "      <th>...</th>\n",
       "      <td>...</td>\n",
       "      <td>...</td>\n",
       "      <td>...</td>\n",
       "      <td>...</td>\n",
       "    </tr>\n",
       "    <tr>\n",
       "      <th>2019-10-31 00:00:00+00:00</th>\n",
       "      <td>0.007592</td>\n",
       "      <td>0</td>\n",
       "      <td>-0.344723</td>\n",
       "      <td>0.105152</td>\n",
       "    </tr>\n",
       "    <tr>\n",
       "      <th>2019-11-01 00:00:00+00:00</th>\n",
       "      <td>0.011951</td>\n",
       "      <td>0</td>\n",
       "      <td>-0.344723</td>\n",
       "      <td>0.117103</td>\n",
       "    </tr>\n",
       "    <tr>\n",
       "      <th>2019-11-04 00:00:00+00:00</th>\n",
       "      <td>-0.001540</td>\n",
       "      <td>0</td>\n",
       "      <td>-0.344723</td>\n",
       "      <td>0.115563</td>\n",
       "    </tr>\n",
       "    <tr>\n",
       "      <th>2019-11-05 00:00:00+00:00</th>\n",
       "      <td>0.007200</td>\n",
       "      <td>0</td>\n",
       "      <td>-0.344723</td>\n",
       "      <td>0.122763</td>\n",
       "    </tr>\n",
       "    <tr>\n",
       "      <th>2019-11-06 00:00:00+00:00</th>\n",
       "      <td>0.002042</td>\n",
       "      <td>0</td>\n",
       "      <td>-0.344723</td>\n",
       "      <td>0.124805</td>\n",
       "    </tr>\n",
       "  </tbody>\n",
       "</table>\n",
       "<p>587 rows × 4 columns</p>\n",
       "</div>"
      ],
      "text/plain": [
       "                              Close  Signal_Strat  Cum_Returns_Strat  \\\n",
       "Epoch                                                                  \n",
       "2017-07-11 00:00:00+00:00       NaN             1                NaN   \n",
       "2017-07-12 00:00:00+00:00  0.006284             1           0.006284   \n",
       "2017-07-13 00:00:00+00:00 -0.016834             1          -0.010550   \n",
       "2017-07-14 00:00:00+00:00  0.002486             1          -0.008064   \n",
       "2017-07-17 00:00:00+00:00  0.002479             1          -0.005585   \n",
       "...                             ...           ...                ...   \n",
       "2019-10-31 00:00:00+00:00  0.007592             0          -0.344723   \n",
       "2019-11-01 00:00:00+00:00  0.011951             0          -0.344723   \n",
       "2019-11-04 00:00:00+00:00 -0.001540             0          -0.344723   \n",
       "2019-11-05 00:00:00+00:00  0.007200             0          -0.344723   \n",
       "2019-11-06 00:00:00+00:00  0.002042             0          -0.344723   \n",
       "\n",
       "                           Cum_Returns_BH  \n",
       "Epoch                                      \n",
       "2017-07-11 00:00:00+00:00             NaN  \n",
       "2017-07-12 00:00:00+00:00        0.006284  \n",
       "2017-07-13 00:00:00+00:00       -0.010550  \n",
       "2017-07-14 00:00:00+00:00       -0.008064  \n",
       "2017-07-17 00:00:00+00:00       -0.005585  \n",
       "...                                   ...  \n",
       "2019-10-31 00:00:00+00:00        0.105152  \n",
       "2019-11-01 00:00:00+00:00        0.117103  \n",
       "2019-11-04 00:00:00+00:00        0.115563  \n",
       "2019-11-05 00:00:00+00:00        0.122763  \n",
       "2019-11-06 00:00:00+00:00        0.124805  \n",
       "\n",
       "[587 rows x 4 columns]"
      ]
     },
     "execution_count": 113,
     "metadata": {},
     "output_type": "execute_result"
    }
   ],
   "source": [
    "calc_returns(y_pred_bsearch_svcc, djia[symbol][test_size:])"
   ]
  },
  {
   "cell_type": "code",
   "execution_count": 68,
   "metadata": {},
   "outputs": [],
   "source": [
    "# Precision as scoring metric"
   ]
  },
  {
   "cell_type": "code",
   "execution_count": 105,
   "metadata": {},
   "outputs": [
    {
     "name": "stdout",
     "output_type": "stream",
     "text": [
      "  4%|▍         | 1/25 [00:01<00:32,  1.37s/it, best loss: -0.46174174174174176]"
     ]
    },
    {
     "name": "stderr",
     "output_type": "stream",
     "text": [
      "//anaconda3/envs/capstone_nf/lib/python3.7/site-packages/sklearn/metrics/_classification.py:1268: UndefinedMetricWarning: Precision is ill-defined and being set to 0.0 due to no predicted samples. Use `zero_division` parameter to control this behavior.\n",
      "  _warn_prf(average, modifier, msg_start, len(result))\n",
      "\n"
     ]
    },
    {
     "name": "stdout",
     "output_type": "stream",
     "text": [
      " 16%|█▌        | 4/25 [00:02<00:13,  1.52it/s, best loss: -0.5893154266929298] "
     ]
    },
    {
     "name": "stderr",
     "output_type": "stream",
     "text": [
      "//anaconda3/envs/capstone_nf/lib/python3.7/site-packages/sklearn/metrics/_classification.py:1268: UndefinedMetricWarning: Precision is ill-defined and being set to 0.0 due to no predicted samples. Use `zero_division` parameter to control this behavior.\n",
      "  _warn_prf(average, modifier, msg_start, len(result))\n",
      "\n",
      "//anaconda3/envs/capstone_nf/lib/python3.7/site-packages/sklearn/metrics/_classification.py:1268: UndefinedMetricWarning: Precision is ill-defined and being set to 0.0 due to no predicted samples. Use `zero_division` parameter to control this behavior.\n",
      "  _warn_prf(average, modifier, msg_start, len(result))\n",
      "\n"
     ]
    },
    {
     "name": "stdout",
     "output_type": "stream",
     "text": [
      " 20%|██        | 5/25 [00:02<00:11,  1.75it/s, best loss: -0.5893154266929298]"
     ]
    },
    {
     "name": "stderr",
     "output_type": "stream",
     "text": [
      "//anaconda3/envs/capstone_nf/lib/python3.7/site-packages/sklearn/metrics/_classification.py:1268: UndefinedMetricWarning: Precision is ill-defined and being set to 0.0 due to no predicted samples. Use `zero_division` parameter to control this behavior.\n",
      "  _warn_prf(average, modifier, msg_start, len(result))\n",
      "\n"
     ]
    },
    {
     "name": "stdout",
     "output_type": "stream",
     "text": [
      " 28%|██▊       | 7/25 [00:03<00:06,  2.65it/s, best loss: -0.5893154266929298]"
     ]
    },
    {
     "name": "stderr",
     "output_type": "stream",
     "text": [
      "//anaconda3/envs/capstone_nf/lib/python3.7/site-packages/sklearn/metrics/_classification.py:1268: UndefinedMetricWarning: Precision is ill-defined and being set to 0.0 due to no predicted samples. Use `zero_division` parameter to control this behavior.\n",
      "  _warn_prf(average, modifier, msg_start, len(result))\n",
      "\n",
      "//anaconda3/envs/capstone_nf/lib/python3.7/site-packages/sklearn/metrics/_classification.py:1268: UndefinedMetricWarning: Precision is ill-defined and being set to 0.0 due to no predicted samples. Use `zero_division` parameter to control this behavior.\n",
      "  _warn_prf(average, modifier, msg_start, len(result))\n",
      "\n",
      "//anaconda3/envs/capstone_nf/lib/python3.7/site-packages/sklearn/metrics/_classification.py:1268: UndefinedMetricWarning: Precision is ill-defined and being set to 0.0 due to no predicted samples. Use `zero_division` parameter to control this behavior.\n",
      "  _warn_prf(average, modifier, msg_start, len(result))\n",
      "\n",
      "//anaconda3/envs/capstone_nf/lib/python3.7/site-packages/sklearn/metrics/_classification.py:1268: UndefinedMetricWarning: Precision is ill-defined and being set to 0.0 due to no predicted samples. Use `zero_division` parameter to control this behavior.\n",
      "  _warn_prf(average, modifier, msg_start, len(result))\n",
      "\n"
     ]
    },
    {
     "name": "stdout",
     "output_type": "stream",
     "text": [
      " 36%|███▌      | 9/25 [00:03<00:05,  2.78it/s, best loss: -0.5893154266929298]"
     ]
    },
    {
     "name": "stderr",
     "output_type": "stream",
     "text": [
      "//anaconda3/envs/capstone_nf/lib/python3.7/site-packages/sklearn/metrics/_classification.py:1268: UndefinedMetricWarning: Precision is ill-defined and being set to 0.0 due to no predicted samples. Use `zero_division` parameter to control this behavior.\n",
      "  _warn_prf(average, modifier, msg_start, len(result))\n",
      "\n"
     ]
    },
    {
     "name": "stdout",
     "output_type": "stream",
     "text": [
      " 44%|████▍     | 11/25 [00:04<00:04,  3.09it/s, best loss: -0.6763434920785126]"
     ]
    },
    {
     "name": "stderr",
     "output_type": "stream",
     "text": [
      "//anaconda3/envs/capstone_nf/lib/python3.7/site-packages/sklearn/metrics/_classification.py:1268: UndefinedMetricWarning: Precision is ill-defined and being set to 0.0 due to no predicted samples. Use `zero_division` parameter to control this behavior.\n",
      "  _warn_prf(average, modifier, msg_start, len(result))\n",
      "\n"
     ]
    },
    {
     "name": "stdout",
     "output_type": "stream",
     "text": [
      " 48%|████▊     | 12/25 [00:04<00:03,  3.70it/s, best loss: -0.6763434920785126]"
     ]
    },
    {
     "name": "stderr",
     "output_type": "stream",
     "text": [
      "//anaconda3/envs/capstone_nf/lib/python3.7/site-packages/sklearn/metrics/_classification.py:1268: UndefinedMetricWarning: Precision is ill-defined and being set to 0.0 due to no predicted samples. Use `zero_division` parameter to control this behavior.\n",
      "  _warn_prf(average, modifier, msg_start, len(result))\n",
      "\n"
     ]
    },
    {
     "name": "stdout",
     "output_type": "stream",
     "text": [
      " 60%|██████    | 15/25 [00:05<00:02,  4.26it/s, best loss: -0.6763434920785126]"
     ]
    },
    {
     "name": "stderr",
     "output_type": "stream",
     "text": [
      "//anaconda3/envs/capstone_nf/lib/python3.7/site-packages/sklearn/metrics/_classification.py:1268: UndefinedMetricWarning: Precision is ill-defined and being set to 0.0 due to no predicted samples. Use `zero_division` parameter to control this behavior.\n",
      "  _warn_prf(average, modifier, msg_start, len(result))\n",
      "\n"
     ]
    },
    {
     "name": "stdout",
     "output_type": "stream",
     "text": [
      " 76%|███████▌  | 19/25 [00:06<00:01,  3.16it/s, best loss: -0.6763434920785126]"
     ]
    },
    {
     "name": "stderr",
     "output_type": "stream",
     "text": [
      "//anaconda3/envs/capstone_nf/lib/python3.7/site-packages/sklearn/metrics/_classification.py:1268: UndefinedMetricWarning: Precision is ill-defined and being set to 0.0 due to no predicted samples. Use `zero_division` parameter to control this behavior.\n",
      "  _warn_prf(average, modifier, msg_start, len(result))\n",
      "\n"
     ]
    },
    {
     "name": "stdout",
     "output_type": "stream",
     "text": [
      "100%|██████████| 25/25 [00:08<00:00,  2.98it/s, best loss: -0.6763434920785126]"
     ]
    },
    {
     "name": "stderr",
     "output_type": "stream",
     "text": [
      "//anaconda3/envs/capstone_nf/lib/python3.7/site-packages/sklearn/metrics/_classification.py:1268: UndefinedMetricWarning: Precision is ill-defined and being set to 0.0 due to no predicted samples. Use `zero_division` parameter to control this behavior.\n",
      "  _warn_prf(average, modifier, msg_start, len(result))\n",
      "\n",
      "//anaconda3/envs/capstone_nf/lib/python3.7/site-packages/sklearn/metrics/_classification.py:1268: UndefinedMetricWarning: Precision is ill-defined and being set to 0.0 due to no predicted samples. Use `zero_division` parameter to control this behavior.\n",
      "  _warn_prf(average, modifier, msg_start, len(result))\n",
      "\n"
     ]
    },
    {
     "name": "stdout",
     "output_type": "stream",
     "text": [
      "\n",
      "##### Results #####\n",
      "Score best parameters:  -0.6763434920785126\n",
      "Best parameters:  {'C': 3.4492592265365194, 'cv': 'cv', 'gamma': 0.006414067356468067, 'max_samples': 0.9710316853310564, 'model': <class 'sklearn.svm._classes.SVC'>, 'normalize': 0, 'scale': 1}\n",
      "Test Score (accuracy):  0.5161839863713799\n",
      "Parameter combinations evaluated:  25\n",
      "Time elapsed:  8.516453266143799\n"
     ]
    }
   ],
   "source": [
    "model = SVC\n",
    "bsearch_svcd, clf_bsearch_svcd, params_bsearch_svcd = BayesianSearch(\n",
    "    search_space(model),\n",
    "    model,\n",
    "    X_train[symbol][features], \n",
    "    y_train[symbol][f'signal_{n2}'], \n",
    "    X_test[symbol][features],\n",
    "    y_test[symbol][f'signal_{n2}'],\n",
    "    num_eval=25,\n",
    "    scoring_metric='precision_score'\n",
    ")"
   ]
  },
  {
   "cell_type": "code",
   "execution_count": 106,
   "metadata": {},
   "outputs": [
    {
     "name": "stdout",
     "output_type": "stream",
     "text": [
      "Precision Score:  0.6018808777429467\n",
      "              precision    recall  f1-score   support\n",
      "\n",
      "           0       0.41      0.47      0.44       238\n",
      "           1       0.60      0.55      0.57       349\n",
      "\n",
      "    accuracy                           0.52       587\n",
      "   macro avg       0.51      0.51      0.51       587\n",
      "weighted avg       0.53      0.52      0.52       587\n",
      "\n"
     ]
    },
    {
     "data": {
      "text/plain": [
       "<sklearn.metrics._plot.confusion_matrix.ConfusionMatrixDisplay at 0x1a2a3c7810>"
      ]
     },
     "execution_count": 106,
     "metadata": {},
     "output_type": "execute_result"
    },
    {
     "data": {
      "image/png": "[encoded data removed]",
      "text/plain": [
       "<Figure size 432x288 with 2 Axes>"
      ]
     },
     "metadata": {
      "needs_background": "light"
     },
     "output_type": "display_data"
    }
   ],
   "source": [
    "y_pred_bsearch_svcd = clf_bsearch_svcd.predict(X_test[symbol][[f'{x}_{n1}' for x in ti_list]])\n",
    "print('Precision Score: ', precision_score(y_pred_bsearch_svcd, y_test[symbol][f'signal_{n2}']))\n",
    "print(classification_report(y_pred_bsearch_svcd, y_test[symbol][f'signal_{n2}']))\n",
    "plot_confusion_matrix(\n",
    "    clf_bsearch_svcd,\n",
    "    X_test[symbol][[f'{x}_{n1}' for x in ti_list]], y_test[symbol][f'signal_{n2}'],\n",
    ")"
   ]
  },
  {
   "cell_type": "code",
   "execution_count": 107,
   "metadata": {},
   "outputs": [
    {
     "data": {
      "text/html": [
       "<div>\n",
       "<style scoped>\n",
       "    .dataframe tbody tr th:only-of-type {\n",
       "        vertical-align: middle;\n",
       "    }\n",
       "\n",
       "    .dataframe tbody tr th {\n",
       "        vertical-align: top;\n",
       "    }\n",
       "\n",
       "    .dataframe thead th {\n",
       "        text-align: right;\n",
       "    }\n",
       "</style>\n",
       "<table border=\"1\" class=\"dataframe\">\n",
       "  <thead>\n",
       "    <tr style=\"text-align: right;\">\n",
       "      <th></th>\n",
       "      <th>Close</th>\n",
       "      <th>Signal_Strat</th>\n",
       "      <th>Cum_Returns_Strat</th>\n",
       "      <th>Cum_Returns_BH</th>\n",
       "    </tr>\n",
       "    <tr>\n",
       "      <th>Epoch</th>\n",
       "      <th></th>\n",
       "      <th></th>\n",
       "      <th></th>\n",
       "      <th></th>\n",
       "    </tr>\n",
       "  </thead>\n",
       "  <tbody>\n",
       "    <tr>\n",
       "      <th>2017-07-11 00:00:00+00:00</th>\n",
       "      <td>NaN</td>\n",
       "      <td>1</td>\n",
       "      <td>NaN</td>\n",
       "      <td>NaN</td>\n",
       "    </tr>\n",
       "    <tr>\n",
       "      <th>2017-07-12 00:00:00+00:00</th>\n",
       "      <td>0.006284</td>\n",
       "      <td>1</td>\n",
       "      <td>0.006284</td>\n",
       "      <td>0.006284</td>\n",
       "    </tr>\n",
       "    <tr>\n",
       "      <th>2017-07-13 00:00:00+00:00</th>\n",
       "      <td>-0.016834</td>\n",
       "      <td>1</td>\n",
       "      <td>-0.010550</td>\n",
       "      <td>-0.010550</td>\n",
       "    </tr>\n",
       "    <tr>\n",
       "      <th>2017-07-14 00:00:00+00:00</th>\n",
       "      <td>0.002486</td>\n",
       "      <td>1</td>\n",
       "      <td>-0.008064</td>\n",
       "      <td>-0.008064</td>\n",
       "    </tr>\n",
       "    <tr>\n",
       "      <th>2017-07-17 00:00:00+00:00</th>\n",
       "      <td>0.002479</td>\n",
       "      <td>1</td>\n",
       "      <td>-0.005585</td>\n",
       "      <td>-0.005585</td>\n",
       "    </tr>\n",
       "    <tr>\n",
       "      <th>...</th>\n",
       "      <td>...</td>\n",
       "      <td>...</td>\n",
       "      <td>...</td>\n",
       "      <td>...</td>\n",
       "    </tr>\n",
       "    <tr>\n",
       "      <th>2019-10-31 00:00:00+00:00</th>\n",
       "      <td>0.007592</td>\n",
       "      <td>0</td>\n",
       "      <td>-0.226185</td>\n",
       "      <td>0.105152</td>\n",
       "    </tr>\n",
       "    <tr>\n",
       "      <th>2019-11-01 00:00:00+00:00</th>\n",
       "      <td>0.011951</td>\n",
       "      <td>0</td>\n",
       "      <td>-0.226185</td>\n",
       "      <td>0.117103</td>\n",
       "    </tr>\n",
       "    <tr>\n",
       "      <th>2019-11-04 00:00:00+00:00</th>\n",
       "      <td>-0.001540</td>\n",
       "      <td>1</td>\n",
       "      <td>-0.227726</td>\n",
       "      <td>0.115563</td>\n",
       "    </tr>\n",
       "    <tr>\n",
       "      <th>2019-11-05 00:00:00+00:00</th>\n",
       "      <td>0.007200</td>\n",
       "      <td>0</td>\n",
       "      <td>-0.227726</td>\n",
       "      <td>0.122763</td>\n",
       "    </tr>\n",
       "    <tr>\n",
       "      <th>2019-11-06 00:00:00+00:00</th>\n",
       "      <td>0.002042</td>\n",
       "      <td>0</td>\n",
       "      <td>-0.227726</td>\n",
       "      <td>0.124805</td>\n",
       "    </tr>\n",
       "  </tbody>\n",
       "</table>\n",
       "<p>587 rows × 4 columns</p>\n",
       "</div>"
      ],
      "text/plain": [
       "                              Close  Signal_Strat  Cum_Returns_Strat  \\\n",
       "Epoch                                                                  \n",
       "2017-07-11 00:00:00+00:00       NaN             1                NaN   \n",
       "2017-07-12 00:00:00+00:00  0.006284             1           0.006284   \n",
       "2017-07-13 00:00:00+00:00 -0.016834             1          -0.010550   \n",
       "2017-07-14 00:00:00+00:00  0.002486             1          -0.008064   \n",
       "2017-07-17 00:00:00+00:00  0.002479             1          -0.005585   \n",
       "...                             ...           ...                ...   \n",
       "2019-10-31 00:00:00+00:00  0.007592             0          -0.226185   \n",
       "2019-11-01 00:00:00+00:00  0.011951             0          -0.226185   \n",
       "2019-11-04 00:00:00+00:00 -0.001540             1          -0.227726   \n",
       "2019-11-05 00:00:00+00:00  0.007200             0          -0.227726   \n",
       "2019-11-06 00:00:00+00:00  0.002042             0          -0.227726   \n",
       "\n",
       "                           Cum_Returns_BH  \n",
       "Epoch                                      \n",
       "2017-07-11 00:00:00+00:00             NaN  \n",
       "2017-07-12 00:00:00+00:00        0.006284  \n",
       "2017-07-13 00:00:00+00:00       -0.010550  \n",
       "2017-07-14 00:00:00+00:00       -0.008064  \n",
       "2017-07-17 00:00:00+00:00       -0.005585  \n",
       "...                                   ...  \n",
       "2019-10-31 00:00:00+00:00        0.105152  \n",
       "2019-11-01 00:00:00+00:00        0.117103  \n",
       "2019-11-04 00:00:00+00:00        0.115563  \n",
       "2019-11-05 00:00:00+00:00        0.122763  \n",
       "2019-11-06 00:00:00+00:00        0.124805  \n",
       "\n",
       "[587 rows x 4 columns]"
      ]
     },
     "execution_count": 107,
     "metadata": {},
     "output_type": "execute_result"
    }
   ],
   "source": [
    "calc_returns(y_pred_bsearch_svcd, djia[symbol][test_size:])"
   ]
  },
  {
   "cell_type": "markdown",
   "metadata": {},
   "source": [
    "### SVC with all features"
   ]
  },
  {
   "cell_type": "code",
   "execution_count": 66,
   "metadata": {},
   "outputs": [],
   "source": [
    "# Accuracy as scoring metric"
   ]
  },
  {
   "cell_type": "code",
   "execution_count": null,
   "metadata": {},
   "outputs": [],
   "source": [
    "n1=15\n",
    "n2=15\n",
    "symbol='T'"
   ]
  },
  {
   "cell_type": "code",
   "execution_count": 117,
   "metadata": {},
   "outputs": [
    {
     "name": "stdout",
     "output_type": "stream",
     "text": [
      "100%|██████████| 25/25 [00:12<00:00,  1.96it/s, best loss: -0.6254545454545454]\n",
      "##### Results #####\n",
      "Score best parameters:  -0.6254545454545454\n",
      "Best parameters:  {'C': 100.6188765495306, 'cv': 'btscv', 'gamma': 0.0017162162885372926, 'max_samples': 0.6082593162614932, 'model': <class 'sklearn.svm._classes.SVC'>, 'normalize': 0, 'scale': 0}\n",
      "Test Score (accuracy):  0.5434412265758092\n",
      "Parameter combinations evaluated:  25\n",
      "Time elapsed:  13.125931024551392\n"
     ]
    }
   ],
   "source": [
    "model = SVC\n",
    "bsearch_svc1, clf_svc1, params_svc1 = BayesianSearch(\n",
    "    search_space(model),\n",
    "    model,\n",
    "    X_train[symbol][all_features], \n",
    "    y_train[symbol][f'signal_{n1}'], \n",
    "    X_test[symbol][all_features],\n",
    "    y_test[symbol][f'signal_{n1}'],\n",
    "    num_eval=25,\n",
    "    scoring_metric='accuracy_score'\n",
    ")"
   ]
  },
  {
   "cell_type": "code",
   "execution_count": 118,
   "metadata": {},
   "outputs": [
    {
     "name": "stdout",
     "output_type": "stream",
     "text": [
      "Accuracy Score:  0.5434412265758092\n",
      "              precision    recall  f1-score   support\n",
      "\n",
      "           0       0.00      0.00      0.00         0\n",
      "           1       1.00      0.54      0.70       587\n",
      "\n",
      "    accuracy                           0.54       587\n",
      "   macro avg       0.50      0.27      0.35       587\n",
      "weighted avg       1.00      0.54      0.70       587\n",
      "\n"
     ]
    },
    {
     "name": "stderr",
     "output_type": "stream",
     "text": [
      "//anaconda3/envs/capstone_nf/lib/python3.7/site-packages/sklearn/metrics/_classification.py:1268: UndefinedMetricWarning: Recall and F-score are ill-defined and being set to 0.0 in labels with no true samples. Use `zero_division` parameter to control this behavior.\n",
      "  _warn_prf(average, modifier, msg_start, len(result))\n"
     ]
    },
    {
     "data": {
      "text/plain": [
       "<sklearn.metrics._plot.confusion_matrix.ConfusionMatrixDisplay at 0x1a2b54b5d0>"
      ]
     },
     "execution_count": 118,
     "metadata": {},
     "output_type": "execute_result"
    },
    {
     "data": {
      "image/png": "[encoded data removed]",
      "text/plain": [
       "<Figure size 432x288 with 2 Axes>"
      ]
     },
     "metadata": {
      "needs_background": "light"
     },
     "output_type": "display_data"
    }
   ],
   "source": [
    "y_pred_svc1 = clf_svc1.predict(X_test[symbol][all_features])\n",
    "print('Accuracy Score: ', accuracy_score(y_pred_svc1, y_test[symbol][f'signal_{n1}']))\n",
    "print(classification_report(y_pred_svc1, y_test[symbol][f'signal_{n1}']))\n",
    "plot_confusion_matrix(\n",
    "    clf_svc1,\n",
    "    X_test[symbol][all_features],\n",
    "    y_test[symbol][f'signal_{n1}'],\n",
    ")\n",
    "\n"
   ]
  },
  {
   "cell_type": "code",
   "execution_count": 119,
   "metadata": {},
   "outputs": [
    {
     "data": {
      "text/html": [
       "<div>\n",
       "<style scoped>\n",
       "    .dataframe tbody tr th:only-of-type {\n",
       "        vertical-align: middle;\n",
       "    }\n",
       "\n",
       "    .dataframe tbody tr th {\n",
       "        vertical-align: top;\n",
       "    }\n",
       "\n",
       "    .dataframe thead th {\n",
       "        text-align: right;\n",
       "    }\n",
       "</style>\n",
       "<table border=\"1\" class=\"dataframe\">\n",
       "  <thead>\n",
       "    <tr style=\"text-align: right;\">\n",
       "      <th></th>\n",
       "      <th>Close</th>\n",
       "      <th>Signal_Strat</th>\n",
       "      <th>Cum_Returns_Strat</th>\n",
       "      <th>Cum_Returns_BH</th>\n",
       "    </tr>\n",
       "    <tr>\n",
       "      <th>Epoch</th>\n",
       "      <th></th>\n",
       "      <th></th>\n",
       "      <th></th>\n",
       "      <th></th>\n",
       "    </tr>\n",
       "  </thead>\n",
       "  <tbody>\n",
       "    <tr>\n",
       "      <th>2017-07-11 00:00:00+00:00</th>\n",
       "      <td>NaN</td>\n",
       "      <td>1</td>\n",
       "      <td>NaN</td>\n",
       "      <td>NaN</td>\n",
       "    </tr>\n",
       "    <tr>\n",
       "      <th>2017-07-12 00:00:00+00:00</th>\n",
       "      <td>0.006284</td>\n",
       "      <td>1</td>\n",
       "      <td>0.006284</td>\n",
       "      <td>0.006284</td>\n",
       "    </tr>\n",
       "    <tr>\n",
       "      <th>2017-07-13 00:00:00+00:00</th>\n",
       "      <td>-0.016834</td>\n",
       "      <td>1</td>\n",
       "      <td>-0.010550</td>\n",
       "      <td>-0.010550</td>\n",
       "    </tr>\n",
       "    <tr>\n",
       "      <th>2017-07-14 00:00:00+00:00</th>\n",
       "      <td>0.002486</td>\n",
       "      <td>1</td>\n",
       "      <td>-0.008064</td>\n",
       "      <td>-0.008064</td>\n",
       "    </tr>\n",
       "    <tr>\n",
       "      <th>2017-07-17 00:00:00+00:00</th>\n",
       "      <td>0.002479</td>\n",
       "      <td>1</td>\n",
       "      <td>-0.005585</td>\n",
       "      <td>-0.005585</td>\n",
       "    </tr>\n",
       "    <tr>\n",
       "      <th>...</th>\n",
       "      <td>...</td>\n",
       "      <td>...</td>\n",
       "      <td>...</td>\n",
       "      <td>...</td>\n",
       "    </tr>\n",
       "    <tr>\n",
       "      <th>2019-10-31 00:00:00+00:00</th>\n",
       "      <td>0.007592</td>\n",
       "      <td>1</td>\n",
       "      <td>0.105152</td>\n",
       "      <td>0.105152</td>\n",
       "    </tr>\n",
       "    <tr>\n",
       "      <th>2019-11-01 00:00:00+00:00</th>\n",
       "      <td>0.011951</td>\n",
       "      <td>1</td>\n",
       "      <td>0.117103</td>\n",
       "      <td>0.117103</td>\n",
       "    </tr>\n",
       "    <tr>\n",
       "      <th>2019-11-04 00:00:00+00:00</th>\n",
       "      <td>-0.001540</td>\n",
       "      <td>1</td>\n",
       "      <td>0.115563</td>\n",
       "      <td>0.115563</td>\n",
       "    </tr>\n",
       "    <tr>\n",
       "      <th>2019-11-05 00:00:00+00:00</th>\n",
       "      <td>0.007200</td>\n",
       "      <td>1</td>\n",
       "      <td>0.122763</td>\n",
       "      <td>0.122763</td>\n",
       "    </tr>\n",
       "    <tr>\n",
       "      <th>2019-11-06 00:00:00+00:00</th>\n",
       "      <td>0.002042</td>\n",
       "      <td>1</td>\n",
       "      <td>0.124805</td>\n",
       "      <td>0.124805</td>\n",
       "    </tr>\n",
       "  </tbody>\n",
       "</table>\n",
       "<p>587 rows × 4 columns</p>\n",
       "</div>"
      ],
      "text/plain": [
       "                              Close  Signal_Strat  Cum_Returns_Strat  \\\n",
       "Epoch                                                                  \n",
       "2017-07-11 00:00:00+00:00       NaN             1                NaN   \n",
       "2017-07-12 00:00:00+00:00  0.006284             1           0.006284   \n",
       "2017-07-13 00:00:00+00:00 -0.016834             1          -0.010550   \n",
       "2017-07-14 00:00:00+00:00  0.002486             1          -0.008064   \n",
       "2017-07-17 00:00:00+00:00  0.002479             1          -0.005585   \n",
       "...                             ...           ...                ...   \n",
       "2019-10-31 00:00:00+00:00  0.007592             1           0.105152   \n",
       "2019-11-01 00:00:00+00:00  0.011951             1           0.117103   \n",
       "2019-11-04 00:00:00+00:00 -0.001540             1           0.115563   \n",
       "2019-11-05 00:00:00+00:00  0.007200             1           0.122763   \n",
       "2019-11-06 00:00:00+00:00  0.002042             1           0.124805   \n",
       "\n",
       "                           Cum_Returns_BH  \n",
       "Epoch                                      \n",
       "2017-07-11 00:00:00+00:00             NaN  \n",
       "2017-07-12 00:00:00+00:00        0.006284  \n",
       "2017-07-13 00:00:00+00:00       -0.010550  \n",
       "2017-07-14 00:00:00+00:00       -0.008064  \n",
       "2017-07-17 00:00:00+00:00       -0.005585  \n",
       "...                                   ...  \n",
       "2019-10-31 00:00:00+00:00        0.105152  \n",
       "2019-11-01 00:00:00+00:00        0.117103  \n",
       "2019-11-04 00:00:00+00:00        0.115563  \n",
       "2019-11-05 00:00:00+00:00        0.122763  \n",
       "2019-11-06 00:00:00+00:00        0.124805  \n",
       "\n",
       "[587 rows x 4 columns]"
      ]
     },
     "execution_count": 119,
     "metadata": {},
     "output_type": "execute_result"
    }
   ],
   "source": [
    "calc_returns(y_pred_svc1, djia[symbol][test_size:])"
   ]
  },
  {
   "cell_type": "code",
   "execution_count": null,
   "metadata": {},
   "outputs": [],
   "source": [
    "# Recall as scoring metric"
   ]
  },
  {
   "cell_type": "code",
   "execution_count": 120,
   "metadata": {},
   "outputs": [
    {
     "name": "stdout",
     "output_type": "stream",
     "text": [
      "100%|██████████| 25/25 [01:38<00:00,  3.95s/it, best loss: -1.0]              \n",
      "##### Results #####\n",
      "Score best parameters:  -1.0\n",
      "Best parameters:  {'C': 2975.5898226175696, 'cv': 'tscv', 'gamma': 0.6167643636597652, 'max_samples': 0.780386845023115, 'model': <class 'sklearn.svm._classes.SVC'>, 'normalize': 0, 'scale': 1}\n",
      "Test Score (accuracy):  0.5434412265758092\n",
      "Parameter combinations evaluated:  25\n",
      "Time elapsed:  99.2365140914917\n"
     ]
    }
   ],
   "source": [
    "model = SVC\n",
    "bsearch_svc2, clf_svc2, params_svc2 = BayesianSearch(\n",
    "    search_space(model),\n",
    "    model,\n",
    "    X_train[symbol][all_features], \n",
    "    y_train[symbol][f'signal_{n1}'], \n",
    "    X_test[symbol][all_features],\n",
    "    y_test[symbol][f'signal_{n1}'],\n",
    "    num_eval=25,\n",
    "    scoring_metric='recall_score'\n",
    ")"
   ]
  },
  {
   "cell_type": "code",
   "execution_count": 123,
   "metadata": {},
   "outputs": [
    {
     "name": "stdout",
     "output_type": "stream",
     "text": [
      "Recall Score:  0.5434412265758092\n",
      "              precision    recall  f1-score   support\n",
      "\n",
      "           0       0.00      0.00      0.00         0\n",
      "           1       1.00      0.54      0.70       587\n",
      "\n",
      "    accuracy                           0.54       587\n",
      "   macro avg       0.50      0.27      0.35       587\n",
      "weighted avg       1.00      0.54      0.70       587\n",
      "\n"
     ]
    },
    {
     "name": "stderr",
     "output_type": "stream",
     "text": [
      "//anaconda3/envs/capstone_nf/lib/python3.7/site-packages/sklearn/metrics/_classification.py:1268: UndefinedMetricWarning: Recall and F-score are ill-defined and being set to 0.0 in labels with no true samples. Use `zero_division` parameter to control this behavior.\n",
      "  _warn_prf(average, modifier, msg_start, len(result))\n"
     ]
    },
    {
     "data": {
      "text/plain": [
       "<sklearn.metrics._plot.confusion_matrix.ConfusionMatrixDisplay at 0x1a2aa15690>"
      ]
     },
     "execution_count": 123,
     "metadata": {},
     "output_type": "execute_result"
    },
    {
     "data": {
      "image/png": "[encoded data removed]",
      "text/plain": [
       "<Figure size 432x288 with 2 Axes>"
      ]
     },
     "metadata": {
      "needs_background": "light"
     },
     "output_type": "display_data"
    }
   ],
   "source": [
    "y_pred_svc2 = clf_svc2.predict(X_test[symbol][all_features])\n",
    "print('Recall Score: ', recall_score(y_pred_svc2, y_test[symbol][f'signal_{n1}']))\n",
    "print(classification_report(y_pred_svc2, y_test[symbol][f'signal_{n1}']))\n",
    "plot_confusion_matrix(\n",
    "    clf_svc2, \n",
    "    X_test[symbol][all_features], y_test[symbol][f'signal_{n1}']\n",
    ")\n"
   ]
  },
  {
   "cell_type": "code",
   "execution_count": 124,
   "metadata": {},
   "outputs": [
    {
     "data": {
      "text/html": [
       "<div>\n",
       "<style scoped>\n",
       "    .dataframe tbody tr th:only-of-type {\n",
       "        vertical-align: middle;\n",
       "    }\n",
       "\n",
       "    .dataframe tbody tr th {\n",
       "        vertical-align: top;\n",
       "    }\n",
       "\n",
       "    .dataframe thead th {\n",
       "        text-align: right;\n",
       "    }\n",
       "</style>\n",
       "<table border=\"1\" class=\"dataframe\">\n",
       "  <thead>\n",
       "    <tr style=\"text-align: right;\">\n",
       "      <th></th>\n",
       "      <th>Close</th>\n",
       "      <th>Signal_Strat</th>\n",
       "      <th>Cum_Returns_Strat</th>\n",
       "      <th>Cum_Returns_BH</th>\n",
       "    </tr>\n",
       "    <tr>\n",
       "      <th>Epoch</th>\n",
       "      <th></th>\n",
       "      <th></th>\n",
       "      <th></th>\n",
       "      <th></th>\n",
       "    </tr>\n",
       "  </thead>\n",
       "  <tbody>\n",
       "    <tr>\n",
       "      <th>2017-07-11 00:00:00+00:00</th>\n",
       "      <td>NaN</td>\n",
       "      <td>1</td>\n",
       "      <td>NaN</td>\n",
       "      <td>NaN</td>\n",
       "    </tr>\n",
       "    <tr>\n",
       "      <th>2017-07-12 00:00:00+00:00</th>\n",
       "      <td>0.006284</td>\n",
       "      <td>1</td>\n",
       "      <td>0.006284</td>\n",
       "      <td>0.006284</td>\n",
       "    </tr>\n",
       "    <tr>\n",
       "      <th>2017-07-13 00:00:00+00:00</th>\n",
       "      <td>-0.016834</td>\n",
       "      <td>1</td>\n",
       "      <td>-0.010550</td>\n",
       "      <td>-0.010550</td>\n",
       "    </tr>\n",
       "    <tr>\n",
       "      <th>2017-07-14 00:00:00+00:00</th>\n",
       "      <td>0.002486</td>\n",
       "      <td>1</td>\n",
       "      <td>-0.008064</td>\n",
       "      <td>-0.008064</td>\n",
       "    </tr>\n",
       "    <tr>\n",
       "      <th>2017-07-17 00:00:00+00:00</th>\n",
       "      <td>0.002479</td>\n",
       "      <td>1</td>\n",
       "      <td>-0.005585</td>\n",
       "      <td>-0.005585</td>\n",
       "    </tr>\n",
       "    <tr>\n",
       "      <th>...</th>\n",
       "      <td>...</td>\n",
       "      <td>...</td>\n",
       "      <td>...</td>\n",
       "      <td>...</td>\n",
       "    </tr>\n",
       "    <tr>\n",
       "      <th>2019-10-31 00:00:00+00:00</th>\n",
       "      <td>0.007592</td>\n",
       "      <td>1</td>\n",
       "      <td>0.105152</td>\n",
       "      <td>0.105152</td>\n",
       "    </tr>\n",
       "    <tr>\n",
       "      <th>2019-11-01 00:00:00+00:00</th>\n",
       "      <td>0.011951</td>\n",
       "      <td>1</td>\n",
       "      <td>0.117103</td>\n",
       "      <td>0.117103</td>\n",
       "    </tr>\n",
       "    <tr>\n",
       "      <th>2019-11-04 00:00:00+00:00</th>\n",
       "      <td>-0.001540</td>\n",
       "      <td>1</td>\n",
       "      <td>0.115563</td>\n",
       "      <td>0.115563</td>\n",
       "    </tr>\n",
       "    <tr>\n",
       "      <th>2019-11-05 00:00:00+00:00</th>\n",
       "      <td>0.007200</td>\n",
       "      <td>1</td>\n",
       "      <td>0.122763</td>\n",
       "      <td>0.122763</td>\n",
       "    </tr>\n",
       "    <tr>\n",
       "      <th>2019-11-06 00:00:00+00:00</th>\n",
       "      <td>0.002042</td>\n",
       "      <td>1</td>\n",
       "      <td>0.124805</td>\n",
       "      <td>0.124805</td>\n",
       "    </tr>\n",
       "  </tbody>\n",
       "</table>\n",
       "<p>587 rows × 4 columns</p>\n",
       "</div>"
      ],
      "text/plain": [
       "                              Close  Signal_Strat  Cum_Returns_Strat  \\\n",
       "Epoch                                                                  \n",
       "2017-07-11 00:00:00+00:00       NaN             1                NaN   \n",
       "2017-07-12 00:00:00+00:00  0.006284             1           0.006284   \n",
       "2017-07-13 00:00:00+00:00 -0.016834             1          -0.010550   \n",
       "2017-07-14 00:00:00+00:00  0.002486             1          -0.008064   \n",
       "2017-07-17 00:00:00+00:00  0.002479             1          -0.005585   \n",
       "...                             ...           ...                ...   \n",
       "2019-10-31 00:00:00+00:00  0.007592             1           0.105152   \n",
       "2019-11-01 00:00:00+00:00  0.011951             1           0.117103   \n",
       "2019-11-04 00:00:00+00:00 -0.001540             1           0.115563   \n",
       "2019-11-05 00:00:00+00:00  0.007200             1           0.122763   \n",
       "2019-11-06 00:00:00+00:00  0.002042             1           0.124805   \n",
       "\n",
       "                           Cum_Returns_BH  \n",
       "Epoch                                      \n",
       "2017-07-11 00:00:00+00:00             NaN  \n",
       "2017-07-12 00:00:00+00:00        0.006284  \n",
       "2017-07-13 00:00:00+00:00       -0.010550  \n",
       "2017-07-14 00:00:00+00:00       -0.008064  \n",
       "2017-07-17 00:00:00+00:00       -0.005585  \n",
       "...                                   ...  \n",
       "2019-10-31 00:00:00+00:00        0.105152  \n",
       "2019-11-01 00:00:00+00:00        0.117103  \n",
       "2019-11-04 00:00:00+00:00        0.115563  \n",
       "2019-11-05 00:00:00+00:00        0.122763  \n",
       "2019-11-06 00:00:00+00:00        0.124805  \n",
       "\n",
       "[587 rows x 4 columns]"
      ]
     },
     "execution_count": 124,
     "metadata": {},
     "output_type": "execute_result"
    }
   ],
   "source": [
    "calc_returns(y_pred_svc2, djia[symbol][test_size:])"
   ]
  },
  {
   "cell_type": "code",
   "execution_count": null,
   "metadata": {},
   "outputs": [],
   "source": [
    "# f1_score as scoring metric"
   ]
  },
  {
   "cell_type": "code",
   "execution_count": 88,
   "metadata": {},
   "outputs": [
    {
     "name": "stdout",
     "output_type": "stream",
     "text": [
      "100%|██████████| 100/100 [01:39<00:00,  1.00it/s, best loss: -0.6290909090909091]\n",
      "##### Results #####\n",
      "Score best parameters:  -0.6290909090909091\n",
      "Best parameters:  {'C': 4.347303095840981, 'cv': 'btscv', 'gamma': 5.3535089549065505e-08, 'max_samples': 0.6171437284292799, 'model': <class 'sklearn.svm._classes.SVC'>, 'normalize': 0, 'scale': 0}\n",
      "Test Score (accuracy):  0.5434412265758092\n",
      "Parameter combinations evaluated:  100\n",
      "Time elapsed:  100.35282611846924\n"
     ]
    }
   ],
   "source": [
    "model = SVC\n",
    "bsearch_svc3, clf_svc3, params_svc3 = BayesianSearch(\n",
    "    search_space(model),\n",
    "    model,\n",
    "    X_train[symbol][all_features], \n",
    "    y_train[symbol][f'signal_{n1}'], \n",
    "    X_test[symbol][all_features],\n",
    "    y_test[symbol][f'signal_{n1}'],\n",
    "    num_eval=100,\n",
    "    scoring_metric='f1_score'\n",
    ")"
   ]
  },
  {
   "cell_type": "code",
   "execution_count": 90,
   "metadata": {},
   "outputs": [
    {
     "name": "stdout",
     "output_type": "stream",
     "text": [
      "F1 Score:  0.7041942604856511\n",
      "              precision    recall  f1-score   support\n",
      "\n",
      "           0       0.00      0.00      0.00         0\n",
      "           1       1.00      0.54      0.70       587\n",
      "\n",
      "    accuracy                           0.54       587\n",
      "   macro avg       0.50      0.27      0.35       587\n",
      "weighted avg       1.00      0.54      0.70       587\n",
      "\n"
     ]
    },
    {
     "name": "stderr",
     "output_type": "stream",
     "text": [
      "//anaconda3/envs/capstone_nf/lib/python3.7/site-packages/sklearn/metrics/_classification.py:1268: UndefinedMetricWarning: Recall and F-score are ill-defined and being set to 0.0 in labels with no true samples. Use `zero_division` parameter to control this behavior.\n",
      "  _warn_prf(average, modifier, msg_start, len(result))\n"
     ]
    },
    {
     "data": {
      "text/plain": [
       "<sklearn.metrics._plot.confusion_matrix.ConfusionMatrixDisplay at 0x1a28edf210>"
      ]
     },
     "execution_count": 90,
     "metadata": {},
     "output_type": "execute_result"
    },
    {
     "data": {
      "image/png": "[encoded data removed]",
      "text/plain": [
       "<Figure size 432x288 with 2 Axes>"
      ]
     },
     "metadata": {
      "needs_background": "light"
     },
     "output_type": "display_data"
    }
   ],
   "source": [
    "y_pred_svc3 = clf_svc3.predict(X_test[symbol][all_features])\n",
    "print('F1 Score: ', f1_score(y_pred_svc3, y_test[symbol][f'signal_{n1}']))\n",
    "print(classification_report(y_pred_svc3, y_test[symbol][f'signal_{n1}']))\n",
    "plot_confusion_matrix(\n",
    "    clf_svc3,\n",
    "    X_test[symbol][all_features],\n",
    "    y_test[symbol][f'signal_{n1}']\n",
    ")\n",
    "\n"
   ]
  },
  {
   "cell_type": "code",
   "execution_count": 91,
   "metadata": {},
   "outputs": [
    {
     "data": {
      "text/html": [
       "<div>\n",
       "<style scoped>\n",
       "    .dataframe tbody tr th:only-of-type {\n",
       "        vertical-align: middle;\n",
       "    }\n",
       "\n",
       "    .dataframe tbody tr th {\n",
       "        vertical-align: top;\n",
       "    }\n",
       "\n",
       "    .dataframe thead th {\n",
       "        text-align: right;\n",
       "    }\n",
       "</style>\n",
       "<table border=\"1\" class=\"dataframe\">\n",
       "  <thead>\n",
       "    <tr style=\"text-align: right;\">\n",
       "      <th></th>\n",
       "      <th>Close</th>\n",
       "      <th>Signal_Strat</th>\n",
       "      <th>Cum_Returns_Strat</th>\n",
       "      <th>Cum_Returns_BH</th>\n",
       "    </tr>\n",
       "    <tr>\n",
       "      <th>Epoch</th>\n",
       "      <th></th>\n",
       "      <th></th>\n",
       "      <th></th>\n",
       "      <th></th>\n",
       "    </tr>\n",
       "  </thead>\n",
       "  <tbody>\n",
       "    <tr>\n",
       "      <th>2017-07-11 00:00:00+00:00</th>\n",
       "      <td>NaN</td>\n",
       "      <td>1</td>\n",
       "      <td>NaN</td>\n",
       "      <td>NaN</td>\n",
       "    </tr>\n",
       "    <tr>\n",
       "      <th>2017-07-12 00:00:00+00:00</th>\n",
       "      <td>0.006284</td>\n",
       "      <td>1</td>\n",
       "      <td>0.006284</td>\n",
       "      <td>0.006284</td>\n",
       "    </tr>\n",
       "    <tr>\n",
       "      <th>2017-07-13 00:00:00+00:00</th>\n",
       "      <td>-0.016834</td>\n",
       "      <td>1</td>\n",
       "      <td>-0.010550</td>\n",
       "      <td>-0.010550</td>\n",
       "    </tr>\n",
       "    <tr>\n",
       "      <th>2017-07-14 00:00:00+00:00</th>\n",
       "      <td>0.002486</td>\n",
       "      <td>1</td>\n",
       "      <td>-0.008064</td>\n",
       "      <td>-0.008064</td>\n",
       "    </tr>\n",
       "    <tr>\n",
       "      <th>2017-07-17 00:00:00+00:00</th>\n",
       "      <td>0.002479</td>\n",
       "      <td>1</td>\n",
       "      <td>-0.005585</td>\n",
       "      <td>-0.005585</td>\n",
       "    </tr>\n",
       "    <tr>\n",
       "      <th>...</th>\n",
       "      <td>...</td>\n",
       "      <td>...</td>\n",
       "      <td>...</td>\n",
       "      <td>...</td>\n",
       "    </tr>\n",
       "    <tr>\n",
       "      <th>2019-10-31 00:00:00+00:00</th>\n",
       "      <td>0.007592</td>\n",
       "      <td>1</td>\n",
       "      <td>0.105152</td>\n",
       "      <td>0.105152</td>\n",
       "    </tr>\n",
       "    <tr>\n",
       "      <th>2019-11-01 00:00:00+00:00</th>\n",
       "      <td>0.011951</td>\n",
       "      <td>1</td>\n",
       "      <td>0.117103</td>\n",
       "      <td>0.117103</td>\n",
       "    </tr>\n",
       "    <tr>\n",
       "      <th>2019-11-04 00:00:00+00:00</th>\n",
       "      <td>-0.001540</td>\n",
       "      <td>1</td>\n",
       "      <td>0.115563</td>\n",
       "      <td>0.115563</td>\n",
       "    </tr>\n",
       "    <tr>\n",
       "      <th>2019-11-05 00:00:00+00:00</th>\n",
       "      <td>0.007200</td>\n",
       "      <td>1</td>\n",
       "      <td>0.122763</td>\n",
       "      <td>0.122763</td>\n",
       "    </tr>\n",
       "    <tr>\n",
       "      <th>2019-11-06 00:00:00+00:00</th>\n",
       "      <td>0.002042</td>\n",
       "      <td>1</td>\n",
       "      <td>0.124805</td>\n",
       "      <td>0.124805</td>\n",
       "    </tr>\n",
       "  </tbody>\n",
       "</table>\n",
       "<p>587 rows × 4 columns</p>\n",
       "</div>"
      ],
      "text/plain": [
       "                              Close  Signal_Strat  Cum_Returns_Strat  \\\n",
       "Epoch                                                                  \n",
       "2017-07-11 00:00:00+00:00       NaN             1                NaN   \n",
       "2017-07-12 00:00:00+00:00  0.006284             1           0.006284   \n",
       "2017-07-13 00:00:00+00:00 -0.016834             1          -0.010550   \n",
       "2017-07-14 00:00:00+00:00  0.002486             1          -0.008064   \n",
       "2017-07-17 00:00:00+00:00  0.002479             1          -0.005585   \n",
       "...                             ...           ...                ...   \n",
       "2019-10-31 00:00:00+00:00  0.007592             1           0.105152   \n",
       "2019-11-01 00:00:00+00:00  0.011951             1           0.117103   \n",
       "2019-11-04 00:00:00+00:00 -0.001540             1           0.115563   \n",
       "2019-11-05 00:00:00+00:00  0.007200             1           0.122763   \n",
       "2019-11-06 00:00:00+00:00  0.002042             1           0.124805   \n",
       "\n",
       "                           Cum_Returns_BH  \n",
       "Epoch                                      \n",
       "2017-07-11 00:00:00+00:00             NaN  \n",
       "2017-07-12 00:00:00+00:00        0.006284  \n",
       "2017-07-13 00:00:00+00:00       -0.010550  \n",
       "2017-07-14 00:00:00+00:00       -0.008064  \n",
       "2017-07-17 00:00:00+00:00       -0.005585  \n",
       "...                                   ...  \n",
       "2019-10-31 00:00:00+00:00        0.105152  \n",
       "2019-11-01 00:00:00+00:00        0.117103  \n",
       "2019-11-04 00:00:00+00:00        0.115563  \n",
       "2019-11-05 00:00:00+00:00        0.122763  \n",
       "2019-11-06 00:00:00+00:00        0.124805  \n",
       "\n",
       "[587 rows x 4 columns]"
      ]
     },
     "execution_count": 91,
     "metadata": {},
     "output_type": "execute_result"
    }
   ],
   "source": [
    "calc_returns(y_pred_svc3, djia[symbol][test_size:])"
   ]
  },
  {
   "cell_type": "code",
   "execution_count": null,
   "metadata": {},
   "outputs": [],
   "source": [
    "# precision_score as scoring metric"
   ]
  },
  {
   "cell_type": "code",
   "execution_count": 92,
   "metadata": {},
   "outputs": [
    {
     "name": "stdout",
     "output_type": "stream",
     "text": [
      "  1%|          | 1/100 [00:00<00:20,  4.87it/s, best loss: -0.24727272727272726]"
     ]
    },
    {
     "name": "stderr",
     "output_type": "stream",
     "text": [
      "//anaconda3/envs/capstone_nf/lib/python3.7/site-packages/sklearn/metrics/_classification.py:1268: UndefinedMetricWarning: Precision is ill-defined and being set to 0.0 due to no predicted samples. Use `zero_division` parameter to control this behavior.\n",
      "  _warn_prf(average, modifier, msg_start, len(result))\n",
      "\n",
      "//anaconda3/envs/capstone_nf/lib/python3.7/site-packages/sklearn/metrics/_classification.py:1268: UndefinedMetricWarning: Precision is ill-defined and being set to 0.0 due to no predicted samples. Use `zero_division` parameter to control this behavior.\n",
      "  _warn_prf(average, modifier, msg_start, len(result))\n",
      "\n",
      "//anaconda3/envs/capstone_nf/lib/python3.7/site-packages/sklearn/metrics/_classification.py:1268: UndefinedMetricWarning: Precision is ill-defined and being set to 0.0 due to no predicted samples. Use `zero_division` parameter to control this behavior.\n",
      "  _warn_prf(average, modifier, msg_start, len(result))\n",
      "\n"
     ]
    },
    {
     "name": "stdout",
     "output_type": "stream",
     "text": [
      "  2%|▏         | 2/100 [00:00<00:27,  3.54it/s, best loss: -0.6924682632585589] "
     ]
    },
    {
     "name": "stderr",
     "output_type": "stream",
     "text": [
      "//anaconda3/envs/capstone_nf/lib/python3.7/site-packages/sklearn/metrics/_classification.py:1268: UndefinedMetricWarning: Precision is ill-defined and being set to 0.0 due to no predicted samples. Use `zero_division` parameter to control this behavior.\n",
      "  _warn_prf(average, modifier, msg_start, len(result))\n",
      "\n"
     ]
    },
    {
     "name": "stdout",
     "output_type": "stream",
     "text": [
      "  3%|▎         | 3/100 [00:01<00:33,  2.92it/s, best loss: -0.6924682632585589]"
     ]
    },
    {
     "name": "stderr",
     "output_type": "stream",
     "text": [
      "//anaconda3/envs/capstone_nf/lib/python3.7/site-packages/sklearn/metrics/_classification.py:1268: UndefinedMetricWarning: Precision is ill-defined and being set to 0.0 due to no predicted samples. Use `zero_division` parameter to control this behavior.\n",
      "  _warn_prf(average, modifier, msg_start, len(result))\n",
      "\n"
     ]
    },
    {
     "name": "stdout",
     "output_type": "stream",
     "text": [
      "  4%|▍         | 4/100 [00:02<00:50,  1.90it/s, best loss: -0.6924682632585589]"
     ]
    },
    {
     "name": "stderr",
     "output_type": "stream",
     "text": [
      "//anaconda3/envs/capstone_nf/lib/python3.7/site-packages/sklearn/metrics/_classification.py:1268: UndefinedMetricWarning: Precision is ill-defined and being set to 0.0 due to no predicted samples. Use `zero_division` parameter to control this behavior.\n",
      "  _warn_prf(average, modifier, msg_start, len(result))\n",
      "\n",
      "//anaconda3/envs/capstone_nf/lib/python3.7/site-packages/sklearn/metrics/_classification.py:1268: UndefinedMetricWarning: Precision is ill-defined and being set to 0.0 due to no predicted samples. Use `zero_division` parameter to control this behavior.\n",
      "  _warn_prf(average, modifier, msg_start, len(result))\n",
      "\n"
     ]
    },
    {
     "name": "stdout",
     "output_type": "stream",
     "text": [
      "  5%|▌         | 5/100 [00:03<01:02,  1.52it/s, best loss: -0.6924682632585589]"
     ]
    },
    {
     "name": "stderr",
     "output_type": "stream",
     "text": [
      "//anaconda3/envs/capstone_nf/lib/python3.7/site-packages/sklearn/metrics/_classification.py:1268: UndefinedMetricWarning: Precision is ill-defined and being set to 0.0 due to no predicted samples. Use `zero_division` parameter to control this behavior.\n",
      "  _warn_prf(average, modifier, msg_start, len(result))\n",
      "\n",
      "//anaconda3/envs/capstone_nf/lib/python3.7/site-packages/sklearn/metrics/_classification.py:1268: UndefinedMetricWarning: Precision is ill-defined and being set to 0.0 due to no predicted samples. Use `zero_division` parameter to control this behavior.\n",
      "  _warn_prf(average, modifier, msg_start, len(result))\n",
      "\n"
     ]
    },
    {
     "name": "stdout",
     "output_type": "stream",
     "text": [
      "  6%|▌         | 6/100 [00:04<01:12,  1.30it/s, best loss: -0.6924682632585589]"
     ]
    },
    {
     "name": "stderr",
     "output_type": "stream",
     "text": [
      "//anaconda3/envs/capstone_nf/lib/python3.7/site-packages/sklearn/metrics/_classification.py:1268: UndefinedMetricWarning: Precision is ill-defined and being set to 0.0 due to no predicted samples. Use `zero_division` parameter to control this behavior.\n",
      "  _warn_prf(average, modifier, msg_start, len(result))\n",
      "\n"
     ]
    },
    {
     "name": "stdout",
     "output_type": "stream",
     "text": [
      "  8%|▊         | 8/100 [00:04<00:48,  1.90it/s, best loss: -0.6924682632585589]"
     ]
    },
    {
     "name": "stderr",
     "output_type": "stream",
     "text": [
      "//anaconda3/envs/capstone_nf/lib/python3.7/site-packages/sklearn/metrics/_classification.py:1268: UndefinedMetricWarning: Precision is ill-defined and being set to 0.0 due to no predicted samples. Use `zero_division` parameter to control this behavior.\n",
      "  _warn_prf(average, modifier, msg_start, len(result))\n",
      "\n",
      "//anaconda3/envs/capstone_nf/lib/python3.7/site-packages/sklearn/metrics/_classification.py:1268: UndefinedMetricWarning: Precision is ill-defined and being set to 0.0 due to no predicted samples. Use `zero_division` parameter to control this behavior.\n",
      "  _warn_prf(average, modifier, msg_start, len(result))\n",
      "\n"
     ]
    },
    {
     "name": "stdout",
     "output_type": "stream",
     "text": [
      " 10%|█         | 10/100 [00:05<00:48,  1.86it/s, best loss: -0.6924682632585589]"
     ]
    },
    {
     "name": "stderr",
     "output_type": "stream",
     "text": [
      "//anaconda3/envs/capstone_nf/lib/python3.7/site-packages/sklearn/metrics/_classification.py:1268: UndefinedMetricWarning: Precision is ill-defined and being set to 0.0 due to no predicted samples. Use `zero_division` parameter to control this behavior.\n",
      "  _warn_prf(average, modifier, msg_start, len(result))\n",
      "\n",
      "//anaconda3/envs/capstone_nf/lib/python3.7/site-packages/sklearn/metrics/_classification.py:1268: UndefinedMetricWarning: Precision is ill-defined and being set to 0.0 due to no predicted samples. Use `zero_division` parameter to control this behavior.\n",
      "  _warn_prf(average, modifier, msg_start, len(result))\n",
      "\n"
     ]
    },
    {
     "name": "stdout",
     "output_type": "stream",
     "text": [
      " 11%|█         | 11/100 [00:06<00:46,  1.92it/s, best loss: -0.6924682632585589]"
     ]
    },
    {
     "name": "stderr",
     "output_type": "stream",
     "text": [
      "//anaconda3/envs/capstone_nf/lib/python3.7/site-packages/sklearn/metrics/_classification.py:1268: UndefinedMetricWarning: Precision is ill-defined and being set to 0.0 due to no predicted samples. Use `zero_division` parameter to control this behavior.\n",
      "  _warn_prf(average, modifier, msg_start, len(result))\n",
      "\n"
     ]
    },
    {
     "name": "stdout",
     "output_type": "stream",
     "text": [
      " 16%|█▌        | 16/100 [00:11<01:30,  1.08s/it, best loss: -0.6924682632585589]"
     ]
    },
    {
     "name": "stderr",
     "output_type": "stream",
     "text": [
      "//anaconda3/envs/capstone_nf/lib/python3.7/site-packages/sklearn/metrics/_classification.py:1268: UndefinedMetricWarning: Precision is ill-defined and being set to 0.0 due to no predicted samples. Use `zero_division` parameter to control this behavior.\n",
      "  _warn_prf(average, modifier, msg_start, len(result))\n",
      "\n",
      "//anaconda3/envs/capstone_nf/lib/python3.7/site-packages/sklearn/metrics/_classification.py:1268: UndefinedMetricWarning: Precision is ill-defined and being set to 0.0 due to no predicted samples. Use `zero_division` parameter to control this behavior.\n",
      "  _warn_prf(average, modifier, msg_start, len(result))\n",
      "\n"
     ]
    },
    {
     "name": "stdout",
     "output_type": "stream",
     "text": [
      " 19%|█▉        | 19/100 [01:10<24:14, 17.96s/it, best loss: -0.6924682632585589]"
     ]
    },
    {
     "name": "stderr",
     "output_type": "stream",
     "text": [
      "//anaconda3/envs/capstone_nf/lib/python3.7/site-packages/sklearn/metrics/_classification.py:1268: UndefinedMetricWarning: Precision is ill-defined and being set to 0.0 due to no predicted samples. Use `zero_division` parameter to control this behavior.\n",
      "  _warn_prf(average, modifier, msg_start, len(result))\n",
      "\n"
     ]
    },
    {
     "name": "stdout",
     "output_type": "stream",
     "text": [
      " 23%|██▎       | 23/100 [01:12<05:50,  4.56s/it, best loss: -0.6924682632585589]"
     ]
    },
    {
     "name": "stderr",
     "output_type": "stream",
     "text": [
      "//anaconda3/envs/capstone_nf/lib/python3.7/site-packages/sklearn/metrics/_classification.py:1268: UndefinedMetricWarning: Precision is ill-defined and being set to 0.0 due to no predicted samples. Use `zero_division` parameter to control this behavior.\n",
      "  _warn_prf(average, modifier, msg_start, len(result))\n",
      "\n"
     ]
    },
    {
     "name": "stdout",
     "output_type": "stream",
     "text": [
      " 26%|██▌       | 26/100 [01:12<02:07,  1.73s/it, best loss: -0.6924682632585589]"
     ]
    },
    {
     "name": "stderr",
     "output_type": "stream",
     "text": [
      "//anaconda3/envs/capstone_nf/lib/python3.7/site-packages/sklearn/metrics/_classification.py:1268: UndefinedMetricWarning: Precision is ill-defined and being set to 0.0 due to no predicted samples. Use `zero_division` parameter to control this behavior.\n",
      "  _warn_prf(average, modifier, msg_start, len(result))\n",
      "\n"
     ]
    },
    {
     "name": "stdout",
     "output_type": "stream",
     "text": [
      " 28%|██▊       | 28/100 [01:13<01:13,  1.02s/it, best loss: -0.6924682632585589]"
     ]
    },
    {
     "name": "stderr",
     "output_type": "stream",
     "text": [
      "//anaconda3/envs/capstone_nf/lib/python3.7/site-packages/sklearn/metrics/_classification.py:1268: UndefinedMetricWarning: Precision is ill-defined and being set to 0.0 due to no predicted samples. Use `zero_division` parameter to control this behavior.\n",
      "  _warn_prf(average, modifier, msg_start, len(result))\n",
      "\n"
     ]
    },
    {
     "name": "stdout",
     "output_type": "stream",
     "text": [
      " 30%|███       | 30/100 [01:14<00:50,  1.40it/s, best loss: -0.6924682632585589]"
     ]
    },
    {
     "name": "stderr",
     "output_type": "stream",
     "text": [
      "//anaconda3/envs/capstone_nf/lib/python3.7/site-packages/sklearn/metrics/_classification.py:1268: UndefinedMetricWarning: Precision is ill-defined and being set to 0.0 due to no predicted samples. Use `zero_division` parameter to control this behavior.\n",
      "  _warn_prf(average, modifier, msg_start, len(result))\n",
      "\n",
      "//anaconda3/envs/capstone_nf/lib/python3.7/site-packages/sklearn/metrics/_classification.py:1268: UndefinedMetricWarning: Precision is ill-defined and being set to 0.0 due to no predicted samples. Use `zero_division` parameter to control this behavior.\n",
      "  _warn_prf(average, modifier, msg_start, len(result))\n",
      "\n"
     ]
    },
    {
     "name": "stdout",
     "output_type": "stream",
     "text": [
      " 32%|███▏      | 32/100 [01:15<00:40,  1.67it/s, best loss: -0.7146813186813187]"
     ]
    },
    {
     "name": "stderr",
     "output_type": "stream",
     "text": [
      "//anaconda3/envs/capstone_nf/lib/python3.7/site-packages/sklearn/metrics/_classification.py:1268: UndefinedMetricWarning: Precision is ill-defined and being set to 0.0 due to no predicted samples. Use `zero_division` parameter to control this behavior.\n",
      "  _warn_prf(average, modifier, msg_start, len(result))\n",
      "\n"
     ]
    },
    {
     "name": "stdout",
     "output_type": "stream",
     "text": [
      " 34%|███▍      | 34/100 [01:16<00:37,  1.77it/s, best loss: -0.7146813186813187]"
     ]
    },
    {
     "name": "stderr",
     "output_type": "stream",
     "text": [
      "//anaconda3/envs/capstone_nf/lib/python3.7/site-packages/sklearn/metrics/_classification.py:1268: UndefinedMetricWarning: Precision is ill-defined and being set to 0.0 due to no predicted samples. Use `zero_division` parameter to control this behavior.\n",
      "  _warn_prf(average, modifier, msg_start, len(result))\n",
      "\n"
     ]
    },
    {
     "name": "stdout",
     "output_type": "stream",
     "text": [
      " 35%|███▌      | 35/100 [01:17<00:35,  1.84it/s, best loss: -0.7146813186813187]"
     ]
    },
    {
     "name": "stderr",
     "output_type": "stream",
     "text": [
      "//anaconda3/envs/capstone_nf/lib/python3.7/site-packages/sklearn/metrics/_classification.py:1268: UndefinedMetricWarning: Precision is ill-defined and being set to 0.0 due to no predicted samples. Use `zero_division` parameter to control this behavior.\n",
      "  _warn_prf(average, modifier, msg_start, len(result))\n",
      "\n",
      "//anaconda3/envs/capstone_nf/lib/python3.7/site-packages/sklearn/metrics/_classification.py:1268: UndefinedMetricWarning: Precision is ill-defined and being set to 0.0 due to no predicted samples. Use `zero_division` parameter to control this behavior.\n",
      "  _warn_prf(average, modifier, msg_start, len(result))\n",
      "\n"
     ]
    },
    {
     "name": "stdout",
     "output_type": "stream",
     "text": [
      " 38%|███▊      | 38/100 [01:19<00:47,  1.30it/s, best loss: -0.7146813186813187]"
     ]
    },
    {
     "name": "stderr",
     "output_type": "stream",
     "text": [
      "//anaconda3/envs/capstone_nf/lib/python3.7/site-packages/sklearn/metrics/_classification.py:1268: UndefinedMetricWarning: Precision is ill-defined and being set to 0.0 due to no predicted samples. Use `zero_division` parameter to control this behavior.\n",
      "  _warn_prf(average, modifier, msg_start, len(result))\n",
      "\n",
      "//anaconda3/envs/capstone_nf/lib/python3.7/site-packages/sklearn/metrics/_classification.py:1268: UndefinedMetricWarning: Precision is ill-defined and being set to 0.0 due to no predicted samples. Use `zero_division` parameter to control this behavior.\n",
      "  _warn_prf(average, modifier, msg_start, len(result))\n",
      "\n"
     ]
    },
    {
     "name": "stdout",
     "output_type": "stream",
     "text": [
      " 39%|███▉      | 39/100 [01:19<00:41,  1.47it/s, best loss: -0.7146813186813187]"
     ]
    },
    {
     "name": "stderr",
     "output_type": "stream",
     "text": [
      "//anaconda3/envs/capstone_nf/lib/python3.7/site-packages/sklearn/metrics/_classification.py:1268: UndefinedMetricWarning: Precision is ill-defined and being set to 0.0 due to no predicted samples. Use `zero_division` parameter to control this behavior.\n",
      "  _warn_prf(average, modifier, msg_start, len(result))\n",
      "\n"
     ]
    },
    {
     "name": "stdout",
     "output_type": "stream",
     "text": [
      " 41%|████      | 41/100 [01:20<00:34,  1.70it/s, best loss: -0.7146813186813187]"
     ]
    },
    {
     "name": "stderr",
     "output_type": "stream",
     "text": [
      "//anaconda3/envs/capstone_nf/lib/python3.7/site-packages/sklearn/metrics/_classification.py:1268: UndefinedMetricWarning: Precision is ill-defined and being set to 0.0 due to no predicted samples. Use `zero_division` parameter to control this behavior.\n",
      "  _warn_prf(average, modifier, msg_start, len(result))\n",
      "\n"
     ]
    },
    {
     "name": "stdout",
     "output_type": "stream",
     "text": [
      " 46%|████▌     | 46/100 [01:24<00:37,  1.46it/s, best loss: -0.7146813186813187]"
     ]
    },
    {
     "name": "stderr",
     "output_type": "stream",
     "text": [
      "//anaconda3/envs/capstone_nf/lib/python3.7/site-packages/sklearn/metrics/_classification.py:1268: UndefinedMetricWarning: Precision is ill-defined and being set to 0.0 due to no predicted samples. Use `zero_division` parameter to control this behavior.\n",
      "  _warn_prf(average, modifier, msg_start, len(result))\n",
      "\n"
     ]
    },
    {
     "name": "stdout",
     "output_type": "stream",
     "text": [
      " 51%|█████     | 51/100 [01:31<00:42,  1.15it/s, best loss: -0.7146813186813187]"
     ]
    },
    {
     "name": "stderr",
     "output_type": "stream",
     "text": [
      "//anaconda3/envs/capstone_nf/lib/python3.7/site-packages/sklearn/metrics/_classification.py:1268: UndefinedMetricWarning: Precision is ill-defined and being set to 0.0 due to no predicted samples. Use `zero_division` parameter to control this behavior.\n",
      "  _warn_prf(average, modifier, msg_start, len(result))\n",
      "\n",
      "//anaconda3/envs/capstone_nf/lib/python3.7/site-packages/sklearn/metrics/_classification.py:1268: UndefinedMetricWarning: Precision is ill-defined and being set to 0.0 due to no predicted samples. Use `zero_division` parameter to control this behavior.\n",
      "  _warn_prf(average, modifier, msg_start, len(result))\n",
      "\n",
      "//anaconda3/envs/capstone_nf/lib/python3.7/site-packages/sklearn/metrics/_classification.py:1268: UndefinedMetricWarning: Precision is ill-defined and being set to 0.0 due to no predicted samples. Use `zero_division` parameter to control this behavior.\n",
      "  _warn_prf(average, modifier, msg_start, len(result))\n",
      "\n"
     ]
    },
    {
     "name": "stdout",
     "output_type": "stream",
     "text": [
      " 53%|█████▎    | 53/100 [01:33<00:40,  1.17it/s, best loss: -0.7146813186813187]"
     ]
    },
    {
     "name": "stderr",
     "output_type": "stream",
     "text": [
      "//anaconda3/envs/capstone_nf/lib/python3.7/site-packages/sklearn/metrics/_classification.py:1268: UndefinedMetricWarning: Precision is ill-defined and being set to 0.0 due to no predicted samples. Use `zero_division` parameter to control this behavior.\n",
      "  _warn_prf(average, modifier, msg_start, len(result))\n",
      "\n"
     ]
    },
    {
     "name": "stdout",
     "output_type": "stream",
     "text": [
      " 54%|█████▍    | 54/100 [01:33<00:34,  1.35it/s, best loss: -0.7146813186813187]"
     ]
    },
    {
     "name": "stderr",
     "output_type": "stream",
     "text": [
      "//anaconda3/envs/capstone_nf/lib/python3.7/site-packages/sklearn/metrics/_classification.py:1268: UndefinedMetricWarning: Precision is ill-defined and being set to 0.0 due to no predicted samples. Use `zero_division` parameter to control this behavior.\n",
      "  _warn_prf(average, modifier, msg_start, len(result))\n",
      "\n",
      "//anaconda3/envs/capstone_nf/lib/python3.7/site-packages/sklearn/metrics/_classification.py:1268: UndefinedMetricWarning: Precision is ill-defined and being set to 0.0 due to no predicted samples. Use `zero_division` parameter to control this behavior.\n",
      "  _warn_prf(average, modifier, msg_start, len(result))\n",
      "\n"
     ]
    },
    {
     "name": "stdout",
     "output_type": "stream",
     "text": [
      " 58%|█████▊    | 58/100 [01:36<00:26,  1.57it/s, best loss: -0.7146813186813187]"
     ]
    },
    {
     "name": "stderr",
     "output_type": "stream",
     "text": [
      "//anaconda3/envs/capstone_nf/lib/python3.7/site-packages/sklearn/metrics/_classification.py:1268: UndefinedMetricWarning: Precision is ill-defined and being set to 0.0 due to no predicted samples. Use `zero_division` parameter to control this behavior.\n",
      "  _warn_prf(average, modifier, msg_start, len(result))\n",
      "\n"
     ]
    },
    {
     "name": "stdout",
     "output_type": "stream",
     "text": [
      " 62%|██████▏   | 62/100 [01:37<00:19,  1.97it/s, best loss: -0.7146813186813187]"
     ]
    },
    {
     "name": "stderr",
     "output_type": "stream",
     "text": [
      "//anaconda3/envs/capstone_nf/lib/python3.7/site-packages/sklearn/metrics/_classification.py:1268: UndefinedMetricWarning: Precision is ill-defined and being set to 0.0 due to no predicted samples. Use `zero_division` parameter to control this behavior.\n",
      "  _warn_prf(average, modifier, msg_start, len(result))\n",
      "\n"
     ]
    },
    {
     "name": "stdout",
     "output_type": "stream",
     "text": [
      " 63%|██████▎   | 63/100 [01:38<00:18,  2.01it/s, best loss: -0.7146813186813187]"
     ]
    },
    {
     "name": "stderr",
     "output_type": "stream",
     "text": [
      "//anaconda3/envs/capstone_nf/lib/python3.7/site-packages/sklearn/metrics/_classification.py:1268: UndefinedMetricWarning: Precision is ill-defined and being set to 0.0 due to no predicted samples. Use `zero_division` parameter to control this behavior.\n",
      "  _warn_prf(average, modifier, msg_start, len(result))\n",
      "\n"
     ]
    },
    {
     "name": "stdout",
     "output_type": "stream",
     "text": [
      " 64%|██████▍   | 64/100 [01:38<00:17,  2.02it/s, best loss: -0.7146813186813187]"
     ]
    },
    {
     "name": "stderr",
     "output_type": "stream",
     "text": [
      "//anaconda3/envs/capstone_nf/lib/python3.7/site-packages/sklearn/metrics/_classification.py:1268: UndefinedMetricWarning: Precision is ill-defined and being set to 0.0 due to no predicted samples. Use `zero_division` parameter to control this behavior.\n",
      "  _warn_prf(average, modifier, msg_start, len(result))\n",
      "\n",
      "//anaconda3/envs/capstone_nf/lib/python3.7/site-packages/sklearn/metrics/_classification.py:1268: UndefinedMetricWarning: Precision is ill-defined and being set to 0.0 due to no predicted samples. Use `zero_division` parameter to control this behavior.\n",
      "  _warn_prf(average, modifier, msg_start, len(result))\n",
      "\n"
     ]
    },
    {
     "name": "stdout",
     "output_type": "stream",
     "text": [
      " 70%|███████   | 70/100 [01:41<00:14,  2.12it/s, best loss: -0.7146813186813187]"
     ]
    },
    {
     "name": "stderr",
     "output_type": "stream",
     "text": [
      "//anaconda3/envs/capstone_nf/lib/python3.7/site-packages/sklearn/metrics/_classification.py:1268: UndefinedMetricWarning: Precision is ill-defined and being set to 0.0 due to no predicted samples. Use `zero_division` parameter to control this behavior.\n",
      "  _warn_prf(average, modifier, msg_start, len(result))\n",
      "\n"
     ]
    },
    {
     "name": "stdout",
     "output_type": "stream",
     "text": [
      " 72%|███████▏  | 72/100 [01:42<00:12,  2.30it/s, best loss: -0.7146813186813187]"
     ]
    },
    {
     "name": "stderr",
     "output_type": "stream",
     "text": [
      "//anaconda3/envs/capstone_nf/lib/python3.7/site-packages/sklearn/metrics/_classification.py:1268: UndefinedMetricWarning: Precision is ill-defined and being set to 0.0 due to no predicted samples. Use `zero_division` parameter to control this behavior.\n",
      "  _warn_prf(average, modifier, msg_start, len(result))\n",
      "\n"
     ]
    },
    {
     "name": "stdout",
     "output_type": "stream",
     "text": [
      " 74%|███████▍  | 74/100 [01:44<00:15,  1.68it/s, best loss: -0.7146813186813187]"
     ]
    },
    {
     "name": "stderr",
     "output_type": "stream",
     "text": [
      "//anaconda3/envs/capstone_nf/lib/python3.7/site-packages/sklearn/metrics/_classification.py:1268: UndefinedMetricWarning: Precision is ill-defined and being set to 0.0 due to no predicted samples. Use `zero_division` parameter to control this behavior.\n",
      "  _warn_prf(average, modifier, msg_start, len(result))\n",
      "\n"
     ]
    },
    {
     "name": "stdout",
     "output_type": "stream",
     "text": [
      " 76%|███████▌  | 76/100 [01:44<00:10,  2.18it/s, best loss: -0.7146813186813187]"
     ]
    },
    {
     "name": "stderr",
     "output_type": "stream",
     "text": [
      "//anaconda3/envs/capstone_nf/lib/python3.7/site-packages/sklearn/metrics/_classification.py:1268: UndefinedMetricWarning: Precision is ill-defined and being set to 0.0 due to no predicted samples. Use `zero_division` parameter to control this behavior.\n",
      "  _warn_prf(average, modifier, msg_start, len(result))\n",
      "\n"
     ]
    },
    {
     "name": "stdout",
     "output_type": "stream",
     "text": [
      " 77%|███████▋  | 77/100 [01:45<00:10,  2.17it/s, best loss: -0.7146813186813187]"
     ]
    },
    {
     "name": "stderr",
     "output_type": "stream",
     "text": [
      "//anaconda3/envs/capstone_nf/lib/python3.7/site-packages/sklearn/metrics/_classification.py:1268: UndefinedMetricWarning: Precision is ill-defined and being set to 0.0 due to no predicted samples. Use `zero_division` parameter to control this behavior.\n",
      "  _warn_prf(average, modifier, msg_start, len(result))\n",
      "\n"
     ]
    },
    {
     "name": "stdout",
     "output_type": "stream",
     "text": [
      " 80%|████████  | 80/100 [01:47<00:13,  1.52it/s, best loss: -0.7146813186813187]"
     ]
    },
    {
     "name": "stderr",
     "output_type": "stream",
     "text": [
      "//anaconda3/envs/capstone_nf/lib/python3.7/site-packages/sklearn/metrics/_classification.py:1268: UndefinedMetricWarning: Precision is ill-defined and being set to 0.0 due to no predicted samples. Use `zero_division` parameter to control this behavior.\n",
      "  _warn_prf(average, modifier, msg_start, len(result))\n",
      "\n"
     ]
    },
    {
     "name": "stdout",
     "output_type": "stream",
     "text": [
      " 82%|████████▏ | 82/100 [01:49<00:12,  1.48it/s, best loss: -0.7146813186813187]"
     ]
    },
    {
     "name": "stderr",
     "output_type": "stream",
     "text": [
      "//anaconda3/envs/capstone_nf/lib/python3.7/site-packages/sklearn/metrics/_classification.py:1268: UndefinedMetricWarning: Precision is ill-defined and being set to 0.0 due to no predicted samples. Use `zero_division` parameter to control this behavior.\n",
      "  _warn_prf(average, modifier, msg_start, len(result))\n",
      "\n",
      "//anaconda3/envs/capstone_nf/lib/python3.7/site-packages/sklearn/metrics/_classification.py:1268: UndefinedMetricWarning: Precision is ill-defined and being set to 0.0 due to no predicted samples. Use `zero_division` parameter to control this behavior.\n",
      "  _warn_prf(average, modifier, msg_start, len(result))\n",
      "\n"
     ]
    },
    {
     "name": "stdout",
     "output_type": "stream",
     "text": [
      " 84%|████████▍ | 84/100 [01:50<00:10,  1.46it/s, best loss: -0.7146813186813187]"
     ]
    },
    {
     "name": "stderr",
     "output_type": "stream",
     "text": [
      "//anaconda3/envs/capstone_nf/lib/python3.7/site-packages/sklearn/metrics/_classification.py:1268: UndefinedMetricWarning: Precision is ill-defined and being set to 0.0 due to no predicted samples. Use `zero_division` parameter to control this behavior.\n",
      "  _warn_prf(average, modifier, msg_start, len(result))\n",
      "\n"
     ]
    },
    {
     "name": "stdout",
     "output_type": "stream",
     "text": [
      " 85%|████████▌ | 85/100 [01:51<00:08,  1.67it/s, best loss: -0.7146813186813187]"
     ]
    },
    {
     "name": "stderr",
     "output_type": "stream",
     "text": [
      "//anaconda3/envs/capstone_nf/lib/python3.7/site-packages/sklearn/metrics/_classification.py:1268: UndefinedMetricWarning: Precision is ill-defined and being set to 0.0 due to no predicted samples. Use `zero_division` parameter to control this behavior.\n",
      "  _warn_prf(average, modifier, msg_start, len(result))\n",
      "\n",
      "//anaconda3/envs/capstone_nf/lib/python3.7/site-packages/sklearn/metrics/_classification.py:1268: UndefinedMetricWarning: Precision is ill-defined and being set to 0.0 due to no predicted samples. Use `zero_division` parameter to control this behavior.\n",
      "  _warn_prf(average, modifier, msg_start, len(result))\n",
      "\n",
      "//anaconda3/envs/capstone_nf/lib/python3.7/site-packages/sklearn/metrics/_classification.py:1268: UndefinedMetricWarning: Precision is ill-defined and being set to 0.0 due to no predicted samples. Use `zero_division` parameter to control this behavior.\n",
      "  _warn_prf(average, modifier, msg_start, len(result))\n",
      "\n",
      "//anaconda3/envs/capstone_nf/lib/python3.7/site-packages/sklearn/metrics/_classification.py:1268: UndefinedMetricWarning: Precision is ill-defined and being set to 0.0 due to no predicted samples. Use `zero_division` parameter to control this behavior.\n",
      "  _warn_prf(average, modifier, msg_start, len(result))\n",
      "\n"
     ]
    },
    {
     "name": "stdout",
     "output_type": "stream",
     "text": [
      " 86%|████████▌ | 86/100 [01:51<00:07,  1.75it/s, best loss: -0.7146813186813187]"
     ]
    },
    {
     "name": "stderr",
     "output_type": "stream",
     "text": [
      "//anaconda3/envs/capstone_nf/lib/python3.7/site-packages/sklearn/metrics/_classification.py:1268: UndefinedMetricWarning: Precision is ill-defined and being set to 0.0 due to no predicted samples. Use `zero_division` parameter to control this behavior.\n",
      "  _warn_prf(average, modifier, msg_start, len(result))\n",
      "\n",
      "//anaconda3/envs/capstone_nf/lib/python3.7/site-packages/sklearn/metrics/_classification.py:1268: UndefinedMetricWarning: Precision is ill-defined and being set to 0.0 due to no predicted samples. Use `zero_division` parameter to control this behavior.\n",
      "  _warn_prf(average, modifier, msg_start, len(result))\n",
      "\n"
     ]
    },
    {
     "name": "stdout",
     "output_type": "stream",
     "text": [
      " 87%|████████▋ | 87/100 [01:51<00:05,  2.19it/s, best loss: -0.7146813186813187]"
     ]
    },
    {
     "name": "stderr",
     "output_type": "stream",
     "text": [
      "//anaconda3/envs/capstone_nf/lib/python3.7/site-packages/sklearn/metrics/_classification.py:1268: UndefinedMetricWarning: Precision is ill-defined and being set to 0.0 due to no predicted samples. Use `zero_division` parameter to control this behavior.\n",
      "  _warn_prf(average, modifier, msg_start, len(result))\n",
      "\n",
      "//anaconda3/envs/capstone_nf/lib/python3.7/site-packages/sklearn/metrics/_classification.py:1268: UndefinedMetricWarning: Precision is ill-defined and being set to 0.0 due to no predicted samples. Use `zero_division` parameter to control this behavior.\n",
      "  _warn_prf(average, modifier, msg_start, len(result))\n",
      "\n",
      "//anaconda3/envs/capstone_nf/lib/python3.7/site-packages/sklearn/metrics/_classification.py:1268: UndefinedMetricWarning: Precision is ill-defined and being set to 0.0 due to no predicted samples. Use `zero_division` parameter to control this behavior.\n",
      "  _warn_prf(average, modifier, msg_start, len(result))\n",
      "\n"
     ]
    },
    {
     "name": "stdout",
     "output_type": "stream",
     "text": [
      " 90%|█████████ | 90/100 [01:56<00:09,  1.03it/s, best loss: -0.7146813186813187]"
     ]
    },
    {
     "name": "stderr",
     "output_type": "stream",
     "text": [
      "//anaconda3/envs/capstone_nf/lib/python3.7/site-packages/sklearn/metrics/_classification.py:1268: UndefinedMetricWarning: Precision is ill-defined and being set to 0.0 due to no predicted samples. Use `zero_division` parameter to control this behavior.\n",
      "  _warn_prf(average, modifier, msg_start, len(result))\n",
      "\n",
      "//anaconda3/envs/capstone_nf/lib/python3.7/site-packages/sklearn/metrics/_classification.py:1268: UndefinedMetricWarning: Precision is ill-defined and being set to 0.0 due to no predicted samples. Use `zero_division` parameter to control this behavior.\n",
      "  _warn_prf(average, modifier, msg_start, len(result))\n",
      "\n"
     ]
    },
    {
     "name": "stdout",
     "output_type": "stream",
     "text": [
      " 91%|█████████ | 91/100 [01:57<00:07,  1.19it/s, best loss: -0.7146813186813187]"
     ]
    },
    {
     "name": "stderr",
     "output_type": "stream",
     "text": [
      "//anaconda3/envs/capstone_nf/lib/python3.7/site-packages/sklearn/metrics/_classification.py:1268: UndefinedMetricWarning: Precision is ill-defined and being set to 0.0 due to no predicted samples. Use `zero_division` parameter to control this behavior.\n",
      "  _warn_prf(average, modifier, msg_start, len(result))\n",
      "\n"
     ]
    },
    {
     "name": "stdout",
     "output_type": "stream",
     "text": [
      " 94%|█████████▍| 94/100 [01:58<00:03,  1.65it/s, best loss: -0.7146813186813187]"
     ]
    },
    {
     "name": "stderr",
     "output_type": "stream",
     "text": [
      "//anaconda3/envs/capstone_nf/lib/python3.7/site-packages/sklearn/metrics/_classification.py:1268: UndefinedMetricWarning: Precision is ill-defined and being set to 0.0 due to no predicted samples. Use `zero_division` parameter to control this behavior.\n",
      "  _warn_prf(average, modifier, msg_start, len(result))\n",
      "\n"
     ]
    },
    {
     "name": "stdout",
     "output_type": "stream",
     "text": [
      " 96%|█████████▌| 96/100 [02:00<00:02,  1.47it/s, best loss: -0.7146813186813187]"
     ]
    },
    {
     "name": "stderr",
     "output_type": "stream",
     "text": [
      "//anaconda3/envs/capstone_nf/lib/python3.7/site-packages/sklearn/metrics/_classification.py:1268: UndefinedMetricWarning: Precision is ill-defined and being set to 0.0 due to no predicted samples. Use `zero_division` parameter to control this behavior.\n",
      "  _warn_prf(average, modifier, msg_start, len(result))\n",
      "\n"
     ]
    },
    {
     "name": "stdout",
     "output_type": "stream",
     "text": [
      " 97%|█████████▋| 97/100 [02:00<00:01,  1.61it/s, best loss: -0.7146813186813187]"
     ]
    },
    {
     "name": "stderr",
     "output_type": "stream",
     "text": [
      "//anaconda3/envs/capstone_nf/lib/python3.7/site-packages/sklearn/metrics/_classification.py:1268: UndefinedMetricWarning: Precision is ill-defined and being set to 0.0 due to no predicted samples. Use `zero_division` parameter to control this behavior.\n",
      "  _warn_prf(average, modifier, msg_start, len(result))\n",
      "\n"
     ]
    },
    {
     "name": "stdout",
     "output_type": "stream",
     "text": [
      " 99%|█████████▉| 99/100 [02:01<00:00,  2.14it/s, best loss: -0.7146813186813187]"
     ]
    },
    {
     "name": "stderr",
     "output_type": "stream",
     "text": [
      "//anaconda3/envs/capstone_nf/lib/python3.7/site-packages/sklearn/metrics/_classification.py:1268: UndefinedMetricWarning: Precision is ill-defined and being set to 0.0 due to no predicted samples. Use `zero_division` parameter to control this behavior.\n",
      "  _warn_prf(average, modifier, msg_start, len(result))\n",
      "\n",
      "//anaconda3/envs/capstone_nf/lib/python3.7/site-packages/sklearn/metrics/_classification.py:1268: UndefinedMetricWarning: Precision is ill-defined and being set to 0.0 due to no predicted samples. Use `zero_division` parameter to control this behavior.\n",
      "  _warn_prf(average, modifier, msg_start, len(result))\n",
      "\n"
     ]
    },
    {
     "name": "stdout",
     "output_type": "stream",
     "text": [
      "100%|██████████| 100/100 [02:01<00:00,  1.22s/it, best loss: -0.7929195804195804]\n",
      "##### Results #####\n",
      "Score best parameters:  -0.7929195804195804\n",
      "Best parameters:  {'C': 100.23256909691997, 'cv': 'tscv', 'gamma': 3.503852760179584e-05, 'max_samples': 0.8407965706183376, 'model': <class 'sklearn.svm._classes.SVC'>, 'normalize': 1, 'scale': 0}\n",
      "Test Score (accuracy):  0.5366269165247018\n",
      "Parameter combinations evaluated:  100\n",
      "Time elapsed:  122.10973715782166\n"
     ]
    }
   ],
   "source": [
    "model = SVC\n",
    "bsearch_svc4, clf_svc4, params_svc4 = BayesianSearch(\n",
    "    search_space(model),\n",
    "    model,\n",
    "    X_train[symbol][all_features], \n",
    "    y_train[symbol][f'signal_{n1}'], \n",
    "    X_test[symbol][all_features],\n",
    "    y_test[symbol][f'signal_{n1}'],\n",
    "    num_eval=100,\n",
    "    scoring_metric='precision_score'\n",
    ")"
   ]
  },
  {
   "cell_type": "code",
   "execution_count": 97,
   "metadata": {},
   "outputs": [
    {
     "name": "stdout",
     "output_type": "stream",
     "text": [
      "Precision Score:  0.5424982530220307\n",
      "              precision    recall  f1-score   support\n",
      "\n",
      "           0       0.45      0.49      0.47       246\n",
      "           1       0.61      0.57      0.59       341\n",
      "\n",
      "    accuracy                           0.54       587\n",
      "   macro avg       0.53      0.53      0.53       587\n",
      "weighted avg       0.54      0.54      0.54       587\n",
      "\n"
     ]
    },
    {
     "data": {
      "text/plain": [
       "<sklearn.metrics._plot.confusion_matrix.ConfusionMatrixDisplay at 0x1a2a66d510>"
      ]
     },
     "execution_count": 97,
     "metadata": {},
     "output_type": "execute_result"
    },
    {
     "data": {
      "image/png": "[encoded data removed]",
      "text/plain": [
       "<Figure size 432x288 with 2 Axes>"
      ]
     },
     "metadata": {
      "needs_background": "light"
     },
     "output_type": "display_data"
    }
   ],
   "source": [
    "y_pred_svc4 = clf_svc4.predict(X_test[symbol][all_features])\n",
    "print('Precision Score: ', precision_score(y_pred_svc4, y_test[symbol][f'signal_{n1}'], average='weighted'))\n",
    "print(classification_report(y_pred_svc4, y_test[symbol][f'signal_{n1}']))\n",
    "plot_confusion_matrix(\n",
    "    clf_svc4,\n",
    "    X_test[symbol][all_features],\n",
    "    y_test[symbol][f'signal_{n1}']\n",
    ")\n"
   ]
  },
  {
   "cell_type": "code",
   "execution_count": 98,
   "metadata": {},
   "outputs": [
    {
     "data": {
      "text/html": [
       "<div>\n",
       "<style scoped>\n",
       "    .dataframe tbody tr th:only-of-type {\n",
       "        vertical-align: middle;\n",
       "    }\n",
       "\n",
       "    .dataframe tbody tr th {\n",
       "        vertical-align: top;\n",
       "    }\n",
       "\n",
       "    .dataframe thead th {\n",
       "        text-align: right;\n",
       "    }\n",
       "</style>\n",
       "<table border=\"1\" class=\"dataframe\">\n",
       "  <thead>\n",
       "    <tr style=\"text-align: right;\">\n",
       "      <th></th>\n",
       "      <th>Close</th>\n",
       "      <th>Signal_Strat</th>\n",
       "      <th>Cum_Returns_Strat</th>\n",
       "      <th>Cum_Returns_BH</th>\n",
       "    </tr>\n",
       "    <tr>\n",
       "      <th>Epoch</th>\n",
       "      <th></th>\n",
       "      <th></th>\n",
       "      <th></th>\n",
       "      <th></th>\n",
       "    </tr>\n",
       "  </thead>\n",
       "  <tbody>\n",
       "    <tr>\n",
       "      <th>2017-07-11 00:00:00+00:00</th>\n",
       "      <td>NaN</td>\n",
       "      <td>1</td>\n",
       "      <td>NaN</td>\n",
       "      <td>NaN</td>\n",
       "    </tr>\n",
       "    <tr>\n",
       "      <th>2017-07-12 00:00:00+00:00</th>\n",
       "      <td>0.006284</td>\n",
       "      <td>1</td>\n",
       "      <td>0.006284</td>\n",
       "      <td>0.006284</td>\n",
       "    </tr>\n",
       "    <tr>\n",
       "      <th>2017-07-13 00:00:00+00:00</th>\n",
       "      <td>-0.016834</td>\n",
       "      <td>1</td>\n",
       "      <td>-0.010550</td>\n",
       "      <td>-0.010550</td>\n",
       "    </tr>\n",
       "    <tr>\n",
       "      <th>2017-07-14 00:00:00+00:00</th>\n",
       "      <td>0.002486</td>\n",
       "      <td>1</td>\n",
       "      <td>-0.008064</td>\n",
       "      <td>-0.008064</td>\n",
       "    </tr>\n",
       "    <tr>\n",
       "      <th>2017-07-17 00:00:00+00:00</th>\n",
       "      <td>0.002479</td>\n",
       "      <td>1</td>\n",
       "      <td>-0.005585</td>\n",
       "      <td>-0.005585</td>\n",
       "    </tr>\n",
       "    <tr>\n",
       "      <th>...</th>\n",
       "      <td>...</td>\n",
       "      <td>...</td>\n",
       "      <td>...</td>\n",
       "      <td>...</td>\n",
       "    </tr>\n",
       "    <tr>\n",
       "      <th>2019-10-31 00:00:00+00:00</th>\n",
       "      <td>0.007592</td>\n",
       "      <td>1</td>\n",
       "      <td>0.105152</td>\n",
       "      <td>0.105152</td>\n",
       "    </tr>\n",
       "    <tr>\n",
       "      <th>2019-11-01 00:00:00+00:00</th>\n",
       "      <td>0.011951</td>\n",
       "      <td>1</td>\n",
       "      <td>0.117103</td>\n",
       "      <td>0.117103</td>\n",
       "    </tr>\n",
       "    <tr>\n",
       "      <th>2019-11-04 00:00:00+00:00</th>\n",
       "      <td>-0.001540</td>\n",
       "      <td>1</td>\n",
       "      <td>0.115563</td>\n",
       "      <td>0.115563</td>\n",
       "    </tr>\n",
       "    <tr>\n",
       "      <th>2019-11-05 00:00:00+00:00</th>\n",
       "      <td>0.007200</td>\n",
       "      <td>1</td>\n",
       "      <td>0.122763</td>\n",
       "      <td>0.122763</td>\n",
       "    </tr>\n",
       "    <tr>\n",
       "      <th>2019-11-06 00:00:00+00:00</th>\n",
       "      <td>0.002042</td>\n",
       "      <td>1</td>\n",
       "      <td>0.124805</td>\n",
       "      <td>0.124805</td>\n",
       "    </tr>\n",
       "  </tbody>\n",
       "</table>\n",
       "<p>587 rows × 4 columns</p>\n",
       "</div>"
      ],
      "text/plain": [
       "                              Close  Signal_Strat  Cum_Returns_Strat  \\\n",
       "Epoch                                                                  \n",
       "2017-07-11 00:00:00+00:00       NaN             1                NaN   \n",
       "2017-07-12 00:00:00+00:00  0.006284             1           0.006284   \n",
       "2017-07-13 00:00:00+00:00 -0.016834             1          -0.010550   \n",
       "2017-07-14 00:00:00+00:00  0.002486             1          -0.008064   \n",
       "2017-07-17 00:00:00+00:00  0.002479             1          -0.005585   \n",
       "...                             ...           ...                ...   \n",
       "2019-10-31 00:00:00+00:00  0.007592             1           0.105152   \n",
       "2019-11-01 00:00:00+00:00  0.011951             1           0.117103   \n",
       "2019-11-04 00:00:00+00:00 -0.001540             1           0.115563   \n",
       "2019-11-05 00:00:00+00:00  0.007200             1           0.122763   \n",
       "2019-11-06 00:00:00+00:00  0.002042             1           0.124805   \n",
       "\n",
       "                           Cum_Returns_BH  \n",
       "Epoch                                      \n",
       "2017-07-11 00:00:00+00:00             NaN  \n",
       "2017-07-12 00:00:00+00:00        0.006284  \n",
       "2017-07-13 00:00:00+00:00       -0.010550  \n",
       "2017-07-14 00:00:00+00:00       -0.008064  \n",
       "2017-07-17 00:00:00+00:00       -0.005585  \n",
       "...                                   ...  \n",
       "2019-10-31 00:00:00+00:00        0.105152  \n",
       "2019-11-01 00:00:00+00:00        0.117103  \n",
       "2019-11-04 00:00:00+00:00        0.115563  \n",
       "2019-11-05 00:00:00+00:00        0.122763  \n",
       "2019-11-06 00:00:00+00:00        0.124805  \n",
       "\n",
       "[587 rows x 4 columns]"
      ]
     },
     "execution_count": 98,
     "metadata": {},
     "output_type": "execute_result"
    }
   ],
   "source": [
    "calc_returns(y_pred_svc4, djia[symbol][test_size:])"
   ]
  },
  {
   "cell_type": "markdown",
   "metadata": {},
   "source": [
    "## Running on all 50 stocks on best model"
   ]
  },
  {
   "cell_type": "code",
   "execution_count": null,
   "metadata": {},
   "outputs": [
    {
     "data": {
      "text/plain": [
       "'Leg [49/50]; Elapsed Time 2813.0s\\n'"
      ]
     },
     "metadata": {},
     "output_type": "display_data"
    },
    {
     "data": {
      "text/html": [
       "<style  type=\"text/css\" >\n",
       "    #T_7cdf58b8_3265_11ea_976d_f0189811b80erow0_col0 {\n",
       "            background-color:  #e7f6f9;\n",
       "            color:  #000000;\n",
       "        }    #T_7cdf58b8_3265_11ea_976d_f0189811b80erow0_col1 {\n",
       "            background-color:  #f7fcfd;\n",
       "            color:  #000000;\n",
       "        }    #T_7cdf58b8_3265_11ea_976d_f0189811b80erow0_col2 {\n",
       "            background-color:  #f7fcfd;\n",
       "            color:  #000000;\n",
       "        }    #T_7cdf58b8_3265_11ea_976d_f0189811b80erow0_col3 {\n",
       "            background-color:  #f7fcfd;\n",
       "            color:  #000000;\n",
       "        }    #T_7cdf58b8_3265_11ea_976d_f0189811b80erow0_col4 {\n",
       "            background-color:  #f7fcfd;\n",
       "            color:  #000000;\n",
       "        }    #T_7cdf58b8_3265_11ea_976d_f0189811b80erow0_col5 {\n",
       "            background-color:  #f7fcfd;\n",
       "            color:  #000000;\n",
       "        }    #T_7cdf58b8_3265_11ea_976d_f0189811b80erow0_col6 {\n",
       "            background-color:  #f7fcfd;\n",
       "            color:  #000000;\n",
       "        }    #T_7cdf58b8_3265_11ea_976d_f0189811b80erow0_col7 {\n",
       "            background-color:  #f7fcfd;\n",
       "            color:  #000000;\n",
       "        }    #T_7cdf58b8_3265_11ea_976d_f0189811b80erow1_col0 {\n",
       "            background-color:  #f7fcfd;\n",
       "            color:  #000000;\n",
       "        }    #T_7cdf58b8_3265_11ea_976d_f0189811b80erow1_col1 {\n",
       "            background-color:  #8ad2be;\n",
       "            color:  #000000;\n",
       "        }    #T_7cdf58b8_3265_11ea_976d_f0189811b80erow1_col2 {\n",
       "            background-color:  #d1eee9;\n",
       "            color:  #000000;\n",
       "        }    #T_7cdf58b8_3265_11ea_976d_f0189811b80erow1_col3 {\n",
       "            background-color:  #eff9fb;\n",
       "            color:  #000000;\n",
       "        }    #T_7cdf58b8_3265_11ea_976d_f0189811b80erow1_col4 {\n",
       "            background-color:  #def2f4;\n",
       "            color:  #000000;\n",
       "        }    #T_7cdf58b8_3265_11ea_976d_f0189811b80erow1_col5 {\n",
       "            background-color:  #c8ebe4;\n",
       "            color:  #000000;\n",
       "        }    #T_7cdf58b8_3265_11ea_976d_f0189811b80erow1_col6 {\n",
       "            background-color:  #e5f5f9;\n",
       "            color:  #000000;\n",
       "        }    #T_7cdf58b8_3265_11ea_976d_f0189811b80erow1_col7 {\n",
       "            background-color:  #f4fbfc;\n",
       "            color:  #000000;\n",
       "        }    #T_7cdf58b8_3265_11ea_976d_f0189811b80erow2_col0 {\n",
       "            background-color:  #edf8fb;\n",
       "            color:  #000000;\n",
       "        }    #T_7cdf58b8_3265_11ea_976d_f0189811b80erow2_col1 {\n",
       "            background-color:  #c8ebe4;\n",
       "            color:  #000000;\n",
       "        }    #T_7cdf58b8_3265_11ea_976d_f0189811b80erow2_col2 {\n",
       "            background-color:  #46b17c;\n",
       "            color:  #000000;\n",
       "        }    #T_7cdf58b8_3265_11ea_976d_f0189811b80erow2_col3 {\n",
       "            background-color:  #248c47;\n",
       "            color:  #000000;\n",
       "        }    #T_7cdf58b8_3265_11ea_976d_f0189811b80erow2_col4 {\n",
       "            background-color:  #5cbd98;\n",
       "            color:  #000000;\n",
       "        }    #T_7cdf58b8_3265_11ea_976d_f0189811b80erow2_col5 {\n",
       "            background-color:  #b0e1d6;\n",
       "            color:  #000000;\n",
       "        }    #T_7cdf58b8_3265_11ea_976d_f0189811b80erow2_col6 {\n",
       "            background-color:  #62c09f;\n",
       "            color:  #000000;\n",
       "        }    #T_7cdf58b8_3265_11ea_976d_f0189811b80erow2_col7 {\n",
       "            background-color:  #3aa66a;\n",
       "            color:  #000000;\n",
       "        }    #T_7cdf58b8_3265_11ea_976d_f0189811b80erow3_col0 {\n",
       "            background-color:  #e1f4f6;\n",
       "            color:  #000000;\n",
       "        }    #T_7cdf58b8_3265_11ea_976d_f0189811b80erow3_col1 {\n",
       "            background-color:  #57ba92;\n",
       "            color:  #000000;\n",
       "        }    #T_7cdf58b8_3265_11ea_976d_f0189811b80erow3_col2 {\n",
       "            background-color:  #77c9b0;\n",
       "            color:  #000000;\n",
       "        }    #T_7cdf58b8_3265_11ea_976d_f0189811b80erow3_col3 {\n",
       "            background-color:  #d8f0ef;\n",
       "            color:  #000000;\n",
       "        }    #T_7cdf58b8_3265_11ea_976d_f0189811b80erow3_col4 {\n",
       "            background-color:  #349f61;\n",
       "            color:  #000000;\n",
       "        }    #T_7cdf58b8_3265_11ea_976d_f0189811b80erow3_col5 {\n",
       "            background-color:  #5cbd98;\n",
       "            color:  #000000;\n",
       "        }    #T_7cdf58b8_3265_11ea_976d_f0189811b80erow3_col6 {\n",
       "            background-color:  #51b689;\n",
       "            color:  #000000;\n",
       "        }    #T_7cdf58b8_3265_11ea_976d_f0189811b80erow3_col7 {\n",
       "            background-color:  #1f8742;\n",
       "            color:  #000000;\n",
       "        }    #T_7cdf58b8_3265_11ea_976d_f0189811b80erow4_col0 {\n",
       "            background-color:  #a8ded2;\n",
       "            color:  #000000;\n",
       "        }    #T_7cdf58b8_3265_11ea_976d_f0189811b80erow4_col1 {\n",
       "            background-color:  #218944;\n",
       "            color:  #000000;\n",
       "        }    #T_7cdf58b8_3265_11ea_976d_f0189811b80erow4_col2 {\n",
       "            background-color:  #4fb688;\n",
       "            color:  #000000;\n",
       "        }    #T_7cdf58b8_3265_11ea_976d_f0189811b80erow4_col3 {\n",
       "            background-color:  #90d4c3;\n",
       "            color:  #000000;\n",
       "        }    #T_7cdf58b8_3265_11ea_976d_f0189811b80erow4_col4 {\n",
       "            background-color:  #268f4a;\n",
       "            color:  #000000;\n",
       "        }    #T_7cdf58b8_3265_11ea_976d_f0189811b80erow4_col5 {\n",
       "            background-color:  #67c2a5;\n",
       "            color:  #000000;\n",
       "        }    #T_7cdf58b8_3265_11ea_976d_f0189811b80erow4_col6 {\n",
       "            background-color:  #00441b;\n",
       "            color:  #f1f1f1;\n",
       "        }    #T_7cdf58b8_3265_11ea_976d_f0189811b80erow4_col7 {\n",
       "            background-color:  #41ae77;\n",
       "            color:  #000000;\n",
       "        }    #T_7cdf58b8_3265_11ea_976d_f0189811b80erow5_col0 {\n",
       "            background-color:  #339e60;\n",
       "            color:  #000000;\n",
       "        }    #T_7cdf58b8_3265_11ea_976d_f0189811b80erow5_col1 {\n",
       "            background-color:  #36a164;\n",
       "            color:  #000000;\n",
       "        }    #T_7cdf58b8_3265_11ea_976d_f0189811b80erow5_col2 {\n",
       "            background-color:  #005a24;\n",
       "            color:  #f1f1f1;\n",
       "        }    #T_7cdf58b8_3265_11ea_976d_f0189811b80erow5_col3 {\n",
       "            background-color:  #3eaa70;\n",
       "            color:  #000000;\n",
       "        }    #T_7cdf58b8_3265_11ea_976d_f0189811b80erow5_col4 {\n",
       "            background-color:  #006529;\n",
       "            color:  #f1f1f1;\n",
       "        }    #T_7cdf58b8_3265_11ea_976d_f0189811b80erow5_col5 {\n",
       "            background-color:  #00441b;\n",
       "            color:  #f1f1f1;\n",
       "        }    #T_7cdf58b8_3265_11ea_976d_f0189811b80erow5_col6 {\n",
       "            background-color:  #004a1e;\n",
       "            color:  #f1f1f1;\n",
       "        }    #T_7cdf58b8_3265_11ea_976d_f0189811b80erow5_col7 {\n",
       "            background-color:  #4db585;\n",
       "            color:  #000000;\n",
       "        }    #T_7cdf58b8_3265_11ea_976d_f0189811b80erow6_col0 {\n",
       "            background-color:  #0d7836;\n",
       "            color:  #f1f1f1;\n",
       "        }    #T_7cdf58b8_3265_11ea_976d_f0189811b80erow6_col1 {\n",
       "            background-color:  #077331;\n",
       "            color:  #f1f1f1;\n",
       "        }    #T_7cdf58b8_3265_11ea_976d_f0189811b80erow6_col2 {\n",
       "            background-color:  #016e2d;\n",
       "            color:  #f1f1f1;\n",
       "        }    #T_7cdf58b8_3265_11ea_976d_f0189811b80erow6_col3 {\n",
       "            background-color:  #3ba76c;\n",
       "            color:  #000000;\n",
       "        }    #T_7cdf58b8_3265_11ea_976d_f0189811b80erow6_col4 {\n",
       "            background-color:  #005c25;\n",
       "            color:  #f1f1f1;\n",
       "        }    #T_7cdf58b8_3265_11ea_976d_f0189811b80erow6_col5 {\n",
       "            background-color:  #2e9756;\n",
       "            color:  #000000;\n",
       "        }    #T_7cdf58b8_3265_11ea_976d_f0189811b80erow6_col6 {\n",
       "            background-color:  #238b45;\n",
       "            color:  #000000;\n",
       "        }    #T_7cdf58b8_3265_11ea_976d_f0189811b80erow6_col7 {\n",
       "            background-color:  #45b07b;\n",
       "            color:  #000000;\n",
       "        }    #T_7cdf58b8_3265_11ea_976d_f0189811b80erow7_col0 {\n",
       "            background-color:  #026f2e;\n",
       "            color:  #f1f1f1;\n",
       "        }    #T_7cdf58b8_3265_11ea_976d_f0189811b80erow7_col1 {\n",
       "            background-color:  #157f3b;\n",
       "            color:  #f1f1f1;\n",
       "        }    #T_7cdf58b8_3265_11ea_976d_f0189811b80erow7_col2 {\n",
       "            background-color:  #00491d;\n",
       "            color:  #f1f1f1;\n",
       "        }    #T_7cdf58b8_3265_11ea_976d_f0189811b80erow7_col3 {\n",
       "            background-color:  #004a1e;\n",
       "            color:  #f1f1f1;\n",
       "        }    #T_7cdf58b8_3265_11ea_976d_f0189811b80erow7_col4 {\n",
       "            background-color:  #026f2e;\n",
       "            color:  #f1f1f1;\n",
       "        }    #T_7cdf58b8_3265_11ea_976d_f0189811b80erow7_col5 {\n",
       "            background-color:  #60bf9c;\n",
       "            color:  #000000;\n",
       "        }    #T_7cdf58b8_3265_11ea_976d_f0189811b80erow7_col6 {\n",
       "            background-color:  #7ccbb4;\n",
       "            color:  #000000;\n",
       "        }    #T_7cdf58b8_3265_11ea_976d_f0189811b80erow7_col7 {\n",
       "            background-color:  #72c7ad;\n",
       "            color:  #000000;\n",
       "        }    #T_7cdf58b8_3265_11ea_976d_f0189811b80erow8_col0 {\n",
       "            background-color:  #00441b;\n",
       "            color:  #f1f1f1;\n",
       "        }    #T_7cdf58b8_3265_11ea_976d_f0189811b80erow8_col1 {\n",
       "            background-color:  #00441b;\n",
       "            color:  #f1f1f1;\n",
       "        }    #T_7cdf58b8_3265_11ea_976d_f0189811b80erow8_col2 {\n",
       "            background-color:  #00441b;\n",
       "            color:  #f1f1f1;\n",
       "        }    #T_7cdf58b8_3265_11ea_976d_f0189811b80erow8_col3 {\n",
       "            background-color:  #00441b;\n",
       "            color:  #f1f1f1;\n",
       "        }    #T_7cdf58b8_3265_11ea_976d_f0189811b80erow8_col4 {\n",
       "            background-color:  #00441b;\n",
       "            color:  #f1f1f1;\n",
       "        }    #T_7cdf58b8_3265_11ea_976d_f0189811b80erow8_col5 {\n",
       "            background-color:  #3aa66a;\n",
       "            color:  #000000;\n",
       "        }    #T_7cdf58b8_3265_11ea_976d_f0189811b80erow8_col6 {\n",
       "            background-color:  #005924;\n",
       "            color:  #f1f1f1;\n",
       "        }    #T_7cdf58b8_3265_11ea_976d_f0189811b80erow8_col7 {\n",
       "            background-color:  #00441b;\n",
       "            color:  #f1f1f1;\n",
       "        }</style><table id=\"T_7cdf58b8_3265_11ea_976d_f0189811b80e\" ><thead>    <tr>        <th class=\"blank level0\" ></th>        <th class=\"col_heading level0 col0\" >3</th>        <th class=\"col_heading level0 col1\" >5</th>        <th class=\"col_heading level0 col2\" >7</th>        <th class=\"col_heading level0 col3\" >10</th>        <th class=\"col_heading level0 col4\" >15</th>        <th class=\"col_heading level0 col5\" >20</th>        <th class=\"col_heading level0 col6\" >25</th>        <th class=\"col_heading level0 col7\" >30</th>    </tr></thead><tbody>\n",
       "                <tr>\n",
       "                        <th id=\"T_7cdf58b8_3265_11ea_976d_f0189811b80elevel0_row0\" class=\"row_heading level0 row0\" >1</th>\n",
       "                        <td id=\"T_7cdf58b8_3265_11ea_976d_f0189811b80erow0_col0\" class=\"data row0 col0\" >0.505093</td>\n",
       "                        <td id=\"T_7cdf58b8_3265_11ea_976d_f0189811b80erow0_col1\" class=\"data row0 col1\" >0.500817</td>\n",
       "                        <td id=\"T_7cdf58b8_3265_11ea_976d_f0189811b80erow0_col2\" class=\"data row0 col2\" >0.50106</td>\n",
       "                        <td id=\"T_7cdf58b8_3265_11ea_976d_f0189811b80erow0_col3\" class=\"data row0 col3\" >0.50193</td>\n",
       "                        <td id=\"T_7cdf58b8_3265_11ea_976d_f0189811b80erow0_col4\" class=\"data row0 col4\" >0.499392</td>\n",
       "                        <td id=\"T_7cdf58b8_3265_11ea_976d_f0189811b80erow0_col5\" class=\"data row0 col5\" >0.501617</td>\n",
       "                        <td id=\"T_7cdf58b8_3265_11ea_976d_f0189811b80erow0_col6\" class=\"data row0 col6\" >0.499809</td>\n",
       "                        <td id=\"T_7cdf58b8_3265_11ea_976d_f0189811b80erow0_col7\" class=\"data row0 col7\" >0.500921</td>\n",
       "            </tr>\n",
       "            <tr>\n",
       "                        <th id=\"T_7cdf58b8_3265_11ea_976d_f0189811b80elevel0_row1\" class=\"row_heading level0 row1\" >3</th>\n",
       "                        <td id=\"T_7cdf58b8_3265_11ea_976d_f0189811b80erow1_col0\" class=\"data row1 col0\" >0.503007</td>\n",
       "                        <td id=\"T_7cdf58b8_3265_11ea_976d_f0189811b80erow1_col1\" class=\"data row1 col1\" >0.507944</td>\n",
       "                        <td id=\"T_7cdf58b8_3265_11ea_976d_f0189811b80erow1_col2\" class=\"data row1 col2\" >0.504954</td>\n",
       "                        <td id=\"T_7cdf58b8_3265_11ea_976d_f0189811b80erow1_col3\" class=\"data row1 col3\" >0.502903</td>\n",
       "                        <td id=\"T_7cdf58b8_3265_11ea_976d_f0189811b80erow1_col4\" class=\"data row1 col4\" >0.50259</td>\n",
       "                        <td id=\"T_7cdf58b8_3265_11ea_976d_f0189811b80erow1_col5\" class=\"data row1 col5\" >0.507145</td>\n",
       "                        <td id=\"T_7cdf58b8_3265_11ea_976d_f0189811b80erow1_col6\" class=\"data row1 col6\" >0.50193</td>\n",
       "                        <td id=\"T_7cdf58b8_3265_11ea_976d_f0189811b80erow1_col7\" class=\"data row1 col7\" >0.501373</td>\n",
       "            </tr>\n",
       "            <tr>\n",
       "                        <th id=\"T_7cdf58b8_3265_11ea_976d_f0189811b80elevel0_row2\" class=\"row_heading level0 row2\" >5</th>\n",
       "                        <td id=\"T_7cdf58b8_3265_11ea_976d_f0189811b80erow2_col0\" class=\"data row2 col0\" >0.504363</td>\n",
       "                        <td id=\"T_7cdf58b8_3265_11ea_976d_f0189811b80erow2_col1\" class=\"data row2 col1\" >0.505302</td>\n",
       "                        <td id=\"T_7cdf58b8_3265_11ea_976d_f0189811b80erow2_col2\" class=\"data row2 col2\" >0.511421</td>\n",
       "                        <td id=\"T_7cdf58b8_3265_11ea_976d_f0189811b80erow2_col3\" class=\"data row2 col3\" >0.514411</td>\n",
       "                        <td id=\"T_7cdf58b8_3265_11ea_976d_f0189811b80erow2_col4\" class=\"data row2 col4\" >0.51003</td>\n",
       "                        <td id=\"T_7cdf58b8_3265_11ea_976d_f0189811b80erow2_col5\" class=\"data row2 col5\" >0.508396</td>\n",
       "                        <td id=\"T_7cdf58b8_3265_11ea_976d_f0189811b80erow2_col6\" class=\"data row2 col6\" >0.508779</td>\n",
       "                        <td id=\"T_7cdf58b8_3265_11ea_976d_f0189811b80erow2_col7\" class=\"data row2 col7\" >0.514376</td>\n",
       "            </tr>\n",
       "            <tr>\n",
       "                        <th id=\"T_7cdf58b8_3265_11ea_976d_f0189811b80elevel0_row3\" class=\"row_heading level0 row3\" >7</th>\n",
       "                        <td id=\"T_7cdf58b8_3265_11ea_976d_f0189811b80erow3_col0\" class=\"data row3 col0\" >0.505789</td>\n",
       "                        <td id=\"T_7cdf58b8_3265_11ea_976d_f0189811b80erow3_col1\" class=\"data row3 col1\" >0.510274</td>\n",
       "                        <td id=\"T_7cdf58b8_3265_11ea_976d_f0189811b80erow3_col2\" class=\"data row3 col2\" >0.508918</td>\n",
       "                        <td id=\"T_7cdf58b8_3265_11ea_976d_f0189811b80erow3_col3\" class=\"data row3 col3\" >0.505163</td>\n",
       "                        <td id=\"T_7cdf58b8_3265_11ea_976d_f0189811b80erow3_col4\" class=\"data row3 col4\" >0.512881</td>\n",
       "                        <td id=\"T_7cdf58b8_3265_11ea_976d_f0189811b80erow3_col5\" class=\"data row3 col5\" >0.512951</td>\n",
       "                        <td id=\"T_7cdf58b8_3265_11ea_976d_f0189811b80erow3_col6\" class=\"data row3 col6\" >0.509822</td>\n",
       "                        <td id=\"T_7cdf58b8_3265_11ea_976d_f0189811b80erow3_col7\" class=\"data row3 col7\" >0.516566</td>\n",
       "            </tr>\n",
       "            <tr>\n",
       "                        <th id=\"T_7cdf58b8_3265_11ea_976d_f0189811b80elevel0_row4\" class=\"row_heading level0 row4\" >10</th>\n",
       "                        <td id=\"T_7cdf58b8_3265_11ea_976d_f0189811b80erow4_col0\" class=\"data row4 col0\" >0.509404</td>\n",
       "                        <td id=\"T_7cdf58b8_3265_11ea_976d_f0189811b80erow4_col1\" class=\"data row4 col1\" >0.513855</td>\n",
       "                        <td id=\"T_7cdf58b8_3265_11ea_976d_f0189811b80erow4_col2\" class=\"data row4 col2\" >0.510934</td>\n",
       "                        <td id=\"T_7cdf58b8_3265_11ea_976d_f0189811b80erow4_col3\" class=\"data row4 col3\" >0.508605</td>\n",
       "                        <td id=\"T_7cdf58b8_3265_11ea_976d_f0189811b80erow4_col4\" class=\"data row4 col4\" >0.514063</td>\n",
       "                        <td id=\"T_7cdf58b8_3265_11ea_976d_f0189811b80erow4_col5\" class=\"data row4 col5\" >0.512221</td>\n",
       "                        <td id=\"T_7cdf58b8_3265_11ea_976d_f0189811b80erow4_col6\" class=\"data row4 col6\" >0.517262</td>\n",
       "                        <td id=\"T_7cdf58b8_3265_11ea_976d_f0189811b80erow4_col7\" class=\"data row4 col7\" >0.513716</td>\n",
       "            </tr>\n",
       "            <tr>\n",
       "                        <th id=\"T_7cdf58b8_3265_11ea_976d_f0189811b80elevel0_row5\" class=\"row_heading level0 row5\" >15</th>\n",
       "                        <td id=\"T_7cdf58b8_3265_11ea_976d_f0189811b80erow5_col0\" class=\"data row5 col0\" >0.515975</td>\n",
       "                        <td id=\"T_7cdf58b8_3265_11ea_976d_f0189811b80erow5_col1\" class=\"data row5 col1\" >0.51236</td>\n",
       "                        <td id=\"T_7cdf58b8_3265_11ea_976d_f0189811b80erow5_col2\" class=\"data row5 col2\" >0.516984</td>\n",
       "                        <td id=\"T_7cdf58b8_3265_11ea_976d_f0189811b80erow5_col3\" class=\"data row5 col3\" >0.512638</td>\n",
       "                        <td id=\"T_7cdf58b8_3265_11ea_976d_f0189811b80erow5_col4\" class=\"data row5 col4\" >0.517227</td>\n",
       "                        <td id=\"T_7cdf58b8_3265_11ea_976d_f0189811b80erow5_col5\" class=\"data row5 col5\" >0.522824</td>\n",
       "                        <td id=\"T_7cdf58b8_3265_11ea_976d_f0189811b80erow5_col6\" class=\"data row5 col6\" >0.516879</td>\n",
       "                        <td id=\"T_7cdf58b8_3265_11ea_976d_f0189811b80erow5_col7\" class=\"data row5 col7\" >0.512916</td>\n",
       "            </tr>\n",
       "            <tr>\n",
       "                        <th id=\"T_7cdf58b8_3265_11ea_976d_f0189811b80elevel0_row6\" class=\"row_heading level0 row6\" >20</th>\n",
       "                        <td id=\"T_7cdf58b8_3265_11ea_976d_f0189811b80erow6_col0\" class=\"data row6 col0\" >0.518722</td>\n",
       "                        <td id=\"T_7cdf58b8_3265_11ea_976d_f0189811b80erow6_col1\" class=\"data row6 col1\" >0.515523</td>\n",
       "                        <td id=\"T_7cdf58b8_3265_11ea_976d_f0189811b80erow6_col2\" class=\"data row6 col2\" >0.515941</td>\n",
       "                        <td id=\"T_7cdf58b8_3265_11ea_976d_f0189811b80erow6_col3\" class=\"data row6 col3\" >0.512846</td>\n",
       "                        <td id=\"T_7cdf58b8_3265_11ea_976d_f0189811b80erow6_col4\" class=\"data row6 col4\" >0.517748</td>\n",
       "                        <td id=\"T_7cdf58b8_3265_11ea_976d_f0189811b80erow6_col5\" class=\"data row6 col5\" >0.516532</td>\n",
       "                        <td id=\"T_7cdf58b8_3265_11ea_976d_f0189811b80erow6_col6\" class=\"data row6 col6\" >0.512881</td>\n",
       "                        <td id=\"T_7cdf58b8_3265_11ea_976d_f0189811b80erow6_col7\" class=\"data row6 col7\" >0.513437</td>\n",
       "            </tr>\n",
       "            <tr>\n",
       "                        <th id=\"T_7cdf58b8_3265_11ea_976d_f0189811b80elevel0_row7\" class=\"row_heading level0 row7\" >25</th>\n",
       "                        <td id=\"T_7cdf58b8_3265_11ea_976d_f0189811b80erow7_col0\" class=\"data row7 col0\" >0.519452</td>\n",
       "                        <td id=\"T_7cdf58b8_3265_11ea_976d_f0189811b80erow7_col1\" class=\"data row7 col1\" >0.514619</td>\n",
       "                        <td id=\"T_7cdf58b8_3265_11ea_976d_f0189811b80erow7_col2\" class=\"data row7 col2\" >0.517888</td>\n",
       "                        <td id=\"T_7cdf58b8_3265_11ea_976d_f0189811b80erow7_col3\" class=\"data row7 col3\" >0.518374</td>\n",
       "                        <td id=\"T_7cdf58b8_3265_11ea_976d_f0189811b80erow7_col4\" class=\"data row7 col4\" >0.516601</td>\n",
       "                        <td id=\"T_7cdf58b8_3265_11ea_976d_f0189811b80erow7_col5\" class=\"data row7 col5\" >0.512707</td>\n",
       "                        <td id=\"T_7cdf58b8_3265_11ea_976d_f0189811b80erow7_col6\" class=\"data row7 col6\" >0.507631</td>\n",
       "                        <td id=\"T_7cdf58b8_3265_11ea_976d_f0189811b80erow7_col7\" class=\"data row7 col7\" >0.510552</td>\n",
       "            </tr>\n",
       "            <tr>\n",
       "                        <th id=\"T_7cdf58b8_3265_11ea_976d_f0189811b80elevel0_row8\" class=\"row_heading level0 row8\" >30</th>\n",
       "                        <td id=\"T_7cdf58b8_3265_11ea_976d_f0189811b80erow8_col0\" class=\"data row8 col0\" >0.522025</td>\n",
       "                        <td id=\"T_7cdf58b8_3265_11ea_976d_f0189811b80erow8_col1\" class=\"data row8 col1\" >0.518096</td>\n",
       "                        <td id=\"T_7cdf58b8_3265_11ea_976d_f0189811b80erow8_col2\" class=\"data row8 col2\" >0.518166</td>\n",
       "                        <td id=\"T_7cdf58b8_3265_11ea_976d_f0189811b80erow8_col3\" class=\"data row8 col3\" >0.518722</td>\n",
       "                        <td id=\"T_7cdf58b8_3265_11ea_976d_f0189811b80erow8_col4\" class=\"data row8 col4\" >0.519278</td>\n",
       "                        <td id=\"T_7cdf58b8_3265_11ea_976d_f0189811b80erow8_col5\" class=\"data row8 col5\" >0.515489</td>\n",
       "                        <td id=\"T_7cdf58b8_3265_11ea_976d_f0189811b80erow8_col6\" class=\"data row8 col6\" >0.516149</td>\n",
       "                        <td id=\"T_7cdf58b8_3265_11ea_976d_f0189811b80erow8_col7\" class=\"data row8 col7\" >0.521434</td>\n",
       "            </tr>\n",
       "    </tbody></table>"
      ],
      "text/plain": [
       "<pandas.io.formats.style.Styler at 0x1a2d8a6410>"
      ]
     },
     "metadata": {},
     "output_type": "display_data"
    }
   ],
   "source": [
    "#best_params = {'bootstrap': False, 'criterion': 'gini', 'max_depth': 218, 'max_features': 1, 'min_samples_leaf': 19, 'n_estimators': 423}\n",
    "#model_2a = (n_jobs=-1, **params_rf4)\n",
    "avg_results, scores_dict, preds_dict, params_dict, returns_dict = avg_model(  \n",
    "    symbol_list,\n",
    "    forecast_horizon,                                 \n",
    "    input_window_size,\n",
    "    ti_list,\n",
    "    X_train,    \n",
    "    X_test,    \n",
    "    y_train,    \n",
    "    y_test,    \n",
    "    prices_test,\n",
    "    model=clf_rf4,\n",
    "    silent = False\n",
    ")"
   ]
  },
  {
   "cell_type": "code",
   "execution_count": null,
   "metadata": {},
   "outputs": [],
   "source": [
    "#best_params = {'bootstrap': False, 'criterion': 'gini', 'max_depth': 218, 'max_features': 1, 'min_samples_leaf': 19, 'n_estimators': 423}\n",
    "#model_2a = (n_jobs=-1, **params_rf4)\n",
    "avg_results, scores_dict, preds_dict, params_dict, returns_dict = avg_model(\n",
    "    symbol_list,\n",
    "    forecast_horizon,                                 \n",
    "    input_window_size,\n",
    "    ti_list,\n",
    "    X_train,    \n",
    "    X_test,    \n",
    "    y_train,    \n",
    "    y_test,    \n",
    "    prices_test,\n",
    "    model=RandomForestClassifier,\n",
    "    silent = False,\n",
    "    hyper_optimize=True,\n",
    "    n_eval=10,\n",
    ")"
   ]
  },
  {
   "cell_type": "code",
   "execution_count": null,
   "metadata": {},
   "outputs": [],
   "source": []
  }
 ],
 "metadata": {
  "kernelspec": {
   "display_name": "capstone_nf",
   "language": "python",
   "name": "capstone_nf"
  },
  "language_info": {
   "codemirror_mode": {
    "name": "ipython",
    "version": 3
   },
   "file_extension": ".py",
   "mimetype": "text/x-python",
   "name": "python",
   "nbconvert_exporter": "python",
   "pygments_lexer": "ipython3",
   "version": "3.7.6"
  },
  "toc-autonumbering": true
 },
 "nbformat": 4,
 "nbformat_minor": 4
}
