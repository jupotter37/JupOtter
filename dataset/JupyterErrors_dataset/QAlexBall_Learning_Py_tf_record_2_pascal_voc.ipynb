{
 "cells": [
  {
   "cell_type": "code",
   "execution_count": 5,
   "metadata": {},
   "outputs": [
    {
     "ename": "ModuleNotFoundError",
     "evalue": "No module named 'object_detection'",
     "output_type": "error",
     "traceback": [
      "\u001b[0;31m---------------------------------------------------------------------------\u001b[0m",
      "\u001b[0;31mModuleNotFoundError\u001b[0m                       Traceback (most recent call last)",
      "\u001b[0;32m<ipython-input-5-0370786c5806>\u001b[0m in \u001b[0;36m<module>\u001b[0;34m\u001b[0m\n\u001b[1;32m      4\u001b[0m \u001b[0;32mimport\u001b[0m \u001b[0mtensorflow\u001b[0m \u001b[0;32mas\u001b[0m \u001b[0mtf\u001b[0m\u001b[0;34m\u001b[0m\u001b[0;34m\u001b[0m\u001b[0m\n\u001b[1;32m      5\u001b[0m \u001b[0;32mimport\u001b[0m \u001b[0mmatplotlib\u001b[0m\u001b[0;34m.\u001b[0m\u001b[0mpyplot\u001b[0m \u001b[0;32mas\u001b[0m \u001b[0mplt\u001b[0m\u001b[0;34m\u001b[0m\u001b[0;34m\u001b[0m\u001b[0m\n\u001b[0;32m----> 6\u001b[0;31m \u001b[0;32mfrom\u001b[0m \u001b[0mobject_detection\u001b[0m\u001b[0;34m.\u001b[0m\u001b[0mdata_decoders\u001b[0m \u001b[0;32mimport\u001b[0m \u001b[0mtf_example_decoder\u001b[0m\u001b[0;34m\u001b[0m\u001b[0;34m\u001b[0m\u001b[0m\n\u001b[0m\u001b[1;32m      7\u001b[0m \u001b[0;34m\u001b[0m\u001b[0m\n\u001b[1;32m      8\u001b[0m \u001b[0;32mfrom\u001b[0m \u001b[0mxml\u001b[0m\u001b[0;34m.\u001b[0m\u001b[0mdom\u001b[0m \u001b[0;32mimport\u001b[0m \u001b[0mminidom\u001b[0m\u001b[0;34m\u001b[0m\u001b[0;34m\u001b[0m\u001b[0m\n",
      "\u001b[0;31mModuleNotFoundError\u001b[0m: No module named 'object_detection'"
     ]
    }
   ],
   "source": [
    "import os\n",
    "import cv2\n",
    "import numpy as np\n",
    "import tensorflow as tf\n",
    "import matplotlib.pyplot as plt\n",
    "from object_detection.data_decoders import tf_example_decoder\n",
    "\n",
    "from xml.dom import minidom\n",
    "from xml.etree.ElementTree import Element, SubElement, ElementTree"
   ]
  },
  {
   "cell_type": "code",
   "execution_count": null,
   "metadata": {},
   "outputs": [],
   "source": [
    "def make_elements(dom, root_node, element_map):\n",
    "    \"\"\" add sub-node for root_node \"\"\"\n",
    "    node = dom.createElement(element_map.get('name'))\n",
    "    root_node.appendChild(node)\n",
    "    if element_map.get('text') != 'None':\n",
    "        text = dom.createTextNode(str(element_map.get('text')))\n",
    "        node.appendChild(text)\n",
    "    if element_map.get('sub') != 'None':\n",
    "        for item in element_map.get('sub'):\n",
    "            make_elements(dom, node, item)\n"
   ]
  },
  {
   "cell_type": "code",
   "execution_count": null,
   "metadata": {},
   "outputs": [],
   "source": [
    "def write_to_voc(image_raw, save_path):\n",
    "    \"\"\" generate annotations from tfrecord only one image infomation \"\"\"\n",
    "    image = image_raw['image'][...,::-1] # BGR <=> RGB\n",
    "    img_name = str(image_raw['source_id'], encoding='utf-8')\n",
    "    if img_name.split('.')[-1] != 'jpg':\n",
    "        img_name = img_name + '.jpg'\n",
    "    img_path = save_path + 'JPEGImages/' + img_name\n",
    "    cv2.imwrite(img_path, image)\n",
    "    xml_path = save_path + 'Annotations/' + img_name.rsplit('.', 1)[0] + '.xml'\n",
    "    img_shape = image_raw['original_image_spatial_shape']\n",
    "    classes = image_raw['groundtruth_classes']\n",
    "    boxes = image_raw['groundtruth_boxes']\n",
    "    \n",
    "    dom = minidom.Document()\n",
    "    root_node = dom.createElement('annotation')\n",
    "    dom.appendChild(root_node)\n",
    "    \n",
    "    root_common_subelements = [\n",
    "        {'name': 'folder', 'text': 'person', 'sub': 'None'},\n",
    "        {'name': 'filename', 'text': img_name, 'sub': 'None'},\n",
    "        {'name': 'source', 'text': 'None', 'sub': [\n",
    "            {'name': 'database', 'text': 'The VOC2007 Database', 'sub': 'None'},\n",
    "            {'name': 'annotation', 'text': 'PASCAL VOC2007', 'sub': 'None'},\n",
    "            {'name': 'image', 'text': 'default', 'sub': 'None'},\n",
    "            {'name': 'flickrid', 'text': 'default', 'sub': 'None'},\n",
    "        ]},\n",
    "        {'name': 'owner', 'text': 'None', 'sub': [\n",
    "            {'name': 'flickrid', 'text': 'defalut', 'sub': 'None'},\n",
    "            {'name': 'name', 'text': 'defalut', 'sub': 'None'},\n",
    "        ]},\n",
    "        {'name': 'size', 'text': 'None', 'sub': [\n",
    "            {'name': 'width', 'text': img_shape[1], 'sub': 'None'},\n",
    "            {'name': 'height', 'text': img_shape[0], 'sub': 'None'},\n",
    "            {'name': 'depth', 'text': 3, 'sub': 'None'},\n",
    "        ]},\n",
    "        {'name': 'segmented', 'text': 0, 'sub': 'None'},\n",
    "    ]\n",
    "    for common_suelement in root_common_subelements:\n",
    "        make_elements(dom=dom, root_node=root_node, element_map=common_suelement)\n",
    "        \n",
    "    for category, box in zip(classes, boxes):\n",
    "        element_map = {\n",
    "            'name': 'object', \n",
    "            'text': 'None',\n",
    "            'sub': [\n",
    "                {'name': 'name', 'text': 'person', 'sub': 'None'},\n",
    "                {'name': 'pose', 'text': 'Left', 'sub': 'None'},\n",
    "                {'name': 'truncated', 'text': 1, 'sub': 'None'},\n",
    "                {'name': 'difficult', 'text': 0, 'sub': 'None'},\n",
    "                {'name': 'bndbox', 'text': 'None', 'sub': [\n",
    "                    {'name': 'xmin', 'text': box[0] * img_shape[1], 'sub': 'None'},\n",
    "                    {'name': 'ymin', 'text': box[1] * img_shape[0], 'sub': 'None'},\n",
    "                    {'name': 'xmax', 'text': box[2] * img_shape[1], 'sub': 'None'},\n",
    "                    {'name': 'ymax', 'text': box[3] * img_shape[0], 'sub': 'None'}\n",
    "                ]}\n",
    "            ]\n",
    "        }\n",
    "        make_elements(dom, root_node, element_map)\n",
    "    \n",
    "    with open(xml_path, 'w') as xml:\n",
    "        dom.writexml(xml, indent='', addindent='\\t', newl='\\n', encoding='utf-8')\n",
    "        print('write to {} done'.format(xml_path))\n",
    "    "
   ]
  },
  {
   "cell_type": "code",
   "execution_count": 180,
   "metadata": {},
   "outputs": [],
   "source": [
    "def read_tf_records(tf_record_path):\n",
    "    \"\"\" read tfrecord from record path \"\"\"\n",
    "    graph = tf.Graph()\n",
    "    label_map_proto_file = None\n",
    "    config = tf.ConfigProto(\n",
    "        device_count={'GPU': 0}\n",
    "    )\n",
    "    with graph.as_default():\n",
    "        decoder = tf_example_decoder.TfExampleDecoder(\n",
    "            label_map_proto_file=label_map_proto_file\n",
    "        )\n",
    "\n",
    "        dataset = tf.data.TFRecordDataset(tf_record_path)\n",
    "        dataset = dataset.map(decoder.decode)\n",
    "\n",
    "        iterator = dataset.make_one_shot_iterator()\n",
    "        next_element = iterator.get_next()\n",
    "        with tf.train.MonitoredTrainingSession(config=config) as sess:\n",
    "            while not sess.should_stop():\n",
    "                example = sess.run(next_element)\n",
    "                yield example\n",
    "\n",
    "                \n",
    "def generate_voc_annotations(dataset, voc_folder):\n",
    "    \"\"\"  generate voc dataset from tensorflow dataset \"\"\"\n",
    "    for idx, example in enumerate(dataset):\n",
    "        image = example['image']\n",
    "        detection_dict = dict(\n",
    "            detection_boxes=example['groundtruth_boxes'],\n",
    "            detection_classes=example['groundtruth_classes'],\n",
    "            detection_scores=np.ones(example['groundtruth_classes'].shape)\n",
    "        )\n",
    "        write_to_voc(example, voc_folder)\n",
    "        if idx < 2:\n",
    "            plt.figure()\n",
    "            plt.imshow(image)\n",
    "            plt.show()\n",
    "        \n",
    "    print(\"show ended\")"
   ]
  },
  {
   "cell_type": "code",
   "execution_count": 1,
   "metadata": {},
   "outputs": [
    {
     "ename": "NameError",
     "evalue": "name 'os' is not defined",
     "output_type": "error",
     "traceback": [
      "\u001b[0;31m---------------------------------------------------------------------------\u001b[0m",
      "\u001b[0;31mNameError\u001b[0m                                 Traceback (most recent call last)",
      "\u001b[0;32m<ipython-input-1-2571dfcfb193>\u001b[0m in \u001b[0;36m<module>\u001b[0;34m\u001b[0m\n\u001b[0;32m----> 1\u001b[0;31m \u001b[0mtfrecord_location\u001b[0m \u001b[0;34m=\u001b[0m \u001b[0mos\u001b[0m\u001b[0;34m.\u001b[0m\u001b[0mpath\u001b[0m\u001b[0;34m.\u001b[0m\u001b[0mabspath\u001b[0m\u001b[0;34m(\u001b[0m\u001b[0;34m'./records/'\u001b[0m\u001b[0;34m)\u001b[0m\u001b[0;34m\u001b[0m\u001b[0;34m\u001b[0m\u001b[0m\n\u001b[0m\u001b[1;32m      2\u001b[0m \u001b[0;31m# name = \"Person_20191018_10.record\"\u001b[0m\u001b[0;34m\u001b[0m\u001b[0;34m\u001b[0m\u001b[0;34m\u001b[0m\u001b[0m\n\u001b[1;32m      3\u001b[0m \u001b[0mname\u001b[0m \u001b[0;34m=\u001b[0m \u001b[0;34m\"train.record\"\u001b[0m\u001b[0;34m\u001b[0m\u001b[0;34m\u001b[0m\u001b[0m\n\u001b[1;32m      4\u001b[0m \u001b[0;31m# name = \"test.record\"\u001b[0m\u001b[0;34m\u001b[0m\u001b[0;34m\u001b[0m\u001b[0;34m\u001b[0m\u001b[0m\n\u001b[1;32m      5\u001b[0m \u001b[0mfilename\u001b[0m \u001b[0;34m=\u001b[0m \u001b[0mos\u001b[0m\u001b[0;34m.\u001b[0m\u001b[0mpath\u001b[0m\u001b[0;34m.\u001b[0m\u001b[0mjoin\u001b[0m\u001b[0;34m(\u001b[0m\u001b[0mtfrecord_location\u001b[0m\u001b[0;34m,\u001b[0m \u001b[0mname\u001b[0m\u001b[0;34m)\u001b[0m\u001b[0;34m\u001b[0m\u001b[0;34m\u001b[0m\u001b[0m\n",
      "\u001b[0;31mNameError\u001b[0m: name 'os' is not defined"
     ]
    }
   ],
   "source": [
    "tfrecord_location = os.path.abspath('./records/')\n",
    "# name = \"Person_20191018_10.record\"\n",
    "name = \"train.record\"\n",
    "# name = \"test.record\"\n",
    "filename = os.path.join(tfrecord_location, name)\n",
    "record_exists = os.path.exists(filename)\n",
    "record_exists\n",
    "\n",
    "voc_folder = \"/app/user/darknet/build-release/voc/VOCdevkit/person/\"\n",
    "annotations_folder = voc_folder + 'Annotations/'\n",
    "# dataset = read_tf_records(filename)\n",
    "# generate_voc_annotations(dataset, voc_folder)"
   ]
  },
  {
   "cell_type": "code",
   "execution_count": 199,
   "metadata": {},
   "outputs": [],
   "source": [
    "def write_train_txt():\n",
    "    train_txt = voc_folder + 'ImageSets/Main/val.txt'\n",
    "    if os.path.exists(train_txt):\n",
    "        os.remove(train_txt)\n",
    "    with open(train_txt, 'a') as f:\n",
    "        for xml_path in os.listdir(annotations_folder):\n",
    "            f.write(xml_path.rsplit('.', 1)[0] + '\\n')\n",
    "        f.close()\n",
    "# write_train_txt()"
   ]
  }
 ],
 "metadata": {
  "kernelspec": {
   "display_name": "Python 3",
   "language": "python",
   "name": "python3"
  },
  "language_info": {
   "codemirror_mode": {
    "name": "ipython",
    "version": 3
   },
   "file_extension": ".py",
   "mimetype": "text/x-python",
   "name": "python",
   "nbconvert_exporter": "python",
   "pygments_lexer": "ipython3",
   "version": "3.7.3"
  }
 },
 "nbformat": 4,
 "nbformat_minor": 2
}
