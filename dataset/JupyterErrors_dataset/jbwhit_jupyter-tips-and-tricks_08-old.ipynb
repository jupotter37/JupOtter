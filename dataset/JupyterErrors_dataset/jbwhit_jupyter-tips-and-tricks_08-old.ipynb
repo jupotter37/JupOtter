{
 "cells": [
  {
   "cell_type": "code",
   "execution_count": 1,
   "metadata": {
    "ExecuteTime": {
     "end_time": "2020-09-18T00:24:00.930069Z",
     "start_time": "2020-09-18T00:23:59.072536Z"
    },
    "execution_event_id": "aaf645b3-841b-4905-b9b1-89eb92101f05",
    "last_executed_text": "from __future__ import print_function, division\nimport matplotlib as mpl\nimport matplotlib.pyplot as plt\n%matplotlib inline\n\nimport numpy as np\nimport pandas as pd\nimport textwrap\nimport os\nimport sys\nimport warnings\nwarnings.filterwarnings('ignore')\n\n# special things\nfrom pivottablejs import pivot_ui\nfrom ipywidgets import FloatSlider, interactive, IntSlider\nfrom scipy import interpolate\n\n# sql\n%load_ext sql_magic\nimport sqlalchemy\nimport sqlite3\nfrom sqlalchemy import create_engine\nsqlite_engine = create_engine('sqlite://')\n\n# autoreload\n%load_ext autoreload\n%autoreload 1\n# %aimport module_to_reload\n\n# ehh...\n# import bqplot.pyplot as plt\nimport ipyvolume as ipv\nimport altair as alt\nfrom vega_datasets import data\n\nimport seaborn as sns\nsns.set_context('poster', font_scale=1.3)",
    "persistent_id": "8963a4cc-1cde-40a2-b3a9-110d5012ee31"
   },
   "outputs": [
    {
     "data": {
      "application/javascript": [
       "\n",
       "    require(['notebook/js/codecell'], function(codecell) {\n",
       "      // https://github.com/jupyter/notebook/issues/2453\n",
       "      codecell.CodeCell.options_default.highlight_modes['magic_text/x-sql'] = {'reg':[/^%read_sql/, /.*=\\s*%read_sql/,\n",
       "                                                                                      /^%%read_sql/]};\n",
       "      Jupyter.notebook.events.one('kernel_ready.Kernel', function(){\n",
       "          console.log('BBBBB');\n",
       "          Jupyter.notebook.get_cells().map(function(cell){\n",
       "              if (cell.cell_type == 'code'){ cell.auto_highlight(); } }) ;\n",
       "      });\n",
       "    });\n",
       "    "
      ]
     },
     "metadata": {},
     "output_type": "display_data"
    }
   ],
   "source": [
    "import matplotlib as mpl\n",
    "import matplotlib.pyplot as plt\n",
    "\n",
    "import numpy as np\n",
    "import pandas as pd\n",
    "import textwrap\n",
    "import os\n",
    "import sys\n",
    "import warnings\n",
    "warnings.filterwarnings('ignore')\n",
    "\n",
    "# special things\n",
    "from pivottablejs import pivot_ui\n",
    "from ipywidgets import FloatSlider, interactive, IntSlider\n",
    "from scipy import interpolate\n",
    "\n",
    "# sql\n",
    "%load_ext sql_magic\n",
    "import sqlalchemy\n",
    "import sqlite3\n",
    "from sqlalchemy import create_engine\n",
    "sqlite_engine = create_engine('sqlite://')\n",
    "%config SQL.conn_name = \"sqlite_engine\"\n",
    "%config SQL.output_result = False\n",
    "\n",
    "# autoreload\n",
    "%load_ext autoreload\n",
    "%autoreload 1\n",
    "# %aimport module_to_reload\n",
    "\n",
    "import ipyvolume as ipv\n",
    "import altair as alt\n",
    "from vega_datasets import data\n",
    "\n",
    "import seaborn as sns\n",
    "sns.set_context('poster', font_scale=1.3)\n",
    "\n",
    "import qgrid"
   ]
  },
  {
   "cell_type": "code",
   "execution_count": 2,
   "metadata": {
    "ExecuteTime": {
     "end_time": "2020-09-18T00:24:00.968499Z",
     "start_time": "2020-09-18T00:24:00.931534Z"
    },
    "execution_event_id": "0159f2e6-0912-4bdb-8ced-100a37706188",
    "last_executed_text": "df = pd.read_csv(\"../data/coal_prod_cleaned.csv\")\ndf.head()",
    "persistent_id": "485fd437-4a7e-4b5e-9bde-56e0149bce67"
   },
   "outputs": [
    {
     "data": {
      "text/html": [
       "<div>\n",
       "<style scoped>\n",
       "    .dataframe tbody tr th:only-of-type {\n",
       "        vertical-align: middle;\n",
       "    }\n",
       "\n",
       "    .dataframe tbody tr th {\n",
       "        vertical-align: top;\n",
       "    }\n",
       "\n",
       "    .dataframe thead th {\n",
       "        text-align: right;\n",
       "    }\n",
       "</style>\n",
       "<table border=\"1\" class=\"dataframe\">\n",
       "  <thead>\n",
       "    <tr style=\"text-align: right;\">\n",
       "      <th></th>\n",
       "      <th>MSHA_ID</th>\n",
       "      <th>Average_Employees</th>\n",
       "      <th>Company_Type</th>\n",
       "      <th>Labor_Hours</th>\n",
       "      <th>Mine_Basin</th>\n",
       "      <th>Mine_County</th>\n",
       "      <th>Mine_Name</th>\n",
       "      <th>Mine_State</th>\n",
       "      <th>Mine_Status</th>\n",
       "      <th>Mine_Type</th>\n",
       "      <th>Operating_Company</th>\n",
       "      <th>Operating_Company_Address</th>\n",
       "      <th>Operation_Type</th>\n",
       "      <th>Production_short_tons</th>\n",
       "      <th>Union_Code</th>\n",
       "      <th>Year</th>\n",
       "    </tr>\n",
       "  </thead>\n",
       "  <tbody>\n",
       "    <tr>\n",
       "      <th>0</th>\n",
       "      <td>103295</td>\n",
       "      <td>18.0</td>\n",
       "      <td>Independent Producer Operator</td>\n",
       "      <td>39175.0</td>\n",
       "      <td>Appalachia Southern</td>\n",
       "      <td>Bibb</td>\n",
       "      <td>Seymour Mine</td>\n",
       "      <td>Alabama</td>\n",
       "      <td>Active</td>\n",
       "      <td>Surface</td>\n",
       "      <td>Hope Coal Company Inc</td>\n",
       "      <td>P.O. Box 249, Maylene, AL 35114</td>\n",
       "      <td>Mine only</td>\n",
       "      <td>105082.0</td>\n",
       "      <td>NaN</td>\n",
       "      <td>2008</td>\n",
       "    </tr>\n",
       "    <tr>\n",
       "      <th>1</th>\n",
       "      <td>103117</td>\n",
       "      <td>19.0</td>\n",
       "      <td>Operating Subsidiary</td>\n",
       "      <td>29926.0</td>\n",
       "      <td>Appalachia Southern</td>\n",
       "      <td>Cullman</td>\n",
       "      <td>Mine #2, #3, #4</td>\n",
       "      <td>Alabama</td>\n",
       "      <td>Active, men working, not producing</td>\n",
       "      <td>Surface</td>\n",
       "      <td>Twin Pines Coal Company Inc</td>\n",
       "      <td>1874 County Road 15, Bremen, AL 35033</td>\n",
       "      <td>Mine only</td>\n",
       "      <td>10419.0</td>\n",
       "      <td>NaN</td>\n",
       "      <td>2008</td>\n",
       "    </tr>\n",
       "    <tr>\n",
       "      <th>2</th>\n",
       "      <td>103361</td>\n",
       "      <td>20.0</td>\n",
       "      <td>Operating Subsidiary</td>\n",
       "      <td>42542.0</td>\n",
       "      <td>Appalachia Southern</td>\n",
       "      <td>Cullman</td>\n",
       "      <td>Cold Springs West Mine</td>\n",
       "      <td>Alabama</td>\n",
       "      <td>Active</td>\n",
       "      <td>Surface</td>\n",
       "      <td>Twin Pines Coal Company</td>\n",
       "      <td>74 Industrial Parkway, Jasper, AL 35502</td>\n",
       "      <td>Mine only</td>\n",
       "      <td>143208.0</td>\n",
       "      <td>NaN</td>\n",
       "      <td>2008</td>\n",
       "    </tr>\n",
       "    <tr>\n",
       "      <th>3</th>\n",
       "      <td>100759</td>\n",
       "      <td>395.0</td>\n",
       "      <td>Operating Subsidiary</td>\n",
       "      <td>890710.0</td>\n",
       "      <td>Appalachia Southern</td>\n",
       "      <td>Fayette</td>\n",
       "      <td>North River # 1 Underground Mi</td>\n",
       "      <td>Alabama</td>\n",
       "      <td>Active</td>\n",
       "      <td>Underground</td>\n",
       "      <td>Chevron Mining Inc</td>\n",
       "      <td>3114 County Road 63 S, Berry, AL 35546</td>\n",
       "      <td>Mine and Preparation Plant</td>\n",
       "      <td>2923261.0</td>\n",
       "      <td>United Mine Workers of America</td>\n",
       "      <td>2008</td>\n",
       "    </tr>\n",
       "    <tr>\n",
       "      <th>4</th>\n",
       "      <td>103246</td>\n",
       "      <td>22.0</td>\n",
       "      <td>Independent Producer Operator</td>\n",
       "      <td>55403.0</td>\n",
       "      <td>Appalachia Southern</td>\n",
       "      <td>Franklin</td>\n",
       "      <td>Bear Creek</td>\n",
       "      <td>Alabama</td>\n",
       "      <td>Active</td>\n",
       "      <td>Surface</td>\n",
       "      <td>Birmingham Coal &amp; Coke Co., In</td>\n",
       "      <td>912 Edenton Street, Birmingham, AL 35242</td>\n",
       "      <td>Mine only</td>\n",
       "      <td>183137.0</td>\n",
       "      <td>NaN</td>\n",
       "      <td>2008</td>\n",
       "    </tr>\n",
       "  </tbody>\n",
       "</table>\n",
       "</div>"
      ],
      "text/plain": [
       "   MSHA_ID  Average_Employees                   Company_Type  Labor_Hours  \\\n",
       "0   103295               18.0  Independent Producer Operator      39175.0   \n",
       "1   103117               19.0           Operating Subsidiary      29926.0   \n",
       "2   103361               20.0           Operating Subsidiary      42542.0   \n",
       "3   100759              395.0           Operating Subsidiary     890710.0   \n",
       "4   103246               22.0  Independent Producer Operator      55403.0   \n",
       "\n",
       "            Mine_Basin Mine_County                       Mine_Name Mine_State  \\\n",
       "0  Appalachia Southern        Bibb                    Seymour Mine    Alabama   \n",
       "1  Appalachia Southern     Cullman                 Mine #2, #3, #4    Alabama   \n",
       "2  Appalachia Southern     Cullman          Cold Springs West Mine    Alabama   \n",
       "3  Appalachia Southern     Fayette  North River # 1 Underground Mi    Alabama   \n",
       "4  Appalachia Southern    Franklin                      Bear Creek    Alabama   \n",
       "\n",
       "                          Mine_Status    Mine_Type  \\\n",
       "0                              Active      Surface   \n",
       "1  Active, men working, not producing      Surface   \n",
       "2                              Active      Surface   \n",
       "3                              Active  Underground   \n",
       "4                              Active      Surface   \n",
       "\n",
       "                Operating_Company                 Operating_Company_Address  \\\n",
       "0           Hope Coal Company Inc           P.O. Box 249, Maylene, AL 35114   \n",
       "1     Twin Pines Coal Company Inc     1874 County Road 15, Bremen, AL 35033   \n",
       "2         Twin Pines Coal Company   74 Industrial Parkway, Jasper, AL 35502   \n",
       "3              Chevron Mining Inc    3114 County Road 63 S, Berry, AL 35546   \n",
       "4  Birmingham Coal & Coke Co., In  912 Edenton Street, Birmingham, AL 35242   \n",
       "\n",
       "               Operation_Type  Production_short_tons  \\\n",
       "0                   Mine only               105082.0   \n",
       "1                   Mine only                10419.0   \n",
       "2                   Mine only               143208.0   \n",
       "3  Mine and Preparation Plant              2923261.0   \n",
       "4                   Mine only               183137.0   \n",
       "\n",
       "                       Union_Code  Year  \n",
       "0                             NaN  2008  \n",
       "1                             NaN  2008  \n",
       "2                             NaN  2008  \n",
       "3  United Mine Workers of America  2008  \n",
       "4                             NaN  2008  "
      ]
     },
     "execution_count": 2,
     "metadata": {},
     "output_type": "execute_result"
    }
   ],
   "source": [
    "coal = pd.read_csv(\"../data/coal_prod_cleaned.csv\")\n",
    "coal.head()"
   ]
  },
  {
   "cell_type": "code",
   "execution_count": 3,
   "metadata": {
    "ExecuteTime": {
     "end_time": "2020-09-18T00:24:01.082964Z",
     "start_time": "2020-09-18T00:24:00.970149Z"
    }
   },
   "outputs": [],
   "source": [
    "coal.to_sql('coal', con=sqlite_engine, if_exists='append', index=False)"
   ]
  },
  {
   "cell_type": "code",
   "execution_count": 4,
   "metadata": {
    "ExecuteTime": {
     "end_time": "2020-09-18T00:24:01.448498Z",
     "start_time": "2020-09-18T00:24:01.436841Z"
    }
   },
   "outputs": [
    {
     "name": "stdout",
     "output_type": "stream",
     "text": [
      "Query started at 05:24:01 PM PDT; Query executed in 0.00 m"
     ]
    }
   ],
   "source": [
    "%%read_sql df\n",
    "SELECT \n",
    "    Mine_State,\n",
    "    Labor_Hours,\n",
    "    sum(Production_short_tons) as Production_short_tons\n",
    "FROM coal\n",
    "WHERE Mine_State != \"Wyoming\"\n",
    "GROUP BY Mine_State"
   ]
  },
  {
   "cell_type": "code",
   "execution_count": 5,
   "metadata": {
    "ExecuteTime": {
     "end_time": "2020-09-18T00:24:04.728166Z",
     "start_time": "2020-09-18T00:24:04.721993Z"
    }
   },
   "outputs": [
    {
     "data": {
      "text/html": [
       "<div>\n",
       "<style scoped>\n",
       "    .dataframe tbody tr th:only-of-type {\n",
       "        vertical-align: middle;\n",
       "    }\n",
       "\n",
       "    .dataframe tbody tr th {\n",
       "        vertical-align: top;\n",
       "    }\n",
       "\n",
       "    .dataframe thead th {\n",
       "        text-align: right;\n",
       "    }\n",
       "</style>\n",
       "<table border=\"1\" class=\"dataframe\">\n",
       "  <thead>\n",
       "    <tr style=\"text-align: right;\">\n",
       "      <th></th>\n",
       "      <th>Mine_State</th>\n",
       "      <th>Labor_Hours</th>\n",
       "      <th>Production_short_tons</th>\n",
       "    </tr>\n",
       "  </thead>\n",
       "  <tbody>\n",
       "    <tr>\n",
       "      <th>0</th>\n",
       "      <td>Alabama</td>\n",
       "      <td>39175.0</td>\n",
       "      <td>97714698.0</td>\n",
       "    </tr>\n",
       "    <tr>\n",
       "      <th>1</th>\n",
       "      <td>Alaska</td>\n",
       "      <td>234809.0</td>\n",
       "      <td>9689484.0</td>\n",
       "    </tr>\n",
       "    <tr>\n",
       "      <th>2</th>\n",
       "      <td>Arizona</td>\n",
       "      <td>999459.0</td>\n",
       "      <td>38855497.0</td>\n",
       "    </tr>\n",
       "    <tr>\n",
       "      <th>3</th>\n",
       "      <td>Arkansas</td>\n",
       "      <td>1310.0</td>\n",
       "      <td>337588.0</td>\n",
       "    </tr>\n",
       "    <tr>\n",
       "      <th>4</th>\n",
       "      <td>Colorado</td>\n",
       "      <td>5112.0</td>\n",
       "      <td>140913919.0</td>\n",
       "    </tr>\n",
       "  </tbody>\n",
       "</table>\n",
       "</div>"
      ],
      "text/plain": [
       "  Mine_State  Labor_Hours  Production_short_tons\n",
       "0    Alabama      39175.0             97714698.0\n",
       "1     Alaska     234809.0              9689484.0\n",
       "2    Arizona     999459.0             38855497.0\n",
       "3   Arkansas       1310.0               337588.0\n",
       "4   Colorado       5112.0            140913919.0"
      ]
     },
     "execution_count": 5,
     "metadata": {},
     "output_type": "execute_result"
    }
   ],
   "source": [
    "df.head()"
   ]
  },
  {
   "cell_type": "code",
   "execution_count": 6,
   "metadata": {
    "ExecuteTime": {
     "end_time": "2020-09-18T00:24:07.074808Z",
     "start_time": "2020-09-18T00:24:07.049928Z"
    }
   },
   "outputs": [
    {
     "data": {
      "text/plain": [
       "(9042, 16)"
      ]
     },
     "execution_count": 6,
     "metadata": {},
     "output_type": "execute_result"
    }
   ],
   "source": [
    "df = pd.read_csv(\"../data/coal_prod_cleaned.csv\")\n",
    "df.shape"
   ]
  },
  {
   "cell_type": "code",
   "execution_count": 7,
   "metadata": {
    "ExecuteTime": {
     "end_time": "2020-09-18T00:24:07.412099Z",
     "start_time": "2020-09-18T00:24:07.409279Z"
    },
    "execution_event_id": "ce4ea0f5-4b61-4754-ac3c-3bd4196dc349",
    "last_executed_text": "df.columns",
    "persistent_id": "3c9ad4a4-9d74-49e0-99c1-b09505a8ea75"
   },
   "outputs": [
    {
     "data": {
      "text/plain": [
       "Index(['MSHA_ID', 'Average_Employees', 'Company_Type', 'Labor_Hours',\n",
       "       'Mine_Basin', 'Mine_County', 'Mine_Name', 'Mine_State', 'Mine_Status',\n",
       "       'Mine_Type', 'Operating_Company', 'Operating_Company_Address',\n",
       "       'Operation_Type', 'Production_short_tons', 'Union_Code', 'Year'],\n",
       "      dtype='object')"
      ]
     },
     "execution_count": 7,
     "metadata": {},
     "output_type": "execute_result"
    }
   ],
   "source": [
    "df.columns"
   ]
  },
  {
   "cell_type": "code",
   "execution_count": 8,
   "metadata": {
    "ExecuteTime": {
     "end_time": "2020-09-18T00:24:08.025100Z",
     "start_time": "2020-09-18T00:24:07.994707Z"
    },
    "execution_event_id": "03881629-5cd5-4375-8c92-16b676f5baab",
    "last_executed_text": "qgrid_widget = qgrid.show_grid(\n    df[[\"Year\", \"Mine_State\", \"Labor_Hours\", \"Production_short_tons\"]],\n    show_toolbar=True,\n)\nqgrid_widget",
    "persistent_id": "c5743058-b0b7-4bd4-8821-498c36202977"
   },
   "outputs": [
    {
     "data": {
      "application/vnd.jupyter.widget-view+json": {
       "model_id": "f109bdc0fdc34a6aba13196ef948c31a",
       "version_major": 2,
       "version_minor": 0
      },
      "text/plain": [
       "QgridWidget(grid_options={'fullWidthRows': True, 'syncColumnCellResize': True, 'forceFitColumns': True, 'defau…"
      ]
     },
     "metadata": {},
     "output_type": "display_data"
    }
   ],
   "source": [
    "qgrid_widget = qgrid.show_grid(\n",
    "    df[[\"Year\", \"Mine_State\", \"Labor_Hours\", \"Production_short_tons\"]],\n",
    "    show_toolbar=True,\n",
    ")\n",
    "qgrid_widget"
   ]
  },
  {
   "cell_type": "markdown",
   "metadata": {},
   "source": [
    "## QGrid\n",
    "\n",
    "Interactive pandas dataframes: https://github.com/quantopian/qgrid\n",
    "\n",
    "\n",
    "```\n",
    "pip install qgrid --upgrade\n",
    "```"
   ]
  },
  {
   "cell_type": "code",
   "execution_count": 9,
   "metadata": {
    "ExecuteTime": {
     "end_time": "2020-01-17T00:34:24.305635Z",
     "start_time": "2020-01-17T00:34:24.290962Z"
    },
    "execution_event_id": "b0bb689e-148c-4e8c-b9d9-5d5960be0869",
    "last_executed_text": "df2 = df[df['Mine_State'] != \"Wyoming\"].groupby('Mine_State').sum()",
    "persistent_id": "d2d96c75-0987-4221-b426-3760dc06d90c"
   },
   "outputs": [],
   "source": [
    "df2 = df[df['Mine_State'] != \"Wyoming\"].groupby('Mine_State').sum()"
   ]
  },
  {
   "cell_type": "code",
   "execution_count": 10,
   "metadata": {
    "ExecuteTime": {
     "end_time": "2020-01-17T00:34:25.208112Z",
     "start_time": "2020-01-17T00:34:25.198904Z"
    },
    "execution_event_id": "b0bb689e-148c-4e8c-b9d9-5d5960be0869",
    "last_executed_text": "df2 = df[df['Mine_State'] != \"Wyoming\"].groupby('Mine_State').sum()",
    "persistent_id": "d2d96c75-0987-4221-b426-3760dc06d90c"
   },
   "outputs": [],
   "source": [
    "df3 = df.groupby('Mine_State').sum()"
   ]
  },
  {
   "cell_type": "code",
   "execution_count": 11,
   "metadata": {
    "ExecuteTime": {
     "end_time": "2020-01-16T23:13:09.192098Z",
     "start_time": "2020-01-16T23:13:09.188895Z"
    }
   },
   "outputs": [],
   "source": [
    "# have to run this from the home dir of this repo\n",
    "# cd insight/\n",
    "# python setup.py develop"
   ]
  },
  {
   "cell_type": "code",
   "execution_count": 12,
   "metadata": {
    "ExecuteTime": {
     "end_time": "2020-01-17T00:34:50.588005Z",
     "start_time": "2020-01-17T00:34:50.328572Z"
    }
   },
   "outputs": [],
   "source": [
    "%aimport insight.plotting"
   ]
  },
  {
   "cell_type": "code",
   "execution_count": 13,
   "metadata": {
    "ExecuteTime": {
     "end_time": "2020-01-17T00:35:04.334432Z",
     "start_time": "2020-01-17T00:35:03.822902Z"
    }
   },
   "outputs": [
    {
     "data": {
      "image/png": "[encoded data removed]",
      "text/plain": [
       "<Figure size 720x576 with 1 Axes>"
      ]
     },
     "metadata": {
      "needs_background": "light"
     },
     "output_type": "display_data"
    }
   ],
   "source": [
    "insight.plotting.plot_prod_vs_hours(df3, color_index=1)\n",
    "# insight.plotting.plot_prod_vs_hours(df2, color_index=1)"
   ]
  },
  {
   "cell_type": "code",
   "execution_count": null,
   "metadata": {},
   "outputs": [],
   "source": []
  },
  {
   "cell_type": "code",
   "execution_count": 14,
   "metadata": {
    "ExecuteTime": {
     "end_time": "2020-01-17T00:35:12.936869Z",
     "start_time": "2020-01-17T00:35:12.931251Z"
    },
    "execution_event_id": "e8074437-e1c6-4342-b461-c891426fc412",
    "last_executed_text": "fig, ax = plt.subplots(figsize=(10, 8))\nsns.regplot(df3['Labor_Hours'], df3['Production_short_tons'], ax=ax, color=sns.color_palette()[2])\nax.set_xlabel(\"Labor Hours Worked\")\nax.set_ylabel(\"Total Amount Produced\") \nx = ax.set_xlim(-9506023.213266129, 204993853.21326613)\ny = ax.set_ylim(-51476801.43653282, 746280580.4034251)\nfig.tight_layout()\nfig.savefig(\"../img/production-vs-hours-worked.png\")",
    "persistent_id": "a4af6eef-f777-41c4-a747-040f367953d9"
   },
   "outputs": [],
   "source": [
    "def plot_prod_vs_hours(\n",
    "    df, color_index=0, output_file=\"../img/production-vs-hours-worked.png\"\n",
    "):\n",
    "    fig, ax = plt.subplots(figsize=(10, 8))\n",
    "    sns.regplot(\n",
    "        df[\"Labor_Hours\"],\n",
    "        df[\"Production_short_tons\"],\n",
    "        ax=ax,\n",
    "        color=sns.color_palette()[color_index],\n",
    "    )\n",
    "    ax.set_xlabel(\"Labor Hours Worked\")\n",
    "    ax.set_ylabel(\"Total Amount Produced\")\n",
    "    x = ax.set_xlim(-9506023.213266129, 204993853.21326613)\n",
    "    y = ax.set_ylim(-51476801.43653282, 746280580.4034251)\n",
    "    fig.tight_layout()\n",
    "    fig.savefig(output_file)"
   ]
  },
  {
   "cell_type": "code",
   "execution_count": 15,
   "metadata": {
    "ExecuteTime": {
     "end_time": "2020-01-17T00:35:13.898958Z",
     "start_time": "2020-01-17T00:35:13.380671Z"
    },
    "execution_event_id": "e8074437-e1c6-4342-b461-c891426fc412",
    "last_executed_text": "fig, ax = plt.subplots(figsize=(10, 8))\nsns.regplot(df3['Labor_Hours'], df3['Production_short_tons'], ax=ax, color=sns.color_palette()[2])\nax.set_xlabel(\"Labor Hours Worked\")\nax.set_ylabel(\"Total Amount Produced\") \nx = ax.set_xlim(-9506023.213266129, 204993853.21326613)\ny = ax.set_ylim(-51476801.43653282, 746280580.4034251)\nfig.tight_layout()\nfig.savefig(\"../img/production-vs-hours-worked.png\")",
    "persistent_id": "a4af6eef-f777-41c4-a747-040f367953d9"
   },
   "outputs": [
    {
     "data": {
      "image/png": "[encoded data removed]",
      "text/plain": [
       "<Figure size 720x576 with 1 Axes>"
      ]
     },
     "metadata": {
      "needs_background": "light"
     },
     "output_type": "display_data"
    }
   ],
   "source": [
    "plot_prod_vs_hours(df2, color_index=0)"
   ]
  },
  {
   "cell_type": "code",
   "execution_count": 16,
   "metadata": {
    "ExecuteTime": {
     "end_time": "2020-01-16T23:21:21.095495Z",
     "start_time": "2020-01-16T23:21:20.553008Z"
    },
    "execution_event_id": "e8074437-e1c6-4342-b461-c891426fc412",
    "last_executed_text": "fig, ax = plt.subplots(figsize=(10, 8))\nsns.regplot(df3['Labor_Hours'], df3['Production_short_tons'], ax=ax, color=sns.color_palette()[2])\nax.set_xlabel(\"Labor Hours Worked\")\nax.set_ylabel(\"Total Amount Produced\") \nx = ax.set_xlim(-9506023.213266129, 204993853.21326613)\ny = ax.set_ylim(-51476801.43653282, 746280580.4034251)\nfig.tight_layout()\nfig.savefig(\"../img/production-vs-hours-worked.png\")",
    "persistent_id": "a4af6eef-f777-41c4-a747-040f367953d9"
   },
   "outputs": [
    {
     "data": {
      "image/png": "[encoded data removed]",
      "text/plain": [
       "<Figure size 720x576 with 1 Axes>"
      ]
     },
     "metadata": {
      "needs_background": "light"
     },
     "output_type": "display_data"
    }
   ],
   "source": [
    "plot_prod_vs_hours(df3, color_index=1)"
   ]
  },
  {
   "cell_type": "code",
   "execution_count": null,
   "metadata": {
    "ExecuteTime": {
     "end_time": "2019-06-06T02:00:35.027633Z",
     "start_time": "2019-06-06T02:00:35.023654Z"
    },
    "persistent_id": "9b40ac70-a8db-472a-969a-e00869896e49"
   },
   "outputs": [],
   "source": [
    "# make a change via qgrid\n",
    "df3 = qgrid_widget.get_changed_df()"
   ]
  },
  {
   "cell_type": "markdown",
   "metadata": {},
   "source": [
    "## Github \n",
    "\n",
    "https://github.com/jbwhit/jupyter-tips-and-tricks/commit/d3f2c0cef4dfd28eb3b9077595f14597a3022b1c?short_path=04303fc#diff-04303fce5e9bb38bcee25d12d9def22e"
   ]
  },
  {
   "cell_type": "code",
   "execution_count": null,
   "metadata": {
    "persistent_id": "3ecdbf1d-aba6-4bd2-8033-d7fdc6599125"
   },
   "outputs": [],
   "source": []
  },
  {
   "cell_type": "code",
   "execution_count": null,
   "metadata": {
    "ExecuteTime": {
     "end_time": "2019-06-06T01:59:34.414609Z",
     "start_time": "2019-06-06T01:59:34.381494Z"
    },
    "persistent_id": "17a5727a-7b86-4f69-9859-da12e1d03705"
   },
   "outputs": [],
   "source": [
    "qgrid_widget = qgrid.show_grid(\n",
    "    df2[[\"Year\", \"Labor_Hours\", \"Production_short_tons\"]],\n",
    "    show_toolbar=True,\n",
    ")\n",
    "qgrid_widget"
   ]
  },
  {
   "cell_type": "code",
   "execution_count": null,
   "metadata": {},
   "outputs": [],
   "source": []
  },
  {
   "cell_type": "code",
   "execution_count": null,
   "metadata": {},
   "outputs": [],
   "source": []
  }
 ],
 "metadata": {
  "hide_input": false,
  "history": [
   {
    "cell": {
     "executionCount": 1,
     "executionEventId": "4feeab69-cea4-4323-86e6-027bf952ac54",
     "hasError": false,
     "id": "e99a3b37-da16-40d5-916d-7b91b6bbc582",
     "outputs": [
      {
       "data": {
        "application/javascript": "\n    require(['notebook/js/codecell'], function(codecell) {\n      // https://github.com/jupyter/notebook/issues/2453\n      codecell.CodeCell.options_default.highlight_modes['magic_text/x-sql'] = {'reg':[/^%read_sql/, /.*=\\s*%read_sql/,\n                                                                                      /^%%read_sql/]};\n      Jupyter.notebook.events.one('kernel_ready.Kernel', function(){\n          console.log('BBBBB');\n          Jupyter.notebook.get_cells().map(function(cell){\n              if (cell.cell_type == 'code'){ cell.auto_highlight(); } }) ;\n      });\n    });\n    "
       },
       "metadata": {},
       "output_type": "display_data"
      }
     ],
     "persistentId": "8963a4cc-1cde-40a2-b3a9-110d5012ee31",
     "text": "from __future__ import print_function, division\nimport matplotlib as mpl\nimport matplotlib.pyplot as plt\n%matplotlib inline\n\nimport numpy as np\nimport pandas as pd\nimport textwrap\nimport os\nimport sys\nimport warnings\nwarnings.filterwarnings('ignore')\n\n# special things\nfrom pivottablejs import pivot_ui\nfrom ipywidgets import FloatSlider, interactive, IntSlider\nfrom scipy import interpolate\n\n# sql\n%load_ext sql_magic\nimport sqlalchemy\nimport sqlite3\nfrom sqlalchemy import create_engine\nsqlite_engine = create_engine('sqlite://')\n\n# autoreload\n%load_ext autoreload\n%autoreload 1\n# %aimport module_to_reload\n\n# ehh...\n# import bqplot.pyplot as plt\nimport ipyvolume as ipv\nimport altair as alt\nfrom vega_datasets import data\n\nimport seaborn as sns\nsns.set_context('poster', font_scale=1.3)"
    },
    "executionTime": "2019-09-09T22:00:37.249Z"
   },
   {
    "cell": {
     "executionCount": 2,
     "executionEventId": "647f00b0-2758-420f-906b-541036aead8f",
     "hasError": false,
     "id": "00380120-2b11-4802-aec7-7d2c6372aca7",
     "outputs": [],
     "persistentId": "a4ad4eac-6abd-4254-a2df-c9e2bfb41c80",
     "text": "import qgrid\nfrom sklearn.datasets import load_boston"
    },
    "executionTime": "2019-09-09T22:00:37.529Z"
   },
   {
    "cell": {
     "executionCount": 3,
     "executionEventId": "2126a9e4-dfa5-491e-ae54-240b2c793359",
     "hasError": false,
     "id": "02fc8acf-5203-4221-8776-d50b213de02d",
     "outputs": [
      {
       "data": {
        "text/html": "<div>\n<style scoped>\n    .dataframe tbody tr th:only-of-type {\n        vertical-align: middle;\n    }\n\n    .dataframe tbody tr th {\n        vertical-align: top;\n    }\n\n    .dataframe thead th {\n        text-align: right;\n    }\n</style>\n<table border=\"1\" class=\"dataframe\">\n  <thead>\n    <tr style=\"text-align: right;\">\n      <th></th>\n      <th>MSHA_ID</th>\n      <th>Average_Employees</th>\n      <th>Company_Type</th>\n      <th>Labor_Hours</th>\n      <th>Mine_Basin</th>\n      <th>Mine_County</th>\n      <th>Mine_Name</th>\n      <th>Mine_State</th>\n      <th>Mine_Status</th>\n      <th>Mine_Type</th>\n      <th>Operating_Company</th>\n      <th>Operating_Company_Address</th>\n      <th>Operation_Type</th>\n      <th>Production_short_tons</th>\n      <th>Union_Code</th>\n      <th>Year</th>\n    </tr>\n  </thead>\n  <tbody>\n    <tr>\n      <th>0</th>\n      <td>103295</td>\n      <td>18.0</td>\n      <td>Independent Producer Operator</td>\n      <td>39175.0</td>\n      <td>Appalachia Southern</td>\n      <td>Bibb</td>\n      <td>Seymour Mine</td>\n      <td>Alabama</td>\n      <td>Active</td>\n      <td>Surface</td>\n      <td>Hope Coal Company Inc</td>\n      <td>P.O. Box 249, Maylene, AL 35114</td>\n      <td>Mine only</td>\n      <td>105082.0</td>\n      <td>NaN</td>\n      <td>2008</td>\n    </tr>\n    <tr>\n      <th>1</th>\n      <td>103117</td>\n      <td>19.0</td>\n      <td>Operating Subsidiary</td>\n      <td>29926.0</td>\n      <td>Appalachia Southern</td>\n      <td>Cullman</td>\n      <td>Mine #2, #3, #4</td>\n      <td>Alabama</td>\n      <td>Active, men working, not producing</td>\n      <td>Surface</td>\n      <td>Twin Pines Coal Company Inc</td>\n      <td>1874 County Road 15, Bremen, AL 35033</td>\n      <td>Mine only</td>\n      <td>10419.0</td>\n      <td>NaN</td>\n      <td>2008</td>\n    </tr>\n    <tr>\n      <th>2</th>\n      <td>103361</td>\n      <td>20.0</td>\n      <td>Operating Subsidiary</td>\n      <td>42542.0</td>\n      <td>Appalachia Southern</td>\n      <td>Cullman</td>\n      <td>Cold Springs West Mine</td>\n      <td>Alabama</td>\n      <td>Active</td>\n      <td>Surface</td>\n      <td>Twin Pines Coal Company</td>\n      <td>74 Industrial Parkway, Jasper, AL 35502</td>\n      <td>Mine only</td>\n      <td>143208.0</td>\n      <td>NaN</td>\n      <td>2008</td>\n    </tr>\n    <tr>\n      <th>3</th>\n      <td>100759</td>\n      <td>395.0</td>\n      <td>Operating Subsidiary</td>\n      <td>890710.0</td>\n      <td>Appalachia Southern</td>\n      <td>Fayette</td>\n      <td>North River # 1 Underground Mi</td>\n      <td>Alabama</td>\n      <td>Active</td>\n      <td>Underground</td>\n      <td>Chevron Mining Inc</td>\n      <td>3114 County Road 63 S, Berry, AL 35546</td>\n      <td>Mine and Preparation Plant</td>\n      <td>2923261.0</td>\n      <td>United Mine Workers of America</td>\n      <td>2008</td>\n    </tr>\n    <tr>\n      <th>4</th>\n      <td>103246</td>\n      <td>22.0</td>\n      <td>Independent Producer Operator</td>\n      <td>55403.0</td>\n      <td>Appalachia Southern</td>\n      <td>Franklin</td>\n      <td>Bear Creek</td>\n      <td>Alabama</td>\n      <td>Active</td>\n      <td>Surface</td>\n      <td>Birmingham Coal &amp; Coke Co., In</td>\n      <td>912 Edenton Street, Birmingham, AL 35242</td>\n      <td>Mine only</td>\n      <td>183137.0</td>\n      <td>NaN</td>\n      <td>2008</td>\n    </tr>\n  </tbody>\n</table>\n</div>",
        "text/plain": "   MSHA_ID  Average_Employees                   Company_Type  Labor_Hours  \\\n0   103295               18.0  Independent Producer Operator      39175.0   \n1   103117               19.0           Operating Subsidiary      29926.0   \n2   103361               20.0           Operating Subsidiary      42542.0   \n3   100759              395.0           Operating Subsidiary     890710.0   \n4   103246               22.0  Independent Producer Operator      55403.0   \n\n            Mine_Basin Mine_County                       Mine_Name Mine_State  \\\n0  Appalachia Southern        Bibb                    Seymour Mine    Alabama   \n1  Appalachia Southern     Cullman                 Mine #2, #3, #4    Alabama   \n2  Appalachia Southern     Cullman          Cold Springs West Mine    Alabama   \n3  Appalachia Southern     Fayette  North River # 1 Underground Mi    Alabama   \n4  Appalachia Southern    Franklin                      Bear Creek    Alabama   \n\n                          Mine_Status    Mine_Type  \\\n0                              Active      Surface   \n1  Active, men working, not producing      Surface   \n2                              Active      Surface   \n3                              Active  Underground   \n4                              Active      Surface   \n\n                Operating_Company                 Operating_Company_Address  \\\n0           Hope Coal Company Inc           P.O. Box 249, Maylene, AL 35114   \n1     Twin Pines Coal Company Inc     1874 County Road 15, Bremen, AL 35033   \n2         Twin Pines Coal Company   74 Industrial Parkway, Jasper, AL 35502   \n3              Chevron Mining Inc    3114 County Road 63 S, Berry, AL 35546   \n4  Birmingham Coal & Coke Co., In  912 Edenton Street, Birmingham, AL 35242   \n\n               Operation_Type  Production_short_tons  \\\n0                   Mine only               105082.0   \n1                   Mine only                10419.0   \n2                   Mine only               143208.0   \n3  Mine and Preparation Plant              2923261.0   \n4                   Mine only               183137.0   \n\n                       Union_Code  Year  \n0                             NaN  2008  \n1                             NaN  2008  \n2                             NaN  2008  \n3  United Mine Workers of America  2008  \n4                             NaN  2008  "
       },
       "execution_count": 3,
       "metadata": {},
       "output_type": "execute_result"
      }
     ],
     "persistentId": "485fd437-4a7e-4b5e-9bde-56e0149bce67",
     "text": "df = pd.read_csv(\"../data/coal_prod_cleaned.csv\")\ndf.head()"
    },
    "executionTime": "2019-09-09T22:00:40.198Z"
   },
   {
    "cell": {
     "executionCount": 4,
     "executionEventId": "862dac86-6da6-4bb4-9f9d-9b3d857fd12e",
     "hasError": false,
     "id": "42a3be7d-f2b4-42ef-8d78-4132d14569bc",
     "outputs": [
      {
       "data": {
        "text/plain": "(9042, 16)"
       },
       "execution_count": 4,
       "metadata": {},
       "output_type": "execute_result"
      }
     ],
     "persistentId": "0ea84efc-6839-41e9-9ed2-0cfdf5cdc1f8",
     "text": "df.shape"
    },
    "executionTime": "2019-09-09T22:00:41.322Z"
   },
   {
    "cell": {
     "executionCount": 5,
     "executionEventId": "fb90555e-0872-4747-920c-47a68e7c2887",
     "hasError": false,
     "id": "f1c109f3-3d52-4ad4-b441-1d7cb1b27b75",
     "outputs": [
      {
       "data": {
        "text/plain": "Index(['MSHA_ID', 'Average_Employees', 'Company_Type', 'Labor_Hours',\n       'Mine_Basin', 'Mine_County', 'Mine_Name', 'Mine_State', 'Mine_Status',\n       'Mine_Type', 'Operating_Company', 'Operating_Company_Address',\n       'Operation_Type', 'Production_short_tons', 'Union_Code', 'Year'],\n      dtype='object')"
       },
       "execution_count": 5,
       "metadata": {},
       "output_type": "execute_result"
      }
     ],
     "persistentId": "3c9ad4a4-9d74-49e0-99c1-b09505a8ea75",
     "text": "df.columns"
    },
    "executionTime": "2019-09-09T22:00:42.671Z"
   },
   {
    "cell": {
     "executionCount": 6,
     "executionEventId": "b6a4cd2c-22e3-4128-806f-8bc563ce3659",
     "hasError": false,
     "id": "8251c7c5-afb3-4c23-9359-3d20c2bd06cf",
     "outputs": [
      {
       "data": {
        "application/vnd.jupyter.widget-view+json": {
         "model_id": "c0200b31b4484a31a80b5b1d3c602318",
         "version_major": 2,
         "version_minor": 0
        },
        "text/plain": "QgridWidget(grid_options={'fullWidthRows': True, 'syncColumnCellResize': True, 'forceFitColumns': True, 'defau…"
       },
       "metadata": {},
       "output_type": "display_data"
      }
     ],
     "persistentId": "c5743058-b0b7-4bd4-8821-498c36202977",
     "text": "qgrid_widget = qgrid.show_grid(\n    df[[\"Year\", \"Mine_State\", \"Labor_Hours\", \"Production_short_tons\"]],\n    show_toolbar=True,\n)\nqgrid_widget"
    },
    "executionTime": "2019-09-09T22:00:43.379Z"
   },
   {
    "cell": {
     "executionCount": 7,
     "executionEventId": "0ab5618e-b482-4a91-b1d4-e4a11633fbc7",
     "hasError": false,
     "id": "a02d1575-c845-4a15-9ffc-0508412096cf",
     "outputs": [],
     "persistentId": "d2d96c75-0987-4221-b426-3760dc06d90c",
     "text": "df2 = df[df['Mine_State'] != \"Wyoming\"].groupby('Mine_State').sum()"
    },
    "executionTime": "2019-09-09T22:00:56.954Z"
   },
   {
    "cell": {
     "executionCount": 8,
     "executionEventId": "fc0e178e-ca4a-44ce-93a0-5b1ab17d0e70",
     "hasError": true,
     "id": "0d0bb059-3f37-4366-836c-af6162dd078b",
     "outputs": [
      {
       "ename": "NameError",
       "evalue": "name 'df3' is not defined",
       "output_type": "error",
       "traceback": [
        "\u001b[0;31m-----------------------------------------------------------------------\u001b[0m",
        "\u001b[0;31mNameError\u001b[0m                             Traceback (most recent call last)",
        "\u001b[0;32m<ipython-input-8-7c84a26756d0>\u001b[0m in \u001b[0;36m<module>\u001b[0;34m\u001b[0m\n\u001b[1;32m      1\u001b[0m \u001b[0mfig\u001b[0m\u001b[0;34m,\u001b[0m \u001b[0max\u001b[0m \u001b[0;34m=\u001b[0m \u001b[0mplt\u001b[0m\u001b[0;34m.\u001b[0m\u001b[0msubplots\u001b[0m\u001b[0;34m(\u001b[0m\u001b[0mfigsize\u001b[0m\u001b[0;34m=\u001b[0m\u001b[0;34m(\u001b[0m\u001b[0;36m10\u001b[0m\u001b[0;34m,\u001b[0m \u001b[0;36m8\u001b[0m\u001b[0;34m)\u001b[0m\u001b[0;34m)\u001b[0m\u001b[0;34m\u001b[0m\u001b[0;34m\u001b[0m\u001b[0m\n\u001b[0;32m----> 2\u001b[0;31m \u001b[0msns\u001b[0m\u001b[0;34m.\u001b[0m\u001b[0mregplot\u001b[0m\u001b[0;34m(\u001b[0m\u001b[0mdf3\u001b[0m\u001b[0;34m[\u001b[0m\u001b[0;34m'Labor_Hours'\u001b[0m\u001b[0;34m]\u001b[0m\u001b[0;34m,\u001b[0m \u001b[0mdf3\u001b[0m\u001b[0;34m[\u001b[0m\u001b[0;34m'Production_short_tons'\u001b[0m\u001b[0;34m]\u001b[0m\u001b[0;34m,\u001b[0m \u001b[0max\u001b[0m\u001b[0;34m=\u001b[0m\u001b[0max\u001b[0m\u001b[0;34m,\u001b[0m \u001b[0mcolor\u001b[0m\u001b[0;34m=\u001b[0m\u001b[0msns\u001b[0m\u001b[0;34m.\u001b[0m\u001b[0mcolor_palette\u001b[0m\u001b[0;34m(\u001b[0m\u001b[0;34m)\u001b[0m\u001b[0;34m[\u001b[0m\u001b[0;36m2\u001b[0m\u001b[0;34m]\u001b[0m\u001b[0;34m)\u001b[0m\u001b[0;34m\u001b[0m\u001b[0;34m\u001b[0m\u001b[0m\n\u001b[0m\u001b[1;32m      3\u001b[0m \u001b[0max\u001b[0m\u001b[0;34m.\u001b[0m\u001b[0mset_xlabel\u001b[0m\u001b[0;34m(\u001b[0m\u001b[0;34m\"Labor Hours Worked\"\u001b[0m\u001b[0;34m)\u001b[0m\u001b[0;34m\u001b[0m\u001b[0;34m\u001b[0m\u001b[0m\n\u001b[1;32m      4\u001b[0m \u001b[0max\u001b[0m\u001b[0;34m.\u001b[0m\u001b[0mset_ylabel\u001b[0m\u001b[0;34m(\u001b[0m\u001b[0;34m\"Total Amount Produced\"\u001b[0m\u001b[0;34m)\u001b[0m\u001b[0;34m\u001b[0m\u001b[0;34m\u001b[0m\u001b[0m\n\u001b[1;32m      5\u001b[0m \u001b[0mx\u001b[0m \u001b[0;34m=\u001b[0m \u001b[0max\u001b[0m\u001b[0;34m.\u001b[0m\u001b[0mset_xlim\u001b[0m\u001b[0;34m(\u001b[0m\u001b[0;34m-\u001b[0m\u001b[0;36m9506023.213266129\u001b[0m\u001b[0;34m,\u001b[0m \u001b[0;36m204993853.21326613\u001b[0m\u001b[0;34m)\u001b[0m\u001b[0;34m\u001b[0m\u001b[0;34m\u001b[0m\u001b[0m\n",
        "\u001b[0;31mNameError\u001b[0m: name 'df3' is not defined"
       ]
      },
      {
       "data": {
        "image/png": "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\n",
        "text/plain": "<Figure size 720x576 with 1 Axes>"
       },
       "metadata": {
        "needs_background": "light"
       },
       "output_type": "display_data"
      }
     ],
     "persistentId": "a4af6eef-f777-41c4-a747-040f367953d9",
     "text": "fig, ax = plt.subplots(figsize=(10, 8))\nsns.regplot(df3['Labor_Hours'], df3['Production_short_tons'], ax=ax, color=sns.color_palette()[2])\nax.set_xlabel(\"Labor Hours Worked\")\nax.set_ylabel(\"Total Amount Produced\") \nx = ax.set_xlim(-9506023.213266129, 204993853.21326613)\ny = ax.set_ylim(-51476801.43653282, 746280580.4034251)\nfig.tight_layout()\nfig.savefig(\"../img/production-vs-hours-worked.png\")"
    },
    "executionTime": "2019-09-09T22:00:58.043Z"
   },
   {
    "cell": {
     "executionCount": 1,
     "executionEventId": "f9a69b2c-ed38-4b27-97cd-edb234a4079b",
     "hasError": false,
     "id": "53124313-cf57-4d08-a8e2-f7c8c6c6bf62",
     "outputs": [
      {
       "data": {
        "application/javascript": "\n    require(['notebook/js/codecell'], function(codecell) {\n      // https://github.com/jupyter/notebook/issues/2453\n      codecell.CodeCell.options_default.highlight_modes['magic_text/x-sql'] = {'reg':[/^%read_sql/, /.*=\\s*%read_sql/,\n                                                                                      /^%%read_sql/]};\n      Jupyter.notebook.events.one('kernel_ready.Kernel', function(){\n          console.log('BBBBB');\n          Jupyter.notebook.get_cells().map(function(cell){\n              if (cell.cell_type == 'code'){ cell.auto_highlight(); } }) ;\n      });\n    });\n    "
       },
       "metadata": {},
       "output_type": "display_data"
      }
     ],
     "persistentId": "8963a4cc-1cde-40a2-b3a9-110d5012ee31",
     "text": "from __future__ import print_function, division\nimport matplotlib as mpl\nimport matplotlib.pyplot as plt\n%matplotlib inline\n\nimport numpy as np\nimport pandas as pd\nimport textwrap\nimport os\nimport sys\nimport warnings\nwarnings.filterwarnings('ignore')\n\n# special things\nfrom pivottablejs import pivot_ui\nfrom ipywidgets import FloatSlider, interactive, IntSlider\nfrom scipy import interpolate\n\n# sql\n%load_ext sql_magic\nimport sqlalchemy\nimport sqlite3\nfrom sqlalchemy import create_engine\nsqlite_engine = create_engine('sqlite://')\n\n# autoreload\n%load_ext autoreload\n%autoreload 1\n# %aimport module_to_reload\n\n# ehh...\n# import bqplot.pyplot as plt\nimport ipyvolume as ipv\nimport altair as alt\nfrom vega_datasets import data\n\nimport seaborn as sns\nsns.set_context('poster', font_scale=1.3)"
    },
    "executionTime": "2019-09-12T03:08:08.672Z"
   },
   {
    "cell": {
     "executionCount": 2,
     "executionEventId": "1af21b5a-3e80-423d-8da4-4d5ea34e5af6",
     "hasError": false,
     "id": "acca2689-c99d-4374-8143-12f43a1e9006",
     "outputs": [],
     "persistentId": "a4ad4eac-6abd-4254-a2df-c9e2bfb41c80",
     "text": "import qgrid\nfrom sklearn.datasets import load_boston"
    },
    "executionTime": "2019-09-12T03:08:08.894Z"
   },
   {
    "cell": {
     "executionCount": 3,
     "executionEventId": "e89a3fe3-9135-4d8f-9976-b30f95944c0b",
     "hasError": false,
     "id": "4a71f282-6c13-4b85-8be8-8d1ba781491d",
     "outputs": [
      {
       "data": {
        "text/html": "<div>\n<style scoped>\n    .dataframe tbody tr th:only-of-type {\n        vertical-align: middle;\n    }\n\n    .dataframe tbody tr th {\n        vertical-align: top;\n    }\n\n    .dataframe thead th {\n        text-align: right;\n    }\n</style>\n<table border=\"1\" class=\"dataframe\">\n  <thead>\n    <tr style=\"text-align: right;\">\n      <th></th>\n      <th>MSHA_ID</th>\n      <th>Average_Employees</th>\n      <th>Company_Type</th>\n      <th>Labor_Hours</th>\n      <th>Mine_Basin</th>\n      <th>Mine_County</th>\n      <th>Mine_Name</th>\n      <th>Mine_State</th>\n      <th>Mine_Status</th>\n      <th>Mine_Type</th>\n      <th>Operating_Company</th>\n      <th>Operating_Company_Address</th>\n      <th>Operation_Type</th>\n      <th>Production_short_tons</th>\n      <th>Union_Code</th>\n      <th>Year</th>\n    </tr>\n  </thead>\n  <tbody>\n    <tr>\n      <td>0</td>\n      <td>103295</td>\n      <td>18.0</td>\n      <td>Independent Producer Operator</td>\n      <td>39175.0</td>\n      <td>Appalachia Southern</td>\n      <td>Bibb</td>\n      <td>Seymour Mine</td>\n      <td>Alabama</td>\n      <td>Active</td>\n      <td>Surface</td>\n      <td>Hope Coal Company Inc</td>\n      <td>P.O. Box 249, Maylene, AL 35114</td>\n      <td>Mine only</td>\n      <td>105082.0</td>\n      <td>NaN</td>\n      <td>2008</td>\n    </tr>\n    <tr>\n      <td>1</td>\n      <td>103117</td>\n      <td>19.0</td>\n      <td>Operating Subsidiary</td>\n      <td>29926.0</td>\n      <td>Appalachia Southern</td>\n      <td>Cullman</td>\n      <td>Mine #2, #3, #4</td>\n      <td>Alabama</td>\n      <td>Active, men working, not producing</td>\n      <td>Surface</td>\n      <td>Twin Pines Coal Company Inc</td>\n      <td>1874 County Road 15, Bremen, AL 35033</td>\n      <td>Mine only</td>\n      <td>10419.0</td>\n      <td>NaN</td>\n      <td>2008</td>\n    </tr>\n    <tr>\n      <td>2</td>\n      <td>103361</td>\n      <td>20.0</td>\n      <td>Operating Subsidiary</td>\n      <td>42542.0</td>\n      <td>Appalachia Southern</td>\n      <td>Cullman</td>\n      <td>Cold Springs West Mine</td>\n      <td>Alabama</td>\n      <td>Active</td>\n      <td>Surface</td>\n      <td>Twin Pines Coal Company</td>\n      <td>74 Industrial Parkway, Jasper, AL 35502</td>\n      <td>Mine only</td>\n      <td>143208.0</td>\n      <td>NaN</td>\n      <td>2008</td>\n    </tr>\n    <tr>\n      <td>3</td>\n      <td>100759</td>\n      <td>395.0</td>\n      <td>Operating Subsidiary</td>\n      <td>890710.0</td>\n      <td>Appalachia Southern</td>\n      <td>Fayette</td>\n      <td>North River # 1 Underground Mi</td>\n      <td>Alabama</td>\n      <td>Active</td>\n      <td>Underground</td>\n      <td>Chevron Mining Inc</td>\n      <td>3114 County Road 63 S, Berry, AL 35546</td>\n      <td>Mine and Preparation Plant</td>\n      <td>2923261.0</td>\n      <td>United Mine Workers of America</td>\n      <td>2008</td>\n    </tr>\n    <tr>\n      <td>4</td>\n      <td>103246</td>\n      <td>22.0</td>\n      <td>Independent Producer Operator</td>\n      <td>55403.0</td>\n      <td>Appalachia Southern</td>\n      <td>Franklin</td>\n      <td>Bear Creek</td>\n      <td>Alabama</td>\n      <td>Active</td>\n      <td>Surface</td>\n      <td>Birmingham Coal &amp; Coke Co., In</td>\n      <td>912 Edenton Street, Birmingham, AL 35242</td>\n      <td>Mine only</td>\n      <td>183137.0</td>\n      <td>NaN</td>\n      <td>2008</td>\n    </tr>\n  </tbody>\n</table>\n</div>",
        "text/plain": "   MSHA_ID  Average_Employees                   Company_Type  Labor_Hours  \\\n0   103295               18.0  Independent Producer Operator      39175.0   \n1   103117               19.0           Operating Subsidiary      29926.0   \n2   103361               20.0           Operating Subsidiary      42542.0   \n3   100759              395.0           Operating Subsidiary     890710.0   \n4   103246               22.0  Independent Producer Operator      55403.0   \n\n            Mine_Basin Mine_County                       Mine_Name Mine_State  \\\n0  Appalachia Southern        Bibb                    Seymour Mine    Alabama   \n1  Appalachia Southern     Cullman                 Mine #2, #3, #4    Alabama   \n2  Appalachia Southern     Cullman          Cold Springs West Mine    Alabama   \n3  Appalachia Southern     Fayette  North River # 1 Underground Mi    Alabama   \n4  Appalachia Southern    Franklin                      Bear Creek    Alabama   \n\n                          Mine_Status    Mine_Type  \\\n0                              Active      Surface   \n1  Active, men working, not producing      Surface   \n2                              Active      Surface   \n3                              Active  Underground   \n4                              Active      Surface   \n\n                Operating_Company                 Operating_Company_Address  \\\n0           Hope Coal Company Inc           P.O. Box 249, Maylene, AL 35114   \n1     Twin Pines Coal Company Inc     1874 County Road 15, Bremen, AL 35033   \n2         Twin Pines Coal Company   74 Industrial Parkway, Jasper, AL 35502   \n3              Chevron Mining Inc    3114 County Road 63 S, Berry, AL 35546   \n4  Birmingham Coal & Coke Co., In  912 Edenton Street, Birmingham, AL 35242   \n\n               Operation_Type  Production_short_tons  \\\n0                   Mine only               105082.0   \n1                   Mine only                10419.0   \n2                   Mine only               143208.0   \n3  Mine and Preparation Plant              2923261.0   \n4                   Mine only               183137.0   \n\n                       Union_Code  Year  \n0                             NaN  2008  \n1                             NaN  2008  \n2                             NaN  2008  \n3  United Mine Workers of America  2008  \n4                             NaN  2008  "
       },
       "execution_count": 3,
       "metadata": {},
       "output_type": "execute_result"
      }
     ],
     "persistentId": "485fd437-4a7e-4b5e-9bde-56e0149bce67",
     "text": "df = pd.read_csv(\"../data/coal_prod_cleaned.csv\")\ndf.head()"
    },
    "executionTime": "2019-09-12T03:08:14.445Z"
   },
   {
    "cell": {
     "executionCount": 4,
     "executionEventId": "a8919043-b622-401c-a1ba-2bd68f77e102",
     "hasError": false,
     "id": "fc687156-306b-4928-99b0-24a8550a3377",
     "outputs": [
      {
       "data": {
        "text/plain": "(9042, 16)"
       },
       "execution_count": 4,
       "metadata": {},
       "output_type": "execute_result"
      }
     ],
     "persistentId": "0ea84efc-6839-41e9-9ed2-0cfdf5cdc1f8",
     "text": "df.shape"
    },
    "executionTime": "2019-09-12T03:08:14.990Z"
   },
   {
    "cell": {
     "executionCount": 5,
     "executionEventId": "17200b7d-b76d-47e4-bda8-f30f88fba551",
     "hasError": false,
     "id": "d10e735b-23a4-40ce-8141-21d0afed36de",
     "outputs": [
      {
       "data": {
        "text/plain": "Index(['MSHA_ID', 'Average_Employees', 'Company_Type', 'Labor_Hours',\n       'Mine_Basin', 'Mine_County', 'Mine_Name', 'Mine_State', 'Mine_Status',\n       'Mine_Type', 'Operating_Company', 'Operating_Company_Address',\n       'Operation_Type', 'Production_short_tons', 'Union_Code', 'Year'],\n      dtype='object')"
       },
       "execution_count": 5,
       "metadata": {},
       "output_type": "execute_result"
      }
     ],
     "persistentId": "3c9ad4a4-9d74-49e0-99c1-b09505a8ea75",
     "text": "df.columns"
    },
    "executionTime": "2019-09-12T03:08:15.999Z"
   },
   {
    "cell": {
     "executionCount": 6,
     "executionEventId": "12b40282-c562-46a7-9e2b-2dbe34244bee",
     "hasError": false,
     "id": "ac836a6a-5590-428e-a72c-36faffc9d4df",
     "outputs": [
      {
       "data": {
        "application/vnd.jupyter.widget-view+json": {
         "model_id": "b60c57fd3cf140029a4cfc877f374709",
         "version_major": 2,
         "version_minor": 0
        },
        "text/plain": "QgridWidget(grid_options={'fullWidthRows': True, 'syncColumnCellResize': True, 'forceFitColumns': True, 'defau…"
       },
       "metadata": {},
       "output_type": "display_data"
      }
     ],
     "persistentId": "c5743058-b0b7-4bd4-8821-498c36202977",
     "text": "qgrid_widget = qgrid.show_grid(\n    df[[\"Year\", \"Mine_State\", \"Labor_Hours\", \"Production_short_tons\"]],\n    show_toolbar=True,\n)\nqgrid_widget"
    },
    "executionTime": "2019-09-12T03:08:16.460Z"
   },
   {
    "cell": {
     "executionCount": 7,
     "executionEventId": "7106cba0-8285-4003-be14-5f2a41955bd2",
     "hasError": false,
     "id": "ac836a6a-5590-428e-a72c-36faffc9d4df",
     "outputs": [
      {
       "data": {
        "application/vnd.jupyter.widget-view+json": {
         "model_id": "854fb5c499ac46a3b1c3f4227d7ef1d9",
         "version_major": 2,
         "version_minor": 0
        },
        "text/plain": "QgridWidget(grid_options={'fullWidthRows': True, 'syncColumnCellResize': True, 'forceFitColumns': True, 'defau…"
       },
       "metadata": {},
       "output_type": "display_data"
      }
     ],
     "persistentId": "c5743058-b0b7-4bd4-8821-498c36202977",
     "text": "qgrid_widget = qgrid.show_grid(\n    df[[\"Year\", \"Mine_State\", \"Labor_Hours\", \"Production_short_tons\"]],\n    show_toolbar=True,\n)\nqgrid_widget"
    },
    "executionTime": "2019-09-12T03:08:18.383Z"
   },
   {
    "cell": {
     "executionCount": 1,
     "executionEventId": "aaf645b3-841b-4905-b9b1-89eb92101f05",
     "hasError": false,
     "id": "53124313-cf57-4d08-a8e2-f7c8c6c6bf62",
     "outputs": [
      {
       "data": {
        "application/javascript": "\n    require(['notebook/js/codecell'], function(codecell) {\n      // https://github.com/jupyter/notebook/issues/2453\n      codecell.CodeCell.options_default.highlight_modes['magic_text/x-sql'] = {'reg':[/^%read_sql/, /.*=\\s*%read_sql/,\n                                                                                      /^%%read_sql/]};\n      Jupyter.notebook.events.one('kernel_ready.Kernel', function(){\n          console.log('BBBBB');\n          Jupyter.notebook.get_cells().map(function(cell){\n              if (cell.cell_type == 'code'){ cell.auto_highlight(); } }) ;\n      });\n    });\n    "
       },
       "metadata": {},
       "output_type": "display_data"
      }
     ],
     "persistentId": "8963a4cc-1cde-40a2-b3a9-110d5012ee31",
     "text": "from __future__ import print_function, division\nimport matplotlib as mpl\nimport matplotlib.pyplot as plt\n%matplotlib inline\n\nimport numpy as np\nimport pandas as pd\nimport textwrap\nimport os\nimport sys\nimport warnings\nwarnings.filterwarnings('ignore')\n\n# special things\nfrom pivottablejs import pivot_ui\nfrom ipywidgets import FloatSlider, interactive, IntSlider\nfrom scipy import interpolate\n\n# sql\n%load_ext sql_magic\nimport sqlalchemy\nimport sqlite3\nfrom sqlalchemy import create_engine\nsqlite_engine = create_engine('sqlite://')\n\n# autoreload\n%load_ext autoreload\n%autoreload 1\n# %aimport module_to_reload\n\n# ehh...\n# import bqplot.pyplot as plt\nimport ipyvolume as ipv\nimport altair as alt\nfrom vega_datasets import data\n\nimport seaborn as sns\nsns.set_context('poster', font_scale=1.3)"
    },
    "executionTime": "2019-09-12T03:08:53.710Z"
   },
   {
    "cell": {
     "executionCount": 2,
     "executionEventId": "d00edb64-7d5a-4876-a183-140056e6e53e",
     "hasError": false,
     "id": "acca2689-c99d-4374-8143-12f43a1e9006",
     "outputs": [],
     "persistentId": "a4ad4eac-6abd-4254-a2df-c9e2bfb41c80",
     "text": "import qgrid\nfrom sklearn.datasets import load_boston"
    },
    "executionTime": "2019-09-12T03:08:53.881Z"
   },
   {
    "cell": {
     "executionCount": 3,
     "executionEventId": "0159f2e6-0912-4bdb-8ced-100a37706188",
     "hasError": false,
     "id": "4a71f282-6c13-4b85-8be8-8d1ba781491d",
     "outputs": [
      {
       "data": {
        "text/html": "<div>\n<style scoped>\n    .dataframe tbody tr th:only-of-type {\n        vertical-align: middle;\n    }\n\n    .dataframe tbody tr th {\n        vertical-align: top;\n    }\n\n    .dataframe thead th {\n        text-align: right;\n    }\n</style>\n<table border=\"1\" class=\"dataframe\">\n  <thead>\n    <tr style=\"text-align: right;\">\n      <th></th>\n      <th>MSHA_ID</th>\n      <th>Average_Employees</th>\n      <th>Company_Type</th>\n      <th>Labor_Hours</th>\n      <th>Mine_Basin</th>\n      <th>Mine_County</th>\n      <th>Mine_Name</th>\n      <th>Mine_State</th>\n      <th>Mine_Status</th>\n      <th>Mine_Type</th>\n      <th>Operating_Company</th>\n      <th>Operating_Company_Address</th>\n      <th>Operation_Type</th>\n      <th>Production_short_tons</th>\n      <th>Union_Code</th>\n      <th>Year</th>\n    </tr>\n  </thead>\n  <tbody>\n    <tr>\n      <td>0</td>\n      <td>103295</td>\n      <td>18.0</td>\n      <td>Independent Producer Operator</td>\n      <td>39175.0</td>\n      <td>Appalachia Southern</td>\n      <td>Bibb</td>\n      <td>Seymour Mine</td>\n      <td>Alabama</td>\n      <td>Active</td>\n      <td>Surface</td>\n      <td>Hope Coal Company Inc</td>\n      <td>P.O. Box 249, Maylene, AL 35114</td>\n      <td>Mine only</td>\n      <td>105082.0</td>\n      <td>NaN</td>\n      <td>2008</td>\n    </tr>\n    <tr>\n      <td>1</td>\n      <td>103117</td>\n      <td>19.0</td>\n      <td>Operating Subsidiary</td>\n      <td>29926.0</td>\n      <td>Appalachia Southern</td>\n      <td>Cullman</td>\n      <td>Mine #2, #3, #4</td>\n      <td>Alabama</td>\n      <td>Active, men working, not producing</td>\n      <td>Surface</td>\n      <td>Twin Pines Coal Company Inc</td>\n      <td>1874 County Road 15, Bremen, AL 35033</td>\n      <td>Mine only</td>\n      <td>10419.0</td>\n      <td>NaN</td>\n      <td>2008</td>\n    </tr>\n    <tr>\n      <td>2</td>\n      <td>103361</td>\n      <td>20.0</td>\n      <td>Operating Subsidiary</td>\n      <td>42542.0</td>\n      <td>Appalachia Southern</td>\n      <td>Cullman</td>\n      <td>Cold Springs West Mine</td>\n      <td>Alabama</td>\n      <td>Active</td>\n      <td>Surface</td>\n      <td>Twin Pines Coal Company</td>\n      <td>74 Industrial Parkway, Jasper, AL 35502</td>\n      <td>Mine only</td>\n      <td>143208.0</td>\n      <td>NaN</td>\n      <td>2008</td>\n    </tr>\n    <tr>\n      <td>3</td>\n      <td>100759</td>\n      <td>395.0</td>\n      <td>Operating Subsidiary</td>\n      <td>890710.0</td>\n      <td>Appalachia Southern</td>\n      <td>Fayette</td>\n      <td>North River # 1 Underground Mi</td>\n      <td>Alabama</td>\n      <td>Active</td>\n      <td>Underground</td>\n      <td>Chevron Mining Inc</td>\n      <td>3114 County Road 63 S, Berry, AL 35546</td>\n      <td>Mine and Preparation Plant</td>\n      <td>2923261.0</td>\n      <td>United Mine Workers of America</td>\n      <td>2008</td>\n    </tr>\n    <tr>\n      <td>4</td>\n      <td>103246</td>\n      <td>22.0</td>\n      <td>Independent Producer Operator</td>\n      <td>55403.0</td>\n      <td>Appalachia Southern</td>\n      <td>Franklin</td>\n      <td>Bear Creek</td>\n      <td>Alabama</td>\n      <td>Active</td>\n      <td>Surface</td>\n      <td>Birmingham Coal &amp; Coke Co., In</td>\n      <td>912 Edenton Street, Birmingham, AL 35242</td>\n      <td>Mine only</td>\n      <td>183137.0</td>\n      <td>NaN</td>\n      <td>2008</td>\n    </tr>\n  </tbody>\n</table>\n</div>",
        "text/plain": "   MSHA_ID  Average_Employees                   Company_Type  Labor_Hours  \\\n0   103295               18.0  Independent Producer Operator      39175.0   \n1   103117               19.0           Operating Subsidiary      29926.0   \n2   103361               20.0           Operating Subsidiary      42542.0   \n3   100759              395.0           Operating Subsidiary     890710.0   \n4   103246               22.0  Independent Producer Operator      55403.0   \n\n            Mine_Basin Mine_County                       Mine_Name Mine_State  \\\n0  Appalachia Southern        Bibb                    Seymour Mine    Alabama   \n1  Appalachia Southern     Cullman                 Mine #2, #3, #4    Alabama   \n2  Appalachia Southern     Cullman          Cold Springs West Mine    Alabama   \n3  Appalachia Southern     Fayette  North River # 1 Underground Mi    Alabama   \n4  Appalachia Southern    Franklin                      Bear Creek    Alabama   \n\n                          Mine_Status    Mine_Type  \\\n0                              Active      Surface   \n1  Active, men working, not producing      Surface   \n2                              Active      Surface   \n3                              Active  Underground   \n4                              Active      Surface   \n\n                Operating_Company                 Operating_Company_Address  \\\n0           Hope Coal Company Inc           P.O. Box 249, Maylene, AL 35114   \n1     Twin Pines Coal Company Inc     1874 County Road 15, Bremen, AL 35033   \n2         Twin Pines Coal Company   74 Industrial Parkway, Jasper, AL 35502   \n3              Chevron Mining Inc    3114 County Road 63 S, Berry, AL 35546   \n4  Birmingham Coal & Coke Co., In  912 Edenton Street, Birmingham, AL 35242   \n\n               Operation_Type  Production_short_tons  \\\n0                   Mine only               105082.0   \n1                   Mine only                10419.0   \n2                   Mine only               143208.0   \n3  Mine and Preparation Plant              2923261.0   \n4                   Mine only               183137.0   \n\n                       Union_Code  Year  \n0                             NaN  2008  \n1                             NaN  2008  \n2                             NaN  2008  \n3  United Mine Workers of America  2008  \n4                             NaN  2008  "
       },
       "execution_count": 3,
       "metadata": {},
       "output_type": "execute_result"
      }
     ],
     "persistentId": "485fd437-4a7e-4b5e-9bde-56e0149bce67",
     "text": "df = pd.read_csv(\"../data/coal_prod_cleaned.csv\")\ndf.head()"
    },
    "executionTime": "2019-09-12T03:08:53.969Z"
   },
   {
    "cell": {
     "executionCount": 4,
     "executionEventId": "e3dc22f7-419e-4c7b-b314-9c366c35099a",
     "hasError": false,
     "id": "fc687156-306b-4928-99b0-24a8550a3377",
     "outputs": [
      {
       "data": {
        "text/plain": "(9042, 16)"
       },
       "execution_count": 4,
       "metadata": {},
       "output_type": "execute_result"
      }
     ],
     "persistentId": "0ea84efc-6839-41e9-9ed2-0cfdf5cdc1f8",
     "text": "df.shape"
    },
    "executionTime": "2019-09-12T03:08:53.982Z"
   },
   {
    "cell": {
     "executionCount": 5,
     "executionEventId": "ce4ea0f5-4b61-4754-ac3c-3bd4196dc349",
     "hasError": false,
     "id": "d10e735b-23a4-40ce-8141-21d0afed36de",
     "outputs": [
      {
       "data": {
        "text/plain": "Index(['MSHA_ID', 'Average_Employees', 'Company_Type', 'Labor_Hours',\n       'Mine_Basin', 'Mine_County', 'Mine_Name', 'Mine_State', 'Mine_Status',\n       'Mine_Type', 'Operating_Company', 'Operating_Company_Address',\n       'Operation_Type', 'Production_short_tons', 'Union_Code', 'Year'],\n      dtype='object')"
       },
       "execution_count": 5,
       "metadata": {},
       "output_type": "execute_result"
      }
     ],
     "persistentId": "3c9ad4a4-9d74-49e0-99c1-b09505a8ea75",
     "text": "df.columns"
    },
    "executionTime": "2019-09-12T03:08:53.987Z"
   },
   {
    "cell": {
     "executionCount": 6,
     "executionEventId": "03881629-5cd5-4375-8c92-16b676f5baab",
     "hasError": false,
     "id": "ac836a6a-5590-428e-a72c-36faffc9d4df",
     "outputs": [
      {
       "data": {
        "application/vnd.jupyter.widget-view+json": {
         "model_id": "f410527e911441128e89cc586848aff5",
         "version_major": 2,
         "version_minor": 0
        },
        "text/plain": "QgridWidget(grid_options={'fullWidthRows': True, 'syncColumnCellResize': True, 'forceFitColumns': True, 'defau…"
       },
       "metadata": {},
       "output_type": "display_data"
      }
     ],
     "persistentId": "c5743058-b0b7-4bd4-8821-498c36202977",
     "text": "qgrid_widget = qgrid.show_grid(\n    df[[\"Year\", \"Mine_State\", \"Labor_Hours\", \"Production_short_tons\"]],\n    show_toolbar=True,\n)\nqgrid_widget"
    },
    "executionTime": "2019-09-12T03:08:54.034Z"
   },
   {
    "cell": {
     "executionCount": 7,
     "executionEventId": "b0bb689e-148c-4e8c-b9d9-5d5960be0869",
     "hasError": false,
     "id": "bb733dab-ef1c-472b-970d-4e0809d8da0a",
     "outputs": [],
     "persistentId": "d2d96c75-0987-4221-b426-3760dc06d90c",
     "text": "df2 = df[df['Mine_State'] != \"Wyoming\"].groupby('Mine_State').sum()"
    },
    "executionTime": "2019-09-12T03:08:54.057Z"
   },
   {
    "cell": {
     "executionCount": 8,
     "executionEventId": "e8074437-e1c6-4342-b461-c891426fc412",
     "hasError": true,
     "id": "53badecc-5b29-464b-84ae-21432303887d",
     "outputs": [
      {
       "ename": "NameError",
       "evalue": "name 'df3' is not defined",
       "output_type": "error",
       "traceback": [
        "\u001b[0;31m---------------------------------------------------------------------------\u001b[0m",
        "\u001b[0;31mNameError\u001b[0m                                 Traceback (most recent call last)",
        "\u001b[0;32m<ipython-input-8-7c84a26756d0>\u001b[0m in \u001b[0;36m<module>\u001b[0;34m\u001b[0m\n\u001b[1;32m      1\u001b[0m \u001b[0mfig\u001b[0m\u001b[0;34m,\u001b[0m \u001b[0max\u001b[0m \u001b[0;34m=\u001b[0m \u001b[0mplt\u001b[0m\u001b[0;34m.\u001b[0m\u001b[0msubplots\u001b[0m\u001b[0;34m(\u001b[0m\u001b[0mfigsize\u001b[0m\u001b[0;34m=\u001b[0m\u001b[0;34m(\u001b[0m\u001b[0;36m10\u001b[0m\u001b[0;34m,\u001b[0m \u001b[0;36m8\u001b[0m\u001b[0;34m)\u001b[0m\u001b[0;34m)\u001b[0m\u001b[0;34m\u001b[0m\u001b[0;34m\u001b[0m\u001b[0m\n\u001b[0;32m----> 2\u001b[0;31m \u001b[0msns\u001b[0m\u001b[0;34m.\u001b[0m\u001b[0mregplot\u001b[0m\u001b[0;34m(\u001b[0m\u001b[0mdf3\u001b[0m\u001b[0;34m[\u001b[0m\u001b[0;34m'Labor_Hours'\u001b[0m\u001b[0;34m]\u001b[0m\u001b[0;34m,\u001b[0m \u001b[0mdf3\u001b[0m\u001b[0;34m[\u001b[0m\u001b[0;34m'Production_short_tons'\u001b[0m\u001b[0;34m]\u001b[0m\u001b[0;34m,\u001b[0m \u001b[0max\u001b[0m\u001b[0;34m=\u001b[0m\u001b[0max\u001b[0m\u001b[0;34m,\u001b[0m \u001b[0mcolor\u001b[0m\u001b[0;34m=\u001b[0m\u001b[0msns\u001b[0m\u001b[0;34m.\u001b[0m\u001b[0mcolor_palette\u001b[0m\u001b[0;34m(\u001b[0m\u001b[0;34m)\u001b[0m\u001b[0;34m[\u001b[0m\u001b[0;36m2\u001b[0m\u001b[0;34m]\u001b[0m\u001b[0;34m)\u001b[0m\u001b[0;34m\u001b[0m\u001b[0;34m\u001b[0m\u001b[0m\n\u001b[0m\u001b[1;32m      3\u001b[0m \u001b[0max\u001b[0m\u001b[0;34m.\u001b[0m\u001b[0mset_xlabel\u001b[0m\u001b[0;34m(\u001b[0m\u001b[0;34m\"Labor Hours Worked\"\u001b[0m\u001b[0;34m)\u001b[0m\u001b[0;34m\u001b[0m\u001b[0;34m\u001b[0m\u001b[0m\n\u001b[1;32m      4\u001b[0m \u001b[0max\u001b[0m\u001b[0;34m.\u001b[0m\u001b[0mset_ylabel\u001b[0m\u001b[0;34m(\u001b[0m\u001b[0;34m\"Total Amount Produced\"\u001b[0m\u001b[0;34m)\u001b[0m\u001b[0;34m\u001b[0m\u001b[0;34m\u001b[0m\u001b[0m\n\u001b[1;32m      5\u001b[0m \u001b[0mx\u001b[0m \u001b[0;34m=\u001b[0m \u001b[0max\u001b[0m\u001b[0;34m.\u001b[0m\u001b[0mset_xlim\u001b[0m\u001b[0;34m(\u001b[0m\u001b[0;34m-\u001b[0m\u001b[0;36m9506023.213266129\u001b[0m\u001b[0;34m,\u001b[0m \u001b[0;36m204993853.21326613\u001b[0m\u001b[0;34m)\u001b[0m\u001b[0;34m\u001b[0m\u001b[0;34m\u001b[0m\u001b[0m\n",
        "\u001b[0;31mNameError\u001b[0m: name 'df3' is not defined"
       ]
      },
      {
       "data": {
        "image/png": "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\n",
        "text/plain": "<Figure size 720x576 with 1 Axes>"
       },
       "metadata": {
        "needs_background": "light"
       },
       "output_type": "display_data"
      }
     ],
     "persistentId": "a4af6eef-f777-41c4-a747-040f367953d9",
     "text": "fig, ax = plt.subplots(figsize=(10, 8))\nsns.regplot(df3['Labor_Hours'], df3['Production_short_tons'], ax=ax, color=sns.color_palette()[2])\nax.set_xlabel(\"Labor Hours Worked\")\nax.set_ylabel(\"Total Amount Produced\") \nx = ax.set_xlim(-9506023.213266129, 204993853.21326613)\ny = ax.set_ylim(-51476801.43653282, 746280580.4034251)\nfig.tight_layout()\nfig.savefig(\"../img/production-vs-hours-worked.png\")"
    },
    "executionTime": "2019-09-12T03:08:54.490Z"
   }
  ],
  "kernelspec": {
   "display_name": "dspy3",
   "language": "python",
   "name": "dspy3"
  },
  "language_info": {
   "codemirror_mode": {
    "name": "ipython",
    "version": 3
   },
   "file_extension": ".py",
   "mimetype": "text/x-python",
   "name": "python",
   "nbconvert_exporter": "python",
   "pygments_lexer": "ipython3",
   "version": "3.6.11"
  },
  "toc": {
   "base_numbering": 1,
   "nav_menu": {},
   "number_sections": true,
   "sideBar": true,
   "skip_h1_title": false,
   "title_cell": "Table of Contents",
   "title_sidebar": "Contents",
   "toc_cell": false,
   "toc_position": {},
   "toc_section_display": true,
   "toc_window_display": false
  },
  "uuid": "be58b219-3102-4b44-ace8-af3b528a4e98",
  "varInspector": {
   "cols": {
    "lenName": 16,
    "lenType": 16,
    "lenVar": 40
   },
   "kernels_config": {
    "python": {
     "delete_cmd_postfix": "",
     "delete_cmd_prefix": "del ",
     "library": "var_list.py",
     "varRefreshCmd": "print(var_dic_list())"
    },
    "r": {
     "delete_cmd_postfix": ") ",
     "delete_cmd_prefix": "rm(",
     "library": "var_list.r",
     "varRefreshCmd": "cat(var_dic_list()) "
    }
   },
   "position": {
    "height": "295.4px",
    "left": "722px",
    "right": "20px",
    "top": "144px",
    "width": "350px"
   },
   "types_to_exclude": [
    "module",
    "function",
    "builtin_function_or_method",
    "instance",
    "_Feature"
   ],
   "window_display": false
  }
 },
 "nbformat": 4,
 "nbformat_minor": 4
}
