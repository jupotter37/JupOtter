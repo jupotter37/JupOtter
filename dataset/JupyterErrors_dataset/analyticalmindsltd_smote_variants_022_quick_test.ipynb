{
 "cells": [
  {
   "cell_type": "code",
   "execution_count": 3,
   "metadata": {},
   "outputs": [],
   "source": [
    "import numpy as np\n",
    "from smote_variants import NoSMOTE"
   ]
  },
  {
   "cell_type": "code",
   "execution_count": 6,
   "metadata": {},
   "outputs": [
    {
     "name": "stderr",
     "output_type": "stream",
     "text": [
      "2022-08-15 20:17:55,920:INFO:NoSMOTE: Running sampling via ('NoSMOTE', \"{'raise_value_error': False, 'raise_runtime_error': True, 'random_state': None, 'class_name': 'NoSMOTE'}\")\n"
     ]
    },
    {
     "ename": "ValueError",
     "evalue": "Dummy RuntimeError raised by NoSMOTE",
     "output_type": "error",
     "traceback": [
      "\u001b[0;31m---------------------------------------------------------------------------\u001b[0m",
      "\u001b[0;31mValueError\u001b[0m                                Traceback (most recent call last)",
      "\u001b[1;32m/home/gykovacs/workspaces/smote_variants/notebooks/experiments/022_quick_test.ipynb Cell 2\u001b[0m in \u001b[0;36m<cell line: 1>\u001b[0;34m()\u001b[0m\n\u001b[0;32m----> <a href='vscode-notebook-cell://wsl%2Bubuntu-20.04/home/gykovacs/workspaces/smote_variants/notebooks/experiments/022_quick_test.ipynb#W1sdnNjb2RlLXJlbW90ZQ%3D%3D?line=0'>1</a>\u001b[0m NoSMOTE(raise_runtime_error\u001b[39m=\u001b[39;49m\u001b[39mTrue\u001b[39;49;00m)\u001b[39m.\u001b[39;49msample(np\u001b[39m.\u001b[39;49marray([[\u001b[39m1\u001b[39;49m, \u001b[39m2\u001b[39;49m], \n\u001b[1;32m      <a href='vscode-notebook-cell://wsl%2Bubuntu-20.04/home/gykovacs/workspaces/smote_variants/notebooks/experiments/022_quick_test.ipynb#W1sdnNjb2RlLXJlbW90ZQ%3D%3D?line=1'>2</a>\u001b[0m                                                 [\u001b[39m2\u001b[39;49m, \u001b[39m3\u001b[39;49m],\n\u001b[1;32m      <a href='vscode-notebook-cell://wsl%2Bubuntu-20.04/home/gykovacs/workspaces/smote_variants/notebooks/experiments/022_quick_test.ipynb#W1sdnNjb2RlLXJlbW90ZQ%3D%3D?line=2'>3</a>\u001b[0m                                                 [\u001b[39m3\u001b[39;49m, \u001b[39m4\u001b[39;49m],\n\u001b[1;32m      <a href='vscode-notebook-cell://wsl%2Bubuntu-20.04/home/gykovacs/workspaces/smote_variants/notebooks/experiments/022_quick_test.ipynb#W1sdnNjb2RlLXJlbW90ZQ%3D%3D?line=3'>4</a>\u001b[0m                                                 [\u001b[39m4\u001b[39;49m, \u001b[39m5\u001b[39;49m],\n\u001b[1;32m      <a href='vscode-notebook-cell://wsl%2Bubuntu-20.04/home/gykovacs/workspaces/smote_variants/notebooks/experiments/022_quick_test.ipynb#W1sdnNjb2RlLXJlbW90ZQ%3D%3D?line=4'>5</a>\u001b[0m                                                 [\u001b[39m5\u001b[39;49m, \u001b[39m6\u001b[39;49m],\n\u001b[1;32m      <a href='vscode-notebook-cell://wsl%2Bubuntu-20.04/home/gykovacs/workspaces/smote_variants/notebooks/experiments/022_quick_test.ipynb#W1sdnNjb2RlLXJlbW90ZQ%3D%3D?line=5'>6</a>\u001b[0m                                                 [\u001b[39m6\u001b[39;49m, \u001b[39m7\u001b[39;49m],\n\u001b[1;32m      <a href='vscode-notebook-cell://wsl%2Bubuntu-20.04/home/gykovacs/workspaces/smote_variants/notebooks/experiments/022_quick_test.ipynb#W1sdnNjb2RlLXJlbW90ZQ%3D%3D?line=6'>7</a>\u001b[0m                                                 [\u001b[39m7\u001b[39;49m, \u001b[39m8\u001b[39;49m]]), np\u001b[39m.\u001b[39;49marray([\u001b[39m0\u001b[39;49m, \u001b[39m0\u001b[39;49m, \u001b[39m0\u001b[39;49m, \u001b[39m0\u001b[39;49m, \u001b[39m1\u001b[39;49m, \u001b[39m1\u001b[39;49m, \u001b[39m1\u001b[39;49m]))\n",
      "File \u001b[0;32m~/workspaces/smote_variants/smote_variants/base/_oversampling.py:232\u001b[0m, in \u001b[0;36mOverSamplingBase.sample\u001b[0;34m(self, X, y)\u001b[0m\n\u001b[1;32m    228\u001b[0m             _logger\u001b[39m.\u001b[39minfo(\u001b[39m\"\u001b[39m\u001b[39m%s\u001b[39;00m\u001b[39m: not enough dimensions \u001b[39m\u001b[39m%d\u001b[39;00m\u001b[39m\"\u001b[39m,\n\u001b[1;32m    229\u001b[0m                         \u001b[39mself\u001b[39m\u001b[39m.\u001b[39m\u001b[39m__class__\u001b[39m\u001b[39m.\u001b[39m\u001b[39m__name__\u001b[39m, X\u001b[39m.\u001b[39mshape[\u001b[39m1\u001b[39m])\n\u001b[1;32m    230\u001b[0m             \u001b[39mreturn\u001b[39;00m X\u001b[39m.\u001b[39mcopy(), y\u001b[39m.\u001b[39mcopy()\n\u001b[0;32m--> 232\u001b[0m \u001b[39mreturn\u001b[39;00m \u001b[39mself\u001b[39;49m\u001b[39m.\u001b[39;49msampling_algorithm(X, y)\n",
      "File \u001b[0;32m~/workspaces/smote_variants/smote_variants/oversampling/_nosmote.py:65\u001b[0m, in \u001b[0;36mNoSMOTE.sampling_algorithm\u001b[0;34m(self, X, y)\u001b[0m\n\u001b[1;32m     62\u001b[0m     \u001b[39mraise\u001b[39;00m \u001b[39mValueError\u001b[39;00m(\u001b[39m\"\u001b[39m\u001b[39mDummy ValueError raised by NoSMOTE\u001b[39m\u001b[39m\"\u001b[39m)\n\u001b[1;32m     64\u001b[0m \u001b[39mif\u001b[39;00m \u001b[39mself\u001b[39m\u001b[39m.\u001b[39mraise_runtime_error:\n\u001b[0;32m---> 65\u001b[0m     \u001b[39mraise\u001b[39;00m \u001b[39mValueError\u001b[39;00m(\u001b[39m\"\u001b[39m\u001b[39mDummy RuntimeError raised by NoSMOTE\u001b[39m\u001b[39m\"\u001b[39m)\n\u001b[1;32m     67\u001b[0m \u001b[39mreturn\u001b[39;00m X\u001b[39m.\u001b[39mcopy(), y\u001b[39m.\u001b[39mcopy()\n",
      "\u001b[0;31mValueError\u001b[0m: Dummy RuntimeError raised by NoSMOTE"
     ]
    }
   ],
   "source": [
    "NoSMOTE(raise_runtime_error=True).sample(np.array([[1, 2], \n",
    "                                                [2, 3],\n",
    "                                                [3, 4],\n",
    "                                                [4, 5],\n",
    "                                                [5, 6],\n",
    "                                                [6, 7],\n",
    "                                                [7, 8]]), np.array([0, 0, 0, 0, 1, 1, 1]))"
   ]
  },
  {
   "cell_type": "code",
   "execution_count": 3,
   "metadata": {},
   "outputs": [],
   "source": [
    "from smote_variants.config import suppress_external_warning"
   ]
  },
  {
   "cell_type": "code",
   "execution_count": 5,
   "metadata": {},
   "outputs": [
    {
     "data": {
      "text/plain": [
       "True"
      ]
     },
     "execution_count": 5,
     "metadata": {},
     "output_type": "execute_result"
    }
   ],
   "source": [
    "suppress_external_warning()"
   ]
  },
  {
   "cell_type": "code",
   "execution_count": 6,
   "metadata": {},
   "outputs": [],
   "source": [
    "import smote_variants"
   ]
  },
  {
   "cell_type": "code",
   "execution_count": 7,
   "metadata": {},
   "outputs": [],
   "source": [
    "smote_variants.config.SUPPRESS_EXTERNAL_WARNING = False"
   ]
  },
  {
   "cell_type": "code",
   "execution_count": 8,
   "metadata": {},
   "outputs": [
    {
     "data": {
      "text/plain": [
       "False"
      ]
     },
     "execution_count": 8,
     "metadata": {},
     "output_type": "execute_result"
    }
   ],
   "source": [
    "suppress_external_warning()"
   ]
  },
  {
   "cell_type": "code",
   "execution_count": null,
   "metadata": {},
   "outputs": [],
   "source": []
  }
 ],
 "metadata": {
  "kernelspec": {
   "display_name": "Python 3.10.4 ('smote_variants')",
   "language": "python",
   "name": "python3"
  },
  "language_info": {
   "codemirror_mode": {
    "name": "ipython",
    "version": 3
   },
   "file_extension": ".py",
   "mimetype": "text/x-python",
   "name": "python",
   "nbconvert_exporter": "python",
   "pygments_lexer": "ipython3",
   "version": "3.10.4"
  },
  "orig_nbformat": 4,
  "vscode": {
   "interpreter": {
    "hash": "04ee80b1cee16018cf8dd56bf8f0a10a10cf53a2e8478a33e897f29ae53ad00d"
   }
  }
 },
 "nbformat": 4,
 "nbformat_minor": 2
}
