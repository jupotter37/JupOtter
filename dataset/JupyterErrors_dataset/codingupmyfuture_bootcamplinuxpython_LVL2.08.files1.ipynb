{
  "nbformat": 4,
  "nbformat_minor": 0,
  "metadata": {
    "colab": {
      "provenance": []
    },
    "kernelspec": {
      "name": "python3",
      "display_name": "Python 3"
    },
    "language_info": {
      "name": "python"
    }
  },
  "cells": [
    {
      "cell_type": "markdown",
      "source": [
        "<p><img src=\"https://i.postimg.cc/cCjTSn8r/ss-cumf.png\" alt=\"\" width=\"1280\" height=\"300\" /></p>"
      ],
      "metadata": {
        "id": "_BX09ml1N2EG"
      }
    },
    {
      "cell_type": "markdown",
      "source": [
        "# **ARCHIVOS**\n",
        "\n",
        "Entender un concepto elemental en el tema de rutas:\n",
        "\n",
        "*   Ruta absoluta: parte de la unidad hasta la ubicación del archivo o carpeta\n",
        "*   Ruta relativa: a partir del lugar donde se encuentre ubicado, usted puede ver los archivos hacia adelante o hacia atrás\n",
        "\n",
        "```\n",
        "%%writefile nombre_archivo\n",
        "Nota: solo funciona en notebooks\n",
        "```\n",
        "\n",
        "La extensión en archivos legibles no importa\n",
        "\n",
        "\n",
        "\n",
        "```\n",
        ".csv\n",
        ".txt\n",
        ".tsv\n",
        ".json\n",
        ".py\n",
        "etc\n",
        "```\n",
        "\n",
        "\n",
        "\n"
      ],
      "metadata": {
        "id": "Q4h5Vw_4N3kv"
      }
    },
    {
      "cell_type": "code",
      "source": [
        "%%writefile archivo_prueba\n",
        "hola\n",
        "es un archivo\n",
        "de prueba"
      ],
      "metadata": {
        "colab": {
          "base_uri": "https://localhost:8080/"
        },
        "id": "oVN91bKi1HTJ",
        "outputId": "f8a3dfa1-8ec3-4c8d-c254-586ae89fda18"
      },
      "execution_count": 14,
      "outputs": [
        {
          "output_type": "stream",
          "name": "stdout",
          "text": [
            "Overwriting archivo_prueba\n"
          ]
        }
      ]
    },
    {
      "cell_type": "markdown",
      "source": [
        "## **NORMALES**\n",
        "\n",
        "\n",
        "\n",
        "```\n",
        "open(arhivo, modo)\n",
        "w : escritura. Si no existe, lo crea;si existe, lo reemplaza\n",
        "a : crea el fichero si no existe; si existe, agrega nuevo contenido\n",
        "r : lectura del archivo\n",
        "x : modo de escritura para crear un nuevo archivo. En caso de que el archivo exista se emitirá un error de tipo\n",
        "wb: escritura en binario\n",
        "rb: lectura en binario\n",
        "+ : es un modo de escritura/lectura.\n",
        "```\n",
        "\n",
        "\n",
        "| proceso | consumo |\n",
        "| --- | --- |\n",
        "| memoria | + memoria - procesamiento |\n",
        "| disco | + procesamiento  - memoria|\n",
        "\n",
        "\n",
        "Nota:  si utilizamos el open solito (sin wl with) nosotros seremos los encargados de controlar todos los estados del archivo, ej:\n",
        "\n",
        "\n",
        "\n",
        "1.   cerrar el archivo\n",
        "2.   en cerrar el archivo el caso de excepciones\n",
        "\n",
        "\n",
        "\n",
        "\n",
        "\n",
        "```\n",
        "# Mala práctica\n",
        "open(archivo, modo)\n",
        "\n",
        "# Buena practiva\n",
        "with open(archivo, modo) as soypython:\n",
        "  lógica de archivos\n",
        "```\n",
        "\n",
        "\n"
      ],
      "metadata": {
        "id": "XPVIL1hwN7T0"
      }
    },
    {
      "cell_type": "code",
      "source": [
        "help(\"open\")"
      ],
      "metadata": {
        "id": "1gPr3VMs3t_o",
        "colab": {
          "base_uri": "https://localhost:8080/"
        },
        "outputId": "5308155a-709a-4391-9f8b-bb0ed968f27e"
      },
      "execution_count": 15,
      "outputs": [
        {
          "output_type": "stream",
          "name": "stdout",
          "text": [
            "Help on built-in function open in module io:\n",
            "\n",
            "open(file, mode='r', buffering=-1, encoding=None, errors=None, newline=None, closefd=True, opener=None)\n",
            "    Open file and return a stream.  Raise OSError upon failure.\n",
            "    \n",
            "    file is either a text or byte string giving the name (and the path\n",
            "    if the file isn't in the current working directory) of the file to\n",
            "    be opened or an integer file descriptor of the file to be\n",
            "    wrapped. (If a file descriptor is given, it is closed when the\n",
            "    returned I/O object is closed, unless closefd is set to False.)\n",
            "    \n",
            "    mode is an optional string that specifies the mode in which the file\n",
            "    is opened. It defaults to 'r' which means open for reading in text\n",
            "    mode.  Other common values are 'w' for writing (truncating the file if\n",
            "    it already exists), 'x' for creating and writing to a new file, and\n",
            "    'a' for appending (which on some Unix systems, means that all writes\n",
            "    append to the end of the file regardless of the current seek position).\n",
            "    In text mode, if encoding is not specified the encoding used is platform\n",
            "    dependent: locale.getpreferredencoding(False) is called to get the\n",
            "    current locale encoding. (For reading and writing raw bytes use binary\n",
            "    mode and leave encoding unspecified.) The available modes are:\n",
            "    \n",
            "    ========= ===============================================================\n",
            "    Character Meaning\n",
            "    --------- ---------------------------------------------------------------\n",
            "    'r'       open for reading (default)\n",
            "    'w'       open for writing, truncating the file first\n",
            "    'x'       create a new file and open it for writing\n",
            "    'a'       open for writing, appending to the end of the file if it exists\n",
            "    'b'       binary mode\n",
            "    't'       text mode (default)\n",
            "    '+'       open a disk file for updating (reading and writing)\n",
            "    'U'       universal newline mode (deprecated)\n",
            "    ========= ===============================================================\n",
            "    \n",
            "    The default mode is 'rt' (open for reading text). For binary random\n",
            "    access, the mode 'w+b' opens and truncates the file to 0 bytes, while\n",
            "    'r+b' opens the file without truncation. The 'x' mode implies 'w' and\n",
            "    raises an `FileExistsError` if the file already exists.\n",
            "    \n",
            "    Python distinguishes between files opened in binary and text modes,\n",
            "    even when the underlying operating system doesn't. Files opened in\n",
            "    binary mode (appending 'b' to the mode argument) return contents as\n",
            "    bytes objects without any decoding. In text mode (the default, or when\n",
            "    't' is appended to the mode argument), the contents of the file are\n",
            "    returned as strings, the bytes having been first decoded using a\n",
            "    platform-dependent encoding or using the specified encoding if given.\n",
            "    \n",
            "    'U' mode is deprecated and will raise an exception in future versions\n",
            "    of Python.  It has no effect in Python 3.  Use newline to control\n",
            "    universal newlines mode.\n",
            "    \n",
            "    buffering is an optional integer used to set the buffering policy.\n",
            "    Pass 0 to switch buffering off (only allowed in binary mode), 1 to select\n",
            "    line buffering (only usable in text mode), and an integer > 1 to indicate\n",
            "    the size of a fixed-size chunk buffer.  When no buffering argument is\n",
            "    given, the default buffering policy works as follows:\n",
            "    \n",
            "    * Binary files are buffered in fixed-size chunks; the size of the buffer\n",
            "      is chosen using a heuristic trying to determine the underlying device's\n",
            "      \"block size\" and falling back on `io.DEFAULT_BUFFER_SIZE`.\n",
            "      On many systems, the buffer will typically be 4096 or 8192 bytes long.\n",
            "    \n",
            "    * \"Interactive\" text files (files for which isatty() returns True)\n",
            "      use line buffering.  Other text files use the policy described above\n",
            "      for binary files.\n",
            "    \n",
            "    encoding is the name of the encoding used to decode or encode the\n",
            "    file. This should only be used in text mode. The default encoding is\n",
            "    platform dependent, but any encoding supported by Python can be\n",
            "    passed.  See the codecs module for the list of supported encodings.\n",
            "    \n",
            "    errors is an optional string that specifies how encoding errors are to\n",
            "    be handled---this argument should not be used in binary mode. Pass\n",
            "    'strict' to raise a ValueError exception if there is an encoding error\n",
            "    (the default of None has the same effect), or pass 'ignore' to ignore\n",
            "    errors. (Note that ignoring encoding errors can lead to data loss.)\n",
            "    See the documentation for codecs.register or run 'help(codecs.Codec)'\n",
            "    for a list of the permitted encoding error strings.\n",
            "    \n",
            "    newline controls how universal newlines works (it only applies to text\n",
            "    mode). It can be None, '', '\\n', '\\r', and '\\r\\n'.  It works as\n",
            "    follows:\n",
            "    \n",
            "    * On input, if newline is None, universal newlines mode is\n",
            "      enabled. Lines in the input can end in '\\n', '\\r', or '\\r\\n', and\n",
            "      these are translated into '\\n' before being returned to the\n",
            "      caller. If it is '', universal newline mode is enabled, but line\n",
            "      endings are returned to the caller untranslated. If it has any of\n",
            "      the other legal values, input lines are only terminated by the given\n",
            "      string, and the line ending is returned to the caller untranslated.\n",
            "    \n",
            "    * On output, if newline is None, any '\\n' characters written are\n",
            "      translated to the system default line separator, os.linesep. If\n",
            "      newline is '' or '\\n', no translation takes place. If newline is any\n",
            "      of the other legal values, any '\\n' characters written are translated\n",
            "      to the given string.\n",
            "    \n",
            "    If closefd is False, the underlying file descriptor will be kept open\n",
            "    when the file is closed. This does not work when a file name is given\n",
            "    and must be True in that case.\n",
            "    \n",
            "    A custom opener can be used by passing a callable as *opener*. The\n",
            "    underlying file descriptor for the file object is then obtained by\n",
            "    calling *opener* with (*file*, *flags*). *opener* must return an open\n",
            "    file descriptor (passing os.open as *opener* results in functionality\n",
            "    similar to passing None).\n",
            "    \n",
            "    open() returns a file object whose type depends on the mode, and\n",
            "    through which the standard file operations such as reading and writing\n",
            "    are performed. When open() is used to open a file in a text mode ('w',\n",
            "    'r', 'wt', 'rt', etc.), it returns a TextIOWrapper. When used to open\n",
            "    a file in a binary mode, the returned class varies: in read binary\n",
            "    mode, it returns a BufferedReader; in write binary and append binary\n",
            "    modes, it returns a BufferedWriter, and in read/write mode, it returns\n",
            "    a BufferedRandom.\n",
            "    \n",
            "    It is also possible to use a string or bytearray as a file for both\n",
            "    reading and writing. For strings StringIO can be used like a file\n",
            "    opened in a text mode, and for bytes a BytesIO can be used like a file\n",
            "    opened in a binary mode.\n",
            "\n"
          ]
        }
      ]
    },
    {
      "cell_type": "code",
      "source": [
        "# No se debe hacer | mala práctica\n",
        "archivo = open(\"archivo_prueba\", \"r\")"
      ],
      "metadata": {
        "id": "xvqzqimmgzU_"
      },
      "execution_count": 16,
      "outputs": []
    },
    {
      "cell_type": "markdown",
      "source": [
        "### **readlines**"
      ],
      "metadata": {
        "id": "UAGrYTyY6Ps6"
      }
    },
    {
      "cell_type": "code",
      "source": [
        "# readlines | nos devuelve cada fila del archivo en una lista\n",
        "contenido = archivo.readlines()\n",
        "contenido"
      ],
      "metadata": {
        "colab": {
          "base_uri": "https://localhost:8080/"
        },
        "id": "5NWtCEYJgzSO",
        "outputId": "64431130-ad57-4a16-c74c-b5d2f6689dae"
      },
      "execution_count": 17,
      "outputs": [
        {
          "output_type": "execute_result",
          "data": {
            "text/plain": [
              "['hola\\n', 'es un archivo\\n', 'de prueba\\n']"
            ]
          },
          "metadata": {},
          "execution_count": 17
        }
      ]
    },
    {
      "cell_type": "code",
      "source": [
        "for linea in contenido:\n",
        "  texto = linea.replace(\"\\n\", \"\")\n",
        "  print(texto)\n",
        "  #print(f\" valor : {texto}\")"
      ],
      "metadata": {
        "colab": {
          "base_uri": "https://localhost:8080/"
        },
        "id": "QtmKMR2V55xD",
        "outputId": "c54d9451-7dcf-45e8-b0ac-3f4de6e20e26"
      },
      "execution_count": 18,
      "outputs": [
        {
          "output_type": "stream",
          "name": "stdout",
          "text": [
            "hola\n",
            "es un archivo\n",
            "de prueba\n"
          ]
        }
      ]
    },
    {
      "cell_type": "code",
      "source": [
        "for linea, texto in enumerate(contenido):\n",
        "  texto = texto.replace(\"\\n\", \"\")\n",
        "  print(f\"el # de la línea es: {linea + 1}, valor : {texto}\")"
      ],
      "metadata": {
        "colab": {
          "base_uri": "https://localhost:8080/"
        },
        "id": "-CdnPXPLgzPz",
        "outputId": "b2291241-ea30-40d6-ece8-b13a9056bef6"
      },
      "execution_count": 19,
      "outputs": [
        {
          "output_type": "stream",
          "name": "stdout",
          "text": [
            "el # de la línea es: 1, valor : hola\n",
            "el # de la línea es: 2, valor : es un archivo\n",
            "el # de la línea es: 3, valor : de prueba\n"
          ]
        }
      ]
    },
    {
      "cell_type": "markdown",
      "source": [
        "### **read**"
      ],
      "metadata": {
        "id": "YiBEMoyo6TiV"
      }
    },
    {
      "cell_type": "code",
      "source": [
        "# Nos entrega caracter por caracter\n",
        "archivo = open(\"archivo_prueba\")\n",
        "contenido = archivo.read()\n",
        "for linea in contenido:\n",
        "  print(f\"-- {linea}\")"
      ],
      "metadata": {
        "colab": {
          "base_uri": "https://localhost:8080/"
        },
        "id": "Huexi459gzNJ",
        "outputId": "20779472-ad91-4edc-e5ee-8c78434774b2"
      },
      "execution_count": 20,
      "outputs": [
        {
          "output_type": "stream",
          "name": "stdout",
          "text": [
            "-- h\n",
            "-- o\n",
            "-- l\n",
            "-- a\n",
            "-- \n",
            "\n",
            "-- e\n",
            "-- s\n",
            "--  \n",
            "-- u\n",
            "-- n\n",
            "--  \n",
            "-- a\n",
            "-- r\n",
            "-- c\n",
            "-- h\n",
            "-- i\n",
            "-- v\n",
            "-- o\n",
            "-- \n",
            "\n",
            "-- d\n",
            "-- e\n",
            "--  \n",
            "-- p\n",
            "-- r\n",
            "-- u\n",
            "-- e\n",
            "-- b\n",
            "-- a\n",
            "-- \n",
            "\n"
          ]
        }
      ]
    },
    {
      "cell_type": "markdown",
      "source": [
        "### **readline**"
      ],
      "metadata": {
        "id": "aC1E2duT7Hdv"
      }
    },
    {
      "cell_type": "code",
      "source": [
        "# Ejecución perezosa. Ejecuto y llamo una línea del archivo cuando la necesite\n",
        "archivo = open(\"archivo_prueba\")\n",
        "archivo.readline()\n"
      ],
      "metadata": {
        "colab": {
          "base_uri": "https://localhost:8080/",
          "height": 35
        },
        "id": "mUA0QcIbgzKt",
        "outputId": "49b9d9f3-320f-4c3e-c7db-f13b5c4fed1e"
      },
      "execution_count": 21,
      "outputs": [
        {
          "output_type": "execute_result",
          "data": {
            "text/plain": [
              "'hola\\n'"
            ],
            "application/vnd.google.colaboratory.intrinsic+json": {
              "type": "string"
            }
          },
          "metadata": {},
          "execution_count": 21
        }
      ]
    },
    {
      "cell_type": "code",
      "source": [
        "archivo.readline()"
      ],
      "metadata": {
        "colab": {
          "base_uri": "https://localhost:8080/",
          "height": 35
        },
        "id": "B2HaYh-M7Gxf",
        "outputId": "566e7084-3d2b-4bdb-d59c-0ef0b61cdaef"
      },
      "execution_count": 22,
      "outputs": [
        {
          "output_type": "execute_result",
          "data": {
            "text/plain": [
              "'es un archivo\\n'"
            ],
            "application/vnd.google.colaboratory.intrinsic+json": {
              "type": "string"
            }
          },
          "metadata": {},
          "execution_count": 22
        }
      ]
    },
    {
      "cell_type": "markdown",
      "source": [
        "### **readable**"
      ],
      "metadata": {
        "id": "tq-dcxX273I8"
      }
    },
    {
      "cell_type": "code",
      "source": [
        "archivo = open(\"archivo_prueba\")\n",
        "archivo.readable()"
      ],
      "metadata": {
        "colab": {
          "base_uri": "https://localhost:8080/"
        },
        "id": "4qSMOvmp76KG",
        "outputId": "1bc4da0d-3bef-4af2-eae2-dcc382505529"
      },
      "execution_count": 23,
      "outputs": [
        {
          "output_type": "execute_result",
          "data": {
            "text/plain": [
              "True"
            ]
          },
          "metadata": {},
          "execution_count": 23
        }
      ]
    },
    {
      "cell_type": "code",
      "source": [
        "%%writefile quitar_permisos.txt\n",
        "demo"
      ],
      "metadata": {
        "colab": {
          "base_uri": "https://localhost:8080/"
        },
        "id": "itO8Vt4f7Gu7",
        "outputId": "58e1e329-1c1f-4a74-f99c-6605dcda54ff"
      },
      "execution_count": 24,
      "outputs": [
        {
          "output_type": "stream",
          "name": "stdout",
          "text": [
            "Overwriting quitar_permisos.txt\n"
          ]
        }
      ]
    },
    {
      "cell_type": "code",
      "source": [
        "# Ejemplo demostrativo, se verá en el nivel 5\n",
        "ls -lrt"
      ],
      "metadata": {
        "colab": {
          "base_uri": "https://localhost:8080/",
          "height": 193
        },
        "id": "IhVdECQj7Gsl",
        "outputId": "baade48d-bbb6-484d-fa2d-0d5f1d2a9573"
      },
      "execution_count": 25,
      "outputs": [
        {
          "output_type": "error",
          "ename": "NameError",
          "evalue": "ignored",
          "traceback": [
            "\u001b[0;31m---------------------------------------------------------------------------\u001b[0m",
            "\u001b[0;31mNameError\u001b[0m                                 Traceback (most recent call last)",
            "\u001b[0;32m<ipython-input-25-1380e6378c5b>\u001b[0m in \u001b[0;36m<cell line: 2>\u001b[0;34m()\u001b[0m\n\u001b[1;32m      1\u001b[0m \u001b[0;31m# Ejemplo demostrativo, se verá en el nivel 5\u001b[0m\u001b[0;34m\u001b[0m\u001b[0;34m\u001b[0m\u001b[0m\n\u001b[0;32m----> 2\u001b[0;31m \u001b[0mls\u001b[0m \u001b[0;34m-\u001b[0m\u001b[0mlrt\u001b[0m\u001b[0;34m\u001b[0m\u001b[0;34m\u001b[0m\u001b[0m\n\u001b[0m",
            "\u001b[0;31mNameError\u001b[0m: name 'ls' is not defined"
          ]
        }
      ]
    },
    {
      "cell_type": "code",
      "source": [
        "!chmod 000 quitar_permisos.txt"
      ],
      "metadata": {
        "id": "jdzjwUaB7Gp8"
      },
      "execution_count": 26,
      "outputs": []
    },
    {
      "cell_type": "code",
      "source": [
        "ls -lrt"
      ],
      "metadata": {
        "id": "3xoYvHB87Gnd"
      },
      "execution_count": null,
      "outputs": []
    },
    {
      "cell_type": "code",
      "source": [
        "# En un sistema local debería funcionar\n",
        "archivo = open(\"quitar_permisos.txt\")\n",
        "archivo.readable()"
      ],
      "metadata": {
        "colab": {
          "base_uri": "https://localhost:8080/"
        },
        "id": "e1Tnn-yr8e4c",
        "outputId": "9352a33d-3e94-4b40-cfd8-e6aa2be8d8b3"
      },
      "execution_count": 27,
      "outputs": [
        {
          "output_type": "execute_result",
          "data": {
            "text/plain": [
              "True"
            ]
          },
          "metadata": {},
          "execution_count": 27
        }
      ]
    },
    {
      "cell_type": "markdown",
      "source": [
        "### **writable**"
      ],
      "metadata": {
        "id": "eyD_U5ZS80iH"
      }
    },
    {
      "cell_type": "code",
      "source": [
        "archivo = open(\"quitar_permisos.txt\")\n",
        "archivo.writable()"
      ],
      "metadata": {
        "colab": {
          "base_uri": "https://localhost:8080/"
        },
        "id": "7vthuXWQgzIA",
        "outputId": "6d9b8b54-821c-4977-c345-d32ea4d41c35"
      },
      "execution_count": 28,
      "outputs": [
        {
          "output_type": "execute_result",
          "data": {
            "text/plain": [
              "False"
            ]
          },
          "metadata": {},
          "execution_count": 28
        }
      ]
    },
    {
      "cell_type": "markdown",
      "source": [
        "### **seekable**"
      ],
      "metadata": {
        "id": "9uvdbCIR8-l5"
      }
    },
    {
      "cell_type": "code",
      "source": [
        "archivo = open(\"archivo_prueba\")\n",
        "archivo.seekable()"
      ],
      "metadata": {
        "colab": {
          "base_uri": "https://localhost:8080/"
        },
        "id": "fMYpHWDS895t",
        "outputId": "81c20e5a-8d44-4765-aff6-81be0faa04b5"
      },
      "execution_count": 29,
      "outputs": [
        {
          "output_type": "execute_result",
          "data": {
            "text/plain": [
              "True"
            ]
          },
          "metadata": {},
          "execution_count": 29
        }
      ]
    },
    {
      "cell_type": "markdown",
      "source": [
        "### **read**"
      ],
      "metadata": {
        "id": "RHh-ODrF_IKf"
      }
    },
    {
      "cell_type": "code",
      "source": [
        "# Lee todo el texto y lo almacena en una variable string\n",
        "# alias = archivo = open(\"quitar_permisos.txt\"), la variable archivo\n",
        "with open(\"archivo_prueba\") as demo:\n",
        "  contenido = demo.read()\n",
        "  print(\"contenido archivo : \\n\")\n",
        "  print(contenido)\n",
        "  print(\" --------\")\n",
        "\n",
        "print(len(contenido), contenido[:5], contenido.upper())"
      ],
      "metadata": {
        "colab": {
          "base_uri": "https://localhost:8080/"
        },
        "id": "xdCMPlHm89Uw",
        "outputId": "b42e9661-354e-4a4e-d76e-4be1b97b5cf4"
      },
      "execution_count": 30,
      "outputs": [
        {
          "output_type": "stream",
          "name": "stdout",
          "text": [
            "contenido archivo : \n",
            "\n",
            "hola\n",
            "es un archivo\n",
            "de prueba\n",
            "\n",
            " --------\n",
            "29 hola\n",
            " HOLA\n",
            "ES UN ARCHIVO\n",
            "DE PRUEBA\n",
            "\n"
          ]
        }
      ]
    },
    {
      "cell_type": "markdown",
      "source": [
        "### **write**"
      ],
      "metadata": {
        "id": "4ym0769JB7lr"
      }
    },
    {
      "cell_type": "code",
      "source": [
        "with open(\"bootcamplvl2.txt\", \"w\") as cualquier_alias:\n",
        "  cualquier_alias.write(\"texto !!!!!!!!\\n\")\n",
        "  cualquier_alias.write(\"otra cosa\")"
      ],
      "metadata": {
        "id": "nHqQxScsgzFg"
      },
      "execution_count": 31,
      "outputs": []
    },
    {
      "cell_type": "code",
      "source": [
        "pwd"
      ],
      "metadata": {
        "colab": {
          "base_uri": "https://localhost:8080/",
          "height": 35
        },
        "id": "lXGin5puImRs",
        "outputId": "7cd8fabc-ec0f-40d2-eacb-6d0f11812225"
      },
      "execution_count": 32,
      "outputs": [
        {
          "output_type": "execute_result",
          "data": {
            "text/plain": [
              "'/content'"
            ],
            "application/vnd.google.colaboratory.intrinsic+json": {
              "type": "string"
            }
          },
          "metadata": {},
          "execution_count": 32
        }
      ]
    },
    {
      "cell_type": "code",
      "source": [
        "ls /content"
      ],
      "metadata": {
        "colab": {
          "base_uri": "https://localhost:8080/"
        },
        "id": "NDaWFwLCIpbS",
        "outputId": "eed0c99b-d2fb-4aa8-85d9-67ec5a14066e"
      },
      "execution_count": 33,
      "outputs": [
        {
          "output_type": "stream",
          "name": "stdout",
          "text": [
            "archivo_prueba  bootcamplvl2.txt  quitar_permisos.txt  \u001b[0m\u001b[01;34msample_data\u001b[0m/\n"
          ]
        }
      ]
    },
    {
      "cell_type": "markdown",
      "source": [
        "### **write modo append**"
      ],
      "metadata": {
        "id": "Lc9ihR0uDhXt"
      }
    },
    {
      "cell_type": "code",
      "source": [
        "with open(\"bootcamplvl2.txt\", \"a\") as cualquier_alias:\n",
        "  cualquier_alias.write(\"clase #8\\n\")\n",
        "  cualquier_alias.write(\"[1,2,3,4, True]\")"
      ],
      "metadata": {
        "id": "vGgT8AFugzCx"
      },
      "execution_count": 34,
      "outputs": []
    },
    {
      "cell_type": "markdown",
      "source": [
        "### **write modo seek**"
      ],
      "metadata": {
        "id": "wk8r6HSDEaHz"
      }
    },
    {
      "cell_type": "code",
      "source": [
        "!cat bootcamplvl2.txt"
      ],
      "metadata": {
        "colab": {
          "base_uri": "https://localhost:8080/"
        },
        "id": "Bynt01J3EPnq",
        "outputId": "6a7aeb4d-3562-4b4a-a4aa-ab42d8c198c3"
      },
      "execution_count": 35,
      "outputs": [
        {
          "output_type": "stream",
          "name": "stdout",
          "text": [
            "texto !!!!!!!!\n",
            "otra cosaclase #8\n",
            "[1,2,3,4, True]"
          ]
        }
      ]
    },
    {
      "cell_type": "code",
      "source": [
        "fl = open(\"bootcamplvl2.txt\").read()"
      ],
      "metadata": {
        "id": "FioWllsYEPks"
      },
      "execution_count": 36,
      "outputs": []
    },
    {
      "cell_type": "code",
      "source": [
        "print(fl[16])\n",
        "print(fl[16:])"
      ],
      "metadata": {
        "colab": {
          "base_uri": "https://localhost:8080/"
        },
        "id": "DLgNAdSCEPhy",
        "outputId": "e9047da0-c80e-4d9d-e330-42f9c66f015a"
      },
      "execution_count": 37,
      "outputs": [
        {
          "output_type": "stream",
          "name": "stdout",
          "text": [
            "t\n",
            "tra cosaclase #8\n",
            "[1,2,3,4, True]\n"
          ]
        }
      ]
    },
    {
      "cell_type": "code",
      "source": [
        "with open(\"bootcamplvl2.txt\", \"a\") as cualquier_alias:\n",
        "  # indicar dónde está el curso\n",
        "  print(cualquier_alias.tell())\n",
        "  print(cualquier_alias.seek(16))\n",
        "  #print(cualquier_alias.seek(1))\n",
        "  cualquier_alias.write(\"profe, me quiero morir \\n\\n\\n\")"
      ],
      "metadata": {
        "colab": {
          "base_uri": "https://localhost:8080/"
        },
        "id": "DOP6-MtTEPfa",
        "outputId": "02db0126-0e94-4ce6-e432-9884b0434f32"
      },
      "execution_count": 38,
      "outputs": [
        {
          "output_type": "stream",
          "name": "stdout",
          "text": [
            "48\n",
            "16\n"
          ]
        }
      ]
    },
    {
      "cell_type": "code",
      "source": [
        "!cat bootcamplvl2.txt"
      ],
      "metadata": {
        "colab": {
          "base_uri": "https://localhost:8080/"
        },
        "id": "vfldcNb_FaoG",
        "outputId": "980906a4-0553-4c6b-b09f-af55163ccd58"
      },
      "execution_count": 39,
      "outputs": [
        {
          "output_type": "stream",
          "name": "stdout",
          "text": [
            "texto !!!!!!!!\n",
            "otra cosaclase #8\n",
            "[1,2,3,4, True]profe, me quiero morir \n",
            "\n",
            "\n"
          ]
        }
      ]
    },
    {
      "cell_type": "markdown",
      "source": [
        "## **PICKLE**\n",
        "\n",
        "**SERIALIZACIÓN**: es una representación binaria o en formato de texto de un objeto de datos que permite su almacenamiento o transmisión de una manera que puede ser posteriormente reconstruida y utilizada. La serialización es útil cuando necesitas guardar objetos de datos en un archivo, enviarlos a través de una red o almacenarlos en una base de datos.\n",
        "\n",
        "<p><img src=\"https://www.scaler.com/topics/images/pickle-python-thumbnail.webp\" alt=\"\" width=\"600\" height=\"300\" /></p>\n",
        "\n",
        "\n",
        "\n",
        "\n",
        "```python\n",
        "import pickle\n",
        "```\n",
        "\n",
        "\n",
        "```\n",
        "dump  -> serializar un objeto dentro de un archivo\n",
        "dumps -> serializar un objeto a nivel de memoria (asignada a un string)\n",
        "load  -> carga archivos serializados y los deserializa\n",
        "loads -> carga deserializa un objeto en memoria\n",
        "```\n",
        "\n"
      ],
      "metadata": {
        "id": "Phok2Xc3N-GM"
      }
    },
    {
      "cell_type": "code",
      "source": [
        "%%writefile lista.txt\n",
        "[\"oscar\", \"elena\", \"deivis\", \"elizabeth\", \"roger\"]"
      ],
      "metadata": {
        "colab": {
          "base_uri": "https://localhost:8080/"
        },
        "id": "o2yL8CjOKFaN",
        "outputId": "98bbba2e-b775-4abb-836a-990770a37040"
      },
      "execution_count": 40,
      "outputs": [
        {
          "output_type": "stream",
          "name": "stdout",
          "text": [
            "Writing lista.txt\n"
          ]
        }
      ]
    },
    {
      "cell_type": "code",
      "source": [
        "lista = open(\"lista.txt\").read()\n",
        "print(lista)"
      ],
      "metadata": {
        "id": "o87tyYenKYdE"
      },
      "execution_count": null,
      "outputs": []
    },
    {
      "cell_type": "code",
      "source": [
        "lista.append(\"luis\")"
      ],
      "metadata": {
        "colab": {
          "base_uri": "https://localhost:8080/",
          "height": 176
        },
        "id": "vdef_stdKjXy",
        "outputId": "c18c9ae4-8ada-42f5-d75d-d1df3286a04c"
      },
      "execution_count": 41,
      "outputs": [
        {
          "output_type": "error",
          "ename": "NameError",
          "evalue": "ignored",
          "traceback": [
            "\u001b[0;31m---------------------------------------------------------------------------\u001b[0m",
            "\u001b[0;31mNameError\u001b[0m                                 Traceback (most recent call last)",
            "\u001b[0;32m<ipython-input-41-4c7d0a2eed0a>\u001b[0m in \u001b[0;36m<cell line: 1>\u001b[0;34m()\u001b[0m\n\u001b[0;32m----> 1\u001b[0;31m \u001b[0mlista\u001b[0m\u001b[0;34m.\u001b[0m\u001b[0mappend\u001b[0m\u001b[0;34m(\u001b[0m\u001b[0;34m\"luis\"\u001b[0m\u001b[0;34m)\u001b[0m\u001b[0;34m\u001b[0m\u001b[0;34m\u001b[0m\u001b[0m\n\u001b[0m",
            "\u001b[0;31mNameError\u001b[0m: name 'lista' is not defined"
          ]
        }
      ]
    },
    {
      "cell_type": "code",
      "source": [
        "lista_casteada = list(lista)"
      ],
      "metadata": {
        "id": "XNWJPnNYKks9",
        "colab": {
          "base_uri": "https://localhost:8080/",
          "height": 176
        },
        "outputId": "7cd541cf-644f-4e29-8cf7-0431ba12580a"
      },
      "execution_count": 42,
      "outputs": [
        {
          "output_type": "error",
          "ename": "NameError",
          "evalue": "ignored",
          "traceback": [
            "\u001b[0;31m---------------------------------------------------------------------------\u001b[0m",
            "\u001b[0;31mNameError\u001b[0m                                 Traceback (most recent call last)",
            "\u001b[0;32m<ipython-input-42-94394b6e8028>\u001b[0m in \u001b[0;36m<cell line: 1>\u001b[0;34m()\u001b[0m\n\u001b[0;32m----> 1\u001b[0;31m \u001b[0mlista_casteada\u001b[0m \u001b[0;34m=\u001b[0m \u001b[0mlist\u001b[0m\u001b[0;34m(\u001b[0m\u001b[0mlista\u001b[0m\u001b[0;34m)\u001b[0m\u001b[0;34m\u001b[0m\u001b[0;34m\u001b[0m\u001b[0m\n\u001b[0m",
            "\u001b[0;31mNameError\u001b[0m: name 'lista' is not defined"
          ]
        }
      ]
    },
    {
      "cell_type": "code",
      "source": [
        "type(lista_casteada)"
      ],
      "metadata": {
        "colab": {
          "base_uri": "https://localhost:8080/",
          "height": 176
        },
        "id": "yRauFtZgKkqN",
        "outputId": "ece0a068-fde4-488c-e76a-f2ad3965a90b"
      },
      "execution_count": 44,
      "outputs": [
        {
          "output_type": "error",
          "ename": "NameError",
          "evalue": "ignored",
          "traceback": [
            "\u001b[0;31m---------------------------------------------------------------------------\u001b[0m",
            "\u001b[0;31mNameError\u001b[0m                                 Traceback (most recent call last)",
            "\u001b[0;32m<ipython-input-44-00abef0c0b17>\u001b[0m in \u001b[0;36m<cell line: 1>\u001b[0;34m()\u001b[0m\n\u001b[0;32m----> 1\u001b[0;31m \u001b[0mtype\u001b[0m\u001b[0;34m(\u001b[0m\u001b[0mlista_casteada\u001b[0m\u001b[0;34m)\u001b[0m\u001b[0;34m\u001b[0m\u001b[0;34m\u001b[0m\u001b[0m\n\u001b[0m",
            "\u001b[0;31mNameError\u001b[0m: name 'lista_casteada' is not defined"
          ]
        }
      ]
    },
    {
      "cell_type": "code",
      "source": [
        "import pickle"
      ],
      "metadata": {
        "id": "1E-VLC6mMaup"
      },
      "execution_count": 45,
      "outputs": []
    },
    {
      "cell_type": "code",
      "source": [
        "lista = [\"oscar\", \"elena\", \"deivis\", \"elizabeth\", \"roger\"]\n",
        "\n",
        "with open(\"my_primer_serializado.pickle\", \"wb\") as mimamamemima:\n",
        "  pickle.dump(lista, mimamamemima)"
      ],
      "metadata": {
        "id": "Pxn0nD2DKknZ"
      },
      "execution_count": 46,
      "outputs": []
    },
    {
      "cell_type": "code",
      "source": [
        "!cat my_primer_serializado.pickle"
      ],
      "metadata": {
        "colab": {
          "base_uri": "https://localhost:8080/"
        },
        "id": "irQK2ufNKkk3",
        "outputId": "2401b03b-041a-4fc5-c8da-2ca098c51b68"
      },
      "execution_count": 47,
      "outputs": [
        {
          "output_type": "stream",
          "name": "stdout",
          "text": [
            "�\u0004�2\u0000\u0000\u0000\u0000\u0000\u0000\u0000]�(�\u0005oscar��\u0005elena��\u0006deivis��\telizabeth��\u0005roger�e."
          ]
        }
      ]
    },
    {
      "cell_type": "code",
      "source": [
        "with open(\"my_primer_serializado.pickle\", \"rb\") as aniania:\n",
        "  valor_cargado = pickle.load(aniania)\n",
        "  print(type(valor_cargado))"
      ],
      "metadata": {
        "colab": {
          "base_uri": "https://localhost:8080/"
        },
        "id": "4moN35e3MWex",
        "outputId": "4d8b88e5-a2e2-464e-c757-402c4df4ba89"
      },
      "execution_count": 48,
      "outputs": [
        {
          "output_type": "stream",
          "name": "stdout",
          "text": [
            "<class 'list'>\n"
          ]
        }
      ]
    },
    {
      "cell_type": "code",
      "source": [
        "valor_cargado[::-1]"
      ],
      "metadata": {
        "colab": {
          "base_uri": "https://localhost:8080/"
        },
        "id": "O42mhOEmKkiR",
        "outputId": "9473cb99-6228-4cf2-864f-4dcb8e86f368"
      },
      "execution_count": 49,
      "outputs": [
        {
          "output_type": "execute_result",
          "data": {
            "text/plain": [
              "['roger', 'elizabeth', 'deivis', 'elena', 'oscar']"
            ]
          },
          "metadata": {},
          "execution_count": 49
        }
      ]
    },
    {
      "cell_type": "code",
      "source": [],
      "metadata": {
        "id": "CrIcAF_harxM"
      },
      "execution_count": 49,
      "outputs": []
    },
    {
      "cell_type": "markdown",
      "source": [
        "## **JSON**\n",
        "\n",
        "\n",
        "JSON (***JavaScript Object Notation***), que significa Notación de Objetos de JavaScript, es un formato de intercambio de datos ligero y legible por humanos. Se utiliza para representar y transmitir datos estructurados entre un servidor y un cliente, o entre diferentes componentes de una aplicación. A continuación, se resumen algunos aspectos clave de JSON:\n",
        "\n",
        "---\n",
        "**TIPOS DE DATOS**\n",
        "\n",
        "<p><img src=\"https://xod.io/docs/guide/reading-json-data/value.gif\" alt=\"\" width=\"600\" height=\"300\" /></p>\n",
        "\n",
        "---\n",
        "**EJEMPLO**\n",
        "\n",
        "\n",
        "\n",
        "```javascript\n",
        "{\n",
        "   \"cadena\": \"Esto es una cadena de texto\",\n",
        "   \"numero\": 42,\n",
        "   \"decimal\": 3.14159,\n",
        "   \"verdadero\": true,\n",
        "   \"falso\": false,\n",
        "   \"nulo\": null,\n",
        "   \"lista\": [1, 2, 3, 4, 5],\n",
        "   \"objeto\": {\n",
        "      \"clave1\": \"valor1\",\n",
        "      \"clave2\": \"valor2\"\n",
        "   }\n",
        "}\n",
        "```\n",
        "\n",
        "---\n",
        "**MAPEO JSON VS PYTHON**\n",
        "\n",
        "<p><img src=\"https://pythontic.com/json_encoding_python.png\" alt=\"\" width=\"600\" height=\"300\" /></p>\n",
        "\n"
      ],
      "metadata": {
        "id": "IcpUE35-OCk9"
      }
    }
  ]
}
