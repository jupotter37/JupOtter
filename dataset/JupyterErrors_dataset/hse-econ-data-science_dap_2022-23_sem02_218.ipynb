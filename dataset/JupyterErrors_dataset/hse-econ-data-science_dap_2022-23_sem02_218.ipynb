{
  "nbformat": 4,
  "nbformat_minor": 0,
  "metadata": {
    "colab": {
      "name": "sem02_218.ipynb",
      "provenance": []
    },
    "kernelspec": {
      "name": "python3",
      "display_name": "Python 3"
    },
    "language_info": {
      "name": "python"
    }
  },
  "cells": [
    {
      "cell_type": "markdown",
      "source": [
        "# Семинар 2 у 218"
      ],
      "metadata": {
        "id": "3dmYpz7i06Hu"
      }
    },
    {
      "cell_type": "code",
      "execution_count": null,
      "metadata": {
        "colab": {
          "base_uri": "https://localhost:8080/",
          "height": 174
        },
        "id": "nOw0T8dddzao",
        "outputId": "5ee32016-752c-4757-af6a-c13d364132d9"
      },
      "outputs": [
        {
          "output_type": "error",
          "ename": "NameError",
          "evalue": "ignored",
          "traceback": [
            "\u001b[0;31m---------------------------------------------------------------------------\u001b[0m",
            "\u001b[0;31mNameError\u001b[0m                                 Traceback (most recent call last)",
            "\u001b[0;32m<ipython-input-1-eaf7b6991020>\u001b[0m in \u001b[0;36m<module>\u001b[0;34m()\u001b[0m\n\u001b[0;32m----> 1\u001b[0;31m \u001b[0mx\u001b[0m \u001b[0;34m+\u001b[0m \u001b[0;36m1\u001b[0m\u001b[0;34m\u001b[0m\u001b[0;34m\u001b[0m\u001b[0m\n\u001b[0m",
            "\u001b[0;31mNameError\u001b[0m: name 'x' is not defined"
          ]
        }
      ],
      "source": [
        "x + 1"
      ]
    },
    {
      "cell_type": "code",
      "source": [
        "print(5)"
      ],
      "metadata": {
        "colab": {
          "base_uri": "https://localhost:8080/"
        },
        "id": "7cXb3Rpoesd3",
        "outputId": "341a6450-9af8-49e1-8d2c-873bce4e922e"
      },
      "execution_count": null,
      "outputs": [
        {
          "output_type": "stream",
          "name": "stdout",
          "text": [
            "5\n"
          ]
        }
      ]
    },
    {
      "cell_type": "markdown",
      "source": [
        "# Условия"
      ],
      "metadata": {
        "id": "YklSrl_3feSb"
      }
    },
    {
      "cell_type": "code",
      "source": [
        "x = 42\n",
        "print(x)"
      ],
      "metadata": {
        "colab": {
          "base_uri": "https://localhost:8080/"
        },
        "id": "LqgjJVzJfd8f",
        "outputId": "fd1f4bbf-ae2c-4bcf-a2c8-41464f57d7bb"
      },
      "execution_count": null,
      "outputs": [
        {
          "output_type": "stream",
          "name": "stdout",
          "text": [
            "42\n"
          ]
        }
      ]
    },
    {
      "cell_type": "code",
      "source": [
        "x < 50"
      ],
      "metadata": {
        "colab": {
          "base_uri": "https://localhost:8080/"
        },
        "id": "sMTtiVvzfd-_",
        "outputId": "cc553d1b-62e3-4910-f307-1aa736c723da"
      },
      "execution_count": null,
      "outputs": [
        {
          "output_type": "execute_result",
          "data": {
            "text/plain": [
              "True"
            ]
          },
          "metadata": {},
          "execution_count": 5
        }
      ]
    },
    {
      "cell_type": "code",
      "source": [
        "x >= 50"
      ],
      "metadata": {
        "colab": {
          "base_uri": "https://localhost:8080/"
        },
        "id": "MS41NyoCfeBh",
        "outputId": "e80ca85e-f2ba-49df-b885-19c18ace6bec"
      },
      "execution_count": null,
      "outputs": [
        {
          "output_type": "execute_result",
          "data": {
            "text/plain": [
              "False"
            ]
          },
          "metadata": {},
          "execution_count": 29
        }
      ]
    },
    {
      "cell_type": "code",
      "source": [
        "x == 42"
      ],
      "metadata": {
        "colab": {
          "base_uri": "https://localhost:8080/"
        },
        "id": "_-uxohBuesls",
        "outputId": "42642a9c-1c50-4626-bb43-ed57780dc36c"
      },
      "execution_count": null,
      "outputs": [
        {
          "output_type": "execute_result",
          "data": {
            "text/plain": [
              "True"
            ]
          },
          "metadata": {},
          "execution_count": 7
        }
      ]
    },
    {
      "cell_type": "code",
      "source": [
        "x != 42"
      ],
      "metadata": {
        "colab": {
          "base_uri": "https://localhost:8080/"
        },
        "id": "98lsecHXjrdl",
        "outputId": "79a12dab-e2d4-4b51-c75f-6786de04f38f"
      },
      "execution_count": null,
      "outputs": [
        {
          "output_type": "execute_result",
          "data": {
            "text/plain": [
              "True"
            ]
          },
          "metadata": {},
          "execution_count": 30
        }
      ]
    },
    {
      "cell_type": "markdown",
      "source": [
        "__Упражнение__ \n",
        "\n",
        "Дано натуральное число. Требуется определить, является ли год с данным номером високосным. Если год является високосным, то выведите YES, иначе выведите NO. \n",
        "\n",
        "> Напомним, что в соответствии с григорианским календарем, год является високосным, если его номер кратен 4, но не кратен 100, а также если он кратен 400."
      ],
      "metadata": {
        "id": "ry2BdMJRgLkx"
      }
    },
    {
      "cell_type": "code",
      "source": [
        "year = int(input())\n",
        "\n",
        "if ((year % 4 == 0) and (year % 100 != 0)) or (year % 400 == 0):\n",
        "    print(\"YES\")\n",
        "else:\n",
        "    print(\"NO\")"
      ],
      "metadata": {
        "colab": {
          "base_uri": "https://localhost:8080/"
        },
        "id": "IxnrC3wDgOHZ",
        "outputId": "b57227ec-8164-4871-9e93-001bd9e92ccf"
      },
      "execution_count": null,
      "outputs": [
        {
          "output_type": "stream",
          "name": "stdout",
          "text": [
            "YES\n"
          ]
        }
      ]
    },
    {
      "cell_type": "code",
      "source": [
        "True and False"
      ],
      "metadata": {
        "colab": {
          "base_uri": "https://localhost:8080/"
        },
        "id": "cEfIT3J3gOMr",
        "outputId": "ef72695a-469a-4c63-bcc3-d1950f345f5a"
      },
      "execution_count": null,
      "outputs": [
        {
          "output_type": "execute_result",
          "data": {
            "text/plain": [
              "False"
            ]
          },
          "metadata": {},
          "execution_count": 11
        }
      ]
    },
    {
      "cell_type": "code",
      "source": [
        "True or False"
      ],
      "metadata": {
        "colab": {
          "base_uri": "https://localhost:8080/"
        },
        "id": "-Ete3MMFfsxF",
        "outputId": "7244a1af-7d82-48ea-a97d-54acc813e1bf"
      },
      "execution_count": null,
      "outputs": [
        {
          "output_type": "execute_result",
          "data": {
            "text/plain": [
              "True"
            ]
          },
          "metadata": {},
          "execution_count": 12
        }
      ]
    },
    {
      "cell_type": "code",
      "source": [
        "to_be = True\n",
        "not to_be"
      ],
      "metadata": {
        "colab": {
          "base_uri": "https://localhost:8080/"
        },
        "id": "y4F4DDz4g-SD",
        "outputId": "f8acc0da-d99f-407e-a45d-91f6dfbfda8d"
      },
      "execution_count": null,
      "outputs": [
        {
          "output_type": "execute_result",
          "data": {
            "text/plain": [
              "False"
            ]
          },
          "metadata": {},
          "execution_count": 13
        }
      ]
    },
    {
      "cell_type": "code",
      "source": [
        "to_be = False\n",
        "to_be or not to_be"
      ],
      "metadata": {
        "colab": {
          "base_uri": "https://localhost:8080/"
        },
        "id": "ni0QC8PCg05u",
        "outputId": "cc255d63-e30c-40d4-cb4b-a25334c9adc3"
      },
      "execution_count": null,
      "outputs": [
        {
          "output_type": "execute_result",
          "data": {
            "text/plain": [
              "True"
            ]
          },
          "metadata": {},
          "execution_count": 15
        }
      ]
    },
    {
      "cell_type": "code",
      "source": [
        "year = 2003\n",
        "\n",
        "# Из условий можно собирать целые башни! \n",
        "if year % 4 == 0:\n",
        "   if year % 100 != 0:\n",
        "       print('YES')\n",
        "   else:\n",
        "       if year % 400 == 0:\n",
        "           print('YES')\n",
        "       else: \n",
        "           print('NO')\n",
        "else:\n",
        "   print('NO')"
      ],
      "metadata": {
        "colab": {
          "base_uri": "https://localhost:8080/"
        },
        "id": "4ZtBzpzkhm3R",
        "outputId": "9190a033-d1b7-478a-a000-9b503507eaf4"
      },
      "execution_count": null,
      "outputs": [
        {
          "output_type": "stream",
          "name": "stdout",
          "text": [
            "NO\n"
          ]
        }
      ]
    },
    {
      "cell_type": "code",
      "source": [
        "year = 2000\n",
        "\n",
        "if ((year % 4 == 0) and (year % 100 != 0)):\n",
        "    print(\"YES\")\n",
        "elif (year % 400 == 0):\n",
        "    print(\"YES\")\n",
        "else:\n",
        "    print(\"NO\")"
      ],
      "metadata": {
        "colab": {
          "base_uri": "https://localhost:8080/"
        },
        "id": "UDn_h6BDhm56",
        "outputId": "1b29f6f1-93f0-48a1-95a4-fe7a9ea996af"
      },
      "execution_count": null,
      "outputs": [
        {
          "output_type": "stream",
          "name": "stdout",
          "text": [
            "YES\n"
          ]
        }
      ]
    },
    {
      "cell_type": "code",
      "source": [
        "x = 15\n",
        "\n",
        "# Хочу печатать YES если кратно 5 либо 3\n",
        "# Хочу печатать NO если кратно 15 или любая другая ситуация\n",
        "\n",
        "# питон работает с условиями лениво и если он наткнулся на первой,\n",
        "# которое выполнилось, он останавливается :(\n",
        "    \n",
        "if (x % 3 == 0) or (x % 5 == 0):\n",
        "    print('YES')\n",
        "elif (x % 15 == 0):\n",
        "    print(\"NO\")\n",
        "else: \n",
        "    print(\"NO\")"
      ],
      "metadata": {
        "colab": {
          "base_uri": "https://localhost:8080/"
        },
        "id": "CkevQuRKhm8H",
        "outputId": "08aa7e21-0ad7-4adc-d37a-137add294b38"
      },
      "execution_count": null,
      "outputs": [
        {
          "output_type": "stream",
          "name": "stdout",
          "text": [
            "YES\n"
          ]
        }
      ]
    },
    {
      "cell_type": "code",
      "source": [
        "if (x % 15 == 0): \n",
        "    print('NO')\n",
        "elif (x % 3 == 0) or (x % 5 == 0):\n",
        "    print(\"YES\")\n",
        "else: \n",
        "    print(\"NO\")"
      ],
      "metadata": {
        "colab": {
          "base_uri": "https://localhost:8080/"
        },
        "id": "2bAr_F_whCHr",
        "outputId": "feffdb12-039f-4a17-e30a-2eb646b7f6c8"
      },
      "execution_count": null,
      "outputs": [
        {
          "output_type": "stream",
          "name": "stdout",
          "text": [
            "NO\n"
          ]
        }
      ]
    },
    {
      "cell_type": "markdown",
      "source": [
        "# Цикл for\n",
        "\n",
        "\n",
        "По данному натуральном n вычислите сумму $1^2 + 2^2 + 3^2 + \\ldots + n^2$.\n",
        "\n"
      ],
      "metadata": {
        "id": "n0_hdIvekWO9"
      }
    },
    {
      "cell_type": "code",
      "source": [
        "s = 0 \n",
        "\n",
        "s = s + 1**2\n",
        "s = s + 2**2\n",
        "s = s + 3**2\n",
        "s = s + 4**2\n",
        "s = s + 5**2\n",
        "s"
      ],
      "metadata": {
        "colab": {
          "base_uri": "https://localhost:8080/"
        },
        "id": "q_DZitfsknhM",
        "outputId": "fe979d21-cc82-4b1c-8991-a5a70d48ff4d"
      },
      "execution_count": null,
      "outputs": [
        {
          "output_type": "execute_result",
          "data": {
            "text/plain": [
              "55"
            ]
          },
          "metadata": {},
          "execution_count": 36
        }
      ]
    },
    {
      "cell_type": "code",
      "source": [
        "n = int(input())\n",
        "\n",
        "s = 0\n",
        "for i in range(1, n + 1):\n",
        "    # s = s + i ** 2\n",
        "    s += i ** 2\n",
        "\n",
        "print(s)"
      ],
      "metadata": {
        "colab": {
          "base_uri": "https://localhost:8080/"
        },
        "id": "RypabRfolMk3",
        "outputId": "4740c834-30ab-4ba5-c01c-19a133b99ea4"
      },
      "execution_count": null,
      "outputs": [
        {
          "output_type": "stream",
          "name": "stdout",
          "text": [
            "55\n"
          ]
        }
      ]
    },
    {
      "cell_type": "code",
      "source": [
        "range(1, 6) # перебирай цифры от 1 до 5"
      ],
      "metadata": {
        "colab": {
          "base_uri": "https://localhost:8080/"
        },
        "id": "QgPVhCJglGgv",
        "outputId": "4f9ec5a7-a823-4eec-f954-529ed34352b6"
      },
      "execution_count": null,
      "outputs": [
        {
          "output_type": "execute_result",
          "data": {
            "text/plain": [
              "range(1, 6)"
            ]
          },
          "metadata": {},
          "execution_count": 38
        }
      ]
    },
    {
      "cell_type": "markdown",
      "source": [
        "# Списки!"
      ],
      "metadata": {
        "id": "b4zRuRD0mran"
      }
    },
    {
      "cell_type": "code",
      "source": [
        "# Список - чулан со всяким хламом\n",
        "\n",
        "a = [1, 42, 'хахаха', ['jkjsdj', 128], 32]\n",
        "type(a)"
      ],
      "metadata": {
        "colab": {
          "base_uri": "https://localhost:8080/"
        },
        "id": "P8z6H6sRl4Hj",
        "outputId": "ab1637d4-17fa-437f-9154-f76c82b95716"
      },
      "execution_count": null,
      "outputs": [
        {
          "output_type": "execute_result",
          "data": {
            "text/plain": [
              "list"
            ]
          },
          "metadata": {},
          "execution_count": 43
        }
      ]
    },
    {
      "cell_type": "code",
      "source": [
        "for item in a:\n",
        "    print(item)"
      ],
      "metadata": {
        "colab": {
          "base_uri": "https://localhost:8080/"
        },
        "id": "uyxZu0OCl4Ln",
        "outputId": "233783f9-722e-4a2d-c92c-a41f6c960316"
      },
      "execution_count": null,
      "outputs": [
        {
          "output_type": "stream",
          "name": "stdout",
          "text": [
            "1\n",
            "42\n",
            "хахаха\n",
            "['jkjsdj', 128]\n",
            "32\n"
          ]
        }
      ]
    },
    {
      "cell_type": "code",
      "source": [
        "for Vika in a:\n",
        "    print(Vika)"
      ],
      "metadata": {
        "colab": {
          "base_uri": "https://localhost:8080/"
        },
        "id": "32SWF_qAl4Rm",
        "outputId": "4963d9b0-5789-481d-c058-c58b048380c0"
      },
      "execution_count": null,
      "outputs": [
        {
          "output_type": "stream",
          "name": "stdout",
          "text": [
            "1\n",
            "42\n",
            "хахаха\n",
            "['jkjsdj', 128]\n",
            "32\n"
          ]
        }
      ]
    },
    {
      "cell_type": "code",
      "source": [
        "a"
      ],
      "metadata": {
        "colab": {
          "base_uri": "https://localhost:8080/"
        },
        "id": "Dt_bMLS5mY_o",
        "outputId": "30d42335-e802-460f-a60d-077a36a20c6e"
      },
      "execution_count": null,
      "outputs": [
        {
          "output_type": "execute_result",
          "data": {
            "text/plain": [
              "[1, 42, 'хахаха', ['jkjsdj', 128], 32]"
            ]
          },
          "metadata": {},
          "execution_count": 47
        }
      ]
    },
    {
      "cell_type": "code",
      "source": [
        "# Можно обращаться к отдельным элементам списка\n",
        "a[1]"
      ],
      "metadata": {
        "colab": {
          "base_uri": "https://localhost:8080/"
        },
        "id": "E2C3NJIBmToN",
        "outputId": "4b879ffa-27da-4358-ab86-c42fa76f5ea7"
      },
      "execution_count": null,
      "outputs": [
        {
          "output_type": "execute_result",
          "data": {
            "text/plain": [
              "42"
            ]
          },
          "metadata": {},
          "execution_count": 48
        }
      ]
    },
    {
      "cell_type": "code",
      "source": [
        "# В питоне нумерация начинается с нуля!\n",
        "a[0]"
      ],
      "metadata": {
        "colab": {
          "base_uri": "https://localhost:8080/"
        },
        "id": "0cQAqFn9lcS1",
        "outputId": "31e6ad22-4e03-4547-b074-2ce4d33c188b"
      },
      "execution_count": null,
      "outputs": [
        {
          "output_type": "execute_result",
          "data": {
            "text/plain": [
              "1"
            ]
          },
          "metadata": {},
          "execution_count": 50
        }
      ]
    },
    {
      "cell_type": "code",
      "source": [
        "len(a)"
      ],
      "metadata": {
        "colab": {
          "base_uri": "https://localhost:8080/"
        },
        "id": "6SD7GPncmgyQ",
        "outputId": "8bdcad37-38ee-4c37-eee8-cc34d8d4a848"
      },
      "execution_count": null,
      "outputs": [
        {
          "output_type": "execute_result",
          "data": {
            "text/plain": [
              "5"
            ]
          },
          "metadata": {},
          "execution_count": 51
        }
      ]
    },
    {
      "cell_type": "markdown",
      "source": [
        "__Упражнение 1:__\n",
        "\n",
        "Вводится список чисел. Все числа списка находятся на одной строке. Найдите количество положительных элементов в данном списке.\n",
        "\n"
      ],
      "metadata": {
        "id": "S5be7BYdm1sN"
      }
    },
    {
      "cell_type": "code",
      "source": [
        "x = list(map(int, input().split(' ')))\n",
        "\n",
        "cnt = 0\n",
        "\n",
        "for item in x:\n",
        "    if item > 0:\n",
        "        cnt += 1\n",
        "\n",
        "print(cnt)"
      ],
      "metadata": {
        "colab": {
          "base_uri": "https://localhost:8080/"
        },
        "id": "ru2NIx2EnB_4",
        "outputId": "8a3deda9-6cb0-4604-fcf9-82950f0319f9"
      },
      "execution_count": null,
      "outputs": [
        {
          "output_type": "stream",
          "name": "stdout",
          "text": [
            "2\n"
          ]
        }
      ]
    },
    {
      "cell_type": "code",
      "source": [
        "# Такой конструкцией в контесте можно считать список\n",
        "# Что она озанчает обсудим чуть позже \n",
        "\n",
        "a = list(map(int, input().split(' ')))\n",
        "a"
      ],
      "metadata": {
        "colab": {
          "base_uri": "https://localhost:8080/"
        },
        "id": "wIiCBZrnnS14",
        "outputId": "75957d2e-c046-4459-b7e7-37addcde8bf7"
      },
      "execution_count": null,
      "outputs": [
        {
          "name": "stdout",
          "output_type": "stream",
          "text": [
            "1 2 -3 4 0 10\n"
          ]
        },
        {
          "output_type": "execute_result",
          "data": {
            "text/plain": [
              "[1, 2, -3, 4, 0, 10]"
            ]
          },
          "metadata": {},
          "execution_count": 57
        }
      ]
    },
    {
      "cell_type": "markdown",
      "source": [
        "__Упражнение 2:__\n",
        "\n",
        "Дан список, упорядоченный по неубыванию элементов в нем. Определите, сколько в нем различных элементов.\n",
        "\n",
        "Вводится список чисел. Все числа списка находятся на одной строке.\n",
        "\n",
        "\n"
      ],
      "metadata": {
        "id": "0kYAU508oAlH"
      }
    },
    {
      "cell_type": "code",
      "source": [
        "len(a) # это неправда!"
      ],
      "metadata": {
        "colab": {
          "base_uri": "https://localhost:8080/"
        },
        "id": "OEEtv4uMnTDC",
        "outputId": "0eb5559c-644d-4386-d4f3-4c9c250ed726"
      },
      "execution_count": null,
      "outputs": [
        {
          "output_type": "execute_result",
          "data": {
            "text/plain": [
              "6"
            ]
          },
          "metadata": {},
          "execution_count": 59
        }
      ]
    },
    {
      "cell_type": "code",
      "source": [
        "range(5) # итератор - обещание питона что он даст нам числа от 0 до 5"
      ],
      "metadata": {
        "colab": {
          "base_uri": "https://localhost:8080/"
        },
        "id": "gdrIQyR8ossC",
        "outputId": "26f9e4ad-3a42-48fe-c287-819015e27ab1"
      },
      "execution_count": null,
      "outputs": [
        {
          "output_type": "execute_result",
          "data": {
            "text/plain": [
              "range(0, 5)"
            ]
          },
          "metadata": {},
          "execution_count": 60
        }
      ]
    },
    {
      "cell_type": "code",
      "source": [
        "type(range(5))"
      ],
      "metadata": {
        "colab": {
          "base_uri": "https://localhost:8080/"
        },
        "id": "3whF637eo6io",
        "outputId": "ca00d917-f406-4708-9970-4d1e2e7108dc"
      },
      "execution_count": null,
      "outputs": [
        {
          "output_type": "execute_result",
          "data": {
            "text/plain": [
              "range"
            ]
          },
          "metadata": {},
          "execution_count": 61
        }
      ]
    },
    {
      "cell_type": "code",
      "source": [
        "# могу преобразовать range в list\n",
        "list(range(5))"
      ],
      "metadata": {
        "colab": {
          "base_uri": "https://localhost:8080/"
        },
        "id": "ndJjjwHzoyeo",
        "outputId": "8b22692a-d2f6-49db-97d8-6c67259bd44d"
      },
      "execution_count": null,
      "outputs": [
        {
          "output_type": "execute_result",
          "data": {
            "text/plain": [
              "[0, 1, 2, 3, 4]"
            ]
          },
          "metadata": {},
          "execution_count": 62
        }
      ]
    },
    {
      "cell_type": "code",
      "source": [
        "list(range(3, 7))"
      ],
      "metadata": {
        "colab": {
          "base_uri": "https://localhost:8080/"
        },
        "id": "nnPDn4rXpOVJ",
        "outputId": "0e0f2178-8841-402c-993b-7f07eb6ca546"
      },
      "execution_count": null,
      "outputs": [
        {
          "output_type": "execute_result",
          "data": {
            "text/plain": [
              "[3, 4, 5, 6]"
            ]
          },
          "metadata": {},
          "execution_count": 64
        }
      ]
    },
    {
      "cell_type": "code",
      "source": [
        "list(range(3, 10, 2)) # каждое второе число"
      ],
      "metadata": {
        "colab": {
          "base_uri": "https://localhost:8080/"
        },
        "id": "R6HyqtuEpOb4",
        "outputId": "eacd8e1f-7c76-41a3-89a1-c0f104d0d7d4"
      },
      "execution_count": null,
      "outputs": [
        {
          "output_type": "execute_result",
          "data": {
            "text/plain": [
              "[3, 5, 7, 9]"
            ]
          },
          "metadata": {},
          "execution_count": 65
        }
      ]
    },
    {
      "cell_type": "code",
      "source": [
        "list(range(10, 3, -1)) # каждое второе число"
      ],
      "metadata": {
        "colab": {
          "base_uri": "https://localhost:8080/"
        },
        "id": "zPRw6FXxo-OU",
        "outputId": "3c03890a-026b-4a67-ff42-03264b7a9099"
      },
      "execution_count": null,
      "outputs": [
        {
          "output_type": "execute_result",
          "data": {
            "text/plain": [
              "[10, 9, 8, 7, 6, 5, 4]"
            ]
          },
          "metadata": {},
          "execution_count": 67
        }
      ]
    },
    {
      "cell_type": "code",
      "source": [
        "a = list(map(int, input().split(' ')))\n",
        "a"
      ],
      "metadata": {
        "colab": {
          "base_uri": "https://localhost:8080/"
        },
        "id": "VjFIEKFhoAFy",
        "outputId": "1ebe19f8-76f1-438f-bf7c-95edbbcf4f60"
      },
      "execution_count": null,
      "outputs": [
        {
          "name": "stdout",
          "output_type": "stream",
          "text": [
            "1 2 2 3 3 3\n"
          ]
        },
        {
          "output_type": "execute_result",
          "data": {
            "text/plain": [
              "[1, 2, 2, 3, 3, 3]"
            ]
          },
          "metadata": {},
          "execution_count": 58
        }
      ]
    },
    {
      "cell_type": "code",
      "source": [
        "a = list(map(int, input().split(' ')))\n",
        "cnt = 1\n",
        "\n",
        "n = len(a)\n",
        "for i in range(1, n):\n",
        "    if a[i] != a[i - 1]:\n",
        "        cnt += 1\n",
        "\n",
        "print(cnt)"
      ],
      "metadata": {
        "colab": {
          "base_uri": "https://localhost:8080/"
        },
        "id": "RpspGiDRpYrF",
        "outputId": "b86a13d2-6c7c-441d-a815-30f9962a91f6"
      },
      "execution_count": null,
      "outputs": [
        {
          "output_type": "stream",
          "name": "stdout",
          "text": [
            "1 1 1 1 1\n",
            "1\n"
          ]
        }
      ]
    },
    {
      "cell_type": "code",
      "source": [
        "# Полина: можно решить с помощью set!\n",
        "b = {1, 2, 2, 2, 3, 3, -1}\n",
        "b"
      ],
      "metadata": {
        "colab": {
          "base_uri": "https://localhost:8080/"
        },
        "id": "ABx20FdOqNTP",
        "outputId": "0e18f2f0-ce1b-426f-d87e-369e40c38952"
      },
      "execution_count": null,
      "outputs": [
        {
          "output_type": "execute_result",
          "data": {
            "text/plain": [
              "{-1, 1, 2, 3}"
            ]
          },
          "metadata": {},
          "execution_count": 76
        }
      ]
    },
    {
      "cell_type": "code",
      "source": [
        "a = [1, 2, 2, 3, 3, 3]\n",
        "set(a) # сделай мне из листа множество (оставит уникальные элементы)"
      ],
      "metadata": {
        "colab": {
          "base_uri": "https://localhost:8080/"
        },
        "id": "9YOVwlnNpxDt",
        "outputId": "9bb4c692-b2eb-4186-f368-260b663c3445"
      },
      "execution_count": null,
      "outputs": [
        {
          "output_type": "execute_result",
          "data": {
            "text/plain": [
              "{1, 2, 3}"
            ]
          },
          "metadata": {},
          "execution_count": 77
        }
      ]
    },
    {
      "cell_type": "code",
      "source": [
        "a = list(map(int, input().split(' ')))\n",
        "print(len(set(a)))"
      ],
      "metadata": {
        "id": "IwlDk1vFqX4-"
      },
      "execution_count": null,
      "outputs": []
    },
    {
      "cell_type": "markdown",
      "source": [
        "# Цикл while \n",
        "\n",
        "__Упражнение:__\n",
        "\n",
        "По данному целому числу N распечатайте все квадраты натуральных чисел, не превосходящие N, в порядке возрастания."
      ],
      "metadata": {
        "id": "e7jVrJF0qqEa"
      }
    },
    {
      "cell_type": "code",
      "source": [
        "N = 5\n",
        "\n",
        "for i in range(1, N + 1):\n",
        "    print(i ** 2)"
      ],
      "metadata": {
        "colab": {
          "base_uri": "https://localhost:8080/"
        },
        "id": "TuUXIhxjqpY4",
        "outputId": "ee323ed1-eadc-403a-f486-bbc407a523e5"
      },
      "execution_count": null,
      "outputs": [
        {
          "output_type": "stream",
          "name": "stdout",
          "text": [
            "1\n",
            "4\n",
            "9\n",
            "16\n",
            "25\n"
          ]
        }
      ]
    },
    {
      "cell_type": "code",
      "source": [
        "N = 5\n",
        "\n",
        "cnt = 1\n",
        "while cnt <= N:\n",
        "    print(cnt ** 2)\n",
        "    cnt += 1"
      ],
      "metadata": {
        "colab": {
          "base_uri": "https://localhost:8080/"
        },
        "id": "We1bpTxfqxr1",
        "outputId": "a62610e8-8747-4934-8afe-99350e56e467"
      },
      "execution_count": null,
      "outputs": [
        {
          "output_type": "stream",
          "name": "stdout",
          "text": [
            "1\n",
            "4\n",
            "9\n",
            "16\n",
            "25\n"
          ]
        }
      ]
    },
    {
      "cell_type": "code",
      "source": [
        "N = 50\n",
        "\n",
        "cnt = 1\n",
        "while cnt ** 2 <= N:\n",
        "    print(cnt ** 2)\n",
        "    cnt += 1"
      ],
      "metadata": {
        "colab": {
          "base_uri": "https://localhost:8080/"
        },
        "id": "GBipj9JUqxut",
        "outputId": "0b2478ce-3c19-4213-ea86-36d64c04c079"
      },
      "execution_count": null,
      "outputs": [
        {
          "output_type": "stream",
          "name": "stdout",
          "text": [
            "1\n",
            "4\n",
            "9\n",
            "16\n",
            "25\n",
            "36\n",
            "49\n"
          ]
        }
      ]
    },
    {
      "cell_type": "code",
      "source": [
        "# Можно нехило налажать! Сделать вечный цикл...\n",
        "N = 50\n",
        "\n",
        "cnt = 1\n",
        "while cnt ** 2 <= N:\n",
        "    print(cnt ** 2)\n",
        "    # если с таким столкнулись в выпадшке kernel надо найти Restart kernel and clear output"
      ],
      "metadata": {
        "id": "6BMnI5Lhqxxa"
      },
      "execution_count": null,
      "outputs": []
    },
    {
      "cell_type": "code",
      "source": [
        "N = 50\n",
        "\n",
        "cnt = 1\n",
        "while True:\n",
        "    print(cnt ** 2)\n",
        "    cnt += 1\n",
        "    if cnt ** 2 > N:\n",
        "        break # можно останавливать работу любого цикла досрочно"
      ],
      "metadata": {
        "colab": {
          "base_uri": "https://localhost:8080/"
        },
        "id": "o-uVPCHsrq18",
        "outputId": "25a93229-794e-498b-caa3-754757af3154"
      },
      "execution_count": null,
      "outputs": [
        {
          "output_type": "stream",
          "name": "stdout",
          "text": [
            "1\n",
            "4\n",
            "9\n",
            "16\n",
            "25\n",
            "36\n",
            "49\n"
          ]
        }
      ]
    },
    {
      "cell_type": "markdown",
      "source": [
        "# Строки\n",
        "\n"
      ],
      "metadata": {
        "id": "cnKC-6Mdsc-S"
      }
    },
    {
      "cell_type": "code",
      "source": [
        "x = 'Маша' # строка\n",
        "type(x)"
      ],
      "metadata": {
        "colab": {
          "base_uri": "https://localhost:8080/"
        },
        "id": "jgKX-FDksoy4",
        "outputId": "294e76ba-42d6-441e-89ba-21e01d455c69"
      },
      "execution_count": null,
      "outputs": [
        {
          "output_type": "execute_result",
          "data": {
            "text/plain": [
              "str"
            ]
          },
          "metadata": {},
          "execution_count": 85
        }
      ]
    },
    {
      "cell_type": "code",
      "source": [
        "for item in x:\n",
        "    print(item)"
      ],
      "metadata": {
        "colab": {
          "base_uri": "https://localhost:8080/"
        },
        "id": "-Z4Q54-aso1g",
        "outputId": "c49b7f4f-f234-415c-af4b-e1fecbb95891"
      },
      "execution_count": null,
      "outputs": [
        {
          "output_type": "stream",
          "name": "stdout",
          "text": [
            "М\n",
            "а\n",
            "ш\n",
            "а\n"
          ]
        }
      ]
    },
    {
      "cell_type": "code",
      "source": [
        "x.count('а')"
      ],
      "metadata": {
        "colab": {
          "base_uri": "https://localhost:8080/"
        },
        "id": "kEnS4KAis2ot",
        "outputId": "15fdf8c7-2082-4e6c-b9bd-37ea45dcb551"
      },
      "execution_count": null,
      "outputs": [
        {
          "output_type": "execute_result",
          "data": {
            "text/plain": [
              "2"
            ]
          },
          "metadata": {},
          "execution_count": 87
        }
      ]
    },
    {
      "cell_type": "code",
      "source": [
        "len(x)"
      ],
      "metadata": {
        "colab": {
          "base_uri": "https://localhost:8080/"
        },
        "id": "SJdlJuU_s2wH",
        "outputId": "59fa018d-cfdd-4f28-a320-54203b4bde75"
      },
      "execution_count": null,
      "outputs": [
        {
          "output_type": "execute_result",
          "data": {
            "text/plain": [
              "4"
            ]
          },
          "metadata": {},
          "execution_count": 88
        }
      ]
    },
    {
      "cell_type": "code",
      "source": [
        "x.lower()"
      ],
      "metadata": {
        "colab": {
          "base_uri": "https://localhost:8080/",
          "height": 36
        },
        "id": "8CkwL_AasPIl",
        "outputId": "6d315460-f519-4e6f-a980-701c6967faba"
      },
      "execution_count": null,
      "outputs": [
        {
          "output_type": "execute_result",
          "data": {
            "text/plain": [
              "'маша'"
            ],
            "application/vnd.google.colaboratory.intrinsic+json": {
              "type": "string"
            }
          },
          "metadata": {},
          "execution_count": 89
        }
      ]
    },
    {
      "cell_type": "code",
      "source": [
        "x.upper()"
      ],
      "metadata": {
        "colab": {
          "base_uri": "https://localhost:8080/",
          "height": 36
        },
        "id": "SvqjqT-Is9YF",
        "outputId": "cbcb1a4a-ea1a-4e28-e85e-1ab132cc87cd"
      },
      "execution_count": null,
      "outputs": [
        {
          "output_type": "execute_result",
          "data": {
            "text/plain": [
              "'МАША'"
            ],
            "application/vnd.google.colaboratory.intrinsic+json": {
              "type": "string"
            }
          },
          "metadata": {},
          "execution_count": 90
        }
      ]
    },
    {
      "cell_type": "markdown",
      "source": [
        "__Упражнение:__\n",
        "\n",
        "Дана строка. Замените в этой строке все цифры 1 на слово one."
      ],
      "metadata": {
        "id": "s-139rZSt-4n"
      }
    },
    {
      "cell_type": "code",
      "source": [
        "a = '1+1=2'\n",
        "\n",
        "for item in a:\n",
        "    if item == '1':\n",
        "        item = 'one'\n",
        "        \n",
        "a # Не работает ((("
      ],
      "metadata": {
        "colab": {
          "base_uri": "https://localhost:8080/",
          "height": 36
        },
        "id": "0xqhXPhYs-r_",
        "outputId": "6c7722bb-5c00-4ea0-ef48-975d6411269e"
      },
      "execution_count": null,
      "outputs": [
        {
          "output_type": "execute_result",
          "data": {
            "text/plain": [
              "'1+1=2'"
            ],
            "application/vnd.google.colaboratory.intrinsic+json": {
              "type": "string"
            }
          },
          "metadata": {},
          "execution_count": 93
        }
      ]
    },
    {
      "cell_type": "code",
      "source": [
        "# Почему не работает: \n",
        "# item это не ссылка на объект в a, это его копия\n",
        "\n",
        "a = '1+1=2'\n",
        "\n",
        "s = ''\n",
        "for item in a:\n",
        "    if item == '1':\n",
        "        s += 'one'\n",
        "    else:\n",
        "        s += item\n",
        "s"
      ],
      "metadata": {
        "colab": {
          "base_uri": "https://localhost:8080/",
          "height": 36
        },
        "id": "y004x4K2tbyl",
        "outputId": "751b218f-32ba-4233-91d2-4372c72fb3aa"
      },
      "execution_count": null,
      "outputs": [
        {
          "output_type": "execute_result",
          "data": {
            "text/plain": [
              "'one+one=2'"
            ],
            "application/vnd.google.colaboratory.intrinsic+json": {
              "type": "string"
            }
          },
          "metadata": {},
          "execution_count": 95
        }
      ]
    },
    {
      "cell_type": "code",
      "source": [
        "b = a.split('1') # разбить строку на список по 1\n",
        "b"
      ],
      "metadata": {
        "colab": {
          "base_uri": "https://localhost:8080/"
        },
        "id": "3BDHrW7Dtb09",
        "outputId": "d7ab8c7a-7686-45c2-8ba8-db6a61283772"
      },
      "execution_count": null,
      "outputs": [
        {
          "output_type": "execute_result",
          "data": {
            "text/plain": [
              "['', '+', '=2']"
            ]
          },
          "metadata": {},
          "execution_count": 98
        }
      ]
    },
    {
      "cell_type": "code",
      "source": [
        "'one'.join(b)  # склеить строки из списка в большую строку по one"
      ],
      "metadata": {
        "colab": {
          "base_uri": "https://localhost:8080/",
          "height": 36
        },
        "id": "mvPqHRMEtb3V",
        "outputId": "b0ba0d58-19d3-48ae-e78a-431a5115b465"
      },
      "execution_count": null,
      "outputs": [
        {
          "output_type": "execute_result",
          "data": {
            "text/plain": [
              "'one+one=2'"
            ],
            "application/vnd.google.colaboratory.intrinsic+json": {
              "type": "string"
            }
          },
          "metadata": {},
          "execution_count": 100
        }
      ]
    },
    {
      "cell_type": "markdown",
      "source": [
        "# Впросики\n",
        "\n",
        "- А зачем нужно continue "
      ],
      "metadata": {
        "id": "CU0cDjUgtcUi"
      }
    },
    {
      "cell_type": "code",
      "source": [
        "i = 1\n",
        "retakes = 0\n",
        "\n",
        "while i <= 5:\n",
        "    mark = int(input(\"Введите оценку: \"))\n",
        "    i += 1\n",
        "    if mark >= 4: # если пересдачи нет, сразу же идем проверять переменную i, без увеличения переменной retakes\n",
        "        continue\n",
        "    retakes += 1\n",
        "    \n",
        "print(\"Итого пересдач:\", retakes)"
      ],
      "metadata": {
        "colab": {
          "base_uri": "https://localhost:8080/"
        },
        "id": "OcxnVqritb55",
        "outputId": "c4a23ddc-8c5a-451e-875c-a55549bd2204"
      },
      "execution_count": null,
      "outputs": [
        {
          "output_type": "stream",
          "name": "stdout",
          "text": [
            "Введите оценку: 2\n",
            "Введите оценку: 3\n",
            "Введите оценку: 4\n",
            "Введите оценку: 5\n",
            "Введите оценку: 5\n",
            "Итого пересдач: 2\n"
          ]
        }
      ]
    },
    {
      "cell_type": "code",
      "source": [
        ""
      ],
      "metadata": {
        "id": "S0JH_eittkwo"
      },
      "execution_count": null,
      "outputs": []
    }
  ]
}