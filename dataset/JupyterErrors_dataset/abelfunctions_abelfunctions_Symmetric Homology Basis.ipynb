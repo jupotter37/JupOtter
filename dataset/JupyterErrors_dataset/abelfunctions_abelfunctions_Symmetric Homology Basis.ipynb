{
 "cells": [
  {
   "cell_type": "markdown",
   "metadata": {},
   "source": [
    "# Symmetric Homology Basis\n",
    "\n",
    "This notebook serves as a testing bed for the development of an algorithm to compute a \"symmetric homology basis\" $(\\mathcal{A}, \\mathcal{B})$ for a real plane algebraic curve. Such a basis satisfies\n",
    "\n",
    "$$\\begin{pmatrix} \\tau \\mathcal{A} \\\\ \\tau \\mathcal{B} \\end{pmatrix} = \\begin{pmatrix} \\mathbb{I}_g & 0 \\\\ \\mathbb{H} & \\mathbb{I}_g \\end{pmatrix} \\begin{pmatrix} \\mathcal{A} \\\\ \\mathcal{B} \\end{pmatrix}$$\n",
    "\n",
    "where $\\tau$ is an anti-holomorphic involution of the real curve and $\\mathbb{H}$ is a symmetric, block-diagonal matrix determined by the \"topological type\" of the curve. In short, the topological type has to do with the real oval structure of the curve.\n",
    "\n",
    "There is a collection of examples from \"Computing the Topological Type of a Real Riemann Surface\" by. C. Kalla and C. Klein."
   ]
  },
  {
   "cell_type": "code",
   "execution_count": 1,
   "metadata": {
    "collapsed": true
   },
   "outputs": [],
   "source": [
    "def Re(M):\n",
    "    return M.apply_map(real)   \n",
    "def Im(M):\n",
    "    return M.apply_map(imag)"
   ]
  },
  {
   "cell_type": "code",
   "execution_count": 2,
   "metadata": {
    "collapsed": false
   },
   "outputs": [
    {
     "name": "stdout",
     "output_type": "stream",
     "text": [
      "[ 0.041441136367794 + 0.027833200726691*I   -0.03453821343271 + 0.02718871189301*I -0.097853547524326 + 0.026426118256733*I -0.304059718474855 + 0.060306772513671*I -0.536899366726663 + 0.087203183867874*I -2.814882797646379 + 0.543317148745872*I]\n",
      "[ -0.114912806296197 - 0.04460142098434*I                          2e-15 - 2e-15*I  0.053195632592273 - 0.022598899319034*I                          6e-15 - 6e-15*I  0.242671354734388 + 0.009863612111086*I   0.764112818309978 + 0.03573503064333*I]\n",
      "[ 0.114912806296198 + 0.016851233729331*I             -3e-15 + 0.054377423786101*I -0.053195632592272 - 0.080539669725953*I             -9e-15 + 0.120613545027839*I -0.242671354734385 - 0.237235882811205*I -0.764112818309973 - 0.538148249906231*I]\n",
      "[         -1.45e-13 - 0.011064980468868*I          -2.32e-13 + 0.018296506388701*I          -3.71e-13 - 0.030253337193984*I         -1.418e-12 + 0.111441672814486*I         -2.271e-12 - 0.184269979844065*I          -1.39e-11 - 1.122369328118062*I]\n",
      "[ 0.081988303080824 - 0.027750187255008*I                                   -1e-15 -0.052735643727852 - 0.103138569044988*I                         -2e-15 - 1e-15*I -0.088120274254757 - 0.227372270700121*I -0.127496577243115 - 0.502413219262904*I]\n",
      "[            -0.081988303080827 + 1e-15*I             -3e-15 - 0.054377423786097*I            0.052735643727848 + 5.8e-15*I             -6e-15 - 0.120613545027826*I              0.088120274254749 + 1e-14*I            0.127496577243099 + 1.9e-14*I]\n",
      "\n",
      "[  0.041441136367794 + 0.02783320072669*I  -0.03453821343271 - 0.009404300883654*I -0.097853547524326 + 0.026426118256743*I -0.304059718474855 - 0.162576573110822*I -0.536899366726663 + 0.087203183867912*I -2.814882797646379 + 0.543317148746025*I]\n",
      "[-0.008893776107028 - 0.100911791871047*I -0.066617940934943 + 0.018040458698884*I  0.109123013300482 - 0.073253290304226*I -0.116239263979475 + 0.004585936107792*I  0.338049660213882 - 0.105519234924677*I  0.955517317106568 - 0.261883524016635*I]\n",
      "[-0.008893776107028 - 0.056310370886708*I -0.066617940934943 - 0.018040458698885*I  0.109123013300482 - 0.050654390985187*I -0.116239263979475 - 0.004585936107801*I  0.338049660213882 - 0.115382847035744*I  0.955517317106568 - 0.297618554659892*I]\n",
      "[             0.032030533560343 - 2e-14*I           4.34e-13 - 0.018296506388225*I              0.142511462455675 - 2e-14*I          2.647e-12 - 0.111441672811588*I            0.83112737871464 - 1.47e-13*I          4.865652776956537 - 1.017e-12*I]\n",
      "[ 0.106019030189168 + 0.028560183631701*I  0.066617940934943 + 0.072417882484992*I    0.055927380708208 - 0.0524841780598*I  0.116239263979479 + 0.125199481135651*I  0.095378305479493 - 0.111989423664385*I  0.191404498796592 - 0.204794664603068*I]\n",
      "[-0.057957575972479 + 0.016041237352642*I  0.066617940934944 - 0.036336965087211*I  0.161398668163915 + 0.075083077378845*I  0.116239263979481 - 0.116027608920027*I   0.27161885398901 + 0.102125811553314*I   0.446397653282827 + 0.16905963395973*I]\n"
     ]
    }
   ],
   "source": [
    "#\n",
    "# Example a- and b-periods from the Trott curve\n",
    "#\n",
    "\n",
    "# trott curve: H=0, Q=I\n",
    "atrott = Matrix(CDF,\n",
    "  [[ 0.0000 + 0.0235*I, 0.0000 + 0.0138*I, 0.0000 + 0.0138*I],\n",
    "   [ 0.0000 + 0.0000*I, 0.0000 + 0.0277*I, 0.0000 + 0.0000*I],\n",
    "   [-0.0315 + 0.0000*I, 0.0000 + 0.0000*I, 0.0250 + 0.0000*I]])\n",
    "btrott = Matrix(CDF,\n",
    "  [[-0.0315 + 0.0235*I, 0.0000 + 0.0138*I,-0.0250 + 0.0138*I],\n",
    "   [ 0.0000 + 0.0000*I,-0.0250 + 0.0277*I, 0.0250 + 0.0000*I],\n",
    "   [ 0.0000 - 0.0235*I, 0.0000 + 0.0138*I, 0.0000 + 0.0138*I]])\n",
    "\n",
    "# klein curve:\n",
    "aklein = Matrix(CDF,\n",
    "  [[-0.9667 + 0.7709*I, 0.9667 + 0.2206*I, 0.9667 - 2.0073*I],\n",
    "   [-1.2054 - 0.2751*I,-0.4302 + 0.8933*I,-1.7419 + 1.3891*I],\n",
    "   [-0.4302 - 0.8933*I, 1.7419 + 1.3891*I,-1.2054 + 0.2751*I]])\n",
    "\n",
    "bklein = Matrix(CDF,\n",
    "  [[-2.7085 - 0.6182*I,-0.2387 + 0.4958*I, 1.3969 - 1.1140*I],\n",
    "   [-2.1721 - 1.7322*I, 0.5365 - 0.1224*I,-0.7753 - 1.6097*I],\n",
    "   [ 0.9667 + 0.2206*I,-0.9667 + 2.0073*I,-0.9667 + 0.7709*I]])\n",
    "\n",
    "# fermat curve:\n",
    "afermat = Matrix(CDF,\n",
    "  [[0.9270 + 0.0000*I, 0.0000 - 0.9270*I, 0.0000 - 0.9270*I],\n",
    "   [0.0000 + 0.0000*I, 0.0000 + 0.0000*I, 0.0000 - 1.8541*I],\n",
    "   [0.0000 + 0.9270*I,-0.9270 + 0.0000*I, 0.0000 - 0.9270*I]])\n",
    "bfermat = Matrix(CDF,\n",
    "  [[0.9270 + 0.9270*I, 0.9270 - 0.9270*I, 0.0000 + 0.0000*I],\n",
    "   [0.0000 + 0.0000*I,-0.9270 + 0.9270*I, 0.9270 - 0.9270*I],\n",
    "   [-0.9270+ 0.0000*I, 0.0000 - 0.9270*I, 0.0000 - 0.9270*I]])\n",
    "\n",
    "# a genus six curve (NOTE: need more digits of accuracy. A^{-1}B is not a Riemann matrix)\n",
    "a6 = Matrix(CDF,\n",
    "[\n",
    "[0.041441136367794 + 0.027833200726691*I, -0.034538213432710 + 0.027188711893010*I, -0.097853547524326 + 0.026426118256733*I, -0.304059718474855 + 0.060306772513671*I, -0.536899366726663 + 0.087203183867874*I, -2.814882797646379 + 0.543317148745872*I],\n",
    "[-0.114912806296197 - 0.044601420984340*I, 0.000000000000002 - 0.000000000000002*I, 0.053195632592273 - 0.022598899319034*I, 0.000000000000006 - 0.000000000000006*I, 0.242671354734388 + 0.009863612111086*I, 0.764112818309978 + 0.035735030643330*I],\n",
    "[0.114912806296198 + 0.016851233729331*I, -0.000000000000003 + 0.054377423786101*I, -0.053195632592272 - 0.080539669725953*I, -0.000000000000009 + 0.120613545027839*I, -0.242671354734385 - 0.237235882811205*I, -0.764112818309973 - 0.538148249906231*I],\n",
    "[-0.000000000000145 - 0.011064980468868*I, -0.000000000000232 + 0.018296506388701*I, -0.000000000000371 - 0.030253337193984*I, -0.000000000001418 + 0.111441672814486*I, -0.000000000002271 - 0.184269979844065*I, -0.000000000013900 - 1.122369328118062*I],\n",
    "[0.081988303080824 - 0.027750187255008*I, -0.000000000000001 - 0.000000000000000*I, -0.052735643727852 - 0.103138569044988*I, -0.000000000000002 - 0.000000000000001*I, -0.088120274254757 - 0.227372270700121*I, -0.127496577243115 - 0.502413219262904*I],\n",
    "[-0.081988303080827 + 0.000000000000001*I, -0.000000000000003 - 0.054377423786097*I, 0.052735643727848 + 0.0000000000000058*I, -0.000000000000006 - 0.120613545027826*I, 0.088120274254749 + 0.000000000000010*I, 0.127496577243099 + 0.000000000000019*I],\n",
    "]\n",
    ")\n",
    "\n",
    "b6 = Matrix(CDF,\n",
    "[\n",
    "[0.041441136367794 + 0.027833200726690*I, -0.034538213432710 - 0.009404300883654*I, -0.097853547524326 + 0.026426118256743*I, -0.304059718474855 - 0.162576573110822*I, -0.536899366726663 + 0.087203183867912*I, -2.814882797646379 + 0.543317148746025*I],\n",
    "[-0.008893776107028 - 0.100911791871047*I, -0.066617940934943 + 0.018040458698884*I, 0.109123013300482 - 0.073253290304226*I, -0.116239263979475 + 0.004585936107792*I, 0.338049660213882 - 0.105519234924677*I, 0.955517317106568 - 0.261883524016635*I],\n",
    "[-0.008893776107028 - 0.056310370886708*I, -0.066617940934943 - 0.018040458698885*I, 0.109123013300482 - 0.050654390985187*I, -0.116239263979475 - 0.004585936107801*I, 0.338049660213882 - 0.115382847035744*I, 0.955517317106568 - 0.297618554659892*I],\n",
    "[0.032030533560343 - 0.000000000000020*I, 0.000000000000434 - 0.018296506388225*I, 0.142511462455675 - 0.000000000000020*I, 0.000000000002647 - 0.111441672811588*I, 0.831127378714640 - 0.000000000000147*I, 4.865652776956537 - 0.000000000001017*I],\n",
    "[0.106019030189168 + 0.028560183631701*I, 0.066617940934943 + 0.072417882484992*I, 0.055927380708208 - 0.052484178059800*I, 0.116239263979479 + 0.125199481135651*I, 0.095378305479493 - 0.111989423664385*I, 0.191404498796592 - 0.204794664603068*I],\n",
    "[-0.057957575972479 + 0.016041237352642*I, 0.066617940934944 - 0.036336965087211*I, 0.161398668163915 + 0.075083077378845*I, 0.116239263979481 - 0.116027608920027*I, 0.271618853989010 + 0.102125811553314*I, 0.446397653282827 + 0.169059633959730*I],\n",
    "]\n",
    ")\n",
    "\n",
    "\n",
    "##############################\n",
    "# PICK YOUR EXAMPLE\n",
    "##############################\n",
    "Pa = a6\n",
    "Pb = b6\n",
    "g,g = Pa.dimensions()\n",
    "\n",
    "print Pa\n",
    "print\n",
    "print Pb"
   ]
  },
  {
   "cell_type": "code",
   "execution_count": 3,
   "metadata": {
    "collapsed": false
   },
   "outputs": [
    {
     "name": "stdout",
     "output_type": "stream",
     "text": [
      "8.64662962681e-12\n",
      "\n",
      "[1.8465726791988337, 0.7135476751991885, 0.4873040523015789, -0.16973477537732007, -0.2695889651553534, 0.11474329314893666]\n",
      "\n",
      "[-2.616706471515309, -0.5830927342060325, -0.3915801598837124, -0.12267316174867882, -0.179946749668741, -0.2556393557627938]\n"
     ]
    }
   ],
   "source": [
    "# check that the proper normalization produces a Riemann matrix.\n",
    "# note that the definition changes based on the definition of the\n",
    "# riemann theta function / how the period lattice is defined.\n",
    "# Kalla and Klein's definition is different from that of my own\n",
    "#\n",
    "Omega = Pa*Pb.inverse()\n",
    "X = Re(Omega)\n",
    "Y = Im(Omega)\n",
    "\n",
    "print (Omega - Omega.T).norm()\n",
    "print\n",
    "print X.eigenvalues()\n",
    "print\n",
    "print Y.eigenvalues()"
   ]
  },
  {
   "cell_type": "markdown",
   "metadata": {},
   "source": [
    "# Construct $R$ - Transformation Matrix\n",
    "\n",
    "Definition in Equation (23), construction from Prop. 3.1.\n",
    "\n",
    "Given an arbitraty homology basis $\\tilde{\\mathcal{A}}, \\tilde{\\mathcal{B}}$ the action of $\\tau$ on said basis is given by left-multiplication by a matrix $R$:\n",
    "\n",
    "$$\\begin{pmatrix}\\tau \\tilde{\\mathcal{A}} \\\\ \\tau \\tilde{\\mathcal{B}} \\end{pmatrix} = R \\begin{pmatrix}\\tilde{\\mathcal{A}} \\\\  \\tilde{\\mathcal{B}} \\end{pmatrix}$$"
   ]
  },
  {
   "cell_type": "code",
   "execution_count": 4,
   "metadata": {
    "collapsed": false
   },
   "outputs": [
    {
     "name": "stdout",
     "output_type": "stream",
     "text": [
      "[ 1 -1 -1  1  1  1  0  1 -1  0  0  0]\n",
      "[-1  2  1  0 -1 -1  1 -2  2  0  0  0]\n",
      "[ 1 -3 -2  0  1  1 -1  2 -2  0  0  0]\n",
      "[ 0  0  0 -1  0  0  0  0  0  0  0  0]\n",
      "[ 0 -1 -1  0  0 -1  0  0  0  0  0  0]\n",
      "[ 0  1  1  0 -1  0  0  0  0  0  0  0]\n",
      "[ 2 -1 -1  1  1  1 -1  1 -1  0  0  0]\n",
      "[-1  0  0  0 -2  0  1 -2  3  0  1 -1]\n",
      "[-1  0  0  0 -2  0  1 -1  2  0  1 -1]\n",
      "[ 1  0  0  0  0  0 -1  0  0  1  0  0]\n",
      "[ 1 -2 -2  0  2  0 -1  1 -1  0  0  1]\n",
      "[ 1  0  0  0  0  2 -1  1 -1  0  1  0]\n",
      "\n",
      "3.63460960712e-11\n"
     ]
    }
   ],
   "source": [
    "# tau action matrix    \n",
    "R_RDF = Matrix(RDF, 2*g, 2*g)\n",
    "\n",
    "Ig = identity_matrix(RDF, g)\n",
    "M = Im(Pb.T)*Re(Pa) - Im(Pa.T)*Re(Pb)\n",
    "Minv = M.inverse()\n",
    "\n",
    "R_RDF[:g,:g] = (2*Re(Pb)*Minv*Im(Pa.T) + Ig).T\n",
    "R_RDF[:g,g:] = -2*Re(Pa)*Minv*Im(Pa.T)\n",
    "R_RDF[g:,:g] = 2*Re(Pb)*Minv*Im(Pb.T)\n",
    "R_RDF[g:,g:] = -(2*Re(Pb)*Minv*Im(Pa.T) + Ig)  # ! .T or not .T\n",
    "\n",
    "R = R_RDF.apply_map(round).change_ring(ZZ)\n",
    "print R\n",
    "print\n",
    "print (R - R_RDF).norm()"
   ]
  },
  {
   "cell_type": "code",
   "execution_count": 5,
   "metadata": {
    "collapsed": false
   },
   "outputs": [
    {
     "name": "stdout",
     "output_type": "stream",
     "text": [
      "[1, 1, 1, 1, 1, 1, -1, -1, -1, -1, -1, -1]\n"
     ]
    }
   ],
   "source": [
    "# tests\n",
    "#\n",
    "evals = R.eigenvalues()\n",
    "assert set(evals) == {1.0, -1.0}  # eigenvalues should be -1 or +1\n",
    "print evals"
   ]
  },
  {
   "cell_type": "code",
   "execution_count": 6,
   "metadata": {
    "collapsed": false
   },
   "outputs": [],
   "source": [
    "assert norm(R - R_RDF) < 1e-3     # matrix should be integral"
   ]
  },
  {
   "cell_type": "code",
   "execution_count": 7,
   "metadata": {
    "collapsed": false
   },
   "outputs": [],
   "source": [
    "RQQ = R.change_ring(RationalField())\n",
    "assert RQQ.is_diagonalizable()"
   ]
  },
  {
   "cell_type": "markdown",
   "metadata": {},
   "source": [
    "# Compute the Smith Normal Form\n",
    "\n",
    "Compute the $\\mathbb{Z}$-basis $\\begin{pmatrix} S_1 \\\\ S_2 \\end{pmatrix} \\in \\mathbb{Z}^{2g \\times g}$ of the space $\\mathcal{K}_\\mathbb{Z} = \\text{ker}(R^T -  \\mathbb{I}_{2g})$ using the Smith normal form. Let $K = R^T - \\mathbb{I}_{2g}$. Then there exist $U \\in GL_{2g}, V \\in GL_{2g}$ such that,\n",
    "\n",
    "$$ UKV = \\begin{pmatrix} D & 0_{2g} \\\\ 0_{2g} & 0_{2g} \\end{pmatrix}$$\n",
    "\n",
    "A $\\mathbb{Z}$-basis of the integer kernel of $K$ is given by the last $2g-r$ column vectors of the matrix $V$. $(r=g)$"
   ]
  },
  {
   "cell_type": "code",
   "execution_count": 8,
   "metadata": {
    "collapsed": false
   },
   "outputs": [
    {
     "name": "stdout",
     "output_type": "stream",
     "text": [
      "K =\n",
      "[ 0 -1  1  0  0  0  2 -1 -1  1  1  1]\n",
      "[-1  1 -3  0 -1  1 -1  0  0  0 -2  0]\n",
      "[-1  1 -3  0 -1  1 -1  0  0  0 -2  0]\n",
      "[ 1  0  0 -2  0  0  1  0  0  0  0  0]\n",
      "[ 1 -1  1  0 -1 -1  1 -2 -2  0  2  0]\n",
      "[ 1 -1  1  0 -1 -1  1  0  0  0  0  2]\n",
      "[ 0  1 -1  0  0  0 -2  1  1 -1 -1 -1]\n",
      "[ 1 -2  2  0  0  0  1 -3 -1  0  1  1]\n",
      "[-1  2 -2  0  0  0 -1  3  1  0 -1 -1]\n",
      "[ 0  0  0  0  0  0  0  0  0  0  0  0]\n",
      "[ 0  0  0  0  0  0  0  1  1  0 -1  1]\n",
      "[ 0  0  0  0  0  0  0 -1 -1  0  1 -1]\n",
      "\n",
      "rank:  6\n",
      "genus: 6\n"
     ]
    }
   ],
   "source": [
    "K = R.T - identity_matrix(ZZ, 2*g)\n",
    "print 'K =\\n', K\n",
    "\n",
    "m,n = K.dimensions()\n",
    "r = K.rank()\n",
    "\n",
    "print '\\nrank: ', r\n",
    "print 'genus:', g\n",
    "assert r == g"
   ]
  },
  {
   "cell_type": "code",
   "execution_count": 9,
   "metadata": {
    "collapsed": false
   },
   "outputs": [
    {
     "name": "stdout",
     "output_type": "stream",
     "text": [
      "S =\n",
      "[ 0  2  2 -2  3  0]\n",
      "[ 3 -3  0  2  0  1]\n",
      "[ 1 -3 -1  2 -2  1]\n",
      "[ 0  1  1 -1  2  0]\n",
      "[ 0  2  1 -2  2 -1]\n",
      "[ 0  0  0  0  0  1]\n",
      "[ 0  0  0  0  1  0]\n",
      "[-1  1  0 -1  0  0]\n",
      "[ 0  0  0  1  0  0]\n",
      "[ 0  0  1  0  0  0]\n",
      "[ 0  1  0  0  0  0]\n",
      "[ 1  0  0  0  0  0]\n"
     ]
    }
   ],
   "source": [
    "# a Z-basis of the integer kernel of K is given by the last n-r column\n",
    "# vectors of the matrix V\n",
    "#\n",
    "n = K.ncols()\n",
    "r = K.rank()\n",
    "\n",
    "D,U,V = K.smith_form()\n",
    "S = V[:,(n-r):]\n",
    "S1 = S[:g,:]\n",
    "S2 = S[g:,:]\n",
    "\n",
    "print 'S =\\n', S\n",
    "assert n == 2*g\n",
    "assert r == g"
   ]
  },
  {
   "cell_type": "markdown",
   "metadata": {},
   "source": [
    "# Compute the Matrix $N_1$\n",
    "\n",
    "Compute the Smith normal form of $S$,\n",
    "\n",
    "$$ USV = \\mathcal{E},$$\n",
    "\n",
    "let\n",
    "\n",
    "$$\\tilde{N} = 2U \\begin{pmatrix} -\\text{Re}(P_{\\tilde{\\mathcal{B}}}) \\\\ \\text{Re}(P_{\\tilde{\\mathcal{A}}}) \\end{pmatrix} \\left[ S_1^T\\text{Re}(P_{\\tilde{\\mathcal{A}}}) + S_2^T \\text{Re}(P_{\\tilde{\\mathcal{B}}})\\right]^{-1},$$\n",
    "\n",
    "and define\n",
    "\n",
    "$$N_1 = V N_{1:g,1:g}.$$\n",
    "\n",
    "(The upper $g \\times g$ block of $\\tilde{N}$."
   ]
  },
  {
   "cell_type": "code",
   "execution_count": 10,
   "metadata": {
    "collapsed": false
   },
   "outputs": [],
   "source": [
    "ES, US, VS = S.smith_form()"
   ]
  },
  {
   "cell_type": "code",
   "execution_count": 11,
   "metadata": {
    "collapsed": false
   },
   "outputs": [
    {
     "name": "stdout",
     "output_type": "stream",
     "text": [
      "N1 =\n",
      "\n",
      "[0 0 0 0 0 1]\n",
      "[0 0 0 0 0 1]\n",
      "[0 0 0 0 0 0]\n",
      "[0 0 0 0 1 1]\n",
      "[0 0 0 1 0 1]\n",
      "[1 1 0 1 1 0]\n",
      "\n",
      "(mod 2)\n",
      "\n",
      "6.71879411125e-12\n",
      "True\n"
     ]
    }
   ],
   "source": [
    "Nper = zero_matrix(RDF, 2*g,g)\n",
    "Nper[:g,:] = -Re(Pb)[:,:]\n",
    "Nper[g:,:] = Re(Pa)[:,:]\n",
    "\n",
    "Nhat = (S1.T*Re(Pa) + S2.T*Re(Pb)).inverse()\n",
    "\n",
    "Ntilde = 2*US*Nper*Nhat\n",
    "N1_RDF = VS*Ntilde[:g,:]\n",
    "N1 = N1_RDF.round().change_ring(GF(2))\n",
    "\n",
    "\n",
    "print 'N1 =\\n'\n",
    "print N1\n",
    "print '\\n(mod 2)\\n'\n",
    "err = norm(N1_RDF.round() - N1_RDF)\n",
    "print err\n",
    "print err < 1e-4\n"
   ]
  },
  {
   "cell_type": "markdown",
   "metadata": {},
   "source": [
    "# Compute $Q$ and $\\mathbb{H}$ from $N_1$\n",
    "\n",
    "These matrices satisfy\n",
    "\n",
    "$$Q \\mathbb{H} Q^T \\equiv N_1 \\bmod{2}.$$\n",
    "\n",
    "We start with the expected answers from \"Computing the Topological Type\"."
   ]
  },
  {
   "cell_type": "code",
   "execution_count": 12,
   "metadata": {
    "collapsed": false
   },
   "outputs": [],
   "source": [
    "R = GF(2)\n",
    "\n",
    "# trott solution:\n",
    "N1trott = zero_matrix(R,3)\n",
    "Htrott = zero_matrix(R, 3)\n",
    "Qtrott = identity_matrix(R, 3)\n",
    "\n",
    "# klein solution:\n",
    "N1klein = matrix(R,\n",
    "                [[1,0,1],\n",
    "                 [0,1,1],\n",
    "                 [1,1,1]])\n",
    "Hklein = matrix(R,\n",
    "                [[1,0,0],\n",
    "                 [0,1,0],\n",
    "                 [0,0,1]])\n",
    "Qklein = matrix(R,  # from TopType but incorrect?\n",
    "                [[1,1,1],\n",
    "                 [0,0,1],\n",
    "                 [0,1,0]])\n",
    "#Qklein = matrix(GF(2),  # from \"manual\" derivation\n",
    "#                [[1,0,0],\n",
    "#                 [0,1,0],\n",
    "#                 [1,1,1]])\n",
    "\n",
    "# fermat solution:\n",
    "N1fermat = matrix(R,\n",
    "                 [[0,0,1],\n",
    "                  [0,0,0],\n",
    "                  [1,0,0]])\n",
    "Hfermat = matrix(R,\n",
    "                 [[0,1,0],\n",
    "                  [1,0,0],\n",
    "                  [0,0,0]])\n",
    "Qfermat = matrix(R,\n",
    "                 [[1,0,0],\n",
    "                  [0,0,1],\n",
    "                  [0,1,0]])\n",
    "\n",
    "# genus 6 example solution:\n",
    "N16 = matrix(R,\n",
    "            [[0, 0, 0, 0, 0, 1],\n",
    "             [0, 0, 0, 0, 0, 1],\n",
    "             [0, 0, 0, 0, 0, 0],\n",
    "             [0, 0, 0, 0, 1, 1],\n",
    "             [0, 0, 0, 1, 0, 1],\n",
    "             [1, 1, 0, 1, 1, 0]])\n",
    "\n",
    "H6 = matrix(R,\n",
    "            [[0, 1, 0, 0, 0, 0],\n",
    "             [1, 0, 0, 0, 0, 0],\n",
    "             [0, 0, 0, 1, 0, 0],\n",
    "             [0, 0, 1, 0, 0, 0],\n",
    "             [0, 0, 0, 0, 0, 0],\n",
    "             [0, 0, 0, 0, 0, 0]])\n",
    "\n",
    "Q6paper = matrix(R,\n",
    "           [[1, 0, 0, 0, 0, 0],\n",
    "            [0, 1, 0, 0, 0, 0],\n",
    "            [1, 1, 1, 0, 0, 0],\n",
    "            [0, 1, 0, 0, 1, 0],\n",
    "            [0, 0, 0, 1, 0, 0],\n",
    "            [0, 0, 0, 0, 1, 1]])\n",
    "Q6email = matrix(R,\n",
    "           [[1, 0, 0, 0, 0, 0],\n",
    "            [0, 0, 0, 0, 1, 0],\n",
    "            [0, 0, 1, 0, 0, 0],\n",
    "            [0, 0, 0, 0, 1, 1],\n",
    "            [0, 1, 1, 0, 0, 0],\n",
    "            [0, 0, 0, 1, 0, 0]])\n"
   ]
  },
  {
   "cell_type": "code",
   "execution_count": 13,
   "metadata": {
    "collapsed": false
   },
   "outputs": [],
   "source": [
    "def computeHQ(N1):\n",
    "    # if N1 == 0 (mod 2) then immediately return\n",
    "    g = N1.nrows()\n",
    "    H = zero_matrix(GF(2),g)\n",
    "    Q = identity_matrix(GF(2),g)\n",
    "    if (N1 % 2) == 0:\n",
    "        return H,Q\n",
    "    \n",
    "    # set H=N1, Q=I and perform the modified Gaussian elimination until we\n",
    "    # reach the last column or all remaining columns are zero\n",
    "    B = matrix(GF(2),[[0,1],[1,0]])\n",
    "    H = N1.change_ring(GF(2))\n",
    "    j = 0\n",
    "    while (j < g) and (H[:,j:] != 0):\n",
    "        # if the current column is zero then swap with the last non-zero column\n",
    "        if H.column(j) == 0:\n",
    "            last_non_zero_col = max(k for k in range(j,g) if H.column(k) != 0)\n",
    "            Q.swap_columns(j,last_non_zero_col)\n",
    "            H = Q.T*N1*Q\n",
    "\n",
    "        # if the current diagonal element is 1 then gaussian eliminate as\n",
    "        # usual. otherwise, swap rows so that a \"1\" appears in H[j+1,j] and\n",
    "        # then eliminate from H[j+1,j]\n",
    "        if H[j,j] == 1:\n",
    "            rows_to_eliminate = (r for r in range(g) if H[r,j] == 1 and r != j)\n",
    "            for r in rows_to_eliminate:\n",
    "                Q.add_multiple_of_column(r,j,1)\n",
    "            H = Q.T*N1*Q\n",
    "        else:\n",
    "            # find the first non-zero element in the column after the diagonal\n",
    "            # element and swap rows with this element\n",
    "            first_non_zero = min(k for k in range(j,g) if H[k,j] != 0)\n",
    "            Q.swap_columns(j+1,first_non_zero)\n",
    "            H = Q.T*N1*Q\n",
    "            \n",
    "            # eliminate *all* other ones in the column,including those above\n",
    "            # the element (j,j+1)\n",
    "            rows_to_eliminate = (r for r in range(g) if H[r,j] == 1 and r != j+1)\n",
    "            for r in rows_to_eliminate:\n",
    "                Q.add_multiple_of_column(r,j+1,1)\n",
    "            H = Q.T*N1*Q\n",
    "\n",
    "        # increment the column based on the diagonal element\n",
    "        if H[j,j] == 1:\n",
    "            j += 1\n",
    "        elif H[j:(j+2),j:(j+2)] == B:\n",
    "            j += 2\n",
    "        \n",
    "    # finally, check if there are blocks of \"special\" form\n",
    "    index_one, index_B = diagonal_locations(H)\n",
    "    while index_one < index_B:\n",
    "        j = index_B\n",
    "        \n",
    "        Qtilde = zero_matrix(GF(2), g)\n",
    "        Qtilde[0,0] = 1\n",
    "        Qtilde[j,0] = 1; Qtilde[j+1,0] = 1\n",
    "        Qtilde[0,j] = 1; Qtilde[0,j+1] = 1\n",
    "        Qtilde[j:(j+2),j:(j+2)] = B\n",
    "        \n",
    "        Q = Q*Qtilde\n",
    "        H = Q.T*N1*Q\n",
    "\n",
    "        # continue until none are left\n",
    "        index_one, index_B = diagonal_locations(H)\n",
    "    \n",
    "    return H,Q.T.inverse()\n",
    "\n",
    "def diagonal_locations(H):\n",
    "    r\"\"\"Return `True` if any 2x2 block lies before a diagonal of ones.\"\"\"\n",
    "    g = H.nrows()\n",
    "    B = matrix(GF(2),[[0,1],[1,0]])\n",
    "    \n",
    "    # if there are no ones on the diagonal then set index_one to 0\n",
    "    try:\n",
    "        index_one = min(j for j in range(g) if H[j,j] == 1)\n",
    "    except ValueError:\n",
    "        index_one = g\n",
    "        \n",
    "    # if there are no blocks on the diagonal then set index_B to 0\n",
    "    try:\n",
    "        index_B = max(j for j in range(g-1) if H[j:(j+2),j:(j+2)] == B)\n",
    "    except ValueError:\n",
    "        index_B = -1\n",
    "    return index_one, index_B"
   ]
  },
  {
   "cell_type": "markdown",
   "metadata": {},
   "source": [
    "### Some Tests"
   ]
  },
  {
   "cell_type": "code",
   "execution_count": 14,
   "metadata": {
    "collapsed": false
   },
   "outputs": [],
   "source": [
    "def test_HQ(N1):\n",
    "    H,Q = computeHQ(N1)\n",
    "    assert H.rank() == N1.rank()\n",
    "    assert norm(H - H.T) == 0\n",
    "    assert Q*H*Q.T == N1\n",
    "    \n",
    "N1trott = Qtrott*Htrott*Qtrott.T\n",
    "N1klein = Qklein*Hklein*Qklein.T\n",
    "N1fermat = Qfermat*Hfermat*Qfermat.T\n",
    "N16email = Q6email*H6*Q6email.T\n",
    "N16paper = Q6paper*H6*Q6paper.T\n",
    "\n",
    "test_HQ(N1trott)\n",
    "test_HQ(N1klein)\n",
    "test_HQ(N1fermat)\n",
    "test_HQ(N16email)\n",
    "test_HQ(N16paper)"
   ]
  },
  {
   "cell_type": "code",
   "execution_count": 15,
   "metadata": {
    "collapsed": false
   },
   "outputs": [
    {
     "ename": "ValueError",
     "evalue": "min() arg is an empty sequence",
     "output_type": "error",
     "traceback": [
      "\u001b[0;31m---------------------------------------------------------------------------\u001b[0m",
      "\u001b[0;31mValueError\u001b[0m                                Traceback (most recent call last)",
      "\u001b[0;32m<ipython-input-15-8acc5363999a>\u001b[0m in \u001b[0;36m<module>\u001b[0;34m()\u001b[0m\n\u001b[1;32m      4\u001b[0m \u001b[0;31m# different...maybe an error in the generation of N1?\u001b[0m\u001b[0;34m\u001b[0m\u001b[0;34m\u001b[0m\u001b[0m\n\u001b[1;32m      5\u001b[0m \u001b[0;34m\u001b[0m\u001b[0m\n\u001b[0;32m----> 6\u001b[0;31m \u001b[0mtest_HQ\u001b[0m\u001b[0;34m(\u001b[0m\u001b[0mN1\u001b[0m\u001b[0;34m)\u001b[0m\u001b[0;34m\u001b[0m\u001b[0m\n\u001b[0m",
      "\u001b[0;32m<ipython-input-14-2fbb9f4858ea>\u001b[0m in \u001b[0;36mtest_HQ\u001b[0;34m(N1)\u001b[0m\n\u001b[1;32m      1\u001b[0m \u001b[0;32mdef\u001b[0m \u001b[0mtest_HQ\u001b[0m\u001b[0;34m(\u001b[0m\u001b[0mN1\u001b[0m\u001b[0;34m)\u001b[0m\u001b[0;34m:\u001b[0m\u001b[0;34m\u001b[0m\u001b[0m\n\u001b[0;32m----> 2\u001b[0;31m     \u001b[0mH\u001b[0m\u001b[0;34m,\u001b[0m\u001b[0mQ\u001b[0m \u001b[0;34m=\u001b[0m \u001b[0mcomputeHQ\u001b[0m\u001b[0;34m(\u001b[0m\u001b[0mN1\u001b[0m\u001b[0;34m)\u001b[0m\u001b[0;34m\u001b[0m\u001b[0m\n\u001b[0m\u001b[1;32m      3\u001b[0m     \u001b[0;32massert\u001b[0m \u001b[0mH\u001b[0m\u001b[0;34m.\u001b[0m\u001b[0mrank\u001b[0m\u001b[0;34m(\u001b[0m\u001b[0;34m)\u001b[0m \u001b[0;34m==\u001b[0m \u001b[0mN1\u001b[0m\u001b[0;34m.\u001b[0m\u001b[0mrank\u001b[0m\u001b[0;34m(\u001b[0m\u001b[0;34m)\u001b[0m\u001b[0;34m\u001b[0m\u001b[0m\n\u001b[1;32m      4\u001b[0m     \u001b[0;32massert\u001b[0m \u001b[0mnorm\u001b[0m\u001b[0;34m(\u001b[0m\u001b[0mH\u001b[0m \u001b[0;34m-\u001b[0m \u001b[0mH\u001b[0m\u001b[0;34m.\u001b[0m\u001b[0mT\u001b[0m\u001b[0;34m)\u001b[0m \u001b[0;34m==\u001b[0m \u001b[0mInteger\u001b[0m\u001b[0;34m(\u001b[0m\u001b[0;36m0\u001b[0m\u001b[0;34m)\u001b[0m\u001b[0;34m\u001b[0m\u001b[0m\n\u001b[1;32m      5\u001b[0m     \u001b[0;32massert\u001b[0m \u001b[0mQ\u001b[0m\u001b[0;34m*\u001b[0m\u001b[0mH\u001b[0m\u001b[0;34m*\u001b[0m\u001b[0mQ\u001b[0m\u001b[0;34m.\u001b[0m\u001b[0mT\u001b[0m \u001b[0;34m==\u001b[0m \u001b[0mN1\u001b[0m\u001b[0;34m\u001b[0m\u001b[0m\n",
      "\u001b[0;32m<ipython-input-13-e07f5c83a13e>\u001b[0m in \u001b[0;36mcomputeHQ\u001b[0;34m(N1)\u001b[0m\n\u001b[1;32m     30\u001b[0m             \u001b[0;31m# find the first non-zero element in the column after the diagonal\u001b[0m\u001b[0;34m\u001b[0m\u001b[0;34m\u001b[0m\u001b[0m\n\u001b[1;32m     31\u001b[0m             \u001b[0;31m# element and swap rows with this element\u001b[0m\u001b[0;34m\u001b[0m\u001b[0;34m\u001b[0m\u001b[0m\n\u001b[0;32m---> 32\u001b[0;31m             \u001b[0mfirst_non_zero\u001b[0m \u001b[0;34m=\u001b[0m \u001b[0mmin\u001b[0m\u001b[0;34m(\u001b[0m\u001b[0mk\u001b[0m \u001b[0;32mfor\u001b[0m \u001b[0mk\u001b[0m \u001b[0;32min\u001b[0m \u001b[0mrange\u001b[0m\u001b[0;34m(\u001b[0m\u001b[0mj\u001b[0m\u001b[0;34m,\u001b[0m\u001b[0mg\u001b[0m\u001b[0;34m)\u001b[0m \u001b[0;32mif\u001b[0m \u001b[0mH\u001b[0m\u001b[0;34m[\u001b[0m\u001b[0mk\u001b[0m\u001b[0;34m,\u001b[0m\u001b[0mj\u001b[0m\u001b[0;34m]\u001b[0m \u001b[0;34m!=\u001b[0m \u001b[0mInteger\u001b[0m\u001b[0;34m(\u001b[0m\u001b[0;36m0\u001b[0m\u001b[0;34m)\u001b[0m\u001b[0;34m)\u001b[0m\u001b[0;34m\u001b[0m\u001b[0m\n\u001b[0m\u001b[1;32m     33\u001b[0m             \u001b[0mQ\u001b[0m\u001b[0;34m.\u001b[0m\u001b[0mswap_columns\u001b[0m\u001b[0;34m(\u001b[0m\u001b[0mj\u001b[0m\u001b[0;34m+\u001b[0m\u001b[0mInteger\u001b[0m\u001b[0;34m(\u001b[0m\u001b[0;36m1\u001b[0m\u001b[0;34m)\u001b[0m\u001b[0;34m,\u001b[0m\u001b[0mfirst_non_zero\u001b[0m\u001b[0;34m)\u001b[0m\u001b[0;34m\u001b[0m\u001b[0m\n\u001b[1;32m     34\u001b[0m             \u001b[0mH\u001b[0m \u001b[0;34m=\u001b[0m \u001b[0mQ\u001b[0m\u001b[0;34m.\u001b[0m\u001b[0mT\u001b[0m\u001b[0;34m*\u001b[0m\u001b[0mN1\u001b[0m\u001b[0;34m*\u001b[0m\u001b[0mQ\u001b[0m\u001b[0;34m\u001b[0m\u001b[0m\n",
      "\u001b[0;31mValueError\u001b[0m: min() arg is an empty sequence"
     ]
    }
   ],
   "source": [
    "# note: this currently doesn't work for N1 coming\n",
    "# from the genus 6 period matrix example. the \n",
    "# \"generated\" N1 from the given H and Q is slightly\n",
    "# different...maybe an error in the generation of N1?\n",
    "\n",
    "test_HQ(N1)"
   ]
  },
  {
   "cell_type": "code",
   "execution_count": null,
   "metadata": {
    "collapsed": true
   },
   "outputs": [],
   "source": []
  }
 ],
 "metadata": {
  "kernelspec": {
   "display_name": "SageMath 6.10",
   "language": "",
   "name": "sagemath"
  },
  "language_info": {
   "codemirror_mode": {
    "name": "ipython",
    "version": 2
   },
   "file_extension": ".py",
   "mimetype": "text/x-python",
   "name": "python",
   "nbconvert_exporter": "python",
   "pygments_lexer": "ipython2",
   "version": "2.7.10"
  }
 },
 "nbformat": 4,
 "nbformat_minor": 0
}
