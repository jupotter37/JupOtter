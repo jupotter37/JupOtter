{
 "cells": [
  {
   "cell_type": "code",
   "execution_count": 41,
   "id": "9a0d69ac",
   "metadata": {},
   "outputs": [],
   "source": [
    "import pandas as pd"
   ]
  },
  {
   "cell_type": "code",
   "execution_count": 42,
   "id": "091ba6d2",
   "metadata": {},
   "outputs": [
    {
     "name": "stderr",
     "output_type": "stream",
     "text": [
      "/var/folders/qm/qf74v01n2s12j3w0h1yrx4l00000gn/T/ipykernel_71900/2675306960.py:1: DtypeWarning: Columns (5,14,17,23,24,25,26,29,30,31,32,33,34,35,36,37,38,41,42,43,45,46,47,53,54,55,56,57,62,63,64,65,66,67,68,71,72,73,74,75,76,77,78,79,80,81,82,83,84,85,86,87,88,89,90,91,92,93,94,95,96,98,99,100,103,106,116,118,124,125,126,127,133,136,142) have mixed types. Specify dtype option on import or set low_memory=False.\n",
      "  df = df_tcell = pd.read_csv(\"tcell.csv\", header=[0,1])\n",
      "/var/folders/qm/qf74v01n2s12j3w0h1yrx4l00000gn/T/ipykernel_71900/2675306960.py:2: DtypeWarning: Columns (5,14,15,16,17,18,19,20,21,22,23,24,25,26,29,30,31,32,33,34,35,36,37,38,41,42,43,44,45,46,47,48,49,50,53,54,55,57,58,59,60,61,62,63,64,65,68,69,70,71,72,73,74,75,76,77,78,81,84,89,90,91,92,93,94,97,99) have mixed types. Specify dtype option on import or set low_memory=False.\n",
      "  df_mhc = pd.read_csv(\"mhc_ligand_full.csv\", header=[0, 1])\n"
     ]
    }
   ],
   "source": [
    "df = df_tcell = pd.read_csv(\"tcell.csv\", header=[0,1])\n",
    "df_mhc = pd.read_csv(\"mhc_ligand_full.csv\", header=[0, 1])"
   ]
  },
  {
   "cell_type": "code",
   "execution_count": 43,
   "id": "bd60c441",
   "metadata": {},
   "outputs": [
    {
     "data": {
      "text/plain": [
       "HLA class II      83624\n",
       "HLA-A*02:01       23577\n",
       "HLA class I       14041\n",
       "H2-d class II     11214\n",
       "H2 class II        9069\n",
       "H2-b class II      8767\n",
       "H2-Kb              8553\n",
       "H2-Db              7618\n",
       "H2-IAb             6388\n",
       "HLA-A*11:01        5968\n",
       "H2-b class I       5615\n",
       "H2-Kd              4855\n",
       "HLA-B*07:02        4760\n",
       "HLA-A2             4615\n",
       "HLA-A*24:02        4161\n",
       "HLA-DRB1*04:01     4062\n",
       "H2-k class II      3916\n",
       "HLA-DR             3615\n",
       "HLA-DRB1*01:01     3323\n",
       "H2-d class I       2966\n",
       "Name: Allele Name, dtype: int64"
      ]
     },
     "execution_count": 43,
     "metadata": {},
     "output_type": "execute_result"
    }
   ],
   "source": [
    "df_tcell[\"MHC\"][\"Allele Name\"].value_counts()[:20]"
   ]
  },
  {
   "cell_type": "code",
   "execution_count": 44,
   "id": "e1e82c3d",
   "metadata": {},
   "outputs": [
    {
     "data": {
      "text/plain": [
       "HLA class I       981863\n",
       "HLA class II      481600\n",
       "HLA-A*02:01       149319\n",
       "HLA-B*27:05       143602\n",
       "HLA-DR            109484\n",
       "HLA-DRB1*15:01     87815\n",
       "HLA-DRB1*03:01     80480\n",
       "HLA-DRB1*13:01     73871\n",
       "HLA-DRB1*13:02     73669\n",
       "HLA-DRB1*15:02     70033\n",
       "HLA-DRB1*01:03     70033\n",
       "HLA-B*07:02        60467\n",
       "HLA-A*01:01        52643\n",
       "HLA-A*11:01        49802\n",
       "HLA-B*15:01        45258\n",
       "HLA-B*57:01        44689\n",
       "HLA-B*15:02        37758\n",
       "HLA-A*24:02        37406\n",
       "H2-Db              36815\n",
       "H2-Kb              32873\n",
       "Name: Allele Name, dtype: int64"
      ]
     },
     "execution_count": 44,
     "metadata": {},
     "output_type": "execute_result"
    }
   ],
   "source": [
    "df_mhc[\"MHC\"][\"Allele Name\"].value_counts()[:20]"
   ]
  },
  {
   "cell_type": "code",
   "execution_count": 111,
   "id": "04a4bb62",
   "metadata": {},
   "outputs": [],
   "source": [
    "!wget -nc -q https://www.uniprot.org/uniprot/P01899.fasta  # H-2 D*b\n",
    "!wget -nc -q https://www.uniprot.org/uniprot/P01900.fasta  # H-2 D*d\n",
    "!wget -nc -q https://www.uniprot.org/uniprot/P14427.fasta  # H-2 D*p\n",
    "!wget -nc -q https://www.uniprot.org/uniprot/P14426.fasta  # H-2 D*k\n",
    "!wget -nc -q https://www.uniprot.org/uniprot/Q31145.fasta  # H-2 D*q\n",
    "!wget -nc -q https://www.uniprot.org/uniprot/Q31170.fasta  # H-2 D*r\n",
    "    \n",
    "\n",
    "!wget -nc -q https://www.uniprot.org/uniprot/P01901.fasta  # H-2 K*b\n",
    "!wget -nc -q https://www.uniprot.org/uniprot/P01902.fasta  # H-2 K*d\n",
    "!wget -nc -q https://www.uniprot.org/uniprot/P04223.fasta  # H-2 K*k\n",
    "!wget -nc -q https://www.uniprot.org/uniprot/P14428.fasta  # H-2 K*q\n",
    "!wget -nc -q https://www.uniprot.org/uniprot/Q64272.fasta  # H-2 K*s\n",
    "!wget -nc -q https://www.uniprot.org/uniprot/Q61642.fasta  # H-2 K*sm1\n",
    "\n",
    "!wget -nc -q https://www.uniprot.org/uniprot/P01897.fasta  # H-2 L*d\n",
    "!wget -nc -q https://www.uniprot.org/uniprot/Q31151.fasta  # H-2 L*q\n",
    "    \n",
    "    \n",
    "# non-classical \n",
    "\n",
    "# !wget -nc -q https://www.uniprot.org/uniprot/Q4KN81.fasta  # H-2-Q2\n",
    "!wget -nc -q https://www.uniprot.org/uniprot/P14429.fasta  # H-2-Q7\n",
    "!wget -nc -q https://www.uniprot.org/uniprot/P14430.fasta  # H-2-Q8\n",
    "!wget -nc -q https://www.uniprot.org/uniprot/P14431.fasta  # H-2-Q9\n",
    "!wget -nc -q https://www.uniprot.org/uniprot/P01898.fasta  # H-2-Q10\n",
    "!wget -nc -q https://www.uniprot.org/uniprot/Q8HWB0.fasta  # mouse MR1\n",
    "    \n",
    "\n",
    "# class II \n",
    "\n",
    "# !wget -nc -q https://www.uniprot.org/uniprot/P14434.fasta  # H2-Aa*b\n",
    "    \n",
    "# !wget -nc -q https://www.uniprot.org/uniprot/Q9TQA5.fasta  # RT1-Db1*u \n",
    "# !wget -nc -q https://www.uniprot.org/uniprot/Q9TQA7.fasta  # RT1-Db1*a\n",
    "\n",
    "    \n",
    "    "
   ]
  },
  {
   "cell_type": "code",
   "execution_count": 112,
   "id": "652dd000",
   "metadata": {},
   "outputs": [
    {
     "name": "stdout",
     "output_type": "stream",
     "text": [
      "Total MHC 751\n",
      "Total T-cell 684\n",
      "Total combined 965\n"
     ]
    }
   ],
   "source": [
    "print(\"Total MHC\", len(df_mhc[\"MHC\"][\"Allele Name\"].unique()))\n",
    "print(\"Total T-cell\", len(df_tcell[\"MHC\"][\"Allele Name\"].unique()))\n",
    "combined = set(df_mhc[\"MHC\"][\"Allele Name\"].unique()).union(df_tcell[\"MHC\"][\"Allele Name\"].unique())\n",
    "print(\"Total combined\", len(combined))"
   ]
  },
  {
   "cell_type": "code",
   "execution_count": 113,
   "id": "682c2107",
   "metadata": {},
   "outputs": [],
   "source": [
    "with open(\"iedb-alleles.txt\", \"w\") as f:\n",
    "    for allele in combined:\n",
    "        f.write(\"%s\\n\" % allele)"
   ]
  },
  {
   "cell_type": "code",
   "execution_count": 114,
   "id": "d19346a1",
   "metadata": {},
   "outputs": [],
   "source": [
    "!cat P*.fasta > murine.fasta\n",
    "!cat Q*.fasta >> murine.fasta"
   ]
  },
  {
   "cell_type": "code",
   "execution_count": 115,
   "id": "c26bbc0e",
   "metadata": {},
   "outputs": [
    {
     "name": "stdout",
     "output_type": "stream",
     "text": [
      "      19\r\n"
     ]
    }
   ],
   "source": [
    "!cat murine.fasta | grep '>' | wc -l"
   ]
  },
  {
   "cell_type": "code",
   "execution_count": 122,
   "id": "a9a31309",
   "metadata": {},
   "outputs": [
    {
     "name": "stdout",
     "output_type": "stream",
     "text": [
      "Parsed 11407 IPD-MHC names\n",
      "Parsed 33372 IMGT-HLA names\n",
      "Parsed 19 murine names\n",
      "Murine alleles: {'H-2 class I histocompatibility antigen D-D alpha chain OS=Mus musculus OX=10090 GN=H2-D1 PE=1 SV=1 musculus OX=10090 GN=H2-D1 PE=1 SV=1 GN=H2-D1 PE=1 SV=1 PE=1 SV=1 SV=1', 'H-2 class I histocompatibility antigen D-P alpha chain OS=Mus musculus OX=10090 GN=H2-D1 PE=1 SV=1 musculus OX=10090 GN=H2-D1 PE=1 SV=1 GN=H2-D1 PE=1 SV=1 PE=1 SV=1 SV=1', 'H-2K-s OS=Mus musculus OX=10090 GN=H2-K1 PE=2 SV=1 musculus OX=10090 GN=H2-K1 PE=2 SV=1 GN=H2-K1 PE=2 SV=1 PE=2 SV=1 SV=1', 'H-2 class I histocompatibility antigen Q10 alpha chain OS=Mus musculus OX=10090 GN=H2-Q10 PE=1 SV=3 musculus OX=10090 GN=H2-Q10 PE=1 SV=3 GN=H2-Q10 PE=1 SV=3 PE=1 SV=3 SV=3', 'H-2 class I histocompatibility antigen K-Q alpha chain (Fragment) OS=Mus musculus OX=10090 GN=H2-K1 PE=1 SV=1 musculus OX=10090 GN=H2-K1 PE=1 SV=1 GN=H2-K1 PE=1 SV=1 PE=1 SV=1 SV=1', 'H-2 class I histocompatibility antigen Q8 alpha chain OS=Mus musculus OX=10090 GN=H2-Q8 PE=3 SV=1 musculus OX=10090 GN=H2-Q8 PE=3 SV=1 GN=H2-Q8 PE=3 SV=1 PE=3 SV=1 SV=1', 'class I L-q alpha-chain gene (H2 haplotype) exons 1-3 (Fragment) OS=Mus musculus OX=10090 PE=3 SV=1 musculus OX=10090 PE=3 SV=1 PE=3 SV=1 SV=1', 'H-2 class I histocompatibility antigen L-D alpha chain OS=Mus musculus OX=10090 GN=H2-L PE=1 SV=2 musculus OX=10090 GN=H2-L PE=1 SV=2 GN=H2-L PE=1 SV=2 PE=1 SV=2 SV=2', 'Major histocompatibility complex class I-related gene OS=Mus musculus OX=10090 GN=Mr1 PE=1 SV=2 musculus OX=10090 GN=Mr1 PE=1 SV=2 GN=Mr1 PE=1 SV=2 PE=1 SV=2 SV=2', 'class I D-q alpha-chain (H2 haplotype) exons 1-3 (Fragment) OS=Mus musculus OX=10090 PE=3 SV=1 musculus OX=10090 PE=3 SV=1 PE=3 SV=1 SV=1', 'H-2 class I histocompatibility antigen Q7 alpha chain OS=Mus musculus OX=10090 GN=H2-Q7 PE=1 SV=1 musculus OX=10090 GN=H2-Q7 PE=1 SV=1 GN=H2-Q7 PE=1 SV=1 PE=1 SV=1 SV=1', 'H-2K-sm1 OS=Mus musculus OX=10090 GN=H2-K1 PE=2 SV=1 musculus OX=10090 GN=H2-K1 PE=2 SV=1 GN=H2-K1 PE=2 SV=1 PE=2 SV=1 SV=1', 'H-2 class I histocompatibility antigen D-B alpha chain OS=Mus musculus OX=10090 GN=H2-D1 PE=1 SV=2 musculus OX=10090 GN=H2-D1 PE=1 SV=2 GN=H2-D1 PE=1 SV=2 PE=1 SV=2 SV=2', 'H-2 class I histocompatibility antigen K-K alpha chain OS=Mus musculus OX=10090 GN=H2-K1 PE=1 SV=1 musculus OX=10090 GN=H2-K1 PE=1 SV=1 GN=H2-K1 PE=1 SV=1 PE=1 SV=1 SV=1', 'H-2 class I histocompatibility antigen K-B alpha chain OS=Mus musculus OX=10090 GN=H2-K1 PE=1 SV=1 musculus OX=10090 GN=H2-K1 PE=1 SV=1 GN=H2-K1 PE=1 SV=1 PE=1 SV=1 SV=1', 'H-2 class I histocompatibility antigen K-D alpha chain OS=Mus musculus OX=10090 GN=H2-K1 PE=1 SV=1 musculus OX=10090 GN=H2-K1 PE=1 SV=1 GN=H2-K1 PE=1 SV=1 PE=1 SV=1 SV=1', 'H-2Dr OS=Mus musculus OX=10090 GN=MHC H-2Dr PE=2 SV=1 musculus OX=10090 GN=MHC H-2Dr PE=2 SV=1 GN=MHC H-2Dr PE=2 SV=1 H-2Dr PE=2 SV=1 SV=1', 'H-2 class I histocompatibility antigen D-K alpha chain OS=Mus musculus OX=10090 GN=H2-D1 PE=1 SV=1 musculus OX=10090 GN=H2-D1 PE=1 SV=1 GN=H2-D1 PE=1 SV=1 PE=1 SV=1 SV=1', 'H-2 class I histocompatibility antigen Q9 alpha chain (Fragment) OS=Mus musculus OX=10090 GN=H2-Q9 PE=3 SV=1 musculus OX=10090 GN=H2-Q9 PE=3 SV=1 GN=H2-Q9 PE=3 SV=1 PE=3 SV=1 SV=1'}\n"
     ]
    }
   ],
   "source": [
    "ipd_names = set()\n",
    "with open(\"MHC_prot.fasta\") as f:\n",
    "    for line in f:\n",
    "        if line.startswith(\">\"):\n",
    "            parts = line.split()\n",
    "            name = parts[1]\n",
    "            if name:\n",
    "                ipd_names.add(name)\n",
    "print(\"Parsed %d IPD-MHC names\" % len(ipd_names))\n",
    "hla_names = set()\n",
    "with open(\"hla_prot.fasta\") as f:\n",
    "    for line in f:\n",
    "        if line.startswith(\">\"):\n",
    "            \n",
    "            parts = line.split()\n",
    "            name = parts[1]\n",
    "            if name:\n",
    "                hla_names.add(name)\n",
    "print(\"Parsed %d IMGT-HLA names\" % len(hla_names))\n",
    "\n",
    "murine_names = set()\n",
    "with open(\"murine.fasta\") as f:\n",
    "    for line in f:\n",
    "        if line.startswith(\">\"):\n",
    "            parts = line.split()[1:]\n",
    "            keep_parts = []\n",
    "            for i, part in enumerate(parts):\n",
    "                if \"=\" in part:\n",
    "                    keep_parts.extend(parts[i:])\n",
    "                elif part.endswith(\",\"):\n",
    "                    keep_parts.append(part.replace(\",\", \"\"))\n",
    "                    \n",
    "                elif part.lower() == \"protein\":\n",
    "                    continue\n",
    "                elif part.lower() == \"mhc\":\n",
    "                    continue\n",
    "                else:\n",
    "                    keep_parts.append(part)\n",
    "                \n",
    "            name = \" \".join(keep_parts)\n",
    "            murine_names.add(name)\n",
    "print(\"Parsed %d murine names\" % len(murine_names))\n",
    "print(\"Murine alleles: %s\" % (murine_names,))\n",
    "\n",
    "fasta_names = ipd_names.union(hla_names).union(murine_names)\n",
    "\n",
    "with open(\"reference-mhc-names.txt\", \"w\") as f:\n",
    "    for allele in fasta_names:\n",
    "        f.write(\"%s\\n\" % allele)"
   ]
  },
  {
   "cell_type": "code",
   "execution_count": 123,
   "id": "b38abcdc",
   "metadata": {},
   "outputs": [
    {
     "name": "stdout",
     "output_type": "stream",
     "text": [
      "Total MHC 751\n",
      "Total T-cell 684\n",
      "Total combined 965\n"
     ]
    }
   ],
   "source": [
    "print(\"Total MHC\", len(df_mhc[\"MHC\"][\"Allele Name\"].unique()))\n",
    "print(\"Total T-cell\", len(df_tcell[\"MHC\"][\"Allele Name\"].unique()))\n",
    "combined = set(df_mhc[\"MHC\"][\"Allele Name\"].unique()).union(df_tcell[\"MHC\"][\"Allele Name\"].unique())\n",
    "print(\"Total combined\", len(combined))"
   ]
  },
  {
   "cell_type": "code",
   "execution_count": 124,
   "id": "d9d37813",
   "metadata": {},
   "outputs": [
    {
     "data": {
      "text/plain": [
       "I                2419302\n",
       "II               1511600\n",
       "non classical       8916\n",
       "Name: MHC allele class, dtype: int64"
      ]
     },
     "execution_count": 124,
     "metadata": {},
     "output_type": "execute_result"
    }
   ],
   "source": [
    "df_mhc[\"MHC\"][\"MHC allele class\"].value_counts()"
   ]
  },
  {
   "cell_type": "code",
   "execution_count": 125,
   "id": "cfc3f100",
   "metadata": {},
   "outputs": [
    {
     "data": {
      "text/plain": [
       "II               182491\n",
       "I                131784\n",
       "non classical      3513\n",
       "Name: Class, dtype: int64"
      ]
     },
     "execution_count": 125,
     "metadata": {},
     "output_type": "execute_result"
    }
   ],
   "source": [
    "df_tcell[\"MHC\"][\"Class\"].value_counts()"
   ]
  },
  {
   "cell_type": "code",
   "execution_count": 126,
   "id": "ccb31b5a",
   "metadata": {},
   "outputs": [],
   "source": [
    "df_mhc_class1 = df_mhc[df_mhc[\"MHC\"][\"MHC allele class\"] == \"I\"]\n",
    "df_tcell_class1 = df_tcell[df_tcell[\"MHC\"][\"Class\"] == \"I\"]\n",
    "class1_combined = set(df_mhc_class1[\"MHC\"][\"Allele Name\"]).union(\n",
    "    df_tcell_class1[\"MHC\"][\"Allele Name\"]\n",
    ")\n",
    "with open(\"class1-iedb-alleles.txt\", \"w\") as f:\n",
    "    for allele in class1_combined:\n",
    "        f.write(\"%s\\n\" % allele)"
   ]
  },
  {
   "cell_type": "code",
   "execution_count": 127,
   "id": "27fb0645",
   "metadata": {},
   "outputs": [
    {
     "name": "stdout",
     "output_type": "stream",
     "text": [
      "     512 class1-iedb-alleles.txt\r\n"
     ]
    }
   ],
   "source": [
    "!wc -l class1-iedb-alleles.txt"
   ]
  },
  {
   "cell_type": "code",
   "execution_count": 129,
   "id": "92ad1c9c",
   "metadata": {},
   "outputs": [],
   "source": [
    "with open(\"class1-iedb-tcell-individual-entries.txt\", \"w\") as f:\n",
    "    for allele in df_tcell_class1[\"MHC\"][\"Allele Name\"]:\n",
    "        f.write(\"%s\\n\" % allele)\n",
    "with open(\"class1-iedb-mhc-individual-entries.txt\", \"w\") as f:\n",
    "    for allele in df_mhc_class1[\"MHC\"][\"Allele Name\"]:\n",
    "        f.write(\"%s\\n\" % allele)\n"
   ]
  },
  {
   "cell_type": "code",
   "execution_count": 1,
   "id": "4b196b55",
   "metadata": {},
   "outputs": [
    {
     "name": "stdout",
     "output_type": "stream",
     "text": [
      ">IPD-MHC:NHP00001 Aona-DQA1*27:01 73 bp\r\n",
      "DHVAAYGINLYQSYGLSGQYTHEFDGDEEFYVDLGRKETVWRLPVFSKFAGFDPQGALTN\r\n",
      "IAAGKHNLDILIK\r\n",
      ">IPD-MHC:NHP00002 Aona-DQA1*27:02 74 bp\r\n",
      "DHVAAYGINLYQSYGLSGQYTHEFDGDEEFYMDLERKETVWRLPVFSKFAGFDPQGALTN\r\n",
      "IAAGKHNLDILIKR\r\n",
      ">IPD-MHC:NHP00003 Aona-DQA1*27:03 74 bp\r\n",
      "DHVAAYGITLYQSYGPSGQYTHEFDGDEEFYVDLGRKETVWRLPVFSKFTSFDPQGALTE\r\n",
      "TATGKYNLDILIKQ\r\n",
      ">IPD-MHC:NHP00004 Aona-DQA1*27:04 74 bp\r\n"
     ]
    }
   ],
   "source": [
    "!head MHC_prot.fasta"
   ]
  },
  {
   "cell_type": "code",
   "execution_count": 2,
   "id": "ff73c5ab",
   "metadata": {},
   "outputs": [
    {
     "ename": "NameError",
     "evalue": "name 'df_tcell' is not defined",
     "output_type": "error",
     "traceback": [
      "\u001b[0;31m---------------------------------------------------------------------------\u001b[0m",
      "\u001b[0;31mNameError\u001b[0m                                 Traceback (most recent call last)",
      "\u001b[0;32m/var/folders/qm/qf74v01n2s12j3w0h1yrx4l00000gn/T/ipykernel_7455/2629990471.py\u001b[0m in \u001b[0;36m<module>\u001b[0;34m\u001b[0m\n\u001b[0;32m----> 1\u001b[0;31m \u001b[0mdf_tcell\u001b[0m\u001b[0;34m.\u001b[0m\u001b[0mcolumns\u001b[0m\u001b[0;34m\u001b[0m\u001b[0;34m\u001b[0m\u001b[0m\n\u001b[0m",
      "\u001b[0;31mNameError\u001b[0m: name 'df_tcell' is not defined"
     ]
    }
   ],
   "source": []
  },
  {
   "cell_type": "code",
   "execution_count": null,
   "id": "f1c5e9be",
   "metadata": {},
   "outputs": [],
   "source": []
  }
 ],
 "metadata": {
  "kernelspec": {
   "display_name": "Python 3 (ipykernel)",
   "language": "python",
   "name": "python3"
  },
  "language_info": {
   "codemirror_mode": {
    "name": "ipython",
    "version": 3
   },
   "file_extension": ".py",
   "mimetype": "text/x-python",
   "name": "python",
   "nbconvert_exporter": "python",
   "pygments_lexer": "ipython3",
   "version": "3.8.11"
  }
 },
 "nbformat": 4,
 "nbformat_minor": 5
}
