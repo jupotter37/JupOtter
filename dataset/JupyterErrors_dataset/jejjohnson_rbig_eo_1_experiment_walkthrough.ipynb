{
 "cells": [
  {
   "cell_type": "markdown",
   "metadata": {},
   "source": [
    "# Spatial-Temporal Experiment"
   ]
  },
  {
   "cell_type": "code",
   "execution_count": 1,
   "metadata": {},
   "outputs": [
    {
     "ename": "ModuleNotFoundError",
     "evalue": "No module named 'pyprojroot'",
     "output_type": "error",
     "traceback": [
      "\u001b[0;31m---------------------------------------------------------------------------\u001b[0m",
      "\u001b[0;31mModuleNotFoundError\u001b[0m                       Traceback (most recent call last)",
      "\u001b[0;32m<ipython-input-1-9a645161431b>\u001b[0m in \u001b[0;36m<module>\u001b[0;34m\u001b[0m\n\u001b[1;32m      1\u001b[0m \u001b[0;32mimport\u001b[0m \u001b[0msys\u001b[0m\u001b[0;34m,\u001b[0m \u001b[0mos\u001b[0m\u001b[0;34m\u001b[0m\u001b[0;34m\u001b[0m\u001b[0m\n\u001b[0;32m----> 2\u001b[0;31m \u001b[0;32mfrom\u001b[0m \u001b[0mpyprojroot\u001b[0m \u001b[0;32mimport\u001b[0m \u001b[0mhere\u001b[0m\u001b[0;34m\u001b[0m\u001b[0;34m\u001b[0m\u001b[0m\n\u001b[0m\u001b[1;32m      3\u001b[0m \u001b[0;31m# sys.path.append(here)\u001b[0m\u001b[0;34m\u001b[0m\u001b[0;34m\u001b[0m\u001b[0;34m\u001b[0m\u001b[0m\n\u001b[1;32m      4\u001b[0m \u001b[0;34m\u001b[0m\u001b[0m\n\u001b[1;32m      5\u001b[0m \u001b[0;31m# standard python packages\u001b[0m\u001b[0;34m\u001b[0m\u001b[0;34m\u001b[0m\u001b[0;34m\u001b[0m\u001b[0m\n",
      "\u001b[0;31mModuleNotFoundError\u001b[0m: No module named 'pyprojroot'"
     ]
    }
   ],
   "source": [
    "import sys, os\n",
    "from pyprojroot import here\n",
    "# sys.path.append(here)\n",
    "\n",
    "# standard python packages\n",
    "import xarray as xr\n",
    "import pandas as pd\n",
    "import numpy as np\n",
    "\n",
    "# \n",
    "from src.models.spatemp.train_models import Metrics\n",
    "\n",
    "# # esdc tools\n",
    "# from src.esdc.subset import select_pixel\n",
    "# from src.esdc.shape import ShapeFileExtract, rasterize\n",
    "# from esdc.transform import DensityCubes\n",
    "\n",
    "from tqdm import tqdm\n",
    "\n",
    "import matplotlib.pyplot as plt\n",
    "import cartopy\n",
    "import cartopy.crs as ccrs\n",
    "plt.style.use(['fivethirtyeight', 'seaborn-poster'])\n",
    "%matplotlib inline\n",
    "\n",
    "%load_ext autoreload\n",
    "%autoreload 2"
   ]
  },
  {
   "cell_type": "code",
   "execution_count": 2,
   "metadata": {},
   "outputs": [
    {
     "name": "stdout",
     "output_type": "stream",
     "text": [
      "Cube_2019highColombiaCube_184x120x120.zarr\n",
      "Cube_2019highColombiaCube_1x3360x2760.zarr\n",
      "esdc-8d-0.083deg-184x270x270-2.0.0.zarr\n",
      "esdc-8d-0.083deg-1x2160x4320-2.0.0.zarr\n",
      "esdc-8d-0.25deg-184x90x90-2.0.0.zarr\n",
      "esdc-8d-0.25deg-1x720x1440-2.0.0.zarr\n"
     ]
    }
   ],
   "source": [
    "!ls /media/disk/databases/ESDC/"
   ]
  },
  {
   "cell_type": "markdown",
   "metadata": {},
   "source": [
    "## 1. Get DataCubes"
   ]
  },
  {
   "cell_type": "code",
   "execution_count": 53,
   "metadata": {},
   "outputs": [],
   "source": [
    "filename = '/media/disk/databases/ESDC/esdc-8d-0.25deg-1x720x1440-2.0.0.zarr'\n",
    "\n",
    "datacube = xr.open_zarr(filename)"
   ]
  },
  {
   "cell_type": "code",
   "execution_count": 54,
   "metadata": {},
   "outputs": [
    {
     "data": {
      "text/plain": [
       "<xarray.Dataset>\n",
       "Dimensions:                   (lat: 720, lon: 1440, time: 1702)\n",
       "Coordinates:\n",
       "  * lat                       (lat) float32 89.875 89.625 ... -89.625 -89.875\n",
       "  * time                      (time) datetime64[ns] 1980-01-05 ... 2016-12-30\n",
       "  * lon                       (lon) float32 -179.875 -179.625 ... 179.875\n",
       "Data variables:\n",
       "    soil_moisture             (time, lat, lon) float32 dask.array<chunksize=(1, 720, 1440), meta=np.ndarray>\n",
       "    land_surface_temperature  (time, lat, lon) float32 dask.array<chunksize=(1, 720, 1440), meta=np.ndarray>\n",
       "Attributes:\n",
       "    Metadata_conventions :     Unidata Dataset Discovery v1.0\n",
       "    acknowledgment:            The ESDL team acknowledges all data providers! \n",
       "    chunking:                  1x720x1440\n",
       "    comment:                   none. \n",
       "    contributor_name:          Max Planck Institute for Biogeochemistry\n",
       "    contributor_role:          ESDL Science Lead \n",
       "    creator_email:             info@earthsystemdatalab.net\n",
       "    creator_name:              Brockmann Consult GmbH \n",
       "    creator_url:               www.earthsystemdatalab.net\n",
       "    date_created:              17.12.2018\n",
       "    date_issued:               19.12.2018\n",
       "    date_modified:             17.12.2018\n",
       "    geospatial_lat_max:        89.75\n",
       "    geospatial_lat_min:        -89.75\n",
       "    geospatial_lon_max:        179.75\n",
       "    geospatial_lon_min:        -179.75\n",
       "    geospatial_resolution:     1/4deg\n",
       "    history:                   - processing with esdl cube v0.1  (https://git...\n",
       "    id:                        v2.0.0\n",
       "    institution:               Brockmann Consult GmbH \n",
       "    keywords:                  Earth Science, Geophysical Variables\n",
       "    license:                   Please refer to individual variables\n",
       "    naming_authority:          Earth System Data Lab team\n",
       "    processing_level:          Level 4\n",
       "    project:                   ESA Earth System Data Lab \n",
       "    publisher_email:           info@earthsystemdatalab.net\n",
       "    publisher_name:            Brockmann Consult GmbH & Max Planck Institute ...\n",
       "    publisher_url:             www.brockmann-consult.de\n",
       "    standard_name_vocabulary:  CF-1.7\n",
       "    summary:                   This data set contains a data cube of Earth Sy...\n",
       "    time_coverage_duration:    P37Y\n",
       "    time_coverage_end:         30.12.2016\n",
       "    time_coverage_resolution:  P8D\n",
       "    time_coverage_start:       05.01.1980\n",
       "    title:                     Earth System Data Cube"
      ]
     },
     "execution_count": 54,
     "metadata": {},
     "output_type": "execute_result"
    }
   ],
   "source": [
    "lst_cube = datacube[['soil_moisture', 'land_surface_temperature']]\n",
    "lst_cube"
   ]
  },
  {
   "cell_type": "markdown",
   "metadata": {},
   "source": [
    "## 2. Select Region"
   ]
  },
  {
   "cell_type": "code",
   "execution_count": 55,
   "metadata": {},
   "outputs": [],
   "source": [
    "europe = lst_cube.sel(lat=slice(71.5, 35.5), lon=slice(-18.0, 60.0))"
   ]
  },
  {
   "cell_type": "markdown",
   "metadata": {},
   "source": [
    "## 3. Get Density Cubes"
   ]
  },
  {
   "cell_type": "code",
   "execution_count": 56,
   "metadata": {},
   "outputs": [
    {
     "data": {
      "text/plain": [
       "(5982624, 49)"
      ]
     },
     "execution_count": 56,
     "metadata": {},
     "output_type": "execute_result"
    }
   ],
   "source": [
    "spatial = 7\n",
    "temporal = 1\n",
    "\n",
    "# initialize minicuber\n",
    "minicuber = DensityCubes(\n",
    "    spatial_window=spatial, \n",
    "    time_window=temporal, \n",
    ")\n",
    "\n",
    "europe_df = minicuber.get_minicubes(europe.land_surface_temperature)\n",
    "europe_df.shape"
   ]
  },
  {
   "cell_type": "code",
   "execution_count": 39,
   "metadata": {},
   "outputs": [
    {
     "name": "stdout",
     "output_type": "stream",
     "text": [
      "48\n",
      "49\n",
      "47\n",
      "44\n",
      "43\n",
      "45\n"
     ]
    }
   ],
   "source": [
    "print(7 * 7 * 1 - 1)\n",
    "print(5 * 5 * 2 - 1)\n",
    "print(4 * 4 * 3 - 1)\n",
    "print(3 * 3 * 5 - 1)\n",
    "print(2 * 2 * 11 - 1)\n",
    "print(1 * 1 * 46 - 1)"
   ]
  },
  {
   "cell_type": "code",
   "execution_count": 6,
   "metadata": {},
   "outputs": [
    {
     "data": {
      "text/plain": [
       "(2052734, 46)"
      ]
     },
     "execution_count": 6,
     "metadata": {},
     "output_type": "execute_result"
    }
   ],
   "source": [
    "europe_df.shape"
   ]
  },
  {
   "cell_type": "markdown",
   "metadata": {},
   "source": [
    "## 4. ML Model Framework"
   ]
  },
  {
   "cell_type": "markdown",
   "metadata": {},
   "source": [
    "### 4.1 Preprocessing"
   ]
  },
  {
   "cell_type": "markdown",
   "metadata": {},
   "source": [
    "#### 4.1.1 - Training and testing"
   ]
  },
  {
   "cell_type": "code",
   "execution_count": 57,
   "metadata": {},
   "outputs": [
    {
     "data": {
      "text/html": [
       "<div>\n",
       "<style scoped>\n",
       "    .dataframe tbody tr th:only-of-type {\n",
       "        vertical-align: middle;\n",
       "    }\n",
       "\n",
       "    .dataframe tbody tr th {\n",
       "        vertical-align: top;\n",
       "    }\n",
       "\n",
       "    .dataframe thead th {\n",
       "        text-align: right;\n",
       "    }\n",
       "</style>\n",
       "<table border=\"1\" class=\"dataframe\">\n",
       "  <thead>\n",
       "    <tr style=\"text-align: right;\">\n",
       "      <th></th>\n",
       "      <th></th>\n",
       "      <th></th>\n",
       "      <th>var_x0</th>\n",
       "      <th>var_x1</th>\n",
       "      <th>var_x2</th>\n",
       "      <th>var_x3</th>\n",
       "      <th>var_x4</th>\n",
       "      <th>var_x5</th>\n",
       "      <th>var_x6</th>\n",
       "      <th>var_x7</th>\n",
       "      <th>var_x8</th>\n",
       "      <th>var_x9</th>\n",
       "      <th>...</th>\n",
       "      <th>var_x39</th>\n",
       "      <th>var_x40</th>\n",
       "      <th>var_x41</th>\n",
       "      <th>var_x42</th>\n",
       "      <th>var_x43</th>\n",
       "      <th>var_x44</th>\n",
       "      <th>var_x45</th>\n",
       "      <th>var_x46</th>\n",
       "      <th>var_x47</th>\n",
       "      <th>var_x48</th>\n",
       "    </tr>\n",
       "    <tr>\n",
       "      <th>time</th>\n",
       "      <th>lat</th>\n",
       "      <th>lon</th>\n",
       "      <th></th>\n",
       "      <th></th>\n",
       "      <th></th>\n",
       "      <th></th>\n",
       "      <th></th>\n",
       "      <th></th>\n",
       "      <th></th>\n",
       "      <th></th>\n",
       "      <th></th>\n",
       "      <th></th>\n",
       "      <th></th>\n",
       "      <th></th>\n",
       "      <th></th>\n",
       "      <th></th>\n",
       "      <th></th>\n",
       "      <th></th>\n",
       "      <th></th>\n",
       "      <th></th>\n",
       "      <th></th>\n",
       "      <th></th>\n",
       "      <th></th>\n",
       "    </tr>\n",
       "  </thead>\n",
       "  <tbody>\n",
       "    <tr>\n",
       "      <th rowspan=\"5\" valign=\"top\">2002-05-21</th>\n",
       "      <th rowspan=\"5\" valign=\"top\">70.625</th>\n",
       "      <th>54.375</th>\n",
       "      <td>268.145142</td>\n",
       "      <td>267.553741</td>\n",
       "      <td>267.075653</td>\n",
       "      <td>266.539734</td>\n",
       "      <td>265.585785</td>\n",
       "      <td>266.500458</td>\n",
       "      <td>270.357666</td>\n",
       "      <td>269.060791</td>\n",
       "      <td>268.648926</td>\n",
       "      <td>268.229797</td>\n",
       "      <td>...</td>\n",
       "      <td>269.760193</td>\n",
       "      <td>271.069000</td>\n",
       "      <td>271.488525</td>\n",
       "      <td>268.266052</td>\n",
       "      <td>269.794861</td>\n",
       "      <td>270.075409</td>\n",
       "      <td>271.263397</td>\n",
       "      <td>270.822144</td>\n",
       "      <td>271.262665</td>\n",
       "      <td>269.876068</td>\n",
       "    </tr>\n",
       "    <tr>\n",
       "      <th>54.625</th>\n",
       "      <td>267.553741</td>\n",
       "      <td>267.075653</td>\n",
       "      <td>266.539734</td>\n",
       "      <td>265.585785</td>\n",
       "      <td>266.500458</td>\n",
       "      <td>270.357666</td>\n",
       "      <td>269.116730</td>\n",
       "      <td>268.648926</td>\n",
       "      <td>268.229797</td>\n",
       "      <td>268.201996</td>\n",
       "      <td>...</td>\n",
       "      <td>271.069000</td>\n",
       "      <td>271.488525</td>\n",
       "      <td>270.526123</td>\n",
       "      <td>269.794861</td>\n",
       "      <td>270.075409</td>\n",
       "      <td>271.263397</td>\n",
       "      <td>270.822144</td>\n",
       "      <td>271.262665</td>\n",
       "      <td>269.876068</td>\n",
       "      <td>267.898865</td>\n",
       "    </tr>\n",
       "    <tr>\n",
       "      <th>54.875</th>\n",
       "      <td>267.075653</td>\n",
       "      <td>266.539734</td>\n",
       "      <td>265.585785</td>\n",
       "      <td>266.500458</td>\n",
       "      <td>270.357666</td>\n",
       "      <td>269.116730</td>\n",
       "      <td>269.217926</td>\n",
       "      <td>268.229797</td>\n",
       "      <td>268.201996</td>\n",
       "      <td>268.216003</td>\n",
       "      <td>...</td>\n",
       "      <td>271.488525</td>\n",
       "      <td>270.526123</td>\n",
       "      <td>266.060333</td>\n",
       "      <td>270.075409</td>\n",
       "      <td>271.263397</td>\n",
       "      <td>270.822144</td>\n",
       "      <td>271.262665</td>\n",
       "      <td>269.876068</td>\n",
       "      <td>267.898865</td>\n",
       "      <td>267.227875</td>\n",
       "    </tr>\n",
       "    <tr>\n",
       "      <th>55.125</th>\n",
       "      <td>266.539734</td>\n",
       "      <td>265.585785</td>\n",
       "      <td>266.500458</td>\n",
       "      <td>270.357666</td>\n",
       "      <td>269.116730</td>\n",
       "      <td>269.217926</td>\n",
       "      <td>268.337921</td>\n",
       "      <td>268.201996</td>\n",
       "      <td>268.216003</td>\n",
       "      <td>268.703064</td>\n",
       "      <td>...</td>\n",
       "      <td>270.526123</td>\n",
       "      <td>266.060333</td>\n",
       "      <td>265.535248</td>\n",
       "      <td>271.263397</td>\n",
       "      <td>270.822144</td>\n",
       "      <td>271.262665</td>\n",
       "      <td>269.876068</td>\n",
       "      <td>267.898865</td>\n",
       "      <td>267.227875</td>\n",
       "      <td>267.252319</td>\n",
       "    </tr>\n",
       "    <tr>\n",
       "      <th>55.375</th>\n",
       "      <td>265.585785</td>\n",
       "      <td>266.500458</td>\n",
       "      <td>270.357666</td>\n",
       "      <td>269.116730</td>\n",
       "      <td>269.217926</td>\n",
       "      <td>268.337921</td>\n",
       "      <td>269.024597</td>\n",
       "      <td>268.216003</td>\n",
       "      <td>268.703064</td>\n",
       "      <td>268.308807</td>\n",
       "      <td>...</td>\n",
       "      <td>266.060333</td>\n",
       "      <td>265.535248</td>\n",
       "      <td>267.518524</td>\n",
       "      <td>270.822144</td>\n",
       "      <td>271.262665</td>\n",
       "      <td>269.876068</td>\n",
       "      <td>267.898865</td>\n",
       "      <td>267.227875</td>\n",
       "      <td>267.252319</td>\n",
       "      <td>267.736053</td>\n",
       "    </tr>\n",
       "  </tbody>\n",
       "</table>\n",
       "<p>5 rows × 49 columns</p>\n",
       "</div>"
      ],
      "text/plain": [
       "                              var_x0      var_x1      var_x2      var_x3  \\\n",
       "time       lat    lon                                                      \n",
       "2002-05-21 70.625 54.375  268.145142  267.553741  267.075653  266.539734   \n",
       "                  54.625  267.553741  267.075653  266.539734  265.585785   \n",
       "                  54.875  267.075653  266.539734  265.585785  266.500458   \n",
       "                  55.125  266.539734  265.585785  266.500458  270.357666   \n",
       "                  55.375  265.585785  266.500458  270.357666  269.116730   \n",
       "\n",
       "                              var_x4      var_x5      var_x6      var_x7  \\\n",
       "time       lat    lon                                                      \n",
       "2002-05-21 70.625 54.375  265.585785  266.500458  270.357666  269.060791   \n",
       "                  54.625  266.500458  270.357666  269.116730  268.648926   \n",
       "                  54.875  270.357666  269.116730  269.217926  268.229797   \n",
       "                  55.125  269.116730  269.217926  268.337921  268.201996   \n",
       "                  55.375  269.217926  268.337921  269.024597  268.216003   \n",
       "\n",
       "                              var_x8      var_x9  ...     var_x39     var_x40  \\\n",
       "time       lat    lon                             ...                           \n",
       "2002-05-21 70.625 54.375  268.648926  268.229797  ...  269.760193  271.069000   \n",
       "                  54.625  268.229797  268.201996  ...  271.069000  271.488525   \n",
       "                  54.875  268.201996  268.216003  ...  271.488525  270.526123   \n",
       "                  55.125  268.216003  268.703064  ...  270.526123  266.060333   \n",
       "                  55.375  268.703064  268.308807  ...  266.060333  265.535248   \n",
       "\n",
       "                             var_x41     var_x42     var_x43     var_x44  \\\n",
       "time       lat    lon                                                      \n",
       "2002-05-21 70.625 54.375  271.488525  268.266052  269.794861  270.075409   \n",
       "                  54.625  270.526123  269.794861  270.075409  271.263397   \n",
       "                  54.875  266.060333  270.075409  271.263397  270.822144   \n",
       "                  55.125  265.535248  271.263397  270.822144  271.262665   \n",
       "                  55.375  267.518524  270.822144  271.262665  269.876068   \n",
       "\n",
       "                             var_x45     var_x46     var_x47     var_x48  \n",
       "time       lat    lon                                                     \n",
       "2002-05-21 70.625 54.375  271.263397  270.822144  271.262665  269.876068  \n",
       "                  54.625  270.822144  271.262665  269.876068  267.898865  \n",
       "                  54.875  271.262665  269.876068  267.898865  267.227875  \n",
       "                  55.125  269.876068  267.898865  267.227875  267.252319  \n",
       "                  55.375  267.898865  267.227875  267.252319  267.736053  \n",
       "\n",
       "[5 rows x 49 columns]"
      ]
     },
     "execution_count": 57,
     "metadata": {},
     "output_type": "execute_result"
    }
   ],
   "source": [
    "europe_df.head()\n"
   ]
  },
  {
   "cell_type": "code",
   "execution_count": 58,
   "metadata": {},
   "outputs": [],
   "source": [
    "y = europe_df.iloc[:, 0][:, np.newaxis]\n",
    "X = europe_df.iloc[:, 1:]\n",
    "\n",
    "d_dimensions = X.shape[1]"
   ]
  },
  {
   "cell_type": "markdown",
   "metadata": {},
   "source": [
    "#### 4.1.2 - Train-Test Split"
   ]
  },
  {
   "cell_type": "code",
   "execution_count": 59,
   "metadata": {},
   "outputs": [],
   "source": [
    "from sklearn.model_selection import train_test_split\n",
    "\n",
    "\n",
    "train_size = 1_000\n",
    "random_state = 123\n",
    "\n",
    "xtrain, xtest, ytrain, ytest = train_test_split(\n",
    "    X, y, train_size=train_size, random_state=random_state)\n",
    "\n",
    "test_size = xtest.shape[0]"
   ]
  },
  {
   "cell_type": "markdown",
   "metadata": {},
   "source": [
    "#### 4.1.1 - Normalize"
   ]
  },
  {
   "cell_type": "code",
   "execution_count": 60,
   "metadata": {},
   "outputs": [],
   "source": [
    "from sklearn.preprocessing import StandardScaler\n",
    "\n",
    "# normalize inputs\n",
    "x_normalizer = StandardScaler(with_mean=True, with_std=False)\n",
    "\n",
    "xtrain_norm = x_normalizer.fit_transform(xtrain)\n",
    "xtest_norm = x_normalizer.transform(xtest)\n",
    "\n",
    "# remove mean outputs\n",
    "y_normalizer = StandardScaler(with_std=False)\n",
    "\n",
    "ytrain_norm = y_normalizer.fit_transform(ytrain)\n",
    "ytest_norm = y_normalizer.transform(ytest)"
   ]
  },
  {
   "cell_type": "markdown",
   "metadata": {},
   "source": [
    "### 4.2 - Training"
   ]
  },
  {
   "cell_type": "code",
   "execution_count": 61,
   "metadata": {},
   "outputs": [],
   "source": [
    "from gpy.sparse import SparseGPR\n",
    "import GPy"
   ]
  },
  {
   "cell_type": "code",
   "execution_count": 62,
   "metadata": {},
   "outputs": [
    {
     "data": {
      "application/vnd.jupyter.widget-view+json": {
       "model_id": "5177959d6e784819826fd52f757d39ae",
       "version_major": 2,
       "version_minor": 0
      },
      "text/plain": [
       "HBox(children=(VBox(children=(IntProgress(value=0, max=5000), HTML(value=''))), Box(children=(HTML(value=''),)…"
      ]
     },
     "metadata": {},
     "output_type": "display_data"
    },
    {
     "data": {
      "text/plain": [
       "SparseGPR(alpha=0.5, inference='vfe',\n",
       "          kernel=<GPy.kern.src.rbf.RBF object at 0x7f17d6d41780>,\n",
       "          max_iters=5000, n_inducing=300, n_restarts=0, optimizer='scg',\n",
       "          verbose=1)"
      ]
     },
     "execution_count": 62,
     "metadata": {},
     "output_type": "execute_result"
    }
   ],
   "source": [
    "# gp params\n",
    "n_dims = xtrain_norm.shape[1]\n",
    "kernel = GPy.kern.RBF(input_dim=n_dims, ARD=False)\n",
    "inference = 'vfe'\n",
    "n_inducing = 300\n",
    "verbose = 1\n",
    "max_iters = 5_000\n",
    "n_restarts = 0\n",
    "\n",
    "# initialize GP Model\n",
    "sgp_model = SparseGPR(\n",
    "    kernel=kernel, \n",
    "    inference=inference, \n",
    "    n_inducing=n_inducing, \n",
    "    verbose=verbose,\n",
    "    max_iters=max_iters,\n",
    "    n_restarts=n_restarts\n",
    ")\n",
    "\n",
    "# train GP model\n",
    "sgp_model.fit(xtrain_norm, ytrain_norm)"
   ]
  },
  {
   "cell_type": "code",
   "execution_count": 63,
   "metadata": {},
   "outputs": [
    {
     "data": {
      "text/html": [
       "<style type=\"text/css\">\n",
       ".pd{\n",
       "    font-family: \"Courier New\", Courier, monospace !important;\n",
       "    width: 100%;\n",
       "    padding: 3px;\n",
       "}\n",
       "</style>\n",
       "\n",
       "<p class=pd>\n",
       "<b>Model</b>: sparse_gp<br>\n",
       "<b>Objective</b>: 4313.986904027843<br>\n",
       "<b>Number of Parameters</b>: 14403<br>\n",
       "<b>Number of Optimization Parameters</b>: 14403<br>\n",
       "<b>Updates</b>: True<br>\n",
       "</p>\n",
       "<style type=\"text/css\">\n",
       ".tg  {font-family:\"Courier New\", Courier, monospace !important;padding:2px 3px;word-break:normal;border-collapse:collapse;border-spacing:0;border-color:#DCDCDC;margin:0px auto;width:100%;}\n",
       ".tg td{font-family:\"Courier New\", Courier, monospace !important;font-weight:bold;color:#444;background-color:#F7FDFA;border-style:solid;border-width:1px;overflow:hidden;word-break:normal;border-color:#DCDCDC;}\n",
       ".tg th{font-family:\"Courier New\", Courier, monospace !important;font-weight:normal;color:#fff;background-color:#26ADE4;border-style:solid;border-width:1px;overflow:hidden;word-break:normal;border-color:#DCDCDC;}\n",
       ".tg .tg-left{font-family:\"Courier New\", Courier, monospace !important;font-weight:normal;text-align:left;}\n",
       ".tg .tg-center{font-family:\"Courier New\", Courier, monospace !important;font-weight:normal;text-align:center;}\n",
       ".tg .tg-right{font-family:\"Courier New\", Courier, monospace !important;font-weight:normal;text-align:right;}\n",
       "</style>\n",
       "<table class=\"tg\"><tr><th><b>  sparse_gp.             </b></th><th><b>                 value</b></th><th><b>constraints</b></th><th><b>priors</b></th></tr>\n",
       "<tr><td class=tg-left>  inducing inputs        </td><td class=tg-right>             (300, 48)</td><td class=tg-center>           </td><td class=tg-center>      </td></tr>\n",
       "<tr><td class=tg-left>  rbf.variance           </td><td class=tg-right>2.1394880780812098e-16</td><td class=tg-center>    +ve    </td><td class=tg-center>      </td></tr>\n",
       "<tr><td class=tg-left>  rbf.lengthscale        </td><td class=tg-right>    0.8861813022707942</td><td class=tg-center>    +ve    </td><td class=tg-center>      </td></tr>\n",
       "<tr><td class=tg-left>  Gaussian_noise.variance</td><td class=tg-right>    326.94648917027007</td><td class=tg-center>    +ve    </td><td class=tg-center>      </td></tr>\n",
       "</table>"
      ],
      "text/plain": [
       "<GPy.models.sparse_gp_regression.SparseGPRegression at 0x7f17d6d41d68>"
      ]
     },
     "execution_count": 63,
     "metadata": {},
     "output_type": "execute_result"
    }
   ],
   "source": [
    "sgp_model.display_model()"
   ]
  },
  {
   "cell_type": "markdown",
   "metadata": {},
   "source": [
    "### 4.3 - Testing"
   ]
  },
  {
   "cell_type": "code",
   "execution_count": null,
   "metadata": {},
   "outputs": [],
   "source": []
  },
  {
   "cell_type": "code",
   "execution_count": 65,
   "metadata": {},
   "outputs": [],
   "source": [
    "ypred = sgp_model.predict(xtest_norm, return_std=False)"
   ]
  },
  {
   "cell_type": "code",
   "execution_count": 66,
   "metadata": {},
   "outputs": [
    {
     "data": {
      "text/plain": [
       "((5981624, 1), (5981624, 1))"
      ]
     },
     "execution_count": 66,
     "metadata": {},
     "output_type": "execute_result"
    }
   ],
   "source": [
    "ypred.shape, ytest_norm.shape"
   ]
  },
  {
   "cell_type": "code",
   "execution_count": 67,
   "metadata": {},
   "outputs": [
    {
     "data": {
      "text/html": [
       "<div>\n",
       "<style scoped>\n",
       "    .dataframe tbody tr th:only-of-type {\n",
       "        vertical-align: middle;\n",
       "    }\n",
       "\n",
       "    .dataframe tbody tr th {\n",
       "        vertical-align: top;\n",
       "    }\n",
       "\n",
       "    .dataframe thead th {\n",
       "        text-align: right;\n",
       "    }\n",
       "</style>\n",
       "<table border=\"1\" class=\"dataframe\">\n",
       "  <thead>\n",
       "    <tr style=\"text-align: right;\">\n",
       "      <th></th>\n",
       "      <th>mae</th>\n",
       "      <th>mse</th>\n",
       "      <th>rmse</th>\n",
       "      <th>r2</th>\n",
       "    </tr>\n",
       "  </thead>\n",
       "  <tbody>\n",
       "    <tr>\n",
       "      <th>0</th>\n",
       "      <td>15.522687</td>\n",
       "      <td>338.304949</td>\n",
       "      <td>18.393068</td>\n",
       "      <td>-0.000268</td>\n",
       "    </tr>\n",
       "  </tbody>\n",
       "</table>\n",
       "</div>"
      ],
      "text/plain": [
       "         mae         mse       rmse        r2\n",
       "0  15.522687  338.304949  18.393068 -0.000268"
      ]
     },
     "execution_count": 67,
     "metadata": {},
     "output_type": "execute_result"
    }
   ],
   "source": [
    "stats = Metrics().get_all(ypred.squeeze(), ytest_norm.squeeze())\n",
    "stats"
   ]
  },
  {
   "cell_type": "code",
   "execution_count": 72,
   "metadata": {},
   "outputs": [
    {
     "data": {
      "text/plain": [
       "array([-0.00026803])"
      ]
     },
     "execution_count": 72,
     "metadata": {},
     "output_type": "execute_result"
    }
   ],
   "source": [
    "stats['r2'].values"
   ]
  },
  {
   "cell_type": "code",
   "execution_count": null,
   "metadata": {},
   "outputs": [],
   "source": [
    "def _predict(model, Xs, batch_size):\n",
    "    ms = []\n",
    "    n = max(len(Xs) / batch_size, 1)  # predict in small batches\n",
    "    with tqdm(np.array_split(Xs, n)) as bar:\n",
    "        for xs in bar:\n",
    "            m = model.predict(xs,)\n",
    "            ms.append(m)\n",
    "\n",
    "    return np.vstack(ms)"
   ]
  },
  {
   "cell_type": "code",
   "execution_count": 85,
   "metadata": {},
   "outputs": [
    {
     "name": "stderr",
     "output_type": "stream",
     "text": [
      "100%|██████████| 598/598 [00:51<00:00, 11.56it/s]\n"
     ]
    }
   ],
   "source": [
    "batch_size = 5_000\n",
    "ms = []\n",
    "n = max(len(xtest_norm) / batch_size, 1)  # predict in small batches\n",
    "with tqdm(np.array_split(xtest_norm, n)) as bar:\n",
    "    for xs in bar:\n",
    "        m = sgp_model.predict(xs,)\n",
    "        ms.append(m)\n",
    "\n"
   ]
  },
  {
   "cell_type": "code",
   "execution_count": 87,
   "metadata": {},
   "outputs": [
    {
     "data": {
      "text/plain": [
       "(5981624, 1)"
      ]
     },
     "execution_count": 87,
     "metadata": {},
     "output_type": "execute_result"
    }
   ],
   "source": [
    "np.vstack(ms).shape"
   ]
  },
  {
   "cell_type": "code",
   "execution_count": 82,
   "metadata": {},
   "outputs": [
    {
     "name": "stderr",
     "output_type": "stream",
     "text": [
      "100%|██████████| 1196/1196 [00:44<00:00, 27.05it/s]\n"
     ]
    },
    {
     "ename": "ValueError",
     "evalue": "all the input array dimensions for the concatenation axis must match exactly, but along dimension 0, the array at index 0 has size 5002 and the array at index 428 has size 5001",
     "output_type": "error",
     "traceback": [
      "\u001b[0;31m---------------------------------------------------------------------------\u001b[0m",
      "\u001b[0;31mValueError\u001b[0m                                Traceback (most recent call last)",
      "\u001b[0;32m<ipython-input-82-585df2283be9>\u001b[0m in \u001b[0;36m<module>\u001b[0;34m\u001b[0m\n\u001b[0;32m----> 1\u001b[0;31m \u001b[0mypred\u001b[0m \u001b[0;34m=\u001b[0m \u001b[0m_predict\u001b[0m\u001b[0;34m(\u001b[0m\u001b[0msgp_model\u001b[0m\u001b[0;34m,\u001b[0m \u001b[0mxtest_norm\u001b[0m\u001b[0;34m,\u001b[0m \u001b[0;36m5_000\u001b[0m\u001b[0;34m)\u001b[0m\u001b[0;34m\u001b[0m\u001b[0;34m\u001b[0m\u001b[0m\n\u001b[0m",
      "\u001b[0;32m<ipython-input-81-0f411118c22e>\u001b[0m in \u001b[0;36m_predict\u001b[0;34m(model, Xs, batch_size)\u001b[0m\n\u001b[1;32m      7\u001b[0m             \u001b[0mms\u001b[0m\u001b[0;34m.\u001b[0m\u001b[0mappend\u001b[0m\u001b[0;34m(\u001b[0m\u001b[0mm\u001b[0m\u001b[0;34m)\u001b[0m\u001b[0;34m\u001b[0m\u001b[0;34m\u001b[0m\u001b[0m\n\u001b[1;32m      8\u001b[0m \u001b[0;34m\u001b[0m\u001b[0m\n\u001b[0;32m----> 9\u001b[0;31m     \u001b[0;32mreturn\u001b[0m \u001b[0mnp\u001b[0m\u001b[0;34m.\u001b[0m\u001b[0mconcatenate\u001b[0m\u001b[0;34m(\u001b[0m\u001b[0mms\u001b[0m\u001b[0;34m,\u001b[0m \u001b[0;36m1\u001b[0m\u001b[0;34m)\u001b[0m\u001b[0;34m\u001b[0m\u001b[0;34m\u001b[0m\u001b[0m\n\u001b[0m",
      "\u001b[0;32m<__array_function__ internals>\u001b[0m in \u001b[0;36mconcatenate\u001b[0;34m(*args, **kwargs)\u001b[0m\n",
      "\u001b[0;31mValueError\u001b[0m: all the input array dimensions for the concatenation axis must match exactly, but along dimension 0, the array at index 0 has size 5002 and the array at index 428 has size 5001"
     ]
    }
   ],
   "source": [
    "ypred = _predict(sgp_model, xtest_norm, 5_000)"
   ]
  },
  {
   "cell_type": "code",
   "execution_count": null,
   "metadata": {},
   "outputs": [],
   "source": [
    "ypred.shape"
   ]
  },
  {
   "cell_type": "code",
   "execution_count": null,
   "metadata": {},
   "outputs": [],
   "source": []
  }
 ],
 "metadata": {
  "kernelspec": {
   "display_name": "Python [conda env:.conda-rbig_eo]",
   "language": "python",
   "name": "conda-env-.conda-rbig_eo-py"
  },
  "language_info": {
   "codemirror_mode": {
    "name": "ipython",
    "version": 3
   },
   "file_extension": ".py",
   "mimetype": "text/x-python",
   "name": "python",
   "nbconvert_exporter": "python",
   "pygments_lexer": "ipython3",
   "version": "3.8.2"
  }
 },
 "nbformat": 4,
 "nbformat_minor": 4
}
