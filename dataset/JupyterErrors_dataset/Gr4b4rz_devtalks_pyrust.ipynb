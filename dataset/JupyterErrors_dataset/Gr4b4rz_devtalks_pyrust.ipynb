{
 "cells": [
  {
   "cell_type": "code",
   "execution_count": 1,
   "id": "39568632-84bc-4359-a87f-649ab9386a84",
   "metadata": {},
   "outputs": [],
   "source": [
    "import pyrust\n",
    "from pyrust import PktInfo"
   ]
  },
  {
   "cell_type": "code",
   "execution_count": 10,
   "id": "d20dd669-e0a7-4807-997f-18505124f555",
   "metadata": {},
   "outputs": [],
   "source": [
    "pkt_infos = pyrust.get_pkt_infos(\"some_pcap.pcap\")"
   ]
  },
  {
   "cell_type": "code",
   "execution_count": 11,
   "id": "9e5b5735-b3f2-404c-b43b-ae848f6dd8fc",
   "metadata": {},
   "outputs": [],
   "source": [
    "pkt_info = pkt_infos[0]"
   ]
  },
  {
   "cell_type": "code",
   "execution_count": 12,
   "id": "4a915a90-425b-48ae-b50e-c0b8679d2a09",
   "metadata": {},
   "outputs": [
    {
     "data": {
      "text/plain": [
       "20"
      ]
     },
     "execution_count": 12,
     "metadata": {},
     "output_type": "execute_result"
    }
   ],
   "source": [
    "pkt_info.src_port"
   ]
  },
  {
   "cell_type": "code",
   "execution_count": 13,
   "id": "8a52f80b-087a-4a48-8652-e5ee839e4e71",
   "metadata": {},
   "outputs": [
    {
     "data": {
      "text/plain": [
       "'127.0.0.1'"
      ]
     },
     "execution_count": 13,
     "metadata": {},
     "output_type": "execute_result"
    }
   ],
   "source": [
    "pkt_info.src_ip"
   ]
  },
  {
   "cell_type": "code",
   "execution_count": 14,
   "id": "5b5302fa-a29d-40ce-a69a-ab8a70a19b6f",
   "metadata": {},
   "outputs": [
    {
     "ename": "AttributeError",
     "evalue": "'builtins.PktInfo' object has no attribute 'dst_ip'",
     "output_type": "error",
     "traceback": [
      "\u001b[0;31m---------------------------------------------------------------------------\u001b[0m",
      "\u001b[0;31mAttributeError\u001b[0m                            Traceback (most recent call last)",
      "Cell \u001b[0;32mIn[14], line 1\u001b[0m\n\u001b[0;32m----> 1\u001b[0m \u001b[43mpkt_info\u001b[49m\u001b[38;5;241;43m.\u001b[39;49m\u001b[43mdst_ip\u001b[49m\n",
      "\u001b[0;31mAttributeError\u001b[0m: 'builtins.PktInfo' object has no attribute 'dst_ip'"
     ]
    }
   ],
   "source": [
    "pkt_info.dst_ip"
   ]
  },
  {
   "cell_type": "code",
   "execution_count": 16,
   "id": "83e3e391-228b-4758-833e-f2719acbf727",
   "metadata": {},
   "outputs": [],
   "source": [
    "x = PktInfo(\"1.2.3.4\", \"2.3.4.5\", 10, 20)"
   ]
  },
  {
   "cell_type": "code",
   "execution_count": 2,
   "id": "b988d22f-da23-4890-8615-7ebcf1c42c14",
   "metadata": {},
   "outputs": [],
   "source": [
    "from main import PktFilter"
   ]
  },
  {
   "cell_type": "code",
   "execution_count": 3,
   "id": "58356294-ca76-44b5-b3dc-19f39c0a678f",
   "metadata": {},
   "outputs": [],
   "source": [
    "pkt_filter = PktFilter(ports=[20,80,100], ips=[\"127.0.0.1\"])"
   ]
  },
  {
   "cell_type": "code",
   "execution_count": 4,
   "id": "49cb5eff-776b-4f99-a9bc-aa03b2790716",
   "metadata": {},
   "outputs": [],
   "source": [
    "res = pyrust.get_filtered_pkt_infos(\"some_pcap.pcap\", pkt_filter)"
   ]
  },
  {
   "cell_type": "code",
   "execution_count": null,
   "id": "8632ec46-5bf3-42bb-9cb8-c8e714bb2227",
   "metadata": {},
   "outputs": [],
   "source": [
    "res"
   ]
  }
 ],
 "metadata": {
  "kernelspec": {
   "display_name": "Python 3 (ipykernel)",
   "language": "python",
   "name": "python3"
  },
  "language_info": {
   "codemirror_mode": {
    "name": "ipython",
    "version": 3
   },
   "file_extension": ".py",
   "mimetype": "text/x-python",
   "name": "python",
   "nbconvert_exporter": "python",
   "pygments_lexer": "ipython3",
   "version": "3.11.2"
  }
 },
 "nbformat": 4,
 "nbformat_minor": 5
}
