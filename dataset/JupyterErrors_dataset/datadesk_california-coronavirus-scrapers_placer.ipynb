{
 "cells": [
  {
   "cell_type": "markdown",
   "metadata": {},
   "source": [
    "## Configuration\n",
    "_Initial steps to get the notebook ready to play nice with our repository. Do not delete this section._"
   ]
  },
  {
   "cell_type": "markdown",
   "metadata": {},
   "source": [
    "Code formatting with [black](https://pypi.org/project/nb-black/)."
   ]
  },
  {
   "cell_type": "code",
   "execution_count": 1,
   "metadata": {},
   "outputs": [],
   "source": [
    ""
   ]
  },
  {
   "cell_type": "code",
   "execution_count": 2,
   "metadata": {},
   "outputs": [],
   "source": [
    "import os\n",
    "import pytz\n",
    "import glob\n",
    "import pathlib\n",
    "\n",
    "this_dir = pathlib.Path(os.path.abspath(\"\"))\n",
    "data_dir = this_dir / \"data\""
   ]
  },
  {
   "cell_type": "code",
   "execution_count": 3,
   "metadata": {},
   "outputs": [
    {
     "name": "stderr",
     "output_type": "stream",
     "text": [
      "/Users/slee/.local/share/virtualenvs/california-coronavirus-scrapers-QTClc1WQ/lib/python3.8/site-packages/pandas/compat/__init__.py:124: UserWarning: Could not import the lzma module. Your installed Python is incomplete. Attempting to use lzma compression will result in a RuntimeError.\n",
      "  warnings.warn(msg)\n"
     ]
    }
   ],
   "source": [
    "import requests\n",
    "import pandas as pd\n",
    "from bs4 import BeautifulSoup\n",
    "import re\n",
    "import json\n",
    "from datetime import datetime"
   ]
  },
  {
   "cell_type": "markdown",
   "metadata": {},
   "source": [
    "## Download"
   ]
  },
  {
   "cell_type": "markdown",
   "metadata": {},
   "source": [
    "Retrieve the page"
   ]
  },
  {
   "cell_type": "code",
   "execution_count": 4,
   "metadata": {},
   "outputs": [],
   "source": [
    "url = \"https://itwebservices.placer.ca.gov/coviddashboard/#cases-by-zip-coderegion\""
   ]
  },
  {
   "cell_type": "code",
   "execution_count": 5,
   "metadata": {},
   "outputs": [
    {
     "name": "stderr",
     "output_type": "stream",
     "text": [
      "/Users/slee/.local/share/virtualenvs/california-coronavirus-scrapers-QTClc1WQ/lib/python3.8/site-packages/urllib3/connectionpool.py:1013: InsecureRequestWarning: Unverified HTTPS request is being made to host 'itwebservices.placer.ca.gov'. Adding certificate verification is strongly advised. See: https://urllib3.readthedocs.io/en/1.26.x/advanced-usage.html#ssl-warnings\n",
      "  warnings.warn(\n"
     ]
    }
   ],
   "source": [
    "page = requests.get(url, verify=False)"
   ]
  },
  {
   "cell_type": "markdown",
   "metadata": {},
   "source": [
    "## Parse"
   ]
  },
  {
   "cell_type": "code",
   "execution_count": 6,
   "metadata": {},
   "outputs": [],
   "source": [
    "soup = BeautifulSoup(page.content, \"html.parser\")"
   ]
  },
  {
   "cell_type": "markdown",
   "metadata": {},
   "source": [
    "Find script tag with the Infogram data"
   ]
  },
  {
   "cell_type": "code",
   "execution_count": 7,
   "metadata": {},
   "outputs": [],
   "source": [
    "for elem in soup(text=re.compile(r\"Foresthill\")):\n",
    "    script_content = elem"
   ]
  },
  {
   "cell_type": "code",
   "execution_count": 9,
   "metadata": {},
   "outputs": [
    {
     "data": {
      "text/plain": [
       "<!DOCTYPE html>\n",
       "\n",
       "<html>\n",
       "<script src=\"/bni_1896b1697d8ca9f980069c2600d67e25.js\" type=\"text/javascript\"></script> <script language=\"JavaScript\" type=\"text/javascript\">var _0x5aae=[\"cookie\",\"x-bni-fpc=\",\"; expires=Thu, 01 Jan 2037 00:00:00 UTC; path=/;\",\"x-bni-rncf=1669745535919; expires=Thu, 01 Jan 2037 00:00:00 UTC; path=/;\",\"get\"];function fiprn(){( new fiprn_v2)[_0x5aae[4]](function(_0x6130x2,_0x6130x3){document[_0x5aae[0]]= _0x5aae[1]+ _0x6130x2+ _0x5aae[2],document[_0x5aae[0]]= _0x5aae[3]})}</script>\n",
       "<head>\n",
       "<script src=\"https://ajax.googleapis.com/ajax/libs/jquery/3.6.0/jquery.min.js\"></script>\n",
       "<link crossorigin=\"anonymous\" href=\"https://cdn.jsdelivr.net/npm/bootstrap@4.6.2/dist/css/bootstrap.min.css\" integrity=\"sha384-xOolHFLEh07PJGoPkLv1IbcEPTNtaed2xpHsD9ESMhqIYd0nLMwNLD69Npy4HI+N\" rel=\"stylesheet\"/>\n",
       "<script crossorigin=\"anonymous\" integrity=\"sha384-+sLIOodYLS7CIrQpBjl+C7nPvqq+FbNUBDunl/OZv93DB7Ln/533i8e/mZXLi/P+\" src=\"https://cdn.jsdelivr.net/npm/bootstrap@4.6.2/dist/js/bootstrap.min.js\"></script>\n",
       "<link href=\"cdashboard.css\" rel=\"stylesheet\"/>\n",
       "</head>\n",
       "<body onload=\"fiprn()\">\n",
       "<nav class=\"navbar navbar-dark navbar-fixed-top navbar-expand-lg\" role=\"navigation\">\n",
       "<span class=\"navbar-brand\">COVID-19 Dashboard</span>\n",
       "<button aria-controls=\"navbarNavAltMarkup\" aria-expanded=\"false\" aria-label=\"Toggle navigation\" class=\"navbar-toggler\" data-target=\"#navbarNavAltMarkup\" data-toggle=\"collapse\" type=\"button\">\n",
       "<span class=\"navbar-toggler-icon\"></span>\n",
       "</button>\n",
       "<div class=\"collapse navbar-collapse\" id=\"navbarNavAltMarkup\">\n",
       "<div class=\"navbar-nav\" style=\"width:100%;text-align:center;\">\n",
       "<a class=\"containerlink nav-item nav-link\" id=\"containerclickme\" onclick=\"demo('Cases', this, 'gray')\">Cases &amp; Deaths</a>\n",
       "<a class=\"containerlink nav-item nav-link\" onclick=\"demo('Testing', this, 'gray')\">Testing</a>\n",
       "<a class=\"containerlink nav-item nav-link\" onclick=\"demo('Hospitalizations', this, 'gray')\">Hospitalizations</a>\n",
       "<a class=\"containerlink nav-item nav-link\" onclick=\"demo('Vaccination', this, 'gray')\">Vaccination</a>\n",
       "</div>\n",
       "</div>\n",
       "</nav>\n",
       "<!-- Add the \"hidden\" class here to hide the Alert -->\n",
       "<div class=\"alertbar card\">\n",
       "<div class=\"card-body containertabcontent\">\n",
       "<em>\n",
       "\tWelcome to the Placer County COVID-19 dashboard, which is now sourced directly from California Department of Public Health data sources.\t\n",
       "\t</em>\n",
       "</div>\n",
       "</div>\n",
       "<div class=\"containertabcontent\">\n",
       "<div class=\"d-none d-lg-block\">\n",
       "<p>The data below is updated and maintained by the California Department of Public Health. By default, Placer data is displayed yet you may select other counties to view additional data. You may also select additional metrics from the dropdown to view.</p>\n",
       "</div>\n",
       "</div>\n",
       "<div class=\"containertabcontent\">\n",
       "<iframe id=\"container\" style=\"width:100%; height:1300px;overflow:auto;border:none;\">\n",
       "</iframe>\n",
       "</div>\n",
       "<div class=\"containertabcontent\">\n",
       "<footer class=\"d-flex flex-wrap justify-content-between align-items-center py-3 my-4 border-top\">\n",
       "<div class=\"col-md-4 d-flex align-items-center\">\n",
       "<a class=\"mb-3 me-2 mb-md-0 text-muted text-decoration-none lh-1\" href=\"/\">\n",
       "<svg class=\"bi\" height=\"24\" width=\"30\"><use xlink:href=\"#bootstrap\"></use></svg>\n",
       "</a>\n",
       "<span class=\"text-muted\">© 2021 Placer County</span>\n",
       "</div>\n",
       "<ul class=\"nav col-md-4 justify-content-end list-unstyled d-flex\">\n",
       "<li class=\"ms-3\"><a class=\"text-muted\" href=\"#\"><svg class=\"bi\" height=\"24\" width=\"24\"><use xlink:href=\"#twitter\"></use></svg></a></li>\n",
       "<li class=\"ms-3\"><a class=\"text-muted\" href=\"#\"><svg class=\"bi\" height=\"24\" width=\"24\"><use xlink:href=\"#instagram\"></use></svg></a></li>\n",
       "<li class=\"ms-3\"><a class=\"text-muted\" href=\"#\"><svg class=\"bi\" height=\"24\" width=\"24\"><use xlink:href=\"#facebook\"></use></svg></a></li>\n",
       "</ul>\n",
       "</footer>\n",
       "</div>\n",
       "<script>\n",
       "var hasRun = false;\n",
       "\n",
       "function demo(pageName,elmnt,color) {\n",
       "\tlet fname= pageName + '.html';\n",
       "\tconsole.log(fname);\n",
       "\tdocument.getElementById('container').src=fname;\n",
       "\n",
       "\tlet tablinks = document.getElementsByClassName(\"containerlink-selected\");\n",
       "\tfor (i = 0; i < tablinks.length; i++) {\n",
       "\t\ttablinks[i].className=\"containerlink\";\n",
       "\t\t//tablinks[i].style.backgroundColor = \"\";\n",
       "\t}\n",
       "\n",
       "\t//elmnt.style.backgroundColor=color;\n",
       "\telmnt.className=\"containerlink-selected\";\n",
       "}\n",
       "if (!hasRun)\n",
       "{\n",
       "\tdocument.getElementById('containerclickme').click();\n",
       "\thasRun = true;\n",
       "}\n",
       "\n",
       "</script>\n",
       "</body>\n",
       "</html>"
      ]
     },
     "execution_count": 9,
     "metadata": {},
     "output_type": "execute_result"
    }
   ],
   "source": [
    "soup"
   ]
  },
  {
   "cell_type": "code",
   "execution_count": 8,
   "metadata": {},
   "outputs": [
    {
     "ename": "NameError",
     "evalue": "name 'script_content' is not defined",
     "output_type": "error",
     "traceback": [
      "\u001b[0;31m---------------------------------------------------------------------------\u001b[0m",
      "\u001b[0;31mNameError\u001b[0m                                 Traceback (most recent call last)",
      "\u001b[0;32m/var/folders/zd/yxs_1mzx1pn4j9kd8cq39n4r0000gn/T/ipykernel_57780/952810599.py\u001b[0m in \u001b[0;36m<module>\u001b[0;34m\u001b[0m\n\u001b[0;32m----> 1\u001b[0;31m \u001b[0mdata\u001b[0m \u001b[0;34m=\u001b[0m \u001b[0mjson\u001b[0m\u001b[0;34m.\u001b[0m\u001b[0mloads\u001b[0m\u001b[0;34m(\u001b[0m\u001b[0mscript_content\u001b[0m\u001b[0;34m)\u001b[0m\u001b[0;34m\u001b[0m\u001b[0;34m\u001b[0m\u001b[0m\n\u001b[0m",
      "\u001b[0;31mNameError\u001b[0m: name 'script_content' is not defined"
     ]
    }
   ],
   "source": [
    "data = json.loads(script_content)"
   ]
  },
  {
   "cell_type": "code",
   "execution_count": null,
   "metadata": {},
   "outputs": [],
   "source": [
    "zip_cities_list = data[\"x\"][\"calls\"][1][\"args\"][-3]"
   ]
  },
  {
   "cell_type": "code",
   "execution_count": null,
   "metadata": {},
   "outputs": [],
   "source": [
    "dict_list = []"
   ]
  },
  {
   "cell_type": "code",
   "execution_count": null,
   "metadata": {},
   "outputs": [],
   "source": [
    "TAG_RE = re.compile(r\"<[^>]+>\")"
   ]
  },
  {
   "cell_type": "code",
   "execution_count": null,
   "metadata": {},
   "outputs": [],
   "source": [
    "for z in zip_cities_list:\n",
    "    split_zips = z.split(\"<br/>\")\n",
    "    area = TAG_RE.sub(\"\", str(split_zips[0]))\n",
    "    zip_code, city = area.split(\" - \")\n",
    "    clean_cases = re.sub(\"Number of cases: \".lower(), \"\", str(split_zips[1]).lower())\n",
    "    d = dict(area=area, city=city, zip_code=zip_code, confirmed_cases=clean_cases)\n",
    "    dict_list.append(d)"
   ]
  },
  {
   "cell_type": "code",
   "execution_count": null,
   "metadata": {},
   "outputs": [],
   "source": [
    "df = pd.DataFrame(dict_list)"
   ]
  },
  {
   "cell_type": "markdown",
   "metadata": {},
   "source": [
    "Get timestamp"
   ]
  },
  {
   "cell_type": "code",
   "execution_count": null,
   "metadata": {},
   "outputs": [],
   "source": [
    "time_div = soup.find(\"div\", id=\"dashboard-data-last-updated\")"
   ]
  },
  {
   "cell_type": "code",
   "execution_count": null,
   "metadata": {},
   "outputs": [],
   "source": [
    "timestamp = time_div.find(\"span\", class_=\"value-output\").get_text()"
   ]
  },
  {
   "cell_type": "code",
   "execution_count": null,
   "metadata": {},
   "outputs": [],
   "source": [
    "latest_date = pd.to_datetime(timestamp).date()"
   ]
  },
  {
   "cell_type": "code",
   "execution_count": null,
   "metadata": {},
   "outputs": [],
   "source": [
    "df[\"county_date\"] = latest_date"
   ]
  },
  {
   "cell_type": "code",
   "execution_count": null,
   "metadata": {},
   "outputs": [],
   "source": [
    "df.insert(0, \"county\", \"Placer\")"
   ]
  },
  {
   "cell_type": "markdown",
   "metadata": {},
   "source": [
    "Clean up"
   ]
  },
  {
   "cell_type": "code",
   "execution_count": null,
   "metadata": {},
   "outputs": [],
   "source": [
    "df[\"area\"] = df[\"area\"].str.replace(\" - \", \": \")"
   ]
  },
  {
   "cell_type": "code",
   "execution_count": null,
   "metadata": {},
   "outputs": [],
   "source": [
    "df = df[[\"county\", \"area\", \"confirmed_cases\", \"county_date\", \"zip_code\"]].rename(\n",
    "    columns={\"zip_code\": \"zip\"}\n",
    ")"
   ]
  },
  {
   "cell_type": "markdown",
   "metadata": {},
   "source": [
    "## Vet"
   ]
  },
  {
   "cell_type": "code",
   "execution_count": null,
   "metadata": {},
   "outputs": [],
   "source": [
    "try:\n",
    "    assert not len(df) < 32\n",
    "except AssertionError:\n",
    "    raise AssertionError(\"Placer County's scraper is missing rows\")"
   ]
  },
  {
   "cell_type": "code",
   "execution_count": null,
   "metadata": {},
   "outputs": [],
   "source": [
    "try:\n",
    "    assert not len(df) > 32\n",
    "except AssertionError:\n",
    "    raise AssertionError(\"Placer County's scraper has more rows than before\")"
   ]
  },
  {
   "cell_type": "markdown",
   "metadata": {},
   "source": [
    "## Export"
   ]
  },
  {
   "cell_type": "markdown",
   "metadata": {},
   "source": [
    "Set date"
   ]
  },
  {
   "cell_type": "code",
   "execution_count": null,
   "metadata": {},
   "outputs": [],
   "source": [
    "tz = pytz.timezone(\"America/Los_Angeles\")"
   ]
  },
  {
   "cell_type": "code",
   "execution_count": null,
   "metadata": {},
   "outputs": [],
   "source": [
    "today = datetime.now(tz).date()"
   ]
  },
  {
   "cell_type": "code",
   "execution_count": null,
   "metadata": {},
   "outputs": [],
   "source": [
    "slug = \"placer\""
   ]
  },
  {
   "cell_type": "code",
   "execution_count": null,
   "metadata": {},
   "outputs": [],
   "source": [
    "df.to_csv(data_dir / slug / f\"{today}.csv\", index=False)"
   ]
  },
  {
   "cell_type": "markdown",
   "metadata": {},
   "source": [
    "## Combine"
   ]
  },
  {
   "cell_type": "code",
   "execution_count": null,
   "metadata": {},
   "outputs": [],
   "source": [
    "csv_list = [\n",
    "    i\n",
    "    for i in glob.glob(str(data_dir / slug / \"*.csv\"))\n",
    "    if not str(i).endswith(\"timeseries.csv\")\n",
    "]"
   ]
  },
  {
   "cell_type": "code",
   "execution_count": null,
   "metadata": {},
   "outputs": [],
   "source": [
    "df_list = []\n",
    "for csv in csv_list:\n",
    "    if \"manual\" in csv:\n",
    "        df = pd.read_csv(csv, parse_dates=[\"date\"])\n",
    "    else:\n",
    "        file_date = csv.split(\"/\")[-1].replace(\".csv\", \"\")\n",
    "        df = pd.read_csv(csv, parse_dates=[\"county_date\"])\n",
    "        df[\"date\"] = file_date\n",
    "    df_list.append(df)"
   ]
  },
  {
   "cell_type": "code",
   "execution_count": null,
   "metadata": {},
   "outputs": [],
   "source": [
    "df = pd.concat(df_list).sort_values([\"date\", \"area\"])"
   ]
  },
  {
   "cell_type": "code",
   "execution_count": null,
   "metadata": {},
   "outputs": [],
   "source": [
    "df.to_csv(data_dir / slug / \"timeseries.csv\", index=False)"
   ]
  },
  {
   "cell_type": "code",
   "execution_count": null,
   "metadata": {},
   "outputs": [],
   "source": []
  }
 ],
 "metadata": {
  "kernelspec": {
   "display_name": "Python 3 (ipykernel)",
   "language": "python",
   "name": "python3"
  },
  "language_info": {
   "codemirror_mode": {
    "name": "ipython",
    "version": 3
   },
   "file_extension": ".py",
   "mimetype": "text/x-python",
   "name": "python",
   "nbconvert_exporter": "python",
   "pygments_lexer": "ipython3",
   "version": "3.8.8"
  }
 },
 "nbformat": 4,
 "nbformat_minor": 4
}
