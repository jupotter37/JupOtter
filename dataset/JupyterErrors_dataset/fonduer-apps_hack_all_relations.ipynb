{
 "cells": [
  {
   "cell_type": "code",
   "execution_count": 1,
   "metadata": {},
   "outputs": [],
   "source": [
    "import logging\n",
    "import os\n",
    "import pickle\n",
    "\n",
    "import matplotlib.pyplot as plt\n",
    "import numpy as np\n",
    "from fonduer import Meta\n",
    "from fonduer.candidates import CandidateExtractor, MentionExtractor, MentionNgrams\n",
    "from fonduer.candidates.models import (\n",
    "    Candidate,\n",
    "    Mention,\n",
    "    candidate_subclass,\n",
    "    mention_subclass,\n",
    ")\n",
    "\n",
    "from fonduer.features import Featurizer\n",
    "from fonduer.learning import SparseLogisticRegression\n",
    "from fonduer.parser.models import Document, Figure, Paragraph, Section, Sentence\n",
    "from fonduer.supervision import Labeler\n",
    "from metal import analysis\n",
    "from metal.label_model import LabelModel\n",
    "\n",
    "from hack.transistors.transistor_lfs import (\n",
    "    TRUE,\n",
    "    ce_v_max_lfs,\n",
    "    polarity_lfs,\n",
    "    stg_temp_max_lfs,\n",
    "    stg_temp_min_lfs,\n",
    ")\n",
    "from hack.transistors.transistor_matchers import get_matcher\n",
    "from hack.transistors.transistor_spaces import (\n",
    "    MentionNgramsPart,\n",
    "    MentionNgramsTemp,\n",
    "    MentionNgramsVolt,\n",
    ")\n",
    "from hack.transistors.transistor_throttlers import (\n",
    "    ce_v_max_filter,\n",
    "    polarity_filter,\n",
    "    stg_temp_filter,\n",
    ")\n",
    "from hack.transistors.transistor_utils import (\n",
    "    Score,\n",
    "    entity_level_scores,\n",
    "    load_transistor_labels,\n",
    ")\n",
    "from hack.utils import parse_dataset"
   ]
  },
  {
   "cell_type": "code",
   "execution_count": 2,
   "metadata": {},
   "outputs": [],
   "source": [
    "# Use the first set of GPUs\n",
    "os.environ[\"CUDA_VISIBLE_DEVICES\"] = \"0\"\n",
    "\n",
    "# Configure logging for Hack\n",
    "logging.basicConfig(\n",
    "    format=\"[%(asctime)s][%(levelname)s] %(name)s:%(lineno)s - %(message)s\",\n",
    "    level=logging.INFO,\n",
    "    handlers=[\n",
    "        logging.FileHandler(\n",
    "            os.path.join(os.path.abspath(''), f\"transistors.log\")\n",
    "        ),\n",
    "        logging.StreamHandler(),\n",
    "    ],\n",
    ")\n",
    "logger = logging.getLogger(__name__)"
   ]
  },
  {
   "cell_type": "code",
   "execution_count": 3,
   "metadata": {},
   "outputs": [],
   "source": [
    "def parsing(session, first_time=True, parallel=1, max_docs=float(\"inf\")):\n",
    "#     dirname = os.path.dirname(__file__)\n",
    "    dirname = os.path.abspath('')\n",
    "    logger.debug(f\"Starting parsing...\")\n",
    "    docs, train_docs, dev_docs, test_docs = parse_dataset(\n",
    "        session, dirname, first_time=first_time, parallel=parallel, max_docs=max_docs\n",
    "    )\n",
    "    logger.debug(f\"Done\")\n",
    "\n",
    "    logger.info(f\"# of train Documents: {len(train_docs)}\")\n",
    "    logger.info(f\"# of dev Documents: {len(dev_docs)}\")\n",
    "    logger.info(f\"# of test Documents: {len(test_docs)}\")\n",
    "\n",
    "    logger.info(f\"Documents: {session.query(Document).count()}\")\n",
    "    logger.info(f\"Sections: {session.query(Section).count()}\")\n",
    "    logger.info(f\"Paragraphs: {session.query(Paragraph).count()}\")\n",
    "    logger.info(f\"Sentences: {session.query(Sentence).count()}\")\n",
    "    logger.info(f\"Figures: {session.query(Figure).count()}\")\n",
    "\n",
    "    return docs, train_docs, dev_docs, test_docs"
   ]
  },
  {
   "cell_type": "code",
   "execution_count": 4,
   "metadata": {},
   "outputs": [],
   "source": [
    "def mention_extraction(\n",
    "    session,\n",
    "    docs,\n",
    "    first_time=True,\n",
    "    part=True,\n",
    "    stg_temp_min=True,\n",
    "    stg_temp_max=True,\n",
    "    polarity=True,\n",
    "    ce_v_max=True,\n",
    "    parallel=1,\n",
    "):\n",
    "    Part = mention_subclass(\"Part\")\n",
    "    part_matcher = get_matcher(\"part\")\n",
    "    part_ngrams = MentionNgramsPart(parts_by_doc=None, n_max=3)\n",
    "\n",
    "    StgTempMin = mention_subclass(\"StgTempMin\")\n",
    "    stg_temp_min_matcher = get_matcher(\"stg_temp_min\")\n",
    "    stg_temp_min_ngrams = MentionNgramsTemp(n_max=2)\n",
    "\n",
    "    StgTempMax = mention_subclass(\"StgTempMax\")\n",
    "    stg_temp_max_matcher = get_matcher(\"stg_temp_max\")\n",
    "    stg_temp_max_ngrams = MentionNgramsTemp(n_max=2)\n",
    "\n",
    "    Polarity = mention_subclass(\"Polarity\")\n",
    "    polarity_matcher = get_matcher(\"polarity\")\n",
    "    polarity_ngrams = MentionNgrams(n_max=1)\n",
    "\n",
    "    CeVMax = mention_subclass(\"CeVMax\")\n",
    "    ce_v_max_matcher = get_matcher(\"ce_v_max\")\n",
    "    ce_v_max_ngrams = MentionNgramsVolt(n_max=1)\n",
    "\n",
    "    mentions = []\n",
    "    ngrams = []\n",
    "    matchers = []\n",
    "\n",
    "    # Only do those that are incrementally enabled\n",
    "    if part:\n",
    "        mentions.append(Part)\n",
    "        ngrams.append(part_ngrams)\n",
    "        matchers.append(part_matcher)\n",
    "\n",
    "    if stg_temp_min:\n",
    "        mentions.append(StgTempMin)\n",
    "        ngrams.append(stg_temp_min_ngrams)\n",
    "        matchers.append(stg_temp_min_matcher)\n",
    "\n",
    "    if stg_temp_max:\n",
    "        mentions.append(StgTempMax)\n",
    "        ngrams.append(stg_temp_max_ngrams)\n",
    "        matchers.append(stg_temp_max_matcher)\n",
    "\n",
    "    if polarity:\n",
    "        mentions.append(Polarity)\n",
    "        ngrams.append(polarity_ngrams)\n",
    "        matchers.append(polarity_matcher)\n",
    "\n",
    "    if ce_v_max:\n",
    "        mentions.append(CeVMax)\n",
    "        ngrams.append(ce_v_max_ngrams)\n",
    "        matchers.append(ce_v_max_matcher)\n",
    "\n",
    "    mention_extractor = MentionExtractor(session, mentions, ngrams, matchers)\n",
    "\n",
    "    if first_time:\n",
    "        mention_extractor.apply(docs, parallelism=parallel)\n",
    "\n",
    "    logger.info(f\"Total Mentions: {session.query(Mention).count()}\")\n",
    "    logger.info(f\"Total Part: {session.query(Part).count()}\")\n",
    "    logger.info(f\"Total StgTempMin: {session.query(StgTempMin).count()}\")\n",
    "    logger.info(f\"Total StgTempMax: {session.query(StgTempMax).count()}\")\n",
    "    logger.info(f\"Total Polarity: {session.query(Polarity).count()}\")\n",
    "    logger.info(f\"Total CeVMax: {session.query(CeVMax).count()}\")\n",
    "    return Part, StgTempMin, StgTempMax, Polarity, CeVMax"
   ]
  },
  {
   "cell_type": "code",
   "execution_count": 5,
   "metadata": {},
   "outputs": [],
   "source": [
    "def candidate_extraction(\n",
    "    session,\n",
    "    Part,\n",
    "    StgTempMin,\n",
    "    StgTempMax,\n",
    "    Polarity,\n",
    "    CeVMax,\n",
    "    train_docs,\n",
    "    dev_docs,\n",
    "    test_docs,\n",
    "    stg_temp_min=True,\n",
    "    stg_temp_max=True,\n",
    "    polarity=True,\n",
    "    ce_v_max=True,\n",
    "    first_time=True,\n",
    "    parallel=1,\n",
    "):\n",
    "    PartStgTempMin = candidate_subclass(\"PartStgTempMin\", [Part, StgTempMin])\n",
    "    stg_temp_min_throttler = stg_temp_filter\n",
    "\n",
    "    PartStgTempMax = candidate_subclass(\"PartStgTempMax\", [Part, StgTempMax])\n",
    "    stg_temp_max_throttler = stg_temp_filter\n",
    "\n",
    "    PartPolarity = candidate_subclass(\"PartPolarity\", [Part, Polarity])\n",
    "    polarity_throttler = polarity_filter\n",
    "\n",
    "    PartCeVMax = candidate_subclass(\"PartCeVMax\", [Part, CeVMax])\n",
    "    ce_v_max_throttler = ce_v_max_filter\n",
    "\n",
    "    cands = []\n",
    "    throttlers = []\n",
    "    if stg_temp_min:\n",
    "        cands.append(PartStgTempMin)\n",
    "        throttlers.append(stg_temp_min_throttler)\n",
    "\n",
    "    if stg_temp_max:\n",
    "        cands.append(PartStgTempMax)\n",
    "        throttlers.append(stg_temp_max_throttler)\n",
    "\n",
    "    if polarity:\n",
    "        cands.append(PartPolarity)\n",
    "        throttlers.append(polarity_throttler)\n",
    "\n",
    "    if ce_v_max:\n",
    "        cands.append(PartCeVMax)\n",
    "        throttlers.append(ce_v_max_throttler)\n",
    "\n",
    "    candidate_extractor = CandidateExtractor(session, cands, throttlers=throttlers)\n",
    "\n",
    "    if first_time:\n",
    "        for i, docs in enumerate([train_docs, dev_docs, test_docs]):\n",
    "            candidate_extractor.apply(docs, split=i, parallelism=parallel)\n",
    "            num_cands = session.query(Candidate).filter(Candidate.split == i).count()\n",
    "            logger.info(f\"Candidates in split={i}: {num_cands}\")\n",
    "\n",
    "    train_cands = candidate_extractor.get_candidates(split=0)\n",
    "    dev_cands = candidate_extractor.get_candidates(split=1)\n",
    "    test_cands = candidate_extractor.get_candidates(split=2)\n",
    "\n",
    "    logger.info(f\"Total train candidate: {len(train_cands[0])}\")\n",
    "    logger.info(f\"Total dev candidate: {len(dev_cands[0])}\")\n",
    "    logger.info(f\"Total test candidate: {len(test_cands[0])}\")\n",
    "\n",
    "    return (\n",
    "        PartStgTempMin,\n",
    "        PartStgTempMax,\n",
    "        PartPolarity,\n",
    "        PartCeVMax,\n",
    "        train_cands,\n",
    "        dev_cands,\n",
    "        test_cands,\n",
    "    )"
   ]
  },
  {
   "cell_type": "code",
   "execution_count": 6,
   "metadata": {},
   "outputs": [],
   "source": [
    "def featurization(\n",
    "    session,\n",
    "    train_cands,\n",
    "    dev_cands,\n",
    "    test_cands,\n",
    "    PartStgTempMin,\n",
    "    PartStgTempMax,\n",
    "    PartPolarity,\n",
    "    PartCeVMax,\n",
    "    stg_temp_min=True,\n",
    "    stg_temp_max=True,\n",
    "    polarity=True,\n",
    "    ce_v_max=True,\n",
    "    first_time=True,\n",
    "    parallel=1,\n",
    "):\n",
    "#     dirname = os.path.dirname(__file__)\n",
    "    dirname = os.path.abspath('')\n",
    "    cands = []\n",
    "    if stg_temp_min:\n",
    "        cands.append(PartStgTempMin)\n",
    "\n",
    "    if stg_temp_max:\n",
    "        cands.append(PartStgTempMax)\n",
    "\n",
    "    if polarity:\n",
    "        cands.append(PartPolarity)\n",
    "\n",
    "    if ce_v_max:\n",
    "        cands.append(PartCeVMax)\n",
    "\n",
    "    featurizer = Featurizer(session, cands)\n",
    "    if first_time:\n",
    "        logger.info(\"Starting featurizer...\")\n",
    "        featurizer.apply(split=0, train=True, parallelism=parallel)\n",
    "        featurizer.apply(split=1, parallelism=parallel)\n",
    "        featurizer.apply(split=2, parallelism=parallel)\n",
    "        logger.info(\"Done\")\n",
    "\n",
    "    logger.info(\"Getting feature matrices...\")\n",
    "    # Serialize feature matrices on first run\n",
    "    if first_time:\n",
    "        F_train = featurizer.get_feature_matrices(train_cands)\n",
    "        F_dev = featurizer.get_feature_matrices(dev_cands)\n",
    "        F_test = featurizer.get_feature_matrices(test_cands)\n",
    "        pickle.dump(F_train, open(os.path.join(dirname, \"F_train.pkl\"), \"wb\"))\n",
    "        pickle.dump(F_dev, open(os.path.join(dirname, \"F_dev.pkl\"), \"wb\"))\n",
    "        pickle.dump(F_test, open(os.path.join(dirname, \"F_test.pkl\"), \"wb\"))\n",
    "    else:\n",
    "        F_train = pickle.load(open(os.path.join(dirname, \"F_train.pkl\"), \"rb\"))\n",
    "        F_dev = pickle.load(open(os.path.join(dirname, \"F_dev.pkl\"), \"rb\"))\n",
    "        F_test = pickle.load(open(os.path.join(dirname, \"F_test.pkl\"), \"rb\"))\n",
    "    logger.info(\"Done.\")\n",
    "\n",
    "    for i, cand in enumerate(cands):\n",
    "        logger.info(f\"{cand} Train shape: {F_train[i].shape}\")\n",
    "        logger.info(f\"{cand} Test shape: {F_test[i].shape}\")\n",
    "        logger.info(f\"{cand} Dev shape: {F_dev[i].shape}\")\n",
    "\n",
    "    return F_train, F_dev, F_test"
   ]
  },
  {
   "cell_type": "code",
   "execution_count": 7,
   "metadata": {},
   "outputs": [],
   "source": [
    "def load_labels(session, relation, cand, first_time=True):\n",
    "    if first_time:\n",
    "        logger.info(f\"Loading gold labels for {relation.value}\")\n",
    "        load_transistor_labels(session, [cand], [relation.value], annotator_name=\"gold\")"
   ]
  },
  {
   "cell_type": "code",
   "execution_count": 8,
   "metadata": {},
   "outputs": [],
   "source": [
    "def labeling(session, cands, cand_classes, lfs, split=1, train=False, first_time=True, parallel=1):\n",
    "    labeler = Labeler(session, cand_classes)\n",
    "#     if relation == Relation.STG_TEMP_MIN:\n",
    "#         lfs = stg_temp_min_lfs\n",
    "#     elif relation == Relation.STG_TEMP_MAX:\n",
    "#         lfs = stg_temp_max_lfs\n",
    "#     elif relation == Relation.POLARITY:\n",
    "#         lfs = polarity_lfs\n",
    "#     elif relation == Relation.CE_V_MAX:\n",
    "#         lfs = ce_v_max_lfs\n",
    "#     else:\n",
    "#         raise ValueError(f\"Invalid Relation: {relation}\")\n",
    "\n",
    "#     lfs = ce_v_max_lfs\n",
    "    \n",
    "    if first_time:\n",
    "        logger.info(\"Applying LFs...\")\n",
    "        labeler.apply(split=split, lfs=lfs, train=train, parallelism=parallel)\n",
    "        logger.info(\"Done...\")\n",
    "\n",
    "    logger.info(\"Getting label matrices...\")\n",
    "    L_mat = labeler.get_label_matrices(cands)\n",
    "    L_gold = labeler.get_gold_labels(cands, annotator=\"gold\")\n",
    "    logger.info(\"Done.\")\n",
    "    logger.info(f\"L_mat shape: {L_mat[0].shape}\")\n",
    "    logger.info(f\"L_gold shape: {L_gold[0].shape}\")\n",
    "\n",
    "#     if train:\n",
    "#         try:\n",
    "#             df = analysis.lf_summary(\n",
    "#                 L_mat[0],\n",
    "#                 lf_names=labeler.get_keys(),\n",
    "#                 Y=L_gold[0].todense().reshape(-1).tolist()[0],\n",
    "#             )\n",
    "#             logger.info(f\"\\n{df.to_string()}\")\n",
    "#         except Exception:\n",
    "#             import pdb\n",
    "\n",
    "#             pdb.set_trace()\n",
    "\n",
    "    return L_mat, L_gold"
   ]
  },
  {
   "cell_type": "code",
   "execution_count": 9,
   "metadata": {},
   "outputs": [],
   "source": [
    "def generative_model(L_train, n_epochs=500, print_every=100):\n",
    "    model = LabelModel(k=2)\n",
    "\n",
    "    logger.info(\"Training generative model...\")\n",
    "    model.train_model(L_train, n_epochs=n_epochs, print_every=print_every)\n",
    "    logger.info(\"Done.\")\n",
    "\n",
    "    marginals = model.predict_proba(L_train)\n",
    "#     plt.hist(marginals[:, TRUE - 1], bins=20)\n",
    "#     plt.savefig(f\"{relation.value}_marginals.pdf\")\n",
    "    return marginals"
   ]
  },
  {
   "cell_type": "code",
   "execution_count": 10,
   "metadata": {},
   "outputs": [],
   "source": [
    "def discriminative_model(train_cands, F_train, marginals, n_epochs=50, lr=0.001):\n",
    "    disc_model = SparseLogisticRegression()\n",
    "\n",
    "    logger.info(\"Training discriminative model...\")\n",
    "    disc_model.train(\n",
    "        (train_cands, F_train),\n",
    "        marginals,\n",
    "        n_epochs=n_epochs,\n",
    "        lr=lr,\n",
    "        host_device=\"GPU\",\n",
    "    )\n",
    "    logger.info(\"Done.\")\n",
    "\n",
    "    return disc_model"
   ]
  },
  {
   "cell_type": "code",
   "execution_count": 29,
   "metadata": {},
   "outputs": [],
   "source": [
    "def scoring(relation, disc_model, test_cands, test_docs, F_test, parts_by_doc, num=100):\n",
    "    logger.info(\"Calculating the best F1 score and threshold (b)...\")\n",
    "\n",
    "    # Iterate over a range of `b` values in order to find the b with the\n",
    "    # highest F1 score. We are using cardinality==2. See fonduer/classifier.py.\n",
    "    Y_prob = disc_model.marginals((test_cands, F_test))\n",
    "\n",
    "    # Get prediction for a particular b, store the full tuple to output\n",
    "    # (b, pref, rec, f1, TP, FP, FN)\n",
    "    best_result = Score(0, 0, 0, [], [], [])\n",
    "    best_b = 0\n",
    "    for b in np.linspace(0, 1, num=num):\n",
    "        try:\n",
    "            test_score = np.array(\n",
    "                [TRUE if p[TRUE - 1] > b else 3 - TRUE for p in Y_prob]\n",
    "            )\n",
    "            true_pred = [\n",
    "                test_cands[_] for _ in np.nditer(np.where(test_score == TRUE))\n",
    "            ]\n",
    "            result = entity_level_scores(\n",
    "                true_pred,\n",
    "                attribute=relation,\n",
    "                corpus=test_docs,\n",
    "                parts_by_doc=parts_by_doc,\n",
    "            )\n",
    "            logger.info(f\"b = {b}, f1 = {result.f1}\")\n",
    "            if result.f1 > best_result.f1:\n",
    "                best_result = result\n",
    "                best_b = b\n",
    "        except Exception as e:\n",
    "            logger.debug(f\"{e}, skipping.\")\n",
    "            break\n",
    "\n",
    "    logger.info(\"===================================================\")\n",
    "    logger.info(f\"Scoring on Entity-Level Gold Data with b={best_b}\")\n",
    "    logger.info(\"===================================================\")\n",
    "    logger.info(f\"Corpus Precision {best_result.prec:.3f}\")\n",
    "    logger.info(f\"Corpus Recall    {best_result.rec:.3f}\")\n",
    "    logger.info(f\"Corpus F1        {best_result.f1:.3f}\")\n",
    "    logger.info(\"---------------------------------------------------\")\n",
    "    logger.info(\n",
    "        f\"TP: {len(best_result.TP)} \"\n",
    "        f\"| FP: {len(best_result.FP)} \"\n",
    "        f\"| FN: {len(best_result.FN)}\"\n",
    "    )\n",
    "    logger.info(\"===================================================\\n\")\n",
    "    return best_result, best_b"
   ]
  },
  {
   "cell_type": "code",
   "execution_count": 12,
   "metadata": {},
   "outputs": [
    {
     "name": "stderr",
     "output_type": "stream",
     "text": [
      "[2019-03-07 21:37:13,767][INFO] __main__:7 - \n",
      "\n",
      "\n",
      "[2019-03-07 21:37:13,769][INFO] __main__:8 - ================================================================================\n",
      "[2019-03-07 21:37:13,771][INFO] __main__:9 - Small transistors with parallel: 16, max_docs: 500\n"
     ]
    }
   ],
   "source": [
    "# See https://docs.python.org/3/library/os.html#os.cpu_count\n",
    "parallel = 16  # len(os.sched_getaffinity(0)) // 4\n",
    "component = \"transistors\"\n",
    "first_time = True\n",
    "max_docs = 500\n",
    "conn_string = f\"postgresql:///{component}_all_relations\"\n",
    "logger.info(f\"\\n\\n\")\n",
    "logger.info(f\"=\" * 80)\n",
    "logger.info(f\"Small transistors with parallel: {parallel}, max_docs: {max_docs}\")"
   ]
  },
  {
   "cell_type": "code",
   "execution_count": 13,
   "metadata": {},
   "outputs": [
    {
     "name": "stderr",
     "output_type": "stream",
     "text": [
      "[2019-03-07 21:37:13,916][INFO] fonduer.meta:86 - Connecting user:None to None:None/transistors_all_relations\n",
      "[2019-03-07 21:37:13,921][INFO] fonduer.meta:110 - Initializing the storage schema\n",
      "[2019-03-07 21:37:14,401][INFO] hack.utils.utils:41 - Parsing dev...\n",
      "[2019-03-07 21:37:28,486][INFO] fonduer.utils.udf:57 - Running UDF...\n"
     ]
    },
    {
     "data": {
      "application/vnd.jupyter.widget-view+json": {
       "model_id": "837f6a2d81d84af3959c446faf3af315",
       "version_major": 2,
       "version_minor": 0
      },
      "text/plain": [
       "HBox(children=(IntProgress(value=0, max=120), HTML(value='')))"
      ]
     },
     "metadata": {},
     "output_type": "display_data"
    },
    {
     "name": "stderr",
     "output_type": "stream",
     "text": [
      "[2019-03-07 21:40:43,912][INFO] hack.utils.utils:41 - Parsing test...\n"
     ]
    },
    {
     "name": "stdout",
     "output_type": "stream",
     "text": [
      "\n"
     ]
    },
    {
     "name": "stderr",
     "output_type": "stream",
     "text": [
      "[2019-03-07 21:40:53,659][INFO] fonduer.utils.udf:57 - Running UDF...\n"
     ]
    },
    {
     "data": {
      "application/vnd.jupyter.widget-view+json": {
       "model_id": "b0013f8cf50042c1923d8d30ec700840",
       "version_major": 2,
       "version_minor": 0
      },
      "text/plain": [
       "HBox(children=(IntProgress(value=0, max=75), HTML(value='')))"
      ]
     },
     "metadata": {},
     "output_type": "display_data"
    },
    {
     "name": "stderr",
     "output_type": "stream",
     "text": [
      "[2019-03-07 21:43:04,249][INFO] hack.utils.utils:41 - Parsing train...\n"
     ]
    },
    {
     "name": "stdout",
     "output_type": "stream",
     "text": [
      "\n"
     ]
    },
    {
     "name": "stderr",
     "output_type": "stream",
     "text": [
      "[2019-03-07 21:44:19,789][INFO] fonduer.utils.udf:57 - Running UDF...\n"
     ]
    },
    {
     "data": {
      "application/vnd.jupyter.widget-view+json": {
       "model_id": "0c9e1db6d8a04d8782a7ea5d6c825c49",
       "version_major": 2,
       "version_minor": 0
      },
      "text/plain": [
       "HBox(children=(IntProgress(value=0, max=500), HTML(value='')))"
      ]
     },
     "metadata": {},
     "output_type": "display_data"
    },
    {
     "name": "stdout",
     "output_type": "stream",
     "text": [
      "\n"
     ]
    },
    {
     "name": "stderr",
     "output_type": "stream",
     "text": [
      "[2019-03-07 22:00:06,349][INFO] __main__:10 - # of train Documents: 500\n",
      "[2019-03-07 22:00:06,352][INFO] __main__:11 - # of dev Documents: 120\n",
      "[2019-03-07 22:00:06,353][INFO] __main__:12 - # of test Documents: 75\n",
      "[2019-03-07 22:00:06,364][INFO] __main__:14 - Documents: 695\n",
      "[2019-03-07 22:00:06,374][INFO] __main__:15 - Sections: 695\n",
      "[2019-03-07 22:00:07,367][INFO] __main__:16 - Paragraphs: 392426\n",
      "[2019-03-07 22:00:08,550][INFO] __main__:17 - Sentences: 406080\n",
      "[2019-03-07 22:00:09,715][INFO] __main__:18 - Figures: 19463\n"
     ]
    }
   ],
   "source": [
    "session = Meta.init(conn_string).Session()\n",
    "docs, train_docs, dev_docs, test_docs = parsing(\n",
    "    session, first_time=True, parallel=parallel, max_docs=max_docs\n",
    ")"
   ]
  },
  {
   "cell_type": "code",
   "execution_count": 14,
   "metadata": {},
   "outputs": [
    {
     "name": "stderr",
     "output_type": "stream",
     "text": [
      "[2019-03-07 22:00:10,214][INFO] fonduer.candidates.mentions:460 - Clearing table: part\n",
      "[2019-03-07 22:00:10,259][INFO] fonduer.candidates.mentions:460 - Clearing table: stg_temp_min\n",
      "[2019-03-07 22:00:10,264][INFO] fonduer.candidates.mentions:460 - Clearing table: stg_temp_max\n",
      "[2019-03-07 22:00:10,269][INFO] fonduer.candidates.mentions:460 - Clearing table: polarity\n",
      "[2019-03-07 22:00:10,274][INFO] fonduer.candidates.mentions:460 - Clearing table: ce_v_max\n",
      "[2019-03-07 22:00:10,277][INFO] fonduer.utils.udf:57 - Running UDF...\n"
     ]
    },
    {
     "data": {
      "application/vnd.jupyter.widget-view+json": {
       "model_id": "9470ee25f864496bae9514d7c0757213",
       "version_major": 2,
       "version_minor": 0
      },
      "text/plain": [
       "HBox(children=(IntProgress(value=0, max=695), HTML(value='')))"
      ]
     },
     "metadata": {},
     "output_type": "display_data"
    },
    {
     "name": "stderr",
     "output_type": "stream",
     "text": [
      "[2019-03-07 22:03:05,270][INFO] __main__:67 - Total Mentions: 26609\n",
      "[2019-03-07 22:03:05,289][INFO] __main__:68 - Total Part: 13308\n",
      "[2019-03-07 22:03:05,300][INFO] __main__:69 - Total StgTempMin: 2025\n",
      "[2019-03-07 22:03:05,313][INFO] __main__:70 - Total StgTempMax: 7691\n",
      "[2019-03-07 22:03:05,323][INFO] __main__:71 - Total Polarity: 2624\n",
      "[2019-03-07 22:03:05,332][INFO] __main__:72 - Total CeVMax: 961\n"
     ]
    },
    {
     "name": "stdout",
     "output_type": "stream",
     "text": [
      "\n"
     ]
    }
   ],
   "source": [
    "Part, StgTempMin, StgTempMax, Polarity, CeVMax = mention_extraction(\n",
    "    session, docs, first_time=True, parallel=parallel\n",
    ")"
   ]
  },
  {
   "cell_type": "code",
   "execution_count": 15,
   "metadata": {},
   "outputs": [
    {
     "name": "stderr",
     "output_type": "stream",
     "text": [
      "[2019-03-07 22:03:05,446][INFO] fonduer.candidates.candidates:125 - Clearing table part_stg_temp_min (split 0)\n",
      "[2019-03-07 22:03:05,510][INFO] fonduer.candidates.candidates:125 - Clearing table part_stg_temp_max (split 0)\n",
      "[2019-03-07 22:03:05,513][INFO] fonduer.candidates.candidates:125 - Clearing table part_polarity (split 0)\n",
      "[2019-03-07 22:03:05,516][INFO] fonduer.candidates.candidates:125 - Clearing table part_ce_v_max (split 0)\n",
      "[2019-03-07 22:03:05,519][INFO] fonduer.utils.udf:57 - Running UDF...\n"
     ]
    },
    {
     "data": {
      "application/vnd.jupyter.widget-view+json": {
       "model_id": "08a0d548de5c4a2b995ebb7bd37b63ac",
       "version_major": 2,
       "version_minor": 0
      },
      "text/plain": [
       "HBox(children=(IntProgress(value=0, max=500), HTML(value='')))"
      ]
     },
     "metadata": {},
     "output_type": "display_data"
    },
    {
     "name": "stderr",
     "output_type": "stream",
     "text": [
      "[2019-03-07 22:10:38,116][INFO] __main__:54 - Candidates in split=0: 212493\n",
      "[2019-03-07 22:10:38,117][INFO] fonduer.candidates.candidates:125 - Clearing table part_stg_temp_min (split 1)\n",
      "[2019-03-07 22:10:38,122][INFO] fonduer.candidates.candidates:125 - Clearing table part_stg_temp_max (split 1)\n",
      "[2019-03-07 22:10:38,130][INFO] fonduer.candidates.candidates:125 - Clearing table part_polarity (split 1)\n",
      "[2019-03-07 22:10:38,136][INFO] fonduer.candidates.candidates:125 - Clearing table part_ce_v_max (split 1)\n",
      "[2019-03-07 22:10:38,141][INFO] fonduer.utils.udf:57 - Running UDF...\n"
     ]
    },
    {
     "name": "stdout",
     "output_type": "stream",
     "text": [
      "\n"
     ]
    },
    {
     "data": {
      "application/vnd.jupyter.widget-view+json": {
       "model_id": "cec51912301b41f98cf8182909e59ae1",
       "version_major": 2,
       "version_minor": 0
      },
      "text/plain": [
       "HBox(children=(IntProgress(value=0, max=120), HTML(value='')))"
      ]
     },
     "metadata": {},
     "output_type": "display_data"
    },
    {
     "name": "stderr",
     "output_type": "stream",
     "text": [
      "[2019-03-07 22:11:46,118][INFO] __main__:54 - Candidates in split=1: 53942\n",
      "[2019-03-07 22:11:46,120][INFO] fonduer.candidates.candidates:125 - Clearing table part_stg_temp_min (split 2)\n",
      "[2019-03-07 22:11:46,125][INFO] fonduer.candidates.candidates:125 - Clearing table part_stg_temp_max (split 2)\n",
      "[2019-03-07 22:11:46,130][INFO] fonduer.candidates.candidates:125 - Clearing table part_polarity (split 2)\n",
      "[2019-03-07 22:11:46,136][INFO] fonduer.candidates.candidates:125 - Clearing table part_ce_v_max (split 2)\n",
      "[2019-03-07 22:11:46,140][INFO] fonduer.utils.udf:57 - Running UDF...\n"
     ]
    },
    {
     "name": "stdout",
     "output_type": "stream",
     "text": [
      "\n"
     ]
    },
    {
     "data": {
      "application/vnd.jupyter.widget-view+json": {
       "model_id": "435013e384b84b778e05cfd98a4f62e6",
       "version_major": 2,
       "version_minor": 0
      },
      "text/plain": [
       "HBox(children=(IntProgress(value=0, max=75), HTML(value='')))"
      ]
     },
     "metadata": {},
     "output_type": "display_data"
    },
    {
     "name": "stderr",
     "output_type": "stream",
     "text": [
      "[2019-03-07 22:11:58,493][INFO] __main__:54 - Candidates in split=2: 5210\n"
     ]
    },
    {
     "name": "stdout",
     "output_type": "stream",
     "text": [
      "\n"
     ]
    },
    {
     "name": "stderr",
     "output_type": "stream",
     "text": [
      "[2019-03-07 22:12:07,740][INFO] __main__:60 - Total train candidate: 10829\n",
      "[2019-03-07 22:12:07,742][INFO] __main__:61 - Total dev candidate: 7272\n",
      "[2019-03-07 22:12:07,743][INFO] __main__:62 - Total test candidate: 566\n"
     ]
    }
   ],
   "source": [
    "(\n",
    "    PartStgTempMin,\n",
    "    PartStgTempMax,\n",
    "    PartPolarity,\n",
    "    PartCeVMax,\n",
    "    train_cands,\n",
    "    dev_cands,\n",
    "    test_cands,\n",
    ") = candidate_extraction(\n",
    "    session,\n",
    "    Part,\n",
    "    StgTempMin,\n",
    "    StgTempMax,\n",
    "    Polarity,\n",
    "    CeVMax,\n",
    "    train_docs,\n",
    "    dev_docs,\n",
    "    test_docs,\n",
    "    first_time=True,\n",
    "    parallel=parallel,\n",
    ")"
   ]
  },
  {
   "cell_type": "code",
   "execution_count": 19,
   "metadata": {},
   "outputs": [],
   "source": [
    "from hack.transistors.transistor_utils import (\n",
    "    Score,\n",
    "    entity_level_scores,\n",
    "    entity_to_candidates,\n",
    ")\n",
    "\n",
    "from pprint import pformat"
   ]
  },
  {
   "cell_type": "code",
   "execution_count": 20,
   "metadata": {},
   "outputs": [],
   "source": [
    "import pickle\n",
    "pickle_file = 'data/parts_by_doc_new.pkl'\n",
    "with open(pickle_file, 'rb') as f:\n",
    "    parts_by_doc = pickle.load(f)"
   ]
  },
  {
   "cell_type": "code",
   "execution_count": 21,
   "metadata": {
    "scrolled": true
   },
   "outputs": [
    {
     "name": "stderr",
     "output_type": "stream",
     "text": [
      "[2019-03-07 22:15:09,290][INFO] __main__:4 - stg_temp_min\n"
     ]
    },
    {
     "data": {
      "application/vnd.jupyter.widget-view+json": {
       "model_id": "b3cc7ff479fd4d0c8a4c4dace724891a",
       "version_major": 2,
       "version_minor": 0
      },
      "text/plain": [
       "HBox(children=(IntProgress(value=0, max=7272), HTML(value='')))"
      ]
     },
     "metadata": {},
     "output_type": "display_data"
    },
    {
     "ename": "KeyError",
     "evalue": "'BC550'",
     "output_type": "error",
     "traceback": [
      "\u001b[0;31m---------------------------------------------------------------------------\u001b[0m",
      "\u001b[0;31mKeyError\u001b[0m                                  Traceback (most recent call last)",
      "\u001b[0;32m<ipython-input-21-1e37d779fc29>\u001b[0m in \u001b[0;36m<module>\u001b[0;34m\u001b[0m\n\u001b[1;32m      3\u001b[0m \u001b[0;32mfor\u001b[0m \u001b[0mi\u001b[0m\u001b[0;34m,\u001b[0m \u001b[0mname\u001b[0m \u001b[0;32min\u001b[0m \u001b[0menumerate\u001b[0m\u001b[0;34m(\u001b[0m\u001b[0;34m[\u001b[0m\u001b[0;34m'stg_temp_min'\u001b[0m\u001b[0;34m,\u001b[0m \u001b[0;34m'stg_temp_max'\u001b[0m\u001b[0;34m,\u001b[0m \u001b[0;34m'polarity'\u001b[0m\u001b[0;34m,\u001b[0m \u001b[0;34m'ce_v_max'\u001b[0m\u001b[0;34m]\u001b[0m\u001b[0;34m)\u001b[0m\u001b[0;34m:\u001b[0m\u001b[0;34m\u001b[0m\u001b[0m\n\u001b[1;32m      4\u001b[0m     \u001b[0mlogger\u001b[0m\u001b[0;34m.\u001b[0m\u001b[0minfo\u001b[0m\u001b[0;34m(\u001b[0m\u001b[0mname\u001b[0m\u001b[0;34m)\u001b[0m\u001b[0;34m\u001b[0m\u001b[0m\n\u001b[0;32m----> 5\u001b[0;31m     \u001b[0mresult\u001b[0m \u001b[0;34m=\u001b[0m \u001b[0mentity_level_scores\u001b[0m\u001b[0;34m(\u001b[0m\u001b[0mdev_cands\u001b[0m\u001b[0;34m[\u001b[0m\u001b[0mi\u001b[0m\u001b[0;34m]\u001b[0m\u001b[0;34m,\u001b[0m \u001b[0mcorpus\u001b[0m\u001b[0;34m=\u001b[0m\u001b[0mdev_docs\u001b[0m\u001b[0;34m,\u001b[0m \u001b[0mattribute\u001b[0m\u001b[0;34m=\u001b[0m\u001b[0mname\u001b[0m\u001b[0;34m,\u001b[0m \u001b[0mparts_by_doc\u001b[0m\u001b[0;34m=\u001b[0m\u001b[0mparts_by_doc\u001b[0m\u001b[0;34m)\u001b[0m\u001b[0;34m\u001b[0m\u001b[0m\n\u001b[0m\u001b[1;32m      6\u001b[0m     \u001b[0mlogger\u001b[0m\u001b[0;34m.\u001b[0m\u001b[0minfo\u001b[0m\u001b[0;34m(\u001b[0m\u001b[0;34mf\"Gain Total Dev Recall: {result.rec:.3f}\"\u001b[0m\u001b[0;34m)\u001b[0m\u001b[0;34m\u001b[0m\u001b[0m\n\u001b[1;32m      7\u001b[0m     \u001b[0;31m# logger.info(f\"\\n{pformat(result.FN)}\")\u001b[0m\u001b[0;34m\u001b[0m\u001b[0;34m\u001b[0m\u001b[0m\n",
      "\u001b[0;32m/lfs/raiders4/1/senwu/sensys/hack/hack/transistors/transistor_utils.py\u001b[0m in \u001b[0;36mentity_level_scores\u001b[0;34m(candidates, attribute, corpus, parts_by_doc)\u001b[0m\n\u001b[1;32m    168\u001b[0m         \u001b[0;32mif\u001b[0m \u001b[0mattribute\u001b[0m\u001b[0;34m:\u001b[0m\u001b[0;34m\u001b[0m\u001b[0m\n\u001b[1;32m    169\u001b[0m             \u001b[0mval\u001b[0m \u001b[0;34m=\u001b[0m \u001b[0mc\u001b[0m\u001b[0;34m[\u001b[0m\u001b[0;36m1\u001b[0m\u001b[0;34m]\u001b[0m\u001b[0;34m.\u001b[0m\u001b[0mcontext\u001b[0m\u001b[0;34m.\u001b[0m\u001b[0mget_span\u001b[0m\u001b[0;34m(\u001b[0m\u001b[0;34m)\u001b[0m\u001b[0;34m\u001b[0m\u001b[0m\n\u001b[0;32m--> 170\u001b[0;31m         \u001b[0;32mfor\u001b[0m \u001b[0mp\u001b[0m \u001b[0;32min\u001b[0m \u001b[0mget_implied_parts\u001b[0m\u001b[0;34m(\u001b[0m\u001b[0mpart\u001b[0m\u001b[0;34m,\u001b[0m \u001b[0mdoc\u001b[0m\u001b[0;34m,\u001b[0m \u001b[0mparts_by_doc\u001b[0m\u001b[0;34m)\u001b[0m\u001b[0;34m:\u001b[0m\u001b[0;34m\u001b[0m\u001b[0m\n\u001b[0m\u001b[1;32m    171\u001b[0m             \u001b[0;32mif\u001b[0m \u001b[0mattribute\u001b[0m\u001b[0;34m:\u001b[0m\u001b[0;34m\u001b[0m\u001b[0m\n\u001b[1;32m    172\u001b[0m                 \u001b[0mentities\u001b[0m\u001b[0;34m.\u001b[0m\u001b[0madd\u001b[0m\u001b[0;34m(\u001b[0m\u001b[0;34m(\u001b[0m\u001b[0mdoc\u001b[0m\u001b[0;34m,\u001b[0m \u001b[0mp\u001b[0m\u001b[0;34m,\u001b[0m \u001b[0mval\u001b[0m\u001b[0;34m)\u001b[0m\u001b[0;34m)\u001b[0m\u001b[0;34m\u001b[0m\u001b[0m\n",
      "\u001b[0;32m/lfs/raiders4/1/senwu/sensys/hack/hack/transistors/transistor_utils.py\u001b[0m in \u001b[0;36mget_implied_parts\u001b[0;34m(part, doc, parts_by_doc)\u001b[0m\n\u001b[1;32m    193\u001b[0m \u001b[0;31m#     yield part\u001b[0m\u001b[0;34m\u001b[0m\u001b[0;34m\u001b[0m\u001b[0m\n\u001b[1;32m    194\u001b[0m     \u001b[0;32mif\u001b[0m \u001b[0mparts_by_doc\u001b[0m\u001b[0;34m:\u001b[0m\u001b[0;34m\u001b[0m\u001b[0m\n\u001b[0;32m--> 195\u001b[0;31m         \u001b[0;32mfor\u001b[0m \u001b[0mp\u001b[0m \u001b[0;32min\u001b[0m \u001b[0mparts_by_doc\u001b[0m\u001b[0;34m[\u001b[0m\u001b[0mdoc\u001b[0m\u001b[0;34m]\u001b[0m\u001b[0;34m:\u001b[0m\u001b[0;34m\u001b[0m\u001b[0m\n\u001b[0m\u001b[1;32m    196\u001b[0m             \u001b[0;32mif\u001b[0m \u001b[0mp\u001b[0m\u001b[0;34m.\u001b[0m\u001b[0mstartswith\u001b[0m\u001b[0;34m(\u001b[0m\u001b[0mpart\u001b[0m\u001b[0;34m)\u001b[0m \u001b[0;32mand\u001b[0m \u001b[0mlen\u001b[0m\u001b[0;34m(\u001b[0m\u001b[0mpart\u001b[0m\u001b[0;34m)\u001b[0m \u001b[0;34m>=\u001b[0m \u001b[0;36m4\u001b[0m\u001b[0;34m:\u001b[0m\u001b[0;34m\u001b[0m\u001b[0m\n\u001b[1;32m    197\u001b[0m \u001b[0;31m#                 if part == 'BC546':\u001b[0m\u001b[0;34m\u001b[0m\u001b[0;34m\u001b[0m\u001b[0m\n",
      "\u001b[0;31mKeyError\u001b[0m: 'BC550'"
     ]
    }
   ],
   "source": [
    "# First, check total recall\n",
    "\n",
    "for i, name in enumerate(['stg_temp_min', 'stg_temp_max', 'polarity', 'ce_v_max']):\n",
    "    logger.info(name)\n",
    "    result = entity_level_scores(dev_cands[i], corpus=dev_docs, attribute=name, parts_by_doc=parts_by_doc)\n",
    "    logger.info(f\"Gain Total Dev Recall: {result.rec:.3f}\")\n",
    "    # logger.info(f\"\\n{pformat(result.FN)}\")\n",
    "    result = entity_level_scores(test_cands[i], corpus=test_docs, attribute=name, parts_by_doc=parts_by_doc)\n",
    "    logger.info(f\"Gain Total Test Recall: {result.rec:.3f}\")\n",
    "    # logger.info(f\"\\n{pformat(result.FN)}\")\n"
   ]
  },
  {
   "cell_type": "code",
   "execution_count": 22,
   "metadata": {},
   "outputs": [
    {
     "name": "stderr",
     "output_type": "stream",
     "text": [
      "[2019-03-07 22:16:11,959][INFO] __main__:34 - Starting featurizer...\n",
      "[2019-03-07 22:16:21,269][INFO] fonduer.features.featurizer:190 - Clearing Features (split 0)\n",
      "[2019-03-07 22:16:21,279][INFO] fonduer.utils.udf:57 - Running UDF...\n"
     ]
    },
    {
     "data": {
      "application/vnd.jupyter.widget-view+json": {
       "model_id": "ea069b7ef2aa483b8d443bb7baa6e38d",
       "version_major": 2,
       "version_minor": 0
      },
      "text/plain": [
       "HBox(children=(IntProgress(value=0, max=457), HTML(value='')))"
      ]
     },
     "metadata": {},
     "output_type": "display_data"
    },
    {
     "name": "stderr",
     "output_type": "stream",
     "text": [
      "[2019-03-07 23:43:04,366][INFO] fonduer.features.featurizer:190 - Clearing Features (split 1)\n",
      "[2019-03-07 23:43:05,018][INFO] fonduer.utils.udf:57 - Running UDF...\n"
     ]
    },
    {
     "data": {
      "application/vnd.jupyter.widget-view+json": {
       "model_id": "789229fe31bf4a9bbcbbf5e9c6cc996e",
       "version_major": 2,
       "version_minor": 0
      },
      "text/plain": [
       "HBox(children=(IntProgress(value=0, max=114), HTML(value='')))"
      ]
     },
     "metadata": {},
     "output_type": "display_data"
    },
    {
     "name": "stderr",
     "output_type": "stream",
     "text": [
      "[2019-03-07 23:45:09,093][INFO] fonduer.features.featurizer:190 - Clearing Features (split 2)\n",
      "[2019-03-07 23:45:09,133][INFO] fonduer.utils.udf:57 - Running UDF...\n"
     ]
    },
    {
     "data": {
      "application/vnd.jupyter.widget-view+json": {
       "model_id": "da6aa8d5800549e3a77ac572cbcc68a9",
       "version_major": 2,
       "version_minor": 0
      },
      "text/plain": [
       "HBox(children=(IntProgress(value=0, max=75), HTML(value='')))"
      ]
     },
     "metadata": {},
     "output_type": "display_data"
    },
    {
     "name": "stderr",
     "output_type": "stream",
     "text": [
      "[2019-03-07 23:45:47,999][INFO] __main__:38 - Done\n",
      "[2019-03-07 23:45:48,002][INFO] __main__:40 - Getting feature matrices...\n",
      "[2019-03-07 23:56:08,506][INFO] __main__:53 - Done.\n",
      "[2019-03-07 23:56:08,509][INFO] __main__:56 - <class 'fonduer.candidates.models.candidate.PartStgTempMin'> Train shape: (10829, 55127)\n",
      "[2019-03-07 23:56:08,511][INFO] __main__:57 - <class 'fonduer.candidates.models.candidate.PartStgTempMin'> Test shape: (566, 55127)\n",
      "[2019-03-07 23:56:08,512][INFO] __main__:58 - <class 'fonduer.candidates.models.candidate.PartStgTempMin'> Dev shape: (7272, 55127)\n",
      "[2019-03-07 23:56:08,513][INFO] __main__:56 - <class 'fonduer.candidates.models.candidate.PartStgTempMax'> Train shape: (110738, 55127)\n",
      "[2019-03-07 23:56:08,514][INFO] __main__:57 - <class 'fonduer.candidates.models.candidate.PartStgTempMax'> Test shape: (1848, 55127)\n",
      "[2019-03-07 23:56:08,516][INFO] __main__:58 - <class 'fonduer.candidates.models.candidate.PartStgTempMax'> Dev shape: (27473, 55127)\n",
      "[2019-03-07 23:56:08,517][INFO] __main__:56 - <class 'fonduer.candidates.models.candidate.PartPolarity'> Train shape: (73420, 55127)\n",
      "[2019-03-07 23:56:08,518][INFO] __main__:57 - <class 'fonduer.candidates.models.candidate.PartPolarity'> Test shape: (2007, 55127)\n",
      "[2019-03-07 23:56:08,520][INFO] __main__:58 - <class 'fonduer.candidates.models.candidate.PartPolarity'> Dev shape: (12733, 55127)\n",
      "[2019-03-07 23:56:08,521][INFO] __main__:56 - <class 'fonduer.candidates.models.candidate.PartCeVMax'> Train shape: (17506, 55127)\n",
      "[2019-03-07 23:56:08,522][INFO] __main__:57 - <class 'fonduer.candidates.models.candidate.PartCeVMax'> Test shape: (789, 55127)\n",
      "[2019-03-07 23:56:08,523][INFO] __main__:58 - <class 'fonduer.candidates.models.candidate.PartCeVMax'> Dev shape: (6464, 55127)\n"
     ]
    }
   ],
   "source": [
    "F_train, F_dev, F_test = featurization(\n",
    "    session,\n",
    "    train_cands,\n",
    "    dev_cands,\n",
    "    test_cands,\n",
    "    PartStgTempMin,\n",
    "    PartStgTempMax,\n",
    "    PartPolarity,\n",
    "    PartCeVMax,\n",
    "    first_time=first_time,\n",
    "    parallel=parallel,\n",
    ")"
   ]
  },
  {
   "cell_type": "code",
   "execution_count": 25,
   "metadata": {
    "scrolled": true
   },
   "outputs": [
    {
     "name": "stderr",
     "output_type": "stream",
     "text": [
      "[2019-03-08 00:58:09,036][INFO] __main__:2 - Labeling training data...\n",
      "[2019-03-08 00:58:09,039][INFO] __main__:17 - Applying LFs...\n",
      "[2019-03-08 00:58:15,015][INFO] fonduer.supervision.labeler:219 - Clearing Labels (split 0)\n",
      "[2019-03-08 00:58:16,688][INFO] fonduer.utils.udf:57 - Running UDF...\n"
     ]
    },
    {
     "data": {
      "application/vnd.jupyter.widget-view+json": {
       "model_id": "fb4cb4e6afc746b1b88e21344c9904bc",
       "version_major": 2,
       "version_minor": 0
      },
      "text/plain": [
       "HBox(children=(IntProgress(value=0, max=457), HTML(value='')))"
      ]
     },
     "metadata": {},
     "output_type": "display_data"
    },
    {
     "name": "stderr",
     "output_type": "stream",
     "text": [
      "[2019-03-08 01:32:21,876][INFO] __main__:19 - Done...\n",
      "[2019-03-08 01:32:21,893][INFO] __main__:21 - Getting label matrices...\n",
      "[2019-03-08 01:40:27,461][INFO] __main__:24 - Done.\n",
      "[2019-03-08 01:40:27,463][INFO] __main__:25 - L_mat shape: (10829, 44)\n",
      "[2019-03-08 01:40:27,465][INFO] __main__:26 - L_gold shape: (10829, 1)\n",
      "[2019-03-08 01:40:27,467][INFO] __main__:9 - Done.\n"
     ]
    }
   ],
   "source": [
    "# load_labels(session, relation, PartCeVMax, first_time=first_time)\n",
    "logger.info(\"Labeling training data...\")\n",
    "L_train, L_gold_train = labeling(\n",
    "    session, train_cands, \\\n",
    "    [PartStgTempMin, PartStgTempMax, PartPolarity, PartCeVMax], \\\n",
    "    [stg_temp_min_lfs, stg_temp_max_lfs, polarity_lfs, ce_v_max_lfs], \\\n",
    "    split=0, train=True, parallel=parallel, first_time=True\n",
    ")\n",
    "logger.info(\"Done.\")"
   ]
  },
  {
   "cell_type": "code",
   "execution_count": 31,
   "metadata": {
    "scrolled": false
   },
   "outputs": [
    {
     "name": "stderr",
     "output_type": "stream",
     "text": [
      "[2019-03-08 02:15:50,564][INFO] __main__:4 - Training generative model...\n"
     ]
    },
    {
     "name": "stdout",
     "output_type": "stream",
     "text": [
      "Computing O...\n",
      "Estimating \\mu...\n",
      "[E:0]\tTrain Loss: 3.392\n",
      "[E:100]\tTrain Loss: 0.003\n",
      "[E:200]\tTrain Loss: 0.003\n",
      "[E:300]\tTrain Loss: 0.003\n",
      "[E:400]\tTrain Loss: 0.003\n"
     ]
    },
    {
     "name": "stderr",
     "output_type": "stream",
     "text": [
      "[2019-03-08 02:15:53,068][INFO] __main__:6 - Done.\n",
      "[2019-03-08 02:15:53,095][INFO] __main__:4 - Training discriminative model...\n",
      "[2019-03-08 02:15:53,099][INFO] fonduer.learning.classifier:142 - Loading default parameters for Sparse Logistic Regression\n",
      "[2019-03-08 02:15:53,130][INFO] fonduer.learning.classifier:193 - Using GPU...\n",
      "[2019-03-08 02:15:53,132][INFO] fonduer.learning.classifier:195 - Settings: {'n_epochs': 100, 'lr': 0.001, 'batch_size': 256, 'shuffle': True, 'seed': 1234, 'host_device': 'GPU', 'bias': False, 'input_dim': 55128}\n",
      "[2019-03-08 02:15:53,144][INFO] fonduer.learning.classifier:213 - [SparseLogisticRegression] Training model\n",
      "[2019-03-08 02:15:53,146][INFO] fonduer.learning.classifier:215 - [SparseLogisticRegression] n_train=7389 #epochs=100 batch size=256\n"
     ]
    },
    {
     "name": "stdout",
     "output_type": "stream",
     "text": [
      "[E:499]\tTrain Loss: 0.003\n",
      "Finished Training\n"
     ]
    },
    {
     "name": "stderr",
     "output_type": "stream",
     "text": [
      "[2019-03-08 02:15:54,406][INFO] fonduer.learning.classifier:262 - [SparseLogisticRegression] Epoch 1 (1.26s)\tAverage loss=0.223570\n",
      "[2019-03-08 02:15:58,994][INFO] fonduer.learning.classifier:262 - [SparseLogisticRegression] Epoch 5 (5.85s)\tAverage loss=0.061675\n",
      "[2019-03-08 02:16:04,189][INFO] fonduer.learning.classifier:262 - [SparseLogisticRegression] Epoch 10 (11.04s)\tAverage loss=0.056004\n",
      "[2019-03-08 02:16:09,478][INFO] fonduer.learning.classifier:262 - [SparseLogisticRegression] Epoch 15 (16.33s)\tAverage loss=0.054554\n",
      "[2019-03-08 02:16:14,778][INFO] fonduer.learning.classifier:262 - [SparseLogisticRegression] Epoch 20 (21.63s)\tAverage loss=0.054032\n",
      "[2019-03-08 02:16:19,877][INFO] fonduer.learning.classifier:262 - [SparseLogisticRegression] Epoch 25 (26.73s)\tAverage loss=0.053799\n",
      "[2019-03-08 02:16:25,413][INFO] fonduer.learning.classifier:262 - [SparseLogisticRegression] Epoch 30 (32.27s)\tAverage loss=0.053634\n",
      "[2019-03-08 02:16:30,928][INFO] fonduer.learning.classifier:262 - [SparseLogisticRegression] Epoch 35 (37.78s)\tAverage loss=0.053475\n",
      "[2019-03-08 02:16:37,091][INFO] fonduer.learning.classifier:262 - [SparseLogisticRegression] Epoch 40 (43.95s)\tAverage loss=0.053396\n",
      "[2019-03-08 02:16:42,575][INFO] fonduer.learning.classifier:262 - [SparseLogisticRegression] Epoch 45 (49.43s)\tAverage loss=0.053361\n",
      "[2019-03-08 02:16:48,365][INFO] fonduer.learning.classifier:262 - [SparseLogisticRegression] Epoch 50 (55.22s)\tAverage loss=0.053292\n",
      "[2019-03-08 02:16:53,809][INFO] fonduer.learning.classifier:262 - [SparseLogisticRegression] Epoch 55 (60.66s)\tAverage loss=0.053265\n",
      "[2019-03-08 02:16:58,831][INFO] fonduer.learning.classifier:262 - [SparseLogisticRegression] Epoch 60 (65.69s)\tAverage loss=0.053228\n",
      "[2019-03-08 02:17:03,931][INFO] fonduer.learning.classifier:262 - [SparseLogisticRegression] Epoch 65 (70.79s)\tAverage loss=0.053249\n",
      "[2019-03-08 02:17:09,303][INFO] fonduer.learning.classifier:262 - [SparseLogisticRegression] Epoch 70 (76.16s)\tAverage loss=0.053182\n",
      "[2019-03-08 02:17:15,378][INFO] fonduer.learning.classifier:262 - [SparseLogisticRegression] Epoch 75 (82.23s)\tAverage loss=0.053268\n",
      "[2019-03-08 02:17:20,757][INFO] fonduer.learning.classifier:262 - [SparseLogisticRegression] Epoch 80 (87.61s)\tAverage loss=0.053213\n",
      "[2019-03-08 02:17:25,932][INFO] fonduer.learning.classifier:262 - [SparseLogisticRegression] Epoch 85 (92.79s)\tAverage loss=0.053232\n",
      "[2019-03-08 02:17:32,510][INFO] fonduer.learning.classifier:262 - [SparseLogisticRegression] Epoch 90 (99.36s)\tAverage loss=0.053258\n",
      "[2019-03-08 02:17:37,889][INFO] fonduer.learning.classifier:262 - [SparseLogisticRegression] Epoch 95 (104.74s)\tAverage loss=0.053185\n",
      "[2019-03-08 02:17:43,203][INFO] fonduer.learning.classifier:262 - [SparseLogisticRegression] Epoch 100 (110.06s)\tAverage loss=0.053188\n",
      "[2019-03-08 02:17:43,206][INFO] fonduer.learning.classifier:278 - [SparseLogisticRegression] Training done (110.06s)\n",
      "[2019-03-08 02:17:43,212][INFO] __main__:12 - Done.\n",
      "[2019-03-08 02:17:43,213][INFO] __main__:2 - Calculating the best F1 score and threshold (b)...\n"
     ]
    },
    {
     "data": {
      "application/vnd.jupyter.widget-view+json": {
       "model_id": "aa7e0e5ad0984940b0cdd279176ac0b8",
       "version_major": 2,
       "version_minor": 0
      },
      "text/plain": [
       "HBox(children=(IntProgress(value=0, max=566), HTML(value='')))"
      ]
     },
     "metadata": {},
     "output_type": "display_data"
    },
    {
     "name": "stderr",
     "output_type": "stream",
     "text": [
      "[2019-03-08 02:17:44,838][INFO] __main__:26 - b = 0.0, f1 = 0.6617647058823528\n"
     ]
    },
    {
     "data": {
      "application/vnd.jupyter.widget-view+json": {
       "model_id": "1eb785d318d44a52957a039dfeba48c8",
       "version_major": 2,
       "version_minor": 0
      },
      "text/plain": [
       "HBox(children=(IntProgress(value=0, max=566), HTML(value='')))"
      ]
     },
     "metadata": {},
     "output_type": "display_data"
    },
    {
     "name": "stderr",
     "output_type": "stream",
     "text": [
      "[2019-03-08 02:17:44,983][INFO] __main__:26 - b = 0.010101010101010102, f1 = 0.6617647058823528\n"
     ]
    },
    {
     "data": {
      "application/vnd.jupyter.widget-view+json": {
       "model_id": "c824665522334b61b3a82626c1e0c0c0",
       "version_major": 2,
       "version_minor": 0
      },
      "text/plain": [
       "HBox(children=(IntProgress(value=0, max=566), HTML(value='')))"
      ]
     },
     "metadata": {},
     "output_type": "display_data"
    },
    {
     "name": "stderr",
     "output_type": "stream",
     "text": [
      "[2019-03-08 02:17:45,126][INFO] __main__:26 - b = 0.020202020202020204, f1 = 0.6617647058823528\n"
     ]
    },
    {
     "data": {
      "application/vnd.jupyter.widget-view+json": {
       "model_id": "20fb4dd2e7ee4df2a314ee8d4bdeeab0",
       "version_major": 2,
       "version_minor": 0
      },
      "text/plain": [
       "HBox(children=(IntProgress(value=0, max=566), HTML(value='')))"
      ]
     },
     "metadata": {},
     "output_type": "display_data"
    },
    {
     "name": "stderr",
     "output_type": "stream",
     "text": [
      "[2019-03-08 02:17:45,269][INFO] __main__:26 - b = 0.030303030303030304, f1 = 0.6617647058823528\n"
     ]
    },
    {
     "data": {
      "application/vnd.jupyter.widget-view+json": {
       "model_id": "1ad47fcb6c484a93b6998e723bd4e8ac",
       "version_major": 2,
       "version_minor": 0
      },
      "text/plain": [
       "HBox(children=(IntProgress(value=0, max=566), HTML(value='')))"
      ]
     },
     "metadata": {},
     "output_type": "display_data"
    },
    {
     "name": "stderr",
     "output_type": "stream",
     "text": [
      "[2019-03-08 02:17:45,411][INFO] __main__:26 - b = 0.04040404040404041, f1 = 0.6617647058823528\n"
     ]
    },
    {
     "data": {
      "application/vnd.jupyter.widget-view+json": {
       "model_id": "acff30c0a5974ca0a4d28e81dd7dcb9e",
       "version_major": 2,
       "version_minor": 0
      },
      "text/plain": [
       "HBox(children=(IntProgress(value=0, max=566), HTML(value='')))"
      ]
     },
     "metadata": {},
     "output_type": "display_data"
    },
    {
     "name": "stderr",
     "output_type": "stream",
     "text": [
      "[2019-03-08 02:17:45,555][INFO] __main__:26 - b = 0.05050505050505051, f1 = 0.6617647058823528\n"
     ]
    },
    {
     "data": {
      "application/vnd.jupyter.widget-view+json": {
       "model_id": "87a21350f5a145489741f45f027cabf9",
       "version_major": 2,
       "version_minor": 0
      },
      "text/plain": [
       "HBox(children=(IntProgress(value=0, max=566), HTML(value='')))"
      ]
     },
     "metadata": {},
     "output_type": "display_data"
    },
    {
     "name": "stderr",
     "output_type": "stream",
     "text": [
      "[2019-03-08 02:17:45,697][INFO] __main__:26 - b = 0.06060606060606061, f1 = 0.6617647058823528\n"
     ]
    },
    {
     "data": {
      "application/vnd.jupyter.widget-view+json": {
       "model_id": "e463492a9fd24193b90340d6e9841325",
       "version_major": 2,
       "version_minor": 0
      },
      "text/plain": [
       "HBox(children=(IntProgress(value=0, max=566), HTML(value='')))"
      ]
     },
     "metadata": {},
     "output_type": "display_data"
    },
    {
     "name": "stderr",
     "output_type": "stream",
     "text": [
      "[2019-03-08 02:17:45,839][INFO] __main__:26 - b = 0.07070707070707072, f1 = 0.6617647058823528\n"
     ]
    },
    {
     "data": {
      "application/vnd.jupyter.widget-view+json": {
       "model_id": "ca0f0850a6804321ac9bce60d5513cbc",
       "version_major": 2,
       "version_minor": 0
      },
      "text/plain": [
       "HBox(children=(IntProgress(value=0, max=566), HTML(value='')))"
      ]
     },
     "metadata": {},
     "output_type": "display_data"
    },
    {
     "name": "stderr",
     "output_type": "stream",
     "text": [
      "[2019-03-08 02:17:45,982][INFO] __main__:26 - b = 0.08080808080808081, f1 = 0.6617647058823528\n"
     ]
    },
    {
     "data": {
      "application/vnd.jupyter.widget-view+json": {
       "model_id": "417dd7af6bba4ee7a1d0e9aa8e5aa688",
       "version_major": 2,
       "version_minor": 0
      },
      "text/plain": [
       "HBox(children=(IntProgress(value=0, max=566), HTML(value='')))"
      ]
     },
     "metadata": {},
     "output_type": "display_data"
    },
    {
     "name": "stderr",
     "output_type": "stream",
     "text": [
      "[2019-03-08 02:17:46,123][INFO] __main__:26 - b = 0.09090909090909091, f1 = 0.6617647058823528\n"
     ]
    },
    {
     "data": {
      "application/vnd.jupyter.widget-view+json": {
       "model_id": "da32b33a6c38472c8bbe7a34bc6bdbe0",
       "version_major": 2,
       "version_minor": 0
      },
      "text/plain": [
       "HBox(children=(IntProgress(value=0, max=566), HTML(value='')))"
      ]
     },
     "metadata": {},
     "output_type": "display_data"
    },
    {
     "name": "stderr",
     "output_type": "stream",
     "text": [
      "[2019-03-08 02:17:46,265][INFO] __main__:26 - b = 0.10101010101010102, f1 = 0.6617647058823528\n"
     ]
    },
    {
     "data": {
      "application/vnd.jupyter.widget-view+json": {
       "model_id": "13727c5f8ca5454c8bc8c0812d3a4a9b",
       "version_major": 2,
       "version_minor": 0
      },
      "text/plain": [
       "HBox(children=(IntProgress(value=0, max=566), HTML(value='')))"
      ]
     },
     "metadata": {},
     "output_type": "display_data"
    },
    {
     "name": "stderr",
     "output_type": "stream",
     "text": [
      "[2019-03-08 02:17:46,407][INFO] __main__:26 - b = 0.11111111111111112, f1 = 0.6617647058823528\n"
     ]
    },
    {
     "data": {
      "application/vnd.jupyter.widget-view+json": {
       "model_id": "3f87869c402d419ca9ddccc825554339",
       "version_major": 2,
       "version_minor": 0
      },
      "text/plain": [
       "HBox(children=(IntProgress(value=0, max=566), HTML(value='')))"
      ]
     },
     "metadata": {},
     "output_type": "display_data"
    },
    {
     "name": "stderr",
     "output_type": "stream",
     "text": [
      "[2019-03-08 02:17:46,549][INFO] __main__:26 - b = 0.12121212121212122, f1 = 0.6617647058823528\n"
     ]
    },
    {
     "data": {
      "application/vnd.jupyter.widget-view+json": {
       "model_id": "4ba7b5f4b74e443f9c3580396603ce7a",
       "version_major": 2,
       "version_minor": 0
      },
      "text/plain": [
       "HBox(children=(IntProgress(value=0, max=566), HTML(value='')))"
      ]
     },
     "metadata": {},
     "output_type": "display_data"
    },
    {
     "name": "stderr",
     "output_type": "stream",
     "text": [
      "[2019-03-08 02:17:46,695][INFO] __main__:26 - b = 0.13131313131313133, f1 = 0.6617647058823528\n"
     ]
    },
    {
     "data": {
      "application/vnd.jupyter.widget-view+json": {
       "model_id": "3d7cbadcc0874e64b064378914ebe692",
       "version_major": 2,
       "version_minor": 0
      },
      "text/plain": [
       "HBox(children=(IntProgress(value=0, max=566), HTML(value='')))"
      ]
     },
     "metadata": {},
     "output_type": "display_data"
    },
    {
     "name": "stderr",
     "output_type": "stream",
     "text": [
      "[2019-03-08 02:17:46,837][INFO] __main__:26 - b = 0.14141414141414144, f1 = 0.6617647058823528\n"
     ]
    },
    {
     "data": {
      "application/vnd.jupyter.widget-view+json": {
       "model_id": "13e0efe7f48443bb95e2ec2b0060c826",
       "version_major": 2,
       "version_minor": 0
      },
      "text/plain": [
       "HBox(children=(IntProgress(value=0, max=565), HTML(value='')))"
      ]
     },
     "metadata": {},
     "output_type": "display_data"
    },
    {
     "name": "stderr",
     "output_type": "stream",
     "text": [
      "[2019-03-08 02:17:46,980][INFO] __main__:26 - b = 0.15151515151515152, f1 = 0.6617647058823528\n"
     ]
    },
    {
     "data": {
      "application/vnd.jupyter.widget-view+json": {
       "model_id": "7dd738a36f4144f3aab4649b9e129ea8",
       "version_major": 2,
       "version_minor": 0
      },
      "text/plain": [
       "HBox(children=(IntProgress(value=0, max=565), HTML(value='')))"
      ]
     },
     "metadata": {},
     "output_type": "display_data"
    },
    {
     "name": "stderr",
     "output_type": "stream",
     "text": [
      "[2019-03-08 02:17:47,123][INFO] __main__:26 - b = 0.16161616161616163, f1 = 0.6617647058823528\n"
     ]
    },
    {
     "data": {
      "application/vnd.jupyter.widget-view+json": {
       "model_id": "a6862b65134e43e38f647274b4391866",
       "version_major": 2,
       "version_minor": 0
      },
      "text/plain": [
       "HBox(children=(IntProgress(value=0, max=564), HTML(value='')))"
      ]
     },
     "metadata": {},
     "output_type": "display_data"
    },
    {
     "name": "stderr",
     "output_type": "stream",
     "text": [
      "[2019-03-08 02:17:47,265][INFO] __main__:26 - b = 0.17171717171717174, f1 = 0.6617647058823528\n"
     ]
    },
    {
     "data": {
      "application/vnd.jupyter.widget-view+json": {
       "model_id": "0ec36bd5894a469b96d9a20baf4e2603",
       "version_major": 2,
       "version_minor": 0
      },
      "text/plain": [
       "HBox(children=(IntProgress(value=0, max=564), HTML(value='')))"
      ]
     },
     "metadata": {},
     "output_type": "display_data"
    },
    {
     "name": "stderr",
     "output_type": "stream",
     "text": [
      "[2019-03-08 02:17:47,407][INFO] __main__:26 - b = 0.18181818181818182, f1 = 0.6617647058823528\n"
     ]
    },
    {
     "data": {
      "application/vnd.jupyter.widget-view+json": {
       "model_id": "859dac48293d42e69490aa5b58ece153",
       "version_major": 2,
       "version_minor": 0
      },
      "text/plain": [
       "HBox(children=(IntProgress(value=0, max=564), HTML(value='')))"
      ]
     },
     "metadata": {},
     "output_type": "display_data"
    },
    {
     "name": "stderr",
     "output_type": "stream",
     "text": [
      "[2019-03-08 02:17:47,553][INFO] __main__:26 - b = 0.19191919191919193, f1 = 0.6617647058823528\n"
     ]
    },
    {
     "data": {
      "application/vnd.jupyter.widget-view+json": {
       "model_id": "4916282f67234e928cf84614b0ea516a",
       "version_major": 2,
       "version_minor": 0
      },
      "text/plain": [
       "HBox(children=(IntProgress(value=0, max=563), HTML(value='')))"
      ]
     },
     "metadata": {},
     "output_type": "display_data"
    },
    {
     "name": "stderr",
     "output_type": "stream",
     "text": [
      "[2019-03-08 02:17:47,695][INFO] __main__:26 - b = 0.20202020202020204, f1 = 0.6617647058823528\n"
     ]
    },
    {
     "data": {
      "application/vnd.jupyter.widget-view+json": {
       "model_id": "1e95f94e845f4160b98b6e99093d11f2",
       "version_major": 2,
       "version_minor": 0
      },
      "text/plain": [
       "HBox(children=(IntProgress(value=0, max=563), HTML(value='')))"
      ]
     },
     "metadata": {},
     "output_type": "display_data"
    },
    {
     "name": "stderr",
     "output_type": "stream",
     "text": [
      "[2019-03-08 02:17:47,838][INFO] __main__:26 - b = 0.21212121212121213, f1 = 0.6617647058823528\n"
     ]
    },
    {
     "data": {
      "application/vnd.jupyter.widget-view+json": {
       "model_id": "c05fceb1eb52439882257a55d6e73672",
       "version_major": 2,
       "version_minor": 0
      },
      "text/plain": [
       "HBox(children=(IntProgress(value=0, max=562), HTML(value='')))"
      ]
     },
     "metadata": {},
     "output_type": "display_data"
    },
    {
     "name": "stderr",
     "output_type": "stream",
     "text": [
      "[2019-03-08 02:17:47,980][INFO] __main__:26 - b = 0.22222222222222224, f1 = 0.6617647058823528\n"
     ]
    },
    {
     "data": {
      "application/vnd.jupyter.widget-view+json": {
       "model_id": "9e9cec6a4373498ca5e8cdb1a075285c",
       "version_major": 2,
       "version_minor": 0
      },
      "text/plain": [
       "HBox(children=(IntProgress(value=0, max=562), HTML(value='')))"
      ]
     },
     "metadata": {},
     "output_type": "display_data"
    },
    {
     "name": "stderr",
     "output_type": "stream",
     "text": [
      "[2019-03-08 02:17:48,123][INFO] __main__:26 - b = 0.23232323232323235, f1 = 0.6617647058823528\n"
     ]
    },
    {
     "data": {
      "application/vnd.jupyter.widget-view+json": {
       "model_id": "8c84be89f3064ae0933eb2f8e6c98c4e",
       "version_major": 2,
       "version_minor": 0
      },
      "text/plain": [
       "HBox(children=(IntProgress(value=0, max=561), HTML(value='')))"
      ]
     },
     "metadata": {},
     "output_type": "display_data"
    },
    {
     "name": "stderr",
     "output_type": "stream",
     "text": [
      "[2019-03-08 02:17:48,266][INFO] __main__:26 - b = 0.24242424242424243, f1 = 0.6617647058823528\n"
     ]
    },
    {
     "data": {
      "application/vnd.jupyter.widget-view+json": {
       "model_id": "ba12021a9fb540059d2a2d484b1072e2",
       "version_major": 2,
       "version_minor": 0
      },
      "text/plain": [
       "HBox(children=(IntProgress(value=0, max=559), HTML(value='')))"
      ]
     },
     "metadata": {},
     "output_type": "display_data"
    },
    {
     "name": "stderr",
     "output_type": "stream",
     "text": [
      "[2019-03-08 02:17:48,410][INFO] __main__:26 - b = 0.25252525252525254, f1 = 0.6617647058823528\n"
     ]
    },
    {
     "data": {
      "application/vnd.jupyter.widget-view+json": {
       "model_id": "14fd296bf6924afbad752ef873d6cd75",
       "version_major": 2,
       "version_minor": 0
      },
      "text/plain": [
       "HBox(children=(IntProgress(value=0, max=559), HTML(value='')))"
      ]
     },
     "metadata": {},
     "output_type": "display_data"
    },
    {
     "name": "stderr",
     "output_type": "stream",
     "text": [
      "[2019-03-08 02:17:48,555][INFO] __main__:26 - b = 0.26262626262626265, f1 = 0.6617647058823528\n"
     ]
    },
    {
     "data": {
      "application/vnd.jupyter.widget-view+json": {
       "model_id": "e7b2dd0f91094945955f1628909d91d4",
       "version_major": 2,
       "version_minor": 0
      },
      "text/plain": [
       "HBox(children=(IntProgress(value=0, max=559), HTML(value='')))"
      ]
     },
     "metadata": {},
     "output_type": "display_data"
    },
    {
     "name": "stderr",
     "output_type": "stream",
     "text": [
      "[2019-03-08 02:17:48,697][INFO] __main__:26 - b = 0.27272727272727276, f1 = 0.6617647058823528\n"
     ]
    },
    {
     "data": {
      "application/vnd.jupyter.widget-view+json": {
       "model_id": "8cb67170fc8b4507b7e0e67c0dad884e",
       "version_major": 2,
       "version_minor": 0
      },
      "text/plain": [
       "HBox(children=(IntProgress(value=0, max=559), HTML(value='')))"
      ]
     },
     "metadata": {},
     "output_type": "display_data"
    },
    {
     "name": "stderr",
     "output_type": "stream",
     "text": [
      "[2019-03-08 02:17:48,842][INFO] __main__:26 - b = 0.2828282828282829, f1 = 0.6617647058823528\n"
     ]
    },
    {
     "data": {
      "application/vnd.jupyter.widget-view+json": {
       "model_id": "e33dd20b56394212b14223d8e428f1f4",
       "version_major": 2,
       "version_minor": 0
      },
      "text/plain": [
       "HBox(children=(IntProgress(value=0, max=558), HTML(value='')))"
      ]
     },
     "metadata": {},
     "output_type": "display_data"
    },
    {
     "name": "stderr",
     "output_type": "stream",
     "text": [
      "[2019-03-08 02:17:48,994][INFO] __main__:26 - b = 0.29292929292929293, f1 = 0.6617647058823528\n"
     ]
    },
    {
     "data": {
      "application/vnd.jupyter.widget-view+json": {
       "model_id": "05dc0be75a9c4bd9b3b7ec130c900f32",
       "version_major": 2,
       "version_minor": 0
      },
      "text/plain": [
       "HBox(children=(IntProgress(value=0, max=558), HTML(value='')))"
      ]
     },
     "metadata": {},
     "output_type": "display_data"
    },
    {
     "name": "stderr",
     "output_type": "stream",
     "text": [
      "[2019-03-08 02:17:49,138][INFO] __main__:26 - b = 0.30303030303030304, f1 = 0.6617647058823528\n"
     ]
    },
    {
     "data": {
      "application/vnd.jupyter.widget-view+json": {
       "model_id": "262e68702b654f3da45a5b3540801075",
       "version_major": 2,
       "version_minor": 0
      },
      "text/plain": [
       "HBox(children=(IntProgress(value=0, max=558), HTML(value='')))"
      ]
     },
     "metadata": {},
     "output_type": "display_data"
    },
    {
     "name": "stderr",
     "output_type": "stream",
     "text": [
      "[2019-03-08 02:17:49,288][INFO] __main__:26 - b = 0.31313131313131315, f1 = 0.6617647058823528\n"
     ]
    },
    {
     "data": {
      "application/vnd.jupyter.widget-view+json": {
       "model_id": "864dbe64f27e43f3ae6dd66e4e6a8713",
       "version_major": 2,
       "version_minor": 0
      },
      "text/plain": [
       "HBox(children=(IntProgress(value=0, max=558), HTML(value='')))"
      ]
     },
     "metadata": {},
     "output_type": "display_data"
    },
    {
     "name": "stderr",
     "output_type": "stream",
     "text": [
      "[2019-03-08 02:17:49,433][INFO] __main__:26 - b = 0.32323232323232326, f1 = 0.6617647058823528\n"
     ]
    },
    {
     "data": {
      "application/vnd.jupyter.widget-view+json": {
       "model_id": "ca7ebacdbf984330ab877b9b6d0cc803",
       "version_major": 2,
       "version_minor": 0
      },
      "text/plain": [
       "HBox(children=(IntProgress(value=0, max=558), HTML(value='')))"
      ]
     },
     "metadata": {},
     "output_type": "display_data"
    },
    {
     "name": "stderr",
     "output_type": "stream",
     "text": [
      "[2019-03-08 02:17:49,576][INFO] __main__:26 - b = 0.33333333333333337, f1 = 0.6617647058823528\n"
     ]
    },
    {
     "data": {
      "application/vnd.jupyter.widget-view+json": {
       "model_id": "4f2e3d0755fa4ceca91aef410e8247a2",
       "version_major": 2,
       "version_minor": 0
      },
      "text/plain": [
       "HBox(children=(IntProgress(value=0, max=557), HTML(value='')))"
      ]
     },
     "metadata": {},
     "output_type": "display_data"
    },
    {
     "name": "stderr",
     "output_type": "stream",
     "text": [
      "[2019-03-08 02:17:49,719][INFO] __main__:26 - b = 0.3434343434343435, f1 = 0.6617647058823528\n"
     ]
    },
    {
     "data": {
      "application/vnd.jupyter.widget-view+json": {
       "model_id": "2c6cc96edf9c4d3eb67448255e1bd5b5",
       "version_major": 2,
       "version_minor": 0
      },
      "text/plain": [
       "HBox(children=(IntProgress(value=0, max=555), HTML(value='')))"
      ]
     },
     "metadata": {},
     "output_type": "display_data"
    },
    {
     "name": "stderr",
     "output_type": "stream",
     "text": [
      "[2019-03-08 02:17:49,863][INFO] __main__:26 - b = 0.3535353535353536, f1 = 0.6617647058823528\n"
     ]
    },
    {
     "data": {
      "application/vnd.jupyter.widget-view+json": {
       "model_id": "6d60b13ef02d4d5ea934b1595df48bb9",
       "version_major": 2,
       "version_minor": 0
      },
      "text/plain": [
       "HBox(children=(IntProgress(value=0, max=554), HTML(value='')))"
      ]
     },
     "metadata": {},
     "output_type": "display_data"
    },
    {
     "name": "stderr",
     "output_type": "stream",
     "text": [
      "[2019-03-08 02:17:50,004][INFO] __main__:26 - b = 0.36363636363636365, f1 = 0.6617647058823528\n"
     ]
    },
    {
     "data": {
      "application/vnd.jupyter.widget-view+json": {
       "model_id": "9e8fd4ee235c45e6a86b803926fc1032",
       "version_major": 2,
       "version_minor": 0
      },
      "text/plain": [
       "HBox(children=(IntProgress(value=0, max=553), HTML(value='')))"
      ]
     },
     "metadata": {},
     "output_type": "display_data"
    },
    {
     "name": "stderr",
     "output_type": "stream",
     "text": [
      "[2019-03-08 02:17:50,148][INFO] __main__:26 - b = 0.37373737373737376, f1 = 0.6617647058823528\n"
     ]
    },
    {
     "data": {
      "application/vnd.jupyter.widget-view+json": {
       "model_id": "de3a3e5be4654e519f9ade2b40e2e614",
       "version_major": 2,
       "version_minor": 0
      },
      "text/plain": [
       "HBox(children=(IntProgress(value=0, max=552), HTML(value='')))"
      ]
     },
     "metadata": {},
     "output_type": "display_data"
    },
    {
     "name": "stderr",
     "output_type": "stream",
     "text": [
      "[2019-03-08 02:17:50,293][INFO] __main__:26 - b = 0.38383838383838387, f1 = 0.6617647058823528\n"
     ]
    },
    {
     "data": {
      "application/vnd.jupyter.widget-view+json": {
       "model_id": "c7c07a01ec6942149955848fc95a7777",
       "version_major": 2,
       "version_minor": 0
      },
      "text/plain": [
       "HBox(children=(IntProgress(value=0, max=551), HTML(value='')))"
      ]
     },
     "metadata": {},
     "output_type": "display_data"
    },
    {
     "name": "stderr",
     "output_type": "stream",
     "text": [
      "[2019-03-08 02:17:50,436][INFO] __main__:26 - b = 0.393939393939394, f1 = 0.6617647058823528\n"
     ]
    },
    {
     "data": {
      "application/vnd.jupyter.widget-view+json": {
       "model_id": "53009a7a7fa749398f94624eabf151b2",
       "version_major": 2,
       "version_minor": 0
      },
      "text/plain": [
       "HBox(children=(IntProgress(value=0, max=548), HTML(value='')))"
      ]
     },
     "metadata": {},
     "output_type": "display_data"
    },
    {
     "name": "stderr",
     "output_type": "stream",
     "text": [
      "[2019-03-08 02:17:50,577][INFO] __main__:26 - b = 0.4040404040404041, f1 = 0.6617647058823528\n"
     ]
    },
    {
     "data": {
      "application/vnd.jupyter.widget-view+json": {
       "model_id": "fca90bef4ded4673856e368ad9808dcc",
       "version_major": 2,
       "version_minor": 0
      },
      "text/plain": [
       "HBox(children=(IntProgress(value=0, max=546), HTML(value='')))"
      ]
     },
     "metadata": {},
     "output_type": "display_data"
    },
    {
     "name": "stderr",
     "output_type": "stream",
     "text": [
      "[2019-03-08 02:17:50,720][INFO] __main__:26 - b = 0.4141414141414142, f1 = 0.6617647058823528\n"
     ]
    },
    {
     "data": {
      "application/vnd.jupyter.widget-view+json": {
       "model_id": "72ec30a99dc6443f94ea145474f82dcc",
       "version_major": 2,
       "version_minor": 0
      },
      "text/plain": [
       "HBox(children=(IntProgress(value=0, max=545), HTML(value='')))"
      ]
     },
     "metadata": {},
     "output_type": "display_data"
    },
    {
     "name": "stderr",
     "output_type": "stream",
     "text": [
      "[2019-03-08 02:17:50,862][INFO] __main__:26 - b = 0.42424242424242425, f1 = 0.6617647058823528\n"
     ]
    },
    {
     "data": {
      "application/vnd.jupyter.widget-view+json": {
       "model_id": "a6acc4a89be846418233d692db4f6be0",
       "version_major": 2,
       "version_minor": 0
      },
      "text/plain": [
       "HBox(children=(IntProgress(value=0, max=543), HTML(value='')))"
      ]
     },
     "metadata": {},
     "output_type": "display_data"
    },
    {
     "name": "stderr",
     "output_type": "stream",
     "text": [
      "[2019-03-08 02:17:51,004][INFO] __main__:26 - b = 0.43434343434343436, f1 = 0.6617647058823528\n"
     ]
    },
    {
     "data": {
      "application/vnd.jupyter.widget-view+json": {
       "model_id": "b137d30e0c6f4a66a15632f0d3568d46",
       "version_major": 2,
       "version_minor": 0
      },
      "text/plain": [
       "HBox(children=(IntProgress(value=0, max=541), HTML(value='')))"
      ]
     },
     "metadata": {},
     "output_type": "display_data"
    },
    {
     "name": "stderr",
     "output_type": "stream",
     "text": [
      "[2019-03-08 02:17:51,145][INFO] __main__:26 - b = 0.4444444444444445, f1 = 0.6617647058823528\n"
     ]
    },
    {
     "data": {
      "application/vnd.jupyter.widget-view+json": {
       "model_id": "bace65ab008f497fb5ae368e7a2e3017",
       "version_major": 2,
       "version_minor": 0
      },
      "text/plain": [
       "HBox(children=(IntProgress(value=0, max=539), HTML(value='')))"
      ]
     },
     "metadata": {},
     "output_type": "display_data"
    },
    {
     "name": "stderr",
     "output_type": "stream",
     "text": [
      "[2019-03-08 02:17:51,286][INFO] __main__:26 - b = 0.4545454545454546, f1 = 0.6666666666666667\n"
     ]
    },
    {
     "data": {
      "application/vnd.jupyter.widget-view+json": {
       "model_id": "b15a8071b7054ada80352d7276958ece",
       "version_major": 2,
       "version_minor": 0
      },
      "text/plain": [
       "HBox(children=(IntProgress(value=0, max=539), HTML(value='')))"
      ]
     },
     "metadata": {},
     "output_type": "display_data"
    },
    {
     "name": "stderr",
     "output_type": "stream",
     "text": [
      "[2019-03-08 02:17:51,428][INFO] __main__:26 - b = 0.4646464646464647, f1 = 0.6666666666666667\n"
     ]
    },
    {
     "data": {
      "application/vnd.jupyter.widget-view+json": {
       "model_id": "2e53afa5d9eb4d05828605f38f5d2086",
       "version_major": 2,
       "version_minor": 0
      },
      "text/plain": [
       "HBox(children=(IntProgress(value=0, max=538), HTML(value='')))"
      ]
     },
     "metadata": {},
     "output_type": "display_data"
    },
    {
     "name": "stderr",
     "output_type": "stream",
     "text": [
      "[2019-03-08 02:17:51,571][INFO] __main__:26 - b = 0.4747474747474748, f1 = 0.6666666666666667\n"
     ]
    },
    {
     "data": {
      "application/vnd.jupyter.widget-view+json": {
       "model_id": "56820e909bce413b8642a1b55d91b42c",
       "version_major": 2,
       "version_minor": 0
      },
      "text/plain": [
       "HBox(children=(IntProgress(value=0, max=538), HTML(value='')))"
      ]
     },
     "metadata": {},
     "output_type": "display_data"
    },
    {
     "name": "stderr",
     "output_type": "stream",
     "text": [
      "[2019-03-08 02:17:51,714][INFO] __main__:26 - b = 0.48484848484848486, f1 = 0.6666666666666667\n"
     ]
    },
    {
     "data": {
      "application/vnd.jupyter.widget-view+json": {
       "model_id": "dfdb61e8e5d04ce788ba8ddec875b37e",
       "version_major": 2,
       "version_minor": 0
      },
      "text/plain": [
       "HBox(children=(IntProgress(value=0, max=538), HTML(value='')))"
      ]
     },
     "metadata": {},
     "output_type": "display_data"
    },
    {
     "name": "stderr",
     "output_type": "stream",
     "text": [
      "[2019-03-08 02:17:51,856][INFO] __main__:26 - b = 0.494949494949495, f1 = 0.6666666666666667\n"
     ]
    },
    {
     "data": {
      "application/vnd.jupyter.widget-view+json": {
       "model_id": "e365a92ffa7642638a500b1678e5294a",
       "version_major": 2,
       "version_minor": 0
      },
      "text/plain": [
       "HBox(children=(IntProgress(value=0, max=538), HTML(value='')))"
      ]
     },
     "metadata": {},
     "output_type": "display_data"
    },
    {
     "name": "stderr",
     "output_type": "stream",
     "text": [
      "[2019-03-08 02:17:51,998][INFO] __main__:26 - b = 0.5050505050505051, f1 = 0.6666666666666667\n"
     ]
    },
    {
     "data": {
      "application/vnd.jupyter.widget-view+json": {
       "model_id": "508955b80f0d4102950d98616e1773d7",
       "version_major": 2,
       "version_minor": 0
      },
      "text/plain": [
       "HBox(children=(IntProgress(value=0, max=537), HTML(value='')))"
      ]
     },
     "metadata": {},
     "output_type": "display_data"
    },
    {
     "name": "stderr",
     "output_type": "stream",
     "text": [
      "[2019-03-08 02:17:52,140][INFO] __main__:26 - b = 0.5151515151515152, f1 = 0.6666666666666667\n"
     ]
    },
    {
     "data": {
      "application/vnd.jupyter.widget-view+json": {
       "model_id": "972847b2779142469e9f906e481741fc",
       "version_major": 2,
       "version_minor": 0
      },
      "text/plain": [
       "HBox(children=(IntProgress(value=0, max=534), HTML(value='')))"
      ]
     },
     "metadata": {},
     "output_type": "display_data"
    },
    {
     "name": "stderr",
     "output_type": "stream",
     "text": [
      "[2019-03-08 02:17:52,282][INFO] __main__:26 - b = 0.5252525252525253, f1 = 0.6666666666666667\n"
     ]
    },
    {
     "data": {
      "application/vnd.jupyter.widget-view+json": {
       "model_id": "3c0d425b5e04449f81f24db0fe290174",
       "version_major": 2,
       "version_minor": 0
      },
      "text/plain": [
       "HBox(children=(IntProgress(value=0, max=533), HTML(value='')))"
      ]
     },
     "metadata": {},
     "output_type": "display_data"
    },
    {
     "name": "stderr",
     "output_type": "stream",
     "text": [
      "[2019-03-08 02:17:52,425][INFO] __main__:26 - b = 0.5353535353535354, f1 = 0.6666666666666667\n"
     ]
    },
    {
     "data": {
      "application/vnd.jupyter.widget-view+json": {
       "model_id": "1c453a8ac2a049acbf16202d36be99c6",
       "version_major": 2,
       "version_minor": 0
      },
      "text/plain": [
       "HBox(children=(IntProgress(value=0, max=532), HTML(value='')))"
      ]
     },
     "metadata": {},
     "output_type": "display_data"
    },
    {
     "name": "stderr",
     "output_type": "stream",
     "text": [
      "[2019-03-08 02:17:52,566][INFO] __main__:26 - b = 0.5454545454545455, f1 = 0.6666666666666667\n"
     ]
    },
    {
     "data": {
      "application/vnd.jupyter.widget-view+json": {
       "model_id": "f52a5a0ed20a44d9ab382567138063e0",
       "version_major": 2,
       "version_minor": 0
      },
      "text/plain": [
       "HBox(children=(IntProgress(value=0, max=532), HTML(value='')))"
      ]
     },
     "metadata": {},
     "output_type": "display_data"
    },
    {
     "name": "stderr",
     "output_type": "stream",
     "text": [
      "[2019-03-08 02:17:52,711][INFO] __main__:26 - b = 0.5555555555555556, f1 = 0.6666666666666667\n"
     ]
    },
    {
     "data": {
      "application/vnd.jupyter.widget-view+json": {
       "model_id": "888d6a1ecae24fcf81b46b6aff70f510",
       "version_major": 2,
       "version_minor": 0
      },
      "text/plain": [
       "HBox(children=(IntProgress(value=0, max=531), HTML(value='')))"
      ]
     },
     "metadata": {},
     "output_type": "display_data"
    },
    {
     "name": "stderr",
     "output_type": "stream",
     "text": [
      "[2019-03-08 02:17:52,854][INFO] __main__:26 - b = 0.5656565656565657, f1 = 0.6666666666666667\n"
     ]
    },
    {
     "data": {
      "application/vnd.jupyter.widget-view+json": {
       "model_id": "3454f511801d45e48c45d24edeefd4ab",
       "version_major": 2,
       "version_minor": 0
      },
      "text/plain": [
       "HBox(children=(IntProgress(value=0, max=530), HTML(value='')))"
      ]
     },
     "metadata": {},
     "output_type": "display_data"
    },
    {
     "name": "stderr",
     "output_type": "stream",
     "text": [
      "[2019-03-08 02:17:52,996][INFO] __main__:26 - b = 0.5757575757575758, f1 = 0.6666666666666667\n"
     ]
    },
    {
     "data": {
      "application/vnd.jupyter.widget-view+json": {
       "model_id": "dde0b068b3c84bec9cd432694db87022",
       "version_major": 2,
       "version_minor": 0
      },
      "text/plain": [
       "HBox(children=(IntProgress(value=0, max=529), HTML(value='')))"
      ]
     },
     "metadata": {},
     "output_type": "display_data"
    },
    {
     "name": "stderr",
     "output_type": "stream",
     "text": [
      "[2019-03-08 02:17:53,137][INFO] __main__:26 - b = 0.5858585858585859, f1 = 0.6691449814126395\n"
     ]
    },
    {
     "data": {
      "application/vnd.jupyter.widget-view+json": {
       "model_id": "e214f5db611b479db7f2d1d9cc18d44d",
       "version_major": 2,
       "version_minor": 0
      },
      "text/plain": [
       "HBox(children=(IntProgress(value=0, max=528), HTML(value='')))"
      ]
     },
     "metadata": {},
     "output_type": "display_data"
    },
    {
     "name": "stderr",
     "output_type": "stream",
     "text": [
      "[2019-03-08 02:17:53,281][INFO] __main__:26 - b = 0.595959595959596, f1 = 0.6691449814126395\n"
     ]
    },
    {
     "data": {
      "application/vnd.jupyter.widget-view+json": {
       "model_id": "218cc1b14bc845e8980a6347e8c32f2e",
       "version_major": 2,
       "version_minor": 0
      },
      "text/plain": [
       "HBox(children=(IntProgress(value=0, max=526), HTML(value='')))"
      ]
     },
     "metadata": {},
     "output_type": "display_data"
    },
    {
     "name": "stderr",
     "output_type": "stream",
     "text": [
      "[2019-03-08 02:17:53,423][INFO] __main__:26 - b = 0.6060606060606061, f1 = 0.6691449814126395\n"
     ]
    },
    {
     "data": {
      "application/vnd.jupyter.widget-view+json": {
       "model_id": "a45ca2b5fe0e4ebe85727e981a68e7e0",
       "version_major": 2,
       "version_minor": 0
      },
      "text/plain": [
       "HBox(children=(IntProgress(value=0, max=522), HTML(value='')))"
      ]
     },
     "metadata": {},
     "output_type": "display_data"
    },
    {
     "name": "stderr",
     "output_type": "stream",
     "text": [
      "[2019-03-08 02:17:53,564][INFO] __main__:26 - b = 0.6161616161616162, f1 = 0.6691449814126395\n"
     ]
    },
    {
     "data": {
      "application/vnd.jupyter.widget-view+json": {
       "model_id": "606be3475700476f878a55aab4c6cfd9",
       "version_major": 2,
       "version_minor": 0
      },
      "text/plain": [
       "HBox(children=(IntProgress(value=0, max=511), HTML(value='')))"
      ]
     },
     "metadata": {},
     "output_type": "display_data"
    },
    {
     "name": "stderr",
     "output_type": "stream",
     "text": [
      "[2019-03-08 02:17:53,705][INFO] __main__:26 - b = 0.6262626262626263, f1 = 0.6691449814126395\n"
     ]
    },
    {
     "data": {
      "application/vnd.jupyter.widget-view+json": {
       "model_id": "29864304ea8b498297f225dc3380dfdf",
       "version_major": 2,
       "version_minor": 0
      },
      "text/plain": [
       "HBox(children=(IntProgress(value=0, max=505), HTML(value='')))"
      ]
     },
     "metadata": {},
     "output_type": "display_data"
    },
    {
     "name": "stderr",
     "output_type": "stream",
     "text": [
      "[2019-03-08 02:17:53,845][INFO] __main__:26 - b = 0.6363636363636365, f1 = 0.6716417910447762\n"
     ]
    },
    {
     "data": {
      "application/vnd.jupyter.widget-view+json": {
       "model_id": "6e0cf61785b149599e546caf22c3763a",
       "version_major": 2,
       "version_minor": 0
      },
      "text/plain": [
       "HBox(children=(IntProgress(value=0, max=497), HTML(value='')))"
      ]
     },
     "metadata": {},
     "output_type": "display_data"
    },
    {
     "name": "stderr",
     "output_type": "stream",
     "text": [
      "[2019-03-08 02:17:53,987][INFO] __main__:26 - b = 0.6464646464646465, f1 = 0.6716417910447762\n"
     ]
    },
    {
     "data": {
      "application/vnd.jupyter.widget-view+json": {
       "model_id": "4b348ced7c484566a5643e0795ea7526",
       "version_major": 2,
       "version_minor": 0
      },
      "text/plain": [
       "HBox(children=(IntProgress(value=0, max=494), HTML(value='')))"
      ]
     },
     "metadata": {},
     "output_type": "display_data"
    },
    {
     "name": "stderr",
     "output_type": "stream",
     "text": [
      "[2019-03-08 02:17:54,128][INFO] __main__:26 - b = 0.6565656565656566, f1 = 0.6716417910447762\n"
     ]
    },
    {
     "data": {
      "application/vnd.jupyter.widget-view+json": {
       "model_id": "7cedc6359abd477e848e668a77d5725f",
       "version_major": 2,
       "version_minor": 0
      },
      "text/plain": [
       "HBox(children=(IntProgress(value=0, max=488), HTML(value='')))"
      ]
     },
     "metadata": {},
     "output_type": "display_data"
    },
    {
     "name": "stderr",
     "output_type": "stream",
     "text": [
      "[2019-03-08 02:17:54,268][INFO] __main__:26 - b = 0.6666666666666667, f1 = 0.6716417910447762\n"
     ]
    },
    {
     "data": {
      "application/vnd.jupyter.widget-view+json": {
       "model_id": "d1507f8ed98149cbb2f4bbd7c8e232a9",
       "version_major": 2,
       "version_minor": 0
      },
      "text/plain": [
       "HBox(children=(IntProgress(value=0, max=486), HTML(value='')))"
      ]
     },
     "metadata": {},
     "output_type": "display_data"
    },
    {
     "name": "stderr",
     "output_type": "stream",
     "text": [
      "[2019-03-08 02:17:54,409][INFO] __main__:26 - b = 0.6767676767676768, f1 = 0.6716417910447762\n"
     ]
    },
    {
     "data": {
      "application/vnd.jupyter.widget-view+json": {
       "model_id": "78e1e3203d5442acb89f807221635e69",
       "version_major": 2,
       "version_minor": 0
      },
      "text/plain": [
       "HBox(children=(IntProgress(value=0, max=481), HTML(value='')))"
      ]
     },
     "metadata": {},
     "output_type": "display_data"
    },
    {
     "name": "stderr",
     "output_type": "stream",
     "text": [
      "[2019-03-08 02:17:54,551][INFO] __main__:26 - b = 0.686868686868687, f1 = 0.6741573033707866\n"
     ]
    },
    {
     "data": {
      "application/vnd.jupyter.widget-view+json": {
       "model_id": "6b06ead9b3e54e718a64761c04f90a0a",
       "version_major": 2,
       "version_minor": 0
      },
      "text/plain": [
       "HBox(children=(IntProgress(value=0, max=474), HTML(value='')))"
      ]
     },
     "metadata": {},
     "output_type": "display_data"
    },
    {
     "name": "stderr",
     "output_type": "stream",
     "text": [
      "[2019-03-08 02:17:54,691][INFO] __main__:26 - b = 0.696969696969697, f1 = 0.6844106463878327\n"
     ]
    },
    {
     "data": {
      "application/vnd.jupyter.widget-view+json": {
       "model_id": "c3a45dd5dc3d4b1e9dbab2c1d7ffff3d",
       "version_major": 2,
       "version_minor": 0
      },
      "text/plain": [
       "HBox(children=(IntProgress(value=0, max=470), HTML(value='')))"
      ]
     },
     "metadata": {},
     "output_type": "display_data"
    },
    {
     "name": "stderr",
     "output_type": "stream",
     "text": [
      "[2019-03-08 02:17:54,834][INFO] __main__:26 - b = 0.7070707070707072, f1 = 0.6844106463878327\n"
     ]
    },
    {
     "data": {
      "application/vnd.jupyter.widget-view+json": {
       "model_id": "3e7ba6ce2b2b4f9598aa44510245e33a",
       "version_major": 2,
       "version_minor": 0
      },
      "text/plain": [
       "HBox(children=(IntProgress(value=0, max=465), HTML(value='')))"
      ]
     },
     "metadata": {},
     "output_type": "display_data"
    },
    {
     "name": "stderr",
     "output_type": "stream",
     "text": [
      "[2019-03-08 02:17:54,974][INFO] __main__:26 - b = 0.7171717171717172, f1 = 0.6844106463878327\n"
     ]
    },
    {
     "data": {
      "application/vnd.jupyter.widget-view+json": {
       "model_id": "7420fe4c1f0940c384464c33609fa359",
       "version_major": 2,
       "version_minor": 0
      },
      "text/plain": [
       "HBox(children=(IntProgress(value=0, max=462), HTML(value='')))"
      ]
     },
     "metadata": {},
     "output_type": "display_data"
    },
    {
     "name": "stderr",
     "output_type": "stream",
     "text": [
      "[2019-03-08 02:17:55,115][INFO] __main__:26 - b = 0.7272727272727273, f1 = 0.6844106463878327\n"
     ]
    },
    {
     "data": {
      "application/vnd.jupyter.widget-view+json": {
       "model_id": "220795d0ea4446a49250b9e03d455685",
       "version_major": 2,
       "version_minor": 0
      },
      "text/plain": [
       "HBox(children=(IntProgress(value=0, max=457), HTML(value='')))"
      ]
     },
     "metadata": {},
     "output_type": "display_data"
    },
    {
     "name": "stderr",
     "output_type": "stream",
     "text": [
      "[2019-03-08 02:17:55,256][INFO] __main__:26 - b = 0.7373737373737375, f1 = 0.6844106463878327\n"
     ]
    },
    {
     "data": {
      "application/vnd.jupyter.widget-view+json": {
       "model_id": "288e34e3d2454c308973b7bd4850c116",
       "version_major": 2,
       "version_minor": 0
      },
      "text/plain": [
       "HBox(children=(IntProgress(value=0, max=455), HTML(value='')))"
      ]
     },
     "metadata": {},
     "output_type": "display_data"
    },
    {
     "name": "stderr",
     "output_type": "stream",
     "text": [
      "[2019-03-08 02:17:55,395][INFO] __main__:26 - b = 0.7474747474747475, f1 = 0.6844106463878327\n"
     ]
    },
    {
     "data": {
      "application/vnd.jupyter.widget-view+json": {
       "model_id": "f0f8cb97bc9645a5a26c1d88cef418e1",
       "version_major": 2,
       "version_minor": 0
      },
      "text/plain": [
       "HBox(children=(IntProgress(value=0, max=449), HTML(value='')))"
      ]
     },
     "metadata": {},
     "output_type": "display_data"
    },
    {
     "name": "stderr",
     "output_type": "stream",
     "text": [
      "[2019-03-08 02:17:55,537][INFO] __main__:26 - b = 0.7575757575757577, f1 = 0.6844106463878327\n"
     ]
    },
    {
     "data": {
      "application/vnd.jupyter.widget-view+json": {
       "model_id": "874bb4cb54924918856b6918d05d52dc",
       "version_major": 2,
       "version_minor": 0
      },
      "text/plain": [
       "HBox(children=(IntProgress(value=0, max=441), HTML(value='')))"
      ]
     },
     "metadata": {},
     "output_type": "display_data"
    },
    {
     "name": "stderr",
     "output_type": "stream",
     "text": [
      "[2019-03-08 02:17:55,677][INFO] __main__:26 - b = 0.7676767676767677, f1 = 0.6844106463878327\n"
     ]
    },
    {
     "data": {
      "application/vnd.jupyter.widget-view+json": {
       "model_id": "5836f2c8be474b2cb081237e1a8df084",
       "version_major": 2,
       "version_minor": 0
      },
      "text/plain": [
       "HBox(children=(IntProgress(value=0, max=434), HTML(value='')))"
      ]
     },
     "metadata": {},
     "output_type": "display_data"
    },
    {
     "name": "stderr",
     "output_type": "stream",
     "text": [
      "[2019-03-08 02:17:55,818][INFO] __main__:26 - b = 0.7777777777777778, f1 = 0.6844106463878327\n"
     ]
    },
    {
     "data": {
      "application/vnd.jupyter.widget-view+json": {
       "model_id": "27ccb4266c9840e7aeb4f7ea75ad5193",
       "version_major": 2,
       "version_minor": 0
      },
      "text/plain": [
       "HBox(children=(IntProgress(value=0, max=423), HTML(value='')))"
      ]
     },
     "metadata": {},
     "output_type": "display_data"
    },
    {
     "name": "stderr",
     "output_type": "stream",
     "text": [
      "[2019-03-08 02:17:55,958][INFO] __main__:26 - b = 0.787878787878788, f1 = 0.6844106463878327\n"
     ]
    },
    {
     "data": {
      "application/vnd.jupyter.widget-view+json": {
       "model_id": "65f134ae22f147dbbbbd3adf1215e699",
       "version_major": 2,
       "version_minor": 0
      },
      "text/plain": [
       "HBox(children=(IntProgress(value=0, max=390), HTML(value='')))"
      ]
     },
     "metadata": {},
     "output_type": "display_data"
    },
    {
     "name": "stderr",
     "output_type": "stream",
     "text": [
      "[2019-03-08 02:17:56,096][INFO] __main__:26 - b = 0.797979797979798, f1 = 0.6844106463878327\n"
     ]
    },
    {
     "data": {
      "application/vnd.jupyter.widget-view+json": {
       "model_id": "6005420d9d40417b97e9cd8071a61186",
       "version_major": 2,
       "version_minor": 0
      },
      "text/plain": [
       "HBox(children=(IntProgress(value=0, max=383), HTML(value='')))"
      ]
     },
     "metadata": {},
     "output_type": "display_data"
    },
    {
     "name": "stderr",
     "output_type": "stream",
     "text": [
      "[2019-03-08 02:17:56,234][INFO] __main__:26 - b = 0.8080808080808082, f1 = 0.6844106463878327\n"
     ]
    },
    {
     "data": {
      "application/vnd.jupyter.widget-view+json": {
       "model_id": "c838198a532340839f28510ae554c8ca",
       "version_major": 2,
       "version_minor": 0
      },
      "text/plain": [
       "HBox(children=(IntProgress(value=0, max=376), HTML(value='')))"
      ]
     },
     "metadata": {},
     "output_type": "display_data"
    },
    {
     "name": "stderr",
     "output_type": "stream",
     "text": [
      "[2019-03-08 02:17:56,373][INFO] __main__:26 - b = 0.8181818181818182, f1 = 0.6844106463878327\n"
     ]
    },
    {
     "data": {
      "application/vnd.jupyter.widget-view+json": {
       "model_id": "c772f9ea8bd24678b84c38ce63369f9f",
       "version_major": 2,
       "version_minor": 0
      },
      "text/plain": [
       "HBox(children=(IntProgress(value=0, max=373), HTML(value='')))"
      ]
     },
     "metadata": {},
     "output_type": "display_data"
    },
    {
     "name": "stderr",
     "output_type": "stream",
     "text": [
      "[2019-03-08 02:17:56,511][INFO] __main__:26 - b = 0.8282828282828284, f1 = 0.6896551724137931\n"
     ]
    },
    {
     "data": {
      "application/vnd.jupyter.widget-view+json": {
       "model_id": "3825f25504064ba68d2552513c186261",
       "version_major": 2,
       "version_minor": 0
      },
      "text/plain": [
       "HBox(children=(IntProgress(value=0, max=370), HTML(value='')))"
      ]
     },
     "metadata": {},
     "output_type": "display_data"
    },
    {
     "name": "stderr",
     "output_type": "stream",
     "text": [
      "[2019-03-08 02:17:56,650][INFO] __main__:26 - b = 0.8383838383838385, f1 = 0.703125\n"
     ]
    },
    {
     "data": {
      "application/vnd.jupyter.widget-view+json": {
       "model_id": "61395e375afc412cb74a988275cd40d1",
       "version_major": 2,
       "version_minor": 0
      },
      "text/plain": [
       "HBox(children=(IntProgress(value=0, max=366), HTML(value='')))"
      ]
     },
     "metadata": {},
     "output_type": "display_data"
    },
    {
     "name": "stderr",
     "output_type": "stream",
     "text": [
      "[2019-03-08 02:17:56,789][INFO] __main__:26 - b = 0.8484848484848485, f1 = 0.703125\n"
     ]
    },
    {
     "data": {
      "application/vnd.jupyter.widget-view+json": {
       "model_id": "1abefcd8ace640e59b9a283cc9eb2931",
       "version_major": 2,
       "version_minor": 0
      },
      "text/plain": [
       "HBox(children=(IntProgress(value=0, max=360), HTML(value='')))"
      ]
     },
     "metadata": {},
     "output_type": "display_data"
    },
    {
     "name": "stderr",
     "output_type": "stream",
     "text": [
      "[2019-03-08 02:17:56,925][INFO] __main__:26 - b = 0.8585858585858587, f1 = 0.703125\n"
     ]
    },
    {
     "data": {
      "application/vnd.jupyter.widget-view+json": {
       "model_id": "de5da76dca564cd2b2df8f5dceccc8a1",
       "version_major": 2,
       "version_minor": 0
      },
      "text/plain": [
       "HBox(children=(IntProgress(value=0, max=347), HTML(value='')))"
      ]
     },
     "metadata": {},
     "output_type": "display_data"
    },
    {
     "name": "stderr",
     "output_type": "stream",
     "text": [
      "[2019-03-08 02:17:57,062][INFO] __main__:26 - b = 0.8686868686868687, f1 = 0.703125\n"
     ]
    },
    {
     "data": {
      "application/vnd.jupyter.widget-view+json": {
       "model_id": "02932a625d304a99b9944d88af8fa94e",
       "version_major": 2,
       "version_minor": 0
      },
      "text/plain": [
       "HBox(children=(IntProgress(value=0, max=337), HTML(value='')))"
      ]
     },
     "metadata": {},
     "output_type": "display_data"
    },
    {
     "name": "stderr",
     "output_type": "stream",
     "text": [
      "[2019-03-08 02:17:57,199][INFO] __main__:26 - b = 0.8787878787878789, f1 = 0.6980392156862745\n"
     ]
    },
    {
     "data": {
      "application/vnd.jupyter.widget-view+json": {
       "model_id": "2843a7469001432caacd3016516ee244",
       "version_major": 2,
       "version_minor": 0
      },
      "text/plain": [
       "HBox(children=(IntProgress(value=0, max=330), HTML(value='')))"
      ]
     },
     "metadata": {},
     "output_type": "display_data"
    },
    {
     "name": "stderr",
     "output_type": "stream",
     "text": [
      "[2019-03-08 02:17:57,336][INFO] __main__:26 - b = 0.888888888888889, f1 = 0.6980392156862745\n"
     ]
    },
    {
     "data": {
      "application/vnd.jupyter.widget-view+json": {
       "model_id": "58a99b06087145729c9c6245a8d8df68",
       "version_major": 2,
       "version_minor": 0
      },
      "text/plain": [
       "HBox(children=(IntProgress(value=0, max=321), HTML(value='')))"
      ]
     },
     "metadata": {},
     "output_type": "display_data"
    },
    {
     "name": "stderr",
     "output_type": "stream",
     "text": [
      "[2019-03-08 02:17:57,473][INFO] __main__:26 - b = 0.8989898989898991, f1 = 0.6980392156862745\n"
     ]
    },
    {
     "data": {
      "application/vnd.jupyter.widget-view+json": {
       "model_id": "8fe2ad5e902b4a8495461cec2ab5af0f",
       "version_major": 2,
       "version_minor": 0
      },
      "text/plain": [
       "HBox(children=(IntProgress(value=0, max=310), HTML(value='')))"
      ]
     },
     "metadata": {},
     "output_type": "display_data"
    },
    {
     "name": "stderr",
     "output_type": "stream",
     "text": [
      "[2019-03-08 02:17:57,610][INFO] __main__:26 - b = 0.9090909090909092, f1 = 0.7035573122529645\n"
     ]
    },
    {
     "data": {
      "application/vnd.jupyter.widget-view+json": {
       "model_id": "5d7be77b2ca34cbc89fa2a043a30ab45",
       "version_major": 2,
       "version_minor": 0
      },
      "text/plain": [
       "HBox(children=(IntProgress(value=0, max=284), HTML(value='')))"
      ]
     },
     "metadata": {},
     "output_type": "display_data"
    },
    {
     "name": "stderr",
     "output_type": "stream",
     "text": [
      "[2019-03-08 02:17:57,746][INFO] __main__:26 - b = 0.9191919191919192, f1 = 0.7235772357723577\n"
     ]
    },
    {
     "data": {
      "application/vnd.jupyter.widget-view+json": {
       "model_id": "d86190539fe846fc87f221bf95057f56",
       "version_major": 2,
       "version_minor": 0
      },
      "text/plain": [
       "HBox(children=(IntProgress(value=0, max=277), HTML(value='')))"
      ]
     },
     "metadata": {},
     "output_type": "display_data"
    },
    {
     "name": "stderr",
     "output_type": "stream",
     "text": [
      "[2019-03-08 02:17:57,883][INFO] __main__:26 - b = 0.9292929292929294, f1 = 0.7235772357723577\n"
     ]
    },
    {
     "data": {
      "application/vnd.jupyter.widget-view+json": {
       "model_id": "7bf111917b6b4ffcbe6a426f8fb4561a",
       "version_major": 2,
       "version_minor": 0
      },
      "text/plain": [
       "HBox(children=(IntProgress(value=0, max=276), HTML(value='')))"
      ]
     },
     "metadata": {},
     "output_type": "display_data"
    },
    {
     "name": "stderr",
     "output_type": "stream",
     "text": [
      "[2019-03-08 02:17:58,018][INFO] __main__:26 - b = 0.9393939393939394, f1 = 0.7235772357723577\n"
     ]
    },
    {
     "data": {
      "application/vnd.jupyter.widget-view+json": {
       "model_id": "59591e44a6b2439bbe265b5777d8c580",
       "version_major": 2,
       "version_minor": 0
      },
      "text/plain": [
       "HBox(children=(IntProgress(value=0, max=276), HTML(value='')))"
      ]
     },
     "metadata": {},
     "output_type": "display_data"
    },
    {
     "name": "stderr",
     "output_type": "stream",
     "text": [
      "[2019-03-08 02:17:58,154][INFO] __main__:26 - b = 0.9494949494949496, f1 = 0.7235772357723577\n"
     ]
    },
    {
     "data": {
      "application/vnd.jupyter.widget-view+json": {
       "model_id": "9c5163facd6c4e74a9cfac2891af5536",
       "version_major": 2,
       "version_minor": 0
      },
      "text/plain": [
       "HBox(children=(IntProgress(value=0, max=276), HTML(value='')))"
      ]
     },
     "metadata": {},
     "output_type": "display_data"
    },
    {
     "name": "stderr",
     "output_type": "stream",
     "text": [
      "[2019-03-08 02:17:58,291][INFO] __main__:26 - b = 0.9595959595959597, f1 = 0.7235772357723577\n"
     ]
    },
    {
     "data": {
      "application/vnd.jupyter.widget-view+json": {
       "model_id": "3cdec90ffcb6416a8b7c34085f3272e5",
       "version_major": 2,
       "version_minor": 0
      },
      "text/plain": [
       "HBox(children=(IntProgress(value=0, max=269), HTML(value='')))"
      ]
     },
     "metadata": {},
     "output_type": "display_data"
    },
    {
     "name": "stderr",
     "output_type": "stream",
     "text": [
      "[2019-03-08 02:17:58,428][INFO] __main__:26 - b = 0.9696969696969697, f1 = 0.7235772357723577\n"
     ]
    },
    {
     "data": {
      "application/vnd.jupyter.widget-view+json": {
       "model_id": "0ffd1180d1a24764bb4a76a64ceabe55",
       "version_major": 2,
       "version_minor": 0
      },
      "text/plain": [
       "HBox(children=(IntProgress(value=0, max=252), HTML(value='')))"
      ]
     },
     "metadata": {},
     "output_type": "display_data"
    },
    {
     "name": "stderr",
     "output_type": "stream",
     "text": [
      "[2019-03-08 02:17:58,582][INFO] __main__:26 - b = 0.9797979797979799, f1 = 0.7235772357723577\n"
     ]
    },
    {
     "data": {
      "application/vnd.jupyter.widget-view+json": {
       "model_id": "8c9caee0d9124dcbb82b073652421f14",
       "version_major": 2,
       "version_minor": 0
      },
      "text/plain": [
       "HBox(children=(IntProgress(value=0, max=236), HTML(value='')))"
      ]
     },
     "metadata": {},
     "output_type": "display_data"
    },
    {
     "name": "stderr",
     "output_type": "stream",
     "text": [
      "[2019-03-08 02:17:58,716][INFO] __main__:26 - b = 0.98989898989899, f1 = 0.71900826446281\n",
      "[2019-03-08 02:17:58,720][INFO] __main__:34 - ===================================================\n",
      "[2019-03-08 02:17:58,721][INFO] __main__:35 - Scoring on Entity-Level Gold Data with b=0.9191919191919192\n",
      "[2019-03-08 02:17:58,721][INFO] __main__:36 - ===================================================\n",
      "[2019-03-08 02:17:58,722][INFO] __main__:37 - Corpus Precision 0.957\n",
      "[2019-03-08 02:17:58,723][INFO] __main__:38 - Corpus Recall    0.582\n",
      "[2019-03-08 02:17:58,723][INFO] __main__:39 - Corpus F1        0.724\n",
      "[2019-03-08 02:17:58,724][INFO] __main__:40 - ---------------------------------------------------\n",
      "[2019-03-08 02:17:58,725][INFO] __main__:42 - TP: 89 | FP: 4 | FN: 64\n",
      "[2019-03-08 02:17:58,725][INFO] __main__:46 - ===================================================\n",
      "\n"
     ]
    }
   ],
   "source": [
    "marginals = generative_model(L_train[0])\n",
    "disc_model1 = discriminative_model(train_cands[0], F_train[0], marginals, n_epochs=100)\n",
    "\n",
    "relation = 'stg_temp_min'\n",
    "best_result, best_b = scoring(\n",
    "    relation, disc_model1, test_cands[0], test_docs, F_test[0], parts_by_doc, num=100\n",
    ")"
   ]
  },
  {
   "cell_type": "code",
   "execution_count": 32,
   "metadata": {},
   "outputs": [
    {
     "name": "stderr",
     "output_type": "stream",
     "text": [
      "[2019-03-08 02:17:58,737][INFO] __main__:4 - Training generative model...\n"
     ]
    },
    {
     "name": "stdout",
     "output_type": "stream",
     "text": [
      "Computing O...\n",
      "Estimating \\mu...\n",
      "[E:0]\tTrain Loss: 0.833\n",
      "[E:100]\tTrain Loss: 0.043\n",
      "[E:200]\tTrain Loss: 0.042\n",
      "[E:300]\tTrain Loss: 0.042\n",
      "[E:400]\tTrain Loss: 0.042\n"
     ]
    },
    {
     "name": "stderr",
     "output_type": "stream",
     "text": [
      "[2019-03-08 02:18:01,416][INFO] __main__:6 - Done.\n"
     ]
    },
    {
     "name": "stdout",
     "output_type": "stream",
     "text": [
      "[E:499]\tTrain Loss: 0.042\n",
      "Finished Training\n"
     ]
    },
    {
     "name": "stderr",
     "output_type": "stream",
     "text": [
      "[2019-03-08 02:18:01,689][INFO] __main__:4 - Training discriminative model...\n",
      "[2019-03-08 02:18:01,696][INFO] fonduer.learning.classifier:142 - Loading default parameters for Sparse Logistic Regression\n",
      "[2019-03-08 02:18:04,227][INFO] fonduer.learning.classifier:193 - Using GPU...\n",
      "[2019-03-08 02:18:04,229][INFO] fonduer.learning.classifier:195 - Settings: {'n_epochs': 100, 'lr': 0.001, 'batch_size': 256, 'shuffle': True, 'seed': 1234, 'host_device': 'GPU', 'bias': False, 'input_dim': 55128}\n",
      "[2019-03-08 02:18:04,240][INFO] fonduer.learning.classifier:213 - [SparseLogisticRegression] Training model\n",
      "[2019-03-08 02:18:04,241][INFO] fonduer.learning.classifier:215 - [SparseLogisticRegression] n_train=110738 #epochs=100 batch size=256\n",
      "[2019-03-08 02:18:18,279][INFO] fonduer.learning.classifier:262 - [SparseLogisticRegression] Epoch 1 (14.04s)\tAverage loss=0.483407\n",
      "[2019-03-08 02:19:12,453][INFO] fonduer.learning.classifier:262 - [SparseLogisticRegression] Epoch 5 (68.21s)\tAverage loss=0.476172\n",
      "[2019-03-08 02:20:19,951][INFO] fonduer.learning.classifier:262 - [SparseLogisticRegression] Epoch 10 (135.71s)\tAverage loss=0.475894\n",
      "[2019-03-08 02:21:27,500][INFO] fonduer.learning.classifier:262 - [SparseLogisticRegression] Epoch 15 (203.26s)\tAverage loss=0.476547\n",
      "[2019-03-08 02:22:35,327][INFO] fonduer.learning.classifier:262 - [SparseLogisticRegression] Epoch 20 (271.09s)\tAverage loss=0.476017\n",
      "[2019-03-08 02:23:43,059][INFO] fonduer.learning.classifier:262 - [SparseLogisticRegression] Epoch 25 (338.82s)\tAverage loss=0.475819\n",
      "[2019-03-08 02:24:50,644][INFO] fonduer.learning.classifier:262 - [SparseLogisticRegression] Epoch 30 (406.40s)\tAverage loss=0.475822\n",
      "[2019-03-08 02:25:58,326][INFO] fonduer.learning.classifier:262 - [SparseLogisticRegression] Epoch 35 (474.09s)\tAverage loss=0.475976\n",
      "[2019-03-08 02:27:05,884][INFO] fonduer.learning.classifier:262 - [SparseLogisticRegression] Epoch 40 (541.64s)\tAverage loss=0.475545\n",
      "[2019-03-08 02:28:13,720][INFO] fonduer.learning.classifier:262 - [SparseLogisticRegression] Epoch 45 (609.48s)\tAverage loss=0.475957\n",
      "[2019-03-08 02:29:21,321][INFO] fonduer.learning.classifier:262 - [SparseLogisticRegression] Epoch 50 (677.08s)\tAverage loss=0.475651\n",
      "[2019-03-08 02:30:28,978][INFO] fonduer.learning.classifier:262 - [SparseLogisticRegression] Epoch 55 (744.74s)\tAverage loss=0.476057\n",
      "[2019-03-08 02:31:36,294][INFO] fonduer.learning.classifier:262 - [SparseLogisticRegression] Epoch 60 (812.05s)\tAverage loss=0.475703\n",
      "[2019-03-08 02:32:43,754][INFO] fonduer.learning.classifier:262 - [SparseLogisticRegression] Epoch 65 (879.51s)\tAverage loss=0.475888\n",
      "[2019-03-08 02:33:51,178][INFO] fonduer.learning.classifier:262 - [SparseLogisticRegression] Epoch 70 (946.94s)\tAverage loss=0.475956\n",
      "[2019-03-08 02:34:58,789][INFO] fonduer.learning.classifier:262 - [SparseLogisticRegression] Epoch 75 (1014.55s)\tAverage loss=0.475754\n",
      "[2019-03-08 02:36:06,619][INFO] fonduer.learning.classifier:262 - [SparseLogisticRegression] Epoch 80 (1082.38s)\tAverage loss=0.475753\n",
      "[2019-03-08 02:37:14,456][INFO] fonduer.learning.classifier:262 - [SparseLogisticRegression] Epoch 85 (1150.21s)\tAverage loss=0.475936\n",
      "[2019-03-08 02:38:22,734][INFO] fonduer.learning.classifier:262 - [SparseLogisticRegression] Epoch 90 (1218.49s)\tAverage loss=0.475564\n",
      "[2019-03-08 02:39:30,427][INFO] fonduer.learning.classifier:262 - [SparseLogisticRegression] Epoch 95 (1286.19s)\tAverage loss=0.476066\n",
      "[2019-03-08 02:40:38,066][INFO] fonduer.learning.classifier:262 - [SparseLogisticRegression] Epoch 100 (1353.82s)\tAverage loss=0.475949\n",
      "[2019-03-08 02:40:38,069][INFO] fonduer.learning.classifier:278 - [SparseLogisticRegression] Training done (1353.83s)\n",
      "[2019-03-08 02:40:38,092][INFO] __main__:12 - Done.\n",
      "[2019-03-08 02:40:38,094][INFO] __main__:2 - Calculating the best F1 score and threshold (b)...\n"
     ]
    },
    {
     "data": {
      "application/vnd.jupyter.widget-view+json": {
       "model_id": "266d42aeb058469bb79293b1e098aead",
       "version_major": 2,
       "version_minor": 0
      },
      "text/plain": [
       "HBox(children=(IntProgress(value=0, max=1848), HTML(value='')))"
      ]
     },
     "metadata": {},
     "output_type": "display_data"
    },
    {
     "name": "stderr",
     "output_type": "stream",
     "text": [
      "[2019-03-08 02:40:42,116][INFO] __main__:26 - b = 0.0, f1 = 0.4832214765100672\n"
     ]
    },
    {
     "data": {
      "application/vnd.jupyter.widget-view+json": {
       "model_id": "61a352e35457439a943d0eda88cb3c4d",
       "version_major": 2,
       "version_minor": 0
      },
      "text/plain": [
       "HBox(children=(IntProgress(value=0, max=1792), HTML(value='')))"
      ]
     },
     "metadata": {},
     "output_type": "display_data"
    },
    {
     "name": "stderr",
     "output_type": "stream",
     "text": [
      "[2019-03-08 02:40:42,294][INFO] __main__:26 - b = 0.010101010101010102, f1 = 0.48758465011286684\n"
     ]
    },
    {
     "data": {
      "application/vnd.jupyter.widget-view+json": {
       "model_id": "d32e2d49d8034ca68fa399478effe0bb",
       "version_major": 2,
       "version_minor": 0
      },
      "text/plain": [
       "HBox(children=(IntProgress(value=0, max=1792), HTML(value='')))"
      ]
     },
     "metadata": {},
     "output_type": "display_data"
    },
    {
     "name": "stderr",
     "output_type": "stream",
     "text": [
      "[2019-03-08 02:40:42,469][INFO] __main__:26 - b = 0.020202020202020204, f1 = 0.48758465011286684\n"
     ]
    },
    {
     "data": {
      "application/vnd.jupyter.widget-view+json": {
       "model_id": "edf86ee42d15489eb117dac026118a64",
       "version_major": 2,
       "version_minor": 0
      },
      "text/plain": [
       "HBox(children=(IntProgress(value=0, max=1780), HTML(value='')))"
      ]
     },
     "metadata": {},
     "output_type": "display_data"
    },
    {
     "name": "stderr",
     "output_type": "stream",
     "text": [
      "[2019-03-08 02:40:42,644][INFO] __main__:26 - b = 0.030303030303030304, f1 = 0.48758465011286684\n"
     ]
    },
    {
     "data": {
      "application/vnd.jupyter.widget-view+json": {
       "model_id": "6924c54b1d974f1fafb6ae7a839b15cb",
       "version_major": 2,
       "version_minor": 0
      },
      "text/plain": [
       "HBox(children=(IntProgress(value=0, max=1772), HTML(value='')))"
      ]
     },
     "metadata": {},
     "output_type": "display_data"
    },
    {
     "name": "stderr",
     "output_type": "stream",
     "text": [
      "[2019-03-08 02:40:42,817][INFO] __main__:26 - b = 0.04040404040404041, f1 = 0.48758465011286684\n"
     ]
    },
    {
     "data": {
      "application/vnd.jupyter.widget-view+json": {
       "model_id": "1dbf9d4f06254ea68ba8695b881c8685",
       "version_major": 2,
       "version_minor": 0
      },
      "text/plain": [
       "HBox(children=(IntProgress(value=0, max=1747), HTML(value='')))"
      ]
     },
     "metadata": {},
     "output_type": "display_data"
    },
    {
     "name": "stderr",
     "output_type": "stream",
     "text": [
      "[2019-03-08 02:40:42,989][INFO] __main__:26 - b = 0.05050505050505051, f1 = 0.48758465011286684\n"
     ]
    },
    {
     "data": {
      "application/vnd.jupyter.widget-view+json": {
       "model_id": "47948a5a868f47ddac83c2b9422c5e00",
       "version_major": 2,
       "version_minor": 0
      },
      "text/plain": [
       "HBox(children=(IntProgress(value=0, max=1717), HTML(value='')))"
      ]
     },
     "metadata": {},
     "output_type": "display_data"
    },
    {
     "name": "stderr",
     "output_type": "stream",
     "text": [
      "[2019-03-08 02:40:43,161][INFO] __main__:26 - b = 0.06060606060606061, f1 = 0.48758465011286684\n"
     ]
    },
    {
     "data": {
      "application/vnd.jupyter.widget-view+json": {
       "model_id": "ef5a97a720674649bea1c94c8a8270ef",
       "version_major": 2,
       "version_minor": 0
      },
      "text/plain": [
       "HBox(children=(IntProgress(value=0, max=1700), HTML(value='')))"
      ]
     },
     "metadata": {},
     "output_type": "display_data"
    },
    {
     "name": "stderr",
     "output_type": "stream",
     "text": [
      "[2019-03-08 02:40:43,335][INFO] __main__:26 - b = 0.07070707070707072, f1 = 0.4897959183673469\n"
     ]
    },
    {
     "data": {
      "application/vnd.jupyter.widget-view+json": {
       "model_id": "657eaa988d5547afb967d686ee648de9",
       "version_major": 2,
       "version_minor": 0
      },
      "text/plain": [
       "HBox(children=(IntProgress(value=0, max=1685), HTML(value='')))"
      ]
     },
     "metadata": {},
     "output_type": "display_data"
    },
    {
     "name": "stderr",
     "output_type": "stream",
     "text": [
      "[2019-03-08 02:40:43,508][INFO] __main__:26 - b = 0.08080808080808081, f1 = 0.4920273348519362\n"
     ]
    },
    {
     "data": {
      "application/vnd.jupyter.widget-view+json": {
       "model_id": "a26bef23a3cc4516b7221b5ae9eb86dc",
       "version_major": 2,
       "version_minor": 0
      },
      "text/plain": [
       "HBox(children=(IntProgress(value=0, max=1674), HTML(value='')))"
      ]
     },
     "metadata": {},
     "output_type": "display_data"
    },
    {
     "name": "stderr",
     "output_type": "stream",
     "text": [
      "[2019-03-08 02:40:43,680][INFO] __main__:26 - b = 0.09090909090909091, f1 = 0.494279176201373\n"
     ]
    },
    {
     "data": {
      "application/vnd.jupyter.widget-view+json": {
       "model_id": "5da81c797211411e9747139e018da032",
       "version_major": 2,
       "version_minor": 0
      },
      "text/plain": [
       "HBox(children=(IntProgress(value=0, max=1663), HTML(value='')))"
      ]
     },
     "metadata": {},
     "output_type": "display_data"
    },
    {
     "name": "stderr",
     "output_type": "stream",
     "text": [
      "[2019-03-08 02:40:43,852][INFO] __main__:26 - b = 0.10101010101010102, f1 = 0.4988452655889145\n"
     ]
    },
    {
     "data": {
      "application/vnd.jupyter.widget-view+json": {
       "model_id": "9338a9ba180b48148affa83acca9b1de",
       "version_major": 2,
       "version_minor": 0
      },
      "text/plain": [
       "HBox(children=(IntProgress(value=0, max=1648), HTML(value='')))"
      ]
     },
     "metadata": {},
     "output_type": "display_data"
    },
    {
     "name": "stderr",
     "output_type": "stream",
     "text": [
      "[2019-03-08 02:40:44,024][INFO] __main__:26 - b = 0.11111111111111112, f1 = 0.5034965034965035\n"
     ]
    },
    {
     "data": {
      "application/vnd.jupyter.widget-view+json": {
       "model_id": "40fb2f78ae394cfd99255a261735a530",
       "version_major": 2,
       "version_minor": 0
      },
      "text/plain": [
       "HBox(children=(IntProgress(value=0, max=1638), HTML(value='')))"
      ]
     },
     "metadata": {},
     "output_type": "display_data"
    },
    {
     "name": "stderr",
     "output_type": "stream",
     "text": [
      "[2019-03-08 02:40:44,195][INFO] __main__:26 - b = 0.12121212121212122, f1 = 0.5094339622641508\n"
     ]
    },
    {
     "data": {
      "application/vnd.jupyter.widget-view+json": {
       "model_id": "20be599757ff4eae9e5d6e7bdc898fe7",
       "version_major": 2,
       "version_minor": 0
      },
      "text/plain": [
       "HBox(children=(IntProgress(value=0, max=1628), HTML(value='')))"
      ]
     },
     "metadata": {},
     "output_type": "display_data"
    },
    {
     "name": "stderr",
     "output_type": "stream",
     "text": [
      "[2019-03-08 02:40:44,366][INFO] __main__:26 - b = 0.13131313131313133, f1 = 0.513064133016627\n"
     ]
    },
    {
     "data": {
      "application/vnd.jupyter.widget-view+json": {
       "model_id": "4f91b780b57742a1822fba943a65d59c",
       "version_major": 2,
       "version_minor": 0
      },
      "text/plain": [
       "HBox(children=(IntProgress(value=0, max=1624), HTML(value='')))"
      ]
     },
     "metadata": {},
     "output_type": "display_data"
    },
    {
     "name": "stderr",
     "output_type": "stream",
     "text": [
      "[2019-03-08 02:40:44,536][INFO] __main__:26 - b = 0.14141414141414144, f1 = 0.513064133016627\n"
     ]
    },
    {
     "data": {
      "application/vnd.jupyter.widget-view+json": {
       "model_id": "ef6808bb18924da4be0526ec48dafcfa",
       "version_major": 2,
       "version_minor": 0
      },
      "text/plain": [
       "HBox(children=(IntProgress(value=0, max=1614), HTML(value='')))"
      ]
     },
     "metadata": {},
     "output_type": "display_data"
    },
    {
     "name": "stderr",
     "output_type": "stream",
     "text": [
      "[2019-03-08 02:40:44,705][INFO] __main__:26 - b = 0.15151515151515152, f1 = 0.513064133016627\n"
     ]
    },
    {
     "data": {
      "application/vnd.jupyter.widget-view+json": {
       "model_id": "84363fedba4741dab9f2e2a85618af87",
       "version_major": 2,
       "version_minor": 0
      },
      "text/plain": [
       "HBox(children=(IntProgress(value=0, max=1601), HTML(value='')))"
      ]
     },
     "metadata": {},
     "output_type": "display_data"
    },
    {
     "name": "stderr",
     "output_type": "stream",
     "text": [
      "[2019-03-08 02:40:44,877][INFO] __main__:26 - b = 0.16161616161616163, f1 = 0.513064133016627\n"
     ]
    },
    {
     "data": {
      "application/vnd.jupyter.widget-view+json": {
       "model_id": "7b4960a53a6e466dac13785d769ab52a",
       "version_major": 2,
       "version_minor": 0
      },
      "text/plain": [
       "HBox(children=(IntProgress(value=0, max=1583), HTML(value='')))"
      ]
     },
     "metadata": {},
     "output_type": "display_data"
    },
    {
     "name": "stderr",
     "output_type": "stream",
     "text": [
      "[2019-03-08 02:40:45,047][INFO] __main__:26 - b = 0.17171717171717174, f1 = 0.513064133016627\n"
     ]
    },
    {
     "data": {
      "application/vnd.jupyter.widget-view+json": {
       "model_id": "f86c23d8a68a4ab181a85f60d01224da",
       "version_major": 2,
       "version_minor": 0
      },
      "text/plain": [
       "HBox(children=(IntProgress(value=0, max=1558), HTML(value='')))"
      ]
     },
     "metadata": {},
     "output_type": "display_data"
    },
    {
     "name": "stderr",
     "output_type": "stream",
     "text": [
      "[2019-03-08 02:40:45,217][INFO] __main__:26 - b = 0.18181818181818182, f1 = 0.513064133016627\n"
     ]
    },
    {
     "data": {
      "application/vnd.jupyter.widget-view+json": {
       "model_id": "bb3571ff75774f37907301eadaae8cb8",
       "version_major": 2,
       "version_minor": 0
      },
      "text/plain": [
       "HBox(children=(IntProgress(value=0, max=1513), HTML(value='')))"
      ]
     },
     "metadata": {},
     "output_type": "display_data"
    },
    {
     "name": "stderr",
     "output_type": "stream",
     "text": [
      "[2019-03-08 02:40:45,385][INFO] __main__:26 - b = 0.19191919191919193, f1 = 0.513064133016627\n"
     ]
    },
    {
     "data": {
      "application/vnd.jupyter.widget-view+json": {
       "model_id": "36bda87488c14861bcb873f15ecc0e26",
       "version_major": 2,
       "version_minor": 0
      },
      "text/plain": [
       "HBox(children=(IntProgress(value=0, max=1460), HTML(value='')))"
      ]
     },
     "metadata": {},
     "output_type": "display_data"
    },
    {
     "name": "stderr",
     "output_type": "stream",
     "text": [
      "[2019-03-08 02:40:45,552][INFO] __main__:26 - b = 0.20202020202020204, f1 = 0.5230024213075061\n"
     ]
    },
    {
     "data": {
      "application/vnd.jupyter.widget-view+json": {
       "model_id": "7cc4b6fc627d457dbe07eeda678b2292",
       "version_major": 2,
       "version_minor": 0
      },
      "text/plain": [
       "HBox(children=(IntProgress(value=0, max=1419), HTML(value='')))"
      ]
     },
     "metadata": {},
     "output_type": "display_data"
    },
    {
     "name": "stderr",
     "output_type": "stream",
     "text": [
      "[2019-03-08 02:40:45,717][INFO] __main__:26 - b = 0.21212121212121213, f1 = 0.5255474452554745\n"
     ]
    },
    {
     "data": {
      "application/vnd.jupyter.widget-view+json": {
       "model_id": "02a375b2e92b4fc5987b3db686aaf6b0",
       "version_major": 2,
       "version_minor": 0
      },
      "text/plain": [
       "HBox(children=(IntProgress(value=0, max=1371), HTML(value='')))"
      ]
     },
     "metadata": {},
     "output_type": "display_data"
    },
    {
     "name": "stderr",
     "output_type": "stream",
     "text": [
      "[2019-03-08 02:40:45,881][INFO] __main__:26 - b = 0.22222222222222224, f1 = 0.5281173594132029\n"
     ]
    },
    {
     "data": {
      "application/vnd.jupyter.widget-view+json": {
       "model_id": "3fcffa1b88884983bee33e3ab2dc4b69",
       "version_major": 2,
       "version_minor": 0
      },
      "text/plain": [
       "HBox(children=(IntProgress(value=0, max=1344), HTML(value='')))"
      ]
     },
     "metadata": {},
     "output_type": "display_data"
    },
    {
     "name": "stderr",
     "output_type": "stream",
     "text": [
      "[2019-03-08 02:40:46,044][INFO] __main__:26 - b = 0.23232323232323235, f1 = 0.5320197044334976\n"
     ]
    },
    {
     "data": {
      "application/vnd.jupyter.widget-view+json": {
       "model_id": "55e4543a856f48bfb550b389c1aeed02",
       "version_major": 2,
       "version_minor": 0
      },
      "text/plain": [
       "HBox(children=(IntProgress(value=0, max=1301), HTML(value='')))"
      ]
     },
     "metadata": {},
     "output_type": "display_data"
    },
    {
     "name": "stderr",
     "output_type": "stream",
     "text": [
      "[2019-03-08 02:40:46,207][INFO] __main__:26 - b = 0.24242424242424243, f1 = 0.5320197044334976\n"
     ]
    },
    {
     "data": {
      "application/vnd.jupyter.widget-view+json": {
       "model_id": "7529c08cec68458fbe8bc81bef4660ce",
       "version_major": 2,
       "version_minor": 0
      },
      "text/plain": [
       "HBox(children=(IntProgress(value=0, max=1239), HTML(value='')))"
      ]
     },
     "metadata": {},
     "output_type": "display_data"
    },
    {
     "name": "stderr",
     "output_type": "stream",
     "text": [
      "[2019-03-08 02:40:46,368][INFO] __main__:26 - b = 0.25252525252525254, f1 = 0.5373134328358209\n"
     ]
    },
    {
     "data": {
      "application/vnd.jupyter.widget-view+json": {
       "model_id": "b2f12f3b080f452793d028a595c8fef8",
       "version_major": 2,
       "version_minor": 0
      },
      "text/plain": [
       "HBox(children=(IntProgress(value=0, max=1185), HTML(value='')))"
      ]
     },
     "metadata": {},
     "output_type": "display_data"
    },
    {
     "name": "stderr",
     "output_type": "stream",
     "text": [
      "[2019-03-08 02:40:46,528][INFO] __main__:26 - b = 0.26262626262626265, f1 = 0.5482233502538071\n"
     ]
    },
    {
     "data": {
      "application/vnd.jupyter.widget-view+json": {
       "model_id": "4cfc12b3bda441a5a69f17d19c0ef343",
       "version_major": 2,
       "version_minor": 0
      },
      "text/plain": [
       "HBox(children=(IntProgress(value=0, max=1134), HTML(value='')))"
      ]
     },
     "metadata": {},
     "output_type": "display_data"
    },
    {
     "name": "stderr",
     "output_type": "stream",
     "text": [
      "[2019-03-08 02:40:46,690][INFO] __main__:26 - b = 0.27272727272727276, f1 = 0.5669291338582677\n"
     ]
    },
    {
     "data": {
      "application/vnd.jupyter.widget-view+json": {
       "model_id": "58b552586d3042558dd1bf39941adc96",
       "version_major": 2,
       "version_minor": 0
      },
      "text/plain": [
       "HBox(children=(IntProgress(value=0, max=1085), HTML(value='')))"
      ]
     },
     "metadata": {},
     "output_type": "display_data"
    },
    {
     "name": "stderr",
     "output_type": "stream",
     "text": [
      "[2019-03-08 02:40:46,848][INFO] __main__:26 - b = 0.2828282828282829, f1 = 0.576\n"
     ]
    },
    {
     "data": {
      "application/vnd.jupyter.widget-view+json": {
       "model_id": "c655dc5689c04509882140d110d801dd",
       "version_major": 2,
       "version_minor": 0
      },
      "text/plain": [
       "HBox(children=(IntProgress(value=0, max=1042), HTML(value='')))"
      ]
     },
     "metadata": {},
     "output_type": "display_data"
    },
    {
     "name": "stderr",
     "output_type": "stream",
     "text": [
      "[2019-03-08 02:40:47,005][INFO] __main__:26 - b = 0.29292929292929293, f1 = 0.5901639344262295\n"
     ]
    },
    {
     "data": {
      "application/vnd.jupyter.widget-view+json": {
       "model_id": "e49f233a1dfd453db2b66f887e366b00",
       "version_major": 2,
       "version_minor": 0
      },
      "text/plain": [
       "HBox(children=(IntProgress(value=0, max=1004), HTML(value='')))"
      ]
     },
     "metadata": {},
     "output_type": "display_data"
    },
    {
     "name": "stderr",
     "output_type": "stream",
     "text": [
      "[2019-03-08 02:40:47,162][INFO] __main__:26 - b = 0.30303030303030304, f1 = 0.5950413223140496\n"
     ]
    },
    {
     "data": {
      "application/vnd.jupyter.widget-view+json": {
       "model_id": "e33c17319d1b4cb5aeddedb94fe8341c",
       "version_major": 2,
       "version_minor": 0
      },
      "text/plain": [
       "HBox(children=(IntProgress(value=0, max=974), HTML(value='')))"
      ]
     },
     "metadata": {},
     "output_type": "display_data"
    },
    {
     "name": "stderr",
     "output_type": "stream",
     "text": [
      "[2019-03-08 02:40:47,317][INFO] __main__:26 - b = 0.31313131313131315, f1 = 0.6016713091922006\n"
     ]
    },
    {
     "data": {
      "application/vnd.jupyter.widget-view+json": {
       "model_id": "40ea7771ccb24323aae1b7ae6f8cbd92",
       "version_major": 2,
       "version_minor": 0
      },
      "text/plain": [
       "HBox(children=(IntProgress(value=0, max=935), HTML(value='')))"
      ]
     },
     "metadata": {},
     "output_type": "display_data"
    },
    {
     "name": "stderr",
     "output_type": "stream",
     "text": [
      "[2019-03-08 02:40:47,471][INFO] __main__:26 - b = 0.32323232323232326, f1 = 0.6153846153846154\n"
     ]
    },
    {
     "data": {
      "application/vnd.jupyter.widget-view+json": {
       "model_id": "b54e7c9a89b7438e9fd7710aac79a9d2",
       "version_major": 2,
       "version_minor": 0
      },
      "text/plain": [
       "HBox(children=(IntProgress(value=0, max=891), HTML(value='')))"
      ]
     },
     "metadata": {},
     "output_type": "display_data"
    },
    {
     "name": "stderr",
     "output_type": "stream",
     "text": [
      "[2019-03-08 02:40:47,625][INFO] __main__:26 - b = 0.33333333333333337, f1 = 0.6334310850439883\n"
     ]
    },
    {
     "data": {
      "application/vnd.jupyter.widget-view+json": {
       "model_id": "5ad0df6d04ff4c529365faf54a37f7e7",
       "version_major": 2,
       "version_minor": 0
      },
      "text/plain": [
       "HBox(children=(IntProgress(value=0, max=856), HTML(value='')))"
      ]
     },
     "metadata": {},
     "output_type": "display_data"
    },
    {
     "name": "stderr",
     "output_type": "stream",
     "text": [
      "[2019-03-08 02:40:47,778][INFO] __main__:26 - b = 0.3434343434343435, f1 = 0.6506024096385543\n"
     ]
    },
    {
     "data": {
      "application/vnd.jupyter.widget-view+json": {
       "model_id": "dd70ff4046f74099a19b6e74f65d6205",
       "version_major": 2,
       "version_minor": 0
      },
      "text/plain": [
       "HBox(children=(IntProgress(value=0, max=822), HTML(value='')))"
      ]
     },
     "metadata": {},
     "output_type": "display_data"
    },
    {
     "name": "stderr",
     "output_type": "stream",
     "text": [
      "[2019-03-08 02:40:47,929][INFO] __main__:26 - b = 0.3535353535353536, f1 = 0.6417445482866043\n"
     ]
    },
    {
     "data": {
      "application/vnd.jupyter.widget-view+json": {
       "model_id": "521a6aa9fa8a41c5be570c11ded53e4a",
       "version_major": 2,
       "version_minor": 0
      },
      "text/plain": [
       "HBox(children=(IntProgress(value=0, max=794), HTML(value='')))"
      ]
     },
     "metadata": {},
     "output_type": "display_data"
    },
    {
     "name": "stderr",
     "output_type": "stream",
     "text": [
      "[2019-03-08 02:40:48,081][INFO] __main__:26 - b = 0.36363636363636365, f1 = 0.6417445482866043\n"
     ]
    },
    {
     "data": {
      "application/vnd.jupyter.widget-view+json": {
       "model_id": "513daf4ff50b493db9db3739b2d4524a",
       "version_major": 2,
       "version_minor": 0
      },
      "text/plain": [
       "HBox(children=(IntProgress(value=0, max=772), HTML(value='')))"
      ]
     },
     "metadata": {},
     "output_type": "display_data"
    },
    {
     "name": "stderr",
     "output_type": "stream",
     "text": [
      "[2019-03-08 02:40:48,233][INFO] __main__:26 - b = 0.37373737373737376, f1 = 0.64375\n"
     ]
    },
    {
     "data": {
      "application/vnd.jupyter.widget-view+json": {
       "model_id": "703433fd053446079869e3b04c14a129",
       "version_major": 2,
       "version_minor": 0
      },
      "text/plain": [
       "HBox(children=(IntProgress(value=0, max=752), HTML(value='')))"
      ]
     },
     "metadata": {},
     "output_type": "display_data"
    },
    {
     "name": "stderr",
     "output_type": "stream",
     "text": [
      "[2019-03-08 02:40:48,384][INFO] __main__:26 - b = 0.38383838383838387, f1 = 0.64375\n"
     ]
    },
    {
     "data": {
      "application/vnd.jupyter.widget-view+json": {
       "model_id": "08c7f6ca8e084adbbfd492028dee514b",
       "version_major": 2,
       "version_minor": 0
      },
      "text/plain": [
       "HBox(children=(IntProgress(value=0, max=736), HTML(value='')))"
      ]
     },
     "metadata": {},
     "output_type": "display_data"
    },
    {
     "name": "stderr",
     "output_type": "stream",
     "text": [
      "[2019-03-08 02:40:48,534][INFO] __main__:26 - b = 0.393939393939394, f1 = 0.6477987421383647\n"
     ]
    },
    {
     "data": {
      "application/vnd.jupyter.widget-view+json": {
       "model_id": "0d100d4d7d2641d485d0cc171f0439b6",
       "version_major": 2,
       "version_minor": 0
      },
      "text/plain": [
       "HBox(children=(IntProgress(value=0, max=714), HTML(value='')))"
      ]
     },
     "metadata": {},
     "output_type": "display_data"
    },
    {
     "name": "stderr",
     "output_type": "stream",
     "text": [
      "[2019-03-08 02:40:48,684][INFO] __main__:26 - b = 0.4040404040404041, f1 = 0.6688311688311688\n"
     ]
    },
    {
     "data": {
      "application/vnd.jupyter.widget-view+json": {
       "model_id": "99c5ca5bcc584dd2b9ec779e615d5d18",
       "version_major": 2,
       "version_minor": 0
      },
      "text/plain": [
       "HBox(children=(IntProgress(value=0, max=680), HTML(value='')))"
      ]
     },
     "metadata": {},
     "output_type": "display_data"
    },
    {
     "name": "stderr",
     "output_type": "stream",
     "text": [
      "[2019-03-08 02:40:48,834][INFO] __main__:26 - b = 0.4141414141414142, f1 = 0.6754098360655737\n"
     ]
    },
    {
     "data": {
      "application/vnd.jupyter.widget-view+json": {
       "model_id": "4408f389c95c49c6b9db14f7129bfd59",
       "version_major": 2,
       "version_minor": 0
      },
      "text/plain": [
       "HBox(children=(IntProgress(value=0, max=656), HTML(value='')))"
      ]
     },
     "metadata": {},
     "output_type": "display_data"
    },
    {
     "name": "stderr",
     "output_type": "stream",
     "text": [
      "[2019-03-08 02:40:48,982][INFO] __main__:26 - b = 0.42424242424242425, f1 = 0.6898954703832753\n"
     ]
    },
    {
     "data": {
      "application/vnd.jupyter.widget-view+json": {
       "model_id": "02a67b24f6834e37a7b10ec55b1a7e66",
       "version_major": 2,
       "version_minor": 0
      },
      "text/plain": [
       "HBox(children=(IntProgress(value=0, max=636), HTML(value='')))"
      ]
     },
     "metadata": {},
     "output_type": "display_data"
    },
    {
     "name": "stderr",
     "output_type": "stream",
     "text": [
      "[2019-03-08 02:40:49,133][INFO] __main__:26 - b = 0.43434343434343436, f1 = 0.7037037037037037\n"
     ]
    },
    {
     "data": {
      "application/vnd.jupyter.widget-view+json": {
       "model_id": "701d0d659ff14efeb3d8e6dd0eca20ed",
       "version_major": 2,
       "version_minor": 0
      },
      "text/plain": [
       "HBox(children=(IntProgress(value=0, max=617), HTML(value='')))"
      ]
     },
     "metadata": {},
     "output_type": "display_data"
    },
    {
     "name": "stderr",
     "output_type": "stream",
     "text": [
      "[2019-03-08 02:40:49,281][INFO] __main__:26 - b = 0.4444444444444445, f1 = 0.7169811320754716\n"
     ]
    },
    {
     "data": {
      "application/vnd.jupyter.widget-view+json": {
       "model_id": "8671d22c5b46478bab9063f063b758bb",
       "version_major": 2,
       "version_minor": 0
      },
      "text/plain": [
       "HBox(children=(IntProgress(value=0, max=611), HTML(value='')))"
      ]
     },
     "metadata": {},
     "output_type": "display_data"
    },
    {
     "name": "stderr",
     "output_type": "stream",
     "text": [
      "[2019-03-08 02:40:49,428][INFO] __main__:26 - b = 0.4545454545454546, f1 = 0.7196969696969697\n"
     ]
    },
    {
     "data": {
      "application/vnd.jupyter.widget-view+json": {
       "model_id": "5e0e228450ad48c29c958d180d0ac1a3",
       "version_major": 2,
       "version_minor": 0
      },
      "text/plain": [
       "HBox(children=(IntProgress(value=0, max=603), HTML(value='')))"
      ]
     },
     "metadata": {},
     "output_type": "display_data"
    },
    {
     "name": "stderr",
     "output_type": "stream",
     "text": [
      "[2019-03-08 02:40:49,577][INFO] __main__:26 - b = 0.4646464646464647, f1 = 0.7251908396946565\n"
     ]
    },
    {
     "data": {
      "application/vnd.jupyter.widget-view+json": {
       "model_id": "85c677e4b93446f3aff1105073ee3a99",
       "version_major": 2,
       "version_minor": 0
      },
      "text/plain": [
       "HBox(children=(IntProgress(value=0, max=596), HTML(value='')))"
      ]
     },
     "metadata": {},
     "output_type": "display_data"
    },
    {
     "name": "stderr",
     "output_type": "stream",
     "text": [
      "[2019-03-08 02:40:49,724][INFO] __main__:26 - b = 0.4747474747474748, f1 = 0.7251908396946565\n"
     ]
    },
    {
     "data": {
      "application/vnd.jupyter.widget-view+json": {
       "model_id": "de167e08437049799819361489359696",
       "version_major": 2,
       "version_minor": 0
      },
      "text/plain": [
       "HBox(children=(IntProgress(value=0, max=589), HTML(value='')))"
      ]
     },
     "metadata": {},
     "output_type": "display_data"
    },
    {
     "name": "stderr",
     "output_type": "stream",
     "text": [
      "[2019-03-08 02:40:49,872][INFO] __main__:26 - b = 0.48484848484848486, f1 = 0.7279693486590038\n"
     ]
    },
    {
     "data": {
      "application/vnd.jupyter.widget-view+json": {
       "model_id": "0ada50f32d3a42a385482552c96ae32a",
       "version_major": 2,
       "version_minor": 0
      },
      "text/plain": [
       "HBox(children=(IntProgress(value=0, max=581), HTML(value='')))"
      ]
     },
     "metadata": {},
     "output_type": "display_data"
    },
    {
     "name": "stderr",
     "output_type": "stream",
     "text": [
      "[2019-03-08 02:40:50,019][INFO] __main__:26 - b = 0.494949494949495, f1 = 0.7335907335907336\n"
     ]
    },
    {
     "data": {
      "application/vnd.jupyter.widget-view+json": {
       "model_id": "a5062e2a5fea47be85033d5d2eb7140e",
       "version_major": 2,
       "version_minor": 0
      },
      "text/plain": [
       "HBox(children=(IntProgress(value=0, max=578), HTML(value='')))"
      ]
     },
     "metadata": {},
     "output_type": "display_data"
    },
    {
     "name": "stderr",
     "output_type": "stream",
     "text": [
      "[2019-03-08 02:40:50,166][INFO] __main__:26 - b = 0.5050505050505051, f1 = 0.7364341085271319\n"
     ]
    },
    {
     "data": {
      "application/vnd.jupyter.widget-view+json": {
       "model_id": "aa211814b96e46ed828cd11c92a5b259",
       "version_major": 2,
       "version_minor": 0
      },
      "text/plain": [
       "HBox(children=(IntProgress(value=0, max=576), HTML(value='')))"
      ]
     },
     "metadata": {},
     "output_type": "display_data"
    },
    {
     "name": "stderr",
     "output_type": "stream",
     "text": [
      "[2019-03-08 02:40:50,314][INFO] __main__:26 - b = 0.5151515151515152, f1 = 0.7364341085271319\n"
     ]
    },
    {
     "data": {
      "application/vnd.jupyter.widget-view+json": {
       "model_id": "2c94895e6b144ccf90a8d0f5bfcbed3e",
       "version_major": 2,
       "version_minor": 0
      },
      "text/plain": [
       "HBox(children=(IntProgress(value=0, max=565), HTML(value='')))"
      ]
     },
     "metadata": {},
     "output_type": "display_data"
    },
    {
     "name": "stderr",
     "output_type": "stream",
     "text": [
      "[2019-03-08 02:40:50,460][INFO] __main__:26 - b = 0.5252525252525253, f1 = 0.7364341085271319\n"
     ]
    },
    {
     "data": {
      "application/vnd.jupyter.widget-view+json": {
       "model_id": "33749d382b13417697b1b85bd3f739b1",
       "version_major": 2,
       "version_minor": 0
      },
      "text/plain": [
       "HBox(children=(IntProgress(value=0, max=559), HTML(value='')))"
      ]
     },
     "metadata": {},
     "output_type": "display_data"
    },
    {
     "name": "stderr",
     "output_type": "stream",
     "text": [
      "[2019-03-08 02:40:50,605][INFO] __main__:26 - b = 0.5353535353535354, f1 = 0.7364341085271319\n"
     ]
    },
    {
     "data": {
      "application/vnd.jupyter.widget-view+json": {
       "model_id": "92a52d4b73144c52ab6383981c90d34a",
       "version_major": 2,
       "version_minor": 0
      },
      "text/plain": [
       "HBox(children=(IntProgress(value=0, max=548), HTML(value='')))"
      ]
     },
     "metadata": {},
     "output_type": "display_data"
    },
    {
     "name": "stderr",
     "output_type": "stream",
     "text": [
      "[2019-03-08 02:40:50,751][INFO] __main__:26 - b = 0.5454545454545455, f1 = 0.7392996108949415\n"
     ]
    },
    {
     "data": {
      "application/vnd.jupyter.widget-view+json": {
       "model_id": "013f9d3d79f546a395a9328980e48c00",
       "version_major": 2,
       "version_minor": 0
      },
      "text/plain": [
       "HBox(children=(IntProgress(value=0, max=547), HTML(value='')))"
      ]
     },
     "metadata": {},
     "output_type": "display_data"
    },
    {
     "name": "stderr",
     "output_type": "stream",
     "text": [
      "[2019-03-08 02:40:50,897][INFO] __main__:26 - b = 0.5555555555555556, f1 = 0.7392996108949415\n"
     ]
    },
    {
     "data": {
      "application/vnd.jupyter.widget-view+json": {
       "model_id": "3919ae2af3dc4a75ad6bbf50b4fc6d71",
       "version_major": 2,
       "version_minor": 0
      },
      "text/plain": [
       "HBox(children=(IntProgress(value=0, max=547), HTML(value='')))"
      ]
     },
     "metadata": {},
     "output_type": "display_data"
    },
    {
     "name": "stderr",
     "output_type": "stream",
     "text": [
      "[2019-03-08 02:40:51,042][INFO] __main__:26 - b = 0.5656565656565657, f1 = 0.7392996108949415\n"
     ]
    },
    {
     "data": {
      "application/vnd.jupyter.widget-view+json": {
       "model_id": "00b9829f335c401eb013da9a0b3c3c97",
       "version_major": 2,
       "version_minor": 0
      },
      "text/plain": [
       "HBox(children=(IntProgress(value=0, max=543), HTML(value='')))"
      ]
     },
     "metadata": {},
     "output_type": "display_data"
    },
    {
     "name": "stderr",
     "output_type": "stream",
     "text": [
      "[2019-03-08 02:40:51,188][INFO] __main__:26 - b = 0.5757575757575758, f1 = 0.7392996108949415\n"
     ]
    },
    {
     "data": {
      "application/vnd.jupyter.widget-view+json": {
       "model_id": "eabd5d65c9664c828f32fc7e0de93b7d",
       "version_major": 2,
       "version_minor": 0
      },
      "text/plain": [
       "HBox(children=(IntProgress(value=0, max=538), HTML(value='')))"
      ]
     },
     "metadata": {},
     "output_type": "display_data"
    },
    {
     "name": "stderr",
     "output_type": "stream",
     "text": [
      "[2019-03-08 02:40:51,334][INFO] __main__:26 - b = 0.5858585858585859, f1 = 0.7392996108949415\n"
     ]
    },
    {
     "data": {
      "application/vnd.jupyter.widget-view+json": {
       "model_id": "a5767b90146c4a96845e6639cedbfe98",
       "version_major": 2,
       "version_minor": 0
      },
      "text/plain": [
       "HBox(children=(IntProgress(value=0, max=530), HTML(value='')))"
      ]
     },
     "metadata": {},
     "output_type": "display_data"
    },
    {
     "name": "stderr",
     "output_type": "stream",
     "text": [
      "[2019-03-08 02:40:51,480][INFO] __main__:26 - b = 0.595959595959596, f1 = 0.7392996108949415\n"
     ]
    },
    {
     "data": {
      "application/vnd.jupyter.widget-view+json": {
       "model_id": "4cbe020729164903b6789fb0d3e13cd8",
       "version_major": 2,
       "version_minor": 0
      },
      "text/plain": [
       "HBox(children=(IntProgress(value=0, max=526), HTML(value='')))"
      ]
     },
     "metadata": {},
     "output_type": "display_data"
    },
    {
     "name": "stderr",
     "output_type": "stream",
     "text": [
      "[2019-03-08 02:40:51,627][INFO] __main__:26 - b = 0.6060606060606061, f1 = 0.7392996108949415\n"
     ]
    },
    {
     "data": {
      "application/vnd.jupyter.widget-view+json": {
       "model_id": "b92dd6910bc947f8aba77e7bc8735798",
       "version_major": 2,
       "version_minor": 0
      },
      "text/plain": [
       "HBox(children=(IntProgress(value=0, max=521), HTML(value='')))"
      ]
     },
     "metadata": {},
     "output_type": "display_data"
    },
    {
     "name": "stderr",
     "output_type": "stream",
     "text": [
      "[2019-03-08 02:40:51,773][INFO] __main__:26 - b = 0.6161616161616162, f1 = 0.7421875\n"
     ]
    },
    {
     "data": {
      "application/vnd.jupyter.widget-view+json": {
       "model_id": "c361cf5a2e4840e98ab3562ce6328b10",
       "version_major": 2,
       "version_minor": 0
      },
      "text/plain": [
       "HBox(children=(IntProgress(value=0, max=521), HTML(value='')))"
      ]
     },
     "metadata": {},
     "output_type": "display_data"
    },
    {
     "name": "stderr",
     "output_type": "stream",
     "text": [
      "[2019-03-08 02:40:51,918][INFO] __main__:26 - b = 0.6262626262626263, f1 = 0.7421875\n"
     ]
    },
    {
     "data": {
      "application/vnd.jupyter.widget-view+json": {
       "model_id": "7cdcd53c22df416cb3cb9436651e3b19",
       "version_major": 2,
       "version_minor": 0
      },
      "text/plain": [
       "HBox(children=(IntProgress(value=0, max=521), HTML(value='')))"
      ]
     },
     "metadata": {},
     "output_type": "display_data"
    },
    {
     "name": "stderr",
     "output_type": "stream",
     "text": [
      "[2019-03-08 02:40:52,064][INFO] __main__:26 - b = 0.6363636363636365, f1 = 0.7421875\n"
     ]
    },
    {
     "data": {
      "application/vnd.jupyter.widget-view+json": {
       "model_id": "e71a636ac6124804bc959d78810a18a8",
       "version_major": 2,
       "version_minor": 0
      },
      "text/plain": [
       "HBox(children=(IntProgress(value=0, max=520), HTML(value='')))"
      ]
     },
     "metadata": {},
     "output_type": "display_data"
    },
    {
     "name": "stderr",
     "output_type": "stream",
     "text": [
      "[2019-03-08 02:40:52,209][INFO] __main__:26 - b = 0.6464646464646465, f1 = 0.7421875\n"
     ]
    },
    {
     "data": {
      "application/vnd.jupyter.widget-view+json": {
       "model_id": "9087d2efd62047958deefa163e1e0a7b",
       "version_major": 2,
       "version_minor": 0
      },
      "text/plain": [
       "HBox(children=(IntProgress(value=0, max=520), HTML(value='')))"
      ]
     },
     "metadata": {},
     "output_type": "display_data"
    },
    {
     "name": "stderr",
     "output_type": "stream",
     "text": [
      "[2019-03-08 02:40:52,356][INFO] __main__:26 - b = 0.6565656565656566, f1 = 0.7421875\n"
     ]
    },
    {
     "data": {
      "application/vnd.jupyter.widget-view+json": {
       "model_id": "f14977ab47f34f8b8e4cb8c5ffda8fc9",
       "version_major": 2,
       "version_minor": 0
      },
      "text/plain": [
       "HBox(children=(IntProgress(value=0, max=520), HTML(value='')))"
      ]
     },
     "metadata": {},
     "output_type": "display_data"
    },
    {
     "name": "stderr",
     "output_type": "stream",
     "text": [
      "[2019-03-08 02:40:52,501][INFO] __main__:26 - b = 0.6666666666666667, f1 = 0.7421875\n"
     ]
    },
    {
     "data": {
      "application/vnd.jupyter.widget-view+json": {
       "model_id": "69774960fecb4eb6bc62d0cdf64b9d3d",
       "version_major": 2,
       "version_minor": 0
      },
      "text/plain": [
       "HBox(children=(IntProgress(value=0, max=520), HTML(value='')))"
      ]
     },
     "metadata": {},
     "output_type": "display_data"
    },
    {
     "name": "stderr",
     "output_type": "stream",
     "text": [
      "[2019-03-08 02:40:52,647][INFO] __main__:26 - b = 0.6767676767676768, f1 = 0.7421875\n"
     ]
    },
    {
     "data": {
      "application/vnd.jupyter.widget-view+json": {
       "model_id": "e900c7391ac945e7b9f6506b669acb2f",
       "version_major": 2,
       "version_minor": 0
      },
      "text/plain": [
       "HBox(children=(IntProgress(value=0, max=520), HTML(value='')))"
      ]
     },
     "metadata": {},
     "output_type": "display_data"
    },
    {
     "name": "stderr",
     "output_type": "stream",
     "text": [
      "[2019-03-08 02:40:52,794][INFO] __main__:26 - b = 0.686868686868687, f1 = 0.7421875\n"
     ]
    },
    {
     "data": {
      "application/vnd.jupyter.widget-view+json": {
       "model_id": "7c49f10a43bf41dd8ff684e5cae0a321",
       "version_major": 2,
       "version_minor": 0
      },
      "text/plain": [
       "HBox(children=(IntProgress(value=0, max=520), HTML(value='')))"
      ]
     },
     "metadata": {},
     "output_type": "display_data"
    },
    {
     "name": "stderr",
     "output_type": "stream",
     "text": [
      "[2019-03-08 02:40:52,940][INFO] __main__:26 - b = 0.696969696969697, f1 = 0.7421875\n"
     ]
    },
    {
     "data": {
      "application/vnd.jupyter.widget-view+json": {
       "model_id": "c103b99581bc467fac36794c07dbca0c",
       "version_major": 2,
       "version_minor": 0
      },
      "text/plain": [
       "HBox(children=(IntProgress(value=0, max=520), HTML(value='')))"
      ]
     },
     "metadata": {},
     "output_type": "display_data"
    },
    {
     "name": "stderr",
     "output_type": "stream",
     "text": [
      "[2019-03-08 02:40:53,085][INFO] __main__:26 - b = 0.7070707070707072, f1 = 0.7421875\n"
     ]
    },
    {
     "data": {
      "application/vnd.jupyter.widget-view+json": {
       "model_id": "815125f3b090459892e94cb8097c8dde",
       "version_major": 2,
       "version_minor": 0
      },
      "text/plain": [
       "HBox(children=(IntProgress(value=0, max=518), HTML(value='')))"
      ]
     },
     "metadata": {},
     "output_type": "display_data"
    },
    {
     "name": "stderr",
     "output_type": "stream",
     "text": [
      "[2019-03-08 02:40:53,230][INFO] __main__:26 - b = 0.7171717171717172, f1 = 0.7421875\n"
     ]
    },
    {
     "data": {
      "application/vnd.jupyter.widget-view+json": {
       "model_id": "9c50c719728f4dd792a05368de4f47c8",
       "version_major": 2,
       "version_minor": 0
      },
      "text/plain": [
       "HBox(children=(IntProgress(value=0, max=516), HTML(value='')))"
      ]
     },
     "metadata": {},
     "output_type": "display_data"
    },
    {
     "name": "stderr",
     "output_type": "stream",
     "text": [
      "[2019-03-08 02:40:53,376][INFO] __main__:26 - b = 0.7272727272727273, f1 = 0.7421875\n"
     ]
    },
    {
     "data": {
      "application/vnd.jupyter.widget-view+json": {
       "model_id": "709dcb85e83740238ce69e03a032b2aa",
       "version_major": 2,
       "version_minor": 0
      },
      "text/plain": [
       "HBox(children=(IntProgress(value=0, max=515), HTML(value='')))"
      ]
     },
     "metadata": {},
     "output_type": "display_data"
    },
    {
     "name": "stderr",
     "output_type": "stream",
     "text": [
      "[2019-03-08 02:40:53,520][INFO] __main__:26 - b = 0.7373737373737375, f1 = 0.7421875\n"
     ]
    },
    {
     "data": {
      "application/vnd.jupyter.widget-view+json": {
       "model_id": "3ac71ae275e14906a6de1b036b2c4279",
       "version_major": 2,
       "version_minor": 0
      },
      "text/plain": [
       "HBox(children=(IntProgress(value=0, max=513), HTML(value='')))"
      ]
     },
     "metadata": {},
     "output_type": "display_data"
    },
    {
     "name": "stderr",
     "output_type": "stream",
     "text": [
      "[2019-03-08 02:40:53,666][INFO] __main__:26 - b = 0.7474747474747475, f1 = 0.7421875\n"
     ]
    },
    {
     "data": {
      "application/vnd.jupyter.widget-view+json": {
       "model_id": "d3f41898bca3465283523e7755d1f075",
       "version_major": 2,
       "version_minor": 0
      },
      "text/plain": [
       "HBox(children=(IntProgress(value=0, max=511), HTML(value='')))"
      ]
     },
     "metadata": {},
     "output_type": "display_data"
    },
    {
     "name": "stderr",
     "output_type": "stream",
     "text": [
      "[2019-03-08 02:40:53,814][INFO] __main__:26 - b = 0.7575757575757577, f1 = 0.7421875\n"
     ]
    },
    {
     "data": {
      "application/vnd.jupyter.widget-view+json": {
       "model_id": "b684b74951df46b9b109004297b1bbe7",
       "version_major": 2,
       "version_minor": 0
      },
      "text/plain": [
       "HBox(children=(IntProgress(value=0, max=507), HTML(value='')))"
      ]
     },
     "metadata": {},
     "output_type": "display_data"
    },
    {
     "name": "stderr",
     "output_type": "stream",
     "text": [
      "[2019-03-08 02:40:53,962][INFO] __main__:26 - b = 0.7676767676767677, f1 = 0.7421875\n"
     ]
    },
    {
     "data": {
      "application/vnd.jupyter.widget-view+json": {
       "model_id": "9947362f4a0249269bdfd70878cdd6ed",
       "version_major": 2,
       "version_minor": 0
      },
      "text/plain": [
       "HBox(children=(IntProgress(value=0, max=506), HTML(value='')))"
      ]
     },
     "metadata": {},
     "output_type": "display_data"
    },
    {
     "name": "stderr",
     "output_type": "stream",
     "text": [
      "[2019-03-08 02:40:54,109][INFO] __main__:26 - b = 0.7777777777777778, f1 = 0.7421875\n"
     ]
    },
    {
     "data": {
      "application/vnd.jupyter.widget-view+json": {
       "model_id": "be3e5beba1664b01934e5c1c61e2b7c1",
       "version_major": 2,
       "version_minor": 0
      },
      "text/plain": [
       "HBox(children=(IntProgress(value=0, max=506), HTML(value='')))"
      ]
     },
     "metadata": {},
     "output_type": "display_data"
    },
    {
     "name": "stderr",
     "output_type": "stream",
     "text": [
      "[2019-03-08 02:40:54,255][INFO] __main__:26 - b = 0.787878787878788, f1 = 0.7421875\n"
     ]
    },
    {
     "data": {
      "application/vnd.jupyter.widget-view+json": {
       "model_id": "390caa68e7c4422083c0c70c4bc3a45d",
       "version_major": 2,
       "version_minor": 0
      },
      "text/plain": [
       "HBox(children=(IntProgress(value=0, max=505), HTML(value='')))"
      ]
     },
     "metadata": {},
     "output_type": "display_data"
    },
    {
     "name": "stderr",
     "output_type": "stream",
     "text": [
      "[2019-03-08 02:40:54,401][INFO] __main__:26 - b = 0.797979797979798, f1 = 0.7421875\n"
     ]
    },
    {
     "data": {
      "application/vnd.jupyter.widget-view+json": {
       "model_id": "fabb95f16774441299a35ccebe0a8bd0",
       "version_major": 2,
       "version_minor": 0
      },
      "text/plain": [
       "HBox(children=(IntProgress(value=0, max=505), HTML(value='')))"
      ]
     },
     "metadata": {},
     "output_type": "display_data"
    },
    {
     "name": "stderr",
     "output_type": "stream",
     "text": [
      "[2019-03-08 02:40:54,547][INFO] __main__:26 - b = 0.8080808080808082, f1 = 0.7421875\n"
     ]
    },
    {
     "data": {
      "application/vnd.jupyter.widget-view+json": {
       "model_id": "5c21b2c71366428b930ff2a88e0c9409",
       "version_major": 2,
       "version_minor": 0
      },
      "text/plain": [
       "HBox(children=(IntProgress(value=0, max=503), HTML(value='')))"
      ]
     },
     "metadata": {},
     "output_type": "display_data"
    },
    {
     "name": "stderr",
     "output_type": "stream",
     "text": [
      "[2019-03-08 02:40:54,693][INFO] __main__:26 - b = 0.8181818181818182, f1 = 0.7421875\n"
     ]
    },
    {
     "data": {
      "application/vnd.jupyter.widget-view+json": {
       "model_id": "5c504f78c63647c7b2819cb4474090be",
       "version_major": 2,
       "version_minor": 0
      },
      "text/plain": [
       "HBox(children=(IntProgress(value=0, max=502), HTML(value='')))"
      ]
     },
     "metadata": {},
     "output_type": "display_data"
    },
    {
     "name": "stderr",
     "output_type": "stream",
     "text": [
      "[2019-03-08 02:40:54,838][INFO] __main__:26 - b = 0.8282828282828284, f1 = 0.7421875\n"
     ]
    },
    {
     "data": {
      "application/vnd.jupyter.widget-view+json": {
       "model_id": "00e22fbdeb1d423b808ce11fa6c7153a",
       "version_major": 2,
       "version_minor": 0
      },
      "text/plain": [
       "HBox(children=(IntProgress(value=0, max=500), HTML(value='')))"
      ]
     },
     "metadata": {},
     "output_type": "display_data"
    },
    {
     "name": "stderr",
     "output_type": "stream",
     "text": [
      "[2019-03-08 02:40:54,985][INFO] __main__:26 - b = 0.8383838383838385, f1 = 0.7421875\n"
     ]
    },
    {
     "data": {
      "application/vnd.jupyter.widget-view+json": {
       "model_id": "cfdba8fc922f4f3c99c150188f77fd71",
       "version_major": 2,
       "version_minor": 0
      },
      "text/plain": [
       "HBox(children=(IntProgress(value=0, max=497), HTML(value='')))"
      ]
     },
     "metadata": {},
     "output_type": "display_data"
    },
    {
     "name": "stderr",
     "output_type": "stream",
     "text": [
      "[2019-03-08 02:40:55,131][INFO] __main__:26 - b = 0.8484848484848485, f1 = 0.7421875\n"
     ]
    },
    {
     "data": {
      "application/vnd.jupyter.widget-view+json": {
       "model_id": "c0d7b48e252e4e0d96a46338b88aeaea",
       "version_major": 2,
       "version_minor": 0
      },
      "text/plain": [
       "HBox(children=(IntProgress(value=0, max=496), HTML(value='')))"
      ]
     },
     "metadata": {},
     "output_type": "display_data"
    },
    {
     "name": "stderr",
     "output_type": "stream",
     "text": [
      "[2019-03-08 02:40:55,278][INFO] __main__:26 - b = 0.8585858585858587, f1 = 0.7421875\n"
     ]
    },
    {
     "data": {
      "application/vnd.jupyter.widget-view+json": {
       "model_id": "f77e6b4d455b473cb660599139ba9b63",
       "version_major": 2,
       "version_minor": 0
      },
      "text/plain": [
       "HBox(children=(IntProgress(value=0, max=496), HTML(value='')))"
      ]
     },
     "metadata": {},
     "output_type": "display_data"
    },
    {
     "name": "stderr",
     "output_type": "stream",
     "text": [
      "[2019-03-08 02:40:55,427][INFO] __main__:26 - b = 0.8686868686868687, f1 = 0.7421875\n"
     ]
    },
    {
     "data": {
      "application/vnd.jupyter.widget-view+json": {
       "model_id": "2e6454476a324a43858ca9a882c81a79",
       "version_major": 2,
       "version_minor": 0
      },
      "text/plain": [
       "HBox(children=(IntProgress(value=0, max=496), HTML(value='')))"
      ]
     },
     "metadata": {},
     "output_type": "display_data"
    },
    {
     "name": "stderr",
     "output_type": "stream",
     "text": [
      "[2019-03-08 02:40:55,573][INFO] __main__:26 - b = 0.8787878787878789, f1 = 0.7421875\n"
     ]
    },
    {
     "data": {
      "application/vnd.jupyter.widget-view+json": {
       "model_id": "716862fc5da04d8ebaf63d48247507a1",
       "version_major": 2,
       "version_minor": 0
      },
      "text/plain": [
       "HBox(children=(IntProgress(value=0, max=496), HTML(value='')))"
      ]
     },
     "metadata": {},
     "output_type": "display_data"
    },
    {
     "name": "stderr",
     "output_type": "stream",
     "text": [
      "[2019-03-08 02:40:55,720][INFO] __main__:26 - b = 0.888888888888889, f1 = 0.7421875\n"
     ]
    },
    {
     "data": {
      "application/vnd.jupyter.widget-view+json": {
       "model_id": "20890cf8b9af4d9fa71112a90952bfa8",
       "version_major": 2,
       "version_minor": 0
      },
      "text/plain": [
       "HBox(children=(IntProgress(value=0, max=496), HTML(value='')))"
      ]
     },
     "metadata": {},
     "output_type": "display_data"
    },
    {
     "name": "stderr",
     "output_type": "stream",
     "text": [
      "[2019-03-08 02:40:55,867][INFO] __main__:26 - b = 0.8989898989898991, f1 = 0.7421875\n"
     ]
    },
    {
     "data": {
      "application/vnd.jupyter.widget-view+json": {
       "model_id": "2718044d856c4b3abdf9919f27f86ca4",
       "version_major": 2,
       "version_minor": 0
      },
      "text/plain": [
       "HBox(children=(IntProgress(value=0, max=496), HTML(value='')))"
      ]
     },
     "metadata": {},
     "output_type": "display_data"
    },
    {
     "name": "stderr",
     "output_type": "stream",
     "text": [
      "[2019-03-08 02:40:56,013][INFO] __main__:26 - b = 0.9090909090909092, f1 = 0.7421875\n"
     ]
    },
    {
     "data": {
      "application/vnd.jupyter.widget-view+json": {
       "model_id": "0282e7e05b9d4246ac1de1e662e1c586",
       "version_major": 2,
       "version_minor": 0
      },
      "text/plain": [
       "HBox(children=(IntProgress(value=0, max=496), HTML(value='')))"
      ]
     },
     "metadata": {},
     "output_type": "display_data"
    },
    {
     "name": "stderr",
     "output_type": "stream",
     "text": [
      "[2019-03-08 02:40:56,159][INFO] __main__:26 - b = 0.9191919191919192, f1 = 0.7421875\n"
     ]
    },
    {
     "data": {
      "application/vnd.jupyter.widget-view+json": {
       "model_id": "997e65a6d1164780baff1349907e920e",
       "version_major": 2,
       "version_minor": 0
      },
      "text/plain": [
       "HBox(children=(IntProgress(value=0, max=482), HTML(value='')))"
      ]
     },
     "metadata": {},
     "output_type": "display_data"
    },
    {
     "name": "stderr",
     "output_type": "stream",
     "text": [
      "[2019-03-08 02:40:56,305][INFO] __main__:26 - b = 0.9292929292929294, f1 = 0.7450980392156862\n"
     ]
    },
    {
     "data": {
      "application/vnd.jupyter.widget-view+json": {
       "model_id": "893dd155551c41c9b3378d91868f7250",
       "version_major": 2,
       "version_minor": 0
      },
      "text/plain": [
       "HBox(children=(IntProgress(value=0, max=473), HTML(value='')))"
      ]
     },
     "metadata": {},
     "output_type": "display_data"
    },
    {
     "name": "stderr",
     "output_type": "stream",
     "text": [
      "[2019-03-08 02:40:56,452][INFO] __main__:26 - b = 0.9393939393939394, f1 = 0.7450980392156862\n"
     ]
    },
    {
     "data": {
      "application/vnd.jupyter.widget-view+json": {
       "model_id": "b3dc87f155d74966ada3cb052f801cbb",
       "version_major": 2,
       "version_minor": 0
      },
      "text/plain": [
       "HBox(children=(IntProgress(value=0, max=460), HTML(value='')))"
      ]
     },
     "metadata": {},
     "output_type": "display_data"
    },
    {
     "name": "stderr",
     "output_type": "stream",
     "text": [
      "[2019-03-08 02:40:56,598][INFO] __main__:26 - b = 0.9494949494949496, f1 = 0.75098814229249\n"
     ]
    },
    {
     "data": {
      "application/vnd.jupyter.widget-view+json": {
       "model_id": "88d64513d6bd40cfad26825b8f594b8f",
       "version_major": 2,
       "version_minor": 0
      },
      "text/plain": [
       "HBox(children=(IntProgress(value=0, max=442), HTML(value='')))"
      ]
     },
     "metadata": {},
     "output_type": "display_data"
    },
    {
     "name": "stderr",
     "output_type": "stream",
     "text": [
      "[2019-03-08 02:40:56,744][INFO] __main__:26 - b = 0.9595959595959597, f1 = 0.7410358565737052\n"
     ]
    },
    {
     "data": {
      "application/vnd.jupyter.widget-view+json": {
       "model_id": "e5681c8de04d471196f6e20c39c10fbf",
       "version_major": 2,
       "version_minor": 0
      },
      "text/plain": [
       "HBox(children=(IntProgress(value=0, max=434), HTML(value='')))"
      ]
     },
     "metadata": {},
     "output_type": "display_data"
    },
    {
     "name": "stderr",
     "output_type": "stream",
     "text": [
      "[2019-03-08 02:40:56,890][INFO] __main__:26 - b = 0.9696969696969697, f1 = 0.736\n"
     ]
    },
    {
     "data": {
      "application/vnd.jupyter.widget-view+json": {
       "model_id": "65ccebc2734f42ed879239457383644f",
       "version_major": 2,
       "version_minor": 0
      },
      "text/plain": [
       "HBox(children=(IntProgress(value=0, max=425), HTML(value='')))"
      ]
     },
     "metadata": {},
     "output_type": "display_data"
    },
    {
     "name": "stderr",
     "output_type": "stream",
     "text": [
      "[2019-03-08 02:40:57,034][INFO] __main__:26 - b = 0.9797979797979799, f1 = 0.7309236947791165\n"
     ]
    },
    {
     "data": {
      "application/vnd.jupyter.widget-view+json": {
       "model_id": "d64c2c464ef64aef9a658b3702b96619",
       "version_major": 2,
       "version_minor": 0
      },
      "text/plain": [
       "HBox(children=(IntProgress(value=0, max=420), HTML(value='')))"
      ]
     },
     "metadata": {},
     "output_type": "display_data"
    },
    {
     "name": "stderr",
     "output_type": "stream",
     "text": [
      "[2019-03-08 02:40:57,178][INFO] __main__:26 - b = 0.98989898989899, f1 = 0.7154471544715448\n",
      "[2019-03-08 02:40:57,188][INFO] __main__:34 - ===================================================\n",
      "[2019-03-08 02:40:57,189][INFO] __main__:35 - Scoring on Entity-Level Gold Data with b=0.9494949494949496\n",
      "[2019-03-08 02:40:57,189][INFO] __main__:36 - ===================================================\n",
      "[2019-03-08 02:40:57,190][INFO] __main__:37 - Corpus Precision 0.979\n",
      "[2019-03-08 02:40:57,191][INFO] __main__:38 - Corpus Recall    0.609\n",
      "[2019-03-08 02:40:57,191][INFO] __main__:39 - Corpus F1        0.751\n",
      "[2019-03-08 02:40:57,192][INFO] __main__:40 - ---------------------------------------------------\n",
      "[2019-03-08 02:40:57,193][INFO] __main__:42 - TP: 95 | FP: 2 | FN: 61\n",
      "[2019-03-08 02:40:57,194][INFO] __main__:46 - ===================================================\n",
      "\n"
     ]
    }
   ],
   "source": [
    "marginals = generative_model(L_train[1])\n",
    "disc_model1 = discriminative_model(train_cands[1], F_train[1], marginals, n_epochs=100)\n",
    "\n",
    "relation = 'stg_temp_max'\n",
    "best_result, best_b = scoring(\n",
    "    relation, disc_model1, test_cands[1], test_docs, F_test[1], parts_by_doc, num=100\n",
    ")"
   ]
  },
  {
   "cell_type": "code",
   "execution_count": 33,
   "metadata": {
    "scrolled": true
   },
   "outputs": [
    {
     "name": "stderr",
     "output_type": "stream",
     "text": [
      "[2019-03-08 02:40:57,203][INFO] __main__:4 - Training generative model...\n"
     ]
    },
    {
     "name": "stdout",
     "output_type": "stream",
     "text": [
      "Computing O...\n",
      "Estimating \\mu...\n",
      "[E:0]\tTrain Loss: 0.505\n",
      "[E:100]\tTrain Loss: 0.054\n",
      "[E:200]\tTrain Loss: 0.045\n",
      "[E:300]\tTrain Loss: 0.045\n",
      "[E:400]\tTrain Loss: 0.045\n"
     ]
    },
    {
     "name": "stderr",
     "output_type": "stream",
     "text": [
      "[2019-03-08 02:40:59,712][INFO] __main__:6 - Done.\n",
      "[2019-03-08 02:40:59,816][INFO] __main__:4 - Training discriminative model...\n",
      "[2019-03-08 02:40:59,821][INFO] fonduer.learning.classifier:142 - Loading default parameters for Sparse Logistic Regression\n"
     ]
    },
    {
     "name": "stdout",
     "output_type": "stream",
     "text": [
      "[E:499]\tTrain Loss: 0.045\n",
      "Finished Training\n"
     ]
    },
    {
     "name": "stderr",
     "output_type": "stream",
     "text": [
      "[2019-03-08 02:41:00,030][INFO] fonduer.learning.classifier:193 - Using GPU...\n",
      "[2019-03-08 02:41:00,031][INFO] fonduer.learning.classifier:195 - Settings: {'n_epochs': 100, 'lr': 0.001, 'batch_size': 256, 'shuffle': True, 'seed': 1234, 'host_device': 'GPU', 'bias': False, 'input_dim': 55128}\n",
      "[2019-03-08 02:41:00,043][INFO] fonduer.learning.classifier:213 - [SparseLogisticRegression] Training model\n",
      "[2019-03-08 02:41:00,044][INFO] fonduer.learning.classifier:215 - [SparseLogisticRegression] n_train=68199 #epochs=100 batch size=256\n",
      "[2019-03-08 02:41:09,090][INFO] fonduer.learning.classifier:262 - [SparseLogisticRegression] Epoch 1 (9.05s)\tAverage loss=0.219603\n",
      "[2019-03-08 02:41:37,532][INFO] fonduer.learning.classifier:262 - [SparseLogisticRegression] Epoch 5 (37.49s)\tAverage loss=0.186457\n",
      "[2019-03-08 02:42:12,537][INFO] fonduer.learning.classifier:262 - [SparseLogisticRegression] Epoch 10 (72.49s)\tAverage loss=0.184800\n",
      "[2019-03-08 02:42:47,965][INFO] fonduer.learning.classifier:262 - [SparseLogisticRegression] Epoch 15 (107.92s)\tAverage loss=0.184448\n",
      "[2019-03-08 02:43:23,014][INFO] fonduer.learning.classifier:262 - [SparseLogisticRegression] Epoch 20 (142.97s)\tAverage loss=0.184147\n",
      "[2019-03-08 02:43:57,924][INFO] fonduer.learning.classifier:262 - [SparseLogisticRegression] Epoch 25 (177.88s)\tAverage loss=0.183982\n",
      "[2019-03-08 02:44:32,864][INFO] fonduer.learning.classifier:262 - [SparseLogisticRegression] Epoch 30 (212.82s)\tAverage loss=0.183888\n",
      "[2019-03-08 02:45:07,734][INFO] fonduer.learning.classifier:262 - [SparseLogisticRegression] Epoch 35 (247.69s)\tAverage loss=0.184165\n",
      "[2019-03-08 02:45:42,877][INFO] fonduer.learning.classifier:262 - [SparseLogisticRegression] Epoch 40 (282.83s)\tAverage loss=0.183950\n",
      "[2019-03-08 02:46:17,892][INFO] fonduer.learning.classifier:262 - [SparseLogisticRegression] Epoch 45 (317.85s)\tAverage loss=0.183887\n",
      "[2019-03-08 02:46:53,031][INFO] fonduer.learning.classifier:262 - [SparseLogisticRegression] Epoch 50 (352.99s)\tAverage loss=0.183947\n",
      "[2019-03-08 02:47:28,035][INFO] fonduer.learning.classifier:262 - [SparseLogisticRegression] Epoch 55 (387.99s)\tAverage loss=0.183849\n",
      "[2019-03-08 02:48:02,981][INFO] fonduer.learning.classifier:262 - [SparseLogisticRegression] Epoch 60 (422.94s)\tAverage loss=0.183953\n",
      "[2019-03-08 02:48:37,924][INFO] fonduer.learning.classifier:262 - [SparseLogisticRegression] Epoch 65 (457.88s)\tAverage loss=0.183983\n",
      "[2019-03-08 02:49:12,887][INFO] fonduer.learning.classifier:262 - [SparseLogisticRegression] Epoch 70 (492.84s)\tAverage loss=0.183928\n",
      "[2019-03-08 02:49:48,162][INFO] fonduer.learning.classifier:262 - [SparseLogisticRegression] Epoch 75 (528.12s)\tAverage loss=0.183751\n",
      "[2019-03-08 02:50:23,167][INFO] fonduer.learning.classifier:262 - [SparseLogisticRegression] Epoch 80 (563.12s)\tAverage loss=0.183734\n",
      "[2019-03-08 02:50:58,085][INFO] fonduer.learning.classifier:262 - [SparseLogisticRegression] Epoch 85 (598.04s)\tAverage loss=0.183829\n",
      "[2019-03-08 02:51:33,009][INFO] fonduer.learning.classifier:262 - [SparseLogisticRegression] Epoch 90 (632.97s)\tAverage loss=0.183685\n",
      "[2019-03-08 02:52:07,851][INFO] fonduer.learning.classifier:262 - [SparseLogisticRegression] Epoch 95 (667.81s)\tAverage loss=0.183887\n",
      "[2019-03-08 02:52:43,237][INFO] fonduer.learning.classifier:262 - [SparseLogisticRegression] Epoch 100 (703.19s)\tAverage loss=0.183927\n",
      "[2019-03-08 02:52:43,239][INFO] fonduer.learning.classifier:278 - [SparseLogisticRegression] Training done (703.20s)\n",
      "[2019-03-08 02:52:43,257][INFO] __main__:12 - Done.\n",
      "[2019-03-08 02:52:43,259][INFO] __main__:2 - Calculating the best F1 score and threshold (b)...\n"
     ]
    },
    {
     "data": {
      "application/vnd.jupyter.widget-view+json": {
       "model_id": "1f9d5d84cd66447ca31d838564b1e8a1",
       "version_major": 2,
       "version_minor": 0
      },
      "text/plain": [
       "HBox(children=(IntProgress(value=0, max=2007), HTML(value='')))"
      ]
     },
     "metadata": {},
     "output_type": "display_data"
    },
    {
     "name": "stderr",
     "output_type": "stream",
     "text": [
      "[2019-03-08 02:52:46,978][INFO] __main__:26 - b = 0.0, f1 = 0.8867924528301887\n"
     ]
    },
    {
     "data": {
      "application/vnd.jupyter.widget-view+json": {
       "model_id": "fda3dae9218f4d61a553ed6a9794810f",
       "version_major": 2,
       "version_minor": 0
      },
      "text/plain": [
       "HBox(children=(IntProgress(value=0, max=1726), HTML(value='')))"
      ]
     },
     "metadata": {},
     "output_type": "display_data"
    },
    {
     "name": "stderr",
     "output_type": "stream",
     "text": [
      "[2019-03-08 02:52:47,161][INFO] __main__:26 - b = 0.010101010101010102, f1 = 0.879746835443038\n"
     ]
    },
    {
     "data": {
      "application/vnd.jupyter.widget-view+json": {
       "model_id": "8e055e3ac6344846a28145a46a1c90ce",
       "version_major": 2,
       "version_minor": 0
      },
      "text/plain": [
       "HBox(children=(IntProgress(value=0, max=1526), HTML(value='')))"
      ]
     },
     "metadata": {},
     "output_type": "display_data"
    },
    {
     "name": "stderr",
     "output_type": "stream",
     "text": [
      "[2019-03-08 02:52:47,336][INFO] __main__:26 - b = 0.020202020202020204, f1 = 0.8761904761904761\n"
     ]
    },
    {
     "data": {
      "application/vnd.jupyter.widget-view+json": {
       "model_id": "a9467ae4fd384d549e153f8622c33ded",
       "version_major": 2,
       "version_minor": 0
      },
      "text/plain": [
       "HBox(children=(IntProgress(value=0, max=1402), HTML(value='')))"
      ]
     },
     "metadata": {},
     "output_type": "display_data"
    },
    {
     "name": "stderr",
     "output_type": "stream",
     "text": [
      "[2019-03-08 02:52:47,508][INFO] __main__:26 - b = 0.030303030303030304, f1 = 0.8690095846645367\n"
     ]
    },
    {
     "data": {
      "application/vnd.jupyter.widget-view+json": {
       "model_id": "0b88d0b511b84354be885430511809b8",
       "version_major": 2,
       "version_minor": 0
      },
      "text/plain": [
       "HBox(children=(IntProgress(value=0, max=1326), HTML(value='')))"
      ]
     },
     "metadata": {},
     "output_type": "display_data"
    },
    {
     "name": "stderr",
     "output_type": "stream",
     "text": [
      "[2019-03-08 02:52:47,679][INFO] __main__:26 - b = 0.04040404040404041, f1 = 0.8580645161290323\n"
     ]
    },
    {
     "data": {
      "application/vnd.jupyter.widget-view+json": {
       "model_id": "450c55489de1486ba74d8842439b3599",
       "version_major": 2,
       "version_minor": 0
      },
      "text/plain": [
       "HBox(children=(IntProgress(value=0, max=1274), HTML(value='')))"
      ]
     },
     "metadata": {},
     "output_type": "display_data"
    },
    {
     "name": "stderr",
     "output_type": "stream",
     "text": [
      "[2019-03-08 02:52:47,850][INFO] __main__:26 - b = 0.05050505050505051, f1 = 0.854368932038835\n"
     ]
    },
    {
     "data": {
      "application/vnd.jupyter.widget-view+json": {
       "model_id": "2d6c0426dbd44465ad082c2b34a25403",
       "version_major": 2,
       "version_minor": 0
      },
      "text/plain": [
       "HBox(children=(IntProgress(value=0, max=1244), HTML(value='')))"
      ]
     },
     "metadata": {},
     "output_type": "display_data"
    },
    {
     "name": "stderr",
     "output_type": "stream",
     "text": [
      "[2019-03-08 02:52:48,017][INFO] __main__:26 - b = 0.06060606060606061, f1 = 0.8506493506493505\n"
     ]
    },
    {
     "data": {
      "application/vnd.jupyter.widget-view+json": {
       "model_id": "af083136c63a4cbf92b12b7818f8a468",
       "version_major": 2,
       "version_minor": 0
      },
      "text/plain": [
       "HBox(children=(IntProgress(value=0, max=1209), HTML(value='')))"
      ]
     },
     "metadata": {},
     "output_type": "display_data"
    },
    {
     "name": "stderr",
     "output_type": "stream",
     "text": [
      "[2019-03-08 02:52:48,184][INFO] __main__:26 - b = 0.07070707070707072, f1 = 0.8506493506493505\n"
     ]
    },
    {
     "data": {
      "application/vnd.jupyter.widget-view+json": {
       "model_id": "8c3e1ca40db04012ae267e6c3df2e9a2",
       "version_major": 2,
       "version_minor": 0
      },
      "text/plain": [
       "HBox(children=(IntProgress(value=0, max=1183), HTML(value='')))"
      ]
     },
     "metadata": {},
     "output_type": "display_data"
    },
    {
     "name": "stderr",
     "output_type": "stream",
     "text": [
      "[2019-03-08 02:52:48,350][INFO] __main__:26 - b = 0.08080808080808081, f1 = 0.8534201954397393\n"
     ]
    },
    {
     "data": {
      "application/vnd.jupyter.widget-view+json": {
       "model_id": "5cc5a8c4b37647318a974442ac1de876",
       "version_major": 2,
       "version_minor": 0
      },
      "text/plain": [
       "HBox(children=(IntProgress(value=0, max=1158), HTML(value='')))"
      ]
     },
     "metadata": {},
     "output_type": "display_data"
    },
    {
     "name": "stderr",
     "output_type": "stream",
     "text": [
      "[2019-03-08 02:52:48,515][INFO] __main__:26 - b = 0.09090909090909091, f1 = 0.8562091503267973\n"
     ]
    },
    {
     "data": {
      "application/vnd.jupyter.widget-view+json": {
       "model_id": "83b7410428db4950850198fcc3052d45",
       "version_major": 2,
       "version_minor": 0
      },
      "text/plain": [
       "HBox(children=(IntProgress(value=0, max=1125), HTML(value='')))"
      ]
     },
     "metadata": {},
     "output_type": "display_data"
    },
    {
     "name": "stderr",
     "output_type": "stream",
     "text": [
      "[2019-03-08 02:52:48,678][INFO] __main__:26 - b = 0.10101010101010102, f1 = 0.8361204013377928\n"
     ]
    },
    {
     "data": {
      "application/vnd.jupyter.widget-view+json": {
       "model_id": "5d1c5e9e49a54a3883ff48fdaa07c90b",
       "version_major": 2,
       "version_minor": 0
      },
      "text/plain": [
       "HBox(children=(IntProgress(value=0, max=1106), HTML(value='')))"
      ]
     },
     "metadata": {},
     "output_type": "display_data"
    },
    {
     "name": "stderr",
     "output_type": "stream",
     "text": [
      "[2019-03-08 02:52:48,841][INFO] __main__:26 - b = 0.11111111111111112, f1 = 0.8361204013377928\n"
     ]
    },
    {
     "data": {
      "application/vnd.jupyter.widget-view+json": {
       "model_id": "8b78954e618645c18a641576b02d1e36",
       "version_major": 2,
       "version_minor": 0
      },
      "text/plain": [
       "HBox(children=(IntProgress(value=0, max=1077), HTML(value='')))"
      ]
     },
     "metadata": {},
     "output_type": "display_data"
    },
    {
     "name": "stderr",
     "output_type": "stream",
     "text": [
      "[2019-03-08 02:52:49,003][INFO] __main__:26 - b = 0.12121212121212122, f1 = 0.8322147651006712\n"
     ]
    },
    {
     "data": {
      "application/vnd.jupyter.widget-view+json": {
       "model_id": "6ac0079de0ee4fe7abfd72e8270455dd",
       "version_major": 2,
       "version_minor": 0
      },
      "text/plain": [
       "HBox(children=(IntProgress(value=0, max=1056), HTML(value='')))"
      ]
     },
     "metadata": {},
     "output_type": "display_data"
    },
    {
     "name": "stderr",
     "output_type": "stream",
     "text": [
      "[2019-03-08 02:52:49,163][INFO] __main__:26 - b = 0.13131313131313133, f1 = 0.8322147651006712\n"
     ]
    },
    {
     "data": {
      "application/vnd.jupyter.widget-view+json": {
       "model_id": "7fca17e3577a4b75a4e06480380a3d71",
       "version_major": 2,
       "version_minor": 0
      },
      "text/plain": [
       "HBox(children=(IntProgress(value=0, max=1023), HTML(value='')))"
      ]
     },
     "metadata": {},
     "output_type": "display_data"
    },
    {
     "name": "stderr",
     "output_type": "stream",
     "text": [
      "[2019-03-08 02:52:49,328][INFO] __main__:26 - b = 0.14141414141414144, f1 = 0.8282828282828283\n"
     ]
    },
    {
     "data": {
      "application/vnd.jupyter.widget-view+json": {
       "model_id": "468fdc01356948688ac7c81164e7b79c",
       "version_major": 2,
       "version_minor": 0
      },
      "text/plain": [
       "HBox(children=(IntProgress(value=0, max=981), HTML(value='')))"
      ]
     },
     "metadata": {},
     "output_type": "display_data"
    },
    {
     "name": "stderr",
     "output_type": "stream",
     "text": [
      "[2019-03-08 02:52:49,489][INFO] __main__:26 - b = 0.15151515151515152, f1 = 0.8163265306122448\n"
     ]
    },
    {
     "data": {
      "application/vnd.jupyter.widget-view+json": {
       "model_id": "5c87eafe341740f996478d40e30d1a00",
       "version_major": 2,
       "version_minor": 0
      },
      "text/plain": [
       "HBox(children=(IntProgress(value=0, max=953), HTML(value='')))"
      ]
     },
     "metadata": {},
     "output_type": "display_data"
    },
    {
     "name": "stderr",
     "output_type": "stream",
     "text": [
      "[2019-03-08 02:52:49,649][INFO] __main__:26 - b = 0.16161616161616163, f1 = 0.8109965635738831\n"
     ]
    },
    {
     "data": {
      "application/vnd.jupyter.widget-view+json": {
       "model_id": "a47cbe84861d42cd91cf6f1b086c6363",
       "version_major": 2,
       "version_minor": 0
      },
      "text/plain": [
       "HBox(children=(IntProgress(value=0, max=915), HTML(value='')))"
      ]
     },
     "metadata": {},
     "output_type": "display_data"
    },
    {
     "name": "stderr",
     "output_type": "stream",
     "text": [
      "[2019-03-08 02:52:49,814][INFO] __main__:26 - b = 0.17171717171717174, f1 = 0.7859649122807018\n"
     ]
    },
    {
     "data": {
      "application/vnd.jupyter.widget-view+json": {
       "model_id": "85324e4ce523409cbd1e7fd742bf0b77",
       "version_major": 2,
       "version_minor": 0
      },
      "text/plain": [
       "HBox(children=(IntProgress(value=0, max=894), HTML(value='')))"
      ]
     },
     "metadata": {},
     "output_type": "display_data"
    },
    {
     "name": "stderr",
     "output_type": "stream",
     "text": [
      "[2019-03-08 02:52:49,972][INFO] __main__:26 - b = 0.18181818181818182, f1 = 0.7816901408450704\n"
     ]
    },
    {
     "data": {
      "application/vnd.jupyter.widget-view+json": {
       "model_id": "989c986eed8a4169bfbdf35a3b8f2a87",
       "version_major": 2,
       "version_minor": 0
      },
      "text/plain": [
       "HBox(children=(IntProgress(value=0, max=873), HTML(value='')))"
      ]
     },
     "metadata": {},
     "output_type": "display_data"
    },
    {
     "name": "stderr",
     "output_type": "stream",
     "text": [
      "[2019-03-08 02:52:50,128][INFO] __main__:26 - b = 0.19191919191919193, f1 = 0.7773851590106007\n"
     ]
    },
    {
     "data": {
      "application/vnd.jupyter.widget-view+json": {
       "model_id": "4a07471504ce4804a01fc586e87b392c",
       "version_major": 2,
       "version_minor": 0
      },
      "text/plain": [
       "HBox(children=(IntProgress(value=0, max=852), HTML(value='')))"
      ]
     },
     "metadata": {},
     "output_type": "display_data"
    },
    {
     "name": "stderr",
     "output_type": "stream",
     "text": [
      "[2019-03-08 02:52:50,285][INFO] __main__:26 - b = 0.20202020202020204, f1 = 0.7642857142857142\n"
     ]
    },
    {
     "data": {
      "application/vnd.jupyter.widget-view+json": {
       "model_id": "0b8d5568273f42f2b7c1a540b76c1c40",
       "version_major": 2,
       "version_minor": 0
      },
      "text/plain": [
       "HBox(children=(IntProgress(value=0, max=834), HTML(value='')))"
      ]
     },
     "metadata": {},
     "output_type": "display_data"
    },
    {
     "name": "stderr",
     "output_type": "stream",
     "text": [
      "[2019-03-08 02:52:50,441][INFO] __main__:26 - b = 0.21212121212121213, f1 = 0.7598566308243728\n"
     ]
    },
    {
     "data": {
      "application/vnd.jupyter.widget-view+json": {
       "model_id": "703836a3abda4600b07e48bf18fcbc41",
       "version_major": 2,
       "version_minor": 0
      },
      "text/plain": [
       "HBox(children=(IntProgress(value=0, max=810), HTML(value='')))"
      ]
     },
     "metadata": {},
     "output_type": "display_data"
    },
    {
     "name": "stderr",
     "output_type": "stream",
     "text": [
      "[2019-03-08 02:52:50,596][INFO] __main__:26 - b = 0.22222222222222224, f1 = 0.7553956834532373\n"
     ]
    },
    {
     "data": {
      "application/vnd.jupyter.widget-view+json": {
       "model_id": "69909f73d8ff44c2bf993082aaada8ba",
       "version_major": 2,
       "version_minor": 0
      },
      "text/plain": [
       "HBox(children=(IntProgress(value=0, max=786), HTML(value='')))"
      ]
     },
     "metadata": {},
     "output_type": "display_data"
    },
    {
     "name": "stderr",
     "output_type": "stream",
     "text": [
      "[2019-03-08 02:52:50,751][INFO] __main__:26 - b = 0.23232323232323235, f1 = 0.7553956834532373\n"
     ]
    },
    {
     "data": {
      "application/vnd.jupyter.widget-view+json": {
       "model_id": "d41eb9633dac40a79d4c2aac7909de69",
       "version_major": 2,
       "version_minor": 0
      },
      "text/plain": [
       "HBox(children=(IntProgress(value=0, max=764), HTML(value='')))"
      ]
     },
     "metadata": {},
     "output_type": "display_data"
    },
    {
     "name": "stderr",
     "output_type": "stream",
     "text": [
      "[2019-03-08 02:52:50,907][INFO] __main__:26 - b = 0.24242424242424243, f1 = 0.7372262773722628\n"
     ]
    },
    {
     "data": {
      "application/vnd.jupyter.widget-view+json": {
       "model_id": "a90e7f95b47b46ff8dee4658584e5fbb",
       "version_major": 2,
       "version_minor": 0
      },
      "text/plain": [
       "HBox(children=(IntProgress(value=0, max=739), HTML(value='')))"
      ]
     },
     "metadata": {},
     "output_type": "display_data"
    },
    {
     "name": "stderr",
     "output_type": "stream",
     "text": [
      "[2019-03-08 02:52:51,062][INFO] __main__:26 - b = 0.25252525252525254, f1 = 0.7326007326007326\n"
     ]
    },
    {
     "data": {
      "application/vnd.jupyter.widget-view+json": {
       "model_id": "7b16e7a2f7db48eb898c8117b34cce9c",
       "version_major": 2,
       "version_minor": 0
      },
      "text/plain": [
       "HBox(children=(IntProgress(value=0, max=711), HTML(value='')))"
      ]
     },
     "metadata": {},
     "output_type": "display_data"
    },
    {
     "name": "stderr",
     "output_type": "stream",
     "text": [
      "[2019-03-08 02:52:51,215][INFO] __main__:26 - b = 0.26262626262626265, f1 = 0.7279411764705883\n"
     ]
    },
    {
     "data": {
      "application/vnd.jupyter.widget-view+json": {
       "model_id": "207f5e596337403992cfa49d27214e50",
       "version_major": 2,
       "version_minor": 0
      },
      "text/plain": [
       "HBox(children=(IntProgress(value=0, max=695), HTML(value='')))"
      ]
     },
     "metadata": {},
     "output_type": "display_data"
    },
    {
     "name": "stderr",
     "output_type": "stream",
     "text": [
      "[2019-03-08 02:52:51,367][INFO] __main__:26 - b = 0.27272727272727276, f1 = 0.7279411764705883\n"
     ]
    },
    {
     "data": {
      "application/vnd.jupyter.widget-view+json": {
       "model_id": "30b82270913d4da29e7fdd50a0440865",
       "version_major": 2,
       "version_minor": 0
      },
      "text/plain": [
       "HBox(children=(IntProgress(value=0, max=679), HTML(value='')))"
      ]
     },
     "metadata": {},
     "output_type": "display_data"
    },
    {
     "name": "stderr",
     "output_type": "stream",
     "text": [
      "[2019-03-08 02:52:51,519][INFO] __main__:26 - b = 0.2828282828282829, f1 = 0.7185185185185184\n"
     ]
    },
    {
     "data": {
      "application/vnd.jupyter.widget-view+json": {
       "model_id": "b5b1114429b34cbc85a055e5fa9188b4",
       "version_major": 2,
       "version_minor": 0
      },
      "text/plain": [
       "HBox(children=(IntProgress(value=0, max=656), HTML(value='')))"
      ]
     },
     "metadata": {},
     "output_type": "display_data"
    },
    {
     "name": "stderr",
     "output_type": "stream",
     "text": [
      "[2019-03-08 02:52:51,671][INFO] __main__:26 - b = 0.29292929292929293, f1 = 0.7185185185185184\n"
     ]
    },
    {
     "data": {
      "application/vnd.jupyter.widget-view+json": {
       "model_id": "881bea996452465f942967702dd224e4",
       "version_major": 2,
       "version_minor": 0
      },
      "text/plain": [
       "HBox(children=(IntProgress(value=0, max=626), HTML(value='')))"
      ]
     },
     "metadata": {},
     "output_type": "display_data"
    },
    {
     "name": "stderr",
     "output_type": "stream",
     "text": [
      "[2019-03-08 02:52:51,821][INFO] __main__:26 - b = 0.30303030303030304, f1 = 0.7137546468401488\n"
     ]
    },
    {
     "data": {
      "application/vnd.jupyter.widget-view+json": {
       "model_id": "f8de64a653144bc791785cf7029134c8",
       "version_major": 2,
       "version_minor": 0
      },
      "text/plain": [
       "HBox(children=(IntProgress(value=0, max=611), HTML(value='')))"
      ]
     },
     "metadata": {},
     "output_type": "display_data"
    },
    {
     "name": "stderr",
     "output_type": "stream",
     "text": [
      "[2019-03-08 02:52:51,973][INFO] __main__:26 - b = 0.31313131313131315, f1 = 0.7137546468401488\n"
     ]
    },
    {
     "data": {
      "application/vnd.jupyter.widget-view+json": {
       "model_id": "4e24f430db0b40ea91b74f9575a7c3b9",
       "version_major": 2,
       "version_minor": 0
      },
      "text/plain": [
       "HBox(children=(IntProgress(value=0, max=591), HTML(value='')))"
      ]
     },
     "metadata": {},
     "output_type": "display_data"
    },
    {
     "name": "stderr",
     "output_type": "stream",
     "text": [
      "[2019-03-08 02:52:52,123][INFO] __main__:26 - b = 0.32323232323232326, f1 = 0.6992481203007518\n"
     ]
    },
    {
     "data": {
      "application/vnd.jupyter.widget-view+json": {
       "model_id": "33873c8e3e0b4ae1ba24837699b2ba8b",
       "version_major": 2,
       "version_minor": 0
      },
      "text/plain": [
       "HBox(children=(IntProgress(value=0, max=574), HTML(value='')))"
      ]
     },
     "metadata": {},
     "output_type": "display_data"
    },
    {
     "name": "stderr",
     "output_type": "stream",
     "text": [
      "[2019-03-08 02:52:52,280][INFO] __main__:26 - b = 0.33333333333333337, f1 = 0.6743295019157088\n"
     ]
    },
    {
     "data": {
      "application/vnd.jupyter.widget-view+json": {
       "model_id": "5274a86c52eb40f3824979a7be0a239f",
       "version_major": 2,
       "version_minor": 0
      },
      "text/plain": [
       "HBox(children=(IntProgress(value=0, max=567), HTML(value='')))"
      ]
     },
     "metadata": {},
     "output_type": "display_data"
    },
    {
     "name": "stderr",
     "output_type": "stream",
     "text": [
      "[2019-03-08 02:52:52,475][INFO] __main__:26 - b = 0.3434343434343435, f1 = 0.6743295019157088\n"
     ]
    },
    {
     "data": {
      "application/vnd.jupyter.widget-view+json": {
       "model_id": "98afab99f27c4d7db6dffd7f4fcfc0f8",
       "version_major": 2,
       "version_minor": 0
      },
      "text/plain": [
       "HBox(children=(IntProgress(value=0, max=550), HTML(value='')))"
      ]
     },
     "metadata": {},
     "output_type": "display_data"
    },
    {
     "name": "stderr",
     "output_type": "stream",
     "text": [
      "[2019-03-08 02:52:52,672][INFO] __main__:26 - b = 0.3535353535353536, f1 = 0.6666666666666666\n"
     ]
    },
    {
     "data": {
      "application/vnd.jupyter.widget-view+json": {
       "model_id": "93edb6ae2c9d4c96a994009bc5b02db6",
       "version_major": 2,
       "version_minor": 0
      },
      "text/plain": [
       "HBox(children=(IntProgress(value=0, max=536), HTML(value='')))"
      ]
     },
     "metadata": {},
     "output_type": "display_data"
    },
    {
     "name": "stderr",
     "output_type": "stream",
     "text": [
      "[2019-03-08 02:52:52,842][INFO] __main__:26 - b = 0.36363636363636365, f1 = 0.6666666666666666\n"
     ]
    },
    {
     "data": {
      "application/vnd.jupyter.widget-view+json": {
       "model_id": "45b7ccae53844ae1947feae5580a85ce",
       "version_major": 2,
       "version_minor": 0
      },
      "text/plain": [
       "HBox(children=(IntProgress(value=0, max=524), HTML(value='')))"
      ]
     },
     "metadata": {},
     "output_type": "display_data"
    },
    {
     "name": "stderr",
     "output_type": "stream",
     "text": [
      "[2019-03-08 02:52:53,013][INFO] __main__:26 - b = 0.37373737373737376, f1 = 0.6509803921568627\n"
     ]
    },
    {
     "data": {
      "application/vnd.jupyter.widget-view+json": {
       "model_id": "45052ca7ef7846f0acb1a0c838eb27e6",
       "version_major": 2,
       "version_minor": 0
      },
      "text/plain": [
       "HBox(children=(IntProgress(value=0, max=508), HTML(value='')))"
      ]
     },
     "metadata": {},
     "output_type": "display_data"
    },
    {
     "name": "stderr",
     "output_type": "stream",
     "text": [
      "[2019-03-08 02:52:53,183][INFO] __main__:26 - b = 0.38383838383838387, f1 = 0.6509803921568627\n"
     ]
    },
    {
     "data": {
      "application/vnd.jupyter.widget-view+json": {
       "model_id": "8aa06862dcba4ec690871c119944b25b",
       "version_major": 2,
       "version_minor": 0
      },
      "text/plain": [
       "HBox(children=(IntProgress(value=0, max=488), HTML(value='')))"
      ]
     },
     "metadata": {},
     "output_type": "display_data"
    },
    {
     "name": "stderr",
     "output_type": "stream",
     "text": [
      "[2019-03-08 02:52:53,352][INFO] __main__:26 - b = 0.393939393939394, f1 = 0.6403162055335969\n"
     ]
    },
    {
     "data": {
      "application/vnd.jupyter.widget-view+json": {
       "model_id": "857d6d675dbb4db7a9b8eae323d48cf3",
       "version_major": 2,
       "version_minor": 0
      },
      "text/plain": [
       "HBox(children=(IntProgress(value=0, max=476), HTML(value='')))"
      ]
     },
     "metadata": {},
     "output_type": "display_data"
    },
    {
     "name": "stderr",
     "output_type": "stream",
     "text": [
      "[2019-03-08 02:52:53,520][INFO] __main__:26 - b = 0.4040404040404041, f1 = 0.6428571428571428\n"
     ]
    },
    {
     "data": {
      "application/vnd.jupyter.widget-view+json": {
       "model_id": "174ddc2d41cc4e579c340d7aba5f4896",
       "version_major": 2,
       "version_minor": 0
      },
      "text/plain": [
       "HBox(children=(IntProgress(value=0, max=459), HTML(value='')))"
      ]
     },
     "metadata": {},
     "output_type": "display_data"
    },
    {
     "name": "stderr",
     "output_type": "stream",
     "text": [
      "[2019-03-08 02:52:53,689][INFO] __main__:26 - b = 0.4141414141414142, f1 = 0.632\n"
     ]
    },
    {
     "data": {
      "application/vnd.jupyter.widget-view+json": {
       "model_id": "c763ed573c3b47c9ad5fbb2e1039e900",
       "version_major": 2,
       "version_minor": 0
      },
      "text/plain": [
       "HBox(children=(IntProgress(value=0, max=446), HTML(value='')))"
      ]
     },
     "metadata": {},
     "output_type": "display_data"
    },
    {
     "name": "stderr",
     "output_type": "stream",
     "text": [
      "[2019-03-08 02:52:53,857][INFO] __main__:26 - b = 0.42424242424242425, f1 = 0.632\n"
     ]
    },
    {
     "data": {
      "application/vnd.jupyter.widget-view+json": {
       "model_id": "494903792f3643c39d624959fd00e413",
       "version_major": 2,
       "version_minor": 0
      },
      "text/plain": [
       "HBox(children=(IntProgress(value=0, max=433), HTML(value='')))"
      ]
     },
     "metadata": {},
     "output_type": "display_data"
    },
    {
     "name": "stderr",
     "output_type": "stream",
     "text": [
      "[2019-03-08 02:52:54,025][INFO] __main__:26 - b = 0.43434343434343436, f1 = 0.632\n"
     ]
    },
    {
     "data": {
      "application/vnd.jupyter.widget-view+json": {
       "model_id": "6e4a48b08f7a469984eb61587884ffc2",
       "version_major": 2,
       "version_minor": 0
      },
      "text/plain": [
       "HBox(children=(IntProgress(value=0, max=423), HTML(value='')))"
      ]
     },
     "metadata": {},
     "output_type": "display_data"
    },
    {
     "name": "stderr",
     "output_type": "stream",
     "text": [
      "[2019-03-08 02:52:54,192][INFO] __main__:26 - b = 0.4444444444444445, f1 = 0.632\n"
     ]
    },
    {
     "data": {
      "application/vnd.jupyter.widget-view+json": {
       "model_id": "c36ca06a36d544bba8ed1d15743b58e1",
       "version_major": 2,
       "version_minor": 0
      },
      "text/plain": [
       "HBox(children=(IntProgress(value=0, max=402), HTML(value='')))"
      ]
     },
     "metadata": {},
     "output_type": "display_data"
    },
    {
     "name": "stderr",
     "output_type": "stream",
     "text": [
      "[2019-03-08 02:52:54,359][INFO] __main__:26 - b = 0.4545454545454546, f1 = 0.6290322580645161\n"
     ]
    },
    {
     "data": {
      "application/vnd.jupyter.widget-view+json": {
       "model_id": "3f14c2d932014ae79e632213589a7b27",
       "version_major": 2,
       "version_minor": 0
      },
      "text/plain": [
       "HBox(children=(IntProgress(value=0, max=393), HTML(value='')))"
      ]
     },
     "metadata": {},
     "output_type": "display_data"
    },
    {
     "name": "stderr",
     "output_type": "stream",
     "text": [
      "[2019-03-08 02:52:54,526][INFO] __main__:26 - b = 0.4646464646464647, f1 = 0.6290322580645161\n"
     ]
    },
    {
     "data": {
      "application/vnd.jupyter.widget-view+json": {
       "model_id": "ad3c35f605b2474d870450d4156b2878",
       "version_major": 2,
       "version_minor": 0
      },
      "text/plain": [
       "HBox(children=(IntProgress(value=0, max=381), HTML(value='')))"
      ]
     },
     "metadata": {},
     "output_type": "display_data"
    },
    {
     "name": "stderr",
     "output_type": "stream",
     "text": [
      "[2019-03-08 02:52:54,694][INFO] __main__:26 - b = 0.4747474747474748, f1 = 0.631578947368421\n"
     ]
    },
    {
     "data": {
      "application/vnd.jupyter.widget-view+json": {
       "model_id": "a392f68332b0446a933cbf8a05ea35a3",
       "version_major": 2,
       "version_minor": 0
      },
      "text/plain": [
       "HBox(children=(IntProgress(value=0, max=366), HTML(value='')))"
      ]
     },
     "metadata": {},
     "output_type": "display_data"
    },
    {
     "name": "stderr",
     "output_type": "stream",
     "text": [
      "[2019-03-08 02:52:54,862][INFO] __main__:26 - b = 0.48484848484848486, f1 = 0.631578947368421\n"
     ]
    },
    {
     "data": {
      "application/vnd.jupyter.widget-view+json": {
       "model_id": "4b1acf34465c49baa5de6a28f0e7b678",
       "version_major": 2,
       "version_minor": 0
      },
      "text/plain": [
       "HBox(children=(IntProgress(value=0, max=355), HTML(value='')))"
      ]
     },
     "metadata": {},
     "output_type": "display_data"
    },
    {
     "name": "stderr",
     "output_type": "stream",
     "text": [
      "[2019-03-08 02:52:55,031][INFO] __main__:26 - b = 0.494949494949495, f1 = 0.631578947368421\n"
     ]
    },
    {
     "data": {
      "application/vnd.jupyter.widget-view+json": {
       "model_id": "35d0af4e1686437aafc4a318684a04bd",
       "version_major": 2,
       "version_minor": 0
      },
      "text/plain": [
       "HBox(children=(IntProgress(value=0, max=344), HTML(value='')))"
      ]
     },
     "metadata": {},
     "output_type": "display_data"
    },
    {
     "name": "stderr",
     "output_type": "stream",
     "text": [
      "[2019-03-08 02:52:55,197][INFO] __main__:26 - b = 0.5050505050505051, f1 = 0.6260162601626016\n"
     ]
    },
    {
     "data": {
      "application/vnd.jupyter.widget-view+json": {
       "model_id": "b20d11cc3e514d27b61a125786abd6d5",
       "version_major": 2,
       "version_minor": 0
      },
      "text/plain": [
       "HBox(children=(IntProgress(value=0, max=335), HTML(value='')))"
      ]
     },
     "metadata": {},
     "output_type": "display_data"
    },
    {
     "name": "stderr",
     "output_type": "stream",
     "text": [
      "[2019-03-08 02:52:55,362][INFO] __main__:26 - b = 0.5151515151515152, f1 = 0.6260162601626016\n"
     ]
    },
    {
     "data": {
      "application/vnd.jupyter.widget-view+json": {
       "model_id": "da332c27a3c741b795734eb8f25e6f21",
       "version_major": 2,
       "version_minor": 0
      },
      "text/plain": [
       "HBox(children=(IntProgress(value=0, max=328), HTML(value='')))"
      ]
     },
     "metadata": {},
     "output_type": "display_data"
    },
    {
     "name": "stderr",
     "output_type": "stream",
     "text": [
      "[2019-03-08 02:52:55,527][INFO] __main__:26 - b = 0.5252525252525253, f1 = 0.6390041493775933\n"
     ]
    },
    {
     "data": {
      "application/vnd.jupyter.widget-view+json": {
       "model_id": "d9f5740eaf8d4b8e94ad52b5cf84b3c0",
       "version_major": 2,
       "version_minor": 0
      },
      "text/plain": [
       "HBox(children=(IntProgress(value=0, max=322), HTML(value='')))"
      ]
     },
     "metadata": {},
     "output_type": "display_data"
    },
    {
     "name": "stderr",
     "output_type": "stream",
     "text": [
      "[2019-03-08 02:52:55,691][INFO] __main__:26 - b = 0.5353535353535354, f1 = 0.6390041493775933\n"
     ]
    },
    {
     "data": {
      "application/vnd.jupyter.widget-view+json": {
       "model_id": "05ca4bc7b1684e0da97261172a4f5e51",
       "version_major": 2,
       "version_minor": 0
      },
      "text/plain": [
       "HBox(children=(IntProgress(value=0, max=314), HTML(value='')))"
      ]
     },
     "metadata": {},
     "output_type": "display_data"
    },
    {
     "name": "stderr",
     "output_type": "stream",
     "text": [
      "[2019-03-08 02:52:55,855][INFO] __main__:26 - b = 0.5454545454545455, f1 = 0.6390041493775933\n"
     ]
    },
    {
     "data": {
      "application/vnd.jupyter.widget-view+json": {
       "model_id": "4400a150bae64895952d6e0c5c27b885",
       "version_major": 2,
       "version_minor": 0
      },
      "text/plain": [
       "HBox(children=(IntProgress(value=0, max=309), HTML(value='')))"
      ]
     },
     "metadata": {},
     "output_type": "display_data"
    },
    {
     "name": "stderr",
     "output_type": "stream",
     "text": [
      "[2019-03-08 02:52:56,020][INFO] __main__:26 - b = 0.5555555555555556, f1 = 0.6390041493775933\n"
     ]
    },
    {
     "data": {
      "application/vnd.jupyter.widget-view+json": {
       "model_id": "a8ca2157f349426a80d50dd4a9f2dbfb",
       "version_major": 2,
       "version_minor": 0
      },
      "text/plain": [
       "HBox(children=(IntProgress(value=0, max=295), HTML(value='')))"
      ]
     },
     "metadata": {},
     "output_type": "display_data"
    },
    {
     "name": "stderr",
     "output_type": "stream",
     "text": [
      "[2019-03-08 02:52:56,183][INFO] __main__:26 - b = 0.5656565656565657, f1 = 0.6333333333333333\n"
     ]
    },
    {
     "data": {
      "application/vnd.jupyter.widget-view+json": {
       "model_id": "e9bf34d9f30b4b83b2a4e37053dc1df5",
       "version_major": 2,
       "version_minor": 0
      },
      "text/plain": [
       "HBox(children=(IntProgress(value=0, max=287), HTML(value='')))"
      ]
     },
     "metadata": {},
     "output_type": "display_data"
    },
    {
     "name": "stderr",
     "output_type": "stream",
     "text": [
      "[2019-03-08 02:52:56,346][INFO] __main__:26 - b = 0.5757575757575758, f1 = 0.6333333333333333\n"
     ]
    },
    {
     "data": {
      "application/vnd.jupyter.widget-view+json": {
       "model_id": "31f2eb82a8404ab7b953197bd97597c9",
       "version_major": 2,
       "version_minor": 0
      },
      "text/plain": [
       "HBox(children=(IntProgress(value=0, max=277), HTML(value='')))"
      ]
     },
     "metadata": {},
     "output_type": "display_data"
    },
    {
     "name": "stderr",
     "output_type": "stream",
     "text": [
      "[2019-03-08 02:52:56,510][INFO] __main__:26 - b = 0.5858585858585859, f1 = 0.6333333333333333\n"
     ]
    },
    {
     "data": {
      "application/vnd.jupyter.widget-view+json": {
       "model_id": "c89707aef1c9420bb8f3eb1339fd4f55",
       "version_major": 2,
       "version_minor": 0
      },
      "text/plain": [
       "HBox(children=(IntProgress(value=0, max=267), HTML(value='')))"
      ]
     },
     "metadata": {},
     "output_type": "display_data"
    },
    {
     "name": "stderr",
     "output_type": "stream",
     "text": [
      "[2019-03-08 02:52:56,672][INFO] __main__:26 - b = 0.595959595959596, f1 = 0.6333333333333333\n"
     ]
    },
    {
     "data": {
      "application/vnd.jupyter.widget-view+json": {
       "model_id": "b6d26bb3602b4581b9c29f2899944353",
       "version_major": 2,
       "version_minor": 0
      },
      "text/plain": [
       "HBox(children=(IntProgress(value=0, max=262), HTML(value='')))"
      ]
     },
     "metadata": {},
     "output_type": "display_data"
    },
    {
     "name": "stderr",
     "output_type": "stream",
     "text": [
      "[2019-03-08 02:52:56,835][INFO] __main__:26 - b = 0.6060606060606061, f1 = 0.6333333333333333\n"
     ]
    },
    {
     "data": {
      "application/vnd.jupyter.widget-view+json": {
       "model_id": "124316e06f90468aa6c38f2a22f1a60d",
       "version_major": 2,
       "version_minor": 0
      },
      "text/plain": [
       "HBox(children=(IntProgress(value=0, max=260), HTML(value='')))"
      ]
     },
     "metadata": {},
     "output_type": "display_data"
    },
    {
     "name": "stderr",
     "output_type": "stream",
     "text": [
      "[2019-03-08 02:52:56,998][INFO] __main__:26 - b = 0.6161616161616162, f1 = 0.6333333333333333\n"
     ]
    },
    {
     "data": {
      "application/vnd.jupyter.widget-view+json": {
       "model_id": "013fbec6388d4367b964758c7b78b5a6",
       "version_major": 2,
       "version_minor": 0
      },
      "text/plain": [
       "HBox(children=(IntProgress(value=0, max=252), HTML(value='')))"
      ]
     },
     "metadata": {},
     "output_type": "display_data"
    },
    {
     "name": "stderr",
     "output_type": "stream",
     "text": [
      "[2019-03-08 02:52:57,161][INFO] __main__:26 - b = 0.6262626262626263, f1 = 0.6218487394957983\n"
     ]
    },
    {
     "data": {
      "application/vnd.jupyter.widget-view+json": {
       "model_id": "0ce63a03536444ffaed2a1333d544eba",
       "version_major": 2,
       "version_minor": 0
      },
      "text/plain": [
       "HBox(children=(IntProgress(value=0, max=246), HTML(value='')))"
      ]
     },
     "metadata": {},
     "output_type": "display_data"
    },
    {
     "name": "stderr",
     "output_type": "stream",
     "text": [
      "[2019-03-08 02:52:57,323][INFO] __main__:26 - b = 0.6363636363636365, f1 = 0.6160337552742615\n"
     ]
    },
    {
     "data": {
      "application/vnd.jupyter.widget-view+json": {
       "model_id": "6bb3d44d4d7d48d2959e3e27bf6eec6d",
       "version_major": 2,
       "version_minor": 0
      },
      "text/plain": [
       "HBox(children=(IntProgress(value=0, max=245), HTML(value='')))"
      ]
     },
     "metadata": {},
     "output_type": "display_data"
    },
    {
     "name": "stderr",
     "output_type": "stream",
     "text": [
      "[2019-03-08 02:52:57,485][INFO] __main__:26 - b = 0.6464646464646465, f1 = 0.6101694915254238\n"
     ]
    },
    {
     "data": {
      "application/vnd.jupyter.widget-view+json": {
       "model_id": "124007e0d71a41e59cbe67580517b72f",
       "version_major": 2,
       "version_minor": 0
      },
      "text/plain": [
       "HBox(children=(IntProgress(value=0, max=241), HTML(value='')))"
      ]
     },
     "metadata": {},
     "output_type": "display_data"
    },
    {
     "name": "stderr",
     "output_type": "stream",
     "text": [
      "[2019-03-08 02:52:57,647][INFO] __main__:26 - b = 0.6565656565656566, f1 = 0.6101694915254238\n"
     ]
    },
    {
     "data": {
      "application/vnd.jupyter.widget-view+json": {
       "model_id": "21337e3fa3354c6e8a28cfe76b642486",
       "version_major": 2,
       "version_minor": 0
      },
      "text/plain": [
       "HBox(children=(IntProgress(value=0, max=239), HTML(value='')))"
      ]
     },
     "metadata": {},
     "output_type": "display_data"
    },
    {
     "name": "stderr",
     "output_type": "stream",
     "text": [
      "[2019-03-08 02:52:57,809][INFO] __main__:26 - b = 0.6666666666666667, f1 = 0.6101694915254238\n"
     ]
    },
    {
     "data": {
      "application/vnd.jupyter.widget-view+json": {
       "model_id": "24555761937340378b4f02b27927c500",
       "version_major": 2,
       "version_minor": 0
      },
      "text/plain": [
       "HBox(children=(IntProgress(value=0, max=234), HTML(value='')))"
      ]
     },
     "metadata": {},
     "output_type": "display_data"
    },
    {
     "name": "stderr",
     "output_type": "stream",
     "text": [
      "[2019-03-08 02:52:57,970][INFO] __main__:26 - b = 0.6767676767676768, f1 = 0.6042553191489363\n"
     ]
    },
    {
     "data": {
      "application/vnd.jupyter.widget-view+json": {
       "model_id": "93bcc79a5a7b48ef9de7c1ea167a84a1",
       "version_major": 2,
       "version_minor": 0
      },
      "text/plain": [
       "HBox(children=(IntProgress(value=0, max=229), HTML(value='')))"
      ]
     },
     "metadata": {},
     "output_type": "display_data"
    },
    {
     "name": "stderr",
     "output_type": "stream",
     "text": [
      "[2019-03-08 02:52:58,132][INFO] __main__:26 - b = 0.686868686868687, f1 = 0.5982905982905983\n"
     ]
    },
    {
     "data": {
      "application/vnd.jupyter.widget-view+json": {
       "model_id": "31613644243a46d8bc4ad1f978471412",
       "version_major": 2,
       "version_minor": 0
      },
      "text/plain": [
       "HBox(children=(IntProgress(value=0, max=224), HTML(value='')))"
      ]
     },
     "metadata": {},
     "output_type": "display_data"
    },
    {
     "name": "stderr",
     "output_type": "stream",
     "text": [
      "[2019-03-08 02:52:58,293][INFO] __main__:26 - b = 0.696969696969697, f1 = 0.6008583690987124\n"
     ]
    },
    {
     "data": {
      "application/vnd.jupyter.widget-view+json": {
       "model_id": "d1e4acfbff49492aa4932f0ab18c78b1",
       "version_major": 2,
       "version_minor": 0
      },
      "text/plain": [
       "HBox(children=(IntProgress(value=0, max=222), HTML(value='')))"
      ]
     },
     "metadata": {},
     "output_type": "display_data"
    },
    {
     "name": "stderr",
     "output_type": "stream",
     "text": [
      "[2019-03-08 02:52:58,454][INFO] __main__:26 - b = 0.7070707070707072, f1 = 0.603448275862069\n"
     ]
    },
    {
     "data": {
      "application/vnd.jupyter.widget-view+json": {
       "model_id": "26426923ad024bcdbfa6afd5f57dd6d4",
       "version_major": 2,
       "version_minor": 0
      },
      "text/plain": [
       "HBox(children=(IntProgress(value=0, max=219), HTML(value='')))"
      ]
     },
     "metadata": {},
     "output_type": "display_data"
    },
    {
     "name": "stderr",
     "output_type": "stream",
     "text": [
      "[2019-03-08 02:52:58,615][INFO] __main__:26 - b = 0.7171717171717172, f1 = 0.603448275862069\n"
     ]
    },
    {
     "data": {
      "application/vnd.jupyter.widget-view+json": {
       "model_id": "39b1c69e1ad94f3e837652aa2d37746c",
       "version_major": 2,
       "version_minor": 0
      },
      "text/plain": [
       "HBox(children=(IntProgress(value=0, max=208), HTML(value='')))"
      ]
     },
     "metadata": {},
     "output_type": "display_data"
    },
    {
     "name": "stderr",
     "output_type": "stream",
     "text": [
      "[2019-03-08 02:52:58,778][INFO] __main__:26 - b = 0.7272727272727273, f1 = 0.5851528384279476\n"
     ]
    },
    {
     "data": {
      "application/vnd.jupyter.widget-view+json": {
       "model_id": "287b9ada12b04553a5818ff742d03061",
       "version_major": 2,
       "version_minor": 0
      },
      "text/plain": [
       "HBox(children=(IntProgress(value=0, max=201), HTML(value='')))"
      ]
     },
     "metadata": {},
     "output_type": "display_data"
    },
    {
     "name": "stderr",
     "output_type": "stream",
     "text": [
      "[2019-03-08 02:52:58,940][INFO] __main__:26 - b = 0.7373737373737375, f1 = 0.5789473684210527\n"
     ]
    },
    {
     "data": {
      "application/vnd.jupyter.widget-view+json": {
       "model_id": "5b87d33703e541d88f8c773228a604b7",
       "version_major": 2,
       "version_minor": 0
      },
      "text/plain": [
       "HBox(children=(IntProgress(value=0, max=194), HTML(value='')))"
      ]
     },
     "metadata": {},
     "output_type": "display_data"
    },
    {
     "name": "stderr",
     "output_type": "stream",
     "text": [
      "[2019-03-08 02:52:59,102][INFO] __main__:26 - b = 0.7474747474747475, f1 = 0.5688888888888889\n"
     ]
    },
    {
     "data": {
      "application/vnd.jupyter.widget-view+json": {
       "model_id": "613d855d5cd042f79f9146e18843fa11",
       "version_major": 2,
       "version_minor": 0
      },
      "text/plain": [
       "HBox(children=(IntProgress(value=0, max=188), HTML(value='')))"
      ]
     },
     "metadata": {},
     "output_type": "display_data"
    },
    {
     "name": "stderr",
     "output_type": "stream",
     "text": [
      "[2019-03-08 02:52:59,265][INFO] __main__:26 - b = 0.7575757575757577, f1 = 0.5688888888888889\n"
     ]
    },
    {
     "data": {
      "application/vnd.jupyter.widget-view+json": {
       "model_id": "21b4c101d5f94512948a2323b3d8d3b6",
       "version_major": 2,
       "version_minor": 0
      },
      "text/plain": [
       "HBox(children=(IntProgress(value=0, max=182), HTML(value='')))"
      ]
     },
     "metadata": {},
     "output_type": "display_data"
    },
    {
     "name": "stderr",
     "output_type": "stream",
     "text": [
      "[2019-03-08 02:52:59,436][INFO] __main__:26 - b = 0.7676767676767677, f1 = 0.5688888888888889\n"
     ]
    },
    {
     "data": {
      "application/vnd.jupyter.widget-view+json": {
       "model_id": "cc52dd81d1e2407ab2d687e170a47e9c",
       "version_major": 2,
       "version_minor": 0
      },
      "text/plain": [
       "HBox(children=(IntProgress(value=0, max=176), HTML(value='')))"
      ]
     },
     "metadata": {},
     "output_type": "display_data"
    },
    {
     "name": "stderr",
     "output_type": "stream",
     "text": [
      "[2019-03-08 02:52:59,605][INFO] __main__:26 - b = 0.7777777777777778, f1 = 0.5688888888888889\n"
     ]
    },
    {
     "data": {
      "application/vnd.jupyter.widget-view+json": {
       "model_id": "52d5f35526a54972989d046196ef9246",
       "version_major": 2,
       "version_minor": 0
      },
      "text/plain": [
       "HBox(children=(IntProgress(value=0, max=171), HTML(value='')))"
      ]
     },
     "metadata": {},
     "output_type": "display_data"
    },
    {
     "name": "stderr",
     "output_type": "stream",
     "text": [
      "[2019-03-08 02:52:59,768][INFO] __main__:26 - b = 0.787878787878788, f1 = 0.5429864253393665\n"
     ]
    },
    {
     "data": {
      "application/vnd.jupyter.widget-view+json": {
       "model_id": "655792aec44c4971bd76c4d5346e1b3b",
       "version_major": 2,
       "version_minor": 0
      },
      "text/plain": [
       "HBox(children=(IntProgress(value=0, max=161), HTML(value='')))"
      ]
     },
     "metadata": {},
     "output_type": "display_data"
    },
    {
     "name": "stderr",
     "output_type": "stream",
     "text": [
      "[2019-03-08 02:52:59,932][INFO] __main__:26 - b = 0.797979797979798, f1 = 0.5296803652968036\n"
     ]
    },
    {
     "data": {
      "application/vnd.jupyter.widget-view+json": {
       "model_id": "70153927ddec4b2fa5a6e8de23bbabcc",
       "version_major": 2,
       "version_minor": 0
      },
      "text/plain": [
       "HBox(children=(IntProgress(value=0, max=145), HTML(value='')))"
      ]
     },
     "metadata": {},
     "output_type": "display_data"
    },
    {
     "name": "stderr",
     "output_type": "stream",
     "text": [
      "[2019-03-08 02:53:00,092][INFO] __main__:26 - b = 0.8080808080808082, f1 = 0.5092592592592592\n"
     ]
    },
    {
     "data": {
      "application/vnd.jupyter.widget-view+json": {
       "model_id": "010f191d4e1d4d54b700b71bf6d725c0",
       "version_major": 2,
       "version_minor": 0
      },
      "text/plain": [
       "HBox(children=(IntProgress(value=0, max=136), HTML(value='')))"
      ]
     },
     "metadata": {},
     "output_type": "display_data"
    },
    {
     "name": "stderr",
     "output_type": "stream",
     "text": [
      "[2019-03-08 02:53:00,251][INFO] __main__:26 - b = 0.8181818181818182, f1 = 0.4953271028037383\n"
     ]
    },
    {
     "data": {
      "application/vnd.jupyter.widget-view+json": {
       "model_id": "221c6b427d73467b8b0497a613fa2b10",
       "version_major": 2,
       "version_minor": 0
      },
      "text/plain": [
       "HBox(children=(IntProgress(value=0, max=125), HTML(value='')))"
      ]
     },
     "metadata": {},
     "output_type": "display_data"
    },
    {
     "name": "stderr",
     "output_type": "stream",
     "text": [
      "[2019-03-08 02:53:00,422][INFO] __main__:26 - b = 0.8282828282828284, f1 = 0.47393364928909953\n"
     ]
    },
    {
     "data": {
      "application/vnd.jupyter.widget-view+json": {
       "model_id": "04088b0721b746e6a7f6b40e04f7a9fa",
       "version_major": 2,
       "version_minor": 0
      },
      "text/plain": [
       "HBox(children=(IntProgress(value=0, max=118), HTML(value='')))"
      ]
     },
     "metadata": {},
     "output_type": "display_data"
    },
    {
     "name": "stderr",
     "output_type": "stream",
     "text": [
      "[2019-03-08 02:53:00,581][INFO] __main__:26 - b = 0.8383838383838385, f1 = 0.4593301435406699\n"
     ]
    },
    {
     "data": {
      "application/vnd.jupyter.widget-view+json": {
       "model_id": "7a666bd7769d4756b4c38744b6733625",
       "version_major": 2,
       "version_minor": 0
      },
      "text/plain": [
       "HBox(children=(IntProgress(value=0, max=111), HTML(value='')))"
      ]
     },
     "metadata": {},
     "output_type": "display_data"
    },
    {
     "name": "stderr",
     "output_type": "stream",
     "text": [
      "[2019-03-08 02:53:00,740][INFO] __main__:26 - b = 0.8484848484848485, f1 = 0.44444444444444436\n"
     ]
    },
    {
     "data": {
      "application/vnd.jupyter.widget-view+json": {
       "model_id": "e3975a82370c40d6a46d576095ec7c8a",
       "version_major": 2,
       "version_minor": 0
      },
      "text/plain": [
       "HBox(children=(IntProgress(value=0, max=103), HTML(value='')))"
      ]
     },
     "metadata": {},
     "output_type": "display_data"
    },
    {
     "name": "stderr",
     "output_type": "stream",
     "text": [
      "[2019-03-08 02:53:00,897][INFO] __main__:26 - b = 0.8585858585858587, f1 = 0.3980099502487562\n"
     ]
    },
    {
     "data": {
      "application/vnd.jupyter.widget-view+json": {
       "model_id": "290f813ae6b14f30af85987ebaaf1286",
       "version_major": 2,
       "version_minor": 0
      },
      "text/plain": [
       "HBox(children=(IntProgress(value=0, max=94), HTML(value='')))"
      ]
     },
     "metadata": {},
     "output_type": "display_data"
    },
    {
     "name": "stderr",
     "output_type": "stream",
     "text": [
      "[2019-03-08 02:53:01,055][INFO] __main__:26 - b = 0.8686868686868687, f1 = 0.35714285714285715\n"
     ]
    },
    {
     "data": {
      "application/vnd.jupyter.widget-view+json": {
       "model_id": "86b1c6c7bc954524a59b34b11f23e3ec",
       "version_major": 2,
       "version_minor": 0
      },
      "text/plain": [
       "HBox(children=(IntProgress(value=0, max=81), HTML(value='')))"
      ]
     },
     "metadata": {},
     "output_type": "display_data"
    },
    {
     "name": "stderr",
     "output_type": "stream",
     "text": [
      "[2019-03-08 02:53:01,213][INFO] __main__:26 - b = 0.8787878787878789, f1 = 0.35051546391752575\n"
     ]
    },
    {
     "data": {
      "application/vnd.jupyter.widget-view+json": {
       "model_id": "cf7c256e86e6461fbf0a14cb8bd323d5",
       "version_major": 2,
       "version_minor": 0
      },
      "text/plain": [
       "HBox(children=(IntProgress(value=0, max=65), HTML(value='')))"
      ]
     },
     "metadata": {},
     "output_type": "display_data"
    },
    {
     "name": "stderr",
     "output_type": "stream",
     "text": [
      "[2019-03-08 02:53:01,370][INFO] __main__:26 - b = 0.888888888888889, f1 = 0.2622950819672131\n"
     ]
    },
    {
     "data": {
      "application/vnd.jupyter.widget-view+json": {
       "model_id": "93f1e86c403f4608a1144148ef484164",
       "version_major": 2,
       "version_minor": 0
      },
      "text/plain": [
       "HBox(children=(IntProgress(value=0, max=56), HTML(value='')))"
      ]
     },
     "metadata": {},
     "output_type": "display_data"
    },
    {
     "name": "stderr",
     "output_type": "stream",
     "text": [
      "[2019-03-08 02:53:01,527][INFO] __main__:26 - b = 0.8989898989898991, f1 = 0.24309392265193366\n"
     ]
    },
    {
     "data": {
      "application/vnd.jupyter.widget-view+json": {
       "model_id": "3a8ccaea5d1142e29e4d313e26da22a7",
       "version_major": 2,
       "version_minor": 0
      },
      "text/plain": [
       "HBox(children=(IntProgress(value=0, max=44), HTML(value='')))"
      ]
     },
     "metadata": {},
     "output_type": "display_data"
    },
    {
     "name": "stderr",
     "output_type": "stream",
     "text": [
      "[2019-03-08 02:53:01,684][INFO] __main__:26 - b = 0.9090909090909092, f1 = 0.19318181818181815\n"
     ]
    },
    {
     "data": {
      "application/vnd.jupyter.widget-view+json": {
       "model_id": "feb84eb48abe41a69f93622e23299452",
       "version_major": 2,
       "version_minor": 0
      },
      "text/plain": [
       "HBox(children=(IntProgress(value=0, max=43), HTML(value='')))"
      ]
     },
     "metadata": {},
     "output_type": "display_data"
    },
    {
     "name": "stderr",
     "output_type": "stream",
     "text": [
      "[2019-03-08 02:53:01,841][INFO] __main__:26 - b = 0.9191919191919192, f1 = 0.1954022988505747\n"
     ]
    },
    {
     "data": {
      "application/vnd.jupyter.widget-view+json": {
       "model_id": "b8057b1d58c143fc843b89e9b90d2469",
       "version_major": 2,
       "version_minor": 0
      },
      "text/plain": [
       "HBox(children=(IntProgress(value=0, max=35), HTML(value='')))"
      ]
     },
     "metadata": {},
     "output_type": "display_data"
    },
    {
     "name": "stderr",
     "output_type": "stream",
     "text": [
      "[2019-03-08 02:53:01,997][INFO] __main__:26 - b = 0.9292929292929294, f1 = 0.15294117647058825\n"
     ]
    },
    {
     "data": {
      "application/vnd.jupyter.widget-view+json": {
       "model_id": "f269d710ac7e428693681a5077dec266",
       "version_major": 2,
       "version_minor": 0
      },
      "text/plain": [
       "HBox(children=(IntProgress(value=0, max=30), HTML(value='')))"
      ]
     },
     "metadata": {},
     "output_type": "display_data"
    },
    {
     "name": "stderr",
     "output_type": "stream",
     "text": [
      "[2019-03-08 02:53:02,153][INFO] __main__:26 - b = 0.9393939393939394, f1 = 0.15294117647058825\n"
     ]
    },
    {
     "data": {
      "application/vnd.jupyter.widget-view+json": {
       "model_id": "ee37ef288abc419a93ff6472d58e5b0f",
       "version_major": 2,
       "version_minor": 0
      },
      "text/plain": [
       "HBox(children=(IntProgress(value=0, max=22), HTML(value='')))"
      ]
     },
     "metadata": {},
     "output_type": "display_data"
    },
    {
     "name": "stderr",
     "output_type": "stream",
     "text": [
      "[2019-03-08 02:53:02,309][INFO] __main__:26 - b = 0.9494949494949496, f1 = 0.11976047904191617\n"
     ]
    },
    {
     "data": {
      "application/vnd.jupyter.widget-view+json": {
       "model_id": "97c4f2e7d43347cd98c0243a4ea7e8ce",
       "version_major": 2,
       "version_minor": 0
      },
      "text/plain": [
       "HBox(children=(IntProgress(value=0, max=16), HTML(value='')))"
      ]
     },
     "metadata": {},
     "output_type": "display_data"
    },
    {
     "name": "stderr",
     "output_type": "stream",
     "text": [
      "[2019-03-08 02:53:02,465][INFO] __main__:26 - b = 0.9595959595959597, f1 = 0.10909090909090909\n"
     ]
    },
    {
     "data": {
      "application/vnd.jupyter.widget-view+json": {
       "model_id": "a914a56d81864431a53bcf24d76c7d27",
       "version_major": 2,
       "version_minor": 0
      },
      "text/plain": [
       "HBox(children=(IntProgress(value=0, max=7), HTML(value='')))"
      ]
     },
     "metadata": {},
     "output_type": "display_data"
    },
    {
     "name": "stderr",
     "output_type": "stream",
     "text": [
      "[2019-03-08 02:53:02,623][INFO] __main__:26 - b = 0.9696969696969697, f1 = 0.012903225806451615\n"
     ]
    },
    {
     "data": {
      "application/vnd.jupyter.widget-view+json": {
       "model_id": "3947bfef7a184f1e87236313c7855cf5",
       "version_major": 2,
       "version_minor": 0
      },
      "text/plain": [
       "HBox(children=(IntProgress(value=0, max=3), HTML(value='')))"
      ]
     },
     "metadata": {},
     "output_type": "display_data"
    },
    {
     "name": "stderr",
     "output_type": "stream",
     "text": [
      "[2019-03-08 02:53:02,778][INFO] __main__:26 - b = 0.9797979797979799, f1 = 0.012903225806451615\n",
      "[2019-03-08 02:53:02,790][INFO] __main__:34 - ===================================================\n",
      "[2019-03-08 02:53:02,791][INFO] __main__:35 - Scoring on Entity-Level Gold Data with b=0.0\n",
      "[2019-03-08 02:53:02,792][INFO] __main__:36 - ===================================================\n",
      "[2019-03-08 02:53:02,793][INFO] __main__:37 - Corpus Precision 0.855\n",
      "[2019-03-08 02:53:02,794][INFO] __main__:38 - Corpus Recall    0.922\n",
      "[2019-03-08 02:53:02,794][INFO] __main__:39 - Corpus F1        0.887\n",
      "[2019-03-08 02:53:02,795][INFO] __main__:40 - ---------------------------------------------------\n",
      "[2019-03-08 02:53:02,796][INFO] __main__:42 - TP: 141 | FP: 24 | FN: 12\n",
      "[2019-03-08 02:53:02,797][INFO] __main__:46 - ===================================================\n",
      "\n"
     ]
    }
   ],
   "source": [
    "marginals = generative_model(L_train[2])\n",
    "disc_model1 = discriminative_model(train_cands[2], F_train[2], marginals, n_epochs=100)\n",
    "\n",
    "relation = 'polarity'\n",
    "best_result, best_b = scoring(\n",
    "    relation, disc_model1, test_cands[2], test_docs, F_test[2], parts_by_doc, num=100\n",
    ")"
   ]
  },
  {
   "cell_type": "code",
   "execution_count": 28,
   "metadata": {
    "scrolled": true
   },
   "outputs": [
    {
     "name": "stderr",
     "output_type": "stream",
     "text": [
      "[2019-03-08 02:10:31,873][INFO] __main__:4 - Training generative model...\n"
     ]
    },
    {
     "name": "stdout",
     "output_type": "stream",
     "text": [
      "Computing O...\n",
      "Estimating \\mu...\n",
      "[E:0]\tTrain Loss: 27.843\n",
      "[E:100]\tTrain Loss: 0.097\n",
      "[E:200]\tTrain Loss: 0.092\n",
      "[E:300]\tTrain Loss: 0.091\n",
      "[E:400]\tTrain Loss: 0.091\n"
     ]
    },
    {
     "name": "stderr",
     "output_type": "stream",
     "text": [
      "[2019-03-08 02:10:34,322][INFO] __main__:6 - Done.\n",
      "[2019-03-08 02:10:34,363][INFO] __main__:4 - Training discriminative model...\n",
      "[2019-03-08 02:10:34,366][INFO] fonduer.learning.classifier:142 - Loading default parameters for Sparse Logistic Regression\n",
      "[2019-03-08 02:10:34,431][INFO] fonduer.learning.classifier:193 - Using GPU...\n",
      "[2019-03-08 02:10:34,432][INFO] fonduer.learning.classifier:195 - Settings: {'n_epochs': 100, 'lr': 0.001, 'batch_size': 256, 'shuffle': True, 'seed': 1234, 'host_device': 'GPU', 'bias': False, 'input_dim': 55128}\n",
      "[2019-03-08 02:10:34,449][INFO] fonduer.learning.classifier:213 - [SparseLogisticRegression] Training model\n",
      "[2019-03-08 02:10:34,450][INFO] fonduer.learning.classifier:215 - [SparseLogisticRegression] n_train=17506 #epochs=100 batch size=256\n"
     ]
    },
    {
     "name": "stdout",
     "output_type": "stream",
     "text": [
      "[E:499]\tTrain Loss: 0.091\n",
      "Finished Training\n"
     ]
    },
    {
     "name": "stderr",
     "output_type": "stream",
     "text": [
      "[2019-03-08 02:10:36,489][INFO] fonduer.learning.classifier:262 - [SparseLogisticRegression] Epoch 1 (2.04s)\tAverage loss=0.385586\n",
      "[2019-03-08 02:10:43,719][INFO] fonduer.learning.classifier:262 - [SparseLogisticRegression] Epoch 5 (9.27s)\tAverage loss=0.301332\n",
      "[2019-03-08 02:10:52,574][INFO] fonduer.learning.classifier:262 - [SparseLogisticRegression] Epoch 10 (18.12s)\tAverage loss=0.297307\n",
      "[2019-03-08 02:11:01,369][INFO] fonduer.learning.classifier:262 - [SparseLogisticRegression] Epoch 15 (26.92s)\tAverage loss=0.295298\n",
      "[2019-03-08 02:11:10,872][INFO] fonduer.learning.classifier:262 - [SparseLogisticRegression] Epoch 20 (36.42s)\tAverage loss=0.295058\n",
      "[2019-03-08 02:11:20,253][INFO] fonduer.learning.classifier:262 - [SparseLogisticRegression] Epoch 25 (45.80s)\tAverage loss=0.294835\n",
      "[2019-03-08 02:11:30,416][INFO] fonduer.learning.classifier:262 - [SparseLogisticRegression] Epoch 30 (55.97s)\tAverage loss=0.294493\n",
      "[2019-03-08 02:11:39,480][INFO] fonduer.learning.classifier:262 - [SparseLogisticRegression] Epoch 35 (65.03s)\tAverage loss=0.293848\n",
      "[2019-03-08 02:11:48,167][INFO] fonduer.learning.classifier:262 - [SparseLogisticRegression] Epoch 40 (73.72s)\tAverage loss=0.294231\n",
      "[2019-03-08 02:11:57,858][INFO] fonduer.learning.classifier:262 - [SparseLogisticRegression] Epoch 45 (83.41s)\tAverage loss=0.293878\n",
      "[2019-03-08 02:12:07,521][INFO] fonduer.learning.classifier:262 - [SparseLogisticRegression] Epoch 50 (93.07s)\tAverage loss=0.293853\n",
      "[2019-03-08 02:12:17,413][INFO] fonduer.learning.classifier:262 - [SparseLogisticRegression] Epoch 55 (102.96s)\tAverage loss=0.294048\n",
      "[2019-03-08 02:12:27,600][INFO] fonduer.learning.classifier:262 - [SparseLogisticRegression] Epoch 60 (113.15s)\tAverage loss=0.293606\n",
      "[2019-03-08 02:12:38,784][INFO] fonduer.learning.classifier:262 - [SparseLogisticRegression] Epoch 65 (124.33s)\tAverage loss=0.293497\n",
      "[2019-03-08 02:12:47,564][INFO] fonduer.learning.classifier:262 - [SparseLogisticRegression] Epoch 70 (133.12s)\tAverage loss=0.293946\n",
      "[2019-03-08 02:12:56,571][INFO] fonduer.learning.classifier:262 - [SparseLogisticRegression] Epoch 75 (142.12s)\tAverage loss=0.294061\n",
      "[2019-03-08 02:13:06,269][INFO] fonduer.learning.classifier:262 - [SparseLogisticRegression] Epoch 80 (151.82s)\tAverage loss=0.293443\n",
      "[2019-03-08 02:13:15,105][INFO] fonduer.learning.classifier:262 - [SparseLogisticRegression] Epoch 85 (160.66s)\tAverage loss=0.293341\n",
      "[2019-03-08 02:13:24,450][INFO] fonduer.learning.classifier:262 - [SparseLogisticRegression] Epoch 90 (170.00s)\tAverage loss=0.294047\n",
      "[2019-03-08 02:13:33,522][INFO] fonduer.learning.classifier:262 - [SparseLogisticRegression] Epoch 95 (179.07s)\tAverage loss=0.294103\n",
      "[2019-03-08 02:13:42,798][INFO] fonduer.learning.classifier:262 - [SparseLogisticRegression] Epoch 100 (188.35s)\tAverage loss=0.293693\n",
      "[2019-03-08 02:13:42,801][INFO] fonduer.learning.classifier:278 - [SparseLogisticRegression] Training done (188.35s)\n",
      "[2019-03-08 02:13:42,809][INFO] __main__:12 - Done.\n",
      "[2019-03-08 02:13:42,810][INFO] __main__:2 - Calculating the best F1 score and threshold (b)...\n",
      "[2019-03-08 02:13:42,861][INFO] __main__:34 - ===================================================\n",
      "[2019-03-08 02:13:42,862][INFO] __main__:35 - Scoring on Entity-Level Gold Data with b=0\n",
      "[2019-03-08 02:13:42,862][INFO] __main__:36 - ===================================================\n",
      "[2019-03-08 02:13:42,863][INFO] __main__:37 - Corpus Precision 0.000\n",
      "[2019-03-08 02:13:42,864][INFO] __main__:38 - Corpus Recall    0.000\n",
      "[2019-03-08 02:13:42,865][INFO] __main__:39 - Corpus F1        0.000\n",
      "[2019-03-08 02:13:42,865][INFO] __main__:40 - ---------------------------------------------------\n",
      "[2019-03-08 02:13:42,866][INFO] __main__:42 - TP: 0 | FP: 0 | FN: 0\n",
      "[2019-03-08 02:13:42,867][INFO] __main__:46 - ===================================================\n",
      "\n"
     ]
    }
   ],
   "source": [
    "marginals = generative_model(L_train[3])\n",
    "disc_model1 = discriminative_model(train_cands[3], F_train[3], marginals, n_epochs=100)"
   ]
  },
  {
   "cell_type": "code",
   "execution_count": 30,
   "metadata": {
    "scrolled": true
   },
   "outputs": [
    {
     "name": "stderr",
     "output_type": "stream",
     "text": [
      "[2019-03-08 02:14:55,355][INFO] __main__:2 - Calculating the best F1 score and threshold (b)...\n"
     ]
    },
    {
     "data": {
      "application/vnd.jupyter.widget-view+json": {
       "model_id": "966f0fffe6684081970ace9d51a809db",
       "version_major": 2,
       "version_minor": 0
      },
      "text/plain": [
       "HBox(children=(IntProgress(value=0, max=789), HTML(value='')))"
      ]
     },
     "metadata": {},
     "output_type": "display_data"
    },
    {
     "name": "stderr",
     "output_type": "stream",
     "text": [
      "[2019-03-08 02:15:00,396][INFO] __main__:26 - b = 0.0, f1 = 0.8178694158075602\n"
     ]
    },
    {
     "data": {
      "application/vnd.jupyter.widget-view+json": {
       "model_id": "3b541d160aa24539a666cfd2b19fa4e2",
       "version_major": 2,
       "version_minor": 0
      },
      "text/plain": [
       "HBox(children=(IntProgress(value=0, max=789), HTML(value='')))"
      ]
     },
     "metadata": {},
     "output_type": "display_data"
    },
    {
     "name": "stderr",
     "output_type": "stream",
     "text": [
      "[2019-03-08 02:15:00,576][INFO] __main__:26 - b = 0.010101010101010102, f1 = 0.8178694158075602\n"
     ]
    },
    {
     "data": {
      "application/vnd.jupyter.widget-view+json": {
       "model_id": "d4ac3c9bdc1b47b0b7a42160b2f70ade",
       "version_major": 2,
       "version_minor": 0
      },
      "text/plain": [
       "HBox(children=(IntProgress(value=0, max=789), HTML(value='')))"
      ]
     },
     "metadata": {},
     "output_type": "display_data"
    },
    {
     "name": "stderr",
     "output_type": "stream",
     "text": [
      "[2019-03-08 02:15:00,811][INFO] __main__:26 - b = 0.020202020202020204, f1 = 0.8178694158075602\n"
     ]
    },
    {
     "data": {
      "application/vnd.jupyter.widget-view+json": {
       "model_id": "c36a0ce14705492ab58768f0d63276bb",
       "version_major": 2,
       "version_minor": 0
      },
      "text/plain": [
       "HBox(children=(IntProgress(value=0, max=789), HTML(value='')))"
      ]
     },
     "metadata": {},
     "output_type": "display_data"
    },
    {
     "name": "stderr",
     "output_type": "stream",
     "text": [
      "[2019-03-08 02:15:00,991][INFO] __main__:26 - b = 0.030303030303030304, f1 = 0.8178694158075602\n"
     ]
    },
    {
     "data": {
      "application/vnd.jupyter.widget-view+json": {
       "model_id": "86d2762fe4164407aedc6d8eea9ef51c",
       "version_major": 2,
       "version_minor": 0
      },
      "text/plain": [
       "HBox(children=(IntProgress(value=0, max=789), HTML(value='')))"
      ]
     },
     "metadata": {},
     "output_type": "display_data"
    },
    {
     "name": "stderr",
     "output_type": "stream",
     "text": [
      "[2019-03-08 02:15:01,161][INFO] __main__:26 - b = 0.04040404040404041, f1 = 0.8178694158075602\n"
     ]
    },
    {
     "data": {
      "application/vnd.jupyter.widget-view+json": {
       "model_id": "47efac6069de4be5bdfe5978e11a2a2a",
       "version_major": 2,
       "version_minor": 0
      },
      "text/plain": [
       "HBox(children=(IntProgress(value=0, max=789), HTML(value='')))"
      ]
     },
     "metadata": {},
     "output_type": "display_data"
    },
    {
     "name": "stderr",
     "output_type": "stream",
     "text": [
      "[2019-03-08 02:15:01,333][INFO] __main__:26 - b = 0.05050505050505051, f1 = 0.8178694158075602\n"
     ]
    },
    {
     "data": {
      "application/vnd.jupyter.widget-view+json": {
       "model_id": "71be2309bbdb44b094535388930c3cfb",
       "version_major": 2,
       "version_minor": 0
      },
      "text/plain": [
       "HBox(children=(IntProgress(value=0, max=789), HTML(value='')))"
      ]
     },
     "metadata": {},
     "output_type": "display_data"
    },
    {
     "name": "stderr",
     "output_type": "stream",
     "text": [
      "[2019-03-08 02:15:01,504][INFO] __main__:26 - b = 0.06060606060606061, f1 = 0.8178694158075602\n"
     ]
    },
    {
     "data": {
      "application/vnd.jupyter.widget-view+json": {
       "model_id": "9d049879620c466cbd7cf0067e72cef7",
       "version_major": 2,
       "version_minor": 0
      },
      "text/plain": [
       "HBox(children=(IntProgress(value=0, max=789), HTML(value='')))"
      ]
     },
     "metadata": {},
     "output_type": "display_data"
    },
    {
     "name": "stderr",
     "output_type": "stream",
     "text": [
      "[2019-03-08 02:15:01,739][INFO] __main__:26 - b = 0.07070707070707072, f1 = 0.8178694158075602\n"
     ]
    },
    {
     "data": {
      "application/vnd.jupyter.widget-view+json": {
       "model_id": "2fb8ab39684647c285347ed03494af9d",
       "version_major": 2,
       "version_minor": 0
      },
      "text/plain": [
       "HBox(children=(IntProgress(value=0, max=789), HTML(value='')))"
      ]
     },
     "metadata": {},
     "output_type": "display_data"
    },
    {
     "name": "stderr",
     "output_type": "stream",
     "text": [
      "[2019-03-08 02:15:01,946][INFO] __main__:26 - b = 0.08080808080808081, f1 = 0.8178694158075602\n"
     ]
    },
    {
     "data": {
      "application/vnd.jupyter.widget-view+json": {
       "model_id": "6cbbc505cfd5401db1d614c33d047862",
       "version_major": 2,
       "version_minor": 0
      },
      "text/plain": [
       "HBox(children=(IntProgress(value=0, max=789), HTML(value='')))"
      ]
     },
     "metadata": {},
     "output_type": "display_data"
    },
    {
     "name": "stderr",
     "output_type": "stream",
     "text": [
      "[2019-03-08 02:15:02,122][INFO] __main__:26 - b = 0.09090909090909091, f1 = 0.8178694158075602\n"
     ]
    },
    {
     "data": {
      "application/vnd.jupyter.widget-view+json": {
       "model_id": "a7f72ecd17264e268d0f41e4ba21bf44",
       "version_major": 2,
       "version_minor": 0
      },
      "text/plain": [
       "HBox(children=(IntProgress(value=0, max=789), HTML(value='')))"
      ]
     },
     "metadata": {},
     "output_type": "display_data"
    },
    {
     "name": "stderr",
     "output_type": "stream",
     "text": [
      "[2019-03-08 02:15:02,293][INFO] __main__:26 - b = 0.10101010101010102, f1 = 0.8178694158075602\n"
     ]
    },
    {
     "data": {
      "application/vnd.jupyter.widget-view+json": {
       "model_id": "6acfa467ac0f434bb8ee0f8f535809c8",
       "version_major": 2,
       "version_minor": 0
      },
      "text/plain": [
       "HBox(children=(IntProgress(value=0, max=789), HTML(value='')))"
      ]
     },
     "metadata": {},
     "output_type": "display_data"
    },
    {
     "name": "stderr",
     "output_type": "stream",
     "text": [
      "[2019-03-08 02:15:02,466][INFO] __main__:26 - b = 0.11111111111111112, f1 = 0.8178694158075602\n"
     ]
    },
    {
     "data": {
      "application/vnd.jupyter.widget-view+json": {
       "model_id": "f7c575fbe9824153b25db6813a454ee3",
       "version_major": 2,
       "version_minor": 0
      },
      "text/plain": [
       "HBox(children=(IntProgress(value=0, max=789), HTML(value='')))"
      ]
     },
     "metadata": {},
     "output_type": "display_data"
    },
    {
     "name": "stderr",
     "output_type": "stream",
     "text": [
      "[2019-03-08 02:15:02,637][INFO] __main__:26 - b = 0.12121212121212122, f1 = 0.8178694158075602\n"
     ]
    },
    {
     "data": {
      "application/vnd.jupyter.widget-view+json": {
       "model_id": "5b343b1bb4034e039448f2254a17d67f",
       "version_major": 2,
       "version_minor": 0
      },
      "text/plain": [
       "HBox(children=(IntProgress(value=0, max=789), HTML(value='')))"
      ]
     },
     "metadata": {},
     "output_type": "display_data"
    },
    {
     "name": "stderr",
     "output_type": "stream",
     "text": [
      "[2019-03-08 02:15:02,808][INFO] __main__:26 - b = 0.13131313131313133, f1 = 0.8178694158075602\n"
     ]
    },
    {
     "data": {
      "application/vnd.jupyter.widget-view+json": {
       "model_id": "15a5925e50304450b319db04732b8a77",
       "version_major": 2,
       "version_minor": 0
      },
      "text/plain": [
       "HBox(children=(IntProgress(value=0, max=789), HTML(value='')))"
      ]
     },
     "metadata": {},
     "output_type": "display_data"
    },
    {
     "name": "stderr",
     "output_type": "stream",
     "text": [
      "[2019-03-08 02:15:02,981][INFO] __main__:26 - b = 0.14141414141414144, f1 = 0.8178694158075602\n"
     ]
    },
    {
     "data": {
      "application/vnd.jupyter.widget-view+json": {
       "model_id": "e26ccd5b9dbf46bfbc95a6b7d1b74ece",
       "version_major": 2,
       "version_minor": 0
      },
      "text/plain": [
       "HBox(children=(IntProgress(value=0, max=789), HTML(value='')))"
      ]
     },
     "metadata": {},
     "output_type": "display_data"
    },
    {
     "name": "stderr",
     "output_type": "stream",
     "text": [
      "[2019-03-08 02:15:03,160][INFO] __main__:26 - b = 0.15151515151515152, f1 = 0.8178694158075602\n"
     ]
    },
    {
     "data": {
      "application/vnd.jupyter.widget-view+json": {
       "model_id": "76207acdbbd548bea57aba9baf77e74f",
       "version_major": 2,
       "version_minor": 0
      },
      "text/plain": [
       "HBox(children=(IntProgress(value=0, max=789), HTML(value='')))"
      ]
     },
     "metadata": {},
     "output_type": "display_data"
    },
    {
     "name": "stderr",
     "output_type": "stream",
     "text": [
      "[2019-03-08 02:15:03,332][INFO] __main__:26 - b = 0.16161616161616163, f1 = 0.8178694158075602\n"
     ]
    },
    {
     "data": {
      "application/vnd.jupyter.widget-view+json": {
       "model_id": "95ff543b58724586aec9bd3699119086",
       "version_major": 2,
       "version_minor": 0
      },
      "text/plain": [
       "HBox(children=(IntProgress(value=0, max=789), HTML(value='')))"
      ]
     },
     "metadata": {},
     "output_type": "display_data"
    },
    {
     "name": "stderr",
     "output_type": "stream",
     "text": [
      "[2019-03-08 02:15:03,503][INFO] __main__:26 - b = 0.17171717171717174, f1 = 0.8178694158075602\n"
     ]
    },
    {
     "data": {
      "application/vnd.jupyter.widget-view+json": {
       "model_id": "784c9cbf436648fc877eb0ea853b7a70",
       "version_major": 2,
       "version_minor": 0
      },
      "text/plain": [
       "HBox(children=(IntProgress(value=0, max=789), HTML(value='')))"
      ]
     },
     "metadata": {},
     "output_type": "display_data"
    },
    {
     "name": "stderr",
     "output_type": "stream",
     "text": [
      "[2019-03-08 02:15:03,675][INFO] __main__:26 - b = 0.18181818181818182, f1 = 0.8178694158075602\n"
     ]
    },
    {
     "data": {
      "application/vnd.jupyter.widget-view+json": {
       "model_id": "f1aaad29e9f84597a9f9e25bde9771e3",
       "version_major": 2,
       "version_minor": 0
      },
      "text/plain": [
       "HBox(children=(IntProgress(value=0, max=789), HTML(value='')))"
      ]
     },
     "metadata": {},
     "output_type": "display_data"
    },
    {
     "name": "stderr",
     "output_type": "stream",
     "text": [
      "[2019-03-08 02:15:03,847][INFO] __main__:26 - b = 0.19191919191919193, f1 = 0.8178694158075602\n"
     ]
    },
    {
     "data": {
      "application/vnd.jupyter.widget-view+json": {
       "model_id": "bc567ad3612e4e44980daf3971349e1a",
       "version_major": 2,
       "version_minor": 0
      },
      "text/plain": [
       "HBox(children=(IntProgress(value=0, max=789), HTML(value='')))"
      ]
     },
     "metadata": {},
     "output_type": "display_data"
    },
    {
     "name": "stderr",
     "output_type": "stream",
     "text": [
      "[2019-03-08 02:15:04,018][INFO] __main__:26 - b = 0.20202020202020204, f1 = 0.8178694158075602\n"
     ]
    },
    {
     "data": {
      "application/vnd.jupyter.widget-view+json": {
       "model_id": "9d004767922045539f1bb10c3b09547f",
       "version_major": 2,
       "version_minor": 0
      },
      "text/plain": [
       "HBox(children=(IntProgress(value=0, max=789), HTML(value='')))"
      ]
     },
     "metadata": {},
     "output_type": "display_data"
    },
    {
     "name": "stderr",
     "output_type": "stream",
     "text": [
      "[2019-03-08 02:15:04,189][INFO] __main__:26 - b = 0.21212121212121213, f1 = 0.8178694158075602\n"
     ]
    },
    {
     "data": {
      "application/vnd.jupyter.widget-view+json": {
       "model_id": "d58891504f424d4e9631374796d63a52",
       "version_major": 2,
       "version_minor": 0
      },
      "text/plain": [
       "HBox(children=(IntProgress(value=0, max=789), HTML(value='')))"
      ]
     },
     "metadata": {},
     "output_type": "display_data"
    },
    {
     "name": "stderr",
     "output_type": "stream",
     "text": [
      "[2019-03-08 02:15:04,362][INFO] __main__:26 - b = 0.22222222222222224, f1 = 0.8178694158075602\n"
     ]
    },
    {
     "data": {
      "application/vnd.jupyter.widget-view+json": {
       "model_id": "5525725ed27d4df6bf8ba624782e937b",
       "version_major": 2,
       "version_minor": 0
      },
      "text/plain": [
       "HBox(children=(IntProgress(value=0, max=789), HTML(value='')))"
      ]
     },
     "metadata": {},
     "output_type": "display_data"
    },
    {
     "name": "stderr",
     "output_type": "stream",
     "text": [
      "[2019-03-08 02:15:04,533][INFO] __main__:26 - b = 0.23232323232323235, f1 = 0.8178694158075602\n"
     ]
    },
    {
     "data": {
      "application/vnd.jupyter.widget-view+json": {
       "model_id": "978a4457c0384b39bb554df01540e837",
       "version_major": 2,
       "version_minor": 0
      },
      "text/plain": [
       "HBox(children=(IntProgress(value=0, max=789), HTML(value='')))"
      ]
     },
     "metadata": {},
     "output_type": "display_data"
    },
    {
     "name": "stderr",
     "output_type": "stream",
     "text": [
      "[2019-03-08 02:15:04,704][INFO] __main__:26 - b = 0.24242424242424243, f1 = 0.8178694158075602\n"
     ]
    },
    {
     "data": {
      "application/vnd.jupyter.widget-view+json": {
       "model_id": "50215fe57f694000a3a43743b888f55c",
       "version_major": 2,
       "version_minor": 0
      },
      "text/plain": [
       "HBox(children=(IntProgress(value=0, max=789), HTML(value='')))"
      ]
     },
     "metadata": {},
     "output_type": "display_data"
    },
    {
     "name": "stderr",
     "output_type": "stream",
     "text": [
      "[2019-03-08 02:15:04,876][INFO] __main__:26 - b = 0.25252525252525254, f1 = 0.8178694158075602\n"
     ]
    },
    {
     "data": {
      "application/vnd.jupyter.widget-view+json": {
       "model_id": "8bc8979f5a4b436d95bf36b689471a6b",
       "version_major": 2,
       "version_minor": 0
      },
      "text/plain": [
       "HBox(children=(IntProgress(value=0, max=789), HTML(value='')))"
      ]
     },
     "metadata": {},
     "output_type": "display_data"
    },
    {
     "name": "stderr",
     "output_type": "stream",
     "text": [
      "[2019-03-08 02:15:05,048][INFO] __main__:26 - b = 0.26262626262626265, f1 = 0.8178694158075602\n"
     ]
    },
    {
     "data": {
      "application/vnd.jupyter.widget-view+json": {
       "model_id": "60aaa56e59634c14994379cdbe7c0600",
       "version_major": 2,
       "version_minor": 0
      },
      "text/plain": [
       "HBox(children=(IntProgress(value=0, max=789), HTML(value='')))"
      ]
     },
     "metadata": {},
     "output_type": "display_data"
    },
    {
     "name": "stderr",
     "output_type": "stream",
     "text": [
      "[2019-03-08 02:15:05,218][INFO] __main__:26 - b = 0.27272727272727276, f1 = 0.8178694158075602\n"
     ]
    },
    {
     "data": {
      "application/vnd.jupyter.widget-view+json": {
       "model_id": "58e27fa852cf45b5a1c1ae1a21c4d8d9",
       "version_major": 2,
       "version_minor": 0
      },
      "text/plain": [
       "HBox(children=(IntProgress(value=0, max=789), HTML(value='')))"
      ]
     },
     "metadata": {},
     "output_type": "display_data"
    },
    {
     "name": "stderr",
     "output_type": "stream",
     "text": [
      "[2019-03-08 02:15:05,389][INFO] __main__:26 - b = 0.2828282828282829, f1 = 0.8178694158075602\n"
     ]
    },
    {
     "data": {
      "application/vnd.jupyter.widget-view+json": {
       "model_id": "df65146216bd429aaa7b354bd287de65",
       "version_major": 2,
       "version_minor": 0
      },
      "text/plain": [
       "HBox(children=(IntProgress(value=0, max=789), HTML(value='')))"
      ]
     },
     "metadata": {},
     "output_type": "display_data"
    },
    {
     "name": "stderr",
     "output_type": "stream",
     "text": [
      "[2019-03-08 02:15:05,563][INFO] __main__:26 - b = 0.29292929292929293, f1 = 0.8178694158075602\n"
     ]
    },
    {
     "data": {
      "application/vnd.jupyter.widget-view+json": {
       "model_id": "601f84db1085492b8f8e0fbe3577d36f",
       "version_major": 2,
       "version_minor": 0
      },
      "text/plain": [
       "HBox(children=(IntProgress(value=0, max=789), HTML(value='')))"
      ]
     },
     "metadata": {},
     "output_type": "display_data"
    },
    {
     "name": "stderr",
     "output_type": "stream",
     "text": [
      "[2019-03-08 02:15:05,778][INFO] __main__:26 - b = 0.30303030303030304, f1 = 0.8178694158075602\n"
     ]
    },
    {
     "data": {
      "application/vnd.jupyter.widget-view+json": {
       "model_id": "5374d54c2d764dfd99868dd8b2e1d215",
       "version_major": 2,
       "version_minor": 0
      },
      "text/plain": [
       "HBox(children=(IntProgress(value=0, max=789), HTML(value='')))"
      ]
     },
     "metadata": {},
     "output_type": "display_data"
    },
    {
     "name": "stderr",
     "output_type": "stream",
     "text": [
      "[2019-03-08 02:15:05,949][INFO] __main__:26 - b = 0.31313131313131315, f1 = 0.8178694158075602\n"
     ]
    },
    {
     "data": {
      "application/vnd.jupyter.widget-view+json": {
       "model_id": "5a6f99a3ae3c4b32b7cb01bc4298eca6",
       "version_major": 2,
       "version_minor": 0
      },
      "text/plain": [
       "HBox(children=(IntProgress(value=0, max=789), HTML(value='')))"
      ]
     },
     "metadata": {},
     "output_type": "display_data"
    },
    {
     "name": "stderr",
     "output_type": "stream",
     "text": [
      "[2019-03-08 02:15:06,121][INFO] __main__:26 - b = 0.32323232323232326, f1 = 0.8178694158075602\n"
     ]
    },
    {
     "data": {
      "application/vnd.jupyter.widget-view+json": {
       "model_id": "a0d0751df4294c26bad404b6d9f8272c",
       "version_major": 2,
       "version_minor": 0
      },
      "text/plain": [
       "HBox(children=(IntProgress(value=0, max=789), HTML(value='')))"
      ]
     },
     "metadata": {},
     "output_type": "display_data"
    },
    {
     "name": "stderr",
     "output_type": "stream",
     "text": [
      "[2019-03-08 02:15:06,293][INFO] __main__:26 - b = 0.33333333333333337, f1 = 0.8178694158075602\n"
     ]
    },
    {
     "data": {
      "application/vnd.jupyter.widget-view+json": {
       "model_id": "c89c46edcb5d445999395c589da5d8b5",
       "version_major": 2,
       "version_minor": 0
      },
      "text/plain": [
       "HBox(children=(IntProgress(value=0, max=789), HTML(value='')))"
      ]
     },
     "metadata": {},
     "output_type": "display_data"
    },
    {
     "name": "stderr",
     "output_type": "stream",
     "text": [
      "[2019-03-08 02:15:06,465][INFO] __main__:26 - b = 0.3434343434343435, f1 = 0.8178694158075602\n"
     ]
    },
    {
     "data": {
      "application/vnd.jupyter.widget-view+json": {
       "model_id": "5b40d9ebea4f499281788b1067559140",
       "version_major": 2,
       "version_minor": 0
      },
      "text/plain": [
       "HBox(children=(IntProgress(value=0, max=789), HTML(value='')))"
      ]
     },
     "metadata": {},
     "output_type": "display_data"
    },
    {
     "name": "stderr",
     "output_type": "stream",
     "text": [
      "[2019-03-08 02:15:06,636][INFO] __main__:26 - b = 0.3535353535353536, f1 = 0.8178694158075602\n"
     ]
    },
    {
     "data": {
      "application/vnd.jupyter.widget-view+json": {
       "model_id": "daab3ab92e174a5fac6866e56932c4e2",
       "version_major": 2,
       "version_minor": 0
      },
      "text/plain": [
       "HBox(children=(IntProgress(value=0, max=789), HTML(value='')))"
      ]
     },
     "metadata": {},
     "output_type": "display_data"
    },
    {
     "name": "stderr",
     "output_type": "stream",
     "text": [
      "[2019-03-08 02:15:06,808][INFO] __main__:26 - b = 0.36363636363636365, f1 = 0.8178694158075602\n"
     ]
    },
    {
     "data": {
      "application/vnd.jupyter.widget-view+json": {
       "model_id": "1666b11aecde4021be00fd5edb50ad12",
       "version_major": 2,
       "version_minor": 0
      },
      "text/plain": [
       "HBox(children=(IntProgress(value=0, max=789), HTML(value='')))"
      ]
     },
     "metadata": {},
     "output_type": "display_data"
    },
    {
     "name": "stderr",
     "output_type": "stream",
     "text": [
      "[2019-03-08 02:15:06,979][INFO] __main__:26 - b = 0.37373737373737376, f1 = 0.8178694158075602\n"
     ]
    },
    {
     "data": {
      "application/vnd.jupyter.widget-view+json": {
       "model_id": "b7bdafe349dc455985432a4ec5926392",
       "version_major": 2,
       "version_minor": 0
      },
      "text/plain": [
       "HBox(children=(IntProgress(value=0, max=789), HTML(value='')))"
      ]
     },
     "metadata": {},
     "output_type": "display_data"
    },
    {
     "name": "stderr",
     "output_type": "stream",
     "text": [
      "[2019-03-08 02:15:07,151][INFO] __main__:26 - b = 0.38383838383838387, f1 = 0.8178694158075602\n"
     ]
    },
    {
     "data": {
      "application/vnd.jupyter.widget-view+json": {
       "model_id": "f51ca642d84a4ebdb434ff4a9033b15e",
       "version_major": 2,
       "version_minor": 0
      },
      "text/plain": [
       "HBox(children=(IntProgress(value=0, max=789), HTML(value='')))"
      ]
     },
     "metadata": {},
     "output_type": "display_data"
    },
    {
     "name": "stderr",
     "output_type": "stream",
     "text": [
      "[2019-03-08 02:15:07,324][INFO] __main__:26 - b = 0.393939393939394, f1 = 0.8178694158075602\n"
     ]
    },
    {
     "data": {
      "application/vnd.jupyter.widget-view+json": {
       "model_id": "767fb37eefd34382a2fbc14e811264ea",
       "version_major": 2,
       "version_minor": 0
      },
      "text/plain": [
       "HBox(children=(IntProgress(value=0, max=789), HTML(value='')))"
      ]
     },
     "metadata": {},
     "output_type": "display_data"
    },
    {
     "name": "stderr",
     "output_type": "stream",
     "text": [
      "[2019-03-08 02:15:07,495][INFO] __main__:26 - b = 0.4040404040404041, f1 = 0.8178694158075602\n"
     ]
    },
    {
     "data": {
      "application/vnd.jupyter.widget-view+json": {
       "model_id": "289dfe86139c4d968cdccc56da772f26",
       "version_major": 2,
       "version_minor": 0
      },
      "text/plain": [
       "HBox(children=(IntProgress(value=0, max=789), HTML(value='')))"
      ]
     },
     "metadata": {},
     "output_type": "display_data"
    },
    {
     "name": "stderr",
     "output_type": "stream",
     "text": [
      "[2019-03-08 02:15:07,669][INFO] __main__:26 - b = 0.4141414141414142, f1 = 0.8178694158075602\n"
     ]
    },
    {
     "data": {
      "application/vnd.jupyter.widget-view+json": {
       "model_id": "a6a09a74c53943289bc871d9bae62582",
       "version_major": 2,
       "version_minor": 0
      },
      "text/plain": [
       "HBox(children=(IntProgress(value=0, max=789), HTML(value='')))"
      ]
     },
     "metadata": {},
     "output_type": "display_data"
    },
    {
     "name": "stderr",
     "output_type": "stream",
     "text": [
      "[2019-03-08 02:15:07,840][INFO] __main__:26 - b = 0.42424242424242425, f1 = 0.8178694158075602\n"
     ]
    },
    {
     "data": {
      "application/vnd.jupyter.widget-view+json": {
       "model_id": "ac9230dd657d40cfb62a05363e245502",
       "version_major": 2,
       "version_minor": 0
      },
      "text/plain": [
       "HBox(children=(IntProgress(value=0, max=789), HTML(value='')))"
      ]
     },
     "metadata": {},
     "output_type": "display_data"
    },
    {
     "name": "stderr",
     "output_type": "stream",
     "text": [
      "[2019-03-08 02:15:08,014][INFO] __main__:26 - b = 0.43434343434343436, f1 = 0.8178694158075602\n"
     ]
    },
    {
     "data": {
      "application/vnd.jupyter.widget-view+json": {
       "model_id": "9f67b25bf1ab48768e9a81b78d8f4f00",
       "version_major": 2,
       "version_minor": 0
      },
      "text/plain": [
       "HBox(children=(IntProgress(value=0, max=789), HTML(value='')))"
      ]
     },
     "metadata": {},
     "output_type": "display_data"
    },
    {
     "name": "stderr",
     "output_type": "stream",
     "text": [
      "[2019-03-08 02:15:08,189][INFO] __main__:26 - b = 0.4444444444444445, f1 = 0.8178694158075602\n"
     ]
    },
    {
     "data": {
      "application/vnd.jupyter.widget-view+json": {
       "model_id": "1bb4b7418f1644b694740bdc29f020be",
       "version_major": 2,
       "version_minor": 0
      },
      "text/plain": [
       "HBox(children=(IntProgress(value=0, max=789), HTML(value='')))"
      ]
     },
     "metadata": {},
     "output_type": "display_data"
    },
    {
     "name": "stderr",
     "output_type": "stream",
     "text": [
      "[2019-03-08 02:15:08,362][INFO] __main__:26 - b = 0.4545454545454546, f1 = 0.8178694158075602\n"
     ]
    },
    {
     "data": {
      "application/vnd.jupyter.widget-view+json": {
       "model_id": "c5fb7888c9794f8fbd6415aff221c317",
       "version_major": 2,
       "version_minor": 0
      },
      "text/plain": [
       "HBox(children=(IntProgress(value=0, max=789), HTML(value='')))"
      ]
     },
     "metadata": {},
     "output_type": "display_data"
    },
    {
     "name": "stderr",
     "output_type": "stream",
     "text": [
      "[2019-03-08 02:15:08,539][INFO] __main__:26 - b = 0.4646464646464647, f1 = 0.8178694158075602\n"
     ]
    },
    {
     "data": {
      "application/vnd.jupyter.widget-view+json": {
       "model_id": "9ed831660319451e91345a12863d7575",
       "version_major": 2,
       "version_minor": 0
      },
      "text/plain": [
       "HBox(children=(IntProgress(value=0, max=789), HTML(value='')))"
      ]
     },
     "metadata": {},
     "output_type": "display_data"
    },
    {
     "name": "stderr",
     "output_type": "stream",
     "text": [
      "[2019-03-08 02:15:08,713][INFO] __main__:26 - b = 0.4747474747474748, f1 = 0.8178694158075602\n"
     ]
    },
    {
     "data": {
      "application/vnd.jupyter.widget-view+json": {
       "model_id": "2a50003f1fc941afbd7f3b89bc2a5a6d",
       "version_major": 2,
       "version_minor": 0
      },
      "text/plain": [
       "HBox(children=(IntProgress(value=0, max=789), HTML(value='')))"
      ]
     },
     "metadata": {},
     "output_type": "display_data"
    },
    {
     "name": "stderr",
     "output_type": "stream",
     "text": [
      "[2019-03-08 02:15:08,887][INFO] __main__:26 - b = 0.48484848484848486, f1 = 0.8178694158075602\n"
     ]
    },
    {
     "data": {
      "application/vnd.jupyter.widget-view+json": {
       "model_id": "e9547f230e5c43b5a66ff6575eae2ac7",
       "version_major": 2,
       "version_minor": 0
      },
      "text/plain": [
       "HBox(children=(IntProgress(value=0, max=789), HTML(value='')))"
      ]
     },
     "metadata": {},
     "output_type": "display_data"
    },
    {
     "name": "stderr",
     "output_type": "stream",
     "text": [
      "[2019-03-08 02:15:09,078][INFO] __main__:26 - b = 0.494949494949495, f1 = 0.8178694158075602\n"
     ]
    },
    {
     "data": {
      "application/vnd.jupyter.widget-view+json": {
       "model_id": "a34b9b4d317745b7aee0fe95efbda593",
       "version_major": 2,
       "version_minor": 0
      },
      "text/plain": [
       "HBox(children=(IntProgress(value=0, max=789), HTML(value='')))"
      ]
     },
     "metadata": {},
     "output_type": "display_data"
    },
    {
     "name": "stderr",
     "output_type": "stream",
     "text": [
      "[2019-03-08 02:15:09,252][INFO] __main__:26 - b = 0.5050505050505051, f1 = 0.8178694158075602\n"
     ]
    },
    {
     "data": {
      "application/vnd.jupyter.widget-view+json": {
       "model_id": "534cbee0cd9f43f4946f3f5a64e1b2f9",
       "version_major": 2,
       "version_minor": 0
      },
      "text/plain": [
       "HBox(children=(IntProgress(value=0, max=789), HTML(value='')))"
      ]
     },
     "metadata": {},
     "output_type": "display_data"
    },
    {
     "name": "stderr",
     "output_type": "stream",
     "text": [
      "[2019-03-08 02:15:09,431][INFO] __main__:26 - b = 0.5151515151515152, f1 = 0.8178694158075602\n"
     ]
    },
    {
     "data": {
      "application/vnd.jupyter.widget-view+json": {
       "model_id": "72a6933919234c64ad2f4085b4863a4a",
       "version_major": 2,
       "version_minor": 0
      },
      "text/plain": [
       "HBox(children=(IntProgress(value=0, max=789), HTML(value='')))"
      ]
     },
     "metadata": {},
     "output_type": "display_data"
    },
    {
     "name": "stderr",
     "output_type": "stream",
     "text": [
      "[2019-03-08 02:15:09,602][INFO] __main__:26 - b = 0.5252525252525253, f1 = 0.8178694158075602\n"
     ]
    },
    {
     "data": {
      "application/vnd.jupyter.widget-view+json": {
       "model_id": "8659b700dcf341f49b263885029aa8b3",
       "version_major": 2,
       "version_minor": 0
      },
      "text/plain": [
       "HBox(children=(IntProgress(value=0, max=789), HTML(value='')))"
      ]
     },
     "metadata": {},
     "output_type": "display_data"
    },
    {
     "name": "stderr",
     "output_type": "stream",
     "text": [
      "[2019-03-08 02:15:09,773][INFO] __main__:26 - b = 0.5353535353535354, f1 = 0.8178694158075602\n"
     ]
    },
    {
     "data": {
      "application/vnd.jupyter.widget-view+json": {
       "model_id": "84f2fc8e95e04ec68f35b5686ce69efe",
       "version_major": 2,
       "version_minor": 0
      },
      "text/plain": [
       "HBox(children=(IntProgress(value=0, max=789), HTML(value='')))"
      ]
     },
     "metadata": {},
     "output_type": "display_data"
    },
    {
     "name": "stderr",
     "output_type": "stream",
     "text": [
      "[2019-03-08 02:15:09,944][INFO] __main__:26 - b = 0.5454545454545455, f1 = 0.8178694158075602\n"
     ]
    },
    {
     "data": {
      "application/vnd.jupyter.widget-view+json": {
       "model_id": "eff2c87c24654dd8a5f0e0dc60cddbaa",
       "version_major": 2,
       "version_minor": 0
      },
      "text/plain": [
       "HBox(children=(IntProgress(value=0, max=789), HTML(value='')))"
      ]
     },
     "metadata": {},
     "output_type": "display_data"
    },
    {
     "name": "stderr",
     "output_type": "stream",
     "text": [
      "[2019-03-08 02:15:10,115][INFO] __main__:26 - b = 0.5555555555555556, f1 = 0.8178694158075602\n"
     ]
    },
    {
     "data": {
      "application/vnd.jupyter.widget-view+json": {
       "model_id": "c1e551e5f9394d4c8e764cf97bb89de0",
       "version_major": 2,
       "version_minor": 0
      },
      "text/plain": [
       "HBox(children=(IntProgress(value=0, max=789), HTML(value='')))"
      ]
     },
     "metadata": {},
     "output_type": "display_data"
    },
    {
     "name": "stderr",
     "output_type": "stream",
     "text": [
      "[2019-03-08 02:15:10,286][INFO] __main__:26 - b = 0.5656565656565657, f1 = 0.8178694158075602\n"
     ]
    },
    {
     "data": {
      "application/vnd.jupyter.widget-view+json": {
       "model_id": "4d593d4db4e442c2ace89fbaf6581377",
       "version_major": 2,
       "version_minor": 0
      },
      "text/plain": [
       "HBox(children=(IntProgress(value=0, max=789), HTML(value='')))"
      ]
     },
     "metadata": {},
     "output_type": "display_data"
    },
    {
     "name": "stderr",
     "output_type": "stream",
     "text": [
      "[2019-03-08 02:15:10,456][INFO] __main__:26 - b = 0.5757575757575758, f1 = 0.8178694158075602\n"
     ]
    },
    {
     "data": {
      "application/vnd.jupyter.widget-view+json": {
       "model_id": "4fb7f10b9bdf4966a6b67e1220dee5c3",
       "version_major": 2,
       "version_minor": 0
      },
      "text/plain": [
       "HBox(children=(IntProgress(value=0, max=789), HTML(value='')))"
      ]
     },
     "metadata": {},
     "output_type": "display_data"
    },
    {
     "name": "stderr",
     "output_type": "stream",
     "text": [
      "[2019-03-08 02:15:10,627][INFO] __main__:26 - b = 0.5858585858585859, f1 = 0.8178694158075602\n"
     ]
    },
    {
     "data": {
      "application/vnd.jupyter.widget-view+json": {
       "model_id": "81eac267d73548b8a2481dc775e4b18b",
       "version_major": 2,
       "version_minor": 0
      },
      "text/plain": [
       "HBox(children=(IntProgress(value=0, max=789), HTML(value='')))"
      ]
     },
     "metadata": {},
     "output_type": "display_data"
    },
    {
     "name": "stderr",
     "output_type": "stream",
     "text": [
      "[2019-03-08 02:15:10,798][INFO] __main__:26 - b = 0.595959595959596, f1 = 0.8178694158075602\n"
     ]
    },
    {
     "data": {
      "application/vnd.jupyter.widget-view+json": {
       "model_id": "bb399925575f401aac68d10dfc1ff7a5",
       "version_major": 2,
       "version_minor": 0
      },
      "text/plain": [
       "HBox(children=(IntProgress(value=0, max=789), HTML(value='')))"
      ]
     },
     "metadata": {},
     "output_type": "display_data"
    },
    {
     "name": "stderr",
     "output_type": "stream",
     "text": [
      "[2019-03-08 02:15:10,969][INFO] __main__:26 - b = 0.6060606060606061, f1 = 0.8178694158075602\n"
     ]
    },
    {
     "data": {
      "application/vnd.jupyter.widget-view+json": {
       "model_id": "9574e715cdfe44cea9a0d72c67645daf",
       "version_major": 2,
       "version_minor": 0
      },
      "text/plain": [
       "HBox(children=(IntProgress(value=0, max=789), HTML(value='')))"
      ]
     },
     "metadata": {},
     "output_type": "display_data"
    },
    {
     "name": "stderr",
     "output_type": "stream",
     "text": [
      "[2019-03-08 02:15:11,141][INFO] __main__:26 - b = 0.6161616161616162, f1 = 0.8178694158075602\n"
     ]
    },
    {
     "data": {
      "application/vnd.jupyter.widget-view+json": {
       "model_id": "848a44bf2dfa44d39efb876688daa176",
       "version_major": 2,
       "version_minor": 0
      },
      "text/plain": [
       "HBox(children=(IntProgress(value=0, max=789), HTML(value='')))"
      ]
     },
     "metadata": {},
     "output_type": "display_data"
    },
    {
     "name": "stderr",
     "output_type": "stream",
     "text": [
      "[2019-03-08 02:15:11,311][INFO] __main__:26 - b = 0.6262626262626263, f1 = 0.8178694158075602\n"
     ]
    },
    {
     "data": {
      "application/vnd.jupyter.widget-view+json": {
       "model_id": "35e1cc247ae94e7dbb1d8e3177c61f60",
       "version_major": 2,
       "version_minor": 0
      },
      "text/plain": [
       "HBox(children=(IntProgress(value=0, max=789), HTML(value='')))"
      ]
     },
     "metadata": {},
     "output_type": "display_data"
    },
    {
     "name": "stderr",
     "output_type": "stream",
     "text": [
      "[2019-03-08 02:15:11,482][INFO] __main__:26 - b = 0.6363636363636365, f1 = 0.8178694158075602\n"
     ]
    },
    {
     "data": {
      "application/vnd.jupyter.widget-view+json": {
       "model_id": "cc40637be06b46f391711bf141faa8fc",
       "version_major": 2,
       "version_minor": 0
      },
      "text/plain": [
       "HBox(children=(IntProgress(value=0, max=789), HTML(value='')))"
      ]
     },
     "metadata": {},
     "output_type": "display_data"
    },
    {
     "name": "stderr",
     "output_type": "stream",
     "text": [
      "[2019-03-08 02:15:11,654][INFO] __main__:26 - b = 0.6464646464646465, f1 = 0.8178694158075602\n"
     ]
    },
    {
     "data": {
      "application/vnd.jupyter.widget-view+json": {
       "model_id": "45a005ee487d40aa800cad1149df03ab",
       "version_major": 2,
       "version_minor": 0
      },
      "text/plain": [
       "HBox(children=(IntProgress(value=0, max=789), HTML(value='')))"
      ]
     },
     "metadata": {},
     "output_type": "display_data"
    },
    {
     "name": "stderr",
     "output_type": "stream",
     "text": [
      "[2019-03-08 02:15:11,826][INFO] __main__:26 - b = 0.6565656565656566, f1 = 0.8178694158075602\n"
     ]
    },
    {
     "data": {
      "application/vnd.jupyter.widget-view+json": {
       "model_id": "cc5dddf82fee4d818a1f6b09a6602b1a",
       "version_major": 2,
       "version_minor": 0
      },
      "text/plain": [
       "HBox(children=(IntProgress(value=0, max=789), HTML(value='')))"
      ]
     },
     "metadata": {},
     "output_type": "display_data"
    },
    {
     "name": "stderr",
     "output_type": "stream",
     "text": [
      "[2019-03-08 02:15:11,997][INFO] __main__:26 - b = 0.6666666666666667, f1 = 0.8178694158075602\n"
     ]
    },
    {
     "data": {
      "application/vnd.jupyter.widget-view+json": {
       "model_id": "8c0b8787b150440a86dd783863c25f52",
       "version_major": 2,
       "version_minor": 0
      },
      "text/plain": [
       "HBox(children=(IntProgress(value=0, max=789), HTML(value='')))"
      ]
     },
     "metadata": {},
     "output_type": "display_data"
    },
    {
     "name": "stderr",
     "output_type": "stream",
     "text": [
      "[2019-03-08 02:15:12,168][INFO] __main__:26 - b = 0.6767676767676768, f1 = 0.8178694158075602\n"
     ]
    },
    {
     "data": {
      "application/vnd.jupyter.widget-view+json": {
       "model_id": "82b4fbeb41de40508b7f48da45f2efc0",
       "version_major": 2,
       "version_minor": 0
      },
      "text/plain": [
       "HBox(children=(IntProgress(value=0, max=789), HTML(value='')))"
      ]
     },
     "metadata": {},
     "output_type": "display_data"
    },
    {
     "name": "stderr",
     "output_type": "stream",
     "text": [
      "[2019-03-08 02:15:12,343][INFO] __main__:26 - b = 0.686868686868687, f1 = 0.8178694158075602\n"
     ]
    },
    {
     "data": {
      "application/vnd.jupyter.widget-view+json": {
       "model_id": "55e4a4135ae948f383562eb68338441d",
       "version_major": 2,
       "version_minor": 0
      },
      "text/plain": [
       "HBox(children=(IntProgress(value=0, max=789), HTML(value='')))"
      ]
     },
     "metadata": {},
     "output_type": "display_data"
    },
    {
     "name": "stderr",
     "output_type": "stream",
     "text": [
      "[2019-03-08 02:15:12,514][INFO] __main__:26 - b = 0.696969696969697, f1 = 0.8178694158075602\n"
     ]
    },
    {
     "data": {
      "application/vnd.jupyter.widget-view+json": {
       "model_id": "32490dd4233b4f52b4f81ea97c071681",
       "version_major": 2,
       "version_minor": 0
      },
      "text/plain": [
       "HBox(children=(IntProgress(value=0, max=789), HTML(value='')))"
      ]
     },
     "metadata": {},
     "output_type": "display_data"
    },
    {
     "name": "stderr",
     "output_type": "stream",
     "text": [
      "[2019-03-08 02:15:12,685][INFO] __main__:26 - b = 0.7070707070707072, f1 = 0.8178694158075602\n"
     ]
    },
    {
     "data": {
      "application/vnd.jupyter.widget-view+json": {
       "model_id": "c9e5a6e9e0234b96b964319b3e15384e",
       "version_major": 2,
       "version_minor": 0
      },
      "text/plain": [
       "HBox(children=(IntProgress(value=0, max=789), HTML(value='')))"
      ]
     },
     "metadata": {},
     "output_type": "display_data"
    },
    {
     "name": "stderr",
     "output_type": "stream",
     "text": [
      "[2019-03-08 02:15:12,857][INFO] __main__:26 - b = 0.7171717171717172, f1 = 0.8178694158075602\n"
     ]
    },
    {
     "data": {
      "application/vnd.jupyter.widget-view+json": {
       "model_id": "48b17ba1b7db4b88b8031f99b04e2b95",
       "version_major": 2,
       "version_minor": 0
      },
      "text/plain": [
       "HBox(children=(IntProgress(value=0, max=789), HTML(value='')))"
      ]
     },
     "metadata": {},
     "output_type": "display_data"
    },
    {
     "name": "stderr",
     "output_type": "stream",
     "text": [
      "[2019-03-08 02:15:13,028][INFO] __main__:26 - b = 0.7272727272727273, f1 = 0.8178694158075602\n"
     ]
    },
    {
     "data": {
      "application/vnd.jupyter.widget-view+json": {
       "model_id": "ae065de578764a528a3e19f9dc78902c",
       "version_major": 2,
       "version_minor": 0
      },
      "text/plain": [
       "HBox(children=(IntProgress(value=0, max=789), HTML(value='')))"
      ]
     },
     "metadata": {},
     "output_type": "display_data"
    },
    {
     "name": "stderr",
     "output_type": "stream",
     "text": [
      "[2019-03-08 02:15:13,199][INFO] __main__:26 - b = 0.7373737373737375, f1 = 0.8178694158075602\n"
     ]
    },
    {
     "data": {
      "application/vnd.jupyter.widget-view+json": {
       "model_id": "d8db259bc48443188977379ca044176b",
       "version_major": 2,
       "version_minor": 0
      },
      "text/plain": [
       "HBox(children=(IntProgress(value=0, max=789), HTML(value='')))"
      ]
     },
     "metadata": {},
     "output_type": "display_data"
    },
    {
     "name": "stderr",
     "output_type": "stream",
     "text": [
      "[2019-03-08 02:15:13,371][INFO] __main__:26 - b = 0.7474747474747475, f1 = 0.8178694158075602\n"
     ]
    },
    {
     "data": {
      "application/vnd.jupyter.widget-view+json": {
       "model_id": "2fc0467de5714385baca2f9f80ca7c55",
       "version_major": 2,
       "version_minor": 0
      },
      "text/plain": [
       "HBox(children=(IntProgress(value=0, max=789), HTML(value='')))"
      ]
     },
     "metadata": {},
     "output_type": "display_data"
    },
    {
     "name": "stderr",
     "output_type": "stream",
     "text": [
      "[2019-03-08 02:15:13,542][INFO] __main__:26 - b = 0.7575757575757577, f1 = 0.8178694158075602\n"
     ]
    },
    {
     "data": {
      "application/vnd.jupyter.widget-view+json": {
       "model_id": "2c31956379b543c1ac9ef91c7b20a5b0",
       "version_major": 2,
       "version_minor": 0
      },
      "text/plain": [
       "HBox(children=(IntProgress(value=0, max=789), HTML(value='')))"
      ]
     },
     "metadata": {},
     "output_type": "display_data"
    },
    {
     "name": "stderr",
     "output_type": "stream",
     "text": [
      "[2019-03-08 02:15:13,713][INFO] __main__:26 - b = 0.7676767676767677, f1 = 0.8178694158075602\n"
     ]
    },
    {
     "data": {
      "application/vnd.jupyter.widget-view+json": {
       "model_id": "6d0a9d611c1c4120b6652d9843cef8db",
       "version_major": 2,
       "version_minor": 0
      },
      "text/plain": [
       "HBox(children=(IntProgress(value=0, max=789), HTML(value='')))"
      ]
     },
     "metadata": {},
     "output_type": "display_data"
    },
    {
     "name": "stderr",
     "output_type": "stream",
     "text": [
      "[2019-03-08 02:15:13,885][INFO] __main__:26 - b = 0.7777777777777778, f1 = 0.8178694158075602\n"
     ]
    },
    {
     "data": {
      "application/vnd.jupyter.widget-view+json": {
       "model_id": "582a4ebd88584f6aa147f94426b61da5",
       "version_major": 2,
       "version_minor": 0
      },
      "text/plain": [
       "HBox(children=(IntProgress(value=0, max=789), HTML(value='')))"
      ]
     },
     "metadata": {},
     "output_type": "display_data"
    },
    {
     "name": "stderr",
     "output_type": "stream",
     "text": [
      "[2019-03-08 02:15:14,057][INFO] __main__:26 - b = 0.787878787878788, f1 = 0.8178694158075602\n"
     ]
    },
    {
     "data": {
      "application/vnd.jupyter.widget-view+json": {
       "model_id": "75ba6d5a0c9948869392bfb1f6d60191",
       "version_major": 2,
       "version_minor": 0
      },
      "text/plain": [
       "HBox(children=(IntProgress(value=0, max=789), HTML(value='')))"
      ]
     },
     "metadata": {},
     "output_type": "display_data"
    },
    {
     "name": "stderr",
     "output_type": "stream",
     "text": [
      "[2019-03-08 02:15:14,228][INFO] __main__:26 - b = 0.797979797979798, f1 = 0.8178694158075602\n"
     ]
    },
    {
     "data": {
      "application/vnd.jupyter.widget-view+json": {
       "model_id": "5e1af5f5651b4a7d9d1f3b13955c0f2b",
       "version_major": 2,
       "version_minor": 0
      },
      "text/plain": [
       "HBox(children=(IntProgress(value=0, max=789), HTML(value='')))"
      ]
     },
     "metadata": {},
     "output_type": "display_data"
    },
    {
     "name": "stderr",
     "output_type": "stream",
     "text": [
      "[2019-03-08 02:15:14,400][INFO] __main__:26 - b = 0.8080808080808082, f1 = 0.8178694158075602\n"
     ]
    },
    {
     "data": {
      "application/vnd.jupyter.widget-view+json": {
       "model_id": "4d8976bfb930465b9219a1694a5b63e6",
       "version_major": 2,
       "version_minor": 0
      },
      "text/plain": [
       "HBox(children=(IntProgress(value=0, max=789), HTML(value='')))"
      ]
     },
     "metadata": {},
     "output_type": "display_data"
    },
    {
     "name": "stderr",
     "output_type": "stream",
     "text": [
      "[2019-03-08 02:15:14,572][INFO] __main__:26 - b = 0.8181818181818182, f1 = 0.8178694158075602\n"
     ]
    },
    {
     "data": {
      "application/vnd.jupyter.widget-view+json": {
       "model_id": "43611e5b033946b38a116a29c5969720",
       "version_major": 2,
       "version_minor": 0
      },
      "text/plain": [
       "HBox(children=(IntProgress(value=0, max=789), HTML(value='')))"
      ]
     },
     "metadata": {},
     "output_type": "display_data"
    },
    {
     "name": "stderr",
     "output_type": "stream",
     "text": [
      "[2019-03-08 02:15:14,755][INFO] __main__:26 - b = 0.8282828282828284, f1 = 0.8178694158075602\n"
     ]
    },
    {
     "data": {
      "application/vnd.jupyter.widget-view+json": {
       "model_id": "c212ff1ee27a4ae9bc79077cbb5fe270",
       "version_major": 2,
       "version_minor": 0
      },
      "text/plain": [
       "HBox(children=(IntProgress(value=0, max=789), HTML(value='')))"
      ]
     },
     "metadata": {},
     "output_type": "display_data"
    },
    {
     "name": "stderr",
     "output_type": "stream",
     "text": [
      "[2019-03-08 02:15:14,928][INFO] __main__:26 - b = 0.8383838383838385, f1 = 0.8178694158075602\n"
     ]
    },
    {
     "data": {
      "application/vnd.jupyter.widget-view+json": {
       "model_id": "c27ea25b549445dba412e2ca1cbe9c6c",
       "version_major": 2,
       "version_minor": 0
      },
      "text/plain": [
       "HBox(children=(IntProgress(value=0, max=789), HTML(value='')))"
      ]
     },
     "metadata": {},
     "output_type": "display_data"
    },
    {
     "name": "stderr",
     "output_type": "stream",
     "text": [
      "[2019-03-08 02:15:15,100][INFO] __main__:26 - b = 0.8484848484848485, f1 = 0.8178694158075602\n"
     ]
    },
    {
     "data": {
      "application/vnd.jupyter.widget-view+json": {
       "model_id": "0886649e71414053b82f6d8239761055",
       "version_major": 2,
       "version_minor": 0
      },
      "text/plain": [
       "HBox(children=(IntProgress(value=0, max=789), HTML(value='')))"
      ]
     },
     "metadata": {},
     "output_type": "display_data"
    },
    {
     "name": "stderr",
     "output_type": "stream",
     "text": [
      "[2019-03-08 02:15:15,274][INFO] __main__:26 - b = 0.8585858585858587, f1 = 0.8178694158075602\n"
     ]
    },
    {
     "data": {
      "application/vnd.jupyter.widget-view+json": {
       "model_id": "4c2c3f95e93149fabc89c136683ae2ac",
       "version_major": 2,
       "version_minor": 0
      },
      "text/plain": [
       "HBox(children=(IntProgress(value=0, max=789), HTML(value='')))"
      ]
     },
     "metadata": {},
     "output_type": "display_data"
    },
    {
     "name": "stderr",
     "output_type": "stream",
     "text": [
      "[2019-03-08 02:15:15,447][INFO] __main__:26 - b = 0.8686868686868687, f1 = 0.8178694158075602\n"
     ]
    },
    {
     "data": {
      "application/vnd.jupyter.widget-view+json": {
       "model_id": "8798b7b8eab645c18f9f819ac3bdb637",
       "version_major": 2,
       "version_minor": 0
      },
      "text/plain": [
       "HBox(children=(IntProgress(value=0, max=788), HTML(value='')))"
      ]
     },
     "metadata": {},
     "output_type": "display_data"
    },
    {
     "name": "stderr",
     "output_type": "stream",
     "text": [
      "[2019-03-08 02:15:15,645][INFO] __main__:26 - b = 0.8787878787878789, f1 = 0.8178694158075602\n"
     ]
    },
    {
     "data": {
      "application/vnd.jupyter.widget-view+json": {
       "model_id": "d78988face6742cda086b98911400f8c",
       "version_major": 2,
       "version_minor": 0
      },
      "text/plain": [
       "HBox(children=(IntProgress(value=0, max=788), HTML(value='')))"
      ]
     },
     "metadata": {},
     "output_type": "display_data"
    },
    {
     "name": "stderr",
     "output_type": "stream",
     "text": [
      "[2019-03-08 02:15:15,817][INFO] __main__:26 - b = 0.888888888888889, f1 = 0.8178694158075602\n"
     ]
    },
    {
     "data": {
      "application/vnd.jupyter.widget-view+json": {
       "model_id": "72c42f9f34224479b46837a70c650adf",
       "version_major": 2,
       "version_minor": 0
      },
      "text/plain": [
       "HBox(children=(IntProgress(value=0, max=788), HTML(value='')))"
      ]
     },
     "metadata": {},
     "output_type": "display_data"
    },
    {
     "name": "stderr",
     "output_type": "stream",
     "text": [
      "[2019-03-08 02:15:15,990][INFO] __main__:26 - b = 0.8989898989898991, f1 = 0.8178694158075602\n"
     ]
    },
    {
     "data": {
      "application/vnd.jupyter.widget-view+json": {
       "model_id": "70740823413c460880b822c81860f637",
       "version_major": 2,
       "version_minor": 0
      },
      "text/plain": [
       "HBox(children=(IntProgress(value=0, max=788), HTML(value='')))"
      ]
     },
     "metadata": {},
     "output_type": "display_data"
    },
    {
     "name": "stderr",
     "output_type": "stream",
     "text": [
      "[2019-03-08 02:15:16,161][INFO] __main__:26 - b = 0.9090909090909092, f1 = 0.8178694158075602\n"
     ]
    },
    {
     "data": {
      "application/vnd.jupyter.widget-view+json": {
       "model_id": "ddc541c18d7146b0a5fee4127cfdef4a",
       "version_major": 2,
       "version_minor": 0
      },
      "text/plain": [
       "HBox(children=(IntProgress(value=0, max=788), HTML(value='')))"
      ]
     },
     "metadata": {},
     "output_type": "display_data"
    },
    {
     "name": "stderr",
     "output_type": "stream",
     "text": [
      "[2019-03-08 02:15:16,332][INFO] __main__:26 - b = 0.9191919191919192, f1 = 0.8178694158075602\n"
     ]
    },
    {
     "data": {
      "application/vnd.jupyter.widget-view+json": {
       "model_id": "3920728976b841758c5400b1f14b4842",
       "version_major": 2,
       "version_minor": 0
      },
      "text/plain": [
       "HBox(children=(IntProgress(value=0, max=785), HTML(value='')))"
      ]
     },
     "metadata": {},
     "output_type": "display_data"
    },
    {
     "name": "stderr",
     "output_type": "stream",
     "text": [
      "[2019-03-08 02:15:16,503][INFO] __main__:26 - b = 0.9292929292929294, f1 = 0.8178694158075602\n"
     ]
    },
    {
     "data": {
      "application/vnd.jupyter.widget-view+json": {
       "model_id": "bb9ccff2375d4897a3380b9ad59605a9",
       "version_major": 2,
       "version_minor": 0
      },
      "text/plain": [
       "HBox(children=(IntProgress(value=0, max=783), HTML(value='')))"
      ]
     },
     "metadata": {},
     "output_type": "display_data"
    },
    {
     "name": "stderr",
     "output_type": "stream",
     "text": [
      "[2019-03-08 02:15:16,674][INFO] __main__:26 - b = 0.9393939393939394, f1 = 0.8178694158075602\n"
     ]
    },
    {
     "data": {
      "application/vnd.jupyter.widget-view+json": {
       "model_id": "3ca542270af34f32b895437c0ef44c9d",
       "version_major": 2,
       "version_minor": 0
      },
      "text/plain": [
       "HBox(children=(IntProgress(value=0, max=778), HTML(value='')))"
      ]
     },
     "metadata": {},
     "output_type": "display_data"
    },
    {
     "name": "stderr",
     "output_type": "stream",
     "text": [
      "[2019-03-08 02:15:16,846][INFO] __main__:26 - b = 0.9494949494949496, f1 = 0.8178694158075602\n"
     ]
    },
    {
     "data": {
      "application/vnd.jupyter.widget-view+json": {
       "model_id": "ab0ac7536b8d4e2ca096aa16136e18f3",
       "version_major": 2,
       "version_minor": 0
      },
      "text/plain": [
       "HBox(children=(IntProgress(value=0, max=769), HTML(value='')))"
      ]
     },
     "metadata": {},
     "output_type": "display_data"
    },
    {
     "name": "stderr",
     "output_type": "stream",
     "text": [
      "[2019-03-08 02:15:17,016][INFO] __main__:26 - b = 0.9595959595959597, f1 = 0.8178694158075602\n"
     ]
    },
    {
     "data": {
      "application/vnd.jupyter.widget-view+json": {
       "model_id": "d03019effefc4bde92ef32d8dc60d0d0",
       "version_major": 2,
       "version_minor": 0
      },
      "text/plain": [
       "HBox(children=(IntProgress(value=0, max=755), HTML(value='')))"
      ]
     },
     "metadata": {},
     "output_type": "display_data"
    },
    {
     "name": "stderr",
     "output_type": "stream",
     "text": [
      "[2019-03-08 02:15:17,188][INFO] __main__:26 - b = 0.9696969696969697, f1 = 0.8178694158075602\n"
     ]
    },
    {
     "data": {
      "application/vnd.jupyter.widget-view+json": {
       "model_id": "4960ed6b5b65472f99df886abcfc8165",
       "version_major": 2,
       "version_minor": 0
      },
      "text/plain": [
       "HBox(children=(IntProgress(value=0, max=715), HTML(value='')))"
      ]
     },
     "metadata": {},
     "output_type": "display_data"
    },
    {
     "name": "stderr",
     "output_type": "stream",
     "text": [
      "[2019-03-08 02:15:17,358][INFO] __main__:26 - b = 0.9797979797979799, f1 = 0.8055555555555556\n"
     ]
    },
    {
     "data": {
      "application/vnd.jupyter.widget-view+json": {
       "model_id": "e4d8f367d0dc4c6985bbac73c4eed126",
       "version_major": 2,
       "version_minor": 0
      },
      "text/plain": [
       "HBox(children=(IntProgress(value=0, max=623), HTML(value='')))"
      ]
     },
     "metadata": {},
     "output_type": "display_data"
    },
    {
     "name": "stderr",
     "output_type": "stream",
     "text": [
      "[2019-03-08 02:15:17,525][INFO] __main__:26 - b = 0.98989898989899, f1 = 0.7045454545454545\n",
      "[2019-03-08 02:15:17,530][INFO] __main__:34 - ===================================================\n",
      "[2019-03-08 02:15:17,531][INFO] __main__:35 - Scoring on Entity-Level Gold Data with b=0.0\n",
      "[2019-03-08 02:15:17,532][INFO] __main__:36 - ===================================================\n",
      "[2019-03-08 02:15:17,532][INFO] __main__:37 - Corpus Precision 0.875\n",
      "[2019-03-08 02:15:17,533][INFO] __main__:38 - Corpus Recall    0.768\n",
      "[2019-03-08 02:15:17,534][INFO] __main__:39 - Corpus F1        0.818\n",
      "[2019-03-08 02:15:17,535][INFO] __main__:40 - ---------------------------------------------------\n",
      "[2019-03-08 02:15:17,535][INFO] __main__:42 - TP: 119 | FP: 17 | FN: 36\n",
      "[2019-03-08 02:15:17,536][INFO] __main__:46 - ===================================================\n",
      "\n"
     ]
    }
   ],
   "source": [
    "relation = 'ce_v_max'\n",
    "best_result, best_b = scoring(\n",
    "    relation, disc_model1, test_cands[3], test_docs, F_test[3], parts_by_doc, num=100\n",
    ")"
   ]
  },
  {
   "cell_type": "code",
   "execution_count": null,
   "metadata": {},
   "outputs": [],
   "source": []
  }
 ],
 "metadata": {
  "kernelspec": {
   "display_name": "Python 3",
   "language": "python",
   "name": "python3"
  },
  "language_info": {
   "codemirror_mode": {
    "name": "ipython",
    "version": 3
   },
   "file_extension": ".py",
   "mimetype": "text/x-python",
   "name": "python",
   "nbconvert_exporter": "python",
   "pygments_lexer": "ipython3",
   "version": "3.6.7"
  }
 },
 "nbformat": 4,
 "nbformat_minor": 2
}
