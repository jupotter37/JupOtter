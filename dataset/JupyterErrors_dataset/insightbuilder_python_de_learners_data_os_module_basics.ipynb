{
 "cells": [
  {
   "cell_type": "markdown",
   "id": "30d7ece1",
   "metadata": {},
   "source": [
    "### Working with OS Module"
   ]
  },
  {
   "cell_type": "code",
   "execution_count": 1,
   "id": "40309382",
   "metadata": {},
   "outputs": [],
   "source": [
    "import os\n",
    "import warnings\n",
    "warnings.filterwarnings('ignore')"
   ]
  },
  {
   "cell_type": "code",
   "execution_count": 2,
   "id": "414ac0d4",
   "metadata": {},
   "outputs": [
    {
     "data": {
      "text/plain": [
       "'/run/media/solverbot/repoA/gitFolders/python_de_learners_data/code_script_notebooks/jupyter_notebooks'"
      ]
     },
     "execution_count": 2,
     "metadata": {},
     "output_type": "execute_result"
    }
   ],
   "source": [
    "#get current working directory\n",
    "\n",
    "cwdir = os.getcwd()\n",
    "cwdir"
   ]
  },
  {
   "cell_type": "code",
   "execution_count": 3,
   "id": "b4cd5058",
   "metadata": {},
   "outputs": [
    {
     "data": {
      "text/plain": [
       "['.ipynb_checkpoints',\n",
       " 'AutomatingXL.ipynb',\n",
       " 'boto_session_creation_configParser.ipynb',\n",
       " 'example.conf',\n",
       " 'os_module_basics.ipynb',\n",
       " 'testdata.xlsx']"
      ]
     },
     "execution_count": 3,
     "metadata": {},
     "output_type": "execute_result"
    }
   ],
   "source": [
    "os.listdir()"
   ]
  },
  {
   "cell_type": "code",
   "execution_count": 4,
   "id": "4617e653",
   "metadata": {},
   "outputs": [],
   "source": [
    "files_in_dir = os.listdir()"
   ]
  },
  {
   "cell_type": "code",
   "execution_count": 5,
   "id": "9293ca7d",
   "metadata": {},
   "outputs": [
    {
     "name": "stdout",
     "output_type": "stream",
     "text": [
      ".ipynb_checkpoints\n",
      "AutomatingXL.ipynb\n",
      "boto_session_creation_configParser.ipynb\n",
      "example.conf\n",
      "os_module_basics.ipynb\n",
      "testdata.xlsx\n"
     ]
    }
   ],
   "source": [
    "for node in files_in_dir:\n",
    "    print(node)"
   ]
  },
  {
   "cell_type": "code",
   "execution_count": 6,
   "id": "bedf66c2",
   "metadata": {},
   "outputs": [
    {
     "data": {
      "text/plain": [
       "'.ipynb_checkpoints'"
      ]
     },
     "execution_count": 6,
     "metadata": {},
     "output_type": "execute_result"
    }
   ],
   "source": [
    "files_in_dir[0]"
   ]
  },
  {
   "cell_type": "code",
   "execution_count": 7,
   "id": "17733ff7",
   "metadata": {},
   "outputs": [
    {
     "data": {
      "text/plain": [
       "'testdata.xlsx'"
      ]
     },
     "execution_count": 7,
     "metadata": {},
     "output_type": "execute_result"
    }
   ],
   "source": [
    "files_in_dir[-1]"
   ]
  },
  {
   "cell_type": "code",
   "execution_count": 21,
   "id": "4db52edf",
   "metadata": {},
   "outputs": [
    {
     "data": {
      "text/plain": [
       "'example.conf'"
      ]
     },
     "execution_count": 21,
     "metadata": {},
     "output_type": "execute_result"
    }
   ],
   "source": [
    "files_in_dir[3]"
   ]
  },
  {
   "cell_type": "code",
   "execution_count": 9,
   "id": "2ea2c7d1",
   "metadata": {},
   "outputs": [
    {
     "data": {
      "text/plain": [
       "['AutomatingXL.ipynb',\n",
       " 'boto_session_creation_configParser.ipynb',\n",
       " 'example.conf']"
      ]
     },
     "execution_count": 9,
     "metadata": {},
     "output_type": "execute_result"
    }
   ],
   "source": [
    "files_in_dir[1:4]"
   ]
  },
  {
   "cell_type": "code",
   "execution_count": 10,
   "id": "94337069",
   "metadata": {},
   "outputs": [],
   "source": [
    "os.chdir('..')"
   ]
  },
  {
   "cell_type": "code",
   "execution_count": 11,
   "id": "b1ebf6ed",
   "metadata": {},
   "outputs": [
    {
     "data": {
      "text/plain": [
       "'/run/media/solverbot/repoA/gitFolders/python_de_learners_data/code_script_notebooks'"
      ]
     },
     "execution_count": 11,
     "metadata": {},
     "output_type": "execute_result"
    }
   ],
   "source": [
    "os.getcwd()"
   ]
  },
  {
   "cell_type": "code",
   "execution_count": 12,
   "id": "353b8096",
   "metadata": {},
   "outputs": [
    {
     "data": {
      "text/plain": [
       "['jupyter_notebooks', 'projects', 'python_scripts', 'sql_scripts']"
      ]
     },
     "execution_count": 12,
     "metadata": {},
     "output_type": "execute_result"
    }
   ],
   "source": [
    "os.listdir()"
   ]
  },
  {
   "cell_type": "code",
   "execution_count": 13,
   "id": "dfe5d2f2",
   "metadata": {},
   "outputs": [
    {
     "data": {
      "text/plain": [
       "4"
      ]
     },
     "execution_count": 13,
     "metadata": {},
     "output_type": "execute_result"
    }
   ],
   "source": [
    "os.cpu_count()"
   ]
  },
  {
   "cell_type": "code",
   "execution_count": 14,
   "id": "f7ddec9d",
   "metadata": {},
   "outputs": [
    {
     "data": {
      "text/plain": [
       "'solverbot'"
      ]
     },
     "execution_count": 14,
     "metadata": {},
     "output_type": "execute_result"
    }
   ],
   "source": [
    "os.getlogin()"
   ]
  },
  {
   "cell_type": "code",
   "execution_count": 15,
   "id": "8c132d60",
   "metadata": {},
   "outputs": [
    {
     "data": {
      "text/plain": [
       "'3.10.9 (main, Dec 19 2022, 17:35:49) [GCC 12.2.0]'"
      ]
     },
     "execution_count": 15,
     "metadata": {},
     "output_type": "execute_result"
    }
   ],
   "source": [
    "os.sys.version"
   ]
  },
  {
   "cell_type": "code",
   "execution_count": 24,
   "id": "dc34510d",
   "metadata": {},
   "outputs": [
    {
     "data": {
      "text/plain": [
       "['/usr/lib/python3.10/site-packages/ipykernel_launcher.py',\n",
       " '-f',\n",
       " '/home/solverbot/.local/share/jupyter/runtime/kernel-7485efde-6962-4f3b-96c0-ea3854ca0e88.json']"
      ]
     },
     "execution_count": 24,
     "metadata": {},
     "output_type": "execute_result"
    }
   ],
   "source": [
    "os.sys.argv"
   ]
  },
  {
   "cell_type": "code",
   "execution_count": 17,
   "id": "eaf7b6a6",
   "metadata": {},
   "outputs": [],
   "source": [
    "#getting all the environment vars in your systems\n",
    "my_env = os.environ"
   ]
  },
  {
   "cell_type": "code",
   "execution_count": 18,
   "id": "5093600d",
   "metadata": {},
   "outputs": [
    {
     "data": {
      "text/plain": [
       "os._Environ"
      ]
     },
     "execution_count": 18,
     "metadata": {},
     "output_type": "execute_result"
    }
   ],
   "source": [
    "type(my_env)"
   ]
  },
  {
   "cell_type": "code",
   "execution_count": 19,
   "id": "0366c34d",
   "metadata": {},
   "outputs": [
    {
     "data": {
      "text/plain": [
       "'/bin/bash'"
      ]
     },
     "execution_count": 19,
     "metadata": {},
     "output_type": "execute_result"
    }
   ],
   "source": [
    "my_env['SHELL']"
   ]
  },
  {
   "cell_type": "code",
   "execution_count": null,
   "id": "f798a101",
   "metadata": {},
   "outputs": [],
   "source": [
    "my_env"
   ]
  },
  {
   "cell_type": "code",
   "execution_count": 20,
   "id": "0271f62b",
   "metadata": {},
   "outputs": [
    {
     "data": {
      "text/plain": [
       "str"
      ]
     },
     "execution_count": 20,
     "metadata": {},
     "output_type": "execute_result"
    }
   ],
   "source": [
    "type(my_env['PATH'])"
   ]
  },
  {
   "cell_type": "code",
   "execution_count": 35,
   "id": "e3d45d30",
   "metadata": {},
   "outputs": [
    {
     "data": {
      "text/plain": [
       "'/opt/gen_logs'"
      ]
     },
     "execution_count": 35,
     "metadata": {},
     "output_type": "execute_result"
    }
   ],
   "source": [
    "my_env['PATH'].split(':')[1]"
   ]
  },
  {
   "cell_type": "code",
   "execution_count": 22,
   "id": "05a3e9f3",
   "metadata": {},
   "outputs": [
    {
     "ename": "FileNotFoundError",
     "evalue": "[Errno 2] No such file or directory: 'example.conf'",
     "output_type": "error",
     "traceback": [
      "\u001b[0;31m---------------------------------------------------------------------------\u001b[0m",
      "\u001b[0;31mFileNotFoundError\u001b[0m                         Traceback (most recent call last)",
      "Cell \u001b[0;32mIn[22], line 2\u001b[0m\n\u001b[1;32m      1\u001b[0m \u001b[38;5;66;03m#reading the example.conf file \u001b[39;00m\n\u001b[0;32m----> 2\u001b[0m \u001b[38;5;28;01mwith\u001b[39;00m \u001b[38;5;28;43mopen\u001b[39;49m\u001b[43m(\u001b[49m\u001b[43mfiles_in_dir\u001b[49m\u001b[43m[\u001b[49m\u001b[38;5;241;43m3\u001b[39;49m\u001b[43m]\u001b[49m\u001b[43m)\u001b[49m \u001b[38;5;28;01mas\u001b[39;00m con:\n\u001b[1;32m      3\u001b[0m     ex_data \u001b[38;5;241m=\u001b[39m con\u001b[38;5;241m.\u001b[39mread()\n\u001b[1;32m      5\u001b[0m \u001b[38;5;28mprint\u001b[39m(ex_data)\n",
      "File \u001b[0;32m/usr/lib/python3.10/site-packages/IPython/core/interactiveshell.py:282\u001b[0m, in \u001b[0;36m_modified_open\u001b[0;34m(file, *args, **kwargs)\u001b[0m\n\u001b[1;32m    275\u001b[0m \u001b[38;5;28;01mif\u001b[39;00m file \u001b[38;5;129;01min\u001b[39;00m {\u001b[38;5;241m0\u001b[39m, \u001b[38;5;241m1\u001b[39m, \u001b[38;5;241m2\u001b[39m}:\n\u001b[1;32m    276\u001b[0m     \u001b[38;5;28;01mraise\u001b[39;00m \u001b[38;5;167;01mValueError\u001b[39;00m(\n\u001b[1;32m    277\u001b[0m         \u001b[38;5;124mf\u001b[39m\u001b[38;5;124m\"\u001b[39m\u001b[38;5;124mIPython won\u001b[39m\u001b[38;5;124m'\u001b[39m\u001b[38;5;124mt let you open fd=\u001b[39m\u001b[38;5;132;01m{\u001b[39;00mfile\u001b[38;5;132;01m}\u001b[39;00m\u001b[38;5;124m by default \u001b[39m\u001b[38;5;124m\"\u001b[39m\n\u001b[1;32m    278\u001b[0m         \u001b[38;5;124m\"\u001b[39m\u001b[38;5;124mas it is likely to crash IPython. If you know what you are doing, \u001b[39m\u001b[38;5;124m\"\u001b[39m\n\u001b[1;32m    279\u001b[0m         \u001b[38;5;124m\"\u001b[39m\u001b[38;5;124myou can use builtins\u001b[39m\u001b[38;5;124m'\u001b[39m\u001b[38;5;124m open.\u001b[39m\u001b[38;5;124m\"\u001b[39m\n\u001b[1;32m    280\u001b[0m     )\n\u001b[0;32m--> 282\u001b[0m \u001b[38;5;28;01mreturn\u001b[39;00m \u001b[43mio_open\u001b[49m\u001b[43m(\u001b[49m\u001b[43mfile\u001b[49m\u001b[43m,\u001b[49m\u001b[43m \u001b[49m\u001b[38;5;241;43m*\u001b[39;49m\u001b[43margs\u001b[49m\u001b[43m,\u001b[49m\u001b[43m \u001b[49m\u001b[38;5;241;43m*\u001b[39;49m\u001b[38;5;241;43m*\u001b[39;49m\u001b[43mkwargs\u001b[49m\u001b[43m)\u001b[49m\n",
      "\u001b[0;31mFileNotFoundError\u001b[0m: [Errno 2] No such file or directory: 'example.conf'"
     ]
    }
   ],
   "source": [
    "#reading the example.conf file \n",
    "with open(files_in_dir[3]) as con:\n",
    "    ex_data = con.read()\n",
    "\n",
    "print(ex_data)"
   ]
  },
  {
   "cell_type": "code",
   "execution_count": 23,
   "id": "1f0bb8d4",
   "metadata": {},
   "outputs": [
    {
     "name": "stdout",
     "output_type": "stream",
     "text": [
      "[AWS]\n",
      "KEY = AKIA^^^^^ \n",
      "SECRET = 2YVJon*&*&&&\n",
      "REGION = us-east-1\n",
      "[POSTGRES]\n",
      "PG_HOST = your_db.c****.us-****-1.rds.amazonaws.com\n",
      "PG_DB = dbname\n",
      "PG_UNAME = uname\n",
      "PG_PASS = pass\n",
      "PG_PORT = ****\n"
     ]
    }
   ],
   "source": [
    "os.chdir('jupyter_notebooks')\n",
    "#reading the example.conf file \n",
    "with open(files_in_dir[3]) as con:\n",
    "    ex_data = con.read()\n",
    "\n",
    "print(ex_data)"
   ]
  }
 ],
 "metadata": {
  "kernelspec": {
   "display_name": "Python 3 (ipykernel)",
   "language": "python",
   "name": "python3"
  },
  "language_info": {
   "codemirror_mode": {
    "name": "ipython",
    "version": 3
   },
   "file_extension": ".py",
   "mimetype": "text/x-python",
   "name": "python",
   "nbconvert_exporter": "python",
   "pygments_lexer": "ipython3",
   "version": "3.10.9"
  }
 },
 "nbformat": 4,
 "nbformat_minor": 5
}
