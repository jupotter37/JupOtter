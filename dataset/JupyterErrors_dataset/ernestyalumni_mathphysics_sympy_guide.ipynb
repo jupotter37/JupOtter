{
 "cells": [
  {
   "cell_type": "markdown",
   "metadata": {},
   "source": [
    "# `sympy` guide"
   ]
  },
  {
   "cell_type": "code",
   "execution_count": 1,
   "metadata": {},
   "outputs": [
    {
     "name": "stdout",
     "output_type": "stream",
     "text": [
      "1.7\n"
     ]
    }
   ],
   "source": [
    "import sympy\n",
    "print(sympy.__version__)"
   ]
  },
  {
   "cell_type": "code",
   "execution_count": 2,
   "metadata": {},
   "outputs": [
    {
     "name": "stdout",
     "output_type": "stream",
     "text": [
      "2*sqrt(2)\n",
      "sqrt(3)\n",
      "x + 2*y\n",
      "x + 2*y + 1\n",
      "2*y\n",
      "x*(x + 2*y)\n",
      "x**2 + 2*x*y\n",
      "x*(x + 2*y)\n"
     ]
    }
   ],
   "source": [
    "# cf. https://docs.sympy.org/latest/index.html\n",
    "# Symbolic computation is with symbols, not numerical values\n",
    "print(sympy.sqrt(8))\n",
    "print(sympy.sqrt(3))\n",
    "\n",
    "from sympy import symbols\n",
    "x, y = symbols('x y')\n",
    "expr = x + 2*y\n",
    "print(expr)\n",
    "print(expr + 1)\n",
    "print(expr - x) # Simplified when possible; in this case to 2*y\n",
    "print(x * expr)\n",
    "\n",
    "from sympy import expand, factor\n",
    "expanded_expr = expand(x*expr)\n",
    "print(expanded_expr)\n",
    "print(factor(expanded_expr))\n",
    "x, t, z, nu = symbols('x t z nu')"
   ]
  },
  {
   "cell_type": "code",
   "execution_count": 3,
   "metadata": {},
   "outputs": [],
   "source": [
    "# This will make all further examples pretty print with unicode.\n",
    "sympy.init_printing(use_unicode=True)"
   ]
  },
  {
   "cell_type": "code",
   "execution_count": 4,
   "metadata": {},
   "outputs": [
    {
     "data": {
      "text/latex": [
       "$\\displaystyle e^{x} \\sin{\\left(x \\right)} + e^{x} \\cos{\\left(x \\right)}$"
      ],
      "text/plain": [
       " x           x       \n",
       "ℯ ⋅sin(x) + ℯ ⋅cos(x)"
      ]
     },
     "execution_count": 4,
     "metadata": {},
     "output_type": "execute_result"
    }
   ],
   "source": [
    "from sympy import (diff, sin, exp)\n",
    "diff(sin(x) * exp(x), x)"
   ]
  },
  {
   "cell_type": "markdown",
   "metadata": {},
   "source": [
    "Compute $\\int (e^x \\sin{x} + e^x \\cos{x}) dx$"
   ]
  },
  {
   "cell_type": "code",
   "execution_count": 5,
   "metadata": {},
   "outputs": [
    {
     "data": {
      "text/latex": [
       "$\\displaystyle e^{x} \\sin{\\left(x \\right)}$"
      ],
      "text/plain": [
       " x       \n",
       "ℯ ⋅sin(x)"
      ]
     },
     "execution_count": 5,
     "metadata": {},
     "output_type": "execute_result"
    }
   ],
   "source": [
    "from sympy import (cos, integrate)\n",
    "integrate(exp(x) * sin(x) + exp(x)*cos(x), x)"
   ]
  },
  {
   "cell_type": "markdown",
   "metadata": {},
   "source": [
    "Compute $\\int^{-\\infty}_{\\infty} \\sin{(x^2)} dx$"
   ]
  },
  {
   "cell_type": "code",
   "execution_count": 6,
   "metadata": {},
   "outputs": [
    {
     "data": {
      "text/latex": [
       "$\\displaystyle \\frac{\\sqrt{2} \\sqrt{\\pi}}{2}$"
      ],
      "text/plain": [
       "√2⋅√π\n",
       "─────\n",
       "  2  "
      ]
     },
     "execution_count": 6,
     "metadata": {},
     "output_type": "execute_result"
    }
   ],
   "source": [
    "from sympy import oo\n",
    "integrate(sin(x**2), (x, -oo, oo))"
   ]
  },
  {
   "cell_type": "markdown",
   "metadata": {},
   "source": [
    "Find $\\lim_{x \\to 0} \\frac{\\sin{x}}{x}$"
   ]
  },
  {
   "cell_type": "code",
   "execution_count": 7,
   "metadata": {},
   "outputs": [
    {
     "data": {
      "text/latex": [
       "$\\displaystyle 1$"
      ],
      "text/plain": [
       "1"
      ]
     },
     "execution_count": 7,
     "metadata": {},
     "output_type": "execute_result"
    }
   ],
   "source": [
    "from sympy import limit\n",
    "limit(sin(x) / x, x, 0)"
   ]
  },
  {
   "cell_type": "markdown",
   "metadata": {},
   "source": [
    "### `solve`, Solve Algebraic equations\n",
    "\n",
    "Solve $x^2 - 2 = 0$"
   ]
  },
  {
   "cell_type": "code",
   "execution_count": 8,
   "metadata": {},
   "outputs": [
    {
     "data": {
      "text/latex": [
       "$\\displaystyle \\left[ - \\sqrt{2}, \\  \\sqrt{2}\\right]$"
      ],
      "text/plain": [
       "[-√2, √2]"
      ]
     },
     "execution_count": 8,
     "metadata": {},
     "output_type": "execute_result"
    }
   ],
   "source": [
    "from sympy import solve\n",
    "solve(x**2 - 2, x)"
   ]
  },
  {
   "cell_type": "markdown",
   "metadata": {},
   "source": [
    "### `dsolve`, Solve differential equations\n",
    "Solve $y'' - y = e^t$"
   ]
  },
  {
   "cell_type": "code",
   "execution_count": 9,
   "metadata": {},
   "outputs": [
    {
     "data": {
      "text/latex": [
       "$\\displaystyle y{\\left(t \\right)} = C_{2} e^{- t} + \\left(C_{1} + \\frac{t}{2}\\right) e^{t}$"
      ],
      "text/plain": [
       "           -t   ⎛     t⎞  t\n",
       "y(t) = C₂⋅ℯ   + ⎜C₁ + ─⎟⋅ℯ \n",
       "                ⎝     2⎠   "
      ]
     },
     "execution_count": 9,
     "metadata": {},
     "output_type": "execute_result"
    }
   ],
   "source": [
    "from sympy import (dsolve, Eq, Function)\n",
    "y = Function('y')\n",
    "dsolve(Eq(y(t).diff(t, t) - y(t), exp(t)), y(t))"
   ]
  },
  {
   "cell_type": "markdown",
   "metadata": {},
   "source": [
    "### `eigenvals()`, Find eigenvalues"
   ]
  },
  {
   "cell_type": "code",
   "execution_count": 10,
   "metadata": {},
   "outputs": [
    {
     "data": {
      "text/latex": [
       "$\\displaystyle \\left\\{ \\frac{3}{2} - \\frac{\\sqrt{17}}{2} : 1, \\  \\frac{3}{2} + \\frac{\\sqrt{17}}{2} : 1\\right\\}$"
      ],
      "text/plain": [
       "⎧3   √17     3   √17   ⎫\n",
       "⎨─ - ───: 1, ─ + ───: 1⎬\n",
       "⎩2    2      2    2    ⎭"
      ]
     },
     "execution_count": 10,
     "metadata": {},
     "output_type": "execute_result"
    }
   ],
   "source": [
    "from sympy import Matrix\n",
    "Matrix([[1, 2], [2, 2]]).eigenvals()"
   ]
  },
  {
   "cell_type": "markdown",
   "metadata": {},
   "source": [
    "### `besselj`, Example of Bessel functions, special functions\n",
    "\n",
    "Rewrite the Bessel function $J_{\\nu}(z)$ in terms of the spherical Bessel function $j_{\\nu}(z)$"
   ]
  },
  {
   "cell_type": "code",
   "execution_count": 11,
   "metadata": {},
   "outputs": [
    {
     "data": {
      "text/latex": [
       "$\\displaystyle \\frac{\\sqrt{2} \\sqrt{z} j_{\\nu - \\frac{1}{2}}\\left(z\\right)}{\\sqrt{\\pi}}$"
      ],
      "text/plain": [
       "√2⋅√z⋅jn(ν - 1/2, z)\n",
       "────────────────────\n",
       "         √π         "
      ]
     },
     "execution_count": 11,
     "metadata": {},
     "output_type": "execute_result"
    }
   ],
   "source": [
    "from sympy import besselj, jn\n",
    "besselj(nu, z).rewrite(jn)"
   ]
  },
  {
   "cell_type": "code",
   "execution_count": 12,
   "metadata": {},
   "outputs": [
    {
     "data": {
      "text/plain": [
       "'\\\\int\\\\limits_{0}^{\\\\pi} \\\\cos^{2}{\\\\left(x \\\\right)}\\\\, dx'"
      ]
     },
     "execution_count": 12,
     "metadata": {},
     "output_type": "execute_result"
    }
   ],
   "source": [
    "from sympy import latex, Integral, pi\n",
    "latex(Integral(cos(x)**2, (x, 0, pi)))"
   ]
  },
  {
   "cell_type": "markdown",
   "metadata": {},
   "source": [
    "## [Sympy Gotchas](https://docs.sympy.org/latest/tutorial/gotchas.html)\n",
    "\n",
    "Name of a Smybol and name of the variable it's assigned need not have anything to do with one another.\n",
    "Best practice usually is to assing Symbols to Python variables of the same name. Symbol names can contain characters that aren't allowed in Python variable names, or assign Symbols long names to single letter Python variables."
   ]
  },
  {
   "cell_type": "code",
   "execution_count": 13,
   "metadata": {},
   "outputs": [
    {
     "name": "stdout",
     "output_type": "stream",
     "text": [
      "unrelated + 1\n"
     ]
    }
   ],
   "source": [
    "crazy = symbols('unrelated')\n",
    "print(crazy + 1)"
   ]
  },
  {
   "cell_type": "code",
   "execution_count": 14,
   "metadata": {},
   "outputs": [
    {
     "name": "stdout",
     "output_type": "stream",
     "text": [
      "x + 1\n",
      "abcdef\n",
      "abcdef\n",
      "3\n"
     ]
    }
   ],
   "source": [
    "x = symbols('x')\n",
    "expr = x + 1\n",
    "x = 2\n",
    "print(expr)\n",
    "\n",
    "x = 'abc'\n",
    "expr = x + 'def'\n",
    "print(expr)\n",
    "x = 'ABC'\n",
    "print(expr)\n",
    "\n",
    "x = symbols('x')\n",
    "expr = x + 1\n",
    "print(expr.subs(x, 2))"
   ]
  },
  {
   "cell_type": "markdown",
   "metadata": {},
   "source": [
    "Changing `x` to `2` had no effect on `expr`. This is because `x=2` changes the Python variable `x` to `2` but has no effect on SymPy Symbol `x`, which was what we used in creating `expr`. This is how python works."
   ]
  },
  {
   "cell_type": "code",
   "execution_count": 15,
   "metadata": {},
   "outputs": [
    {
     "name": "stdout",
     "output_type": "stream",
     "text": [
      "False\n"
     ]
    },
    {
     "data": {
      "text/latex": [
       "$\\displaystyle x + 1 = 4$"
      ],
      "text/plain": [
       "x + 1 = 4"
      ]
     },
     "execution_count": 15,
     "metadata": {},
     "output_type": "execute_result"
    }
   ],
   "source": [
    "print(x + 1 == 4)\n",
    "Eq(x + 1, 4)"
   ]
  },
  {
   "cell_type": "markdown",
   "metadata": {},
   "source": [
    "`Eq` is used to create **symbolic equalities**.\n",
    "\n",
    "It's best to check if a == b by taking a - b and simplify it. It can be [theoretical proven](https://en.wikipedia.org/wiki/Richardson%27s_theorem) that's impossible to determine if 2 symbolic expressions are identically equal in general."
   ]
  },
  {
   "cell_type": "code",
   "execution_count": 16,
   "metadata": {},
   "outputs": [
    {
     "name": "stdout",
     "output_type": "stream",
     "text": [
      "0\n",
      "4*x\n"
     ]
    }
   ],
   "source": [
    "from sympy import simplify\n",
    "a = (x + 1)**2\n",
    "b = x**2 + 2*x + 1\n",
    "print(simplify(a - b))\n",
    "c = x**2 - 2*x + 1\n",
    "print(simplify(a - c))"
   ]
  },
  {
   "cell_type": "markdown",
   "metadata": {},
   "source": [
    "There's also a method called `equals` that tests if 2 expressions are equal by **evaluting them numerically at random points.**"
   ]
  },
  {
   "cell_type": "code",
   "execution_count": 17,
   "metadata": {},
   "outputs": [
    {
     "name": "stdout",
     "output_type": "stream",
     "text": [
      "True\n",
      "0\n"
     ]
    }
   ],
   "source": [
    "a = cos(x)**2 - sin(x)**2\n",
    "b = cos(2*x)\n",
    "print(a.equals(b))\n",
    "\n",
    "# EY: 20200909\n",
    "print(simplify(a - b))"
   ]
  },
  {
   "cell_type": "code",
   "execution_count": 19,
   "metadata": {},
   "outputs": [
    {
     "name": "stdout",
     "output_type": "stream",
     "text": [
      "1/3\n",
      "0.5\n"
     ]
    }
   ],
   "source": [
    "from sympy import Integer\n",
    "print(Integer(1)/Integer(3))\n",
    "print(1/2) # PYthon 3 floating point division"
   ]
  },
  {
   "cell_type": "code",
   "execution_count": 20,
   "metadata": {},
   "outputs": [
    {
     "name": "stdout",
     "output_type": "stream",
     "text": [
      "1/2\n",
      "x + 1/2\n"
     ]
    }
   ],
   "source": [
    "from sympy import Rational\n",
    "print(Rational(1, 2))\n",
    "print(x + Rational(1, 2))"
   ]
  },
  {
   "cell_type": "markdown",
   "metadata": {},
   "source": [
    "Further reading for [Gotchas and Pitfalls](https://docs.sympy.org/latest/gotchas.html#gotchas)"
   ]
  },
  {
   "cell_type": "markdown",
   "metadata": {},
   "source": [
    "## [Basic Operations](https://docs.sympy.org/latest/tutorial/basic_operations.html)"
   ]
  },
  {
   "cell_type": "markdown",
   "metadata": {},
   "source": [
    "### Substitution"
   ]
  },
  {
   "cell_type": "code",
   "execution_count": 28,
   "metadata": {},
   "outputs": [
    {
     "name": "stdout",
     "output_type": "stream",
     "text": [
      "cos(y) + 1\n",
      "2\n",
      "x**y\n",
      "x**(x**y)\n",
      "x**(x**(x**x))\n",
      "2*sin(x)*cos(x) + 2*cos(x)**2 - 1\n",
      "sin(2*x) + cos(2*x)\n"
     ]
    }
   ],
   "source": [
    "x, y, z = symbols(\"x y z\")\n",
    "expr = cos(x) + 1\n",
    "print(expr.subs(x, y))\n",
    "print(expr.subs(x, 0))\n",
    "expr = x**y\n",
    "print(expr)\n",
    "expr = expr.subs(y, x**y)\n",
    "print(expr)\n",
    "expr = expr.subs(y, x**x)\n",
    "print(expr)\n",
    "\n",
    "from sympy import expand_trig\n",
    "expr = sin(2*x) + cos(2*x)\n",
    "print(expand_trig(expr))\n",
    "# An easy way is just replace sin(2x) with 2sin(x)cos(x)\n",
    "expr.subs(sin(2*x), 2*sin(x)*cos(x))\n",
    "print(expr)"
   ]
  },
  {
   "cell_type": "markdown",
   "metadata": {},
   "source": [
    "2 important things to note about `subs`:\n",
    "1. returns new expression, SymPy objects are immutable. That means `subs` doesn't modify it in-place\n",
    "2. "
   ]
  },
  {
   "cell_type": "code",
   "execution_count": 30,
   "metadata": {},
   "outputs": [
    {
     "name": "stdout",
     "output_type": "stream",
     "text": [
      "1\n",
      "cos(x)\n",
      "x\n",
      "40\n"
     ]
    }
   ],
   "source": [
    "expr = cos(x)\n",
    "print(expr.subs(x, 0))\n",
    "print(expr)\n",
    "print(x)\n",
    "\n",
    "expr = x**3 + 4*x*y - z\n",
    "# To perform multiple substitutions at once, pass a list of (old, new) pairs to subs\n",
    "print(expr.subs([(x, 2), (y, 4), (z, 0)]))\n",
    "\n",
    "expr = x**4 - 4*x**3 + 4*x**2 - 2*x + 3\n",
    "# Often useful to combine this list comprehension to do a large set of\n",
    "# similar replacements all at once.\n",
    "# For example, say we wanted to replace all instances of x that have\n",
    "# an even power with y\n",
    "replacements = [(x**i, y**i) for i in range(5) if i % 2 == 0]"
   ]
  },
  {
   "cell_type": "markdown",
   "metadata": {},
   "source": [
    "#### Converting Strings to SymPy Expressions, `sympify`"
   ]
  },
  {
   "cell_type": "code",
   "execution_count": 31,
   "metadata": {},
   "outputs": [
    {
     "name": "stdout",
     "output_type": "stream",
     "text": [
      "x**2 + 3*x - 1/2\n",
      "19/2\n"
     ]
    }
   ],
   "source": [
    "from sympy import sympify\n",
    "str_expr = \"x**2 + 3*x - 1/2\"\n",
    "expr = sympify(str_expr)\n",
    "print(expr)\n",
    "print(expr.subs(x, 2))"
   ]
  },
  {
   "cell_type": "markdown",
   "metadata": {},
   "source": [
    "## `evalf`, evaluate numerical expression"
   ]
  },
  {
   "cell_type": "code",
   "execution_count": 33,
   "metadata": {},
   "outputs": [
    {
     "name": "stdout",
     "output_type": "stream",
     "text": [
      "2.82842712474619\n",
      "3.141592653589793238462643383279502884197169399375105820974944592307816406286208998628034825342117068\n"
     ]
    }
   ],
   "source": [
    "from sympy import sqrt\n",
    "expr = sqrt(8) # Default 15 digits of precision\n",
    "print(expr.evalf())\n",
    "print(pi.evalf(100)) # Compute first 100 digits of pi"
   ]
  },
  {
   "cell_type": "markdown",
   "metadata": {},
   "source": [
    "It's more efficient and numerically stable to pass the substitution to `evalf` using `subs` flag to numerically evaluate an expression."
   ]
  },
  {
   "cell_type": "code",
   "execution_count": 36,
   "metadata": {},
   "outputs": [
    {
     "name": "stdout",
     "output_type": "stream",
     "text": [
      "0.0874989834394464\n",
      "-0.e-124\n",
      "0\n"
     ]
    }
   ],
   "source": [
    "expr = cos(2*x)\n",
    "print(expr.evalf(subs={x: 2.4}))\n",
    "\n",
    "# Set desired precision\n",
    "one = cos(1)**2 + sin(1)**2\n",
    "print((one - 1).evalf())\n",
    "print((one - 1).evalf(chop=True))"
   ]
  },
  {
   "cell_type": "markdown",
   "metadata": {},
   "source": [
    "## `lambdify`, convert Sympy expression to expression for numerics\n",
    "\n",
    "Convert Sympy expression to an expression that can be numerically evaluated using lambdify.\n",
    "\n",
    "Warning: lambdify uses eval. Don't use it on unsanitized input."
   ]
  },
  {
   "cell_type": "code",
   "execution_count": 37,
   "metadata": {},
   "outputs": [
    {
     "ename": "ModuleNotFoundError",
     "evalue": "No module named 'numpy'",
     "output_type": "error",
     "traceback": [
      "\u001b[0;31m---------------------------------------------------------------------------\u001b[0m",
      "\u001b[0;31mModuleNotFoundError\u001b[0m                       Traceback (most recent call last)",
      "\u001b[0;32m<ipython-input-37-fb01d05216bd>\u001b[0m in \u001b[0;36m<module>\u001b[0;34m\u001b[0m\n\u001b[0;32m----> 1\u001b[0;31m \u001b[0;32mimport\u001b[0m \u001b[0mnumpy\u001b[0m\u001b[0;34m\u001b[0m\u001b[0;34m\u001b[0m\u001b[0m\n\u001b[0m\u001b[1;32m      2\u001b[0m \u001b[0ma\u001b[0m \u001b[0;34m=\u001b[0m \u001b[0mnumpy\u001b[0m\u001b[0;34m.\u001b[0m\u001b[0marange\u001b[0m\u001b[0;34m(\u001b[0m\u001b[0;36m10\u001b[0m\u001b[0;34m)\u001b[0m\u001b[0;34m\u001b[0m\u001b[0;34m\u001b[0m\u001b[0m\n\u001b[1;32m      3\u001b[0m \u001b[0mexpr\u001b[0m \u001b[0;34m=\u001b[0m \u001b[0msin\u001b[0m\u001b[0;34m(\u001b[0m\u001b[0mx\u001b[0m\u001b[0;34m)\u001b[0m\u001b[0;34m\u001b[0m\u001b[0;34m\u001b[0m\u001b[0m\n\u001b[1;32m      4\u001b[0m \u001b[0mf\u001b[0m \u001b[0;34m=\u001b[0m \u001b[0mlambdify\u001b[0m\u001b[0;34m(\u001b[0m\u001b[0mx\u001b[0m\u001b[0;34m,\u001b[0m \u001b[0mexpr\u001b[0m\u001b[0;34m,\u001b[0m \u001b[0;34m\"numpy\"\u001b[0m\u001b[0;34m)\u001b[0m\u001b[0;34m\u001b[0m\u001b[0;34m\u001b[0m\u001b[0m\n\u001b[1;32m      5\u001b[0m \u001b[0mprint\u001b[0m\u001b[0;34m(\u001b[0m\u001b[0mf\u001b[0m\u001b[0;34m(\u001b[0m\u001b[0ma\u001b[0m\u001b[0;34m)\u001b[0m\u001b[0;34m)\u001b[0m\u001b[0;34m\u001b[0m\u001b[0;34m\u001b[0m\u001b[0m\n",
      "\u001b[0;31mModuleNotFoundError\u001b[0m: No module named 'numpy'"
     ]
    }
   ],
   "source": [
    "import numpy\n",
    "a = numpy.arange(10)\n",
    "expr = sin(x)\n",
    "f = lambdify(x, expr, \"numpy\")\n",
    "print(f(a))\n",
    "\n",
    "# Use other libraries than numpy, e.g. use standard library math\n",
    "f = lambdify(x, expr, \"math\")\n",
    "print(f(0.1))\n",
    "\n",
    "def mysin(x):\n",
    "    \"\"\"\n",
    "    My sine. Note that this is only accurate for small x\n",
    "    \"\"\"\n",
    "    return x\n",
    "f = lambdify(x, expr, {\"sin\":mysin})\n",
    "print(f(0.1))"
   ]
  },
  {
   "cell_type": "code",
   "execution_count": null,
   "metadata": {},
   "outputs": [],
   "source": []
  },
  {
   "cell_type": "markdown",
   "metadata": {},
   "source": [
    "Go also to [advanced expression manipulation](https://docs.sympy.org/latest/tutorial/manipulation.html#tutorial-manipulation)"
   ]
  },
  {
   "cell_type": "code",
   "execution_count": null,
   "metadata": {},
   "outputs": [],
   "source": []
  },
  {
   "cell_type": "code",
   "execution_count": null,
   "metadata": {},
   "outputs": [],
   "source": []
  }
 ],
 "metadata": {
  "kernelspec": {
   "display_name": "Python 3",
   "language": "python",
   "name": "python3"
  },
  "language_info": {
   "codemirror_mode": {
    "name": "ipython",
    "version": 3
   },
   "file_extension": ".py",
   "mimetype": "text/x-python",
   "name": "python",
   "nbconvert_exporter": "python",
   "pygments_lexer": "ipython3",
   "version": "3.8.2"
  }
 },
 "nbformat": 4,
 "nbformat_minor": 2
}
