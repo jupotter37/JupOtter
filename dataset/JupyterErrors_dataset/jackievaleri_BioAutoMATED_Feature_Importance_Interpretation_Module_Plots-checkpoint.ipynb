{
 "cells": [
  {
   "cell_type": "markdown",
   "metadata": {},
   "source": [
    "# NOTE: this code is normally obscured within BioSeq-AutoML\n",
    "### For maximum flexibility and so users can continue to explore the codebase, we have pulled out the relevant functionality for all intepretation module functions."
   ]
  },
  {
   "cell_type": "code",
   "execution_count": 2,
   "metadata": {},
   "outputs": [
    {
     "name": "stderr",
     "output_type": "stream",
     "text": [
      "Using TensorFlow backend.\n"
     ]
    },
    {
     "name": "stdout",
     "output_type": "stream",
     "text": [
      "Better speed can be achieved with apex installed from https://www.github.com/nvidia/apex.\n"
     ]
    },
    {
     "ename": "FileNotFoundError",
     "evalue": "[Errno 2] No such file or directory: './main_classes/glycoletter_lib.pkl'",
     "output_type": "error",
     "traceback": [
      "\u001b[0;31m---------------------------------------------------------------------------\u001b[0m",
      "\u001b[0;31mFileNotFoundError\u001b[0m                         Traceback (most recent call last)",
      "\u001b[0;32m<ipython-input-2-dcd08f4b11d0>\u001b[0m in \u001b[0;36m<module>\u001b[0;34m\u001b[0m\n\u001b[1;32m      2\u001b[0m \u001b[0;32mimport\u001b[0m \u001b[0msys\u001b[0m\u001b[0;34m\u001b[0m\u001b[0;34m\u001b[0m\u001b[0m\n\u001b[1;32m      3\u001b[0m \u001b[0msys\u001b[0m\u001b[0;34m.\u001b[0m\u001b[0mpath\u001b[0m\u001b[0;34m.\u001b[0m\u001b[0minsert\u001b[0m\u001b[0;34m(\u001b[0m\u001b[0;36m1\u001b[0m\u001b[0;34m,\u001b[0m \u001b[0;34m'../main_classes/'\u001b[0m\u001b[0;34m)\u001b[0m\u001b[0;34m\u001b[0m\u001b[0;34m\u001b[0m\u001b[0m\n\u001b[0;32m----> 4\u001b[0;31m \u001b[0;32mfrom\u001b[0m \u001b[0mBioSeqAutoML_generic_deepswarm\u001b[0m \u001b[0;32mimport\u001b[0m \u001b[0mconvert_deepswarm_input\u001b[0m\u001b[0;34m\u001b[0m\u001b[0;34m\u001b[0m\u001b[0m\n\u001b[0m\u001b[1;32m      5\u001b[0m \u001b[0;32mfrom\u001b[0m \u001b[0mBioSeqAutoML_generic_tpot\u001b[0m \u001b[0;32mimport\u001b[0m \u001b[0mconvert_tpot_input\u001b[0m\u001b[0;34m\u001b[0m\u001b[0;34m\u001b[0m\u001b[0m\n\u001b[1;32m      6\u001b[0m \u001b[0;32mfrom\u001b[0m \u001b[0mBioSeqAutoML_generic_automl_classes\u001b[0m \u001b[0;32mimport\u001b[0m \u001b[0mAutoMLBackend\u001b[0m\u001b[0;34m\u001b[0m\u001b[0;34m\u001b[0m\u001b[0m\n",
      "\u001b[0;32m~/Desktop/autoML/final_clean_BioSeqAutoML_for_publication/main_classes/BioSeqAutoML_generic_deepswarm.py\u001b[0m in \u001b[0;36m<module>\u001b[0;34m\u001b[0m\n\u001b[1;32m      7\u001b[0m \u001b[0;32mimport\u001b[0m \u001b[0msys\u001b[0m\u001b[0;34m\u001b[0m\u001b[0;34m\u001b[0m\u001b[0m\n\u001b[1;32m      8\u001b[0m \u001b[0msys\u001b[0m\u001b[0;34m.\u001b[0m\u001b[0mpath\u001b[0m\u001b[0;34m.\u001b[0m\u001b[0minsert\u001b[0m\u001b[0;34m(\u001b[0m\u001b[0;36m1\u001b[0m\u001b[0;34m,\u001b[0m \u001b[0;34m'main_classes/'\u001b[0m\u001b[0;34m)\u001b[0m\u001b[0;34m\u001b[0m\u001b[0;34m\u001b[0m\u001b[0m\n\u001b[0;32m----> 9\u001b[0;31m \u001b[0;32mfrom\u001b[0m \u001b[0mBioSeqAutoML_generic_automl_classes\u001b[0m \u001b[0;32mimport\u001b[0m \u001b[0;34m*\u001b[0m\u001b[0;34m\u001b[0m\u001b[0;34m\u001b[0m\u001b[0m\n\u001b[0m\u001b[1;32m     10\u001b[0m \u001b[0;32mfrom\u001b[0m \u001b[0mBioSeqAutoML_interpret_helpers\u001b[0m \u001b[0;32mimport\u001b[0m \u001b[0mplot_mutagenesis\u001b[0m\u001b[0;34m,\u001b[0m \u001b[0mplot_rawseqlogos\u001b[0m\u001b[0;34m,\u001b[0m \u001b[0mplot_activation_maps\u001b[0m\u001b[0;34m,\u001b[0m \u001b[0mplot_saliency_maps\u001b[0m\u001b[0;34m,\u001b[0m \u001b[0mplot_seqlogos\u001b[0m\u001b[0;34m\u001b[0m\u001b[0;34m\u001b[0m\u001b[0m\n\u001b[1;32m     11\u001b[0m \u001b[0;32mfrom\u001b[0m \u001b[0mBioSeqAutoML_integrated_design_helpers\u001b[0m \u001b[0;32mimport\u001b[0m \u001b[0mintegrated_design\u001b[0m\u001b[0;34m\u001b[0m\u001b[0;34m\u001b[0m\u001b[0m\n",
      "\u001b[0;32m~/Desktop/autoML/final_clean_BioSeqAutoML_for_publication/main_classes/BioSeqAutoML_generic_automl_classes.py\u001b[0m in \u001b[0;36m<module>\u001b[0;34m\u001b[0m\n\u001b[1;32m     69\u001b[0m \u001b[0;31m# library containing list of glycoletters curated from SweetTalk\u001b[0m\u001b[0;34m\u001b[0m\u001b[0;34m\u001b[0m\u001b[0;34m\u001b[0m\u001b[0m\n\u001b[1;32m     70\u001b[0m \u001b[0mpath\u001b[0m \u001b[0;34m=\u001b[0m \u001b[0;34m'./main_classes/'\u001b[0m\u001b[0;34m\u001b[0m\u001b[0;34m\u001b[0m\u001b[0m\n\u001b[0;32m---> 71\u001b[0;31m \u001b[0;32mwith\u001b[0m \u001b[0mopen\u001b[0m\u001b[0;34m(\u001b[0m\u001b[0mpath\u001b[0m \u001b[0;34m+\u001b[0m \u001b[0;34m'glycoletter_lib.pkl'\u001b[0m\u001b[0;34m,\u001b[0m \u001b[0;34m'rb'\u001b[0m\u001b[0;34m)\u001b[0m \u001b[0;32mas\u001b[0m \u001b[0mfile\u001b[0m\u001b[0;34m:\u001b[0m\u001b[0;34m\u001b[0m\u001b[0;34m\u001b[0m\u001b[0m\n\u001b[0m\u001b[1;32m     72\u001b[0m     \u001b[0mglycoletter_lib\u001b[0m \u001b[0;34m=\u001b[0m \u001b[0mpickle\u001b[0m\u001b[0;34m.\u001b[0m\u001b[0mload\u001b[0m\u001b[0;34m(\u001b[0m\u001b[0mfile\u001b[0m\u001b[0;34m)\u001b[0m\u001b[0;34m\u001b[0m\u001b[0;34m\u001b[0m\u001b[0m\n\u001b[1;32m     73\u001b[0m \u001b[0;34m\u001b[0m\u001b[0m\n",
      "\u001b[0;31mFileNotFoundError\u001b[0m: [Errno 2] No such file or directory: './main_classes/glycoletter_lib.pkl'"
     ]
    }
   ],
   "source": [
    "# import statements \n",
    "from BioSeqAutoML_generic_deepswarm import convert_deepswarm_input\n",
    "from BioSeqAutoML_generic_tpot import convert_tpot_input\n",
    "from BioSeqAutoML_generic_automl_classes import AutoMLBackend\n",
    "from BioSeqAutoML_generic_automl_classes import process_glycans, checkValidity, fill, makeComplement\n",
    "from BioSeqAutoML_interpret_helpers import plot_ft_importance\n",
    "\n",
    "import matplotlib.pyplot as plt\n",
    "%matplotlib inline\n",
    "import pickle\n",
    "import pandas as pd"
   ]
  },
  {
   "cell_type": "markdown",
   "metadata": {},
   "source": [
    "# TPOT - feature importances example"
   ]
  },
  {
   "cell_type": "markdown",
   "metadata": {},
   "source": [
    "# Peptides"
   ]
  },
  {
   "cell_type": "code",
   "execution_count": null,
   "metadata": {
    "scrolled": false
   },
   "outputs": [],
   "source": [
    "# read in data file\n",
    "data_dir = './clean_data/clean/'\n",
    "file_name = 'classification_train_peptides.csv'\n",
    "data_df = pd.read_csv(data_dir + file_name,sep=',')\n",
    "data_df = data_df.iloc[0:5000,:]\n",
    "data_df.head(3)\n",
    "\n",
    "# give inputs for data generation\n",
    "input_col_name = 'seq'\n",
    "df_data_input = data_df[input_col_name]\n",
    "df_data_output = data_df['target']\n",
    "pad_seqs = False\n",
    "augment_data = 'none'\n",
    "sequence_type = 'protein'\n",
    "\n",
    "_, oh_data_input, _, _, _, _ = convert_tpot_input(df_data_input, df_data_output, pad_seqs, augment_data, sequence_type)\n",
    "\n",
    "# give inputs for paths\n",
    "print(\"TPOT\")\n",
    "final_model_path = '../final_exemplars/peptides/outputs/tpot/binary_classification/'\n",
    "final_model_name = 'final_model_tpot_classification.pkl'\n",
    "output_folder = final_model_path\n",
    "\n",
    "plot_ft_importance(oh_data_input, final_model_path, final_model_name, final_model_path + 'interpretation/', '_feature_importances.png')\n"
   ]
  },
  {
   "cell_type": "markdown",
   "metadata": {},
   "source": [
    "# Small Synthetic"
   ]
  },
  {
   "cell_type": "code",
   "execution_count": null,
   "metadata": {},
   "outputs": [],
   "source": [
    "# read in data file\n",
    "data_dir = './clean_data/clean/'\n",
    "file_name = 'small_synthetic.csv'\n",
    "data_df = pd.read_csv(data_dir + file_name,sep=',')\n",
    "data_df = data_df.iloc[0:5000,:]\n",
    "data_df.head(3)\n",
    "\n",
    "# give inputs for data generation\n",
    "input_col_name = 'seq'\n",
    "df_data_input = data_df[input_col_name]\n",
    "df_data_output = data_df['positive_score']\n",
    "pad_seqs = False\n",
    "augment_data = 'none'\n",
    "sequence_type = 'nucleic_acid'\n",
    "\n",
    "_, oh_data_input, _, _, _, _ = convert_tpot_input(df_data_input, df_data_output, pad_seqs, augment_data, sequence_type)\n",
    "\n",
    "# give inputs for paths\n",
    "print(\"TPOT\")\n",
    "final_model_path = '../final_exemplars/synthetic_nucleic_acids/outputs/tpot/binary_classification/'\n",
    "final_model_name = 'final_model_tpot_classification.pkl'\n",
    "output_folder = final_model_path\n",
    "\n",
    "plot_ft_importance(oh_data_input, final_model_path, final_model_name, final_model_path + 'interpretation/', '_feature_importances.png')\n",
    "\n"
   ]
  },
  {
   "cell_type": "markdown",
   "metadata": {},
   "source": [
    "# RBS"
   ]
  },
  {
   "cell_type": "code",
   "execution_count": null,
   "metadata": {},
   "outputs": [],
   "source": [
    "# read in data file\n",
    "data_dir = './clean_data/clean/'\n",
    "file_name = 'hollerer_rbs_train.csv'\n",
    "data_df = pd.read_csv(data_dir + file_name,sep=',')\n",
    "data_df = data_df.iloc[0:5000,:]\n",
    "data_df.head(3)\n",
    "\n",
    "# give inputs for data generation\n",
    "input_col_name = 'seq'\n",
    "df_data_input = data_df[input_col_name]\n",
    "df_data_output = data_df['out']\n",
    "pad_seqs = False\n",
    "augment_data = 'none'\n",
    "sequence_type = 'nucleic_acid'\n",
    "\n",
    "_, oh_data_input, _, _, _, _ = convert_tpot_input(df_data_input, df_data_output, pad_seqs, augment_data, sequence_type)\n",
    "\n",
    "# give inputs for paths\n",
    "print(\"TPOT\")\n",
    "final_model_path = '../final_exemplars/rbs_fullset/outputs/tpot/multiclass_classification/'\n",
    "final_model_name = 'final_model_tpot_classification.pkl'\n",
    "output_folder = final_model_path\n",
    "\n",
    "plot_ft_importance(oh_data_input, final_model_path, final_model_name, final_model_path + 'interpretation/', '_feature_importances.png')\n"
   ]
  },
  {
   "cell_type": "markdown",
   "metadata": {},
   "source": [
    "# Glycans - Multi-class phylogenetic domains"
   ]
  },
  {
   "cell_type": "code",
   "execution_count": null,
   "metadata": {},
   "outputs": [],
   "source": [
    "# read in data file\n",
    "data_dir = './clean_data/multiclass/'\n",
    "file_name = 'domain_glycans.csv'\n",
    "data_df = pd.read_csv(data_dir + file_name,sep=',')\n",
    "data_df.head(3)\n",
    "\n",
    "# give inputs for data generation\n",
    "input_col_name = 'seq'\n",
    "df_data_input = data_df[input_col_name]\n",
    "df_data_output = data_df['target']\n",
    "pad_seqs = 'average'\n",
    "augment_data = 'none'\n",
    "sequence_type = 'glycan'\n",
    "\n",
    "_, oh_data_input, _, _, _, _ = convert_tpot_input(df_data_input, df_data_output, pad_seqs, augment_data, sequence_type)\n",
    "\n",
    "# give inputs for paths\n",
    "print(\"TPOT\")\n",
    "final_model_path = '../final_exemplars/glycan_domain_average/outputs/tpot/multiclass_classification/'\n",
    "final_model_name = 'final_model_tpot_classification.pkl'\n",
    "output_folder = final_model_path\n",
    "\n",
    "plot_ft_importance(oh_data_input, final_model_path, final_model_name, final_model_path + 'interpretation/', '_feature_importances.png')\n"
   ]
  },
  {
   "cell_type": "markdown",
   "metadata": {},
   "source": [
    "# Toeholds - Regression"
   ]
  },
  {
   "cell_type": "code",
   "execution_count": null,
   "metadata": {},
   "outputs": [],
   "source": [
    "# read in data file\n",
    "data_dir = './clean_data/clean/'\n",
    "file_name = 'toeholds.csv'\n",
    "data_df = pd.read_csv(data_dir + file_name,sep=',')\n",
    "data_df = data_df.iloc[0:5000,:]\n",
    "data_df.head(3)\n",
    "\n",
    "# give inputs for data generation\n",
    "input_col_name = 'seq'\n",
    "df_data_input = data_df[input_col_name]\n",
    "df_data_output = data_df['target']\n",
    "pad_seqs = False\n",
    "augment_data = 'none'\n",
    "sequence_type = 'nucleic_acid'\n",
    "\n",
    "_, oh_data_input, _, _, _, _ = convert_tpot_input(df_data_input, df_data_output, pad_seqs, augment_data, sequence_type)\n",
    "\n",
    "# give inputs for paths\n",
    "print(\"TPOT\")\n",
    "final_model_path = '../final_exemplars/toeholds/outputs/tpot/regression/'\n",
    "final_model_name = 'final_model_tpot_regression.pkl'\n",
    "output_folder = final_model_path\n",
    "\n",
    "plot_ft_importance(oh_data_input, final_model_path, final_model_name, final_model_path + 'interpretation/', '_feature_importances.png')\n",
    "\n"
   ]
  },
  {
   "cell_type": "markdown",
   "metadata": {},
   "source": [
    "# Toeholds - Classification"
   ]
  },
  {
   "cell_type": "code",
   "execution_count": null,
   "metadata": {},
   "outputs": [],
   "source": [
    "# read in data file\n",
    "data_dir = './clean_data/clean/'\n",
    "file_name = 'toeholds.csv'\n",
    "data_df = pd.read_csv(data_dir + file_name,sep=',')\n",
    "data_df = data_df.iloc[0:5000,:]\n",
    "data_df.head(3)\n",
    "\n",
    "# give inputs for data generation\n",
    "input_col_name = 'seq'\n",
    "df_data_input = data_df[input_col_name]\n",
    "df_data_output = data_df['target']\n",
    "pad_seqs = False\n",
    "augment_data = 'none'\n",
    "sequence_type = 'nucleic_acid'\n",
    "\n",
    "_, oh_data_input, _, _, _, _ = convert_tpot_input(df_data_input, df_data_output, pad_seqs, augment_data, sequence_type)\n",
    "\n",
    "# give inputs for paths\n",
    "print(\"TPOT\")\n",
    "final_model_path = '../final_exemplars/toeholds/outputs/tpot/binary_classification/'\n",
    "final_model_name = 'final_model_tpot_classification.pkl'\n",
    "output_folder = final_model_path\n",
    "\n",
    "plot_ft_importance(oh_data_input, final_model_path, final_model_name, final_model_path + 'interpretation/', '_feature_importances.png')\n",
    "\n"
   ]
  }
 ],
 "metadata": {
  "kernelspec": {
   "display_name": "automl_py37",
   "language": "python",
   "name": "automl_py37"
  },
  "language_info": {
   "codemirror_mode": {
    "name": "ipython",
    "version": 3
   },
   "file_extension": ".py",
   "mimetype": "text/x-python",
   "name": "python",
   "nbconvert_exporter": "python",
   "pygments_lexer": "ipython3",
   "version": "3.7.10"
  }
 },
 "nbformat": 4,
 "nbformat_minor": 2
}
