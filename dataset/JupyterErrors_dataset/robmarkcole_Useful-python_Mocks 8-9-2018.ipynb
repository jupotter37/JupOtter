{
 "cells": [
  {
   "cell_type": "markdown",
   "metadata": {},
   "source": [
    "## Testing with unitest\n",
    "We use testing to check the interactions between other already tested code.\n",
    "\n",
    "https://docs.python.org/3/library/unittest.mock.html\n",
    "\n",
    "`Mock` and `MagicMock` objects create all attributes and methods as you access them and store details of how they have been used. You can configure them, to specify return values or limit what attributes are available, and then make assertions about how they have been used:"
   ]
  },
  {
   "cell_type": "code",
   "execution_count": 3,
   "metadata": {},
   "outputs": [],
   "source": [
    "from unittest.mock import Mock, MagicMock, patch\n",
    "import pytest\n",
    "import os\n",
    "DOMAIN = 'fake'\n",
    "EVENT_TYPE = 'deleted'\n",
    "FILE = 'file.txt'\n",
    "FOLDER = 'test'\n",
    "SRC_PATH = 'test/file.txt'"
   ]
  },
  {
   "cell_type": "code",
   "execution_count": 2,
   "metadata": {},
   "outputs": [],
   "source": [
    "# Create a fake class for example purposes\n",
    "\n",
    "class ProductionClass():\n",
    "    \"\"\"A fake class.\"\"\"\n",
    "    def __init__(self):\n",
    "        pass\n",
    "    \n",
    "    def method(self):\n",
    "        pass"
   ]
  },
  {
   "cell_type": "markdown",
   "metadata": {},
   "source": [
    "Mock the return of a class method"
   ]
  },
  {
   "cell_type": "code",
   "execution_count": 3,
   "metadata": {},
   "outputs": [],
   "source": [
    "thing = ProductionClass()\n",
    "thing.method = MagicMock(return_value=3)"
   ]
  },
  {
   "cell_type": "code",
   "execution_count": 4,
   "metadata": {},
   "outputs": [
    {
     "data": {
      "text/plain": [
       "3"
      ]
     },
     "execution_count": 4,
     "metadata": {},
     "output_type": "execute_result"
    }
   ],
   "source": [
    "thing.method(3, 4, 5, key='value')"
   ]
  },
  {
   "cell_type": "markdown",
   "metadata": {},
   "source": [
    "Assert that the method has been called"
   ]
  },
  {
   "cell_type": "code",
   "execution_count": 5,
   "metadata": {},
   "outputs": [],
   "source": [
    "thing.method.assert_called_with(3, 4, 5, key='value') # An error is raised if assert_called_with is false"
   ]
  },
  {
   "cell_type": "markdown",
   "metadata": {},
   "source": [
    "#### Function generators\n",
    "\n",
    "Commonn practice is to generate mock objects from functions with their attributes correctly configured."
   ]
  },
  {
   "cell_type": "code",
   "execution_count": 6,
   "metadata": {},
   "outputs": [],
   "source": [
    "def get_fake_event(src_path=SRC_PATH, event_type=EVENT_TYPE):\n",
    "    \"\"\"Generate a Fake watchdog event object with the specified arguments.\"\"\"\n",
    "    return MagicMock(\n",
    "        src_path=src_path, event_type=event_type, is_directory=False)"
   ]
  },
  {
   "cell_type": "code",
   "execution_count": 7,
   "metadata": {},
   "outputs": [],
   "source": [
    "fake_event = get_fake_event()"
   ]
  },
  {
   "cell_type": "code",
   "execution_count": 8,
   "metadata": {},
   "outputs": [
    {
     "data": {
      "text/plain": [
       "'test/file.txt'"
      ]
     },
     "execution_count": 8,
     "metadata": {},
     "output_type": "execute_result"
    }
   ],
   "source": [
    "fake_event.src_path"
   ]
  },
  {
   "cell_type": "code",
   "execution_count": 9,
   "metadata": {},
   "outputs": [
    {
     "name": "stdout",
     "output_type": "stream",
     "text": [
      "test\n",
      "file.txt\n"
     ]
    }
   ],
   "source": [
    "folder, file_name = os.path.split(fake_event.src_path)\n",
    "print(folder)\n",
    "print(file_name)"
   ]
  },
  {
   "cell_type": "code",
   "execution_count": 10,
   "metadata": {},
   "outputs": [
    {
     "data": {
      "text/plain": [
       "'deleted'"
      ]
     },
     "execution_count": 10,
     "metadata": {},
     "output_type": "execute_result"
    }
   ],
   "source": [
    "fake_event.event_type"
   ]
  },
  {
   "cell_type": "code",
   "execution_count": 11,
   "metadata": {},
   "outputs": [
    {
     "data": {
      "text/plain": [
       "False"
      ]
     },
     "execution_count": 11,
     "metadata": {},
     "output_type": "execute_result"
    }
   ],
   "source": [
    "fake_event.is_directory"
   ]
  },
  {
   "cell_type": "markdown",
   "metadata": {},
   "source": [
    "## Fake HASS\n",
    "\n",
    "Just use Mock to test a method."
   ]
  },
  {
   "cell_type": "code",
   "execution_count": 12,
   "metadata": {},
   "outputs": [],
   "source": [
    "fake_hass = Mock()"
   ]
  },
  {
   "cell_type": "code",
   "execution_count": 13,
   "metadata": {},
   "outputs": [
    {
     "data": {
      "text/plain": [
       "<Mock name='mock.bus.fire()' id='4370268848'>"
      ]
     },
     "execution_count": 13,
     "metadata": {},
     "output_type": "execute_result"
    }
   ],
   "source": [
    "fake_hass.bus.fire('test')"
   ]
  },
  {
   "cell_type": "code",
   "execution_count": 14,
   "metadata": {},
   "outputs": [
    {
     "data": {
      "text/plain": [
       "<Mock name='mock.bus.fire()' id='4370268848'>"
      ]
     },
     "execution_count": 14,
     "metadata": {},
     "output_type": "execute_result"
    }
   ],
   "source": [
    "fake_hass.bus.fire('test')"
   ]
  },
  {
   "cell_type": "code",
   "execution_count": 15,
   "metadata": {},
   "outputs": [
    {
     "data": {
      "text/plain": [
       "<Mock name='mock.bus.fire()' id='4370268848'>"
      ]
     },
     "execution_count": 15,
     "metadata": {},
     "output_type": "execute_result"
    }
   ],
   "source": [
    "payload = {\"event_type\": fake_event.event_type,\n",
    "           'path': fake_event.src_path,\n",
    "           'file': 'file.txt',\n",
    "           'folder': 'test'}\n",
    "\n",
    "fake_hass.bus.fire(DOMAIN, payload)"
   ]
  },
  {
   "cell_type": "code",
   "execution_count": 16,
   "metadata": {},
   "outputs": [],
   "source": [
    "fake_hass.bus.fire.assert_called_with(DOMAIN, payload)"
   ]
  },
  {
   "cell_type": "markdown",
   "metadata": {},
   "source": [
    "## Modules\n",
    "\n",
    "Mock a whole module"
   ]
  },
  {
   "cell_type": "code",
   "execution_count": 17,
   "metadata": {},
   "outputs": [],
   "source": [
    "def test_import_patching():\n",
    "    module_mock = MagicMock()\n",
    "    with patch.dict('sys.modules', **{ \n",
    "            'unimportable_module': module_mock,\n",
    "            'unimportable_module.submodule': module_mock,\n",
    "        }):\n",
    "        import unimportable_module.submodule\n",
    "        assert unimportable_module.submodule == module_mock.submodule"
   ]
  },
  {
   "cell_type": "markdown",
   "metadata": {},
   "source": [
    "## Mock Patch\n",
    "\n",
    "https://blog.fugue.co/2016-02-11-python-mocking-101.html\n",
    "\n",
    "The patch() decorator makes it easy to mock classes or objects in a module under test. The object you specify will be replaced with a mock (or other object) during the test and restored when the test ends:"
   ]
  },
  {
   "cell_type": "markdown",
   "metadata": {},
   "source": [
    "As well as a decorator patch() can be used as a context manager in a with statement:"
   ]
  },
  {
   "cell_type": "code",
   "execution_count": 18,
   "metadata": {},
   "outputs": [
    {
     "name": "stdout",
     "output_type": "stream",
     "text": [
      "my return\n"
     ]
    }
   ],
   "source": [
    "with patch.object(ProductionClass, 'method', return_value=\"my return\") as mock_method:\n",
    "    thing = ProductionClass()\n",
    "    print(thing.method(1, 2, 3))"
   ]
  },
  {
   "cell_type": "code",
   "execution_count": 19,
   "metadata": {},
   "outputs": [],
   "source": [
    "test_import_patching()"
   ]
  },
  {
   "cell_type": "markdown",
   "metadata": {},
   "source": [
    "## Hass"
   ]
  },
  {
   "cell_type": "code",
   "execution_count": 20,
   "metadata": {},
   "outputs": [],
   "source": [
    "def create_event_handler(hass):\n",
    "    \"\"\"\"Return the Watchdog EventHandler object.\"\"\"\n",
    "\n",
    "    class EventHandler():\n",
    "        \"\"\"Class for handling Watcher events.\"\"\"\n",
    "\n",
    "        def __init__(self, hass):\n",
    "            \"\"\"Initialise the EventHandler.\"\"\"\n",
    "            self.hass = hass\n",
    "\n",
    "        def process(self, event):\n",
    "            \"\"\"On Watcher event, fire HA event.\"\"\"\n",
    "            if not event.is_directory:\n",
    "                print('fire')\n",
    "                folder, file_name = os.path.split(event.src_path)\n",
    "                self.hass.bus.fire(\n",
    "                    DOMAIN, {\n",
    "                        \"event_type\": event.event_type,\n",
    "                        'path': event.src_path,\n",
    "                        'file': file_name,\n",
    "                        'folder': folder,\n",
    "                        })\n",
    "\n",
    "    return EventHandler(hass)"
   ]
  },
  {
   "cell_type": "code",
   "execution_count": 21,
   "metadata": {},
   "outputs": [],
   "source": [
    "fake_event = get_fake_event()\n",
    "fake_hass = Mock()\n",
    "event_handler = create_event_handler(fake_hass)"
   ]
  },
  {
   "cell_type": "code",
   "execution_count": 22,
   "metadata": {},
   "outputs": [
    {
     "name": "stdout",
     "output_type": "stream",
     "text": [
      "fire\n"
     ]
    }
   ],
   "source": [
    "event_handler.process(fake_event)"
   ]
  },
  {
   "cell_type": "code",
   "execution_count": 23,
   "metadata": {},
   "outputs": [],
   "source": [
    "fake_hass.bus.fire.assert_called()"
   ]
  },
  {
   "cell_type": "code",
   "execution_count": 24,
   "metadata": {},
   "outputs": [],
   "source": [
    "expected_payload = {\"event_type\": fake_event.event_type,\n",
    "                    'path': fake_event.src_path,\n",
    "                    'file': FILE,\n",
    "                    'folder': FOLDER}\n",
    "\n",
    "fake_hass.bus.fire.assert_called_with(DOMAIN, expected_payload)"
   ]
  },
  {
   "cell_type": "markdown",
   "metadata": {},
   "source": [
    "## Pytest fixtures\n",
    "\n",
    "https://docs.pytest.org/en/latest/fixture.html\n",
    "\n",
    "Test functions can receive fixture objects by naming them as an input argument. For each argument name, a fixture function with that name provides the fixture object. Fixture functions are registered by marking them with @pytest.fixture."
   ]
  },
  {
   "cell_type": "code",
   "execution_count": 5,
   "metadata": {},
   "outputs": [],
   "source": [
    "@pytest.fixture\n",
    "def smtp_connection():\n",
    "    import smtplib\n",
    "    return smtplib.SMTP(\"smtp.gmail.com\", 587, timeout=5)\n",
    "\n",
    "def test_ehlo(smtp_connection):\n",
    "    response, msg = smtp_connection.ehlo()\n",
    "    assert response == 250\n",
    "    assert 0 # for demo purposes"
   ]
  },
  {
   "cell_type": "code",
   "execution_count": 6,
   "metadata": {},
   "outputs": [
    {
     "ename": "TypeError",
     "evalue": "test_ehlo() missing 1 required positional argument: 'smtp_connection'",
     "output_type": "error",
     "traceback": [
      "\u001b[0;31m---------------------------------------------------------------------------\u001b[0m",
      "\u001b[0;31mTypeError\u001b[0m                                 Traceback (most recent call last)",
      "\u001b[0;32m<ipython-input-6-be1f2009368e>\u001b[0m in \u001b[0;36m<module>\u001b[0;34m()\u001b[0m\n\u001b[0;32m----> 1\u001b[0;31m \u001b[0mtest_ehlo\u001b[0m\u001b[0;34m(\u001b[0m\u001b[0;34m)\u001b[0m\u001b[0;34m\u001b[0m\u001b[0m\n\u001b[0m",
      "\u001b[0;31mTypeError\u001b[0m: test_ehlo() missing 1 required positional argument: 'smtp_connection'"
     ]
    }
   ],
   "source": [
    "test_ehlo()"
   ]
  },
  {
   "cell_type": "code",
   "execution_count": null,
   "metadata": {},
   "outputs": [],
   "source": []
  },
  {
   "cell_type": "code",
   "execution_count": 1,
   "metadata": {},
   "outputs": [],
   "source": [
    "def validate_api_key(api_key):\n",
    "    \"\"\"Check that an API key is valid, if yes return the app.\"\"\"\n",
    "    try:\n",
    "        from clarifai.rest import ClarifaiApp, ApiError\n",
    "        app = ClarifaiApp(api_key=api_key)\n",
    "        return app\n",
    "    except ApiError as exc:\n",
    "        error = json.loads(exc.response.content)\n",
    "        _LOGGER.error(\n",
    "            \"%s error: %s\", CLASSIFIER, error['status']['details'])\n",
    "        return None"
   ]
  },
  {
   "cell_type": "code",
   "execution_count": 4,
   "metadata": {},
   "outputs": [],
   "source": [
    "@pytest.fixture\n",
    "def mock_clarifai():\n",
    "    \"\"\"Return a mock camera image.\"\"\"\n",
    "    with patch('clarifai.rest.ClarifaiApp') as _mock_clarifai:\n",
    "        yield _mock_clarifai"
   ]
  },
  {
   "cell_type": "code",
   "execution_count": null,
   "metadata": {},
   "outputs": [],
   "source": []
  }
 ],
 "metadata": {
  "kernelspec": {
   "display_name": "Python 3",
   "language": "python",
   "name": "python3"
  },
  "language_info": {
   "codemirror_mode": {
    "name": "ipython",
    "version": 3
   },
   "file_extension": ".py",
   "mimetype": "text/x-python",
   "name": "python",
   "nbconvert_exporter": "python",
   "pygments_lexer": "ipython3",
   "version": "3.6.5"
  }
 },
 "nbformat": 4,
 "nbformat_minor": 2
}
