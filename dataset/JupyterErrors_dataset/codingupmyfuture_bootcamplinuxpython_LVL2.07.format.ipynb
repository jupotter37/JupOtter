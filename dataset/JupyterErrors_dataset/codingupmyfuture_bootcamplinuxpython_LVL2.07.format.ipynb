{
  "nbformat": 4,
  "nbformat_minor": 0,
  "metadata": {
    "colab": {
      "provenance": []
    },
    "kernelspec": {
      "name": "python3",
      "display_name": "Python 3"
    },
    "language_info": {
      "name": "python"
    }
  },
  "cells": [
    {
      "cell_type": "markdown",
      "source": [
        "<p><img src=\"https://i.postimg.cc/cCjTSn8r/ss-cumf.png\" alt=\"\" width=\"1280\" height=\"300\" /></p>"
      ],
      "metadata": {
        "id": "hMsYLAr_WfMD"
      }
    },
    {
      "cell_type": "markdown",
      "source": [
        "# **FORMAT**\n",
        "\n",
        "El formateo de caracteres en un lenguaje de programación se refiere al proceso de dar formato o estructura a una cadena de caracteres o texto según ciertas especificaciones o patrones. El objetivo principal del formateo de caracteres es presentar datos de una manera legible y estética, lo que es especialmente importante cuando se trata de datos de salida que serán visualizados por humanos.\n",
        "\n",
        "<p><img src=\"https://i.stack.imgur.com/s7IoF.png\" alt=\"\" width=\"400\" height=\"200\" /></p>\n",
        "\n",
        "\n",
        "\n",
        "```\n",
        "[] opcionales - en python se le puede indicar o no el índice\n",
        " {[0]}  {[1]}\n",
        "[0,  1 ]\n",
        "\n",
        "antes:\n",
        "\n",
        "\"la edad es \" + 1\n",
        "\n",
        "solución\n",
        "\"la edad es \" + str(1)\n",
        "```\n",
        "\n"
      ],
      "metadata": {
        "id": "bqmiYxd7Wlse"
      }
    },
    {
      "cell_type": "code",
      "source": [
        "pi: float = 3.1415926535897932384626\n",
        "nombre: str = \"demo.python.format\""
      ],
      "metadata": {
        "id": "PMRPa5oMhjtR"
      },
      "execution_count": 1,
      "outputs": []
    },
    {
      "cell_type": "markdown",
      "source": [
        "## **1.SENCILLO (NO SE USA CASI)**\n",
        "Nota: muy utilizado en python `2.7`\n",
        "`%s`"
      ],
      "metadata": {
        "id": "WbfDMZgJkEvV"
      }
    },
    {
      "cell_type": "code",
      "source": [
        "mensaje = \"el nombre es: %s, el valor de pi es: %s\"\n",
        "print(mensaje %(nombre, pi))"
      ],
      "metadata": {
        "colab": {
          "base_uri": "https://localhost:8080/"
        },
        "id": "AyhRgKUBkQbY",
        "outputId": "1f0adc15-1d6b-41a6-96c8-0009900c839a"
      },
      "execution_count": 2,
      "outputs": [
        {
          "output_type": "stream",
          "name": "stdout",
          "text": [
            "el nombre es: demo.python.format, el valor de pi es: 3.141592653589793\n"
          ]
        }
      ]
    },
    {
      "cell_type": "code",
      "source": [
        "print(mensaje %(pi, nombre))"
      ],
      "metadata": {
        "colab": {
          "base_uri": "https://localhost:8080/"
        },
        "id": "JsnOqWFzlWos",
        "outputId": "f00c7ab6-19e9-4a89-da87-823050d80e00"
      },
      "execution_count": 3,
      "outputs": [
        {
          "output_type": "stream",
          "name": "stdout",
          "text": [
            "el nombre es: 3.141592653589793, el valor de pi es: demo.python.format\n"
          ]
        }
      ]
    },
    {
      "cell_type": "code",
      "source": [
        "mensaje = \"el nombre es: %s, el valor de pi es: %i\"\n",
        "print(mensaje %(nombre, pi))"
      ],
      "metadata": {
        "colab": {
          "base_uri": "https://localhost:8080/"
        },
        "id": "91qQn0Qmlmll",
        "outputId": "04bbdb73-f2e6-4954-cf86-7a7e1cc53428"
      },
      "execution_count": 4,
      "outputs": [
        {
          "output_type": "stream",
          "name": "stdout",
          "text": [
            "el nombre es: demo.python.format, el valor de pi es: 3\n"
          ]
        }
      ]
    },
    {
      "cell_type": "markdown",
      "source": [
        "## **2.SENCILLO (MÁS COMUN - PYTHON 3)**\n",
        "\n",
        "IMPORTANTE = igual número de llaves, igual número de variables"
      ],
      "metadata": {
        "id": "Fmen-X-pl_8f"
      }
    },
    {
      "cell_type": "markdown",
      "source": [
        "### **SIMPLE**"
      ],
      "metadata": {
        "id": "7zxnMBBkqHx-"
      }
    },
    {
      "cell_type": "code",
      "source": [
        "help(str.format)"
      ],
      "metadata": {
        "colab": {
          "base_uri": "https://localhost:8080/"
        },
        "id": "aGcKCWHemtPW",
        "outputId": "affad279-3343-475b-ff2c-e61554aea4f7"
      },
      "execution_count": 5,
      "outputs": [
        {
          "output_type": "stream",
          "name": "stdout",
          "text": [
            "Help on method_descriptor:\n",
            "\n",
            "format(...)\n",
            "    S.format(*args, **kwargs) -> str\n",
            "    \n",
            "    Return a formatted version of S, using substitutions from args and kwargs.\n",
            "    The substitutions are identified by braces ('{' and '}').\n",
            "\n"
          ]
        }
      ]
    },
    {
      "cell_type": "code",
      "source": [
        "#sencillo\n",
        "mensaje = \"el nombre es: {}, el valor de pi es: {}\"\n",
        "print(mensaje.format(nombre, pi))"
      ],
      "metadata": {
        "colab": {
          "base_uri": "https://localhost:8080/"
        },
        "id": "MbdrK3dvmJnm",
        "outputId": "71080ac6-1c5e-4bba-ac8d-01e07e16f04d"
      },
      "execution_count": 6,
      "outputs": [
        {
          "output_type": "stream",
          "name": "stdout",
          "text": [
            "el nombre es: demo.python.format, el valor de pi es: 3.141592653589793\n"
          ]
        }
      ]
    },
    {
      "cell_type": "code",
      "source": [
        "print(mensaje.format(pi, nombre ))"
      ],
      "metadata": {
        "colab": {
          "base_uri": "https://localhost:8080/"
        },
        "id": "OvAMVVe3m9ZJ",
        "outputId": "040607fa-420e-4ecd-9bbe-720e91f36690"
      },
      "execution_count": 7,
      "outputs": [
        {
          "output_type": "stream",
          "name": "stdout",
          "text": [
            "el nombre es: 3.141592653589793, el valor de pi es: demo.python.format\n"
          ]
        }
      ]
    },
    {
      "cell_type": "markdown",
      "source": [
        "### **ÍNDICE**"
      ],
      "metadata": {
        "id": "Bcvw7p1mqOaG"
      }
    },
    {
      "cell_type": "code",
      "source": [
        "#index"
      ],
      "metadata": {
        "id": "KQrkHv2hnIDY"
      },
      "execution_count": 8,
      "outputs": []
    },
    {
      "cell_type": "code",
      "source": [
        "print(\"el nombre es: {1}, el valor de pi es: {0}\".format(pi, nombre))"
      ],
      "metadata": {
        "colab": {
          "base_uri": "https://localhost:8080/"
        },
        "id": "rsGfAKHknKL6",
        "outputId": "b018ae78-c1e4-461d-ff75-c0932725cfbe"
      },
      "execution_count": 9,
      "outputs": [
        {
          "output_type": "stream",
          "name": "stdout",
          "text": [
            "el nombre es: demo.python.format, el valor de pi es: 3.141592653589793\n"
          ]
        }
      ]
    },
    {
      "cell_type": "markdown",
      "source": [
        "### **MATRICIAL**"
      ],
      "metadata": {
        "id": "LEUFDN5UqQ_G"
      }
    },
    {
      "cell_type": "code",
      "source": [
        "# matricialmente\n",
        "\n",
        "lista_1 = [111,\"pepito\", []]\n",
        "lista_2 = [True, False, pi]"
      ],
      "metadata": {
        "id": "3aVqe8r8nw_s"
      },
      "execution_count": 10,
      "outputs": []
    },
    {
      "cell_type": "code",
      "source": [
        "# formatea cualquier tipo\n",
        "print(\"el nombre es: {}, el valor de pi es: {}\".format(lista_1, lista_2))"
      ],
      "metadata": {
        "colab": {
          "base_uri": "https://localhost:8080/"
        },
        "id": "GuF2cDnmoBvv",
        "outputId": "96fe1ae3-2496-4c99-fd28-e4051ed1b45a"
      },
      "execution_count": 11,
      "outputs": [
        {
          "output_type": "stream",
          "name": "stdout",
          "text": [
            "el nombre es: [111, 'pepito', []], el valor de pi es: [True, False, 3.141592653589793]\n"
          ]
        }
      ]
    },
    {
      "cell_type": "code",
      "source": [
        "# accediendo\n",
        "print(\"el nombre es: {1}, el valor de pi es: {2}\".format(lista_1, lista_2))"
      ],
      "metadata": {
        "colab": {
          "base_uri": "https://localhost:8080/",
          "height": 192
        },
        "id": "jqGkEOn0o0wb",
        "outputId": "fd3a9688-2865-4451-c4e0-139a35a13d8d"
      },
      "execution_count": 12,
      "outputs": [
        {
          "output_type": "error",
          "ename": "IndexError",
          "evalue": "ignored",
          "traceback": [
            "\u001b[0;31m---------------------------------------------------------------------------\u001b[0m",
            "\u001b[0;31mIndexError\u001b[0m                                Traceback (most recent call last)",
            "\u001b[0;32m<ipython-input-12-6f070e041452>\u001b[0m in \u001b[0;36m<cell line: 2>\u001b[0;34m()\u001b[0m\n\u001b[1;32m      1\u001b[0m \u001b[0;31m# accediendo\u001b[0m\u001b[0;34m\u001b[0m\u001b[0;34m\u001b[0m\u001b[0m\n\u001b[0;32m----> 2\u001b[0;31m \u001b[0mprint\u001b[0m\u001b[0;34m(\u001b[0m\u001b[0;34m\"el nombre es: {1}, el valor de pi es: {2}\"\u001b[0m\u001b[0;34m.\u001b[0m\u001b[0mformat\u001b[0m\u001b[0;34m(\u001b[0m\u001b[0mlista_1\u001b[0m\u001b[0;34m,\u001b[0m \u001b[0mlista_2\u001b[0m\u001b[0;34m)\u001b[0m\u001b[0;34m)\u001b[0m\u001b[0;34m\u001b[0m\u001b[0;34m\u001b[0m\u001b[0m\n\u001b[0m",
            "\u001b[0;31mIndexError\u001b[0m: Replacement index 2 out of range for positional args tuple"
          ]
        }
      ]
    },
    {
      "cell_type": "code",
      "source": [
        "# accediendo\n",
        "print(\"el nombre es: {0[1]}, el valor de pi es: {1[2]}\".format(lista_1, lista_2))"
      ],
      "metadata": {
        "colab": {
          "base_uri": "https://localhost:8080/"
        },
        "id": "V4o06D-fpE-M",
        "outputId": "d6b7f6d8-3469-4ff5-a85f-2c541354c403"
      },
      "execution_count": 13,
      "outputs": [
        {
          "output_type": "stream",
          "name": "stdout",
          "text": [
            "el nombre es: pepito, el valor de pi es: 3.141592653589793\n"
          ]
        }
      ]
    },
    {
      "cell_type": "code",
      "source": [
        "# igual llaves, igual variables\n",
        "print(\"demo {}: {}\".format(1))"
      ],
      "metadata": {
        "colab": {
          "base_uri": "https://localhost:8080/",
          "height": 192
        },
        "id": "TNES1ynRpsX3",
        "outputId": "1bda5985-1df3-4ce7-edf9-6916e19af88f"
      },
      "execution_count": 14,
      "outputs": [
        {
          "output_type": "error",
          "ename": "IndexError",
          "evalue": "ignored",
          "traceback": [
            "\u001b[0;31m---------------------------------------------------------------------------\u001b[0m",
            "\u001b[0;31mIndexError\u001b[0m                                Traceback (most recent call last)",
            "\u001b[0;32m<ipython-input-14-96b31aca870c>\u001b[0m in \u001b[0;36m<cell line: 2>\u001b[0;34m()\u001b[0m\n\u001b[1;32m      1\u001b[0m \u001b[0;31m# igual llaves, igual variables\u001b[0m\u001b[0;34m\u001b[0m\u001b[0;34m\u001b[0m\u001b[0m\n\u001b[0;32m----> 2\u001b[0;31m \u001b[0mprint\u001b[0m\u001b[0;34m(\u001b[0m\u001b[0;34m\"demo {}: {}\"\u001b[0m\u001b[0;34m.\u001b[0m\u001b[0mformat\u001b[0m\u001b[0;34m(\u001b[0m\u001b[0;36m1\u001b[0m\u001b[0;34m)\u001b[0m\u001b[0;34m)\u001b[0m\u001b[0;34m\u001b[0m\u001b[0;34m\u001b[0m\u001b[0m\n\u001b[0m",
            "\u001b[0;31mIndexError\u001b[0m: Replacement index 1 out of range for positional args tuple"
          ]
        }
      ]
    },
    {
      "cell_type": "code",
      "source": [
        "# igual llaves, igual variables\n",
        "print(\"demo {}: {}\".format(1,2))"
      ],
      "metadata": {
        "colab": {
          "base_uri": "https://localhost:8080/"
        },
        "id": "D6QzW0iHp8uL",
        "outputId": "83f5bb4e-868c-4d01-8631-29ccf47c5b57"
      },
      "execution_count": 15,
      "outputs": [
        {
          "output_type": "stream",
          "name": "stdout",
          "text": [
            "demo 1: 2\n"
          ]
        }
      ]
    },
    {
      "cell_type": "code",
      "source": [
        "# igual llaves, igual variables\n",
        "print(\"demo {}: {}\".format(1,2,3))"
      ],
      "metadata": {
        "colab": {
          "base_uri": "https://localhost:8080/"
        },
        "id": "jJOhu-2Ep-tK",
        "outputId": "d8107779-264c-43c8-b3be-68b623da9545"
      },
      "execution_count": 16,
      "outputs": [
        {
          "output_type": "stream",
          "name": "stdout",
          "text": [
            "demo 1: 2\n"
          ]
        }
      ]
    },
    {
      "cell_type": "markdown",
      "source": [
        "### **KWARGS**"
      ],
      "metadata": {
        "id": "gmght_CeqUu6"
      }
    },
    {
      "cell_type": "code",
      "source": [
        "print(\"nombre {name}, edad: {age}\".format(name=\"luis\", age=21))"
      ],
      "metadata": {
        "colab": {
          "base_uri": "https://localhost:8080/"
        },
        "id": "KEr5FHu_qd_F",
        "outputId": "81688360-f3ce-4ba6-8565-8832b6496ae7"
      },
      "execution_count": 17,
      "outputs": [
        {
          "output_type": "stream",
          "name": "stdout",
          "text": [
            "nombre luis, edad: 21\n"
          ]
        }
      ]
    },
    {
      "cell_type": "markdown",
      "source": [
        "### **CON DICCIONARIOS**"
      ],
      "metadata": {
        "id": "9jyoI_R5rL5w"
      }
    },
    {
      "cell_type": "code",
      "source": [
        "template: str = \"\"\"\n",
        "{ciudad}, Estado, Código Postal\n",
        "fecha: {fecha}\n",
        "\n",
        "Estimado/a {persona}:\n",
        "\n",
        "Mi don {persona}, deseamos informarle que {motivo}.\n",
        "Atentamente,\n",
        "\n",
        "enviado desde la ciudad de {ciudad}, en la fecha {fecha}\n",
        "att: {persona}\n",
        "\"\"\"\n",
        "\n",
        "datos = {\n",
        "  \"ciudad\": \"Medellín\",\n",
        "  \"fecha\": \"26/09/2023\",\n",
        "  \"persona\": \"Pepit@\",\n",
        "  \"motivo\": \"DEMO PYTHON LVL2\"\n",
        "}"
      ],
      "metadata": {
        "id": "kU-hFoxWrLH4"
      },
      "execution_count": 35,
      "outputs": []
    },
    {
      "cell_type": "code",
      "source": [
        "print(template.format(**datos))"
      ],
      "metadata": {
        "colab": {
          "base_uri": "https://localhost:8080/"
        },
        "id": "mWMPLKKysubz",
        "outputId": "628cb53c-5693-4902-9dfd-2592e6122c02"
      },
      "execution_count": 36,
      "outputs": [
        {
          "output_type": "stream",
          "name": "stdout",
          "text": [
            "\n",
            "Medellín, Estado, Código Postal\n",
            "fecha: 26/09/2023\n",
            "\n",
            "Estimado/a Pepit@:\n",
            "\n",
            "Mi don Pepit@, deseamos informarle que DEMO PYTHON LVL2.\n",
            "Atentamente,\n",
            "\n",
            "enviado desde la ciudad de Medellín, en la fecha 26/09/2023\n",
            "att: Pepit@\n",
            "\n"
          ]
        }
      ]
    },
    {
      "cell_type": "code",
      "source": [
        "elementos = [\n",
        "  {\n",
        "    \"ciudad\": \"Medellín\",\n",
        "    \"fecha\": \"26/09/2023\",\n",
        "    \"persona\": \"pepit@\",\n",
        "    \"motivo\": \"DEMO PYTHON LVL2\"\n",
        "  },\n",
        "  {\n",
        "    \"ciudad\": \"Medellín\",\n",
        "    \"fecha\": \"26/09/2023\",\n",
        "    \"persona\": \"Luis\",\n",
        "    \"motivo\": \"El profe infractor\"\n",
        "  }\n",
        "\n",
        "]"
      ],
      "metadata": {
        "id": "B2NsiT45tedl"
      },
      "execution_count": 22,
      "outputs": []
    },
    {
      "cell_type": "code",
      "source": [
        "for dato in elementos:\n",
        "  print(type(dato))\n",
        "  print(\"*\" * 30)\n",
        "  print(template.format(**dato))"
      ],
      "metadata": {
        "colab": {
          "base_uri": "https://localhost:8080/"
        },
        "id": "0Dsqr6m4tsTC",
        "outputId": "ea6321a9-ca15-48c3-e68b-522775919ccd"
      },
      "execution_count": 23,
      "outputs": [
        {
          "output_type": "stream",
          "name": "stdout",
          "text": [
            "<class 'dict'>\n",
            "******************************\n",
            "\n",
            "Medellín, Estado, Código Postal\n",
            "fecha : 26/09/2023\n",
            "\n",
            "Estimado/a pepit@:\n",
            "\n",
            "Mi don pepit@, deseamos informarle que DEMO PYTHON LVL2.\n",
            "Atentamente,\n",
            "\n",
            "enviado desde la ciudad de Medellín, en la fecha 26/09/2023\n",
            "att: pepit@\n",
            "\n",
            "<class 'dict'>\n",
            "******************************\n",
            "\n",
            "Medellín, Estado, Código Postal\n",
            "fecha : 26/09/2023\n",
            "\n",
            "Estimado/a Luis:\n",
            "\n",
            "Mi don Luis, deseamos informarle que El profe infractor.\n",
            "Atentamente,\n",
            "\n",
            "enviado desde la ciudad de Medellín, en la fecha 26/09/2023\n",
            "att: Luis\n",
            "\n"
          ]
        }
      ]
    },
    {
      "cell_type": "markdown",
      "source": [
        "### **FUNCIONES AVANZADAS**\n",
        "\n",
        "\n",
        "\n",
        "\n",
        "```\n",
        "<         = delimitación hacia la izquierda\n",
        ">         = delimitación hacia la derecha\n",
        "^         = delimitación centrada\n",
        "+         = asignación de signo\n",
        ":.#[type] = la cantidad de posiciones que se muestra en el elemento\n",
        "\n",
        "{[ posicion  vector formato ]}\n",
        "posicion = posición del argumento\n",
        "\n",
        "**Nos** permite separar el índice o alias del formato con que queramos presentar las variables.\n",
        "\n",
        "```\n",
        "\n"
      ],
      "metadata": {
        "id": "pHWyr_-RuLkC"
      }
    },
    {
      "cell_type": "markdown",
      "source": [
        "#### **ASIGNACIÓN SIGNO**"
      ],
      "metadata": {
        "id": "lAQMHLY1ubVa"
      }
    },
    {
      "cell_type": "code",
      "source": [
        "for valor in range(-3,3):\n",
        "  print(\"{0:+}\".format(valor))"
      ],
      "metadata": {
        "colab": {
          "base_uri": "https://localhost:8080/"
        },
        "id": "rDNaCQRtuXZM",
        "outputId": "1e85cad5-1b12-42b5-b457-e8f259dae134"
      },
      "execution_count": 24,
      "outputs": [
        {
          "output_type": "stream",
          "name": "stdout",
          "text": [
            "-3\n",
            "-2\n",
            "-1\n",
            "+0\n",
            "+1\n",
            "+2\n"
          ]
        }
      ]
    },
    {
      "cell_type": "markdown",
      "source": [
        "#### **SEGMENTACIÓN**"
      ],
      "metadata": {
        "id": "XY_q_PiUvTnp"
      }
    },
    {
      "cell_type": "code",
      "source": [
        "print(nombre)\n",
        "print(\"{:.4}\".format(nombre))"
      ],
      "metadata": {
        "colab": {
          "base_uri": "https://localhost:8080/"
        },
        "id": "EiS8wgJ-vS-3",
        "outputId": "4b38c8ec-7b42-40d7-bb9b-1275f88d4e22"
      },
      "execution_count": 25,
      "outputs": [
        {
          "output_type": "stream",
          "name": "stdout",
          "text": [
            "demo.python.format\n",
            "demo\n"
          ]
        }
      ]
    },
    {
      "cell_type": "markdown",
      "source": [
        "#### **ESTANDARIZACIÓN DE LONGITUDES**"
      ],
      "metadata": {
        "id": "uyOsbKXNv86o"
      }
    },
    {
      "cell_type": "code",
      "source": [
        "numeros = [10, 100, 1000, 10000]"
      ],
      "metadata": {
        "id": "r3cBD02avcnS"
      },
      "execution_count": 26,
      "outputs": []
    },
    {
      "cell_type": "code",
      "source": [
        "for numero in numeros:\n",
        "  print(\"{:10} es múltiplo de 10\".format(numero))"
      ],
      "metadata": {
        "colab": {
          "base_uri": "https://localhost:8080/"
        },
        "id": "tlqs1ThfwVt2",
        "outputId": "83e9857e-e549-488c-99e3-7b86a608ac04"
      },
      "execution_count": 27,
      "outputs": [
        {
          "output_type": "stream",
          "name": "stdout",
          "text": [
            "        10 es múltiplo de 10\n",
            "       100 es múltiplo de 10\n",
            "      1000 es múltiplo de 10\n",
            "     10000 es múltiplo de 10\n"
          ]
        }
      ]
    },
    {
      "cell_type": "markdown",
      "source": [
        "#### **ALINEACIÓN**"
      ],
      "metadata": {
        "id": "r6ARd_RCxh2A"
      }
    },
    {
      "cell_type": "code",
      "source": [
        "# izquierda\n",
        "for numero in numeros:\n",
        "  print(\"{:<{cantidad}} es múltiplo de 10\".format(numero, cantidad=10))"
      ],
      "metadata": {
        "colab": {
          "base_uri": "https://localhost:8080/"
        },
        "id": "B4E6AR8JxML5",
        "outputId": "5c2abf35-520f-477d-d30b-8f9dc6a07143"
      },
      "execution_count": 28,
      "outputs": [
        {
          "output_type": "stream",
          "name": "stdout",
          "text": [
            "10         es múltiplo de 10\n",
            "100        es múltiplo de 10\n",
            "1000       es múltiplo de 10\n",
            "10000      es múltiplo de 10\n"
          ]
        }
      ]
    },
    {
      "cell_type": "code",
      "source": [
        "# centrado\n",
        "for numero in numeros:\n",
        "  print(\"{:^{cantidad}} es múltiplo de 10\".format(numero, cantidad=10))"
      ],
      "metadata": {
        "colab": {
          "base_uri": "https://localhost:8080/"
        },
        "id": "aQa6i-XCx1-y",
        "outputId": "339935eb-1b74-40ed-d625-5a48d65b89c7"
      },
      "execution_count": 29,
      "outputs": [
        {
          "output_type": "stream",
          "name": "stdout",
          "text": [
            "    10     es múltiplo de 10\n",
            "   100     es múltiplo de 10\n",
            "   1000    es múltiplo de 10\n",
            "  10000    es múltiplo de 10\n"
          ]
        }
      ]
    },
    {
      "cell_type": "code",
      "source": [
        "# derecha\n",
        "for numero in numeros:\n",
        "  print(\"{:>{cantidad}} es múltiplo de 10\".format(numero, cantidad=10))"
      ],
      "metadata": {
        "colab": {
          "base_uri": "https://localhost:8080/"
        },
        "id": "hHz02soGyADj",
        "outputId": "bc6ce8f3-cf82-407e-f1ba-c1c4b5c46151"
      },
      "execution_count": 30,
      "outputs": [
        {
          "output_type": "stream",
          "name": "stdout",
          "text": [
            "        10 es múltiplo de 10\n",
            "       100 es múltiplo de 10\n",
            "      1000 es múltiplo de 10\n",
            "     10000 es múltiplo de 10\n"
          ]
        }
      ]
    },
    {
      "cell_type": "markdown",
      "source": [
        "#### **RELLENO**"
      ],
      "metadata": {
        "id": "XaC5sqGHyKlx"
      }
    },
    {
      "cell_type": "code",
      "source": [
        "# derecha\n",
        "for numero in numeros:\n",
        "  print(\"{:0>{cantidad}} es múltiplo de 10\".format(numero, cantidad=10))"
      ],
      "metadata": {
        "colab": {
          "base_uri": "https://localhost:8080/"
        },
        "id": "5PWNJU2GyO5X",
        "outputId": "5a444894-752e-49fd-fccc-10b5eb7a9fde"
      },
      "execution_count": 31,
      "outputs": [
        {
          "output_type": "stream",
          "name": "stdout",
          "text": [
            "0000000010 es múltiplo de 10\n",
            "0000000100 es múltiplo de 10\n",
            "0000001000 es múltiplo de 10\n",
            "0000010000 es múltiplo de 10\n"
          ]
        }
      ]
    },
    {
      "cell_type": "code",
      "source": [
        "for numero in numeros:\n",
        "  print(\"{:!>{cantidad}} es múltiplo de 10\".format(numero, cantidad=10))"
      ],
      "metadata": {
        "colab": {
          "base_uri": "https://localhost:8080/"
        },
        "id": "HdSYIsnNyoib",
        "outputId": "114856c6-7658-4ed2-f063-bb2c70abdec7"
      },
      "execution_count": 32,
      "outputs": [
        {
          "output_type": "stream",
          "name": "stdout",
          "text": [
            "!!!!!!!!10 es múltiplo de 10\n",
            "!!!!!!!100 es múltiplo de 10\n",
            "!!!!!!1000 es múltiplo de 10\n",
            "!!!!!10000 es múltiplo de 10\n"
          ]
        }
      ]
    },
    {
      "cell_type": "markdown",
      "source": [
        "#### **CONCATENACIÓN DE OPERACIONES**\n",
        "\n"
      ],
      "metadata": {
        "id": "TFq_K0R8y1t_"
      }
    },
    {
      "cell_type": "code",
      "source": [
        "for numero in numeros:\n",
        "  print(\"{:^+0{cantidad}} es múltiplo de 10\".format(numero, cantidad=10))"
      ],
      "metadata": {
        "colab": {
          "base_uri": "https://localhost:8080/"
        },
        "id": "AX4dPg4Qy8Wp",
        "outputId": "b16c3a6f-743b-4312-af21-7eee2b56e2b7"
      },
      "execution_count": 33,
      "outputs": [
        {
          "output_type": "stream",
          "name": "stdout",
          "text": [
            "000+100000 es múltiplo de 10\n",
            "000+100000 es múltiplo de 10\n",
            "00+1000000 es múltiplo de 10\n",
            "00+1000000 es múltiplo de 10\n"
          ]
        }
      ]
    },
    {
      "cell_type": "code",
      "source": [
        "for numero in numeros:\n",
        "  print(\"{:+0{cantidad}} es múltiplo de 10\".format(numero, cantidad=10))"
      ],
      "metadata": {
        "colab": {
          "base_uri": "https://localhost:8080/"
        },
        "id": "JB8kgBJlzmBS",
        "outputId": "251146cc-ac60-4185-b5bc-56673e69d025"
      },
      "execution_count": 34,
      "outputs": [
        {
          "output_type": "stream",
          "name": "stdout",
          "text": [
            "+000000010 es múltiplo de 10\n",
            "+000000100 es múltiplo de 10\n",
            "+000001000 es múltiplo de 10\n",
            "+000010000 es múltiplo de 10\n"
          ]
        }
      ]
    },
    {
      "cell_type": "markdown",
      "source": [
        "#### **DECIMALES**"
      ],
      "metadata": {
        "id": "LKsOlRZyzw4e"
      }
    },
    {
      "cell_type": "code",
      "source": [
        "# format para decimales\n",
        "tax = 3\n",
        "taxny = 0.7\n",
        "taxcolombia = 20\n",
        "pi = 3.1415926535897932384626\n",
        "\n",
        "\n",
        "print(\"formato tax tipo de dato      : {:f}\".format(tax))\n",
        "print(\"formato tax decimales         : {:.3f}\".format(taxny))\n",
        "print(\"formato tax decimales         : {:.2f}\".format(taxcolombia))\n",
        "print(\"formato tax decimales         : {:.5f}\".format(pi))\n",
        "print(\"formato tax tipo de dato      : {:.2}\".format(pi))"
      ],
      "metadata": {
        "colab": {
          "base_uri": "https://localhost:8080/"
        },
        "id": "uC0hcg88zvKb",
        "outputId": "da2fb093-0452-4177-9cde-e3607918585a"
      },
      "execution_count": 38,
      "outputs": [
        {
          "output_type": "stream",
          "name": "stdout",
          "text": [
            "formato tax tipo de dato      : 3.000000\n",
            "formato tax decimales         : 0.700\n",
            "formato tax decimales         : 20.00\n",
            "formato tax decimales         : 3.14159\n",
            "formato tax tipo de dato      : 3.1\n"
          ]
        }
      ]
    },
    {
      "cell_type": "markdown",
      "source": [
        "#### **MULTIPLE FORMAT**"
      ],
      "metadata": {
        "id": "rqU5npZJ0dBk"
      }
    },
    {
      "cell_type": "code",
      "source": [
        "print(\" |{:010}| @x@ |{:^5}| = |{:^20}|\".format(2,2, 2*2))"
      ],
      "metadata": {
        "colab": {
          "base_uri": "https://localhost:8080/"
        },
        "id": "ozTrUtpZ0qUE",
        "outputId": "25264517-e6eb-45f7-9167-21827132deb1"
      },
      "execution_count": 37,
      "outputs": [
        {
          "output_type": "stream",
          "name": "stdout",
          "text": [
            " |0000000002| @x@ |  2  | = |         4          |\n"
          ]
        }
      ]
    },
    {
      "cell_type": "markdown",
      "source": [
        "#### **CARACTERES DE ESCAPE**\n",
        "\n",
        "Tarea: investigar los demás\n",
        "\n",
        "\n",
        "\n",
        "\n",
        "```\n",
        "\\n = salto de linea (enter)\n",
        "\\t = tabulador\n",
        "```\n",
        "\n"
      ],
      "metadata": {
        "id": "AE5D9bNT2omb"
      }
    },
    {
      "cell_type": "markdown",
      "source": [
        "#### **FORMAT AVANZADO 1**"
      ],
      "metadata": {
        "id": "rJAMnzl71nDF"
      }
    },
    {
      "cell_type": "code",
      "source": [
        "lenguajes_mas_usados = (\n",
        "  (10, \"Matlab\", 2.04),\n",
        "  (2, \"Java\", 21.42),\n",
        "  (8, \"Objetive-C\", 3.15),\n",
        "  (3, \"Java Script\", 8.26),\n",
        "  (4, \"C#\", 7.62),\n",
        "  (6, \"C++\", 6.31),\n",
        "  (7, \"R\", 4.04),\n",
        "  (9, \"Swift\", 2.56),\n",
        "  (11, \"Type Script\", 1.57),\n",
        "  (1, \"Python\", 25.95),\n",
        "  (5, \"PHP\", 7.37),\n",
        "  (12, \"Ruby\", 1.53),\n",
        ")\n",
        "\n",
        "nuevo_formato = \"{:^3} {:^15} {:^.3f}\"\n",
        "print(\"\\n\".join(nuevo_formato.format(*fila) for fila in lenguajes_mas_usados))"
      ],
      "metadata": {
        "colab": {
          "base_uri": "https://localhost:8080/"
        },
        "id": "xKH6kRp91yay",
        "outputId": "0066ec2d-67a7-4721-a0f7-e21b3a8e1eea"
      },
      "execution_count": 39,
      "outputs": [
        {
          "output_type": "stream",
          "name": "stdout",
          "text": [
            "10      Matlab      2.040\n",
            " 2       Java       21.420\n",
            " 8    Objetive-C    3.150\n",
            " 3    Java Script   8.260\n",
            " 4        C#        7.620\n",
            " 6        C++       6.310\n",
            " 7         R        4.040\n",
            " 9       Swift      2.560\n",
            "11    Type Script   1.570\n",
            " 1      Python      25.950\n",
            " 5        PHP       7.370\n",
            "12       Ruby       1.530\n"
          ]
        }
      ]
    },
    {
      "cell_type": "markdown",
      "source": [
        "## **3. MODERNO**\n",
        "\n",
        "Funciona con variables declaradas"
      ],
      "metadata": {
        "id": "C7BShIcO5N5a"
      }
    },
    {
      "cell_type": "code",
      "source": [
        "pi: float = 3.1415926535897932384626\n",
        "nombre: str = \"demo.python.format\""
      ],
      "metadata": {
        "id": "aYfKAz0Y5Vg3"
      },
      "execution_count": 41,
      "outputs": []
    },
    {
      "cell_type": "code",
      "source": [
        "print(f\"el nombre es: {nombre}, el valor de pi es: {pi}\")"
      ],
      "metadata": {
        "colab": {
          "base_uri": "https://localhost:8080/"
        },
        "id": "eOqSvdC25WYe",
        "outputId": "e44b6ea7-650d-4c40-ef81-262c3b43fe36"
      },
      "execution_count": 44,
      "outputs": [
        {
          "output_type": "stream",
          "name": "stdout",
          "text": [
            "el nombre es: demo.python.format, el valor de pi es: 3.141592653589793\n"
          ]
        }
      ]
    },
    {
      "cell_type": "code",
      "source": [
        "print(f\"el nombre es: {nombre}, el valor de pi es: {pi:.2f}\")"
      ],
      "metadata": {
        "colab": {
          "base_uri": "https://localhost:8080/"
        },
        "id": "PWCWGyEz5x74",
        "outputId": "e1c328b7-0f7c-4598-8163-7240506c67b8"
      },
      "execution_count": 45,
      "outputs": [
        {
          "output_type": "stream",
          "name": "stdout",
          "text": [
            "el nombre es: demo.python.format, el valor de pi es: 3.14\n"
          ]
        }
      ]
    },
    {
      "cell_type": "code",
      "source": [
        "print(f\"el nombre es: {len(nombre)}, el valor de pi es: {pi:.2f}\")"
      ],
      "metadata": {
        "colab": {
          "base_uri": "https://localhost:8080/"
        },
        "id": "L0bU-Gw46a-e",
        "outputId": "853f3a75-62eb-44da-8bc1-15159f64ade0"
      },
      "execution_count": 46,
      "outputs": [
        {
          "output_type": "stream",
          "name": "stdout",
          "text": [
            "el nombre es: 18, el valor de pi es: 3.14\n"
          ]
        }
      ]
    },
    {
      "cell_type": "code",
      "source": [
        "print(f\"el nombre es: {str.upper(nombre)[::-1]}, el valor de pi es: {pi:.2f}\")"
      ],
      "metadata": {
        "colab": {
          "base_uri": "https://localhost:8080/"
        },
        "id": "01mKvujg6iaB",
        "outputId": "968e2e65-2d2e-4bdf-cf96-731007a31ed5"
      },
      "execution_count": 47,
      "outputs": [
        {
          "output_type": "stream",
          "name": "stdout",
          "text": [
            "el nombre es: TAMROF.NOHTYP.OMED, el valor de pi es: 3.14\n"
          ]
        }
      ]
    }
  ]
}
