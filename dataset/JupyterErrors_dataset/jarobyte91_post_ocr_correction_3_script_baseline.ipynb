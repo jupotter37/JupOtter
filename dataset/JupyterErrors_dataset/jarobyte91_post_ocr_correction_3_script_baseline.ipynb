{
 "cells": [
  {
   "cell_type": "code",
   "execution_count": 1,
   "metadata": {},
   "outputs": [
    {
     "name": "stdout",
     "output_type": "stream",
     "text": [
      "main folder:/home/jarobyte/scratch/guemes/icdar/bg/\n",
      "output folder:baseline\n",
      "\n",
      "Model: Transformer\n",
      "Tokens in the input vocabulary: 191\n",
      "Tokens in the output vocabulary: 191\n",
      "Max sequence length: 110\n",
      "Embedding dimension: 128\n",
      "Feedforward dimension: 512\n",
      "Encoder layers: 4\n",
      "Decoder layers: 4\n",
      "Attention heads: 8\n",
      "Activation: relu\n",
      "Dropout: 0.1\n",
      "Trainable parameters: 1,939,519\n",
      "\n",
      "Training started\n",
      "Epochs: 10\n",
      "Learning rate: 0.0001\n",
      "Weight decay: 0.01\n",
      "Epoch | Train                 | Development           | Minutes\n",
      "      | Loss     | Error Rate | Loss     | Error Rate |\n",
      "---------------------------------------------------------------\n",
      "    1 |   4.7585 |     86.784 |   4.3230 |     83.297 |     0.0\n",
      "    2 |   4.2000 |     82.535 |   4.1477 |     83.297 |     0.0\n",
      "    3 |   4.0294 |     82.485 |   4.0427 |     83.297 |     0.0\n",
      "    4 |   3.9137 |     82.480 |   3.9622 |     83.297 |     0.0\n",
      "    5 |   3.8219 |     82.475 |   3.8985 |     83.297 |     0.1\n",
      "    6 |   3.7407 |     82.476 |   3.8451 |     83.297 |     0.1\n",
      "    7 |   3.6680 |     82.468 |   3.7968 |     83.297 |     0.1\n",
      "    8 |   3.6036 |     82.465 |   3.7523 |     83.297 |     0.1\n",
      "    9 |   3.5414 |     82.344 |   3.7097 |     83.248 |     0.1\n",
      "   10 |   3.4800 |     82.101 |   3.6672 |     82.297 |     0.1\n",
      "\n",
      "Evaluating model..\n"
     ]
    },
    {
     "ename": "TypeError",
     "evalue": "evaluate_model() missing 1 required positional argument: 'save_path'",
     "output_type": "error",
     "traceback": [
      "\u001b[0;31m---------------------------------------------------------------------------\u001b[0m",
      "\u001b[0;31mTypeError\u001b[0m                                 Traceback (most recent call last)",
      "\u001b[0;32m~/guemes/icdar/bg/scripts/train/launch_experiments.py\u001b[0m in \u001b[0;36m<module>\u001b[0;34m\u001b[0m\n\u001b[1;32m    127\u001b[0m                             \u001b[0mmodel\u001b[0m \u001b[0;34m=\u001b[0m \u001b[0mnet\u001b[0m\u001b[0;34m,\u001b[0m\u001b[0;34m\u001b[0m\u001b[0;34m\u001b[0m\u001b[0m\n\u001b[1;32m    128\u001b[0m                             \u001b[0mvocabulary\u001b[0m \u001b[0;34m=\u001b[0m \u001b[0mvocabulary\u001b[0m\u001b[0;34m,\u001b[0m\u001b[0;34m\u001b[0m\u001b[0;34m\u001b[0m\u001b[0m\n\u001b[0;32m--> 129\u001b[0;31m                             window_size = window_size)\n\u001b[0m\u001b[1;32m    130\u001b[0m \u001b[0mevaluation\u001b[0m \u001b[0;34m=\u001b[0m \u001b[0mevaluation\u001b[0m\u001b[0;34m.\u001b[0m\u001b[0massign\u001b[0m\u001b[0;34m(\u001b[0m\u001b[0mexperiment_id\u001b[0m \u001b[0;34m=\u001b[0m \u001b[0mexperiment_id\u001b[0m\u001b[0;34m)\u001b[0m\u001b[0;34m[\u001b[0m\u001b[0;34m[\u001b[0m\u001b[0;34m\"experiment_id\"\u001b[0m\u001b[0;34m,\u001b[0m \u001b[0;34m\"improvement\"\u001b[0m\u001b[0;34m]\u001b[0m \u001b[0;34m+\u001b[0m \u001b[0mlist\u001b[0m\u001b[0;34m(\u001b[0m\u001b[0mevaluation\u001b[0m\u001b[0;34m.\u001b[0m\u001b[0mcolumns\u001b[0m\u001b[0;34m)\u001b[0m\u001b[0;34m[\u001b[0m\u001b[0;34m:\u001b[0m\u001b[0;34m-\u001b[0m\u001b[0;36m1\u001b[0m\u001b[0;34m]\u001b[0m\u001b[0;34m]\u001b[0m\u001b[0;34m\u001b[0m\u001b[0;34m\u001b[0m\u001b[0m\n\u001b[1;32m    131\u001b[0m \u001b[0mprint\u001b[0m\u001b[0;34m(\u001b[0m\u001b[0mevaluation\u001b[0m\u001b[0;34m)\u001b[0m\u001b[0;34m\u001b[0m\u001b[0;34m\u001b[0m\u001b[0m\n",
      "\u001b[0;31mTypeError\u001b[0m: evaluate_model() missing 1 required positional argument: 'save_path'"
     ]
    }
   ],
   "source": [
    "%run scripts/train/launch_experiments.py --experiment_id=test --random"
   ]
  },
  {
   "cell_type": "code",
   "execution_count": null,
   "metadata": {},
   "outputs": [],
   "source": []
  }
 ],
 "metadata": {
  "kernelspec": {
   "display_name": "Python 3",
   "language": "python",
   "name": "python3"
  },
  "language_info": {
   "codemirror_mode": {
    "name": "ipython",
    "version": 3
   },
   "file_extension": ".py",
   "mimetype": "text/x-python",
   "name": "python",
   "nbconvert_exporter": "python",
   "pygments_lexer": "ipython3",
   "version": "3.7.4"
  }
 },
 "nbformat": 4,
 "nbformat_minor": 4
}
