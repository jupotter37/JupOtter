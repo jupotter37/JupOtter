{
 "cells": [
  {
   "cell_type": "markdown",
   "metadata": {},
   "source": [
    "# Python dictionary "
   ]
  },
  {
   "cell_type": "code",
   "execution_count": 1,
   "metadata": {},
   "outputs": [],
   "source": [
    "l = [120191122, 'ahmed', 'it']"
   ]
  },
  {
   "cell_type": "code",
   "execution_count": 2,
   "metadata": {},
   "outputs": [
    {
     "data": {
      "text/plain": [
       "120191122"
      ]
     },
     "execution_count": 2,
     "metadata": {},
     "output_type": "execute_result"
    }
   ],
   "source": [
    "# student id :\n",
    "l[0]"
   ]
  },
  {
   "cell_type": "code",
   "execution_count": 4,
   "metadata": {},
   "outputs": [
    {
     "data": {
      "text/plain": [
       "'it'"
      ]
     },
     "execution_count": 4,
     "metadata": {},
     "output_type": "execute_result"
    }
   ],
   "source": [
    "# dept \n",
    "l[2]"
   ]
  },
  {
   "cell_type": "code",
   "execution_count": 6,
   "metadata": {},
   "outputs": [],
   "source": [
    "std_info =  {'id': 120191122, 'name': 'ahmed', \n",
    "          'dept': 'it'}"
   ]
  },
  {
   "cell_type": "code",
   "execution_count": 7,
   "metadata": {},
   "outputs": [
    {
     "data": {
      "text/plain": [
       "120191122"
      ]
     },
     "execution_count": 7,
     "metadata": {},
     "output_type": "execute_result"
    }
   ],
   "source": [
    "std_info['id']"
   ]
  },
  {
   "cell_type": "code",
   "execution_count": 8,
   "metadata": {},
   "outputs": [
    {
     "data": {
      "text/plain": [
       "'ahmed'"
      ]
     },
     "execution_count": 8,
     "metadata": {},
     "output_type": "execute_result"
    }
   ],
   "source": [
    "std_info['name']"
   ]
  },
  {
   "cell_type": "code",
   "execution_count": 9,
   "metadata": {},
   "outputs": [
    {
     "ename": "KeyError",
     "evalue": "'gpa'",
     "output_type": "error",
     "traceback": [
      "\u001b[0;31m-----------------------------------------------\u001b[0m",
      "\u001b[0;31mKeyError\u001b[0m      Traceback (most recent call last)",
      "\u001b[0;32m<ipython-input-9-5eeda4e043ff>\u001b[0m in \u001b[0;36m<module>\u001b[0;34m\u001b[0m\n\u001b[0;32m----> 1\u001b[0;31m \u001b[0mstd_info\u001b[0m\u001b[0;34m[\u001b[0m\u001b[0;34m'gpa'\u001b[0m\u001b[0;34m]\u001b[0m\u001b[0;34m\u001b[0m\u001b[0;34m\u001b[0m\u001b[0m\n\u001b[0m",
      "\u001b[0;31mKeyError\u001b[0m: 'gpa'"
     ]
    }
   ],
   "source": [
    "std_info['gpa']"
   ]
  },
  {
   "cell_type": "code",
   "execution_count": 10,
   "metadata": {},
   "outputs": [],
   "source": [
    "std_info.get('gpa')"
   ]
  },
  {
   "cell_type": "code",
   "execution_count": 11,
   "metadata": {},
   "outputs": [
    {
     "name": "stdout",
     "output_type": "stream",
     "text": [
      "None\n"
     ]
    }
   ],
   "source": [
    "print(std_info.get('gpa'))"
   ]
  },
  {
   "cell_type": "code",
   "execution_count": 12,
   "metadata": {},
   "outputs": [
    {
     "data": {
      "text/plain": [
       "'not found'"
      ]
     },
     "execution_count": 12,
     "metadata": {},
     "output_type": "execute_result"
    }
   ],
   "source": [
    "std_info.get('gpa', 'not found')"
   ]
  },
  {
   "cell_type": "code",
   "execution_count": 13,
   "metadata": {},
   "outputs": [],
   "source": [
    "std_info['gpa'] = 98.3 # new ==> add "
   ]
  },
  {
   "cell_type": "code",
   "execution_count": 14,
   "metadata": {},
   "outputs": [
    {
     "data": {
      "text/plain": [
       "{'id': 120191122, 'name': 'ahmed', 'dept': 'it', 'gpa': 98.3}"
      ]
     },
     "execution_count": 14,
     "metadata": {},
     "output_type": "execute_result"
    }
   ],
   "source": [
    "std_info"
   ]
  },
  {
   "cell_type": "code",
   "execution_count": 15,
   "metadata": {},
   "outputs": [],
   "source": [
    "std_info['name'] = 'Mohammed' # exists ==> update "
   ]
  },
  {
   "cell_type": "code",
   "execution_count": 16,
   "metadata": {},
   "outputs": [
    {
     "data": {
      "text/plain": [
       "{'id': 120191122, 'name': 'Mohammed', 'dept': 'it', 'gpa': 98.3}"
      ]
     },
     "execution_count": 16,
     "metadata": {},
     "output_type": "execute_result"
    }
   ],
   "source": [
    "std_info"
   ]
  },
  {
   "cell_type": "code",
   "execution_count": 17,
   "metadata": {},
   "outputs": [
    {
     "data": {
      "text/plain": [
       "dict_items([('id', 120191122), ('name', 'Mohammed'), ('dept', 'it'), ('gpa', 98.3)])"
      ]
     },
     "execution_count": 17,
     "metadata": {},
     "output_type": "execute_result"
    }
   ],
   "source": [
    "std_info.items()"
   ]
  },
  {
   "cell_type": "code",
   "execution_count": 18,
   "metadata": {},
   "outputs": [
    {
     "data": {
      "text/plain": [
       "dict_keys(['id', 'name', 'dept', 'gpa'])"
      ]
     },
     "execution_count": 18,
     "metadata": {},
     "output_type": "execute_result"
    }
   ],
   "source": [
    "std_info.keys()"
   ]
  },
  {
   "cell_type": "code",
   "execution_count": 19,
   "metadata": {},
   "outputs": [
    {
     "data": {
      "text/plain": [
       "dict_values([120191122, 'Mohammed', 'it', 98.3])"
      ]
     },
     "execution_count": 19,
     "metadata": {},
     "output_type": "execute_result"
    }
   ],
   "source": [
    "std_info.values()"
   ]
  },
  {
   "cell_type": "code",
   "execution_count": 20,
   "metadata": {},
   "outputs": [
    {
     "name": "stdout",
     "output_type": "stream",
     "text": [
      "['__class__', '__contains__', '__delattr__', '__delitem__', '__dir__', '__doc__', '__eq__', '__format__', '__ge__', '__getattribute__', '__getitem__', '__gt__', '__hash__', '__init__', '__init_subclass__', '__iter__', '__le__', '__len__', '__lt__', '__ne__', '__new__', '__reduce__', '__reduce_ex__', '__repr__', '__setattr__', '__setitem__', '__sizeof__', '__str__', '__subclasshook__', 'clear', 'copy', 'fromkeys', 'get', 'items', 'keys', 'pop', 'popitem', 'setdefault', 'update', 'values']\n"
     ]
    }
   ],
   "source": [
    "print(dir(std_info))"
   ]
  },
  {
   "cell_type": "code",
   "execution_count": 22,
   "metadata": {},
   "outputs": [
    {
     "data": {
      "text/plain": [
       "('gpa', 98.3)"
      ]
     },
     "execution_count": 22,
     "metadata": {},
     "output_type": "execute_result"
    }
   ],
   "source": [
    "std_info.popitem()"
   ]
  },
  {
   "cell_type": "code",
   "execution_count": 23,
   "metadata": {},
   "outputs": [
    {
     "data": {
      "text/plain": [
       "{'id': 120191122, 'name': 'Mohammed', 'dept': 'it'}"
      ]
     },
     "execution_count": 23,
     "metadata": {},
     "output_type": "execute_result"
    }
   ],
   "source": [
    "std_info"
   ]
  },
  {
   "cell_type": "code",
   "execution_count": 24,
   "metadata": {},
   "outputs": [
    {
     "data": {
      "text/plain": [
       "'it'"
      ]
     },
     "execution_count": 24,
     "metadata": {},
     "output_type": "execute_result"
    }
   ],
   "source": [
    "std_info.pop('dept')"
   ]
  },
  {
   "cell_type": "code",
   "execution_count": 25,
   "metadata": {},
   "outputs": [
    {
     "data": {
      "text/plain": [
       "{'id': 120191122, 'name': 'Mohammed'}"
      ]
     },
     "execution_count": 25,
     "metadata": {},
     "output_type": "execute_result"
    }
   ],
   "source": [
    "std_info"
   ]
  },
  {
   "cell_type": "code",
   "execution_count": 26,
   "metadata": {},
   "outputs": [],
   "source": [
    "std_info['address'] = 'Nasser Street'"
   ]
  },
  {
   "cell_type": "code",
   "execution_count": 27,
   "metadata": {},
   "outputs": [
    {
     "data": {
      "text/plain": [
       "{'id': 120191122, 'name': 'Mohammed', 'address': 'Nasser Street'}"
      ]
     },
     "execution_count": 27,
     "metadata": {},
     "output_type": "execute_result"
    }
   ],
   "source": [
    "std_info"
   ]
  },
  {
   "cell_type": "code",
   "execution_count": 28,
   "metadata": {},
   "outputs": [],
   "source": [
    "std_info.update({'adress': 'Khanyouns'})"
   ]
  },
  {
   "cell_type": "code",
   "execution_count": 29,
   "metadata": {},
   "outputs": [
    {
     "data": {
      "text/plain": [
       "{'id': 120191122,\n",
       " 'name': 'Mohammed',\n",
       " 'address': 'Nasser Street',\n",
       " 'adress': 'Khanyouns'}"
      ]
     },
     "execution_count": 29,
     "metadata": {},
     "output_type": "execute_result"
    }
   ],
   "source": [
    "std_info"
   ]
  },
  {
   "cell_type": "code",
   "execution_count": 39,
   "metadata": {},
   "outputs": [],
   "source": [
    "fname = '../corups/bbc.com_20190409_titles.txt'\n",
    "text = open(fname, encoding='utf-8').read()\n",
    "words = text.split()"
   ]
  },
  {
   "cell_type": "code",
   "execution_count": 40,
   "metadata": {},
   "outputs": [
    {
     "data": {
      "text/plain": [
       "['إيرلندا',\n",
       " 'والبرتغال',\n",
       " 'تخرجان',\n",
       " 'من',\n",
       " 'مسابقة',\n",
       " 'يوروفيجين',\n",
       " 'الغنائية',\n",
       " 'مصادرة',\n",
       " 'كميات',\n",
       " 'كبيرة']"
      ]
     },
     "execution_count": 40,
     "metadata": {},
     "output_type": "execute_result"
    }
   ],
   "source": [
    "words[:10]"
   ]
  },
  {
   "cell_type": "code",
   "execution_count": 41,
   "metadata": {},
   "outputs": [],
   "source": [
    "word_count = {}\n",
    "for word in words:\n",
    "    if word in word_count:\n",
    "        word_count[word] += 1 \n",
    "    else:\n",
    "        word_count[word] = 1 "
   ]
  },
  {
   "cell_type": "code",
   "execution_count": 44,
   "metadata": {},
   "outputs": [],
   "source": [
    "word_count = {}\n",
    "for word in words:\n",
    "    word_count[word] = word_count.get(word, 0) + 1"
   ]
  },
  {
   "cell_type": "code",
   "execution_count": 45,
   "metadata": {},
   "outputs": [
    {
     "data": {
      "text/plain": [
       "[('إيرلندا', 9),\n",
       " ('والبرتغال', 9),\n",
       " ('تخرجان', 1),\n",
       " ('من', 14051),\n",
       " ('مسابقة', 121),\n",
       " ('يوروفيجين', 2),\n",
       " ('الغنائية', 20),\n",
       " ('مصادرة', 27),\n",
       " ('كميات', 23),\n",
       " ('كبيرة', 131),\n",
       " ('الأسلحة', 186),\n",
       " ('والمتفجرات', 6),\n",
       " ('تعود', 104),\n",
       " ('لداعش', 20),\n",
       " ('في', 43957),\n",
       " ('تركيا', 1010),\n",
       " ('اوركسترا', 1),\n",
       " ('للاطفال', 7),\n",
       " ('واخرى', 6),\n",
       " ('للشباب:تعليقات', 1)]"
      ]
     },
     "execution_count": 45,
     "metadata": {},
     "output_type": "execute_result"
    }
   ],
   "source": [
    "list(word_count.items())[:20]"
   ]
  },
  {
   "cell_type": "code",
   "execution_count": 46,
   "metadata": {},
   "outputs": [],
   "source": [
    "sorted_count = sorted(word_count.items())"
   ]
  },
  {
   "cell_type": "code",
   "execution_count": 47,
   "metadata": {},
   "outputs": [
    {
     "data": {
      "text/plain": [
       "[('!', 22),\n",
       " ('!!', 1),\n",
       " ('!\"', 2),\n",
       " ('\"', 297),\n",
       " ('\"#أمير_يعتدي_على_مواطنين\"', 1),\n",
       " ('\"#أنا', 1),\n",
       " ('\"#أوامر_الملكية\"', 1),\n",
       " ('\"#أول_رخصة_قيادة_نسائية', 1),\n",
       " ('\"#إغلاق_مسجد_الأقصى\"', 1),\n",
       " ('\"#ارتفاع_الاسعار_المتصاعد', 1)]"
      ]
     },
     "execution_count": 47,
     "metadata": {},
     "output_type": "execute_result"
    }
   ],
   "source": [
    "sorted_count[:10]"
   ]
  },
  {
   "cell_type": "code",
   "execution_count": 48,
   "metadata": {},
   "outputs": [
    {
     "name": "stdout",
     "output_type": "stream",
     "text": [
      "key: إيرلندا\tvalue: 9\n",
      "key: والبرتغال\tvalue: 9\n",
      "key: تخرجان\tvalue: 1\n",
      "key: من\tvalue: 14051\n",
      "key: مسابقة\tvalue: 121\n",
      "key: يوروفيجين\tvalue: 2\n",
      "key: الغنائية\tvalue: 20\n",
      "key: مصادرة\tvalue: 27\n",
      "key: كميات\tvalue: 23\n",
      "key: كبيرة\tvalue: 131\n",
      "key: الأسلحة\tvalue: 186\n",
      "key: والمتفجرات\tvalue: 6\n",
      "key: تعود\tvalue: 104\n",
      "key: لداعش\tvalue: 20\n",
      "key: في\tvalue: 43957\n",
      "key: تركيا\tvalue: 1010\n",
      "key: اوركسترا\tvalue: 1\n",
      "key: للاطفال\tvalue: 7\n",
      "key: واخرى\tvalue: 6\n",
      "key: للشباب:تعليقات\tvalue: 1\n"
     ]
    }
   ],
   "source": [
    "for k, v in list(word_count.items())[:20]:\n",
    "    print('key: {}\\tvalue: {}'.format(k,v))"
   ]
  },
  {
   "cell_type": "code",
   "execution_count": 49,
   "metadata": {},
   "outputs": [
    {
     "data": {
      "text/plain": [
       "[14, 10, 15]"
      ]
     },
     "execution_count": 49,
     "metadata": {},
     "output_type": "execute_result"
    }
   ],
   "source": [
    "f = [14.2, 10.3, 15.9]\n",
    "[int(x) for x in f]"
   ]
  },
  {
   "cell_type": "code",
   "execution_count": 52,
   "metadata": {},
   "outputs": [],
   "source": [
    "sorted_count = sorted([(v, k) for k, v in word_count.items()], reverse=True)"
   ]
  },
  {
   "cell_type": "code",
   "execution_count": 53,
   "metadata": {},
   "outputs": [
    {
     "data": {
      "text/plain": [
       "[(43957, 'في'), (14610, 'على'), (14051, 'من'), (5865, 'عن'), (4184, 'مقتل')]"
      ]
     },
     "execution_count": 53,
     "metadata": {},
     "output_type": "execute_result"
    }
   ],
   "source": [
    "sorted_count[:5]"
   ]
  },
  {
   "cell_type": "code",
   "execution_count": 57,
   "metadata": {},
   "outputs": [
    {
     "data": {
      "text/plain": [
       "[(1, '\"أخفقت'),\n",
       " (1, '\"أخطر\"'),\n",
       " (1, '\"أخذا'),\n",
       " (1, '\"أختر\"'),\n",
       " (1, '\"أخبر'),\n",
       " (1, '\"أخبارا'),\n",
       " (1, '\"أخاف'),\n",
       " (1, '\"أحياء'),\n",
       " (1, '\"أحمد'),\n",
       " (1, '\"أحكام'),\n",
       " (1, '\"أحضان'),\n",
       " (1, '\"أحرجت\"'),\n",
       " (1, '\"أحرار\"'),\n",
       " (1, '\"أحذية\"'),\n",
       " (1, '\"أحذية'),\n",
       " (1, '\"أحدهم'),\n",
       " (1, '\"أحجاما\"،'),\n",
       " (1, '\"أحبط'),\n",
       " (1, '\"أحاديا\"'),\n",
       " (1, '\"أجواء'),\n",
       " (1, '\"أجهزة'),\n",
       " (1, '\"أجندة'),\n",
       " (1, '\"أجنة'),\n",
       " (1, '\"أجنبيين\"'),\n",
       " (1, '\"أجمل\"'),\n",
       " (1, '\"أثير'),\n",
       " (1, '\"أثرًا'),\n",
       " (1, '\"أثرت'),\n",
       " (1, '\"أثبت'),\n",
       " (1, '\"أتيكا\"'),\n",
       " (1, '\"أتلف\"'),\n",
       " (1, '\"أتلانتس\"'),\n",
       " (1, '\"أتعس\"'),\n",
       " (1, '\"أتش'),\n",
       " (1, '\"أتسمعني'),\n",
       " (1, '\"أتباعا\"'),\n",
       " (1, '\"أبيك\"'),\n",
       " (1, '\"أبولو'),\n",
       " (1, '\"أبوغريب\"'),\n",
       " (1, '\"أبوحطاب\"'),\n",
       " (1, '\"أبوجا\"'),\n",
       " (1, '\"أبواب'),\n",
       " (1, '\"أبهيناندان\"'),\n",
       " (1, '\"أبناء'),\n",
       " (1, '\"أبلغت'),\n",
       " (1, '\"أبل\"تدافع'),\n",
       " (1, '\"أبقى'),\n",
       " (1, '\"أبعد'),\n",
       " (1, '\"أبشع'),\n",
       " (1, '\"أباد\"'),\n",
       " (1, '\"أب\"'),\n",
       " (1, '\"آيمي\":'),\n",
       " (1, '\"آيرين\"'),\n",
       " (1, '\"آيباك\"'),\n",
       " (1, '\"آيباد\"'),\n",
       " (1, '\"آنابيل\"'),\n",
       " (1, '\"آمل'),\n",
       " (1, '\"آمال'),\n",
       " (1, '\"آلية'),\n",
       " (1, '\"آليا\"'),\n",
       " (1, '\"آلهة'),\n",
       " (1, '\"آلام'),\n",
       " (1, '\"آل'),\n",
       " (1, '\"آكلي'),\n",
       " (1, '\"آكلة'),\n",
       " (1, '\"آكلات'),\n",
       " (1, '\"آفة\"'),\n",
       " (1, '\"آفة'),\n",
       " (1, '\"آغونغ'),\n",
       " (1, '\"آشلي'),\n",
       " (1, '\"آسيانا\"'),\n",
       " (1, '\"آسيان\":'),\n",
       " (1, '\"آسفة'),\n",
       " (1, '\"آسف\"؟'),\n",
       " (1, '\"آسف'),\n",
       " (1, '\"آريفال\"'),\n",
       " (1, '\"آرك'),\n",
       " (1, '\"آرغو\"'),\n",
       " (1, '\"آرا\"'),\n",
       " (1, '\"آر'),\n",
       " (1, '\"آدبلوك\"'),\n",
       " (1, '\"آتية'),\n",
       " (1, '\"آبي\"'),\n",
       " (1, '\"آبي'),\n",
       " (1, '\"xxx\"'),\n",
       " (1, '\"underground\"؟'),\n",
       " (1, '\"Wikileaks\"'),\n",
       " (1, '\"Wi-fi\"'),\n",
       " (1, '\"UARS\"'),\n",
       " (1, '\"Spectre\"'),\n",
       " (1, '\"Sorry\"'),\n",
       " (1, '\"O\"'),\n",
       " (1, '\"Minions\"'),\n",
       " (1, '\"IKEA\"'),\n",
       " (1, '\"Fox\"'),\n",
       " (1, '\"Arab'),\n",
       " (1, '\"AA\"'),\n",
       " (1, '\"800'),\n",
       " (1, '\"80'),\n",
       " (1, '\"8'),\n",
       " (1, '\"787'),\n",
       " (1, '\"737'),\n",
       " (1, '\"700'),\n",
       " (1, '\"66'),\n",
       " (1, '\"634'),\n",
       " (1, '\"52\"'),\n",
       " (1, '\"51.7'),\n",
       " (1, '\"46'),\n",
       " (1, '\"43'),\n",
       " (1, '\"4'),\n",
       " (1, '\"36'),\n",
       " (1, '\"306'),\n",
       " (1, '\"29'),\n",
       " (1, '\"26'),\n",
       " (1, '\"258\"'),\n",
       " (1, '\"250'),\n",
       " (1, '\"235'),\n",
       " (1, '\"23'),\n",
       " (1, '\"21'),\n",
       " (1, '\"2016'),\n",
       " (1, '\"2001:'),\n",
       " (1, '\"2000'),\n",
       " (1, '\"200'),\n",
       " (1, '\"2\"'),\n",
       " (1, '\"1984\":'),\n",
       " (1, '\"1984\"'),\n",
       " (1, '\"19'),\n",
       " (1, '\"180'),\n",
       " (1, '\"18'),\n",
       " (1, '\"17\"'),\n",
       " (1, '\"17'),\n",
       " (1, '\"1600'),\n",
       " (1, '\"16\"'),\n",
       " (1, '\"16'),\n",
       " (1, '\"146'),\n",
       " (1, '\"140'),\n",
       " (1, '\"14'),\n",
       " (1, '\"135'),\n",
       " (1, '\"1300'),\n",
       " (1, '\"13\"'),\n",
       " (1, '\"128'),\n",
       " (1, '\"123'),\n",
       " (1, '\"1000'),\n",
       " (1, '\"100\"'),\n",
       " (1, '\"1.3'),\n",
       " (1, '\"1'),\n",
       " (1, '\"..حملة'),\n",
       " (1, '\"\\'على'),\n",
       " (1, '\"#هل_تتزوج_فتاه_ماتطبخ\"'),\n",
       " (1, '\"#هجوم_مطار_فلوريدا\"'),\n",
       " (1, '\"#نكاح_الكاراتيه\"'),\n",
       " (1, '\"#منع_التونسيات_من_السفر_للإمارات\"'),\n",
       " (1, '\"#منع_احلام_من_دخول_لبنان\"'),\n",
       " (1, '\"#ملناش_دعوه\"'),\n",
       " (1, '\"#مسلمسيحي_ضد_ارهابكم'),\n",
       " (1, '\"#ماتوا_التلامذة\"'),\n",
       " (1, '\"#لن_أصوم\"'),\n",
       " (1, '\"#لماذا_نبغض_ايران\"...'),\n",
       " (1, '\"#لا_للمبادرة_المصرية\"'),\n",
       " (1, '\"#لا_لاعتقال_المعلم\"'),\n",
       " (1, '\"#لا_صلة_للسعودية_بالإرهاب\"'),\n",
       " (1, '\"#كلهم_خذلونا\"'),\n",
       " (1, '\"#كلنا_مي_فتيحة\"'),\n",
       " (1, '\"#كبار_العلماء_تحاور_الشيعة\"'),\n",
       " (1, '\"#قناه_الجزيره_تسيء_للملك_سلمان\"..'),\n",
       " (1, '\"#قطر_ترفض_المصالحة\"'),\n",
       " (1, '\"#قزم_العهد\"'),\n",
       " (1, '\"#في_مزبلة_التاريخ_الاخوان_والنشطاء\"'),\n",
       " (1, '\"#غزة_حقها_تعيش\"'),\n",
       " (1, '\"#عرف_العراق_بكلمتين\"'),\n",
       " (1, '\"#عاوز_أهاجر_علشان\"'),\n",
       " (1, '\"#عادل_الجبير_يهدد_أوباما\"'),\n",
       " (1, '\"#طمبق_مستغل_الاطفال_جنسيا\"'),\n",
       " (1, '\"#طحن_مو\"'),\n",
       " (1, '\"#طالبي_بحقك\"...'),\n",
       " (1, '\"#ضابط_سعودي_يترك_الاسلامِ\"'),\n",
       " (1, '\"#شهيدات_القفة'),\n",
       " (1, '\"#ذي_فويس_كيدز\"'),\n",
       " (1, '\"#دواعش_يقتلون_والدهم\"'),\n",
       " (1, '\"#داعش_البحرين\"'),\n",
       " (1, '\"#حلب_تناديكم\"..'),\n",
       " (1, '\"#حلب_تحترق\"'),\n",
       " (1, '\"#حراك_15سبتمبر\"'),\n",
       " (1, '\"#تهجير_الأقباط\"'),\n",
       " (1, '\"#تطاول_الوافدين_علي_صفاء_الهاشم\":'),\n",
       " (1, '\"#تسريب_شفيق\"'),\n",
       " (1, '\"#تحت_الضغط\"'),\n",
       " (1, '\"#المعده_القطريه\"'),\n",
       " (1, '\"#القبض_علي_خلايا_استخباراتيه\"'),\n",
       " (1, '\"#السعودية_دولة_جمال_وخيم\"'),\n",
       " (1, '\"#الخامس_جويليه_كن_جزايريا\"'),\n",
       " (1, '\"#الحريه_لنهى_البلوي\"'),\n",
       " (1, '\"#الأمم_المتحدة'),\n",
       " (1, '\"#ارتفاع_الاسعار_المتصاعد'),\n",
       " (1, '\"#إغلاق_مسجد_الأقصى\"'),\n",
       " (1, '\"#أول_رخصة_قيادة_نسائية'),\n",
       " (1, '\"#أوامر_الملكية\"'),\n",
       " (1, '\"#أنا'),\n",
       " (1, '\"#أمير_يعتدي_على_مواطنين\"'),\n",
       " (1, '!!')]"
      ]
     },
     "execution_count": 57,
     "metadata": {},
     "output_type": "execute_result"
    }
   ],
   "source": [
    "sorted_count[-200:]"
   ]
  },
  {
   "cell_type": "code",
   "execution_count": null,
   "metadata": {},
   "outputs": [],
   "source": []
  }
 ],
 "metadata": {
  "kernelspec": {
   "display_name": "Python 3",
   "language": "python",
   "name": "python3"
  },
  "language_info": {
   "codemirror_mode": {
    "name": "ipython",
    "version": 3
   },
   "file_extension": ".py",
   "mimetype": "text/x-python",
   "name": "python",
   "nbconvert_exporter": "python",
   "pygments_lexer": "ipython3",
   "version": "3.7.3"
  }
 },
 "nbformat": 4,
 "nbformat_minor": 4
}
