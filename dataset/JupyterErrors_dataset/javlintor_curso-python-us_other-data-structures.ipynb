{
  "cells": [
    {
      "cell_type": "markdown",
      "metadata": {
        "id": "5Qy9Hf6aAycF"
      },
      "source": [
        "# Otras estructuras de datos\n",
        "\n",
        "Hasta ahora hemos introducido las listas de Python como estructura que nos permite manipular conjutos de datos. En esta sección veremos otras estructuras de datos e investigaremos cúando es conveniente usar cada una, en concreto vamos a ver\n",
        "- tuplas \n",
        "- diccionarios \n",
        "- conjuntos\n",
        "- generadores"
      ]
    },
    {
      "cell_type": "markdown",
      "metadata": {
        "id": "qp6SVDFyAycH"
      },
      "source": [
        "---\n",
        "## Tuplas\n",
        "\n",
        "Las **tuplas** son similares a las listas en el sentido de que nos permiten guardar un número arbitrario de objetos y acceder a los mismos mediante índices, es decir, son objetos secuenciales. Para definir una tupla utilizamos paréntesis `()`"
      ]
    },
    {
      "cell_type": "code",
      "execution_count": null,
      "metadata": {
        "id": "TzyxVYM3Eugo"
      },
      "outputs": [],
      "source": [
        "foo = (1, \"b\")"
      ]
    },
    {
      "cell_type": "markdown",
      "metadata": {
        "id": "iorYGy1OEx7W"
      },
      "source": [
        "Al igual que con las listas, podemos incluir expresiones que se evaluarán antes de formar la tupla"
      ]
    },
    {
      "cell_type": "code",
      "execution_count": null,
      "metadata": {
        "id": "phYnOtUHE5ZJ"
      },
      "outputs": [],
      "source": [
        "bar = (1 is None, \"fjkdsljfd\".islower(), 2 in [1, 4, 5, 3])"
      ]
    },
    {
      "cell_type": "code",
      "execution_count": null,
      "metadata": {
        "colab": {
          "base_uri": "https://localhost:8080/"
        },
        "id": "eZeDF6Q1HLGa",
        "outputId": "d6158b34-8a15-4451-ab7f-0ca6bf6b9c5c"
      },
      "outputs": [
        {
          "data": {
            "text/plain": [
              "(False, True, False)"
            ]
          },
          "execution_count": 10,
          "metadata": {},
          "output_type": "execute_result"
        }
      ],
      "source": [
        "bar"
      ]
    },
    {
      "cell_type": "code",
      "execution_count": null,
      "metadata": {
        "colab": {
          "base_uri": "https://localhost:8080/"
        },
        "id": "6e91M95sG-Uc",
        "outputId": "114a33be-9830-424d-a45c-66c053f3d615"
      },
      "outputs": [
        {
          "data": {
            "text/plain": [
              "True"
            ]
          },
          "execution_count": 8,
          "metadata": {},
          "output_type": "execute_result"
        }
      ],
      "source": [
        "isinstance(bar, tuple)"
      ]
    },
    {
      "cell_type": "code",
      "execution_count": null,
      "metadata": {
        "colab": {
          "base_uri": "https://localhost:8080/"
        },
        "id": "U0Qv32CIHIO5",
        "outputId": "d9137c02-18de-4fc4-d8b8-fda6df88fc68"
      },
      "outputs": [
        {
          "data": {
            "text/plain": [
              "tuple"
            ]
          },
          "execution_count": 9,
          "metadata": {},
          "output_type": "execute_result"
        }
      ],
      "source": [
        "type(foo)"
      ]
    },
    {
      "cell_type": "markdown",
      "metadata": {
        "id": "0XA_SlzvHJkP"
      },
      "source": [
        "Las tuplas son utilizadas para guardar una colección de datos en una estructura simple e **inmutable**, es decir, no podremos modificarlas una vez sean creadas: ni reemplezar, añadir o borrar sus elementos. Dicho de otro modo, es un único objeto formado por distintas partes más que una colección de distintos objetos como una lista. "
      ]
    },
    {
      "cell_type": "markdown",
      "metadata": {
        "id": "j2IPUI18J2Gi"
      },
      "source": [
        ":::{exercise}\n",
        ":label: other-data-structures-tuples-inmmutable\n",
        "\n",
        "¿Qué error obtenemos al intentar modificar un objeto de una tupla?\n",
        "\n",
        ":::"
      ]
    },
    {
      "cell_type": "markdown",
      "metadata": {
        "id": "5T6SKgXIKp2p"
      },
      "source": [
        ":::{exercise}\n",
        ":label: other-data-structures-tuples-inmmutable-2\n",
        "\n",
        "Las tuplas son objetos inmutables pero, ¿pueden los objetos que forman la tupla ser mutables? \n",
        "\n",
        ":::"
      ]
    },
    {
      "cell_type": "markdown",
      "metadata": {
        "id": "UejKhQ7eJwCv"
      },
      "source": [
        "Por consistencia, existen las tuplas de longitud 0 y 1"
      ]
    },
    {
      "cell_type": "code",
      "execution_count": null,
      "metadata": {
        "id": "zGQHMCsUIV4y"
      },
      "outputs": [],
      "source": [
        "zero_tuple = ()\n",
        "one_tuple = (5,) # notemos la coma"
      ]
    },
    {
      "cell_type": "markdown",
      "metadata": {
        "id": "xEHmnu_ZIoiT"
      },
      "source": [
        "Aunque podemos utilizar índices numéricos para acceder a los elementos de la tupla, es más común *deshacer* la tupla en variables "
      ]
    },
    {
      "cell_type": "code",
      "execution_count": null,
      "metadata": {
        "id": "VSxQSpTdJBUr"
      },
      "outputs": [],
      "source": [
        "holding = ('GOOG', 100, 490.10)\n",
        "address = ('www.python.org', 80)\n",
        "\n",
        "name, shares, price = holding\n",
        "host, port = address"
      ]
    },
    {
      "cell_type": "markdown",
      "metadata": {
        "id": "o8sP6UD-JP-p"
      },
      "source": [
        "> Esta misma sintaxis se puede utilizar para hacer varias asignaciones a la vez\n",
        "```\n",
        "a, b = 1, None\n",
        "```"
      ]
    },
    {
      "cell_type": "code",
      "execution_count": null,
      "metadata": {
        "colab": {
          "base_uri": "https://localhost:8080/"
        },
        "id": "1cebfsg3LfJ0",
        "outputId": "10d21bc1-76da-4ebf-adc9-99e7c107ecd8"
      },
      "outputs": [
        {
          "data": {
            "text/plain": [
              "True"
            ]
          },
          "execution_count": 3,
          "metadata": {},
          "output_type": "execute_result"
        }
      ],
      "source": [
        "isinstance(1, (bool, int))"
      ]
    },
    {
      "cell_type": "markdown",
      "metadata": {
        "id": "n6iYQq0buBKO"
      },
      "source": [
        "---\n",
        "## Trabajando con secuencias \n",
        "\n",
        "Ya hemos visto tres tipos secuenciales: cadenas, listas y tuplas. Vamos a dedicar un apartado a repasar las principales operaciones que podemos realizar con objetos secuenciales"
      ]
    },
    {
      "cell_type": "markdown",
      "metadata": {
        "id": "qqaRsi9QVzdr"
      },
      "source": [
        "### Comprobar pertenencia \n",
        "\n",
        "Lo haremos a través del operador `in` y su negación `not in`"
      ]
    },
    {
      "cell_type": "code",
      "execution_count": null,
      "metadata": {
        "colab": {
          "base_uri": "https://localhost:8080/"
        },
        "id": "DnpPu_gzbqoy",
        "outputId": "98deac5c-5e01-423c-b188-737f1f593a96"
      },
      "outputs": [
        {
          "data": {
            "text/plain": [
              "True"
            ]
          },
          "execution_count": 2,
          "metadata": {},
          "output_type": "execute_result"
        }
      ],
      "source": [
        "# con tuplas\n",
        "x = (1, 3, 5)\n",
        "3 in x"
      ]
    },
    {
      "cell_type": "code",
      "execution_count": null,
      "metadata": {
        "colab": {
          "base_uri": "https://localhost:8080/"
        },
        "id": "9Yp2slFtbuK3",
        "outputId": "7f75466f-52ea-43d3-df7f-66539a76f50f"
      },
      "outputs": [
        {
          "data": {
            "text/plain": [
              "True"
            ]
          },
          "execution_count": 3,
          "metadata": {},
          "output_type": "execute_result"
        }
      ],
      "source": [
        "# con cadenas \n",
        "\"cat\" in \"the cat in the hat\"\n",
        "True"
      ]
    },
    {
      "cell_type": "code",
      "execution_count": null,
      "metadata": {
        "colab": {
          "base_uri": "https://localhost:8080/"
        },
        "id": "J-D4n36Vbu3X",
        "outputId": "42dc2c57-a453-43a4-ecac-c2d8de2c6296"
      },
      "outputs": [
        {
          "data": {
            "text/plain": [
              "False"
            ]
          },
          "execution_count": 4,
          "metadata": {},
          "output_type": "execute_result"
        }
      ],
      "source": [
        "# con listas \n",
        "[1, 2] in [1, 2, 3, 4]"
      ]
    },
    {
      "cell_type": "code",
      "execution_count": null,
      "metadata": {
        "colab": {
          "base_uri": "https://localhost:8080/"
        },
        "id": "QTyKqljhbvCp",
        "outputId": "76ee2eb9-4680-4c2d-b086-fc4e0d9ca912"
      },
      "outputs": [
        {
          "data": {
            "text/plain": [
              "True"
            ]
          },
          "execution_count": 5,
          "metadata": {},
          "output_type": "execute_result"
        }
      ],
      "source": [
        "[1, 2] in [None, [1, 2], None]"
      ]
    },
    {
      "cell_type": "markdown",
      "metadata": {
        "id": "sYdiU8Dgcn4i"
      },
      "source": [
        "### Obtener el índice de la primera instancia de un objeto\n",
        "\n",
        "Mediante el método `index`"
      ]
    },
    {
      "cell_type": "code",
      "execution_count": null,
      "metadata": {
        "colab": {
          "base_uri": "https://localhost:8080/"
        },
        "id": "ibtwoPxc8jVZ",
        "outputId": "dd7b7790-7605-4305-800b-0c053d7675e6"
      },
      "outputs": [
        {
          "data": {
            "text/plain": [
              "0"
            ]
          },
          "execution_count": 1,
          "metadata": {},
          "output_type": "execute_result"
        }
      ],
      "source": [
        "\"cat cat cat\".index(\"cat\")"
      ]
    },
    {
      "cell_type": "code",
      "execution_count": null,
      "metadata": {
        "colab": {
          "base_uri": "https://localhost:8080/",
          "height": 171
        },
        "id": "op2BAXzk8nSJ",
        "outputId": "84ef60ba-dcba-4b96-c468-26015cb43506"
      },
      "outputs": [
        {
          "ename": "ValueError",
          "evalue": "ignored",
          "output_type": "error",
          "traceback": [
            "\u001b[0;31m---------------------------------------------------------------------------\u001b[0m",
            "\u001b[0;31mValueError\u001b[0m                                Traceback (most recent call last)",
            "\u001b[0;32m<ipython-input-2-1566917e62a3>\u001b[0m in \u001b[0;36m<module>\u001b[0;34m\u001b[0m\n\u001b[0;32m----> 1\u001b[0;31m \u001b[0;34m[\u001b[0m\u001b[0;36m1\u001b[0m\u001b[0;34m,\u001b[0m \u001b[0;36m2\u001b[0m\u001b[0;34m,\u001b[0m \u001b[0;34m\"moo\"\u001b[0m\u001b[0;34m]\u001b[0m\u001b[0;34m.\u001b[0m\u001b[0mindex\u001b[0m\u001b[0;34m(\u001b[0m\u001b[0;34m\"m\"\u001b[0m\u001b[0;34m)\u001b[0m\u001b[0;34m\u001b[0m\u001b[0;34m\u001b[0m\u001b[0m\n\u001b[0m",
            "\u001b[0;31mValueError\u001b[0m: 'm' is not in list"
          ]
        }
      ],
      "source": [
        "[1, 2, \"moo\"].index(\"m\")"
      ]
    },
    {
      "cell_type": "markdown",
      "metadata": {
        "id": "2XNbpVTp8q0W"
      },
      "source": [
        "### Contar el número de ocurrencias \n",
        "\n",
        "Utilizaremos el método `count`"
      ]
    },
    {
      "cell_type": "code",
      "execution_count": null,
      "metadata": {
        "colab": {
          "base_uri": "https://localhost:8080/"
        },
        "id": "0dLhZxSI9G-4",
        "outputId": "48ff6a54-199a-42dc-93a0-71da2a90ce72"
      },
      "outputs": [
        {
          "data": {
            "text/plain": [
              "3"
            ]
          },
          "execution_count": 4,
          "metadata": {},
          "output_type": "execute_result"
        }
      ],
      "source": [
        "\"the cat in the hat\".count(\"h\")"
      ]
    },
    {
      "cell_type": "markdown",
      "metadata": {
        "id": "ice9QAxC9HWQ"
      },
      "source": [
        "### Indexado y *slicing*\n",
        "\n",
        "Como ya hemos visto, podemos acceder a objetos individuales utilizando in índice entero que empieza en cero. Este índice puede ser negativo si queremos buscar desde el final de la secuencia "
      ]
    },
    {
      "cell_type": "code",
      "execution_count": null,
      "metadata": {
        "colab": {
          "base_uri": "https://localhost:8080/"
        },
        "id": "h_7xYiLl-GMU",
        "outputId": "6a5d382d-3e3e-4fe6-9c15-f99d74d808c4"
      },
      "outputs": [
        {
          "data": {
            "text/plain": [
              "21"
            ]
          },
          "execution_count": 5,
          "metadata": {},
          "output_type": "execute_result"
        }
      ],
      "source": [
        "l = [1, 1, 2, 3, 5, 8, 13, 21]\n",
        "l[-1]"
      ]
    },
    {
      "cell_type": "markdown",
      "metadata": {
        "id": "ncPiY70Q91g3"
      },
      "source": [
        "Podemos ir más allá y pedir un subconjunto de la sucencia con las operaciones de *slicing*, cuya sintaxis básica es `seq[start:stop:step]`"
      ]
    },
    {
      "cell_type": "code",
      "execution_count": null,
      "metadata": {
        "colab": {
          "base_uri": "https://localhost:8080/",
          "height": 36
        },
        "id": "nzWyrFd0-bDH",
        "outputId": "956649a4-3500-4694-f31a-06dc84083e26"
      },
      "outputs": [
        {
          "data": {
            "application/vnd.google.colaboratory.intrinsic+json": {
              "type": "string"
            },
            "text/plain": [
              "'abcd'"
            ]
          },
          "execution_count": 7,
          "metadata": {},
          "output_type": "execute_result"
        }
      ],
      "source": [
        "seq = \"abcdefg\"\n",
        "seq[0:4:1]"
      ]
    },
    {
      "cell_type": "code",
      "execution_count": null,
      "metadata": {
        "colab": {
          "base_uri": "https://localhost:8080/",
          "height": 36
        },
        "id": "_NsAayt-_Cq8",
        "outputId": "9d2dc1ff-3e6b-4368-a5ce-75b723455e00"
      },
      "outputs": [
        {
          "data": {
            "application/vnd.google.colaboratory.intrinsic+json": {
              "type": "string"
            },
            "text/plain": [
              "'aceg'"
            ]
          },
          "execution_count": 8,
          "metadata": {},
          "output_type": "execute_result"
        }
      ],
      "source": [
        "seq[::2]"
      ]
    },
    {
      "cell_type": "markdown",
      "metadata": {
        "id": "QgPBUoFd-cMS"
      },
      "source": [
        "Por defecto, `start=0`, `stop=len(seq)` y `step=1`. Si utilizamos valores negativos para `step` invertiremos el orden de la secuencia"
      ]
    },
    {
      "cell_type": "code",
      "execution_count": null,
      "metadata": {
        "colab": {
          "base_uri": "https://localhost:8080/",
          "height": 36
        },
        "id": "NrcThIX_-cic",
        "outputId": "fab9041d-3bd8-4e9b-ee1a-79c2ef8822de"
      },
      "outputs": [
        {
          "data": {
            "application/vnd.google.colaboratory.intrinsic+json": {
              "type": "string"
            },
            "text/plain": [
              "'gfedcba'"
            ]
          },
          "execution_count": 9,
          "metadata": {},
          "output_type": "execute_result"
        }
      ],
      "source": [
        "seq[::-1]"
      ]
    },
    {
      "cell_type": "markdown",
      "metadata": {
        "id": "CjMRbqiE-ctS"
      },
      "source": [
        "Aunque la sintaxis con `:` es la más frecuente, está bien saber que en Python existe el objeto de tipo `slice` para definir nuestra selección de forma independiente a la secuencia. Para ello utilizamos el tipo `slice` con los tres argumentos que hemos visto: `start`, `stop` y `step`."
      ]
    },
    {
      "cell_type": "code",
      "execution_count": null,
      "metadata": {
        "id": "lHBRx0WB_uPs"
      },
      "outputs": [],
      "source": [
        "reverse = slice(None, None, -1)"
      ]
    },
    {
      "cell_type": "code",
      "execution_count": null,
      "metadata": {
        "colab": {
          "base_uri": "https://localhost:8080/"
        },
        "id": "w7b2xBL8AZVF",
        "outputId": "d5534cad-49f0-45bf-a554-b96e819be3c0"
      },
      "outputs": [
        {
          "data": {
            "text/plain": [
              "slice"
            ]
          },
          "execution_count": 11,
          "metadata": {},
          "output_type": "execute_result"
        }
      ],
      "source": [
        "type(reverse)"
      ]
    },
    {
      "cell_type": "markdown",
      "metadata": {
        "id": "O8-N5elfAaP-"
      },
      "source": [
        ":::{exercise}\n",
        ":label: other-data-structures-slices\n",
        "\n",
        "¿Qué error obtenemos cuando intentamos acceder a un índice que no existe para una secuencia?\n",
        "\n",
        ":::"
      ]
    },
    {
      "cell_type": "markdown",
      "metadata": {
        "id": "wgXUCyosApDi"
      },
      "source": [
        ":::{exercise}\n",
        ":label: other-data-structures-slices-2\n",
        "\n",
        "Considera la siguiente tupla\n",
        "\n",
        "```\n",
        "x = (0, 2, 4, 6, 8)\n",
        "```\n",
        "\n",
        "Indexa o utiliza slides para obtener\n",
        "1. `0`\n",
        "2. `8`\n",
        "3. `(2, 4, 6)`\n",
        "4. `(4,)`\n",
        "5. `4`\n",
        "6. `4` utilizando un índice negativo\n",
        "7. `(6, 8)`\n",
        "8. `(2, 6)`\n",
        "9. `(8, 6, 4, 2)`\n",
        "\n",
        ":::"
      ]
    },
    {
      "cell_type": "markdown",
      "metadata": {
        "id": "VQRjzslmBoO2"
      },
      "source": [
        ":::{exercise}\n",
        ":label: other-data-structures-slices-3\n",
        "\n",
        "Dada una tupla `x` que contenga el número `5`, escribe las instrucciones necesarias para reemplazar la primera instancia de `5` por `-5`.\n",
        "\n",
        ":::"
      ]
    },
    {
      "cell_type": "markdown",
      "metadata": {
        "id": "afh-nIRFDC74"
      },
      "source": [
        ":::{exercise}\n",
        ":label: other-data-structures-slices-4\n",
        "\n",
        "Dada una secuencia `seq` y un índice negativo `neg_index`, escribe la fórmula que nos daría el índice positivo correspondiente. \n",
        "\n",
        ":::"
      ]
    },
    {
      "cell_type": "markdown",
      "metadata": {
        "id": "wEl4wwqxDXnx"
      },
      "source": [
        "---\n",
        "## Diccionarios\n",
        "\n"
      ]
    },
    {
      "cell_type": "markdown",
      "metadata": {
        "id": "O6JX_DWmqCa4"
      },
      "source": [
        "Un **diccionario** es un objeto que nos permite guardar campos informados mediante una clave. Para crearlos escribimos pares de clave - valor separados por `:` entre corchetes "
      ]
    },
    {
      "cell_type": "code",
      "execution_count": null,
      "metadata": {
        "id": "HzGUFQ0-sxBc"
      },
      "outputs": [],
      "source": [
        "prices = {\n",
        "    \"GOOG\": 490.1, \n",
        "    \"AAPL\": 123.5, \n",
        "    \"IBM\": 91.5, \n",
        "    \"MSFT\": 52.13\n",
        "}\n",
        "\n",
        "# diccionario vacío \n",
        "empty_dict = {}    # también se crea con dict()"
      ]
    },
    {
      "cell_type": "markdown",
      "metadata": {
        "id": "DxmHeZUptDBy"
      },
      "source": [
        "Se pueden crear también diccionarios a partir del constructor `dict`, que acepta un iterable de pares de clave-valor empaquetados en una secuencia.   "
      ]
    },
    {
      "cell_type": "code",
      "execution_count": null,
      "metadata": {
        "id": "LMu3lwxM2XAI"
      },
      "outputs": [],
      "source": [
        "fruit_or_veggie = dict([(\"apple\", \"fruit\"), (\"carrot\", \"vegetable\")])"
      ]
    },
    {
      "cell_type": "markdown",
      "metadata": {
        "id": "P6F7PHmfpWYx"
      },
      "source": [
        "Para acceder a un valor del diccionario a través de la clave se pueden utilizar corchetes `[]` con la clave entre comillas"
      ]
    },
    {
      "cell_type": "code",
      "execution_count": null,
      "metadata": {
        "colab": {
          "base_uri": "https://localhost:8080/"
        },
        "id": "IEAUv_f_pnCm",
        "outputId": "4069ac2c-a1fe-4bff-f974-dcacb5438c49"
      },
      "outputs": [
        {
          "data": {
            "text/plain": [
              "490.1"
            ]
          },
          "execution_count": 23,
          "metadata": {},
          "output_type": "execute_result"
        }
      ],
      "source": [
        "prices[\"GOOG\"]"
      ]
    },
    {
      "cell_type": "markdown",
      "metadata": {
        "id": "p82yoAkxpmk7"
      },
      "source": [
        "aunque es más recomendable utilizar el método `get`, ya que si la clave buscada no se encuentra devuelve un `None` o el valor por defecto que le indiquemos, en lugar de levantar un error tipo `KeyError`. "
      ]
    },
    {
      "cell_type": "code",
      "execution_count": null,
      "metadata": {
        "colab": {
          "base_uri": "https://localhost:8080/"
        },
        "id": "tgGIa8-tqim7",
        "outputId": "1b6f1b38-bdc1-47ca-df87-cf5f53bbebf3"
      },
      "outputs": [
        {
          "data": {
            "text/plain": [
              "490.1"
            ]
          },
          "execution_count": 28,
          "metadata": {},
          "output_type": "execute_result"
        }
      ],
      "source": [
        "prices.get(\"GOOG\")"
      ]
    },
    {
      "cell_type": "code",
      "execution_count": null,
      "metadata": {
        "colab": {
          "base_uri": "https://localhost:8080/"
        },
        "id": "B_EIMUpWp_pz",
        "outputId": "575aefc4-d136-492d-d7b4-126901cba5bb"
      },
      "outputs": [
        {
          "data": {
            "text/plain": [
              "0.0"
            ]
          },
          "execution_count": 29,
          "metadata": {},
          "output_type": "execute_result"
        }
      ],
      "source": [
        "prices.get(\"AMZ\", 0.0)    # devuelve 0.0 si no encuentra la clave AMZ"
      ]
    },
    {
      "cell_type": "code",
      "execution_count": null,
      "metadata": {
        "colab": {
          "base_uri": "https://localhost:8080/",
          "height": 171
        },
        "id": "J5Vf0X8MqJ0r",
        "outputId": "06b5f161-ca93-48bc-ed8d-947f4d47b4fa"
      },
      "outputs": [
        {
          "ename": "KeyError",
          "evalue": "ignored",
          "output_type": "error",
          "traceback": [
            "\u001b[0;31m---------------------------------------------------------------------------\u001b[0m",
            "\u001b[0;31mKeyError\u001b[0m                                  Traceback (most recent call last)",
            "\u001b[0;32m<ipython-input-31-a5e5920f828e>\u001b[0m in \u001b[0;36m<module>\u001b[0;34m\u001b[0m\n\u001b[0;32m----> 1\u001b[0;31m \u001b[0mprices\u001b[0m\u001b[0;34m[\u001b[0m\u001b[0;34m\"AMZ\"\u001b[0m\u001b[0;34m]\u001b[0m\u001b[0;34m\u001b[0m\u001b[0;34m\u001b[0m\u001b[0m\n\u001b[0m",
            "\u001b[0;31mKeyError\u001b[0m: 'AMZ'"
          ]
        }
      ],
      "source": [
        "prices[\"AMZ\"]"
      ]
    },
    {
      "cell_type": "markdown",
      "metadata": {
        "id": "3LSOPwY-qxAM"
      },
      "source": [
        "Los diccionarios son objetos **mutables**, podemos añadir elementos directamente"
      ]
    },
    {
      "cell_type": "code",
      "execution_count": null,
      "metadata": {
        "colab": {
          "base_uri": "https://localhost:8080/"
        },
        "id": "i7z7dJ_TrMF2",
        "outputId": "dd4c2f43-7e6c-4ba7-c989-fa341aea0064"
      },
      "outputs": [
        {
          "data": {
            "text/plain": [
              "{'GOOG': 490.1, 'AAPL': 123.5, 'IBM': 91.5, 'MSFT': 52.13, 'AMZ': 90.98}"
            ]
          },
          "execution_count": 50,
          "metadata": {},
          "output_type": "execute_result"
        }
      ],
      "source": [
        "prices[\"AMZ\"] = 90.98\n",
        "prices"
      ]
    },
    {
      "cell_type": "markdown",
      "metadata": {
        "id": "iqDwah-7sIgM"
      },
      "source": [
        "para ello también tenemos el método `update`, que acepta otro diccionario o un iterable de pares clave-valor."
      ]
    },
    {
      "cell_type": "code",
      "execution_count": null,
      "metadata": {
        "colab": {
          "base_uri": "https://localhost:8080/"
        },
        "id": "9Yen_8BSsWZy",
        "outputId": "da8e5e49-844f-4d0b-bffa-55c7c3ea1d7b"
      },
      "outputs": [
        {
          "data": {
            "text/plain": [
              "{'apple': 'fruit',\n",
              " 'carrot': 'vegetable',\n",
              " 'grape': 'fruit',\n",
              " 'onion': 'vegetable'}"
            ]
          },
          "execution_count": 42,
          "metadata": {},
          "output_type": "execute_result"
        }
      ],
      "source": [
        "fruit_or_veggie.update([(\"grape\", \"fruit\"), (\"onion\", \"vegetable\")])\n",
        "fruit_or_veggie"
      ]
    },
    {
      "cell_type": "markdown",
      "metadata": {
        "id": "roqEbfQht8hz"
      },
      "source": [
        "para borrar un elemento utilizamos `del` (leventa error si no encuentra la clave) o el método `pop` o `remove` como vimos en listas."
      ]
    },
    {
      "cell_type": "code",
      "execution_count": null,
      "metadata": {
        "id": "VDAXxIsquARw"
      },
      "outputs": [],
      "source": [
        "del prices[\"AMZ\"]"
      ]
    },
    {
      "cell_type": "code",
      "execution_count": null,
      "metadata": {
        "colab": {
          "base_uri": "https://localhost:8080/"
        },
        "id": "rE6dc3eeuVZA",
        "outputId": "c4e9184f-f593-4c60-eb87-13bc8b0f07c7"
      },
      "outputs": [
        {
          "data": {
            "text/plain": [
              "{'GOOG': 490.1, 'AAPL': 123.5, 'IBM': 91.5, 'MSFT': 52.13}"
            ]
          },
          "execution_count": 44,
          "metadata": {},
          "output_type": "execute_result"
        }
      ],
      "source": [
        "prices"
      ]
    },
    {
      "cell_type": "markdown",
      "metadata": {
        "id": "R2MKWHA4sH06"
      },
      "source": [
        ":::{exercise}\n",
        ":label: other-data-structures-dict\n",
        "\n",
        "Dada la siguiente tupla de nombres \n",
        "\n",
        "```\n",
        "(\"Alicia\", \"Eva\", \"Manolo\", \"Virginia\")\n",
        "```\n",
        "\n",
        "y sus correspondientes calificaciones \n",
        "\n",
        "```\n",
        "(5.2, 9.1, 7.2, 4.9)\n",
        "```\n",
        "\n",
        "crea un diccionario que mapee nombres con calificaciones. Luego, actualiza la nota de Virginia a un `5.0`. Finalmente, añade a Alberto, que ha cateado con un `2.7`.\n",
        "\n",
        ":::"
      ]
    },
    {
      "cell_type": "markdown",
      "metadata": {
        "id": "3WR_QmZLvf_9"
      },
      "source": [
        "> Un diccionario **puede almacenar cualquier tipo de objeto**, pero las claves deben ser siempre **inmutables**, o más generalmente, **hasheables**. "
      ]
    },
    {
      "cell_type": "code",
      "execution_count": null,
      "metadata": {
        "id": "lfonNBFb22-R"
      },
      "outputs": [],
      "source": [
        "example_dict = {\n",
        "    -1: 10, \n",
        "    \"moo\": True,\n",
        "    (1, 2): print,\n",
        "    3.4: \"cow\", # es altamente no recomendable usar floats como claves \n",
        "    False:[] \n",
        "}"
      ]
    },
    {
      "cell_type": "markdown",
      "metadata": {
        "id": "zlaa119JwiVh"
      },
      "source": [
        ":::{exercise}\n",
        ":label: other-data-structures-dict-2\n",
        "\n",
        "¿Qué tipo de error obtenemos al crear un diccionario con una clave que sea mutable?\n",
        "\n",
        ":::"
      ]
    },
    {
      "cell_type": "markdown",
      "metadata": {
        "id": "8iblA2P33Vnw"
      },
      "source": [
        "Cuando iteramos sobre un diccionario, se utilizan las claves como referencia. Por ejemplo "
      ]
    },
    {
      "cell_type": "code",
      "execution_count": null,
      "metadata": {
        "id": "_1UwieAN3iOY"
      },
      "outputs": [],
      "source": [
        "example_dict = {\"key1\": \"value1\", \"key2\": \"value2\", \"key3\": \"value3\"}"
      ]
    },
    {
      "cell_type": "code",
      "execution_count": null,
      "metadata": {
        "colab": {
          "base_uri": "https://localhost:8080/"
        },
        "id": "gTxYSqVa3mp5",
        "outputId": "f4aa87e8-9452-4544-984f-ac3c702e74e9"
      },
      "outputs": [
        {
          "data": {
            "text/plain": [
              "['key1', 'key2', 'key3']"
            ]
          },
          "execution_count": 59,
          "metadata": {},
          "output_type": "execute_result"
        }
      ],
      "source": [
        "list(example_dict)"
      ]
    },
    {
      "cell_type": "code",
      "execution_count": null,
      "metadata": {
        "colab": {
          "base_uri": "https://localhost:8080/"
        },
        "id": "t34cr1B43lXl",
        "outputId": "7d32cbaf-3734-4733-841f-3513d45eb7e6"
      },
      "outputs": [
        {
          "data": {
            "text/plain": [
              "False"
            ]
          },
          "execution_count": 60,
          "metadata": {},
          "output_type": "execute_result"
        }
      ],
      "source": [
        "\"value1\" in example_dict"
      ]
    },
    {
      "cell_type": "code",
      "execution_count": null,
      "metadata": {
        "colab": {
          "base_uri": "https://localhost:8080/"
        },
        "id": "cm7G8PAs3vgc",
        "outputId": "b116169a-38ac-474a-9e4d-b1f38f242e1b"
      },
      "outputs": [
        {
          "data": {
            "text/plain": [
              "3"
            ]
          },
          "execution_count": 62,
          "metadata": {},
          "output_type": "execute_result"
        }
      ],
      "source": [
        "len(example_dict) # nos da el número de claves"
      ]
    },
    {
      "cell_type": "markdown",
      "metadata": {
        "id": "XO88om-530vx"
      },
      "source": [
        "Para acceder a los valores de un diccionario, hay que invocar al método `values`. Si queremos los pares clave-valor como duplas, llamamos a `items`"
      ]
    },
    {
      "cell_type": "code",
      "execution_count": null,
      "metadata": {
        "colab": {
          "base_uri": "https://localhost:8080/"
        },
        "id": "aRg5dHuG4AWi",
        "outputId": "d0ffb706-ac04-44b2-fa1f-e4981b1ca466"
      },
      "outputs": [
        {
          "data": {
            "text/plain": [
              "['value1', 'value2', 'value3']"
            ]
          },
          "execution_count": 64,
          "metadata": {},
          "output_type": "execute_result"
        }
      ],
      "source": [
        "list(example_dict.values())"
      ]
    },
    {
      "cell_type": "code",
      "execution_count": null,
      "metadata": {
        "colab": {
          "base_uri": "https://localhost:8080/"
        },
        "id": "EOABBAQg4GW-",
        "outputId": "12d2d722-5809-444a-cf5e-4a52b756ed27"
      },
      "outputs": [
        {
          "data": {
            "text/plain": [
              "[('key1', 'value1'), ('key2', 'value2'), ('key3', 'value3')]"
            ]
          },
          "execution_count": 65,
          "metadata": {},
          "output_type": "execute_result"
        }
      ],
      "source": [
        "list(example_dict.items())"
      ]
    },
    {
      "cell_type": "markdown",
      "metadata": {
        "id": "1x97zPysze8h"
      },
      "source": [
        "---\n",
        "## Conjuntos\n",
        "\n",
        "Los **conjuntos** nos sirven para crear una estructura de objetos **únicos** y **sin orden**. Por lo tanto son útiles para \n",
        "- Filtrar objetos repetidos de una colección. \n",
        "- Comprobar pertenencia de un objeto en tiempo constante. \n",
        "- Verificar si una colección de objetos contiene a otra. \n",
        "La estructura de conjunto utiliza el método `__hash__` que incoporan los objetos hasheables para guardarlos. Es parecido a los diccionarios pero sin utilizar una clave, por lo tanto **no podemos guardar objetos mutables en un conjunto**. \n",
        "\n",
        "Para crear un conjunto utilizamos corchetes `{}` o la función `set`, a la que podemos pasar cualquier iterable. "
      ]
    },
    {
      "cell_type": "code",
      "execution_count": null,
      "metadata": {
        "colab": {
          "base_uri": "https://localhost:8080/"
        },
        "id": "QZqGYV5I0_vF",
        "outputId": "04fedb0f-6a47-4efa-ae40-909f1cb43ad9"
      },
      "outputs": [
        {
          "data": {
            "text/plain": [
              "{(1, 2, 3), 1, 3.4, False, 'apple'}"
            ]
          },
          "execution_count": 7,
          "metadata": {},
          "output_type": "execute_result"
        }
      ],
      "source": [
        "my_set = {1, 3.4, \"apple\", False, (1, 2, 3)}\n",
        "my_set"
      ]
    },
    {
      "cell_type": "code",
      "execution_count": null,
      "metadata": {
        "colab": {
          "base_uri": "https://localhost:8080/",
          "height": 171
        },
        "id": "ItsLR3_01J9-",
        "outputId": "4e6d5e44-f9de-437a-f3bd-a6d8f1e39eef"
      },
      "outputs": [
        {
          "ename": "TypeError",
          "evalue": "ignored",
          "output_type": "error",
          "traceback": [
            "\u001b[0;31m---------------------------------------------------------------------------\u001b[0m",
            "\u001b[0;31mTypeError\u001b[0m                                 Traceback (most recent call last)",
            "\u001b[0;32m<ipython-input-2-4fd79aa68f5c>\u001b[0m in \u001b[0;36m<module>\u001b[0;34m\u001b[0m\n\u001b[0;32m----> 1\u001b[0;31m \u001b[0;34m{\u001b[0m\u001b[0;34m\"foo\"\u001b[0m\u001b[0;34m,\u001b[0m \u001b[0;34m\"bar\"\u001b[0m\u001b[0;34m,\u001b[0m \u001b[0;34m[\u001b[0m\u001b[0;34m\"baz\"\u001b[0m\u001b[0;34m]\u001b[0m\u001b[0;34m}\u001b[0m\u001b[0;34m\u001b[0m\u001b[0;34m\u001b[0m\u001b[0m\n\u001b[0m",
            "\u001b[0;31mTypeError\u001b[0m: unhashable type: 'list'"
          ]
        }
      ],
      "source": [
        "{\"foo\", \"bar\", [\"baz\"]}"
      ]
    },
    {
      "cell_type": "markdown",
      "metadata": {
        "id": "rI3pElj41hWF"
      },
      "source": [
        "Al igual que los diccionarios, los conjuntos son objetos **iterables que no son secuencias**. A continuación mostramos las operaciones más usuales entre conjuntos"
      ]
    },
    {
      "cell_type": "code",
      "execution_count": null,
      "metadata": {
        "id": "tf8mMa1S3CKi"
      },
      "outputs": [],
      "source": [
        "x = {\"a\", \"b\", \"c\", \"d\"}\n",
        "y = {\"a\", \"b\", \"e\"}\n",
        "\n",
        "# unión\n",
        "x | y  # o x.union(y)\n",
        "# {'a', 'b', 'c', 'd', 'e'}\n",
        "\n",
        "# intersección\n",
        "x & y  # o x.intersection(y)\n",
        "# {'a', 'b'}\n",
        "\n",
        "# diferencia\n",
        "x - y  # o x.difference(y)\n",
        "# {'c', 'd'}\n",
        "\n",
        "# diferencia simétrica\n",
        "x ^ y  # o x.symmetric_difference(y)\n",
        "# {'c', 'd', 'e'}\n",
        "\n",
        "# verifica subconjunto\n",
        "{1, 2, 3, 4} >= {1, 2}\n",
        "# True\n",
        "\n",
        "# verifica igualdad \n",
        "{1, 2, 3, 4} == {1, 2}\n",
        "# False"
      ]
    },
    {
      "cell_type": "markdown",
      "metadata": {
        "id": "E7lIWc4T3t__"
      },
      "source": [
        "Los conjuntos con objetos **mutables**, podemos modificarlos con los métodos `add` (añade un elemento), `update` (añade varios elementos mediante un iterable) o `remove`. Existe una versión **inmutable** de los conjuntos, llamada `fronzenset`. "
      ]
    },
    {
      "cell_type": "markdown",
      "metadata": {
        "id": "JyTet8ls4Gik"
      },
      "source": [
        ":::{exercise}\n",
        ":label: other-data-structures-sets\n",
        "\n",
        "Considera las siguientes listas de nombres: \n",
        "\n",
        "```\n",
        "A = [\"Bohr\", \"Curie\", \"David\", \"Euler\", \"Fermi\", \"Feynman\", \"Gauss\", \"Heisenberg\", \"Noether\", \"Gauss\"]\n",
        "```\n",
        "\n",
        "```\n",
        "B = [\"Bohm\", \"Bohr\", \"Einstein\", \"Fermi\", \"Gauss\", \"Hopper\", \"Montalcini\", \"Fermi\", \"Einsteins\"]\n",
        "```\n",
        "\n",
        "Escribe expresiones que devuelvan:\n",
        "1. Número total de nombres únicos. \n",
        "2. Nombres de A que no están en B. \n",
        "3. Número de nombres de A que no están en B o nombres de B que no están en A\n",
        "\n",
        "\n",
        ":::"
      ]
    },
    {
      "cell_type": "markdown",
      "metadata": {
        "id": "td1JEwtU5Mle"
      },
      "source": [
        "Existen otras muchas estructuras de datos altamente optimizadas para tareas concretas en el módulo [`collections`](https://docs.python.org/3/library/collections.html)"
      ]
    },
    {
      "cell_type": "markdown",
      "metadata": {
        "id": "m6Y293e3_5FC"
      },
      "source": [
        "---\n",
        "## Generadores"
      ]
    },
    {
      "cell_type": "markdown",
      "metadata": {
        "id": "YoEG8n_mBnlZ"
      },
      "source": [
        "Los **generadores** nos permiten generar en forma de promesa un número arbitrario de items sin necesidad de guardarlos en memoria. Se trata de un objeto iterable, pero que genera cada uno de sus miembros en orden cuando las iteraciones lo vayan requiriendo. Ya hemos visto un ejemplo de generador cuando hemos utilizado la función `range`. Es bastante común contruir listas, tuplas o conjuntos a partir de un generador. \n",
        "\n",
        "La sintaxis para crear un generador es la siguiente\n",
        "\n",
        "```\n",
        "(<expression> for <var> in <iterable> if <condition>)\n",
        "```\n"
      ]
    },
    {
      "cell_type": "markdown",
      "metadata": {
        "id": "Xv3IsPUYAV0h"
      },
      "source": [
        "Por ejemplo, "
      ]
    },
    {
      "cell_type": "code",
      "execution_count": null,
      "metadata": {
        "id": "AFRGhy3LCeQd"
      },
      "outputs": [],
      "source": [
        "even_gen = (i for i in range(100) if i%2 == 0)"
      ]
    },
    {
      "cell_type": "markdown",
      "metadata": {
        "id": "Z7FBnQyNDo05"
      },
      "source": [
        ":::{exercise}\n",
        ":label: other-data-structures-generators\n",
        "\n",
        "Estudia cómo evoluciona el tamaño en memoria de un generador un función de su tamaño. \n",
        "\n",
        ":::"
      ]
    },
    {
      "cell_type": "markdown",
      "metadata": {
        "id": "eHOzziEBD4uc"
      },
      "source": [
        "Podemos aplicar métodos propios de un objeto iterable como `all` o `sum` a un generador. También son bastante útiles a la hora de definir listas, diccionarios o conjuntos mediante las denominadas **expresiones de comprensión**"
      ]
    },
    {
      "cell_type": "code",
      "execution_count": null,
      "metadata": {
        "id": "dsl0RXPlEcL1"
      },
      "outputs": [],
      "source": [
        "# crea una lista\n",
        "my_list = [i for i in range(100) if i%2 == 0]\n",
        "\n",
        "# crea una tupla\n",
        "my_tuple = tuple(i for i in range(100) if i%2==0)\n",
        "\n",
        "# crea un conjunto\n",
        "my_set = {i for i in range(100) if i%2 == 0}"
      ]
    },
    {
      "cell_type": "markdown",
      "metadata": {
        "id": "aM7DO1J8E8SB"
      },
      "source": [
        "En los tres casos, lo que hace python es crear un generador y a partir del mismo llamar a las funciones `list`, `tuple` y `set`. En caso de los diccionarios, también existe una sintaxis similar"
      ]
    },
    {
      "cell_type": "code",
      "execution_count": null,
      "metadata": {
        "id": "IakasQ2YGCPV"
      },
      "outputs": [],
      "source": [
        "# crea un diccionario \n",
        "keys = [\"key1\", \"key2\", \"key3\"]\n",
        "values = [\"value1\", \"value2\", \"value3\"]\n",
        "my_dict = {key:value for key, value in zip(keys, values)}"
      ]
    },
    {
      "cell_type": "markdown",
      "metadata": {
        "id": "1x4JLkW2GEzb"
      },
      "source": [
        "La función `zip` crea un iterable de tuplas de longitud 2 con los items del primer y segundo argumento, respectivamete. \n",
        "\n",
        "Para iterar sobre los elementos de un generador, podemos utilizar la función `next`"
      ]
    },
    {
      "cell_type": "code",
      "execution_count": null,
      "metadata": {
        "colab": {
          "base_uri": "https://localhost:8080/"
        },
        "id": "HowiG88LHkUU",
        "outputId": "fcf520be-90ca-44bf-f3eb-5d8ec1590b07"
      },
      "outputs": [
        {
          "data": {
            "text/plain": [
              "0"
            ]
          },
          "execution_count": 49,
          "metadata": {},
          "output_type": "execute_result"
        }
      ],
      "source": [
        "next(even_gen)"
      ]
    },
    {
      "cell_type": "code",
      "execution_count": null,
      "metadata": {
        "colab": {
          "base_uri": "https://localhost:8080/"
        },
        "id": "XL-uOG5HHnLD",
        "outputId": "3cf680ea-8039-42ca-9eec-277d90f5475e"
      },
      "outputs": [
        {
          "data": {
            "text/plain": [
              "2"
            ]
          },
          "execution_count": 50,
          "metadata": {},
          "output_type": "execute_result"
        }
      ],
      "source": [
        "next(even_gen)"
      ]
    },
    {
      "cell_type": "markdown",
      "metadata": {
        "id": "DfjlUiVTHonl"
      },
      "source": [
        "Cuando un objeto además de ser un iterable tiene la capacidad de almacenar el estado de su iteración, se dice que es un **iterador**. "
      ]
    },
    {
      "cell_type": "markdown",
      "metadata": {
        "id": "I8oB9sYeGY4G"
      },
      "source": [
        ":::{exercise}\n",
        ":label: other-data-structures-generators-2\n",
        "\n",
        "Considera las siguientes expresiones\n",
        "\n",
        "```\n",
        "sum(1/n for n in range(1, 101))\n",
        "```\n",
        "\n",
        "```\n",
        "sum([1/n for n in range(1, 101)])\n",
        "```\n",
        "\n",
        "¿Cuál es más eficiente? ¿Por qué?\n",
        "\n",
        ":::"
      ]
    },
    {
      "cell_type": "markdown",
      "metadata": {
        "id": "UYD6kWkQTZ05"
      },
      "source": [
        "---\n",
        "## Comparación complejidad computacional \n",
        "\n",
        "Vamos a comparar las diferentes estructuras de datos que hemos visto en cuanto a su tiempo de cómputo para diferentes tareas. No te preocupes ahora mismo por el código utilizado para hacer estas pruebas y pintar las gráficas."
      ]
    },
    {
      "cell_type": "markdown",
      "metadata": {
        "id": "Z3bfeRslp-sv"
      },
      "source": [
        "### Pertenencia\n"
      ]
    },
    {
      "cell_type": "code",
      "execution_count": 4,
      "metadata": {
        "id": "S1fzDaVrpONS"
      },
      "outputs": [],
      "source": [
        "%config InlineBackend.figure_format='retina'"
      ]
    },
    {
      "cell_type": "code",
      "execution_count": 5,
      "metadata": {
        "colab": {
          "base_uri": "https://localhost:8080/",
          "height": 296
        },
        "id": "UB-dtNKwppRl",
        "outputId": "9ef2e4dc-ffc0-4fba-e764-c76ab01f84cc"
      },
      "outputs": [
        {
          "data": {
            "image/png": "[encoded data removed]",
            "text/plain": [
              "<Figure size 432x288 with 1 Axes>"
            ]
          },
          "metadata": {
            "image/png": {
              "height": 279,
              "width": 393
            },
            "needs_background": "light"
          },
          "output_type": "display_data"
        }
      ],
      "source": [
        "import time\n",
        "import numpy as np\n",
        "import matplotlib.pyplot as plt\n",
        "\n",
        "\n",
        "def get_membership_time_from_range(i):\n",
        "    iterable = range(i)\n",
        "    execution_time = get_membership_time_from_iterable(i - 1, iterable)\n",
        "    return execution_time\n",
        "\n",
        "def get_membership_time_from_list(i):\n",
        "    iterable = list(range(i))\n",
        "    execution_time = get_membership_time_from_iterable(i - 1, iterable)\n",
        "    return execution_time\n",
        "\n",
        "def get_membership_time_from_set(i):\n",
        "    iterable = set(range(i))\n",
        "    execution_time = get_membership_time_from_iterable(i - 1, iterable)\n",
        "    return execution_time\n",
        "\n",
        "def get_membership_time_from_tuple(i):\n",
        "    iterable = tuple(range(i))\n",
        "    execution_time = get_membership_time_from_iterable(i - 1, iterable)\n",
        "    return execution_time\n",
        "\n",
        "def get_membership_time_from_iterable(i, iterable, repeat=10):\n",
        "    execution_times = []\n",
        "    for _ in range(repeat):\n",
        "        start = time.time()\n",
        "        i in iterable\n",
        "        end = time.time()\n",
        "        execution_time = end - start\n",
        "        execution_times.append(execution_time)\n",
        "    mean_execution_time = np.mean(execution_times)\n",
        "    return mean_execution_time\n",
        "\n",
        "n = [10**i for i in range(8)]\n",
        "t_range = [get_membership_time_from_range(i) for i in n]\n",
        "t_list = [get_membership_time_from_list(i) for i in n]\n",
        "t_set = [get_membership_time_from_set(i) for i in n]\n",
        "t_tuple = [get_membership_time_from_tuple(i) for i in n]\n",
        "\n",
        "fig, ax = plt.subplots()\n",
        "ax.plot(n, t_list, \"o-\", label=\"list\")\n",
        "ax.plot(n, t_range, \"o-\", label=\"range\")\n",
        "ax.plot(n, t_set, \"o-\", label=\"set\")\n",
        "ax.plot(n, t_tuple, \"o-\", label=\"tuple\")\n",
        "ax.set_xscale(\"log\")\n",
        "ax.set_yscale(\"log\")\n",
        "ax.set_xlabel(\"tamaño iterable\")\n",
        "ax.set_ylabel(\"tiempo (s)\")\n",
        "ax.set_title(\"Tiempo de cómputo en verificar pertenencia\")\n",
        "ax.grid(True)\n",
        "ax.legend()\n",
        "fig.show()"
      ]
    },
    {
      "cell_type": "markdown",
      "metadata": {
        "id": "JtvMKh7a6IRe"
      },
      "source": [
        "## Borra un elemento"
      ]
    },
    {
      "cell_type": "code",
      "execution_count": 6,
      "metadata": {
        "colab": {
          "base_uri": "https://localhost:8080/",
          "height": 316
        },
        "id": "H5pLm549pq70",
        "outputId": "f93a67d6-64b2-47f2-a89f-d5147bd867a8"
      },
      "outputs": [
        {
          "data": {
            "image/png": "[encoded data removed]",
            "text/plain": [
              "<Figure size 432x288 with 1 Axes>"
            ]
          },
          "metadata": {
            "image/png": {
              "height": 279,
              "width": 393
            },
            "needs_background": "light"
          },
          "output_type": "display_data"
        }
      ],
      "source": [
        "repeat = 10\n",
        "\n",
        "def get_deletion_time_from_list(i):\n",
        "    iterable = list(range(i))\n",
        "    execution_times = []\n",
        "    for _ in range(repeat):\n",
        "        start = time.time()\n",
        "        iterable.remove(i - 1)\n",
        "        end = time.time()\n",
        "        execution_time = end - start\n",
        "        iterable.append(i - 1)\n",
        "        execution_times.append(execution_time)\n",
        "    mean_execution_time = np.mean(execution_times)\n",
        "    return mean_execution_time\n",
        "\n",
        "def get_deletion_time_from_set(i):\n",
        "    iterable = set(range(i))\n",
        "    execution_times = []\n",
        "    for _ in range(repeat):\n",
        "        start = time.time()\n",
        "        iterable.remove(i - 1)\n",
        "        end = time.time()\n",
        "        execution_time = end - start\n",
        "        iterable.add(i - 1)\n",
        "        execution_times.append(execution_time)\n",
        "    mean_execution_time = np.mean(execution_times)\n",
        "    return mean_execution_time\n",
        "\n",
        "n = [10**i for i in range(1, 8)]\n",
        "t_list = [get_deletion_time_from_list(i) for i in n]\n",
        "t_set = [get_deletion_time_from_set(i) for i in n]\n",
        "\n",
        "fig, ax = plt.subplots()\n",
        "ax.plot(n, t_list, \"o-\", label=\"list\")\n",
        "ax.plot(n, t_set, \"o-\", label=\"set\")\n",
        "ax.set_xscale(\"log\")\n",
        "ax.set_yscale(\"log\")\n",
        "ax.set_xlabel(\"tamaño iterable\")\n",
        "ax.set_ylabel(\"tiempo (s)\")\n",
        "ax.set_title(\"Tiempo de cómputo en borrar elemento\")\n",
        "ax.grid(True)\n",
        "ax.legend()\n",
        "fig.show()"
      ]
    },
    {
      "cell_type": "code",
      "execution_count": 7,
      "metadata": {
        "colab": {
          "base_uri": "https://localhost:8080/",
          "height": 316
        },
        "id": "2Cgvuq356elZ",
        "outputId": "1746b8f4-1062-4133-c7ae-89858835cad8"
      },
      "outputs": [
        {
          "data": {
            "image/png": "[encoded data removed]",
            "text/plain": [
              "<Figure size 432x288 with 1 Axes>"
            ]
          },
          "metadata": {
            "image/png": {
              "height": 279,
              "width": 393
            },
            "needs_background": "light"
          },
          "output_type": "display_data"
        }
      ],
      "source": [
        "def get_len_time_from_range(i):\n",
        "    iterable = range(i)\n",
        "    execution_time = get_len_time_from_iterable(iterable)\n",
        "    return execution_time\n",
        "\n",
        "def get_len_time_from_list(i):\n",
        "    iterable = list(range(i))\n",
        "    execution_time = get_len_time_from_iterable(iterable)\n",
        "    return execution_time\n",
        "\n",
        "def get_len_time_from_set(i):\n",
        "    iterable = set(range(i))\n",
        "    execution_time = get_len_time_from_iterable(iterable)\n",
        "    return execution_time\n",
        "\n",
        "def get_len_time_from_tuple(i):\n",
        "    iterable = tuple(range(i))\n",
        "    execution_time = get_len_time_from_iterable(iterable)\n",
        "    return execution_time\n",
        "\n",
        "def get_len_time_from_iterable(iterable, repeat=50):\n",
        "    execution_times = []\n",
        "    for _ in range(repeat):\n",
        "        start = time.time()\n",
        "        len(iterable)\n",
        "        end = time.time()\n",
        "        execution_time = end - start\n",
        "        execution_times.append(execution_time)\n",
        "    mean_execution_time = np.mean(execution_times)\n",
        "    return mean_execution_time\n",
        "\n",
        "n = [10**i for i in range(8)]\n",
        "t_range = [get_len_time_from_range(i) for i in n]\n",
        "t_list = [get_len_time_from_list(i) for i in n]\n",
        "t_set = [get_len_time_from_set(i) for i in n]\n",
        "t_tuple = [get_len_time_from_tuple(i) for i in n]\n",
        "\n",
        "fig, ax = plt.subplots()\n",
        "ax.plot(n, t_list, \"o-\", label=\"list\")\n",
        "ax.plot(n, t_range, \"o-\", label=\"range\")\n",
        "ax.plot(n, t_set, \"o-\", label=\"set\")\n",
        "ax.plot(n, t_tuple, \"o-\", label=\"tuple\")\n",
        "ax.set_xscale(\"log\")\n",
        "ax.set_yscale(\"log\")\n",
        "ax.set_xlabel(\"tamaño iterable\")\n",
        "ax.set_ylabel(\"tiempo (s)\")\n",
        "ax.set_title(\"Tiempo de cómputo longitud\")\n",
        "ax.grid(True)\n",
        "ax.legend()\n",
        "fig.show()"
      ]
    }
  ],
  "metadata": {
    "colab": {
      "provenance": [],
      "toc_visible": true
    },
    "kernelspec": {
      "display_name": "Python 3.9.1 64-bit",
      "language": "python",
      "name": "python3"
    },
    "language_info": {
      "codemirror_mode": {
        "name": "ipython",
        "version": 3
      },
      "file_extension": ".py",
      "mimetype": "text/x-python",
      "name": "python",
      "nbconvert_exporter": "python",
      "pygments_lexer": "ipython3",
      "version": "3.9.1 (v3.9.1:1e5d33e9b9, Dec  7 2020, 12:10:52) \n[Clang 6.0 (clang-600.0.57)]"
    },
    "orig_nbformat": 4,
    "vscode": {
      "interpreter": {
        "hash": "397704579725e15f5c7cb49fe5f0341eb7531c82d19f2c29d197e8b64ab5776b"
      }
    }
  },
  "nbformat": 4,
  "nbformat_minor": 0
}
