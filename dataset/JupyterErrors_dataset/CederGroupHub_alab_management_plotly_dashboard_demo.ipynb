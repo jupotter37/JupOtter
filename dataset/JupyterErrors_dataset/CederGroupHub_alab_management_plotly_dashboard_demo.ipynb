{
 "cells": [
  {
   "cell_type": "code",
   "execution_count": 1,
   "metadata": {},
   "outputs": [],
   "source": [
    "from alab_management.experiment_view import ExperimentView, CompletedExperimentView\n",
    "from alab_management.sample_view import SampleView, CompletedSampleView\n",
    "from alab_management.task_view import TaskView, CompletedTaskView\n",
    "from alab_management.device_view import DeviceView"
   ]
  },
  {
   "cell_type": "code",
   "execution_count": 2,
   "metadata": {},
   "outputs": [],
   "source": [
    "import matplotlib.pyplot as plt\n",
    "import seaborn as sns\n",
    "import pandas as pd"
   ]
  },
  {
   "attachments": {},
   "cell_type": "markdown",
   "metadata": {},
   "source": [
    "# Samples"
   ]
  },
  {
   "cell_type": "code",
   "execution_count": 3,
   "metadata": {},
   "outputs": [],
   "source": [
    "sv = SampleView()\n",
    "svc = CompletedSampleView()\n",
    "all_samples = list(sv._sample_collection.find({}))\n",
    "\n",
    "sdf = pd.DataFrame(all_samples)\n",
    "csdf = pd.DataFrame(list(svc._completed_sample_collection.find({})))"
   ]
  },
  {
   "cell_type": "code",
   "execution_count": 63,
   "metadata": {},
   "outputs": [
    {
     "data": {
      "text/plain": [
       "Index(['_id', 'name', 'tags', 'metadata', 'position', 'task_id', 'created_at',\n",
       "       'last_updated'],\n",
       "      dtype='object')"
      ]
     },
     "execution_count": 63,
     "metadata": {},
     "output_type": "execute_result"
    }
   ],
   "source": []
  },
  {
   "cell_type": "code",
   "execution_count": 9,
   "metadata": {},
   "outputs": [
    {
     "data": {
      "text/html": [
       "<div>\n",
       "<style scoped>\n",
       "    .dataframe tbody tr th:only-of-type {\n",
       "        vertical-align: middle;\n",
       "    }\n",
       "\n",
       "    .dataframe tbody tr th {\n",
       "        vertical-align: top;\n",
       "    }\n",
       "\n",
       "    .dataframe thead th {\n",
       "        text-align: right;\n",
       "    }\n",
       "</style>\n",
       "<table border=\"1\" class=\"dataframe\">\n",
       "  <thead>\n",
       "    <tr style=\"text-align: right;\">\n",
       "      <th></th>\n",
       "      <th>index</th>\n",
       "      <th>_id</th>\n",
       "      <th>name</th>\n",
       "      <th>tags</th>\n",
       "      <th>metadata</th>\n",
       "      <th>position</th>\n",
       "      <th>task_id</th>\n",
       "      <th>created_at</th>\n",
       "      <th>last_updated</th>\n",
       "      <th>target</th>\n",
       "    </tr>\n",
       "  </thead>\n",
       "  <tbody>\n",
       "    <tr>\n",
       "      <th>0</th>\n",
       "      <td>0</td>\n",
       "      <td>64ae595c2c76549338f2bee6</td>\n",
       "      <td>Na4p95Zr0p5Ge1p5(PO4)1p5(SiO4)1p5_1000_240_NSC56</td>\n",
       "      <td>[]</td>\n",
       "      <td>{'target': 'Na4.95Zr0.5Ge1.5(PO4)1.5(SiO4)1.5'...</td>\n",
       "      <td>box_a/slot/1</td>\n",
       "      <td>64ae595c2c76549338f2bee2</td>\n",
       "      <td>2023-07-12 00:43:33.963</td>\n",
       "      <td>2023-07-12 15:59:47.899</td>\n",
       "      <td>NaN</td>\n",
       "    </tr>\n",
       "    <tr>\n",
       "      <th>1</th>\n",
       "      <td>1</td>\n",
       "      <td>64ae595c2c76549338f2beda</td>\n",
       "      <td>Na4p95Zr0p25Ge1p75(PO4)1p5(SiO4)1p5_1000_240_N...</td>\n",
       "      <td>[]</td>\n",
       "      <td>{'target': 'Na4.95Zr0.25Ge1.75(PO4)1.5(SiO4)1....</td>\n",
       "      <td>box_a/slot/2</td>\n",
       "      <td>64ae595c2c76549338f2bee2</td>\n",
       "      <td>2023-07-12 00:43:33.990</td>\n",
       "      <td>2023-07-12 16:02:13.142</td>\n",
       "      <td>NaN</td>\n",
       "    </tr>\n",
       "    <tr>\n",
       "      <th>2</th>\n",
       "      <td>2</td>\n",
       "      <td>64ae595c2c76549338f2bece</td>\n",
       "      <td>Na4p95Zr1p5Ge0p5(PO4)1p5(SiO4)1p5_1000_240_NSC52</td>\n",
       "      <td>[]</td>\n",
       "      <td>{'target': 'Na4.95Zr1.5Ge0.5(PO4)1.5(SiO4)1.5'...</td>\n",
       "      <td>box_a/slot/3</td>\n",
       "      <td>64ae595c2c76549338f2bee2</td>\n",
       "      <td>2023-07-12 00:43:33.992</td>\n",
       "      <td>2023-07-12 16:04:49.616</td>\n",
       "      <td>NaN</td>\n",
       "    </tr>\n",
       "    <tr>\n",
       "      <th>3</th>\n",
       "      <td>3</td>\n",
       "      <td>64ae595c2c76549338f2bec2</td>\n",
       "      <td>Na4p95Zr1p75Ge0p25(PO4)1p5(SiO4)1p5_1000_240_N...</td>\n",
       "      <td>[]</td>\n",
       "      <td>{'target': 'Na4.95Zr1.75Ge0.25(PO4)1.5(SiO4)1....</td>\n",
       "      <td>box_a/slot/4</td>\n",
       "      <td>64ae595c2c76549338f2bee2</td>\n",
       "      <td>2023-07-12 00:43:33.994</td>\n",
       "      <td>2023-07-12 16:07:22.430</td>\n",
       "      <td>NaN</td>\n",
       "    </tr>\n",
       "    <tr>\n",
       "      <th>4</th>\n",
       "      <td>4</td>\n",
       "      <td>64ae595c2c76549338f2bee0</td>\n",
       "      <td>Na4p125Zr0p5Ge1p5(PO4)2p25(SiO4)0p75_1000_240_...</td>\n",
       "      <td>[]</td>\n",
       "      <td>{'target': 'Na4.125Zr0.5Ge1.5(PO4)2.25(SiO4)0....</td>\n",
       "      <td>box_a/slot/5</td>\n",
       "      <td>64ae595c2c76549338f2bee2</td>\n",
       "      <td>2023-07-12 00:43:33.995</td>\n",
       "      <td>2023-07-12 16:09:56.542</td>\n",
       "      <td>NaN</td>\n",
       "    </tr>\n",
       "    <tr>\n",
       "      <th>...</th>\n",
       "      <td>...</td>\n",
       "      <td>...</td>\n",
       "      <td>...</td>\n",
       "      <td>...</td>\n",
       "      <td>...</td>\n",
       "      <td>...</td>\n",
       "      <td>...</td>\n",
       "      <td>...</td>\n",
       "      <td>...</td>\n",
       "      <td>...</td>\n",
       "    </tr>\n",
       "    <tr>\n",
       "      <th>384</th>\n",
       "      <td>356</td>\n",
       "      <td>64a79a99c1489dd89f29341e</td>\n",
       "      <td>25_C12Na12O30_700</td>\n",
       "      <td>[]</td>\n",
       "      <td>{'target': '25', 'description': 'Continued aft...</td>\n",
       "      <td>None</td>\n",
       "      <td>None</td>\n",
       "      <td>2023-07-06 21:54:54.148</td>\n",
       "      <td>2023-07-07 15:59:18.604</td>\n",
       "      <td>25</td>\n",
       "    </tr>\n",
       "    <tr>\n",
       "      <th>385</th>\n",
       "      <td>357</td>\n",
       "      <td>64a79a99c1489dd89f293422</td>\n",
       "      <td>27_C8In8Na16O56P8_700</td>\n",
       "      <td>[]</td>\n",
       "      <td>{'target': '27', 'description': 'Continued aft...</td>\n",
       "      <td>None</td>\n",
       "      <td>None</td>\n",
       "      <td>2023-07-06 21:54:54.148</td>\n",
       "      <td>2023-07-07 15:59:17.389</td>\n",
       "      <td>27</td>\n",
       "    </tr>\n",
       "    <tr>\n",
       "      <th>386</th>\n",
       "      <td>358</td>\n",
       "      <td>64a79a99c1489dd89f293426</td>\n",
       "      <td>28_C8In8Na16O56P10_700</td>\n",
       "      <td>[]</td>\n",
       "      <td>{'target': '28', 'description': 'Continued aft...</td>\n",
       "      <td>None</td>\n",
       "      <td>None</td>\n",
       "      <td>2023-07-06 21:54:54.149</td>\n",
       "      <td>2023-07-07 15:59:14.357</td>\n",
       "      <td>28</td>\n",
       "    </tr>\n",
       "    <tr>\n",
       "      <th>387</th>\n",
       "      <td>359</td>\n",
       "      <td>64a8a061c1489dd89f293454</td>\n",
       "      <td>17_Bi8Cl48Na24_350</td>\n",
       "      <td>[]</td>\n",
       "      <td>{'target': '17', 'description': 'Continued aft...</td>\n",
       "      <td>None</td>\n",
       "      <td>None</td>\n",
       "      <td>2023-07-07 16:31:49.376</td>\n",
       "      <td>2023-07-07 16:43:16.578</td>\n",
       "      <td>17</td>\n",
       "    </tr>\n",
       "    <tr>\n",
       "      <th>388</th>\n",
       "      <td>360</td>\n",
       "      <td>64a8a061c1489dd89f29344f</td>\n",
       "      <td>21_Na2CaBr4_700</td>\n",
       "      <td>[]</td>\n",
       "      <td>{'target': '21', 'description': 'Continued aft...</td>\n",
       "      <td>None</td>\n",
       "      <td>None</td>\n",
       "      <td>2023-07-07 16:31:49.401</td>\n",
       "      <td>2023-07-07 16:53:56.522</td>\n",
       "      <td>21</td>\n",
       "    </tr>\n",
       "  </tbody>\n",
       "</table>\n",
       "<p>389 rows × 10 columns</p>\n",
       "</div>"
      ],
      "text/plain": [
       "     index                       _id  \\\n",
       "0        0  64ae595c2c76549338f2bee6   \n",
       "1        1  64ae595c2c76549338f2beda   \n",
       "2        2  64ae595c2c76549338f2bece   \n",
       "3        3  64ae595c2c76549338f2bec2   \n",
       "4        4  64ae595c2c76549338f2bee0   \n",
       "..     ...                       ...   \n",
       "384    356  64a79a99c1489dd89f29341e   \n",
       "385    357  64a79a99c1489dd89f293422   \n",
       "386    358  64a79a99c1489dd89f293426   \n",
       "387    359  64a8a061c1489dd89f293454   \n",
       "388    360  64a8a061c1489dd89f29344f   \n",
       "\n",
       "                                                  name tags  \\\n",
       "0     Na4p95Zr0p5Ge1p5(PO4)1p5(SiO4)1p5_1000_240_NSC56   []   \n",
       "1    Na4p95Zr0p25Ge1p75(PO4)1p5(SiO4)1p5_1000_240_N...   []   \n",
       "2     Na4p95Zr1p5Ge0p5(PO4)1p5(SiO4)1p5_1000_240_NSC52   []   \n",
       "3    Na4p95Zr1p75Ge0p25(PO4)1p5(SiO4)1p5_1000_240_N...   []   \n",
       "4    Na4p125Zr0p5Ge1p5(PO4)2p25(SiO4)0p75_1000_240_...   []   \n",
       "..                                                 ...  ...   \n",
       "384                                  25_C12Na12O30_700   []   \n",
       "385                              27_C8In8Na16O56P8_700   []   \n",
       "386                             28_C8In8Na16O56P10_700   []   \n",
       "387                                 17_Bi8Cl48Na24_350   []   \n",
       "388                                    21_Na2CaBr4_700   []   \n",
       "\n",
       "                                              metadata      position  \\\n",
       "0    {'target': 'Na4.95Zr0.5Ge1.5(PO4)1.5(SiO4)1.5'...  box_a/slot/1   \n",
       "1    {'target': 'Na4.95Zr0.25Ge1.75(PO4)1.5(SiO4)1....  box_a/slot/2   \n",
       "2    {'target': 'Na4.95Zr1.5Ge0.5(PO4)1.5(SiO4)1.5'...  box_a/slot/3   \n",
       "3    {'target': 'Na4.95Zr1.75Ge0.25(PO4)1.5(SiO4)1....  box_a/slot/4   \n",
       "4    {'target': 'Na4.125Zr0.5Ge1.5(PO4)2.25(SiO4)0....  box_a/slot/5   \n",
       "..                                                 ...           ...   \n",
       "384  {'target': '25', 'description': 'Continued aft...          None   \n",
       "385  {'target': '27', 'description': 'Continued aft...          None   \n",
       "386  {'target': '28', 'description': 'Continued aft...          None   \n",
       "387  {'target': '17', 'description': 'Continued aft...          None   \n",
       "388  {'target': '21', 'description': 'Continued aft...          None   \n",
       "\n",
       "                      task_id              created_at            last_updated  \\\n",
       "0    64ae595c2c76549338f2bee2 2023-07-12 00:43:33.963 2023-07-12 15:59:47.899   \n",
       "1    64ae595c2c76549338f2bee2 2023-07-12 00:43:33.990 2023-07-12 16:02:13.142   \n",
       "2    64ae595c2c76549338f2bee2 2023-07-12 00:43:33.992 2023-07-12 16:04:49.616   \n",
       "3    64ae595c2c76549338f2bee2 2023-07-12 00:43:33.994 2023-07-12 16:07:22.430   \n",
       "4    64ae595c2c76549338f2bee2 2023-07-12 00:43:33.995 2023-07-12 16:09:56.542   \n",
       "..                        ...                     ...                     ...   \n",
       "384                      None 2023-07-06 21:54:54.148 2023-07-07 15:59:18.604   \n",
       "385                      None 2023-07-06 21:54:54.148 2023-07-07 15:59:17.389   \n",
       "386                      None 2023-07-06 21:54:54.149 2023-07-07 15:59:14.357   \n",
       "387                      None 2023-07-07 16:31:49.376 2023-07-07 16:43:16.578   \n",
       "388                      None 2023-07-07 16:31:49.401 2023-07-07 16:53:56.522   \n",
       "\n",
       "    target  \n",
       "0      NaN  \n",
       "1      NaN  \n",
       "2      NaN  \n",
       "3      NaN  \n",
       "4      NaN  \n",
       "..     ...  \n",
       "384     25  \n",
       "385     27  \n",
       "386     28  \n",
       "387     17  \n",
       "388     21  \n",
       "\n",
       "[389 rows x 10 columns]"
      ]
     },
     "execution_count": 9,
     "metadata": {},
     "output_type": "execute_result"
    }
   ],
   "source": [
    "pd.concat([sdf, csdf]).reset_index()"
   ]
  },
  {
   "cell_type": "code",
   "execution_count": 4,
   "metadata": {},
   "outputs": [
    {
     "data": {
      "text/html": [
       "<div>\n",
       "<style scoped>\n",
       "    .dataframe tbody tr th:only-of-type {\n",
       "        vertical-align: middle;\n",
       "    }\n",
       "\n",
       "    .dataframe tbody tr th {\n",
       "        vertical-align: top;\n",
       "    }\n",
       "\n",
       "    .dataframe thead th {\n",
       "        text-align: right;\n",
       "    }\n",
       "</style>\n",
       "<table border=\"1\" class=\"dataframe\">\n",
       "  <thead>\n",
       "    <tr style=\"text-align: right;\">\n",
       "      <th></th>\n",
       "      <th>_id</th>\n",
       "      <th>name</th>\n",
       "      <th>tags</th>\n",
       "      <th>metadata</th>\n",
       "      <th>position</th>\n",
       "      <th>task_id</th>\n",
       "      <th>created_at</th>\n",
       "      <th>last_updated</th>\n",
       "      <th>target</th>\n",
       "    </tr>\n",
       "  </thead>\n",
       "  <tbody>\n",
       "    <tr>\n",
       "      <th>0</th>\n",
       "      <td>647a470e507615c4c989e9b9</td>\n",
       "      <td>Li1p2000Mn0p40Ti0p40O2p00F0p0000_1100_20_Li2CO...</td>\n",
       "      <td>[]</td>\n",
       "      <td>{'target': 'Li1.2000Mn0.40Ti0.40O2.00F0.0000',...</td>\n",
       "      <td>None</td>\n",
       "      <td>647a4710507615c4c989e9e5</td>\n",
       "      <td>2023-06-02 12:46:31.836</td>\n",
       "      <td>2023-06-02 12:46:41.568</td>\n",
       "      <td>Li1.2000Mn0.40Ti0.40O2.00F0.0000</td>\n",
       "    </tr>\n",
       "    <tr>\n",
       "      <th>1</th>\n",
       "      <td>647a470f507615c4c989e9d2</td>\n",
       "      <td>Li1p2000Mn0p40Ti0p40O2p00F0p0000_1100_20_Li2CO...</td>\n",
       "      <td>[]</td>\n",
       "      <td>{'target': 'Li1.2000Mn0.40Ti0.40O2.00F0.0000',...</td>\n",
       "      <td>None</td>\n",
       "      <td>647a4710507615c4c989e9e5</td>\n",
       "      <td>2023-06-02 12:46:31.837</td>\n",
       "      <td>2023-06-02 12:46:41.571</td>\n",
       "      <td>Li1.2000Mn0.40Ti0.40O2.00F0.0000</td>\n",
       "    </tr>\n",
       "    <tr>\n",
       "      <th>2</th>\n",
       "      <td>647a470e507615c4c989e9c0</td>\n",
       "      <td>Li1p2500Mn0p40Ti0p40O2p00F0p0500_1100_20_Li2CO...</td>\n",
       "      <td>[]</td>\n",
       "      <td>{'target': 'Li1.2500Mn0.40Ti0.40O2.00F0.0500',...</td>\n",
       "      <td>None</td>\n",
       "      <td>647a4710507615c4c989e9e5</td>\n",
       "      <td>2023-06-02 12:46:31.838</td>\n",
       "      <td>2023-06-02 12:46:41.575</td>\n",
       "      <td>Li1.2500Mn0.40Ti0.40O2.00F0.0500</td>\n",
       "    </tr>\n",
       "    <tr>\n",
       "      <th>3</th>\n",
       "      <td>647a4710507615c4c989e9d8</td>\n",
       "      <td>Li1p2500Mn0p40Ti0p40O2p00F0p0500_1100_20_Li2CO...</td>\n",
       "      <td>[]</td>\n",
       "      <td>{'target': 'Li1.2500Mn0.40Ti0.40O2.00F0.0500',...</td>\n",
       "      <td>None</td>\n",
       "      <td>647a4710507615c4c989e9e5</td>\n",
       "      <td>2023-06-02 12:46:31.839</td>\n",
       "      <td>2023-06-02 12:46:41.578</td>\n",
       "      <td>Li1.2500Mn0.40Ti0.40O2.00F0.0500</td>\n",
       "    </tr>\n",
       "    <tr>\n",
       "      <th>4</th>\n",
       "      <td>647a470f507615c4c989e9c6</td>\n",
       "      <td>Li1p3000Mn0p40Ti0p40O2p00F0p1000_1100_20_Li2CO...</td>\n",
       "      <td>[]</td>\n",
       "      <td>{'target': 'Li1.3000Mn0.40Ti0.40O2.00F0.1000',...</td>\n",
       "      <td>None</td>\n",
       "      <td>647a4710507615c4c989e9e5</td>\n",
       "      <td>2023-06-02 12:46:31.841</td>\n",
       "      <td>2023-06-02 12:46:41.580</td>\n",
       "      <td>Li1.3000Mn0.40Ti0.40O2.00F0.1000</td>\n",
       "    </tr>\n",
       "  </tbody>\n",
       "</table>\n",
       "</div>"
      ],
      "text/plain": [
       "                        _id  \\\n",
       "0  647a470e507615c4c989e9b9   \n",
       "1  647a470f507615c4c989e9d2   \n",
       "2  647a470e507615c4c989e9c0   \n",
       "3  647a4710507615c4c989e9d8   \n",
       "4  647a470f507615c4c989e9c6   \n",
       "\n",
       "                                                name tags  \\\n",
       "0  Li1p2000Mn0p40Ti0p40O2p00F0p0000_1100_20_Li2CO...   []   \n",
       "1  Li1p2000Mn0p40Ti0p40O2p00F0p0000_1100_20_Li2CO...   []   \n",
       "2  Li1p2500Mn0p40Ti0p40O2p00F0p0500_1100_20_Li2CO...   []   \n",
       "3  Li1p2500Mn0p40Ti0p40O2p00F0p0500_1100_20_Li2CO...   []   \n",
       "4  Li1p3000Mn0p40Ti0p40O2p00F0p1000_1100_20_Li2CO...   []   \n",
       "\n",
       "                                            metadata position  \\\n",
       "0  {'target': 'Li1.2000Mn0.40Ti0.40O2.00F0.0000',...     None   \n",
       "1  {'target': 'Li1.2000Mn0.40Ti0.40O2.00F0.0000',...     None   \n",
       "2  {'target': 'Li1.2500Mn0.40Ti0.40O2.00F0.0500',...     None   \n",
       "3  {'target': 'Li1.2500Mn0.40Ti0.40O2.00F0.0500',...     None   \n",
       "4  {'target': 'Li1.3000Mn0.40Ti0.40O2.00F0.1000',...     None   \n",
       "\n",
       "                    task_id              created_at            last_updated  \\\n",
       "0  647a4710507615c4c989e9e5 2023-06-02 12:46:31.836 2023-06-02 12:46:41.568   \n",
       "1  647a4710507615c4c989e9e5 2023-06-02 12:46:31.837 2023-06-02 12:46:41.571   \n",
       "2  647a4710507615c4c989e9e5 2023-06-02 12:46:31.838 2023-06-02 12:46:41.575   \n",
       "3  647a4710507615c4c989e9e5 2023-06-02 12:46:31.839 2023-06-02 12:46:41.578   \n",
       "4  647a4710507615c4c989e9e5 2023-06-02 12:46:31.841 2023-06-02 12:46:41.580   \n",
       "\n",
       "                             target  \n",
       "0  Li1.2000Mn0.40Ti0.40O2.00F0.0000  \n",
       "1  Li1.2000Mn0.40Ti0.40O2.00F0.0000  \n",
       "2  Li1.2500Mn0.40Ti0.40O2.00F0.0500  \n",
       "3  Li1.2500Mn0.40Ti0.40O2.00F0.0500  \n",
       "4  Li1.3000Mn0.40Ti0.40O2.00F0.1000  "
      ]
     },
     "execution_count": 4,
     "metadata": {},
     "output_type": "execute_result"
    }
   ],
   "source": [
    "csdf[\"target\"] = csdf[\"metadata\"].apply(lambda x: x.get(\"target\", \"N/A\"))\n",
    "csdf.head()"
   ]
  },
  {
   "cell_type": "code",
   "execution_count": 6,
   "metadata": {},
   "outputs": [
    {
     "data": {
      "text/plain": [
       "<AxesSubplot:xlabel='last_updated', ylabel='Count'>"
      ]
     },
     "execution_count": 6,
     "metadata": {},
     "output_type": "execute_result"
    },
    {
     "data": {
      "image/png": "[encoded data removed]",
      "text/plain": [
       "<Figure size 432x288 with 1 Axes>"
      ]
     },
     "metadata": {
      "needs_background": "light"
     },
     "output_type": "display_data"
    }
   ],
   "source": [
    "sns.histplot(data=csdf, x=\"last_updated\")"
   ]
  },
  {
   "attachments": {},
   "cell_type": "markdown",
   "metadata": {},
   "source": [
    "# Tasks"
   ]
  },
  {
   "cell_type": "code",
   "execution_count": 38,
   "metadata": {},
   "outputs": [],
   "source": [
    "tv = TaskView()\n",
    "tvc = CompletedTaskView()\n",
    "\n",
    "all_tasks = list(tv._task_collection.find({}))\n",
    "tdf = pd.DataFrame(all_tasks)\n",
    "ctdf = pd.DataFrame(list(tvc._completed_task_collection.find({})))\n",
    "\n",
    "tdf = pd.concat([tdf, ctdf]).reset_index()"
   ]
  },
  {
   "cell_type": "code",
   "execution_count": 39,
   "metadata": {},
   "outputs": [],
   "source": [
    "tdf[\"duration_minutes\"] = (tdf[\"completed_at\"] - tdf[\"started_at\"]).apply(\n",
    "    lambda x: x.total_seconds() / 60\n",
    ")"
   ]
  },
  {
   "cell_type": "code",
   "execution_count": 40,
   "metadata": {},
   "outputs": [
    {
     "data": {
      "text/plain": [
       "887"
      ]
     },
     "execution_count": 40,
     "metadata": {},
     "output_type": "execute_result"
    }
   ],
   "source": [
    "len(tdf[tdf[\"status\"] == \"COMPLETED\"])"
   ]
  },
  {
   "cell_type": "code",
   "execution_count": 61,
   "metadata": {},
   "outputs": [
    {
     "data": {
      "text/plain": [
       "datetime.date(2023, 7, 12)"
      ]
     },
     "execution_count": 61,
     "metadata": {},
     "output_type": "execute_result"
    }
   ],
   "source": [
    "sdf.created_at.min().date()"
   ]
  },
  {
   "cell_type": "code",
   "execution_count": 48,
   "metadata": {},
   "outputs": [
    {
     "data": {
      "text/plain": [
       "<matplotlib.legend.Legend at 0x2a231b070>"
      ]
     },
     "execution_count": 48,
     "metadata": {},
     "output_type": "execute_result"
    },
    {
     "data": {
      "image/png": "[encoded data removed]",
      "text/plain": [
       "<Figure size 432x288 with 1 Axes>"
      ]
     },
     "metadata": {
      "needs_background": "light"
     },
     "output_type": "display_data"
    }
   ],
   "source": [
    "sns.scatterplot(\n",
    "    data=tdf[\n",
    "        (tdf[\"status\"] == \"COMPLETED\")\n",
    "        & (tdf.type == \"RecoverPowder\")\n",
    "    ],\n",
    "    hue=\"type\",\n",
    "    x=\"completed_at\",\n",
    "    y=\"duration_minutes\"\n",
    "    )\n",
    "\n",
    "plt.legend(bbox_to_anchor=(1.05, 1), loc=2, borderaxespad=0.0)\n"
   ]
  },
  {
   "cell_type": "code",
   "execution_count": 50,
   "metadata": {},
   "outputs": [
    {
     "data": {
      "text/plain": [
       "array(['COMPLETED', 'RUNNING', 'WAITING', 'ERROR', 'CANCELLED'],\n",
       "      dtype=object)"
      ]
     },
     "execution_count": 50,
     "metadata": {},
     "output_type": "execute_result"
    }
   ],
   "source": [
    "tdf[\"status\"].unique()"
   ]
  },
  {
   "cell_type": "code",
   "execution_count": 53,
   "metadata": {},
   "outputs": [],
   "source": [
    "import plotly.express as px"
   ]
  },
  {
   "cell_type": "code",
   "execution_count": 59,
   "metadata": {},
   "outputs": [
    {
     "ename": "ValueError",
     "evalue": "If using all scalar values, you must pass an index",
     "output_type": "error",
     "traceback": [
      "\u001b[0;31m---------------------------------------------------------------------------\u001b[0m",
      "\u001b[0;31mValueError\u001b[0m                                Traceback (most recent call last)",
      "\u001b[1;32m/Users/REKumar/GitHub/alab_management/alab_management/dashboard/plotly/plotly_dashboard_demo.ipynb Cell 15\u001b[0m in \u001b[0;36m<cell line: 8>\u001b[0;34m()\u001b[0m\n\u001b[1;32m      <a href='vscode-notebook-cell:/Users/REKumar/GitHub/alab_management/alab_management/dashboard/plotly/plotly_dashboard_demo.ipynb#X45sZmlsZQ%3D%3D?line=0'>1</a>\u001b[0m vals \u001b[39m=\u001b[39m tdf[\n\u001b[1;32m      <a href='vscode-notebook-cell:/Users/REKumar/GitHub/alab_management/alab_management/dashboard/plotly/plotly_dashboard_demo.ipynb#X45sZmlsZQ%3D%3D?line=1'>2</a>\u001b[0m     tdf\u001b[39m.\u001b[39mtype \u001b[39m==\u001b[39m \u001b[39m\"\u001b[39m\u001b[39mRecoverPowder\u001b[39m\u001b[39m\"\u001b[39m\n\u001b[1;32m      <a href='vscode-notebook-cell:/Users/REKumar/GitHub/alab_management/alab_management/dashboard/plotly/plotly_dashboard_demo.ipynb#X45sZmlsZQ%3D%3D?line=2'>3</a>\u001b[0m ]\u001b[39m.\u001b[39mstatus\u001b[39m.\u001b[39mvalue_counts()\u001b[39m.\u001b[39mto_dict()\n\u001b[1;32m      <a href='vscode-notebook-cell:/Users/REKumar/GitHub/alab_management/alab_management/dashboard/plotly/plotly_dashboard_demo.ipynb#X45sZmlsZQ%3D%3D?line=5'>6</a>\u001b[0m tempdf \u001b[39m=\u001b[39m pd\u001b[39m.\u001b[39mDataFrame\u001b[39m.\u001b[39mfrom_dict(vals, orient\u001b[39m=\u001b[39m\u001b[39m\"\u001b[39m\u001b[39mindex\u001b[39m\u001b[39m\"\u001b[39m)\u001b[39m.\u001b[39mreset_index()\n\u001b[0;32m----> <a href='vscode-notebook-cell:/Users/REKumar/GitHub/alab_management/alab_management/dashboard/plotly/plotly_dashboard_demo.ipynb#X45sZmlsZQ%3D%3D?line=7'>8</a>\u001b[0m px\u001b[39m.\u001b[39;49mpie(\n\u001b[1;32m      <a href='vscode-notebook-cell:/Users/REKumar/GitHub/alab_management/alab_management/dashboard/plotly/plotly_dashboard_demo.ipynb#X45sZmlsZQ%3D%3D?line=8'>9</a>\u001b[0m     vals,\n\u001b[1;32m     <a href='vscode-notebook-cell:/Users/REKumar/GitHub/alab_management/alab_management/dashboard/plotly/plotly_dashboard_demo.ipynb#X45sZmlsZQ%3D%3D?line=9'>10</a>\u001b[0m     names\u001b[39m=\u001b[39;49m\u001b[39m\"\u001b[39;49m\u001b[39mindex\u001b[39;49m\u001b[39m\"\u001b[39;49m,\n\u001b[1;32m     <a href='vscode-notebook-cell:/Users/REKumar/GitHub/alab_management/alab_management/dashboard/plotly/plotly_dashboard_demo.ipynb#X45sZmlsZQ%3D%3D?line=10'>11</a>\u001b[0m     values\u001b[39m=\u001b[39;49m\u001b[39m0\u001b[39;49m,\n\u001b[1;32m     <a href='vscode-notebook-cell:/Users/REKumar/GitHub/alab_management/alab_management/dashboard/plotly/plotly_dashboard_demo.ipynb#X45sZmlsZQ%3D%3D?line=11'>12</a>\u001b[0m )\n",
      "File \u001b[0;32m~/opt/miniconda3/envs/alab/lib/python3.8/site-packages/plotly/express/_chart_types.py:1482\u001b[0m, in \u001b[0;36mpie\u001b[0;34m(data_frame, names, values, color, facet_row, facet_col, facet_col_wrap, facet_row_spacing, facet_col_spacing, color_discrete_sequence, color_discrete_map, hover_name, hover_data, custom_data, category_orders, labels, title, template, width, height, opacity, hole)\u001b[0m\n\u001b[1;32m   1480\u001b[0m \u001b[39melse\u001b[39;00m:\n\u001b[1;32m   1481\u001b[0m     layout_patch \u001b[39m=\u001b[39m {}\n\u001b[0;32m-> 1482\u001b[0m \u001b[39mreturn\u001b[39;00m make_figure(\n\u001b[1;32m   1483\u001b[0m     args\u001b[39m=\u001b[39;49m\u001b[39mlocals\u001b[39;49m(),\n\u001b[1;32m   1484\u001b[0m     constructor\u001b[39m=\u001b[39;49mgo\u001b[39m.\u001b[39;49mPie,\n\u001b[1;32m   1485\u001b[0m     trace_patch\u001b[39m=\u001b[39;49m\u001b[39mdict\u001b[39;49m(showlegend\u001b[39m=\u001b[39;49m(names \u001b[39mis\u001b[39;49;00m \u001b[39mnot\u001b[39;49;00m \u001b[39mNone\u001b[39;49;00m), hole\u001b[39m=\u001b[39;49mhole),\n\u001b[1;32m   1486\u001b[0m     layout_patch\u001b[39m=\u001b[39;49mlayout_patch,\n\u001b[1;32m   1487\u001b[0m )\n",
      "File \u001b[0;32m~/opt/miniconda3/envs/alab/lib/python3.8/site-packages/plotly/express/_core.py:1990\u001b[0m, in \u001b[0;36mmake_figure\u001b[0;34m(args, constructor, trace_patch, layout_patch)\u001b[0m\n\u001b[1;32m   1987\u001b[0m layout_patch \u001b[39m=\u001b[39m layout_patch \u001b[39mor\u001b[39;00m {}\n\u001b[1;32m   1988\u001b[0m apply_default_cascade(args)\n\u001b[0;32m-> 1990\u001b[0m args \u001b[39m=\u001b[39m build_dataframe(args, constructor)\n\u001b[1;32m   1991\u001b[0m \u001b[39mif\u001b[39;00m constructor \u001b[39min\u001b[39;00m [go\u001b[39m.\u001b[39mTreemap, go\u001b[39m.\u001b[39mSunburst, go\u001b[39m.\u001b[39mIcicle] \u001b[39mand\u001b[39;00m args[\u001b[39m\"\u001b[39m\u001b[39mpath\u001b[39m\u001b[39m\"\u001b[39m] \u001b[39mis\u001b[39;00m \u001b[39mnot\u001b[39;00m \u001b[39mNone\u001b[39;00m:\n\u001b[1;32m   1992\u001b[0m     args \u001b[39m=\u001b[39m process_dataframe_hierarchy(args)\n",
      "File \u001b[0;32m~/opt/miniconda3/envs/alab/lib/python3.8/site-packages/plotly/express/_core.py:1306\u001b[0m, in \u001b[0;36mbuild_dataframe\u001b[0;34m(args, constructor)\u001b[0m\n\u001b[1;32m   1304\u001b[0m df_provided \u001b[39m=\u001b[39m args[\u001b[39m\"\u001b[39m\u001b[39mdata_frame\u001b[39m\u001b[39m\"\u001b[39m] \u001b[39mis\u001b[39;00m \u001b[39mnot\u001b[39;00m \u001b[39mNone\u001b[39;00m\n\u001b[1;32m   1305\u001b[0m \u001b[39mif\u001b[39;00m df_provided \u001b[39mand\u001b[39;00m \u001b[39mnot\u001b[39;00m \u001b[39misinstance\u001b[39m(args[\u001b[39m\"\u001b[39m\u001b[39mdata_frame\u001b[39m\u001b[39m\"\u001b[39m], pd\u001b[39m.\u001b[39mDataFrame):\n\u001b[0;32m-> 1306\u001b[0m     args[\u001b[39m\"\u001b[39m\u001b[39mdata_frame\u001b[39m\u001b[39m\"\u001b[39m] \u001b[39m=\u001b[39m pd\u001b[39m.\u001b[39;49mDataFrame(args[\u001b[39m\"\u001b[39;49m\u001b[39mdata_frame\u001b[39;49m\u001b[39m\"\u001b[39;49m])\n\u001b[1;32m   1307\u001b[0m df_input \u001b[39m=\u001b[39m args[\u001b[39m\"\u001b[39m\u001b[39mdata_frame\u001b[39m\u001b[39m\"\u001b[39m]\n\u001b[1;32m   1309\u001b[0m \u001b[39m# now we handle special cases like wide-mode or x-xor-y specification\u001b[39;00m\n\u001b[1;32m   1310\u001b[0m \u001b[39m# by rearranging args to tee things up for process_args_into_dataframe to work\u001b[39;00m\n",
      "File \u001b[0;32m~/opt/miniconda3/envs/alab/lib/python3.8/site-packages/pandas/core/frame.py:636\u001b[0m, in \u001b[0;36mDataFrame.__init__\u001b[0;34m(self, data, index, columns, dtype, copy)\u001b[0m\n\u001b[1;32m    630\u001b[0m     mgr \u001b[39m=\u001b[39m \u001b[39mself\u001b[39m\u001b[39m.\u001b[39m_init_mgr(\n\u001b[1;32m    631\u001b[0m         data, axes\u001b[39m=\u001b[39m{\u001b[39m\"\u001b[39m\u001b[39mindex\u001b[39m\u001b[39m\"\u001b[39m: index, \u001b[39m\"\u001b[39m\u001b[39mcolumns\u001b[39m\u001b[39m\"\u001b[39m: columns}, dtype\u001b[39m=\u001b[39mdtype, copy\u001b[39m=\u001b[39mcopy\n\u001b[1;32m    632\u001b[0m     )\n\u001b[1;32m    634\u001b[0m \u001b[39melif\u001b[39;00m \u001b[39misinstance\u001b[39m(data, \u001b[39mdict\u001b[39m):\n\u001b[1;32m    635\u001b[0m     \u001b[39m# GH#38939 de facto copy defaults to False only in non-dict cases\u001b[39;00m\n\u001b[0;32m--> 636\u001b[0m     mgr \u001b[39m=\u001b[39m dict_to_mgr(data, index, columns, dtype\u001b[39m=\u001b[39;49mdtype, copy\u001b[39m=\u001b[39;49mcopy, typ\u001b[39m=\u001b[39;49mmanager)\n\u001b[1;32m    637\u001b[0m \u001b[39melif\u001b[39;00m \u001b[39misinstance\u001b[39m(data, ma\u001b[39m.\u001b[39mMaskedArray):\n\u001b[1;32m    638\u001b[0m     \u001b[39mimport\u001b[39;00m \u001b[39mnumpy\u001b[39;00m\u001b[39m.\u001b[39;00m\u001b[39mma\u001b[39;00m\u001b[39m.\u001b[39;00m\u001b[39mmrecords\u001b[39;00m \u001b[39mas\u001b[39;00m \u001b[39mmrecords\u001b[39;00m\n",
      "File \u001b[0;32m~/opt/miniconda3/envs/alab/lib/python3.8/site-packages/pandas/core/internals/construction.py:502\u001b[0m, in \u001b[0;36mdict_to_mgr\u001b[0;34m(data, index, columns, dtype, typ, copy)\u001b[0m\n\u001b[1;32m    494\u001b[0m     arrays \u001b[39m=\u001b[39m [\n\u001b[1;32m    495\u001b[0m         x\n\u001b[1;32m    496\u001b[0m         \u001b[39mif\u001b[39;00m \u001b[39mnot\u001b[39;00m \u001b[39mhasattr\u001b[39m(x, \u001b[39m\"\u001b[39m\u001b[39mdtype\u001b[39m\u001b[39m\"\u001b[39m) \u001b[39mor\u001b[39;00m \u001b[39mnot\u001b[39;00m \u001b[39misinstance\u001b[39m(x\u001b[39m.\u001b[39mdtype, ExtensionDtype)\n\u001b[1;32m    497\u001b[0m         \u001b[39melse\u001b[39;00m x\u001b[39m.\u001b[39mcopy()\n\u001b[1;32m    498\u001b[0m         \u001b[39mfor\u001b[39;00m x \u001b[39min\u001b[39;00m arrays\n\u001b[1;32m    499\u001b[0m     ]\n\u001b[1;32m    500\u001b[0m     \u001b[39m# TODO: can we get rid of the dt64tz special case above?\u001b[39;00m\n\u001b[0;32m--> 502\u001b[0m \u001b[39mreturn\u001b[39;00m arrays_to_mgr(arrays, columns, index, dtype\u001b[39m=\u001b[39;49mdtype, typ\u001b[39m=\u001b[39;49mtyp, consolidate\u001b[39m=\u001b[39;49mcopy)\n",
      "File \u001b[0;32m~/opt/miniconda3/envs/alab/lib/python3.8/site-packages/pandas/core/internals/construction.py:120\u001b[0m, in \u001b[0;36marrays_to_mgr\u001b[0;34m(arrays, columns, index, dtype, verify_integrity, typ, consolidate)\u001b[0m\n\u001b[1;32m    117\u001b[0m \u001b[39mif\u001b[39;00m verify_integrity:\n\u001b[1;32m    118\u001b[0m     \u001b[39m# figure out the index, if necessary\u001b[39;00m\n\u001b[1;32m    119\u001b[0m     \u001b[39mif\u001b[39;00m index \u001b[39mis\u001b[39;00m \u001b[39mNone\u001b[39;00m:\n\u001b[0;32m--> 120\u001b[0m         index \u001b[39m=\u001b[39m _extract_index(arrays)\n\u001b[1;32m    121\u001b[0m     \u001b[39melse\u001b[39;00m:\n\u001b[1;32m    122\u001b[0m         index \u001b[39m=\u001b[39m ensure_index(index)\n",
      "File \u001b[0;32m~/opt/miniconda3/envs/alab/lib/python3.8/site-packages/pandas/core/internals/construction.py:664\u001b[0m, in \u001b[0;36m_extract_index\u001b[0;34m(data)\u001b[0m\n\u001b[1;32m    661\u001b[0m         \u001b[39mraise\u001b[39;00m \u001b[39mValueError\u001b[39;00m(\u001b[39m\"\u001b[39m\u001b[39mPer-column arrays must each be 1-dimensional\u001b[39m\u001b[39m\"\u001b[39m)\n\u001b[1;32m    663\u001b[0m \u001b[39mif\u001b[39;00m \u001b[39mnot\u001b[39;00m indexes \u001b[39mand\u001b[39;00m \u001b[39mnot\u001b[39;00m raw_lengths:\n\u001b[0;32m--> 664\u001b[0m     \u001b[39mraise\u001b[39;00m \u001b[39mValueError\u001b[39;00m(\u001b[39m\"\u001b[39m\u001b[39mIf using all scalar values, you must pass an index\u001b[39m\u001b[39m\"\u001b[39m)\n\u001b[1;32m    666\u001b[0m \u001b[39melif\u001b[39;00m have_series:\n\u001b[1;32m    667\u001b[0m     index \u001b[39m=\u001b[39m union_indexes(indexes)\n",
      "\u001b[0;31mValueError\u001b[0m: If using all scalar values, you must pass an index"
     ]
    }
   ],
   "source": [
    "vals = tdf[\n",
    "    tdf.type == \"RecoverPowder\"\n",
    "].status.value_counts().to_dict()\n"
   ]
  },
  {
   "cell_type": "markdown",
   "metadata": {},
   "source": [
    "# Devices"
   ]
  },
  {
   "cell_type": "code",
   "execution_count": 71,
   "metadata": {},
   "outputs": [],
   "source": [
    "from alab_management.utils.data_objects import get_collection"
   ]
  },
  {
   "cell_type": "code",
   "execution_count": 72,
   "metadata": {},
   "outputs": [],
   "source": [
    "rdb = get_collection(\"requests\")"
   ]
  },
  {
   "cell_type": "code",
   "execution_count": 75,
   "metadata": {},
   "outputs": [],
   "source": [
    "rdf = pd.DataFrame(list(rdb.find({})))"
   ]
  },
  {
   "cell_type": "code",
   "execution_count": 79,
   "metadata": {},
   "outputs": [
    {
     "data": {
      "text/plain": [
       "array([list([{'device': {'identifier': 'name', 'content': 'labmanquadrant_1'}, 'sample_positions': [{'prefix': 'jar', 'number': '16'}, {'prefix': 'crucible', 'number': '16'}, {'prefix': 'processing', 'number': '16'}]}]),\n",
       "       list([{'device': {'identifier': 'name', 'content': 'labmanquadrant_2'}, 'sample_positions': [{'prefix': 'jar', 'number': '16'}, {'prefix': 'crucible', 'number': '16'}, {'prefix': 'processing', 'number': '16'}]}]),\n",
       "       list([{'device': {'identifier': '__nodevice', 'content': '__nodevice'}, 'sample_positions': [{'prefix': 'transfer_rack/slot/3', 'number': '1'}]}]),\n",
       "       list([{'device': {'identifier': '__nodevice', 'content': '__nodevice'}, 'sample_positions': [{'prefix': 'transfer_rack/slot/1', 'number': '1'}]}]),\n",
       "       list([{'device': {'identifier': '__nodevice', 'content': '__nodevice'}, 'sample_positions': [{'prefix': 'transfer_rack/slot/2', 'number': '1'}]}]),\n",
       "       list([{'device': {'identifier': 'name', 'content': 'transfer_rack'}, 'sample_positions': [{'prefix': 'slot', 'number': '1'}]}]),\n",
       "       list([{'device': {'identifier': 'name', 'content': 'transfer_rack'}, 'sample_positions': [{'prefix': 'slot', 'number': '1'}]}, {'device': {'identifier': '__nodevice', 'content': '__nodevice'}, 'sample_positions': [{'prefix': 'powdertransfer_crucible_position', 'number': '1'}]}, {'device': {'identifier': 'name', 'content': 'arm_characterization'}, 'sample_positions': []}]),\n",
       "       list([{'device': {'identifier': 'name', 'content': 'dispenser_balls'}, 'sample_positions': [{'prefix': 'slot', 'number': '1'}]}, {'device': {'identifier': 'name', 'content': 'dispenser_caps'}, 'sample_positions': []}, {'device': {'identifier': 'name', 'content': 'shaker'}, 'sample_positions': [{'prefix': 'slot', 'number': '1'}]}, {'device': {'identifier': 'name', 'content': 'scale'}, 'sample_positions': [{'prefix': 'slot', 'number': '1'}]}, {'device': {'identifier': '__nodevice', 'content': '__nodevice'}, 'sample_positions': [{'prefix': 'powdertransfer_crucible_position', 'number': '1'}, {'prefix': 'powdertransfer_vial_position', 'number': '1'}, {'prefix': 'cap_position', 'number': '2'}, {'prefix': 'filled_vial_rack', 'number': '1'}]}, {'device': {'identifier': 'name', 'content': 'cappinggripper'}, 'sample_positions': [{'prefix': 'slot', 'number': '1'}]}, {'device': {'identifier': 'name', 'content': 'fresh_vial_rack'}, 'sample_positions': []}]),\n",
       "       list([{'device': {'identifier': 'type', 'content': 'RobotArmCharacterization'}, 'sample_positions': []}, {'device': {'identifier': 'name', 'content': 'scale'}, 'sample_positions': [{'prefix': 'slot', 'number': '1'}]}, {'device': {'identifier': '__nodevice', 'content': '__nodevice'}, 'sample_positions': [{'prefix': 'powdertransfer_crucible_position', 'number': '1'}]}]),\n",
       "       list([{'device': {'identifier': 'type', 'content': 'RobotArmCharacterization'}, 'sample_positions': []}, {'device': {'identifier': 'name', 'content': 'dispenser_balls'}, 'sample_positions': [{'prefix': 'slot', 'number': '1'}]}, {'device': {'identifier': 'name', 'content': 'dispenser_caps'}, 'sample_positions': []}, {'device': {'identifier': 'name', 'content': 'shaker'}, 'sample_positions': [{'prefix': 'slot', 'number': '1'}]}, {'device': {'identifier': '__nodevice', 'content': '__nodevice'}, 'sample_positions': [{'prefix': 'powdertransfer_crucible_position', 'number': '1'}]}]),\n",
       "       list([{'device': {'identifier': 'type', 'content': 'RobotArmCharacterization'}, 'sample_positions': []}, {'device': {'identifier': 'name', 'content': 'cappinggripper'}, 'sample_positions': [{'prefix': 'slot', 'number': '1'}]}, {'device': {'identifier': 'name', 'content': 'fresh_vial_rack'}, 'sample_positions': []}, {'device': {'identifier': '__nodevice', 'content': '__nodevice'}, 'sample_positions': [{'prefix': 'powdertransfer_vial_position', 'number': '1'}]}]),\n",
       "       list([{'device': {'identifier': 'name', 'content': 'transfer_rack'}, 'sample_positions': [{'prefix': 'slot', 'number': '1'}]}]),\n",
       "       list([]),\n",
       "       list([{'device': {'identifier': 'name', 'content': 'transfer_rack'}, 'sample_positions': [{'prefix': 'slot', 'number': '1'}]}, {'device': {'identifier': '__nodevice', 'content': '__nodevice'}, 'sample_positions': [{'prefix': 'powdertransfer_crucible_position', 'number': '1'}]}, {'device': {'identifier': 'name', 'content': 'arm_characterization'}, 'sample_positions': []}]),\n",
       "       list([{'device': {'identifier': 'name', 'content': 'dispenser_balls'}, 'sample_positions': [{'prefix': 'slot', 'number': '1'}]}, {'device': {'identifier': 'name', 'content': 'dispenser_caps'}, 'sample_positions': []}, {'device': {'identifier': 'name', 'content': 'shaker'}, 'sample_positions': [{'prefix': 'slot', 'number': '1'}]}, {'device': {'identifier': 'name', 'content': 'scale'}, 'sample_positions': [{'prefix': 'slot', 'number': '1'}]}, {'device': {'identifier': '__nodevice', 'content': '__nodevice'}, 'sample_positions': [{'prefix': 'powdertransfer_crucible_position', 'number': '1'}, {'prefix': 'powdertransfer_vial_position', 'number': '1'}, {'prefix': 'cap_position', 'number': '2'}, {'prefix': 'filled_vial_rack', 'number': '1'}]}, {'device': {'identifier': 'name', 'content': 'cappinggripper'}, 'sample_positions': [{'prefix': 'slot', 'number': '1'}]}, {'device': {'identifier': 'name', 'content': 'fresh_vial_rack'}, 'sample_positions': []}]),\n",
       "       list([{'device': {'identifier': 'type', 'content': 'RobotArmCharacterization'}, 'sample_positions': []}, {'device': {'identifier': 'name', 'content': 'scale'}, 'sample_positions': [{'prefix': 'slot', 'number': '1'}]}, {'device': {'identifier': '__nodevice', 'content': '__nodevice'}, 'sample_positions': [{'prefix': 'powdertransfer_crucible_position', 'number': '1'}]}]),\n",
       "       list([{'device': {'identifier': 'type', 'content': 'RobotArmCharacterization'}, 'sample_positions': []}, {'device': {'identifier': 'name', 'content': 'dispenser_balls'}, 'sample_positions': [{'prefix': 'slot', 'number': '1'}]}, {'device': {'identifier': 'name', 'content': 'dispenser_caps'}, 'sample_positions': []}, {'device': {'identifier': 'name', 'content': 'shaker'}, 'sample_positions': [{'prefix': 'slot', 'number': '1'}]}, {'device': {'identifier': '__nodevice', 'content': '__nodevice'}, 'sample_positions': [{'prefix': 'powdertransfer_crucible_position', 'number': '1'}]}]),\n",
       "       list([{'device': {'identifier': '__nodevice', 'content': '__nodevice'}, 'sample_positions': [{'prefix': 'transfer_rack/slot/1', 'number': '1'}]}]),\n",
       "       list([{'device': {'identifier': 'name', 'content': 'transfer_rack'}, 'sample_positions': [{'prefix': 'slot', 'number': '1'}]}]),\n",
       "       list([{'device': {'identifier': 'name', 'content': 'transfer_rack'}, 'sample_positions': [{'prefix': 'slot', 'number': '1'}]}]),\n",
       "       list([{'device': {'identifier': 'name', 'content': 'transfer_rack'}, 'sample_positions': [{'prefix': 'slot', 'number': '1'}]}, {'device': {'identifier': '__nodevice', 'content': '__nodevice'}, 'sample_positions': [{'prefix': 'powdertransfer_crucible_position', 'number': '1'}]}, {'device': {'identifier': 'name', 'content': 'arm_characterization'}, 'sample_positions': []}]),\n",
       "       list([]),\n",
       "       list([{'device': {'identifier': 'type', 'content': 'RobotArmCharacterization'}, 'sample_positions': []}, {'device': {'identifier': 'name', 'content': 'cappinggripper'}, 'sample_positions': [{'prefix': 'slot', 'number': '1'}]}, {'device': {'identifier': 'name', 'content': 'fresh_vial_rack'}, 'sample_positions': []}, {'device': {'identifier': '__nodevice', 'content': '__nodevice'}, 'sample_positions': [{'prefix': 'powdertransfer_vial_position', 'number': '1'}]}]),\n",
       "       list([{'device': {'identifier': 'name', 'content': 'transfer_rack'}, 'sample_positions': [{'prefix': 'slot', 'number': '1'}]}, {'device': {'identifier': '__nodevice', 'content': '__nodevice'}, 'sample_positions': [{'prefix': 'powdertransfer_crucible_position', 'number': '1'}]}, {'device': {'identifier': 'name', 'content': 'arm_characterization'}, 'sample_positions': []}]),\n",
       "       list([{'device': {'identifier': 'type', 'content': 'RobotArmCharacterization'}, 'sample_positions': []}, {'device': {'identifier': '__nodevice', 'content': '__nodevice'}, 'sample_positions': [{'prefix': 'powdertransfer_crucible_position', 'number': '1'}]}]),\n",
       "       list([{'device': {'identifier': 'type', 'content': 'RobotArmCharacterization'}, 'sample_positions': []}, {'device': {'identifier': 'name', 'content': 'shaker'}, 'sample_positions': [{'prefix': 'slot', 'number': '1'}]}, {'device': {'identifier': '__nodevice', 'content': '__nodevice'}, 'sample_positions': [{'prefix': 'powdertransfer_vial_position', 'number': '1'}, {'prefix': 'vial_tapping_position', 'number': '1'}]}]),\n",
       "       list([{'device': {'identifier': 'type', 'content': 'RobotArmCharacterization'}, 'sample_positions': []}, {'device': {'identifier': 'name', 'content': 'scale'}, 'sample_positions': [{'prefix': 'slot', 'number': '1'}]}, {'device': {'identifier': '__nodevice', 'content': '__nodevice'}, 'sample_positions': [{'prefix': 'powdertransfer_crucible_position', 'number': '1'}]}]),\n",
       "       list([{'device': {'identifier': 'type', 'content': 'RobotArmCharacterization'}, 'sample_positions': []}, {'device': {'identifier': 'name', 'content': 'cappinggripper'}, 'sample_positions': [{'prefix': 'slot', 'number': '1'}]}, {'device': {'identifier': '__nodevice', 'content': '__nodevice'}, 'sample_positions': [{'prefix': 'filled_vial_rack', 'number': '1'}]}]),\n",
       "       list([{'device': {'identifier': 'name', 'content': 'cappinggripper'}, 'sample_positions': [{'prefix': 'slot', 'number': '1'}]}, {'device': {'identifier': '__nodevice', 'content': '__nodevice'}, 'sample_positions': [{'prefix': 'powdertransfer_vial_position', 'number': '1'}, {'prefix': 'filled_vial_rack', 'number': '1'}]}, {'device': {'identifier': 'name', 'content': 'arm_characterization'}, 'sample_positions': []}]),\n",
       "       list([{'device': {'identifier': 'name', 'content': 'dispenser_xrd'}, 'sample_positions': []}]),\n",
       "       list([{'device': {'identifier': 'type', 'content': 'CapDispenser'}, 'sample_positions': []}, {'device': {'identifier': 'type', 'content': 'CappingGripper'}, 'sample_positions': [{'prefix': 'slot', 'number': '1'}]}, {'device': {'identifier': 'name', 'content': 'scale'}, 'sample_positions': [{'prefix': 'slot', 'number': '1'}]}, {'device': {'identifier': 'name', 'content': 'dispenser_xrd'}, 'sample_positions': []}, {'device': {'identifier': '__nodevice', 'content': '__nodevice'}, 'sample_positions': [{'prefix': 'powdertransfer_vial_position', 'number': '1'}, {'prefix': 'powdertransfer_xrd_position', 'number': '1'}, {'prefix': 'cap_position', 'number': '2'}, {'prefix': 'filled_vial_rack', 'number': '1'}]}]),\n",
       "       list([{'device': {'identifier': 'type', 'content': 'RobotArmCharacterization'}, 'sample_positions': []}]),\n",
       "       list([{'device': {'identifier': 'name', 'content': 'dispenser_balls'}, 'sample_positions': [{'prefix': 'slot', 'number': '1'}]}, {'device': {'identifier': 'name', 'content': 'dispenser_caps'}, 'sample_positions': []}, {'device': {'identifier': 'name', 'content': 'shaker'}, 'sample_positions': [{'prefix': 'slot', 'number': '1'}]}, {'device': {'identifier': 'name', 'content': 'scale'}, 'sample_positions': [{'prefix': 'slot', 'number': '1'}]}, {'device': {'identifier': '__nodevice', 'content': '__nodevice'}, 'sample_positions': [{'prefix': 'powdertransfer_crucible_position', 'number': '1'}, {'prefix': 'powdertransfer_vial_position', 'number': '1'}, {'prefix': 'cap_position', 'number': '2'}, {'prefix': 'filled_vial_rack', 'number': '1'}]}, {'device': {'identifier': 'name', 'content': 'cappinggripper'}, 'sample_positions': [{'prefix': 'slot', 'number': '1'}]}, {'device': {'identifier': 'name', 'content': 'fresh_vial_rack'}, 'sample_positions': []}]),\n",
       "       list([{'device': {'identifier': '__nodevice', 'content': '__nodevice'}, 'sample_positions': [{'prefix': 'filled_vial_rack', 'number': '1'}, {'prefix': 'powdertransfer_vial_position', 'number': '1'}]}, {'device': {'identifier': 'name', 'content': 'arm_characterization'}, 'sample_positions': []}]),\n",
       "       list([{'device': {'identifier': '__nodevice', 'content': '__nodevice'}, 'sample_positions': [{'prefix': 'powdertransfer_vial_position', 'number': '1'}, {'prefix': 'filled_vial_rack', 'number': '1'}]}, {'device': {'identifier': 'name', 'content': 'arm_characterization'}, 'sample_positions': []}]),\n",
       "       list([{'device': {'identifier': 'type', 'content': 'Diffractometer'}, 'sample_positions': []}]),\n",
       "       list([{'device': {'identifier': 'type', 'content': 'RobotArmCharacterization'}, 'sample_positions': []}]),\n",
       "       list([{'device': {'identifier': 'type', 'content': 'RobotArmCharacterization'}, 'sample_positions': []}, {'device': {'identifier': 'name', 'content': 'scale'}, 'sample_positions': [{'prefix': 'slot', 'number': '1'}]}, {'device': {'identifier': '__nodevice', 'content': '__nodevice'}, 'sample_positions': [{'prefix': 'powdertransfer_crucible_position', 'number': '1'}]}]),\n",
       "       list([{'device': {'identifier': 'type', 'content': 'RobotArmCharacterization'}, 'sample_positions': []}, {'device': {'identifier': 'name', 'content': 'dispenser_balls'}, 'sample_positions': [{'prefix': 'slot', 'number': '1'}]}, {'device': {'identifier': 'name', 'content': 'dispenser_caps'}, 'sample_positions': []}, {'device': {'identifier': 'name', 'content': 'shaker'}, 'sample_positions': [{'prefix': 'slot', 'number': '1'}]}, {'device': {'identifier': '__nodevice', 'content': '__nodevice'}, 'sample_positions': [{'prefix': 'powdertransfer_crucible_position', 'number': '1'}]}]),\n",
       "       list([{'device': {'identifier': 'type', 'content': 'RobotArmCharacterization'}, 'sample_positions': []}, {'device': {'identifier': 'name', 'content': 'cappinggripper'}, 'sample_positions': [{'prefix': 'slot', 'number': '1'}]}, {'device': {'identifier': 'name', 'content': 'fresh_vial_rack'}, 'sample_positions': []}, {'device': {'identifier': '__nodevice', 'content': '__nodevice'}, 'sample_positions': [{'prefix': 'powdertransfer_vial_position', 'number': '1'}]}]),\n",
       "       list([{'device': {'identifier': 'type', 'content': 'RobotArmCharacterization'}, 'sample_positions': []}, {'device': {'identifier': '__nodevice', 'content': '__nodevice'}, 'sample_positions': [{'prefix': 'powdertransfer_crucible_position', 'number': '1'}]}]),\n",
       "       list([{'device': {'identifier': 'type', 'content': 'RobotArmCharacterization'}, 'sample_positions': []}, {'device': {'identifier': 'name', 'content': 'shaker'}, 'sample_positions': [{'prefix': 'slot', 'number': '1'}]}, {'device': {'identifier': '__nodevice', 'content': '__nodevice'}, 'sample_positions': [{'prefix': 'powdertransfer_vial_position', 'number': '1'}, {'prefix': 'vial_tapping_position', 'number': '1'}]}]),\n",
       "       list([{'device': {'identifier': 'type', 'content': 'RobotArmCharacterization'}, 'sample_positions': []}, {'device': {'identifier': 'name', 'content': 'dispenser_xrd'}, 'sample_positions': []}]),\n",
       "       list([{'device': {'identifier': 'type', 'content': 'RobotArmCharacterization'}, 'sample_positions': []}, {'device': {'identifier': 'name', 'content': 'scale'}, 'sample_positions': [{'prefix': 'slot', 'number': '1'}]}, {'device': {'identifier': '__nodevice', 'content': '__nodevice'}, 'sample_positions': [{'prefix': 'powdertransfer_crucible_position', 'number': '1'}]}]),\n",
       "       list([{'device': {'identifier': 'type', 'content': 'RobotArmCharacterization'}, 'sample_positions': []}, {'device': {'identifier': 'name', 'content': 'cappinggripper'}, 'sample_positions': [{'prefix': 'slot', 'number': '1'}]}, {'device': {'identifier': '__nodevice', 'content': '__nodevice'}, 'sample_positions': [{'prefix': 'filled_vial_rack', 'number': '1'}]}]),\n",
       "       list([{'device': {'identifier': 'name', 'content': 'cappinggripper'}, 'sample_positions': [{'prefix': 'slot', 'number': '1'}]}, {'device': {'identifier': '__nodevice', 'content': '__nodevice'}, 'sample_positions': [{'prefix': 'powdertransfer_vial_position', 'number': '1'}, {'prefix': 'filled_vial_rack', 'number': '1'}]}, {'device': {'identifier': 'name', 'content': 'arm_characterization'}, 'sample_positions': []}]),\n",
       "       list([{'device': {'identifier': 'name', 'content': 'dispenser_xrd'}, 'sample_positions': []}]),\n",
       "       list([{'device': {'identifier': 'type', 'content': 'CapDispenser'}, 'sample_positions': []}, {'device': {'identifier': 'type', 'content': 'CappingGripper'}, 'sample_positions': [{'prefix': 'slot', 'number': '1'}]}, {'device': {'identifier': 'name', 'content': 'scale'}, 'sample_positions': [{'prefix': 'slot', 'number': '1'}]}, {'device': {'identifier': 'name', 'content': 'dispenser_xrd'}, 'sample_positions': []}, {'device': {'identifier': '__nodevice', 'content': '__nodevice'}, 'sample_positions': [{'prefix': 'powdertransfer_vial_position', 'number': '1'}, {'prefix': 'powdertransfer_xrd_position', 'number': '1'}, {'prefix': 'cap_position', 'number': '2'}, {'prefix': 'filled_vial_rack', 'number': '1'}]}]),\n",
       "       list([{'device': {'identifier': 'type', 'content': 'RobotArmCharacterization'}, 'sample_positions': []}]),\n",
       "       list([{'device': {'identifier': 'name', 'content': 'dispenser_balls'}, 'sample_positions': [{'prefix': 'slot', 'number': '1'}]}, {'device': {'identifier': 'name', 'content': 'dispenser_caps'}, 'sample_positions': []}, {'device': {'identifier': 'name', 'content': 'shaker'}, 'sample_positions': [{'prefix': 'slot', 'number': '1'}]}, {'device': {'identifier': 'name', 'content': 'scale'}, 'sample_positions': [{'prefix': 'slot', 'number': '1'}]}, {'device': {'identifier': '__nodevice', 'content': '__nodevice'}, 'sample_positions': [{'prefix': 'powdertransfer_crucible_position', 'number': '1'}, {'prefix': 'powdertransfer_vial_position', 'number': '1'}, {'prefix': 'cap_position', 'number': '2'}, {'prefix': 'filled_vial_rack', 'number': '1'}]}, {'device': {'identifier': 'name', 'content': 'cappinggripper'}, 'sample_positions': [{'prefix': 'slot', 'number': '1'}]}, {'device': {'identifier': 'name', 'content': 'fresh_vial_rack'}, 'sample_positions': []}]),\n",
       "       list([{'device': {'identifier': '__nodevice', 'content': '__nodevice'}, 'sample_positions': [{'prefix': 'filled_vial_rack', 'number': '1'}, {'prefix': 'powdertransfer_vial_position', 'number': '1'}]}, {'device': {'identifier': 'name', 'content': 'arm_characterization'}, 'sample_positions': []}]),\n",
       "       list([{'device': {'identifier': '__nodevice', 'content': '__nodevice'}, 'sample_positions': [{'prefix': 'powdertransfer_vial_position', 'number': '1'}, {'prefix': 'filled_vial_rack', 'number': '1'}]}, {'device': {'identifier': 'name', 'content': 'arm_characterization'}, 'sample_positions': []}]),\n",
       "       list([{'device': {'identifier': 'type', 'content': 'Diffractometer'}, 'sample_positions': []}]),\n",
       "       list([{'device': {'identifier': 'type', 'content': 'RobotArmCharacterization'}, 'sample_positions': []}]),\n",
       "       list([{'device': {'identifier': 'type', 'content': 'RobotArmCharacterization'}, 'sample_positions': []}, {'device': {'identifier': 'name', 'content': 'scale'}, 'sample_positions': [{'prefix': 'slot', 'number': '1'}]}, {'device': {'identifier': '__nodevice', 'content': '__nodevice'}, 'sample_positions': [{'prefix': 'powdertransfer_crucible_position', 'number': '1'}]}]),\n",
       "       list([{'device': {'identifier': 'type', 'content': 'RobotArmCharacterization'}, 'sample_positions': []}, {'device': {'identifier': 'name', 'content': 'dispenser_balls'}, 'sample_positions': [{'prefix': 'slot', 'number': '1'}]}, {'device': {'identifier': 'name', 'content': 'dispenser_caps'}, 'sample_positions': []}, {'device': {'identifier': 'name', 'content': 'shaker'}, 'sample_positions': [{'prefix': 'slot', 'number': '1'}]}, {'device': {'identifier': '__nodevice', 'content': '__nodevice'}, 'sample_positions': [{'prefix': 'powdertransfer_crucible_position', 'number': '1'}]}]),\n",
       "       list([{'device': {'identifier': 'type', 'content': 'RobotArmCharacterization'}, 'sample_positions': []}, {'device': {'identifier': 'name', 'content': 'cappinggripper'}, 'sample_positions': [{'prefix': 'slot', 'number': '1'}]}, {'device': {'identifier': 'name', 'content': 'fresh_vial_rack'}, 'sample_positions': []}, {'device': {'identifier': '__nodevice', 'content': '__nodevice'}, 'sample_positions': [{'prefix': 'powdertransfer_vial_position', 'number': '1'}]}]),\n",
       "       list([{'device': {'identifier': 'type', 'content': 'RobotArmCharacterization'}, 'sample_positions': []}, {'device': {'identifier': '__nodevice', 'content': '__nodevice'}, 'sample_positions': [{'prefix': 'powdertransfer_crucible_position', 'number': '1'}]}]),\n",
       "       list([{'device': {'identifier': 'type', 'content': 'RobotArmCharacterization'}, 'sample_positions': []}, {'device': {'identifier': 'name', 'content': 'shaker'}, 'sample_positions': [{'prefix': 'slot', 'number': '1'}]}, {'device': {'identifier': '__nodevice', 'content': '__nodevice'}, 'sample_positions': [{'prefix': 'powdertransfer_vial_position', 'number': '1'}, {'prefix': 'vial_tapping_position', 'number': '1'}]}]),\n",
       "       list([{'device': {'identifier': 'type', 'content': 'RobotArmCharacterization'}, 'sample_positions': []}, {'device': {'identifier': 'name', 'content': 'dispenser_xrd'}, 'sample_positions': []}]),\n",
       "       list([{'device': {'identifier': 'type', 'content': 'RobotArmCharacterization'}, 'sample_positions': []}, {'device': {'identifier': 'name', 'content': 'scale'}, 'sample_positions': [{'prefix': 'slot', 'number': '1'}]}, {'device': {'identifier': '__nodevice', 'content': '__nodevice'}, 'sample_positions': [{'prefix': 'powdertransfer_crucible_position', 'number': '1'}]}]),\n",
       "       list([{'device': {'identifier': 'type', 'content': 'RobotArmCharacterization'}, 'sample_positions': []}, {'device': {'identifier': 'name', 'content': 'cappinggripper'}, 'sample_positions': [{'prefix': 'slot', 'number': '1'}]}, {'device': {'identifier': '__nodevice', 'content': '__nodevice'}, 'sample_positions': [{'prefix': 'filled_vial_rack', 'number': '1'}]}]),\n",
       "       list([{'device': {'identifier': 'name', 'content': 'cappinggripper'}, 'sample_positions': [{'prefix': 'slot', 'number': '1'}]}, {'device': {'identifier': '__nodevice', 'content': '__nodevice'}, 'sample_positions': [{'prefix': 'powdertransfer_vial_position', 'number': '1'}, {'prefix': 'filled_vial_rack', 'number': '1'}]}, {'device': {'identifier': 'name', 'content': 'arm_characterization'}, 'sample_positions': []}]),\n",
       "       list([{'device': {'identifier': 'name', 'content': 'dispenser_xrd'}, 'sample_positions': []}]),\n",
       "       list([{'device': {'identifier': 'type', 'content': 'CapDispenser'}, 'sample_positions': []}, {'device': {'identifier': 'type', 'content': 'CappingGripper'}, 'sample_positions': [{'prefix': 'slot', 'number': '1'}]}, {'device': {'identifier': 'name', 'content': 'scale'}, 'sample_positions': [{'prefix': 'slot', 'number': '1'}]}, {'device': {'identifier': 'name', 'content': 'dispenser_xrd'}, 'sample_positions': []}, {'device': {'identifier': '__nodevice', 'content': '__nodevice'}, 'sample_positions': [{'prefix': 'powdertransfer_vial_position', 'number': '1'}, {'prefix': 'powdertransfer_xrd_position', 'number': '1'}, {'prefix': 'cap_position', 'number': '2'}, {'prefix': 'filled_vial_rack', 'number': '1'}]}]),\n",
       "       list([{'device': {'identifier': 'type', 'content': 'RobotArmCharacterization'}, 'sample_positions': []}]),\n",
       "       list([{'device': {'identifier': '__nodevice', 'content': '__nodevice'}, 'sample_positions': [{'prefix': 'filled_vial_rack', 'number': '1'}, {'prefix': 'powdertransfer_vial_position', 'number': '1'}]}, {'device': {'identifier': 'name', 'content': 'arm_characterization'}, 'sample_positions': []}]),\n",
       "       list([{'device': {'identifier': '__nodevice', 'content': '__nodevice'}, 'sample_positions': [{'prefix': 'powdertransfer_vial_position', 'number': '1'}, {'prefix': 'filled_vial_rack', 'number': '1'}]}, {'device': {'identifier': 'name', 'content': 'arm_characterization'}, 'sample_positions': []}]),\n",
       "       list([{'device': {'identifier': 'type', 'content': 'Diffractometer'}, 'sample_positions': []}]),\n",
       "       list([{'device': {'identifier': 'type', 'content': 'RobotArmCharacterization'}, 'sample_positions': []}]),\n",
       "       list([{'device': {'identifier': 'type', 'content': 'RobotArmCharacterization'}, 'sample_positions': []}, {'device': {'identifier': 'name', 'content': 'dispenser_xrd'}, 'sample_positions': []}]),\n",
       "       list([{'device': {'identifier': 'type', 'content': 'BoxFurnace'}, 'sample_positions': [{'prefix': 'slot', 'number': '8'}]}]),\n",
       "       list([{'device': {'identifier': 'type', 'content': 'RobotArmFurnaces'}, 'sample_positions': []}, {'device': {'identifier': 'name', 'content': 'labmanquadrant_1'}, 'sample_positions': []}]),\n",
       "       list([{'device': {'identifier': 'name', 'content': 'labmanquadrant_1'}, 'sample_positions': [{'prefix': 'crucible/SubRackA', 'number': '1'}]}, {'device': {'identifier': 'name', 'content': 'box_a'}, 'sample_positions': [{'prefix': 'slot', 'number': '1'}]}, {'device': {'identifier': 'name', 'content': 'arm_furnaces'}, 'sample_positions': []}]),\n",
       "       list([{'device': {'identifier': 'name', 'content': 'labmanquadrant_1'}, 'sample_positions': [{'prefix': 'crucible/SubRackB', 'number': '1'}]}, {'device': {'identifier': 'name', 'content': 'box_a'}, 'sample_positions': [{'prefix': 'slot', 'number': '1'}]}, {'device': {'identifier': 'name', 'content': 'arm_furnaces'}, 'sample_positions': []}]),\n",
       "       list([{'device': {'identifier': 'name', 'content': 'labmanquadrant_1'}, 'sample_positions': [{'prefix': 'crucible/SubRackB', 'number': '1'}]}, {'device': {'identifier': 'name', 'content': 'box_a'}, 'sample_positions': [{'prefix': 'slot', 'number': '1'}]}, {'device': {'identifier': 'name', 'content': 'arm_furnaces'}, 'sample_positions': []}]),\n",
       "       list([{'device': {'identifier': 'name', 'content': 'labmanquadrant_1'}, 'sample_positions': [{'prefix': 'crucible/SubRackA', 'number': '1'}]}, {'device': {'identifier': 'name', 'content': 'box_a'}, 'sample_positions': [{'prefix': 'slot', 'number': '1'}]}, {'device': {'identifier': 'name', 'content': 'arm_furnaces'}, 'sample_positions': []}]),\n",
       "       list([{'device': {'identifier': 'name', 'content': 'labmanquadrant_1'}, 'sample_positions': [{'prefix': 'crucible/SubRackA', 'number': '1'}]}, {'device': {'identifier': 'name', 'content': 'box_a'}, 'sample_positions': [{'prefix': 'slot', 'number': '1'}]}, {'device': {'identifier': 'name', 'content': 'arm_furnaces'}, 'sample_positions': []}]),\n",
       "       list([{'device': {'identifier': 'name', 'content': 'labmanquadrant_1'}, 'sample_positions': [{'prefix': 'crucible/SubRackB', 'number': '1'}]}, {'device': {'identifier': 'name', 'content': 'box_a'}, 'sample_positions': [{'prefix': 'slot', 'number': '1'}]}, {'device': {'identifier': 'name', 'content': 'arm_furnaces'}, 'sample_positions': []}]),\n",
       "       list([{'device': {'identifier': 'name', 'content': 'labmanquadrant_1'}, 'sample_positions': [{'prefix': 'crucible/SubRackA', 'number': '1'}]}, {'device': {'identifier': 'name', 'content': 'box_a'}, 'sample_positions': [{'prefix': 'slot', 'number': '1'}]}, {'device': {'identifier': 'name', 'content': 'arm_furnaces'}, 'sample_positions': []}]),\n",
       "       list([{'device': {'identifier': 'name', 'content': 'labmanquadrant_1'}, 'sample_positions': [{'prefix': 'crucible/SubRackB', 'number': '1'}]}, {'device': {'identifier': 'name', 'content': 'box_a'}, 'sample_positions': [{'prefix': 'slot', 'number': '1'}]}, {'device': {'identifier': 'name', 'content': 'arm_furnaces'}, 'sample_positions': []}])],\n",
       "      dtype=object)"
      ]
     },
     "execution_count": 79,
     "metadata": {},
     "output_type": "execute_result"
    }
   ],
   "source": [
    "rdf[\"request\"].values"
   ]
  },
  {
   "cell_type": "code",
   "execution_count": null,
   "metadata": {},
   "outputs": [],
   "source": []
  }
 ],
 "metadata": {
  "kernelspec": {
   "display_name": "alab",
   "language": "python",
   "name": "python3"
  },
  "language_info": {
   "codemirror_mode": {
    "name": "ipython",
    "version": 3
   },
   "file_extension": ".py",
   "mimetype": "text/x-python",
   "name": "python",
   "nbconvert_exporter": "python",
   "pygments_lexer": "ipython3",
   "version": "3.8.13"
  },
  "orig_nbformat": 4
 },
 "nbformat": 4,
 "nbformat_minor": 2
}
