{
 "cells": [
  {
   "cell_type": "code",
   "execution_count": 4,
   "id": "22c38180-7c2b-4e11-9652-deb4c48b2011",
   "metadata": {},
   "outputs": [],
   "source": [
    "from bs4 import BeautifulSoup\n",
    "import requests\n",
    "from tqdm import tqdm\n",
    "import json"
   ]
  },
  {
   "cell_type": "code",
   "execution_count": 154,
   "id": "946f7632-5e4a-4800-bf3a-00b25e040844",
   "metadata": {},
   "outputs": [],
   "source": [
    "!mkdir pic"
   ]
  },
  {
   "cell_type": "code",
   "execution_count": 23,
   "id": "6e194a01-e586-4912-898e-54f55b2468bb",
   "metadata": {},
   "outputs": [],
   "source": [
    "headers = {'User-Agent': 'Mozilla/5.0 (Windows NT 6.1; WOW64) AppleWebKit/537.36 (KHTML, like Gecko) Chrome/56.0.2924.76 Safari/537.36',\n",
    "           'Referer':'https://www.motomalaysia.com/'}\n",
    "url = \"https://www.motomalaysia.com/suzuki-gsx-s1000gt-2022-price-specs-malaysia/\""
   ]
  },
  {
   "cell_type": "code",
   "execution_count": 24,
   "id": "34049eab-e57f-4590-ac1b-341fb4318b24",
   "metadata": {},
   "outputs": [],
   "source": [
    "r = requests.get(url,headers = headers)\n",
    "soup = BeautifulSoup(r.content, \"html.parser\")"
   ]
  },
  {
   "cell_type": "code",
   "execution_count": 15,
   "id": "f51cef6e-787d-4587-a3d0-be24fcfdf3fb",
   "metadata": {},
   "outputs": [],
   "source": [
    "attr = {}\n",
    "model_name = soup.find('h1' ,{'class': 'entry-title'}).text\n",
    "attr['model_name'] = model_name"
   ]
  },
  {
   "cell_type": "code",
   "execution_count": 18,
   "id": "85f7c399-88fc-453a-98d0-1695069677bc",
   "metadata": {},
   "outputs": [],
   "source": [
    "overview = soup.find('div' ,{'class': 'textdesc2'}).find_all('p')\n",
    "overviews = [] \n",
    "for i in overview:\n",
    "    overviews.append(i.text)\n",
    "attr['overviews'] = overviews\n"
   ]
  },
  {
   "cell_type": "code",
   "execution_count": 39,
   "id": "dfca79a0-3b2d-4cca-9521-b05b25fa79d9",
   "metadata": {},
   "outputs": [
    {
     "data": {
      "text/plain": [
       "{'model_name': 'Suzuki GSX-S1000GT (2022)',\n",
       " 'overviews': ['Suzuki GSX-S1000GT is a sport-touring motorcycle priced at RM85,700 in Malaysia excluded insurance, road tax, and registration. It comes with a sporty design with luggage suitable for riders who like to travel long distances.',\n",
       "  'Suzuki GSX-S1000GT 2022 features a 999 cc inline-four cylinder engine that produces 152 PS at 11,000 rpm and 106 Nm of torque at 9,250 rpm. The bike also comes with 6.5-inch TFT colour meter display with smartphone connectivity, Traction Control System (TCS), Suzuki Drive Mode Selector (SDMS), Cruised Control System and ABS.'],\n",
       " 'costs': ['Price : RM 85,700',\n",
       "  'Monthly (5 Years) : RM 1520',\n",
       "  'Monthly (7 Years) : RM 1150',\n",
       "  'Monthly (9 Years) : RM 940']}"
      ]
     },
     "execution_count": 39,
     "metadata": {},
     "output_type": "execute_result"
    }
   ],
   "source": [
    "cost = soup.find('table' ,{'id': 'isipost'}).find_all('td', {'class': 'lapistengah'})\n",
    "\n",
    "costs = [f\"Price : {cost[0].text}\", f\"Monthly (5 Years) : {cost[1].text}\", f\"Monthly (7 Years) : {cost[2].text}\", f\"Monthly (9 Years) : {cost[3].text}\"]\n",
    "\n",
    "attr['costs'] = costs\n",
    "attr"
   ]
  },
  {
   "cell_type": "code",
   "execution_count": 47,
   "id": "36bdbebd-aa52-4732-a1b0-2e3fa023b1fd",
   "metadata": {},
   "outputs": [
    {
     "ename": "SyntaxError",
     "evalue": "unexpected EOF while parsing (3060821001.py, line 2)",
     "output_type": "error",
     "traceback": [
      "\u001b[0;36m  Cell \u001b[0;32mIn[47], line 2\u001b[0;36m\u001b[0m\n\u001b[0;31m    # print(i.text)\u001b[0m\n\u001b[0m                   ^\u001b[0m\n\u001b[0;31mSyntaxError\u001b[0m\u001b[0;31m:\u001b[0m unexpected EOF while parsing\n"
     ]
    }
   ],
   "source": [
    "for i in soup.find('table', {'class': 'specscsstable varianmodel'}).find_all('td', {'class': 'lapissatu'}):\n",
    "    # print(i.text)"
   ]
  },
  {
   "cell_type": "code",
   "execution_count": 143,
   "id": "870ae7fd-75fb-4c81-8d23-5fa8abc9cff2",
   "metadata": {},
   "outputs": [],
   "source": [
    "name_list = []\n",
    "for i in soup.find('table', {'class': 'specscsstable varianmodel'}).find_all('td', {'class': 'lapissatu'}):\n",
    "    name_list.append(i.text)\n",
    "\n",
    "value_list = []\n",
    "for i in soup.find('table', {'class': 'specscsstable varianmodel'}).find_all('td'):\n",
    "    if i.get('class') == None:\n",
    "        value_list.append(i.text)"
   ]
  },
  {
   "cell_type": "code",
   "execution_count": 145,
   "id": "58792f7c-c578-404c-840e-17747593cb12",
   "metadata": {},
   "outputs": [],
   "source": [
    "combined_list = []\n",
    "for name, value in zip(name_list, value_list):\n",
    "    combined_list.append(f\"{name}: {value}\")\n",
    "\n",
    "combined_list\n",
    "attr['specs'] = combined_list"
   ]
  },
  {
   "cell_type": "code",
   "execution_count": 147,
   "id": "f107eb11-858b-4e0c-9fc6-190bbb100c3d",
   "metadata": {},
   "outputs": [],
   "source": [
    "# attr"
   ]
  },
  {
   "cell_type": "code",
   "execution_count": 181,
   "id": "63f65570-ab31-445b-b45d-6915b47d14db",
   "metadata": {},
   "outputs": [
    {
     "data": {
      "text/plain": [
       "['Price', 'Monthly (5 Years) ', 'Monthly (7 Years) ', 'Monthly (9 Years) ']"
      ]
     },
     "execution_count": 181,
     "metadata": {},
     "output_type": "execute_result"
    }
   ],
   "source": [
    "prices_name = []\n",
    "for i in soup.find('table' ,{'id': 'isipost'}).find_all('th'):\n",
    "    if i.get('id') == 'bghitam':\n",
    "        continue\n",
    "    else:\n",
    "        prices_name.append((i.text).replace('\\n', ' '))\n",
    "\n",
    "prices_name"
   ]
  },
  {
   "cell_type": "code",
   "execution_count": 182,
   "id": "8bde895a-c076-4707-a0e6-def3fded5f89",
   "metadata": {},
   "outputs": [
    {
     "data": {
      "text/plain": [
       "['RM 85,700', 'RM 1520', 'RM 1150', 'RM 940']"
      ]
     },
     "execution_count": 182,
     "metadata": {},
     "output_type": "execute_result"
    }
   ],
   "source": [
    "prices_value = []\n",
    "for i in soup.find('table' ,{'id': 'isipost'}).find_all('td', {'class': 'lapistengah'}):\n",
    "    prices_value.append(i.text)\n",
    "prices_value"
   ]
  },
  {
   "cell_type": "code",
   "execution_count": 185,
   "id": "cf539222-f749-4d8c-8f1c-d8ebbb2c0ba9",
   "metadata": {},
   "outputs": [
    {
     "data": {
      "text/plain": [
       "['Price: RM 85,700',\n",
       " 'Monthly (5 Years) : RM 1520',\n",
       " 'Monthly (7 Years) : RM 1150',\n",
       " 'Monthly (9 Years) : RM 940']"
      ]
     },
     "execution_count": 185,
     "metadata": {},
     "output_type": "execute_result"
    }
   ],
   "source": [
    "combined_list_price = [] \n",
    "for name, value in zip(prices_name, prices_value):\n",
    "        combined_list_price.append(f\"{name}: {value}\")\n",
    "\n",
    "combined_list_price"
   ]
  },
  {
   "cell_type": "code",
   "execution_count": 217,
   "id": "d990f257-0322-43b8-abf7-fea80bbb8c4c",
   "metadata": {},
   "outputs": [],
   "source": [
    "headers = {'User-Agent': 'Mozilla/5.0 (Windows NT 6.1; WOW64) AppleWebKit/537.36 (KHTML, like Gecko) Chrome/56.0.2924.76 Safari/537.36',\n",
    "           'Referer':'https://www.motomalaysia.com/'}\n",
    "url = \"https://www.motomalaysia.com/honda-ex5-fi-price-specs-malaysia/\"\n",
    "\n",
    "r = requests.get(url,headers = headers)\n",
    "soup = BeautifulSoup(r.content, \"html.parser\")\n",
    "\n",
    "attr = {}\n",
    "model_name = soup.find('h1' ,{'class': 'entry-title'}).text\n",
    "attr['model_name'] = model_name\n",
    "\n",
    "overview = soup.find('div' ,{'class': 'textdesc2'}).find_all('p')\n",
    "overviews = [] \n",
    "\n",
    "for i in overview:\n",
    "    overviews.append(i.text)\n",
    "attr['overviews'] = overviews\n",
    "\n",
    "prices_name = []\n",
    "for i in soup.find('table' ,{'id': 'isipost'}).find_all('th'):\n",
    "    if i.get('id') == 'bghitam':\n",
    "        continue\n",
    "    else:\n",
    "        prices_name.append((i.text).replace('\\n', ' '))\n",
    "        \n",
    "prices_value = []\n",
    "for i in soup.find('table' ,{'id': 'isipost'}).find_all('td', {'class': 'lapistengah'}):\n",
    "    prices_value.append(i.text)\n",
    "\n",
    "combined_list_price = [] \n",
    "for name, value in zip(prices_name, prices_value):\n",
    "        combined_list_price.append(f\"{name}: {value}\")\n",
    "\n",
    "try:\n",
    "    name_list = []\n",
    "    for i in soup.find('table', {'class': 'specscsstable varianmodel'}).find_all('td', {'class': 'lapissatu'}):\n",
    "        name_list.append(i.text)\n",
    "except:\n",
    "    val = soup.find_all('table', {'id': 'isipost'})\n",
    "    for i in val[1].find_all('td', {'class': 'lapissatu'}):\n",
    "        name_list.append(i.text)\n",
    "\n",
    "try:\n",
    "    value_list = []\n",
    "    for i in soup.find('table', {'class': 'specscsstable varianmodel'}).find_all('td'):\n",
    "        if i.get('class') == None:\n",
    "            value_list.append(i.text)\n",
    "except:\n",
    "    val = soup.find_all('table', {'id': 'isipost'})\n",
    "    for i in val[1].find_all('td'):\n",
    "        if i.get('class') == None:\n",
    "            value_list.append(i.text)\n",
    "\n",
    "combined_list = []\n",
    "for name, value in zip(name_list, value_list):\n",
    "    combined_list.append(f\"{name}: {value}\")\n",
    "\n",
    "attr['specs'] = combined_list"
   ]
  },
  {
   "cell_type": "code",
   "execution_count": 218,
   "id": "64e413b2-9b4e-4231-906c-0479ac01ce8f",
   "metadata": {},
   "outputs": [
    {
     "data": {
      "text/plain": [
       "{'model_name': 'Honda EX5 Fi (2017)',\n",
       " 'overviews': ['Honda EX5 Fi is a budget moped bike from Honda for those who need affordable motorcycles and the more economical fuel consumption. The bike has latest all-new design with 1923 x 696 x 1046 mm dimension, 99 kg weight and 4.3 Liters fuel tank capacity. Honda EX5 Fi is available in three colors – Red, Black, and Blue. The Honda EX5 Fi powered by a 4-Stroke, SOHC, 1-Cylinder, 109 CC engine produced 6.37 kW power at 7,500 RPM and 8.62 Nm of torque at 6,000 RPM. It also comes with fuel injection system for more economical fuel consumption. The Honda EX5 Fi price in Malaysia is starting RM4,906.74 for kick starter model while electric starter priced from RM5,150.54. For Honda EX5 Fi with 5-Spoke sports rim priced from RM5,404.94.'],\n",
       " 'specs': ['Manufacturer: Honda',\n",
       "  'Model: 2017',\n",
       "  'Type: Underbone',\n",
       "  'Colour Available: \\n\\n███\\xa0–\\xa0Red\\n███\\xa0–\\xa0Black\\n███\\xa0–\\xa0Blue\\n\\n',\n",
       "  'Dimension: 1923 x 696 x 1046 mm',\n",
       "  'Wheelbase: 1212 mm',\n",
       "  'Weight: 99 kg',\n",
       "  'Seat Height: –',\n",
       "  'Ground Clearance: –',\n",
       "  'Meter Display: \\n\\nAnalog – Speedometer, Fuel Gauge\\n\\n',\n",
       "  'Competitors: [compare]',\n",
       "  'Engine: 4-Stroke, SOHC',\n",
       "  'Displacement: 109 CC',\n",
       "  'No Of Cylinders: 1-Cylinder',\n",
       "  'Compression Ratio: 9.3 : 1',\n",
       "  'Bore x Stroke: 50.0 x 55.60 mm',\n",
       "  'Max Power: 6.37 kW @\\xa07,500 RPM',\n",
       "  'Max Torque: 8.62 Nm\\xa0 @ 6,000 RPM',\n",
       "  'Top Speed: 100 – 105 km/j.',\n",
       "  'Transmission: 4-Speed',\n",
       "  'Clutch: Wet, Centrifugal Plate',\n",
       "  'Ignition System: Full Transistor',\n",
       "  'Starting System: Kick & Electric Starter',\n",
       "  'Cooling System: Air Cooled',\n",
       "  'Carburetor: –',\n",
       "  'Fuel System: –',\n",
       "  'Fuel Capacity: 4.3 Liters',\n",
       "  'Fuel Consumption: –',\n",
       "  'Oil Capacity: 1.0 Liters',\n",
       "  'Features: –',\n",
       "  'Type: Underbone',\n",
       "  'Front Suspension: Telescopic',\n",
       "  'Rear Suspension: Twin',\n",
       "  'Front Brake: Drum',\n",
       "  'Rear Brake: Drum',\n",
       "  'Front Tire: 70/90-17 M/C 38P',\n",
       "  'Rear\\xa0Tire: 80/90-17 M/C 50P',\n",
       "  'Front\\xa0Wheel: 5-Spoke Rim',\n",
       "  'Rear Wheel: 5-Spoke Rim',\n",
       "  'Under Seat Box: –']}"
      ]
     },
     "execution_count": 218,
     "metadata": {},
     "output_type": "execute_result"
    }
   ],
   "source": [
    "attr"
   ]
  },
  {
   "cell_type": "code",
   "execution_count": 150,
   "id": "e9931ace-eaff-4c57-9265-c9e1db7f58ff",
   "metadata": {},
   "outputs": [
    {
     "data": {
      "text/plain": [
       "{'model_name': 'Suzuki GSX-S1000GT (2022)',\n",
       " 'overviews': ['Suzuki GSX-S1000GT is a sport-touring motorcycle priced at RM85,700 in Malaysia excluded insurance, road tax, and registration. It comes with a sporty design with luggage suitable for riders who like to travel long distances.',\n",
       "  'Suzuki GSX-S1000GT 2022 features a 999 cc inline-four cylinder engine that produces 152 PS at 11,000 rpm and 106 Nm of torque at 9,250 rpm. The bike also comes with 6.5-inch TFT colour meter display with smartphone connectivity, Traction Control System (TCS), Suzuki Drive Mode Selector (SDMS), Cruised Control System and ABS.'],\n",
       " 'costs': ['Price : RM 85,700',\n",
       "  'Monthly (5 Years) : RM 1520',\n",
       "  'Monthly (7 Years) : RM 1150',\n",
       "  'Monthly (9 Years) : RM 940'],\n",
       " 'specs': ['Manufacturer: Suzuki',\n",
       "  'Model: 2022',\n",
       "  'Generation: \\nSuzuki GSX-S1000GT (2022)\\n',\n",
       "  'Type: Sport Bike',\n",
       "  'Colour Available: \\n\\n████\\xa0– Metallic Triton Blue (YSF)\\n████\\xa0– Metallic Reflective Blue (QT8)\\n\\n',\n",
       "  'Dimension: \\n\\nWidth: 825 mm\\nHeight: 1215 mm\\nLength: 2140 mm\\n\\n',\n",
       "  'Wheelbase: 1,460 mm',\n",
       "  'Weight: 215 kg',\n",
       "  'Seat Height: 810 mm',\n",
       "  'Ground Clearance: 140 mm',\n",
       "  'Meter Display: Full Color Meter Panel',\n",
       "  'Lighting: \\n\\nLED Headlight\\nLED Tail Light\\nLED Turn Signal\\n\\n',\n",
       "  'Others: \\n\\nUSB Power Outlet\\n\\n',\n",
       "  'Engine: 4 Stroke, DOHC',\n",
       "  'Displacement: 999 CC',\n",
       "  'No Of Cylinders: 4 Cylinder',\n",
       "  'Compression Ratio: 12.2 : 1',\n",
       "  'Bore x Stroke: 73.4 x 59.0 mm',\n",
       "  'Max Power: 152 PS (150 hp) / 11,000 RPM',\n",
       "  'Max Torque: 106 Nm / 9,250 RPM',\n",
       "  'Top\\xa0 Speed: –',\n",
       "  'Transmission: 6 Speed',\n",
       "  'Clutch: Wet, multi-plate type',\n",
       "  'Ignition System: Electronic Ignition',\n",
       "  'Starting System: Electric Starter',\n",
       "  'Cooling System: Liquid Cooled',\n",
       "  'Fuel System: Fuel injection',\n",
       "  'Fuel Capacity: 19 Liters',\n",
       "  'Fuel Consumption: –',\n",
       "  'Engine Oil Capacity: 3.4 Liters',\n",
       "  'Battery: –',\n",
       "  'Others: \\n\\nTraction Control System (TCS)\\nSuzuki Exhaust Tuning (SET)\\nSuzuki Composite Electrochemical Material (SCEM)\\nSuzuki Advanced Immobilizer System (SAIS)\\nLow RPM Assists\\nSuzuki Easy Start System\\nAntilock Brake System (ABS)\\nRide By Wire\\nBi-Directional Quick Shift System\\nCruised Control System\\nSuzuki Clutch Assists System (SCAS)\\nSuzuki Drive Mode Selector (SDMS)\\nSmartphone Connectivity\\n\\n',\n",
       "  'Type: –',\n",
       "  'Front Suspension: Inverted telescopic, coil spring, oil damped',\n",
       "  'Rear Suspension: Link type, coil spring, oil damped',\n",
       "  'Front Brake: Twin Disc, ABS',\n",
       "  'Rear Brake: Single Disc, ABS',\n",
       "  'Front Tire: 120/70ZR17M/C, tubeless',\n",
       "  'Rear\\xa0Tire: 190/50ZR17M/C, tubeless',\n",
       "  'Rims Type: –',\n",
       "  'Rims Size: –',\n",
       "  'Exhaust System: –',\n",
       "  'Others: –']}"
      ]
     },
     "execution_count": 150,
     "metadata": {},
     "output_type": "execute_result"
    }
   ],
   "source": [
    "attr"
   ]
  },
  {
   "cell_type": "code",
   "execution_count": 159,
   "id": "d86b5a05-757a-4e72-8c05-101e6e326fd4",
   "metadata": {},
   "outputs": [],
   "source": [
    "import os\n",
    "\n",
    "moto_data = []\n",
    "count=0\n",
    "for i in soup.find('table', {'id':'kotakgambar'}).find_all('img'):\n",
    "    img_dict = {}\n",
    "    url = i.get('src')\n",
    "    img_file = os.path.join('pic', f\"{attr['model_name']}_{count}.jpg\")\n",
    "    with open(img_file, 'wb') as fopen:\n",
    "        r = requests.get(url)\n",
    "        fopen.write(r.content)\n",
    "\n",
    "    img_dict['img_url'] = url\n",
    "    img_dict['local_image'] = img_file\n",
    "    img_dict['specs'] = attr\n",
    "    moto_data.append(img_dict)\n",
    "\n",
    "# moto_data"
   ]
  },
  {
   "cell_type": "code",
   "execution_count": 158,
   "id": "fb3fd884-349b-4c67-83a1-f44529107c29",
   "metadata": {},
   "outputs": [],
   "source": [
    "# moto_data[1]"
   ]
  },
  {
   "cell_type": "code",
   "execution_count": null,
   "id": "26836a04-1a26-4af0-be0d-a1f4f04bac3e",
   "metadata": {},
   "outputs": [],
   "source": []
  },
  {
   "cell_type": "code",
   "execution_count": null,
   "id": "7b673ff4-02b3-43fe-b9f7-5eec433a866e",
   "metadata": {},
   "outputs": [],
   "source": []
  },
  {
   "cell_type": "code",
   "execution_count": null,
   "id": "faa7c6ff-b001-4102-aa97-2b85bc28dedb",
   "metadata": {},
   "outputs": [],
   "source": []
  },
  {
   "cell_type": "code",
   "execution_count": 162,
   "id": "ec381514-97ac-4626-9148-b1a9f3de827a",
   "metadata": {},
   "outputs": [
    {
     "data": {
      "text/plain": [
       "[{'img_url': 'https://www.motomalaysia.com/wp-content/uploads/2022/12/gsxs1000gt-1.jpg',\n",
       "  'local_image': 'pic/Suzuki GSX-S1000GT (2022)_0.jpg',\n",
       "  'specs': {'model_name': 'Suzuki GSX-S1000GT (2022)',\n",
       "   'overviews': ['Suzuki GSX-S1000GT is a sport-touring motorcycle priced at RM85,700 in Malaysia excluded insurance, road tax, and registration. It comes with a sporty design with luggage suitable for riders who like to travel long distances.',\n",
       "    'Suzuki GSX-S1000GT 2022 features a 999 cc inline-four cylinder engine that produces 152 PS at 11,000 rpm and 106 Nm of torque at 9,250 rpm. The bike also comes with 6.5-inch TFT colour meter display with smartphone connectivity, Traction Control System (TCS), Suzuki Drive Mode Selector (SDMS), Cruised Control System and ABS.'],\n",
       "   'costs': ['Price : RM 85,700',\n",
       "    'Monthly (5 Years) : RM 1520',\n",
       "    'Monthly (7 Years) : RM 1150',\n",
       "    'Monthly (9 Years) : RM 940'],\n",
       "   'specs': ['Manufacturer: Suzuki',\n",
       "    'Model: 2022',\n",
       "    'Generation: \\nSuzuki GSX-S1000GT (2022)\\n',\n",
       "    'Type: Sport Bike',\n",
       "    'Colour Available: \\n\\n████\\xa0– Metallic Triton Blue (YSF)\\n████\\xa0– Metallic Reflective Blue (QT8)\\n\\n',\n",
       "    'Dimension: \\n\\nWidth: 825 mm\\nHeight: 1215 mm\\nLength: 2140 mm\\n\\n',\n",
       "    'Wheelbase: 1,460 mm',\n",
       "    'Weight: 215 kg',\n",
       "    'Seat Height: 810 mm',\n",
       "    'Ground Clearance: 140 mm',\n",
       "    'Meter Display: Full Color Meter Panel',\n",
       "    'Lighting: \\n\\nLED Headlight\\nLED Tail Light\\nLED Turn Signal\\n\\n',\n",
       "    'Others: \\n\\nUSB Power Outlet\\n\\n',\n",
       "    'Engine: 4 Stroke, DOHC',\n",
       "    'Displacement: 999 CC',\n",
       "    'No Of Cylinders: 4 Cylinder',\n",
       "    'Compression Ratio: 12.2 : 1',\n",
       "    'Bore x Stroke: 73.4 x 59.0 mm',\n",
       "    'Max Power: 152 PS (150 hp) / 11,000 RPM',\n",
       "    'Max Torque: 106 Nm / 9,250 RPM',\n",
       "    'Top\\xa0 Speed: –',\n",
       "    'Transmission: 6 Speed',\n",
       "    'Clutch: Wet, multi-plate type',\n",
       "    'Ignition System: Electronic Ignition',\n",
       "    'Starting System: Electric Starter',\n",
       "    'Cooling System: Liquid Cooled',\n",
       "    'Fuel System: Fuel injection',\n",
       "    'Fuel Capacity: 19 Liters',\n",
       "    'Fuel Consumption: –',\n",
       "    'Engine Oil Capacity: 3.4 Liters',\n",
       "    'Battery: –',\n",
       "    'Others: \\n\\nTraction Control System (TCS)\\nSuzuki Exhaust Tuning (SET)\\nSuzuki Composite Electrochemical Material (SCEM)\\nSuzuki Advanced Immobilizer System (SAIS)\\nLow RPM Assists\\nSuzuki Easy Start System\\nAntilock Brake System (ABS)\\nRide By Wire\\nBi-Directional Quick Shift System\\nCruised Control System\\nSuzuki Clutch Assists System (SCAS)\\nSuzuki Drive Mode Selector (SDMS)\\nSmartphone Connectivity\\n\\n',\n",
       "    'Type: –',\n",
       "    'Front Suspension: Inverted telescopic, coil spring, oil damped',\n",
       "    'Rear Suspension: Link type, coil spring, oil damped',\n",
       "    'Front Brake: Twin Disc, ABS',\n",
       "    'Rear Brake: Single Disc, ABS',\n",
       "    'Front Tire: 120/70ZR17M/C, tubeless',\n",
       "    'Rear\\xa0Tire: 190/50ZR17M/C, tubeless',\n",
       "    'Rims Type: –',\n",
       "    'Rims Size: –',\n",
       "    'Exhaust System: –',\n",
       "    'Others: –']}},\n",
       " {'img_url': 'https://www.motomalaysia.com/wp-content/uploads/2022/12/gsxs1000gt-2.jpg',\n",
       "  'local_image': 'pic/Suzuki GSX-S1000GT (2022)_1.jpg',\n",
       "  'specs': {'model_name': 'Suzuki GSX-S1000GT (2022)',\n",
       "   'overviews': ['Suzuki GSX-S1000GT is a sport-touring motorcycle priced at RM85,700 in Malaysia excluded insurance, road tax, and registration. It comes with a sporty design with luggage suitable for riders who like to travel long distances.',\n",
       "    'Suzuki GSX-S1000GT 2022 features a 999 cc inline-four cylinder engine that produces 152 PS at 11,000 rpm and 106 Nm of torque at 9,250 rpm. The bike also comes with 6.5-inch TFT colour meter display with smartphone connectivity, Traction Control System (TCS), Suzuki Drive Mode Selector (SDMS), Cruised Control System and ABS.'],\n",
       "   'costs': ['Price : RM 85,700',\n",
       "    'Monthly (5 Years) : RM 1520',\n",
       "    'Monthly (7 Years) : RM 1150',\n",
       "    'Monthly (9 Years) : RM 940'],\n",
       "   'specs': ['Manufacturer: Suzuki',\n",
       "    'Model: 2022',\n",
       "    'Generation: \\nSuzuki GSX-S1000GT (2022)\\n',\n",
       "    'Type: Sport Bike',\n",
       "    'Colour Available: \\n\\n████\\xa0– Metallic Triton Blue (YSF)\\n████\\xa0– Metallic Reflective Blue (QT8)\\n\\n',\n",
       "    'Dimension: \\n\\nWidth: 825 mm\\nHeight: 1215 mm\\nLength: 2140 mm\\n\\n',\n",
       "    'Wheelbase: 1,460 mm',\n",
       "    'Weight: 215 kg',\n",
       "    'Seat Height: 810 mm',\n",
       "    'Ground Clearance: 140 mm',\n",
       "    'Meter Display: Full Color Meter Panel',\n",
       "    'Lighting: \\n\\nLED Headlight\\nLED Tail Light\\nLED Turn Signal\\n\\n',\n",
       "    'Others: \\n\\nUSB Power Outlet\\n\\n',\n",
       "    'Engine: 4 Stroke, DOHC',\n",
       "    'Displacement: 999 CC',\n",
       "    'No Of Cylinders: 4 Cylinder',\n",
       "    'Compression Ratio: 12.2 : 1',\n",
       "    'Bore x Stroke: 73.4 x 59.0 mm',\n",
       "    'Max Power: 152 PS (150 hp) / 11,000 RPM',\n",
       "    'Max Torque: 106 Nm / 9,250 RPM',\n",
       "    'Top\\xa0 Speed: –',\n",
       "    'Transmission: 6 Speed',\n",
       "    'Clutch: Wet, multi-plate type',\n",
       "    'Ignition System: Electronic Ignition',\n",
       "    'Starting System: Electric Starter',\n",
       "    'Cooling System: Liquid Cooled',\n",
       "    'Fuel System: Fuel injection',\n",
       "    'Fuel Capacity: 19 Liters',\n",
       "    'Fuel Consumption: –',\n",
       "    'Engine Oil Capacity: 3.4 Liters',\n",
       "    'Battery: –',\n",
       "    'Others: \\n\\nTraction Control System (TCS)\\nSuzuki Exhaust Tuning (SET)\\nSuzuki Composite Electrochemical Material (SCEM)\\nSuzuki Advanced Immobilizer System (SAIS)\\nLow RPM Assists\\nSuzuki Easy Start System\\nAntilock Brake System (ABS)\\nRide By Wire\\nBi-Directional Quick Shift System\\nCruised Control System\\nSuzuki Clutch Assists System (SCAS)\\nSuzuki Drive Mode Selector (SDMS)\\nSmartphone Connectivity\\n\\n',\n",
       "    'Type: –',\n",
       "    'Front Suspension: Inverted telescopic, coil spring, oil damped',\n",
       "    'Rear Suspension: Link type, coil spring, oil damped',\n",
       "    'Front Brake: Twin Disc, ABS',\n",
       "    'Rear Brake: Single Disc, ABS',\n",
       "    'Front Tire: 120/70ZR17M/C, tubeless',\n",
       "    'Rear\\xa0Tire: 190/50ZR17M/C, tubeless',\n",
       "    'Rims Type: –',\n",
       "    'Rims Size: –',\n",
       "    'Exhaust System: –',\n",
       "    'Others: –']}},\n",
       " {'img_url': 'https://www.motomalaysia.com/wp-content/uploads/2022/12/gsxs1000gt-3.jpg',\n",
       "  'local_image': 'pic/Suzuki GSX-S1000GT (2022)_2.jpg',\n",
       "  'specs': {'model_name': 'Suzuki GSX-S1000GT (2022)',\n",
       "   'overviews': ['Suzuki GSX-S1000GT is a sport-touring motorcycle priced at RM85,700 in Malaysia excluded insurance, road tax, and registration. It comes with a sporty design with luggage suitable for riders who like to travel long distances.',\n",
       "    'Suzuki GSX-S1000GT 2022 features a 999 cc inline-four cylinder engine that produces 152 PS at 11,000 rpm and 106 Nm of torque at 9,250 rpm. The bike also comes with 6.5-inch TFT colour meter display with smartphone connectivity, Traction Control System (TCS), Suzuki Drive Mode Selector (SDMS), Cruised Control System and ABS.'],\n",
       "   'costs': ['Price : RM 85,700',\n",
       "    'Monthly (5 Years) : RM 1520',\n",
       "    'Monthly (7 Years) : RM 1150',\n",
       "    'Monthly (9 Years) : RM 940'],\n",
       "   'specs': ['Manufacturer: Suzuki',\n",
       "    'Model: 2022',\n",
       "    'Generation: \\nSuzuki GSX-S1000GT (2022)\\n',\n",
       "    'Type: Sport Bike',\n",
       "    'Colour Available: \\n\\n████\\xa0– Metallic Triton Blue (YSF)\\n████\\xa0– Metallic Reflective Blue (QT8)\\n\\n',\n",
       "    'Dimension: \\n\\nWidth: 825 mm\\nHeight: 1215 mm\\nLength: 2140 mm\\n\\n',\n",
       "    'Wheelbase: 1,460 mm',\n",
       "    'Weight: 215 kg',\n",
       "    'Seat Height: 810 mm',\n",
       "    'Ground Clearance: 140 mm',\n",
       "    'Meter Display: Full Color Meter Panel',\n",
       "    'Lighting: \\n\\nLED Headlight\\nLED Tail Light\\nLED Turn Signal\\n\\n',\n",
       "    'Others: \\n\\nUSB Power Outlet\\n\\n',\n",
       "    'Engine: 4 Stroke, DOHC',\n",
       "    'Displacement: 999 CC',\n",
       "    'No Of Cylinders: 4 Cylinder',\n",
       "    'Compression Ratio: 12.2 : 1',\n",
       "    'Bore x Stroke: 73.4 x 59.0 mm',\n",
       "    'Max Power: 152 PS (150 hp) / 11,000 RPM',\n",
       "    'Max Torque: 106 Nm / 9,250 RPM',\n",
       "    'Top\\xa0 Speed: –',\n",
       "    'Transmission: 6 Speed',\n",
       "    'Clutch: Wet, multi-plate type',\n",
       "    'Ignition System: Electronic Ignition',\n",
       "    'Starting System: Electric Starter',\n",
       "    'Cooling System: Liquid Cooled',\n",
       "    'Fuel System: Fuel injection',\n",
       "    'Fuel Capacity: 19 Liters',\n",
       "    'Fuel Consumption: –',\n",
       "    'Engine Oil Capacity: 3.4 Liters',\n",
       "    'Battery: –',\n",
       "    'Others: \\n\\nTraction Control System (TCS)\\nSuzuki Exhaust Tuning (SET)\\nSuzuki Composite Electrochemical Material (SCEM)\\nSuzuki Advanced Immobilizer System (SAIS)\\nLow RPM Assists\\nSuzuki Easy Start System\\nAntilock Brake System (ABS)\\nRide By Wire\\nBi-Directional Quick Shift System\\nCruised Control System\\nSuzuki Clutch Assists System (SCAS)\\nSuzuki Drive Mode Selector (SDMS)\\nSmartphone Connectivity\\n\\n',\n",
       "    'Type: –',\n",
       "    'Front Suspension: Inverted telescopic, coil spring, oil damped',\n",
       "    'Rear Suspension: Link type, coil spring, oil damped',\n",
       "    'Front Brake: Twin Disc, ABS',\n",
       "    'Rear Brake: Single Disc, ABS',\n",
       "    'Front Tire: 120/70ZR17M/C, tubeless',\n",
       "    'Rear\\xa0Tire: 190/50ZR17M/C, tubeless',\n",
       "    'Rims Type: –',\n",
       "    'Rims Size: –',\n",
       "    'Exhaust System: –',\n",
       "    'Others: –']}}]"
      ]
     },
     "execution_count": 162,
     "metadata": {},
     "output_type": "execute_result"
    }
   ],
   "source": [
    "headers = {'User-Agent': 'Mozilla/5.0 (Windows NT 6.1; WOW64) AppleWebKit/537.36 (KHTML, like Gecko) Chrome/56.0.2924.76 Safari/537.36',\n",
    "           'Referer':'https://www.motomalaysia.com/'}\n",
    "url = \"https://www.motomalaysia.com/suzuki-gsx-s1000gt-2022-price-specs-malaysia/\"\n",
    "\n",
    "r = requests.get(url,headers = headers)\n",
    "soup = BeautifulSoup(r.content, \"html.parser\")\n",
    "\n",
    "attr = {}\n",
    "model_name = soup.find('h1' ,{'class': 'entry-title'}).text\n",
    "attr['model_name'] = model_name\n",
    "\n",
    "overview = soup.find('div' ,{'class': 'textdesc2'}).find_all('p')\n",
    "overviews = [] \n",
    "\n",
    "for i in overview:\n",
    "    overviews.append(i.text)\n",
    "attr['overviews'] = overviews\n",
    "\n",
    "cost = soup.find('table' ,{'id': 'isipost'}).find_all('td', {'class': 'lapistengah'})\n",
    "costs = [f\"Price : {cost[0].text}\", f\"Monthly (5 Years) : {cost[1].text}\", f\"Monthly (7 Years) : {cost[2].text}\", f\"Monthly (9 Years) : {cost[3].text}\"]\n",
    "attr['costs'] = costs\n",
    "\n",
    "name_list = []\n",
    "for i in soup.find('table', {'class': 'specscsstable varianmodel'}).find_all('td', {'class': 'lapissatu'}):\n",
    "    name_list.append(i.text)\n",
    "\n",
    "value_list = []\n",
    "for i in soup.find('table', {'class': 'specscsstable varianmodel'}).find_all('td'):\n",
    "    if i.get('class') == None:\n",
    "        value_list.append(i.text)\n",
    "\n",
    "combined_list = []\n",
    "for name, value in zip(name_list, value_list):\n",
    "    combined_list.append(f\"{name}: {value}\")\n",
    "\n",
    "attr['specs'] = combined_list\n",
    "\n",
    "moto_data = []\n",
    "count=0\n",
    "\n",
    "for i in soup.find('table', {'id':'kotakgambar'}).find_all('img'):\n",
    "    img_dict = {}\n",
    "    url = i.get('src')\n",
    "    img_file = os.path.join('pic', f\"{attr['model_name']}_{count}.jpg\")\n",
    "    with open(img_file, 'wb') as fopen:\n",
    "        r = requests.get(url)\n",
    "        fopen.write(r.content)\n",
    "\n",
    "    img_dict['img_url'] = url\n",
    "    img_dict['local_image'] = img_file\n",
    "    img_dict['specs'] = attr\n",
    "    moto_data.append(img_dict)\n",
    "    count += 1\n",
    "\n",
    "moto_data"
   ]
  },
  {
   "cell_type": "code",
   "execution_count": null,
   "id": "69d2894c-1d14-472e-9fe8-f204b0a4b9d3",
   "metadata": {},
   "outputs": [],
   "source": []
  },
  {
   "cell_type": "code",
   "execution_count": 258,
   "id": "3da0ac6e-dde5-4b43-9212-79200007f9bd",
   "metadata": {},
   "outputs": [
    {
     "ename": "NameError",
     "evalue": "name 'strdecode' is not defined",
     "output_type": "error",
     "traceback": [
      "\u001b[0;31m---------------------------------------------------------------------------\u001b[0m",
      "\u001b[0;31mNameError\u001b[0m                                 Traceback (most recent call last)",
      "Cell \u001b[0;32mIn[258], line 2\u001b[0m\n\u001b[1;32m      1\u001b[0m \u001b[38;5;28mstr\u001b[39m \u001b[38;5;241m=\u001b[39m \u001b[38;5;124m\"\u001b[39m\u001b[38;5;124mColour Available: \u001b[39m\u001b[38;5;130;01m\\\\\u001b[39;00m\u001b[38;5;124mn\u001b[39m\u001b[38;5;130;01m\\\\\u001b[39;00m\u001b[38;5;124mn\u001b[39m\u001b[38;5;130;01m\\\\\u001b[39;00m\u001b[38;5;124mu2588\u001b[39m\u001b[38;5;130;01m\\\\\u001b[39;00m\u001b[38;5;124mu2588\u001b[39m\u001b[38;5;130;01m\\\\\u001b[39;00m\u001b[38;5;124mu2588\u001b[39m\u001b[38;5;130;01m\\\\\u001b[39;00m\u001b[38;5;124mu2588\u001b[39m\u001b[38;5;130;01m\\\\\u001b[39;00m\u001b[38;5;124mu00a0\u001b[39m\u001b[38;5;130;01m\\\\\u001b[39;00m\u001b[38;5;124mu2013 Metallic Triton Blue (YSF)\u001b[39m\u001b[38;5;130;01m\\\\\u001b[39;00m\u001b[38;5;124mn\u001b[39m\u001b[38;5;130;01m\\\\\u001b[39;00m\u001b[38;5;124mu2588\u001b[39m\u001b[38;5;130;01m\\\\\u001b[39;00m\u001b[38;5;124mu2588\u001b[39m\u001b[38;5;130;01m\\\\\u001b[39;00m\u001b[38;5;124mu2588\u001b[39m\u001b[38;5;130;01m\\\\\u001b[39;00m\u001b[38;5;124mu2588\u001b[39m\u001b[38;5;130;01m\\\\\u001b[39;00m\u001b[38;5;124mu00a0\u001b[39m\u001b[38;5;130;01m\\\\\u001b[39;00m\u001b[38;5;124mu2013 Metallic Reflective Blue (QT8)\u001b[39m\u001b[38;5;130;01m\\\\\u001b[39;00m\u001b[38;5;124mn\u001b[39m\u001b[38;5;130;01m\\\\\u001b[39;00m\u001b[38;5;124mn\u001b[39m\u001b[38;5;124m\"\u001b[39m\n\u001b[0;32m----> 2\u001b[0m \u001b[43mstrdecode\u001b[49m(\u001b[38;5;124m\"\u001b[39m\u001b[38;5;124municode-escape\u001b[39m\u001b[38;5;124m\"\u001b[39m)\n\u001b[1;32m      4\u001b[0m \u001b[38;5;28mstr\u001b[39m\n",
      "\u001b[0;31mNameError\u001b[0m: name 'strdecode' is not defined"
     ]
    }
   ],
   "source": [
    "str = \"Colour Available: \\\\n\\\\n\\\\u2588\\\\u2588\\\\u2588\\\\u2588\\\\u00a0\\\\u2013 Metallic Triton Blue (YSF)\\\\n\\\\u2588\\\\u2588\\\\u2588\\\\u2588\\\\u00a0\\\\u2013 Metallic Reflective Blue (QT8)\\\\n\\\\n\"\n",
    "str.encode()decode(\"unicode-escape\")\n",
    "\n",
    "str"
   ]
  },
  {
   "cell_type": "code",
   "execution_count": 250,
   "id": "46a454d9-6e90-4713-9c61-6dd5a6a6f402",
   "metadata": {},
   "outputs": [
    {
     "data": {
      "text/plain": [
       "'Colour Available: \\\\n\\\\n\\\\u2588\\\\u2588\\\\u2588\\\\u2588\\\\u00a0\\\\u2013 Metallic Triton Blue (YSF)\\\\n\\\\u2588\\\\u2588\\\\u2588\\\\u2588\\\\u00a0\\\\u2013 Metallic Reflective Blue (QT8)\\\\n\\\\n'"
      ]
     },
     "execution_count": 250,
     "metadata": {},
     "output_type": "execute_result"
    }
   ],
   "source": [
    "str = \"Colour Available: \\\\n\\\\n\\\\u2588\\\\u2588\\\\u2588\\\\u2588\\\\u00a0\\\\u2013 Metallic Triton Blue (YSF)\\\\n\\\\u2588\\\\u2588\\\\u2588\\\\u2588\\\\u00a0\\\\u2013 Metallic Reflective Blue (QT8)\\\\n\\\\n\"\n",
    "str.replace('\\\"\\\"', '\\\"') \n",
    "\n",
    "str"
   ]
  },
  {
   "cell_type": "code",
   "execution_count": null,
   "id": "f9358c69-4ff9-407e-9e43-609992b73853",
   "metadata": {},
   "outputs": [],
   "source": []
  },
  {
   "cell_type": "code",
   "execution_count": 291,
   "id": "5221cbb2-f280-444c-a57f-74686abccc08",
   "metadata": {},
   "outputs": [],
   "source": [
    "with open('motomalaysia-data.jsonl') as fopen:\n",
    "    datas = [line.strip().strip('\"') for line in fopen]"
   ]
  },
  {
   "cell_type": "code",
   "execution_count": 292,
   "id": "ade7f9ad-921e-459d-9112-dc8ca6eb83ca",
   "metadata": {},
   "outputs": [
    {
     "data": {
      "text/plain": [
       "'{\"img_url\": \"https://www.motomalaysia.com/wp-content/uploads/2022/12/gsxs1000gt-3.jpg\", \"local_image\": \"pic/Suzuki GSX-S1000GT (2022)_2.jpg\", \"specs\": {\"model_name\": \"Suzuki GSX-S1000GT (2022)\", \"overviews\": [\"Suzuki GSX-S1000GT is a sport-touring motorcycle priced at RM85,700 in Malaysia excluded insurance, road tax, and registration. It comes with a sporty design with luggage suitable for riders who like to travel long distances.\", \"Suzuki GSX-S1000GT 2022 features a 999 cc inline-four cylinder engine that produces 152 PS at 11,000 rpm and 106 Nm of torque at 9,250 rpm. The bike also comes with 6.5-inch TFT colour meter display with smartphone connectivity, Traction Control System (TCS), Suzuki Drive Mode Selector (SDMS), Cruised Control System and ABS.\"], \"specs\": [\"Manufacturer: Suzuki\", \"Model: 2022\", \"Generation: \\\\nSuzuki GSX-S1000GT (2022)\\\\n\", \"Type: Sport Bike\", \"Colour Available: \\\\n\\\\n Metallic Triton Blue (YSF)\\\\n Metallic Reflective Blue (QT8)\\\\n\\\\n\", \"Dimension: \\\\n\\\\nWidth: 825 mm\\\\nHeight: 1215 mm\\\\nLength: 2140 mm\\\\n\\\\n\", \"Wheelbase: 1,460 mm\", \"Weight: 215 kg\", \"Seat Height: 810 mm\", \"Ground Clearance: 140 mm\", \"Meter Display: Full Color Meter Panel\", \"Lighting: \\\\n\\\\nLED Headlight\\\\nLED Tail Light\\\\nLED Turn Signal\\\\n\\\\n\", \"Others: \\\\n\\\\nUSB Power Outlet\\\\n\\\\n\", \"Engine: 4 Stroke, DOHC\", \"Displacement: 999 CC\", \"No Of Cylinders: 4 Cylinder\", \"Compression Ratio: 12.2 : 1\", \"Bore x Stroke: 73.4 x 59.0 mm\", \"Max Power: 152 PS (150 hp) / 11,000 RPM\", \"Max Torque: 106 Nm / 9,250 RPM\", \"Top  Speed: -\", \"Transmission: 6 Speed\", \"Clutch: Wet, multi-plate type\", \"Ignition System: Electronic Ignition\", \"Starting System: Electric Starter\", \"Cooling System: Liquid Cooled\", \"Fuel System: Fuel injection\", \"Fuel Capacity: 19 Liters\", \"Fuel Consumption: -\", \"Engine Oil Capacity: 3.4 Liters\", \"Battery: -\", \"Others: \\\\n\\\\nTraction Control System (TCS)\\\\nSuzuki Exhaust Tuning (SET)\\\\nSuzuki Composite Electrochemical Material (SCEM)\\\\nSuzuki Advanced Immobilizer System (SAIS)\\\\nLow RPM Assists\\\\nSuzuki Easy Start System\\\\nAntilock Brake System (ABS)\\\\nRide By Wire\\\\nBi-Directional Quick Shift System\\\\nCruised Control System\\\\nSuzuki Clutch Assists System (SCAS)\\\\nSuzuki Drive Mode Selector (SDMS)\\\\nSmartphone Connectivity\\\\n\\\\n\", \"Type: -\", \"Front Suspension: Inverted telescopic, coil spring, oil damped\", \"Rear Suspension: Link type, coil spring, oil damped\", \"Front Brake: Twin Disc, ABS\", \"Rear Brake: Single Disc, ABS\", \"Front Tire: 120/70ZR17M/C, tubeless\", \"Rear Tire: 190/50ZR17M/C, tubeless\", \"Rims Type: -\", \"Rims Size: -\", \"Exhaust System: -\", \"Others: -\"]}}'"
      ]
     },
     "execution_count": 292,
     "metadata": {},
     "output_type": "execute_result"
    }
   ],
   "source": [
    "datas[2]"
   ]
  },
  {
   "cell_type": "code",
   "execution_count": 235,
   "id": "7912ad62-eac5-4832-9e17-b8b6bd514338",
   "metadata": {},
   "outputs": [],
   "source": [
    "from unidecode import unidecode"
   ]
  },
  {
   "cell_type": "code",
   "execution_count": 237,
   "id": "06a222a8-8ba9-455c-9336-ded7dc96bcd2",
   "metadata": {},
   "outputs": [
    {
     "data": {
      "text/plain": [
       "'Front Wheel'"
      ]
     },
     "execution_count": 237,
     "metadata": {},
     "output_type": "execute_result"
    }
   ],
   "source": [
    "unidecode('Front\\u00a0Wheel')"
   ]
  },
  {
   "cell_type": "code",
   "execution_count": 227,
   "id": "9ebc54b8-8110-4c8b-a5fc-8c3fa32de080",
   "metadata": {},
   "outputs": [
    {
     "data": {
      "text/plain": [
       "{'model_name': 'KTM 250 Duke (2015)',\n",
       " 'overviews': ['KTM 250 Duke (2015) is 250 CC naked bike suitable for beginners who are interested in superbike world. It has a compact and lightweight design for the relaxed ride. It uses high-quality chassis components and the multi-function display panel to show data including fuel consumption.',\n",
       "  'KTM Duke 250 (2015) powered by 4-Stroke, 1-Cylinder, 248.8 CC engine and produces 31.3 hp power at 9,000 RPM and 24 N.m of torque at 7,250 RPM. The bike also available with fuel injection system and the close-ratio, six-speed transmission to help KTM 250 DUKE to achieve impressive performance and maintaining at low fuel consumption.',\n",
       "  'KTM Duke 250 (2015) price in Malaysia is starting RM17,888 for the basic price not included Roadtax and Insurance.'],\n",
       " 'specs': ['Manufacturer: KTM',\n",
       "  'Model: 2015',\n",
       "  'Type: \\xa0Naked',\n",
       "  'Colour Available: \\n\\n███\\xa0–\\xa0Black/Orange\\n\\n',\n",
       "  'Dimension: –',\n",
       "  'Wheelbase: 1,367 mm',\n",
       "  'Weight: 139 kg',\n",
       "  'Seat Height: 800 mm',\n",
       "  'Ground Clearance: 170 mm',\n",
       "  'Meter Display: –',\n",
       "  'Competitors: [compare]',\n",
       "  'Engine: 4-Stroke',\n",
       "  'Displacement: 248.8 CC',\n",
       "  'No Of Cylinders: 1-Cylinder',\n",
       "  'Compression Ratio: 12.5:1',\n",
       "  'Bore x Stroke: 72 x 61.1 mm',\n",
       "  'Max Power: 31.3 hp / 9,000 RPM',\n",
       "  'Max Torque: 24 N.m / 7,250 RPM',\n",
       "  'Top\\xa0 Speed: –',\n",
       "  'Transmission: 6-speed',\n",
       "  'Clutch: Wet multi-disc/mechanical operated',\n",
       "  'Ignition System: –',\n",
       "  'Starting System: Electric',\n",
       "  'Cooling System: Liquid Cooled',\n",
       "  'Carburetor: –',\n",
       "  'Fuel System: Bosch EFI',\n",
       "  'Fuel Capacity: 13.4 Liters',\n",
       "  'Fuel Consumption: –',\n",
       "  'Oil Capacity: –',\n",
       "  'Features: \\n\\nABS\\n\\n',\n",
       "  'Type: Steel trellis frame',\n",
       "  'Front Suspension: Upside down',\n",
       "  'Rear Suspension: Monoshock',\n",
       "  'Front Brake: Disk',\n",
       "  'Rear Brake: Disk',\n",
       "  'Front Tire: 110/70 ZR 17',\n",
       "  'Rear\\xa0Tire: 150/60 ZR 17',\n",
       "  'Front\\xa0Wheel: –',\n",
       "  'Rear Wheel: –',\n",
       "  'Under Seat Box: –']}"
      ]
     },
     "execution_count": 227,
     "metadata": {},
     "output_type": "execute_result"
    }
   ],
   "source": [
    "headers = {'User-Agent': 'Mozilla/5.0 (Windows NT 6.1; WOW64) AppleWebKit/537.36 (KHTML, like Gecko) Chrome/56.0.2924.76 Safari/537.36',\n",
    "           'Referer':'https://www.motomalaysia.com/'}\n",
    "url = \"https://www.motomalaysia.com/ktm-250-duke-2015-price-specs-malaysia/\"\n",
    "\n",
    "r = requests.get(url,headers = headers)\n",
    "soup = BeautifulSoup(r.content, \"html.parser\")\n",
    "\n",
    "attr = {}\n",
    "model_name = soup.find('h1' ,{'class': 'entry-title'}).text\n",
    "attr['model_name'] = model_name\n",
    "\n",
    "overview = soup.find('div' ,{'class': 'textdesc2'}).find_all('p')\n",
    "overviews = [] \n",
    "\n",
    "for i in overview:\n",
    "    overviews.append(i.text)\n",
    "attr['overviews'] = overviews\n",
    "\n",
    "prices_name = []\n",
    "for i in soup.find('table' ,{'id': 'isipost'}).find_all('th'):\n",
    "    if i.get('id') == 'bghitam':\n",
    "        continue\n",
    "    else:\n",
    "        prices_name.append((i.text).replace('\\n', ' '))\n",
    "        \n",
    "prices_value = []\n",
    "for i in soup.find('table' ,{'id': 'isipost'}).find_all('td', {'class': 'lapistengah'}):\n",
    "    prices_value.append(i.text)\n",
    "\n",
    "combined_list_price = [] \n",
    "for name, value in zip(prices_name, prices_value):\n",
    "        combined_list_price.append(f\"{name}: {value}\")\n",
    "\n",
    "try:\n",
    "    name_list = []\n",
    "    for i in soup.find('table', {'class': 'specscsstable varianmodel'}).find_all('td', {'class': 'lapissatu'}):\n",
    "        name_list.append(i.text)\n",
    "except:\n",
    "    val = soup.find_all('table', {'id': 'isipost'})\n",
    "    for i in val[1].find_all('td', {'class': 'lapissatu'}):\n",
    "        name_list.append(i.text)\n",
    "\n",
    "try:\n",
    "    value_list = []\n",
    "    for i in soup.find('table', {'class': 'specscsstable varianmodel'}).find_all('td'):\n",
    "        if i.get('class') == None:\n",
    "            value_list.append(i.text)\n",
    "except:\n",
    "    val = soup.find_all('table', {'id': 'isipost'})\n",
    "    for i in val[1].find_all('td'):\n",
    "        if i.get('class') == None:\n",
    "            value_list.append(i.text)\n",
    "\n",
    "combined_list = []\n",
    "for name, value in zip(name_list, value_list):\n",
    "    combined_list.append(f\"{name}: {value}\")\n",
    "\n",
    "attr['specs'] = combined_list\n",
    "\n",
    "attr"
   ]
  }
 ],
 "metadata": {
  "kernelspec": {
   "display_name": "Python 3 (ipykernel)",
   "language": "python",
   "name": "python3"
  },
  "language_info": {
   "codemirror_mode": {
    "name": "ipython",
    "version": 3
   },
   "file_extension": ".py",
   "mimetype": "text/x-python",
   "name": "python",
   "nbconvert_exporter": "python",
   "pygments_lexer": "ipython3",
   "version": "3.8.10"
  }
 },
 "nbformat": 4,
 "nbformat_minor": 5
}
