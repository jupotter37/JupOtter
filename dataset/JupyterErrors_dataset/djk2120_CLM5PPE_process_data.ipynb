{
 "cells": [
  {
   "cell_type": "code",
   "execution_count": null,
   "id": "7ab0b437-3f94-4756-b561-8767e79e3c39",
   "metadata": {},
   "outputs": [],
   "source": [
    "### Process model output and save ensemble data"
   ]
  },
  {
   "cell_type": "code",
   "execution_count": 1,
   "id": "42c674f6-61a1-418a-bcef-388439c9863c",
   "metadata": {},
   "outputs": [],
   "source": [
    "import numpy as np\n",
    "import pandas as pd\n",
    "import xarray as xr\n",
    "import glob\n",
    "import matplotlib\n",
    "import matplotlib.pyplot as plt\n",
    "import cftime\n",
    "import dask\n",
    "import statsmodels.api as sm\n",
    "import os\n",
    "import seaborn as sns\n",
    "\n",
    "import warnings\n",
    "warnings.filterwarnings(\"ignore\")"
   ]
  },
  {
   "cell_type": "code",
   "execution_count": 2,
   "id": "5cb7b5d7-c6ec-4365-85ea-d468541eb701",
   "metadata": {},
   "outputs": [
    {
     "ename": "ModuleNotFoundError",
     "evalue": "No module named 'ppe_analysis'",
     "output_type": "error",
     "traceback": [
      "\u001b[0;31m---------------------------------------------------------------------------\u001b[0m",
      "\u001b[0;31mModuleNotFoundError\u001b[0m                       Traceback (most recent call last)",
      "\u001b[0;32m/glade/scratch/linnia/ipykernel_153474/660717037.py\u001b[0m in \u001b[0;36m<module>\u001b[0;34m\u001b[0m\n\u001b[1;32m      1\u001b[0m \u001b[0;31m### import some analysis functions we wrote for this project\u001b[0m\u001b[0;34m\u001b[0m\u001b[0;34m\u001b[0m\u001b[0;34m\u001b[0m\u001b[0m\n\u001b[1;32m      2\u001b[0m \u001b[0;32mimport\u001b[0m \u001b[0msys\u001b[0m \u001b[0;34m;\u001b[0m \u001b[0msys\u001b[0m\u001b[0;34m.\u001b[0m\u001b[0mpath\u001b[0m\u001b[0;34m.\u001b[0m\u001b[0mappend\u001b[0m\u001b[0;34m(\u001b[0m\u001b[0;34m\"../\"\u001b[0m\u001b[0;34m)\u001b[0m \u001b[0;34m;\u001b[0m \u001b[0msys\u001b[0m\u001b[0;34m.\u001b[0m\u001b[0mpath\u001b[0m\u001b[0;34m.\u001b[0m\u001b[0mappend\u001b[0m\u001b[0;34m(\u001b[0m\u001b[0;34m\"../../\"\u001b[0m\u001b[0;34m)\u001b[0m \u001b[0;34m;\u001b[0m \u001b[0msys\u001b[0m\u001b[0;34m.\u001b[0m\u001b[0mpath\u001b[0m\u001b[0;34m.\u001b[0m\u001b[0mappend\u001b[0m\u001b[0;34m(\u001b[0m\u001b[0;34m\"../pyth/\"\u001b[0m\u001b[0;34m)\u001b[0m\u001b[0;34m\u001b[0m\u001b[0;34m\u001b[0m\u001b[0m\n\u001b[0;32m----> 3\u001b[0;31m \u001b[0;32mfrom\u001b[0m \u001b[0mppe_analysis\u001b[0m\u001b[0;34m.\u001b[0m\u001b[0manalysis\u001b[0m \u001b[0;32mimport\u001b[0m \u001b[0;34m*\u001b[0m\u001b[0;34m\u001b[0m\u001b[0;34m\u001b[0m\u001b[0m\n\u001b[0m\u001b[1;32m      4\u001b[0m \u001b[0;32mfrom\u001b[0m \u001b[0mpyfunctions\u001b[0m \u001b[0;32mimport\u001b[0m \u001b[0;34m*\u001b[0m\u001b[0;34m\u001b[0m\u001b[0;34m\u001b[0m\u001b[0m\n\u001b[1;32m      5\u001b[0m \u001b[0;32mfrom\u001b[0m \u001b[0memulation_pyfunctions\u001b[0m \u001b[0;32mimport\u001b[0m \u001b[0;34m*\u001b[0m\u001b[0;34m\u001b[0m\u001b[0;34m\u001b[0m\u001b[0m\n",
      "\u001b[0;31mModuleNotFoundError\u001b[0m: No module named 'ppe_analysis'"
     ]
    }
   ],
   "source": [
    "### import some analysis functions we wrote for this project\n",
    "import sys ; sys.path.append(\"../\") ; sys.path.append(\"../../\") ; sys.path.append(\"../pyth/\")\n",
    "from ppe_analysis.analysis import *\n",
    "from pyfunctions import *\n",
    "from emulation_pyfunctions import *"
   ]
  },
  {
   "cell_type": "code",
   "execution_count": null,
   "id": "959b579d-5a86-4cb8-8bab-4ffbdde3203e",
   "metadata": {},
   "outputs": [],
   "source": [
    "# Setup your PBSCluster\n",
    "import dask\n",
    "from dask_jobqueue import PBSCluster\n",
    "from dask.distributed import Client\n",
    "ncores=1\n",
    "nmem='10GB'\n",
    "cluster = PBSCluster(\n",
    "    cores=ncores, # The number of cores you want\n",
    "    memory=nmem, # Amount of memory\n",
    "    processes=1, # How many processes\n",
    "    queue='casper', # The type of queue to utilize (/glade/u/apps/dav/opt/usr/bin/execcasper)\n",
    "    local_directory='$TMPDIR', # Use your local directory\n",
    "    resource_spec='select=1:ncpus='+str(ncores)+':mem='+nmem, # Specify resources\n",
    "    project='P93300641', # Input your project ID here\n",
    "    walltime='01:00:00', # Amount of wall time\n",
    "    interface='ib0', # Interface to use\n",
    ")\n",
    "\n",
    "# Scale up\n",
    "cluster.scale(20)\n",
    "\n",
    "# Setup your client\n",
    "client = Client(cluster)"
   ]
  },
  {
   "cell_type": "code",
   "execution_count": null,
   "id": "9d2acd8a-5d13-4041-b9e8-e64ed6f3bf53",
   "metadata": {},
   "outputs": [],
   "source": [
    "client.cluster"
   ]
  },
  {
   "cell_type": "code",
   "execution_count": null,
   "id": "2d8f7c45-f892-4467-8580-cb1cecb8c4af",
   "metadata": {},
   "outputs": [],
   "source": [
    "def write_metric(da,v,m,ln='',units='',years=''):\n",
    "    f='./processed_data/'+v+'.nc'\n",
    "    if glob.glob(f):\n",
    "        dsout = xr.open_dataset('./processed_data/out.nc')\n",
    "        if m in dsout:\n",
    "            if dsout[m].equals(da)==0:\n",
    "                raise Exception(m+\" already exists in \"+f+\", and does not match input DataArray\")\n",
    "            else:\n",
    "                update=False\n",
    "        else:\n",
    "            update=True\n",
    "    else:\n",
    "        dsout=xr.Dataset()\n",
    "        update=True\n",
    "    if update:\n",
    "        dsout[m]=da\n",
    "        dsout[m].attrs={'long_name':ln,'units':units,'years':years}\n",
    "        if glob.glob(f):\n",
    "            dsout.to_netcdf(f+'.tmp')\n",
    "            os.system('mv '+f+'.tmp '+f)\n",
    "        else:\n",
    "            dsout.to_netcdf(f)"
   ]
  },
  {
   "cell_type": "code",
   "execution_count": null,
   "id": "5a2e7e83-3d7a-42be-b25d-89c82aa4c568",
   "metadata": {},
   "outputs": [],
   "source": [
    "### LHC ensemble"
   ]
  },
  {
   "cell_type": "code",
   "execution_count": null,
   "id": "c15e50d7-cb1e-4c52-828c-070c7f638b49",
   "metadata": {},
   "outputs": [],
   "source": [
    "# CLM-PPE\n",
    "dvs=['TLAI']\n",
    "htape='h1'\n",
    "yr0=2003\n",
    "yr1=2014\n",
    "ds=get_exp('transient',dvs=dvs,tape=htape,yy=(yr0,yr1))"
   ]
  },
  {
   "cell_type": "code",
   "execution_count": null,
   "id": "a6be9d7c-7d49-4df0-9385-1d5fc914f342",
   "metadata": {},
   "outputs": [],
   "source": [
    "t=slice(str(yr0),str(yr1))\n",
    "da=ds.TLAI.sel(time=t)\n",
    "la=xr.open_dataset('landarea_transient.nc').landarea_pft.sel(time=t)\n",
    "lai_amax=amax(da).mean(dim='year').compute()\n",
    "PPE_lai = pmean(lai_amax,la).mean(dim='time').compute()"
   ]
  },
  {
   "cell_type": "code",
   "execution_count": null,
   "id": "b505fd57-38a8-48b3-946e-0bfaa4b5f999",
   "metadata": {},
   "outputs": [],
   "source": [
    "# save files\n",
    "v='TLAI'\n",
    "m='TLAI_pftavg_annMax_2003-2014'\n",
    "ln='PFT average LAImax 2003'\n",
    "years=str(yr0)+'-'+str(yr1)\n",
    "units=ds[v].attrs['units']\n",
    "write_metric(PPE_lai,v,m,ln=ln,units=units,years=years)"
   ]
  },
  {
   "cell_type": "code",
   "execution_count": null,
   "id": "922e0c68-a4ae-4d12-8227-7e431777cf6d",
   "metadata": {},
   "outputs": [],
   "source": [
    "### pftLAI experiment"
   ]
  },
  {
   "cell_type": "code",
   "execution_count": null,
   "id": "2ed60fd3-cf34-40af-bb80-c3602dd19023",
   "metadata": {},
   "outputs": [],
   "source": [
    "# load LHC LAI \n",
    "# LH move experiment to daniels campaign directory\n",
    "ds_new_h1=get_exp('pftLAI',dvs=['TLAI'],tape='h1',yy=(2003,2014))\n",
    "\n",
    "t=slice(str(2003),str(2014))\n",
    "da_new = ds_new_h1.TLAI.sel(time=t)"
   ]
  },
  {
   "cell_type": "code",
   "execution_count": null,
   "id": "48bfe157-acd2-4706-9fd9-7c5fde0bc701",
   "metadata": {},
   "outputs": [],
   "source": [
    "amax_lai=amax(da_new).mean(dim='year').compute()"
   ]
  },
  {
   "cell_type": "code",
   "execution_count": null,
   "id": "caac0da0-90de-42f3-992c-eeebd0b761e3",
   "metadata": {},
   "outputs": [],
   "source": [
    "PPE_lai_new = pmean(amax_lai,la).mean(dim='time').compute()"
   ]
  },
  {
   "cell_type": "code",
   "execution_count": null,
   "id": "9014e093-76a7-458e-a1ca-753bfd2c5dd4",
   "metadata": {},
   "outputs": [],
   "source": [
    "# save files\n",
    "v='TLAI'\n",
    "m='TLAI_pftavg_annMax_2003-2014'\n",
    "ln='PFT average LAImax 2003'\n",
    "years=str(yr0)+'-'+str(yr1)\n",
    "units=ds_new_h1[v].attrs['units']\n",
    "write_metric(PPE_lai_new,v,m,ln=ln,units=units,years=years)"
   ]
  }
 ],
 "metadata": {
  "kernelspec": {
   "display_name": "Python [conda env:miniconda3-ppe-py]",
   "language": "python",
   "name": "conda-env-miniconda3-ppe-py-py"
  },
  "language_info": {
   "codemirror_mode": {
    "name": "ipython",
    "version": 3
   },
   "file_extension": ".py",
   "mimetype": "text/x-python",
   "name": "python",
   "nbconvert_exporter": "python",
   "pygments_lexer": "ipython3",
   "version": "3.7.12"
  }
 },
 "nbformat": 4,
 "nbformat_minor": 5
}
