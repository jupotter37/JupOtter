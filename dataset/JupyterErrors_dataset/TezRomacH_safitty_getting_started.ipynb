{
 "cells": [
  {
   "cell_type": "markdown",
   "metadata": {
    "pycharm": {
     "metadata": false
    }
   },
   "source": [
    "# `Safitty` in a nutshell\n",
    "\n",
    "Safitty is a library for working with deep nested dictionaries and configuration files.\n",
    "It has several functions for manipulating values and for parsing."
   ]
  },
  {
   "cell_type": "markdown",
   "metadata": {},
   "source": [
    "## Creating config"
   ]
  },
  {
   "cell_type": "code",
   "execution_count": 79,
   "metadata": {
    "pycharm": {
     "is_executing": false,
     "name": "#%%\n"
    }
   },
   "outputs": [
    {
     "data": {
      "text/plain": [
       "{'verbose': False,\n",
       " 'status': 1,\n",
       " 'paths': {'jsons': ['first', 'second', {'third': [1, 2, 3, 4]}],\n",
       "  'images': 'important/path/to/images/'},\n",
       " 'transforms': [{'name': 'Normalize', 'function': 'ToTensor', 'params': None},\n",
       "  {'name': 'Padding',\n",
       "   'function': 'Pad',\n",
       "   'params': {'fill': 3, 'padding_mode': 'reflect'}}],\n",
       " 'server': {'address': '127.0.0.1', 'password': 'qwerty'},\n",
       " 'reader': {'need_reader': True,\n",
       "  'params': {'width': 512, 'height': 512, 'grayscale': True}}}"
      ]
     },
     "execution_count": 79,
     "metadata": {},
     "output_type": "execute_result"
    }
   ],
   "source": [
    "import yaml\n",
    "\n",
    "# our toy config\n",
    "config = yaml.safe_load(\"\"\"\n",
    "verbose: false\n",
    "\n",
    "status: 1\n",
    "\n",
    "paths:\n",
    "  jsons:\n",
    "    - first\n",
    "    - second\n",
    "    - third:\n",
    "      - 1\n",
    "      - 2\n",
    "      - 3\n",
    "      - 4\n",
    "  images: important/path/to/images/\n",
    "\n",
    "transforms:\n",
    "  - name: Normalize\n",
    "    function: ToTensor\n",
    "    params: null\n",
    "  -\n",
    "    name: Padding\n",
    "    function: Pad\n",
    "    params:\n",
    "      fill: 3\n",
    "      padding_mode: reflect\n",
    "\n",
    "server:\n",
    "  address: 127.0.0.1\n",
    "  password: \"qwerty\"\n",
    "\n",
    "reader:\n",
    "  need_reader: True\n",
    "\n",
    "  params:\n",
    "    width: 512\n",
    "    height: 512\n",
    "    grayscale: True\n",
    "\"\"\")\n",
    "\n",
    "config"
   ]
  },
  {
   "cell_type": "markdown",
   "metadata": {},
   "source": [
    "## Core functions"
   ]
  },
  {
   "cell_type": "markdown",
   "metadata": {},
   "source": [
    "## `safitty.get`\n",
    "Simplest function in the library is `get`, which is an analog for nested `dict.get`"
   ]
  },
  {
   "cell_type": "code",
   "execution_count": 12,
   "metadata": {},
   "outputs": [
    {
     "data": {
      "text/plain": [
       "True"
      ]
     },
     "execution_count": 12,
     "metadata": {},
     "output_type": "execute_result"
    }
   ],
   "source": [
    "import safitty\n",
    "from pathlib import Path\n",
    "\n",
    "safitty.get(config, \"reader\", \"params\", \"grayscale\")"
   ]
  },
  {
   "cell_type": "markdown",
   "metadata": {},
   "source": [
    "it is a much more readable equivalent for:"
   ]
  },
  {
   "cell_type": "code",
   "execution_count": 14,
   "metadata": {},
   "outputs": [
    {
     "data": {
      "text/plain": [
       "True"
      ]
     },
     "execution_count": 14,
     "metadata": {},
     "output_type": "execute_result"
    }
   ],
   "source": [
    "config.get(\"reader\", {}).get(\"params\", {}).get(\"grayscale\")"
   ]
  },
  {
   "cell_type": "markdown",
   "metadata": {},
   "source": [
    "`Get` also works well with nested lists"
   ]
  },
  {
   "cell_type": "code",
   "execution_count": 15,
   "metadata": {},
   "outputs": [
    {
     "data": {
      "text/plain": [
       "'first'"
      ]
     },
     "execution_count": 15,
     "metadata": {},
     "output_type": "execute_result"
    }
   ],
   "source": [
    "safitty.get(config, \"paths\", \"jsons\", 0)"
   ]
  },
  {
   "cell_type": "code",
   "execution_count": 17,
   "metadata": {},
   "outputs": [
    {
     "data": {
      "text/plain": [
       "4"
      ]
     },
     "execution_count": 17,
     "metadata": {},
     "output_type": "execute_result"
    }
   ],
   "source": [
    "safitty.get(config, \"paths\", \"jsons\", 2, \"third\", 3)"
   ]
  },
  {
   "cell_type": "markdown",
   "metadata": {},
   "source": [
    "`get` returns `None` by default if key doesn't exists"
   ]
  },
  {
   "cell_type": "code",
   "execution_count": 18,
   "metadata": {},
   "outputs": [
    {
     "data": {
      "text/plain": [
       "True"
      ]
     },
     "execution_count": 18,
     "metadata": {},
     "output_type": "execute_result"
    }
   ],
   "source": [
    "safitty.get(config, \"paths\", \"jsons\", 2, \"third\", 5) is None"
   ]
  },
  {
   "cell_type": "markdown",
   "metadata": {},
   "source": [
    "Note, that python's `list` has no safe version for `get`"
   ]
  },
  {
   "cell_type": "code",
   "execution_count": 19,
   "metadata": {},
   "outputs": [
    {
     "ename": "IndexError",
     "evalue": "list index out of range",
     "output_type": "error",
     "traceback": [
      "\u001b[0;31m---------------------------------------------------------------------------\u001b[0m",
      "\u001b[0;31mIndexError\u001b[0m                                Traceback (most recent call last)",
      "\u001b[0;32m<ipython-input-19-d310dddcef81>\u001b[0m in \u001b[0;36m<module>\u001b[0;34m\u001b[0m\n\u001b[0;32m----> 1\u001b[0;31m \u001b[0mconfig\u001b[0m\u001b[0;34m[\u001b[0m\u001b[0;34m\"paths\"\u001b[0m\u001b[0;34m]\u001b[0m\u001b[0;34m[\u001b[0m\u001b[0;34m\"jsons\"\u001b[0m\u001b[0;34m]\u001b[0m\u001b[0;34m[\u001b[0m\u001b[0;36m2\u001b[0m\u001b[0;34m]\u001b[0m\u001b[0;34m[\u001b[0m\u001b[0;34m\"third\"\u001b[0m\u001b[0;34m]\u001b[0m\u001b[0;34m[\u001b[0m\u001b[0;36m5\u001b[0m\u001b[0;34m]\u001b[0m\u001b[0;34m\u001b[0m\u001b[0;34m\u001b[0m\u001b[0m\n\u001b[0m",
      "\u001b[0;31mIndexError\u001b[0m: list index out of range"
     ]
    }
   ],
   "source": [
    "config[\"paths\"][\"jsons\"][2][\"third\"][5]"
   ]
  },
  {
   "cell_type": "code",
   "execution_count": 21,
   "metadata": {},
   "outputs": [
    {
     "ename": "IndexError",
     "evalue": "list index out of range",
     "output_type": "error",
     "traceback": [
      "\u001b[0;31m---------------------------------------------------------------------------\u001b[0m",
      "\u001b[0;31mIndexError\u001b[0m                                Traceback (most recent call last)",
      "\u001b[0;32m<ipython-input-21-bbd29787aaba>\u001b[0m in \u001b[0;36m<module>\u001b[0;34m\u001b[0m\n\u001b[0;32m----> 1\u001b[0;31m \u001b[0mconfig\u001b[0m\u001b[0;34m[\u001b[0m\u001b[0;34m\"paths\"\u001b[0m\u001b[0;34m]\u001b[0m\u001b[0;34m[\u001b[0m\u001b[0;34m\"jsons\"\u001b[0m\u001b[0;34m]\u001b[0m\u001b[0;34m[\u001b[0m\u001b[0;36m5\u001b[0m\u001b[0;34m]\u001b[0m\u001b[0;34m[\u001b[0m\u001b[0;34m\"third\"\u001b[0m\u001b[0;34m]\u001b[0m\u001b[0;34m[\u001b[0m\u001b[0;36m3\u001b[0m\u001b[0;34m]\u001b[0m\u001b[0;34m\u001b[0m\u001b[0;34m\u001b[0m\u001b[0m\n\u001b[0m",
      "\u001b[0;31mIndexError\u001b[0m: list index out of range"
     ]
    }
   ],
   "source": [
    "config[\"paths\"][\"jsons\"][5][\"third\"][3]"
   ]
  },
  {
   "cell_type": "markdown",
   "metadata": {},
   "source": [
    "an analog may be look like:"
   ]
  },
  {
   "cell_type": "code",
   "execution_count": 37,
   "metadata": {},
   "outputs": [
    {
     "data": {
      "text/plain": [
       "True"
      ]
     },
     "execution_count": 37,
     "metadata": {},
     "output_type": "execute_result"
    }
   ],
   "source": [
    "KEY1 = 2\n",
    "KEY2 = 5\n",
    "\n",
    "result = None\n",
    "temp = config.get(\"paths\", {}).get(\"jsons\")\n",
    "\n",
    "if temp is not None and 0 <= KEY1 < len(temp):\n",
    "    temp = temp[KEY1]\n",
    "    if temp is not None and \"third\" in temp:\n",
    "        temp = temp[\"third\"]\n",
    "        if temp is not None and 0 <= KEY2 < len(temp):\n",
    "            result = temp[KEY2]\n",
    "            del temp\n",
    "\n",
    "result is None"
   ]
  },
  {
   "cell_type": "markdown",
   "metadata": {},
   "source": [
    "looks terrible"
   ]
  },
  {
   "cell_type": "markdown",
   "metadata": {},
   "source": [
    "### params"
   ]
  },
  {
   "cell_type": "markdown",
   "metadata": {},
   "source": [
    "#### `default` – returns default value is anything wrong"
   ]
  },
  {
   "cell_type": "code",
   "execution_count": 40,
   "metadata": {},
   "outputs": [
    {
     "data": {
      "text/plain": [
       "'default'"
      ]
     },
     "execution_count": 40,
     "metadata": {},
     "output_type": "execute_result"
    }
   ],
   "source": [
    "safitty.get(config, \"paths\", \"jsons\", 2, \"third\", 5, default=\"default\")"
   ]
  },
  {
   "cell_type": "code",
   "execution_count": 41,
   "metadata": {},
   "outputs": [
    {
     "data": {
      "text/plain": [
       "'default'"
      ]
     },
     "execution_count": 41,
     "metadata": {},
     "output_type": "execute_result"
    }
   ],
   "source": [
    "safitty.get(config, \"paths\", \"jsons\", 2, \"third\", 2, \"wrong\", \"too\", \"deep\", default=\"default\")"
   ]
  },
  {
   "cell_type": "markdown",
   "metadata": {},
   "source": [
    "#### `strategy` – strategy for returning values\n",
    "should be `None` or one of \n",
    "- `\"missing_key\"` – return `default` only if there are error, but not if the final value is None\n",
    "- `\"last_value\"` – return last non null value. It doesn't use `default` param\n",
    "- `\"last_container\"` – return last non-null container. It doesn't use `default` param"
   ]
  },
  {
   "cell_type": "markdown",
   "metadata": {},
   "source": [
    "##### missing_key"
   ]
  },
  {
   "cell_type": "code",
   "execution_count": 49,
   "metadata": {},
   "outputs": [
    {
     "name": "stdout",
     "output_type": "stream",
     "text": [
      "None\n"
     ]
    }
   ],
   "source": [
    "# in config `params` is set to null\n",
    "s = safitty.get(config, \"transforms\", 0, \"params\")\n",
    "print(s)"
   ]
  },
  {
   "cell_type": "code",
   "execution_count": 50,
   "metadata": {},
   "outputs": [
    {
     "name": "stdout",
     "output_type": "stream",
     "text": [
      "Oops\n"
     ]
    }
   ],
   "source": [
    "s = safitty.get(config, \"transforms\", 0, \"params\", default=\"Oops\")\n",
    "print(s)"
   ]
  },
  {
   "cell_type": "code",
   "execution_count": 51,
   "metadata": {},
   "outputs": [
    {
     "name": "stdout",
     "output_type": "stream",
     "text": [
      "None\n"
     ]
    }
   ],
   "source": [
    "s = safitty.get(config, \"transforms\", 0, \"params\", default=\"oops\", strategy=\"missing_key\")\n",
    "print(s)"
   ]
  },
  {
   "cell_type": "markdown",
   "metadata": {},
   "source": [
    "##### last_value"
   ]
  },
  {
   "cell_type": "code",
   "execution_count": 56,
   "metadata": {},
   "outputs": [
    {
     "name": "stdout",
     "output_type": "stream",
     "text": [
      "ToTensor\n"
     ]
    }
   ],
   "source": [
    "s = safitty.get(config, \"transforms\", 0, \"function\")\n",
    "print(s)"
   ]
  },
  {
   "cell_type": "code",
   "execution_count": 67,
   "metadata": {},
   "outputs": [
    {
     "name": "stdout",
     "output_type": "stream",
     "text": [
      "None\n"
     ]
    }
   ],
   "source": [
    "# too deep\n",
    "s = safitty.get(config, \"transforms\", 0, \"function\", \"name\", \"deep\")\n",
    "print(s)"
   ]
  },
  {
   "cell_type": "code",
   "execution_count": 68,
   "metadata": {},
   "outputs": [
    {
     "name": "stdout",
     "output_type": "stream",
     "text": [
      "ToTensor\n"
     ]
    }
   ],
   "source": [
    "s = safitty.get(config, \"transforms\", 0, \"function\", \"name\", \"deep\", strategy=\"last_value\")\n",
    "print(s)"
   ]
  },
  {
   "cell_type": "markdown",
   "metadata": {},
   "source": [
    "##### last_container"
   ]
  },
  {
   "cell_type": "code",
   "execution_count": 66,
   "metadata": {},
   "outputs": [
    {
     "name": "stdout",
     "output_type": "stream",
     "text": [
      "{'name': 'Normalize', 'function': 'ToTensor', 'params': None}\n"
     ]
    }
   ],
   "source": [
    "s = safitty.get(config, \"transforms\", 0, \"function\", strategy=\"last_container\")\n",
    "print(s)"
   ]
  },
  {
   "cell_type": "code",
   "execution_count": 69,
   "metadata": {},
   "outputs": [
    {
     "name": "stdout",
     "output_type": "stream",
     "text": [
      "{'name': 'Normalize', 'function': 'ToTensor', 'params': None}\n"
     ]
    }
   ],
   "source": [
    "s = safitty.get(config, \"transforms\", 0, \"function\", \"name\", \"deep\", strategy=\"last_container\")\n",
    "print(s)"
   ]
  },
  {
   "cell_type": "markdown",
   "metadata": {},
   "source": [
    "#### transform – transform result value with a finction"
   ]
  },
  {
   "cell_type": "code",
   "execution_count": 74,
   "metadata": {},
   "outputs": [
    {
     "data": {
      "text/plain": [
       "512"
      ]
     },
     "execution_count": 74,
     "metadata": {},
     "output_type": "execute_result"
    }
   ],
   "source": [
    "safitty.get(config, \"reader\", \"params\", \"height\")"
   ]
  },
  {
   "cell_type": "code",
   "execution_count": 75,
   "metadata": {},
   "outputs": [
    {
     "data": {
      "text/plain": [
       "512.0"
      ]
     },
     "execution_count": 75,
     "metadata": {},
     "output_type": "execute_result"
    }
   ],
   "source": [
    "safitty.get(config, \"reader\", \"params\", \"height\", transform=float)"
   ]
  },
  {
   "cell_type": "code",
   "execution_count": 76,
   "metadata": {},
   "outputs": [
    {
     "data": {
      "text/plain": [
       "1024"
      ]
     },
     "execution_count": 76,
     "metadata": {},
     "output_type": "execute_result"
    }
   ],
   "source": [
    "safitty.get(config, \"reader\", \"params\", \"height\", transform=lambda x: x * 2)"
   ]
  },
  {
   "cell_type": "code",
   "execution_count": 78,
   "metadata": {},
   "outputs": [],
   "source": [
    "safitty.get(config, \"reader\", \"params\", 0, \"height\", transform=lambda x: x * 2) # none"
   ]
  },
  {
   "cell_type": "markdown",
   "metadata": {},
   "source": [
    "#### apply – like `transform` but do `*value` if the result value is a list and `**value` if it's a dict"
   ]
  },
  {
   "cell_type": "code",
   "execution_count": 84,
   "metadata": {},
   "outputs": [],
   "source": [
    "class Server:\n",
    "    def __init__(self, address: str, password: str):\n",
    "        self.address = address\n",
    "        self.password = password\n",
    "    def __str__(self) -> str:\n",
    "        return f\"Server at {self.address}. Pass: {self.password}\"\n",
    "    def __repr__(self) -> str:\n",
    "        return str(self)"
   ]
  },
  {
   "cell_type": "code",
   "execution_count": 85,
   "metadata": {},
   "outputs": [
    {
     "data": {
      "text/plain": [
       "{'address': '127.0.0.1', 'password': 'qwerty'}"
      ]
     },
     "execution_count": 85,
     "metadata": {},
     "output_type": "execute_result"
    }
   ],
   "source": [
    "safitty.get(config, \"server\")"
   ]
  },
  {
   "cell_type": "code",
   "execution_count": 86,
   "metadata": {},
   "outputs": [
    {
     "data": {
      "text/plain": [
       "Server at 127.0.0.1. Pass: qwerty"
      ]
     },
     "execution_count": 86,
     "metadata": {},
     "output_type": "execute_result"
    }
   ],
   "source": [
    "safitty.get(config, \"server\", apply=Server)"
   ]
  },
  {
   "cell_type": "code",
   "execution_count": 88,
   "metadata": {},
   "outputs": [],
   "source": [
    "# still safe\n",
    "safitty.get(config, \"server-less\", apply=Server) # not giving any error"
   ]
  },
  {
   "cell_type": "markdown",
   "metadata": {},
   "source": [
    "#### copy – if true returns a copy "
   ]
  },
  {
   "cell_type": "code",
   "execution_count": 90,
   "metadata": {},
   "outputs": [
    {
     "data": {
      "text/plain": [
       "{'address': '127.0.0.1', 'password': 'qwerty'}"
      ]
     },
     "execution_count": 90,
     "metadata": {},
     "output_type": "execute_result"
    }
   ],
   "source": [
    "copied = safitty.get(config, \"server\", copy=True)\n",
    "copied"
   ]
  },
  {
   "cell_type": "code",
   "execution_count": 91,
   "metadata": {},
   "outputs": [],
   "source": [
    "copied[\"password\"] = \"123456\""
   ]
  },
  {
   "cell_type": "code",
   "execution_count": 92,
   "metadata": {},
   "outputs": [
    {
     "data": {
      "text/plain": [
       "{'address': '127.0.0.1', 'password': 'qwerty'}"
      ]
     },
     "execution_count": 92,
     "metadata": {},
     "output_type": "execute_result"
    }
   ],
   "source": [
    "safitty.get(config, \"server\")"
   ]
  },
  {
   "cell_type": "markdown",
   "metadata": {},
   "source": [
    "## `safitty.set`"
   ]
  },
  {
   "cell_type": "code",
   "execution_count": 93,
   "metadata": {},
   "outputs": [
    {
     "data": {
      "text/plain": [
       "{'verbose': False,\n",
       " 'status': 1,\n",
       " 'paths': {'jsons': ['first', 'second', {'third': [1, 2, 3, 4]}],\n",
       "  'images': 'important/path/to/images/'},\n",
       " 'transforms': [{'name': 'Normalize', 'function': 'ToTensor', 'params': None},\n",
       "  {'name': 'Padding',\n",
       "   'function': 'Pad',\n",
       "   'params': {'fill': 3, 'padding_mode': 'reflect'}}],\n",
       " 'server': {'address': '127.0.0.1', 'password': 'qwerty'},\n",
       " 'reader': {'need_reader': True,\n",
       "  'params': {'width': 512, 'height': 512, 'grayscale': True}},\n",
       " 'new': {'additional': {'info': 'good'}}}"
      ]
     },
     "execution_count": 93,
     "metadata": {},
     "output_type": "execute_result"
    }
   ],
   "source": [
    "# tl;dr\n",
    "safitty.set(config, \"new\", \"additional\", \"info\", value=\"good\")"
   ]
  },
  {
   "cell_type": "code",
   "execution_count": 94,
   "metadata": {},
   "outputs": [
    {
     "data": {
      "text/plain": [
       "{'additional': {'info': 'good'}}"
      ]
     },
     "execution_count": 94,
     "metadata": {},
     "output_type": "execute_result"
    }
   ],
   "source": [
    "safitty.get(config, \"new\")"
   ]
  },
  {
   "cell_type": "code",
   "execution_count": 96,
   "metadata": {},
   "outputs": [],
   "source": [
    "safitty.get(config, \"paths\", \"jsons\", 2, \"third\", 6) # none"
   ]
  },
  {
   "cell_type": "code",
   "execution_count": 97,
   "metadata": {},
   "outputs": [
    {
     "data": {
      "text/plain": [
       "{'verbose': False,\n",
       " 'status': 1,\n",
       " 'paths': {'jsons': ['first',\n",
       "   'second',\n",
       "   {'third': [1, 2, 3, 4, None, None, 'wow']}],\n",
       "  'images': 'important/path/to/images/'},\n",
       " 'transforms': [{'name': 'Normalize', 'function': 'ToTensor', 'params': None},\n",
       "  {'name': 'Padding',\n",
       "   'function': 'Pad',\n",
       "   'params': {'fill': 3, 'padding_mode': 'reflect'}}],\n",
       " 'server': {'address': '127.0.0.1', 'password': 'qwerty'},\n",
       " 'reader': {'need_reader': True,\n",
       "  'params': {'width': 512, 'height': 512, 'grayscale': True}},\n",
       " 'new': {'additional': {'info': 'good'}}}"
      ]
     },
     "execution_count": 97,
     "metadata": {},
     "output_type": "execute_result"
    }
   ],
   "source": [
    "safitty.set(config, \"paths\", \"jsons\", 2, \"third\", 6, value=\"wow\")"
   ]
  },
  {
   "cell_type": "code",
   "execution_count": 98,
   "metadata": {},
   "outputs": [
    {
     "data": {
      "text/plain": [
       "[1, 2, 3, 4, None, None, 'wow']"
      ]
     },
     "execution_count": 98,
     "metadata": {},
     "output_type": "execute_result"
    }
   ],
   "source": [
    "safitty.get(config, \"paths\", \"jsons\", 2, \"third\")"
   ]
  },
  {
   "cell_type": "markdown",
   "metadata": {},
   "source": [
    "## `safitty.load`"
   ]
  },
  {
   "cell_type": "markdown",
   "metadata": {},
   "source": [
    "with giving path can load JSON or YAML configs"
   ]
  },
  {
   "cell_type": "code",
   "execution_count": null,
   "metadata": {},
   "outputs": [],
   "source": [
    "safitty.load(\"./configs/example.yml\")"
   ]
  },
  {
   "cell_type": "markdown",
   "metadata": {},
   "source": [
    "## `safitty.argparser`\n",
    "argument parser with `--config` flag"
   ]
  },
  {
   "cell_type": "code",
   "execution_count": 101,
   "metadata": {},
   "outputs": [
    {
     "data": {
      "text/plain": [
       "ArgumentParser(prog='ipykernel_launcher.py', usage=None, description=None, formatter_class=<class 'argparse.HelpFormatter'>, conflict_handler='error', add_help=True)"
      ]
     },
     "execution_count": 101,
     "metadata": {},
     "output_type": "execute_result"
    }
   ],
   "source": [
    "p = safitty.argparser()\n",
    "p"
   ]
  },
  {
   "cell_type": "code",
   "execution_count": 102,
   "metadata": {},
   "outputs": [
    {
     "name": "stdout",
     "output_type": "stream",
     "text": [
      "usage: ipykernel_launcher.py [-h] -C {PATH} [{PATH} ...]\n",
      "\n",
      "optional arguments:\n",
      "  -h, --help            show this help message and exit\n",
      "  -C {PATH} [{PATH} ...], --config {PATH} [{PATH} ...], --configs {PATH} [{PATH} ...]\n",
      "                        Path to a config file/files (YAML or JSON)\n"
     ]
    }
   ],
   "source": [
    "p.print_help()"
   ]
  },
  {
   "cell_type": "code",
   "execution_count": 104,
   "metadata": {},
   "outputs": [],
   "source": [
    "def get_parser():\n",
    "    parser = safitty.argparser()\n",
    "    \n",
    "    parser.add_argument(\"--input\", type=str)\n",
    "    return parser"
   ]
  },
  {
   "cell_type": "markdown",
   "metadata": {},
   "source": [
    "## `safitty.load_from_args`\n",
    "usefull combination for parser and safitty.set in scripts\n",
    "\n",
    "```python\n",
    "import safitty\n",
    " \n",
    "args, config = safitty.load_from_args()\n",
    "```\n",
    "\n",
    "\n",
    "if you pass your own parser, uknown args will be set into the config\n",
    "\n",
    "```python\n",
    "import safitty\n",
    " \n",
    "args, config = safitty.load_from_args(parser=get_parser())\n",
    "```"
   ]
  },
  {
   "cell_type": "code",
   "execution_count": null,
   "metadata": {},
   "outputs": [],
   "source": []
  },
  {
   "cell_type": "code",
   "execution_count": null,
   "metadata": {},
   "outputs": [],
   "source": []
  }
 ],
 "metadata": {
  "kernelspec": {
   "display_name": "Python 3",
   "language": "python",
   "name": "python3"
  },
  "language_info": {
   "codemirror_mode": {
    "name": "ipython",
    "version": 3
   },
   "file_extension": ".py",
   "mimetype": "text/x-python",
   "name": "python",
   "nbconvert_exporter": "python",
   "pygments_lexer": "ipython3",
   "version": "3.7.3"
  },
  "pycharm": {
   "stem_cell": {
    "cell_type": "raw",
    "source": [],
    "metadata": {
     "collapsed": false
    }
   }
  }
 },
 "nbformat": 4,
 "nbformat_minor": 2
}