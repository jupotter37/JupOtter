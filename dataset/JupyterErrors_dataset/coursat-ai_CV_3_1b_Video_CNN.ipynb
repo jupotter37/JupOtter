{
  "nbformat": 4,
  "nbformat_minor": 0,
  "metadata": {
    "colab": {
      "name": "3.1b_Video CNN.ipynb",
      "provenance": []
    },
    "kernelspec": {
      "name": "python3",
      "display_name": "Python 3"
    }
  },
  "cells": [
    {
      "cell_type": "code",
      "metadata": {
        "id": "4mIiJURN9nMd"
      },
      "source": [
        "from tensorflow.keras import models\n",
        "from tensorflow.keras import layers\n",
        "import numpy as np\n"
      ],
      "execution_count": null,
      "outputs": []
    },
    {
      "cell_type": "code",
      "metadata": {
        "id": "CDoSqT2u-OPx",
        "outputId": "63ff8820-90df-4916-c308-81e51ec3e489",
        "colab": {
          "base_uri": "https://localhost:8080/",
          "height": 326
        }
      },
      "source": [
        "model = models.Sequential()\n",
        "#model.add(layers.Conv2D(4,(2,2), input_shape=(3,28,28)))\n",
        "model.add(layers.Conv2D(4,(2,2), input_shape=(28,28,1)))#default is data_format=channels_last\n",
        "model.add(layers.Flatten())\n",
        "model.add(layers.Dense(100, 'relu'))\n",
        "model.add(layers.Dense(10,'softmax'))\n",
        "print(model.summary())\n"
      ],
      "execution_count": null,
      "outputs": [
        {
          "output_type": "stream",
          "text": [
            "Model: \"sequential_7\"\n",
            "_________________________________________________________________\n",
            "Layer (type)                 Output Shape              Param #   \n",
            "=================================================================\n",
            "conv2d_6 (Conv2D)            (None, 27, 27, 4)         20        \n",
            "_________________________________________________________________\n",
            "flatten_6 (Flatten)          (None, 2916)              0         \n",
            "_________________________________________________________________\n",
            "dense_12 (Dense)             (None, 100)               291700    \n",
            "_________________________________________________________________\n",
            "dense_13 (Dense)             (None, 10)                1010      \n",
            "=================================================================\n",
            "Total params: 292,730\n",
            "Trainable params: 292,730\n",
            "Non-trainable params: 0\n",
            "_________________________________________________________________\n",
            "None\n"
          ],
          "name": "stdout"
        }
      ]
    },
    {
      "cell_type": "code",
      "metadata": {
        "id": "DPm0IE9kKoUF",
        "outputId": "626d6f41-91c5-4b5e-d9f7-fa2ae4efb21d",
        "colab": {
          "base_uri": "https://localhost:8080/",
          "height": 466
        }
      },
      "source": [
        "from tensorflow.keras.utils import plot_model\n",
        "plot_model(model, to_file='model.png')"
      ],
      "execution_count": null,
      "outputs": [
        {
          "output_type": "execute_result",
          "data": {
            "image/png": "[encoded data removed]",
            "text/plain": [
              "<IPython.core.display.Image object>"
            ]
          },
          "metadata": {
            "tags": []
          },
          "execution_count": 4
        }
      ]
    },
    {
      "cell_type": "code",
      "metadata": {
        "id": "v2z8kQi2-xrB"
      },
      "source": [
        "model.compile(optimizer='rmsprop',loss='sparse_categorical_crossentropy', metrics=['acc'])"
      ],
      "execution_count": null,
      "outputs": []
    },
    {
      "cell_type": "code",
      "metadata": {
        "id": "aBUTTHHoAIZ_",
        "outputId": "369bff14-ff68-4d63-bc50-9e55473042a4",
        "colab": {
          "base_uri": "https://localhost:8080/",
          "height": 54
        }
      },
      "source": [
        "from keras.datasets import mnist\n",
        "(train_images, train_labels), (test_images, test_labels) = mnist.load_data()"
      ],
      "execution_count": null,
      "outputs": [
        {
          "output_type": "stream",
          "text": [
            "Downloading data from https://s3.amazonaws.com/img-datasets/mnist.npz\n",
            "11493376/11490434 [==============================] - 0s 0us/step\n"
          ],
          "name": "stdout"
        }
      ]
    },
    {
      "cell_type": "code",
      "metadata": {
        "id": "HhTYU6k8AXXA",
        "outputId": "02fe2605-c629-4770-f078-be8e7925ca40",
        "colab": {
          "base_uri": "https://localhost:8080/",
          "height": 35
        }
      },
      "source": [
        "train_images.shape"
      ],
      "execution_count": null,
      "outputs": [
        {
          "output_type": "execute_result",
          "data": {
            "text/plain": [
              "(60000, 28, 28)"
            ]
          },
          "metadata": {
            "tags": []
          },
          "execution_count": 10
        }
      ]
    },
    {
      "cell_type": "code",
      "metadata": {
        "id": "x7g7z1PRBEWx"
      },
      "source": [
        "(train_images, train_labels), (test_images, test_labels) = (np.expand_dims(train_images,-1), train_labels), (np.expand_dims(test_images,-1), test_labels)"
      ],
      "execution_count": null,
      "outputs": []
    },
    {
      "cell_type": "code",
      "metadata": {
        "id": "OlCanjfXBLfX",
        "outputId": "d46f9fe1-7f63-4f14-fa90-145c371d8923",
        "colab": {
          "base_uri": "https://localhost:8080/",
          "height": 35
        }
      },
      "source": [
        "train_images.shape"
      ],
      "execution_count": null,
      "outputs": [
        {
          "output_type": "execute_result",
          "data": {
            "text/plain": [
              "(60000, 28, 28, 1)"
            ]
          },
          "metadata": {
            "tags": []
          },
          "execution_count": 12
        }
      ]
    },
    {
      "cell_type": "code",
      "metadata": {
        "id": "7LNT-AUHIPtD",
        "outputId": "cf977fc2-4d76-4bcf-916a-8a266a9d98b3",
        "colab": {
          "base_uri": "https://localhost:8080/",
          "height": 35
        }
      },
      "source": [
        "train_labels.shape"
      ],
      "execution_count": null,
      "outputs": [
        {
          "output_type": "execute_result",
          "data": {
            "text/plain": [
              "(60000,)"
            ]
          },
          "metadata": {
            "tags": []
          },
          "execution_count": 13
        }
      ]
    },
    {
      "cell_type": "code",
      "metadata": {
        "id": "vQGYwyHUAaPJ",
        "outputId": "39b4cc4f-3c57-49a6-c0a8-3601f7b2144b",
        "colab": {
          "base_uri": "https://localhost:8080/",
          "height": 72
        }
      },
      "source": [
        "import numpy as np\n",
        "model.fit(train_images, train_labels, validation_data=(test_images, test_labels), epochs=1, batch_size=16)"
      ],
      "execution_count": null,
      "outputs": [
        {
          "output_type": "stream",
          "text": [
            "Train on 60000 samples, validate on 10000 samples\n",
            "60000/60000 [==============================] - 33s 548us/sample - loss: 0.9318 - acc: 0.8814 - val_loss: 0.2720 - val_acc: 0.9363\n"
          ],
          "name": "stdout"
        },
        {
          "output_type": "execute_result",
          "data": {
            "text/plain": [
              "<tensorflow.python.keras.callbacks.History at 0x7fc50fc86438>"
            ]
          },
          "metadata": {
            "tags": []
          },
          "execution_count": 14
        }
      ]
    },
    {
      "cell_type": "markdown",
      "metadata": {
        "id": "ui22wZx7BbGF"
      },
      "source": [
        "# Let's reshape into video data\n",
        "Say we take every 10 frames of the 60K into one video stream:"
      ]
    },
    {
      "cell_type": "code",
      "metadata": {
        "id": "3rzcIdIzfDUw"
      },
      "source": [
        "from keras.datasets import mnist\n",
        "(train_images, train_labels), (test_images, test_labels) = mnist.load_data()"
      ],
      "execution_count": null,
      "outputs": []
    },
    {
      "cell_type": "code",
      "metadata": {
        "id": "hH0_Kku6BQrR"
      },
      "source": [
        "(train_images, train_labels), (test_images, test_labels) = (np.reshape(train_images, (6000,10,28,28,1)), np.reshape(train_labels, (6000,10,1))), (np.reshape(test_images, (1000,10,28,28,1)), np.reshape(test_labels, (1000,10,1)))"
      ],
      "execution_count": null,
      "outputs": []
    },
    {
      "cell_type": "code",
      "metadata": {
        "id": "Pw0KID2xCv9R",
        "outputId": "46440ab2-d92d-4cea-fd2f-fb58c7558779",
        "colab": {
          "base_uri": "https://localhost:8080/",
          "height": 340
        }
      },
      "source": [
        "\n",
        "model.fit(train_images, train_labels, validation_data=(test_images, test_labels), epochs=1, batch_size=16)"
      ],
      "execution_count": null,
      "outputs": [
        {
          "output_type": "error",
          "ename": "ValueError",
          "evalue": "ignored",
          "traceback": [
            "\u001b[0;31m---------------------------------------------------------------------------\u001b[0m",
            "\u001b[0;31mValueError\u001b[0m                                Traceback (most recent call last)",
            "\u001b[0;32m<ipython-input-52-404bc559f29f>\u001b[0m in \u001b[0;36m<module>\u001b[0;34m()\u001b[0m\n\u001b[1;32m      1\u001b[0m \u001b[0;34m\u001b[0m\u001b[0m\n\u001b[0;32m----> 2\u001b[0;31m \u001b[0mmodel\u001b[0m\u001b[0;34m.\u001b[0m\u001b[0mfit\u001b[0m\u001b[0;34m(\u001b[0m\u001b[0mtrain_images\u001b[0m\u001b[0;34m,\u001b[0m \u001b[0mtrain_labels\u001b[0m\u001b[0;34m,\u001b[0m \u001b[0mvalidation_data\u001b[0m\u001b[0;34m=\u001b[0m\u001b[0;34m(\u001b[0m\u001b[0mtest_images\u001b[0m\u001b[0;34m,\u001b[0m \u001b[0mtest_labels\u001b[0m\u001b[0;34m)\u001b[0m\u001b[0;34m,\u001b[0m \u001b[0mepochs\u001b[0m\u001b[0;34m=\u001b[0m\u001b[0;36m1\u001b[0m\u001b[0;34m,\u001b[0m \u001b[0mbatch_size\u001b[0m\u001b[0;34m=\u001b[0m\u001b[0;36m16\u001b[0m\u001b[0;34m)\u001b[0m\u001b[0;34m\u001b[0m\u001b[0;34m\u001b[0m\u001b[0m\n\u001b[0m",
            "\u001b[0;32m/usr/local/lib/python3.6/dist-packages/tensorflow_core/python/keras/engine/training.py\u001b[0m in \u001b[0;36mfit\u001b[0;34m(self, x, y, batch_size, epochs, verbose, callbacks, validation_split, validation_data, shuffle, class_weight, sample_weight, initial_epoch, steps_per_epoch, validation_steps, validation_freq, max_queue_size, workers, use_multiprocessing, **kwargs)\u001b[0m\n\u001b[1;32m    725\u001b[0m         \u001b[0mmax_queue_size\u001b[0m\u001b[0;34m=\u001b[0m\u001b[0mmax_queue_size\u001b[0m\u001b[0;34m,\u001b[0m\u001b[0;34m\u001b[0m\u001b[0;34m\u001b[0m\u001b[0m\n\u001b[1;32m    726\u001b[0m         \u001b[0mworkers\u001b[0m\u001b[0;34m=\u001b[0m\u001b[0mworkers\u001b[0m\u001b[0;34m,\u001b[0m\u001b[0;34m\u001b[0m\u001b[0;34m\u001b[0m\u001b[0m\n\u001b[0;32m--> 727\u001b[0;31m         use_multiprocessing=use_multiprocessing)\n\u001b[0m\u001b[1;32m    728\u001b[0m \u001b[0;34m\u001b[0m\u001b[0m\n\u001b[1;32m    729\u001b[0m   def evaluate(self,\n",
            "\u001b[0;32m/usr/local/lib/python3.6/dist-packages/tensorflow_core/python/keras/engine/training_arrays.py\u001b[0m in \u001b[0;36mfit\u001b[0;34m(self, model, x, y, batch_size, epochs, verbose, callbacks, validation_split, validation_data, shuffle, class_weight, sample_weight, initial_epoch, steps_per_epoch, validation_steps, validation_freq, **kwargs)\u001b[0m\n\u001b[1;32m    641\u001b[0m         \u001b[0msteps\u001b[0m\u001b[0;34m=\u001b[0m\u001b[0msteps_per_epoch\u001b[0m\u001b[0;34m,\u001b[0m\u001b[0;34m\u001b[0m\u001b[0;34m\u001b[0m\u001b[0m\n\u001b[1;32m    642\u001b[0m         \u001b[0mvalidation_split\u001b[0m\u001b[0;34m=\u001b[0m\u001b[0mvalidation_split\u001b[0m\u001b[0;34m,\u001b[0m\u001b[0;34m\u001b[0m\u001b[0;34m\u001b[0m\u001b[0m\n\u001b[0;32m--> 643\u001b[0;31m         shuffle=shuffle)\n\u001b[0m\u001b[1;32m    644\u001b[0m \u001b[0;34m\u001b[0m\u001b[0m\n\u001b[1;32m    645\u001b[0m     \u001b[0;32mif\u001b[0m \u001b[0mvalidation_data\u001b[0m\u001b[0;34m:\u001b[0m\u001b[0;34m\u001b[0m\u001b[0;34m\u001b[0m\u001b[0m\n",
            "\u001b[0;32m/usr/local/lib/python3.6/dist-packages/tensorflow_core/python/keras/engine/training.py\u001b[0m in \u001b[0;36m_standardize_user_data\u001b[0;34m(self, x, y, sample_weight, class_weight, batch_size, check_steps, steps_name, steps, validation_split, shuffle, extract_tensors_from_dataset)\u001b[0m\n\u001b[1;32m   2469\u001b[0m           \u001b[0mfeed_input_shapes\u001b[0m\u001b[0;34m,\u001b[0m\u001b[0;34m\u001b[0m\u001b[0;34m\u001b[0m\u001b[0m\n\u001b[1;32m   2470\u001b[0m           \u001b[0mcheck_batch_axis\u001b[0m\u001b[0;34m=\u001b[0m\u001b[0;32mFalse\u001b[0m\u001b[0;34m,\u001b[0m  \u001b[0;31m# Don't enforce the batch size.\u001b[0m\u001b[0;34m\u001b[0m\u001b[0;34m\u001b[0m\u001b[0m\n\u001b[0;32m-> 2471\u001b[0;31m           exception_prefix='input')\n\u001b[0m\u001b[1;32m   2472\u001b[0m \u001b[0;34m\u001b[0m\u001b[0m\n\u001b[1;32m   2473\u001b[0m     \u001b[0;31m# Get typespecs for the input data and sanitize it if necessary.\u001b[0m\u001b[0;34m\u001b[0m\u001b[0;34m\u001b[0m\u001b[0;34m\u001b[0m\u001b[0m\n",
            "\u001b[0;32m/usr/local/lib/python3.6/dist-packages/tensorflow_core/python/keras/engine/training_utils.py\u001b[0m in \u001b[0;36mstandardize_input_data\u001b[0;34m(data, names, shapes, check_batch_axis, exception_prefix)\u001b[0m\n\u001b[1;32m    561\u001b[0m                            \u001b[0;34m': expected '\u001b[0m \u001b[0;34m+\u001b[0m \u001b[0mnames\u001b[0m\u001b[0;34m[\u001b[0m\u001b[0mi\u001b[0m\u001b[0;34m]\u001b[0m \u001b[0;34m+\u001b[0m \u001b[0;34m' to have '\u001b[0m \u001b[0;34m+\u001b[0m\u001b[0;34m\u001b[0m\u001b[0;34m\u001b[0m\u001b[0m\n\u001b[1;32m    562\u001b[0m                            \u001b[0mstr\u001b[0m\u001b[0;34m(\u001b[0m\u001b[0mlen\u001b[0m\u001b[0;34m(\u001b[0m\u001b[0mshape\u001b[0m\u001b[0;34m)\u001b[0m\u001b[0;34m)\u001b[0m \u001b[0;34m+\u001b[0m \u001b[0;34m' dimensions, but got array '\u001b[0m\u001b[0;34m\u001b[0m\u001b[0;34m\u001b[0m\u001b[0m\n\u001b[0;32m--> 563\u001b[0;31m                            'with shape ' + str(data_shape))\n\u001b[0m\u001b[1;32m    564\u001b[0m         \u001b[0;32mif\u001b[0m \u001b[0;32mnot\u001b[0m \u001b[0mcheck_batch_axis\u001b[0m\u001b[0;34m:\u001b[0m\u001b[0;34m\u001b[0m\u001b[0;34m\u001b[0m\u001b[0m\n\u001b[1;32m    565\u001b[0m           \u001b[0mdata_shape\u001b[0m \u001b[0;34m=\u001b[0m \u001b[0mdata_shape\u001b[0m\u001b[0;34m[\u001b[0m\u001b[0;36m1\u001b[0m\u001b[0;34m:\u001b[0m\u001b[0;34m]\u001b[0m\u001b[0;34m\u001b[0m\u001b[0;34m\u001b[0m\u001b[0m\n",
            "\u001b[0;31mValueError\u001b[0m: Error when checking input: expected conv2d_6_input to have 4 dimensions, but got array with shape (6000, 10, 28, 28, 1)"
          ]
        }
      ]
    },
    {
      "cell_type": "markdown",
      "metadata": {
        "id": "ipJugjy8FTZM"
      },
      "source": [
        "__So how can we feed the 5D video data?__\n",
        "\n",
        "# TimeDistributed to the rescue!\n",
        "\n",
        "What we actually seek is to apply the __same__ filter, across all the video frames (we don't need a separate parameters for every frame)\n"
      ]
    },
    {
      "cell_type": "markdown",
      "metadata": {
        "id": "pOP05xokF99r"
      },
      "source": [
        "This wrapper applies a layer to every temporal slice of an input.\n",
        "\n",
        "The input should be at least 3D, and the dimension of index one will be considered to be the temporal dimension.\n",
        "\n"
      ]
    },
    {
      "cell_type": "code",
      "metadata": {
        "id": "MLv0n04KFx05",
        "outputId": "4bd400eb-57dc-4a29-9905-3d13cad0315f",
        "colab": {
          "base_uri": "https://localhost:8080/",
          "height": 326
        }
      },
      "source": [
        "model = models.Sequential()\n",
        "#model.add(layers.Conv2D(4,(2,2), input_shape=(3,28,28)))\n",
        "model.add(layers.TimeDistributed(layers.Conv2D(4,(2,2)), input_shape=(10, 28,28,1)))\n",
        "model.add(layers.Flatten())\n",
        "model.add(layers.Dense(100, 'relu'))\n",
        "model.add(layers.Dense(10,'softmax'))\n",
        "print(model.summary())\n"
      ],
      "execution_count": null,
      "outputs": [
        {
          "output_type": "stream",
          "text": [
            "Model: \"sequential_8\"\n",
            "_________________________________________________________________\n",
            "Layer (type)                 Output Shape              Param #   \n",
            "=================================================================\n",
            "time_distributed_4 (TimeDist (None, 10, 27, 27, 4)     20        \n",
            "_________________________________________________________________\n",
            "flatten_7 (Flatten)          (None, 29160)             0         \n",
            "_________________________________________________________________\n",
            "dense_14 (Dense)             (None, 100)               2916100   \n",
            "_________________________________________________________________\n",
            "dense_15 (Dense)             (None, 10)                1010      \n",
            "=================================================================\n",
            "Total params: 2,917,130\n",
            "Trainable params: 2,917,130\n",
            "Non-trainable params: 0\n",
            "_________________________________________________________________\n",
            "None\n"
          ],
          "name": "stdout"
        }
      ]
    },
    {
      "cell_type": "code",
      "metadata": {
        "id": "lVvCDuH4gK5M"
      },
      "source": [
        "model.compile(optimizer='rmsprop',loss='sparse_categorical_crossentropy', metrics=['acc'])"
      ],
      "execution_count": null,
      "outputs": []
    },
    {
      "cell_type": "code",
      "metadata": {
        "id": "zBLFgzUhfvNH",
        "outputId": "d283551d-f4df-4208-8551-9648617620ed",
        "colab": {
          "base_uri": "https://localhost:8080/",
          "height": 466
        }
      },
      "source": [
        "plot_model(model, to_file='model.png')"
      ],
      "execution_count": null,
      "outputs": [
        {
          "output_type": "execute_result",
          "data": {
            "image/png": "[encoded data removed]",
            "text/plain": [
              "<IPython.core.display.Image object>"
            ]
          },
          "metadata": {
            "tags": []
          },
          "execution_count": 55
        }
      ]
    },
    {
      "cell_type": "markdown",
      "metadata": {
        "id": "KMB6XdNKGLZu"
      },
      "source": [
        "Notice how the number of parameters remain the same (20)! \n",
        "\n",
        "Since we repeat the same filter across all the frames.\n",
        "\n",
        "However, the output of flatten is x10, since we just concat all the frames outputs."
      ]
    },
    {
      "cell_type": "code",
      "metadata": {
        "id": "AiSY1pu-HOL4"
      },
      "source": [
        "model.compile(optimizer='rmsprop',loss='sparse_categorical_crossentropy', metrics=['acc'])"
      ],
      "execution_count": null,
      "outputs": []
    },
    {
      "cell_type": "code",
      "metadata": {
        "id": "fpOS3C_THSWZ"
      },
      "source": [
        "from keras.datasets import mnist\n",
        "(train_images, train_labels), (test_images, test_labels) = mnist.load_data()\n",
        "#(train_images, train_labels), (test_images, test_labels) = (np.reshape(train_images, (6000,10,28,28,1)), np.reshape(train_labels, (6000,10,1))), (np.reshape(test_images, (1000,10,28,28,1)), np.reshape(test_labels, (1000,10,1)))\n",
        "train_images, test_images = np.reshape(train_images, (6000,10,28,28,1)), np.reshape(test_images, (1000,10,28,28,1))"
      ],
      "execution_count": null,
      "outputs": []
    },
    {
      "cell_type": "markdown",
      "metadata": {
        "id": "VsFXHIHrIo5v"
      },
      "source": [
        "In this case, we are __grouping/summarizing__ every 10 frames into one video, which can have __one__label.\n",
        "\n",
        "So we need to take the last labels of every 10 as the video label:\n",
        "But if we want to do this, we can'"
      ]
    },
    {
      "cell_type": "code",
      "metadata": {
        "id": "pais4pESI76e",
        "outputId": "acfcf8f2-5623-4b65-b28f-c19796ef6515",
        "colab": {
          "base_uri": "https://localhost:8080/",
          "height": 35
        }
      },
      "source": [
        "train_labels[::10].shape"
      ],
      "execution_count": null,
      "outputs": [
        {
          "output_type": "execute_result",
          "data": {
            "text/plain": [
              "(6000,)"
            ]
          },
          "metadata": {
            "tags": []
          },
          "execution_count": 57
        }
      ]
    },
    {
      "cell_type": "code",
      "metadata": {
        "id": "6oFWNn02Jq99"
      },
      "source": [
        "train_labels = train_labels[::10]\n",
        "test_labels = test_labels[::10]"
      ],
      "execution_count": null,
      "outputs": []
    },
    {
      "cell_type": "code",
      "metadata": {
        "id": "v2Quut0XHNu7",
        "outputId": "e9d180d1-d89a-4509-a018-c4137ca76814",
        "colab": {
          "base_uri": "https://localhost:8080/",
          "height": 72
        }
      },
      "source": [
        "\n",
        "model.fit(train_images, train_labels, validation_data=(test_images, test_labels), epochs=1, batch_size=16)"
      ],
      "execution_count": null,
      "outputs": [
        {
          "output_type": "stream",
          "text": [
            "Train on 6000 samples, validate on 1000 samples\n",
            "6000/6000 [==============================] - 23s 4ms/sample - loss: 44.4616 - acc: 0.1080 - val_loss: 2.3011 - val_acc: 0.1150\n"
          ],
          "name": "stdout"
        },
        {
          "output_type": "execute_result",
          "data": {
            "text/plain": [
              "<tensorflow.python.keras.callbacks.History at 0x7fc508a205c0>"
            ]
          },
          "metadata": {
            "tags": []
          },
          "execution_count": 59
        }
      ]
    },
    {
      "cell_type": "markdown",
      "metadata": {
        "id": "jaittcb5J-8c"
      },
      "source": [
        "Of course the results are too bad! Since mnist is not video. We just used it to proof the concept."
      ]
    },
    {
      "cell_type": "markdown",
      "metadata": {
        "id": "-UNwezHxKJ4O"
      },
      "source": [
        "# If we wanted to have classification per frame"
      ]
    },
    {
      "cell_type": "code",
      "metadata": {
        "id": "ueEz7YukKPGG",
        "outputId": "bceab6ca-5f73-4a19-8b2e-57dbae8a0f0f",
        "colab": {
          "base_uri": "https://localhost:8080/",
          "height": 326
        }
      },
      "source": [
        "frame_model = models.Sequential()\n",
        "frame_model.add(layers.Conv2D(4,(2,2), input_shape=(28,28,1)))\n",
        "frame_model.add(layers.Flatten())\n",
        "frame_model.add(layers.Dense(100, 'relu'))\n",
        "frame_model.add(layers.Dense(10,'softmax'))\n",
        "print(frame_model.summary())\n",
        "\n"
      ],
      "execution_count": null,
      "outputs": [
        {
          "output_type": "stream",
          "text": [
            "Model: \"sequential_9\"\n",
            "_________________________________________________________________\n",
            "Layer (type)                 Output Shape              Param #   \n",
            "=================================================================\n",
            "conv2d_8 (Conv2D)            (None, 27, 27, 4)         20        \n",
            "_________________________________________________________________\n",
            "flatten_8 (Flatten)          (None, 2916)              0         \n",
            "_________________________________________________________________\n",
            "dense_16 (Dense)             (None, 100)               291700    \n",
            "_________________________________________________________________\n",
            "dense_17 (Dense)             (None, 10)                1010      \n",
            "=================================================================\n",
            "Total params: 292,730\n",
            "Trainable params: 292,730\n",
            "Non-trainable params: 0\n",
            "_________________________________________________________________\n",
            "None\n"
          ],
          "name": "stdout"
        }
      ]
    },
    {
      "cell_type": "code",
      "metadata": {
        "id": "PskOwIjkgock"
      },
      "source": [
        ""
      ],
      "execution_count": null,
      "outputs": []
    },
    {
      "cell_type": "markdown",
      "metadata": {
        "id": "tJm2GYLfLwBc"
      },
      "source": [
        "In this case, we have the same output shape as before for every frame"
      ]
    },
    {
      "cell_type": "code",
      "metadata": {
        "id": "YP3jZW40KZDB",
        "outputId": "7e7d26f4-2854-40c3-8ff8-e8b170f605a6",
        "colab": {
          "base_uri": "https://localhost:8080/",
          "height": 199
        }
      },
      "source": [
        "model = models.Sequential()\n",
        "model.add(layers.TimeDistributed(frame_model, input_shape=(10, 28,28,1)))\n",
        "model.summary()"
      ],
      "execution_count": null,
      "outputs": [
        {
          "output_type": "stream",
          "text": [
            "Model: \"sequential_10\"\n",
            "_________________________________________________________________\n",
            "Layer (type)                 Output Shape              Param #   \n",
            "=================================================================\n",
            "time_distributed_5 (TimeDist (None, 10, 10)            292730    \n",
            "=================================================================\n",
            "Total params: 292,730\n",
            "Trainable params: 292,730\n",
            "Non-trainable params: 0\n",
            "_________________________________________________________________\n"
          ],
          "name": "stdout"
        }
      ]
    },
    {
      "cell_type": "code",
      "metadata": {
        "id": "Xc5KIOxwgqB6",
        "outputId": "b5be5a8a-b31d-427f-a1af-70b2cf257e65",
        "colab": {
          "base_uri": "https://localhost:8080/",
          "height": 174
        }
      },
      "source": [
        "plot_model(model, to_file='model.png')"
      ],
      "execution_count": null,
      "outputs": [
        {
          "output_type": "execute_result",
          "data": {
            "image/png": "[encoded data removed]",
            "text/plain": [
              "<IPython.core.display.Image object>"
            ]
          },
          "metadata": {
            "tags": []
          },
          "execution_count": 64
        }
      ]
    },
    {
      "cell_type": "markdown",
      "metadata": {
        "id": "Y0PzZ5aoL98R"
      },
      "source": [
        "The number of parameters remain the same, since we just repeat the same CNN\n",
        "\n"
      ]
    },
    {
      "cell_type": "code",
      "metadata": {
        "id": "-FGigkccLIPP"
      },
      "source": [
        "from keras.datasets import mnist\n",
        "(train_images, train_labels), (test_images, test_labels) = mnist.load_data()\n",
        "(train_images, train_labels), (test_images, test_labels) = (np.reshape(train_images, (6000,10,28,28,1)), np.reshape(train_labels, (6000,10,1))), (np.reshape(test_images, (1000,10,28,28,1)), np.reshape(test_labels, (1000,10,1)))"
      ],
      "execution_count": null,
      "outputs": []
    },
    {
      "cell_type": "code",
      "metadata": {
        "id": "Me4Jt-hJLKXj",
        "outputId": "5ae9955f-ace7-41d0-fccc-75dda8a1971b",
        "colab": {
          "base_uri": "https://localhost:8080/",
          "height": 35
        }
      },
      "source": [
        "train_images.shape"
      ],
      "execution_count": null,
      "outputs": [
        {
          "output_type": "execute_result",
          "data": {
            "text/plain": [
              "(6000, 10, 28, 28, 1)"
            ]
          },
          "metadata": {
            "tags": []
          },
          "execution_count": 26
        }
      ]
    },
    {
      "cell_type": "code",
      "metadata": {
        "id": "OtmNgevULMb6",
        "outputId": "da95a4f8-1e87-48ec-fdb4-a1eb99bb356f",
        "colab": {
          "base_uri": "https://localhost:8080/",
          "height": 35
        }
      },
      "source": [
        "train_labels.shape"
      ],
      "execution_count": null,
      "outputs": [
        {
          "output_type": "execute_result",
          "data": {
            "text/plain": [
              "(6000, 10, 1)"
            ]
          },
          "metadata": {
            "tags": []
          },
          "execution_count": 27
        }
      ]
    },
    {
      "cell_type": "code",
      "metadata": {
        "id": "e8HF20U_LQ3D"
      },
      "source": [
        "model.compile(optimizer='rmsprop',loss='sparse_categorical_crossentropy', metrics=['acc'])"
      ],
      "execution_count": null,
      "outputs": []
    },
    {
      "cell_type": "code",
      "metadata": {
        "id": "slO2hMDcLS3e",
        "outputId": "a4402670-3cd6-4b5a-d552-98f1d73d5954",
        "colab": {
          "base_uri": "https://localhost:8080/",
          "height": 72
        }
      },
      "source": [
        "\n",
        "model.fit(train_images, train_labels, validation_data=(test_images, test_labels), epochs=1, batch_size=16)"
      ],
      "execution_count": null,
      "outputs": [
        {
          "output_type": "stream",
          "text": [
            "Train on 6000 samples, validate on 1000 samples\n",
            "6000/6000 [==============================] - 13s 2ms/sample - loss: 11.3263 - acc: 0.2967 - val_loss: 11.2299 - val_acc: 0.3031\n"
          ],
          "name": "stdout"
        },
        {
          "output_type": "execute_result",
          "data": {
            "text/plain": [
              "<tensorflow.python.keras.callbacks.History at 0x7fc5088f5550>"
            ]
          },
          "metadata": {
            "tags": []
          },
          "execution_count": 66
        }
      ]
    },
    {
      "cell_type": "code",
      "metadata": {
        "id": "ZlJRUitFLmUw"
      },
      "source": [
        ""
      ],
      "execution_count": null,
      "outputs": []
    }
  ]
}