{
 "cells": [
  {
   "cell_type": "code",
   "execution_count": 1,
   "metadata": {},
   "outputs": [],
   "source": [
    "%load_ext autoreload\n",
    "%autoreload 2\n",
    "\n",
    "import matplotlib.pyplot as plt\n",
    "import networkx as nx\n",
    "import numpy as np\n",
    "import sklearn\n",
    "from sklearn.mixture import GaussianMixture\n",
    "import scipy as sp\n",
    "import os\n",
    "import pickle\n",
    "import time\n",
    "from tqdm.notebook import tqdm\n",
    "\n",
    "import torch\n",
    "torch.set_default_tensor_type(torch.DoubleTensor)\n",
    "\n",
    "from spatial_scene_grammars.nodes import *\n",
    "from spatial_scene_grammars.rules import *\n",
    "from spatial_scene_grammars.scene_grammar import *\n",
    "from spatial_scene_grammars.visualization import *\n",
    "from spatial_scene_grammars_examples.gmm.grammar import *\n",
    "from spatial_scene_grammars.parsing import *\n",
    "from spatial_scene_grammars.sampling import *\n",
    "from spatial_scene_grammars.parameter_estimation import *"
   ]
  },
  {
   "cell_type": "code",
   "execution_count": 2,
   "metadata": {},
   "outputs": [],
   "source": [
    "def convert_grammar_to_gmm(grammar):\n",
    "    weights = grammar.params_by_node_type[Root.__name__]().detach().numpy()\n",
    "    means_init = []\n",
    "    vars_init = []\n",
    "    for rule_params in grammar.rule_params_by_node_type[\"Root\"]:\n",
    "        mean = rule_params[0][\"mean\"]().detach().numpy()\n",
    "        var = rule_params[0][\"variance\"]().detach().numpy()\n",
    "        means_init.append(mean)\n",
    "        vars_init.append(var)\n",
    "    means_init = np.stack(means_init)\n",
    "    vars_init = np.stack(vars_init)\n",
    "    return make_gmm_without_fitting(weights, means_init, vars_init)\n",
    "\n",
    "def make_gmm_without_fitting(weights_init, means_init, vars_init):\n",
    "    gmm = GaussianMixture(\n",
    "        n_components=3,\n",
    "        covariance_type=\"diag\"\n",
    "    )\n",
    "    gmm.weights_ = deepcopy(weights_init)\n",
    "    gmm.means_ = deepcopy(means_init)\n",
    "    gmm.covariances_ = deepcopy(vars_init)\n",
    "    gmm.precisions_ = 1./deepcopy(vars_init)\n",
    "    gmm.precisions_cholesky_ = 1.0 / np.sqrt(vars_init)\n",
    "    gmm.converged_ = True\n",
    "    return gmm\n",
    "\n",
    "def convert_gmm_to_grammar(gmm):\n",
    "    grammar = SpatialSceneGrammar(\n",
    "        root_node_type = Root,\n",
    "        root_node_tf = torch.eye(4),\n",
    "        sample_params_from_prior=True\n",
    "    )\n",
    "    rule_probs_param = grammar.params_by_node_type[Root.__name__]\n",
    "    rule_probs_param.set(torch.tensor(deepcopy(gmm.weights_)))\n",
    "\n",
    "    for k, rule_params in enumerate(grammar.rule_params_by_node_type[\"Root\"]):\n",
    "        mean_param = rule_params[0][\"mean\"]\n",
    "        var_param = rule_params[0][\"variance\"]\n",
    "        mean_param.set(torch.tensor(deepcopy(gmm.means_[k, :])))\n",
    "        var_param.set(torch.tensor(deepcopy(gmm.covariances_[k, :])))\n",
    "    return grammar\n",
    "\n",
    "\n",
    "def make_random_gmm(seed):\n",
    "    pyro.set_rng_seed(seed)\n",
    "    # Come up with weights / means / variances manually\n",
    "    weights = dist.Dirichlet(torch.ones(3)).sample().detach().numpy()\n",
    "    means = dist.Uniform(torch.ones(3, 3)*-10., torch.ones(3, 3)*10.).sample().detach().numpy()\n",
    "    vars = dist.Uniform(torch.ones(3, 3)*0.5, torch.ones(3, 3)*1.0).sample().detach().square().numpy()\n",
    "    return make_gmm_without_fitting(weights, means, vars)\n",
    "    \n",
    "def make_target_grammar_and_data(seed, N):\n",
    "    gmm = make_random_gmm(seed)\n",
    "    X = gmm.sample(N)[0]\n",
    "    return convert_gmm_to_grammar(gmm), X    \n",
    "    \n",
    "N_EM_ITERS_DEFAULT = 5\n",
    "def do_sklearn_gmm_fit(X, weights_init, means_init, vars_init, n_em_iters=N_EM_ITERS_DEFAULT):\n",
    "    gmm = make_gmm_without_fitting(weights_init, means_init, vars_init)\n",
    "    # Run EM updates myself, copying internal code. I'm having trouble\n",
    "    # forcing it to accept my initialization; I think this line\n",
    "    # https://github.com/scikit-learn/scikit-learn/blob/0d378913be6d7e485b792ea36e9268be31ed52d0/sklearn/mixture/_gaussian_mixture.py#L730\n",
    "    # should initialize to the sqrt instead of the covariance...\n",
    "    for iter_k in range(n_em_iters):\n",
    "        log_prob_norm, log_resp = gmm._e_step(X)\n",
    "        gmm._m_step(X, log_resp)\n",
    "    return convert_gmm_to_grammar(gmm)\n",
    "\n",
    "\n",
    "def do_grammar_gmm_fit(X, weights_init, means_init, vars_init, n_em_iters=N_EM_ITERS_DEFAULT):\n",
    "    # Make fitting grammar\n",
    "    fit_grammar = SpatialSceneGrammar(\n",
    "        root_node_type = Root,\n",
    "        root_node_tf = torch.eye(4),\n",
    "        sample_params_from_prior=True\n",
    "    )\n",
    "    rule_probs_param = fit_grammar.params_by_node_type[Root.__name__]\n",
    "    rule_probs_param.set(torch.tensor(deepcopy(weights_init)))\n",
    "    for k, rule_params in enumerate(fit_grammar.rule_params_by_node_type[\"Root\"]):\n",
    "        mean_param = rule_params[0][\"mean\"]\n",
    "        var_param = rule_params[0][\"variance\"]\n",
    "        mean_param.set(torch.tensor(deepcopy(means_init[k, :])))\n",
    "        var_param.set(torch.tensor(deepcopy(vars_init[k, :])))\n",
    "    \n",
    "    observed_nodes = []\n",
    "    for x in X:\n",
    "        observed_nodes.append([Point(tf=drake_tf_to_torch_tf(RigidTransform(p=x)))])\n",
    "    # Don't clip weights to keep them finite; in this case we won't be infeasible\n",
    "    # if we do set some weights to zero, and it's a thing that the baseline EM approach\n",
    "    # doesn't do.\n",
    "    em = EMWrapper(fit_grammar, observed_nodes, max_scene_extent_in_any_dir=20,\n",
    "                   parsing_strategy=\"ip_noproposals\", do_nlp_refinement=False)\n",
    "    em.do_iterated_em_fitting(em_iterations=n_em_iters, tqdm=tqdm, N_solutions=3, num_workers=5,\n",
    "                   min_weight=10 * np.finfo(weights_init.dtype).eps, weight_by_sample_prob=True)\n",
    "    return fit_grammar, em"
   ]
  },
  {
   "cell_type": "code",
   "execution_count": 3,
   "metadata": {},
   "outputs": [
    {
     "data": {
      "image/png": "[encoded data removed]",
      "text/plain": [
       "<Figure size 432x288 with 3 Axes>"
      ]
     },
     "metadata": {
      "needs_background": "light"
     },
     "output_type": "display_data"
    }
   ],
   "source": [
    "target_grammar, X = make_target_grammar_and_data(11, 1000)\n",
    "\n",
    "\n",
    "def plot_grammar_modes(grammar, axs):\n",
    "    xs = np.linspace(-15, 15, 1000)\n",
    "    for k, label in enumerate(\"xyz\"):\n",
    "        rule_probs_param = grammar.params_by_node_type[Root.__name__]\n",
    "        modes = []\n",
    "\n",
    "        for rule_params in grammar.rule_params_by_node_type[\"Root\"]:\n",
    "            mean_param = rule_params[0][\"mean\"]\n",
    "            var_param = rule_params[0][\"variance\"]\n",
    "            modes.append((mean_param(), var_param()))\n",
    "\n",
    "        for mode_k, (prob, mode) in enumerate(zip(rule_probs_param().detach().numpy(), modes)):\n",
    "            mode = torch.exp(dist.Normal(mode[0][k], mode[1][k]).log_prob(torch.tensor(xs))).detach().numpy() * prob\n",
    "            axs[k].plot(xs, mode, label=\"Mode %d\" % mode_k)\n",
    "\n",
    "def plot_grammar_samples(grammar, axs, X):\n",
    "    for k, label in enumerate(\"xyz\"):\n",
    "        axs[k].hist(X[:, k], bins=50, alpha=0.5, density=True)\n",
    "        \n",
    "def make_figure_for_grammar(grammar, X, axs):\n",
    "    plot_grammar_modes(grammar, axs)\n",
    "    plot_grammar_samples(grammar, axs, X)\n",
    "\n",
    "fig, axs = plt.subplots(1, 3)\n",
    "make_figure_for_grammar(target_grammar, X, axs)"
   ]
  },
  {
   "cell_type": "code",
   "execution_count": 4,
   "metadata": {},
   "outputs": [
    {
     "name": "stdout",
     "output_type": "stream",
     "text": [
      "Rerunning experiment...\n"
     ]
    },
    {
     "data": {
      "application/vnd.jupyter.widget-view+json": {
       "model_id": "7ff14255c97548e890f0a8e9d6678220",
       "version_major": 2,
       "version_minor": 0
      },
      "text/plain": [
       "  0%|          | 0/30 [00:00<?, ?it/s]"
      ]
     },
     "metadata": {},
     "output_type": "display_data"
    },
    {
     "data": {
      "application/vnd.jupyter.widget-view+json": {
       "model_id": "825af8eadeeb4e9ea43a637de062761f",
       "version_major": 2,
       "version_minor": 0
      },
      "text/plain": [
       "EM Iteration:   0%|          | 0/5 [00:00<?, ?it/s]"
      ]
     },
     "metadata": {},
     "output_type": "display_data"
    },
    {
     "data": {
      "application/vnd.jupyter.widget-view+json": {
       "model_id": "d2ebcac371374af69b567ee45bcfc117",
       "version_major": 2,
       "version_minor": 0
      },
      "text/plain": [
       "  0%|          | 0/100 [00:00<?, ?it/s]"
      ]
     },
     "metadata": {},
     "output_type": "display_data"
    },
    {
     "data": {
      "application/vnd.jupyter.widget-view+json": {
       "model_id": "be7798248ddf42ba80dc7c8a52e20de5",
       "version_major": 2,
       "version_minor": 0
      },
      "text/plain": [
       "  0%|          | 0/100 [00:00<?, ?it/s]"
      ]
     },
     "metadata": {},
     "output_type": "display_data"
    },
    {
     "data": {
      "application/vnd.jupyter.widget-view+json": {
       "model_id": "d0632bba1a1a45e3ba1ad0d0e07a0cf7",
       "version_major": 2,
       "version_minor": 0
      },
      "text/plain": [
       "  0%|          | 0/100 [00:00<?, ?it/s]"
      ]
     },
     "metadata": {},
     "output_type": "display_data"
    },
    {
     "data": {
      "application/vnd.jupyter.widget-view+json": {
       "model_id": "e95401d4320c4bbe90445de1d55f32fb",
       "version_major": 2,
       "version_minor": 0
      },
      "text/plain": [
       "  0%|          | 0/100 [00:00<?, ?it/s]"
      ]
     },
     "metadata": {},
     "output_type": "display_data"
    },
    {
     "data": {
      "application/vnd.jupyter.widget-view+json": {
       "model_id": "db207436ab5541328f351cbfb1061018",
       "version_major": 2,
       "version_minor": 0
      },
      "text/plain": [
       "  0%|          | 0/100 [00:00<?, ?it/s]"
      ]
     },
     "metadata": {},
     "output_type": "display_data"
    },
    {
     "data": {
      "application/vnd.jupyter.widget-view+json": {
       "model_id": "4578af86f9fc4e2785cc7179ff1d5b9a",
       "version_major": 2,
       "version_minor": 0
      },
      "text/plain": [
       "EM Iteration:   0%|          | 0/5 [00:00<?, ?it/s]"
      ]
     },
     "metadata": {},
     "output_type": "display_data"
    },
    {
     "data": {
      "application/vnd.jupyter.widget-view+json": {
       "model_id": "d46f57685ee541b784454d8b3f2b999a",
       "version_major": 2,
       "version_minor": 0
      },
      "text/plain": [
       "  0%|          | 0/100 [00:00<?, ?it/s]"
      ]
     },
     "metadata": {},
     "output_type": "display_data"
    },
    {
     "data": {
      "application/vnd.jupyter.widget-view+json": {
       "model_id": "51a09de7046f40389f624df884fbedb7",
       "version_major": 2,
       "version_minor": 0
      },
      "text/plain": [
       "  0%|          | 0/100 [00:00<?, ?it/s]"
      ]
     },
     "metadata": {},
     "output_type": "display_data"
    },
    {
     "data": {
      "application/vnd.jupyter.widget-view+json": {
       "model_id": "566cebaa884d4ded8337d06d6fa0684b",
       "version_major": 2,
       "version_minor": 0
      },
      "text/plain": [
       "  0%|          | 0/100 [00:00<?, ?it/s]"
      ]
     },
     "metadata": {},
     "output_type": "display_data"
    },
    {
     "data": {
      "application/vnd.jupyter.widget-view+json": {
       "model_id": "213721e0f3ea4249bef725b8dd4ea366",
       "version_major": 2,
       "version_minor": 0
      },
      "text/plain": [
       "  0%|          | 0/100 [00:00<?, ?it/s]"
      ]
     },
     "metadata": {},
     "output_type": "display_data"
    },
    {
     "data": {
      "application/vnd.jupyter.widget-view+json": {
       "model_id": "051f03887b4f4a658d19804634936bc7",
       "version_major": 2,
       "version_minor": 0
      },
      "text/plain": [
       "  0%|          | 0/100 [00:00<?, ?it/s]"
      ]
     },
     "metadata": {},
     "output_type": "display_data"
    },
    {
     "data": {
      "application/vnd.jupyter.widget-view+json": {
       "model_id": "c9b0089f1c6d41559414f6d3ea86cbf2",
       "version_major": 2,
       "version_minor": 0
      },
      "text/plain": [
       "EM Iteration:   0%|          | 0/5 [00:00<?, ?it/s]"
      ]
     },
     "metadata": {},
     "output_type": "display_data"
    },
    {
     "data": {
      "application/vnd.jupyter.widget-view+json": {
       "model_id": "1fafc5e60ef04afeadd994ded5e210d4",
       "version_major": 2,
       "version_minor": 0
      },
      "text/plain": [
       "  0%|          | 0/100 [00:00<?, ?it/s]"
      ]
     },
     "metadata": {},
     "output_type": "display_data"
    },
    {
     "data": {
      "application/vnd.jupyter.widget-view+json": {
       "model_id": "5ecd36ec1a6b4dc09ec71e1b5d6c8d9b",
       "version_major": 2,
       "version_minor": 0
      },
      "text/plain": [
       "  0%|          | 0/100 [00:00<?, ?it/s]"
      ]
     },
     "metadata": {},
     "output_type": "display_data"
    },
    {
     "data": {
      "application/vnd.jupyter.widget-view+json": {
       "model_id": "2e16a15597d54131a33086d51fdc6c01",
       "version_major": 2,
       "version_minor": 0
      },
      "text/plain": [
       "  0%|          | 0/100 [00:00<?, ?it/s]"
      ]
     },
     "metadata": {},
     "output_type": "display_data"
    },
    {
     "data": {
      "application/vnd.jupyter.widget-view+json": {
       "model_id": "c6e5d019b5854bb286d8c39cf6006d20",
       "version_major": 2,
       "version_minor": 0
      },
      "text/plain": [
       "  0%|          | 0/100 [00:00<?, ?it/s]"
      ]
     },
     "metadata": {},
     "output_type": "display_data"
    },
    {
     "data": {
      "application/vnd.jupyter.widget-view+json": {
       "model_id": "475d196c69b446e5a47e4ec4a3b16eab",
       "version_major": 2,
       "version_minor": 0
      },
      "text/plain": [
       "  0%|          | 0/100 [00:00<?, ?it/s]"
      ]
     },
     "metadata": {},
     "output_type": "display_data"
    },
    {
     "data": {
      "application/vnd.jupyter.widget-view+json": {
       "model_id": "62942b5e7b7b43019e9271d0734d9963",
       "version_major": 2,
       "version_minor": 0
      },
      "text/plain": [
       "EM Iteration:   0%|          | 0/5 [00:00<?, ?it/s]"
      ]
     },
     "metadata": {},
     "output_type": "display_data"
    },
    {
     "data": {
      "application/vnd.jupyter.widget-view+json": {
       "model_id": "121e85225d764a3687160dfee6e1d80e",
       "version_major": 2,
       "version_minor": 0
      },
      "text/plain": [
       "  0%|          | 0/100 [00:00<?, ?it/s]"
      ]
     },
     "metadata": {},
     "output_type": "display_data"
    },
    {
     "data": {
      "application/vnd.jupyter.widget-view+json": {
       "model_id": "76e24ca4702042b0b80c3d2d4ca3fd33",
       "version_major": 2,
       "version_minor": 0
      },
      "text/plain": [
       "  0%|          | 0/100 [00:00<?, ?it/s]"
      ]
     },
     "metadata": {},
     "output_type": "display_data"
    },
    {
     "data": {
      "application/vnd.jupyter.widget-view+json": {
       "model_id": "af79f3fc9eab4c179d8d86236ad4d381",
       "version_major": 2,
       "version_minor": 0
      },
      "text/plain": [
       "  0%|          | 0/100 [00:00<?, ?it/s]"
      ]
     },
     "metadata": {},
     "output_type": "display_data"
    },
    {
     "data": {
      "application/vnd.jupyter.widget-view+json": {
       "model_id": "e6448cc205ec4af2b7a0b3fd0e61550b",
       "version_major": 2,
       "version_minor": 0
      },
      "text/plain": [
       "  0%|          | 0/100 [00:00<?, ?it/s]"
      ]
     },
     "metadata": {},
     "output_type": "display_data"
    },
    {
     "data": {
      "application/vnd.jupyter.widget-view+json": {
       "model_id": "57e40ad10e954b06871fe2839b241d88",
       "version_major": 2,
       "version_minor": 0
      },
      "text/plain": [
       "  0%|          | 0/100 [00:00<?, ?it/s]"
      ]
     },
     "metadata": {},
     "output_type": "display_data"
    },
    {
     "data": {
      "application/vnd.jupyter.widget-view+json": {
       "model_id": "ea545044d4a8473b9e081944bcd68b16",
       "version_major": 2,
       "version_minor": 0
      },
      "text/plain": [
       "EM Iteration:   0%|          | 0/5 [00:00<?, ?it/s]"
      ]
     },
     "metadata": {},
     "output_type": "display_data"
    },
    {
     "data": {
      "application/vnd.jupyter.widget-view+json": {
       "model_id": "b184e9a8db89445b92f56fae758007de",
       "version_major": 2,
       "version_minor": 0
      },
      "text/plain": [
       "  0%|          | 0/100 [00:00<?, ?it/s]"
      ]
     },
     "metadata": {},
     "output_type": "display_data"
    },
    {
     "data": {
      "application/vnd.jupyter.widget-view+json": {
       "model_id": "f1a4fbaf7cbe449fbd7b43aa193e49a9",
       "version_major": 2,
       "version_minor": 0
      },
      "text/plain": [
       "  0%|          | 0/100 [00:00<?, ?it/s]"
      ]
     },
     "metadata": {},
     "output_type": "display_data"
    },
    {
     "data": {
      "application/vnd.jupyter.widget-view+json": {
       "model_id": "855106fc3a704c7180c7f4dc7c43c724",
       "version_major": 2,
       "version_minor": 0
      },
      "text/plain": [
       "  0%|          | 0/100 [00:00<?, ?it/s]"
      ]
     },
     "metadata": {},
     "output_type": "display_data"
    },
    {
     "data": {
      "application/vnd.jupyter.widget-view+json": {
       "model_id": "ef56842d73f74f0aaf872c59a0f370b6",
       "version_major": 2,
       "version_minor": 0
      },
      "text/plain": [
       "  0%|          | 0/100 [00:00<?, ?it/s]"
      ]
     },
     "metadata": {},
     "output_type": "display_data"
    },
    {
     "data": {
      "application/vnd.jupyter.widget-view+json": {
       "model_id": "f6f934987d12458288c154df7226bcb7",
       "version_major": 2,
       "version_minor": 0
      },
      "text/plain": [
       "  0%|          | 0/100 [00:00<?, ?it/s]"
      ]
     },
     "metadata": {},
     "output_type": "display_data"
    },
    {
     "data": {
      "application/vnd.jupyter.widget-view+json": {
       "model_id": "35ce203efafe4345804e631bd6472870",
       "version_major": 2,
       "version_minor": 0
      },
      "text/plain": [
       "EM Iteration:   0%|          | 0/5 [00:00<?, ?it/s]"
      ]
     },
     "metadata": {},
     "output_type": "display_data"
    },
    {
     "data": {
      "application/vnd.jupyter.widget-view+json": {
       "model_id": "b2766a8a29494f9a9036d127585a6ba6",
       "version_major": 2,
       "version_minor": 0
      },
      "text/plain": [
       "  0%|          | 0/100 [00:00<?, ?it/s]"
      ]
     },
     "metadata": {},
     "output_type": "display_data"
    },
    {
     "data": {
      "application/vnd.jupyter.widget-view+json": {
       "model_id": "7a83f3f1493148d2976090ed82379d7c",
       "version_major": 2,
       "version_minor": 0
      },
      "text/plain": [
       "  0%|          | 0/100 [00:00<?, ?it/s]"
      ]
     },
     "metadata": {},
     "output_type": "display_data"
    },
    {
     "data": {
      "application/vnd.jupyter.widget-view+json": {
       "model_id": "835fa034fbd54df29bc3606b8337e9d7",
       "version_major": 2,
       "version_minor": 0
      },
      "text/plain": [
       "  0%|          | 0/100 [00:00<?, ?it/s]"
      ]
     },
     "metadata": {},
     "output_type": "display_data"
    },
    {
     "data": {
      "application/vnd.jupyter.widget-view+json": {
       "model_id": "824adea0ab254accaf067546804df384",
       "version_major": 2,
       "version_minor": 0
      },
      "text/plain": [
       "  0%|          | 0/100 [00:00<?, ?it/s]"
      ]
     },
     "metadata": {},
     "output_type": "display_data"
    },
    {
     "data": {
      "application/vnd.jupyter.widget-view+json": {
       "model_id": "5255b6289f0e4d1ebe01ec6befe9ba45",
       "version_major": 2,
       "version_minor": 0
      },
      "text/plain": [
       "  0%|          | 0/100 [00:00<?, ?it/s]"
      ]
     },
     "metadata": {},
     "output_type": "display_data"
    },
    {
     "data": {
      "application/vnd.jupyter.widget-view+json": {
       "model_id": "f4fcf853e66e4a909d9087cff6d44bce",
       "version_major": 2,
       "version_minor": 0
      },
      "text/plain": [
       "EM Iteration:   0%|          | 0/5 [00:00<?, ?it/s]"
      ]
     },
     "metadata": {},
     "output_type": "display_data"
    },
    {
     "data": {
      "application/vnd.jupyter.widget-view+json": {
       "model_id": "a132a145daa24f2f8d970423d6b9c369",
       "version_major": 2,
       "version_minor": 0
      },
      "text/plain": [
       "  0%|          | 0/100 [00:00<?, ?it/s]"
      ]
     },
     "metadata": {},
     "output_type": "display_data"
    },
    {
     "data": {
      "application/vnd.jupyter.widget-view+json": {
       "model_id": "2adab8c35a044055b641cd34eba1b27f",
       "version_major": 2,
       "version_minor": 0
      },
      "text/plain": [
       "  0%|          | 0/100 [00:00<?, ?it/s]"
      ]
     },
     "metadata": {},
     "output_type": "display_data"
    },
    {
     "data": {
      "application/vnd.jupyter.widget-view+json": {
       "model_id": "e8b1e45e23ff4231b0088573ede88d17",
       "version_major": 2,
       "version_minor": 0
      },
      "text/plain": [
       "  0%|          | 0/100 [00:00<?, ?it/s]"
      ]
     },
     "metadata": {},
     "output_type": "display_data"
    },
    {
     "data": {
      "application/vnd.jupyter.widget-view+json": {
       "model_id": "0b09b60373744fd78df107528624c9dd",
       "version_major": 2,
       "version_minor": 0
      },
      "text/plain": [
       "  0%|          | 0/100 [00:00<?, ?it/s]"
      ]
     },
     "metadata": {},
     "output_type": "display_data"
    },
    {
     "data": {
      "application/vnd.jupyter.widget-view+json": {
       "model_id": "bee29bc51fb84c58b8ace34306018fda",
       "version_major": 2,
       "version_minor": 0
      },
      "text/plain": [
       "  0%|          | 0/100 [00:00<?, ?it/s]"
      ]
     },
     "metadata": {},
     "output_type": "display_data"
    },
    {
     "data": {
      "application/vnd.jupyter.widget-view+json": {
       "model_id": "c48b9a36ab1648c9b63c495fac26d8c9",
       "version_major": 2,
       "version_minor": 0
      },
      "text/plain": [
       "EM Iteration:   0%|          | 0/5 [00:00<?, ?it/s]"
      ]
     },
     "metadata": {},
     "output_type": "display_data"
    },
    {
     "data": {
      "application/vnd.jupyter.widget-view+json": {
       "model_id": "a4dfbdcfb73e4a9784a2f6cf0e041025",
       "version_major": 2,
       "version_minor": 0
      },
      "text/plain": [
       "  0%|          | 0/100 [00:00<?, ?it/s]"
      ]
     },
     "metadata": {},
     "output_type": "display_data"
    },
    {
     "data": {
      "application/vnd.jupyter.widget-view+json": {
       "model_id": "d3d70b18c67b4ee58d44bd89ff8d8d77",
       "version_major": 2,
       "version_minor": 0
      },
      "text/plain": [
       "  0%|          | 0/100 [00:00<?, ?it/s]"
      ]
     },
     "metadata": {},
     "output_type": "display_data"
    },
    {
     "data": {
      "application/vnd.jupyter.widget-view+json": {
       "model_id": "fa1ee91f745440398854fa00a73129cd",
       "version_major": 2,
       "version_minor": 0
      },
      "text/plain": [
       "  0%|          | 0/100 [00:00<?, ?it/s]"
      ]
     },
     "metadata": {},
     "output_type": "display_data"
    },
    {
     "data": {
      "application/vnd.jupyter.widget-view+json": {
       "model_id": "b4bb254c75f44ad3a68bb8c65903335b",
       "version_major": 2,
       "version_minor": 0
      },
      "text/plain": [
       "  0%|          | 0/100 [00:00<?, ?it/s]"
      ]
     },
     "metadata": {},
     "output_type": "display_data"
    },
    {
     "data": {
      "application/vnd.jupyter.widget-view+json": {
       "model_id": "ed4312918e49411ba3fef594cd2f1422",
       "version_major": 2,
       "version_minor": 0
      },
      "text/plain": [
       "  0%|          | 0/100 [00:00<?, ?it/s]"
      ]
     },
     "metadata": {},
     "output_type": "display_data"
    },
    {
     "data": {
      "application/vnd.jupyter.widget-view+json": {
       "model_id": "ffa50f011f534e05994db6e66c40a182",
       "version_major": 2,
       "version_minor": 0
      },
      "text/plain": [
       "EM Iteration:   0%|          | 0/5 [00:00<?, ?it/s]"
      ]
     },
     "metadata": {},
     "output_type": "display_data"
    },
    {
     "data": {
      "application/vnd.jupyter.widget-view+json": {
       "model_id": "02036ec2a8374c9eaa1636cddef72e6b",
       "version_major": 2,
       "version_minor": 0
      },
      "text/plain": [
       "  0%|          | 0/100 [00:00<?, ?it/s]"
      ]
     },
     "metadata": {},
     "output_type": "display_data"
    },
    {
     "data": {
      "application/vnd.jupyter.widget-view+json": {
       "model_id": "3e6f79ae0c69471bbdc2e4b14ba54e48",
       "version_major": 2,
       "version_minor": 0
      },
      "text/plain": [
       "  0%|          | 0/100 [00:00<?, ?it/s]"
      ]
     },
     "metadata": {},
     "output_type": "display_data"
    },
    {
     "data": {
      "application/vnd.jupyter.widget-view+json": {
       "model_id": "4e11d0de7cea4affb689a8e5a45d5fd4",
       "version_major": 2,
       "version_minor": 0
      },
      "text/plain": [
       "  0%|          | 0/100 [00:00<?, ?it/s]"
      ]
     },
     "metadata": {},
     "output_type": "display_data"
    },
    {
     "data": {
      "application/vnd.jupyter.widget-view+json": {
       "model_id": "4bf3eea4726843339795576e14ca791c",
       "version_major": 2,
       "version_minor": 0
      },
      "text/plain": [
       "  0%|          | 0/100 [00:00<?, ?it/s]"
      ]
     },
     "metadata": {},
     "output_type": "display_data"
    },
    {
     "data": {
      "application/vnd.jupyter.widget-view+json": {
       "model_id": "3c20883433d74147a0e968f2217cc576",
       "version_major": 2,
       "version_minor": 0
      },
      "text/plain": [
       "  0%|          | 0/100 [00:00<?, ?it/s]"
      ]
     },
     "metadata": {},
     "output_type": "display_data"
    },
    {
     "data": {
      "application/vnd.jupyter.widget-view+json": {
       "model_id": "9fbc74a266904c7283247cb1c87a88ae",
       "version_major": 2,
       "version_minor": 0
      },
      "text/plain": [
       "EM Iteration:   0%|          | 0/5 [00:00<?, ?it/s]"
      ]
     },
     "metadata": {},
     "output_type": "display_data"
    },
    {
     "data": {
      "application/vnd.jupyter.widget-view+json": {
       "model_id": "8b43c5b60c684286a5683ecf9f3ccc9e",
       "version_major": 2,
       "version_minor": 0
      },
      "text/plain": [
       "  0%|          | 0/100 [00:00<?, ?it/s]"
      ]
     },
     "metadata": {},
     "output_type": "display_data"
    },
    {
     "data": {
      "application/vnd.jupyter.widget-view+json": {
       "model_id": "0d5c23526bc14fb29e4cad60dfc973e5",
       "version_major": 2,
       "version_minor": 0
      },
      "text/plain": [
       "  0%|          | 0/100 [00:00<?, ?it/s]"
      ]
     },
     "metadata": {},
     "output_type": "display_data"
    },
    {
     "data": {
      "application/vnd.jupyter.widget-view+json": {
       "model_id": "51a5762f56584c1aa4c8ce5a0e9cd3a4",
       "version_major": 2,
       "version_minor": 0
      },
      "text/plain": [
       "  0%|          | 0/100 [00:00<?, ?it/s]"
      ]
     },
     "metadata": {},
     "output_type": "display_data"
    },
    {
     "data": {
      "application/vnd.jupyter.widget-view+json": {
       "model_id": "08b8a878ca0a4b1293ae358bec56795b",
       "version_major": 2,
       "version_minor": 0
      },
      "text/plain": [
       "  0%|          | 0/100 [00:00<?, ?it/s]"
      ]
     },
     "metadata": {},
     "output_type": "display_data"
    },
    {
     "data": {
      "application/vnd.jupyter.widget-view+json": {
       "model_id": "8fe9329dcaa642f58f1c54d0dcdf6dd3",
       "version_major": 2,
       "version_minor": 0
      },
      "text/plain": [
       "  0%|          | 0/100 [00:00<?, ?it/s]"
      ]
     },
     "metadata": {},
     "output_type": "display_data"
    },
    {
     "data": {
      "application/vnd.jupyter.widget-view+json": {
       "model_id": "7784a14b9fe146199cdbc80457237fb5",
       "version_major": 2,
       "version_minor": 0
      },
      "text/plain": [
       "EM Iteration:   0%|          | 0/5 [00:00<?, ?it/s]"
      ]
     },
     "metadata": {},
     "output_type": "display_data"
    },
    {
     "data": {
      "application/vnd.jupyter.widget-view+json": {
       "model_id": "a3a6a93b7d134734912f876af22feecb",
       "version_major": 2,
       "version_minor": 0
      },
      "text/plain": [
       "  0%|          | 0/100 [00:00<?, ?it/s]"
      ]
     },
     "metadata": {},
     "output_type": "display_data"
    },
    {
     "data": {
      "application/vnd.jupyter.widget-view+json": {
       "model_id": "87c383779cc949ac9266dedd579b1655",
       "version_major": 2,
       "version_minor": 0
      },
      "text/plain": [
       "  0%|          | 0/100 [00:00<?, ?it/s]"
      ]
     },
     "metadata": {},
     "output_type": "display_data"
    },
    {
     "data": {
      "application/vnd.jupyter.widget-view+json": {
       "model_id": "d4ac7a10653d4a5fa5c8863fbbb63b5a",
       "version_major": 2,
       "version_minor": 0
      },
      "text/plain": [
       "  0%|          | 0/100 [00:00<?, ?it/s]"
      ]
     },
     "metadata": {},
     "output_type": "display_data"
    },
    {
     "data": {
      "application/vnd.jupyter.widget-view+json": {
       "model_id": "3ff32866766a4cf9bc2b2d9a3d9e82fd",
       "version_major": 2,
       "version_minor": 0
      },
      "text/plain": [
       "  0%|          | 0/100 [00:00<?, ?it/s]"
      ]
     },
     "metadata": {},
     "output_type": "display_data"
    },
    {
     "data": {
      "application/vnd.jupyter.widget-view+json": {
       "model_id": "f0c05d670a4840628f3b2cda0297033b",
       "version_major": 2,
       "version_minor": 0
      },
      "text/plain": [
       "  0%|          | 0/100 [00:00<?, ?it/s]"
      ]
     },
     "metadata": {},
     "output_type": "display_data"
    },
    {
     "data": {
      "application/vnd.jupyter.widget-view+json": {
       "model_id": "37756fc3e42c4c41b801ffab454b205b",
       "version_major": 2,
       "version_minor": 0
      },
      "text/plain": [
       "EM Iteration:   0%|          | 0/5 [00:00<?, ?it/s]"
      ]
     },
     "metadata": {},
     "output_type": "display_data"
    },
    {
     "data": {
      "application/vnd.jupyter.widget-view+json": {
       "model_id": "73936101e98f41979f5105041a9f9a3a",
       "version_major": 2,
       "version_minor": 0
      },
      "text/plain": [
       "  0%|          | 0/100 [00:00<?, ?it/s]"
      ]
     },
     "metadata": {},
     "output_type": "display_data"
    },
    {
     "data": {
      "application/vnd.jupyter.widget-view+json": {
       "model_id": "92fc1df4be2a408eb06b99beb55d9af8",
       "version_major": 2,
       "version_minor": 0
      },
      "text/plain": [
       "  0%|          | 0/100 [00:00<?, ?it/s]"
      ]
     },
     "metadata": {},
     "output_type": "display_data"
    },
    {
     "data": {
      "application/vnd.jupyter.widget-view+json": {
       "model_id": "9f99a98d363644198fbf2d22491af370",
       "version_major": 2,
       "version_minor": 0
      },
      "text/plain": [
       "  0%|          | 0/100 [00:00<?, ?it/s]"
      ]
     },
     "metadata": {},
     "output_type": "display_data"
    },
    {
     "data": {
      "application/vnd.jupyter.widget-view+json": {
       "model_id": "18a1c93506324145a5a8ec894b2e4cd7",
       "version_major": 2,
       "version_minor": 0
      },
      "text/plain": [
       "  0%|          | 0/100 [00:00<?, ?it/s]"
      ]
     },
     "metadata": {},
     "output_type": "display_data"
    },
    {
     "data": {
      "application/vnd.jupyter.widget-view+json": {
       "model_id": "e741901b159540c89820414fcf86c38a",
       "version_major": 2,
       "version_minor": 0
      },
      "text/plain": [
       "  0%|          | 0/100 [00:00<?, ?it/s]"
      ]
     },
     "metadata": {},
     "output_type": "display_data"
    },
    {
     "data": {
      "application/vnd.jupyter.widget-view+json": {
       "model_id": "23388d6c9591489c8db1a6119da1fd18",
       "version_major": 2,
       "version_minor": 0
      },
      "text/plain": [
       "EM Iteration:   0%|          | 0/5 [00:00<?, ?it/s]"
      ]
     },
     "metadata": {},
     "output_type": "display_data"
    },
    {
     "data": {
      "application/vnd.jupyter.widget-view+json": {
       "model_id": "03e135d6b35f49b6b0507b8f5d5c5be0",
       "version_major": 2,
       "version_minor": 0
      },
      "text/plain": [
       "  0%|          | 0/100 [00:00<?, ?it/s]"
      ]
     },
     "metadata": {},
     "output_type": "display_data"
    },
    {
     "data": {
      "application/vnd.jupyter.widget-view+json": {
       "model_id": "b637b92107ea4fe08c4985a318d37b15",
       "version_major": 2,
       "version_minor": 0
      },
      "text/plain": [
       "  0%|          | 0/100 [00:00<?, ?it/s]"
      ]
     },
     "metadata": {},
     "output_type": "display_data"
    },
    {
     "data": {
      "application/vnd.jupyter.widget-view+json": {
       "model_id": "45e17ff3cca04e2daedf9bc803cfed41",
       "version_major": 2,
       "version_minor": 0
      },
      "text/plain": [
       "  0%|          | 0/100 [00:00<?, ?it/s]"
      ]
     },
     "metadata": {},
     "output_type": "display_data"
    },
    {
     "data": {
      "application/vnd.jupyter.widget-view+json": {
       "model_id": "6d091050269e4ad19dd89bb90fa9d687",
       "version_major": 2,
       "version_minor": 0
      },
      "text/plain": [
       "  0%|          | 0/100 [00:00<?, ?it/s]"
      ]
     },
     "metadata": {},
     "output_type": "display_data"
    },
    {
     "data": {
      "application/vnd.jupyter.widget-view+json": {
       "model_id": "71d316fb3aaf4301968e5aca1529dfcf",
       "version_major": 2,
       "version_minor": 0
      },
      "text/plain": [
       "  0%|          | 0/100 [00:00<?, ?it/s]"
      ]
     },
     "metadata": {},
     "output_type": "display_data"
    },
    {
     "data": {
      "application/vnd.jupyter.widget-view+json": {
       "model_id": "ac99decf3da8488aa7fe43b654b9254d",
       "version_major": 2,
       "version_minor": 0
      },
      "text/plain": [
       "EM Iteration:   0%|          | 0/5 [00:00<?, ?it/s]"
      ]
     },
     "metadata": {},
     "output_type": "display_data"
    },
    {
     "data": {
      "application/vnd.jupyter.widget-view+json": {
       "model_id": "c436392821bd40fc86a831cb1d43a729",
       "version_major": 2,
       "version_minor": 0
      },
      "text/plain": [
       "  0%|          | 0/100 [00:00<?, ?it/s]"
      ]
     },
     "metadata": {},
     "output_type": "display_data"
    },
    {
     "data": {
      "application/vnd.jupyter.widget-view+json": {
       "model_id": "9070896e96ce4279827c9617fb9594a4",
       "version_major": 2,
       "version_minor": 0
      },
      "text/plain": [
       "  0%|          | 0/100 [00:00<?, ?it/s]"
      ]
     },
     "metadata": {},
     "output_type": "display_data"
    },
    {
     "data": {
      "application/vnd.jupyter.widget-view+json": {
       "model_id": "52a17da259f44c3e99e65f9cd78f62f7",
       "version_major": 2,
       "version_minor": 0
      },
      "text/plain": [
       "  0%|          | 0/100 [00:00<?, ?it/s]"
      ]
     },
     "metadata": {},
     "output_type": "display_data"
    },
    {
     "data": {
      "application/vnd.jupyter.widget-view+json": {
       "model_id": "493bc598190c4f4081c613a9c8c47814",
       "version_major": 2,
       "version_minor": 0
      },
      "text/plain": [
       "  0%|          | 0/100 [00:00<?, ?it/s]"
      ]
     },
     "metadata": {},
     "output_type": "display_data"
    },
    {
     "data": {
      "application/vnd.jupyter.widget-view+json": {
       "model_id": "a23bf8b185e042da82e2c9dab5320bff",
       "version_major": 2,
       "version_minor": 0
      },
      "text/plain": [
       "  0%|          | 0/100 [00:00<?, ?it/s]"
      ]
     },
     "metadata": {},
     "output_type": "display_data"
    },
    {
     "data": {
      "application/vnd.jupyter.widget-view+json": {
       "model_id": "a54f77cb398848758c6b918122eee45b",
       "version_major": 2,
       "version_minor": 0
      },
      "text/plain": [
       "EM Iteration:   0%|          | 0/5 [00:00<?, ?it/s]"
      ]
     },
     "metadata": {},
     "output_type": "display_data"
    },
    {
     "data": {
      "application/vnd.jupyter.widget-view+json": {
       "model_id": "7545549b4ef44e75a0d5546a9c909b22",
       "version_major": 2,
       "version_minor": 0
      },
      "text/plain": [
       "  0%|          | 0/100 [00:00<?, ?it/s]"
      ]
     },
     "metadata": {},
     "output_type": "display_data"
    },
    {
     "data": {
      "application/vnd.jupyter.widget-view+json": {
       "model_id": "164800df78644a449b087205348fa970",
       "version_major": 2,
       "version_minor": 0
      },
      "text/plain": [
       "  0%|          | 0/100 [00:00<?, ?it/s]"
      ]
     },
     "metadata": {},
     "output_type": "display_data"
    },
    {
     "data": {
      "application/vnd.jupyter.widget-view+json": {
       "model_id": "1e0ac06bef59480ba23d70df859394ce",
       "version_major": 2,
       "version_minor": 0
      },
      "text/plain": [
       "  0%|          | 0/100 [00:00<?, ?it/s]"
      ]
     },
     "metadata": {},
     "output_type": "display_data"
    },
    {
     "data": {
      "application/vnd.jupyter.widget-view+json": {
       "model_id": "478358e12fb2444ea49dac36ad95d4fc",
       "version_major": 2,
       "version_minor": 0
      },
      "text/plain": [
       "  0%|          | 0/100 [00:00<?, ?it/s]"
      ]
     },
     "metadata": {},
     "output_type": "display_data"
    },
    {
     "data": {
      "application/vnd.jupyter.widget-view+json": {
       "model_id": "e5ba912c334a4331908a75497260cdc6",
       "version_major": 2,
       "version_minor": 0
      },
      "text/plain": [
       "  0%|          | 0/100 [00:00<?, ?it/s]"
      ]
     },
     "metadata": {},
     "output_type": "display_data"
    },
    {
     "data": {
      "application/vnd.jupyter.widget-view+json": {
       "model_id": "76050d8a70384b2d9d6519d3cef31cff",
       "version_major": 2,
       "version_minor": 0
      },
      "text/plain": [
       "EM Iteration:   0%|          | 0/5 [00:00<?, ?it/s]"
      ]
     },
     "metadata": {},
     "output_type": "display_data"
    },
    {
     "data": {
      "application/vnd.jupyter.widget-view+json": {
       "model_id": "a24f2f135e11419192a4bff56f4c63dd",
       "version_major": 2,
       "version_minor": 0
      },
      "text/plain": [
       "  0%|          | 0/100 [00:00<?, ?it/s]"
      ]
     },
     "metadata": {},
     "output_type": "display_data"
    },
    {
     "data": {
      "application/vnd.jupyter.widget-view+json": {
       "model_id": "d3273a22c7344171bd578c4ac88eb53b",
       "version_major": 2,
       "version_minor": 0
      },
      "text/plain": [
       "  0%|          | 0/100 [00:00<?, ?it/s]"
      ]
     },
     "metadata": {},
     "output_type": "display_data"
    },
    {
     "data": {
      "application/vnd.jupyter.widget-view+json": {
       "model_id": "877cd647544b4641affc42e1b328a35e",
       "version_major": 2,
       "version_minor": 0
      },
      "text/plain": [
       "  0%|          | 0/100 [00:00<?, ?it/s]"
      ]
     },
     "metadata": {},
     "output_type": "display_data"
    },
    {
     "data": {
      "application/vnd.jupyter.widget-view+json": {
       "model_id": "1399eaf3505f4ae4a789bb2e72598b36",
       "version_major": 2,
       "version_minor": 0
      },
      "text/plain": [
       "  0%|          | 0/100 [00:00<?, ?it/s]"
      ]
     },
     "metadata": {},
     "output_type": "display_data"
    },
    {
     "data": {
      "application/vnd.jupyter.widget-view+json": {
       "model_id": "02765a1a7a54454b9424aee7e54af1fc",
       "version_major": 2,
       "version_minor": 0
      },
      "text/plain": [
       "  0%|          | 0/100 [00:00<?, ?it/s]"
      ]
     },
     "metadata": {},
     "output_type": "display_data"
    },
    {
     "data": {
      "application/vnd.jupyter.widget-view+json": {
       "model_id": "0ff16b8eab04452dad5875ffd294d2fa",
       "version_major": 2,
       "version_minor": 0
      },
      "text/plain": [
       "EM Iteration:   0%|          | 0/5 [00:00<?, ?it/s]"
      ]
     },
     "metadata": {},
     "output_type": "display_data"
    },
    {
     "data": {
      "application/vnd.jupyter.widget-view+json": {
       "model_id": "e3eefe6bcc7b4c6ebf5460986a5162c0",
       "version_major": 2,
       "version_minor": 0
      },
      "text/plain": [
       "  0%|          | 0/100 [00:00<?, ?it/s]"
      ]
     },
     "metadata": {},
     "output_type": "display_data"
    },
    {
     "data": {
      "application/vnd.jupyter.widget-view+json": {
       "model_id": "155b3957bc00479abd6ea19eba130938",
       "version_major": 2,
       "version_minor": 0
      },
      "text/plain": [
       "  0%|          | 0/100 [00:00<?, ?it/s]"
      ]
     },
     "metadata": {},
     "output_type": "display_data"
    },
    {
     "data": {
      "application/vnd.jupyter.widget-view+json": {
       "model_id": "d3435a39e3594865b9d032aa6c61a246",
       "version_major": 2,
       "version_minor": 0
      },
      "text/plain": [
       "  0%|          | 0/100 [00:00<?, ?it/s]"
      ]
     },
     "metadata": {},
     "output_type": "display_data"
    },
    {
     "data": {
      "application/vnd.jupyter.widget-view+json": {
       "model_id": "e3fbe23493ce42dba0c8c36b40f4b3c5",
       "version_major": 2,
       "version_minor": 0
      },
      "text/plain": [
       "  0%|          | 0/100 [00:00<?, ?it/s]"
      ]
     },
     "metadata": {},
     "output_type": "display_data"
    },
    {
     "data": {
      "application/vnd.jupyter.widget-view+json": {
       "model_id": "438ac4bb6dc245fe8234774a1e897d65",
       "version_major": 2,
       "version_minor": 0
      },
      "text/plain": [
       "  0%|          | 0/100 [00:00<?, ?it/s]"
      ]
     },
     "metadata": {},
     "output_type": "display_data"
    },
    {
     "data": {
      "application/vnd.jupyter.widget-view+json": {
       "model_id": "86b2fb2427ca478787efa4c23bc5a588",
       "version_major": 2,
       "version_minor": 0
      },
      "text/plain": [
       "EM Iteration:   0%|          | 0/5 [00:00<?, ?it/s]"
      ]
     },
     "metadata": {},
     "output_type": "display_data"
    },
    {
     "data": {
      "application/vnd.jupyter.widget-view+json": {
       "model_id": "ac03b81287ae48ad81c77b8ffaf7fa20",
       "version_major": 2,
       "version_minor": 0
      },
      "text/plain": [
       "  0%|          | 0/100 [00:00<?, ?it/s]"
      ]
     },
     "metadata": {},
     "output_type": "display_data"
    },
    {
     "data": {
      "application/vnd.jupyter.widget-view+json": {
       "model_id": "77a3f4fc427b4138820f08411e8a22cf",
       "version_major": 2,
       "version_minor": 0
      },
      "text/plain": [
       "  0%|          | 0/100 [00:00<?, ?it/s]"
      ]
     },
     "metadata": {},
     "output_type": "display_data"
    },
    {
     "data": {
      "application/vnd.jupyter.widget-view+json": {
       "model_id": "5aa486fef7cc4c3aa9082a7df176e692",
       "version_major": 2,
       "version_minor": 0
      },
      "text/plain": [
       "  0%|          | 0/100 [00:00<?, ?it/s]"
      ]
     },
     "metadata": {},
     "output_type": "display_data"
    },
    {
     "data": {
      "application/vnd.jupyter.widget-view+json": {
       "model_id": "b7ee29e116e641ea828d91c476af2125",
       "version_major": 2,
       "version_minor": 0
      },
      "text/plain": [
       "  0%|          | 0/100 [00:00<?, ?it/s]"
      ]
     },
     "metadata": {},
     "output_type": "display_data"
    },
    {
     "data": {
      "application/vnd.jupyter.widget-view+json": {
       "model_id": "925d175d09fd4664bea71d3f1f5fddc6",
       "version_major": 2,
       "version_minor": 0
      },
      "text/plain": [
       "  0%|          | 0/100 [00:00<?, ?it/s]"
      ]
     },
     "metadata": {},
     "output_type": "display_data"
    },
    {
     "data": {
      "application/vnd.jupyter.widget-view+json": {
       "model_id": "205f12ba9fd344c7b9af55fd61127370",
       "version_major": 2,
       "version_minor": 0
      },
      "text/plain": [
       "EM Iteration:   0%|          | 0/5 [00:00<?, ?it/s]"
      ]
     },
     "metadata": {},
     "output_type": "display_data"
    },
    {
     "data": {
      "application/vnd.jupyter.widget-view+json": {
       "model_id": "dd57666badac41dbbb39d6b4d321c15e",
       "version_major": 2,
       "version_minor": 0
      },
      "text/plain": [
       "  0%|          | 0/100 [00:00<?, ?it/s]"
      ]
     },
     "metadata": {},
     "output_type": "display_data"
    },
    {
     "data": {
      "application/vnd.jupyter.widget-view+json": {
       "model_id": "add3819d3f1c4b31accdfcf0622ccf21",
       "version_major": 2,
       "version_minor": 0
      },
      "text/plain": [
       "  0%|          | 0/100 [00:00<?, ?it/s]"
      ]
     },
     "metadata": {},
     "output_type": "display_data"
    },
    {
     "data": {
      "application/vnd.jupyter.widget-view+json": {
       "model_id": "3254b118cba8411f89ad9974da201d2d",
       "version_major": 2,
       "version_minor": 0
      },
      "text/plain": [
       "  0%|          | 0/100 [00:00<?, ?it/s]"
      ]
     },
     "metadata": {},
     "output_type": "display_data"
    },
    {
     "data": {
      "application/vnd.jupyter.widget-view+json": {
       "model_id": "4620c70537974737933fa6801a23c866",
       "version_major": 2,
       "version_minor": 0
      },
      "text/plain": [
       "  0%|          | 0/100 [00:00<?, ?it/s]"
      ]
     },
     "metadata": {},
     "output_type": "display_data"
    },
    {
     "data": {
      "application/vnd.jupyter.widget-view+json": {
       "model_id": "e70da7a806e642dfba851bf1e50222b8",
       "version_major": 2,
       "version_minor": 0
      },
      "text/plain": [
       "  0%|          | 0/100 [00:00<?, ?it/s]"
      ]
     },
     "metadata": {},
     "output_type": "display_data"
    },
    {
     "data": {
      "application/vnd.jupyter.widget-view+json": {
       "model_id": "a6cd2e0306e748d59216937949b2837b",
       "version_major": 2,
       "version_minor": 0
      },
      "text/plain": [
       "EM Iteration:   0%|          | 0/5 [00:00<?, ?it/s]"
      ]
     },
     "metadata": {},
     "output_type": "display_data"
    },
    {
     "data": {
      "application/vnd.jupyter.widget-view+json": {
       "model_id": "3f2bf5b4dfeb495ca3e2605cc73dc1f9",
       "version_major": 2,
       "version_minor": 0
      },
      "text/plain": [
       "  0%|          | 0/100 [00:00<?, ?it/s]"
      ]
     },
     "metadata": {},
     "output_type": "display_data"
    },
    {
     "data": {
      "application/vnd.jupyter.widget-view+json": {
       "model_id": "6fbe52f82d804bd0aa87c701e79d4c2c",
       "version_major": 2,
       "version_minor": 0
      },
      "text/plain": [
       "  0%|          | 0/100 [00:00<?, ?it/s]"
      ]
     },
     "metadata": {},
     "output_type": "display_data"
    },
    {
     "data": {
      "application/vnd.jupyter.widget-view+json": {
       "model_id": "68e46431c3b14f26b8aedb111290cd5d",
       "version_major": 2,
       "version_minor": 0
      },
      "text/plain": [
       "  0%|          | 0/100 [00:00<?, ?it/s]"
      ]
     },
     "metadata": {},
     "output_type": "display_data"
    },
    {
     "data": {
      "application/vnd.jupyter.widget-view+json": {
       "model_id": "327fe2939aa747fc9fce2de95a054e12",
       "version_major": 2,
       "version_minor": 0
      },
      "text/plain": [
       "  0%|          | 0/100 [00:00<?, ?it/s]"
      ]
     },
     "metadata": {},
     "output_type": "display_data"
    },
    {
     "data": {
      "application/vnd.jupyter.widget-view+json": {
       "model_id": "ea3d71f998bb45d494726f4210940877",
       "version_major": 2,
       "version_minor": 0
      },
      "text/plain": [
       "  0%|          | 0/100 [00:00<?, ?it/s]"
      ]
     },
     "metadata": {},
     "output_type": "display_data"
    },
    {
     "data": {
      "application/vnd.jupyter.widget-view+json": {
       "model_id": "b55772c1ca4a4bac9608cd1387e254f8",
       "version_major": 2,
       "version_minor": 0
      },
      "text/plain": [
       "EM Iteration:   0%|          | 0/5 [00:00<?, ?it/s]"
      ]
     },
     "metadata": {},
     "output_type": "display_data"
    },
    {
     "data": {
      "application/vnd.jupyter.widget-view+json": {
       "model_id": "f816bcabfcb2413baa3898716c8917f6",
       "version_major": 2,
       "version_minor": 0
      },
      "text/plain": [
       "  0%|          | 0/100 [00:00<?, ?it/s]"
      ]
     },
     "metadata": {},
     "output_type": "display_data"
    },
    {
     "data": {
      "application/vnd.jupyter.widget-view+json": {
       "model_id": "e464e704d8934da38e4167c082594816",
       "version_major": 2,
       "version_minor": 0
      },
      "text/plain": [
       "  0%|          | 0/100 [00:00<?, ?it/s]"
      ]
     },
     "metadata": {},
     "output_type": "display_data"
    },
    {
     "data": {
      "application/vnd.jupyter.widget-view+json": {
       "model_id": "fe28009469cd468295f81741d4b5402c",
       "version_major": 2,
       "version_minor": 0
      },
      "text/plain": [
       "  0%|          | 0/100 [00:00<?, ?it/s]"
      ]
     },
     "metadata": {},
     "output_type": "display_data"
    },
    {
     "data": {
      "application/vnd.jupyter.widget-view+json": {
       "model_id": "4078ef0845c7410a97c15b089e86b37c",
       "version_major": 2,
       "version_minor": 0
      },
      "text/plain": [
       "  0%|          | 0/100 [00:00<?, ?it/s]"
      ]
     },
     "metadata": {},
     "output_type": "display_data"
    },
    {
     "data": {
      "application/vnd.jupyter.widget-view+json": {
       "model_id": "a0db21a6f9924d64942bf38f25c98912",
       "version_major": 2,
       "version_minor": 0
      },
      "text/plain": [
       "  0%|          | 0/100 [00:00<?, ?it/s]"
      ]
     },
     "metadata": {},
     "output_type": "display_data"
    },
    {
     "data": {
      "application/vnd.jupyter.widget-view+json": {
       "model_id": "7e500f9aa2d2453093605ec4e02ce5ef",
       "version_major": 2,
       "version_minor": 0
      },
      "text/plain": [
       "EM Iteration:   0%|          | 0/5 [00:00<?, ?it/s]"
      ]
     },
     "metadata": {},
     "output_type": "display_data"
    },
    {
     "data": {
      "application/vnd.jupyter.widget-view+json": {
       "model_id": "9b1625a972d44801b7d7d97e432c312d",
       "version_major": 2,
       "version_minor": 0
      },
      "text/plain": [
       "  0%|          | 0/100 [00:00<?, ?it/s]"
      ]
     },
     "metadata": {},
     "output_type": "display_data"
    },
    {
     "data": {
      "application/vnd.jupyter.widget-view+json": {
       "model_id": "58a8898183414c7db273060926f29967",
       "version_major": 2,
       "version_minor": 0
      },
      "text/plain": [
       "  0%|          | 0/100 [00:00<?, ?it/s]"
      ]
     },
     "metadata": {},
     "output_type": "display_data"
    },
    {
     "data": {
      "application/vnd.jupyter.widget-view+json": {
       "model_id": "a1050c8941ce4487b8907009cde2227a",
       "version_major": 2,
       "version_minor": 0
      },
      "text/plain": [
       "  0%|          | 0/100 [00:00<?, ?it/s]"
      ]
     },
     "metadata": {},
     "output_type": "display_data"
    },
    {
     "data": {
      "application/vnd.jupyter.widget-view+json": {
       "model_id": "80085ad5d6904f219f692868e91fca82",
       "version_major": 2,
       "version_minor": 0
      },
      "text/plain": [
       "  0%|          | 0/100 [00:00<?, ?it/s]"
      ]
     },
     "metadata": {},
     "output_type": "display_data"
    },
    {
     "data": {
      "application/vnd.jupyter.widget-view+json": {
       "model_id": "054d991bf9b346e5bb8b00b2ccb29ea5",
       "version_major": 2,
       "version_minor": 0
      },
      "text/plain": [
       "  0%|          | 0/100 [00:00<?, ?it/s]"
      ]
     },
     "metadata": {},
     "output_type": "display_data"
    },
    {
     "data": {
      "application/vnd.jupyter.widget-view+json": {
       "model_id": "f5ece28cc384407ab29e646d26b63306",
       "version_major": 2,
       "version_minor": 0
      },
      "text/plain": [
       "EM Iteration:   0%|          | 0/5 [00:00<?, ?it/s]"
      ]
     },
     "metadata": {},
     "output_type": "display_data"
    },
    {
     "data": {
      "application/vnd.jupyter.widget-view+json": {
       "model_id": "be6cf17ac26843cdbaefe967e8cba41d",
       "version_major": 2,
       "version_minor": 0
      },
      "text/plain": [
       "  0%|          | 0/100 [00:00<?, ?it/s]"
      ]
     },
     "metadata": {},
     "output_type": "display_data"
    },
    {
     "data": {
      "application/vnd.jupyter.widget-view+json": {
       "model_id": "b1b7ca1ad261491990ca129e8456f736",
       "version_major": 2,
       "version_minor": 0
      },
      "text/plain": [
       "  0%|          | 0/100 [00:00<?, ?it/s]"
      ]
     },
     "metadata": {},
     "output_type": "display_data"
    },
    {
     "data": {
      "application/vnd.jupyter.widget-view+json": {
       "model_id": "e71f2a1e924e46c4b8f779afc34dd3a1",
       "version_major": 2,
       "version_minor": 0
      },
      "text/plain": [
       "  0%|          | 0/100 [00:00<?, ?it/s]"
      ]
     },
     "metadata": {},
     "output_type": "display_data"
    },
    {
     "data": {
      "application/vnd.jupyter.widget-view+json": {
       "model_id": "ce0b1ba5b1174de9a3d01b5930c35ec1",
       "version_major": 2,
       "version_minor": 0
      },
      "text/plain": [
       "  0%|          | 0/100 [00:00<?, ?it/s]"
      ]
     },
     "metadata": {},
     "output_type": "display_data"
    },
    {
     "data": {
      "application/vnd.jupyter.widget-view+json": {
       "model_id": "af21d72069674540aa77949daa63e3df",
       "version_major": 2,
       "version_minor": 0
      },
      "text/plain": [
       "  0%|          | 0/100 [00:00<?, ?it/s]"
      ]
     },
     "metadata": {},
     "output_type": "display_data"
    },
    {
     "data": {
      "application/vnd.jupyter.widget-view+json": {
       "model_id": "c92cd92b4704446b978d1296fb5ee555",
       "version_major": 2,
       "version_minor": 0
      },
      "text/plain": [
       "EM Iteration:   0%|          | 0/5 [00:00<?, ?it/s]"
      ]
     },
     "metadata": {},
     "output_type": "display_data"
    },
    {
     "data": {
      "application/vnd.jupyter.widget-view+json": {
       "model_id": "6e32a1451d594c889f832a1687a7acad",
       "version_major": 2,
       "version_minor": 0
      },
      "text/plain": [
       "  0%|          | 0/100 [00:00<?, ?it/s]"
      ]
     },
     "metadata": {},
     "output_type": "display_data"
    },
    {
     "data": {
      "application/vnd.jupyter.widget-view+json": {
       "model_id": "4f0bbc91d7874163a022075060511e23",
       "version_major": 2,
       "version_minor": 0
      },
      "text/plain": [
       "  0%|          | 0/100 [00:00<?, ?it/s]"
      ]
     },
     "metadata": {},
     "output_type": "display_data"
    },
    {
     "data": {
      "application/vnd.jupyter.widget-view+json": {
       "model_id": "6c81edfe7110489c97e0f007015cbcbf",
       "version_major": 2,
       "version_minor": 0
      },
      "text/plain": [
       "  0%|          | 0/100 [00:00<?, ?it/s]"
      ]
     },
     "metadata": {},
     "output_type": "display_data"
    },
    {
     "data": {
      "application/vnd.jupyter.widget-view+json": {
       "model_id": "d62aaaeeaba94d23948a445f1b4f1bf2",
       "version_major": 2,
       "version_minor": 0
      },
      "text/plain": [
       "  0%|          | 0/100 [00:00<?, ?it/s]"
      ]
     },
     "metadata": {},
     "output_type": "display_data"
    },
    {
     "data": {
      "application/vnd.jupyter.widget-view+json": {
       "model_id": "c9c1eab637484448bf27d13ef852a8df",
       "version_major": 2,
       "version_minor": 0
      },
      "text/plain": [
       "  0%|          | 0/100 [00:00<?, ?it/s]"
      ]
     },
     "metadata": {},
     "output_type": "display_data"
    },
    {
     "data": {
      "application/vnd.jupyter.widget-view+json": {
       "model_id": "f3e905e066d34bc2bf63d4c2d3189e84",
       "version_major": 2,
       "version_minor": 0
      },
      "text/plain": [
       "EM Iteration:   0%|          | 0/5 [00:00<?, ?it/s]"
      ]
     },
     "metadata": {},
     "output_type": "display_data"
    },
    {
     "data": {
      "application/vnd.jupyter.widget-view+json": {
       "model_id": "e80d4da633694eff90ad6e9867881334",
       "version_major": 2,
       "version_minor": 0
      },
      "text/plain": [
       "  0%|          | 0/100 [00:00<?, ?it/s]"
      ]
     },
     "metadata": {},
     "output_type": "display_data"
    },
    {
     "data": {
      "application/vnd.jupyter.widget-view+json": {
       "model_id": "253967af800d44648947ac12b5fdc6da",
       "version_major": 2,
       "version_minor": 0
      },
      "text/plain": [
       "  0%|          | 0/100 [00:00<?, ?it/s]"
      ]
     },
     "metadata": {},
     "output_type": "display_data"
    },
    {
     "data": {
      "application/vnd.jupyter.widget-view+json": {
       "model_id": "6fbd693afea24e779c04aee8f0d15086",
       "version_major": 2,
       "version_minor": 0
      },
      "text/plain": [
       "  0%|          | 0/100 [00:00<?, ?it/s]"
      ]
     },
     "metadata": {},
     "output_type": "display_data"
    },
    {
     "data": {
      "application/vnd.jupyter.widget-view+json": {
       "model_id": "820a2cb47f474780b8b321856f075bad",
       "version_major": 2,
       "version_minor": 0
      },
      "text/plain": [
       "  0%|          | 0/100 [00:00<?, ?it/s]"
      ]
     },
     "metadata": {},
     "output_type": "display_data"
    },
    {
     "data": {
      "application/vnd.jupyter.widget-view+json": {
       "model_id": "dc06636e5e3e4d75a52ff62dfd250289",
       "version_major": 2,
       "version_minor": 0
      },
      "text/plain": [
       "  0%|          | 0/100 [00:00<?, ?it/s]"
      ]
     },
     "metadata": {},
     "output_type": "display_data"
    },
    {
     "data": {
      "application/vnd.jupyter.widget-view+json": {
       "model_id": "073df35036fa4dfcaaf027a29732b449",
       "version_major": 2,
       "version_minor": 0
      },
      "text/plain": [
       "EM Iteration:   0%|          | 0/5 [00:00<?, ?it/s]"
      ]
     },
     "metadata": {},
     "output_type": "display_data"
    },
    {
     "data": {
      "application/vnd.jupyter.widget-view+json": {
       "model_id": "8db48ea050a247ba8beaa4d095976cd3",
       "version_major": 2,
       "version_minor": 0
      },
      "text/plain": [
       "  0%|          | 0/100 [00:00<?, ?it/s]"
      ]
     },
     "metadata": {},
     "output_type": "display_data"
    },
    {
     "data": {
      "application/vnd.jupyter.widget-view+json": {
       "model_id": "c75123a8680e49e6a073ccc1a59657a0",
       "version_major": 2,
       "version_minor": 0
      },
      "text/plain": [
       "  0%|          | 0/100 [00:00<?, ?it/s]"
      ]
     },
     "metadata": {},
     "output_type": "display_data"
    },
    {
     "data": {
      "application/vnd.jupyter.widget-view+json": {
       "model_id": "94722d4774ba4463aff11d1960c5e13c",
       "version_major": 2,
       "version_minor": 0
      },
      "text/plain": [
       "  0%|          | 0/100 [00:00<?, ?it/s]"
      ]
     },
     "metadata": {},
     "output_type": "display_data"
    },
    {
     "data": {
      "application/vnd.jupyter.widget-view+json": {
       "model_id": "b9212b500c534d9e95785c121bd06279",
       "version_major": 2,
       "version_minor": 0
      },
      "text/plain": [
       "  0%|          | 0/100 [00:00<?, ?it/s]"
      ]
     },
     "metadata": {},
     "output_type": "display_data"
    },
    {
     "data": {
      "application/vnd.jupyter.widget-view+json": {
       "model_id": "4650fc2469974222809fcf98914ed193",
       "version_major": 2,
       "version_minor": 0
      },
      "text/plain": [
       "  0%|          | 0/100 [00:00<?, ?it/s]"
      ]
     },
     "metadata": {},
     "output_type": "display_data"
    },
    {
     "data": {
      "application/vnd.jupyter.widget-view+json": {
       "model_id": "e3e9f3d388714d58abe493568ed5c7f8",
       "version_major": 2,
       "version_minor": 0
      },
      "text/plain": [
       "EM Iteration:   0%|          | 0/5 [00:00<?, ?it/s]"
      ]
     },
     "metadata": {},
     "output_type": "display_data"
    },
    {
     "data": {
      "application/vnd.jupyter.widget-view+json": {
       "model_id": "981d779557bc4287b6b6042f8bb7c3ac",
       "version_major": 2,
       "version_minor": 0
      },
      "text/plain": [
       "  0%|          | 0/100 [00:00<?, ?it/s]"
      ]
     },
     "metadata": {},
     "output_type": "display_data"
    },
    {
     "data": {
      "application/vnd.jupyter.widget-view+json": {
       "model_id": "dabcac821e134e7bb3b22106fa9a50a9",
       "version_major": 2,
       "version_minor": 0
      },
      "text/plain": [
       "  0%|          | 0/100 [00:00<?, ?it/s]"
      ]
     },
     "metadata": {},
     "output_type": "display_data"
    },
    {
     "data": {
      "application/vnd.jupyter.widget-view+json": {
       "model_id": "82029ae04e0648f2b8261eaf3b3f067b",
       "version_major": 2,
       "version_minor": 0
      },
      "text/plain": [
       "  0%|          | 0/100 [00:00<?, ?it/s]"
      ]
     },
     "metadata": {},
     "output_type": "display_data"
    },
    {
     "data": {
      "application/vnd.jupyter.widget-view+json": {
       "model_id": "33c66251fc754a36a2843f80493ac7c6",
       "version_major": 2,
       "version_minor": 0
      },
      "text/plain": [
       "  0%|          | 0/100 [00:00<?, ?it/s]"
      ]
     },
     "metadata": {},
     "output_type": "display_data"
    },
    {
     "data": {
      "application/vnd.jupyter.widget-view+json": {
       "model_id": "5e7f0e967ecd448294b0d644a79b3c3a",
       "version_major": 2,
       "version_minor": 0
      },
      "text/plain": [
       "  0%|          | 0/100 [00:00<?, ?it/s]"
      ]
     },
     "metadata": {},
     "output_type": "display_data"
    },
    {
     "data": {
      "application/vnd.jupyter.widget-view+json": {
       "model_id": "a4dd846e7cff4a618aabf328ec2e63af",
       "version_major": 2,
       "version_minor": 0
      },
      "text/plain": [
       "EM Iteration:   0%|          | 0/5 [00:00<?, ?it/s]"
      ]
     },
     "metadata": {},
     "output_type": "display_data"
    },
    {
     "data": {
      "application/vnd.jupyter.widget-view+json": {
       "model_id": "e3353de89427410f971630e1e361403f",
       "version_major": 2,
       "version_minor": 0
      },
      "text/plain": [
       "  0%|          | 0/100 [00:00<?, ?it/s]"
      ]
     },
     "metadata": {},
     "output_type": "display_data"
    },
    {
     "data": {
      "application/vnd.jupyter.widget-view+json": {
       "model_id": "077e3ba905044c0593c394adc58a27ca",
       "version_major": 2,
       "version_minor": 0
      },
      "text/plain": [
       "  0%|          | 0/100 [00:00<?, ?it/s]"
      ]
     },
     "metadata": {},
     "output_type": "display_data"
    },
    {
     "data": {
      "application/vnd.jupyter.widget-view+json": {
       "model_id": "3f843b9d9f3a45afb3f6610cb865787d",
       "version_major": 2,
       "version_minor": 0
      },
      "text/plain": [
       "  0%|          | 0/100 [00:00<?, ?it/s]"
      ]
     },
     "metadata": {},
     "output_type": "display_data"
    },
    {
     "data": {
      "application/vnd.jupyter.widget-view+json": {
       "model_id": "ab4637016f61447baf838be67d7b60e8",
       "version_major": 2,
       "version_minor": 0
      },
      "text/plain": [
       "  0%|          | 0/100 [00:00<?, ?it/s]"
      ]
     },
     "metadata": {},
     "output_type": "display_data"
    },
    {
     "data": {
      "application/vnd.jupyter.widget-view+json": {
       "model_id": "7d13cdae1a3a4d8491a5728162fe20b9",
       "version_major": 2,
       "version_minor": 0
      },
      "text/plain": [
       "  0%|          | 0/100 [00:00<?, ?it/s]"
      ]
     },
     "metadata": {},
     "output_type": "display_data"
    },
    {
     "data": {
      "application/vnd.jupyter.widget-view+json": {
       "model_id": "3c6a6fbcb3ae483c9fe2e36e3e378802",
       "version_major": 2,
       "version_minor": 0
      },
      "text/plain": [
       "EM Iteration:   0%|          | 0/5 [00:00<?, ?it/s]"
      ]
     },
     "metadata": {},
     "output_type": "display_data"
    },
    {
     "data": {
      "application/vnd.jupyter.widget-view+json": {
       "model_id": "6fd32740c97644cbb488a06658214931",
       "version_major": 2,
       "version_minor": 0
      },
      "text/plain": [
       "  0%|          | 0/100 [00:00<?, ?it/s]"
      ]
     },
     "metadata": {},
     "output_type": "display_data"
    },
    {
     "data": {
      "application/vnd.jupyter.widget-view+json": {
       "model_id": "5e04f444476b44b6939688dfefecb085",
       "version_major": 2,
       "version_minor": 0
      },
      "text/plain": [
       "  0%|          | 0/100 [00:00<?, ?it/s]"
      ]
     },
     "metadata": {},
     "output_type": "display_data"
    },
    {
     "data": {
      "application/vnd.jupyter.widget-view+json": {
       "model_id": "119cacda056a47f3b7a3a3595631586a",
       "version_major": 2,
       "version_minor": 0
      },
      "text/plain": [
       "  0%|          | 0/100 [00:00<?, ?it/s]"
      ]
     },
     "metadata": {},
     "output_type": "display_data"
    },
    {
     "data": {
      "application/vnd.jupyter.widget-view+json": {
       "model_id": "74bc48746c924701a35269e6f5cb1753",
       "version_major": 2,
       "version_minor": 0
      },
      "text/plain": [
       "  0%|          | 0/100 [00:00<?, ?it/s]"
      ]
     },
     "metadata": {},
     "output_type": "display_data"
    },
    {
     "data": {
      "application/vnd.jupyter.widget-view+json": {
       "model_id": "f82166a82f2f4acd8e37764ebff1a9dc",
       "version_major": 2,
       "version_minor": 0
      },
      "text/plain": [
       "  0%|          | 0/100 [00:00<?, ?it/s]"
      ]
     },
     "metadata": {},
     "output_type": "display_data"
    },
    {
     "data": {
      "application/vnd.jupyter.widget-view+json": {
       "model_id": "e780c390853d41f69ef52deddc0d4c2f",
       "version_major": 2,
       "version_minor": 0
      },
      "text/plain": [
       "EM Iteration:   0%|          | 0/5 [00:00<?, ?it/s]"
      ]
     },
     "metadata": {},
     "output_type": "display_data"
    },
    {
     "data": {
      "application/vnd.jupyter.widget-view+json": {
       "model_id": "fa7205f3c9cd41cebc861ab22a5f977d",
       "version_major": 2,
       "version_minor": 0
      },
      "text/plain": [
       "  0%|          | 0/100 [00:00<?, ?it/s]"
      ]
     },
     "metadata": {},
     "output_type": "display_data"
    },
    {
     "data": {
      "application/vnd.jupyter.widget-view+json": {
       "model_id": "717920b784b44beca20b44ee42670d03",
       "version_major": 2,
       "version_minor": 0
      },
      "text/plain": [
       "  0%|          | 0/100 [00:00<?, ?it/s]"
      ]
     },
     "metadata": {},
     "output_type": "display_data"
    },
    {
     "data": {
      "application/vnd.jupyter.widget-view+json": {
       "model_id": "2422dfd6540442b9959082dbd4e038c4",
       "version_major": 2,
       "version_minor": 0
      },
      "text/plain": [
       "  0%|          | 0/100 [00:00<?, ?it/s]"
      ]
     },
     "metadata": {},
     "output_type": "display_data"
    },
    {
     "data": {
      "application/vnd.jupyter.widget-view+json": {
       "model_id": "0787dfd368b34600b9ea234fd7952c62",
       "version_major": 2,
       "version_minor": 0
      },
      "text/plain": [
       "  0%|          | 0/100 [00:00<?, ?it/s]"
      ]
     },
     "metadata": {},
     "output_type": "display_data"
    },
    {
     "data": {
      "application/vnd.jupyter.widget-view+json": {
       "model_id": "45f0e2b457604a6c8eb48ad368542b1c",
       "version_major": 2,
       "version_minor": 0
      },
      "text/plain": [
       "  0%|          | 0/100 [00:00<?, ?it/s]"
      ]
     },
     "metadata": {},
     "output_type": "display_data"
    }
   ],
   "source": [
    "def do_comparison_run(seed, N_samples=100, N_restarts=1):\n",
    "    assert seed >= 0\n",
    "    target_grammar, X = make_target_grammar_and_data(seed, N_samples)\n",
    "    gmm_fit_grammars = []\n",
    "    grammar_fit_grammars = []\n",
    "    em_histories = []\n",
    "    init_gmms = []\n",
    "    for k in range(N_restarts):\n",
    "        init_gmm = make_random_gmm(seed + k + 1)\n",
    "        gmm_fit_grammars.append(do_sklearn_gmm_fit(X, init_gmm.weights_, init_gmm.means_, init_gmm.covariances_))\n",
    "        grammar_fit_grammar, em_history = do_grammar_gmm_fit(X, init_gmm.weights_, init_gmm.means_, init_gmm.covariances_)\n",
    "        grammar_fit_grammars.append(grammar_fit_grammar)\n",
    "        em_histories.append(em_history)\n",
    "        init_gmms.append(init_gmm)\n",
    "    return {\n",
    "        \"target_grammar\": target_grammar,\n",
    "        \"X\": X,\n",
    "        \"init_gmms\": init_gmms,\n",
    "        \"gmm_fit_grammars\": gmm_fit_grammars,\n",
    "        \"grammar_fit_grammars\": grammar_fit_grammars,\n",
    "        \"grammar_fit_em_histories\": em_histories\n",
    "    }\n",
    "\n",
    "def do_comparison_runs(N_runs, save_file):\n",
    "    if os.path.exists(save_file):\n",
    "        os.remove(save_file)\n",
    "    for k in tqdm(range(N_runs)):\n",
    "        res_dict = do_comparison_run(k)\n",
    "        with open(save_file, 'ab') as fp:\n",
    "            pickle.dump(res_dict,fp)\n",
    "\n",
    "FILENAME = \"test_runs_with_restarts.pickle\"\n",
    "RERUN = False\n",
    "if RERUN or not os.path.exists(FILENAME):\n",
    "    print(\"Rerunning experiment...\")\n",
    "    do_comparison_runs(30, FILENAME)\n",
    "else:\n",
    "    print(\"Experiment not being rerun.\")"
   ]
  },
  {
   "cell_type": "markdown",
   "metadata": {},
   "source": [
    "# Plot results"
   ]
  },
  {
   "cell_type": "code",
   "execution_count": 8,
   "metadata": {},
   "outputs": [
    {
     "name": "stdout",
     "output_type": "stream",
     "text": [
      "Loaded 30 experiment runs\n"
     ]
    }
   ],
   "source": [
    "all_result_dicts = []\n",
    "with open(FILENAME, \"rb\") as fp:\n",
    "    try:\n",
    "        while True:\n",
    "            all_result_dicts.append(pickle.load(fp))\n",
    "    except EOFError:\n",
    "        pass\n",
    "print(\"Loaded %d experiment runs\" % len(all_result_dicts))"
   ]
  },
  {
   "cell_type": "code",
   "execution_count": 9,
   "metadata": {},
   "outputs": [
    {
     "name": "stdout",
     "output_type": "stream",
     "text": [
      "[ 0.02257095  0.04084453 -0.10855975 -0.02753315  0.01824826  0.03599287\n",
      "  0.03980878 -0.07926832  0.08939516  0.06566084  0.10173654 -0.05458153\n",
      " -0.04728182 -0.01377595  0.37818923 -0.03666804 -0.03943802 -0.65071256\n",
      "  0.07442528  0.02573305 -0.06896356 -0.0411719   0.08756684  0.04997881\n",
      " -0.02799691 -0.07959473 -0.01755971  0.06748302  0.02713524  0.10913493] 17\n"
     ]
    },
    {
     "data": {
      "image/png": "[encoded data removed]",
      "text/plain": [
       "<Figure size 300x300 with 1 Axes>"
      ]
     },
     "metadata": {
      "needs_background": "light"
     },
     "output_type": "display_data"
    }
   ],
   "source": [
    "# Histogram of errors\n",
    "# Extract a large number of samples from the GT and fit models,\n",
    "# and compare their distance to the GT distribution as a sum of\n",
    "# the 1D EMD (Wasserstein) distances.\n",
    "def get_best_model_error(gt_sample, fit_samples):\n",
    "    return min([\n",
    "        sum([sp.stats.wasserstein_distance(gt_sample[:, k], fit_sample[:, k]) for k in range(3)])\n",
    "        for fit_sample in fit_samples\n",
    "    ])\n",
    "def make_scatter_of_errors(all_result_dicts, N_samples=10000):\n",
    "    gmm_errs = []\n",
    "    grammar_errs = []\n",
    "    for result_dict in all_result_dicts:\n",
    "        gt_samples = convert_grammar_to_gmm(result_dict[\"target_grammar\"]).sample(N_samples)[0]\n",
    "        gmm_fit_samples = [\n",
    "            convert_grammar_to_gmm(gmm_fit_grammar).sample(N_samples)[0]\n",
    "            for gmm_fit_grammar in result_dict[\"gmm_fit_grammars\"]\n",
    "        ]\n",
    "        grammar_fit_samples = [\n",
    "            convert_grammar_to_gmm(grammar_fit_grammar).sample(N_samples)[0]\n",
    "            for grammar_fit_grammar in result_dict[\"grammar_fit_grammars\"]\n",
    "        ]\n",
    "        gmm_errs.append(get_best_model_error(gt_samples, gmm_fit_samples))\n",
    "        grammar_errs.append(get_best_model_error(gt_samples, grammar_fit_samples))\n",
    "    plt.figure(dpi=100).set_size_inches(3, 3)\n",
    "    plt.scatter(gmm_errs, grammar_errs)\n",
    "    plt.xlabel(\"GMM EM Fit Error\")\n",
    "    plt.ylabel(\"Grammar EM Fit Error\")\n",
    "    disagreement = np.array(grammar_errs) - np.array(gmm_errs)\n",
    "    print(disagreement, np.argmax(np.abs(disagreement)))\n",
    "    plt.plot(np.arange(0., 10.), np.arange(0., 10.), linestyle=\"--\", c=\"green\")\n",
    "make_scatter_of_errors(all_result_dicts)"
   ]
  },
  {
   "cell_type": "code",
   "execution_count": 7,
   "metadata": {},
   "outputs": [
    {
     "name": "stdout",
     "output_type": "stream",
     "text": [
      "Final params:  tensor([0.0100, 0.9752, 0.0148])\n"
     ]
    },
    {
     "name": "stderr",
     "output_type": "stream",
     "text": [
      "No handles with labels found to put in legend.\n"
     ]
    },
    {
     "name": "stdout",
     "output_type": "stream",
     "text": [
      "mean tensor([[-7.2591,  6.4005, -1.4333],\n",
      "        [ 2.7043,  0.8595, -8.2006],\n",
      "        [ 2.7471,  0.9069, -8.2919],\n",
      "        [ 2.7481,  0.9080, -8.2940],\n",
      "        [ 2.7481,  0.9080, -8.2940],\n",
      "        [ 2.7481,  0.9080, -8.2940]])\n",
      "0:xyz:mean final: tensor([ 2.7481,  0.9080, -8.2940])\n",
      "variance tensor([[9.5105e-01, 2.9047e-01, 9.2184e-01],\n",
      "        [6.8551e-03, 8.4133e-03, 3.1198e-02],\n",
      "        [2.0195e-04, 2.4785e-04, 9.1906e-04],\n",
      "        [1.0000e-06, 1.0000e-06, 1.0000e-06],\n",
      "        [1.0000e-06, 1.0000e-06, 1.0000e-06],\n",
      "        [1.0000e-06, 1.0000e-06, 1.0000e-06]])\n",
      "0:xyz:variance final: tensor([1.0000e-06, 1.0000e-06, 1.0000e-06])\n",
      "mean tensor([[ 9.3445,  3.8295,  4.3147],\n",
      "        [ 8.0702, -4.6532,  0.8716],\n",
      "        [ 8.0549, -4.7180,  0.7518],\n",
      "        [ 8.1008, -4.7399,  0.6860],\n",
      "        [ 8.1256, -4.7482,  0.6535],\n",
      "        [ 8.1350, -4.7508,  0.6406]])\n",
      "1:xyz:mean final: tensor([ 8.1350, -4.7508,  0.6406])\n",
      "variance tensor([[ 0.4931,  0.4832,  0.8353],\n",
      "        [10.0000,  1.0651, 10.0000],\n",
      "        [ 9.9454,  1.1184, 10.0000],\n",
      "        [ 9.6921,  1.1194, 10.0000],\n",
      "        [ 9.5651,  1.1193, 10.0000],\n",
      "        [ 9.5158,  1.1220, 10.0000]])\n",
      "1:xyz:variance final: tensor([ 9.5158,  1.1220, 10.0000])\n"
     ]
    },
    {
     "name": "stderr",
     "output_type": "stream",
     "text": [
      "No handles with labels found to put in legend.\n",
      "No handles with labels found to put in legend.\n"
     ]
    },
    {
     "name": "stdout",
     "output_type": "stream",
     "text": [
      "mean tensor([[-0.9620, -8.0522, -9.5987],\n",
      "        [ 7.6459, -4.5190, -3.0131],\n",
      "        [ 7.6759, -3.6962, -2.9795],\n",
      "        [ 7.2386, -3.3351, -2.9758],\n",
      "        [ 6.2244, -2.5863, -3.4703],\n",
      "        [ 4.3737, -1.0206, -5.2723]])\n",
      "2:xyz:mean final: tensor([ 4.3737, -1.0206, -5.2723])\n",
      "variance tensor([[ 0.8019,  0.9024,  0.7074],\n",
      "        [ 6.4471,  7.1588,  6.5221],\n",
      "        [ 9.3618,  7.7755,  9.6797],\n",
      "        [10.0000,  7.9118, 10.0000],\n",
      "        [10.0000,  8.3942, 10.0000],\n",
      "        [ 9.7153,  6.7049, 10.0000]])\n",
      "2:xyz:variance final: tensor([ 9.7153,  6.7049, 10.0000])\n"
     ]
    },
    {
     "ename": "NameError",
     "evalue": "name 'Modes' is not defined",
     "output_type": "error",
     "traceback": [
      "\u001b[0;31m---------------------------------------------------------------------------\u001b[0m",
      "\u001b[0;31mNameError\u001b[0m                                 Traceback (most recent call last)",
      "\u001b[0;32m<ipython-input-7-446acf3b442f>\u001b[0m in \u001b[0;36m<module>\u001b[0;34m\u001b[0m\n\u001b[1;32m     14\u001b[0m \u001b[0mplt\u001b[0m\u001b[0;34m.\u001b[0m\u001b[0mfigure\u001b[0m\u001b[0;34m(\u001b[0m\u001b[0;34m)\u001b[0m\u001b[0;34m\u001b[0m\u001b[0;34m\u001b[0m\u001b[0m\n\u001b[1;32m     15\u001b[0m \u001b[0mem\u001b[0m\u001b[0;34m.\u001b[0m\u001b[0mplot_grammar_parameter_history\u001b[0m\u001b[0;34m(\u001b[0m\u001b[0mRoot\u001b[0m\u001b[0;34m)\u001b[0m\u001b[0;34m\u001b[0m\u001b[0;34m\u001b[0m\u001b[0m\n\u001b[0;32m---> 16\u001b[0;31m \u001b[0;32mfor\u001b[0m \u001b[0mmode\u001b[0m \u001b[0;32min\u001b[0m \u001b[0mModes\u001b[0m\u001b[0;34m:\u001b[0m\u001b[0;34m\u001b[0m\u001b[0;34m\u001b[0m\u001b[0m\n\u001b[0m\u001b[1;32m     17\u001b[0m     \u001b[0mprint\u001b[0m\u001b[0;34m(\u001b[0m\u001b[0mmode\u001b[0m\u001b[0;34m.\u001b[0m\u001b[0m__name__\u001b[0m\u001b[0;34m,\u001b[0m \u001b[0;34m\":\"\u001b[0m\u001b[0;34m)\u001b[0m\u001b[0;34m\u001b[0m\u001b[0;34m\u001b[0m\u001b[0m\n\u001b[1;32m     18\u001b[0m     \u001b[0mem\u001b[0m\u001b[0;34m.\u001b[0m\u001b[0mplot_grammar_parameter_history\u001b[0m\u001b[0;34m(\u001b[0m\u001b[0mmode\u001b[0m\u001b[0;34m)\u001b[0m\u001b[0;34m\u001b[0m\u001b[0;34m\u001b[0m\u001b[0m\n",
      "\u001b[0;31mNameError\u001b[0m: name 'Modes' is not defined"
     ]
    },
    {
     "data": {
      "text/plain": [
       "<Figure size 432x288 with 0 Axes>"
      ]
     },
     "metadata": {},
     "output_type": "display_data"
    },
    {
     "data": {
      "image/png": "[encoded data removed]",
      "text/plain": [
       "<Figure size 432x432 with 1 Axes>"
      ]
     },
     "metadata": {
      "needs_background": "light"
     },
     "output_type": "display_data"
    },
    {
     "data": {
      "image/png": "[encoded data removed]",
      "text/plain": [
       "<Figure size 864x432 with 6 Axes>"
      ]
     },
     "metadata": {
      "needs_background": "light"
     },
     "output_type": "display_data"
    }
   ],
   "source": [
    "%matplotlib inline\n",
    "#Make animation of fitting process\n",
    "from matplotlib.animation import FuncAnimation\n",
    "from IPython import display\n",
    "\n",
    "plotting_grammar = SpatialSceneGrammar(\n",
    "    root_node_type = Root,\n",
    "    root_node_tf = torch.eye(4)\n",
    ")\n",
    "em = all_result_dicts[10][\"grammar_fit_em_histories\"][0]\n",
    "X = all_result_dicts[10][\"X\"]\n",
    "\n",
    "\n",
    "plt.figure()\n",
    "em.plot_grammar_parameter_history(Root)\n",
    "for mode in Modes:\n",
    "    print(mode.__name__, \":\")\n",
    "    em.plot_grammar_parameter_history(mode)\n",
    "\n",
    "    \n",
    "fig, axs = plt.subplots(1, 3)\n",
    "#fig.set_dpi(100)\n",
    "\n",
    "fig.set_size_inches(18, 6)\n",
    "plt.suptitle(\"MIP-parse + EM fit\")\n",
    "def update(frame):\n",
    "    plotting_grammar.load_state_dict(em.grammar_iters[frame])\n",
    "    for ax in axs:\n",
    "        ax.cla()\n",
    "    make_figure_for_grammar(plotting_grammar, X, axs)\n",
    "    plt.suptitle(\"MIP-parse + EM fit, iter %02d\" % frame)\n",
    "    for ax in axs:\n",
    "        ax.set_xlim([-10., 10.])\n",
    "        ax.set_ylim([0., 0.7])\n",
    "ani = FuncAnimation(fig, update, frames=range(len(em.grammar_iters)), blit=False, interval=500.)\n",
    "video = ani.to_html5_video()\n",
    "html = display.HTML(video)\n",
    "display.display(html)\n",
    "plt.close()                   # avoid plotting a spare static plot"
   ]
  },
  {
   "cell_type": "markdown",
   "metadata": {},
   "source": [
    "# Run GMM EM and Grammar EM in lockstep -- from here on not updated to new formulation, probably."
   ]
  },
  {
   "cell_type": "code",
   "execution_count": 19,
   "metadata": {},
   "outputs": [],
   "source": [
    "seed = 10\n",
    "N_samples = 50\n",
    "N_steps = 3\n",
    "target_grammar, X = make_target_grammar_and_data(seed, N_samples)\n",
    "\n",
    "init_gmm = make_random_gmm(seed + 1)\n",
    "init_grammar = convert_gmm_to_grammar(init_gmm)\n",
    "\n",
    "# Get optimal parse for one datapoint\n",
    "for k in range(X.shape[0]):\n",
    "    test_observed_points = [Point(tf=drake_tf_to_torch_tf(RigidTransform(p=X[k, :])))]\n",
    "    inference_results = infer_mle_tree_with_mip(\n",
    "            init_grammar, test_observed_points, max_scene_extent_in_any_dir=15, N_solutions=3\n",
    "    )\n",
    "    mip_optimized_trees = get_optimized_trees_from_mip_results(inference_results)\n",
    "    if len(mip_optimized_trees) < 3:\n",
    "        print(\"Didn't get enough trees. What gives?\")\n",
    "        print(\"X: \", X[k, :])\n",
    "        print(\"Means: \", init_gmm.means_)\n",
    "    scores = [mip_optimized_trees[j].score(include_discrete=True).detach().item() for j in range(3)]\n",
    "    gmm_scores = init_gmm._estimate_weighted_log_prob(X[k:(k+1), :]).flatten()\n",
    "    for score in scores:\n",
    "        if np.min(np.abs(gmm_scores - score)) > 1E-2:\n",
    "            print(\"Mismatch\")\n",
    "            print(scores, gmm_scores)"
   ]
  },
  {
   "cell_type": "code",
   "execution_count": 20,
   "metadata": {},
   "outputs": [
    {
     "name": "stdout",
     "output_type": "stream",
     "text": [
      "gmm update: \n",
      " weights:  [4.44089210e-17 9.40787097e-01 5.92129030e-02] \n",
      "means:  [[ 8.09478598e-28 -2.39960714e-27  8.89853594e-27]\n",
      " [ 8.18682525e+00 -4.63706845e+00  7.77835060e-01]\n",
      " [ 8.61520032e+00 -5.72132492e+00 -1.80709235e+00]] \n",
      "vars:  [[1.00000000e-06 1.00000000e-06 1.00000000e-06]\n",
      " [1.00133260e+01 1.01459009e+00 1.26301432e+01]\n",
      " [3.99810459e-01 6.10278131e-01 5.28306647e-01]]\n",
      "But using fitting routine:  weights:  [4.44089210e-17 9.40787097e-01 5.92129030e-02]\n"
     ]
    }
   ],
   "source": [
    "log_prob_norm, log_resp = init_gmm._e_step(X)\n",
    "nk = (np.exp(log_resp).sum(axis=0)) / X.shape[0]\n",
    "new_weights,  new_means, new_vars = sklearn.mixture._gaussian_mixture._estimate_gaussian_parameters(\n",
    "            X, np.exp(log_resp), 1E-6, \"diag\"\n",
    ")\n",
    "new_weights /= X.shape[0]\n",
    "print(\"gmm update: \\n\", \"weights: \", new_weights, \"\\nmeans: \",new_means, \"\\nvars: \", new_vars)\n",
    "\n",
    "# But doing it with this doesn't get me the same result\n",
    "new_gmm = convert_grammar_to_gmm(do_sklearn_gmm_fit(X, init_gmm.weights_, init_gmm.means_, init_gmm.covariances_, 1))\n",
    "print(\"But using fitting routine: \", \"weights: \", new_gmm.weights_)"
   ]
  },
  {
   "cell_type": "code",
   "execution_count": 21,
   "metadata": {},
   "outputs": [
    {
     "data": {
      "application/vnd.jupyter.widget-view+json": {
       "model_id": "d614fee680634274b56c81456e9bb5d0",
       "version_major": 2,
       "version_minor": 0
      },
      "text/plain": [
       "EM Iteration:   0%|          | 0/3 [00:00<?, ?it/s]"
      ]
     },
     "metadata": {},
     "output_type": "display_data"
    },
    {
     "data": {
      "application/vnd.jupyter.widget-view+json": {
       "model_id": "cd2f0c23e29e41c98bb1a68a1c4ca39d",
       "version_major": 2,
       "version_minor": 0
      },
      "text/plain": [
       "  0%|          | 0/50 [00:00<?, ?it/s]"
      ]
     },
     "metadata": {},
     "output_type": "display_data"
    },
    {
     "data": {
      "application/vnd.jupyter.widget-view+json": {
       "model_id": "f51ac401a4654869a24be9779eb1e561",
       "version_major": 2,
       "version_minor": 0
      },
      "text/plain": [
       "  0%|          | 0/50 [00:00<?, ?it/s]"
      ]
     },
     "metadata": {},
     "output_type": "display_data"
    },
    {
     "data": {
      "application/vnd.jupyter.widget-view+json": {
       "model_id": "06a9178eda794809885579b595150e0b",
       "version_major": 2,
       "version_minor": 0
      },
      "text/plain": [
       "  0%|          | 0/50 [00:00<?, ?it/s]"
      ]
     },
     "metadata": {},
     "output_type": "display_data"
    }
   ],
   "source": [
    "gmm_fit_grammars = [\n",
    "    do_sklearn_gmm_fit(X, init_gmm.weights_, init_gmm.means_, init_gmm.covariances_, k+1)\n",
    "    for k in range(N_steps)\n",
    "]\n",
    "gmm_fit_grammars.insert(0, convert_gmm_to_grammar(init_gmm))\n",
    "grammar_fit_grammar, em_history = do_grammar_gmm_fit(\n",
    "    X, init_gmm.weights_, init_gmm.means_, init_gmm.covariances_, N_steps\n",
    ")"
   ]
  },
  {
   "cell_type": "code",
   "execution_count": 22,
   "metadata": {},
   "outputs": [
    {
     "name": "stdout",
     "output_type": "stream",
     "text": [
      "ref weights:  [0.25992485 0.68179482 0.05828034]\n",
      "ref weights:  [4.44089210e-17 9.40787097e-01 5.92129030e-02]\n",
      "ref weights:  [4.44089210e-17 8.45157578e-01 1.54842422e-01]\n",
      "[array([[-7.25905584,  6.40045255, -1.43328772],\n",
      "       [ 9.34452738,  3.82946508,  4.31467805],\n",
      "       [-0.96201336, -8.0521704 , -9.59873512]]), array([[ 8.09478598e-28, -2.39960714e-27,  8.89853594e-27],\n",
      "       [ 8.18682525e+00, -4.63706845e+00,  7.77835060e-01],\n",
      "       [ 8.61520032e+00, -5.72132492e+00, -1.80709235e+00]]), array([[ 0.        ,  0.        ,  0.        ],\n",
      "       [ 8.05848261, -4.59782157,  0.98707558],\n",
      "       [ 9.05115609, -5.26591275, -1.35273266]])]\n",
      "[array([[-7.25905584,  6.40045255, -1.43328772],\n",
      "       [ 9.34452738,  3.82946508,  4.31467805],\n",
      "       [-0.96201336, -8.0521704 , -9.59873512]]), array([[ 0.78068084, -2.31423947,  8.58196443],\n",
      "       [ 8.18682525, -4.63706845,  0.77783506],\n",
      "       [ 8.61520032, -5.72132492, -1.80709235]]), array([[ 0.78070148, -2.3142085 ,  8.581885  ],\n",
      "       [ 8.24137545, -4.6571514 ,  0.79123694],\n",
      "       [ 9.04584495, -5.26691528, -1.36876302]])]\n"
     ]
    },
    {
     "data": {
      "text/html": [
       "<video width=\"1296\" height=\"432\" controls autoplay loop>\n",
       "  <source type=\"video/mp4\" src=\"data:video/mp4;base64,AAAAHGZ0eXBNNFYgAAACAGlzb21pc28yYXZjMQAAAAhmcmVlAAC9yW1kYXQAAAKuBgX//6rcRem9\n",
       "5tlIt5Ys2CDZI+7veDI2NCAtIGNvcmUgMTUyIHIyODU0IGU5YTU5MDMgLSBILjI2NC9NUEVHLTQg\n",
       "QVZDIGNvZGVjIC0gQ29weWxlZnQgMjAwMy0yMDE3IC0gaHR0cDovL3d3dy52aWRlb2xhbi5vcmcv\n",
       "eDI2NC5odG1sIC0gb3B0aW9uczogY2FiYWM9MSByZWY9MyBkZWJsb2NrPTE6MDowIGFuYWx5c2U9\n",
       "MHgzOjB4MTEzIG1lPWhleCBzdWJtZT03IHBzeT0xIHBzeV9yZD0xLjAwOjAuMDAgbWl4ZWRfcmVm\n",
       "PTEgbWVfcmFuZ2U9MTYgY2hyb21hX21lPTEgdHJlbGxpcz0xIDh4OGRjdD0xIGNxbT0wIGRlYWR6\n",
       "b25lPTIxLDExIGZhc3RfcHNraXA9MSBjaHJvbWFfcXBfb2Zmc2V0PS0yIHRocmVhZHM9MTMgbG9v\n",
       "a2FoZWFkX3RocmVhZHM9MiBzbGljZWRfdGhyZWFkcz0wIG5yPTAgZGVjaW1hdGU9MSBpbnRlcmxh\n",
       "Y2VkPTAgYmx1cmF5X2NvbXBhdD0wIGNvbnN0cmFpbmVkX2ludHJhPTAgYmZyYW1lcz0zIGJfcHly\n",
       "YW1pZD0yIGJfYWRhcHQ9MSBiX2JpYXM9MCBkaXJlY3Q9MSB3ZWlnaHRiPTEgb3Blbl9nb3A9MCB3\n",
       "ZWlnaHRwPTIga2V5aW50PTI1MCBrZXlpbnRfbWluPTIgc2NlbmVjdXQ9NDAgaW50cmFfcmVmcmVz\n",
       "aD0wIHJjX2xvb2thaGVhZD00MCByYz1jcmYgbWJ0cmVlPTEgY3JmPTIzLjAgcWNvbXA9MC42MCBx\n",
       "cG1pbj0wIHFwbWF4PTY5IHFwc3RlcD00IGlwX3JhdGlvPTEuNDAgYXE9MToxLjAwAIAAAHi4ZYiE\n",
       "ABX//vfJ78Cm61tbtb+Tz0j8LLc+wio/blsTtOoAAAMAAAMAAvw/5sWV4XiAEpSXIEvWv/uzECEi\n",
       "zCTH841qd/ax1VftBMphdwhDf9Tm8EPUEwzlDneLgkh3a+f3tawiVhRVATp15XqbXNVyYjfsQt07\n",
       "FHWbVKX7TA7LyEkYYBXBmkrhUb2nYAz7lWB3j05tv9kL9NkabnlPvMq+q4ps/Gt//SnffrhsPhAh\n",
       "3fuqSbnRYgbI/eZSI5q0nkVHevLO+n/mounLL+GDTz1QwZdnY50awGMbQqD3jzIidwj9dPdGaug5\n",
       "0TpXvHEo4j74YZ/2/v4yyO98Kem+pzRwHKp0Ij2pi1MhXK+PZ4H5mk9xZWCfPLKyE5MKUUfwLrZi\n",
       "aIPYO4IS2U6aYVrToGQwf0mW2oHp969r6bmZ59pGRAt4bP7/nc21hxAzOsQpildB4mEaw502+HAj\n",
       "Hnc5rahRdXZye4cFIlEPGJFFqSombBXyUs2tq1GhadeMnB6AH8++SnWmQDS44JzZZS3+cRQMVf0T\n",
       "pNvUgxsAz/49UoZQHmCuD84zhOa2JrYCfwirWE6gV6NcgRVQsyOkkxYyBoJLgb6nPqjAXYVH/yOv\n",
       "oyDVLe6qtM97/YbEPJr/KOj/cGcti3+vvx8Lmei6ZoHqMy4ODVpVYv4Hc5aYjyWQ4ZhlMoA+p+a2\n",
       "VZpkoXf7sbeGvBh7XUoGSggtED9C10b5T/dcP7nBi3nKdaWbXEMEdF0Yk7CZkIXBtLdiyktdXUt/\n",
       "b5NcyP4GZ3utYyu903b7/bKfaUWBpEAiiSMQxBGeioougWodZ9DD9qOtOy3bk4oRD5CmRVxh7T51\n",
       "UvaoFU8/b+GRSkyT76mUZen2QvF0rsRacLzgXhu7p6LxHpDR/l3N2GtLbajV7btv2vGSRHS/t7Ts\n",
       "BK2wuBRi+MKTRmfc6vEg0joFs6zrE8aRl2anlaYonoxiDb26SEfWC9LKM3lBx6h7M94tbiEzq7H3\n",
       "e/Z9HfhCRN7DN4oFq/cqaZqXYZ3Mv+HAOzoRSQsDYl0OgRPX51Bip2dfNi8Lljp5RIQMZiMlKLyS\n",
       "3zPehVhWSzpX9/tJfPy1Vf7Holnk3yncwCoIUiCgSBlWbgkBXrujAT4Fw2VcbSDXUmDCRnz+nuqO\n",
       "kUBab7pq2/w3FfZZAF2moEuzV9JE7Z3EP3z4nSGiIPd4kFk5U+ofirPcCQyKOiJhUm+Q6GVjYDaU\n",
       "AAADAo6XhLZYGi4f6DwAAIRLxU/i+uHJ1g0OCE9RFJXMUchV4od3uVD//TDNuUBIlOBEQmHqxFup\n",
       "KLjbYHSwUy5s7kzDpzU8jMpZ2z1Z5eAObK5ctuneEKdwYLaetHsgRBAfK6fR9tvScp7pD+FQUDV3\n",
       "YA4QzCuV2vwNOfyQF4slvQgazVCpJ31TeWtIthusCF7S1D856NyUaIFIbogP2WnkLDXEjU0obrNm\n",
       "0rKJL5Ip6/3PH5tPV7lnF0w9zahxitsiGc3mHK6JHDHXj8txPyhiUl7D8o3MlCx8sNL5xXLMwIj8\n",
       "zOVD2eSyfIEUhEfqR+l4kLuaDzjDGBbOMcPjkUF+7Tw2wfi1QRQmQRhz18rZg+XuKxZxlgVn8i+t\n",
       "DELLXd2oTROSzNM4cvkw66bmMAvsJY1iIByxKi7S4/3mQgs1ghhe413U3M7mLbGaWU2TywrmilCL\n",
       "DnHRMcopmpEAYA3HjzGxMBJl0sucPlIqqy5QIat1MWHGz/jqGK6ci7Osbg9iCw3h/Au7bjjI0AOx\n",
       "kLkdft8PWZCX7YNYQ9zeUX4g6sorPPdxNzQagxjjiC5LRKeJ3Mr4QmZnKSvXV0yqMQh5ftV7C94X\n",
       "eX/fEBNXCMi9AjAwC/XbngfxBv+SX9+bl1QkABn2/TTN93wPldaKMZgeaDtBilfhFGYXFzGVagxo\n",
       "XGaw093IquRWdT4a0GB9kIbN8f0OxFLPJwiU/C3d4xjnuxylPI2cRPutORKAFZgNO5iAUNbYBG46\n",
       "VmznxaZdkQzZbCNd491EWJCH9HNhPQMuW9xylAtYS5OW7M/jLa6SNmwHl3K+/BBJXKcWN6v5VsUj\n",
       "+nXkO9eKW2GVjKZODu5bUkKxh7ZadMRSRTGp5ZkFxjCz/2z6Md39595RqogmgdBIAsz8of4RzNhV\n",
       "+deAAPWHHKIAWZSf4ov5jKowe/ZjO3HfAueTskd4CCJSx0cABr7OhzFpbTEmM4n+Yqr+D7bzZ3Ee\n",
       "yT/4z/72W5STnRa4Esp2HnHsJbo7W9wjpTT9sRUrSJWAzHG9lW5kU/5J0H3OzUKeVg68QSQLBqbq\n",
       "PbVS74Or7EMyPVEFDI0aSF0YOtFr/pk2mgMehUwDGdT/2hywtkBGNviUPfyKHYPEcssMV3hix2y3\n",
       "NeoDBWgF3+jLG+xcx7MefzGEqon1kZZRJ4rgg7epjEJ04q+iMuI+IGPi1E6JD4AHA5pUgzC4tRQ/\n",
       "ITitZSHlBSMo69akift9TurgOeGmGHfsjQFaSxAtIDyhM8uPa3MlNWBPplV51oB6rq69Mq7B7m6O\n",
       "F72n5SsMM5d9baOWTpGkHb5q4vuWfuFGPfhJGAp+iLsdga689LkyNoJSKX0IHCQUyFhgynfv/W3H\n",
       "eAevqdjINNibr0f3jf9IexjNe0J0X/hc8VJg2nY+jJOhC5uC/cp6ix3PohUgdixCSvS7u6vOER+8\n",
       "sCFaQlLrgz1zEgTpi9ejF3qZXpcqAfsteFZeniQ2eoXLAef4LAHZv1hY5dxvJOOGb2LXYLDD/QBV\n",
       "1k3MHCzumd/9PGjkNZpGnL07VNbPuxz38IaaYUx0JpWgVbQBGg/D81OVl1E7JpnGq7KabOwcsxtp\n",
       "Lu/gkpdbvUriM8X+odDzCSamEpEJZat6JJPL2PwKP5C1OuNC9AD2ICkI9YmgHaH/uCh/gQGUtOYF\n",
       "AS49Y7kuuhCCUQOBWzsaCnweiiyY33t4g/1NaVAhplycBQHpfpveLngGcSSBukI/saKg5mR7UejN\n",
       "FUzG9CBndosGfsJdv9Bf34dRFOyA04BXr867+rbFCI3ndbtc5mfjBKPfWFiixATOZdSd06yLLeh7\n",
       "vN9fquNEPY5J7x+MrGqlLGBvKEx/DKcV03nprJFgYaU6hpF055iIjv/nzATEcB1+T4DC6cnNDc8U\n",
       "jAccPQRJES1FfkBcpegQnnqxZ5gAnZbq2xEC4vuhYSp+FEHcLdwmysuxNGBjsz3WMl7nX8A4QOw0\n",
       "BU3dBv/iswdvvMLIEEXgXzxmvs1pcJWdgCECh2NQl5wkbJEuPZTgjJlI4zrVC3XmgC6tV3F2pvc3\n",
       "7hPCDWWrhBxxq4QfTnt8/kEjtlAmyoXqv4e9TGeXdp/rAPjwk1rZtPkb3FNqKpVNKUNCuCon9YJB\n",
       "M7Vkl2Gc3M49Uh3ZCVuRXr1RMw5dtdwEWzINj1CPMrGEaMeeNmLOM7J1vWX0ay/V5jPpYYbind18\n",
       "r2nDJzpnX7tPZIL+E8YoNlsGDVi6+138S2FGgo6Eyxgwpn00EcjGY616WQV4UuIPAbrjvjp9XVh4\n",
       "03UYl+/r0+nTKguRHNCcdDHTQ1Xr0QjhrRW3ypkTRdrijvWzhmeZvFy4beFZ9mMw94K+xaaA8GZV\n",
       "KeeobB3yDpoClx/VVqlOB5wt1/pZW5i4GEZgdRkQC+1uYervXXRayuTpbEU8zuwCpsE9HSySaxeX\n",
       "mjfWWV5dGH7aFC0//dWtlHnJkAyU4RkAvhZPE/4iKH5MIxmXSYASIKojdIIKV5HUXPN1y1ldmU8V\n",
       "pFAdIj6qgkz5PmRg6R+nzL6I4P1uUDdUhlcA5wqm3OtSGOnVOTklznoCGidW8wnR9F7pfyWKOmNm\n",
       "efKNoPXDl42f99NmkRcz22bM0ENxsi1UpTJN/Ck3JAh+MMaevLf+3SLLpzqu30WKrBFU33Rp4YIf\n",
       "2kWmmfA3Uy6H/yhfzSq2bX8yMq1KDWJi/6BVzU0DQ4BPm/UCl2Ea2f3Y3K5vV7AXHR8RvzJRIN9R\n",
       "h3Cp+/DVte0K0KH1y0/6YuC+saXGIO+X2LYoI7c1kP3xLAVn12QxSOC94lk7QiGfVKYQoQo3UJCI\n",
       "PNZsqdnGaKqtXQvD44ifMJMqkxJHm64BUC9uWwP83YuYeoyCMJioATEhk5+ZkZpEYzBFYPI4a9iJ\n",
       "rVRnkMmkilZdyuZWT6G9/ax8FFy8qQqIvkmA6vyvgsHldJZy8bsvNnWZ5Fb/rh9x5Lr7vc2XlOh+\n",
       "Kg+6dhozqD8oAts9J68+QbQkwpfcWGBJNOPukF3Zx6gT80A3YWsX0/VsdOTmZG4/jjPLnYxPkXKN\n",
       "TgY44VWMjnyVJAR1MhZ/5Ym1WdYdjGNUwKNVpfYaasQ4AEkv8xV4XQF2KJYZqU6jNyImRJvagivl\n",
       "/wEuECHen8Ed/jXjDKhaTMG6aots6iJC1yfNOsrNeqD9OXo1vw33lqmhoXRU2C2caqPk8ACqMPJG\n",
       "0C2rV6/VBzOUCjQ0KctiTeV3o4Ulom7OJPt3DDK/boXyhcCuquDd2i1UHNLBEIm9CvKEp8ruaomK\n",
       "eXbTImB9iTeuq9Z1ofhZJYr6tVNmSNx1+p1Jb8HDYWP+NxkhBFyUXIdPGn7/zv+N5ID8T4svLpx3\n",
       "2MA5CaxocauUOmUQL+ODfBes9/OC0m57lEdjQhEXCCg/EpBmYBxpmKj6/fI4iP21ZP/s+PW/lBOb\n",
       "ntsM+JgktM6ezIe9wbp+bDuxN97tsVcbvtGep2XAiRJFLptUBy56LFg+N8fAHpPUAeY+LR2n9cwP\n",
       "9QPB1YKjzbVdj6OZCRuOTuxDPONGMlJZJXof7x+C2XViCx3Huu06oX2wcoDEI9rUk+jIcCD49x1K\n",
       "gYvdYLjZLiq3mVGuRk0+mJHs3semvZGlBxqBrOAV1AGcKN0Aa0XMmKLIxsmIdnS3lqFUVblg5gSi\n",
       "ZhdH56DlgOif0xj4VJ06Jb3HCE0D1kMWQHoOi1Fn7rh/90wh6+tTYFKYelFum1KBAHVvVRHMMPE6\n",
       "1mQyZwwlE9AC4yiVF8eBgCWH7wb1+/ne2FbgUtmwTWZotTAsezuJOXiC1iZ+MWldwEnqd8x+JBdA\n",
       "JzHrk96J2RncBsd/X6y6H96f23tRaUp4qauX/j4Xz4oFsMj1Xcx8YTC8nFBIMqB5nXirpu5EjeDC\n",
       "ULNctUe/M0gQFiiyQm4WY6HXWroWEsOiMODUC6t+v/Eqju22XOYTtMtSioeqn0R8ShaVsFVgCRRB\n",
       "owRGkQWBWnuH+yX2sDXVWVkFyBNw2Mvvv1nruzp8oJu6zxWAVV8BBSRP1v6N7VdzzgoWbf4EmOsz\n",
       "RATyanuYP23PR/z/tHiNIezFjSBOH6bSADmtsoD+Sy5s6XObQN8R2jA7ASvGKRuTaU2VabQqLOO2\n",
       "XoxmChbOjDEh6L/s66BXtilKY5XJ6nQHeOcygOp85rT8fAWqYwMcpf+D8fHteRg88dSSn1DaQZye\n",
       "KuAgt44FjUkgsUwuC/ck3Je9boKtjewHU92Zw19DHF/vn9dBxbE/2M9LYXV8N2cGubjZLqrscUrz\n",
       "VgESCPEHscKxkrWmUYa6Gvj/RQ75oiblsBjzm1ZZ4Helx+pKgrLArekuvRgh2mlOtPe9E9b1VxAQ\n",
       "aQt4NbLozK2lX+SaXqPBunxRV/n0Lp4EhXdIde9l5aoLAU6bKz2tFVIJIvQv8Piq8QyoEb/Ezaoi\n",
       "VSVua2Qa3qbzN3CTsAafw7xjSAtzOrUgmX3U0jtHeSdNmJm19RJ3UsT3cDndqK6bXOvyaiPphzcd\n",
       "z6kqznctgVZS3dJL3V1VjiITaHvE3v75Zlch7sSJQkQVvOkfFMK4CQYi5Kmm93u8oe39gr7zCLTm\n",
       "dTjoVc6y3w5/ijlvGufI+PpE/XViqWgIPD+ZgKml2c9yvsKI6OqftH+XcTvA8Zsbfwf12lm4SdJ9\n",
       "rp/f4h0KngV99eRaLWDSTLW1siJt0OCIEo/XNfRJy9R9UIi1v9SfE4tRSUJC1fAkfGukWmJX2sOi\n",
       "aTsLmSn6kpZetGGw9WTRJk1x6jpqUMrHuse4+yfIHm5z1y5xowq/OcWtUmAWbd/dqCZPnyHCSuYR\n",
       "eHEtAMSwSDE6w5IshvxeuycH9bq0iGxCus9gtk2FlfExWpVHUL7Gbc9FAZ1Hr4aji3a418VVQ0Rw\n",
       "Df2tB81H52cAkv5MvpW1vFgQ6f//9rhYH85Gp824z5xd0t38XqDikhBhUi7zJYsAMDnZMD4X8/rS\n",
       "fbrgDYA1dwA/6Xkvc1B0KyZDKQ6CKJ/BY+8tTLtfgKN9KwqQaZBX/4/gatdFUzG9CAp82zEVuIAf\n",
       "PPIDcCIgYA06mdINi5RwJD9zaX6bPdEt9qY7H5fAXZi4nu4JGiUGYh+zOlJa4EJho5SVgJRTKbtO\n",
       "76o41UOLYkC1Rj+GU4rpxa3drb+CzXBI1MO91PSW9OxKefFIwHHDmVnk4OC+gCHuFC8tI2OQAKFo\n",
       "YFDae55x8q+C/scuZue1HZ3pek7azspszoN331zdL8qcNKyjY8rIDhnXb9U2Ifo7jgOP11+bvulr\n",
       "mY+uhh2d7PrOPKsNggchEGvbThKhPjKMaPYoCIO1gUznGU6/AOHkfsUE9Br9/WojApyb8aYtN+5B\n",
       "h+UGZajAA8wRR6VDLrhrxtcUJDzxXwQq9D47pMSELmXSJzJ5EyJMgZIB5sdwhTrE4YJqC2FcRMhW\n",
       "OICrG3f2quwupDRgOdavq8SYeMbWCzAxfQoKj5pBMA2ECLOSP9uBKBW4kBofkNF21FXWYLuYaWpY\n",
       "tr16dH8rJECtFbIt1mzs/NEpmUwu2ixjcHxUlZ853plZ9wAwxuc8gwN5DXgt4Hq9XcLmui8gUqoH\n",
       "GK5CQId9z9dx5Af0gvk2dvBtp71RvyU+Rb71x3qF/pqMTQrdkmPo4KKWqL9ESnn851GhnGeb5tsJ\n",
       "7pJYpTp8HhxmfOMPMCK6c7xKaFUx6NWoGPknMgLvkC/ITireH7amoST+fyc6xVsAteMWlUtqBm65\n",
       "KvC8XxG2qwMwD0tBn4uD9rb20vAnul+CmwagI5QwGdQNreaIhCCpJUfb5zOl9js7dd1wFtTChcJc\n",
       "hFziWRcOP5SSyUz1ONTw9l+VuL7BSyXrwSReoMO6cS2P9uw5F1v5cL8Y3F0lWX9F57KmqXRzmqKK\n",
       "Julw+L4OzStOiakDBi+arDfsVp5AGX67z2NmTGzbGtiBy8VZVF2t/IvRH0YXeQ+DSG3hWfxz/W8X\n",
       "ivsWmgPBX2scbtVFYWTc4K0dnSIZN5IWyTYkkZOOWLpQ/LozT+ochjVCrZJSfdVCZOoz+NIKB0Ld\n",
       "2STHIs1DJOmvOS9I8pFJN/3v/xJPgDSjF0xndUdk6ljLjqp7TNsJAH88vekX/Xte4U6CHfYfJ90w\n",
       "hw3i3CZTa4ydX59bgSTopxtVZiV3bXUi08CYE9f6CXHlfUsdQMxhGimtzSs56jRWP4R7i4DFEJP3\n",
       "AZWJcLUQFn+kE1xJ/vwRzlNvr4tWqzdhA0rgv0jo92nKw2l4QdQR5fQA+iJbtwUlZSvNRmiwMeMA\n",
       "NSr5X9iu1XxOk9eo+kq+1tFuDDQiGqt+VzscBg6EjbvPTJEpZmcCjGGD7227uI2bIytZpEunmgjg\n",
       "aMhSHWE2CT+WP5RwSjl1CpiU2Txql6XAPgqJvfTf9w6MXjhqFhFRUO9xBVVA+WNnUVrJoLH2v72U\n",
       "BvTLQhYCVBuoyUrd08Wtn3tKRsuu2StewC5BEYupyCxPWH0fi5mjnJdGavwBLNLRGBugGVjOrKQ5\n",
       "LErVJJDVq4G3atN91nJEq0HWCPAcNWrXcyZS8uks4h3Z+4B0QGO42gVRvFXa1ay+lO8ZMSHYcEFE\n",
       "Hkd0EIGDX2sie7ISZ9eaMUOBZdPKMcUp/jVhuzGtrQDpC0g3VkG8X+VxawuvWkBUInC2SWdmkPXJ\n",
       "lahWIBQumPychlOA2pT0YJwOTQAXTtihwA3oJNGqkPLdzjQKBOHLI2Gyn2xnkEHVd5rv+tJNtfOE\n",
       "ErOP7ZFrC9NWms4r6AExhQYkMPVLvSSmHDkmhOu5URxE5gTlaM6tvg2uq9ajE9uvvdMQJF/8cd23\n",
       "RNlx3cyv7ZHk9Z8VEGvIdmGWYjgvuAlOVJAneNEMI3YNjuueLYpti2qcw6zqgLH78QyEtecEHoux\n",
       "owI5P3eRKp+YLYvfxxNBNqdk9z/17QxQohdRjCNn6eWXyV/QOAXLIWllBWcWnHL9+NKDqkwowdZJ\n",
       "rx7yefhTd06XnOcIHwKrRcQC0z2gl/Qo9yGdFxcKKtb5Dv8PxulEGn2xIZpWXHiCycTVFzzWkCMD\n",
       "08gc5JwvzZd0DNn/j+OePgm32YzBcp8H0arNHfY+gw3pRwPS7PoFqRfA4GIZ7sETXcWYI/kf3qoV\n",
       "rlcwhUPm7rTg9U2hwAtl3JAstojESoYt9+kZn6E/oIkCcT7SCqTpestCRZSeSm6g3L6gsSquigvd\n",
       "iABhuUlWrYgPnnkOZ1bUaLxmEWljd+smhui5MkEV6nrC9A2+OyB8CS8e5jvcb7BPfYF6/mKc9VJC\n",
       "b/2dRiAY7Aw1n0J2P1hqt5YnRVV8yz3r7D/VWkwhHtOVo6fglG4TKq1PkL6RBzZgiMQX8KibWt3k\n",
       "TuBHxNd6leKkSPcsgFotDHt3djs1TtacPmDEfGnz8ULMR9YC9Ue/HvQz/gvG1QInQI21o61iiB/s\n",
       "v/fIxmjlEo1nTbpl7hryQyIPsPUjHupPe+yfUxIsk57Mj9kv5tiLS+cLL7yL6puKZB4TrNMUFR7z\n",
       "WTkxSwA3BAzfRfq0hE2jMsGMWD0JTtAJUga8qDlLXdEwtGVHe3ASIXs6BiN5ovvYbHMhY9QXOH2E\n",
       "AujqsbHymFIWMXdHzOCBpafUXT5ARzi0kb7TwgQPfSSanZn48Ow1ojVNscRi9dguqyNW6fz6lGKU\n",
       "AQahGjixH3NXmuA1JS6AuwqxObPy7fzuF4zWB2dXw/gGDBmywOfSSGTlVkprNGglg/QPQohmQjsJ\n",
       "UOSsWFf7GHRKn87ZDQLC2zrWXhKIM+jeaPepok85zQRF3+a+5Nf99SzwXjrZ2QT+qdDY+Kprbj6P\n",
       "edZlIJqKI1aIHphes7Rb1eVT7prSMEcjKn4QABGP9j3y/eZxW3jenGRZNj86S6PNjwS5q51M+4m7\n",
       "X6I8r1XLJx2vfwXrw7QQY/AnIQsUBAgSTmHyH1qfiLkS2QJgx+CA3E4pc1zceJYqU8g44vaoKNRn\n",
       "trvAs2HB6oIwhD9kPnjBG3bwPXnOcLPFiYnu+s3R1+Zk5Ab1KZoAKtMxq/u5iGJTUmnAAz4bn51U\n",
       "XouFYrOPcdSoGL3V9ZaJYSNydz3pudQfuu4ohVMCxUSXyby1DmP9Nt09GwFSTrcwqpj73/rNN5F7\n",
       "72oOYMqiFL8KXiItD7Ib0QIMXxq7LFUZ4g47qvD2uYLoQeN20V7uL+cZOgTj2+JKBsvdqvneRjeJ\n",
       "IBbL/oy8YtWb1xowUeMjP2Spxe/h7TcPhNcZKnPeIGA91Ol+hvluvsd7mZFEU4/xUy3IUBoTqgwL\n",
       "6398t52TExeCK2cvq37dwxu9rm6U5cVXFu52A3NovO6eYpfo/nyAuY0FJ+7ieoZP96ZvFJuqIQnU\n",
       "TVYY5FWHu87RjsChVwUl0VUCOlSSsE/Kc0t8e2E/y+YoVRaVm1ymJFLHXlXV/a0Keh/imdAXKOYp\n",
       "34AKCu/Odm9UkrX5gJUHXx4iq+YUtesxqrRR0DZVuOTEXg3sFsV240jfutxerBuJLv+b+qEYqlph\n",
       "V5M9ZAnvz4VsZ5uQiO+n/8JtFQRx69PYjQMNIMEb0iZx01bW/bR6JN9R6NUSKGLgmFO7DyptlVde\n",
       "7052W5JPI9ZuCGTADGWZwrtHnBndj+ThvlwCvo9LJS1MBmdLJs8yhC97xEm/yOne+D14oIUhk8L9\n",
       "cCjgB8XVlAahBLtsX0Nojsynr1ldCormWfeMmZk/B+XQRZXIWHA5XO8Sj6f82zn+T5EPAcftpwx4\n",
       "ENakRWCgJA35vnWot589XGati6VnSIZn/xhZKFNQ/C7Ugess+WZi8HoKg9mnYdcQBxuFUAfHqpf6\n",
       "ezDnk9dEdUProqTzecwE9SqYa4oqtWZijFj2wKg6mDUbZ+HFsIgqfjBMIEe/2HBPET/E/wvGi8Qs\n",
       "q1g3CA5lKcvVgOBY8c3EK48NpSbyAAWwd0f5XwyWrN3YzFzQSY9vJoa8uAyphbbe1eknYzDTZWr+\n",
       "qUAxF+IkaRkfvi6Movo6tqCrR2UJ1nk7PdgxpEnoshDCZVn+jGwkYUXbNR3GcfQcL0/oxjXyebSg\n",
       "zfNEqEbnOgh5m8Rvi+1I5nuZoCB9Kj7298SNFY1Qycn4fSR2J4Mdn2s8rrYA4rDvHlzpfS6aruML\n",
       "qWo7cKVp8OW9bnjg3cKo39E+bqU/4eCMHVsCsrt8qOWzVuURfUb+ArTvTvtCi+NaWq/WFx9Y6a2R\n",
       "mEjbpd4c8d/dOIM02v8LkbxK+3W0/NvF8DqFLPx0z/0asBKbBJS+6c9pJoReQ3PbTnk6/Np7hi57\n",
       "1VtJwzeg8DAvMnWvtxOthgLZUVlnSL36NBmWXFnmYSNsHI/Cf+524IIqdwC3x/AGfmLNae5qLb62\n",
       "HLOz02KUoxBJRjUaAwR++EPWrJW/wKu60S6b47LvooNxuQBtV2MNKq2jw4w/bwJyNBUjMCg8EaNR\n",
       "GsSh5Y9S9Z+1E4jrxstwUQAutH/PgGfexDF6zIwq63Jj2W4kD0KpjPc0pDfM1S73+PRiVckDEgek\n",
       "N6iDEnx7dqCEy9MWSGXp9C1UB3svoDl681f0cOmtLV6XvJGsf45mrT9t2TpmyQmTpqK7pO2rtZPS\n",
       "Zk4+rZ62FiCrH5FJpFJSKjbdn0yFsXhZWgeH8q+L1lvOrzm1wiVyN0BmeYNzcvatLmWS/m5BTuox\n",
       "2HxIPssdjjvmfw1qAVOrcSBuIyV/fDCjaNPhknBz/+PkvW7h9F0zTjunvhoMYa2j7oN+07aSKKA6\n",
       "dBgqVBzxLOlVDY/+n+WxTxQxbTI98MjeXOluKJm4Zh0sqk32FTmIm9v+NZGp1xiRVFfDmwWqZ0/F\n",
       "zCKdUWzF7VUhuahgDDMvc5uD/at1TGx3iRAgbD8kqd21MaWkwb3RIJYQstKQwkOZ9DwUY0/QOJf8\n",
       "M3dQViidA7qFEKJOdGavWmlqdeBM0hC907RqZvUmq2gZWZjv7P6nRah/T4fp5Nj03m2FhiZItG0f\n",
       "FNs7ZVUp1X6X/mPy52CAWqn9UucoPLkd/ELFSeAlWaf0ztb3zjfGxbsEGjuCO2pJO1WLetWqPR4c\n",
       "gDWF4rUR86hxFapzNmYCIWcXwDvTLJL3rGlylVR1/quaH4sWJeWPY/OAGhePUxOKPL9PP4lCX8UZ\n",
       "Uqgmt2jiAJ+lFWezkE70F/HiN84MrWKStcAdt9v9kJDlmWROmNF3Dz8S3YYel1HvTXL40SqOTvHX\n",
       "FV3t8SseHIjSP8PubLVz9CMe9QCqwBCwFt1LIPuDDlOnSO7vN4NkXH3waoRJjBlmhf/r3NjRtH+b\n",
       "7JFtMuI7zh5fXKh2lvrMCRBHqn1Yt0sIG4AvwC8168F6V9zsyYB57QfkmrnqZOYq2/1ZohY64ITz\n",
       "jGYPr6UvXn2ukONP4BXl4lx56+GYUYvLKQRFkFr7yiuy6aRw84LRGfcHQDvKOBQIxrGzAcclvHPz\n",
       "TiwBi9NHaZ9RRyoKn2CLef8vezXHrW2ZJab+qxNaI7FtTSNecAzz0TO5Ey8nRPmI4HvXXzgN6X+g\n",
       "ZJuROoEG118TSLy2CuaSR19wfwnBXxKziu/SeMGk31dppdbLDVwB4XeLvJd1t5cYLCN0dPK7+WFm\n",
       "p3lHSb2HtUBM0WkKIg9NOHtNEu0Q58Rrtu1/xaT8+XgAJBMr9rrTrgYTVCR7YZBV4fjE0CK/TWXu\n",
       "9HJQoMQVeA6/vImDkHF7OJr3f6Lj/oOXXFmsDsf5namcaz6KOC2NM+WSUb68/+djZuC6X7/8k2nu\n",
       "tEYUpIS74RqjPOv+1CTgXX6XmMZZ4M1/3A8XTaOfLU2jsDXMCdlQdkV7wGd/B+6Q1/mYWjMRvWMR\n",
       "+M3CUGmwrkLTx0wSUklcNCSk0J8H1X9kmaC80m30a9mhD2jokvU1RwvbaUALupPTuIWA0qUADo9N\n",
       "SzZ+aCahwwBabhusmfaYmbdaUYgtAw6QM2cvIGJKi2cxTpMv6hLOfrOXqr8mbZaFxUaXs7uzHKO+\n",
       "SnQ3giSCUlNu/ZfwcB6KDPAYt2BdDpG3wP41UvqXNQZuzz+vaheCEQAdyt9V3XywIgNhxOsjiy5f\n",
       "zPR1sDyipsgidg+K3i9VYoZ/aTIFv+oH83X7Kdvv4yErfxEFInwbSo8r5HMjrwT8dxGMR9ZlAMmm\n",
       "sZ6DO7WPVMRT/tKacnAGClqqeZj2eTgOw/VJpcrNVHrxooIFU5jz/CRNh6tsbye39dW76Z3Gc2FP\n",
       "KjILL4I4rcKFok9cEWaVMVUmQ+XE6EuhcoNfDF5w0mSWiM6T+97xGC3BKaPjncCIboftUQb+Zqfo\n",
       "7odvFaxi9+t3wZ/PxW5Xs4bpuLFPdncVZkuSFuWnR94lf6mvRAMole376MhSFY7Om+lzOyEwHniv\n",
       "9W7iFF4b0HQjwjNQIKW7zIQWk2nEM1zksvv06KY2iurCdJvs0Rz+VVw5G63i4eesZJ+epfNE/rAa\n",
       "Xu5YZhNR/NlgxmreYBg9mrHQS6/40t8YrEFbqkAp19rhyAMMIkYlczqJyB/hrGprxjODR2/ukQkA\n",
       "8dFMoKKMHy0i031cyIq66F4owF+gW1pzvcBK3iCMRPr2+VFeCmnQ1v4YitYBfFvafZIa3nDLhn+6\n",
       "JvAYq8Dwlah+g0Oc5AuzvH6TAVD3fHP9sLEMi9uOHLn2z+C6az9HpJfTmNb1uMNw2MQGIJndinxO\n",
       "DQP3UjE109Q8H3hyGE7vUL0h+KRSj+xLhhdQ8l58w6az9nSah4fLSWM2T9KByubJq3Ov+gAGbGm1\n",
       "o/ZB+TpAI0gOAtNXyHBaSYSPoJ9hVIs590hrVruBgL7XjWOV/ZinNwhIuiANKht6MrC+tvq8fYTQ\n",
       "BIpora7TyKoGBLCP9qMOK38DVQmF7zEZG1KOgGE32+CMWJhOjCRAAeW8ppZ3/XlHTh0Apx+d/MWs\n",
       "NNd1djniij6dEcmeFsYMvd+0Ks5bi2KDciB5XZuDo15Qu8NwgPMDSKtY5eSaQyDBlUike+gnd/+c\n",
       "sqzfSMZ5v6oCFzrE6BEJh0Tr293LvC4ypSCLwIiRctv2ws9coDAiSoQQYblygqAFqDxoCKznk/ug\n",
       "83sDi4ktpkoV6pjRwKVWFHxsorjIOB7PJP+hr5k87nwqBY1VaMUMgkMU5+fDBsPMeCKbuBXuDs2C\n",
       "ft5gD4A6zpl5FUAIWLxPTOWPm4PCvNauzLOB67zIqPS60UIfeGX2nKuOjMyasHRKInpg+oXbv8tS\n",
       "LEMRjeA3raNnQm+9e66gUeaA8v8Zms2vd2mzwAOyxrZRt4nSZmG8hHrlOe8YOcKia20FffSWM7sM\n",
       "HlPqOCZqqmjVHEGa/Xcg0mebsgpPsJi4L+DfFdmTNhe03rW8fZNAThYuGJANRp5zAW8p8umO+EVO\n",
       "CRFIzqD9hQFZ7vI7zO3P2aOk9+FD4lOjOtXP0j6bbBbaSkbwoDEqhavbqvR9ek4om9eHtUfGvd3L\n",
       "sT8VSnaLvuHI7waeTuJOQAH7e/PCm1+XTz3mY3e741By0dMuSaxmfMsjz+a22NdmPYXJleg53NPd\n",
       "Z0RzhYxx6BetOnzBmvnYgDvCmjlhCzMIbyaDkK0hBHk9O/lGyDt/9OcYMCHV+KY9x7TDuUAe8Ywk\n",
       "OG5lcNmZvIMyF2UutykA0FQ5Lqm4J9XJMXfMDOASpjFImuWi4oAOpqP2DKB0LG5iCezSPXC36BlF\n",
       "GKjnjMTYhuxR59KeJDHgS2zTeMLgCk/6RIDZtYjooBc2l+D7DPUX9oBoKU5f7QnBrz4V1t4XFXEU\n",
       "B/SgPmWFK/ZB66MHNqgy6+Grz29P2mkr1YAB6XRJg8Rtx5o/zit6ay8NIDb28eEz6nsHfxhZ2OP+\n",
       "zChfZffQ7JfwaVzEXwruFikVVLxZdntT1Pcv6kwtckuBU1rN3Cq2egxTacpMrZenF8UMYU/4Jpdw\n",
       "SfH1M73jLCYWDhee4Az3mAFImezd2O3Vg84ePPlg0GP1NYJ9gqStCJqyfDH4fKfRxJwcK1DUKtdD\n",
       "u9mQeS4g/6YxvYOmSUp9B89DLiXJTjmxdksTjNgG2OzSYFOykudYoKAh8mVaKHpPNDUfZsX2e69o\n",
       "g8rbqYHGDheG++G10pifHAC7f2lGJN/SDk+HM5enpsu1z2Q/s3Tlw862T+73JDCOcFNEkFnnrCNb\n",
       "jVR0TgTyrXkYG5MoO54zIkBMX6mz7o4DDirpnne4eLccyUp0J2R8ECUSwVRKmGhpTmCpAm0g+KVk\n",
       "+zFyQhPxKv97riuoleRz0gDW7EZTESSNxNkO/5bFz6f4PWmlOuqp0HdelZzZsX+xf4bq8NZocUu9\n",
       "eXlfQWjNHUl83oujI0pFUaRqOUpo/4x5VoE1Oy11ZxABFc4Hb3gNNcjI2JM7ElUW3Me1RFzSc1Mc\n",
       "G8mPHJifv1/HhrG6mauwsXKHMkqa39ahS03UuXrs4iW6fw0uOVr9/lJKVkwYMln5Un6fuMBIz6Ix\n",
       "OmLzh96+yCoU0TgWh6QYzJ362VMlRplRAxiDjQtl8QmO8k6FBFzK4Snj4EiIi3hzun4Cg1bZEojy\n",
       "osGUB55h4q+7FlGsd7zez8vCYXsXUYjH6DdYzZhkp7YJgswvkq972axcojsxVdIH+PH3kMny6rZI\n",
       "MfNiWvgsgd2HYm+/YXAuHxY87PiuKi3r/jmWjmwBZOtoTYft7rkNqan/YTmIaL9noTHtzcaeatyH\n",
       "blKeNEyb0nllYnCuRmEILNZETuj4gEY51SjfE6bobp+w+xevuHiOsxI3fBiTne/jBkbQnhrtYqaB\n",
       "69TtkXOhz4sOglEcbR6k5arxa2xsqnpE6cN+nsYpQQQkvR3Ou+iR+sylC36x4u5Vfmv6TF6TWBWz\n",
       "dE0HOlvaKeeMO3XyyEAlbufRkvApTo/13hEAl+ZfcTIUiEBekCDwFgQw8vZwsHOBIEyxzEbOZKil\n",
       "gkmbRX1Arajwjsk8p5iZWTUr4fsIrpoCibbLQwaIcnWyfdSZxr3sGX4VGwT7l8AMyODa6CEEJcp+\n",
       "MX/mRG4R20OP1a/ugaQJg3W53FjO5kFQKhrplh28qM6x0nGlrr9boNy742zG8dnblMUXBgSOsq//\n",
       "KSIDlr6l9AGgpncdyiFf4Gd9JQ7/e/9dNIOdf+LaR8olzV4fg6w12wogotRRS+dDg8WYPTPByS+l\n",
       "D/yO8F/sHh0YP1uDhzuRix//U28I4GuUjM2mr7wPCTgokuoCb6TGASL3kxMx7uH6//F7gtdnyOOu\n",
       "ka+ucAXmi8oyKlNYX8DV7yDlskZSuzk1IcGXPOZ5mlglhxYYqG24zBgaYqBcJ/2QNlSE6/kA4aY4\n",
       "h6UUpMLzuOtb6TfqCb3PF5Z2EuMpeRmL8smtPEzSAEVyHZa8zXky6TEyN+Fcc05n9p3bW4aKoVkW\n",
       "a5DYENL6CmtcZ/NjvUNBsAws5KPkntzNrU0gV5PwpuOzYOgtJmg84nugN2LFYt3e7jp2eybDNG6t\n",
       "XiiaMNEp/UfdA9gK9IvlrjhqEYT9fRItwUmx5FjuGiuxLVnAgwBFfXdCdf4K5seKQ1WhMbkRqWPF\n",
       "wtk+PItfGBCo/jAL+3W15otAZukTS81ZkCQIPPV9nvdBilbPESAPTYpuCOpeYfWQGZ9K1F0am7mo\n",
       "w+Ni2Vf1pONQvxBW65dC8IvGsDLLos1z3sirhSO2XS1oQu8IksQmvkBJDk1dJ9BfqfmJGGOp5Re4\n",
       "DmNws8SN1N+zq43BWBPOmsCY0BA3a029QA5MkBP0GgdEekxcAUnJBiq8JtrDpngqTnzCKoO+8E5l\n",
       "ZLhtYuktMq7gMyRQ/osv1tZuQwBOR13KgVgRu/p8B+J7FY1WRnWgCV/Je20lYC6OlqlhR4iaeN2Q\n",
       "TDy1XI9L45eD2cdLk4h+G7XQx5PeoFWU6Tc0m0xnrLvZysjGAEO+pDcwX/9+vFUvf2sYYBI4vKdm\n",
       "ze4QnNag+aHlvi09cV/MXwJopjuwj+nE8LwfDzb5mms3oh5IpIwVwYB0a+iPZ2Hqe+sQ9C8x7rQ1\n",
       "zjVhmw+iP4VejUkidsne8gEgmZ8AJZDJ/6zJZPrro4oChXHJgAVj81ElfnRA38GkrktAUTib3gIt\n",
       "ak+mjjsB7J4b5K+52Ye1pO4sUVxFBBi1INmnwf8WahQvEZEjldld2+BVZ+u2xtoAVsn54MWdk/lc\n",
       "3A5XXA9n4z3yq+5vr3w/K0TibbhKaIVl0Lqr8m7WBlKqBjZug4nYqhgvB47seT7IA6jHB98VuAFR\n",
       "s2flzYhAYxdAtKfM0wlov4faNyi2SVP4zva11r4a8ODHYgEQt6yQP9LadUuijbAd4DfFj0eLeh2s\n",
       "gmwbqLws/x7bxRK8hV7hQ3ccMn+5oWMUmropKEMcJ800dXvKMen6g1FVrje47NmabaYfIZHQbLf2\n",
       "SYHq75FElEy78r+envxBUO1UcAE1zlFR7++9J3/sUVJ/ckpppNZg4dG/T/6CNweijJ1O1kmy17Hd\n",
       "GrjghVOGzq8/z086tFQVvhCAutTWpO/AIyFw0Rdj7fPiG3+1s5DqtQjEiosC5RF7zOl7a+U7YZDG\n",
       "KCmkucjLvy6Hc8L1wAcmFzJjrH0p5SOmPMqNfS9Y2w3Xn4gMoK6Aeeo9SXtOgBJNxMj5uPpuEQqT\n",
       "Du6ejLKHjpbO4YjGod4mqfIOKQLn7vMV9SyU+Xj9/aq2UtXU5ZJW+sXnhPzNboZQGEEFyySyJ1wz\n",
       "p6U4puPrJeZmmMbqRseF0opQOqTePnQf1nELvpJ28NSE0+U+6I9U7Le54SqqwwjefkjDzQhGyMaI\n",
       "WqFX1ultk8boPmOlobpfQ1p+u+db48Srn2r4c9NxLvjOpQs1p4xwU1PEHdSpTuDSdhVNa8TTIiuO\n",
       "mYGX3bWVO8+1ydJQHcVff/dhiPwGx0Tj9QgbyZ0swZfneiap41pV1uuMW79yCQd/bHmdyQK5GRtt\n",
       "MBhq+pKNGGCLkjRKjHzC0XCXOBa0aqpt4cQAJHcrceOQoVzhS1F/zJdj9rDiYDbz+gFPQXZCwjr0\n",
       "2rcBKhb2IZBAhA8jvwfKWSNTjJ2uwnmrqsmPkUrhOTGV3qKClj3+Xx0sPd54Yu44Jkof6guhnee5\n",
       "XlpnTnQdwxHZdCBXwNveMddTI4U8uJlfo9D6fXQ6savKX1yroqHXrNkTK3q1KyF0QNY9R1/i3Y8L\n",
       "wAaY6myOVIGsXgwnIYkppZA4RBCVRoSgsWVBJ5TpogJhnov0DawWB6ZEPxIL5w917l+7tas2Nf4S\n",
       "iOW5mz9ekXDmyV9PwKCRWJg2oy05yGIZHIjyH17p7arDLPI53nTCXa6mc3dYS57IMrhFKywPqbV0\n",
       "Il1Xqycx7Rzpr3SyZYZdcaZ+Jn4HHovGTJ8ekyim0DFbxhsgKh0KsrLalwik8Vtgy4Z0naU8rja2\n",
       "VCxXd4Z8kFRl76vZbAqGj+rZJsYF0GUaOcDCEYtY5Hgq36LApXAKxsgxEYfwGMT/MFGFD2oAalxH\n",
       "Aju6w6x+8F/DHTyInbPwmp+cJ6uRqGAPoYGXumxtikU1Yhb82JdTFUguYFukd759f721W88E5Dnw\n",
       "mt1TR0g10QWgu80vjEDj9vYPHMjJigKkroBaTHZQFeuVTnA/SrYj4+D05YGPalm/r3S4jIuj3aPQ\n",
       "qKMNrQFrPaD27Kf1I7HcZRBqb0gD0DEsptaGMcV2PkYBgjj9NlgLYoydLnVvtf5bKioDRQieE5UT\n",
       "PG/h6gsBUwVY3gnIp5CSIRITvLWC9QmBDpG06LxQtx+yPu6MX5xXNvAvjzSWN0td2pyjw7QoOznv\n",
       "eJCWuUVO1ZHX/8qYLVn+1Pt5gj+f6v0y8h81hin7DV84RgxPun7d+KX8r1AQYawywt6YZX9fZ4V9\n",
       "f2UwhI7w138zDqV0ntyW3BSTTJP7nClpnsKjCV/QLaTKCdVUTvlNgrLg0EPKoY+Ms3nWUSogPQ/Q\n",
       "jWzNEmMMIsxrKdBs1fom4SFpr6inO5Uu+YuvibPQy79DznUZslFfOFJ+1aWluO88ZYQr25/3BfpC\n",
       "ExVWa1FHUHKnKJmLvFq2QbwyKrmMAO8ArykLj4WPHBYISLTUbEjSKtHcy13CVj3uR5kV/+U8ZDe9\n",
       "dUs7YNAeboKmVLPt6WsfNUs6I5+mVa7TgheC4JcVr25eju4GGUueQA0c2AdEll37aVRPFuNDArWc\n",
       "8+b3+LoSB8vDiqXj6vnl8h/8mT2EWWfq1/cIyi5ZQwXXdR7s7TOKQwHhwADle/S4Ikdx5Zji/Uvw\n",
       "9XfH4vd5qhUCwrIDe9LFUyaHBBM/H+v058ln+B1vQMA/Kb1QfF1CUJUyY5dquqeNVQy4SOCZCiu2\n",
       "Rua8t29CukmqdXOyKXjOx+eheSpdxnCF8r/WfNhpCR4msc8plFem8YLlvPUdMh+khQRD2tfszk8k\n",
       "S5RtVh+K68PeMM3HA/YQxFHOCtmbZ/vnrDLVxGpohNjnR7Ce9Spbr8CNapZYmS4uJPi+KGNe3Ov1\n",
       "RgaeB1SaQVKikvxzmfVjomp0xqqsNGPbQx/mY53TrrwcgOHtK8lezQTkDYwcCY9HIm2vB8A1Hq5L\n",
       "A6gmPV1QL0L4U+do31GtCanSPXZvYeIp0lmgw9r/v0v8UnvMtUSjB9XqTkQDdBwwax2YctFS2+/e\n",
       "c3CGyIglfftvIXobW8fGXzWoLoUEE8z5ruRYXxAgOQoXoDtbR16cIt4DEiIwiDJVnHO1Rs+ltiF4\n",
       "t6ZmxVpPsmqQ2ifOG90sdd6TN/5SrZmO29pzyiPJKeSIOFH/P1toVjWDbmvY6A2OR1C6F+4vUuCj\n",
       "e+6fMQmS9YSXE15/H4+hVckmsqgLRUdKneqrI5wtWqPmKPfklNzsaRI2UUdDX8h5qBLWVegn53kY\n",
       "0rRiX4E4FPYOzT0DuU+9bc5A/JcAynv6F7nAW/1UD8uyEeYSEdMbDp5WZKGZsXvyy5FuOqCp6p5m\n",
       "xRbMYwOuesmIVANOpppRKK2vzoCv5jZOgrCysjvz0Fa/0Sdi9dqRcCZ68Y9USbLW1U2c31lUjzgY\n",
       "EvOw/z13FWkOFI4k/99cc3GdMo2q8ujGjDAYLFlafh0MnJO1OV19kYZFCbEN4kPt9HOXdiaecHHQ\n",
       "ttSKA+lS9IHbMJ+439XXaPc1uiy2+iMmA2Kk72sFKrws5Q//7MfslC8//yJKUxzSzLfNT/D7I0rz\n",
       "LnWUJjxLpozmLDjMnhiPyKV7F7kD4pDK+zm232cTMJzDc+GdTZIYZEuJ60xz9DAi13bszGVEct3c\n",
       "+AgP2CefS6BJ4w+Cq2WVWK65fuJTFW02i7JJheW1or+pVtuccoV/tees99Ym1tAFoWNNUDf5ggys\n",
       "FDVaGkY/WOF0p9tncXGJp2a5NvKJZFPBgGi2eYwjqdks42K/ra+pCWpbk0BDVZlrmuVOWKghs6OF\n",
       "3zHDmfI1Wzd61uBMCsCcKHNpuDFk9uXY/ShPyv9bsDco7qUq3Cd8dxdPcv8Ve+AUl24fUTMGxsTa\n",
       "dXm3c7pDdDq/L/yJc++axjxIp4Qn1zJ2TyZbleRLtwPA/sZHxnKS0zSyIHIGyjVdZW30tArpuDMG\n",
       "kMSmmCujcjOxW4yRMGeu2LdMKLmpvFHzYN+6p9894RxTIZbIBA3HfZjkmzuLBfNgUVo5V/zhcVJ9\n",
       "SEadhbw0eRjMDgaKL7O+KusKhKDl+EyIlv88qLgVc5RcarRZfl6PTYmIQ/HpqdwetkwAg17ubk1+\n",
       "SZ+6/OIKwxVd40tKi8NQUU+HeduMS1vzoxiz5JDruDhaYolbmUXgQae1t277zvx+Qc9FRNpeiBKv\n",
       "VKvIX0ZlzBRz5lST1Jb9ddrUcVTrQzNVfZaL+u7exjh8Y87O+L7tKmMGTC1JDeLZ/lsLzNcHxgbY\n",
       "QyPcpZ1UnaL3ByOxHvOrGKII099hrlqRoJ/UmqSEwI2pXQkvVtvpgaKDuw/5U4/XJOl0AvsqiA3T\n",
       "q7bIEKbzRRqHuuByWSg1J2orv9sJr3cEILbACNwmiI1BrCon2kKtUKlAsFlNwAvXbpR8+c5Yl28P\n",
       "GFKr3iCo0dUawgApQ9tEcIpt4k/88X35yu6pXlcV+AonQxHsZT2uXx9Si6ugAAUcqh0MlpSR1A4M\n",
       "Ie/SpAoxjZsosHCX4txdmKq/IOy4Fq7n7nmpfuIwRUQbqgstDzArG7eh7o3q63+krI6PqGD9QgwE\n",
       "ZXWnMieyoEi+2f5Ov3KOCt8bUVFqMQl+K+qBRbHF6NWuPWKeRdJ7ulSrrDaQuvCowUJDhstfWu0x\n",
       "IGG1TPdY2Xb//Kibz9J+2377SmOthd92ReaMmse4wrcwRSoViw4fwBqVd3JtCGKuLw0srmwaP/PI\n",
       "YIAIOvt2ijlbJdV1pP29CHZN6a53D98IV7NqjIT2XSBe2Uh9eVEj2SS1ohFEWmzvlyEXz8iiEdnQ\n",
       "FgKbcTABTGeqiuXrjz2S7E9E3UZjfv+IO3SShn/lvvrhbBltRIZv3v4Al8d5sG8pnE4K89GAZlJV\n",
       "SRWmIV4sDIlcvr+9/3KIw1bOFbLQwzP/eZ5WhG1d7L2CuEHM7ChIqRDVfzDLpAyuJiEMi3EWVkow\n",
       "M0JSkGSHcuaeIXUVRLuSilfoDc+BwVafHFrPABxL18n58MAZHMo+zaELRPBWjxUJt7ZjD6EWExHr\n",
       "MhymfMaHKyKwE/28EV9ePY/eRiCQ756N+Sybw/QjNdevwMXutEPq8Lx6U5u/1H9fZi/1pm80UH3F\n",
       "KiYK8fJhaAd8gJpbyeq9MfJfa5nKNwoVNJqWWzuuq9/a9bVDv5SzpeI1mR0HhSCE5QSqY1qqQQP+\n",
       "4Mb1XTVWqH18h9I6/0CNNvg2lk9gs/wsSD/3IQ5PIXtmXU2eYCYJTmgYJQAG1WoElkhi/VcTX/t2\n",
       "wt/zPmRZ9a6bPMINrGdpxUSFZg8kHfHgK4ZRbEUbamlEvitH0DVPpP+73E5aUvo1MAH7tRMHZtl3\n",
       "pxkgzp3zy4Pu+JTKYvK0iBBHJI0Cz69EDlmcccXx2lyVCuvwzm+OW8KvhPC0/fyAO3Vhcn1rzqTE\n",
       "dIV0F4pWd/zwHX0kOVaUwqU+UKWThhmgr8CoutaGgFDjz9LsrE0SaBwqHaVYPCmdU+w4Y5WHhqWR\n",
       "8BELZmFQxlOfJmDAgTBOq94gy1oiTKXyOAtILxkpqiwLYh0chuToB0chc+WbWv1n1SQRoMFmXlYE\n",
       "J5mJ2OCO01OXSKhaLC+noelmx3vKvUBDG1GkL32+5zE/6/gO2eTZmVrpGIWNHN4h7L5IqnJzZScz\n",
       "yBjC1HPH/8ReL0mk4JAV66iTOlZthgepztppdDGr//CYrstH9rIMrTtRM8yvMWHZOhnBd0cermvP\n",
       "1y6lHBNsQ1lA9SUs2iTbP/LbIx634gZEk+1zbug6FzY9HnlUZTYpeWxcDYcGTJcYZAl+orqbW67t\n",
       "F+UtiEDaE4tg0ymZjnEL1WVSmEaXw0W/m0dLYckyvIaSBwFoGQXeqPGWDGMt93ErmoNJgmQ/CSYQ\n",
       "NRB70F6jwzQGDfCsPNtXwsNtOh7bZg8L4+Q/rsBqIBEIGXM79Mk7KzDqQIRCDVZuLBdznEaWhxmY\n",
       "4yDJ+KPZTJJYvdhRDUJtTzNhIuQp5YvzyHRSXxF3i4I5VgXF+kOivFvh7J5Lv96Ls/2MwZ1ajDMn\n",
       "8IA1u8lFNdPvCpBPJYNQM8yc97moKmALRl3h/wzU69zawhJAV5krZrubXrxCo8XZzQlrPuY1XOHl\n",
       "PE691SbPfHn+ddwBtQjw0MCgPotjWS+M8smhfSHnBRSJNq6pqHwSDa1hV5wv06t6IICiPT7iTFuq\n",
       "6LFNTpGN6On0mkBjL9apoobXICH9XBuTWZlVs0IND/LMwy4S8zLEywwdB+7WrQ2ETJrvoSqub17Z\n",
       "LH3fWHc2y9SXA9Vu6wXd66j7KDQM/9UMz1nsEadhsLTF7Sp3UGCkRSEyTExxiDZjsT0tiopF9vPP\n",
       "4IVHEAeusfn/Vd55feD3KvVBB8qO/wXJhVlQvLFxQl40gqrwWOGE2E7uiok3ZHb3xNeq2eYx8q/4\n",
       "VB1Dw2fq+Op7rDam+iDneX92GYuUPrdbcNH6UAMtDhLk9M4abQqaUKJYA2OMtiCR9FOgIltohM3+\n",
       "Iw0pK1+9DT5sxbuQfFkcnJqMCUkXWt7oiWVH+5M4s0DLwulC/wW0tATGESj5TD1v8KQLF80pFP9/\n",
       "2FA1OdcPXAsDe15UcnbwmBcTvIbvM4kuJ3JPlM3J90kx9dogyAIAnP54Nd2+ClFoRw9I/DZ14iBx\n",
       "ZUJL2D3q+4YPvAJ+KO4vN+imxYVPlYdV6D/VnwVhZ+AwjOQS0se7KyGqXbO0V0kyhiROiitqBQ7x\n",
       "/0Fvokb2jImExXoSDvj+tNNcEbMG+QyV9/6UQW2259SGG8Z/z3TZDetx2u6/XLnTnN4AJuMgU2F8\n",
       "qGyA1rQFVmvmbWTZKmb8djS4Cz+uFd6bOdVh5sGn7+EdY5lohQEx1hRIN4NZ39AnLH6/0coK7sFK\n",
       "d4E/aX/HLs8U4JcL/jOwn7Bwjbe6Jmov33VPnT26OdX5sOR0OaxLABFMg3dIXmOtGWFrdqBb1s3y\n",
       "05sRl1hwHJNq0QLWp6q8ctAI9DtR3tn3SO1McYsIHLQnuFvSf/o6yMUysWQjrPAAwgnc+CNTNBmP\n",
       "LzeElLfOgn+7nI00TSjKHJkSHlRwGXWeADiXr5Pz4bYqANvsxHKfkl0bVpZ7uNSGo51P/l94kT4n\n",
       "HbW9cUYr/8MKy+hskgbekCE7pd8nv5LKa5i5Yb9gi5YO4G58Dobxf6cQirWT6FiuOJ1I/IzXAaZc\n",
       "QZcgE5Shu/mvV1dSffBAWXscnb5253V7AaBrOvy5SnE+EtLl5HUU2RuYPfl9Co9biPcWfAIcgHtv\n",
       "RKKAJePRY9cbP6URv/eEA/UplI7qn7WVW8mgbcdX8gmFSt7lrdjbV0y926sXG/UpP8wqWuy3/6aW\n",
       "+PWDyWlnVcJ3cBv8XG/vBUc2JAoP9VVA4xmRf2ho6kBCztrrtdqJc/becW/mqmTuhjDR6sHVAfcd\n",
       "jqV//IDJWZHQn4NkKnU6Z8G2FSu2nxx58cfAPei7D056LJpJJn072NDRSPvAJs9VydMWhPu7IRRv\n",
       "1tWwLlOY8ZXR5Jzcdi46xId5YRMI/CGDhP55CzV1of5F8gEE9WXqFCSfG+qVo1vQFI+NzctVUTeq\n",
       "ZO1GCgTcvdV8cWZdFJzxthAvIEfsAb+taPRA3xTA5W0IXuYG9m9xUMFBrtwmvUN5BxQjG8DG/pFE\n",
       "qn4Ig9N2D3quOna1Bt4PiRowE25EGIkpp7rY0f9f65tbYM0Mjk+eK80aGx6ZIGxTiicL+AeZ3dKu\n",
       "Y32kyvaRxOGKrvGhNli68P3zQsORz6D0LKd4c2dakFlpbQTX89RabhXeCrozZMh0zN19IXgXstgq\n",
       "X+bQAfkuZrjYPdec53adjxS8UWEpU2xGqnryLFT/OrgB/hHWguogsRqIw45pVP5FjWqQ3iYtTlBG\n",
       "+PcxVmlw3cHXp2fgtEMtSvuTDZ8MilVvf/DjW+mTapXD95ffPJGKP9ZqVK4f1kZqdXOajZy91JEZ\n",
       "MdKzMmzhSKbegUsNgJUco8A9EVtocsLHDwUiVaRe2n1m3biX//77J5ZJZp/9aeQ3isavZyxof5FU\n",
       "d4D0UT3COIQk0ZcpT87AqlvGOwNMVI5gCUf62md4Hl7+P5sk4VHq/RufGGr+bXTc1ns8xEtjPeHk\n",
       "ogGvAf1PWHbqfnR9FBtMpv+zjDYme13Uio72sDxa9ZP70U10/KskvWWtngR1CywqLkQ+VBo4mQh5\n",
       "q995sTCR5xg/RGGfxEV9/igaUyDJXgJDbWjtIYU1jxDt333wLL+hI9fLVEDIn42P77lcIv98FcSy\n",
       "OR0s+UE5Ag0lhsY5HQZMrU72ROe18YMOBfjUIAs7t0jmwe6D+WFaDEc69sCtesbBvCZI5Q+dyQlq\n",
       "qatmBi20qdP2ehABhQ9odXll/LvICGxendTjJpUCQrWtmaPnld1d58BwAEDymkcmq8aDTqmPv8HL\n",
       "Qgf6SaByreAJ9+vuyuLRllfNWHkOLEha4eJP4G+y2hr9ruFIJCr7WRsht12FjqRNsNglh1bmIAtD\n",
       "EYrPyakfCYoSK3RizrGbFFZ2y+l2greeY77hVRqhVLLbeAhdk1Ti4n4aZPQJFrOAXKwA+tYobb5F\n",
       "P/XiLUMkJ3SNZS/PBOoJ86xQWWs9VGwKWYXhFFthQmarq6pKGgkHFNSdN2gUxu5I9csBR34cyAwj\n",
       "TIUvrCrhdg3K30la753mTS0yaJVoU94stDCE8p9Q28qqwnChyp9VFJ75QrjPHuibs9K+xtABq8Lo\n",
       "9+PrZkkF2BckpwODGhsleiXtfS5vuIGnC2x4U2H2hblIBLM/kcDtlFSTV9oCJ++qdOh3/SwMHe79\n",
       "f0b6DiOcE4NI9Op7sFT6EM98R0VELYDSKO+n68XYOUBKYf1yusHUPHj8XCFytqb3IwcmLsOWOG/z\n",
       "O4S+Qdx338XkECMt0luez/eLLss++ijtd+GUSj/1Gj9DmXi/l2rw2gevXHqwha/CXouYGsOQ7Bvz\n",
       "/g6HioKdPsSpW0ur/hOs0PsT/CLLqIEyu07fFC1Qea7gv29+Q4Eb2xoZRe+1vPar5MPXAFBOAU6g\n",
       "+00QEJ9CyPX556JwDvJY7AlvVAhNBPKyEEu3hPVwfaFg1BvsjrOfY223mg53tDtNurNMli0hdfuB\n",
       "4tM840pAPSnvflUu+Yx4/H15b1AkmcG7Jv4QtPTgdkKM9g3dRmvc44gaOm5Cm4wQrcfpG7ooWLqw\n",
       "1Aeg1Dlm5q1ZLZ5en8AB7ERWR5NSeJCLvyFfqcU2SiJswB9k31D13Xc5iMF2i2lhdsdbBYs2048r\n",
       "T0MOoE7KN0MjxBNwIiBgDTYSpKqdAlb37zt11V3LSkAejgAHkThN7TKrhrOhG82SLRbq7hsPeSid\n",
       "QbebSz9RuBaJRnGRfVa2wFLbHsiJJMRaDYGNxGPP9hOnXi+yWUpXoqVkuFt/gSVoZwSjN2Kbuxny\n",
       "h2ODkms3BFe7b7DJTNwnBiYw27lWxqazxSmLB2A/qmQhLcyb8poyx5Jy1n1LTW0U/6IwVf5kgbQZ\n",
       "wAaR93hTjZJIS6k3osFFf/so/8S+4QxwnvE5m7JZ1LRCfd2VrYu+3JPuX2xOLEZDb/igYqpm5tQM\n",
       "2KAIna2FguykReNynGOoI/bVbfrvkFQ3udEU/+ZQZsMGxTpLv6xb7YYCYU/basynt6MiM8Cgc4z0\n",
       "p6c12Hh6Eh8ey1E0Nm5MLvrixndSDfMTX5I/29oopDDJRSmTRmLRVJlDc/QIp+ixKKjmE4IIvw1D\n",
       "w/oYlK7c17z/kRSSE8aW1kpLsYtmnAvbU2CdNMMNy+La2UdeoPLCxRUmvhjQoiKp38P4KB0mSnZV\n",
       "8Q4WX77bhWbrj9sgPLS2fF1q2NDfkpZakg3SzvBXoXUQRPtB7NqCjLnMPyNjTHdehpFobOBB/HoE\n",
       "OHtY+I5tOpBflJ2vlCyLN6s3XoawwGWnbylZelWfL4uHas/KYFiKpLwQ0mBkRbb/p/6KAOFHRG6U\n",
       "8r86IBjboEjkoL8HS2Da05TsURv8dsJA4RPOiRP+pPQCMoEAO2/NwdA7BruJSxhRuftvFhafkbtZ\n",
       "adG6DZLCdvK0ycPDnGm2C3vXgGdk8WAfsJ+nyTqNCinLqNzOI9TmizQ/A9GvQUG3FRbvdTggdpVc\n",
       "/95ICN7VCVEDQYuK4xNHprLLVr+0OT3E87w2AgK/daI8e4QE4dNrtLs2XVF3jo6IDEWrxZwcU2H1\n",
       "JC0LY1Q4ZwNao5I/PshLKI2AGFAs9dcJRUszqOzh1AdggnO5bUYecYwkBNu58kSgO3ADc/LP5/lv\n",
       "4hojPgHfwH7tatDXffSDxDjI2gPt/LH/ftY2y9SXFygoU/gjNbRQLZRZkCASu9LM/F4nxo3bH4r+\n",
       "ShyU/aosCf8v0fCDH92QnxGuzJgHqJx2YBPqTf9L9FdlQPsjpVWtdzpYOCJUO/sDxtNmOwm6g135\n",
       "CLPD8fz2CeH98LuwAp1tEanFiAyvm/upM00M33031uMRA0m4jtBjrbEKNlh4a9P4MOUdYOCr+JSd\n",
       "HKAQ3zq0B3ma40wNbxx6H+3PKdegVM57O4r48K7Y7/3Nu9PQPIUaxVALwvozFt718EHiK+tEKlsU\n",
       "2R3uEs82n4EdKWWeenb8AOluEQ1j9xkpxHyXnZbxR2EsfkcZ448CLUQ63bfx/PF24BPvKaIIN6uP\n",
       "TITfhrKhUog5s+wwkjQg2UfP2Qswz7rvr5E12T0bEO7Mrt5BZzHTKdxQRSxxbTyly0m3q9iEvx80\n",
       "pSIvN2CKGsdb/NXhNY0gD6Hqx3NAlA7IcyC0h/hqyDYb9WZAkLLVD4tqE6pj94iFA3ROnYx0M7sf\n",
       "JtUA/x3KbmaezhpqUl49FbR1EM94B9RayLREns9onClLaxFVCcq5r4VetQd16dGjelfn9HooVObP\n",
       "67mEojyUFcyA7quP0CYgDR4o1b/bBHeO+eeiIrcFU098u8OcMQDfd59FdZn3Y6AXTfA2FdFsrtAd\n",
       "8hKe35us6f2ZypimO5OCnLBVH5nSjT+MX+29Gd2xcsQF1W6HmVl/7adJqGbDU7xPADH4Wq9T0PVp\n",
       "j+hHoWus4BltqDlhhr7r0OyCzPjfz7KSOfN/Qfiq7K+JdWlbPaWNqDGTRBY/mduj/YiD8aJBJ3FD\n",
       "0q2WOwd6f7yLC6TXRYmOA4nWX+SGYFiC4F+4zzQrwa0hbHuC/CSmPP2q6BAvomMA7BmY7ujIQna+\n",
       "rDhQprlVcvQ5DnXRdZTQLznBI/4htMBfF8pIIbr6p3qTHKqnWSrL2aGroKRqORY+ZUepMKq7wsDX\n",
       "5KRf+eW9jxtpF/fYk7UB1K83htkPzwK50jEUfeXlHr4onVPRjDnaHgpRlh8vRcMT9Yj3k8I2wZvA\n",
       "AZj0SL77cZrDu9ONYBz5B4ZeLV85/z6HI1GrQDiXZ2CwMVhuNHIRhrcC1a4aNYaUYa7WC18by/pw\n",
       "naFl6yy7CA/tTLeZHey5CwhFgDQ7kUUrcPT8UAFSa0SpQ3ouKDF85sg/38Ip/a+UdsaFAAgScj4Y\n",
       "PyJj8b7gzNelHHYpQpwGlQ5ZHfZy6nVyiYReKcjOnrrvhlxP/sDvD8GDW4Q9sey/skkquWzvedLw\n",
       "ZpMUE2qV0v+rMzwD2PvTpM6isuYQFd+hnEsDw9bOC5RC9YfqMD9wrhqm4QpsiZgepYLSO3R0e3sj\n",
       "Vsos8FjiETLLDjXpEGYkQ+YorkDvDO8ekZRLxNfAmB7blpY7GZGOngYlLpI6UqJfXawr+WaEr4AD\n",
       "IpVVQcGqJCOmYKkMZh8orVRFhkXyXSROrhxlDYqbOaueeCLgTAphaWKgtJVXmeUfEPgLmmrlLxyX\n",
       "mjiNJAs2Fp0jllIiPFEGBpYTjjH9lquY4nvrXHEtp7T2qNdSMyEFbcByAidjGy39LsYyUNhDveis\n",
       "xv3r/lwk/RdGgCU2MmJvxM+SWVSirGLxllaI+H8ZGJiOxfxJowawCj1FIYsxuQ1V1/XgFrPoIue1\n",
       "z/Ndt63OE0ziirlvEQFueRSYHplH+rfayRZ2EfXhMw1QYOpLiRFmIWD2Fp1cmL+rCEuvLsLV5qUI\n",
       "8JUxiIVR3LXfX0l+CNEbyBxnu0ohdbJgdbA9Hw+U34H6raY2KvfyyTl0SMLvfEPAM9mbD/UBZY2N\n",
       "nh/rXfX19A0CB6GwV+EAGV+RsVtrlvnHLCPYMnE1q5WXI19uOntJ4v2Q6amaHU3Vyuak36Sf9zHv\n",
       "THhUh4gqVJOjVHMNAr3YJPLkcc22SConUFi/82+VKUz0baWvQ6NMiH0OadE99xwKMeqtT6loREfB\n",
       "pviZnk5t0YMz74Xj0iNTS9wct4pJArzIjbMGNQqYVOw3abH2L3nNEvgHNi6fZx8M1viwYxaIhD11\n",
       "k7KqPfq3dKWPLDgvxKBTpuSnAi1dSlgOoEdidRwZtKr334Vi8HsZyRBUS/jO/FhLlvDmtMpXddxk\n",
       "ImjtlC9oDosEBFfPsvnHUv36oER7y6JbLdnxVhsrJJZ0PoD4tQ6bIWWElUK2tX53bQcPHtOFL1uF\n",
       "psrVwNfCZpXQw0hEVb3sLIhsTlhUUB+cYWVHBBEX3UhPzo3Lp78IbhPymGOeYwRE6GS6EvECeWYr\n",
       "xNf2mSHtFkVeCJsjHRq8b2z9E0h/sRcZ6HQwqKaBBlySmqYucDgPXqONaDgsJxpeYk7MsTgYbdns\n",
       "AAA0ai0VYbqcVxLQoWp+Q6piTqUIbqKxbE62TRp4hwOiNoWhisG1PZxKBaj+y6+ai3qtZwCDV1Xl\n",
       "N0iby9mURN88tbj/wDfj+ljVoa6PUW0Bxlu8naGCPDKyzQ1Ll1iojDvXEpj+jkGgMadGxXZs80lg\n",
       "ybMC+8J8f/RGMOCbeyxEKPClvGQqXcWB2QGVzu22zhtMfnOSpGmXUuby7Yr+a9soUq0bdh5bCLjp\n",
       "0WawS1Gb+cVRcCMaothU9C3ASeEq9O4AGCxvL1F2QFfJ3WLpaqH3twErIci3twrSUfhOLTtvMuag\n",
       "nVvk799Q5Ynzkrz4pOaVhzudIdxxvamJ8sbAUYyMG7D2cqFob2Ms0fD9pGnUGZ6VeOGb4IrZY2v4\n",
       "wbPdAD+3lMEBVFqYZ4CxAkYlTczqiOUfNS5N/1LPdY8KVvMPbqpQtIw2MSjZtiNqAhCBf8xJPFYn\n",
       "CdV45OgXsKLyPfhN5AXx1vfWeIYYfxOt4Ej/x6xHhVns9aVvi23hMyDyD3lfkt5aD5Rj/JZhS5QA\n",
       "DlGgAyWkqOZwsVbeTAX2pC/1oalWMWRkOeIcRyQ0g0HK3HgMbGfb/06VqXslWlr7RYCFqnk9Bp4E\n",
       "JX0ZSsv/2u38VOZZ748y4RjD3LKVOKnbyd961vXYbXSHUkj3pYWpST5hYwiMJF/zLAmQZWCgQ3DE\n",
       "n0nkDOaaa2Wkgs6vO3MAYYit7RU1wneA29IW9T/ika1h0P87LiCE3O4HCviCWD3KCKuwEGLeY+pq\n",
       "XVKWCpfY5wlKoxW2HLJxxMw01X1X9ueP0ytKAyiIpogKIueXPabPev6SIPCb4pq6P6Mg5toIA3TL\n",
       "5zWmOj3HJ5YeZf97r6BC+TIy3mycW9IgZ7FnKzpdwbX6Vc2B+e3qK/bTKPvfrrvQOzZL+ANZ/JDV\n",
       "OIpb2yclR7RTpRIEdhTVmvNfXMdYS9LZ9ah8192k+nNQsoP3BqvQddG7tteDlgG6hfNOHDynxWDj\n",
       "kWhiiZxkfd72PKUoDotq80gZ/LUZTYHgnSibQd7Qq9ft37a7YXH01kRspZXvZXS1rKSWJhaydVvk\n",
       "Y+c7xjbTCpP2Dp/1wGEkTGcA2cA65oqG1oMCCO0daSrfZeoILBOqm///Nbpr2FiPvjNw1CiNLncs\n",
       "KGVsW/hhllvqRrQ4mAX47kd+6vJVKr1LU9I8TE1CK00yYJMDktZJF2Xi0Dt+FvWImppfITLMYJIB\n",
       "xGYalavSK/TfdyTYTeaYC51rNvNFhKfYm4eiuNt5sKgU5OjmAL9y4dpxdBfT6S877saWz3w+kkxF\n",
       "oVsICGUnr/YTp14vsKsaRfAUJj+GU4rp3gNhmFQ1N3xSMBxw48eZkMWXFii3Oe3jw6xLtbFvr8Ad\n",
       "MT5TLVJCXTt/bhOaswnk0DuE0dbtUE8ewAEVqClvSRSXnIvK99koet4GBkXCo6UFo8M18oHqfQcN\n",
       "jZba3lovm72t49qu+OrbcwrwgRK7IaxigJc18e0uFYuPcYaNyEL9hVKD9dxTDp59t72c20k3uGB5\n",
       "SDUR0X15yA7ZHgE98gJlmBAYl5L9iWSZBYCwlO9sJnO5xhOEwlRNo4aGa91n3rO+cIUcZpyeDKnq\n",
       "TDTurA7kOamgemm5El7f90uhvX02zsBF28V7G/DYmrZLYj277u6JyXbFATdxF3tDQ0B/aAc4VRGc\n",
       "4RvTncTE0EmLOQGQc4/3F6ez8iavhsfqzSUMSs4eDodEpMJNCOqrXb1cWAvhhj6dFa68BV2QAGXW\n",
       "knTg+9ODGOLY6DNTrmKCBZjtX6puYzdvFvqiIhiv6r6hCsW38MRKMk34TRIieg/JEWjYURwvvPVV\n",
       "FrKP8N7+piVXub8e/OrmXzckaZvR5z0O9rlxh9MCEiionIIcYIhV3YZyLXvPxjHatYyhjyIIH9i3\n",
       "4/K9qBFqKNTTUzS5TeWDc6sv+Z8+150RHz+iRpfLKh2eVIxGvRs9tnxORZdhK7xl9wYlaw8rA0np\n",
       "Umx90mZvQFKAlVQscjO7dzZ3ZMJZidJPq6bAbllK0XnMrFyG9xadNyTEhp6iDZItU51q+NhCWSj8\n",
       "+X4x1/Xqa2Eow0c/b7wtANF1PQJDkXHtYnWjPD5M/xAeJx8VCxjpCXU2ZQoANQQuo3HSQADilriZ\n",
       "oBB1/E0l9E+droAghVipa5uNIWHZ63nV4L+7oSXEnaFXNO4nyPSAPCpzc542v8409BauMAzBipkG\n",
       "ufAzX8Lm874aqlhdtO76kFecMqMhjzAAlK0ymYN9vGy3pnfTt9jF8BzINbB3Q7/oHGJcJRdqFRC5\n",
       "VqO8BZGVxR6lSkdHWKSs9jYzSZDRps8YfkQnj3ATraEFm/pjs87Po3v8i+VeEXqQHMK65sS9XTZt\n",
       "IxB8VIlG2RBKFBu6qcTgHc6Mhr51D58HLmudh8hGRquGECptndPoefpX53olN8zziixI9CBcW0v7\n",
       "sirwdGpkn5kDvD+ykJ2Rro0h4o/tq1dKj6HCYlZUXxnwcic9t7zM9EkXGAXfl7/vNahRcVZfdxuG\n",
       "9wdHDcc1syhB18Cm3NRmy7OT41ILeELHUwkXa4o71s5EtmUHLAG9+rWC5e4pA1bwEyXLEHR9ow7i\n",
       "hsGNsdV23kkwzQ4sS4NptVEPuAjCGI7GCEz8p0WOpSJG5CoAjMDqMiAqJMJDuIx0N0ve0+dokYK6\n",
       "PafmO70u37IkpycJ2b0mZwyAr/mgTy/AS6jlbFC4vjmavLLdC+GiIWtk6eHnK+metosqeZ+/XN3D\n",
       "s+ILeIP3ZxuF7kWbO8jnAccbhrXCJVnLgi4OEq6RKfx+k4uJ0/IUFBMriv5cp2VIwCE20e45pfBV\n",
       "7CZ+vfgs487MbUftgQVR5IDGyVakYFYzSVcGPWnvafwtJrW/gHYucqxp1gLPzkt7bMdLItCcdUYC\n",
       "1RVC+9EsmKVZbR2GsLJGLt7GUBcPL6LTAUMm9vEzI/Cq5yPxrWUDviz+rP5GrPgWGKTTfpFc5lST\n",
       "DTqLmMLZZHL9Hm8Rz0V2al//83EYmpJd3HDeRD+pal0O0JTeDm38KRuBE8zpgVWRavLbdyD9M8lh\n",
       "XnQ9HjQuzGxrfkKVujfELxlGZdOJA35UeSsonVLD0z1/BRWf2HZmAfy50e1bc/WI2Gu/35HlYn6C\n",
       "E/ZKCDaaVistpKb4e96rh/Be8dqoVoEYKfvTDBpfgS0q1nSsY8TDSRaue9pXylMEcRpTQA966Xuf\n",
       "dK8y7t3n2QvOhXJQf551ITn5oTgF6eO18x4BgOXiebXPTZChdwa9rUjUO+eN4D/GAQx64CbprKDa\n",
       "QQaTUk7z8VWUbJlQjS1SHvQnSgOOMEHBkVU/vqZ1AY9//9fqkPGj6jb3Jl6KJy8y4CR3zta81G8L\n",
       "5RmR9vCV+8XzyQ+SyKf9UECofNqgoLUOxU/5OyyNdAk+WlvaIk470J3bvFlpurQrCpyHQOm8T9r2\n",
       "8LF9Ogw+5hQsZ+dwuwXMVhKop9V2CgIOuoDQkUF6KUWDTA2i8c+KudE3fUr4KDO86HpZF/2xQz/t\n",
       "U4YVzjGX7IKpR82jIvVw3SMoir2DNMBl/iXudSX4aevxH3QJTrBCnxzRq9nCqvZzlLJdZ4rFH06B\n",
       "vE39uZZPzmv/6ExGeJe2CfljTov9yMG7UTKE9+JApDZay5kdZENSSrlBIi1p1Prcq6ipUAEkmk+F\n",
       "s1hNk/hQ+/zkPzQ1u8B3QH4v7arH0UaWaJL+fdX+FbwUWy5MW4TMCyTqf/xAz1f5acla+Xpmrhqj\n",
       "PWww9i+e65uxkdHGYKoz+cO134TfDktVTzTffMUqnv6InE73OtpRvomgfF2dUTuMqzW6Xb22ddRV\n",
       "RDgxxKFhNO2VHswtl5d4rFsdLSswP2xjbkBdeRGMxUeRX9uUFXwjgbZYDmkU+Holq6KvL04YuXlZ\n",
       "q7ro83AUXoUJ4YipcI+HDXKfYPXXSKZ9RJcD1WEFCQ/qvSqdigdSPZ6jms3NLnGeRILUfsvWSZ1I\n",
       "hXclISrX7fPY1bm26p5iSMUCca6D3eqcUIJp0IP15xD8UwLufr0cGTgYUUQmSEBaydGPwN81qYrl\n",
       "GJPf+d3QAX7f/qtupHEy9qPRosFQqITRpX+/MoRhLLg6sMkPBnEUQa9y/RLGcUo6VoMRf6o3RDLY\n",
       "quTz6MnOSx8qJwXinWev6tmr1h3bcJzYPk1MYDe7j4k6uostVciSZTowUWFDaLdDn9S2xxjE0WpT\n",
       "4MBDfIehIOhpR0eeGBgRam/r7Puci8lYOW8F2ybXROAvt8x0yujsSFuZahhW8Q/vG2RyMpYDDUBc\n",
       "4q+ZN4RvgP2tiW6Qey9HRb0u3ZEd6S1o2usqJEir582VX1LOF4ho4kL3I83uHkOKj1NcB+Uxe/e4\n",
       "J3Au30ABTHdAXcsEFW6/uyIjiLMItHvkdBG7andssv/jATq+X7QJjT+piD5fq0uIe1ZdZvUiFdRx\n",
       "ghELbtuSuRSrzBCUYgjs8ARVoLVTo/CoxiztioACWDiFjS0N3bLdV3qoZPf00AcsJGBoL7hsspfT\n",
       "zhBJeAt8OkhdGvz9JBvzrEUABfyqp8q6E4xFcXV+r08sbgEWsC99+aLU1aHoEfGvuqRtGF9VeV9F\n",
       "LKiiqgXk+M7jsYJ0Mw2WokMXbcgxLpFHspcOxRg9ZFv86UF3BN+NJqczdSttdFBgSPmS6nUsa+Ro\n",
       "6HBEZ3N9m9I6v9DO1qt0aV+88bztdkMrNCZ4eL6e2CySGqsrSDXfFTAzN9UlTlhRZA7K3KZHH3DA\n",
       "TjACe/GuvVHMBQMeO0dwPlUT7SRIyRtDVT/mSLi+q5SpS0ifejEUX5ArmZcp2IUJjUrET6xCau+Q\n",
       "pTpkvlz40DC5CuZN4JPMqOwu6M0ysr76OZgcATUvHjNo3vEGcrS37bC4bVptq62kzL4W3lsJG0BI\n",
       "wd+G/HZ+rznJCK5ZYEEKya/SobOWIgPVTjQzIprW/tcfR5dnw6V/+Xu+hvFgBVJyLcxLdjdunBU6\n",
       "UX0kSGU5GbN2iYOmwSjK/HQ5Gi0ICoUjrRpHCcYtQw22oWx49AFHT8c0GcL+IVuIcG7HXshA+X17\n",
       "MAwP5KRPyP5IKpW8nAX2GeB+CrFhzE7iQZmwmgvcAg+dzegsU8tPyxwA9jxKfat5DT10Dn4cEsP1\n",
       "4dw+XICzTzw4GeIm4GSWcXQExqkFBd/ElGe0tCSwIeqwsv3YbEV+1ayLbaQ9xNkonVzBmSoR0Y+q\n",
       "1TbEWewczvXtoEA3XV/MZP+saY+JnQKfPITiWMY6ORXJFBc6Sbh3WWrRSob/wMRi4KfQjC/qiauE\n",
       "x5ZA1SZ6lg6gNHhSn/V8ZmtFUH+jgoVeQw1/kRtc1iVR4dq8Cmok4ZErylSaos5N6xWwmqTOyHBo\n",
       "NMNI3v//R7zpDDlhHwtFzsEiFjJ3uR/7H3uYrS829/zL4JaYMVN9KkZ9OAfm7uW+Yobo0U281+LR\n",
       "QZKKd4Rhx/ytm5SbPNAAWpnp42pgJ7lp0OI835VeFa09gGoY60iDDC0CRvotCGyv8FtJYwKOFLIH\n",
       "Fr1N41YROdAyjeLSe9OYxeIlZ2YNxHm7A/+Xq4JHDVUsyJpX1YFkngFNDZfPe1Y3ULU/imKNGPyt\n",
       "rdQ+odFWWdXBtAT1T1Dwc3Jf/9bqofEOEU7D2tdTv/TZH+R6ZgEt0aB8XybOr69MN0Hj1n3ZU5O4\n",
       "mgv/Ad/He9GN+b9joGluUJJ46DoTuWlH5LSfUsAYsdFTSNcnwW+ZJyHZ/SkR9YjaNt3wDLxrs88y\n",
       "i2kj4/P+OAyIRgpAYrYo62HOQOXIjP2hSaeV8I2LCS8H19XlFb+d5AWLak6WO2I1ibqPgss7Ow7P\n",
       "Ss0OVLiL30XUYHyao9+X9tqP7lO/NfSibPn0CD+9qq+c+6DCS2Iz06fgTzr4MeMKkVeOAZJ4B3zN\n",
       "L80537jKYhE201MW3uUSwGpUtPGUnPBbAKReyLBNiSD/bdYAdbQJ/roxE8s7CDBWDHzLM+Be/frl\n",
       "60HHlqKNV6zflH1woisVNqRPQBW0HdR+lkPhlxAly3yHJwTvNw8+itejqzNjTqetgm2xy/8AN/FK\n",
       "/91NsvmTGOAMUAz0IGOifN/YlME+OG3D/tFRvVMPZkKKAh88/qSSA55WEn4MqDUJP5c3fajkNoBH\n",
       "VzduywS09/9xUzIP2OKdZpZSQwTcPrU8lrVEsbB/3SZ4hWfcATE+7//cNgJuo1LwpJ0wWTvKTRdX\n",
       "7Q9+ULkK6HgNH6umcPyNvpKts+35KK18LvsjxxDHkRDJ+8EE/c7Pe4ZWcEeshVPCV2M+duBsQ8wV\n",
       "gcpId5z59lqs9bU/t5vXkuCa/v3h/zcavEQqa2lxjD1RahtiGE4PtLLPGX6D4G2AMa+UQgPznJdn\n",
       "Xxh+UlmDU05U4ZAY5feTUy7T+zMZIxASJO1eYom/d2Uc+NCxC28f7/VofoVQ7A//bwR31Ii9sktl\n",
       "TDquS3ci3dlRMNDa+LU1aEjo59yGzZJZrfq1jYyfH28M1d4WUYWb/rzO7iH1MlR/BMBkgwIc9tk9\n",
       "sIg2cyRAMJGyCLSVPwIGFwBRH5tzgVt37//IQhZ+JKHQXaNMyL3x30V0iDsIHv6Em6G8azfN6LvN\n",
       "pOFwVUWauktMOKPQxJ4tDPm1d8h5ZtCHLRFFemCiVEteJTmnqqpD6F+9YPsn49CAKwBFLfjs8wx6\n",
       "Cp0gpvuNEY5DpiZO6jfUf50Il83u/f4m4fH2xJuTO+XrPTUO9LxX/0/A/j8iDjcXTPymnsAahLzO\n",
       "kZe93/x2xx49Z73KNyH2SoFkSPXIUW5s2Js1aZkP+PA43Niy3t32ZsE7PJ43PD5LJujtEfZykhrA\n",
       "VzUHH+QDs46eBGiS/S4DEJEbALvoTq6U2zrzR9uXWfcW+8yrwvqnAqeOdQl7GqneF5uKZ6vypmzP\n",
       "VgS6V0jUVu9ZnSk7b25o1dxSoiY0iQ5s8jDsrps1uDu0qlRtzhGMnQetouCMzPF64strBwU4AolB\n",
       "4XgkC7X/VxnPtCyHBY9UGE+B34oWnV8kgZPkNM3H++RilylV3Hapa8Hbzh5Lo7vIYobdYoGzv2ET\n",
       "V6ws7qlk7yZcd3I7w1gV9oEgbN9Ex0vTJTP/Dk07DgbhfGQO6ssguTmzpfHD9Tttlcj/AtMXhB/2\n",
       "dGN2DdXJXJ3c6by00BlnZnEKfyFqCurtQjWSRNcAmw7lz655opku858hsiy3y8nvWCaCCeM3lV7+\n",
       "fYWv5oeTZnfIKk5aZviAxQ8CNUsS/KWFysi6NEsXWck9F2fd/Od1OUB5Z2YKvzFmLEM93LvRu77K\n",
       "IouSVTkiZ9KemSalMp3rP9nIiwRY1n5WNqs3gy2VVf/wAZNuG57QahoK+exNQmbpBQgJmKHfTHHx\n",
       "uczXb/QDeFjZTGeaqg7YTENs8DD3D+crn1H58vjuzbUn/rT/x0+xP/yMf4J3OWe8BoUdd4XfjdbV\n",
       "rgry7w80GI7XDXvQttBvAkYgI6JwocTJGPGyXaTre56fUPTlPUK2s0fOYB1fAgkBwVv07qnuL5Xo\n",
       "rj0C6ojTxq4eA9AiIj+TfF9CDTSSks0/xgtaI/meMqF7aiBVYdv1ySZ8r1fXMcJPnhFn3NYik/a0\n",
       "t++VH8WOABhASCgvR6+66RbL8kk+UwLuWsORtaS8H5zQvRfGEkDRbCGHZJLVCBoslgHjC2mQC1iw\n",
       "O7pu9t30FPgCohD6iN9hCawdU7Vp8dUuIu3qGxlTfsFdPBaZWK12hwmScx9HDLWJyF22EhiI2RAh\n",
       "tSj6sqIIUBTFASMrkvg99V0I5Ksxy+PwHohj4W+YQwU4lMSV0HcVt9bGG1TPdwGgnIIZZdLKlmJv\n",
       "joOcXHZ/8tFLz5TlvDBzIuWqEWeHoU4r3hgDIrn6VCMe4V16tUuGmL0Fz3e7FttHJ+gWnNdQ5+TN\n",
       "lH1uhoE7ZD5+yqgEHJLWdbo73taqv3IvjDx0Nq899Jl17TIHiLFHXOcPUT6VP1Bo+I6L5nHt28Tc\n",
       "WuOWCY1qdDj3liKSKjXiR1C0Ucew30knbefEkF5XQvlXZBam1ieWRVDa9ux2qG7eGH0gJj28ueWy\n",
       "nV1COr2jwlb9sMsUK35xywbAV3T1ODMy01ozI9tlgUx97HWZAj/kFnH88d4ny+uQt8PrSg+tzhdZ\n",
       "eWhjh9NFWm7PbyN3kemZfVvWz2FQP9OcpyPg/CJdCiDhuL0c/sdaoLXbkRfy0iz4/f+IJrPzT6SA\n",
       "3diL4EKF7srfkpDsL2dBkoMmo9hr5do0XOjLpelGJACvrBP6cQZg3VWYunSzp6lOQv3IEPEIRixR\n",
       "02wh85jsRBroTqAEMwUEpkNnoQ2CciJcOEdwgZ8mcd4wu3Uhygo0IID8RXPesM0Ugp8UGI4iaor5\n",
       "cUl/4VLlVdAerCfgoIhkQrixje4LpkSxg/zij8GU9RG3FYdb1U8ztcG6+Xu55zQ8RCa4NdGL9hSF\n",
       "UtT10F4+foMhvFJR/jzVBjCTUrK784ad7ZvFziv/wyPHr9EpHLy+hX8kXg0L5ACk3SIgYrm2RXYv\n",
       "NS0gR3lHDrLQWr3PSq2t/5xihaumPDtyohDydZLeBU7AskDi/R5sF8tf1QLgDmQqilPuXFX70YGq\n",
       "IVCZcIR79qY/JXJusE4nKOAO5xCWs5A9djRVs6IeuAnDF99hVogkD2XhSuup/tI3lp7QgM//fTJb\n",
       "4ZIudC+wRinF/nbW+b7tx3fABeNQt3rru4VOD6CcQVlhvQUm5mAVh8/z+6LdBeVkXY9eh5MpZlTi\n",
       "H1i3SNhqao2qdx1XKwQGNTkVdrbEpcddmfzHfJlA9ZNfa53VP/iRn+1UupClRbWU7JdXnNLr0/wR\n",
       "glPtwDk+S5+4P/DNkfyWP2AXqmrj/kHJTwviY1MzEnOGvSTulBetixykphs4zrOrmJBGVKbshPlK\n",
       "/IvSu602SA3lFvmEX0tswSI7dWKOcXHMjDeDZImLywX2Qt6VhoxBKeksTg3wbUNHvY58/zsg6bCY\n",
       "/xRn9uorKRxCNkha7gb4FPxvmoX6YLl6FbxSXzPXBJhXuMAjN0Zt6ZvxVLDATr++wzOCvOLhRQdy\n",
       "JP4rCc+3KHhpC0QCf/wCznSmX2FhgHjFxQjwRjOzqg7nI/yhmLQpsHRSIeSMHmWWAKHS7wE5LVze\n",
       "LDmct7SWRb9pBTqbKM38+7bbDJZeqrHb2GWONuVY8OlXZFlhb5U5BECFe9qciYdgAt9h/bUKA/G9\n",
       "K2PLrL3/m8fsw/2ToIq0fWArqjp1Di8Jz+KxJ7W/2nVHQUGCmUZBS0W9hpq0BW/ZVGi3QVtZy64Y\n",
       "tBbGaFZ67CH5JrYB6I6zQeFT/muXM73uSv23Am+Cc661+EgJyza7tI0Xc1Jo8VNDr5ETupflG0rh\n",
       "hIFRdkaglI/HTM45j1zPluFBxDal6HIhiqLeZHMkuiC6SaC5CElrL/Y2o4lP9eDYCqilCi01Pz+n\n",
       "oqck2fUUHYC0W7AIPaJHUswuDhaZEba2AdqjahK9BeatBSoA0T4VEcmzyCJApT0n2SLkb9/iBqoG\n",
       "4Nh8x/+00Qh8bVUysE8lzpqsTqSRctvYWCBQ2gSUq/Tr3Im4Um8sgr8hCPpbaG3OUFbfllcwENQ3\n",
       "zW9PLFbwfAJVTWW0RL4Uw6uyDuLayHg/TsJEFbta23gz/AnqCDLDwdrvMRRQsAX4ThUJeOBz0fI3\n",
       "vR2a+jwnpnI5nu/6egKIgEB8/Os1ElJCJcBKgBm8u/jOp2bzCvVl96jygr/q6V7jMBMs2aFk2f7Y\n",
       "KrqM2hpPcT5x5IyKfuNkR26VbLqz8CH1Eobo5TLpl/1K5IPJwlgFI6GrkSaMvCbRqHoMkScs2PdW\n",
       "GLqUWgAwQwnROdyt3oH0W0N4DHf4HgRVZbk4zH/lct+JTiyicy5reA39f6IgH07jsx268i2Vl//z\n",
       "FcFi8eM6cs7R+9wKdYwB5o3kOW8ATDnzLQEj1xBNz6tqXQBh2IMwiFFxQiOUEYA5nHwXOOyR2ceV\n",
       "wLytyQaLOAC5/DQZTXpRsxHj/D6STEWnh2mJs+YRjZyBJL7RL5clftxgmL5OBIgi6PcaDK25y4Sd\n",
       "AAWoPt7CSLye93dkUUCIs2XkQfV2IChUFe2SczX+A84OHkuPeXP0S9Glm3kG/4V9QfC2WyFYierm\n",
       "1JF1ZEyj0aUIket2mkXS3pwuCPeen+uYwUFxkkj5ChD5mQ7HpUCJFCB0fuJ0+1eMXN/fpIQ9swrO\n",
       "nLlKVikNbXc3MRoLFXGMKVBzf+JKwXRePwEpdvZnmp+wOH6OuTsuQ2eSXAvuB+i1fnpk4amGHnRe\n",
       "BH1UkMX5XEa4RLm4dsB4YyBqkk4AKuP7/ziMQj+WDywMqGSBFXz+Sw+fwwSIgiqQZCFi/lgI9CpT\n",
       "rvfwLZdnIQzGaju0M+upc63AP2TO06Q6esPn/VQ5jZxUbCMoXJEr+5MTUT9UfDiR3stsGmkjsn6z\n",
       "6lwjxB+b9o9Daj5Te+fKsH0Buv75T8CDBEtFbaVCYmi7XFHetm+YiKwDMkvmozgsN+VsPP82xsrP\n",
       "QnvkITQwBGoJMcFp2oiM8aAnK+l9nXTS7iCRxJGT1C7ljbiocqtQ/jZBfhWYUAlUAY8hlY10n3FI\n",
       "g7/Bj4SUQJDeZf7+0HQIm9wkCVCk974vmNNZjBe/Zh1C9kGXzMfTMi1l0P32Pdjd+l+jrG+iD5of\n",
       "GQThQPIINUvdxeMBzi5p2RB8t6mRWkaYD9ni2pC8ZUwNOknbioiU6eRxYwF++WVmHWyfONCvm4Vr\n",
       "Ql4lghsEXwm0mAppQ3xp5mS5Yiw8tFXGq7uY+yYhFggpaKcSc1cKrTbWbrBX29bSu+hSRfrO/QX9\n",
       "PBiyBDlC1rvt3eYg8Gl8cuizffx88djoeupiwiqS2IkkANxIQNa9frFf8MMyZcev3X5jBriurKC5\n",
       "Cax84CxKTNvhse0Mz9vYhZvuIdYmXi46K30o/l0NEt7YS0BbypBr+0lj/+R1N85iqZbycKZ/t7O+\n",
       "d1D0p7Ti1LngJKDiDP6pFS9Aq/M6Bc86QMxQnDAxMD7DPO9pwOD7ZCM42KzlbdqlMwsFcbyRXT4n\n",
       "P3lV5KmT/fQ/61brl1yBCw1dhQ5SODLyb2WVCENUKANHWy47esN19u8NrTKCdsi7kzGkyk5TOFO/\n",
       "Z04xGydHMLgoeS5yerpCXnIsgaTP3uL57t0hFbregaZWORH7055TlYFyjTD9BACbYp7JSQ5lWwuw\n",
       "kBo1lRTIV2BY8/lHPRiEPocXeqh28EWM582zxkZVxxODVuDU2wsJO6Fj2CxoR/o+1Hbt4YptWL+t\n",
       "47JkoX0Cfh5uuKbb8qKThbN9H50M7gaOdopVroJfYyUFP1ADztl5Bj8e+FJfLd5sOlOeME+k8XSv\n",
       "7qeZAWq8gFhBvgCQO6qAwxWM9lLXtX3oeD+VQhuOy2CgPRzXfU4F4Is0dqaHLweWreGqpguQl78t\n",
       "HdEPvK1BXvLVS1Liy+NsU4dMvNz56HaUxUvl44r6of9b2T3EsHudP2/7ARIZEBadObrzfdmg1why\n",
       "nI2X8YmsQKuPGPctB75NTl+5BX1n9pSNY/Xf0j93U+VL08Bcki1VZCcvnxMccjKxpoeEQt8MPlPp\n",
       "k/oLJ+RosLcWF95Yb/fcOLO/6kPnDM2F9Jj/CSSeGrsiFc9EjlUBWscmuMsIH90YmzSIDRNIK5B/\n",
       "uYKP612XPHn61pzC3uHAlhpYmCm8BP129og3p+IfEzwq87O+kvU4pDozqJHCNHaPiFDYXcUfvj98\n",
       "bQq28nJqfmL2fKVtZwmoftXQfedCN7h6Uw3+h9eKJgrTpSI8N6NktAInUKRQmmJ+25tEgtNmq36v\n",
       "9AzbTkBx42TkoW6/jKyJ1SyoC/VKNd+czcQ+6HC4SjW1TBZ8klliQcl7ZaFUwaWa48e44U2sJOZj\n",
       "xPoM9BPI/BXw/C0kVFc2UskFQD8bfNeimkq5pYv/oJSNKzvGB12zbON+dxnA7Ya+TbnoMM+5ANaj\n",
       "G3hcFyb/4wApvNFAiTSD67Jgf8qTrb6fF+ygKfSEGQmKZ3V6RDQjg0kJG4hYrFThd5ME7UxpNAUb\n",
       "Jp0b06l/848nDD6yzGD/WHxLPCNyyQHn7TXnDW0QvOtv8CssqKrTq217csl/5uTQwgi8GeBBapVv\n",
       "tP5CdGG8iFRnbRrw/2OIYCVHzkCknIVhNCW7JnENew+ISSJm8+TDMbt1Oh/j9XCv+j9FJ9s7Kxh2\n",
       "pyfc64OyaRFLzth40Lrivm1DS2ENwSdUSZIVMJOZvYdfS0lRMI+aboDH7hF+fYGJWoXQHxcLlmLd\n",
       "ej1hivqyGMmNUuuOIxLtSSMAdkJFRVt62Pxix+uVKAxn4y/U+rRQjHsinDmRNRYo0viOUI/daWIs\n",
       "u+/9JMTBrW8epkTm6j0VNgB8nejTagakrsSXqF0JUkKAUwqZwjjYJXYPYCjt+v3Wec0Fzs7iyyXn\n",
       "WehZcyBpJIaBijLFaCil0cRfLSaTm/wZmfR3UzK+xX5+BeUs2LjwEf7hQfhUeqlVEY8MHoHqakoo\n",
       "bZt14hLbJfARkuvbL/YqM6mp8b+MhUitoNHUy1ckHiP6x6aVazUzmY2DS6O8Y2POmSq96jlIPe5T\n",
       "n3s6VkChpMeCVYMMH21B1HHmLzMI8VxIlpzp9XFL0YbBbyph4+ITTLjRc4yGraWmFifN34uBA/bh\n",
       "gt2Mtv2uUab0+h9uQFB+FKkpbnC+cmL8ODgGQEKRDwbamkYzZfewcnRzx3KgjOhWPEUES2YSRuuD\n",
       "bzIK6kGe12yJ7ieaY1FsOdWK5xX/4Z3GZzZKeqOFh1Al3RLwiFY3Sy4wNAGYls944phdVdMkX6PT\n",
       "tkKERW6B/PXpn3HmFcL/yEJM+4rswfY1CT2hc8aqGoiRO4VO8r4Olw5XNnqdxXzbW7JlRZSkQisM\n",
       "YxPhUxLTjhfUqNb3BAoxRmpMiHx7E/zMaZpXZ8hri5S6y3hnbYPM2jecV/rV6O9KwLX415fDVhSd\n",
       "mHroM7/T4zqEBfa2aTl/PBavRNPf1yO7f9+X9RHHuDO/7Qa1gISSag9WeAMA5C1R8x58PwI+zCnt\n",
       "hu1y0uyHeXbMnTTz+9//vn9/y0DS0fl4Lec7YH5uuIJd3uvIpUTy92VkuOKIDof3tbsYgRravKOE\n",
       "ScuiqlgYkRmasnKhCLu1kKoE0DP3sfWriaAz+aDJ0gwlCPWmRHGAqOiwjTXmGDAAJ+B2yPkBNWxo\n",
       "qAAAAwAKmQAAH8JBmiNsQS/+tSqBAftZAAQob7Q4S+dXYBl+bbzY7aZ0tppXJb//fBc9MrMNOTLa\n",
       "8R69mgi2NJy1CSrq0IbyWunj/vzE1ATb2TampEPdUU4evCZ+yQpMjiIgEwgAAAMAAAMAAAUXcYo/\n",
       "VZc6mFqagewBfpdYTI9ZJ42wVpUZKKTU0shZy7F5ipU6NkR7a4xTzAkcPzhMZ4ieB4yoeW470L9s\n",
       "u8MGlX+8ql1vP6OYUdSPrUs53sEimkoMDJAYf5ttSqAAVwr4dCEbM/8m2EOcgJgd8XdkaNg6xxe/\n",
       "OB2wG9YPJSsFwf7HbHJhHCEJ7kZhP7yf/211+pfZnxzJBwRy6vwuDpqaxxFrEdbHOaobQdmLlDcj\n",
       "R0f7G3L9iF5O94S258sBk4zDTCdneCUgrh98nSLRoa47Cy9ulFfqx1GE0k5OekIAL/pCaGscDus/\n",
       "jZAwk0422RW/bwRI3kMZVaTdreHDoIDM6Pnsk7Tu8Lhay/KADtH1M7fUMtUqnojJQ5xjWmVwnNaG\n",
       "czoPZPP7fPC/fhnxvqwbK+NDYiF9lNRGCN72c9zHTBNSoWVuu6PRY9C6iVNKNG//DiiwUPwusdWU\n",
       "R3mutOuDUr/y3b+sPyVBEddDbx0VKOFzRl8LWP+hXqb9arpuJrmGRKc9h6wra3RMQ+X/hB9XSu0b\n",
       "MOvHxquJZeSirkHprgInT7Uu7sI67TVm7dqdlo95TUOsFJjCxm3vSraM4QbvokDjSWeVCUdx53TN\n",
       "MoyfmiU5DT2EtHRgfKsdJnJ3eo9rdnd2oGOXvBGJrohVY9QFe5E309RRaMM0UXo443TD3sj7/jXv\n",
       "AskuoZIphjHaC3l9Jui8gi/zJMnVO2MTGGau7lrpLWNPBhKMBahVKWOrlPkjQTkMPBzjsFD1Bt8p\n",
       "+UGetRCf7CnOHqR9B8TWAbcrzL4GqQhzUb9MVcFBDvUhsSTTVLdntShcapdTK/1ZqP+t1hyxe03U\n",
       "GrN+vAGJ9Enzg/rSbulpxKfkbOFfLlNMkz/G6St//klkesGyeqodRm2fFGzY/jKyVe/KegLBjnqP\n",
       "NckdKxRh/6ZOsHz3W/+w2eSp+xsi81Qp4uLeG01dvGm4/RiEwKNF/NbIh9ZUyJ2jf6wykHw4LNoP\n",
       "UAGGjBLreOvSmR3GNmAceATZTSSTLep26JN2NzSFf0k0OSBfvH85h/uBvQMQ5vV8uKsBuZMgLO3N\n",
       "/acaN2mea8jYd8bC6owZ0slqkVmbOaK4fm6lrQWSc4ULtwYXCcTFQrVw+VXELmhglagqPguFAb1T\n",
       "n8ugW3aYin8mg4x79DRHEfg9mu7iYWdBzKX23CTHp3lbh/LtCgyZo3PnH/+WKa5Xy++1Evia1jvf\n",
       "VIdduYUDXRXHaNCuL97+riSDSP9tswOjHBjW/JjhBfW/SKskk+GpvfJ07kQetqO+icUvZ8Xcjqp2\n",
       "+Y5JuJVLvEYJSQgHXdk67iAoTgK0qXW6sQlrRHJ4JbJd2C3hdCzpE2gVYg3snXLXyciDqcQIcckd\n",
       "bsBFNjVn69CNJjRihPEMQb2yFEpV+cl7FD3g1vxUGJn/QBdBHjxe6zaVMXP5Cqktc9juhft6huDd\n",
       "Y7KK8AbUtxwvgWS5MMgidFmJWQPedBFxgilwcjOEK4cUhQszc0aBT4ZPV8uQhwbDOZHkLwcdRHHJ\n",
       "5wzXiBjByDveTOa8dmPgqEW7hEIZVtjLdehAXvSZ0CA5+IdCqhIttEKK5+FvXN6+ispWY/fWpMXt\n",
       "ZgF48Qevm806ILOX3v7TNXqSYHBpwgbM5rLqNxKeyAB5BIYRwKYE+MtpbPNS4nVAZ/XJSAfbx5QS\n",
       "B7G+iVAWTpA1fj9mmu4cIp7Vbmo8fYOOdrFjHTrai0772fXxRgTLxbyQB48ar9zZxx9ik1iBrc1b\n",
       "5+AQfaaVo4D+MQzdIye3gAhqtEtn+CcAjIS8VIRoQkf6Oqe0NPacojHtfDm8V09WG7KqnJUZIWEP\n",
       "tHXuIojQwpJ8IsWM6Cg2idFMski0j+YItHekDtoX+B4ZrRpNjDYLZu9ir7laej+UrnM/f9Z0H1Tq\n",
       "W5o7GZuVatIRSzpGYWU95Bj6RPrGbNQkDxCuOvqWF8hM4cGBGkKjZPsUP7qqnswnLGM9SwJlwUzW\n",
       "dBZzyPpDr7Tv9B53CKwMrY/eFKQwfeCU5LqJY2UzcHDT4QKNKVZNMBVPkXmBV0o6fBbZHs3FjXd9\n",
       "kQIvmpEst2C43saom0WxU3BvGdek9Vb24s54LNY1tqA+1CycCUx54WXgIn/8Lz8zBINSf/yu9iw9\n",
       "qt5ETqoqwI4PuVCHvX9XHokbwMRH/G9ztUKOEw0EdaBIx0j/eQA7yxVjHEQNLMbOwFd0PUSUZqBO\n",
       "Grx1aHMcjD6X7BvFR6KgULr3Lh/woBAIxg3YinEPMQzepTeeGf7tbt9Ur2AGKDhLjqXyLA4zA0bV\n",
       "zEBJFIOPvsDZvplXmeeIv99CXRoEj2t+r/AKyih/ggHcmu5eABVSuzEj2NfNXM1wsfPy42xmLMJZ\n",
       "zMcfcVtHwWbVT3FzOD7Lgu/rONLCogy0VrUTU6fCcD6BRhyXXOqCH35x6c2Ay8i0sdS0PFqWmsQc\n",
       "XhPt0t4q8G/RmL7BcTm549JlpD5+VW7O3MU40PZ60RDs/nFRfwpRYVPrPkEwK37sd2oJnpj92Myk\n",
       "XotNC9d7WDouqT7q/gCfFJ6SgXUQsVhPsKu/5avYRgKPEAJ8JyaX2Xv2x47QUH8EWAMUcZzrw4RL\n",
       "Yq3GJuVEMaWs6VOw9RoxlRVrmCXu49qB0W6RPc2hBeWCHSdEiRLVfnIwVjQCGeYckE5nggBSZGbH\n",
       "cw8qVdCfSKIbUCVnu/Dpr+WVrJ15TbMJPhsGWtmTuy/2nQb5JUgMFUrgO4Y1T8rxbnMgcnU1kQX1\n",
       "Z6Ep0VZq8bjN1u0zncVqwnXEyUtNMwSNxEnZn/BuI1DcY+CAVahNXrpaO4FrIiM3A1HjI4geIOn4\n",
       "OAW2i7mKynEuoBSu00noMuFwbEeh6aMa8yNH6Hu7jfH3r4JmHkDAVyGIRunuf7DklDPqPbmXT+oc\n",
       "t9WAeaFu19XKb3Bf+ssFtN8h32aKDrrlToO6z2JP33TDz62roAfzhqRL5PWgtVI1HqfDNP55IKiq\n",
       "esECG7c/qC47YJeuGjlSqx6ByM1y02p/iyOqTxVgL1P9KeHUtewAU/ymy1RJ3JAKTvbkCpX0TBQq\n",
       "ESzCWeNiVehZF77I4b1LhGzHEhRz07LXjaeyH48tH7PeyOJH1ZU2hix1AdWZ31KqPYrn9q1I6hb+\n",
       "3fW/oUfMzfFKKmStv/WQFivQ06z9AXGmLPP1Yz4WQshPi1ER6lOXMFfKY6KrLozD18kjbtv2D6wc\n",
       "8y3rrYrHK7uOhgtRJC3K1bpvqXHBeXpO22i1jMxDsEfmGwsJ4JYqSLhPRUq2hBYudMMo1/KZ8cef\n",
       "xofxtLqU+MgwMRBk+uxWwgVQ3yqhdrwmHeOe6AqAWzacxy32cTT51XH7lnyuRv/Su3ARNApR5Dr6\n",
       "7D5PyVR8XXVJ126232aphmUVZiCvQ4hCSFh3fygwkwuk8gWgMRy5lRbAPHz8/xMJIIrfGAZmkhKF\n",
       "1HW2LNZO2eVyu5FFQHPj7sDEcyOQOPSov3bY8q2L9j6VdsD8/zGuRnJRtcNqYrIZJPE88jSO+KAI\n",
       "pIa4Xcu6vqqIRsoOUWu7Vn9Q/Ra9J8Eoq07ROSdxG7VoE3326xQPh5pldU76hxoEOR0iiF2rj0Ra\n",
       "NeOOrAOM4UQHoqCXqpDrBujW9XwAACpOSuiH9RgFntdAE32vV8L3UBvpVQRpukyIAA4H4SPhjNUX\n",
       "FU4wnTTXC0qAlU0LbspAJ2YPwj77/crdC6k6+4/EiEnK74HaoF1Iv6qjxtU4gkyjDCa//rCiBTK4\n",
       "E4nPMI/OM9E99/3Ugda21JwZvXXYTTWvy4UlrQl5foAirtHTPskHx/gVGnlGJWSONRk8KdqCJAu9\n",
       "jBNpeGsmK0YZJqhLbZfI+BuzyxdkODmHvsadLaQkcrgt5jC1e4t7BAHrHkRpjzq+ClVrsCBsp+iH\n",
       "ejcfniQacZJ5vCuUZRiEAPQBViE86AJ5aN+7CltVg6i6ag1VHkSTvH+2VlSiZZKh58vliFEIjLi9\n",
       "u+at/rAVfumxW+03wJCC8lty3BFwm1LgKneKdSAdngaK6mpvjpJnSYm0ijRJXlJPtVRv8onD7aUb\n",
       "HnAk6wNRMwHkEnPNGJbySabv24g9+CKGKHiIomuNR8SgFUNW0CtEQ5X9fiEjqdlnmUJlk55jt+8o\n",
       "pRTJn6dML9HVm+hl9977QLwiUVNT2ytaYDNgxdVblxCEatzNUJyJqpzGMy4L6hHfbPVkZeFcZZSe\n",
       "UIi/56Td/5vyGkrapx9IlYX49zuBXDqaKZZMSpQ/3DUoWwWtsF+w3d5uiX1CzHByS+eoCYfbBq8W\n",
       "EKGXv8MtdR+erEZGgrBr0WSnIzzymXaTQ+MBOdv8iUFuDz4sevOp1Fq6l+5/GajsHz49vCz5JRgs\n",
       "dEi3OWl2NviNZFMAPoH2DmrX8KRR80Iq7fjiN0mYIammQhM5NLkDURs1JDuXUWuVJMkgo3u+knZX\n",
       "t0r3Qr0bsF+cCs7Qt1jZVKCNKQ1olbVflglsrgtWwxog1EtyR6bVasAkylEWy3teIfSUTC7qXR4N\n",
       "ddwyPkudOGJ1uLYJxxZxVFCC54y2AeLgFw+f8dJYjCzgMajDqWxqBSa2s8XckQNbPL/caayFTi49\n",
       "JkDwFOkc7pn78OsbxToYIPxm4gcyPF2gUAmDFdR5+p1/dwBlxs/BnUOjUwJNer+8xd54Wd14lA0o\n",
       "Suy59jSsi+iWYvOn1vZIARhj0SFcvbWjLDmeYTALo98WZrdh2O7YNFJ3Q0y2KoiYpysHBHed4Vpi\n",
       "X2XffGxhLi2sWKDcxLRyzeYr2vb2h/jGtJzB4o3HTL5BYWC4/yRJ4H/Z+Yosi7NWFrx0nBHFK843\n",
       "1Jx19VBF4AQE7WfhrDjH8RqDAucom8qvF7LrG069+VVfkqQW9ebx0Sq3nMQ5eIilas4j7Kg7obDB\n",
       "Y/9RweP/Sjq1lkOW8rJHXMg6BxVklMGjV/xHLNVt8ZtVK4VcT+sa4eCaP9QTPc6yIc8+USdhnQS/\n",
       "0sPF6YU6LTtYKW/jkae3QubIqMxTA08aZMHBBd90CowdLf+mtqPKWpQIurpJ8h9CJVZCU9qxblF8\n",
       "uUo78CSmB0AxouSihN/jkn6l1KngzJiS9JkrR2gXFX8gZRvI7P7Z7pf+Ja7U1PtpeUZnS06vkAEF\n",
       "hs6UUaQoyHw/i7lAH2MMpQ8qnQoihc77BnhxyDn9e2+V/V/R4C6VmBXiw3mo47VGw94wEa3wlFy1\n",
       "HhBSrac8MdB1jhseS/Tdr7KbVCM7xK3h1IOV8qHM2JgI39VK5A9F/GUN/TXBCb8+XZFRHXmjIaO4\n",
       "vJIU+eDELkUy6vPopwn4Vk7WJu+VWG4OMy/0XWGFk1tdTOKMx/gXWixKmtXh7/LPsTUBXow6Dk4H\n",
       "9Q/vFZLBY1odwsF+ZYvKun5KKDnsBhcnXJozCCFbKxCHBCc2Vzf/pFireIPJqUv/YhLiuYji3VmR\n",
       "cW0qrEMX1O6kz1+s3jftB7wqG8XSTfuVMIwCJeTSRmhSljUekiA9gQxQC9WBFP/P9DoVwRnvHCNX\n",
       "kKjuSNj128/bCmdm76pMXA1sjPgFKEJ+SUNr8iJb3GXwp2Yz6s4lfIg5OFwEYYFYBT7zu4iKrBdV\n",
       "/Y0F82SRrmM6yPOZ0Ia7CJ14N+1oO5svuRq0XWkk1Meivdt66qgr9Dewi1glMEyLZ1B8r5sTUqmh\n",
       "8Y+fbh8JA8hcbsaq5kV3HRYh8K05/4aJ6j0xPe0PIpdxW9nAPUfvo7h4j93Ydvjp12ocesOFzC6x\n",
       "jdC+Ayg/LDlUHal2H7Xw8zBEoonz1QG2PQDIVYFsaMzoh78hONYag3dQuOs5zJN7s3PTE82LMr9l\n",
       "VrRaMJNeA1E6JNGHPouKi6iVW/lrNDcrZ9pf6zrZQhNqJqjIz/CLZDxD8fxo9NVMRxpISLRnytpQ\n",
       "sxfaXuuUaxSPG25ahvYhdazJ1j8gqO/nqrxBb6fprZaH3jhWNvnQEsihewMgsNCJwyvNW0oYdewX\n",
       "yIeA165fgQSnY0esFISisG+c/T5Hb+kG/iQjcp2OnOd+bbQq3OKcUjMDQ5TvEDKh8JfKzcnktbgW\n",
       "1G0LYbc5jTibhyGMOUxOvLkJceZC0o2SEcxlbGcKGBOApPzA/RsB9vyv/eRlR/unJRFjdHxi/296\n",
       "ovdEjR3DyY/37uCNzxUS76eAG5V68eJ+4OeYmLOHIfsThWWQQrqrFggAl0Pwc4Rdo+OggFHvhdfk\n",
       "I7uMf313DVuelNlTcSwV9UxJN3pY5PkJESURrWa5odtxYgahNbAV4DtgB4Ct68/Uwp9FqqUslUw6\n",
       "U3OHBkPWaRzFGCKqR7Prgg7gJvlFEZvgFDG+BdG/oCbqUmhF6d0LZrvKv19YXfzpMmz6MhptXj67\n",
       "l+GvnbwW3UdND6muEkTuEVmZGxD/9fp3E1jp8dMZeuwwKKQmMhQOIrYVjZYKr0vA4TzxtfyjZq9M\n",
       "lMo8PtsJqGB4/eB1SHZTJGTCQCpGeH6oX9vCOjK7oY65JfDnTlZiZbx22EB9tyy7b2aRTf/h7gvn\n",
       "HGNiEWa/ucDG4LOKWapAXSGKsGZuGV1W1V9Gr/5jd0nwgCBa2ahXXd8SAOLfWUXDaTURVOdmKmax\n",
       "0dkFIVwhfhVd4LZVz/Z+5ILXjditI081wEJ0WHDory96TsbJ0HSMFXULj2HXwKshSEjtQrohr9d8\n",
       "I4Xg8gQn/lh2e2q1b7MnOJ8+pevzMnsycblRyCQjY9csO0+DqvtAFNzN6ZPpWc4IPaMdbJiDciwg\n",
       "Sp2hdRdmWRDTE+5xJxvuaMdD/R2TRN43aVJVm71ZNNbfiCM6glqDuKNwvTaC7pnwtjwpA9BTi3Nk\n",
       "nPTw6iVd7dDhVWiw4COZFOVqyvk4RO4/5B1ErUQ+1PkQoHTIMYEChsPpau3vbgbgRoe+YwO3MNe5\n",
       "+akyh0C8RizItNE3P37tN+/tmetKtmDYcsOaJ4hkaakt+dsNuJtymxQ2fYaDKckXjku6e2uqKiU5\n",
       "KZmnV8yd+/ecj0pssJ1K8cW4N6OAKfzwVn2nj1R7/0WuxAq7gtJNS+/1xy49Drh3bMLMLo0Ph1c8\n",
       "C1SdYefsfVPa8Xf/z5VCIevKpgWWOTHTHqVKARSk4HKd0tMMGTf9Tt2CiPTaBACr7Y7++jAQ7elg\n",
       "hJLWKJX5aI2NVIvt0zyAxojod7V+hTy8ZkKGiLftA/MWgeg8YbMNt30kBzxJDr58EOZhEkg4h1m5\n",
       "DJsE3+rSWbir52t6apZQ7C85mzbMy/z7hQD1NNtfv36V36M69aPOACfLpimOTWYw2sHzgemcH3gx\n",
       "KvoJVBYzQqsCFBzKAycbWkj2o9jZCDS4lb1LcEAU5s+3KZcsHpuKJXzOqmNFgrbnyGCWh2pfONJk\n",
       "8JDfGNxnqzNsGPBr7yBwTRA1KDa/ltciMqfCxVhG021H8P1l0zXWxA8uW6tNpY2Sv6aGIBj26N8n\n",
       "M7/WS9dktGTncZIR1opZI9rDtbabvunZmYetZsH1nkROkUC9KKi06jqVTWIPGCA5BwJiNCbyoKgZ\n",
       "I0c/l620rqmPy290ie/ZCMRion/58gvoH3A6s0YJwqi61LVDN+il7OSdtlkAJtD5f8cI5pfBWoOW\n",
       "wnro9O4oR5+5JKGKuGIidK1XB/xG8Tg1BfhjCEGw55+BxpXEO0pG7YU/5v+mGwe+394SoR5jDFKM\n",
       "gV/BYnu6EG9hGrPd0AV/tO+CtCCtArbZPRdiwBQSTFjQyu+CU03HSw5APlArv5RJK6yn2UlQtxEf\n",
       "TKhw40GDM8tRF96p7Zl8nPh9XNzje/NcT4VvOyMGuJTKfV01QQ07RihduozbMeMcHVQwYRLcUJOT\n",
       "WaTciQcqKKCDnVpf82C+zK1sERFxrxX/0b6X4iXA1wZkcnnFSshD3Ztlb7GpKaLDkzBL0tkVV0u4\n",
       "+UIGNRxJIxAPvDy04Ia1RKMP3qrdyzNPQ2l8UswE/sqaUFlvGMDgkJ6k3qdcUOIL4EzC1/kdai9H\n",
       "Fu6e4J9tvgGyE/+7A1dyk/0ytpre526bR1KaqhjXTTgOpa902OA7RR2OwUrXDdXqqZD/XcNERzO6\n",
       "6c+QCMwHIFzq9JJjaBm5zwinrldkv6w0ae9zgbEu5aWnRbyZTTg5ySrbYXiK4ZuBZ6ma43BEr5qA\n",
       "mIfbyX3n9Q7eYaaEHhHd+9Roxs8m007lW9uy8VEUTgSgrjF9gx/emwdje9fwWNk2ub6HTZE1S190\n",
       "c8mR1AcHiD+7q47HFRVoL5qbSjAxb/GuxWRLYQCC+SRzog7/0mL67f5ZZxLcdiS19BTARxmxti2S\n",
       "iVsZx8gm5wwLARXnQnxMK33VJqO9akcIofQZcFW1UPsjRpXGddZDSdGdzjm9Qn7L/0LXzsf4dLci\n",
       "HNvQTuuG2+C+sD7EGNa0gdrh4bcOkTxsZuKNwx0zLYiYKlOePnplaLiXW7X5JEAHK5NlzaDaDHiU\n",
       "v69N0WELbmBAz/DgtBwlemdXH/xf+tP1F1v9yYw7dcICE+HyhGKYBhzsTBqcTIKdHsy3chf59Err\n",
       "bd7Ct5Fm0FLU0+uKMRsoHAhJ3UV6KE5yWueA6FKd8eaIAW4MhF761DYVy63jW5GIBuG4z9VqAAQF\n",
       "w9qEjO5I/FttefMZaez8HHnSO/0VS44c3tynzMyzE18nZUCGki9AzDDF6odqh95+Nk0qz2V6QrDh\n",
       "OOISuHM0qmcC5TsPCEgMK58ojewXG35KbTbJtRGyK45XbyXUiEJdNURqAAr0EKOXSHiVnHNiCjyF\n",
       "fAewLoKMAH/uT2mSv+CS319SkivK2O/SaUIYDj7eDwJCDfGkZw59vK74wBvwt+5iJ92BECRVQ19B\n",
       "inAitvegcyLBAZHgGdj5utrQjg0YG7jI+BJAwMi9Zw+ZM+4pbr9s4hg6xs+4DZlG98jv2mZK2Epx\n",
       "hh5Xt51pdAb6c5gNfVcYY9jE6S977rR0vCUXbXfgqZvRTJRSEmYQ6XkQGHOJmAT5cvBzTv4GlkBr\n",
       "Xtm89padolpcPocQT2lzjpenbnalDYBKdr/AaruXicgK/lXWXF2CCt4LIYnNL1nexV/qi77YHXae\n",
       "xp5qdFPMTLw3GZ/hEmlW3crPwYBUJOpHkvYGjHfaMUPxg14gdNwnP5lPnbhj5J+/poGue1A7i9xP\n",
       "43z72YDV+rAE7FYkBs2kpQ9yuytoiZ5jX3evk2H7N24FQM9LpTzP3IEIWzDRwWlayPne6kpHxRb4\n",
       "qLiBiO7RCDbUFlhCdIcILu0MSa21Hh17O6GFcKpyMFWrsWJ9FR7DEPxhU/CpgbOcCy1OGnmO8OOw\n",
       "kePYG21COlFk7RO8lTiHAC1YyzlV7+Y2EC8ScSmYtzG4u/qDl6ouPWfW4rtXdlLz5TKQsi2W1xZ0\n",
       "S/w9jeMdnQI4njyuoaXkOMTovZ7iHK0MYwA7jKMSs7CdRYZyT2csfUGSQsvxxcQYIx1tY+gMr26m\n",
       "iwNR/6Ks+qRzVCbg08P9Q//rMc4qzgjLhvPIafOx7MSLbX+pzBptskw9Q6s6QaQWsXlSvmMiwRbI\n",
       "vhDLRK45CXmvBeONfeaq5EJDN98nOYX1qiGOG8drzbNS5AfSGkfohAMZyco3zsxIqUPfWDal7eG2\n",
       "odb4Va4yRUu7M9t1jJ4/JYepQk0PkhLYYVcq+QJfv7csO/O7IXwRMr5PQb+HIEQ0+2Vt8f+fZHjQ\n",
       "4LYCkdrsvp0B2PF1tEvwBhMWntaPhCCmPAxJwVUwYILNcx/Lh04kxuIpGUq4DAgrnAtUmGzufv+n\n",
       "OuFZj64PwsFSMQXHZpFcwTEKF9XX7gfhzInhGqwmLmo4gaDobFP9zGQN9yABqZYBG+xmsbZhP6tg\n",
       "yZbnXZskM8j+eD6N12Z5J+HB2n0cstp3kRLSChohHtm5KerA2jkgoncKgD+eErjiyfZ9pH2yzUQ3\n",
       "Y3jNh8iOMKjLwG3bRPjqxlQncPnyqIJ4lv7vctaF5cW38JvD4rGdu1uuOfpS4iTPJ2MoYq2MI85+\n",
       "pyGIruPEkLKcHfnTMHeN6YlTk3dJmCtXiHJyBBu6SFdOajH9pcVN+3Qvcg5uFpmMnsBmZ+Zm30ZR\n",
       "ayIPwwTie84F9qn8ptxy3i2SCoF5NeBDvpF63WNzeckDd8oRVZIM9+QlbqzMJ44jQ+eiANEZPYv2\n",
       "iTtlulzr3OqZ4VWDMDzjyijLPeBsMvrnK6yhkk5izgAbEmZUhDiuKVAz9UdY2JU0Kk85zmPzLw/6\n",
       "dKbeZ8u+NI8fqBlYP+DoBWdrG127IZhyphLs7Rx05J/4CeY+7Aff3HGh3VIn46uQIW4+dDPOqQGw\n",
       "Vi1x1j5ClUfEjGdp4Sy3yGoO7jxn0Pg+RHSOScahMxexiojvNdEi8DFbzPpk3QS1Td1qkuqPKqkL\n",
       "P2vGVmrgdKPHkqinIYPznAIuf4qWWM3NFEIA99w6dRdkrDagj7WKP+9Fx959pvoZPNpF2i67sypF\n",
       "ApeY6jbDiaqPb7TLPSapYIxLqOujO8+mVyOWOjyGhWf1pl2IB4sD7/maar8jwSOU4iP2WRG5EELi\n",
       "7Pk9gquiTjAMjKTk0EJz+/mFeU9N3ZdymOhjSEdYujroyC4b2dsOfFS0moptbQYQCCE3+PMUMh3S\n",
       "8GZ3V++Y7v1a3RJc9/GJKsAC5iVVzupE+zB6R/de07l3H2PNPHAKijdp+gBQBwRyLO7bIstMyslu\n",
       "b3jdJrEflyDsC/5hvkCakk7n44iKqCv3GVQJfLCPHPfmiEQU9mbLVjA9B2x0OIJh+xAEaohimplR\n",
       "pNVlzeT8OA0OQIcv1LpReJ+aHFfYNJT1RQTvicODNGVNMCAmThbCVdUmAEwlqIAAABX3QZ5BeIJ/\n",
       "ABhobJ39R1/igAnNFLmIEidM/eVzAFbkmLqZEzDiUyvg/4UgX/2G/Q7+rnp7q1LDmySCjp21RZlD\n",
       "x7+M+OFfv51lU1RNQmWDRh5fYdEglZ0jCoQUrUckSNl2RUOn1haiTwn50XBsh5EcQS51JIVpSJwb\n",
       "r/4WU4FKvhVPugRY0vZfJ8CUhM1WY3SK7yJKOoJ0Q5J8axQQl6qB/UjXMZOIfiEwZYnHmm3/OF6z\n",
       "Fds4G7DKI9Uhhlq1DHbgqm+XVgQ8ecw4bfyJwsI+yM6GW1RvWFw1eEnTjGL0H2V/jskAuqM32cNi\n",
       "0fiYta3IV+a4smG4Ow9GxuSfqnky+flWyf/jGW89+jeV5HZTtHeYjxWvlExZebjgVzgWySiGX7ER\n",
       "9RBDL6llIcPoCQH9rryX+S76kiPA1INlz28Nj5Wo8zJUqLRsYM6WXmJJVlcG+LHTz09evVb2gqx0\n",
       "o+zHsyUhr1BJB/sE4IovWIRG184OLnyJnf+4YttNhg4V1AWf0qNLwIZuj1cvUfCeWqktx6PdKoft\n",
       "wDfmskbY50BS2KVRZELaNwReBduKMs3fhCoxGPdy9BBgbntyne5NlnVUnjFIL9U0gDNR4yrUHLlc\n",
       "zuNAljmVPJnihX32cdtr7apBV6/bG5dJhB/AfDsiOekfsL+OiYXIr5u88eceAG0nHEs9cFCMiMhF\n",
       "fkbcZEFRzsPICifsQrodIAUr3AN7WO+eQESpIE/2/zfn78kId2u+0ajCaENPeQ+XjKQyoEUpUmYU\n",
       "IIoyupsoqF9xPmFTBZahO7MNczFJpGzE1CTFFmgI9TLNeuLMomt4/GAn7WdJnDK+JVVilLndRXLu\n",
       "Fjoc3yfmlMeEovhZwf8hTlD6krZJV84JZCMk8JsAxiw7qTzeMrCJ1JC1qxAMSeYOo6VgcDB8lYWQ\n",
       "dWqhaLGPhxZhR/1OrxR80OFtAjxlEarDfxMJ9Ug5Sb7DSPp9G7zWF/NjcG9tLO7VJVUhGs/ox6SD\n",
       "/DGgoSuxu9TdwS1TXc2slZDe/I4ty0g8nv4SHSSQe7kDH5xzHp6xa60wud7lsBtNt6lb3Q5sUdpd\n",
       "CU7DitteBmoFW+5H2alyXhMPo7b2PDlKVWGf05qO5dJOfMU2FlOgoeAjPYh6pQ1kpFuYlw7gSdB1\n",
       "CmkttsgsnYfzuTwFxb+k4QV3kT2t/YxfaKDWYUMWpx4EighpCTanpbr3fGiN6gpPgY3Gz3j1Mzib\n",
       "a0726Bi1cho1t48uKhVlhjjkpZ6prqtwIc8jXDKbtGCrImudXiEbGLGv9hA3EiWyPf0X7/+sd3x3\n",
       "44a1iRTFJeAEWiphZNfjTwD/Q8jwDtXQ31ICoFazXvyntwootiUy71li25KEJjmHlz/P4rr6WHTt\n",
       "WkYw5MarRh1NL/+1Fl1PUtjHW3nCZa+cPidnUvlrm7oYQfYJO3OgeWy00xvCw7xb9ioBZMS3cqVn\n",
       "CoUl9fQJZIpLjGBI2y9ZCqHSPBMhFuXNbbg2DHJTt7hyp4VYGj3QF8VQKhbTLRg2qFMTRaC4/kvg\n",
       "Em8MQbOXMQbPEpxJ7VhT/ZLLNshK5n9Ltw4WOUeLOMechbbSH381Cb1U2D8Kb+LeABthrlxcNtZC\n",
       "8Ay6z3j8taHPQZaRvZFLqO02K0bR164PcAzeqf2KuS5yaK8RF2gU0UGFmUKLb+Mdk3N2ugcorYl/\n",
       "YmRh6smIUFXCwgZ+WNYHgZJJCS5yVzXieYq891igTyMiT5ftuxUabZ/GyGoMXK0B7DZPdaFO+Cfz\n",
       "U+MDCPsWdN0q3qjDyeyIsMgTmRoN9wI0tamXGvTHd5Uvo7LKGahjDW+9fQ0YPDWV1OhFhFjeDjJZ\n",
       "iNC6j8x9JL00YRku2QvlDa2nRQxQiJZsPS8wq8AuCcFj14wNM/zpXA7cIGKwPXRz0h3JgvuIWtPv\n",
       "hRsZATkJnIgGD8YYihCDeR0zQlE9CEyhW+90RK0bK7TYfT83sW11Lqawjj0KJdxHYUCzM7SsLKVm\n",
       "2f9OvRdGa02d8d/1w5CVWYeCWxw9qUEbltEN/JHU4A0IIfTZ9ey5UXLftzZboIvDucIL1dHgQkxn\n",
       "Vua0v2r4KM98ZlqC8WYahHrkXm7Iw/fz9Hhg0yEcp/uVvShq+Y9X4COASb+t5//ninAFjykeXANX\n",
       "GAJ+EYCm/4ZLSIIeUOpu+f/n/JXIZu99sbFTUyf9PCKDUtGUn6CT9SFlaUh1D9osh5hvE8roFQRQ\n",
       "coUsuPJQakzQcocH7JPERWowsVXB8eDjjUFyXy+2POZipZa086wjR5OerQk/3NfWn3F44xaY4scy\n",
       "1Den+EsthisAdGf9gAd4d6m4k42vUmzVXA0p8ycYuK0JqVkoGXJxPVfvLpwZ2XdWsvHGunBg3UqT\n",
       "LxG/2OBDY99f2HUsKVZvJ8A/Xs0hx+/TLU7aaswPCFP+gkFX7oWAXd15SVwp+hltrUUkcUmz+Ai2\n",
       "vpN66nU0f3iDUcLKM9REXFYRKEmi+MJZOyEmr+CoYrR53YclIcEcudQWTrvfgRKV+L0gYr7THEZg\n",
       "xFPmSIKCrIX1E1uox+R+iTyJPEbJqXKx3E9kv3J7Q0vRxE/B6cU/AHq+6CgJqM0Qt/XreuEs2owj\n",
       "/IsRSDo7cC/fcGzQ8bCib5V9yHyk0dpkX3nHl5uo9negTbampznX87RQxlc5//f9PUqtcBpODq4M\n",
       "NGLHLxczwMJnMEUNcfCGVWEOIe9jWUQvYlsJGYzOBAS4m4cTxl+pwZTtS1J3q5qvUaiyhdWRh4yO\n",
       "TOHJWLtPec447hOHVIzFUtxbGXglV3xyOmBuHGI7oDPCtLMSNzcR8dnRtLhCns8NnN0Kj5js1dzo\n",
       "6nMEEsG4z3f0UEvDMrZc8UV033+Zzl82em1MXANoELCpZ7vx2NyZ2omnJzPSs+RNk36KspEt1GDE\n",
       "2qrPd2tmMVJw8pvNa0CSg0gru3dstGG2CUYeYeoBjpZ1sTjoiAnYMp4l5/ZtU6PviuUTPk3IqGGe\n",
       "9cj2uKBweaRnnesQqWyJvttTxwW16Uz5HllTJU/ojEzDDwo6hjzG2j5UoO+LMVe8yn7mspnugmwb\n",
       "zU4IeT4+8IYGe62DpOuvSXn4HdB7J+K06SaDRCy2HPM2svF2JXzWsR9B/vGx4hO5kUqbWmF70AF9\n",
       "x6fKbCVrni5M/rsP3iSbSzmp/LUAzlHDl1mb4l7464x9uFGVxUKfuysAgAs4iEf47UCjbco7hI0L\n",
       "38kRmg7NzonmgcfX7I2jKNO3eWVe6G4xGTp/+mbk3/stXfNgzG7YtyrGWoR0NQUzMlRNAyCK5r6d\n",
       "Ds6XJeLTSt+3DcDql2fs3R8+MTr24IxCcjSdedD1tqe3ejAjYBxKAnTJt8o2bm7BDnAphWi/Plaq\n",
       "4o6BXagH0EmKu9OQGvTFvUht6ZHgq13WanRlpZOqMwABf/FnAIpsByXLsstgoPgCqb9Jzm39pVBy\n",
       "srU/nbrtj/yeboIrJBmsSwxDcegOdXT3vQTynABorXNrVgVwy4VONsoXX0z+SpLSvyvjWreS29Hn\n",
       "PxENOW4ywfSxIdWZJMzyqe9b15zEB8leiA+rMXptpoewr3nmUTkqqaNZXxlM/AtYqYtw5x2joRJk\n",
       "AF/MxiD7uojpy6f3oBLlvrSmuasrvAFb5pNH5rNEfP2NqX8qlG3fUAo60O6t6YpkrmJ2V0viy2sQ\n",
       "ijILRQfxzlM+HaPMNGNcegZ9dfj6aGPmHQ6z9qqlypQOpkO/a8PowK/jAhzgneUdOdUhEB8oI+Lm\n",
       "yZBkSUKGFy5qXNQ78iSHHQsjQw+SA1nsnly3uw/K4/Y/IzpMeiPtTXJ+h2xj7kCA0IE6z/UquyTR\n",
       "DupY0HWQUUEni8H11XKhbwt2lXGr4bbASLGALFWQb6dAP2On1wvY3NnPgquMcolw/zwzPza/qj1K\n",
       "dJgY+GNEybfRGhT4K+D0ae/DX36mjkBCG0wikt9QMTMMRqykxMVgHvUF/N/rFETIDzbGOd1Cpnun\n",
       "I+G0VbinV/lFZ1de/rEJUvmeub2V02c0c7va2dpjJC6c01ePF34TjLIuZgFX7v4CB7NOnh4pKxc+\n",
       "G+FGJ8+nzZg7OTdtV6S+DP7tJIjGvxgzcfm1cMSbZnKNb3wc80X1Fw3C+RITW7Pm4VtdiBdBwiCa\n",
       "BJIDQGgsXWf46daDsHRDutFFnLqtH4FD3K3uVZUnqDPqNQQ+FHrhqx/8DtSdIn38W5DCLOYTBfOP\n",
       "uNyfMb/P35x0GWvs5IpKlH3MVbvvIOB1uSAWX0MOQwARlpcTifjQefxAX+JSqUjvK4eS16OwTjX0\n",
       "HtbPJ9aedJLVt3d27QEMbjqZNc8IuDNAz9X2ijYotm2ZbC19KaPJ/lieFriXrxhBSGLKtexOwsza\n",
       "hqHBKxILiAJ8PHH0tluprj+2akEexMcAwAJ79ESs0w+NEupbxoSWzgB9su47XLuHZxy/ngV8SV8t\n",
       "s1n/eYV+YJ9XBOJd1cincrrG2GCAaoZYpWmN06+a0l+69cVBWHaBpHNm5DX4f7+KFkfocOa/1//7\n",
       "mB1NNAgd5W7kvXndSGlniAMkd9Xg1ysGjcJWMPx//vKJCrPb2l4hdVJfjFP3fa99b6FohMG4yi6W\n",
       "0l//U6yJHH5Oe8sWzaRbQJ1F6h8sbKdfQMk8yJlILizRR5z6tAJdaGKmw3Ap+VwKC7+fitJsilgL\n",
       "z27e/oubx/GQhPHOi7Dkmxpys3iAqYIPDTzqeOPuCDUojUge0BkDpAshxitTupqa7YnAa3oeUb94\n",
       "sOvKCxVlbalZVgrZmqoGvaeBGEwvmzmR/S678e6UPNgF8KNK664sy5ibIjm+bN0Qz621tuhZ3BQp\n",
       "mCtgTw1LQ730pRrR9YfQbZPlljcWMmFUMXDQOYT/gVhDdeDK7QFcDYk8lc+jmceL8Evtxd+jGVTS\n",
       "jOA/ePMqcUOBMQwnSvUo50Je/eIXjTe9T/XECXpSGW8nLqM+zPgEnPgt0+EV8y8fxUEVGDMGCpbg\n",
       "Wm/Ot/X9NIm/f0Lh+KRZTuMWfmzBrbvN7i7Tqkp9hyjhrFiexj7rApyVNPvFhYbT53W+hixqYUq9\n",
       "Nf5VaiblElLUCPgqSAJR8TOvV76BCOL3pnFC1VLCc0cJdS027xQu1OhI5aVMzC1uGgjcGTFCkpH+\n",
       "T6Hqvw30S/JwscAJgvPOGzQ6Jb8U+cBFQYCSU8kb5iyy0zS49WVMVcNqe3Khmz8XiA08IWb+DXpu\n",
       "fr0qaTvCfmFAL2K/XBOFYDlKU5GjCPP2g/AfM+CefVRxYdDIX3vg3fzJWJu5+ofEhhshyUlRfwbo\n",
       "Jk46jFQWXf532IDSv7HSNdPWl2ik2104IJwYEsnL3znWeUFPSJHSS4cwYQcbI366WyxbtCJPx2Rj\n",
       "SIgJVufCnCJG13kYlPE2IAnIh6DU+gxmaAyGUQnBNNPP5Y8dyiwjYJLVk7L4gSC2vpniLnYPn2r0\n",
       "bAT2uQFldZXHNiIUO18e/tDnw3K6wh3GgeDLFTi+laJTLUc05XZ0+AqelS2R//YtD6lDruA1Pczd\n",
       "Wmi2pfbOa+5PqvqOl+v+o3QoaDSEQDNKyqAOx8KnySmbha2Ac7Pvw338xqvcXBDJ9V68TpllMfzz\n",
       "GQsIiY0yR79F4aj0dkHCIGiiryDTHRKbRbo6M/vOvXBxBv6dzHd6kuyNqfrnwas1N5x7jhFETadS\n",
       "s/vNOeL5FMsYyPsnLHVbVc+/ZZwUWcP0l16tgJ4UYatggE3OZ5h7mO8hq9ssOlW2Ra1jqAeOhXt+\n",
       "HiEjNj/eruENo0g6aJsxPJbeWj8oVl5Ev4loo+0yHCsmVVZs2CfzuqDlOSZL6vRl1AYKWMDf97s+\n",
       "nVbo568ApxeWCEcNPjYHC6VFCw/60oLPxNpwCO0qkzy9GRmo7E1qQMOLwRsJ7xR5O4TbuklqNTMH\n",
       "7zcvCbin0sZY+9bjv4Y+qUqe8JB6uXSDs3gQw2i+Xdkil/plW4TOYsquRljYsCx55isTAyvWYb+W\n",
       "57IoEpfXynjG0sPvZk81snrD/S9Vv9ddPr/wQNNn5C7o9DbYO23KYZSviI13BgcPJuYJ425/UwlH\n",
       "lHjotkMooA3RXGkxXx7T/Y5k6YXJx3rxYJ6K8U+fzJ4kQy605rnphvCqHienrAp6zE3j+2Po4WLS\n",
       "c6j9LHLiJuhsq2gaRz6GUayKZEoeSKtbkv4BHtS8xCHWjUhVHNJd/Mq9Z+4z7CSt0m4ApTBU3ooi\n",
       "nqOq1VufciE6tv86JR+h1Bt1zi3hblKNR1yVA8yOiblZvyfZ2cvaQkZsN/RNQRrzPgLgL4Of9S6W\n",
       "qncG1yAZY+DaD9XmVXVqbTZSVOhkjJYNdHCjfsnIO0ZFeSxWs2ExBmUEmfMIMP+V62ZkFMJnoiEQ\n",
       "yw8guJdkKh4PfYJShFUwy2G91toEeghYT4fP+7+YVpHzU+Tijw4mJ4VAX6W8/xwXsEynwhygeify\n",
       "3lmOjUw5fNgKxN2b7swdPihWipnzyT18A99SUC5ZKVAyI7wyP2unxVaSoeFQuCJOaWsjR/0dlri3\n",
       "OGx/d8hi0gSEKlby3/dH5k663JdRa5y6g3BzqhDlW8MyEqXtIB8Yo9uFrq7sYcroL547Px3W0Pc2\n",
       "hd2sBIUE3qzCzRL9N8ob4lH/T8YGWE95EhCVL6jNgdaMc6Q5pmcchqJkD37ULncc4rouXU0XVkBN\n",
       "/xlEuMWQNHFBwccSVFQz4M7po8MP5xAPBXWobfhbMwxmzNFM+lXjoN1CYqYl4CWEdcDVJhLoN/SJ\n",
       "ODmB7YuxSIo+hvxRjsd5QNpkFYSksfLXvWS7fHL6pgc4lWNih3OJCaCBTlf4sBE0lbpoecKrx/sU\n",
       "iwr0K2yZeGuHD9oWwZgFEX8bYc/0zMQgHx0h2t+HvgokBWZop7foZj5i2YnmvF12CKUtzIghs2Rw\n",
       "O4fobi6z9GGDf+g9T3bA9qlqHYXv3fbvvjuBpUNxS/sYDUjmZHlYuY1TUDcnJqsMMKF+9uja9O1L\n",
       "5WZdeeqSeFxbIU5ejKvdTgG6Z2HK9cJn/vxW0OLJLoqoU09nLS4Xh8jrBVoahQ+dU6MH9gYF1IAf\n",
       "0QjWb06dx0kayR/37SM/Q/q2M9kkwm/xbakul4LXZh0WVUoBKke4COZN1qYcH+WIEWmAc8t/VZtg\n",
       "zTmn74/EpWs1DO12AkXr5pRDjwAHxsTL1wOe5In55ufc2DFrWhOhag7y5L41XmORliboDkFOMRii\n",
       "TcmLdKM+10TyDaLrxMKUEaSrXuFi+6R/cmcyF12E2wF/Zms/Iz8KHqyWDV++X8asfY0f0d1NQd08\n",
       "f6wNGQy3Hh/83oCiBKkOCxcHQcPtGqsJv6WUI9j+9b/+VBnV4ZNCjEpH+duy66tNSRjZf3ErbUQ8\n",
       "ls5bWRbxPP6ALzZfoMQQkHyxXYz0OlBypPco+3zKCqG3sufCx8sBBqvInM0Nb4YSXfGq6/LRCbJG\n",
       "BAODyG6ovjqhmBwZSnB02Opss5O4HF1y5o/zWvqI5h3PQRGdkh7ATsCxYLrgTbVzHXbeJ8B79T9s\n",
       "IEnPj32ni+ynlwPyXqkD1Bkna8/6MUzyxOmjngAUEQAADI4BnmJqQS8AE5w3fbgA/kJyQeX4ociU\n",
       "VV5rBZTCTROWA/i2xpM8gjzZfVcjaMhTIBVmo/4EmgcSd8VisWH/X8hu6BLVKI1R7yJ0nEANVxOm\n",
       "6dX4g/vVxo4QBKE7/df/jhLLH/YMNf2ZjcyRUhZaiz8AFU7JieUI5tNA+jV03Bzp3npKy+ssSX6L\n",
       "18+FirY5e8uiJ+7SImxWl0Ew8+mxIYiqr3U93VNbyZekYCk5hKiUgj/XfNHn6KqHMRlfR4hAZmKS\n",
       "fkbguisYgUFXacI9yRglnCGKPMHuhTcb+L2o0xtNFIfVlr1SAI2h6ovta79j/nKjhHG4xQdKxLD+\n",
       "pRWnLOlrhjCCgZo5Cv7q6Zmh6eJ64sYgoEq8EzoFpVk5Iv/9Knjt0JruFGQ35RVO3mDM4zpyAnwR\n",
       "EQv2RABwuvQVcMtZKLTmOJxZT9FqaPXWMrTUMPLbcXwVLIhp6in59zhgmNRLChD9JM2CGLxAKH0g\n",
       "gt4tmNq0YHh8ZJxVec4nk4I8yk/nRw3N8Xdsnn5PHuX7ZcNQKX7sEs4L+BOHurS/LtS9rx1b56Cj\n",
       "t8rHOLb2Pp4z3g2BZ/Nb7CFJe+bZUo+MJ82dkfNmwWbZCzq44m/LNGq76c6NN4VqChjo+tRp/1/J\n",
       "i0mOHMduT9XOmRkYJ7qyZl/F6c5cs5xdkX86ILNQsmaB93zGymiMC8PyED2RQP0qes8Li+DgeR31\n",
       "N5iuUh85gU05+D2xz3ji2TZ5c+IC8uPmIuGnCeVrT6eaDSX4DhZ4GDaTYU+OHzbS4deU+huj9wPD\n",
       "Pb8p3fRV8+CECkhMdKitJAsjEHRNtzNVxwxFkxTHV2MBKe0XUpfoJhbVOQGfYbyrydWhUdmX2Drt\n",
       "zwgHX3+eRw2dWJm4mcs0dplypNJgrsX+0L3lGFCGk6wgWH17SyIlX6oZmkaLKK0CNRKwWUTprNmZ\n",
       "uqWt/oR9ijhdKvmxpYk3uqnPjqDc9+mKYxsUFGFAKJU8oUs/r0nlMsLOGGj2zBUpOLMYm1+sLBym\n",
       "HmrSJzDbRPl2udNs8NSzrc+lsJuV/CMK93p904oogliZVtJ4BYJ1JiiuOzsOAJFaTDEW/HAKsj4x\n",
       "Mw9w7y7EQNGevNEruc2WRUYL5asap/BD10rx105MVubHHaIU7Ul7gt20ip8XkRQAbT4tebQ927zv\n",
       "huHqU+eiHzMVk6XHmTxxPdXz5M1D7rSJVu+POdce9pG7yLb5XeZ/stHcnitYJRrvz/68WU5ru7Ze\n",
       "KS5NkzjHc0fHbZiZVlaPLFVb+slp4XEzEhyHBahsaCd9veUqftHZ/a+5SZHgR0DfznqXVBey6Pm1\n",
       "kg0G49oJ/fTTMiQcVwDaSG+CUATiVkExWwE/3wbXFPD6cQn58OfluVcP3yem2wStPBBi2lK1vF0Y\n",
       "JIpG3v6MTgDbRs2yu8WfHxaVr8SB5ocmJ9EIJkwuUzScoL38cTA7cEHrn4bDrRX5CNIoS7pBEqDT\n",
       "WJN9KqKUoTEQ+YwvvhTLgOut4ClQJx3K9IWLTvCy9JcGENwodz2zSFNNpSzAzDUMISGJUVPFmhey\n",
       "Sf6wJfvDHLsW+YdrnB+d53N8WCObI0d8hn/EPu0vcP0TVm0DrRKrYhen81itT7m896yiQtouWjcs\n",
       "v1TEeozkU/5HxyQAMGvxhdDM9Q9pOoUW8fBYDdO7p+RoO2z8RYq9b4YaCAcbT3TMCIVdPejsTX8P\n",
       "T8DJM7pFel9Te2V8OqppO5NoLDIJnafVNYsSbV3OAAEEVPxziJSR+8cG0c1weSv65gk8MZQx25ov\n",
       "UjvoEgNCMQ1xSnNJoHWVTulp63AHYNzzXPHvnK1uZ/Fp7pMp57cIQvKO3x+CqNg5Npt2RXPm8ikV\n",
       "zCZ2Gd7tdeJJ3RcJSnsq8WHfJxPgy350IeBQ51BXGy3XDoaKwW/UKopxE7dxMEyI7Y+zuN1HPdxf\n",
       "QRfdaoCfTskbN6rTjosfecWlUNRxcUeos6Zv9LzYCrxPOuM44zrblgYDxazNV/DvKdepWVm60jl+\n",
       "AgdRxwKiF3nuwhV2BM2wCM0GcG3qP1G2xWVeyJExx2DyaQVWkGKwW4fX2vF5I38UBWQSUHDydW0L\n",
       "o6vDVMSMvZ4ff2bH2gzcX/Jg9QvON5NTTNC13s3iUswhqreQEBcI+96xnICNBgiYvVe5kRlvJ18a\n",
       "2HC8z3nC9tLGXOLK0emz8NNrQt0rnBN1tKvFiuT/3aYeqFk0LNMc4euW/iZAuqJCw4bZMLCGbVhL\n",
       "EcB/xsYI3Iuoj0+4ltdQzJgvu1nlAOrfP1JK9tx+TL98dCaIWFgJHRp1frMhsEWFYPbina/eFoiN\n",
       "h82m4ukKzkXEx523U744AkUIk1qbObW04vbcXmUVcMm92pGRcuCvp8YthI/lx9sBTE4n76TvPSCF\n",
       "9Rd6bejo+rEI/h84R9anaF9FAyaqigOLCJGZm8muVAc511cVm3Nn85wybjR6cF6kQvDOuxQqGOa4\n",
       "IA6KyMj4kd31lJSAs7sj/NVqvAeu1TqlvKvK2o9aDn0gDc6DCjCq55aJf5rWOhSs2AjRFy6h4a7n\n",
       "mPR7ZTzTjaOOkNcIGbeXkQG+vN6IAAt9OCSqKF0I11NvURessYPeG95gIs1Hecz7RcZ8hZP0NHHz\n",
       "qpupVIe2n+/h7R6h6FfthQ8dA3som0hDpQ715FAEpkLwKIVc6x/CNFpaTW9CfmTYCHg9s54ZF73k\n",
       "tE0Qsj3r+fwar/Nq47w9jCaV+NTCpCUJUVIUG0qLk9GUJ4skAPnOxhehAA2QcgwDkaLlSEe7PFBV\n",
       "Z11a67drSVzIEWUsNtLqMrtECeIldtRLXmee7KmQxBamsKzffMOUdBwpBzQ5ajEUZel3dRsGUvL3\n",
       "ALnOAvlecimRhLIVpor0RM0uId91QNUWQ6eF2G66KlhgPlNSk4SiVT/v8WKZen5S8WjfH4r0+gwU\n",
       "DzO1S2WujA4bacX5Ovv0dkazgZ0HecUDOgH458EdUgts85h6NqzIJHnB6tiRB3MAX8ldxLC9sJGn\n",
       "EaPRWnuDQLzEHvHN+9AiDEIlhsOmnEbCh2ZiYCHc6eUl+2sYK9EZzCgHPLi7pV8NK0MDdKDpqszD\n",
       "NB5s07yODD9BdCi3sfHHirUc313RsDy0kx7gVBkS3DHsmBJpTiCFOxQINlDel7ltFsgBDusWsLM+\n",
       "Yu22Wj/9Lb7/od4vrKUGwWQktebdteJbOimDLKeBl/D/dEOXpimm8d2GaFy3hpvDdkvVbV3amWDK\n",
       "ecVlONYzJ1UdAdowXX8QuZ9tUm02lBuNZLeMCYrtU0zxUFPsvf1Y2/RoOM7QRSBG5cG2rwWagVUK\n",
       "hCf7HCssf13KW+WO1WFrIU+Wj90UL0l4h5YsOSFnNgvUkKvvqNoFnW+TwDFiJTsIx1T3NV10MBvF\n",
       "iRRbhRgmLWfGFExw1iVtmxS0/Hh/JBELmnpU1Vyg5a3R9QIQd8f7eGw9flKt/pT10UvOnWIdpnzN\n",
       "5sS4XXUfF3o0SfptDDsdUcWeLxl2b3sZOjarZN7PNgqOHqLnlTtCuKs0utDDJ7XkggaTeP10bWop\n",
       "Sr3vJUxQZYGjLOQJdgnbSGuV0/OzjEu22R2mqGdB6cGgmUT6ngYbLjBQ4TwZguYz0BDkYf3Y8Z6M\n",
       "x9VtSAhBOykgHdY2hYeY6MyuVevPsKVV9kB1fIas/61xxCx3dFekM0Gccu/lbkY9Hml5J4vmc8O+\n",
       "Fw1ZblB4MPIgesUf1wArfiONG4B34oSJHjS2e//LQWuF7orO1knIIt81i+7UP0OcHul69APTXt35\n",
       "vXR+mC8XamcS+Y/FpvFDRUc++Wc1cCzdYfWEuyR0TlrA2um65vBC2AMCh0V8eQN41qWv9u+ifUGF\n",
       "2Zsg0nGLR3WCiBYIMCxcYoXXL4X+tpxtaO4aaCsKBEZnZ+o7FPiybp5v43N2huwvg7AK8lfS8GRb\n",
       "koMQ5YSoAya5v73OYFHS5BdHROZE4Ut/CAuYk4twZuY/sfIze8cXCsBQLSMvJ+UPOk9k5awktbC8\n",
       "AOZXCv4voyRm1Ez6rysb9QniQr4FzikKJ2baOVH/FIovaP53+5Mm3ip9m3JEIpZ7ewtTB0W03DOv\n",
       "X7GWjXWo1ouHgwEjPdvc8zlpt9aG20NKupQExO85MYp/1Pb3Z+i2VB16FmRiHJ6KYu81O9S2DYZo\n",
       "WHbRqBviNLtTCkDo/+55YwhlvOLiAmITv0VdMfwq4dwaLGFRJN/t4RZtRZ4ZH8VbpiSyYnaHu+K/\n",
       "2uDHISa66V6BGpGPt8Dswhp1qcC2RST6uQgl9WMHlTFNiZHcAPCvAqbOLL9Fak6JLAcPQIrRgLyA\n",
       "AAADV21vb3YAAABsbXZoZAAAAAAAAAAAAAAAAAAAA+gAAAfQAAEAAAEAAAAAAAAAAAAAAAABAAAA\n",
       "AAAAAAAAAAAAAAAAAQAAAAAAAAAAAAAAAAAAQAAAAAAAAAAAAAAAAAAAAAAAAAAAAAAAAAAAAAAA\n",
       "AAIAAAKBdHJhawAAAFx0a2hkAAAAAwAAAAAAAAAAAAAAAQAAAAAAAAfQAAAAAAAAAAAAAAAAAAAA\n",
       "AAABAAAAAAAAAAAAAAAAAAAAAQAAAAAAAAAAAAAAAAAAQAAAAAUQAAABsAAAAAAAJGVkdHMAAAAc\n",
       "ZWxzdAAAAAAAAAABAAAH0AAAQAAAAQAAAAAB+W1kaWEAAAAgbWRoZAAAAAAAAAAAAAAAAAAAQAAA\n",
       "AIAAVcQAAAAAAC1oZGxyAAAAAAAAAAB2aWRlAAAAAAAAAAAAAAAAVmlkZW9IYW5kbGVyAAAAAaRt\n",
       "aW5mAAAAFHZtaGQAAAABAAAAAAAAAAAAAAAkZGluZgAAABxkcmVmAAAAAAAAAAEAAAAMdXJsIAAA\n",
       "AAEAAAFkc3RibAAAALRzdHNkAAAAAAAAAAEAAACkYXZjMQAAAAAAAAABAAAAAAAAAAAAAAAAAAAA\n",
       "AAUQAbAASAAAAEgAAAAAAAAAAQAAAAAAAAAAAAAAAAAAAAAAAAAAAAAAAAAAAAAAAAAAABj//wAA\n",
       "ADJhdmNDAWQAH//hABlnZAAfrNlAUQ3oQAAAAwBAAAADAQPGDGWAAQAGaOvjyyLAAAAAHHV1aWRr\n",
       "aEDyXyRPxbo5pRvPAyPzAAAAAAAAABhzdHRzAAAAAAAAAAEAAAAEAAAgAAAAABRzdHNzAAAAAAAA\n",
       "AAEAAAABAAAAKGN0dHMAAAAAAAAAAwAAAAEAAEAAAAAAAQAAgAAAAAACAAAgAAAAABxzdHNjAAAA\n",
       "AAAAAAEAAAABAAAABAAAAAEAAAAkc3RzegAAAAAAAAAAAAAABAAAe24AAB/GAAAV+wAADJIAAAAU\n",
       "c3RjbwAAAAAAAAABAAAALAAAAGJ1ZHRhAAAAWm1ldGEAAAAAAAAAIWhkbHIAAAAAAAAAAG1kaXJh\n",
       "cHBsAAAAAAAAAAAAAAAALWlsc3QAAAAlqXRvbwAAAB1kYXRhAAAAAQAAAABMYXZmNTcuODMuMTAw\n",
       "\">\n",
       "  Your browser does not support the video tag.\n",
       "</video>"
      ],
      "text/plain": [
       "<IPython.core.display.HTML object>"
      ]
     },
     "metadata": {},
     "output_type": "display_data"
    },
    {
     "data": {
      "image/png": "[encoded data removed]",
      "text/plain": [
       "<Figure size 432x288 with 2 Axes>"
      ]
     },
     "metadata": {
      "needs_background": "light"
     },
     "output_type": "display_data"
    }
   ],
   "source": [
    "ref_weights_history = []\n",
    "my_weights_history = []\n",
    "ref_means_history = []\n",
    "my_means_history = []\n",
    "plotting_grammar = SpatialSceneGrammar(\n",
    "    root_node_type = Root,\n",
    "    root_node_tf = torch.eye(4)\n",
    ")\n",
    "for k in range(N_steps):\n",
    "    ref_gmm = convert_grammar_to_gmm(gmm_fit_grammars[k])\n",
    "    ref_weights_history.append(ref_gmm.weights_)\n",
    "    ref_means_history.append(ref_gmm.means_)\n",
    "    print(\"ref weights: \", ref_gmm.weights_)\n",
    "    plotting_grammar.load_state_dict(em_history.grammar_iters[k])\n",
    "    my_gmm = convert_grammar_to_gmm(plotting_grammar)\n",
    "    my_weights_history.append(my_gmm.weights_)\n",
    "    my_means_history.append(my_gmm.means_)\n",
    "    \n",
    "plt.figure()\n",
    "plt.subplot(2, 1, 1)\n",
    "plt.title(\"Ref\")\n",
    "ref_weight_history = np.stack(ref_weights_history)\n",
    "plt.plot(ref_weight_history, label=\"Reference\")\n",
    "plt.ylim([0., 1.])\n",
    "plt.subplot(2, 1, 2)\n",
    "plt.title(\"Mine\")\n",
    "my_weight_history = np.stack(my_weights_history)\n",
    "plt.plot(my_weight_history, label=\"Mine\")\n",
    "plt.ylim([0., 1.])\n",
    "plt.tight_layout()\n",
    "\n",
    "print(ref_means_history)\n",
    "print(my_means_history)\n",
    "    \n",
    "fig, axs = plt.subplots(2, 3)\n",
    "#fig.set_dpi(100)\n",
    "\n",
    "fig.set_size_inches(18, 6)\n",
    "plt.suptitle(\"MIP-parse + EM fit\")\n",
    "def update(frame):\n",
    "    plotting_grammar.load_state_dict(em_history.grammar_iters[frame])\n",
    "    for ax in axs.flatten():\n",
    "        ax.cla()\n",
    "    make_figure_for_grammar(plotting_grammar, X, axs[0, :])\n",
    "    make_figure_for_grammar(gmm_fit_grammars[frame], X, axs[1, :])\n",
    "    plt.suptitle(\"Mine (top), baseline (bottom), iter %02d\" % frame)\n",
    "    for ax in axs.flatten():\n",
    "        ax.set_xlim([-10., 10.])\n",
    "        ax.set_ylim([0., 0.7])\n",
    "ani = FuncAnimation(fig, update, frames=range(len(em_history.grammar_iters)), blit=False, interval=500.)\n",
    "video = ani.to_html5_video()\n",
    "html = display.HTML(video)\n",
    "display.display(html)\n",
    "plt.close()              \n"
   ]
  },
  {
   "cell_type": "code",
   "execution_count": 23,
   "metadata": {},
   "outputs": [
    {
     "name": "stdout",
     "output_type": "stream",
     "text": [
      "Starting setup.\n",
      "Activation vars allocated.\n",
      "Continuous variables and SO(3) constraints allocated for all equivalence sets.\n",
      "Setup time:  0.016243457794189453\n",
      "Num vars:  40\n",
      "Num constraints:  141\n",
      "Optimization success?:  True\n",
      "Logfile: \n",
      "\n",
      "Gurobi 9.0.2 (linux64) logging started Mon Jan 10 20:59:55 2022\n",
      "\n",
      "Gurobi Optimizer version 9.0.2 build v9.0.2rc0 (linux64)\n",
      "Optimize a model with 126 rows, 40 columns and 395 nonzeros\n",
      "Model fingerprint: 0xa059bac3\n",
      "Model has 9 quadratic objective terms\n",
      "Variable types: 30 continuous, 10 integer (10 binary)\n",
      "Coefficient statistics:\n",
      "  Matrix range     [1e-01, 5e+01]\n",
      "  Objective range  [5e-01, 2e+01]\n",
      "  QObjective range [1e-01, 1e+06]\n",
      "  Bounds range     [1e+00, 2e+01]\n",
      "  RHS range        [1e+00, 5e+01]\n",
      "Presolve removed 53 rows and 19 columns\n",
      "Presolve time: 0.00s\n",
      "Presolved: 73 rows, 21 columns, 255 nonzeros\n",
      "Variable types: 18 continuous, 3 integer (3 binary)\n",
      "\n",
      "Root relaxation: objective 2.991726e+01, 22 iterations, 0.00 seconds\n",
      "\n",
      "    Nodes    |    Current Node    |     Objective Bounds      |     Work\n",
      " Expl Unexpl |  Obj  Depth IntInf | Incumbent    BestBd   Gap | It/Node Time\n",
      "\n",
      "*    0     0               0      29.9172635   29.91726  0.00%     -    0s\n",
      "\n",
      "Optimal solution found at node 0 - now completing solution pool...\n",
      "\n",
      "    Nodes    |    Current Node    |      Pool Obj. Bounds     |     Work\n",
      "             |                    |   Worst                   |\n",
      " Expl Unexpl |  Obj  Depth IntInf | Incumbent    BestBd   Gap | It/Node Time\n",
      "\n",
      "     0     0          -    0               -   29.91726      -     -    0s\n",
      "     0     0          -    0               -   29.91726      -     -    0s\n",
      "     0     2          -    0               -   29.91726      -     -    0s\n",
      "\n",
      "Explored 5 nodes (40 simplex iterations) in 0.04 seconds\n",
      "Thread count was 12 (of 12 available processors)\n",
      "\n",
      "Solution count 3: 29.9173 125.276 5.43138e+07 \n",
      "No other solutions better than 5.43138e+07\n",
      "\n",
      "Optimal solution found (tolerance 1.00e-03)\n",
      "Best objective 2.991726350622e+01, best bound 2.991726350622e+01, gap 0.0000%\n",
      "\n",
      "Solve time:  0.07395672798156738\n",
      "Total time:  0.09020018577575684\n",
      "tensor([-29.9173]) [<spatial_scene_grammars_examples.gmm.grammar.Root object at 0x7fafb6e728d0>, <spatial_scene_grammars_examples.gmm.grammar.GaussianMode_1 object at 0x7fafad840d30>, <spatial_scene_grammars_examples.gmm.grammar.Point object at 0x7fb0b70a9c18>]\n",
      "tensor([-125.2761]) [<spatial_scene_grammars_examples.gmm.grammar.Root object at 0x7fafad840438>, <spatial_scene_grammars_examples.gmm.grammar.GaussianMode_2 object at 0x7fafad840278>, <spatial_scene_grammars_examples.gmm.grammar.Point object at 0x7fafad840470>]\n",
      "tensor([-54313776.1586]) [<spatial_scene_grammars_examples.gmm.grammar.Root object at 0x7fb0b74eb710>, <spatial_scene_grammars_examples.gmm.grammar.GaussianMode_0 object at 0x7fb0b74eb1d0>, <spatial_scene_grammars_examples.gmm.grammar.Point object at 0x7fb0b73bbdd8>]\n"
     ]
    }
   ],
   "source": [
    "inference_results = infer_mle_tree_with_mip(\n",
    "        grammar_fit_grammar, [Point(tf=drake_tf_to_torch_tf(RigidTransform(p=[9., 3., 5.])))], verbose=True,\n",
    "        max_scene_extent_in_any_dir=20,\n",
    "        N_solutions=3\n",
    ")\n",
    "mip_optimized_trees = get_optimized_trees_from_mip_results(inference_results)\n",
    "for k in range(3):\n",
    "    print(mip_optimized_trees[k].score(), mip_optimized_trees[k].nodes)"
   ]
  },
  {
   "cell_type": "code",
   "execution_count": null,
   "metadata": {},
   "outputs": [],
   "source": []
  }
 ],
 "metadata": {
  "kernelspec": {
   "display_name": "py36_pyro",
   "language": "python",
   "name": "py36_pyro"
  },
  "language_info": {
   "codemirror_mode": {
    "name": "ipython",
    "version": 3
   },
   "file_extension": ".py",
   "mimetype": "text/x-python",
   "name": "python",
   "nbconvert_exporter": "python",
   "pygments_lexer": "ipython3",
   "version": "3.6.13"
  }
 },
 "nbformat": 4,
 "nbformat_minor": 4
}
