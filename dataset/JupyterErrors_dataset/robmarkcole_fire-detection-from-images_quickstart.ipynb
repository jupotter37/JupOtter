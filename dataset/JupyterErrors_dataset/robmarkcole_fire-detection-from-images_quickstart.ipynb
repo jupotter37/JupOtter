{
 "metadata": {
  "language_info": {
   "codemirror_mode": {
    "name": "ipython",
    "version": 3
   },
   "file_extension": ".py",
   "mimetype": "text/x-python",
   "name": "python",
   "nbconvert_exporter": "python",
   "pygments_lexer": "ipython3",
   "version": "3.7.0-final"
  },
  "orig_nbformat": 2,
  "kernelspec": {
   "name": "python37064bitvenvvenvbfa1bae665f64fddaab164f84812b45c",
   "display_name": "Python 3.7.0 64-bit ('venv': venv)"
  }
 },
 "nbformat": 4,
 "nbformat_minor": 2,
 "cells": [
  {
   "cell_type": "code",
   "execution_count": 2,
   "metadata": {},
   "outputs": [
    {
     "output_type": "stream",
     "name": "stdout",
     "text": [
      "Collecting remo\n",
      "  Using cached https://files.pythonhosted.org/packages/df/8a/8732ad596834e9bd3cb9fcc854ab541cb92bacb78ffd3de75ec778b77db8/remo-0.5.7-py3-none-any.whl\n",
      "Collecting django-allauth==0.41.0 (from remo)\n",
      "  Using cached https://files.pythonhosted.org/packages/01/6a/d49746a8ee18a28aac8c22c20baba5b1ddf82a5d24cbd9ddd81733bf8807/django-allauth-0.41.0.tar.gz\n",
      "Collecting sendgrid==6.0.5 (from remo)\n",
      "  Using cached https://files.pythonhosted.org/packages/06/34/ca87bbdb0e14943d1a022b768a6f023171359543d89a21fa19d6c3e081fc/sendgrid-6.0.5-py2.py3-none-any.whl\n",
      "Collecting djangorestframework-csv==2.1.0 (from remo)\n",
      "  Using cached https://files.pythonhosted.org/packages/dc/49/24b507bfc4089ea9a5861280604648f2604949fd2520f6a4f1a8cb64a41e/djangorestframework-csv-2.1.0.tar.gz\n",
      "Collecting django-filter==2.2.0 (from remo)\n",
      "  Using cached https://files.pythonhosted.org/packages/0a/c9/acc63b687002afae8b5137afd6230d88c99411aa2daedf07fed3f0913516/django_filter-2.2.0-py3-none-any.whl\n",
      "Collecting drf-nested-routers==0.91 (from remo)\n",
      "  Using cached https://files.pythonhosted.org/packages/2c/31/7644fbfada8c8c7aaa804d65ca8e6a813f9b2392fe7a6e0928f95738c82f/drf_nested_routers-0.91-py2.py3-none-any.whl\n",
      "Collecting requests==2.22.0 (from remo)\n",
      "  Using cached https://files.pythonhosted.org/packages/51/bd/23c926cd341ea6b7dd0b2a00aba99ae0f828be89d72b2190f27c11d4b7fb/requests-2.22.0-py2.py3-none-any.whl\n",
      "Collecting iso8601==0.1.12 (from remo)\n",
      "  Using cached https://files.pythonhosted.org/packages/ef/57/7162609dab394d38bbc7077b7ba0a6f10fb09d8b7701ea56fa1edc0c4345/iso8601-0.1.12-py2.py3-none-any.whl\n",
      "Collecting pyvips==2.1.8 (from remo)\n",
      "  Using cached https://files.pythonhosted.org/packages/07/b1/16e181d3c2d5fa0d009fb73e332a5c5ed2340d48af3ef060edcbd2992f46/pyvips-2.1.8.tar.gz\n",
      "Collecting django-rest-auth==0.9.5 (from remo)\n",
      "  Using cached https://files.pythonhosted.org/packages/5d/47/72500eb37ea3c61e712cb9583b5e59ee2ad70dd7c97d09adcdd9d62958e9/django-rest-auth-0.9.5.tar.gz\n",
      "Collecting typer==0.1.1 (from remo)\n",
      "  Using cached https://files.pythonhosted.org/packages/ba/66/6b47a43821a6cefea52429d71ccc8210967d93e14950bc84a79f0c1106b3/typer-0.1.1-py3-none-any.whl\n",
      "Collecting whitenoise==5.0.1 (from remo)\n",
      "  Using cached https://files.pythonhosted.org/packages/ae/25/0c8f08c9d3c93192cd286594f1e87b17bab496fb9082c2a69e17051b91fd/whitenoise-5.0.1-py2.py3-none-any.whl\n",
      "Requirement already satisfied: certifi in /Users/robin/Github/deepstack-python/venv/lib/python3.7/site-packages (from remo) (2020.4.5.1)\n",
      "Collecting waitress==1.4.3 (from remo)\n",
      "  Using cached https://files.pythonhosted.org/packages/a8/ca/ede3ed29723ca944f6e77bd1d7b38c271dd801c7d6a11ab6037597e4fd5b/waitress-1.4.3-py2.py3-none-any.whl\n",
      "Collecting djangorestframework==3.11.0 (from remo)\n",
      "  Using cached https://files.pythonhosted.org/packages/be/5b/9bbde4395a1074d528d6d9e0cc161d3b99bd9d0b2b558ca919ffaa2e0068/djangorestframework-3.11.0-py3-none-any.whl\n",
      "Collecting django-jsonfield==1.4.0 (from remo)\n",
      "  Using cached https://files.pythonhosted.org/packages/2e/d3/b13a599d80249676f79441fe3635c8cf486d4b1c59f0b0a44e46a8b004a5/django_jsonfield-1.4.0-py2.py3-none-any.whl\n",
      "Collecting filetype==1.0.5 (from remo)\n",
      "  Using cached https://files.pythonhosted.org/packages/1c/78/047cf0f371f8faafab05b5062f902d4bedd945d436544b30db692622ab84/filetype-1.0.5-py2.py3-none-any.whl\n",
      "Collecting cryptography>=2.8 (from remo)\n",
      "  Using cached https://files.pythonhosted.org/packages/c4/78/6c28c899181c395d8e07778110caff21248ba97774e567e7f7895951d92e/cryptography-3.2.1-cp35-abi3-macosx_10_10_x86_64.whl\n",
      "Collecting django==2.2.11 (from remo)\n",
      "  Using cached https://files.pythonhosted.org/packages/be/76/7ccbcf52366590ca76997ce7860308b257b79962a4e4fada5353f72d7be5/Django-2.2.11-py3-none-any.whl\n",
      "Collecting psutil==5.6.7 (from remo)\n",
      "  Using cached https://files.pythonhosted.org/packages/73/93/4f8213fbe66fc20cb904f35e6e04e20b47b85bee39845cc66a0bcf5ccdcb/psutil-5.6.7.tar.gz\n",
      "Collecting ijson==2.6.1 (from remo)\n",
      "  Downloading https://files.pythonhosted.org/packages/fc/d8/8966b7f32166e04a336a35a49867b39e45f92e3d34849b5f4a3aa3a3b4ce/ijson-2.6.1-cp37-cp37m-macosx_10_6_x86_64.whl\n",
      "Collecting django-environ==0.4.5 (from remo)\n",
      "  Using cached https://files.pythonhosted.org/packages/9f/32/76295a1a5d00bf556c495216581c6997e7fa5f533b2229e0a9d6cbaa95ae/django_environ-0.4.5-py2.py3-none-any.whl\n",
      "Collecting django-querysetsequence==0.12 (from remo)\n",
      "  Using cached https://files.pythonhosted.org/packages/25/bd/3ef580dc7a65a99ee04d12918db2075f0e49fb1399fb64b4cc4b93afab1b/django_querysetsequence-0.12-py2.py3-none-any.whl\n",
      "Collecting django-spa==0.3.5 (from remo)\n",
      "  Using cached https://files.pythonhosted.org/packages/72/bc/1f90b0c501cef86d71a61cce3cabbf1f4e4d4b4db36981077522b2dc0f7e/django_spa-0.3.5-py2.py3-none-any.whl\n",
      "Collecting remo-python>=0.1.14 (from remo)\n",
      "  Using cached https://files.pythonhosted.org/packages/0c/ee/a85556d06766f648f51a987cd13ed2c25f0140515150efcd914d4f8419b6/remo_python-0.1.14-py3-none-any.whl\n",
      "Collecting python3-openid>=3.0.8 (from django-allauth==0.41.0->remo)\n",
      "  Using cached https://files.pythonhosted.org/packages/e0/a5/c6ba13860bdf5525f1ab01e01cc667578d6f1efc8a1dba355700fb04c29b/python3_openid-3.2.0-py3-none-any.whl\n",
      "Collecting requests-oauthlib>=0.3.0 (from django-allauth==0.41.0->remo)\n",
      "  Using cached https://files.pythonhosted.org/packages/a3/12/b92740d845ab62ea4edf04d2f4164d82532b5a0b03836d4d4e71c6f3d379/requests_oauthlib-1.3.0-py2.py3-none-any.whl\n",
      "Collecting python-http-client>=3.0 (from sendgrid==6.0.5->remo)\n",
      "  Using cached https://files.pythonhosted.org/packages/d9/93/fffa7a16e735ae8b946a58e2521e71180803440edc2a0de0d2e9d4a93b84/python_http_client-3.3.1.tar.gz\n",
      "Requirement already satisfied: six in /Users/robin/Github/deepstack-python/venv/lib/python3.7/site-packages (from djangorestframework-csv==2.1.0->remo) (1.14.0)\n",
      "Collecting unicodecsv (from djangorestframework-csv==2.1.0->remo)\n",
      "  Using cached https://files.pythonhosted.org/packages/6f/a4/691ab63b17505a26096608cc309960b5a6bdf39e4ba1a793d5f9b1a53270/unicodecsv-0.14.1.tar.gz\n",
      "Collecting idna<2.9,>=2.5 (from requests==2.22.0->remo)\n",
      "  Using cached https://files.pythonhosted.org/packages/14/2c/cd551d81dbe15200be1cf41cd03869a46fe7226e7450af7a6545bfc474c9/idna-2.8-py2.py3-none-any.whl\n",
      "Requirement already satisfied: chardet<3.1.0,>=3.0.2 in /Users/robin/Github/deepstack-python/venv/lib/python3.7/site-packages (from requests==2.22.0->remo) (3.0.4)\n",
      "Requirement already satisfied: urllib3!=1.25.0,!=1.25.1,<1.26,>=1.21.1 in /Users/robin/Github/deepstack-python/venv/lib/python3.7/site-packages (from requests==2.22.0->remo) (1.25.9)\n",
      "Collecting cffi>=1.0.0 (from pyvips==2.1.8->remo)\n",
      "\u001b[?25l  Downloading https://files.pythonhosted.org/packages/c9/b3/39687d321725baf7f831c5868b6ba44922f5693947bf0e8a0110cffd7fb4/cffi-1.14.4-cp37-cp37m-macosx_10_9_x86_64.whl (176kB)\n",
      "\u001b[K    100% |████████████████████████████████| 184kB 3.1MB/s \n",
      "\u001b[?25hRequirement already satisfied: click<7.2.0,>=7.1.1 in /Users/robin/Github/deepstack-python/venv/lib/python3.7/site-packages (from typer==0.1.1->remo) (7.1.2)\n",
      "Collecting pytz (from django==2.2.11->remo)\n",
      "  Using cached https://files.pythonhosted.org/packages/12/f8/ff09af6ff61a3efaad5f61ba5facdf17e7722c4393f7d8a66674d2dbd29f/pytz-2020.4-py2.py3-none-any.whl\n",
      "Collecting sqlparse (from django==2.2.11->remo)\n",
      "  Using cached https://files.pythonhosted.org/packages/14/05/6e8eb62ca685b10e34051a80d7ea94b7137369d8c0be5c3b9d9b6e3f5dae/sqlparse-0.4.1-py3-none-any.whl\n",
      "Requirement already satisfied: defusedxml in /Users/robin/Github/deepstack-python/venv/lib/python3.7/site-packages (from python3-openid>=3.0.8->django-allauth==0.41.0->remo) (0.6.0)\n",
      "Collecting oauthlib>=3.0.0 (from requests-oauthlib>=0.3.0->django-allauth==0.41.0->remo)\n",
      "  Using cached https://files.pythonhosted.org/packages/05/57/ce2e7a8fa7c0afb54a0581b14a65b56e62b5759dbc98e80627142b8a3704/oauthlib-3.1.0-py2.py3-none-any.whl\n",
      "Collecting pycparser (from cffi>=1.0.0->pyvips==2.1.8->remo)\n",
      "  Using cached https://files.pythonhosted.org/packages/ae/e7/d9c3a176ca4b02024debf82342dab36efadfc5776f9c8db077e8f6e71821/pycparser-2.20-py2.py3-none-any.whl\n",
      "Installing collected packages: pytz, sqlparse, django, python3-openid, idna, requests, oauthlib, requests-oauthlib, django-allauth, python-http-client, sendgrid, djangorestframework, unicodecsv, djangorestframework-csv, django-filter, drf-nested-routers, iso8601, pycparser, cffi, pyvips, django-rest-auth, typer, whitenoise, waitress, django-jsonfield, filetype, cryptography, psutil, ijson, django-environ, django-querysetsequence, django-spa, remo-python, remo\n",
      "  Found existing installation: idna 2.9\n",
      "    Uninstalling idna-2.9:\n",
      "      Successfully uninstalled idna-2.9\n",
      "  Found existing installation: requests 2.23.0\n",
      "    Uninstalling requests-2.23.0:\n",
      "      Successfully uninstalled requests-2.23.0\n",
      "  Running setup.py install for django-allauth ... \u001b[?25ldone\n",
      "\u001b[?25h  Running setup.py install for python-http-client ... \u001b[?25ldone\n",
      "\u001b[?25h  Running setup.py install for unicodecsv ... \u001b[?25ldone\n",
      "\u001b[?25h  Running setup.py install for djangorestframework-csv ... \u001b[?25ldone\n",
      "\u001b[?25h  Running setup.py install for pyvips ... \u001b[?25ldone\n",
      "\u001b[?25h  Running setup.py install for django-rest-auth ... \u001b[?25ldone\n",
      "\u001b[?25h  Running setup.py install for psutil ... \u001b[?25ldone\n",
      "\u001b[?25hSuccessfully installed cffi-1.14.4 cryptography-3.2.1 django-2.2.11 django-allauth-0.41.0 django-environ-0.4.5 django-filter-2.2.0 django-jsonfield-1.4.0 django-querysetsequence-0.12 django-rest-auth-0.9.5 django-spa-0.3.5 djangorestframework-3.11.0 djangorestframework-csv-2.1.0 drf-nested-routers-0.91 filetype-1.0.5 idna-2.8 ijson-2.6.1 iso8601-0.1.12 oauthlib-3.1.0 psutil-5.6.7 pycparser-2.20 python-http-client-3.3.1 python3-openid-3.2.0 pytz-2020.4 pyvips-2.1.8 remo-0.5.7 remo-python-0.1.14 requests-2.22.0 requests-oauthlib-1.3.0 sendgrid-6.0.5 sqlparse-0.4.1 typer-0.1.1 unicodecsv-0.14.1 waitress-1.4.3 whitenoise-5.0.1\n",
      "\u001b[33mYou are using pip version 10.0.1, however version 20.3.1 is available.\n",
      "You should consider upgrading via the 'pip install --upgrade pip' command.\u001b[0m\n"
     ]
    }
   ],
   "source": [
    "!pip install remo"
   ]
  },
  {
   "cell_type": "code",
   "execution_count": 4,
   "metadata": {},
   "outputs": [
    {
     "output_type": "stream",
     "name": "stdout",
     "text": [
      "Collecting pandas\n",
      "\u001b[?25l  Downloading https://files.pythonhosted.org/packages/b5/ac/5ec0601ce698235cad8559dfe0ae5ace903a359d617a8c4c033f9879faf8/pandas-1.1.5-cp37-cp37m-macosx_10_9_x86_64.whl (10.0MB)\n",
      "\u001b[K    100% |████████████████████████████████| 10.0MB 2.4MB/s \n",
      "\u001b[?25hRequirement already satisfied: python-dateutil>=2.7.3 in /Users/robin/Github/deepstack-python/venv/lib/python3.7/site-packages (from pandas) (2.8.1)\n",
      "Requirement already satisfied: numpy>=1.15.4 in /Users/robin/Github/deepstack-python/venv/lib/python3.7/site-packages (from pandas) (1.18.4)\n",
      "Requirement already satisfied: pytz>=2017.2 in /Users/robin/Github/deepstack-python/venv/lib/python3.7/site-packages (from pandas) (2020.4)\n",
      "Requirement already satisfied: six>=1.5 in /Users/robin/Github/deepstack-python/venv/lib/python3.7/site-packages (from python-dateutil>=2.7.3->pandas) (1.14.0)\n",
      "Installing collected packages: pandas\n",
      "Successfully installed pandas-1.1.5\n",
      "\u001b[33mYou are using pip version 10.0.1, however version 20.3.1 is available.\n",
      "You should consider upgrading via the 'pip install --upgrade pip' command.\u001b[0m\n"
     ]
    }
   ],
   "source": [
    "!pip install pandas"
   ]
  },
  {
   "cell_type": "code",
   "execution_count": 1,
   "metadata": {},
   "outputs": [
    {
     "output_type": "stream",
     "name": "stdout",
     "text": [
      "Warning: Can't find a running remo app. \nTo start a local server: 'python -m remo_app' and then run remo.connect(). \nYou can also use 'remo.connect()' to connect to a remote server\n"
     ]
    }
   ],
   "source": [
    "import remo\n",
    "import pandas as pd\n"
   ]
  },
  {
   "cell_type": "code",
   "execution_count": null,
   "metadata": {},
   "outputs": [],
   "source": []
  },
  {
   "cell_type": "code",
   "execution_count": 7,
   "metadata": {},
   "outputs": [
    {
     "output_type": "error",
     "ename": "TypeError",
     "evalue": "expected str, bytes or os.PathLike object, not NoneType",
     "traceback": [
      "\u001b[0;31m---------------------------------------------------------------------------\u001b[0m",
      "\u001b[0;31mTypeError\u001b[0m                                 Traceback (most recent call last)",
      "\u001b[0;32m<ipython-input-7-c6d3cc660e11>\u001b[0m in \u001b[0;36m<module>\u001b[0;34m\u001b[0m\n\u001b[1;32m      3\u001b[0m \u001b[0musername\u001b[0m \u001b[0;34m=\u001b[0m \u001b[0;34m'admin'\u001b[0m\u001b[0;34m\u001b[0m\u001b[0m\n\u001b[1;32m      4\u001b[0m \u001b[0mpassword\u001b[0m \u001b[0;34m=\u001b[0m \u001b[0;34m'adminpass'\u001b[0m\u001b[0;34m\u001b[0m\u001b[0m\n\u001b[0;32m----> 5\u001b[0;31m \u001b[0mremo\u001b[0m\u001b[0;34m.\u001b[0m\u001b[0mconnect\u001b[0m\u001b[0;34m(\u001b[0m\u001b[0maddress\u001b[0m\u001b[0;34m,\u001b[0m\u001b[0musername\u001b[0m\u001b[0;34m,\u001b[0m\u001b[0mpassword\u001b[0m\u001b[0;34m)\u001b[0m\u001b[0;34m\u001b[0m\u001b[0m\n\u001b[0m",
      "\u001b[0;32m~/Github/deepstack-python/venv/lib/python3.7/site-packages/remo/__init__.py\u001b[0m in \u001b[0;36mconnect\u001b[0;34m(server, email, password, viewer, remo_home)\u001b[0m\n\u001b[1;32m     25\u001b[0m         \u001b[0mset_remo_home_from_default_remo_config\u001b[0m\u001b[0;34m(\u001b[0m\u001b[0;34m)\u001b[0m\u001b[0;34m\u001b[0m\u001b[0m\n\u001b[1;32m     26\u001b[0m \u001b[0;34m\u001b[0m\u001b[0m\n\u001b[0;32m---> 27\u001b[0;31m     \u001b[0mconfig\u001b[0m \u001b[0;34m=\u001b[0m \u001b[0mConfig\u001b[0m\u001b[0;34m.\u001b[0m\u001b[0mload\u001b[0m\u001b[0;34m(\u001b[0m\u001b[0;34m)\u001b[0m\u001b[0;34m\u001b[0m\u001b[0m\n\u001b[0m\u001b[1;32m     28\u001b[0m     \u001b[0;32mif\u001b[0m \u001b[0;32mnot\u001b[0m \u001b[0;34m(\u001b[0m\u001b[0mserver\u001b[0m \u001b[0;32mand\u001b[0m \u001b[0memail\u001b[0m \u001b[0;32mand\u001b[0m \u001b[0mpassword\u001b[0m\u001b[0;34m)\u001b[0m\u001b[0;34m:\u001b[0m\u001b[0;34m\u001b[0m\u001b[0m\n\u001b[1;32m     29\u001b[0m         \u001b[0mserver\u001b[0m\u001b[0;34m,\u001b[0m \u001b[0memail\u001b[0m\u001b[0;34m,\u001b[0m \u001b[0mpassword\u001b[0m \u001b[0;34m=\u001b[0m \u001b[0mconfig\u001b[0m\u001b[0;34m.\u001b[0m\u001b[0mserver_url\u001b[0m\u001b[0;34m(\u001b[0m\u001b[0;34m)\u001b[0m\u001b[0;34m,\u001b[0m \u001b[0mconfig\u001b[0m\u001b[0;34m.\u001b[0m\u001b[0muser_email\u001b[0m\u001b[0;34m,\u001b[0m \u001b[0mconfig\u001b[0m\u001b[0;34m.\u001b[0m\u001b[0muser_password\u001b[0m\u001b[0;34m\u001b[0m\u001b[0m\n",
      "\u001b[0;32m~/Github/deepstack-python/venv/lib/python3.7/site-packages/remo/config.py\u001b[0m in \u001b[0;36mload\u001b[0;34m(config_path)\u001b[0m\n\u001b[1;32m     70\u001b[0m     \u001b[0;32mdef\u001b[0m \u001b[0mload\u001b[0m\u001b[0;34m(\u001b[0m\u001b[0mconfig_path\u001b[0m\u001b[0;34m:\u001b[0m \u001b[0mstr\u001b[0m \u001b[0;34m=\u001b[0m \u001b[0;32mNone\u001b[0m\u001b[0;34m)\u001b[0m\u001b[0;34m:\u001b[0m\u001b[0;34m\u001b[0m\u001b[0m\n\u001b[1;32m     71\u001b[0m         \u001b[0;32mif\u001b[0m \u001b[0;32mnot\u001b[0m \u001b[0mconfig_path\u001b[0m\u001b[0;34m:\u001b[0m\u001b[0;34m\u001b[0m\u001b[0m\n\u001b[0;32m---> 72\u001b[0;31m             \u001b[0mconfig_path\u001b[0m \u001b[0;34m=\u001b[0m \u001b[0mstr\u001b[0m\u001b[0;34m(\u001b[0m\u001b[0mos\u001b[0m\u001b[0;34m.\u001b[0m\u001b[0mpath\u001b[0m\u001b[0;34m.\u001b[0m\u001b[0mjoin\u001b[0m\u001b[0;34m(\u001b[0m\u001b[0mget_remo_home\u001b[0m\u001b[0;34m(\u001b[0m\u001b[0;34m)\u001b[0m\u001b[0;34m,\u001b[0m \u001b[0mConfig\u001b[0m\u001b[0;34m.\u001b[0m\u001b[0mname\u001b[0m\u001b[0;34m)\u001b[0m\u001b[0;34m)\u001b[0m\u001b[0;34m\u001b[0m\u001b[0m\n\u001b[0m\u001b[1;32m     73\u001b[0m \u001b[0;34m\u001b[0m\u001b[0m\n\u001b[1;32m     74\u001b[0m         \u001b[0;32mif\u001b[0m \u001b[0;32mnot\u001b[0m \u001b[0mos\u001b[0m\u001b[0;34m.\u001b[0m\u001b[0mpath\u001b[0m\u001b[0;34m.\u001b[0m\u001b[0mexists\u001b[0m\u001b[0;34m(\u001b[0m\u001b[0mconfig_path\u001b[0m\u001b[0;34m)\u001b[0m\u001b[0;34m:\u001b[0m\u001b[0;34m\u001b[0m\u001b[0m\n",
      "\u001b[0;32m/Library/Frameworks/Python.framework/Versions/3.7/lib/python3.7/posixpath.py\u001b[0m in \u001b[0;36mjoin\u001b[0;34m(a, *p)\u001b[0m\n\u001b[1;32m     78\u001b[0m     \u001b[0mwill\u001b[0m \u001b[0mbe\u001b[0m \u001b[0mdiscarded\u001b[0m\u001b[0;34m.\u001b[0m  \u001b[0mAn\u001b[0m \u001b[0mempty\u001b[0m \u001b[0mlast\u001b[0m \u001b[0mpart\u001b[0m \u001b[0mwill\u001b[0m \u001b[0mresult\u001b[0m \u001b[0;32min\u001b[0m \u001b[0ma\u001b[0m \u001b[0mpath\u001b[0m \u001b[0mthat\u001b[0m\u001b[0;34m\u001b[0m\u001b[0m\n\u001b[1;32m     79\u001b[0m     ends with a separator.\"\"\"\n\u001b[0;32m---> 80\u001b[0;31m     \u001b[0ma\u001b[0m \u001b[0;34m=\u001b[0m \u001b[0mos\u001b[0m\u001b[0;34m.\u001b[0m\u001b[0mfspath\u001b[0m\u001b[0;34m(\u001b[0m\u001b[0ma\u001b[0m\u001b[0;34m)\u001b[0m\u001b[0;34m\u001b[0m\u001b[0m\n\u001b[0m\u001b[1;32m     81\u001b[0m     \u001b[0msep\u001b[0m \u001b[0;34m=\u001b[0m \u001b[0m_get_sep\u001b[0m\u001b[0;34m(\u001b[0m\u001b[0ma\u001b[0m\u001b[0;34m)\u001b[0m\u001b[0;34m\u001b[0m\u001b[0m\n\u001b[1;32m     82\u001b[0m     \u001b[0mpath\u001b[0m \u001b[0;34m=\u001b[0m \u001b[0ma\u001b[0m\u001b[0;34m\u001b[0m\u001b[0m\n",
      "\u001b[0;31mTypeError\u001b[0m: expected str, bytes or os.PathLike object, not NoneType"
     ]
    }
   ],
   "source": [
    "\n",
    "# from remo.json\n",
    "address = 'http://localhost'\n",
    "username = 'admin'\n",
    "password = 'adminpass'\n",
    "remo.connect(address,username,password)"
   ]
  },
  {
   "cell_type": "code",
   "execution_count": null,
   "metadata": {},
   "outputs": [],
   "source": [
    "remo.list_datasets()"
   ]
  },
  {
   "cell_type": "code",
   "execution_count": 8,
   "metadata": {},
   "outputs": [
    {
     "output_type": "error",
     "ename": "AttributeError",
     "evalue": "module 'remo' has no attribute 'set_viewer'",
     "traceback": [
      "\u001b[0;31m---------------------------------------------------------------------------\u001b[0m",
      "\u001b[0;31mAttributeError\u001b[0m                            Traceback (most recent call last)",
      "\u001b[0;32m<ipython-input-8-3f08932c9dac>\u001b[0m in \u001b[0;36m<module>\u001b[0;34m\u001b[0m\n\u001b[1;32m      1\u001b[0m \u001b[0;31m# To seamlessly use Remo within the Jupyter Notebook, use the following setting\u001b[0m\u001b[0;34m\u001b[0m\u001b[0;34m\u001b[0m\u001b[0m\n\u001b[0;32m----> 2\u001b[0;31m \u001b[0mremo\u001b[0m\u001b[0;34m.\u001b[0m\u001b[0mset_viewer\u001b[0m\u001b[0;34m(\u001b[0m\u001b[0;34m'jupyter'\u001b[0m\u001b[0;34m)\u001b[0m\u001b[0;34m\u001b[0m\u001b[0m\n\u001b[0m",
      "\u001b[0;31mAttributeError\u001b[0m: module 'remo' has no attribute 'set_viewer'"
     ]
    }
   ],
   "source": [
    "# To seamlessly use Remo within the Jupyter Notebook, use the following setting\n",
    "remo.set_viewer('jupyter')"
   ]
  },
  {
   "cell_type": "code",
   "execution_count": null,
   "metadata": {},
   "outputs": [],
   "source": []
  }
 ]
}