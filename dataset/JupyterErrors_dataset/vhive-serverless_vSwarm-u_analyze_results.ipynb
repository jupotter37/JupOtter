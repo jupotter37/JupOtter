{
 "cells": [
  {
   "cell_type": "markdown",
   "metadata": {},
   "source": [
    "# Analyze the Result of gem5 Experiments\n",
    "\n",
    "This notebook aims to get you started with processing the results from the gem5 simulations."
   ]
  },
  {
   "cell_type": "code",
   "execution_count": 1,
   "metadata": {},
   "outputs": [],
   "source": [
    "import gem5_utils as gu\n",
    "import pandas as pd"
   ]
  },
  {
   "cell_type": "markdown",
   "metadata": {},
   "source": [
    "First define the results directory and the functions you have benchmarked and for which you want to analyze the results"
   ]
  },
  {
   "cell_type": "code",
   "execution_count": 9,
   "metadata": {},
   "outputs": [],
   "source": [
    "\n",
    "\n",
    "results_path = \"../wkdir/results/\"\n",
    "\n",
    "benchmarks = [\n",
    "    \"fibonacci-go\",\n",
    "    \"fibonacci-nodejs\",\n",
    "    # \"fibonacci-python\",\n",
    "]\n",
    "\n",
    "## Read raw data\n",
    "raw_data = []\n",
    "for benchmark in benchmarks:\n",
    "    dir = \"{}/{}\".format(results_path, benchmark)\n",
    "    raw_data.append(gu.parse_result(dir,benchmark=benchmark))\n"
   ]
  },
  {
   "cell_type": "markdown",
   "metadata": {},
   "source": [
    "### Structure of the raw data:\n",
    "The `parse_results` function in the `gem5utils` module will read the three folders of the fibonacci functions, parse the `stats.txt` and `config.json` files and will put everything together in a list of `ExperimentResults`:\n",
    "\n",
    "```python\n",
    "class ExperimentResults:\n",
    "    def __init__(self, configs, stats, props):\n",
    "        self.configs = configs\n",
    "        self.stats = stats\n",
    "        self.props = props\n",
    "```\n",
    "The each `ExperimentResults` has three subclasses. ExperimentConfigs containers the configuration parsed from the config.json, the ExperimentStats from the `stats.txt` file and an additional properties `dict` for maintaining useful information's like the benchmarks name or other things you can specify. You can populate properties while parsing with the `**props` argument.\n",
    "\n",
    "For more details refer to the `analysis/gem5utils.py` file.\n",
    "\n",
    "### Extract statistics from raw data\n",
    "The raw data are nice to have but not very useful. For further processing we want to extract some interesting once.\n",
    "To extract statistics we need to define a list in the form of `(<Name>,<lamda function for extraction>,<data type>)`. Here an example where we want to extract instructions cycles and IPC/CPI from the raw."
   ]
  },
  {
   "cell_type": "code",
   "execution_count": 10,
   "metadata": {},
   "outputs": [],
   "source": [
    "dump_number = 0\n",
    "stats_per_core_model = {\n",
    "    \"simple\" :  [\n",
    "        ('Benchmark', lambda r: r.props['benchmark'], str),\n",
    "        ('Cycles', lambda r: r.stats[dump_number]['system.cpu1.numCycles'], int),\n",
    "        ('Instructions', lambda r: r.stats[dump_number]['system.cpu1.exec_context.thread_0.numInsts'], int),\n",
    "        ('IPC', lambda r: r.stats[dump_number]['system.cpu1.ipc'], float),\n",
    "        ('CPI', lambda r: r.stats[dump_number]['system.cpu1.cpi'], float),\n",
    "    ],\n",
    "    \"detailed\" :  [\n",
    "        ('Benchmark', lambda r: r.props['benchmark'], str),\n",
    "        ('Cycles', lambda r: r.stats[dump_number]['system.cpu1.numCycles'], int),\n",
    "        ('Instructions', lambda r: r.stats[dump_number]['system.cpu1.numInsts'], int),\n",
    "        ('IPC', lambda r: r.stats[dump_number]['system.cpu1.ipc'], float),\n",
    "        ('CPI', lambda r: r.stats[dump_number]['system.cpu1.cpi'], float),\n",
    "    ]\n",
    "}\n",
    "\n",
    "stats=stats_per_core_model[\"simple\"]"
   ]
  },
  {
   "cell_type": "markdown",
   "metadata": {},
   "source": [
    "> Note that the stats are different depending on the core model that was used for simulation.\n",
    "> - `simple` is for the AtomicSimpleCPU and the TimingSimpleCPU in gem5\n",
    "> - `detailed` for the detailed OoO core model.\n",
    "\n",
    ">Note further that the stats.txt contains a list of dumps. The `dump_number` specify which dump to use.\n",
    "\n",
    "Once the statistics are defined they can be extracted from the raw data using the `to_pandas(<raw/data>,<stats_to_extract>)` function."
   ]
  },
  {
   "cell_type": "code",
   "execution_count": 11,
   "metadata": {},
   "outputs": [
    {
     "data": {
      "text/html": [
       "<div>\n",
       "<style scoped>\n",
       "    .dataframe tbody tr th:only-of-type {\n",
       "        vertical-align: middle;\n",
       "    }\n",
       "\n",
       "    .dataframe tbody tr th {\n",
       "        vertical-align: top;\n",
       "    }\n",
       "\n",
       "    .dataframe thead th {\n",
       "        text-align: right;\n",
       "    }\n",
       "</style>\n",
       "<table border=\"1\" class=\"dataframe\">\n",
       "  <thead>\n",
       "    <tr style=\"text-align: right;\">\n",
       "      <th></th>\n",
       "      <th>Benchmark</th>\n",
       "      <th>Cycles</th>\n",
       "      <th>Instructions</th>\n",
       "      <th>IPC</th>\n",
       "      <th>CPI</th>\n",
       "    </tr>\n",
       "  </thead>\n",
       "  <tbody>\n",
       "    <tr>\n",
       "      <th>0</th>\n",
       "      <td>fibonacci-go</td>\n",
       "      <td>4916341</td>\n",
       "      <td>377032</td>\n",
       "      <td>NaN</td>\n",
       "      <td>NaN</td>\n",
       "    </tr>\n",
       "    <tr>\n",
       "      <th>1</th>\n",
       "      <td>fibonacci-nodejs</td>\n",
       "      <td>7739711</td>\n",
       "      <td>376208</td>\n",
       "      <td>NaN</td>\n",
       "      <td>NaN</td>\n",
       "    </tr>\n",
       "  </tbody>\n",
       "</table>\n",
       "</div>"
      ],
      "text/plain": [
       "          Benchmark   Cycles  Instructions  IPC  CPI\n",
       "0      fibonacci-go  4916341        377032  NaN  NaN\n",
       "1  fibonacci-nodejs  7739711        376208  NaN  NaN"
      ]
     },
     "execution_count": 11,
     "metadata": {},
     "output_type": "execute_result"
    }
   ],
   "source": [
    "# Extract the statistics from the raw data and convert the data types\n",
    "df = gu.to_pandas(raw_data, stats)\n",
    "# If needed write the data as csv file\n",
    "df.to_csv(results_path + '/results.csv')\n",
    "df"
   ]
  },
  {
   "cell_type": "markdown",
   "metadata": {},
   "source": [
    "### Plot results\n",
    "Pandas data frames have nice abilities to [plot](https://pandas.pydata.org/pandas-docs/stable/reference/api/pandas.DataFrame.plot.html) data. Plotting graphs is out of scope of this documentation and we refer to other documentations.\n",
    "\n",
    "Here just an example to plot the stats as bar plot"
   ]
  },
  {
   "cell_type": "code",
   "execution_count": 5,
   "metadata": {},
   "outputs": [
    {
     "ename": "NameError",
     "evalue": "name 'df' is not defined",
     "output_type": "error",
     "traceback": [
      "\u001b[0;31m---------------------------------------------------------------------------\u001b[0m",
      "\u001b[0;31mNameError\u001b[0m                                 Traceback (most recent call last)",
      "Cell \u001b[0;32mIn [5], line 1\u001b[0m\n\u001b[0;32m----> 1\u001b[0m \u001b[43mdf\u001b[49m\u001b[38;5;241m.\u001b[39mplot\u001b[38;5;241m.\u001b[39mbar(x\u001b[38;5;241m=\u001b[39m\u001b[38;5;124m'\u001b[39m\u001b[38;5;124mBenchmark\u001b[39m\u001b[38;5;124m'\u001b[39m,rot\u001b[38;5;241m=\u001b[39m\u001b[38;5;241m0\u001b[39m,subplots\u001b[38;5;241m=\u001b[39m\u001b[38;5;28;01mTrue\u001b[39;00m, figsize\u001b[38;5;241m=\u001b[39m(\u001b[38;5;241m8\u001b[39m,\u001b[38;5;241m8\u001b[39m), grid\u001b[38;5;241m=\u001b[39m\u001b[38;5;28;01mTrue\u001b[39;00m)\n",
      "\u001b[0;31mNameError\u001b[0m: name 'df' is not defined"
     ]
    }
   ],
   "source": [
    "df.plot.bar(x='Benchmark',rot=0,subplots=True, figsize=(8,8), grid=True)"
   ]
  }
 ],
 "metadata": {
  "interpreter": {
   "hash": "31f2aee4e71d21fbe5cf8b01ff0e069b9275f58929596ceb00d14d90e3e16cd6"
  },
  "kernelspec": {
   "display_name": "Python 3.8.10 64-bit",
   "language": "python",
   "name": "python3"
  },
  "language_info": {
   "codemirror_mode": {
    "name": "ipython",
    "version": 3
   },
   "file_extension": ".py",
   "mimetype": "text/x-python",
   "name": "python",
   "nbconvert_exporter": "python",
   "pygments_lexer": "ipython3",
   "version": "3.8.10"
  },
  "orig_nbformat": 4
 },
 "nbformat": 4,
 "nbformat_minor": 2
}
