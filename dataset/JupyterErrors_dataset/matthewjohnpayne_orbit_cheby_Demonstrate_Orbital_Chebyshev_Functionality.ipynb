{
 "cells": [
  {
   "cell_type": "markdown",
   "metadata": {},
   "source": [
    "# Demonstrations of Orbit_Cheby Functionality\n",
    "\n",
    " - This notebook contains a mixture of demos of finished code, as well as WIP experimentation with ways to speed-up the code "
   ]
  },
  {
   "cell_type": "code",
   "execution_count": 1,
   "metadata": {},
   "outputs": [
    {
     "name": "stdout",
     "output_type": "stream",
     "text": [
      " HEAD_DIR: /Users/matthewjohnpayne/Envs/cheby_checker \n"
     ]
    },
    {
     "data": {
      "text/plain": [
       "<module 'cheby_checker.nbody_reader' from '/Users/matthewjohnpayne/Envs/cheby_checker/cheby_checker/nbody_reader.py'>"
      ]
     },
     "execution_count": 1,
     "metadata": {},
     "output_type": "execute_result"
    }
   ],
   "source": [
    "import time\n",
    "import numpy as np\n",
    "import scipy.stats as stats\n",
    "import math\n",
    "import random\n",
    "from collections import defaultdict\n",
    "import os\n",
    "import sys\n",
    "from collections import Counter\n",
    "import glob \n",
    "import warnings\n",
    "import warnings\n",
    "warnings.filterwarnings('ignore')\n",
    "import matplotlib.pyplot as plt\n",
    "import importlib\n",
    "from astropy.time import Time\n",
    "\n",
    "# -------------------------------------------------------------------------------------\n",
    "# Local imports\n",
    "# -------------------------------------------------------------------------------------\n",
    "\n",
    "# parent directory is */cheby_checker\n",
    "HEAD_DIR = os.path.dirname(os.path.realpath(os.getcwd())) \n",
    "sys.path.append(os.path.join(HEAD_DIR))\n",
    "print(f' HEAD_DIR: {HEAD_DIR} ')\n",
    "\n",
    "# import nbody-related code from main cheby_checker directory\n",
    "# - use this code to get the results of an nbody run ... \n",
    "# - see *Demonstate_Functionality_mpc_nbody.ipynb* for more details \n",
    "from cheby_checker import mpc_nbody, parse_input\n",
    "importlib.reload(mpc_nbody)\n",
    "\n",
    "# orbit_cheby & nbody_reader imports \n",
    "# - this is the actual code we are demonstrating\n",
    "from cheby_checker import orbit_cheby\n",
    "from cheby_checker import nbody_reader\n",
    "importlib.reload(orbit_cheby)\n",
    "importlib.reload(nbody_reader)\n"
   ]
  },
  {
   "cell_type": "code",
   "execution_count": 2,
   "metadata": {},
   "outputs": [
    {
     "name": "stdout",
     "output_type": "stream",
     "text": [
      " DATA_DIR: /Users/matthewjohnpayne/Envs/cheby_checker/dev_data \n"
     ]
    }
   ],
   "source": [
    "# directory with sample data for development\n",
    "DATA_DIR = os.path.join(HEAD_DIR, 'dev_data')\n",
    "print(f' DATA_DIR: {DATA_DIR} ')\n",
    "\n",
    "payne_file = os.path.join(DATA_DIR, '2022AA_demo.txt')\n",
    "mike_file = os.path.join(DATA_DIR, 'simulation_states.dat')"
   ]
  },
  {
   "cell_type": "markdown",
   "metadata": {},
   "source": [
    "#### Sample NBody Data\n",
    " - We need to have some data to apply orbit_cheby to ...\n",
    " - We can use the mpc_nbody module to supply these...\n",
    " - see *Demonstate_Functionality_mpc_nbody.ipynb* for more details \n"
   ]
  },
  {
   "cell_type": "code",
   "execution_count": 3,
   "metadata": {},
   "outputs": [
    {
     "name": "stdout",
     "output_type": "stream",
     "text": [
      "\n",
      "\n",
      "<class 'cheby_checker.mpc_nbody.NbodySim'>\n",
      "item:type = ('pparticle', <class 'cheby_checker.parse_input.ParseElements'>) \n",
      "item:type = ('geocentric', <class 'bool'>) \n",
      "item:type = ('input_vectors', <class 'numpy.ndarray'>) \n",
      "item:type = ('input_n_particles', <class 'int'>) \n",
      "item:type = ('output_times', <class 'numpy.ndarray'>) \n",
      "item:type = ('output_vectors', <class 'numpy.ndarray'>) \n",
      "item:type = ('output_n_times', <class 'int'>) \n",
      "item:type = ('output_n_particles', <class 'int'>) \n",
      "item:type = ('time_parameters', <class 'list'>) \n"
     ]
    }
   ],
   "source": [
    "# Sample NBody Data\n",
    "# - We use the *mpc_nbody* routine to get the results of an nbody run ... \n",
    "# - see *Demonstate_Functionality_mpc_nbody.ipynb* for more details \n",
    "importlib.reload(mpc_nbody)\n",
    "\n",
    "# Define some files that have data in them \n",
    "filenames = [os.path.join(DATA_DIR, file)\n",
    "              for file in ['30101.eq0_horizons', '30102.eq0_horizons']]\n",
    "\n",
    "# First, let's initiate the class with an input file:\n",
    "Sim = mpc_nbody.NbodySim(filenames[0], 'eq')\n",
    "\n",
    "# Now run the integrator, by calling the object. \n",
    "Sim(tstep=20, trange=1000)\n",
    "\n",
    "#The results are all available inside the object now:\n",
    "print(type(Sim))\n",
    "for item in Sim.__dict__ : print(f'item:type = {item, type(Sim.__dict__[item])} ')"
   ]
  },
  {
   "cell_type": "markdown",
   "metadata": {},
   "source": [
    "##### plot the XYZ coords before doing anything with cheby's ..."
   ]
  },
  {
   "cell_type": "code",
   "execution_count": 4,
   "metadata": {},
   "outputs": [
    {
     "name": "stdout",
     "output_type": "stream",
     "text": [
      "Data shape: (544, 1, 6)\n",
      "time shape: (544,)\n",
      "Average timestep: 1.8510914333241872 days\n"
     ]
    },
    {
     "data": {
      "image/png": "[encoded data removed]",
      "text/plain": [
       "<Figure size 432x288 with 3 Axes>"
      ]
     },
     "metadata": {
      "needs_background": "light"
     },
     "output_type": "display_data"
    }
   ],
   "source": [
    "print(f\"Data shape: {np.shape(Sim.output_vectors)}\\n\"\n",
    "      f\"time shape: {np.shape(Sim.output_times)}\\n\"\n",
    "      f\"Average timestep: {np.mean(Sim.output_times[1:]-Sim.output_times[:-1])} days\")\n",
    "states = Sim.output_vectors[:,0,:]\n",
    "fig, ax = plt.subplots(2, 2, sharex='col', sharey='row')\n",
    "ax[0, 0].plot(states[:, 0], states[:, 1])\n",
    "ax[0, 0].set_ylabel('y')\n",
    "ax[1, 0].plot(states[:, 0], states[:, 2])\n",
    "ax[1, 0].set_ylabel('z')\n",
    "ax[1, 0].set_xlabel('x')\n",
    "ax[1, 1].plot(states[:, 1], states[:, 2])\n",
    "ax[1, 1].set_ylabel('z')\n",
    "ax[1, 1].set_xlabel('y')\n",
    "fig.delaxes(ax[0, 1])\n"
   ]
  },
  {
   "cell_type": "markdown",
   "metadata": {},
   "source": [
    "# High - Level Functionality : *cheby_checker.orbit_cheby*\n",
    " - Illustration of high level usage. \n",
    " - Detailed demonstrations provided lower-down ..."
   ]
  },
  {
   "cell_type": "markdown",
   "metadata": {},
   "source": [
    "## (A) Use MSC_Loader to create MSC(s) from Sim ..."
   ]
  },
  {
   "cell_type": "code",
   "execution_count": 5,
   "metadata": {},
   "outputs": [
    {
     "name": "stdout",
     "output_type": "stream",
     "text": [
      "INIT MSC_Loader...\n",
      "Populating from NbodySim : ***NO*** designation information : Using ['0']\n",
      "CPU times: user 22.1 ms, sys: 4.76 ms, total: 26.9 ms\n",
      "Wall time: 28.8 ms\n"
     ]
    }
   ],
   "source": [
    "%%time\n",
    "importlib.reload(mpc_nbody)\n",
    "importlib.reload(orbit_cheby)\n",
    "\n",
    "# Use the MSC_Loader to declare and populate a list of MSC objects direct from mpc_nbody.NbodySim object\n",
    "MSCs = orbit_cheby.MSC_Loader(NbodySim = Sim).MSCs"
   ]
  },
  {
   "cell_type": "markdown",
   "metadata": {},
   "source": [
    "## (B) Use MSC_Loader to create MSC(s) from Numpy Arrays ...\n",
    " - N.B. This example is for a single-particle load. Both single- and multi-particle loads are demonstrated in more detail in the low-level functionality section below. "
   ]
  },
  {
   "cell_type": "code",
   "execution_count": 6,
   "metadata": {},
   "outputs": [
    {
     "name": "stdout",
     "output_type": "stream",
     "text": [
      "INIT MSC_Loader...\n",
      "CPU times: user 15.8 ms, sys: 3.14 ms, total: 19 ms\n",
      "Wall time: 17.1 ms\n"
     ]
    }
   ],
   "source": [
    "%%time\n",
    "importlib.reload(mpc_nbody)\n",
    "importlib.reload(orbit_cheby)\n",
    "\n",
    "# Here we use the arrays that are already in the Sim object\n",
    "# But these could have come from anywhere: \n",
    "# - all that's important is that we have arrays of times & states ...\n",
    "name = 'name_string'\n",
    "times = Sim.output_times\n",
    "states = Sim.output_vectors\n",
    "\n",
    "# Use the MSC_Loader to declare and populate a list of MSC objects direct from mpc_nbody.NbodySim object\n",
    "MSCs = orbit_cheby.MSC_Loader(primary_unpacked_provisional_designations = name, \n",
    "                              times_TDB = times,\n",
    "                              statearray = states).MSCs"
   ]
  },
  {
   "cell_type": "markdown",
   "metadata": {},
   "source": [
    "## (C) Use MSC_Loader to create MSC(s) from Database ...\n"
   ]
  },
  {
   "cell_type": "code",
   "execution_count": null,
   "metadata": {},
   "outputs": [],
   "source": []
  },
  {
   "cell_type": "markdown",
   "metadata": {},
   "source": [
    "##### (D) MSC_Loader can be used to create MSC(s) from text files : \n",
    " - this is *not* expected to be important in regular usage, so we only describe this usage lower-down in the low-level functionality section ...  \n"
   ]
  },
  {
   "cell_type": "markdown",
   "metadata": {},
   "source": [
    "<br>\n",
    "\n",
    "<br>\n",
    "\n",
    "<br>\n",
    "\n",
    "<br>\n",
    "\n",
    "<br>\n",
    "\n",
    "\n",
    "# Low - Level Functionality : *cheby_checker.orbit_cheby*\n",
    " - Here I am assuming that the mpc_nbody module (see *Demonstate_Functionality_mpc_nbody.ipynb*) is available to supply data, and that we can now use the *orbit_cheby* routines to operate on that input nbody data, and use it to generate sets of chebyshev coefficients\n",
    " - The chebyshev coefficients are fit to \"sectors\" of data (e.g. 32-day chunks) and saved into suitable data structures \n",
    " - I experiment with dictionaries, but find that numpy arrays are better/faster (surprise surprise)"
   ]
  },
  {
   "cell_type": "markdown",
   "metadata": {},
   "source": [
    "#### (1) Declare an MSC (multi sector cheby) class object"
   ]
  },
  {
   "cell_type": "code",
   "execution_count": 7,
   "metadata": {},
   "outputs": [
    {
     "name": "stdout",
     "output_type": "stream",
     "text": [
      "<class 'cheby_checker.orbit_cheby.MSC'>\n",
      "['HP_npix', 'HP_nside', 'HP_order', 'HPix', 'JDlist', '__class__', '__delattr__', '__dict__', '__dir__', '__doc__', '__eq__', '__format__', '__ge__', '__getattribute__', '__gt__', '__hash__', '__init__', '__init_subclass__', '__le__', '__lt__', '__module__', '__ne__', '__new__', '__reduce__', '__reduce_ex__', '__repr__', '__setattr__', '__sizeof__', '__str__', '__subclasshook__', '__weakref__', '_fetch_data_directory', 'covRaDec', 'covUV', 'covXYZ', 'dRaDecdXYZ', 'dUVdXYZ', 'dXYZdt', 'db_dir', 'db_filename', 'epsilon', 'evaluate_components', 'from_coord_arrays', 'from_sector_dict', 'generate_HP', 'generate_RaDec', 'generate_UnitVector', 'generate_XYZ', 'generate_cheb_for_sector', 'get_required_sector_dict', 'get_valid_range_of_dates', 'map_JD_to_sector_number', 'map_JD_to_sector_number_and_sector_start_JD', 'map_JDtimes_to_relative_times', 'map_sector_number_to_sector_start_JD', 'maxerr', 'maxorder', 'minorder', 'primary_unpacked_provisional_designation', 'secsPerDay', 'sector_coeffs', 'sector_gap', 'sector_length_days', 'standard_MJDmax', 'standard_MJDmin']\n"
     ]
    }
   ],
   "source": [
    "importlib.reload(orbit_cheby)\n",
    "\n",
    "# Declare an MSC (multi sector cheby) class object\n",
    "M = orbit_cheby.MSC()\n",
    "\n",
    "# Print out the object-type & its attributes \n",
    "print(type(M) )\n",
    "print(dir(M))\n",
    "del M "
   ]
  },
  {
   "cell_type": "markdown",
   "metadata": {},
   "source": [
    "#### (2)  Declare an MSC_Loader class object"
   ]
  },
  {
   "cell_type": "code",
   "execution_count": 8,
   "metadata": {},
   "outputs": [
    {
     "name": "stdout",
     "output_type": "stream",
     "text": [
      "INIT MSC_Loader...\n",
      "\n",
      " ****** Defaulting to the production of a list of empty MSCs ****** \n",
      "\n",
      "\t This occurs (a) on erroneous input, and (b) when no input supplied\n",
      "\n",
      "<class 'cheby_checker.orbit_cheby.MSC_Loader'>\n",
      "['HP_npix', 'HP_nside', 'HP_order', 'HPix', 'JDlist', 'MSCs', 'NbodySim', '__class__', '__delattr__', '__dict__', '__dir__', '__doc__', '__eq__', '__format__', '__ge__', '__getattribute__', '__gt__', '__hash__', '__init__', '__init_subclass__', '__le__', '__lt__', '__module__', '__ne__', '__new__', '__reduce__', '__reduce_ex__', '__repr__', '__setattr__', '__sizeof__', '__str__', '__subclasshook__', '__weakref__', '_fetch_data_directory', '_generate_empty', '_populate_from_database', '_populate_from_nbody_array', '_populate_from_nbody_text', 'db_dir', 'db_filename', 'desig_dict', 'dict_of_dicts_coeffs', 'epsilon', 'filepath', 'get_required_sector_dict', 'map_JD_to_sector_number', 'map_JD_to_sector_number_and_sector_start_JD', 'map_JDtimes_to_relative_times', 'map_sector_number_to_sector_start_JD', 'primary_unpacked_provisional_designations', 'secsPerDay', 'sector_gap', 'sector_length_days', 'standard_MJDmax', 'standard_MJDmin', 'statearray', 'times_TDB']\n"
     ]
    }
   ],
   "source": [
    "importlib.reload(orbit_cheby)\n",
    "\n",
    "# Declare an MSC_Loader class object\n",
    "M = orbit_cheby.MSC_Loader()\n",
    "\n",
    "# Print out the object-type & its attributes \n",
    "print(type(M) )\n",
    "print(dir(M))\n",
    "del M "
   ]
  },
  {
   "cell_type": "markdown",
   "metadata": {},
   "source": [
    "#### (3)  Read data directly from array \n",
    " - In practice, we will have the data in a numpy-array anyway, direct from the nbody sim (see high-level demo above)\n",
    " - Here we prepopulate some arrays with data\n",
    " - This is *not* doing anything associated with chebyshev polynomials at this point, simply reading data into arrays"
   ]
  },
  {
   "cell_type": "markdown",
   "metadata": {},
   "source": [
    "#####  We need to get some data from file to play with ..."
   ]
  },
  {
   "cell_type": "code",
   "execution_count": 9,
   "metadata": {},
   "outputs": [
    {
     "name": "stdout",
     "output_type": "stream",
     "text": [
      "<class 'str'> nput vectors: [0.0 0.5 0.0 -0.024 0.0 0.0 \b]\n",
      "<class 'numpy.ndarray'> (1760, 6)\n",
      "<class 'numpy.ndarray'> (1760,)\n",
      "CPU times: user 25.1 ms, sys: 2.73 ms, total: 27.8 ms\n",
      "Wall time: 25.8 ms\n"
     ]
    }
   ],
   "source": [
    "%%time \n",
    "\n",
    "# Pre-populate numpy array ...\n",
    "name, times, states  = nbody_reader.parse_nbody_txt( mike_file )\n",
    "print(type(name),name)\n",
    "print(type(states), states.shape)\n",
    "print(type(times), times.shape)"
   ]
  },
  {
   "cell_type": "markdown",
   "metadata": {},
   "source": [
    "##### Plot the XYZ coords before doing anything with cheby's ..."
   ]
  },
  {
   "cell_type": "code",
   "execution_count": 10,
   "metadata": {},
   "outputs": [
    {
     "name": "stdout",
     "output_type": "stream",
     "text": [
      "Data shape: (1760, 6)\n",
      "time shape: (1760,)\n",
      "Average timestep: 0.3421301104222605 days\n"
     ]
    },
    {
     "data": {
      "image/png": "[encoded data removed]",
      "text/plain": [
       "<Figure size 432x288 with 3 Axes>"
      ]
     },
     "metadata": {
      "needs_background": "light"
     },
     "output_type": "display_data"
    }
   ],
   "source": [
    "print(f\"Data shape: {np.shape(states)}\\n\"\n",
    "      f\"time shape: {np.shape(times)}\\n\"\n",
    "      f\"Average timestep: {np.mean(times[1:]-times[:-1])} days\")\n",
    "fig, ax = plt.subplots(2, 2, sharex='col', sharey='row')\n",
    "ax[0, 0].plot(states[:, 0], states[:, 1])\n",
    "ax[0, 0].set_ylabel('y')\n",
    "ax[1, 0].plot(states[:, 0], states[:, 2])\n",
    "ax[1, 0].set_ylabel('z')\n",
    "ax[1, 0].set_xlabel('x')\n",
    "ax[1, 1].plot(states[:, 1], states[:, 2])\n",
    "ax[1, 1].set_ylabel('z')\n",
    "ax[1, 1].set_xlabel('y')\n",
    "fig.delaxes(ax[0, 1])\n",
    "#ax[0, 0].set_aspect('equal')\n",
    "#ax[1, 0].set_aspect('equal')\n",
    "#ax[1, 1].set_aspect('equal')"
   ]
  },
  {
   "cell_type": "markdown",
   "metadata": {},
   "source": [
    "#### (4) Use the data arrays to initialize an \"MSC\" (multi-sector-cheby) using the MSC_Loader class\n",
    " - Same as done in high-level demo above"
   ]
  },
  {
   "cell_type": "code",
   "execution_count": 11,
   "metadata": {},
   "outputs": [
    {
     "name": "stdout",
     "output_type": "stream",
     "text": [
      "INIT MSC_Loader...\n",
      "Returned variable is of type <class 'list'> , and length 1  \n",
      "Entry in list is of type <class 'cheby_checker.orbit_cheby.MSC'>\n",
      "Number of sectors =  18\n",
      "Min, Max Sector #s :  504 521\n",
      "Shape of sector[mn] =  (17, 6)\n",
      "Shape of sector[mx] =  (17, 6)\n",
      "Range of validity :  (2456128, 2456703.999999)\n",
      "primary_unpacked_provisional_designation :  nput vectors: [0.0 0.5 0.0 -0.024 0.0 0.0 \b]\n",
      "CPU times: user 269 ms, sys: 5.32 ms, total: 274 ms\n",
      "Wall time: 74.7 ms\n"
     ]
    }
   ],
   "source": [
    "%%time \n",
    "importlib.reload(orbit_cheby)\n",
    "\n",
    "# Use MSC_Loader to initialize & return MSC\n",
    "# N.B.(1) : Loads directly from array \n",
    "# N.B.(2) : Creates a list (of length 1 in this case of MSC objects\n",
    "# N.B.(3) : Use \".MSCs\" to access the list of .MSCs\n",
    "# N.B.(4) : Plural !! : unpacked_provisional_designations \n",
    "MSCs = orbit_cheby.MSC_Loader(FROM_ARRAY = True , \n",
    "                            primary_unpacked_provisional_designations = name, \n",
    "                            times_TDB = times, \n",
    "                            statearray = states).MSCs\n",
    "print( 'Returned variable is of type %r , and length %r  ' % (type(MSCs),len(MSCs) ) )\n",
    "M = MSCs[0]\n",
    "print( 'Entry in list is of type', type(M) )\n",
    "print ( 'Number of sectors = ' , len(M.sector_coeffs) )\n",
    "\n",
    "mn,mx = min(list(M.sector_coeffs.keys())),max(list(M.sector_coeffs.keys()))\n",
    "print ( 'Min, Max Sector #s : ', mn, mx) \n",
    "print ( 'Shape of sector[mn] = ' , M.sector_coeffs[mn].shape )\n",
    "print ( 'Shape of sector[mx] = ' , M.sector_coeffs[mx].shape )\n",
    "\n",
    "print ( 'Range of validity : ', M.get_valid_range_of_dates() ) \n",
    "print ( 'primary_unpacked_provisional_designation : ', M.primary_unpacked_provisional_designation ) \n",
    "\n"
   ]
  },
  {
   "cell_type": "markdown",
   "metadata": {},
   "source": [
    "#### (5) Evaluate XYZ positions of realistic data using the MSC's *generate_XYZ* method \n",
    "#### (5a) : 'mike_file'"
   ]
  },
  {
   "cell_type": "code",
   "execution_count": 12,
   "metadata": {},
   "outputs": [
    {
     "name": "stdout",
     "output_type": "stream",
     "text": [
      "INIT MSC_Loader...\n",
      "eval_times:  2456128.0 2456703.0 576\n",
      "initial times ... 2456117.5 2456719.3068642328\n",
      "Final XYZs.shape =  (3, 576)\n",
      "CPU times: user 312 ms, sys: 8.11 ms, total: 320 ms\n",
      "Wall time: 101 ms\n"
     ]
    },
    {
     "data": {
      "text/plain": [
       "<matplotlib.legend.Legend at 0x1a2c195fd0>"
      ]
     },
     "execution_count": 12,
     "metadata": {},
     "output_type": "execute_result"
    },
    {
     "data": {
      "image/png": "[encoded data removed]",
      "text/plain": [
       "<Figure size 720x720 with 2 Axes>"
      ]
     },
     "metadata": {
      "needs_background": "light"
     },
     "output_type": "display_data"
    }
   ],
   "source": [
    "%%time \n",
    "importlib.reload(orbit_cheby)\n",
    "\n",
    "# Reinitialize an MSC object, this time using the stright-from-textfile method\n",
    "M = orbit_cheby.MSC_Loader(filepath = mike_file).MSCs[0]\n",
    "\n",
    "# artificially creating an array of evaluation times that will be within the validrange\n",
    "evaluation_times = np.arange(*M.get_valid_range_of_dates())\n",
    "print('eval_times: ', evaluation_times[0], evaluation_times[-1], len(evaluation_times) )\n",
    "print('initial times ...', times[0], times[-1])\n",
    "\n",
    "# Call to get XYZ \n",
    "XYZs = M.generate_XYZ( evaluation_times )\n",
    "\n",
    "# N.B. final shape = (3,len(times_TDB))\n",
    "print('Final XYZs.shape = ', XYZs.shape)\n",
    "\n",
    "# Make evaluation plots ... \n",
    "fig, ax = plt.subplots(2,1,figsize=(10,10), sharex='col')\n",
    "ax[0].set_ylabel('X_posn [AU]')\n",
    "ax[1].set_ylabel('$\\\\Delta$X_posn [AU]')\n",
    "\n",
    "# (1) Plot fitted \"x\" (== XYZs[0]) against time ... \n",
    "ax[0].plot( evaluation_times , XYZs[0] , 'x' , label = 'Cheby Fit ')\n",
    "\n",
    "# (2) Plot the original \"x\" against time\n",
    "ax[0].plot( times, states[:, 0] , '-', label='Input Data')\n",
    "\n",
    "# (3) Plot the difference between the original and fit\n",
    "ind = np.where( (times >= evaluation_times[0]) & (times <= evaluation_times[-1]) ) \n",
    "ax[1].plot( times[ind], M.generate_XYZ( times[ind] )[0] - states[:, 0][ind] , '.', label='Difference', c='r')\n",
    "\n",
    "fig.legend() "
   ]
  },
  {
   "cell_type": "markdown",
   "metadata": {},
   "source": [
    "#### (5b) :  From Sim object ..."
   ]
  },
  {
   "cell_type": "code",
   "execution_count": 13,
   "metadata": {},
   "outputs": [
    {
     "name": "stdout",
     "output_type": "stream",
     "text": [
      "\n",
      "\n",
      "INIT MSC_Loader...\n",
      "Populating from NbodySim : ***NO*** designation information : Using ['0']\n",
      "initial times ... 2456117.641933589 2457122.784581884\n",
      "eval_times:  2456128.0 2457119.0 992\n",
      "Final XYZs.shape =  (3, 992)\n",
      " zero times ...  2456117.641933589 2456000.0\n"
     ]
    },
    {
     "data": {
      "text/plain": [
       "<matplotlib.legend.Legend at 0x1a2c6f7cd0>"
      ]
     },
     "execution_count": 13,
     "metadata": {},
     "output_type": "execute_result"
    },
    {
     "data": {
      "image/png": "[encoded data removed]",
      "text/plain": [
       "<Figure size 720x720 with 2 Axes>"
      ]
     },
     "metadata": {
      "needs_background": "light"
     },
     "output_type": "display_data"
    }
   ],
   "source": [
    "importlib.reload(orbit_cheby)\n",
    "try: \n",
    "    del M\n",
    "except: \n",
    "    pass \n",
    "\n",
    "# Reinitialize an MSC object, this time using the Sim-object approach\n",
    "Sim = mpc_nbody.NbodySim(filenames[0], 'eq')\n",
    "Sim(tstep=20, trange=1000)\n",
    "M = orbit_cheby.MSC_Loader(NbodySim = Sim).MSCs[0]\n",
    "times = Sim.output_times\n",
    "states = Sim.output_vectors\n",
    "\n",
    "# artificially creating an array of evaluation times that will be within the validrange\n",
    "evaluation_times = np.arange(*M.get_valid_range_of_dates())\n",
    "print('initial times ...', times[0], times[-1])\n",
    "print('eval_times: ', evaluation_times[0], evaluation_times[-1], len(evaluation_times) )\n",
    "\n",
    "# Call to get XYZ \n",
    "XYZs = M.generate_XYZ( evaluation_times )\n",
    "\n",
    "# N.B. final shape = (3,len(times_TDB))\n",
    "print('Final XYZs.shape = ', XYZs.shape)\n",
    "\n",
    "# t0 \n",
    "t0 = round(times[0],-3)\n",
    "print(' zero times ... ' , times[0] , t0)\n",
    "\n",
    "# Make evaluation plots ... \n",
    "fig, ax = plt.subplots(2,1,figsize=(10,10), sharex='col')\n",
    "ax[0].set_ylabel('X_posn [AU]')\n",
    "ax[1].set_ylabel('$\\\\Delta$X_posn [AU]')\n",
    "\n",
    "#ax[0].set_ylim([-2.5,2000])\n",
    "\n",
    "# (1) Plot fitted \"x\" (== XYZs[0]) against time ... \n",
    "ax[0].plot( evaluation_times - t0 , XYZs[0] , 'x' , label = 'Cheby Fit ')\n",
    "\n",
    "# (2) Plot the original \"x\" against time\n",
    "ax[0].plot( times - t0, states[:, :, 0] , '-', label='Input Data')\n",
    "\n",
    "# (3) Plot the difference between the original and fit\n",
    "ind = np.where( (times >= evaluation_times[0]) & (times <= evaluation_times[-1]) ) \n",
    "ax[1].plot( times[ind]-t0, M.generate_XYZ( times[ind] )[0] - states[:,:, 0].flatten()[ind] , '.', label='Difference', c='r')\n",
    "ax[1].set_xlabel(f't - {t0}')\n",
    "fig.legend() "
   ]
  },
  {
   "cell_type": "markdown",
   "metadata": {},
   "source": [
    "#### (6) Evaluate components using the MSC's very low-level *evaluate_components* method \n",
    " - This is not expected to be used as standard\n",
    " - But it underlies everything, so it's worth looking at ...\n",
    " - Here we demonstrate complete equivalence to the slightly higher level *generate_XYZ* method"
   ]
  },
  {
   "cell_type": "code",
   "execution_count": 19,
   "metadata": {},
   "outputs": [
    {
     "name": "stdout",
     "output_type": "stream",
     "text": [
      "times[ind].shape    = (538,)\n",
      "states[ind].T.shape = (6, 1, 538)\n",
      "(6, 1, 538) (6, 538)\n"
     ]
    },
    {
     "ename": "ValueError",
     "evalue": "operands could not be broadcast together with shapes (538,) (538,6) ",
     "output_type": "error",
     "traceback": [
      "\u001b[0;31m---------------------------------------------------------------------------\u001b[0m",
      "\u001b[0;31mValueError\u001b[0m                                Traceback (most recent call last)",
      "\u001b[0;32m<ipython-input-19-958ff98522e5>\u001b[0m in \u001b[0;36m<module>\u001b[0;34m\u001b[0m\n\u001b[1;32m     16\u001b[0m \u001b[0;31m# (a) the evaluatedComponents and the input states ...\u001b[0m\u001b[0;34m\u001b[0m\u001b[0;34m\u001b[0m\u001b[0;34m\u001b[0m\u001b[0m\n\u001b[1;32m     17\u001b[0m \u001b[0;31m# (a) the evaluatedComponents and the generate_XYZ values ...\u001b[0m\u001b[0;34m\u001b[0m\u001b[0;34m\u001b[0m\u001b[0;34m\u001b[0m\u001b[0m\n\u001b[0;32m---> 18\u001b[0;31m \u001b[0mplt\u001b[0m\u001b[0;34m.\u001b[0m\u001b[0mplot\u001b[0m\u001b[0;34m(\u001b[0m \u001b[0mtimes\u001b[0m\u001b[0;34m[\u001b[0m\u001b[0mind\u001b[0m\u001b[0;34m]\u001b[0m\u001b[0;34m,\u001b[0m \u001b[0mnp\u001b[0m\u001b[0;34m.\u001b[0m\u001b[0mabs\u001b[0m\u001b[0;34m(\u001b[0m\u001b[0mevaluatedComponents\u001b[0m\u001b[0;34m[\u001b[0m\u001b[0;36m0\u001b[0m\u001b[0;34m]\u001b[0m \u001b[0;34m-\u001b[0m \u001b[0mstates\u001b[0m\u001b[0;34m[\u001b[0m\u001b[0;34m:\u001b[0m\u001b[0;34m,\u001b[0m \u001b[0;36m0\u001b[0m\u001b[0;34m]\u001b[0m\u001b[0;34m[\u001b[0m\u001b[0mind\u001b[0m\u001b[0;34m]\u001b[0m\u001b[0;34m)\u001b[0m \u001b[0;34m,\u001b[0m \u001b[0;34m'.'\u001b[0m\u001b[0;34m,\u001b[0m\u001b[0mlabel\u001b[0m\u001b[0;34m=\u001b[0m\u001b[0;34m'Eval - Inp'\u001b[0m\u001b[0;34m,\u001b[0m    \u001b[0mc\u001b[0m\u001b[0;34m=\u001b[0m\u001b[0;34m'b'\u001b[0m\u001b[0;34m)\u001b[0m\u001b[0;34m\u001b[0m\u001b[0;34m\u001b[0m\u001b[0m\n\u001b[0m\u001b[1;32m     19\u001b[0m \u001b[0mplt\u001b[0m\u001b[0;34m.\u001b[0m\u001b[0mplot\u001b[0m\u001b[0;34m(\u001b[0m \u001b[0mtimes\u001b[0m\u001b[0;34m[\u001b[0m\u001b[0mind\u001b[0m\u001b[0;34m]\u001b[0m\u001b[0;34m,\u001b[0m \u001b[0mnp\u001b[0m\u001b[0;34m.\u001b[0m\u001b[0mabs\u001b[0m\u001b[0;34m(\u001b[0m\u001b[0mevaluatedComponents\u001b[0m\u001b[0;34m[\u001b[0m\u001b[0;36m0\u001b[0m\u001b[0;34m]\u001b[0m \u001b[0;34m-\u001b[0m \u001b[0mXYZs\u001b[0m\u001b[0;34m[\u001b[0m\u001b[0;36m0\u001b[0m\u001b[0;34m]\u001b[0m\u001b[0;34m)\u001b[0m           \u001b[0;34m,\u001b[0m \u001b[0;34m'.'\u001b[0m\u001b[0;34m,\u001b[0m\u001b[0mlabel\u001b[0m\u001b[0;34m=\u001b[0m\u001b[0;34m'Eval - genXYX'\u001b[0m\u001b[0;34m,\u001b[0m \u001b[0mc\u001b[0m\u001b[0;34m=\u001b[0m\u001b[0;34m'r'\u001b[0m\u001b[0;34m)\u001b[0m\u001b[0;34m\u001b[0m\u001b[0;34m\u001b[0m\u001b[0m\n\u001b[1;32m     20\u001b[0m \u001b[0mplt\u001b[0m\u001b[0;34m.\u001b[0m\u001b[0mlegend\u001b[0m\u001b[0;34m(\u001b[0m\u001b[0;34m)\u001b[0m\u001b[0;34m\u001b[0m\u001b[0;34m\u001b[0m\u001b[0m\n",
      "\u001b[0;31mValueError\u001b[0m: operands could not be broadcast together with shapes (538,) (538,6) "
     ]
    }
   ],
   "source": [
    "print(f'times[ind].shape    = {times[ind].shape }')\n",
    "print(f'states[ind].T.shape = {states[ind].T.shape }')\n",
    "\n",
    "# Make the call to the low-level *evaluate_components*\n",
    "evaluatedComponents      = M.evaluate_components( times[ind] )\n",
    "evaluatedComponentsSlice = M.evaluate_components( times[ind] , component_slice_spec=slice(0,3))\n",
    "\n",
    "# Make a call to the higher level *generate_XYZ*\n",
    "XYZs = M.generate_XYZ( times[ind] )\n",
    "\n",
    "# Show that the shape of the returned components is as expected ...\n",
    "print( states[ind].T.shape , evaluatedComponents.shape ) \n",
    "assert evaluatedComponentsSlice.shape == XYZs.shape\n",
    "\n",
    "# Look at the difference between \n",
    "# (a) the evaluatedComponents and the input states ... \n",
    "# (a) the evaluatedComponents and the generate_XYZ values ... \n",
    "plt.plot( times[ind], np.abs(evaluatedComponents[0] - states[:, 0][ind]) , '.',label='Eval - Inp',    c='b')\n",
    "plt.plot( times[ind], np.abs(evaluatedComponents[0] - XYZs[0])           , '.',label='Eval - genXYX', c='r')\n",
    "plt.legend()\n",
    "\n"
   ]
  },
  {
   "cell_type": "markdown",
   "metadata": {},
   "source": [
    "#### (7) Directly from array for **MULTIPLE PARTICLES**\n",
    " - Want 3D array \n",
    " - Will create this here by sticking together a few copies of the data for a single particle ...\n"
   ]
  },
  {
   "cell_type": "code",
   "execution_count": 231,
   "metadata": {},
   "outputs": [
    {
     "name": "stdout",
     "output_type": "stream",
     "text": [
      "CPU times: user 92 ms, sys: 11.9 ms, total: 104 ms\n",
      "Wall time: 104 ms\n"
     ]
    },
    {
     "data": {
      "text/plain": [
       "(1760, 6, 4)"
      ]
     },
     "execution_count": 231,
     "metadata": {},
     "output_type": "execute_result"
    }
   ],
   "source": [
    "%%time \n",
    "importlib.reload(orbit_cheby)\n",
    "\n",
    "# Pre-populate numpy array ...\n",
    "# - Note that (i) we need to allow for MULTIPLE NAMES\n",
    "# - We are creating a 3D array of input coords\n",
    "arrays, names = [],[] \n",
    "for i in range(1,5):\n",
    "    name, times, states  = nbody_reader.parse_nbody_txt( mike_file )\n",
    "    names.append(name+\"_\"+str(i))\n",
    "    arrays.append(states)\n",
    "states_3D = np.stack(arrays, axis=2)\n",
    "states_3D.shape\n"
   ]
  },
  {
   "cell_type": "code",
   "execution_count": 233,
   "metadata": {},
   "outputs": [
    {
     "name": "stdout",
     "output_type": "stream",
     "text": [
      "INIT MSC_Loader...\n",
      "Returned variable is of type <class 'list'> , and length 4  \n",
      "Entry [0] list is of type <class 'cheby_checker.orbit_cheby.MSC'>\n",
      "Number of sectors =  20\n",
      "Min, Max Sector #s :  503 522\n",
      "Shape of sector[mn] =  (8, 6)\n",
      "Shape of sector[mx] =  (8, 6)\n",
      "Range of validity :  (2456096, 2456735.999999)\n",
      "primary_unpacked_provisional_designation :  nput vectors: [0.0 0.5 0.0 -0.024 0.0 0.0 \b]_1\n",
      "CPU times: user 378 ms, sys: 11.1 ms, total: 389 ms\n",
      "Wall time: 104 ms\n"
     ]
    }
   ],
   "source": [
    "%%time \n",
    "importlib.reload(orbit_cheby)\n",
    "\n",
    "# Use MSC_Loader to initialize & return MSC\n",
    "# N.B.(1) : Loads directly from array \n",
    "# N.B.(2) : Creates a list (of length 4 in this case of MSC objects\n",
    "# N.B.(3) : Use \".MSCs\" to access the list of .MSCs\n",
    "# N.B.(4) : Plural !! : unpacked_provisional_designations \n",
    "MSCs = orbit_cheby.MSC_Loader(FROM_ARRAY = True , \n",
    "                            primary_unpacked_provisional_designations = names, \n",
    "                            times_TDB = times, \n",
    "                            statearray = states_3D).MSCs\n",
    "print( 'Returned variable is of type %r , and length %r  ' % (type(MSCs),len(MSCs) ) )\n",
    "M = MSCs[0]\n",
    "print( 'Entry [0] list is of type', type(M) )\n",
    "print ( 'Number of sectors = ' , len(M.sector_coeffs) )\n",
    "\n",
    "mn,mx = min(list(M.sector_coeffs.keys())),max(list(M.sector_coeffs.keys()))\n",
    "print ( 'Min, Max Sector #s : ', mn, mx) \n",
    "print ( 'Shape of sector[mn] = ' , M.sector_coeffs[mn].shape )\n",
    "print ( 'Shape of sector[mx] = ' , M.sector_coeffs[mx].shape )\n",
    "\n",
    "print ( 'Range of validity : ', M.get_valid_range_of_dates() ) \n",
    "print ( 'primary_unpacked_provisional_designation : ', M.primary_unpacked_provisional_designation ) \n",
    "\n"
   ]
  },
  {
   "cell_type": "markdown",
   "metadata": {},
   "source": [
    "#### (8) XYZ positions : Single Particle \n",
    " - Here we are using a relatively low-level function (generate_XYZ) to find heliocentric XYZ positions using the stored data\n",
    " - It seems to be able to perform ~1e6 XYZ calculations per second (for a single object's chebyshev coeffs, where there are 27 sets of coefficients )\n",
    " - I assume that this will vary as the number of sectors changes "
   ]
  },
  {
   "cell_type": "code",
   "execution_count": 255,
   "metadata": {},
   "outputs": [
    {
     "name": "stdout",
     "output_type": "stream",
     "text": [
      "INIT MSC_Loader...\n",
      "Data shape: (1760, 6)\n",
      "time shape: (1760,)\n",
      "Average timestep: 0.3421301104222605 days\n"
     ]
    },
    {
     "data": {
      "image/png": "[encoded data removed]",
      "text/plain": [
       "<Figure size 432x288 with 3 Axes>"
      ]
     },
     "metadata": {
      "needs_background": "light"
     },
     "output_type": "display_data"
    }
   ],
   "source": [
    "importlib.reload(orbit_cheby)\n",
    "\n",
    "# Use the MSC_Loader to declare and populate a list of MSC objects direct from mpc_nbody.NbodySim object\n",
    "M = orbit_cheby.MSC_Loader(filepath = mike_file).MSCs[0]\n",
    "\n",
    "print(f\"Data shape: {np.shape(states)}\\n\"\n",
    "      f\"time shape: {np.shape(times)}\\n\"\n",
    "      f\"Average timestep: {np.mean(times[1:]-times[:-1])} days\")\n",
    "fig, ax = plt.subplots(2, 2, sharex='col', sharey='row')\n",
    "ax[0, 0].plot(states[:, 0], states[:, 1])\n",
    "ax[0, 0].set_ylabel('y')\n",
    "ax[1, 0].plot(states[:, 0], states[:, 2])\n",
    "ax[1, 0].set_ylabel('z')\n",
    "ax[1, 0].set_xlabel('x')\n",
    "ax[1, 1].plot(states[:, 1], states[:, 2])\n",
    "ax[1, 1].set_ylabel('z')\n",
    "ax[1, 1].set_xlabel('y')\n",
    "fig.delaxes(ax[0, 1])\n",
    "#ax[0, 0].set_aspect('equal')\n",
    "#ax[1, 0].set_aspect('equal')\n",
    "#ax[1, 1].set_aspect('equal')"
   ]
  },
  {
   "cell_type": "code",
   "execution_count": 244,
   "metadata": {},
   "outputs": [
    {
     "data": {
      "text/plain": [
       "(2456117.6430380116, 2457122.7836714266)"
      ]
     },
     "execution_count": 244,
     "metadata": {},
     "output_type": "execute_result"
    }
   ],
   "source": []
  },
  {
   "cell_type": "code",
   "execution_count": 256,
   "metadata": {},
   "outputs": [
    {
     "name": "stdout",
     "output_type": "stream",
     "text": [
      "eval_times:  2456096.0 2456735.0 640\n",
      "evaluation_times[0] = 2456096.0003472907 , evaluation_times[-1]=2456735.9989864333\n",
      "Final XYZs.shape =  (3, 1000000)\n",
      "CPU times: user 1.23 s, sys: 140 ms, total: 1.37 s\n",
      "Wall time: 1.36 s\n"
     ]
    },
    {
     "data": {
      "text/plain": [
       "[<matplotlib.lines.Line2D at 0x1a32773450>]"
      ]
     },
     "execution_count": 256,
     "metadata": {},
     "output_type": "execute_result"
    },
    {
     "data": {
      "image/png": "[encoded data removed]",
      "text/plain": [
       "<Figure size 432x288 with 1 Axes>"
      ]
     },
     "metadata": {
      "needs_background": "light"
     },
     "output_type": "display_data"
    }
   ],
   "source": [
    "%%time \n",
    "importlib.reload(orbit_cheby)\n",
    "\n",
    "nSample = int(1e6) \n",
    "\n",
    "evaluation_times = np.arange(*M.get_valid_range_of_dates())\n",
    "print('eval_times: ', evaluation_times[0], evaluation_times[-1], len(evaluation_times) )\n",
    "\n",
    "# Set up some evaluation times \n",
    "mn,mx = M.get_valid_range_of_dates()\n",
    "evaluation_times = np.sort(mn + (mx-mn)*np.random.rand(nSample) )\n",
    "print(f'evaluation_times[0] = {evaluation_times[0]} , evaluation_times[-1]={evaluation_times[-1]}')\n",
    "\n",
    "# ******************   Low-level call to get XYZ ******************\n",
    "XYZs = M.generate_XYZ( evaluation_times )\n",
    "\n",
    "# N.B. final shape = (3,len(times_TDB))\n",
    "print('Final XYZs.shape = ', XYZs.shape)\n",
    "\n",
    "# Plot x == XYZs[0] against time ... \n",
    "every=1000\n",
    "plt.plot( evaluation_times[::every] , XYZs[0][::every] , '.' ) "
   ]
  },
  {
   "cell_type": "markdown",
   "metadata": {},
   "source": [
    "# Observational UnitVector Calculations\n",
    "\n",
    "###### SIFTER: This UV calc is used at the time of query to (a) get the approx HP (see below) and (b) to get refined positions for precise tracklet matching \n",
    "###### MPCHECKER: This UV calc is used at the time of query to get refined positions for any approx matches extracted from the precalculated data\n",
    "\n",
    " - These calculations require that the positions of the observatory are provided as inputs: I.e. I want to completely separate the obs-posn stuff from the cheby evaluation calculations\n",
    " - For the sake of these demonstrations, I am going to generate a set of standardized input observatory-positions (using a silly ~circular approximation) and then provide those as inputs. \n",
    "     "
   ]
  },
  {
   "cell_type": "code",
   "execution_count": 122,
   "metadata": {},
   "outputs": [
    {
     "name": "stdout",
     "output_type": "stream",
     "text": [
      "CPU times: user 322 ms, sys: 21.3 ms, total: 344 ms\n",
      "Wall time: 343 ms\n"
     ]
    },
    {
     "data": {
      "text/plain": [
       "(3, 1000000)"
      ]
     },
     "execution_count": 122,
     "metadata": {},
     "output_type": "execute_result"
    }
   ],
   "source": [
    "%%time \n",
    "importlib.reload(orbit_cheby)\n",
    "\n",
    "# Create a sample of observatory-positions as inputs \n",
    "# - Note that the NBody code uses BARYCENTRIC EQUATORIAL coords\n",
    "# - So the Cheby's need to work-in/evaluate-to equatorial coords\n",
    "# - Hence the observatory-positions will need to be in equatorial coords\n",
    "nSample = int(1e6) \n",
    "evaluation_times = np.sort(2440000. + 999.*np.random.rand(nSample) )\n",
    "r = 1.0 \n",
    "XYZobservatory_equatorial = np.array( [r*np.cos(evaluation_times), \n",
    "                                        r*np.sin(evaluation_times) , \n",
    "                                        0.0001*r*np.cos(evaluation_times)])\n",
    "XYZobservatory_equatorial.shape "
   ]
  },
  {
   "cell_type": "code",
   "execution_count": 123,
   "metadata": {},
   "outputs": [
    {
     "name": "stdout",
     "output_type": "stream",
     "text": [
      "INIT MSC_Loader...\n"
     ]
    }
   ],
   "source": [
    "importlib.reload(orbit_cheby)\n",
    "\n",
    "# Repeat the above to generate an MSC populated from above array ... \n",
    "M = orbit_cheby.MSC_Loader(FROM_ARRAY = True , \n",
    "                            primary_unpacked_provisional_designations = name, \n",
    "                            times_TDB = times, \n",
    "                            statearray = states).MSCs[0]"
   ]
  },
  {
   "cell_type": "markdown",
   "metadata": {},
   "source": [
    " - In this initial experiment *BELOW* I find that it takes: \n",
    "        ~1s to evaluate 1e6 unit vectors for a single object using an APPROX (non-iterated) approach\n",
    "        ~3s to evaluate 1e6 unit vectors for a single object using a NON-APPROX (iterated) approach \n",
    " "
   ]
  },
  {
   "cell_type": "code",
   "execution_count": 124,
   "metadata": {},
   "outputs": [
    {
     "name": "stdout",
     "output_type": "stream",
     "text": [
      "CPU times: user 871 ms, sys: 277 ms, total: 1.15 s\n",
      "Wall time: 1.15 s\n"
     ]
    },
    {
     "data": {
      "text/plain": [
       "(3, 1000000)"
      ]
     },
     "execution_count": 124,
     "metadata": {},
     "output_type": "execute_result"
    }
   ],
   "source": [
    "%%time \n",
    "\n",
    "# Now evaluate some unit vectors [[APPROXIMATE calculation]]\n",
    "# - With these kinds of input, all I am really doing is ascertaining that the functions work in the sense of producing numbers\n",
    "# - There is no real understanding of whether the numbers are accurate / correct \n",
    "UVs = M.generate_UnitVector(  evaluation_times , \n",
    "                            XYZobservatory_equatorial, \n",
    "                            APPROX = True)\n",
    "\n",
    "# N.B. final shape = (3,len(times_TDB))\n",
    "UVs.shape "
   ]
  },
  {
   "cell_type": "code",
   "execution_count": 125,
   "metadata": {},
   "outputs": [
    {
     "name": "stdout",
     "output_type": "stream",
     "text": [
      "(3, 1000000)\n",
      "CPU times: user 2.63 s, sys: 798 ms, total: 3.42 s\n",
      "Wall time: 3.44 s\n"
     ]
    }
   ],
   "source": [
    "%%time \n",
    "\n",
    "# Now evaluate some unit vectors [[EXACT Calculation]]\n",
    "# - With these kinds of input, all I am really doing is ascertaining that the functions work in the sense of producing numbers\n",
    "# - There is no real understanding of whether the numbers are accurate / correct \n",
    "UVs = M.generate_UnitVector( evaluation_times , \n",
    "                                    XYZobservatory_equatorial, \n",
    "                                    APPROX = False\n",
    "                                              )\n",
    "# N.B. final shape = (3,len(times_TDB))\n",
    "print(UVs.shape)\n"
   ]
  },
  {
   "cell_type": "markdown",
   "metadata": {},
   "source": [
    "### Observational HP Calculations\n",
    "###### SIFTER: This HP routine will be used intensively at the time a search is executed to find the APPROX HP location of an object over a series of many nights \n",
    "###### MPCHECKER: This HP routine will be used in the precalculation phase to find-and-store the HP location of an object across a series of nights \n",
    "\n",
    "\n",
    " - Because this is a wrapper around the unitvector call, the hp call again requires that the positions of the observatory are provided as inputs: I.e. I want to completely separate the obs-posn stuff from the cheby evaluation calculations\n",
    " - For the sake of these demonstrations, I am going to use the obs-posns generated above\n",
    " \n",
    "This brief experiment finds that the time to calcuate 1e6 healpix is essentially the same as the time to  generate the underlying 1e6 unitvectors"
   ]
  },
  {
   "cell_type": "code",
   "execution_count": 126,
   "metadata": {},
   "outputs": [
    {
     "name": "stdout",
     "output_type": "stream",
     "text": [
      "INIT MSC_Loader...\n"
     ]
    }
   ],
   "source": [
    "importlib.reload(orbit_cheby)\n",
    "\n",
    "# Repeat the above to generate an MSC populated from above array ... \n",
    "M = orbit_cheby.MSC_Loader(FROM_ARRAY = True , \n",
    "                            primary_unpacked_provisional_designations = name, \n",
    "                            times_TDB = times, \n",
    "                            statearray = states).MSCs[0]"
   ]
  },
  {
   "cell_type": "code",
   "execution_count": 127,
   "metadata": {},
   "outputs": [
    {
     "name": "stdout",
     "output_type": "stream",
     "text": [
      "CPU times: user 1.34 s, sys: 328 ms, total: 1.67 s\n",
      "Wall time: 1.67 s\n"
     ]
    },
    {
     "data": {
      "text/plain": [
       "((1000000,), (1000000,))"
      ]
     },
     "execution_count": 127,
     "metadata": {},
     "output_type": "execute_result"
    }
   ],
   "source": [
    "%%time \n",
    "importlib.reload(orbit_cheby)\n",
    "# Now evaluate the HP vectors  \n",
    "# - With these kinds of input, all I am really doing is ascertaining that the functions work in the sense of producing numbers\n",
    "# - There is no real understanding of whether the numbers are accurate / correct \n",
    "HPs= M.generate_HP( evaluation_times , \n",
    "                XYZobservatory_equatorial, \n",
    "                APPROX = True )\n",
    "# N.B. final shape = (3,len(times_TDB))\n",
    "HPs.shape , evaluation_times.shape\n"
   ]
  },
  {
   "cell_type": "markdown",
   "metadata": {},
   "source": [
    "# RA, Dec"
   ]
  },
  {
   "cell_type": "code",
   "execution_count": 128,
   "metadata": {},
   "outputs": [
    {
     "name": "stdout",
     "output_type": "stream",
     "text": [
      "INIT MSC_Loader...\n"
     ]
    }
   ],
   "source": [
    "importlib.reload(orbit_cheby)\n",
    "\n",
    "# Repeat the above to generate an MSC populated from above array ... \n",
    "M = orbit_cheby.MSC_Loader(FROM_ARRAY = True , \n",
    "                            primary_unpacked_provisional_designations = name, \n",
    "                            times_TDB = times, \n",
    "                            statearray = states).MSCs[0]"
   ]
  },
  {
   "cell_type": "code",
   "execution_count": 129,
   "metadata": {},
   "outputs": [],
   "source": [
    "# Make some obs positions \n",
    "nSample = int(1e6) \n",
    "evaluation_times = np.sort(2440000. + 999.*np.random.rand(nSample) )\n",
    "r = 1.0 \n",
    "XYZobservatory_equatorial = np.array( [r*np.cos(evaluation_times), \n",
    "                                        r*np.sin(evaluation_times) , \n",
    "                                        0.0001*r*np.cos(evaluation_times)])\n"
   ]
  },
  {
   "cell_type": "code",
   "execution_count": 130,
   "metadata": {},
   "outputs": [
    {
     "name": "stdout",
     "output_type": "stream",
     "text": [
      "(2, 1000000)\n",
      "CPU times: user 900 ms, sys: 271 ms, total: 1.17 s\n",
      "Wall time: 1.17 s\n"
     ]
    }
   ],
   "source": [
    "%%time \n",
    "importlib.reload(orbit_cheby)\n",
    "# Now evaluate the HP vectors  \n",
    "# - With these kinds of input, all I am really doing is ascertaining that the functions work in the sense of producing numbers\n",
    "# - There is no real understanding of whether the numbers are accurate / correct \n",
    "RaDec = M.generate_RaDec( evaluation_times , \n",
    "                observatoryXYZ=XYZobservatory_equatorial, \n",
    "                APPROX = True )\n",
    "print(RaDec.shape)\n"
   ]
  },
  {
   "cell_type": "markdown",
   "metadata": {},
   "source": [
    "# Uncertanties and Covariances "
   ]
  },
  {
   "cell_type": "markdown",
   "metadata": {},
   "source": [
    " ## (1) We might need the gradient of  XYZ as a function of time "
   ]
  },
  {
   "cell_type": "code",
   "execution_count": 131,
   "metadata": {},
   "outputs": [
    {
     "name": "stdout",
     "output_type": "stream",
     "text": [
      "INIT MSC_Loader...\n",
      "CPU times: user 417 ms, sys: 7.48 ms, total: 424 ms\n",
      "Wall time: 423 ms\n"
     ]
    }
   ],
   "source": [
    "%%time \n",
    "importlib.reload(orbit_cheby)\n",
    "\n",
    "# Create a sample of observatory-positions as inputs \n",
    "# - Note that the NBody code uses BARYCENTRIC EQUATORIAL coords\n",
    "# - So the Cheby's need to work-in/evaluate-to equatorial coords\n",
    "# - Hence the observatory-positions will need to be in equatorial coords\n",
    "nSample = int(1e0) \n",
    "evaluation_times = np.sort(2440000. + 999.*np.random.rand(nSample) )\n",
    "r = 1.0 \n",
    "XYZobservatory_equatorial = np.array( [r*np.cos(evaluation_times), \n",
    "                                        r*np.sin(evaluation_times) , \n",
    "                                        0.0001*r*np.cos(evaluation_times)])\n",
    "\n",
    "\n",
    "# Repeat the above to generate an MSC populated from above array ... \n",
    "M = orbit_cheby.MSC_Loader(FROM_ARRAY = True , \n",
    "                            primary_unpacked_provisional_designations = name, \n",
    "                            times_TDB = times, \n",
    "                            statearray = states).MSCs[0]"
   ]
  },
  {
   "cell_type": "code",
   "execution_count": 132,
   "metadata": {},
   "outputs": [
    {
     "name": "stdout",
     "output_type": "stream",
     "text": [
      "[[-1.8143096 ]\n",
      " [-2.03114144]\n",
      " [ 0.        ]]\n",
      "CPU times: user 458 µs, sys: 149 µs, total: 607 µs\n",
      "Wall time: 813 µs\n"
     ]
    }
   ],
   "source": [
    "%%time \n",
    "# ******************   Low-level call to get XYZ ******************\n",
    "XYZs = M.generate_XYZ( evaluation_times )\n",
    "\n",
    "# N.B. final shape = (3,len(times_TDB))\n",
    "#print('Final XYZs.shape = ', XYZs.shape)\n",
    "if np.all(np.array(XYZs.shape) < 20) : \n",
    "    print(XYZs)\n",
    "    "
   ]
  },
  {
   "cell_type": "code",
   "execution_count": 133,
   "metadata": {},
   "outputs": [
    {
     "name": "stdout",
     "output_type": "stream",
     "text": [
      "CPU times: user 310 µs, sys: 30 µs, total: 340 µs\n",
      "Wall time: 317 µs\n"
     ]
    },
    {
     "data": {
      "text/plain": [
       "array([[ 0.00777411],\n",
       "       [-0.0069442 ],\n",
       "       [ 0.        ]])"
      ]
     },
     "execution_count": 133,
     "metadata": {},
     "output_type": "execute_result"
    }
   ],
   "source": [
    "%%time \n",
    "# Evaluate the **** GRADIENT ****\n",
    "M.dXYZdt(evaluation_times)"
   ]
  },
  {
   "cell_type": "markdown",
   "metadata": {},
   "source": [
    "## (2) Think about the variation in other parameters as XYZ are varied"
   ]
  },
  {
   "cell_type": "code",
   "execution_count": 134,
   "metadata": {},
   "outputs": [
    {
     "data": {
      "text/plain": [
       "<module 'orbit_cheby.orbit_cheby' from '/Users/matthewjohnpayne/opt/anaconda3/lib/python3.7/site-packages/orbit_cheby/orbit_cheby.py'>"
      ]
     },
     "execution_count": 134,
     "metadata": {},
     "output_type": "execute_result"
    }
   ],
   "source": [
    "import numdifftools as nd\n",
    "importlib.reload(orbit_cheby)\n"
   ]
  },
  {
   "cell_type": "code",
   "execution_count": 135,
   "metadata": {},
   "outputs": [
    {
     "name": "stdout",
     "output_type": "stream",
     "text": [
      "INIT MSC_Loader...\n"
     ]
    },
    {
     "data": {
      "text/plain": [
       "array([[-5.47275445e-01, -9.96542252e-01, -9.68329181e-01,\n",
       "        -9.50243876e-01, -8.39715678e-01, -6.84809471e-01,\n",
       "         1.52561949e-01,  3.36972422e-01,  6.46213290e-01,\n",
       "         9.99255034e-01],\n",
       "       [ 8.36952558e-01, -8.30875484e-02, -2.49676986e-01,\n",
       "        -3.11506938e-01, -5.43026316e-01, -7.28722161e-01,\n",
       "        -9.88293909e-01, -9.41514517e-01, -7.63156853e-01,\n",
       "        -3.85924447e-02],\n",
       "       [ 4.93835667e-05, -4.77983850e-06, -5.24127369e-06,\n",
       "         5.58411056e-05,  1.14005314e-05, -2.54151197e-05,\n",
       "         3.60705942e-05, -4.16156982e-05, -3.42123372e-05,\n",
       "         2.60499218e-05]])"
      ]
     },
     "execution_count": 135,
     "metadata": {},
     "output_type": "execute_result"
    }
   ],
   "source": [
    "importlib.reload(orbit_cheby)\n",
    "# Create a sample of observatory-positions as inputs \n",
    "# - Note that the NBody code uses BARYCENTRIC EQUATORIAL coords\n",
    "# - So the Cheby's need to work-in/evaluate-to equatorial coords\n",
    "# - Hence the observatory-positions will need to be in equatorial coords\n",
    "nSample = int(1e1) \n",
    "evaluation_times = np.sort(2440000. + 999.*np.random.rand(nSample) )\n",
    "r = 1.0 \n",
    "XYZobservatory_equatorial = np.array( [r*np.cos(evaluation_times), \n",
    "                                        r*np.sin(evaluation_times) , \n",
    "                                        0.0001*r*np.cos(evaluation_times)])\n",
    "\n",
    "\n",
    "# Generate an MSC populated from above array ... \n",
    "M = orbit_cheby.MSC_Loader(FROM_ARRAY = True , \n",
    "                            primary_unpacked_provisional_designations = name, \n",
    "                            times_TDB = times, \n",
    "                            statearray = states).MSCs[0]\n",
    "\n",
    "UVs = M.generate_UnitVector(  evaluation_times , \n",
    "                            XYZobservatory_equatorial, \n",
    "                            APPROX = True)\n",
    "\n",
    "# N.B. final shape = (3,len(times_TDB))\n",
    "UVs "
   ]
  },
  {
   "cell_type": "markdown",
   "metadata": {},
   "source": [
    "### Variation in UV as a func of variation in XYZ\n",
    "\n",
    "$ \\frac{d(UVx,UVy,UVz)({(X,Y,Z)},t)}{d{(X,Y,Z)}} $\n",
    "\n",
    "***THE FOLLOWING IS CLEARER WHEN LOOKING AT THE RADEC ONE BELOW ***\n",
    "N.B. each element is 3x3\n",
    "So visually we have \n",
    "\n",
    "dUVx/dX , dUVy/dX, , dUVz/dX\n",
    "\n",
    "dUVx/dY , dUVy/dY, , dUVz/dY\n",
    "\n",
    "dUVx/dZ , dUVy/dZ, , dUVz/dZ\n"
   ]
  },
  {
   "cell_type": "code",
   "execution_count": 136,
   "metadata": {},
   "outputs": [
    {
     "name": "stdout",
     "output_type": "stream",
     "text": [
      "(10, 3, 3)\n",
      "CPU times: user 9.48 ms, sys: 3.01 ms, total: 12.5 ms\n",
      "Wall time: 9.67 ms\n"
     ]
    }
   ],
   "source": [
    "%%time\n",
    "\n",
    "result = M.dUVdXYZ(evaluation_times, XYZobservatory_equatorial)\n",
    "print(result.shape) \n",
    " \n"
   ]
  },
  {
   "cell_type": "markdown",
   "metadata": {},
   "source": [
    "### Variation in RA,Dec as a func of variation in XYZ\n",
    "\n",
    "$ \\frac{d(RA,DEC)({(X,Y,Z)},t)}{d{(X,Y,Z)}} $\n",
    "\n",
    "N.B. each element is 3x2\n",
    "So visually we have \n",
    "\n",
    "dRA/dX , dDEC/dX\n",
    "\n",
    "dRA/dY , dDEC/dY\n",
    "\n",
    "dRA/dZ , dDEC/dZ\n"
   ]
  },
  {
   "cell_type": "code",
   "execution_count": 90,
   "metadata": {},
   "outputs": [
    {
     "name": "stdout",
     "output_type": "stream",
     "text": [
      "(10, 3, 2)\n",
      "CPU times: user 12 ms, sys: 2.04 ms, total: 14 ms\n",
      "Wall time: 12.3 ms\n"
     ]
    }
   ],
   "source": [
    "%%time\n",
    "\n",
    "dRD = M.dRaDecdXYZ(evaluation_times, XYZobservatory_equatorial)\n",
    "print(dRD.shape) \n",
    " \n"
   ]
  },
  {
   "cell_type": "markdown",
   "metadata": {},
   "source": [
    "### CoV Matrix for XYZ\n",
    " - Get this direct from the coefficient evaluation"
   ]
  },
  {
   "cell_type": "code",
   "execution_count": 91,
   "metadata": {},
   "outputs": [
    {
     "data": {
      "text/plain": [
       "((10, 3, 3),\n",
       " array([[[ 0.00000000e+00, -2.67253843e-09, -5.34507687e-09],\n",
       "         [-2.67253843e-09, -1.60352306e-08, -1.87077690e-08],\n",
       "         [-5.34507687e-09, -1.87077690e-08, -2.93979228e-08]],\n",
       " \n",
       "        [[ 0.00000000e+00, -2.54790794e-09, -5.09581587e-09],\n",
       "         [-2.54790794e-09, -1.52874476e-08, -1.78353556e-08],\n",
       "         [-5.09581587e-09, -1.78353556e-08, -2.80269873e-08]],\n",
       " \n",
       "        [[ 0.00000000e+00, -2.10064542e-09, -4.20129083e-09],\n",
       "         [-2.10064542e-09, -1.26038725e-08, -1.47045179e-08],\n",
       "         [-4.20129083e-09, -1.47045179e-08, -2.31070996e-08]],\n",
       " \n",
       "        [[ 0.00000000e+00, -1.52113367e-09, -3.04226734e-09],\n",
       "         [-1.52113367e-09, -9.12680202e-09, -1.06479357e-08],\n",
       "         [-3.04226734e-09, -1.06479357e-08, -1.67324704e-08]],\n",
       " \n",
       "        [[ 0.00000000e+00,  1.37316995e-09,  2.74633990e-09],\n",
       "         [ 1.37316995e-09,  8.23901970e-09,  9.61218965e-09],\n",
       "         [ 2.74633990e-09,  9.61218965e-09,  1.51048694e-08]],\n",
       " \n",
       "        [[ 0.00000000e+00,  2.31558894e-09,  4.63117788e-09],\n",
       "         [ 2.31558894e-09,  1.38935336e-08,  1.62091226e-08],\n",
       "         [ 4.63117788e-09,  1.62091226e-08,  2.54714783e-08]],\n",
       " \n",
       "        [[ 0.00000000e+00,  2.47787498e-09,  4.95574997e-09],\n",
       "         [ 2.47787498e-09,  1.48672499e-08,  1.73451249e-08],\n",
       "         [ 4.95574997e-09,  1.73451249e-08,  2.72566248e-08]],\n",
       " \n",
       "        [[ 0.00000000e+00,  2.55374734e-09,  5.10749469e-09],\n",
       "         [ 2.55374734e-09,  1.53224841e-08,  1.78762314e-08],\n",
       "         [ 5.10749469e-09,  1.78762314e-08,  2.80912208e-08]],\n",
       " \n",
       "        [[ 0.00000000e+00,  2.61925216e-09,  5.23850433e-09],\n",
       "         [ 2.61925216e-09,  1.57155130e-08,  1.83347651e-08],\n",
       "         [ 5.23850433e-09,  1.83347651e-08,  2.88117738e-08]],\n",
       " \n",
       "        [[ 0.00000000e+00,  2.67623033e-09,  5.35246066e-09],\n",
       "         [ 2.67623033e-09,  1.60573820e-08,  1.87336123e-08],\n",
       "         [ 5.35246066e-09,  1.87336123e-08,  2.94385336e-08]]]))"
      ]
     },
     "execution_count": 91,
     "metadata": {},
     "output_type": "execute_result"
    }
   ],
   "source": [
    "cov_XYZ = M.covXYZ(evaluation_times)\n",
    "cov_XYZ.shape, cov_XYZ"
   ]
  },
  {
   "cell_type": "markdown",
   "metadata": {},
   "source": [
    "### CoV Matrix for RA,Dec\n",
    "- https://iopscience.iop.org/article/10.1086/316868/pdf\n",
    "\n",
    "$\\Sigma_{\\bf\\theta} = \\left[\\frac{d\\theta({\\bf\\alpha},t)}{d{\\bf\\alpha}}\\right]^T  \\Sigma_{\\bf\\alpha}  \\left[\\frac{d\\theta({\\bf\\alpha},t)}{d{\\bf\\alpha}}\\right]$ \n",
    "\n",
    "$\\Sigma_{(R,D)} = \\left[\\frac{d(R,D)({(X,Y,Z)},t)}{d{(X,Y,Z)}}\\right]^T  \\Sigma_{(X,Y,Z)}  \\left[\\frac{d(R,D)({(X,Y,Z)},t)}{d{(X,Y,Z)}}\\right]$ \n"
   ]
  },
  {
   "cell_type": "code",
   "execution_count": 92,
   "metadata": {},
   "outputs": [
    {
     "data": {
      "text/plain": [
       "(array([[-3.89651289e-06,  2.29448957e-06],\n",
       "        [ 2.29448957e-06, -1.74031132e-06]]),\n",
       " array([[1.53067798e-05, 8.94465387e-06],\n",
       "        [8.94465387e-06, 7.08768126e-06]]))"
      ]
     },
     "execution_count": 92,
     "metadata": {},
     "output_type": "execute_result"
    }
   ],
   "source": [
    "# Explicitly evaluate the first & last components we expect ...\n",
    "np.linalg.multi_dot([dRD[0].T , cov_XYZ[0], dRD[0]]) ,  np.linalg.multi_dot([dRD[-1].T , cov_XYZ[-1], dRD[-1]])"
   ]
  },
  {
   "cell_type": "code",
   "execution_count": 93,
   "metadata": {},
   "outputs": [
    {
     "name": "stdout",
     "output_type": "stream",
     "text": [
      "CPU times: user 13.1 ms, sys: 2.23 ms, total: 15.3 ms\n",
      "Wall time: 13.3 ms\n"
     ]
    },
    {
     "data": {
      "text/plain": [
       "(array([[-3.89651289e-06,  2.29448957e-06],\n",
       "        [ 2.29448957e-06, -1.74031132e-06]]),\n",
       " array([[1.53067798e-05, 8.94465387e-06],\n",
       "        [8.94465387e-06, 7.08768126e-06]]),\n",
       " (10, 2, 2))"
      ]
     },
     "execution_count": 93,
     "metadata": {},
     "output_type": "execute_result"
    }
   ],
   "source": [
    "%%time \n",
    "# Evaluate using the standard functionality\n",
    "cov_RD = M.covRaDec(evaluation_times, XYZobservatory_equatorial)\n",
    "cov_RD[0], cov_RD[-1] , cov_RD.shape"
   ]
  }
 ],
 "metadata": {
  "kernelspec": {
   "display_name": "Python 3",
   "language": "python",
   "name": "python3"
  },
  "language_info": {
   "codemirror_mode": {
    "name": "ipython",
    "version": 3
   },
   "file_extension": ".py",
   "mimetype": "text/x-python",
   "name": "python",
   "nbconvert_exporter": "python",
   "pygments_lexer": "ipython3",
   "version": "3.7.7"
  }
 },
 "nbformat": 4,
 "nbformat_minor": 2
}
