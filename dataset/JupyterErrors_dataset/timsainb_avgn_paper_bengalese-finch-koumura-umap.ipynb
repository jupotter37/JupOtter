{
 "cells": [
  {
   "cell_type": "code",
   "execution_count": 1,
   "metadata": {
    "ExecuteTime": {
     "end_time": "2020-04-25T00:59:15.598008Z",
     "start_time": "2020-04-25T00:59:15.574599Z"
    }
   },
   "outputs": [
    {
     "name": "stdout",
     "output_type": "stream",
     "text": [
      "env: CUDA_DEVICE_ORDER=PCI_BUS_ID\n",
      "env: CUDA_VISIBLE_DEVICES=0\n"
     ]
    }
   ],
   "source": [
    "%load_ext autoreload\n",
    "%autoreload 2\n",
    "%env CUDA_DEVICE_ORDER=PCI_BUS_ID\n",
    "%env CUDA_VISIBLE_DEVICES=0"
   ]
  },
  {
   "cell_type": "code",
   "execution_count": 2,
   "metadata": {
    "ExecuteTime": {
     "end_time": "2020-04-25T00:59:18.686293Z",
     "start_time": "2020-04-25T00:59:15.599913Z"
    }
   },
   "outputs": [
    {
     "name": "stderr",
     "output_type": "stream",
     "text": [
      "/mnt/cube/tsainbur/conda_envs/tpy3/lib/python3.6/site-packages/tqdm/autonotebook/__init__.py:14: TqdmExperimentalWarning: Using `tqdm.autonotebook.tqdm` in notebook mode. Use `tqdm.tqdm` instead to force console mode (e.g. in jupyter console)\n",
      "  \" (e.g. in jupyter console)\", TqdmExperimentalWarning)\n"
     ]
    }
   ],
   "source": [
    "import numpy as np\n",
    "import matplotlib.pyplot as plt\n",
    "from tqdm.autonotebook import tqdm\n",
    "import pandas as pd\n",
    "from cuml.manifold.umap import UMAP as cumlUMAP\n",
    "from avgn.utils.paths import DATA_DIR, most_recent_subdirectory, ensure_dir\n",
    "from avgn.signalprocessing.create_spectrogram_dataset import flatten_spectrograms"
   ]
  },
  {
   "cell_type": "markdown",
   "metadata": {},
   "source": [
    "### load data"
   ]
  },
  {
   "cell_type": "code",
   "execution_count": 3,
   "metadata": {
    "ExecuteTime": {
     "end_time": "2020-04-25T00:59:18.725385Z",
     "start_time": "2020-04-25T00:59:18.688752Z"
    }
   },
   "outputs": [],
   "source": [
    "DATASET_ID = 'koumura_bengalese_finch'\n",
    "df_loc =  DATA_DIR / 'syllable_dfs' / DATASET_ID / 'bf.pickle'"
   ]
  },
  {
   "cell_type": "code",
   "execution_count": 4,
   "metadata": {
    "ExecuteTime": {
     "end_time": "2020-04-25T00:59:19.569442Z",
     "start_time": "2020-04-25T00:59:18.727305Z"
    }
   },
   "outputs": [],
   "source": [
    "syllable_df = pd.read_pickle(df_loc)"
   ]
  },
  {
   "cell_type": "code",
   "execution_count": 5,
   "metadata": {
    "ExecuteTime": {
     "end_time": "2020-04-25T00:59:19.686669Z",
     "start_time": "2020-04-25T00:59:19.582900Z"
    }
   },
   "outputs": [
    {
     "data": {
      "text/html": [
       "<div>\n",
       "<style scoped>\n",
       "    .dataframe tbody tr th:only-of-type {\n",
       "        vertical-align: middle;\n",
       "    }\n",
       "\n",
       "    .dataframe tbody tr th {\n",
       "        vertical-align: top;\n",
       "    }\n",
       "\n",
       "    .dataframe thead th {\n",
       "        text-align: right;\n",
       "    }\n",
       "</style>\n",
       "<table border=\"1\" class=\"dataframe\">\n",
       "  <thead>\n",
       "    <tr style=\"text-align: right;\">\n",
       "      <th></th>\n",
       "      <th>start_time</th>\n",
       "      <th>end_time</th>\n",
       "      <th>labels</th>\n",
       "      <th>sequence_num</th>\n",
       "      <th>indv</th>\n",
       "      <th>indvi</th>\n",
       "      <th>key</th>\n",
       "      <th>rate</th>\n",
       "      <th>spectrogram</th>\n",
       "    </tr>\n",
       "  </thead>\n",
       "  <tbody>\n",
       "    <tr>\n",
       "      <th>0</th>\n",
       "      <td>1.158</td>\n",
       "      <td>1.249</td>\n",
       "      <td>0</td>\n",
       "      <td>0</td>\n",
       "      <td>Bird3</td>\n",
       "      <td>0</td>\n",
       "      <td>Bird3_322</td>\n",
       "      <td>32000</td>\n",
       "      <td>[[0, 0, 0, 110, 190, 203, 216, 217, 216, 219, ...</td>\n",
       "    </tr>\n",
       "    <tr>\n",
       "      <th>1</th>\n",
       "      <td>1.323</td>\n",
       "      <td>1.404</td>\n",
       "      <td>0</td>\n",
       "      <td>0</td>\n",
       "      <td>Bird3</td>\n",
       "      <td>0</td>\n",
       "      <td>Bird3_322</td>\n",
       "      <td>32000</td>\n",
       "      <td>[[0, 0, 0, 54, 164, 182, 187, 191, 196, 196, 1...</td>\n",
       "    </tr>\n",
       "    <tr>\n",
       "      <th>2</th>\n",
       "      <td>1.530</td>\n",
       "      <td>1.564</td>\n",
       "      <td>0</td>\n",
       "      <td>0</td>\n",
       "      <td>Bird3</td>\n",
       "      <td>0</td>\n",
       "      <td>Bird3_322</td>\n",
       "      <td>32000</td>\n",
       "      <td>[[0, 0, 0, 0, 0, 106, 100, 181, 209, 202, 196,...</td>\n",
       "    </tr>\n",
       "  </tbody>\n",
       "</table>\n",
       "</div>"
      ],
      "text/plain": [
       "   start_time  end_time labels  sequence_num   indv  indvi        key   rate  \\\n",
       "0       1.158     1.249      0             0  Bird3      0  Bird3_322  32000   \n",
       "1       1.323     1.404      0             0  Bird3      0  Bird3_322  32000   \n",
       "2       1.530     1.564      0             0  Bird3      0  Bird3_322  32000   \n",
       "\n",
       "                                         spectrogram  \n",
       "0  [[0, 0, 0, 110, 190, 203, 216, 217, 216, 219, ...  \n",
       "1  [[0, 0, 0, 54, 164, 182, 187, 191, 196, 196, 1...  \n",
       "2  [[0, 0, 0, 0, 0, 106, 100, 181, 209, 202, 196,...  "
      ]
     },
     "execution_count": 5,
     "metadata": {},
     "output_type": "execute_result"
    }
   ],
   "source": [
    "syllable_df[:3]"
   ]
  },
  {
   "cell_type": "code",
   "execution_count": 6,
   "metadata": {
    "ExecuteTime": {
     "end_time": "2020-04-25T00:59:19.765952Z",
     "start_time": "2020-04-25T00:59:19.688232Z"
    }
   },
   "outputs": [
    {
     "data": {
      "text/plain": [
       "(32, 21)"
      ]
     },
     "execution_count": 6,
     "metadata": {},
     "output_type": "execute_result"
    }
   ],
   "source": [
    "np.shape(syllable_df.spectrogram.values[0])"
   ]
  },
  {
   "cell_type": "markdown",
   "metadata": {},
   "source": [
    "### project"
   ]
  },
  {
   "cell_type": "code",
   "execution_count": 7,
   "metadata": {
    "ExecuteTime": {
     "end_time": "2020-04-25T00:59:19.848456Z",
     "start_time": "2020-04-25T00:59:19.767568Z"
    }
   },
   "outputs": [],
   "source": [
    "ensure_dir(DATA_DIR / 'embeddings' / DATASET_ID / 'full')"
   ]
  },
  {
   "cell_type": "code",
   "execution_count": 8,
   "metadata": {
    "ExecuteTime": {
     "end_time": "2020-04-25T00:59:23.977070Z",
     "start_time": "2020-04-25T00:59:19.850217Z"
    }
   },
   "outputs": [
    {
     "data": {
      "application/vnd.jupyter.widget-view+json": {
       "model_id": "781de443055b48d2a8bfc18ffa92b8e8",
       "version_major": 2,
       "version_minor": 0
      },
      "text/plain": [
       "HBox(children=(IntProgress(value=0, max=11), HTML(value='')))"
      ]
     },
     "metadata": {},
     "output_type": "display_data"
    },
    {
     "data": {
      "application/vnd.jupyter.widget-view+json": {
       "model_id": "b23b6b6e631d4893b006ca02bfd776a0",
       "version_major": 2,
       "version_minor": 0
      },
      "text/plain": [
       "HBox(children=(IntProgress(value=0, max=29470), HTML(value='')))"
      ]
     },
     "metadata": {},
     "output_type": "display_data"
    },
    {
     "name": "stdout",
     "output_type": "stream",
     "text": [
      "(29470, 672)\n",
      "\n"
     ]
    },
    {
     "name": "stderr",
     "output_type": "stream",
     "text": [
      "Exception ignored in: <bound method UMAP.__del__ of UMAP(n_neighbors=0.01, verbose=False, handle=<cuml.common.handle.Handle object at 0x7f05e6a78df0>, hash_input=False)>\n",
      "Traceback (most recent call last):\n",
      "  File \"cuml/manifold/umap.pyx\", line 394, in cuml.manifold.umap.UMAP.__del__\n",
      "TypeError: an integer is required\n"
     ]
    },
    {
     "ename": "RuntimeError",
     "evalue": "Exception occured! file=/conda/conda-bld/libcuml_1583952676191/work/cpp/src_prims/linalg/binary_op.h line=52: FAIL: call='cudaPeekAtLastError()'. Reason:no kernel image is available for execution on the device\n\nObtained 64 stack frames\n#0 in /mnt/cube/tsainbur/conda_envs/tpy3/lib/python3.6/site-packages/cuml/utils/pointer_utils.cpython-36m-x86_64-linux-gnu.so(_ZN8MLCommon9Exception16collectCallStackEv+0x3e) [0x7f053ac4e37e]\n#1 in /mnt/cube/tsainbur/conda_envs/tpy3/lib/python3.6/site-packages/cuml/utils/pointer_utils.cpython-36m-x86_64-linux-gnu.so(_ZN8MLCommon9ExceptionC1ERKNSt7__cxx1112basic_stringIcSt11char_traitsIcESaIcEEE+0x80) [0x7f053ac4ee90]\n#2 in /mnt/cube/tsainbur/conda_envs/tpy3/lib/python3.6/site-packages/cuml/utils/../../../../libcuml++.so(_ZN8MLCommon6LinAlg12binaryOpImplIfLi4E17__nv_dl_wrapper_tI11__nv_dl_tagIPFvPfPKfS6_iP11CUstream_stEXadL_ZNS0_10eltwiseSubIfiEEvPT_PKSC_SF_T0_S8_EELj1EEIEEifLi256EEEvPT3_SF_SF_T2_T1_S8_+0x27a) [0x7f0529cef5ba]\n#3 in /mnt/cube/tsainbur/conda_envs/tpy3/lib/python3.6/site-packages/cuml/utils/../../../../libcuml++.so(_ZN8UMAPAlgo8Optimize11abLossGradsIfLi256EEEvPT_iPKS2_S3_S3_PN2ML10UMAPParamsESt10shared_ptrIN8MLCommon15deviceAllocatorEEP11CUstream_st+0x7ca) [0x7f0529e0b59a]\n#4 in /mnt/cube/tsainbur/conda_envs/tpy3/lib/python3.6/site-packages/cuml/utils/../../../../libcuml++.so(_ZN8UMAPAlgo8Optimize15optimize_paramsIfLi256EEEvPT_iPKS2_S3_PN2ML10UMAPParamsESt10shared_ptrIN8MLCommon15deviceAllocatorEEP11CUstream_stfi+0x157) [0x7f0529e06997]\n#5 in /mnt/cube/tsainbur/conda_envs/tpy3/lib/python3.6/site-packages/cuml/utils/../../../../libcuml++.so(_ZN8UMAPAlgo8Optimize14find_params_abEPN2ML10UMAPParamsESt10shared_ptrIN8MLCommon15deviceAllocatorEEP11CUstream_st+0x360) [0x7f0529e04ef0]\n#6 in /mnt/cube/tsainbur/conda_envs/tpy3/lib/python3.6/site-packages/cuml/utils/../../../../libcuml++.so(_ZN8UMAPAlgo7find_abEPN2ML10UMAPParamsESt10shared_ptrIN8MLCommon15deviceAllocatorEEP11CUstream_st+0x42) [0x7f0529e055d2]\n#7 in /mnt/cube/tsainbur/conda_envs/tpy3/lib/python3.6/site-packages/cuml/utils/../../../../libcuml++.so(_ZN2ML7find_abERKNS_10cumlHandleEPNS_10UMAPParamsE+0x6c) [0x7f0529e0574c]\n#8 in /mnt/cube/tsainbur/conda_envs/tpy3/lib/python3.6/site-packages/cuml/manifold/umap.cpython-36m-x86_64-linux-gnu.so(+0x185e7) [0x7f051c5db5e7]\n#9 in /mnt/cube/tsainbur/conda_envs/tpy3/bin/python(_PyObject_FastCallDict+0x8b) [0x559608f087bb]\n#10 in /mnt/cube/tsainbur/conda_envs/tpy3/bin/python(_PyObject_Call_Prepend+0x63) [0x559608f0d613]\n#11 in /mnt/cube/tsainbur/conda_envs/tpy3/bin/python(PyObject_Call+0x3e) [0x559608f083de]\n#12 in /mnt/cube/tsainbur/conda_envs/tpy3/bin/python(+0x1789fb) [0x559608f6d9fb]\n#13 in /mnt/cube/tsainbur/conda_envs/tpy3/bin/python(+0x1a37a7) [0x559608f987a7]\n#14 in /mnt/cube/tsainbur/conda_envs/tpy3/bin/python(_PyObject_FastCallDict+0x8b) [0x559608f087bb]\n#15 in /mnt/cube/tsainbur/conda_envs/tpy3/bin/python(+0x1a35be) [0x559608f985be]\n#16 in /mnt/cube/tsainbur/conda_envs/tpy3/bin/python(_PyEval_EvalFrameDefault+0x30a) [0x559608fbb73a]\n#17 in /mnt/cube/tsainbur/conda_envs/tpy3/bin/python(PyEval_EvalCodeEx+0x329) [0x559608f67749]\n#18 in /mnt/cube/tsainbur/conda_envs/tpy3/bin/python(PyEval_EvalCode+0x1c) [0x559608f684ec]\n#19 in /mnt/cube/tsainbur/conda_envs/tpy3/bin/python(+0x1c414b) [0x559608fb914b]\n#20 in /mnt/cube/tsainbur/conda_envs/tpy3/bin/python(_PyCFunction_FastCallDict+0x91) [0x559608f08511]\n#21 in /mnt/cube/tsainbur/conda_envs/tpy3/bin/python(+0x1a346c) [0x559608f9846c]\n#22 in /mnt/cube/tsainbur/conda_envs/tpy3/bin/python(_PyEval_EvalFrameDefault+0x30a) [0x559608fbb73a]\n#23 in /mnt/cube/tsainbur/conda_envs/tpy3/bin/python(_PyGen_Send+0x256) [0x559608f9b7e6]\n#24 in /mnt/cube/tsainbur/conda_envs/tpy3/bin/python(_PyEval_EvalFrameDefault+0x13d4) [0x559608fbc804]\n#25 in /mnt/cube/tsainbur/conda_envs/tpy3/bin/python(_PyGen_Send+0x256) [0x559608f9b7e6]\n#26 in /mnt/cube/tsainbur/conda_envs/tpy3/bin/python(_PyEval_EvalFrameDefault+0x13d4) [0x559608fbc804]\n#27 in /mnt/cube/tsainbur/conda_envs/tpy3/bin/python(_PyGen_Send+0x256) [0x559608f9b7e6]\n#28 in /mnt/cube/tsainbur/conda_envs/tpy3/bin/python(_PyCFunction_FastCallDict+0x115) [0x559608f08595]\n#29 in /mnt/cube/tsainbur/conda_envs/tpy3/bin/python(+0x1a346c) [0x559608f9846c]\n#30 in /mnt/cube/tsainbur/conda_envs/tpy3/bin/python(_PyEval_EvalFrameDefault+0x30a) [0x559608fbb73a]\n#31 in /mnt/cube/tsainbur/conda_envs/tpy3/bin/python(+0x16ee4b) [0x559608f63e4b]\n#32 in /mnt/cube/tsainbur/conda_envs/tpy3/bin/python(+0x1a3545) [0x559608f98545]\n#33 in /mnt/cube/tsainbur/conda_envs/tpy3/bin/python(_PyEval_EvalFrameDefault+0x30a) [0x559608fbb73a]\n#34 in /mnt/cube/tsainbur/conda_envs/tpy3/bin/python(+0x16ee4b) [0x559608f63e4b]\n#35 in /mnt/cube/tsainbur/conda_envs/tpy3/bin/python(+0x1a3545) [0x559608f98545]\n#36 in /mnt/cube/tsainbur/conda_envs/tpy3/bin/python(_PyEval_EvalFrameDefault+0x30a) [0x559608fbb73a]\n#37 in /mnt/cube/tsainbur/conda_envs/tpy3/bin/python(+0x16e056) [0x559608f63056]\n#38 in /mnt/cube/tsainbur/conda_envs/tpy3/bin/python(_PyFunction_FastCallDict+0x3da) [0x559608f6476a]\n#39 in /mnt/cube/tsainbur/conda_envs/tpy3/bin/python(_PyObject_FastCallDict+0x26f) [0x559608f0899f]\n#40 in /mnt/cube/tsainbur/conda_envs/tpy3/bin/python(_PyObject_Call_Prepend+0x63) [0x559608f0d613]\n#41 in /mnt/cube/tsainbur/conda_envs/tpy3/bin/python(PyObject_Call+0x3e) [0x559608f083de]\n#42 in /mnt/cube/tsainbur/conda_envs/tpy3/bin/python(_PyEval_EvalFrameDefault+0x1a26) [0x559608fbce56]\n#43 in /mnt/cube/tsainbur/conda_envs/tpy3/bin/python(+0x16e326) [0x559608f63326]\n#44 in /mnt/cube/tsainbur/conda_envs/tpy3/bin/python(+0x16f08f) [0x559608f6408f]\n#45 in /mnt/cube/tsainbur/conda_envs/tpy3/bin/python(+0x1a3545) [0x559608f98545]\n#46 in /mnt/cube/tsainbur/conda_envs/tpy3/bin/python(_PyEval_EvalFrameDefault+0x1027) [0x559608fbc457]\n#47 in /mnt/cube/tsainbur/conda_envs/tpy3/bin/python(+0x1a6364) [0x559608f9b364]\n#48 in /mnt/cube/tsainbur/conda_envs/tpy3/bin/python(_PyCFunction_FastCallDict+0x91) [0x559608f08511]\n#49 in /mnt/cube/tsainbur/conda_envs/tpy3/bin/python(+0x1a346c) [0x559608f9846c]\n#50 in /mnt/cube/tsainbur/conda_envs/tpy3/bin/python(_PyEval_EvalFrameDefault+0x30a) [0x559608fbb73a]\n#51 in /mnt/cube/tsainbur/conda_envs/tpy3/bin/python(+0x16e48e) [0x559608f6348e]\n#52 in /mnt/cube/tsainbur/conda_envs/tpy3/bin/python(+0x16f08f) [0x559608f6408f]\n#53 in /mnt/cube/tsainbur/conda_envs/tpy3/bin/python(+0x1a3545) [0x559608f98545]\n#54 in /mnt/cube/tsainbur/conda_envs/tpy3/bin/python(_PyEval_EvalFrameDefault+0x30a) [0x559608fbb73a]\n#55 in /mnt/cube/tsainbur/conda_envs/tpy3/bin/python(+0x1a6364) [0x559608f9b364]\n#56 in /mnt/cube/tsainbur/conda_envs/tpy3/bin/python(_PyCFunction_FastCallDict+0x91) [0x559608f08511]\n#57 in /mnt/cube/tsainbur/conda_envs/tpy3/bin/python(+0x1a346c) [0x559608f9846c]\n#58 in /mnt/cube/tsainbur/conda_envs/tpy3/bin/python(_PyEval_EvalFrameDefault+0x30a) [0x559608fbb73a]\n#59 in /mnt/cube/tsainbur/conda_envs/tpy3/bin/python(+0x16e48e) [0x559608f6348e]\n#60 in /mnt/cube/tsainbur/conda_envs/tpy3/bin/python(+0x16f08f) [0x559608f6408f]\n#61 in /mnt/cube/tsainbur/conda_envs/tpy3/bin/python(+0x1a3545) [0x559608f98545]\n#62 in /mnt/cube/tsainbur/conda_envs/tpy3/bin/python(_PyEval_EvalFrameDefault+0x30a) [0x559608fbb73a]\n#63 in /mnt/cube/tsainbur/conda_envs/tpy3/bin/python(+0x1a6364) [0x559608f9b364]\n",
     "output_type": "error",
     "traceback": [
      "\u001b[0;31m---------------------------------------------------------------------------\u001b[0m",
      "\u001b[0;31mRuntimeError\u001b[0m                              Traceback (most recent call last)",
      "\u001b[0;32m<ipython-input-8-058f10336840>\u001b[0m in \u001b[0;36m<module>\u001b[0;34m\u001b[0m\n\u001b[1;32m      7\u001b[0m     \u001b[0mprint\u001b[0m\u001b[0;34m(\u001b[0m\u001b[0mnp\u001b[0m\u001b[0;34m.\u001b[0m\u001b[0mshape\u001b[0m\u001b[0;34m(\u001b[0m\u001b[0mspecs_flattened\u001b[0m\u001b[0;34m)\u001b[0m\u001b[0;34m)\u001b[0m\u001b[0;34m\u001b[0m\u001b[0;34m\u001b[0m\u001b[0m\n\u001b[1;32m      8\u001b[0m \u001b[0;34m\u001b[0m\u001b[0m\n\u001b[0;32m----> 9\u001b[0;31m     \u001b[0mcuml_umap\u001b[0m \u001b[0;34m=\u001b[0m \u001b[0mcumlUMAP\u001b[0m\u001b[0;34m(\u001b[0m\u001b[0;36m0.01\u001b[0m\u001b[0;34m)\u001b[0m\u001b[0;34m\u001b[0m\u001b[0;34m\u001b[0m\u001b[0m\n\u001b[0m\u001b[1;32m     10\u001b[0m     \u001b[0membedding\u001b[0m \u001b[0;34m=\u001b[0m \u001b[0mcuml_umap\u001b[0m\u001b[0;34m.\u001b[0m\u001b[0mfit_transform\u001b[0m\u001b[0;34m(\u001b[0m\u001b[0mspecs_flattened\u001b[0m\u001b[0;34m)\u001b[0m\u001b[0;34m\u001b[0m\u001b[0;34m\u001b[0m\u001b[0m\n\u001b[1;32m     11\u001b[0m     \u001b[0msubset_df\u001b[0m\u001b[0;34m[\u001b[0m\u001b[0;34m'umap-0.01'\u001b[0m\u001b[0;34m]\u001b[0m \u001b[0;34m=\u001b[0m \u001b[0mlist\u001b[0m\u001b[0;34m(\u001b[0m\u001b[0membedding\u001b[0m\u001b[0;34m)\u001b[0m\u001b[0;34m\u001b[0m\u001b[0;34m\u001b[0m\u001b[0m\n",
      "\u001b[0;32mcuml/manifold/umap.pyx\u001b[0m in \u001b[0;36mcuml.manifold.umap.UMAP.__init__\u001b[0;34m()\u001b[0m\n",
      "\u001b[0;31mRuntimeError\u001b[0m: Exception occured! file=/conda/conda-bld/libcuml_1583952676191/work/cpp/src_prims/linalg/binary_op.h line=52: FAIL: call='cudaPeekAtLastError()'. Reason:no kernel image is available for execution on the device\n\nObtained 64 stack frames\n#0 in /mnt/cube/tsainbur/conda_envs/tpy3/lib/python3.6/site-packages/cuml/utils/pointer_utils.cpython-36m-x86_64-linux-gnu.so(_ZN8MLCommon9Exception16collectCallStackEv+0x3e) [0x7f053ac4e37e]\n#1 in /mnt/cube/tsainbur/conda_envs/tpy3/lib/python3.6/site-packages/cuml/utils/pointer_utils.cpython-36m-x86_64-linux-gnu.so(_ZN8MLCommon9ExceptionC1ERKNSt7__cxx1112basic_stringIcSt11char_traitsIcESaIcEEE+0x80) [0x7f053ac4ee90]\n#2 in /mnt/cube/tsainbur/conda_envs/tpy3/lib/python3.6/site-packages/cuml/utils/../../../../libcuml++.so(_ZN8MLCommon6LinAlg12binaryOpImplIfLi4E17__nv_dl_wrapper_tI11__nv_dl_tagIPFvPfPKfS6_iP11CUstream_stEXadL_ZNS0_10eltwiseSubIfiEEvPT_PKSC_SF_T0_S8_EELj1EEIEEifLi256EEEvPT3_SF_SF_T2_T1_S8_+0x27a) [0x7f0529cef5ba]\n#3 in /mnt/cube/tsainbur/conda_envs/tpy3/lib/python3.6/site-packages/cuml/utils/../../../../libcuml++.so(_ZN8UMAPAlgo8Optimize11abLossGradsIfLi256EEEvPT_iPKS2_S3_S3_PN2ML10UMAPParamsESt10shared_ptrIN8MLCommon15deviceAllocatorEEP11CUstream_st+0x7ca) [0x7f0529e0b59a]\n#4 in /mnt/cube/tsainbur/conda_envs/tpy3/lib/python3.6/site-packages/cuml/utils/../../../../libcuml++.so(_ZN8UMAPAlgo8Optimize15optimize_paramsIfLi256EEEvPT_iPKS2_S3_PN2ML10UMAPParamsESt10shared_ptrIN8MLCommon15deviceAllocatorEEP11CUstream_stfi+0x157) [0x7f0529e06997]\n#5 in /mnt/cube/tsainbur/conda_envs/tpy3/lib/python3.6/site-packages/cuml/utils/../../../../libcuml++.so(_ZN8UMAPAlgo8Optimize14find_params_abEPN2ML10UMAPParamsESt10shared_ptrIN8MLCommon15deviceAllocatorEEP11CUstream_st+0x360) [0x7f0529e04ef0]\n#6 in /mnt/cube/tsainbur/conda_envs/tpy3/lib/python3.6/site-packages/cuml/utils/../../../../libcuml++.so(_ZN8UMAPAlgo7find_abEPN2ML10UMAPParamsESt10shared_ptrIN8MLCommon15deviceAllocatorEEP11CUstream_st+0x42) [0x7f0529e055d2]\n#7 in /mnt/cube/tsainbur/conda_envs/tpy3/lib/python3.6/site-packages/cuml/utils/../../../../libcuml++.so(_ZN2ML7find_abERKNS_10cumlHandleEPNS_10UMAPParamsE+0x6c) [0x7f0529e0574c]\n#8 in /mnt/cube/tsainbur/conda_envs/tpy3/lib/python3.6/site-packages/cuml/manifold/umap.cpython-36m-x86_64-linux-gnu.so(+0x185e7) [0x7f051c5db5e7]\n#9 in /mnt/cube/tsainbur/conda_envs/tpy3/bin/python(_PyObject_FastCallDict+0x8b) [0x559608f087bb]\n#10 in /mnt/cube/tsainbur/conda_envs/tpy3/bin/python(_PyObject_Call_Prepend+0x63) [0x559608f0d613]\n#11 in /mnt/cube/tsainbur/conda_envs/tpy3/bin/python(PyObject_Call+0x3e) [0x559608f083de]\n#12 in /mnt/cube/tsainbur/conda_envs/tpy3/bin/python(+0x1789fb) [0x559608f6d9fb]\n#13 in /mnt/cube/tsainbur/conda_envs/tpy3/bin/python(+0x1a37a7) [0x559608f987a7]\n#14 in /mnt/cube/tsainbur/conda_envs/tpy3/bin/python(_PyObject_FastCallDict+0x8b) [0x559608f087bb]\n#15 in /mnt/cube/tsainbur/conda_envs/tpy3/bin/python(+0x1a35be) [0x559608f985be]\n#16 in /mnt/cube/tsainbur/conda_envs/tpy3/bin/python(_PyEval_EvalFrameDefault+0x30a) [0x559608fbb73a]\n#17 in /mnt/cube/tsainbur/conda_envs/tpy3/bin/python(PyEval_EvalCodeEx+0x329) [0x559608f67749]\n#18 in /mnt/cube/tsainbur/conda_envs/tpy3/bin/python(PyEval_EvalCode+0x1c) [0x559608f684ec]\n#19 in /mnt/cube/tsainbur/conda_envs/tpy3/bin/python(+0x1c414b) [0x559608fb914b]\n#20 in /mnt/cube/tsainbur/conda_envs/tpy3/bin/python(_PyCFunction_FastCallDict+0x91) [0x559608f08511]\n#21 in /mnt/cube/tsainbur/conda_envs/tpy3/bin/python(+0x1a346c) [0x559608f9846c]\n#22 in /mnt/cube/tsainbur/conda_envs/tpy3/bin/python(_PyEval_EvalFrameDefault+0x30a) [0x559608fbb73a]\n#23 in /mnt/cube/tsainbur/conda_envs/tpy3/bin/python(_PyGen_Send+0x256) [0x559608f9b7e6]\n#24 in /mnt/cube/tsainbur/conda_envs/tpy3/bin/python(_PyEval_EvalFrameDefault+0x13d4) [0x559608fbc804]\n#25 in /mnt/cube/tsainbur/conda_envs/tpy3/bin/python(_PyGen_Send+0x256) [0x559608f9b7e6]\n#26 in /mnt/cube/tsainbur/conda_envs/tpy3/bin/python(_PyEval_EvalFrameDefault+0x13d4) [0x559608fbc804]\n#27 in /mnt/cube/tsainbur/conda_envs/tpy3/bin/python(_PyGen_Send+0x256) [0x559608f9b7e6]\n#28 in /mnt/cube/tsainbur/conda_envs/tpy3/bin/python(_PyCFunction_FastCallDict+0x115) [0x559608f08595]\n#29 in /mnt/cube/tsainbur/conda_envs/tpy3/bin/python(+0x1a346c) [0x559608f9846c]\n#30 in /mnt/cube/tsainbur/conda_envs/tpy3/bin/python(_PyEval_EvalFrameDefault+0x30a) [0x559608fbb73a]\n#31 in /mnt/cube/tsainbur/conda_envs/tpy3/bin/python(+0x16ee4b) [0x559608f63e4b]\n#32 in /mnt/cube/tsainbur/conda_envs/tpy3/bin/python(+0x1a3545) [0x559608f98545]\n#33 in /mnt/cube/tsainbur/conda_envs/tpy3/bin/python(_PyEval_EvalFrameDefault+0x30a) [0x559608fbb73a]\n#34 in /mnt/cube/tsainbur/conda_envs/tpy3/bin/python(+0x16ee4b) [0x559608f63e4b]\n#35 in /mnt/cube/tsainbur/conda_envs/tpy3/bin/python(+0x1a3545) [0x559608f98545]\n#36 in /mnt/cube/tsainbur/conda_envs/tpy3/bin/python(_PyEval_EvalFrameDefault+0x30a) [0x559608fbb73a]\n#37 in /mnt/cube/tsainbur/conda_envs/tpy3/bin/python(+0x16e056) [0x559608f63056]\n#38 in /mnt/cube/tsainbur/conda_envs/tpy3/bin/python(_PyFunction_FastCallDict+0x3da) [0x559608f6476a]\n#39 in /mnt/cube/tsainbur/conda_envs/tpy3/bin/python(_PyObject_FastCallDict+0x26f) [0x559608f0899f]\n#40 in /mnt/cube/tsainbur/conda_envs/tpy3/bin/python(_PyObject_Call_Prepend+0x63) [0x559608f0d613]\n#41 in /mnt/cube/tsainbur/conda_envs/tpy3/bin/python(PyObject_Call+0x3e) [0x559608f083de]\n#42 in /mnt/cube/tsainbur/conda_envs/tpy3/bin/python(_PyEval_EvalFrameDefault+0x1a26) [0x559608fbce56]\n#43 in /mnt/cube/tsainbur/conda_envs/tpy3/bin/python(+0x16e326) [0x559608f63326]\n#44 in /mnt/cube/tsainbur/conda_envs/tpy3/bin/python(+0x16f08f) [0x559608f6408f]\n#45 in /mnt/cube/tsainbur/conda_envs/tpy3/bin/python(+0x1a3545) [0x559608f98545]\n#46 in /mnt/cube/tsainbur/conda_envs/tpy3/bin/python(_PyEval_EvalFrameDefault+0x1027) [0x559608fbc457]\n#47 in /mnt/cube/tsainbur/conda_envs/tpy3/bin/python(+0x1a6364) [0x559608f9b364]\n#48 in /mnt/cube/tsainbur/conda_envs/tpy3/bin/python(_PyCFunction_FastCallDict+0x91) [0x559608f08511]\n#49 in /mnt/cube/tsainbur/conda_envs/tpy3/bin/python(+0x1a346c) [0x559608f9846c]\n#50 in /mnt/cube/tsainbur/conda_envs/tpy3/bin/python(_PyEval_EvalFrameDefault+0x30a) [0x559608fbb73a]\n#51 in /mnt/cube/tsainbur/conda_envs/tpy3/bin/python(+0x16e48e) [0x559608f6348e]\n#52 in /mnt/cube/tsainbur/conda_envs/tpy3/bin/python(+0x16f08f) [0x559608f6408f]\n#53 in /mnt/cube/tsainbur/conda_envs/tpy3/bin/python(+0x1a3545) [0x559608f98545]\n#54 in /mnt/cube/tsainbur/conda_envs/tpy3/bin/python(_PyEval_EvalFrameDefault+0x30a) [0x559608fbb73a]\n#55 in /mnt/cube/tsainbur/conda_envs/tpy3/bin/python(+0x1a6364) [0x559608f9b364]\n#56 in /mnt/cube/tsainbur/conda_envs/tpy3/bin/python(_PyCFunction_FastCallDict+0x91) [0x559608f08511]\n#57 in /mnt/cube/tsainbur/conda_envs/tpy3/bin/python(+0x1a346c) [0x559608f9846c]\n#58 in /mnt/cube/tsainbur/conda_envs/tpy3/bin/python(_PyEval_EvalFrameDefault+0x30a) [0x559608fbb73a]\n#59 in /mnt/cube/tsainbur/conda_envs/tpy3/bin/python(+0x16e48e) [0x559608f6348e]\n#60 in /mnt/cube/tsainbur/conda_envs/tpy3/bin/python(+0x16f08f) [0x559608f6408f]\n#61 in /mnt/cube/tsainbur/conda_envs/tpy3/bin/python(+0x1a3545) [0x559608f98545]\n#62 in /mnt/cube/tsainbur/conda_envs/tpy3/bin/python(_PyEval_EvalFrameDefault+0x30a) [0x559608fbb73a]\n#63 in /mnt/cube/tsainbur/conda_envs/tpy3/bin/python(+0x1a6364) [0x559608f9b364]\n"
     ]
    }
   ],
   "source": [
    "for indv in tqdm(syllable_df.indv.unique()):\n",
    "    subset_df = syllable_df[syllable_df.indv == indv]\n",
    "    \n",
    "    specs = list(subset_df.spectrogram.values)\n",
    "    specs = [i/np.max(i) for i in tqdm(specs)]\n",
    "    specs_flattened = flatten_spectrograms(specs)\n",
    "    print(np.shape(specs_flattened))\n",
    "    \n",
    "    cuml_umap = cumlUMAP(0.01)\n",
    "    embedding = cuml_umap.fit_transform(specs_flattened)\n",
    "    subset_df['umap-0.01'] = list(embedding)\n",
    "    \n",
    "    cuml_umap = cumlUMAP(min_dist=0.1)\n",
    "    embedding = cuml_umap.fit_transform(specs_flattened)\n",
    "    subset_df['umap-0.1'] = list(embedding)\n",
    "    \n",
    "    cuml_umap = cumlUMAP(min_dist=0.5)\n",
    "    embedding = cuml_umap.fit_transform(specs_flattened)\n",
    "    subset_df['umap-0.5'] = list(embedding)\n",
    "    \n",
    "    ensure_dir(DATA_DIR / 'embeddings' / 'multiple_spread' / DATASET_ID / 'indvs')\n",
    "    subset_df.to_pickle(DATA_DIR / 'embeddings' / 'multiple_spread' / DATASET_ID / 'indvs' / (indv + '.pickle'))"
   ]
  },
  {
   "cell_type": "code",
   "execution_count": null,
   "metadata": {},
   "outputs": [],
   "source": []
  }
 ],
 "metadata": {
  "kernelspec": {
   "display_name": "Python 3",
   "language": "python",
   "name": "python3"
  },
  "language_info": {
   "codemirror_mode": {
    "name": "ipython",
    "version": 3
   },
   "file_extension": ".py",
   "mimetype": "text/x-python",
   "name": "python",
   "nbconvert_exporter": "python",
   "pygments_lexer": "ipython3",
   "version": "3.6.7"
  }
 },
 "nbformat": 4,
 "nbformat_minor": 2
}
