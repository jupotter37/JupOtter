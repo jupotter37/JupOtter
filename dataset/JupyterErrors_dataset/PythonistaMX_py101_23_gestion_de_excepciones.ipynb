{
 "cells": [
  {
   "cell_type": "markdown",
   "metadata": {},
   "source": [
    "[![pythonista.io](imagenes/pythonista.png)](https://www.pythonista.io)"
   ]
  },
  {
   "cell_type": "markdown",
   "metadata": {},
   "source": [
    "# Gestión de excepciones.\n",
    "\n",
    "Una de las características más poderosas del lenguaje es la gestión de excepciones. Debido a lo dinámico que puede ser Python es muy común que el intérprete se tope con múltiples fuentes de error.\n",
    "\n",
    "Con Python no sólo es posible identificar y rastrear los errores, sino tomar acciones correctivas y preventivas."
   ]
  },
  {
   "cell_type": "markdown",
   "metadata": {},
   "source": [
    "## Errores de sintaxis."
   ]
  },
  {
   "cell_type": "markdown",
   "metadata": {},
   "source": [
    "Los errores sintácticos son los más comunes cuando se  escribe código.\n",
    "\n",
    "Los errores sintácticos ocurren cuando el intérprete encuentra una expresión que no está bien formada (rompe las reglas de sintaxis)."
   ]
  },
  {
   "cell_type": "markdown",
   "metadata": {},
   "source": [
    "**Ejemplo:**"
   ]
  },
  {
   "cell_type": "code",
   "execution_count": 1,
   "metadata": {
    "scrolled": true
   },
   "outputs": [
    {
     "ename": "SyntaxError",
     "evalue": "Missing parentheses in call to 'print'. Did you mean print(hola)? (3933500850.py, line 1)",
     "output_type": "error",
     "traceback": [
      "\u001b[0;36m  Input \u001b[0;32mIn [1]\u001b[0;36m\u001b[0m\n\u001b[0;31m    print hola\u001b[0m\n\u001b[0m          ^\u001b[0m\n\u001b[0;31mSyntaxError\u001b[0m\u001b[0;31m:\u001b[0m Missing parentheses in call to 'print'. Did you mean print(hola)?\n"
     ]
    }
   ],
   "source": [
    "print hola"
   ]
  },
  {
   "cell_type": "markdown",
   "metadata": {},
   "source": [
    "## Excepciones.\n",
    "\n",
    "Las excepciones son errores lógicos que detienen la ejecución del programa aún cuando la sintaxis del código sea correcta.\n",
    "\n",
    "**Ejemplo:**"
   ]
  },
  {
   "cell_type": "markdown",
   "metadata": {},
   "source": [
    "* La siguiente celda desencadenará una excepciónde tipo ```NameError``` debido a que el nombre ```Hola``` no ha sido definido y registrado en el espacio de nombres del intérprete."
   ]
  },
  {
   "cell_type": "code",
   "execution_count": 2,
   "metadata": {
    "scrolled": true
   },
   "outputs": [
    {
     "ename": "NameError",
     "evalue": "name 'Hola' is not defined",
     "output_type": "error",
     "traceback": [
      "\u001b[0;31m---------------------------------------------------------------------------\u001b[0m",
      "\u001b[0;31mNameError\u001b[0m                                 Traceback (most recent call last)",
      "Input \u001b[0;32mIn [2]\u001b[0m, in \u001b[0;36m<cell line: 1>\u001b[0;34m()\u001b[0m\n\u001b[0;32m----> 1\u001b[0m \u001b[38;5;28mprint\u001b[39m(\u001b[43mHola\u001b[49m)\n",
      "\u001b[0;31mNameError\u001b[0m: name 'Hola' is not defined"
     ]
    }
   ],
   "source": [
    "print(Hola)"
   ]
  },
  {
   "cell_type": "markdown",
   "metadata": {},
   "source": [
    "## Análisis de excepciones.\n",
    "\n",
    "A continuación se analizarán algunos tipos de excepciones a partir de un código susceptible de incurrir en varias de ellas.\n",
    "\n",
    "Aún cuando la función es muy simple y contiene código sintácticamente correcto, puede generar diversos errores, los cuales serán analizados."
   ]
  },
  {
   "cell_type": "markdown",
   "metadata": {},
   "source": [
    "**Ejemplo:**"
   ]
  },
  {
   "cell_type": "markdown",
   "metadata": {},
   "source": [
    "* La función ```excepcion_probable()``` incluye código  susceptible de generar varias excepciones."
   ]
  },
  {
   "cell_type": "code",
   "execution_count": 3,
   "metadata": {},
   "outputs": [],
   "source": [
    "def excepcion_probable(numero):\n",
    "    \"\"\" Ejemplo de control de excepciones.\n",
    "        Este código es muy fácil de descarrilar.\"\"\"\n",
    "    numero = float(numero)\n",
    "    print(f\"La raíz cuadrada del número {numero} es {numero ** 0.5}\")\n",
    "    print(\"Buen día.\")"
   ]
  },
  {
   "cell_type": "markdown",
   "metadata": {},
   "source": [
    "* En caso de ingresar un número real positivo como argumento en la función ```excepcion_probable()```, la función se ejecutará sin problemas."
   ]
  },
  {
   "cell_type": "code",
   "execution_count": 4,
   "metadata": {},
   "outputs": [
    {
     "name": "stdout",
     "output_type": "stream",
     "text": [
      "La raíz cuadrada del número 832.1 es 28.846143589741768\n",
      "Buen día.\n"
     ]
    }
   ],
   "source": [
    "excepcion_probable(832.1)"
   ]
  },
  {
   "cell_type": "markdown",
   "metadata": {},
   "source": [
    "* Lo único que hay que hacer para que ocurra una excepción es ingresar un dato incorrecto como es el caso del nombre ```Hola``` el cual no ha sido definido."
   ]
  },
  {
   "cell_type": "code",
   "execution_count": 5,
   "metadata": {
    "scrolled": true
   },
   "outputs": [
    {
     "ename": "NameError",
     "evalue": "name 'Hola' is not defined",
     "output_type": "error",
     "traceback": [
      "\u001b[0;31m---------------------------------------------------------------------------\u001b[0m",
      "\u001b[0;31mNameError\u001b[0m                                 Traceback (most recent call last)",
      "Input \u001b[0;32mIn [5]\u001b[0m, in \u001b[0;36m<cell line: 1>\u001b[0;34m()\u001b[0m\n\u001b[0;32m----> 1\u001b[0m excepcion_probable(\u001b[43mHola\u001b[49m)\n",
      "\u001b[0;31mNameError\u001b[0m: name 'Hola' is not defined"
     ]
    }
   ],
   "source": [
    "excepcion_probable(Hola)"
   ]
  },
  {
   "cell_type": "markdown",
   "metadata": {},
   "source": [
    "* Debido a que se utiliza la función ```float()```, el intérprete tratará de convertir en un objeto de tipo ```str``` al objeto con el nombre ```numero```. El error ocurre debido a que el intérprete identifica un nombre el cual no está definido en el espacio de nombres, por lo que se detiene la ejecución del script y se despliega un mensaje, el cual se analizará a continuación."
   ]
  },
  {
   "cell_type": "markdown",
   "metadata": {},
   "source": [
    "### Anatomía de un mensaje de error.\n",
    "\n",
    "El mensaje de error de *Python* se divide en dos partes.\n",
    "\n",
    "* La ruta del error.\n",
    "* La descripción del error."
   ]
  },
  {
   "cell_type": "markdown",
   "metadata": {},
   "source": [
    "#### La ruta del error.\n",
    "\n",
    "Es muy común que el código de *Python* haga uso de módulos que a su vez hacen referencia a otros \n",
    "módulos y por tanto, también es muy común que una excepción se desencadene que se desencaden en una porción de código, pero impacte en otro sitio.\n",
    "\n",
    "La ruta del error de una excepción de *Python* indica el punto exacto en el que ocurrió el error y toda la ruta a partir de donde el error se desencadenó."
   ]
  },
  {
   "cell_type": "markdown",
   "metadata": {},
   "source": [
    "**Ejemplo:**\n",
    "\n",
    "* Cuando una excepción ocurre en el intérprete, se hace referencia a ```<module>()```.\n",
    "* Se indica el número de línea en la que ocurrió la excepción.\n",
    "* Se despliega el código que desencadenó la excepción.\n",
    "\n",
    "```python\n",
    "---------------------------------------------------------------------------\n",
    "NameError                                 Traceback (most recent call last)\n",
    "Input In [7], in <cell line: 1>()\n",
    "----> 1 excepcion_probable(Hola)\n",
    "\n",
    "NameError: name 'Hola' is not defined\n",
    "```  "
   ]
  },
  {
   "cell_type": "markdown",
   "metadata": {},
   "source": [
    "#### La descripción del error.\n",
    "\n",
    "La descripción del error muestra el tipo de excepción que ocurrió, así como un breve texto descriptivo."
   ]
  },
  {
   "cell_type": "markdown",
   "metadata": {},
   "source": [
    "**Ejemplo:**\n",
    "\n",
    "La siguiente línea indica ua excepción de tipo ```NameError``` y el mensaje ``` name 'Hola' is not defined ```.\n",
    "\n",
    "``` python\n",
    "NameError: name 'Hola' is not defined\n",
    "```"
   ]
  },
  {
   "cell_type": "markdown",
   "metadata": {},
   "source": [
    "### Rastreo de la excepción.\n",
    "\n",
    "Debido a que *Python* es altamente modular, un error puede desencadenarse en cierto punto, pero impactar a otro componente.\n",
    "\n",
    "Cuando ocurre una excepción, *Python* despliega la ruta (traceback) y esta ruta puede implicar a varios módulos.\n",
    "\n",
    "La ruta va en orden descendente desde el punto en el que el error se desencadenó, pasando por varios puntos intermedios -en caso de que los haya- hasta el punto en el que el error ocurrió.\n",
    "\n",
    "En el ejemplo previo, el error se desencadenó en la línea 1 de la ventana que llamaba a la función. El intérprete incluso despliega el contenido de la línea:\n",
    "\n",
    "``` python\n",
    "Input In [7], in <cell line: 1>()\n",
    "----> 1 excepcion_probable(Hola)\n",
    "``` "
   ]
  },
  {
   "cell_type": "markdown",
   "metadata": {},
   "source": [
    "### Descripción de la excepción.\n",
    "\n",
    "La descripción de la excepción consiste en una sola línea.\n",
    "\n",
    "``` python \n",
    "NameError: name 'Hola' is not defined\n",
    "```\n",
    "\n",
    "La línea a su vez se compone de dos partes:\n",
    "\n",
    "* El tipo de excepción.\n",
    "``` python\n",
    "NameError:\n",
    "```\n",
    "\n",
    "* Una beve explicación de lo que ocurrió:\n",
    "``` python\n",
    "name 'Hola' is not defined\n",
    "```"
   ]
  },
  {
   "cell_type": "markdown",
   "metadata": {},
   "source": [
    "## Tipos de excepciones."
   ]
  },
  {
   "cell_type": "markdown",
   "metadata": {},
   "source": [
    "Python es capaz de identificar muy diversos tipos de errores a los que corresponden sendas excepciones.\n",
    "\n",
    "Se pueden consultar los diversos tipos de excepciones en la siguiente liga:\n",
    "\n",
    "[https://docs.python.org/3/library/exceptions.html#exception-hierarchy](https://docs.python.org/3/library/exceptions.html#exception-hierarchy)"
   ]
  },
  {
   "cell_type": "markdown",
   "metadata": {},
   "source": [
    "### Posibles tipos de excepciones en la función ```excepcion_probable()```.\n",
    "\n",
    "A continuación se ejemplificarán algunas de las excepciones que podrían originarse al correr la función."
   ]
  },
  {
   "cell_type": "markdown",
   "metadata": {},
   "source": [
    "#### La excepción ```NameError```.\n",
    "\n",
    "En este caso el intérprete no encontró una coincidencia en el espacio de nombres que corresponda con ```Hola``` y la excepción se genera antes de invocar a la función."
   ]
  },
  {
   "cell_type": "code",
   "execution_count": 6,
   "metadata": {},
   "outputs": [
    {
     "ename": "NameError",
     "evalue": "name 'Hola' is not defined",
     "output_type": "error",
     "traceback": [
      "\u001b[0;31m---------------------------------------------------------------------------\u001b[0m",
      "\u001b[0;31mNameError\u001b[0m                                 Traceback (most recent call last)",
      "Input \u001b[0;32mIn [6]\u001b[0m, in \u001b[0;36m<cell line: 1>\u001b[0;34m()\u001b[0m\n\u001b[0;32m----> 1\u001b[0m excepcion_probable(\u001b[43mHola\u001b[49m)\n",
      "\u001b[0;31mNameError\u001b[0m: name 'Hola' is not defined"
     ]
    }
   ],
   "source": [
    "excepcion_probable(Hola)"
   ]
  },
  {
   "cell_type": "markdown",
   "metadata": {},
   "source": [
    "#### La excepción ```TypeError```.\n",
    "\n",
    "En este caso el intérprete invoca a ```excepcion_probable()``` y el error se genera en la línea ```4``` de la función, en vista de que un número de tipo ```complex``` no puede ser convertido en uno de tipo ```float```."
   ]
  },
  {
   "cell_type": "code",
   "execution_count": 7,
   "metadata": {
    "scrolled": false
   },
   "outputs": [
    {
     "ename": "TypeError",
     "evalue": "can't convert complex to float",
     "output_type": "error",
     "traceback": [
      "\u001b[0;31m---------------------------------------------------------------------------\u001b[0m",
      "\u001b[0;31mTypeError\u001b[0m                                 Traceback (most recent call last)",
      "Input \u001b[0;32mIn [7]\u001b[0m, in \u001b[0;36m<cell line: 1>\u001b[0;34m()\u001b[0m\n\u001b[0;32m----> 1\u001b[0m \u001b[43mexcepcion_probable\u001b[49m\u001b[43m(\u001b[49m\u001b[38;5;241;43m13\u001b[39;49m\u001b[43m \u001b[49m\u001b[38;5;241;43m+\u001b[39;49m\u001b[43m \u001b[49m\u001b[38;5;241;43m1\u001b[39;49m\u001b[43mj\u001b[49m\u001b[43m)\u001b[49m\n",
      "Input \u001b[0;32mIn [3]\u001b[0m, in \u001b[0;36mexcepcion_probable\u001b[0;34m(numero)\u001b[0m\n\u001b[1;32m      1\u001b[0m \u001b[38;5;28;01mdef\u001b[39;00m \u001b[38;5;21mexcepcion_probable\u001b[39m(numero):\n\u001b[1;32m      2\u001b[0m     \u001b[38;5;124;03m\"\"\" Ejemplo de control de excepciones.\u001b[39;00m\n\u001b[1;32m      3\u001b[0m \u001b[38;5;124;03m        Este código es muy fácil de descarrilar.\"\"\"\u001b[39;00m\n\u001b[0;32m----> 4\u001b[0m     numero \u001b[38;5;241m=\u001b[39m \u001b[38;5;28;43mfloat\u001b[39;49m\u001b[43m(\u001b[49m\u001b[43mnumero\u001b[49m\u001b[43m)\u001b[49m\n\u001b[1;32m      5\u001b[0m     \u001b[38;5;28mprint\u001b[39m(\u001b[38;5;124mf\u001b[39m\u001b[38;5;124m\"\u001b[39m\u001b[38;5;124mLa raíz cuadrada del número \u001b[39m\u001b[38;5;132;01m{\u001b[39;00mnumero\u001b[38;5;132;01m}\u001b[39;00m\u001b[38;5;124m es \u001b[39m\u001b[38;5;132;01m{\u001b[39;00mnumero \u001b[38;5;241m*\u001b[39m\u001b[38;5;241m*\u001b[39m \u001b[38;5;241m0.5\u001b[39m\u001b[38;5;132;01m}\u001b[39;00m\u001b[38;5;124m\"\u001b[39m)\n\u001b[1;32m      6\u001b[0m     \u001b[38;5;28mprint\u001b[39m(\u001b[38;5;124m\"\u001b[39m\u001b[38;5;124mBuen día.\u001b[39m\u001b[38;5;124m\"\u001b[39m)\n",
      "\u001b[0;31mTypeError\u001b[0m: can't convert complex to float"
     ]
    }
   ],
   "source": [
    "excepcion_probable(13 + 1j)"
   ]
  },
  {
   "cell_type": "markdown",
   "metadata": {},
   "source": [
    "* En la siguiente celda, la excepción ocurre en la línea ```4``` en vista de que ```print``` corresponde al nombre de una función."
   ]
  },
  {
   "cell_type": "code",
   "execution_count": 8,
   "metadata": {},
   "outputs": [
    {
     "ename": "TypeError",
     "evalue": "float() argument must be a string or a number, not 'builtin_function_or_method'",
     "output_type": "error",
     "traceback": [
      "\u001b[0;31m---------------------------------------------------------------------------\u001b[0m",
      "\u001b[0;31mTypeError\u001b[0m                                 Traceback (most recent call last)",
      "Input \u001b[0;32mIn [8]\u001b[0m, in \u001b[0;36m<cell line: 1>\u001b[0;34m()\u001b[0m\n\u001b[0;32m----> 1\u001b[0m \u001b[43mexcepcion_probable\u001b[49m\u001b[43m(\u001b[49m\u001b[38;5;28;43mprint\u001b[39;49m\u001b[43m)\u001b[49m\n",
      "Input \u001b[0;32mIn [3]\u001b[0m, in \u001b[0;36mexcepcion_probable\u001b[0;34m(numero)\u001b[0m\n\u001b[1;32m      1\u001b[0m \u001b[38;5;28;01mdef\u001b[39;00m \u001b[38;5;21mexcepcion_probable\u001b[39m(numero):\n\u001b[1;32m      2\u001b[0m     \u001b[38;5;124;03m\"\"\" Ejemplo de control de excepciones.\u001b[39;00m\n\u001b[1;32m      3\u001b[0m \u001b[38;5;124;03m        Este código es muy fácil de descarrilar.\"\"\"\u001b[39;00m\n\u001b[0;32m----> 4\u001b[0m     numero \u001b[38;5;241m=\u001b[39m \u001b[38;5;28;43mfloat\u001b[39;49m\u001b[43m(\u001b[49m\u001b[43mnumero\u001b[49m\u001b[43m)\u001b[49m\n\u001b[1;32m      5\u001b[0m     \u001b[38;5;28mprint\u001b[39m(\u001b[38;5;124mf\u001b[39m\u001b[38;5;124m\"\u001b[39m\u001b[38;5;124mLa raíz cuadrada del número \u001b[39m\u001b[38;5;132;01m{\u001b[39;00mnumero\u001b[38;5;132;01m}\u001b[39;00m\u001b[38;5;124m es \u001b[39m\u001b[38;5;132;01m{\u001b[39;00mnumero \u001b[38;5;241m*\u001b[39m\u001b[38;5;241m*\u001b[39m \u001b[38;5;241m0.5\u001b[39m\u001b[38;5;132;01m}\u001b[39;00m\u001b[38;5;124m\"\u001b[39m)\n\u001b[1;32m      6\u001b[0m     \u001b[38;5;28mprint\u001b[39m(\u001b[38;5;124m\"\u001b[39m\u001b[38;5;124mBuen día.\u001b[39m\u001b[38;5;124m\"\u001b[39m)\n",
      "\u001b[0;31mTypeError\u001b[0m: float() argument must be a string or a number, not 'builtin_function_or_method'"
     ]
    }
   ],
   "source": [
    "excepcion_probable(print)"
   ]
  },
  {
   "cell_type": "markdown",
   "metadata": {},
   "source": [
    "#### _ValueError_."
   ]
  },
  {
   "cell_type": "markdown",
   "metadata": {},
   "source": [
    "En la siguiente celda, la excepción ocurre en la línea ```4``` de ```excepcion_probable()```, en vista de que el contenido del objeto de tipo ```str```  no corresponde a la represebtación de un número."
   ]
  },
  {
   "cell_type": "code",
   "execution_count": 9,
   "metadata": {
    "scrolled": false
   },
   "outputs": [
    {
     "ename": "ValueError",
     "evalue": "could not convert string to float: 'Hola'",
     "output_type": "error",
     "traceback": [
      "\u001b[0;31m---------------------------------------------------------------------------\u001b[0m",
      "\u001b[0;31mValueError\u001b[0m                                Traceback (most recent call last)",
      "Input \u001b[0;32mIn [9]\u001b[0m, in \u001b[0;36m<cell line: 1>\u001b[0;34m()\u001b[0m\n\u001b[0;32m----> 1\u001b[0m \u001b[43mexcepcion_probable\u001b[49m\u001b[43m(\u001b[49m\u001b[38;5;124;43m\"\u001b[39;49m\u001b[38;5;124;43mHola\u001b[39;49m\u001b[38;5;124;43m\"\u001b[39;49m\u001b[43m)\u001b[49m\n",
      "Input \u001b[0;32mIn [3]\u001b[0m, in \u001b[0;36mexcepcion_probable\u001b[0;34m(numero)\u001b[0m\n\u001b[1;32m      1\u001b[0m \u001b[38;5;28;01mdef\u001b[39;00m \u001b[38;5;21mexcepcion_probable\u001b[39m(numero):\n\u001b[1;32m      2\u001b[0m     \u001b[38;5;124;03m\"\"\" Ejemplo de control de excepciones.\u001b[39;00m\n\u001b[1;32m      3\u001b[0m \u001b[38;5;124;03m        Este código es muy fácil de descarrilar.\"\"\"\u001b[39;00m\n\u001b[0;32m----> 4\u001b[0m     numero \u001b[38;5;241m=\u001b[39m \u001b[38;5;28;43mfloat\u001b[39;49m\u001b[43m(\u001b[49m\u001b[43mnumero\u001b[49m\u001b[43m)\u001b[49m\n\u001b[1;32m      5\u001b[0m     \u001b[38;5;28mprint\u001b[39m(\u001b[38;5;124mf\u001b[39m\u001b[38;5;124m\"\u001b[39m\u001b[38;5;124mLa raíz cuadrada del número \u001b[39m\u001b[38;5;132;01m{\u001b[39;00mnumero\u001b[38;5;132;01m}\u001b[39;00m\u001b[38;5;124m es \u001b[39m\u001b[38;5;132;01m{\u001b[39;00mnumero \u001b[38;5;241m*\u001b[39m\u001b[38;5;241m*\u001b[39m \u001b[38;5;241m0.5\u001b[39m\u001b[38;5;132;01m}\u001b[39;00m\u001b[38;5;124m\"\u001b[39m)\n\u001b[1;32m      6\u001b[0m     \u001b[38;5;28mprint\u001b[39m(\u001b[38;5;124m\"\u001b[39m\u001b[38;5;124mBuen día.\u001b[39m\u001b[38;5;124m\"\u001b[39m)\n",
      "\u001b[0;31mValueError\u001b[0m: could not convert string to float: 'Hola'"
     ]
    }
   ],
   "source": [
    "excepcion_probable(\"Hola\")"
   ]
  },
  {
   "cell_type": "markdown",
   "metadata": {},
   "source": [
    "#### *SyntaxError*."
   ]
  },
  {
   "cell_type": "markdown",
   "metadata": {},
   "source": [
    "* En la siguiente celda, la excepción se desencadena antes de invocar a la función, debido a que ```yield``` es una palabra reservada de *Python*."
   ]
  },
  {
   "cell_type": "code",
   "execution_count": 10,
   "metadata": {
    "scrolled": true
   },
   "outputs": [
    {
     "ename": "SyntaxError",
     "evalue": "invalid syntax (1195050761.py, line 1)",
     "output_type": "error",
     "traceback": [
      "\u001b[0;36m  Input \u001b[0;32mIn [10]\u001b[0;36m\u001b[0m\n\u001b[0;31m    excepcion_probable(yield)\u001b[0m\n\u001b[0m                       ^\u001b[0m\n\u001b[0;31mSyntaxError\u001b[0m\u001b[0;31m:\u001b[0m invalid syntax\n"
     ]
    }
   ],
   "source": [
    "excepcion_probable(yield)"
   ]
  },
  {
   "cell_type": "markdown",
   "metadata": {},
   "source": [
    "## Identificación de los puntos de fallo.\n",
    "\n",
    "Pueden existir aún más errores de los identificados. Sin embargo, a partir de los encontrados es posible determinar las secciones de código problemáticas.\n",
    "\n",
    "En este caso, los puntos de falla ocurren al invocar a la función y también dentro de la función. \n",
    "\n",
    "Los errores que se generan al invocar la función sólo se pueden resolver volviendo a ingresar los argumentos de forma correcta. Sin embargo, los errores que ocurren dentro de la función pueden ser gestionados."
   ]
  },
  {
   "cell_type": "markdown",
   "metadata": {},
   "source": [
    "## Recursos para captura y gestión de excepciones."
   ]
  },
  {
   "cell_type": "markdown",
   "metadata": {},
   "source": [
    "*Python* cuenta con una serie de recursos que permiten la captura y gestión de excepciones. \n",
    "\n",
    "Si la excepción no es capturada, ésta correrá hasta sus últimas consecuencias: \n",
    "* Se detendrá la ejecución del código.\n",
    "* Se Enviará un mensaje con la información de la excepción.\n",
    "* Se detendrá el intérprete.\n",
    "\n",
    "Los recursos de gestión y captura de excepciones son:\n",
    "\n",
    "* ```try```\n",
    "* ```except```\n",
    "* ```else```\n",
    "* ```finally```"
   ]
  },
  {
   "cell_type": "markdown",
   "metadata": {},
   "source": [
    "### Delimitación del código mediante ```try```.\n",
    "\n",
    "Cuando se identifica una sección de código susceptible de errores, ésta puede ser delimitada con la expresión ```try```. Cualquier excepción que ocurra dentro de esta sección de código podrá ser capturada y gestionada.\n",
    "\n",
    "En el caso de la función ```excepcion_probable()``` se puede observar por los mensajes de error, que el segmento comprendido en las líneas 4 y 5 de la función es el que se debe delimitar."
   ]
  },
  {
   "cell_type": "markdown",
   "metadata": {},
   "source": [
    "### Captura y gestión de las excepciones con ```except```.\n",
    "\n",
    "La palabra reservada ```except``` es la encargada de gestionar las excepciones que se capturan.\n",
    "\n",
    "Si se utiliza ```except``` sin mayores datos, ésta ejecutará el código que contiene para todas las excepciones que ocurran.\n",
    "\n",
    "```\n",
    "<flujo principal>\n",
    "...\n",
    "...\n",
    "try:\n",
    "    <bloque de código en riesgo>\n",
    "except:\n",
    "    <bloque inscrito a except>\n",
    "<flujo principal>\n",
    "```"
   ]
  },
  {
   "cell_type": "markdown",
   "metadata": {},
   "source": [
    "#### La función ```excepción_basica()```.\n",
    "\n",
    "Esta nueva función está basada en ```excepcion_probable()``` y delimita al bloque de código susceptible de errores.\n",
    "\n",
    "En esta ocasión se capturará todas las excepciones que se generen sin tomar algún tipo de acción."
   ]
  },
  {
   "cell_type": "code",
   "execution_count": null,
   "metadata": {},
   "outputs": [],
   "source": [
    "def excepcion_basica(numero):\n",
    "    \"\"\"Ejemplo de control de excepciones básico.\n",
    "       Cualquier error desencadendo en las líneas delimitadas será capturado sin hacer nada. \"\"\"\n",
    "    try:\n",
    "        numero = float(numero)\n",
    "        print(f\"La raíz cuadrada del número {numero} es {numero ** 0.5}\")\n",
    "    except:\n",
    "        pass\n",
    "    print(\"Buen día.\")"
   ]
  },
  {
   "cell_type": "code",
   "execution_count": null,
   "metadata": {},
   "outputs": [],
   "source": [
    "excepcion_basica(13j)"
   ]
  },
  {
   "cell_type": "code",
   "execution_count": null,
   "metadata": {},
   "outputs": [],
   "source": [
    "excepcion_basica(\"Hola\")"
   ]
  },
  {
   "cell_type": "code",
   "execution_count": null,
   "metadata": {},
   "outputs": [],
   "source": [
    "excepcion_basica(\"15\")"
   ]
  },
  {
   "cell_type": "markdown",
   "metadata": {},
   "source": [
    "#### La función ```excepcion_simple()```.\n",
    "\n",
    "Capturar las excepciones sin dejar evidencia de que ocurrieron no es una buena idea. Realmente no se gestionan los errores sino que simplemente se esconden, arrojando muy probablemente resultados inesperados y aún más errores posteriormente.\n",
    "\n",
    "Una técnica muy común para la gestión de errores es el uso de \"banderas\". que por lo general son objetos de tipo ```bool``` que cambian de valor en caso de que un evento ocurra."
   ]
  },
  {
   "cell_type": "code",
   "execution_count": null,
   "metadata": {},
   "outputs": [],
   "source": [
    "def excepcion_simple(numero):\n",
    "    \"\"\" Ejemplo de control de excepciones básico. Cualquier error desencadendo \n",
    "        en las líneas delimitadas ejecutará el bloque de código anidado en except.\"\"\"\n",
    "\n",
    "    ocurre_error = False\n",
    "    try:\n",
    "        numero = float(numero)\n",
    "        print(f\"La raíz cuadrada del número {numero} es {numero ** 0.5}\")\n",
    "    except:\n",
    "        ocurre_error = True\n",
    "    if ocurre_error:\n",
    "        print(\"Lástima.\")\n",
    "    else:\n",
    "        print(\"Buen día.\")"
   ]
  },
  {
   "cell_type": "code",
   "execution_count": null,
   "metadata": {},
   "outputs": [],
   "source": [
    "excepcion_simple(-1)"
   ]
  },
  {
   "cell_type": "code",
   "execution_count": null,
   "metadata": {},
   "outputs": [],
   "source": [
    "excepcion_simple(43j)"
   ]
  },
  {
   "cell_type": "code",
   "execution_count": null,
   "metadata": {},
   "outputs": [],
   "source": [
    "excepcion_simple(\"Hola\")"
   ]
  },
  {
   "cell_type": "code",
   "execution_count": null,
   "metadata": {},
   "outputs": [],
   "source": [
    "excepcion_simple(15)"
   ]
  },
  {
   "cell_type": "markdown",
   "metadata": {},
   "source": [
    "### Gestión de excepciones por su tipo.\n",
    "\n",
    "```except``` puede ser utilizada de forma tal que ejecute código dependiendo del tipo de error que ocurra de una forma muy similar a ```elif```.\n",
    "\n",
    "De esa manera, se pueden gestionar las excepciones de forma diferenciada dependiendo del tipo de error que se genere. \n",
    "\n",
    "```\n",
    "<flujo principal>\n",
    "...\n",
    "...\n",
    "try:\n",
    "   <código suceptible de errores>\n",
    "except <ErrorTipo1>:\n",
    "    <bloque inscrito a ErrorTipo1>\n",
    "except<ErrorTipo2>:\n",
    "    <bloque inscrito a ErrorTipo2> \n",
    "except (<ErrorTipo3>, <ErrorTipo4>):\n",
    "    <bloque inscrito a ErrorTipo3 y ErrorTipo4>\n",
    "...\n",
    "...\n",
    "except:\n",
    "    <bloque inscrito a except general>\n",
    "<flujo principal>\n",
    "```"
   ]
  },
  {
   "cell_type": "markdown",
   "metadata": {},
   "source": [
    "#### La función ```excepciones_identificadas()```.\n",
    "\n",
    "Prevé explícitamente la ocurrencia de la excepción de tipo ```TypeError``` pero de forma intencional se omitió la captura de la excepción ```ValueError```, las cuales serán capturadas por el ```except``` general. "
   ]
  },
  {
   "cell_type": "code",
   "execution_count": null,
   "metadata": {},
   "outputs": [],
   "source": [
    "def excepciones_identificadas(numero):\n",
    "    \"\"\" Ejemplo de control de excepciones para diversos errores identificados.\n",
    "        En caso de que ocurra un error inesperado, se desplegará una advertencia.\n",
    "        El programa pedirá un número y desplegará la raíz cuadrada de dicho número.\"\"\"\n",
    "    ocurre_error = False\n",
    "    try:\n",
    "        numero = float(numero)\n",
    "        print(f\"La raíz cuadrada del número {numero} es {numero ** 0.5}\")\n",
    "    except TypeError:\n",
    "        ocurre_error = True\n",
    "        print(\"Ocurrió un error previsto.\")\n",
    "    except:\n",
    "        ocurre_error = True\n",
    "        print(\"¡No sé qué pasó!\")\n",
    "    if ocurre_error:\n",
    "        print(\"Lástima.\")\n",
    "    else:\n",
    "        print(\"Buen día.\")"
   ]
  },
  {
   "cell_type": "code",
   "execution_count": null,
   "metadata": {},
   "outputs": [],
   "source": [
    "excepciones_identificadas(-1)"
   ]
  },
  {
   "cell_type": "code",
   "execution_count": null,
   "metadata": {},
   "outputs": [],
   "source": [
    "excepciones_identificadas(43j)"
   ]
  },
  {
   "cell_type": "code",
   "execution_count": null,
   "metadata": {},
   "outputs": [],
   "source": [
    "excepciones_identificadas(\"Hola\")"
   ]
  },
  {
   "cell_type": "code",
   "execution_count": null,
   "metadata": {
    "scrolled": true
   },
   "outputs": [],
   "source": [
    "excepciones_identificadas(35)"
   ]
  },
  {
   "cell_type": "markdown",
   "metadata": {},
   "source": [
    "### Captura de los detalles de error.\n",
    "\n",
    "Es posible capturar el mensaje que *Python* despliega detallando un error mediante ```except``` ligándolo a un nombre mediante la siguiente sintaxis:\n",
    "\n",
    "```\n",
    "except <tipo de error> as <nombre>:\n",
    "```\n",
    "Si se utiliza ```except``` sin identificar el tipo de error, la sintaxis previa es inválida."
   ]
  },
  {
   "cell_type": "markdown",
   "metadata": {},
   "source": [
    "###  El operador ```as```.\n",
    "\n",
    "Existen algunos casos en los que sintácticamente no es posible utilizar el operador de asignación ```=``` para ligar un nombre a un objeto en el espacio de nombres.\n",
    "\n",
    "El operador ```as``` actúa de forma idéntica al operador de identidad, pero con una estructura sintáctica distinta como es el caso de ```except``` para capturar la descripción del error."
   ]
  },
  {
   "cell_type": "markdown",
   "metadata": {},
   "source": [
    "#### La función ```excepciones_descritas()```.\n",
    "\n",
    "Esta función es idéntica a ```excepciones_identificadas()``` con la añadidura de que a cada excepción identificada por tipo de error se le añadió el operador ```as``` para capturar el mensaje de detalle de error con el nombre ```e```.\n",
    "\n",
    "**Nota:** Por convención al mensaje de error se le asigna el nombre ```e```."
   ]
  },
  {
   "cell_type": "code",
   "execution_count": null,
   "metadata": {},
   "outputs": [],
   "source": [
    "def excepciones_descritas(numero): \n",
    "    \"\"\" Ejemplo de control de excepciones para diversos errores identificados.\n",
    "        En caso de que ocurra un error inesperado, se desplegará una advertencia.\n",
    "        La advertencia incluirá el mensaje de Python que describe el error.\n",
    "        El programa pedirá un número y desplegará la raíz cuadrada de dicho número.\n",
    "        \"\"\"\n",
    "    ocurre_error = False\n",
    "    try:\n",
    "        numero = float(numero)\n",
    "        print(f\"La raíz cuadrada del número {numero} es {numero ** 0.5}\")\n",
    "    except TypeError as e:\n",
    "        ocurre_error = True\n",
    "        print(\"Ocurrió un error previsto:\", e)\n",
    "    except:\n",
    "        ocurre_error = True\n",
    "        print(\"¡No sé qué pasó!\")\n",
    "    if ocurre_error:\n",
    "        print(\"Lástima.\")\n",
    "    else:\n",
    "        print(\"Buen día.\") "
   ]
  },
  {
   "cell_type": "code",
   "execution_count": null,
   "metadata": {},
   "outputs": [],
   "source": [
    "excepciones_descritas(-1)"
   ]
  },
  {
   "cell_type": "code",
   "execution_count": null,
   "metadata": {},
   "outputs": [],
   "source": [
    "excepciones_descritas(1j)"
   ]
  },
  {
   "cell_type": "code",
   "execution_count": null,
   "metadata": {
    "scrolled": true
   },
   "outputs": [],
   "source": [
    "excepciones_descritas(\"Hola\")"
   ]
  },
  {
   "cell_type": "markdown",
   "metadata": {},
   "source": [
    "## Uso de ```else``` y ```finally```."
   ]
  },
  {
   "cell_type": "markdown",
   "metadata": {},
   "source": [
    "Además de ```except```, *Python* cuenta con otros dos recursos que completan la gestión de excepciones."
   ]
  },
  {
   "cell_type": "markdown",
   "metadata": {},
   "source": [
    "### La palabra clave ```else```. \n",
    "\n",
    "Del mismo modo que con ```if```, la palabra ```else``` se ejecuta en el caso de que no se genere una excepción.\n",
    "\n",
    "```\n",
    "<flujo principal>\n",
    "...\n",
    "...\n",
    "try:\n",
    "   <código suceptible de errores>\n",
    "except <ErrorTipo1>:\n",
    "    <bloque inscrito a ErrorTipo1>\n",
    "except< ErrorTipo2>:\n",
    "    <<bloque inscrito a ErrorTipo2> \n",
    "except (<ErrorTipo3>, <ErrorTipo4>):\n",
    "    <<bloque inscrito a ErrorTipo3 y ErrorTipo4>\n",
    "...\n",
    "...\n",
    "except:\n",
    "    <bloque inscrito a except general>\n",
    "else:\n",
    "    <bloque inscrito a else>\n",
    "<flujo principal>\n",
    "```\n"
   ]
  },
  {
   "cell_type": "markdown",
   "metadata": {},
   "source": [
    "### La palabra reservada ```finally```.\n",
    "\n",
    "En algunas situaciones, es necesario realizar algunas operaciones independientemente de que haya ocurrido una excepción o no. Esto es común cuando se tiene que cerrar una comunicación por internet, cerrar el accceso a una base de datos o cerrar un archivo en modo de escritura.\n",
    "\n",
    "Para estas situacione se utiliza la palabra ```finally```, la cual se ejecuta haya existido una excepción o no.\n",
    "\n",
    "```\n",
    "<flujo principal>\n",
    "...\n",
    "...\n",
    "try:\n",
    "   <código suceptible de errores>\n",
    "except <ErrorTipo1>:\n",
    "    <bloque inscrito a ErrorTipo1>\n",
    "except< ErrorTipo2>:\n",
    "    <<bloque inscrito a ErrorTipo2> \n",
    "except (<ErrorTipo3>, <ErrorTipo4>):\n",
    "    <<bloque inscrito a ErrorTipo3 y ErrorTipo4>\n",
    "...\n",
    "...\n",
    "except:\n",
    "    <bloque inscrito a except general>\n",
    "else:\n",
    "    <bloque inscrito a else>\n",
    "finally:\n",
    "    <bloque inscrito a finally>\n",
    "<flujo principal>\n",
    "```"
   ]
  },
  {
   "cell_type": "markdown",
   "metadata": {},
   "source": [
    "#### La función ```excepciones_atrapadas()```.\n",
    "\n",
    "Incluye todos los elementos para gestión de excepciones con ``try``, ```except```, ```else``` y ```finally```. "
   ]
  },
  {
   "cell_type": "code",
   "execution_count": null,
   "metadata": {},
   "outputs": [],
   "source": [
    "def excepciones_atrapadas(numero):\n",
    "    \"\"\" Ejemplo de control de excepciones para diversos errores.\n",
    "        Desplegará el cuadrado de dicho número.\n",
    "        En caso de ocurrir una excepción se despelgará el mensaje de error.\"\"\"\n",
    "    \n",
    "    ocurre_error = True\n",
    "    try:\n",
    "        numero = float(numero)\n",
    "        print(f\"La raíz cuadrada del número {numero} es {numero ** 0.5}\")\n",
    "    except (ValueError, TypeError) as e:\n",
    "        print(\"Mensaje de error:\", e)\n",
    "    except:\n",
    "        print(\"¡No sé qué pasó!\")\n",
    "    else:\n",
    "        print(\"No hubo errores.\")\n",
    "        ocurre_error = False\n",
    "    finally:\n",
    "        if ocurre_error:\n",
    "            print(\"Lástima.\")\n",
    "        else:\n",
    "            print(\"¡YAY!\")\n",
    "    print(\"Buen día.\")"
   ]
  },
  {
   "cell_type": "code",
   "execution_count": null,
   "metadata": {},
   "outputs": [],
   "source": [
    "excepciones_atrapadas(-1)"
   ]
  },
  {
   "cell_type": "code",
   "execution_count": null,
   "metadata": {},
   "outputs": [],
   "source": [
    "excepciones_atrapadas(1j)"
   ]
  },
  {
   "cell_type": "code",
   "execution_count": null,
   "metadata": {},
   "outputs": [],
   "source": [
    "excepciones_atrapadas(\"Hola\")"
   ]
  },
  {
   "cell_type": "code",
   "execution_count": null,
   "metadata": {},
   "outputs": [],
   "source": [
    "excepciones_atrapadas(\"135.1\")"
   ]
  },
  {
   "cell_type": "markdown",
   "metadata": {},
   "source": [
    "## Diagrama de flujo de los elementos de gestión de excepciones.\n",
    "\n",
    "![Excepciones](imagenes/excepciones.png)"
   ]
  },
  {
   "cell_type": "markdown",
   "metadata": {},
   "source": [
    "## Levantando excepciones con ```raise```."
   ]
  },
  {
   "cell_type": "markdown",
   "metadata": {},
   "source": [
    "En ciertas ocasiones es posible identificar una situación en la que cierta condición provocará un error. En ese caso se puede levantar una excepción antes de que el error ocurra y emitir un mensaje correspondiente.\n",
    "\n",
    "La palabra reservada ```raise``` se utiliza para levantar excepciones definidas por el programador.\n",
    "\n",
    "```\n",
    "raise <TipodeError>(<mensaje>)\n",
    "```"
   ]
  },
  {
   "cell_type": "markdown",
   "metadata": {},
   "source": [
    "### La función ```levanta_excepcion()```.\n",
    "\n",
    "Esta función levanta una excepción de tipo ```ValueError``` con un mensaje específico al identificar que se ingresa un número negativo."
   ]
  },
  {
   "cell_type": "code",
   "execution_count": null,
   "metadata": {},
   "outputs": [],
   "source": [
    "def levanta_excepcion(numero):\n",
    "    \"\"\" Levantará una excepción con un mensaje propio en caso de que\n",
    "        el número ingresado sea negativo.\n",
    "        El programa pedirá un número y desplegará la raíz cuadrado de dicho número.\n",
    "        En caso de que ocurra un error definido, el programa desplegará el mensaje\n",
    "        correspondiente.\"\"\"\n",
    "\n",
    "    ocurre_error = True\n",
    "\n",
    "    try:\n",
    "        if numero < 0:\n",
    "            raise TypeError(\"No es posible calcular la raíz de un negativo.\")\n",
    "        print(f\"La raíz cuadrada del número {numero} es {numero ** 0.5}\")\n",
    "    except (TypeError) as mensaje:\n",
    "        print(\"Ocurrió una excepción identificada.\", mensaje)\n",
    "    except ValueError as mensaje:\n",
    "        print(mensaje)\n",
    "    except:\n",
    "        print(\"¡No sé qué pasó!\")\n",
    "    else:\n",
    "        print(\"No hubo errores.\")\n",
    "        ocurre_error = False\n",
    "    finally:\n",
    "        if ocurre_error:\n",
    "            print(\"Lástima.\")\n",
    "        else:\n",
    "            print(\"¡YAY!\")"
   ]
  },
  {
   "cell_type": "code",
   "execution_count": null,
   "metadata": {},
   "outputs": [],
   "source": [
    "levanta_excepcion(-1)"
   ]
  },
  {
   "cell_type": "code",
   "execution_count": null,
   "metadata": {},
   "outputs": [],
   "source": [
    "levanta_excepcion(1j)"
   ]
  },
  {
   "cell_type": "code",
   "execution_count": null,
   "metadata": {},
   "outputs": [],
   "source": [
    "levanta_excepcion(15)"
   ]
  },
  {
   "cell_type": "markdown",
   "metadata": {},
   "source": [
    "## Evaluando condiciones con la expresión ```assert```.\n",
    "\n",
    "\n",
    "En ciertas ocasiones y particularmente en entornos de desarrollo y pruebas, los desarrolladores pueden identificar condiciones que requieren de un tratamiento especial o que no deben pasar desapercibidas. Para este fin se utiliza la expresión ```assert```.\n",
    "\n",
    "```\n",
    "assert(<expresión lógica>)\n",
    "```\n",
    "\n",
    "La expresión ```assert``` levanta una excepción de tipo ```AssertionError``` si el resultado de la expresion lógica definida es ```False```."
   ]
  },
  {
   "cell_type": "markdown",
   "metadata": {},
   "source": [
    "### La función ```condiciona()```.\n",
    "\n",
    "Esta función se repetirá de forma infinita a menos que se ingrese el texto ```Alto```. Cuando se ingresa dicho texto, ```assert``` levantará una excepción de tipo ```AssertionError``` la cual será capturada y romperá el ciclo ```while``. "
   ]
  },
  {
   "cell_type": "code",
   "execution_count": null,
   "metadata": {},
   "outputs": [],
   "source": [
    "def condiciona():\n",
    "    \"\"\"Genera una excepción cuando la palabra clave coincide con el\n",
    "    valor indicado.\n",
    "    El programa se detendrá sólo si se escribe la palabra clave.\"\"\"\n",
    "\n",
    "    while True:\n",
    "        try:\n",
    "            clave = input(\"Dame la clave: \")\n",
    "            assert(clave != \"Alto\")\n",
    "        except AssertionError as e:\n",
    "            print(f\"Desencadenaste la excepción {e}.\")\n",
    "            break"
   ]
  },
  {
   "cell_type": "code",
   "execution_count": null,
   "metadata": {},
   "outputs": [],
   "source": [
    "condiciona()"
   ]
  },
  {
   "cell_type": "markdown",
   "metadata": {},
   "source": [
    "<p style=\"text-align: center\"><a rel=\"license\" href=\"http://creativecommons.org/licenses/by/4.0/\"><img alt=\"Licencia Creative Commons\" style=\"border-width:0\" src=\"https://i.creativecommons.org/l/by/4.0/80x15.png\" /></a><br />Esta obra está bajo una <a rel=\"license\" href=\"http://creativecommons.org/licenses/by/4.0/\">Licencia Creative Commons Atribución 4.0 Internacional</a>.</p>\n",
    "<p style=\"text-align: center\">&copy; José Luis Chiquete Valdivieso. 2022.</p>"
   ]
  }
 ],
 "metadata": {
  "kernelspec": {
   "display_name": "Python 3 (ipykernel)",
   "language": "python",
   "name": "python3"
  },
  "language_info": {
   "codemirror_mode": {
    "name": "ipython",
    "version": 3
   },
   "file_extension": ".py",
   "mimetype": "text/x-python",
   "name": "python",
   "nbconvert_exporter": "python",
   "pygments_lexer": "ipython3",
   "version": "3.9.2"
  }
 },
 "nbformat": 4,
 "nbformat_minor": 1
}
