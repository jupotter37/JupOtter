{
 "cells": [
  {
   "cell_type": "markdown",
   "metadata": {},
   "source": [
    "# site_info module\n",
    "\n",
    "It is possible to read SINEX or SSC files for getting station information like antenna type, receiver type, eccentricity or station coordinates. In addition can also the M3G metadata management and distribution system for multiple GNSS networks be accessed for getting these informations (see https://gnss-metadata.eu).\n",
    "\n",
    "To simplify the access we started to establish site information classes to collect all needed station information. Following site information classes are established:\n",
    "\n",
    "\n",
    "| Class        | Description |\n",
    "| :----------- | :---------- |\n",
    "| Antenna      | Antenna class for handling antenna information |\n",
    "| Eccentricity | Eccentricity class for handling eccentricity information |\n",
    "| Identifier   | Identifier class for handling identifier and monument information |\n",
    "| Receiver     | Receiver class for handling receiver information |\n",
    "| SiteInfo     | SiteInfo class for handling all station information, that means antenna, receiver and site/station coordinate information |\n",
    "| SiteCoord    | SiteCoord class for handling site/station coordinate information |"
   ]
  },
  {
   "cell_type": "markdown",
   "metadata": {},
   "source": [
    "## Antenna class\n",
    "\n",
    "In the following an example for the **Antenna** class is presented:"
   ]
  },
  {
   "cell_type": "code",
   "execution_count": null,
   "metadata": {},
   "outputs": [],
   "source": [
    "# Standard library import\n",
    "from datetime import datetime\n",
    "\n",
    "# Import Midgard parsers\n",
    "from midgard import parsers\n",
    "\n",
    "# Import Antenna class\n",
    "from midgard.site_info.antenna import Antenna\n",
    "\n",
    "# Read station information SINEX file\n",
    "p = parsers.parse_file(\n",
    "            parser_name=\"sinex_site\", \n",
    "            file_path=\"./examples/site_info/site_info.snx\",\n",
    ")\n",
    "\n",
    "# Get station dictionary with antenna information by specifying the file type\n",
    "ant = Antenna.get(\n",
    "            source=\"snx\",  # File type specifier: snx = SINEX; ssc = SSC\n",
    "            source_data=p.as_dict(),\n",
    "            stations=\"adac\", \n",
    "            date=datetime(2021, 9, 12), \n",
    "            source_path=p.file_path,\n",
    ")\n",
    "\n",
    "# Get antenna instance for station ADAC\n",
    "ant_adac = ant[\"adac\"]\n",
    "\n",
    "# Get overview available Antenna objects methods \n",
    "dir(ant_adac)"
   ]
  },
  {
   "cell_type": "code",
   "execution_count": null,
   "metadata": {},
   "outputs": [],
   "source": [
    "# Get antenna type\n",
    "ant_adac.type"
   ]
  },
  {
   "cell_type": "code",
   "execution_count": null,
   "metadata": {},
   "outputs": [],
   "source": [
    "# Get station dictionary of Antenna history instance\n",
    "anth = Antenna.get_history(\n",
    "            source=\"snx\", \n",
    "            source_data=p.as_dict(),\n",
    "            stations=\"adac\",\n",
    "            source_path=p.file_path, \n",
    "\n",
    ")\n",
    "\n",
    "# Get antenna history instance for station ADAC\n",
    "anth_adac = anth[\"adac\"]\n",
    "anth_adac.history"
   ]
  },
  {
   "cell_type": "code",
   "execution_count": null,
   "metadata": {},
   "outputs": [],
   "source": [
    "# Use of iterator for better accessing Antenna history instance\n",
    "for entry in anth_adac:\n",
    "    print(entry.date_from, entry.date_to, entry)\n",
    "\n",
    "# Other solution\n",
    "iterator = iter(anth_adac)\n",
    "next(iterator)"
   ]
  },
  {
   "cell_type": "markdown",
   "metadata": {},
   "source": [
    "## Eccentricity class\n",
    "\n",
    "In the following an example for the **Eccentricity** class is presented:"
   ]
  },
  {
   "cell_type": "code",
   "execution_count": null,
   "metadata": {},
   "outputs": [],
   "source": [
    "# Standard library import\n",
    "from datetime import datetime\n",
    "\n",
    "# Import Midgard parsers\n",
    "from midgard import parsers\n",
    "\n",
    "# Import Eccentricity class\n",
    "from midgard.site_info.eccentricity import Eccentricity\n",
    "\n",
    "# Read station information SINEX file\n",
    "p = parsers.parse_file(\n",
    "            parser_name=\"sinex_site\", \n",
    "            file_path=\"./examples/site_info/site_info.snx\",\n",
    ")\n",
    "\n",
    "# Get station dictionary with eccentricity information by specifying the file type\n",
    "ecc = Eccentricity.get(\n",
    "            source=\"snx\",  # File type specifier: snx = SINEX; ssc = SSC\n",
    "            source_data=p.as_dict(),\n",
    "            stations=\"adac\", \n",
    "            date=datetime(2021, 9, 12), \n",
    "            source_path=p.file_path,\n",
    ")\n",
    "\n",
    "# Get eccentricity instance for station ADAC\n",
    "ecc_adac = ecc[\"adac\"]\n",
    "\n",
    "# Get overview available Eccentricity objects methods \n",
    "dir(ecc_adac)"
   ]
  },
  {
   "cell_type": "code",
   "execution_count": null,
   "metadata": {},
   "outputs": [],
   "source": [
    "# Get eccentricity\n",
    "ecc_adac.dpos"
   ]
  },
  {
   "cell_type": "code",
   "execution_count": null,
   "metadata": {},
   "outputs": [],
   "source": [
    "# Get station dictionary of Eccentricity history instance\n",
    "ecch = Eccentricity.get_history(\n",
    "            source=\"snx\", \n",
    "            source_data=p.as_dict(),\n",
    "            stations=\"adac\",\n",
    "            source_path=p.file_path, \n",
    "\n",
    ")\n",
    "\n",
    "# Get eccentricity history instance for station ADAC\n",
    "ecch_adac = ecch[\"adac\"]\n",
    "ecch_adac.history"
   ]
  },
  {
   "cell_type": "markdown",
   "metadata": {},
   "source": [
    "## Identifier class\n",
    "\n",
    "In the following an example for the **Identifier** class is presented. It should be noted that the **Identifier** module does not have History classes as the other site information modules."
   ]
  },
  {
   "cell_type": "code",
   "execution_count": null,
   "metadata": {},
   "outputs": [],
   "source": [
    "# Standard library import\n",
    "from datetime import datetime\n",
    "\n",
    "# Import Midgard parsers\n",
    "from midgard import parsers\n",
    "\n",
    "# Import Identifier class\n",
    "from midgard.site_info.identifier import Identifier\n",
    "\n",
    "# Read station information SINEX file\n",
    "p = parsers.parse_file(\n",
    "            parser_name=\"sinex_site\", \n",
    "            file_path=\"./examples/site_info/site_info.snx\",\n",
    ")\n",
    "\n",
    "# Get station dictionary with identifier information by specifying the file type \n",
    "# (Note: No date information argument needed like for the other modules.)\n",
    "idn = Identifier.get(\n",
    "            source=\"snx\",  # File type specifier: snx = SINEX; ssc = SSC\n",
    "            source_data=p.as_dict(),\n",
    "            stations=\"adac\", \n",
    "            source_path=p.file_path,\n",
    ")\n",
    "\n",
    "# Get identifier instance for station ADAC\n",
    "idn_adac = idn[\"adac\"]\n",
    "\n",
    "# Get overview available Identifier objects methods \n",
    "dir(idn_adac)"
   ]
  },
  {
   "cell_type": "code",
   "execution_count": null,
   "metadata": {},
   "outputs": [],
   "source": [
    "# Get site name\n",
    "idn_adac.name"
   ]
  },
  {
   "cell_type": "markdown",
   "metadata": {},
   "source": [
    "## Receiver class\n",
    "\n",
    "In the following an example for the **Receiver** class is presented:"
   ]
  },
  {
   "cell_type": "code",
   "execution_count": null,
   "metadata": {},
   "outputs": [],
   "source": [
    "# Standard library import\n",
    "from datetime import datetime\n",
    "\n",
    "# Import Midgard parsers\n",
    "from midgard import parsers\n",
    "\n",
    "# Import Receiver class\n",
    "from midgard.site_info.receiver import Receiver\n",
    "\n",
    "# Read station information SINEX file\n",
    "p = parsers.parse_file(\n",
    "            parser_name=\"sinex_site\", \n",
    "            file_path=\"./examples/site_info/site_info.snx\",\n",
    ")\n",
    "\n",
    "# Get station dictionary of Receiver instance \n",
    "rcv = Receiver.get(\n",
    "            source=\"snx\", # File type specifier: snx = SINEX; ssc = SSC\n",
    "            source_data=p.as_dict(),\n",
    "            stations=\"adac\",\n",
    "            date=datetime(2021, 9, 12), \n",
    "            source_path=p.file_path,\n",
    ")\n",
    "\n",
    "# Get receiver instance for station ADAC\n",
    "rcv_adac = rcv[\"adac\"]\n",
    "\n",
    "# Get overview available Receiver objects methods \n",
    "dir(rcv_adac)"
   ]
  },
  {
   "cell_type": "code",
   "execution_count": null,
   "metadata": {},
   "outputs": [],
   "source": [
    "# Get receiver type\n",
    "rcv_adac.type"
   ]
  },
  {
   "cell_type": "code",
   "execution_count": null,
   "metadata": {},
   "outputs": [],
   "source": [
    "# Get station dictionary of Receiver history instance\n",
    "rcvh = Receiver.get_history(\n",
    "            source=\"snx\", \n",
    "            source_data=p.as_dict(),\n",
    "            stations=\"adac\",\n",
    "            source_path=p.file_path,\n",
    ")\n",
    "\n",
    "# Get receiver history instance for station ADAC\n",
    "rcvh_adac = rcvh[\"adac\"]\n",
    "rcvh_adac.history"
   ]
  },
  {
   "cell_type": "markdown",
   "metadata": {},
   "source": [
    "## SiteCoord class\n",
    "\n",
    "In the following an example for the **SiteCoord** class is presented:"
   ]
  },
  {
   "cell_type": "code",
   "execution_count": null,
   "metadata": {},
   "outputs": [],
   "source": [
    "# Standard library import\n",
    "from datetime import datetime\n",
    "\n",
    "# Import Midgard parsers\n",
    "from midgard import parsers\n",
    "\n",
    "# Import SiteCoord class\n",
    "from midgard.site_info.site_coord import SiteCoord\n",
    "\n",
    "# Read station information SINEX file\n",
    "p = parsers.parse_file(\n",
    "            parser_name=\"sinex_site\", \n",
    "            file_path=\"./examples/site_info/site_info.snx\",\n",
    ")\n",
    "\n",
    "# Get station dictionary of SiteCoord instance \n",
    "crd = SiteCoord.get(\n",
    "            source=\"snx\", # File type specifier: snx = SINEX; ssc = SSC\n",
    "            source_data=p.as_dict(),\n",
    "            stations=\"adac\",\n",
    "            date=datetime(2021, 9, 12),\n",
    "            source_path=p.file_path,\n",
    ")\n",
    "\n",
    "# Get SiteCoord instance for station ADAC\n",
    "crd_adac = crd[\"adac\"]\n",
    "\n",
    "# Get overview available SiteCoord objects methods \n",
    "dir(crd_adac)"
   ]
  },
  {
   "cell_type": "code",
   "execution_count": null,
   "metadata": {},
   "outputs": [],
   "source": [
    "# Get current site position\n",
    "crd_adac.pos.llh"
   ]
  },
  {
   "cell_type": "code",
   "execution_count": null,
   "metadata": {},
   "outputs": [],
   "source": [
    "# Get reference epoch of site position\n",
    "crd_adac.ref_epoch"
   ]
  },
  {
   "cell_type": "code",
   "execution_count": null,
   "metadata": {},
   "outputs": [],
   "source": [
    "# Get station dictionary of SiteCoord history instance\n",
    "crdh = SiteCoord.get_history(\n",
    "            source=\"snx\", \n",
    "            source_data=p.as_dict(),\n",
    "            stations=\"adac\",\n",
    "            source_path=p.file_path,    \n",
    ")\n",
    "\n",
    "# Get SiteCoord history instance for station ADAC\n",
    "crdh_adac = crdh[\"adac\"]\n",
    "crdh_adac.history\n",
    "dir(crdh_adac)"
   ]
  },
  {
   "cell_type": "markdown",
   "metadata": {},
   "source": [
    "## SiteInfo class\n",
    "\n",
    "In the following an example for the **SiteInfo** class is presented:"
   ]
  },
  {
   "cell_type": "code",
   "execution_count": null,
   "metadata": {},
   "outputs": [],
   "source": [
    "# Standard library import\n",
    "from datetime import datetime\n",
    "\n",
    "# Import Midgard parsers\n",
    "from midgard import parsers\n",
    "\n",
    "# Import SiteCoord class\n",
    "from midgard.site_info.site_info import SiteInfo\n",
    "\n",
    "# Read station information SINEX file\n",
    "p = parsers.parse_file(\n",
    "            parser_name=\"sinex_site\", \n",
    "            file_path=\"./examples/site_info/site_info.snx\",\n",
    ")\n",
    "\n",
    "# Get station dictionary of SiteInfo instance \n",
    "info = SiteInfo.get(\n",
    "            source=\"snx\", # File type specifier: snx = SINEX; ssc = SSC\n",
    "            source_data=p.as_dict(),\n",
    "            stations=\"adac\",\n",
    "            date=datetime(2021, 9, 12),\n",
    "            source_path=p.file_path,\n",
    ")\n",
    "\n",
    "# Get dictionary with Antenna, Receiver and SiteCoord information for station ADAC\n",
    "info_adac = info[\"adac\"]\n",
    "\n",
    "# Get Antenna instance for ADAC\n",
    "ant_adac = info_adac[\"antenna\"]\n",
    "ant_adac.type\n",
    "\n",
    "# Get Receiver instance for ADAC\n",
    "rcv_adac = info_adac[\"receiver\"]\n",
    "rcv_adac.type\n",
    "\n",
    "# Get SiteCoord instance for ADAC\n",
    "crd_adac = info_adac[\"site_coord\"]\n",
    "crd_adac.pos"
   ]
  },
  {
   "cell_type": "code",
   "execution_count": null,
   "metadata": {},
   "outputs": [],
   "source": [
    "# Get station dictionary of SiteInfo history instance\n",
    "infoh = SiteInfo.get_history(\n",
    "            source=\"snx\", \n",
    "            source_data=p.as_dict(),\n",
    "            stations=\"adac\",\n",
    "            source_path=p.file_path,    \n",
    ")\n",
    "\n",
    "# Get dictionary with Antenna, Receiver and SiteCoord history information for station ADAC\n",
    "infoh_adac = infoh[\"adac\"]\n",
    "\n",
    "# Get Antenna history instance for ADAC\n",
    "anth_adac = infoh_adac[\"antenna\"]\n",
    "\n",
    "# Get Receiver history instance for ADAC\n",
    "rcvh_adac = infoh_adac[\"receiver\"]\n",
    "\n",
    "# Get SiteCoord history instance for ADAC\n",
    "crdh_adac = infoh_adac[\"site_coord\"]\n",
    "crdh_adac.history"
   ]
  },
  {
   "cell_type": "markdown",
   "metadata": {},
   "source": [
    "## M3G API wrapper\n",
    "\n",
    "The M3G metadata management and distribution system for multiple GNSS networks (https://gnss-metadata.eu) is accessable via M3G application programming interface (API). **api.py** is a Python wrapper around the M3G API, which creates functions automatically based on the services listed on the help page referred to by M3G API URL (https://gnss-metadata.eu/site/api-docs). Hereby should be noted that so far only the GET endpoints can be accessed via the M3G API wrapper."
   ]
  },
  {
   "cell_type": "code",
   "execution_count": 1,
   "metadata": {},
   "outputs": [
    {
     "ename": "ValueError",
     "evalue": "Failure by URL https://gnss-metadata.eu/site/api-json call\n\nMessage: An internal server error occurred.",
     "output_type": "error",
     "traceback": [
      "\u001b[0;31m---------------------------------------------------------------------------\u001b[0m",
      "\u001b[0;31mHTTPError\u001b[0m                                 Traceback (most recent call last)",
      "\u001b[0;32m/opt/miniconda3/envs/where/lib/python3.9/site-packages/midgard/site_info/m3g/api.py\u001b[0m in \u001b[0;36m_get_url\u001b[0;34m(self, url, headers, **kwargs)\u001b[0m\n\u001b[1;32m    226\u001b[0m                 \u001b[0mresponse\u001b[0m \u001b[0;34m=\u001b[0m \u001b[0mrequests\u001b[0m\u001b[0;34m.\u001b[0m\u001b[0mget\u001b[0m\u001b[0;34m(\u001b[0m\u001b[0murl\u001b[0m\u001b[0;34m)\u001b[0m\u001b[0;34m\u001b[0m\u001b[0;34m\u001b[0m\u001b[0m\n\u001b[0;32m--> 227\u001b[0;31m             \u001b[0mresponse\u001b[0m\u001b[0;34m.\u001b[0m\u001b[0mraise_for_status\u001b[0m\u001b[0;34m(\u001b[0m\u001b[0;34m)\u001b[0m  \u001b[0;31m# If the response was successful (status_code = 200), no exception will be raised.\u001b[0m\u001b[0;34m\u001b[0m\u001b[0;34m\u001b[0m\u001b[0m\n\u001b[0m\u001b[1;32m    228\u001b[0m \u001b[0;34m\u001b[0m\u001b[0m\n",
      "\u001b[0;32m/opt/miniconda3/envs/where/lib/python3.9/site-packages/requests/models.py\u001b[0m in \u001b[0;36mraise_for_status\u001b[0;34m(self)\u001b[0m\n\u001b[1;32m    959\u001b[0m         \u001b[0;32mif\u001b[0m \u001b[0mhttp_error_msg\u001b[0m\u001b[0;34m:\u001b[0m\u001b[0;34m\u001b[0m\u001b[0;34m\u001b[0m\u001b[0m\n\u001b[0;32m--> 960\u001b[0;31m             \u001b[0;32mraise\u001b[0m \u001b[0mHTTPError\u001b[0m\u001b[0;34m(\u001b[0m\u001b[0mhttp_error_msg\u001b[0m\u001b[0;34m,\u001b[0m \u001b[0mresponse\u001b[0m\u001b[0;34m=\u001b[0m\u001b[0mself\u001b[0m\u001b[0;34m)\u001b[0m\u001b[0;34m\u001b[0m\u001b[0;34m\u001b[0m\u001b[0m\n\u001b[0m\u001b[1;32m    961\u001b[0m \u001b[0;34m\u001b[0m\u001b[0m\n",
      "\u001b[0;31mHTTPError\u001b[0m: 500 Server Error: Internal Server Error for url: https://gnss-metadata.eu/site/api-json",
      "\nDuring handling of the above exception, another exception occurred:\n",
      "\u001b[0;31mValueError\u001b[0m                                Traceback (most recent call last)",
      "\u001b[0;32m/tmp/ipykernel_9197/340696860.py\u001b[0m in \u001b[0;36m<module>\u001b[0;34m\u001b[0m\n\u001b[1;32m      3\u001b[0m \u001b[0;34m\u001b[0m\u001b[0m\n\u001b[1;32m      4\u001b[0m \u001b[0;31m# Get instance of M3gApi class with API methods based on default URL\u001b[0m\u001b[0;34m\u001b[0m\u001b[0;34m\u001b[0m\u001b[0m\n\u001b[0;32m----> 5\u001b[0;31m \u001b[0mapi\u001b[0m \u001b[0;34m=\u001b[0m \u001b[0mm3g\u001b[0m\u001b[0;34m.\u001b[0m\u001b[0mapi\u001b[0m\u001b[0;34m.\u001b[0m\u001b[0mM3gApi\u001b[0m\u001b[0;34m(\u001b[0m\u001b[0;34m)\u001b[0m\u001b[0;34m\u001b[0m\u001b[0;34m\u001b[0m\u001b[0m\n\u001b[0m\u001b[1;32m      6\u001b[0m \u001b[0;34m\u001b[0m\u001b[0m\n\u001b[1;32m      7\u001b[0m \u001b[0;31m# Get overview over available M3G API functions\u001b[0m\u001b[0;34m\u001b[0m\u001b[0;34m\u001b[0m\u001b[0m\n",
      "\u001b[0;32m/opt/miniconda3/envs/where/lib/python3.9/site-packages/midgard/site_info/m3g/api.py\u001b[0m in \u001b[0;36m__init__\u001b[0;34m(self, url)\u001b[0m\n\u001b[1;32m     41\u001b[0m \u001b[0;34m\u001b[0m\u001b[0m\n\u001b[1;32m     42\u001b[0m         \u001b[0;31m# Get open api specification\u001b[0m\u001b[0;34m\u001b[0m\u001b[0;34m\u001b[0m\u001b[0m\n\u001b[0;32m---> 43\u001b[0;31m         \u001b[0mr\u001b[0m \u001b[0;34m=\u001b[0m \u001b[0mself\u001b[0m\u001b[0;34m.\u001b[0m\u001b[0m_get_url\u001b[0m\u001b[0;34m(\u001b[0m\u001b[0murl\u001b[0m\u001b[0;34m)\u001b[0m\u001b[0;34m\u001b[0m\u001b[0;34m\u001b[0m\u001b[0m\n\u001b[0m\u001b[1;32m     44\u001b[0m \u001b[0;34m\u001b[0m\u001b[0m\n\u001b[1;32m     45\u001b[0m         \u001b[0;31m# Generate methods based on API help\u001b[0m\u001b[0;34m\u001b[0m\u001b[0;34m\u001b[0m\u001b[0m\n",
      "\u001b[0;32m/opt/miniconda3/envs/where/lib/python3.9/site-packages/midgard/site_info/m3g/api.py\u001b[0m in \u001b[0;36m_get_url\u001b[0;34m(self, url, headers, **kwargs)\u001b[0m\n\u001b[1;32m    230\u001b[0m             \u001b[0;32mif\u001b[0m \u001b[0;32mnot\u001b[0m \u001b[0;34m\"response\"\u001b[0m \u001b[0;32min\u001b[0m \u001b[0mlocals\u001b[0m\u001b[0;34m(\u001b[0m\u001b[0;34m)\u001b[0m\u001b[0;34m:\u001b[0m\u001b[0;34m\u001b[0m\u001b[0;34m\u001b[0m\u001b[0m\n\u001b[1;32m    231\u001b[0m                 \u001b[0;32mraise\u001b[0m \u001b[0mConnectionError\u001b[0m\u001b[0;34m(\u001b[0m\u001b[0merr\u001b[0m\u001b[0;34m)\u001b[0m\u001b[0;34m\u001b[0m\u001b[0;34m\u001b[0m\u001b[0m\n\u001b[0;32m--> 232\u001b[0;31m             \u001b[0;32mraise\u001b[0m \u001b[0mValueError\u001b[0m\u001b[0;34m(\u001b[0m\u001b[0mself\u001b[0m\u001b[0;34m.\u001b[0m\u001b[0m_error_message\u001b[0m\u001b[0;34m(\u001b[0m\u001b[0murl\u001b[0m\u001b[0;34m,\u001b[0m \u001b[0mresponse\u001b[0m\u001b[0;34m.\u001b[0m\u001b[0mjson\u001b[0m\u001b[0;34m(\u001b[0m\u001b[0;34m)\u001b[0m\u001b[0;34m)\u001b[0m\u001b[0;34m)\u001b[0m\u001b[0;34m\u001b[0m\u001b[0;34m\u001b[0m\u001b[0m\n\u001b[0m\u001b[1;32m    233\u001b[0m \u001b[0;34m\u001b[0m\u001b[0m\n\u001b[1;32m    234\u001b[0m         \u001b[0;32mreturn\u001b[0m \u001b[0mresponse\u001b[0m\u001b[0;34m\u001b[0m\u001b[0;34m\u001b[0m\u001b[0m\n",
      "\u001b[0;31mValueError\u001b[0m: Failure by URL https://gnss-metadata.eu/site/api-json call\n\nMessage: An internal server error occurred."
     ]
    }
   ],
   "source": [
    "# Import M3G API wrapper\n",
    "from midgard.site_info import m3g\n",
    "\n",
    "# Get instance of M3gApi class with API methods based on default URL\n",
    "api = m3g.api.M3gApi()\n",
    "\n",
    "# Get overview over available M3G API functions \n",
    "dir(api)"
   ]
  },
  {
   "cell_type": "code",
   "execution_count": null,
   "metadata": {},
   "outputs": [],
   "source": [
    "# Get sitelog information of BRUX station\n",
    "slog_brux = api.get_sitelog(filter={\"id\":{\"like\":\"BRUX\"}})\n",
    "\n",
    "# Get stationId of BRUX\n",
    "slog_brux[0][\"sitelog\"][\"stationId\"]\n",
    "\n",
    "# Get current antenna type of BRUX\n",
    "slog_brux[0][\"sitelog\"][\"antennas\"][-1][\"antenna\"]\n",
    "\n",
    "# Get current receiver type of BRUX\n",
    "slog_brux[0][\"sitelog\"][\"receivers\"][-1][\"receiverType\"]\n"
   ]
  },
  {
   "cell_type": "code",
   "execution_count": null,
   "metadata": {},
   "outputs": [],
   "source": [
    "# Get sitelog information for a given date\n",
    "api.get_sitelog_day(date=\"2023-01-03\", filter={\"id\":{\"like\":\"BRUX\"}})"
   ]
  },
  {
   "cell_type": "code",
   "execution_count": null,
   "metadata": {},
   "outputs": [],
   "source": [
    "# Get country information of Norway\n",
    "api.get_country(filter={\"id\":{\"like\":\"NOR\"}})"
   ]
  },
  {
   "cell_type": "markdown",
   "metadata": {},
   "source": [
    "### Example for using M3G station information data\n",
    "\n",
    "An example is shown for using M3G station information data to write files like the Bernese station information file. As a first step a Midgard station information data structure like the Midgard **site_info** dictionary has to be establish. "
   ]
  },
  {
   "cell_type": "code",
   "execution_count": null,
   "metadata": {},
   "outputs": [],
   "source": [
    "# Standard library import\n",
    "from datetime import datetime\n",
    "\n",
    "# Import M3G API wrapper\n",
    "from midgard.site_info import m3g\n",
    "\n",
    "# Import SiteCoord class\n",
    "from midgard.site_info.site_info import SiteInfo\n",
    "\n",
    "# Get instance of M3gApi class\n",
    "api = m3g.api.M3gApi()\n",
    "\n",
    "# Get sitelog information from BRUX00BEL station in M3G database\n",
    "source_data = dict()\n",
    "m3g_brux = api.get_sitelog(filter={\"id\":{\"like\":\"BRUX00BEL\"}})[0]\n",
    "source_data[\"BRUX\"] = {\"BRUX00BEL\": m3g_brux}  # This is step is necessary for getting \n",
    "                                               # correct source_data structure."
   ]
  },
  {
   "cell_type": "markdown",
   "metadata": {},
   "source": [
    "As a next step the generated **source data** are applied to initialize a Midgard **site_info** object. Midgard **site_info** class provides a data structure to save relevant station information. "
   ]
  },
  {
   "cell_type": "code",
   "execution_count": null,
   "metadata": {},
   "outputs": [],
   "source": [
    "# Get station dictionary of SiteInfo instance \n",
    "info = SiteInfo.get(\n",
    "            source=\"m3g\", \n",
    "            source_data=source_data,\n",
    "            stations=\"brux\",\n",
    "            date=datetime(2021, 9, 12),\n",
    "            source_path=api.url,\n",
    ")\n",
    "\n",
    "# Get dictionary with Antenna, Receiver and SiteCoord information for station BRUX\n",
    "info_brux = info[\"brux\"]\n",
    "\n",
    "# Get Antenna instance for BRUX\n",
    "ant_brux = info_brux[\"antenna\"]\n",
    "ant_brux.type"
   ]
  },
  {
   "cell_type": "markdown",
   "metadata": {},
   "source": [
    "The last step is to use the station information dictionary \"site_info\" for writing the Bernese station information file with the **bernese_sta** writer (see also **writers** Jupyter notebook for using other station information writers)."
   ]
  },
  {
   "cell_type": "code",
   "execution_count": null,
   "metadata": {},
   "outputs": [],
   "source": [
    "# Use bernese_sta writer\n",
    "bernese_sta(\n",
    "    file_path=\"./examples/writers/BERNESE.STA\",\n",
    "    site_info=site_info,\n",
    "    agency=\"NMA\", # Agency which uses this file for processing\n",
    ")\n",
    "\n",
    "# Display output file\n",
    "from IPython.display import Code\n",
    "Code(filename='./examples/writers/BERNESE.STA', language='python')"
   ]
  }
 ],
 "metadata": {
  "kernelspec": {
   "display_name": "Python 3 (ipykernel)",
   "language": "python",
   "name": "python3"
  },
  "language_info": {
   "codemirror_mode": {
    "name": "ipython",
    "version": 3
   },
   "file_extension": ".py",
   "mimetype": "text/x-python",
   "name": "python",
   "nbconvert_exporter": "python",
   "pygments_lexer": "ipython3",
   "version": "3.9.12"
  }
 },
 "nbformat": 4,
 "nbformat_minor": 2
}
