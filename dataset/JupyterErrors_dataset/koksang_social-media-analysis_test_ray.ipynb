{
 "cells": [
  {
   "cell_type": "code",
   "execution_count": 1,
   "id": "6c17008e-0f26-4a62-bb59-f0fae25ee358",
   "metadata": {},
   "outputs": [],
   "source": [
    "MODE = \"search\"\n",
    "QUERY = [\"gg\", \"taiwan\", \"btc\"]\n"
   ]
  },
  {
   "cell_type": "code",
   "execution_count": 2,
   "id": "be08b36c-fb39-4813-883f-4297ee2a0f9e",
   "metadata": {},
   "outputs": [],
   "source": [
    "%load_ext autoreload\n",
    "%autoreload 2"
   ]
  },
  {
   "cell_type": "code",
   "execution_count": 3,
   "id": "d44a5f81-5907-45a1-8a0e-f219201d2705",
   "metadata": {},
   "outputs": [
    {
     "name": "stdout",
     "output_type": "stream",
     "text": [
      "=================================================================\n",
      "Checking Serializability of <class 'core.source.crawler.Crawler'>\n",
      "=================================================================\n"
     ]
    },
    {
     "data": {
      "text/plain": [
       "(True, set())"
      ]
     },
     "execution_count": 3,
     "metadata": {},
     "output_type": "execute_result"
    }
   ],
   "source": [
    "import sys\n",
    "\n",
    "sys.path.insert(0, \"../\")\n",
    "\n",
    "import os\n",
    "import ray\n",
    "from attrs import asdict\n",
    "from ray.util import inspect_serializability\n",
    "from ray.runtime_env import RuntimeEnv\n",
    "\n",
    "#\n",
    "from core.source.crawler import Crawler\n",
    "from model.source.crawler import CrawlerModel\n",
    "from core.logger import logger\n",
    "\n",
    "inspect_serializability(Crawler)"
   ]
  },
  {
   "cell_type": "code",
   "execution_count": 4,
   "id": "673b6f2b-57f3-44e4-b83e-c2063bd7d3a0",
   "metadata": {},
   "outputs": [
    {
     "name": "stderr",
     "output_type": "stream",
     "text": [
      "2022-07-12 01:14:51,337\tINFO services.py:1470 -- View the Ray dashboard at http://127.0.0.1:8265\n",
      "2022-07-12 01:14:52,834\tINFO packaging.py:414 -- Creating a file package for local directory '/Users/klim/Projects/twitter-trends-crawling/src'.\n",
      "2022-07-12 01:14:52,851\tINFO packaging.py:258 -- Pushing file package 'gcs://_ray_pkg_2acc99b08aff1bea.zip' (0.12MiB) to Ray cluster...\n",
      "2022-07-12 01:14:52,854\tINFO packaging.py:267 -- Successfully pushed file package 'gcs://_ray_pkg_2acc99b08aff1bea.zip'.\n"
     ]
    },
    {
     "data": {
      "text/plain": [
       "RayContext(dashboard_url='127.0.0.1:8265', python_version='3.9.6', ray_version='1.13.0', ray_commit='e4ce38d001dbbe09cd21c497fedd03d692b2be3e', address_info={'node_ip_address': '127.0.0.1', 'raylet_ip_address': '127.0.0.1', 'redis_address': None, 'object_store_address': '/tmp/ray/session_2022-07-12_01-14-48_376745_55029/sockets/plasma_store', 'raylet_socket_name': '/tmp/ray/session_2022-07-12_01-14-48_376745_55029/sockets/raylet', 'webui_url': '127.0.0.1:8265', 'session_dir': '/tmp/ray/session_2022-07-12_01-14-48_376745_55029', 'metrics_export_port': 65527, 'gcs_address': '127.0.0.1:65476', 'address': '127.0.0.1:65476', 'node_id': '7f8c989fb76ffd59a16a5eacd685f8e831c59474df226d0008d63967'})"
      ]
     },
     "execution_count": 4,
     "metadata": {},
     "output_type": "execute_result"
    }
   ],
   "source": [
    "# RUNTIME_ENV = RuntimeEnv(\n",
    "#     working_dir=\"/Users/klim/Projects/twitter-trends-crawling/src/\"\n",
    "# )\n",
    "\n",
    "RUNTIME_ENV = dict(\n",
    "    working_dir=\"/Users/klim/Projects/twitter-trends-crawling/src\"\n",
    ")\n",
    "\n",
    "# ray.init(\n",
    "#     ignore_reinit_error=True, \n",
    "#     runtime_env=RUNTIME_ENV\n",
    "# )\n",
    "ray.init()"
   ]
  },
  {
   "cell_type": "code",
   "execution_count": 5,
   "id": "313f2e8f-b0b8-48ec-bd03-1be01d4d2de4",
   "metadata": {},
   "outputs": [
    {
     "ename": "RayTaskError(RuntimeError)",
     "evalue": "\u001b[36mray::test()\u001b[39m (pid=55228, ip=127.0.0.1)\nRuntimeError: The remote function failed to import on the worker. This may be because needed library dependencies are not installed in the worker environment:\n\n\u001b[36mray::test()\u001b[39m (pid=55228, ip=127.0.0.1)\nModuleNotFoundError: No module named 'model'",
     "output_type": "error",
     "traceback": [
      "\u001b[0;31m---------------------------------------------------------------------------\u001b[0m",
      "\u001b[0;31mRayTaskError(RuntimeError)\u001b[0m                Traceback (most recent call last)",
      "Input \u001b[0;32mIn [5]\u001b[0m, in \u001b[0;36m<cell line: 15>\u001b[0;34m()\u001b[0m\n\u001b[1;32m     12\u001b[0m     \u001b[38;5;28;01mreturn\u001b[39;00m model\u001b[38;5;241m.\u001b[39mmax_limits\n\u001b[1;32m     14\u001b[0m tasks \u001b[38;5;241m=\u001b[39m [test\u001b[38;5;241m.\u001b[39mremote() \u001b[38;5;28;01mfor\u001b[39;00m _ \u001b[38;5;129;01min\u001b[39;00m \u001b[38;5;28mrange\u001b[39m(\u001b[38;5;241m5\u001b[39m)]\n\u001b[0;32m---> 15\u001b[0m \u001b[43mray\u001b[49m\u001b[38;5;241;43m.\u001b[39;49m\u001b[43mget\u001b[49m\u001b[43m(\u001b[49m\u001b[43mtasks\u001b[49m\u001b[43m)\u001b[49m\n",
      "File \u001b[0;32m~/Library/Caches/pypoetry/virtualenvs/twitter-trends-crawling-8JX5Pgav-py3.9/lib/python3.9/site-packages/ray/_private/client_mode_hook.py:105\u001b[0m, in \u001b[0;36mclient_mode_hook.<locals>.wrapper\u001b[0;34m(*args, **kwargs)\u001b[0m\n\u001b[1;32m    103\u001b[0m     \u001b[38;5;28;01mif\u001b[39;00m func\u001b[38;5;241m.\u001b[39m\u001b[38;5;18m__name__\u001b[39m \u001b[38;5;241m!=\u001b[39m \u001b[38;5;124m\"\u001b[39m\u001b[38;5;124minit\u001b[39m\u001b[38;5;124m\"\u001b[39m \u001b[38;5;129;01mor\u001b[39;00m is_client_mode_enabled_by_default:\n\u001b[1;32m    104\u001b[0m         \u001b[38;5;28;01mreturn\u001b[39;00m \u001b[38;5;28mgetattr\u001b[39m(ray, func\u001b[38;5;241m.\u001b[39m\u001b[38;5;18m__name__\u001b[39m)(\u001b[38;5;241m*\u001b[39margs, \u001b[38;5;241m*\u001b[39m\u001b[38;5;241m*\u001b[39mkwargs)\n\u001b[0;32m--> 105\u001b[0m \u001b[38;5;28;01mreturn\u001b[39;00m \u001b[43mfunc\u001b[49m\u001b[43m(\u001b[49m\u001b[38;5;241;43m*\u001b[39;49m\u001b[43margs\u001b[49m\u001b[43m,\u001b[49m\u001b[43m \u001b[49m\u001b[38;5;241;43m*\u001b[39;49m\u001b[38;5;241;43m*\u001b[39;49m\u001b[43mkwargs\u001b[49m\u001b[43m)\u001b[49m\n",
      "File \u001b[0;32m~/Library/Caches/pypoetry/virtualenvs/twitter-trends-crawling-8JX5Pgav-py3.9/lib/python3.9/site-packages/ray/worker.py:1831\u001b[0m, in \u001b[0;36mget\u001b[0;34m(object_refs, timeout)\u001b[0m\n\u001b[1;32m   1829\u001b[0m     worker\u001b[38;5;241m.\u001b[39mcore_worker\u001b[38;5;241m.\u001b[39mdump_object_store_memory_usage()\n\u001b[1;32m   1830\u001b[0m \u001b[38;5;28;01mif\u001b[39;00m \u001b[38;5;28misinstance\u001b[39m(value, RayTaskError):\n\u001b[0;32m-> 1831\u001b[0m     \u001b[38;5;28;01mraise\u001b[39;00m value\u001b[38;5;241m.\u001b[39mas_instanceof_cause()\n\u001b[1;32m   1832\u001b[0m \u001b[38;5;28;01melse\u001b[39;00m:\n\u001b[1;32m   1833\u001b[0m     \u001b[38;5;28;01mraise\u001b[39;00m value\n",
      "\u001b[0;31mRayTaskError(RuntimeError)\u001b[0m: \u001b[36mray::test()\u001b[39m (pid=55228, ip=127.0.0.1)\nRuntimeError: The remote function failed to import on the worker. This may be because needed library dependencies are not installed in the worker environment:\n\n\u001b[36mray::test()\u001b[39m (pid=55228, ip=127.0.0.1)\nModuleNotFoundError: No module named 'model'"
     ]
    },
    {
     "name": "stderr",
     "output_type": "stream",
     "text": [
      "2022-07-12 01:19:29,404\tERROR worker.py:94 -- Unhandled error (suppress with 'RAY_IGNORE_UNHANDLED_ERRORS=1'): ray::test() (pid=55218, ip=127.0.0.1)\n",
      "RuntimeError: The remote function failed to import on the worker. This may be because needed library dependencies are not installed in the worker environment:\n",
      "\n",
      "ray::test() (pid=55218, ip=127.0.0.1)\n",
      "ModuleNotFoundError: No module named 'model'\n",
      "2022-07-12 01:19:29,408\tERROR worker.py:94 -- Unhandled error (suppress with 'RAY_IGNORE_UNHANDLED_ERRORS=1'): ray::test() (pid=55221, ip=127.0.0.1)\n",
      "RuntimeError: The remote function failed to import on the worker. This may be because needed library dependencies are not installed in the worker environment:\n",
      "\n",
      "ray::test() (pid=55221, ip=127.0.0.1)\n",
      "ModuleNotFoundError: No module named 'model'\n",
      "2022-07-12 01:19:29,412\tERROR worker.py:94 -- Unhandled error (suppress with 'RAY_IGNORE_UNHANDLED_ERRORS=1'): ray::test() (pid=55225, ip=127.0.0.1)\n",
      "RuntimeError: The remote function failed to import on the worker. This may be because needed library dependencies are not installed in the worker environment:\n",
      "\n",
      "ray::test() (pid=55225, ip=127.0.0.1)\n",
      "ModuleNotFoundError: No module named 'model'\n",
      "2022-07-12 01:19:29,415\tERROR worker.py:94 -- Unhandled error (suppress with 'RAY_IGNORE_UNHANDLED_ERRORS=1'): ray::test() (pid=55227, ip=127.0.0.1)\n",
      "RuntimeError: The remote function failed to import on the worker. This may be because needed library dependencies are not installed in the worker environment:\n",
      "\n",
      "ray::test() (pid=55227, ip=127.0.0.1)\n",
      "ModuleNotFoundError: No module named 'model'\n"
     ]
    }
   ],
   "source": [
    "from model.source.crawler import CrawlerModel\n",
    "from core.logger import logger\n",
    "\n",
    "@ray.remote\n",
    "def test():    \n",
    "    model = CrawlerModel(mode=\"search\", query=[\"gg\", \"lala\"])\n",
    "    \n",
    "    # logger.info(sys.path)\n",
    "    # logger.info(os.getcwd())\n",
    "\n",
    "\n",
    "    return model.max_limits\n",
    "\n",
    "tasks = [test.remote() for _ in range(5)]\n",
    "ray.get(tasks)"
   ]
  },
  {
   "cell_type": "code",
   "execution_count": null,
   "id": "b2f280e1-ce65-4d59-a725-1bd9c7c690df",
   "metadata": {},
   "outputs": [],
   "source": []
  },
  {
   "cell_type": "code",
   "execution_count": null,
   "id": "e2ca8806-201e-4ed1-b8e4-1e618bce3ba1",
   "metadata": {},
   "outputs": [],
   "source": []
  },
  {
   "cell_type": "code",
   "execution_count": 4,
   "id": "cb63a88a-6865-4fe4-ab29-f79cae99ea1a",
   "metadata": {},
   "outputs": [
    {
     "name": "stderr",
     "output_type": "stream",
     "text": [
      "2022-07-11 22:11:35,662\tINFO services.py:1470 -- View the Ray dashboard at http://127.0.0.1:8265\n",
      "(TemporaryActor pid=49649) 2022-07-11 22:11:38,928\tERROR worker.py:451 -- Exception raised in creation task: The actor died because of an error raised in its creation task, ray::Crawler.__init__() (pid=49649, ip=127.0.0.1, repr=<core.source.crawler.FunctionActorManager._create_fake_actor_class.<locals>.TemporaryActor object at 0x1160380a0>)\n",
      "(TemporaryActor pid=49649) RuntimeError: The actor with name Crawler failed to import on the worker. This may be because needed library dependencies are not installed in the worker environment:\n",
      "(TemporaryActor pid=49649) \n",
      "(TemporaryActor pid=49649) ray::Crawler.__init__() (pid=49649, ip=127.0.0.1, repr=<core.source.crawler.FunctionActorManager._create_fake_actor_class.<locals>.TemporaryActor object at 0x1160380a0>)\n",
      "(TemporaryActor pid=49649) ModuleNotFoundError: No module named 'core'\n"
     ]
    }
   ],
   "source": [
    "# model=CM(mode=MODE, query=QUERY)\n",
    "crawler = ray.remote(Crawler)\n",
    "test = crawler.remote(mode=MODE, query=QUERY)"
   ]
  },
  {
   "cell_type": "code",
   "execution_count": 5,
   "id": "05b4db80-6b1b-41ae-abf4-667e884a9451",
   "metadata": {},
   "outputs": [
    {
     "name": "stderr",
     "output_type": "stream",
     "text": [
      "2022-07-11 22:11:41,219\tINFO worker.py:973 -- Calling ray.init() again after it has already been called.\n"
     ]
    },
    {
     "ename": "RayActorError",
     "evalue": "The actor died because of an error raised in its creation task, \u001b[36mray::Crawler.__init__()\u001b[39m (pid=49649, ip=127.0.0.1, repr=<core.source.crawler.FunctionActorManager._create_fake_actor_class.<locals>.TemporaryActor object at 0x1160380a0>)\nRuntimeError: The actor with name Crawler failed to import on the worker. This may be because needed library dependencies are not installed in the worker environment:\n\n\u001b[36mray::Crawler.__init__()\u001b[39m (pid=49649, ip=127.0.0.1, repr=<core.source.crawler.FunctionActorManager._create_fake_actor_class.<locals>.TemporaryActor object at 0x1160380a0>)\nModuleNotFoundError: No module named 'core'",
     "output_type": "error",
     "traceback": [
      "\u001b[0;31m---------------------------------------------------------------------------\u001b[0m",
      "\u001b[0;31mRayActorError\u001b[0m                             Traceback (most recent call last)",
      "Input \u001b[0;32mIn [5]\u001b[0m, in \u001b[0;36m<cell line: 7>\u001b[0;34m()\u001b[0m\n\u001b[1;32m      3\u001b[0m ray\u001b[38;5;241m.\u001b[39minit(num_cpus\u001b[38;5;241m=\u001b[39mos\u001b[38;5;241m.\u001b[39mcpu_count(), ignore_reinit_error\u001b[38;5;241m=\u001b[39m\u001b[38;5;28;01mTrue\u001b[39;00m, runtime_env\u001b[38;5;241m=\u001b[39mRUNTIME_ENV)\n\u001b[1;32m      5\u001b[0m tasks \u001b[38;5;241m=\u001b[39m [test\u001b[38;5;241m.\u001b[39mrun\u001b[38;5;241m.\u001b[39mremote()]\n\u001b[0;32m----> 7\u001b[0m data \u001b[38;5;241m=\u001b[39m \u001b[43mray\u001b[49m\u001b[38;5;241;43m.\u001b[39;49m\u001b[43mget\u001b[49m\u001b[43m(\u001b[49m\u001b[43mtasks\u001b[49m\u001b[43m)\u001b[49m\n",
      "File \u001b[0;32m~/Library/Caches/pypoetry/virtualenvs/twitter-trends-crawling-8JX5Pgav-py3.9/lib/python3.9/site-packages/ray/_private/client_mode_hook.py:105\u001b[0m, in \u001b[0;36mclient_mode_hook.<locals>.wrapper\u001b[0;34m(*args, **kwargs)\u001b[0m\n\u001b[1;32m    103\u001b[0m     \u001b[38;5;28;01mif\u001b[39;00m func\u001b[38;5;241m.\u001b[39m\u001b[38;5;18m__name__\u001b[39m \u001b[38;5;241m!=\u001b[39m \u001b[38;5;124m\"\u001b[39m\u001b[38;5;124minit\u001b[39m\u001b[38;5;124m\"\u001b[39m \u001b[38;5;129;01mor\u001b[39;00m is_client_mode_enabled_by_default:\n\u001b[1;32m    104\u001b[0m         \u001b[38;5;28;01mreturn\u001b[39;00m \u001b[38;5;28mgetattr\u001b[39m(ray, func\u001b[38;5;241m.\u001b[39m\u001b[38;5;18m__name__\u001b[39m)(\u001b[38;5;241m*\u001b[39margs, \u001b[38;5;241m*\u001b[39m\u001b[38;5;241m*\u001b[39mkwargs)\n\u001b[0;32m--> 105\u001b[0m \u001b[38;5;28;01mreturn\u001b[39;00m \u001b[43mfunc\u001b[49m\u001b[43m(\u001b[49m\u001b[38;5;241;43m*\u001b[39;49m\u001b[43margs\u001b[49m\u001b[43m,\u001b[49m\u001b[43m \u001b[49m\u001b[38;5;241;43m*\u001b[39;49m\u001b[38;5;241;43m*\u001b[39;49m\u001b[43mkwargs\u001b[49m\u001b[43m)\u001b[49m\n",
      "File \u001b[0;32m~/Library/Caches/pypoetry/virtualenvs/twitter-trends-crawling-8JX5Pgav-py3.9/lib/python3.9/site-packages/ray/worker.py:1833\u001b[0m, in \u001b[0;36mget\u001b[0;34m(object_refs, timeout)\u001b[0m\n\u001b[1;32m   1831\u001b[0m             \u001b[38;5;28;01mraise\u001b[39;00m value\u001b[38;5;241m.\u001b[39mas_instanceof_cause()\n\u001b[1;32m   1832\u001b[0m         \u001b[38;5;28;01melse\u001b[39;00m:\n\u001b[0;32m-> 1833\u001b[0m             \u001b[38;5;28;01mraise\u001b[39;00m value\n\u001b[1;32m   1835\u001b[0m \u001b[38;5;28;01mif\u001b[39;00m is_individual_id:\n\u001b[1;32m   1836\u001b[0m     values \u001b[38;5;241m=\u001b[39m values[\u001b[38;5;241m0\u001b[39m]\n",
      "\u001b[0;31mRayActorError\u001b[0m: The actor died because of an error raised in its creation task, \u001b[36mray::Crawler.__init__()\u001b[39m (pid=49649, ip=127.0.0.1, repr=<core.source.crawler.FunctionActorManager._create_fake_actor_class.<locals>.TemporaryActor object at 0x1160380a0>)\nRuntimeError: The actor with name Crawler failed to import on the worker. This may be because needed library dependencies are not installed in the worker environment:\n\n\u001b[36mray::Crawler.__init__()\u001b[39m (pid=49649, ip=127.0.0.1, repr=<core.source.crawler.FunctionActorManager._create_fake_actor_class.<locals>.TemporaryActor object at 0x1160380a0>)\nModuleNotFoundError: No module named 'core'"
     ]
    }
   ],
   "source": [
    "RUNTIME_ENV = {\"py_modules\": [CM], \"working_dir\": \"../\"}\n",
    "\n",
    "ray.init(num_cpus=os.cpu_count(), ignore_reinit_error=True, runtime_env=RUNTIME_ENV)\n",
    "\n",
    "tasks = [test.run.remote()]\n",
    "\n",
    "data = ray.get(tasks)"
   ]
  },
  {
   "cell_type": "code",
   "execution_count": 10,
   "id": "4b5d4efa-2511-4920-8f00-4345998fb705",
   "metadata": {},
   "outputs": [
    {
     "ename": "NameError",
     "evalue": "name 'CrawlerModel' is not defined",
     "output_type": "error",
     "traceback": [
      "\u001b[0;31m---------------------------------------------------------------------------\u001b[0m",
      "\u001b[0;31mNameError\u001b[0m                                 Traceback (most recent call last)",
      "Input \u001b[0;32mIn [10]\u001b[0m, in \u001b[0;36m<cell line: 5>\u001b[0;34m()\u001b[0m\n\u001b[1;32m      1\u001b[0m \u001b[38;5;66;03m# c = ray.remote(CrawlerModel)\u001b[39;00m\n\u001b[1;32m      2\u001b[0m \n\u001b[1;32m      3\u001b[0m \u001b[38;5;66;03m# test = c.remote(mode=CrawlerModel.Mode.SEARCH, query=QUERY)\u001b[39;00m\n\u001b[0;32m----> 5\u001b[0m model \u001b[38;5;241m=\u001b[39m \u001b[43mCrawlerModel\u001b[49m(mode\u001b[38;5;241m=\u001b[39mMODE, query\u001b[38;5;241m=\u001b[39mQUERY)\n\u001b[1;32m      6\u001b[0m test \u001b[38;5;241m=\u001b[39m ray\u001b[38;5;241m.\u001b[39mremote(Crawler)\n\u001b[1;32m      7\u001b[0m test \u001b[38;5;241m=\u001b[39m test\u001b[38;5;241m.\u001b[39mremote(mode\u001b[38;5;241m=\u001b[39mCrawlerModel\u001b[38;5;241m.\u001b[39mMode\u001b[38;5;241m.\u001b[39mSEARCH, query\u001b[38;5;241m=\u001b[39mQUERY)\n",
      "\u001b[0;31mNameError\u001b[0m: name 'CrawlerModel' is not defined"
     ]
    }
   ],
   "source": [
    "# c = ray.remote(CrawlerModel)\n",
    "\n",
    "# test = c.remote(mode=CrawlerModel.Mode.SEARCH, query=QUERY)\n",
    "\n",
    "model = CrawlerModel(mode=MODE, query=QUERY)\n",
    "test = ray.remote(Crawler)\n",
    "test = test.remote(mode=CrawlerModel.Mode.SEARCH, query=QUERY)\n",
    "\n",
    "test"
   ]
  },
  {
   "cell_type": "code",
   "execution_count": 67,
   "id": "d2871925-a502-47d9-a78e-34122f29f661",
   "metadata": {},
   "outputs": [],
   "source": [
    "from ray.util.iter import from_iterators, from_actors, _ActorSet\n",
    "\n",
    "a = _ActorSet([test, test], [])"
   ]
  },
  {
   "cell_type": "code",
   "execution_count": 68,
   "id": "4c34d107-e990-4993-8c4c-e8d114fc25b4",
   "metadata": {},
   "outputs": [
    {
     "data": {
      "text/plain": [
       "[Actor(CrawlerModel, ea51bd9696d8b98733b0a69701000000),\n",
       " Actor(CrawlerModel, ea51bd9696d8b98733b0a69701000000)]"
      ]
     },
     "execution_count": 68,
     "metadata": {},
     "output_type": "execute_result"
    }
   ],
   "source": [
    "a.actors"
   ]
  },
  {
   "cell_type": "code",
   "execution_count": 58,
   "id": "a50ec658-6fa7-4ec2-997d-85d24e51892a",
   "metadata": {},
   "outputs": [
    {
     "data": {
      "text/plain": [
       "LocalIterator[ParallelIterator[from_actors[shards=2]].batch_across_shards()]"
      ]
     },
     "execution_count": 58,
     "metadata": {},
     "output_type": "execute_result"
    }
   ],
   "source": [
    "it = from_actors([test, test])\n",
    "it = it.batch_across_shards()\n",
    "\n",
    "it"
   ]
  },
  {
   "cell_type": "code",
   "execution_count": 53,
   "id": "2c6fc48d-9754-4de0-aeeb-8467a6a28bb8",
   "metadata": {},
   "outputs": [
    {
     "data": {
      "text/plain": [
       "LocalIterator[ParallelIterator[from_actors[shards=2]].batch_across_shards()]"
      ]
     },
     "execution_count": 53,
     "metadata": {},
     "output_type": "execute_result"
    }
   ],
   "source": []
  },
  {
   "cell_type": "code",
   "execution_count": 54,
   "id": "a59e350b-9b80-4e16-9d4e-11d9d9bb6216",
   "metadata": {},
   "outputs": [
    {
     "ename": "AttributeError",
     "evalue": "'ActorHandle' object has no attribute 'par_iter_init'",
     "output_type": "error",
     "traceback": [
      "\u001b[0;31m---------------------------------------------------------------------------\u001b[0m",
      "\u001b[0;31mAttributeError\u001b[0m                            Traceback (most recent call last)",
      "Input \u001b[0;32mIn [54]\u001b[0m, in \u001b[0;36m<cell line: 1>\u001b[0;34m()\u001b[0m\n\u001b[0;32m----> 1\u001b[0m \u001b[38;5;28;43mnext\u001b[39;49m\u001b[43m(\u001b[49m\u001b[43mt\u001b[49m\u001b[43m)\u001b[49m\n",
      "File \u001b[0;32m~/Library/Caches/pypoetry/virtualenvs/twitter-trends-crawling-8JX5Pgav-py3.9/lib/python3.9/site-packages/ray/util/iter.py:779\u001b[0m, in \u001b[0;36mLocalIterator.__next__\u001b[0;34m(self)\u001b[0m\n\u001b[1;32m    777\u001b[0m \u001b[38;5;28;01mdef\u001b[39;00m \u001b[38;5;21m__next__\u001b[39m(\u001b[38;5;28mself\u001b[39m):\n\u001b[1;32m    778\u001b[0m     \u001b[38;5;28mself\u001b[39m\u001b[38;5;241m.\u001b[39m_build_once()\n\u001b[0;32m--> 779\u001b[0m     \u001b[38;5;28;01mreturn\u001b[39;00m \u001b[38;5;28;43mnext\u001b[39;49m\u001b[43m(\u001b[49m\u001b[38;5;28;43mself\u001b[39;49m\u001b[38;5;241;43m.\u001b[39;49m\u001b[43mbuilt_iterator\u001b[49m\u001b[43m)\u001b[49m\n",
      "File \u001b[0;32m~/Library/Caches/pypoetry/virtualenvs/twitter-trends-crawling-8JX5Pgav-py3.9/lib/python3.9/site-packages/ray/util/iter.py:487\u001b[0m, in \u001b[0;36mParallelIterator.batch_across_shards.<locals>.base_iterator\u001b[0;34m(timeout)\u001b[0m\n\u001b[1;32m    485\u001b[0m active \u001b[38;5;241m=\u001b[39m []\n\u001b[1;32m    486\u001b[0m \u001b[38;5;28;01mfor\u001b[39;00m actor_set \u001b[38;5;129;01min\u001b[39;00m \u001b[38;5;28mself\u001b[39m\u001b[38;5;241m.\u001b[39mactor_sets:\n\u001b[0;32m--> 487\u001b[0m     \u001b[43mactor_set\u001b[49m\u001b[38;5;241;43m.\u001b[39;49m\u001b[43minit_actors\u001b[49m\u001b[43m(\u001b[49m\u001b[43m)\u001b[49m\n\u001b[1;32m    488\u001b[0m     active\u001b[38;5;241m.\u001b[39mextend(actor_set\u001b[38;5;241m.\u001b[39mactors)\n\u001b[1;32m    489\u001b[0m futures \u001b[38;5;241m=\u001b[39m [a\u001b[38;5;241m.\u001b[39mpar_iter_next\u001b[38;5;241m.\u001b[39mremote() \u001b[38;5;28;01mfor\u001b[39;00m a \u001b[38;5;129;01min\u001b[39;00m active]\n",
      "File \u001b[0;32m~/Library/Caches/pypoetry/virtualenvs/twitter-trends-crawling-8JX5Pgav-py3.9/lib/python3.9/site-packages/ray/util/iter.py:1275\u001b[0m, in \u001b[0;36m_ActorSet.init_actors\u001b[0;34m(self)\u001b[0m\n\u001b[1;32m   1274\u001b[0m \u001b[38;5;28;01mdef\u001b[39;00m \u001b[38;5;21minit_actors\u001b[39m(\u001b[38;5;28mself\u001b[39m):\n\u001b[0;32m-> 1275\u001b[0m     ray\u001b[38;5;241m.\u001b[39mget([a\u001b[38;5;241m.\u001b[39mpar_iter_init\u001b[38;5;241m.\u001b[39mremote(\u001b[38;5;28mself\u001b[39m\u001b[38;5;241m.\u001b[39mtransforms) \u001b[38;5;28;01mfor\u001b[39;00m a \u001b[38;5;129;01min\u001b[39;00m \u001b[38;5;28mself\u001b[39m\u001b[38;5;241m.\u001b[39mactors])\n",
      "File \u001b[0;32m~/Library/Caches/pypoetry/virtualenvs/twitter-trends-crawling-8JX5Pgav-py3.9/lib/python3.9/site-packages/ray/util/iter.py:1275\u001b[0m, in \u001b[0;36m<listcomp>\u001b[0;34m(.0)\u001b[0m\n\u001b[1;32m   1274\u001b[0m \u001b[38;5;28;01mdef\u001b[39;00m \u001b[38;5;21minit_actors\u001b[39m(\u001b[38;5;28mself\u001b[39m):\n\u001b[0;32m-> 1275\u001b[0m     ray\u001b[38;5;241m.\u001b[39mget([\u001b[43ma\u001b[49m\u001b[38;5;241;43m.\u001b[39;49m\u001b[43mpar_iter_init\u001b[49m\u001b[38;5;241m.\u001b[39mremote(\u001b[38;5;28mself\u001b[39m\u001b[38;5;241m.\u001b[39mtransforms) \u001b[38;5;28;01mfor\u001b[39;00m a \u001b[38;5;129;01min\u001b[39;00m \u001b[38;5;28mself\u001b[39m\u001b[38;5;241m.\u001b[39mactors])\n",
      "File \u001b[0;32m~/Library/Caches/pypoetry/virtualenvs/twitter-trends-crawling-8JX5Pgav-py3.9/lib/python3.9/site-packages/ray/actor.py:1188\u001b[0m, in \u001b[0;36mActorHandle.__getattr__\u001b[0;34m(self, item)\u001b[0m\n\u001b[1;32m   1186\u001b[0m \u001b[38;5;28;01mdef\u001b[39;00m \u001b[38;5;21m__getattr__\u001b[39m(\u001b[38;5;28mself\u001b[39m, item):\n\u001b[1;32m   1187\u001b[0m     \u001b[38;5;28;01mif\u001b[39;00m \u001b[38;5;129;01mnot\u001b[39;00m \u001b[38;5;28mself\u001b[39m\u001b[38;5;241m.\u001b[39m_ray_is_cross_language:\n\u001b[0;32m-> 1188\u001b[0m         \u001b[38;5;28;01mraise\u001b[39;00m \u001b[38;5;167;01mAttributeError\u001b[39;00m(\n\u001b[1;32m   1189\u001b[0m             \u001b[38;5;124mf\u001b[39m\u001b[38;5;124m\"\u001b[39m\u001b[38;5;124m'\u001b[39m\u001b[38;5;132;01m{\u001b[39;00m\u001b[38;5;28mtype\u001b[39m(\u001b[38;5;28mself\u001b[39m)\u001b[38;5;241m.\u001b[39m\u001b[38;5;18m__name__\u001b[39m\u001b[38;5;132;01m}\u001b[39;00m\u001b[38;5;124m'\u001b[39m\u001b[38;5;124m object has \u001b[39m\u001b[38;5;124m\"\u001b[39m \u001b[38;5;124mf\u001b[39m\u001b[38;5;124m\"\u001b[39m\u001b[38;5;124mno attribute \u001b[39m\u001b[38;5;124m'\u001b[39m\u001b[38;5;132;01m{\u001b[39;00mitem\u001b[38;5;132;01m}\u001b[39;00m\u001b[38;5;124m'\u001b[39m\u001b[38;5;124m\"\u001b[39m\n\u001b[1;32m   1190\u001b[0m         )\n\u001b[1;32m   1191\u001b[0m     \u001b[38;5;28;01mif\u001b[39;00m item \u001b[38;5;129;01min\u001b[39;00m [\u001b[38;5;124m\"\u001b[39m\u001b[38;5;124m__ray_terminate__\u001b[39m\u001b[38;5;124m\"\u001b[39m, \u001b[38;5;124m\"\u001b[39m\u001b[38;5;124m__ray_checkpoint__\u001b[39m\u001b[38;5;124m\"\u001b[39m]:\n\u001b[1;32m   1193\u001b[0m         \u001b[38;5;28;01mclass\u001b[39;00m \u001b[38;5;21;01mFakeActorMethod\u001b[39;00m(\u001b[38;5;28mobject\u001b[39m):\n",
      "\u001b[0;31mAttributeError\u001b[0m: 'ActorHandle' object has no attribute 'par_iter_init'"
     ]
    }
   ],
   "source": [
    "next(t)"
   ]
  },
  {
   "cell_type": "code",
   "execution_count": 60,
   "id": "5069af73-fd0d-42a2-9b4f-1c3a1e4ec6bb",
   "metadata": {},
   "outputs": [
    {
     "data": {
      "text/plain": [
       "ray.actor.ActorHandle"
      ]
     },
     "execution_count": 60,
     "metadata": {},
     "output_type": "execute_result"
    }
   ],
   "source": [
    "type(test)"
   ]
  },
  {
   "cell_type": "code",
   "execution_count": null,
   "id": "b7709155-fefd-47c3-9479-6d4f2b990403",
   "metadata": {},
   "outputs": [],
   "source": [
    "fro"
   ]
  }
 ],
 "metadata": {
  "kernelspec": {
   "display_name": "Python 3 (ipykernel)",
   "language": "python",
   "name": "python3"
  },
  "language_info": {
   "codemirror_mode": {
    "name": "ipython",
    "version": 3
   },
   "file_extension": ".py",
   "mimetype": "text/x-python",
   "name": "python",
   "nbconvert_exporter": "python",
   "pygments_lexer": "ipython3",
   "version": "3.9.6"
  }
 },
 "nbformat": 4,
 "nbformat_minor": 5
}
