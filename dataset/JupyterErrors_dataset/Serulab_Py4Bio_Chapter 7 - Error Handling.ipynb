{
  "nbformat": 4,
  "nbformat_minor": 0,
  "metadata": {
    "kernelspec": {
      "display_name": "Python 3.6",
      "language": "python",
      "name": "python36"
    },
    "language_info": {
      "codemirror_mode": {
        "name": "ipython",
        "version": 3
      },
      "file_extension": ".py",
      "mimetype": "text/x-python",
      "name": "python",
      "nbconvert_exporter": "python",
      "pygments_lexer": "ipython3",
      "version": "3.6.0"
    },
    "colab": {
      "name": "Chapter 7 - Error Handling.ipynb",
      "provenance": [],
      "collapsed_sections": []
    }
  },
  "cells": [
    {
      "cell_type": "markdown",
      "metadata": {
        "id": "f5EJunlwoRgA",
        "colab_type": "text"
      },
      "source": [
        "Python for Bioinformatics\n",
        "-----------------------------\n",
        "\n",
        "![title](https://s3.amazonaws.com/py4bio/tapabiosmall.png)\n",
        "\n",
        "This Jupyter notebook is intented to be used alongside the book [Python for Bioinformatics](http://py3.us/)\n",
        "\n"
      ]
    },
    {
      "cell_type": "markdown",
      "metadata": {
        "id": "zI8M591SoRgB",
        "colab_type": "text"
      },
      "source": [
        "Chapter 7: Error Handling\n",
        "-----------------------------"
      ]
    },
    {
      "cell_type": "code",
      "metadata": {
        "id": "AC_xMPGfoRgC",
        "colab_type": "code",
        "colab": {},
        "outputId": "d2dba83d-e9ba-4ada-ea89-093d9d0b87bd"
      },
      "source": [
        "!curl https://raw.githubusercontent.com/Serulab/Py4Bio/master/samples/samples.tar.bz2 -o samples.tar.bz2\n",
        "!mkdir samples\n",
        "!tar xvfj samples.tar.bz2 -C samples"
      ],
      "execution_count": null,
      "outputs": [
        {
          "output_type": "stream",
          "text": [
            "  % Total    % Received % Xferd  Average Speed   Time    Time     Time  Current\n",
            "                                 Dload  Upload   Total   Spent    Left  Speed\n",
            "100 16.5M  100 16.5M    0     0  14.3M      0  0:00:01  0:00:01 --:--:-- 14.3M\n",
            "mkdir: cannot create directory 'samples': File exists\n",
            "BLAST_output.xml\n",
            "TAIR7_Transcripts_by_map_position.gz\n",
            "pMOSBlue.txt\n",
            "fishbacteria.csv\n",
            "UniVec_Core.nsq\n",
            "t3beta.fasta\n",
            "PythonU.db\n",
            "input4align.dnd\n",
            "pdb1apk.ent.gz\n",
            "readme.txt\n",
            "contig1.ace\n",
            "example.aln\n",
            "hsc1.fasta\n",
            "bioinfo/seqs/15721870.fasta\n",
            "primers.txt\n",
            "bioinfo/seqs/4586830.fasta\n",
            "bioinfo/seqs/7638455.fasta\n",
            "GSM188012.CEL\n",
            "3seqs.fas\n",
            "sampleX.fas\n",
            "sampleXblast.xml\n",
            "B1.csv\n",
            "phd1\n",
            "conglycinin.phy\n",
            "bioinfo/seqs/218744616.fasta\n",
            "spfile.txt\n",
            "bioinfo/seqs/513419.fasta\n",
            "bioinfo/seqs/513710.fasta\n",
            "prot.fas\n",
            "cas9align.fasta\n",
            "seqA.fas\n",
            "bioinfo/seqs/\n",
            "bioinfo/\n",
            "pdbaa\n",
            "other.xml\n",
            "vectorssmall.fasta\n",
            "t3.fasta\n",
            "a19.gp\n",
            "data.csv\n",
            "input4align.fasta\n",
            "B1IXL9.txt\n",
            "fasta22.fas\n",
            "bioinfo/seqs/7415878.fasta\n",
            "bioinfo/seqs/513718.fasta\n",
            "bioinfo/seqs/513719.fasta\n",
            "bioinfo/seqs/6598312.fasta\n",
            "UniVec_Core.nin\n",
            "Q5R5X8.fas\n",
            "bioinfo/seqs/513717.fasta\n",
            "BcrA.gp\n",
            "bioinfo/seqs/2623545.fasta\n",
            "bioinfo/seqs/63108399.fasta\n",
            "conglycinin.dnd\n",
            "NC2033.txt\n",
            "fishdata.csv\n",
            "uniprotrecord.xml\n",
            "BLAST_output.html\n",
            "Q9JJE1.xml\n",
            "test3.csv\n",
            "UniVec_Core.nhr\n",
            "sampledata.xlsx\n",
            "UniVec_Core\n",
            "NC_006581.gb\n",
            "conglycinin.multiple.phy\n",
            "conglycinin.fasta\n"
          ],
          "name": "stdout"
        }
      ]
    },
    {
      "cell_type": "markdown",
      "metadata": {
        "id": "_HtQRznMoRgG",
        "colab_type": "text"
      },
      "source": [
        "**Listing 7.1:** wotest.py: Program with no error checking"
      ]
    },
    {
      "cell_type": "code",
      "metadata": {
        "scrolled": true,
        "id": "cb4MRqRdoRgG",
        "colab_type": "code",
        "colab": {},
        "outputId": "5ec9950b-74b2-4396-e476-c4df9cd1552a"
      },
      "source": [
        "with open('myfile.csv') as fh:\n",
        "    line = fh.readline()\n",
        "value = line.split('\\t')[0]\n",
        "with open('other.txt',\"w\") as fw:\n",
        "    fw.write(str(int(value)*.2))"
      ],
      "execution_count": null,
      "outputs": [
        {
          "output_type": "error",
          "ename": "FileNotFoundError",
          "evalue": "[Errno 2] No such file or directory: 'myfile.csv'",
          "traceback": [
            "\u001b[0;31m---------------------------------------------------------------------------\u001b[0m",
            "\u001b[0;31mFileNotFoundError\u001b[0m                         Traceback (most recent call last)",
            "\u001b[0;32m<ipython-input-2-a64eb4cb1322>\u001b[0m in \u001b[0;36m<module>\u001b[0;34m()\u001b[0m\n\u001b[0;32m----> 1\u001b[0;31m \u001b[0;32mwith\u001b[0m \u001b[0mopen\u001b[0m\u001b[0;34m(\u001b[0m\u001b[0;34m'myfile.csv'\u001b[0m\u001b[0;34m)\u001b[0m \u001b[0;32mas\u001b[0m \u001b[0mfh\u001b[0m\u001b[0;34m:\u001b[0m\u001b[0;34m\u001b[0m\u001b[0m\n\u001b[0m\u001b[1;32m      2\u001b[0m     \u001b[0mline\u001b[0m \u001b[0;34m=\u001b[0m \u001b[0mfh\u001b[0m\u001b[0;34m.\u001b[0m\u001b[0mreadline\u001b[0m\u001b[0;34m(\u001b[0m\u001b[0;34m)\u001b[0m\u001b[0;34m\u001b[0m\u001b[0m\n\u001b[1;32m      3\u001b[0m \u001b[0mvalue\u001b[0m \u001b[0;34m=\u001b[0m \u001b[0mline\u001b[0m\u001b[0;34m.\u001b[0m\u001b[0msplit\u001b[0m\u001b[0;34m(\u001b[0m\u001b[0;34m'\\t'\u001b[0m\u001b[0;34m)\u001b[0m\u001b[0;34m[\u001b[0m\u001b[0;36m0\u001b[0m\u001b[0;34m]\u001b[0m\u001b[0;34m\u001b[0m\u001b[0m\n\u001b[1;32m      4\u001b[0m \u001b[0;32mwith\u001b[0m \u001b[0mopen\u001b[0m\u001b[0;34m(\u001b[0m\u001b[0;34m'other.txt'\u001b[0m\u001b[0;34m,\u001b[0m\u001b[0;34m\"w\"\u001b[0m\u001b[0;34m)\u001b[0m \u001b[0;32mas\u001b[0m \u001b[0mfw\u001b[0m\u001b[0;34m:\u001b[0m\u001b[0;34m\u001b[0m\u001b[0m\n\u001b[1;32m      5\u001b[0m     \u001b[0mfw\u001b[0m\u001b[0;34m.\u001b[0m\u001b[0mwrite\u001b[0m\u001b[0;34m(\u001b[0m\u001b[0mstr\u001b[0m\u001b[0;34m(\u001b[0m\u001b[0mint\u001b[0m\u001b[0;34m(\u001b[0m\u001b[0mvalue\u001b[0m\u001b[0;34m)\u001b[0m\u001b[0;34m*\u001b[0m\u001b[0;36m.2\u001b[0m\u001b[0;34m)\u001b[0m\u001b[0;34m)\u001b[0m\u001b[0;34m\u001b[0m\u001b[0m\n",
            "\u001b[0;31mFileNotFoundError\u001b[0m: [Errno 2] No such file or directory: 'myfile.csv'"
          ]
        }
      ]
    },
    {
      "cell_type": "markdown",
      "metadata": {
        "id": "P5bP3-rMoRgJ",
        "colab_type": "text"
      },
      "source": [
        "**Listing 7.2:** LBYL.py: Error handling LBYL version"
      ]
    },
    {
      "cell_type": "code",
      "metadata": {
        "scrolled": true,
        "id": "ONXjG_cToRgJ",
        "colab_type": "code",
        "colab": {},
        "outputId": "6e470f50-73af-4321-eeb7-2438c95ba6e4"
      },
      "source": [
        "import os\n",
        "iname = input(\"Enter input filename: \")\n",
        "oname = input(\"Enter output filename: \")\n",
        "if os.path.exists(iname):\n",
        "    with open(iname) as fh:\n",
        "        line = fh.readline()\n",
        "    if \"\\t\" in line:\n",
        "        value = line.split('\\t')[0]\n",
        "        if os.access(oname, os.W_OK) == 0:\n",
        "            with open(oname, 'w') as fw:\n",
        "                if value.isdigit():\n",
        "                    fw.write(str(int(value)*.2))\n",
        "                else:\n",
        "                    print(\"Can’t be converted to int\")\n",
        "        else:\n",
        "            print(\"Output file is not writable\")\n",
        "    else:\n",
        "        print(\"There is no TAB. Check the input file\")\n",
        "else:\n",
        "    print(\"The file doesn’t exist\")    "
      ],
      "execution_count": null,
      "outputs": [
        {
          "output_type": "stream",
          "text": [
            "Enter input filename: hola\n",
            "Enter output filename: hello\n",
            "The file doesn’t exist\n"
          ],
          "name": "stdout"
        }
      ]
    },
    {
      "cell_type": "markdown",
      "metadata": {
        "id": "F9pdWTmwoRgM",
        "colab_type": "text"
      },
      "source": [
        "**Listing 7.3:** exception.py: Similar to 7.2 but with exception handling."
      ]
    },
    {
      "cell_type": "code",
      "metadata": {
        "id": "FdwK37ZkoRgN",
        "colab_type": "code",
        "colab": {},
        "outputId": "68a14fe0-4f6c-46fc-93ef-e735dd2e7a81"
      },
      "source": [
        "try:\n",
        "    iname = input(\"Enter input filename: \")\n",
        "    oname = input(\"Enter output filename: \")\n",
        "    with open(iname) as fh:\n",
        "        line = fh.readline()\n",
        "    if '\\t' in line:\n",
        "        value = line.split('\\t')[0]\n",
        "    with open(oname, 'w') as fw:\n",
        "        fw.write(str(int(value)*.2))\n",
        "except NameError:\n",
        "    print(\"There is no TAB. Check the input file\")\n",
        "except FileNotFoundError:\n",
        "    print(\"File not exist\")\n",
        "except PermissionError:\n",
        "    print(\"Can’t write to outfile.\")\n",
        "except ValueError:\n",
        "    print(\"The value can’t be converted to int\")\n",
        "else:\n",
        "    print(\"Thank you!. Everything went OK.\")        "
      ],
      "execution_count": null,
      "outputs": [
        {
          "output_type": "stream",
          "text": [
            "Enter input filename: hola\n",
            "Enter output filename: hello\n",
            "File not exist\n"
          ],
          "name": "stdout"
        }
      ]
    },
    {
      "cell_type": "markdown",
      "metadata": {
        "id": "8C_39WnUoRgP",
        "colab_type": "text"
      },
      "source": [
        "**Listing 7.4:** nested.py: Code with nested exceptions"
      ]
    },
    {
      "cell_type": "code",
      "metadata": {
        "id": "ymSKcouSoRgQ",
        "colab_type": "code",
        "colab": {},
        "outputId": "fc585730-561b-484a-8fca-fb81a199fc3e"
      },
      "source": [
        "iname = input(\"Enter input filename: \")\n",
        "oname = input(\"Enter output filename: \")\n",
        "try:\n",
        "    with open(iname) as fh:\n",
        "        line = fh.readline()\n",
        "except FileNotFoundError:\n",
        "    print(\"File not exist\")\n",
        "if '\\t' in line:\n",
        "    value = line.split('\\t')[0]\n",
        "try:\n",
        "    with open(oname, 'w') as fw:\n",
        "        fw.write(str(int(value)*.2))\n",
        "except NameError:\n",
        "    print(\"There is no TAB. Check the input file\")\n",
        "except PermissionError:\n",
        "    print(\"Can’t write to outfile.\")\n",
        "except ValueError:\n",
        "    print(\"The value can’t be converted to int\")\n",
        "else:\n",
        "    print(\"Thank you!. Everything went OK.\")    "
      ],
      "execution_count": null,
      "outputs": [
        {
          "output_type": "stream",
          "text": [
            "Enter input filename: hola\n",
            "Enter output filename: hello\n",
            "File not exist\n"
          ],
          "name": "stdout"
        },
        {
          "output_type": "error",
          "ename": "NameError",
          "evalue": "name 'line' is not defined",
          "traceback": [
            "\u001b[0;31m---------------------------------------------------------------------------\u001b[0m",
            "\u001b[0;31mNameError\u001b[0m                                 Traceback (most recent call last)",
            "\u001b[0;32m<ipython-input-4-053b34386a3d>\u001b[0m in \u001b[0;36m<module>\u001b[0;34m()\u001b[0m\n\u001b[1;32m      6\u001b[0m \u001b[0;32mexcept\u001b[0m \u001b[0mFileNotFoundError\u001b[0m\u001b[0;34m:\u001b[0m\u001b[0;34m\u001b[0m\u001b[0m\n\u001b[1;32m      7\u001b[0m     \u001b[0mprint\u001b[0m\u001b[0;34m(\u001b[0m\u001b[0;34m\"File not exist\"\u001b[0m\u001b[0;34m)\u001b[0m\u001b[0;34m\u001b[0m\u001b[0m\n\u001b[0;32m----> 8\u001b[0;31m \u001b[0;32mif\u001b[0m \u001b[0;34m'\\t'\u001b[0m \u001b[0;32min\u001b[0m \u001b[0mline\u001b[0m\u001b[0;34m:\u001b[0m\u001b[0;34m\u001b[0m\u001b[0m\n\u001b[0m\u001b[1;32m      9\u001b[0m     \u001b[0mvalue\u001b[0m \u001b[0;34m=\u001b[0m \u001b[0mline\u001b[0m\u001b[0;34m.\u001b[0m\u001b[0msplit\u001b[0m\u001b[0;34m(\u001b[0m\u001b[0;34m'\\t'\u001b[0m\u001b[0;34m)\u001b[0m\u001b[0;34m[\u001b[0m\u001b[0;36m0\u001b[0m\u001b[0;34m]\u001b[0m\u001b[0;34m\u001b[0m\u001b[0m\n\u001b[1;32m     10\u001b[0m \u001b[0;32mtry\u001b[0m\u001b[0;34m:\u001b[0m\u001b[0;34m\u001b[0m\u001b[0m\n",
            "\u001b[0;31mNameError\u001b[0m: name 'line' is not defined"
          ]
        }
      ]
    },
    {
      "cell_type": "code",
      "metadata": {
        "id": "qNt6SnzcoRgS",
        "colab_type": "code",
        "colab": {
          "base_uri": "https://localhost:8080/",
          "height": 52
        },
        "outputId": "b0c2d721-5a51-4e7d-bc1d-875faf781c81"
      },
      "source": [
        "d = {\"A\":\"Adenine\",\"C\":\"Cytosine\",\"T\":\"Timine\",\"G\":\"Guanine\"}\n",
        "try:\n",
        "    print(d[input(\"Enter letter: \")])\n",
        "except:\n",
        "    print(\"No such nucleotide\")"
      ],
      "execution_count": null,
      "outputs": [
        {
          "output_type": "stream",
          "text": [
            "Enter letter: L\n",
            "No such nucleotide\n"
          ],
          "name": "stdout"
        }
      ]
    },
    {
      "cell_type": "code",
      "metadata": {
        "id": "FABVpmkmoRgW",
        "colab_type": "code",
        "colab": {},
        "outputId": "2199f4b0-12b7-43ce-eaea-2e77bf6f8a32"
      },
      "source": [
        "d = {\"A\":\"Adenine\", \"C\":\"Cytosine\", \"T\":\"Timine\", \"G\":\"Guanine\"}\n",
        "try:\n",
        "    print(d[input(\"Enter letter: \")])\n",
        "except EOFError:\n",
        "    print(\"Good bye!\")\n",
        "except KeyError:\n",
        "    print(\"No such nucleotide\")"
      ],
      "execution_count": null,
      "outputs": [
        {
          "output_type": "stream",
          "text": [
            "Enter letter: A\n",
            "Adenine\n"
          ],
          "name": "stdout"
        }
      ]
    },
    {
      "cell_type": "markdown",
      "metadata": {
        "id": "TIwXsxTkoRgY",
        "colab_type": "text"
      },
      "source": [
        "**Listing 7.5:** sysexc.py: Using sys.exc_info()"
      ]
    },
    {
      "cell_type": "code",
      "metadata": {
        "id": "msYiWUyBoRgZ",
        "colab_type": "code",
        "colab": {},
        "outputId": "4e367b24-1581-4d0e-c99a-44f0d2b99991"
      },
      "source": [
        "import sys\n",
        "\n",
        "try:\n",
        "    0/0\n",
        "except:\n",
        "    a,b,c = sys.exc_info()\n",
        "    print('Error name: {0}'.format(a.__name__))\n",
        "    print('Message: {0}'.format(b))\n",
        "    print('Error in line: {}'.format(c.tb_lineno))"
      ],
      "execution_count": null,
      "outputs": [
        {
          "output_type": "stream",
          "text": [
            "Error name: ZeroDivisionError\n",
            "Message: division by zero\n",
            "Error in line: 4\n"
          ],
          "name": "stdout"
        }
      ]
    },
    {
      "cell_type": "markdown",
      "metadata": {
        "id": "ApYd_Rj9oRgb",
        "colab_type": "text"
      },
      "source": [
        "**Listing 7.6:** sysexc2.py: Another use of sys.exc_info()"
      ]
    },
    {
      "cell_type": "code",
      "metadata": {
        "id": "AMO541uzoRgb",
        "colab_type": "code",
        "colab": {},
        "outputId": "573c2ad1-16fb-4c4c-a202-219c77a6c86b"
      },
      "source": [
        "import sys\n",
        "\n",
        "try:\n",
        "    x = open('random_filename')\n",
        "except:\n",
        "    a, b = sys.exc_info()[:2]\n",
        "    print('Error name: {}'.format(a.__name__))\n",
        "    print('Error code: {}'.format(b.args[0]))\n",
        "    print('Error message: {}'.format(b.args[1]))"
      ],
      "execution_count": null,
      "outputs": [
        {
          "output_type": "stream",
          "text": [
            "Error name: FileNotFoundError\n",
            "Error code: 2\n",
            "Error message: No such file or directory\n"
          ],
          "name": "stdout"
        }
      ]
    },
    {
      "cell_type": "code",
      "metadata": {
        "id": "tyRSsgXGoRge",
        "colab_type": "code",
        "colab": {}
      },
      "source": [
        "def avg(numbers):\n",
        "    return sum(numbers)/len(numbers)"
      ],
      "execution_count": null,
      "outputs": []
    },
    {
      "cell_type": "code",
      "metadata": {
        "id": "IbDjQSeyoRgg",
        "colab_type": "code",
        "colab": {},
        "outputId": "5e075d72-945f-4e31-a406-e79e1b183058"
      },
      "source": [
        " avg([])"
      ],
      "execution_count": null,
      "outputs": [
        {
          "output_type": "error",
          "ename": "ZeroDivisionError",
          "evalue": "division by zero",
          "traceback": [
            "\u001b[0;31m---------------------------------------------------------------------------\u001b[0m",
            "\u001b[0;31mZeroDivisionError\u001b[0m                         Traceback (most recent call last)",
            "\u001b[0;32m<ipython-input-10-96c1bb829360>\u001b[0m in \u001b[0;36m<module>\u001b[0;34m()\u001b[0m\n\u001b[0;32m----> 1\u001b[0;31m \u001b[0mavg\u001b[0m\u001b[0;34m(\u001b[0m\u001b[0;34m[\u001b[0m\u001b[0;34m]\u001b[0m\u001b[0;34m)\u001b[0m\u001b[0;34m\u001b[0m\u001b[0m\n\u001b[0m",
            "\u001b[0;32m<ipython-input-9-3a13d6961f52>\u001b[0m in \u001b[0;36mavg\u001b[0;34m(numbers)\u001b[0m\n\u001b[1;32m      1\u001b[0m \u001b[0;32mdef\u001b[0m \u001b[0mavg\u001b[0m\u001b[0;34m(\u001b[0m\u001b[0mnumbers\u001b[0m\u001b[0;34m)\u001b[0m\u001b[0;34m:\u001b[0m\u001b[0;34m\u001b[0m\u001b[0m\n\u001b[0;32m----> 2\u001b[0;31m     \u001b[0;32mreturn\u001b[0m \u001b[0msum\u001b[0m\u001b[0;34m(\u001b[0m\u001b[0mnumbers\u001b[0m\u001b[0;34m)\u001b[0m\u001b[0;34m/\u001b[0m\u001b[0mlen\u001b[0m\u001b[0;34m(\u001b[0m\u001b[0mnumbers\u001b[0m\u001b[0;34m)\u001b[0m\u001b[0;34m\u001b[0m\u001b[0m\n\u001b[0m",
            "\u001b[0;31mZeroDivisionError\u001b[0m: division by zero"
          ]
        }
      ]
    },
    {
      "cell_type": "code",
      "metadata": {
        "id": "5zFOMXiSoRgi",
        "colab_type": "code",
        "colab": {}
      },
      "source": [
        "def avg(numbers):\n",
        "    if not numbers:\n",
        "        raise ValueError(\"Please enter at least one element\")\n",
        "    return sum(numbers)/len(numbers)"
      ],
      "execution_count": null,
      "outputs": []
    },
    {
      "cell_type": "code",
      "metadata": {
        "id": "QIogBZdToRgk",
        "colab_type": "code",
        "colab": {},
        "outputId": "1bbcb2fa-72eb-47ba-9b18-a8c8cdfd8236"
      },
      "source": [
        "avg([])"
      ],
      "execution_count": null,
      "outputs": [
        {
          "output_type": "error",
          "ename": "ValueError",
          "evalue": "Please enter at least one element",
          "traceback": [
            "\u001b[0;31m---------------------------------------------------------------------------\u001b[0m",
            "\u001b[0;31mValueError\u001b[0m                                Traceback (most recent call last)",
            "\u001b[0;32m<ipython-input-12-96c1bb829360>\u001b[0m in \u001b[0;36m<module>\u001b[0;34m()\u001b[0m\n\u001b[0;32m----> 1\u001b[0;31m \u001b[0mavg\u001b[0m\u001b[0;34m(\u001b[0m\u001b[0;34m[\u001b[0m\u001b[0;34m]\u001b[0m\u001b[0;34m)\u001b[0m\u001b[0;34m\u001b[0m\u001b[0m\n\u001b[0m",
            "\u001b[0;32m<ipython-input-11-ed4c8cf5cbc0>\u001b[0m in \u001b[0;36mavg\u001b[0;34m(numbers)\u001b[0m\n\u001b[1;32m      1\u001b[0m \u001b[0;32mdef\u001b[0m \u001b[0mavg\u001b[0m\u001b[0;34m(\u001b[0m\u001b[0mnumbers\u001b[0m\u001b[0;34m)\u001b[0m\u001b[0;34m:\u001b[0m\u001b[0;34m\u001b[0m\u001b[0m\n\u001b[1;32m      2\u001b[0m     \u001b[0;32mif\u001b[0m \u001b[0;32mnot\u001b[0m \u001b[0mnumbers\u001b[0m\u001b[0;34m:\u001b[0m\u001b[0;34m\u001b[0m\u001b[0m\n\u001b[0;32m----> 3\u001b[0;31m         \u001b[0;32mraise\u001b[0m \u001b[0mValueError\u001b[0m\u001b[0;34m(\u001b[0m\u001b[0;34m\"Please enter at least one element\"\u001b[0m\u001b[0;34m)\u001b[0m\u001b[0;34m\u001b[0m\u001b[0m\n\u001b[0m\u001b[1;32m      4\u001b[0m     \u001b[0;32mreturn\u001b[0m \u001b[0msum\u001b[0m\u001b[0;34m(\u001b[0m\u001b[0mnumbers\u001b[0m\u001b[0;34m)\u001b[0m\u001b[0;34m/\u001b[0m\u001b[0mlen\u001b[0m\u001b[0;34m(\u001b[0m\u001b[0mnumbers\u001b[0m\u001b[0;34m)\u001b[0m\u001b[0;34m\u001b[0m\u001b[0m\n",
            "\u001b[0;31mValueError\u001b[0m: Please enter at least one element"
          ]
        }
      ]
    }
  ]
}