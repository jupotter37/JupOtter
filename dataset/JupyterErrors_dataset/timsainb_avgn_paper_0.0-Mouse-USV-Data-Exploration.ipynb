{
 "cells": [
  {
   "cell_type": "code",
   "execution_count": 1,
   "metadata": {
    "ExecuteTime": {
     "end_time": "2019-06-10T21:13:22.740793Z",
     "start_time": "2019-06-10T21:13:22.719187Z"
    }
   },
   "outputs": [
    {
     "name": "stdout",
     "output_type": "stream",
     "text": [
      "env: CUDA_VISIBLE_DEVICES=[]\n"
     ]
    }
   ],
   "source": [
    "%load_ext autoreload\n",
    "%autoreload 2\n",
    "%env CUDA_VISIBLE_DEVICES=[]"
   ]
  },
  {
   "cell_type": "markdown",
   "metadata": {},
   "source": [
    "### Mouse USVs\n",
    "Source:\n",
    "- https://journals.plos.org/plosone/article?id=10.1371/journal.pone.0199929\n",
    "- https://datadryad.org/handle/10255/dryad.177144"
   ]
  },
  {
   "cell_type": "code",
   "execution_count": 2,
   "metadata": {
    "ExecuteTime": {
     "end_time": "2019-06-10T21:13:29.195184Z",
     "start_time": "2019-06-10T21:13:22.742519Z"
    }
   },
   "outputs": [],
   "source": [
    "from pathlib2 import Path\n",
    "import numpy as np \n",
    "import pandas as pd\n",
    "import matplotlib.pyplot as plt\n",
    "import tensorflow as tf\n",
    "import re\n",
    "import IPython"
   ]
  },
  {
   "cell_type": "code",
   "execution_count": 3,
   "metadata": {
    "ExecuteTime": {
     "end_time": "2019-06-10T21:13:30.604322Z",
     "start_time": "2019-06-10T21:13:29.197729Z"
    }
   },
   "outputs": [],
   "source": [
    "from avgn_paper.signalprocessing import spectrogramming as sg"
   ]
  },
  {
   "cell_type": "code",
   "execution_count": 4,
   "metadata": {
    "ExecuteTime": {
     "end_time": "2019-06-10T21:13:30.693289Z",
     "start_time": "2019-06-10T21:13:30.608418Z"
    }
   },
   "outputs": [],
   "source": [
    "import pdb\n",
    "from joblib import Parallel, delayed\n",
    "n_jobs = 10\n",
    "verbosity = 5"
   ]
  },
  {
   "cell_type": "code",
   "execution_count": 5,
   "metadata": {
    "ExecuteTime": {
     "end_time": "2019-06-10T21:13:30.854872Z",
     "start_time": "2019-06-10T21:13:30.695546Z"
    }
   },
   "outputs": [
    {
     "name": "stderr",
     "output_type": "stream",
     "text": [
      "/mnt/cube/tsainbur/conda_envs/tpy3/lib/python3.6/site-packages/tqdm/autonotebook/__init__.py:14: TqdmExperimentalWarning: Using `tqdm.autonotebook.tqdm` in notebook mode. Use `tqdm.tqdm` instead to force console mode (e.g. in jupyter console)\n",
      "  \" (e.g. in jupyter console)\", TqdmExperimentalWarning)\n"
     ]
    }
   ],
   "source": [
    "from tqdm.autonotebook import tqdm\n",
    "from librosa.core.time_frequency import mel_frequencies\n",
    "from avgn_paper.signalprocessing.spectrogramming_tf import spectrogram_tensorflow\n",
    "from avgn_paper.utils.audio import load_wav, float32_to_int16, int16_to_float32, write_wav\n",
    "from avgn_paper.visualization.spectrogram import visualize_spec, plot_spec\n",
    "from avgn_paper.utils.general import HParams\n",
    "from avgn_paper.signalprocessing.filtering import butter_bandpass_filter"
   ]
  },
  {
   "cell_type": "markdown",
   "metadata": {},
   "source": [
    "### data locations"
   ]
  },
  {
   "cell_type": "code",
   "execution_count": 6,
   "metadata": {
    "ExecuteTime": {
     "end_time": "2019-06-10T21:13:30.924730Z",
     "start_time": "2019-06-10T21:13:30.856875Z"
    }
   },
   "outputs": [],
   "source": [
    "DSLOC = Path('/mnt/cube/Datasets/mouse_usv')\n",
    "RESPLOC = DSLOC/'Respiratory_Data'"
   ]
  },
  {
   "cell_type": "markdown",
   "metadata": {},
   "source": [
    "### Parse respiratory files"
   ]
  },
  {
   "cell_type": "code",
   "execution_count": 7,
   "metadata": {
    "ExecuteTime": {
     "end_time": "2019-06-10T21:13:31.022439Z",
     "start_time": "2019-06-10T21:13:30.926736Z"
    }
   },
   "outputs": [],
   "source": [
    "resp_files = list(RESPLOC.glob('*.txt'))"
   ]
  },
  {
   "cell_type": "code",
   "execution_count": 8,
   "metadata": {
    "ExecuteTime": {
     "end_time": "2019-06-10T21:13:31.332567Z",
     "start_time": "2019-06-10T21:13:31.024405Z"
    }
   },
   "outputs": [
    {
     "data": {
      "application/vnd.jupyter.widget-view+json": {
       "model_id": "a522421331da4223ab17dc6dcf73cfdd",
       "version_major": 2,
       "version_minor": 0
      },
      "text/plain": [
       "HBox(children=(IntProgress(value=0, max=12), HTML(value='')))"
      ]
     },
     "metadata": {},
     "output_type": "display_data"
    },
    {
     "name": "stdout",
     "output_type": "stream",
     "text": [
      "\n"
     ]
    }
   ],
   "source": [
    "all_voc_df = []\n",
    "for rf in tqdm(resp_files):\n",
    "    with open(rf, encoding='UTF-16') as f:\n",
    "        try:\n",
    "            voc_df = pd.read_csv(f, delimiter='\\t', header=None)\n",
    "        except UnicodeError:\n",
    "            continue\n",
    "    voc_df.columns = ['exhalation_start', 'exhalation_end', 'USV_start', 'USV_end']\n",
    "    voc_df['fileloc'] = rf\n",
    "    voc_df['indv'] = rf.stem\n",
    "    voc_df['voc_num'] = np.arange(len(voc_df))\n",
    "    all_voc_df.append(voc_df)\n",
    "voc_df = pd.concat(all_voc_df)"
   ]
  },
  {
   "cell_type": "code",
   "execution_count": 9,
   "metadata": {
    "ExecuteTime": {
     "end_time": "2019-06-10T21:13:31.491316Z",
     "start_time": "2019-06-10T21:13:31.336915Z"
    }
   },
   "outputs": [
    {
     "name": "stdout",
     "output_type": "stream",
     "text": [
      "52434\n"
     ]
    },
    {
     "data": {
      "text/html": [
       "<div>\n",
       "<style scoped>\n",
       "    .dataframe tbody tr th:only-of-type {\n",
       "        vertical-align: middle;\n",
       "    }\n",
       "\n",
       "    .dataframe tbody tr th {\n",
       "        vertical-align: top;\n",
       "    }\n",
       "\n",
       "    .dataframe thead th {\n",
       "        text-align: right;\n",
       "    }\n",
       "</style>\n",
       "<table border=\"1\" class=\"dataframe\">\n",
       "  <thead>\n",
       "    <tr style=\"text-align: right;\">\n",
       "      <th></th>\n",
       "      <th>exhalation_start</th>\n",
       "      <th>exhalation_end</th>\n",
       "      <th>USV_start</th>\n",
       "      <th>USV_end</th>\n",
       "      <th>fileloc</th>\n",
       "      <th>indv</th>\n",
       "      <th>voc_num</th>\n",
       "    </tr>\n",
       "  </thead>\n",
       "  <tbody>\n",
       "    <tr>\n",
       "      <th>0</th>\n",
       "      <td>0.1974</td>\n",
       "      <td>0.2582</td>\n",
       "      <td>0.212610</td>\n",
       "      <td>0.244354</td>\n",
       "      <td>/mnt/cube/Datasets/mouse_usv/Respiratory_Data/...</td>\n",
       "      <td>VOC606</td>\n",
       "      <td>0</td>\n",
       "    </tr>\n",
       "    <tr>\n",
       "      <th>1</th>\n",
       "      <td>0.2855</td>\n",
       "      <td>0.3630</td>\n",
       "      <td>0.302709</td>\n",
       "      <td>0.330358</td>\n",
       "      <td>/mnt/cube/Datasets/mouse_usv/Respiratory_Data/...</td>\n",
       "      <td>VOC606</td>\n",
       "      <td>1</td>\n",
       "    </tr>\n",
       "    <tr>\n",
       "      <th>2</th>\n",
       "      <td>0.3971</td>\n",
       "      <td>0.4527</td>\n",
       "      <td>0.413286</td>\n",
       "      <td>0.444006</td>\n",
       "      <td>/mnt/cube/Datasets/mouse_usv/Respiratory_Data/...</td>\n",
       "      <td>VOC606</td>\n",
       "      <td>2</td>\n",
       "    </tr>\n",
       "  </tbody>\n",
       "</table>\n",
       "</div>"
      ],
      "text/plain": [
       "   exhalation_start  exhalation_end  USV_start   USV_end  \\\n",
       "0            0.1974          0.2582   0.212610  0.244354   \n",
       "1            0.2855          0.3630   0.302709  0.330358   \n",
       "2            0.3971          0.4527   0.413286  0.444006   \n",
       "\n",
       "                                             fileloc    indv  voc_num  \n",
       "0  /mnt/cube/Datasets/mouse_usv/Respiratory_Data/...  VOC606        0  \n",
       "1  /mnt/cube/Datasets/mouse_usv/Respiratory_Data/...  VOC606        1  \n",
       "2  /mnt/cube/Datasets/mouse_usv/Respiratory_Data/...  VOC606        2  "
      ]
     },
     "execution_count": 9,
     "metadata": {},
     "output_type": "execute_result"
    }
   ],
   "source": [
    "print(len(voc_df))\n",
    "voc_df[:3]"
   ]
  },
  {
   "cell_type": "code",
   "execution_count": 10,
   "metadata": {
    "ExecuteTime": {
     "end_time": "2019-06-10T21:13:31.620144Z",
     "start_time": "2019-06-10T21:13:31.493595Z"
    }
   },
   "outputs": [
    {
     "data": {
      "text/plain": [
       "array(['VOC606', 'VOC591', 'VOC610', 'VOC611', 'VOC597', 'VOC615',\n",
       "       'VOC612', 'VOC594', 'VOC592', 'VOC605', 'VOC602'], dtype=object)"
      ]
     },
     "execution_count": 10,
     "metadata": {},
     "output_type": "execute_result"
    }
   ],
   "source": [
    "voc_df.indv.unique()"
   ]
  },
  {
   "cell_type": "code",
   "execution_count": 11,
   "metadata": {
    "ExecuteTime": {
     "end_time": "2019-06-10T21:13:31.730366Z",
     "start_time": "2019-06-10T21:13:31.622204Z"
    }
   },
   "outputs": [
    {
     "data": {
      "text/plain": [
       "4.454398476666667"
      ]
     },
     "execution_count": 11,
     "metadata": {},
     "output_type": "execute_result"
    }
   ],
   "source": [
    "np.nanmax(voc_df.USV_start.values)/60"
   ]
  },
  {
   "cell_type": "code",
   "execution_count": 12,
   "metadata": {
    "ExecuteTime": {
     "end_time": "2019-06-10T21:13:32.137303Z",
     "start_time": "2019-06-10T21:13:31.733740Z"
    }
   },
   "outputs": [
    {
     "data": {
      "text/plain": [
       "Text(0, 0.5, 'Time (s)')"
      ]
     },
     "execution_count": 12,
     "metadata": {},
     "output_type": "execute_result"
    },
    {
     "data": {
      "image/png": "[encoded data removed]",
      "text/plain": [
       "<Figure size 432x288 with 1 Axes>"
      ]
     },
     "metadata": {
      "needs_background": "light"
     },
     "output_type": "display_data"
    }
   ],
   "source": [
    "plt.plot(voc_df[voc_df.indv == 'VOC591'].USV_start.values)\n",
    "plt.xlabel('USV start #')\n",
    "plt.ylabel('Time (s)')"
   ]
  },
  {
   "cell_type": "code",
   "execution_count": 13,
   "metadata": {
    "ExecuteTime": {
     "end_time": "2019-06-10T21:13:32.713268Z",
     "start_time": "2019-06-10T21:13:32.141239Z"
    }
   },
   "outputs": [
    {
     "name": "stderr",
     "output_type": "stream",
     "text": [
      "/mnt/cube/tsainbur/conda_envs/tpy3/lib/python3.6/site-packages/numpy/lib/histograms.py:754: RuntimeWarning: invalid value encountered in greater_equal\n",
      "  keep = (tmp_a >= first_edge)\n",
      "/mnt/cube/tsainbur/conda_envs/tpy3/lib/python3.6/site-packages/numpy/lib/histograms.py:755: RuntimeWarning: invalid value encountered in less_equal\n",
      "  keep &= (tmp_a <= last_edge)\n"
     ]
    },
    {
     "data": {
      "image/png": "[encoded data removed]",
      "text/plain": [
       "<Figure size 432x288 with 1 Axes>"
      ]
     },
     "metadata": {
      "needs_background": "light"
     },
     "output_type": "display_data"
    }
   ],
   "source": [
    "plt.hist(voc_df.USV_end.values - voc_df.USV_start.values, bins=50);"
   ]
  },
  {
   "cell_type": "markdown",
   "metadata": {},
   "source": [
    "### Parse Wav Info"
   ]
  },
  {
   "cell_type": "code",
   "execution_count": 14,
   "metadata": {
    "ExecuteTime": {
     "end_time": "2019-06-10T21:13:32.795213Z",
     "start_time": "2019-06-10T21:13:32.718456Z"
    }
   },
   "outputs": [
    {
     "data": {
      "text/plain": [
       "[PosixPath('/mnt/cube/Datasets/mouse_usv/VOC591/VOC591_Isolation_Call_CMPA_8_9_2016_14_6.04.WAV'),\n",
       " PosixPath('/mnt/cube/Datasets/mouse_usv/VOC591/VOC591_VOC571_SONG_CMPA_10_7_2016_73_22.97.WAV'),\n",
       " PosixPath('/mnt/cube/Datasets/mouse_usv/VOC591/VOC591_VOC583_SONG_CMPA_9_3_2016_39_19.17.WAV')]"
      ]
     },
     "execution_count": 14,
     "metadata": {},
     "output_type": "execute_result"
    }
   ],
   "source": [
    "wav_files = list(DSLOC.expanduser().glob('*/*.WAV'))\n",
    "wav_files[:3]"
   ]
  },
  {
   "cell_type": "code",
   "execution_count": 15,
   "metadata": {
    "ExecuteTime": {
     "end_time": "2019-06-10T21:13:33.375041Z",
     "start_time": "2019-06-10T21:13:32.797448Z"
    }
   },
   "outputs": [
    {
     "data": {
      "application/vnd.jupyter.widget-view+json": {
       "model_id": "94dc81ba55674b7dac0f47d31e1d93a6",
       "version_major": 2,
       "version_minor": 0
      },
      "text/plain": [
       "HBox(children=(IntProgress(value=0, max=181), HTML(value='')))"
      ]
     },
     "metadata": {},
     "output_type": "display_data"
    },
    {
     "name": "stdout",
     "output_type": "stream",
     "text": [
      "\n"
     ]
    }
   ],
   "source": [
    "wf_df = pd.DataFrame(\n",
    "    columns=[\n",
    "        \"indv\",\n",
    "        \"MaleMouse\",\n",
    "        \"FemaleMouse\",\n",
    "        \"SONG\",\n",
    "        \"CMPA\",\n",
    "        \"month\",\n",
    "        \"day\",\n",
    "        \"year\",\n",
    "        \"AGE\",\n",
    "        \"Weight\",\n",
    "        \"wav_loc\",\n",
    "    ]\n",
    ")\n",
    "for wf in tqdm(wav_files):\n",
    "    if len(wf.stem.split(\"_\")) != 9: continue\n",
    "    wf_df.loc[len(wf_df)] = [wf.parent.stem] + wf.stem.split(\"_\") + [wf]"
   ]
  },
  {
   "cell_type": "code",
   "execution_count": 16,
   "metadata": {
    "ExecuteTime": {
     "end_time": "2019-06-10T21:13:33.438972Z",
     "start_time": "2019-06-10T21:13:33.377066Z"
    }
   },
   "outputs": [
    {
     "data": {
      "text/plain": [
       "111"
      ]
     },
     "execution_count": 16,
     "metadata": {},
     "output_type": "execute_result"
    }
   ],
   "source": [
    "len(wf_df)"
   ]
  },
  {
   "cell_type": "code",
   "execution_count": 17,
   "metadata": {
    "ExecuteTime": {
     "end_time": "2019-06-10T21:13:33.549491Z",
     "start_time": "2019-06-10T21:13:33.440904Z"
    }
   },
   "outputs": [
    {
     "data": {
      "text/html": [
       "<div>\n",
       "<style scoped>\n",
       "    .dataframe tbody tr th:only-of-type {\n",
       "        vertical-align: middle;\n",
       "    }\n",
       "\n",
       "    .dataframe tbody tr th {\n",
       "        vertical-align: top;\n",
       "    }\n",
       "\n",
       "    .dataframe thead th {\n",
       "        text-align: right;\n",
       "    }\n",
       "</style>\n",
       "<table border=\"1\" class=\"dataframe\">\n",
       "  <thead>\n",
       "    <tr style=\"text-align: right;\">\n",
       "      <th></th>\n",
       "      <th>indv</th>\n",
       "      <th>MaleMouse</th>\n",
       "      <th>FemaleMouse</th>\n",
       "      <th>SONG</th>\n",
       "      <th>CMPA</th>\n",
       "      <th>month</th>\n",
       "      <th>day</th>\n",
       "      <th>year</th>\n",
       "      <th>AGE</th>\n",
       "      <th>Weight</th>\n",
       "      <th>wav_loc</th>\n",
       "    </tr>\n",
       "  </thead>\n",
       "  <tbody>\n",
       "    <tr>\n",
       "      <th>18</th>\n",
       "      <td>VOC591</td>\n",
       "      <td>VOC591</td>\n",
       "      <td>VOC579</td>\n",
       "      <td>SONG</td>\n",
       "      <td>CMPA</td>\n",
       "      <td>10</td>\n",
       "      <td>10</td>\n",
       "      <td>2016</td>\n",
       "      <td>76</td>\n",
       "      <td>23.81</td>\n",
       "      <td>/mnt/cube/Datasets/mouse_usv/VOC591/VOC591_VOC...</td>\n",
       "    </tr>\n",
       "    <tr>\n",
       "      <th>30</th>\n",
       "      <td>VOC591</td>\n",
       "      <td>VOC591</td>\n",
       "      <td>VOC577</td>\n",
       "      <td>SONG</td>\n",
       "      <td>CMPA</td>\n",
       "      <td>10</td>\n",
       "      <td>13</td>\n",
       "      <td>2016</td>\n",
       "      <td>79</td>\n",
       "      <td>22.21</td>\n",
       "      <td>/mnt/cube/Datasets/mouse_usv/VOC591/VOC591_VOC...</td>\n",
       "    </tr>\n",
       "    <tr>\n",
       "      <th>26</th>\n",
       "      <td>VOC591</td>\n",
       "      <td>VOC591</td>\n",
       "      <td>VOC648</td>\n",
       "      <td>SONG</td>\n",
       "      <td>CMPA</td>\n",
       "      <td>10</td>\n",
       "      <td>15</td>\n",
       "      <td>2016</td>\n",
       "      <td>81</td>\n",
       "      <td>24.44</td>\n",
       "      <td>/mnt/cube/Datasets/mouse_usv/VOC591/VOC591_VOC...</td>\n",
       "    </tr>\n",
       "    <tr>\n",
       "      <th>28</th>\n",
       "      <td>VOC591</td>\n",
       "      <td>VOC591</td>\n",
       "      <td>VOC577</td>\n",
       "      <td>SONG</td>\n",
       "      <td>CMPA</td>\n",
       "      <td>10</td>\n",
       "      <td>17</td>\n",
       "      <td>2016</td>\n",
       "      <td>83</td>\n",
       "      <td>24.26</td>\n",
       "      <td>/mnt/cube/Datasets/mouse_usv/VOC591/VOC591_VOC...</td>\n",
       "    </tr>\n",
       "    <tr>\n",
       "      <th>29</th>\n",
       "      <td>VOC591</td>\n",
       "      <td>VOC591</td>\n",
       "      <td>VOC579</td>\n",
       "      <td>SONG</td>\n",
       "      <td>CMPA</td>\n",
       "      <td>10</td>\n",
       "      <td>19</td>\n",
       "      <td>2016</td>\n",
       "      <td>85</td>\n",
       "      <td>24.43</td>\n",
       "      <td>/mnt/cube/Datasets/mouse_usv/VOC591/VOC591_VOC...</td>\n",
       "    </tr>\n",
       "  </tbody>\n",
       "</table>\n",
       "</div>"
      ],
      "text/plain": [
       "      indv MaleMouse FemaleMouse  SONG  CMPA month day  year AGE Weight  \\\n",
       "18  VOC591    VOC591      VOC579  SONG  CMPA    10  10  2016  76  23.81   \n",
       "30  VOC591    VOC591      VOC577  SONG  CMPA    10  13  2016  79  22.21   \n",
       "26  VOC591    VOC591      VOC648  SONG  CMPA    10  15  2016  81  24.44   \n",
       "28  VOC591    VOC591      VOC577  SONG  CMPA    10  17  2016  83  24.26   \n",
       "29  VOC591    VOC591      VOC579  SONG  CMPA    10  19  2016  85  24.43   \n",
       "\n",
       "                                              wav_loc  \n",
       "18  /mnt/cube/Datasets/mouse_usv/VOC591/VOC591_VOC...  \n",
       "30  /mnt/cube/Datasets/mouse_usv/VOC591/VOC591_VOC...  \n",
       "26  /mnt/cube/Datasets/mouse_usv/VOC591/VOC591_VOC...  \n",
       "28  /mnt/cube/Datasets/mouse_usv/VOC591/VOC591_VOC...  \n",
       "29  /mnt/cube/Datasets/mouse_usv/VOC591/VOC591_VOC...  "
      ]
     },
     "execution_count": 17,
     "metadata": {},
     "output_type": "execute_result"
    }
   ],
   "source": [
    "wf_df[wf_df.indv == 'VOC591'].sort_values(by=['year', 'month', 'day'])[:5]"
   ]
  },
  {
   "cell_type": "code",
   "execution_count": 18,
   "metadata": {
    "ExecuteTime": {
     "end_time": "2019-06-10T21:13:33.616106Z",
     "start_time": "2019-06-10T21:13:33.551341Z"
    }
   },
   "outputs": [
    {
     "data": {
      "text/plain": [
       "array([PosixPath('/mnt/cube/Datasets/mouse_usv/VOC591/VOC591_Isolation_Call_CMPA_8_9_2016_14_6.04.WAV'),\n",
       "       PosixPath('/mnt/cube/Datasets/mouse_usv/VOC591/VOC591_VOC571_SONG_CMPA_10_7_2016_73_22.97.WAV'),\n",
       "       PosixPath('/mnt/cube/Datasets/mouse_usv/VOC591/VOC591_VOC583_SONG_CMPA_9_3_2016_39_19.17.WAV'),\n",
       "       PosixPath('/mnt/cube/Datasets/mouse_usv/VOC591/VOC591_Isolation_Call_CMPA_7_30_2016_4_1.93.WAV'),\n",
       "       PosixPath('/mnt/cube/Datasets/mouse_usv/VOC591/VOC591_VOC575_SONG_CMPA_10_3_2016_69_23.85.WAV'),\n",
       "       PosixPath('/mnt/cube/Datasets/mouse_usv/VOC591/VOC591_Isolation_Call_CMPA_8_2_2016_7_3.03.WAV'),\n",
       "       PosixPath('/mnt/cube/Datasets/mouse_usv/VOC591/VOC591_VOC576_SONG_CMPA_10_5_2016_71_21.26.WAV'),\n",
       "       PosixPath('/mnt/cube/Datasets/mouse_usv/VOC591/VOC591_Isolation_Call_CMPA_8_1_2016_6_2.65.WAV'),\n",
       "       PosixPath('/mnt/cube/Datasets/mouse_usv/VOC591/VOC591_VOC579_SONG_CMPA_9_20_2016_56_22.48.WAV'),\n",
       "       PosixPath('/mnt/cube/Datasets/mouse_usv/VOC591/VOC591_VOC575_SONG_CMPA_9_15_2016_51_21.66.WAV'),\n",
       "       PosixPath('/mnt/cube/Datasets/mouse_usv/VOC591/VOC591_VOC586_SONG_CMPA_8_12_2016_17_6.68.WAV'),\n",
       "       PosixPath('/mnt/cube/Datasets/mouse_usv/VOC591/VOC591_VOC581_SONG_CMPA_8_15_2016_20_7.01.WAV'),\n",
       "       PosixPath('/mnt/cube/Datasets/mouse_usv/VOC591/VOC591_VOC582_SONG_CMPA_9_10_2016_46_21.23.WAV'),\n",
       "       PosixPath('/mnt/cube/Datasets/mouse_usv/VOC591/VOC591_Isolation_Call_CMPA_8_3_2016_8_3.53.WAV'),\n",
       "       PosixPath('/mnt/cube/Datasets/mouse_usv/VOC591/VOC591_Isolation_Call_CMPA_7_29_2016_3_1.72.WAV'),\n",
       "       PosixPath('/mnt/cube/Datasets/mouse_usv/VOC591/VOC591_VOC583_SONG_CMPA_9_1_2016_37_19.04.WAV'),\n",
       "       PosixPath('/mnt/cube/Datasets/mouse_usv/VOC591/VOC591_Isolation_Call_CMPA_8_10_2016_15_6.14.WAV'),\n",
       "       PosixPath('/mnt/cube/Datasets/mouse_usv/VOC591/VOC591_VOC577_SONG_CMPA_8_30_2016_35_18.22.WAV'),\n",
       "       PosixPath('/mnt/cube/Datasets/mouse_usv/VOC591/VOC591_VOC579_SONG_CMPA_10_10_2016_76_23.81.WAV'),\n",
       "       PosixPath('/mnt/cube/Datasets/mouse_usv/VOC591/VOC591_VOC578_SONG_CMPA_9_8_2016_44_20.22.WAV'),\n",
       "       PosixPath('/mnt/cube/Datasets/mouse_usv/VOC591/VOC591_Isolation_Call_CMPA_8_5_2016_10_4.17.WAV'),\n",
       "       PosixPath('/mnt/cube/Datasets/mouse_usv/VOC591/VOC591_VOC574_SONG_CMPA_9_17_2016_53_22.08.WAV'),\n",
       "       PosixPath('/mnt/cube/Datasets/mouse_usv/VOC591/VOC591_Isolation_Call_CMPA_7_31_2016_5_2.26.WAV'),\n",
       "       PosixPath('/mnt/cube/Datasets/mouse_usv/VOC591/VOC591_VOC573_SONG_CMPA_8_13_2016_18_6.67.WAV'),\n",
       "       PosixPath('/mnt/cube/Datasets/mouse_usv/VOC591/VOC591_VOC579_SONG_CMPA_9_27_2016_63_23.02.WAV'),\n",
       "       PosixPath('/mnt/cube/Datasets/mouse_usv/VOC591/VOC591_VOC586_SONG_CMPA_9_22_2016_58_22.77.WAV'),\n",
       "       PosixPath('/mnt/cube/Datasets/mouse_usv/VOC591/VOC591_VOC648_SONG_CMPA_10_15_2016_81_24.44.WAV'),\n",
       "       PosixPath('/mnt/cube/Datasets/mouse_usv/VOC591/VOC591_VOC580_SONG_CMPA_10_9_2016_75_23.77.WAV'),\n",
       "       PosixPath('/mnt/cube/Datasets/mouse_usv/VOC591/VOC591_VOC577_SONG_CMPA_10_17_2016_83_24.26.WAV'),\n",
       "       PosixPath('/mnt/cube/Datasets/mouse_usv/VOC591/VOC591_VOC579_SONG_CMPA_10_19_2016_85_24.43.WAV'),\n",
       "       PosixPath('/mnt/cube/Datasets/mouse_usv/VOC591/VOC591_VOC577_SONG_CMPA_10_13_2016_79_22.21.WAV'),\n",
       "       PosixPath('/mnt/cube/Datasets/mouse_usv/VOC591/VOC591_VOC573_SONG_CMPA_9_29_2016_65_22.89.WAV'),\n",
       "       PosixPath('/mnt/cube/Datasets/mouse_usv/VOC591/VOC591_VOC577_SONG_CMPA_9_13_2016_49_21.24.WAV'),\n",
       "       PosixPath('/mnt/cube/Datasets/mouse_usv/VOC591/VOC591_Isolation_Call_CMPA_8_8_2016_13_5.54.WAV'),\n",
       "       PosixPath('/mnt/cube/Datasets/mouse_usv/VOC591/VOC591_VOC574_SONG_CMPA_8_23_2016_28_13.73.WAV'),\n",
       "       PosixPath('/mnt/cube/Datasets/mouse_usv/VOC591/VOC591_VOC581_SONG_CMPA_8_25_2016_30_15.15.WAV'),\n",
       "       PosixPath('/mnt/cube/Datasets/mouse_usv/VOC591/VOC591_VOC572_SONG_CMPA_8_14_2016_19_6.70.WAV'),\n",
       "       PosixPath('/mnt/cube/Datasets/mouse_usv/VOC591/VOC591_VOC571_SONG_CMPA_9_11_2016_47_21.34.WAV'),\n",
       "       PosixPath('/mnt/cube/Datasets/mouse_usv/VOC591/VOC591_Isolation_Call_CMPA_8_11_2016_16_6.55.WAV'),\n",
       "       PosixPath('/mnt/cube/Datasets/mouse_usv/VOC591/VOC591_Isolation_Call_CMPA_7_28_2016_2_1.36.WAV'),\n",
       "       PosixPath('/mnt/cube/Datasets/mouse_usv/VOC591/VOC591_VOC578_SONG_CMPA_8_18_2016_23_8.83.WAV'),\n",
       "       PosixPath('/mnt/cube/Datasets/mouse_usv/VOC591/VOC591_VOC585_SONG_CMPA_8_28_2016_33_18.44.WAV'),\n",
       "       PosixPath('/mnt/cube/Datasets/mouse_usv/VOC591/VOC591_Isolation_Call_CMPA_8_7_2016_12_4.82.WAV'),\n",
       "       PosixPath('/mnt/cube/Datasets/mouse_usv/VOC591/VOC591_Isolation_Call_CMPA_8_4_2016_9_3.82.WAV'),\n",
       "       PosixPath('/mnt/cube/Datasets/mouse_usv/VOC591/VOC591_Isolation_Call_CMPA_7_27_2016_1_1.24.WAV'),\n",
       "       PosixPath('/mnt/cube/Datasets/mouse_usv/VOC591/VOC591_VOC572_SONG_CMPA_8_16_2016_21_7.3.WAV'),\n",
       "       PosixPath('/mnt/cube/Datasets/mouse_usv/VOC591/VOC591_Isolation_Call_CMPA_8_6_2016_11_4.57.WAV'),\n",
       "       PosixPath('/mnt/cube/Datasets/mouse_usv/VOC591/VOC591_VOC576_SONG_CMPA_8_20_2016_25_10.43.WAV'),\n",
       "       PosixPath('/mnt/cube/Datasets/mouse_usv/VOC592/VOC592_VOC575_SONG_CMPA_8_25_2016_30_17.85.WAV'),\n",
       "       PosixPath('/mnt/cube/Datasets/mouse_usv/VOC592/VOC592_VOC575_SONG_CMPA_9_17_2016_53_23.83.WAV'),\n",
       "       PosixPath('/mnt/cube/Datasets/mouse_usv/VOC592/VOC592_VOC576_SONG_CMPA_10_17_2016_83_27.08.WAV'),\n",
       "       PosixPath('/mnt/cube/Datasets/mouse_usv/VOC592/VOC592_VOC586_SONG_CMPA_8_23_2016_28_15.94.WAV'),\n",
       "       PosixPath('/mnt/cube/Datasets/mouse_usv/VOC592/VOC592_VOC572_SONG_CMPA_9_27_2016_63_25.16.WAV'),\n",
       "       PosixPath('/mnt/cube/Datasets/mouse_usv/VOC592/VOC592_VOC582_SONG_CMPA_10_7_2016_73_25.38.WAV'),\n",
       "       PosixPath('/mnt/cube/Datasets/mouse_usv/VOC592/VOC592_VOC647_SONG_CMPA_10_9_2016_75_26.43.WAV'),\n",
       "       PosixPath('/mnt/cube/Datasets/mouse_usv/VOC592/VOC592_VOC577_SONG_CMPA_9_15_2016_51_23.39.WAV'),\n",
       "       PosixPath('/mnt/cube/Datasets/mouse_usv/VOC592/VOC592_VOC579_SONG_CMPA_10_3_2016_69_26.04.WAV'),\n",
       "       PosixPath('/mnt/cube/Datasets/mouse_usv/VOC592/VOC592_VOC575_SONG_CMPA_10_10_2016_76_26.47.WAV'),\n",
       "       PosixPath('/mnt/cube/Datasets/mouse_usv/VOC592/VOC592_VOC575_SONG_CMPA_10_5_2016_71_22.91.WAV'),\n",
       "       PosixPath('/mnt/cube/Datasets/mouse_usv/VOC592/VOC592_VOC573_SONG_CMPA_9_11_2016_47_23.28.WAV'),\n",
       "       PosixPath('/mnt/cube/Datasets/mouse_usv/VOC592/VOC592_VOC576_SONG_CMPA_9_13_2016_49_23.18.WAV'),\n",
       "       PosixPath('/mnt/cube/Datasets/mouse_usv/VOC592/VOC592_VOC573_SONG_CMPA_8_14_2016_19_7.85.WAV'),\n",
       "       PosixPath('/mnt/cube/Datasets/mouse_usv/VOC592/VOC592_VOC580_SONG_CMPA_8_20_2016_25_12.63.WAV'),\n",
       "       PosixPath('/mnt/cube/Datasets/mouse_usv/VOC592/VOC592_VOC576_SONG_CMPA_8_30_2016_35_20.57.WAV'),\n",
       "       PosixPath('/mnt/cube/Datasets/mouse_usv/VOC592/VOC592_VOC571_SONG_CMPA_9_20_2016_56_24.52.WAV'),\n",
       "       PosixPath('/mnt/cube/Datasets/mouse_usv/VOC592/VOC592_VOC578_SONG_CMPA_9_22_2016_58_24.87.WAV'),\n",
       "       PosixPath('/mnt/cube/Datasets/mouse_usv/VOC592/VOC592_VOC581_SONG_CMPA_8_13_2016_18_7.65.WAV'),\n",
       "       PosixPath('/mnt/cube/Datasets/mouse_usv/VOC592/VOC592_VOC574_SONG_CMPA_9_8_2016_44_22.14.WAV'),\n",
       "       PosixPath('/mnt/cube/Datasets/mouse_usv/VOC592/VOC592_VOC582_SONG_CMPA_9_29_2016_65_24.26.WAV'),\n",
       "       PosixPath('/mnt/cube/Datasets/mouse_usv/VOC592/VOC592_VOC649_SONG_CMPA_10_15_2016_81_26.90.WAV'),\n",
       "       PosixPath('/mnt/cube/Datasets/mouse_usv/VOC592/VOC592_VOC575_SONG_CMPA_10_13_2016_79_24.90.WAV'),\n",
       "       PosixPath('/mnt/cube/Datasets/mouse_usv/VOC592/VOC592_VOC649_SONG_CMPA_10_19_2016_85_26.24.WAV'),\n",
       "       PosixPath('/mnt/cube/Datasets/mouse_usv/VOC592/VOC592_VOC580_SONG_CMPA_8_18_2016_23_10.61.WAV'),\n",
       "       PosixPath('/mnt/cube/Datasets/mouse_usv/VOC592/VOC592_VOC571_SONG_CMPA_9_1_2016_37_20.99.WAV'),\n",
       "       PosixPath('/mnt/cube/Datasets/mouse_usv/VOC592/VOC592_VOC574_SONG_CMPA_8_16_2016_21_8.5.WAV'),\n",
       "       PosixPath('/mnt/cube/Datasets/mouse_usv/VOC592/VOC592_VOC580_SONG_CMPA_9_3_2016_39_21.14.WAV'),\n",
       "       PosixPath('/mnt/cube/Datasets/mouse_usv/VOC592/VOC592_VOC573_SONG_CMPA_9_10_2016_46_22.68.WAV'),\n",
       "       PosixPath('/mnt/cube/Datasets/mouse_usv/VOC592/VOC592_VOC582_SONG_CMPA_8_28_2016_33_21.00.WAV'),\n",
       "       PosixPath('/mnt/cube/Datasets/mouse_usv/VOC592/VOC592_VOC577_SONG_CMPA_8_15_2016_20_8.11.WAV'),\n",
       "       PosixPath('/mnt/cube/Datasets/mouse_usv/VOC592/VOC592_VOC580_SONG_CMPA_8_12_2016_17_7.44.WAV'),\n",
       "       PosixPath('/mnt/cube/Datasets/mouse_usv/VOC594/VOC594_VOC649_SONG_CMPA_10_10_2016_76_25.62.WAV'),\n",
       "       PosixPath('/mnt/cube/Datasets/mouse_usv/VOC594/VOC594_VOC584_SONG_CMPA_9_1_2016_37_20.10.WAV'),\n",
       "       PosixPath('/mnt/cube/Datasets/mouse_usv/VOC594/VOC594_VOC577_SONG_CMPA_9_8_2016_44_21.52.WAV'),\n",
       "       PosixPath('/mnt/cube/Datasets/mouse_usv/VOC594/VOC594_VOC580_SONG_CMPA_9_11_2016_47_22.36.WAV'),\n",
       "       PosixPath('/mnt/cube/Datasets/mouse_usv/VOC594/VOC594_VOC574_SONG_CMPA_10_17_2016_83_26.16.WAV'),\n",
       "       PosixPath('/mnt/cube/Datasets/mouse_usv/VOC594/VOC594_VOC575_SONG_CMPA_10_9_2016_75_25.52.WAV'),\n",
       "       PosixPath('/mnt/cube/Datasets/mouse_usv/VOC594/VOC594_VOC649_SONG_CMPA_10_13_2016_79_23.60.WAV'),\n",
       "       PosixPath('/mnt/cube/Datasets/mouse_usv/VOC594/VOC594_VOC574_SONG_CMPA_10_7_2016_73_24.31.WAV'),\n",
       "       PosixPath('/mnt/cube/Datasets/mouse_usv/VOC594/VOC594_VOC571_SONG_CMPA_9_3_2016_39_20.42.WAV'),\n",
       "       PosixPath('/mnt/cube/Datasets/mouse_usv/VOC594/VOC594_VOC584_SONG_CMPA_8_23_2016_28_14.59.WAV'),\n",
       "       PosixPath('/mnt/cube/Datasets/mouse_usv/VOC594/VOC594_VOC583_SONG_CMPA_8_15_2016_20_7.84.WAV'),\n",
       "       PosixPath('/mnt/cube/Datasets/mouse_usv/VOC594/VOC594_VOC586_SONG_CMPA_9_20_2016_56_23.59.WAV'),\n",
       "       PosixPath('/mnt/cube/Datasets/mouse_usv/VOC594/VOC594_VOC586_SONG_CMPA_8_28_2016_33_20.04.WAV'),\n",
       "       PosixPath('/mnt/cube/Datasets/mouse_usv/VOC594/VOC594_VOC581_SONG_CMPA_9_29_2016_65_24.65.WAV'),\n",
       "       PosixPath('/mnt/cube/Datasets/mouse_usv/VOC594/VOC594_VOC575_SONG_CMPA_8_14_2016_19_7.58.WAV'),\n",
       "       PosixPath('/mnt/cube/Datasets/mouse_usv/VOC594/VOC594_VOC572_SONG_CMPA_8_30_2016_35_19.58.WAV'),\n",
       "       PosixPath('/mnt/cube/Datasets/mouse_usv/VOC594/VOC594_VOC571_SONG_CMPA_8_20_2016_25_11.47.WAV'),\n",
       "       PosixPath('/mnt/cube/Datasets/mouse_usv/VOC594/VOC594_VOC576_SONG_CMPA_10_3_2016_69_24.78.WAV'),\n",
       "       PosixPath('/mnt/cube/Datasets/mouse_usv/VOC594/VOC594_VOC650_SONG_CMPA_10_15_2016_81_25.5.WAV'),\n",
       "       PosixPath('/mnt/cube/Datasets/mouse_usv/VOC594/VOC594_VOC586_SONG_CMPA_10_5_2016_71_23.54.WAV'),\n",
       "       PosixPath('/mnt/cube/Datasets/mouse_usv/VOC594/VOC594_VOC581_SONG_CMPA_9_22_2016_58_23.97.WAV'),\n",
       "       PosixPath('/mnt/cube/Datasets/mouse_usv/VOC594/VOC594_VOC647_SONG_CMPA_10_19_2016_85_26.92.WAV'),\n",
       "       PosixPath('/mnt/cube/Datasets/mouse_usv/VOC594/VOC594_VOC582_SONG_CMPA_8_16_2016_21_8.12.WAV'),\n",
       "       PosixPath('/mnt/cube/Datasets/mouse_usv/VOC594/VOC594_VOC578_SONG_CMPA_9_27_2016_63_24.60.WAV'),\n",
       "       PosixPath('/mnt/cube/Datasets/mouse_usv/VOC594/VOC594_VOC574_SONG_CMPA_8_25_2016_30_17.17.WAV'),\n",
       "       PosixPath('/mnt/cube/Datasets/mouse_usv/VOC594/VOC594_VOC585_SONG_CMPA_9_15_2016_51_23.29.WAV'),\n",
       "       PosixPath('/mnt/cube/Datasets/mouse_usv/VOC594/VOC594_VOC584_SONG_CMPA_8_13_2016_18_7.37.WAV'),\n",
       "       PosixPath('/mnt/cube/Datasets/mouse_usv/VOC594/VOC594_VOC572_SONG_CMPA_9_13_2016_49_23.1.WAV'),\n",
       "       PosixPath('/mnt/cube/Datasets/mouse_usv/VOC594/VOC594_VOC571_SONG_CMPA_8_18_2016_23_9.85.WAV'),\n",
       "       PosixPath('/mnt/cube/Datasets/mouse_usv/VOC594/VOC594_VOC584_SONG_CMPA_9_17_2016_53_22.9.WAV'),\n",
       "       PosixPath('/mnt/cube/Datasets/mouse_usv/VOC594/VOC594_VOC571_SONG_CMPA_8_12_2016_17_7.3.WAV')],\n",
       "      dtype=object)"
      ]
     },
     "execution_count": 18,
     "metadata": {},
     "output_type": "execute_result"
    }
   ],
   "source": [
    "wf_df.wav_loc.values"
   ]
  },
  {
   "cell_type": "code",
   "execution_count": 19,
   "metadata": {
    "ExecuteTime": {
     "end_time": "2019-06-10T21:13:33.749917Z",
     "start_time": "2019-06-10T21:13:33.618037Z"
    }
   },
   "outputs": [
    {
     "data": {
      "text/plain": [
       "array(['VOC591', 'VOC592', 'VOC594'], dtype=object)"
      ]
     },
     "execution_count": 19,
     "metadata": {},
     "output_type": "execute_result"
    }
   ],
   "source": [
    "np.unique(wf_df.MaleMouse.values)"
   ]
  },
  {
   "cell_type": "code",
   "execution_count": 73,
   "metadata": {
    "ExecuteTime": {
     "end_time": "2019-06-10T21:23:28.010165Z",
     "start_time": "2019-06-10T21:23:27.390518Z"
    }
   },
   "outputs": [],
   "source": []
  },
  {
   "cell_type": "code",
   "execution_count": 20,
   "metadata": {
    "ExecuteTime": {
     "end_time": "2019-06-10T21:13:33.831175Z",
     "start_time": "2019-06-10T21:13:33.753354Z"
    }
   },
   "outputs": [
    {
     "data": {
      "text/plain": [
       "array(['Call', 'SONG'], dtype=object)"
      ]
     },
     "execution_count": 20,
     "metadata": {},
     "output_type": "execute_result"
    }
   ],
   "source": [
    "np.unique(wf_df.SONG.values)"
   ]
  },
  {
   "cell_type": "code",
   "execution_count": null,
   "metadata": {},
   "outputs": [],
   "source": []
  },
  {
   "cell_type": "code",
   "execution_count": null,
   "metadata": {},
   "outputs": [],
   "source": []
  },
  {
   "cell_type": "code",
   "execution_count": 91,
   "metadata": {
    "ExecuteTime": {
     "end_time": "2019-06-10T21:37:18.694209Z",
     "start_time": "2019-06-10T21:37:18.456584Z"
    }
   },
   "outputs": [
    {
     "name": "stderr",
     "output_type": "stream",
     "text": [
      "/mnt/cube/tsainbur/conda_envs/tpy3/lib/python3.6/site-packages/scipy/io/wavfile.py:273: WavFileWarning: Chunk (non-data) not understood, skipping it.\n",
      "  WavFileWarning)\n"
     ]
    }
   ],
   "source": [
    "rate, data = load_wav(wf_df.iloc[1].wav_loc)"
   ]
  },
  {
   "cell_type": "code",
   "execution_count": 92,
   "metadata": {
    "ExecuteTime": {
     "end_time": "2019-06-10T21:37:18.893170Z",
     "start_time": "2019-06-10T21:37:18.780817Z"
    }
   },
   "outputs": [
    {
     "data": {
      "text/plain": [
       "184.15616"
      ]
     },
     "execution_count": 92,
     "metadata": {},
     "output_type": "execute_result"
    }
   ],
   "source": [
    "len(data)/rate"
   ]
  },
  {
   "cell_type": "code",
   "execution_count": 93,
   "metadata": {
    "ExecuteTime": {
     "end_time": "2019-06-10T21:37:20.774386Z",
     "start_time": "2019-06-10T21:37:19.137018Z"
    }
   },
   "outputs": [],
   "source": [
    "audio = butter_bandpass_filter(data, lowcut = 30000, highcut=120000, fs=rate, order=4) / 32768"
   ]
  },
  {
   "cell_type": "code",
   "execution_count": 94,
   "metadata": {
    "ExecuteTime": {
     "end_time": "2019-06-10T21:37:20.906795Z",
     "start_time": "2019-06-10T21:37:20.777762Z"
    }
   },
   "outputs": [
    {
     "data": {
      "text/plain": [
       "0.013719929179026931"
      ]
     },
     "execution_count": 94,
     "metadata": {},
     "output_type": "execute_result"
    }
   ],
   "source": [
    "np.max(audio)"
   ]
  },
  {
   "cell_type": "code",
   "execution_count": 95,
   "metadata": {
    "ExecuteTime": {
     "end_time": "2019-06-10T21:37:21.670614Z",
     "start_time": "2019-06-10T21:37:20.909214Z"
    }
   },
   "outputs": [
    {
     "data": {
      "text/plain": [
       "[<matplotlib.lines.Line2D at 0x7fad041cfb38>]"
      ]
     },
     "execution_count": 95,
     "metadata": {},
     "output_type": "execute_result"
    },
    {
     "data": {
      "image/png": "[encoded data removed]",
      "text/plain": [
       "<Figure size 432x288 with 1 Axes>"
      ]
     },
     "metadata": {
      "needs_background": "light"
     },
     "output_type": "display_data"
    }
   ],
   "source": [
    "plt.plot(audio[::50])"
   ]
  },
  {
   "cell_type": "code",
   "execution_count": 96,
   "metadata": {
    "ExecuteTime": {
     "end_time": "2019-06-10T21:37:21.752511Z",
     "start_time": "2019-06-10T21:37:21.674604Z"
    }
   },
   "outputs": [],
   "source": [
    "import noisereduce as nr"
   ]
  },
  {
   "cell_type": "code",
   "execution_count": 97,
   "metadata": {
    "ExecuteTime": {
     "end_time": "2019-06-10T21:37:21.852144Z",
     "start_time": "2019-06-10T21:37:21.758873Z"
    }
   },
   "outputs": [],
   "source": [
    "# select section of data that is noise\n",
    "noisy_part = audio[rate*1:rate*10]"
   ]
  },
  {
   "cell_type": "code",
   "execution_count": 98,
   "metadata": {
    "ExecuteTime": {
     "end_time": "2019-06-10T21:37:21.963111Z",
     "start_time": "2019-06-10T21:37:21.856125Z"
    }
   },
   "outputs": [],
   "source": [
    "??nr"
   ]
  },
  {
   "cell_type": "code",
   "execution_count": 99,
   "metadata": {
    "ExecuteTime": {
     "end_time": "2019-06-10T21:38:09.586558Z",
     "start_time": "2019-06-10T21:37:21.965976Z"
    },
    "scrolled": true
   },
   "outputs": [],
   "source": [
    "# perform noise reduction\n",
    "reduced_noise = nr.reduce_noise(audio_clip=audio, noise_clip=noisy_part, verbose=False)"
   ]
  },
  {
   "cell_type": "code",
   "execution_count": 100,
   "metadata": {
    "ExecuteTime": {
     "end_time": "2019-06-10T21:38:10.211562Z",
     "start_time": "2019-06-10T21:38:09.590712Z"
    }
   },
   "outputs": [
    {
     "data": {
      "text/plain": [
       "46039040"
      ]
     },
     "execution_count": 100,
     "metadata": {},
     "output_type": "execute_result"
    }
   ],
   "source": [
    "len(audio)"
   ]
  },
  {
   "cell_type": "code",
   "execution_count": 101,
   "metadata": {
    "ExecuteTime": {
     "end_time": "2019-06-10T21:38:10.309702Z",
     "start_time": "2019-06-10T21:38:10.214702Z"
    }
   },
   "outputs": [
    {
     "data": {
      "text/plain": [
       "46039040"
      ]
     },
     "execution_count": 101,
     "metadata": {},
     "output_type": "execute_result"
    }
   ],
   "source": [
    "len(reduced_noise)"
   ]
  },
  {
   "cell_type": "code",
   "execution_count": 102,
   "metadata": {
    "ExecuteTime": {
     "end_time": "2019-06-10T21:38:10.993025Z",
     "start_time": "2019-06-10T21:38:10.313918Z"
    }
   },
   "outputs": [
    {
     "data": {
      "text/plain": [
       "[<matplotlib.lines.Line2D at 0x7fad041a9a20>]"
      ]
     },
     "execution_count": 102,
     "metadata": {},
     "output_type": "execute_result"
    },
    {
     "data": {
      "image/png": "[encoded data removed]",
      "text/plain": [
       "<Figure size 432x288 with 1 Axes>"
      ]
     },
     "metadata": {
      "needs_background": "light"
     },
     "output_type": "display_data"
    }
   ],
   "source": [
    "plt.plot(reduced_noise[::50])"
   ]
  },
  {
   "cell_type": "code",
   "execution_count": 106,
   "metadata": {
    "ExecuteTime": {
     "end_time": "2019-06-11T21:33:40.218873Z",
     "start_time": "2019-06-11T21:33:39.576732Z"
    }
   },
   "outputs": [
    {
     "name": "stdout",
     "output_type": "stream",
     "text": [
      "2500.0\n",
      "500.0\n"
     ]
    },
    {
     "ename": "TypeError",
     "evalue": "Expecting an EagerTensor for other_value, got tensorflow.python.framework.ops.EagerTensor",
     "output_type": "error",
     "traceback": [
      "\u001b[0;31m---------------------------------------------------------------------------\u001b[0m",
      "\u001b[0;31mTypeError\u001b[0m                                 Traceback (most recent call last)",
      "\u001b[0;32m<ipython-input-106-75f798843486>\u001b[0m in \u001b[0;36m<module>\u001b[0;34m\u001b[0m\n\u001b[1;32m     31\u001b[0m     \u001b[0mupper_edge_hertz\u001b[0m\u001b[0;34m=\u001b[0m\u001b[0mhparams\u001b[0m\u001b[0;34m.\u001b[0m\u001b[0mmel_upper_edge_hertz\u001b[0m\u001b[0;34m,\u001b[0m\u001b[0;34m\u001b[0m\u001b[0;34m\u001b[0m\u001b[0m\n\u001b[1;32m     32\u001b[0m     \u001b[0mdtype\u001b[0m\u001b[0;34m=\u001b[0m\u001b[0mtf\u001b[0m\u001b[0;34m.\u001b[0m\u001b[0mdtypes\u001b[0m\u001b[0;34m.\u001b[0m\u001b[0mfloat32\u001b[0m\u001b[0;34m,\u001b[0m\u001b[0;34m\u001b[0m\u001b[0;34m\u001b[0m\u001b[0m\n\u001b[0;32m---> 33\u001b[0;31m     \u001b[0mname\u001b[0m\u001b[0;34m=\u001b[0m\u001b[0;32mNone\u001b[0m\u001b[0;34m,\u001b[0m\u001b[0;34m\u001b[0m\u001b[0;34m\u001b[0m\u001b[0m\n\u001b[0m\u001b[1;32m     34\u001b[0m )\n\u001b[1;32m     35\u001b[0m \u001b[0;34m\u001b[0m\u001b[0m\n",
      "\u001b[0;32m/mnt/cube/tsainbur/conda_envs/tpy3/lib/python3.6/site-packages/tensorflow/python/ops/signal/mel_ops.py\u001b[0m in \u001b[0;36mlinear_to_mel_weight_matrix\u001b[0;34m(num_mel_bins, num_spectrogram_bins, sample_rate, lower_edge_hertz, upper_edge_hertz, dtype, name)\u001b[0m\n\u001b[1;32m    158\u001b[0m     \u001b[0;31m# no Tensor inputs.\u001b[0m\u001b[0;34m\u001b[0m\u001b[0;34m\u001b[0m\u001b[0;34m\u001b[0m\u001b[0m\n\u001b[1;32m    159\u001b[0m     sample_rate = ops.convert_to_tensor(\n\u001b[0;32m--> 160\u001b[0;31m         sample_rate, dtype, name='sample_rate')\n\u001b[0m\u001b[1;32m    161\u001b[0m     lower_edge_hertz = ops.convert_to_tensor(\n\u001b[1;32m    162\u001b[0m         lower_edge_hertz, dtype, name='lower_edge_hertz')\n",
      "\u001b[0;32m/mnt/cube/tsainbur/conda_envs/tpy3/lib/python3.6/site-packages/tensorflow/python/framework/ops.py\u001b[0m in \u001b[0;36mconvert_to_tensor\u001b[0;34m(value, dtype, name, preferred_dtype, dtype_hint)\u001b[0m\n\u001b[1;32m   1098\u001b[0m   preferred_dtype = deprecation.deprecated_argument_lookup(\n\u001b[1;32m   1099\u001b[0m       \"dtype_hint\", dtype_hint, \"preferred_dtype\", preferred_dtype)\n\u001b[0;32m-> 1100\u001b[0;31m   \u001b[0;32mreturn\u001b[0m \u001b[0mconvert_to_tensor_v2\u001b[0m\u001b[0;34m(\u001b[0m\u001b[0mvalue\u001b[0m\u001b[0;34m,\u001b[0m \u001b[0mdtype\u001b[0m\u001b[0;34m,\u001b[0m \u001b[0mpreferred_dtype\u001b[0m\u001b[0;34m,\u001b[0m \u001b[0mname\u001b[0m\u001b[0;34m)\u001b[0m\u001b[0;34m\u001b[0m\u001b[0;34m\u001b[0m\u001b[0m\n\u001b[0m\u001b[1;32m   1101\u001b[0m \u001b[0;34m\u001b[0m\u001b[0m\n\u001b[1;32m   1102\u001b[0m \u001b[0;34m\u001b[0m\u001b[0m\n",
      "\u001b[0;32m/mnt/cube/tsainbur/conda_envs/tpy3/lib/python3.6/site-packages/tensorflow/python/framework/ops.py\u001b[0m in \u001b[0;36mconvert_to_tensor_v2\u001b[0;34m(value, dtype, dtype_hint, name)\u001b[0m\n\u001b[1;32m   1156\u001b[0m       \u001b[0mname\u001b[0m\u001b[0;34m=\u001b[0m\u001b[0mname\u001b[0m\u001b[0;34m,\u001b[0m\u001b[0;34m\u001b[0m\u001b[0;34m\u001b[0m\u001b[0m\n\u001b[1;32m   1157\u001b[0m       \u001b[0mpreferred_dtype\u001b[0m\u001b[0;34m=\u001b[0m\u001b[0mdtype_hint\u001b[0m\u001b[0;34m,\u001b[0m\u001b[0;34m\u001b[0m\u001b[0;34m\u001b[0m\u001b[0m\n\u001b[0;32m-> 1158\u001b[0;31m       as_ref=False)\n\u001b[0m\u001b[1;32m   1159\u001b[0m \u001b[0;34m\u001b[0m\u001b[0m\n\u001b[1;32m   1160\u001b[0m \u001b[0;34m\u001b[0m\u001b[0m\n",
      "\u001b[0;32m/mnt/cube/tsainbur/conda_envs/tpy3/lib/python3.6/site-packages/tensorflow/python/framework/ops.py\u001b[0m in \u001b[0;36minternal_convert_to_tensor\u001b[0;34m(value, dtype, name, as_ref, preferred_dtype, ctx, accept_symbolic_tensors, accept_composite_tensors)\u001b[0m\n\u001b[1;32m   1235\u001b[0m \u001b[0;34m\u001b[0m\u001b[0m\n\u001b[1;32m   1236\u001b[0m     \u001b[0;32mif\u001b[0m \u001b[0mret\u001b[0m \u001b[0;32mis\u001b[0m \u001b[0;32mNone\u001b[0m\u001b[0;34m:\u001b[0m\u001b[0;34m\u001b[0m\u001b[0;34m\u001b[0m\u001b[0m\n\u001b[0;32m-> 1237\u001b[0;31m       \u001b[0mret\u001b[0m \u001b[0;34m=\u001b[0m \u001b[0mconversion_func\u001b[0m\u001b[0;34m(\u001b[0m\u001b[0mvalue\u001b[0m\u001b[0;34m,\u001b[0m \u001b[0mdtype\u001b[0m\u001b[0;34m=\u001b[0m\u001b[0mdtype\u001b[0m\u001b[0;34m,\u001b[0m \u001b[0mname\u001b[0m\u001b[0;34m=\u001b[0m\u001b[0mname\u001b[0m\u001b[0;34m,\u001b[0m \u001b[0mas_ref\u001b[0m\u001b[0;34m=\u001b[0m\u001b[0mas_ref\u001b[0m\u001b[0;34m)\u001b[0m\u001b[0;34m\u001b[0m\u001b[0;34m\u001b[0m\u001b[0m\n\u001b[0m\u001b[1;32m   1238\u001b[0m \u001b[0;34m\u001b[0m\u001b[0m\n\u001b[1;32m   1239\u001b[0m     \u001b[0;32mif\u001b[0m \u001b[0mret\u001b[0m \u001b[0;32mis\u001b[0m \u001b[0mNotImplemented\u001b[0m\u001b[0;34m:\u001b[0m\u001b[0;34m\u001b[0m\u001b[0;34m\u001b[0m\u001b[0m\n",
      "\u001b[0;32m/mnt/cube/tsainbur/conda_envs/tpy3/lib/python3.6/site-packages/tensorflow/python/framework/constant_op.py\u001b[0m in \u001b[0;36m_constant_tensor_conversion_function\u001b[0;34m(v, dtype, name, as_ref)\u001b[0m\n\u001b[1;32m    303\u001b[0m                                          as_ref=False):\n\u001b[1;32m    304\u001b[0m   \u001b[0m_\u001b[0m \u001b[0;34m=\u001b[0m \u001b[0mas_ref\u001b[0m\u001b[0;34m\u001b[0m\u001b[0;34m\u001b[0m\u001b[0m\n\u001b[0;32m--> 305\u001b[0;31m   \u001b[0;32mreturn\u001b[0m \u001b[0mconstant\u001b[0m\u001b[0;34m(\u001b[0m\u001b[0mv\u001b[0m\u001b[0;34m,\u001b[0m \u001b[0mdtype\u001b[0m\u001b[0;34m=\u001b[0m\u001b[0mdtype\u001b[0m\u001b[0;34m,\u001b[0m \u001b[0mname\u001b[0m\u001b[0;34m=\u001b[0m\u001b[0mname\u001b[0m\u001b[0;34m)\u001b[0m\u001b[0;34m\u001b[0m\u001b[0;34m\u001b[0m\u001b[0m\n\u001b[0m\u001b[1;32m    306\u001b[0m \u001b[0;34m\u001b[0m\u001b[0m\n\u001b[1;32m    307\u001b[0m \u001b[0;34m\u001b[0m\u001b[0m\n",
      "\u001b[0;32m/mnt/cube/tsainbur/conda_envs/tpy3/lib/python3.6/site-packages/tensorflow/python/framework/constant_op.py\u001b[0m in \u001b[0;36mconstant\u001b[0;34m(value, dtype, shape, name)\u001b[0m\n\u001b[1;32m    244\u001b[0m   \"\"\"\n\u001b[1;32m    245\u001b[0m   return _constant_impl(value, dtype, shape, name, verify_shape=False,\n\u001b[0;32m--> 246\u001b[0;31m                         allow_broadcast=True)\n\u001b[0m\u001b[1;32m    247\u001b[0m \u001b[0;34m\u001b[0m\u001b[0m\n\u001b[1;32m    248\u001b[0m \u001b[0;34m\u001b[0m\u001b[0m\n",
      "\u001b[0;32m/mnt/cube/tsainbur/conda_envs/tpy3/lib/python3.6/site-packages/tensorflow/python/framework/constant_op.py\u001b[0m in \u001b[0;36m_constant_impl\u001b[0;34m(value, dtype, shape, name, verify_shape, allow_broadcast)\u001b[0m\n\u001b[1;32m    252\u001b[0m   \u001b[0mctx\u001b[0m \u001b[0;34m=\u001b[0m \u001b[0mcontext\u001b[0m\u001b[0;34m.\u001b[0m\u001b[0mcontext\u001b[0m\u001b[0;34m(\u001b[0m\u001b[0;34m)\u001b[0m\u001b[0;34m\u001b[0m\u001b[0;34m\u001b[0m\u001b[0m\n\u001b[1;32m    253\u001b[0m   \u001b[0;32mif\u001b[0m \u001b[0mctx\u001b[0m\u001b[0;34m.\u001b[0m\u001b[0mexecuting_eagerly\u001b[0m\u001b[0;34m(\u001b[0m\u001b[0;34m)\u001b[0m\u001b[0;34m:\u001b[0m\u001b[0;34m\u001b[0m\u001b[0;34m\u001b[0m\u001b[0m\n\u001b[0;32m--> 254\u001b[0;31m     \u001b[0mt\u001b[0m \u001b[0;34m=\u001b[0m \u001b[0mconvert_to_eager_tensor\u001b[0m\u001b[0;34m(\u001b[0m\u001b[0mvalue\u001b[0m\u001b[0;34m,\u001b[0m \u001b[0mctx\u001b[0m\u001b[0;34m,\u001b[0m \u001b[0mdtype\u001b[0m\u001b[0;34m)\u001b[0m\u001b[0;34m\u001b[0m\u001b[0;34m\u001b[0m\u001b[0m\n\u001b[0m\u001b[1;32m    255\u001b[0m     \u001b[0;32mif\u001b[0m \u001b[0mshape\u001b[0m \u001b[0;32mis\u001b[0m \u001b[0;32mNone\u001b[0m\u001b[0;34m:\u001b[0m\u001b[0;34m\u001b[0m\u001b[0;34m\u001b[0m\u001b[0m\n\u001b[1;32m    256\u001b[0m       \u001b[0;32mreturn\u001b[0m \u001b[0mt\u001b[0m\u001b[0;34m\u001b[0m\u001b[0;34m\u001b[0m\u001b[0m\n",
      "\u001b[0;32m/mnt/cube/tsainbur/conda_envs/tpy3/lib/python3.6/site-packages/tensorflow/python/framework/constant_op.py\u001b[0m in \u001b[0;36mconvert_to_eager_tensor\u001b[0;34m(value, ctx, dtype)\u001b[0m\n\u001b[1;32m    108\u001b[0m     \u001b[0;32mif\u001b[0m \u001b[0mtensor\u001b[0m \u001b[0;32mis\u001b[0m \u001b[0;32mnot\u001b[0m \u001b[0;32mNone\u001b[0m\u001b[0;34m:\u001b[0m\u001b[0;34m\u001b[0m\u001b[0;34m\u001b[0m\u001b[0m\n\u001b[1;32m    109\u001b[0m       return ops.EagerTensor(\n\u001b[0;32m--> 110\u001b[0;31m           value, handle, device, dtype, tensor)\n\u001b[0m\u001b[1;32m    111\u001b[0m     \u001b[0mt\u001b[0m \u001b[0;34m=\u001b[0m \u001b[0mops\u001b[0m\u001b[0;34m.\u001b[0m\u001b[0mEagerTensor\u001b[0m\u001b[0;34m(\u001b[0m\u001b[0mvalue\u001b[0m\u001b[0;34m,\u001b[0m \u001b[0mhandle\u001b[0m\u001b[0;34m,\u001b[0m \u001b[0mdevice\u001b[0m\u001b[0;34m,\u001b[0m \u001b[0mdtype\u001b[0m\u001b[0;34m)\u001b[0m\u001b[0;34m\u001b[0m\u001b[0;34m\u001b[0m\u001b[0m\n\u001b[1;32m    112\u001b[0m     \u001b[0mscalar_cache\u001b[0m\u001b[0;34m[\u001b[0m\u001b[0mcache_key\u001b[0m\u001b[0;34m]\u001b[0m \u001b[0;34m=\u001b[0m \u001b[0mt\u001b[0m\u001b[0;34m\u001b[0m\u001b[0;34m\u001b[0m\u001b[0m\n",
      "\u001b[0;31mTypeError\u001b[0m: Expecting an EagerTensor for other_value, got tensorflow.python.framework.ops.EagerTensor"
     ]
    }
   ],
   "source": [
    "win_length_ms = 10\n",
    "hop_length_ms = 2\n",
    "print(win_length_ms / 1000 * rate)\n",
    "print(hop_length_ms / 1000 * rate)\n",
    "\n",
    "hparams = HParams(\n",
    "    # spectrogramming\n",
    "    win_length=int(rate / 1000 * win_length_ms),\n",
    "    n_fft=4096,\n",
    "    hop_length=int(rate / 1000 * hop_length_ms),\n",
    "    ref_level_db=20,\n",
    "    min_level_db=-80,\n",
    "    preemphasis=0.97,\n",
    "    # mel scaling\n",
    "    num_mel_bins=128,\n",
    "    mel_lower_edge_hertz=40000,\n",
    "    mel_upper_edge_hertz=120000,\n",
    "    # inversion\n",
    "    power=1.5,  # for spectral inversion\n",
    "    griffin_lim_iters=50,\n",
    "    pad=True,\n",
    "    #\n",
    ")\n",
    "\n",
    "# create a filter to convolve with the spectrogram\n",
    "mel_matrix = tf.signal.linear_to_mel_weight_matrix(\n",
    "    num_mel_bins=hparams.num_mel_bins,\n",
    "    num_spectrogram_bins=int(hparams.n_fft / 2) + 1,\n",
    "    sample_rate=rate,\n",
    "    lower_edge_hertz=hparams.mel_lower_edge_hertz,\n",
    "    upper_edge_hertz=hparams.mel_upper_edge_hertz,\n",
    "    dtype=tf.dtypes.float32,\n",
    "    name=None,\n",
    ")\n",
    "\n",
    "# gets the center frequencies of mel bands\n",
    "mel_f = mel_frequencies(\n",
    "    n_mels=hparams.num_mel_bins + 2,\n",
    "    fmin=hparams.mel_lower_edge_hertz,\n",
    "    fmax=hparams.mel_upper_edge_hertz,\n",
    ")\n",
    "\n",
    "# Slaney-style mel is scaled to be approx constant energy per channel (from librosa)\n",
    "enorm = tf.dtypes.cast(\n",
    "    tf.expand_dims(\n",
    "        tf.constant(\n",
    "            2.0 / (mel_f[2 : hparams.num_mel_bins + 2] - mel_f[: hparams.num_mel_bins])\n",
    "        ),\n",
    "        0,\n",
    "    ),\n",
    "    tf.float32,\n",
    ")\n",
    "\n",
    "mel_matrix = tf.multiply(mel_matrix, enorm)\n",
    "mel_matrix = tf.divide(mel_matrix, tf.reduce_sum(mel_matrix, axis=0)).numpy()"
   ]
  },
  {
   "cell_type": "code",
   "execution_count": null,
   "metadata": {
    "ExecuteTime": {
     "end_time": "2019-06-11T21:33:40.222019Z",
     "start_time": "2019-06-11T21:33:39.729Z"
    }
   },
   "outputs": [],
   "source": [
    "spectrogram = sg.spectrogram(reduced_noise[:rate*5], hparams)\n",
    "mel_spec = np.dot(spectrogram.T, mel_matrix).T"
   ]
  },
  {
   "cell_type": "code",
   "execution_count": null,
   "metadata": {
    "ExecuteTime": {
     "end_time": "2019-06-11T21:33:40.223545Z",
     "start_time": "2019-06-11T21:33:39.810Z"
    }
   },
   "outputs": [],
   "source": [
    "fig, axs = plt.subplots(nrows = 2, figsize=(80,12))\n",
    "axs[0].matshow(spectrogram, origin='lower', aspect='auto', cmap = plt.cm.afmhot)\n",
    "axs[1].matshow(mel_spec, origin='lower', aspect='auto', cmap = plt.cm.afmhot)\n",
    "#ax.axis('off')"
   ]
  },
  {
   "cell_type": "code",
   "execution_count": null,
   "metadata": {},
   "outputs": [],
   "source": []
  },
  {
   "cell_type": "code",
   "execution_count": null,
   "metadata": {},
   "outputs": [],
   "source": []
  }
 ],
 "metadata": {
  "kernelspec": {
   "display_name": "Python 3",
   "language": "python",
   "name": "python3"
  },
  "language_info": {
   "codemirror_mode": {
    "name": "ipython",
    "version": 3
   },
   "file_extension": ".py",
   "mimetype": "text/x-python",
   "name": "python",
   "nbconvert_exporter": "python",
   "pygments_lexer": "ipython3",
   "version": "3.6.7"
  }
 },
 "nbformat": 4,
 "nbformat_minor": 2
}
