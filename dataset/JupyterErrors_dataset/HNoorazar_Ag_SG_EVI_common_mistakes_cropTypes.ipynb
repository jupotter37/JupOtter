{
 "cells": [
  {
   "cell_type": "code",
   "execution_count": 1,
   "id": "e0cfb05c",
   "metadata": {},
   "outputs": [],
   "source": [
    "import numpy as np\n",
    "import pandas as pd\n",
    "import scipy, scipy.signal\n",
    "\n",
    "from datetime import date\n",
    "import time\n",
    "\n",
    "import random\n",
    "from random import seed\n",
    "from random import random\n",
    "\n",
    "import os, os.path\n",
    "import shutil\n",
    "\n",
    "from sklearn.model_selection import train_test_split\n",
    "from sklearn.linear_model import LogisticRegression\n",
    "\n",
    "from sklearn.neighbors import KNeighborsClassifier\n",
    "from sklearn.model_selection import GridSearchCV\n",
    "from sklearn.metrics import classification_report\n",
    "\n",
    "import matplotlib\n",
    "import matplotlib.pyplot as plt\n",
    "from matplotlib import pyplot\n",
    "from pylab import imshow\n",
    "from matplotlib.image import imread\n",
    "\n",
    "\n",
    "import h5py\n",
    "import pickle\n",
    "import sys\n"
   ]
  },
  {
   "cell_type": "code",
   "execution_count": 2,
   "id": "52d97987",
   "metadata": {},
   "outputs": [],
   "source": [
    "sys.path.append('/Users/hn/Documents/00_GitHub/Ag/NASA/Python_codes/')\n",
    "import NASA_core as nc\n",
    "# import NASA_plot_core as rcp"
   ]
  },
  {
   "cell_type": "code",
   "execution_count": 3,
   "id": "56e6c338",
   "metadata": {},
   "outputs": [],
   "source": [
    "from tslearn.metrics import dtw as dtw_metric\n",
    "\n",
    "# https://dtaidistance.readthedocs.io/en/latest/usage/dtw.html\n",
    "from dtaidistance import dtw\n",
    "from dtaidistance import dtw_visualisation as dtwvis"
   ]
  },
  {
   "cell_type": "code",
   "execution_count": 4,
   "id": "479e2573",
   "metadata": {},
   "outputs": [
    {
     "name": "stdout",
     "output_type": "stream",
     "text": [
      "(6340, 8)\n",
      "(3539, 8)\n"
     ]
    },
    {
     "data": {
      "text/html": [
       "<div>\n",
       "<style scoped>\n",
       "    .dataframe tbody tr th:only-of-type {\n",
       "        vertical-align: middle;\n",
       "    }\n",
       "\n",
       "    .dataframe tbody tr th {\n",
       "        vertical-align: top;\n",
       "    }\n",
       "\n",
       "    .dataframe thead th {\n",
       "        text-align: right;\n",
       "    }\n",
       "</style>\n",
       "<table border=\"1\" class=\"dataframe\">\n",
       "  <thead>\n",
       "    <tr style=\"text-align: right;\">\n",
       "      <th></th>\n",
       "      <th>ID</th>\n",
       "      <th>CropTyp</th>\n",
       "      <th>Irrigtn</th>\n",
       "      <th>DataSrc</th>\n",
       "      <th>Acres</th>\n",
       "      <th>ExctAcr</th>\n",
       "      <th>LstSrvD</th>\n",
       "      <th>county</th>\n",
       "    </tr>\n",
       "  </thead>\n",
       "  <tbody>\n",
       "    <tr>\n",
       "      <th>0</th>\n",
       "      <td>100010_WSDA_SF_2017</td>\n",
       "      <td>alfalfa hay</td>\n",
       "      <td>center pivot</td>\n",
       "      <td>wsda</td>\n",
       "      <td>34</td>\n",
       "      <td>34.310305</td>\n",
       "      <td>2017/09/12</td>\n",
       "      <td>Grant</td>\n",
       "    </tr>\n",
       "    <tr>\n",
       "      <th>1</th>\n",
       "      <td>100204_WSDA_SF_2017</td>\n",
       "      <td>alfalfa hay</td>\n",
       "      <td>center pivot</td>\n",
       "      <td>wsda</td>\n",
       "      <td>62</td>\n",
       "      <td>61.826535</td>\n",
       "      <td>2017/08/09</td>\n",
       "      <td>Grant</td>\n",
       "    </tr>\n",
       "  </tbody>\n",
       "</table>\n",
       "</div>"
      ],
      "text/plain": [
       "                    ID      CropTyp       Irrigtn DataSrc  Acres    ExctAcr  \\\n",
       "0  100010_WSDA_SF_2017  alfalfa hay  center pivot    wsda     34  34.310305   \n",
       "1  100204_WSDA_SF_2017  alfalfa hay  center pivot    wsda     62  61.826535   \n",
       "\n",
       "      LstSrvD county  \n",
       "0  2017/09/12  Grant  \n",
       "1  2017/08/09  Grant  "
      ]
     },
     "execution_count": 4,
     "metadata": {},
     "output_type": "execute_result"
    }
   ],
   "source": [
    "meta_dir = \"/Users/hn/Documents/01_research_data/NASA/parameters/\"\n",
    "meta = pd.read_csv(meta_dir+\"evaluation_set.csv\")\n",
    "meta_moreThan10Acr=meta[meta.ExctAcr>10]\n",
    "print (meta.shape)\n",
    "print (meta_moreThan10Acr.shape)\n",
    "meta.head(2)"
   ]
  },
  {
   "cell_type": "markdown",
   "id": "1ff99faa",
   "metadata": {},
   "source": [
    "# Read Training Set Labels"
   ]
  },
  {
   "cell_type": "code",
   "execution_count": 5,
   "id": "50e61a17",
   "metadata": {},
   "outputs": [
    {
     "name": "stdout",
     "output_type": "stream",
     "text": [
      "Unique Votes:  [2 1]\n",
      "1849\n"
     ]
    },
    {
     "data": {
      "text/html": [
       "<div>\n",
       "<style scoped>\n",
       "    .dataframe tbody tr th:only-of-type {\n",
       "        vertical-align: middle;\n",
       "    }\n",
       "\n",
       "    .dataframe tbody tr th {\n",
       "        vertical-align: top;\n",
       "    }\n",
       "\n",
       "    .dataframe thead th {\n",
       "        text-align: right;\n",
       "    }\n",
       "</style>\n",
       "<table border=\"1\" class=\"dataframe\">\n",
       "  <thead>\n",
       "    <tr style=\"text-align: right;\">\n",
       "      <th></th>\n",
       "      <th>ID</th>\n",
       "      <th>Vote</th>\n",
       "    </tr>\n",
       "  </thead>\n",
       "  <tbody>\n",
       "    <tr>\n",
       "      <th>0</th>\n",
       "      <td>99837_WSDA_SF_2017</td>\n",
       "      <td>2</td>\n",
       "    </tr>\n",
       "    <tr>\n",
       "      <th>1</th>\n",
       "      <td>114615_WSDA_SF_2017</td>\n",
       "      <td>1</td>\n",
       "    </tr>\n",
       "  </tbody>\n",
       "</table>\n",
       "</div>"
      ],
      "text/plain": [
       "                    ID  Vote\n",
       "0   99837_WSDA_SF_2017     2\n",
       "1  114615_WSDA_SF_2017     1"
      ]
     },
     "execution_count": 5,
     "metadata": {},
     "output_type": "execute_result"
    }
   ],
   "source": [
    "training_set_dir = \"/Users/hn/Documents/01_research_data/NASA/ML_data/\"\n",
    "ground_truth_labels = pd.read_csv(training_set_dir+\"train_labels.csv\")\n",
    "print (\"Unique Votes: \", ground_truth_labels.Vote.unique())\n",
    "print (len(ground_truth_labels.ID.unique()))\n",
    "ground_truth_labels.head(2)"
   ]
  },
  {
   "cell_type": "markdown",
   "id": "0a41d3da",
   "metadata": {},
   "source": [
    "# Read the Data"
   ]
  },
  {
   "cell_type": "code",
   "execution_count": 6,
   "id": "dabd90a1",
   "metadata": {},
   "outputs": [],
   "source": [
    "VI_idx = \"EVI\"\n",
    "data_dir = \"/Users/hn/Documents/01_research_data/NASA/VI_TS/05_SG_TS/\""
   ]
  },
  {
   "cell_type": "code",
   "execution_count": 7,
   "id": "be206240",
   "metadata": {},
   "outputs": [],
   "source": [
    "landsat_dir = \"/Users/hn/Documents/01_research_data/NASA/VI_TS/data_for_train_individual_counties/\"\n",
    "\n",
    "landsat_fNames = [x for x in os.listdir(landsat_dir) if x.endswith(\".csv\")]\n",
    "\n",
    "landsat_DF = pd.DataFrame()\n",
    "for fName in landsat_fNames:\n",
    "    curr = pd.read_csv(landsat_dir+fName)\n",
    "    curr.dropna(subset=[VI_idx], inplace=True)\n",
    "    landsat_DF=pd.concat([landsat_DF, curr])"
   ]
  },
  {
   "cell_type": "code",
   "execution_count": 8,
   "id": "c5d6e9f0",
   "metadata": {},
   "outputs": [
    {
     "data": {
      "text/html": [
       "<div>\n",
       "<style scoped>\n",
       "    .dataframe tbody tr th:only-of-type {\n",
       "        vertical-align: middle;\n",
       "    }\n",
       "\n",
       "    .dataframe tbody tr th {\n",
       "        vertical-align: top;\n",
       "    }\n",
       "\n",
       "    .dataframe thead th {\n",
       "        text-align: right;\n",
       "    }\n",
       "</style>\n",
       "<table border=\"1\" class=\"dataframe\">\n",
       "  <thead>\n",
       "    <tr style=\"text-align: right;\">\n",
       "      <th></th>\n",
       "      <th>ID</th>\n",
       "      <th>human_system_start_time</th>\n",
       "      <th>EVI</th>\n",
       "    </tr>\n",
       "  </thead>\n",
       "  <tbody>\n",
       "    <tr>\n",
       "      <th>0</th>\n",
       "      <td>135073_WSDA_SF_2015</td>\n",
       "      <td>2015-01-10</td>\n",
       "      <td>0.054429</td>\n",
       "    </tr>\n",
       "    <tr>\n",
       "      <th>1</th>\n",
       "      <td>135073_WSDA_SF_2015</td>\n",
       "      <td>2015-01-20</td>\n",
       "      <td>0.051731</td>\n",
       "    </tr>\n",
       "  </tbody>\n",
       "</table>\n",
       "</div>"
      ],
      "text/plain": [
       "                    ID human_system_start_time       EVI\n",
       "0  135073_WSDA_SF_2015              2015-01-10  0.054429\n",
       "1  135073_WSDA_SF_2015              2015-01-20  0.051731"
      ]
     },
     "execution_count": 8,
     "metadata": {},
     "output_type": "execute_result"
    }
   ],
   "source": [
    "file_names = [\"SG_Walla2015_\" + VI_idx + \"_JFD.csv\", \"SG_AdamBenton2016_\" + VI_idx + \"_JFD.csv\", \n",
    "              \"SG_Grant2017_\" + VI_idx + \"_JFD.csv\", \"SG_FranklinYakima2018_\"+ VI_idx +\"_JFD.csv\"]\n",
    "\n",
    "data=pd.DataFrame()\n",
    "\n",
    "for file in file_names:\n",
    "    curr_file=pd.read_csv(data_dir + file)\n",
    "    curr_file['human_system_start_time'] = pd.to_datetime(curr_file['human_system_start_time'])\n",
    "    \n",
    "    # These data are for 3 years. The middle one is the correct one\n",
    "    all_years = sorted(curr_file.human_system_start_time.dt.year.unique())\n",
    "    if len(all_years)==3 or len(all_years)==2:\n",
    "        proper_year = all_years[1]\n",
    "    elif len(all_years)==1:\n",
    "        proper_year = all_years[0]\n",
    "\n",
    "    curr_file = curr_file[curr_file.human_system_start_time.dt.year==proper_year]\n",
    "    data=pd.concat([data, curr_file])\n",
    "\n",
    "data.reset_index(drop=True, inplace=True)\n",
    "data.head(2)"
   ]
  },
  {
   "cell_type": "code",
   "execution_count": 9,
   "id": "37829580",
   "metadata": {},
   "outputs": [],
   "source": [
    "ground_truth = data[data.ID.isin(list(ground_truth_labels.ID.unique()))].copy()"
   ]
  },
  {
   "cell_type": "markdown",
   "id": "53412288",
   "metadata": {},
   "source": [
    "# Toss small fields"
   ]
  },
  {
   "cell_type": "code",
   "execution_count": 10,
   "id": "37c61d2e",
   "metadata": {},
   "outputs": [
    {
     "name": "stdout",
     "output_type": "stream",
     "text": [
      "There are [1849] fields in total whose areaadds up to [85573.68].\n",
      "There are [1342] fields larger than 10 acres whose area adds up to [83430.79].\n"
     ]
    }
   ],
   "source": [
    "ground_truth_labels_extended = pd.merge(ground_truth_labels, meta, on=['ID'], how='left')\n",
    "ground_truth_labels = ground_truth_labels_extended[ground_truth_labels_extended.ExctAcr>=10].copy()\n",
    "ground_truth_labels.reset_index(drop=True, inplace=True)\n",
    "\n",
    "print (\"There are [{:.0f}] fields in total whose area\" \\\n",
    "        \"adds up to [{:.2f}].\".format(len(ground_truth_labels_extended), \\\n",
    "                                          ground_truth_labels_extended.ExctAcr.sum()))\n",
    "\n",
    "\n",
    "print (\"There are [{:.0f}] fields larger than 10 acres whose \"\\\n",
    "       \"area adds up to [{:.2f}].\".format(len(ground_truth_labels), \\\n",
    "                                              ground_truth_labels.ExctAcr.sum()))\n"
   ]
  },
  {
   "cell_type": "code",
   "execution_count": 11,
   "id": "ddf8f623",
   "metadata": {},
   "outputs": [],
   "source": [
    "ground_truth = ground_truth[ground_truth.ID.isin((list(meta_moreThan10Acr.ID)))].copy()\n",
    "ground_truth_labels = ground_truth_labels[ground_truth_labels.ID.isin((list(meta_moreThan10Acr.ID)))].copy()\n",
    "\n",
    "ground_truth.reset_index(drop=True, inplace=True)\n",
    "ground_truth_labels.reset_index(drop=True, inplace=True)"
   ]
  },
  {
   "cell_type": "markdown",
   "id": "e10a94e0",
   "metadata": {},
   "source": [
    "# Sort the order of time-series and experts' labels identically"
   ]
  },
  {
   "cell_type": "code",
   "execution_count": 12,
   "id": "886abeff",
   "metadata": {},
   "outputs": [
    {
     "name": "stdout",
     "output_type": "stream",
     "text": [
      "100048_WSDA_SF_2017\n",
      "100048_WSDA_SF_2017\n",
      "____________________________________\n",
      "99909_WSDA_SF_2017\n",
      "99909_WSDA_SF_2017\n",
      "____________________________________\n",
      "True\n"
     ]
    }
   ],
   "source": [
    "ground_truth.sort_values(by=[\"ID\", 'human_system_start_time'], inplace=True)\n",
    "ground_truth_labels.sort_values(by=[\"ID\"], inplace=True)\n",
    "\n",
    "ground_truth.reset_index(drop=True, inplace=True)\n",
    "ground_truth_labels.reset_index(drop=True, inplace=True)\n",
    "\n",
    "assert (len(ground_truth.ID.unique()) == len(ground_truth_labels.ID.unique()))\n",
    "\n",
    "print (list(ground_truth.ID)[0])\n",
    "print (list(ground_truth_labels.ID)[0])\n",
    "print (\"____________________________________\")\n",
    "print (list(ground_truth.ID)[-1])\n",
    "print (list(ground_truth_labels.ID)[-1])\n",
    "print (\"____________________________________\")\n",
    "print (list(ground_truth.ID.unique())==list(ground_truth_labels.ID.unique()))"
   ]
  },
  {
   "cell_type": "code",
   "execution_count": 13,
   "id": "ccc81de5",
   "metadata": {},
   "outputs": [
    {
     "data": {
      "text/html": [
       "<div>\n",
       "<style scoped>\n",
       "    .dataframe tbody tr th:only-of-type {\n",
       "        vertical-align: middle;\n",
       "    }\n",
       "\n",
       "    .dataframe tbody tr th {\n",
       "        vertical-align: top;\n",
       "    }\n",
       "\n",
       "    .dataframe thead th {\n",
       "        text-align: right;\n",
       "    }\n",
       "</style>\n",
       "<table border=\"1\" class=\"dataframe\">\n",
       "  <thead>\n",
       "    <tr style=\"text-align: right;\">\n",
       "      <th></th>\n",
       "      <th>ID</th>\n",
       "      <th>human_system_start_time</th>\n",
       "      <th>EVI</th>\n",
       "    </tr>\n",
       "  </thead>\n",
       "  <tbody>\n",
       "    <tr>\n",
       "      <th>0</th>\n",
       "      <td>100048_WSDA_SF_2017</td>\n",
       "      <td>2017-01-06</td>\n",
       "      <td>0.0</td>\n",
       "    </tr>\n",
       "    <tr>\n",
       "      <th>1</th>\n",
       "      <td>100048_WSDA_SF_2017</td>\n",
       "      <td>2017-01-16</td>\n",
       "      <td>0.0</td>\n",
       "    </tr>\n",
       "  </tbody>\n",
       "</table>\n",
       "</div>"
      ],
      "text/plain": [
       "                    ID human_system_start_time  EVI\n",
       "0  100048_WSDA_SF_2017              2017-01-06  0.0\n",
       "1  100048_WSDA_SF_2017              2017-01-16  0.0"
      ]
     },
     "execution_count": 13,
     "metadata": {},
     "output_type": "execute_result"
    }
   ],
   "source": [
    "ground_truth.head(2)"
   ]
  },
  {
   "cell_type": "code",
   "execution_count": 14,
   "id": "faf0a198",
   "metadata": {},
   "outputs": [
    {
     "data": {
      "text/html": [
       "<div>\n",
       "<style scoped>\n",
       "    .dataframe tbody tr th:only-of-type {\n",
       "        vertical-align: middle;\n",
       "    }\n",
       "\n",
       "    .dataframe tbody tr th {\n",
       "        vertical-align: top;\n",
       "    }\n",
       "\n",
       "    .dataframe thead th {\n",
       "        text-align: right;\n",
       "    }\n",
       "</style>\n",
       "<table border=\"1\" class=\"dataframe\">\n",
       "  <thead>\n",
       "    <tr style=\"text-align: right;\">\n",
       "      <th></th>\n",
       "      <th>ID</th>\n",
       "      <th>Vote</th>\n",
       "      <th>CropTyp</th>\n",
       "      <th>Irrigtn</th>\n",
       "      <th>DataSrc</th>\n",
       "      <th>Acres</th>\n",
       "      <th>ExctAcr</th>\n",
       "      <th>LstSrvD</th>\n",
       "      <th>county</th>\n",
       "    </tr>\n",
       "  </thead>\n",
       "  <tbody>\n",
       "    <tr>\n",
       "      <th>0</th>\n",
       "      <td>100048_WSDA_SF_2017</td>\n",
       "      <td>1</td>\n",
       "      <td>bean, green</td>\n",
       "      <td>rill</td>\n",
       "      <td>wsda</td>\n",
       "      <td>18</td>\n",
       "      <td>18.033240</td>\n",
       "      <td>2017/05/14</td>\n",
       "      <td>Grant</td>\n",
       "    </tr>\n",
       "    <tr>\n",
       "      <th>1</th>\n",
       "      <td>100081_WSDA_SF_2017</td>\n",
       "      <td>1</td>\n",
       "      <td>wheat</td>\n",
       "      <td>rill</td>\n",
       "      <td>wsda</td>\n",
       "      <td>16</td>\n",
       "      <td>15.959744</td>\n",
       "      <td>2017/08/09</td>\n",
       "      <td>Grant</td>\n",
       "    </tr>\n",
       "  </tbody>\n",
       "</table>\n",
       "</div>"
      ],
      "text/plain": [
       "                    ID  Vote      CropTyp Irrigtn DataSrc  Acres    ExctAcr  \\\n",
       "0  100048_WSDA_SF_2017     1  bean, green    rill    wsda     18  18.033240   \n",
       "1  100081_WSDA_SF_2017     1        wheat    rill    wsda     16  15.959744   \n",
       "\n",
       "      LstSrvD county  \n",
       "0  2017/05/14  Grant  \n",
       "1  2017/08/09  Grant  "
      ]
     },
     "execution_count": 14,
     "metadata": {},
     "output_type": "execute_result"
    }
   ],
   "source": [
    "ground_truth_labels.head(2)"
   ]
  },
  {
   "cell_type": "markdown",
   "id": "b73d1520",
   "metadata": {},
   "source": [
    "# Widen Ground Truth Table"
   ]
  },
  {
   "cell_type": "code",
   "execution_count": 15,
   "id": "3d022a78",
   "metadata": {},
   "outputs": [],
   "source": [
    "EVI_colnames = [VI_idx + \"_\" + str(ii) for ii in range(1, 37) ]\n",
    "columnNames = [\"ID\"] + EVI_colnames\n",
    "ground_truth_wide = pd.DataFrame(columns=columnNames, \n",
    "                                index=range(len(ground_truth.ID.unique())))\n",
    "ground_truth_wide[\"ID\"] = ground_truth.ID.unique()\n",
    "\n",
    "for an_ID in ground_truth.ID.unique():\n",
    "    curr_df = ground_truth[ground_truth.ID==an_ID]\n",
    "    \n",
    "    ground_truth_wide_indx = ground_truth_wide[ground_truth_wide.ID==an_ID].index\n",
    "    ground_truth_wide.loc[ground_truth_wide_indx, \"EVI_1\":\"EVI_36\"] = curr_df.EVI.values[:36]"
   ]
  },
  {
   "cell_type": "markdown",
   "id": "a7d81890",
   "metadata": {},
   "source": [
    "# Split Train and Test Set\n",
    "\n",
    "#### Make sure rows of ```ground_truth_allBands``` and ```ground_truth_labels``` are in the same order"
   ]
  },
  {
   "cell_type": "code",
   "execution_count": 16,
   "id": "1f78c0d6",
   "metadata": {},
   "outputs": [],
   "source": [
    "ground_truth_labels = ground_truth_labels.set_index('ID')\n",
    "ground_truth_labels = ground_truth_labels.reindex(index=ground_truth_wide['ID'])\n",
    "ground_truth_labels = ground_truth_labels.reset_index()"
   ]
  },
  {
   "cell_type": "code",
   "execution_count": 17,
   "id": "a84bd706",
   "metadata": {},
   "outputs": [
    {
     "name": "stdout",
     "output_type": "stream",
     "text": [
      "10.0708703567\n"
     ]
    },
    {
     "data": {
      "text/html": [
       "<div>\n",
       "<style scoped>\n",
       "    .dataframe tbody tr th:only-of-type {\n",
       "        vertical-align: middle;\n",
       "    }\n",
       "\n",
       "    .dataframe tbody tr th {\n",
       "        vertical-align: top;\n",
       "    }\n",
       "\n",
       "    .dataframe thead th {\n",
       "        text-align: right;\n",
       "    }\n",
       "</style>\n",
       "<table border=\"1\" class=\"dataframe\">\n",
       "  <thead>\n",
       "    <tr style=\"text-align: right;\">\n",
       "      <th></th>\n",
       "      <th>ID</th>\n",
       "      <th>Vote</th>\n",
       "      <th>CropTyp</th>\n",
       "      <th>Irrigtn</th>\n",
       "      <th>DataSrc</th>\n",
       "      <th>Acres</th>\n",
       "      <th>ExctAcr</th>\n",
       "      <th>LstSrvD</th>\n",
       "      <th>county</th>\n",
       "    </tr>\n",
       "  </thead>\n",
       "  <tbody>\n",
       "    <tr>\n",
       "      <th>0</th>\n",
       "      <td>100048_WSDA_SF_2017</td>\n",
       "      <td>1</td>\n",
       "      <td>bean, green</td>\n",
       "      <td>rill</td>\n",
       "      <td>wsda</td>\n",
       "      <td>18</td>\n",
       "      <td>18.033240</td>\n",
       "      <td>2017/05/14</td>\n",
       "      <td>Grant</td>\n",
       "    </tr>\n",
       "    <tr>\n",
       "      <th>1</th>\n",
       "      <td>100081_WSDA_SF_2017</td>\n",
       "      <td>1</td>\n",
       "      <td>wheat</td>\n",
       "      <td>rill</td>\n",
       "      <td>wsda</td>\n",
       "      <td>16</td>\n",
       "      <td>15.959744</td>\n",
       "      <td>2017/08/09</td>\n",
       "      <td>Grant</td>\n",
       "    </tr>\n",
       "  </tbody>\n",
       "</table>\n",
       "</div>"
      ],
      "text/plain": [
       "                    ID  Vote      CropTyp Irrigtn DataSrc  Acres    ExctAcr  \\\n",
       "0  100048_WSDA_SF_2017     1  bean, green    rill    wsda     18  18.033240   \n",
       "1  100081_WSDA_SF_2017     1        wheat    rill    wsda     16  15.959744   \n",
       "\n",
       "      LstSrvD county  \n",
       "0  2017/05/14  Grant  \n",
       "1  2017/08/09  Grant  "
      ]
     },
     "execution_count": 17,
     "metadata": {},
     "output_type": "execute_result"
    }
   ],
   "source": [
    "print (ground_truth_labels.ExctAcr.min())\n",
    "ground_truth_labels.head(2)"
   ]
  },
  {
   "cell_type": "code",
   "execution_count": 18,
   "id": "7d13dbc9",
   "metadata": {},
   "outputs": [
    {
     "data": {
      "text/html": [
       "<div>\n",
       "<style scoped>\n",
       "    .dataframe tbody tr th:only-of-type {\n",
       "        vertical-align: middle;\n",
       "    }\n",
       "\n",
       "    .dataframe tbody tr th {\n",
       "        vertical-align: top;\n",
       "    }\n",
       "\n",
       "    .dataframe thead th {\n",
       "        text-align: right;\n",
       "    }\n",
       "</style>\n",
       "<table border=\"1\" class=\"dataframe\">\n",
       "  <thead>\n",
       "    <tr style=\"text-align: right;\">\n",
       "      <th></th>\n",
       "      <th>ID</th>\n",
       "      <th>Vote</th>\n",
       "    </tr>\n",
       "  </thead>\n",
       "  <tbody>\n",
       "    <tr>\n",
       "      <th>0</th>\n",
       "      <td>100048_WSDA_SF_2017</td>\n",
       "      <td>1</td>\n",
       "    </tr>\n",
       "    <tr>\n",
       "      <th>1</th>\n",
       "      <td>100081_WSDA_SF_2017</td>\n",
       "      <td>1</td>\n",
       "    </tr>\n",
       "  </tbody>\n",
       "</table>\n",
       "</div>"
      ],
      "text/plain": [
       "                    ID  Vote\n",
       "0  100048_WSDA_SF_2017     1\n",
       "1  100081_WSDA_SF_2017     1"
      ]
     },
     "execution_count": 18,
     "metadata": {},
     "output_type": "execute_result"
    }
   ],
   "source": [
    "ground_truth_labels=ground_truth_labels[[\"ID\", \"Vote\"]]\n",
    "ground_truth_labels.head(2)"
   ]
  },
  {
   "cell_type": "code",
   "execution_count": 19,
   "id": "cfce7d95",
   "metadata": {},
   "outputs": [],
   "source": [
    "x_train_df, x_test_df, y_train_df, y_test_df = train_test_split(ground_truth_wide, \n",
    "                                                                ground_truth_labels, \n",
    "                                                                test_size=0.2, \n",
    "                                                                random_state=0,\n",
    "                                                                shuffle=True,\n",
    "                                                                stratify=ground_truth_labels.Vote.values)"
   ]
  },
  {
   "cell_type": "code",
   "execution_count": 20,
   "id": "7e955209",
   "metadata": {},
   "outputs": [
    {
     "data": {
      "text/html": [
       "<div>\n",
       "<style scoped>\n",
       "    .dataframe tbody tr th:only-of-type {\n",
       "        vertical-align: middle;\n",
       "    }\n",
       "\n",
       "    .dataframe tbody tr th {\n",
       "        vertical-align: top;\n",
       "    }\n",
       "\n",
       "    .dataframe thead th {\n",
       "        text-align: right;\n",
       "    }\n",
       "</style>\n",
       "<table border=\"1\" class=\"dataframe\">\n",
       "  <thead>\n",
       "    <tr style=\"text-align: right;\">\n",
       "      <th></th>\n",
       "      <th>ID</th>\n",
       "      <th>NDVI</th>\n",
       "      <th>EVI</th>\n",
       "      <th>system_start_time</th>\n",
       "      <th>human_system_start_time</th>\n",
       "    </tr>\n",
       "  </thead>\n",
       "  <tbody>\n",
       "    <tr>\n",
       "      <th>0</th>\n",
       "      <td>57621_WSDA_SF_2016</td>\n",
       "      <td>0.015873</td>\n",
       "      <td>0.031588</td>\n",
       "      <td>1.420137e+12</td>\n",
       "      <td>2015-01-01</td>\n",
       "    </tr>\n",
       "    <tr>\n",
       "      <th>1</th>\n",
       "      <td>55397_WSDA_SF_2016</td>\n",
       "      <td>0.019715</td>\n",
       "      <td>0.044850</td>\n",
       "      <td>1.420137e+12</td>\n",
       "      <td>2015-01-01</td>\n",
       "    </tr>\n",
       "  </tbody>\n",
       "</table>\n",
       "</div>"
      ],
      "text/plain": [
       "                   ID      NDVI       EVI  system_start_time  \\\n",
       "0  57621_WSDA_SF_2016  0.015873  0.031588       1.420137e+12   \n",
       "1  55397_WSDA_SF_2016  0.019715  0.044850       1.420137e+12   \n",
       "\n",
       "  human_system_start_time  \n",
       "0              2015-01-01  \n",
       "1              2015-01-01  "
      ]
     },
     "execution_count": 20,
     "metadata": {},
     "output_type": "execute_result"
    }
   ],
   "source": [
    "landsat_DF = landsat_DF[landsat_DF.ID.isin(list(y_test_df.ID))]\n",
    "landsat_DF = nc.add_human_start_time_by_system_start_time(landsat_DF)\n",
    "landsat_DF.reset_index(drop=True, inplace=True)\n",
    "landsat_DF.head(2)"
   ]
  },
  {
   "cell_type": "code",
   "execution_count": 21,
   "id": "6b8bc515",
   "metadata": {},
   "outputs": [
    {
     "data": {
      "text/html": [
       "<div>\n",
       "<style scoped>\n",
       "    .dataframe tbody tr th:only-of-type {\n",
       "        vertical-align: middle;\n",
       "    }\n",
       "\n",
       "    .dataframe tbody tr th {\n",
       "        vertical-align: top;\n",
       "    }\n",
       "\n",
       "    .dataframe thead th {\n",
       "        text-align: right;\n",
       "    }\n",
       "</style>\n",
       "<table border=\"1\" class=\"dataframe\">\n",
       "  <thead>\n",
       "    <tr style=\"text-align: right;\">\n",
       "      <th></th>\n",
       "      <th>EVI_1</th>\n",
       "      <th>EVI_2</th>\n",
       "      <th>EVI_3</th>\n",
       "      <th>EVI_4</th>\n",
       "      <th>EVI_5</th>\n",
       "      <th>EVI_6</th>\n",
       "      <th>EVI_7</th>\n",
       "      <th>EVI_8</th>\n",
       "      <th>EVI_9</th>\n",
       "      <th>EVI_10</th>\n",
       "      <th>...</th>\n",
       "      <th>EVI_27</th>\n",
       "      <th>EVI_28</th>\n",
       "      <th>EVI_29</th>\n",
       "      <th>EVI_30</th>\n",
       "      <th>EVI_31</th>\n",
       "      <th>EVI_32</th>\n",
       "      <th>EVI_33</th>\n",
       "      <th>EVI_34</th>\n",
       "      <th>EVI_35</th>\n",
       "      <th>EVI_36</th>\n",
       "    </tr>\n",
       "  </thead>\n",
       "  <tbody>\n",
       "    <tr>\n",
       "      <th>1221</th>\n",
       "      <td>0.050031</td>\n",
       "      <td>0.072037</td>\n",
       "      <td>0.096226</td>\n",
       "      <td>0.105331</td>\n",
       "      <td>0.125524</td>\n",
       "      <td>0.162038</td>\n",
       "      <td>0.204393</td>\n",
       "      <td>0.27369</td>\n",
       "      <td>0.351134</td>\n",
       "      <td>0.440633</td>\n",
       "      <td>...</td>\n",
       "      <td>0.276484</td>\n",
       "      <td>0.279119</td>\n",
       "      <td>0.264549</td>\n",
       "      <td>0.246325</td>\n",
       "      <td>0.228779</td>\n",
       "      <td>0.221856</td>\n",
       "      <td>0.211519</td>\n",
       "      <td>0.188798</td>\n",
       "      <td>0.161025</td>\n",
       "      <td>0.138236</td>\n",
       "    </tr>\n",
       "    <tr>\n",
       "      <th>1334</th>\n",
       "      <td>0.109233</td>\n",
       "      <td>0.05194</td>\n",
       "      <td>0.015107</td>\n",
       "      <td>0.035937</td>\n",
       "      <td>0.051805</td>\n",
       "      <td>0.070049</td>\n",
       "      <td>0.089881</td>\n",
       "      <td>0.114439</td>\n",
       "      <td>0.136557</td>\n",
       "      <td>0.137952</td>\n",
       "      <td>...</td>\n",
       "      <td>0.288526</td>\n",
       "      <td>0.249698</td>\n",
       "      <td>0.209333</td>\n",
       "      <td>0.148144</td>\n",
       "      <td>0.084953</td>\n",
       "      <td>0.05265</td>\n",
       "      <td>0.056644</td>\n",
       "      <td>0.094844</td>\n",
       "      <td>0.132492</td>\n",
       "      <td>0.132921</td>\n",
       "    </tr>\n",
       "  </tbody>\n",
       "</table>\n",
       "<p>2 rows × 36 columns</p>\n",
       "</div>"
      ],
      "text/plain": [
       "         EVI_1     EVI_2     EVI_3     EVI_4     EVI_5     EVI_6     EVI_7  \\\n",
       "1221  0.050031  0.072037  0.096226  0.105331  0.125524  0.162038  0.204393   \n",
       "1334  0.109233   0.05194  0.015107  0.035937  0.051805  0.070049  0.089881   \n",
       "\n",
       "         EVI_8     EVI_9    EVI_10  ...    EVI_27    EVI_28    EVI_29  \\\n",
       "1221   0.27369  0.351134  0.440633  ...  0.276484  0.279119  0.264549   \n",
       "1334  0.114439  0.136557  0.137952  ...  0.288526  0.249698  0.209333   \n",
       "\n",
       "        EVI_30    EVI_31    EVI_32    EVI_33    EVI_34    EVI_35    EVI_36  \n",
       "1221  0.246325  0.228779  0.221856  0.211519  0.188798  0.161025  0.138236  \n",
       "1334  0.148144  0.084953   0.05265  0.056644  0.094844  0.132492  0.132921  \n",
       "\n",
       "[2 rows x 36 columns]"
      ]
     },
     "execution_count": 21,
     "metadata": {},
     "output_type": "execute_result"
    }
   ],
   "source": [
    "x_test_df.iloc[:, 1:].head(2)"
   ]
  },
  {
   "cell_type": "code",
   "execution_count": 22,
   "id": "1b9f2067",
   "metadata": {},
   "outputs": [
    {
     "data": {
      "text/html": [
       "<div>\n",
       "<style scoped>\n",
       "    .dataframe tbody tr th:only-of-type {\n",
       "        vertical-align: middle;\n",
       "    }\n",
       "\n",
       "    .dataframe tbody tr th {\n",
       "        vertical-align: top;\n",
       "    }\n",
       "\n",
       "    .dataframe thead th {\n",
       "        text-align: right;\n",
       "    }\n",
       "</style>\n",
       "<table border=\"1\" class=\"dataframe\">\n",
       "  <thead>\n",
       "    <tr style=\"text-align: right;\">\n",
       "      <th></th>\n",
       "      <th>ID</th>\n",
       "      <th>EVI_1</th>\n",
       "      <th>EVI_2</th>\n",
       "      <th>EVI_3</th>\n",
       "      <th>EVI_4</th>\n",
       "      <th>EVI_5</th>\n",
       "      <th>EVI_6</th>\n",
       "      <th>EVI_7</th>\n",
       "      <th>EVI_8</th>\n",
       "      <th>EVI_9</th>\n",
       "      <th>...</th>\n",
       "      <th>EVI_27</th>\n",
       "      <th>EVI_28</th>\n",
       "      <th>EVI_29</th>\n",
       "      <th>EVI_30</th>\n",
       "      <th>EVI_31</th>\n",
       "      <th>EVI_32</th>\n",
       "      <th>EVI_33</th>\n",
       "      <th>EVI_34</th>\n",
       "      <th>EVI_35</th>\n",
       "      <th>EVI_36</th>\n",
       "    </tr>\n",
       "  </thead>\n",
       "  <tbody>\n",
       "    <tr>\n",
       "      <th>1221</th>\n",
       "      <td>7667_WSDA_SF_2016</td>\n",
       "      <td>0.050031</td>\n",
       "      <td>0.072037</td>\n",
       "      <td>0.096226</td>\n",
       "      <td>0.105331</td>\n",
       "      <td>0.125524</td>\n",
       "      <td>0.162038</td>\n",
       "      <td>0.204393</td>\n",
       "      <td>0.27369</td>\n",
       "      <td>0.351134</td>\n",
       "      <td>...</td>\n",
       "      <td>0.276484</td>\n",
       "      <td>0.279119</td>\n",
       "      <td>0.264549</td>\n",
       "      <td>0.246325</td>\n",
       "      <td>0.228779</td>\n",
       "      <td>0.221856</td>\n",
       "      <td>0.211519</td>\n",
       "      <td>0.188798</td>\n",
       "      <td>0.161025</td>\n",
       "      <td>0.138236</td>\n",
       "    </tr>\n",
       "    <tr>\n",
       "      <th>1334</th>\n",
       "      <td>99748_WSDA_SF_2017</td>\n",
       "      <td>0.109233</td>\n",
       "      <td>0.05194</td>\n",
       "      <td>0.015107</td>\n",
       "      <td>0.035937</td>\n",
       "      <td>0.051805</td>\n",
       "      <td>0.070049</td>\n",
       "      <td>0.089881</td>\n",
       "      <td>0.114439</td>\n",
       "      <td>0.136557</td>\n",
       "      <td>...</td>\n",
       "      <td>0.288526</td>\n",
       "      <td>0.249698</td>\n",
       "      <td>0.209333</td>\n",
       "      <td>0.148144</td>\n",
       "      <td>0.084953</td>\n",
       "      <td>0.05265</td>\n",
       "      <td>0.056644</td>\n",
       "      <td>0.094844</td>\n",
       "      <td>0.132492</td>\n",
       "      <td>0.132921</td>\n",
       "    </tr>\n",
       "  </tbody>\n",
       "</table>\n",
       "<p>2 rows × 37 columns</p>\n",
       "</div>"
      ],
      "text/plain": [
       "                      ID     EVI_1     EVI_2     EVI_3     EVI_4     EVI_5  \\\n",
       "1221   7667_WSDA_SF_2016  0.050031  0.072037  0.096226  0.105331  0.125524   \n",
       "1334  99748_WSDA_SF_2017  0.109233   0.05194  0.015107  0.035937  0.051805   \n",
       "\n",
       "         EVI_6     EVI_7     EVI_8     EVI_9  ...    EVI_27    EVI_28  \\\n",
       "1221  0.162038  0.204393   0.27369  0.351134  ...  0.276484  0.279119   \n",
       "1334  0.070049  0.089881  0.114439  0.136557  ...  0.288526  0.249698   \n",
       "\n",
       "        EVI_29    EVI_30    EVI_31    EVI_32    EVI_33    EVI_34    EVI_35  \\\n",
       "1221  0.264549  0.246325  0.228779  0.221856  0.211519  0.188798  0.161025   \n",
       "1334  0.209333  0.148144  0.084953   0.05265  0.056644  0.094844  0.132492   \n",
       "\n",
       "        EVI_36  \n",
       "1221  0.138236  \n",
       "1334  0.132921  \n",
       "\n",
       "[2 rows x 37 columns]"
      ]
     },
     "execution_count": 22,
     "metadata": {},
     "output_type": "execute_result"
    }
   ],
   "source": [
    "x_test_df.head(2)"
   ]
  },
  {
   "cell_type": "markdown",
   "id": "9bf210ff",
   "metadata": {},
   "source": [
    "# Read SVM SG From Disk"
   ]
  },
  {
   "cell_type": "code",
   "execution_count": 23,
   "id": "cec77f5c",
   "metadata": {},
   "outputs": [],
   "source": [
    "model_dir = \"/Users/hn/Documents/01_research_data/NASA/ML_Models/\"\n",
    "filename = model_dir + 'SVM_classifier_balanced_SGEVI_00.sav'\n",
    "SVM_classifier_balanced_00 = pickle.load(open(filename, 'rb'))\n",
    "\n",
    "# filename = model_dir + 'SVM_classifier_NoneWeight_SGEVI_00.sav'\n",
    "# SVM_classifier_NoneWeight_00 = pickle.load(open(filename, 'rb'))"
   ]
  },
  {
   "cell_type": "markdown",
   "id": "154a93cf",
   "metadata": {},
   "source": [
    "#### Predict SVMs on SG data"
   ]
  },
  {
   "cell_type": "code",
   "execution_count": 24,
   "id": "903d4a06",
   "metadata": {},
   "outputs": [],
   "source": [
    "# SVM_classifier_NoneWeight_00_predictions = SVM_classifier_NoneWeight_00.predict(x_test_df.iloc[:, 1:])\n",
    "SVM_classifier_balanced_00_predictions = SVM_classifier_balanced_00.predict(x_test_df.iloc[:, 1:])"
   ]
  },
  {
   "cell_type": "markdown",
   "id": "54b60a70",
   "metadata": {},
   "source": [
    "#### Form Table of Mistakes of SVM"
   ]
  },
  {
   "cell_type": "code",
   "execution_count": 25,
   "id": "9aef4ee5",
   "metadata": {},
   "outputs": [
    {
     "data": {
      "text/html": [
       "<div>\n",
       "<style scoped>\n",
       "    .dataframe tbody tr th:only-of-type {\n",
       "        vertical-align: middle;\n",
       "    }\n",
       "\n",
       "    .dataframe tbody tr th {\n",
       "        vertical-align: top;\n",
       "    }\n",
       "\n",
       "    .dataframe thead th {\n",
       "        text-align: right;\n",
       "    }\n",
       "</style>\n",
       "<table border=\"1\" class=\"dataframe\">\n",
       "  <thead>\n",
       "    <tr style=\"text-align: right;\">\n",
       "      <th></th>\n",
       "      <th>ID</th>\n",
       "      <th>Vote</th>\n",
       "      <th>prediction</th>\n",
       "    </tr>\n",
       "  </thead>\n",
       "  <tbody>\n",
       "    <tr>\n",
       "      <th>1221</th>\n",
       "      <td>7667_WSDA_SF_2016</td>\n",
       "      <td>1</td>\n",
       "      <td>1</td>\n",
       "    </tr>\n",
       "    <tr>\n",
       "      <th>1334</th>\n",
       "      <td>99748_WSDA_SF_2017</td>\n",
       "      <td>1</td>\n",
       "      <td>1</td>\n",
       "    </tr>\n",
       "  </tbody>\n",
       "</table>\n",
       "</div>"
      ],
      "text/plain": [
       "                      ID  Vote  prediction\n",
       "1221   7667_WSDA_SF_2016     1           1\n",
       "1334  99748_WSDA_SF_2017     1           1"
      ]
     },
     "execution_count": 25,
     "metadata": {},
     "output_type": "execute_result"
    }
   ],
   "source": [
    "SVM_balanced_y_test_df=y_test_df.copy()\n",
    "SVM_balanced_y_test_df[\"prediction\"] = list(SVM_classifier_balanced_00_predictions)\n",
    "SVM_balanced_y_test_df.head(2)"
   ]
  },
  {
   "cell_type": "code",
   "execution_count": 26,
   "id": "48bc9320",
   "metadata": {},
   "outputs": [],
   "source": [
    "# SVM_None_y_test_df=y_test_df.copy()\n",
    "# SVM_None_y_test_df[\"prediction\"] = list(SVM_classifier_NoneWeight_00_predictions)\n",
    "# SVM_None_y_test_df.head(2)"
   ]
  },
  {
   "cell_type": "markdown",
   "id": "f8b9d512",
   "metadata": {},
   "source": [
    "#### Write down the test result on the disk"
   ]
  },
  {
   "cell_type": "code",
   "execution_count": 27,
   "id": "bc2c72a8",
   "metadata": {},
   "outputs": [],
   "source": [
    "test_result_dir = \"/Users/hn/Documents/01_research_data/NASA/ML_data/test_results/\"\n",
    "os.makedirs(test_result_dir, exist_ok=True)"
   ]
  },
  {
   "cell_type": "code",
   "execution_count": 28,
   "id": "838612da",
   "metadata": {},
   "outputs": [],
   "source": [
    "out_name=test_result_dir+ \"SG_SVM_balancedWeight_Expert20Percent_test\"+VI_idx+\".csv\"\n",
    "SVM_balanced_y_test_df.to_csv(out_name, index = False)"
   ]
  },
  {
   "cell_type": "code",
   "execution_count": 29,
   "id": "a6af419d",
   "metadata": {},
   "outputs": [],
   "source": [
    "# out_name=test_result_dir+ \"SG_SVM_NoneWeight_y_test.csv\"\n",
    "# SVM_None_y_test_df.to_csv(out_name, index = False)"
   ]
  },
  {
   "cell_type": "markdown",
   "id": "1310e5f4",
   "metadata": {},
   "source": [
    "#### Print the mistakes crop types and plot them"
   ]
  },
  {
   "cell_type": "code",
   "execution_count": 30,
   "id": "7f7881a0",
   "metadata": {},
   "outputs": [],
   "source": [
    "# SVM_None_y_test_df = pd.merge(SVM_None_y_test_df, meta, on=['ID'], how='left')\n",
    "SVM_balanced_y_test_df = pd.merge(SVM_balanced_y_test_df, meta, on=['ID'], how='left')"
   ]
  },
  {
   "cell_type": "code",
   "execution_count": null,
   "id": "4cb1d36f",
   "metadata": {},
   "outputs": [],
   "source": []
  },
  {
   "cell_type": "code",
   "execution_count": 31,
   "id": "724a9476",
   "metadata": {},
   "outputs": [],
   "source": [
    "SVM_balanced_y_test_df_A2_P1 = SVM_balanced_y_test_df[SVM_balanced_y_test_df.Vote==2]\n",
    "SVM_balanced_y_test_df_A2_P1 = SVM_balanced_y_test_df_A2_P1[SVM_balanced_y_test_df_A2_P1.prediction==1]\n",
    "\n",
    "SVM_balanced_y_test_df_A1_P2 = SVM_balanced_y_test_df[SVM_balanced_y_test_df.Vote==1]\n",
    "SVM_balanced_y_test_df_A1_P2 = SVM_balanced_y_test_df_A1_P2[SVM_balanced_y_test_df_A1_P2.prediction==2]"
   ]
  },
  {
   "cell_type": "code",
   "execution_count": 32,
   "id": "fe32320d",
   "metadata": {},
   "outputs": [
    {
     "data": {
      "text/plain": [
       "['bean, dry',\n",
       " 'canola',\n",
       " 'corn, field',\n",
       " 'corn, field',\n",
       " 'grass hay',\n",
       " 'potato',\n",
       " 'wheat']"
      ]
     },
     "execution_count": 32,
     "metadata": {},
     "output_type": "execute_result"
    }
   ],
   "source": [
    "sorted(SVM_balanced_y_test_df_A1_P2.CropTyp)"
   ]
  },
  {
   "cell_type": "code",
   "execution_count": 33,
   "id": "cf05c8fb",
   "metadata": {},
   "outputs": [
    {
     "data": {
      "text/html": [
       "<div>\n",
       "<style scoped>\n",
       "    .dataframe tbody tr th:only-of-type {\n",
       "        vertical-align: middle;\n",
       "    }\n",
       "\n",
       "    .dataframe tbody tr th {\n",
       "        vertical-align: top;\n",
       "    }\n",
       "\n",
       "    .dataframe thead th {\n",
       "        text-align: right;\n",
       "    }\n",
       "</style>\n",
       "<table border=\"1\" class=\"dataframe\">\n",
       "  <thead>\n",
       "    <tr style=\"text-align: right;\">\n",
       "      <th></th>\n",
       "      <th>ID</th>\n",
       "      <th>Vote</th>\n",
       "      <th>prediction</th>\n",
       "      <th>CropTyp</th>\n",
       "      <th>Irrigtn</th>\n",
       "      <th>DataSrc</th>\n",
       "      <th>Acres</th>\n",
       "      <th>ExctAcr</th>\n",
       "      <th>LstSrvD</th>\n",
       "      <th>county</th>\n",
       "    </tr>\n",
       "  </thead>\n",
       "  <tbody>\n",
       "    <tr>\n",
       "      <th>3</th>\n",
       "      <td>99471_WSDA_SF_2017</td>\n",
       "      <td>1</td>\n",
       "      <td>2</td>\n",
       "      <td>wheat</td>\n",
       "      <td>center pivot</td>\n",
       "      <td>wsda</td>\n",
       "      <td>62</td>\n",
       "      <td>62.355066</td>\n",
       "      <td>2017/07/11</td>\n",
       "      <td>Grant</td>\n",
       "    </tr>\n",
       "    <tr>\n",
       "      <th>98</th>\n",
       "      <td>34906_WSDA_SF_2018</td>\n",
       "      <td>1</td>\n",
       "      <td>2</td>\n",
       "      <td>corn, field</td>\n",
       "      <td>rill</td>\n",
       "      <td>wsda</td>\n",
       "      <td>34</td>\n",
       "      <td>33.537047</td>\n",
       "      <td>2018/10/01 00:00:00</td>\n",
       "      <td>Yakima</td>\n",
       "    </tr>\n",
       "    <tr>\n",
       "      <th>113</th>\n",
       "      <td>98404_WSDA_SF_2017</td>\n",
       "      <td>1</td>\n",
       "      <td>2</td>\n",
       "      <td>bean, dry</td>\n",
       "      <td>center pivot</td>\n",
       "      <td>wsda</td>\n",
       "      <td>58</td>\n",
       "      <td>57.889176</td>\n",
       "      <td>2017/08/28</td>\n",
       "      <td>Grant</td>\n",
       "    </tr>\n",
       "    <tr>\n",
       "      <th>183</th>\n",
       "      <td>101372_WSDA_SF_2017</td>\n",
       "      <td>1</td>\n",
       "      <td>2</td>\n",
       "      <td>canola</td>\n",
       "      <td>center pivot</td>\n",
       "      <td>wsda</td>\n",
       "      <td>80</td>\n",
       "      <td>80.255504</td>\n",
       "      <td>2017/10/16</td>\n",
       "      <td>Grant</td>\n",
       "    </tr>\n",
       "    <tr>\n",
       "      <th>195</th>\n",
       "      <td>56829_WSDA_SF_2016</td>\n",
       "      <td>1</td>\n",
       "      <td>2</td>\n",
       "      <td>grass hay</td>\n",
       "      <td>center pivot</td>\n",
       "      <td>wsda</td>\n",
       "      <td>13</td>\n",
       "      <td>13.015093</td>\n",
       "      <td>2016/10/11 00:00:00</td>\n",
       "      <td>Adams</td>\n",
       "    </tr>\n",
       "    <tr>\n",
       "      <th>235</th>\n",
       "      <td>107628_WSDA_SF_2018</td>\n",
       "      <td>1</td>\n",
       "      <td>2</td>\n",
       "      <td>potato</td>\n",
       "      <td>center pivot</td>\n",
       "      <td>wsda</td>\n",
       "      <td>149</td>\n",
       "      <td>149.024361</td>\n",
       "      <td>2018/09/10 00:00:00</td>\n",
       "      <td>Franklin</td>\n",
       "    </tr>\n",
       "    <tr>\n",
       "      <th>252</th>\n",
       "      <td>99643_WSDA_SF_2018</td>\n",
       "      <td>1</td>\n",
       "      <td>2</td>\n",
       "      <td>corn, field</td>\n",
       "      <td>center pivot</td>\n",
       "      <td>wsda</td>\n",
       "      <td>37</td>\n",
       "      <td>36.938837</td>\n",
       "      <td>2018/06/06 00:00:00</td>\n",
       "      <td>Franklin</td>\n",
       "    </tr>\n",
       "  </tbody>\n",
       "</table>\n",
       "</div>"
      ],
      "text/plain": [
       "                      ID  Vote  prediction      CropTyp       Irrigtn DataSrc  \\\n",
       "3     99471_WSDA_SF_2017     1           2        wheat  center pivot    wsda   \n",
       "98    34906_WSDA_SF_2018     1           2  corn, field          rill    wsda   \n",
       "113   98404_WSDA_SF_2017     1           2    bean, dry  center pivot    wsda   \n",
       "183  101372_WSDA_SF_2017     1           2       canola  center pivot    wsda   \n",
       "195   56829_WSDA_SF_2016     1           2    grass hay  center pivot    wsda   \n",
       "235  107628_WSDA_SF_2018     1           2       potato  center pivot    wsda   \n",
       "252   99643_WSDA_SF_2018     1           2  corn, field  center pivot    wsda   \n",
       "\n",
       "     Acres     ExctAcr              LstSrvD    county  \n",
       "3       62   62.355066           2017/07/11     Grant  \n",
       "98      34   33.537047  2018/10/01 00:00:00    Yakima  \n",
       "113     58   57.889176           2017/08/28     Grant  \n",
       "183     80   80.255504           2017/10/16     Grant  \n",
       "195     13   13.015093  2016/10/11 00:00:00     Adams  \n",
       "235    149  149.024361  2018/09/10 00:00:00  Franklin  \n",
       "252     37   36.938837  2018/06/06 00:00:00  Franklin  "
      ]
     },
     "execution_count": 33,
     "metadata": {},
     "output_type": "execute_result"
    }
   ],
   "source": [
    "SVM_balanced_y_test_df_A1_P2"
   ]
  },
  {
   "cell_type": "markdown",
   "id": "6b98e593",
   "metadata": {},
   "source": [
    "#### Plot SVM mistakes"
   ]
  },
  {
   "cell_type": "code",
   "execution_count": 34,
   "id": "15014a8a",
   "metadata": {},
   "outputs": [],
   "source": [
    "size = 15\n",
    "title_FontSize = 8\n",
    "legend_FontSize = 8\n",
    "tick_FontSize = 12\n",
    "label_FontSize = 14\n",
    "\n",
    "params = {'legend.fontsize': 15, # medium, large\n",
    "          # 'figure.figsize': (6, 4),\n",
    "          'axes.labelsize': size,\n",
    "          'axes.titlesize': size*1.2,\n",
    "          'xtick.labelsize': size, #  * 0.75\n",
    "          'ytick.labelsize': size, #  * 0.75\n",
    "          'axes.titlepad': 10}\n",
    "\n",
    "#\n",
    "#  Once set, you cannot change them, unless restart the notebook\n",
    "#\n",
    "plt.rc('font', family = 'Palatino')\n",
    "plt.rcParams['xtick.bottom'] = True\n",
    "plt.rcParams['ytick.left'] = True\n",
    "plt.rcParams['xtick.labelbottom'] = True\n",
    "plt.rcParams['ytick.labelleft'] = True\n",
    "plt.rcParams.update(params)\n",
    "# pylab.rcParams.update(params)\n",
    "# plt.rc('text', usetex=True)\n",
    "\n",
    "def plot_oneColumn_CropTitle(dt, raw_dt, titlee, _label = \"raw\", idx=\"EVI\", _color=\"dodgerblue\"):\n",
    "    \n",
    "    fig, ax = plt.subplots(1, 1, figsize=(15, 4), sharex=False, sharey='col', # sharex=True, sharey=True,\n",
    "                           gridspec_kw={'hspace': 0.35, 'wspace': .05});\n",
    "    ax.grid(True);\n",
    "    ax.plot(dt['human_system_start_time'], dt[idx], linewidth=4, color=_color, label=_label) \n",
    "\n",
    "    ax.scatter(raw_dt['human_system_start_time'], raw_dt[idx], s=20, c=\"r\", label=\"raw\")\n",
    "\n",
    "    ax.set_title(titlee)\n",
    "    ax.set_ylabel(idx) # , labelpad=20); # fontsize = label_FontSize,\n",
    "    ax.tick_params(axis='y', which='major') #, labelsize = tick_FontSize)\n",
    "    ax.tick_params(axis='x', which='major') #, labelsize = tick_FontSize) # \n",
    "    ax.legend(loc=\"upper right\");\n",
    "    plt.yticks(np.arange(0, 1.05, 0.2))\n",
    "    # ax.xaxis.set_major_locator(mdates.YearLocator(1))\n",
    "    ax.set_ylim(-0.1, 1.05)"
   ]
  },
  {
   "cell_type": "code",
   "execution_count": 35,
   "id": "bd95513d",
   "metadata": {},
   "outputs": [],
   "source": [
    "test_result_dir = \"/Users/hn/Documents/01_research_data/NASA/ML_data/test_results/\"\n",
    "os.makedirs(test_result_dir, exist_ok=True)"
   ]
  },
  {
   "cell_type": "code",
   "execution_count": null,
   "id": "f859fcae",
   "metadata": {},
   "outputs": [],
   "source": []
  },
  {
   "cell_type": "code",
   "execution_count": 36,
   "id": "1dedfd56",
   "metadata": {},
   "outputs": [],
   "source": [
    "for anID in list(SVM_balanced_y_test_df_A1_P2.ID):\n",
    "    curr_dt = ground_truth[ground_truth.ID==anID].copy()\n",
    "    curr_meta = meta[meta.ID==anID].copy()\n",
    "    \n",
    "    curr_year=curr_dt.human_system_start_time.dt.year.unique()[0]\n",
    "    curr_raw = landsat_DF[landsat_DF.ID==anID].copy()\n",
    "    curr_raw=curr_raw[curr_raw.human_system_start_time.dt.year==curr_year]\n",
    "    \n",
    "    curr_vote = SVM_balanced_y_test_df_A1_P2[SVM_balanced_y_test_df_A1_P2.ID==anID].Vote.values[0]\n",
    "    curr_pred = SVM_balanced_y_test_df_A1_P2[SVM_balanced_y_test_df_A1_P2.ID==anID].prediction.values[0]\n",
    "    \n",
    "    title_ = list(curr_meta.CropTyp)[0] + \" (\" + str(list(curr_meta.Acres)[0]) + \" acre), \"+\\\n",
    "             \"Experts' vote: \" + str(curr_vote) + \", prediction: \" + str(curr_pred)\n",
    "    \n",
    "    curr_plt = plot_oneColumn_CropTitle(dt=curr_dt, raw_dt=curr_raw, \n",
    "                                        titlee=title_, _label = \"EVI (5-step smoothed)\")\n",
    "\n",
    "    plot_path = test_result_dir + \"SG_SVM_balanced_20PercentExpertTest_plots_A1_P2/\"\n",
    "    os.makedirs(plot_path, exist_ok=True)\n",
    "    fig_name = plot_path + anID + '.pdf'\n",
    "    plt.savefig(fname = fig_name, dpi=400, bbox_inches='tight')\n",
    "    plt.close('all')\n",
    "    \n",
    "    \n",
    "for anID in list(SVM_balanced_y_test_df_A2_P1.ID):\n",
    "    curr_dt = ground_truth[ground_truth.ID==anID].copy()\n",
    "    curr_meta = meta[meta.ID==anID].copy()\n",
    "    \n",
    "    curr_year=curr_dt.human_system_start_time.dt.year.unique()[0]\n",
    "    curr_raw = landsat_DF[landsat_DF.ID==anID].copy()\n",
    "    curr_raw=curr_raw[curr_raw.human_system_start_time.dt.year==curr_year]    \n",
    "    \n",
    "    curr_vote = SVM_balanced_y_test_df_A2_P1[SVM_balanced_y_test_df_A2_P1.ID==anID].Vote.values[0]\n",
    "    curr_pred = SVM_balanced_y_test_df_A2_P1[SVM_balanced_y_test_df_A2_P1.ID==anID].prediction.values[0]\n",
    "    title_ = list(curr_meta.CropTyp)[0] + \" (\" + str(list(curr_meta.Acres)[0]) + \" acre), \"+\\\n",
    "             \"Experts' vote: \" + str(curr_vote) + \", prediction: \" + str(curr_pred)\n",
    "    \n",
    "    curr_plt = plot_oneColumn_CropTitle(dt=curr_dt, raw_dt=curr_raw, titlee=title_, \n",
    "                                        _label = \"EVI (5-step smoothed)\")\n",
    "    \n",
    "    plot_path = test_result_dir + \"SG_SVM_balanced_20PercentExpertTest_plots_A2_P1/\"\n",
    "    os.makedirs(plot_path, exist_ok=True)\n",
    "    fig_name = plot_path + anID + '.pdf'\n",
    "    plt.savefig(fname = fig_name, dpi=400, bbox_inches='tight')\n",
    "    plt.close('all')\n"
   ]
  },
  {
   "cell_type": "markdown",
   "id": "b8e695e8",
   "metadata": {},
   "source": [
    "# Random Forest"
   ]
  },
  {
   "cell_type": "code",
   "execution_count": 39,
   "id": "24e86767",
   "metadata": {},
   "outputs": [],
   "source": [
    "filename = model_dir + 'SGEVI_forest_grid_1.sav'\n",
    "forest_grid_1_SG = pickle.load(open(filename, 'rb'))"
   ]
  },
  {
   "cell_type": "code",
   "execution_count": 40,
   "id": "6444b40c",
   "metadata": {},
   "outputs": [
    {
     "data": {
      "text/html": [
       "<div>\n",
       "<style scoped>\n",
       "    .dataframe tbody tr th:only-of-type {\n",
       "        vertical-align: middle;\n",
       "    }\n",
       "\n",
       "    .dataframe tbody tr th {\n",
       "        vertical-align: top;\n",
       "    }\n",
       "\n",
       "    .dataframe thead th {\n",
       "        text-align: right;\n",
       "    }\n",
       "</style>\n",
       "<table border=\"1\" class=\"dataframe\">\n",
       "  <thead>\n",
       "    <tr style=\"text-align: right;\">\n",
       "      <th></th>\n",
       "      <th>ID</th>\n",
       "      <th>Vote</th>\n",
       "      <th>prediction</th>\n",
       "    </tr>\n",
       "  </thead>\n",
       "  <tbody>\n",
       "    <tr>\n",
       "      <th>1221</th>\n",
       "      <td>7667_WSDA_SF_2016</td>\n",
       "      <td>1</td>\n",
       "      <td>1</td>\n",
       "    </tr>\n",
       "    <tr>\n",
       "      <th>1334</th>\n",
       "      <td>99748_WSDA_SF_2017</td>\n",
       "      <td>1</td>\n",
       "      <td>1</td>\n",
       "    </tr>\n",
       "  </tbody>\n",
       "</table>\n",
       "</div>"
      ],
      "text/plain": [
       "                      ID  Vote  prediction\n",
       "1221   7667_WSDA_SF_2016     1           1\n",
       "1334  99748_WSDA_SF_2017     1           1"
      ]
     },
     "execution_count": 40,
     "metadata": {},
     "output_type": "execute_result"
    }
   ],
   "source": [
    "forest_grid_1_predictions = forest_grid_1_SG.predict(x_test_df.iloc[:, 1:])\n",
    "forest_grid_1_y_test_df=y_test_df.copy()\n",
    "forest_grid_1_y_test_df[\"prediction\"]=list(forest_grid_1_predictions)\n",
    "forest_grid_1_y_test_df.head(2)"
   ]
  },
  {
   "cell_type": "code",
   "execution_count": null,
   "id": "66ac1b2a",
   "metadata": {},
   "outputs": [],
   "source": []
  },
  {
   "cell_type": "code",
   "execution_count": 41,
   "id": "78e5e7cd",
   "metadata": {},
   "outputs": [
    {
     "data": {
      "text/html": [
       "<div>\n",
       "<style scoped>\n",
       "    .dataframe tbody tr th:only-of-type {\n",
       "        vertical-align: middle;\n",
       "    }\n",
       "\n",
       "    .dataframe tbody tr th {\n",
       "        vertical-align: top;\n",
       "    }\n",
       "\n",
       "    .dataframe thead th {\n",
       "        text-align: right;\n",
       "    }\n",
       "</style>\n",
       "<table border=\"1\" class=\"dataframe\">\n",
       "  <thead>\n",
       "    <tr style=\"text-align: right;\">\n",
       "      <th></th>\n",
       "      <th>None</th>\n",
       "      <th>Predict_Single</th>\n",
       "      <th>Predict_Double</th>\n",
       "    </tr>\n",
       "  </thead>\n",
       "  <tbody>\n",
       "    <tr>\n",
       "      <th>0</th>\n",
       "      <td>Actual_Single</td>\n",
       "      <td>212</td>\n",
       "      <td>7</td>\n",
       "    </tr>\n",
       "    <tr>\n",
       "      <th>1</th>\n",
       "      <td>Actual_Double</td>\n",
       "      <td>12</td>\n",
       "      <td>38</td>\n",
       "    </tr>\n",
       "  </tbody>\n",
       "</table>\n",
       "</div>"
      ],
      "text/plain": [
       "            None  Predict_Single  Predict_Double\n",
       "0  Actual_Single             212               7\n",
       "1  Actual_Double              12              38"
      ]
     },
     "execution_count": 41,
     "metadata": {},
     "output_type": "execute_result"
    }
   ],
   "source": [
    "true_single_predicted_single=0\n",
    "true_single_predicted_double=0\n",
    "\n",
    "true_double_predicted_single=0\n",
    "true_double_predicted_double=0\n",
    "\n",
    "for index_ in forest_grid_1_y_test_df.index:\n",
    "    curr_vote=list(forest_grid_1_y_test_df[forest_grid_1_y_test_df.index==index_].Vote)[0]\n",
    "    curr_predict=list(forest_grid_1_y_test_df[forest_grid_1_y_test_df.index==index_].prediction)[0]\n",
    "    if curr_vote==curr_predict:\n",
    "        if curr_vote==1: \n",
    "            true_single_predicted_single+=1\n",
    "        else:\n",
    "            true_double_predicted_double+=1\n",
    "    else:\n",
    "        if curr_vote==1:\n",
    "            true_single_predicted_double+=1\n",
    "        else:\n",
    "            true_double_predicted_single+=1\n",
    "            \n",
    "forest_grid_1_confus_tbl_test = pd.DataFrame(columns=['None', 'Predict_Single', 'Predict_Double'], \n",
    "                               index=range(2))\n",
    "forest_grid_1_confus_tbl_test.loc[0, 'None'] = 'Actual_Single'\n",
    "forest_grid_1_confus_tbl_test.loc[1, 'None'] = 'Actual_Double'\n",
    "forest_grid_1_confus_tbl_test['Predict_Single']=0\n",
    "forest_grid_1_confus_tbl_test['Predict_Double']=0\n",
    "\n",
    "forest_grid_1_confus_tbl_test.loc[0, \"Predict_Single\"]=true_single_predicted_single\n",
    "forest_grid_1_confus_tbl_test.loc[0, \"Predict_Double\"]=true_single_predicted_double\n",
    "forest_grid_1_confus_tbl_test.loc[1, \"Predict_Single\"]=true_double_predicted_single\n",
    "forest_grid_1_confus_tbl_test.loc[1, \"Predict_Double\"]=true_double_predicted_double\n",
    "forest_grid_1_confus_tbl_test"
   ]
  },
  {
   "cell_type": "code",
   "execution_count": null,
   "id": "7c1c17aa",
   "metadata": {},
   "outputs": [],
   "source": [
    "forest_grid_1_y_test_df = pd.merge(forest_grid_1_y_test_df, meta, on=['ID'], how='left')\n",
    "out_name=test_result_dir+ \"SG_RF_y_test.csv\"\n",
    "forest_grid_1_y_test_df.to_csv(out_name, index = False)"
   ]
  },
  {
   "cell_type": "code",
   "execution_count": null,
   "id": "3eb4959e",
   "metadata": {},
   "outputs": [],
   "source": [
    "forest_grid_1_yTest_A1P2 = forest_grid_1_y_test_df[forest_grid_1_y_test_df.Vote==1]\n",
    "forest_grid_1_yTest_A1P2 = forest_grid_1_yTest_A1P2[forest_grid_1_yTest_A1P2.prediction==2]\n",
    "\n",
    "forest_grid_1_yTest_A2P1 = forest_grid_1_y_test_df[forest_grid_1_y_test_df.Vote==2]\n",
    "forest_grid_1_yTest_A2P1 = forest_grid_1_yTest_A2P1[forest_grid_1_yTest_A2P1.prediction==1]"
   ]
  },
  {
   "cell_type": "code",
   "execution_count": null,
   "id": "0993a51d",
   "metadata": {},
   "outputs": [],
   "source": [
    "forest_grid_1_yTest_A2P1.groupby(['CropTyp'])['CropTyp'].count()"
   ]
  },
  {
   "cell_type": "code",
   "execution_count": null,
   "id": "45a69d6f",
   "metadata": {},
   "outputs": [],
   "source": [
    "forest_grid_1_yTest_A1P2.groupby(['CropTyp'])['CropTyp'].count()"
   ]
  },
  {
   "cell_type": "code",
   "execution_count": null,
   "id": "69e8100a",
   "metadata": {},
   "outputs": [],
   "source": []
  },
  {
   "cell_type": "code",
   "execution_count": null,
   "id": "3574f534",
   "metadata": {},
   "outputs": [],
   "source": [
    "for anID in list(forest_grid_1_yTest_A1P2.ID):\n",
    "    curr_dt = ground_truth[ground_truth.ID==anID].copy()\n",
    "    curr_meta = meta[meta.ID==anID].copy()\n",
    "    \n",
    "    curr_year=curr_dt.human_system_start_time.dt.year.unique()[0]\n",
    "    curr_raw = landsat_DF[landsat_DF.ID==anID].copy()\n",
    "    curr_raw=curr_raw[curr_raw.human_system_start_time.dt.year==curr_year]\n",
    "    \n",
    "    curr_vote = forest_grid_1_yTest_A1P2[forest_grid_1_yTest_A1P2.ID==anID].Vote.values[0]\n",
    "    curr_pred = forest_grid_1_yTest_A1P2[forest_grid_1_yTest_A1P2.ID==anID].prediction.values[0]\n",
    "    title_ = list(curr_meta.CropTyp)[0] + \" (\" + str(list(curr_meta.Acres)[0]) + \" acre), \"+\\\n",
    "              \"Experts' vote: \" + str(curr_vote) + \", prediction: \" + str(curr_pred)\n",
    "    \n",
    "    curr_plt = plot_oneColumn_CropTitle(dt=curr_dt, raw_dt=curr_raw, titlee=title_, _label = \"EVI (5-step smoothed)\")\n",
    "    \n",
    "    plot_path = test_result_dir + \"SG_RF_plots_A1_P2/\"\n",
    "    os.makedirs(plot_path, exist_ok=True)\n",
    "    fig_name = plot_path + anID + '.pdf'\n",
    "    plt.savefig(fname = fig_name, dpi=400, bbox_inches='tight')\n",
    "    plt.close('all')\n",
    "    \n",
    "for anID in list(forest_grid_1_yTest_A2P1.ID):\n",
    "    curr_dt = ground_truth[ground_truth.ID==anID].copy()\n",
    "    curr_meta = meta[meta.ID==anID].copy()\n",
    "    \n",
    "    curr_year=curr_dt.human_system_start_time.dt.year.unique()[0]\n",
    "    curr_raw = landsat_DF[landsat_DF.ID==anID].copy()\n",
    "    curr_raw=curr_raw[curr_raw.human_system_start_time.dt.year==curr_year]\n",
    "    \n",
    "    curr_vote = forest_grid_1_yTest_A2P1[forest_grid_1_yTest_A2P1.ID==anID].Vote.values[0]\n",
    "    curr_pred = forest_grid_1_yTest_A2P1[forest_grid_1_yTest_A2P1.ID==anID].prediction.values[0]\n",
    "    title_ = list(curr_meta.CropTyp)[0] + \" (\" + str(list(curr_meta.Acres)[0]) + \" acre), \"+\\\n",
    "              \"Experts' vote: \" + str(curr_vote) + \", prediction: \" + str(curr_pred)\n",
    "    \n",
    "    curr_plt = plot_oneColumn_CropTitle(dt=curr_dt, raw_dt=curr_raw, titlee=title_, _label = \"EVI (5-step smoothed)\")\n",
    "    \n",
    "    plot_path = test_result_dir + \"SG_RF_plots_A2_P1/\"\n",
    "    os.makedirs(plot_path, exist_ok=True)\n",
    "    fig_name = plot_path + anID + '.pdf'\n",
    "    plt.savefig(fname = fig_name, dpi=400, bbox_inches='tight')\n",
    "    plt.close('all')"
   ]
  },
  {
   "cell_type": "markdown",
   "id": "fd59a2a6",
   "metadata": {},
   "source": [
    "# Neural Nets. Deep Learning. Transfer Learning\n",
    "\n",
    "### Need to complete this\n",
    "Choose a probability threshold... etc. "
   ]
  },
  {
   "cell_type": "code",
   "execution_count": null,
   "id": "cba994a1",
   "metadata": {},
   "outputs": [],
   "source": [
    "NN_result = pd.read_csv(training_set_dir + \"01_transfer_learning_result/\" + \\\n",
    "                        \"01_SG_TL_Expert_testSet_predictions_EVI.csv\")\n",
    "\n",
    "NN_result.rename(columns={\"filename\": \"ID\"}, inplace=True)\n",
    "NN_result.rename(columns={\"human_predict\": \"Vote\"}, inplace=True) \n",
    "\n",
    "NN_result.replace(\"double\", 2, inplace=True)\n",
    "NN_result.replace(\"single\", 1, inplace=True)"
   ]
  },
  {
   "cell_type": "code",
   "execution_count": null,
   "id": "6d4f0878",
   "metadata": {},
   "outputs": [],
   "source": [
    "ID = [x[0] for x in NN_result.ID.str.split(\".\")]\n",
    "NN_result.ID=ID\n",
    "\n",
    "ID = [\"_\".join(x[1:]) for x in NN_result.ID.str.split(\"_\")]\n",
    "NN_result.ID=ID\n",
    "\n",
    "NN_result.head(2)"
   ]
  },
  {
   "cell_type": "code",
   "execution_count": null,
   "id": "8582b62e",
   "metadata": {
    "tags": [
     "hide-cell",
     "hide_cell"
    ]
   },
   "outputs": [],
   "source": [
    "NN_result_A1P2=NN_result[NN_result.Vote==1]\n",
    "NN_result_A1P2=NN_result_A1P2[NN_result_A1P2.prob_point7==2]\n",
    "\n",
    "NN_result_A2P1=NN_result[NN_result.Vote==2]\n",
    "NN_result_A2P1=NN_result_A2P1[NN_result_A2P1.prob_point7==1]"
   ]
  },
  {
   "cell_type": "code",
   "execution_count": null,
   "id": "47c04ddb",
   "metadata": {},
   "outputs": [],
   "source": [
    "NN_result_A2P1"
   ]
  },
  {
   "cell_type": "code",
   "execution_count": null,
   "id": "b1cb5297",
   "metadata": {},
   "outputs": [],
   "source": [
    "for anID in list(NN_result_A1P2.ID):\n",
    "    curr_dt = ground_truth[ground_truth.ID==anID].copy()\n",
    "    curr_meta = meta[meta.ID==anID].copy()\n",
    "    \n",
    "    curr_year=curr_dt.human_system_start_time.dt.year.unique()[0]\n",
    "    curr_raw = landsat_DF[landsat_DF.ID==anID].copy()\n",
    "    curr_raw=curr_raw[curr_raw.human_system_start_time.dt.year==curr_year]\n",
    "    \n",
    "    curr_vote = NN_result_A1P2[NN_result_A1P2.ID==anID].Vote.values[0]\n",
    "    curr_pred = NN_result_A1P2[NN_result_A1P2.ID==anID].prob_point7.values[0]\n",
    "    \n",
    "    title_ = list(curr_meta.CropTyp)[0] + \" (\" + str(list(curr_meta.Acres)[0]) + \" acre), \"+\\\n",
    "              \"Experts' vote: \" + str(curr_vote) + \", prediction: \" + str(curr_pred)\n",
    "    \n",
    "    curr_plt = plot_oneColumn_CropTitle(dt=curr_dt, raw_dt=curr_raw, \n",
    "                                        titlee=title_, _label = \"EVI (5-step smoothed)\")\n",
    "    \n",
    "    plot_path = test_result_dir + \"SG_NN_plots_A1_P2/\"\n",
    "    os.makedirs(plot_path, exist_ok=True)\n",
    "    fig_name = plot_path + anID + '.pdf'\n",
    "    plt.savefig(fname = fig_name, dpi=400, bbox_inches='tight')\n",
    "    plt.close('all')\n",
    "\n",
    "for anID in list(NN_result_A2P1.ID):\n",
    "    curr_dt = ground_truth[ground_truth.ID==anID].copy()\n",
    "    curr_meta = meta[meta.ID==anID].copy()\n",
    "    \n",
    "    curr_year=curr_dt.human_system_start_time.dt.year.unique()[0]\n",
    "    curr_raw = landsat_DF[landsat_DF.ID==anID].copy()\n",
    "    curr_raw=curr_raw[curr_raw.human_system_start_time.dt.year==curr_year]\n",
    "    \n",
    "    curr_vote = NN_result_A2P1[NN_result_A2P1.ID==anID].Vote.values[0]\n",
    "    curr_pred = NN_result_A2P1[NN_result_A2P1.ID==anID].prob_point7.values[0]\n",
    "    title_ = list(curr_meta.CropTyp)[0] + \" (\" + str(list(curr_meta.Acres)[0]) + \" acre), \"+\\\n",
    "              \"Experts' vote: \" + str(curr_vote) + \", prediction: \" + str(curr_pred)\n",
    "    \n",
    "    curr_plt = plot_oneColumn_CropTitle(dt=curr_dt, raw_dt=curr_raw, \n",
    "                                        titlee=title_, _label = \"EVI (5-step smoothed)\")\n",
    "    \n",
    "    plot_path = test_result_dir + \"SG_NN_plots_A2_P1/\"\n",
    "    os.makedirs(plot_path, exist_ok=True)\n",
    "    fig_name = plot_path + anID + '.pdf'\n",
    "    plt.savefig(fname = fig_name, dpi=400, bbox_inches='tight')\n",
    "    plt.close('all')"
   ]
  },
  {
   "cell_type": "code",
   "execution_count": null,
   "id": "6303352e",
   "metadata": {},
   "outputs": [],
   "source": []
  },
  {
   "cell_type": "markdown",
   "id": "16a3889a",
   "metadata": {},
   "source": [
    "# kNN\n",
    "Winner is **uniform** weight."
   ]
  },
  {
   "cell_type": "code",
   "execution_count": 24,
   "id": "f2b138a5",
   "metadata": {},
   "outputs": [],
   "source": [
    "def DTW_prune(ts1, ts2):\n",
    "    d,_ = dtw.warping_paths(ts1, ts2, window=10, use_pruning=True);\n",
    "    return d"
   ]
  },
  {
   "cell_type": "code",
   "execution_count": 27,
   "id": "f3fd1cf8",
   "metadata": {},
   "outputs": [],
   "source": [
    "model_dir = \"/Users/hn/Documents/01_research_data/NASA/ML_Models/\"\n",
    "filename = model_dir + \"00_KNN_SG_EVI_DTW_prune_distanceWeight_4NNisBest.sav\"\n",
    "distanceWeight_KNN = pickle.load(open(filename, 'rb'))"
   ]
  },
  {
   "cell_type": "code",
   "execution_count": 28,
   "id": "e62502bb",
   "metadata": {},
   "outputs": [],
   "source": [
    "filename = model_dir + \"00_KNN_SG_EVI_DTW_prune_uniformWeight_9NNisBest.sav\"\n",
    "uniform_KNN = pickle.load(open(filename, 'rb'))"
   ]
  },
  {
   "cell_type": "code",
   "execution_count": 29,
   "id": "d0193138",
   "metadata": {},
   "outputs": [
    {
     "name": "stdout",
     "output_type": "stream",
     "text": [
      "CPU times: user 11min 13s, sys: 2.75 s, total: 11min 15s\n",
      "Wall time: 11min 19s\n"
     ]
    }
   ],
   "source": [
    "%%time\n",
    "KNN_DTW_test_predictions_uniform = uniform_KNN.predict(x_test_df.iloc[:, 1:])\n",
    "KNN_DTW_test_predictions_distanceWeight = distanceWeight_KNN.predict(x_test_df.iloc[:, 1:])"
   ]
  },
  {
   "cell_type": "code",
   "execution_count": 30,
   "id": "7055d70a",
   "metadata": {},
   "outputs": [
    {
     "data": {
      "text/html": [
       "<div>\n",
       "<style scoped>\n",
       "    .dataframe tbody tr th:only-of-type {\n",
       "        vertical-align: middle;\n",
       "    }\n",
       "\n",
       "    .dataframe tbody tr th {\n",
       "        vertical-align: top;\n",
       "    }\n",
       "\n",
       "    .dataframe thead th {\n",
       "        text-align: right;\n",
       "    }\n",
       "</style>\n",
       "<table border=\"1\" class=\"dataframe\">\n",
       "  <thead>\n",
       "    <tr style=\"text-align: right;\">\n",
       "      <th></th>\n",
       "      <th>ID</th>\n",
       "      <th>Vote</th>\n",
       "      <th>KNN_pred_uniform</th>\n",
       "      <th>KNN_pred_distance</th>\n",
       "    </tr>\n",
       "  </thead>\n",
       "  <tbody>\n",
       "    <tr>\n",
       "      <th>1221</th>\n",
       "      <td>7667_WSDA_SF_2016</td>\n",
       "      <td>1</td>\n",
       "      <td>1</td>\n",
       "      <td>1</td>\n",
       "    </tr>\n",
       "    <tr>\n",
       "      <th>1334</th>\n",
       "      <td>99748_WSDA_SF_2017</td>\n",
       "      <td>1</td>\n",
       "      <td>1</td>\n",
       "      <td>1</td>\n",
       "    </tr>\n",
       "  </tbody>\n",
       "</table>\n",
       "</div>"
      ],
      "text/plain": [
       "                      ID  Vote  KNN_pred_uniform  KNN_pred_distance\n",
       "1221   7667_WSDA_SF_2016     1                 1                  1\n",
       "1334  99748_WSDA_SF_2017     1                 1                  1"
      ]
     },
     "execution_count": 30,
     "metadata": {},
     "output_type": "execute_result"
    }
   ],
   "source": [
    "KNN_y_test=y_test_df.copy()\n",
    "KNN_y_test[\"KNN_pred_uniform\"]=list(KNN_DTW_test_predictions_uniform)\n",
    "KNN_y_test[\"KNN_pred_distance\"]=list(KNN_DTW_test_predictions_distanceWeight)\n",
    "KNN_y_test.head(2)"
   ]
  },
  {
   "cell_type": "code",
   "execution_count": 31,
   "id": "6506026b",
   "metadata": {},
   "outputs": [
    {
     "data": {
      "text/html": [
       "<div>\n",
       "<style scoped>\n",
       "    .dataframe tbody tr th:only-of-type {\n",
       "        vertical-align: middle;\n",
       "    }\n",
       "\n",
       "    .dataframe tbody tr th {\n",
       "        vertical-align: top;\n",
       "    }\n",
       "\n",
       "    .dataframe thead th {\n",
       "        text-align: right;\n",
       "    }\n",
       "</style>\n",
       "<table border=\"1\" class=\"dataframe\">\n",
       "  <thead>\n",
       "    <tr style=\"text-align: right;\">\n",
       "      <th></th>\n",
       "      <th>ID</th>\n",
       "      <th>Vote</th>\n",
       "      <th>KNN_pred_uniform</th>\n",
       "      <th>KNN_pred_distance</th>\n",
       "      <th>CropTyp</th>\n",
       "      <th>Irrigtn</th>\n",
       "      <th>DataSrc</th>\n",
       "      <th>Acres</th>\n",
       "      <th>ExctAcr</th>\n",
       "      <th>LstSrvD</th>\n",
       "      <th>county</th>\n",
       "    </tr>\n",
       "  </thead>\n",
       "  <tbody>\n",
       "    <tr>\n",
       "      <th>0</th>\n",
       "      <td>7667_WSDA_SF_2016</td>\n",
       "      <td>1</td>\n",
       "      <td>1</td>\n",
       "      <td>1</td>\n",
       "      <td>wheat</td>\n",
       "      <td>center pivot</td>\n",
       "      <td>producer</td>\n",
       "      <td>35</td>\n",
       "      <td>35.232575</td>\n",
       "      <td>2016/09/21 00:00:00</td>\n",
       "      <td>Benton</td>\n",
       "    </tr>\n",
       "    <tr>\n",
       "      <th>1</th>\n",
       "      <td>99748_WSDA_SF_2017</td>\n",
       "      <td>1</td>\n",
       "      <td>1</td>\n",
       "      <td>1</td>\n",
       "      <td>corn, field</td>\n",
       "      <td>center pivot</td>\n",
       "      <td>wsda</td>\n",
       "      <td>50</td>\n",
       "      <td>50.269316</td>\n",
       "      <td>2017/08/09</td>\n",
       "      <td>Grant</td>\n",
       "    </tr>\n",
       "  </tbody>\n",
       "</table>\n",
       "</div>"
      ],
      "text/plain": [
       "                   ID  Vote  KNN_pred_uniform  KNN_pred_distance      CropTyp  \\\n",
       "0   7667_WSDA_SF_2016     1                 1                  1        wheat   \n",
       "1  99748_WSDA_SF_2017     1                 1                  1  corn, field   \n",
       "\n",
       "        Irrigtn   DataSrc  Acres    ExctAcr              LstSrvD  county  \n",
       "0  center pivot  producer     35  35.232575  2016/09/21 00:00:00  Benton  \n",
       "1  center pivot      wsda     50  50.269316           2017/08/09   Grant  "
      ]
     },
     "execution_count": 31,
     "metadata": {},
     "output_type": "execute_result"
    }
   ],
   "source": [
    "KNN_y_test = pd.merge(KNN_y_test, meta, on=['ID'], how='left')\n",
    "KNN_y_test.head(2)"
   ]
  },
  {
   "cell_type": "code",
   "execution_count": 32,
   "id": "a300c2f7",
   "metadata": {},
   "outputs": [
    {
     "data": {
      "text/plain": [
       "17.281685704341555"
      ]
     },
     "execution_count": 32,
     "metadata": {},
     "output_type": "execute_result"
    }
   ],
   "source": [
    "KNN_y_test_uniform_A1P2=KNN_y_test[KNN_y_test.Vote==1]\n",
    "KNN_y_test_uniform_A1P2=KNN_y_test_uniform_A1P2[KNN_y_test_uniform_A1P2.KNN_pred_uniform==2]\n",
    "\n",
    "KNN_y_test_uniform_A2P1=KNN_y_test[KNN_y_test.Vote==2]\n",
    "KNN_y_test_uniform_A2P1=KNN_y_test_uniform_A2P1[KNN_y_test_uniform_A2P1.KNN_pred_uniform==1]\n",
    "\n",
    "KNN_y_test_uniform_A2P1.ExctAcr.sum()-KNN_y_test_uniform_A1P2.ExctAcr.sum()"
   ]
  },
  {
   "cell_type": "code",
   "execution_count": 33,
   "id": "fe30a963",
   "metadata": {},
   "outputs": [
    {
     "data": {
      "text/plain": [
       "155.86189363344403"
      ]
     },
     "execution_count": 33,
     "metadata": {},
     "output_type": "execute_result"
    }
   ],
   "source": [
    "KNN_y_test_dist_A1P2=KNN_y_test[KNN_y_test.Vote==1]\n",
    "KNN_y_test_dist_A1P2=KNN_y_test_dist_A1P2[KNN_y_test_dist_A1P2.KNN_pred_distance==2]\n",
    "\n",
    "KNN_y_test_dist_A2P1=KNN_y_test[KNN_y_test.Vote==2]\n",
    "KNN_y_test_dist_A2P1=KNN_y_test_dist_A2P1[KNN_y_test_dist_A2P1.KNN_pred_distance==1]\n",
    "\n",
    "KNN_y_test_dist_A2P1.ExctAcr.sum()-KNN_y_test_dist_A1P2.ExctAcr.sum()"
   ]
  },
  {
   "cell_type": "code",
   "execution_count": null,
   "id": "1c4f0268",
   "metadata": {},
   "outputs": [],
   "source": [
    "out_name=test_result_dir+ \"SG_KNN_y_test.csv\"\n",
    "KNN_y_test.to_csv(out_name, index = False)"
   ]
  },
  {
   "cell_type": "code",
   "execution_count": 35,
   "id": "d88682ec",
   "metadata": {},
   "outputs": [
    {
     "ename": "NameError",
     "evalue": "name 'plot_oneColumn_CropTitle' is not defined",
     "output_type": "error",
     "traceback": [
      "\u001b[0;31m---------------------------------------------------------------------------\u001b[0m",
      "\u001b[0;31mNameError\u001b[0m                                 Traceback (most recent call last)",
      "Input \u001b[0;32mIn [35]\u001b[0m, in \u001b[0;36m<cell line: 1>\u001b[0;34m()\u001b[0m\n\u001b[1;32m     10\u001b[0m curr_pred \u001b[38;5;241m=\u001b[39m KNN_y_test_uniform_A1P2[KNN_y_test_uniform_A1P2\u001b[38;5;241m.\u001b[39mID\u001b[38;5;241m==\u001b[39manID]\u001b[38;5;241m.\u001b[39mKNN_pred_uniform\u001b[38;5;241m.\u001b[39mvalues[\u001b[38;5;241m0\u001b[39m]\n\u001b[1;32m     11\u001b[0m title_ \u001b[38;5;241m=\u001b[39m \u001b[38;5;28mlist\u001b[39m(curr_meta\u001b[38;5;241m.\u001b[39mCropTyp)[\u001b[38;5;241m0\u001b[39m] \u001b[38;5;241m+\u001b[39m \u001b[38;5;124m\"\u001b[39m\u001b[38;5;124m (\u001b[39m\u001b[38;5;124m\"\u001b[39m \u001b[38;5;241m+\u001b[39m \u001b[38;5;28mstr\u001b[39m(\u001b[38;5;28mlist\u001b[39m(curr_meta\u001b[38;5;241m.\u001b[39mAcres)[\u001b[38;5;241m0\u001b[39m]) \u001b[38;5;241m+\u001b[39m \u001b[38;5;124m\"\u001b[39m\u001b[38;5;124m acre), \u001b[39m\u001b[38;5;124m\"\u001b[39m\u001b[38;5;241m+\u001b[39m\\\n\u001b[1;32m     12\u001b[0m           \u001b[38;5;124m\"\u001b[39m\u001b[38;5;124mExperts\u001b[39m\u001b[38;5;124m'\u001b[39m\u001b[38;5;124m vote: \u001b[39m\u001b[38;5;124m\"\u001b[39m \u001b[38;5;241m+\u001b[39m \u001b[38;5;28mstr\u001b[39m(curr_vote) \u001b[38;5;241m+\u001b[39m \u001b[38;5;124m\"\u001b[39m\u001b[38;5;124m, prediction: \u001b[39m\u001b[38;5;124m\"\u001b[39m \u001b[38;5;241m+\u001b[39m \u001b[38;5;28mstr\u001b[39m(curr_pred)\n\u001b[0;32m---> 14\u001b[0m curr_plt \u001b[38;5;241m=\u001b[39m \u001b[43mplot_oneColumn_CropTitle\u001b[49m(dt\u001b[38;5;241m=\u001b[39mcurr_dt, raw_dt\u001b[38;5;241m=\u001b[39mcurr_raw, titlee\u001b[38;5;241m=\u001b[39mtitle_, _label \u001b[38;5;241m=\u001b[39m \u001b[38;5;124m\"\u001b[39m\u001b[38;5;124mEVI (5-step smoothed)\u001b[39m\u001b[38;5;124m\"\u001b[39m)\n\u001b[1;32m     16\u001b[0m plot_path \u001b[38;5;241m=\u001b[39m test_result_dir \u001b[38;5;241m+\u001b[39m \u001b[38;5;124m\"\u001b[39m\u001b[38;5;124mSG_KNN_plots_A1_P2/\u001b[39m\u001b[38;5;124m\"\u001b[39m\n\u001b[1;32m     17\u001b[0m os\u001b[38;5;241m.\u001b[39mmakedirs(plot_path, exist_ok\u001b[38;5;241m=\u001b[39m\u001b[38;5;28;01mTrue\u001b[39;00m)\n",
      "\u001b[0;31mNameError\u001b[0m: name 'plot_oneColumn_CropTitle' is not defined"
     ]
    }
   ],
   "source": [
    "for anID in list(KNN_y_test_uniform_A1P2.ID):\n",
    "    curr_dt = ground_truth[ground_truth.ID==anID].copy()\n",
    "    curr_meta = meta[meta.ID==anID].copy()\n",
    "    \n",
    "    curr_year=curr_dt.human_system_start_time.dt.year.unique()[0]\n",
    "    curr_raw = landsat_DF[landsat_DF.ID==anID].copy()\n",
    "    curr_raw=curr_raw[curr_raw.human_system_start_time.dt.year==curr_year]\n",
    "    \n",
    "    curr_vote = KNN_y_test_uniform_A1P2[KNN_y_test_uniform_A1P2.ID==anID].Vote.values[0]\n",
    "    curr_pred = KNN_y_test_uniform_A1P2[KNN_y_test_uniform_A1P2.ID==anID].KNN_pred_uniform.values[0]\n",
    "    title_ = list(curr_meta.CropTyp)[0] + \" (\" + str(list(curr_meta.Acres)[0]) + \" acre), \"+\\\n",
    "              \"Experts' vote: \" + str(curr_vote) + \", prediction: \" + str(curr_pred)\n",
    "    \n",
    "    curr_plt = plot_oneColumn_CropTitle(dt=curr_dt, raw_dt=curr_raw, titlee=title_, _label = \"EVI (5-step smoothed)\")\n",
    "    \n",
    "    plot_path = test_result_dir + \"SG_KNN_plots_A1_P2/\"\n",
    "    os.makedirs(plot_path, exist_ok=True)\n",
    "    fig_name = plot_path + anID + '.pdf'\n",
    "    plt.savefig(fname = fig_name, dpi=400, bbox_inches='tight')\n",
    "    plt.close('all')\n",
    "    \n",
    "for anID in list(KNN_y_test_uniform_A2P1.ID):\n",
    "    curr_dt = ground_truth[ground_truth.ID==anID].copy()\n",
    "    curr_meta = meta[meta.ID==anID].copy()\n",
    "    \n",
    "    curr_year=curr_dt.human_system_start_time.dt.year.unique()[0]\n",
    "    curr_raw = landsat_DF[landsat_DF.ID==anID].copy()\n",
    "    curr_raw=curr_raw[curr_raw.human_system_start_time.dt.year==curr_year]\n",
    "    \n",
    "    curr_vote = KNN_y_test_uniform_A2P1[KNN_y_test_uniform_A2P1.ID==anID].Vote.values[0]\n",
    "    curr_pred = KNN_y_test_uniform_A2P1[KNN_y_test_uniform_A2P1.ID==anID].KNN_pred_uniform.values[0]\n",
    "    title_ = list(curr_meta.CropTyp)[0] + \" (\" + str(list(curr_meta.Acres)[0]) + \" acre), \"+\\\n",
    "              \"Experts' vote: \" + str(curr_vote) + \", prediction: \" + str(curr_pred)\n",
    "    \n",
    "    curr_plt = plot_oneColumn_CropTitle(dt=curr_dt, raw_dt=curr_raw, titlee=title_, _label = \"EVI (5-step smoothed)\")\n",
    "    \n",
    "    plot_path = test_result_dir + \"SG_KNN_plots_A2_P1/\"\n",
    "    os.makedirs(plot_path, exist_ok=True)\n",
    "    fig_name = plot_path + anID + '.pdf'\n",
    "    plt.savefig(fname = fig_name, dpi=400, bbox_inches='tight')\n",
    "    plt.close('all')\n"
   ]
  },
  {
   "cell_type": "code",
   "execution_count": null,
   "id": "60252637",
   "metadata": {},
   "outputs": [],
   "source": [
    "anID in list(KNN_y_test_uniform_A1P2.ID)"
   ]
  },
  {
   "cell_type": "code",
   "execution_count": 37,
   "id": "d44a2a7f",
   "metadata": {},
   "outputs": [
    {
     "data": {
      "text/plain": [
       "CropTyp\n",
       "bean, dry         1\n",
       "bean, green       1\n",
       "corn, field       1\n",
       "wheat             1\n",
       "yellow mustard    1\n",
       "Name: CropTyp, dtype: int64"
      ]
     },
     "execution_count": 37,
     "metadata": {},
     "output_type": "execute_result"
    }
   ],
   "source": [
    "KNN_y_test_uniform_A2P1.groupby(['CropTyp'])['CropTyp'].count()"
   ]
  },
  {
   "cell_type": "code",
   "execution_count": 38,
   "id": "2b8328bb",
   "metadata": {},
   "outputs": [
    {
     "data": {
      "text/plain": [
       "CropTyp\n",
       "bluegrass seed    1\n",
       "canola            2\n",
       "corn, sweet       1\n",
       "Name: CropTyp, dtype: int64"
      ]
     },
     "execution_count": 38,
     "metadata": {},
     "output_type": "execute_result"
    }
   ],
   "source": [
    "KNN_y_test_uniform_A1P2.groupby(['CropTyp'])['CropTyp'].count()"
   ]
  },
  {
   "cell_type": "markdown",
   "id": "92c8a009",
   "metadata": {},
   "source": [
    "# Are mistakes in Common?"
   ]
  },
  {
   "cell_type": "code",
   "execution_count": 39,
   "id": "918b1845",
   "metadata": {},
   "outputs": [],
   "source": [
    "SG_common_mistakes = y_test_df.copy()"
   ]
  },
  {
   "cell_type": "code",
   "execution_count": 40,
   "id": "10a6e6a1",
   "metadata": {},
   "outputs": [
    {
     "ename": "NameError",
     "evalue": "name 'SVM_balanced_y_test_df_A2_P1' is not defined",
     "output_type": "error",
     "traceback": [
      "\u001b[0;31m---------------------------------------------------------------------------\u001b[0m",
      "\u001b[0;31mNameError\u001b[0m                                 Traceback (most recent call last)",
      "Input \u001b[0;32mIn [40]\u001b[0m, in \u001b[0;36m<cell line: 1>\u001b[0;34m()\u001b[0m\n\u001b[0;32m----> 1\u001b[0m \u001b[43mSVM_balanced_y_test_df_A2_P1\u001b[49m\u001b[38;5;241m.\u001b[39mrename(columns\u001b[38;5;241m=\u001b[39m{\u001b[38;5;124m\"\u001b[39m\u001b[38;5;124mprediction\u001b[39m\u001b[38;5;124m\"\u001b[39m: \u001b[38;5;124m\"\u001b[39m\u001b[38;5;124mSVM_balanced_pred_A2P1\u001b[39m\u001b[38;5;124m\"\u001b[39m}, inplace\u001b[38;5;241m=\u001b[39m\u001b[38;5;28;01mTrue\u001b[39;00m)\n\u001b[1;32m      2\u001b[0m SVM_balanced_y_test_df_A1_P2\u001b[38;5;241m.\u001b[39mrename(columns\u001b[38;5;241m=\u001b[39m{\u001b[38;5;124m\"\u001b[39m\u001b[38;5;124mprediction\u001b[39m\u001b[38;5;124m\"\u001b[39m: \u001b[38;5;124m\"\u001b[39m\u001b[38;5;124mSVM_balanced_pred_A1P2\u001b[39m\u001b[38;5;124m\"\u001b[39m}, inplace\u001b[38;5;241m=\u001b[39m\u001b[38;5;28;01mTrue\u001b[39;00m)\n",
      "\u001b[0;31mNameError\u001b[0m: name 'SVM_balanced_y_test_df_A2_P1' is not defined"
     ]
    }
   ],
   "source": [
    "SVM_balanced_y_test_df_A2_P1.rename(columns={\"prediction\": \"SVM_balanced_pred_A2P1\"}, inplace=True)\n",
    "SVM_balanced_y_test_df_A1_P2.rename(columns={\"prediction\": \"SVM_balanced_pred_A1P2\"}, inplace=True)"
   ]
  },
  {
   "cell_type": "code",
   "execution_count": 41,
   "id": "32536192",
   "metadata": {},
   "outputs": [
    {
     "ename": "NameError",
     "evalue": "name 'SVM_balanced_y_test_df_A2_P1' is not defined",
     "output_type": "error",
     "traceback": [
      "\u001b[0;31m---------------------------------------------------------------------------\u001b[0m",
      "\u001b[0;31mNameError\u001b[0m                                 Traceback (most recent call last)",
      "Input \u001b[0;32mIn [41]\u001b[0m, in \u001b[0;36m<cell line: 1>\u001b[0;34m()\u001b[0m\n\u001b[1;32m      1\u001b[0m SG_common_mistakes\u001b[38;5;241m=\u001b[39mpd\u001b[38;5;241m.\u001b[39mmerge(SG_common_mistakes, \\\n\u001b[0;32m----> 2\u001b[0m                             \u001b[43mSVM_balanced_y_test_df_A2_P1\u001b[49m[[\u001b[38;5;124m\"\u001b[39m\u001b[38;5;124mID\u001b[39m\u001b[38;5;124m\"\u001b[39m,\u001b[38;5;124m\"\u001b[39m\u001b[38;5;124mSVM_balanced_pred_A2P1\u001b[39m\u001b[38;5;124m\"\u001b[39m]],on\u001b[38;5;241m=\u001b[39m[\u001b[38;5;124m'\u001b[39m\u001b[38;5;124mID\u001b[39m\u001b[38;5;124m'\u001b[39m],how\u001b[38;5;241m=\u001b[39m\u001b[38;5;124m'\u001b[39m\u001b[38;5;124mleft\u001b[39m\u001b[38;5;124m'\u001b[39m)\n\u001b[1;32m      4\u001b[0m SG_common_mistakes\u001b[38;5;241m=\u001b[39mpd\u001b[38;5;241m.\u001b[39mmerge(SG_common_mistakes, \n\u001b[1;32m      5\u001b[0m                             SVM_balanced_y_test_df_A1_P2[[\u001b[38;5;124m\"\u001b[39m\u001b[38;5;124mID\u001b[39m\u001b[38;5;124m\"\u001b[39m,\u001b[38;5;124m\"\u001b[39m\u001b[38;5;124mSVM_balanced_pred_A1P2\u001b[39m\u001b[38;5;124m\"\u001b[39m]],on\u001b[38;5;241m=\u001b[39m[\u001b[38;5;124m'\u001b[39m\u001b[38;5;124mID\u001b[39m\u001b[38;5;124m'\u001b[39m],how\u001b[38;5;241m=\u001b[39m\u001b[38;5;124m'\u001b[39m\u001b[38;5;124mleft\u001b[39m\u001b[38;5;124m'\u001b[39m)\n",
      "\u001b[0;31mNameError\u001b[0m: name 'SVM_balanced_y_test_df_A2_P1' is not defined"
     ]
    }
   ],
   "source": [
    "SG_common_mistakes=pd.merge(SG_common_mistakes, \\\n",
    "                            SVM_balanced_y_test_df_A2_P1[[\"ID\",\"SVM_balanced_pred_A2P1\"]],on=['ID'],how='left')\n",
    "\n",
    "SG_common_mistakes=pd.merge(SG_common_mistakes, \n",
    "                            SVM_balanced_y_test_df_A1_P2[[\"ID\",\"SVM_balanced_pred_A1P2\"]],on=['ID'],how='left')"
   ]
  },
  {
   "cell_type": "code",
   "execution_count": null,
   "id": "357e28d0",
   "metadata": {},
   "outputs": [],
   "source": [
    "forest_grid_1_yTest_A2P1.rename(columns={\"prediction\": \"RF_G1_pred_A2P1\"}, inplace=True)\n",
    "forest_grid_1_yTest_A1P2.rename(columns={\"prediction\": \"RF_G1_pred_A1P2\"}, inplace=True)"
   ]
  },
  {
   "cell_type": "code",
   "execution_count": null,
   "id": "350f8a48",
   "metadata": {},
   "outputs": [],
   "source": [
    "SG_common_mistakes=pd.merge(SG_common_mistakes,\\\n",
    "                            forest_grid_1_yTest_A2P1[[\"ID\",\"RF_G1_pred_A2P1\"]],on=['ID'],how='left')\n",
    "\n",
    "SG_common_mistakes=pd.merge(SG_common_mistakes,\\\n",
    "                            forest_grid_1_yTest_A1P2[[\"ID\",\"RF_G1_pred_A1P2\"]],on=['ID'],how='left')"
   ]
  },
  {
   "cell_type": "code",
   "execution_count": null,
   "id": "71f28ca2",
   "metadata": {},
   "outputs": [],
   "source": [
    "KNN_y_test_uniform_A2P1.rename(columns={\"KNN_pred_uniform\": \"KNN_uniform_pred_A2P1\"}, inplace=True)\n",
    "KNN_y_test_uniform_A1P2.rename(columns={\"KNN_pred_uniform\": \"KNN_uniform_pred_A1P2\"}, inplace=True)"
   ]
  },
  {
   "cell_type": "code",
   "execution_count": null,
   "id": "99751ced",
   "metadata": {},
   "outputs": [],
   "source": [
    "SG_common_mistakes=pd.merge(SG_common_mistakes,\\\n",
    "                            KNN_y_test_uniform_A2P1[[\"ID\",\"KNN_uniform_pred_A2P1\"]], on=['ID'], how='left')\n",
    "\n",
    "SG_common_mistakes=pd.merge(SG_common_mistakes,\\\n",
    "                            KNN_y_test_uniform_A1P2[[\"ID\",\"KNN_uniform_pred_A1P2\"]], on=['ID'], how='left')"
   ]
  },
  {
   "cell_type": "code",
   "execution_count": null,
   "id": "a29b7ecd",
   "metadata": {},
   "outputs": [],
   "source": [
    "NN_result_A2P1.rename(columns={\"prob_point7\": \"NN_pred_A2P1\"}, inplace=True)\n",
    "NN_result_A1P2.rename(columns={\"prob_point7\": \"NN_pred_A1P2\"}, inplace=True)"
   ]
  },
  {
   "cell_type": "code",
   "execution_count": null,
   "id": "b73a008c",
   "metadata": {},
   "outputs": [],
   "source": [
    "SG_common_mistakes=pd.merge(SG_common_mistakes,\\\n",
    "                            NN_result_A2P1[[\"ID\",\"NN_pred_A2P1\"]], on=['ID'], how='left')\n",
    "\n",
    "SG_common_mistakes=pd.merge(SG_common_mistakes,\\\n",
    "                            NN_result_A1P2[[\"ID\",\"NN_pred_A1P2\"]], on=['ID'], how='left')"
   ]
  },
  {
   "cell_type": "code",
   "execution_count": null,
   "id": "e5356b3d",
   "metadata": {},
   "outputs": [],
   "source": [
    "# thresh int, Require that many non-NA values.\n",
    "SG_common_mistakes_clean=SG_common_mistakes.dropna(thresh=4)\n",
    "SG_common_mistakes_clean"
   ]
  },
  {
   "cell_type": "code",
   "execution_count": null,
   "id": "df571b76",
   "metadata": {},
   "outputs": [],
   "source": [
    "SG_common_mistakes_clean=pd.merge(SG_common_mistakes_clean, meta, on=['ID'], how='left')\n",
    "SG_common_mistakes_clean"
   ]
  },
  {
   "cell_type": "code",
   "execution_count": null,
   "id": "dcf2b67a",
   "metadata": {},
   "outputs": [],
   "source": []
  },
  {
   "cell_type": "code",
   "execution_count": null,
   "id": "a004bef8",
   "metadata": {},
   "outputs": [],
   "source": [
    "vote_columns =['SVM_balanced_pred_A2P1', 'SVM_balanced_pred_A1P2',\n",
    "               'RF_G1_pred_A2P1', 'RF_G1_pred_A1P2', \n",
    "               'KNN_uniform_pred_A2P1', 'KNN_uniform_pred_A1P2',\n",
    "               'NN_pred_A2P1', 'NN_pred_A1P2']\n",
    "\n",
    "vote_colMethod =['SVM', 'SVM', 'RF', 'RF', 'kNN', 'kNN', 'NN', 'NN']\n",
    "               \n",
    "for anID in list(SG_common_mistakes_clean.ID):\n",
    "    curr_dt = ground_truth[ground_truth.ID==anID].copy()\n",
    "    curr_meta = meta[meta.ID==anID].copy()\n",
    "    \n",
    "    curr_year=curr_dt.human_system_start_time.dt.year.unique()[0]\n",
    "    curr_raw = landsat_DF[landsat_DF.ID==anID].copy()\n",
    "    curr_raw=curr_raw[curr_raw.human_system_start_time.dt.year==curr_year]    \n",
    "    \n",
    "    curr_mistake = SG_common_mistakes_clean[SG_common_mistakes_clean.ID==anID]\n",
    "    curr_vote=list(curr_mistake.Vote)[0]\n",
    "    v = (curr_mistake[vote_columns].notna().iloc[0])*1\n",
    "    mistakeMethods=[vote_colMethod[i] for i in np.where(v.values == 1)[0]]\n",
    "\n",
    "    title_ = list(curr_meta.CropTyp)[0] + \" (\" + str(list(curr_meta.Acres)[0]) + \\\n",
    "             \" acre), Expert Vote: \" + str(curr_vote) + \", mistakes: \" + str(mistakeMethods)\n",
    "    \n",
    "    curr_plt = plot_oneColumn_CropTitle(dt=curr_dt, raw_dt=curr_raw, titlee=title_, \n",
    "                                        _label = \"EVI (5-step smoothed)\")\n",
    "    \n",
    "    if curr_vote==2:\n",
    "        plot_path = test_result_dir + \"commonMistakes/SG/A2P1/\"\n",
    "    else:\n",
    "        plot_path = test_result_dir + \"commonMistakes/SG/A1P2/\"\n",
    "        \n",
    "    os.makedirs(plot_path, exist_ok=True)\n",
    "    fig_name = plot_path + anID + '.pdf'\n",
    "    plt.savefig(fname = fig_name, dpi=400, bbox_inches='tight')\n",
    "    plt.close('all')"
   ]
  },
  {
   "cell_type": "code",
   "execution_count": null,
   "id": "4fdb16ef",
   "metadata": {},
   "outputs": [],
   "source": [
    "SG_common_mistakes_clean.sort_values(by=['Vote', 'CropTyp'], inplace=True)"
   ]
  },
  {
   "cell_type": "code",
   "execution_count": null,
   "id": "ba78cf76",
   "metadata": {},
   "outputs": [],
   "source": [
    "SG_common_mistakes_clean.iloc[12]"
   ]
  },
  {
   "cell_type": "code",
   "execution_count": null,
   "id": "e4932c65",
   "metadata": {},
   "outputs": [],
   "source": []
  },
  {
   "cell_type": "code",
   "execution_count": null,
   "id": "0e31a504",
   "metadata": {},
   "outputs": [],
   "source": []
  },
  {
   "cell_type": "code",
   "execution_count": null,
   "id": "5c0b9094",
   "metadata": {},
   "outputs": [],
   "source": []
  },
  {
   "cell_type": "code",
   "execution_count": null,
   "id": "210c81d8",
   "metadata": {},
   "outputs": [],
   "source": [
    "# training_set_dir = \"/Users/hn/Documents/01_research_data/NASA/ML_data/\"\n",
    "# ground_truth_labels = pd.read_csv(training_set_dir+\"train_labels.csv\")\n",
    "\n",
    "# expert_test_dir = \"/Users/hn/Documents/01_research_data/NASA/ML_data/SG_train_images_\" + VI_idx + \"/test20/\"\n",
    "\n",
    "# test_filenames = os.listdir(expert_test_dir)\n",
    "# expert_test_df = pd.DataFrame({'filename': test_filenames})\n",
    "# nb_samples = expert_test_df.shape[0]\n",
    "\n",
    "# expert_test_df[\"human_predict\"] = expert_test_df.filename.str.split(\"_\", expand=True)[0]\n",
    "# expert_test_df[\"prob_single\"]=-1.0\n",
    "# print (expert_test_df.shape)\n",
    "# expert_test_df.head(2)\n",
    "\n",
    "# def load_image(filename):\n",
    "#     # load the image\n",
    "#     img = load_img(filename, target_size=(224, 224))\n",
    "#     # convert to array\n",
    "#     img = img_to_array(img)\n",
    "#     # reshape into a single sample with 3 channels\n",
    "#     img = img.reshape(1, 224, 224, 3)\n",
    "#     # center pixel data\n",
    "#     img = img.astype('float32')\n",
    "#     img = img - [123.68, 116.779, 103.939]\n",
    "#     return img\n",
    "\n",
    "# # load an image and predict the class\n",
    "# def run_example():\n",
    "#     # load the image\n",
    "#     test_dir = experts_test_dir = \"/Users/hn/Documents/01_research_data/NASA/ML_data/\" + \\\n",
    "#                                   \"SG_train_images_\" + VI_idx + \"/test20/\"\n",
    "    \n",
    "#     img = load_image(test_dir+'double_1624_WSDA_SF_2016.jpg')\n",
    "#     # load model\n",
    "#     model_dir = \"/Users/hn/Documents/01_research_data/NASA/ML_Models/\"\n",
    "#     model = load_model(model_dir + '01_TL_SingleDoubleEVI_SG_train80.h5')\n",
    "#     result = model.predict(img)\n",
    "#     print(\"result[0]: \", result[0])\n",
    "\n",
    "# # entry point, run the example\n",
    "# run_example()\n",
    "\n",
    "# file_name = 'double_101163_WSDA_SF_2017.jpg'\n",
    "# test_dir = \"/Users/hn/Documents/01_research_data/NASA/ML_data/\" + \\\n",
    "#            \"/limitCrops_nonExpert_images_\" + VI_idx + \"/\"\n",
    "# img = load_image(test_dir+file_name)\n",
    "# result = model.predict(img)\n",
    "# print (\"probability of being single cropped is {}.\".format(result[0]))\n",
    "\n",
    "# pyplot.subplot(111)\n",
    "# # define filename\n",
    "# filename = img\n",
    "# image = imread(test_dir+file_name)\n",
    "# pyplot.imshow(image)\n",
    "# pyplot.show()"
   ]
  }
 ],
 "metadata": {
  "kernelspec": {
   "display_name": "Python 3 (ipykernel)",
   "language": "python",
   "name": "python3"
  },
  "language_info": {
   "codemirror_mode": {
    "name": "ipython",
    "version": 3
   },
   "file_extension": ".py",
   "mimetype": "text/x-python",
   "name": "python",
   "nbconvert_exporter": "python",
   "pygments_lexer": "ipython3",
   "version": "3.9.12"
  }
 },
 "nbformat": 4,
 "nbformat_minor": 5
}
