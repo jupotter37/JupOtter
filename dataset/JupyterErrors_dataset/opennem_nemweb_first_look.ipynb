{
 "cells": [
  {
   "cell_type": "code",
   "execution_count": 1,
   "metadata": {},
   "outputs": [
    {
     "name": "stdout",
     "output_type": "stream",
     "text": [
      "removed \n"
     ]
    }
   ],
   "source": [
    "from nemweb import CONFIG\n",
    "import os\n",
    "\n",
    "db_path = os.path.join(\n",
    "    CONFIG['local_settings']['sqlite_dir'], 'test.db')\n",
    "db_path\n",
    "\n",
    "import os\n",
    "if os.path.exists(db_path):\n",
    "    os.remove(db_path)\n",
    "    print('removed ')"
   ]
  },
  {
   "cell_type": "code",
   "execution_count": 2,
   "metadata": {},
   "outputs": [],
   "source": [
    "from nemweb.nemweb_current import CurrentFileHandler, DATASETS, update_datasets"
   ]
  },
  {
   "cell_type": "code",
   "execution_count": 3,
   "metadata": {},
   "outputs": [],
   "source": [
    "handler = CurrentFileHandler()"
   ]
  },
  {
   "cell_type": "code",
   "execution_count": 4,
   "metadata": {},
   "outputs": [
    {
     "data": {
      "text/plain": [
       "dict_keys(['dispatch_scada', 'trading_is', 'rooftopPV_actual', 'next_day_actual_gen', 'dispatch_is', 'next_day_dispatch'])"
      ]
     },
     "execution_count": 4,
     "metadata": {},
     "output_type": "execute_result"
    }
   ],
   "source": [
    "DATASETS.keys()"
   ]
  },
  {
   "cell_type": "code",
   "execution_count": 5,
   "metadata": {},
   "outputs": [
    {
     "data": {
      "text/plain": [
       "NemwebCurrentFile(dataset_name='TradingIS_Reports', nemfile_pattern='PUBLIC_TRADINGIS_([0-9]{12})_[0-9]{16}.zip', datetime_format='%Y%m%d%H%M', datetime_column='SETTLEMENTDATE', tables=['TRADING_PRICE', 'TRADING_REGIONSUM', 'TRADING_INTERCONNECTORRES'])"
      ]
     },
     "execution_count": 5,
     "metadata": {},
     "output_type": "execute_result"
    }
   ],
   "source": [
    "DATASETS['trading_is']"
   ]
  },
  {
   "cell_type": "code",
   "execution_count": 6,
   "metadata": {},
   "outputs": [
    {
     "name": "stdout",
     "output_type": "stream",
     "text": [
      "TradingIS_Reports 2018-09-21 00:30:00\n",
      "TradingIS_Reports 2018-09-21 01:00:00\n",
      "TradingIS_Reports 2018-09-21 01:30:00\n",
      "TradingIS_Reports 2018-09-21 02:00:00\n",
      "TradingIS_Reports 2018-09-21 02:30:00\n",
      "TradingIS_Reports 2018-09-21 03:00:00\n",
      "TradingIS_Reports 2018-09-21 03:30:00\n",
      "TradingIS_Reports 2018-09-21 04:00:00\n",
      "TradingIS_Reports 2018-09-21 04:30:00\n",
      "TradingIS_Reports 2018-09-21 05:00:00\n",
      "TradingIS_Reports 2018-09-21 05:30:00\n",
      "TradingIS_Reports 2018-09-21 06:00:00\n",
      "TradingIS_Reports 2018-09-21 06:30:00\n",
      "TradingIS_Reports 2018-09-21 07:00:00\n",
      "TradingIS_Reports 2018-09-21 07:30:00\n",
      "TradingIS_Reports 2018-09-21 08:00:00\n",
      "TradingIS_Reports 2018-09-21 08:30:00\n",
      "TradingIS_Reports 2018-09-21 09:00:00\n",
      "TradingIS_Reports 2018-09-21 09:30:00\n",
      "TradingIS_Reports 2018-09-21 10:00:00\n",
      "TradingIS_Reports 2018-09-21 10:30:00\n",
      "TradingIS_Reports 2018-09-21 11:00:00\n",
      "TradingIS_Reports 2018-09-21 11:30:00\n",
      "TradingIS_Reports 2018-09-21 12:00:00\n",
      "TradingIS_Reports 2018-09-21 12:30:00\n",
      "TradingIS_Reports 2018-09-21 13:00:00\n",
      "TradingIS_Reports 2018-09-21 13:30:00\n",
      "TradingIS_Reports 2018-09-21 14:00:00\n",
      "TradingIS_Reports 2018-09-21 14:30:00\n",
      "TradingIS_Reports 2018-09-21 15:00:00\n",
      "TradingIS_Reports 2018-09-21 15:30:00\n",
      "TradingIS_Reports 2018-09-21 16:00:00\n",
      "TradingIS_Reports 2018-09-21 16:30:00\n",
      "TradingIS_Reports 2018-09-21 17:00:00\n",
      "TradingIS_Reports 2018-09-21 17:30:00\n",
      "TradingIS_Reports 2018-09-21 18:00:00\n",
      "TradingIS_Reports 2018-09-21 18:30:00\n",
      "TradingIS_Reports 2018-09-21 19:00:00\n",
      "TradingIS_Reports 2018-09-21 19:30:00\n",
      "TradingIS_Reports 2018-09-21 20:00:00\n",
      "TradingIS_Reports 2018-09-21 20:30:00\n",
      "TradingIS_Reports 2018-09-21 21:00:00\n",
      "TradingIS_Reports 2018-09-21 21:30:00\n",
      "TradingIS_Reports 2018-09-21 22:00:00\n",
      "TradingIS_Reports 2018-09-21 22:30:00\n",
      "TradingIS_Reports 2018-09-21 23:00:00\n",
      "TradingIS_Reports 2018-09-21 23:30:00\n"
     ]
    }
   ],
   "source": [
    "handler.update_data(DATASETS['trading_is'], start_date='20180921', end_date='20180922', print_progress=True, db_name='test.db')"
   ]
  },
  {
   "cell_type": "code",
   "execution_count": 7,
   "metadata": {},
   "outputs": [],
   "source": [
    "import sqlite3\n",
    "conn = sqlite3.connect(db_path)\n",
    "cur = conn.cursor()"
   ]
  },
  {
   "cell_type": "code",
   "execution_count": 23,
   "metadata": {},
   "outputs": [],
   "source": [
    "test_data = cur.execute(\"SELECT RRP FROM TRADING_PRICE\").fetchall()"
   ]
  },
  {
   "cell_type": "code",
   "execution_count": 24,
   "metadata": {},
   "outputs": [
    {
     "name": "stdout",
     "output_type": "stream",
     "text": [
      "[(7.44,), (96.53,), (84.65,), (101.03,), (120.01,), (156.11,), (90.73,), (78.22,), (138.45,), (0.79,), (4.75,), (94.97,), (113.56,), (127.14,), (79.67,), (99.48,), (102.09,), (115.56,), (2.06,), (83.27,), (139.05,), (6.1,), (84.55,), (101.78,), (165.42,), (85.13,), (70.77,), (108.15,), (91.64,), (7.46,), (72.17,), (91.53,), (7.46,), (61.84,), (76.9,), (84.54,), (65.84,), (13.27,), (77.68,), (100.19,), (77.25,), (96.29,), (84.65,), (63.4,), (7.36,), (18.23,), (94.11,), (105.9,), (88.5,), (77.29,), (62.55,), (74.36,), (70.67,), (2.78,), (83.43,), (72.26,), (85.31,), (4.31,), (81.36,), (96.54,), (-11.44,), (142.52,), (125.68,), (118.72,), (103.57,), (99.6,), (129.0,), (137.13,), (152.55,), (-13.79,), (110.95,), (81.18,), (125.85,), (6.09,), (144.5,), (144.26,), (6.1,), (110.85,), (127.81,), (65.49,), (127.25,), (103.07,), (60.65,), (-5.79,), (139.01,), (60.05,), (84.7,), (1.21,), (91.8,), (72.99,), (121.55,), (59.91,), (16.79,), (112.15,), (91.35,), (110.65,), (77.23,), (55.78,), (99.51,), (16.79,), (22.48,), (82.57,), (91.16,), (99.67,), (59.84,), (84.64,), (70.03,), (79.04,), (45.21,), (56.79,), (77.7,), (72.22,), (59.91,), (81.15,), (16.79,), (58.42,), (74.91,), (43.97,), (69.6,), (73.31,), (66.68,), (55.66,), (64.95,), (66.59,), (25.09,), (55.89,), (5.77,), (65.22,), (65.23,), (64.55,), (6.11,), (64.02,), (62.11,), (63.17,), (55.16,), (56.63,), (7.47,), (64.16,), (66.81,), (65.39,), (56.58,), (65.01,), (66.05,), (65.45,), (7.48,), (62.33,), (61.78,), (64.38,), (53.9,), (6.12,), (7.44,), (68.04,), (72.36,), (68.65,), (58.79,), (70.38,), (75.48,), (72.22,), (6.1,), (62.98,), (60.62,), (107.59,), (67.21,), (98.01,), (7.46,), (101.33,), (89.17,), (95.68,), (79.34,), (9.89,), (74.98,), (100.75,), (8.08,), (86.28,), (92.2,), (107.61,), (128.79,), (93.77,), (114.9,), (5.38,), (131.54,), (3.44,), (157.84,), (173.95,), (148.4,), (180.49,), (212.49,), (195.96,), (160.52,), (7.48,), (112.35,), (7.47,), (128.01,), (154.93,), (140.48,), (160.11,), (117.95,), (-0.61,), (145.86,), (134.18,), (146.35,), (112.02,), (-0.58,), (157.72,), (129.93,), (6.1,), (125.23,), (107.41,), (143.48,), (153.21,), (121.33,), (102.65,), (146.66,), (135.88,), (7.44,), (126.38,), (102.79,), (149.08,), (7.44,), (163.17,), (260.61,), (7.44,), (278.76,), (299.29,), (180.78,), (168.69,), (96.96,), (143.64,), (153.82,), (16.79,), (129.16,), (89.46,), (111.52,), (11.11,), (120.06,)]\n"
     ]
    }
   ],
   "source": [
    "print(test_data)"
   ]
  },
  {
   "cell_type": "code",
   "execution_count": 16,
   "metadata": {},
   "outputs": [],
   "source": [
    "from nemweb.utils import dump_pickle"
   ]
  },
  {
   "cell_type": "code",
   "execution_count": 25,
   "metadata": {},
   "outputs": [
    {
     "ename": "TypeError",
     "evalue": "expected str, bytes or os.PathLike object, not list",
     "output_type": "error",
     "traceback": [
      "\u001b[0;31m---------------------------------------------------------------------------\u001b[0m",
      "\u001b[0;31mTypeError\u001b[0m                                 Traceback (most recent call last)",
      "\u001b[0;32m<ipython-input-25-2045102e3043>\u001b[0m in \u001b[0;36m<module>\u001b[0;34m()\u001b[0m\n\u001b[1;32m      1\u001b[0m dump_pickle(os.path.join(CONFIG['local_settings']['sqlite_dir'], 'test_pickle.pkl'), \n\u001b[0;32m----> 2\u001b[0;31m             cur.execute(\"SELECT RRP FROM TRADING_PRICE\").fetchall())\n\u001b[0m",
      "\u001b[0;32m~/git/nemweb/nemweb/utils.py\u001b[0m in \u001b[0;36mdump_pickle\u001b[0;34m(obj, name)\u001b[0m\n\u001b[1;32m     10\u001b[0m         \u001b[0mname\u001b[0m \u001b[0;34m(\u001b[0m\u001b[0mstr\u001b[0m\u001b[0;34m)\u001b[0m \u001b[0mpath\u001b[0m \u001b[0mof\u001b[0m \u001b[0mthe\u001b[0m \u001b[0mdumped\u001b[0m \u001b[0mfile\u001b[0m\u001b[0;34m\u001b[0m\u001b[0m\n\u001b[1;32m     11\u001b[0m     \"\"\"\n\u001b[0;32m---> 12\u001b[0;31m     \u001b[0;32mwith\u001b[0m \u001b[0mopen\u001b[0m\u001b[0;34m(\u001b[0m\u001b[0mname\u001b[0m\u001b[0;34m,\u001b[0m \u001b[0;34m'wb'\u001b[0m\u001b[0;34m)\u001b[0m \u001b[0;32mas\u001b[0m \u001b[0mhandle\u001b[0m\u001b[0;34m:\u001b[0m\u001b[0;34m\u001b[0m\u001b[0m\n\u001b[0m\u001b[1;32m     13\u001b[0m         \u001b[0mpickle\u001b[0m\u001b[0;34m.\u001b[0m\u001b[0mdump\u001b[0m\u001b[0;34m(\u001b[0m\u001b[0mobj\u001b[0m\u001b[0;34m,\u001b[0m \u001b[0mhandle\u001b[0m\u001b[0;34m,\u001b[0m \u001b[0mprotocol\u001b[0m\u001b[0;34m=\u001b[0m\u001b[0mpickle\u001b[0m\u001b[0;34m.\u001b[0m\u001b[0mHIGHEST_PROTOCOL\u001b[0m\u001b[0;34m)\u001b[0m\u001b[0;34m\u001b[0m\u001b[0m\n\u001b[1;32m     14\u001b[0m \u001b[0;34m\u001b[0m\u001b[0m\n",
      "\u001b[0;31mTypeError\u001b[0m: expected str, bytes or os.PathLike object, not list"
     ]
    }
   ],
   "source": [
    "dump_pickle(os.path.join(CONFIG['local_settings']['sqlite_dir'], 'test_pickle.pkl'), \n",
    "            cur.execute(\"SELECT RRP FROM TRADING_PRICE\").fetchall())"
   ]
  },
  {
   "cell_type": "code",
   "execution_count": null,
   "metadata": {},
   "outputs": [],
   "source": []
  }
 ],
 "metadata": {
  "kernelspec": {
   "display_name": "Python 3",
   "language": "python",
   "name": "python3"
  },
  "language_info": {
   "codemirror_mode": {
    "name": "ipython",
    "version": 3
   },
   "file_extension": ".py",
   "mimetype": "text/x-python",
   "name": "python",
   "nbconvert_exporter": "python",
   "pygments_lexer": "ipython3",
   "version": "3.6.6"
  }
 },
 "nbformat": 4,
 "nbformat_minor": 2
}
