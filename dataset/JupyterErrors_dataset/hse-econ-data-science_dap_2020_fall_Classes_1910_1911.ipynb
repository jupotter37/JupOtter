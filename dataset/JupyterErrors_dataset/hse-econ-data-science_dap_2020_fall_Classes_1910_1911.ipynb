{
 "cells": [
  {
   "cell_type": "markdown",
   "metadata": {},
   "source": [
    "## Классы\n",
    "Классы в питоне - это способ работать с объектом у которого необходимо иметь состояние. Как правило, вам необходимо с этим состоянием как-то работать: модифицировать или узнавать что-то. Для этого в классах используются методы: особые функции, которые имеют доступ к содержимому вашего объекта."
   ]
  },
  {
   "cell_type": "markdown",
   "metadata": {},
   "source": [
    "Рассмотрим пример. Предположим у вас есть сеть отелей. И вам было бы очень удобно работать с отелем, кок отдельным объектом. Что является состоянием отеля? Для простоты предположим, что только информация о заполненных/свободных номерах. Тогда мы можем описать отель следующим образом:\n",
    "\n",
    "```python\n",
    "class Hotel:\n",
    "    def __init__(self, num_of_rooms):\n",
    "        self.rooms = [0 for _ in range(num_of_rooms)]\n",
    "```\n",
    "\n",
    "При создании объекта `Hotel` ему нужно будет передать количество комнат в этом отеле. Информацию о свободных и занятых комнатах мы будем хранить в массиве длины `num_of_rooms`, где 0 - комната свободна, 1 - комната занята.\n",
    "\n",
    "Какие функции помощники нам нужны? Мы бы наверное хотели уметь занимать комнаты (когда кто-то въезжает) и освобждать. Для этого напишем два метода `occupy` и `realize`.\n",
    "\n",
    "```python\n",
    "class Hotel:\n",
    "    def __init__(self, num_of_rooms):\n",
    "        self.rooms = [0 for _ in range(num_of_rooms)]\n",
    "        \n",
    "    def occupy(self, room_id):\n",
    "        self.rooms[room_id] = 1\n",
    "        \n",
    "    def free(self, room_id):\n",
    "        self.rooms[room_id] = 0\n",
    "```\n",
    "\n",
    "Отлично, теперь мы можем выполнять элементарные действия с нашим классом. Попробуйте создать класс и занять несколько комнат."
   ]
  },
  {
   "cell_type": "code",
   "execution_count": 2,
   "metadata": {},
   "outputs": [],
   "source": [
    "class Hotel:\n",
    "    def __init__(self, num_of_rooms):\n",
    "        self.rooms = [0 for _ in range(num_of_rooms)]\n",
    "        \n",
    "    def occupy(self, room_id):\n",
    "        self.rooms[room_id] = 1\n",
    "        \n",
    "    def free(self, room_id):\n",
    "        self.rooms[room_id] = 0"
   ]
  },
  {
   "cell_type": "code",
   "execution_count": 3,
   "metadata": {},
   "outputs": [
    {
     "data": {
      "text/plain": [
       "[1, 0, 0, 0, 0, 0, 0, 0, 0, 1]"
      ]
     },
     "execution_count": 3,
     "metadata": {},
     "output_type": "execute_result"
    }
   ],
   "source": [
    "Radisson = Hotel(10)\n",
    "Radisson.occupy(0)\n",
    "Radisson.occupy(9)\n",
    "Radisson.rooms"
   ]
  },
  {
   "cell_type": "markdown",
   "metadata": {},
   "source": [
    "Зачем нам нужны классы? Ведь можно было написать функцию\n",
    "```python\n",
    "def occupy(rooms, room_id):\n",
    "    rooms[room_id] = 1\n",
    "    return rooms\n",
    "```\n",
    "\n",
    "Плюс работы с объектами в том, что тем, кто пользуются нашим классом (включая нас самих) не нужно думать о том, как мы реализовали хранение комнат. Если в какой-то момент мы захотим изменить `list` на `dict` (например мы заметили, что так быстрее), никто ничего не заметит. Код пользователей не изменится. Тоже самое касается функциональности - если мы вдруг решили, что нам нужно добавить бронирование на дату, мы можем это сделать и те кто уже пользуются нашим классом - ничего не заметят. У них ничего не сломается. А это очень важно."
   ]
  },
  {
   "cell_type": "markdown",
   "metadata": {},
   "source": [
    "# Задание 1\n",
    "\n",
    "Допишите несколько методов в класс `Hotel`.\n",
    "\n",
    "Напишите метод `occupancy_rate`. Метод должен возвращать долю комнат, которые заняты.\n",
    "\n",
    "Напишите метод `close`. Метод должен освобождать все комнаты. Если `occupancy_rate` написан корректно, то после `close` `occupancy_rate` должен возвращать 0."
   ]
  },
  {
   "cell_type": "code",
   "execution_count": 5,
   "metadata": {},
   "outputs": [],
   "source": [
    "class Hotel:\n",
    "    def __init__(self, num_of_rooms):\n",
    "        self.rooms = [0 for _ in range(num_of_rooms)]\n",
    "        \n",
    "    def occupy(self, room_id):\n",
    "        self.rooms[room_id] = 1\n",
    "        \n",
    "    def free(self, room_id):\n",
    "        self.rooms[room_id] = 0\n",
    "        \n",
    "    def occupancy_rate(self):\n",
    "        return sum(self.rooms) / len(self.rooms)\n",
    "    \n",
    "    def close(self):\n",
    "        for room in range(len(self.rooms)):\n",
    "            self.free(room)"
   ]
  },
  {
   "cell_type": "code",
   "execution_count": 8,
   "metadata": {},
   "outputs": [
    {
     "data": {
      "text/plain": [
       "0.2"
      ]
     },
     "execution_count": 8,
     "metadata": {},
     "output_type": "execute_result"
    }
   ],
   "source": [
    "Radisson = Hotel(10)\n",
    "Radisson.occupy(0)\n",
    "Radisson.occupy(9)\n",
    "Radisson.occupancy_rate()"
   ]
  },
  {
   "cell_type": "code",
   "execution_count": 9,
   "metadata": {},
   "outputs": [
    {
     "data": {
      "text/plain": [
       "0.0"
      ]
     },
     "execution_count": 9,
     "metadata": {},
     "output_type": "execute_result"
    }
   ],
   "source": [
    "Radisson.close()\n",
    "Radisson.occupancy_rate()"
   ]
  },
  {
   "cell_type": "code",
   "execution_count": null,
   "metadata": {},
   "outputs": [],
   "source": [
    "# Как еще написать функцию close?"
   ]
  },
  {
   "cell_type": "markdown",
   "metadata": {},
   "source": [
    "# Задание 2\n",
    "Мы хотим, чтобы пользователь нашего класса не натворил глупостей. Например, не пытался занять уже занятую комнату. Допишите методы `occupy` и `free`. Проверьте внутри них, что состояние комнаты действительно меняется. Иначе вы должны бросить исключение с понятным текстом.\n",
    "\n",
    "Напоминаю, что исключение - это такая конструкция, когда программа завершает работу из некоторой точки. Как правило в случае появления ошибки.\n",
    "Синтаксис\n",
    "```python\n",
    "raise RuntimeError(\"Bad news\")\n",
    "```"
   ]
  },
  {
   "cell_type": "code",
   "execution_count": 13,
   "metadata": {},
   "outputs": [],
   "source": [
    "class Hotel:\n",
    "    def __init__(self, num_of_rooms):\n",
    "        self.rooms = [0 for _ in range(num_of_rooms)]\n",
    "        \n",
    "    def occupy(self, room_id):\n",
    "        if self.rooms[room_id] == 1: # если номер уже занят\n",
    "            raise RuntimeError(\"Bad news\")\n",
    "        self.rooms[room_id] = 1\n",
    "        \n",
    "    def free(self, room_id):\n",
    "        if self.rooms[room_id] == 0:\n",
    "            raise RuntimeError(\"Bad news\")\n",
    "        self.rooms[room_id] = 0\n",
    "        \n",
    "    def occupancy_rate(self):\n",
    "        return sum(self.rooms) / len(self.rooms)\n",
    "    \n",
    "    def close(self):\n",
    "        for room in range(len(self.rooms)):\n",
    "            self.free(room)"
   ]
  },
  {
   "cell_type": "code",
   "execution_count": 14,
   "metadata": {},
   "outputs": [],
   "source": [
    "Radisson = Hotel(10)\n",
    "Radisson.occupy(0)"
   ]
  },
  {
   "cell_type": "code",
   "execution_count": 15,
   "metadata": {},
   "outputs": [
    {
     "ename": "RuntimeError",
     "evalue": "Bad news",
     "output_type": "error",
     "traceback": [
      "\u001b[0;31m---------------------------------------------------------------------------\u001b[0m",
      "\u001b[0;31mRuntimeError\u001b[0m                              Traceback (most recent call last)",
      "\u001b[0;32m<ipython-input-15-16771eb8621a>\u001b[0m in \u001b[0;36m<module>\u001b[0;34m\u001b[0m\n\u001b[0;32m----> 1\u001b[0;31m \u001b[0mRadisson\u001b[0m\u001b[0;34m.\u001b[0m\u001b[0moccupy\u001b[0m\u001b[0;34m(\u001b[0m\u001b[0;36m0\u001b[0m\u001b[0;34m)\u001b[0m\u001b[0;34m\u001b[0m\u001b[0;34m\u001b[0m\u001b[0m\n\u001b[0m",
      "\u001b[0;32m<ipython-input-13-8b389146cf18>\u001b[0m in \u001b[0;36moccupy\u001b[0;34m(self, room_id)\u001b[0m\n\u001b[1;32m      5\u001b[0m     \u001b[0;32mdef\u001b[0m \u001b[0moccupy\u001b[0m\u001b[0;34m(\u001b[0m\u001b[0mself\u001b[0m\u001b[0;34m,\u001b[0m \u001b[0mroom_id\u001b[0m\u001b[0;34m)\u001b[0m\u001b[0;34m:\u001b[0m\u001b[0;34m\u001b[0m\u001b[0;34m\u001b[0m\u001b[0m\n\u001b[1;32m      6\u001b[0m         \u001b[0;32mif\u001b[0m \u001b[0mself\u001b[0m\u001b[0;34m.\u001b[0m\u001b[0mrooms\u001b[0m\u001b[0;34m[\u001b[0m\u001b[0mroom_id\u001b[0m\u001b[0;34m]\u001b[0m \u001b[0;34m==\u001b[0m \u001b[0;36m1\u001b[0m\u001b[0;34m:\u001b[0m \u001b[0;31m# если номер уже занят\u001b[0m\u001b[0;34m\u001b[0m\u001b[0;34m\u001b[0m\u001b[0m\n\u001b[0;32m----> 7\u001b[0;31m             \u001b[0;32mraise\u001b[0m \u001b[0mRuntimeError\u001b[0m\u001b[0;34m(\u001b[0m\u001b[0;34m\"Bad news\"\u001b[0m\u001b[0;34m)\u001b[0m\u001b[0;34m\u001b[0m\u001b[0;34m\u001b[0m\u001b[0m\n\u001b[0m\u001b[1;32m      8\u001b[0m         \u001b[0mself\u001b[0m\u001b[0;34m.\u001b[0m\u001b[0mrooms\u001b[0m\u001b[0;34m[\u001b[0m\u001b[0mroom_id\u001b[0m\u001b[0;34m]\u001b[0m \u001b[0;34m=\u001b[0m \u001b[0;36m1\u001b[0m\u001b[0;34m\u001b[0m\u001b[0;34m\u001b[0m\u001b[0m\n\u001b[1;32m      9\u001b[0m \u001b[0;34m\u001b[0m\u001b[0m\n",
      "\u001b[0;31mRuntimeError\u001b[0m: Bad news"
     ]
    }
   ],
   "source": [
    "# Проверили, что номер уже занят, и его нельзя занять другими гостями\n",
    "Radisson.occupy(0)"
   ]
  },
  {
   "cell_type": "code",
   "execution_count": 16,
   "metadata": {},
   "outputs": [],
   "source": [
    "Radisson.free(0)"
   ]
  },
  {
   "cell_type": "code",
   "execution_count": 17,
   "metadata": {},
   "outputs": [
    {
     "ename": "RuntimeError",
     "evalue": "Bad news",
     "output_type": "error",
     "traceback": [
      "\u001b[0;31m---------------------------------------------------------------------------\u001b[0m",
      "\u001b[0;31mRuntimeError\u001b[0m                              Traceback (most recent call last)",
      "\u001b[0;32m<ipython-input-17-a7287e61cd22>\u001b[0m in \u001b[0;36m<module>\u001b[0;34m\u001b[0m\n\u001b[0;32m----> 1\u001b[0;31m \u001b[0mRadisson\u001b[0m\u001b[0;34m.\u001b[0m\u001b[0mfree\u001b[0m\u001b[0;34m(\u001b[0m\u001b[0;36m0\u001b[0m\u001b[0;34m)\u001b[0m\u001b[0;34m\u001b[0m\u001b[0;34m\u001b[0m\u001b[0m\n\u001b[0m",
      "\u001b[0;32m<ipython-input-13-8b389146cf18>\u001b[0m in \u001b[0;36mfree\u001b[0;34m(self, room_id)\u001b[0m\n\u001b[1;32m     10\u001b[0m     \u001b[0;32mdef\u001b[0m \u001b[0mfree\u001b[0m\u001b[0;34m(\u001b[0m\u001b[0mself\u001b[0m\u001b[0;34m,\u001b[0m \u001b[0mroom_id\u001b[0m\u001b[0;34m)\u001b[0m\u001b[0;34m:\u001b[0m\u001b[0;34m\u001b[0m\u001b[0;34m\u001b[0m\u001b[0m\n\u001b[1;32m     11\u001b[0m         \u001b[0;32mif\u001b[0m \u001b[0mself\u001b[0m\u001b[0;34m.\u001b[0m\u001b[0mrooms\u001b[0m\u001b[0;34m[\u001b[0m\u001b[0mroom_id\u001b[0m\u001b[0;34m]\u001b[0m \u001b[0;34m==\u001b[0m \u001b[0;36m0\u001b[0m\u001b[0;34m:\u001b[0m\u001b[0;34m\u001b[0m\u001b[0;34m\u001b[0m\u001b[0m\n\u001b[0;32m---> 12\u001b[0;31m             \u001b[0;32mraise\u001b[0m \u001b[0mRuntimeError\u001b[0m\u001b[0;34m(\u001b[0m\u001b[0;34m\"Bad news\"\u001b[0m\u001b[0;34m)\u001b[0m\u001b[0;34m\u001b[0m\u001b[0;34m\u001b[0m\u001b[0m\n\u001b[0m\u001b[1;32m     13\u001b[0m         \u001b[0mself\u001b[0m\u001b[0;34m.\u001b[0m\u001b[0mrooms\u001b[0m\u001b[0;34m[\u001b[0m\u001b[0mroom_id\u001b[0m\u001b[0;34m]\u001b[0m \u001b[0;34m=\u001b[0m \u001b[0;36m0\u001b[0m\u001b[0;34m\u001b[0m\u001b[0;34m\u001b[0m\u001b[0m\n\u001b[1;32m     14\u001b[0m \u001b[0;34m\u001b[0m\u001b[0m\n",
      "\u001b[0;31mRuntimeError\u001b[0m: Bad news"
     ]
    }
   ],
   "source": [
    "# Проверили, что номер уже свободен, поэтому повторно его освобождать не нужно\n",
    "Radisson.free(0)"
   ]
  },
  {
   "cell_type": "markdown",
   "metadata": {},
   "source": [
    "# Задание 3\n",
    "Добавьте возможность бронировать номера. Метод назовем `book(self, date, room_id)`. На вход приходит дата и номер комнаты и она становится занята. Если бронь не удалась, бросьте исключение. Перед бронью убедитесь, что комната свободна. Для этого напишите метод `is_booked(self, date, room_id)`. "
   ]
  },
  {
   "cell_type": "code",
   "execution_count": 18,
   "metadata": {},
   "outputs": [],
   "source": [
    "class Hotel:\n",
    "    def __init__(self, num_of_rooms):\n",
    "        self.rooms = [0 for _ in range(num_of_rooms)]\n",
    "        self.booked_rooms = set()\n",
    "        \n",
    "    def occupy(self, room_id):\n",
    "        if self.rooms[room_id] == 1: # если номер уже занят\n",
    "            raise RuntimeError(\"Bad news\")\n",
    "        self.rooms[room_id] = 1\n",
    "        \n",
    "    def free(self, room_id):\n",
    "        if self.rooms[room_id] == 0:\n",
    "            raise RuntimeError(\"Bad news\")\n",
    "        self.rooms[room_id] = 0\n",
    "        \n",
    "    def occupancy_rate(self):\n",
    "        return sum(self.rooms) / len(self.rooms)\n",
    "    \n",
    "    def close(self):\n",
    "        for room in range(len(self.rooms)):\n",
    "            self.free(room)\n",
    "\n",
    "    def is_booked(self, date, room_id):\n",
    "        return (date, room_id) in self.booked_rooms\n",
    "    \n",
    "    def book(self, date, room_id):\n",
    "        if self.is_booked(date, room_id):\n",
    "            raise RuntimeError(f\"Room {room_id} is already booked for {date}\")\n",
    "        self.booked_rooms.add((date, room_id))"
   ]
  },
  {
   "cell_type": "code",
   "execution_count": 20,
   "metadata": {},
   "outputs": [
    {
     "data": {
      "text/plain": [
       "{('2020-10-30', 0), ('2020-11-02', 2)}"
      ]
     },
     "execution_count": 20,
     "metadata": {},
     "output_type": "execute_result"
    }
   ],
   "source": [
    "Hilton = Hotel(20)\n",
    "Hilton.book('2020-10-30', 0) # забронировали первый номер на 30 октября\n",
    "Hilton.book('2020-11-02', 2)\n",
    "Hilton.booked_rooms"
   ]
  },
  {
   "cell_type": "code",
   "execution_count": 21,
   "metadata": {},
   "outputs": [
    {
     "ename": "RuntimeError",
     "evalue": "Room 0 is already booked for 2020-10-30",
     "output_type": "error",
     "traceback": [
      "\u001b[0;31m---------------------------------------------------------------------------\u001b[0m",
      "\u001b[0;31mRuntimeError\u001b[0m                              Traceback (most recent call last)",
      "\u001b[0;32m<ipython-input-21-868cb49c9075>\u001b[0m in \u001b[0;36m<module>\u001b[0;34m\u001b[0m\n\u001b[0;32m----> 1\u001b[0;31m \u001b[0mHilton\u001b[0m\u001b[0;34m.\u001b[0m\u001b[0mbook\u001b[0m\u001b[0;34m(\u001b[0m\u001b[0;34m'2020-10-30'\u001b[0m\u001b[0;34m,\u001b[0m \u001b[0;36m0\u001b[0m\u001b[0;34m)\u001b[0m\u001b[0;34m\u001b[0m\u001b[0;34m\u001b[0m\u001b[0m\n\u001b[0m",
      "\u001b[0;32m<ipython-input-18-4332f51dcf00>\u001b[0m in \u001b[0;36mbook\u001b[0;34m(self, date, room_id)\u001b[0m\n\u001b[1;32m     26\u001b[0m     \u001b[0;32mdef\u001b[0m \u001b[0mbook\u001b[0m\u001b[0;34m(\u001b[0m\u001b[0mself\u001b[0m\u001b[0;34m,\u001b[0m \u001b[0mdate\u001b[0m\u001b[0;34m,\u001b[0m \u001b[0mroom_id\u001b[0m\u001b[0;34m)\u001b[0m\u001b[0;34m:\u001b[0m\u001b[0;34m\u001b[0m\u001b[0;34m\u001b[0m\u001b[0m\n\u001b[1;32m     27\u001b[0m         \u001b[0;32mif\u001b[0m \u001b[0mself\u001b[0m\u001b[0;34m.\u001b[0m\u001b[0mis_booked\u001b[0m\u001b[0;34m(\u001b[0m\u001b[0mdate\u001b[0m\u001b[0;34m,\u001b[0m \u001b[0mroom_id\u001b[0m\u001b[0;34m)\u001b[0m\u001b[0;34m:\u001b[0m\u001b[0;34m\u001b[0m\u001b[0;34m\u001b[0m\u001b[0m\n\u001b[0;32m---> 28\u001b[0;31m             \u001b[0;32mraise\u001b[0m \u001b[0mRuntimeError\u001b[0m\u001b[0;34m(\u001b[0m\u001b[0;34mf\"Room {room_id} is already booked for {date}\"\u001b[0m\u001b[0;34m)\u001b[0m\u001b[0;34m\u001b[0m\u001b[0;34m\u001b[0m\u001b[0m\n\u001b[0m\u001b[1;32m     29\u001b[0m         \u001b[0mself\u001b[0m\u001b[0;34m.\u001b[0m\u001b[0mbooked_rooms\u001b[0m\u001b[0;34m.\u001b[0m\u001b[0madd\u001b[0m\u001b[0;34m(\u001b[0m\u001b[0;34m(\u001b[0m\u001b[0mdate\u001b[0m\u001b[0;34m,\u001b[0m \u001b[0mroom_id\u001b[0m\u001b[0;34m)\u001b[0m\u001b[0;34m)\u001b[0m\u001b[0;34m\u001b[0m\u001b[0;34m\u001b[0m\u001b[0m\n",
      "\u001b[0;31mRuntimeError\u001b[0m: Room 0 is already booked for 2020-10-30"
     ]
    }
   ],
   "source": [
    "Hilton.book('2020-10-30', 0)"
   ]
  },
  {
   "cell_type": "markdown",
   "metadata": {},
   "source": [
    "# Задание 4\n",
    "Мы, как отель, хотим знать свою выручку на какой-то день. Напишите метод `income(self, date)`. Он должен возвращать количество денег, которое заработает отель в этот день. Представим, что стоймость всех комнат одинакова и равна 200$."
   ]
  },
  {
   "cell_type": "code",
   "execution_count": 51,
   "metadata": {},
   "outputs": [],
   "source": [
    "class Hotel:\n",
    "    def __init__(self, num_of_rooms):\n",
    "        self.rooms = [0 for _ in range(num_of_rooms)]\n",
    "        self.booked_rooms = set()\n",
    "        self.price = 200\n",
    "        \n",
    "    def occupy(self, room_id):\n",
    "        if self.rooms[room_id] == 1: # если номер уже занят\n",
    "            raise RuntimeError(\"Bad news\")\n",
    "        self.rooms[room_id] = 1\n",
    "        \n",
    "    def free(self, room_id):\n",
    "        if self.rooms[room_id] == 0:\n",
    "            raise RuntimeError(\"Bad news\")\n",
    "        self.rooms[room_id] = 0\n",
    "        \n",
    "    def occupancy_rate(self):\n",
    "        return sum(self.rooms) / len(self.rooms)\n",
    "    \n",
    "    def close(self):\n",
    "        for room in range(len(self.rooms)):\n",
    "            self.free(room)\n",
    "\n",
    "    def is_booked(self, date, room_id):\n",
    "        return (date, room_id) in self.booked_rooms\n",
    "    \n",
    "    def book(self, date, room_id):\n",
    "        if self.is_booked(date, room_id):\n",
    "            raise RuntimeError(f\"Room {room_id} is already booked for {date}\")\n",
    "        self.booked_rooms.add((date, room_id))\n",
    "        \n",
    "    def income(self, date):\n",
    "        income = 0\n",
    "        for ymd, booked_room in self.booked_rooms:\n",
    "            if date == ymd:\n",
    "                income += self.price\n",
    "        return f'Доход за {date}: ' + str(income) + ' $'"
   ]
  },
  {
   "cell_type": "code",
   "execution_count": 52,
   "metadata": {},
   "outputs": [],
   "source": [
    "HolidayInn = Hotel(15)\n",
    "HolidayInn.book('2020-11-01', 1)\n",
    "HolidayInn.book('2020-11-05', 0)\n",
    "HolidayInn.book('2020-11-02', 5)\n",
    "HolidayInn.book('2020-11-05', 10)\n",
    "HolidayInn.book('2020-11-02', 10)\n",
    "\n",
    "for day in ['2020-11-03', '2020-11-04', '2020-11-05']:\n",
    "    HolidayInn.book(day, 14)"
   ]
  },
  {
   "cell_type": "code",
   "execution_count": 53,
   "metadata": {},
   "outputs": [
    {
     "data": {
      "text/plain": [
       "{('2020-11-01', 1),\n",
       " ('2020-11-02', 5),\n",
       " ('2020-11-02', 10),\n",
       " ('2020-11-03', 14),\n",
       " ('2020-11-04', 14),\n",
       " ('2020-11-05', 0),\n",
       " ('2020-11-05', 10),\n",
       " ('2020-11-05', 14)}"
      ]
     },
     "execution_count": 53,
     "metadata": {},
     "output_type": "execute_result"
    }
   ],
   "source": [
    "HolidayInn.booked_rooms"
   ]
  },
  {
   "cell_type": "code",
   "execution_count": 54,
   "metadata": {},
   "outputs": [
    {
     "data": {
      "text/plain": [
       "'Доход за 2020-11-05: 600 $'"
      ]
     },
     "execution_count": 54,
     "metadata": {},
     "output_type": "execute_result"
    }
   ],
   "source": [
    "HolidayInn.income('2020-11-05')"
   ]
  },
  {
   "cell_type": "code",
   "execution_count": null,
   "metadata": {},
   "outputs": [],
   "source": []
  }
 ],
 "metadata": {
  "kernelspec": {
   "display_name": "Python 3",
   "language": "python",
   "name": "python3"
  },
  "language_info": {
   "codemirror_mode": {
    "name": "ipython",
    "version": 3
   },
   "file_extension": ".py",
   "mimetype": "text/x-python",
   "name": "python",
   "nbconvert_exporter": "python",
   "pygments_lexer": "ipython3",
   "version": "3.8.3"
  }
 },
 "nbformat": 4,
 "nbformat_minor": 2
}
