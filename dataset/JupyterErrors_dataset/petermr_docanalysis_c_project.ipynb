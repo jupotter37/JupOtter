{
  "nbformat": 4,
  "nbformat_minor": 0,
  "metadata": {
    "colab": {
      "name": "c_project.ipynb",
      "provenance": [],
      "collapsed_sections": []
    },
    "kernelspec": {
      "name": "python3",
      "display_name": "Python 3"
    },
    "language_info": {
      "name": "python"
    }
  },
  "cells": [
    {
      "cell_type": "code",
      "execution_count": null,
      "metadata": {
        "id": "1xsUqn4ctZU1",
        "colab": {
          "base_uri": "https://localhost:8080/"
        },
        "outputId": "fb8f0f6a-8813-49ef-d7ae-fa94c7a90b2a"
      },
      "outputs": [
        {
          "output_type": "stream",
          "name": "stdout",
          "text": [
            "Collecting validators\n",
            "  Downloading validators-0.18.2-py3-none-any.whl (19 kB)\n",
            "Requirement already satisfied: decorator>=3.4.0 in /usr/local/lib/python3.7/dist-packages (from validators) (4.4.2)\n",
            "Requirement already satisfied: six>=1.4.0 in /usr/local/lib/python3.7/dist-packages (from validators) (1.15.0)\n",
            "Installing collected packages: validators\n",
            "Successfully installed validators-0.18.2\n",
            "Collecting pygetpapers==1.1.6\n",
            "  Downloading pygetpapers-1.1.6-py3-none-any.whl (40 kB)\n",
            "\u001b[K     |████████████████████████████████| 40 kB 5.0 MB/s \n",
            "\u001b[?25hCollecting habanero\n",
            "  Downloading habanero-1.2.0-py3-none-any.whl (29 kB)\n",
            "Collecting arxiv\n",
            "  Downloading arxiv-1.4.2-py3-none-any.whl (11 kB)\n",
            "Requirement already satisfied: tqdm in /usr/local/lib/python3.7/dist-packages (from pygetpapers==1.1.6) (4.63.0)\n",
            "Collecting dict2xml\n",
            "  Downloading dict2xml-1.7.1.tar.gz (6.6 kB)\n",
            "  Installing build dependencies ... \u001b[?25l\u001b[?25hdone\n",
            "  Getting requirements to build wheel ... \u001b[?25l\u001b[?25hdone\n",
            "    Preparing wheel metadata ... \u001b[?25l\u001b[?25hdone\n",
            "Requirement already satisfied: lxml in /usr/local/lib/python3.7/dist-packages (from pygetpapers==1.1.6) (4.2.6)\n",
            "Collecting configargparse\n",
            "  Downloading ConfigArgParse-1.5.3-py3-none-any.whl (20 kB)\n",
            "Collecting coloredlogs\n",
            "  Downloading coloredlogs-15.0.1-py2.py3-none-any.whl (46 kB)\n",
            "\u001b[K     |████████████████████████████████| 46 kB 2.0 MB/s \n",
            "\u001b[?25hRequirement already satisfied: pandas in /usr/local/lib/python3.7/dist-packages (from pygetpapers==1.1.6) (1.3.5)\n",
            "Requirement already satisfied: requests in /usr/local/lib/python3.7/dist-packages (from pygetpapers==1.1.6) (2.23.0)\n",
            "Collecting xmltodict\n",
            "  Downloading xmltodict-0.12.0-py2.py3-none-any.whl (9.2 kB)\n",
            "Collecting feedparser\n",
            "  Downloading feedparser-6.0.8-py3-none-any.whl (81 kB)\n",
            "\u001b[K     |████████████████████████████████| 81 kB 5.4 MB/s \n",
            "\u001b[?25hCollecting humanfriendly>=9.1\n",
            "  Downloading humanfriendly-10.0-py2.py3-none-any.whl (86 kB)\n",
            "\u001b[K     |████████████████████████████████| 86 kB 3.3 MB/s \n",
            "\u001b[?25hCollecting sgmllib3k\n",
            "  Downloading sgmllib3k-1.0.0.tar.gz (5.8 kB)\n",
            "Requirement already satisfied: chardet<4,>=3.0.2 in /usr/local/lib/python3.7/dist-packages (from requests->pygetpapers==1.1.6) (3.0.4)\n",
            "Requirement already satisfied: idna<3,>=2.5 in /usr/local/lib/python3.7/dist-packages (from requests->pygetpapers==1.1.6) (2.10)\n",
            "Requirement already satisfied: urllib3!=1.25.0,!=1.25.1,<1.26,>=1.21.1 in /usr/local/lib/python3.7/dist-packages (from requests->pygetpapers==1.1.6) (1.24.3)\n",
            "Requirement already satisfied: certifi>=2017.4.17 in /usr/local/lib/python3.7/dist-packages (from requests->pygetpapers==1.1.6) (2021.10.8)\n",
            "Requirement already satisfied: pytz>=2017.3 in /usr/local/lib/python3.7/dist-packages (from pandas->pygetpapers==1.1.6) (2018.9)\n",
            "Requirement already satisfied: python-dateutil>=2.7.3 in /usr/local/lib/python3.7/dist-packages (from pandas->pygetpapers==1.1.6) (2.8.2)\n",
            "Requirement already satisfied: numpy>=1.17.3 in /usr/local/lib/python3.7/dist-packages (from pandas->pygetpapers==1.1.6) (1.21.5)\n",
            "Requirement already satisfied: six>=1.5 in /usr/local/lib/python3.7/dist-packages (from python-dateutil>=2.7.3->pandas->pygetpapers==1.1.6) (1.15.0)\n",
            "Building wheels for collected packages: dict2xml, sgmllib3k\n",
            "  Building wheel for dict2xml (PEP 517) ... \u001b[?25l\u001b[?25hdone\n",
            "  Created wheel for dict2xml: filename=dict2xml-1.7.1-py3-none-any.whl size=6930 sha256=651af2dfe1cc9a45944a096a2a291c5e80d974eb5d8d1940b6ebd47719a2b37c\n",
            "  Stored in directory: /root/.cache/pip/wheels/8e/ad/d7/b1cd889d18b22fa7d175a92006236862743f39cdefda238397\n",
            "  Building wheel for sgmllib3k (setup.py) ... \u001b[?25l\u001b[?25hdone\n",
            "  Created wheel for sgmllib3k: filename=sgmllib3k-1.0.0-py3-none-any.whl size=6066 sha256=fc067f7d1b157f3977f4c4c6acf7cb09c42683c45c316447e06d7508b21ff01b\n",
            "  Stored in directory: /root/.cache/pip/wheels/73/ad/a4/0dff4a6ef231fc0dfa12ffbac2a36cebfdddfe059f50e019aa\n",
            "Successfully built dict2xml sgmllib3k\n",
            "Installing collected packages: sgmllib3k, humanfriendly, feedparser, xmltodict, habanero, dict2xml, configargparse, coloredlogs, arxiv, pygetpapers\n",
            "Successfully installed arxiv-1.4.2 coloredlogs-15.0.1 configargparse-1.5.3 dict2xml-1.7.1 feedparser-6.0.8 habanero-1.2.0 humanfriendly-10.0 pygetpapers-1.1.6 sgmllib3k-1.0.0 xmltodict-0.12.0\n"
          ]
        }
      ],
      "source": [
        "!pip install validators\n",
        "!pip install pygetpapers==1.1.6\n",
        "import os\n",
        "import numpy as np\n",
        "import validators\n",
        "import csv\n",
        "import requests\n",
        "import xml.etree.ElementTree as ET\n",
        "import time\n",
        "from bs4 import BeautifulSoup"
      ]
    },
    {
      "cell_type": "code",
      "source": [
        "!pygetpapers -q terpene -x -k 5 -o junk"
      ],
      "metadata": {
        "colab": {
          "base_uri": "https://localhost:8080/"
        },
        "id": "UhGPiawOzmZo",
        "outputId": "54d56f90-dcb8-4a27-97bc-ba1cf474a815"
      },
      "execution_count": null,
      "outputs": [
        {
          "output_type": "stream",
          "name": "stdout",
          "text": [
            "\u001b[1;30mINFO:\u001b[0m Total Hits are 13968\n",
            "\r0it [00:00, ?it/s]\r1it [00:00, 1007.04it/s]\n",
            "\u001b[1;30mINFO:\u001b[0m Saving XML files to /content/junk/*/fulltext.xml\n",
            "100% 5/5 [00:14<00:00,  2.86s/it]\n"
          ]
        }
      ]
    },
    {
      "cell_type": "code",
      "source": [
        "%cd /content/drive/MyDrive/ctree_folder/"
      ],
      "metadata": {
        "colab": {
          "base_uri": "https://localhost:8080/"
        },
        "id": "zbUULVvcKhLW",
        "outputId": "1e2c3f55-ebcd-4281-a8f5-abc95c25049c"
      },
      "execution_count": null,
      "outputs": [
        {
          "output_type": "stream",
          "name": "stdout",
          "text": [
            "/content/drive/MyDrive/ctree_folder\n"
          ]
        }
      ]
    },
    {
      "cell_type": "code",
      "source": [
        "!pygetpapers  -q 'terpene' -x -k 10 -o terpene_pmcids "
      ],
      "metadata": {
        "id": "iLHYCuSfthLK",
        "colab": {
          "base_uri": "https://localhost:8080/"
        },
        "outputId": "8da60637-3f3d-43c1-c11b-433d2b1dc894"
      },
      "execution_count": null,
      "outputs": [
        {
          "output_type": "stream",
          "name": "stdout",
          "text": [
            "\u001b[1;30mINFO:\u001b[0m Total Hits are 13968\n",
            "1it [00:00, 579.24it/s]\n",
            "\u001b[1;30mINFO:\u001b[0m Saving XML files to /content/terpene_pmcids/*/fulltext.xml\n",
            "100% 10/10 [00:18<00:00,  1.84s/it]\n"
          ]
        }
      ]
    },
    {
      "cell_type": "code",
      "source": [
        "!pygetpapers -v"
      ],
      "metadata": {
        "colab": {
          "base_uri": "https://localhost:8080/"
        },
        "id": "4vaxeTR3yZPt",
        "outputId": "81f52ab0-9db2-4392-c2d0-1bc3361e926d"
      },
      "execution_count": null,
      "outputs": [
        {
          "output_type": "stream",
          "name": "stdout",
          "text": [
            "\u001b[1;30mINFO:\u001b[0m You are running pygetpapers version 1.1.4\n"
          ]
        }
      ]
    },
    {
      "cell_type": "markdown",
      "source": [
        "###vaishnavi"
      ],
      "metadata": {
        "id": "q99Nf6cQb4eq"
      }
    },
    {
      "cell_type": "markdown",
      "source": [
        "#original"
      ],
      "metadata": {
        "id": "E7d-pUFFj7wW"
      }
    },
    {
      "cell_type": "code",
      "execution_count": null,
      "metadata": {
        "colab": {
          "base_uri": "https://localhost:8080/"
        },
        "id": "9LvPgSmwAZXD",
        "outputId": "1612a176-a4cc-4d1b-f930-a38a8f192f31"
      },
      "outputs": [
        {
          "output_type": "stream",
          "name": "stdout",
          "text": [
            "pmcid PMC8050080\n",
            "figures_id ['Fig1', 'Fig2', 'Fig3', 'Fig4', 'Fig5', 'Fig6', 'Fig7', 'Fig8']\n",
            "graphic_id ['41598_2021_87740_Fig1_HTML', '41598_2021_87740_Fig2_HTML', '41598_2021_87740_Fig3_HTML', '41598_2021_87740_Fig4_HTML', '41598_2021_87740_Fig5_HTML', '41598_2021_87740_Fig6_HTML', '41598_2021_87740_Fig7_HTML', '41598_2021_87740_Fig8_HTML']\n",
            "caption_text ['Terpenes Induce Cannabimimetic Tetrad Behaviors in Mice. Behavioral analysis data from Figs.  S1 - S3  represented in a radar chart format. The percent change from baseline for each terpene in each behavior was determined; the peak effect for tail flick was selected (Fig.  S1 ) while the other behaviors only had a single time point. This percent change was then normalized to the % change of 5.6\\xa0mg/kg WIN55,212-2 (1.0 on the chart above). The chart demonstrates that while all terpenes induce all 4 tetrad behaviors, they do so with varying efficacy; they also vary whether the effect is stronger or weaker than the positive control WIN55,212-2.', 'Terpenes Induce CB1 Dependent and Cannabinoid Additive Antinociception in the Tail Flick Assay. Mice were treated with 200\\xa0mg/kg terpene alone, combined with 5.6\\xa0mg/kg WIN55,212-2, or after pretreatment with 10\\xa0mg/kg rimonabant, all injected  i.p. . Mice were then assessed in the tail flick test over 2\\xa0h. ( A ) α-Humulene, ( B ) β-Pinene, ( C ) Linalool and ( D ) Geraniol. Data represents the mean\\xa0±\\xa0SEM of tail flick latency (n\\xa0=\\xa010–14/group). Statistics analyzed via RM two-way ANOVA, Dunnett’s post hoc; * p \\u2009<\\u20090.05, ** p \\u2009<\\u20090.01, *** p \\u2009<\\u20090.001, **** p \\u2009<\\u20090.0001, compared to terpene alone at same time point. The animal response to 5.6\\xa0mg/kg WIN55,212-2 (“WIN Alone”) from Fig.  S1  is included in each graph for reference.', 'Terpenes Induce Hypothermia Through Mostly Non-CB1/A2a Mechanisms and are Additive with Cannabinoid. Mice were baselined for temperature, injected with 200\\xa0mg/kg terpene alone, combined with 5.6\\xa0mg/kg WIN55,212-2, or after pretreatment with 10\\xa0mg/kg rimonabant or 10\\xa0mg/kg istradefyllene. After 30\\xa0min, temperature was assessed again. ( A ) α-Humulene, ( B ) β-Pinene, ( C ) Linalool and ( D ) Geraniol. Data represents the mean\\u2009±\\u2009SEM temperature (n\\u2009=\\u200910–20/group). Statistics analyzed via RM two-way ANOVA, Tukey’s post hoc; **** p \\u2009<\\u20090.0001 compared to each baseline; xx  p \\u2009<\\u20090.01, xxx  p \\u2009<\\u20090.001, xxxx  p \\u2009<\\u20090.0001 compared to terpene post-treatment. The dashed line represents the hypothermic response to 5.6\\xa0mg/kg WIN55,212-2 alone, taken from Fig.  S2 A.', 'Terpene Induced Catalepsy is Partially Mediated by CB1, Strongly Mediated by A2a, and is Partially Additive with Cannabinoid. Mice were baselined in the ring test for 5\\xa0min, injected with 200\\xa0mg/kg terpene alone, combined with 5.6\\xa0mg/kg WIN55,212-2, or after pretreatment with 10\\xa0mg/kg rimonabant or 10\\xa0mg/kg istradefyllene. After 15\\xa0min, mice were tested in the ring test again for 5\\xa0min. ( A ) α-Humulene, ( B ) β-Pinene, ( C ) Linalool and ( D ) Geraniol. Data represents the mean\\u2009±\\u2009SEM of % catalepsy (n\\u2009=\\u200910–20/group). Statistics analyzed via RM two-way ANOVA, Tukey’s post hoc; ** p \\u2009<\\u20090.01, *** p \\u2009<\\u20090.001, **** p \\u2009<\\u20090.0001, not significant (ns) compared to baseline; x  p \\u2009<\\u20090.05, xx  p \\u2009<\\u20090.01, xxx  p \\u2009<\\u20090.001, xxxx  p \\u2009<\\u20090.0001 compared to terpene post-treatment. The dashed line represents the cataleptic response to 5.6\\xa0mg/kg WIN55,212-2 alone, taken from Fig.  S2 B.', 'Terpene Induced Hypolocomotion is Partially Mediated by A2a and is Additive with Cannabinoid. Mice were injected with 200\\xa0mg/kg terpene alone, combined with 5.6\\xa0mg/kg WIN55,212-2, or after pretreatment with 10\\xa0mg/kg rimonabant or 10\\xa0mg/kg istradefyllene,  i.p. . After 10\\xa0min mice were then placed back into the open field box for a 5\\xa0min test. ( A ) α-Humulene, ( B ) β-Pinene, ( C ) Linalool and ( D ) Geraniol. Data represents the mean\\u2009±\\u2009SEM of mobile time seconds (n\\u2009=\\u200910–20/group). Statistics analyzed via one-way ANOVA, Dunnett’s post hoc; * p \\u2009<\\u20090.05, ** p \\u2009<\\u20090.01, *** p \\u2009<\\u20090.001, **** p \\u2009<\\u20090.0001 compared to terpene alone. The black dotted line denotes vehicle levels of mobile time for reference, while the red dotted line represents the effect of 5.6\\xa0mg/kg WIN55,212-2 alone, both taken from Fig.  S3 A.', 'Terpene Treatment Activates the CB1 In Vitro. CB1-CHO cells were serum starved for 1\\xa0h then treated with varying concentrations of ( A ) α-Humulene, ( B ) β-Pinene, ( C ) Linalool, ( D ) Geraniol, ( E ) β-Caryophyllene, along with 10\\xa0μM WIN55,212-2 positive control or matched vehicle control, for 5\\xa0min. Lysates were then subjected to Western analysis and blotted for phospho-ERK and total-ERK (see Methods). Graph represents the quantified Western bands (pERK/tERK). Data expressed as a % of WIN55,212-2 stimulation (n\\u2009=\\u20093 independent experiments). Statistics analyzed via one-way ANOVA, Dunnett’s post hoc; * p \\u2009<\\u20090.05, ** p \\u2009<\\u20090.01, *** p \\u2009<\\u20090.001, **** p \\u2009<\\u20090.0001, compared to vehicle stimulation.', 'Terpenes Induce CB1-Dependent and Independent Signaling In Vitro. ( A ) CB1-CHO cells were serum starved for 1\\xa0h then pretreated with 10\\xa0μM rimonabant or vehicle for 5\\xa0min. Cells were then treated with 500\\xa0μM terpene, 10\\xa0μM WIN55,212-2, or matched vehicle, for 5\\xa0min. Lysates were then subjected to Western analysis and blotted for phospho-ERK and total-ERK (see Methods). Graph represents the quantitation of ERK phosphorylation induced by terpene and rimonabant combinations (pERK/tERK). Data expressed as a % of WIN55,212-2 stimulation (n\\u2009=\\u20093 independent experiments for each). ( B ) WT CHO cells were serum starved for 1\\xa0h then treated with 500\\xa0μM terpene, 10\\xa0μM WIN55,212-2, or matched vehicle, for 5\\xa0min, and analyzed as above. ( C ) WT CHO cells were serum starved for 1\\xa0h, pretreated with 10\\xa0μM rimonabant or vehicle, then treated with 500\\xa0μM terpene, 10\\xa0μM WIN55,212-2, or matched vehicle, for 5\\xa0min, and analyzed as above. Data analyzed via one-way ANOVA, Dunnett’s post hoc; ** p \\u2009<\\u20090.01, **** p \\u2009<\\u20090.0001, compared to vehicle stimulation.', 'Binding and Functional Analysis of Terpenes at the CB1. Fitted curve values reported as the mean with the 95% confidence interval. ( A ) CB1-CHO membranes were subjected to competition binding assay with terpenes and WIN55,212-2 against  3 H-CP55,940. Data represents the mean\\u2009±\\u2009SEM of specific binding (n\\u2009=\\u20095 independent experiments). IC 50  values: WIN55,212-2\\u2009=\\u200990.4\\xa0nM (36–206); Geraniol\\u2009=\\u200944.2\\xa0μM (11.1–193). Other terpenes did not provide competition curves that could be fit. ( B ) CB1-CHO cells were treated with varying concentrations of terpene or WIN55,212-2 for 30\\xa0min. The ability to inhibit forskolin-stimulated cAMP accumulation was measured accordingly (see Methods). Data represents the mean\\u2009±\\u2009SEM of % of forskolin-stimulated cAMP (n\\u2009=\\u20094 independent experiments). IC 50  value: WIN55,212-2\\u2009=\\u2009591\\xa0nM (289–1,180). Terpenes did not provide full inhibition curves. ( C ) CB1-CHO-DX cells were treated with varying concentrations of compounds and βarrestin2 recruitment was assessed after 1.5\\xa0h of treatment (see Methods). Data represents the mean\\u2009±\\u2009SEM of max WIN55,212-2 recruitment (n\\u2009=\\u20093 independent experiments). EC 50  value: WIN55,212-2\\u2009=\\u20091,600\\xa0nM (1,110–2,310). ( D ) CB1-CHO-DX cells were pretreated with 500\\xa0μM terpene for 5\\xa0min, followed by varying concentrations of WIN55,212-2 for 1.5\\xa0h (see Methods). Data represents the mean\\u2009±\\u2009SEM of max WIN55,212-2 recruitment (n\\u2009=\\u20093 independent experiments). EC 50  values: WIN55,212-2 alone\\u2009=\\u2009254\\xa0nM (194–331); WIN\\u2009+\\u2009Geraniol\\u2009=\\u20093,080\\xa0nM (2180–4350); WIN\\u2009+\\u2009α-Humulene\\u2009=\\u2009471\\xa0nM (295–743); WIN\\u2009+\\u2009Linalool\\u2009=\\u2009679\\xa0nM (480–956); WIN\\u2009+\\u2009β-Pinene\\u2009=\\u2009302\\xa0nM (147–621); WIN\\u2009+\\u2009β-Caryophyllene\\u2009=\\u2009283\\xa0nM (169–470).']\n",
            "italics [[], ['i.p.', 'p', 'p', 'p', 'p'], ['p', 'p', 'p', 'p'], ['p', 'p', 'p', 'p', 'p', 'p', 'p'], ['i.p.', 'p', 'p', 'p', 'p'], ['p', 'p', 'p', 'p'], ['p', 'p'], []]\n",
            "8 8 8\n",
            "pmcid PMC8093658\n",
            "figures_id ['ece37384-fig-0001', 'ece37384-fig-0002', 'ece37384-fig-0003', 'ece37384-fig-0004', 'ece37384-fig-0005', 'ece37384-fig-0006', 'ece37384-fig-0007']\n",
            "graphic_id ['ECE3-11-4826-g006', 'ECE3-11-4826-g008', 'ECE3-11-4826-g007', 'ECE3-11-4826-g004', 'ECE3-11-4826-g003', 'ECE3-11-4826-g001', 'ECE3-11-4826-g002']\n",
            "caption_text ['Various ectomycorrhizal root tips observed in the experiment, showing some of the various morphotypes observed. Molecular IDs (from top left, left to right, and top to bottom): 1. unidentified Cantharellales sp. 2.  Cenococcum geophilum ; 3.  Suillus variegatus ; 4.  Piloderma olivaceum  ', 'Map showing the locations of the six populations used in the study. Labels: 1\\xa0=\\xa0Abernethy; 2\\xa0=\\xa0Rothiemurchus; 3\\xa0=\\xa0Glen Derry; 4\\xa0=\\xa0Beinn Eighe; 5\\xa0=\\xa0Loch Clare; 6\\xa0=\\xa0Shieldaig', 'Summary graphs: EM species abundance and the terpene composition of individual seedlings. (a) Heatmap showing the total number of root tips of each EM species found at each of the six sites. (b) Plot of proportional α‐pinene concentration against proportional Δ 3 ‐carene concentration, showing a strong linear decrease in Δ 3 ‐carene concentration with increasing α‐pinene concentration. Colors indicate increasing terpene chemodiversity. (c) Histogram of terpene chemodiversity, showing two distinct peaks, indicating high/low Δ 3 ‐carene phenotypes', 'Variation in EM fungal community composition between sites and genotypes. (a) NMDS ordination of seedling EM communities showing variation between sites. Each point represents the mean NMDS score\\xa0±\\xa0SE for one of the 12 maternal families at a particular site. Circles represent eastern sites, and triangles represent western sites. Plots of all other axes are available in Figure\\xa0 A3 . (b) Percentage variance explained by each component in the maternal family turnover model (Equation  4 ) and Δ 3 ‐carene turnover model (Equation  5 ), calculated from the estimates of the posterior modes. Site\\xa0=\\xa0turnover between sites, Grid\\xa0=\\xa0turnover between grids, OTU\\xa0=\\xa0unexplained variation in the abundance of fungal species. Genotype effects are not shown in the legend as no effects were found', 'Maximum‐likelihood trees of sequences for each genus, showing consistent taxonomic identification of sequences. Where tips are colored, colors represent different species as identified by BLAST', 'Species accumulation curves for each of the six sites, showing that most fungal species present in the grids at each site were recovered', 'The full NMDS ordination with all four calculated axes plotted against each other. Each point represents the mean NMDS score\\xa0±\\xa0SE for one of the 12 maternal families at a particular site. Circles\\xa0=\\xa0eastern sites, Triangles\\xa0=\\xa0western sites']\n",
            "italics [['Cenococcum geophilum', 'Suillus variegatus', 'Piloderma olivaceum'], [], [], [], [], [], []]\n",
            "7 7 7\n",
            "pmcid PMC8181146\n",
            "figures_id ['F1', 'F2', 'F3', 'F4', 'F5', 'F6', 'F7', 'F8', 'F9', 'F10']\n",
            "graphic_id ['fbioe-09-567384-g001', 'fbioe-09-567384-g002', 'fbioe-09-567384-g003', 'fbioe-09-567384-g004', 'fbioe-09-567384-g005', 'fbioe-09-567384-g006', 'fbioe-09-567384-g007', 'fbioe-09-567384-g008', 'fbioe-09-567384-g009', 'fbioe-09-567384-g010']\n",
            "caption_text ['(A,D)  Examples of the zone inhibition plates of  Hypholoma fasciculare  and  Hypholoma sublateritium  showing the clearing zone around the fungal colony, indicating the antimicrobial activity of these fungi against  Bacillus subtilis (1), Saccharomyces cerevisiae (2), and Escherichia coli (3) , respectively.  (B)  Zone inhibition assay to evaluate the antimicrobial activity of  H. fasciculare  growing on different media against  B. subtilis ,  E. coli , and  S. cerevisiae .  Error bars  indicate the standard deviations of three technical replicate measurements for both fungal colony diameter (column in  blue ) and inhibition zone diameter (column in  red ).  (E)  Zone inhibition assay of  H. sublateritium  growing on different media against  B. subtilis ,  E. coli , and  S. cerevisiae .  Error bars  indicate the standard deviations of three technical replicate measurements.  (C,F)  Thin-layer chromatography (TLC) plates developed in a polar ( H. fasciculare ) and a semi-polar ( H. sublateritium ) system and visualized under UV 320 nm showing the separated compounds of  H. fasciculare . Twenty-five microliters of 10 mg/ml crude extract of  H. fasciculare  from five different media was spotted.  1  = CSO supernatant extract;  2  = CSO mycelial extract;  3  = PDB supernatant extract;  4  = PDB mycelial extract;  5  = YMG supernatant extract;  6  = YMG mycelial extract;  7  = CGC supernatant extract;  8  = CGC mycelial extract;  9  = MEB supernatant extract;  10  = MEB mycelial extract.  YMG , yeast extract malt;  PDB , potato dextrose broth;  PDA , potato dextrose agar;  MEA , malt extract agar;  Pep , peptone agar;  YM , yeast malt extract;  CDA , Czapek Dox agar;  MPGA , malt peptone glucose agar.', 'Accurate-mass negative ion electrospray ionization (ESI) mass spectrum of fraction C—putative 3,5-dichloro-4-methoxy benzoic acid. The spectrum shows the [M-H] –  at  m / z  218.9625 (218.9621 for C 8 H 5 O 3 Cl 2 – ) and fragmentation resulting from decarboxylation at  m / z  174.9726 (174.9723 for C 7 H 5 OCl 2 – ).', 'Selected sesquiterpene biosynthetic gene clusters of 1,11 E,E-FPP carbon cyclization clade identified in the  Hypholoma fasciculare  genome and their likely initial products.  (A)  HfasTerp-94a and HfasTerp-94b biosynthetic gene clusters and examples of likely products—caryophyllene, humulene, and protoilludane—illustrating the 1,11 carbon cyclization pattern predicted for this synthase.  1  = Serine/threonine kinase;  2  = Zinc carboxypeptidase;  3  = Hypothetical protein;  4  = Short-chain dehydrogenase 1;  5  = Short-chain dehydrogenase 2;  6  = Short-chain dehydrogenase 3;  7  = Tyrosinase;  8  = F-box domain;  9  = Anchor signaling protein;  10  = Terpene synthase B;  11  = Splicing co-activator;  12  = F-box domain;  13  = Glucose transporter;  14  = Peptide transporter;  15  = Terpene synthase A;  16  = Aromatic ring hydroxylase;  17  = Glycoside hydrolase.  (B)  HfasTerp-179 biosynthetic gene cluster (BGC) and examples of likely products arising from the predicted 1,10 carbon cyclization for this synthase.  1  = Alpha/beta-hydrolases;  2  = Aspartyl protease;  3  = E3 ubiquitin–protein ligase;  4  = NAD-dependent histone deacetylase;  5  = Hypothetical protein;  6  = Transcription factor;  7  = GMC oxidoreductase;  8  = Hypothetical protein;  9  = Cytochrome P450;  10  = Terpene synthase;  11  = GMC oxidoreductase;  12  = Fructose 2,6-bisphosphatase;  13  = Kinase like protein;  14  = Hypothetical protein;  15  = DNA repair endonuclease;  16  = Telomerase transcriptase;  17  = Monooxygenase FAD;  18  = Glycoside hydrolase;  19  = Alpha ketogluturate.  (C)  HfasTerp-804 BGC predicted to be responsible for the production of the antitumor clavaric acid or similar derivatives.  1  = Hypothetical protein;  2  = Flavin-containing amine oxidase;  3  = Pyruvate decarboxylase;  4  = Cytoplasmic protein;  5  = Phosphomannomutase;  6  = Delta DNA polymerase;  7  = Putative transcription factor;  8  = 60S ribosomal protein translation;  9  = Actin-related protein;  10  = Oxidosqualene clavarinone cyclase;  11  = Nuclear condensin complex.', 'Maximum likelihood tree of putative terpene synthases from  Hypholoma fasciculare  and  Hypholoma sublateritium . Contigs or scaffold numbers are shown  adjacent to species abbreviations . The evolutionary history was inferred by using the maximum Likelihood method and the Whelan and Goldman model conducted in MEGA X. The percentages of trees in which the associated taxa clustered together are shown  next to the branches .', 'Schematic illustration of the organization of the putative biosynthetic gene clusters for both HfasTerp-147 and HfasTerp-104.  (A)  The extended HfasTerp-147 biosynthetic gene cluster.  1  = Complex I intermediate-associated protein;  2  = Protein binding;  3  = F-box;  4  = Histone methyltransferase;  5  = RNA polymerase;  6  = Terpene synthase;  7  = Cystathionine beta-lyase;  8  = Pyruvate carboxyltransferase;  9  = Dolichol kinase;  10  = Zinc finger;  11  = Splicing factor;  12  = Proliferation-associated protein;  13  = Chaperone regulator;  14  = Enoyl-CoA hydratase;  15  = Aspartic peptidase;  16  = Aspartic peptidase.  (B)  Organization of the putative biosynthetic gene cluster likely responsible in producing 3,5-dichloro-4-methoxybenzoic acid (3,5-D) in both  Hypholoma fasciculare  and the homologous cluster of  Hypholoma sublateritium .  1  = Glycoside;  2  = Glutathione S-transferase;  3  = Anchor protein;  4  = Oxoprolinase;  5  = Monocarboxylate;  6  = Glycoside hydrolase;  7  = F-box;  8  = Anchor protein;  9  = Hypothetical protein;  10  = SDR;  11  = Calmodulin-related protein;  12  = Hypothetical protein;  13  = Terpene synthase;  14  = Regulator of G protein signaling;  15  = Benzoic acid reductase-PKS;  16  = 3-Phosphoshikimate-1-carboxyvinyltransferase.', '(A)  Schematic of putative HfasPKS-221 (74 Kb) biosynthetic gene cluster.  1  = Triphosphate hydrolase;  2  = Multidrug resistance;  3  = Hypothetical protein;  4  = Alpha-beta hydrolase;  5  = PKS1;  6  = Zinc finger H2C2;  7  = Kinesin-like protein;  8  = Hypothetical protein;  9  = Actin binding protein;  10  = DNA binding protein;  11  = Acetylcholinesterase;  12  = Actin depolymerizing factor;  13  = Metalloproteases;  14  = Metalloproteases;  15  = Metalloproteases;  16  =  N -acetylglucosaminyltransferase;  17  = Transcription factor.  (B)  Schematic of putative HfasNRPS-29 (76 Kb) biosynthetic gene cluster.  1  = mRNA-decapping enzyme;  2  = Peptidase aspartic;  3  = Glycoside hydrolase;  4  = Polyadenylate binding protein;  5  = Mitochondrial carrier protein;  6  = Ubiquitin protease;  7  = Acid phosphatase;  8  = AMP-dependent synthetase and ligase;  9  = Exocyst complex;  10  = DUF domain protein;  11  = Carbohydrate transporter;  12  = Adenine DNA glycosylase;  13  = Cargo transport protein;  14  = WD repeat-containing nucleolar rRNA;  15  = Oxidoreductase;  16  = NRPS;  17  = Acyl-CoA  N -acyltransferase. A homologous biosynthetic gene cluster was found in scaffold 100 of the  Hypholoma sublateritium  genome.  (C)  Schematic of putative HfasSidA-14 (98 Kb) biosynthetic gene cluster.  1  = Transcription factor;  2  = Sterol desaturase;  3  = Cytochrome P450;  4  = Triphosphate hydrolase;  5  = Calcium transporting;  6  = Glycosyltransferase;  7  = GMC oxidoreductase;  8  = Amino acid transporter;  9  = Zinc binding protein;  10  = ABC transporter;  11  = Sid A;  12  = Glycoside hydrolase;  13  = Transporter;  14  = RNA-associated protein;  15  = F-box.', '(A)  Schematic representing the antisense vector pCAMHs gpd Hfas used for targeting argininosuccinate synthetase in  Hypholoma fasciculare .  (B)   H. fasciculare  wild type and antisense transformant 14 showing differences in the colony growth rate on potato dextrose agar (PDA) with and without arginine supplementation.  1  =  H. fasciculare  wild type on PDA medium;  2  =  H. fasciculare  wild type on PDA medium supplemented with 5 mM of arginine;  3  =  H. fasciculare  antisense transformant 49 on PDA medium;  4  =  H. fasciculare  antisense transformant 49 on PDA medium supplemented with 5 mM of arginine.', 'Gas chromatography–mass spectrometry (GC-MS) comparison of the sesquiterpene synthase Cop4.  (A)  GC-MS analysis of the NSAR1-Cop4 transformant. Eight compounds [muurola-4(14)diene, humulene, naphthalene, gleenol, cubenene, bicylosesquiphellandrene, Cubenol, and alpha-copaene] were characterized using HP-5 MS quartz capillary column (30 m × 0.25 mm, 0.25-μm film thickness).  (B)  GC-MS analysis of the NSAR1-Cop4 transformant. Three compounds (alpha-copaene, Cubenol, and sigma-muurolene) were characterized using HP-1 (50 m × 0.32 mm, 0.17-μm phase thickness).', 'Negative ion LC-MS spectrum (-ESI) comparison of NSAR1-WT with transgenics of single, double, and triple biosynthetic genes of the humulene biosynthetic gene cluster. The genes investigated in this experiment were: one terpene cyclase (humulene synthase), three genes of short-chain dehydrogenase reductase (SDR), and one tyrosinase, all selected from the terpene synthase biosynthetic gene cluster located in contig 94 of the  Hypholoma fasciculare  genome.  (A)  NSAR1-WT.  (B)  NSAR1-humulene synthase.  (C)  NSAR1-humulene synthase-SDR1.  (D)  NSAR1-humulene synthase-SDR2.  (E)  NSAR1-humulene synthase-SDR3.  (F)  NSAR1-humulene synthase-SDR1-SDR2.  (G)  NSAR1-humulene synthase-SDR1-SDR2-Tyrosinase. The mass spectrum was selected from min 11 to min 17.50 to avoid peaks overlapping. In total, seven new peaks were detected at retention times (RTs) of 12.87, 13.30, 14.47, 14.90, 15.32, 15.98, and 11.90 within this comparison. The transgenic NSAR1-humulene synthase-SDR1 showed the lowest number of new peaks compared to the other transgenics: NSAR1-humulene synthase-SDR2, NSAR1-humulene synthase-SDR3, and NSAR1-humulene synthase-SDR1-SDR2.', 'Negative ESI mass spectra of NSAR1 transgenics. Seven new metabolites were detected as formate adduct [M++HCO 2 ] at: metabolite 1,  m / z  490; metabolite 2,  m / z  311; metabolite 3,  m / z  489; metabolite 4,  m / z  473; metabolite 5,  m / z  487; metabolite 6,  m / z  295; and metabolite 7,  m / z  279.']\n",
            "italics [['Hypholoma fasciculare', 'Hypholoma sublateritium', 'Bacillus subtilis (1), Saccharomyces cerevisiae (2), and Escherichia coli (3)', 'H. fasciculare', 'B. subtilis', 'E. coli', 'S. cerevisiae', 'Error bars', 'blue', 'red', 'H. sublateritium', 'B. subtilis', 'E. coli', 'S. cerevisiae', 'Error bars', 'H. fasciculare', 'H. sublateritium', 'H. fasciculare', 'H. fasciculare', '1', '2', '3', '4', '5', '6', '7', '8', '9', '10', 'YMG', 'PDB', 'PDA', 'MEA', 'Pep', 'YM', 'CDA', 'MPGA'], ['m', 'z', 'm', 'z'], ['Hypholoma fasciculare', '1', '2', '3', '4', '5', '6', '7', '8', '9', '10', '11', '12', '13', '14', '15', '16', '17', '1', '2', '3', '4', '5', '6', '7', '8', '9', '10', '11', '12', '13', '14', '15', '16', '17', '18', '19', '1', '2', '3', '4', '5', '6', '7', '8', '9', '10', '11'], ['Hypholoma fasciculare', 'Hypholoma sublateritium', 'adjacent to species abbreviations', 'next to the branches'], ['1', '2', '3', '4', '5', '6', '7', '8', '9', '10', '11', '12', '13', '14', '15', '16', 'Hypholoma fasciculare', 'Hypholoma sublateritium', '1', '2', '3', '4', '5', '6', '7', '8', '9', '10', '11', '12', '13', '14', '15', '16'], ['1', '2', '3', '4', '5', '6', '7', '8', '9', '10', '11', '12', '13', '14', '15', '16', 'N', '17', '1', '2', '3', '4', '5', '6', '7', '8', '9', '10', '11', '12', '13', '14', '15', '16', '17', 'N', 'Hypholoma sublateritium', '1', '2', '3', '4', '5', '6', '7', '8', '9', '10', '11', '12', '13', '14', '15'], ['gpd', 'Hypholoma fasciculare', 'H. fasciculare', '1', 'H. fasciculare', '2', 'H. fasciculare', '3', 'H. fasciculare', '4', 'H. fasciculare'], [], ['Hypholoma fasciculare'], ['m', 'z', 'm', 'z', 'm', 'z', 'm', 'z', 'm', 'z', 'm', 'z', 'm', 'z']]\n",
            "10 10 10\n"
          ]
        }
      ],
      "source": [
        "#terpene_folder_path = '/content/drive/MyDrive/ctree_folder/2022_03_17_13_58_44/'\n",
        "terpene_folder_path = '/content/PMCID_test/'\n",
        "names= np.sort(os.listdir(terpene_folder_path))\n",
        "PMCIDs = [item for item in names if item[0] == 'P']\n",
        "for pmcid in PMCIDs[:3]:\n",
        "  print('pmcid',pmcid)\n",
        "  #creating a parent PMCXXXXXXX directory\n",
        "  path = '/content/Alex_30/'\n",
        "\n",
        "  tree1 = path + pmcid +'/'\n",
        "  if not os.path.exists(tree1):\n",
        "    os.makedirs(tree1)\n",
        "\n",
        "  #creating a figure directory inside PMCXXXXXXX directory\n",
        "  FIGURE = 'figure'  \n",
        "  tree2 = tree1 + FIGURE +'/' \n",
        "  if not os.path.exists(tree2):\n",
        "    os.makedirs(tree2)\n",
        "\n",
        "  #parsing the xml to find fig no are respective Id \n",
        "  path_xml = terpene_folder_path +'/'+ pmcid +'/'+ 'fulltext.xml'\n",
        "  tree = ET.parse(path_xml)\n",
        "  #print(tree)\n",
        "  # get root element\n",
        "  root = tree.getroot()\n",
        " \n",
        "  # collecting figure id's and  graphic id's\n",
        "  figures_id = []\n",
        "  graphic_id = []\n",
        "  caption_text=[]\n",
        "  italics = []\n",
        "  # create functions -----do it \n",
        "  for fig in root.iter('fig'):\n",
        "      # appending figure_id\n",
        "      figures_id.append(fig.attrib.get('id'))\n",
        "      # appending graphic_id\n",
        "      gid = fig.find('graphic')\n",
        "      graphic_id.append(gid.attrib.get('{http://www.w3.org/1999/xlink}href'))\n",
        "      # extracting caption text and appending it\n",
        "      caption_content = fig.find('caption')\n",
        "      xmlstr = ET.tostring(caption_content, encoding='utf8', method='xml')\n",
        "      soup = BeautifulSoup(xmlstr, features='lxml')\n",
        "      text = soup.get_text(separator=\" \")\n",
        "      paragraph_text = text.replace('\\n', ' ')\n",
        "      caption_text.append(paragraph_text)\n",
        "      italic_list =[]\n",
        "      for italic in caption_content.iter('italic'):\n",
        "        #print(italic.text)\n",
        "        italic_list.append(italic.text)\n",
        "      italics.append(italic_list)\n",
        "\n",
        "      \n",
        "\n",
        "  print('figures_id',figures_id) \n",
        "  print('graphic_id',graphic_id)\n",
        "  print('caption_text',caption_text)\n",
        "  print('italics',italics)\n",
        "  print(len(figures_id),len(graphic_id),len(caption_text))\n",
        "  \n",
        "  # creating fig, image and caption folder within each subtree.\n",
        "  for j,fig_id in enumerate(figures_id) :\n",
        "        tree3 = tree2 + fig_id +'/' \n",
        "        if not os.path.exists(tree3):\n",
        "          os.makedirs(tree3)\n",
        "        \n",
        "        download_fig_url = 'https://europepmc.org/articles/'+ pmcid + '/bin/' + graphic_id[j] +'.jpg'\n",
        "        \n",
        "        IMAGE = 'image'\n",
        "        CAPTION = 'caption'\n",
        "        tree4 = tree3 + IMAGE + '/'\n",
        "        tree5 = tree3+ CAPTION + '/'\n",
        "        if not os.path.exists(tree4):\n",
        "          os.makedirs(tree4)\n",
        "        if not os.path.exists(tree5):\n",
        "          os.makedirs(tree5)  \n",
        "        \n",
        "        fig_jpg = requests.get(download_fig_url)\n",
        "        time.sleep(5)\n",
        "        NAME_FIG ='raw.jpg'\n",
        "        NAME_CAPTION = 'raw_text.txt'\n",
        "        NAME_CAPTION_XML = 'raw_xml'\n",
        "        NAME_ITALICS = 'raw_italics.txt'\n",
        "        with open(tree4 + NAME_FIG, 'wb') as file:\n",
        "            file.write(fig_jpg.content)\n",
        "\n",
        "        with open(tree5 + NAME_CAPTION, 'w') as file:\n",
        "            file.write(caption_text[j])\n",
        "\n",
        "        with open(tree5 + NAME_ITALICS, 'w') as file:\n",
        "              for i in range(len(italics[j])):\n",
        "                 file.write(italics[j][i]+ '\\n')\n",
        "\n",
        "  # create functions --- do it\n",
        "  # extracting xml of captions for each figure\n",
        "  for fig in root.iter('fig'):\n",
        "      figures_id.append(fig.attrib.get('id'))\n",
        "      caption_content = fig.find('caption')\n",
        "      CAPTION = 'caption'\n",
        "      tree6 = tree2 + fig.attrib.get('id') + '/' + CAPTION + '/'\n",
        "      NAME_CAPTION_XML = 'raw_xml'\n",
        "      filename = format(tree6 + NAME_CAPTION_XML + \".xml\")\n",
        "      with open(filename, 'wb') as f:\n",
        "          #f.write(\"<?xml version=\\\"1.0\\\" encoding=\\\"UTF-8\\\"?>\\n\")\n",
        "          f.write(ET.tostring(caption_content))\n",
        "      \n"
      ]
    },
    {
      "cell_type": "code",
      "source": [
        ""
      ],
      "metadata": {
        "id": "Znq53kfYXu7b"
      },
      "execution_count": null,
      "outputs": []
    },
    {
      "cell_type": "markdown",
      "source": [
        "### species are the problem find something to solve it\n",
        "### **lower case text**\n",
        "### **lemmatization and stemming**\n",
        "### Abbreviation\n",
        "### spelling different --- find a lib to solve it\n",
        "### **italic for species**\n",
        "### dictionary for genus, plant species ----already there\n",
        "### look up into the wikidata\n",
        "\n",
        "dictionary for genus and different species --- main idea will help to search offline\n",
        "\n"
      ],
      "metadata": {
        "id": "faVwYu-TBO7X"
      }
    },
    {
      "cell_type": "code",
      "source": [
        ""
      ],
      "metadata": {
        "id": "_GC7pA_so6Om"
      },
      "execution_count": null,
      "outputs": []
    },
    {
      "cell_type": "code",
      "source": [
        "!pip install scispacy\n",
        "#!pip install https://s3-us-west-2.amazonaws.com/ai2-s2-scispacy/releases/v0.5.0/en_core_sci_sm-0.5.0.tar.gz\n",
        "import scispacy\n",
        "import spacy\n",
        "#import en_core_sci_sm\n",
        "from spacy import displacy\n",
        "import pandas as pd "
      ],
      "metadata": {
        "id": "FmlOzqhjepCk",
        "colab": {
          "base_uri": "https://localhost:8080/"
        },
        "outputId": "d6957b23-4fc0-461d-c678-eef0c1924ad0"
      },
      "execution_count": null,
      "outputs": [
        {
          "output_type": "stream",
          "name": "stdout",
          "text": [
            "Collecting scispacy\n",
            "  Downloading scispacy-0.5.0-py3-none-any.whl (44 kB)\n",
            "\u001b[K     |████████████████████████████████| 44 kB 1.9 MB/s \n",
            "\u001b[?25hCollecting pysbd\n",
            "  Downloading pysbd-0.3.4-py3-none-any.whl (71 kB)\n",
            "\u001b[K     |████████████████████████████████| 71 kB 5.3 MB/s \n",
            "\u001b[?25hRequirement already satisfied: requests<3.0.0,>=2.0.0 in /usr/local/lib/python3.7/dist-packages (from scispacy) (2.23.0)\n",
            "Collecting conllu\n",
            "  Downloading conllu-4.4.1-py2.py3-none-any.whl (15 kB)\n",
            "Requirement already satisfied: scikit-learn>=0.20.3 in /usr/local/lib/python3.7/dist-packages (from scispacy) (1.0.2)\n",
            "Requirement already satisfied: numpy in /usr/local/lib/python3.7/dist-packages (from scispacy) (1.21.5)\n",
            "Requirement already satisfied: joblib in /usr/local/lib/python3.7/dist-packages (from scispacy) (1.1.0)\n",
            "Collecting nmslib>=1.7.3.6\n",
            "  Downloading nmslib-2.1.1-cp37-cp37m-manylinux2010_x86_64.whl (13.5 MB)\n",
            "\u001b[K     |████████████████████████████████| 13.5 MB 23.2 MB/s \n",
            "\u001b[?25hCollecting spacy<3.3.0,>=3.2.0\n",
            "  Downloading spacy-3.2.3-cp37-cp37m-manylinux_2_17_x86_64.manylinux2014_x86_64.whl (6.0 MB)\n",
            "\u001b[K     |████████████████████████████████| 6.0 MB 52.9 MB/s \n",
            "\u001b[?25hRequirement already satisfied: psutil in /usr/local/lib/python3.7/dist-packages (from nmslib>=1.7.3.6->scispacy) (5.4.8)\n",
            "Collecting pybind11<2.6.2\n",
            "  Downloading pybind11-2.6.1-py2.py3-none-any.whl (188 kB)\n",
            "\u001b[K     |████████████████████████████████| 188 kB 51.1 MB/s \n",
            "\u001b[?25hRequirement already satisfied: chardet<4,>=3.0.2 in /usr/local/lib/python3.7/dist-packages (from requests<3.0.0,>=2.0.0->scispacy) (3.0.4)\n",
            "Requirement already satisfied: urllib3!=1.25.0,!=1.25.1,<1.26,>=1.21.1 in /usr/local/lib/python3.7/dist-packages (from requests<3.0.0,>=2.0.0->scispacy) (1.24.3)\n",
            "Requirement already satisfied: idna<3,>=2.5 in /usr/local/lib/python3.7/dist-packages (from requests<3.0.0,>=2.0.0->scispacy) (2.10)\n",
            "Requirement already satisfied: certifi>=2017.4.17 in /usr/local/lib/python3.7/dist-packages (from requests<3.0.0,>=2.0.0->scispacy) (2021.10.8)\n",
            "Requirement already satisfied: scipy>=1.1.0 in /usr/local/lib/python3.7/dist-packages (from scikit-learn>=0.20.3->scispacy) (1.4.1)\n",
            "Requirement already satisfied: threadpoolctl>=2.0.0 in /usr/local/lib/python3.7/dist-packages (from scikit-learn>=0.20.3->scispacy) (3.1.0)\n",
            "Requirement already satisfied: cymem<2.1.0,>=2.0.2 in /usr/local/lib/python3.7/dist-packages (from spacy<3.3.0,>=3.2.0->scispacy) (2.0.6)\n",
            "Requirement already satisfied: preshed<3.1.0,>=3.0.2 in /usr/local/lib/python3.7/dist-packages (from spacy<3.3.0,>=3.2.0->scispacy) (3.0.6)\n",
            "Requirement already satisfied: setuptools in /usr/local/lib/python3.7/dist-packages (from spacy<3.3.0,>=3.2.0->scispacy) (57.4.0)\n",
            "Requirement already satisfied: tqdm<5.0.0,>=4.38.0 in /usr/local/lib/python3.7/dist-packages (from spacy<3.3.0,>=3.2.0->scispacy) (4.63.0)\n",
            "Collecting pathy>=0.3.5\n",
            "  Downloading pathy-0.6.1-py3-none-any.whl (42 kB)\n",
            "\u001b[K     |████████████████████████████████| 42 kB 1.6 MB/s \n",
            "\u001b[?25hCollecting thinc<8.1.0,>=8.0.12\n",
            "  Downloading thinc-8.0.15-cp37-cp37m-manylinux_2_17_x86_64.manylinux2014_x86_64.whl (653 kB)\n",
            "\u001b[K     |████████████████████████████████| 653 kB 54.9 MB/s \n",
            "\u001b[?25hRequirement already satisfied: blis<0.8.0,>=0.4.0 in /usr/local/lib/python3.7/dist-packages (from spacy<3.3.0,>=3.2.0->scispacy) (0.4.1)\n",
            "Requirement already satisfied: wasabi<1.1.0,>=0.8.1 in /usr/local/lib/python3.7/dist-packages (from spacy<3.3.0,>=3.2.0->scispacy) (0.9.0)\n",
            "Collecting catalogue<2.1.0,>=2.0.6\n",
            "  Downloading catalogue-2.0.7-py3-none-any.whl (17 kB)\n",
            "Collecting langcodes<4.0.0,>=3.2.0\n",
            "  Downloading langcodes-3.3.0-py3-none-any.whl (181 kB)\n",
            "\u001b[K     |████████████████████████████████| 181 kB 67.3 MB/s \n",
            "\u001b[?25hCollecting spacy-loggers<2.0.0,>=1.0.0\n",
            "  Downloading spacy_loggers-1.0.1-py3-none-any.whl (7.0 kB)\n",
            "Collecting typer<0.5.0,>=0.3.0\n",
            "  Downloading typer-0.4.0-py3-none-any.whl (27 kB)\n",
            "Requirement already satisfied: murmurhash<1.1.0,>=0.28.0 in /usr/local/lib/python3.7/dist-packages (from spacy<3.3.0,>=3.2.0->scispacy) (1.0.6)\n",
            "Requirement already satisfied: packaging>=20.0 in /usr/local/lib/python3.7/dist-packages (from spacy<3.3.0,>=3.2.0->scispacy) (21.3)\n",
            "Requirement already satisfied: jinja2 in /usr/local/lib/python3.7/dist-packages (from spacy<3.3.0,>=3.2.0->scispacy) (2.11.3)\n",
            "Requirement already satisfied: typing-extensions<4.0.0.0,>=3.7.4 in /usr/local/lib/python3.7/dist-packages (from spacy<3.3.0,>=3.2.0->scispacy) (3.10.0.2)\n",
            "Collecting pydantic!=1.8,!=1.8.1,<1.9.0,>=1.7.4\n",
            "  Downloading pydantic-1.8.2-cp37-cp37m-manylinux2014_x86_64.whl (10.1 MB)\n",
            "\u001b[K     |████████████████████████████████| 10.1 MB 46.4 MB/s \n",
            "\u001b[?25hCollecting spacy-legacy<3.1.0,>=3.0.8\n",
            "  Downloading spacy_legacy-3.0.9-py2.py3-none-any.whl (20 kB)\n",
            "Collecting srsly<3.0.0,>=2.4.1\n",
            "  Downloading srsly-2.4.2-cp37-cp37m-manylinux_2_17_x86_64.manylinux2014_x86_64.whl (451 kB)\n",
            "\u001b[K     |████████████████████████████████| 451 kB 62.7 MB/s \n",
            "\u001b[?25hRequirement already satisfied: zipp>=0.5 in /usr/local/lib/python3.7/dist-packages (from catalogue<2.1.0,>=2.0.6->spacy<3.3.0,>=3.2.0->scispacy) (3.7.0)\n",
            "Requirement already satisfied: pyparsing!=3.0.5,>=2.0.2 in /usr/local/lib/python3.7/dist-packages (from packaging>=20.0->spacy<3.3.0,>=3.2.0->scispacy) (3.0.7)\n",
            "Requirement already satisfied: smart-open<6.0.0,>=5.0.0 in /usr/local/lib/python3.7/dist-packages (from pathy>=0.3.5->spacy<3.3.0,>=3.2.0->scispacy) (5.2.1)\n",
            "Requirement already satisfied: click<9.0.0,>=7.1.1 in /usr/local/lib/python3.7/dist-packages (from typer<0.5.0,>=0.3.0->spacy<3.3.0,>=3.2.0->scispacy) (7.1.2)\n",
            "Requirement already satisfied: MarkupSafe>=0.23 in /usr/local/lib/python3.7/dist-packages (from jinja2->spacy<3.3.0,>=3.2.0->scispacy) (2.0.1)\n",
            "Installing collected packages: catalogue, typer, srsly, pydantic, thinc, spacy-loggers, spacy-legacy, pybind11, pathy, langcodes, spacy, pysbd, nmslib, conllu, scispacy\n",
            "  Attempting uninstall: catalogue\n",
            "    Found existing installation: catalogue 1.0.0\n",
            "    Uninstalling catalogue-1.0.0:\n",
            "      Successfully uninstalled catalogue-1.0.0\n",
            "  Attempting uninstall: srsly\n",
            "    Found existing installation: srsly 1.0.5\n",
            "    Uninstalling srsly-1.0.5:\n",
            "      Successfully uninstalled srsly-1.0.5\n",
            "  Attempting uninstall: thinc\n",
            "    Found existing installation: thinc 7.4.0\n",
            "    Uninstalling thinc-7.4.0:\n",
            "      Successfully uninstalled thinc-7.4.0\n",
            "  Attempting uninstall: spacy\n",
            "    Found existing installation: spacy 2.2.4\n",
            "    Uninstalling spacy-2.2.4:\n",
            "      Successfully uninstalled spacy-2.2.4\n",
            "Successfully installed catalogue-2.0.7 conllu-4.4.1 langcodes-3.3.0 nmslib-2.1.1 pathy-0.6.1 pybind11-2.6.1 pydantic-1.8.2 pysbd-0.3.4 scispacy-0.5.0 spacy-3.2.3 spacy-legacy-3.0.9 spacy-loggers-1.0.1 srsly-2.4.2 thinc-8.0.15 typer-0.4.0\n"
          ]
        }
      ]
    },
    {
      "cell_type": "code",
      "source": [
        "from scispacy.abbreviation import AbbreviationDetector\n",
        "from scispacy.umls_linking import UmlsEntityLinker\n",
        "from collections import OrderedDict\n",
        "from pprint import pprint"
      ],
      "metadata": {
        "id": "rhT9ddtGHkz5"
      },
      "execution_count": null,
      "outputs": []
    },
    {
      "cell_type": "code",
      "source": [
        "import csv,sys\n",
        "from sklearn.ensemble import RandomForestClassifier\n",
        "from nltk.corpus import stopwords\n",
        "import re\n",
        "from bs4 import BeautifulSoup\n",
        "import logging\n",
        "import pandas as pd\n",
        "import numpy as np\n",
        "from numpy import random\n",
        "import gensim\n",
        "from sklearn.feature_extraction.text import CountVectorizer, TfidfVectorizer\n",
        "from sklearn.feature_extraction.text import TfidfTransformer\n",
        "from sklearn.model_selection import GridSearchCV \n",
        "from sklearn.pipeline import Pipeline\n",
        "from sklearn.naive_bayes import MultinomialNB\n",
        "from sklearn.linear_model import LogisticRegression\n",
        "from sklearn.model_selection import train_test_split\n",
        "from sklearn.model_selection import StratifiedKFold, train_test_split \n",
        "from sklearn.metrics import confusion_matrix,accuracy_score, precision_score, recall_score, f1_score\n",
        "from nltk.stem import PorterStemmer\n",
        "from nltk.stem import WordNetLemmatizer\n",
        "import nltk\n",
        "nltk.download('all')"
      ],
      "metadata": {
        "colab": {
          "base_uri": "https://localhost:8080/"
        },
        "id": "E_RYbxXbYOrK",
        "outputId": "84c96330-0a47-4d0e-94ea-a71c9b2aa155"
      },
      "execution_count": null,
      "outputs": [
        {
          "output_type": "stream",
          "name": "stdout",
          "text": [
            "[nltk_data] Downloading collection 'all'\n",
            "[nltk_data]    | \n",
            "[nltk_data]    | Downloading package abc to /root/nltk_data...\n",
            "[nltk_data]    |   Unzipping corpora/abc.zip.\n",
            "[nltk_data]    | Downloading package alpino to /root/nltk_data...\n",
            "[nltk_data]    |   Unzipping corpora/alpino.zip.\n",
            "[nltk_data]    | Downloading package averaged_perceptron_tagger to\n",
            "[nltk_data]    |     /root/nltk_data...\n",
            "[nltk_data]    |   Unzipping taggers/averaged_perceptron_tagger.zip.\n",
            "[nltk_data]    | Downloading package averaged_perceptron_tagger_ru to\n",
            "[nltk_data]    |     /root/nltk_data...\n",
            "[nltk_data]    |   Unzipping\n",
            "[nltk_data]    |       taggers/averaged_perceptron_tagger_ru.zip.\n",
            "[nltk_data]    | Downloading package basque_grammars to\n",
            "[nltk_data]    |     /root/nltk_data...\n",
            "[nltk_data]    |   Unzipping grammars/basque_grammars.zip.\n",
            "[nltk_data]    | Downloading package biocreative_ppi to\n",
            "[nltk_data]    |     /root/nltk_data...\n",
            "[nltk_data]    |   Unzipping corpora/biocreative_ppi.zip.\n",
            "[nltk_data]    | Downloading package bllip_wsj_no_aux to\n",
            "[nltk_data]    |     /root/nltk_data...\n",
            "[nltk_data]    |   Unzipping models/bllip_wsj_no_aux.zip.\n",
            "[nltk_data]    | Downloading package book_grammars to\n",
            "[nltk_data]    |     /root/nltk_data...\n",
            "[nltk_data]    |   Unzipping grammars/book_grammars.zip.\n",
            "[nltk_data]    | Downloading package brown to /root/nltk_data...\n",
            "[nltk_data]    |   Unzipping corpora/brown.zip.\n",
            "[nltk_data]    | Downloading package brown_tei to /root/nltk_data...\n",
            "[nltk_data]    |   Unzipping corpora/brown_tei.zip.\n",
            "[nltk_data]    | Downloading package cess_cat to /root/nltk_data...\n",
            "[nltk_data]    |   Unzipping corpora/cess_cat.zip.\n",
            "[nltk_data]    | Downloading package cess_esp to /root/nltk_data...\n",
            "[nltk_data]    |   Unzipping corpora/cess_esp.zip.\n",
            "[nltk_data]    | Downloading package chat80 to /root/nltk_data...\n",
            "[nltk_data]    |   Unzipping corpora/chat80.zip.\n",
            "[nltk_data]    | Downloading package city_database to\n",
            "[nltk_data]    |     /root/nltk_data...\n",
            "[nltk_data]    |   Unzipping corpora/city_database.zip.\n",
            "[nltk_data]    | Downloading package cmudict to /root/nltk_data...\n",
            "[nltk_data]    |   Unzipping corpora/cmudict.zip.\n",
            "[nltk_data]    | Downloading package comparative_sentences to\n",
            "[nltk_data]    |     /root/nltk_data...\n",
            "[nltk_data]    |   Unzipping corpora/comparative_sentences.zip.\n",
            "[nltk_data]    | Downloading package comtrans to /root/nltk_data...\n",
            "[nltk_data]    | Downloading package conll2000 to /root/nltk_data...\n",
            "[nltk_data]    |   Unzipping corpora/conll2000.zip.\n",
            "[nltk_data]    | Downloading package conll2002 to /root/nltk_data...\n",
            "[nltk_data]    |   Unzipping corpora/conll2002.zip.\n",
            "[nltk_data]    | Downloading package conll2007 to /root/nltk_data...\n",
            "[nltk_data]    | Downloading package crubadan to /root/nltk_data...\n",
            "[nltk_data]    |   Unzipping corpora/crubadan.zip.\n",
            "[nltk_data]    | Downloading package dependency_treebank to\n",
            "[nltk_data]    |     /root/nltk_data...\n",
            "[nltk_data]    |   Unzipping corpora/dependency_treebank.zip.\n",
            "[nltk_data]    | Downloading package dolch to /root/nltk_data...\n",
            "[nltk_data]    |   Unzipping corpora/dolch.zip.\n",
            "[nltk_data]    | Downloading package europarl_raw to\n",
            "[nltk_data]    |     /root/nltk_data...\n",
            "[nltk_data]    |   Unzipping corpora/europarl_raw.zip.\n",
            "[nltk_data]    | Downloading package extended_omw to\n",
            "[nltk_data]    |     /root/nltk_data...\n",
            "[nltk_data]    |   Unzipping corpora/extended_omw.zip.\n",
            "[nltk_data]    | Downloading package floresta to /root/nltk_data...\n",
            "[nltk_data]    |   Unzipping corpora/floresta.zip.\n",
            "[nltk_data]    | Downloading package framenet_v15 to\n",
            "[nltk_data]    |     /root/nltk_data...\n",
            "[nltk_data]    |   Unzipping corpora/framenet_v15.zip.\n",
            "[nltk_data]    | Downloading package framenet_v17 to\n",
            "[nltk_data]    |     /root/nltk_data...\n",
            "[nltk_data]    |   Unzipping corpora/framenet_v17.zip.\n",
            "[nltk_data]    | Downloading package gazetteers to /root/nltk_data...\n",
            "[nltk_data]    |   Unzipping corpora/gazetteers.zip.\n",
            "[nltk_data]    | Downloading package genesis to /root/nltk_data...\n",
            "[nltk_data]    |   Unzipping corpora/genesis.zip.\n",
            "[nltk_data]    | Downloading package gutenberg to /root/nltk_data...\n",
            "[nltk_data]    |   Unzipping corpora/gutenberg.zip.\n",
            "[nltk_data]    | Downloading package ieer to /root/nltk_data...\n",
            "[nltk_data]    |   Unzipping corpora/ieer.zip.\n",
            "[nltk_data]    | Downloading package inaugural to /root/nltk_data...\n",
            "[nltk_data]    |   Unzipping corpora/inaugural.zip.\n",
            "[nltk_data]    | Downloading package indian to /root/nltk_data...\n",
            "[nltk_data]    |   Unzipping corpora/indian.zip.\n",
            "[nltk_data]    | Downloading package jeita to /root/nltk_data...\n",
            "[nltk_data]    | Downloading package kimmo to /root/nltk_data...\n",
            "[nltk_data]    |   Unzipping corpora/kimmo.zip.\n",
            "[nltk_data]    | Downloading package knbc to /root/nltk_data...\n",
            "[nltk_data]    | Downloading package large_grammars to\n",
            "[nltk_data]    |     /root/nltk_data...\n",
            "[nltk_data]    |   Unzipping grammars/large_grammars.zip.\n",
            "[nltk_data]    | Downloading package lin_thesaurus to\n",
            "[nltk_data]    |     /root/nltk_data...\n",
            "[nltk_data]    |   Unzipping corpora/lin_thesaurus.zip.\n",
            "[nltk_data]    | Downloading package mac_morpho to /root/nltk_data...\n",
            "[nltk_data]    |   Unzipping corpora/mac_morpho.zip.\n",
            "[nltk_data]    | Downloading package machado to /root/nltk_data...\n",
            "[nltk_data]    | Downloading package masc_tagged to /root/nltk_data...\n",
            "[nltk_data]    | Downloading package maxent_ne_chunker to\n",
            "[nltk_data]    |     /root/nltk_data...\n",
            "[nltk_data]    |   Unzipping chunkers/maxent_ne_chunker.zip.\n",
            "[nltk_data]    | Downloading package maxent_treebank_pos_tagger to\n",
            "[nltk_data]    |     /root/nltk_data...\n",
            "[nltk_data]    |   Unzipping taggers/maxent_treebank_pos_tagger.zip.\n",
            "[nltk_data]    | Downloading package moses_sample to\n",
            "[nltk_data]    |     /root/nltk_data...\n",
            "[nltk_data]    |   Unzipping models/moses_sample.zip.\n",
            "[nltk_data]    | Downloading package movie_reviews to\n",
            "[nltk_data]    |     /root/nltk_data...\n",
            "[nltk_data]    |   Unzipping corpora/movie_reviews.zip.\n",
            "[nltk_data]    | Downloading package mte_teip5 to /root/nltk_data...\n",
            "[nltk_data]    |   Unzipping corpora/mte_teip5.zip.\n",
            "[nltk_data]    | Downloading package mwa_ppdb to /root/nltk_data...\n",
            "[nltk_data]    |   Unzipping misc/mwa_ppdb.zip.\n",
            "[nltk_data]    | Downloading package names to /root/nltk_data...\n",
            "[nltk_data]    |   Unzipping corpora/names.zip.\n",
            "[nltk_data]    | Downloading package nombank.1.0 to /root/nltk_data...\n",
            "[nltk_data]    | Downloading package nonbreaking_prefixes to\n",
            "[nltk_data]    |     /root/nltk_data...\n",
            "[nltk_data]    |   Unzipping corpora/nonbreaking_prefixes.zip.\n",
            "[nltk_data]    | Downloading package nps_chat to /root/nltk_data...\n",
            "[nltk_data]    |   Unzipping corpora/nps_chat.zip.\n",
            "[nltk_data]    | Downloading package omw to /root/nltk_data...\n",
            "[nltk_data]    |   Unzipping corpora/omw.zip.\n",
            "[nltk_data]    | Downloading package omw-1.4 to /root/nltk_data...\n",
            "[nltk_data]    |   Unzipping corpora/omw-1.4.zip.\n",
            "[nltk_data]    | Downloading package opinion_lexicon to\n",
            "[nltk_data]    |     /root/nltk_data...\n",
            "[nltk_data]    |   Unzipping corpora/opinion_lexicon.zip.\n",
            "[nltk_data]    | Downloading package panlex_swadesh to\n",
            "[nltk_data]    |     /root/nltk_data...\n",
            "[nltk_data]    | Downloading package paradigms to /root/nltk_data...\n",
            "[nltk_data]    |   Unzipping corpora/paradigms.zip.\n",
            "[nltk_data]    | Downloading package pe08 to /root/nltk_data...\n",
            "[nltk_data]    |   Unzipping corpora/pe08.zip.\n",
            "[nltk_data]    | Downloading package perluniprops to\n",
            "[nltk_data]    |     /root/nltk_data...\n",
            "[nltk_data]    |   Unzipping misc/perluniprops.zip.\n",
            "[nltk_data]    | Downloading package pil to /root/nltk_data...\n",
            "[nltk_data]    |   Unzipping corpora/pil.zip.\n",
            "[nltk_data]    | Downloading package pl196x to /root/nltk_data...\n",
            "[nltk_data]    |   Unzipping corpora/pl196x.zip.\n",
            "[nltk_data]    | Downloading package porter_test to /root/nltk_data...\n",
            "[nltk_data]    |   Unzipping stemmers/porter_test.zip.\n",
            "[nltk_data]    | Downloading package ppattach to /root/nltk_data...\n",
            "[nltk_data]    |   Unzipping corpora/ppattach.zip.\n",
            "[nltk_data]    | Downloading package problem_reports to\n",
            "[nltk_data]    |     /root/nltk_data...\n",
            "[nltk_data]    |   Unzipping corpora/problem_reports.zip.\n",
            "[nltk_data]    | Downloading package product_reviews_1 to\n",
            "[nltk_data]    |     /root/nltk_data...\n",
            "[nltk_data]    |   Unzipping corpora/product_reviews_1.zip.\n",
            "[nltk_data]    | Downloading package product_reviews_2 to\n",
            "[nltk_data]    |     /root/nltk_data...\n",
            "[nltk_data]    |   Unzipping corpora/product_reviews_2.zip.\n",
            "[nltk_data]    | Downloading package propbank to /root/nltk_data...\n",
            "[nltk_data]    | Downloading package pros_cons to /root/nltk_data...\n",
            "[nltk_data]    |   Unzipping corpora/pros_cons.zip.\n",
            "[nltk_data]    | Downloading package ptb to /root/nltk_data...\n",
            "[nltk_data]    |   Unzipping corpora/ptb.zip.\n",
            "[nltk_data]    | Downloading package punkt to /root/nltk_data...\n",
            "[nltk_data]    |   Unzipping tokenizers/punkt.zip.\n",
            "[nltk_data]    | Downloading package qc to /root/nltk_data...\n",
            "[nltk_data]    |   Unzipping corpora/qc.zip.\n",
            "[nltk_data]    | Downloading package reuters to /root/nltk_data...\n",
            "[nltk_data]    | Downloading package rslp to /root/nltk_data...\n",
            "[nltk_data]    |   Unzipping stemmers/rslp.zip.\n",
            "[nltk_data]    | Downloading package rte to /root/nltk_data...\n",
            "[nltk_data]    |   Unzipping corpora/rte.zip.\n",
            "[nltk_data]    | Downloading package sample_grammars to\n",
            "[nltk_data]    |     /root/nltk_data...\n",
            "[nltk_data]    |   Unzipping grammars/sample_grammars.zip.\n",
            "[nltk_data]    | Downloading package semcor to /root/nltk_data...\n",
            "[nltk_data]    | Downloading package senseval to /root/nltk_data...\n",
            "[nltk_data]    |   Unzipping corpora/senseval.zip.\n",
            "[nltk_data]    | Downloading package sentence_polarity to\n",
            "[nltk_data]    |     /root/nltk_data...\n",
            "[nltk_data]    |   Unzipping corpora/sentence_polarity.zip.\n",
            "[nltk_data]    | Downloading package sentiwordnet to\n",
            "[nltk_data]    |     /root/nltk_data...\n",
            "[nltk_data]    |   Unzipping corpora/sentiwordnet.zip.\n",
            "[nltk_data]    | Downloading package shakespeare to /root/nltk_data...\n",
            "[nltk_data]    |   Unzipping corpora/shakespeare.zip.\n",
            "[nltk_data]    | Downloading package sinica_treebank to\n",
            "[nltk_data]    |     /root/nltk_data...\n",
            "[nltk_data]    |   Unzipping corpora/sinica_treebank.zip.\n",
            "[nltk_data]    | Downloading package smultron to /root/nltk_data...\n",
            "[nltk_data]    |   Unzipping corpora/smultron.zip.\n",
            "[nltk_data]    | Downloading package snowball_data to\n",
            "[nltk_data]    |     /root/nltk_data...\n",
            "[nltk_data]    | Downloading package spanish_grammars to\n",
            "[nltk_data]    |     /root/nltk_data...\n",
            "[nltk_data]    |   Unzipping grammars/spanish_grammars.zip.\n",
            "[nltk_data]    | Downloading package state_union to /root/nltk_data...\n",
            "[nltk_data]    |   Unzipping corpora/state_union.zip.\n",
            "[nltk_data]    | Downloading package stopwords to /root/nltk_data...\n",
            "[nltk_data]    |   Unzipping corpora/stopwords.zip.\n",
            "[nltk_data]    | Downloading package subjectivity to\n",
            "[nltk_data]    |     /root/nltk_data...\n",
            "[nltk_data]    |   Unzipping corpora/subjectivity.zip.\n",
            "[nltk_data]    | Downloading package swadesh to /root/nltk_data...\n",
            "[nltk_data]    |   Unzipping corpora/swadesh.zip.\n",
            "[nltk_data]    | Downloading package switchboard to /root/nltk_data...\n",
            "[nltk_data]    |   Unzipping corpora/switchboard.zip.\n",
            "[nltk_data]    | Downloading package tagsets to /root/nltk_data...\n",
            "[nltk_data]    |   Unzipping help/tagsets.zip.\n",
            "[nltk_data]    | Downloading package timit to /root/nltk_data...\n",
            "[nltk_data]    |   Unzipping corpora/timit.zip.\n",
            "[nltk_data]    | Downloading package toolbox to /root/nltk_data...\n",
            "[nltk_data]    |   Unzipping corpora/toolbox.zip.\n",
            "[nltk_data]    | Downloading package treebank to /root/nltk_data...\n",
            "[nltk_data]    |   Unzipping corpora/treebank.zip.\n",
            "[nltk_data]    | Downloading package twitter_samples to\n",
            "[nltk_data]    |     /root/nltk_data...\n",
            "[nltk_data]    |   Unzipping corpora/twitter_samples.zip.\n",
            "[nltk_data]    | Downloading package udhr to /root/nltk_data...\n",
            "[nltk_data]    |   Unzipping corpora/udhr.zip.\n",
            "[nltk_data]    | Downloading package udhr2 to /root/nltk_data...\n",
            "[nltk_data]    |   Unzipping corpora/udhr2.zip.\n",
            "[nltk_data]    | Downloading package unicode_samples to\n",
            "[nltk_data]    |     /root/nltk_data...\n",
            "[nltk_data]    |   Unzipping corpora/unicode_samples.zip.\n",
            "[nltk_data]    | Downloading package universal_tagset to\n",
            "[nltk_data]    |     /root/nltk_data...\n",
            "[nltk_data]    |   Unzipping taggers/universal_tagset.zip.\n",
            "[nltk_data]    | Downloading package universal_treebanks_v20 to\n",
            "[nltk_data]    |     /root/nltk_data...\n",
            "[nltk_data]    | Downloading package vader_lexicon to\n",
            "[nltk_data]    |     /root/nltk_data...\n",
            "[nltk_data]    | Downloading package verbnet to /root/nltk_data...\n",
            "[nltk_data]    |   Unzipping corpora/verbnet.zip.\n",
            "[nltk_data]    | Downloading package verbnet3 to /root/nltk_data...\n",
            "[nltk_data]    |   Unzipping corpora/verbnet3.zip.\n",
            "[nltk_data]    | Downloading package webtext to /root/nltk_data...\n",
            "[nltk_data]    |   Unzipping corpora/webtext.zip.\n",
            "[nltk_data]    | Downloading package wmt15_eval to /root/nltk_data...\n",
            "[nltk_data]    |   Unzipping models/wmt15_eval.zip.\n",
            "[nltk_data]    | Downloading package word2vec_sample to\n",
            "[nltk_data]    |     /root/nltk_data...\n",
            "[nltk_data]    |   Unzipping models/word2vec_sample.zip.\n",
            "[nltk_data]    | Downloading package wordnet to /root/nltk_data...\n",
            "[nltk_data]    |   Unzipping corpora/wordnet.zip.\n",
            "[nltk_data]    | Downloading package wordnet2021 to /root/nltk_data...\n",
            "[nltk_data]    |   Unzipping corpora/wordnet2021.zip.\n",
            "[nltk_data]    | Downloading package wordnet31 to /root/nltk_data...\n",
            "[nltk_data]    |   Unzipping corpora/wordnet31.zip.\n",
            "[nltk_data]    | Downloading package wordnet_ic to /root/nltk_data...\n",
            "[nltk_data]    |   Unzipping corpora/wordnet_ic.zip.\n",
            "[nltk_data]    | Downloading package words to /root/nltk_data...\n",
            "[nltk_data]    |   Unzipping corpora/words.zip.\n",
            "[nltk_data]    | Downloading package ycoe to /root/nltk_data...\n",
            "[nltk_data]    |   Unzipping corpora/ycoe.zip.\n",
            "[nltk_data]    | \n",
            "[nltk_data]  Done downloading collection all\n"
          ]
        },
        {
          "output_type": "execute_result",
          "data": {
            "text/plain": [
              "True"
            ]
          },
          "metadata": {},
          "execution_count": 8
        }
      ]
    },
    {
      "cell_type": "code",
      "source": [
        "#dic_terpene = ['terpene', 'limonene',]"
      ],
      "metadata": {
        "id": "fatdH2xHC1AE"
      },
      "execution_count": null,
      "outputs": []
    },
    {
      "cell_type": "code",
      "source": [
        "#!pip install https://s3-us-west-2.amazonaws.com/ai2-s2-scispacy/releases/v0.5.0/en_ner_bionlp13cg_md-0.5.0.tar.gz"
      ],
      "metadata": {
        "id": "ewz7Q_8gF5rB"
      },
      "execution_count": null,
      "outputs": []
    },
    {
      "cell_type": "code",
      "source": [
        "REPLACE_BY_SPACE_RE = re.compile('[/(){}\\[\\]\\|@,;]')\n",
        "BAD_SYMBOLS_RE = re.compile('[^0-9a-z #+_]')\n",
        "STOPWORDS = set(stopwords.words('english'))\n",
        "\n",
        "\n",
        "analyzer = CountVectorizer().build_analyzer()\n",
        "\n",
        "def stemmed_words(doc):\n",
        "  return (PorterStemmer().stem(w) for w in analyzer(doc))\n",
        "\n",
        "def lemmatized_words(doc):\n",
        "  return (WordNetLemmatizer().lemmatize(w) for w in analyzer(doc))\n",
        "\n",
        "\n",
        "def clean_text(text):\n",
        "    \"\"\"\n",
        "        text: a string\n",
        "        \n",
        "        return: modified initial string\n",
        "    \"\"\"\n",
        "    text = BeautifulSoup(text, \"lxml\").text # HTML decoding\n",
        "    text = text.lower() # lowercase text\n",
        "    text = REPLACE_BY_SPACE_RE.sub(' ', text) # replace REPLACE_BY_SPACE_RE symbols by space in text\n",
        "    text = BAD_SYMBOLS_RE.sub('', text) # delete symbols which are in BAD_SYMBOLS_RE from text\n",
        "    #text = ' '.join(word for word in text.split() if word not in STOPWORDS) # delete stopwors from text\n",
        "    text = ' '.join(word for word in analyzer(text) if word not in STOPWORDS) # delete stopwors from text\n",
        "    text = ' '.join(WordNetLemmatizer().lemmatize(w) for w in analyzer(text))\n",
        "    text = ' '.join(word for word in analyzer(text) if len(word) >3) \n",
        "    # text_clean = []\n",
        "    # for w in text.split():\n",
        "    #   if len(w)>3:\n",
        "    #     if \n",
        "    #     text_clean.append(w)\n",
        "        \n",
        "\n",
        "    return text\n",
        "\n",
        "# text =  clean_text(reader_train_data[0][0])\n",
        "# text"
      ],
      "metadata": {
        "id": "dr_q8mXVZwdK"
      },
      "execution_count": null,
      "outputs": []
    },
    {
      "cell_type": "code",
      "source": [
        "!pip install https://s3-us-west-2.amazonaws.com/ai2-s2-scispacy/releases/v0.5.0/en_core_sci_sm-0.5.0.tar.gz\n",
        "import en_core_sci_sm"
      ],
      "metadata": {
        "colab": {
          "base_uri": "https://localhost:8080/"
        },
        "id": "wq6j2bo2-qHT",
        "outputId": "5addc8f6-28ea-49cf-c173-1e572318ef79"
      },
      "execution_count": null,
      "outputs": [
        {
          "output_type": "stream",
          "name": "stdout",
          "text": [
            "Collecting https://s3-us-west-2.amazonaws.com/ai2-s2-scispacy/releases/v0.5.0/en_core_sci_sm-0.5.0.tar.gz\n",
            "  Downloading https://s3-us-west-2.amazonaws.com/ai2-s2-scispacy/releases/v0.5.0/en_core_sci_sm-0.5.0.tar.gz (15.9 MB)\n",
            "\u001b[K     |████████████████████████████████| 15.9 MB 1.0 MB/s \n",
            "\u001b[?25hRequirement already satisfied: spacy<3.3.0,>=3.2.3 in /usr/local/lib/python3.7/dist-packages (from en-core-sci-sm==0.5.0) (3.2.3)\n",
            "Requirement already satisfied: blis<0.8.0,>=0.4.0 in /usr/local/lib/python3.7/dist-packages (from spacy<3.3.0,>=3.2.3->en-core-sci-sm==0.5.0) (0.4.1)\n",
            "Requirement already satisfied: catalogue<2.1.0,>=2.0.6 in /usr/local/lib/python3.7/dist-packages (from spacy<3.3.0,>=3.2.3->en-core-sci-sm==0.5.0) (2.0.7)\n",
            "Requirement already satisfied: numpy>=1.15.0 in /usr/local/lib/python3.7/dist-packages (from spacy<3.3.0,>=3.2.3->en-core-sci-sm==0.5.0) (1.21.5)\n",
            "Requirement already satisfied: pathy>=0.3.5 in /usr/local/lib/python3.7/dist-packages (from spacy<3.3.0,>=3.2.3->en-core-sci-sm==0.5.0) (0.6.1)\n",
            "Requirement already satisfied: murmurhash<1.1.0,>=0.28.0 in /usr/local/lib/python3.7/dist-packages (from spacy<3.3.0,>=3.2.3->en-core-sci-sm==0.5.0) (1.0.6)\n",
            "Requirement already satisfied: jinja2 in /usr/local/lib/python3.7/dist-packages (from spacy<3.3.0,>=3.2.3->en-core-sci-sm==0.5.0) (2.11.3)\n",
            "Requirement already satisfied: langcodes<4.0.0,>=3.2.0 in /usr/local/lib/python3.7/dist-packages (from spacy<3.3.0,>=3.2.3->en-core-sci-sm==0.5.0) (3.3.0)\n",
            "Requirement already satisfied: wasabi<1.1.0,>=0.8.1 in /usr/local/lib/python3.7/dist-packages (from spacy<3.3.0,>=3.2.3->en-core-sci-sm==0.5.0) (0.9.0)\n",
            "Requirement already satisfied: tqdm<5.0.0,>=4.38.0 in /usr/local/lib/python3.7/dist-packages (from spacy<3.3.0,>=3.2.3->en-core-sci-sm==0.5.0) (4.63.0)\n",
            "Requirement already satisfied: packaging>=20.0 in /usr/local/lib/python3.7/dist-packages (from spacy<3.3.0,>=3.2.3->en-core-sci-sm==0.5.0) (21.3)\n",
            "Requirement already satisfied: typing-extensions<4.0.0.0,>=3.7.4 in /usr/local/lib/python3.7/dist-packages (from spacy<3.3.0,>=3.2.3->en-core-sci-sm==0.5.0) (3.10.0.2)\n",
            "Requirement already satisfied: pydantic!=1.8,!=1.8.1,<1.9.0,>=1.7.4 in /usr/local/lib/python3.7/dist-packages (from spacy<3.3.0,>=3.2.3->en-core-sci-sm==0.5.0) (1.8.2)\n",
            "Requirement already satisfied: srsly<3.0.0,>=2.4.1 in /usr/local/lib/python3.7/dist-packages (from spacy<3.3.0,>=3.2.3->en-core-sci-sm==0.5.0) (2.4.2)\n",
            "Requirement already satisfied: preshed<3.1.0,>=3.0.2 in /usr/local/lib/python3.7/dist-packages (from spacy<3.3.0,>=3.2.3->en-core-sci-sm==0.5.0) (3.0.6)\n",
            "Requirement already satisfied: cymem<2.1.0,>=2.0.2 in /usr/local/lib/python3.7/dist-packages (from spacy<3.3.0,>=3.2.3->en-core-sci-sm==0.5.0) (2.0.6)\n",
            "Requirement already satisfied: requests<3.0.0,>=2.13.0 in /usr/local/lib/python3.7/dist-packages (from spacy<3.3.0,>=3.2.3->en-core-sci-sm==0.5.0) (2.23.0)\n",
            "Requirement already satisfied: spacy-legacy<3.1.0,>=3.0.8 in /usr/local/lib/python3.7/dist-packages (from spacy<3.3.0,>=3.2.3->en-core-sci-sm==0.5.0) (3.0.9)\n",
            "Requirement already satisfied: thinc<8.1.0,>=8.0.12 in /usr/local/lib/python3.7/dist-packages (from spacy<3.3.0,>=3.2.3->en-core-sci-sm==0.5.0) (8.0.15)\n",
            "Requirement already satisfied: setuptools in /usr/local/lib/python3.7/dist-packages (from spacy<3.3.0,>=3.2.3->en-core-sci-sm==0.5.0) (57.4.0)\n",
            "Requirement already satisfied: spacy-loggers<2.0.0,>=1.0.0 in /usr/local/lib/python3.7/dist-packages (from spacy<3.3.0,>=3.2.3->en-core-sci-sm==0.5.0) (1.0.1)\n",
            "Requirement already satisfied: typer<0.5.0,>=0.3.0 in /usr/local/lib/python3.7/dist-packages (from spacy<3.3.0,>=3.2.3->en-core-sci-sm==0.5.0) (0.4.0)\n",
            "Requirement already satisfied: zipp>=0.5 in /usr/local/lib/python3.7/dist-packages (from catalogue<2.1.0,>=2.0.6->spacy<3.3.0,>=3.2.3->en-core-sci-sm==0.5.0) (3.7.0)\n",
            "Requirement already satisfied: pyparsing!=3.0.5,>=2.0.2 in /usr/local/lib/python3.7/dist-packages (from packaging>=20.0->spacy<3.3.0,>=3.2.3->en-core-sci-sm==0.5.0) (3.0.7)\n",
            "Requirement already satisfied: smart-open<6.0.0,>=5.0.0 in /usr/local/lib/python3.7/dist-packages (from pathy>=0.3.5->spacy<3.3.0,>=3.2.3->en-core-sci-sm==0.5.0) (5.2.1)\n",
            "Requirement already satisfied: certifi>=2017.4.17 in /usr/local/lib/python3.7/dist-packages (from requests<3.0.0,>=2.13.0->spacy<3.3.0,>=3.2.3->en-core-sci-sm==0.5.0) (2021.10.8)\n",
            "Requirement already satisfied: idna<3,>=2.5 in /usr/local/lib/python3.7/dist-packages (from requests<3.0.0,>=2.13.0->spacy<3.3.0,>=3.2.3->en-core-sci-sm==0.5.0) (2.10)\n",
            "Requirement already satisfied: chardet<4,>=3.0.2 in /usr/local/lib/python3.7/dist-packages (from requests<3.0.0,>=2.13.0->spacy<3.3.0,>=3.2.3->en-core-sci-sm==0.5.0) (3.0.4)\n",
            "Requirement already satisfied: urllib3!=1.25.0,!=1.25.1,<1.26,>=1.21.1 in /usr/local/lib/python3.7/dist-packages (from requests<3.0.0,>=2.13.0->spacy<3.3.0,>=3.2.3->en-core-sci-sm==0.5.0) (1.24.3)\n",
            "Requirement already satisfied: click<9.0.0,>=7.1.1 in /usr/local/lib/python3.7/dist-packages (from typer<0.5.0,>=0.3.0->spacy<3.3.0,>=3.2.3->en-core-sci-sm==0.5.0) (7.1.2)\n",
            "Requirement already satisfied: MarkupSafe>=0.23 in /usr/local/lib/python3.7/dist-packages (from jinja2->spacy<3.3.0,>=3.2.3->en-core-sci-sm==0.5.0) (2.0.1)\n",
            "Building wheels for collected packages: en-core-sci-sm\n",
            "  Building wheel for en-core-sci-sm (setup.py) ... \u001b[?25l\u001b[?25hdone\n",
            "  Created wheel for en-core-sci-sm: filename=en_core_sci_sm-0.5.0-py3-none-any.whl size=15871046 sha256=307f1cbbf06804ff979f91db54453c3f393fee0b8f3ca640c97e997bbcec51de\n",
            "  Stored in directory: /root/.cache/pip/wheels/b1/b8/7d/d26a5894db99bf0cfb9add399889738de91a608e6664f82454\n",
            "Successfully built en-core-sci-sm\n",
            "Installing collected packages: en-core-sci-sm\n",
            "Successfully installed en-core-sci-sm-0.5.0\n"
          ]
        }
      ]
    },
    {
      "cell_type": "code",
      "source": [
        "f_train_data = open('/content/terpene/PMC8050080/figure/Fig1/caption/raw_text.txt','r')\n",
        "reader_train_data = list(csv.reader(f_train_data,delimiter='\\t'))\n",
        "text = reader_train_data[0][0]\n",
        "text_clean = clean_text(text)"
      ],
      "metadata": {
        "id": "0eqOavQmYRUo"
      },
      "execution_count": null,
      "outputs": []
    },
    {
      "cell_type": "markdown",
      "source": [
        ""
      ],
      "metadata": {
        "id": "mfY5SC3DAhdk"
      }
    },
    {
      "cell_type": "code",
      "source": [
        "nlp = en_core_sci_sm.load()\n",
        "doc_raw= nlp(text)\n",
        "doc_clean_text = nlp(text_clean)\n",
        "#displacy_image = displacy.render(doc, jupyter = True, style = ‘ent’)"
      ],
      "metadata": {
        "id": "6iJntgYqGH-k"
      },
      "execution_count": null,
      "outputs": []
    },
    {
      "cell_type": "markdown",
      "source": [
        "**Raw text:**\n",
        "\n",
        "\n",
        "Terpenes Induce Cannabimimetic Tetrad Behaviors in Mice. Behavioral analysis data from Figs.  S1 - S3  represented in a radar chart format. The percent change from baseline for each terpene in each behavior was determined; the peak effect for tail flick was selected (Fig.  S1 ) while the other behaviors only had a single time point. This percent change was then normalized to the % change of 5.6 mg/kg WIN55,212-2 (1.0 on the chart above). The chart demonstrates that while all terpenes induce all 4 tetrad behaviors, they do so with varying efficacy; they also vary whether the effect is stronger or weaker than the positive control WIN55,212-2.\n",
        "Terpenes ENTITY Induce Cannabimimetic ENTITY Tetrad Behaviors ENTITY in Mice ENTITY . Behavioral ENTITY analysis data"
      ],
      "metadata": {
        "id": "9-TU4Ne0BhjO"
      }
    },
    {
      "cell_type": "code",
      "source": [
        "print('FOR RAW TEXT:\\n')\n",
        "print(text)\n",
        "displacy_image = displacy.render(doc_raw, jupyter=True,style='ent')\n",
        "entity_and_label = pprint(set([(X.text, X.label_) for X in doc_raw.ents]))\n",
        "displacy_image, entity_and_label"
      ],
      "metadata": {
        "colab": {
          "base_uri": "https://localhost:8080/",
          "height": 748
        },
        "id": "YaE1GcYrAsy4",
        "outputId": "15f85180-c4f8-4707-d930-d15a6d22a3e0"
      },
      "execution_count": null,
      "outputs": [
        {
          "output_type": "stream",
          "name": "stdout",
          "text": [
            "FOR RAW TEXT:\n",
            "\n",
            "Terpenes Induce Cannabimimetic Tetrad Behaviors in Mice. Behavioral analysis data from Figs.  S1 - S3  represented in a radar chart format. The percent change from baseline for each terpene in each behavior was determined; the peak effect for tail flick was selected (Fig.  S1 ) while the other behaviors only had a single time point. This percent change was then normalized to the % change of 5.6 mg/kg WIN55,212-2 (1.0 on the chart above). The chart demonstrates that while all terpenes induce all 4 tetrad behaviors, they do so with varying efficacy; they also vary whether the effect is stronger or weaker than the positive control WIN55,212-2.\n"
          ]
        },
        {
          "output_type": "display_data",
          "data": {
            "text/plain": [
              "<IPython.core.display.HTML object>"
            ],
            "text/html": [
              "<span class=\"tex2jax_ignore\"><div class=\"entities\" style=\"line-height: 2.5; direction: ltr\">\n",
              "<mark class=\"entity\" style=\"background: #ddd; padding: 0.45em 0.6em; margin: 0 0.25em; line-height: 1; border-radius: 0.35em;\">\n",
              "    Terpenes\n",
              "    <span style=\"font-size: 0.8em; font-weight: bold; line-height: 1; border-radius: 0.35em; vertical-align: middle; margin-left: 0.5rem\">ENTITY</span>\n",
              "</mark>\n",
              " Induce \n",
              "<mark class=\"entity\" style=\"background: #ddd; padding: 0.45em 0.6em; margin: 0 0.25em; line-height: 1; border-radius: 0.35em;\">\n",
              "    Cannabimimetic\n",
              "    <span style=\"font-size: 0.8em; font-weight: bold; line-height: 1; border-radius: 0.35em; vertical-align: middle; margin-left: 0.5rem\">ENTITY</span>\n",
              "</mark>\n",
              " \n",
              "<mark class=\"entity\" style=\"background: #ddd; padding: 0.45em 0.6em; margin: 0 0.25em; line-height: 1; border-radius: 0.35em;\">\n",
              "    Tetrad Behaviors\n",
              "    <span style=\"font-size: 0.8em; font-weight: bold; line-height: 1; border-radius: 0.35em; vertical-align: middle; margin-left: 0.5rem\">ENTITY</span>\n",
              "</mark>\n",
              " in \n",
              "<mark class=\"entity\" style=\"background: #ddd; padding: 0.45em 0.6em; margin: 0 0.25em; line-height: 1; border-radius: 0.35em;\">\n",
              "    Mice\n",
              "    <span style=\"font-size: 0.8em; font-weight: bold; line-height: 1; border-radius: 0.35em; vertical-align: middle; margin-left: 0.5rem\">ENTITY</span>\n",
              "</mark>\n",
              ". \n",
              "<mark class=\"entity\" style=\"background: #ddd; padding: 0.45em 0.6em; margin: 0 0.25em; line-height: 1; border-radius: 0.35em;\">\n",
              "    Behavioral\n",
              "    <span style=\"font-size: 0.8em; font-weight: bold; line-height: 1; border-radius: 0.35em; vertical-align: middle; margin-left: 0.5rem\">ENTITY</span>\n",
              "</mark>\n",
              " analysis \n",
              "<mark class=\"entity\" style=\"background: #ddd; padding: 0.45em 0.6em; margin: 0 0.25em; line-height: 1; border-radius: 0.35em;\">\n",
              "    data\n",
              "    <span style=\"font-size: 0.8em; font-weight: bold; line-height: 1; border-radius: 0.35em; vertical-align: middle; margin-left: 0.5rem\">ENTITY</span>\n",
              "</mark>\n",
              " from Figs.  S1 - \n",
              "<mark class=\"entity\" style=\"background: #ddd; padding: 0.45em 0.6em; margin: 0 0.25em; line-height: 1; border-radius: 0.35em;\">\n",
              "    S3\n",
              "    <span style=\"font-size: 0.8em; font-weight: bold; line-height: 1; border-radius: 0.35em; vertical-align: middle; margin-left: 0.5rem\">ENTITY</span>\n",
              "</mark>\n",
              "  represented in a radar \n",
              "<mark class=\"entity\" style=\"background: #ddd; padding: 0.45em 0.6em; margin: 0 0.25em; line-height: 1; border-radius: 0.35em;\">\n",
              "    chart format\n",
              "    <span style=\"font-size: 0.8em; font-weight: bold; line-height: 1; border-radius: 0.35em; vertical-align: middle; margin-left: 0.5rem\">ENTITY</span>\n",
              "</mark>\n",
              ". The percent change from \n",
              "<mark class=\"entity\" style=\"background: #ddd; padding: 0.45em 0.6em; margin: 0 0.25em; line-height: 1; border-radius: 0.35em;\">\n",
              "    baseline\n",
              "    <span style=\"font-size: 0.8em; font-weight: bold; line-height: 1; border-radius: 0.35em; vertical-align: middle; margin-left: 0.5rem\">ENTITY</span>\n",
              "</mark>\n",
              " for each \n",
              "<mark class=\"entity\" style=\"background: #ddd; padding: 0.45em 0.6em; margin: 0 0.25em; line-height: 1; border-radius: 0.35em;\">\n",
              "    terpene\n",
              "    <span style=\"font-size: 0.8em; font-weight: bold; line-height: 1; border-radius: 0.35em; vertical-align: middle; margin-left: 0.5rem\">ENTITY</span>\n",
              "</mark>\n",
              " in each \n",
              "<mark class=\"entity\" style=\"background: #ddd; padding: 0.45em 0.6em; margin: 0 0.25em; line-height: 1; border-radius: 0.35em;\">\n",
              "    behavior\n",
              "    <span style=\"font-size: 0.8em; font-weight: bold; line-height: 1; border-radius: 0.35em; vertical-align: middle; margin-left: 0.5rem\">ENTITY</span>\n",
              "</mark>\n",
              " was determined; the \n",
              "<mark class=\"entity\" style=\"background: #ddd; padding: 0.45em 0.6em; margin: 0 0.25em; line-height: 1; border-radius: 0.35em;\">\n",
              "    peak effect\n",
              "    <span style=\"font-size: 0.8em; font-weight: bold; line-height: 1; border-radius: 0.35em; vertical-align: middle; margin-left: 0.5rem\">ENTITY</span>\n",
              "</mark>\n",
              " for \n",
              "<mark class=\"entity\" style=\"background: #ddd; padding: 0.45em 0.6em; margin: 0 0.25em; line-height: 1; border-radius: 0.35em;\">\n",
              "    tail\n",
              "    <span style=\"font-size: 0.8em; font-weight: bold; line-height: 1; border-radius: 0.35em; vertical-align: middle; margin-left: 0.5rem\">ENTITY</span>\n",
              "</mark>\n",
              " flick was selected (Fig.  S1 ) while the other \n",
              "<mark class=\"entity\" style=\"background: #ddd; padding: 0.45em 0.6em; margin: 0 0.25em; line-height: 1; border-radius: 0.35em;\">\n",
              "    behaviors\n",
              "    <span style=\"font-size: 0.8em; font-weight: bold; line-height: 1; border-radius: 0.35em; vertical-align: middle; margin-left: 0.5rem\">ENTITY</span>\n",
              "</mark>\n",
              " only had a single time point. This percent change was then normalized to the % \n",
              "<mark class=\"entity\" style=\"background: #ddd; padding: 0.45em 0.6em; margin: 0 0.25em; line-height: 1; border-radius: 0.35em;\">\n",
              "    change\n",
              "    <span style=\"font-size: 0.8em; font-weight: bold; line-height: 1; border-radius: 0.35em; vertical-align: middle; margin-left: 0.5rem\">ENTITY</span>\n",
              "</mark>\n",
              " of 5.6 mg/kg WIN55,212-2 (1.0 on the \n",
              "<mark class=\"entity\" style=\"background: #ddd; padding: 0.45em 0.6em; margin: 0 0.25em; line-height: 1; border-radius: 0.35em;\">\n",
              "    chart\n",
              "    <span style=\"font-size: 0.8em; font-weight: bold; line-height: 1; border-radius: 0.35em; vertical-align: middle; margin-left: 0.5rem\">ENTITY</span>\n",
              "</mark>\n",
              " above). The chart demonstrates that while all \n",
              "<mark class=\"entity\" style=\"background: #ddd; padding: 0.45em 0.6em; margin: 0 0.25em; line-height: 1; border-radius: 0.35em;\">\n",
              "    terpenes\n",
              "    <span style=\"font-size: 0.8em; font-weight: bold; line-height: 1; border-radius: 0.35em; vertical-align: middle; margin-left: 0.5rem\">ENTITY</span>\n",
              "</mark>\n",
              " \n",
              "<mark class=\"entity\" style=\"background: #ddd; padding: 0.45em 0.6em; margin: 0 0.25em; line-height: 1; border-radius: 0.35em;\">\n",
              "    induce\n",
              "    <span style=\"font-size: 0.8em; font-weight: bold; line-height: 1; border-radius: 0.35em; vertical-align: middle; margin-left: 0.5rem\">ENTITY</span>\n",
              "</mark>\n",
              " all 4 \n",
              "<mark class=\"entity\" style=\"background: #ddd; padding: 0.45em 0.6em; margin: 0 0.25em; line-height: 1; border-radius: 0.35em;\">\n",
              "    tetrad behaviors\n",
              "    <span style=\"font-size: 0.8em; font-weight: bold; line-height: 1; border-radius: 0.35em; vertical-align: middle; margin-left: 0.5rem\">ENTITY</span>\n",
              "</mark>\n",
              ", they do so with varying \n",
              "<mark class=\"entity\" style=\"background: #ddd; padding: 0.45em 0.6em; margin: 0 0.25em; line-height: 1; border-radius: 0.35em;\">\n",
              "    efficacy\n",
              "    <span style=\"font-size: 0.8em; font-weight: bold; line-height: 1; border-radius: 0.35em; vertical-align: middle; margin-left: 0.5rem\">ENTITY</span>\n",
              "</mark>\n",
              "; they also vary whether the \n",
              "<mark class=\"entity\" style=\"background: #ddd; padding: 0.45em 0.6em; margin: 0 0.25em; line-height: 1; border-radius: 0.35em;\">\n",
              "    effect\n",
              "    <span style=\"font-size: 0.8em; font-weight: bold; line-height: 1; border-radius: 0.35em; vertical-align: middle; margin-left: 0.5rem\">ENTITY</span>\n",
              "</mark>\n",
              " is \n",
              "<mark class=\"entity\" style=\"background: #ddd; padding: 0.45em 0.6em; margin: 0 0.25em; line-height: 1; border-radius: 0.35em;\">\n",
              "    stronger\n",
              "    <span style=\"font-size: 0.8em; font-weight: bold; line-height: 1; border-radius: 0.35em; vertical-align: middle; margin-left: 0.5rem\">ENTITY</span>\n",
              "</mark>\n",
              " or \n",
              "<mark class=\"entity\" style=\"background: #ddd; padding: 0.45em 0.6em; margin: 0 0.25em; line-height: 1; border-radius: 0.35em;\">\n",
              "    weaker\n",
              "    <span style=\"font-size: 0.8em; font-weight: bold; line-height: 1; border-radius: 0.35em; vertical-align: middle; margin-left: 0.5rem\">ENTITY</span>\n",
              "</mark>\n",
              " than the \n",
              "<mark class=\"entity\" style=\"background: #ddd; padding: 0.45em 0.6em; margin: 0 0.25em; line-height: 1; border-radius: 0.35em;\">\n",
              "    positive control WIN55,212-2\n",
              "    <span style=\"font-size: 0.8em; font-weight: bold; line-height: 1; border-radius: 0.35em; vertical-align: middle; margin-left: 0.5rem\">ENTITY</span>\n",
              "</mark>\n",
              ".</div></span>"
            ]
          },
          "metadata": {}
        },
        {
          "output_type": "stream",
          "name": "stdout",
          "text": [
            "{('Behavioral', 'ENTITY'),\n",
            " ('Cannabimimetic', 'ENTITY'),\n",
            " ('Mice', 'ENTITY'),\n",
            " ('S3', 'ENTITY'),\n",
            " ('Terpenes', 'ENTITY'),\n",
            " ('Tetrad Behaviors', 'ENTITY'),\n",
            " ('baseline', 'ENTITY'),\n",
            " ('behavior', 'ENTITY'),\n",
            " ('behaviors', 'ENTITY'),\n",
            " ('change', 'ENTITY'),\n",
            " ('chart', 'ENTITY'),\n",
            " ('chart format', 'ENTITY'),\n",
            " ('data', 'ENTITY'),\n",
            " ('effect', 'ENTITY'),\n",
            " ('efficacy', 'ENTITY'),\n",
            " ('induce', 'ENTITY'),\n",
            " ('peak effect', 'ENTITY'),\n",
            " ('positive control WIN55,212-2', 'ENTITY'),\n",
            " ('stronger', 'ENTITY'),\n",
            " ('tail', 'ENTITY'),\n",
            " ('terpene', 'ENTITY'),\n",
            " ('terpenes', 'ENTITY'),\n",
            " ('tetrad behaviors', 'ENTITY'),\n",
            " ('weaker', 'ENTITY')}\n"
          ]
        },
        {
          "output_type": "execute_result",
          "data": {
            "text/plain": [
              "(None, None)"
            ]
          },
          "metadata": {},
          "execution_count": 17
        }
      ]
    },
    {
      "cell_type": "code",
      "source": [
        "print('FOR CLEAN TEXT:\\n')\n",
        "print(text_clean)\n",
        "displacy_image = displacy.render(doc_clean_text, jupyter=True,style='ent')\n",
        "entity_and_label = pprint(set([(X.text, X.label_) for X in doc_clean_text.ents]))\n",
        "displacy_image, entity_and_label"
      ],
      "metadata": {
        "colab": {
          "base_uri": "https://localhost:8080/",
          "height": 575
        },
        "id": "rfAH9_xIAy5-",
        "outputId": "fa9817eb-e892-438d-bcff-683b71b5bcbe"
      },
      "execution_count": null,
      "outputs": [
        {
          "output_type": "stream",
          "name": "stdout",
          "text": [
            "FOR CLEAN TEXT:\n",
            "\n",
            "terpene induce cannabimimetic tetrad behavior mouse behavioral analysis data represented radar chart format percent change baseline terpene behavior determined peak effect tail flick selected behavior single time point percent change normalized change 56mg win55 2122 chart chart demonstrates terpene induce tetrad behavior varying efficacy also vary whether effect stronger weaker positive control win55 2122\n"
          ]
        },
        {
          "output_type": "display_data",
          "data": {
            "text/plain": [
              "<IPython.core.display.HTML object>"
            ],
            "text/html": [
              "<span class=\"tex2jax_ignore\"><div class=\"entities\" style=\"line-height: 2.5; direction: ltr\">\n",
              "<mark class=\"entity\" style=\"background: #ddd; padding: 0.45em 0.6em; margin: 0 0.25em; line-height: 1; border-radius: 0.35em;\">\n",
              "    terpene\n",
              "    <span style=\"font-size: 0.8em; font-weight: bold; line-height: 1; border-radius: 0.35em; vertical-align: middle; margin-left: 0.5rem\">ENTITY</span>\n",
              "</mark>\n",
              " induce \n",
              "<mark class=\"entity\" style=\"background: #ddd; padding: 0.45em 0.6em; margin: 0 0.25em; line-height: 1; border-radius: 0.35em;\">\n",
              "    cannabimimetic\n",
              "    <span style=\"font-size: 0.8em; font-weight: bold; line-height: 1; border-radius: 0.35em; vertical-align: middle; margin-left: 0.5rem\">ENTITY</span>\n",
              "</mark>\n",
              " \n",
              "<mark class=\"entity\" style=\"background: #ddd; padding: 0.45em 0.6em; margin: 0 0.25em; line-height: 1; border-radius: 0.35em;\">\n",
              "    tetrad behavior\n",
              "    <span style=\"font-size: 0.8em; font-weight: bold; line-height: 1; border-radius: 0.35em; vertical-align: middle; margin-left: 0.5rem\">ENTITY</span>\n",
              "</mark>\n",
              " \n",
              "<mark class=\"entity\" style=\"background: #ddd; padding: 0.45em 0.6em; margin: 0 0.25em; line-height: 1; border-radius: 0.35em;\">\n",
              "    mouse\n",
              "    <span style=\"font-size: 0.8em; font-weight: bold; line-height: 1; border-radius: 0.35em; vertical-align: middle; margin-left: 0.5rem\">ENTITY</span>\n",
              "</mark>\n",
              " \n",
              "<mark class=\"entity\" style=\"background: #ddd; padding: 0.45em 0.6em; margin: 0 0.25em; line-height: 1; border-radius: 0.35em;\">\n",
              "    behavioral\n",
              "    <span style=\"font-size: 0.8em; font-weight: bold; line-height: 1; border-radius: 0.35em; vertical-align: middle; margin-left: 0.5rem\">ENTITY</span>\n",
              "</mark>\n",
              " analysis \n",
              "<mark class=\"entity\" style=\"background: #ddd; padding: 0.45em 0.6em; margin: 0 0.25em; line-height: 1; border-radius: 0.35em;\">\n",
              "    data\n",
              "    <span style=\"font-size: 0.8em; font-weight: bold; line-height: 1; border-radius: 0.35em; vertical-align: middle; margin-left: 0.5rem\">ENTITY</span>\n",
              "</mark>\n",
              " represented radar \n",
              "<mark class=\"entity\" style=\"background: #ddd; padding: 0.45em 0.6em; margin: 0 0.25em; line-height: 1; border-radius: 0.35em;\">\n",
              "    chart format\n",
              "    <span style=\"font-size: 0.8em; font-weight: bold; line-height: 1; border-radius: 0.35em; vertical-align: middle; margin-left: 0.5rem\">ENTITY</span>\n",
              "</mark>\n",
              " percent change \n",
              "<mark class=\"entity\" style=\"background: #ddd; padding: 0.45em 0.6em; margin: 0 0.25em; line-height: 1; border-radius: 0.35em;\">\n",
              "    baseline\n",
              "    <span style=\"font-size: 0.8em; font-weight: bold; line-height: 1; border-radius: 0.35em; vertical-align: middle; margin-left: 0.5rem\">ENTITY</span>\n",
              "</mark>\n",
              " \n",
              "<mark class=\"entity\" style=\"background: #ddd; padding: 0.45em 0.6em; margin: 0 0.25em; line-height: 1; border-radius: 0.35em;\">\n",
              "    terpene behavior\n",
              "    <span style=\"font-size: 0.8em; font-weight: bold; line-height: 1; border-radius: 0.35em; vertical-align: middle; margin-left: 0.5rem\">ENTITY</span>\n",
              "</mark>\n",
              " determined \n",
              "<mark class=\"entity\" style=\"background: #ddd; padding: 0.45em 0.6em; margin: 0 0.25em; line-height: 1; border-radius: 0.35em;\">\n",
              "    peak effect tail\n",
              "    <span style=\"font-size: 0.8em; font-weight: bold; line-height: 1; border-radius: 0.35em; vertical-align: middle; margin-left: 0.5rem\">ENTITY</span>\n",
              "</mark>\n",
              " \n",
              "<mark class=\"entity\" style=\"background: #ddd; padding: 0.45em 0.6em; margin: 0 0.25em; line-height: 1; border-radius: 0.35em;\">\n",
              "    flick\n",
              "    <span style=\"font-size: 0.8em; font-weight: bold; line-height: 1; border-radius: 0.35em; vertical-align: middle; margin-left: 0.5rem\">ENTITY</span>\n",
              "</mark>\n",
              " selected behavior single time point percent \n",
              "<mark class=\"entity\" style=\"background: #ddd; padding: 0.45em 0.6em; margin: 0 0.25em; line-height: 1; border-radius: 0.35em;\">\n",
              "    change\n",
              "    <span style=\"font-size: 0.8em; font-weight: bold; line-height: 1; border-radius: 0.35em; vertical-align: middle; margin-left: 0.5rem\">ENTITY</span>\n",
              "</mark>\n",
              " normalized \n",
              "<mark class=\"entity\" style=\"background: #ddd; padding: 0.45em 0.6em; margin: 0 0.25em; line-height: 1; border-radius: 0.35em;\">\n",
              "    change\n",
              "    <span style=\"font-size: 0.8em; font-weight: bold; line-height: 1; border-radius: 0.35em; vertical-align: middle; margin-left: 0.5rem\">ENTITY</span>\n",
              "</mark>\n",
              " 56mg win55 2122 \n",
              "<mark class=\"entity\" style=\"background: #ddd; padding: 0.45em 0.6em; margin: 0 0.25em; line-height: 1; border-radius: 0.35em;\">\n",
              "    chart chart\n",
              "    <span style=\"font-size: 0.8em; font-weight: bold; line-height: 1; border-radius: 0.35em; vertical-align: middle; margin-left: 0.5rem\">ENTITY</span>\n",
              "</mark>\n",
              " demonstrates \n",
              "<mark class=\"entity\" style=\"background: #ddd; padding: 0.45em 0.6em; margin: 0 0.25em; line-height: 1; border-radius: 0.35em;\">\n",
              "    terpene\n",
              "    <span style=\"font-size: 0.8em; font-weight: bold; line-height: 1; border-radius: 0.35em; vertical-align: middle; margin-left: 0.5rem\">ENTITY</span>\n",
              "</mark>\n",
              " \n",
              "<mark class=\"entity\" style=\"background: #ddd; padding: 0.45em 0.6em; margin: 0 0.25em; line-height: 1; border-radius: 0.35em;\">\n",
              "    induce\n",
              "    <span style=\"font-size: 0.8em; font-weight: bold; line-height: 1; border-radius: 0.35em; vertical-align: middle; margin-left: 0.5rem\">ENTITY</span>\n",
              "</mark>\n",
              " \n",
              "<mark class=\"entity\" style=\"background: #ddd; padding: 0.45em 0.6em; margin: 0 0.25em; line-height: 1; border-radius: 0.35em;\">\n",
              "    tetrad behavior\n",
              "    <span style=\"font-size: 0.8em; font-weight: bold; line-height: 1; border-radius: 0.35em; vertical-align: middle; margin-left: 0.5rem\">ENTITY</span>\n",
              "</mark>\n",
              " varying \n",
              "<mark class=\"entity\" style=\"background: #ddd; padding: 0.45em 0.6em; margin: 0 0.25em; line-height: 1; border-radius: 0.35em;\">\n",
              "    efficacy\n",
              "    <span style=\"font-size: 0.8em; font-weight: bold; line-height: 1; border-radius: 0.35em; vertical-align: middle; margin-left: 0.5rem\">ENTITY</span>\n",
              "</mark>\n",
              " also vary whether \n",
              "<mark class=\"entity\" style=\"background: #ddd; padding: 0.45em 0.6em; margin: 0 0.25em; line-height: 1; border-radius: 0.35em;\">\n",
              "    effect\n",
              "    <span style=\"font-size: 0.8em; font-weight: bold; line-height: 1; border-radius: 0.35em; vertical-align: middle; margin-left: 0.5rem\">ENTITY</span>\n",
              "</mark>\n",
              " \n",
              "<mark class=\"entity\" style=\"background: #ddd; padding: 0.45em 0.6em; margin: 0 0.25em; line-height: 1; border-radius: 0.35em;\">\n",
              "    stronger\n",
              "    <span style=\"font-size: 0.8em; font-weight: bold; line-height: 1; border-radius: 0.35em; vertical-align: middle; margin-left: 0.5rem\">ENTITY</span>\n",
              "</mark>\n",
              " \n",
              "<mark class=\"entity\" style=\"background: #ddd; padding: 0.45em 0.6em; margin: 0 0.25em; line-height: 1; border-radius: 0.35em;\">\n",
              "    weaker positive control win55\n",
              "    <span style=\"font-size: 0.8em; font-weight: bold; line-height: 1; border-radius: 0.35em; vertical-align: middle; margin-left: 0.5rem\">ENTITY</span>\n",
              "</mark>\n",
              " 2122</div></span>"
            ]
          },
          "metadata": {}
        },
        {
          "output_type": "stream",
          "name": "stdout",
          "text": [
            "{('baseline', 'ENTITY'),\n",
            " ('behavioral', 'ENTITY'),\n",
            " ('cannabimimetic', 'ENTITY'),\n",
            " ('change', 'ENTITY'),\n",
            " ('chart chart', 'ENTITY'),\n",
            " ('chart format', 'ENTITY'),\n",
            " ('data', 'ENTITY'),\n",
            " ('effect', 'ENTITY'),\n",
            " ('efficacy', 'ENTITY'),\n",
            " ('flick', 'ENTITY'),\n",
            " ('induce', 'ENTITY'),\n",
            " ('mouse', 'ENTITY'),\n",
            " ('peak effect tail', 'ENTITY'),\n",
            " ('stronger', 'ENTITY'),\n",
            " ('terpene', 'ENTITY'),\n",
            " ('terpene behavior', 'ENTITY'),\n",
            " ('tetrad behavior', 'ENTITY'),\n",
            " ('weaker positive control win55', 'ENTITY')}\n"
          ]
        },
        {
          "output_type": "execute_result",
          "data": {
            "text/plain": [
              "(None, None)"
            ]
          },
          "metadata": {},
          "execution_count": 18
        }
      ]
    },
    {
      "cell_type": "markdown",
      "source": [
        "terpene induce cannabimimetic tetrad behavior mouse behavioral analysis data represented radar chart format percent change baseline terpene behavior determined peak effect tail flick selected behavior single time point percent change normalized change 56mg win55 2122 chart chart demonstrates terpene induce tetrad behavior varying efficacy also vary whether effect stronger weaker positive control win55 2122"
      ],
      "metadata": {
        "id": "ktKlWcz86ZQe"
      }
    },
    {
      "cell_type": "code",
      "source": [
        "nlp = en_core_sci_sm.load()\n",
        "doc = nlp(text)\n",
        "displacy_image = displacy.render(doc, jupyter=True,style='ent')\n",
        "entity_and_label = pprint(set([(X.text, X.label_) for X in doc.ents]))\n",
        "displacy_image, entity_and_label"
      ],
      "metadata": {
        "colab": {
          "base_uri": "https://localhost:8080/",
          "height": 501
        },
        "id": "EiD39TT9HcAy",
        "outputId": "cbe665e2-f10f-4c37-bec6-c33a4b97af80"
      },
      "execution_count": null,
      "outputs": [
        {
          "output_type": "display_data",
          "data": {
            "text/plain": [
              "<IPython.core.display.HTML object>"
            ],
            "text/html": [
              "<span class=\"tex2jax_ignore\"><div class=\"entities\" style=\"line-height: 2.5; direction: ltr\">\n",
              "<mark class=\"entity\" style=\"background: #ddd; padding: 0.45em 0.6em; margin: 0 0.25em; line-height: 1; border-radius: 0.35em;\">\n",
              "    terpene\n",
              "    <span style=\"font-size: 0.8em; font-weight: bold; line-height: 1; border-radius: 0.35em; vertical-align: middle; margin-left: 0.5rem\">ENTITY</span>\n",
              "</mark>\n",
              " induce \n",
              "<mark class=\"entity\" style=\"background: #ddd; padding: 0.45em 0.6em; margin: 0 0.25em; line-height: 1; border-radius: 0.35em;\">\n",
              "    cannabimimetic\n",
              "    <span style=\"font-size: 0.8em; font-weight: bold; line-height: 1; border-radius: 0.35em; vertical-align: middle; margin-left: 0.5rem\">ENTITY</span>\n",
              "</mark>\n",
              " \n",
              "<mark class=\"entity\" style=\"background: #ddd; padding: 0.45em 0.6em; margin: 0 0.25em; line-height: 1; border-radius: 0.35em;\">\n",
              "    tetrad behavior\n",
              "    <span style=\"font-size: 0.8em; font-weight: bold; line-height: 1; border-radius: 0.35em; vertical-align: middle; margin-left: 0.5rem\">ENTITY</span>\n",
              "</mark>\n",
              " \n",
              "<mark class=\"entity\" style=\"background: #ddd; padding: 0.45em 0.6em; margin: 0 0.25em; line-height: 1; border-radius: 0.35em;\">\n",
              "    mouse\n",
              "    <span style=\"font-size: 0.8em; font-weight: bold; line-height: 1; border-radius: 0.35em; vertical-align: middle; margin-left: 0.5rem\">ENTITY</span>\n",
              "</mark>\n",
              " \n",
              "<mark class=\"entity\" style=\"background: #ddd; padding: 0.45em 0.6em; margin: 0 0.25em; line-height: 1; border-radius: 0.35em;\">\n",
              "    behavioral\n",
              "    <span style=\"font-size: 0.8em; font-weight: bold; line-height: 1; border-radius: 0.35em; vertical-align: middle; margin-left: 0.5rem\">ENTITY</span>\n",
              "</mark>\n",
              " analysis \n",
              "<mark class=\"entity\" style=\"background: #ddd; padding: 0.45em 0.6em; margin: 0 0.25em; line-height: 1; border-radius: 0.35em;\">\n",
              "    data\n",
              "    <span style=\"font-size: 0.8em; font-weight: bold; line-height: 1; border-radius: 0.35em; vertical-align: middle; margin-left: 0.5rem\">ENTITY</span>\n",
              "</mark>\n",
              " represented radar \n",
              "<mark class=\"entity\" style=\"background: #ddd; padding: 0.45em 0.6em; margin: 0 0.25em; line-height: 1; border-radius: 0.35em;\">\n",
              "    chart format\n",
              "    <span style=\"font-size: 0.8em; font-weight: bold; line-height: 1; border-radius: 0.35em; vertical-align: middle; margin-left: 0.5rem\">ENTITY</span>\n",
              "</mark>\n",
              " percent change \n",
              "<mark class=\"entity\" style=\"background: #ddd; padding: 0.45em 0.6em; margin: 0 0.25em; line-height: 1; border-radius: 0.35em;\">\n",
              "    baseline\n",
              "    <span style=\"font-size: 0.8em; font-weight: bold; line-height: 1; border-radius: 0.35em; vertical-align: middle; margin-left: 0.5rem\">ENTITY</span>\n",
              "</mark>\n",
              " \n",
              "<mark class=\"entity\" style=\"background: #ddd; padding: 0.45em 0.6em; margin: 0 0.25em; line-height: 1; border-radius: 0.35em;\">\n",
              "    terpene behavior\n",
              "    <span style=\"font-size: 0.8em; font-weight: bold; line-height: 1; border-radius: 0.35em; vertical-align: middle; margin-left: 0.5rem\">ENTITY</span>\n",
              "</mark>\n",
              " determined \n",
              "<mark class=\"entity\" style=\"background: #ddd; padding: 0.45em 0.6em; margin: 0 0.25em; line-height: 1; border-radius: 0.35em;\">\n",
              "    peak effect tail\n",
              "    <span style=\"font-size: 0.8em; font-weight: bold; line-height: 1; border-radius: 0.35em; vertical-align: middle; margin-left: 0.5rem\">ENTITY</span>\n",
              "</mark>\n",
              " \n",
              "<mark class=\"entity\" style=\"background: #ddd; padding: 0.45em 0.6em; margin: 0 0.25em; line-height: 1; border-radius: 0.35em;\">\n",
              "    flick\n",
              "    <span style=\"font-size: 0.8em; font-weight: bold; line-height: 1; border-radius: 0.35em; vertical-align: middle; margin-left: 0.5rem\">ENTITY</span>\n",
              "</mark>\n",
              " selected behavior single time point percent \n",
              "<mark class=\"entity\" style=\"background: #ddd; padding: 0.45em 0.6em; margin: 0 0.25em; line-height: 1; border-radius: 0.35em;\">\n",
              "    change\n",
              "    <span style=\"font-size: 0.8em; font-weight: bold; line-height: 1; border-radius: 0.35em; vertical-align: middle; margin-left: 0.5rem\">ENTITY</span>\n",
              "</mark>\n",
              " normalized \n",
              "<mark class=\"entity\" style=\"background: #ddd; padding: 0.45em 0.6em; margin: 0 0.25em; line-height: 1; border-radius: 0.35em;\">\n",
              "    change\n",
              "    <span style=\"font-size: 0.8em; font-weight: bold; line-height: 1; border-radius: 0.35em; vertical-align: middle; margin-left: 0.5rem\">ENTITY</span>\n",
              "</mark>\n",
              " 56mg win55 2122 \n",
              "<mark class=\"entity\" style=\"background: #ddd; padding: 0.45em 0.6em; margin: 0 0.25em; line-height: 1; border-radius: 0.35em;\">\n",
              "    chart chart\n",
              "    <span style=\"font-size: 0.8em; font-weight: bold; line-height: 1; border-radius: 0.35em; vertical-align: middle; margin-left: 0.5rem\">ENTITY</span>\n",
              "</mark>\n",
              " demonstrates \n",
              "<mark class=\"entity\" style=\"background: #ddd; padding: 0.45em 0.6em; margin: 0 0.25em; line-height: 1; border-radius: 0.35em;\">\n",
              "    terpene\n",
              "    <span style=\"font-size: 0.8em; font-weight: bold; line-height: 1; border-radius: 0.35em; vertical-align: middle; margin-left: 0.5rem\">ENTITY</span>\n",
              "</mark>\n",
              " \n",
              "<mark class=\"entity\" style=\"background: #ddd; padding: 0.45em 0.6em; margin: 0 0.25em; line-height: 1; border-radius: 0.35em;\">\n",
              "    induce\n",
              "    <span style=\"font-size: 0.8em; font-weight: bold; line-height: 1; border-radius: 0.35em; vertical-align: middle; margin-left: 0.5rem\">ENTITY</span>\n",
              "</mark>\n",
              " \n",
              "<mark class=\"entity\" style=\"background: #ddd; padding: 0.45em 0.6em; margin: 0 0.25em; line-height: 1; border-radius: 0.35em;\">\n",
              "    tetrad behavior\n",
              "    <span style=\"font-size: 0.8em; font-weight: bold; line-height: 1; border-radius: 0.35em; vertical-align: middle; margin-left: 0.5rem\">ENTITY</span>\n",
              "</mark>\n",
              " varying \n",
              "<mark class=\"entity\" style=\"background: #ddd; padding: 0.45em 0.6em; margin: 0 0.25em; line-height: 1; border-radius: 0.35em;\">\n",
              "    efficacy\n",
              "    <span style=\"font-size: 0.8em; font-weight: bold; line-height: 1; border-radius: 0.35em; vertical-align: middle; margin-left: 0.5rem\">ENTITY</span>\n",
              "</mark>\n",
              " also vary whether \n",
              "<mark class=\"entity\" style=\"background: #ddd; padding: 0.45em 0.6em; margin: 0 0.25em; line-height: 1; border-radius: 0.35em;\">\n",
              "    effect\n",
              "    <span style=\"font-size: 0.8em; font-weight: bold; line-height: 1; border-radius: 0.35em; vertical-align: middle; margin-left: 0.5rem\">ENTITY</span>\n",
              "</mark>\n",
              " \n",
              "<mark class=\"entity\" style=\"background: #ddd; padding: 0.45em 0.6em; margin: 0 0.25em; line-height: 1; border-radius: 0.35em;\">\n",
              "    stronger\n",
              "    <span style=\"font-size: 0.8em; font-weight: bold; line-height: 1; border-radius: 0.35em; vertical-align: middle; margin-left: 0.5rem\">ENTITY</span>\n",
              "</mark>\n",
              " \n",
              "<mark class=\"entity\" style=\"background: #ddd; padding: 0.45em 0.6em; margin: 0 0.25em; line-height: 1; border-radius: 0.35em;\">\n",
              "    weaker positive control win55\n",
              "    <span style=\"font-size: 0.8em; font-weight: bold; line-height: 1; border-radius: 0.35em; vertical-align: middle; margin-left: 0.5rem\">ENTITY</span>\n",
              "</mark>\n",
              " 2122</div></span>"
            ]
          },
          "metadata": {}
        },
        {
          "output_type": "stream",
          "name": "stdout",
          "text": [
            "{('baseline', 'ENTITY'),\n",
            " ('behavioral', 'ENTITY'),\n",
            " ('cannabimimetic', 'ENTITY'),\n",
            " ('change', 'ENTITY'),\n",
            " ('chart chart', 'ENTITY'),\n",
            " ('chart format', 'ENTITY'),\n",
            " ('data', 'ENTITY'),\n",
            " ('effect', 'ENTITY'),\n",
            " ('efficacy', 'ENTITY'),\n",
            " ('flick', 'ENTITY'),\n",
            " ('induce', 'ENTITY'),\n",
            " ('mouse', 'ENTITY'),\n",
            " ('peak effect tail', 'ENTITY'),\n",
            " ('stronger', 'ENTITY'),\n",
            " ('terpene', 'ENTITY'),\n",
            " ('terpene behavior', 'ENTITY'),\n",
            " ('tetrad behavior', 'ENTITY'),\n",
            " ('weaker positive control win55', 'ENTITY')}\n"
          ]
        },
        {
          "output_type": "execute_result",
          "data": {
            "text/plain": [
              "(None, None)"
            ]
          },
          "metadata": {},
          "execution_count": 15
        }
      ]
    },
    {
      "cell_type": "markdown",
      "source": [
        "#gene and organism"
      ],
      "metadata": {
        "id": "cZ76Ka5UJk_e"
      }
    },
    {
      "cell_type": "code",
      "source": [
        "!pip install https://s3-us-west-2.amazonaws.com/ai2-s2-scispacy/releases/v0.5.0/en_ner_bionlp13cg_md-0.5.0.tar.gz\n",
        "import en_ner_bionlp13cg_md\n",
        "nlp = en_ner_bionlp13cg_md.load()\n",
        "doc = nlp(text)\n",
        "displacy_image = displacy.render(doc, jupyter=True,style='ent')\n",
        "entity_and_label = pprint(set([(X.text, X.label_) for X in doc.ents]))\n",
        "displacy_image, entity_and_label"
      ],
      "metadata": {
        "colab": {
          "base_uri": "https://localhost:8080/",
          "height": 157
        },
        "id": "a8Xui1eqH0Sk",
        "outputId": "d9b6998c-3acd-4fc6-d516-7073f5e7d05a"
      },
      "execution_count": null,
      "outputs": [
        {
          "output_type": "display_data",
          "data": {
            "text/plain": [
              "<IPython.core.display.HTML object>"
            ],
            "text/html": [
              "<span class=\"tex2jax_ignore\"><div class=\"entities\" style=\"line-height: 2.5; direction: ltr\">terpene induce cannabimimetic tetrad behavior \n",
              "<mark class=\"entity\" style=\"background: #ddd; padding: 0.45em 0.6em; margin: 0 0.25em; line-height: 1; border-radius: 0.35em;\">\n",
              "    mouse\n",
              "    <span style=\"font-size: 0.8em; font-weight: bold; line-height: 1; border-radius: 0.35em; vertical-align: middle; margin-left: 0.5rem\">ORGANISM</span>\n",
              "</mark>\n",
              " behavioral analysis data represented radar chart format percent change baseline terpene behavior determined peak effect tail flick selected behavior single time point percent change normalized change 56mg \n",
              "<mark class=\"entity\" style=\"background: #ddd; padding: 0.45em 0.6em; margin: 0 0.25em; line-height: 1; border-radius: 0.35em;\">\n",
              "    win55\n",
              "    <span style=\"font-size: 0.8em; font-weight: bold; line-height: 1; border-radius: 0.35em; vertical-align: middle; margin-left: 0.5rem\">GENE_OR_GENE_PRODUCT</span>\n",
              "</mark>\n",
              " 2122 chart chart demonstrates terpene induce tetrad behavior varying efficacy also vary whether effect stronger weaker positive control \n",
              "<mark class=\"entity\" style=\"background: #ddd; padding: 0.45em 0.6em; margin: 0 0.25em; line-height: 1; border-radius: 0.35em;\">\n",
              "    win55\n",
              "    <span style=\"font-size: 0.8em; font-weight: bold; line-height: 1; border-radius: 0.35em; vertical-align: middle; margin-left: 0.5rem\">GENE_OR_GENE_PRODUCT</span>\n",
              "</mark>\n",
              " 2122</div></span>"
            ]
          },
          "metadata": {}
        },
        {
          "output_type": "stream",
          "name": "stdout",
          "text": [
            "{('mouse', 'ORGANISM'), ('win55', 'GENE_OR_GENE_PRODUCT')}\n"
          ]
        },
        {
          "output_type": "execute_result",
          "data": {
            "text/plain": [
              "(None, None)"
            ]
          },
          "metadata": {},
          "execution_count": 17
        }
      ]
    },
    {
      "cell_type": "markdown",
      "source": [
        ""
      ],
      "metadata": {
        "id": "nQFVz4LoIMxt"
      }
    },
    {
      "cell_type": "code",
      "source": [
        "!pip install https://s3-us-west-2.amazonaws.com/ai2-s2-scispacy/releases/v0.5.0/en_ner_bc5cdr_md-0.5.0.tar.gz\n",
        "import en_ner_bc5cdr_md\n",
        "# nlp = en_ner_bc5cdr_md.load()\n",
        "# doc = nlp(text)\n",
        "# displacy_image = displacy.render(doc, jupyter=True,style='ent')\n",
        "# entity_and_label = pprint(set([(X.text, X.label_) for X in doc.ents]))\n",
        "# displacy_image, entity_and_label"
      ],
      "metadata": {
        "colab": {
          "base_uri": "https://localhost:8080/"
        },
        "id": "ndjQtPm_INV1",
        "outputId": "a4fb2b4e-18f8-4d2a-c992-1a161618c6e1"
      },
      "execution_count": null,
      "outputs": [
        {
          "output_type": "stream",
          "name": "stdout",
          "text": [
            "Collecting https://s3-us-west-2.amazonaws.com/ai2-s2-scispacy/releases/v0.5.0/en_ner_bc5cdr_md-0.5.0.tar.gz\n",
            "  Downloading https://s3-us-west-2.amazonaws.com/ai2-s2-scispacy/releases/v0.5.0/en_ner_bc5cdr_md-0.5.0.tar.gz (120.2 MB)\n",
            "\u001b[K     |████████████████████████████████| 120.2 MB 59 kB/s \n",
            "\u001b[?25hCollecting spacy<3.3.0,>=3.2.3\n",
            "  Downloading spacy-3.2.3-cp37-cp37m-manylinux_2_17_x86_64.manylinux2014_x86_64.whl (6.0 MB)\n",
            "\u001b[K     |████████████████████████████████| 6.0 MB 4.3 MB/s \n",
            "\u001b[?25hCollecting spacy-loggers<2.0.0,>=1.0.0\n",
            "  Downloading spacy_loggers-1.0.1-py3-none-any.whl (7.0 kB)\n",
            "Collecting langcodes<4.0.0,>=3.2.0\n",
            "  Downloading langcodes-3.3.0-py3-none-any.whl (181 kB)\n",
            "\u001b[K     |████████████████████████████████| 181 kB 69.5 MB/s \n",
            "\u001b[?25hRequirement already satisfied: wasabi<1.1.0,>=0.8.1 in /usr/local/lib/python3.7/dist-packages (from spacy<3.3.0,>=3.2.3->en-ner-bc5cdr-md==0.5.0) (0.9.0)\n",
            "Requirement already satisfied: packaging>=20.0 in /usr/local/lib/python3.7/dist-packages (from spacy<3.3.0,>=3.2.3->en-ner-bc5cdr-md==0.5.0) (21.3)\n",
            "Collecting pydantic!=1.8,!=1.8.1,<1.9.0,>=1.7.4\n",
            "  Downloading pydantic-1.8.2-cp37-cp37m-manylinux2014_x86_64.whl (10.1 MB)\n",
            "\u001b[K     |████████████████████████████████| 10.1 MB 44.8 MB/s \n",
            "\u001b[?25hRequirement already satisfied: preshed<3.1.0,>=3.0.2 in /usr/local/lib/python3.7/dist-packages (from spacy<3.3.0,>=3.2.3->en-ner-bc5cdr-md==0.5.0) (3.0.6)\n",
            "Collecting catalogue<2.1.0,>=2.0.6\n",
            "  Downloading catalogue-2.0.6-py3-none-any.whl (17 kB)\n",
            "Requirement already satisfied: blis<0.8.0,>=0.4.0 in /usr/local/lib/python3.7/dist-packages (from spacy<3.3.0,>=3.2.3->en-ner-bc5cdr-md==0.5.0) (0.4.1)\n",
            "Requirement already satisfied: numpy>=1.15.0 in /usr/local/lib/python3.7/dist-packages (from spacy<3.3.0,>=3.2.3->en-ner-bc5cdr-md==0.5.0) (1.21.5)\n",
            "Collecting thinc<8.1.0,>=8.0.12\n",
            "  Downloading thinc-8.0.15-cp37-cp37m-manylinux_2_17_x86_64.manylinux2014_x86_64.whl (653 kB)\n",
            "\u001b[K     |████████████████████████████████| 653 kB 29.3 MB/s \n",
            "\u001b[?25hRequirement already satisfied: murmurhash<1.1.0,>=0.28.0 in /usr/local/lib/python3.7/dist-packages (from spacy<3.3.0,>=3.2.3->en-ner-bc5cdr-md==0.5.0) (1.0.6)\n",
            "Collecting spacy-legacy<3.1.0,>=3.0.8\n",
            "  Downloading spacy_legacy-3.0.9-py2.py3-none-any.whl (20 kB)\n",
            "Requirement already satisfied: requests<3.0.0,>=2.13.0 in /usr/local/lib/python3.7/dist-packages (from spacy<3.3.0,>=3.2.3->en-ner-bc5cdr-md==0.5.0) (2.23.0)\n",
            "Collecting typer<0.5.0,>=0.3.0\n",
            "  Downloading typer-0.4.0-py3-none-any.whl (27 kB)\n",
            "Requirement already satisfied: cymem<2.1.0,>=2.0.2 in /usr/local/lib/python3.7/dist-packages (from spacy<3.3.0,>=3.2.3->en-ner-bc5cdr-md==0.5.0) (2.0.6)\n",
            "Requirement already satisfied: setuptools in /usr/local/lib/python3.7/dist-packages (from spacy<3.3.0,>=3.2.3->en-ner-bc5cdr-md==0.5.0) (57.4.0)\n",
            "Requirement already satisfied: jinja2 in /usr/local/lib/python3.7/dist-packages (from spacy<3.3.0,>=3.2.3->en-ner-bc5cdr-md==0.5.0) (2.11.3)\n",
            "Requirement already satisfied: tqdm<5.0.0,>=4.38.0 in /usr/local/lib/python3.7/dist-packages (from spacy<3.3.0,>=3.2.3->en-ner-bc5cdr-md==0.5.0) (4.63.0)\n",
            "Requirement already satisfied: typing-extensions<4.0.0.0,>=3.7.4 in /usr/local/lib/python3.7/dist-packages (from spacy<3.3.0,>=3.2.3->en-ner-bc5cdr-md==0.5.0) (3.10.0.2)\n",
            "Collecting srsly<3.0.0,>=2.4.1\n",
            "  Downloading srsly-2.4.2-cp37-cp37m-manylinux_2_17_x86_64.manylinux2014_x86_64.whl (451 kB)\n",
            "\u001b[K     |████████████████████████████████| 451 kB 57.7 MB/s \n",
            "\u001b[?25hCollecting pathy>=0.3.5\n",
            "  Downloading pathy-0.6.1-py3-none-any.whl (42 kB)\n",
            "\u001b[K     |████████████████████████████████| 42 kB 999 kB/s \n",
            "\u001b[?25hRequirement already satisfied: zipp>=0.5 in /usr/local/lib/python3.7/dist-packages (from catalogue<2.1.0,>=2.0.6->spacy<3.3.0,>=3.2.3->en-ner-bc5cdr-md==0.5.0) (3.7.0)\n",
            "Requirement already satisfied: pyparsing!=3.0.5,>=2.0.2 in /usr/local/lib/python3.7/dist-packages (from packaging>=20.0->spacy<3.3.0,>=3.2.3->en-ner-bc5cdr-md==0.5.0) (3.0.7)\n",
            "Requirement already satisfied: smart-open<6.0.0,>=5.0.0 in /usr/local/lib/python3.7/dist-packages (from pathy>=0.3.5->spacy<3.3.0,>=3.2.3->en-ner-bc5cdr-md==0.5.0) (5.2.1)\n",
            "Requirement already satisfied: certifi>=2017.4.17 in /usr/local/lib/python3.7/dist-packages (from requests<3.0.0,>=2.13.0->spacy<3.3.0,>=3.2.3->en-ner-bc5cdr-md==0.5.0) (2021.10.8)\n",
            "Requirement already satisfied: urllib3!=1.25.0,!=1.25.1,<1.26,>=1.21.1 in /usr/local/lib/python3.7/dist-packages (from requests<3.0.0,>=2.13.0->spacy<3.3.0,>=3.2.3->en-ner-bc5cdr-md==0.5.0) (1.24.3)\n",
            "Requirement already satisfied: chardet<4,>=3.0.2 in /usr/local/lib/python3.7/dist-packages (from requests<3.0.0,>=2.13.0->spacy<3.3.0,>=3.2.3->en-ner-bc5cdr-md==0.5.0) (3.0.4)\n",
            "Requirement already satisfied: idna<3,>=2.5 in /usr/local/lib/python3.7/dist-packages (from requests<3.0.0,>=2.13.0->spacy<3.3.0,>=3.2.3->en-ner-bc5cdr-md==0.5.0) (2.10)\n",
            "Requirement already satisfied: click<9.0.0,>=7.1.1 in /usr/local/lib/python3.7/dist-packages (from typer<0.5.0,>=0.3.0->spacy<3.3.0,>=3.2.3->en-ner-bc5cdr-md==0.5.0) (7.1.2)\n",
            "Requirement already satisfied: MarkupSafe>=0.23 in /usr/local/lib/python3.7/dist-packages (from jinja2->spacy<3.3.0,>=3.2.3->en-ner-bc5cdr-md==0.5.0) (2.0.1)\n",
            "Building wheels for collected packages: en-ner-bc5cdr-md\n",
            "  Building wheel for en-ner-bc5cdr-md (setup.py) ... \u001b[?25l\u001b[?25hdone\n",
            "  Created wheel for en-ner-bc5cdr-md: filename=en_ner_bc5cdr_md-0.5.0-py3-none-any.whl size=120215853 sha256=096d3b5d0651bbe8ee244fba311b05ff65391ac1ebc96ea726786d43ad567604\n",
            "  Stored in directory: /root/.cache/pip/wheels/34/f2/2e/aa822e510c493b90ab8f7555c48084f946c57121f12a484677\n",
            "Successfully built en-ner-bc5cdr-md\n",
            "Installing collected packages: catalogue, typer, srsly, pydantic, thinc, spacy-loggers, spacy-legacy, pathy, langcodes, spacy, en-ner-bc5cdr-md\n",
            "  Attempting uninstall: catalogue\n",
            "    Found existing installation: catalogue 1.0.0\n",
            "    Uninstalling catalogue-1.0.0:\n",
            "      Successfully uninstalled catalogue-1.0.0\n",
            "  Attempting uninstall: srsly\n",
            "    Found existing installation: srsly 1.0.5\n",
            "    Uninstalling srsly-1.0.5:\n",
            "      Successfully uninstalled srsly-1.0.5\n",
            "  Attempting uninstall: thinc\n",
            "    Found existing installation: thinc 7.4.0\n",
            "    Uninstalling thinc-7.4.0:\n",
            "      Successfully uninstalled thinc-7.4.0\n",
            "  Attempting uninstall: spacy\n",
            "    Found existing installation: spacy 2.2.4\n",
            "    Uninstalling spacy-2.2.4:\n",
            "      Successfully uninstalled spacy-2.2.4\n",
            "Successfully installed catalogue-2.0.6 en-ner-bc5cdr-md-0.5.0 langcodes-3.3.0 pathy-0.6.1 pydantic-1.8.2 spacy-3.2.3 spacy-legacy-3.0.9 spacy-loggers-1.0.1 srsly-2.4.2 thinc-8.0.15 typer-0.4.0\n"
          ]
        }
      ]
    },
    {
      "cell_type": "code",
      "source": [
        "#!pip install https://s3-us-west-2.amazonaws.com/ai2-s2-scispacy/releases/v0.5.0/en_ner_jnlpba_md-0.5.0.tar.gz\n",
        "import en_ner_jnlpba_md\n",
        "nlp = en_ner_bc5cdr_md.load()\n",
        "doc = nlp(text)\n",
        "displacy_image = displacy.render(doc, jupyter=True,style='ent')\n",
        "entity_and_label = pprint(set([(X.text, X.label_) for X in doc.ents]))\n",
        "displacy_image, entity_and_label"
      ],
      "metadata": {
        "colab": {
          "base_uri": "https://localhost:8080/",
          "height": 923
        },
        "id": "QAD7OjBOIWsa",
        "outputId": "ba9e9711-79a4-481d-c1b1-4908adcf3aa0"
      },
      "execution_count": null,
      "outputs": [
        {
          "output_type": "stream",
          "name": "stdout",
          "text": [
            "Collecting https://s3-us-west-2.amazonaws.com/ai2-s2-scispacy/releases/v0.5.0/en_ner_jnlpba_md-0.5.0.tar.gz\n",
            "  Downloading https://s3-us-west-2.amazonaws.com/ai2-s2-scispacy/releases/v0.5.0/en_ner_jnlpba_md-0.5.0.tar.gz (120.2 MB)\n",
            "\u001b[K     |████████████████████████████████| 120.2 MB 30 kB/s \n",
            "\u001b[?25hRequirement already satisfied: spacy<3.3.0,>=3.2.3 in /usr/local/lib/python3.7/dist-packages (from en-ner-jnlpba-md==0.5.0) (3.2.3)\n",
            "Requirement already satisfied: blis<0.8.0,>=0.4.0 in /usr/local/lib/python3.7/dist-packages (from spacy<3.3.0,>=3.2.3->en-ner-jnlpba-md==0.5.0) (0.4.1)\n",
            "Requirement already satisfied: langcodes<4.0.0,>=3.2.0 in /usr/local/lib/python3.7/dist-packages (from spacy<3.3.0,>=3.2.3->en-ner-jnlpba-md==0.5.0) (3.3.0)\n",
            "Requirement already satisfied: spacy-legacy<3.1.0,>=3.0.8 in /usr/local/lib/python3.7/dist-packages (from spacy<3.3.0,>=3.2.3->en-ner-jnlpba-md==0.5.0) (3.0.9)\n",
            "Requirement already satisfied: numpy>=1.15.0 in /usr/local/lib/python3.7/dist-packages (from spacy<3.3.0,>=3.2.3->en-ner-jnlpba-md==0.5.0) (1.21.5)\n",
            "Requirement already satisfied: wasabi<1.1.0,>=0.8.1 in /usr/local/lib/python3.7/dist-packages (from spacy<3.3.0,>=3.2.3->en-ner-jnlpba-md==0.5.0) (0.9.0)\n",
            "Requirement already satisfied: pydantic!=1.8,!=1.8.1,<1.9.0,>=1.7.4 in /usr/local/lib/python3.7/dist-packages (from spacy<3.3.0,>=3.2.3->en-ner-jnlpba-md==0.5.0) (1.8.2)\n",
            "Requirement already satisfied: typing-extensions<4.0.0.0,>=3.7.4 in /usr/local/lib/python3.7/dist-packages (from spacy<3.3.0,>=3.2.3->en-ner-jnlpba-md==0.5.0) (3.10.0.2)\n",
            "Requirement already satisfied: requests<3.0.0,>=2.13.0 in /usr/local/lib/python3.7/dist-packages (from spacy<3.3.0,>=3.2.3->en-ner-jnlpba-md==0.5.0) (2.23.0)\n",
            "Requirement already satisfied: preshed<3.1.0,>=3.0.2 in /usr/local/lib/python3.7/dist-packages (from spacy<3.3.0,>=3.2.3->en-ner-jnlpba-md==0.5.0) (3.0.6)\n",
            "Requirement already satisfied: catalogue<2.1.0,>=2.0.6 in /usr/local/lib/python3.7/dist-packages (from spacy<3.3.0,>=3.2.3->en-ner-jnlpba-md==0.5.0) (2.0.6)\n",
            "Requirement already satisfied: jinja2 in /usr/local/lib/python3.7/dist-packages (from spacy<3.3.0,>=3.2.3->en-ner-jnlpba-md==0.5.0) (2.11.3)\n",
            "Requirement already satisfied: spacy-loggers<2.0.0,>=1.0.0 in /usr/local/lib/python3.7/dist-packages (from spacy<3.3.0,>=3.2.3->en-ner-jnlpba-md==0.5.0) (1.0.1)\n",
            "Requirement already satisfied: packaging>=20.0 in /usr/local/lib/python3.7/dist-packages (from spacy<3.3.0,>=3.2.3->en-ner-jnlpba-md==0.5.0) (21.3)\n",
            "Requirement already satisfied: typer<0.5.0,>=0.3.0 in /usr/local/lib/python3.7/dist-packages (from spacy<3.3.0,>=3.2.3->en-ner-jnlpba-md==0.5.0) (0.4.0)\n",
            "Requirement already satisfied: murmurhash<1.1.0,>=0.28.0 in /usr/local/lib/python3.7/dist-packages (from spacy<3.3.0,>=3.2.3->en-ner-jnlpba-md==0.5.0) (1.0.6)\n",
            "Requirement already satisfied: tqdm<5.0.0,>=4.38.0 in /usr/local/lib/python3.7/dist-packages (from spacy<3.3.0,>=3.2.3->en-ner-jnlpba-md==0.5.0) (4.63.0)\n",
            "Requirement already satisfied: cymem<2.1.0,>=2.0.2 in /usr/local/lib/python3.7/dist-packages (from spacy<3.3.0,>=3.2.3->en-ner-jnlpba-md==0.5.0) (2.0.6)\n",
            "Requirement already satisfied: setuptools in /usr/local/lib/python3.7/dist-packages (from spacy<3.3.0,>=3.2.3->en-ner-jnlpba-md==0.5.0) (57.4.0)\n",
            "Requirement already satisfied: srsly<3.0.0,>=2.4.1 in /usr/local/lib/python3.7/dist-packages (from spacy<3.3.0,>=3.2.3->en-ner-jnlpba-md==0.5.0) (2.4.2)\n",
            "Requirement already satisfied: thinc<8.1.0,>=8.0.12 in /usr/local/lib/python3.7/dist-packages (from spacy<3.3.0,>=3.2.3->en-ner-jnlpba-md==0.5.0) (8.0.15)\n",
            "Requirement already satisfied: pathy>=0.3.5 in /usr/local/lib/python3.7/dist-packages (from spacy<3.3.0,>=3.2.3->en-ner-jnlpba-md==0.5.0) (0.6.1)\n",
            "Requirement already satisfied: zipp>=0.5 in /usr/local/lib/python3.7/dist-packages (from catalogue<2.1.0,>=2.0.6->spacy<3.3.0,>=3.2.3->en-ner-jnlpba-md==0.5.0) (3.7.0)\n",
            "Requirement already satisfied: pyparsing!=3.0.5,>=2.0.2 in /usr/local/lib/python3.7/dist-packages (from packaging>=20.0->spacy<3.3.0,>=3.2.3->en-ner-jnlpba-md==0.5.0) (3.0.7)\n",
            "Requirement already satisfied: smart-open<6.0.0,>=5.0.0 in /usr/local/lib/python3.7/dist-packages (from pathy>=0.3.5->spacy<3.3.0,>=3.2.3->en-ner-jnlpba-md==0.5.0) (5.2.1)\n",
            "Requirement already satisfied: urllib3!=1.25.0,!=1.25.1,<1.26,>=1.21.1 in /usr/local/lib/python3.7/dist-packages (from requests<3.0.0,>=2.13.0->spacy<3.3.0,>=3.2.3->en-ner-jnlpba-md==0.5.0) (1.24.3)\n",
            "Requirement already satisfied: idna<3,>=2.5 in /usr/local/lib/python3.7/dist-packages (from requests<3.0.0,>=2.13.0->spacy<3.3.0,>=3.2.3->en-ner-jnlpba-md==0.5.0) (2.10)\n",
            "Requirement already satisfied: certifi>=2017.4.17 in /usr/local/lib/python3.7/dist-packages (from requests<3.0.0,>=2.13.0->spacy<3.3.0,>=3.2.3->en-ner-jnlpba-md==0.5.0) (2021.10.8)\n",
            "Requirement already satisfied: chardet<4,>=3.0.2 in /usr/local/lib/python3.7/dist-packages (from requests<3.0.0,>=2.13.0->spacy<3.3.0,>=3.2.3->en-ner-jnlpba-md==0.5.0) (3.0.4)\n",
            "Requirement already satisfied: click<9.0.0,>=7.1.1 in /usr/local/lib/python3.7/dist-packages (from typer<0.5.0,>=0.3.0->spacy<3.3.0,>=3.2.3->en-ner-jnlpba-md==0.5.0) (7.1.2)\n",
            "Requirement already satisfied: MarkupSafe>=0.23 in /usr/local/lib/python3.7/dist-packages (from jinja2->spacy<3.3.0,>=3.2.3->en-ner-jnlpba-md==0.5.0) (2.0.1)\n",
            "Building wheels for collected packages: en-ner-jnlpba-md\n",
            "  Building wheel for en-ner-jnlpba-md (setup.py) ... \u001b[?25l\u001b[?25hdone\n",
            "  Created wheel for en-ner-jnlpba-md: filename=en_ner_jnlpba_md-0.5.0-py3-none-any.whl size=120238325 sha256=b4bcc709fd39cfc776de9985ce51fc4913335795f8e6ae54016cef0f58605cf8\n",
            "  Stored in directory: /root/.cache/pip/wheels/b2/29/71/fa627302b5a4453dc265ba1897cc8903ef1558f8498171232a\n",
            "Successfully built en-ner-jnlpba-md\n",
            "Installing collected packages: en-ner-jnlpba-md\n",
            "Successfully installed en-ner-jnlpba-md-0.5.0\n"
          ]
        },
        {
          "output_type": "display_data",
          "data": {
            "text/plain": [
              "<IPython.core.display.HTML object>"
            ],
            "text/html": [
              "<span class=\"tex2jax_ignore\"><div class=\"entities\" style=\"line-height: 2.5; direction: ltr\">\n",
              "<mark class=\"entity\" style=\"background: #ddd; padding: 0.45em 0.6em; margin: 0 0.25em; line-height: 1; border-radius: 0.35em;\">\n",
              "    terpene\n",
              "    <span style=\"font-size: 0.8em; font-weight: bold; line-height: 1; border-radius: 0.35em; vertical-align: middle; margin-left: 0.5rem\">CHEMICAL</span>\n",
              "</mark>\n",
              " induce cannabimimetic tetrad behavior mouse behavioral analysis data represented radar chart format percent change baseline \n",
              "<mark class=\"entity\" style=\"background: #ddd; padding: 0.45em 0.6em; margin: 0 0.25em; line-height: 1; border-radius: 0.35em;\">\n",
              "    terpene\n",
              "    <span style=\"font-size: 0.8em; font-weight: bold; line-height: 1; border-radius: 0.35em; vertical-align: middle; margin-left: 0.5rem\">CHEMICAL</span>\n",
              "</mark>\n",
              " behavior determined peak effect tail flick selected behavior single time point percent change normalized change 56mg \n",
              "<mark class=\"entity\" style=\"background: #ddd; padding: 0.45em 0.6em; margin: 0 0.25em; line-height: 1; border-radius: 0.35em;\">\n",
              "    win55 2122\n",
              "    <span style=\"font-size: 0.8em; font-weight: bold; line-height: 1; border-radius: 0.35em; vertical-align: middle; margin-left: 0.5rem\">CHEMICAL</span>\n",
              "</mark>\n",
              " chart chart demonstrates \n",
              "<mark class=\"entity\" style=\"background: #ddd; padding: 0.45em 0.6em; margin: 0 0.25em; line-height: 1; border-radius: 0.35em;\">\n",
              "    terpene\n",
              "    <span style=\"font-size: 0.8em; font-weight: bold; line-height: 1; border-radius: 0.35em; vertical-align: middle; margin-left: 0.5rem\">CHEMICAL</span>\n",
              "</mark>\n",
              " induce tetrad behavior varying efficacy also vary whether effect stronger weaker positive control \n",
              "<mark class=\"entity\" style=\"background: #ddd; padding: 0.45em 0.6em; margin: 0 0.25em; line-height: 1; border-radius: 0.35em;\">\n",
              "    win55 2122\n",
              "    <span style=\"font-size: 0.8em; font-weight: bold; line-height: 1; border-radius: 0.35em; vertical-align: middle; margin-left: 0.5rem\">CHEMICAL</span>\n",
              "</mark>\n",
              "</div></span>"
            ]
          },
          "metadata": {}
        },
        {
          "output_type": "stream",
          "name": "stdout",
          "text": [
            "{('win55 2122', 'CHEMICAL'), ('terpene', 'CHEMICAL')}\n"
          ]
        },
        {
          "output_type": "execute_result",
          "data": {
            "text/plain": [
              "(None, None)"
            ]
          },
          "metadata": {},
          "execution_count": 19
        }
      ]
    },
    {
      "cell_type": "code",
      "source": [
        "!pip install https://s3-us-west-2.amazonaws.com/ai2-s2-scispacy/releases/v0.5.0/en_ner_craft_md-0.5.0.tar.gz\n",
        "import en_ner_craft_md\n",
        "nlp = en_ner_bc5cdr_md.load()\n",
        "doc = nlp(text)\n",
        "displacy_image = displacy.render(doc, jupyter=True,style='ent')\n",
        "entity_and_label = pprint(set([(X.text, X.label_) for X in doc.ents]))\n",
        "displacy_image, entity_and_label"
      ],
      "metadata": {
        "colab": {
          "base_uri": "https://localhost:8080/",
          "height": 923
        },
        "id": "n1fvUnw2IwBW",
        "outputId": "91f0eba1-45e9-49b9-d428-e892a94b8cf7"
      },
      "execution_count": null,
      "outputs": [
        {
          "output_type": "stream",
          "name": "stdout",
          "text": [
            "Collecting https://s3-us-west-2.amazonaws.com/ai2-s2-scispacy/releases/v0.5.0/en_ner_craft_md-0.5.0.tar.gz\n",
            "  Downloading https://s3-us-west-2.amazonaws.com/ai2-s2-scispacy/releases/v0.5.0/en_ner_craft_md-0.5.0.tar.gz (120.2 MB)\n",
            "\u001b[K     |████████████████████████████████| 120.2 MB 1.3 MB/s \n",
            "\u001b[?25hRequirement already satisfied: spacy<3.3.0,>=3.2.3 in /usr/local/lib/python3.7/dist-packages (from en-ner-craft-md==0.5.0) (3.2.3)\n",
            "Requirement already satisfied: cymem<2.1.0,>=2.0.2 in /usr/local/lib/python3.7/dist-packages (from spacy<3.3.0,>=3.2.3->en-ner-craft-md==0.5.0) (2.0.6)\n",
            "Requirement already satisfied: pydantic!=1.8,!=1.8.1,<1.9.0,>=1.7.4 in /usr/local/lib/python3.7/dist-packages (from spacy<3.3.0,>=3.2.3->en-ner-craft-md==0.5.0) (1.8.2)\n",
            "Requirement already satisfied: jinja2 in /usr/local/lib/python3.7/dist-packages (from spacy<3.3.0,>=3.2.3->en-ner-craft-md==0.5.0) (2.11.3)\n",
            "Requirement already satisfied: typing-extensions<4.0.0.0,>=3.7.4 in /usr/local/lib/python3.7/dist-packages (from spacy<3.3.0,>=3.2.3->en-ner-craft-md==0.5.0) (3.10.0.2)\n",
            "Requirement already satisfied: catalogue<2.1.0,>=2.0.6 in /usr/local/lib/python3.7/dist-packages (from spacy<3.3.0,>=3.2.3->en-ner-craft-md==0.5.0) (2.0.6)\n",
            "Requirement already satisfied: murmurhash<1.1.0,>=0.28.0 in /usr/local/lib/python3.7/dist-packages (from spacy<3.3.0,>=3.2.3->en-ner-craft-md==0.5.0) (1.0.6)\n",
            "Requirement already satisfied: setuptools in /usr/local/lib/python3.7/dist-packages (from spacy<3.3.0,>=3.2.3->en-ner-craft-md==0.5.0) (57.4.0)\n",
            "Requirement already satisfied: tqdm<5.0.0,>=4.38.0 in /usr/local/lib/python3.7/dist-packages (from spacy<3.3.0,>=3.2.3->en-ner-craft-md==0.5.0) (4.63.0)\n",
            "Requirement already satisfied: preshed<3.1.0,>=3.0.2 in /usr/local/lib/python3.7/dist-packages (from spacy<3.3.0,>=3.2.3->en-ner-craft-md==0.5.0) (3.0.6)\n",
            "Requirement already satisfied: typer<0.5.0,>=0.3.0 in /usr/local/lib/python3.7/dist-packages (from spacy<3.3.0,>=3.2.3->en-ner-craft-md==0.5.0) (0.4.0)\n",
            "Requirement already satisfied: spacy-legacy<3.1.0,>=3.0.8 in /usr/local/lib/python3.7/dist-packages (from spacy<3.3.0,>=3.2.3->en-ner-craft-md==0.5.0) (3.0.9)\n",
            "Requirement already satisfied: blis<0.8.0,>=0.4.0 in /usr/local/lib/python3.7/dist-packages (from spacy<3.3.0,>=3.2.3->en-ner-craft-md==0.5.0) (0.4.1)\n",
            "Requirement already satisfied: requests<3.0.0,>=2.13.0 in /usr/local/lib/python3.7/dist-packages (from spacy<3.3.0,>=3.2.3->en-ner-craft-md==0.5.0) (2.23.0)\n",
            "Requirement already satisfied: langcodes<4.0.0,>=3.2.0 in /usr/local/lib/python3.7/dist-packages (from spacy<3.3.0,>=3.2.3->en-ner-craft-md==0.5.0) (3.3.0)\n",
            "Requirement already satisfied: thinc<8.1.0,>=8.0.12 in /usr/local/lib/python3.7/dist-packages (from spacy<3.3.0,>=3.2.3->en-ner-craft-md==0.5.0) (8.0.15)\n",
            "Requirement already satisfied: srsly<3.0.0,>=2.4.1 in /usr/local/lib/python3.7/dist-packages (from spacy<3.3.0,>=3.2.3->en-ner-craft-md==0.5.0) (2.4.2)\n",
            "Requirement already satisfied: spacy-loggers<2.0.0,>=1.0.0 in /usr/local/lib/python3.7/dist-packages (from spacy<3.3.0,>=3.2.3->en-ner-craft-md==0.5.0) (1.0.1)\n",
            "Requirement already satisfied: wasabi<1.1.0,>=0.8.1 in /usr/local/lib/python3.7/dist-packages (from spacy<3.3.0,>=3.2.3->en-ner-craft-md==0.5.0) (0.9.0)\n",
            "Requirement already satisfied: numpy>=1.15.0 in /usr/local/lib/python3.7/dist-packages (from spacy<3.3.0,>=3.2.3->en-ner-craft-md==0.5.0) (1.21.5)\n",
            "Requirement already satisfied: pathy>=0.3.5 in /usr/local/lib/python3.7/dist-packages (from spacy<3.3.0,>=3.2.3->en-ner-craft-md==0.5.0) (0.6.1)\n",
            "Requirement already satisfied: packaging>=20.0 in /usr/local/lib/python3.7/dist-packages (from spacy<3.3.0,>=3.2.3->en-ner-craft-md==0.5.0) (21.3)\n",
            "Requirement already satisfied: zipp>=0.5 in /usr/local/lib/python3.7/dist-packages (from catalogue<2.1.0,>=2.0.6->spacy<3.3.0,>=3.2.3->en-ner-craft-md==0.5.0) (3.7.0)\n",
            "Requirement already satisfied: pyparsing!=3.0.5,>=2.0.2 in /usr/local/lib/python3.7/dist-packages (from packaging>=20.0->spacy<3.3.0,>=3.2.3->en-ner-craft-md==0.5.0) (3.0.7)\n",
            "Requirement already satisfied: smart-open<6.0.0,>=5.0.0 in /usr/local/lib/python3.7/dist-packages (from pathy>=0.3.5->spacy<3.3.0,>=3.2.3->en-ner-craft-md==0.5.0) (5.2.1)\n",
            "Requirement already satisfied: urllib3!=1.25.0,!=1.25.1,<1.26,>=1.21.1 in /usr/local/lib/python3.7/dist-packages (from requests<3.0.0,>=2.13.0->spacy<3.3.0,>=3.2.3->en-ner-craft-md==0.5.0) (1.24.3)\n",
            "Requirement already satisfied: chardet<4,>=3.0.2 in /usr/local/lib/python3.7/dist-packages (from requests<3.0.0,>=2.13.0->spacy<3.3.0,>=3.2.3->en-ner-craft-md==0.5.0) (3.0.4)\n",
            "Requirement already satisfied: certifi>=2017.4.17 in /usr/local/lib/python3.7/dist-packages (from requests<3.0.0,>=2.13.0->spacy<3.3.0,>=3.2.3->en-ner-craft-md==0.5.0) (2021.10.8)\n",
            "Requirement already satisfied: idna<3,>=2.5 in /usr/local/lib/python3.7/dist-packages (from requests<3.0.0,>=2.13.0->spacy<3.3.0,>=3.2.3->en-ner-craft-md==0.5.0) (2.10)\n",
            "Requirement already satisfied: click<9.0.0,>=7.1.1 in /usr/local/lib/python3.7/dist-packages (from typer<0.5.0,>=0.3.0->spacy<3.3.0,>=3.2.3->en-ner-craft-md==0.5.0) (7.1.2)\n",
            "Requirement already satisfied: MarkupSafe>=0.23 in /usr/local/lib/python3.7/dist-packages (from jinja2->spacy<3.3.0,>=3.2.3->en-ner-craft-md==0.5.0) (2.0.1)\n",
            "Building wheels for collected packages: en-ner-craft-md\n",
            "  Building wheel for en-ner-craft-md (setup.py) ... \u001b[?25l\u001b[?25hdone\n",
            "  Created wheel for en-ner-craft-md: filename=en_ner_craft_md-0.5.0-py3-none-any.whl size=120237065 sha256=20f71acfd4cc47dc59b3082e11bdc52e91dcb5c82f18b92d17a35d1a9476bea5\n",
            "  Stored in directory: /root/.cache/pip/wheels/7b/51/37/16ea575f3400da8f0340109e0b89e43935c8d9e47f927fa411\n",
            "Successfully built en-ner-craft-md\n",
            "Installing collected packages: en-ner-craft-md\n",
            "Successfully installed en-ner-craft-md-0.5.0\n"
          ]
        },
        {
          "output_type": "display_data",
          "data": {
            "text/plain": [
              "<IPython.core.display.HTML object>"
            ],
            "text/html": [
              "<span class=\"tex2jax_ignore\"><div class=\"entities\" style=\"line-height: 2.5; direction: ltr\">\n",
              "<mark class=\"entity\" style=\"background: #ddd; padding: 0.45em 0.6em; margin: 0 0.25em; line-height: 1; border-radius: 0.35em;\">\n",
              "    terpene\n",
              "    <span style=\"font-size: 0.8em; font-weight: bold; line-height: 1; border-radius: 0.35em; vertical-align: middle; margin-left: 0.5rem\">CHEMICAL</span>\n",
              "</mark>\n",
              " induce cannabimimetic tetrad behavior mouse behavioral analysis data represented radar chart format percent change baseline \n",
              "<mark class=\"entity\" style=\"background: #ddd; padding: 0.45em 0.6em; margin: 0 0.25em; line-height: 1; border-radius: 0.35em;\">\n",
              "    terpene\n",
              "    <span style=\"font-size: 0.8em; font-weight: bold; line-height: 1; border-radius: 0.35em; vertical-align: middle; margin-left: 0.5rem\">CHEMICAL</span>\n",
              "</mark>\n",
              " behavior determined peak effect tail flick selected behavior single time point percent change normalized change 56mg \n",
              "<mark class=\"entity\" style=\"background: #ddd; padding: 0.45em 0.6em; margin: 0 0.25em; line-height: 1; border-radius: 0.35em;\">\n",
              "    win55 2122\n",
              "    <span style=\"font-size: 0.8em; font-weight: bold; line-height: 1; border-radius: 0.35em; vertical-align: middle; margin-left: 0.5rem\">CHEMICAL</span>\n",
              "</mark>\n",
              " chart chart demonstrates \n",
              "<mark class=\"entity\" style=\"background: #ddd; padding: 0.45em 0.6em; margin: 0 0.25em; line-height: 1; border-radius: 0.35em;\">\n",
              "    terpene\n",
              "    <span style=\"font-size: 0.8em; font-weight: bold; line-height: 1; border-radius: 0.35em; vertical-align: middle; margin-left: 0.5rem\">CHEMICAL</span>\n",
              "</mark>\n",
              " induce tetrad behavior varying efficacy also vary whether effect stronger weaker positive control \n",
              "<mark class=\"entity\" style=\"background: #ddd; padding: 0.45em 0.6em; margin: 0 0.25em; line-height: 1; border-radius: 0.35em;\">\n",
              "    win55 2122\n",
              "    <span style=\"font-size: 0.8em; font-weight: bold; line-height: 1; border-radius: 0.35em; vertical-align: middle; margin-left: 0.5rem\">CHEMICAL</span>\n",
              "</mark>\n",
              "</div></span>"
            ]
          },
          "metadata": {}
        },
        {
          "output_type": "stream",
          "name": "stdout",
          "text": [
            "{('win55 2122', 'CHEMICAL'), ('terpene', 'CHEMICAL')}\n"
          ]
        },
        {
          "output_type": "execute_result",
          "data": {
            "text/plain": [
              "(None, None)"
            ]
          },
          "metadata": {},
          "execution_count": 20
        }
      ]
    },
    {
      "cell_type": "code",
      "source": [
        "!pip install https://s3-us-west-2.amazonaws.com/ai2-s2-scispacy/releases/v0.5.0/en_core_sci_lg-0.5.0.tar.gz\n",
        "import en_core_sci_lg\n",
        "nlp = en_ner_bc5cdr_md.load()\n",
        "doc = nlp(text)\n",
        "displacy_image = displacy.render(doc, jupyter=True,style='ent')\n",
        "entity_and_label = pprint(set([(X.text, X.label_) for X in doc.ents]))\n",
        "displacy_image, entity_and_label"
      ],
      "metadata": {
        "colab": {
          "base_uri": "https://localhost:8080/"
        },
        "id": "sZInO2GOIwiu",
        "outputId": "8d32d180-5294-4325-90af-e9a4ed8e69a9"
      },
      "execution_count": null,
      "outputs": [
        {
          "output_type": "stream",
          "name": "stdout",
          "text": [
            "Collecting https://s3-us-west-2.amazonaws.com/ai2-s2-scispacy/releases/v0.5.0/en_core_sci_lg-0.5.0.tar.gz\n",
            "  Downloading https://s3-us-west-2.amazonaws.com/ai2-s2-scispacy/releases/v0.5.0/en_core_sci_lg-0.5.0.tar.gz (532.3 MB)\n",
            "\u001b[K     |████████████████████████████████| 532.3 MB 19 kB/s \n",
            "\u001b[?25hRequirement already satisfied: spacy<3.3.0,>=3.2.3 in /usr/local/lib/python3.7/dist-packages (from en-core-sci-lg==0.5.0) (3.2.3)\n",
            "Requirement already satisfied: typing-extensions<4.0.0.0,>=3.7.4 in /usr/local/lib/python3.7/dist-packages (from spacy<3.3.0,>=3.2.3->en-core-sci-lg==0.5.0) (3.10.0.2)\n",
            "Requirement already satisfied: numpy>=1.15.0 in /usr/local/lib/python3.7/dist-packages (from spacy<3.3.0,>=3.2.3->en-core-sci-lg==0.5.0) (1.21.5)\n",
            "Requirement already satisfied: murmurhash<1.1.0,>=0.28.0 in /usr/local/lib/python3.7/dist-packages (from spacy<3.3.0,>=3.2.3->en-core-sci-lg==0.5.0) (1.0.6)\n",
            "Requirement already satisfied: wasabi<1.1.0,>=0.8.1 in /usr/local/lib/python3.7/dist-packages (from spacy<3.3.0,>=3.2.3->en-core-sci-lg==0.5.0) (0.9.0)\n",
            "Requirement already satisfied: cymem<2.1.0,>=2.0.2 in /usr/local/lib/python3.7/dist-packages (from spacy<3.3.0,>=3.2.3->en-core-sci-lg==0.5.0) (2.0.6)\n",
            "Requirement already satisfied: pydantic!=1.8,!=1.8.1,<1.9.0,>=1.7.4 in /usr/local/lib/python3.7/dist-packages (from spacy<3.3.0,>=3.2.3->en-core-sci-lg==0.5.0) (1.8.2)\n",
            "Requirement already satisfied: srsly<3.0.0,>=2.4.1 in /usr/local/lib/python3.7/dist-packages (from spacy<3.3.0,>=3.2.3->en-core-sci-lg==0.5.0) (2.4.2)\n",
            "Requirement already satisfied: tqdm<5.0.0,>=4.38.0 in /usr/local/lib/python3.7/dist-packages (from spacy<3.3.0,>=3.2.3->en-core-sci-lg==0.5.0) (4.63.0)\n",
            "Requirement already satisfied: requests<3.0.0,>=2.13.0 in /usr/local/lib/python3.7/dist-packages (from spacy<3.3.0,>=3.2.3->en-core-sci-lg==0.5.0) (2.23.0)\n",
            "Requirement already satisfied: blis<0.8.0,>=0.4.0 in /usr/local/lib/python3.7/dist-packages (from spacy<3.3.0,>=3.2.3->en-core-sci-lg==0.5.0) (0.4.1)\n",
            "Requirement already satisfied: langcodes<4.0.0,>=3.2.0 in /usr/local/lib/python3.7/dist-packages (from spacy<3.3.0,>=3.2.3->en-core-sci-lg==0.5.0) (3.3.0)\n",
            "Requirement already satisfied: packaging>=20.0 in /usr/local/lib/python3.7/dist-packages (from spacy<3.3.0,>=3.2.3->en-core-sci-lg==0.5.0) (21.3)\n",
            "Requirement already satisfied: pathy>=0.3.5 in /usr/local/lib/python3.7/dist-packages (from spacy<3.3.0,>=3.2.3->en-core-sci-lg==0.5.0) (0.6.1)\n",
            "Requirement already satisfied: spacy-legacy<3.1.0,>=3.0.8 in /usr/local/lib/python3.7/dist-packages (from spacy<3.3.0,>=3.2.3->en-core-sci-lg==0.5.0) (3.0.9)\n",
            "Requirement already satisfied: thinc<8.1.0,>=8.0.12 in /usr/local/lib/python3.7/dist-packages (from spacy<3.3.0,>=3.2.3->en-core-sci-lg==0.5.0) (8.0.15)\n",
            "Requirement already satisfied: jinja2 in /usr/local/lib/python3.7/dist-packages (from spacy<3.3.0,>=3.2.3->en-core-sci-lg==0.5.0) (2.11.3)\n",
            "Requirement already satisfied: catalogue<2.1.0,>=2.0.6 in /usr/local/lib/python3.7/dist-packages (from spacy<3.3.0,>=3.2.3->en-core-sci-lg==0.5.0) (2.0.6)\n",
            "Requirement already satisfied: typer<0.5.0,>=0.3.0 in /usr/local/lib/python3.7/dist-packages (from spacy<3.3.0,>=3.2.3->en-core-sci-lg==0.5.0) (0.4.0)\n",
            "Requirement already satisfied: spacy-loggers<2.0.0,>=1.0.0 in /usr/local/lib/python3.7/dist-packages (from spacy<3.3.0,>=3.2.3->en-core-sci-lg==0.5.0) (1.0.1)\n",
            "Requirement already satisfied: preshed<3.1.0,>=3.0.2 in /usr/local/lib/python3.7/dist-packages (from spacy<3.3.0,>=3.2.3->en-core-sci-lg==0.5.0) (3.0.6)\n",
            "Requirement already satisfied: setuptools in /usr/local/lib/python3.7/dist-packages (from spacy<3.3.0,>=3.2.3->en-core-sci-lg==0.5.0) (57.4.0)\n",
            "Requirement already satisfied: zipp>=0.5 in /usr/local/lib/python3.7/dist-packages (from catalogue<2.1.0,>=2.0.6->spacy<3.3.0,>=3.2.3->en-core-sci-lg==0.5.0) (3.7.0)\n",
            "Requirement already satisfied: pyparsing!=3.0.5,>=2.0.2 in /usr/local/lib/python3.7/dist-packages (from packaging>=20.0->spacy<3.3.0,>=3.2.3->en-core-sci-lg==0.5.0) (3.0.7)\n",
            "Requirement already satisfied: smart-open<6.0.0,>=5.0.0 in /usr/local/lib/python3.7/dist-packages (from pathy>=0.3.5->spacy<3.3.0,>=3.2.3->en-core-sci-lg==0.5.0) (5.2.1)\n",
            "Requirement already satisfied: idna<3,>=2.5 in /usr/local/lib/python3.7/dist-packages (from requests<3.0.0,>=2.13.0->spacy<3.3.0,>=3.2.3->en-core-sci-lg==0.5.0) (2.10)\n",
            "Requirement already satisfied: chardet<4,>=3.0.2 in /usr/local/lib/python3.7/dist-packages (from requests<3.0.0,>=2.13.0->spacy<3.3.0,>=3.2.3->en-core-sci-lg==0.5.0) (3.0.4)\n",
            "Requirement already satisfied: certifi>=2017.4.17 in /usr/local/lib/python3.7/dist-packages (from requests<3.0.0,>=2.13.0->spacy<3.3.0,>=3.2.3->en-core-sci-lg==0.5.0) (2021.10.8)\n",
            "Requirement already satisfied: urllib3!=1.25.0,!=1.25.1,<1.26,>=1.21.1 in /usr/local/lib/python3.7/dist-packages (from requests<3.0.0,>=2.13.0->spacy<3.3.0,>=3.2.3->en-core-sci-lg==0.5.0) (1.24.3)\n",
            "Requirement already satisfied: click<9.0.0,>=7.1.1 in /usr/local/lib/python3.7/dist-packages (from typer<0.5.0,>=0.3.0->spacy<3.3.0,>=3.2.3->en-core-sci-lg==0.5.0) (7.1.2)\n",
            "Requirement already satisfied: MarkupSafe>=0.23 in /usr/local/lib/python3.7/dist-packages (from jinja2->spacy<3.3.0,>=3.2.3->en-core-sci-lg==0.5.0) (2.0.1)\n",
            "Building wheels for collected packages: en-core-sci-lg\n",
            "  Building wheel for en-core-sci-lg (setup.py) ... \u001b[?25l\u001b[?25hdone\n",
            "  Created wheel for en-core-sci-lg: filename=en_core_sci_lg-0.5.0-py3-none-any.whl size=532569823 sha256=0694aa25d61b3d1e61fca282e5cf5695cacaa54288ddb839c915b6277108dcda\n",
            "  Stored in directory: /root/.cache/pip/wheels/c1/69/da/683231a48569a53313ed6530869e4743fe57c344412a56b25f\n",
            "Successfully built en-core-sci-lg\n",
            "Installing collected packages: en-core-sci-lg\n",
            "Successfully installed en-core-sci-lg-0.5.0\n"
          ]
        }
      ]
    },
    {
      "cell_type": "code",
      "source": [
        "!pip install https://s3-us-west-2.amazonaws.com/ai2-s2-scispacy/releases/v0.5.0/en_core_sci_scibert-0.5.0.tar.gz\n",
        "import en_core_sci_scibert\n",
        "# nlp = en_ner_bc5cdr_md.load()\n",
        "# doc = nlp(text)\n",
        "# displacy_image = displacy.render(doc, jupyter=True,style='ent')\n",
        "# entity_and_label = pprint(set([(X.text, X.label_) for X in doc.ents]))\n",
        "# displacy_image, entity_and_label"
      ],
      "metadata": {
        "id": "T3TujHdxIxC5",
        "colab": {
          "base_uri": "https://localhost:8080/"
        },
        "outputId": "5cccfc5e-b141-4870-d03a-d4abba7a3fd4"
      },
      "execution_count": null,
      "outputs": [
        {
          "output_type": "stream",
          "name": "stdout",
          "text": [
            "Collecting https://s3-us-west-2.amazonaws.com/ai2-s2-scispacy/releases/v0.5.0/en_core_sci_scibert-0.5.0.tar.gz\n",
            "  Downloading https://s3-us-west-2.amazonaws.com/ai2-s2-scispacy/releases/v0.5.0/en_core_sci_scibert-0.5.0.tar.gz (417.6 MB)\n",
            "\u001b[K     |████████████████████████████████| 417.6 MB 32 kB/s \n",
            "\u001b[?25hCollecting spacy<3.3.0,>=3.2.3\n",
            "  Downloading spacy-3.2.3-cp37-cp37m-manylinux_2_17_x86_64.manylinux2014_x86_64.whl (6.0 MB)\n",
            "\u001b[K     |████████████████████████████████| 6.0 MB 5.1 MB/s \n",
            "\u001b[?25hCollecting spacy-transformers\n",
            "  Downloading spacy_transformers-1.1.5-py2.py3-none-any.whl (51 kB)\n",
            "\u001b[K     |████████████████████████████████| 51 kB 144 kB/s \n",
            "\u001b[?25hCollecting pydantic!=1.8,!=1.8.1,<1.9.0,>=1.7.4\n",
            "  Downloading pydantic-1.8.2-cp37-cp37m-manylinux2014_x86_64.whl (10.1 MB)\n",
            "\u001b[K     |████████████████████████████████| 10.1 MB 29.6 MB/s \n",
            "\u001b[?25hRequirement already satisfied: murmurhash<1.1.0,>=0.28.0 in /usr/local/lib/python3.7/dist-packages (from spacy<3.3.0,>=3.2.3->en-core-sci-scibert==0.5.0) (1.0.6)\n",
            "Requirement already satisfied: blis<0.8.0,>=0.4.0 in /usr/local/lib/python3.7/dist-packages (from spacy<3.3.0,>=3.2.3->en-core-sci-scibert==0.5.0) (0.4.1)\n",
            "Requirement already satisfied: preshed<3.1.0,>=3.0.2 in /usr/local/lib/python3.7/dist-packages (from spacy<3.3.0,>=3.2.3->en-core-sci-scibert==0.5.0) (3.0.6)\n",
            "Requirement already satisfied: requests<3.0.0,>=2.13.0 in /usr/local/lib/python3.7/dist-packages (from spacy<3.3.0,>=3.2.3->en-core-sci-scibert==0.5.0) (2.23.0)\n",
            "Requirement already satisfied: typing-extensions<4.0.0.0,>=3.7.4 in /usr/local/lib/python3.7/dist-packages (from spacy<3.3.0,>=3.2.3->en-core-sci-scibert==0.5.0) (3.10.0.2)\n",
            "Requirement already satisfied: numpy>=1.15.0 in /usr/local/lib/python3.7/dist-packages (from spacy<3.3.0,>=3.2.3->en-core-sci-scibert==0.5.0) (1.21.5)\n",
            "Requirement already satisfied: setuptools in /usr/local/lib/python3.7/dist-packages (from spacy<3.3.0,>=3.2.3->en-core-sci-scibert==0.5.0) (57.4.0)\n",
            "Collecting langcodes<4.0.0,>=3.2.0\n",
            "  Downloading langcodes-3.3.0-py3-none-any.whl (181 kB)\n",
            "\u001b[K     |████████████████████████████████| 181 kB 63.9 MB/s \n",
            "\u001b[?25hCollecting typer<0.5.0,>=0.3.0\n",
            "  Downloading typer-0.4.0-py3-none-any.whl (27 kB)\n",
            "Collecting srsly<3.0.0,>=2.4.1\n",
            "  Downloading srsly-2.4.2-cp37-cp37m-manylinux_2_17_x86_64.manylinux2014_x86_64.whl (451 kB)\n",
            "\u001b[K     |████████████████████████████████| 451 kB 62.1 MB/s \n",
            "\u001b[?25hCollecting spacy-legacy<3.1.0,>=3.0.8\n",
            "  Downloading spacy_legacy-3.0.9-py2.py3-none-any.whl (20 kB)\n",
            "Collecting catalogue<2.1.0,>=2.0.6\n",
            "  Downloading catalogue-2.0.7-py3-none-any.whl (17 kB)\n",
            "Requirement already satisfied: tqdm<5.0.0,>=4.38.0 in /usr/local/lib/python3.7/dist-packages (from spacy<3.3.0,>=3.2.3->en-core-sci-scibert==0.5.0) (4.63.0)\n",
            "Collecting thinc<8.1.0,>=8.0.12\n",
            "  Downloading thinc-8.0.15-cp37-cp37m-manylinux_2_17_x86_64.manylinux2014_x86_64.whl (653 kB)\n",
            "\u001b[K     |████████████████████████████████| 653 kB 56.0 MB/s \n",
            "\u001b[?25hRequirement already satisfied: jinja2 in /usr/local/lib/python3.7/dist-packages (from spacy<3.3.0,>=3.2.3->en-core-sci-scibert==0.5.0) (2.11.3)\n",
            "Requirement already satisfied: packaging>=20.0 in /usr/local/lib/python3.7/dist-packages (from spacy<3.3.0,>=3.2.3->en-core-sci-scibert==0.5.0) (21.3)\n",
            "Requirement already satisfied: wasabi<1.1.0,>=0.8.1 in /usr/local/lib/python3.7/dist-packages (from spacy<3.3.0,>=3.2.3->en-core-sci-scibert==0.5.0) (0.9.0)\n",
            "Collecting spacy-loggers<2.0.0,>=1.0.0\n",
            "  Downloading spacy_loggers-1.0.1-py3-none-any.whl (7.0 kB)\n",
            "Collecting pathy>=0.3.5\n",
            "  Downloading pathy-0.6.1-py3-none-any.whl (42 kB)\n",
            "\u001b[K     |████████████████████████████████| 42 kB 1.2 MB/s \n",
            "\u001b[?25hRequirement already satisfied: cymem<2.1.0,>=2.0.2 in /usr/local/lib/python3.7/dist-packages (from spacy<3.3.0,>=3.2.3->en-core-sci-scibert==0.5.0) (2.0.6)\n",
            "Requirement already satisfied: zipp>=0.5 in /usr/local/lib/python3.7/dist-packages (from catalogue<2.1.0,>=2.0.6->spacy<3.3.0,>=3.2.3->en-core-sci-scibert==0.5.0) (3.7.0)\n",
            "Requirement already satisfied: pyparsing!=3.0.5,>=2.0.2 in /usr/local/lib/python3.7/dist-packages (from packaging>=20.0->spacy<3.3.0,>=3.2.3->en-core-sci-scibert==0.5.0) (3.0.7)\n",
            "Requirement already satisfied: smart-open<6.0.0,>=5.0.0 in /usr/local/lib/python3.7/dist-packages (from pathy>=0.3.5->spacy<3.3.0,>=3.2.3->en-core-sci-scibert==0.5.0) (5.2.1)\n",
            "Requirement already satisfied: chardet<4,>=3.0.2 in /usr/local/lib/python3.7/dist-packages (from requests<3.0.0,>=2.13.0->spacy<3.3.0,>=3.2.3->en-core-sci-scibert==0.5.0) (3.0.4)\n",
            "Requirement already satisfied: certifi>=2017.4.17 in /usr/local/lib/python3.7/dist-packages (from requests<3.0.0,>=2.13.0->spacy<3.3.0,>=3.2.3->en-core-sci-scibert==0.5.0) (2021.10.8)\n",
            "Requirement already satisfied: urllib3!=1.25.0,!=1.25.1,<1.26,>=1.21.1 in /usr/local/lib/python3.7/dist-packages (from requests<3.0.0,>=2.13.0->spacy<3.3.0,>=3.2.3->en-core-sci-scibert==0.5.0) (1.24.3)\n",
            "Requirement already satisfied: idna<3,>=2.5 in /usr/local/lib/python3.7/dist-packages (from requests<3.0.0,>=2.13.0->spacy<3.3.0,>=3.2.3->en-core-sci-scibert==0.5.0) (2.10)\n",
            "Requirement already satisfied: click<9.0.0,>=7.1.1 in /usr/local/lib/python3.7/dist-packages (from typer<0.5.0,>=0.3.0->spacy<3.3.0,>=3.2.3->en-core-sci-scibert==0.5.0) (7.1.2)\n",
            "Requirement already satisfied: MarkupSafe>=0.23 in /usr/local/lib/python3.7/dist-packages (from jinja2->spacy<3.3.0,>=3.2.3->en-core-sci-scibert==0.5.0) (2.0.1)\n",
            "Collecting transformers<4.18.0,>=3.4.0\n",
            "  Downloading transformers-4.17.0-py3-none-any.whl (3.8 MB)\n",
            "\u001b[K     |████████████████████████████████| 3.8 MB 45.1 MB/s \n",
            "\u001b[?25hCollecting spacy-alignments<1.0.0,>=0.7.2\n",
            "  Downloading spacy_alignments-0.8.4-cp37-cp37m-manylinux_2_17_x86_64.manylinux2014_x86_64.whl (1.1 MB)\n",
            "\u001b[K     |████████████████████████████████| 1.1 MB 37.7 MB/s \n",
            "\u001b[?25hRequirement already satisfied: torch>=1.6.0 in /usr/local/lib/python3.7/dist-packages (from spacy-transformers->en-core-sci-scibert==0.5.0) (1.10.0+cu111)\n",
            "Collecting huggingface-hub<1.0,>=0.1.0\n",
            "  Downloading huggingface_hub-0.4.0-py3-none-any.whl (67 kB)\n",
            "\u001b[K     |████████████████████████████████| 67 kB 4.7 MB/s \n",
            "\u001b[?25hRequirement already satisfied: importlib-metadata in /usr/local/lib/python3.7/dist-packages (from transformers<4.18.0,>=3.4.0->spacy-transformers->en-core-sci-scibert==0.5.0) (4.11.2)\n",
            "Requirement already satisfied: regex!=2019.12.17 in /usr/local/lib/python3.7/dist-packages (from transformers<4.18.0,>=3.4.0->spacy-transformers->en-core-sci-scibert==0.5.0) (2019.12.20)\n",
            "Collecting pyyaml>=5.1\n",
            "  Downloading PyYAML-6.0-cp37-cp37m-manylinux_2_5_x86_64.manylinux1_x86_64.manylinux_2_12_x86_64.manylinux2010_x86_64.whl (596 kB)\n",
            "\u001b[K     |████████████████████████████████| 596 kB 57.5 MB/s \n",
            "\u001b[?25hCollecting sacremoses\n",
            "  Downloading sacremoses-0.0.49-py3-none-any.whl (895 kB)\n",
            "\u001b[K     |████████████████████████████████| 895 kB 53.8 MB/s \n",
            "\u001b[?25hRequirement already satisfied: filelock in /usr/local/lib/python3.7/dist-packages (from transformers<4.18.0,>=3.4.0->spacy-transformers->en-core-sci-scibert==0.5.0) (3.6.0)\n",
            "Collecting tokenizers!=0.11.3,>=0.11.1\n",
            "  Downloading tokenizers-0.11.6-cp37-cp37m-manylinux_2_12_x86_64.manylinux2010_x86_64.whl (6.5 MB)\n",
            "\u001b[K     |████████████████████████████████| 6.5 MB 44.8 MB/s \n",
            "\u001b[?25hRequirement already satisfied: joblib in /usr/local/lib/python3.7/dist-packages (from sacremoses->transformers<4.18.0,>=3.4.0->spacy-transformers->en-core-sci-scibert==0.5.0) (1.1.0)\n",
            "Requirement already satisfied: six in /usr/local/lib/python3.7/dist-packages (from sacremoses->transformers<4.18.0,>=3.4.0->spacy-transformers->en-core-sci-scibert==0.5.0) (1.15.0)\n",
            "Building wheels for collected packages: en-core-sci-scibert\n",
            "  Building wheel for en-core-sci-scibert (setup.py) ... \u001b[?25l\u001b[?25hdone\n",
            "  Created wheel for en-core-sci-scibert: filename=en_core_sci_scibert-0.5.0-py3-none-any.whl size=417639745 sha256=d877ba98245b3180bd7877b4198532858f282b71741ad3ff709d1f6c91f302d4\n",
            "  Stored in directory: /root/.cache/pip/wheels/d8/a8/d3/2dda35289b913890211c4a00bae950d4aa5b7a12d49bf634fc\n",
            "Successfully built en-core-sci-scibert\n",
            "Installing collected packages: catalogue, typer, srsly, pyyaml, pydantic, tokenizers, thinc, spacy-loggers, spacy-legacy, sacremoses, pathy, langcodes, huggingface-hub, transformers, spacy-alignments, spacy, spacy-transformers, en-core-sci-scibert\n",
            "  Attempting uninstall: catalogue\n",
            "    Found existing installation: catalogue 1.0.0\n",
            "    Uninstalling catalogue-1.0.0:\n",
            "      Successfully uninstalled catalogue-1.0.0\n",
            "  Attempting uninstall: srsly\n",
            "    Found existing installation: srsly 1.0.5\n",
            "    Uninstalling srsly-1.0.5:\n",
            "      Successfully uninstalled srsly-1.0.5\n",
            "  Attempting uninstall: pyyaml\n",
            "    Found existing installation: PyYAML 3.13\n",
            "    Uninstalling PyYAML-3.13:\n",
            "      Successfully uninstalled PyYAML-3.13\n",
            "  Attempting uninstall: thinc\n",
            "    Found existing installation: thinc 7.4.0\n",
            "    Uninstalling thinc-7.4.0:\n",
            "      Successfully uninstalled thinc-7.4.0\n",
            "  Attempting uninstall: spacy\n",
            "    Found existing installation: spacy 2.2.4\n",
            "    Uninstalling spacy-2.2.4:\n",
            "      Successfully uninstalled spacy-2.2.4\n",
            "Successfully installed catalogue-2.0.7 en-core-sci-scibert-0.5.0 huggingface-hub-0.4.0 langcodes-3.3.0 pathy-0.6.1 pydantic-1.8.2 pyyaml-6.0 sacremoses-0.0.49 spacy-3.2.3 spacy-alignments-0.8.4 spacy-legacy-3.0.9 spacy-loggers-1.0.1 spacy-transformers-1.1.5 srsly-2.4.2 thinc-8.0.15 tokenizers-0.11.6 transformers-4.17.0 typer-0.4.0\n"
          ]
        }
      ]
    },
    {
      "cell_type": "code",
      "source": [
        "!pip install https://s3-us-west-2.amazonaws.com/ai2-s2-scispacy/releases/v0.5.0/en_ner_bc5cdr_md-0.5.0.tar.gz\n",
        "import en_ner_bc5cdr_md"
      ],
      "metadata": {
        "colab": {
          "base_uri": "https://localhost:8080/"
        },
        "id": "r_kSkT1vK1PZ",
        "outputId": "5c5c6b1c-5aab-4fb7-e7a4-c2820f01121f"
      },
      "execution_count": null,
      "outputs": [
        {
          "output_type": "stream",
          "name": "stdout",
          "text": [
            "Collecting https://s3-us-west-2.amazonaws.com/ai2-s2-scispacy/releases/v0.5.0/en_ner_bc5cdr_md-0.5.0.tar.gz\n",
            "  Using cached https://s3-us-west-2.amazonaws.com/ai2-s2-scispacy/releases/v0.5.0/en_ner_bc5cdr_md-0.5.0.tar.gz (120.2 MB)\n",
            "Requirement already satisfied: spacy<3.3.0,>=3.2.3 in /usr/local/lib/python3.7/dist-packages (from en-ner-bc5cdr-md==0.5.0) (3.2.3)\n",
            "Requirement already satisfied: cymem<2.1.0,>=2.0.2 in /usr/local/lib/python3.7/dist-packages (from spacy<3.3.0,>=3.2.3->en-ner-bc5cdr-md==0.5.0) (2.0.6)\n",
            "Requirement already satisfied: typing-extensions<4.0.0.0,>=3.7.4 in /usr/local/lib/python3.7/dist-packages (from spacy<3.3.0,>=3.2.3->en-ner-bc5cdr-md==0.5.0) (3.10.0.2)\n",
            "Requirement already satisfied: srsly<3.0.0,>=2.4.1 in /usr/local/lib/python3.7/dist-packages (from spacy<3.3.0,>=3.2.3->en-ner-bc5cdr-md==0.5.0) (2.4.2)\n",
            "Requirement already satisfied: setuptools in /usr/local/lib/python3.7/dist-packages (from spacy<3.3.0,>=3.2.3->en-ner-bc5cdr-md==0.5.0) (57.4.0)\n",
            "Requirement already satisfied: tqdm<5.0.0,>=4.38.0 in /usr/local/lib/python3.7/dist-packages (from spacy<3.3.0,>=3.2.3->en-ner-bc5cdr-md==0.5.0) (4.63.0)\n",
            "Requirement already satisfied: numpy>=1.15.0 in /usr/local/lib/python3.7/dist-packages (from spacy<3.3.0,>=3.2.3->en-ner-bc5cdr-md==0.5.0) (1.21.5)\n",
            "Requirement already satisfied: blis<0.8.0,>=0.4.0 in /usr/local/lib/python3.7/dist-packages (from spacy<3.3.0,>=3.2.3->en-ner-bc5cdr-md==0.5.0) (0.4.1)\n",
            "Requirement already satisfied: requests<3.0.0,>=2.13.0 in /usr/local/lib/python3.7/dist-packages (from spacy<3.3.0,>=3.2.3->en-ner-bc5cdr-md==0.5.0) (2.23.0)\n",
            "Requirement already satisfied: pydantic!=1.8,!=1.8.1,<1.9.0,>=1.7.4 in /usr/local/lib/python3.7/dist-packages (from spacy<3.3.0,>=3.2.3->en-ner-bc5cdr-md==0.5.0) (1.8.2)\n",
            "Requirement already satisfied: jinja2 in /usr/local/lib/python3.7/dist-packages (from spacy<3.3.0,>=3.2.3->en-ner-bc5cdr-md==0.5.0) (2.11.3)\n",
            "Requirement already satisfied: murmurhash<1.1.0,>=0.28.0 in /usr/local/lib/python3.7/dist-packages (from spacy<3.3.0,>=3.2.3->en-ner-bc5cdr-md==0.5.0) (1.0.6)\n",
            "Requirement already satisfied: typer<0.5.0,>=0.3.0 in /usr/local/lib/python3.7/dist-packages (from spacy<3.3.0,>=3.2.3->en-ner-bc5cdr-md==0.5.0) (0.4.0)\n",
            "Requirement already satisfied: wasabi<1.1.0,>=0.8.1 in /usr/local/lib/python3.7/dist-packages (from spacy<3.3.0,>=3.2.3->en-ner-bc5cdr-md==0.5.0) (0.9.0)\n",
            "Requirement already satisfied: spacy-legacy<3.1.0,>=3.0.8 in /usr/local/lib/python3.7/dist-packages (from spacy<3.3.0,>=3.2.3->en-ner-bc5cdr-md==0.5.0) (3.0.9)\n",
            "Requirement already satisfied: catalogue<2.1.0,>=2.0.6 in /usr/local/lib/python3.7/dist-packages (from spacy<3.3.0,>=3.2.3->en-ner-bc5cdr-md==0.5.0) (2.0.7)\n",
            "Requirement already satisfied: preshed<3.1.0,>=3.0.2 in /usr/local/lib/python3.7/dist-packages (from spacy<3.3.0,>=3.2.3->en-ner-bc5cdr-md==0.5.0) (3.0.6)\n",
            "Requirement already satisfied: packaging>=20.0 in /usr/local/lib/python3.7/dist-packages (from spacy<3.3.0,>=3.2.3->en-ner-bc5cdr-md==0.5.0) (21.3)\n",
            "Requirement already satisfied: spacy-loggers<2.0.0,>=1.0.0 in /usr/local/lib/python3.7/dist-packages (from spacy<3.3.0,>=3.2.3->en-ner-bc5cdr-md==0.5.0) (1.0.1)\n",
            "Requirement already satisfied: langcodes<4.0.0,>=3.2.0 in /usr/local/lib/python3.7/dist-packages (from spacy<3.3.0,>=3.2.3->en-ner-bc5cdr-md==0.5.0) (3.3.0)\n",
            "Requirement already satisfied: thinc<8.1.0,>=8.0.12 in /usr/local/lib/python3.7/dist-packages (from spacy<3.3.0,>=3.2.3->en-ner-bc5cdr-md==0.5.0) (8.0.15)\n",
            "Requirement already satisfied: pathy>=0.3.5 in /usr/local/lib/python3.7/dist-packages (from spacy<3.3.0,>=3.2.3->en-ner-bc5cdr-md==0.5.0) (0.6.1)\n",
            "Requirement already satisfied: zipp>=0.5 in /usr/local/lib/python3.7/dist-packages (from catalogue<2.1.0,>=2.0.6->spacy<3.3.0,>=3.2.3->en-ner-bc5cdr-md==0.5.0) (3.7.0)\n",
            "Requirement already satisfied: pyparsing!=3.0.5,>=2.0.2 in /usr/local/lib/python3.7/dist-packages (from packaging>=20.0->spacy<3.3.0,>=3.2.3->en-ner-bc5cdr-md==0.5.0) (3.0.7)\n",
            "Requirement already satisfied: smart-open<6.0.0,>=5.0.0 in /usr/local/lib/python3.7/dist-packages (from pathy>=0.3.5->spacy<3.3.0,>=3.2.3->en-ner-bc5cdr-md==0.5.0) (5.2.1)\n",
            "Requirement already satisfied: chardet<4,>=3.0.2 in /usr/local/lib/python3.7/dist-packages (from requests<3.0.0,>=2.13.0->spacy<3.3.0,>=3.2.3->en-ner-bc5cdr-md==0.5.0) (3.0.4)\n",
            "Requirement already satisfied: urllib3!=1.25.0,!=1.25.1,<1.26,>=1.21.1 in /usr/local/lib/python3.7/dist-packages (from requests<3.0.0,>=2.13.0->spacy<3.3.0,>=3.2.3->en-ner-bc5cdr-md==0.5.0) (1.24.3)\n",
            "Requirement already satisfied: certifi>=2017.4.17 in /usr/local/lib/python3.7/dist-packages (from requests<3.0.0,>=2.13.0->spacy<3.3.0,>=3.2.3->en-ner-bc5cdr-md==0.5.0) (2021.10.8)\n",
            "Requirement already satisfied: idna<3,>=2.5 in /usr/local/lib/python3.7/dist-packages (from requests<3.0.0,>=2.13.0->spacy<3.3.0,>=3.2.3->en-ner-bc5cdr-md==0.5.0) (2.10)\n",
            "Requirement already satisfied: click<9.0.0,>=7.1.1 in /usr/local/lib/python3.7/dist-packages (from typer<0.5.0,>=0.3.0->spacy<3.3.0,>=3.2.3->en-ner-bc5cdr-md==0.5.0) (7.1.2)\n",
            "Requirement already satisfied: MarkupSafe>=0.23 in /usr/local/lib/python3.7/dist-packages (from jinja2->spacy<3.3.0,>=3.2.3->en-ner-bc5cdr-md==0.5.0) (2.0.1)\n"
          ]
        }
      ]
    },
    {
      "cell_type": "code",
      "source": [
        "#!pip install https://s3-us-west-2.amazonaws.com/ai2-s2-scispacy/releases/v0.5.0/en_ner_bc5cdr_md-0.5.0.tar.gz\n",
        "import en_ner_bc5cdr_md\n",
        "tree1 = np.sort(os.listdir('/content/terpene/'))\n",
        "for l in tree1:\n",
        "  print('\\n',l)\n",
        "  tree2 = np.sort(os.listdir('/content/terpene/'+ l +'/'+'figure/'))\n",
        "  for f in tree2:\n",
        "    print('\\n',f)\n",
        "    text = f_train_data = open('/content/terpene/'+ l +'/'+'figure/' + f +'/caption/raw_text.txt','r')\n",
        "    reader_train_data = list(csv.reader(f_train_data,delimiter='\\t'))\n",
        "    reader_train_data[0][0]\n",
        "    text =  clean_text(reader_train_data[0][0])\n",
        "    nlp = en_ner_bc5cdr_md.load()\n",
        "    doc = nlp(text)\n",
        "    displacy_image = displacy.render(doc, jupyter=True,style='ent')\n",
        "    print('\\n')\n",
        "    print(doc.ents)\n",
        "    entity_and_label = pprint(set([(X.text, X.label_) for X in doc.ents]))\n",
        "    print(displacy_image)\n",
        "    print('\\n')\n",
        "    print('-'*50)"
      ],
      "metadata": {
        "colab": {
          "base_uri": "https://localhost:8080/",
          "height": 253
        },
        "id": "aeUdbHp9MclU",
        "outputId": "2b1c3ac7-bfcc-464a-aad9-7d1231a96b4b"
      },
      "execution_count": null,
      "outputs": [
        {
          "output_type": "error",
          "ename": "NameError",
          "evalue": "ignored",
          "traceback": [
            "\u001b[0;31m---------------------------------------------------------------------------\u001b[0m",
            "\u001b[0;31mNameError\u001b[0m                                 Traceback (most recent call last)",
            "\u001b[0;32m<ipython-input-1-3d3389baae20>\u001b[0m in \u001b[0;36m<module>\u001b[0;34m()\u001b[0m\n\u001b[1;32m      1\u001b[0m \u001b[0;31m#!pip install https://s3-us-west-2.amazonaws.com/ai2-s2-scispacy/releases/v0.5.0/en_ner_bc5cdr_md-0.5.0.tar.gz\u001b[0m\u001b[0;34m\u001b[0m\u001b[0;34m\u001b[0m\u001b[0;34m\u001b[0m\u001b[0m\n\u001b[1;32m      2\u001b[0m \u001b[0;32mimport\u001b[0m \u001b[0men_ner_bc5cdr_md\u001b[0m\u001b[0;34m\u001b[0m\u001b[0;34m\u001b[0m\u001b[0m\n\u001b[0;32m----> 3\u001b[0;31m \u001b[0mtree1\u001b[0m \u001b[0;34m=\u001b[0m \u001b[0mnp\u001b[0m\u001b[0;34m.\u001b[0m\u001b[0msort\u001b[0m\u001b[0;34m(\u001b[0m\u001b[0mos\u001b[0m\u001b[0;34m.\u001b[0m\u001b[0mlistdir\u001b[0m\u001b[0;34m(\u001b[0m\u001b[0;34m'/content/terpene/'\u001b[0m\u001b[0;34m)\u001b[0m\u001b[0;34m)\u001b[0m\u001b[0;34m\u001b[0m\u001b[0;34m\u001b[0m\u001b[0m\n\u001b[0m\u001b[1;32m      4\u001b[0m \u001b[0;32mfor\u001b[0m \u001b[0ml\u001b[0m \u001b[0;32min\u001b[0m \u001b[0mtree1\u001b[0m\u001b[0;34m:\u001b[0m\u001b[0;34m\u001b[0m\u001b[0;34m\u001b[0m\u001b[0m\n\u001b[1;32m      5\u001b[0m   \u001b[0mprint\u001b[0m\u001b[0;34m(\u001b[0m\u001b[0;34m'\\n'\u001b[0m\u001b[0;34m,\u001b[0m\u001b[0ml\u001b[0m\u001b[0;34m)\u001b[0m\u001b[0;34m\u001b[0m\u001b[0;34m\u001b[0m\u001b[0m\n",
            "\u001b[0;31mNameError\u001b[0m: name 'np' is not defined"
          ]
        }
      ]
    },
    {
      "cell_type": "code",
      "source": [
        "text = f_train_data = open('/content/terpene/PMC8050080/figure/Fig5/caption/raw_text.txt','r')\n",
        "reader_train_data = list(csv.reader(f_train_data,delimiter='\\t'))\n",
        "reader_train_data[0][0]\n",
        "text =  clean_text(reader_train_data[0][0])\n",
        "nlp = en_ner_bc5cdr_md.load()\n",
        "doc = nlp(text)\n",
        "displacy_image = displacy.render(doc, jupyter=True,style='ent')\n",
        "\n",
        "entity_and_label = pprint(set([(X.text, X.label_) for X in doc.ents]))\n",
        "d = set([(X.text, X.label_) for X in doc.ents])\n",
        "set_labels = set([ X.label_ for X in doc.ents])\n",
        "for label in set_labels:\n",
        "  set_content = set([ X.label_  if X.label_ == label, for X in doc.ents])\n",
        "  if not os.path.exists('\\content\\'):\n",
        "    os.makedirs(tree1)\n",
        "for dd in d:\n",
        "  print(dd)\n",
        "print(displacy_image)\n",
        "d"
      ],
      "metadata": {
        "colab": {
          "base_uri": "https://localhost:8080/",
          "height": 418
        },
        "id": "gEQBjrpVKloa",
        "outputId": "aca13c23-7240-45e4-96b8-5625efa88308"
      },
      "execution_count": null,
      "outputs": [
        {
          "output_type": "display_data",
          "data": {
            "text/plain": [
              "<IPython.core.display.HTML object>"
            ],
            "text/html": [
              "<span class=\"tex2jax_ignore\"><div class=\"entities\" style=\"line-height: 2.5; direction: ltr\">\n",
              "<mark class=\"entity\" style=\"background: #ddd; padding: 0.45em 0.6em; margin: 0 0.25em; line-height: 1; border-radius: 0.35em;\">\n",
              "    terpene\n",
              "    <span style=\"font-size: 0.8em; font-weight: bold; line-height: 1; border-radius: 0.35em; vertical-align: middle; margin-left: 0.5rem\">CHEMICAL</span>\n",
              "</mark>\n",
              " induced \n",
              "<mark class=\"entity\" style=\"background: #ddd; padding: 0.45em 0.6em; margin: 0 0.25em; line-height: 1; border-radius: 0.35em;\">\n",
              "    hypolocomotion\n",
              "    <span style=\"font-size: 0.8em; font-weight: bold; line-height: 1; border-radius: 0.35em; vertical-align: middle; margin-left: 0.5rem\">DISEASE</span>\n",
              "</mark>\n",
              " partially mediated additive cannabinoid mouse injected 200mg \n",
              "<mark class=\"entity\" style=\"background: #ddd; padding: 0.45em 0.6em; margin: 0 0.25em; line-height: 1; border-radius: 0.35em;\">\n",
              "    terpene\n",
              "    <span style=\"font-size: 0.8em; font-weight: bold; line-height: 1; border-radius: 0.35em; vertical-align: middle; margin-left: 0.5rem\">CHEMICAL</span>\n",
              "</mark>\n",
              " alone combined 56mg \n",
              "<mark class=\"entity\" style=\"background: #ddd; padding: 0.45em 0.6em; margin: 0 0.25em; line-height: 1; border-radius: 0.35em;\">\n",
              "    win55 2122\n",
              "    <span style=\"font-size: 0.8em; font-weight: bold; line-height: 1; border-radius: 0.35em; vertical-align: middle; margin-left: 0.5rem\">CHEMICAL</span>\n",
              "</mark>\n",
              " pretreatment 10mg rimonabant 10mg istradefyllene 10min mouse placed back open field 5min test \n",
              "<mark class=\"entity\" style=\"background: #ddd; padding: 0.45em 0.6em; margin: 0 0.25em; line-height: 1; border-radius: 0.35em;\">\n",
              "    humulene pinene linalool geraniol\n",
              "    <span style=\"font-size: 0.8em; font-weight: bold; line-height: 1; border-radius: 0.35em; vertical-align: middle; margin-left: 0.5rem\">CHEMICAL</span>\n",
              "</mark>\n",
              " data represents meansem mobile time second n1020 group statistic analyzed oneway anova dunnetts post</div></span>"
            ]
          },
          "metadata": {}
        },
        {
          "output_type": "stream",
          "name": "stdout",
          "text": [
            "{('humulene pinene linalool geraniol', 'CHEMICAL'),\n",
            " ('hypolocomotion', 'DISEASE'),\n",
            " ('terpene', 'CHEMICAL'),\n",
            " ('win55 2122', 'CHEMICAL')}\n",
            "('hypolocomotion', 'DISEASE')\n",
            "('humulene pinene linalool geraniol', 'CHEMICAL')\n",
            "('win55 2122', 'CHEMICAL')\n",
            "('terpene', 'CHEMICAL')\n",
            "None\n"
          ]
        },
        {
          "output_type": "execute_result",
          "data": {
            "text/plain": [
              "{('humulene pinene linalool geraniol', 'CHEMICAL'),\n",
              " ('hypolocomotion', 'DISEASE'),\n",
              " ('terpene', 'CHEMICAL'),\n",
              " ('win55 2122', 'CHEMICAL')}"
            ]
          },
          "metadata": {},
          "execution_count": 13
        }
      ]
    },
    {
      "cell_type": "code",
      "source": [
        "set_labels"
      ],
      "metadata": {
        "colab": {
          "base_uri": "https://localhost:8080/"
        },
        "id": "G6kNZkKNMb3A",
        "outputId": "5442a0f8-bdb0-468a-c9d3-b76d743d07d7"
      },
      "execution_count": null,
      "outputs": [
        {
          "output_type": "execute_result",
          "data": {
            "text/plain": [
              "{'CHEMICAL', 'DISEASE'}"
            ]
          },
          "metadata": {},
          "execution_count": 14
        }
      ]
    },
    {
      "cell_type": "code",
      "source": [
        "for dd in d:\n",
        "  print(dd)"
      ],
      "metadata": {
        "colab": {
          "base_uri": "https://localhost:8080/"
        },
        "id": "fpFk7XKZL_Mf",
        "outputId": "461eddc5-4b03-4acc-fd20-5dd28e2ff5ad"
      },
      "execution_count": null,
      "outputs": [
        {
          "output_type": "stream",
          "name": "stdout",
          "text": [
            "('hypolocomotion', 'DISEASE')\n",
            "('humulene pinene linalool geraniol', 'CHEMICAL')\n",
            "('win55 2122', 'CHEMICAL')\n",
            "('terpene', 'CHEMICAL')\n"
          ]
        }
      ]
    }
  ]
}