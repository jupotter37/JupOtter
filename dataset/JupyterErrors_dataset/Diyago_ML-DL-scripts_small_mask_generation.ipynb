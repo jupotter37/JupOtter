{
 "cells": [
  {
   "cell_type": "code",
   "execution_count": 2,
   "metadata": {},
   "outputs": [],
   "source": [
    "%matplotlib inline\n",
    "\n",
    "import sys\n",
    "sys.path.append('/input')\n",
    "import os\n",
    "\n",
    "import numpy as np\n",
    "import pandas as pd\n",
    "from sklearn.externals import joblib\n",
    "from tqdm import tqdm_notebook as tqdm\n",
    "import matplotlib.pyplot as plt\n",
    "\n",
    "METADATA_FILEPATH = './meta/files/metadata.csv'\n",
    "IMG_DIR = '/output/auxiliary_data'\n",
    "IMG_DIR_MASKS =os.path.join(IMG_DIR,'masks')\n",
    "AUXILIARY_METADATA_FILEPATH = '/output/auxiliary_metadata.csv'"
   ]
  },
  {
   "cell_type": "code",
   "execution_count": 6,
   "metadata": {},
   "outputs": [],
   "source": [
    "import logging\n",
    "import os\n",
    "import pathlib\n",
    "import random\n",
    "import sys\n",
    "import time\n",
    "from itertools import chain\n",
    "from collections import Iterable\n",
    "import gc\n",
    "\n",
    "import numpy as np\n",
    "import pandas as pd\n",
    "import torch\n",
    "from PIL import Image\n",
    "import matplotlib.pyplot as plt\n",
    "from tqdm import tqdm\n",
    "from skimage.transform import resize\n",
    "import yaml\n",
    "\n",
    "\n",
    "def plot_list(images=[], labels=[]):\n",
    "    n_img = len(images)\n",
    "    n_lab = len(labels)\n",
    "    n = n_lab + n_img\n",
    "    fig, axs = plt.subplots(1, n, figsize=(16, 12))\n",
    "    for i, image in enumerate(images):\n",
    "        axs[i].imshow(image)\n",
    "        axs[i].set_xticks([])\n",
    "        axs[i].set_yticks([])\n",
    "    for j, label in enumerate(labels):\n",
    "        axs[n_img + j].imshow(label, cmap='nipy_spectral')\n",
    "        axs[n_img + j].set_xticks([])\n",
    "        axs[n_img + j].set_yticks([])\n",
    "    plt.show()\n",
    "\n",
    "    \n",
    "def load_image(filepath, is_mask=False):\n",
    "    if is_mask:\n",
    "        img = (np.array(Image.open(filepath)) > 0).astype(np.uint8)\n",
    "    else:\n",
    "        img = np.array(Image.open(filepath)).astype(np.uint8)\n",
    "    return img\n",
    "\n",
    "\n",
    "def save_image(img, filepath):\n",
    "    img = Image.fromarray((img))\n",
    "    img.save(filepath)\n",
    "\n",
    "\n",
    "def resize_image(image, target_shape, is_mask=False):\n",
    "    if is_mask:\n",
    "        image = (resize(image, target_shape, preserve_range=True) > 0).astype(int)\n",
    "    else:\n",
    "        image = resize(image, target_shape)\n",
    "    return image\n",
    "\n",
    "\n",
    "def get_cut_coordinates(mask, step=4, min_img_crop=20, min_size=50, max_size=300):\n",
    "    h, w = mask.shape\n",
    "    ts = []\n",
    "    rots = [1, 2, 3, 0]\n",
    "    for rot in rots:\n",
    "        mask = np.rot90(mask)\n",
    "        for t in range(min_img_crop, h, step):\n",
    "            crop = mask[:t, :t]\n",
    "            size = crop.mean() * h * w\n",
    "            if min_size < size <= max_size:\n",
    "                break\n",
    "        ts.append((t, rot))\n",
    "    try:\n",
    "        ts = [(t, r) for t, r in ts if t < 99]\n",
    "        best_t, best_rot = sorted(ts, key=lambda x: x[0], reverse=True)[0]\n",
    "    except IndexError:\n",
    "        return (0, w), (0, h), False\n",
    "    if best_t < min_img_crop:\n",
    "        return (0, w), (0, h), False\n",
    "\n",
    "    if best_rot == 0:\n",
    "        x1, x2, y1, y2 = 0, best_t, 0, best_t\n",
    "    elif best_rot == 1:\n",
    "        x1, x2, y1, y2 = 0, best_t, h - best_t, h\n",
    "    elif best_rot == 2:\n",
    "        x1, x2, y1, y2 = w - best_t, w, h - best_t, h\n",
    "    elif best_rot == 3:\n",
    "        x1, x2, y1, y2 = w - best_t, w, 0, best_t\n",
    "    else:\n",
    "        raise ValueError\n",
    "    return (x1, x2), (y1, y2), True"
   ]
  },
  {
   "cell_type": "code",
   "execution_count": 5,
   "metadata": {},
   "outputs": [
    {
     "data": {
      "text/html": [
       "<div>\n",
       "<style scoped>\n",
       "    .dataframe tbody tr th:only-of-type {\n",
       "        vertical-align: middle;\n",
       "    }\n",
       "\n",
       "    .dataframe tbody tr th {\n",
       "        vertical-align: top;\n",
       "    }\n",
       "\n",
       "    .dataframe thead th {\n",
       "        text-align: right;\n",
       "    }\n",
       "</style>\n",
       "<table border=\"1\" class=\"dataframe\">\n",
       "  <thead>\n",
       "    <tr style=\"text-align: right;\">\n",
       "      <th></th>\n",
       "      <th>file_path_image</th>\n",
       "      <th>file_path_mask</th>\n",
       "      <th>is_train</th>\n",
       "      <th>id</th>\n",
       "      <th>z</th>\n",
       "    </tr>\n",
       "  </thead>\n",
       "  <tbody>\n",
       "    <tr>\n",
       "      <th>0</th>\n",
       "      <td>../input/train/images/dc0119712d.png</td>\n",
       "      <td>../input/train/masks/dc0119712d.png</td>\n",
       "      <td>1</td>\n",
       "      <td>dc0119712d</td>\n",
       "      <td>458</td>\n",
       "    </tr>\n",
       "    <tr>\n",
       "      <th>1</th>\n",
       "      <td>../input/train/images/7e737a6cc6.png</td>\n",
       "      <td>../input/train/masks/7e737a6cc6.png</td>\n",
       "      <td>1</td>\n",
       "      <td>7e737a6cc6</td>\n",
       "      <td>557</td>\n",
       "    </tr>\n",
       "    <tr>\n",
       "      <th>2</th>\n",
       "      <td>../input/train/images/f7380099f6.png</td>\n",
       "      <td>../input/train/masks/f7380099f6.png</td>\n",
       "      <td>1</td>\n",
       "      <td>f7380099f6</td>\n",
       "      <td>796</td>\n",
       "    </tr>\n",
       "    <tr>\n",
       "      <th>3</th>\n",
       "      <td>../input/train/images/b345b1f290.png</td>\n",
       "      <td>../input/train/masks/b345b1f290.png</td>\n",
       "      <td>1</td>\n",
       "      <td>b345b1f290</td>\n",
       "      <td>355</td>\n",
       "    </tr>\n",
       "    <tr>\n",
       "      <th>4</th>\n",
       "      <td>../input/train/images/7145f7e956.png</td>\n",
       "      <td>../input/train/masks/7145f7e956.png</td>\n",
       "      <td>1</td>\n",
       "      <td>7145f7e956</td>\n",
       "      <td>647</td>\n",
       "    </tr>\n",
       "  </tbody>\n",
       "</table>\n",
       "</div>"
      ],
      "text/plain": [
       "                        file_path_image                       file_path_mask  \\\n",
       "0  ../input/train/images/dc0119712d.png  ../input/train/masks/dc0119712d.png   \n",
       "1  ../input/train/images/7e737a6cc6.png  ../input/train/masks/7e737a6cc6.png   \n",
       "2  ../input/train/images/f7380099f6.png  ../input/train/masks/f7380099f6.png   \n",
       "3  ../input/train/images/b345b1f290.png  ../input/train/masks/b345b1f290.png   \n",
       "4  ../input/train/images/7145f7e956.png  ../input/train/masks/7145f7e956.png   \n",
       "\n",
       "   is_train          id    z  \n",
       "0         1  dc0119712d  458  \n",
       "1         1  7e737a6cc6  557  \n",
       "2         1  f7380099f6  796  \n",
       "3         1  b345b1f290  355  \n",
       "4         1  7145f7e956  647  "
      ]
     },
     "execution_count": 5,
     "metadata": {},
     "output_type": "execute_result"
    }
   ],
   "source": [
    "metadata = pd.read_csv(METADATA_FILEPATH)\n",
    "metadata_train = metadata[metadata['is_train']==1]\n",
    "metadata_train.head()"
   ]
  },
  {
   "cell_type": "markdown",
   "metadata": {},
   "source": [
    "# Filter larger masks"
   ]
  },
  {
   "cell_type": "code",
   "execution_count": 7,
   "metadata": {},
   "outputs": [
    {
     "name": "stderr",
     "output_type": "stream",
     "text": [
      "100%|██████████| 4000/4000 [00:01<00:00, 2012.50it/s]\n",
      "/home/dex/anaconda3/lib/python3.6/site-packages/ipykernel_launcher.py:6: SettingWithCopyWarning: \n",
      "A value is trying to be set on a copy of a slice from a DataFrame.\n",
      "Try using .loc[row_indexer,col_indexer] = value instead\n",
      "\n",
      "See the caveats in the documentation: http://pandas.pydata.org/pandas-docs/stable/indexing.html#indexing-view-versus-copy\n",
      "  \n"
     ]
    },
    {
     "data": {
      "text/html": [
       "<div>\n",
       "<style scoped>\n",
       "    .dataframe tbody tr th:only-of-type {\n",
       "        vertical-align: middle;\n",
       "    }\n",
       "\n",
       "    .dataframe tbody tr th {\n",
       "        vertical-align: top;\n",
       "    }\n",
       "\n",
       "    .dataframe thead th {\n",
       "        text-align: right;\n",
       "    }\n",
       "</style>\n",
       "<table border=\"1\" class=\"dataframe\">\n",
       "  <thead>\n",
       "    <tr style=\"text-align: right;\">\n",
       "      <th></th>\n",
       "      <th>file_path_image</th>\n",
       "      <th>file_path_mask</th>\n",
       "      <th>is_train</th>\n",
       "      <th>id</th>\n",
       "      <th>z</th>\n",
       "      <th>size</th>\n",
       "    </tr>\n",
       "  </thead>\n",
       "  <tbody>\n",
       "    <tr>\n",
       "      <th>1</th>\n",
       "      <td>../input/train/images/7e737a6cc6.png</td>\n",
       "      <td>../input/train/masks/7e737a6cc6.png</td>\n",
       "      <td>1</td>\n",
       "      <td>7e737a6cc6</td>\n",
       "      <td>557</td>\n",
       "      <td>920</td>\n",
       "    </tr>\n",
       "    <tr>\n",
       "      <th>2</th>\n",
       "      <td>../input/train/images/f7380099f6.png</td>\n",
       "      <td>../input/train/masks/f7380099f6.png</td>\n",
       "      <td>1</td>\n",
       "      <td>f7380099f6</td>\n",
       "      <td>796</td>\n",
       "      <td>6060</td>\n",
       "    </tr>\n",
       "    <tr>\n",
       "      <th>5</th>\n",
       "      <td>../input/train/images/3c10a71f62.png</td>\n",
       "      <td>../input/train/masks/3c10a71f62.png</td>\n",
       "      <td>1</td>\n",
       "      <td>3c10a71f62</td>\n",
       "      <td>328</td>\n",
       "      <td>2713</td>\n",
       "    </tr>\n",
       "    <tr>\n",
       "      <th>6</th>\n",
       "      <td>../input/train/images/8686b3a5d4.png</td>\n",
       "      <td>../input/train/masks/8686b3a5d4.png</td>\n",
       "      <td>1</td>\n",
       "      <td>8686b3a5d4</td>\n",
       "      <td>715</td>\n",
       "      <td>5944</td>\n",
       "    </tr>\n",
       "    <tr>\n",
       "      <th>9</th>\n",
       "      <td>../input/train/images/211dca3b80.png</td>\n",
       "      <td>../input/train/masks/211dca3b80.png</td>\n",
       "      <td>1</td>\n",
       "      <td>211dca3b80</td>\n",
       "      <td>545</td>\n",
       "      <td>4578</td>\n",
       "    </tr>\n",
       "  </tbody>\n",
       "</table>\n",
       "</div>"
      ],
      "text/plain": [
       "                        file_path_image                       file_path_mask  \\\n",
       "1  ../input/train/images/7e737a6cc6.png  ../input/train/masks/7e737a6cc6.png   \n",
       "2  ../input/train/images/f7380099f6.png  ../input/train/masks/f7380099f6.png   \n",
       "5  ../input/train/images/3c10a71f62.png  ../input/train/masks/3c10a71f62.png   \n",
       "6  ../input/train/images/8686b3a5d4.png  ../input/train/masks/8686b3a5d4.png   \n",
       "9  ../input/train/images/211dca3b80.png  ../input/train/masks/211dca3b80.png   \n",
       "\n",
       "   is_train          id    z  size  \n",
       "1         1  7e737a6cc6  557   920  \n",
       "2         1  f7380099f6  796  6060  \n",
       "5         1  3c10a71f62  328  2713  \n",
       "6         1  8686b3a5d4  715  5944  \n",
       "9         1  211dca3b80  545  4578  "
      ]
     },
     "execution_count": 7,
     "metadata": {},
     "output_type": "execute_result"
    }
   ],
   "source": [
    "sizes = []\n",
    "for file_path in tqdm(metadata_train.file_path_mask):\n",
    "    mask = load_image(file_path, is_mask=True)\n",
    "    sizes.append(mask.sum())\n",
    "    \n",
    "metadata_train['size'] = sizes\n",
    "\n",
    "metadata_large_masks = metadata_train[metadata_train['size'].between(300,8000)]\n",
    "metadata_large_masks.head()"
   ]
  },
  {
   "cell_type": "markdown",
   "metadata": {},
   "source": [
    "# Explore cut results"
   ]
  },
  {
   "cell_type": "code",
   "execution_count": 9,
   "metadata": {},
   "outputs": [
    {
     "name": "stderr",
     "output_type": "stream",
     "text": [
      "/home/dex/anaconda3/lib/python3.6/site-packages/skimage/transform/_warps.py:105: UserWarning: The default mode, 'constant', will be changed to 'reflect' in skimage 0.15.\n",
      "  warn(\"The default mode, 'constant', will be changed to 'reflect' in \"\n",
      "/home/dex/anaconda3/lib/python3.6/site-packages/skimage/transform/_warps.py:110: UserWarning: Anti-aliasing will be enabled by default in skimage 0.15 to avoid aliasing artifacts when down-sampling images.\n",
      "  warn(\"Anti-aliasing will be enabled by default in skimage 0.15 to \"\n"
     ]
    },
    {
     "data": {
      "image/png": "[encoded data removed]",
      "text/plain": [
       "<Figure size 1152x864 with 4 Axes>"
      ]
     },
     "metadata": {},
     "output_type": "display_data"
    }
   ],
   "source": [
    "def present_cut(idx):\n",
    "    row = metadata_large_masks.iloc[idx]\n",
    "    image = load_image(row.file_path_image, is_mask=False)\n",
    "    mask = load_image(row.file_path_mask, is_mask=True)\n",
    "    (x1,x2),(y1,y2), was_cropped = get_cut_coordinates(mask,step=4, min_size=50, max_size=300)\n",
    "    if was_cropped:\n",
    "        synthetic_mask = resize_image(mask[x1:x2,y1:y2], (101,101),is_mask=True)\n",
    "        synthetic_image = resize_image(image[x1:x2,y1:y2], (101,101))\n",
    "        plot_list(images=[image, synthetic_image], labels=[mask, synthetic_mask])\n",
    "        \n",
    "present_cut(idx=18)"
   ]
  },
  {
   "cell_type": "markdown",
   "metadata": {},
   "source": [
    "# Prepare synthetic data"
   ]
  },
  {
   "cell_type": "code",
   "execution_count": 7,
   "metadata": {},
   "outputs": [],
   "source": [
    "!mkdir /output/auxiliary_data\n",
    "!mkdir /output/auxiliary_data/masks /output/auxiliary_data/images"
   ]
  },
  {
   "cell_type": "code",
   "execution_count": 10,
   "metadata": {},
   "outputs": [
    {
     "name": "stderr",
     "output_type": "stream",
     "text": [
      "0it [00:00, ?it/s]/home/dex/anaconda3/lib/python3.6/site-packages/skimage/transform/_warps.py:105: UserWarning: The default mode, 'constant', will be changed to 'reflect' in skimage 0.15.\n",
      "  warn(\"The default mode, 'constant', will be changed to 'reflect' in \"\n",
      "/home/dex/anaconda3/lib/python3.6/site-packages/skimage/transform/_warps.py:110: UserWarning: Anti-aliasing will be enabled by default in skimage 0.15 to avoid aliasing artifacts when down-sampling images.\n",
      "  warn(\"Anti-aliasing will be enabled by default in skimage 0.15 to \"\n",
      "\n"
     ]
    },
    {
     "ename": "FileNotFoundError",
     "evalue": "[Errno 2] No such file or directory: '/output/auxiliary_data/images/7e737a6cc6.png'",
     "output_type": "error",
     "traceback": [
      "\u001b[0;31m---------------------------------------------------------------------------\u001b[0m",
      "\u001b[0;31mFileNotFoundError\u001b[0m                         Traceback (most recent call last)",
      "\u001b[0;32m<ipython-input-10-7e5c588672bf>\u001b[0m in \u001b[0;36m<module>\u001b[0;34m()\u001b[0m\n\u001b[1;32m     11\u001b[0m         \u001b[0mfile_path_image\u001b[0m\u001b[0;34m=\u001b[0m\u001b[0mos\u001b[0m\u001b[0;34m.\u001b[0m\u001b[0mpath\u001b[0m\u001b[0;34m.\u001b[0m\u001b[0mjoin\u001b[0m\u001b[0;34m(\u001b[0m\u001b[0mIMG_DIR\u001b[0m\u001b[0;34m,\u001b[0m\u001b[0;34m'images'\u001b[0m\u001b[0;34m,\u001b[0m\u001b[0;34m'{}.png'\u001b[0m\u001b[0;34m.\u001b[0m\u001b[0mformat\u001b[0m\u001b[0;34m(\u001b[0m\u001b[0midx\u001b[0m\u001b[0;34m)\u001b[0m\u001b[0;34m)\u001b[0m\u001b[0;34m\u001b[0m\u001b[0m\n\u001b[1;32m     12\u001b[0m         \u001b[0mfile_path_mask\u001b[0m\u001b[0;34m=\u001b[0m\u001b[0mos\u001b[0m\u001b[0;34m.\u001b[0m\u001b[0mpath\u001b[0m\u001b[0;34m.\u001b[0m\u001b[0mjoin\u001b[0m\u001b[0;34m(\u001b[0m\u001b[0mIMG_DIR\u001b[0m\u001b[0;34m,\u001b[0m\u001b[0;34m'masks'\u001b[0m\u001b[0;34m,\u001b[0m\u001b[0;34m'{}.png'\u001b[0m\u001b[0;34m.\u001b[0m\u001b[0mformat\u001b[0m\u001b[0;34m(\u001b[0m\u001b[0midx\u001b[0m\u001b[0;34m)\u001b[0m\u001b[0;34m)\u001b[0m\u001b[0;34m\u001b[0m\u001b[0m\n\u001b[0;32m---> 13\u001b[0;31m         \u001b[0msave_image\u001b[0m\u001b[0;34m(\u001b[0m\u001b[0msynthetic_image\u001b[0m\u001b[0;34m,\u001b[0m \u001b[0mfile_path_image\u001b[0m\u001b[0;34m)\u001b[0m\u001b[0;34m\u001b[0m\u001b[0m\n\u001b[0m\u001b[1;32m     14\u001b[0m         \u001b[0msave_image\u001b[0m\u001b[0;34m(\u001b[0m\u001b[0msynthetic_mask\u001b[0m\u001b[0;34m,\u001b[0m \u001b[0mfile_path_mask\u001b[0m\u001b[0;34m)\u001b[0m\u001b[0;34m\u001b[0m\u001b[0m\n\u001b[1;32m     15\u001b[0m         \u001b[0mtest\u001b[0m\u001b[0;34m=\u001b[0m\u001b[0mload_image\u001b[0m\u001b[0;34m(\u001b[0m\u001b[0mfile_path_mask\u001b[0m\u001b[0;34m)\u001b[0m\u001b[0;34m\u001b[0m\u001b[0m\n",
      "\u001b[0;32m<ipython-input-6-98b31cad37d9>\u001b[0m in \u001b[0;36msave_image\u001b[0;34m(img, filepath)\u001b[0m\n\u001b[1;32m     45\u001b[0m \u001b[0;32mdef\u001b[0m \u001b[0msave_image\u001b[0m\u001b[0;34m(\u001b[0m\u001b[0mimg\u001b[0m\u001b[0;34m,\u001b[0m \u001b[0mfilepath\u001b[0m\u001b[0;34m)\u001b[0m\u001b[0;34m:\u001b[0m\u001b[0;34m\u001b[0m\u001b[0m\n\u001b[1;32m     46\u001b[0m     \u001b[0mimg\u001b[0m \u001b[0;34m=\u001b[0m \u001b[0mImage\u001b[0m\u001b[0;34m.\u001b[0m\u001b[0mfromarray\u001b[0m\u001b[0;34m(\u001b[0m\u001b[0;34m(\u001b[0m\u001b[0mimg\u001b[0m\u001b[0;34m)\u001b[0m\u001b[0;34m)\u001b[0m\u001b[0;34m\u001b[0m\u001b[0m\n\u001b[0;32m---> 47\u001b[0;31m     \u001b[0mimg\u001b[0m\u001b[0;34m.\u001b[0m\u001b[0msave\u001b[0m\u001b[0;34m(\u001b[0m\u001b[0mfilepath\u001b[0m\u001b[0;34m)\u001b[0m\u001b[0;34m\u001b[0m\u001b[0m\n\u001b[0m\u001b[1;32m     48\u001b[0m \u001b[0;34m\u001b[0m\u001b[0m\n\u001b[1;32m     49\u001b[0m \u001b[0;34m\u001b[0m\u001b[0m\n",
      "\u001b[0;32m~/anaconda3/lib/python3.6/site-packages/PIL/Image.py\u001b[0m in \u001b[0;36msave\u001b[0;34m(self, fp, format, **params)\u001b[0m\n\u001b[1;32m   1945\u001b[0m                 \u001b[0;31m# Open also for reading (\"+\"), because TIFF save_all\u001b[0m\u001b[0;34m\u001b[0m\u001b[0;34m\u001b[0m\u001b[0m\n\u001b[1;32m   1946\u001b[0m                 \u001b[0;31m# writer needs to go back and edit the written data.\u001b[0m\u001b[0;34m\u001b[0m\u001b[0;34m\u001b[0m\u001b[0m\n\u001b[0;32m-> 1947\u001b[0;31m                 \u001b[0mfp\u001b[0m \u001b[0;34m=\u001b[0m \u001b[0mbuiltins\u001b[0m\u001b[0;34m.\u001b[0m\u001b[0mopen\u001b[0m\u001b[0;34m(\u001b[0m\u001b[0mfilename\u001b[0m\u001b[0;34m,\u001b[0m \u001b[0;34m\"w+b\"\u001b[0m\u001b[0;34m)\u001b[0m\u001b[0;34m\u001b[0m\u001b[0m\n\u001b[0m\u001b[1;32m   1948\u001b[0m \u001b[0;34m\u001b[0m\u001b[0m\n\u001b[1;32m   1949\u001b[0m         \u001b[0;32mtry\u001b[0m\u001b[0;34m:\u001b[0m\u001b[0;34m\u001b[0m\u001b[0m\n",
      "\u001b[0;31mFileNotFoundError\u001b[0m: [Errno 2] No such file or directory: '/output/auxiliary_data/images/7e737a6cc6.png'"
     ]
    }
   ],
   "source": [
    "file_path_images,file_path_masks,ids, zs = [],[],[],[]\n",
    "for _, row in tqdm(metadata_large_masks.iterrows()):\n",
    "    image = load_image(row.file_path_image, is_mask=False)\n",
    "    mask = load_image(row.file_path_mask, is_mask=True)\n",
    "    (x1,x2),(y1,y2), was_cropped = get_cut_coordinates(mask,step=4, min_size=50, max_size=300)\n",
    "    if was_cropped:\n",
    "        synthetic_mask = resize_image(mask[x1:x2,y1:y2], (101,101),is_mask=True).astype(np.uint8)\n",
    "        synthetic_image = (resize_image(image[x1:x2,y1:y2], (101,101))*255.).astype(np.uint8)\n",
    "        idx = row.id\n",
    "        \n",
    "        file_path_image=os.path.join(IMG_DIR,'images','{}.png'.format(idx))\n",
    "        file_path_mask=os.path.join(IMG_DIR,'masks','{}.png'.format(idx))\n",
    "        save_image(synthetic_image, file_path_image)\n",
    "        save_image(synthetic_mask, file_path_mask)\n",
    "        test=load_image(file_path_mask)\n",
    "    \n",
    "        file_path_images.append(file_path_image)\n",
    "        file_path_masks.append(file_path_mask)\n",
    "        ids.append(idx)\n",
    "        zs.append(row.z)"
   ]
  },
  {
   "cell_type": "code",
   "execution_count": 9,
   "metadata": {},
   "outputs": [],
   "source": [
    "metadata_small_masks = pd.DataFrame({'file_path_image':file_path_images,\n",
    "                                     'file_path_mask':file_path_masks,\n",
    "                                     'id':ids,\n",
    "                                     'z':zs\n",
    "                                    })\n",
    "metadata_small_masks['is_train']=1"
   ]
  },
  {
   "cell_type": "code",
   "execution_count": 10,
   "metadata": {},
   "outputs": [
    {
     "data": {
      "text/plain": [
       "(1488, 5)"
      ]
     },
     "metadata": {},
     "output_type": "display_data"
    },
    {
     "data": {
      "text/html": [
       "<div>\n",
       "<style scoped>\n",
       "    .dataframe tbody tr th:only-of-type {\n",
       "        vertical-align: middle;\n",
       "    }\n",
       "\n",
       "    .dataframe tbody tr th {\n",
       "        vertical-align: top;\n",
       "    }\n",
       "\n",
       "    .dataframe thead th {\n",
       "        text-align: right;\n",
       "    }\n",
       "</style>\n",
       "<table border=\"1\" class=\"dataframe\">\n",
       "  <thead>\n",
       "    <tr style=\"text-align: right;\">\n",
       "      <th></th>\n",
       "      <th>file_path_image</th>\n",
       "      <th>file_path_mask</th>\n",
       "      <th>id</th>\n",
       "      <th>z</th>\n",
       "      <th>is_train</th>\n",
       "    </tr>\n",
       "  </thead>\n",
       "  <tbody>\n",
       "    <tr>\n",
       "      <th>0</th>\n",
       "      <td>/output/auxiliary_data/images/bd20d18369.png</td>\n",
       "      <td>/output/auxiliary_data/masks/bd20d18369.png</td>\n",
       "      <td>bd20d18369</td>\n",
       "      <td>513</td>\n",
       "      <td>1</td>\n",
       "    </tr>\n",
       "    <tr>\n",
       "      <th>1</th>\n",
       "      <td>/output/auxiliary_data/images/5aee63c515.png</td>\n",
       "      <td>/output/auxiliary_data/masks/5aee63c515.png</td>\n",
       "      <td>5aee63c515</td>\n",
       "      <td>611</td>\n",
       "      <td>1</td>\n",
       "    </tr>\n",
       "    <tr>\n",
       "      <th>2</th>\n",
       "      <td>/output/auxiliary_data/images/e560423302.png</td>\n",
       "      <td>/output/auxiliary_data/masks/e560423302.png</td>\n",
       "      <td>e560423302</td>\n",
       "      <td>585</td>\n",
       "      <td>1</td>\n",
       "    </tr>\n",
       "    <tr>\n",
       "      <th>3</th>\n",
       "      <td>/output/auxiliary_data/images/a21ae8cb6b.png</td>\n",
       "      <td>/output/auxiliary_data/masks/a21ae8cb6b.png</td>\n",
       "      <td>a21ae8cb6b</td>\n",
       "      <td>798</td>\n",
       "      <td>1</td>\n",
       "    </tr>\n",
       "    <tr>\n",
       "      <th>4</th>\n",
       "      <td>/output/auxiliary_data/images/eaefc56247.png</td>\n",
       "      <td>/output/auxiliary_data/masks/eaefc56247.png</td>\n",
       "      <td>eaefc56247</td>\n",
       "      <td>455</td>\n",
       "      <td>1</td>\n",
       "    </tr>\n",
       "  </tbody>\n",
       "</table>\n",
       "</div>"
      ],
      "text/plain": [
       "                                file_path_image  \\\n",
       "0  /output/auxiliary_data/images/bd20d18369.png   \n",
       "1  /output/auxiliary_data/images/5aee63c515.png   \n",
       "2  /output/auxiliary_data/images/e560423302.png   \n",
       "3  /output/auxiliary_data/images/a21ae8cb6b.png   \n",
       "4  /output/auxiliary_data/images/eaefc56247.png   \n",
       "\n",
       "                                file_path_mask          id    z  is_train  \n",
       "0  /output/auxiliary_data/masks/bd20d18369.png  bd20d18369  513         1  \n",
       "1  /output/auxiliary_data/masks/5aee63c515.png  5aee63c515  611         1  \n",
       "2  /output/auxiliary_data/masks/e560423302.png  e560423302  585         1  \n",
       "3  /output/auxiliary_data/masks/a21ae8cb6b.png  a21ae8cb6b  798         1  \n",
       "4  /output/auxiliary_data/masks/eaefc56247.png  eaefc56247  455         1  "
      ]
     },
     "execution_count": 10,
     "metadata": {},
     "output_type": "execute_result"
    }
   ],
   "source": [
    "display(metadata_small_masks.shape)\n",
    "metadata_small_masks.head()"
   ]
  },
  {
   "cell_type": "code",
   "execution_count": 11,
   "metadata": {},
   "outputs": [],
   "source": [
    "metadata_small_masks.to_csv(AUXILIARY_METADATA_FILEPATH)"
   ]
  },
  {
   "cell_type": "code",
   "execution_count": 11,
   "metadata": {},
   "outputs": [
    {
     "name": "stdout",
     "output_type": "stream",
     "text": [
      " augmentations.ipynb\t     meta\r\n",
      " auxiliary_metadata.csv      modules\r\n",
      " common_blocks\t\t     offline_job.log\r\n",
      " configs\t\t    'OpenSolution results.ipynb'\r\n",
      " data_exploration.ipynb      requirements.txt\r\n",
      " Main-folds.ipynb\t     result_exploration.ipynb\r\n",
      "'Main folds neptune.ipynb'   small_mask_generation.ipynb\r\n",
      " Main.ipynb\t\t    'Untitled 1.ods'\r\n",
      " main.py\r\n"
     ]
    }
   ],
   "source": [
    "!ls"
   ]
  },
  {
   "cell_type": "code",
   "execution_count": 3,
   "metadata": {},
   "outputs": [],
   "source": [
    "meta = pd.read_csv('auxiliary_metadata.csv')\n",
    "depths = pd.read_csv('depths.csv')"
   ]
  },
  {
   "cell_type": "code",
   "execution_count": 4,
   "metadata": {},
   "outputs": [],
   "source": [
    "meta = meta.merge(depths)[['file_path_image', 'z']] #.to_csv('auxiliary.csv', index = False)"
   ]
  },
  {
   "cell_type": "code",
   "execution_count": 5,
   "metadata": {},
   "outputs": [
    {
     "data": {
      "text/plain": [
       "((22000, 2), (1488, 2))"
      ]
     },
     "execution_count": 5,
     "metadata": {},
     "output_type": "execute_result"
    }
   ],
   "source": [
    "depths.shape, meta.shape"
   ]
  },
  {
   "cell_type": "code",
   "execution_count": 12,
   "metadata": {},
   "outputs": [],
   "source": [
    "meta['file_path_image'] = 'aux' + meta['file_path_image']"
   ]
  },
  {
   "cell_type": "code",
   "execution_count": 14,
   "metadata": {},
   "outputs": [],
   "source": [
    "meta.to_csv('auxiliary.csv', index = False)"
   ]
  },
  {
   "cell_type": "code",
   "execution_count": 11,
   "metadata": {},
   "outputs": [
    {
     "data": {
      "text/plain": [
       "<matplotlib.axes._subplots.AxesSubplot at 0x7f6ba57d8f60>"
      ]
     },
     "execution_count": 11,
     "metadata": {},
     "output_type": "execute_result"
    },
    {
     "data": {
      "image/png": "[encoded data removed]",
      "text/plain": [
       "<Figure size 1080x576 with 1 Axes>"
      ]
     },
     "metadata": {},
     "output_type": "display_data"
    }
   ],
   "source": [
    "import seaborn as sns\n",
    "from matplotlib import pyplot as plt\n",
    "%matplotlib inline\n",
    "\n",
    "sns.set(style=\"ticks\", palette=\"pastel\")\n",
    "# Load the example tips dataset\n",
    "tips = sns.load_dataset(\"tips\")\n",
    "plt.figure(figsize=(15,8))\n",
    "# Draw a nested boxplot to show bills by day and time\n",
    "sns.boxplot(x=\"day\", y=\"total_bill\",\n",
    "            hue=\"smoker\", palette=[\"m\", \"g\"],\n",
    "            data=tips)\n",
    "#sns.despine(offset=10, trim=True)"
   ]
  },
  {
   "cell_type": "code",
   "execution_count": null,
   "metadata": {},
   "outputs": [],
   "source": []
  }
 ],
 "metadata": {
  "kernelspec": {
   "display_name": "Python 3",
   "language": "python",
   "name": "python3"
  },
  "language_info": {
   "codemirror_mode": {
    "name": "ipython",
    "version": 3
   },
   "file_extension": ".py",
   "mimetype": "text/x-python",
   "name": "python",
   "nbconvert_exporter": "python",
   "pygments_lexer": "ipython3",
   "version": "3.6.6"
  }
 },
 "nbformat": 4,
 "nbformat_minor": 2
}
