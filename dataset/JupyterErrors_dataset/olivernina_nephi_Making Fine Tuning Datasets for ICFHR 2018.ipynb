{
 "cells": [
  {
   "cell_type": "markdown",
   "metadata": {},
   "source": [
    "## The following code makes lmdb databases for the specific data in the ICFHR 2018 competition. Part of the competition is to find out how many pages of specific documents are truly necessary to successfully fine tune a general handwriting recognition model to a particular document type. They have provided 1, 4 and 16 pages of each document type to test fine-tuning performance on the test set. I believe a good validation split for us is to fine-tune on the 8 pages not in the 4 page set, and then validate on the 4 pages. The provided 1 and 4 page sets are strict subsets of the fine-tune lists with more numbers of pages (4 and 16, respectively)"
   ]
  },
  {
   "cell_type": "code",
   "execution_count": 5,
   "metadata": {
    "collapsed": true
   },
   "outputs": [],
   "source": [
    "import os\n",
    "import sys\n",
    "from glob import glob\n",
    "import shutil\n",
    "import subprocess"
   ]
  },
  {
   "cell_type": "code",
   "execution_count": 6,
   "metadata": {
    "collapsed": true
   },
   "outputs": [],
   "source": [
    "#lmdb_database_base = \"/deep_data/nephi/data/lmdb_ICFHR/specific_data_each_doc\"\n",
    "#spec_tr_lists_dir = \"/deep_data/datasets/ICFHR_Data/specific_data_train_list\"\n",
    "\n",
    "lmdb_database_base = \"/home/ubuntu/russell/nephi/data/lmdb_ICFHR_bin/specific_data_each_doc/\"\n",
    "spec_tr_lists_dir = \"/home/ubuntu/datasets/read_ICFHR/specific_data_train_list/\"\n",
    "\n",
    "spec_lists_files = glob(os.path.join(spec_tr_lists_dir, \"*\"))\n",
    "dirs = [os.path.basename(f).partition(\".lst\")[0] for f in spec_lists_files]"
   ]
  },
  {
   "cell_type": "markdown",
   "metadata": {},
   "source": [
    "### Make directories for lmdb databases"
   ]
  },
  {
   "cell_type": "code",
   "execution_count": 3,
   "metadata": {
    "collapsed": true
   },
   "outputs": [],
   "source": [
    "for num in set([d.partition(\"_train_\")[0] for d in dirs]):\n",
    "    dirs.append(num + \"_train_8\")\n",
    "for d in dirs:\n",
    "    os.makedirs(os.path.join(lmdb_database_base, d))"
   ]
  },
  {
   "cell_type": "markdown",
   "metadata": {},
   "source": [
    "### Loop through all of the lists and make the 8 page fine-tuning training lists for validating our fine-tuning approach"
   ]
  },
  {
   "cell_type": "code",
   "execution_count": 4,
   "metadata": {
    "collapsed": true
   },
   "outputs": [],
   "source": [
    "#spec_val_lists_dir = \"/deep_data/datasets/ICFHR_Data/specific_data_val_list\"\n",
    "spec_val_lists_dir = \"/home/ubuntu/datasets/read_ICFHR/specific_data_val_list/\"\n",
    "for num in set([d.partition(\"_train_\")[0] for d in dirs]):\n",
    "    #list_1 = os.path.join(spec_tr_lists_dir, num + \"_train_1.lst\")\n",
    "    list_4 = os.path.join(spec_tr_lists_dir, num + \"_train_4.lst\")\n",
    "    list_16 = os.path.join(spec_tr_lists_dir, num + \"_train_16.lst\")\n",
    "    with open(list_16, \"r\") as t_16, open(list_4, \"r\") as t_4:\n",
    "        imgs_16 = set(t_16.read().split())\n",
    "        imgs_4 = set(t_4.read().split())\n",
    "        imgs_8 = imgs_16 - imgs_4\n",
    "        \n",
    "        list_8 = os.path.join(spec_val_lists_dir, num + \"_train_8.lst\")\n",
    "        \n",
    "        with open(list_8, \"w\") as val_8:\n",
    "            for img in imgs_8:\n",
    "                val_8.write(img + \"\\n\")\n",
    "        "
   ]
  },
  {
   "cell_type": "markdown",
   "metadata": {},
   "source": [
    "### Verify that the files are correct (they are correct)"
   ]
  },
  {
   "cell_type": "code",
   "execution_count": 5,
   "metadata": {
    "collapsed": false
   },
   "outputs": [
    {
     "name": "stdout",
     "output_type": "stream",
     "text": [
      "Testing number:35013\n",
      "True\n",
      "Testing number:30882\n",
      "True\n",
      "Testing number:30893\n",
      "True\n",
      "Testing number:30866\n",
      "True\n",
      "Testing number:35015\n",
      "True\n"
     ]
    }
   ],
   "source": [
    "for num in set([d.partition(\"_train_\")[0] for d in dirs]):\n",
    "    list_8 = os.path.join(spec_val_lists_dir, num + \"_train_8.lst\")\n",
    "    list_4 = os.path.join(spec_tr_lists_dir, num + \"_train_4.lst\")\n",
    "    list_16 = os.path.join(spec_tr_lists_dir, num + \"_train_16.lst\")\n",
    "    with open(list_16, \"r\") as t_16, open(list_4, \"r\") as t_4, open(list_8, \"r\") as t_8:\n",
    "        imgs_16 = set(t_16.read().split())\n",
    "        imgs_4 = set(t_4.read().split())\n",
    "        imgs_8 = set(t_8.read().split())\n",
    "        test_8 = imgs_16 - imgs_4\n",
    "        print (\"Testing number:\" + num)\n",
    "        print(str(imgs_8 == test_8))"
   ]
  },
  {
   "cell_type": "markdown",
   "metadata": {},
   "source": [
    "### Make all the python calls to create lmdb databases for all lists"
   ]
  },
  {
   "cell_type": "code",
   "execution_count": 7,
   "metadata": {
    "collapsed": false
   },
   "outputs": [
    {
     "name": "stdout",
     "output_type": "stream",
     "text": [
      "python create_dataset.py --data_dir /home/ubuntu/datasets/read_ICFHR/specific_data/ --output_dir /home/ubuntu/russell/nephi/data/lmdb_ICFHR_bin/specific_data_each_doc/35013_train_1 --icfhr --files_include /home/ubuntu/datasets/read_ICFHR/specific_data_train_list/35013_train_1.lst --binarize --howe_dir /home/ubuntu/datasets/read_ICFHR/specific_data_howe/ --simplebin_dir /home/ubuntu/datasets/read_ICFHR/specific_data_imgtxt/\n",
      "python create_dataset.py --data_dir /home/ubuntu/datasets/read_ICFHR/specific_data/ --output_dir /home/ubuntu/russell/nephi/data/lmdb_ICFHR_bin/specific_data_each_doc/35013_train_4 --icfhr --files_include /home/ubuntu/datasets/read_ICFHR/specific_data_train_list/35013_train_4.lst --binarize --howe_dir /home/ubuntu/datasets/read_ICFHR/specific_data_howe/ --simplebin_dir /home/ubuntu/datasets/read_ICFHR/specific_data_imgtxt/\n",
      "python create_dataset.py --data_dir /home/ubuntu/datasets/read_ICFHR/specific_data/ --output_dir /home/ubuntu/russell/nephi/data/lmdb_ICFHR_bin/specific_data_each_doc/35013_train_8 --icfhr --files_include /home/ubuntu/datasets/read_ICFHR/specific_data_val_list/35013_train_8.lst --binarize --howe_dir /home/ubuntu/datasets/read_ICFHR/specific_data_howe/ --simplebin_dir /home/ubuntu/datasets/read_ICFHR/specific_data_imgtxt/\n",
      "python create_dataset.py --data_dir /home/ubuntu/datasets/read_ICFHR/specific_data/ --output_dir /home/ubuntu/russell/nephi/data/lmdb_ICFHR_bin/specific_data_each_doc/35013_train_16 --icfhr --files_include /home/ubuntu/datasets/read_ICFHR/specific_data_train_list/35013_train_16.lst --binarize --howe_dir /home/ubuntu/datasets/read_ICFHR/specific_data_howe/ --simplebin_dir /home/ubuntu/datasets/read_ICFHR/specific_data_imgtxt/\n",
      "python create_dataset.py --data_dir /home/ubuntu/datasets/read_ICFHR/specific_data/ --output_dir /home/ubuntu/russell/nephi/data/lmdb_ICFHR_bin/specific_data_each_doc/30882_train_1 --icfhr --files_include /home/ubuntu/datasets/read_ICFHR/specific_data_train_list/30882_train_1.lst --binarize --howe_dir /home/ubuntu/datasets/read_ICFHR/specific_data_howe/ --simplebin_dir /home/ubuntu/datasets/read_ICFHR/specific_data_imgtxt/\n",
      "python create_dataset.py --data_dir /home/ubuntu/datasets/read_ICFHR/specific_data/ --output_dir /home/ubuntu/russell/nephi/data/lmdb_ICFHR_bin/specific_data_each_doc/30882_train_4 --icfhr --files_include /home/ubuntu/datasets/read_ICFHR/specific_data_train_list/30882_train_4.lst --binarize --howe_dir /home/ubuntu/datasets/read_ICFHR/specific_data_howe/ --simplebin_dir /home/ubuntu/datasets/read_ICFHR/specific_data_imgtxt/\n",
      "python create_dataset.py --data_dir /home/ubuntu/datasets/read_ICFHR/specific_data/ --output_dir /home/ubuntu/russell/nephi/data/lmdb_ICFHR_bin/specific_data_each_doc/30882_train_8 --icfhr --files_include /home/ubuntu/datasets/read_ICFHR/specific_data_val_list/30882_train_8.lst --binarize --howe_dir /home/ubuntu/datasets/read_ICFHR/specific_data_howe/ --simplebin_dir /home/ubuntu/datasets/read_ICFHR/specific_data_imgtxt/\n",
      "python create_dataset.py --data_dir /home/ubuntu/datasets/read_ICFHR/specific_data/ --output_dir /home/ubuntu/russell/nephi/data/lmdb_ICFHR_bin/specific_data_each_doc/30882_train_16 --icfhr --files_include /home/ubuntu/datasets/read_ICFHR/specific_data_train_list/30882_train_16.lst --binarize --howe_dir /home/ubuntu/datasets/read_ICFHR/specific_data_howe/ --simplebin_dir /home/ubuntu/datasets/read_ICFHR/specific_data_imgtxt/\n",
      "python create_dataset.py --data_dir /home/ubuntu/datasets/read_ICFHR/specific_data/ --output_dir /home/ubuntu/russell/nephi/data/lmdb_ICFHR_bin/specific_data_each_doc/30893_train_1 --icfhr --files_include /home/ubuntu/datasets/read_ICFHR/specific_data_train_list/30893_train_1.lst --binarize --howe_dir /home/ubuntu/datasets/read_ICFHR/specific_data_howe/ --simplebin_dir /home/ubuntu/datasets/read_ICFHR/specific_data_imgtxt/\n",
      "python create_dataset.py --data_dir /home/ubuntu/datasets/read_ICFHR/specific_data/ --output_dir /home/ubuntu/russell/nephi/data/lmdb_ICFHR_bin/specific_data_each_doc/30893_train_4 --icfhr --files_include /home/ubuntu/datasets/read_ICFHR/specific_data_train_list/30893_train_4.lst --binarize --howe_dir /home/ubuntu/datasets/read_ICFHR/specific_data_howe/ --simplebin_dir /home/ubuntu/datasets/read_ICFHR/specific_data_imgtxt/\n",
      "python create_dataset.py --data_dir /home/ubuntu/datasets/read_ICFHR/specific_data/ --output_dir /home/ubuntu/russell/nephi/data/lmdb_ICFHR_bin/specific_data_each_doc/30893_train_8 --icfhr --files_include /home/ubuntu/datasets/read_ICFHR/specific_data_val_list/30893_train_8.lst --binarize --howe_dir /home/ubuntu/datasets/read_ICFHR/specific_data_howe/ --simplebin_dir /home/ubuntu/datasets/read_ICFHR/specific_data_imgtxt/\n",
      "python create_dataset.py --data_dir /home/ubuntu/datasets/read_ICFHR/specific_data/ --output_dir /home/ubuntu/russell/nephi/data/lmdb_ICFHR_bin/specific_data_each_doc/30893_train_16 --icfhr --files_include /home/ubuntu/datasets/read_ICFHR/specific_data_train_list/30893_train_16.lst --binarize --howe_dir /home/ubuntu/datasets/read_ICFHR/specific_data_howe/ --simplebin_dir /home/ubuntu/datasets/read_ICFHR/specific_data_imgtxt/\n",
      "python create_dataset.py --data_dir /home/ubuntu/datasets/read_ICFHR/specific_data/ --output_dir /home/ubuntu/russell/nephi/data/lmdb_ICFHR_bin/specific_data_each_doc/30866_train_1 --icfhr --files_include /home/ubuntu/datasets/read_ICFHR/specific_data_train_list/30866_train_1.lst --binarize --howe_dir /home/ubuntu/datasets/read_ICFHR/specific_data_howe/ --simplebin_dir /home/ubuntu/datasets/read_ICFHR/specific_data_imgtxt/\n",
      "python create_dataset.py --data_dir /home/ubuntu/datasets/read_ICFHR/specific_data/ --output_dir /home/ubuntu/russell/nephi/data/lmdb_ICFHR_bin/specific_data_each_doc/30866_train_4 --icfhr --files_include /home/ubuntu/datasets/read_ICFHR/specific_data_train_list/30866_train_4.lst --binarize --howe_dir /home/ubuntu/datasets/read_ICFHR/specific_data_howe/ --simplebin_dir /home/ubuntu/datasets/read_ICFHR/specific_data_imgtxt/\n",
      "python create_dataset.py --data_dir /home/ubuntu/datasets/read_ICFHR/specific_data/ --output_dir /home/ubuntu/russell/nephi/data/lmdb_ICFHR_bin/specific_data_each_doc/30866_train_8 --icfhr --files_include /home/ubuntu/datasets/read_ICFHR/specific_data_val_list/30866_train_8.lst --binarize --howe_dir /home/ubuntu/datasets/read_ICFHR/specific_data_howe/ --simplebin_dir /home/ubuntu/datasets/read_ICFHR/specific_data_imgtxt/\n",
      "python create_dataset.py --data_dir /home/ubuntu/datasets/read_ICFHR/specific_data/ --output_dir /home/ubuntu/russell/nephi/data/lmdb_ICFHR_bin/specific_data_each_doc/30866_train_16 --icfhr --files_include /home/ubuntu/datasets/read_ICFHR/specific_data_train_list/30866_train_16.lst --binarize --howe_dir /home/ubuntu/datasets/read_ICFHR/specific_data_howe/ --simplebin_dir /home/ubuntu/datasets/read_ICFHR/specific_data_imgtxt/\n",
      "python create_dataset.py --data_dir /home/ubuntu/datasets/read_ICFHR/specific_data/ --output_dir /home/ubuntu/russell/nephi/data/lmdb_ICFHR_bin/specific_data_each_doc/35015_train_1 --icfhr --files_include /home/ubuntu/datasets/read_ICFHR/specific_data_train_list/35015_train_1.lst --binarize --howe_dir /home/ubuntu/datasets/read_ICFHR/specific_data_howe/ --simplebin_dir /home/ubuntu/datasets/read_ICFHR/specific_data_imgtxt/\n",
      "python create_dataset.py --data_dir /home/ubuntu/datasets/read_ICFHR/specific_data/ --output_dir /home/ubuntu/russell/nephi/data/lmdb_ICFHR_bin/specific_data_each_doc/35015_train_4 --icfhr --files_include /home/ubuntu/datasets/read_ICFHR/specific_data_train_list/35015_train_4.lst --binarize --howe_dir /home/ubuntu/datasets/read_ICFHR/specific_data_howe/ --simplebin_dir /home/ubuntu/datasets/read_ICFHR/specific_data_imgtxt/\n",
      "python create_dataset.py --data_dir /home/ubuntu/datasets/read_ICFHR/specific_data/ --output_dir /home/ubuntu/russell/nephi/data/lmdb_ICFHR_bin/specific_data_each_doc/35015_train_8 --icfhr --files_include /home/ubuntu/datasets/read_ICFHR/specific_data_val_list/35015_train_8.lst --binarize --howe_dir /home/ubuntu/datasets/read_ICFHR/specific_data_howe/ --simplebin_dir /home/ubuntu/datasets/read_ICFHR/specific_data_imgtxt/\n",
      "python create_dataset.py --data_dir /home/ubuntu/datasets/read_ICFHR/specific_data/ --output_dir /home/ubuntu/russell/nephi/data/lmdb_ICFHR_bin/specific_data_each_doc/35015_train_16 --icfhr --files_include /home/ubuntu/datasets/read_ICFHR/specific_data_train_list/35015_train_16.lst --binarize --howe_dir /home/ubuntu/datasets/read_ICFHR/specific_data_howe/ --simplebin_dir /home/ubuntu/datasets/read_ICFHR/specific_data_imgtxt/\n"
     ]
    }
   ],
   "source": [
    "#lmdb_database_base = \"/deep_data/nephi/data/lmdb_ICFHR/specific_data_each_doc\"\n",
    "#spec_tr_lists_dir = \"/deep_data/datasets/ICFHR_Data/specific_data_train_list\"\n",
    "#train_data = \"/deep_data/datasets/ICFHR_Data/specific_data\"\n",
    "\n",
    "lmdb_database_base = \"/home/ubuntu/russell/nephi/data/lmdb_ICFHR_bin/specific_data_each_doc/\"\n",
    "spec_tr_lists_dir = \"/home/ubuntu/datasets/read_ICFHR/specific_data_train_list/\"\n",
    "train_data = \"/home/ubuntu/datasets/read_ICFHR/specific_data/\"\n",
    "howe_data = \"/home/ubuntu/datasets/read_ICFHR/specific_data_howe/\"\n",
    "simplebin_data = \"/home/ubuntu/datasets/read_ICFHR/specific_data_imgtxt/\"\n",
    "\n",
    "#python create_dataset.py  --data_dir ~/datasets/read_ICFHR/specific_data --output_dir ~/russell/nephi/data/lmdb_ICFHR_bin/specific_data --icfhr --binarize --howe_dir ~/datasets/read_ICFHR/specific_data_howe --simplebin_dir ~/datasets/read_ICFHR/specific_data_imgtxt\n",
    "\n",
    "#python create_dataset.py  --data_dir ~/datasets/read_ICFHR/general_data  --output_dir ~/russell/nephi/data/lmdb_ICFHR_bin/general_data --icfhr --binarize --howe_dir ~/datasets/read_ICFHR/general_data_howe --simplebin_dir ~/datasets/read_ICFHR/general_data_imgtxt\n",
    "\n",
    "#python create_dataset.py ~/datasets/read_ICFHR/specific_data ~/russell/nephi/data/lmdb_ICFHR/specific_data --icfhr /file to include\n",
    "\n",
    "for num in set([d.partition(\"_train_\")[0] for d in dirs]):\n",
    "    for s in [\"1\", \"4\", \"8\", \"16\"]:\n",
    "        script=''\n",
    "        if s==\"8\":\n",
    "            script = ' '.join([\"python create_dataset.py\", \"--data_dir\", train_data, \"--output_dir\", os.path.join(lmdb_database_base, num + \"_train_\" + s), \n",
    "                               \"--icfhr\", \"--files_include\", os.path.join(spec_val_lists_dir, num + \"_train_8.lst\"),\n",
    "                              \"--binarize\", \"--howe_dir\", howe_data, \"--simplebin_dir\", simplebin_data])\n",
    "        else:\n",
    "            script = ' '.join([\"python create_dataset.py\", \"--data_dir\", train_data, \"--output_dir\", os.path.join(lmdb_database_base, num + \"_train_\" + s), \n",
    "                               \"--icfhr\", \"--files_include\", os.path.join(spec_tr_lists_dir , num + \"_train_\" + s + \".lst\"),\n",
    "                              \"--binarize\", \"--howe_dir\", howe_data, \"--simplebin_dir\", simplebin_data])\n",
    "        print(script)\n"
   ]
  },
  {
   "cell_type": "markdown",
   "metadata": {},
   "source": [
    "## Now make all python calls to create lmdb databases for all the separate test results"
   ]
  },
  {
   "cell_type": "code",
   "execution_count": 9,
   "metadata": {
    "collapsed": true
   },
   "outputs": [],
   "source": [
    "for s in [\"30866\", \"30882\", \"30893\", \"35013\", \"35015\"]:\n",
    "    os.makedirs(os.path.join(lmdb_database_base, s))"
   ]
  },
  {
   "cell_type": "code",
   "execution_count": 13,
   "metadata": {
    "collapsed": false
   },
   "outputs": [
    {
     "name": "stdout",
     "output_type": "stream",
     "text": [
      "python create_dataset.py --data_dir /home/ubuntu/datasets/read_ICFHR/test_data/30866 --output_dir /home/ubuntu/russell/nephi/data/lmdb_ICFHR_bin/test_data_each_doc/30866 --icfhr --test --binarize --howe_dir /home/ubuntu/datasets/read_ICFHR/test_data_howe/ --simplebin_dir /home/ubuntu/datasets/read_ICFHR/test_data_simplebin/\n",
      "python create_dataset.py --data_dir /home/ubuntu/datasets/read_ICFHR/test_data/30882 --output_dir /home/ubuntu/russell/nephi/data/lmdb_ICFHR_bin/test_data_each_doc/30882 --icfhr --test --binarize --howe_dir /home/ubuntu/datasets/read_ICFHR/test_data_howe/ --simplebin_dir /home/ubuntu/datasets/read_ICFHR/test_data_simplebin/\n",
      "python create_dataset.py --data_dir /home/ubuntu/datasets/read_ICFHR/test_data/30893 --output_dir /home/ubuntu/russell/nephi/data/lmdb_ICFHR_bin/test_data_each_doc/30893 --icfhr --test --binarize --howe_dir /home/ubuntu/datasets/read_ICFHR/test_data_howe/ --simplebin_dir /home/ubuntu/datasets/read_ICFHR/test_data_simplebin/\n",
      "python create_dataset.py --data_dir /home/ubuntu/datasets/read_ICFHR/test_data/35013 --output_dir /home/ubuntu/russell/nephi/data/lmdb_ICFHR_bin/test_data_each_doc/35013 --icfhr --test --binarize --howe_dir /home/ubuntu/datasets/read_ICFHR/test_data_howe/ --simplebin_dir /home/ubuntu/datasets/read_ICFHR/test_data_simplebin/\n",
      "python create_dataset.py --data_dir /home/ubuntu/datasets/read_ICFHR/test_data/35015 --output_dir /home/ubuntu/russell/nephi/data/lmdb_ICFHR_bin/test_data_each_doc/35015 --icfhr --test --binarize --howe_dir /home/ubuntu/datasets/read_ICFHR/test_data_howe/ --simplebin_dir /home/ubuntu/datasets/read_ICFHR/test_data_simplebin/\n"
     ]
    }
   ],
   "source": [
    "#python create_dataset.py --data_dir ~/datasets/read_ICFHR/test_data --output_dir \n",
    "#~/russell/nephi/data/lmdb_ICFHR_bin/test_data --icfhr --binarize --howe_dir\n",
    "#~/datasets/read_ICFHR/test_data_howe --simplebin_dir ~/datasets/read_ICFHR/test_data_simplebin --test\n",
    "\n",
    "#lmdb_database_base = \"/deep_data/nephi/data/lmdb_ICFHR/specific_data_each_doc\"\n",
    "#spec_tr_lists_dir = \"/deep_data/datasets/ICFHR_Data/specific_data_train_list\"\n",
    "#train_data = \"/deep_data/datasets/ICFHR_Data/specific_data\"\n",
    "\n",
    "lmdb_database_base = \"/home/ubuntu/russell/nephi/data/lmdb_ICFHR_bin/test_data_each_doc/\"\n",
    "train_data = \"/home/ubuntu/datasets/read_ICFHR/test_data/\"\n",
    "howe_data = \"/home/ubuntu/datasets/read_ICFHR/test_data_howe/\"\n",
    "simplebin_data = \"/home/ubuntu/datasets/read_ICFHR/test_data_simplebin/\"\n",
    "\n",
    "#python create_dataset.py  --data_dir ~/datasets/read_ICFHR/specific_data --output_dir ~/russell/nephi/data/lmdb_ICFHR_bin/specific_data --icfhr --binarize --howe_dir ~/datasets/read_ICFHR/specific_data_howe --simplebin_dir ~/datasets/read_ICFHR/specific_data_imgtxt\n",
    "\n",
    "#python create_dataset.py  --data_dir ~/datasets/read_ICFHR/general_data  --output_dir ~/russell/nephi/data/lmdb_ICFHR_bin/general_data --icfhr --binarize --howe_dir ~/datasets/read_ICFHR/general_data_howe --simplebin_dir ~/datasets/read_ICFHR/general_data_imgtxt\n",
    "\n",
    "#python create_dataset.py ~/datasets/read_ICFHR/specific_data ~/russell/nephi/data/lmdb_ICFHR/specific_data --icfhr /file to include\n",
    "\n",
    "for s in [\"30866\", \"30882\", \"30893\", \"35013\", \"35015\"]:\n",
    "    script = ' '.join([\"python create_dataset.py\", \"--data_dir\", os.path.join(train_data, s), \"--output_dir\", os.path.join(lmdb_database_base, s), \n",
    "                           \"--icfhr\", \"--test\",\n",
    "                          \"--binarize\", \"--howe_dir\", howe_data, \"--simplebin_dir\", simplebin_data])\n",
    "    print(script)\n"
   ]
  },
  {
   "cell_type": "markdown",
   "metadata": {},
   "source": [
    "## Now make all the predictions on the test sets"
   ]
  },
  {
   "cell_type": "code",
   "execution_count": 17,
   "metadata": {
    "collapsed": false
   },
   "outputs": [
    {
     "name": "stdout",
     "output_type": "stream",
     "text": [
      "35013\n",
      "30882\n",
      "30893\n",
      "30866\n",
      "35015\n"
     ]
    }
   ],
   "source": [
    "for num in set([d.partition(\"_train_\")[0] for d in dirs]):\n",
    "    print num"
   ]
  },
  {
   "cell_type": "code",
   "execution_count": 18,
   "metadata": {
    "collapsed": false
   },
   "outputs": [
    {
     "name": "stdout",
     "output_type": "stream",
     "text": [
      "python crnn_main.py --trainroot /home/ubuntu/russell/nephi/data/lmdb_ICFHR_bin/test_data_each_doc/35013 --valroot /home/ubuntu/russell/nephi/data/lmdb_ICFHR_bin/test_data_each_doc/35013 --dataset ICFHR --cuda --lr 0.0001 --displayInterval 4 --valEpoch 1 --saveEpoch 1 --workers 10 --niter 15 --keep_ratio --imgH 60 --imgW 240 --batchSize 6 --binarize --crnn experiments/expr_ICFHR_17Apr_binarization_augmentation/netCRNN_6_1988.pth --test_icfhr --test_file test_results/21Apr_firstfinetune_submission/35013_0.txt > log_files/test_logs/log_ICFHR_21Apr_test_results_35013_0.txt\n",
      "python crnn_main.py --trainroot /home/ubuntu/russell/nephi/data/lmdb_ICFHR_bin/test_data_each_doc/35013 --valroot /home/ubuntu/russell/nephi/data/lmdb_ICFHR_bin/test_data_each_doc/35013 --dataset ICFHR --cuda --lr 0.0001 --displayInterval 4 --valEpoch 1 --saveEpoch 1 --workers 10 --niter 15 --keep_ratio --imgH 60 --imgW 240 --batchSize 6 --binarize --crnn experiments/expr_ICFHR_18Apr_finetuning_allnet_35013_train_1/netCRNN_5_7.pth --test_icfhr --test_file test_results/21Apr_firstfinetune_submission/35013_1.txt > log_files/test_logs/log_ICFHR_21Apr_test_results_35013_1.txt\n",
      "python crnn_main.py --trainroot /home/ubuntu/russell/nephi/data/lmdb_ICFHR_bin/test_data_each_doc/35013 --valroot /home/ubuntu/russell/nephi/data/lmdb_ICFHR_bin/test_data_each_doc/35013 --dataset ICFHR --cuda --lr 0.0001 --displayInterval 4 --valEpoch 1 --saveEpoch 1 --workers 10 --niter 15 --keep_ratio --imgH 60 --imgW 240 --batchSize 6 --binarize --crnn experiments/expr_ICFHR_18Apr_finetuning_allnet_35013_train_4/netCRNN_6_26.pth --test_icfhr --test_file test_results/21Apr_firstfinetune_submission/35013_4.txt > log_files/test_logs/log_ICFHR_21Apr_test_results_35013_4.txt\n",
      "python crnn_main.py --trainroot /home/ubuntu/russell/nephi/data/lmdb_ICFHR_bin/test_data_each_doc/35013 --valroot /home/ubuntu/russell/nephi/data/lmdb_ICFHR_bin/test_data_each_doc/35013 --dataset ICFHR --cuda --lr 0.0001 --displayInterval 4 --valEpoch 1 --saveEpoch 1 --workers 10 --niter 15 --keep_ratio --imgH 60 --imgW 240 --batchSize 6 --binarize --crnn experiments/expr_ICFHR_18Apr_finetuning_allnet_35013_train_16/netCRNN_8_107.pth --test_icfhr --test_file test_results/21Apr_firstfinetune_submission/35013_16.txt > log_files/test_logs/log_ICFHR_21Apr_test_results_35013_16.txt\n",
      "python crnn_main.py --trainroot /home/ubuntu/russell/nephi/data/lmdb_ICFHR_bin/test_data_each_doc/30882 --valroot /home/ubuntu/russell/nephi/data/lmdb_ICFHR_bin/test_data_each_doc/30882 --dataset ICFHR --cuda --lr 0.0001 --displayInterval 4 --valEpoch 1 --saveEpoch 1 --workers 10 --niter 15 --keep_ratio --imgH 60 --imgW 240 --batchSize 6 --binarize --crnn experiments/expr_ICFHR_17Apr_binarization_augmentation/netCRNN_6_1988.pth --test_icfhr --test_file test_results/21Apr_firstfinetune_submission/30882_0.txt > log_files/test_logs/log_ICFHR_21Apr_test_results_30882_0.txt\n",
      "python crnn_main.py --trainroot /home/ubuntu/russell/nephi/data/lmdb_ICFHR_bin/test_data_each_doc/30882 --valroot /home/ubuntu/russell/nephi/data/lmdb_ICFHR_bin/test_data_each_doc/30882 --dataset ICFHR --cuda --lr 0.0001 --displayInterval 4 --valEpoch 1 --saveEpoch 1 --workers 10 --niter 15 --keep_ratio --imgH 60 --imgW 240 --batchSize 6 --binarize --crnn experiments/expr_ICFHR_18Apr_finetuning_allnet_30882_train_1/netCRNN_6_4.pth --test_icfhr --test_file test_results/21Apr_firstfinetune_submission/30882_1.txt > log_files/test_logs/log_ICFHR_21Apr_test_results_30882_1.txt\n",
      "python crnn_main.py --trainroot /home/ubuntu/russell/nephi/data/lmdb_ICFHR_bin/test_data_each_doc/30882 --valroot /home/ubuntu/russell/nephi/data/lmdb_ICFHR_bin/test_data_each_doc/30882 --dataset ICFHR --cuda --lr 0.0001 --displayInterval 4 --valEpoch 1 --saveEpoch 1 --workers 10 --niter 15 --keep_ratio --imgH 60 --imgW 240 --batchSize 6 --binarize --crnn experiments/expr_ICFHR_18Apr_finetuning_allnet_30882_train_4/netCRNN_6_14.pth --test_icfhr --test_file test_results/21Apr_firstfinetune_submission/30882_4.txt > log_files/test_logs/log_ICFHR_21Apr_test_results_30882_4.txt\n",
      "python crnn_main.py --trainroot /home/ubuntu/russell/nephi/data/lmdb_ICFHR_bin/test_data_each_doc/30882 --valroot /home/ubuntu/russell/nephi/data/lmdb_ICFHR_bin/test_data_each_doc/30882 --dataset ICFHR --cuda --lr 0.0001 --displayInterval 4 --valEpoch 1 --saveEpoch 1 --workers 10 --niter 15 --keep_ratio --imgH 60 --imgW 240 --batchSize 6 --binarize --crnn experiments/expr_ICFHR_18Apr_finetuning_allnet_30882_train_16/netCRNN_7_55.pth --test_icfhr --test_file test_results/21Apr_firstfinetune_submission/30882_16.txt > log_files/test_logs/log_ICFHR_21Apr_test_results_30882_16.txt\n",
      "python crnn_main.py --trainroot /home/ubuntu/russell/nephi/data/lmdb_ICFHR_bin/test_data_each_doc/30893 --valroot /home/ubuntu/russell/nephi/data/lmdb_ICFHR_bin/test_data_each_doc/30893 --dataset ICFHR --cuda --lr 0.0001 --displayInterval 4 --valEpoch 1 --saveEpoch 1 --workers 10 --niter 15 --keep_ratio --imgH 60 --imgW 240 --batchSize 6 --binarize --crnn experiments/expr_ICFHR_17Apr_binarization_augmentation/netCRNN_6_1988.pth --test_icfhr --test_file test_results/21Apr_firstfinetune_submission/30893_0.txt > log_files/test_logs/log_ICFHR_21Apr_test_results_30893_0.txt\n",
      "python crnn_main.py --trainroot /home/ubuntu/russell/nephi/data/lmdb_ICFHR_bin/test_data_each_doc/30893 --valroot /home/ubuntu/russell/nephi/data/lmdb_ICFHR_bin/test_data_each_doc/30893 --dataset ICFHR --cuda --lr 0.0001 --displayInterval 4 --valEpoch 1 --saveEpoch 1 --workers 10 --niter 15 --keep_ratio --imgH 60 --imgW 240 --batchSize 6 --binarize --crnn experiments/expr_ICFHR_18Apr_finetuning_allnet_30893_train_1/netCRNN_7_4.pth --test_icfhr --test_file test_results/21Apr_firstfinetune_submission/30893_1.txt > log_files/test_logs/log_ICFHR_21Apr_test_results_30893_1.txt\n",
      "python crnn_main.py --trainroot /home/ubuntu/russell/nephi/data/lmdb_ICFHR_bin/test_data_each_doc/30893 --valroot /home/ubuntu/russell/nephi/data/lmdb_ICFHR_bin/test_data_each_doc/30893 --dataset ICFHR --cuda --lr 0.0001 --displayInterval 4 --valEpoch 1 --saveEpoch 1 --workers 10 --niter 15 --keep_ratio --imgH 60 --imgW 240 --batchSize 6 --binarize --crnn experiments/expr_ICFHR_18Apr_finetuning_allnet_30893_train_4/netCRNN_12_15.pth --test_icfhr --test_file test_results/21Apr_firstfinetune_submission/30893_4.txt > log_files/test_logs/log_ICFHR_21Apr_test_results_30893_4.txt\n",
      "python crnn_main.py --trainroot /home/ubuntu/russell/nephi/data/lmdb_ICFHR_bin/test_data_each_doc/30893 --valroot /home/ubuntu/russell/nephi/data/lmdb_ICFHR_bin/test_data_each_doc/30893 --dataset ICFHR --cuda --lr 0.0001 --displayInterval 4 --valEpoch 1 --saveEpoch 1 --workers 10 --niter 15 --keep_ratio --imgH 60 --imgW 240 --batchSize 6 --binarize --crnn experiments/expr_ICFHR_18Apr_finetuning_allnet_30893_train_16/netCRNN_14_64.pth --test_icfhr --test_file test_results/21Apr_firstfinetune_submission/30893_16.txt > log_files/test_logs/log_ICFHR_21Apr_test_results_30893_16.txt\n",
      "python crnn_main.py --trainroot /home/ubuntu/russell/nephi/data/lmdb_ICFHR_bin/test_data_each_doc/30866 --valroot /home/ubuntu/russell/nephi/data/lmdb_ICFHR_bin/test_data_each_doc/30866 --dataset ICFHR --cuda --lr 0.0001 --displayInterval 4 --valEpoch 1 --saveEpoch 1 --workers 10 --niter 15 --keep_ratio --imgH 60 --imgW 240 --batchSize 6 --binarize --crnn experiments/expr_ICFHR_17Apr_binarization_augmentation/netCRNN_6_1988.pth --test_icfhr --test_file test_results/21Apr_firstfinetune_submission/30866_0.txt > log_files/test_logs/log_ICFHR_21Apr_test_results_30866_0.txt\n",
      "python crnn_main.py --trainroot /home/ubuntu/russell/nephi/data/lmdb_ICFHR_bin/test_data_each_doc/30866 --valroot /home/ubuntu/russell/nephi/data/lmdb_ICFHR_bin/test_data_each_doc/30866 --dataset ICFHR --cuda --lr 0.0001 --displayInterval 4 --valEpoch 1 --saveEpoch 1 --workers 10 --niter 15 --keep_ratio --imgH 60 --imgW 240 --batchSize 6 --binarize --crnn experiments/expr_ICFHR_18Apr_finetuning_allnet_30866_train_1/netCRNN_14_5.pth --test_icfhr --test_file test_results/21Apr_firstfinetune_submission/30866_1.txt > log_files/test_logs/log_ICFHR_21Apr_test_results_30866_1.txt\n",
      "python crnn_main.py --trainroot /home/ubuntu/russell/nephi/data/lmdb_ICFHR_bin/test_data_each_doc/30866 --valroot /home/ubuntu/russell/nephi/data/lmdb_ICFHR_bin/test_data_each_doc/30866 --dataset ICFHR --cuda --lr 0.0001 --displayInterval 4 --valEpoch 1 --saveEpoch 1 --workers 10 --niter 15 --keep_ratio --imgH 60 --imgW 240 --batchSize 6 --binarize --crnn experiments/expr_ICFHR_18Apr_finetuning_allnet_30866_train_4/netCRNN_13_20.pth --test_icfhr --test_file test_results/21Apr_firstfinetune_submission/30866_4.txt > log_files/test_logs/log_ICFHR_21Apr_test_results_30866_4.txt\n",
      "python crnn_main.py --trainroot /home/ubuntu/russell/nephi/data/lmdb_ICFHR_bin/test_data_each_doc/30866 --valroot /home/ubuntu/russell/nephi/data/lmdb_ICFHR_bin/test_data_each_doc/30866 --dataset ICFHR --cuda --lr 0.0001 --displayInterval 4 --valEpoch 1 --saveEpoch 1 --workers 10 --niter 15 --keep_ratio --imgH 60 --imgW 240 --batchSize 6 --binarize --crnn experiments/expr_ICFHR_18Apr_finetuning_allnet_30866_train_16/netCRNN_12_79.pth --test_icfhr --test_file test_results/21Apr_firstfinetune_submission/30866_16.txt > log_files/test_logs/log_ICFHR_21Apr_test_results_30866_16.txt\n",
      "python crnn_main.py --trainroot /home/ubuntu/russell/nephi/data/lmdb_ICFHR_bin/test_data_each_doc/35015 --valroot /home/ubuntu/russell/nephi/data/lmdb_ICFHR_bin/test_data_each_doc/35015 --dataset ICFHR --cuda --lr 0.0001 --displayInterval 4 --valEpoch 1 --saveEpoch 1 --workers 10 --niter 15 --keep_ratio --imgH 60 --imgW 240 --batchSize 6 --binarize --crnn experiments/expr_ICFHR_17Apr_binarization_augmentation/netCRNN_6_1988.pth --test_icfhr --test_file test_results/21Apr_firstfinetune_submission/35015_0.txt > log_files/test_logs/log_ICFHR_21Apr_test_results_35015_0.txt\n",
      "python crnn_main.py --trainroot /home/ubuntu/russell/nephi/data/lmdb_ICFHR_bin/test_data_each_doc/35015 --valroot /home/ubuntu/russell/nephi/data/lmdb_ICFHR_bin/test_data_each_doc/35015 --dataset ICFHR --cuda --lr 0.0001 --displayInterval 4 --valEpoch 1 --saveEpoch 1 --workers 10 --niter 15 --keep_ratio --imgH 60 --imgW 240 --batchSize 6 --binarize --crnn experiments/expr_ICFHR_18Apr_finetuning_allnet_35015_train_1/netCRNN_14_12.pth --test_icfhr --test_file test_results/21Apr_firstfinetune_submission/35015_1.txt > log_files/test_logs/log_ICFHR_21Apr_test_results_35015_1.txt\n",
      "python crnn_main.py --trainroot /home/ubuntu/russell/nephi/data/lmdb_ICFHR_bin/test_data_each_doc/35015 --valroot /home/ubuntu/russell/nephi/data/lmdb_ICFHR_bin/test_data_each_doc/35015 --dataset ICFHR --cuda --lr 0.0001 --displayInterval 4 --valEpoch 1 --saveEpoch 1 --workers 10 --niter 15 --keep_ratio --imgH 60 --imgW 240 --batchSize 6 --binarize --crnn experiments/expr_ICFHR_18Apr_finetuning_allnet_35015_train_4/netCRNN_7_44.pth --test_icfhr --test_file test_results/21Apr_firstfinetune_submission/35015_4.txt > log_files/test_logs/log_ICFHR_21Apr_test_results_35015_4.txt\n",
      "python crnn_main.py --trainroot /home/ubuntu/russell/nephi/data/lmdb_ICFHR_bin/test_data_each_doc/35015 --valroot /home/ubuntu/russell/nephi/data/lmdb_ICFHR_bin/test_data_each_doc/35015 --dataset ICFHR --cuda --lr 0.0001 --displayInterval 4 --valEpoch 1 --saveEpoch 1 --workers 10 --niter 15 --keep_ratio --imgH 60 --imgW 240 --batchSize 6 --binarize --crnn experiments/expr_ICFHR_18Apr_finetuning_allnet_35015_train_16/netCRNN_8_177.pth --test_icfhr --test_file test_results/21Apr_firstfinetune_submission/35015_16.txt > log_files/test_logs/log_ICFHR_21Apr_test_results_35015_16.txt\n"
     ]
    }
   ],
   "source": [
    "\n",
    "\n",
    "#experiments/expr_ICFHR_17Apr_binarization_augmentation/netCRNN_6_1988.pth\n",
    "lmdb_database_base = \"/home/ubuntu/russell/nephi/data/lmdb_ICFHR_bin/test_data_each_doc/\"\n",
    "spec_tr_lists_dir = \"/home/ubuntu/datasets/read_ICFHR/specific_data_train_list/\"\n",
    "train_data = \"/home/ubuntu/datasets/read_ICFHR/specific_data/\"\n",
    "howe_data = \"/home/ubuntu/datasets/read_ICFHR/specific_data_howe/\"\n",
    "simplebin_data = \"/home/ubuntu/datasets/read_ICFHR/specific_data_imgtxt/\"\n",
    "\n",
    "tuned_models = [\"experiments/expr_ICFHR_18Apr_finetuning_allnet_35013_train_1/netCRNN_5_7.pth\",\n",
    "                \"experiments/expr_ICFHR_18Apr_finetuning_allnet_35013_train_4/netCRNN_6_26.pth\",\n",
    "                \"experiments/expr_ICFHR_18Apr_finetuning_allnet_35013_train_16/netCRNN_8_107.pth\",\n",
    "            \n",
    "              \n",
    "                \"experiments/expr_ICFHR_18Apr_finetuning_allnet_30882_train_1/netCRNN_6_4.pth\",\n",
    "                \"experiments/expr_ICFHR_18Apr_finetuning_allnet_30882_train_4/netCRNN_6_14.pth\",\n",
    "                \"experiments/expr_ICFHR_18Apr_finetuning_allnet_30882_train_16/netCRNN_7_55.pth\",\n",
    "                \n",
    "    \n",
    "                \"experiments/expr_ICFHR_18Apr_finetuning_allnet_30893_train_1/netCRNN_7_4.pth\",\n",
    "                \"experiments/expr_ICFHR_18Apr_finetuning_allnet_30893_train_4/netCRNN_12_15.pth\",\n",
    "                \"experiments/expr_ICFHR_18Apr_finetuning_allnet_30893_train_16/netCRNN_14_64.pth\",\n",
    "                \n",
    "\n",
    "                \"experiments/expr_ICFHR_18Apr_finetuning_allnet_30866_train_1/netCRNN_14_5.pth\",\n",
    "                \"experiments/expr_ICFHR_18Apr_finetuning_allnet_30866_train_4/netCRNN_13_20.pth\",\n",
    "                \"experiments/expr_ICFHR_18Apr_finetuning_allnet_30866_train_16/netCRNN_12_79.pth\",\n",
    "                \n",
    "                \n",
    "                \"experiments/expr_ICFHR_18Apr_finetuning_allnet_35015_train_1/netCRNN_14_12.pth\",\n",
    "                \"experiments/expr_ICFHR_18Apr_finetuning_allnet_35015_train_4/netCRNN_7_44.pth\",\n",
    "                \"experiments/expr_ICFHR_18Apr_finetuning_allnet_35015_train_16/netCRNN_8_177.pth\"]\n",
    "\n",
    "# Let's make the script\n",
    "#python crnn_main.py --trainroot this is the specific data 1, 4, 16 /home/ubuntu/russell/nephi/data/lmdb_ICFHR_bin/general_data \n",
    "#--valroot this will be the corresponding train_8 for validation /home/ubuntu/russell/nephi/data/lmdb_ICFHR_bin/specific_data --dataset ICFHR --cuda --lr 0.0001 \n",
    "#--displayInterval 120 --valEpoch 1 --saveEpoch 1 --workers 10 --niter 15 --experiment this should be a name unique to the train setexperiments/expr_ICFHR_17Apr_binarization_augmentation \n",
    "#--keep_ratio --imgH 60 --imgW 240 --batchSize 6 --binarize > name unique to the train set log_files/log_ICFHR_17Apr_binarization_augmentation.txt\n",
    "\n",
    "#python crnn_main.py --trainroot /deep_data/nephi/data/lmdb_ICFHR/general_data \n",
    "#--valroot /deep_data/nephi/data/lmdb_ICFHR/test_data/30865_testtrack \n",
    "#--crnn /deep_data/nephi/experiments/expr_ICFHR_27Mar_alph_werr_fixed_extended/netCRNN_20_5963.pth \n",
    "#--cuda --lr 0.00005 --displayInterval 120 --valEpoch 5 --saveEpoch 10 --workers 10 --niter 200\n",
    "#--experiment experiments/expr_ICFHR_24Mar_testset_test --keep_ratio --imgH 80 --imgW 240 --batchSize 32\n",
    "#--test_icfhr --test_file 30865_0_unicodeformatted.txt > log_ICFHR_27Mar_russell_testset_test.txt\n",
    "i = 0\n",
    "for num in set([d.partition(\"_train_\")[0] for d in dirs]):\n",
    "    for s in [\"0\", \"1\", \"4\", \"16\"]:\n",
    "        script = ''\n",
    "        if s == \"0\":\n",
    "            script = ' '.join([\"python crnn_main.py\", \"--trainroot\", os.path.join(lmdb_database_base, num), \n",
    "                           \"--valroot\", os.path.join(lmdb_database_base, num), \n",
    "                           \"--dataset ICFHR --cuda --lr 0.0001 --displayInterval 4 --valEpoch 1 --saveEpoch 1 --workers 10 --niter 15\",\n",
    "                           \"--keep_ratio --imgH 60 --imgW 240 --batchSize 6 --binarize\", \n",
    "                           #\"--experiment\", \"experiments/expr_\" + \"ICFHR_18Apr_finetuning_allnet_\" + num + \"_train_\" + s, \n",
    "                           \"--crnn\",  \"experiments/expr_ICFHR_17Apr_binarization_augmentation/netCRNN_6_1988.pth\", \n",
    "                           \"--test_icfhr --test_file\", os.path.join(\"test_results/21Apr_firstfinetune_submission\", num + \"_\" + s + \".txt\"), \">\",\n",
    "                           \"log_files/test_logs/log_ICFHR_21Apr_test_results_\" + num + \"_\" + s + \".txt\"])\n",
    "        else:\n",
    "            script = ' '.join([\"python crnn_main.py\", \"--trainroot\", os.path.join(lmdb_database_base, num), \n",
    "                           \"--valroot\", os.path.join(lmdb_database_base, num), \n",
    "                           \"--dataset ICFHR --cuda --lr 0.0001 --displayInterval 4 --valEpoch 1 --saveEpoch 1 --workers 10 --niter 15\",\n",
    "                           \"--keep_ratio --imgH 60 --imgW 240 --batchSize 6 --binarize\", \n",
    "                           #\"--experiment\", \"experiments/expr_\" + \"ICFHR_18Apr_finetuning_allnet_\" + num + \"_train_\" + s, \n",
    "                           \"--crnn\",  tuned_models[i], \n",
    "                           \"--test_icfhr --test_file\", os.path.join(\"test_results/21Apr_firstfinetune_submission\", num + \"_\" + s + \".txt\"), \">\",\n",
    "                           \"log_files/test_logs/log_ICFHR_21Apr_test_results_\" + num + \"_\" + s + \".txt\"])\n",
    "            i = i + 1\n",
    "        print(script)\n",
    "\n"
   ]
  },
  {
   "cell_type": "markdown",
   "metadata": {},
   "source": [
    "## Now make all the crnn_main calls to fine tune the results on different specific data before using it on test data"
   ]
  },
  {
   "cell_type": "markdown",
   "metadata": {
    "collapsed": true
   },
   "source": [
    "### Here is the fine-tuning for the 3rd round of submissions to ICFHR, using the attention+CTC model"
   ]
  },
  {
   "cell_type": "code",
   "execution_count": 9,
   "metadata": {
    "collapsed": false
   },
   "outputs": [
    {
     "name": "stdout",
     "output_type": "stream",
     "text": [
      "python crnn_main.py --trainroot /home/ubuntu/russell/nephi/data/lmdb_ICFHR_bin/specific_data_each_doc/35013_train_1 --valroot /home/ubuntu/russell/nephi/data/lmdb_ICFHR_bin/specific_data_each_doc/35013_train_8 --dataset ICFHR --cuda --lr 0.0001 --displayInterval 4 --valEpoch 1 --saveEpoch 1 --workers 3 --niter 60 --keep_ratio --imgH 60 --imgW 240 --batchSize 4 --transform --rescale --rescale_dim 3 --grid_distort --model attention+ctc --plot --rdir experiments/7May_finetuning/expr_ICFHR_7May_finetuning_attention+ctc_35013_train_1 --pre_model /home/ubuntu/russell/nephi/trained_models/results_icfhr_aug/attention+ctc/netCNN_24_2982.pth > log_files/log_ICFHR_7May_finetuning_attention+ctc_35013_train_1.txt\n",
      "\n",
      "python crnn_main.py --trainroot /home/ubuntu/russell/nephi/data/lmdb_ICFHR_bin/specific_data_each_doc/35013_train_4 --valroot /home/ubuntu/russell/nephi/data/lmdb_ICFHR_bin/specific_data_each_doc/35013_train_8 --dataset ICFHR --cuda --lr 0.0001 --displayInterval 4 --valEpoch 1 --saveEpoch 1 --workers 3 --niter 60 --keep_ratio --imgH 60 --imgW 240 --batchSize 4 --transform --rescale --rescale_dim 3 --grid_distort --model attention+ctc --plot --rdir experiments/7May_finetuning/expr_ICFHR_7May_finetuning_attention+ctc_35013_train_4 --pre_model /home/ubuntu/russell/nephi/trained_models/results_icfhr_aug/attention+ctc/netCNN_24_2982.pth > log_files/log_ICFHR_7May_finetuning_attention+ctc_35013_train_4.txt\n",
      "\n",
      "python crnn_main.py --trainroot /home/ubuntu/russell/nephi/data/lmdb_ICFHR_bin/specific_data_each_doc/35013_train_16 --valroot /home/ubuntu/russell/nephi/data/lmdb_ICFHR_bin/specific_data_each_doc/35013_train_8 --dataset ICFHR --cuda --lr 0.0001 --displayInterval 4 --valEpoch 1 --saveEpoch 1 --workers 3 --niter 60 --keep_ratio --imgH 60 --imgW 240 --batchSize 4 --transform --rescale --rescale_dim 3 --grid_distort --model attention+ctc --plot --rdir experiments/7May_finetuning/expr_ICFHR_7May_finetuning_attention+ctc_35013_train_16 --pre_model /home/ubuntu/russell/nephi/trained_models/results_icfhr_aug/attention+ctc/netCNN_24_2982.pth > log_files/log_ICFHR_7May_finetuning_attention+ctc_35013_train_16.txt\n",
      "\n",
      "python crnn_main.py --trainroot /home/ubuntu/russell/nephi/data/lmdb_ICFHR_bin/specific_data_each_doc/30882_train_1 --valroot /home/ubuntu/russell/nephi/data/lmdb_ICFHR_bin/specific_data_each_doc/30882_train_8 --dataset ICFHR --cuda --lr 0.0001 --displayInterval 4 --valEpoch 1 --saveEpoch 1 --workers 3 --niter 60 --keep_ratio --imgH 60 --imgW 240 --batchSize 4 --transform --rescale --rescale_dim 3 --grid_distort --model attention+ctc --plot --rdir experiments/7May_finetuning/expr_ICFHR_7May_finetuning_attention+ctc_30882_train_1 --pre_model /home/ubuntu/russell/nephi/trained_models/results_icfhr_aug/attention+ctc/netCNN_24_2982.pth > log_files/log_ICFHR_7May_finetuning_attention+ctc_30882_train_1.txt\n",
      "\n",
      "python crnn_main.py --trainroot /home/ubuntu/russell/nephi/data/lmdb_ICFHR_bin/specific_data_each_doc/30882_train_4 --valroot /home/ubuntu/russell/nephi/data/lmdb_ICFHR_bin/specific_data_each_doc/30882_train_8 --dataset ICFHR --cuda --lr 0.0001 --displayInterval 4 --valEpoch 1 --saveEpoch 1 --workers 3 --niter 60 --keep_ratio --imgH 60 --imgW 240 --batchSize 4 --transform --rescale --rescale_dim 3 --grid_distort --model attention+ctc --plot --rdir experiments/7May_finetuning/expr_ICFHR_7May_finetuning_attention+ctc_30882_train_4 --pre_model /home/ubuntu/russell/nephi/trained_models/results_icfhr_aug/attention+ctc/netCNN_24_2982.pth > log_files/log_ICFHR_7May_finetuning_attention+ctc_30882_train_4.txt\n",
      "\n",
      "python crnn_main.py --trainroot /home/ubuntu/russell/nephi/data/lmdb_ICFHR_bin/specific_data_each_doc/30882_train_16 --valroot /home/ubuntu/russell/nephi/data/lmdb_ICFHR_bin/specific_data_each_doc/30882_train_8 --dataset ICFHR --cuda --lr 0.0001 --displayInterval 4 --valEpoch 1 --saveEpoch 1 --workers 3 --niter 60 --keep_ratio --imgH 60 --imgW 240 --batchSize 4 --transform --rescale --rescale_dim 3 --grid_distort --model attention+ctc --plot --rdir experiments/7May_finetuning/expr_ICFHR_7May_finetuning_attention+ctc_30882_train_16 --pre_model /home/ubuntu/russell/nephi/trained_models/results_icfhr_aug/attention+ctc/netCNN_24_2982.pth > log_files/log_ICFHR_7May_finetuning_attention+ctc_30882_train_16.txt\n",
      "\n",
      "python crnn_main.py --trainroot /home/ubuntu/russell/nephi/data/lmdb_ICFHR_bin/specific_data_each_doc/30893_train_1 --valroot /home/ubuntu/russell/nephi/data/lmdb_ICFHR_bin/specific_data_each_doc/30893_train_8 --dataset ICFHR --cuda --lr 0.0001 --displayInterval 4 --valEpoch 1 --saveEpoch 1 --workers 3 --niter 60 --keep_ratio --imgH 60 --imgW 240 --batchSize 4 --transform --rescale --rescale_dim 3 --grid_distort --model attention+ctc --plot --rdir experiments/7May_finetuning/expr_ICFHR_7May_finetuning_attention+ctc_30893_train_1 --pre_model /home/ubuntu/russell/nephi/trained_models/results_icfhr_aug/attention+ctc/netCNN_24_2982.pth > log_files/log_ICFHR_7May_finetuning_attention+ctc_30893_train_1.txt\n",
      "\n",
      "python crnn_main.py --trainroot /home/ubuntu/russell/nephi/data/lmdb_ICFHR_bin/specific_data_each_doc/30893_train_4 --valroot /home/ubuntu/russell/nephi/data/lmdb_ICFHR_bin/specific_data_each_doc/30893_train_8 --dataset ICFHR --cuda --lr 0.0001 --displayInterval 4 --valEpoch 1 --saveEpoch 1 --workers 3 --niter 60 --keep_ratio --imgH 60 --imgW 240 --batchSize 4 --transform --rescale --rescale_dim 3 --grid_distort --model attention+ctc --plot --rdir experiments/7May_finetuning/expr_ICFHR_7May_finetuning_attention+ctc_30893_train_4 --pre_model /home/ubuntu/russell/nephi/trained_models/results_icfhr_aug/attention+ctc/netCNN_24_2982.pth > log_files/log_ICFHR_7May_finetuning_attention+ctc_30893_train_4.txt\n",
      "\n",
      "python crnn_main.py --trainroot /home/ubuntu/russell/nephi/data/lmdb_ICFHR_bin/specific_data_each_doc/30893_train_16 --valroot /home/ubuntu/russell/nephi/data/lmdb_ICFHR_bin/specific_data_each_doc/30893_train_8 --dataset ICFHR --cuda --lr 0.0001 --displayInterval 4 --valEpoch 1 --saveEpoch 1 --workers 3 --niter 60 --keep_ratio --imgH 60 --imgW 240 --batchSize 4 --transform --rescale --rescale_dim 3 --grid_distort --model attention+ctc --plot --rdir experiments/7May_finetuning/expr_ICFHR_7May_finetuning_attention+ctc_30893_train_16 --pre_model /home/ubuntu/russell/nephi/trained_models/results_icfhr_aug/attention+ctc/netCNN_24_2982.pth > log_files/log_ICFHR_7May_finetuning_attention+ctc_30893_train_16.txt\n",
      "\n",
      "python crnn_main.py --trainroot /home/ubuntu/russell/nephi/data/lmdb_ICFHR_bin/specific_data_each_doc/30866_train_1 --valroot /home/ubuntu/russell/nephi/data/lmdb_ICFHR_bin/specific_data_each_doc/30866_train_8 --dataset ICFHR --cuda --lr 0.0001 --displayInterval 4 --valEpoch 1 --saveEpoch 1 --workers 3 --niter 60 --keep_ratio --imgH 60 --imgW 240 --batchSize 4 --transform --rescale --rescale_dim 3 --grid_distort --model attention+ctc --plot --rdir experiments/7May_finetuning/expr_ICFHR_7May_finetuning_attention+ctc_30866_train_1 --pre_model /home/ubuntu/russell/nephi/trained_models/results_icfhr_aug/attention+ctc/netCNN_24_2982.pth > log_files/log_ICFHR_7May_finetuning_attention+ctc_30866_train_1.txt\n",
      "\n",
      "python crnn_main.py --trainroot /home/ubuntu/russell/nephi/data/lmdb_ICFHR_bin/specific_data_each_doc/30866_train_4 --valroot /home/ubuntu/russell/nephi/data/lmdb_ICFHR_bin/specific_data_each_doc/30866_train_8 --dataset ICFHR --cuda --lr 0.0001 --displayInterval 4 --valEpoch 1 --saveEpoch 1 --workers 3 --niter 60 --keep_ratio --imgH 60 --imgW 240 --batchSize 4 --transform --rescale --rescale_dim 3 --grid_distort --model attention+ctc --plot --rdir experiments/7May_finetuning/expr_ICFHR_7May_finetuning_attention+ctc_30866_train_4 --pre_model /home/ubuntu/russell/nephi/trained_models/results_icfhr_aug/attention+ctc/netCNN_24_2982.pth > log_files/log_ICFHR_7May_finetuning_attention+ctc_30866_train_4.txt\n",
      "\n",
      "python crnn_main.py --trainroot /home/ubuntu/russell/nephi/data/lmdb_ICFHR_bin/specific_data_each_doc/30866_train_16 --valroot /home/ubuntu/russell/nephi/data/lmdb_ICFHR_bin/specific_data_each_doc/30866_train_8 --dataset ICFHR --cuda --lr 0.0001 --displayInterval 4 --valEpoch 1 --saveEpoch 1 --workers 3 --niter 60 --keep_ratio --imgH 60 --imgW 240 --batchSize 4 --transform --rescale --rescale_dim 3 --grid_distort --model attention+ctc --plot --rdir experiments/7May_finetuning/expr_ICFHR_7May_finetuning_attention+ctc_30866_train_16 --pre_model /home/ubuntu/russell/nephi/trained_models/results_icfhr_aug/attention+ctc/netCNN_24_2982.pth > log_files/log_ICFHR_7May_finetuning_attention+ctc_30866_train_16.txt\n",
      "\n",
      "python crnn_main.py --trainroot /home/ubuntu/russell/nephi/data/lmdb_ICFHR_bin/specific_data_each_doc/35015_train_1 --valroot /home/ubuntu/russell/nephi/data/lmdb_ICFHR_bin/specific_data_each_doc/35015_train_8 --dataset ICFHR --cuda --lr 0.0001 --displayInterval 4 --valEpoch 1 --saveEpoch 1 --workers 3 --niter 60 --keep_ratio --imgH 60 --imgW 240 --batchSize 4 --transform --rescale --rescale_dim 3 --grid_distort --model attention+ctc --plot --rdir experiments/7May_finetuning/expr_ICFHR_7May_finetuning_attention+ctc_35015_train_1 --pre_model /home/ubuntu/russell/nephi/trained_models/results_icfhr_aug/attention+ctc/netCNN_24_2982.pth > log_files/log_ICFHR_7May_finetuning_attention+ctc_35015_train_1.txt\n",
      "\n",
      "python crnn_main.py --trainroot /home/ubuntu/russell/nephi/data/lmdb_ICFHR_bin/specific_data_each_doc/35015_train_4 --valroot /home/ubuntu/russell/nephi/data/lmdb_ICFHR_bin/specific_data_each_doc/35015_train_8 --dataset ICFHR --cuda --lr 0.0001 --displayInterval 4 --valEpoch 1 --saveEpoch 1 --workers 3 --niter 60 --keep_ratio --imgH 60 --imgW 240 --batchSize 4 --transform --rescale --rescale_dim 3 --grid_distort --model attention+ctc --plot --rdir experiments/7May_finetuning/expr_ICFHR_7May_finetuning_attention+ctc_35015_train_4 --pre_model /home/ubuntu/russell/nephi/trained_models/results_icfhr_aug/attention+ctc/netCNN_24_2982.pth > log_files/log_ICFHR_7May_finetuning_attention+ctc_35015_train_4.txt\n",
      "\n",
      "python crnn_main.py --trainroot /home/ubuntu/russell/nephi/data/lmdb_ICFHR_bin/specific_data_each_doc/35015_train_16 --valroot /home/ubuntu/russell/nephi/data/lmdb_ICFHR_bin/specific_data_each_doc/35015_train_8 --dataset ICFHR --cuda --lr 0.0001 --displayInterval 4 --valEpoch 1 --saveEpoch 1 --workers 3 --niter 60 --keep_ratio --imgH 60 --imgW 240 --batchSize 4 --transform --rescale --rescale_dim 3 --grid_distort --model attention+ctc --plot --rdir experiments/7May_finetuning/expr_ICFHR_7May_finetuning_attention+ctc_35015_train_16 --pre_model /home/ubuntu/russell/nephi/trained_models/results_icfhr_aug/attention+ctc/netCNN_24_2982.pth > log_files/log_ICFHR_7May_finetuning_attention+ctc_35015_train_16.txt\n",
      "\n"
     ]
    }
   ],
   "source": [
    "# Here was the best model training on general data and validating on specific data:\n",
    "#experiments/expr_ICFHR_17Apr_binarization_augmentation/netCRNN_6_1988.pth\n",
    "\n",
    "lmdb_database_base = \"/home/ubuntu/russell/nephi/data/lmdb_ICFHR_bin/specific_data_each_doc/\"\n",
    "pre_model = \"/home/ubuntu/russell/nephi/trained_models/results_icfhr_aug/attention+ctc/netCNN_24_2982.pth\"\n",
    "# python crnn_main.py --trainroot data/lmdb_ICFHR/general_data --valroot data/lmdb_ICFHR/specific_data --plot  \n",
    "# --dataset ICFHR --cuda --lr 0.0001 --displayInterval 120 \n",
    "#--valEpoch 2 --saveEpoch 2 --workers 3 --niter 200 --keep_ratio --imgH 60 --imgW 240 \n",
    "#--batchSize 4 --transform --rescale --rescale_dim 3 --grid_distort --rdir results_icfhr_aug \n",
    "#--model attention+ctc >logs/icfhr/aug/attctc.log\n",
    "\n",
    "\n",
    "\n",
    "for num in set([d.partition(\"_train_\")[0] for d in dirs]):\n",
    "    for s in [\"1\", \"4\", \"16\"]:\n",
    "        script = ' '.join([\"python crnn_main.py\", \"--trainroot\", os.path.join(lmdb_database_base, num + \"_train_\" + s), \n",
    "                           \"--valroot\", os.path.join(lmdb_database_base, num + \"_train_\" + \"8\"), \n",
    "                           \"--dataset ICFHR --cuda --lr 0.0001 --displayInterval 4 --valEpoch 1 --saveEpoch 1 --workers 3\",\n",
    "                           \"--niter 60 --keep_ratio --imgH 60 --imgW 240 --batchSize 4\",\n",
    "                           \"--transform --rescale --rescale_dim 3 --grid_distort\",\n",
    "                           \"--model attention+ctc --plot\",\n",
    "                           \"--rdir\", \"experiments/7May_finetuning/expr_\" + \"ICFHR_7May_finetuning_attention+ctc_\" + num + \"_train_\" + s, \n",
    "                           \"--pre_model\",  pre_model, \">\",\n",
    "                           \"log_files/log_ICFHR_7May_finetuning_attention+ctc_\" + num + \"_train_\" + s + \".txt\"])\n",
    "        print(script)\n",
    "        print\n"
   ]
  },
  {
   "cell_type": "markdown",
   "metadata": {},
   "source": [
    "#### Here is the fine-tuning for the 1st submission to ICFHR 2018"
   ]
  },
  {
   "cell_type": "code",
   "execution_count": null,
   "metadata": {
    "collapsed": true
   },
   "outputs": [],
   "source": [
    "# Here was the best model training on general data and validating on specific data:\n",
    "#experiments/expr_ICFHR_17Apr_binarization_augmentation/netCRNN_6_1988.pth\n",
    "\n",
    "lmdb_database_base = \"/home/ubuntu/russell/nephi/data/lmdb_ICFHR_bin/specific_data_each_doc/\"\n",
    "spec_tr_lists_dir = \"/home/ubuntu/datasets/read_ICFHR/specific_data_train_list/\"\n",
    "train_data = \"/home/ubuntu/datasets/read_ICFHR/specific_data/\"\n",
    "howe_data = \"/home/ubuntu/datasets/read_ICFHR/specific_data_howe/\"\n",
    "simplebin_data = \"/home/ubuntu/datasets/read_ICFHR/specific_data_imgtxt/\"\n",
    "\n",
    "#python create_dataset.py  --data_dir ~/datasets/read_ICFHR/specific_data --output_dir ~/russell/nephi/data/lmdb_ICFHR_bin/specific_data --icfhr --binarize --howe_dir ~/datasets/read_ICFHR/specific_data_howe --simplebin_dir ~/datasets/read_ICFHR/specific_data_imgtxt\n",
    "\n",
    "#python create_dataset.py  --data_dir ~/datasets/read_ICFHR/general_data  --output_dir ~/russell/nephi/data/lmdb_ICFHR_bin/general_data --icfhr --binarize --howe_dir ~/datasets/read_ICFHR/general_data_howe --simplebin_dir ~/datasets/read_ICFHR/general_data_imgtxt\n",
    "\n",
    "#python create_dataset.py ~/datasets/read_ICFHR/specific_data ~/russell/nephi/data/lmdb_ICFHR/specific_data --icfhr /file to include\n",
    "\n",
    "# Let's make the script\n",
    "#python crnn_main.py --trainroot this is the specific data 1, 4, 16 /home/ubuntu/russell/nephi/data/lmdb_ICFHR_bin/general_data \n",
    "#--valroot this will be the corresponding train_8 for validation /home/ubuntu/russell/nephi/data/lmdb_ICFHR_bin/specific_data --dataset ICFHR --cuda --lr 0.0001 \n",
    "#--displayInterval 120 --valEpoch 1 --saveEpoch 1 --workers 10 --niter 15 --experiment this should be a name unique to the train setexperiments/expr_ICFHR_17Apr_binarization_augmentation \n",
    "#--keep_ratio --imgH 60 --imgW 240 --batchSize 6 --binarize > name unique to the train set log_files/log_ICFHR_17Apr_binarization_augmentation.txt\n",
    "\n",
    "for num in set([d.partition(\"_train_\")[0] for d in dirs]):\n",
    "    for s in [\"1\", \"4\", \"16\"]:\n",
    "        script = ' '.join([\"python crnn_main.py\", \"--trainroot\", os.path.join(lmdb_database_base, num + \"_train_\" + s), \"--valroot\", os.path.join(lmdb_database_base, num + \"_train_\" + \"8\"), \n",
    "                               \"--dataset ICFHR --cuda --lr 0.0001 --displayInterval 4 --valEpoch 1 --saveEpoch 1 --workers 10 --niter 15 --keep_ratio --imgH 60 --imgW 240 --batchSize 6 --binarize\", \n",
    "                           \"--experiment\", \"experiments/expr_\" + \"ICFHR_18Apr_finetuning_allnet_\" + num + \"_train_\" + s, \n",
    "                           \"--crnn\",  \"experiments/expr_ICFHR_17Apr_binarization_augmentation/netCRNN_6_1988.pth\", \">\",\n",
    "                           \"log_files/log_ICFHR_18Apr_finetuning_allnet_\" + num + \"_train_\" + s + \".txt\"])\n",
    "        print(script)\n"
   ]
  },
  {
   "cell_type": "markdown",
   "metadata": {},
   "source": [
    "### Here is the code for Russell's computer"
   ]
  },
  {
   "cell_type": "code",
   "execution_count": 4,
   "metadata": {
    "collapsed": false
   },
   "outputs": [
    {
     "name": "stdout",
     "output_type": "stream",
     "text": [
      "python crnn_main.py --trainroot /deep_data/nephi/data/lmdb_ICFHR_bin/specific_data_each_doc/35013_train_1 --valroot /deep_data/nephi/data/lmdb_ICFHR_bin/specific_data_each_doc/35013_train_8 --dataset ICFHR --cuda --lr 0.0001 --displayInterval 4 --valEpoch 1 --saveEpoch 1 --workers 3 --niter 40 --keep_ratio --imgH 60 --imgW 240 --batchSize 2 --binarize --experiment /home/remi10001/deep_data/experiments/expr_ICFHR_28Apr_finetuning_fullaugment_35013_train_1 --crnn experiments/expr_ICFHR_27Apr_binarization_distortion_randomaffine_testside/netCRNN_27_5963.pth > log_files/log_ICFHR_28Apr_finetuning_fullaugment_35013_train_1.txt\n",
      "\n",
      "python crnn_main.py --trainroot /deep_data/nephi/data/lmdb_ICFHR_bin/specific_data_each_doc/35013_train_4 --valroot /deep_data/nephi/data/lmdb_ICFHR_bin/specific_data_each_doc/35013_train_8 --dataset ICFHR --cuda --lr 0.0001 --displayInterval 4 --valEpoch 1 --saveEpoch 1 --workers 3 --niter 40 --keep_ratio --imgH 60 --imgW 240 --batchSize 2 --binarize --experiment /home/remi10001/deep_data/experiments/expr_ICFHR_28Apr_finetuning_fullaugment_35013_train_4 --crnn experiments/expr_ICFHR_27Apr_binarization_distortion_randomaffine_testside/netCRNN_27_5963.pth > log_files/log_ICFHR_28Apr_finetuning_fullaugment_35013_train_4.txt\n",
      "\n",
      "python crnn_main.py --trainroot /deep_data/nephi/data/lmdb_ICFHR_bin/specific_data_each_doc/35013_train_16 --valroot /deep_data/nephi/data/lmdb_ICFHR_bin/specific_data_each_doc/35013_train_8 --dataset ICFHR --cuda --lr 0.0001 --displayInterval 4 --valEpoch 1 --saveEpoch 1 --workers 3 --niter 40 --keep_ratio --imgH 60 --imgW 240 --batchSize 2 --binarize --experiment /home/remi10001/deep_data/experiments/expr_ICFHR_28Apr_finetuning_fullaugment_35013_train_16 --crnn experiments/expr_ICFHR_27Apr_binarization_distortion_randomaffine_testside/netCRNN_27_5963.pth > log_files/log_ICFHR_28Apr_finetuning_fullaugment_35013_train_16.txt\n",
      "\n",
      "python crnn_main.py --trainroot /deep_data/nephi/data/lmdb_ICFHR_bin/specific_data_each_doc/30882_train_1 --valroot /deep_data/nephi/data/lmdb_ICFHR_bin/specific_data_each_doc/30882_train_8 --dataset ICFHR --cuda --lr 0.0001 --displayInterval 4 --valEpoch 1 --saveEpoch 1 --workers 3 --niter 40 --keep_ratio --imgH 60 --imgW 240 --batchSize 2 --binarize --experiment /home/remi10001/deep_data/experiments/expr_ICFHR_28Apr_finetuning_fullaugment_30882_train_1 --crnn experiments/expr_ICFHR_27Apr_binarization_distortion_randomaffine_testside/netCRNN_27_5963.pth > log_files/log_ICFHR_28Apr_finetuning_fullaugment_30882_train_1.txt\n",
      "\n",
      "python crnn_main.py --trainroot /deep_data/nephi/data/lmdb_ICFHR_bin/specific_data_each_doc/30882_train_4 --valroot /deep_data/nephi/data/lmdb_ICFHR_bin/specific_data_each_doc/30882_train_8 --dataset ICFHR --cuda --lr 0.0001 --displayInterval 4 --valEpoch 1 --saveEpoch 1 --workers 3 --niter 40 --keep_ratio --imgH 60 --imgW 240 --batchSize 2 --binarize --experiment /home/remi10001/deep_data/experiments/expr_ICFHR_28Apr_finetuning_fullaugment_30882_train_4 --crnn experiments/expr_ICFHR_27Apr_binarization_distortion_randomaffine_testside/netCRNN_27_5963.pth > log_files/log_ICFHR_28Apr_finetuning_fullaugment_30882_train_4.txt\n",
      "\n",
      "python crnn_main.py --trainroot /deep_data/nephi/data/lmdb_ICFHR_bin/specific_data_each_doc/30882_train_16 --valroot /deep_data/nephi/data/lmdb_ICFHR_bin/specific_data_each_doc/30882_train_8 --dataset ICFHR --cuda --lr 0.0001 --displayInterval 4 --valEpoch 1 --saveEpoch 1 --workers 3 --niter 40 --keep_ratio --imgH 60 --imgW 240 --batchSize 2 --binarize --experiment /home/remi10001/deep_data/experiments/expr_ICFHR_28Apr_finetuning_fullaugment_30882_train_16 --crnn experiments/expr_ICFHR_27Apr_binarization_distortion_randomaffine_testside/netCRNN_27_5963.pth > log_files/log_ICFHR_28Apr_finetuning_fullaugment_30882_train_16.txt\n",
      "\n",
      "python crnn_main.py --trainroot /deep_data/nephi/data/lmdb_ICFHR_bin/specific_data_each_doc/30893_train_1 --valroot /deep_data/nephi/data/lmdb_ICFHR_bin/specific_data_each_doc/30893_train_8 --dataset ICFHR --cuda --lr 0.0001 --displayInterval 4 --valEpoch 1 --saveEpoch 1 --workers 3 --niter 40 --keep_ratio --imgH 60 --imgW 240 --batchSize 2 --binarize --experiment /home/remi10001/deep_data/experiments/expr_ICFHR_28Apr_finetuning_fullaugment_30893_train_1 --crnn experiments/expr_ICFHR_27Apr_binarization_distortion_randomaffine_testside/netCRNN_27_5963.pth > log_files/log_ICFHR_28Apr_finetuning_fullaugment_30893_train_1.txt\n",
      "\n",
      "python crnn_main.py --trainroot /deep_data/nephi/data/lmdb_ICFHR_bin/specific_data_each_doc/30893_train_4 --valroot /deep_data/nephi/data/lmdb_ICFHR_bin/specific_data_each_doc/30893_train_8 --dataset ICFHR --cuda --lr 0.0001 --displayInterval 4 --valEpoch 1 --saveEpoch 1 --workers 3 --niter 40 --keep_ratio --imgH 60 --imgW 240 --batchSize 2 --binarize --experiment /home/remi10001/deep_data/experiments/expr_ICFHR_28Apr_finetuning_fullaugment_30893_train_4 --crnn experiments/expr_ICFHR_27Apr_binarization_distortion_randomaffine_testside/netCRNN_27_5963.pth > log_files/log_ICFHR_28Apr_finetuning_fullaugment_30893_train_4.txt\n",
      "\n",
      "python crnn_main.py --trainroot /deep_data/nephi/data/lmdb_ICFHR_bin/specific_data_each_doc/30893_train_16 --valroot /deep_data/nephi/data/lmdb_ICFHR_bin/specific_data_each_doc/30893_train_8 --dataset ICFHR --cuda --lr 0.0001 --displayInterval 4 --valEpoch 1 --saveEpoch 1 --workers 3 --niter 40 --keep_ratio --imgH 60 --imgW 240 --batchSize 2 --binarize --experiment /home/remi10001/deep_data/experiments/expr_ICFHR_28Apr_finetuning_fullaugment_30893_train_16 --crnn experiments/expr_ICFHR_27Apr_binarization_distortion_randomaffine_testside/netCRNN_27_5963.pth > log_files/log_ICFHR_28Apr_finetuning_fullaugment_30893_train_16.txt\n",
      "\n",
      "python crnn_main.py --trainroot /deep_data/nephi/data/lmdb_ICFHR_bin/specific_data_each_doc/30866_train_1 --valroot /deep_data/nephi/data/lmdb_ICFHR_bin/specific_data_each_doc/30866_train_8 --dataset ICFHR --cuda --lr 0.0001 --displayInterval 4 --valEpoch 1 --saveEpoch 1 --workers 3 --niter 40 --keep_ratio --imgH 60 --imgW 240 --batchSize 2 --binarize --experiment /home/remi10001/deep_data/experiments/expr_ICFHR_28Apr_finetuning_fullaugment_30866_train_1 --crnn experiments/expr_ICFHR_27Apr_binarization_distortion_randomaffine_testside/netCRNN_27_5963.pth > log_files/log_ICFHR_28Apr_finetuning_fullaugment_30866_train_1.txt\n",
      "\n",
      "python crnn_main.py --trainroot /deep_data/nephi/data/lmdb_ICFHR_bin/specific_data_each_doc/30866_train_4 --valroot /deep_data/nephi/data/lmdb_ICFHR_bin/specific_data_each_doc/30866_train_8 --dataset ICFHR --cuda --lr 0.0001 --displayInterval 4 --valEpoch 1 --saveEpoch 1 --workers 3 --niter 40 --keep_ratio --imgH 60 --imgW 240 --batchSize 2 --binarize --experiment /home/remi10001/deep_data/experiments/expr_ICFHR_28Apr_finetuning_fullaugment_30866_train_4 --crnn experiments/expr_ICFHR_27Apr_binarization_distortion_randomaffine_testside/netCRNN_27_5963.pth > log_files/log_ICFHR_28Apr_finetuning_fullaugment_30866_train_4.txt\n",
      "\n",
      "python crnn_main.py --trainroot /deep_data/nephi/data/lmdb_ICFHR_bin/specific_data_each_doc/30866_train_16 --valroot /deep_data/nephi/data/lmdb_ICFHR_bin/specific_data_each_doc/30866_train_8 --dataset ICFHR --cuda --lr 0.0001 --displayInterval 4 --valEpoch 1 --saveEpoch 1 --workers 3 --niter 40 --keep_ratio --imgH 60 --imgW 240 --batchSize 2 --binarize --experiment /home/remi10001/deep_data/experiments/expr_ICFHR_28Apr_finetuning_fullaugment_30866_train_16 --crnn experiments/expr_ICFHR_27Apr_binarization_distortion_randomaffine_testside/netCRNN_27_5963.pth > log_files/log_ICFHR_28Apr_finetuning_fullaugment_30866_train_16.txt\n",
      "\n",
      "python crnn_main.py --trainroot /deep_data/nephi/data/lmdb_ICFHR_bin/specific_data_each_doc/35015_train_1 --valroot /deep_data/nephi/data/lmdb_ICFHR_bin/specific_data_each_doc/35015_train_8 --dataset ICFHR --cuda --lr 0.0001 --displayInterval 4 --valEpoch 1 --saveEpoch 1 --workers 3 --niter 40 --keep_ratio --imgH 60 --imgW 240 --batchSize 2 --binarize --experiment /home/remi10001/deep_data/experiments/expr_ICFHR_28Apr_finetuning_fullaugment_35015_train_1 --crnn experiments/expr_ICFHR_27Apr_binarization_distortion_randomaffine_testside/netCRNN_27_5963.pth > log_files/log_ICFHR_28Apr_finetuning_fullaugment_35015_train_1.txt\n",
      "\n",
      "python crnn_main.py --trainroot /deep_data/nephi/data/lmdb_ICFHR_bin/specific_data_each_doc/35015_train_4 --valroot /deep_data/nephi/data/lmdb_ICFHR_bin/specific_data_each_doc/35015_train_8 --dataset ICFHR --cuda --lr 0.0001 --displayInterval 4 --valEpoch 1 --saveEpoch 1 --workers 3 --niter 40 --keep_ratio --imgH 60 --imgW 240 --batchSize 2 --binarize --experiment /home/remi10001/deep_data/experiments/expr_ICFHR_28Apr_finetuning_fullaugment_35015_train_4 --crnn experiments/expr_ICFHR_27Apr_binarization_distortion_randomaffine_testside/netCRNN_27_5963.pth > log_files/log_ICFHR_28Apr_finetuning_fullaugment_35015_train_4.txt\n",
      "\n",
      "python crnn_main.py --trainroot /deep_data/nephi/data/lmdb_ICFHR_bin/specific_data_each_doc/35015_train_16 --valroot /deep_data/nephi/data/lmdb_ICFHR_bin/specific_data_each_doc/35015_train_8 --dataset ICFHR --cuda --lr 0.0001 --displayInterval 4 --valEpoch 1 --saveEpoch 1 --workers 3 --niter 40 --keep_ratio --imgH 60 --imgW 240 --batchSize 2 --binarize --experiment /home/remi10001/deep_data/experiments/expr_ICFHR_28Apr_finetuning_fullaugment_35015_train_16 --crnn experiments/expr_ICFHR_27Apr_binarization_distortion_randomaffine_testside/netCRNN_27_5963.pth > log_files/log_ICFHR_28Apr_finetuning_fullaugment_35015_train_16.txt\n",
      "\n"
     ]
    }
   ],
   "source": [
    "# Here was the best model training on general data and validating on specific data:\n",
    "#0.4007 First model I want to try\n",
    "#experiments/expr_ICFHR_27Apr_binarization_distortion_randomaffine_testside/netCRNN_27_5963.pth\n",
    "#0.3937 one model I could try\n",
    "#experiments/expr_ICFHR_27Apr_binarization_distortion_randomaffine_testside/netCRNN_45_5963.\n",
    "\n",
    "#Make sure to do the training augmentation, same one.\n",
    "\n",
    "\n",
    "lmdb_database_base = \"/deep_data/nephi/data/lmdb_ICFHR_bin/specific_data_each_doc/\"\n",
    "\n",
    "# Let's make the script\n",
    "#python crnn_main.py --trainroot this is the specific data 1, 4, 16 /home/ubuntu/russell/nephi/data/lmdb_ICFHR_bin/general_data \n",
    "#--valroot this will be the corresponding train_8 for validation /home/ubuntu/russell/nephi/data/lmdb_ICFHR_bin/specific_data --dataset ICFHR --cuda --lr 0.0001 \n",
    "#--displayInterval 120 --valEpoch 1 --saveEpoch 1 --workers 10 --niter 15 --experiment this should be a name unique to the train setexperiments/expr_ICFHR_17Apr_binarization_augmentation \n",
    "#--keep_ratio --imgH 60 --imgW 240 --batchSize 6 --binarize > name unique to the train set log_files/log_ICFHR_17Apr_binarization_augmentation.txt\n",
    "\n",
    "for num in set([d.partition(\"_train_\")[0] for d in dirs]):\n",
    "    for s in [\"1\", \"4\", \"16\"]:\n",
    "        script = ' '.join([\"python crnn_main.py\", \"--trainroot\", os.path.join(lmdb_database_base, num + \"_train_\" + s), \"--valroot\", os.path.join(lmdb_database_base, num + \"_train_\" + \"8\"), \n",
    "                               \"--dataset ICFHR --cuda --lr 0.0001 --displayInterval 4 --valEpoch 1 --saveEpoch 1 --workers 3 --niter 40 --keep_ratio --imgH 60 --imgW 240 --batchSize 2 --binarize\", \n",
    "                           \"--experiment\", \"/home/remi10001/deep_data/experiments/expr_\" + \"ICFHR_28Apr_finetuning_fullaugment_\" + num + \"_train_\" + s, \n",
    "                           \"--crnn\",  \"experiments/expr_ICFHR_27Apr_binarization_distortion_randomaffine_testside/netCRNN_27_5963.pth\", \">\",\n",
    "                           \"log_files/log_ICFHR_28Apr_finetuning_fullaugment_\" + num + \"_train_\" + s + \".txt\"])\n",
    "        print(script)\n",
    "        print\n"
   ]
  },
  {
   "cell_type": "code",
   "execution_count": null,
   "metadata": {
    "collapsed": true
   },
   "outputs": [],
   "source": []
  },
  {
   "cell_type": "code",
   "execution_count": null,
   "metadata": {
    "collapsed": true
   },
   "outputs": [],
   "source": []
  },
  {
   "cell_type": "code",
   "execution_count": null,
   "metadata": {
    "collapsed": true
   },
   "outputs": [],
   "source": []
  },
  {
   "cell_type": "code",
   "execution_count": null,
   "metadata": {
    "collapsed": true
   },
   "outputs": [],
   "source": []
  },
  {
   "cell_type": "markdown",
   "metadata": {},
   "source": [
    "# Below is code I wrote in developing this notebook"
   ]
  },
  {
   "cell_type": "code",
   "execution_count": null,
   "metadata": {
    "collapsed": true
   },
   "outputs": [],
   "source": [
    "/deep_data/datasets/ICFHR_Data/specific_data_train_list\n",
    "/deep_data/datasets/ICFHR_Data/specific_data_val_list\n",
    "\n",
    "num = str(30882)\n",
    "\n",
    "spec_data = \"/deep_data/datasets/ICFHR_Data/specific_data\"\n",
    "spec_tr_lists_dir = \"/deep_data/datasets/ICFHR_Data/specific_data_train_list\"\n",
    "spec_lists_files = glob(os.path.join(spec_tr_lists_dir, \"*\"))\n",
    "\n",
    "total_files = glob(os.path.join(spec_data, num + \"_train\", \"*/*.jpg\"))\n",
    "base_files = set([os.path.basename(f) for f in total_files])\n",
    "\n",
    "list_1 = \"/deep_data/datasets/ICFHR_Data/specific_data_train_list/30882_train_1.lst\"\n",
    "list_4 = \"/deep_data/datasets/ICFHR_Data/specific_data_train_list/30882_train_4.lst\"\n",
    "list_16 = \"/deep_data/datasets/ICFHR_Data/specific_data_train_list/30882_train_16.lst\"\n",
    "\n",
    "fs_1 = set(open(list_1).read().split())\n",
    "fs_4 = set(open(list_4).read().split())\n",
    "fs_16 = set(open(list_16).read().split())\n",
    "fs_8 = fs_16 - fs_4"
   ]
  },
  {
   "cell_type": "markdown",
   "metadata": {},
   "source": [
    "## I was trying to figure a python way of running loop through the shell but I might as well just print all the shell commands and run the script itself. That won't be hard at all. (running script to make all of these lmdb databases. But now my time is up.\n",
    "\n",
    "# Next step is to make the 8 lists and then just create the script. Not hard at all"
   ]
  },
  {
   "cell_type": "code",
   "execution_count": 26,
   "metadata": {
    "collapsed": false
   },
   "outputs": [
    {
     "name": "stdout",
     "output_type": "stream",
     "text": [
      "30866_train_1\t30882_train_1\t30893_train_1\t35013_train_1\t35015_train_1\r\n",
      "30866_train_16\t30882_train_16\t30893_train_16\t35013_train_16\t35015_train_16\r\n",
      "30866_train_4\t30882_train_4\t30893_train_4\t35013_train_4\t35015_train_4\r\n",
      "30866_train_8\t30882_train_8\t30893_train_8\t35013_train_8\t35015_train_8\r\n"
     ]
    }
   ],
   "source": [
    "! ls $lmdb_database_base\n",
    "\n"
   ]
  },
  {
   "cell_type": "code",
   "execution_count": 3,
   "metadata": {
    "collapsed": true
   },
   "outputs": [],
   "source": [
    "spec_data = \"/home/ubuntu/datasets/read_ICFHR/specific_data\"\n",
    "spec_tr_lists_dir = \"/home/ubuntu/datasets/read_ICFHR/specific_data_train_list\"\n",
    "spec_lists_files = glob(os.path.join(spec_tr_lists_dir, \"*\"))"
   ]
  },
  {
   "cell_type": "code",
   "execution_count": 4,
   "metadata": {
    "collapsed": false
   },
   "outputs": [
    {
     "data": {
      "text/plain": [
       "['/home/ubuntu/datasets/read_ICFHR/specific_data_train_list/30866_train_1.lst',\n",
       " '/home/ubuntu/datasets/read_ICFHR/specific_data_train_list/30882_train_4.lst',\n",
       " '/home/ubuntu/datasets/read_ICFHR/specific_data_train_list/30882_train_1.lst',\n",
       " '/home/ubuntu/datasets/read_ICFHR/specific_data_train_list/35013_train_4.lst',\n",
       " '/home/ubuntu/datasets/read_ICFHR/specific_data_train_list/35015_train_16.lst',\n",
       " '/home/ubuntu/datasets/read_ICFHR/specific_data_train_list/30866_train_16.lst',\n",
       " '/home/ubuntu/datasets/read_ICFHR/specific_data_train_list/30893_train_16.lst',\n",
       " '/home/ubuntu/datasets/read_ICFHR/specific_data_train_list/30882_train_16.lst',\n",
       " '/home/ubuntu/datasets/read_ICFHR/specific_data_train_list/35015_train_1.lst',\n",
       " '/home/ubuntu/datasets/read_ICFHR/specific_data_train_list/30893_train_4.lst',\n",
       " '/home/ubuntu/datasets/read_ICFHR/specific_data_train_list/35013_train_1.lst',\n",
       " '/home/ubuntu/datasets/read_ICFHR/specific_data_train_list/35015_train_4.lst',\n",
       " '/home/ubuntu/datasets/read_ICFHR/specific_data_train_list/30866_train_4.lst',\n",
       " '/home/ubuntu/datasets/read_ICFHR/specific_data_train_list/30893_train_1.lst',\n",
       " '/home/ubuntu/datasets/read_ICFHR/specific_data_train_list/35013_train_16.lst']"
      ]
     },
     "execution_count": 4,
     "metadata": {},
     "output_type": "execute_result"
    }
   ],
   "source": [
    "spec_lists_files"
   ]
  },
  {
   "cell_type": "code",
   "execution_count": 24,
   "metadata": {
    "collapsed": false
   },
   "outputs": [
    {
     "name": "stdout",
     "output_type": "stream",
     "text": [
      "/home/ubuntu/datasets/read_ICFHR/specific_data_train_list/30882_train_4.lst\n",
      "/home/ubuntu/datasets/read_ICFHR/specific_data_train_list/30882_train_1.lst\n",
      "/home/ubuntu/datasets/read_ICFHR/specific_data_train_list/30882_train_16.lst\n"
     ]
    }
   ],
   "source": [
    "for f in spec_lists_files:\n",
    "    if \"30882\" in f:\n",
    "        print(f)"
   ]
  },
  {
   "cell_type": "code",
   "execution_count": null,
   "metadata": {
    "collapsed": true
   },
   "outputs": [],
   "source": [
    "with open(spec_lists_files[1], \"r\") as f:\n",
    "    \n",
    "    print(f.read())"
   ]
  },
  {
   "cell_type": "code",
   "execution_count": 6,
   "metadata": {
    "collapsed": false
   },
   "outputs": [
    {
     "name": "stdout",
     "output_type": "stream",
     "text": [
      "30882_0004_1065839_region_1439904809242_204_line_1439904834897_206.jpg\n",
      "30882_0004_1065839_region_1439904809242_204_line_1439904843793_207.jpg\n",
      "30882_0004_1065839_region_1439904809242_204_line_1439904853185_208.jpg\n",
      "30882_0004_1065839_region_1439904809242_204_line_1439904869649_209.jpg\n",
      "30882_0004_1065839_region_1439904809242_204_line_1439904881136_210.jpg\n",
      "30882_0004_1065839_region_1439904809242_204_line_1439904890756_211.jpg\n",
      "30882_0004_1065839_region_1439904809242_204_line_1439904904562_212.jpg\n",
      "30882_0004_1065839_region_1439904809242_204_line_1439904914236_213.jpg\n",
      "30882_0004_1065839_region_1439904809242_204_line_1439904927283_214.jpg\n",
      "30882_0004_1065839_region_1439904809242_204_line_1439904941685_215.jpg\n",
      "30882_0004_1065839_region_1439904809242_204_line_1439904955219_216.jpg\n",
      "30882_0004_1065839_region_1439904809242_204_line_1439904965800_217.jpg\n",
      "30882_0004_1065839_region_1439904809242_204_line_1439904980099_218.jpg\n",
      "30882_0004_1065839_region_1439904809242_204_line_1439904991252_219.jpg\n",
      "30882_0004_1065839_region_1439904809242_204_line_1439904997120_220.jpg\n",
      "30882_0004_1065839_region_1439904814953_205_line_1439905012257_221.jpg\n",
      "30882_0004_1065839_region_1439904814953_205_line_1439905021950_222.jpg\n",
      "30882_0004_1065839_region_1439904814953_205_line_1439905030978_223.jpg\n",
      "30882_0004_1065839_region_1439904814953_205_line_1439905042317_224.jpg\n",
      "30882_0004_1065839_region_1439904814953_205_line_1439905050739_225.jpg\n",
      "30882_0004_1065839_region_1439904814953_205_line_1439905059558_226.jpg\n",
      "30882_0005_1065848_region_1439905076838_227_line_1439905187367_235.jpg\n",
      "30882_0005_1065848_region_1439905076838_227_line_1439905197406_236.jpg\n",
      "30882_0005_1065848_region_1439905076838_227_line_1439905207691_237.jpg\n",
      "30882_0005_1065848_region_1439905076838_227_line_1439905221082_238.jpg\n",
      "30882_0005_1065848_region_1439905076838_227_line_1439905231902_239.jpg\n",
      "30882_0005_1065848_region_1439905076838_227_line_1439905243129_240.jpg\n",
      "30882_0005_1065848_region_1439905076838_227_line_1439905253367_241.jpg\n",
      "30882_0005_1065848_region_1439905076838_227_line_1439905266483_242.jpg\n",
      "30882_0005_1065848_region_1439905076838_227_line_1439905275154_243.jpg\n",
      "30882_0005_1065848_region_1439905076838_227_line_1439905285409_244.jpg\n",
      "30882_0005_1065848_region_1439905076838_227_line_1439905293800_245.jpg\n",
      "30882_0005_1065848_region_1439905076838_227_line_1439905302922_246.jpg\n",
      "30882_0005_1065848_region_1439905076838_227_line_1439905312008_247.jpg\n",
      "30882_0005_1065848_region_1439905076838_227_line_1439905320964_248.jpg\n",
      "30882_0005_1065848_region_1439905076838_227_line_1439905096146_228.jpg\n",
      "30882_0005_1065848_region_1439905076838_227_line_1439905105822_229.jpg\n",
      "30882_0005_1065848_region_1439905076838_227_line_1439905118154_230.jpg\n",
      "30882_0005_1065848_region_1439905076838_227_line_1439905129236_231.jpg\n",
      "30882_0005_1065848_region_1439905076838_227_line_1439905139331_232.jpg\n",
      "30882_0005_1065848_region_1439905076838_227_line_1439905150315_233.jpg\n",
      "30882_0005_1065848_region_1439905076838_227_line_1439905177194_234.jpg\n",
      "30882_0006_1065855_region_1440055363687_52_line_1440055403135_54.jpg\n",
      "30882_0006_1065855_region_1440055363687_52_line_1440055543553_55.jpg\n",
      "30882_0006_1065855_region_1440055363687_52_line_1440055552573_56.jpg\n",
      "30882_0006_1065855_region_1440055363687_52_line_1440055561143_57.jpg\n",
      "30882_0006_1065855_region_1440055363687_52_line_1440055571240_58.jpg\n",
      "30882_0006_1065855_region_1440055363687_52_line_1440055582158_59.jpg\n",
      "30882_0006_1065855_region_1440055363687_52_line_1440055597103_60.jpg\n",
      "30882_0006_1065855_region_1440055363687_52_line_1440055610098_61.jpg\n",
      "30882_0006_1065855_region_1440055363687_52_line_1440055621965_62.jpg\n",
      "30882_0006_1065855_region_1440055363687_52_line_1440055633160_63.jpg\n",
      "30882_0006_1065855_region_1440055363687_52_line_1440055643466_64.jpg\n",
      "30882_0006_1065855_region_1440055363687_52_line_1440055653990_65.jpg\n",
      "30882_0006_1065855_region_1440055363687_52_line_1440055663525_66.jpg\n",
      "30882_0006_1065855_region_1440055363687_52_line_1440055672291_67.jpg\n",
      "30882_0006_1065855_region_1440055363687_52_line_1440055687942_68.jpg\n",
      "30882_0006_1065855_region_1440055363687_52_line_1440055699362_69.jpg\n",
      "30882_0006_1065855_region_1440055363687_52_line_1440055709822_70.jpg\n",
      "30882_0006_1065855_region_1440055363687_52_line_1440055717529_71.jpg\n",
      "30882_0006_1065855_region_1440055363687_52_line_1440055729141_72.jpg\n",
      "30882_0006_1065855_region_1440055363687_52_line_1440055740954_73.jpg\n",
      "30882_0006_1065855_region_1440055363687_52_line_1440055749516_74.jpg\n",
      "30882_0007_1065865_region_1440055788947_75_line_1440055810171_76.jpg\n",
      "30882_0007_1065865_region_1440055788947_75_line_1440055823899_77.jpg\n",
      "30882_0007_1065865_region_1440055788947_75_line_1440055835707_78.jpg\n",
      "30882_0007_1065865_region_1440055788947_75_line_1440056039968_79.jpg\n",
      "30882_0007_1065865_region_1440055788947_75_line_1440056054235_80.jpg\n",
      "30882_0007_1065865_region_1440055788947_75_line_1440056067470_81.jpg\n",
      "30882_0007_1065865_region_1440055788947_75_line_1440056079082_82.jpg\n",
      "30882_0007_1065865_region_1440055788947_75_line_1440056091254_83.jpg\n",
      "30882_0007_1065865_region_1440055788947_75_line_1440056105239_84.jpg\n",
      "30882_0007_1065865_region_1440055788947_75_line_1440056117318_85.jpg\n",
      "30882_0007_1065865_region_1440055788947_75_line_1440056317770_86.jpg\n",
      "30882_0007_1065865_region_1440055788947_75_line_1440056324482_87.jpg\n",
      "30882_0007_1065865_region_1440055788947_75_line_1440056336411_88.jpg\n",
      "30882_0007_1065865_region_1440055788947_75_line_1440056345850_89.jpg\n",
      "30882_0007_1065865_region_1440055788947_75_line_1440056360825_90.jpg\n",
      "30882_0007_1065865_region_1440055788947_75_line_1440056374068_91.jpg\n",
      "30882_0007_1065865_region_1440055788947_75_line_1440056385004_92.jpg\n",
      "30882_0007_1065865_region_1440055788947_75_line_1440056393441_93.jpg\n",
      "30882_0007_1065865_region_1440055788947_75_line_1440056403426_94.jpg\n",
      "30882_0007_1065865_region_1440055788947_75_line_1440056414202_95.jpg\n",
      "30882_0007_1065865_region_1440055788947_75_line_1440056426134_96.jpg\n",
      "\n"
     ]
    }
   ],
   "source": [
    "    \n",
    "    folderPath = os.path.join('folder_name', os.path.basename(filePath))\n",
    "shutil.copyfile(filePath, folderPath)"
   ]
  },
  {
   "cell_type": "code",
   "execution_count": 9,
   "metadata": {
    "collapsed": false
   },
   "outputs": [
    {
     "name": "stdout",
     "output_type": "stream",
     "text": [
      "['30882_0004_1065839_region_1439904809242_204_line_1439904834897_206.jpg', '30882_0004_1065839_region_1439904809242_204_line_1439904843793_207.jpg', '30882_0004_1065839_region_1439904809242_204_line_1439904853185_208.jpg', '30882_0004_1065839_region_1439904809242_204_line_1439904869649_209.jpg', '30882_0004_1065839_region_1439904809242_204_line_1439904881136_210.jpg', '30882_0004_1065839_region_1439904809242_204_line_1439904890756_211.jpg', '30882_0004_1065839_region_1439904809242_204_line_1439904904562_212.jpg', '30882_0004_1065839_region_1439904809242_204_line_1439904914236_213.jpg', '30882_0004_1065839_region_1439904809242_204_line_1439904927283_214.jpg', '30882_0004_1065839_region_1439904809242_204_line_1439904941685_215.jpg', '30882_0004_1065839_region_1439904809242_204_line_1439904955219_216.jpg', '30882_0004_1065839_region_1439904809242_204_line_1439904965800_217.jpg', '30882_0004_1065839_region_1439904809242_204_line_1439904980099_218.jpg', '30882_0004_1065839_region_1439904809242_204_line_1439904991252_219.jpg', '30882_0004_1065839_region_1439904809242_204_line_1439904997120_220.jpg', '30882_0004_1065839_region_1439904814953_205_line_1439905012257_221.jpg', '30882_0004_1065839_region_1439904814953_205_line_1439905021950_222.jpg', '30882_0004_1065839_region_1439904814953_205_line_1439905030978_223.jpg', '30882_0004_1065839_region_1439904814953_205_line_1439905042317_224.jpg', '30882_0004_1065839_region_1439904814953_205_line_1439905050739_225.jpg', '30882_0004_1065839_region_1439904814953_205_line_1439905059558_226.jpg', '30882_0005_1065848_region_1439905076838_227_line_1439905187367_235.jpg', '30882_0005_1065848_region_1439905076838_227_line_1439905197406_236.jpg', '30882_0005_1065848_region_1439905076838_227_line_1439905207691_237.jpg', '30882_0005_1065848_region_1439905076838_227_line_1439905221082_238.jpg', '30882_0005_1065848_region_1439905076838_227_line_1439905231902_239.jpg', '30882_0005_1065848_region_1439905076838_227_line_1439905243129_240.jpg', '30882_0005_1065848_region_1439905076838_227_line_1439905253367_241.jpg', '30882_0005_1065848_region_1439905076838_227_line_1439905266483_242.jpg', '30882_0005_1065848_region_1439905076838_227_line_1439905275154_243.jpg', '30882_0005_1065848_region_1439905076838_227_line_1439905285409_244.jpg', '30882_0005_1065848_region_1439905076838_227_line_1439905293800_245.jpg', '30882_0005_1065848_region_1439905076838_227_line_1439905302922_246.jpg', '30882_0005_1065848_region_1439905076838_227_line_1439905312008_247.jpg', '30882_0005_1065848_region_1439905076838_227_line_1439905320964_248.jpg', '30882_0005_1065848_region_1439905076838_227_line_1439905096146_228.jpg', '30882_0005_1065848_region_1439905076838_227_line_1439905105822_229.jpg', '30882_0005_1065848_region_1439905076838_227_line_1439905118154_230.jpg', '30882_0005_1065848_region_1439905076838_227_line_1439905129236_231.jpg', '30882_0005_1065848_region_1439905076838_227_line_1439905139331_232.jpg', '30882_0005_1065848_region_1439905076838_227_line_1439905150315_233.jpg', '30882_0005_1065848_region_1439905076838_227_line_1439905177194_234.jpg', '30882_0006_1065855_region_1440055363687_52_line_1440055403135_54.jpg', '30882_0006_1065855_region_1440055363687_52_line_1440055543553_55.jpg', '30882_0006_1065855_region_1440055363687_52_line_1440055552573_56.jpg', '30882_0006_1065855_region_1440055363687_52_line_1440055561143_57.jpg', '30882_0006_1065855_region_1440055363687_52_line_1440055571240_58.jpg', '30882_0006_1065855_region_1440055363687_52_line_1440055582158_59.jpg', '30882_0006_1065855_region_1440055363687_52_line_1440055597103_60.jpg', '30882_0006_1065855_region_1440055363687_52_line_1440055610098_61.jpg', '30882_0006_1065855_region_1440055363687_52_line_1440055621965_62.jpg', '30882_0006_1065855_region_1440055363687_52_line_1440055633160_63.jpg', '30882_0006_1065855_region_1440055363687_52_line_1440055643466_64.jpg', '30882_0006_1065855_region_1440055363687_52_line_1440055653990_65.jpg', '30882_0006_1065855_region_1440055363687_52_line_1440055663525_66.jpg', '30882_0006_1065855_region_1440055363687_52_line_1440055672291_67.jpg', '30882_0006_1065855_region_1440055363687_52_line_1440055687942_68.jpg', '30882_0006_1065855_region_1440055363687_52_line_1440055699362_69.jpg', '30882_0006_1065855_region_1440055363687_52_line_1440055709822_70.jpg', '30882_0006_1065855_region_1440055363687_52_line_1440055717529_71.jpg', '30882_0006_1065855_region_1440055363687_52_line_1440055729141_72.jpg', '30882_0006_1065855_region_1440055363687_52_line_1440055740954_73.jpg', '30882_0006_1065855_region_1440055363687_52_line_1440055749516_74.jpg', '30882_0007_1065865_region_1440055788947_75_line_1440055810171_76.jpg', '30882_0007_1065865_region_1440055788947_75_line_1440055823899_77.jpg', '30882_0007_1065865_region_1440055788947_75_line_1440055835707_78.jpg', '30882_0007_1065865_region_1440055788947_75_line_1440056039968_79.jpg', '30882_0007_1065865_region_1440055788947_75_line_1440056054235_80.jpg', '30882_0007_1065865_region_1440055788947_75_line_1440056067470_81.jpg', '30882_0007_1065865_region_1440055788947_75_line_1440056079082_82.jpg', '30882_0007_1065865_region_1440055788947_75_line_1440056091254_83.jpg', '30882_0007_1065865_region_1440055788947_75_line_1440056105239_84.jpg', '30882_0007_1065865_region_1440055788947_75_line_1440056117318_85.jpg', '30882_0007_1065865_region_1440055788947_75_line_1440056317770_86.jpg', '30882_0007_1065865_region_1440055788947_75_line_1440056324482_87.jpg', '30882_0007_1065865_region_1440055788947_75_line_1440056336411_88.jpg', '30882_0007_1065865_region_1440055788947_75_line_1440056345850_89.jpg', '30882_0007_1065865_region_1440055788947_75_line_1440056360825_90.jpg', '30882_0007_1065865_region_1440055788947_75_line_1440056374068_91.jpg', '30882_0007_1065865_region_1440055788947_75_line_1440056385004_92.jpg', '30882_0007_1065865_region_1440055788947_75_line_1440056393441_93.jpg', '30882_0007_1065865_region_1440055788947_75_line_1440056403426_94.jpg', '30882_0007_1065865_region_1440055788947_75_line_1440056414202_95.jpg', '30882_0007_1065865_region_1440055788947_75_line_1440056426134_96.jpg']\n"
     ]
    }
   ],
   "source": [
    "with open(spec_lists_files[1], \"r\") as f:\n",
    "    \n",
    "    print(f.read().split())"
   ]
  },
  {
   "cell_type": "markdown",
   "metadata": {},
   "source": [
    "I should do subset analyses of the specific training files with each other and all the files that are present in the full set to try to make a develpment set"
   ]
  },
  {
   "cell_type": "code",
   "execution_count": 4,
   "metadata": {
    "collapsed": false
   },
   "outputs": [
    {
     "ename": "IOError",
     "evalue": "[Errno 2] No such file or directory: '/home/ubuntu/datasets/read_ICFHR/specific_data_train_list/30882_train_1.lst'",
     "traceback": [
      "\u001b[0;31m---------------------------------------------------------------------------\u001b[0m",
      "\u001b[0;31mIOError\u001b[0m                                   Traceback (most recent call last)",
      "\u001b[0;32m<ipython-input-4-72cb0f7455e7>\u001b[0m in \u001b[0;36m<module>\u001b[0;34m()\u001b[0m\n\u001b[1;32m     12\u001b[0m \u001b[0mlist_16\u001b[0m \u001b[0;34m=\u001b[0m \u001b[0;34m\"/home/ubuntu/datasets/read_ICFHR/specific_data_train_list/30882_train_16.lst\"\u001b[0m\u001b[0;34m\u001b[0m\u001b[0m\n\u001b[1;32m     13\u001b[0m \u001b[0;34m\u001b[0m\u001b[0m\n\u001b[0;32m---> 14\u001b[0;31m \u001b[0mfs_1\u001b[0m \u001b[0;34m=\u001b[0m \u001b[0mset\u001b[0m\u001b[0;34m(\u001b[0m\u001b[0mopen\u001b[0m\u001b[0;34m(\u001b[0m\u001b[0mlist_1\u001b[0m\u001b[0;34m)\u001b[0m\u001b[0;34m.\u001b[0m\u001b[0mread\u001b[0m\u001b[0;34m(\u001b[0m\u001b[0;34m)\u001b[0m\u001b[0;34m.\u001b[0m\u001b[0msplit\u001b[0m\u001b[0;34m(\u001b[0m\u001b[0;34m)\u001b[0m\u001b[0;34m)\u001b[0m\u001b[0;34m\u001b[0m\u001b[0m\n\u001b[0m\u001b[1;32m     15\u001b[0m \u001b[0mfs_4\u001b[0m \u001b[0;34m=\u001b[0m \u001b[0mset\u001b[0m\u001b[0;34m(\u001b[0m\u001b[0mopen\u001b[0m\u001b[0;34m(\u001b[0m\u001b[0mlist_4\u001b[0m\u001b[0;34m)\u001b[0m\u001b[0;34m.\u001b[0m\u001b[0mread\u001b[0m\u001b[0;34m(\u001b[0m\u001b[0;34m)\u001b[0m\u001b[0;34m.\u001b[0m\u001b[0msplit\u001b[0m\u001b[0;34m(\u001b[0m\u001b[0;34m)\u001b[0m\u001b[0;34m)\u001b[0m\u001b[0;34m\u001b[0m\u001b[0m\n\u001b[1;32m     16\u001b[0m \u001b[0mfs_16\u001b[0m \u001b[0;34m=\u001b[0m \u001b[0mset\u001b[0m\u001b[0;34m(\u001b[0m\u001b[0mopen\u001b[0m\u001b[0;34m(\u001b[0m\u001b[0mlist_16\u001b[0m\u001b[0;34m)\u001b[0m\u001b[0;34m.\u001b[0m\u001b[0mread\u001b[0m\u001b[0;34m(\u001b[0m\u001b[0;34m)\u001b[0m\u001b[0;34m.\u001b[0m\u001b[0msplit\u001b[0m\u001b[0;34m(\u001b[0m\u001b[0;34m)\u001b[0m\u001b[0;34m)\u001b[0m\u001b[0;34m\u001b[0m\u001b[0m\n",
      "\u001b[0;31mIOError\u001b[0m: [Errno 2] No such file or directory: '/home/ubuntu/datasets/read_ICFHR/specific_data_train_list/30882_train_1.lst'"
     ],
     "output_type": "error"
    }
   ],
   "source": [
    "num = str(30882)\n",
    "\n",
    "spec_data = \"/home/ubuntu/datasets/read_ICFHR/specific_data\"\n",
    "spec_tr_lists_dir = \"/home/ubuntu/datasets/read_ICFHR/specific_data_train_list\"\n",
    "spec_lists_files = glob(os.path.join(spec_tr_lists_dir, \"*\"))\n",
    "\n",
    "total_files = glob(os.path.join(spec_data, num + \"_train\", \"*/*.jpg\"))\n",
    "base_files = set([os.path.basename(f) for f in total_files])\n",
    "\n",
    "list_1 = \"/home/ubuntu/datasets/read_ICFHR/specific_data_train_list/30882_train_1.lst\"\n",
    "list_4 = \"/home/ubuntu/datasets/read_ICFHR/specific_data_train_list/30882_train_4.lst\"\n",
    "list_16 = \"/home/ubuntu/datasets/read_ICFHR/specific_data_train_list/30882_train_16.lst\"\n",
    "\n",
    "fs_1 = set(open(list_1).read().split())\n",
    "fs_4 = set(open(list_4).read().split())\n",
    "fs_16 = set(open(list_16).read().split())\n",
    "fs_8 = fs_16 - fs_4"
   ]
  },
  {
   "cell_type": "markdown",
   "metadata": {},
   "source": [
    "Here are the paths for working at my home computer"
   ]
  },
  {
   "cell_type": "code",
   "execution_count": 7,
   "metadata": {
    "collapsed": true
   },
   "outputs": [],
   "source": [
    "num = str(30882)\n",
    "\n",
    "spec_data = \"/deep_data/datasets/ICFHR_Data/specific_data\"\n",
    "spec_tr_lists_dir = \"/deep_data/datasets/ICFHR_Data/specific_data_train_list\"\n",
    "spec_lists_files = glob(os.path.join(spec_tr_lists_dir, \"*\"))\n",
    "\n",
    "total_files = glob(os.path.join(spec_data, num + \"_train\", \"*/*.jpg\"))\n",
    "base_files = set([os.path.basename(f) for f in total_files])\n",
    "\n",
    "list_1 = \"/deep_data/datasets/ICFHR_Data/specific_data_train_list/30882_train_1.lst\"\n",
    "list_4 = \"/deep_data/datasets/ICFHR_Data/specific_data_train_list/30882_train_4.lst\"\n",
    "list_16 = \"/deep_data/datasets/ICFHR_Data/specific_data_train_list/30882_train_16.lst\"\n",
    "\n",
    "fs_1 = set(open(list_1).read().split())\n",
    "fs_4 = set(open(list_4).read().split())\n",
    "fs_16 = set(open(list_16).read().split())\n",
    "fs_8 = fs_16 - fs_4"
   ]
  },
  {
   "cell_type": "markdown",
   "metadata": {},
   "source": [
    "The code below demonstrates that fs_16 is the same as the total number of files available, and each set of increasing number of pages is a strict subset of the greater page list. (I've shown it for collection 30882, but I am sure it is true for all)\n",
    "\n",
    "### Therefore, I think a good validation split for the tuning of training files is to select those files not in fs_4, train on those, then predict on fs_4. Then we should use this model for tuning with 1, 4 and 16 additional pages, as it should be the best model.\n",
    "### I will need to make a split for this \"fs_12\" and a split for all 1, 4, and 16 subsets for all the document types. Then we can experiment with fine tuning after I enable fine-tuning of convolutional layers.\n",
    "\n",
    "# I think once I've done this splitting and made lmdb databases of the same, then I can start figuring out how to do a results file from them."
   ]
  },
  {
   "cell_type": "code",
   "execution_count": 46,
   "metadata": {
    "collapsed": false
   },
   "outputs": [
    {
     "name": "stdout",
     "output_type": "stream",
     "text": [
      "0\n"
     ]
    }
   ],
   "source": [
    "# Union of all the training files\n",
    "train_subs = fs_16#fs_1 | fs_4 | fs_16\n",
    "\n",
    "# What remains of total from this union\n",
    "diff = base_files - train_subs\n",
    "\n",
    "# Is fs_1 a strict subset of fs_4?\n",
    "print(len(fs_1 - fs_4))\n",
    "# Yes"
   ]
  },
  {
   "cell_type": "code",
   "execution_count": 8,
   "metadata": {
    "collapsed": false
   },
   "outputs": [
    {
     "data": {
      "text/plain": [
       "84"
      ]
     },
     "execution_count": 8,
     "metadata": {},
     "output_type": "execute_result"
    }
   ],
   "source": [
    "len(fs_4)"
   ]
  },
  {
   "cell_type": "code",
   "execution_count": 41,
   "metadata": {
    "collapsed": false
   },
   "outputs": [
    {
     "data": {
      "text/plain": [
       "328"
      ]
     },
     "execution_count": 41,
     "metadata": {},
     "output_type": "execute_result"
    }
   ],
   "source": [
    "len(base_files)"
   ]
  },
  {
   "cell_type": "code",
   "execution_count": 10,
   "metadata": {
    "collapsed": false
   },
   "outputs": [
    {
     "data": {
      "text/plain": [
       "244"
      ]
     },
     "execution_count": 10,
     "metadata": {},
     "output_type": "execute_result"
    }
   ],
   "source": [
    "len(fs_8)"
   ]
  },
  {
   "cell_type": "code",
   "execution_count": null,
   "metadata": {
    "collapsed": true
   },
   "outputs": [],
   "source": []
  }
 ],
 "metadata": {
  "kernelspec": {
   "display_name": "Python 2",
   "language": "python",
   "name": "python2"
  },
  "language_info": {
   "codemirror_mode": {
    "name": "ipython",
    "version": 2
   },
   "file_extension": ".py",
   "mimetype": "text/x-python",
   "name": "python",
   "nbconvert_exporter": "python",
   "pygments_lexer": "ipython2",
   "version": "2.7.11"
  }
 },
 "nbformat": 4,
 "nbformat_minor": 1
}
