{
 "cells": [
  {
   "cell_type": "markdown",
   "metadata": {},
   "source": [
    "<center> <font size=6> <b> Table of Contents </b> </font> </center> \n",
    "<div id=\"toc\"></div>"
   ]
  },
  {
   "cell_type": "markdown",
   "metadata": {},
   "source": [
    "The following cell is a Javascript section of code for building the Jupyter notebook's table of content."
   ]
  },
  {
   "cell_type": "code",
   "execution_count": 5,
   "metadata": {
    "scrolled": true
   },
   "outputs": [
    {
     "data": {
      "application/javascript": [
       "$.getScript('https://kmahelona.github.io/ipython_notebook_goodies/ipython_notebook_toc.js')"
      ],
      "text/plain": [
       "<IPython.core.display.Javascript object>"
      ]
     },
     "metadata": {},
     "output_type": "display_data"
    }
   ],
   "source": [
    "%%javascript\n",
    "$.getScript('https://kmahelona.github.io/ipython_notebook_goodies/ipython_notebook_toc.js')"
   ]
  },
  {
   "cell_type": "markdown",
   "metadata": {},
   "source": [
    "**-_-_-_-_-_-_-_-_-_-_-_-_-_-_-_-_-_-_-_-_-_-_-_-_-_-_-_-_-_-_-_-_-_-_-_-_-_-_-_-_-_-_-_-_-_-_-_-_-_-_-_-_-_-_-_-_-_-_-_-_-**"
   ]
  },
  {
   "cell_type": "markdown",
   "metadata": {},
   "source": [
    "<center> <font size=5> <h1>Define working environment</h1> </font> </center> "
   ]
  },
  {
   "cell_type": "markdown",
   "metadata": {},
   "source": [
    "The following cells are used to: \n",
    "- Import needed libraries\n",
    "- Set the environment variables for Python, Anaconda, GRASS GIS and R statistical computing \n",
    "- Define the [\"GRASSDATA\" folder](https://grass.osgeo.org/grass73/manuals/helptext.html), the name of \"location\" and \"mapset\" where you will to work."
   ]
  },
  {
   "cell_type": "markdown",
   "metadata": {},
   "source": [
    "**Import libraries**"
   ]
  },
  {
   "cell_type": "code",
   "execution_count": 6,
   "metadata": {
    "collapsed": true
   },
   "outputs": [],
   "source": [
    "## Import libraries needed for setting parameters of operating system \n",
    "import os\n",
    "import sys\n",
    "\n",
    "## Import library for temporary files creation \n",
    "import tempfile \n",
    "\n",
    "## Import Pandas library\n",
    "import pandas as pd\n",
    "\n",
    "## Import Numpy library\n",
    "import numpy\n",
    "\n",
    "## Import Psycopg2 library (interection with postgres database)\n",
    "import psycopg2 as pg\n",
    "\n",
    "# Import Math library (usefull for rounding number, e.g.)\n",
    "import math\n",
    "\n",
    "## Import Subprocess + subprocess.call\n",
    "import subprocess\n",
    "from subprocess import call, Popen, PIPE, STDOUT"
   ]
  },
  {
   "cell_type": "markdown",
   "metadata": {},
   "source": [
    "<center> <font size=3> <h3>Environment variables when working on Linux Mint</h3> </font> </center> "
   ]
  },
  {
   "cell_type": "markdown",
   "metadata": {},
   "source": [
    "**Set 'Python' and 'GRASS GIS' environment variables**"
   ]
  },
  {
   "cell_type": "markdown",
   "metadata": {},
   "source": [
    "Here, we set [the environment variables allowing to use of GRASS GIS](https://grass.osgeo.org/grass64/manuals/variables.html) inside this Jupyter notebook. Please change the directory path according to your own system configuration."
   ]
  },
  {
   "cell_type": "code",
   "execution_count": 7,
   "metadata": {
    "collapsed": true
   },
   "outputs": [],
   "source": [
    "### Define GRASS GIS environment variables for LINUX UBUNTU Mint 18.1 (Serena)\n",
    "# Check is environmental variables exists and create them (empty) if not exists.\n",
    "if not 'PYTHONPATH' in os.environ:\n",
    "    os.environ['PYTHONPATH']=''\n",
    "if not 'LD_LIBRARY_PATH' in os.environ:\n",
    "    os.environ['LD_LIBRARY_PATH']=''\n",
    "# Set environmental variables\n",
    "os.environ['GISBASE'] = '/home/tais/SRC/GRASS/grass_trunk/dist.x86_64-pc-linux-gnu'\n",
    "os.environ['PATH'] += os.pathsep + os.path.join(os.environ['GISBASE'],'bin')\n",
    "os.environ['PATH'] += os.pathsep + os.path.join(os.environ['GISBASE'],'script')\n",
    "os.environ['PATH'] += os.pathsep + os.path.join(os.environ['GISBASE'],'lib')\n",
    "#os.environ['PATH'] += os.pathsep + os.path.join(os.environ['GISBASE'],'etc','python')\n",
    "os.environ['PYTHONPATH'] += os.pathsep + os.path.join(os.environ['GISBASE'],'etc','python')\n",
    "os.environ['PYTHONPATH'] += os.pathsep + os.path.join(os.environ['GISBASE'],'etc','python','grass')\n",
    "os.environ['PYTHONPATH'] += os.pathsep + os.path.join(os.environ['GISBASE'],'etc','python','grass','script')\n",
    "os.environ['PYTHONLIB'] = '/usr/lib/python2.7'\n",
    "os.environ['LD_LIBRARY_PATH'] += os.pathsep + os.path.join(os.environ['GISBASE'],'lib')\n",
    "os.environ['GIS_LOCK'] = '$$'\n",
    "os.environ['GISRC'] = os.path.join(os.environ['HOME'],'.grass7','rc')\n",
    "os.environ['PATH'] += os.pathsep + os.path.join(os.environ['HOME'],'.grass7','addons')\n",
    "os.environ['PATH'] += os.pathsep + os.path.join(os.environ['HOME'],'.grass7','addons','bin')\n",
    "os.environ['PATH'] += os.pathsep + os.path.join(os.environ['HOME'],'.grass7','addons')\n",
    "os.environ['PATH'] += os.pathsep + os.path.join(os.environ['HOME'],'.grass7','addons','scripts')\n",
    "\n",
    "## Define GRASS-Python environment\n",
    "sys.path.append(os.path.join(os.environ['GISBASE'],'etc','python'))"
   ]
  },
  {
   "cell_type": "markdown",
   "metadata": {},
   "source": [
    "**-_-_-_-_-_-_-_-_-_-_-_-_-_-_-_-_-_-_-_-_-_-_-_-_-_-_-_-_-_-_-_-_-_-_-_-_-_-_-_-_-_-_-_-_-_-_-_-_-_-_-_-_-_-_-_-_-_-_-_-_-**"
   ]
  },
  {
   "cell_type": "markdown",
   "metadata": {
    "collapsed": true
   },
   "source": [
    "**Display current environment variables of your computer**"
   ]
  },
  {
   "cell_type": "code",
   "execution_count": 4,
   "metadata": {
    "scrolled": true
   },
   "outputs": [
    {
     "name": "stdout",
     "output_type": "stream",
     "text": [
      "MDMSESSION = mate \t\n",
      "MANDATORY_PATH = /usr/share/gconf/mate.mandatory.path \t\n",
      "MATE_DESKTOP_SESSION_ID = this-is-deprecated \t\n",
      "LESSOPEN = | /usr/bin/lesspipe %s \t\n",
      "MDM_LANG = fr_BE.UTF-8 \t\n",
      "LOGNAME = tais \t\n",
      "USER = tais \t\n",
      "HOME = /home/tais \t\n",
      "XDG_VTNR = 9 \t\n",
      "PATH = /usr/local/bin:/home/tais/BIN:/home/tais/bin:/home/tais/.local/bin:/usr/local/sbin:/usr/local/bin:/usr/sbin:/usr/bin:/sbin:/bin:/usr/games:/usr/local/games:/home/tais/SRC/GRASS/grass_trunk/dist.x86_64-pc-linux-gnu/bin:/home/tais/SRC/GRASS/grass_trunk/dist.x86_64-pc-linux-gnu/script:/home/tais/SRC/GRASS/grass_trunk/dist.x86_64-pc-linux-gnu/lib:/home/tais/.grass7/addons:/home/tais/.grass7/addons/bin:/home/tais/.grass7/addons:/home/tais/.grass7/addons/scripts \t\n",
      "CLICOLOR = 1 \t\n",
      "DISPLAY = :0.0 \t\n",
      "SSH_AGENT_PID = 18486 \t\n",
      "LANG = fr_BE.UTF-8 \t\n",
      "TERM = xterm-color \t\n",
      "SHELL = /bin/bash \t\n",
      "GIS_LOCK = $$ \t\n",
      "XAUTHORITY = /home/tais/.Xauthority \t\n",
      "SESSION_MANAGER = local/tais-HP-Z620-Workstation:@/tmp/.ICE-unix/18415,unix/tais-HP-Z620-Workstation:/tmp/.ICE-unix/18415 \t\n",
      "SHLVL = 1 \t\n",
      "QT_LINUX_ACCESSIBILITY_ALWAYS_ON = 1 \t\n",
      "INSIDE_CAJA_PYTHON =  \t\n",
      "QT_ACCESSIBILITY = 1 \t\n",
      "LD_LIBRARY_PATH = :/home/tais/SRC/GRASS/grass_trunk/dist.x86_64-pc-linux-gnu/lib \t\n",
      "COMPIZ_CONFIG_PROFILE = mate \t\n",
      "WINDOWPATH = 9 \t\n",
      "GTK_OVERLAY_SCROLLING = 0 \t\n",
      "PYTHONPATH = :/home/tais/SRC/GRASS/grass_trunk/dist.x86_64-pc-linux-gnu/etc/python:/home/tais/SRC/GRASS/grass_trunk/dist.x86_64-pc-linux-gnu/etc/python/grass:/home/tais/SRC/GRASS/grass_trunk/dist.x86_64-pc-linux-gnu/etc/python/grass/script \t\n",
      "GISBASE = /home/tais/SRC/GRASS/grass_trunk/dist.x86_64-pc-linux-gnu \t\n",
      "CLUTTER_BACKEND = x11 \t\n",
      "USERNAME = tais \t\n",
      "XDG_SESSION_DESKTOP = mate \t\n",
      "GDM_XSERVER_LOCATION = local \t\n",
      "XDG_RUNTIME_DIR = /run/user/1000 \t\n",
      "JPY_PARENT_PID = 20623 \t\n",
      "QT_STYLE_OVERRIDE = gtk \t\n",
      "SSH_AUTH_SOCK = /run/user/1000/keyring/ssh \t\n",
      "VTE_VERSION = 4205 \t\n",
      "GDMSESSION = mate \t\n",
      "GISRC = /home/tais/.grass7/rc \t\n",
      "GIT_PAGER = cat \t\n",
      "XDG_CONFIG_DIRS = /etc/xdg/xdg-mate:/etc/xdg \t\n",
      "XDG_CURRENT_DESKTOP = MATE \t\n",
      "XDG_SESSION_ID = c60 \t\n",
      "DBUS_SESSION_BUS_ADDRESS = unix:abstract=/tmp/dbus-sEzHgWd5rr,guid=2a3c920837ce69590c86424d59dc5b17 \t\n",
      "_ = /usr/local/bin/jupyter \t\n",
      "XDG_SESSION_COOKIE = 8441891e86e24d76b9616edf516d5734-1507613463.153330-1273879448 \t\n",
      "DESKTOP_SESSION = mate \t\n",
      "WINDOWID = 85983238 \t\n",
      "LESSCLOSE = /usr/bin/lesspipe %s %s \t\n",
      "DEFAULTS_PATH = /usr/share/gconf/mate.default.path \t\n",
      "MPLBACKEND = module://ipykernel.pylab.backend_inline \t\n",
      "MDM_XSERVER_LOCATION = local \t\n",
      "GTK_MODULES = gail:atk-bridge \t\n",
      "XDG_DATA_DIRS = /usr/share/mate:/usr/local/share/:/usr/share/:/usr/share/mdm/ \t\n",
      "PWD = /media/tais/My_Book_1/MAUPP/Traitement/Ouagadougou/Segmentation_fullAOI_localapproach \t\n",
      "COLORTERM = mate-terminal \t\n",
      "PYTHONLIB = /usr/lib/python2.7 \t\n",
      "LS_COLORS = rs=0:di=01;34:ln=01;36:mh=00:pi=40;33:so=01;35:do=01;35:bd=40;33;01:cd=40;33;01:or=40;31;01:mi=00:su=37;41:sg=30;43:ca=30;41:tw=30;42:ow=34;42:st=37;44:ex=01;32:*.tar=01;31:*.tgz=01;31:*.arc=01;31:*.arj=01;31:*.taz=01;31:*.lha=01;31:*.lz4=01;31:*.lzh=01;31:*.lzma=01;31:*.tlz=01;31:*.txz=01;31:*.tzo=01;31:*.t7z=01;31:*.zip=01;31:*.z=01;31:*.Z=01;31:*.dz=01;31:*.gz=01;31:*.lrz=01;31:*.lz=01;31:*.lzo=01;31:*.xz=01;31:*.bz2=01;31:*.bz=01;31:*.tbz=01;31:*.tbz2=01;31:*.tz=01;31:*.deb=01;31:*.rpm=01;31:*.jar=01;31:*.war=01;31:*.ear=01;31:*.sar=01;31:*.rar=01;31:*.alz=01;31:*.ace=01;31:*.zoo=01;31:*.cpio=01;31:*.7z=01;31:*.rz=01;31:*.cab=01;31:*.jpg=01;35:*.jpeg=01;35:*.gif=01;35:*.bmp=01;35:*.pbm=01;35:*.pgm=01;35:*.ppm=01;35:*.tga=01;35:*.xbm=01;35:*.xpm=01;35:*.tif=01;35:*.tiff=01;35:*.png=01;35:*.svg=01;35:*.svgz=01;35:*.mng=01;35:*.pcx=01;35:*.mov=01;35:*.mpg=01;35:*.mpeg=01;35:*.m2v=01;35:*.mkv=01;35:*.webm=01;35:*.ogm=01;35:*.mp4=01;35:*.m4v=01;35:*.mp4v=01;35:*.vob=01;35:*.qt=01;35:*.nuv=01;35:*.wmv=01;35:*.asf=01;35:*.rm=01;35:*.rmvb=01;35:*.flc=01;35:*.avi=01;35:*.fli=01;35:*.flv=01;35:*.gl=01;35:*.dl=01;35:*.xcf=01;35:*.xwd=01;35:*.yuv=01;35:*.cgm=01;35:*.emf=01;35:*.ogv=01;35:*.ogx=01;35:*.aac=00;36:*.au=00;36:*.flac=00;36:*.m4a=00;36:*.mid=00;36:*.midi=00;36:*.mka=00;36:*.mp3=00;36:*.mpc=00;36:*.ogg=00;36:*.ra=00;36:*.wav=00;36:*.oga=00;36:*.opus=00;36:*.spx=00;36:*.xspf=00;36: \t\n",
      "PAGER = cat \t\n",
      "XDG_SEAT = seat0 \t\n"
     ]
    }
   ],
   "source": [
    "## Display the current defined environment variables\n",
    "for key in os.environ.keys():\n",
    "    print \"%s = %s \\t\" % (key,os.environ[key])"
   ]
  },
  {
   "cell_type": "markdown",
   "metadata": {},
   "source": [
    "**-_-_-_-_-_-_-_-_-_-_-_-_-_-_-_-_-_-_-_-_-_-_-_-_-_-_-_-_-_-_-_-_-_-_-_-_-_-_-_-_-_-_-_-_-_-_-_-_-_-_-_-_-_-_-_-_-_-_-_-_-**"
   ]
  },
  {
   "cell_type": "markdown",
   "metadata": {},
   "source": [
    "<center> <font size=5> <h1>User inputs</h1> </font> </center> "
   ]
  },
  {
   "cell_type": "code",
   "execution_count": 8,
   "metadata": {
    "collapsed": true
   },
   "outputs": [],
   "source": [
    "## Define a empty dictionnary for saving user inputs\n",
    "user={}"
   ]
  },
  {
   "cell_type": "markdown",
   "metadata": {},
   "source": [
    "Here after:\n",
    "- Enter the path to the directory you want to use as \"[GRASSDATA](https://grass.osgeo.org/programming7/loc_struct.png)\". \n",
    "- Enter the name of the location in which you want to work and its projection information in [EPSG code](http://spatialreference.org/ref/epsg/) format. Please note that the GRASSDATA folder and locations will be automatically created if not existing yet. If the location name already exists, the projection information will not be used.  \n",
    "- Enter the name you want for the mapsets which will be used later for Unsupervised Segmentation Parameter Optimization (USPO), Segmentation and Classification steps."
   ]
  },
  {
   "cell_type": "code",
   "execution_count": 9,
   "metadata": {
    "collapsed": true
   },
   "outputs": [],
   "source": [
    "## Enter the path to GRASSDATA folder\n",
    "user[\"gisdb\"] = \"/media/tais/My_Book_1/MAUPP/Traitement/Ouagadougou/Segmentation_fullAOI_localapproach/GRASSDATA\"\n",
    "\n",
    "## Enter the name of the location (existing or for a new one)\n",
    "user[\"location\"] = \"Ouaga_32630\"\n",
    "\n",
    "## Enter the EPSG code for this location \n",
    "user[\"locationepsg\"] = \"32630\"\n",
    "\n",
    "## Enter the name of the mapset to use for segmentation\n",
    "user[\"segmentation_mapsetname\"] = \"LOCAL_SEGMENT\"\n",
    "\n",
    "## Enter the name of the mapset to use for classification\n",
    "user[\"classificationA_mapsetname\"] = \"CLASSIF\""
   ]
  },
  {
   "cell_type": "markdown",
   "metadata": {},
   "source": [
    "**-_-_-_-_-_-_-_-_-_-_-_-_-_-_-_-_-_-_-_-_-_-_-_-_-_-_-_-_-_-_-_-_-_-_-_-_-_-_-_-_-_-_-_-_-_-_-_-_-_-_-_-_-_-_-_-_-_-_-_-_-**"
   ]
  },
  {
   "cell_type": "markdown",
   "metadata": {},
   "source": [
    "<center> <font size=5> <h1>Define GRASSDATA folder and create GRASS' location and mapsets</h1> </font> </center> "
   ]
  },
  {
   "cell_type": "markdown",
   "metadata": {},
   "source": [
    "Here after, the python script will check if GRASSDATA folder, locations and mapsets already exist. If not, they will be automatically created."
   ]
  },
  {
   "cell_type": "markdown",
   "metadata": {
    "collapsed": true
   },
   "source": [
    "**Import GRASS Python packages**"
   ]
  },
  {
   "cell_type": "code",
   "execution_count": 10,
   "metadata": {
    "collapsed": true
   },
   "outputs": [],
   "source": [
    "## Import libraries needed to launch GRASS GIS in the jupyter notebook\n",
    "import grass.script.setup as gsetup\n",
    "\n",
    "## Import libraries needed to call GRASS using Python\n",
    "import grass.script as grass"
   ]
  },
  {
   "cell_type": "markdown",
   "metadata": {
    "collapsed": true
   },
   "source": [
    "**Define GRASSDATA folder and create location and mapsets**"
   ]
  },
  {
   "cell_type": "code",
   "execution_count": 7,
   "metadata": {},
   "outputs": [
    {
     "name": "stdout",
     "output_type": "stream",
     "text": [
      "GRASSDATA folder already exist\n"
     ]
    }
   ],
   "source": [
    "## Automatic creation of GRASSDATA folder\n",
    "if os.path.exists(user[\"gisdb\"]):\n",
    "    print \"GRASSDATA folder already exist\" \n",
    "else: \n",
    "    os.makedirs(user[\"gisdb\"]) \n",
    "    print \"GRASSDATA folder created in \"+user[\"gisdb\"]"
   ]
  },
  {
   "cell_type": "code",
   "execution_count": 8,
   "metadata": {
    "scrolled": false
   },
   "outputs": [
    {
     "name": "stdout",
     "output_type": "stream",
     "text": [
      "Location Ouaga_32630 already exist\n"
     ]
    }
   ],
   "source": [
    "## Automatic creation of GRASS location is doesn't exist\n",
    "if os.path.exists(os.path.join(user[\"gisdb\"],user[\"location\"])):\n",
    "    print \"Location \"+user[\"location\"]+\" already exist\" \n",
    "else : \n",
    "    grass.core.create_location(user[\"gisdb\"], user[\"location\"], epsg=user[\"locationepsg\"], overwrite=False)\n",
    "    print \"Location \"+user[\"location\"]+\" created\""
   ]
  },
  {
   "cell_type": "code",
   "execution_count": 9,
   "metadata": {},
   "outputs": [
    {
     "name": "stdout",
     "output_type": "stream",
     "text": [
      "'CLASSIF' mapset already exist\n"
     ]
    }
   ],
   "source": [
    "### Automatic creation of GRASS GIS mapsets\n",
    "\n",
    "## Import library for file copying \n",
    "import shutil\n",
    "\n",
    "mapsetname=user[\"classificationA_mapsetname\"]\n",
    "if os.path.exists(os.path.join(user[\"gisdb\"],user[\"location\"],mapsetname)):\n",
    "    if not os.path.exists(os.path.join(user[\"gisdb\"],user[\"location\"],mapsetname,'WIND')):\n",
    "        print \"WARNING: '\"+mapsetname+\"' mapset already exist, but a 'WIND' file is missing. Please solve this issue.\"\n",
    "    else: print \"'\"+mapsetname+\"' mapset already exist\" \n",
    "else: \n",
    "    os.makedirs(os.path.join(user[\"gisdb\"],user[\"location\"],mapsetname))\n",
    "    shutil.copy(os.path.join(user[\"gisdb\"],user[\"location\"],'PERMANENT','WIND'),os.path.join(user[\"gisdb\"],user[\"location\"],mapsetname,'WIND'))\n",
    "    print \"'\"+mapsetname+\"' mapset created in location '\"+user[\"location\"]+\"'\""
   ]
  },
  {
   "cell_type": "code",
   "execution_count": 10,
   "metadata": {},
   "outputs": [
    {
     "name": "stdout",
     "output_type": "stream",
     "text": [
      "'LOCAL_SEGMENT' mapset already exist\n"
     ]
    }
   ],
   "source": [
    "### Automatic creation of GRASS GIS mapsets\n",
    "\n",
    "## Import library for file copying \n",
    "import shutil\n",
    "\n",
    "mapsetname=user[\"segmentation_mapsetname\"]\n",
    "if os.path.exists(os.path.join(user[\"gisdb\"],user[\"location\"],mapsetname)):\n",
    "    if not os.path.exists(os.path.join(user[\"gisdb\"],user[\"location\"],mapsetname,'WIND')):\n",
    "        print \"WARNING: '\"+mapsetname+\"' mapset already exist, but a 'WIND' file is missing. Please solve this issue.\"\n",
    "    else: print \"'\"+mapsetname+\"' mapset already exist\" \n",
    "else: \n",
    "    os.makedirs(os.path.join(user[\"gisdb\"],user[\"location\"],mapsetname))\n",
    "    shutil.copy(os.path.join(user[\"gisdb\"],user[\"location\"],'PERMANENT','WIND'),os.path.join(user[\"gisdb\"],user[\"location\"],mapsetname,'WIND'))\n",
    "    print \"'\"+mapsetname+\"' mapset created in location '\"+user[\"location\"]+\"'\""
   ]
  },
  {
   "cell_type": "markdown",
   "metadata": {},
   "source": [
    "**-_-_-_-_-_-_-_-_-_-_-_-_-_-_-_-_-_-_-_-_-_-_-_-_-_-_-_-_-_-_-_-_-_-_-_-_-_-_-_-_-_-_-_-_-_-_-_-_-_-_-_-_-_-_-_-_-_-_-_-_-**"
   ]
  },
  {
   "cell_type": "markdown",
   "metadata": {},
   "source": [
    "<center> <font size=5> <h1>Define functions</h1> </font> </center> "
   ]
  },
  {
   "cell_type": "markdown",
   "metadata": {},
   "source": [
    "This section of the notebook is dedicated to defining functions which will then be called later in the script. If you want to create your own functions, define them here."
   ]
  },
  {
   "cell_type": "markdown",
   "metadata": {},
   "source": [
    "### Function for computing processing time"
   ]
  },
  {
   "cell_type": "markdown",
   "metadata": {},
   "source": [
    "The \"print_processing_time\" is used to calculate and display the processing time for various stages of the processing chain. At the beginning of each major step, the current time is stored in a new variable, using [time.time() function](https://docs.python.org/2/library/time.html). At the end of the stage in question, the \"print_processing_time\" function is called and takes as argument the name of this new variable containing the recorded time at the beginning of the stage, and an output message."
   ]
  },
  {
   "cell_type": "code",
   "execution_count": 8,
   "metadata": {
    "collapsed": true
   },
   "outputs": [],
   "source": [
    "## Import library for managing time in python\n",
    "import time  \n",
    "\n",
    "## Function \"print_processing_time()\" compute processing time and printing it.\n",
    "# The argument \"begintime\" wait for a variable containing the begintime (result of time.time()) of the process for which to compute processing time.\n",
    "# The argument \"printmessage\" wait for a string format with information about the process. \n",
    "def print_processing_time(begintime, printmessage):    \n",
    "    endtime=time.time()           \n",
    "    processtime=endtime-begintime\n",
    "    remainingtime=processtime\n",
    "\n",
    "    days=int((remainingtime)/86400)\n",
    "    remainingtime-=(days*86400)\n",
    "    hours=int((remainingtime)/3600)\n",
    "    remainingtime-=(hours*3600)\n",
    "    minutes=int((remainingtime)/60)\n",
    "    remainingtime-=(minutes*60)\n",
    "    seconds=round((remainingtime)%60,1)\n",
    "\n",
    "    if processtime<60:\n",
    "        finalprintmessage=str(printmessage)+str(seconds)+\" seconds\"\n",
    "    elif processtime<3600:\n",
    "        finalprintmessage=str(printmessage)+str(minutes)+\" minutes and \"+str(seconds)+\" seconds\"\n",
    "    elif processtime<86400:\n",
    "        finalprintmessage=str(printmessage)+str(hours)+\" hours and \"+str(minutes)+\" minutes and \"+str(seconds)+\" seconds\"\n",
    "    elif processtime>=86400:\n",
    "        finalprintmessage=str(printmessage)+str(days)+\" days, \"+str(hours)+\" hours and \"+str(minutes)+\" minutes and \"+str(seconds)+\" seconds\"\n",
    "    \n",
    "    return finalprintmessage"
   ]
  },
  {
   "cell_type": "markdown",
   "metadata": {
    "collapsed": true
   },
   "source": [
    "### Function for concatenate individual .csv files and replace unwanted values"
   ]
  },
  {
   "cell_type": "code",
   "execution_count": 11,
   "metadata": {
    "collapsed": true
   },
   "outputs": [],
   "source": [
    "## Function which concatenate individual .csv files stored in a folder. \n",
    "# 'indir' parameter wait for a string with the path to the repertory to look for individual .csv files\n",
    "# 'pattern' parameter wait for a string with the pattern of filename to look for (example: \"TMP_*.csv\")\n",
    "# 'sep' parameter wait for a string with the delimiter of the .csv file\n",
    "# 'replacedict' parameter wait for a dictionary containing the unwanted values as keys and the replace string as corresponding value\n",
    "# 'outputfilename' parameter wait for the name of the outputfile (including extansion but without the complete path)\n",
    "\n",
    "import os\n",
    "import glob\n",
    "import csv\n",
    "\n",
    "def concat_findreplace(indir,pattern,sep,replacedict,outputfilename):\n",
    "    # Initialise some variables\n",
    "    messagetoprint=None\n",
    "    returnmessage=None\n",
    "    countdict={}\n",
    "    for k in replacedict:\n",
    "        countdict[k]=0\n",
    "    # Change the working directory\n",
    "    os.chdir(indir) \n",
    "    # Get a list with file in the current directory corresponding to a specific pattern\n",
    "    fileList=None\n",
    "    fileList=glob.glob(pattern)\n",
    "    # Print\n",
    "    messagetoprint=\"Going to concatenate \"+str(len(fileList))+\" .csv files together and replace unwanted values.\"\n",
    "    #print (messagetoprint)\n",
    "    returnmessage=messagetoprint\n",
    "    # Create a new file \n",
    "    outfile=os.path.join(indir, outputfilename)\n",
    "    writercsvSubset = open(outfile, 'wb')\n",
    "    writercsv=csv.writer(writercsvSubset,delimiter=sep)\n",
    "    # Concatenate individuals files and replace unwanted values\n",
    "    for indivfile in fileList:\n",
    "        with open(indivfile) as readercsvSubset:\n",
    "            readercsv=csv.reader(readercsvSubset, delimiter=sep)\n",
    "            if indivfile!=fileList[0]:\n",
    "                readercsv.next()\n",
    "            count=0\n",
    "            for row in readercsv:\n",
    "                newline=[]\n",
    "                for i, x in enumerate(row):\n",
    "                    if x in replacedict:\n",
    "                        newline.append(replacedict[x])\n",
    "                        countdict[x]+=1\n",
    "                    else:\n",
    "                        newline.append(row[i])\n",
    "                writercsv.writerow(newline)\n",
    "        # Close the current input file\n",
    "        readercsvSubset.close()\n",
    "    # Close the outputfile\n",
    "    writercsvSubset.close()\n",
    "    # Count number of changes\n",
    "    countchange=0\n",
    "    for k in countdict:\n",
    "        countchange+=countdict[k]\n",
    "    # Print\n",
    "    if countchange>0:\n",
    "        messagetoprint=\"\\n\"\n",
    "        returnmessage+=messagetoprint\n",
    "        messagetoprint=\"Values have been changed:\"+\"\\n\"\n",
    "        #print (messagetoprint)\n",
    "        returnmessage+=messagetoprint\n",
    "        for k in replacedict:\n",
    "            if countdict[k]>0:\n",
    "                messagetoprint=str(countdict[k])+\" '\"+k+\"' value(s) replaced by '\"+replacedict[k]+\"'\\n\"\n",
    "                #print (messagetoprint)\n",
    "                returnmessage+=messagetoprint\n",
    "    else:\n",
    "        messagetoprint=\"Nothing changed. No unwanted values found !\"\n",
    "        #print (messagetoprint)\n",
    "        returnmessage+=messagetoprint\n",
    "    # Return\n",
    "    return returnmessage[:-1]"
   ]
  },
  {
   "cell_type": "markdown",
   "metadata": {
    "collapsed": true
   },
   "source": [
    "### Function for Postgres database vaccum"
   ]
  },
  {
   "cell_type": "code",
   "execution_count": 12,
   "metadata": {
    "collapsed": true
   },
   "outputs": [],
   "source": [
    "# Do a VACUUM on the current Postgresql database\n",
    "def vacuum(db):\n",
    "    old_isolation_level = db.isolation_level\n",
    "    db.set_isolation_level(0)\n",
    "    query = \"VACUUM\"\n",
    "    cur.execute(query)\n",
    "    db.set_isolation_level(old_isolation_level)"
   ]
  },
  {
   "cell_type": "markdown",
   "metadata": {
    "collapsed": true
   },
   "source": [
    "### Function for finding duplicated 'cat' in the PostGis table"
   ]
  },
  {
   "cell_type": "code",
   "execution_count": 13,
   "metadata": {
    "collapsed": true
   },
   "outputs": [],
   "source": [
    "def find_duplicated_cat():\n",
    "    # Build a query to drop table if exists\n",
    "    query=\"DROP TABLE IF EXISTS \"+schema+\".duplic_cat\"\n",
    "    # Execute the query \n",
    "    cur.execute(query)\n",
    "    # Make the changes to the database persistent\n",
    "    db.commit()\n",
    "\n",
    "    # Build a query to select duplicated 'cat' values\n",
    "    query=\"CREATE TABLE \"+schema+\".duplic_cat AS \\\n",
    "    SELECT cat, min(area) as area_min, max(area) as area_max, count(*) as duplic_nbr \\\n",
    "    FROM \"+schema+\".\"+object_stats_table+\" \\\n",
    "    GROUP BY cat HAVING count(*) > 1.0 \\\n",
    "    ORDER BY duplic_nbr, cat\"\n",
    "    # Execute the query \n",
    "    cur.execute(query)\n",
    "    # Make the changes to the database persistent\n",
    "    db.commit()\n",
    "\n",
    "    # Build a query to select duplicated 'cat' values\n",
    "    query=\"SELECT *\\\n",
    "    FROM \"+schema+\".duplic_cat\"\n",
    "    # Execute the query\n",
    "    df=pd.read_sql(query, db)\n",
    "\n",
    "    ## Create a list with duplicated 'cat' values to be droped\n",
    "    global cattodrop\n",
    "    cattodrop=list(df['cat'])"
   ]
  },
  {
   "cell_type": "markdown",
   "metadata": {
    "collapsed": true
   },
   "source": [
    "### Function for finding duplicated 'key' in the PostGis table"
   ]
  },
  {
   "cell_type": "code",
   "execution_count": 14,
   "metadata": {
    "collapsed": true
   },
   "outputs": [],
   "source": [
    "def find_duplicated_key():\n",
    "    # Build a query to select 'key_value' of duplicated objects values\n",
    "    query=\"SELECT a.key_value, a.cat , a.area, b.area_min \\\n",
    "    FROM (SELECT * FROM \"+schema+\".\"+object_stats_table+\" WHERE cat IN (\"+\"'\"+\"','\".join(cattodrop)+\"'\"+\"))AS a \\\n",
    "    LEFT JOIN \"+schema+\".duplic_cat AS b ON a.cat = b.cat \\\n",
    "    WHERE  a.area=b.area_min \\\n",
    "    ORDER BY a.cat ASC\"\n",
    "    # Execute the query\n",
    "    df=pd.read_sql(query, db)\n",
    "\n",
    "    ## Create a list with 'key_value' of rows to be droped\n",
    "    global keytodrop\n",
    "    keytodrop=list(df['key_value'])\n",
    "    \n",
    "    # Build a query to drop table if exists\n",
    "    query=\"DROP TABLE IF EXISTS \"+schema+\".duplic_cat\"\n",
    "    # Execute the query \n",
    "    cur.execute(query)\n",
    "    # Make the changes to the database persistent\n",
    "    db.commit()"
   ]
  },
  {
   "cell_type": "markdown",
   "metadata": {
    "collapsed": true
   },
   "source": [
    "### Function for removing the duplicated 'key' in the PostGis table"
   ]
  },
  {
   "cell_type": "code",
   "execution_count": 15,
   "metadata": {
    "collapsed": true
   },
   "outputs": [],
   "source": [
    "def remove_duplicated_key():\n",
    "    # If list of key to drop is not empty\n",
    "    if len(keytodrop)>0:\n",
    "        # Build a query to delete specific rows\n",
    "        query=\"DELETE FROM \"+schema+\".\"+object_stats_table+\" \\\n",
    "        WHERE key_value IN (\"+\"\"+\",\".join(str(x) for x in keytodrop)+\")\"\n",
    "        # Execute the query \n",
    "        cur.execute(query)\n",
    "        # Make the changes to the database persistent\n",
    "        db.commit()\n",
    "    else: \n",
    "        print \"There is no duplicates to delete from '\"+schema+\".\"+object_stats_table+\"'\""
   ]
  },
  {
   "cell_type": "markdown",
   "metadata": {},
   "source": [
    "**-_-_-_-_-_-_-_-_-_-_-_-_-_-_-_-_-_-_-_-_-_-_-_-_-_-_-_-_-_-_-_-_-_-_-_-_-_-_-_-_-_-_-_-_-_-_-_-_-_-_-_-_-_-_-_-_-_-_-_-_-**"
   ]
  },
  {
   "cell_type": "markdown",
   "metadata": {},
   "source": [
    "### Instal GRASS extensions"
   ]
  },
  {
   "cell_type": "markdown",
   "metadata": {},
   "source": [
    "GRASS GIS have both a core part (the one installed by default on your computer) and add-ons (which have to be installed using the extension manager ['g.extension'](https://grass.osgeo.org/grass72/manuals/g.extension.html)).\n",
    "\n",
    "In the next cell, 'i.segment.uspo' will be installed (if not yet) and also other add-ons ['r.neighborhoodmatrix'](https://grass.osgeo.org/grass70/manuals/addons/r.neighborhoodmatrix.html) and ['i.segment.hierarchical'](https://grass.osgeo.org/grass70/manuals/addons/i.segment.hierarchical.html) required for running i.segment.uspo."
   ]
  },
  {
   "cell_type": "code",
   "execution_count": 22,
   "metadata": {},
   "outputs": [
    {
     "name": "stdout",
     "output_type": "stream",
     "text": [
      "You are now working in mapset 'PERMANENT'\n",
      "r.neighborhoodmatrix is already installed on your computer\n",
      "i.segment.hierarchical is already installed on your computer\n",
      "i.segment.uspo is already installed on your computer\n",
      "i.segment.stats is already installed on your computer\n",
      "r.object.geometry is already installed on your computer\n"
     ]
    }
   ],
   "source": [
    "## Launch GRASS GIS working session in the PERMANENT mapset\n",
    "if os.path.exists(os.path.join(user[\"gisdb\"],user[\"location\"],\"PERMANENT\")):\n",
    "    gsetup.init(os.environ['GISBASE'], user[\"gisdb\"], user[\"location\"], \"PERMANENT\")\n",
    "    print \"You are now working in mapset 'PERMANENT'\" \n",
    "else: \n",
    "    print \"'PERMANENT' mapset doesn't exists in \"+user[\"gisdb\"]\n",
    "    \n",
    "## Instal r.neighborhoodmatrix if not yet installed\n",
    "if \"r.neighborhoodmatrix\" not in grass.parse_command('g.extension', flags=\"a\"):\n",
    "    grass.run_command('g.extension', extension=\"r.neighborhoodmatrix\")\n",
    "    print \"r.neighborhoodmatrix have been installed on your computer\"\n",
    "else: print \"r.neighborhoodmatrix is already installed on your computer\" \n",
    "\n",
    "## Instal i.segment.hierarchical if not yet installed\n",
    "if \"i.segment.hierarchical\" not in grass.parse_command('g.extension', flags=\"a\"):\n",
    "    grass.run_command('g.extension', extension=\"i.segment.hierarchical\")\n",
    "    print \"i.segment.hierarchical have been installed on your computer\"\n",
    "else: print \"i.segment.hierarchical is already installed on your computer\" \n",
    "\n",
    "## Instal i.segment.uspo if not yet installed\n",
    "if \"i.segment.uspo\" not in grass.parse_command('g.extension', flags=\"a\"):\n",
    "    grass.run_command('g.extension', extension=\"i.segment.uspo\")\n",
    "    print \"i.segment.uspo have been installed on your computer\"\n",
    "else: print \"i.segment.uspo is already installed on your computer\" \n",
    "    \n",
    "## Instal i.segment.stats if not yet installed\n",
    "if \"i.segment.stats\" not in grass.parse_command('g.extension', flags=\"a\"):\n",
    "    grass.run_command('g.extension', extension=\"i.segment.stats\")\n",
    "    print \"i.segment.stats have been installed on your computer\"\n",
    "else: print \"i.segment.stats is already installed on your computer\" \n",
    "    \n",
    "## Instal r.object.geometry if not yet installed\n",
    "if \"r.object.geometry\" not in grass.parse_command('g.extension', flags=\"a\"):\n",
    "    grass.run_command('g.extension', extension=\"r.object.geometry\")\n",
    "    print \"r.object.geometry have been installed on your computer\"\n",
    "else: print \"r.object.geometry is already installed on your computer\" "
   ]
  },
  {
   "cell_type": "markdown",
   "metadata": {},
   "source": [
    "**-_-_-_-_-_-_-_-_-_-_-_-_-_-_-_-_-_-_-_-_-_-_-_-_-_-_-_-_-_-_-_-_-_-_-_-_-_-_-_-_-_-_-_-_-_-_-_-_-_-_-_-_-_-_-_-_-_-_-_-_-**"
   ]
  },
  {
   "cell_type": "code",
   "execution_count": 23,
   "metadata": {
    "collapsed": true
   },
   "outputs": [],
   "source": [
    "## Saving current time for processing time management\n",
    "begintime_full=time.time()"
   ]
  },
  {
   "cell_type": "markdown",
   "metadata": {},
   "source": [
    "**-_-_-_-_-_-_-_-_-_-_-_-_-_-_-_-_-_-_-_-_-_-_-_-_-_-_-_-_-_-_-_-_-_-_-_-_-_-_-_-_-_-_-_-_-_-_-_-_-_-_-_-_-_-_-_-_-_-_-_-_-**"
   ]
  },
  {
   "cell_type": "markdown",
   "metadata": {},
   "source": [
    "# Importing the NDVI layer"
   ]
  },
  {
   "cell_type": "code",
   "execution_count": 29,
   "metadata": {},
   "outputs": [
    {
     "name": "stdout",
     "output_type": "stream",
     "text": [
      "Importing NDVI raster imagery at Tue Sep 26 14:25:01 2017\n"
     ]
    },
    {
     "data": {
      "text/plain": [
       "'imagery has been imported in 11 minutes and 8.9 seconds'"
      ]
     },
     "execution_count": 29,
     "metadata": {},
     "output_type": "execute_result"
    }
   ],
   "source": [
    "## Saving current time for processing time management\n",
    "begintime_ndvi=time.time()\n",
    "\n",
    "## Import nDSM imagery \n",
    "print (\"Importing NDVI raster imagery at \" + time.ctime())\n",
    "grass.run_command('r.import', \n",
    "                  input=\"/media/tais/data/MAUPP/WorldView3_Ouagadougou/Orthorectified/mosaique_georef/NDVI/ndvi_georef_ordre2.TIF\", \n",
    "                  output=\"ndvi\", overwrite=True)\n",
    "\n",
    "# Mask null/nodata values\n",
    "grass.run_command('r.null', map=\"ndvi\")\n",
    "\n",
    "print_processing_time(begintime_ndvi, \"imagery has been imported in \")"
   ]
  },
  {
   "cell_type": "markdown",
   "metadata": {},
   "source": [
    "# Importing the nDSM layer"
   ]
  },
  {
   "cell_type": "code",
   "execution_count": null,
   "metadata": {
    "collapsed": true
   },
   "outputs": [],
   "source": [
    "## Saving current time for processing time management\n",
    "begintime_ndsm=time.time()\n",
    "\n",
    "## Import nDSM imagery \n",
    "print (\"Importing nDSM raster imagery at \" + time.ctime())\n",
    "grass.run_command('r.import', \n",
    "                  input=\"/media/tais/data/MAUPP/WorldView3_Ouagadougou/Orthorectified/mosaique_georef/nDSM/nDSM_mosaik_georef_ordre2.tif\", \n",
    "                  output=\"ndsm\", overwrite=True)\n",
    "\n",
    "## Define null value for specific value in nDSM raster. Adapt the value to your own data. \n",
    "# If there is no null value in your data, comment the next line\n",
    "grass.run_command('r.null', map=\"ndsm\", setnull=\"-999\")\n",
    "\n",
    "# Make histogram equalisation on grey color.\n",
    "grass.run_command('r.colors', flags='e', map='ndsm', color='grey')\n",
    "\n",
    "print_processing_time(begintime_ndsm, \"nDSM imagery has been imported in \")"
   ]
  },
  {
   "cell_type": "markdown",
   "metadata": {},
   "source": [
    "### Masking the nDSM artifacts"
   ]
  },
  {
   "cell_type": "code",
   "execution_count": 39,
   "metadata": {},
   "outputs": [
    {
     "data": {
      "text/plain": [
       "0"
      ]
     },
     "execution_count": 39,
     "metadata": {},
     "output_type": "execute_result"
    }
   ],
   "source": [
    "# Import vector with nDSM artifacts zones\n",
    "grass.run_command('v.in.ogr', overwrite=True, \n",
    "                  input=\"/media/tais/data/MAUPP/WorldView3_Ouagadougou/Masque_artifacts_nDSM/Ouaga_mask_artifacts_nDSM.shp\",\n",
    "                  output=\"mask_artifacts_ndsm\")"
   ]
  },
  {
   "cell_type": "code",
   "execution_count": 40,
   "metadata": {},
   "outputs": [
    {
     "data": {
      "text/plain": [
       "0"
      ]
     },
     "execution_count": 40,
     "metadata": {},
     "output_type": "execute_result"
    }
   ],
   "source": [
    "## Set computational region to match the default region\n",
    "grass.run_command('g.region', overwrite=True, raster=\"ndsm\")\n",
    "# Rasterize the vector layer, with value \"0\" on the artifacts zones\n",
    "grass.run_command('v.to.rast', input='mask_artifacts_ndsm', output='mask_artifacts_ndsm', use='val', value='0', memory='5000')"
   ]
  },
  {
   "cell_type": "code",
   "execution_count": 41,
   "metadata": {},
   "outputs": [
    {
     "data": {
      "text/plain": [
       "0"
      ]
     },
     "execution_count": 41,
     "metadata": {},
     "output_type": "execute_result"
    }
   ],
   "source": [
    "## Set computational region to match the default region\n",
    "grass.run_command('g.region', overwrite=True, raster=\"ndsm\")\n",
    "## Create a new nDSM with artifacts filled with '0' value\n",
    "formula='tmp_artifact=nmin(ndsm,mask_artifacts_ndsm)'\n",
    "grass.mapcalc(formula, overwrite=True)\n",
    "## Remove the artifact mask\n",
    "grass.run_command('g.remove', flags='f', type='raster', name=\"mask_artifacts_ndsm\")"
   ]
  },
  {
   "cell_type": "code",
   "execution_count": 42,
   "metadata": {},
   "outputs": [
    {
     "data": {
      "text/plain": [
       "0"
      ]
     },
     "execution_count": 42,
     "metadata": {},
     "output_type": "execute_result"
    }
   ],
   "source": [
    "## Rename the new nDSM\n",
    "grass.run_command('g.rename', raster='tmp_artifact,ndsm', overwrite=True)"
   ]
  },
  {
   "cell_type": "code",
   "execution_count": 38,
   "metadata": {},
   "outputs": [
    {
     "data": {
      "text/plain": [
       "0"
      ]
     },
     "execution_count": 38,
     "metadata": {},
     "output_type": "execute_result"
    }
   ],
   "source": [
    "## Remove the intermediate nDSM layer\n",
    "grass.run_command('g.remove', flags='f', type='raster', name=\"tmp_artifact\")"
   ]
  },
  {
   "cell_type": "markdown",
   "metadata": {},
   "source": [
    "# Importing SAR Features"
   ]
  },
  {
   "cell_type": "code",
   "execution_count": null,
   "metadata": {
    "collapsed": true
   },
   "outputs": [],
   "source": []
  },
  {
   "cell_type": "code",
   "execution_count": null,
   "metadata": {
    "collapsed": true
   },
   "outputs": [],
   "source": []
  },
  {
   "cell_type": "code",
   "execution_count": null,
   "metadata": {
    "collapsed": true
   },
   "outputs": [],
   "source": []
  },
  {
   "cell_type": "code",
   "execution_count": null,
   "metadata": {
    "collapsed": true
   },
   "outputs": [],
   "source": []
  },
  {
   "cell_type": "markdown",
   "metadata": {},
   "source": [
    "# Create new database in postgresql"
   ]
  },
  {
   "cell_type": "code",
   "execution_count": 14,
   "metadata": {
    "collapsed": true
   },
   "outputs": [],
   "source": [
    "# User for postgresql connexion\n",
    "dbuser=\"tais\"\n",
    "# Password of user\n",
    "dbpassword=\"tais\"\n",
    "# Host of database\n",
    "host=\"localhost\"\n",
    "# Name of the new database\n",
    "dbname=\"ouaga_fullaoi_localsegment\"\n",
    "# Set name of schema for classification A\n",
    "#schema_a=\"classif_a\"\n",
    "# Set name of schema for classification B\n",
    "#schema_b=\"classif_b\"\n",
    "# Set name of schema for classification C\n",
    "#schema_c=\"classif_c\"\n",
    "# Set name of table with statistics of segments\n",
    "object_stats_table=\"objects_statistics\"\n",
    "# Set name of table with samples and theirs labels\n",
    "samples_labels=\"samples_labels\"\n",
    "# Set name of table with samples and theirs statistics\n",
    "sample_stats=\"samples_stat\"\n",
    "# Set name of table with samples and theirs standardized statistics\n",
    "sample_zstats=\"samples_zstat\"\n",
    "# Set name of table with the training samples\n",
    "sample_training=\"samples_training\"\n",
    "# Set name of table with the test samples\n",
    "sample_test=\"samples_test\"\n",
    "# Set name of table with the test samples and theirs statistics\n",
    "sample_test_stats=\"samples_test_stats\"\n",
    "# Set name of table with results of classification\n",
    "classif=\"classif\"\n",
    "# Set name of table with groundtruth and classification results\n",
    "groundtruth_classif=\"groundtruth_classif\""
   ]
  },
  {
   "cell_type": "code",
   "execution_count": 45,
   "metadata": {},
   "outputs": [
    {
     "ename": "ProgrammingError",
     "evalue": "ERREUR:  la base de données « ouaga_fullaoi_localsegment » existe déjà\n",
     "output_type": "error",
     "traceback": [
      "\u001b[0;31m---------------------------------------------------------------------------\u001b[0m",
      "\u001b[0;31mProgrammingError\u001b[0m                          Traceback (most recent call last)",
      "\u001b[0;32m<ipython-input-45-b4d22f392ff8>\u001b[0m in \u001b[0;36m<module>\u001b[0;34m()\u001b[0m\n\u001b[1;32m     11\u001b[0m \u001b[0mcur\u001b[0m\u001b[0;34m=\u001b[0m\u001b[0mdb\u001b[0m\u001b[0;34m.\u001b[0m\u001b[0mcursor\u001b[0m\u001b[0;34m(\u001b[0m\u001b[0;34m)\u001b[0m\u001b[0;34m\u001b[0m\u001b[0m\n\u001b[1;32m     12\u001b[0m \u001b[0;31m#cur.execute('DROP DATABASE IF EXISTS ' + dbname) #Comment this to avoid deleting existing DB\u001b[0m\u001b[0;34m\u001b[0m\u001b[0;34m\u001b[0m\u001b[0m\n\u001b[0;32m---> 13\u001b[0;31m \u001b[0mcur\u001b[0m\u001b[0;34m.\u001b[0m\u001b[0mexecute\u001b[0m\u001b[0;34m(\u001b[0m\u001b[0;34m'CREATE DATABASE '\u001b[0m \u001b[0;34m+\u001b[0m \u001b[0mdbname\u001b[0m\u001b[0;34m)\u001b[0m\u001b[0;34m\u001b[0m\u001b[0m\n\u001b[0m\u001b[1;32m     14\u001b[0m \u001b[0mcur\u001b[0m\u001b[0;34m.\u001b[0m\u001b[0mclose\u001b[0m\u001b[0;34m(\u001b[0m\u001b[0;34m)\u001b[0m\u001b[0;34m\u001b[0m\u001b[0m\n\u001b[1;32m     15\u001b[0m \u001b[0mdb\u001b[0m\u001b[0;34m.\u001b[0m\u001b[0mclose\u001b[0m\u001b[0;34m(\u001b[0m\u001b[0;34m)\u001b[0m\u001b[0;34m\u001b[0m\u001b[0m\n",
      "\u001b[0;31mProgrammingError\u001b[0m: ERREUR:  la base de données « ouaga_fullaoi_localsegment » existe déjà\n"
     ]
    }
   ],
   "source": [
    "from psycopg2.extensions import ISOLATION_LEVEL_AUTOCOMMIT\n",
    "\n",
    "# Connect to postgres database\n",
    "db=None\n",
    "db=pg.connect(dbname='postgres', user=dbuser, password=dbpassword, host=host)\n",
    "\n",
    "# Allow to create a new database\n",
    "db.set_isolation_level(ISOLATION_LEVEL_AUTOCOMMIT)\n",
    "\n",
    "# Execute the CREATE DATABASE query\n",
    "cur=db.cursor()\n",
    "#cur.execute('DROP DATABASE IF EXISTS ' + dbname) #Comment this to avoid deleting existing DB\n",
    "cur.execute('CREATE DATABASE ' + dbname)\n",
    "cur.close()\n",
    "db.close()"
   ]
  },
  {
   "cell_type": "markdown",
   "metadata": {},
   "source": [
    "## Create PostGIS Extension in the database"
   ]
  },
  {
   "cell_type": "code",
   "execution_count": 46,
   "metadata": {
    "collapsed": true
   },
   "outputs": [],
   "source": [
    "# Connect to the database\n",
    "db=pg.connect(database=dbname, user=dbuser, password=dbpassword, host=host)\n",
    "# Open a cursor to perform database operations\n",
    "cur=db.cursor()\n",
    "# Execute the query\n",
    "cur.execute('CREATE EXTENSION IF NOT EXISTS postgis')\n",
    "# Make the changes to the database persistent\n",
    "db.commit()\n",
    "# Close connection with database\n",
    "cur.close()\n",
    "db.close()"
   ]
  },
  {
   "cell_type": "markdown",
   "metadata": {},
   "source": [
    "**-_-_-_-_-_-_-_-_-_-_-_-_-_-_-_-_-_-_-_-_-_-_-_-_-_-_-_-_-_-_-_-_-_-_-_-_-_-_-_-_-_-_-_-_-_-_-_-_-_-_-_-_-_-_-_-_-_-_-_-_-**"
   ]
  },
  {
   "cell_type": "markdown",
   "metadata": {},
   "source": [
    "## Define input raster for computing statistics of segments"
   ]
  },
  {
   "cell_type": "code",
   "execution_count": 112,
   "metadata": {},
   "outputs": [
    {
     "name": "stdout",
     "output_type": "stream",
     "text": [
      "Layer to be used to compute raster statistics of segments:\n",
      "opt_blue\n",
      "opt_green\n",
      "opt_red\n",
      "opt_nir\n",
      "ndsm\n",
      "ndvi\n"
     ]
    }
   ],
   "source": [
    "## Define the list of raster layers for which statistics will be computed\n",
    "inputstats=[]\n",
    "inputstats.append(\"opt_blue\")\n",
    "inputstats.append(\"opt_green\")\n",
    "inputstats.append(\"opt_red\")\n",
    "inputstats.append(\"opt_nir\")\n",
    "inputstats.append(\"ndsm\")\n",
    "inputstats.append(\"ndvi\")\n",
    "\n",
    "print \"Layer to be used to compute raster statistics of segments:\\n\"+'\\n'.join(inputstats)"
   ]
  },
  {
   "cell_type": "code",
   "execution_count": 113,
   "metadata": {},
   "outputs": [
    {
     "name": "stdout",
     "output_type": "stream",
     "text": [
      "Raster statistics to be computed:\n",
      "min\n",
      "max\n",
      "range\n",
      "mean\n",
      "stddev\n",
      "median\n",
      "first_quart\n",
      "third_quart\n",
      "perc_90\n"
     ]
    }
   ],
   "source": [
    "## Define the list of raster statistics to be computed for each raster layer\n",
    "rasterstats=[]\n",
    "rasterstats.append(\"min\")\n",
    "rasterstats.append(\"max\")\n",
    "rasterstats.append(\"range\")\n",
    "rasterstats.append(\"mean\")\n",
    "rasterstats.append(\"stddev\")\n",
    "#rasterstats.append(\"coeff_var\")   # Seems that this statistic create null values \n",
    "rasterstats.append(\"median\")\n",
    "rasterstats.append(\"first_quart\")\n",
    "rasterstats.append(\"third_quart\")\n",
    "rasterstats.append(\"perc_90\")\n",
    "\n",
    "print \"Raster statistics to be computed:\\n\"+'\\n'.join(rasterstats)"
   ]
  },
  {
   "cell_type": "code",
   "execution_count": 114,
   "metadata": {
    "scrolled": true
   },
   "outputs": [
    {
     "name": "stdout",
     "output_type": "stream",
     "text": [
      "Area measures to be computed:\n",
      "area\n",
      "perimeter\n",
      "compact_circle\n",
      "compact_square\n",
      "fd\n"
     ]
    }
   ],
   "source": [
    "## Define the list of area measures (segment's shape statistics) to be computed\n",
    "areameasures=[]\n",
    "areameasures.append(\"area\")\n",
    "areameasures.append(\"perimeter\")\n",
    "areameasures.append(\"compact_circle\")\n",
    "areameasures.append(\"compact_square\")\n",
    "areameasures.append(\"fd\")\n",
    "\n",
    "print \"Area measures to be computed:\\n\"+'\\n'.join(areameasures)"
   ]
  },
  {
   "cell_type": "markdown",
   "metadata": {},
   "source": [
    "**-_-_-_-_-_-_-_-_-_-_-_-_-_-_-_-_-_-_-_-_-_-_-_-_-_-_-_-_-_-_-_-_-_-_-_-_-_-_-_-_-_-_-_-_-_-_-_-_-_-_-_-_-_-_-_-_-_-_-_-_-**"
   ]
  },
  {
   "cell_type": "markdown",
   "metadata": {},
   "source": [
    "<center> <font size=5> <h1>Classification</h1> </font>  </center> "
   ]
  },
  {
   "cell_type": "markdown",
   "metadata": {},
   "source": [
    "Usually, original data are imported and stored in the \"PERMANENT\" mapset (automatically created when creating a new location)."
   ]
  },
  {
   "cell_type": "markdown",
   "metadata": {
    "collapsed": true
   },
   "source": [
    "**Launch GRASS GIS working session**"
   ]
  },
  {
   "cell_type": "code",
   "execution_count": 25,
   "metadata": {
    "scrolled": true
   },
   "outputs": [
    {
     "name": "stdout",
     "output_type": "stream",
     "text": [
      "You are now working in mapset 'CLASSIF'\n"
     ]
    }
   ],
   "source": [
    "## Set the name of the mapset in which to work\n",
    "mapsetname=user[\"classificationA_mapsetname\"]\n",
    "\n",
    "## Launch GRASS GIS working session in the mapset\n",
    "if os.path.exists(os.path.join(user[\"gisdb\"],user[\"location\"],mapsetname)):\n",
    "    gsetup.init(os.environ['GISBASE'], user[\"gisdb\"], user[\"location\"], mapsetname)\n",
    "    print \"You are now working in mapset '\"+mapsetname+\"'\" \n",
    "else: \n",
    "    print \"'\"+mapsetname+\"' mapset doesn't exists in \"+user[\"gisdb\"]"
   ]
  },
  {
   "cell_type": "markdown",
   "metadata": {
    "collapsed": true
   },
   "source": [
    "**Set the Postgis schema to be used for this classification**"
   ]
  },
  {
   "cell_type": "code",
   "execution_count": 20,
   "metadata": {
    "collapsed": true
   },
   "outputs": [],
   "source": [
    "## Save the name of the current schema\n",
    "schema=classif"
   ]
  },
  {
   "cell_type": "code",
   "execution_count": 21,
   "metadata": {
    "collapsed": true
   },
   "outputs": [],
   "source": [
    "## Saving current time for processing time management\n",
    "begintime_computeobjstat=time.time()"
   ]
  },
  {
   "cell_type": "markdown",
   "metadata": {},
   "source": [
    "## Define the folder where to save the results and create it if necessary"
   ]
  },
  {
   "cell_type": "markdown",
   "metadata": {},
   "source": [
    "In the next cell, please adapt the path to the directory where you want to save the .csv output of i.segment.uspo."
   ]
  },
  {
   "cell_type": "code",
   "execution_count": 26,
   "metadata": {
    "collapsed": true
   },
   "outputs": [],
   "source": [
    "## Folder in which save processing time output\n",
    "resultfolder=\"/media/tais/My_Book_1/MAUPP/Traitement/Ouagadougou/Segmentation_fullAOI_localapproach/Results\"\n",
    "\n",
    "## Create the folder if does not exists\n",
    "if not os.path.exists(resultfolder):\n",
    "    os.makedirs(resultfolder)\n",
    "    print \"Folder '\"+resultfolder+\"' created\""
   ]
  },
  {
   "cell_type": "markdown",
   "metadata": {},
   "source": [
    "### Copy data from other mapset to the current mapset"
   ]
  },
  {
   "cell_type": "markdown",
   "metadata": {},
   "source": [
    "Some data need to be copied from other mapsets into the current mapset."
   ]
  },
  {
   "cell_type": "markdown",
   "metadata": {},
   "source": [
    "### Remove current mask"
   ]
  },
  {
   "cell_type": "code",
   "execution_count": 119,
   "metadata": {},
   "outputs": [
    {
     "name": "stdout",
     "output_type": "stream",
     "text": [
      "The current MASK has been removed\n"
     ]
    }
   ],
   "source": [
    "## Check if there is a raster layer named \"MASK\"\n",
    "if not grass.list_strings(\"rast\", pattern=\"MASK\", mapset=mapsetname, flag='r'):\n",
    "    print 'There is currently no MASK'\n",
    "else:\n",
    "    ## Remove the current MASK layer\n",
    "    grass.run_command('r.mask',flags='r')\n",
    "    print 'The current MASK has been removed'"
   ]
  },
  {
   "cell_type": "markdown",
   "metadata": {},
   "source": [
    "***Copy segmentation raster***"
   ]
  },
  {
   "cell_type": "code",
   "execution_count": 59,
   "metadata": {},
   "outputs": [
    {
     "data": {
      "text/plain": [
       "0"
      ]
     },
     "execution_count": 59,
     "metadata": {},
     "output_type": "execute_result"
    }
   ],
   "source": [
    "## Copy segmentation raster layer from SEGMENTATION mapset to current mapset\n",
    "grass.run_command('g.copy', overwrite=True, \n",
    "                  raster=\"segmentation_raster@\"+user[\"segmentation_mapsetname\"]+\",segments\")"
   ]
  },
  {
   "cell_type": "markdown",
   "metadata": {},
   "source": [
    "***Copy morphological zone (raster)***"
   ]
  },
  {
   "cell_type": "code",
   "execution_count": 60,
   "metadata": {},
   "outputs": [
    {
     "data": {
      "text/plain": [
       "0"
      ]
     },
     "execution_count": 60,
     "metadata": {},
     "output_type": "execute_result"
    }
   ],
   "source": [
    "## Copy segmentation raster layer from SEGMENTATION mapset to current mapset\n",
    "grass.run_command('g.copy', overwrite=True, \n",
    "                  raster=\"zone_morpho@\"+user[\"segmentation_mapsetname\"]+\",zone_morpho\")"
   ]
  },
  {
   "cell_type": "markdown",
   "metadata": {},
   "source": [
    "***Copy morphological zone (vector)***"
   ]
  },
  {
   "cell_type": "code",
   "execution_count": 61,
   "metadata": {},
   "outputs": [
    {
     "data": {
      "text/plain": [
       "0"
      ]
     },
     "execution_count": 61,
     "metadata": {},
     "output_type": "execute_result"
    }
   ],
   "source": [
    "## Copy segmentation raster layer from SEGMENTATION mapset to current mapset\n",
    "grass.run_command('g.copy', overwrite=True, \n",
    "                  vector=\"zone_morpho@\"+user[\"segmentation_mapsetname\"]+\",zone_morpho\")"
   ]
  },
  {
   "cell_type": "markdown",
   "metadata": {},
   "source": [
    "**-_-_-_-_-_-_-_-_-_-_-_-_-_-_-_-_-_-_-_-_-_-_-_-_-_-_-_-_-_-_-_-_-_-_-_-_-_-_-_-_-_-_-_-_-_-_-_-_-_-_-_-_-_-_-_-_-_-_-_-_-**"
   ]
  },
  {
   "cell_type": "markdown",
   "metadata": {},
   "source": [
    "# Compute statistics for segments"
   ]
  },
  {
   "cell_type": "markdown",
   "metadata": {},
   "source": [
    "## Define the output folder and create it if necessary"
   ]
  },
  {
   "cell_type": "markdown",
   "metadata": {},
   "source": [
    "In the next cell, please adapt the path to the directory where you want to save the .csv output of i.segment.uspo."
   ]
  },
  {
   "cell_type": "code",
   "execution_count": 22,
   "metadata": {
    "collapsed": true
   },
   "outputs": [],
   "source": [
    "## Folder in which save processing time output\n",
    "outputfolder=os.path.join(resultfolder,mapsetname,\"stats\")\n",
    "\n",
    "## Create the folder if does not exists\n",
    "if not os.path.exists(outputfolder):\n",
    "    os.makedirs(outputfolder)\n",
    "    print \"Folder '\"+outputfolder+\"' created\""
   ]
  },
  {
   "cell_type": "markdown",
   "metadata": {},
   "source": [
    "## Set list of raster from which to compute statistics with i.segment.stats"
   ]
  },
  {
   "cell_type": "markdown",
   "metadata": {},
   "source": [
    "Please refer to the [official help page of i.segment.stats](https://grass.osgeo.org/grass72/manuals/addons/i.segment.stats.html) to select the raster statistics and area measures to be computed."
   ]
  },
  {
   "cell_type": "code",
   "execution_count": 121,
   "metadata": {
    "scrolled": true
   },
   "outputs": [
    {
     "name": "stdout",
     "output_type": "stream",
     "text": [
      "----------------------------------------------\n",
      "raster fichiers disponibles dans le jeu de données <PERMANENT> :\n",
      "MASK      ndsm      ndvi      opt_blue  opt_green opt_nir   opt_red\n",
      "\n",
      "\n",
      "----------------------------------------------\n",
      "raster fichiers disponibles dans le jeu de données <CLASSIF> :\n",
      "segments     zone_morpho\n",
      "\n",
      "\n"
     ]
    }
   ],
   "source": [
    "## Display the name of rasters available in PERMANENT and CLASSIFICATION mapset\n",
    "print grass.read_command('g.list',type=\"raster\", mapset=\"PERMANENT\", flags='rp')\n",
    "print grass.read_command('g.list',type=\"raster\", mapset=user[\"classificationA_mapsetname\"], flags='rp')"
   ]
  },
  {
   "cell_type": "markdown",
   "metadata": {},
   "source": [
    "### Compute statistics of segment using i.segment.stats"
   ]
  },
  {
   "cell_type": "markdown",
   "metadata": {},
   "source": [
    "The process is make to compute statistics iteratively for each morphological zones, used here as tiles."
   ]
  },
  {
   "cell_type": "markdown",
   "metadata": {},
   "source": [
    "This section uses the ['i.segment.stats' add-on](https://grass.osgeo.org/grass70/manuals/addons/i.segment.stats.html) to compute statistics for each object. "
   ]
  },
  {
   "cell_type": "code",
   "execution_count": 122,
   "metadata": {
    "collapsed": true
   },
   "outputs": [],
   "source": [
    "## Save name of the layer to be used as tiles\n",
    "tile_layer='zone_morpho@'+mapsetname\n",
    "## Save name of the segmentation layer to be used by i.segment.stats\n",
    "segment_layer='segments@'+mapsetname\n",
    "## Save name of the column containing area_km value\n",
    "area_column='area_km2'\n",
    "## Save name of the column containing morphological type value\n",
    "type_column='type'\n",
    "## Save the prefix to be used for the outputfiles of i.segment.stats\n",
    "prefix=\"Segstat\""
   ]
  },
  {
   "cell_type": "code",
   "execution_count": 142,
   "metadata": {
    "collapsed": true
   },
   "outputs": [],
   "source": [
    "## Save the list of polygons to be processed (save the 'cat' value)\n",
    "listofregion=list(grass.parse_command('v.db.select', map=tile_layer, \n",
    "                                      columns='cat', flags='c'))[:]"
   ]
  },
  {
   "cell_type": "code",
   "execution_count": 143,
   "metadata": {
    "scrolled": true
   },
   "outputs": [
    {
     "name": "stdout",
     "output_type": "stream",
     "text": [
      "0 cat:344\n",
      "1 cat:345\n",
      "2 cat:346\n",
      "3 cat:347\n",
      "4 cat:340\n",
      "5 cat:341\n",
      "6 cat:342\n",
      "7 cat:343\n",
      "8 cat:348\n",
      "9 cat:349\n",
      "10 cat:1653\n",
      "11 cat:298\n",
      "12 cat:299\n",
      "13 cat:296\n",
      "14 cat:297\n",
      "15 cat:294\n",
      "16 cat:295\n",
      "17 cat:292\n",
      "18 cat:293\n",
      "19 cat:290\n",
      "20 cat:291\n",
      "21 cat:270\n",
      "22 cat:271\n",
      "23 cat:272\n",
      "24 cat:273\n",
      "25 cat:274\n",
      "26 cat:275\n",
      "27 cat:276\n",
      "28 cat:277\n",
      "29 cat:278\n",
      "30 cat:279\n",
      "31 cat:108\n",
      "32 cat:109\n",
      "33 cat:102\n",
      "34 cat:103\n",
      "35 cat:100\n",
      "36 cat:101\n",
      "37 cat:106\n",
      "38 cat:107\n",
      "39 cat:104\n",
      "40 cat:105\n",
      "41 cat:1372\n",
      "42 cat:1001\n",
      "43 cat:1210\n",
      "44 cat:1375\n",
      "45 cat:1655\n",
      "46 cat:1374\n",
      "47 cat:99\n",
      "48 cat:98\n",
      "49 cat:91\n",
      "50 cat:90\n",
      "51 cat:93\n",
      "52 cat:92\n",
      "53 cat:95\n",
      "54 cat:94\n",
      "55 cat:97\n",
      "56 cat:96\n",
      "57 cat:1623\n",
      "58 cat:1622\n",
      "59 cat:1621\n",
      "60 cat:1620\n",
      "61 cat:1627\n",
      "62 cat:1626\n",
      "63 cat:1625\n",
      "64 cat:1624\n",
      "65 cat:1629\n",
      "66 cat:1377\n",
      "67 cat:559\n",
      "68 cat:558\n",
      "69 cat:555\n",
      "70 cat:554\n",
      "71 cat:557\n",
      "72 cat:556\n",
      "73 cat:551\n",
      "74 cat:550\n",
      "75 cat:553\n",
      "76 cat:552\n",
      "77 cat:1439\n",
      "78 cat:1199\n",
      "79 cat:1198\n",
      "80 cat:1191\n",
      "81 cat:1190\n",
      "82 cat:1193\n",
      "83 cat:1192\n",
      "84 cat:1195\n",
      "85 cat:1194\n",
      "86 cat:1197\n",
      "87 cat:1196\n",
      "88 cat:1177\n",
      "89 cat:1176\n",
      "90 cat:1175\n",
      "91 cat:1174\n",
      "92 cat:1173\n",
      "93 cat:1172\n",
      "94 cat:1171\n",
      "95 cat:1170\n",
      "96 cat:1179\n",
      "97 cat:1178\n",
      "98 cat:511\n",
      "99 cat:510\n",
      "100 cat:513\n",
      "101 cat:1285\n",
      "102 cat:1284\n",
      "103 cat:1287\n",
      "104 cat:512\n",
      "105 cat:1281\n",
      "106 cat:1280\n",
      "107 cat:1283\n",
      "108 cat:1282\n",
      "109 cat:1003\n",
      "110 cat:879\n",
      "111 cat:1289\n",
      "112 cat:1288\n",
      "113 cat:514\n",
      "114 cat:1579\n",
      "115 cat:1578\n",
      "116 cat:689\n",
      "117 cat:688\n",
      "118 cat:685\n",
      "119 cat:684\n",
      "120 cat:687\n",
      "121 cat:686\n",
      "122 cat:681\n",
      "123 cat:680\n",
      "124 cat:683\n",
      "125 cat:682\n",
      "126 cat:458\n",
      "127 cat:1226\n",
      "128 cat:621\n",
      "129 cat:873\n",
      "130 cat:1224\n",
      "131 cat:1223\n",
      "132 cat:1222\n",
      "133 cat:1221\n",
      "134 cat:1220\n",
      "135 cat:407\n",
      "136 cat:406\n",
      "137 cat:405\n",
      "138 cat:404\n",
      "139 cat:403\n",
      "140 cat:402\n",
      "141 cat:401\n",
      "142 cat:400\n",
      "143 cat:1379\n",
      "144 cat:1378\n",
      "145 cat:1342\n",
      "146 cat:409\n",
      "147 cat:408\n",
      "148 cat:453\n",
      "149 cat:454\n",
      "150 cat:455\n",
      "151 cat:1346\n",
      "152 cat:1347\n",
      "153 cat:379\n",
      "154 cat:378\n",
      "155 cat:371\n",
      "156 cat:370\n",
      "157 cat:373\n",
      "158 cat:372\n",
      "159 cat:375\n",
      "160 cat:374\n",
      "161 cat:377\n",
      "162 cat:376\n",
      "163 cat:393\n",
      "164 cat:392\n",
      "165 cat:391\n",
      "166 cat:390\n",
      "167 cat:397\n",
      "168 cat:396\n",
      "169 cat:395\n",
      "170 cat:394\n",
      "171 cat:399\n",
      "172 cat:398\n",
      "173 cat:895\n",
      "174 cat:245\n",
      "175 cat:244\n",
      "176 cat:247\n",
      "177 cat:246\n",
      "178 cat:241\n",
      "179 cat:240\n",
      "180 cat:243\n",
      "181 cat:242\n",
      "182 cat:249\n",
      "183 cat:248\n",
      "184 cat:179\n",
      "185 cat:178\n",
      "186 cat:177\n",
      "187 cat:176\n",
      "188 cat:175\n",
      "189 cat:174\n",
      "190 cat:173\n",
      "191 cat:172\n",
      "192 cat:171\n",
      "193 cat:170\n",
      "194 cat:1502\n",
      "195 cat:1503\n",
      "196 cat:1500\n",
      "197 cat:1501\n",
      "198 cat:1506\n",
      "199 cat:1507\n",
      "200 cat:1367\n",
      "201 cat:1504\n",
      "202 cat:1505\n",
      "203 cat:1227\n",
      "204 cat:659\n",
      "205 cat:1618\n",
      "206 cat:1619\n",
      "207 cat:1616\n",
      "208 cat:1617\n",
      "209 cat:1614\n",
      "210 cat:1615\n",
      "211 cat:1612\n",
      "212 cat:1613\n",
      "213 cat:1610\n",
      "214 cat:1611\n",
      "215 cat:1142\n",
      "216 cat:1143\n",
      "217 cat:1140\n",
      "218 cat:1141\n",
      "219 cat:1146\n",
      "220 cat:1147\n",
      "221 cat:1144\n",
      "222 cat:1145\n",
      "223 cat:1148\n",
      "224 cat:1149\n",
      "225 cat:692\n",
      "226 cat:693\n",
      "227 cat:690\n",
      "228 cat:691\n",
      "229 cat:696\n",
      "230 cat:697\n",
      "231 cat:694\n",
      "232 cat:695\n",
      "233 cat:698\n",
      "234 cat:699\n",
      "235 cat:1548\n",
      "236 cat:1549\n",
      "237 cat:542\n",
      "238 cat:543\n",
      "239 cat:540\n",
      "240 cat:541\n",
      "241 cat:546\n",
      "242 cat:547\n",
      "243 cat:544\n",
      "244 cat:545\n",
      "245 cat:548\n",
      "246 cat:549\n",
      "247 cat:414\n",
      "248 cat:415\n",
      "249 cat:416\n",
      "250 cat:417\n",
      "251 cat:410\n",
      "252 cat:411\n",
      "253 cat:412\n",
      "254 cat:413\n",
      "255 cat:1384\n",
      "256 cat:1385\n",
      "257 cat:1386\n",
      "258 cat:1387\n",
      "259 cat:418\n",
      "260 cat:419\n",
      "261 cat:1382\n",
      "262 cat:1383\n",
      "263 cat:368\n",
      "264 cat:369\n",
      "265 cat:366\n",
      "266 cat:367\n",
      "267 cat:364\n",
      "268 cat:365\n",
      "269 cat:362\n",
      "270 cat:363\n",
      "271 cat:360\n",
      "272 cat:361\n",
      "273 cat:380\n",
      "274 cat:381\n",
      "275 cat:382\n",
      "276 cat:383\n",
      "277 cat:384\n",
      "278 cat:385\n",
      "279 cat:386\n",
      "280 cat:387\n",
      "281 cat:388\n",
      "282 cat:389\n",
      "283 cat:258\n",
      "284 cat:259\n",
      "285 cat:252\n",
      "286 cat:253\n",
      "287 cat:250\n",
      "288 cat:251\n",
      "289 cat:256\n",
      "290 cat:257\n",
      "291 cat:254\n",
      "292 cat:255\n",
      "293 cat:1679\n",
      "294 cat:168\n",
      "295 cat:169\n",
      "296 cat:164\n",
      "297 cat:165\n",
      "298 cat:166\n",
      "299 cat:167\n",
      "300 cat:160\n",
      "301 cat:161\n",
      "302 cat:162\n",
      "303 cat:163\n",
      "304 cat:678\n",
      "305 cat:679\n",
      "306 cat:670\n",
      "307 cat:671\n",
      "308 cat:1609\n",
      "309 cat:1608\n",
      "310 cat:1601\n",
      "311 cat:1600\n",
      "312 cat:1603\n",
      "313 cat:1602\n",
      "314 cat:1605\n",
      "315 cat:1604\n",
      "316 cat:1607\n",
      "317 cat:1606\n",
      "318 cat:809\n",
      "319 cat:808\n",
      "320 cat:803\n",
      "321 cat:802\n",
      "322 cat:801\n",
      "323 cat:800\n",
      "324 cat:807\n",
      "325 cat:806\n",
      "326 cat:805\n",
      "327 cat:804\n",
      "328 cat:608\n",
      "329 cat:1159\n",
      "330 cat:1158\n",
      "331 cat:1155\n",
      "332 cat:1154\n",
      "333 cat:1157\n",
      "334 cat:1156\n",
      "335 cat:1151\n",
      "336 cat:1150\n",
      "337 cat:1153\n",
      "338 cat:1152\n",
      "339 cat:1555\n",
      "340 cat:1554\n",
      "341 cat:1551\n",
      "342 cat:1550\n",
      "343 cat:1553\n",
      "344 cat:1552\n",
      "345 cat:59\n",
      "346 cat:58\n",
      "347 cat:1557\n",
      "348 cat:1556\n",
      "349 cat:55\n",
      "350 cat:54\n",
      "351 cat:57\n",
      "352 cat:56\n",
      "353 cat:51\n",
      "354 cat:50\n",
      "355 cat:53\n",
      "356 cat:52\n",
      "357 cat:537\n",
      "358 cat:536\n",
      "359 cat:535\n",
      "360 cat:534\n",
      "361 cat:533\n",
      "362 cat:532\n",
      "363 cat:531\n",
      "364 cat:530\n",
      "365 cat:539\n",
      "366 cat:538\n",
      "367 cat:1558\n",
      "368 cat:429\n",
      "369 cat:428\n",
      "370 cat:1399\n",
      "371 cat:1398\n",
      "372 cat:421\n",
      "373 cat:420\n",
      "374 cat:423\n",
      "375 cat:422\n",
      "376 cat:425\n",
      "377 cat:424\n",
      "378 cat:427\n",
      "379 cat:426\n",
      "380 cat:229\n",
      "381 cat:228\n",
      "382 cat:227\n",
      "383 cat:226\n",
      "384 cat:225\n",
      "385 cat:224\n",
      "386 cat:223\n",
      "387 cat:222\n",
      "388 cat:221\n",
      "389 cat:220\n",
      "390 cat:151\n",
      "391 cat:150\n",
      "392 cat:153\n",
      "393 cat:152\n",
      "394 cat:155\n",
      "395 cat:154\n",
      "396 cat:157\n",
      "397 cat:156\n",
      "398 cat:159\n",
      "399 cat:158\n",
      "400 cat:1524\n",
      "401 cat:1544\n",
      "402 cat:1525\n",
      "403 cat:1526\n",
      "404 cat:818\n",
      "405 cat:819\n",
      "406 cat:1527\n",
      "407 cat:810\n",
      "408 cat:811\n",
      "409 cat:812\n",
      "410 cat:813\n",
      "411 cat:814\n",
      "412 cat:815\n",
      "413 cat:816\n",
      "414 cat:817\n",
      "415 cat:1545\n",
      "416 cat:1522\n",
      "417 cat:1523\n",
      "418 cat:1490\n",
      "419 cat:1397\n",
      "420 cat:1492\n",
      "421 cat:1493\n",
      "422 cat:1494\n",
      "423 cat:1495\n",
      "424 cat:1496\n",
      "425 cat:1396\n",
      "426 cat:1498\n",
      "427 cat:1499\n",
      "428 cat:1395\n",
      "429 cat:1394\n",
      "430 cat:1393\n",
      "431 cat:1392\n",
      "432 cat:1391\n",
      "433 cat:1390\n",
      "434 cat:1128\n",
      "435 cat:1129\n",
      "436 cat:1628\n",
      "437 cat:1120\n",
      "438 cat:1121\n",
      "439 cat:1122\n",
      "440 cat:1123\n",
      "441 cat:1124\n",
      "442 cat:1125\n",
      "443 cat:1126\n",
      "444 cat:1127\n",
      "445 cat:524\n",
      "446 cat:525\n",
      "447 cat:526\n",
      "448 cat:527\n",
      "449 cat:520\n",
      "450 cat:521\n",
      "451 cat:522\n",
      "452 cat:523\n",
      "453 cat:1014\n",
      "454 cat:1015\n",
      "455 cat:1016\n",
      "456 cat:1017\n",
      "457 cat:528\n",
      "458 cat:529\n",
      "459 cat:1012\n",
      "460 cat:1013\n",
      "461 cat:1234\n",
      "462 cat:1235\n",
      "463 cat:1236\n",
      "464 cat:1237\n",
      "465 cat:1230\n",
      "466 cat:1231\n",
      "467 cat:1232\n",
      "468 cat:1233\n",
      "469 cat:1238\n",
      "470 cat:1239\n",
      "471 cat:438\n",
      "472 cat:439\n",
      "473 cat:436\n",
      "474 cat:437\n",
      "475 cat:434\n",
      "476 cat:435\n",
      "477 cat:432\n",
      "478 cat:433\n",
      "479 cat:430\n",
      "480 cat:431\n",
      "481 cat:238\n",
      "482 cat:239\n",
      "483 cat:234\n",
      "484 cat:235\n",
      "485 cat:236\n",
      "486 cat:237\n",
      "487 cat:230\n",
      "488 cat:231\n",
      "489 cat:232\n",
      "490 cat:233\n",
      "491 cat:1\n",
      "492 cat:146\n",
      "493 cat:147\n",
      "494 cat:144\n",
      "495 cat:145\n",
      "496 cat:142\n",
      "497 cat:143\n",
      "498 cat:140\n",
      "499 cat:141\n",
      "500 cat:148\n",
      "501 cat:149\n",
      "502 cat:939\n",
      "503 cat:938\n",
      "504 cat:933\n",
      "505 cat:932\n",
      "506 cat:931\n",
      "507 cat:930\n",
      "508 cat:937\n",
      "509 cat:936\n",
      "510 cat:935\n",
      "511 cat:934\n",
      "512 cat:829\n",
      "513 cat:828\n",
      "514 cat:825\n",
      "515 cat:824\n",
      "516 cat:827\n",
      "517 cat:826\n",
      "518 cat:821\n",
      "519 cat:820\n",
      "520 cat:823\n",
      "521 cat:822\n",
      "522 cat:1536\n",
      "523 cat:1483\n",
      "524 cat:1482\n",
      "525 cat:1481\n",
      "526 cat:1480\n",
      "527 cat:1487\n",
      "528 cat:1486\n",
      "529 cat:1485\n",
      "530 cat:1484\n",
      "531 cat:1489\n",
      "532 cat:1488\n",
      "533 cat:797\n",
      "534 cat:796\n",
      "535 cat:795\n",
      "536 cat:794\n",
      "537 cat:793\n",
      "538 cat:792\n",
      "539 cat:791\n",
      "540 cat:790\n",
      "541 cat:799\n",
      "542 cat:798\n",
      "543 cat:1270\n",
      "544 cat:1271\n",
      "545 cat:1272\n",
      "546 cat:1139\n",
      "547 cat:1138\n",
      "548 cat:1133\n",
      "549 cat:1132\n",
      "550 cat:1131\n",
      "551 cat:1130\n",
      "552 cat:1137\n",
      "553 cat:1136\n",
      "554 cat:1135\n",
      "555 cat:1134\n",
      "556 cat:1276\n",
      "557 cat:1277\n",
      "558 cat:519\n",
      "559 cat:518\n",
      "560 cat:1009\n",
      "561 cat:1008\n",
      "562 cat:1007\n",
      "563 cat:1006\n",
      "564 cat:1005\n",
      "565 cat:1004\n",
      "566 cat:515\n",
      "567 cat:1002\n",
      "568 cat:517\n",
      "569 cat:1000\n",
      "570 cat:623\n",
      "571 cat:622\n",
      "572 cat:1225\n",
      "573 cat:620\n",
      "574 cat:627\n",
      "575 cat:626\n",
      "576 cat:625\n",
      "577 cat:624\n",
      "578 cat:629\n",
      "579 cat:628\n",
      "580 cat:1229\n",
      "581 cat:1228\n",
      "582 cat:1535\n",
      "583 cat:2\n",
      "584 cat:1286\n",
      "585 cat:11\n",
      "586 cat:10\n",
      "587 cat:13\n",
      "588 cat:12\n",
      "589 cat:15\n",
      "590 cat:14\n",
      "591 cat:17\n",
      "592 cat:16\n",
      "593 cat:19\n",
      "594 cat:18\n",
      "595 cat:1534\n",
      "596 cat:201\n",
      "597 cat:200\n",
      "598 cat:203\n",
      "599 cat:202\n",
      "600 cat:205\n",
      "601 cat:204\n",
      "602 cat:207\n",
      "603 cat:206\n",
      "604 cat:209\n",
      "605 cat:208\n",
      "606 cat:1573\n",
      "607 cat:1572\n",
      "608 cat:1571\n",
      "609 cat:1570\n",
      "610 cat:1577\n",
      "611 cat:1576\n",
      "612 cat:1575\n",
      "613 cat:1574\n",
      "614 cat:928\n",
      "615 cat:929\n",
      "616 cat:920\n",
      "617 cat:921\n",
      "618 cat:922\n",
      "619 cat:923\n",
      "620 cat:924\n",
      "621 cat:925\n",
      "622 cat:926\n",
      "623 cat:927\n",
      "624 cat:832\n",
      "625 cat:833\n",
      "626 cat:830\n",
      "627 cat:831\n",
      "628 cat:836\n",
      "629 cat:837\n",
      "630 cat:834\n",
      "631 cat:835\n",
      "632 cat:838\n",
      "633 cat:839\n",
      "634 cat:3\n",
      "635 cat:1532\n",
      "636 cat:784\n",
      "637 cat:785\n",
      "638 cat:786\n",
      "639 cat:787\n",
      "640 cat:780\n",
      "641 cat:781\n",
      "642 cat:782\n",
      "643 cat:783\n",
      "644 cat:788\n",
      "645 cat:789\n",
      "646 cat:60\n",
      "647 cat:61\n",
      "648 cat:62\n",
      "649 cat:63\n",
      "650 cat:64\n",
      "651 cat:65\n",
      "652 cat:66\n",
      "653 cat:67\n",
      "654 cat:68\n",
      "655 cat:69\n",
      "656 cat:1371\n",
      "657 cat:1588\n",
      "658 cat:1589\n",
      "659 cat:1370\n",
      "660 cat:1582\n",
      "661 cat:1583\n",
      "662 cat:1580\n",
      "663 cat:1581\n",
      "664 cat:1586\n",
      "665 cat:1373\n",
      "666 cat:1584\n",
      "667 cat:1585\n",
      "668 cat:1038\n",
      "669 cat:1039\n",
      "670 cat:508\n",
      "671 cat:509\n",
      "672 cat:1032\n",
      "673 cat:507\n",
      "674 cat:1030\n",
      "675 cat:505\n",
      "676 cat:502\n",
      "677 cat:503\n",
      "678 cat:500\n",
      "679 cat:501\n",
      "680 cat:1212\n",
      "681 cat:1213\n",
      "682 cat:632\n",
      "683 cat:633\n",
      "684 cat:1216\n",
      "685 cat:1217\n",
      "686 cat:636\n",
      "687 cat:637\n",
      "688 cat:638\n",
      "689 cat:639\n",
      "690 cat:1218\n",
      "691 cat:1219\n",
      "692 cat:465\n",
      "693 cat:1106\n",
      "694 cat:1107\n",
      "695 cat:1104\n",
      "696 cat:1105\n",
      "697 cat:1102\n",
      "698 cat:1103\n",
      "699 cat:1100\n",
      "700 cat:1101\n",
      "701 cat:1458\n",
      "702 cat:1459\n",
      "703 cat:1108\n",
      "704 cat:1109\n",
      "705 cat:216\n",
      "706 cat:217\n",
      "707 cat:214\n",
      "708 cat:215\n",
      "709 cat:212\n",
      "710 cat:213\n",
      "711 cat:210\n",
      "712 cat:211\n",
      "713 cat:1530\n",
      "714 cat:218\n",
      "715 cat:219\n",
      "716 cat:4\n",
      "717 cat:919\n",
      "718 cat:918\n",
      "719 cat:915\n",
      "720 cat:914\n",
      "721 cat:917\n",
      "722 cat:916\n",
      "723 cat:911\n",
      "724 cat:910\n",
      "725 cat:913\n",
      "726 cat:912\n",
      "727 cat:847\n",
      "728 cat:846\n",
      "729 cat:845\n",
      "730 cat:844\n",
      "731 cat:843\n",
      "732 cat:842\n",
      "733 cat:841\n",
      "734 cat:840\n",
      "735 cat:849\n",
      "736 cat:848\n",
      "737 cat:663\n",
      "738 cat:1587\n",
      "739 cat:662\n",
      "740 cat:753\n",
      "741 cat:752\n",
      "742 cat:751\n",
      "743 cat:750\n",
      "744 cat:757\n",
      "745 cat:756\n",
      "746 cat:755\n",
      "747 cat:754\n",
      "748 cat:759\n",
      "749 cat:758\n",
      "750 cat:1595\n",
      "751 cat:506\n",
      "752 cat:1597\n",
      "753 cat:1596\n",
      "754 cat:1591\n",
      "755 cat:1590\n",
      "756 cat:1593\n",
      "757 cat:1033\n",
      "758 cat:1599\n",
      "759 cat:504\n",
      "760 cat:1025\n",
      "761 cat:1024\n",
      "762 cat:1027\n",
      "763 cat:1031\n",
      "764 cat:1021\n",
      "765 cat:1020\n",
      "766 cat:1023\n",
      "767 cat:1022\n",
      "768 cat:1036\n",
      "769 cat:1029\n",
      "770 cat:1028\n",
      "771 cat:1037\n",
      "772 cat:1034\n",
      "773 cat:1035\n",
      "774 cat:605\n",
      "775 cat:604\n",
      "776 cat:607\n",
      "777 cat:606\n",
      "778 cat:601\n",
      "779 cat:600\n",
      "780 cat:603\n",
      "781 cat:602\n",
      "782 cat:1205\n",
      "783 cat:1204\n",
      "784 cat:1207\n",
      "785 cat:1206\n",
      "786 cat:609\n",
      "787 cat:1200\n",
      "788 cat:1203\n",
      "789 cat:1202\n",
      "790 cat:1211\n",
      "791 cat:634\n",
      "792 cat:635\n",
      "793 cat:1214\n",
      "794 cat:1215\n",
      "795 cat:1111\n",
      "796 cat:1110\n",
      "797 cat:1113\n",
      "798 cat:1112\n",
      "799 cat:1115\n",
      "800 cat:1114\n",
      "801 cat:1117\n",
      "802 cat:464\n",
      "803 cat:1119\n",
      "804 cat:1118\n",
      "805 cat:467\n",
      "806 cat:1449\n",
      "807 cat:1448\n",
      "808 cat:466\n",
      "809 cat:1357\n",
      "810 cat:460\n",
      "811 cat:1355\n",
      "812 cat:489\n",
      "813 cat:488\n",
      "814 cat:487\n",
      "815 cat:486\n",
      "816 cat:485\n",
      "817 cat:1354\n",
      "818 cat:483\n",
      "819 cat:482\n",
      "820 cat:481\n",
      "821 cat:480\n",
      "822 cat:199\n",
      "823 cat:198\n",
      "824 cat:195\n",
      "825 cat:194\n",
      "826 cat:197\n",
      "827 cat:196\n",
      "828 cat:191\n",
      "829 cat:190\n",
      "830 cat:193\n",
      "831 cat:192\n",
      "832 cat:1454\n",
      "833 cat:1455\n",
      "834 cat:1456\n",
      "835 cat:1457\n",
      "836 cat:1450\n",
      "837 cat:1451\n",
      "838 cat:1452\n",
      "839 cat:1453\n",
      "840 cat:902\n",
      "841 cat:903\n",
      "842 cat:900\n",
      "843 cat:901\n",
      "844 cat:906\n",
      "845 cat:907\n",
      "846 cat:904\n",
      "847 cat:905\n",
      "848 cat:1511\n",
      "849 cat:908\n",
      "850 cat:909\n",
      "851 cat:854\n",
      "852 cat:855\n",
      "853 cat:856\n",
      "854 cat:857\n",
      "855 cat:850\n",
      "856 cat:851\n",
      "857 cat:852\n",
      "858 cat:853\n",
      "859 cat:858\n",
      "860 cat:859\n",
      "861 cat:6\n",
      "862 cat:740\n",
      "863 cat:741\n",
      "864 cat:742\n",
      "865 cat:743\n",
      "866 cat:744\n",
      "867 cat:745\n",
      "868 cat:746\n",
      "869 cat:747\n",
      "870 cat:748\n",
      "871 cat:749\n",
      "872 cat:1050\n",
      "873 cat:1051\n",
      "874 cat:1052\n",
      "875 cat:1053\n",
      "876 cat:1054\n",
      "877 cat:1055\n",
      "878 cat:1056\n",
      "879 cat:1057\n",
      "880 cat:1058\n",
      "881 cat:1059\n",
      "882 cat:1278\n",
      "883 cat:1279\n",
      "884 cat:618\n",
      "885 cat:619\n",
      "886 cat:612\n",
      "887 cat:613\n",
      "888 cat:610\n",
      "889 cat:611\n",
      "890 cat:616\n",
      "891 cat:617\n",
      "892 cat:614\n",
      "893 cat:615\n",
      "894 cat:1491\n",
      "895 cat:1472\n",
      "896 cat:1473\n",
      "897 cat:1470\n",
      "898 cat:1471\n",
      "899 cat:1476\n",
      "900 cat:1477\n",
      "901 cat:1474\n",
      "902 cat:1475\n",
      "903 cat:1478\n",
      "904 cat:1479\n",
      "905 cat:1304\n",
      "906 cat:1305\n",
      "907 cat:1306\n",
      "908 cat:1307\n",
      "909 cat:1300\n",
      "910 cat:1301\n",
      "911 cat:1302\n",
      "912 cat:1303\n",
      "913 cat:1497\n",
      "914 cat:1308\n",
      "915 cat:1309\n",
      "916 cat:498\n",
      "917 cat:499\n",
      "918 cat:494\n",
      "919 cat:495\n",
      "920 cat:496\n",
      "921 cat:497\n",
      "922 cat:490\n",
      "923 cat:491\n",
      "924 cat:492\n",
      "925 cat:493\n",
      "926 cat:24\n",
      "927 cat:25\n",
      "928 cat:26\n",
      "929 cat:27\n",
      "930 cat:20\n",
      "931 cat:21\n",
      "932 cat:22\n",
      "933 cat:23\n",
      "934 cat:28\n",
      "935 cat:29\n",
      "936 cat:7\n",
      "937 cat:972\n",
      "938 cat:1087\n",
      "939 cat:1086\n",
      "940 cat:1085\n",
      "941 cat:1084\n",
      "942 cat:1083\n",
      "943 cat:1082\n",
      "944 cat:977\n",
      "945 cat:976\n",
      "946 cat:975\n",
      "947 cat:974\n",
      "948 cat:973\n",
      "949 cat:1081\n",
      "950 cat:971\n",
      "951 cat:970\n",
      "952 cat:1080\n",
      "953 cat:979\n",
      "954 cat:978\n",
      "955 cat:182\n",
      "956 cat:183\n",
      "957 cat:180\n",
      "958 cat:181\n",
      "959 cat:186\n",
      "960 cat:187\n",
      "961 cat:184\n",
      "962 cat:185\n",
      "963 cat:188\n",
      "964 cat:189\n",
      "965 cat:1559\n",
      "966 cat:1464\n",
      "967 cat:869\n",
      "968 cat:868\n",
      "969 cat:861\n",
      "970 cat:860\n",
      "971 cat:863\n",
      "972 cat:862\n",
      "973 cat:865\n",
      "974 cat:864\n",
      "975 cat:867\n",
      "976 cat:866\n",
      "977 cat:883\n",
      "978 cat:882\n",
      "979 cat:881\n",
      "980 cat:880\n",
      "981 cat:887\n",
      "982 cat:886\n",
      "983 cat:885\n",
      "984 cat:884\n",
      "985 cat:889\n",
      "986 cat:888\n",
      "987 cat:775\n",
      "988 cat:774\n",
      "989 cat:777\n",
      "990 cat:776\n",
      "991 cat:771\n",
      "992 cat:770\n",
      "993 cat:773\n",
      "994 cat:772\n",
      "995 cat:779\n",
      "996 cat:778\n",
      "997 cat:77\n",
      "998 cat:76\n",
      "999 cat:75\n",
      "1000 cat:74\n",
      "1001 cat:73\n",
      "1002 cat:72\n",
      "1003 cat:71\n",
      "1004 cat:70\n",
      "1005 cat:79\n",
      "1006 cat:78\n",
      "1007 cat:1043\n",
      "1008 cat:1042\n",
      "1009 cat:1041\n",
      "1010 cat:1040\n",
      "1011 cat:1047\n",
      "1012 cat:1046\n",
      "1013 cat:1045\n",
      "1014 cat:1044\n",
      "1015 cat:1049\n",
      "1016 cat:1048\n",
      "1017 cat:1681\n",
      "1018 cat:1680\n",
      "1019 cat:1682\n",
      "1020 cat:1269\n",
      "1021 cat:1268\n",
      "1022 cat:669\n",
      "1023 cat:668\n",
      "1024 cat:667\n",
      "1025 cat:1262\n",
      "1026 cat:665\n",
      "1027 cat:664\n",
      "1028 cat:1267\n",
      "1029 cat:1266\n",
      "1030 cat:1265\n",
      "1031 cat:1264\n",
      "1032 cat:1469\n",
      "1033 cat:1468\n",
      "1034 cat:1465\n",
      "1035 cat:1018\n",
      "1036 cat:1467\n",
      "1037 cat:1466\n",
      "1038 cat:1461\n",
      "1039 cat:1460\n",
      "1040 cat:1463\n",
      "1041 cat:1019\n",
      "1042 cat:1317\n",
      "1043 cat:1316\n",
      "1044 cat:1315\n",
      "1045 cat:1314\n",
      "1046 cat:1313\n",
      "1047 cat:1312\n",
      "1048 cat:1311\n",
      "1049 cat:1310\n",
      "1050 cat:1319\n",
      "1051 cat:1318\n",
      "1052 cat:1010\n",
      "1053 cat:1011\n",
      "1054 cat:319\n",
      "1055 cat:318\n",
      "1056 cat:313\n",
      "1057 cat:312\n",
      "1058 cat:311\n",
      "1059 cat:310\n",
      "1060 cat:317\n",
      "1061 cat:316\n",
      "1062 cat:315\n",
      "1063 cat:314\n",
      "1064 cat:1335\n",
      "1065 cat:1334\n",
      "1066 cat:1337\n",
      "1067 cat:1336\n",
      "1068 cat:1331\n",
      "1069 cat:1330\n",
      "1070 cat:1333\n",
      "1071 cat:1332\n",
      "1072 cat:630\n",
      "1073 cat:631\n",
      "1074 cat:1521\n",
      "1075 cat:964\n",
      "1076 cat:965\n",
      "1077 cat:966\n",
      "1078 cat:967\n",
      "1079 cat:960\n",
      "1080 cat:961\n",
      "1081 cat:962\n",
      "1082 cat:963\n",
      "1083 cat:968\n",
      "1084 cat:969\n",
      "1085 cat:1560\n",
      "1086 cat:1241\n",
      "1087 cat:878\n",
      "1088 cat:1240\n",
      "1089 cat:876\n",
      "1090 cat:877\n",
      "1091 cat:874\n",
      "1092 cat:875\n",
      "1093 cat:872\n",
      "1094 cat:1243\n",
      "1095 cat:870\n",
      "1096 cat:871\n",
      "1097 cat:1242\n",
      "1098 cat:9\n",
      "1099 cat:1245\n"
     ]
    },
    {
     "name": "stdout",
     "output_type": "stream",
     "text": [
      "1100 cat:1244\n",
      "1101 cat:890\n",
      "1102 cat:891\n",
      "1103 cat:892\n",
      "1104 cat:893\n",
      "1105 cat:894\n",
      "1106 cat:1247\n",
      "1107 cat:896\n",
      "1108 cat:897\n",
      "1109 cat:898\n",
      "1110 cat:899\n",
      "1111 cat:646\n",
      "1112 cat:1249\n",
      "1113 cat:648\n",
      "1114 cat:1537\n",
      "1115 cat:768\n",
      "1116 cat:769\n",
      "1117 cat:762\n",
      "1118 cat:763\n",
      "1119 cat:760\n",
      "1120 cat:761\n",
      "1121 cat:766\n",
      "1122 cat:767\n",
      "1123 cat:764\n",
      "1124 cat:765\n",
      "1125 cat:1078\n",
      "1126 cat:1079\n",
      "1127 cat:1076\n",
      "1128 cat:1077\n",
      "1129 cat:1074\n",
      "1130 cat:1075\n",
      "1131 cat:1072\n",
      "1132 cat:1073\n",
      "1133 cat:1070\n",
      "1134 cat:1071\n",
      "1135 cat:1678\n",
      "1136 cat:1561\n",
      "1137 cat:1674\n",
      "1138 cat:1675\n",
      "1139 cat:1676\n",
      "1140 cat:1677\n",
      "1141 cat:1670\n",
      "1142 cat:1671\n",
      "1143 cat:1672\n",
      "1144 cat:1673\n",
      "1145 cat:1094\n",
      "1146 cat:1095\n",
      "1147 cat:1096\n",
      "1148 cat:1097\n",
      "1149 cat:1090\n",
      "1150 cat:1091\n",
      "1151 cat:1092\n",
      "1152 cat:1093\n",
      "1153 cat:674\n",
      "1154 cat:675\n",
      "1155 cat:676\n",
      "1156 cat:677\n",
      "1157 cat:1098\n",
      "1158 cat:1099\n",
      "1159 cat:672\n",
      "1160 cat:673\n",
      "1161 cat:1533\n",
      "1162 cat:1418\n",
      "1163 cat:1419\n",
      "1164 cat:1410\n",
      "1165 cat:1411\n",
      "1166 cat:1412\n",
      "1167 cat:1413\n",
      "1168 cat:1414\n",
      "1169 cat:1415\n",
      "1170 cat:1416\n",
      "1171 cat:1417\n",
      "1172 cat:1322\n",
      "1173 cat:1323\n",
      "1174 cat:1320\n",
      "1175 cat:1321\n",
      "1176 cat:1326\n",
      "1177 cat:1327\n",
      "1178 cat:1324\n",
      "1179 cat:1325\n",
      "1180 cat:1328\n",
      "1181 cat:1329\n",
      "1182 cat:5\n",
      "1183 cat:1531\n",
      "1184 cat:1256\n",
      "1185 cat:1257\n",
      "1186 cat:1254\n",
      "1187 cat:1255\n",
      "1188 cat:1252\n",
      "1189 cat:1253\n",
      "1190 cat:1250\n",
      "1191 cat:1251\n",
      "1192 cat:1528\n",
      "1193 cat:1529\n",
      "1194 cat:1258\n",
      "1195 cat:1259\n",
      "1196 cat:308\n",
      "1197 cat:309\n",
      "1198 cat:300\n",
      "1199 cat:301\n",
      "1200 cat:302\n",
      "1201 cat:303\n",
      "1202 cat:304\n",
      "1203 cat:305\n",
      "1204 cat:306\n",
      "1205 cat:307\n",
      "1206 cat:470\n",
      "1207 cat:471\n",
      "1208 cat:1443\n",
      "1209 cat:476\n",
      "1210 cat:959\n",
      "1211 cat:958\n",
      "1212 cat:951\n",
      "1213 cat:950\n",
      "1214 cat:953\n",
      "1215 cat:952\n",
      "1216 cat:955\n",
      "1217 cat:954\n",
      "1218 cat:957\n",
      "1219 cat:956\n",
      "1220 cat:1442\n",
      "1221 cat:477\n",
      "1222 cat:1440\n",
      "1223 cat:1263\n",
      "1224 cat:666\n",
      "1225 cat:1261\n",
      "1226 cat:1260\n",
      "1227 cat:719\n",
      "1228 cat:718\n",
      "1229 cat:717\n",
      "1230 cat:716\n",
      "1231 cat:715\n",
      "1232 cat:714\n",
      "1233 cat:713\n",
      "1234 cat:712\n",
      "1235 cat:711\n",
      "1236 cat:710\n",
      "1237 cat:661\n",
      "1238 cat:660\n",
      "1239 cat:1069\n",
      "1240 cat:1068\n",
      "1241 cat:1061\n",
      "1242 cat:1060\n",
      "1243 cat:1063\n",
      "1244 cat:1062\n",
      "1245 cat:1065\n",
      "1246 cat:1064\n",
      "1247 cat:1067\n",
      "1248 cat:1066\n",
      "1249 cat:1669\n",
      "1250 cat:1668\n",
      "1251 cat:1667\n",
      "1252 cat:1666\n",
      "1253 cat:1665\n",
      "1254 cat:1664\n",
      "1255 cat:1663\n",
      "1256 cat:1662\n",
      "1257 cat:1661\n",
      "1258 cat:1660\n",
      "1259 cat:591\n",
      "1260 cat:590\n",
      "1261 cat:593\n",
      "1262 cat:592\n",
      "1263 cat:595\n",
      "1264 cat:594\n",
      "1265 cat:597\n",
      "1266 cat:596\n",
      "1267 cat:599\n",
      "1268 cat:598\n",
      "1269 cat:1089\n",
      "1270 cat:1088\n",
      "1271 cat:1409\n",
      "1272 cat:1408\n",
      "1273 cat:1403\n",
      "1274 cat:1402\n",
      "1275 cat:1401\n",
      "1276 cat:1400\n",
      "1277 cat:1407\n",
      "1278 cat:1406\n",
      "1279 cat:1405\n",
      "1280 cat:1404\n",
      "1281 cat:1546\n",
      "1282 cat:449\n",
      "1283 cat:448\n",
      "1284 cat:1339\n",
      "1285 cat:1338\n",
      "1286 cat:1547\n",
      "1287 cat:443\n",
      "1288 cat:442\n",
      "1289 cat:441\n",
      "1290 cat:440\n",
      "1291 cat:447\n",
      "1292 cat:446\n",
      "1293 cat:445\n",
      "1294 cat:444\n",
      "1295 cat:1520\n",
      "1296 cat:1542\n",
      "1297 cat:1543\n",
      "1298 cat:39\n",
      "1299 cat:38\n",
      "1300 cat:1540\n",
      "1301 cat:33\n",
      "1302 cat:32\n",
      "1303 cat:31\n",
      "1304 cat:30\n",
      "1305 cat:37\n",
      "1306 cat:36\n",
      "1307 cat:35\n",
      "1308 cat:34\n",
      "1309 cat:641\n",
      "1310 cat:640\n",
      "1311 cat:643\n",
      "1312 cat:642\n",
      "1313 cat:645\n",
      "1314 cat:644\n",
      "1315 cat:647\n",
      "1316 cat:1246\n",
      "1317 cat:649\n",
      "1318 cat:1248\n",
      "1319 cat:1539\n",
      "1320 cat:1538\n",
      "1321 cat:339\n",
      "1322 cat:338\n",
      "1323 cat:335\n",
      "1324 cat:334\n",
      "1325 cat:337\n",
      "1326 cat:336\n",
      "1327 cat:331\n",
      "1328 cat:330\n",
      "1329 cat:333\n",
      "1330 cat:332\n",
      "1331 cat:1026\n",
      "1332 cat:8\n",
      "1333 cat:1462\n",
      "1334 cat:948\n",
      "1335 cat:949\n",
      "1336 cat:946\n",
      "1337 cat:947\n",
      "1338 cat:944\n",
      "1339 cat:945\n",
      "1340 cat:942\n",
      "1341 cat:943\n",
      "1342 cat:940\n",
      "1343 cat:941\n",
      "1344 cat:133\n",
      "1345 cat:132\n",
      "1346 cat:131\n",
      "1347 cat:130\n",
      "1348 cat:137\n",
      "1349 cat:136\n",
      "1350 cat:135\n",
      "1351 cat:134\n",
      "1352 cat:139\n",
      "1353 cat:138\n",
      "1354 cat:708\n",
      "1355 cat:709\n",
      "1356 cat:704\n",
      "1357 cat:705\n",
      "1358 cat:706\n",
      "1359 cat:707\n",
      "1360 cat:700\n",
      "1361 cat:701\n",
      "1362 cat:702\n",
      "1363 cat:703\n",
      "1364 cat:88\n",
      "1365 cat:89\n",
      "1366 cat:82\n",
      "1367 cat:83\n",
      "1368 cat:80\n",
      "1369 cat:81\n",
      "1370 cat:86\n",
      "1371 cat:87\n",
      "1372 cat:84\n",
      "1373 cat:85\n",
      "1374 cat:1658\n",
      "1375 cat:1659\n",
      "1376 cat:1652\n",
      "1377 cat:1388\n",
      "1378 cat:1650\n",
      "1379 cat:1651\n",
      "1380 cat:1656\n",
      "1381 cat:1657\n",
      "1382 cat:1654\n",
      "1383 cat:1389\n",
      "1384 cat:586\n",
      "1385 cat:587\n",
      "1386 cat:584\n",
      "1387 cat:585\n",
      "1388 cat:582\n",
      "1389 cat:583\n",
      "1390 cat:580\n",
      "1391 cat:581\n",
      "1392 cat:588\n",
      "1393 cat:589\n",
      "1394 cat:1633\n",
      "1395 cat:1436\n",
      "1396 cat:1437\n",
      "1397 cat:1434\n",
      "1398 cat:1435\n",
      "1399 cat:1432\n",
      "1400 cat:1433\n",
      "1401 cat:1430\n",
      "1402 cat:1431\n",
      "1403 cat:1380\n",
      "1404 cat:1438\n",
      "1405 cat:1381\n",
      "1406 cat:1349\n",
      "1407 cat:1541\n",
      "1408 cat:1348\n",
      "1409 cat:459\n",
      "1410 cat:450\n",
      "1411 cat:451\n",
      "1412 cat:452\n",
      "1413 cat:1343\n",
      "1414 cat:1344\n",
      "1415 cat:1345\n",
      "1416 cat:456\n",
      "1417 cat:457\n",
      "1418 cat:656\n",
      "1419 cat:657\n",
      "1420 cat:654\n",
      "1421 cat:655\n",
      "1422 cat:652\n",
      "1423 cat:653\n",
      "1424 cat:650\n",
      "1425 cat:651\n",
      "1426 cat:1508\n",
      "1427 cat:1509\n",
      "1428 cat:658\n",
      "1429 cat:516\n",
      "1430 cat:1376\n",
      "1431 cat:322\n",
      "1432 cat:323\n",
      "1433 cat:320\n",
      "1434 cat:321\n",
      "1435 cat:326\n",
      "1436 cat:327\n",
      "1437 cat:324\n",
      "1438 cat:325\n",
      "1439 cat:328\n",
      "1440 cat:329\n",
      "1441 cat:1340\n",
      "1442 cat:1594\n",
      "1443 cat:1341\n",
      "1444 cat:1592\n",
      "1445 cat:1598\n",
      "1446 cat:995\n",
      "1447 cat:994\n",
      "1448 cat:997\n",
      "1449 cat:996\n",
      "1450 cat:991\n",
      "1451 cat:990\n",
      "1452 cat:993\n",
      "1453 cat:992\n",
      "1454 cat:999\n",
      "1455 cat:998\n",
      "1456 cat:120\n",
      "1457 cat:121\n",
      "1458 cat:122\n",
      "1459 cat:123\n",
      "1460 cat:124\n",
      "1461 cat:125\n",
      "1462 cat:126\n",
      "1463 cat:127\n",
      "1464 cat:128\n",
      "1465 cat:129\n",
      "1466 cat:1645\n",
      "1467 cat:1644\n",
      "1468 cat:1647\n",
      "1469 cat:1646\n",
      "1470 cat:1641\n",
      "1471 cat:1640\n",
      "1472 cat:1643\n",
      "1473 cat:1642\n",
      "1474 cat:1649\n",
      "1475 cat:1648\n",
      "1476 cat:579\n",
      "1477 cat:578\n",
      "1478 cat:573\n",
      "1479 cat:572\n",
      "1480 cat:571\n",
      "1481 cat:570\n",
      "1482 cat:577\n",
      "1483 cat:576\n",
      "1484 cat:575\n",
      "1485 cat:574\n",
      "1486 cat:1209\n",
      "1487 cat:1208\n",
      "1488 cat:1421\n",
      "1489 cat:1420\n",
      "1490 cat:1423\n",
      "1491 cat:1422\n",
      "1492 cat:1425\n",
      "1493 cat:1424\n",
      "1494 cat:1427\n",
      "1495 cat:1426\n",
      "1496 cat:1429\n",
      "1497 cat:1428\n",
      "1498 cat:731\n",
      "1499 cat:730\n",
      "1500 cat:733\n",
      "1501 cat:732\n",
      "1502 cat:735\n",
      "1503 cat:734\n",
      "1504 cat:737\n",
      "1505 cat:736\n",
      "1506 cat:739\n",
      "1507 cat:738\n",
      "1508 cat:1359\n",
      "1509 cat:1358\n",
      "1510 cat:469\n",
      "1511 cat:468\n",
      "1512 cat:1353\n",
      "1513 cat:1352\n",
      "1514 cat:1351\n",
      "1515 cat:1350\n",
      "1516 cat:461\n",
      "1517 cat:1356\n",
      "1518 cat:463\n",
      "1519 cat:462\n",
      "1520 cat:1273\n",
      "1521 cat:1519\n",
      "1522 cat:1518\n",
      "1523 cat:1515\n",
      "1524 cat:1514\n",
      "1525 cat:1517\n",
      "1526 cat:1516\n",
      "1527 cat:1274\n",
      "1528 cat:1510\n",
      "1529 cat:1513\n",
      "1530 cat:1512\n",
      "1531 cat:1275\n",
      "1532 cat:357\n",
      "1533 cat:356\n",
      "1534 cat:355\n",
      "1535 cat:354\n",
      "1536 cat:353\n",
      "1537 cat:352\n",
      "1538 cat:351\n",
      "1539 cat:350\n",
      "1540 cat:359\n",
      "1541 cat:358\n",
      "1542 cat:1447\n",
      "1543 cat:1446\n",
      "1544 cat:1445\n",
      "1545 cat:289\n",
      "1546 cat:288\n",
      "1547 cat:1444\n",
      "1548 cat:281\n",
      "1549 cat:280\n",
      "1550 cat:283\n",
      "1551 cat:282\n",
      "1552 cat:285\n",
      "1553 cat:284\n",
      "1554 cat:287\n",
      "1555 cat:286\n",
      "1556 cat:1441\n",
      "1557 cat:1116\n",
      "1558 cat:263\n",
      "1559 cat:262\n",
      "1560 cat:261\n",
      "1561 cat:260\n",
      "1562 cat:267\n",
      "1563 cat:266\n",
      "1564 cat:265\n",
      "1565 cat:264\n",
      "1566 cat:269\n",
      "1567 cat:268\n",
      "1568 cat:1562\n",
      "1569 cat:1563\n",
      "1570 cat:1564\n",
      "1571 cat:1565\n",
      "1572 cat:1566\n",
      "1573 cat:1567\n",
      "1574 cat:988\n",
      "1575 cat:989\n",
      "1576 cat:982\n",
      "1577 cat:983\n",
      "1578 cat:980\n",
      "1579 cat:981\n",
      "1580 cat:986\n",
      "1581 cat:987\n",
      "1582 cat:984\n",
      "1583 cat:985\n",
      "1584 cat:115\n",
      "1585 cat:114\n",
      "1586 cat:117\n",
      "1587 cat:116\n",
      "1588 cat:111\n",
      "1589 cat:110\n",
      "1590 cat:113\n",
      "1591 cat:112\n",
      "1592 cat:119\n",
      "1593 cat:118\n",
      "1594 cat:1630\n",
      "1595 cat:1631\n",
      "1596 cat:1632\n",
      "1597 cat:484\n",
      "1598 cat:1634\n",
      "1599 cat:1635\n",
      "1600 cat:1636\n",
      "1601 cat:1637\n",
      "1602 cat:1638\n",
      "1603 cat:1639\n",
      "1604 cat:568\n",
      "1605 cat:569\n",
      "1606 cat:560\n",
      "1607 cat:561\n",
      "1608 cat:562\n",
      "1609 cat:563\n",
      "1610 cat:564\n",
      "1611 cat:565\n",
      "1612 cat:566\n",
      "1613 cat:567\n",
      "1614 cat:1188\n",
      "1615 cat:1189\n",
      "1616 cat:1186\n",
      "1617 cat:1187\n",
      "1618 cat:1184\n",
      "1619 cat:1185\n",
      "1620 cat:1182\n",
      "1621 cat:1183\n",
      "1622 cat:1180\n",
      "1623 cat:1181\n",
      "1624 cat:726\n",
      "1625 cat:727\n",
      "1626 cat:724\n",
      "1627 cat:725\n",
      "1628 cat:722\n",
      "1629 cat:723\n",
      "1630 cat:720\n",
      "1631 cat:721\n",
      "1632 cat:728\n",
      "1633 cat:729\n",
      "1634 cat:1164\n",
      "1635 cat:1165\n",
      "1636 cat:1166\n",
      "1637 cat:1167\n",
      "1638 cat:1160\n",
      "1639 cat:1161\n",
      "1640 cat:1162\n",
      "1641 cat:1163\n",
      "1642 cat:1168\n",
      "1643 cat:1169\n",
      "1644 cat:472\n",
      "1645 cat:48\n",
      "1646 cat:49\n",
      "1647 cat:46\n",
      "1648 cat:47\n",
      "1649 cat:44\n",
      "1650 cat:45\n",
      "1651 cat:42\n",
      "1652 cat:43\n",
      "1653 cat:40\n",
      "1654 cat:41\n",
      "1655 cat:1568\n",
      "1656 cat:1569\n",
      "1657 cat:1298\n",
      "1658 cat:1299\n",
      "1659 cat:1292\n",
      "1660 cat:1293\n",
      "1661 cat:1290\n",
      "1662 cat:1291\n",
      "1663 cat:1296\n",
      "1664 cat:1297\n",
      "1665 cat:1294\n",
      "1666 cat:1295\n",
      "1667 cat:474\n",
      "1668 cat:475\n",
      "1669 cat:1201\n",
      "1670 cat:1366\n",
      "1671 cat:473\n",
      "1672 cat:1364\n",
      "1673 cat:1365\n",
      "1674 cat:1362\n",
      "1675 cat:1363\n",
      "1676 cat:1360\n",
      "1677 cat:1361\n",
      "1678 cat:478\n",
      "1679 cat:479\n",
      "1680 cat:1368\n",
      "1681 cat:1369\n"
     ]
    }
   ],
   "source": [
    "for count, cat in enumerate(listofregion):\n",
    "    print str(count)+\" cat:\"+str(cat)"
   ]
  },
  {
   "cell_type": "raw",
   "metadata": {
    "scrolled": true
   },
   "source": [
    "for count, cat in enumerate(listofregion):\n",
    "    condition=\"cat=\"+cat\n",
    "    typemorpho=(grass.read_command('v.db.select', map=tile_layer, \n",
    "                                   columns=type_column, where=condition,flags=\"c\"))\n",
    "    area=(grass.read_command('v.db.select', map=tile_layer, \n",
    "                             columns=area_column, where=condition,flags=\"c\"))\n",
    "    print str(count)+\" cat:\"+str(cat)+\"  morpho_type:\"+str(typemorpho)+\"  area:\"+str(area)"
   ]
  },
  {
   "cell_type": "code",
   "execution_count": 140,
   "metadata": {
    "scrolled": true
   },
   "outputs": [
    {
     "name": "stdout",
     "output_type": "stream",
     "text": [
      "Start computing statistics for segments to be classified, using i.segment.stats on Tue Oct 17 13:24:59 2017\n",
      "\n",
      "1 region(s) will be processed, covering an area of 2.725 Sqkm.\n",
      "\n",
      "\n",
      "Computing segments's statistics for tile n°1380 (1/1) corresponding to 2.72 km2\n",
      "i.segment.stats finishes to process th current tile in 3 minutes and 36.6 seconds\n",
      "\n",
      "\n",
      "Statitics computed in 3 minutes and 36.8 seconds\n"
     ]
    }
   ],
   "source": [
    "## Initialize a empty string for saving print outputs\n",
    "txtcontent=\"\"\n",
    "\n",
    "## Running i.segment.stats\n",
    "messagetoprint=\"Start computing statistics for segments to be classified, using i.segment.stats on \"+time.ctime()+\"\\n\"\n",
    "print (messagetoprint)\n",
    "txtcontent+=messagetoprint+\"\\n\"\n",
    "begintime_isegmentstats=time.time()\n",
    "\n",
    "## Compute total area to be processed for process progression information\n",
    "total_area=0\n",
    "processed_area=0\n",
    "nbrtile=len(listofregion)\n",
    "for cat in listofregion[:]:\n",
    "    condition='cat='+cat\n",
    "    size=float(grass.read_command('v.db.select', map=tile_layer, \n",
    "                                  columns=area_column, where=condition,flags=\"c\"))\n",
    "    total_area+=size\n",
    "    \n",
    "messagetoprint=str(nbrtile)+\" region(s) will be processed, covering an area of \"+str(round(total_area,3))+\" Sqkm.\"+\"\\n\\n\"\n",
    "print (messagetoprint)\n",
    "txtcontent+=messagetoprint\n",
    "\n",
    "## Save time before looping\n",
    "begintime_isegmentstats=time.time()\n",
    "\n",
    "## Start loop on morphological zones\n",
    "count=1\n",
    "for cat in listofregion[:]:\n",
    "    ## Save current time at loop' start. \n",
    "    begintime_current_id=time.time()\n",
    "    \n",
    "    ## Create a computional region for the current polygon\n",
    "    condition=\"cat=\"+cat\n",
    "    outputname=\"tmp_\"+cat\n",
    "    grass.run_command('v.extract', overwrite=True, quiet=True, \n",
    "                      input=tile_layer, type='area', where=condition, output=outputname)\n",
    "    grass.run_command('g.region', overwrite=True, vector=outputname, align=\"segments\")\n",
    "    grass.run_command('r.mask', overwrite=True, raster=tile_layer, maskcats=cat)\n",
    "    grass.run_command('g.remove', quiet=True, type=\"vector\", name=outputname, flags=\"f\")\n",
    "\n",
    "    ## Save size of the current polygon and add it to the already processed area \n",
    "    size=round(float(grass.read_command('v.db.select', map=tile_layer, \n",
    "                                        columns=area_column, where=condition,flags=\"c\")),2)\n",
    "    \n",
    "    ## Print\n",
    "    messagetoprint=\"Computing segments's statistics for tile n°\"+str(cat)\n",
    "    messagetoprint+=\" (\"+str(count)+\"/\"+str(len(listofregion))+\")\"\n",
    "    messagetoprint+=\" corresponding to \"+str(size)+\" km2\"\n",
    "    print (messagetoprint)\n",
    "    txtcontent+=messagetoprint+\"\\n\"\n",
    "    \n",
    "    ## Define the csv output file name, according to the optimization function selected\n",
    "    outputcsv=os.path.join(outputfolder,prefix+\"_\"+str(cat)+\".csv\")\n",
    "    \n",
    "    ## Compute statistics of objets using i.segment.stats only with .csv output (no vectormap output).\n",
    "    grass.run_command('i.segment.stats', overwrite=True, map=segment_layer, \n",
    "                      rasters=','.join(inputstats), raster_statistics=','.join(rasterstats), \n",
    "                      area_measures=','.join(areameasures), csvfile=outputcsv)\n",
    "    \n",
    "    ## Add the size of the zone to the already processed area\n",
    "    processed_area+=size\n",
    "    \n",
    "    ## Print\n",
    "    messagetoprint=print_processing_time(begintime_current_id, \n",
    "                                         \"i.segment.stats finishes to process th current tile in \")\n",
    "    print (messagetoprint)\n",
    "    txtcontent+=messagetoprint+\"\\n\"\n",
    "    remainingtile=nbrtile-count\n",
    "    if remainingtile>0:\n",
    "        messagetoprint=str(round((processed_area/total_area)*100,2))+\" percent of the total area processed. \"\n",
    "        messagetoprint+=\"Still \"+str(remainingtile)+\" zone(s) to process.\"+\"\\n\"\n",
    "        print (messagetoprint)\n",
    "        txtcontent+=messagetoprint+\"\\n\"\n",
    "    else:\n",
    "        messagetoprint=\"\\n\"\n",
    "        print (messagetoprint)\n",
    "        txtcontent+=messagetoprint\n",
    "        \n",
    "    ## Adapt the count \n",
    "    count+=1\n",
    "    \n",
    "## Remove current mask\n",
    "grass.run_command('r.mask', flags='r')\n",
    "\n",
    "## Compute processing time and print it\n",
    "messagetoprint=print_processing_time(begintime_isegmentstats, \"Statitics computed in \")\n",
    "print (messagetoprint) \n",
    "txtcontent+=messagetoprint\n",
    "    \n",
    "#### Write text file with log of processing time\n",
    "## Create the .txt file for processing time output and begin to write\n",
    "f = open(os.path.join(outputfolder,mapsetname+\"_processingtime_isegmentstats.txt\"), 'w')\n",
    "f.write(mapsetname+\" processing time information for i.segment.stats\"+\"\\n\\n\")\n",
    "f.write(txtcontent)\n",
    "f.close()"
   ]
  },
  {
   "cell_type": "code",
   "execution_count": 141,
   "metadata": {},
   "outputs": [
    {
     "data": {
      "text/plain": [
       "'Object statistics computed in 39 minutes and 5.6 seconds'"
      ]
     },
     "execution_count": 141,
     "metadata": {},
     "output_type": "execute_result"
    }
   ],
   "source": [
    "## print\n",
    "print_processing_time(begintime_computeobjstat,\"Object statistics computed in \")"
   ]
  },
  {
   "cell_type": "markdown",
   "metadata": {
    "collapsed": true
   },
   "source": [
    "# Classification"
   ]
  },
  {
   "cell_type": "markdown",
   "metadata": {},
   "source": [
    "## Concatenate individuals .csv files and replace unwanted values"
   ]
  },
  {
   "cell_type": "markdown",
   "metadata": {},
   "source": [
    "BE CAREFUL! Before runing the following cells, please check your data to be sure that it makes sens to replace the 'nan', 'null', or 'inf' values with \"0\""
   ]
  },
  {
   "cell_type": "code",
   "execution_count": 144,
   "metadata": {
    "collapsed": true
   },
   "outputs": [],
   "source": [
    "## Define the outputfile for .csv containing statistics for all segments\n",
    "outputfile=os.path.join(outputfolder,\"all_segments_stats.csv\")"
   ]
  },
  {
   "cell_type": "code",
   "execution_count": 145,
   "metadata": {},
   "outputs": [
    {
     "data": {
      "text/plain": [
       "'/media/tais/My_Book_1/MAUPP/Traitement/Ouagadougou/Segmentation_fullAOI_localapproach/Results/CLASSIF/stats/all_segments_stats.csv'"
      ]
     },
     "execution_count": 145,
     "metadata": {},
     "output_type": "execute_result"
    }
   ],
   "source": [
    "outputfile"
   ]
  },
  {
   "cell_type": "code",
   "execution_count": 146,
   "metadata": {
    "collapsed": true
   },
   "outputs": [],
   "source": [
    "# Create a dictionary with 'key' to be replaced by 'values' \n",
    "findreplacedict={}\n",
    "findreplacedict['nan']=\"0\"\n",
    "findreplacedict['null']=\"0\"\n",
    "findreplacedict['inf']=\"0\"\n",
    "\n",
    "# Define pattern of file to concatenate\n",
    "pat=prefix+\"_*.csv\"\n",
    "sep=\"|\""
   ]
  },
  {
   "cell_type": "code",
   "execution_count": 147,
   "metadata": {},
   "outputs": [
    {
     "name": "stdout",
     "output_type": "stream",
     "text": [
      "Start concatenate individual .csv files and replacing unwanted values.\n",
      "Going to concatenate 1682 .csv files together and replace unwanted values.Nothing changed. No unwanted values found \n",
      "Process achieved in 13 minutes and 19.9 seconds\n"
     ]
    }
   ],
   "source": [
    "## Initialize a empty string for saving print outputs\n",
    "txtcontent=\"\"\n",
    "\n",
    "## Saving current time for processing time management\n",
    "begintime_concat=time.time()\n",
    "\n",
    "## Print\n",
    "messagetoprint=\"Start concatenate individual .csv files and replacing unwanted values.\"\n",
    "print (messagetoprint)\n",
    "txtcontent+=messagetoprint+\"\\n\"\n",
    "\n",
    "# Concatenate and replace unwanted values\n",
    "messagetoprint=concat_findreplace(outputfolder,pat,sep,findreplacedict,outputfile)\n",
    "print (messagetoprint)\n",
    "txtcontent+=messagetoprint+\"\\n\"\n",
    "\n",
    "## Compute processing time and print it\n",
    "messagetoprint=print_processing_time(begintime_concat, \"Process achieved in \")\n",
    "print (messagetoprint)\n",
    "txtcontent+=messagetoprint+\"\\n\"\n",
    "\n",
    "#### Write text file with log of processing time\n",
    "## Create the .txt file for processing time output and begin to write\n",
    "filepath=os.path.join(outputfolder,mapsetname+\"_processingtime_concatreplace.txt\")\n",
    "f = open(filepath, 'w')\n",
    "f.write(mapsetname+\" processing time information for concatenation of individual .csv files and replacing of unwanted values.\"+\"\\n\\n\")\n",
    "f.write(txtcontent)\n",
    "f.close()"
   ]
  },
  {
   "cell_type": "markdown",
   "metadata": {},
   "source": [
    "<center> <font size=4> <h2>Import statistics of segments in a Postgresql database</h2> </font> </center>  "
   ]
  },
  {
   "cell_type": "markdown",
   "metadata": {},
   "source": [
    "## Create new schema in the postgresql database "
   ]
  },
  {
   "cell_type": "code",
   "execution_count": 121,
   "metadata": {
    "collapsed": true
   },
   "outputs": [],
   "source": [
    "from psycopg2.extensions import ISOLATION_LEVEL_AUTOCOMMIT\n",
    "\n",
    "# Connect to postgres database\n",
    "db=None\n",
    "db=pg.connect(dbname=dbname, user='tais', password='tais', host='localhost')\n",
    "\n",
    "# Allow to create a new database\n",
    "db.set_isolation_level(ISOLATION_LEVEL_AUTOCOMMIT)\n",
    "\n",
    "# Execute the CREATE DATABASE query\n",
    "cur=db.cursor()\n",
    "#cur.execute('DROP SCHEMA IF EXISTS '+schema+' CASCADE') #Comment this to avoid deleting existing DB\n",
    "cur.execute('CREATE SCHEMA '+schema)\n",
    "cur.close()\n",
    "db.close()"
   ]
  },
  {
   "cell_type": "markdown",
   "metadata": {},
   "source": [
    "## Create a new table"
   ]
  },
  {
   "cell_type": "code",
   "execution_count": 148,
   "metadata": {
    "collapsed": true
   },
   "outputs": [],
   "source": [
    "# Connect to an existing database\n",
    "db=pg.connect(database=dbname, user=dbuser, password=dbpassword, host=host)\n",
    "# Open a cursor to perform database operations\n",
    "cur=db.cursor()"
   ]
  },
  {
   "cell_type": "code",
   "execution_count": 149,
   "metadata": {
    "collapsed": true
   },
   "outputs": [],
   "source": [
    "# Drop table if exists:\n",
    "cur.execute(\"DROP TABLE IF EXISTS \"+schema+\".\"+object_stats_table)\n",
    "# Make the changes to the database persistent\n",
    "db.commit()"
   ]
  },
  {
   "cell_type": "code",
   "execution_count": 150,
   "metadata": {},
   "outputs": [
    {
     "name": "stdout",
     "output_type": "stream",
     "text": [
      "Create a new table 'classif.objects_statistics' with header corresponding to the first row of file '/media/tais/My_Book_1/MAUPP/Traitement/Ouagadougou/Segmentation_fullAOI_localapproach/Results/CLASSIF/stats/all_segments_stats.csv'\n"
     ]
    }
   ],
   "source": [
    "import csv\n",
    "\n",
    "# Create a empty list for saving of column name\n",
    "column_name=[]\n",
    "\n",
    "# Create a reader for the first csv file in the stack of csv to be imported\n",
    "pathtofile=os.path.join(outputfolder, outputfile)\n",
    "readercsvSubset=open(pathtofile)\n",
    "readercsv=csv.reader(readercsvSubset, delimiter='|') \n",
    "headerline=readercsv.next()\n",
    "print \"Create a new table '\"+schema+\".\"+object_stats_table+\"' with header corresponding to the first row of file '\"+pathtofile+\"'\"\n",
    "\n",
    "## Build a query for creation of a new table with auto-incremental key-value (thus avoiding potential duplicates of 'cat' value)\n",
    "# All column data-types are set to 'text' in order to be able to import some 'nan', 'inf' or 'null' values present in statistics files\n",
    "# This table will allow to import all individual csv files in a single Postgres table, which will be cleaned after\n",
    "query=\"CREATE TABLE \"+schema+\".\"+object_stats_table+\" (\"\n",
    "query+=\"key_value serial PRIMARY KEY\"\n",
    "query+=\", \"+str(headerline[0])+\" text\"\n",
    "column_name.append(str(headerline[0]))\n",
    "for column in headerline[1:]:\n",
    "    if column[0] in ('1','2','3','4','5','6','7','8','9','0'):\n",
    "        query+=\",\"\n",
    "        query+=\" \"+\"W\"+str(column)+\" double precision\"\n",
    "        column_name.append(\"W\"+str(column))\n",
    "    else:\n",
    "        query+=\",\"\n",
    "        query+=\" \"+str(column)+\" double precision\"\n",
    "        column_name.append(str(column))\n",
    "query+=\")\"\n",
    "\n",
    "# Execute the CREATE TABLE query \n",
    "cur.execute(query)\n",
    "# Make the changes to the database persistent\n",
    "db.commit()\n",
    "\n",
    "# Close cursor and communication with the database\n",
    "cur.close()\n",
    "db.close()"
   ]
  },
  {
   "cell_type": "markdown",
   "metadata": {},
   "source": [
    "## Copy objects statistics from csv to Postgresql database"
   ]
  },
  {
   "cell_type": "code",
   "execution_count": 151,
   "metadata": {
    "collapsed": true
   },
   "outputs": [],
   "source": [
    "# Connect to an existing database\n",
    "db=pg.connect(database=dbname, user=dbuser, password=dbpassword, host=host)\n",
    "# Open a cursor to perform database operations\n",
    "cur=db.cursor()"
   ]
  },
  {
   "cell_type": "code",
   "execution_count": 152,
   "metadata": {},
   "outputs": [
    {
     "name": "stdout",
     "output_type": "stream",
     "text": [
      "Start copy of segments' statistics in the postgresql table 'classif.objects_statistics'\n",
      "Process achieved in 4 minutes and 36.5 seconds\n"
     ]
    }
   ],
   "source": [
    "## Initialize a empty string for saving print outputs\n",
    "txtcontent=\"\"\n",
    "## Saving current time for processing time management\n",
    "begintime_copy=time.time()\n",
    "## Print\n",
    "messagetoprint=\"Start copy of segments' statistics in the postgresql table '\"+schema+\".\"+object_stats_table+\"'\"\n",
    "print (messagetoprint)\n",
    "txtcontent+=messagetoprint+\"\\n\"\n",
    "\n",
    "# Create query for copy data from csv, avoiding the header, and updating only the column which are in the csv (to allow auto-incremental key value to wokr)\n",
    "query=\"COPY \"+schema+\".\"+object_stats_table+\"(\"+', '.join(column_name)+\") \"   \n",
    "query+=\" FROM '\"+str(pathtofile)+\"' HEADER DELIMITER '|' CSV;\" \n",
    "\n",
    "# Execute the COPY FROM CSV query \n",
    "cur.execute(query)\n",
    "# Make the changes to the database persistent\n",
    "db.commit()    \n",
    "\n",
    "## Compute processing time and print it\n",
    "messagetoprint=print_processing_time(begintime_copy, \"Process achieved in \")\n",
    "print (messagetoprint)\n",
    "txtcontent+=messagetoprint+\"\\n\"\n",
    "\n",
    "#### Write text file with log of processing time\n",
    "## Create the .txt file for processing time output and begin to write\n",
    "filepath=os.path.join(outputfolder,mapsetname+\"_processingtime_PostGimport.txt\")\n",
    "f = open(filepath, 'w')\n",
    "f.write(mapsetname+\" processing time information for importation of segments' statistics in the PostGreSQL Database.\"+\"\\n\\n\")\n",
    "f.write(txtcontent)\n",
    "f.close()"
   ]
  },
  {
   "cell_type": "code",
   "execution_count": 153,
   "metadata": {
    "collapsed": true
   },
   "outputs": [],
   "source": [
    "# Close cursor and communication with the database\n",
    "cur.close()\n",
    "db.close()"
   ]
  },
  {
   "cell_type": "markdown",
   "metadata": {},
   "source": [
    "# Drop duplicate values of CAT"
   ]
  },
  {
   "cell_type": "markdown",
   "metadata": {},
   "source": [
    "Here, we will find duplicates. Indeed, as statistics are computed for each tile (morphological area) and computational region aligned to the pixels raster, some objets could appear in two different tile resulting on duplicates on \"CAT\" column. \n",
    "\n",
    "We firs select the \"CAT\" of duplicated objets and then puting them in a list. Then, for each duplicated \"CAT\", we select the key-value (primary key) of the smallest object (area_min). The row corresponding to those key-values are then remoed using the \"DELETE FROM\" query."
   ]
  },
  {
   "cell_type": "code",
   "execution_count": 154,
   "metadata": {
    "collapsed": true
   },
   "outputs": [],
   "source": [
    "# Connect to an existing database\n",
    "db=pg.connect(database=dbname, user=dbuser, password=dbpassword, host=host)\n",
    "# Open a cursor to perform database operations\n",
    "cur=db.cursor()"
   ]
  },
  {
   "cell_type": "code",
   "execution_count": 155,
   "metadata": {},
   "outputs": [
    {
     "name": "stdout",
     "output_type": "stream",
     "text": [
      "Start removing duplicates in the postgresql table 'classif.objects_statistics'\n",
      "Removing duplicates - Pass 1\n",
      "31 duplicates removed.\n",
      "A total of 31 duplicates were removed.\n",
      "Process achieved in 2 minutes and 50.4 seconds\n"
     ]
    }
   ],
   "source": [
    "## Initialize a empty string for saving print outputs\n",
    "txtcontent=\"\"\n",
    "## Saving current time for processing time management\n",
    "begintime_removeduplic=time.time()\n",
    "## Print\n",
    "messagetoprint=\"Start removing duplicates in the postgresql table '\"+schema+\".\"+object_stats_table+\"'\"\n",
    "print (messagetoprint)\n",
    "txtcontent+=messagetoprint+\"\\n\"\n",
    "\n",
    "# Find duplicated 'CAT'\n",
    "find_duplicated_cat()\n",
    "\n",
    "# Remove duplicated\n",
    "count_pass=1\n",
    "count_removedduplic=0\n",
    "while len(cattodrop)>0:\n",
    "    messagetoprint=\"Removing duplicates - Pass \"+str(count_pass)\n",
    "    print (messagetoprint)\n",
    "    txtcontent+=messagetoprint+\"\\n\"\n",
    "    find_duplicated_key()\n",
    "    remove_duplicated_key()\n",
    "    messagetoprint=str(len(keytodrop))+\" duplicates removed.\"\n",
    "    print (messagetoprint)\n",
    "    txtcontent+=messagetoprint+\"\\n\"\n",
    "    count_removedduplic+=len(keytodrop)\n",
    "    # Find again duplicated 'CAT'\n",
    "    find_duplicated_cat()\n",
    "    count_pass+=1   \n",
    "\n",
    "messagetoprint=\"A total of \"+str(count_removedduplic)+\" duplicates were removed.\"\n",
    "print (messagetoprint)\n",
    "txtcontent+=messagetoprint+\"\\n\"\n",
    "\n",
    "## Compute processing time and print it\n",
    "messagetoprint=print_processing_time(begintime_removeduplic, \"Process achieved in \")\n",
    "print (messagetoprint)\n",
    "txtcontent+=messagetoprint+\"\\n\"\n",
    "\n",
    "#### Write text file with log of processing time\n",
    "## Create the .txt file for processing time output and begin to write\n",
    "filepath=os.path.join(outputfolder,mapsetname+\"_processingtime_RemoveDuplic.txt\")\n",
    "f = open(filepath, 'w')\n",
    "f.write(mapsetname+\" processing time information for removing duplicated objects.\"+\"\\n\\n\")\n",
    "f.write(txtcontent)\n",
    "f.close()"
   ]
  },
  {
   "cell_type": "code",
   "execution_count": 156,
   "metadata": {
    "collapsed": true
   },
   "outputs": [],
   "source": [
    "# Vacuum the current Postgresql database\n",
    "vacuum(db)"
   ]
  },
  {
   "cell_type": "markdown",
   "metadata": {},
   "source": [
    "# Change the primary key from 'key_value' to 'cat'"
   ]
  },
  {
   "cell_type": "code",
   "execution_count": 157,
   "metadata": {
    "collapsed": true
   },
   "outputs": [],
   "source": [
    "# Connect to an existing database\n",
    "db=pg.connect(database=dbname, user=dbuser, password=dbpassword, host=host)\n",
    "# Open a cursor to perform database operations\n",
    "cur=db.cursor()"
   ]
  },
  {
   "cell_type": "code",
   "execution_count": 158,
   "metadata": {
    "collapsed": true
   },
   "outputs": [],
   "source": [
    "# Build a query to drop the current constraint on primary key \n",
    "query=\"ALTER TABLE \"+schema+\".\"+object_stats_table+\" \\\n",
    "DROP CONSTRAINT \"+object_stats_table+\"_pkey\"\n",
    "# Execute the query \n",
    "cur.execute(query)\n",
    "# Make the changes to the database persistent\n",
    "db.commit()\n",
    "\n",
    "# Build a query to change the datatype of 'cat' to 'integer'\n",
    "query=\"ALTER TABLE \"+schema+\".\"+object_stats_table+\" \\\n",
    "ALTER COLUMN cat TYPE integer USING cat::integer\"\n",
    "# Execute the query \n",
    "cur.execute(query)\n",
    "# Make the changes to the database persistent\n",
    "db.commit()\n",
    "\n",
    "# Build a query to add primary key on 'cat'\n",
    "query=\"ALTER TABLE \"+schema+\".\"+object_stats_table+\" \\\n",
    "ADD PRIMARY KEY (cat)\"\n",
    "# Execute the query \n",
    "cur.execute(query)\n",
    "# Make the changes to the database persistent\n",
    "db.commit()\n",
    "\n",
    "# Build a query to drop column 'key_value'\n",
    "query=\"ALTER TABLE \"+schema+\".\"+object_stats_table+\" \\\n",
    "DROP COLUMN key_value\"\n",
    "# Execute the query \n",
    "cur.execute(query)\n",
    "# Make the changes to the database persistent\n",
    "db.commit()"
   ]
  },
  {
   "cell_type": "code",
   "execution_count": 159,
   "metadata": {
    "collapsed": true
   },
   "outputs": [],
   "source": [
    "# Vacuum the current Postgresql database\n",
    "vacuum(db)"
   ]
  },
  {
   "cell_type": "code",
   "execution_count": 160,
   "metadata": {
    "collapsed": true
   },
   "outputs": [],
   "source": [
    "# Close cursor and communication with the database\n",
    "cur.close()\n",
    "db.close()"
   ]
  },
  {
   "cell_type": "markdown",
   "metadata": {},
   "source": [
    "### Show first rows of statistics"
   ]
  },
  {
   "cell_type": "code",
   "execution_count": 161,
   "metadata": {},
   "outputs": [
    {
     "data": {
      "text/html": [
       "<div>\n",
       "<table border=\"1\" class=\"dataframe\">\n",
       "  <thead>\n",
       "    <tr style=\"text-align: right;\">\n",
       "      <th></th>\n",
       "      <th>cat</th>\n",
       "      <th>area</th>\n",
       "      <th>perimeter</th>\n",
       "      <th>compact_circle</th>\n",
       "      <th>compact_square</th>\n",
       "      <th>fd</th>\n",
       "      <th>opt_blue_min</th>\n",
       "      <th>opt_blue_max</th>\n",
       "      <th>opt_blue_range</th>\n",
       "      <th>opt_blue_mean</th>\n",
       "      <th>...</th>\n",
       "      <th>ndsm_perc_90</th>\n",
       "      <th>ndvi_min</th>\n",
       "      <th>ndvi_max</th>\n",
       "      <th>ndvi_range</th>\n",
       "      <th>ndvi_mean</th>\n",
       "      <th>ndvi_stddev</th>\n",
       "      <th>ndvi_median</th>\n",
       "      <th>ndvi_first_quart</th>\n",
       "      <th>ndvi_third_quart</th>\n",
       "      <th>ndvi_perc_90</th>\n",
       "    </tr>\n",
       "  </thead>\n",
       "  <tbody>\n",
       "    <tr>\n",
       "      <th>0</th>\n",
       "      <td>3</td>\n",
       "      <td>17</td>\n",
       "      <td>24</td>\n",
       "      <td>1.642033</td>\n",
       "      <td>0.687184</td>\n",
       "      <td>2.243381</td>\n",
       "      <td>336</td>\n",
       "      <td>455</td>\n",
       "      <td>119</td>\n",
       "      <td>373.294118</td>\n",
       "      <td>...</td>\n",
       "      <td>0.582214</td>\n",
       "      <td>0.109731</td>\n",
       "      <td>0.343038</td>\n",
       "      <td>0.233307</td>\n",
       "      <td>0.226307</td>\n",
       "      <td>0.066025</td>\n",
       "      <td>0.219157</td>\n",
       "      <td>0.187606</td>\n",
       "      <td>0.276753</td>\n",
       "      <td>0.303188</td>\n",
       "    </tr>\n",
       "    <tr>\n",
       "      <th>1</th>\n",
       "      <td>4</td>\n",
       "      <td>254</td>\n",
       "      <td>106</td>\n",
       "      <td>1.876221</td>\n",
       "      <td>0.601410</td>\n",
       "      <td>1.684361</td>\n",
       "      <td>215</td>\n",
       "      <td>253</td>\n",
       "      <td>38</td>\n",
       "      <td>231.696850</td>\n",
       "      <td>...</td>\n",
       "      <td>1.552640</td>\n",
       "      <td>0.468978</td>\n",
       "      <td>0.598448</td>\n",
       "      <td>0.129470</td>\n",
       "      <td>0.543664</td>\n",
       "      <td>0.024536</td>\n",
       "      <td>0.545804</td>\n",
       "      <td>0.528271</td>\n",
       "      <td>0.561939</td>\n",
       "      <td>0.573386</td>\n",
       "    </tr>\n",
       "    <tr>\n",
       "      <th>2</th>\n",
       "      <td>5</td>\n",
       "      <td>1178</td>\n",
       "      <td>244</td>\n",
       "      <td>2.005452</td>\n",
       "      <td>0.562656</td>\n",
       "      <td>1.554723</td>\n",
       "      <td>204</td>\n",
       "      <td>308</td>\n",
       "      <td>104</td>\n",
       "      <td>233.759762</td>\n",
       "      <td>...</td>\n",
       "      <td>1.446750</td>\n",
       "      <td>0.338723</td>\n",
       "      <td>0.686912</td>\n",
       "      <td>0.348189</td>\n",
       "      <td>0.587143</td>\n",
       "      <td>0.041594</td>\n",
       "      <td>0.593786</td>\n",
       "      <td>0.569787</td>\n",
       "      <td>0.612663</td>\n",
       "      <td>0.626623</td>\n",
       "    </tr>\n",
       "    <tr>\n",
       "      <th>3</th>\n",
       "      <td>6</td>\n",
       "      <td>45</td>\n",
       "      <td>58</td>\n",
       "      <td>2.439028</td>\n",
       "      <td>0.462635</td>\n",
       "      <td>2.133322</td>\n",
       "      <td>267</td>\n",
       "      <td>409</td>\n",
       "      <td>142</td>\n",
       "      <td>344.511111</td>\n",
       "      <td>...</td>\n",
       "      <td>0.067780</td>\n",
       "      <td>0.103592</td>\n",
       "      <td>0.327721</td>\n",
       "      <td>0.224129</td>\n",
       "      <td>0.217023</td>\n",
       "      <td>0.057400</td>\n",
       "      <td>0.225882</td>\n",
       "      <td>0.192329</td>\n",
       "      <td>0.254878</td>\n",
       "      <td>0.283747</td>\n",
       "    </tr>\n",
       "    <tr>\n",
       "      <th>4</th>\n",
       "      <td>7</td>\n",
       "      <td>27</td>\n",
       "      <td>56</td>\n",
       "      <td>3.040193</td>\n",
       "      <td>0.371154</td>\n",
       "      <td>2.442661</td>\n",
       "      <td>273</td>\n",
       "      <td>326</td>\n",
       "      <td>53</td>\n",
       "      <td>310.703704</td>\n",
       "      <td>...</td>\n",
       "      <td>0.497009</td>\n",
       "      <td>0.293513</td>\n",
       "      <td>0.367772</td>\n",
       "      <td>0.074259</td>\n",
       "      <td>0.315184</td>\n",
       "      <td>0.017975</td>\n",
       "      <td>0.311927</td>\n",
       "      <td>0.301353</td>\n",
       "      <td>0.323770</td>\n",
       "      <td>0.331596</td>\n",
       "    </tr>\n",
       "    <tr>\n",
       "      <th>5</th>\n",
       "      <td>8</td>\n",
       "      <td>26</td>\n",
       "      <td>26</td>\n",
       "      <td>1.438407</td>\n",
       "      <td>0.784465</td>\n",
       "      <td>1.999976</td>\n",
       "      <td>217</td>\n",
       "      <td>237</td>\n",
       "      <td>20</td>\n",
       "      <td>227.461538</td>\n",
       "      <td>...</td>\n",
       "      <td>0.932404</td>\n",
       "      <td>0.512367</td>\n",
       "      <td>0.603053</td>\n",
       "      <td>0.090686</td>\n",
       "      <td>0.561177</td>\n",
       "      <td>0.022434</td>\n",
       "      <td>0.567187</td>\n",
       "      <td>0.549213</td>\n",
       "      <td>0.574702</td>\n",
       "      <td>0.588177</td>\n",
       "    </tr>\n",
       "    <tr>\n",
       "      <th>6</th>\n",
       "      <td>9</td>\n",
       "      <td>24</td>\n",
       "      <td>30</td>\n",
       "      <td>1.727471</td>\n",
       "      <td>0.653197</td>\n",
       "      <td>2.140400</td>\n",
       "      <td>213</td>\n",
       "      <td>291</td>\n",
       "      <td>78</td>\n",
       "      <td>236.708333</td>\n",
       "      <td>...</td>\n",
       "      <td>0.029572</td>\n",
       "      <td>0.267606</td>\n",
       "      <td>0.525520</td>\n",
       "      <td>0.257914</td>\n",
       "      <td>0.432882</td>\n",
       "      <td>0.082375</td>\n",
       "      <td>0.482751</td>\n",
       "      <td>0.364299</td>\n",
       "      <td>0.493014</td>\n",
       "      <td>0.512900</td>\n",
       "    </tr>\n",
       "    <tr>\n",
       "      <th>7</th>\n",
       "      <td>10</td>\n",
       "      <td>24</td>\n",
       "      <td>28</td>\n",
       "      <td>1.612306</td>\n",
       "      <td>0.699854</td>\n",
       "      <td>2.096982</td>\n",
       "      <td>231</td>\n",
       "      <td>323</td>\n",
       "      <td>92</td>\n",
       "      <td>268.250000</td>\n",
       "      <td>...</td>\n",
       "      <td>0.468933</td>\n",
       "      <td>0.297987</td>\n",
       "      <td>0.631161</td>\n",
       "      <td>0.333174</td>\n",
       "      <td>0.497136</td>\n",
       "      <td>0.093183</td>\n",
       "      <td>0.516428</td>\n",
       "      <td>0.420918</td>\n",
       "      <td>0.572254</td>\n",
       "      <td>0.614439</td>\n",
       "    </tr>\n",
       "    <tr>\n",
       "      <th>8</th>\n",
       "      <td>11</td>\n",
       "      <td>79</td>\n",
       "      <td>84</td>\n",
       "      <td>2.666004</td>\n",
       "      <td>0.423247</td>\n",
       "      <td>2.028084</td>\n",
       "      <td>259</td>\n",
       "      <td>371</td>\n",
       "      <td>112</td>\n",
       "      <td>299.025316</td>\n",
       "      <td>...</td>\n",
       "      <td>0.374542</td>\n",
       "      <td>0.151296</td>\n",
       "      <td>0.320261</td>\n",
       "      <td>0.168965</td>\n",
       "      <td>0.233896</td>\n",
       "      <td>0.035553</td>\n",
       "      <td>0.230139</td>\n",
       "      <td>0.207289</td>\n",
       "      <td>0.257290</td>\n",
       "      <td>0.277129</td>\n",
       "    </tr>\n",
       "    <tr>\n",
       "      <th>9</th>\n",
       "      <td>12</td>\n",
       "      <td>22</td>\n",
       "      <td>26</td>\n",
       "      <td>1.563713</td>\n",
       "      <td>0.721602</td>\n",
       "      <td>2.108058</td>\n",
       "      <td>244</td>\n",
       "      <td>277</td>\n",
       "      <td>33</td>\n",
       "      <td>256.772727</td>\n",
       "      <td>...</td>\n",
       "      <td>0.168060</td>\n",
       "      <td>0.366883</td>\n",
       "      <td>0.518374</td>\n",
       "      <td>0.151491</td>\n",
       "      <td>0.451065</td>\n",
       "      <td>0.038574</td>\n",
       "      <td>0.450074</td>\n",
       "      <td>0.427136</td>\n",
       "      <td>0.476190</td>\n",
       "      <td>0.500840</td>\n",
       "    </tr>\n",
       "    <tr>\n",
       "      <th>10</th>\n",
       "      <td>13</td>\n",
       "      <td>127</td>\n",
       "      <td>78</td>\n",
       "      <td>1.952485</td>\n",
       "      <td>0.577919</td>\n",
       "      <td>1.798734</td>\n",
       "      <td>243</td>\n",
       "      <td>285</td>\n",
       "      <td>42</td>\n",
       "      <td>262.858268</td>\n",
       "      <td>...</td>\n",
       "      <td>0.503143</td>\n",
       "      <td>0.222781</td>\n",
       "      <td>0.395934</td>\n",
       "      <td>0.173154</td>\n",
       "      <td>0.319801</td>\n",
       "      <td>0.036392</td>\n",
       "      <td>0.315284</td>\n",
       "      <td>0.292910</td>\n",
       "      <td>0.344583</td>\n",
       "      <td>0.371737</td>\n",
       "    </tr>\n",
       "    <tr>\n",
       "      <th>11</th>\n",
       "      <td>14</td>\n",
       "      <td>27</td>\n",
       "      <td>56</td>\n",
       "      <td>3.040193</td>\n",
       "      <td>0.371154</td>\n",
       "      <td>2.442661</td>\n",
       "      <td>255</td>\n",
       "      <td>309</td>\n",
       "      <td>54</td>\n",
       "      <td>287.703704</td>\n",
       "      <td>...</td>\n",
       "      <td>0.000000</td>\n",
       "      <td>0.338265</td>\n",
       "      <td>0.541429</td>\n",
       "      <td>0.203164</td>\n",
       "      <td>0.449845</td>\n",
       "      <td>0.043860</td>\n",
       "      <td>0.448276</td>\n",
       "      <td>0.423707</td>\n",
       "      <td>0.464917</td>\n",
       "      <td>0.499079</td>\n",
       "    </tr>\n",
       "    <tr>\n",
       "      <th>12</th>\n",
       "      <td>15</td>\n",
       "      <td>113</td>\n",
       "      <td>72</td>\n",
       "      <td>1.910682</td>\n",
       "      <td>0.590564</td>\n",
       "      <td>1.809311</td>\n",
       "      <td>214</td>\n",
       "      <td>261</td>\n",
       "      <td>47</td>\n",
       "      <td>235.646018</td>\n",
       "      <td>...</td>\n",
       "      <td>0.195190</td>\n",
       "      <td>0.381914</td>\n",
       "      <td>0.617347</td>\n",
       "      <td>0.235433</td>\n",
       "      <td>0.524646</td>\n",
       "      <td>0.048921</td>\n",
       "      <td>0.527368</td>\n",
       "      <td>0.490018</td>\n",
       "      <td>0.558923</td>\n",
       "      <td>0.588435</td>\n",
       "    </tr>\n",
       "    <tr>\n",
       "      <th>13</th>\n",
       "      <td>16</td>\n",
       "      <td>35</td>\n",
       "      <td>42</td>\n",
       "      <td>2.002674</td>\n",
       "      <td>0.563436</td>\n",
       "      <td>2.102545</td>\n",
       "      <td>186</td>\n",
       "      <td>236</td>\n",
       "      <td>50</td>\n",
       "      <td>212.685714</td>\n",
       "      <td>...</td>\n",
       "      <td>0.035095</td>\n",
       "      <td>0.464853</td>\n",
       "      <td>0.654028</td>\n",
       "      <td>0.189176</td>\n",
       "      <td>0.554497</td>\n",
       "      <td>0.056384</td>\n",
       "      <td>0.535714</td>\n",
       "      <td>0.505226</td>\n",
       "      <td>0.600451</td>\n",
       "      <td>0.641026</td>\n",
       "    </tr>\n",
       "    <tr>\n",
       "      <th>14</th>\n",
       "      <td>17</td>\n",
       "      <td>185</td>\n",
       "      <td>62</td>\n",
       "      <td>1.285881</td>\n",
       "      <td>0.877514</td>\n",
       "      <td>1.581168</td>\n",
       "      <td>212</td>\n",
       "      <td>303</td>\n",
       "      <td>91</td>\n",
       "      <td>241.605405</td>\n",
       "      <td>...</td>\n",
       "      <td>1.108490</td>\n",
       "      <td>0.418212</td>\n",
       "      <td>0.680961</td>\n",
       "      <td>0.262748</td>\n",
       "      <td>0.550199</td>\n",
       "      <td>0.057235</td>\n",
       "      <td>0.555556</td>\n",
       "      <td>0.503117</td>\n",
       "      <td>0.600000</td>\n",
       "      <td>0.620853</td>\n",
       "    </tr>\n",
       "  </tbody>\n",
       "</table>\n",
       "<p>15 rows × 60 columns</p>\n",
       "</div>"
      ],
      "text/plain": [
       "    cat  area  perimeter  compact_circle  compact_square        fd  \\\n",
       "0     3    17         24        1.642033        0.687184  2.243381   \n",
       "1     4   254        106        1.876221        0.601410  1.684361   \n",
       "2     5  1178        244        2.005452        0.562656  1.554723   \n",
       "3     6    45         58        2.439028        0.462635  2.133322   \n",
       "4     7    27         56        3.040193        0.371154  2.442661   \n",
       "5     8    26         26        1.438407        0.784465  1.999976   \n",
       "6     9    24         30        1.727471        0.653197  2.140400   \n",
       "7    10    24         28        1.612306        0.699854  2.096982   \n",
       "8    11    79         84        2.666004        0.423247  2.028084   \n",
       "9    12    22         26        1.563713        0.721602  2.108058   \n",
       "10   13   127         78        1.952485        0.577919  1.798734   \n",
       "11   14    27         56        3.040193        0.371154  2.442661   \n",
       "12   15   113         72        1.910682        0.590564  1.809311   \n",
       "13   16    35         42        2.002674        0.563436  2.102545   \n",
       "14   17   185         62        1.285881        0.877514  1.581168   \n",
       "\n",
       "    opt_blue_min  opt_blue_max  opt_blue_range  opt_blue_mean      ...       \\\n",
       "0            336           455             119     373.294118      ...        \n",
       "1            215           253              38     231.696850      ...        \n",
       "2            204           308             104     233.759762      ...        \n",
       "3            267           409             142     344.511111      ...        \n",
       "4            273           326              53     310.703704      ...        \n",
       "5            217           237              20     227.461538      ...        \n",
       "6            213           291              78     236.708333      ...        \n",
       "7            231           323              92     268.250000      ...        \n",
       "8            259           371             112     299.025316      ...        \n",
       "9            244           277              33     256.772727      ...        \n",
       "10           243           285              42     262.858268      ...        \n",
       "11           255           309              54     287.703704      ...        \n",
       "12           214           261              47     235.646018      ...        \n",
       "13           186           236              50     212.685714      ...        \n",
       "14           212           303              91     241.605405      ...        \n",
       "\n",
       "    ndsm_perc_90  ndvi_min  ndvi_max  ndvi_range  ndvi_mean  ndvi_stddev  \\\n",
       "0       0.582214  0.109731  0.343038    0.233307   0.226307     0.066025   \n",
       "1       1.552640  0.468978  0.598448    0.129470   0.543664     0.024536   \n",
       "2       1.446750  0.338723  0.686912    0.348189   0.587143     0.041594   \n",
       "3       0.067780  0.103592  0.327721    0.224129   0.217023     0.057400   \n",
       "4       0.497009  0.293513  0.367772    0.074259   0.315184     0.017975   \n",
       "5       0.932404  0.512367  0.603053    0.090686   0.561177     0.022434   \n",
       "6       0.029572  0.267606  0.525520    0.257914   0.432882     0.082375   \n",
       "7       0.468933  0.297987  0.631161    0.333174   0.497136     0.093183   \n",
       "8       0.374542  0.151296  0.320261    0.168965   0.233896     0.035553   \n",
       "9       0.168060  0.366883  0.518374    0.151491   0.451065     0.038574   \n",
       "10      0.503143  0.222781  0.395934    0.173154   0.319801     0.036392   \n",
       "11      0.000000  0.338265  0.541429    0.203164   0.449845     0.043860   \n",
       "12      0.195190  0.381914  0.617347    0.235433   0.524646     0.048921   \n",
       "13      0.035095  0.464853  0.654028    0.189176   0.554497     0.056384   \n",
       "14      1.108490  0.418212  0.680961    0.262748   0.550199     0.057235   \n",
       "\n",
       "    ndvi_median  ndvi_first_quart  ndvi_third_quart  ndvi_perc_90  \n",
       "0      0.219157          0.187606          0.276753      0.303188  \n",
       "1      0.545804          0.528271          0.561939      0.573386  \n",
       "2      0.593786          0.569787          0.612663      0.626623  \n",
       "3      0.225882          0.192329          0.254878      0.283747  \n",
       "4      0.311927          0.301353          0.323770      0.331596  \n",
       "5      0.567187          0.549213          0.574702      0.588177  \n",
       "6      0.482751          0.364299          0.493014      0.512900  \n",
       "7      0.516428          0.420918          0.572254      0.614439  \n",
       "8      0.230139          0.207289          0.257290      0.277129  \n",
       "9      0.450074          0.427136          0.476190      0.500840  \n",
       "10     0.315284          0.292910          0.344583      0.371737  \n",
       "11     0.448276          0.423707          0.464917      0.499079  \n",
       "12     0.527368          0.490018          0.558923      0.588435  \n",
       "13     0.535714          0.505226          0.600451      0.641026  \n",
       "14     0.555556          0.503117          0.600000      0.620853  \n",
       "\n",
       "[15 rows x 60 columns]"
      ]
     },
     "execution_count": 161,
     "metadata": {},
     "output_type": "execute_result"
    }
   ],
   "source": [
    "# Connect to an existing database\n",
    "db=pg.connect(database=dbname, user=dbuser, password=dbpassword, host=host)\n",
    "# Number of line to show (please limit to 100 for saving computing time)\n",
    "nbrow=15\n",
    "# Query\n",
    "query=\"SELECT * FROM \"+schema+\".\"+object_stats_table+\" \\\n",
    "ORDER BY cat \\\n",
    "ASC LIMIT \"+str(nbrow)\n",
    "# Execute query through panda\n",
    "df=pd.read_sql(query, db)\n",
    "# Show dataframe\n",
    "df.head(15)"
   ]
  },
  {
   "cell_type": "markdown",
   "metadata": {},
   "source": [
    "<center> <font size=4> <h2>Select samples in objects statistics</h2> </font> </center>  "
   ]
  },
  {
   "cell_type": "markdown",
   "metadata": {},
   "source": [
    "### Import sample points in a vector layer"
   ]
  },
  {
   "cell_type": "raw",
   "metadata": {
    "collapsed": true
   },
   "source": [
    "## Set the path to the .shp file with validation samples\n",
    "pathtovalidationsampleshp=\"/media/tais/data/MAUPP/WorldView3_Ouagadougou/Training_validation/Densification/Densified_samples_SPIE2017.shp\"\n",
    "\n",
    "## Set the path to the .shp file with training samples\n",
    "pathtotrainingsampleshp=\"/media/tais/data/MAUPP/Articles/SPIE_RemoteSensing2017/Grippa/Data/samples_training.shp\""
   ]
  },
  {
   "cell_type": "code",
   "execution_count": 77,
   "metadata": {
    "collapsed": true
   },
   "outputs": [],
   "source": [
    "## Set the path to the .shp file with training/test samples\n",
    "pathtosampleshp=\"/media/tais/data/MAUPP/WorldView3_Ouagadougou/Training_validation/Final_sample_ouaga/Ouagadougou_fullextend_sample.shp\""
   ]
  },
  {
   "cell_type": "raw",
   "metadata": {},
   "source": [
    "## Set computational region to match the default region\n",
    "grass.run_command('g.region', overwrite=True, raster=\"segments\")\n",
    "\n",
    "## Import validation sample data (points)\n",
    "grass.run_command('v.in.ogr', overwrite=True, input=pathtovalidationsampleshp, output='samples_validation')\n",
    "    \n",
    "## Import training sample data (points)\n",
    "grass.run_command('v.in.ogr', overwrite=True, input=pathtotrainingsampleshp, output='samples_training')\n",
    "    \n",
    "## Print\n",
    "print \"Point sample imported on \"+time.ctime()"
   ]
  },
  {
   "cell_type": "code",
   "execution_count": 78,
   "metadata": {},
   "outputs": [
    {
     "name": "stdout",
     "output_type": "stream",
     "text": [
      "Point sample imported on Tue Oct 17 11:07:12 2017\n"
     ]
    }
   ],
   "source": [
    "## Set computational region to match the default region\n",
    "grass.run_command('g.region', overwrite=True, raster=\"segments\")\n",
    "\n",
    "## Import training/test sample data (points)\n",
    "grass.run_command('v.in.ogr', overwrite=True, input=pathtosampleshp, output='samples')\n",
    "    \n",
    "## Print\n",
    "print \"Point sample imported on \"+time.ctime()"
   ]
  },
  {
   "cell_type": "markdown",
   "metadata": {},
   "source": [
    "### Identify which segment correspond to each point (for both validation and training) "
   ]
  },
  {
   "cell_type": "markdown",
   "metadata": {},
   "source": [
    "In our processing chain, the training and test sets are formed of points. However, objects are needed to train the supervised classification in OBIA context. In this section, each point in the training set is used to identify the underlying object in the segmentation layer, and save its unique ID. We use the ['v.db.addcolumn' command](https://grass.osgeo.org/grass72/manuals/v.db.addcolumn.html), ['v.what.rast' command](https://grass.osgeo.org/grass72/manuals/v.what.rast.html) for this purpose."
   ]
  },
  {
   "cell_type": "code",
   "execution_count": 79,
   "metadata": {},
   "outputs": [
    {
     "data": {
      "text/plain": [
       "'Segment iD added in attribute table in 3.5 seconds'"
      ]
     },
     "execution_count": 79,
     "metadata": {},
     "output_type": "execute_result"
    }
   ],
   "source": [
    "## Saving current time for processing time management\n",
    "begintime_whatrast=time.time()\n",
    "## Add a column \"seg_id\" in training_set layer\n",
    "grass.run_command('v.db.addcolumn', map=\"samples\", columns=\"seg_id int\")\n",
    "## Set computational region to the default region\n",
    "grass.run_command('g.region', raster=\"segments\")\n",
    "## For each training point, add the value of the underlying segmentation raster pixel in column \"seg_id\"\n",
    "grass.run_command('v.what.rast', map=\"samples\", raster=\"segments\", column=\"seg_id\")\n",
    "## Compute processing time and print it\n",
    "print_processing_time(begintime_whatrast, \"Segment iD added in attribute table in \")"
   ]
  },
  {
   "cell_type": "code",
   "execution_count": 80,
   "metadata": {},
   "outputs": [
    {
     "name": "stdout",
     "output_type": "stream",
     "text": [
      "Attribute table exported on '/tmp/tempfile_samples.csv' file\n"
     ]
    }
   ],
   "source": [
    "# Create temporary file for work\n",
    "tmpfile_sample=os.path.join(tempfile.gettempdir(),\"tempfile_samples.csv\")\n",
    "# Export the attribute of the 'samples' layer\n",
    "grass.run_command('db.out.ogr', overwrite=True, input='samples', output=tmpfile_sample, format='CSV')\n",
    "# Print what happened\n",
    "print \"Attribute table exported on '\"+tmpfile_sample+\"' file\""
   ]
  },
  {
   "cell_type": "markdown",
   "metadata": {},
   "source": [
    "## Import validation samples in a new postgresql table"
   ]
  },
  {
   "cell_type": "code",
   "execution_count": 81,
   "metadata": {
    "collapsed": true
   },
   "outputs": [],
   "source": [
    "# Connect to an existing database\n",
    "db=pg.connect(database=dbname, user=dbuser, password=dbpassword, host=host)\n",
    "# Open a cursor to perform database operations\n",
    "cur=db.cursor()"
   ]
  },
  {
   "cell_type": "markdown",
   "metadata": {},
   "source": [
    "**Create new table**"
   ]
  },
  {
   "cell_type": "code",
   "execution_count": 82,
   "metadata": {
    "collapsed": true
   },
   "outputs": [],
   "source": [
    "# Drop table if exists:\n",
    "cur.execute(\"DROP TABLE IF EXISTS \"+schema+\".\"+samples_labels)\n",
    "# Make the changes to the database persistent\n",
    "db.commit()"
   ]
  },
  {
   "cell_type": "code",
   "execution_count": 83,
   "metadata": {
    "collapsed": true
   },
   "outputs": [],
   "source": [
    "## Define which tmpfile to use (validation or training)\n",
    "tmpfile=tmpfile_sample"
   ]
  },
  {
   "cell_type": "code",
   "execution_count": 84,
   "metadata": {},
   "outputs": [
    {
     "name": "stdout",
     "output_type": "stream",
     "text": [
      "Create a new table 'classif.samples_labels' with header corresponding to the first row of file '/tmp/tempfile_samples.csv'\n",
      "CREATE TABLE classif.samples_labels (cat_point integer PRIMARY KEY, id text, code text, code_roof text, class text, osm text, class_num text, roof_num text, seg_id integer)\n"
     ]
    }
   ],
   "source": [
    "import csv\n",
    "# Create a empty list for saving of column name\n",
    "column_name=[]\n",
    "# Create a reader for the first csv file in the stack of csv to be imported\n",
    "readercsvSubset=open(tmpfile)\n",
    "readercsv=csv.reader(readercsvSubset, delimiter=',') \n",
    "headerline=readercsv.next()\n",
    "print \"Create a new table '\"+schema+\".\"+samples_labels+\"' with header corresponding to the first row of file '\"+tmpfile+\"'\"\n",
    "\n",
    "## Build a query for creation of a new table with auto-incremental key-value (thus avoiding potential duplicates of 'cat' value)\n",
    "# All column data-types are set to 'text' in order to be able to import some 'nan', 'inf' or 'null' values present in statistics files\n",
    "# This table will allow to import all individual csv files in a single Postgres table, which will be cleaned after\n",
    "query=\"CREATE TABLE \"+schema+\".\"+samples_labels+\" (\"\n",
    "query+=str(headerline[0])+\"_point\"+\" integer PRIMARY KEY\"\n",
    "for column in headerline[1:]:\n",
    "    if column in ('Id','OSM','Class_num','Roof_num','seg_id'):\n",
    "        query+=\",\"\n",
    "        query+=\" \"+str(column)+\" integer\"\n",
    "    else:\n",
    "        query+=\",\"\n",
    "        query+=\" \"+str(column)+\" text\"\n",
    "query+=\")\"\n",
    "\n",
    "# Close the current input file\n",
    "readercsvSubset.close()\n",
    "    \n",
    "# Print the query\n",
    "print query\n",
    "# Execute the CREATE TABLE query \n",
    "cur.execute(query)\n",
    "# Make the changes to the database persistent\n",
    "db.commit()"
   ]
  },
  {
   "cell_type": "markdown",
   "metadata": {},
   "source": [
    "**Copy from .csv in postgresql table**"
   ]
  },
  {
   "cell_type": "code",
   "execution_count": 85,
   "metadata": {},
   "outputs": [
    {
     "name": "stdout",
     "output_type": "stream",
     "text": [
      "Start copy csv file in the postgresql table\n",
      "Process achieved in 0.0 seconds\n"
     ]
    }
   ],
   "source": [
    "## Saving current time for processing time management\n",
    "begintime_copy=time.time()\n",
    "\n",
    "## Print\n",
    "print \"Start copy csv file in the postgresql table\"\n",
    "\n",
    "# Create query for copy data from csv, avoiding the header\n",
    "query=\"COPY \"+schema+\".\"+samples_labels+\" \\\n",
    "FROM '\"+str(tmpfile)+\"' HEADER DELIMITER ',' CSV;\" \n",
    "# Execute the COPY FROM CSV query \n",
    "cur.execute(query)\n",
    "# Make the changes to the database persistent\n",
    "db.commit()    \n",
    "\n",
    "## Compute processing time and print it\n",
    "print print_processing_time(begintime_copy, \"Process achieved in \")"
   ]
  },
  {
   "cell_type": "code",
   "execution_count": 86,
   "metadata": {
    "scrolled": true
   },
   "outputs": [
    {
     "data": {
      "text/html": [
       "<div>\n",
       "<table border=\"1\" class=\"dataframe\">\n",
       "  <thead>\n",
       "    <tr style=\"text-align: right;\">\n",
       "      <th></th>\n",
       "      <th>class</th>\n",
       "      <th>class_num</th>\n",
       "      <th>count</th>\n",
       "    </tr>\n",
       "  </thead>\n",
       "  <tbody>\n",
       "    <tr>\n",
       "      <th>0</th>\n",
       "      <td>Buildings</td>\n",
       "      <td>11</td>\n",
       "      <td>429</td>\n",
       "    </tr>\n",
       "    <tr>\n",
       "      <th>1</th>\n",
       "      <td>Buildings under construction</td>\n",
       "      <td>12</td>\n",
       "      <td>123</td>\n",
       "    </tr>\n",
       "    <tr>\n",
       "      <th>2</th>\n",
       "      <td>Swimming pools</td>\n",
       "      <td>13</td>\n",
       "      <td>183</td>\n",
       "    </tr>\n",
       "    <tr>\n",
       "      <th>3</th>\n",
       "      <td>Asphalt surfaces</td>\n",
       "      <td>14</td>\n",
       "      <td>242</td>\n",
       "    </tr>\n",
       "    <tr>\n",
       "      <th>4</th>\n",
       "      <td>Brown/red bare soil</td>\n",
       "      <td>21</td>\n",
       "      <td>216</td>\n",
       "    </tr>\n",
       "    <tr>\n",
       "      <th>5</th>\n",
       "      <td>White/grey bare soil</td>\n",
       "      <td>22</td>\n",
       "      <td>200</td>\n",
       "    </tr>\n",
       "    <tr>\n",
       "      <th>6</th>\n",
       "      <td>Trees</td>\n",
       "      <td>31</td>\n",
       "      <td>217</td>\n",
       "    </tr>\n",
       "    <tr>\n",
       "      <th>7</th>\n",
       "      <td>Mixed bare soil/vegetation</td>\n",
       "      <td>32</td>\n",
       "      <td>225</td>\n",
       "    </tr>\n",
       "    <tr>\n",
       "      <th>8</th>\n",
       "      <td>Dry vegetation</td>\n",
       "      <td>33</td>\n",
       "      <td>191</td>\n",
       "    </tr>\n",
       "    <tr>\n",
       "      <th>9</th>\n",
       "      <td>Other vegetation</td>\n",
       "      <td>34</td>\n",
       "      <td>322</td>\n",
       "    </tr>\n",
       "    <tr>\n",
       "      <th>10</th>\n",
       "      <td>Inland waters</td>\n",
       "      <td>41</td>\n",
       "      <td>223</td>\n",
       "    </tr>\n",
       "    <tr>\n",
       "      <th>11</th>\n",
       "      <td>Shadows</td>\n",
       "      <td>51</td>\n",
       "      <td>191</td>\n",
       "    </tr>\n",
       "  </tbody>\n",
       "</table>\n",
       "</div>"
      ],
      "text/plain": [
       "                           class class_num  count\n",
       "0                      Buildings        11    429\n",
       "1   Buildings under construction        12    123\n",
       "2                 Swimming pools        13    183\n",
       "3               Asphalt surfaces        14    242\n",
       "4            Brown/red bare soil        21    216\n",
       "5           White/grey bare soil        22    200\n",
       "6                          Trees        31    217\n",
       "7     Mixed bare soil/vegetation        32    225\n",
       "8                 Dry vegetation        33    191\n",
       "9               Other vegetation        34    322\n",
       "10                 Inland waters        41    223\n",
       "11                       Shadows        51    191"
      ]
     },
     "execution_count": 86,
     "metadata": {},
     "output_type": "execute_result"
    }
   ],
   "source": [
    "# Query to find the number of row in the sample table\n",
    "query=\"SELECT class, max(class_num) as class_num, count(*) FROM \"+schema+\".\"+samples_labels+\" \\\n",
    "GROUP BY class \\\n",
    "ORDER BY max(class_num) ASC\"\n",
    "# Execute query through panda\n",
    "df=pd.read_sql(query, db)\n",
    "# Show dataframe\n",
    "df.head(5000)"
   ]
  },
  {
   "cell_type": "code",
   "execution_count": 87,
   "metadata": {},
   "outputs": [
    {
     "name": "stdout",
     "output_type": "stream",
     "text": [
      "Original sample counts 2762 points.\n"
     ]
    }
   ],
   "source": [
    "# Print the total number in sample \n",
    "print \"Original sample counts \"+str(sum(df['count']))+\" points.\""
   ]
  },
  {
   "cell_type": "markdown",
   "metadata": {},
   "source": [
    "### Extract sample statistics in a new table"
   ]
  },
  {
   "cell_type": "markdown",
   "metadata": {},
   "source": [
    "**Create a new table in postgresql with statistics of segments which are unique in the samples**"
   ]
  },
  {
   "cell_type": "markdown",
   "metadata": {},
   "source": [
    "When some objects are undersegmented, it is possible that several sample points fall in the same object. Those objects, identified for more than one sample point are then not used anymore in the process. "
   ]
  },
  {
   "cell_type": "code",
   "execution_count": 199,
   "metadata": {
    "collapsed": true
   },
   "outputs": [],
   "source": [
    "# Connect to an existing database\n",
    "db=pg.connect(database=dbname, user=dbuser, password=dbpassword, host=host)\n",
    "# Open a cursor to perform database operations\n",
    "cur=db.cursor()"
   ]
  },
  {
   "cell_type": "code",
   "execution_count": 200,
   "metadata": {
    "collapsed": true
   },
   "outputs": [],
   "source": [
    "# Build a query to drop view if exists\n",
    "query=\"DROP TABLE IF EXISTS \"+schema+\".\"+sample_stats\n",
    "# Execute the query \n",
    "cur.execute(query)\n",
    "# Make the changes to the database persistent\n",
    "db.commit()"
   ]
  },
  {
   "cell_type": "code",
   "execution_count": 201,
   "metadata": {},
   "outputs": [
    {
     "name": "stdout",
     "output_type": "stream",
     "text": [
      "CREATE TABLE classif.samples_stat AS SELECT * FROM     (SELECT * FROM classif.samples_labels      WHERE class_num NOT IN ('12')) AS labels LEFT JOIN classif.objects_statistics AS objstats ON labels.seg_id = objstats.cat WHERE labels.seg_id IN (SELECT seg_id FROM classif.samples_labels GROUP BY seg_id HAVING count(*) <= 1.0)\n"
     ]
    }
   ],
   "source": [
    "# Query to find 'seg_id' wich are unique in the sample\n",
    "querysubset1=\"SELECT seg_id FROM \"+schema+\".\"+samples_labels+\" \\\n",
    "GROUP BY seg_id HAVING count(*) <= 1.0\"\n",
    "\n",
    "# Query to select * from samples where seg_id is unique. Class 12 is excluded.\n",
    "query=\"CREATE TABLE \"+schema+\".\"+sample_stats+\" AS \\\n",
    "SELECT * FROM \\\n",
    "    (SELECT * FROM \"+schema+\".\"+samples_labels+\" \\\n",
    "     WHERE class_num NOT IN ('12')) AS labels \\\n",
    "LEFT JOIN \"+schema+\".\"+object_stats_table+\" AS objstats \\\n",
    "ON labels.seg_id = objstats.cat \\\n",
    "WHERE labels.seg_id IN (\"+querysubset1+\")\"\n",
    "\n",
    "# Print the query \n",
    "print query\n",
    "# Execute the query \n",
    "cur.execute(query)\n",
    "# Make the changes to the database persistent\n",
    "db.commit()"
   ]
  },
  {
   "cell_type": "code",
   "execution_count": 202,
   "metadata": {
    "collapsed": true
   },
   "outputs": [],
   "source": [
    "##### Create primary key on 'seg_id'\n",
    "# Query\n",
    "query=\"ALTER TABLE \"+schema+\".\"+sample_stats+\" DROP CONSTRAINT IF EXISTS \"+sample_stats+\"_seg_id_pk\"\n",
    "# Execute the CREATE TABLE query \n",
    "cur.execute(query)\n",
    "# Query\n",
    "query=\"ALTER TABLE \"+schema+\".\"+sample_stats+\" ADD CONSTRAINT \"+sample_stats+\"_seg_id_pk PRIMARY KEY(seg_id)\"\n",
    "# Execute the CREATE TABLE query \n",
    "cur.execute(query)\n",
    "# Make the changes to the database persistent\n",
    "db.commit()"
   ]
  },
  {
   "cell_type": "code",
   "execution_count": 203,
   "metadata": {
    "scrolled": true
   },
   "outputs": [
    {
     "data": {
      "text/html": [
       "<div>\n",
       "<table border=\"1\" class=\"dataframe\">\n",
       "  <thead>\n",
       "    <tr style=\"text-align: right;\">\n",
       "      <th></th>\n",
       "      <th>class</th>\n",
       "      <th>class_num</th>\n",
       "      <th>count</th>\n",
       "    </tr>\n",
       "  </thead>\n",
       "  <tbody>\n",
       "    <tr>\n",
       "      <th>0</th>\n",
       "      <td>Buildings</td>\n",
       "      <td>11</td>\n",
       "      <td>429</td>\n",
       "    </tr>\n",
       "    <tr>\n",
       "      <th>1</th>\n",
       "      <td>Swimming pools</td>\n",
       "      <td>13</td>\n",
       "      <td>183</td>\n",
       "    </tr>\n",
       "    <tr>\n",
       "      <th>2</th>\n",
       "      <td>Asphalt surfaces</td>\n",
       "      <td>14</td>\n",
       "      <td>171</td>\n",
       "    </tr>\n",
       "    <tr>\n",
       "      <th>3</th>\n",
       "      <td>Brown/red bare soil</td>\n",
       "      <td>21</td>\n",
       "      <td>210</td>\n",
       "    </tr>\n",
       "    <tr>\n",
       "      <th>4</th>\n",
       "      <td>White/grey bare soil</td>\n",
       "      <td>22</td>\n",
       "      <td>192</td>\n",
       "    </tr>\n",
       "    <tr>\n",
       "      <th>5</th>\n",
       "      <td>Trees</td>\n",
       "      <td>31</td>\n",
       "      <td>216</td>\n",
       "    </tr>\n",
       "    <tr>\n",
       "      <th>6</th>\n",
       "      <td>Mixed bare soil/vegetation</td>\n",
       "      <td>32</td>\n",
       "      <td>224</td>\n",
       "    </tr>\n",
       "    <tr>\n",
       "      <th>7</th>\n",
       "      <td>Dry vegetation</td>\n",
       "      <td>33</td>\n",
       "      <td>183</td>\n",
       "    </tr>\n",
       "    <tr>\n",
       "      <th>8</th>\n",
       "      <td>Other vegetation</td>\n",
       "      <td>34</td>\n",
       "      <td>321</td>\n",
       "    </tr>\n",
       "    <tr>\n",
       "      <th>9</th>\n",
       "      <td>Inland waters</td>\n",
       "      <td>41</td>\n",
       "      <td>197</td>\n",
       "    </tr>\n",
       "    <tr>\n",
       "      <th>10</th>\n",
       "      <td>Shadows</td>\n",
       "      <td>51</td>\n",
       "      <td>191</td>\n",
       "    </tr>\n",
       "  </tbody>\n",
       "</table>\n",
       "</div>"
      ],
      "text/plain": [
       "                         class class_num  count\n",
       "0                    Buildings        11    429\n",
       "1               Swimming pools        13    183\n",
       "2             Asphalt surfaces        14    171\n",
       "3          Brown/red bare soil        21    210\n",
       "4         White/grey bare soil        22    192\n",
       "5                        Trees        31    216\n",
       "6   Mixed bare soil/vegetation        32    224\n",
       "7               Dry vegetation        33    183\n",
       "8             Other vegetation        34    321\n",
       "9                Inland waters        41    197\n",
       "10                     Shadows        51    191"
      ]
     },
     "execution_count": 203,
     "metadata": {},
     "output_type": "execute_result"
    }
   ],
   "source": [
    "# Query to find the number of row in the sample table\n",
    "query=\"SELECT class, min(class_num) as class_num, count(*) FROM \"+schema+\".\"+sample_stats+\" \\\n",
    "GROUP BY class \\\n",
    "ORDER BY max(class_num) ASC\"\n",
    "# Execute query through panda\n",
    "df=pd.read_sql(query, db)\n",
    "# Show dataframe\n",
    "df.head(5000)"
   ]
  },
  {
   "cell_type": "code",
   "execution_count": 204,
   "metadata": {},
   "outputs": [
    {
     "name": "stdout",
     "output_type": "stream",
     "text": [
      "Filtred sample counts 2517 points.\n"
     ]
    }
   ],
   "source": [
    "# Print the total number in sample \n",
    "print \"Filtred sample counts \"+str(sum(df['count']))+\" points.\""
   ]
  },
  {
   "cell_type": "code",
   "execution_count": 205,
   "metadata": {
    "collapsed": true
   },
   "outputs": [],
   "source": [
    "# Vacuum the current Postgresql database\n",
    "vacuum(db)"
   ]
  },
  {
   "cell_type": "code",
   "execution_count": 206,
   "metadata": {
    "collapsed": true
   },
   "outputs": [],
   "source": [
    "# Close cursor and communication with the database\n",
    "cur.close()\n",
    "db.close()"
   ]
  },
  {
   "cell_type": "markdown",
   "metadata": {},
   "source": [
    "<center> <font size=4> <h2>Identify outliers in samples</h2> </font> </center>  "
   ]
  },
  {
   "cell_type": "code",
   "execution_count": 207,
   "metadata": {
    "collapsed": true
   },
   "outputs": [],
   "source": [
    "# Connect to an existing database\n",
    "db=pg.connect(database=dbname, user=dbuser, password=dbpassword, host=host)\n",
    "# Open a cursor to perform database operations\n",
    "cur=db.cursor()"
   ]
  },
  {
   "cell_type": "markdown",
   "metadata": {},
   "source": [
    "**Get a list with the names of the columns with statistics**"
   ]
  },
  {
   "cell_type": "code",
   "execution_count": 208,
   "metadata": {
    "collapsed": true
   },
   "outputs": [],
   "source": [
    "cur.execute(\"Select * FROM \"+schema+\".\"+object_stats_table+\" LIMIT 10\")\n",
    "statcolumns = [desc[0] for desc in cur.description]"
   ]
  },
  {
   "cell_type": "code",
   "execution_count": 209,
   "metadata": {
    "scrolled": true
   },
   "outputs": [
    {
     "data": {
      "text/plain": [
       "['cat',\n",
       " 'area',\n",
       " 'perimeter',\n",
       " 'compact_circle',\n",
       " 'compact_square',\n",
       " 'fd',\n",
       " 'opt_blue_min',\n",
       " 'opt_blue_max',\n",
       " 'opt_blue_range',\n",
       " 'opt_blue_mean',\n",
       " 'opt_blue_stddev',\n",
       " 'opt_blue_median',\n",
       " 'opt_blue_first_quart',\n",
       " 'opt_blue_third_quart',\n",
       " 'opt_blue_perc_90',\n",
       " 'opt_green_min',\n",
       " 'opt_green_max',\n",
       " 'opt_green_range',\n",
       " 'opt_green_mean',\n",
       " 'opt_green_stddev',\n",
       " 'opt_green_median',\n",
       " 'opt_green_first_quart',\n",
       " 'opt_green_third_quart',\n",
       " 'opt_green_perc_90',\n",
       " 'opt_red_min',\n",
       " 'opt_red_max',\n",
       " 'opt_red_range',\n",
       " 'opt_red_mean',\n",
       " 'opt_red_stddev',\n",
       " 'opt_red_median',\n",
       " 'opt_red_first_quart',\n",
       " 'opt_red_third_quart',\n",
       " 'opt_red_perc_90',\n",
       " 'opt_nir_min',\n",
       " 'opt_nir_max',\n",
       " 'opt_nir_range',\n",
       " 'opt_nir_mean',\n",
       " 'opt_nir_stddev',\n",
       " 'opt_nir_median',\n",
       " 'opt_nir_first_quart',\n",
       " 'opt_nir_third_quart',\n",
       " 'opt_nir_perc_90',\n",
       " 'ndsm_min',\n",
       " 'ndsm_max',\n",
       " 'ndsm_range',\n",
       " 'ndsm_mean',\n",
       " 'ndsm_stddev',\n",
       " 'ndsm_median',\n",
       " 'ndsm_first_quart',\n",
       " 'ndsm_third_quart',\n",
       " 'ndsm_perc_90',\n",
       " 'ndvi_min',\n",
       " 'ndvi_max',\n",
       " 'ndvi_range',\n",
       " 'ndvi_mean',\n",
       " 'ndvi_stddev',\n",
       " 'ndvi_median',\n",
       " 'ndvi_first_quart',\n",
       " 'ndvi_third_quart',\n",
       " 'ndvi_perc_90']"
      ]
     },
     "execution_count": 209,
     "metadata": {},
     "output_type": "execute_result"
    }
   ],
   "source": [
    "statcolumns"
   ]
  },
  {
   "cell_type": "markdown",
   "metadata": {},
   "source": [
    "**Create a table with standardized statistics of samples (x - μ / σ)**"
   ]
  },
  {
   "cell_type": "markdown",
   "metadata": {},
   "source": [
    "Here, the objective is to compute the standardized statistics value for each object by taking into account the mean and the standard deviation of his class. By combining each standardized statistics together, is would be possible to highlight "
   ]
  },
  {
   "cell_type": "code",
   "execution_count": 210,
   "metadata": {
    "collapsed": true
   },
   "outputs": [],
   "source": [
    "# Build a query to drop view if exists\n",
    "query=\"DROP TABLE IF EXISTS \"+schema+\".\"+sample_zstats\n",
    "# Execute the query \n",
    "cur.execute(query)\n",
    "# Make the changes to the database persistent\n",
    "db.commit()"
   ]
  },
  {
   "cell_type": "code",
   "execution_count": 211,
   "metadata": {
    "collapsed": true
   },
   "outputs": [],
   "source": [
    "### Compute the standardized value, by taking into account by class mean and stddev. \n",
    "# Build the query to get standardized (x - μ / σ) values for each statistics\n",
    "querysubset1=\"SELECT class_num,  \"\n",
    "for column in statcolumns[1:]:\n",
    "    querysubset1+=\"avg(%s) as avg_%s, stddev(%s) as stddev_%s\" % (column,column,column,column)\n",
    "    if column in statcolumns[1:-1]:\n",
    "        querysubset1+=\" ,\"\n",
    "querysubset1+=\" FROM \"+schema+\".\"+sample_stats\n",
    "querysubset1+=\" GROUP BY class_num\"\n",
    "\n",
    "# Build the query to get standardized (x - μ / σ) values for each statistics\n",
    "query=\"CREATE TABLE \"+schema+\".\"+sample_zstats+\" AS \\\n",
    "SELECT cat_point, id, seg_id, class, a.class_num, \"\n",
    "for column in statcolumns[1:]:\n",
    "    query+=\"(%s - avg_%s) / stddev_%s as z_%s\" % (column,column,column,column) \n",
    "    if column in statcolumns[1:-1]:\n",
    "        query+=\" ,\"\n",
    "query+=\" FROM \"+schema+\".\"+sample_stats+\" AS a\"\n",
    "query+=\" LEFT JOIN (\"+querysubset1+\") AS b on a.class_num=b.class_num\"\n",
    "query+=\" ORDER BY class_num\"\n",
    "\n",
    "# Execute the query \n",
    "cur.execute(query)\n",
    "# Make the changes to the database persistent\n",
    "db.commit()"
   ]
  },
  {
   "cell_type": "markdown",
   "metadata": {},
   "source": [
    "**Compute a dissimilarity mesure and identify outliers in the sample**"
   ]
  },
  {
   "cell_type": "code",
   "execution_count": 212,
   "metadata": {
    "collapsed": true
   },
   "outputs": [],
   "source": [
    "### Drop column\n",
    "# Query\n",
    "query=\"ALTER TABLE \"+schema+\".\"+sample_zstats+\" DROP COLUMN IF EXISTS outlier_score\"\n",
    "# Execute the query \n",
    "cur.execute(query)\n",
    "# Make the changes to the database persistent\n",
    "db.commit()\n",
    "\n",
    "### Create column\n",
    "# Query\n",
    "query=\"ALTER TABLE \"+schema+\".\"+sample_zstats+\" ADD COLUMN outlier_score double precision \"\n",
    "# Execute the query \n",
    "cur.execute(query)\n",
    "# Make the changes to the database persistent\n",
    "db.commit()"
   ]
  },
  {
   "cell_type": "code",
   "execution_count": 213,
   "metadata": {
    "collapsed": true
   },
   "outputs": [],
   "source": [
    "### Compute a outlier score\n",
    "# Compute the number of statcolumns\n",
    "number_stats=len(statcolumns[1:])\n",
    "# Query\n",
    "query=\"UPDATE \"+schema+\".\"+sample_zstats+\" \\\n",
    "SET outlier_score = (\"\n",
    "for column in statcolumns[6:]:\n",
    "    query+=\"abs(z_%s) \" % (column) \n",
    "    if column in statcolumns[:-1]:\n",
    "        query+=\"+ \"\n",
    "query+=\")/\"+str(number_stats)\n",
    "\n",
    "# Execute the query \n",
    "cur.execute(query)\n",
    "# Make the changes to the database persistent\n",
    "db.commit()"
   ]
  },
  {
   "cell_type": "code",
   "execution_count": 214,
   "metadata": {
    "scrolled": true
   },
   "outputs": [
    {
     "data": {
      "text/html": [
       "<div>\n",
       "<table border=\"1\" class=\"dataframe\">\n",
       "  <thead>\n",
       "    <tr style=\"text-align: right;\">\n",
       "      <th></th>\n",
       "      <th>cat_point</th>\n",
       "      <th>id</th>\n",
       "      <th>seg_id</th>\n",
       "      <th>class</th>\n",
       "      <th>class_num</th>\n",
       "      <th>outlier_score</th>\n",
       "    </tr>\n",
       "  </thead>\n",
       "  <tbody>\n",
       "    <tr>\n",
       "      <th>0</th>\n",
       "      <td>182</td>\n",
       "      <td>842</td>\n",
       "      <td>11825256</td>\n",
       "      <td>Buildings</td>\n",
       "      <td>11</td>\n",
       "      <td>3.192824</td>\n",
       "    </tr>\n",
       "    <tr>\n",
       "      <th>1</th>\n",
       "      <td>2742</td>\n",
       "      <td>1447</td>\n",
       "      <td>5872928</td>\n",
       "      <td>Swimming pools</td>\n",
       "      <td>13</td>\n",
       "      <td>3.169005</td>\n",
       "    </tr>\n",
       "    <tr>\n",
       "      <th>2</th>\n",
       "      <td>1253</td>\n",
       "      <td>640</td>\n",
       "      <td>8391892</td>\n",
       "      <td>Mixed bare soil/vegetation</td>\n",
       "      <td>32</td>\n",
       "      <td>2.554713</td>\n",
       "    </tr>\n",
       "    <tr>\n",
       "      <th>3</th>\n",
       "      <td>469</td>\n",
       "      <td>1660</td>\n",
       "      <td>2867124</td>\n",
       "      <td>Buildings</td>\n",
       "      <td>11</td>\n",
       "      <td>2.459178</td>\n",
       "    </tr>\n",
       "    <tr>\n",
       "      <th>4</th>\n",
       "      <td>764</td>\n",
       "      <td>317</td>\n",
       "      <td>3139854</td>\n",
       "      <td>White/grey bare soil</td>\n",
       "      <td>22</td>\n",
       "      <td>2.385880</td>\n",
       "    </tr>\n",
       "    <tr>\n",
       "      <th>5</th>\n",
       "      <td>212</td>\n",
       "      <td>910</td>\n",
       "      <td>11061604</td>\n",
       "      <td>Buildings</td>\n",
       "      <td>11</td>\n",
       "      <td>2.378966</td>\n",
       "    </tr>\n",
       "    <tr>\n",
       "      <th>6</th>\n",
       "      <td>82</td>\n",
       "      <td>515</td>\n",
       "      <td>14654425</td>\n",
       "      <td>Buildings</td>\n",
       "      <td>11</td>\n",
       "      <td>2.308500</td>\n",
       "    </tr>\n",
       "    <tr>\n",
       "      <th>7</th>\n",
       "      <td>380</td>\n",
       "      <td>1342</td>\n",
       "      <td>3555165</td>\n",
       "      <td>Buildings</td>\n",
       "      <td>11</td>\n",
       "      <td>2.261217</td>\n",
       "    </tr>\n",
       "    <tr>\n",
       "      <th>8</th>\n",
       "      <td>2059</td>\n",
       "      <td>1157</td>\n",
       "      <td>2871072</td>\n",
       "      <td>White/grey bare soil</td>\n",
       "      <td>22</td>\n",
       "      <td>2.178611</td>\n",
       "    </tr>\n",
       "    <tr>\n",
       "      <th>9</th>\n",
       "      <td>74</td>\n",
       "      <td>477</td>\n",
       "      <td>6452338</td>\n",
       "      <td>Buildings</td>\n",
       "      <td>11</td>\n",
       "      <td>2.121996</td>\n",
       "    </tr>\n",
       "    <tr>\n",
       "      <th>10</th>\n",
       "      <td>1906</td>\n",
       "      <td>1055</td>\n",
       "      <td>6025699</td>\n",
       "      <td>Trees</td>\n",
       "      <td>31</td>\n",
       "      <td>2.094851</td>\n",
       "    </tr>\n",
       "    <tr>\n",
       "      <th>11</th>\n",
       "      <td>153</td>\n",
       "      <td>737</td>\n",
       "      <td>6100642</td>\n",
       "      <td>Buildings</td>\n",
       "      <td>11</td>\n",
       "      <td>2.090030</td>\n",
       "    </tr>\n",
       "    <tr>\n",
       "      <th>12</th>\n",
       "      <td>2138</td>\n",
       "      <td>1212</td>\n",
       "      <td>6507816</td>\n",
       "      <td>Other vegetation</td>\n",
       "      <td>34</td>\n",
       "      <td>2.076494</td>\n",
       "    </tr>\n",
       "    <tr>\n",
       "      <th>13</th>\n",
       "      <td>1209</td>\n",
       "      <td>616</td>\n",
       "      <td>8619751</td>\n",
       "      <td>White/grey bare soil</td>\n",
       "      <td>22</td>\n",
       "      <td>2.031859</td>\n",
       "    </tr>\n",
       "    <tr>\n",
       "      <th>14</th>\n",
       "      <td>2207</td>\n",
       "      <td>1256</td>\n",
       "      <td>6255402</td>\n",
       "      <td>Swimming pools</td>\n",
       "      <td>13</td>\n",
       "      <td>2.020926</td>\n",
       "    </tr>\n",
       "    <tr>\n",
       "      <th>15</th>\n",
       "      <td>1925</td>\n",
       "      <td>1068</td>\n",
       "      <td>9335815</td>\n",
       "      <td>Other vegetation</td>\n",
       "      <td>34</td>\n",
       "      <td>1.980131</td>\n",
       "    </tr>\n",
       "    <tr>\n",
       "      <th>16</th>\n",
       "      <td>137</td>\n",
       "      <td>693</td>\n",
       "      <td>3758630</td>\n",
       "      <td>Buildings</td>\n",
       "      <td>11</td>\n",
       "      <td>1.949369</td>\n",
       "    </tr>\n",
       "    <tr>\n",
       "      <th>17</th>\n",
       "      <td>38</td>\n",
       "      <td>245</td>\n",
       "      <td>3370174</td>\n",
       "      <td>Buildings</td>\n",
       "      <td>11</td>\n",
       "      <td>1.910814</td>\n",
       "    </tr>\n",
       "    <tr>\n",
       "      <th>18</th>\n",
       "      <td>245</td>\n",
       "      <td>972</td>\n",
       "      <td>8418740</td>\n",
       "      <td>Buildings</td>\n",
       "      <td>11</td>\n",
       "      <td>1.896929</td>\n",
       "    </tr>\n",
       "    <tr>\n",
       "      <th>19</th>\n",
       "      <td>1069</td>\n",
       "      <td>533</td>\n",
       "      <td>14445665</td>\n",
       "      <td>Brown/red bare soil</td>\n",
       "      <td>21</td>\n",
       "      <td>1.895870</td>\n",
       "    </tr>\n",
       "    <tr>\n",
       "      <th>20</th>\n",
       "      <td>196</td>\n",
       "      <td>878</td>\n",
       "      <td>1895091</td>\n",
       "      <td>Buildings</td>\n",
       "      <td>11</td>\n",
       "      <td>1.895006</td>\n",
       "    </tr>\n",
       "    <tr>\n",
       "      <th>21</th>\n",
       "      <td>705</td>\n",
       "      <td>253</td>\n",
       "      <td>5020309</td>\n",
       "      <td>Other vegetation</td>\n",
       "      <td>34</td>\n",
       "      <td>1.857008</td>\n",
       "    </tr>\n",
       "    <tr>\n",
       "      <th>22</th>\n",
       "      <td>529</td>\n",
       "      <td>39</td>\n",
       "      <td>4309864</td>\n",
       "      <td>Other vegetation</td>\n",
       "      <td>34</td>\n",
       "      <td>1.854779</td>\n",
       "    </tr>\n",
       "    <tr>\n",
       "      <th>23</th>\n",
       "      <td>968</td>\n",
       "      <td>476</td>\n",
       "      <td>15096549</td>\n",
       "      <td>Brown/red bare soil</td>\n",
       "      <td>21</td>\n",
       "      <td>1.854320</td>\n",
       "    </tr>\n",
       "    <tr>\n",
       "      <th>24</th>\n",
       "      <td>1857</td>\n",
       "      <td>1021</td>\n",
       "      <td>6854352</td>\n",
       "      <td>White/grey bare soil</td>\n",
       "      <td>22</td>\n",
       "      <td>1.792752</td>\n",
       "    </tr>\n",
       "    <tr>\n",
       "      <th>25</th>\n",
       "      <td>1877</td>\n",
       "      <td>1036</td>\n",
       "      <td>4942071</td>\n",
       "      <td>Dry vegetation</td>\n",
       "      <td>33</td>\n",
       "      <td>1.788938</td>\n",
       "    </tr>\n",
       "    <tr>\n",
       "      <th>26</th>\n",
       "      <td>234</td>\n",
       "      <td>953</td>\n",
       "      <td>6772883</td>\n",
       "      <td>Buildings</td>\n",
       "      <td>11</td>\n",
       "      <td>1.753728</td>\n",
       "    </tr>\n",
       "    <tr>\n",
       "      <th>27</th>\n",
       "      <td>728</td>\n",
       "      <td>280</td>\n",
       "      <td>4647146</td>\n",
       "      <td>White/grey bare soil</td>\n",
       "      <td>22</td>\n",
       "      <td>1.745608</td>\n",
       "    </tr>\n",
       "    <tr>\n",
       "      <th>28</th>\n",
       "      <td>854</td>\n",
       "      <td>406</td>\n",
       "      <td>15724830</td>\n",
       "      <td>Trees</td>\n",
       "      <td>31</td>\n",
       "      <td>1.731589</td>\n",
       "    </tr>\n",
       "    <tr>\n",
       "      <th>29</th>\n",
       "      <td>1225</td>\n",
       "      <td>625</td>\n",
       "      <td>6674994</td>\n",
       "      <td>Inland waters</td>\n",
       "      <td>41</td>\n",
       "      <td>1.723318</td>\n",
       "    </tr>\n",
       "    <tr>\n",
       "      <th>...</th>\n",
       "      <td>...</td>\n",
       "      <td>...</td>\n",
       "      <td>...</td>\n",
       "      <td>...</td>\n",
       "      <td>...</td>\n",
       "      <td>...</td>\n",
       "    </tr>\n",
       "    <tr>\n",
       "      <th>2487</th>\n",
       "      <td>2419</td>\n",
       "      <td>1511</td>\n",
       "      <td>4892814</td>\n",
       "      <td>Shadows</td>\n",
       "      <td>51</td>\n",
       "      <td>0.230439</td>\n",
       "    </tr>\n",
       "    <tr>\n",
       "      <th>2488</th>\n",
       "      <td>1260</td>\n",
       "      <td>644</td>\n",
       "      <td>3304838</td>\n",
       "      <td>Other vegetation</td>\n",
       "      <td>34</td>\n",
       "      <td>0.229867</td>\n",
       "    </tr>\n",
       "    <tr>\n",
       "      <th>2489</th>\n",
       "      <td>1001</td>\n",
       "      <td>495</td>\n",
       "      <td>5990290</td>\n",
       "      <td>Brown/red bare soil</td>\n",
       "      <td>21</td>\n",
       "      <td>0.228637</td>\n",
       "    </tr>\n",
       "    <tr>\n",
       "      <th>2490</th>\n",
       "      <td>222</td>\n",
       "      <td>927</td>\n",
       "      <td>10884220</td>\n",
       "      <td>Buildings</td>\n",
       "      <td>11</td>\n",
       "      <td>0.227919</td>\n",
       "    </tr>\n",
       "    <tr>\n",
       "      <th>2491</th>\n",
       "      <td>1543</td>\n",
       "      <td>813</td>\n",
       "      <td>12101280</td>\n",
       "      <td>Other vegetation</td>\n",
       "      <td>34</td>\n",
       "      <td>0.227704</td>\n",
       "    </tr>\n",
       "    <tr>\n",
       "      <th>2492</th>\n",
       "      <td>604</td>\n",
       "      <td>133</td>\n",
       "      <td>2885619</td>\n",
       "      <td>Brown/red bare soil</td>\n",
       "      <td>21</td>\n",
       "      <td>0.224129</td>\n",
       "    </tr>\n",
       "    <tr>\n",
       "      <th>2493</th>\n",
       "      <td>980</td>\n",
       "      <td>484</td>\n",
       "      <td>15001031</td>\n",
       "      <td>Other vegetation</td>\n",
       "      <td>34</td>\n",
       "      <td>0.223823</td>\n",
       "    </tr>\n",
       "    <tr>\n",
       "      <th>2494</th>\n",
       "      <td>2304</td>\n",
       "      <td>1319</td>\n",
       "      <td>1528847</td>\n",
       "      <td>Mixed bare soil/vegetation</td>\n",
       "      <td>32</td>\n",
       "      <td>0.222378</td>\n",
       "    </tr>\n",
       "    <tr>\n",
       "      <th>2495</th>\n",
       "      <td>295</td>\n",
       "      <td>1060</td>\n",
       "      <td>3876984</td>\n",
       "      <td>Buildings</td>\n",
       "      <td>11</td>\n",
       "      <td>0.219531</td>\n",
       "    </tr>\n",
       "    <tr>\n",
       "      <th>2496</th>\n",
       "      <td>1390</td>\n",
       "      <td>725</td>\n",
       "      <td>3593447</td>\n",
       "      <td>White/grey bare soil</td>\n",
       "      <td>22</td>\n",
       "      <td>0.217542</td>\n",
       "    </tr>\n",
       "    <tr>\n",
       "      <th>2497</th>\n",
       "      <td>2536</td>\n",
       "      <td>1687</td>\n",
       "      <td>2578736</td>\n",
       "      <td>Brown/red bare soil</td>\n",
       "      <td>21</td>\n",
       "      <td>0.216737</td>\n",
       "    </tr>\n",
       "    <tr>\n",
       "      <th>2498</th>\n",
       "      <td>202</td>\n",
       "      <td>886</td>\n",
       "      <td>3602203</td>\n",
       "      <td>Buildings</td>\n",
       "      <td>11</td>\n",
       "      <td>0.211737</td>\n",
       "    </tr>\n",
       "    <tr>\n",
       "      <th>2499</th>\n",
       "      <td>2060</td>\n",
       "      <td>1158</td>\n",
       "      <td>8657537</td>\n",
       "      <td>White/grey bare soil</td>\n",
       "      <td>22</td>\n",
       "      <td>0.207793</td>\n",
       "    </tr>\n",
       "    <tr>\n",
       "      <th>2500</th>\n",
       "      <td>1414</td>\n",
       "      <td>739</td>\n",
       "      <td>2835699</td>\n",
       "      <td>Brown/red bare soil</td>\n",
       "      <td>21</td>\n",
       "      <td>0.206361</td>\n",
       "    </tr>\n",
       "    <tr>\n",
       "      <th>2501</th>\n",
       "      <td>1954</td>\n",
       "      <td>1085</td>\n",
       "      <td>5863666</td>\n",
       "      <td>White/grey bare soil</td>\n",
       "      <td>22</td>\n",
       "      <td>0.205481</td>\n",
       "    </tr>\n",
       "    <tr>\n",
       "      <th>2502</th>\n",
       "      <td>1083</td>\n",
       "      <td>541</td>\n",
       "      <td>3919444</td>\n",
       "      <td>Shadows</td>\n",
       "      <td>51</td>\n",
       "      <td>0.203726</td>\n",
       "    </tr>\n",
       "    <tr>\n",
       "      <th>2503</th>\n",
       "      <td>1197</td>\n",
       "      <td>607</td>\n",
       "      <td>13673513</td>\n",
       "      <td>White/grey bare soil</td>\n",
       "      <td>22</td>\n",
       "      <td>0.200733</td>\n",
       "    </tr>\n",
       "    <tr>\n",
       "      <th>2504</th>\n",
       "      <td>1427</td>\n",
       "      <td>746</td>\n",
       "      <td>3891916</td>\n",
       "      <td>White/grey bare soil</td>\n",
       "      <td>22</td>\n",
       "      <td>0.195476</td>\n",
       "    </tr>\n",
       "    <tr>\n",
       "      <th>2505</th>\n",
       "      <td>2340</td>\n",
       "      <td>1347</td>\n",
       "      <td>6479735</td>\n",
       "      <td>White/grey bare soil</td>\n",
       "      <td>22</td>\n",
       "      <td>0.195352</td>\n",
       "    </tr>\n",
       "    <tr>\n",
       "      <th>2506</th>\n",
       "      <td>1804</td>\n",
       "      <td>983</td>\n",
       "      <td>3071635</td>\n",
       "      <td>White/grey bare soil</td>\n",
       "      <td>22</td>\n",
       "      <td>0.194800</td>\n",
       "    </tr>\n",
       "    <tr>\n",
       "      <th>2507</th>\n",
       "      <td>2382</td>\n",
       "      <td>1394</td>\n",
       "      <td>6499272</td>\n",
       "      <td>Other vegetation</td>\n",
       "      <td>34</td>\n",
       "      <td>0.194398</td>\n",
       "    </tr>\n",
       "    <tr>\n",
       "      <th>2508</th>\n",
       "      <td>201</td>\n",
       "      <td>885</td>\n",
       "      <td>6464475</td>\n",
       "      <td>Buildings</td>\n",
       "      <td>11</td>\n",
       "      <td>0.194148</td>\n",
       "    </tr>\n",
       "    <tr>\n",
       "      <th>2509</th>\n",
       "      <td>365</td>\n",
       "      <td>1263</td>\n",
       "      <td>7633497</td>\n",
       "      <td>Buildings</td>\n",
       "      <td>11</td>\n",
       "      <td>0.193663</td>\n",
       "    </tr>\n",
       "    <tr>\n",
       "      <th>2510</th>\n",
       "      <td>2461</td>\n",
       "      <td>1584</td>\n",
       "      <td>3953955</td>\n",
       "      <td>Other vegetation</td>\n",
       "      <td>34</td>\n",
       "      <td>0.192239</td>\n",
       "    </tr>\n",
       "    <tr>\n",
       "      <th>2511</th>\n",
       "      <td>1502</td>\n",
       "      <td>788</td>\n",
       "      <td>6063649</td>\n",
       "      <td>White/grey bare soil</td>\n",
       "      <td>22</td>\n",
       "      <td>0.190801</td>\n",
       "    </tr>\n",
       "    <tr>\n",
       "      <th>2512</th>\n",
       "      <td>594</td>\n",
       "      <td>120</td>\n",
       "      <td>2275427</td>\n",
       "      <td>Other vegetation</td>\n",
       "      <td>34</td>\n",
       "      <td>0.185881</td>\n",
       "    </tr>\n",
       "    <tr>\n",
       "      <th>2513</th>\n",
       "      <td>1278</td>\n",
       "      <td>656</td>\n",
       "      <td>8441118</td>\n",
       "      <td>White/grey bare soil</td>\n",
       "      <td>22</td>\n",
       "      <td>0.184921</td>\n",
       "    </tr>\n",
       "    <tr>\n",
       "      <th>2514</th>\n",
       "      <td>1276</td>\n",
       "      <td>655</td>\n",
       "      <td>13182637</td>\n",
       "      <td>Other vegetation</td>\n",
       "      <td>34</td>\n",
       "      <td>0.184562</td>\n",
       "    </tr>\n",
       "    <tr>\n",
       "      <th>2515</th>\n",
       "      <td>1885</td>\n",
       "      <td>1042</td>\n",
       "      <td>2478296</td>\n",
       "      <td>Inland waters</td>\n",
       "      <td>41</td>\n",
       "      <td>0.179581</td>\n",
       "    </tr>\n",
       "    <tr>\n",
       "      <th>2516</th>\n",
       "      <td>1466</td>\n",
       "      <td>768</td>\n",
       "      <td>1597564</td>\n",
       "      <td>Mixed bare soil/vegetation</td>\n",
       "      <td>32</td>\n",
       "      <td>0.176183</td>\n",
       "    </tr>\n",
       "  </tbody>\n",
       "</table>\n",
       "<p>2517 rows × 6 columns</p>\n",
       "</div>"
      ],
      "text/plain": [
       "      cat_point    id    seg_id                       class class_num  \\\n",
       "0           182   842  11825256                   Buildings        11   \n",
       "1          2742  1447   5872928              Swimming pools        13   \n",
       "2          1253   640   8391892  Mixed bare soil/vegetation        32   \n",
       "3           469  1660   2867124                   Buildings        11   \n",
       "4           764   317   3139854        White/grey bare soil        22   \n",
       "5           212   910  11061604                   Buildings        11   \n",
       "6            82   515  14654425                   Buildings        11   \n",
       "7           380  1342   3555165                   Buildings        11   \n",
       "8          2059  1157   2871072        White/grey bare soil        22   \n",
       "9            74   477   6452338                   Buildings        11   \n",
       "10         1906  1055   6025699                       Trees        31   \n",
       "11          153   737   6100642                   Buildings        11   \n",
       "12         2138  1212   6507816            Other vegetation        34   \n",
       "13         1209   616   8619751        White/grey bare soil        22   \n",
       "14         2207  1256   6255402              Swimming pools        13   \n",
       "15         1925  1068   9335815            Other vegetation        34   \n",
       "16          137   693   3758630                   Buildings        11   \n",
       "17           38   245   3370174                   Buildings        11   \n",
       "18          245   972   8418740                   Buildings        11   \n",
       "19         1069   533  14445665         Brown/red bare soil        21   \n",
       "20          196   878   1895091                   Buildings        11   \n",
       "21          705   253   5020309            Other vegetation        34   \n",
       "22          529    39   4309864            Other vegetation        34   \n",
       "23          968   476  15096549         Brown/red bare soil        21   \n",
       "24         1857  1021   6854352        White/grey bare soil        22   \n",
       "25         1877  1036   4942071              Dry vegetation        33   \n",
       "26          234   953   6772883                   Buildings        11   \n",
       "27          728   280   4647146        White/grey bare soil        22   \n",
       "28          854   406  15724830                       Trees        31   \n",
       "29         1225   625   6674994               Inland waters        41   \n",
       "...         ...   ...       ...                         ...       ...   \n",
       "2487       2419  1511   4892814                     Shadows        51   \n",
       "2488       1260   644   3304838            Other vegetation        34   \n",
       "2489       1001   495   5990290         Brown/red bare soil        21   \n",
       "2490        222   927  10884220                   Buildings        11   \n",
       "2491       1543   813  12101280            Other vegetation        34   \n",
       "2492        604   133   2885619         Brown/red bare soil        21   \n",
       "2493        980   484  15001031            Other vegetation        34   \n",
       "2494       2304  1319   1528847  Mixed bare soil/vegetation        32   \n",
       "2495        295  1060   3876984                   Buildings        11   \n",
       "2496       1390   725   3593447        White/grey bare soil        22   \n",
       "2497       2536  1687   2578736         Brown/red bare soil        21   \n",
       "2498        202   886   3602203                   Buildings        11   \n",
       "2499       2060  1158   8657537        White/grey bare soil        22   \n",
       "2500       1414   739   2835699         Brown/red bare soil        21   \n",
       "2501       1954  1085   5863666        White/grey bare soil        22   \n",
       "2502       1083   541   3919444                     Shadows        51   \n",
       "2503       1197   607  13673513        White/grey bare soil        22   \n",
       "2504       1427   746   3891916        White/grey bare soil        22   \n",
       "2505       2340  1347   6479735        White/grey bare soil        22   \n",
       "2506       1804   983   3071635        White/grey bare soil        22   \n",
       "2507       2382  1394   6499272            Other vegetation        34   \n",
       "2508        201   885   6464475                   Buildings        11   \n",
       "2509        365  1263   7633497                   Buildings        11   \n",
       "2510       2461  1584   3953955            Other vegetation        34   \n",
       "2511       1502   788   6063649        White/grey bare soil        22   \n",
       "2512        594   120   2275427            Other vegetation        34   \n",
       "2513       1278   656   8441118        White/grey bare soil        22   \n",
       "2514       1276   655  13182637            Other vegetation        34   \n",
       "2515       1885  1042   2478296               Inland waters        41   \n",
       "2516       1466   768   1597564  Mixed bare soil/vegetation        32   \n",
       "\n",
       "      outlier_score  \n",
       "0          3.192824  \n",
       "1          3.169005  \n",
       "2          2.554713  \n",
       "3          2.459178  \n",
       "4          2.385880  \n",
       "5          2.378966  \n",
       "6          2.308500  \n",
       "7          2.261217  \n",
       "8          2.178611  \n",
       "9          2.121996  \n",
       "10         2.094851  \n",
       "11         2.090030  \n",
       "12         2.076494  \n",
       "13         2.031859  \n",
       "14         2.020926  \n",
       "15         1.980131  \n",
       "16         1.949369  \n",
       "17         1.910814  \n",
       "18         1.896929  \n",
       "19         1.895870  \n",
       "20         1.895006  \n",
       "21         1.857008  \n",
       "22         1.854779  \n",
       "23         1.854320  \n",
       "24         1.792752  \n",
       "25         1.788938  \n",
       "26         1.753728  \n",
       "27         1.745608  \n",
       "28         1.731589  \n",
       "29         1.723318  \n",
       "...             ...  \n",
       "2487       0.230439  \n",
       "2488       0.229867  \n",
       "2489       0.228637  \n",
       "2490       0.227919  \n",
       "2491       0.227704  \n",
       "2492       0.224129  \n",
       "2493       0.223823  \n",
       "2494       0.222378  \n",
       "2495       0.219531  \n",
       "2496       0.217542  \n",
       "2497       0.216737  \n",
       "2498       0.211737  \n",
       "2499       0.207793  \n",
       "2500       0.206361  \n",
       "2501       0.205481  \n",
       "2502       0.203726  \n",
       "2503       0.200733  \n",
       "2504       0.195476  \n",
       "2505       0.195352  \n",
       "2506       0.194800  \n",
       "2507       0.194398  \n",
       "2508       0.194148  \n",
       "2509       0.193663  \n",
       "2510       0.192239  \n",
       "2511       0.190801  \n",
       "2512       0.185881  \n",
       "2513       0.184921  \n",
       "2514       0.184562  \n",
       "2515       0.179581  \n",
       "2516       0.176183  \n",
       "\n",
       "[2517 rows x 6 columns]"
      ]
     },
     "execution_count": 214,
     "metadata": {},
     "output_type": "execute_result"
    }
   ],
   "source": [
    "# Query\n",
    "query=\"SELECT cat_point, id, seg_id, class, class_num, outlier_score FROM \"+schema+\".\"+sample_zstats+\" \\\n",
    "ORDER BY outlier_score DESC \"\n",
    "# Execute query through panda\n",
    "df=pd.read_sql(query, db)\n",
    "# Show dataframe\n",
    "df.head(5000)"
   ]
  },
  {
   "cell_type": "markdown",
   "metadata": {
    "collapsed": true
   },
   "source": [
    "**Identify objects which are over the 0.XX percentile**"
   ]
  },
  {
   "cell_type": "code",
   "execution_count": 215,
   "metadata": {
    "collapsed": true
   },
   "outputs": [],
   "source": [
    "# Connect to an existing database\n",
    "db=pg.connect(database=dbname, user=dbuser, password=dbpassword, host=host)\n",
    "# Open a cursor to perform database operations\n",
    "cur=db.cursor()"
   ]
  },
  {
   "cell_type": "markdown",
   "metadata": {
    "collapsed": true
   },
   "source": [
    "Here after, percentile values are found. The ['percentile_disc'](https://www.postgresql.org/docs/9.4/static/functions-aggregate.html) Postgresql aggregate function is used for this purpose. An example can be found [here](http://dba.stackexchange.com/questions/106440/get-10th-and-90th-percentile-by-customer)."
   ]
  },
  {
   "cell_type": "code",
   "execution_count": 216,
   "metadata": {},
   "outputs": [
    {
     "data": {
      "text/html": [
       "<div>\n",
       "<table border=\"1\" class=\"dataframe\">\n",
       "  <thead>\n",
       "    <tr style=\"text-align: right;\">\n",
       "      <th></th>\n",
       "      <th>class_num</th>\n",
       "      <th>percent_1</th>\n",
       "    </tr>\n",
       "  </thead>\n",
       "  <tbody>\n",
       "    <tr>\n",
       "      <th>0</th>\n",
       "      <td>11</td>\n",
       "      <td>0.227919</td>\n",
       "    </tr>\n",
       "    <tr>\n",
       "      <th>1</th>\n",
       "      <td>13</td>\n",
       "      <td>0.285959</td>\n",
       "    </tr>\n",
       "    <tr>\n",
       "      <th>2</th>\n",
       "      <td>14</td>\n",
       "      <td>0.280299</td>\n",
       "    </tr>\n",
       "    <tr>\n",
       "      <th>3</th>\n",
       "      <td>21</td>\n",
       "      <td>0.224129</td>\n",
       "    </tr>\n",
       "    <tr>\n",
       "      <th>4</th>\n",
       "      <td>22</td>\n",
       "      <td>0.190801</td>\n",
       "    </tr>\n",
       "    <tr>\n",
       "      <th>5</th>\n",
       "      <td>31</td>\n",
       "      <td>0.305394</td>\n",
       "    </tr>\n",
       "    <tr>\n",
       "      <th>6</th>\n",
       "      <td>32</td>\n",
       "      <td>0.233309</td>\n",
       "    </tr>\n",
       "    <tr>\n",
       "      <th>7</th>\n",
       "      <td>33</td>\n",
       "      <td>0.255982</td>\n",
       "    </tr>\n",
       "    <tr>\n",
       "      <th>8</th>\n",
       "      <td>34</td>\n",
       "      <td>0.194398</td>\n",
       "    </tr>\n",
       "    <tr>\n",
       "      <th>9</th>\n",
       "      <td>41</td>\n",
       "      <td>0.251032</td>\n",
       "    </tr>\n",
       "    <tr>\n",
       "      <th>10</th>\n",
       "      <td>51</td>\n",
       "      <td>0.230439</td>\n",
       "    </tr>\n",
       "  </tbody>\n",
       "</table>\n",
       "</div>"
      ],
      "text/plain": [
       "   class_num  percent_1\n",
       "0         11   0.227919\n",
       "1         13   0.285959\n",
       "2         14   0.280299\n",
       "3         21   0.224129\n",
       "4         22   0.190801\n",
       "5         31   0.305394\n",
       "6         32   0.233309\n",
       "7         33   0.255982\n",
       "8         34   0.194398\n",
       "9         41   0.251032\n",
       "10        51   0.230439"
      ]
     },
     "execution_count": 216,
     "metadata": {},
     "output_type": "execute_result"
    }
   ],
   "source": [
    "### Find the percentile 0.XX for each classe.\n",
    "# Define the targeted percentile value \n",
    "percent_value=0.01\n",
    "# Query\n",
    "query=\"SELECT class_num, percentile_disc(\"+str(percent_value)+\") WITHIN GROUP (ORDER BY outlier_score) \\\n",
    "AS percent_\"+str(int(percent_value*100))+\" \\\n",
    "FROM \"+schema+\".\"+sample_zstats+\" \\\n",
    "GROUP BY class_num\"\n",
    "# Execute query through panda\n",
    "df=pd.read_sql(query, db)\n",
    "# Show dataframe\n",
    "df.head(5000)"
   ]
  },
  {
   "cell_type": "code",
   "execution_count": 217,
   "metadata": {
    "collapsed": true
   },
   "outputs": [],
   "source": [
    "# Drop table if exists:\n",
    "cur.execute(\"DROP TABLE IF EXISTS \"+schema+\".tmp_outlier_segid\")\n",
    "# Make the changes to the database persistent\n",
    "db.commit()"
   ]
  },
  {
   "cell_type": "code",
   "execution_count": 218,
   "metadata": {
    "collapsed": true
   },
   "outputs": [],
   "source": [
    "# Subquery\n",
    "subquery1=\"WITH outlier_values AS(\\\n",
    "SELECT class_num, percentile_disc(\"+str(percent_value)+\") WITHIN GROUP (ORDER BY outlier_score) \\\n",
    "AS percent_\"+str(int(percent_value*100))+\" \\\n",
    "FROM \"+schema+\".\"+sample_zstats+\" \\\n",
    "GROUP BY class_num) \\\n",
    "\\\n",
    "SELECT seg_id, class, a.class_num, outlier_score FROM \"+schema+\".\"+sample_zstats+\" AS a \\\n",
    "INNER JOIN outlier_values AS b ON a.class_num=b.class_num \\\n",
    "WHERE outlier_score>=percent_\"+str(int(percent_value*100))+\" \\\n",
    "ORDER BY class_num ASC, outlier_score DESC\"\n",
    "\n",
    "# Query\n",
    "query=\"CREATE TABLE \"+schema+\".tmp_outlier_segid AS (\"\n",
    "query+=subquery1+\")\"\n",
    "\n",
    "# Execute the CREATE TABLE query \n",
    "cur.execute(query)\n",
    "# Make the changes to the database persistent\n",
    "db.commit()"
   ]
  },
  {
   "cell_type": "code",
   "execution_count": 219,
   "metadata": {},
   "outputs": [
    {
     "data": {
      "text/html": [
       "<div>\n",
       "<table border=\"1\" class=\"dataframe\">\n",
       "  <thead>\n",
       "    <tr style=\"text-align: right;\">\n",
       "      <th></th>\n",
       "      <th>seg_id</th>\n",
       "    </tr>\n",
       "  </thead>\n",
       "  <tbody>\n",
       "    <tr>\n",
       "      <th>0</th>\n",
       "      <td>11825256</td>\n",
       "    </tr>\n",
       "    <tr>\n",
       "      <th>1</th>\n",
       "      <td>2867124</td>\n",
       "    </tr>\n",
       "    <tr>\n",
       "      <th>2</th>\n",
       "      <td>11061604</td>\n",
       "    </tr>\n",
       "    <tr>\n",
       "      <th>3</th>\n",
       "      <td>14654425</td>\n",
       "    </tr>\n",
       "    <tr>\n",
       "      <th>4</th>\n",
       "      <td>3555165</td>\n",
       "    </tr>\n",
       "  </tbody>\n",
       "</table>\n",
       "</div>"
      ],
      "text/plain": [
       "     seg_id\n",
       "0  11825256\n",
       "1   2867124\n",
       "2  11061604\n",
       "3  14654425\n",
       "4   3555165"
      ]
     },
     "execution_count": 219,
     "metadata": {},
     "output_type": "execute_result"
    }
   ],
   "source": [
    "#### Save 'seg_id' of outliers segments in a list\n",
    "# Query\n",
    "query=\"SELECT seg_id FROM \"+schema+\".tmp_outlier_segid\"\n",
    "# Execute query through panda\n",
    "df=pd.read_sql(query, db)\n",
    "# Save seg_id of outliers objects in a list\n",
    "outlier_segid=list(df['seg_id'])\n",
    "# Show dataframe\n",
    "df.head()"
   ]
  },
  {
   "cell_type": "code",
   "execution_count": 220,
   "metadata": {
    "collapsed": true
   },
   "outputs": [],
   "source": [
    "# Drop table if exists:\n",
    "cur.execute(\"DROP TABLE IF EXISTS \"+schema+\".tmp_outlier_segid\")\n",
    "# Make the changes to the database persistent\n",
    "db.commit()"
   ]
  },
  {
   "cell_type": "code",
   "execution_count": 221,
   "metadata": {},
   "outputs": [
    {
     "name": "stdout",
     "output_type": "stream",
     "text": [
      "2498 segments identified as over 1% outliers.\n"
     ]
    }
   ],
   "source": [
    "# Print the total number in sample \n",
    "print str(len(outlier_segid))+\" segments identified as over \"+str(int(percent_value*100))+\"% outliers.\""
   ]
  },
  {
   "cell_type": "code",
   "execution_count": 222,
   "metadata": {
    "collapsed": true
   },
   "outputs": [],
   "source": [
    "# Close cursor and communication with the database\n",
    "cur.close()\n",
    "db.close()"
   ]
  },
  {
   "cell_type": "markdown",
   "metadata": {
    "collapsed": true
   },
   "source": [
    "**Create a vector file with sample outliers**"
   ]
  },
  {
   "cell_type": "markdown",
   "metadata": {
    "collapsed": true
   },
   "source": [
    "A GRASS GIS vector layer is created with the outliers for each class. The user have then to check visually if there are representative of their class or not. If not, these samples have to be deleted from the samplet statistics table in the next section of the notebook"
   ]
  },
  {
   "cell_type": "code",
   "execution_count": 223,
   "metadata": {},
   "outputs": [
    {
     "data": {
      "text/plain": [
       "0"
      ]
     },
     "execution_count": 223,
     "metadata": {},
     "output_type": "execute_result"
    }
   ],
   "source": [
    "## Define reclass rule\n",
    "rule=\"\"\n",
    "for seg_id in outlier_segid:\n",
    "    rule+=str(seg_id)\n",
    "    rule+=\"=\"\n",
    "    rule+=str(seg_id)\n",
    "    rule+=\"\\n\"\n",
    "rule+=\"*\"\n",
    "rule+=\"=\"\n",
    "rule+=\"NULL\"\n",
    "## Create a temporary 'reclass_rule.csv' file\n",
    "temprulecsv=os.path.join(tempfile.gettempdir(),\"reclass_rules.csv\") # Define the csv output file name\n",
    "f = open(temprulecsv, 'w')\n",
    "f.write(rule)\n",
    "f.close()\n",
    "## Set computational region\n",
    "grass.run_command('g.region', overwrite=True, raster=\"segments\")\n",
    "## Reclass segments raster layer to keep only outliers segments, using the reclas_rule.csv file (create temporary raster)\n",
    "grass.run_command('r.reclass', overwrite=True, input=\"segments\", output=\"outlier_segments\", rules=temprulecsv)\n",
    "## Erase the temporary 'reclass_rule.csv' file\n",
    "os.remove(temprulecsv)\n",
    "\n",
    "## Get outlier objects as vector layer\n",
    "grass.run_command('r.to.vect', overwrite=True, flags=\"v\", input=\"outlier_segments\", output=\"outlier_segments\", type=\"area\")\n",
    "## Remove the temporary raster created previously\n",
    "grass.run_command('g.remove', flags=\"fb\", type=\"raster\", name=\"outlier_segments\")"
   ]
  },
  {
   "cell_type": "markdown",
   "metadata": {
    "collapsed": true
   },
   "source": [
    "**Import the geometry of outliers segments in the postgis DB**"
   ]
  },
  {
   "cell_type": "code",
   "execution_count": 224,
   "metadata": {},
   "outputs": [
    {
     "data": {
      "text/plain": [
       "0"
      ]
     },
     "execution_count": 224,
     "metadata": {},
     "output_type": "execute_result"
    }
   ],
   "source": [
    "## Import the vector layer from GRASSGIS to Postgis\n",
    "grass.run_command('v.out.postgis', overwrite=True, input=\"outlier_segments\",\n",
    "                  output=\"PG:dbname=\"+dbname, output_layer=schema+\".tmp_outlier_segments\")"
   ]
  },
  {
   "cell_type": "code",
   "execution_count": 225,
   "metadata": {
    "collapsed": true
   },
   "outputs": [],
   "source": [
    "# Connect to an existing database\n",
    "db=pg.connect(database=dbname, user=dbuser, password=dbpassword, host=host)\n",
    "# Open a cursor to perform database operations\n",
    "cur=db.cursor()"
   ]
  },
  {
   "cell_type": "code",
   "execution_count": 226,
   "metadata": {
    "collapsed": true
   },
   "outputs": [],
   "source": [
    "#### Make the geometry valid\n",
    "# Query\n",
    "query=\"UPDATE \"+schema+\".tmp_outlier_segments SET geom=ST_MakeValid(geom)\"\n",
    "# Execute the CREATE TABLE query \n",
    "cur.execute(query)\n",
    "# Make the changes to the database persistent\n",
    "db.commit()"
   ]
  },
  {
   "cell_type": "code",
   "execution_count": 227,
   "metadata": {
    "collapsed": true
   },
   "outputs": [],
   "source": [
    "#### Set the SRID of the geom column\n",
    "# Query\n",
    "query=\"ALTER TABLE \"+schema+\".tmp_outlier_segments \\\n",
    "ALTER COLUMN geom TYPE geometry(POLYGON , \"+user[\"locationepsg\"]+\") \\\n",
    "USING ST_SetSRID(geom,\"+user[\"locationepsg\"]+\")\"\n",
    "# Execute the CREATE TABLE query \n",
    "cur.execute(query)\n",
    "# Make the changes to the database persistent\n",
    "db.commit()"
   ]
  },
  {
   "cell_type": "code",
   "execution_count": 228,
   "metadata": {
    "collapsed": true
   },
   "outputs": [],
   "source": [
    "#### Make the geometry valid\n",
    "# Drop table if exists:\n",
    "cur.execute(\"DROP TABLE IF EXISTS \"+schema+\".outlier_segments\")\n",
    "# Make the changes to the database persistent\n",
    "db.commit()\n",
    "# Subquery\n",
    "subquery1=\"WITH distinct_outlier_segments AS(\\\n",
    "SELECT DISTINCT ON (cat) * FROM \"+schema+\".tmp_outlier_segments) \\\n",
    "\\\n",
    "SELECT b.seg_id, a.geom, class, class_num, outlier_score  \\\n",
    "FROM distinct_outlier_segments AS a LEFT JOIN \"+schema+\".samples_zstat AS b ON a.cat=b.seg_id \\\n",
    "ORDER BY class_num ASC, outlier_score DESC\"\n",
    "# Query\n",
    "query=\"CREATE TABLE \"+schema+\".outlier_segments AS(\"+subquery1+\")\"\n",
    "# Execute the CREATE TABLE query \n",
    "cur.execute(query)\n",
    "# Make the changes to the database persistent\n",
    "db.commit()"
   ]
  },
  {
   "cell_type": "code",
   "execution_count": 229,
   "metadata": {
    "collapsed": true
   },
   "outputs": [],
   "source": [
    "#### Add column\n",
    "# Connect to an existing database\n",
    "db=pg.connect(database=dbname, user=dbuser, password=dbpassword, host=host)\n",
    "# Open a cursor to perform database operations\n",
    "cur=db.cursor()\n",
    "# Query\n",
    "query=\"ALTER TABLE \"+schema+\".outlier_segments ADD COLUMN IF NOT EXISTS remove text\"\n",
    "# Execute the CREATE TABLE query \n",
    "cur.execute(query)\n",
    "# Make the changes to the database persistent\n",
    "db.commit()"
   ]
  },
  {
   "cell_type": "code",
   "execution_count": 230,
   "metadata": {
    "collapsed": true
   },
   "outputs": [],
   "source": [
    "#### Add column\n",
    "# Connect to an existing database\n",
    "db=pg.connect(database=dbname, user=dbuser, password=dbpassword, host=host)\n",
    "# Open a cursor to perform database operations\n",
    "cur=db.cursor()\n",
    "# Query\n",
    "query=\"ALTER TABLE \"+schema+\".outlier_segments DROP CONSTRAINT IF EXISTS seg_id_pk\"\n",
    "# Execute the CREATE TABLE query \n",
    "cur.execute(query)\n",
    "# Query\n",
    "query=\"ALTER TABLE \"+schema+\".outlier_segments ADD CONSTRAINT seg_id_pk PRIMARY KEY(seg_id)\"\n",
    "# Execute the CREATE TABLE query \n",
    "cur.execute(query)\n",
    "# Make the changes to the database persistent\n",
    "db.commit()"
   ]
  },
  {
   "cell_type": "code",
   "execution_count": 231,
   "metadata": {
    "collapsed": true
   },
   "outputs": [],
   "source": [
    "# Drop table if exists:\n",
    "cur.execute(\"DROP TABLE IF EXISTS \"+schema+\".tmp_outlier_segments\")\n",
    "# Make the changes to the database persistent\n",
    "db.commit()"
   ]
  },
  {
   "cell_type": "code",
   "execution_count": 232,
   "metadata": {
    "collapsed": true
   },
   "outputs": [],
   "source": [
    "## Drop postgis table which is no more needed\n",
    "# Drop table if exists:\n",
    "cur.execute(\"DROP TABLE IF EXISTS \"+schema+\".\"+sample_zstats)\n",
    "# Make the changes to the database persistent\n",
    "db.commit()"
   ]
  },
  {
   "cell_type": "code",
   "execution_count": 233,
   "metadata": {
    "collapsed": true
   },
   "outputs": [],
   "source": [
    "# Close cursor and communication with the database\n",
    "cur.close()\n",
    "db.close()"
   ]
  },
  {
   "cell_type": "markdown",
   "metadata": {
    "collapsed": true
   },
   "source": [
    "**-_-_-_-_-_-_-_-_-_-_-_-_-_-_-_-_-_-_-_-_-_-_-_-_-_-_-_-_-_-_-_-_-_-_-_-_-_-_-_-_-_-_-_-_-_-_-_-_-_-_-_-_-_-_-_-_-_-_-_-_-**"
   ]
  },
  {
   "cell_type": "markdown",
   "metadata": {
    "collapsed": true
   },
   "source": [
    "### Visual interpretation of outlier segments"
   ]
  },
  {
   "cell_type": "markdown",
   "metadata": {
    "collapsed": true
   },
   "source": [
    "Please upload the PostGis layer nammed 'outlier_segments' in a GIS (Qgis for example). Through visual interpretation, identify  outlier objects which should be removed or kept from the sample. For this purpose, please update the attribute 'remove' with 'yes' or 'no', depending if the current object should be removed, or kept respectively."
   ]
  },
  {
   "cell_type": "markdown",
   "metadata": {
    "collapsed": true
   },
   "source": [
    "### Update the value of 'remove' column base on a list of seg_id to be removed"
   ]
  },
  {
   "cell_type": "code",
   "execution_count": 236,
   "metadata": {
    "collapsed": true
   },
   "outputs": [],
   "source": [
    "# Connect to an existing database\n",
    "db=pg.connect(database=dbname, user=dbuser, password=dbpassword, host=host)\n",
    "# Open a cursor to perform database operations\n",
    "cur=db.cursor()"
   ]
  },
  {
   "cell_type": "code",
   "execution_count": 237,
   "metadata": {
    "collapsed": true
   },
   "outputs": [],
   "source": [
    "# Save a list with 'seg_id' to be removed\n",
    "remove_list=[6255402,7744776,7044799,6078235,10502897,6876381,12300768,6247378,12499295,6329556,6482113,\n",
    "             3875007,12515665,2980639,7408144,2994968,12588869,7254663,2720755,7945387,6928527,7328013,\n",
    "             2227885,2557822,2123292,8299882,15173102,2882248,6829153,6999865,14445665,15096549,12415122,\n",
    "             15097739,9716573,7142033,5181162,1111646,2840051,2871072,8619751,4647146,15087616,4451966,3028339,\n",
    "             15408522,14671220,7713534,4577021,15003423,7878206,3526056,13818795,1538896,3531654,13463235,\n",
    "             6691796,2008255,5486015,1706531,6090721,10120225,4950334,9911243,7554597,8397760,8166828,\n",
    "             8754793,4034215,11982782,8301269,7720700,5766862,6334137,5602235,10336548,7857639,8807988,6927462,\n",
    "             11373495,2652049,12423996,14781702,5410572,2640910,6289370,15339998,90558,2158038,5694526,1861549,\n",
    "             9308271,6608980,1100126,1547484,1512319,11273219,965059,321422,12428549,8391892,1890247,6161203,\n",
    "             1947701,5077535,1844748,6261486,1763602,5410108,2956301,7473524,3414099,5366216,3977046,870198,\n",
    "             7872932,3341959,5366949,2170072,6930780,2181069,2053367,6233224,6507816,6550503,7731307,3563944,\n",
    "             4738499,3373619,3373619,3676702,10714804,3912663,5050862,3737696,11249864,2126825,12870533,6906431,\n",
    "             3402173,1665297,2285263,1512731,3106970,9051990,11383089,7764629,6791455,6677946,4705013,10720407,\n",
    "             7833880,7260635,6515879,7041313,7618921,8010467,7982801,7227661,5001150,7186494,7280282,2684001,\n",
    "             10513768,6271320,10913026,3253125,10483233,1800856,11894344,1707528,6883962,7002283,11860118,6859894]"
   ]
  },
  {
   "cell_type": "code",
   "execution_count": 238,
   "metadata": {
    "collapsed": true
   },
   "outputs": [],
   "source": [
    "# Update the 'remove' column with 'yes'\n",
    "query=\"UPDATE \"+schema+\".outlier_segments \\\n",
    "SET remove = 'yes' WHERE  seg_id IN (\"+\",\".join(str(x) for x in remove_list)+\")\"\n",
    "# Execute the query \n",
    "cur.execute(query)\n",
    "# Make the changes to the database persistent\n",
    "db.commit()\n",
    "# Update the 'remove' column with 'no'\n",
    "query=\"UPDATE \"+schema+\".outlier_segments \\\n",
    "SET remove = 'no' WHERE  seg_id NOT IN (\"+\",\".join(str(x) for x in remove_list)+\")\"\n",
    "# Execute the query \n",
    "cur.execute(query)\n",
    "# Make the changes to the database persistent\n",
    "db.commit()"
   ]
  },
  {
   "cell_type": "markdown",
   "metadata": {
    "collapsed": true
   },
   "source": [
    "**-_-_-_-_-_-_-_-_-_-_-_-_-_-_-_-_-_-_-_-_-_-_-_-_-_-_-_-_-_-_-_-_-_-_-_-_-_-_-_-_-_-_-_-_-_-_-_-_-_-_-_-_-_-_-_-_-_-_-_-_-**"
   ]
  },
  {
   "cell_type": "markdown",
   "metadata": {},
   "source": [
    "### Change the outputfolder"
   ]
  },
  {
   "cell_type": "code",
   "execution_count": 27,
   "metadata": {
    "collapsed": true
   },
   "outputs": [],
   "source": [
    "## Folder in which save processing time output\n",
    "outputfolder=os.path.join(resultfolder,mapsetname,\"classif\")\n",
    "\n",
    "## Create the folder if does not exists\n",
    "if not os.path.exists(outputfolder):\n",
    "    os.makedirs(outputfolder)\n",
    "    print \"Folder '\"+outputfolder+\"' created\""
   ]
  },
  {
   "cell_type": "markdown",
   "metadata": {},
   "source": [
    "**-_-_-_-_-_-_-_-_-_-_-_-_-_-_-_-_-_-_-_-_-_-_-_-_-_-_-_-_-_-_-_-_-_-_-_-_-_-_-_-_-_-_-_-_-_-_-_-_-_-_-_-_-_-_-_-_-_-_-_-_-**"
   ]
  },
  {
   "cell_type": "markdown",
   "metadata": {
    "collapsed": true
   },
   "source": [
    "### Exportation of visual assessment of outliers for archiving"
   ]
  },
  {
   "cell_type": "code",
   "execution_count": 240,
   "metadata": {
    "collapsed": true
   },
   "outputs": [],
   "source": [
    "## Define the path to the output shapefile\n",
    "outlier_shapefile=os.path.join(outputfolder,mapsetname+\"_outlier_segments_visualassess.shp\")"
   ]
  },
  {
   "cell_type": "code",
   "execution_count": 241,
   "metadata": {},
   "outputs": [
    {
     "name": "stdout",
     "output_type": "stream",
     "text": [
      "Initializing... \n",
      "Done (postgis major version: 2).\n",
      "Output shape: Polygon\n",
      "Dumping: XXXXXXXXXXXXXXXXXXXXXXXXX [2498 rows].\n",
      "\n"
     ]
    }
   ],
   "source": [
    "## Call osm2pgsql as a subprocess\n",
    "p=Popen(['pgsql2shp','-f',outlier_shapefile,\n",
    "         '-h',host,\n",
    "         '-u', dbuser,\n",
    "         dbname, schema+\".outlier_segments\"],\n",
    "        env={'PGPASSWORD': dbpassword},\n",
    "        stdin=PIPE,stdout=PIPE,stderr=STDOUT)\n",
    "stdout,stderr=p.communicate()\n",
    "if stdout:\n",
    "    print stdout\n",
    "if stderr:\n",
    "    print (\"ERROR MESSAGE:\\n\"+stderr)"
   ]
  },
  {
   "cell_type": "markdown",
   "metadata": {
    "collapsed": true
   },
   "source": [
    "### Remove rejected outlier segments from the sample"
   ]
  },
  {
   "cell_type": "code",
   "execution_count": 242,
   "metadata": {
    "collapsed": true
   },
   "outputs": [],
   "source": [
    "# Connect to an existing database\n",
    "db=pg.connect(database=dbname, user=dbuser, password=dbpassword, host=host)\n",
    "# Open a cursor to perform database operations\n",
    "cur=db.cursor()"
   ]
  },
  {
   "cell_type": "code",
   "execution_count": 243,
   "metadata": {},
   "outputs": [
    {
     "name": "stdout",
     "output_type": "stream",
     "text": [
      "Number of outlier segments which will be removed from the sample: 174\n"
     ]
    }
   ],
   "source": [
    "#### Print the total number of segments which are going to be rejected from sample\n",
    "# Query\n",
    "query=\"SELECT seg_id FROM \"+schema+\".outlier_segments \\\n",
    "WHERE remove='yes'\"\n",
    "# Execute query through panda\n",
    "df=pd.read_sql(query, db)\n",
    "# Print the total number of rejected segments\n",
    "print \"Number of outlier segments which will be removed from the sample: \"+str(len(df.index))"
   ]
  },
  {
   "cell_type": "code",
   "execution_count": 244,
   "metadata": {},
   "outputs": [
    {
     "data": {
      "text/html": [
       "<div>\n",
       "<table border=\"1\" class=\"dataframe\">\n",
       "  <thead>\n",
       "    <tr style=\"text-align: right;\">\n",
       "      <th></th>\n",
       "      <th>class_num</th>\n",
       "      <th>class</th>\n",
       "      <th>number_retained</th>\n",
       "      <th>number_rejected</th>\n",
       "    </tr>\n",
       "  </thead>\n",
       "  <tbody>\n",
       "    <tr>\n",
       "      <th>0</th>\n",
       "      <td>11</td>\n",
       "      <td>Buildings</td>\n",
       "      <td>407</td>\n",
       "      <td>18</td>\n",
       "    </tr>\n",
       "    <tr>\n",
       "      <th>1</th>\n",
       "      <td>13</td>\n",
       "      <td>Swimming pools</td>\n",
       "      <td>166</td>\n",
       "      <td>16</td>\n",
       "    </tr>\n",
       "    <tr>\n",
       "      <th>2</th>\n",
       "      <td>14</td>\n",
       "      <td>Asphalt surfaces</td>\n",
       "      <td>139</td>\n",
       "      <td>31</td>\n",
       "    </tr>\n",
       "    <tr>\n",
       "      <th>3</th>\n",
       "      <td>21</td>\n",
       "      <td>Brown/red bare soil</td>\n",
       "      <td>199</td>\n",
       "      <td>9</td>\n",
       "    </tr>\n",
       "    <tr>\n",
       "      <th>4</th>\n",
       "      <td>22</td>\n",
       "      <td>White/grey bare soil</td>\n",
       "      <td>170</td>\n",
       "      <td>21</td>\n",
       "    </tr>\n",
       "    <tr>\n",
       "      <th>5</th>\n",
       "      <td>31</td>\n",
       "      <td>Trees</td>\n",
       "      <td>192</td>\n",
       "      <td>22</td>\n",
       "    </tr>\n",
       "    <tr>\n",
       "      <th>6</th>\n",
       "      <td>32</td>\n",
       "      <td>Mixed bare soil/vegetation</td>\n",
       "      <td>199</td>\n",
       "      <td>23</td>\n",
       "    </tr>\n",
       "    <tr>\n",
       "      <th>7</th>\n",
       "      <td>33</td>\n",
       "      <td>Dry vegetation</td>\n",
       "      <td>177</td>\n",
       "      <td>5</td>\n",
       "    </tr>\n",
       "    <tr>\n",
       "      <th>8</th>\n",
       "      <td>34</td>\n",
       "      <td>Other vegetation</td>\n",
       "      <td>311</td>\n",
       "      <td>7</td>\n",
       "    </tr>\n",
       "    <tr>\n",
       "      <th>9</th>\n",
       "      <td>41</td>\n",
       "      <td>Inland waters</td>\n",
       "      <td>188</td>\n",
       "      <td>8</td>\n",
       "    </tr>\n",
       "    <tr>\n",
       "      <th>10</th>\n",
       "      <td>51</td>\n",
       "      <td>Shadows</td>\n",
       "      <td>176</td>\n",
       "      <td>14</td>\n",
       "    </tr>\n",
       "  </tbody>\n",
       "</table>\n",
       "</div>"
      ],
      "text/plain": [
       "   class_num                       class  number_retained  number_rejected\n",
       "0         11                   Buildings              407               18\n",
       "1         13              Swimming pools              166               16\n",
       "2         14            Asphalt surfaces              139               31\n",
       "3         21         Brown/red bare soil              199                9\n",
       "4         22        White/grey bare soil              170               21\n",
       "5         31                       Trees              192               22\n",
       "6         32  Mixed bare soil/vegetation              199               23\n",
       "7         33              Dry vegetation              177                5\n",
       "8         34            Other vegetation              311                7\n",
       "9         41               Inland waters              188                8\n",
       "10        51                     Shadows              176               14"
      ]
     },
     "execution_count": 244,
     "metadata": {},
     "output_type": "execute_result"
    }
   ],
   "source": [
    "#### Show number of retained and rejected for each class\n",
    "# Query\n",
    "query=\"WITH \\\n",
    "rejected AS(\\\n",
    "SELECT class_num, min(class) AS class, count(seg_id) AS number_rejected FROM \"+schema+\".outlier_segments \\\n",
    "WHERE remove='yes' \\\n",
    "GROUP BY class_num \\\n",
    "ORDER BY class_num), \\\n",
    "\\\n",
    "retained AS(\\\n",
    "SELECT class_num, min(class) AS class, count(seg_id) AS number_retained FROM \"+schema+\".outlier_segments \\\n",
    "WHERE remove='no' \\\n",
    "GROUP BY class_num \\\n",
    "ORDER BY class_num) \\\n",
    "\\\n",
    "SELECT a.class_num, a.class, number_retained, number_rejected \\\n",
    "FROM retained AS a LEFT JOIN rejected AS b \\\n",
    "ON a.class=b.class\"\n",
    "# Execute query through panda\n",
    "df=pd.read_sql(query, db)\n",
    "# Show dataframe\n",
    "df.head(20)"
   ]
  },
  {
   "cell_type": "code",
   "execution_count": 245,
   "metadata": {
    "collapsed": true
   },
   "outputs": [],
   "source": [
    "#### Remove rejected segments from the 'sample_stat' table\n",
    "# Query\n",
    "query=\"DELETE FROM \"+schema+\".\"+sample_stats+\" AS a \\\n",
    "USING \"+schema+\".outlier_segments AS b \\\n",
    "WHERE a.seg_id=b.seg_id AND b.remove='yes'\"\n",
    "# Execute the CREATE TABLE query \n",
    "cur.execute(query)\n",
    "# Make the changes to the database persistent\n",
    "db.commit()"
   ]
  },
  {
   "cell_type": "code",
   "execution_count": 246,
   "metadata": {},
   "outputs": [
    {
     "data": {
      "text/html": [
       "<div>\n",
       "<table border=\"1\" class=\"dataframe\">\n",
       "  <thead>\n",
       "    <tr style=\"text-align: right;\">\n",
       "      <th></th>\n",
       "      <th>class</th>\n",
       "      <th>class_num</th>\n",
       "      <th>count</th>\n",
       "    </tr>\n",
       "  </thead>\n",
       "  <tbody>\n",
       "    <tr>\n",
       "      <th>0</th>\n",
       "      <td>Buildings</td>\n",
       "      <td>11</td>\n",
       "      <td>411</td>\n",
       "    </tr>\n",
       "    <tr>\n",
       "      <th>1</th>\n",
       "      <td>Swimming pools</td>\n",
       "      <td>13</td>\n",
       "      <td>167</td>\n",
       "    </tr>\n",
       "    <tr>\n",
       "      <th>2</th>\n",
       "      <td>Asphalt surfaces</td>\n",
       "      <td>14</td>\n",
       "      <td>140</td>\n",
       "    </tr>\n",
       "    <tr>\n",
       "      <th>3</th>\n",
       "      <td>Brown/red bare soil</td>\n",
       "      <td>21</td>\n",
       "      <td>201</td>\n",
       "    </tr>\n",
       "    <tr>\n",
       "      <th>4</th>\n",
       "      <td>White/grey bare soil</td>\n",
       "      <td>22</td>\n",
       "      <td>171</td>\n",
       "    </tr>\n",
       "    <tr>\n",
       "      <th>5</th>\n",
       "      <td>Trees</td>\n",
       "      <td>31</td>\n",
       "      <td>194</td>\n",
       "    </tr>\n",
       "    <tr>\n",
       "      <th>6</th>\n",
       "      <td>Mixed bare soil/vegetation</td>\n",
       "      <td>32</td>\n",
       "      <td>201</td>\n",
       "    </tr>\n",
       "    <tr>\n",
       "      <th>7</th>\n",
       "      <td>Dry vegetation</td>\n",
       "      <td>33</td>\n",
       "      <td>178</td>\n",
       "    </tr>\n",
       "    <tr>\n",
       "      <th>8</th>\n",
       "      <td>Other vegetation</td>\n",
       "      <td>34</td>\n",
       "      <td>314</td>\n",
       "    </tr>\n",
       "    <tr>\n",
       "      <th>9</th>\n",
       "      <td>Inland waters</td>\n",
       "      <td>41</td>\n",
       "      <td>189</td>\n",
       "    </tr>\n",
       "    <tr>\n",
       "      <th>10</th>\n",
       "      <td>Shadows</td>\n",
       "      <td>51</td>\n",
       "      <td>177</td>\n",
       "    </tr>\n",
       "  </tbody>\n",
       "</table>\n",
       "</div>"
      ],
      "text/plain": [
       "                         class class_num  count\n",
       "0                    Buildings        11    411\n",
       "1               Swimming pools        13    167\n",
       "2             Asphalt surfaces        14    140\n",
       "3          Brown/red bare soil        21    201\n",
       "4         White/grey bare soil        22    171\n",
       "5                        Trees        31    194\n",
       "6   Mixed bare soil/vegetation        32    201\n",
       "7               Dry vegetation        33    178\n",
       "8             Other vegetation        34    314\n",
       "9                Inland waters        41    189\n",
       "10                     Shadows        51    177"
      ]
     },
     "execution_count": 246,
     "metadata": {},
     "output_type": "execute_result"
    }
   ],
   "source": [
    "# Query to find the number of row in the sample table\n",
    "query=\"SELECT class, min(class_num) as class_num, count(*) FROM \"+schema+\".\"+sample_stats+\" \\\n",
    "GROUP BY class \\\n",
    "ORDER BY max(class_num) ASC\"\n",
    "# Execute query through panda\n",
    "df_countperclass=pd.read_sql(query, db)\n",
    "# Show dataframe\n",
    "df_countperclass.head(5000)"
   ]
  },
  {
   "cell_type": "code",
   "execution_count": 247,
   "metadata": {
    "scrolled": true
   },
   "outputs": [
    {
     "name": "stdout",
     "output_type": "stream",
     "text": [
      "Filtred sample counts 2343 points.\n"
     ]
    }
   ],
   "source": [
    "# Print the total number in sample \n",
    "print \"Filtred sample counts \"+str(sum(df_countperclass['count']))+\" points.\""
   ]
  },
  {
   "cell_type": "markdown",
   "metadata": {
    "collapsed": true
   },
   "source": [
    "### Check if size of sample is sufficient"
   ]
  },
  {
   "cell_type": "code",
   "execution_count": 248,
   "metadata": {},
   "outputs": [
    {
     "name": "stdout",
     "output_type": "stream",
     "text": [
      "The size of the sample is sufficient\n"
     ]
    }
   ],
   "source": [
    "## Set the minimum size of sample for each class\n",
    "minimumsize=60\n",
    "## Check for each class if the number of sample at least equals the minimum size\n",
    "checkvariable=0\n",
    "for row in range(0,len(df_countperclass.index)):\n",
    "    if int(df_countperclass.loc[row,['count']])<minimumsize:\n",
    "        checkvariable+=1\n",
    "        print \"WARNING: The minimum number of sample is not respected for class '\"+list(df_countperclass.loc[row,['class']])[0]+\"'\"\n",
    "if checkvariable<=0:\n",
    "        print \"The size of the sample is sufficient\""
   ]
  },
  {
   "cell_type": "markdown",
   "metadata": {
    "collapsed": true
   },
   "source": [
    "### Export sample as .csv for archive"
   ]
  },
  {
   "cell_type": "code",
   "execution_count": 249,
   "metadata": {
    "collapsed": true
   },
   "outputs": [],
   "source": [
    "## Define the path to the .csv output\n",
    "sample_stats_csv=os.path.join(outputfolder,mapsetname+\"_sample_stats.csv\")"
   ]
  },
  {
   "cell_type": "code",
   "execution_count": 250,
   "metadata": {
    "collapsed": true
   },
   "outputs": [],
   "source": [
    "#### Export as .csv\n",
    "# Query\n",
    "query=\"COPY \"+schema+\".\"+sample_stats+\" TO '\"+sample_stats_csv+\"' DELIMITER ',' CSV HEADER\"\n",
    "# Execute the CREATE TABLE query \n",
    "cur.execute(query)\n",
    "# Make the changes to the database persistent\n",
    "db.commit()"
   ]
  },
  {
   "cell_type": "code",
   "execution_count": 251,
   "metadata": {
    "collapsed": true
   },
   "outputs": [],
   "source": [
    "# Close cursor and communication with the database\n",
    "cur.close()\n",
    "db.close()"
   ]
  },
  {
   "cell_type": "markdown",
   "metadata": {
    "collapsed": true
   },
   "source": [
    "### Random selection of test set and training set"
   ]
  },
  {
   "cell_type": "code",
   "execution_count": 252,
   "metadata": {
    "collapsed": true
   },
   "outputs": [],
   "source": [
    "# Connect to an existing database\n",
    "db=pg.connect(database=dbname, user=dbuser, password=dbpassword, host=host)\n",
    "# Open a cursor to perform database operations\n",
    "cur=db.cursor()"
   ]
  },
  {
   "cell_type": "code",
   "execution_count": 253,
   "metadata": {},
   "outputs": [
    {
     "name": "stdout",
     "output_type": "stream",
     "text": [
      "11 distinct classes are 21,51,34,13,33,32,31,14,41,11,22\n"
     ]
    }
   ],
   "source": [
    "## Create a list with distinct values of class\n",
    "class_column=\"class_num\"\n",
    "query=\"SELECT DISTINCT \"+class_column+\" AS distinct_class from \"+schema+\".\"+sample_stats\n",
    "# Execute query through panda\n",
    "df=pd.read_sql(query, db)\n",
    "# Save estimated number of objects\n",
    "class_list=list(df['distinct_class'])\n",
    "# Print\n",
    "print str(len(class_list))+\" distinct classes are \"+\",\".join(class_list)"
   ]
  },
  {
   "cell_type": "markdown",
   "metadata": {},
   "source": [
    "**Select test samples**"
   ]
  },
  {
   "cell_type": "code",
   "execution_count": 254,
   "metadata": {},
   "outputs": [
    {
     "name": "stdout",
     "output_type": "stream",
     "text": [
      "440 samples will be selected for test\n"
     ]
    }
   ],
   "source": [
    "## Loop on the class_list and save cat_point in a list\n",
    "number_test_perclass=40\n",
    "testsample_list=[]\n",
    "for distinct_class in class_list:\n",
    "    query=\"SELECT cat_point FROM \"+schema+\".\"+sample_stats+\" WHERE random() < 0.5 \\\n",
    "    AND \"+class_column+\"='\"+distinct_class+\"'\\\n",
    "    ORDER BY random() LIMIT 40\"\n",
    "    # Execute query through panda\n",
    "    df=pd.read_sql(query, db)\n",
    "    # Save estimated number of objects\n",
    "    for x in list(df['cat_point']):\n",
    "        testsample_list.append(str(x))\n",
    "    \n",
    "# Print\n",
    "print str(len(testsample_list))+\" samples will be selected for test\""
   ]
  },
  {
   "cell_type": "code",
   "execution_count": 255,
   "metadata": {
    "collapsed": true
   },
   "outputs": [],
   "source": [
    "# Drop table if exists:\n",
    "cur.execute(\"DROP TABLE IF EXISTS \"+schema+\".\"+sample_test)\n",
    "# Make the changes to the database persistent\n",
    "db.commit()\n",
    "# Subquery\n",
    "subquery1=\"SELECT * FROM \"+schema+\".\"+sample_stats+\" \\\n",
    "WHERE cat_point IN (\"+\",\".join(testsample_list)+\")\"\n",
    "# Query\n",
    "query=\"CREATE TABLE \"+schema+\".\"+sample_test+\" AS(\"+subquery1+\")\"\n",
    "# Execute the CREATE TABLE query \n",
    "cur.execute(query)\n",
    "# Make the changes to the database persistent\n",
    "db.commit()"
   ]
  },
  {
   "cell_type": "code",
   "execution_count": 256,
   "metadata": {},
   "outputs": [
    {
     "data": {
      "text/html": [
       "<div>\n",
       "<table border=\"1\" class=\"dataframe\">\n",
       "  <thead>\n",
       "    <tr style=\"text-align: right;\">\n",
       "      <th></th>\n",
       "      <th>class</th>\n",
       "      <th>class_num</th>\n",
       "      <th>count</th>\n",
       "    </tr>\n",
       "  </thead>\n",
       "  <tbody>\n",
       "    <tr>\n",
       "      <th>0</th>\n",
       "      <td>Buildings</td>\n",
       "      <td>11</td>\n",
       "      <td>40</td>\n",
       "    </tr>\n",
       "    <tr>\n",
       "      <th>1</th>\n",
       "      <td>Swimming pools</td>\n",
       "      <td>13</td>\n",
       "      <td>40</td>\n",
       "    </tr>\n",
       "    <tr>\n",
       "      <th>2</th>\n",
       "      <td>Asphalt surfaces</td>\n",
       "      <td>14</td>\n",
       "      <td>40</td>\n",
       "    </tr>\n",
       "    <tr>\n",
       "      <th>3</th>\n",
       "      <td>Brown/red bare soil</td>\n",
       "      <td>21</td>\n",
       "      <td>40</td>\n",
       "    </tr>\n",
       "    <tr>\n",
       "      <th>4</th>\n",
       "      <td>White/grey bare soil</td>\n",
       "      <td>22</td>\n",
       "      <td>40</td>\n",
       "    </tr>\n",
       "    <tr>\n",
       "      <th>5</th>\n",
       "      <td>Trees</td>\n",
       "      <td>31</td>\n",
       "      <td>40</td>\n",
       "    </tr>\n",
       "    <tr>\n",
       "      <th>6</th>\n",
       "      <td>Mixed bare soil/vegetation</td>\n",
       "      <td>32</td>\n",
       "      <td>40</td>\n",
       "    </tr>\n",
       "    <tr>\n",
       "      <th>7</th>\n",
       "      <td>Dry vegetation</td>\n",
       "      <td>33</td>\n",
       "      <td>40</td>\n",
       "    </tr>\n",
       "    <tr>\n",
       "      <th>8</th>\n",
       "      <td>Other vegetation</td>\n",
       "      <td>34</td>\n",
       "      <td>40</td>\n",
       "    </tr>\n",
       "    <tr>\n",
       "      <th>9</th>\n",
       "      <td>Inland waters</td>\n",
       "      <td>41</td>\n",
       "      <td>40</td>\n",
       "    </tr>\n",
       "    <tr>\n",
       "      <th>10</th>\n",
       "      <td>Shadows</td>\n",
       "      <td>51</td>\n",
       "      <td>40</td>\n",
       "    </tr>\n",
       "  </tbody>\n",
       "</table>\n",
       "</div>"
      ],
      "text/plain": [
       "                         class class_num  count\n",
       "0                    Buildings        11     40\n",
       "1               Swimming pools        13     40\n",
       "2             Asphalt surfaces        14     40\n",
       "3          Brown/red bare soil        21     40\n",
       "4         White/grey bare soil        22     40\n",
       "5                        Trees        31     40\n",
       "6   Mixed bare soil/vegetation        32     40\n",
       "7               Dry vegetation        33     40\n",
       "8             Other vegetation        34     40\n",
       "9                Inland waters        41     40\n",
       "10                     Shadows        51     40"
      ]
     },
     "execution_count": 256,
     "metadata": {},
     "output_type": "execute_result"
    }
   ],
   "source": [
    "# Query to find the number of row in the test samples\n",
    "query=\"SELECT class, min(class_num) as class_num, count(*) FROM \"+schema+\".\"+sample_test+\" \\\n",
    "GROUP BY class \\\n",
    "ORDER BY max(class_num) ASC\"\n",
    "# Execute query through panda\n",
    "df_countperclass=pd.read_sql(query, db)\n",
    "# Show dataframe\n",
    "df_countperclass.head(5000)"
   ]
  },
  {
   "cell_type": "code",
   "execution_count": 257,
   "metadata": {},
   "outputs": [
    {
     "name": "stdout",
     "output_type": "stream",
     "text": [
      "Test samples counts 440 points.\n"
     ]
    }
   ],
   "source": [
    "# Print the total number in sample \n",
    "print \"Test samples counts \"+str(sum(df_countperclass['count']))+\" points.\""
   ]
  },
  {
   "cell_type": "markdown",
   "metadata": {},
   "source": [
    "**Select training samples**"
   ]
  },
  {
   "cell_type": "code",
   "execution_count": 258,
   "metadata": {
    "collapsed": true
   },
   "outputs": [],
   "source": [
    "# Drop table if exists:\n",
    "cur.execute(\"DROP TABLE IF EXISTS \"+schema+\".\"+sample_training)\n",
    "# Make the changes to the database persistent\n",
    "db.commit()\n",
    "# Subquery\n",
    "subquery1=\"SELECT * FROM \"+schema+\".\"+sample_stats+\" \\\n",
    "WHERE cat_point NOT IN (\"+\",\".join(testsample_list)+\")\"\n",
    "# Query\n",
    "query=\"CREATE TABLE \"+schema+\".\"+sample_training+\" AS(\"+subquery1+\")\"\n",
    "# Execute the CREATE TABLE query \n",
    "cur.execute(query)\n",
    "# Make the changes to the database persistent\n",
    "db.commit()"
   ]
  },
  {
   "cell_type": "code",
   "execution_count": 259,
   "metadata": {},
   "outputs": [
    {
     "data": {
      "text/html": [
       "<div>\n",
       "<table border=\"1\" class=\"dataframe\">\n",
       "  <thead>\n",
       "    <tr style=\"text-align: right;\">\n",
       "      <th></th>\n",
       "      <th>class</th>\n",
       "      <th>class_num</th>\n",
       "      <th>count</th>\n",
       "    </tr>\n",
       "  </thead>\n",
       "  <tbody>\n",
       "    <tr>\n",
       "      <th>0</th>\n",
       "      <td>Buildings</td>\n",
       "      <td>11</td>\n",
       "      <td>371</td>\n",
       "    </tr>\n",
       "    <tr>\n",
       "      <th>1</th>\n",
       "      <td>Swimming pools</td>\n",
       "      <td>13</td>\n",
       "      <td>127</td>\n",
       "    </tr>\n",
       "    <tr>\n",
       "      <th>2</th>\n",
       "      <td>Asphalt surfaces</td>\n",
       "      <td>14</td>\n",
       "      <td>100</td>\n",
       "    </tr>\n",
       "    <tr>\n",
       "      <th>3</th>\n",
       "      <td>Brown/red bare soil</td>\n",
       "      <td>21</td>\n",
       "      <td>161</td>\n",
       "    </tr>\n",
       "    <tr>\n",
       "      <th>4</th>\n",
       "      <td>White/grey bare soil</td>\n",
       "      <td>22</td>\n",
       "      <td>131</td>\n",
       "    </tr>\n",
       "    <tr>\n",
       "      <th>5</th>\n",
       "      <td>Trees</td>\n",
       "      <td>31</td>\n",
       "      <td>154</td>\n",
       "    </tr>\n",
       "    <tr>\n",
       "      <th>6</th>\n",
       "      <td>Mixed bare soil/vegetation</td>\n",
       "      <td>32</td>\n",
       "      <td>161</td>\n",
       "    </tr>\n",
       "    <tr>\n",
       "      <th>7</th>\n",
       "      <td>Dry vegetation</td>\n",
       "      <td>33</td>\n",
       "      <td>138</td>\n",
       "    </tr>\n",
       "    <tr>\n",
       "      <th>8</th>\n",
       "      <td>Other vegetation</td>\n",
       "      <td>34</td>\n",
       "      <td>274</td>\n",
       "    </tr>\n",
       "    <tr>\n",
       "      <th>9</th>\n",
       "      <td>Inland waters</td>\n",
       "      <td>41</td>\n",
       "      <td>149</td>\n",
       "    </tr>\n",
       "    <tr>\n",
       "      <th>10</th>\n",
       "      <td>Shadows</td>\n",
       "      <td>51</td>\n",
       "      <td>137</td>\n",
       "    </tr>\n",
       "  </tbody>\n",
       "</table>\n",
       "</div>"
      ],
      "text/plain": [
       "                         class class_num  count\n",
       "0                    Buildings        11    371\n",
       "1               Swimming pools        13    127\n",
       "2             Asphalt surfaces        14    100\n",
       "3          Brown/red bare soil        21    161\n",
       "4         White/grey bare soil        22    131\n",
       "5                        Trees        31    154\n",
       "6   Mixed bare soil/vegetation        32    161\n",
       "7               Dry vegetation        33    138\n",
       "8             Other vegetation        34    274\n",
       "9                Inland waters        41    149\n",
       "10                     Shadows        51    137"
      ]
     },
     "execution_count": 259,
     "metadata": {},
     "output_type": "execute_result"
    }
   ],
   "source": [
    "# Query to find the number of row in the sample table\n",
    "query=\"SELECT class, min(class_num) as class_num, count(*) FROM \"+schema+\".\"+sample_training+\" \\\n",
    "GROUP BY class \\\n",
    "ORDER BY max(class_num) ASC\"\n",
    "# Execute query through panda\n",
    "df_countperclass=pd.read_sql(query, db)\n",
    "# Show dataframe\n",
    "df_countperclass.head(5000)"
   ]
  },
  {
   "cell_type": "code",
   "execution_count": 260,
   "metadata": {},
   "outputs": [
    {
     "name": "stdout",
     "output_type": "stream",
     "text": [
      "Training samples counts 1903 points.\n"
     ]
    }
   ],
   "source": [
    "# Print the total number in sample \n",
    "print \"Training samples counts \"+str(sum(df_countperclass['count']))+\" points.\""
   ]
  },
  {
   "cell_type": "markdown",
   "metadata": {
    "collapsed": true
   },
   "source": [
    "**Export sample as .csv for archive**"
   ]
  },
  {
   "cell_type": "code",
   "execution_count": 28,
   "metadata": {
    "collapsed": true
   },
   "outputs": [],
   "source": [
    "## Define the path to the .csv output\n",
    "sample_training_csv=os.path.join(outputfolder,mapsetname+\"_sample_training.csv\")\n",
    "sample_test_csv=os.path.join(outputfolder,mapsetname+\"_sample_validation.csv\")"
   ]
  },
  {
   "cell_type": "code",
   "execution_count": 262,
   "metadata": {
    "collapsed": true
   },
   "outputs": [],
   "source": [
    "# Drop some non wanted columns\n",
    "query=\"ALTER TABLE \"+schema+\".\"+sample_training+\" \\\n",
    "DROP COLUMN code, \\\n",
    "DROP COLUMN code_roof, \\\n",
    "DROP COLUMN class, \\\n",
    "DROP COLUMN osm, \\\n",
    "DROP COLUMN seg_id, \\\n",
    "DROP COLUMN cat\"\n",
    "# Execute the query \n",
    "cur.execute(query)\n",
    "# Make the changes to the database persistent\n",
    "db.commit()"
   ]
  },
  {
   "cell_type": "code",
   "execution_count": 263,
   "metadata": {
    "collapsed": true
   },
   "outputs": [],
   "source": [
    "# Drop some non wanted columns\n",
    "query=\"ALTER TABLE \"+schema+\".\"+sample_test+\" \\\n",
    "DROP COLUMN code, \\\n",
    "DROP COLUMN code_roof, \\\n",
    "DROP COLUMN class, \\\n",
    "DROP COLUMN osm, \\\n",
    "DROP COLUMN seg_id, \\\n",
    "DROP COLUMN cat\"\n",
    "# Execute the query \n",
    "cur.execute(query)\n",
    "# Make the changes to the database persistent\n",
    "db.commit()"
   ]
  },
  {
   "cell_type": "code",
   "execution_count": 264,
   "metadata": {
    "collapsed": true
   },
   "outputs": [],
   "source": [
    "#### Export as .csv\n",
    "# Query\n",
    "query=\"COPY \"+schema+\".\"+sample_training+\" TO '\"+sample_training_csv+\"' DELIMITER ',' CSV HEADER\"\n",
    "# Execute the CREATE TABLE query \n",
    "cur.execute(query)\n",
    "# Make the changes to the database persistent\n",
    "db.commit()"
   ]
  },
  {
   "cell_type": "code",
   "execution_count": 265,
   "metadata": {
    "collapsed": true
   },
   "outputs": [],
   "source": [
    "#### Export as .csv\n",
    "# Query\n",
    "query=\"COPY \"+schema+\".\"+sample_test+\" TO '\"+sample_test_csv+\"' DELIMITER ',' CSV HEADER\"\n",
    "# Execute the CREATE TABLE query \n",
    "cur.execute(query)\n",
    "# Make the changes to the database persistent\n",
    "db.commit()"
   ]
  },
  {
   "cell_type": "code",
   "execution_count": 266,
   "metadata": {
    "collapsed": true
   },
   "outputs": [],
   "source": [
    "# Close cursor and communication with the database\n",
    "cur.close()\n",
    "db.close()"
   ]
  },
  {
   "cell_type": "markdown",
   "metadata": {
    "collapsed": true
   },
   "source": [
    "<center> <font size=5> <h1>Feature selection</h1> </font> </center>  "
   ]
  },
  {
   "cell_type": "markdown",
   "metadata": {
    "collapsed": true
   },
   "source": [
    "### Import and load extension rpy2"
   ]
  },
  {
   "cell_type": "code",
   "execution_count": 29,
   "metadata": {
    "collapsed": true
   },
   "outputs": [],
   "source": [
    "import rpy2"
   ]
  },
  {
   "cell_type": "code",
   "execution_count": 30,
   "metadata": {},
   "outputs": [
    {
     "name": "stdout",
     "output_type": "stream",
     "text": [
      "The rpy2.ipython extension is already loaded. To reload it, use:\n",
      "  %reload_ext rpy2.ipython\n"
     ]
    }
   ],
   "source": [
    "%load_ext rpy2.ipython"
   ]
  },
  {
   "cell_type": "markdown",
   "metadata": {
    "collapsed": true
   },
   "source": [
    "### Import training set in R"
   ]
  },
  {
   "cell_type": "code",
   "execution_count": 31,
   "metadata": {
    "collapsed": true
   },
   "outputs": [],
   "source": [
    "%%R -i sample_training_csv -o training\n",
    "# Import training\n",
    "training <- read.csv(sample_training_csv, sep=\",\", header=TRUE, row.names=1)\n",
    "training$class_num <- as.factor(training$class_num)"
   ]
  },
  {
   "cell_type": "code",
   "execution_count": 32,
   "metadata": {},
   "outputs": [
    {
     "data": {
      "text/html": [
       "<div>\n",
       "<table border=\"1\" class=\"dataframe\">\n",
       "  <thead>\n",
       "    <tr style=\"text-align: right;\">\n",
       "      <th></th>\n",
       "      <th>id</th>\n",
       "      <th>class_num</th>\n",
       "      <th>roof_num</th>\n",
       "      <th>area</th>\n",
       "      <th>perimeter</th>\n",
       "      <th>compact_circle</th>\n",
       "      <th>compact_square</th>\n",
       "      <th>fd</th>\n",
       "      <th>opt_blue_min</th>\n",
       "      <th>opt_blue_max</th>\n",
       "      <th>...</th>\n",
       "      <th>ndsm_perc_90</th>\n",
       "      <th>ndvi_min</th>\n",
       "      <th>ndvi_max</th>\n",
       "      <th>ndvi_range</th>\n",
       "      <th>ndvi_mean</th>\n",
       "      <th>ndvi_stddev</th>\n",
       "      <th>ndvi_median</th>\n",
       "      <th>ndvi_first_quart</th>\n",
       "      <th>ndvi_third_quart</th>\n",
       "      <th>ndvi_perc_90</th>\n",
       "    </tr>\n",
       "  </thead>\n",
       "  <tbody>\n",
       "    <tr>\n",
       "      <th>1</th>\n",
       "      <td>43</td>\n",
       "      <td>11</td>\n",
       "      <td>110</td>\n",
       "      <td>81</td>\n",
       "      <td>52</td>\n",
       "      <td>1.629881</td>\n",
       "      <td>0.692308</td>\n",
       "      <td>1.798283</td>\n",
       "      <td>340</td>\n",
       "      <td>517</td>\n",
       "      <td>...</td>\n",
       "      <td>0.921844</td>\n",
       "      <td>-0.024700</td>\n",
       "      <td>0.109208</td>\n",
       "      <td>0.133908</td>\n",
       "      <td>0.026219</td>\n",
       "      <td>0.032277</td>\n",
       "      <td>0.020000</td>\n",
       "      <td>0.000786</td>\n",
       "      <td>0.048626</td>\n",
       "      <td>0.074045</td>\n",
       "    </tr>\n",
       "    <tr>\n",
       "      <th>2</th>\n",
       "      <td>47</td>\n",
       "      <td>11</td>\n",
       "      <td>113</td>\n",
       "      <td>32</td>\n",
       "      <td>24</td>\n",
       "      <td>1.196827</td>\n",
       "      <td>0.942809</td>\n",
       "      <td>1.833968</td>\n",
       "      <td>358</td>\n",
       "      <td>417</td>\n",
       "      <td>...</td>\n",
       "      <td>3.671480</td>\n",
       "      <td>0.003589</td>\n",
       "      <td>0.097931</td>\n",
       "      <td>0.094342</td>\n",
       "      <td>0.045771</td>\n",
       "      <td>0.021169</td>\n",
       "      <td>0.044261</td>\n",
       "      <td>0.031821</td>\n",
       "      <td>0.057249</td>\n",
       "      <td>0.069552</td>\n",
       "    </tr>\n",
       "    <tr>\n",
       "      <th>3</th>\n",
       "      <td>49</td>\n",
       "      <td>11</td>\n",
       "      <td>110</td>\n",
       "      <td>2353</td>\n",
       "      <td>382</td>\n",
       "      <td>2.221506</td>\n",
       "      <td>0.507934</td>\n",
       "      <td>1.531645</td>\n",
       "      <td>277</td>\n",
       "      <td>608</td>\n",
       "      <td>...</td>\n",
       "      <td>8.749240</td>\n",
       "      <td>0.037727</td>\n",
       "      <td>0.401734</td>\n",
       "      <td>0.364007</td>\n",
       "      <td>0.130912</td>\n",
       "      <td>0.022166</td>\n",
       "      <td>0.129074</td>\n",
       "      <td>0.123288</td>\n",
       "      <td>0.134809</td>\n",
       "      <td>0.145917</td>\n",
       "    </tr>\n",
       "    <tr>\n",
       "      <th>4</th>\n",
       "      <td>57</td>\n",
       "      <td>11</td>\n",
       "      <td>110</td>\n",
       "      <td>113</td>\n",
       "      <td>66</td>\n",
       "      <td>1.751458</td>\n",
       "      <td>0.644251</td>\n",
       "      <td>1.772500</td>\n",
       "      <td>306</td>\n",
       "      <td>455</td>\n",
       "      <td>...</td>\n",
       "      <td>0.301270</td>\n",
       "      <td>-0.005551</td>\n",
       "      <td>0.206005</td>\n",
       "      <td>0.211556</td>\n",
       "      <td>0.050478</td>\n",
       "      <td>0.032289</td>\n",
       "      <td>0.044828</td>\n",
       "      <td>0.027888</td>\n",
       "      <td>0.065026</td>\n",
       "      <td>0.089394</td>\n",
       "    </tr>\n",
       "    <tr>\n",
       "      <th>5</th>\n",
       "      <td>58</td>\n",
       "      <td>11</td>\n",
       "      <td>110</td>\n",
       "      <td>59</td>\n",
       "      <td>38</td>\n",
       "      <td>1.395573</td>\n",
       "      <td>0.808542</td>\n",
       "      <td>1.784200</td>\n",
       "      <td>347</td>\n",
       "      <td>427</td>\n",
       "      <td>...</td>\n",
       "      <td>3.633480</td>\n",
       "      <td>-0.034483</td>\n",
       "      <td>0.117117</td>\n",
       "      <td>0.151600</td>\n",
       "      <td>0.058189</td>\n",
       "      <td>0.031156</td>\n",
       "      <td>0.062016</td>\n",
       "      <td>0.040052</td>\n",
       "      <td>0.079768</td>\n",
       "      <td>0.087201</td>\n",
       "    </tr>\n",
       "  </tbody>\n",
       "</table>\n",
       "<p>5 rows × 62 columns</p>\n",
       "</div>"
      ],
      "text/plain": [
       "   id class_num  roof_num  area  perimeter  compact_circle  compact_square  \\\n",
       "1  43        11       110    81         52        1.629881        0.692308   \n",
       "2  47        11       113    32         24        1.196827        0.942809   \n",
       "3  49        11       110  2353        382        2.221506        0.507934   \n",
       "4  57        11       110   113         66        1.751458        0.644251   \n",
       "5  58        11       110    59         38        1.395573        0.808542   \n",
       "\n",
       "         fd  opt_blue_min  opt_blue_max      ...       ndsm_perc_90  ndvi_min  \\\n",
       "1  1.798283           340           517      ...           0.921844 -0.024700   \n",
       "2  1.833968           358           417      ...           3.671480  0.003589   \n",
       "3  1.531645           277           608      ...           8.749240  0.037727   \n",
       "4  1.772500           306           455      ...           0.301270 -0.005551   \n",
       "5  1.784200           347           427      ...           3.633480 -0.034483   \n",
       "\n",
       "   ndvi_max  ndvi_range  ndvi_mean  ndvi_stddev  ndvi_median  \\\n",
       "1  0.109208    0.133908   0.026219     0.032277     0.020000   \n",
       "2  0.097931    0.094342   0.045771     0.021169     0.044261   \n",
       "3  0.401734    0.364007   0.130912     0.022166     0.129074   \n",
       "4  0.206005    0.211556   0.050478     0.032289     0.044828   \n",
       "5  0.117117    0.151600   0.058189     0.031156     0.062016   \n",
       "\n",
       "   ndvi_first_quart  ndvi_third_quart  ndvi_perc_90  \n",
       "1          0.000786          0.048626      0.074045  \n",
       "2          0.031821          0.057249      0.069552  \n",
       "3          0.123288          0.134809      0.145917  \n",
       "4          0.027888          0.065026      0.089394  \n",
       "5          0.040052          0.079768      0.087201  \n",
       "\n",
       "[5 rows x 62 columns]"
      ]
     },
     "execution_count": 32,
     "metadata": {},
     "output_type": "execute_result"
    }
   ],
   "source": [
    "training.head()"
   ]
  },
  {
   "cell_type": "code",
   "execution_count": 33,
   "metadata": {
    "collapsed": true
   },
   "outputs": [],
   "source": [
    "%%R -o colname\n",
    "colname<-colnames(training)"
   ]
  },
  {
   "cell_type": "code",
   "execution_count": 34,
   "metadata": {},
   "outputs": [
    {
     "name": "stdout",
     "output_type": "stream",
     "text": [
      "['id', 'class_num', 'roof_num', 'area', 'perimeter', 'compact_circle', 'compact_square', 'fd', 'opt_blue_min', 'opt_blue_max', 'opt_blue_range', 'opt_blue_mean', 'opt_blue_stddev', 'opt_blue_median', 'opt_blue_first_quart', 'opt_blue_third_quart', 'opt_blue_perc_90', 'opt_green_min', 'opt_green_max', 'opt_green_range', 'opt_green_mean', 'opt_green_stddev', 'opt_green_median', 'opt_green_first_quart', 'opt_green_third_quart', 'opt_green_perc_90', 'opt_red_min', 'opt_red_max', 'opt_red_range', 'opt_red_mean', 'opt_red_stddev', 'opt_red_median', 'opt_red_first_quart', 'opt_red_third_quart', 'opt_red_perc_90', 'opt_nir_min', 'opt_nir_max', 'opt_nir_range', 'opt_nir_mean', 'opt_nir_stddev', 'opt_nir_median', 'opt_nir_first_quart', 'opt_nir_third_quart', 'opt_nir_perc_90', 'ndsm_min', 'ndsm_max', 'ndsm_range', 'ndsm_mean', 'ndsm_stddev', 'ndsm_median', 'ndsm_first_quart', 'ndsm_third_quart', 'ndsm_perc_90', 'ndvi_min', 'ndvi_max', 'ndvi_range', 'ndvi_mean', 'ndvi_stddev', 'ndvi_median', 'ndvi_first_quart', 'ndvi_third_quart', 'ndvi_perc_90']\n"
     ]
    }
   ],
   "source": [
    "# Create a list with the column name\n",
    "print list(colname)"
   ]
  },
  {
   "cell_type": "code",
   "execution_count": 35,
   "metadata": {
    "collapsed": true
   },
   "outputs": [],
   "source": [
    "# Set the name of the colum with class\n",
    "class_column='class_num'\n",
    "# Set the name of the colum with the first feature to be used\n",
    "first_feature='area'\n",
    "# Set the name of the colum with the last feature to be used\n",
    "last_feature='ndvi_perc_90'"
   ]
  },
  {
   "cell_type": "code",
   "execution_count": 36,
   "metadata": {
    "collapsed": true
   },
   "outputs": [],
   "source": [
    "%%R -i class_column,first_feature,last_feature -o features\n",
    "\n",
    "# Save the index of the column\n",
    "classnumindex=match(c(class_column),colname)\n",
    "# Save the index where object's features to be used start\n",
    "startindex=match(c(first_feature),colname)\n",
    "# Save the index where object's features to be used stop\n",
    "stopindex=match(c(last_feature),colname)\n",
    "\n",
    "# Create dataframe with only columns to be used features\n",
    "temp1<-as.data.frame(training[classnumindex])\n",
    "temp2<-as.data.frame(training[startindex:stopindex])\n",
    "merged_df=merge(temp1,temp2, by=0, all=TRUE)\n",
    "features<-transform(merged_df, row.names=Row.names, Row.names=NULL)\n",
    "# Set class column as factor\n",
    "features$class_num <- as.factor(features$class_num)"
   ]
  },
  {
   "cell_type": "code",
   "execution_count": 37,
   "metadata": {},
   "outputs": [
    {
     "data": {
      "text/html": [
       "<div>\n",
       "<table border=\"1\" class=\"dataframe\">\n",
       "  <thead>\n",
       "    <tr style=\"text-align: right;\">\n",
       "      <th></th>\n",
       "      <th>class_num</th>\n",
       "      <th>area</th>\n",
       "      <th>perimeter</th>\n",
       "      <th>compact_circle</th>\n",
       "      <th>compact_square</th>\n",
       "      <th>fd</th>\n",
       "      <th>opt_blue_min</th>\n",
       "      <th>opt_blue_max</th>\n",
       "      <th>opt_blue_range</th>\n",
       "      <th>opt_blue_mean</th>\n",
       "      <th>...</th>\n",
       "      <th>ndsm_perc_90</th>\n",
       "      <th>ndvi_min</th>\n",
       "      <th>ndvi_max</th>\n",
       "      <th>ndvi_range</th>\n",
       "      <th>ndvi_mean</th>\n",
       "      <th>ndvi_stddev</th>\n",
       "      <th>ndvi_median</th>\n",
       "      <th>ndvi_first_quart</th>\n",
       "      <th>ndvi_third_quart</th>\n",
       "      <th>ndvi_perc_90</th>\n",
       "    </tr>\n",
       "  </thead>\n",
       "  <tbody>\n",
       "    <tr>\n",
       "      <th>1</th>\n",
       "      <td>11</td>\n",
       "      <td>81</td>\n",
       "      <td>52</td>\n",
       "      <td>1.629881</td>\n",
       "      <td>0.692308</td>\n",
       "      <td>1.798283</td>\n",
       "      <td>340</td>\n",
       "      <td>517</td>\n",
       "      <td>177</td>\n",
       "      <td>429.901235</td>\n",
       "      <td>...</td>\n",
       "      <td>0.921844</td>\n",
       "      <td>-0.024700</td>\n",
       "      <td>0.109208</td>\n",
       "      <td>0.133908</td>\n",
       "      <td>0.026219</td>\n",
       "      <td>0.032277</td>\n",
       "      <td>0.020000</td>\n",
       "      <td>0.000786</td>\n",
       "      <td>0.048626</td>\n",
       "      <td>0.074045</td>\n",
       "    </tr>\n",
       "    <tr>\n",
       "      <th>10</th>\n",
       "      <td>11</td>\n",
       "      <td>91</td>\n",
       "      <td>64</td>\n",
       "      <td>1.892580</td>\n",
       "      <td>0.596212</td>\n",
       "      <td>1.843938</td>\n",
       "      <td>289</td>\n",
       "      <td>405</td>\n",
       "      <td>116</td>\n",
       "      <td>361.296703</td>\n",
       "      <td>...</td>\n",
       "      <td>0.030548</td>\n",
       "      <td>-0.004808</td>\n",
       "      <td>0.164480</td>\n",
       "      <td>0.169288</td>\n",
       "      <td>0.050845</td>\n",
       "      <td>0.039133</td>\n",
       "      <td>0.038462</td>\n",
       "      <td>0.020721</td>\n",
       "      <td>0.075252</td>\n",
       "      <td>0.103650</td>\n",
       "    </tr>\n",
       "    <tr>\n",
       "      <th>100</th>\n",
       "      <td>11</td>\n",
       "      <td>601</td>\n",
       "      <td>144</td>\n",
       "      <td>1.656992</td>\n",
       "      <td>0.680981</td>\n",
       "      <td>1.553407</td>\n",
       "      <td>325</td>\n",
       "      <td>462</td>\n",
       "      <td>137</td>\n",
       "      <td>398.399334</td>\n",
       "      <td>...</td>\n",
       "      <td>5.125640</td>\n",
       "      <td>-0.037594</td>\n",
       "      <td>0.138268</td>\n",
       "      <td>0.175862</td>\n",
       "      <td>0.021246</td>\n",
       "      <td>0.022645</td>\n",
       "      <td>0.015449</td>\n",
       "      <td>0.008772</td>\n",
       "      <td>0.027377</td>\n",
       "      <td>0.052632</td>\n",
       "    </tr>\n",
       "    <tr>\n",
       "      <th>1000</th>\n",
       "      <td>34</td>\n",
       "      <td>5076</td>\n",
       "      <td>1084</td>\n",
       "      <td>4.292038</td>\n",
       "      <td>0.262901</td>\n",
       "      <td>1.638112</td>\n",
       "      <td>179</td>\n",
       "      <td>319</td>\n",
       "      <td>140</td>\n",
       "      <td>244.569543</td>\n",
       "      <td>...</td>\n",
       "      <td>0.678680</td>\n",
       "      <td>0.349186</td>\n",
       "      <td>0.800000</td>\n",
       "      <td>0.450814</td>\n",
       "      <td>0.570151</td>\n",
       "      <td>0.057858</td>\n",
       "      <td>0.568108</td>\n",
       "      <td>0.533026</td>\n",
       "      <td>0.608546</td>\n",
       "      <td>0.642218</td>\n",
       "    </tr>\n",
       "    <tr>\n",
       "      <th>1001</th>\n",
       "      <td>21</td>\n",
       "      <td>23989</td>\n",
       "      <td>7458</td>\n",
       "      <td>13.583490</td>\n",
       "      <td>0.083070</td>\n",
       "      <td>1.768316</td>\n",
       "      <td>221</td>\n",
       "      <td>858</td>\n",
       "      <td>637</td>\n",
       "      <td>312.367752</td>\n",
       "      <td>...</td>\n",
       "      <td>0.526550</td>\n",
       "      <td>-0.055258</td>\n",
       "      <td>0.405333</td>\n",
       "      <td>0.460592</td>\n",
       "      <td>0.124886</td>\n",
       "      <td>0.033595</td>\n",
       "      <td>0.117091</td>\n",
       "      <td>0.104575</td>\n",
       "      <td>0.138065</td>\n",
       "      <td>0.169582</td>\n",
       "    </tr>\n",
       "  </tbody>\n",
       "</table>\n",
       "<p>5 rows × 60 columns</p>\n",
       "</div>"
      ],
      "text/plain": [
       "     class_num   area  perimeter  compact_circle  compact_square        fd  \\\n",
       "1           11     81         52        1.629881        0.692308  1.798283   \n",
       "10          11     91         64        1.892580        0.596212  1.843938   \n",
       "100         11    601        144        1.656992        0.680981  1.553407   \n",
       "1000        34   5076       1084        4.292038        0.262901  1.638112   \n",
       "1001        21  23989       7458       13.583490        0.083070  1.768316   \n",
       "\n",
       "      opt_blue_min  opt_blue_max  opt_blue_range  opt_blue_mean      ...       \\\n",
       "1              340           517             177     429.901235      ...        \n",
       "10             289           405             116     361.296703      ...        \n",
       "100            325           462             137     398.399334      ...        \n",
       "1000           179           319             140     244.569543      ...        \n",
       "1001           221           858             637     312.367752      ...        \n",
       "\n",
       "      ndsm_perc_90  ndvi_min  ndvi_max  ndvi_range  ndvi_mean  ndvi_stddev  \\\n",
       "1         0.921844 -0.024700  0.109208    0.133908   0.026219     0.032277   \n",
       "10        0.030548 -0.004808  0.164480    0.169288   0.050845     0.039133   \n",
       "100       5.125640 -0.037594  0.138268    0.175862   0.021246     0.022645   \n",
       "1000      0.678680  0.349186  0.800000    0.450814   0.570151     0.057858   \n",
       "1001      0.526550 -0.055258  0.405333    0.460592   0.124886     0.033595   \n",
       "\n",
       "      ndvi_median  ndvi_first_quart  ndvi_third_quart  ndvi_perc_90  \n",
       "1        0.020000          0.000786          0.048626      0.074045  \n",
       "10       0.038462          0.020721          0.075252      0.103650  \n",
       "100      0.015449          0.008772          0.027377      0.052632  \n",
       "1000     0.568108          0.533026          0.608546      0.642218  \n",
       "1001     0.117091          0.104575          0.138065      0.169582  \n",
       "\n",
       "[5 rows x 60 columns]"
      ]
     },
     "execution_count": 37,
     "metadata": {},
     "output_type": "execute_result"
    }
   ],
   "source": [
    "features.head()"
   ]
  },
  {
   "cell_type": "code",
   "execution_count": 39,
   "metadata": {
    "collapsed": true
   },
   "outputs": [],
   "source": [
    "%%R \n",
    "# Instal library\n",
    "if(!is.element('parallel', installed.packages()[,1])){\n",
    "    cat('\\n\\nInstalling parallel package from CRAN')\n",
    "    chooseCRANmirror(ind=1)\n",
    "    install.packages('parallel')}\n",
    "\n",
    "if(!is.element('doParallel', installed.packages()[,1])){\n",
    "    cat('\\n\\nInstalling doParallel package from CRAN')\n",
    "    chooseCRANmirror(ind=1)\n",
    "    install.packages('doParallel')}\n",
    "\n",
    "if(!is.element('VSURF', installed.packages()[,1])){\n",
    "    cat('\\n\\nInstalling VSURF package from CRAN')\n",
    "    chooseCRANmirror(ind=1)\n",
    "    install.packages('VSURF')}\n",
    "\n",
    "library(parallel)\n",
    "require(parallel)\n",
    "library(doParallel)\n",
    "require(doParallel)\n",
    "library(VSURF)\n",
    "require(VSURF)"
   ]
  },
  {
   "cell_type": "code",
   "execution_count": 40,
   "metadata": {
    "collapsed": true
   },
   "outputs": [],
   "source": [
    "%%R -i class_column,first_feature,last_feature -o Surf\n",
    "\n",
    "# Save column names\n",
    "colname<-colnames(features)\n",
    "# Save the index of the column\n",
    "classnumindex<-match(c(class_column),colname)\n",
    "# Save the index where object's features to be used start\n",
    "startindex<-match(c(first_feature),colname)\n",
    "# Save the index where object's features to be used stop\n",
    "stopindex<-match(c(last_feature),colname)\n",
    "\n",
    "# Set number of cores to use\n",
    "usedcores=detectCores()-5\n",
    "registerDoParallel(usedcores)\n",
    "# Feature Selection using VSURF\n",
    "Surf=VSURF(features[startindex:stopindex],features$class_num, parallel=TRUE, ncores=usedcores)"
   ]
  },
  {
   "cell_type": "code",
   "execution_count": 41,
   "metadata": {
    "collapsed": true
   },
   "outputs": [],
   "source": [
    "## Set the path to the output .txt file with summary of VSURF\n",
    "output_summary=os.path.join(outputfolder,mapsetname+\"_VSURF_summary.txt\")"
   ]
  },
  {
   "cell_type": "code",
   "execution_count": 42,
   "metadata": {},
   "outputs": [
    {
     "data": {
      "text/plain": [
       "\n",
       " VSURF computation time: 27.2 mins \n",
       "\n",
       " VSURF selected: \n",
       "\t59 variables at thresholding step (in 1.8 mins)\n",
       "\t36 variables at interpretation step (in 4.9 mins)\n",
       "\t22 variables at prediction step (in 20.6 mins)\n",
       "\n",
       " VSURF ran in parallel on a PSOCK cluster and used 27 cores \n",
       "NULL\n"
      ]
     },
     "metadata": {},
     "output_type": "display_data"
    }
   ],
   "source": [
    "%%R -i output_summary\n",
    "\n",
    "# Print and save summary of VSRUF\n",
    "summaryVSRUF<-summary(Surf)\n",
    "output<-capture.output(summary(Surf))\n",
    "print (summaryVSRUF)\n",
    "cat(output,file=output_summary,sep=\"\\n\")"
   ]
  },
  {
   "cell_type": "code",
   "execution_count": 285,
   "metadata": {
    "collapsed": true
   },
   "outputs": [],
   "source": [
    "## Set the path to the output csv with results of VSURF\n",
    "output_interp=os.path.join(outputfolder,mapsetname+\"_VSURF_interp.csv\")\n",
    "output_pred=os.path.join(outputfolder,mapsetname+\"_VSURF_pred.csv\")"
   ]
  },
  {
   "cell_type": "code",
   "execution_count": 286,
   "metadata": {
    "collapsed": true
   },
   "outputs": [],
   "source": [
    "%%R -i output_interp,output_pred -o Surf_interp_features,Surf_pred_features\n",
    "\n",
    "# Save interpretation step and prediction step results\n",
    "Surf_interp<-Surf$varselect.interp\n",
    "Surf_pred<-Surf$varselect.pred\n",
    "\n",
    "# Save name of feature in a list ranked with the same index as VSURF output\n",
    "colname<-colnames(features[startindex:stopindex])\n",
    "\n",
    "# Declare empty variables of type 'character'\n",
    "Surf_interp_features <- character()\n",
    "\n",
    "# Loop on indexes of features selecteds by VSURF to find the corresponding feature name\n",
    "count<-0\n",
    "for (x in Surf_interp){\n",
    "  count<-count+1\n",
    "  Surf_interp_features[count]<-colname[x]\n",
    "}\n",
    "\n",
    "# Write CSV\n",
    "write.csv(Surf_interp_features, file=output_interp, row.names=TRUE)\n",
    "\n",
    "# Declare empty variables of type 'character'\n",
    "Surf_pred_features <- character()\n",
    "\n",
    "# Loop on indexes of features selecteds by VSURF to find the corresponding feature name\n",
    "count<-0\n",
    "for (x in Surf_pred){\n",
    "  count<-count+1\n",
    "  Surf_pred_features[count]<-colname[x]\n",
    "}\n",
    "\n",
    "# Write CSV\n",
    "write.csv(Surf_pred_features, file=output_pred, row.names=TRUE)"
   ]
  },
  {
   "cell_type": "code",
   "execution_count": 287,
   "metadata": {
    "scrolled": true
   },
   "outputs": [
    {
     "name": "stdout",
     "output_type": "stream",
     "text": [
      "Interpretation results\n",
      "1    ndvi_first_quart\n",
      "2    ndvi_median\n",
      "3    ndvi_third_quart\n",
      "4    opt_red_first_quart\n",
      "5    opt_nir_first_quart\n",
      "6    opt_nir_mean\n",
      "7    opt_nir_median\n",
      "8    ndvi_mean\n",
      "9    opt_nir_third_quart\n",
      "10    ndvi_perc_90\n",
      "11    opt_red_median\n",
      "12    perimeter\n",
      "13    opt_red_mean\n",
      "14    opt_nir_perc_90\n",
      "15    area\n",
      "16    opt_red_third_quart\n",
      "17    compact_square\n",
      "18    opt_green_first_quart\n",
      "19    ndsm_first_quart\n",
      "20    compact_circle\n",
      "21    ndsm_median\n",
      "22    opt_blue_third_quart\n",
      "23    opt_blue_median\n",
      "24    opt_blue_first_quart\n",
      "25    ndvi_min\n",
      "26    opt_nir_min\n",
      "27    opt_blue_perc_90\n",
      "28    opt_blue_mean\n",
      "29    opt_green_median\n",
      "30    fd\n",
      "31    ndsm_mean\n",
      "32    opt_blue_stddev\n",
      "33    opt_red_perc_90\n",
      "34    opt_green_mean\n",
      "35    ndsm_third_quart\n",
      "36    opt_blue_max\n"
     ]
    }
   ],
   "source": [
    "## Print features selected by VSURF at interpretation step\n",
    "print \"Interpretation results\"\n",
    "for i in range(len(Surf_interp_features)):\n",
    "    print str(i+1)+\"    \"+Surf_interp_features[i] "
   ]
  },
  {
   "cell_type": "code",
   "execution_count": 288,
   "metadata": {
    "scrolled": true
   },
   "outputs": [
    {
     "name": "stdout",
     "output_type": "stream",
     "text": [
      "Prediction results\n",
      "1    ndvi_first_quart\n",
      "2    ndvi_median\n",
      "3    ndvi_third_quart\n",
      "4    opt_red_first_quart\n",
      "5    ndvi_perc_90\n",
      "6    opt_red_median\n",
      "7    perimeter\n",
      "8    area\n",
      "9    compact_square\n",
      "10    opt_green_first_quart\n",
      "11    ndsm_first_quart\n",
      "12    ndsm_median\n",
      "13    opt_blue_third_quart\n",
      "14    opt_blue_median\n",
      "15    ndvi_min\n",
      "16    opt_blue_perc_90\n",
      "17    fd\n",
      "18    ndsm_mean\n",
      "19    opt_blue_stddev\n",
      "20    opt_green_mean\n",
      "21    opt_blue_max\n"
     ]
    }
   ],
   "source": [
    "## Print features selected by VSURF at interpretation step\n",
    "print \"Prediction results\"\n",
    "for i in range(len(Surf_pred_features)):\n",
    "    print str(i+1)+\"    \"+Surf_pred_features[i] "
   ]
  },
  {
   "cell_type": "code",
   "execution_count": 289,
   "metadata": {
    "collapsed": true
   },
   "outputs": [],
   "source": [
    "## Set the path to the output plot (PDF)\n",
    "outputgraph=os.path.join(outputfolder,mapsetname+\"_VSURF_opt_plot.pdf\")"
   ]
  },
  {
   "cell_type": "code",
   "execution_count": 290,
   "metadata": {},
   "outputs": [
    {
     "data": {
      "text/plain": [
       "png \n",
       "  2 \n"
      ]
     },
     "metadata": {},
     "output_type": "display_data"
    }
   ],
   "source": [
    "%%R -i outputgraph\n",
    "\n",
    "# Export the plot in pdf\n",
    "VSURF_plot_export=outputgraph\n",
    "pdf(VSURF_plot_export)\n",
    "plot(Surf, var.names = FALSE,\n",
    "     nvar.interp = length(Surf_pred))\n",
    "dev.off()"
   ]
  },
  {
   "cell_type": "code",
   "execution_count": 291,
   "metadata": {},
   "outputs": [
    {
     "data": {
      "image/png": "[encoded data removed]",
      "text/plain": [
       "<wand.image.Image: 0069691 'PNG' (504x504)>"
      ]
     },
     "execution_count": 291,
     "metadata": {},
     "output_type": "execute_result"
    }
   ],
   "source": [
    "## Display graphs\n",
    "import wand\n",
    "from wand.image import Image as WImage\n",
    "img = WImage(filename=outputgraph)\n",
    "img"
   ]
  },
  {
   "cell_type": "markdown",
   "metadata": {
    "collapsed": true
   },
   "source": [
    "### Prepare .csv for classification (training set and object to classify)"
   ]
  },
  {
   "cell_type": "code",
   "execution_count": 155,
   "metadata": {
    "collapsed": true
   },
   "outputs": [],
   "source": [
    "# Connect to an existing database\n",
    "db=pg.connect(database=dbname, user=dbuser, password=dbpassword, host=host)\n",
    "# Open a cursor to perform database operations\n",
    "cur=db.cursor()"
   ]
  },
  {
   "cell_type": "markdown",
   "metadata": {
    "collapsed": true
   },
   "source": [
    "#### Export training set as .csv"
   ]
  },
  {
   "cell_type": "code",
   "execution_count": 156,
   "metadata": {
    "collapsed": true
   },
   "outputs": [],
   "source": [
    "### Set if all feature have to be used (vsurfonly=False) \n",
    "### or only those resulting from prediction step of VSURF (vsurfonly=True)\n",
    "vsurfonly=False"
   ]
  },
  {
   "cell_type": "code",
   "execution_count": 157,
   "metadata": {
    "collapsed": true
   },
   "outputs": [],
   "source": [
    "## Save list of features to be used \n",
    "if vsurfonly:\n",
    "    features_for_classif=Surf_pred_features\n",
    "else:\n",
    "    features_for_classif=list(features.columns.values)[1:]"
   ]
  },
  {
   "cell_type": "code",
   "execution_count": 158,
   "metadata": {},
   "outputs": [
    {
     "data": {
      "text/plain": [
       "'area,perimeter,compact_circle,compact_square,fd,opt_blue_min,opt_blue_max,opt_blue_range,opt_blue_mean,opt_blue_stddev,opt_blue_median,opt_blue_first_quart,opt_blue_third_quart,opt_blue_perc_90,opt_green_min,opt_green_max,opt_green_range,opt_green_mean,opt_green_stddev,opt_green_median,opt_green_first_quart,opt_green_third_quart,opt_green_perc_90,opt_red_min,opt_red_max,opt_red_range,opt_red_mean,opt_red_stddev,opt_red_median,opt_red_first_quart,opt_red_third_quart,opt_red_perc_90,opt_nir_min,opt_nir_max,opt_nir_range,opt_nir_mean,opt_nir_stddev,opt_nir_median,opt_nir_first_quart,opt_nir_third_quart,opt_nir_perc_90,ndsm_min,ndsm_max,ndsm_range,ndsm_mean,ndsm_stddev,ndsm_median,ndsm_first_quart,ndsm_third_quart,ndsm_perc_90,ndvi_min,ndvi_max,ndvi_range,ndvi_mean,ndvi_stddev,ndvi_median,ndvi_first_quart,ndvi_third_quart,ndvi_perc_90,ndwi_min,ndwi_max,ndwi_range,ndwi_mean,ndwi_stddev,ndwi_median,ndwi_first_quart,ndwi_third_quart,ndwi_perc_90,ssi_min,ssi_max,ssi_range,ssi_mean,ssi_stddev,ssi_median,ssi_first_quart,ssi_third_quart,ssi_perc_90'"
      ]
     },
     "execution_count": 158,
     "metadata": {},
     "output_type": "execute_result"
    }
   ],
   "source": [
    "','.join(features_for_classif)"
   ]
  },
  {
   "cell_type": "code",
   "execution_count": 159,
   "metadata": {
    "collapsed": true
   },
   "outputs": [],
   "source": [
    "## Define the path to the .csv\n",
    "training_csv=os.path.join(outputfolder,mapsetname+\"_training_csv.csv\")"
   ]
  },
  {
   "cell_type": "code",
   "execution_count": 138,
   "metadata": {
    "collapsed": true
   },
   "outputs": [],
   "source": [
    "#### Export as .csv\n",
    "# Query\n",
    "query=\"COPY (\\\n",
    "SELECT seg_id, class_num, \"+\", \".join(features_for_classif)+\" \\\n",
    "FROM \"+schema+\".\"+sample_stats+\") TO '\"+training_csv+\"' DELIMITER ',' CSV HEADER\"\n",
    "# Execute the CREATE TABLE query \n",
    "cur.execute(query)\n",
    "# Make the changes to the database persistent\n",
    "db.commit()"
   ]
  },
  {
   "cell_type": "markdown",
   "metadata": {
    "collapsed": true
   },
   "source": [
    "#### Export objects statistics as .csv"
   ]
  },
  {
   "cell_type": "code",
   "execution_count": 113,
   "metadata": {},
   "outputs": [
    {
     "name": "stdout",
     "output_type": "stream",
     "text": [
      "The table contains 3110693 rows (estimate).\n"
     ]
    }
   ],
   "source": [
    "## Evalutate the number of row in 'object_stat' table\n",
    "query=\"SELECT reltuples::bigint AS estimated_object \\\n",
    "FROM pg_class \\\n",
    "WHERE oid='\"+schema+\".\"+object_stats_table+\"'::regclass\"  \n",
    "# Execute query through panda\n",
    "df=pd.read_sql(query, db)\n",
    "# Save estimated number of objects\n",
    "estimate=list(df['estimated_object'])[0]\n",
    "# Print\n",
    "print \"The table contains \"+str(estimate)+\" rows (estimate).\""
   ]
  },
  {
   "cell_type": "code",
   "execution_count": 139,
   "metadata": {},
   "outputs": [
    {
     "name": "stdout",
     "output_type": "stream",
     "text": [
      "Classification will be made on 4 loop(s)\n"
     ]
    }
   ],
   "source": [
    "# Define number of object to classify on each loop\n",
    "nbobjloop=1000000\n",
    "# Add 10% of estimated number of rows to be sure to well cover the full dataset \n",
    "remaining_rows=int(estimate*1.05)\n",
    "# Define number of loops for classification\n",
    "import math\n",
    "loops=int(math.ceil(remaining_rows/(nbobjloop*1.0)))\n",
    "## Print what is going to happend\n",
    "print \"Classification will be made on \"+str(loops)+\" loop(s)\""
   ]
  },
  {
   "cell_type": "code",
   "execution_count": 153,
   "metadata": {},
   "outputs": [
    {
     "name": "stdout",
     "output_type": "stream",
     "text": [
      "Rows between 0 and 1000000 exported in .csv file '/media/tais/data/MAUPP/Articles/SPIE_RemoteSensing2017/Grippa/Results/C_CLASSIF/classif/objects_stats_1.csv'\n",
      "Rows between 1000000 and 2000000 exported in .csv file '/media/tais/data/MAUPP/Articles/SPIE_RemoteSensing2017/Grippa/Results/C_CLASSIF/classif/objects_stats_2.csv'\n",
      "Rows between 2000000 and 3000000 exported in .csv file '/media/tais/data/MAUPP/Articles/SPIE_RemoteSensing2017/Grippa/Results/C_CLASSIF/classif/objects_stats_3.csv'\n",
      "Rows between 3000000 and 4000000 exported in .csv file '/media/tais/data/MAUPP/Articles/SPIE_RemoteSensing2017/Grippa/Results/C_CLASSIF/classif/objects_stats_4.csv'\n"
     ]
    }
   ],
   "source": [
    "# Define starting offset and limit (for the firsth loop)\n",
    "offset=0\n",
    "# Declare an empty list containing the paths to .csv\n",
    "list_objstat_csv=[]\n",
    "# Export object statistics on multiple .csv files\n",
    "for loop in range(loops):\n",
    "    ## Define the path to the .csv\n",
    "    objstat_csv=os.path.join(outputfolder,\"objects_stats_\"+str(loop+1)+\".csv\")\n",
    "    list_objstat_csv.append(objstat_csv)        \n",
    "    # Query to export as .csv\n",
    "    query=\"COPY (\\\n",
    "    SELECT cat, \"+\", \".join(features_for_classif)+\" \\\n",
    "    FROM \"+schema+\".\"+object_stats_table+\"\\\n",
    "    ORDER BY cat \\\n",
    "    OFFSET \"+str(offset)+\" LIMIT \"+str(nbobjloop)+\") TO '\"+objstat_csv+\"' DELIMITER ',' CSV HEADER\"\n",
    "    # Execute the CREATE TABLE query \n",
    "    cur.execute(query)  \n",
    "    # Print\n",
    "    print \"Rows between \"+str(offset)+\" and \"+str(offset+nbobjloop)+\" exported in .csv file '\"+objstat_csv+\"'\"\n",
    "    # Update offset and limit \n",
    "    offset+=nbobjloop"
   ]
  },
  {
   "cell_type": "code",
   "execution_count": 154,
   "metadata": {
    "collapsed": true
   },
   "outputs": [],
   "source": [
    "# Close cursor and communication with the database\n",
    "cur.close()\n",
    "db.close()"
   ]
  },
  {
   "cell_type": "markdown",
   "metadata": {
    "collapsed": true
   },
   "source": [
    "<center> <font size=5> <h1>Classification using Random Forest</h1> </font> </center>  "
   ]
  },
  {
   "cell_type": "code",
   "execution_count": 160,
   "metadata": {
    "collapsed": true
   },
   "outputs": [],
   "source": [
    "%%R \n",
    "\n",
    "# Install package\n",
    "if(!is.element('caret', installed.packages()[,1])){\n",
    "  cat('\\n\\nInstalling caret package from CRAN')\n",
    "  chooseCRANmirror(ind=1)\n",
    "  install.packages('caret')}\n",
    "# Install package\n",
    "if(!is.element('randomForest', installed.packages()[,1])){\n",
    "  cat('\\n\\nInstalling randomForest package from CRAN')\n",
    "  chooseCRANmirror(ind=1)\n",
    "  install.packages('randomForest')}\n",
    "# Install package\n",
    "if(!is.element('pROC', installed.packages()[,1])){\n",
    "  cat('\\n\\nInstalling pROC package from CRAN')\n",
    "  chooseCRANmirror(ind=1)\n",
    "  install.packages('pROC')}\n",
    "# Install package\n",
    "if(!is.element('e1071', installed.packages()[,1])){\n",
    "  cat('\\n\\nInstalling e1071 package from CRAN')\n",
    "  chooseCRANmirror(ind=1)\n",
    "  install.packages('e1071')}"
   ]
  },
  {
   "cell_type": "code",
   "execution_count": 161,
   "metadata": {
    "collapsed": true,
    "scrolled": true
   },
   "outputs": [],
   "source": [
    "%%R \n",
    "\n",
    "# Load libraries\n",
    "library(parallel)\n",
    "require(parallel)\n",
    "library(doParallel)\n",
    "require(doParallel)\n",
    "library(caret)\n",
    "require(caret)\n",
    "library(randomForest)\n",
    "require(randomForest)\n",
    "library(e1071)\n",
    "require(e1071)\n",
    "\n",
    "# Set number of cores to use\n",
    "usedcores=detectCores()-10\n",
    "registerDoParallel(usedcores)"
   ]
  },
  {
   "cell_type": "markdown",
   "metadata": {},
   "source": [
    "## Train Random Forest model"
   ]
  },
  {
   "cell_type": "code",
   "execution_count": 162,
   "metadata": {
    "collapsed": true
   },
   "outputs": [],
   "source": [
    "## Set the path to the output of random forest classification\n",
    "output_accuracy=os.path.join(outputfolder,mapsetname+\"_accuracy_RF.csv\")"
   ]
  },
  {
   "cell_type": "code",
   "execution_count": 163,
   "metadata": {
    "collapsed": true
   },
   "outputs": [],
   "source": [
    "%%R -i training_csv,output_accuracy\n",
    "\n",
    "# Import training\n",
    "training <- read.csv(training_csv, sep=\",\", header=TRUE, row.names=1)\n",
    "# Define factor\n",
    "training$class_num <- as.factor(training$class_num)\n",
    "\n",
    "# Cross-validation setting\n",
    "MyFolds.cv <- createMultiFolds(training$class_num, k=5, times=10)\n",
    "MyControl.cv <- trainControl(method='repeatedCV', index=MyFolds.cv, allowParallel = TRUE)\n",
    "\n",
    "# Train Random Forest\n",
    "rfModel <- train(class_num~.,training,method='rf', trControl=MyControl.cv,tuneLength=10)\n",
    "resamps.cv <- rfModel$resample\n",
    "accuracy_means <- mean(resamps.cv$Accuracy)\n",
    "kappa_means <- mean(resamps.cv$Kappa)\n",
    "df_means <- data.frame(method='rf',accuracy=accuracy_means, kappa=kappa_means)\n",
    "write.csv(df_means, output_accuracy, row.names=FALSE, quote=FALSE)"
   ]
  },
  {
   "cell_type": "code",
   "execution_count": 164,
   "metadata": {},
   "outputs": [
    {
     "data": {
      "text/html": [
       "<div>\n",
       "<table border=\"1\" class=\"dataframe\">\n",
       "  <thead>\n",
       "    <tr style=\"text-align: right;\">\n",
       "      <th></th>\n",
       "      <th>method</th>\n",
       "      <th>accuracy</th>\n",
       "      <th>kappa</th>\n",
       "    </tr>\n",
       "  </thead>\n",
       "  <tbody>\n",
       "    <tr>\n",
       "      <th>0</th>\n",
       "      <td>rf</td>\n",
       "      <td>0.86407</td>\n",
       "      <td>0.847765</td>\n",
       "    </tr>\n",
       "  </tbody>\n",
       "</table>\n",
       "</div>"
      ],
      "text/plain": [
       "  method  accuracy     kappa\n",
       "0     rf   0.86407  0.847765"
      ]
     },
     "execution_count": 164,
     "metadata": {},
     "output_type": "execute_result"
    }
   ],
   "source": [
    "#### Show mean accuracy results from cross-validation for tuning\n",
    "## Import .csv file\n",
    "accuracy=pd.read_csv(output_accuracy, sep=',',header=0)\n",
    "## Display table\n",
    "accuracy.head(15)"
   ]
  },
  {
   "cell_type": "code",
   "execution_count": 165,
   "metadata": {
    "collapsed": true
   },
   "outputs": [],
   "source": [
    "## Set the path to the output of random forest classification\n",
    "output_varimp=os.path.join(outputfolder,mapsetname+\"_VariablesImportance_RF.pdf\")\n",
    "output_rfmodel=os.path.join(outputfolder,mapsetname+\"_RF_model.txt\")\n",
    "output_cv=os.path.join(outputfolder,mapsetname+\"_RF_cv.pdf\")"
   ]
  },
  {
   "cell_type": "code",
   "execution_count": 166,
   "metadata": {},
   "outputs": [
    {
     "data": {
      "text/plain": [
       "png \n",
       "  2 \n"
      ]
     },
     "metadata": {},
     "output_type": "display_data"
    }
   ],
   "source": [
    "%%R -i output_varimp,output_rfmodel,output_cv\n",
    "\n",
    "# Plot variable importance\n",
    "library(pROC)\n",
    "importance <- varImp(rfModel, scale=FALSE)\n",
    "pdf(output_varimp, width = 11, height = ncol(features)/6 )\n",
    "print(plot(importance))\n",
    "dev.off()\n",
    "\n",
    "# Show final model\n",
    "tmp<-rfModel$finalModel\n",
    "sink(output_rfmodel)\n",
    "print(tmp)\n",
    "sink()\n",
    "\n",
    "# Plot cross validation tuning results\n",
    "pdf(output_cv)\n",
    "print(plot(rfModel))\n",
    "dev.off()"
   ]
  },
  {
   "cell_type": "code",
   "execution_count": 167,
   "metadata": {},
   "outputs": [
    {
     "name": "stdout",
     "output_type": "stream",
     "text": [
      "\n",
      "Call:\n",
      " randomForest(x = x, y = y, mtry = param$mtry) \n",
      "               Type of random forest: classification\n",
      "                     Number of trees: 500\n",
      "No. of variables tried at each split: 10\n",
      "\n",
      "        OOB estimate of  error rate: 12.73%\n",
      "Confusion matrix:\n",
      "    11 13 14 21 22 31 32 33 34 41 51 class.error\n",
      "11 191  0  2  4  1  0  2  0  1  0  1  0.05445545\n",
      "13   0 71  0  0  0  0  0  0  0  0  1  0.01388889\n",
      "14   0  0 62  1  0  0  0  0  0  0  0  0.01587302\n",
      "21   2  0  2 58  7  0  2  0  0  0  0  0.18309859\n",
      "22   1  0  0  7 57  0  6  1  0  1  0  0.21917808\n",
      "31   0  0  0  0  0 86  0  0  9  0  0  0.09473684\n",
      "32   0  0  0  0  6  0 70 11  4  0  0  0.23076923\n",
      "33   0  0  1  1  0  0 14 45  4  0  0  0.30769231\n",
      "34   0  0  0  0  0 10  6  4 58  0  0  0.25641026\n",
      "41   3  0  0  0  0  0  3  0  1 63  2  0.12500000\n",
      "51   0  0  0  0  0  0  0  1  0  0 75  0.01315789\n",
      "\n"
     ]
    }
   ],
   "source": [
    "#### Import classifiers tuning parameters and confusion matrix\n",
    "## Open file\n",
    "classifier_runs = open(output_rfmodel, 'r')  \n",
    "## Read file\n",
    "print classifier_runs.read()"
   ]
  },
  {
   "cell_type": "markdown",
   "metadata": {},
   "source": [
    "The following cell display pdf figures. Please first install the **Wand** package using the folowwing command in the terminal : \n",
    "\n",
    "``` sudo pip instal Wand ```"
   ]
  },
  {
   "cell_type": "code",
   "execution_count": 168,
   "metadata": {},
   "outputs": [
    {
     "data": {
      "image/png": "[encoded data removed]",
      "text/plain": [
       "<wand.image.Image: d4327a8 'PNG' (792x936)>"
      ]
     },
     "execution_count": 168,
     "metadata": {},
     "output_type": "execute_result"
    }
   ],
   "source": [
    "## Display graphs\n",
    "import wand\n",
    "from wand.image import Image as WImage\n",
    "img = WImage(filename=output_varimp)\n",
    "img"
   ]
  },
  {
   "cell_type": "code",
   "execution_count": 169,
   "metadata": {},
   "outputs": [
    {
     "data": {
      "image/png": "[encoded data removed]",
      "text/plain": [
       "<wand.image.Image: d15fb17 'PNG' (504x504)>"
      ]
     },
     "execution_count": 169,
     "metadata": {},
     "output_type": "execute_result"
    }
   ],
   "source": [
    "## Display graphs\n",
    "import wand\n",
    "from wand.image import Image as WImage\n",
    "img = WImage(filename=output_cv)\n",
    "img"
   ]
  },
  {
   "cell_type": "markdown",
   "metadata": {},
   "source": [
    "## Predict classes for objects"
   ]
  },
  {
   "cell_type": "code",
   "execution_count": 239,
   "metadata": {
    "collapsed": true
   },
   "outputs": [],
   "source": [
    "%%R -i list_objstat_csv\n",
    "\n",
    "# Classification using loop\n",
    "for(i in 1:length(list_objstat_csv)) {\n",
    "    filepath<-list_objstat_csv[i]\n",
    "    # Import object statistics as dataframe\n",
    "    features <- read.csv(filepath, sep=\",\", header=TRUE, row.names=1)\n",
    "    # Predict class \n",
    "    predicted <- data.frame(predict(rfModel, features))\n",
    "    name<-paste('resultsdf',i,sep='')\n",
    "    assign(name,data.frame(id=rownames(features), predicted))\n",
    "    rm(features)\n",
    "    rm(predicted)\n",
    "    gc()\n",
    "}"
   ]
  },
  {
   "cell_type": "code",
   "execution_count": 240,
   "metadata": {
    "collapsed": true
   },
   "outputs": [],
   "source": [
    "%%R\n",
    "\n",
    "# Merge predictions in one single dataframe\n",
    "listdf<-lapply(ls(pattern = \"resultsdf*\"), get)\n",
    "rf_predictions<-do.call(rbind,listdf)"
   ]
  },
  {
   "cell_type": "markdown",
   "metadata": {
    "collapsed": true
   },
   "source": [
    "### Save training set and predictions in .csv files"
   ]
  },
  {
   "cell_type": "code",
   "execution_count": 243,
   "metadata": {
    "collapsed": true
   },
   "outputs": [],
   "source": [
    "## Define outputfile for .csv with training data for R\n",
    "trainingset_R=os.path.join(outputfolder,mapsetname+\"_trainingset_R.csv\")\n",
    "## Define outputfile for .csv with predictions of classification\n",
    "classif_results=os.path.join(outputfolder,mapsetname+\"_RF_classif_results.csv\")"
   ]
  },
  {
   "cell_type": "code",
   "execution_count": 244,
   "metadata": {
    "collapsed": true
   },
   "outputs": [],
   "source": [
    "%%R -i trainingset_R,classif_results\n",
    "write.csv(training, file=trainingset_R, row.names=FALSE, quote=FALSE)\n",
    "write.csv(rf_predictions, file=classif_results, row.names=FALSE, quote=FALSE)"
   ]
  },
  {
   "cell_type": "code",
   "execution_count": 246,
   "metadata": {},
   "outputs": [
    {
     "data": {
      "text/plain": [
       "           used  (Mb) gc trigger  (Mb)  max used   (Mb)\n",
       "Ncells  4864010 259.8   14247296 760.9  21335626 1139.5\n",
       "Vcells 29030513 221.5  130443350 995.3 519391211 3962.7\n"
      ]
     },
     "metadata": {},
     "output_type": "display_data"
    }
   ],
   "source": [
    "%%R \n",
    "\n",
    "# Remove variables not needed anymore\n",
    "rm(training)\n",
    "gc()\n",
    "\n",
    "rm(list=ls(pattern = \"resultsdf*\"))\n",
    "rm(listdf)\n",
    "gc()"
   ]
  },
  {
   "cell_type": "markdown",
   "metadata": {},
   "source": [
    "<center> <font size=3> <h2>Import classification results in postgis </h2> </font> </center>  "
   ]
  },
  {
   "cell_type": "code",
   "execution_count": 262,
   "metadata": {
    "collapsed": true
   },
   "outputs": [],
   "source": [
    "# Connect to an existing database\n",
    "db=pg.connect(database=dbname, user=dbuser, password=dbpassword, host=host)\n",
    "# Open a cursor to perform database operations\n",
    "cur=db.cursor()"
   ]
  },
  {
   "cell_type": "code",
   "execution_count": 268,
   "metadata": {
    "collapsed": true
   },
   "outputs": [],
   "source": [
    "# Drop table if exists:\n",
    "cur.execute(\"DROP TABLE IF EXISTS \"+schema+\".\"+classif)\n",
    "# Make the changes to the database persistent\n",
    "db.commit()\n",
    "\n",
    "# Create new table\n",
    "query=\"CREATE TABLE \"+schema+\".\"+classif+\" (seg_id integer PRIMARY KEY, RF_pred integer)\"\n",
    "# Execute the CREATE TABLE query \n",
    "cur.execute(query)\n",
    "# Make the changes to the database persistent\n",
    "db.commit()\n",
    "\n",
    "# Create query for copy data from csv\n",
    "query=\"COPY \"+schema+\".\"+classif+\" FROM '\"+str(classif_results)+\"' HEADER DELIMITER ',' CSV\" \n",
    "# Execute the COPY FROM CSV query \n",
    "cur.execute(query)\n",
    "# Make the changes to the database persistent\n",
    "db.commit()    "
   ]
  },
  {
   "cell_type": "code",
   "execution_count": 269,
   "metadata": {
    "collapsed": true
   },
   "outputs": [],
   "source": [
    "# Close cursor and communication with the database\n",
    "cur.close()\n",
    "db.close()"
   ]
  },
  {
   "cell_type": "markdown",
   "metadata": {},
   "source": [
    "<center> <font size=3> <h2>Accuracy assesment</h2> </font> </center>  "
   ]
  },
  {
   "cell_type": "markdown",
   "metadata": {},
   "source": [
    "### Change the outputfolder"
   ]
  },
  {
   "cell_type": "code",
   "execution_count": 24,
   "metadata": {
    "collapsed": true
   },
   "outputs": [],
   "source": [
    "## Folder in which save processing time output\n",
    "outputfolder=os.path.join(resultfolder,mapsetname,\"accuracy_assess\")\n",
    "\n",
    "## Create the folder if does not exists\n",
    "if not os.path.exists(outputfolder):\n",
    "    os.makedirs(outputfolder)\n",
    "    print \"Folder '\"+outputfolder+\"' created\""
   ]
  },
  {
   "cell_type": "markdown",
   "metadata": {
    "collapsed": true
   },
   "source": [
    "## Join sample test and classifier predictions in postgresql"
   ]
  },
  {
   "cell_type": "code",
   "execution_count": 25,
   "metadata": {
    "collapsed": true
   },
   "outputs": [],
   "source": [
    "# Connect to an existing database\n",
    "db=pg.connect(database=dbname, user=dbuser, password=dbpassword, host=host)\n",
    "# Open a cursor to perform database operations\n",
    "cur=db.cursor()"
   ]
  },
  {
   "cell_type": "code",
   "execution_count": 26,
   "metadata": {
    "collapsed": true
   },
   "outputs": [],
   "source": [
    "# Build a query to drop view if exists\n",
    "query=\"DROP TABLE IF EXISTS \"+schema+\".\"+groundtruth_classif\n",
    "# Execute the query \n",
    "cur.execute(query)\n",
    "# Make the changes to the database persistent\n",
    "db.commit()"
   ]
  },
  {
   "cell_type": "code",
   "execution_count": 27,
   "metadata": {
    "collapsed": true
   },
   "outputs": [],
   "source": [
    "#### Join sample_test and classification results\n",
    "query=\"CREATE TABLE \"+schema+\".\"+groundtruth_classif+\" AS (\\\n",
    "SELECT a.id, a.class_num AS level2_groundtr, a.class AS level2_label, c.rf_pred AS rf_level2 \\\n",
    "FROM \"+schema+\".\"+sample_test+\" AS a \\\n",
    "LEFT JOIN \"+schema+\".\"+classif+\" AS c ON a.seg_id = c.seg_id)\"\n",
    "# Execute the query \n",
    "cur.execute(query)\n",
    "# Make the changes to the database persistent\n",
    "db.commit()"
   ]
  },
  {
   "cell_type": "code",
   "execution_count": 28,
   "metadata": {
    "collapsed": true
   },
   "outputs": [],
   "source": [
    "## Add column for prediction at level 2 + label of level 2 classes\n",
    "query=\"ALTER TABLE \"+schema+\".\"+groundtruth_classif+\" \\\n",
    "ADD COLUMN level1_groundtr integer, \\\n",
    "ADD COLUMN level1_label text, \\\n",
    "ADD COLUMN rf_level1 integer\"\n",
    "# Execute the query \n",
    "cur.execute(query)\n",
    "# Make the changes to the database persistent\n",
    "db.commit()"
   ]
  },
  {
   "cell_type": "code",
   "execution_count": 29,
   "metadata": {
    "collapsed": true
   },
   "outputs": [],
   "source": [
    "## Update column for prediction and ground truth at level 2 \n",
    "query=\"UPDATE \"+schema+\".\"+groundtruth_classif+\" \\\n",
    "SET rf_level1=rf_level2/10, level1_groundtr=level2_groundtr/10\"\n",
    "# Execute the query \n",
    "cur.execute(query)\n",
    "# Make the changes to the database persistent\n",
    "db.commit()"
   ]
  },
  {
   "cell_type": "code",
   "execution_count": 58,
   "metadata": {
    "collapsed": true
   },
   "outputs": [],
   "source": [
    "# Setup a dictionnary with label of level 1 classes\n",
    "level1_dict={}\n",
    "level1_dict[1]=\"Artificial surfaces\"\n",
    "level1_dict[2]=\"Natural material surfaces\"\n",
    "level1_dict[3]=\"Vegetation\"\n",
    "level1_dict[4]=\"Water\"\n",
    "level1_dict[5]=\"Shadows\""
   ]
  },
  {
   "cell_type": "code",
   "execution_count": 59,
   "metadata": {
    "collapsed": true
   },
   "outputs": [],
   "source": [
    "## Update column for label of level 2 classes\n",
    "for classes in level1_dict.keys():\n",
    "    query=\"UPDATE \"+schema+\".\"+groundtruth_classif+\" \\\n",
    "    SET level1_label='\"+level1_dict[classes]+\"' WHERE level1_groundtr=\"+str(classes)\n",
    "    # Execute the query \n",
    "    cur.execute(query)\n",
    "    # Make the changes to the database persistent\n",
    "    db.commit()"
   ]
  },
  {
   "cell_type": "code",
   "execution_count": 60,
   "metadata": {},
   "outputs": [
    {
     "data": {
      "text/html": [
       "<div>\n",
       "<table border=\"1\" class=\"dataframe\">\n",
       "  <thead>\n",
       "    <tr style=\"text-align: right;\">\n",
       "      <th></th>\n",
       "      <th>id</th>\n",
       "      <th>level2_groundtr</th>\n",
       "      <th>level2_label</th>\n",
       "      <th>rf_level2</th>\n",
       "      <th>level1_groundtr</th>\n",
       "      <th>level1_label</th>\n",
       "      <th>rf_level1</th>\n",
       "    </tr>\n",
       "  </thead>\n",
       "  <tbody>\n",
       "    <tr>\n",
       "      <th>0</th>\n",
       "      <td>510</td>\n",
       "      <td>11</td>\n",
       "      <td>Buildings</td>\n",
       "      <td>11</td>\n",
       "      <td>1</td>\n",
       "      <td>Artificial surfaces</td>\n",
       "      <td>1</td>\n",
       "    </tr>\n",
       "    <tr>\n",
       "      <th>1</th>\n",
       "      <td>1048</td>\n",
       "      <td>11</td>\n",
       "      <td>Buildings</td>\n",
       "      <td>11</td>\n",
       "      <td>1</td>\n",
       "      <td>Artificial surfaces</td>\n",
       "      <td>1</td>\n",
       "    </tr>\n",
       "    <tr>\n",
       "      <th>2</th>\n",
       "      <td>1080</td>\n",
       "      <td>11</td>\n",
       "      <td>Buildings</td>\n",
       "      <td>34</td>\n",
       "      <td>1</td>\n",
       "      <td>Artificial surfaces</td>\n",
       "      <td>3</td>\n",
       "    </tr>\n",
       "    <tr>\n",
       "      <th>3</th>\n",
       "      <td>1127</td>\n",
       "      <td>11</td>\n",
       "      <td>Buildings</td>\n",
       "      <td>11</td>\n",
       "      <td>1</td>\n",
       "      <td>Artificial surfaces</td>\n",
       "      <td>1</td>\n",
       "    </tr>\n",
       "    <tr>\n",
       "      <th>4</th>\n",
       "      <td>184</td>\n",
       "      <td>11</td>\n",
       "      <td>Buildings</td>\n",
       "      <td>11</td>\n",
       "      <td>1</td>\n",
       "      <td>Artificial surfaces</td>\n",
       "      <td>1</td>\n",
       "    </tr>\n",
       "    <tr>\n",
       "      <th>5</th>\n",
       "      <td>747</td>\n",
       "      <td>11</td>\n",
       "      <td>Buildings</td>\n",
       "      <td>11</td>\n",
       "      <td>1</td>\n",
       "      <td>Artificial surfaces</td>\n",
       "      <td>1</td>\n",
       "    </tr>\n",
       "    <tr>\n",
       "      <th>6</th>\n",
       "      <td>722</td>\n",
       "      <td>11</td>\n",
       "      <td>Buildings</td>\n",
       "      <td>11</td>\n",
       "      <td>1</td>\n",
       "      <td>Artificial surfaces</td>\n",
       "      <td>1</td>\n",
       "    </tr>\n",
       "    <tr>\n",
       "      <th>7</th>\n",
       "      <td>700</td>\n",
       "      <td>11</td>\n",
       "      <td>Buildings</td>\n",
       "      <td>11</td>\n",
       "      <td>1</td>\n",
       "      <td>Artificial surfaces</td>\n",
       "      <td>1</td>\n",
       "    </tr>\n",
       "    <tr>\n",
       "      <th>8</th>\n",
       "      <td>49</td>\n",
       "      <td>11</td>\n",
       "      <td>Buildings</td>\n",
       "      <td>11</td>\n",
       "      <td>1</td>\n",
       "      <td>Artificial surfaces</td>\n",
       "      <td>1</td>\n",
       "    </tr>\n",
       "    <tr>\n",
       "      <th>9</th>\n",
       "      <td>613</td>\n",
       "      <td>11</td>\n",
       "      <td>Buildings</td>\n",
       "      <td>11</td>\n",
       "      <td>1</td>\n",
       "      <td>Artificial surfaces</td>\n",
       "      <td>1</td>\n",
       "    </tr>\n",
       "    <tr>\n",
       "      <th>10</th>\n",
       "      <td>610</td>\n",
       "      <td>11</td>\n",
       "      <td>Buildings</td>\n",
       "      <td>11</td>\n",
       "      <td>1</td>\n",
       "      <td>Artificial surfaces</td>\n",
       "      <td>1</td>\n",
       "    </tr>\n",
       "    <tr>\n",
       "      <th>11</th>\n",
       "      <td>1130</td>\n",
       "      <td>11</td>\n",
       "      <td>Buildings</td>\n",
       "      <td>11</td>\n",
       "      <td>1</td>\n",
       "      <td>Artificial surfaces</td>\n",
       "      <td>1</td>\n",
       "    </tr>\n",
       "    <tr>\n",
       "      <th>12</th>\n",
       "      <td>1129</td>\n",
       "      <td>11</td>\n",
       "      <td>Buildings</td>\n",
       "      <td>11</td>\n",
       "      <td>1</td>\n",
       "      <td>Artificial surfaces</td>\n",
       "      <td>1</td>\n",
       "    </tr>\n",
       "    <tr>\n",
       "      <th>13</th>\n",
       "      <td>671</td>\n",
       "      <td>11</td>\n",
       "      <td>Buildings</td>\n",
       "      <td>11</td>\n",
       "      <td>1</td>\n",
       "      <td>Artificial surfaces</td>\n",
       "      <td>1</td>\n",
       "    </tr>\n",
       "    <tr>\n",
       "      <th>14</th>\n",
       "      <td>783</td>\n",
       "      <td>11</td>\n",
       "      <td>Buildings</td>\n",
       "      <td>11</td>\n",
       "      <td>1</td>\n",
       "      <td>Artificial surfaces</td>\n",
       "      <td>1</td>\n",
       "    </tr>\n",
       "    <tr>\n",
       "      <th>15</th>\n",
       "      <td>805</td>\n",
       "      <td>11</td>\n",
       "      <td>Buildings</td>\n",
       "      <td>11</td>\n",
       "      <td>1</td>\n",
       "      <td>Artificial surfaces</td>\n",
       "      <td>1</td>\n",
       "    </tr>\n",
       "    <tr>\n",
       "      <th>16</th>\n",
       "      <td>95</td>\n",
       "      <td>11</td>\n",
       "      <td>Buildings</td>\n",
       "      <td>11</td>\n",
       "      <td>1</td>\n",
       "      <td>Artificial surfaces</td>\n",
       "      <td>1</td>\n",
       "    </tr>\n",
       "    <tr>\n",
       "      <th>17</th>\n",
       "      <td>1333</td>\n",
       "      <td>11</td>\n",
       "      <td>Buildings</td>\n",
       "      <td>11</td>\n",
       "      <td>1</td>\n",
       "      <td>Artificial surfaces</td>\n",
       "      <td>1</td>\n",
       "    </tr>\n",
       "    <tr>\n",
       "      <th>18</th>\n",
       "      <td>1335</td>\n",
       "      <td>11</td>\n",
       "      <td>Buildings</td>\n",
       "      <td>11</td>\n",
       "      <td>1</td>\n",
       "      <td>Artificial surfaces</td>\n",
       "      <td>1</td>\n",
       "    </tr>\n",
       "    <tr>\n",
       "      <th>19</th>\n",
       "      <td>1182</td>\n",
       "      <td>11</td>\n",
       "      <td>Buildings</td>\n",
       "      <td>11</td>\n",
       "      <td>1</td>\n",
       "      <td>Artificial surfaces</td>\n",
       "      <td>1</td>\n",
       "    </tr>\n",
       "  </tbody>\n",
       "</table>\n",
       "</div>"
      ],
      "text/plain": [
       "      id  level2_groundtr level2_label  rf_level2  level1_groundtr  \\\n",
       "0    510               11    Buildings         11                1   \n",
       "1   1048               11    Buildings         11                1   \n",
       "2   1080               11    Buildings         34                1   \n",
       "3   1127               11    Buildings         11                1   \n",
       "4    184               11    Buildings         11                1   \n",
       "5    747               11    Buildings         11                1   \n",
       "6    722               11    Buildings         11                1   \n",
       "7    700               11    Buildings         11                1   \n",
       "8     49               11    Buildings         11                1   \n",
       "9    613               11    Buildings         11                1   \n",
       "10   610               11    Buildings         11                1   \n",
       "11  1130               11    Buildings         11                1   \n",
       "12  1129               11    Buildings         11                1   \n",
       "13   671               11    Buildings         11                1   \n",
       "14   783               11    Buildings         11                1   \n",
       "15   805               11    Buildings         11                1   \n",
       "16    95               11    Buildings         11                1   \n",
       "17  1333               11    Buildings         11                1   \n",
       "18  1335               11    Buildings         11                1   \n",
       "19  1182               11    Buildings         11                1   \n",
       "\n",
       "           level1_label  rf_level1  \n",
       "0   Artificial surfaces          1  \n",
       "1   Artificial surfaces          1  \n",
       "2   Artificial surfaces          3  \n",
       "3   Artificial surfaces          1  \n",
       "4   Artificial surfaces          1  \n",
       "5   Artificial surfaces          1  \n",
       "6   Artificial surfaces          1  \n",
       "7   Artificial surfaces          1  \n",
       "8   Artificial surfaces          1  \n",
       "9   Artificial surfaces          1  \n",
       "10  Artificial surfaces          1  \n",
       "11  Artificial surfaces          1  \n",
       "12  Artificial surfaces          1  \n",
       "13  Artificial surfaces          1  \n",
       "14  Artificial surfaces          1  \n",
       "15  Artificial surfaces          1  \n",
       "16  Artificial surfaces          1  \n",
       "17  Artificial surfaces          1  \n",
       "18  Artificial surfaces          1  \n",
       "19  Artificial surfaces          1  "
      ]
     },
     "execution_count": 60,
     "metadata": {},
     "output_type": "execute_result"
    }
   ],
   "source": [
    "#### Save ground truth, optical_predic, opticalsar_predic as lists, for Level-1 and Level-2\n",
    "# Query \n",
    "query=\"SELECT * FROM \"+schema+\".\"+groundtruth_classif+\" ORDER BY level2_groundtr\"\n",
    "# Execute query through panda\n",
    "df=pd.read_sql(query, db)\n",
    "\n",
    "# Show dataframe\n",
    "df.head(20)"
   ]
  },
  {
   "cell_type": "code",
   "execution_count": 61,
   "metadata": {
    "collapsed": true
   },
   "outputs": [],
   "source": [
    "# Save ground truth classes labels - Level2\n",
    "classes_L2=list(df['level2_label'].unique())\n",
    "# Save ground truth classes labels - Level1\n",
    "classes_L1=list(df['level1_label'].unique())"
   ]
  },
  {
   "cell_type": "code",
   "execution_count": 62,
   "metadata": {},
   "outputs": [
    {
     "name": "stdout",
     "output_type": "stream",
     "text": [
      "Level 2 classes:\n",
      "Buildings\n",
      "Swimming pools\n",
      "Asphalt surfaces\n",
      "Brown/red bare soil\n",
      "White/grey bare soil\n",
      "Trees\n",
      "Mixed bare soil/vegetation\n",
      "Dry vegetation\n",
      "Other vegetation\n",
      "Inland waters\n",
      "Shadows\n",
      "\n",
      "\n",
      "Level 1 classes:\n",
      "Artificial surfaces\n",
      "Natural material surfaces\n",
      "Vegetation\n",
      "Water\n",
      "Shadows\n"
     ]
    }
   ],
   "source": [
    "print \"Level 2 classes:\\n\"+'\\n'.join(classes_L2)\n",
    "print \"\\n\"\n",
    "print \"Level 1 classes:\\n\"+'\\n'.join(classes_L1)"
   ]
  },
  {
   "cell_type": "code",
   "execution_count": 63,
   "metadata": {
    "collapsed": true
   },
   "outputs": [],
   "source": [
    "# Save ground truth - Level2\n",
    "groundtruth_L2=list(df['level2_groundtr'])\n",
    "# Save ground truth - Level1\n",
    "groundtruth_L1=list(df['level1_groundtr'])\n",
    "\n",
    "# Save predictions - level2\n",
    "prediction_L2=list(df['rf_level2'])\n",
    "# Save predictions - level1\n",
    "prediction_L1=list(df['rf_level1'])"
   ]
  },
  {
   "cell_type": "code",
   "execution_count": 64,
   "metadata": {},
   "outputs": [
    {
     "name": "stdout",
     "output_type": "stream",
     "text": [
      "440\n"
     ]
    }
   ],
   "source": [
    "# Display number of objects in test sample\n",
    "nrows=len(groundtruth_L2)\n",
    "print nrows"
   ]
  },
  {
   "cell_type": "markdown",
   "metadata": {},
   "source": [
    "<center> <font size=4>  <h2>Confusion matrix</h2> </font> </center>"
   ]
  },
  {
   "cell_type": "markdown",
   "metadata": {},
   "source": [
    "The classification performance evaluation is made mainly using [Scikit-learn](http://scikit-learn.org/stable/modules/model_evaluation.html).\n",
    "\n",
    "The trick to plot the confusion matrix was found [here](http://scikit-learn.org/stable/auto_examples/model_selection/plot_confusion_matrix.html#sphx-glr-auto-examples-model-selection-plot-confusion-matrix-py)."
   ]
  },
  {
   "cell_type": "code",
   "execution_count": 65,
   "metadata": {
    "collapsed": true
   },
   "outputs": [],
   "source": [
    "## Import libraries\n",
    "import matplotlib.pyplot as plt\n",
    "from sklearn.metrics import confusion_matrix\n",
    "import itertools\n",
    "import numpy as np\n",
    "%matplotlib inline  "
   ]
  },
  {
   "cell_type": "code",
   "execution_count": 66,
   "metadata": {
    "collapsed": true
   },
   "outputs": [],
   "source": [
    "def plot_confusion_matrix(cm, classes,\n",
    "                          normalize=False,\n",
    "                          title='Confusion matrix',\n",
    "                          cmap=plt.cm.Blues):\n",
    "    \"\"\"\n",
    "    This function prints and plots the confusion matrix.\n",
    "    Normalization can be applied by setting `normalize=True`.\n",
    "    \"\"\"\n",
    "    plt.imshow(cm, interpolation='nearest', cmap=cmap)\n",
    "    plt.title(title)\n",
    "    plt.colorbar()\n",
    "    tick_marks = np.arange(len(classes))\n",
    "    plt.xticks(tick_marks, classes, ha='right', rotation=45)\n",
    "    plt.yticks(tick_marks, classes)\n",
    "\n",
    "    if normalize:\n",
    "        cm = cm.astype('float') / cm.sum(axis=1)[:, np.newaxis]\n",
    "        print(\"Normalized confusion matrix\")\n",
    "    else:\n",
    "        print('Confusion matrix, without normalization')\n",
    "\n",
    "    #print(cm)\n",
    "\n",
    "    thresh = cm.max() / 2.\n",
    "    for i, j in itertools.product(range(cm.shape[0]), range(cm.shape[1])):\n",
    "        if normalize:\n",
    "            plt.text(j, i, round(cm[i, j],2),\n",
    "            horizontalalignment=\"center\",\n",
    "            color=\"white\" if cm[i, j] > thresh else \"black\")\n",
    "        else:\n",
    "            plt.text(j, i, cm[i, j],\n",
    "            horizontalalignment=\"center\",\n",
    "            color=\"white\" if cm[i, j] > thresh else \"black\")\n",
    "\n",
    "    plt.tight_layout()\n",
    "    plt.ylabel('True label')\n",
    "    plt.xlabel('Predicted label')"
   ]
  },
  {
   "cell_type": "markdown",
   "metadata": {},
   "source": [
    "### Level 2"
   ]
  },
  {
   "cell_type": "code",
   "execution_count": 67,
   "metadata": {
    "collapsed": true
   },
   "outputs": [],
   "source": [
    "# Compute confusion matrix\n",
    "cnf_matrix_L2=confusion_matrix(groundtruth_L2, prediction_L2)"
   ]
  },
  {
   "cell_type": "code",
   "execution_count": 68,
   "metadata": {
    "collapsed": true
   },
   "outputs": [],
   "source": [
    "## Set the path to the output\n",
    "output_rowconfmat=os.path.join(outputfolder,mapsetname+\"_rowconfusionmatrix_L2.txt\")\n",
    "\n",
    "## Export the row confusion matrix\n",
    "numpy.savetxt(output_rowconfmat, cnf_matrix_L2.astype(np.int), fmt='%d', delimiter=\",\")"
   ]
  },
  {
   "cell_type": "code",
   "execution_count": 69,
   "metadata": {},
   "outputs": [
    {
     "name": "stdout",
     "output_type": "stream",
     "text": [
      "Confusion matrix, without normalization\n",
      "Normalized confusion matrix\n"
     ]
    },
    {
     "data": {
      "image/png": "[encoded data removed]",
      "text/plain": [
       "<matplotlib.figure.Figure at 0x7fe0a9dcba10>"
      ]
     },
     "metadata": {},
     "output_type": "display_data"
    },
    {
     "data": {
      "image/png": "[encoded data removed]",
      "text/plain": [
       "<matplotlib.figure.Figure at 0x7fe0a9dcbd50>"
      ]
     },
     "metadata": {},
     "output_type": "display_data"
    }
   ],
   "source": [
    "# Plot non-normalized confusion matrix\n",
    "fig_cm=plt.figure(figsize=(15,10))\n",
    "plot_confusion_matrix(cnf_matrix_L2, classes=classes_L2,\n",
    "                      title='Confusion matrix, without normalization')\n",
    "# Plot normalized confusion matrix\n",
    "fig_cm_normal=plt.figure(figsize=(15,10))\n",
    "plot_confusion_matrix(cnf_matrix_L2, classes=classes_L2, normalize=True,\n",
    "                      title='Normalized confusion matrix')\n",
    "\n",
    "plt.show()"
   ]
  },
  {
   "cell_type": "code",
   "execution_count": 70,
   "metadata": {
    "collapsed": true
   },
   "outputs": [],
   "source": [
    "## Set the path to the output\n",
    "output_confmat_pdf=os.path.join(outputfolder,mapsetname+\"_confusionmatrix_L2.pdf\")\n",
    "output_confmatA_png=os.path.join(outputfolder,mapsetname+\"_confusionmatrixA_L2.png\")\n",
    "output_confmatB_png=os.path.join(outputfolder,mapsetname+\"_confusionmatrixB_L2.png\")"
   ]
  },
  {
   "cell_type": "code",
   "execution_count": 71,
   "metadata": {
    "collapsed": true
   },
   "outputs": [],
   "source": [
    "# Export in PDF\n",
    "from matplotlib.backends.backend_pdf import PdfPages\n",
    "pp=PdfPages(output_confmat_pdf)\n",
    "pp.savefig(fig_cm)\n",
    "pp.savefig(fig_cm_normal)\n",
    "pp.close()\n",
    "\n",
    "# Export in PNG\n",
    "fig_cm.savefig(output_confmatA_png, format='png', dpi=300)\n",
    "fig_cm_normal.savefig(output_confmatB_png, format='png', dpi=300)"
   ]
  },
  {
   "cell_type": "markdown",
   "metadata": {},
   "source": [
    "### Level 1"
   ]
  },
  {
   "cell_type": "code",
   "execution_count": 72,
   "metadata": {
    "collapsed": true
   },
   "outputs": [],
   "source": [
    "# Compute confusion matrix\n",
    "cnf_matrix_L1=confusion_matrix(groundtruth_L1, prediction_L1)"
   ]
  },
  {
   "cell_type": "code",
   "execution_count": 73,
   "metadata": {
    "collapsed": true
   },
   "outputs": [],
   "source": [
    "## Set the path to the output\n",
    "output_rowconfmat=os.path.join(outputfolder,mapsetname+\"_rowconfusionmatrix_L1.txt\")\n",
    "\n",
    "## Export the row confusion matrix\n",
    "numpy.savetxt(output_rowconfmat, cnf_matrix_L1.astype(np.int), fmt='%d', delimiter=\",\")"
   ]
  },
  {
   "cell_type": "code",
   "execution_count": 74,
   "metadata": {},
   "outputs": [
    {
     "name": "stdout",
     "output_type": "stream",
     "text": [
      "Confusion matrix, without normalization\n",
      "Normalized confusion matrix\n"
     ]
    },
    {
     "data": {
      "image/png": "[encoded data removed]",
      "text/plain": [
       "<matplotlib.figure.Figure at 0x7fe0a9238dd0>"
      ]
     },
     "metadata": {},
     "output_type": "display_data"
    },
    {
     "data": {
      "image/png": "[encoded data removed]",
      "text/plain": [
       "<matplotlib.figure.Figure at 0x7fe0a91795d0>"
      ]
     },
     "metadata": {},
     "output_type": "display_data"
    }
   ],
   "source": [
    "# Plot non-normalized confusion matrix\n",
    "fig_cm=plt.figure(figsize=(10,7))\n",
    "plot_confusion_matrix(cnf_matrix_L1, classes=classes_L1,\n",
    "                      title='Confusion matrix, without normalization')\n",
    "# Plot normalized confusion matrix\n",
    "fig_cm_normal=plt.figure(figsize=(10,7))\n",
    "plot_confusion_matrix(cnf_matrix_L1, classes=classes_L1, normalize=True,\n",
    "                      title='Normalized confusion matrix')\n",
    "\n",
    "plt.show()"
   ]
  },
  {
   "cell_type": "code",
   "execution_count": 75,
   "metadata": {
    "collapsed": true
   },
   "outputs": [],
   "source": [
    "## Set the path to the output\n",
    "output_confmat_pdf=os.path.join(outputfolder,mapsetname+\"_confusionmatrix_L1.pdf\")\n",
    "output_confmatA_png=os.path.join(outputfolder,mapsetname+\"_confusionmatrixA_L1.png\")\n",
    "output_confmatB_png=os.path.join(outputfolder,mapsetname+\"_confusionmatrixB_L1.png\")"
   ]
  },
  {
   "cell_type": "code",
   "execution_count": 76,
   "metadata": {
    "collapsed": true
   },
   "outputs": [],
   "source": [
    "# Export in PDF\n",
    "from matplotlib.backends.backend_pdf import PdfPages\n",
    "pp=PdfPages(output_confmat_pdf)\n",
    "pp.savefig(fig_cm)\n",
    "pp.savefig(fig_cm_normal)\n",
    "pp.close()\n",
    "\n",
    "# Export in PNG\n",
    "fig_cm.savefig(output_confmatA_png, format='png', dpi=300)\n",
    "fig_cm_normal.savefig(output_confmatB_png, format='png', dpi=300)"
   ]
  },
  {
   "cell_type": "markdown",
   "metadata": {
    "collapsed": true
   },
   "source": [
    "<center> <font size=4>  <h2>Accuracy measures</h2> </font> </center>"
   ]
  },
  {
   "cell_type": "markdown",
   "metadata": {
    "collapsed": true
   },
   "source": [
    "## Classification report"
   ]
  },
  {
   "cell_type": "markdown",
   "metadata": {
    "collapsed": true
   },
   "source": [
    "TODO: Find a way to compute comission and omission errore / User's Producers' accuracies"
   ]
  },
  {
   "cell_type": "code",
   "execution_count": 77,
   "metadata": {
    "collapsed": true
   },
   "outputs": [],
   "source": [
    "## Import libraries\n",
    "from sklearn.metrics import accuracy_score\n",
    "from sklearn.metrics import cohen_kappa_score\n",
    "from sklearn.metrics import classification_report\n",
    "\n",
    "from sklearn.metrics import f1_score"
   ]
  },
  {
   "cell_type": "markdown",
   "metadata": {},
   "source": [
    "#### Level 2"
   ]
  },
  {
   "cell_type": "code",
   "execution_count": 78,
   "metadata": {
    "collapsed": true
   },
   "outputs": [],
   "source": [
    "## Set the path to the output\n",
    "output=os.path.join(outputfolder,mapsetname+\"_RF_classif_repport_L2.txt\")"
   ]
  },
  {
   "cell_type": "code",
   "execution_count": 79,
   "metadata": {},
   "outputs": [
    {
     "name": "stdout",
     "output_type": "stream",
     "text": [
      "Performance evalutation: \n",
      "Overall Accuracy: 0.854545454545\n",
      "Cohen's Kappa: 0.84\n",
      "F1-score: 0.855602002485\n",
      "\n",
      "\n",
      "Classification report: \n",
      "                             precision    recall  f1-score   support\n",
      "\n",
      "                 Buildings       0.89      0.97      0.93        40\n",
      "            Swimming pools       1.00      0.95      0.97        40\n",
      "          Asphalt surfaces       1.00      0.90      0.95        40\n",
      "       Brown/red bare soil       0.83      0.88      0.85        40\n",
      "      White/grey bare soil       0.87      0.82      0.85        40\n",
      "                     Trees       0.86      0.78      0.82        40\n",
      "Mixed bare soil/vegetation       0.70      0.75      0.72        40\n",
      "            Dry vegetation       0.64      0.70      0.67        40\n",
      "          Other vegetation       0.82      0.78      0.79        40\n",
      "             Inland waters       0.92      0.88      0.90        40\n",
      "                   Shadows       0.93      1.00      0.96        40\n",
      "\n",
      "               avg / total       0.86      0.85      0.86       440\n",
      "\n"
     ]
    }
   ],
   "source": [
    "# Define dataset to take into account\n",
    "y_true=groundtruth_L2\n",
    "y_pred=prediction_L2\n",
    "class_label=classes_L2\n",
    "\n",
    "# Compute precision accuracy\n",
    "accuracy=accuracy_score(y_true, y_pred, normalize=True)\n",
    "# Compute Cohen's Kappa\n",
    "cohen_kappa=cohen_kappa_score(y_true, y_pred)\n",
    "# Compute f1-score\n",
    "f_1=f1_score(y_true, y_pred, average='weighted')\n",
    "# Compute 'classification report'\n",
    "classif_report=classification_report(y_true, y_pred, target_names=class_label)\n",
    "\n",
    "# Save as .txt file\n",
    "f=open(output, 'w')\n",
    "f.write(\"Performance evalutation: \\n\")\n",
    "f.write(\"Overall Accuracy: \"+str(accuracy)+\"\\n\")\n",
    "f.write(\"Cohen's Kappa: \"+str(cohen_kappa)+\"\\n\")\n",
    "f.write(\"F1-score: \"+str(f_1)+\"\\n\")\n",
    "f.write(\"\\n\\n\")\n",
    "f.write(\"Classification report: \\n \"+classif_report)\n",
    "f.close()\n",
    "\n",
    "# Show file content\n",
    "f=open(output,'r')\n",
    "file_contents=f.read()\n",
    "print (file_contents)\n",
    "f.close()"
   ]
  },
  {
   "cell_type": "markdown",
   "metadata": {},
   "source": [
    "#### Level 1"
   ]
  },
  {
   "cell_type": "code",
   "execution_count": 80,
   "metadata": {
    "collapsed": true
   },
   "outputs": [],
   "source": [
    "## Set the path to the output\n",
    "output=os.path.join(outputfolder,mapsetname+\"_RF_classif_repport_L1.txt\")"
   ]
  },
  {
   "cell_type": "code",
   "execution_count": 81,
   "metadata": {},
   "outputs": [
    {
     "name": "stdout",
     "output_type": "stream",
     "text": [
      "Performance evalutation: \n",
      "Overall Accuracy: 0.954545454545\n",
      "Cohen's Kappa: 0.938905859483\n",
      "F1-score: 0.954391040934\n",
      "\n",
      "\n",
      "Classification report: \n",
      "                            precision    recall  f1-score   support\n",
      "\n",
      "      Artificial surfaces       0.97      0.96      0.97       120\n",
      "Natural material surfaces       0.93      0.93      0.93        80\n",
      "               Vegetation       0.97      0.97      0.97       160\n",
      "                    Water       0.92      0.88      0.90        40\n",
      "                  Shadows       0.93      1.00      0.96        40\n",
      "\n",
      "              avg / total       0.95      0.95      0.95       440\n",
      "\n"
     ]
    }
   ],
   "source": [
    "# Define dataset to take into account\n",
    "y_true=groundtruth_L1\n",
    "y_pred=prediction_L1\n",
    "class_label=classes_L1\n",
    "\n",
    "# Compute precision accuracy\n",
    "accuracy=accuracy_score(y_true, y_pred, normalize=True)\n",
    "# Compute Cohen's Kappa\n",
    "cohen_kappa=cohen_kappa_score(y_true, y_pred)\n",
    "# Compute f1-score\n",
    "f_1=f1_score(y_true, y_pred, average='weighted')\n",
    "# Compute 'classification report'\n",
    "classif_report=classification_report(y_true, y_pred, target_names=class_label)\n",
    "\n",
    "# Save as .txt file\n",
    "f=open(output, 'w')\n",
    "f.write(\"Performance evalutation: \\n\")\n",
    "f.write(\"Overall Accuracy: \"+str(accuracy)+\"\\n\")\n",
    "f.write(\"Cohen's Kappa: \"+str(cohen_kappa)+\"\\n\")\n",
    "f.write(\"F1-score: \"+str(f_1)+\"\\n\")\n",
    "f.write(\"\\n\\n\")\n",
    "f.write(\"Classification report: \\n \"+classif_report)\n",
    "f.close()\n",
    "\n",
    "# Show file content\n",
    "f=open(output,'r')\n",
    "file_contents=f.read()\n",
    "print (file_contents)\n",
    "f.close()"
   ]
  },
  {
   "cell_type": "markdown",
   "metadata": {},
   "source": [
    "<center> <font size=3> <h2>Reclass segmentation rasters with classification results</h2> </font> </center>  "
   ]
  },
  {
   "cell_type": "markdown",
   "metadata": {},
   "source": [
    "### Change the outputfolder"
   ]
  },
  {
   "cell_type": "code",
   "execution_count": 82,
   "metadata": {
    "collapsed": true
   },
   "outputs": [],
   "source": [
    "## Folder in which save processing time output\n",
    "outputfolder=os.path.join(resultfolder,mapsetname,\"classified_rasters\")\n",
    "\n",
    "## Create the folder if does not exists\n",
    "if not os.path.exists(outputfolder):\n",
    "    os.makedirs(outputfolder)\n",
    "    print \"Folder '\"+outputfolder+\"' created\""
   ]
  },
  {
   "cell_type": "markdown",
   "metadata": {
    "collapsed": true
   },
   "source": [
    "Here after, the segment raster will be reclassed (using r.reclass) with the classification results."
   ]
  },
  {
   "cell_type": "code",
   "execution_count": 414,
   "metadata": {
    "collapsed": true
   },
   "outputs": [],
   "source": [
    "# Connect to an existing database\n",
    "db=pg.connect(database=dbname, user=dbuser, password=dbpassword, host=host)\n",
    "# Open a cursor to perform database operations\n",
    "cur=db.cursor()"
   ]
  },
  {
   "cell_type": "code",
   "execution_count": 415,
   "metadata": {},
   "outputs": [
    {
     "name": "stdout",
     "output_type": "stream",
     "text": [
      "3110699\n"
     ]
    }
   ],
   "source": [
    "#### Save 'seg_id' and the corresponding prediction for in a list\n",
    "# Query\n",
    "query=\"SELECT seg_id, rf_pred FROM \"+schema+\".\"+classif\n",
    "# Execute query through panda\n",
    "df=pd.read_sql(query, db)\n",
    "\n",
    "# Save seg_id of objects in a list\n",
    "listsegid=list(df['seg_id'])\n",
    "# Save predictions at level_2 in a list\n",
    "listpredict=list(df['rf_pred'])\n",
    "\n",
    "# Display number of objects\n",
    "nrows=len(listsegid)\n",
    "print nrows"
   ]
  },
  {
   "cell_type": "code",
   "execution_count": 274,
   "metadata": {
    "collapsed": true
   },
   "outputs": [],
   "source": [
    "##### Reclassify raster\n",
    "## Create a temporary 'reclass_rule.csv' file\n",
    "temprulecsv=os.path.join(tempfile.gettempdir(),\"reclass_rules.csv\") # Define the csv output file name\n",
    "f = open(temprulecsv, 'w')\n",
    "# Write rules in the csv file\n",
    "for i in range(0,nrows-1):\n",
    "    f.write(str(listsegid[i]))\n",
    "    f.write(\"=\")\n",
    "    f.write(str(listpredict[i]))\n",
    "    f.write(\"\\n\")\n",
    "f.write(\"*\")\n",
    "f.write(\"=\")\n",
    "f.write(\"NULL\")\n",
    "f.close()\n",
    "\n",
    "## Set computational region\n",
    "grass.run_command('g.region', overwrite=True, raster=\"segments\")\n",
    "## Reclass segments raster layer to keep only outliers segments, using the reclas_rule.csv file (create temporary raster)\n",
    "grass.run_command('r.reclass', overwrite=True, input=\"segments\", output=\"rf_classif\", rules=temprulecsv)\n",
    "\n",
    "## Erase the temporary 'reclass_rule.csv' file\n",
    "os.remove(temprulecsv)"
   ]
  },
  {
   "cell_type": "markdown",
   "metadata": {
    "collapsed": true
   },
   "source": [
    "<center> <font size=3> <h3>Create 'real raster' and export</h3> </font> </center>  "
   ]
  },
  {
   "cell_type": "code",
   "execution_count": 276,
   "metadata": {},
   "outputs": [
    {
     "name": "stdout",
     "output_type": "stream",
     "text": [
      "rf_classif\n",
      "segments\n",
      "zone_morpho\n",
      "\n"
     ]
    }
   ],
   "source": [
    "## Display the list of raster available in the current mapset\n",
    "print grass.read_command('g.list', type=\"raster\", mapset=mapsetname)"
   ]
  },
  {
   "cell_type": "code",
   "execution_count": 277,
   "metadata": {},
   "outputs": [
    {
     "name": "stdout",
     "output_type": "stream",
     "text": [
      "['rf_classif@C_CLASSIF']\n"
     ]
    }
   ],
   "source": [
    "# Create a list with classified raster\n",
    "classifiedraster_list=grass.list_strings(\"rast\", pattern=\"rf_classif_*\", flag='r')\n",
    "print classifiedraster_list"
   ]
  },
  {
   "cell_type": "code",
   "execution_count": 281,
   "metadata": {},
   "outputs": [
    {
     "name": "stdout",
     "output_type": "stream",
     "text": [
      "Making a copy of classified maps in current mapset on Sat Aug 12 21:24:19 2017\n"
     ]
    },
    {
     "data": {
      "text/plain": [
       "'Classified raster maps have been copied in current mapset in 23.4 seconds'"
      ]
     },
     "execution_count": 281,
     "metadata": {},
     "output_type": "execute_result"
    }
   ],
   "source": [
    "## Saving current time for processing time management\n",
    "print (\"Making a copy of classified maps in current mapset on \" + time.ctime())\n",
    "begintime_copyraster=time.time()\n",
    "\n",
    "# Save index for substring (to remove mapset name in the layer's name)\n",
    "index=len(mapsetname)+1\n",
    "\n",
    "# Define color table. Replace with the RGB values of wanted colors of each class\n",
    "color_rule=\"11  227:26:28\"+\"\\n\"\n",
    "#color_rule+=\"12  255:141:1\"+\"\\n\"\n",
    "color_rule+=\"13  94:221:227\"+\"\\n\"\n",
    "color_rule+=\"14  102:102:102\"+\"\\n\"\n",
    "color_rule+=\"21  246:194:142\"+\"\\n\"\n",
    "color_rule+=\"22  211:217:173\"+\"\\n\"\n",
    "color_rule+=\"31  0:128:0\"+\"\\n\"\n",
    "color_rule+=\"32  189:255:185\"+\"\\n\"\n",
    "color_rule+=\"33  88:190:141\"+\"\\n\"\n",
    "color_rule+=\"34  29:220:0\"+\"\\n\"\n",
    "color_rule+=\"41  30:30:192\"+\"\\n\"\n",
    "color_rule+=\"51  0:0:0\"+\"\\n\"\n",
    "\n",
    "## Create a temporary 'color_table.txt' file\n",
    "color_table=os.path.join(outputfolder,\"color_table.txt\") # Define the csv output file name\n",
    "f = open(color_table, 'w')\n",
    "f.write(color_rule)\n",
    "f.close()\n",
    "    \n",
    "#### Make a copy of the classified maps of faster display in GRASS GIS\n",
    "for classif in classifiedraster_list:\n",
    "    ## Set computational region\n",
    "    grass.run_command('g.region', overwrite=True, raster=\"segments\")\n",
    "\n",
    "    ## Create the same raster with r.mapcalc\n",
    "    formula=str(classif[:-index])+\"_temp=\"+str(classif[:-index])\n",
    "    grass.mapcalc(formula, overwrite=True)\n",
    "       \n",
    "    ## Rename the new raster with the name of the original one (will be overwrited)\n",
    "    renameformula=str(classif[:-10])+\"_temp,\"+str(classif[:-10])\n",
    "    grass.run_command('g.rename', overwrite=True, raster=renameformula)\n",
    "     \n",
    "    ## Apply new color the existing GRASS colortable (for faster display in GRASS map display)\n",
    "    grass.run_command('r.colors', map=classif, rules=color_table)\n",
    "    \n",
    "## Compute processing time and print it\n",
    "print_processing_time(begintime_copyraster, \"Classified raster maps have been copied in current mapset in \")"
   ]
  },
  {
   "cell_type": "markdown",
   "metadata": {
    "collapsed": true
   },
   "source": [
    "#### Export of classification raster"
   ]
  },
  {
   "cell_type": "code",
   "execution_count": 282,
   "metadata": {},
   "outputs": [
    {
     "name": "stdout",
     "output_type": "stream",
     "text": [
      "Export classified raster maps on Sat Aug 12 21:26:06 2017\n"
     ]
    },
    {
     "data": {
      "text/plain": [
       "'Classified raster maps exported in 15.5 seconds'"
      ]
     },
     "execution_count": 282,
     "metadata": {},
     "output_type": "execute_result"
    }
   ],
   "source": [
    "## Saving current time for processing time management\n",
    "print (\"Export classified raster maps on \" + time.ctime())\n",
    "begintime_exportraster=time.time()\n",
    "\n",
    "for classif in classifiedraster_list:\n",
    "    outputname=os.path.join(outputfolder,str(classif[:-index])+\".tif\")\n",
    "    grass.run_command('g.region', overwrite=True, raster=classif)\n",
    "    grass.run_command('r.out.gdal', overwrite=True, input=classif, output=outputname, format='GTiff')\n",
    "    \n",
    "## Compute processing time and print it\n",
    "print_processing_time(begintime_exportraster, \"Classified raster maps exported in \")"
   ]
  },
  {
   "cell_type": "code",
   "execution_count": null,
   "metadata": {
    "collapsed": true
   },
   "outputs": [],
   "source": [
    "confusion_matrix"
   ]
  },
  {
   "cell_type": "code",
   "execution_count": null,
   "metadata": {
    "collapsed": true
   },
   "outputs": [],
   "source": []
  },
  {
   "cell_type": "markdown",
   "metadata": {},
   "source": [
    "<left> <font size=4> <b> End of classification part </b> </font> </left> "
   ]
  },
  {
   "cell_type": "code",
   "execution_count": null,
   "metadata": {
    "collapsed": true,
    "scrolled": true
   },
   "outputs": [],
   "source": [
    "print(\"The script ends at \"+ time.ctime())\n",
    "print_processing_time(begintime_segmentation_full, \"Entire process has been achieved in \")"
   ]
  },
  {
   "cell_type": "markdown",
   "metadata": {},
   "source": [
    "**-_-_-_-_-_-_-_-_-_-_-_-_-_-_-_-_-_-_-_-_-_-_-_-_-_-_-_-_-_-_-_-_-_-_-_-_-_-_-_-_-_-_-_-_-_-_-_-_-_-_-_-_-_-_-_-_-_-_-_-_-**"
   ]
  }
 ],
 "metadata": {
  "anaconda-cloud": {},
  "kernelspec": {
   "display_name": "Python 2",
   "language": "python",
   "name": "python2"
  },
  "language_info": {
   "codemirror_mode": {
    "name": "ipython",
    "version": 2
   },
   "file_extension": ".py",
   "mimetype": "text/x-python",
   "name": "python",
   "nbconvert_exporter": "python",
   "pygments_lexer": "ipython2",
   "version": "2.7.12"
  }
 },
 "nbformat": 4,
 "nbformat_minor": 1
}
