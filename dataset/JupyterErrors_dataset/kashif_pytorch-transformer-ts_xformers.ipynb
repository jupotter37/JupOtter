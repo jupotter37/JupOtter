{
    "cells": [
        {
            "cell_type": "code",
            "execution_count": 1,
            "id": "1e85a78b",
            "metadata": {},
            "outputs": [],
            "source": [
                "#!pip install -U gluonts pytorch-lightning torch"
            ]
        },
        {
            "cell_type": "code",
            "execution_count": 1,
            "id": "855dbf2e",
            "metadata": {},
            "outputs": [],
            "source": [
                "%matplotlib inline"
            ]
        },
        {
            "cell_type": "code",
            "execution_count": 2,
            "id": "8dc0844c",
            "metadata": {},
            "outputs": [
                {
                    "name": "stderr",
                    "output_type": "stream",
                    "text": [
                        "WARNING:root:Pytorch pre-release version 1.13.0a0+git9e80661 - assuming intent to test it\n",
                        "/home/kashif/.env/pytorch/lib/python3.8/site-packages/horovod/common/util.py:258: UserWarning: Framework pytorch installed with version 1.12.0a0+git689df63 but found version 1.13.0a0+git9e80661.\n",
                        "             This can result in unexpected behavior including runtime errors.\n",
                        "             Reinstall Horovod using `pip install --no-cache-dir` to build with the new version.\n",
                        "  warnings.warn(get_version_mismatch_message(name, version, installed_version))\n"
                    ]
                }
            ],
            "source": [
                "from typing import List, Optional, Iterable, Dict, Any\n",
                "from itertools import islice\n",
                "import queue\n",
                "\n",
                "import numpy as np\n",
                "from matplotlib import pyplot as plt\n",
                "import matplotlib.dates as mdates\n",
                "import tqdm.auto as tqdm\n",
                "\n",
                "from datasets import load_dataset\n",
                "\n",
                "import torch\n",
                "import torch.nn as nn\n",
                "from torch.utils.data import DataLoader\n",
                "from torch.optim.lr_scheduler import _LRScheduler, MultiplicativeLR\n",
                "from torch.optim import Optimizer\n",
                "\n",
                "from xformers.factory.model_factory import xFormer, xFormerConfig\n",
                "import pytorch_lightning as pl\n",
                "from pytorch_lightning.loggers import CSVLogger\n",
                "\n",
                "from gluonts.core.component import validated\n",
                "from gluonts.dataset.common import Dataset, ListDataset\n",
                "from gluonts.dataset.field_names import FieldName\n",
                "from gluonts.itertools import Cyclic, PseudoShuffled, IterableSlice\n",
                "from gluonts.time_feature import (\n",
                "    TimeFeature,\n",
                "    time_features_from_frequency_str,\n",
                ")\n",
                "from gluonts.torch.modules.loss import DistributionLoss, NegativeLogLikelihood\n",
                "from gluonts.transform import (\n",
                "    Transformation,\n",
                "    Chain,\n",
                "    RemoveFields,\n",
                "    SetField,\n",
                "    AsNumpyArray,\n",
                "    AddObservedValuesIndicator,\n",
                "    AddTimeFeatures,\n",
                "    AddAgeFeature,\n",
                "    VstackFeatures,\n",
                "    InstanceSplitter,\n",
                "    ValidationSplitSampler,\n",
                "    TestSplitSampler,\n",
                "    ExpectedNumInstanceSampler,\n",
                "    SelectFields,\n",
                ")\n",
                "from gluonts.torch.util import (\n",
                "    IterableDataset,\n",
                ")\n",
                "from gluonts.evaluation import make_evaluation_predictions, Evaluator\n",
                "from gluonts.torch.model.estimator import PyTorchLightningEstimator\n",
                "from gluonts.torch.model.predictor import PyTorchPredictor\n",
                "from gluonts.torch.distributions import (\n",
                "    DistributionOutput,\n",
                "    StudentTOutput,\n",
                ")\n",
                "from gluonts.torch.util import weighted_average\n",
                "from gluonts.torch.modules.scaler import MeanScaler, NOPScaler\n",
                "from gluonts.torch.modules.feature import FeatureEmbedder\n",
                "from gluonts.time_feature import get_lags_for_frequency\n",
                "from gluonts.dataset.repository.datasets import get_dataset"
            ]
        },
        {
            "cell_type": "code",
            "execution_count": 38,
            "id": "b8af6d90",
            "metadata": {},
            "outputs": [],
            "source": [
                "class TransformerModel(nn.Module):\n",
                "    @validated()\n",
                "    def __init__(\n",
                "        self,\n",
                "        freq: str,\n",
                "        context_length: int,\n",
                "        prediction_length: int,\n",
                "        num_feat_dynamic_real: int,\n",
                "        num_feat_static_real: int,\n",
                "        num_feat_static_cat: int,\n",
                "        cardinality: List[int],\n",
                "        \n",
                "        # transformer arguments\n",
                "        nhead: int,\n",
                "        num_encoder_layers: int,\n",
                "        num_decoder_layers: int,\n",
                "        attention_args: Dict[str, Any],\n",
                "        activation: str = \"gelu\",\n",
                "        dropout: float = 0.1,\n",
                "        reversible: bool = False,\n",
                "        hidden_layer_multiplier: int = 2,\n",
                "        use_rotary_embeddings: bool = False,\n",
                "\n",
                "        # univariate input\n",
                "        input_size: int = 1,\n",
                "        embedding_dimension: Optional[List[int]] = None,\n",
                "        distr_output: DistributionOutput = StudentTOutput(),\n",
                "        lags_seq: Optional[List[int]] = None,\n",
                "        scaling: bool = True,\n",
                "        num_parallel_samples: int = 1,\n",
                "    ) -> None:\n",
                "        super().__init__()\n",
                "        \n",
                "        self.input_size = input_size\n",
                "       \n",
                "        self.target_shape = distr_output.event_shape\n",
                "        self.num_feat_dynamic_real = num_feat_dynamic_real\n",
                "        self.num_feat_static_cat = num_feat_static_cat\n",
                "        self.num_feat_static_real = num_feat_static_real\n",
                "        self.embedding_dimension = (\n",
                "            embedding_dimension\n",
                "            if embedding_dimension is not None or cardinality is None\n",
                "            else [min(50, (cat + 1) // 2) for cat in cardinality]\n",
                "        )\n",
                "        self.lags_seq = lags_seq or get_lags_for_frequency(freq_str=freq)\n",
                "        self.num_parallel_samples = num_parallel_samples\n",
                "        self.history_length = context_length + max(self.lags_seq)\n",
                "        self.embedder = FeatureEmbedder(\n",
                "            cardinalities=cardinality,\n",
                "            embedding_dims=self.embedding_dimension,\n",
                "        )\n",
                "        if scaling:\n",
                "            self.scaler = MeanScaler(dim=1, keepdim=True)\n",
                "        else:\n",
                "            self.scaler = NOPScaler(dim=1, keepdim=True)\n",
                "        \n",
                "        # total feature size\n",
                "        d_model = self.input_size * len(self.lags_seq) + self._number_of_features\n",
                "        \n",
                "        self.context_length = context_length\n",
                "        self.prediction_length = prediction_length\n",
                "        self.distr_output = distr_output\n",
                "        self.param_proj = distr_output.get_args_proj(d_model)\n",
                "        \n",
                "        attention_args[\"dropout\"] = dropout\n",
                "        attention_args[\"causal\"] = False\n",
                "        attention_args[\"seq_len\"] = self.context_length\n",
                "        attention_args[\"num_rules\"] = nhead\n",
                "        attention_args[\"attention_query_mask\"] = (torch.rand((context_length, 1)) < 0.5)\n",
                "        \n",
                "        \n",
                "        xformer_config = [\n",
                "            # A list of the encoder blocks which constitute the Transformer.\n",
                "            # Note that a sequence of different encoder blocks can be used\n",
                "            {\n",
                "                \"reversible\": reversible,  # Optionally make these layers reversible, to save memory\n",
                "                \"block_type\": \"encoder\",\n",
                "                \"num_layers\": num_encoder_layers,  # Optional, this means that this config will repeat N times\n",
                "                \"dim_model\": d_model,\n",
                "                \"layer_norm_style\": \"pre\",  # Optional, pre/post\n",
                "                \"position_encoding_config\": {\n",
                "                    \"name\": \"sine\",\n",
                "                    \"dim_model\": d_model,\n",
                "                },\n",
                "                \"multi_head_config\": {\n",
                "                    \"use_rotary_embeddings\": use_rotary_embeddings,\n",
                "                    \"num_heads\": nhead,\n",
                "                    \"residual_dropout\": dropout,\n",
                "                    \"attention\": attention_args,\n",
                "                },\n",
                "                \"feedforward_config\": {\n",
                "                    \"name\": \"MLP\",\n",
                "                    \"dropout\": dropout,\n",
                "                    \"activation\": activation,\n",
                "                    \"hidden_layer_multiplier\": hidden_layer_multiplier,\n",
                "                    \"dim_model\": d_model,\n",
                "                },\n",
                "            },\n",
                "        ]\n",
                "        config = xFormerConfig(xformer_config)\n",
                "        # xformer encoder\n",
                "        self.encoder = xFormer.from_config(config)\n",
                "        \n",
                "        # causal vanilla transformer decoder\n",
                "        decoder_layer = nn.TransformerDecoderLayer(\n",
                "            d_model, \n",
                "            nhead, \n",
                "            dim_feedforward=d_model*hidden_layer_multiplier, \n",
                "            dropout=dropout,\n",
                "            activation=activation, \n",
                "            layer_norm_eps=1e-5, \n",
                "            batch_first=True, \n",
                "            norm_first=False,\n",
                "        )\n",
                "        decoder_norm = nn.LayerNorm(d_model, eps=1e-5)\n",
                "        self.decoder = nn.TransformerDecoder(decoder_layer, num_decoder_layers, decoder_norm)\n",
                "            \n",
                "        # causal decoder tgt mask for training\n",
                "        self.register_buffer(\n",
                "            \"tgt_mask\",\n",
                "            nn.Transformer.generate_square_subsequent_mask(prediction_length),\n",
                "        )\n",
                "\n",
                "    @property\n",
                "    def _number_of_features(self) -> int:\n",
                "        return (\n",
                "            sum(self.embedding_dimension)\n",
                "            + self.num_feat_dynamic_real\n",
                "            + self.num_feat_static_real\n",
                "            + self.input_size  # the log(scale)\n",
                "        )\n",
                "\n",
                "    @property\n",
                "    def _past_length(self) -> int:\n",
                "        return self.context_length + max(self.lags_seq)\n",
                "    \n",
                "    def get_lagged_subsequences(\n",
                "        self,\n",
                "        sequence: torch.Tensor,\n",
                "        subsequences_length: int,\n",
                "        shift: int = 0\n",
                "    ) -> torch.Tensor:\n",
                "        \"\"\"\n",
                "        Returns lagged subsequences of a given sequence.\n",
                "        Parameters\n",
                "        ----------\n",
                "        sequence : Tensor\n",
                "            the sequence from which lagged subsequences should be extracted.\n",
                "            Shape: (N, T, C).\n",
                "        subsequences_length : int\n",
                "            length of the subsequences to be extracted.\n",
                "        shift: int\n",
                "            shift the lags by this amount back.\n",
                "        Returns\n",
                "        --------\n",
                "        lagged : Tensor\n",
                "            a tensor of shape (N, S, C, I), where S = subsequences_length and\n",
                "            I = len(indices), containing lagged subsequences. Specifically,\n",
                "            lagged[i, j, :, k] = sequence[i, -indices[k]-S+j, :].\n",
                "        \"\"\"\n",
                "        sequence_length = sequence.shape[1]\n",
                "        indices = [l - shift for l in self.lags_seq]\n",
                "\n",
                "        assert max(indices) + subsequences_length <= sequence_length, (\n",
                "            f\"lags cannot go further than history length, found lag {max(indices)} \"\n",
                "            f\"while history length is only {sequence_length}\"\n",
                "        )\n",
                "\n",
                "        lagged_values = []\n",
                "        for lag_index in indices:\n",
                "            begin_index = -lag_index - subsequences_length\n",
                "            end_index = -lag_index if lag_index > 0 else None\n",
                "            lagged_values.append(sequence[:, begin_index:end_index, ...])\n",
                "        return torch.stack(lagged_values, dim=-1)\n",
                "    \n",
                "    \n",
                "    def create_network_inputs(\n",
                "        self, \n",
                "        feat_static_cat: torch.Tensor, \n",
                "        feat_static_real: torch.Tensor,\n",
                "        past_time_feat: torch.Tensor,\n",
                "        past_target: torch.Tensor,\n",
                "        past_observed_values: torch.Tensor,\n",
                "        future_time_feat: Optional[torch.Tensor] = None,\n",
                "        future_target: Optional[torch.Tensor] = None,\n",
                "    ):        \n",
                "        # time feature\n",
                "        time_feat = (\n",
                "            past_time_feat[:, self._past_length - self.context_length :, ...]\n",
                "            if future_time_feat is None or future_target is None\n",
                "            else torch.cat(\n",
                "                (\n",
                "                    past_time_feat[:, self._past_length - self.context_length :, ...],\n",
                "                    future_time_feat,\n",
                "                ),\n",
                "                dim=1,\n",
                "            )\n",
                "        )\n",
                "\n",
                "        # target\n",
                "        context = past_target[:, -self.context_length :]\n",
                "        observed_context = past_observed_values[:, -self.context_length :]        \n",
                "        # weights = torch.linspace(0.0001, 1, steps=observed_context.size(-1), device=observed_context.device)\n",
                "        _, scale = self.scaler(context, observed_context)\n",
                "\n",
                "        inputs = (\n",
                "            torch.cat((past_target, future_target), dim=1) / scale\n",
                "            if future_target is not None\n",
                "            else past_target / scale\n",
                "        )\n",
                "\n",
                "        inputs_length = (\n",
                "            self._past_length + self.prediction_length\n",
                "            if future_target is not None\n",
                "            else self._past_length\n",
                "        )\n",
                "        assert inputs.shape[1] == inputs_length\n",
                "        \n",
                "        subsequences_length = (\n",
                "            self.context_length\n",
                "            if future_time_feat is None or future_target is None\n",
                "            else self.context_length + self.prediction_length\n",
                "        )\n",
                "        \n",
                "        # embeddings\n",
                "        embedded_cat = self.embedder(feat_static_cat)\n",
                "        log_scale = scale.log() if self.input_size == 1 else scale.squeeze(1).log()\n",
                "        static_feat = torch.cat(\n",
                "            (embedded_cat, feat_static_real, log_scale),\n",
                "            dim=1,\n",
                "        )\n",
                "        expanded_static_feat = static_feat.unsqueeze(1).expand(\n",
                "            -1, time_feat.shape[1], -1\n",
                "        )\n",
                "        \n",
                "        features = torch.cat((expanded_static_feat, time_feat), dim=-1)\n",
                "        \n",
                "        #self._check_shapes(prior_input, inputs, features)\n",
                "        #sequence = torch.cat((prior_input, inputs), dim=1)\n",
                "\n",
                "        lagged_sequence = self.get_lagged_subsequences(\n",
                "            sequence=inputs,\n",
                "            subsequences_length=subsequences_length,\n",
                "        )\n",
                "\n",
                "        lags_shape = lagged_sequence.shape\n",
                "        reshaped_lagged_sequence = lagged_sequence.reshape(\n",
                "            lags_shape[0], lags_shape[1], -1\n",
                "        )\n",
                "\n",
                "        if features is None:\n",
                "            transformer_inputs = reshaped_lagged_sequence\n",
                "        else:\n",
                "            transformer_inputs = torch.cat((reshaped_lagged_sequence, features), dim=-1)\n",
                "        \n",
                "        return transformer_inputs, scale, static_feat\n",
                "    \n",
                "    def output_params(self, transformer_inputs):\n",
                "        enc_input = transformer_inputs[:, :self.context_length, ...]\n",
                "        dec_input = transformer_inputs[:, self.context_length:, ...]\n",
                "        \n",
                "        enc_out = self.encoder(src=enc_input)\n",
                "        dec_output = self.decoder(dec_input, enc_out, tgt_mask=self.tgt_mask)\n",
                "        \n",
                "        return self.param_proj(dec_output)\n",
                "\n",
                "    @torch.jit.ignore\n",
                "    def output_distribution(\n",
                "        self, params, scale=None, trailing_n=None\n",
                "    ) -> torch.distributions.Distribution:\n",
                "        sliced_params = params\n",
                "        if trailing_n is not None:\n",
                "            sliced_params = [p[:, -trailing_n:] for p in params]\n",
                "        return self.distr_output.distribution(sliced_params, scale=scale)\n",
                "    \n",
                "    # for prediction\n",
                "    def forward(\n",
                "        self,\n",
                "        feat_static_cat: torch.Tensor,\n",
                "        feat_static_real: torch.Tensor,\n",
                "        past_time_feat: torch.Tensor,\n",
                "        past_target: torch.Tensor,\n",
                "        past_observed_values: torch.Tensor,\n",
                "        future_time_feat: torch.Tensor,\n",
                "        num_parallel_samples: Optional[int] = None,\n",
                "    ) -> torch.Tensor:\n",
                "        if num_parallel_samples is None:\n",
                "            num_parallel_samples = self.num_parallel_samples\n",
                "            \n",
                "        encoder_inputs, scale, static_feat = self.create_network_inputs(\n",
                "            feat_static_cat,\n",
                "            feat_static_real,\n",
                "            past_time_feat,\n",
                "            past_target,\n",
                "            past_observed_values,\n",
                "            future_time_feat,\n",
                "        )\n",
                "        \n",
                "        enc_out = self.encoder(src=encoder_inputs)\n",
                "        \n",
                "        params = self.param_proj(enc_out)\n",
                "        distr = self.output_distribution(params, trailing_n=1)\n",
                "        \n",
                "        repeated_scale = scale.repeat_interleave(\n",
                "            repeats=self.num_parallel_samples, dim=0\n",
                "        )\n",
                "        repeated_static_feat = static_feat.repeat_interleave(\n",
                "            repeats=self.num_parallel_samples, dim=0\n",
                "        ).unsqueeze(dim=1)\n",
                "        repeated_past_target = (\n",
                "            past_target.repeat_interleave(\n",
                "                repeats=self.num_parallel_samples, dim=0\n",
                "            )\n",
                "            / repeated_scale\n",
                "        )\n",
                "        repeated_time_feat = future_time_feat.repeat_interleave(\n",
                "            repeats=self.num_parallel_samples, dim=0\n",
                "        )\n",
                "        repeated_enc_out = enc_out.repeat_interleave(\n",
                "            repeats=self.num_parallel_samples, dim=0\n",
                "        )\n",
                "\n",
                "        future_samples = []\n",
                "        \n",
                "        for k in range(self.prediction_length):\n",
                "            next_features = torch.cat(\n",
                "                (repeated_static_feat, repeated_time_feat[:, k : k + 1]),\n",
                "                dim=-1,\n",
                "            )\n",
                "            \n",
                "            lagged_sequence = self.get_lagged_subsequences(\n",
                "                sequence=repeated_past_target,\n",
                "                subsequences_length=1,\n",
                "                shift=1, \n",
                "            )\n",
                "\n",
                "            lags_shape = lagged_sequence.shape\n",
                "            reshaped_lagged_sequence = lagged_sequence.reshape(\n",
                "                lags_shape[0], lags_shape[1], -1\n",
                "            )\n",
                "            \n",
                "            decoder_input = torch.cat((reshaped_lagged_sequence, next_features), dim=-1)\n",
                "\n",
                "            output = self.decoder(decoder_input, repeated_enc_out)\n",
                "            \n",
                "            params = self.param_proj(output)\n",
                "            distr = self.output_distribution(params)\n",
                "            next_sample = distr.sample()\n",
                "            \n",
                "            repeated_past_target = torch.cat(\n",
                "                (repeated_past_target, next_sample), dim=1\n",
                "            )\n",
                "            future_samples.append(next_sample)\n",
                "\n",
                "        unscaled_future_samples = (\n",
                "            torch.cat(future_samples, dim=1) * repeated_scale\n",
                "        )\n",
                "        return unscaled_future_samples.reshape(\n",
                "            (-1, self.num_parallel_samples, self.prediction_length)\n",
                "            + self.target_shape,\n",
                "        )"
            ]
        },
        {
            "cell_type": "code",
            "execution_count": 39,
            "id": "9b1529a8",
            "metadata": {},
            "outputs": [],
            "source": [
                "class TransformerLightningModule(pl.LightningModule):\n",
                "    def __init__(\n",
                "        self,\n",
                "        model: TransformerModel,\n",
                "        loss: DistributionLoss = NegativeLogLikelihood(),\n",
                "        lr: float = 5e-3,\n",
                "        weight_decay: float = 1e-6,\n",
                "    ) -> None:\n",
                "        super().__init__()\n",
                "        self.save_hyperparameters()\n",
                "        self.model = model\n",
                "        self.loss = loss\n",
                "        self.lr = lr\n",
                "        self.weight_decay = weight_decay\n",
                "        \n",
                "    def training_step(self, batch, batch_idx: int):\n",
                "        \"\"\"Execute training step\"\"\"\n",
                "        train_loss = self(batch)\n",
                "        self.log(\n",
                "            \"train_loss\",\n",
                "            train_loss,\n",
                "            on_epoch=True,\n",
                "            on_step=False,\n",
                "            prog_bar=True,\n",
                "        )\n",
                "        return train_loss\n",
                "\n",
                "    def validation_step(self, batch, batch_idx: int):\n",
                "        \"\"\"Execute validation step\"\"\"\n",
                "        with torch.no_grad():\n",
                "            val_loss = self(batch)\n",
                "        self.log(\n",
                "            \"val_loss\", val_loss, on_epoch=True, on_step=False, prog_bar=True\n",
                "        )\n",
                "        return val_loss\n",
                "\n",
                "    def configure_optimizers(self):\n",
                "        \"\"\"Returns the optimizer to use\"\"\"\n",
                "        return torch.optim.Adam(\n",
                "            self.model.parameters(),\n",
                "            lr=self.lr,\n",
                "            weight_decay=self.weight_decay,\n",
                "        )\n",
                "\n",
                "    def forward(self, batch):\n",
                "        feat_static_cat = batch[\"feat_static_cat\"]\n",
                "        feat_static_real = batch[\"feat_static_real\"]\n",
                "        past_time_feat = batch[\"past_time_feat\"]\n",
                "        past_target = batch[\"past_target\"]\n",
                "        future_time_feat = batch[\"future_time_feat\"]\n",
                "        future_target = batch[\"future_target\"]\n",
                "        past_observed_values = batch[\"past_observed_values\"]\n",
                "        future_observed_values = batch[\"future_observed_values\"]\n",
                "        \n",
                "        transformer_inputs, scale, _ = self.model.create_network_inputs(\n",
                "            feat_static_cat,\n",
                "            feat_static_real,\n",
                "            past_time_feat,\n",
                "            past_target,\n",
                "            past_observed_values,\n",
                "            future_time_feat,\n",
                "            future_target,\n",
                "        )\n",
                "        params = self.model.output_params(transformer_inputs)\n",
                "        distr = self.model.output_distribution(params, scale)\n",
                "\n",
                "        loss_values = self.loss(distr, future_target)\n",
                "    \n",
                "        if len(self.model.target_shape) == 0:\n",
                "            loss_weights = future_observed_values\n",
                "        else:\n",
                "            loss_weights, _ = future_observed_values.min(dim=-1, keepdim=False)\n",
                "\n",
                "        return weighted_average(loss_values, weights=loss_weights)"
            ]
        },
        {
            "cell_type": "code",
            "execution_count": 40,
            "id": "f7b4c72f",
            "metadata": {},
            "outputs": [],
            "source": [
                "PREDICTION_INPUT_NAMES = [\n",
                "    \"feat_static_cat\",\n",
                "    \"feat_static_real\",\n",
                "    \"past_time_feat\",\n",
                "    \"past_target\",\n",
                "    \"past_observed_values\",\n",
                "    \"future_time_feat\",\n",
                "]\n",
                "\n",
                "TRAINING_INPUT_NAMES = PREDICTION_INPUT_NAMES + [\n",
                "    \"future_target\",\n",
                "    \"future_observed_values\",\n",
                "]"
            ]
        },
        {
            "cell_type": "code",
            "execution_count": 41,
            "id": "1937891a",
            "metadata": {},
            "outputs": [],
            "source": [
                "class TransformerEstimator(PyTorchLightningEstimator):\n",
                "    @validated()\n",
                "    def __init__(\n",
                "        self,\n",
                "        freq: str,\n",
                "        prediction_length: int,\n",
                "        \n",
                "        # Transformer arguments\n",
                "        nhead: int,\n",
                "        num_encoder_layers: int,\n",
                "        num_decoder_layers: int,\n",
                "        attention_args = {\"name\": \"scaled_dot_product\"},\n",
                "        input_size: int = 1,\n",
                "        activation: str = \"gelu\",\n",
                "        dropout: float = 0.1,\n",
                "        use_rotary_embeddings = False,\n",
                "        reversible = False,\n",
                "\n",
                "        context_length: Optional[int] = None,\n",
                "\n",
                "        num_feat_dynamic_real: int = 0,\n",
                "        num_feat_static_cat: int = 0,\n",
                "        num_feat_static_real: int = 0,\n",
                "        cardinality: Optional[List[int]] = None,\n",
                "        embedding_dimension: Optional[List[int]] = None,\n",
                "        distr_output: DistributionOutput = StudentTOutput(),\n",
                "        loss: DistributionLoss = NegativeLogLikelihood(),\n",
                "        scaling: bool = True,\n",
                "        lags_seq: Optional[List[int]] = None,\n",
                "        time_features: Optional[List[TimeFeature]] = None,\n",
                "        num_parallel_samples: int = 100,\n",
                "        batch_size: int = 32,\n",
                "        num_batches_per_epoch: int = 50,\n",
                "        trainer_kwargs: Optional[Dict[str, Any]] = dict(),\n",
                "    ) -> None:\n",
                "        trainer_kwargs = {\n",
                "            \"max_epochs\": 100,\n",
                "            **trainer_kwargs,\n",
                "        }\n",
                "        super().__init__(trainer_kwargs=trainer_kwargs)\n",
                "        \n",
                "        self.freq = freq\n",
                "        self.context_length = (\n",
                "            context_length if context_length is not None else prediction_length\n",
                "        )\n",
                "        self.prediction_length = prediction_length\n",
                "        self.distr_output = distr_output\n",
                "        self.loss = loss\n",
                "        \n",
                "        self.input_size = input_size\n",
                "        self.nhead = nhead\n",
                "        self.num_encoder_layers = num_encoder_layers\n",
                "        self.num_decoder_layers = num_decoder_layers\n",
                "        self.activation = activation\n",
                "        self.dropout = dropout\n",
                "        self.attention_args = attention_args\n",
                "        self.use_rotary_embeddings = use_rotary_embeddings\n",
                "        self.reversible = reversible\n",
                "        \n",
                "        self.num_feat_dynamic_real = num_feat_dynamic_real\n",
                "        self.num_feat_static_cat = num_feat_static_cat\n",
                "        self.num_feat_static_real = num_feat_static_real\n",
                "        self.cardinality = (\n",
                "            cardinality if cardinality and num_feat_static_cat > 0 else [1]\n",
                "        )\n",
                "        self.embedding_dimension = embedding_dimension\n",
                "        self.scaling = scaling\n",
                "        self.lags_seq = lags_seq\n",
                "        self.time_features = (\n",
                "            time_features\n",
                "            if time_features is not None\n",
                "            else time_features_from_frequency_str(self.freq)\n",
                "        )\n",
                "\n",
                "        self.num_parallel_samples = num_parallel_samples\n",
                "        self.batch_size = batch_size\n",
                "        self.num_batches_per_epoch = num_batches_per_epoch\n",
                "\n",
                "        self.train_sampler = ExpectedNumInstanceSampler(\n",
                "            num_instances=1.0, min_future=prediction_length\n",
                "        )\n",
                "        self.validation_sampler = ValidationSplitSampler(\n",
                "            min_future=prediction_length\n",
                "        )\n",
                "        \n",
                "    def create_transformation(self) -> Transformation:\n",
                "        remove_field_names = []\n",
                "        if self.num_feat_static_real == 0:\n",
                "            remove_field_names.append(FieldName.FEAT_STATIC_REAL)\n",
                "        if self.num_feat_dynamic_real == 0:\n",
                "            remove_field_names.append(FieldName.FEAT_DYNAMIC_REAL)\n",
                "\n",
                "        return Chain(\n",
                "            [RemoveFields(field_names=remove_field_names)]\n",
                "            + (\n",
                "                [SetField(output_field=FieldName.FEAT_STATIC_CAT, value=[0])]\n",
                "                if not self.num_feat_static_cat > 0\n",
                "                else []\n",
                "            )\n",
                "            + (\n",
                "                [\n",
                "                    SetField(\n",
                "                        output_field=FieldName.FEAT_STATIC_REAL, value=[0.0]\n",
                "                    )\n",
                "                ]\n",
                "                if not self.num_feat_static_real > 0\n",
                "                else []\n",
                "            )\n",
                "            + [\n",
                "                AsNumpyArray(\n",
                "                    field=FieldName.FEAT_STATIC_CAT,\n",
                "                    expected_ndim=1,\n",
                "                    dtype=np.long,\n",
                "                ),\n",
                "                AsNumpyArray(\n",
                "                    field=FieldName.FEAT_STATIC_REAL,\n",
                "                    expected_ndim=1,\n",
                "                ),\n",
                "                AsNumpyArray(\n",
                "                    field=FieldName.TARGET,\n",
                "                    # in the following line, we add 1 for the time dimension\n",
                "                    expected_ndim=1 + len(self.distr_output.event_shape),\n",
                "                ),\n",
                "                AddObservedValuesIndicator(\n",
                "                    target_field=FieldName.TARGET,\n",
                "                    output_field=FieldName.OBSERVED_VALUES,\n",
                "                ),\n",
                "                AddTimeFeatures(\n",
                "                    start_field=FieldName.START,\n",
                "                    target_field=FieldName.TARGET,\n",
                "                    output_field=FieldName.FEAT_TIME,\n",
                "                    time_features=self.time_features,\n",
                "                    pred_length=self.prediction_length,\n",
                "                ),\n",
                "                AddAgeFeature(\n",
                "                    target_field=FieldName.TARGET,\n",
                "                    output_field=FieldName.FEAT_AGE,\n",
                "                    pred_length=self.prediction_length,\n",
                "                    log_scale=True,\n",
                "                ),\n",
                "                VstackFeatures(\n",
                "                    output_field=FieldName.FEAT_TIME,\n",
                "                    input_fields=[FieldName.FEAT_TIME, FieldName.FEAT_AGE]\n",
                "                    + (\n",
                "                        [FieldName.FEAT_DYNAMIC_REAL]\n",
                "                        if self.num_feat_dynamic_real > 0\n",
                "                        else []\n",
                "                    ),\n",
                "                ),\n",
                "            ]\n",
                "        )\n",
                "\n",
                "    def _create_instance_splitter(\n",
                "        self, module: TransformerLightningModule, mode: str\n",
                "    ):\n",
                "        assert mode in [\"training\", \"validation\", \"test\"]\n",
                "\n",
                "        instance_sampler = {\n",
                "            \"training\": self.train_sampler,\n",
                "            \"validation\": self.validation_sampler,\n",
                "            \"test\": TestSplitSampler(),\n",
                "        }[mode]\n",
                "\n",
                "        return InstanceSplitter(\n",
                "            target_field=FieldName.TARGET,\n",
                "            is_pad_field=FieldName.IS_PAD,\n",
                "            start_field=FieldName.START,\n",
                "            forecast_start_field=FieldName.FORECAST_START,\n",
                "            instance_sampler=instance_sampler,\n",
                "            past_length=module.model._past_length,\n",
                "            future_length=self.prediction_length,\n",
                "            time_series_fields=[\n",
                "                FieldName.FEAT_TIME,\n",
                "                FieldName.OBSERVED_VALUES,\n",
                "            ],\n",
                "            dummy_value=self.distr_output.value_in_support,\n",
                "        )\n",
                "\n",
                "    def create_training_data_loader(\n",
                "        self,\n",
                "        data: Dataset,\n",
                "        module: TransformerLightningModule,\n",
                "        shuffle_buffer_length: Optional[int] = None,\n",
                "        **kwargs,\n",
                "    ) -> Iterable:\n",
                "        transformation = self._create_instance_splitter(\n",
                "            module, \"training\"\n",
                "        ) + SelectFields(TRAINING_INPUT_NAMES)\n",
                "\n",
                "        training_instances = transformation.apply(\n",
                "            Cyclic(data)\n",
                "            if shuffle_buffer_length is None\n",
                "            else PseudoShuffled(\n",
                "                Cyclic(data), shuffle_buffer_length=shuffle_buffer_length\n",
                "            )\n",
                "        )\n",
                "\n",
                "        return IterableSlice(\n",
                "            iter(\n",
                "                DataLoader(\n",
                "                    IterableDataset(training_instances),\n",
                "                    batch_size=self.batch_size,\n",
                "                    **kwargs,\n",
                "                )\n",
                "            ),\n",
                "            self.num_batches_per_epoch,\n",
                "        )\n",
                "\n",
                "    def create_validation_data_loader(\n",
                "        self,\n",
                "        data: Dataset,\n",
                "        module: TransformerLightningModule,\n",
                "        **kwargs,\n",
                "    ) -> Iterable:\n",
                "        transformation = self._create_instance_splitter(\n",
                "            module, \"validation\"\n",
                "        ) + SelectFields(TRAINING_INPUT_NAMES)\n",
                "\n",
                "        validation_instances = transformation.apply(data)\n",
                "\n",
                "        return DataLoader(\n",
                "            IterableDataset(validation_instances),\n",
                "            batch_size=self.batch_size,\n",
                "            **kwargs,\n",
                "        )\n",
                "    \n",
                "    def create_predictor(\n",
                "        self,\n",
                "        transformation: Transformation,\n",
                "        module: TransformerLightningModule,\n",
                "    ) -> PyTorchPredictor:\n",
                "        prediction_splitter = self._create_instance_splitter(module, \"test\")\n",
                "        \n",
                "        return PyTorchPredictor(\n",
                "            input_transform=transformation + prediction_splitter,\n",
                "            input_names=PREDICTION_INPUT_NAMES,\n",
                "            prediction_net=module.model,\n",
                "            batch_size=self.batch_size,\n",
                "            prediction_length=self.prediction_length,\n",
                "            device=torch.device(\"cuda\" if torch.cuda.is_available() else \"cpu\"),\n",
                "        )\n",
                "\n",
                "    def create_lightning_module(self) -> TransformerLightningModule:\n",
                "        model = TransformerModel(\n",
                "            freq=self.freq,\n",
                "            context_length=self.context_length,\n",
                "            prediction_length=self.prediction_length,\n",
                "            num_feat_dynamic_real=1 + self.num_feat_dynamic_real + len(self.time_features),\n",
                "            num_feat_static_real=max(1, self.num_feat_static_real),\n",
                "            num_feat_static_cat=max(1, self.num_feat_static_cat),\n",
                "            cardinality=self.cardinality,\n",
                "            embedding_dimension=self.embedding_dimension,\n",
                "\n",
                "            # transformer arguments\n",
                "            nhead=self.nhead,\n",
                "            num_encoder_layers=self.num_encoder_layers,\n",
                "            num_decoder_layers=self.num_decoder_layers,\n",
                "            activation=self.activation,\n",
                "            dropout=self.dropout,\n",
                "            attention_args=self.attention_args,\n",
                "            use_rotary_embeddings=self.use_rotary_embeddings,\n",
                "            reversible=self.reversible,\n",
                "\n",
                "            # univariate input\n",
                "            input_size=self.input_size,\n",
                "            distr_output=self.distr_output,\n",
                "            lags_seq=self.lags_seq,\n",
                "            scaling=self.scaling,\n",
                "            num_parallel_samples=self.num_parallel_samples,\n",
                "        )\n",
                "        \n",
                "        return TransformerLightningModule(model=model, loss=self.loss)"
            ]
        },
        {
            "cell_type": "code",
            "execution_count": 7,
            "id": "7c8e5928",
            "metadata": {},
            "outputs": [
                {
                    "data": {
                        "application/vnd.jupyter.widget-view+json": {
                            "model_id": "4fa53b2d063447c7a5d0bd13f863b494",
                            "version_major": 2,
                            "version_minor": 0
                        },
                        "text/plain": [
                            "Downloading builder script:   0%|          | 0.00/2.36k [00:00<?, ?B/s]"
                        ]
                    },
                    "metadata": {},
                    "output_type": "display_data"
                },
                {
                    "data": {
                        "application/vnd.jupyter.widget-view+json": {
                            "model_id": "253d635b674a4d0898df36d1aea2c025",
                            "version_major": 2,
                            "version_minor": 0
                        },
                        "text/plain": [
                            "Downloading metadata:   0%|          | 0.00/1.14k [00:00<?, ?B/s]"
                        ]
                    },
                    "metadata": {},
                    "output_type": "display_data"
                },
                {
                    "data": {
                        "application/vnd.jupyter.widget-view+json": {
                            "model_id": "c667b9860a09484097bf0526fe151f87",
                            "version_major": 2,
                            "version_minor": 0
                        },
                        "text/plain": [
                            "Downloading extra modules:   0%|          | 0.00/378 [00:00<?, ?B/s]"
                        ]
                    },
                    "metadata": {},
                    "output_type": "display_data"
                },
                {
                    "name": "stderr",
                    "output_type": "stream",
                    "text": [
                        "WARNING:datasets.builder:Reusing dataset electricity_load_diagrams (/home/kashif/.cache/huggingface/datasets/electricity_load_diagrams/lstnet/1.0.0/fe3dd01c39428ad92523a7ced0df3fdf669cb0548b3dd16fb9f7009381aa440f)\n"
                    ]
                },
                {
                    "data": {
                        "application/vnd.jupyter.widget-view+json": {
                            "model_id": "2e7477063bf14ae581cc716e9c52105b",
                            "version_major": 2,
                            "version_minor": 0
                        },
                        "text/plain": [
                            "  0%|          | 0/3 [00:00<?, ?it/s]"
                        ]
                    },
                    "metadata": {},
                    "output_type": "display_data"
                }
            ],
            "source": [
                "dataset = load_dataset(\"electricity_load_diagrams\", \"lstnet\")"
            ]
        },
        {
            "cell_type": "code",
            "execution_count": 9,
            "id": "a6341f56",
            "metadata": {},
            "outputs": [],
            "source": [
                "freq = \"1H\"\n",
                "prediction_length = 24"
            ]
        },
        {
            "cell_type": "code",
            "execution_count": 10,
            "id": "17df7928",
            "metadata": {},
            "outputs": [],
            "source": [
                "train_ds = ListDataset(dataset[\"train\"], freq=freq)"
            ]
        },
        {
            "cell_type": "code",
            "execution_count": 11,
            "id": "0545cd0d",
            "metadata": {},
            "outputs": [],
            "source": [
                "val_ds = ListDataset(dataset[\"validation\"], freq=freq)"
            ]
        },
        {
            "cell_type": "code",
            "execution_count": 42,
            "id": "2ed78c2e",
            "metadata": {},
            "outputs": [],
            "source": [
                "estimator = TransformerEstimator(\n",
                "    freq=freq,\n",
                "    prediction_length=prediction_length,\n",
                "    context_length=8*prediction_length,\n",
                "    \n",
                "    nhead=2,\n",
                "    num_encoder_layers=2,\n",
                "    num_decoder_layers=2,\n",
                "    activation=\"gelu\",\n",
                "    dropout=0.2,\n",
                "    attention_args={\"name\": \"global\",},\n",
                "    reversible=True, \n",
                "    \n",
                "    num_feat_static_cat=1,\n",
                "    cardinality=[len(dataset[\"train\"])],\n",
                "    embedding_dimension=[5],\n",
                "\n",
                "    batch_size=128,\n",
                "    num_batches_per_epoch=100,\n",
                "    trainer_kwargs=dict(max_epochs=10, gpus='1', logger=CSVLogger(\"logs\", name=\"transformer\")),\n",
                ")"
            ]
        },
        {
            "cell_type": "code",
            "execution_count": 43,
            "id": "635ee7af",
            "metadata": {
                "scrolled": true
            },
            "outputs": [
                {
                    "name": "stderr",
                    "output_type": "stream",
                    "text": [
                        "/tmp/ipykernel_19146/3560964647.py:113: DeprecationWarning: `np.long` is a deprecated alias for `np.compat.long`. To silence this warning, use `np.compat.long` by itself. In the likely event your code does not need to work on Python 2 you can use the builtin `int` for which `np.compat.long` is itself an alias. Doing this will not modify any behaviour and is safe. When replacing `np.long`, you may wish to use e.g. `np.int64` or `np.int32` to specify the precision. If you wish to review your current use, check the release note link for additional information.\n",
                        "Deprecated in NumPy 1.20; for more details and guidance: https://numpy.org/devdocs/release/1.20.0-notes.html#deprecations\n",
                        "  dtype=np.long,\n",
                        "INFO:pytorch_lightning.utilities.rank_zero:GPU available: True, used: True\n",
                        "INFO:pytorch_lightning.utilities.rank_zero:TPU available: False, using: 0 TPU cores\n",
                        "INFO:pytorch_lightning.utilities.rank_zero:IPU available: False, using: 0 IPUs\n",
                        "INFO:pytorch_lightning.utilities.rank_zero:HPU available: False, using: 0 HPUs\n",
                        "INFO:pytorch_lightning.accelerators.gpu:LOCAL_RANK: 0 - CUDA_VISIBLE_DEVICES: [0]\n",
                        "INFO:pytorch_lightning.callbacks.model_summary:\n",
                        "  | Name  | Type                  | Params\n",
                        "------------------------------------------------\n",
                        "0 | model | TransformerModel      | 112 K \n",
                        "1 | loss  | NegativeLogLikelihood | 0     \n",
                        "------------------------------------------------\n",
                        "112 K     Trainable params\n",
                        "0         Non-trainable params\n",
                        "112 K     Total params\n",
                        "0.452     Total estimated model params size (MB)\n"
                    ]
                },
                {
                    "data": {
                        "application/vnd.jupyter.widget-view+json": {
                            "model_id": "",
                            "version_major": 2,
                            "version_minor": 0
                        },
                        "text/plain": [
                            "Sanity Checking: 0it [00:00, ?it/s]"
                        ]
                    },
                    "metadata": {},
                    "output_type": "display_data"
                },
                {
                    "name": "stderr",
                    "output_type": "stream",
                    "text": [
                        "WARNING:root:Non-contiguous input tensor found. Making it contiguous, but could have perf or trainer implications\n"
                    ]
                },
                {
                    "data": {
                        "application/vnd.jupyter.widget-view+json": {
                            "model_id": "6ca1e20100a04777827c248813b5402b",
                            "version_major": 2,
                            "version_minor": 0
                        },
                        "text/plain": [
                            "Training: 0it [00:00, ?it/s]"
                        ]
                    },
                    "metadata": {},
                    "output_type": "display_data"
                },
                {
                    "data": {
                        "application/vnd.jupyter.widget-view+json": {
                            "model_id": "",
                            "version_major": 2,
                            "version_minor": 0
                        },
                        "text/plain": [
                            "Validation: 0it [00:00, ?it/s]"
                        ]
                    },
                    "metadata": {},
                    "output_type": "display_data"
                },
                {
                    "name": "stderr",
                    "output_type": "stream",
                    "text": [
                        "INFO:pytorch_lightning.utilities.rank_zero:Epoch 0, global step 100: 'val_loss' reached 6.70740 (best 6.70740), saving model to 'logs/transformer/version_93/checkpoints/epoch=0-step=100.ckpt' as top 1\n"
                    ]
                },
                {
                    "data": {
                        "application/vnd.jupyter.widget-view+json": {
                            "model_id": "",
                            "version_major": 2,
                            "version_minor": 0
                        },
                        "text/plain": [
                            "Validation: 0it [00:00, ?it/s]"
                        ]
                    },
                    "metadata": {},
                    "output_type": "display_data"
                },
                {
                    "name": "stderr",
                    "output_type": "stream",
                    "text": [
                        "INFO:pytorch_lightning.utilities.rank_zero:Epoch 1, global step 200: 'val_loss' reached 6.34025 (best 6.34025), saving model to 'logs/transformer/version_93/checkpoints/epoch=1-step=200.ckpt' as top 1\n"
                    ]
                },
                {
                    "data": {
                        "application/vnd.jupyter.widget-view+json": {
                            "model_id": "",
                            "version_major": 2,
                            "version_minor": 0
                        },
                        "text/plain": [
                            "Validation: 0it [00:00, ?it/s]"
                        ]
                    },
                    "metadata": {},
                    "output_type": "display_data"
                },
                {
                    "name": "stderr",
                    "output_type": "stream",
                    "text": [
                        "INFO:pytorch_lightning.utilities.rank_zero:Epoch 2, global step 300: 'val_loss' reached 5.88945 (best 5.88945), saving model to 'logs/transformer/version_93/checkpoints/epoch=2-step=300.ckpt' as top 1\n"
                    ]
                },
                {
                    "data": {
                        "application/vnd.jupyter.widget-view+json": {
                            "model_id": "",
                            "version_major": 2,
                            "version_minor": 0
                        },
                        "text/plain": [
                            "Validation: 0it [00:00, ?it/s]"
                        ]
                    },
                    "metadata": {},
                    "output_type": "display_data"
                },
                {
                    "name": "stderr",
                    "output_type": "stream",
                    "text": [
                        "INFO:pytorch_lightning.utilities.rank_zero:Epoch 3, global step 400: 'val_loss' was not in top 1\n"
                    ]
                },
                {
                    "data": {
                        "application/vnd.jupyter.widget-view+json": {
                            "model_id": "",
                            "version_major": 2,
                            "version_minor": 0
                        },
                        "text/plain": [
                            "Validation: 0it [00:00, ?it/s]"
                        ]
                    },
                    "metadata": {},
                    "output_type": "display_data"
                },
                {
                    "name": "stderr",
                    "output_type": "stream",
                    "text": [
                        "INFO:pytorch_lightning.utilities.rank_zero:Epoch 4, global step 500: 'val_loss' reached 5.54425 (best 5.54425), saving model to 'logs/transformer/version_93/checkpoints/epoch=4-step=500.ckpt' as top 1\n"
                    ]
                },
                {
                    "data": {
                        "application/vnd.jupyter.widget-view+json": {
                            "model_id": "",
                            "version_major": 2,
                            "version_minor": 0
                        },
                        "text/plain": [
                            "Validation: 0it [00:00, ?it/s]"
                        ]
                    },
                    "metadata": {},
                    "output_type": "display_data"
                },
                {
                    "name": "stderr",
                    "output_type": "stream",
                    "text": [
                        "INFO:pytorch_lightning.utilities.rank_zero:Epoch 5, global step 600: 'val_loss' reached 5.42859 (best 5.42859), saving model to 'logs/transformer/version_93/checkpoints/epoch=5-step=600.ckpt' as top 1\n"
                    ]
                },
                {
                    "data": {
                        "application/vnd.jupyter.widget-view+json": {
                            "model_id": "",
                            "version_major": 2,
                            "version_minor": 0
                        },
                        "text/plain": [
                            "Validation: 0it [00:00, ?it/s]"
                        ]
                    },
                    "metadata": {},
                    "output_type": "display_data"
                },
                {
                    "name": "stderr",
                    "output_type": "stream",
                    "text": [
                        "INFO:pytorch_lightning.utilities.rank_zero:Epoch 6, global step 700: 'val_loss' reached 5.16974 (best 5.16974), saving model to 'logs/transformer/version_93/checkpoints/epoch=6-step=700.ckpt' as top 1\n"
                    ]
                },
                {
                    "data": {
                        "application/vnd.jupyter.widget-view+json": {
                            "model_id": "",
                            "version_major": 2,
                            "version_minor": 0
                        },
                        "text/plain": [
                            "Validation: 0it [00:00, ?it/s]"
                        ]
                    },
                    "metadata": {},
                    "output_type": "display_data"
                },
                {
                    "name": "stderr",
                    "output_type": "stream",
                    "text": [
                        "INFO:pytorch_lightning.utilities.rank_zero:Epoch 7, global step 800: 'val_loss' was not in top 1\n"
                    ]
                },
                {
                    "data": {
                        "application/vnd.jupyter.widget-view+json": {
                            "model_id": "",
                            "version_major": 2,
                            "version_minor": 0
                        },
                        "text/plain": [
                            "Validation: 0it [00:00, ?it/s]"
                        ]
                    },
                    "metadata": {},
                    "output_type": "display_data"
                },
                {
                    "name": "stderr",
                    "output_type": "stream",
                    "text": [
                        "INFO:pytorch_lightning.utilities.rank_zero:Epoch 8, global step 900: 'val_loss' was not in top 1\n"
                    ]
                },
                {
                    "data": {
                        "application/vnd.jupyter.widget-view+json": {
                            "model_id": "",
                            "version_major": 2,
                            "version_minor": 0
                        },
                        "text/plain": [
                            "Validation: 0it [00:00, ?it/s]"
                        ]
                    },
                    "metadata": {},
                    "output_type": "display_data"
                },
                {
                    "name": "stderr",
                    "output_type": "stream",
                    "text": [
                        "INFO:pytorch_lightning.utilities.rank_zero:Epoch 9, global step 1000: 'val_loss' reached 5.08167 (best 5.08167), saving model to 'logs/transformer/version_93/checkpoints/epoch=9-step=1000.ckpt' as top 1\n",
                        "/home/kashif/.env/pytorch/lib/python3.8/site-packages/pytorch_lightning/utilities/parsing.py:261: UserWarning: Attribute 'model' is an instance of `nn.Module` and is already saved during checkpointing. It is recommended to ignore them using `self.save_hyperparameters(ignore=['model'])`.\n",
                        "  rank_zero_warn(\n",
                        "/home/kashif/.env/pytorch/lib/python3.8/site-packages/pytorch_lightning/utilities/parsing.py:261: UserWarning: Attribute 'loss' is an instance of `nn.Module` and is already saved during checkpointing. It is recommended to ignore them using `self.save_hyperparameters(ignore=['loss'])`.\n",
                        "  rank_zero_warn(\n"
                    ]
                }
            ],
            "source": [
                "predictor = estimator.train(\n",
                "    training_data=train_ds,\n",
                "    validation_data=val_ds,\n",
                "    num_workers=8,\n",
                "    shuffle_buffer_length=1024\n",
                ")"
            ]
        },
        {
            "cell_type": "code",
            "execution_count": 44,
            "id": "a21f3940",
            "metadata": {},
            "outputs": [],
            "source": [
                "test_ds = ListDataset(dataset[\"test\"], freq=freq)"
            ]
        },
        {
            "cell_type": "code",
            "execution_count": 53,
            "id": "8f776698",
            "metadata": {},
            "outputs": [],
            "source": [
                "forecast_it, ts_it = make_evaluation_predictions(\n",
                "    dataset=test_ds,\n",
                "    predictor=predictor,\n",
                ")"
            ]
        },
        {
            "cell_type": "code",
            "execution_count": 54,
            "id": "8a162f3c",
            "metadata": {
                "scrolled": true
            },
            "outputs": [],
            "source": [
                "forecasts = list(forecast_it)"
            ]
        },
        {
            "cell_type": "code",
            "execution_count": 55,
            "id": "50635a96",
            "metadata": {},
            "outputs": [],
            "source": [
                "tss = list(ts_it)"
            ]
        },
        {
            "cell_type": "code",
            "execution_count": 56,
            "id": "cadfc930",
            "metadata": {},
            "outputs": [],
            "source": [
                "evaluator = Evaluator()"
            ]
        },
        {
            "cell_type": "code",
            "execution_count": 57,
            "id": "b4ea2090",
            "metadata": {},
            "outputs": [
                {
                    "name": "stderr",
                    "output_type": "stream",
                    "text": [
                        "Running evaluation: 2240it [00:01, 1267.25it/s]\n",
                        "/home/kashif/gluon-ts-PR/src/gluonts/evaluation/_base.py:251: FutureWarning: Could not cast to float64, falling back to object. This behavior is deprecated. In a future version, when a dtype is passed to 'DataFrame', either all columns will be cast to that dtype, or a TypeError will be raised.\n",
                        "  metrics_per_ts = pd.DataFrame(rows, dtype=np.float64)\n",
                        "/home/kashif/.env/pytorch/lib/python3.8/site-packages/pandas/core/construction.py:781: UserWarning: Warning: converting a masked element to nan.\n",
                        "  subarr = np.array(arr, dtype=dtype, copy=copy)\n"
                    ]
                }
            ],
            "source": [
                "agg_metrics, ts_metrics = evaluator(iter(tss), iter(forecasts))"
            ]
        },
        {
            "cell_type": "code",
            "execution_count": 58,
            "id": "998dfc78",
            "metadata": {},
            "outputs": [
                {
                    "data": {
                        "text/plain": [
                            "{'MSE': 5379897.122561459,\n",
                            " 'abs_error': 13506736.531825066,\n",
                            " 'abs_target_sum': 128307480.34037971,\n",
                            " 'abs_target_mean': 2386.671881331468,\n",
                            " 'seasonal_error': 190.04280429569238,\n",
                            " 'MASE': 0.9860190993840805,\n",
                            " 'MAPE': 0.12076296531031802,\n",
                            " 'sMAPE': 0.1342430860519276,\n",
                            " 'MSIS': 7.365772325780748,\n",
                            " 'QuantileLoss[0.1]': 5516005.826675046,\n",
                            " 'Coverage[0.1]': 0.04629836309523808,\n",
                            " 'QuantileLoss[0.2]': 9103365.535402268,\n",
                            " 'Coverage[0.2]': 0.11302083333333333,\n",
                            " 'QuantileLoss[0.3]': 11589326.578895718,\n",
                            " 'Coverage[0.3]': 0.18986235119047618,\n",
                            " 'QuantileLoss[0.4]': 12951811.902575932,\n",
                            " 'Coverage[0.4]': 0.2767671130952381,\n",
                            " 'QuantileLoss[0.5]': 13506736.458244145,\n",
                            " 'Coverage[0.5]': 0.36928943452380947,\n",
                            " 'QuantileLoss[0.6]': 13151443.389767516,\n",
                            " 'Coverage[0.6]': 0.46084449404761907,\n",
                            " 'QuantileLoss[0.7]': 12148937.274402771,\n",
                            " 'Coverage[0.7]': 0.5702380952380953,\n",
                            " 'QuantileLoss[0.8]': 10166412.156378534,\n",
                            " 'Coverage[0.8]': 0.69296875,\n",
                            " 'QuantileLoss[0.9]': 6761442.813759254,\n",
                            " 'Coverage[0.9]': 0.8289434523809524,\n",
                            " 'RMSE': 2319.4605240360224,\n",
                            " 'NRMSE': 0.9718388783053203,\n",
                            " 'ND': 0.10526850419004256,\n",
                            " 'wQuantileLoss[0.1]': 0.04299052410694952,\n",
                            " 'wQuantileLoss[0.2]': 0.07094960879328673,\n",
                            " 'wQuantileLoss[0.3]': 0.09032463694362203,\n",
                            " 'wQuantileLoss[0.4]': 0.10094354489868243,\n",
                            " 'wQuantileLoss[0.5]': 0.10526850361656921,\n",
                            " 'wQuantileLoss[0.6]': 0.1024994283644164,\n",
                            " 'wQuantileLoss[0.7]': 0.0946861183944501,\n",
                            " 'wQuantileLoss[0.8]': 0.079234758015734,\n",
                            " 'wQuantileLoss[0.9]': 0.052697183327286935,\n",
                            " 'mean_absolute_QuantileLoss': 10543942.437344575,\n",
                            " 'mean_wQuantileLoss': 0.08217714516233304,\n",
                            " 'MAE_Coverage': 0.10575190145502646,\n",
                            " 'OWA': nan}"
                        ]
                    },
                    "execution_count": 58,
                    "metadata": {},
                    "output_type": "execute_result"
                }
            ],
            "source": [
                "agg_metrics"
            ]
        },
        {
            "cell_type": "code",
            "execution_count": 59,
            "id": "10ea7d83",
            "metadata": {},
            "outputs": [
                {
                    "ename": "TypeError",
                    "evalue": "float() argument must be a string or a number, not 'Period'",
                    "output_type": "error",
                    "traceback": [
                        "\u001b[0;31m---------------------------------------------------------------------------\u001b[0m",
                        "\u001b[0;31mTypeError\u001b[0m                                 Traceback (most recent call last)",
                        "Input \u001b[0;32mIn [59]\u001b[0m, in \u001b[0;36m<cell line: 5>\u001b[0;34m()\u001b[0m\n\u001b[1;32m      5\u001b[0m \u001b[38;5;28;01mfor\u001b[39;00m idx, (forecast, ts) \u001b[38;5;129;01min\u001b[39;00m islice(\u001b[38;5;28menumerate\u001b[39m(\u001b[38;5;28mzip\u001b[39m(forecasts, tss)), \u001b[38;5;241m9\u001b[39m):\n\u001b[1;32m      6\u001b[0m     ax \u001b[38;5;241m=\u001b[39m plt\u001b[38;5;241m.\u001b[39msubplot(\u001b[38;5;241m3\u001b[39m, \u001b[38;5;241m3\u001b[39m, idx\u001b[38;5;241m+\u001b[39m\u001b[38;5;241m1\u001b[39m)\n\u001b[0;32m----> 8\u001b[0m     plt\u001b[38;5;241m.\u001b[39mplot(ts[\u001b[38;5;241m-\u001b[39m\u001b[38;5;241m4\u001b[39m \u001b[38;5;241m*\u001b[39m prediction_length:], label\u001b[38;5;241m=\u001b[39m\u001b[38;5;124m\"\u001b[39m\u001b[38;5;124mtarget\u001b[39m\u001b[38;5;124m\"\u001b[39m, )\n\u001b[1;32m      9\u001b[0m     forecast\u001b[38;5;241m.\u001b[39mplot( color\u001b[38;5;241m=\u001b[39m\u001b[38;5;124m'\u001b[39m\u001b[38;5;124mg\u001b[39m\u001b[38;5;124m'\u001b[39m)\n\u001b[1;32m     10\u001b[0m     plt\u001b[38;5;241m.\u001b[39mxticks(rotation\u001b[38;5;241m=\u001b[39m\u001b[38;5;241m60\u001b[39m)\n",
                        "File \u001b[0;32m~/.env/pytorch/lib/python3.8/site-packages/matplotlib/pyplot.py:2769\u001b[0m, in \u001b[0;36mplot\u001b[0;34m(scalex, scaley, data, *args, **kwargs)\u001b[0m\n\u001b[1;32m   2767\u001b[0m \u001b[38;5;129m@_copy_docstring_and_deprecators\u001b[39m(Axes\u001b[38;5;241m.\u001b[39mplot)\n\u001b[1;32m   2768\u001b[0m \u001b[38;5;28;01mdef\u001b[39;00m \u001b[38;5;21mplot\u001b[39m(\u001b[38;5;241m*\u001b[39margs, scalex\u001b[38;5;241m=\u001b[39m\u001b[38;5;28;01mTrue\u001b[39;00m, scaley\u001b[38;5;241m=\u001b[39m\u001b[38;5;28;01mTrue\u001b[39;00m, data\u001b[38;5;241m=\u001b[39m\u001b[38;5;28;01mNone\u001b[39;00m, \u001b[38;5;241m*\u001b[39m\u001b[38;5;241m*\u001b[39mkwargs):\n\u001b[0;32m-> 2769\u001b[0m     \u001b[38;5;28;01mreturn\u001b[39;00m \u001b[43mgca\u001b[49m\u001b[43m(\u001b[49m\u001b[43m)\u001b[49m\u001b[38;5;241;43m.\u001b[39;49m\u001b[43mplot\u001b[49m\u001b[43m(\u001b[49m\n\u001b[1;32m   2770\u001b[0m \u001b[43m        \u001b[49m\u001b[38;5;241;43m*\u001b[39;49m\u001b[43margs\u001b[49m\u001b[43m,\u001b[49m\u001b[43m \u001b[49m\u001b[43mscalex\u001b[49m\u001b[38;5;241;43m=\u001b[39;49m\u001b[43mscalex\u001b[49m\u001b[43m,\u001b[49m\u001b[43m \u001b[49m\u001b[43mscaley\u001b[49m\u001b[38;5;241;43m=\u001b[39;49m\u001b[43mscaley\u001b[49m\u001b[43m,\u001b[49m\n\u001b[1;32m   2771\u001b[0m \u001b[43m        \u001b[49m\u001b[38;5;241;43m*\u001b[39;49m\u001b[38;5;241;43m*\u001b[39;49m\u001b[43m(\u001b[49m\u001b[43m{\u001b[49m\u001b[38;5;124;43m\"\u001b[39;49m\u001b[38;5;124;43mdata\u001b[39;49m\u001b[38;5;124;43m\"\u001b[39;49m\u001b[43m:\u001b[49m\u001b[43m \u001b[49m\u001b[43mdata\u001b[49m\u001b[43m}\u001b[49m\u001b[43m \u001b[49m\u001b[38;5;28;43;01mif\u001b[39;49;00m\u001b[43m \u001b[49m\u001b[43mdata\u001b[49m\u001b[43m \u001b[49m\u001b[38;5;129;43;01mis\u001b[39;49;00m\u001b[43m \u001b[49m\u001b[38;5;129;43;01mnot\u001b[39;49;00m\u001b[43m \u001b[49m\u001b[38;5;28;43;01mNone\u001b[39;49;00m\u001b[43m \u001b[49m\u001b[38;5;28;43;01melse\u001b[39;49;00m\u001b[43m \u001b[49m\u001b[43m{\u001b[49m\u001b[43m}\u001b[49m\u001b[43m)\u001b[49m\u001b[43m,\u001b[49m\u001b[43m \u001b[49m\u001b[38;5;241;43m*\u001b[39;49m\u001b[38;5;241;43m*\u001b[39;49m\u001b[43mkwargs\u001b[49m\u001b[43m)\u001b[49m\n",
                        "File \u001b[0;32m~/.env/pytorch/lib/python3.8/site-packages/matplotlib/axes/_axes.py:1634\u001b[0m, in \u001b[0;36mAxes.plot\u001b[0;34m(self, scalex, scaley, data, *args, **kwargs)\u001b[0m\n\u001b[1;32m   1632\u001b[0m lines \u001b[38;5;241m=\u001b[39m [\u001b[38;5;241m*\u001b[39m\u001b[38;5;28mself\u001b[39m\u001b[38;5;241m.\u001b[39m_get_lines(\u001b[38;5;241m*\u001b[39margs, data\u001b[38;5;241m=\u001b[39mdata, \u001b[38;5;241m*\u001b[39m\u001b[38;5;241m*\u001b[39mkwargs)]\n\u001b[1;32m   1633\u001b[0m \u001b[38;5;28;01mfor\u001b[39;00m line \u001b[38;5;129;01min\u001b[39;00m lines:\n\u001b[0;32m-> 1634\u001b[0m     \u001b[38;5;28;43mself\u001b[39;49m\u001b[38;5;241;43m.\u001b[39;49m\u001b[43madd_line\u001b[49m\u001b[43m(\u001b[49m\u001b[43mline\u001b[49m\u001b[43m)\u001b[49m\n\u001b[1;32m   1635\u001b[0m \u001b[38;5;28mself\u001b[39m\u001b[38;5;241m.\u001b[39m_request_autoscale_view(scalex\u001b[38;5;241m=\u001b[39mscalex, scaley\u001b[38;5;241m=\u001b[39mscaley)\n\u001b[1;32m   1636\u001b[0m \u001b[38;5;28;01mreturn\u001b[39;00m lines\n",
                        "File \u001b[0;32m~/.env/pytorch/lib/python3.8/site-packages/matplotlib/axes/_base.py:2288\u001b[0m, in \u001b[0;36m_AxesBase.add_line\u001b[0;34m(self, line)\u001b[0m\n\u001b[1;32m   2285\u001b[0m \u001b[38;5;28;01mif\u001b[39;00m line\u001b[38;5;241m.\u001b[39mget_clip_path() \u001b[38;5;129;01mis\u001b[39;00m \u001b[38;5;28;01mNone\u001b[39;00m:\n\u001b[1;32m   2286\u001b[0m     line\u001b[38;5;241m.\u001b[39mset_clip_path(\u001b[38;5;28mself\u001b[39m\u001b[38;5;241m.\u001b[39mpatch)\n\u001b[0;32m-> 2288\u001b[0m \u001b[38;5;28;43mself\u001b[39;49m\u001b[38;5;241;43m.\u001b[39;49m\u001b[43m_update_line_limits\u001b[49m\u001b[43m(\u001b[49m\u001b[43mline\u001b[49m\u001b[43m)\u001b[49m\n\u001b[1;32m   2289\u001b[0m \u001b[38;5;28;01mif\u001b[39;00m \u001b[38;5;129;01mnot\u001b[39;00m line\u001b[38;5;241m.\u001b[39mget_label():\n\u001b[1;32m   2290\u001b[0m     line\u001b[38;5;241m.\u001b[39mset_label(\u001b[38;5;124mf\u001b[39m\u001b[38;5;124m'\u001b[39m\u001b[38;5;124m_child\u001b[39m\u001b[38;5;132;01m{\u001b[39;00m\u001b[38;5;28mlen\u001b[39m(\u001b[38;5;28mself\u001b[39m\u001b[38;5;241m.\u001b[39m_children)\u001b[38;5;132;01m}\u001b[39;00m\u001b[38;5;124m'\u001b[39m)\n",
                        "File \u001b[0;32m~/.env/pytorch/lib/python3.8/site-packages/matplotlib/axes/_base.py:2311\u001b[0m, in \u001b[0;36m_AxesBase._update_line_limits\u001b[0;34m(self, line)\u001b[0m\n\u001b[1;32m   2307\u001b[0m \u001b[38;5;28;01mdef\u001b[39;00m \u001b[38;5;21m_update_line_limits\u001b[39m(\u001b[38;5;28mself\u001b[39m, line):\n\u001b[1;32m   2308\u001b[0m     \u001b[38;5;124;03m\"\"\"\u001b[39;00m\n\u001b[1;32m   2309\u001b[0m \u001b[38;5;124;03m    Figures out the data limit of the given line, updating self.dataLim.\u001b[39;00m\n\u001b[1;32m   2310\u001b[0m \u001b[38;5;124;03m    \"\"\"\u001b[39;00m\n\u001b[0;32m-> 2311\u001b[0m     path \u001b[38;5;241m=\u001b[39m \u001b[43mline\u001b[49m\u001b[38;5;241;43m.\u001b[39;49m\u001b[43mget_path\u001b[49m\u001b[43m(\u001b[49m\u001b[43m)\u001b[49m\n\u001b[1;32m   2312\u001b[0m     \u001b[38;5;28;01mif\u001b[39;00m path\u001b[38;5;241m.\u001b[39mvertices\u001b[38;5;241m.\u001b[39msize \u001b[38;5;241m==\u001b[39m \u001b[38;5;241m0\u001b[39m:\n\u001b[1;32m   2313\u001b[0m         \u001b[38;5;28;01mreturn\u001b[39;00m\n",
                        "File \u001b[0;32m~/.env/pytorch/lib/python3.8/site-packages/matplotlib/lines.py:999\u001b[0m, in \u001b[0;36mLine2D.get_path\u001b[0;34m(self)\u001b[0m\n\u001b[1;32m    997\u001b[0m \u001b[38;5;124;03m\"\"\"Return the `~matplotlib.path.Path` associated with this line.\"\"\"\u001b[39;00m\n\u001b[1;32m    998\u001b[0m \u001b[38;5;28;01mif\u001b[39;00m \u001b[38;5;28mself\u001b[39m\u001b[38;5;241m.\u001b[39m_invalidy \u001b[38;5;129;01mor\u001b[39;00m \u001b[38;5;28mself\u001b[39m\u001b[38;5;241m.\u001b[39m_invalidx:\n\u001b[0;32m--> 999\u001b[0m     \u001b[38;5;28;43mself\u001b[39;49m\u001b[38;5;241;43m.\u001b[39;49m\u001b[43mrecache\u001b[49m\u001b[43m(\u001b[49m\u001b[43m)\u001b[49m\n\u001b[1;32m   1000\u001b[0m \u001b[38;5;28;01mreturn\u001b[39;00m \u001b[38;5;28mself\u001b[39m\u001b[38;5;241m.\u001b[39m_path\n",
                        "File \u001b[0;32m~/.env/pytorch/lib/python3.8/site-packages/matplotlib/lines.py:652\u001b[0m, in \u001b[0;36mLine2D.recache\u001b[0;34m(self, always)\u001b[0m\n\u001b[1;32m    650\u001b[0m \u001b[38;5;28;01mif\u001b[39;00m always \u001b[38;5;129;01mor\u001b[39;00m \u001b[38;5;28mself\u001b[39m\u001b[38;5;241m.\u001b[39m_invalidx:\n\u001b[1;32m    651\u001b[0m     xconv \u001b[38;5;241m=\u001b[39m \u001b[38;5;28mself\u001b[39m\u001b[38;5;241m.\u001b[39mconvert_xunits(\u001b[38;5;28mself\u001b[39m\u001b[38;5;241m.\u001b[39m_xorig)\n\u001b[0;32m--> 652\u001b[0m     x \u001b[38;5;241m=\u001b[39m \u001b[43m_to_unmasked_float_array\u001b[49m\u001b[43m(\u001b[49m\u001b[43mxconv\u001b[49m\u001b[43m)\u001b[49m\u001b[38;5;241m.\u001b[39mravel()\n\u001b[1;32m    653\u001b[0m \u001b[38;5;28;01melse\u001b[39;00m:\n\u001b[1;32m    654\u001b[0m     x \u001b[38;5;241m=\u001b[39m \u001b[38;5;28mself\u001b[39m\u001b[38;5;241m.\u001b[39m_x\n",
                        "File \u001b[0;32m~/.env/pytorch/lib/python3.8/site-packages/matplotlib/cbook/__init__.py:1298\u001b[0m, in \u001b[0;36m_to_unmasked_float_array\u001b[0;34m(x)\u001b[0m\n\u001b[1;32m   1296\u001b[0m     \u001b[38;5;28;01mreturn\u001b[39;00m np\u001b[38;5;241m.\u001b[39mma\u001b[38;5;241m.\u001b[39masarray(x, \u001b[38;5;28mfloat\u001b[39m)\u001b[38;5;241m.\u001b[39mfilled(np\u001b[38;5;241m.\u001b[39mnan)\n\u001b[1;32m   1297\u001b[0m \u001b[38;5;28;01melse\u001b[39;00m:\n\u001b[0;32m-> 1298\u001b[0m     \u001b[38;5;28;01mreturn\u001b[39;00m \u001b[43mnp\u001b[49m\u001b[38;5;241;43m.\u001b[39;49m\u001b[43masarray\u001b[49m\u001b[43m(\u001b[49m\u001b[43mx\u001b[49m\u001b[43m,\u001b[49m\u001b[43m \u001b[49m\u001b[38;5;28;43mfloat\u001b[39;49m\u001b[43m)\u001b[49m\n",
                        "\u001b[0;31mTypeError\u001b[0m: float() argument must be a string or a number, not 'Period'"
                    ]
                },
                {
                    "data": {
                        "image/png": "[encoded data removed]",
                        "text/plain": [
                            "<Figure size 1440x1080 with 1 Axes>"
                        ]
                    },
                    "metadata": {
                        "needs_background": "light"
                    },
                    "output_type": "display_data"
                }
            ],
            "source": [
                "plt.figure(figsize=(20, 15))\n",
                "date_formater = mdates.DateFormatter('%b, %d')\n",
                "plt.rcParams.update({'font.size': 15})\n",
                "\n",
                "for idx, (forecast, ts) in islice(enumerate(zip(forecasts, tss)), 9):\n",
                "    ax = plt.subplot(3, 3, idx+1)\n",
                "\n",
                "    plt.plot(ts[-4 * prediction_length:], label=\"target\", )\n",
                "    forecast.plot( color='g')\n",
                "    plt.xticks(rotation=60)\n",
                "    ax.xaxis.set_major_formatter(date_formater)\n",
                "\n",
                "plt.gcf().tight_layout()\n",
                "plt.legend()\n",
                "plt.show()"
            ]
        },
        {
            "cell_type": "code",
            "execution_count": 61,
            "id": "59b42f21",
            "metadata": {},
            "outputs": [],
            "source": [
                "def plot_prob_forecasts(ts_entry, forecast_entry):\n",
                "    plot_length = 100\n",
                "    prediction_intervals = (50.0, 90.0)\n",
                "    legend = [\"observations\", \"median prediction\"] + [f\"{k}% prediction interval\" for k in prediction_intervals][::-1]\n",
                "\n",
                "    fig, ax = plt.subplots(1, 1, figsize=(10, 7))\n",
                "    ts_entry[-plot_length:].plot(ax=ax)  # plot the time series\n",
                "    forecast_entry.plot(prediction_intervals=prediction_intervals, color='g')\n",
                "    plt.grid(which=\"both\")\n",
                "    plt.legend(legend, loc=\"upper left\")\n",
                "    plt.show()"
            ]
        },
        {
            "cell_type": "code",
            "execution_count": 62,
            "id": "35eda4db",
            "metadata": {},
            "outputs": [
                {
                    "data": {
                        "image/png": "[encoded data removed]",
                        "text/plain": [
                            "<Figure size 720x504 with 1 Axes>"
                        ]
                    },
                    "metadata": {
                        "needs_background": "light"
                    },
                    "output_type": "display_data"
                }
            ],
            "source": [
                "index = 33\n",
                "plot_prob_forecasts(tss[index], forecasts[index])"
            ]
        },
        {
            "cell_type": "code",
            "execution_count": 66,
            "id": "a1f978b1",
            "metadata": {},
            "outputs": [
                {
                    "data": {
                        "image/png": "[encoded data removed]",
                        "text/plain": [
                            "<Figure size 720x504 with 1 Axes>"
                        ]
                    },
                    "metadata": {
                        "needs_background": "light"
                    },
                    "output_type": "display_data"
                }
            ],
            "source": [
                "index = 33\n",
                "plot_prob_forecasts(tss[index], forecasts[index])"
            ]
        },
        {
            "cell_type": "code",
            "execution_count": null,
            "id": "cbc599e9",
            "metadata": {},
            "outputs": [],
            "source": []
        }
    ],
    "metadata": {
        "kernelspec": {
            "display_name": "Python 3 (ipykernel)",
            "language": "python",
            "name": "python3"
        },
        "language_info": {
            "codemirror_mode": {
                "name": "ipython",
                "version": 3
            },
            "file_extension": ".py",
            "mimetype": "text/x-python",
            "name": "python",
            "nbconvert_exporter": "python",
            "pygments_lexer": "ipython3",
            "version": "3.8.10"
        }
    },
    "nbformat": 4,
    "nbformat_minor": 5
}
