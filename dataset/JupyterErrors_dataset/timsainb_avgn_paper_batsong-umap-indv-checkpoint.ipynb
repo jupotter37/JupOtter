{
 "cells": [
  {
   "cell_type": "code",
   "execution_count": 2,
   "metadata": {
    "ExecuteTime": {
     "end_time": "2020-04-25T01:08:08.893126Z",
     "start_time": "2020-04-25T01:08:08.853583Z"
    }
   },
   "outputs": [
    {
     "name": "stdout",
     "output_type": "stream",
     "text": [
      "The autoreload extension is already loaded. To reload it, use:\n",
      "  %reload_ext autoreload\n",
      "env: CUDA_DEVICE_ORDER=PCI_BUS_ID\n",
      "env: CUDA_VISIBLE_DEVICES=0\n"
     ]
    }
   ],
   "source": [
    "%load_ext autoreload\n",
    "%autoreload 2\n",
    "%env CUDA_DEVICE_ORDER=PCI_BUS_ID\n",
    "%env CUDA_VISIBLE_DEVICES=0"
   ]
  },
  {
   "cell_type": "code",
   "execution_count": null,
   "metadata": {},
   "outputs": [],
   "source": []
  },
  {
   "cell_type": "code",
   "execution_count": 3,
   "metadata": {
    "ExecuteTime": {
     "end_time": "2020-04-25T01:08:13.118511Z",
     "start_time": "2020-04-25T01:08:09.315269Z"
    }
   },
   "outputs": [
    {
     "name": "stderr",
     "output_type": "stream",
     "text": [
      "/mnt/cube/tsainbur/conda_envs/tpy3/lib/python3.6/site-packages/tqdm/autonotebook/__init__.py:14: TqdmExperimentalWarning: Using `tqdm.autonotebook.tqdm` in notebook mode. Use `tqdm.tqdm` instead to force console mode (e.g. in jupyter console)\n",
      "  \" (e.g. in jupyter console)\", TqdmExperimentalWarning)\n"
     ]
    }
   ],
   "source": [
    "import numpy as np\n",
    "import matplotlib.pyplot as plt\n",
    "from tqdm.autonotebook import tqdm\n",
    "import pandas as pd\n",
    "from cuml.manifold.umap import UMAP as cumlUMAP\n",
    "from avgn.utils.paths import DATA_DIR, most_recent_subdirectory, ensure_dir\n",
    "from avgn.signalprocessing.create_spectrogram_dataset import flatten_spectrograms"
   ]
  },
  {
   "cell_type": "markdown",
   "metadata": {},
   "source": [
    "### load data"
   ]
  },
  {
   "cell_type": "code",
   "execution_count": 4,
   "metadata": {
    "ExecuteTime": {
     "end_time": "2020-04-25T01:08:13.160393Z",
     "start_time": "2020-04-25T01:08:13.121446Z"
    }
   },
   "outputs": [],
   "source": [
    "DATASET_ID = 'batsong_segmented'\n",
    "df_loc =  DATA_DIR / 'syllable_dfs' / DATASET_ID / 'fruitbat.pickle'"
   ]
  },
  {
   "cell_type": "code",
   "execution_count": 5,
   "metadata": {
    "ExecuteTime": {
     "end_time": "2020-04-25T01:08:17.549316Z",
     "start_time": "2020-04-25T01:08:13.162380Z"
    }
   },
   "outputs": [],
   "source": [
    "syllable_df = pd.read_pickle(df_loc)"
   ]
  },
  {
   "cell_type": "code",
   "execution_count": 6,
   "metadata": {
    "ExecuteTime": {
     "end_time": "2020-04-25T01:08:17.696575Z",
     "start_time": "2020-04-25T01:08:17.552646Z"
    }
   },
   "outputs": [
    {
     "data": {
      "text/html": [
       "<div>\n",
       "<style scoped>\n",
       "    .dataframe tbody tr th:only-of-type {\n",
       "        vertical-align: middle;\n",
       "    }\n",
       "\n",
       "    .dataframe tbody tr th {\n",
       "        vertical-align: top;\n",
       "    }\n",
       "\n",
       "    .dataframe thead th {\n",
       "        text-align: right;\n",
       "    }\n",
       "</style>\n",
       "<table border=\"1\" class=\"dataframe\">\n",
       "  <thead>\n",
       "    <tr style=\"text-align: right;\">\n",
       "      <th></th>\n",
       "      <th>start_time</th>\n",
       "      <th>end_time</th>\n",
       "      <th>indv</th>\n",
       "      <th>indvi</th>\n",
       "      <th>context</th>\n",
       "      <th>key</th>\n",
       "      <th>rate</th>\n",
       "      <th>spectrogram</th>\n",
       "    </tr>\n",
       "  </thead>\n",
       "  <tbody>\n",
       "    <tr>\n",
       "      <th>0</th>\n",
       "      <td>0.203</td>\n",
       "      <td>0.2790</td>\n",
       "      <td>-210</td>\n",
       "      <td>0</td>\n",
       "      <td>Threat-like</td>\n",
       "      <td>130116080549387242</td>\n",
       "      <td>250000</td>\n",
       "      <td>[[0.0, 0.0, 0.0, 0.0, 0.0, 0.0, 0.0, 0.0, 0.0,...</td>\n",
       "    </tr>\n",
       "    <tr>\n",
       "      <th>1</th>\n",
       "      <td>0.372</td>\n",
       "      <td>0.5065</td>\n",
       "      <td>-210</td>\n",
       "      <td>0</td>\n",
       "      <td>Threat-like</td>\n",
       "      <td>130116080549387242</td>\n",
       "      <td>250000</td>\n",
       "      <td>[[0.0, 0.0, 0.0, 0.0, 0.0, 0.0, 0.0, 0.0, 0.0,...</td>\n",
       "    </tr>\n",
       "    <tr>\n",
       "      <th>0</th>\n",
       "      <td>0.223</td>\n",
       "      <td>0.2465</td>\n",
       "      <td>-221</td>\n",
       "      <td>0</td>\n",
       "      <td>Sleeping</td>\n",
       "      <td>130303053329639859</td>\n",
       "      <td>250000</td>\n",
       "      <td>[[0.0, 0.0, 0.0, 0.0, 0.0, 0.0, 0.0, 0.0, 0.0,...</td>\n",
       "    </tr>\n",
       "  </tbody>\n",
       "</table>\n",
       "</div>"
      ],
      "text/plain": [
       "   start_time  end_time  indv  indvi      context                 key    rate  \\\n",
       "0       0.203    0.2790  -210      0  Threat-like  130116080549387242  250000   \n",
       "1       0.372    0.5065  -210      0  Threat-like  130116080549387242  250000   \n",
       "0       0.223    0.2465  -221      0     Sleeping  130303053329639859  250000   \n",
       "\n",
       "                                         spectrogram  \n",
       "0  [[0.0, 0.0, 0.0, 0.0, 0.0, 0.0, 0.0, 0.0, 0.0,...  \n",
       "1  [[0.0, 0.0, 0.0, 0.0, 0.0, 0.0, 0.0, 0.0, 0.0,...  \n",
       "0  [[0.0, 0.0, 0.0, 0.0, 0.0, 0.0, 0.0, 0.0, 0.0,...  "
      ]
     },
     "execution_count": 6,
     "metadata": {},
     "output_type": "execute_result"
    }
   ],
   "source": [
    "syllable_df[:3]"
   ]
  },
  {
   "cell_type": "code",
   "execution_count": 7,
   "metadata": {
    "ExecuteTime": {
     "end_time": "2020-04-25T01:08:17.770249Z",
     "start_time": "2020-04-25T01:08:17.698953Z"
    }
   },
   "outputs": [
    {
     "data": {
      "text/plain": [
       "407642"
      ]
     },
     "execution_count": 7,
     "metadata": {},
     "output_type": "execute_result"
    }
   ],
   "source": [
    "len(syllable_df)"
   ]
  },
  {
   "cell_type": "code",
   "execution_count": 8,
   "metadata": {
    "ExecuteTime": {
     "end_time": "2020-04-25T01:08:17.855527Z",
     "start_time": "2020-04-25T01:08:17.772275Z"
    }
   },
   "outputs": [
    {
     "data": {
      "text/plain": [
       "(32, 38)"
      ]
     },
     "execution_count": 8,
     "metadata": {},
     "output_type": "execute_result"
    }
   ],
   "source": [
    "np.shape(syllable_df.spectrogram.values[0])"
   ]
  },
  {
   "cell_type": "code",
   "execution_count": 9,
   "metadata": {
    "ExecuteTime": {
     "end_time": "2020-04-25T01:08:17.951159Z",
     "start_time": "2020-04-25T01:08:17.857431Z"
    }
   },
   "outputs": [
    {
     "data": {
      "text/plain": [
       "83"
      ]
     },
     "execution_count": 9,
     "metadata": {},
     "output_type": "execute_result"
    }
   ],
   "source": [
    "len(syllable_df.indv.unique())"
   ]
  },
  {
   "cell_type": "code",
   "execution_count": 10,
   "metadata": {
    "ExecuteTime": {
     "end_time": "2020-04-25T01:08:18.107842Z",
     "start_time": "2020-04-25T01:08:17.953160Z"
    }
   },
   "outputs": [],
   "source": [
    "syllable_df['indv_nonneg'] = [i if '-' not in i else i[1:] for i in syllable_df.indv.values]"
   ]
  },
  {
   "cell_type": "code",
   "execution_count": 11,
   "metadata": {
    "ExecuteTime": {
     "end_time": "2020-04-25T01:08:18.173796Z",
     "start_time": "2020-04-25T01:08:18.109982Z"
    }
   },
   "outputs": [
    {
     "data": {
      "text/plain": [
       "array(['210', '221', '214', '119', '111', '230', '0', '220', '211', '215',\n",
       "       '216', '208', '120', '203', '207', '231', '228', '222', '226',\n",
       "       '110', '109', '108', '105', '101', '213', '102', '233', '116',\n",
       "       '115', '223', '204', '225', '107', '201', '112', '202', '113',\n",
       "       '114', '205', '103', '218', '118'], dtype=object)"
      ]
     },
     "execution_count": 11,
     "metadata": {},
     "output_type": "execute_result"
    }
   ],
   "source": [
    "syllable_df.indv_nonneg.unique()"
   ]
  },
  {
   "cell_type": "markdown",
   "metadata": {},
   "source": [
    "### project"
   ]
  },
  {
   "cell_type": "code",
   "execution_count": 12,
   "metadata": {
    "ExecuteTime": {
     "end_time": "2020-04-25T01:08:22.634147Z",
     "start_time": "2020-04-25T01:08:18.175729Z"
    },
    "scrolled": true
   },
   "outputs": [
    {
     "data": {
      "application/vnd.jupyter.widget-view+json": {
       "model_id": "44b9fd43eb0a405faf7bef1a7996e915",
       "version_major": 2,
       "version_minor": 0
      },
      "text/plain": [
       "HBox(children=(IntProgress(value=0, max=42), HTML(value='')))"
      ]
     },
     "metadata": {},
     "output_type": "display_data"
    },
    {
     "data": {
      "application/vnd.jupyter.widget-view+json": {
       "model_id": "35d1c6744bad4fa29fb3fc6029c8a423",
       "version_major": 2,
       "version_minor": 0
      },
      "text/plain": [
       "HBox(children=(IntProgress(value=0, max=13205), HTML(value='')))"
      ]
     },
     "metadata": {},
     "output_type": "display_data"
    },
    {
     "name": "stdout",
     "output_type": "stream",
     "text": [
      "(13205, 1216)\n"
     ]
    },
    {
     "name": "stderr",
     "output_type": "stream",
     "text": [
      "Exception ignored in: <bound method UMAP.__del__ of UMAP(n_neighbors=0.01, verbose=False, handle=<cuml.common.handle.Handle object at 0x7f9ba8ce6810>, hash_input=False)>\n",
      "Traceback (most recent call last):\n",
      "  File \"cuml/manifold/umap.pyx\", line 394, in cuml.manifold.umap.UMAP.__del__\n",
      "TypeError: an integer is required\n"
     ]
    },
    {
     "name": "stdout",
     "output_type": "stream",
     "text": [
      "\n"
     ]
    },
    {
     "ename": "RuntimeError",
     "evalue": "Exception occured! file=/conda/conda-bld/libcuml_1583952676191/work/cpp/src_prims/linalg/binary_op.h line=52: FAIL: call='cudaPeekAtLastError()'. Reason:no kernel image is available for execution on the device\n\nObtained 64 stack frames\n#0 in /mnt/cube/tsainbur/conda_envs/tpy3/lib/python3.6/site-packages/cuml/utils/pointer_utils.cpython-36m-x86_64-linux-gnu.so(_ZN8MLCommon9Exception16collectCallStackEv+0x3e) [0x7f9c1021137e]\n#1 in /mnt/cube/tsainbur/conda_envs/tpy3/lib/python3.6/site-packages/cuml/utils/pointer_utils.cpython-36m-x86_64-linux-gnu.so(_ZN8MLCommon9ExceptionC1ERKNSt7__cxx1112basic_stringIcSt11char_traitsIcESaIcEEE+0x80) [0x7f9c10211e90]\n#2 in /mnt/cube/tsainbur/conda_envs/tpy3/lib/python3.6/site-packages/cuml/utils/../../../../libcuml++.so(_ZN8MLCommon6LinAlg12binaryOpImplIfLi4E17__nv_dl_wrapper_tI11__nv_dl_tagIPFvPfPKfS6_iP11CUstream_stEXadL_ZNS0_10eltwiseSubIfiEEvPT_PKSC_SF_T0_S8_EELj1EEIEEifLi256EEEvPT3_SF_SF_T2_T1_S8_+0x27a) [0x7f9bc4c585ba]\n#3 in /mnt/cube/tsainbur/conda_envs/tpy3/lib/python3.6/site-packages/cuml/utils/../../../../libcuml++.so(_ZN8UMAPAlgo8Optimize11abLossGradsIfLi256EEEvPT_iPKS2_S3_S3_PN2ML10UMAPParamsESt10shared_ptrIN8MLCommon15deviceAllocatorEEP11CUstream_st+0x7ca) [0x7f9bc4d7459a]\n#4 in /mnt/cube/tsainbur/conda_envs/tpy3/lib/python3.6/site-packages/cuml/utils/../../../../libcuml++.so(_ZN8UMAPAlgo8Optimize15optimize_paramsIfLi256EEEvPT_iPKS2_S3_PN2ML10UMAPParamsESt10shared_ptrIN8MLCommon15deviceAllocatorEEP11CUstream_stfi+0x157) [0x7f9bc4d6f997]\n#5 in /mnt/cube/tsainbur/conda_envs/tpy3/lib/python3.6/site-packages/cuml/utils/../../../../libcuml++.so(_ZN8UMAPAlgo8Optimize14find_params_abEPN2ML10UMAPParamsESt10shared_ptrIN8MLCommon15deviceAllocatorEEP11CUstream_st+0x360) [0x7f9bc4d6def0]\n#6 in /mnt/cube/tsainbur/conda_envs/tpy3/lib/python3.6/site-packages/cuml/utils/../../../../libcuml++.so(_ZN8UMAPAlgo7find_abEPN2ML10UMAPParamsESt10shared_ptrIN8MLCommon15deviceAllocatorEEP11CUstream_st+0x42) [0x7f9bc4d6e5d2]\n#7 in /mnt/cube/tsainbur/conda_envs/tpy3/lib/python3.6/site-packages/cuml/utils/../../../../libcuml++.so(_ZN2ML7find_abERKNS_10cumlHandleEPNS_10UMAPParamsE+0x6c) [0x7f9bc4d6e74c]\n#8 in /mnt/cube/tsainbur/conda_envs/tpy3/lib/python3.6/site-packages/cuml/manifold/umap.cpython-36m-x86_64-linux-gnu.so(+0x185e7) [0x7f9bb75445e7]\n#9 in /mnt/cube/tsainbur/conda_envs/tpy3/bin/python(_PyObject_FastCallDict+0x8b) [0x5572117777bb]\n#10 in /mnt/cube/tsainbur/conda_envs/tpy3/bin/python(_PyObject_Call_Prepend+0x63) [0x55721177c613]\n#11 in /mnt/cube/tsainbur/conda_envs/tpy3/bin/python(PyObject_Call+0x3e) [0x5572117773de]\n#12 in /mnt/cube/tsainbur/conda_envs/tpy3/bin/python(+0x1789fb) [0x5572117dc9fb]\n#13 in /mnt/cube/tsainbur/conda_envs/tpy3/bin/python(+0x1a37a7) [0x5572118077a7]\n#14 in /mnt/cube/tsainbur/conda_envs/tpy3/bin/python(_PyObject_FastCallDict+0x8b) [0x5572117777bb]\n#15 in /mnt/cube/tsainbur/conda_envs/tpy3/bin/python(+0x1a35be) [0x5572118075be]\n#16 in /mnt/cube/tsainbur/conda_envs/tpy3/bin/python(_PyEval_EvalFrameDefault+0x30a) [0x55721182a73a]\n#17 in /mnt/cube/tsainbur/conda_envs/tpy3/bin/python(PyEval_EvalCodeEx+0x329) [0x5572117d6749]\n#18 in /mnt/cube/tsainbur/conda_envs/tpy3/bin/python(PyEval_EvalCode+0x1c) [0x5572117d74ec]\n#19 in /mnt/cube/tsainbur/conda_envs/tpy3/bin/python(+0x1c414b) [0x55721182814b]\n#20 in /mnt/cube/tsainbur/conda_envs/tpy3/bin/python(_PyCFunction_FastCallDict+0x91) [0x557211777511]\n#21 in /mnt/cube/tsainbur/conda_envs/tpy3/bin/python(+0x1a346c) [0x55721180746c]\n#22 in /mnt/cube/tsainbur/conda_envs/tpy3/bin/python(_PyEval_EvalFrameDefault+0x30a) [0x55721182a73a]\n#23 in /mnt/cube/tsainbur/conda_envs/tpy3/bin/python(_PyGen_Send+0x256) [0x55721180a7e6]\n#24 in /mnt/cube/tsainbur/conda_envs/tpy3/bin/python(_PyEval_EvalFrameDefault+0x13d4) [0x55721182b804]\n#25 in /mnt/cube/tsainbur/conda_envs/tpy3/bin/python(_PyGen_Send+0x256) [0x55721180a7e6]\n#26 in /mnt/cube/tsainbur/conda_envs/tpy3/bin/python(_PyEval_EvalFrameDefault+0x13d4) [0x55721182b804]\n#27 in /mnt/cube/tsainbur/conda_envs/tpy3/bin/python(_PyGen_Send+0x256) [0x55721180a7e6]\n#28 in /mnt/cube/tsainbur/conda_envs/tpy3/bin/python(_PyCFunction_FastCallDict+0x115) [0x557211777595]\n#29 in /mnt/cube/tsainbur/conda_envs/tpy3/bin/python(+0x1a346c) [0x55721180746c]\n#30 in /mnt/cube/tsainbur/conda_envs/tpy3/bin/python(_PyEval_EvalFrameDefault+0x30a) [0x55721182a73a]\n#31 in /mnt/cube/tsainbur/conda_envs/tpy3/bin/python(+0x16ee4b) [0x5572117d2e4b]\n#32 in /mnt/cube/tsainbur/conda_envs/tpy3/bin/python(+0x1a3545) [0x557211807545]\n#33 in /mnt/cube/tsainbur/conda_envs/tpy3/bin/python(_PyEval_EvalFrameDefault+0x30a) [0x55721182a73a]\n#34 in /mnt/cube/tsainbur/conda_envs/tpy3/bin/python(+0x16ee4b) [0x5572117d2e4b]\n#35 in /mnt/cube/tsainbur/conda_envs/tpy3/bin/python(+0x1a3545) [0x557211807545]\n#36 in /mnt/cube/tsainbur/conda_envs/tpy3/bin/python(_PyEval_EvalFrameDefault+0x30a) [0x55721182a73a]\n#37 in /mnt/cube/tsainbur/conda_envs/tpy3/bin/python(+0x16e056) [0x5572117d2056]\n#38 in /mnt/cube/tsainbur/conda_envs/tpy3/bin/python(_PyFunction_FastCallDict+0x3da) [0x5572117d376a]\n#39 in /mnt/cube/tsainbur/conda_envs/tpy3/bin/python(_PyObject_FastCallDict+0x26f) [0x55721177799f]\n#40 in /mnt/cube/tsainbur/conda_envs/tpy3/bin/python(_PyObject_Call_Prepend+0x63) [0x55721177c613]\n#41 in /mnt/cube/tsainbur/conda_envs/tpy3/bin/python(PyObject_Call+0x3e) [0x5572117773de]\n#42 in /mnt/cube/tsainbur/conda_envs/tpy3/bin/python(_PyEval_EvalFrameDefault+0x1a26) [0x55721182be56]\n#43 in /mnt/cube/tsainbur/conda_envs/tpy3/bin/python(+0x16e326) [0x5572117d2326]\n#44 in /mnt/cube/tsainbur/conda_envs/tpy3/bin/python(+0x16f08f) [0x5572117d308f]\n#45 in /mnt/cube/tsainbur/conda_envs/tpy3/bin/python(+0x1a3545) [0x557211807545]\n#46 in /mnt/cube/tsainbur/conda_envs/tpy3/bin/python(_PyEval_EvalFrameDefault+0x1027) [0x55721182b457]\n#47 in /mnt/cube/tsainbur/conda_envs/tpy3/bin/python(+0x1a6364) [0x55721180a364]\n#48 in /mnt/cube/tsainbur/conda_envs/tpy3/bin/python(_PyCFunction_FastCallDict+0x91) [0x557211777511]\n#49 in /mnt/cube/tsainbur/conda_envs/tpy3/bin/python(+0x1a346c) [0x55721180746c]\n#50 in /mnt/cube/tsainbur/conda_envs/tpy3/bin/python(_PyEval_EvalFrameDefault+0x30a) [0x55721182a73a]\n#51 in /mnt/cube/tsainbur/conda_envs/tpy3/bin/python(+0x16e48e) [0x5572117d248e]\n#52 in /mnt/cube/tsainbur/conda_envs/tpy3/bin/python(+0x16f08f) [0x5572117d308f]\n#53 in /mnt/cube/tsainbur/conda_envs/tpy3/bin/python(+0x1a3545) [0x557211807545]\n#54 in /mnt/cube/tsainbur/conda_envs/tpy3/bin/python(_PyEval_EvalFrameDefault+0x30a) [0x55721182a73a]\n#55 in /mnt/cube/tsainbur/conda_envs/tpy3/bin/python(+0x1a6364) [0x55721180a364]\n#56 in /mnt/cube/tsainbur/conda_envs/tpy3/bin/python(_PyCFunction_FastCallDict+0x91) [0x557211777511]\n#57 in /mnt/cube/tsainbur/conda_envs/tpy3/bin/python(+0x1a346c) [0x55721180746c]\n#58 in /mnt/cube/tsainbur/conda_envs/tpy3/bin/python(_PyEval_EvalFrameDefault+0x30a) [0x55721182a73a]\n#59 in /mnt/cube/tsainbur/conda_envs/tpy3/bin/python(+0x16e48e) [0x5572117d248e]\n#60 in /mnt/cube/tsainbur/conda_envs/tpy3/bin/python(+0x16f08f) [0x5572117d308f]\n#61 in /mnt/cube/tsainbur/conda_envs/tpy3/bin/python(+0x1a3545) [0x557211807545]\n#62 in /mnt/cube/tsainbur/conda_envs/tpy3/bin/python(_PyEval_EvalFrameDefault+0x30a) [0x55721182a73a]\n#63 in /mnt/cube/tsainbur/conda_envs/tpy3/bin/python(+0x1a6364) [0x55721180a364]\n",
     "output_type": "error",
     "traceback": [
      "\u001b[0;31m---------------------------------------------------------------------------\u001b[0m",
      "\u001b[0;31mRuntimeError\u001b[0m                              Traceback (most recent call last)",
      "\u001b[0;32m<ipython-input-12-877d0cd0c466>\u001b[0m in \u001b[0;36m<module>\u001b[0;34m\u001b[0m\n\u001b[1;32m      7\u001b[0m     \u001b[0mprint\u001b[0m\u001b[0;34m(\u001b[0m\u001b[0mnp\u001b[0m\u001b[0;34m.\u001b[0m\u001b[0mshape\u001b[0m\u001b[0;34m(\u001b[0m\u001b[0mspecs_flattened\u001b[0m\u001b[0;34m)\u001b[0m\u001b[0;34m)\u001b[0m\u001b[0;34m\u001b[0m\u001b[0;34m\u001b[0m\u001b[0m\n\u001b[1;32m      8\u001b[0m \u001b[0;34m\u001b[0m\u001b[0m\n\u001b[0;32m----> 9\u001b[0;31m     \u001b[0membedding\u001b[0m \u001b[0;34m=\u001b[0m \u001b[0mcumlUMAP\u001b[0m\u001b[0;34m(\u001b[0m\u001b[0;36m0.01\u001b[0m\u001b[0;34m)\u001b[0m\u001b[0;34m.\u001b[0m\u001b[0mfit_transform\u001b[0m\u001b[0;34m(\u001b[0m\u001b[0mspecs_flattened\u001b[0m\u001b[0;34m)\u001b[0m\u001b[0;34m\u001b[0m\u001b[0;34m\u001b[0m\u001b[0m\n\u001b[0m\u001b[1;32m     10\u001b[0m     \u001b[0msubset_df\u001b[0m\u001b[0;34m[\u001b[0m\u001b[0;34m'umap-0.01'\u001b[0m\u001b[0;34m]\u001b[0m \u001b[0;34m=\u001b[0m \u001b[0mlist\u001b[0m\u001b[0;34m(\u001b[0m\u001b[0membedding\u001b[0m\u001b[0;34m)\u001b[0m\u001b[0;34m\u001b[0m\u001b[0;34m\u001b[0m\u001b[0m\n\u001b[1;32m     11\u001b[0m \u001b[0;34m\u001b[0m\u001b[0m\n",
      "\u001b[0;32mcuml/manifold/umap.pyx\u001b[0m in \u001b[0;36mcuml.manifold.umap.UMAP.__init__\u001b[0;34m()\u001b[0m\n",
      "\u001b[0;31mRuntimeError\u001b[0m: Exception occured! file=/conda/conda-bld/libcuml_1583952676191/work/cpp/src_prims/linalg/binary_op.h line=52: FAIL: call='cudaPeekAtLastError()'. Reason:no kernel image is available for execution on the device\n\nObtained 64 stack frames\n#0 in /mnt/cube/tsainbur/conda_envs/tpy3/lib/python3.6/site-packages/cuml/utils/pointer_utils.cpython-36m-x86_64-linux-gnu.so(_ZN8MLCommon9Exception16collectCallStackEv+0x3e) [0x7f9c1021137e]\n#1 in /mnt/cube/tsainbur/conda_envs/tpy3/lib/python3.6/site-packages/cuml/utils/pointer_utils.cpython-36m-x86_64-linux-gnu.so(_ZN8MLCommon9ExceptionC1ERKNSt7__cxx1112basic_stringIcSt11char_traitsIcESaIcEEE+0x80) [0x7f9c10211e90]\n#2 in /mnt/cube/tsainbur/conda_envs/tpy3/lib/python3.6/site-packages/cuml/utils/../../../../libcuml++.so(_ZN8MLCommon6LinAlg12binaryOpImplIfLi4E17__nv_dl_wrapper_tI11__nv_dl_tagIPFvPfPKfS6_iP11CUstream_stEXadL_ZNS0_10eltwiseSubIfiEEvPT_PKSC_SF_T0_S8_EELj1EEIEEifLi256EEEvPT3_SF_SF_T2_T1_S8_+0x27a) [0x7f9bc4c585ba]\n#3 in /mnt/cube/tsainbur/conda_envs/tpy3/lib/python3.6/site-packages/cuml/utils/../../../../libcuml++.so(_ZN8UMAPAlgo8Optimize11abLossGradsIfLi256EEEvPT_iPKS2_S3_S3_PN2ML10UMAPParamsESt10shared_ptrIN8MLCommon15deviceAllocatorEEP11CUstream_st+0x7ca) [0x7f9bc4d7459a]\n#4 in /mnt/cube/tsainbur/conda_envs/tpy3/lib/python3.6/site-packages/cuml/utils/../../../../libcuml++.so(_ZN8UMAPAlgo8Optimize15optimize_paramsIfLi256EEEvPT_iPKS2_S3_PN2ML10UMAPParamsESt10shared_ptrIN8MLCommon15deviceAllocatorEEP11CUstream_stfi+0x157) [0x7f9bc4d6f997]\n#5 in /mnt/cube/tsainbur/conda_envs/tpy3/lib/python3.6/site-packages/cuml/utils/../../../../libcuml++.so(_ZN8UMAPAlgo8Optimize14find_params_abEPN2ML10UMAPParamsESt10shared_ptrIN8MLCommon15deviceAllocatorEEP11CUstream_st+0x360) [0x7f9bc4d6def0]\n#6 in /mnt/cube/tsainbur/conda_envs/tpy3/lib/python3.6/site-packages/cuml/utils/../../../../libcuml++.so(_ZN8UMAPAlgo7find_abEPN2ML10UMAPParamsESt10shared_ptrIN8MLCommon15deviceAllocatorEEP11CUstream_st+0x42) [0x7f9bc4d6e5d2]\n#7 in /mnt/cube/tsainbur/conda_envs/tpy3/lib/python3.6/site-packages/cuml/utils/../../../../libcuml++.so(_ZN2ML7find_abERKNS_10cumlHandleEPNS_10UMAPParamsE+0x6c) [0x7f9bc4d6e74c]\n#8 in /mnt/cube/tsainbur/conda_envs/tpy3/lib/python3.6/site-packages/cuml/manifold/umap.cpython-36m-x86_64-linux-gnu.so(+0x185e7) [0x7f9bb75445e7]\n#9 in /mnt/cube/tsainbur/conda_envs/tpy3/bin/python(_PyObject_FastCallDict+0x8b) [0x5572117777bb]\n#10 in /mnt/cube/tsainbur/conda_envs/tpy3/bin/python(_PyObject_Call_Prepend+0x63) [0x55721177c613]\n#11 in /mnt/cube/tsainbur/conda_envs/tpy3/bin/python(PyObject_Call+0x3e) [0x5572117773de]\n#12 in /mnt/cube/tsainbur/conda_envs/tpy3/bin/python(+0x1789fb) [0x5572117dc9fb]\n#13 in /mnt/cube/tsainbur/conda_envs/tpy3/bin/python(+0x1a37a7) [0x5572118077a7]\n#14 in /mnt/cube/tsainbur/conda_envs/tpy3/bin/python(_PyObject_FastCallDict+0x8b) [0x5572117777bb]\n#15 in /mnt/cube/tsainbur/conda_envs/tpy3/bin/python(+0x1a35be) [0x5572118075be]\n#16 in /mnt/cube/tsainbur/conda_envs/tpy3/bin/python(_PyEval_EvalFrameDefault+0x30a) [0x55721182a73a]\n#17 in /mnt/cube/tsainbur/conda_envs/tpy3/bin/python(PyEval_EvalCodeEx+0x329) [0x5572117d6749]\n#18 in /mnt/cube/tsainbur/conda_envs/tpy3/bin/python(PyEval_EvalCode+0x1c) [0x5572117d74ec]\n#19 in /mnt/cube/tsainbur/conda_envs/tpy3/bin/python(+0x1c414b) [0x55721182814b]\n#20 in /mnt/cube/tsainbur/conda_envs/tpy3/bin/python(_PyCFunction_FastCallDict+0x91) [0x557211777511]\n#21 in /mnt/cube/tsainbur/conda_envs/tpy3/bin/python(+0x1a346c) [0x55721180746c]\n#22 in /mnt/cube/tsainbur/conda_envs/tpy3/bin/python(_PyEval_EvalFrameDefault+0x30a) [0x55721182a73a]\n#23 in /mnt/cube/tsainbur/conda_envs/tpy3/bin/python(_PyGen_Send+0x256) [0x55721180a7e6]\n#24 in /mnt/cube/tsainbur/conda_envs/tpy3/bin/python(_PyEval_EvalFrameDefault+0x13d4) [0x55721182b804]\n#25 in /mnt/cube/tsainbur/conda_envs/tpy3/bin/python(_PyGen_Send+0x256) [0x55721180a7e6]\n#26 in /mnt/cube/tsainbur/conda_envs/tpy3/bin/python(_PyEval_EvalFrameDefault+0x13d4) [0x55721182b804]\n#27 in /mnt/cube/tsainbur/conda_envs/tpy3/bin/python(_PyGen_Send+0x256) [0x55721180a7e6]\n#28 in /mnt/cube/tsainbur/conda_envs/tpy3/bin/python(_PyCFunction_FastCallDict+0x115) [0x557211777595]\n#29 in /mnt/cube/tsainbur/conda_envs/tpy3/bin/python(+0x1a346c) [0x55721180746c]\n#30 in /mnt/cube/tsainbur/conda_envs/tpy3/bin/python(_PyEval_EvalFrameDefault+0x30a) [0x55721182a73a]\n#31 in /mnt/cube/tsainbur/conda_envs/tpy3/bin/python(+0x16ee4b) [0x5572117d2e4b]\n#32 in /mnt/cube/tsainbur/conda_envs/tpy3/bin/python(+0x1a3545) [0x557211807545]\n#33 in /mnt/cube/tsainbur/conda_envs/tpy3/bin/python(_PyEval_EvalFrameDefault+0x30a) [0x55721182a73a]\n#34 in /mnt/cube/tsainbur/conda_envs/tpy3/bin/python(+0x16ee4b) [0x5572117d2e4b]\n#35 in /mnt/cube/tsainbur/conda_envs/tpy3/bin/python(+0x1a3545) [0x557211807545]\n#36 in /mnt/cube/tsainbur/conda_envs/tpy3/bin/python(_PyEval_EvalFrameDefault+0x30a) [0x55721182a73a]\n#37 in /mnt/cube/tsainbur/conda_envs/tpy3/bin/python(+0x16e056) [0x5572117d2056]\n#38 in /mnt/cube/tsainbur/conda_envs/tpy3/bin/python(_PyFunction_FastCallDict+0x3da) [0x5572117d376a]\n#39 in /mnt/cube/tsainbur/conda_envs/tpy3/bin/python(_PyObject_FastCallDict+0x26f) [0x55721177799f]\n#40 in /mnt/cube/tsainbur/conda_envs/tpy3/bin/python(_PyObject_Call_Prepend+0x63) [0x55721177c613]\n#41 in /mnt/cube/tsainbur/conda_envs/tpy3/bin/python(PyObject_Call+0x3e) [0x5572117773de]\n#42 in /mnt/cube/tsainbur/conda_envs/tpy3/bin/python(_PyEval_EvalFrameDefault+0x1a26) [0x55721182be56]\n#43 in /mnt/cube/tsainbur/conda_envs/tpy3/bin/python(+0x16e326) [0x5572117d2326]\n#44 in /mnt/cube/tsainbur/conda_envs/tpy3/bin/python(+0x16f08f) [0x5572117d308f]\n#45 in /mnt/cube/tsainbur/conda_envs/tpy3/bin/python(+0x1a3545) [0x557211807545]\n#46 in /mnt/cube/tsainbur/conda_envs/tpy3/bin/python(_PyEval_EvalFrameDefault+0x1027) [0x55721182b457]\n#47 in /mnt/cube/tsainbur/conda_envs/tpy3/bin/python(+0x1a6364) [0x55721180a364]\n#48 in /mnt/cube/tsainbur/conda_envs/tpy3/bin/python(_PyCFunction_FastCallDict+0x91) [0x557211777511]\n#49 in /mnt/cube/tsainbur/conda_envs/tpy3/bin/python(+0x1a346c) [0x55721180746c]\n#50 in /mnt/cube/tsainbur/conda_envs/tpy3/bin/python(_PyEval_EvalFrameDefault+0x30a) [0x55721182a73a]\n#51 in /mnt/cube/tsainbur/conda_envs/tpy3/bin/python(+0x16e48e) [0x5572117d248e]\n#52 in /mnt/cube/tsainbur/conda_envs/tpy3/bin/python(+0x16f08f) [0x5572117d308f]\n#53 in /mnt/cube/tsainbur/conda_envs/tpy3/bin/python(+0x1a3545) [0x557211807545]\n#54 in /mnt/cube/tsainbur/conda_envs/tpy3/bin/python(_PyEval_EvalFrameDefault+0x30a) [0x55721182a73a]\n#55 in /mnt/cube/tsainbur/conda_envs/tpy3/bin/python(+0x1a6364) [0x55721180a364]\n#56 in /mnt/cube/tsainbur/conda_envs/tpy3/bin/python(_PyCFunction_FastCallDict+0x91) [0x557211777511]\n#57 in /mnt/cube/tsainbur/conda_envs/tpy3/bin/python(+0x1a346c) [0x55721180746c]\n#58 in /mnt/cube/tsainbur/conda_envs/tpy3/bin/python(_PyEval_EvalFrameDefault+0x30a) [0x55721182a73a]\n#59 in /mnt/cube/tsainbur/conda_envs/tpy3/bin/python(+0x16e48e) [0x5572117d248e]\n#60 in /mnt/cube/tsainbur/conda_envs/tpy3/bin/python(+0x16f08f) [0x5572117d308f]\n#61 in /mnt/cube/tsainbur/conda_envs/tpy3/bin/python(+0x1a3545) [0x557211807545]\n#62 in /mnt/cube/tsainbur/conda_envs/tpy3/bin/python(_PyEval_EvalFrameDefault+0x30a) [0x55721182a73a]\n#63 in /mnt/cube/tsainbur/conda_envs/tpy3/bin/python(+0x1a6364) [0x55721180a364]\n"
     ]
    }
   ],
   "source": [
    "for indv in tqdm(syllable_df.indv_nonneg.unique()):\n",
    "    subset_df = syllable_df[syllable_df.indv_nonneg == indv]\n",
    "    \n",
    "    specs = list(subset_df.spectrogram.values)\n",
    "    specs = [i/np.max(i) for i in tqdm(specs)]\n",
    "    specs_flattened = flatten_spectrograms(specs)\n",
    "    print(np.shape(specs_flattened))\n",
    "    \n",
    "    embedding = cumlUMAP(0.01).fit_transform(specs_flattened)\n",
    "    subset_df['umap-0.01'] = list(embedding)\n",
    "    \n",
    "    embedding = cumlUMAP(min_dist=0.1).fit_transform(specs_flattened)\n",
    "    subset_df['umap-0.1'] = list(embedding)\n",
    "    \n",
    "    embedding = cumlUMAP(min_dist=0.5).fit_transform(specs_flattened)\n",
    "    subset_df['umap-0.5'] = list(embedding)\n",
    "    \n",
    "    unique_labs = np.unique(subset_df.context.values)\n",
    "    unique_labs_dict = {lab:i for i, lab in enumerate(unique_labs)}\n",
    "    lab_list = [unique_labs_dict[i] for i in subset_df.context.values]\n",
    "    fig, ax = plt.subplots()\n",
    "    ax.scatter(embedding[:,0], embedding[:,1], s=1, c=lab_list, cmap=plt.cm.tab20, alpha = 0.25)\n",
    "    ax.set_xlim([-8,8])\n",
    "    ax.set_ylim([-8,8])\n",
    "    plt.show()\n",
    "    \n",
    "    ensure_dir(DATA_DIR / 'embeddings' / 'multiple_spread' / DATASET_ID / 'indvs')\n",
    "    subset_df.to_pickle(DATA_DIR / 'embeddings' / 'multiple_spread' / DATASET_ID / 'indvs' / (indv + '.pickle'))"
   ]
  },
  {
   "cell_type": "code",
   "execution_count": null,
   "metadata": {
    "ExecuteTime": {
     "start_time": "2020-04-25T01:06:03.338Z"
    }
   },
   "outputs": [],
   "source": [
    "embedding"
   ]
  },
  {
   "cell_type": "code",
   "execution_count": null,
   "metadata": {},
   "outputs": [],
   "source": []
  }
 ],
 "metadata": {
  "kernelspec": {
   "display_name": "Python 3",
   "language": "python",
   "name": "python3"
  },
  "language_info": {
   "codemirror_mode": {
    "name": "ipython",
    "version": 3
   },
   "file_extension": ".py",
   "mimetype": "text/x-python",
   "name": "python",
   "nbconvert_exporter": "python",
   "pygments_lexer": "ipython3",
   "version": "3.6.7"
  }
 },
 "nbformat": 4,
 "nbformat_minor": 2
}
