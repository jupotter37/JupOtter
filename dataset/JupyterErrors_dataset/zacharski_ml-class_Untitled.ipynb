{
 "cells": [
  {
   "cell_type": "code",
   "execution_count": 47,
   "id": "b66a5541",
   "metadata": {},
   "outputs": [],
   "source": [
    "from collections import defaultdict\n",
    "def isValid2(word):\n",
    "    table = defaultdict(int)\n",
    "    \n",
    "    for ch in word:\n",
    "        t = 0\n",
    "        \n",
    "        table[ch] += 1\n",
    "    for key,value in table.items():\n",
    "        if value % 2 ==1:\n",
    "            return 'NO'\n",
    "    return 'YES'"
   ]
  },
  {
   "cell_type": "code",
   "execution_count": 51,
   "id": "cabb9673",
   "metadata": {},
   "outputs": [
    {
     "name": "stdout",
     "output_type": "stream",
     "text": [
      "6.15 µs ± 906 ns per loop (mean ± std. dev. of 7 runs, 10,000 loops each)\n"
     ]
    }
   ],
   "source": [
    "%timeit -n10000 isValid('abcabcddddeeffffhhiiiiiiii')"
   ]
  },
  {
   "cell_type": "code",
   "execution_count": 52,
   "id": "dc9c8a27",
   "metadata": {},
   "outputs": [
    {
     "name": "stdout",
     "output_type": "stream",
     "text": [
      "3.65 µs ± 1.18 µs per loop (mean ± std. dev. of 7 runs, 10,000 loops each)\n"
     ]
    }
   ],
   "source": [
    "%timeit -n10000 isValid2('abcabcddddeeffffhhiiiiiiii')"
   ]
  },
  {
   "cell_type": "code",
   "execution_count": 3,
   "id": "fa04f890",
   "metadata": {},
   "outputs": [
    {
     "ename": "TypeError",
     "evalue": "first argument must be callable or None",
     "output_type": "error",
     "traceback": [
      "\u001b[0;31m---------------------------------------------------------------------------\u001b[0m",
      "\u001b[0;31mTypeError\u001b[0m                                 Traceback (most recent call last)",
      "Input \u001b[0;32mIn [3]\u001b[0m, in \u001b[0;36m<cell line: 1>\u001b[0;34m()\u001b[0m\n\u001b[0;32m----> 1\u001b[0m table \u001b[38;5;241m=\u001b[39m \u001b[43mdefaultdict\u001b[49m\u001b[43m(\u001b[49m\u001b[38;5;241;43m0\u001b[39;49m\u001b[43m)\u001b[49m\n",
      "\u001b[0;31mTypeError\u001b[0m: first argument must be callable or None"
     ]
    }
   ],
   "source": [
    "table = defaultdict(0)"
   ]
  },
  {
   "cell_type": "code",
   "execution_count": null,
   "id": "fde43624",
   "metadata": {},
   "outputs": [],
   "source": [
    "import math\n",
    "import os\n",
    "import random\n",
    "import re\n",
    "import sys\n",
    "\n",
    "#\n",
    "# Complete the 'alternatingCharacters' function below.\n",
    "#\n",
    "# The function is expected to return an INTEGER.\n",
    "# The function accepts STRING s as parameter.\n",
    "#\n",
    "\n",
    "def alternatingCharacters(s):\n",
    "    # Write your code here\n",
    "    change = 0\n",
    "    prev = 'Z'\n",
    "    for w in s:\n",
    "        if w == prev:\n",
    "            change += 1\n",
    "        prev = w\n",
    "    return change\n",
    "        \n",
    "\n",
    "if __name__ == '__main__':\n",
    "    fptr = open(os.environ['OUTPUT_PATH'], 'w')\n",
    "\n",
    "    q = int(input().strip())\n",
    "\n",
    "    for q_itr in range(q):\n",
    "        s = input()\n",
    "\n",
    "        result = alternatingCharacters(s)\n",
    "\n",
    "        fptr.write(str(result) + '\\n')\n",
    "\n",
    "    fptr.close()\n"
   ]
  },
  {
   "cell_type": "code",
   "execution_count": 12,
   "id": "0573825b",
   "metadata": {},
   "outputs": [],
   "source": [
    "\n",
    "def ac(s):\n",
    "    # Write your code here\n",
    "    change = 0\n",
    "    prev = 'Z'\n",
    "    for w in s:\n",
    "        if w == prev:\n",
    "            change += 1\n",
    "        prev = w\n",
    "    return change\n",
    "        \n",
    "\n"
   ]
  },
  {
   "cell_type": "code",
   "execution_count": 66,
   "id": "9fe006b0",
   "metadata": {},
   "outputs": [
    {
     "data": {
      "text/plain": [
       "0"
      ]
     },
     "execution_count": 66,
     "metadata": {},
     "output_type": "execute_result"
    }
   ],
   "source": [
    "ac('ABABABA')"
   ]
  },
  {
   "cell_type": "code",
   "execution_count": 22,
   "id": "e259ed3f",
   "metadata": {},
   "outputs": [],
   "source": [
    "from collections import defaultdict\n",
    "\n",
    "\n",
    "def isValid(word: str) -> str:\n",
    "    if len(word) % 2 != 0:\n",
    "        return \"NO\"\n",
    "    counter = defaultdict(int)\n",
    "    for letter in word:\n",
    "        counter[letter] += 1\n",
    "    return \"YES\" if all(c % 2 == 0 for c in counter.values()) else \"NO\"\n",
    "\n",
    "\n",
    "def ac(word: str) -> int:\n",
    "    dels = 0\n",
    "    for i in range(1, len(word)):\n",
    "        if word[i] == word[i - 1]:\n",
    "            dels += 1\n",
    "    return dels"
   ]
  },
  {
   "cell_type": "code",
   "execution_count": 29,
   "id": "d5789a5b",
   "metadata": {},
   "outputs": [],
   "source": [
    "def group(iterable):\n",
    "    groups = []\n",
    "    current = []\n",
    "    for c in iterable:\n",
    "        if len(current) == 0 or current[0] == c:\n",
    "            current.append(c)\n",
    "        else:\n",
    "            groups.append(current)\n",
    "            current = [c]\n",
    "    if len(current) > 0:\n",
    "        groups.append(current)\n",
    "    return groups\n",
    "\n",
    "\n",
    "def ac(str):\n",
    "    return sum(map(lambda x: x - 1, map(len, group(str))))"
   ]
  },
  {
   "cell_type": "code",
   "execution_count": 35,
   "id": "9fac7b48",
   "metadata": {},
   "outputs": [],
   "source": [
    "from functools import reduce\n",
    "def isValid(str):\n",
    "    def update(counts, key):\n",
    "        if not key in counts:\n",
    "            counts[key] = 0\n",
    "        counts[key] += 1\n",
    "        return counts.copy()\n",
    "\n",
    "    counts = reduce(update, str, {})\n",
    "    for count in counts:\n",
    "        if counts[count] % 2 == 1:\n",
    "            return \"NO\"\n",
    "    return \"YES\""
   ]
  },
  {
   "cell_type": "code",
   "execution_count": 50,
   "id": "1a7bbdd5",
   "metadata": {},
   "outputs": [
    {
     "ename": "TypeError",
     "evalue": "timeit() got an unexpected keyword argument 'x'",
     "output_type": "error",
     "traceback": [
      "\u001b[0;31m---------------------------------------------------------------------------\u001b[0m",
      "\u001b[0;31mTypeError\u001b[0m                                 Traceback (most recent call last)",
      "Input \u001b[0;32mIn [50]\u001b[0m, in \u001b[0;36m<cell line: 2>\u001b[0;34m()\u001b[0m\n\u001b[1;32m      1\u001b[0m \u001b[38;5;28;01mimport\u001b[39;00m \u001b[38;5;21;01mtimeit\u001b[39;00m\n\u001b[0;32m----> 2\u001b[0m \u001b[43mtimeit\u001b[49m\u001b[38;5;241;43m.\u001b[39;49m\u001b[43mtimeit\u001b[49m\u001b[43m(\u001b[49m\u001b[43mx\u001b[49m\u001b[43m \u001b[49m\u001b[38;5;241;43m=\u001b[39;49m\u001b[43m \u001b[49m\u001b[43misValid\u001b[49m\u001b[43m(\u001b[49m\u001b[38;5;124;43m'\u001b[39;49m\u001b[38;5;124;43mabcabcddddeeffffhhiiiiiiii\u001b[39;49m\u001b[38;5;124;43m'\u001b[39;49m\u001b[43m)\u001b[49m\u001b[43m,\u001b[49m\u001b[43m \u001b[49m\u001b[43mnumber\u001b[49m\u001b[38;5;241;43m=\u001b[39;49m\u001b[38;5;241;43m10000\u001b[39;49m\u001b[43m)\u001b[49m\n",
      "\u001b[0;31mTypeError\u001b[0m: timeit() got an unexpected keyword argument 'x'"
     ]
    }
   ],
   "source": [
    "import timeit\n",
    "timeit.timeit(x = isValid('abcabcddddeeffffhhiiiiiiii'), number=10000)"
   ]
  },
  {
   "cell_type": "code",
   "execution_count": 53,
   "id": "92a314d8",
   "metadata": {},
   "outputs": [],
   "source": [
    "# Function 1: Valid Strings\n",
    "def isValid(s: str):\n",
    "    # Stays True if loop ends naturally\n",
    "    valid = True\n",
    "\n",
    "    # Nested For Loop :: Traverses String Twice (i and j)\n",
    "    # First Traversal :: Resets Counter\n",
    "    for i in s:\n",
    "        count = 0\n",
    "        # Second Traversal :: If i exists in word add to counter\n",
    "        for j in s:\n",
    "            if j == i:\n",
    "                count += 1\n",
    "        # Breaks First Loop if number of i instances in word is odd\n",
    "        if count % 2 != 0:\n",
    "            valid = False\n",
    "            break\n",
    "    # Returns based on whether for loop ends successfully\n",
    "    if valid:\n",
    "        return 'YES'\n",
    "    else:\n",
    "        return 'NO'\n",
    "\n",
    "\n",
    "# Function 2: Alternating Characters\n",
    "def ac(s: str):\n",
    "    mindel = 0\n",
    "    # First Traversal\n",
    "    for index, i in enumerate(s):\n",
    "        # If next letter equals i add to mindel\n",
    "        if index != len(s) - 1 and s[index + 1] == i:\n",
    "            mindel += 1\n",
    "    # Returns value of duplicates adjacent on right side\n",
    "    return mindel"
   ]
  },
  {
   "cell_type": "code",
   "execution_count": 69,
   "id": "bf5dc8de",
   "metadata": {},
   "outputs": [
    {
     "name": "stdout",
     "output_type": "stream",
     "text": [
      "No\n"
     ]
    }
   ],
   "source": [
    "isValid('abcabcddddeeffffhhiiiiiii')"
   ]
  },
  {
   "cell_type": "code",
   "execution_count": 60,
   "id": "8b24bf70",
   "metadata": {},
   "outputs": [],
   "source": [
    "# Function 1: valid strings\n",
    "from collections import Counter\n",
    "\n",
    "def isValid(s):\n",
    "    cnt = Counter(s) # count a number of each character in string s\n",
    "    for key in cnt: # for each character\n",
    "        if cnt[key] % 2 == 1: # check if it has odd quantity\n",
    "            return False\n",
    "    return True"
   ]
  },
  {
   "cell_type": "code",
   "execution_count": 63,
   "id": "199d330f",
   "metadata": {},
   "outputs": [],
   "source": [
    "# Function 2: Alternating Characters\n",
    "def ac(s):\n",
    "    res = 0 # init a minimum number of required deletion\n",
    "    # assume s[0] to s[i] is a string meets requirements,\n",
    "    # so if s[i + 1] is same s[i], then delete it.\n",
    "    for i in range(len(s) - 1):\n",
    "        if s[i] == s[i + 1]:\n",
    "            res += 1\n",
    "    return res"
   ]
  },
  {
   "cell_type": "code",
   "execution_count": 67,
   "id": "6aec609d",
   "metadata": {},
   "outputs": [],
   "source": [
    "def isValid(string):\n",
    "\n",
    "    dict = {}\n",
    "    for letter in string:\n",
    "        if (letter) not in dict:\n",
    "            dict[letter] = 1\n",
    "        else:\n",
    "            dict[letter] += 1\n",
    "    if_false = 0\n",
    "    for key in dict:\n",
    "        if dict[key] % 2 == 0:\n",
    "            pass\n",
    "        else:\n",
    "            if_false += 1\n",
    "            pass\n",
    "    if if_false == 0:\n",
    "        print(\"Yes\")\n",
    "    else:\n",
    "        print(\"No\")"
   ]
  },
  {
   "cell_type": "code",
   "execution_count": null,
   "id": "8f4a402b",
   "metadata": {},
   "outputs": [],
   "source": []
  }
 ],
 "metadata": {
  "kernelspec": {
   "display_name": "Python 3 (ipykernel)",
   "language": "python",
   "name": "python3"
  },
  "language_info": {
   "codemirror_mode": {
    "name": "ipython",
    "version": 3
   },
   "file_extension": ".py",
   "mimetype": "text/x-python",
   "name": "python",
   "nbconvert_exporter": "python",
   "pygments_lexer": "ipython3",
   "version": "3.9.12"
  }
 },
 "nbformat": 4,
 "nbformat_minor": 5
}
