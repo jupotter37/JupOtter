{
 "cells": [
  {
   "cell_type": "markdown",
   "metadata": {},
   "source": [
    "# Indexed EPIC\n",
    "\n",
    "[EPIC](https://arxiv.org/pdf/2004.14245.pdf) is a neural re-ranking model that builds efficient representations for re-ranking. In this example, we show how to build an epic index to speed up the re-ranking process.\n",
    "\n",
    "## Install and import required packages"
   ]
  },
  {
   "cell_type": "code",
   "execution_count": 1,
   "metadata": {
    "scrolled": true
   },
   "outputs": [
    {
     "name": "stdout",
     "output_type": "stream",
     "text": [
      "Collecting git+https://github.com/terrier-org/pyterrier\n",
      "  Cloning https://github.com/terrier-org/pyterrier to /tmp/pip-req-build-w07i2dd8\n",
      "  Running command git clone -q https://github.com/terrier-org/pyterrier /tmp/pip-req-build-w07i2dd8\n",
      "Requirement already satisfied, skipping upgrade: numpy in /home/sean/.local/miniconda3/lib/python3.6/site-packages (from python-terrier==0.4.0) (1.19.2)\n",
      "Requirement already satisfied, skipping upgrade: pandas in /home/sean/.local/miniconda3/lib/python3.6/site-packages (from python-terrier==0.4.0) (1.1.5)\n",
      "Requirement already satisfied, skipping upgrade: wget in /home/sean/.local/miniconda3/lib/python3.6/site-packages/wget-3.2-py3.6.egg (from python-terrier==0.4.0) (3.2)\n",
      "Requirement already satisfied, skipping upgrade: pytrec_eval>=0.5 in /home/sean/.local/miniconda3/lib/python3.6/site-packages (from python-terrier==0.4.0) (0.5)\n",
      "Requirement already satisfied, skipping upgrade: tqdm>=4.57.0 in /home/sean/.local/miniconda3/lib/python3.6/site-packages (from python-terrier==0.4.0) (4.59.0)\n",
      "Requirement already satisfied, skipping upgrade: pyjnius~=1.3.0 in /home/sean/.local/miniconda3/lib/python3.6/site-packages (from python-terrier==0.4.0) (1.3.0)\n",
      "Requirement already satisfied, skipping upgrade: matchpy in /home/sean/.local/miniconda3/lib/python3.6/site-packages (from python-terrier==0.4.0) (0.5.3)\n",
      "Requirement already satisfied, skipping upgrade: sklearn in /home/sean/.local/miniconda3/lib/python3.6/site-packages (from python-terrier==0.4.0) (0.0)\n",
      "Requirement already satisfied, skipping upgrade: deprecation in /home/sean/.local/miniconda3/lib/python3.6/site-packages (from python-terrier==0.4.0) (2.1.0)\n",
      "Requirement already satisfied, skipping upgrade: chest in /home/sean/.local/miniconda3/lib/python3.6/site-packages (from python-terrier==0.4.0) (0.2.3)\n",
      "Requirement already satisfied, skipping upgrade: scipy in /home/sean/.local/miniconda3/lib/python3.6/site-packages (from python-terrier==0.4.0) (0.19.1)\n",
      "Requirement already satisfied, skipping upgrade: requests in /home/sean/.local/miniconda3/lib/python3.6/site-packages (from python-terrier==0.4.0) (2.22.0)\n",
      "Requirement already satisfied, skipping upgrade: nptyping in /home/sean/.local/miniconda3/lib/python3.6/site-packages (from python-terrier==0.4.0) (1.4.0)\n",
      "Requirement already satisfied, skipping upgrade: more_itertools in /home/sean/.local/miniconda3/lib/python3.6/site-packages (from python-terrier==0.4.0) (4.2.0)\n",
      "Requirement already satisfied, skipping upgrade: ir_datasets>=0.2.0 in /home/sean/.local/miniconda3/lib/python3.6/site-packages (from python-terrier==0.4.0) (0.3.3)\n",
      "Requirement already satisfied, skipping upgrade: jinja2 in /home/sean/.local/miniconda3/lib/python3.6/site-packages (from python-terrier==0.4.0) (2.10)\n",
      "Requirement already satisfied, skipping upgrade: pytz>=2017.2 in /home/sean/.local/miniconda3/lib/python3.6/site-packages (from pandas->python-terrier==0.4.0) (2017.3)\n",
      "Requirement already satisfied, skipping upgrade: python-dateutil>=2.7.3 in /home/sean/.local/miniconda3/lib/python3.6/site-packages (from pandas->python-terrier==0.4.0) (2.8.1)\n",
      "Requirement already satisfied, skipping upgrade: cython in /home/sean/.local/miniconda3/lib/python3.6/site-packages (from pyjnius~=1.3.0->python-terrier==0.4.0) (0.29.2)\n",
      "Requirement already satisfied, skipping upgrade: six>=1.7.0 in /home/sean/.local/lib/python3.6/site-packages (from pyjnius~=1.3.0->python-terrier==0.4.0) (1.12.0)\n",
      "Requirement already satisfied, skipping upgrade: multiset<3.0,>=2.0 in /home/sean/.local/miniconda3/lib/python3.6/site-packages (from matchpy->python-terrier==0.4.0) (2.1.1)\n",
      "Requirement already satisfied, skipping upgrade: hopcroftkarp<2.0,>=1.2 in /home/sean/.local/miniconda3/lib/python3.6/site-packages (from matchpy->python-terrier==0.4.0) (1.2.5)\n",
      "Requirement already satisfied, skipping upgrade: scikit-learn in /home/sean/.local/miniconda3/lib/python3.6/site-packages (from sklearn->python-terrier==0.4.0) (0.20.2)\n",
      "Requirement already satisfied, skipping upgrade: packaging in /home/sean/.local/miniconda3/lib/python3.6/site-packages (from deprecation->python-terrier==0.4.0) (18.0)\n",
      "Requirement already satisfied, skipping upgrade: heapdict in /home/sean/.local/miniconda3/lib/python3.6/site-packages (from chest->python-terrier==0.4.0) (1.0.1)\n",
      "Requirement already satisfied, skipping upgrade: certifi>=2017.4.17 in /home/sean/.local/miniconda3/lib/python3.6/site-packages (from requests->python-terrier==0.4.0) (2017.11.5)\n",
      "Requirement already satisfied, skipping upgrade: urllib3!=1.25.0,!=1.25.1,<1.26,>=1.21.1 in /home/sean/.local/miniconda3/lib/python3.6/site-packages (from requests->python-terrier==0.4.0) (1.22)\n",
      "Requirement already satisfied, skipping upgrade: chardet<3.1.0,>=3.0.2 in /home/sean/.local/miniconda3/lib/python3.6/site-packages (from requests->python-terrier==0.4.0) (3.0.4)\n",
      "Requirement already satisfied, skipping upgrade: idna<2.9,>=2.5 in /home/sean/.local/miniconda3/lib/python3.6/site-packages (from requests->python-terrier==0.4.0) (2.6)\n",
      "Requirement already satisfied, skipping upgrade: typish>=1.7.0 in /home/sean/.local/miniconda3/lib/python3.6/site-packages (from nptyping->python-terrier==0.4.0) (1.9.1)\n",
      "Requirement already satisfied, skipping upgrade: lxml>=4.5.2 in /home/sean/.local/miniconda3/lib/python3.6/site-packages (from ir_datasets>=0.2.0->python-terrier==0.4.0) (4.6.2)\n",
      "Requirement already satisfied, skipping upgrade: warc3-wet>=0.2.3 in /home/sean/.local/miniconda3/lib/python3.6/site-packages/warc3_wet-0.2.3-py3.6.egg (from ir_datasets>=0.2.0->python-terrier==0.4.0) (0.2.3)\n",
      "Requirement already satisfied, skipping upgrade: ijson>=3.1.3 in /home/sean/.local/miniconda3/lib/python3.6/site-packages (from ir_datasets>=0.2.0->python-terrier==0.4.0) (3.1.4)\n",
      "Requirement already satisfied, skipping upgrade: beautifulsoup4>=4.4.1 in /home/sean/.local/miniconda3/lib/python3.6/site-packages (from ir_datasets>=0.2.0->python-terrier==0.4.0) (4.9.3)\n",
      "Requirement already satisfied, skipping upgrade: lz4>=3.1.1 in /home/sean/.local/miniconda3/lib/python3.6/site-packages/lz4-3.1.3-py3.6-linux-x86_64.egg (from ir_datasets>=0.2.0->python-terrier==0.4.0) (3.1.3)\n",
      "Requirement already satisfied, skipping upgrade: pyyaml>=5.3.1 in /home/sean/.local/miniconda3/lib/python3.6/site-packages (from ir_datasets>=0.2.0->python-terrier==0.4.0) (5.4.1)\n",
      "Requirement already satisfied, skipping upgrade: zlib-state>=0.1.3 in /home/sean/.local/miniconda3/lib/python3.6/site-packages/zlib_state-0.1.3-py3.6-linux-x86_64.egg (from ir_datasets>=0.2.0->python-terrier==0.4.0) (0.1.3)\n",
      "Requirement already satisfied, skipping upgrade: warc3-wet-clueweb09>=0.2.5 in /home/sean/.local/miniconda3/lib/python3.6/site-packages/warc3_wet_clueweb09-0.2.5-py3.6.egg (from ir_datasets>=0.2.0->python-terrier==0.4.0) (0.2.5)\n",
      "Requirement already satisfied, skipping upgrade: trec-car-tools>=2.5.4 in /home/sean/.local/miniconda3/lib/python3.6/site-packages (from ir_datasets>=0.2.0->python-terrier==0.4.0) (2.5.4)\n",
      "Requirement already satisfied, skipping upgrade: MarkupSafe>=0.23 in /home/sean/.local/miniconda3/lib/python3.6/site-packages (from jinja2->python-terrier==0.4.0) (1.0)\n",
      "Requirement already satisfied, skipping upgrade: pyparsing>=2.0.2 in /home/sean/.local/miniconda3/lib/python3.6/site-packages (from packaging->deprecation->python-terrier==0.4.0) (2.2.0)\n",
      "Requirement already satisfied, skipping upgrade: soupsieve>1.2; python_version >= \"3.0\" in /home/sean/.local/miniconda3/lib/python3.6/site-packages (from beautifulsoup4>=4.4.1->ir_datasets>=0.2.0->python-terrier==0.4.0) (2.2.1)\n",
      "Requirement already satisfied, skipping upgrade: cbor>=1.0.0 in /home/sean/.local/miniconda3/lib/python3.6/site-packages (from trec-car-tools>=2.5.4->ir_datasets>=0.2.0->python-terrier==0.4.0) (1.0.0)\n",
      "Building wheels for collected packages: python-terrier\n",
      "  Building wheel for python-terrier (setup.py) ... \u001b[?25ldone\n",
      "\u001b[?25h  Created wheel for python-terrier: filename=python_terrier-0.4.0-cp36-none-any.whl size=77279 sha256=c122ac837cc645b0d544984d26182b3a79c133657a1415b3890b836bae8b5255\n",
      "  Stored in directory: /tmp/pip-ephem-wheel-cache-7l1jhcps/wheels/91/7d/75/656f56b2b8ece83f93195066cbc720d379e70f2a2da6e7955e\n",
      "Successfully built python-terrier\n",
      "Installing collected packages: python-terrier\n",
      "  Found existing installation: python-terrier 0.4.0\n"
     ]
    },
    {
     "name": "stdout",
     "output_type": "stream",
     "text": [
      "    Uninstalling python-terrier-0.4.0:\n",
      "      Successfully uninstalled python-terrier-0.4.0\n",
      "Successfully installed python-terrier-0.4.0\n",
      "\u001b[33mWARNING: You are using pip version 19.3.1; however, version 21.0.1 is available.\n",
      "You should consider upgrading via the 'pip install --upgrade pip' command.\u001b[0m\n",
      "Collecting git+https://github.com/Georgetown-IR-Lab/OpenNIR\n",
      "  Cloning https://github.com/Georgetown-IR-Lab/OpenNIR to /tmp/pip-req-build-goygvm9o\n",
      "  Running command git clone -q https://github.com/Georgetown-IR-Lab/OpenNIR /tmp/pip-req-build-goygvm9o\n",
      "Requirement already satisfied, skipping upgrade: torch>=1.3.1 in /home/sean/.local/miniconda3/lib/python3.6/site-packages (from OpenNIR==0.1.0) (1.7.1)\n",
      "Requirement already satisfied, skipping upgrade: pytorch-pretrained-bert==0.6.1 in /home/sean/.local/miniconda3/lib/python3.6/site-packages (from OpenNIR==0.1.0) (0.6.1)\n",
      "Requirement already satisfied, skipping upgrade: pytorch-transformers==1.1.0 in /home/sean/.local/miniconda3/lib/python3.6/site-packages (from OpenNIR==0.1.0) (1.1.0)\n",
      "Requirement already satisfied, skipping upgrade: tokenizers>=0.1.1 in /home/sean/.local/miniconda3/lib/python3.6/site-packages (from OpenNIR==0.1.0) (0.10.1)\n",
      "Requirement already satisfied, skipping upgrade: transformers>=4.3.3 in /home/sean/.local/miniconda3/lib/python3.6/site-packages (from OpenNIR==0.1.0) (4.4.1)\n",
      "Requirement already satisfied, skipping upgrade: tqdm>=4.38.0 in /home/sean/.local/miniconda3/lib/python3.6/site-packages (from OpenNIR==0.1.0) (4.59.0)\n",
      "Requirement already satisfied, skipping upgrade: colorlog>=4.0.2 in /home/sean/.local/miniconda3/lib/python3.6/site-packages (from OpenNIR==0.1.0) (4.0.2)\n",
      "Requirement already satisfied, skipping upgrade: terminaltables>=3.1.0 in /home/sean/.local/miniconda3/lib/python3.6/site-packages (from OpenNIR==0.1.0) (3.1.0)\n",
      "Requirement already satisfied, skipping upgrade: matplotlib>=3.0.2 in /home/sean/.local/miniconda3/lib/python3.6/site-packages (from OpenNIR==0.1.0) (3.0.2)\n",
      "Requirement already satisfied, skipping upgrade: seaborn>=0.9.0 in /home/sean/.local/miniconda3/lib/python3.6/site-packages (from OpenNIR==0.1.0) (0.9.0)\n",
      "Requirement already satisfied, skipping upgrade: python-ternary>=1.0.6 in /home/sean/.local/miniconda3/lib/python3.6/site-packages (from OpenNIR==0.1.0) (1.0.6)\n",
      "Requirement already satisfied, skipping upgrade: beautifulsoup4>=4.4.1 in /home/sean/.local/miniconda3/lib/python3.6/site-packages (from OpenNIR==0.1.0) (4.9.3)\n",
      "Requirement already satisfied, skipping upgrade: html5lib>=1.0.1 in /home/sean/.local/miniconda3/lib/python3.6/site-packages (from OpenNIR==0.1.0) (1.1)\n",
      "Requirement already satisfied, skipping upgrade: Unidecode>=1.0.22 in /home/sean/.local/miniconda3/lib/python3.6/site-packages (from OpenNIR==0.1.0) (1.0.22)\n",
      "Requirement already satisfied, skipping upgrade: nltk>=3.4.5 in /home/sean/.local/miniconda3/lib/python3.6/site-packages (from OpenNIR==0.1.0) (3.5)\n",
      "Requirement already satisfied, skipping upgrade: sqlitedict>=1.6.0 in /home/sean/.local/miniconda3/lib/python3.6/site-packages (from OpenNIR==0.1.0) (1.6.0)\n",
      "Requirement already satisfied, skipping upgrade: gensim>=3.7.3 in /home/sean/.local/miniconda3/lib/python3.6/site-packages (from OpenNIR==0.1.0) (3.7.3)\n",
      "Requirement already satisfied, skipping upgrade: Cython>=0.29.2 in /home/sean/.local/miniconda3/lib/python3.6/site-packages (from OpenNIR==0.1.0) (0.29.2)\n",
      "Requirement already satisfied, skipping upgrade: pyjnius>=1.2.1 in /home/sean/.local/miniconda3/lib/python3.6/site-packages (from OpenNIR==0.1.0) (1.3.0)\n",
      "Requirement already satisfied, skipping upgrade: ir_datasets>=0.2.0 in /home/sean/.local/miniconda3/lib/python3.6/site-packages (from OpenNIR==0.1.0) (0.3.3)\n",
      "Requirement already satisfied, skipping upgrade: pytools>=2018.5.2 in /home/sean/.local/miniconda3/lib/python3.6/site-packages (from OpenNIR==0.1.0) (2018.5.2)\n",
      "Requirement already satisfied, skipping upgrade: cached-property>=1.5.1 in /home/sean/.local/miniconda3/lib/python3.6/site-packages (from OpenNIR==0.1.0) (1.5.1)\n",
      "Requirement already satisfied, skipping upgrade: typing_extensions in /home/sean/.local/miniconda3/lib/python3.6/site-packages (from torch>=1.3.1->OpenNIR==0.1.0) (3.7.4.3)\n",
      "Requirement already satisfied, skipping upgrade: numpy in /home/sean/.local/miniconda3/lib/python3.6/site-packages (from torch>=1.3.1->OpenNIR==0.1.0) (1.19.2)\n",
      "Requirement already satisfied, skipping upgrade: dataclasses in /home/sean/.local/miniconda3/lib/python3.6/site-packages (from torch>=1.3.1->OpenNIR==0.1.0) (0.8)\n",
      "Requirement already satisfied, skipping upgrade: boto3 in /home/sean/.local/miniconda3/lib/python3.6/site-packages (from pytorch-pretrained-bert==0.6.1->OpenNIR==0.1.0) (1.6.3)\n",
      "Requirement already satisfied, skipping upgrade: regex in /home/sean/.local/miniconda3/lib/python3.6/site-packages (from pytorch-pretrained-bert==0.6.1->OpenNIR==0.1.0) (2017.4.5)\n",
      "Requirement already satisfied, skipping upgrade: requests in /home/sean/.local/miniconda3/lib/python3.6/site-packages (from pytorch-pretrained-bert==0.6.1->OpenNIR==0.1.0) (2.22.0)\n",
      "Requirement already satisfied, skipping upgrade: sentencepiece in /home/sean/.local/miniconda3/lib/python3.6/site-packages (from pytorch-transformers==1.1.0->OpenNIR==0.1.0) (0.1.82)\n",
      "Requirement already satisfied, skipping upgrade: packaging in /home/sean/.local/miniconda3/lib/python3.6/site-packages (from transformers>=4.3.3->OpenNIR==0.1.0) (18.0)\n",
      "Requirement already satisfied, skipping upgrade: sacremoses in /home/sean/.local/miniconda3/lib/python3.6/site-packages (from transformers>=4.3.3->OpenNIR==0.1.0) (0.0.33)\n",
      "Requirement already satisfied, skipping upgrade: filelock in /home/sean/.local/miniconda3/lib/python3.6/site-packages (from transformers>=4.3.3->OpenNIR==0.1.0) (3.0.12)\n",
      "Requirement already satisfied, skipping upgrade: importlib-metadata; python_version < \"3.8\" in /home/sean/.local/miniconda3/lib/python3.6/site-packages (from transformers>=4.3.3->OpenNIR==0.1.0) (3.4.0)\n",
      "Requirement already satisfied, skipping upgrade: python-dateutil>=2.1 in /home/sean/.local/miniconda3/lib/python3.6/site-packages (from matplotlib>=3.0.2->OpenNIR==0.1.0) (2.8.1)\n",
      "Requirement already satisfied, skipping upgrade: pyparsing!=2.0.4,!=2.1.2,!=2.1.6,>=2.0.1 in /home/sean/.local/miniconda3/lib/python3.6/site-packages (from matplotlib>=3.0.2->OpenNIR==0.1.0) (2.2.0)\n",
      "Requirement already satisfied, skipping upgrade: kiwisolver>=1.0.1 in /home/sean/.local/miniconda3/lib/python3.6/site-packages (from matplotlib>=3.0.2->OpenNIR==0.1.0) (1.0.1)\n",
      "Requirement already satisfied, skipping upgrade: cycler>=0.10 in /home/sean/.local/miniconda3/lib/python3.6/site-packages (from matplotlib>=3.0.2->OpenNIR==0.1.0) (0.10.0)\n",
      "Requirement already satisfied, skipping upgrade: pandas>=0.15.2 in /home/sean/.local/miniconda3/lib/python3.6/site-packages (from seaborn>=0.9.0->OpenNIR==0.1.0) (1.1.5)\n",
      "Requirement already satisfied, skipping upgrade: scipy>=0.14.0 in /home/sean/.local/miniconda3/lib/python3.6/site-packages (from seaborn>=0.9.0->OpenNIR==0.1.0) (0.19.1)\n",
      "Requirement already satisfied, skipping upgrade: soupsieve>1.2; python_version >= \"3.0\" in /home/sean/.local/miniconda3/lib/python3.6/site-packages (from beautifulsoup4>=4.4.1->OpenNIR==0.1.0) (2.2.1)\n",
      "Requirement already satisfied, skipping upgrade: six>=1.9 in /home/sean/.local/lib/python3.6/site-packages (from html5lib>=1.0.1->OpenNIR==0.1.0) (1.12.0)\n",
      "Requirement already satisfied, skipping upgrade: webencodings in /home/sean/.local/miniconda3/lib/python3.6/site-packages/webencodings-0.5.1-py3.6.egg (from html5lib>=1.0.1->OpenNIR==0.1.0) (0.5.1)\n",
      "Requirement already satisfied, skipping upgrade: joblib in /home/sean/.local/miniconda3/lib/python3.6/site-packages (from nltk>=3.4.5->OpenNIR==0.1.0) (0.11)\n",
      "Requirement already satisfied, skipping upgrade: click in /home/sean/.local/miniconda3/lib/python3.6/site-packages (from nltk>=3.4.5->OpenNIR==0.1.0) (7.1.2)\n",
      "Requirement already satisfied, skipping upgrade: smart-open>=1.7.0 in /home/sean/.local/miniconda3/lib/python3.6/site-packages (from gensim>=3.7.3->OpenNIR==0.1.0) (1.8.4)\n",
      "Requirement already satisfied, skipping upgrade: zlib-state>=0.1.3 in /home/sean/.local/miniconda3/lib/python3.6/site-packages/zlib_state-0.1.3-py3.6-linux-x86_64.egg (from ir_datasets>=0.2.0->OpenNIR==0.1.0) (0.1.3)\n",
      "Requirement already satisfied, skipping upgrade: pyyaml>=5.3.1 in /home/sean/.local/miniconda3/lib/python3.6/site-packages (from ir_datasets>=0.2.0->OpenNIR==0.1.0) (5.4.1)\n",
      "Requirement already satisfied, skipping upgrade: warc3-wet>=0.2.3 in /home/sean/.local/miniconda3/lib/python3.6/site-packages/warc3_wet-0.2.3-py3.6.egg (from ir_datasets>=0.2.0->OpenNIR==0.1.0) (0.2.3)\n",
      "Requirement already satisfied, skipping upgrade: warc3-wet-clueweb09>=0.2.5 in /home/sean/.local/miniconda3/lib/python3.6/site-packages/warc3_wet_clueweb09-0.2.5-py3.6.egg (from ir_datasets>=0.2.0->OpenNIR==0.1.0) (0.2.5)\n",
      "Requirement already satisfied, skipping upgrade: lz4>=3.1.1 in /home/sean/.local/miniconda3/lib/python3.6/site-packages/lz4-3.1.3-py3.6-linux-x86_64.egg (from ir_datasets>=0.2.0->OpenNIR==0.1.0) (3.1.3)\n",
      "Requirement already satisfied, skipping upgrade: trec-car-tools>=2.5.4 in /home/sean/.local/miniconda3/lib/python3.6/site-packages (from ir_datasets>=0.2.0->OpenNIR==0.1.0) (2.5.4)\n",
      "Requirement already satisfied, skipping upgrade: lxml>=4.5.2 in /home/sean/.local/miniconda3/lib/python3.6/site-packages (from ir_datasets>=0.2.0->OpenNIR==0.1.0) (4.6.2)\n",
      "Requirement already satisfied, skipping upgrade: ijson>=3.1.3 in /home/sean/.local/miniconda3/lib/python3.6/site-packages (from ir_datasets>=0.2.0->OpenNIR==0.1.0) (3.1.4)\n",
      "Requirement already satisfied, skipping upgrade: appdirs>=1.4.0 in /home/sean/.local/miniconda3/lib/python3.6/site-packages (from pytools>=2018.5.2->OpenNIR==0.1.0) (1.4.3)\n",
      "Requirement already satisfied, skipping upgrade: decorator>=3.2.0 in /home/sean/.local/miniconda3/lib/python3.6/site-packages (from pytools>=2018.5.2->OpenNIR==0.1.0) (4.4.1)\n",
      "Requirement already satisfied, skipping upgrade: botocore<1.10.0,>=1.9.3 in /home/sean/.local/miniconda3/lib/python3.6/site-packages (from boto3->pytorch-pretrained-bert==0.6.1->OpenNIR==0.1.0) (1.9.23)\n",
      "Requirement already satisfied, skipping upgrade: s3transfer<0.2.0,>=0.1.10 in /home/sean/.local/miniconda3/lib/python3.6/site-packages (from boto3->pytorch-pretrained-bert==0.6.1->OpenNIR==0.1.0) (0.1.13)\n",
      "Requirement already satisfied, skipping upgrade: jmespath<1.0.0,>=0.7.1 in /home/sean/.local/miniconda3/lib/python3.6/site-packages (from boto3->pytorch-pretrained-bert==0.6.1->OpenNIR==0.1.0) (0.9.3)\n",
      "Requirement already satisfied, skipping upgrade: urllib3!=1.25.0,!=1.25.1,<1.26,>=1.21.1 in /home/sean/.local/miniconda3/lib/python3.6/site-packages (from requests->pytorch-pretrained-bert==0.6.1->OpenNIR==0.1.0) (1.22)\n",
      "Requirement already satisfied, skipping upgrade: certifi>=2017.4.17 in /home/sean/.local/miniconda3/lib/python3.6/site-packages (from requests->pytorch-pretrained-bert==0.6.1->OpenNIR==0.1.0) (2017.11.5)\n",
      "Requirement already satisfied, skipping upgrade: chardet<3.1.0,>=3.0.2 in /home/sean/.local/miniconda3/lib/python3.6/site-packages (from requests->pytorch-pretrained-bert==0.6.1->OpenNIR==0.1.0) (3.0.4)\n",
      "Requirement already satisfied, skipping upgrade: idna<2.9,>=2.5 in /home/sean/.local/miniconda3/lib/python3.6/site-packages (from requests->pytorch-pretrained-bert==0.6.1->OpenNIR==0.1.0) (2.6)\n",
      "Requirement already satisfied, skipping upgrade: zipp>=0.5 in /home/sean/.local/miniconda3/lib/python3.6/site-packages (from importlib-metadata; python_version < \"3.8\"->transformers>=4.3.3->OpenNIR==0.1.0) (3.4.0)\n"
     ]
    },
    {
     "name": "stdout",
     "output_type": "stream",
     "text": [
      "Requirement already satisfied, skipping upgrade: setuptools in /home/sean/.local/miniconda3/lib/python3.6/site-packages (from kiwisolver>=1.0.1->matplotlib>=3.0.2->OpenNIR==0.1.0) (41.2.0)\n",
      "Requirement already satisfied, skipping upgrade: pytz>=2017.2 in /home/sean/.local/miniconda3/lib/python3.6/site-packages (from pandas>=0.15.2->seaborn>=0.9.0->OpenNIR==0.1.0) (2017.3)\n",
      "Requirement already satisfied, skipping upgrade: boto>=2.32 in /home/sean/.local/miniconda3/lib/python3.6/site-packages (from smart-open>=1.7.0->gensim>=3.7.3->OpenNIR==0.1.0) (2.48.0)\n",
      "Requirement already satisfied, skipping upgrade: cbor>=1.0.0 in /home/sean/.local/miniconda3/lib/python3.6/site-packages (from trec-car-tools>=2.5.4->ir_datasets>=0.2.0->OpenNIR==0.1.0) (1.0.0)\n",
      "Requirement already satisfied, skipping upgrade: docutils>=0.10 in /home/sean/.local/miniconda3/lib/python3.6/site-packages (from botocore<1.10.0,>=1.9.3->boto3->pytorch-pretrained-bert==0.6.1->OpenNIR==0.1.0) (0.16)\n",
      "Building wheels for collected packages: OpenNIR\n",
      "  Building wheel for OpenNIR (setup.py) ... \u001b[?25ldone\n",
      "\u001b[?25h  Created wheel for OpenNIR: filename=OpenNIR-0.1.0-cp36-none-any.whl size=55844579 sha256=7e5766112740243bc44a3c3a4fbf2fd8520d550c17c8a1c136b6bee6954e6fb1\n",
      "  Stored in directory: /tmp/pip-ephem-wheel-cache-gx4hdon5/wheels/3e/0c/99/d4d6998a276620c87fe9db8322e2fd769017eb77e1d3fcc67e\n",
      "Successfully built OpenNIR\n",
      "Installing collected packages: OpenNIR\n",
      "  Found existing installation: OpenNIR 0.1.0\n",
      "    Uninstalling OpenNIR-0.1.0:\n",
      "      Successfully uninstalled OpenNIR-0.1.0\n",
      "Successfully installed OpenNIR-0.1.0\n",
      "\u001b[33mWARNING: You are using pip version 19.3.1; however, version 21.0.1 is available.\n",
      "You should consider upgrading via the 'pip install --upgrade pip' command.\u001b[0m\n"
     ]
    }
   ],
   "source": [
    "!pip install --upgrade git+https://github.com/terrier-org/pyterrier\n",
    "!pip install --upgrade git+https://github.com/Georgetown-IR-Lab/OpenNIR"
   ]
  },
  {
   "cell_type": "code",
   "execution_count": 2,
   "metadata": {},
   "outputs": [
    {
     "name": "stdout",
     "output_type": "stream",
     "text": [
      "PyTerrier 0.4.0 has loaded Terrier 5.4 (built by craigm on 2021-01-16 14:17)\n",
      "Better speed can be achieved with apex installed from https://www.github.com/nvidia/apex.\n"
     ]
    }
   ],
   "source": [
    "import os\n",
    "import pyterrier as pt\n",
    "if not pt.started():\n",
    "    pt.init(tqdm='notebook')\n",
    "import onir_pt"
   ]
  },
  {
   "cell_type": "markdown",
   "metadata": {},
   "source": [
    "# Lazy re-ranking\n",
    "\n",
    "We'll start by using a re-ranker that computes document representations as they are needed. Since this model uses BERT to build thiese representations, this process ends up taking a long time."
   ]
  },
  {
   "cell_type": "code",
   "execution_count": 3,
   "metadata": {},
   "outputs": [
    {
     "name": "stdout",
     "output_type": "stream",
     "text": [
      "config file not found: config\n",
      "[2021-03-19 07:35:51,950][onir_pt][INFO] using cached checkpoint: /home/sean/data/onir/model_checkpoints/66273681b3ce24117dfda4b8ff58bad3\n"
     ]
    }
   ],
   "source": [
    "# Load a version of EPIC trained on the MS-MARCO dataset\n",
    "lazy_epic = onir_pt.reranker.from_checkpoint(\n",
    "    'https://macavaney.us/epic.msmarco.tar.gz',\n",
    "    expected_md5=\"2f6a16be1a6a63aab1e8fed55521a4db\")"
   ]
  },
  {
   "cell_type": "code",
   "execution_count": 4,
   "metadata": {},
   "outputs": [],
   "source": [
    "# Use the TREC COVID dataset for this example\n",
    "dataset = pt.datasets.get_dataset('irds:cord19/trec-covid')"
   ]
  },
  {
   "cell_type": "code",
   "execution_count": 6,
   "metadata": {},
   "outputs": [],
   "source": [
    "# Build an inverted index for TREC COIVID with pyterrier\n",
    "pt_index_path = './terrier_cord19'\n",
    "if not os.path.exists(pt_index_path + '/data.properties'):\n",
    "    indexer = pt.index.IterDictIndexer(pt_index_path)\n",
    "    index_ref = indexer.index(dataset.get_corpus_iter(), fields=('abstract',), meta=('docno',))\n",
    "else:\n",
    "    index_ref = pt.IndexRef.of(pt_index_path + '/data.properties')\n",
    "index = pt.IndexFactory.of(index_ref)"
   ]
  },
  {
   "cell_type": "code",
   "execution_count": 7,
   "metadata": {},
   "outputs": [
    {
     "name": "stdout",
     "output_type": "stream",
     "text": [
      "[2021-03-19 07:36:48,287][onir_pt][DEBUG] using GPU (deterministic)\n",
      "[2021-03-19 07:36:49,675][onir_pt][DEBUG] [starting] batches\n"
     ]
    },
    {
     "data": {
      "application/vnd.jupyter.widget-view+json": {
       "model_id": "",
       "version_major": 2,
       "version_minor": 0
      },
      "text/plain": [
       "batches:   0%|          | 0/375 [16ms<?, ?it/s]"
      ]
     },
     "metadata": {},
     "output_type": "display_data"
    },
    {
     "name": "stdout",
     "output_type": "stream",
     "text": [
      "[2021-03-19 07:37:26,691][onir_pt][DEBUG] [finished] batches: [37.01s] [375it] [10.13it/s]\n"
     ]
    },
    {
     "data": {
      "text/html": [
       "<div>\n",
       "<style scoped>\n",
       "    .dataframe tbody tr th:only-of-type {\n",
       "        vertical-align: middle;\n",
       "    }\n",
       "\n",
       "    .dataframe tbody tr th {\n",
       "        vertical-align: top;\n",
       "    }\n",
       "\n",
       "    .dataframe thead th {\n",
       "        text-align: right;\n",
       "    }\n",
       "</style>\n",
       "<table border=\"1\" class=\"dataframe\">\n",
       "  <thead>\n",
       "    <tr style=\"text-align: right;\">\n",
       "      <th></th>\n",
       "      <th>name</th>\n",
       "      <th>recip_rank</th>\n",
       "      <th>P_5</th>\n",
       "      <th>mrt</th>\n",
       "    </tr>\n",
       "  </thead>\n",
       "  <tbody>\n",
       "    <tr>\n",
       "      <th>0</th>\n",
       "      <td>DPH</td>\n",
       "      <td>0.766833</td>\n",
       "      <td>0.684</td>\n",
       "      <td>36.734074</td>\n",
       "    </tr>\n",
       "    <tr>\n",
       "      <th>1</th>\n",
       "      <td>DPH &gt;&gt; EPIC (lazy)</td>\n",
       "      <td>0.817889</td>\n",
       "      <td>0.724</td>\n",
       "      <td>801.524438</td>\n",
       "    </tr>\n",
       "  </tbody>\n",
       "</table>\n",
       "</div>"
      ],
      "text/plain": [
       "                 name  recip_rank    P_5         mrt\n",
       "0                 DPH    0.766833  0.684   36.734074\n",
       "1  DPH >> EPIC (lazy)    0.817889  0.724  801.524438"
      ]
     },
     "execution_count": 7,
     "metadata": {},
     "output_type": "execute_result"
    }
   ],
   "source": [
    "br = pt.BatchRetrieve(index) % 30\n",
    "pipeline = (br >> pt.text.get_text(dataset, 'abstract')\n",
    "               >> pt.apply.generic(lambda x: x.rename(columns={'abstract': 'text'}))\n",
    "               >> lazy_epic)\n",
    "pt.Experiment(\n",
    "    [br, pipeline],\n",
    "    dataset.get_topics('title'),\n",
    "    dataset.get_qrels(),\n",
    "    names=['DPH', 'DPH >> EPIC (lazy)'],\n",
    "    eval_metrics=[\"recip_rank\", \"P.5\", \"mrt\"]\n",
    ")"
   ]
  },
  {
   "cell_type": "markdown",
   "metadata": {},
   "source": [
    "As seen by the mean response time (mrt) above, the lazy EPIC re-ranker is much slower than retrieving from the terrier index."
   ]
  },
  {
   "cell_type": "markdown",
   "metadata": {},
   "source": [
    "# Pre-computing document vectors\n",
    "\n",
    "We can speed up the process by first computing all the document vectors. To do this, we use the `onir_pt.indexed_epic` component."
   ]
  },
  {
   "cell_type": "code",
   "execution_count": 8,
   "metadata": {},
   "outputs": [
    {
     "name": "stdout",
     "output_type": "stream",
     "text": [
      "[2021-03-19 07:37:29,309][onir_pt][INFO] using cached checkpoint: /home/sean/data/onir/model_checkpoints/66273681b3ce24117dfda4b8ff58bad3\n"
     ]
    }
   ],
   "source": [
    "indexed_epic = onir_pt.indexed_epic.from_checkpoint('https://macavaney.us/epic.msmarco.tar.gz',\n",
    "                                            index_path='./epic_cord19')"
   ]
  },
  {
   "cell_type": "code",
   "execution_count": 9,
   "metadata": {},
   "outputs": [
    {
     "data": {
      "application/vnd.jupyter.widget-view+json": {
       "model_id": "61cfecddc86442c2a8529006d3c4807f",
       "version_major": 2,
       "version_minor": 0
      },
      "text/plain": [
       "cord19/trec-covid documents:   0%|          | 0/192509 [19ms<?, ?it/s]"
      ]
     },
     "metadata": {},
     "output_type": "display_data"
    },
    {
     "ename": "AssertionError",
     "evalue": "index already built (use replace=True to replace)",
     "output_type": "error",
     "traceback": [
      "\u001b[0;31m---------------------------------------------------------------------------\u001b[0m",
      "\u001b[0;31mAssertionError\u001b[0m                            Traceback (most recent call last)",
      "\u001b[0;32m<ipython-input-9-1208f79457dc>\u001b[0m in \u001b[0;36m<module>\u001b[0;34m\u001b[0m\n\u001b[1;32m      1\u001b[0m \u001b[0;31m# Index the documents. This takes some time, but it will end up saving a lot for mean response time.\u001b[0m\u001b[0;34m\u001b[0m\u001b[0;34m\u001b[0m\u001b[0;34m\u001b[0m\u001b[0m\n\u001b[0;32m----> 2\u001b[0;31m \u001b[0mindexed_epic\u001b[0m\u001b[0;34m.\u001b[0m\u001b[0mindex\u001b[0m\u001b[0;34m(\u001b[0m\u001b[0mdataset\u001b[0m\u001b[0;34m.\u001b[0m\u001b[0mget_corpus_iter\u001b[0m\u001b[0;34m(\u001b[0m\u001b[0;34m)\u001b[0m\u001b[0;34m,\u001b[0m \u001b[0mfields\u001b[0m\u001b[0;34m=\u001b[0m\u001b[0;34m(\u001b[0m\u001b[0;34m'abstract'\u001b[0m\u001b[0;34m,\u001b[0m\u001b[0;34m)\u001b[0m\u001b[0;34m,\u001b[0m \u001b[0mreplace\u001b[0m\u001b[0;34m=\u001b[0m\u001b[0;32mFalse\u001b[0m\u001b[0;34m)\u001b[0m\u001b[0;34m\u001b[0m\u001b[0;34m\u001b[0m\u001b[0m\n\u001b[0m",
      "\u001b[0;32m~/.local/miniconda3/lib/python3.6/site-packages/onir_pt/__init__.py\u001b[0m in \u001b[0;36mindex\u001b[0;34m(self, docs_iter, fields, replace)\u001b[0m\n\u001b[1;32m    545\u001b[0m         \u001b[0;32massert\u001b[0m \u001b[0mself\u001b[0m\u001b[0;34m.\u001b[0m\u001b[0mindex_path\u001b[0m \u001b[0;32mis\u001b[0m \u001b[0;32mnot\u001b[0m \u001b[0;32mNone\u001b[0m\u001b[0;34m,\u001b[0m \u001b[0;34m\"you must supply index_path to run .index()\"\u001b[0m\u001b[0;34m\u001b[0m\u001b[0;34m\u001b[0m\u001b[0m\n\u001b[1;32m    546\u001b[0m         \u001b[0;32mif\u001b[0m \u001b[0;32mnot\u001b[0m \u001b[0mreplace\u001b[0m\u001b[0;34m:\u001b[0m\u001b[0;34m\u001b[0m\u001b[0;34m\u001b[0m\u001b[0m\n\u001b[0;32m--> 547\u001b[0;31m             \u001b[0;32massert\u001b[0m \u001b[0;32mnot\u001b[0m \u001b[0;34m(\u001b[0m\u001b[0mself\u001b[0m\u001b[0;34m.\u001b[0m\u001b[0mindex_path\u001b[0m \u001b[0;34m/\u001b[0m \u001b[0;34m'_built'\u001b[0m\u001b[0;34m)\u001b[0m\u001b[0;34m.\u001b[0m\u001b[0mexists\u001b[0m\u001b[0;34m(\u001b[0m\u001b[0;34m)\u001b[0m\u001b[0;34m,\u001b[0m \u001b[0;34m\"index already built (use replace=True to replace)\"\u001b[0m\u001b[0;34m\u001b[0m\u001b[0;34m\u001b[0m\u001b[0m\n\u001b[0m\u001b[1;32m    548\u001b[0m         \u001b[0;32melse\u001b[0m\u001b[0;34m:\u001b[0m\u001b[0;34m\u001b[0m\u001b[0;34m\u001b[0m\u001b[0m\n\u001b[1;32m    549\u001b[0m             \u001b[0;32mif\u001b[0m \u001b[0;34m(\u001b[0m\u001b[0mself\u001b[0m\u001b[0;34m.\u001b[0m\u001b[0mindex_path\u001b[0m \u001b[0;34m/\u001b[0m \u001b[0;34m'_built'\u001b[0m\u001b[0;34m)\u001b[0m\u001b[0;34m.\u001b[0m\u001b[0mexists\u001b[0m\u001b[0;34m(\u001b[0m\u001b[0;34m)\u001b[0m\u001b[0;34m:\u001b[0m\u001b[0;34m\u001b[0m\u001b[0;34m\u001b[0m\u001b[0m\n",
      "\u001b[0;31mAssertionError\u001b[0m: index already built (use replace=True to replace)"
     ]
    }
   ],
   "source": [
    "# Index the documents. This takes some time, but it will end up saving a lot for mean response time.\n",
    "indexed_epic.index(dataset.get_corpus_iter(), fields=('abstract',), replace=False)"
   ]
  },
  {
   "cell_type": "markdown",
   "metadata": {},
   "source": [
    "Now we can use the index to speed up the re-ranking:"
   ]
  },
  {
   "cell_type": "code",
   "execution_count": 10,
   "metadata": {},
   "outputs": [
    {
     "name": "stdout",
     "output_type": "stream",
     "text": [
      "[2021-03-19 07:38:04,977][onir_pt][INFO] This EPIC transformer shouldn't be used to calculate query latency. It computes query vectors batches (rather than individually), and doesn't do this work in parallel with first-stage retrieval. For thise operations, use the epic pipeline in OpenNIR. (This message is only shown once.)\n",
      "[2021-03-19 07:38:04,980][onir_pt][DEBUG] using GPU (deterministic)\n",
      "[2021-03-19 07:38:05,096][onir_pt][DEBUG] [starting] records\n"
     ]
    },
    {
     "data": {
      "application/vnd.jupyter.widget-view+json": {
       "model_id": "",
       "version_major": 2,
       "version_minor": 0
      },
      "text/plain": [
       "records:   0%|          | 0/1500 [15ms<?, ?it/s]"
      ]
     },
     "metadata": {},
     "output_type": "display_data"
    },
    {
     "name": "stderr",
     "output_type": "stream",
     "text": [
      "/home/sean/.local/miniconda3/lib/python3.6/site-packages/onir_pt/__init__.py:655: UserWarning: The given NumPy array is not writeable, and PyTorch does not support non-writeable tensors. This means you can write to the underlying (supposedly non-writeable) NumPy array using the tensor. You may want to copy the array to protect its data or make it writeable before converting it to a tensor. This type of warning will be suppressed for the rest of this program. (Triggered internally at  /opt/conda/conda-bld/pytorch_1607370116979/work/torch/csrc/utils/tensor_numpy.cpp:141.)\n",
      "  tids = torch.from_numpy(tids)\n"
     ]
    },
    {
     "name": "stdout",
     "output_type": "stream",
     "text": [
      "[2021-03-19 07:38:05,968][onir_pt][DEBUG] [finished] records: [869ms] [1500it] [1726.81it/s]\n"
     ]
    },
    {
     "data": {
      "text/html": [
       "<div>\n",
       "<style scoped>\n",
       "    .dataframe tbody tr th:only-of-type {\n",
       "        vertical-align: middle;\n",
       "    }\n",
       "\n",
       "    .dataframe tbody tr th {\n",
       "        vertical-align: top;\n",
       "    }\n",
       "\n",
       "    .dataframe thead th {\n",
       "        text-align: right;\n",
       "    }\n",
       "</style>\n",
       "<table border=\"1\" class=\"dataframe\">\n",
       "  <thead>\n",
       "    <tr style=\"text-align: right;\">\n",
       "      <th></th>\n",
       "      <th>name</th>\n",
       "      <th>recip_rank</th>\n",
       "      <th>P_5</th>\n",
       "      <th>mrt</th>\n",
       "    </tr>\n",
       "  </thead>\n",
       "  <tbody>\n",
       "    <tr>\n",
       "      <th>0</th>\n",
       "      <td>DPH</td>\n",
       "      <td>0.766833</td>\n",
       "      <td>0.684</td>\n",
       "      <td>30.500175</td>\n",
       "    </tr>\n",
       "    <tr>\n",
       "      <th>1</th>\n",
       "      <td>DPH &gt;&gt; EPIC (indexed)</td>\n",
       "      <td>0.821500</td>\n",
       "      <td>0.700</td>\n",
       "      <td>53.264584</td>\n",
       "    </tr>\n",
       "  </tbody>\n",
       "</table>\n",
       "</div>"
      ],
      "text/plain": [
       "                    name  recip_rank    P_5        mrt\n",
       "0                    DPH    0.766833  0.684  30.500175\n",
       "1  DPH >> EPIC (indexed)    0.821500  0.700  53.264584"
      ]
     },
     "execution_count": 10,
     "metadata": {},
     "output_type": "execute_result"
    }
   ],
   "source": [
    "pipeline = br >> indexed_epic.reranker()\n",
    "pt.Experiment(\n",
    "    [br, pipeline],\n",
    "    dataset.get_topics('title'),\n",
    "    dataset.get_qrels(),\n",
    "    names=[\"DPH\", \"DPH >> EPIC (indexed)\"],\n",
    "    eval_metrics=[\"recip_rank\", \"P.5\", \"mrt\"]\n",
    ")"
   ]
  },
  {
   "cell_type": "markdown",
   "metadata": {},
   "source": [
    "That was much faster -- 721ms faster than the lazy version! And it's only 15ms slower than DPH (which it uses as a first-stage ranker).\n",
    "\n",
    "There is a slight change in effectiveness. This is because document vectors are pruned when indexed.\n",
    "\n",
    "Also notice how the indexed re-ranker does not need the document text anymore; that also saves some time."
   ]
  },
  {
   "cell_type": "code",
   "execution_count": null,
   "metadata": {},
   "outputs": [],
   "source": []
  }
 ],
 "metadata": {
  "kernelspec": {
   "display_name": "Python 3",
   "language": "python",
   "name": "python3"
  },
  "language_info": {
   "codemirror_mode": {
    "name": "ipython",
    "version": 3
   },
   "file_extension": ".py",
   "mimetype": "text/x-python",
   "name": "python",
   "nbconvert_exporter": "python",
   "pygments_lexer": "ipython3",
   "version": "3.6.12"
  }
 },
 "nbformat": 4,
 "nbformat_minor": 2
}
