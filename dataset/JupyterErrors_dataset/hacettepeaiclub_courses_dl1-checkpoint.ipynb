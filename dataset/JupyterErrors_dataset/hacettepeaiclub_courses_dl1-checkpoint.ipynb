{
 "cells": [
  {
   "cell_type": "markdown",
   "metadata": {},
   "source": [
    "# Derin Öğrenmeye Giriş\n",
    "### İçerik\n",
    "1. Derin Öğrenme Nedir?\n",
    "2. Neden derin öğrenme?\n",
    "3. Online Demo\n",
    "4. Uygulama !!! :)\n"
   ]
  },
  {
   "cell_type": "markdown",
   "metadata": {},
   "source": [
    "### Derin Öğrenme Nedir?\n",
    "\n",
    "<img style=\"width: 70%;height: 50%;\" src=\"images/history.png\" />\n",
    "\n",
    "##### Nasıl bir yapıya sahip? Yapay Sinir ağları ve Derin Öğrenme\n",
    "\n",
    "<img style=\"width: 80%;height: 60%;\" src=\"images/struc.png\" />\n",
    "\n",
    "<br>\n",
    "<br>\n",
    "<br>\n",
    "\n",
    "##### Katman Türleri:\n",
    "1. Convolutional Layer : Öğrenilebilen parametrelerdir. Genelde 3x3x3, 5x5x3 gibi matrislerdir.\n",
    "2. Pooling Layer: Girdi boyutunu küçülmemize yarayan katmandır. (Hesaplama maliyetini azaltmak için)\n",
    "3. Fully-Connected Layer: Mimarinin karar yapısı\n",
    "\n",
    "<img style=\"width: 70%;height: 50%;\" src=\"images/convnet.jpeg\" />\n",
    "<p style=\"text-align:center;font:10p\">*http://cs231n.github.io/convolutional-networks/</p>\n"
   ]
  },
  {
   "cell_type": "markdown",
   "metadata": {},
   "source": [
    "### Neden Derin Öğrenme?\n",
    "\n",
    "\n",
    "##### Aslında ne öğreniyoruz?\n",
    "<img style=\"width: 70%;height: 50%;\" src=\"images/feat.png\"/>\n",
    "<p style=\"text-align:center;font:10p\">*https://medium.com/machine-learning-for-humans/neural-networks-deep-learning-cdad8aeae49b</p>\n",
    "\n"
   ]
  },
  {
   "cell_type": "markdown",
   "metadata": {},
   "source": [
    "### Online Demo\n",
    "\n",
    "\n",
    "<img style=\"width: 70%;height: 50%;\" src=\"images/demo.png\"/>\n",
    "<p style=\"text-align:center;font:10p\">*https://cs.stanford.edu/people/karpathy/convnetjs/demo/cifar10.html</p>\n"
   ]
  },
  {
   "cell_type": "code",
   "execution_count": 11,
   "metadata": {},
   "outputs": [
    {
     "name": "stdout",
     "output_type": "stream",
     "text": [
      "Solving environment: / "
     ]
    }
   ],
   "source": [
    "# We are using pytorch v0.4\n",
    "!conda install pytorch==0.4.0 cpuonly -c pytorch"
   ]
  },
  {
   "cell_type": "code",
   "execution_count": 2,
   "metadata": {
    "colab": {},
    "colab_type": "code",
    "id": "8LLaJCoan-4O"
   },
   "outputs": [],
   "source": [
    "import torch\n",
    "import torchvision\n",
    "import torchvision.transforms as transforms\n",
    "import matplotlib.pyplot as plt\n",
    "import numpy as np"
   ]
  },
  {
   "cell_type": "code",
   "execution_count": 4,
   "metadata": {
    "colab": {
     "base_uri": "https://localhost:8080/",
     "height": 350
    },
    "colab_type": "code",
    "id": "eU7pzHbGoLrE",
    "outputId": "424db4d6-678d-47e4-98ac-5fc0e5c23da7"
   },
   "outputs": [
    {
     "name": "stdout",
     "output_type": "stream",
     "text": [
      "1.1.0\n"
     ]
    }
   ],
   "source": [
    "# =========== Veri kümesini yükleme ===========\n",
    "# torchvision kütüphanesi bize birçok veri kümesini hazır bir şekilde sağlar. \n",
    "# DOC: https://pytorch.org/docs/stable/torchvision/datasets.html\n",
    "print(torch.__version__)\n",
    "# \n",
    "transform = transforms.Compose([transforms.ToTensor()]) \n",
    "\n",
    "# Veri kümesinin yüklenmesi\n",
    "trainset = torchvision.datasets.MNIST(root='./data/MNIST', train=True, download=True, transform=transform)\n",
    "\n",
    "\n",
    "# Veri kümesinin hazır hale getirilmesi (batch'lere ayrılması)\n",
    "trainloader = torch.utils.data.DataLoader(trainset, batch_size=4)\n",
    "\n",
    "\n",
    "\n",
    "sample = next(iter(trainset))\n",
    "\n",
    "\n",
    "image, label = sample\n"
   ]
  },
  {
   "cell_type": "code",
   "execution_count": 5,
   "metadata": {
    "colab": {
     "base_uri": "https://localhost:8080/",
     "height": 54
    },
    "colab_type": "code",
    "id": "kxw8LfLkqFDD",
    "outputId": "4726599f-7bcb-46da-ebd6-daa518f1d572"
   },
   "outputs": [
    {
     "name": "stdout",
     "output_type": "stream",
     "text": [
      "torch.Size([1, 28, 28])\n",
      "tensor(5)\n"
     ]
    }
   ],
   "source": [
    "print(image.shape)\n",
    "print(label)"
   ]
  },
  {
   "cell_type": "code",
   "execution_count": 6,
   "metadata": {
    "colab": {
     "base_uri": "https://localhost:8080/",
     "height": 380
    },
    "colab_type": "code",
    "id": "OxP4Wigxyodx",
    "outputId": "b5cc470a-7d84-44f1-d576-f34cd4507fc8"
   },
   "outputs": [
    {
     "data": {
      "text/plain": [
       "Text(0.5,1,'Label: 5')"
      ]
     },
     "execution_count": 6,
     "metadata": {},
     "output_type": "execute_result"
    },
    {
     "data": {
      "image/png": "[encoded data removed]",
      "text/plain": [
       "<Figure size 432x288 with 1 Axes>"
      ]
     },
     "metadata": {},
     "output_type": "display_data"
    }
   ],
   "source": [
    "plt.imshow(image.squeeze(), cmap='gray')\n",
    "plt.title('Label: {}'.format(label))"
   ]
  },
  {
   "cell_type": "code",
   "execution_count": 7,
   "metadata": {
    "colab": {
     "base_uri": "https://localhost:8080/",
     "height": 54
    },
    "colab_type": "code",
    "id": "HKwvJgtkyqTj",
    "outputId": "c8eedc69-661e-4dbe-95eb-49b26ce58ade"
   },
   "outputs": [
    {
     "name": "stdout",
     "output_type": "stream",
     "text": [
      "torch.Size([4, 1, 28, 28])\n",
      "torch.Size([4])\n"
     ]
    }
   ],
   "source": [
    "# Batch \n",
    "\n",
    "batch = next(iter(trainloader))\n",
    "len(batch)\n",
    "type(batch)\n",
    "\n",
    "images, labels = batch\n",
    "\n",
    "print(images.shape)\n",
    "print(labels.shape)"
   ]
  },
  {
   "cell_type": "code",
   "execution_count": 8,
   "metadata": {
    "colab": {
     "base_uri": "https://localhost:8080/",
     "height": 300
    },
    "colab_type": "code",
    "id": "yZQ8pMvVzHq2",
    "outputId": "d3d4655a-e9fc-4d78-ac5b-b4305b5fc59d"
   },
   "outputs": [
    {
     "data": {
      "text/plain": [
       "Text(0.5,1,'5 - 0 - 4 - 1')"
      ]
     },
     "execution_count": 8,
     "metadata": {},
     "output_type": "execute_result"
    },
    {
     "data": {
      "image/png": "[encoded data removed]",
      "text/plain": [
       "<Figure size 1080x1080 with 1 Axes>"
      ]
     },
     "metadata": {},
     "output_type": "display_data"
    }
   ],
   "source": [
    "grid = torchvision.utils.make_grid(images, nrow=10)\n",
    "\n",
    "plt.figure(figsize=(15,15))\n",
    "plt.imshow(np.transpose(grid, (1,2,0)))\n",
    "\n",
    "plt.title(' - '.join([str(i.item()) for i in labels]))\n"
   ]
  },
  {
   "cell_type": "code",
   "execution_count": 9,
   "metadata": {
    "colab": {},
    "colab_type": "code",
    "id": "Am-OQHAkz6DI"
   },
   "outputs": [],
   "source": [
    "\n",
    "## CNN (Convolutional Neural Networks) Modelinin Oluşturulması \n",
    "\n",
    "import torch.nn as nn\n",
    "import torch.nn.functional as F\n",
    "\n",
    "\n",
    "class Net(nn.Module):\n",
    "  def __init__(self):\n",
    "    super(Net, self).__init__()    \n",
    "    \n",
    "    # Convolutional Layer\n",
    "    # conv2d(in channel, out channel, kernel size)\n",
    "    self.conv1 = nn.Conv2d(1,6,5)\n",
    "       \n",
    "    \n",
    "    # Pooling Layer\n",
    "    # MaxPool2d(kernel size)\n",
    "    self.pool = nn.MaxPool2d(2,2)\n",
    "    \n",
    "    \n",
    "    # Convolutional Layer\n",
    "    self.conv2 = nn.Conv2d(6,16,5)\n",
    "    \n",
    "    \n",
    "    # Fully-Connected Layers\n",
    "    self.fc1 = nn.Linear(16*16, 120)\n",
    "    self.fc2 = nn.Linear(120, 84)\n",
    "    self.fc3 = nn.Linear(84, 10)\n",
    "    \n",
    "    \n",
    "  def forward(self, x):   \n",
    "    x = self.conv1(x)    \n",
    "    x = F.relu(x)    \n",
    "    x = self.pool(x)\n",
    "    \n",
    "    x = self.conv2(x)\n",
    "    x = F.relu(x)\n",
    "    x = self.pool(x)\n",
    "    \n",
    "    x = x.view(-1, 16*16)\n",
    "    \n",
    "    x = self.fc1(x)\n",
    "    x = F.relu(x)\n",
    "    x = self.fc2(x)\n",
    "    x = F.relu(x)\n",
    "    x = self.fc3(x)\n",
    "    \n",
    "    return x\n",
    "\n",
    "  \n",
    "net = Net()\n"
   ]
  },
  {
   "cell_type": "code",
   "execution_count": 10,
   "metadata": {
    "colab": {},
    "colab_type": "code",
    "id": "PDBGB7z64ujb"
   },
   "outputs": [],
   "source": [
    "## Loss Fonksiyonu and Optimizer\n",
    "\n",
    "import torch.optim as optim\n",
    "\n",
    "\n",
    "criterion = nn.CrossEntropyLoss()\n",
    "optimizer = optim.SGD(net.parameters(), lr=0.001) # lr: learning rate\n"
   ]
  },
  {
   "cell_type": "code",
   "execution_count": 11,
   "metadata": {
    "colab": {
     "base_uri": "https://localhost:8080/",
     "height": 294
    },
    "colab_type": "code",
    "id": "-v1PpM0l5FBg",
    "outputId": "0f43fd77-4fe4-4678-f786-3156ff8d4399"
   },
   "outputs": [
    {
     "name": "stdout",
     "output_type": "stream",
     "text": [
      "[1,  2000] loss: 2.304\n",
      "[1,  4000] loss: 2.299\n",
      "[1,  6000] loss: 2.293\n",
      "[1,  8000] loss: 2.281\n",
      "[1, 10000] loss: 2.245\n",
      "[1, 12000] loss: 1.915\n",
      "[1, 14000] loss: 0.792\n",
      "[2,  2000] loss: 0.434\n",
      "[2,  4000] loss: 0.390\n",
      "[2,  6000] loss: 0.311\n",
      "[2,  8000] loss: 0.304\n",
      "[2, 10000] loss: 0.254\n",
      "[2, 12000] loss: 0.249\n",
      "[2, 14000] loss: 0.225\n",
      "Finished Training\n"
     ]
    }
   ],
   "source": [
    "for epoch in range(2):  # loop over the dataset multiple times\n",
    "\n",
    "    running_loss = 0.0\n",
    "    for i, data in enumerate(trainloader, 0):\n",
    "        # get the inputs\n",
    "        inputs, labels = data\n",
    "\n",
    "        # zero the parameter gradients\n",
    "        optimizer.zero_grad()\n",
    "\n",
    "        # forward + backward + optimize\n",
    "        outputs = net(inputs)\n",
    "        loss = criterion(outputs, labels)\n",
    "        \n",
    "        loss.backward()\n",
    "        optimizer.step()\n",
    "\n",
    "        # print statistics\n",
    "        running_loss += loss.item()\n",
    "        if i % 2000 == 1999:    # print every 2000 mini-batches\n",
    "            print('[%d, %5d] loss: %.3f' %\n",
    "                  (epoch + 1, i + 1, running_loss / 2000))\n",
    "            running_loss = 0.0\n",
    "            \n",
    "            \n",
    "\n",
    "print('Finished Training')"
   ]
  },
  {
   "cell_type": "code",
   "execution_count": 22,
   "metadata": {
    "colab": {},
    "colab_type": "code",
    "id": "MWAUpAAo5O61"
   },
   "outputs": [],
   "source": [
    "## Testing\n",
    "\n",
    "testset = torchvision.datasets.MNIST(root='./data/MNIST', train=False,\n",
    "                                       download=True, transform=transform)\n",
    "testloader = torch.utils.data.DataLoader(testset, batch_size=4,\n",
    "                                         shuffle=False)\n",
    "\n"
   ]
  },
  {
   "cell_type": "code",
   "execution_count": 24,
   "metadata": {
    "colab": {
     "base_uri": "https://localhost:8080/",
     "height": 35
    },
    "colab_type": "code",
    "id": "hDX3gQEb9YHi",
    "outputId": "215f3e5b-cb5c-4157-d695-0e7205d0579c"
   },
   "outputs": [
    {
     "ename": "AttributeError",
     "evalue": "'MNIST' object has no attribute 'classes'",
     "output_type": "error",
     "traceback": [
      "\u001b[0;31m---------------------------------------------------------------------------\u001b[0m",
      "\u001b[0;31mAttributeError\u001b[0m                            Traceback (most recent call last)",
      "\u001b[0;32m<ipython-input-24-4db021d01fff>\u001b[0m in \u001b[0;36m<module>\u001b[0;34m()\u001b[0m\n\u001b[1;32m      4\u001b[0m \u001b[0;34m\u001b[0m\u001b[0m\n\u001b[1;32m      5\u001b[0m print('Predicted: ', ' '.join('%5s' % testloader.dataset.classes[predicted[j]]\n\u001b[0;32m----> 6\u001b[0;31m                               for j in range(4)))\n\u001b[0m",
      "\u001b[0;32m<ipython-input-24-4db021d01fff>\u001b[0m in \u001b[0;36m<genexpr>\u001b[0;34m(.0)\u001b[0m\n\u001b[1;32m      4\u001b[0m \u001b[0;34m\u001b[0m\u001b[0m\n\u001b[1;32m      5\u001b[0m print('Predicted: ', ' '.join('%5s' % testloader.dataset.classes[predicted[j]]\n\u001b[0;32m----> 6\u001b[0;31m                               for j in range(4)))\n\u001b[0m",
      "\u001b[0;31mAttributeError\u001b[0m: 'MNIST' object has no attribute 'classes'"
     ]
    }
   ],
   "source": [
    "outputs = net(images)\n",
    "\n",
    "_, predicted = torch.max(outputs, 1)\n",
    "\n",
    "print('Predicted: ', ' '.join('%5s' % testset.classes[predicted[j]]\n",
    "                              for j in range(4)))"
   ]
  },
  {
   "cell_type": "code",
   "execution_count": null,
   "metadata": {
    "colab": {},
    "colab_type": "code",
    "id": "j_mF7meeHBY7"
   },
   "outputs": [],
   "source": []
  },
  {
   "cell_type": "code",
   "execution_count": null,
   "metadata": {
    "colab": {
     "base_uri": "https://localhost:8080/",
     "height": 35
    },
    "colab_type": "code",
    "id": "lNLLkWie91lb",
    "outputId": "3291a62e-b123-487f-a1f1-d2c93d8e0e0c"
   },
   "outputs": [],
   "source": [
    "correct = 0\n",
    "total = 0\n",
    "with torch.no_grad():\n",
    "    for data in testloader:\n",
    "        images, labels = data\n",
    "        outputs = net(images)\n",
    "        _, predicted = torch.max(outputs.data, 1)\n",
    "        total += labels.size(0)\n",
    "        correct += (predicted == labels).sum().item()\n",
    "\n",
    "print('Accuracy of the network on the 10000 test images: %d %%' % (\n",
    "    100 * correct / total))"
   ]
  },
  {
   "cell_type": "code",
   "execution_count": 0,
   "metadata": {
    "colab": {},
    "colab_type": "code",
    "id": "nfVok-EE97BJ"
   },
   "outputs": [],
   "source": []
  },
  {
   "cell_type": "code",
   "execution_count": 0,
   "metadata": {
    "colab": {},
    "colab_type": "code",
    "id": "eEgmvGeIp8ps"
   },
   "outputs": [],
   "source": []
  },
  {
   "cell_type": "code",
   "execution_count": 0,
   "metadata": {
    "colab": {},
    "colab_type": "code",
    "id": "EvyB2gzH9_PJ"
   },
   "outputs": [],
   "source": []
  }
 ],
 "metadata": {
  "colab": {
   "collapsed_sections": [],
   "name": "dl1.ipynb",
   "provenance": [],
   "version": "0.3.2"
  },
  "kernelspec": {
   "display_name": "Python 3",
   "language": "python",
   "name": "python3"
  },
  "language_info": {
   "codemirror_mode": {
    "name": "ipython",
    "version": 3
   },
   "file_extension": ".py",
   "mimetype": "text/x-python",
   "name": "python",
   "nbconvert_exporter": "python",
   "pygments_lexer": "ipython3",
   "version": "3.6.9"
  }
 },
 "nbformat": 4,
 "nbformat_minor": 1
}
