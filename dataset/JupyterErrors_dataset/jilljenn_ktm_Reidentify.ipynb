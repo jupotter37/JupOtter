{
 "cells": [
  {
   "cell_type": "code",
   "execution_count": 4,
   "id": "dc53c67e",
   "metadata": {},
   "outputs": [],
   "source": [
    "import pandas as pd\n",
    "\n",
    "df = pd.read_csv('../data/assistments09/data.csv')"
   ]
  },
  {
   "cell_type": "code",
   "execution_count": 22,
   "id": "ea5e1dde",
   "metadata": {},
   "outputs": [],
   "source": [
    "original_info = df.groupby('skill').agg({'correct': ['mean', 'count']})"
   ]
  },
  {
   "cell_type": "code",
   "execution_count": 40,
   "id": "61c035c7",
   "metadata": {},
   "outputs": [],
   "source": [
    "original_info['skill_id'] = range(len(original_info))"
   ]
  },
  {
   "cell_type": "code",
   "execution_count": 35,
   "id": "36a7eda7",
   "metadata": {},
   "outputs": [],
   "source": [
    "original_info.columns = [\"_\".join(a) for a in original_info.columns.to_flat_index()]"
   ]
  },
  {
   "cell_type": "code",
   "execution_count": 45,
   "id": "8045dcf6",
   "metadata": {},
   "outputs": [],
   "source": [
    "original_info = original_info.reset_index().set_index('skill_id')"
   ]
  },
  {
   "cell_type": "code",
   "execution_count": 299,
   "id": "157fa570",
   "metadata": {},
   "outputs": [
    {
     "data": {
      "text/plain": [
       "<AxesSubplot:xlabel='skill'>"
      ]
     },
     "execution_count": 299,
     "metadata": {},
     "output_type": "execute_result"
    },
    {
     "data": {
      "image/png": "[encoded data removed]",
      "text/plain": [
       "<Figure size 432x288 with 1 Axes>"
      ]
     },
     "metadata": {
      "needs_background": "light"
     },
     "output_type": "display_data"
    }
   ],
   "source": [
    "# df.groupby('user_id').agg({'correct': 'count'}).hist()\n",
    "df.groupby('skill').agg({'correct': 'count'}).plot.bar()"
   ]
  },
  {
   "cell_type": "code",
   "execution_count": 298,
   "id": "f7ae444c",
   "metadata": {},
   "outputs": [
    {
     "data": {
      "text/plain": [
       "<AxesSubplot:xlabel='skill'>"
      ]
     },
     "execution_count": 298,
     "metadata": {},
     "output_type": "execute_result"
    },
    {
     "data": {
      "image/png": "[encoded data removed]",
      "text/plain": [
       "<Figure size 432x288 with 1 Axes>"
      ]
     },
     "metadata": {
      "needs_background": "light"
     },
     "output_type": "display_data"
    }
   ],
   "source": [
    "df_gen.groupby('skill').agg({'correct': 'count'}).plot.bar()"
   ]
  },
  {
   "cell_type": "code",
   "execution_count": 276,
   "id": "d4726297",
   "metadata": {},
   "outputs": [],
   "source": [
    "gen_info = df_gen.groupby('skill').agg({'correct': ['mean', 'count']})"
   ]
  },
  {
   "cell_type": "code",
   "execution_count": 279,
   "id": "2e414a4d",
   "metadata": {},
   "outputs": [
    {
     "data": {
      "text/plain": [
       "array([[<AxesSubplot:title={'center':'correct'}>]], dtype=object)"
      ]
     },
     "execution_count": 279,
     "metadata": {},
     "output_type": "execute_result"
    },
    {
     "data": {
      "image/png": "[encoded data removed]",
      "text/plain": [
       "<Figure size 432x288 with 1 Axes>"
      ]
     },
     "metadata": {
      "needs_background": "light"
     },
     "output_type": "display_data"
    }
   ],
   "source": [
    "df_gen.groupby('user').agg({'correct': 'count'}).hist()"
   ]
  },
  {
   "cell_type": "code",
   "execution_count": 47,
   "id": "770afbc7",
   "metadata": {},
   "outputs": [
    {
     "data": {
      "text/plain": [
       "user        4163\n",
       "item       17716\n",
       "skill        112\n",
       "correct        2\n",
       "wins         103\n",
       "fails        143\n",
       "dtype: int64"
      ]
     },
     "execution_count": 47,
     "metadata": {},
     "output_type": "execute_result"
    }
   ],
   "source": [
    "df.nunique()"
   ]
  },
  {
   "cell_type": "code",
   "execution_count": 147,
   "id": "ccf9c538",
   "metadata": {},
   "outputs": [
    {
     "data": {
      "text/plain": [
       "(user        0\n",
       " item       83\n",
       " skill       1\n",
       " correct     0\n",
       " wins        0\n",
       " fails       0\n",
       " dtype: int64,\n",
       " user         4162\n",
       " item       196456\n",
       " skill         123\n",
       " correct         1\n",
       " wins          102\n",
       " fails         142\n",
       " dtype: int64)"
      ]
     },
     "execution_count": 147,
     "metadata": {},
     "output_type": "execute_result"
    }
   ],
   "source": [
    "df.min(), df.max()"
   ]
  },
  {
   "cell_type": "code",
   "execution_count": 150,
   "id": "8ad2ffd4",
   "metadata": {},
   "outputs": [
    {
     "data": {
      "text/plain": [
       "count    4163.000000\n",
       "mean       66.924574\n",
       "std       129.860127\n",
       "min         1.000000\n",
       "25%         8.000000\n",
       "50%        20.000000\n",
       "75%        60.000000\n",
       "max      1021.000000\n",
       "Name: item, dtype: float64"
      ]
     },
     "execution_count": 150,
     "metadata": {},
     "output_type": "execute_result"
    }
   ],
   "source": [
    "df.groupby('user').agg('count')['item'].describe()"
   ]
  },
  {
   "cell_type": "code",
   "execution_count": 19,
   "id": "69ce94ce",
   "metadata": {},
   "outputs": [],
   "source": [
    "df.groupby('user').agg({'skill': lambda l: ' '.join(map(str, l))}).to_csv('~/code/markov.py/demo/assist09.txt', index=None, header=None)"
   ]
  },
  {
   "cell_type": "code",
   "execution_count": 151,
   "id": "f84e87bb",
   "metadata": {},
   "outputs": [],
   "source": [
    "with open('/home/jj/code/markov.py/generated09.txt') as f:\n",
    "    lines = f.read().splitlines()"
   ]
  },
  {
   "cell_type": "code",
   "execution_count": 1,
   "id": "c917e802",
   "metadata": {},
   "outputs": [],
   "source": [
    "with open('/home/jj/Téléchargements/fake09aku.txt') as f:\n",
    "    lines = f.read().splitlines()"
   ]
  },
  {
   "cell_type": "code",
   "execution_count": 2,
   "id": "d21e4cdb",
   "metadata": {},
   "outputs": [],
   "source": [
    "pairs = []\n",
    "for i, line in enumerate(lines):\n",
    "    tokens = line.split()\n",
    "    pairs.extend(zip([i] * len(tokens), tokens))\n",
    "# .to_csv('generated09.csv')"
   ]
  },
  {
   "cell_type": "code",
   "execution_count": 8,
   "id": "7cd16aa4",
   "metadata": {},
   "outputs": [
    {
     "data": {
      "text/plain": [
       "(user        4163\n",
       " skill_id     110\n",
       " dtype: int64,\n",
       " user        4162\n",
       " skill_id     111\n",
       " dtype: int64,\n",
       " user        0\n",
       " skill_id    0\n",
       " dtype: object)"
      ]
     },
     "execution_count": 8,
     "metadata": {},
     "output_type": "execute_result"
    }
   ],
   "source": [
    "df_gen = pd.DataFrame(pairs, columns=('user', 'skill_id'))\n",
    "df_gen.nunique(), df_gen.astype(int).max(), df_gen.min()"
   ]
  },
  {
   "cell_type": "code",
   "execution_count": 43,
   "id": "94a921c6",
   "metadata": {},
   "outputs": [],
   "source": [
    "df_gen['skill_id'] = df_gen['skill_id'].astype(int)"
   ]
  },
  {
   "cell_type": "code",
   "execution_count": 20,
   "id": "d7ea1b8f",
   "metadata": {},
   "outputs": [
    {
     "data": {
      "text/plain": [
       "{97, 99}"
      ]
     },
     "execution_count": 20,
     "metadata": {},
     "output_type": "execute_result"
    }
   ],
   "source": [
    "set(range(111)) - set(df_gen['skill_id'].astype(int).unique())"
   ]
  },
  {
   "cell_type": "code",
   "execution_count": 44,
   "id": "e667c02a",
   "metadata": {},
   "outputs": [
    {
     "data": {
      "text/html": [
       "<div>\n",
       "<style scoped>\n",
       "    .dataframe tbody tr th:only-of-type {\n",
       "        vertical-align: middle;\n",
       "    }\n",
       "\n",
       "    .dataframe tbody tr th {\n",
       "        vertical-align: top;\n",
       "    }\n",
       "\n",
       "    .dataframe thead th {\n",
       "        text-align: right;\n",
       "    }\n",
       "</style>\n",
       "<table border=\"1\" class=\"dataframe\">\n",
       "  <thead>\n",
       "    <tr style=\"text-align: right;\">\n",
       "      <th></th>\n",
       "      <th>user</th>\n",
       "      <th>skill_id</th>\n",
       "      <th>correct_mean</th>\n",
       "      <th>correct_count</th>\n",
       "      <th>skill_id_</th>\n",
       "    </tr>\n",
       "  </thead>\n",
       "  <tbody>\n",
       "    <tr>\n",
       "      <th>0</th>\n",
       "      <td>0</td>\n",
       "      <td>89</td>\n",
       "      <td>0.677840</td>\n",
       "      <td>23926</td>\n",
       "      <td>89</td>\n",
       "    </tr>\n",
       "    <tr>\n",
       "      <th>1</th>\n",
       "      <td>0</td>\n",
       "      <td>89</td>\n",
       "      <td>0.677840</td>\n",
       "      <td>23926</td>\n",
       "      <td>89</td>\n",
       "    </tr>\n",
       "    <tr>\n",
       "      <th>2</th>\n",
       "      <td>0</td>\n",
       "      <td>89</td>\n",
       "      <td>0.677840</td>\n",
       "      <td>23926</td>\n",
       "      <td>89</td>\n",
       "    </tr>\n",
       "    <tr>\n",
       "      <th>3</th>\n",
       "      <td>0</td>\n",
       "      <td>89</td>\n",
       "      <td>0.677840</td>\n",
       "      <td>23926</td>\n",
       "      <td>89</td>\n",
       "    </tr>\n",
       "    <tr>\n",
       "      <th>4</th>\n",
       "      <td>0</td>\n",
       "      <td>89</td>\n",
       "      <td>0.677840</td>\n",
       "      <td>23926</td>\n",
       "      <td>89</td>\n",
       "    </tr>\n",
       "    <tr>\n",
       "      <th>...</th>\n",
       "      <td>...</td>\n",
       "      <td>...</td>\n",
       "      <td>...</td>\n",
       "      <td>...</td>\n",
       "      <td>...</td>\n",
       "    </tr>\n",
       "    <tr>\n",
       "      <th>164464</th>\n",
       "      <td>2777</td>\n",
       "      <td>111</td>\n",
       "      <td>0.644013</td>\n",
       "      <td>309</td>\n",
       "      <td>111</td>\n",
       "    </tr>\n",
       "    <tr>\n",
       "      <th>164465</th>\n",
       "      <td>3090</td>\n",
       "      <td>111</td>\n",
       "      <td>0.644013</td>\n",
       "      <td>309</td>\n",
       "      <td>111</td>\n",
       "    </tr>\n",
       "    <tr>\n",
       "      <th>164466</th>\n",
       "      <td>4108</td>\n",
       "      <td>111</td>\n",
       "      <td>0.644013</td>\n",
       "      <td>309</td>\n",
       "      <td>111</td>\n",
       "    </tr>\n",
       "    <tr>\n",
       "      <th>164467</th>\n",
       "      <td>4108</td>\n",
       "      <td>111</td>\n",
       "      <td>0.644013</td>\n",
       "      <td>309</td>\n",
       "      <td>111</td>\n",
       "    </tr>\n",
       "    <tr>\n",
       "      <th>164468</th>\n",
       "      <td>2985</td>\n",
       "      <td>103</td>\n",
       "      <td>0.571429</td>\n",
       "      <td>7</td>\n",
       "      <td>103</td>\n",
       "    </tr>\n",
       "  </tbody>\n",
       "</table>\n",
       "<p>164469 rows × 5 columns</p>\n",
       "</div>"
      ],
      "text/plain": [
       "        user  skill_id  correct_mean  correct_count  skill_id_\n",
       "0          0        89      0.677840          23926         89\n",
       "1          0        89      0.677840          23926         89\n",
       "2          0        89      0.677840          23926         89\n",
       "3          0        89      0.677840          23926         89\n",
       "4          0        89      0.677840          23926         89\n",
       "...      ...       ...           ...            ...        ...\n",
       "164464  2777       111      0.644013            309        111\n",
       "164465  3090       111      0.644013            309        111\n",
       "164466  4108       111      0.644013            309        111\n",
       "164467  4108       111      0.644013            309        111\n",
       "164468  2985       103      0.571429              7        103\n",
       "\n",
       "[164469 rows x 5 columns]"
      ]
     },
     "execution_count": 44,
     "metadata": {},
     "output_type": "execute_result"
    }
   ],
   "source": [
    "df_gen.merge(original_info, on='skill_id')"
   ]
  },
  {
   "cell_type": "code",
   "execution_count": 55,
   "id": "b0e5bb97",
   "metadata": {},
   "outputs": [],
   "source": [
    "import numpy as np\n",
    "\n",
    "coef = np.load('../data/assistments09/coef0.npy')"
   ]
  },
  {
   "cell_type": "code",
   "execution_count": 56,
   "id": "84b888dc",
   "metadata": {},
   "outputs": [
    {
     "data": {
      "text/plain": [
       "-1.6204751957713404"
      ]
     },
     "execution_count": 56,
     "metadata": {},
     "output_type": "execute_result"
    }
   ],
   "source": [
    "coef[0, -124 + 29]"
   ]
  },
  {
   "cell_type": "code",
   "execution_count": 57,
   "id": "8773920f",
   "metadata": {},
   "outputs": [],
   "source": [
    "from scipy.stats import norm"
   ]
  },
  {
   "cell_type": "code",
   "execution_count": 58,
   "id": "47f19c2d",
   "metadata": {},
   "outputs": [
    {
     "data": {
      "text/plain": [
       "[<matplotlib.lines.Line2D at 0x7fa8811d5b50>]"
      ]
     },
     "execution_count": 58,
     "metadata": {},
     "output_type": "execute_result"
    },
    {
     "data": {
      "image/png": "[encoded data removed]",
      "text/plain": [
       "<Figure size 432x288 with 1 Axes>"
      ]
     },
     "metadata": {
      "needs_background": "light"
     },
     "output_type": "display_data"
    }
   ],
   "source": [
    "import matplotlib.pyplot as plt\n",
    "\n",
    "x = np.linspace(-3, 2)\n",
    "values = coef[0, :-124].reshape(-1)\n",
    "plt.hist(values, density=True, bins=50)\n",
    "plt.plot(x, norm(values.mean(), values.std()).pdf(x))"
   ]
  },
  {
   "cell_type": "code",
   "execution_count": 59,
   "id": "7ca24292",
   "metadata": {},
   "outputs": [],
   "source": [
    "N_USERS = df_gen['user'].nunique()\n",
    "sampled_thetas = norm(values.mean(), values.std()).rvs(N_USERS)"
   ]
  },
  {
   "cell_type": "code",
   "execution_count": 60,
   "id": "02a0a944",
   "metadata": {},
   "outputs": [],
   "source": [
    "df_gen['theta'] = df_gen['user'].map(dict(zip(range(N_USERS), sampled_thetas)))\n",
    "df_gen['skill_diff'] = df_gen['skill'].astype(int).map(dict(zip(range(1000), coef[0, -124:].reshape(-1))))"
   ]
  },
  {
   "cell_type": "code",
   "execution_count": 52,
   "id": "6b520c6d",
   "metadata": {},
   "outputs": [],
   "source": [
    "df_gen = df_gen.merge(original_info, on='skill_id')"
   ]
  },
  {
   "cell_type": "code",
   "execution_count": 53,
   "id": "689d36ea",
   "metadata": {},
   "outputs": [
    {
     "data": {
      "text/html": [
       "<div>\n",
       "<style scoped>\n",
       "    .dataframe tbody tr th:only-of-type {\n",
       "        vertical-align: middle;\n",
       "    }\n",
       "\n",
       "    .dataframe tbody tr th {\n",
       "        vertical-align: top;\n",
       "    }\n",
       "\n",
       "    .dataframe thead th {\n",
       "        text-align: right;\n",
       "    }\n",
       "</style>\n",
       "<table border=\"1\" class=\"dataframe\">\n",
       "  <thead>\n",
       "    <tr style=\"text-align: right;\">\n",
       "      <th></th>\n",
       "      <th>user</th>\n",
       "      <th>skill_id</th>\n",
       "      <th>skill</th>\n",
       "      <th>correct_mean</th>\n",
       "      <th>correct_count</th>\n",
       "      <th>skill_id_</th>\n",
       "    </tr>\n",
       "  </thead>\n",
       "  <tbody>\n",
       "    <tr>\n",
       "      <th>0</th>\n",
       "      <td>0</td>\n",
       "      <td>89</td>\n",
       "      <td>99</td>\n",
       "      <td>0.67784</td>\n",
       "      <td>23926</td>\n",
       "      <td>89</td>\n",
       "    </tr>\n",
       "    <tr>\n",
       "      <th>1</th>\n",
       "      <td>0</td>\n",
       "      <td>89</td>\n",
       "      <td>99</td>\n",
       "      <td>0.67784</td>\n",
       "      <td>23926</td>\n",
       "      <td>89</td>\n",
       "    </tr>\n",
       "    <tr>\n",
       "      <th>2</th>\n",
       "      <td>0</td>\n",
       "      <td>89</td>\n",
       "      <td>99</td>\n",
       "      <td>0.67784</td>\n",
       "      <td>23926</td>\n",
       "      <td>89</td>\n",
       "    </tr>\n",
       "    <tr>\n",
       "      <th>3</th>\n",
       "      <td>0</td>\n",
       "      <td>89</td>\n",
       "      <td>99</td>\n",
       "      <td>0.67784</td>\n",
       "      <td>23926</td>\n",
       "      <td>89</td>\n",
       "    </tr>\n",
       "    <tr>\n",
       "      <th>4</th>\n",
       "      <td>0</td>\n",
       "      <td>89</td>\n",
       "      <td>99</td>\n",
       "      <td>0.67784</td>\n",
       "      <td>23926</td>\n",
       "      <td>89</td>\n",
       "    </tr>\n",
       "  </tbody>\n",
       "</table>\n",
       "</div>"
      ],
      "text/plain": [
       "   user  skill_id  skill  correct_mean  correct_count  skill_id_\n",
       "0     0        89     99       0.67784          23926         89\n",
       "1     0        89     99       0.67784          23926         89\n",
       "2     0        89     99       0.67784          23926         89\n",
       "3     0        89     99       0.67784          23926         89\n",
       "4     0        89     99       0.67784          23926         89"
      ]
     },
     "execution_count": 53,
     "metadata": {},
     "output_type": "execute_result"
    }
   ],
   "source": [
    "df_gen.head()"
   ]
  },
  {
   "cell_type": "code",
   "execution_count": 61,
   "id": "37aebc0f",
   "metadata": {},
   "outputs": [],
   "source": [
    "def sigmoid(x):\n",
    "    return 1 / (1 + np.exp(-x))\n",
    "\n",
    "df_gen['proba'] = df_gen.apply(lambda row: sigmoid(row['theta'] + row['skill_diff']), axis=1)"
   ]
  },
  {
   "cell_type": "code",
   "execution_count": 62,
   "id": "d52e4d1b",
   "metadata": {},
   "outputs": [
    {
     "data": {
      "text/html": [
       "<div>\n",
       "<style scoped>\n",
       "    .dataframe tbody tr th:only-of-type {\n",
       "        vertical-align: middle;\n",
       "    }\n",
       "\n",
       "    .dataframe tbody tr th {\n",
       "        vertical-align: top;\n",
       "    }\n",
       "\n",
       "    .dataframe thead th {\n",
       "        text-align: right;\n",
       "    }\n",
       "</style>\n",
       "<table border=\"1\" class=\"dataframe\">\n",
       "  <thead>\n",
       "    <tr style=\"text-align: right;\">\n",
       "      <th></th>\n",
       "      <th>user</th>\n",
       "      <th>skill_id</th>\n",
       "      <th>skill</th>\n",
       "      <th>correct_mean</th>\n",
       "      <th>correct_count</th>\n",
       "      <th>skill_id_</th>\n",
       "      <th>theta</th>\n",
       "      <th>skill_diff</th>\n",
       "      <th>proba</th>\n",
       "      <th>correct</th>\n",
       "    </tr>\n",
       "  </thead>\n",
       "  <tbody>\n",
       "    <tr>\n",
       "      <th>0</th>\n",
       "      <td>0</td>\n",
       "      <td>89</td>\n",
       "      <td>99</td>\n",
       "      <td>0.67784</td>\n",
       "      <td>23926</td>\n",
       "      <td>89</td>\n",
       "      <td>0.817083</td>\n",
       "      <td>0.163705</td>\n",
       "      <td>0.727265</td>\n",
       "      <td>1</td>\n",
       "    </tr>\n",
       "    <tr>\n",
       "      <th>1</th>\n",
       "      <td>0</td>\n",
       "      <td>89</td>\n",
       "      <td>99</td>\n",
       "      <td>0.67784</td>\n",
       "      <td>23926</td>\n",
       "      <td>89</td>\n",
       "      <td>0.817083</td>\n",
       "      <td>0.163705</td>\n",
       "      <td>0.727265</td>\n",
       "      <td>1</td>\n",
       "    </tr>\n",
       "    <tr>\n",
       "      <th>2</th>\n",
       "      <td>0</td>\n",
       "      <td>89</td>\n",
       "      <td>99</td>\n",
       "      <td>0.67784</td>\n",
       "      <td>23926</td>\n",
       "      <td>89</td>\n",
       "      <td>0.817083</td>\n",
       "      <td>0.163705</td>\n",
       "      <td>0.727265</td>\n",
       "      <td>0</td>\n",
       "    </tr>\n",
       "    <tr>\n",
       "      <th>3</th>\n",
       "      <td>0</td>\n",
       "      <td>89</td>\n",
       "      <td>99</td>\n",
       "      <td>0.67784</td>\n",
       "      <td>23926</td>\n",
       "      <td>89</td>\n",
       "      <td>0.817083</td>\n",
       "      <td>0.163705</td>\n",
       "      <td>0.727265</td>\n",
       "      <td>1</td>\n",
       "    </tr>\n",
       "    <tr>\n",
       "      <th>4</th>\n",
       "      <td>0</td>\n",
       "      <td>89</td>\n",
       "      <td>99</td>\n",
       "      <td>0.67784</td>\n",
       "      <td>23926</td>\n",
       "      <td>89</td>\n",
       "      <td>0.817083</td>\n",
       "      <td>0.163705</td>\n",
       "      <td>0.727265</td>\n",
       "      <td>1</td>\n",
       "    </tr>\n",
       "  </tbody>\n",
       "</table>\n",
       "</div>"
      ],
      "text/plain": [
       "   user  skill_id  skill  correct_mean  correct_count  skill_id_     theta  \\\n",
       "0     0        89     99       0.67784          23926         89  0.817083   \n",
       "1     0        89     99       0.67784          23926         89  0.817083   \n",
       "2     0        89     99       0.67784          23926         89  0.817083   \n",
       "3     0        89     99       0.67784          23926         89  0.817083   \n",
       "4     0        89     99       0.67784          23926         89  0.817083   \n",
       "\n",
       "   skill_diff     proba  correct  \n",
       "0    0.163705  0.727265        1  \n",
       "1    0.163705  0.727265        1  \n",
       "2    0.163705  0.727265        0  \n",
       "3    0.163705  0.727265        1  \n",
       "4    0.163705  0.727265        1  "
      ]
     },
     "execution_count": 62,
     "metadata": {},
     "output_type": "execute_result"
    }
   ],
   "source": [
    "df_gen['correct'] = (np.random.random(len(df_gen)) < df_gen['proba']).astype(int)\n",
    "df_gen.head()"
   ]
  },
  {
   "cell_type": "code",
   "execution_count": 63,
   "id": "650ef8f6",
   "metadata": {},
   "outputs": [],
   "source": [
    "# df_gen['skill'] = df_gen['skill'].astype(int)"
   ]
  },
  {
   "cell_type": "code",
   "execution_count": 64,
   "id": "28eaf4f0",
   "metadata": {},
   "outputs": [],
   "source": [
    "df_gen['item'] = 0\n",
    "df_gen['wins'] = 0\n",
    "df_gen['fails'] = 0"
   ]
  },
  {
   "cell_type": "code",
   "execution_count": 66,
   "id": "fab713c9",
   "metadata": {},
   "outputs": [],
   "source": [
    "df_gen.to_csv('../data/fake09aku/data.csv', index=False)"
   ]
  },
  {
   "cell_type": "code",
   "execution_count": 74,
   "id": "6badd9ea",
   "metadata": {},
   "outputs": [],
   "source": [
    "fake_coef = np.load('../data/fake09aku/coef0.npy')"
   ]
  },
  {
   "cell_type": "code",
   "execution_count": 75,
   "id": "7574e5b9",
   "metadata": {},
   "outputs": [
    {
     "data": {
      "text/plain": [
       "(1, 4287)"
      ]
     },
     "execution_count": 75,
     "metadata": {},
     "output_type": "execute_result"
    }
   ],
   "source": [
    "fake_coef.shape"
   ]
  },
  {
   "cell_type": "code",
   "execution_count": 76,
   "id": "783709eb",
   "metadata": {},
   "outputs": [],
   "source": [
    "N_SKILLS = 1 + df_gen['skill'].max()"
   ]
  },
  {
   "cell_type": "code",
   "execution_count": 77,
   "id": "b76c3f5b",
   "metadata": {},
   "outputs": [
    {
     "data": {
      "text/plain": [
       "124"
      ]
     },
     "execution_count": 77,
     "metadata": {},
     "output_type": "execute_result"
    }
   ],
   "source": [
    "N_SKILLS"
   ]
  },
  {
   "cell_type": "code",
   "execution_count": 79,
   "id": "14c9b7d2",
   "metadata": {},
   "outputs": [
    {
     "data": {
      "text/plain": [
       "0"
      ]
     },
     "execution_count": 79,
     "metadata": {},
     "output_type": "execute_result"
    }
   ],
   "source": [
    "len(fake_coef[0]) - (df_gen['user'].max() + 1) - N_SKILLS"
   ]
  },
  {
   "cell_type": "code",
   "execution_count": 80,
   "id": "b5f03e5a",
   "metadata": {},
   "outputs": [
    {
     "data": {
      "text/html": [
       "<div>\n",
       "<style scoped>\n",
       "    .dataframe tbody tr th:only-of-type {\n",
       "        vertical-align: middle;\n",
       "    }\n",
       "\n",
       "    .dataframe tbody tr th {\n",
       "        vertical-align: top;\n",
       "    }\n",
       "\n",
       "    .dataframe thead th {\n",
       "        text-align: right;\n",
       "    }\n",
       "</style>\n",
       "<table border=\"1\" class=\"dataframe\">\n",
       "  <thead>\n",
       "    <tr style=\"text-align: right;\">\n",
       "      <th></th>\n",
       "      <th>skill_fake_diff</th>\n",
       "    </tr>\n",
       "    <tr>\n",
       "      <th>skill</th>\n",
       "      <th></th>\n",
       "    </tr>\n",
       "  </thead>\n",
       "  <tbody>\n",
       "    <tr>\n",
       "      <th>0</th>\n",
       "      <td>0.000000</td>\n",
       "    </tr>\n",
       "    <tr>\n",
       "      <th>1</th>\n",
       "      <td>0.159329</td>\n",
       "    </tr>\n",
       "    <tr>\n",
       "      <th>2</th>\n",
       "      <td>-0.465701</td>\n",
       "    </tr>\n",
       "    <tr>\n",
       "      <th>3</th>\n",
       "      <td>-0.193882</td>\n",
       "    </tr>\n",
       "    <tr>\n",
       "      <th>4</th>\n",
       "      <td>-0.855070</td>\n",
       "    </tr>\n",
       "    <tr>\n",
       "      <th>...</th>\n",
       "      <td>...</td>\n",
       "    </tr>\n",
       "    <tr>\n",
       "      <th>119</th>\n",
       "      <td>0.045558</td>\n",
       "    </tr>\n",
       "    <tr>\n",
       "      <th>120</th>\n",
       "      <td>-0.558856</td>\n",
       "    </tr>\n",
       "    <tr>\n",
       "      <th>121</th>\n",
       "      <td>0.449885</td>\n",
       "    </tr>\n",
       "    <tr>\n",
       "      <th>122</th>\n",
       "      <td>0.000000</td>\n",
       "    </tr>\n",
       "    <tr>\n",
       "      <th>123</th>\n",
       "      <td>0.452887</td>\n",
       "    </tr>\n",
       "  </tbody>\n",
       "</table>\n",
       "<p>124 rows × 1 columns</p>\n",
       "</div>"
      ],
      "text/plain": [
       "       skill_fake_diff\n",
       "skill                 \n",
       "0             0.000000\n",
       "1             0.159329\n",
       "2            -0.465701\n",
       "3            -0.193882\n",
       "4            -0.855070\n",
       "...                ...\n",
       "119           0.045558\n",
       "120          -0.558856\n",
       "121           0.449885\n",
       "122           0.000000\n",
       "123           0.452887\n",
       "\n",
       "[124 rows x 1 columns]"
      ]
     },
     "execution_count": 80,
     "metadata": {},
     "output_type": "execute_result"
    }
   ],
   "source": [
    "fake_skill_diff = pd.DataFrame(range(N_SKILLS), columns=('skill',)).sort_values('skill')\n",
    "fake_skill_diff['skill_fake_diff'] = fake_coef[0, -N_SKILLS:]\n",
    "fake_skill_diff = fake_skill_diff.set_index('skill')\n",
    "fake_skill_diff"
   ]
  },
  {
   "cell_type": "code",
   "execution_count": 81,
   "id": "f96a1bb0",
   "metadata": {},
   "outputs": [],
   "source": [
    "new_df = df_gen.join(fake_skill_diff, on='skill')"
   ]
  },
  {
   "cell_type": "code",
   "execution_count": 82,
   "id": "64e12cbe",
   "metadata": {},
   "outputs": [
    {
     "data": {
      "text/plain": [
       "Text(0.5, 1.0, 'Errors in computing skill diff')"
      ]
     },
     "execution_count": 82,
     "metadata": {},
     "output_type": "execute_result"
    },
    {
     "data": {
      "image/png": "[encoded data removed]",
      "text/plain": [
       "<Figure size 432x288 with 1 Axes>"
      ]
     },
     "metadata": {
      "needs_background": "light"
     },
     "output_type": "display_data"
    }
   ],
   "source": [
    "(new_df['skill_diff'] - new_df['skill_fake_diff']).hist()\n",
    "plt.title('Errors in computing skill diff')"
   ]
  },
  {
   "cell_type": "code",
   "execution_count": 83,
   "id": "cdbcff36",
   "metadata": {
    "scrolled": true
   },
   "outputs": [
    {
     "data": {
      "text/plain": [
       "0.0925324349942949"
      ]
     },
     "execution_count": 83,
     "metadata": {},
     "output_type": "execute_result"
    }
   ],
   "source": [
    "np.sqrt(((new_df['skill_diff'] - new_df['skill_fake_diff']) ** 2).mean())"
   ]
  },
  {
   "cell_type": "code",
   "execution_count": 84,
   "id": "6db0c81d",
   "metadata": {},
   "outputs": [
    {
     "data": {
      "text/html": [
       "<div>\n",
       "<style scoped>\n",
       "    .dataframe tbody tr th:only-of-type {\n",
       "        vertical-align: middle;\n",
       "    }\n",
       "\n",
       "    .dataframe tbody tr th {\n",
       "        vertical-align: top;\n",
       "    }\n",
       "\n",
       "    .dataframe thead th {\n",
       "        text-align: right;\n",
       "    }\n",
       "</style>\n",
       "<table border=\"1\" class=\"dataframe\">\n",
       "  <thead>\n",
       "    <tr style=\"text-align: right;\">\n",
       "      <th></th>\n",
       "      <th>user</th>\n",
       "      <th>skill_id</th>\n",
       "      <th>skill</th>\n",
       "      <th>correct_mean</th>\n",
       "      <th>correct_count</th>\n",
       "      <th>skill_id_</th>\n",
       "      <th>theta</th>\n",
       "      <th>skill_diff</th>\n",
       "      <th>proba</th>\n",
       "      <th>correct</th>\n",
       "      <th>item</th>\n",
       "      <th>wins</th>\n",
       "      <th>fails</th>\n",
       "      <th>skill_fake_diff</th>\n",
       "    </tr>\n",
       "  </thead>\n",
       "  <tbody>\n",
       "    <tr>\n",
       "      <th>163827</th>\n",
       "      <td>2650</td>\n",
       "      <td>75</td>\n",
       "      <td>85</td>\n",
       "      <td>0.136150</td>\n",
       "      <td>426</td>\n",
       "      <td>75</td>\n",
       "      <td>0.376879</td>\n",
       "      <td>-2.524320</td>\n",
       "      <td>0.104571</td>\n",
       "      <td>0</td>\n",
       "      <td>0</td>\n",
       "      <td>0</td>\n",
       "      <td>0</td>\n",
       "      <td>-2.328047</td>\n",
       "    </tr>\n",
       "    <tr>\n",
       "      <th>164446</th>\n",
       "      <td>3605</td>\n",
       "      <td>104</td>\n",
       "      <td>115</td>\n",
       "      <td>0.180180</td>\n",
       "      <td>222</td>\n",
       "      <td>104</td>\n",
       "      <td>-0.856924</td>\n",
       "      <td>-1.868429</td>\n",
       "      <td>0.061494</td>\n",
       "      <td>0</td>\n",
       "      <td>0</td>\n",
       "      <td>0</td>\n",
       "      <td>0</td>\n",
       "      <td>-1.321912</td>\n",
       "    </tr>\n",
       "    <tr>\n",
       "      <th>162532</th>\n",
       "      <td>4081</td>\n",
       "      <td>82</td>\n",
       "      <td>92</td>\n",
       "      <td>0.315682</td>\n",
       "      <td>491</td>\n",
       "      <td>82</td>\n",
       "      <td>0.082832</td>\n",
       "      <td>-1.769995</td>\n",
       "      <td>0.156149</td>\n",
       "      <td>0</td>\n",
       "      <td>0</td>\n",
       "      <td>0</td>\n",
       "      <td>0</td>\n",
       "      <td>-1.861461</td>\n",
       "    </tr>\n",
       "    <tr>\n",
       "      <th>164022</th>\n",
       "      <td>514</td>\n",
       "      <td>59</td>\n",
       "      <td>66</td>\n",
       "      <td>0.100000</td>\n",
       "      <td>10</td>\n",
       "      <td>59</td>\n",
       "      <td>-0.928070</td>\n",
       "      <td>-1.717558</td>\n",
       "      <td>0.066259</td>\n",
       "      <td>0</td>\n",
       "      <td>0</td>\n",
       "      <td>0</td>\n",
       "      <td>0</td>\n",
       "      <td>-0.932406</td>\n",
       "    </tr>\n",
       "    <tr>\n",
       "      <th>149604</th>\n",
       "      <td>2370</td>\n",
       "      <td>66</td>\n",
       "      <td>75</td>\n",
       "      <td>0.234043</td>\n",
       "      <td>47</td>\n",
       "      <td>66</td>\n",
       "      <td>0.256491</td>\n",
       "      <td>-1.701896</td>\n",
       "      <td>0.190710</td>\n",
       "      <td>0</td>\n",
       "      <td>0</td>\n",
       "      <td>0</td>\n",
       "      <td>0</td>\n",
       "      <td>-1.133366</td>\n",
       "    </tr>\n",
       "  </tbody>\n",
       "</table>\n",
       "</div>"
      ],
      "text/plain": [
       "        user  skill_id  skill  correct_mean  correct_count  skill_id_  \\\n",
       "163827  2650        75     85      0.136150            426         75   \n",
       "164446  3605       104    115      0.180180            222        104   \n",
       "162532  4081        82     92      0.315682            491         82   \n",
       "164022   514        59     66      0.100000             10         59   \n",
       "149604  2370        66     75      0.234043             47         66   \n",
       "\n",
       "           theta  skill_diff     proba  correct  item  wins  fails  \\\n",
       "163827  0.376879   -2.524320  0.104571        0     0     0      0   \n",
       "164446 -0.856924   -1.868429  0.061494        0     0     0      0   \n",
       "162532  0.082832   -1.769995  0.156149        0     0     0      0   \n",
       "164022 -0.928070   -1.717558  0.066259        0     0     0      0   \n",
       "149604  0.256491   -1.701896  0.190710        0     0     0      0   \n",
       "\n",
       "        skill_fake_diff  \n",
       "163827        -2.328047  \n",
       "164446        -1.321912  \n",
       "162532        -1.861461  \n",
       "164022        -0.932406  \n",
       "149604        -1.133366  "
      ]
     },
     "execution_count": 84,
     "metadata": {},
     "output_type": "execute_result"
    }
   ],
   "source": [
    "new_df.sort_values('skill_diff').drop_duplicates('skill').head()"
   ]
  },
  {
   "cell_type": "code",
   "execution_count": 85,
   "id": "f4ae482f",
   "metadata": {},
   "outputs": [
    {
     "data": {
      "text/html": [
       "<div>\n",
       "<style scoped>\n",
       "    .dataframe tbody tr th:only-of-type {\n",
       "        vertical-align: middle;\n",
       "    }\n",
       "\n",
       "    .dataframe tbody tr th {\n",
       "        vertical-align: top;\n",
       "    }\n",
       "\n",
       "    .dataframe thead th {\n",
       "        text-align: right;\n",
       "    }\n",
       "</style>\n",
       "<table border=\"1\" class=\"dataframe\">\n",
       "  <thead>\n",
       "    <tr style=\"text-align: right;\">\n",
       "      <th></th>\n",
       "      <th>user</th>\n",
       "      <th>skill_id</th>\n",
       "      <th>skill</th>\n",
       "      <th>correct_mean</th>\n",
       "      <th>correct_count</th>\n",
       "      <th>skill_id_</th>\n",
       "      <th>theta</th>\n",
       "      <th>skill_diff</th>\n",
       "      <th>proba</th>\n",
       "      <th>correct</th>\n",
       "      <th>item</th>\n",
       "      <th>wins</th>\n",
       "      <th>fails</th>\n",
       "      <th>skill_fake_diff</th>\n",
       "    </tr>\n",
       "  </thead>\n",
       "  <tbody>\n",
       "    <tr>\n",
       "      <th>163810</th>\n",
       "      <td>2267</td>\n",
       "      <td>75</td>\n",
       "      <td>85</td>\n",
       "      <td>0.136150</td>\n",
       "      <td>426</td>\n",
       "      <td>75</td>\n",
       "      <td>0.384225</td>\n",
       "      <td>-2.524320</td>\n",
       "      <td>0.105260</td>\n",
       "      <td>0</td>\n",
       "      <td>0</td>\n",
       "      <td>0</td>\n",
       "      <td>0</td>\n",
       "      <td>-2.328047</td>\n",
       "    </tr>\n",
       "    <tr>\n",
       "      <th>162496</th>\n",
       "      <td>1603</td>\n",
       "      <td>82</td>\n",
       "      <td>92</td>\n",
       "      <td>0.315682</td>\n",
       "      <td>491</td>\n",
       "      <td>82</td>\n",
       "      <td>-1.346859</td>\n",
       "      <td>-1.769995</td>\n",
       "      <td>0.042417</td>\n",
       "      <td>0</td>\n",
       "      <td>0</td>\n",
       "      <td>0</td>\n",
       "      <td>0</td>\n",
       "      <td>-1.861461</td>\n",
       "    </tr>\n",
       "    <tr>\n",
       "      <th>164003</th>\n",
       "      <td>413</td>\n",
       "      <td>67</td>\n",
       "      <td>76</td>\n",
       "      <td>0.333333</td>\n",
       "      <td>117</td>\n",
       "      <td>67</td>\n",
       "      <td>0.181438</td>\n",
       "      <td>-1.332741</td>\n",
       "      <td>0.240251</td>\n",
       "      <td>0</td>\n",
       "      <td>0</td>\n",
       "      <td>0</td>\n",
       "      <td>0</td>\n",
       "      <td>-1.657300</td>\n",
       "    </tr>\n",
       "    <tr>\n",
       "      <th>163880</th>\n",
       "      <td>2959</td>\n",
       "      <td>107</td>\n",
       "      <td>118</td>\n",
       "      <td>0.515152</td>\n",
       "      <td>33</td>\n",
       "      <td>107</td>\n",
       "      <td>-0.205082</td>\n",
       "      <td>-0.871771</td>\n",
       "      <td>0.254102</td>\n",
       "      <td>0</td>\n",
       "      <td>0</td>\n",
       "      <td>0</td>\n",
       "      <td>0</td>\n",
       "      <td>-1.434346</td>\n",
       "    </tr>\n",
       "    <tr>\n",
       "      <th>164431</th>\n",
       "      <td>1854</td>\n",
       "      <td>104</td>\n",
       "      <td>115</td>\n",
       "      <td>0.180180</td>\n",
       "      <td>222</td>\n",
       "      <td>104</td>\n",
       "      <td>-1.918728</td>\n",
       "      <td>-1.868429</td>\n",
       "      <td>0.022158</td>\n",
       "      <td>0</td>\n",
       "      <td>0</td>\n",
       "      <td>0</td>\n",
       "      <td>0</td>\n",
       "      <td>-1.321912</td>\n",
       "    </tr>\n",
       "  </tbody>\n",
       "</table>\n",
       "</div>"
      ],
      "text/plain": [
       "        user  skill_id  skill  correct_mean  correct_count  skill_id_  \\\n",
       "163810  2267        75     85      0.136150            426         75   \n",
       "162496  1603        82     92      0.315682            491         82   \n",
       "164003   413        67     76      0.333333            117         67   \n",
       "163880  2959       107    118      0.515152             33        107   \n",
       "164431  1854       104    115      0.180180            222        104   \n",
       "\n",
       "           theta  skill_diff     proba  correct  item  wins  fails  \\\n",
       "163810  0.384225   -2.524320  0.105260        0     0     0      0   \n",
       "162496 -1.346859   -1.769995  0.042417        0     0     0      0   \n",
       "164003  0.181438   -1.332741  0.240251        0     0     0      0   \n",
       "163880 -0.205082   -0.871771  0.254102        0     0     0      0   \n",
       "164431 -1.918728   -1.868429  0.022158        0     0     0      0   \n",
       "\n",
       "        skill_fake_diff  \n",
       "163810        -2.328047  \n",
       "162496        -1.861461  \n",
       "164003        -1.657300  \n",
       "163880        -1.434346  \n",
       "164431        -1.321912  "
      ]
     },
     "execution_count": 85,
     "metadata": {},
     "output_type": "execute_result"
    }
   ],
   "source": [
    "new_df.sort_values('skill_fake_diff').drop_duplicates('skill').head()"
   ]
  },
  {
   "cell_type": "code",
   "execution_count": null,
   "id": "f0bbc28e",
   "metadata": {},
   "outputs": [],
   "source": [
    "from collections import Counter\n",
    "\n",
    "Counter(df.groupby([\"item\", \"skill\"]).first().reset_index()['skill']).most_common()"
   ]
  },
  {
   "cell_type": "code",
   "execution_count": null,
   "id": "0421df8e",
   "metadata": {},
   "outputs": [],
   "source": [
    "import numpy as np\n",
    "\n",
    "coef = np.load('../data/assistments09/coef0.npy')"
   ]
  },
  {
   "cell_type": "code",
   "execution_count": null,
   "id": "26c5ac30",
   "metadata": {},
   "outputs": [],
   "source": [
    "coef.shape"
   ]
  },
  {
   "cell_type": "code",
   "execution_count": null,
   "id": "9dc17bc6",
   "metadata": {},
   "outputs": [],
   "source": [
    "coef[0, :4163].mean()"
   ]
  },
  {
   "cell_type": "code",
   "execution_count": null,
   "id": "8dff8ac0",
   "metadata": {},
   "outputs": [],
   "source": [
    "import matplotlib.pyplot as plt\n",
    "\n",
    "plt.hist(coef[0, :4163], bins=50)"
   ]
  },
  {
   "cell_type": "code",
   "execution_count": 235,
   "id": "b41e9905",
   "metadata": {},
   "outputs": [
    {
     "data": {
      "text/plain": [
       "(array([ 1.,  0.,  0.,  0.,  0.,  0.,  0.,  1.,  3.,  2.,  0.,  0.,  0.,\n",
       "         2.,  1.,  2.,  1.,  2.,  4.,  2.,  4.,  3.,  3.,  5.,  6.,  2.,\n",
       "         3., 18., 11.,  5.,  4.,  4.,  4.,  7.,  1.,  3.,  3.,  1.,  4.,\n",
       "         1.,  4.,  1.,  2.,  1.,  1.,  0.,  0.,  1.,  0.,  1.]),\n",
       " array([-2.52431972, -2.43277606, -2.34123239, -2.24968873, -2.15814506,\n",
       "        -2.0666014 , -1.97505773, -1.88351407, -1.7919704 , -1.70042674,\n",
       "        -1.60888307, -1.51733941, -1.42579574, -1.33425208, -1.24270841,\n",
       "        -1.15116475, -1.05962108, -0.96807742, -0.87653375, -0.78499009,\n",
       "        -0.69344642, -0.60190276, -0.51035909, -0.41881543, -0.32727176,\n",
       "        -0.2357281 , -0.14418443, -0.05264077,  0.0389029 ,  0.13044656,\n",
       "         0.22199023,  0.31353389,  0.40507756,  0.49662122,  0.58816489,\n",
       "         0.67970856,  0.77125222,  0.86279589,  0.95433955,  1.04588322,\n",
       "         1.13742688,  1.22897055,  1.32051421,  1.41205788,  1.50360154,\n",
       "         1.59514521,  1.68668887,  1.77823254,  1.8697762 ,  1.96131987,\n",
       "         2.05286353]),\n",
       " <BarContainer object of 50 artists>)"
      ]
     },
     "execution_count": 235,
     "metadata": {},
     "output_type": "execute_result"
    },
    {
     "data": {
      "image/png": "[encoded data removed]",
      "text/plain": [
       "<Figure size 432x288 with 1 Axes>"
      ]
     },
     "metadata": {
      "needs_background": "light"
     },
     "output_type": "display_data"
    }
   ],
   "source": [
    "plt.hist(coef[0, 4163:], bins=50)"
   ]
  },
  {
   "cell_type": "markdown",
   "id": "805b45a3",
   "metadata": {},
   "source": [
    "## Assistments 2012 with timestamps"
   ]
  },
  {
   "cell_type": "code",
   "execution_count": 238,
   "id": "c6835bd1",
   "metadata": {},
   "outputs": [],
   "source": [
    "df = pd.read_csv('../data/assistments12/preprocessed_data.csv', sep='\\t')"
   ]
  },
  {
   "cell_type": "code",
   "execution_count": 240,
   "id": "6552a3eb",
   "metadata": {},
   "outputs": [],
   "source": [
    "from scipy.sparse import load_npz\n",
    "\n",
    "q = load_npz('../data/assistments12/q_mat.npz')"
   ]
  },
  {
   "cell_type": "code",
   "execution_count": 245,
   "id": "2ef9502a",
   "metadata": {},
   "outputs": [
    {
     "data": {
      "text/plain": [
       "Counter({1.0: 52981})"
      ]
     },
     "execution_count": 245,
     "metadata": {},
     "output_type": "execute_result"
    }
   ],
   "source": [
    "from collections import Counter\n",
    "\n",
    "Counter(q.sum(axis=1).A1)"
   ]
  },
  {
   "cell_type": "code",
   "execution_count": 249,
   "id": "ccd0fb8a",
   "metadata": {},
   "outputs": [],
   "source": [
    "df['skill_id'] = df['item_id'].map(dict(zip(range(99999), q.argmax(axis=1).A1)))"
   ]
  },
  {
   "cell_type": "code",
   "execution_count": 251,
   "id": "71c500d3",
   "metadata": {},
   "outputs": [
    {
     "data": {
      "text/html": [
       "<div>\n",
       "<style scoped>\n",
       "    .dataframe tbody tr th:only-of-type {\n",
       "        vertical-align: middle;\n",
       "    }\n",
       "\n",
       "    .dataframe tbody tr th {\n",
       "        vertical-align: top;\n",
       "    }\n",
       "\n",
       "    .dataframe thead th {\n",
       "        text-align: right;\n",
       "    }\n",
       "</style>\n",
       "<table border=\"1\" class=\"dataframe\">\n",
       "  <thead>\n",
       "    <tr style=\"text-align: right;\">\n",
       "      <th></th>\n",
       "      <th>user_id</th>\n",
       "      <th>item_id</th>\n",
       "      <th>timestamp</th>\n",
       "      <th>correct</th>\n",
       "      <th>inter_id</th>\n",
       "      <th>skill_id</th>\n",
       "    </tr>\n",
       "  </thead>\n",
       "  <tbody>\n",
       "    <tr>\n",
       "      <th>0</th>\n",
       "      <td>4355</td>\n",
       "      <td>27076</td>\n",
       "      <td>0</td>\n",
       "      <td>0</td>\n",
       "      <td>0</td>\n",
       "      <td>191</td>\n",
       "    </tr>\n",
       "    <tr>\n",
       "      <th>1</th>\n",
       "      <td>3825</td>\n",
       "      <td>23707</td>\n",
       "      <td>85</td>\n",
       "      <td>1</td>\n",
       "      <td>1</td>\n",
       "      <td>64</td>\n",
       "    </tr>\n",
       "    <tr>\n",
       "      <th>2</th>\n",
       "      <td>3825</td>\n",
       "      <td>23680</td>\n",
       "      <td>103</td>\n",
       "      <td>0</td>\n",
       "      <td>2</td>\n",
       "      <td>64</td>\n",
       "    </tr>\n",
       "    <tr>\n",
       "      <th>3</th>\n",
       "      <td>4355</td>\n",
       "      <td>26976</td>\n",
       "      <td>122</td>\n",
       "      <td>1</td>\n",
       "      <td>3</td>\n",
       "      <td>191</td>\n",
       "    </tr>\n",
       "    <tr>\n",
       "      <th>4</th>\n",
       "      <td>3825</td>\n",
       "      <td>23625</td>\n",
       "      <td>190</td>\n",
       "      <td>0</td>\n",
       "      <td>4</td>\n",
       "      <td>64</td>\n",
       "    </tr>\n",
       "  </tbody>\n",
       "</table>\n",
       "</div>"
      ],
      "text/plain": [
       "   user_id  item_id  timestamp  correct  inter_id  skill_id\n",
       "0     4355    27076          0        0         0       191\n",
       "1     3825    23707         85        1         1        64\n",
       "2     3825    23680        103        0         2        64\n",
       "3     4355    26976        122        1         3       191\n",
       "4     3825    23625        190        0         4        64"
      ]
     },
     "execution_count": 251,
     "metadata": {},
     "output_type": "execute_result"
    }
   ],
   "source": [
    "df.head()"
   ]
  },
  {
   "cell_type": "code",
   "execution_count": 252,
   "id": "5d66b610",
   "metadata": {},
   "outputs": [],
   "source": [
    "df.to_csv('../data/assistments12/data.csv', index=False)"
   ]
  },
  {
   "cell_type": "code",
   "execution_count": 253,
   "id": "50357579",
   "metadata": {},
   "outputs": [],
   "source": [
    "success_rates = df.groupby('user_id')['correct'].mean()"
   ]
  },
  {
   "cell_type": "code",
   "execution_count": 254,
   "id": "7ee318e8",
   "metadata": {},
   "outputs": [],
   "source": [
    "def compute_delays(user_id):\n",
    "    times = df.query(\"user_id == @user_id\")['timestamp'].to_numpy()\n",
    "    times.sort()\n",
    "    #print(times)\n",
    "    #print(times[1:])\n",
    "    #print(times[:-1])\n",
    "    #print(times[1:] - times[:-1])\n",
    "    plt.hist(np.log(times[1:] - times[:-1]))\n",
    "\n",
    "def compute_median_delay(timestamps):\n",
    "    # times = df.query(\"user_id == @user_id\")['timestamp'].to_numpy()\n",
    "    times = np.array(timestamps)\n",
    "    times.sort()\n",
    "    return np.median([value for value in times[1:] - times[:-1] if value < 10000])"
   ]
  },
  {
   "cell_type": "code",
   "execution_count": 255,
   "id": "0b1b1050",
   "metadata": {},
   "outputs": [
    {
     "name": "stderr",
     "output_type": "stream",
     "text": [
      "/home/jj/.local/lib/python3.9/site-packages/numpy/core/fromnumeric.py:3440: RuntimeWarning: Mean of empty slice.\n",
      "  return _methods._mean(a, axis=axis, dtype=dtype,\n",
      "/home/jj/.local/lib/python3.9/site-packages/numpy/core/_methods.py:189: RuntimeWarning: invalid value encountered in double_scalars\n",
      "  ret = ret.dtype.type(ret / rcount)\n"
     ]
    }
   ],
   "source": [
    "median_delays = df.groupby('user_id').agg({'timestamp': compute_median_delay}).rename(columns={'timestamp': 'median_delay'})"
   ]
  },
  {
   "cell_type": "code",
   "execution_count": 256,
   "id": "013593d9",
   "metadata": {},
   "outputs": [],
   "source": [
    "df_win = success_rates.reset_index().join(median_delays)"
   ]
  },
  {
   "cell_type": "code",
   "execution_count": 258,
   "id": "8f1f735a",
   "metadata": {},
   "outputs": [],
   "source": [
    "has_replied = Counter(df['user_id'])"
   ]
  },
  {
   "cell_type": "code",
   "execution_count": 259,
   "id": "c32a70d8",
   "metadata": {},
   "outputs": [],
   "source": [
    "df_win['nb_replies'] = df_win['user_id'].map(has_replied)"
   ]
  },
  {
   "cell_type": "code",
   "execution_count": 260,
   "id": "e718c6be",
   "metadata": {},
   "outputs": [],
   "source": [
    "df_win['log_median_delay'] = np.log(df_win['median_delay'])"
   ]
  },
  {
   "cell_type": "code",
   "execution_count": 261,
   "id": "0f040422",
   "metadata": {},
   "outputs": [
    {
     "data": {
      "text/plain": [
       "count    24364.000000\n",
       "mean        60.912104\n",
       "std         92.963564\n",
       "min          2.000000\n",
       "25%         32.000000\n",
       "50%         47.000000\n",
       "75%         69.500000\n",
       "max       6186.000000\n",
       "Name: median_delay, dtype: float64"
      ]
     },
     "execution_count": 261,
     "metadata": {},
     "output_type": "execute_result"
    }
   ],
   "source": [
    "df_win['median_delay'].describe()"
   ]
  },
  {
   "cell_type": "code",
   "execution_count": 262,
   "id": "8424b0d4",
   "metadata": {},
   "outputs": [
    {
     "data": {
      "text/html": [
       "<div>\n",
       "<style scoped>\n",
       "    .dataframe tbody tr th:only-of-type {\n",
       "        vertical-align: middle;\n",
       "    }\n",
       "\n",
       "    .dataframe tbody tr th {\n",
       "        vertical-align: top;\n",
       "    }\n",
       "\n",
       "    .dataframe thead th {\n",
       "        text-align: right;\n",
       "    }\n",
       "</style>\n",
       "<table border=\"1\" class=\"dataframe\">\n",
       "  <thead>\n",
       "    <tr style=\"text-align: right;\">\n",
       "      <th></th>\n",
       "      <th>user_id</th>\n",
       "      <th>correct</th>\n",
       "      <th>median_delay</th>\n",
       "      <th>nb_replies</th>\n",
       "      <th>log_median_delay</th>\n",
       "    </tr>\n",
       "  </thead>\n",
       "  <tbody>\n",
       "    <tr>\n",
       "      <th>5010</th>\n",
       "      <td>5010</td>\n",
       "      <td>1.000000</td>\n",
       "      <td>1730.0</td>\n",
       "      <td>2</td>\n",
       "      <td>7.455877</td>\n",
       "    </tr>\n",
       "    <tr>\n",
       "      <th>13917</th>\n",
       "      <td>13917</td>\n",
       "      <td>0.833333</td>\n",
       "      <td>2051.0</td>\n",
       "      <td>6</td>\n",
       "      <td>7.626083</td>\n",
       "    </tr>\n",
       "    <tr>\n",
       "      <th>21737</th>\n",
       "      <td>21737</td>\n",
       "      <td>0.500000</td>\n",
       "      <td>2294.5</td>\n",
       "      <td>4</td>\n",
       "      <td>7.738270</td>\n",
       "    </tr>\n",
       "    <tr>\n",
       "      <th>21945</th>\n",
       "      <td>21945</td>\n",
       "      <td>0.000000</td>\n",
       "      <td>2732.0</td>\n",
       "      <td>2</td>\n",
       "      <td>7.912789</td>\n",
       "    </tr>\n",
       "    <tr>\n",
       "      <th>21744</th>\n",
       "      <td>21744</td>\n",
       "      <td>0.000000</td>\n",
       "      <td>3048.0</td>\n",
       "      <td>3</td>\n",
       "      <td>8.022241</td>\n",
       "    </tr>\n",
       "    <tr>\n",
       "      <th>10647</th>\n",
       "      <td>10647</td>\n",
       "      <td>1.000000</td>\n",
       "      <td>3076.0</td>\n",
       "      <td>3</td>\n",
       "      <td>8.031385</td>\n",
       "    </tr>\n",
       "    <tr>\n",
       "      <th>23928</th>\n",
       "      <td>23928</td>\n",
       "      <td>0.000000</td>\n",
       "      <td>3339.0</td>\n",
       "      <td>2</td>\n",
       "      <td>8.113427</td>\n",
       "    </tr>\n",
       "    <tr>\n",
       "      <th>21944</th>\n",
       "      <td>21944</td>\n",
       "      <td>0.000000</td>\n",
       "      <td>4929.0</td>\n",
       "      <td>2</td>\n",
       "      <td>8.502891</td>\n",
       "    </tr>\n",
       "    <tr>\n",
       "      <th>12256</th>\n",
       "      <td>12256</td>\n",
       "      <td>0.000000</td>\n",
       "      <td>5016.0</td>\n",
       "      <td>2</td>\n",
       "      <td>8.520388</td>\n",
       "    </tr>\n",
       "    <tr>\n",
       "      <th>12250</th>\n",
       "      <td>12250</td>\n",
       "      <td>0.500000</td>\n",
       "      <td>6186.0</td>\n",
       "      <td>2</td>\n",
       "      <td>8.730044</td>\n",
       "    </tr>\n",
       "  </tbody>\n",
       "</table>\n",
       "</div>"
      ],
      "text/plain": [
       "       user_id   correct  median_delay  nb_replies  log_median_delay\n",
       "5010      5010  1.000000        1730.0           2          7.455877\n",
       "13917    13917  0.833333        2051.0           6          7.626083\n",
       "21737    21737  0.500000        2294.5           4          7.738270\n",
       "21945    21945  0.000000        2732.0           2          7.912789\n",
       "21744    21744  0.000000        3048.0           3          8.022241\n",
       "10647    10647  1.000000        3076.0           3          8.031385\n",
       "23928    23928  0.000000        3339.0           2          8.113427\n",
       "21944    21944  0.000000        4929.0           2          8.502891\n",
       "12256    12256  0.000000        5016.0           2          8.520388\n",
       "12250    12250  0.500000        6186.0           2          8.730044"
      ]
     },
     "execution_count": 262,
     "metadata": {},
     "output_type": "execute_result"
    }
   ],
   "source": [
    "df_win.dropna().sort_values('median_delay').tail(10)"
   ]
  },
  {
   "cell_type": "code",
   "execution_count": 263,
   "id": "98d57769",
   "metadata": {},
   "outputs": [
    {
     "data": {
      "text/plain": [
       "<AxesSubplot:>"
      ]
     },
     "execution_count": 263,
     "metadata": {},
     "output_type": "execute_result"
    },
    {
     "data": {
      "image/png": "[encoded data removed]",
      "text/plain": [
       "<Figure size 432x288 with 1 Axes>"
      ]
     },
     "metadata": {
      "needs_background": "light"
     },
     "output_type": "display_data"
    }
   ],
   "source": [
    "df_win['correct'].hist()"
   ]
  },
  {
   "cell_type": "code",
   "execution_count": 264,
   "id": "a98397e5",
   "metadata": {},
   "outputs": [
    {
     "data": {
      "text/plain": [
       "<AxesSubplot:xlabel='correct', ylabel='median_delay'>"
      ]
     },
     "execution_count": 264,
     "metadata": {},
     "output_type": "execute_result"
    },
    {
     "data": {
      "image/png": "[encoded data removed]",
      "text/plain": [
       "<Figure size 432x288 with 1 Axes>"
      ]
     },
     "metadata": {
      "needs_background": "light"
     },
     "output_type": "display_data"
    }
   ],
   "source": [
    "df_win.plot.scatter(x='correct', y='median_delay')"
   ]
  },
  {
   "cell_type": "code",
   "execution_count": 265,
   "id": "e79791f0",
   "metadata": {},
   "outputs": [
    {
     "data": {
      "text/plain": [
       "<AxesSubplot:>"
      ]
     },
     "execution_count": 265,
     "metadata": {},
     "output_type": "execute_result"
    },
    {
     "data": {
      "image/png": "[encoded data removed]",
      "text/plain": [
       "<Figure size 432x288 with 1 Axes>"
      ]
     },
     "metadata": {
      "needs_background": "light"
     },
     "output_type": "display_data"
    }
   ],
   "source": [
    "df_win.dropna().query('median_delay > 1e3')['nb_replies'].hist(bins=11)"
   ]
  },
  {
   "cell_type": "code",
   "execution_count": 266,
   "id": "aa4010a8",
   "metadata": {},
   "outputs": [
    {
     "data": {
      "text/plain": [
       "<AxesSubplot:xlabel='correct', ylabel='log_median_delay'>"
      ]
     },
     "execution_count": 266,
     "metadata": {},
     "output_type": "execute_result"
    },
    {
     "data": {
      "image/png": "[encoded data removed]",
      "text/plain": [
       "<Figure size 432x288 with 1 Axes>"
      ]
     },
     "metadata": {
      "needs_background": "light"
     },
     "output_type": "display_data"
    }
   ],
   "source": [
    "df_win.query('nb_replies > 10').plot.scatter(x='correct', y='log_median_delay')"
   ]
  },
  {
   "cell_type": "code",
   "execution_count": 267,
   "id": "3fd98929",
   "metadata": {},
   "outputs": [],
   "source": [
    "df_for_disp = df_win.query('nb_replies > 10').dropna()"
   ]
  },
  {
   "cell_type": "code",
   "execution_count": 268,
   "id": "fdccaae8",
   "metadata": {},
   "outputs": [
    {
     "data": {
      "text/plain": [
       "(array([[0., 0., 0., ..., 0., 0., 0.],\n",
       "        [0., 0., 0., ..., 0., 0., 0.],\n",
       "        [0., 0., 0., ..., 0., 0., 0.],\n",
       "        ...,\n",
       "        [0., 0., 0., ..., 0., 0., 0.],\n",
       "        [0., 0., 0., ..., 0., 0., 0.],\n",
       "        [0., 0., 0., ..., 0., 0., 0.]]),\n",
       " array([0.  , 0.01, 0.02, 0.03, 0.04, 0.05, 0.06, 0.07, 0.08, 0.09, 0.1 ,\n",
       "        0.11, 0.12, 0.13, 0.14, 0.15, 0.16, 0.17, 0.18, 0.19, 0.2 , 0.21,\n",
       "        0.22, 0.23, 0.24, 0.25, 0.26, 0.27, 0.28, 0.29, 0.3 , 0.31, 0.32,\n",
       "        0.33, 0.34, 0.35, 0.36, 0.37, 0.38, 0.39, 0.4 , 0.41, 0.42, 0.43,\n",
       "        0.44, 0.45, 0.46, 0.47, 0.48, 0.49, 0.5 , 0.51, 0.52, 0.53, 0.54,\n",
       "        0.55, 0.56, 0.57, 0.58, 0.59, 0.6 , 0.61, 0.62, 0.63, 0.64, 0.65,\n",
       "        0.66, 0.67, 0.68, 0.69, 0.7 , 0.71, 0.72, 0.73, 0.74, 0.75, 0.76,\n",
       "        0.77, 0.78, 0.79, 0.8 , 0.81, 0.82, 0.83, 0.84, 0.85, 0.86, 0.87,\n",
       "        0.88, 0.89, 0.9 , 0.91, 0.92, 0.93, 0.94, 0.95, 0.96, 0.97, 0.98,\n",
       "        0.99, 1.  ]),\n",
       " array([0.69314718, 0.75376175, 0.81437632, 0.87499089, 0.93560546,\n",
       "        0.99622003, 1.0568346 , 1.11744916, 1.17806373, 1.2386783 ,\n",
       "        1.29929287, 1.35990744, 1.42052201, 1.48113658, 1.54175115,\n",
       "        1.60236572, 1.66298029, 1.72359486, 1.78420943, 1.844824  ,\n",
       "        1.90543856, 1.96605313, 2.0266677 , 2.08728227, 2.14789684,\n",
       "        2.20851141, 2.26912598, 2.32974055, 2.39035512, 2.45096969,\n",
       "        2.51158426, 2.57219883, 2.63281339, 2.69342796, 2.75404253,\n",
       "        2.8146571 , 2.87527167, 2.93588624, 2.99650081, 3.05711538,\n",
       "        3.11772995, 3.17834452, 3.23895909, 3.29957366, 3.36018822,\n",
       "        3.42080279, 3.48141736, 3.54203193, 3.6026465 , 3.66326107,\n",
       "        3.72387564, 3.78449021, 3.84510478, 3.90571935, 3.96633392,\n",
       "        4.02694849, 4.08756306, 4.14817762, 4.20879219, 4.26940676,\n",
       "        4.33002133, 4.3906359 , 4.45125047, 4.51186504, 4.57247961,\n",
       "        4.63309418, 4.69370875, 4.75432332, 4.81493789, 4.87555245,\n",
       "        4.93616702, 4.99678159, 5.05739616, 5.11801073, 5.1786253 ,\n",
       "        5.23923987, 5.29985444, 5.36046901, 5.42108358, 5.48169815,\n",
       "        5.54231272, 5.60292728, 5.66354185, 5.72415642, 5.78477099,\n",
       "        5.84538556, 5.90600013, 5.9666147 , 6.02722927, 6.08784384,\n",
       "        6.14845841, 6.20907298, 6.26968755, 6.33030212, 6.39091668,\n",
       "        6.45153125, 6.51214582, 6.57276039, 6.63337496, 6.69398953,\n",
       "        6.7546041 ]),\n",
       " <matplotlib.collections.QuadMesh at 0x7f4bb7155f40>)"
      ]
     },
     "execution_count": 268,
     "metadata": {},
     "output_type": "execute_result"
    },
    {
     "data": {
      "image/png": "[encoded data removed]",
      "text/plain": [
       "<Figure size 432x288 with 1 Axes>"
      ]
     },
     "metadata": {
      "needs_background": "light"
     },
     "output_type": "display_data"
    }
   ],
   "source": [
    "plt.hist2d(df_for_disp['correct'], y=df_for_disp['log_median_delay'], bins=100)"
   ]
  },
  {
   "cell_type": "code",
   "execution_count": 269,
   "id": "16c7a11b",
   "metadata": {},
   "outputs": [
    {
     "ename": "AxisError",
     "evalue": "axis -1 is out of bounds for array of dimension 0",
     "output_type": "error",
     "traceback": [
      "\u001b[0;31m---------------------------------------------------------------------------\u001b[0m",
      "\u001b[0;31mAxisError\u001b[0m                                 Traceback (most recent call last)",
      "\u001b[0;32m<timed exec>\u001b[0m in \u001b[0;36m<module>\u001b[0;34m\u001b[0m\n",
      "\u001b[0;32m<timed exec>\u001b[0m in \u001b[0;36m<listcomp>\u001b[0;34m(.0)\u001b[0m\n",
      "\u001b[0;32m/tmp/ipykernel_347373/753734559.py\u001b[0m in \u001b[0;36mcompute_median_delay\u001b[0;34m(timestamps)\u001b[0m\n\u001b[1;32m     11\u001b[0m     \u001b[0;31m# times = df.query(\"user_id == @user_id\")['timestamp'].to_numpy()\u001b[0m\u001b[0;34m\u001b[0m\u001b[0;34m\u001b[0m\u001b[0;34m\u001b[0m\u001b[0m\n\u001b[1;32m     12\u001b[0m     \u001b[0mtimes\u001b[0m \u001b[0;34m=\u001b[0m \u001b[0mnp\u001b[0m\u001b[0;34m.\u001b[0m\u001b[0marray\u001b[0m\u001b[0;34m(\u001b[0m\u001b[0mtimestamps\u001b[0m\u001b[0;34m)\u001b[0m\u001b[0;34m\u001b[0m\u001b[0;34m\u001b[0m\u001b[0m\n\u001b[0;32m---> 13\u001b[0;31m     \u001b[0mtimes\u001b[0m\u001b[0;34m.\u001b[0m\u001b[0msort\u001b[0m\u001b[0;34m(\u001b[0m\u001b[0;34m)\u001b[0m\u001b[0;34m\u001b[0m\u001b[0;34m\u001b[0m\u001b[0m\n\u001b[0m\u001b[1;32m     14\u001b[0m     \u001b[0;32mreturn\u001b[0m \u001b[0mnp\u001b[0m\u001b[0;34m.\u001b[0m\u001b[0mmedian\u001b[0m\u001b[0;34m(\u001b[0m\u001b[0;34m[\u001b[0m\u001b[0mvalue\u001b[0m \u001b[0;32mfor\u001b[0m \u001b[0mvalue\u001b[0m \u001b[0;32min\u001b[0m \u001b[0mtimes\u001b[0m\u001b[0;34m[\u001b[0m\u001b[0;36m1\u001b[0m\u001b[0;34m:\u001b[0m\u001b[0;34m]\u001b[0m \u001b[0;34m-\u001b[0m \u001b[0mtimes\u001b[0m\u001b[0;34m[\u001b[0m\u001b[0;34m:\u001b[0m\u001b[0;34m-\u001b[0m\u001b[0;36m1\u001b[0m\u001b[0;34m]\u001b[0m \u001b[0;32mif\u001b[0m \u001b[0mvalue\u001b[0m \u001b[0;34m<\u001b[0m \u001b[0;36m10000\u001b[0m\u001b[0;34m]\u001b[0m\u001b[0;34m)\u001b[0m\u001b[0;34m\u001b[0m\u001b[0;34m\u001b[0m\u001b[0m\n",
      "\u001b[0;31mAxisError\u001b[0m: axis -1 is out of bounds for array of dimension 0"
     ]
    }
   ],
   "source": [
    "%%time\n",
    "median_delay_of = dict([(user_id, compute_median_delay(user_id)) for user_id in df['user_id'].unique()])\n",
    "median_delay_of"
   ]
  },
  {
   "cell_type": "code",
   "execution_count": 270,
   "id": "4379c35c",
   "metadata": {},
   "outputs": [
    {
     "data": {
      "image/png": "[encoded data removed]",
      "text/plain": [
       "<Figure size 432x288 with 1 Axes>"
      ]
     },
     "metadata": {
      "needs_background": "light"
     },
     "output_type": "display_data"
    }
   ],
   "source": [
    "compute_delays(4355)"
   ]
  },
  {
   "cell_type": "code",
   "execution_count": 271,
   "id": "4bb10589",
   "metadata": {},
   "outputs": [
    {
     "data": {
      "image/png": "[encoded data removed]",
      "text/plain": [
       "<Figure size 432x288 with 1 Axes>"
      ]
     },
     "metadata": {
      "needs_background": "light"
     },
     "output_type": "display_data"
    }
   ],
   "source": [
    "compute_delays(3825)"
   ]
  },
  {
   "cell_type": "code",
   "execution_count": null,
   "id": "f70b6a2c",
   "metadata": {},
   "outputs": [],
   "source": [
    "df['user_id'].unique()"
   ]
  },
  {
   "cell_type": "code",
   "execution_count": 272,
   "id": "7f465dc3",
   "metadata": {},
   "outputs": [
    {
     "data": {
      "image/png": "[encoded data removed]",
      "text/plain": [
       "<Figure size 432x288 with 1 Axes>"
      ]
     },
     "metadata": {
      "needs_background": "light"
     },
     "output_type": "display_data"
    }
   ],
   "source": [
    "compute_delays(5026)"
   ]
  },
  {
   "cell_type": "code",
   "execution_count": 273,
   "id": "4de6f88e",
   "metadata": {},
   "outputs": [
    {
     "data": {
      "image/png": "[encoded data removed]",
      "text/plain": [
       "<Figure size 432x288 with 1 Axes>"
      ]
     },
     "metadata": {
      "needs_background": "light"
     },
     "output_type": "display_data"
    }
   ],
   "source": [
    "compute_delays(24748)"
   ]
  },
  {
   "cell_type": "code",
   "execution_count": null,
   "id": "56ed4469",
   "metadata": {},
   "outputs": [],
   "source": []
  }
 ],
 "metadata": {
  "kernelspec": {
   "display_name": "Django Shell-Plus",
   "language": "python",
   "name": "django_extensions"
  },
  "language_info": {
   "codemirror_mode": {
    "name": "ipython",
    "version": 3
   },
   "file_extension": ".py",
   "mimetype": "text/x-python",
   "name": "python",
   "nbconvert_exporter": "python",
   "pygments_lexer": "ipython3",
   "version": "3.9.5"
  }
 },
 "nbformat": 4,
 "nbformat_minor": 5
}
