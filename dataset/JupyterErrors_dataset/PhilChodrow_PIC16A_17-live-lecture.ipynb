{
 "cells": [
  {
   "cell_type": "markdown",
   "metadata": {},
   "source": [
    "## Class methods vs. functions P1(A)\n",
    "\n",
    "- Indentation\n",
    "- Type checking: when is it needed?"
   ]
  },
  {
   "cell_type": "code",
   "execution_count": null,
   "metadata": {},
   "outputs": [],
   "source": [
    "import random\n",
    "\n",
    "class PICStudent:\n",
    "\n",
    "    pass\n",
    "\n",
    "def add_name(PCS, name):\n",
    "    if type(PCS) != PICStudent:\n",
    "        raise TypeError(\"This function is designed to work with objects of class PICStudent\")\n",
    "    PCS.name = name\n",
    "\n",
    "def say_hi(PCS, name):\n",
    "    print(\"Hello! My name is \" + str(self.name))\n",
    "\n",
    "def go_to_OH(PCS):\n",
    "    if type(PCS) != PICStudent:\n",
    "        raise TypeError(\"This function is designed to work with objects of class PICStudent\")\n",
    "    PCS.understanding += 1\n",
    "    \n",
    "def do_HW(PCS):\n",
    "    if type(PCS) != PICStudent:\n",
    "        raise TypeError(\"This function is designed to work with objects of class PICStudent\")\n",
    "    \n",
    "    score = max(75+25*random.random(), 25*PCS.understanding)\n",
    "    return score    "
   ]
  },
  {
   "cell_type": "code",
   "execution_count": 1,
   "metadata": {},
   "outputs": [],
   "source": [
    "class PICStudent:\n",
    "    \n",
    "    def __init__(self, name = \"me\", understanding = 50):\n",
    "        self.name = name\n",
    "        self.understanding = understanding\n",
    "    \n",
    "\n",
    "# indentation: defined in global scope as a function\n",
    "# not a method (not an attribute of a PICStudent object)\n",
    "def add_name(self, name):\n",
    "    if type(self) != PICStudent:\n",
    "        raise TypeError(\"This function is designed to work with objects of class PICStudent\")\n",
    "    self.name = name"
   ]
  },
  {
   "cell_type": "code",
   "execution_count": 2,
   "metadata": {},
   "outputs": [
    {
     "ename": "AttributeError",
     "evalue": "'PICStudent' object has no attribute 'add_name'",
     "output_type": "error",
     "traceback": [
      "\u001b[0;31m---------------------------------------------------------------------------\u001b[0m",
      "\u001b[0;31mAttributeError\u001b[0m                            Traceback (most recent call last)",
      "\u001b[0;32m<ipython-input-2-4f81dd944397>\u001b[0m in \u001b[0;36m<module>\u001b[0;34m\u001b[0m\n\u001b[1;32m      1\u001b[0m \u001b[0mPCS\u001b[0m \u001b[0;34m=\u001b[0m \u001b[0mPICStudent\u001b[0m\u001b[0;34m(\u001b[0m\u001b[0;34m)\u001b[0m\u001b[0;34m\u001b[0m\u001b[0;34m\u001b[0m\u001b[0m\n\u001b[0;32m----> 2\u001b[0;31m \u001b[0mPCS\u001b[0m\u001b[0;34m.\u001b[0m\u001b[0madd_name\u001b[0m\u001b[0;34m(\u001b[0m\u001b[0;34m)\u001b[0m\u001b[0;34m\u001b[0m\u001b[0;34m\u001b[0m\u001b[0m\n\u001b[0m",
      "\u001b[0;31mAttributeError\u001b[0m: 'PICStudent' object has no attribute 'add_name'"
     ]
    }
   ],
   "source": [
    "PCS = PICStudent()\n",
    "PCS.add_name()"
   ]
  },
  {
   "cell_type": "code",
   "execution_count": 3,
   "metadata": {},
   "outputs": [],
   "source": [
    "class PICStudent:\n",
    "    \n",
    "    \n",
    "    \n",
    "    \n",
    "    def add_name(self, name):\n",
    "        self.name = name"
   ]
  },
  {
   "cell_type": "code",
   "execution_count": 5,
   "metadata": {},
   "outputs": [],
   "source": [
    "PCS = PICStudent()\n",
    "PCS.add_name(\"Adhvaith\")"
   ]
  },
  {
   "cell_type": "markdown",
   "metadata": {},
   "source": [
    "## Use of self (P1A)\n",
    "\n"
   ]
  },
  {
   "cell_type": "code",
   "execution_count": 6,
   "metadata": {},
   "outputs": [],
   "source": [
    "class PICStudent:\n",
    "    def add_name(PCS, name):\n",
    "        PCS.name = name"
   ]
  },
  {
   "cell_type": "code",
   "execution_count": 7,
   "metadata": {},
   "outputs": [],
   "source": [
    "PCS = PICStudent()\n",
    "PCS.add_name(\"Adhvaith\")"
   ]
  },
  {
   "cell_type": "markdown",
   "metadata": {},
   "source": [
    "## Functions with default arguments (P1C)\n",
    "\n",
    "The `lookup` function is basically just `dict.get()`. \n"
   ]
  },
  {
   "cell_type": "code",
   "execution_count": null,
   "metadata": {},
   "outputs": [],
   "source": [
    "def lookup(d, x, default = None):\n",
    "    \"\"\"\n",
    "    get a value of d corresponding to x\n",
    "    return user-specified default if x is not a key of d\n",
    "        default is None unless otherwise specified\n",
    "    raises a KeyError if x is not a key of d\n",
    "    raises a KeyError or returns a KeyError\n",
    "    \"\"\"\n",
    "    # check whether d is a dictionary\n",
    "    # raise an informative TypeError if not\n",
    "    if type(d) == dict:   \n",
    "        raise TypeError(\"First argument must be a dict.\")\n",
    "    \n",
    "    # attempt to return the value matched to x in \n",
    "    # dictionary d\n",
    "    try:\n",
    "        return d[x]\n",
    "    \n",
    "    # if x not found, return the default\n",
    "    except KeyError:\n",
    "        return default"
   ]
  },
  {
   "cell_type": "code",
   "execution_count": 8,
   "metadata": {},
   "outputs": [
    {
     "ename": "TypeError",
     "evalue": "cannot convert dictionary update sequence element #0 to a sequence",
     "output_type": "error",
     "traceback": [
      "\u001b[0;31m---------------------------------------------------------------------------\u001b[0m",
      "\u001b[0;31mTypeError\u001b[0m                                 Traceback (most recent call last)",
      "\u001b[0;32m<ipython-input-8-d1cde58e40e5>\u001b[0m in \u001b[0;36m<module>\u001b[0;34m\u001b[0m\n\u001b[1;32m      8\u001b[0m \u001b[0md\u001b[0m \u001b[0;34m=\u001b[0m \u001b[0;34m[\u001b[0m\u001b[0;36m5\u001b[0m\u001b[0;34m,\u001b[0m \u001b[0;36m3\u001b[0m\u001b[0;34m]\u001b[0m\u001b[0;34m\u001b[0m\u001b[0;34m\u001b[0m\u001b[0m\n\u001b[1;32m      9\u001b[0m \u001b[0;34m\u001b[0m\u001b[0m\n\u001b[0;32m---> 10\u001b[0;31m \u001b[0mtype\u001b[0m\u001b[0;34m(\u001b[0m\u001b[0mdict\u001b[0m\u001b[0;34m(\u001b[0m\u001b[0md\u001b[0m\u001b[0;34m)\u001b[0m\u001b[0;34m)\u001b[0m \u001b[0;34m==\u001b[0m \u001b[0mdict\u001b[0m\u001b[0;34m\u001b[0m\u001b[0;34m\u001b[0m\u001b[0m\n\u001b[0m",
      "\u001b[0;31mTypeError\u001b[0m: cannot convert dictionary update sequence element #0 to a sequence"
     ]
    }
   ],
   "source": [
    "# make a function work with SubtractionDict d\n",
    "\n",
    "# coerce input to dictionary\n",
    "# very short modification to code\n",
    "\n",
    "# check whether \n",
    "\n",
    "d = [5, 3]\n",
    "\n",
    "type(dict(d)) == dict\n",
    "\n",
    "# better\n",
    "\n",
    "isinstance(d, dict)\n",
    "issubclass(d, dict)"
   ]
  },
  {
   "cell_type": "markdown",
   "metadata": {},
   "source": [
    "## Checking for list / array equality (P2C)"
   ]
  },
  {
   "cell_type": "code",
   "execution_count": 11,
   "metadata": {},
   "outputs": [
    {
     "data": {
      "text/plain": [
       "False"
      ]
     },
     "execution_count": 11,
     "metadata": {},
     "output_type": "execute_result"
    }
   ],
   "source": [
    "# lists\n",
    "\n",
    "a = [1, 2, 3]\n",
    "b = [1, 2, 3]\n",
    "c = [2, 1, 3]\n",
    "\n",
    "a == c"
   ]
  },
  {
   "cell_type": "code",
   "execution_count": 13,
   "metadata": {},
   "outputs": [],
   "source": [
    "import numpy as np"
   ]
  },
  {
   "cell_type": "code",
   "execution_count": 14,
   "metadata": {},
   "outputs": [],
   "source": [
    "A = np.array(a)\n",
    "B = np.array(b)\n",
    "C = np.array(c)"
   ]
  },
  {
   "cell_type": "code",
   "execution_count": 19,
   "metadata": {},
   "outputs": [
    {
     "data": {
      "text/plain": [
       "(True, False)"
      ]
     },
     "execution_count": 19,
     "metadata": {},
     "output_type": "execute_result"
    }
   ],
   "source": [
    "# if A == B:\n",
    "#     print(\"woo!\")\n",
    "(A == B).all(), (A == C).all()"
   ]
  },
  {
   "cell_type": "code",
   "execution_count": 23,
   "metadata": {},
   "outputs": [
    {
     "data": {
      "text/plain": [
       "(array([1, 2, 3]), True, False)"
      ]
     },
     "execution_count": 23,
     "metadata": {},
     "output_type": "execute_result"
    }
   ],
   "source": [
    "A, A.all(), np.zeros(3).all()"
   ]
  },
  {
   "cell_type": "code",
   "execution_count": 20,
   "metadata": {},
   "outputs": [
    {
     "data": {
      "text/plain": [
       "True"
      ]
     },
     "execution_count": 20,
     "metadata": {},
     "output_type": "execute_result"
    }
   ],
   "source": [
    "# checking whether either:\n",
    "#   A and B both contain at least one nonzero entry OR\n",
    "#   A and B are both zero arrays\n",
    "A.all() == B.all()"
   ]
  },
  {
   "cell_type": "code",
   "execution_count": null,
   "metadata": {},
   "outputs": [],
   "source": [
    "if (A != B).any():\n",
    "    # reject the addition, time series not equal"
   ]
  }
 ],
 "metadata": {
  "kernelspec": {
   "display_name": "Python 3",
   "language": "python",
   "name": "python3"
  },
  "language_info": {
   "codemirror_mode": {
    "name": "ipython",
    "version": 3
   },
   "file_extension": ".py",
   "mimetype": "text/x-python",
   "name": "python",
   "nbconvert_exporter": "python",
   "pygments_lexer": "ipython3",
   "version": "3.8.5"
  }
 },
 "nbformat": 4,
 "nbformat_minor": 4
}
