{
 "cells": [
  {
   "cell_type": "markdown",
   "metadata": {},
   "source": [
    "<a id=\"chunking_demo_top\"></a>\n",
    "# Chunking Demo (WOFS)\n",
    "\n",
    "<hr>\n",
    "\n",
    "# Notebook Summary\n",
    "\n",
    "This notebook demonstrates how to load and process data in chunks to avoid running out of memory (causing `MemoryError` errors). The Australian Water Observations from Space (WOFS) algorithm is used to detect water. This water detection algorithm is significantly better than the Landsat QA water flag or the NDWI index for water identification. \n",
    "<br><br>\n",
    "For more information, visit this website: http://www.ga.gov.au/scientific-topics/hazards/flood/wofs\n",
    "\n",
    "<hr>\n",
    "\n",
    "# Index\n",
    "\n",
    "* [Import Dependencies and Connect to the Data Cube](#chunking_demo_import)\n",
    "* [Choose Platform and Product](#chunking_demo_plat_prod)\n",
    "* [Get the Extents of the Cube](#chunking_demo_extents)\n",
    "* [Define the Extents of the Analysis](#chunking_demo_define_extents)\n",
    "* [Load Data from the Data Cube](#chunking_demo_load)\n",
    "* [Time Series Water Detection Analysis](#chunking_demo_analysis)\n",
    "* [Create GeoTIFF Output Products](#chunking_demo_export)"
   ]
  },
  {
   "cell_type": "markdown",
   "metadata": {},
   "source": [
    "## <span id=\"chunking_demo_import\">Import Dependencies and Connect to the Data Cube [&#9652;](#chunking_demo_top)</span>"
   ]
  },
  {
   "cell_type": "code",
   "execution_count": 1,
   "metadata": {
    "execution": {
     "iopub.execute_input": "2020-09-28T16:17:40.104797Z",
     "iopub.status.busy": "2020-09-28T16:17:40.104342Z",
     "iopub.status.idle": "2020-09-28T16:17:41.551483Z",
     "shell.execute_reply": "2020-09-28T16:17:41.551863Z"
    }
   },
   "outputs": [],
   "source": [
    "import sys\n",
    "import os\n",
    "sys.path.append(os.environ.get('NOTEBOOK_ROOT'))\n",
    "\n",
    "import matplotlib.pyplot as plt\n",
    "import numpy as np  \n",
    "import xarray as xr\n",
    "import warnings\n",
    "import datacube\n",
    "import utils.data_cube_utilities.data_access_api as dc_api  \n",
    "\n",
    "# Supress Warning \n",
    "warnings.filterwarnings('ignore')\n",
    "\n",
    "api = dc_api.DataAccessApi()\n",
    "dc = api.dc"
   ]
  },
  {
   "cell_type": "markdown",
   "metadata": {},
   "source": [
    "## <span id=\"chunking_demo_plat_prod\">Choose Platform and Product [&#9652;](#chunking_demo_top)</span>"
   ]
  },
  {
   "cell_type": "code",
   "execution_count": 2,
   "metadata": {
    "execution": {
     "iopub.execute_input": "2020-09-28T16:17:41.555529Z",
     "iopub.status.busy": "2020-09-28T16:17:41.555088Z",
     "iopub.status.idle": "2020-09-28T16:17:41.557274Z",
     "shell.execute_reply": "2020-09-28T16:17:41.556838Z"
    }
   },
   "outputs": [],
   "source": [
    "# Select a Product and Platform\n",
    "# Examples: ghana, kenya, tanzania, sierra_leone, senegal\n",
    "\n",
    "#product = \"ls7_usgs_sr_scene\"\n",
    "#platform = \"LANDSAT_7\"\n",
    "\n",
    "product = \"ls8_usgs_sr_scene\"\n",
    "platform = \"LANDSAT_8\""
   ]
  },
  {
   "cell_type": "markdown",
   "metadata": {},
   "source": [
    "## <span id=\"chunking_demo_extents\">Get the Extents of the Cube [&#9652;](#chunking_demo_top)</span>"
   ]
  },
  {
   "cell_type": "code",
   "execution_count": 1,
   "metadata": {
    "execution": {
     "iopub.execute_input": "2020-09-28T16:17:41.561273Z",
     "iopub.status.busy": "2020-09-28T16:17:41.560848Z",
     "iopub.status.idle": "2020-09-28T16:17:41.680582Z",
     "shell.execute_reply": "2020-09-28T16:17:41.679886Z"
    }
   },
   "outputs": [
    {
     "ename": "ValueError",
     "evalue": "No products match search terms: {'platform': 'LANDSAT_8', 'product': 'ls8_usgs_sr_scene'}",
     "output_type": "error",
     "traceback": [
      "\u001b[0;31m---------------------------------------------------------------------------\u001b[0m",
      "\u001b[0;31mValueError\u001b[0m                                Traceback (most recent call last)",
      "\u001b[0;32m<ipython-input-1-2afd3e32c472>\u001b[0m in \u001b[0;36m<module>\u001b[0;34m\u001b[0m\n\u001b[1;32m      2\u001b[0m \u001b[0;32mfrom\u001b[0m \u001b[0mutils\u001b[0m\u001b[0;34m.\u001b[0m\u001b[0mdata_cube_utilities\u001b[0m\u001b[0;34m.\u001b[0m\u001b[0mdc_time\u001b[0m \u001b[0;32mimport\u001b[0m \u001b[0mdt_to_str\u001b[0m\u001b[0;34m\u001b[0m\u001b[0;34m\u001b[0m\u001b[0m\n\u001b[1;32m      3\u001b[0m \u001b[0;34m\u001b[0m\u001b[0m\n\u001b[0;32m----> 4\u001b[0;31m \u001b[0mfull_lat\u001b[0m\u001b[0;34m,\u001b[0m \u001b[0mfull_lon\u001b[0m\u001b[0;34m,\u001b[0m \u001b[0mmin_max_dates\u001b[0m \u001b[0;34m=\u001b[0m \u001b[0mget_product_extents\u001b[0m\u001b[0;34m(\u001b[0m\u001b[0mapi\u001b[0m\u001b[0;34m,\u001b[0m \u001b[0mplatform\u001b[0m\u001b[0;34m,\u001b[0m \u001b[0mproduct\u001b[0m\u001b[0;34m)\u001b[0m\u001b[0;34m\u001b[0m\u001b[0;34m\u001b[0m\u001b[0m\n\u001b[0m\u001b[1;32m      5\u001b[0m \u001b[0;34m\u001b[0m\u001b[0m\n\u001b[1;32m      6\u001b[0m \u001b[0;31m# Print the extents of the data.\u001b[0m\u001b[0;34m\u001b[0m\u001b[0;34m\u001b[0m\u001b[0;34m\u001b[0m\u001b[0m\n",
      "\u001b[0;32m/notebooks/utils/data_cube_utilities/dc_load.py\u001b[0m in \u001b[0;36mget_product_extents\u001b[0;34m(api, platform, product, **kwargs)\u001b[0m\n\u001b[1;32m    502\u001b[0m     \"\"\"\n\u001b[1;32m    503\u001b[0m     \u001b[0;31m# Get the extents of the cube\u001b[0m\u001b[0;34m\u001b[0m\u001b[0;34m\u001b[0m\u001b[0;34m\u001b[0m\u001b[0m\n\u001b[0;32m--> 504\u001b[0;31m     \u001b[0mdescriptor\u001b[0m \u001b[0;34m=\u001b[0m \u001b[0mapi\u001b[0m\u001b[0;34m.\u001b[0m\u001b[0mget_query_metadata\u001b[0m\u001b[0;34m(\u001b[0m\u001b[0mplatform\u001b[0m\u001b[0;34m=\u001b[0m\u001b[0mplatform\u001b[0m\u001b[0;34m,\u001b[0m \u001b[0mproduct\u001b[0m\u001b[0;34m=\u001b[0m\u001b[0mproduct\u001b[0m\u001b[0;34m,\u001b[0m \u001b[0;34m**\u001b[0m\u001b[0mkwargs\u001b[0m\u001b[0;34m)\u001b[0m\u001b[0;34m\u001b[0m\u001b[0;34m\u001b[0m\u001b[0m\n\u001b[0m\u001b[1;32m    505\u001b[0m     \u001b[0mmin_max_lat\u001b[0m \u001b[0;34m=\u001b[0m \u001b[0mdescriptor\u001b[0m\u001b[0;34m[\u001b[0m\u001b[0;34m'lat_extents'\u001b[0m\u001b[0;34m]\u001b[0m\u001b[0;34m\u001b[0m\u001b[0;34m\u001b[0m\u001b[0m\n\u001b[1;32m    506\u001b[0m     \u001b[0mmin_max_lon\u001b[0m \u001b[0;34m=\u001b[0m \u001b[0mdescriptor\u001b[0m\u001b[0;34m[\u001b[0m\u001b[0;34m'lon_extents'\u001b[0m\u001b[0;34m]\u001b[0m\u001b[0;34m\u001b[0m\u001b[0;34m\u001b[0m\u001b[0m\n",
      "\u001b[0;32m/notebooks/utils/data_cube_utilities/data_access_api.py\u001b[0m in \u001b[0;36mget_query_metadata\u001b[0;34m(self, product, platform, longitude, latitude, time, **kwargs)\u001b[0m\n\u001b[1;32m    223\u001b[0m         dataset = self.get_dataset_by_extent(\n\u001b[1;32m    224\u001b[0m             \u001b[0mplatform\u001b[0m\u001b[0;34m=\u001b[0m\u001b[0mplatform\u001b[0m\u001b[0;34m,\u001b[0m \u001b[0mproduct\u001b[0m\u001b[0;34m=\u001b[0m\u001b[0mproduct\u001b[0m\u001b[0;34m,\u001b[0m \u001b[0mlongitude\u001b[0m\u001b[0;34m=\u001b[0m\u001b[0mlongitude\u001b[0m\u001b[0;34m,\u001b[0m\u001b[0;34m\u001b[0m\u001b[0;34m\u001b[0m\u001b[0m\n\u001b[0;32m--> 225\u001b[0;31m             latitude=latitude, time=time, **kwargs)\n\u001b[0m\u001b[1;32m    226\u001b[0m \u001b[0;34m\u001b[0m\u001b[0m\n\u001b[1;32m    227\u001b[0m         \u001b[0;32mif\u001b[0m \u001b[0mlen\u001b[0m\u001b[0;34m(\u001b[0m\u001b[0mdataset\u001b[0m\u001b[0;34m.\u001b[0m\u001b[0mdims\u001b[0m\u001b[0;34m)\u001b[0m \u001b[0;34m==\u001b[0m \u001b[0;36m0\u001b[0m\u001b[0;34m:\u001b[0m\u001b[0;34m\u001b[0m\u001b[0;34m\u001b[0m\u001b[0m\n",
      "\u001b[0;32m/notebooks/utils/data_cube_utilities/data_access_api.py\u001b[0m in \u001b[0;36mget_dataset_by_extent\u001b[0;34m(self, product, product_type, platform, time, longitude, latitude, measurements, output_crs, resolution, dask_chunks, **kwargs)\u001b[0m\n\u001b[1;32m     93\u001b[0m             \u001b[0mresolution\u001b[0m\u001b[0;34m=\u001b[0m\u001b[0mresolution\u001b[0m\u001b[0;34m,\u001b[0m\u001b[0;34m\u001b[0m\u001b[0;34m\u001b[0m\u001b[0m\n\u001b[1;32m     94\u001b[0m             \u001b[0mdask_chunks\u001b[0m\u001b[0;34m=\u001b[0m\u001b[0mdask_chunks\u001b[0m\u001b[0;34m,\u001b[0m\u001b[0;34m\u001b[0m\u001b[0;34m\u001b[0m\u001b[0m\n\u001b[0;32m---> 95\u001b[0;31m             **query)\n\u001b[0m\u001b[1;32m     96\u001b[0m         \u001b[0;32mreturn\u001b[0m \u001b[0mdata\u001b[0m\u001b[0;34m\u001b[0m\u001b[0;34m\u001b[0m\u001b[0m\n\u001b[1;32m     97\u001b[0m \u001b[0;34m\u001b[0m\u001b[0m\n",
      "\u001b[0;32m/env/lib/python3.6/site-packages/datacube/api/core.py\u001b[0m in \u001b[0;36mload\u001b[0;34m(self, product, measurements, output_crs, resolution, resampling, skip_broken_datasets, dask_chunks, like, fuse_func, align, datasets, progress_cbk, **query)\u001b[0m\n\u001b[1;32m    290\u001b[0m \u001b[0;34m\u001b[0m\u001b[0m\n\u001b[1;32m    291\u001b[0m         \u001b[0;32mif\u001b[0m \u001b[0mdatasets\u001b[0m \u001b[0;32mis\u001b[0m \u001b[0;32mNone\u001b[0m\u001b[0;34m:\u001b[0m\u001b[0;34m\u001b[0m\u001b[0;34m\u001b[0m\u001b[0m\n\u001b[0;32m--> 292\u001b[0;31m             \u001b[0mdatasets\u001b[0m \u001b[0;34m=\u001b[0m \u001b[0mself\u001b[0m\u001b[0;34m.\u001b[0m\u001b[0mfind_datasets\u001b[0m\u001b[0;34m(\u001b[0m\u001b[0mproduct\u001b[0m\u001b[0;34m=\u001b[0m\u001b[0mproduct\u001b[0m\u001b[0;34m,\u001b[0m \u001b[0mlike\u001b[0m\u001b[0;34m=\u001b[0m\u001b[0mlike\u001b[0m\u001b[0;34m,\u001b[0m \u001b[0mensure_location\u001b[0m\u001b[0;34m=\u001b[0m\u001b[0;32mTrue\u001b[0m\u001b[0;34m,\u001b[0m \u001b[0;34m**\u001b[0m\u001b[0mquery\u001b[0m\u001b[0;34m)\u001b[0m\u001b[0;34m\u001b[0m\u001b[0;34m\u001b[0m\u001b[0m\n\u001b[0m\u001b[1;32m    293\u001b[0m         \u001b[0;32melif\u001b[0m \u001b[0misinstance\u001b[0m\u001b[0;34m(\u001b[0m\u001b[0mdatasets\u001b[0m\u001b[0;34m,\u001b[0m \u001b[0mcollections\u001b[0m\u001b[0;34m.\u001b[0m\u001b[0mabc\u001b[0m\u001b[0;34m.\u001b[0m\u001b[0mIterator\u001b[0m\u001b[0;34m)\u001b[0m\u001b[0;34m:\u001b[0m\u001b[0;34m\u001b[0m\u001b[0;34m\u001b[0m\u001b[0m\n\u001b[1;32m    294\u001b[0m             \u001b[0mdatasets\u001b[0m \u001b[0;34m=\u001b[0m \u001b[0mlist\u001b[0m\u001b[0;34m(\u001b[0m\u001b[0mdatasets\u001b[0m\u001b[0;34m)\u001b[0m\u001b[0;34m\u001b[0m\u001b[0;34m\u001b[0m\u001b[0m\n",
      "\u001b[0;32m/env/lib/python3.6/site-packages/datacube/api/core.py\u001b[0m in \u001b[0;36mfind_datasets\u001b[0;34m(self, **search_terms)\u001b[0m\n\u001b[1;32m    329\u001b[0m         \u001b[0;34m.\u001b[0m\u001b[0;34m.\u001b[0m \u001b[0mseealso\u001b[0m\u001b[0;34m:\u001b[0m\u001b[0;34m:\u001b[0m \u001b[0;34m:\u001b[0m\u001b[0mmeth\u001b[0m\u001b[0;34m:\u001b[0m\u001b[0;31m`\u001b[0m\u001b[0mgroup_datasets\u001b[0m\u001b[0;31m`\u001b[0m \u001b[0;34m:\u001b[0m\u001b[0mmeth\u001b[0m\u001b[0;34m:\u001b[0m\u001b[0;31m`\u001b[0m\u001b[0mload_data\u001b[0m\u001b[0;31m`\u001b[0m \u001b[0;34m:\u001b[0m\u001b[0mmeth\u001b[0m\u001b[0;34m:\u001b[0m\u001b[0;31m`\u001b[0m\u001b[0mfind_datasets_lazy\u001b[0m\u001b[0;31m`\u001b[0m\u001b[0;34m\u001b[0m\u001b[0;34m\u001b[0m\u001b[0m\n\u001b[1;32m    330\u001b[0m         \"\"\"\n\u001b[0;32m--> 331\u001b[0;31m         \u001b[0;32mreturn\u001b[0m \u001b[0mlist\u001b[0m\u001b[0;34m(\u001b[0m\u001b[0mself\u001b[0m\u001b[0;34m.\u001b[0m\u001b[0mfind_datasets_lazy\u001b[0m\u001b[0;34m(\u001b[0m\u001b[0;34m**\u001b[0m\u001b[0msearch_terms\u001b[0m\u001b[0;34m)\u001b[0m\u001b[0;34m)\u001b[0m\u001b[0;34m\u001b[0m\u001b[0;34m\u001b[0m\u001b[0m\n\u001b[0m\u001b[1;32m    332\u001b[0m \u001b[0;34m\u001b[0m\u001b[0m\n\u001b[1;32m    333\u001b[0m     \u001b[0;32mdef\u001b[0m \u001b[0mfind_datasets_lazy\u001b[0m\u001b[0;34m(\u001b[0m\u001b[0mself\u001b[0m\u001b[0;34m,\u001b[0m \u001b[0mlimit\u001b[0m\u001b[0;34m=\u001b[0m\u001b[0;32mNone\u001b[0m\u001b[0;34m,\u001b[0m \u001b[0mensure_location\u001b[0m\u001b[0;34m=\u001b[0m\u001b[0;32mFalse\u001b[0m\u001b[0;34m,\u001b[0m \u001b[0;34m**\u001b[0m\u001b[0mkwargs\u001b[0m\u001b[0;34m)\u001b[0m\u001b[0;34m:\u001b[0m\u001b[0;34m\u001b[0m\u001b[0;34m\u001b[0m\u001b[0m\n",
      "\u001b[0;32m/env/lib/python3.6/site-packages/datacube/api/core.py\u001b[0m in \u001b[0;36m<genexpr>\u001b[0;34m(.0)\u001b[0m\n\u001b[1;32m    354\u001b[0m \u001b[0;34m\u001b[0m\u001b[0m\n\u001b[1;32m    355\u001b[0m         \u001b[0;32mif\u001b[0m \u001b[0mensure_location\u001b[0m\u001b[0;34m:\u001b[0m\u001b[0;34m\u001b[0m\u001b[0;34m\u001b[0m\u001b[0m\n\u001b[0;32m--> 356\u001b[0;31m             \u001b[0mdatasets\u001b[0m \u001b[0;34m=\u001b[0m \u001b[0;34m(\u001b[0m\u001b[0mdataset\u001b[0m \u001b[0;32mfor\u001b[0m \u001b[0mdataset\u001b[0m \u001b[0;32min\u001b[0m \u001b[0mdatasets\u001b[0m \u001b[0;32mif\u001b[0m \u001b[0mdataset\u001b[0m\u001b[0;34m.\u001b[0m\u001b[0muris\u001b[0m\u001b[0;34m)\u001b[0m\u001b[0;34m\u001b[0m\u001b[0;34m\u001b[0m\u001b[0m\n\u001b[0m\u001b[1;32m    357\u001b[0m \u001b[0;34m\u001b[0m\u001b[0m\n\u001b[1;32m    358\u001b[0m         \u001b[0;32mreturn\u001b[0m \u001b[0mdatasets\u001b[0m\u001b[0;34m\u001b[0m\u001b[0;34m\u001b[0m\u001b[0m\n",
      "\u001b[0;32m/env/lib/python3.6/site-packages/datacube/index/_datasets.py\u001b[0m in \u001b[0;36msearch\u001b[0;34m(self, limit, **query)\u001b[0m\n\u001b[1;32m    510\u001b[0m         for product, datasets in self._do_search_by_product(query,\n\u001b[1;32m    511\u001b[0m                                                             \u001b[0msource_filter\u001b[0m\u001b[0;34m=\u001b[0m\u001b[0msource_filter\u001b[0m\u001b[0;34m,\u001b[0m\u001b[0;34m\u001b[0m\u001b[0;34m\u001b[0m\u001b[0m\n\u001b[0;32m--> 512\u001b[0;31m                                                             limit=limit):\n\u001b[0m\u001b[1;32m    513\u001b[0m             \u001b[0;32myield\u001b[0m \u001b[0;32mfrom\u001b[0m \u001b[0mself\u001b[0m\u001b[0;34m.\u001b[0m\u001b[0m_make_many\u001b[0m\u001b[0;34m(\u001b[0m\u001b[0mdatasets\u001b[0m\u001b[0;34m,\u001b[0m \u001b[0mproduct\u001b[0m\u001b[0;34m)\u001b[0m\u001b[0;34m\u001b[0m\u001b[0;34m\u001b[0m\u001b[0m\n\u001b[1;32m    514\u001b[0m \u001b[0;34m\u001b[0m\u001b[0m\n",
      "\u001b[0;32m/env/lib/python3.6/site-packages/datacube/index/_datasets.py\u001b[0m in \u001b[0;36m_do_search_by_product\u001b[0;34m(self, query, return_fields, select_field_names, with_source_ids, source_filter, limit)\u001b[0m\n\u001b[1;32m    633\u001b[0m         \u001b[0mproduct_queries\u001b[0m \u001b[0;34m=\u001b[0m \u001b[0mlist\u001b[0m\u001b[0;34m(\u001b[0m\u001b[0mself\u001b[0m\u001b[0;34m.\u001b[0m\u001b[0m_get_product_queries\u001b[0m\u001b[0;34m(\u001b[0m\u001b[0mquery\u001b[0m\u001b[0;34m)\u001b[0m\u001b[0;34m)\u001b[0m\u001b[0;34m\u001b[0m\u001b[0;34m\u001b[0m\u001b[0m\n\u001b[1;32m    634\u001b[0m         \u001b[0;32mif\u001b[0m \u001b[0;32mnot\u001b[0m \u001b[0mproduct_queries\u001b[0m\u001b[0;34m:\u001b[0m\u001b[0;34m\u001b[0m\u001b[0;34m\u001b[0m\u001b[0m\n\u001b[0;32m--> 635\u001b[0;31m             \u001b[0;32mraise\u001b[0m \u001b[0mValueError\u001b[0m\u001b[0;34m(\u001b[0m\u001b[0;34m'No products match search terms: %r'\u001b[0m \u001b[0;34m%\u001b[0m \u001b[0mquery\u001b[0m\u001b[0;34m)\u001b[0m\u001b[0;34m\u001b[0m\u001b[0;34m\u001b[0m\u001b[0m\n\u001b[0m\u001b[1;32m    636\u001b[0m \u001b[0;34m\u001b[0m\u001b[0m\n\u001b[1;32m    637\u001b[0m         \u001b[0;32mfor\u001b[0m \u001b[0mq\u001b[0m\u001b[0;34m,\u001b[0m \u001b[0mproduct\u001b[0m \u001b[0;32min\u001b[0m \u001b[0mproduct_queries\u001b[0m\u001b[0;34m:\u001b[0m\u001b[0;34m\u001b[0m\u001b[0;34m\u001b[0m\u001b[0m\n",
      "\u001b[0;31mValueError\u001b[0m: No products match search terms: {'platform': 'LANDSAT_8', 'product': 'ls8_usgs_sr_scene'}"
     ]
    }
   ],
   "source": [
    "from utils.data_cube_utilities.dc_load import get_product_extents\n",
    "from utils.data_cube_utilities.dc_time import dt_to_str\n",
    "\n",
    "full_lat, full_lon, min_max_dates = get_product_extents(api, platform, product)\n",
    "\n",
    "# Print the extents of the data.\n",
    "print(\"Latitude Extents:\", full_lat)\n",
    "print(\"Longitude Extents:\", full_lon)\n",
    "print(\"Time Extents:\", list(map(dt_to_str, (min_max_dates[0], min_max_dates[1]))))"
   ]
  },
  {
   "cell_type": "markdown",
   "metadata": {},
   "source": [
    "**Visualize the available area**"
   ]
  },
  {
   "cell_type": "code",
   "execution_count": 4,
   "metadata": {},
   "outputs": [
    {
     "data": {
      "text/html": [
       "<div style=\"width:100%;\"><div style=\"position:relative;width:100%;height:0;padding-bottom:60%;\"><iframe src=\"data:text/html;charset=utf-8;base64,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\" style=\"position:absolute;width:100%;height:100%;left:0;top:0;border:none !important;\" allowfullscreen webkitallowfullscreen mozallowfullscreen></iframe></div></div>"
      ],
      "text/plain": [
       "<folium.folium.Map at 0x7efdbc4b3ba8>"
      ]
     },
     "execution_count": 4,
     "metadata": {},
     "output_type": "execute_result"
    }
   ],
   "source": [
    "from utils.data_cube_utilities.dc_display_map import display_map\n",
    "display_map(full_lat, full_lon)"
   ]
  },
  {
   "cell_type": "markdown",
   "metadata": {},
   "source": [
    "## <span id=\"chunking_demo_define_extents\">Define the Extents of the Analysis [&#9652;](#chunking_demo_top)</span>"
   ]
  },
  {
   "cell_type": "markdown",
   "metadata": {},
   "source": [
    "<p style=\"color:red\";><b>CHANGE INPUTS BELOW"
   ]
  },
  {
   "cell_type": "code",
   "execution_count": 5,
   "metadata": {},
   "outputs": [],
   "source": [
    "# Select an analysis region (Lat-Lon) within the extents listed above. \n",
    "# Be sure you check whether you are using L7 or L8 as the time extents are very different\n",
    "# Select a time period (Min-Max) within the extents listed above (Year-Month-Day)\n",
    "# This region and time period will be used for the water assessment\n",
    "\n",
    "# Southern Lake Guiers - Senegal\n",
    "# lat = (15.9785, 16.1316 ) \n",
    "# lon = (-15.9789, -15.8519) \n",
    "\n",
    "# Northern Lake Guiers - Senegal\n",
    "# lat =  (16.1555, 16.397 ) \n",
    "# lon = (-15.9047, -15.7184) \n",
    "\n",
    "# Lake Guiers - Senegal\n",
    "# lat = (15.925, 16.40)\n",
    "# lon = (-15.975, -15.75)\n",
    "\n",
    "# Random Lake - Senegal\n",
    "# lat =  (14.8695, 14.8954 ) \n",
    "# lon = (-17.0633, -17.0431) \n",
    "\n",
    "# Lake Retba - Senegal\n",
    "lat =  (14.7543, 14.7721) \n",
    "lon = (-17.4143, -17.3948)\n",
    "\n",
    "# East of Niokolo bar, Senegal\n",
    "#lat = (13.1710, 13.2304)\n",
    "#lon  = (-12.1627, -12.0930)\n",
    "#time_extents = ('01/02/2000', '01/24/2018')\n",
    "\n",
    "# Mako Forest, Senegal\n",
    "# lat = (12.7774, 12.9963)\n",
    "# lon = (-12.5275, -12.2780)\n",
    "\n",
    "# Niokolo koba, Senegal\n",
    "# lat = (12.5431, 13.4464)\n",
    "# lon = (-13.7666, -12.2484)\n",
    "\n",
    "time_extents = ('01/01/2016', '12/31/2016') # MM/DD/YYYY"
   ]
  },
  {
   "cell_type": "markdown",
   "metadata": {},
   "source": [
    "**Visualize the available area**"
   ]
  },
  {
   "cell_type": "code",
   "execution_count": 6,
   "metadata": {},
   "outputs": [
    {
     "data": {
      "text/html": [
       "<div style=\"width:100%;\"><div style=\"position:relative;width:100%;height:0;padding-bottom:60%;\"><iframe src=\"data:text/html;charset=utf-8;base64,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\" style=\"position:absolute;width:100%;height:100%;left:0;top:0;border:none !important;\" allowfullscreen webkitallowfullscreen mozallowfullscreen></iframe></div></div>"
      ],
      "text/plain": [
       "<folium.folium.Map at 0x7efd914b5978>"
      ]
     },
     "execution_count": 6,
     "metadata": {},
     "output_type": "execute_result"
    }
   ],
   "source": [
    "display_map(lat, lon)"
   ]
  },
  {
   "cell_type": "markdown",
   "metadata": {},
   "source": [
    "## <span id=\"chunking_demo_load\">Load Data from the Data Cube [&#9652;](#chunking_demo_top)</span>"
   ]
  },
  {
   "cell_type": "markdown",
   "metadata": {},
   "source": [
    "Large data sets must be broken up into smaller geographic \"chunks\" and processed one at at time. If you see a `MemoryError`, chunking may be the appropriate solution.\n",
    "\n",
    "The basic chunking process is:\n",
    "1. Perform a load of the full analysis region without measurements to get metadata needed for chunking.\n",
    "2. Create a result `DataArray` that is large enough to hold the output (WOFS percentages in this case) for the entire\n",
    "   analysis region.\n",
    "3. Split the dataset into smaller geographic chunks.\n",
    "4. Mask out the clouds from each chunk.\n",
    "5. Run WOFS on the chunk.\n",
    "6. Add the results to the result `DataArray`."
   ]
  },
  {
   "cell_type": "code",
   "execution_count": 7,
   "metadata": {},
   "outputs": [],
   "source": [
    "# loading with no measurements loads coordinates and dimensions only. \n",
    "# We can use this to properly size our result dataset.\n",
    "metadata = dc.load(latitude = lat, longitude = lon,\n",
    "                   platform = platform,\n",
    "                   time = time_extents,\n",
    "                   product = product,\n",
    "                   measurements = []) "
   ]
  },
  {
   "cell_type": "markdown",
   "metadata": {},
   "source": [
    "After loading, you will view the xarray `Dataset`. Notice the dimensions represent the number of pixels in your latitude and longitude dimension as well as the number of time slices (time) in your time series."
   ]
  },
  {
   "cell_type": "code",
   "execution_count": 8,
   "metadata": {},
   "outputs": [
    {
     "data": {
      "text/plain": [
       "<xarray.Dataset>\n",
       "Dimensions:    (latitude: 65, longitude: 71, time: 38)\n",
       "Coordinates:\n",
       "  * time       (time) datetime64[ns] 2016-01-11T11:27:32.609017 ... 2016-12-28T11:27:42.189137\n",
       "  * latitude   (latitude) float64 14.77 14.77 14.77 14.77 ... 14.75 14.75 14.75\n",
       "  * longitude  (longitude) float64 -17.41 -17.41 -17.41 ... -17.4 -17.4 -17.39\n",
       "Data variables:\n",
       "    *empty*\n",
       "Attributes:\n",
       "    crs:      EPSG:4326"
      ]
     },
     "execution_count": 8,
     "metadata": {},
     "output_type": "execute_result"
    }
   ],
   "source": [
    "metadata"
   ]
  },
  {
   "cell_type": "markdown",
   "metadata": {},
   "source": [
    "Here we create a `DataArray` that is large enough to hold the WOFS percentages for the entire analysis region. Only the latitude and longitude dimensions are of interest in the final result so we drop the time dimension to save memory."
   ]
  },
  {
   "cell_type": "code",
   "execution_count": 9,
   "metadata": {},
   "outputs": [],
   "source": [
    "num_lats, num_lons = [metadata.dims[key] for key in ['latitude', 'longitude']]\n",
    "metadata_coords = dict(metadata.coords)\n",
    "del metadata_coords['time']\n",
    "water_percents = xr.DataArray(np.full((num_lats, num_lons), np.nan), \n",
    "                              dims=('latitude', 'longitude'), \n",
    "                              coords=metadata_coords, attrs=metadata.attrs)"
   ]
  },
  {
   "cell_type": "markdown",
   "metadata": {},
   "source": [
    "The analysis region is split into smaller chunks according to the given `geographic_chunk_size` in degrees. For larger time ranges a smaller `geographic_chunk_size` should be used. However, the smaller the chunk size the longer the notebook will take to run as it will spend more time loading data from the datacube which is an expensive operation."
   ]
  },
  {
   "cell_type": "code",
   "execution_count": 10,
   "metadata": {},
   "outputs": [],
   "source": [
    "from utils.data_cube_utilities.dc_chunker import create_geographic_chunks\n",
    "\n",
    "geographic_chunks = create_geographic_chunks(latitude=lat, longitude=lon, \n",
    "                                             geographic_chunk_size=0.05)"
   ]
  },
  {
   "cell_type": "markdown",
   "metadata": {},
   "source": [
    "Each geographic chunk is loaded from the datacube, the clouds are masked out, and the WOFS percentages are computed for that chunk. The results are copied into the corresponding chunk of the `water_percents` result `DataArray`."
   ]
  },
  {
   "cell_type": "code",
   "execution_count": 11,
   "metadata": {},
   "outputs": [
    {
     "name": "stdout",
     "output_type": "stream",
     "text": [
      "Processed 1 out of 1 chunks (100.00%)."
     ]
    }
   ],
   "source": [
    "from utils.data_cube_utilities.clean_mask import landsat_qa_clean_mask\n",
    "from utils.data_cube_utilities.dc_water_classifier import wofs_classify\n",
    "\n",
    "measurements = ['red', 'green', 'blue', 'nir', 'swir1', 'swir2', 'pixel_qa']\n",
    "for chunk_ind, geographic_chunk in enumerate(geographic_chunks):\n",
    "    lon_chunk, lat_chunk = geographic_chunk.values()\n",
    "    dataset_chunk = dc.load(latitude = lat_chunk, longitude = lon_chunk,\n",
    "                            platform = platform,\n",
    "                            time = time_extents,\n",
    "                            product = product,\n",
    "                            measurements = measurements)\n",
    "    if not len(dataset_chunk) == 0: # If this chunk has any data...\n",
    "        # `clean_mask_chunk` keeps clear views of land and water (no clouds).\n",
    "        clean_mask_chunk = landsat_qa_clean_mask(dataset_chunk, platform=platform)\n",
    "        dataset_chunk = dataset_chunk.drop('pixel_qa').where(clean_mask_chunk)\n",
    "        wofs_chunk = wofs_classify(dataset_chunk, clean_mask=clean_mask_chunk.values)\n",
    "        wofs_chunk = wofs_chunk.where(wofs_chunk != -9999)\n",
    "        water_percents_chunk = (wofs_chunk.mean(dim = ['time']) * 100).wofs.rename('water_percents_chunk')\n",
    "        chunk_selector = {'latitude':slice(*lat_chunk[::-1]), \n",
    "                          'longitude':slice(*lon_chunk)}\n",
    "        water_percents.loc[chunk_selector].values[:] = \\\n",
    "            water_percents_chunk.loc[chunk_selector].values\n",
    "        \n",
    "    print(\"\\rProcessed {} out of {} chunks ({:.2%}).\"\n",
    "          .format(chunk_ind+1, len(geographic_chunks), \n",
    "                  (chunk_ind+1)/len(geographic_chunks)), end='')"
   ]
  },
  {
   "cell_type": "markdown",
   "metadata": {},
   "source": [
    "## <span id=\"chunking_demo_analysis\">Time Series Water Detection Analysis [&#9652;](#chunking_demo_top)</span>\n",
    "Time series output of the Australian Water Detection from Space (WOFS) results. The results show the percent of time that a pixel is classified as water over the entire time series. BLUE = frequent water, RED = infrequent water."
   ]
  },
  {
   "cell_type": "code",
   "execution_count": 12,
   "metadata": {},
   "outputs": [],
   "source": [
    "# import color-scheme and set nans to black\n",
    "from matplotlib.cm import jet_r as jet_r\n",
    "jet_r.set_under('black',1)"
   ]
  },
  {
   "cell_type": "code",
   "execution_count": 13,
   "metadata": {},
   "outputs": [
    {
     "data": {
      "image/png": "[encoded data removed]",
      "text/plain": [
       "<Figure size 1008x864 with 2 Axes>"
      ]
     },
     "metadata": {
      "needs_background": "light"
     },
     "output_type": "display_data"
    }
   ],
   "source": [
    "# This is where the WOFS time series product is generated. \n",
    "# Areas of RED have experienced little or no water over the time series\n",
    "# Areas of BLUE have experience significant or constant water over the time series\n",
    "\n",
    "# The \"figsize\" may need adjustment to get the proper scaling and avoid distortion. \n",
    "# See the XARRAY dimensions above to get an idea of the Lat-Lon ratio for your image, figsize=(x,y)\n",
    "# The y-axis scale and legend is part of the image area, so that needs to be considered\n",
    "# It is suggested to keep the x-dimension at x=12. \n",
    "\n",
    "water_percents.plot(cmap = jet_r, vmin=0.001, figsize=(14,12))\n",
    "plt.show()"
   ]
  },
  {
   "cell_type": "markdown",
   "metadata": {},
   "source": [
    "## <span id=\"chunking_demo_export\">Create GeoTIFF Output Products [&#9652;](#chunking_demo_top)</span>"
   ]
  },
  {
   "cell_type": "code",
   "execution_count": 14,
   "metadata": {
    "scrolled": true
   },
   "outputs": [],
   "source": [
    "# Save the water percentage data to a GeoTIFF\n",
    "from utils.data_cube_utilities.import_export import export_slice_to_geotiff\n",
    "\n",
    "# ts_water_classification\n",
    "dataset_to_export = xr.Dataset(coords=water_percents.coords,attrs=water_percents.attrs)\n",
    "dataset_to_export['wofs_pct'] = (water_percents/100).astype(np.float32)"
   ]
  },
  {
   "cell_type": "code",
   "execution_count": 15,
   "metadata": {},
   "outputs": [],
   "source": [
    "import os\n",
    "\n",
    "output_dir = 'output/geotiffs'\n",
    "if not os.path.exists(output_dir):\n",
    "    os.makedirs(output_dir)\n",
    "# The export command below is commented out to avoid overwriting files. \n",
    "# If you would like to export data, please check the file path before uncommenting the line\n",
    "# to ensure no files are accidentally lost.\n",
    "export_slice_to_geotiff(dataset_to_export, output_dir + '/Chunking_Demo_WOFS.tif')"
   ]
  },
  {
   "cell_type": "code",
   "execution_count": 16,
   "metadata": {},
   "outputs": [
    {
     "name": "stdout",
     "output_type": "stream",
     "text": [
      "-rw-r--r-- 1 jovyan users 19K May 21 16:21 output/geotiffs/Chunking_Demo_WOFS.tif\n"
     ]
    }
   ],
   "source": [
    "!ls -lah output/geotiffs/Chunking_Demo_WOFS.tif"
   ]
  },
  {
   "cell_type": "code",
   "execution_count": 17,
   "metadata": {
    "pycharm": {
     "name": "#%%\n"
    }
   },
   "outputs": [
    {
     "name": "stdout",
     "output_type": "stream",
     "text": [
      "Driver: GTiff/GeoTIFF\n",
      "Files: output/geotiffs/Chunking_Demo_WOFS.tif\n",
      "Size is 71, 65\n",
      "Coordinate System is:\n",
      "GEOGCS[\"WGS 84\",\n",
      "    DATUM[\"WGS_1984\",\n",
      "        SPHEROID[\"WGS 84\",6378137,298.257223563,\n",
      "            AUTHORITY[\"EPSG\",\"7030\"]],\n",
      "        AUTHORITY[\"EPSG\",\"6326\"]],\n",
      "    PRIMEM[\"Greenwich\",0],\n",
      "    UNIT[\"degree\",0.0174532925199433],\n",
      "    AUTHORITY[\"EPSG\",\"4326\"]]\n",
      "Origin = (-17.414305555694870,14.772083333451512)\n",
      "Pixel Size = (0.000273865414713,-0.000273504273506)\n",
      "Metadata:\n",
      "  AREA_OR_POINT=Area\n",
      "Image Structure Metadata:\n",
      "  INTERLEAVE=BAND\n",
      "Corner Coordinates:\n",
      "Upper Left  ( -17.4143056,  14.7720833) ( 17d24'51.50\"W, 14d46'19.50\"N)\n",
      "Lower Left  ( -17.4143056,  14.7543056) ( 17d24'51.50\"W, 14d45'15.50\"N)\n",
      "Upper Right ( -17.3948611,  14.7720833) ( 17d23'41.50\"W, 14d46'19.50\"N)\n",
      "Lower Right ( -17.3948611,  14.7543056) ( 17d23'41.50\"W, 14d45'15.50\"N)\n",
      "Center      ( -17.4045833,  14.7631944) ( 17d24'16.50\"W, 14d45'47.50\"N)\n",
      "Band 1 Block=71x28 Type=Float32, ColorInterp=Gray\n",
      "  NoData Value=-9999\n"
     ]
    }
   ],
   "source": [
    "!gdalinfo output/geotiffs/Chunking_Demo_WOFS.tif"
   ]
  }
 ],
 "metadata": {
  "kernelspec": {
   "display_name": "Python 3",
   "language": "python",
   "name": "python3"
  },
  "language_info": {
   "codemirror_mode": {
    "name": "ipython",
    "version": 3
   },
   "file_extension": ".py",
   "mimetype": "text/x-python",
   "name": "python",
   "nbconvert_exporter": "python",
   "pygments_lexer": "ipython3",
   "version": "3.6.9"
  },
  "pycharm": {
   "stem_cell": {
    "cell_type": "raw",
    "metadata": {
     "collapsed": false
    },
    "source": []
   }
  }
 },
 "nbformat": 4,
 "nbformat_minor": 4
}
