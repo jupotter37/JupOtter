{
  "cells": [
    {
      "cell_type": "markdown",
      "metadata": {
        "id": "S8gTUH4D-q12"
      },
      "source": [
        "<p><img src=\"https://i.postimg.cc/cCjTSn8r/ss-cumf.png\" alt=\"\" width=\"1280\" height=\"300\" /></p>"
      ]
    },
    {
      "cell_type": "markdown",
      "metadata": {
        "id": "I9y4uJNz_kvS"
      },
      "source": [
        "# **DICCIONARIOS**\n",
        "\n",
        "Son estructuras de datos no ordenadas, las cuales se representan por llave y por valor, y pueden tener múltiples elementos\n",
        "\n",
        "Consideraciones:\n",
        "\n",
        "\n",
        "1.   Si vas a asignar varios elementos en un diccionario, deben ir separados por \",\" menos el último\n",
        "2.   Las llaves son únicas\n",
        "3.   Si asigno un valor a una llave existente, no crea una nueva llave, pero sí reemplaza el valor\n",
        "4.   Las llaves pueden ser de otros tipos de datos diferentes a texto\n",
        "5.   Si la llave no existe la crea automáticamente al momento de asignar valor\n",
        "6.   Si la llave no existe y se quiere acceder a ella, genera error\n",
        "7.   Me permite manejar niveles\n",
        "8.   Los valores pueden ser cualquier tipo de dato"
      ]
    },
    {
      "cell_type": "code",
      "execution_count": 1,
      "metadata": {
        "colab": {
          "base_uri": "https://localhost:8080/"
        },
        "id": "UawIpi49-X05",
        "outputId": "c151e5f7-a12c-43ad-bca2-59c93609778b"
      },
      "outputs": [
        {
          "output_type": "stream",
          "name": "stdout",
          "text": [
            "<class 'dict'> {'llave': 'valor', 'edad': 18.5}\n"
          ]
        }
      ],
      "source": [
        "dvacio: dict = {}\n",
        "dinicializado = {\"llave\": \"valor\", \"edad\": 18.5}\n",
        "print(type(dinicializado), dinicializado)"
      ]
    },
    {
      "cell_type": "code",
      "execution_count": 2,
      "metadata": {
        "colab": {
          "base_uri": "https://localhost:8080/"
        },
        "id": "_Sxv7zWUxgnx",
        "outputId": "7cef9e5c-f76f-4b6a-d743-eb0cf1e67859"
      },
      "outputs": [
        {
          "output_type": "stream",
          "name": "stdout",
          "text": [
            "18.5\n"
          ]
        }
      ],
      "source": [
        "# llaves de primer nivel\n",
        "# acceso elemental propenso a errores\n",
        "print(dinicializado[\"edad\"])"
      ]
    },
    {
      "cell_type": "code",
      "execution_count": 3,
      "metadata": {
        "colab": {
          "base_uri": "https://localhost:8080/",
          "height": 193
        },
        "id": "QPT20gQQx3Sy",
        "outputId": "36f23f00-3d63-4d3c-b15f-8dd29fab847c"
      },
      "outputs": [
        {
          "output_type": "error",
          "ename": "AttributeError",
          "evalue": "ignored",
          "traceback": [
            "\u001b[0;31m---------------------------------------------------------------------------\u001b[0m",
            "\u001b[0;31mAttributeError\u001b[0m                            Traceback (most recent call last)",
            "\u001b[0;32m<ipython-input-3-9fa96404c558>\u001b[0m in \u001b[0;36m<cell line: 2>\u001b[0;34m()\u001b[0m\n\u001b[1;32m      1\u001b[0m \u001b[0;31m# forma no permitida\u001b[0m\u001b[0;34m\u001b[0m\u001b[0;34m\u001b[0m\u001b[0m\n\u001b[0;32m----> 2\u001b[0;31m \u001b[0mprint\u001b[0m\u001b[0;34m(\u001b[0m\u001b[0mdinicializado\u001b[0m\u001b[0;34m.\u001b[0m\u001b[0medad\u001b[0m\u001b[0;34m)\u001b[0m\u001b[0;34m\u001b[0m\u001b[0;34m\u001b[0m\u001b[0m\n\u001b[0m",
            "\u001b[0;31mAttributeError\u001b[0m: 'dict' object has no attribute 'edad'"
          ]
        }
      ],
      "source": [
        "# forma no permitida\n",
        "print(dinicializado.edad)"
      ]
    },
    {
      "cell_type": "code",
      "execution_count": 4,
      "metadata": {
        "colab": {
          "base_uri": "https://localhost:8080/",
          "height": 211
        },
        "id": "xmcCymsEyHCH",
        "outputId": "11c18e43-f9da-49cb-dbf7-29a3c85f99e7"
      },
      "outputs": [
        {
          "output_type": "stream",
          "name": "stdout",
          "text": [
            "{'llave': 'valor', 'edad': 18.5}\n"
          ]
        },
        {
          "output_type": "error",
          "ename": "KeyError",
          "evalue": "ignored",
          "traceback": [
            "\u001b[0;31m---------------------------------------------------------------------------\u001b[0m",
            "\u001b[0;31mKeyError\u001b[0m                                  Traceback (most recent call last)",
            "\u001b[0;32m<ipython-input-4-793af09d1f92>\u001b[0m in \u001b[0;36m<cell line: 2>\u001b[0;34m()\u001b[0m\n\u001b[1;32m      1\u001b[0m \u001b[0mprint\u001b[0m\u001b[0;34m(\u001b[0m\u001b[0mdinicializado\u001b[0m\u001b[0;34m)\u001b[0m\u001b[0;34m\u001b[0m\u001b[0;34m\u001b[0m\u001b[0m\n\u001b[0;32m----> 2\u001b[0;31m \u001b[0mprint\u001b[0m\u001b[0;34m(\u001b[0m\u001b[0mdinicializado\u001b[0m\u001b[0;34m[\u001b[0m\u001b[0;34m\"dígame_el_futuro\"\u001b[0m\u001b[0;34m]\u001b[0m\u001b[0;34m)\u001b[0m\u001b[0;34m\u001b[0m\u001b[0;34m\u001b[0m\u001b[0m\n\u001b[0m",
            "\u001b[0;31mKeyError\u001b[0m: 'dígame_el_futuro'"
          ]
        }
      ],
      "source": [
        "print(dinicializado)\n",
        "print(dinicializado[\"dígame_el_futuro\"])"
      ]
    },
    {
      "cell_type": "markdown",
      "metadata": {
        "id": "2Y08FgocyZ6j"
      },
      "source": [
        "## **GET**\n",
        "\n",
        "Recomendada cuando se tenga incertidumbre\n",
        "\n",
        "\n",
        "Nota: no queda almacenado en el diccionario\n",
        "```\n",
        "# nota: cualquier tipo de dato\n",
        "diccionario.get(\"llave\", \"valor en caso de que no exita la llave\")\n",
        "```\n",
        "\n"
      ]
    },
    {
      "cell_type": "code",
      "execution_count": 5,
      "metadata": {
        "colab": {
          "base_uri": "https://localhost:8080/"
        },
        "id": "ApCrHyTgyYcf",
        "outputId": "75dc9592-9d97-4e1c-9c28-a33a22e9c8cb"
      },
      "outputs": [
        {
          "output_type": "stream",
          "name": "stdout",
          "text": [
            "{'llave': 'valor', 'edad': 18.5}\n",
            "sacan 5, si estudian.\n"
          ]
        }
      ],
      "source": [
        "print(dinicializado)\n",
        "print(dinicializado.get(\"dígame_el_futuro\", \"sacan 5, si estudian.\"))"
      ]
    },
    {
      "cell_type": "code",
      "execution_count": 6,
      "metadata": {
        "colab": {
          "base_uri": "https://localhost:8080/"
        },
        "id": "InKXluwxzdMU",
        "outputId": "b71805d2-a897-44b1-b74c-98e3445bf51d"
      },
      "outputs": [
        {
          "output_type": "stream",
          "name": "stdout",
          "text": [
            "{'llave': 'valor', 'edad': 18.5}\n",
            "18.5\n",
            "{'llave': 'valor', 'edad': 18.5}\n"
          ]
        }
      ],
      "source": [
        "print(dinicializado)\n",
        "print(dinicializado.get(\"edad\", True))\n",
        "print(dinicializado)"
      ]
    },
    {
      "cell_type": "code",
      "execution_count": 7,
      "metadata": {
        "colab": {
          "base_uri": "https://localhost:8080/"
        },
        "id": "raG9DShQAACG",
        "outputId": "a8ff1b62-185d-46ad-f76f-ba309482d0cc"
      },
      "outputs": [
        {
          "output_type": "execute_result",
          "data": {
            "text/plain": [
              "-1"
            ]
          },
          "metadata": {},
          "execution_count": 7
        }
      ],
      "source": [
        "# forma 1 | pregunta\n",
        "dinicializado.get(\"fafa\", -1)"
      ]
    },
    {
      "cell_type": "markdown",
      "metadata": {
        "id": "bDxBLJUK0Gst"
      },
      "source": [
        "## **KEYS**\n",
        "\n",
        "Solamente traen los elementos del primer nivel"
      ]
    },
    {
      "cell_type": "code",
      "execution_count": 8,
      "metadata": {
        "colab": {
          "base_uri": "https://localhost:8080/"
        },
        "id": "KNAL34Y80FnR",
        "outputId": "cfba4308-ca69-45a1-8321-5dbdfe567bf9"
      },
      "outputs": [
        {
          "output_type": "stream",
          "name": "stdout",
          "text": [
            "{'llave': 'valor', 'edad': 18.5}\n",
            "dict_keys(['llave', 'edad'])\n",
            "['llave', 'edad']\n"
          ]
        }
      ],
      "source": [
        "print(dinicializado)\n",
        "print(dinicializado.keys())\n",
        "print(list(dinicializado.keys()))"
      ]
    },
    {
      "cell_type": "markdown",
      "metadata": {
        "id": "50ZwrYLO0isR"
      },
      "source": [
        "## **VALUES**\n",
        "\n",
        "Solamente traen los elementos del primer nivel"
      ]
    },
    {
      "cell_type": "code",
      "execution_count": 9,
      "metadata": {
        "colab": {
          "base_uri": "https://localhost:8080/"
        },
        "id": "jiCoYSJe0jDA",
        "outputId": "c4e9c7af-c403-4b1a-f425-d8854b1eba70"
      },
      "outputs": [
        {
          "output_type": "stream",
          "name": "stdout",
          "text": [
            "{'llave': 'valor', 'edad': 18.5}\n",
            "dict_values(['valor', 18.5])\n",
            "['valor', 18.5]\n"
          ]
        }
      ],
      "source": [
        "print(dinicializado)\n",
        "print(dinicializado.values())\n",
        "print(list(dinicializado.values()))"
      ]
    },
    {
      "cell_type": "markdown",
      "metadata": {
        "id": "748jQ6wl007e"
      },
      "source": [
        "## **ITEMS**"
      ]
    },
    {
      "cell_type": "code",
      "execution_count": 10,
      "metadata": {
        "colab": {
          "base_uri": "https://localhost:8080/"
        },
        "id": "P3MYDuci00f8",
        "outputId": "416f552c-c1b2-444c-8544-b7baf6072cc9"
      },
      "outputs": [
        {
          "output_type": "stream",
          "name": "stdout",
          "text": [
            "{'llave': 'valor', 'edad': 18.5}\n",
            "dict_items([('llave', 'valor'), ('edad', 18.5)])\n",
            "[('llave', 'valor'), ('edad', 18.5)]\n"
          ]
        }
      ],
      "source": [
        "print(dinicializado)\n",
        "print(dinicializado.items())\n",
        "items = list(dinicializado.items())\n",
        "print(items)"
      ]
    },
    {
      "cell_type": "code",
      "execution_count": 11,
      "metadata": {
        "colab": {
          "base_uri": "https://localhost:8080/"
        },
        "id": "vj9_jI2r1erB",
        "outputId": "4df684e2-3b24-47d2-e0ca-360151273e8b"
      },
      "outputs": [
        {
          "output_type": "stream",
          "name": "stdout",
          "text": [
            "('llave', 'valor')\n",
            "llave\n"
          ]
        }
      ],
      "source": [
        "print(items[0])\n",
        "print(items[0][0])"
      ]
    },
    {
      "cell_type": "code",
      "execution_count": 12,
      "metadata": {
        "colab": {
          "base_uri": "https://localhost:8080/"
        },
        "id": "0zNg4afZ2G2T",
        "outputId": "560933d1-f9c9-4238-c209-545fdbdbcbca"
      },
      "outputs": [
        {
          "output_type": "stream",
          "name": "stdout",
          "text": [
            "elemento_1: ('llave', 'valor')\n",
            "elemento_2: ('edad', 18.5)\n"
          ]
        }
      ],
      "source": [
        "elemento_1, elemento_2 = list(dinicializado.items())\n",
        "print(\"elemento_1:\",elemento_1)\n",
        "print(\"elemento_2:\",elemento_2)"
      ]
    },
    {
      "cell_type": "code",
      "execution_count": 13,
      "metadata": {
        "colab": {
          "base_uri": "https://localhost:8080/"
        },
        "id": "hAk8yFK92Qz3",
        "outputId": "cebac7a0-5c40-46a4-b1b5-b1fce26291e4"
      },
      "outputs": [
        {
          "output_type": "stream",
          "name": "stdout",
          "text": [
            "llave:  llave\n",
            "valor:  valor\n",
            "llave:  edad\n",
            "valor:  18.5\n"
          ]
        }
      ],
      "source": [
        "# nivel 2\n",
        "for key, value in dinicializado.items():\n",
        "  print(\"llave: \", key)\n",
        "  print(\"valor: \", value)"
      ]
    },
    {
      "cell_type": "markdown",
      "metadata": {
        "id": "ixn32ChN2woo"
      },
      "source": [
        "\n",
        "\n",
        "```\n",
        "Antes de ':' es la llave, después de los 'valores'\n",
        "{'llave': 'valor', 'edad': 18.5}\n",
        "\n",
        "llaves:\n",
        "'llave'\n",
        "'edad'\n",
        "\n",
        "valores:\n",
        "'valor'\n",
        "18.5\n",
        "```\n",
        "\n"
      ]
    },
    {
      "cell_type": "markdown",
      "metadata": {
        "id": "z4AGiZrq3qov"
      },
      "source": [
        "## **ASIGNACIÓN**"
      ]
    },
    {
      "cell_type": "code",
      "execution_count": 14,
      "metadata": {
        "colab": {
          "base_uri": "https://localhost:8080/"
        },
        "id": "zRBSuf5k3uy6",
        "outputId": "52ce98da-cc4e-46df-85e0-dbd44617a1f9"
      },
      "outputs": [
        {
          "output_type": "stream",
          "name": "stdout",
          "text": [
            "{'llave': 'valor', 'edad': 18.5}\n",
            "{'llave': 'valor', 'edad': 18.5, 'python_level': 1}\n"
          ]
        }
      ],
      "source": [
        "print(dinicializado)\n",
        "dinicializado[\"python_level\"] = 1\n",
        "print(dinicializado)"
      ]
    },
    {
      "cell_type": "markdown",
      "metadata": {
        "id": "uADsu85Q3_2s"
      },
      "source": [
        "## **POP**"
      ]
    },
    {
      "cell_type": "code",
      "execution_count": 15,
      "metadata": {
        "colab": {
          "base_uri": "https://localhost:8080/"
        },
        "id": "s5oshMvK3_Z0",
        "outputId": "6666191b-ecb3-4a44-e3b6-4227a04fce2f"
      },
      "outputs": [
        {
          "output_type": "stream",
          "name": "stdout",
          "text": [
            "{'llave': 'valor', 'edad': 18.5, 'python_level': 1}\n",
            "{'edad': 18.5, 'python_level': 1}\n"
          ]
        }
      ],
      "source": [
        "print(dinicializado)\n",
        "dinicializado.pop('llave')\n",
        "print(dinicializado)"
      ]
    },
    {
      "cell_type": "markdown",
      "metadata": {
        "id": "1EHWGHFI5fA-"
      },
      "source": [
        "## **COPY**"
      ]
    },
    {
      "cell_type": "code",
      "execution_count": 16,
      "metadata": {
        "colab": {
          "base_uri": "https://localhost:8080/"
        },
        "id": "E37ohiO25htn",
        "outputId": "c646c4eb-1404-4002-e688-d038a86b60fa"
      },
      "outputs": [
        {
          "output_type": "stream",
          "name": "stdout",
          "text": [
            "{'edad': 18.5, 'python_level': 1}\n",
            "{'edad': 18.5, 'python_level': 1}\n"
          ]
        }
      ],
      "source": [
        "copia_a = dinicializado.copy()\n",
        "copia_b = dinicializado.copy()\n",
        "print(copia_a)\n",
        "print(copia_b)"
      ]
    },
    {
      "cell_type": "markdown",
      "metadata": {
        "id": "bdYp0s3P4RtA"
      },
      "source": [
        "## **UPDATE**"
      ]
    },
    {
      "cell_type": "code",
      "execution_count": 17,
      "metadata": {
        "colab": {
          "base_uri": "https://localhost:8080/"
        },
        "id": "KVWD7JM64QRj",
        "outputId": "9144a105-e414-4c0e-e387-ed85dc0c232c"
      },
      "outputs": [
        {
          "output_type": "stream",
          "name": "stdout",
          "text": [
            "{(6.210587535457488, -75.57099775407882): 'Parque del Poblado'}\n"
          ]
        }
      ],
      "source": [
        "# Ejemplo con información geográfica | investigar latitud y longitud, SIG\n",
        "a_concatenar = {(6.210587535457488, -75.57099775407882): \"Parque del Poblado\"}\n",
        "print(a_concatenar)"
      ]
    },
    {
      "cell_type": "code",
      "execution_count": 18,
      "metadata": {
        "colab": {
          "base_uri": "https://localhost:8080/"
        },
        "id": "G-2qwwwx8k2p",
        "outputId": "3313d189-44cd-45fb-cb84-8d32e965c220"
      },
      "outputs": [
        {
          "output_type": "stream",
          "name": "stdout",
          "text": [
            "Parque del Poblado\n"
          ]
        }
      ],
      "source": [
        "print(a_concatenar[(6.210587535457488, -75.57099775407882)])"
      ]
    },
    {
      "cell_type": "code",
      "execution_count": 19,
      "metadata": {
        "colab": {
          "base_uri": "https://localhost:8080/"
        },
        "id": "OoGGdveH3-rp",
        "outputId": "df92a2f8-0d9a-4971-93f6-77d01916dc13"
      },
      "outputs": [
        {
          "output_type": "stream",
          "name": "stdout",
          "text": [
            "antes {'edad': 18.5, 'python_level': 1}\n",
            "después {'edad': 18.5, 'python_level': 1, (6.210587535457488, -75.57099775407882): 'Parque del Poblado'}\n"
          ]
        }
      ],
      "source": [
        "print(\"antes\",copia_a )\n",
        "copia_a.update(a_concatenar)\n",
        "print(\"después\",copia_a )"
      ]
    },
    {
      "cell_type": "code",
      "execution_count": 20,
      "metadata": {
        "colab": {
          "base_uri": "https://localhost:8080/"
        },
        "id": "QzAaqpwk57KL",
        "outputId": "65969f82-8680-4fbe-e46f-2beea0ff050c"
      },
      "outputs": [
        {
          "output_type": "stream",
          "name": "stdout",
          "text": [
            "dict_keys(['edad', 'python_level', (6.210587535457488, -75.57099775407882)])\n"
          ]
        }
      ],
      "source": [
        "print(copia_a.keys())"
      ]
    },
    {
      "cell_type": "code",
      "execution_count": 21,
      "metadata": {
        "colab": {
          "base_uri": "https://localhost:8080/"
        },
        "id": "yRBPF1Fb6AKv",
        "outputId": "b28f2130-e7b3-423e-dbb0-9c2bc87a3696"
      },
      "outputs": [
        {
          "output_type": "stream",
          "name": "stdout",
          "text": [
            "dict_values([18.5, 1, 'Parque del Poblado'])\n"
          ]
        }
      ],
      "source": [
        "print(copia_a.values())"
      ]
    },
    {
      "cell_type": "markdown",
      "metadata": {
        "id": "_ftlPlGA6J6U"
      },
      "source": [
        "## **TRUCO**\n",
        "\n",
        "\n",
        "\n",
        "1.   **KEY ARGS | KARGS**: **\n",
        "2.   **ARGS**: *\n",
        "\n"
      ]
    },
    {
      "cell_type": "code",
      "execution_count": 22,
      "metadata": {
        "colab": {
          "base_uri": "https://localhost:8080/"
        },
        "id": "MJW2zhwU6H4q",
        "outputId": "bfd3da41-ad0e-4f8c-d451-b9039b98d49b"
      },
      "outputs": [
        {
          "output_type": "stream",
          "name": "stdout",
          "text": [
            "{'edad': 18.5, 'python_level': 1, (6.210587535457488, -75.57099775407882): 'Parque del Poblado'}\n"
          ]
        }
      ],
      "source": [
        "dic_final = {**copia_b, **a_concatenar}\n",
        "print(dic_final)"
      ]
    }
  ],
  "metadata": {
    "colab": {
      "provenance": [],
      "toc_visible": true
    },
    "kernelspec": {
      "display_name": "Python 3",
      "name": "python3"
    },
    "language_info": {
      "codemirror_mode": {
        "name": "ipython",
        "version": 3
      },
      "file_extension": ".py",
      "mimetype": "text/x-python",
      "name": "python",
      "nbconvert_exporter": "python",
      "pygments_lexer": "ipython3",
      "version": "3.10.7"
    }
  },
  "nbformat": 4,
  "nbformat_minor": 0
}
