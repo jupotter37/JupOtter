{
 "cells": [
  {
   "cell_type": "markdown",
   "metadata": {},
   "source": [
    "# Graph visualization\n",
    "Other options: https://stackoverflow.com/questions/59289134/constructing-networkx-graph-from-neo4j-query-result"
   ]
  },
  {
   "cell_type": "code",
   "execution_count": 11,
   "metadata": {},
   "outputs": [],
   "source": [
    "import os\n",
    "import re\n",
    "import pandas as pd\n",
    "from pathlib import Path\n",
    "from py2neo import Graph"
   ]
  },
  {
   "cell_type": "code",
   "execution_count": 12,
   "metadata": {},
   "outputs": [
    {
     "name": "stdout",
     "output_type": "stream",
     "text": [
      "/Users/peter/Library/Application Support/com.Neo4j.Relate/data/dbmss/dbms-8bf637fc-0d20-4d9f-9c6f-f7e72e92a4da/import\n"
     ]
    }
   ],
   "source": [
    "# Path will take care of handling operating system differences.\n",
    "NEO4J_IMPORT = Path(os.getenv('NEO4J_IMPORT'))\n",
    "print(NEO4J_IMPORT)"
   ]
  },
  {
   "cell_type": "code",
   "execution_count": 13,
   "metadata": {},
   "outputs": [
    {
     "data": {
      "text/html": [
       "<script src=\"https://cdnjs.cloudflare.com/ajax/libs/require.js/2.3.6/require.js\"></script>\n"
      ],
      "text/plain": [
       "<IPython.core.display.HTML object>"
      ]
     },
     "metadata": {},
     "output_type": "display_data"
    }
   ],
   "source": [
    "%%HTML\n",
    "<script src=\"https://cdnjs.cloudflare.com/ajax/libs/require.js/2.3.6/require.js\"></script>"
   ]
  },
  {
   "cell_type": "code",
   "execution_count": 14,
   "metadata": {},
   "outputs": [
    {
     "data": {
      "application/javascript": [
       "var link = document.createElement(\"link\");\n",
       "\tlink.ref = \"stylesheet\";\n",
       "\tlink.type = \"text/css\";\n",
       "\tlink.href = \"https://cdnjs.cloudflare.com/ajax/libs/vis/4.8.2/vis.css\";\n",
       "\tdocument.head.appendChild(link);\n",
       "require.config({     paths: {         vis: '//cdnjs.cloudflare.com/ajax/libs/vis/4.8.2/vis.min'     } }); require(['vis'], function(vis) {  window.vis = vis; }); "
      ],
      "text/plain": [
       "<IPython.core.display.Javascript object>"
      ]
     },
     "metadata": {},
     "output_type": "display_data"
    }
   ],
   "source": [
    "import neo4jupyter\n",
    "neo4jupyter.init_notebook_mode()"
   ]
  },
  {
   "cell_type": "code",
   "execution_count": 15,
   "metadata": {},
   "outputs": [],
   "source": [
    "graph = Graph(\"bolt://132.249.238.185:7687\", user=\"reader\", password=\"demo\")"
   ]
  },
  {
   "cell_type": "code",
   "execution_count": 16,
   "metadata": {},
   "outputs": [],
   "source": [
    "options={\"City\": \"name\", \"Admin2\": \"name\"}"
   ]
  },
  {
   "cell_type": "code",
   "execution_count": 17,
   "metadata": {},
   "outputs": [],
   "source": [
    "query = \"\"\"\n",
    "MATCH p=(c:NodeMetadata)-[]->(m:DataProvider) return p limit 100\n",
    "\"\"\"\n",
    "data = graph.run(query).to_subgraph()"
   ]
  },
  {
   "cell_type": "code",
   "execution_count": 18,
   "metadata": {},
   "outputs": [
    {
     "ename": "AttributeError",
     "evalue": "'Cursor' object has no attribute 'get_graph'",
     "output_type": "error",
     "traceback": [
      "\u001b[0;31m---------------------------------------------------------------------------\u001b[0m",
      "\u001b[0;31mAttributeError\u001b[0m                            Traceback (most recent call last)",
      "\u001b[0;32m<ipython-input-18-1ed6abbf0172>\u001b[0m in \u001b[0;36m<module>\u001b[0;34m\u001b[0m\n\u001b[0;32m----> 1\u001b[0;31m \u001b[0mgraph\u001b[0m\u001b[0;34m.\u001b[0m\u001b[0mrun\u001b[0m\u001b[0;34m(\u001b[0m\u001b[0mquery\u001b[0m\u001b[0;34m)\u001b[0m\u001b[0;34m.\u001b[0m\u001b[0mget_graph\u001b[0m\u001b[0;34m(\u001b[0m\u001b[0;34m)\u001b[0m\u001b[0;34m\u001b[0m\u001b[0;34m\u001b[0m\u001b[0m\n\u001b[0m",
      "\u001b[0;31mAttributeError\u001b[0m: 'Cursor' object has no attribute 'get_graph'"
     ]
    }
   ],
   "source": [
    "graph.run(query).get_graph()"
   ]
  },
  {
   "cell_type": "code",
   "execution_count": 9,
   "metadata": {},
   "outputs": [
    {
     "data": {
      "text/html": [
       "<div id=\"8cf09d9c-3aad-4f16-ae98-0f08e3f01443\" style=\"height: 400px;\"></div>\n",
       "\n",
       "<script type=\"text/javascript\">\n",
       "\n",
       "    var nodes = [{\"id\": 4807269936, \"label\": \"\", \"group\": \"NodeMetadata\", \"title\": \"Node('NodeMetadata', dataProviders=['GeoNames', 'HUD'], definitionSource='http://purl.obolibrary.org/obo/OPMI_0000120', description='E.g., a ZIP Code is a postal code used by the United States Postal Service (USPS)', example='92121', name='PostalCode', shortDescription='Postal Code')\"}, {\"id\": 4807536080, \"label\": \"\", \"group\": \"NodeMetadata\", \"title\": \"Node('NodeMetadata', dataProviders=['GeoNames', 'USCensus'], definitionSource='http://www.geonames.org/', description='City', example='San Diego', name='City', shortDescription='City')\"}, {\"id\": 4807579792, \"label\": \"\", \"group\": \"NodeMetadata\", \"title\": \"Node('NodeMetadata', dataProviders=['USCensus'], definitionSource='https://www2.census.gov/programs-surveys/acs/tech_docs/subject_definitions/2018_ACSSubjectDefinitions.pdf', description='Population statistics from the American Community Survey 5-year 2018 estimates', example='Race', name='Demographics', shortDescription='Population statistics')\"}, {\"id\": 4807838992, \"label\": \"\", \"group\": \"NodeMetadata\", \"title\": \"Node('NodeMetadata', dataProviders=['HUD'], definitionSource='https://www2.census.gov/geo/pdfs/education/CensusTracts.pdf', description='Census tracts are small, relatively permanent statistical subdivisions of a county', example='06073008346', name='Tract', shortDescription='Census tract')\"}, {\"id\": 4807397456, \"label\": \"\", \"group\": \"NodeMetadata\", \"title\": \"Node('NodeMetadata', dataProviders=['GeoNames'], definitionSource='http://www.geonames.org/', description=' Countries and dependent Territories defined by ISO', example='United States', name='Country', shortDescription='Countries and dependent Territories')\"}, {\"id\": 4807948912, \"label\": \"\", \"group\": \"NodeMetadata\", \"title\": \"Node('NodeMetadata', dataProviders=['UNSD'], definitionSource='https://unstats.un.org/unsd/methodology/m49/', description='Subdivisions of subcontinental regions according to the M49 standard defined by the Statistics Division of the United Nations Secretariat', example='Caribbean', name='UNIntermediateRegion', shortDescription='Subdivisions of subcontinental regions')\"}, {\"id\": 4807511696, \"label\": \"\", \"group\": \"NodeMetadata\", \"title\": \"Node('NodeMetadata', dataProviders=['GeoNames', 'USCensus'], definitionSource='http://www.geonames.org/', description='Second administrative divisions: County in the US', example='San Diego County', name='Admin2', shortDescription=' County')\"}, {\"id\": 4807398224, \"label\": \"\", \"group\": \"NodeMetadata\", \"title\": \"Node('NodeMetadata', dataProviders=['GeoNames', 'USCensus'], definitionSource='http://www.geonames.org/', description='First administrative divisions, e.g, State, Province, Municipality', example='California', name='Admin1', shortDescription='State, Province, Municipality')\"}, {\"id\": 4807160944, \"label\": \"\", \"group\": \"NodeMetadata\", \"title\": \"Node('NodeMetadata', dataProviders=['NCBI'], definitionSource='http://purl.obolibrary.org/obo/OBI_0100026', description='Individual living system, such as animal, plant, bacteria or virus, that is capable of replicating or reproducing, growth and maintenance in the right environment', example='Homo sapiens', name='Organism', shortDescription='Living system')\"}, {\"id\": 4807534064, \"label\": \"\", \"group\": \"NodeMetadata\", \"title\": \"Node('NodeMetadata', dataProviders=['DO', 'JHU'], definitionSource='http://purl.obolibrary.org/obo/IDO_0000502', description='Statistically significant increase in disease occurance in a community, population, or region', example='COVID-19', name='Outbreak', shortDescription='Increase in disease occurance')\"}, {\"id\": 4807768400, \"label\": \"\", \"group\": \"NodeMetadata\", \"title\": \"Node('NodeMetadata', dataProviders=['NCBI', 'CNCB', 'Nextstrain'], definitionSource='http://purl.obolibrary.org/obo/IDO_0000528', description='A bacterium, virus, or other microorganism that can cause disease', example='SARS-CoV-2', name='Pathogen', shortDescription='Diseae causing organism')\"}, {\"id\": 4808066160, \"label\": \"\", \"group\": \"NodeMetadata\", \"title\": \"Node('NodeMetadata', dataProviders=['NCBI', 'CNCB', 'Nextstrain'], definitionSource='http://purl.obolibrary.org/obo/IDO_0000531', description='A host organism provides an environment supportive for the survival, growth, maturation, or reproduction of a virus', example='Homo sapiens', name='Host', shortDescription='Host organism for a virus')\"}, {\"id\": 4806935856, \"label\": \"\", \"group\": \"NodeMetadata\", \"title\": \"Node('NodeMetadata', dataProviders=['USCensus'], definitionSource='https://www.census.gov/geographies/reference-files/2017/demo/popest/2017-fips.html', description='Regions defined by the US Census Bureau', example='West Region', name='USRegion', shortDescription='Regions of the US')\"}, {\"id\": 4807769264, \"label\": \"\", \"group\": \"NodeMetadata\", \"title\": \"Node('NodeMetadata', dataProviders=['JHU'], definitionSource='http://www.productontology.org/doc/Cruise_ship', description='Cruise ship', example='Diamond Princess', name='CruiseShip', shortDescription='Cruise ship')\"}, {\"id\": 4807890416, \"label\": \"\", \"group\": \"NodeMetadata\", \"title\": \"Node('NodeMetadata', dataProviders=['JHU', 'SDHHSA'], description='Number of case for outbreaks or diseases at specific dates and locations', name='Cases', shortDescription='Case counts')\"}, {\"id\": 4806972720, \"label\": \"\", \"group\": \"NodeMetadata\", \"title\": \"Node('NodeMetadata', dataProviders=['USCensus'], definitionSource='https://www.census.gov/geographies/reference-files/2017/demo/popest/2017-fips.html', description='Divisions defined by the US Census Burea', example='Pacific Division', name='USDivision', shortDescription='Subregions of US')\"}, {\"id\": 4808047120, \"label\": \"\", \"group\": \"NodeMetadata\", \"title\": \"Node('NodeMetadata', dataProviders=['UniProt', 'NCBI'], description='Preferred name or synonym and associated accession number for a gene', example='ORF1ab', name='GeneName', shortDescription='Name and accession number of a protein')\"}, {\"id\": 4807579408, \"label\": \"\", \"group\": \"NodeMetadata\", \"title\": \"Node('NodeMetadata', dataProviders=['NCBI'], definitionSource='http://purl.obolibrary.org/obo/SO_0000704', description='Sequence of nucleotides in DNA or RNA that encodes the synthesis of a gene product, either RNA or protein', example='SARS-CoV-2 S gene', name='Gene', shortDescription='Sequence of nucleotides')\"}, {\"id\": 4808114544, \"label\": \"\", \"group\": \"NodeMetadata\", \"title\": \"Node('NodeMetadata', dataProviders=['NCBI', 'UniProt', 'IntAct'], definitionSource='http://purl.obolibrary.org/obo/SO_0000104', description='Proteins are large biomolecules consisting of chains of amino acid residues', example='Spike protein', name='Protein', shortDescription='Sequence of amino acids')\"}, {\"id\": 4808067216, \"label\": \"\", \"group\": \"NodeMetadata\", \"title\": \"Node('NodeMetadata', dataProviders=['CNCB', 'NCBI', 'UniProt'], definitionSource='http://purl.obolibrary.org/obo/SO_0001147', description='Natural sequence variants due to polymorphisms, disease-associated mutations, RNA editing and variations between strains, isolates or cultivars', example='ORF8:c.184Gtg>Ctg', name='Variant', shortDescription='Natural sequence variation')\"}, {\"id\": 4807510352, \"label\": \"\", \"group\": \"NodeMetadata\", \"title\": \"Node('NodeMetadata', dataProviders=['UniProt', 'NCBI'], definitionSource='http://purl.obolibrary.org/obo/SO_0000340', description='Structural unit composed of a nucleic acid molecule which controls its own replication', example='Chromosome 1', name='Chromosome', shortDescription='Part of a cell or virion that contains genetic information')\"}, {\"id\": 4807689712, \"label\": \"\", \"group\": \"NodeMetadata\", \"title\": \"Node('NodeMetadata', dataProviders=['UniProt', 'NCBI'], definitionSource='http://purl.obolibrary.org/obo/SO_0001026', description='A genome is the sum of genetic material within a cell or virion', example='Homo sapiens GRCh38.p13', name='Genome', shortDescription='Genetic material within a cell or virion')\"}, {\"id\": 4808066544, \"label\": \"\", \"group\": \"NodeMetadata\", \"title\": \"Node('NodeMetadata', dataProviders=['Nextstrain'], definitionSource='http://purl.obolibrary.org/obo/APOLLO_SV_00000232', description='An identifier that denotes a group of organisms or groups of organisms based on common ancestors', example='SARS-CoV-2 A', name='Clade', shortDescription='Group of organisms based on common ancestors')\"}, {\"id\": 4808117136, \"label\": \"\", \"group\": \"NodeMetadata\", \"title\": \"Node('NodeMetadata', dataProviders=['NCBI', 'CNCB', 'Nextstrain'], definitionSource='https://semanticscience.org/resource/SIO_010055.rdf', description='A population of organisms that is geneticaly different from others of the same species and possessing a set of defined characteristics', example='COVID-19 strain', name='Strain', shortDescription='Genetic variant of an organism')\"}, {\"id\": 4807160560, \"label\": \"\", \"group\": \"NodeMetadata\", \"title\": \"Node('NodeMetadata', dataProviders=['EuropePMC', 'UniProt', 'NCBI', 'NextStrain'], definitionSource='http://purl.obolibrary.org/obo/IAO_0000311', description='A document that has been accepted by a publisher', example='PMC7106203', name='Publication', shortDescription='Published document')\"}, {\"id\": 4808116944, \"label\": \"\", \"group\": \"NodeMetadata\", \"title\": \"Node('NodeMetadata', dataProviders=['RCSB', 'PDBe', 'UniProt'], definitionSource='http://edamontology.org/data_0883', description='3D coordinate and associated data for a macromolecular tertiary (3D) structure or part of a structure. The coordinate data may be predicted or real.', example='pdb:7JR3', name='Structure', shortDescription='3D coordinate and associated data for a macromolecular structure')\"}, {\"id\": 4807399952, \"label\": \"\", \"group\": \"NodeMetadata\", \"title\": \"Node('NodeMetadata', dataProviders=['USCensus'], definitionSource='https://www2.census.gov/programs-surveys/acs/tech_docs/subject_definitions/2018_ACSSubjectDefinitions.pdf', description='Education attainment from the American Community Survey 5-year 2018 estimates', example='Highest degree', name='Education', shortDescription='Education attainment')\"}, {\"id\": 4807580752, \"label\": \"\", \"group\": \"NodeMetadata\", \"title\": \"Node('NodeMetadata', dataProviders=['USCensus'], definitionSource='https://www2.census.gov/programs-surveys/acs/tech_docs/subject_definitions/2018_ACSSubjectDefinitions.pdf', description='Social characteristics from the American Community Survey 5-year 2018 estimates', example='Educational attainment', name='SocialCharacteristics', shortDescription='Social characteristics')\"}, {\"id\": 4808167152, \"label\": \"\", \"group\": \"NodeMetadata\", \"title\": \"Node('NodeMetadata', dataProviders=['Pfam', 'InterPro', 'UniProt', 'PDBj'], definitionSource='http://purl.obolibrary.org/obo/NCIT_C13379', description='A specific physical region or amino acid sequence in a protein which is associated with a particular function', example='PF01234', name='ProteinDomain', shortDescription='A structurally or functionally defined protein region')\"}, {\"id\": 4808092944, \"label\": \"\", \"group\": \"NodeMetadata\", \"title\": \"Node('NodeMetadata', dataProviders=['UniProt', 'NCBI'], description='Preferred name or synonym and associated accession number for a protein', example='Spike glycoprotein', name='ProteinName', shortDescription='Name and accession number of a protein')\"}, {\"id\": 4808188368, \"label\": \"\", \"group\": \"NodeMetadata\", \"title\": \"Node('NodeMetadata', dataProviders=['RCSB', 'PDBe', 'UniProt'], definitionSource='http://edamontology.org/data_1467', description='3D coordinate and associated data for the tertiary (3D) structure of a macromolecule chain (peptide, DNA, RNA)', example='pdb:7JR3.A', name='Chain', shortDescription='3D coordinate and associated data for the tertiary (3D) structure of a macromolecule chain.')\"}, {\"id\": 4807459952, \"label\": \"\", \"group\": \"NodeMetadata\", \"title\": \"Node('NodeMetadata', dataProviders=['USCensus'], definitionSource='https://www2.census.gov/programs-surveys/acs/tech_docs/subject_definitions/2018_ACSSubjectDefinitions.pdf', description='Employment status from the American Community Survey 5-year 2018 estimates', example='Civilian labor force', name='Employment', shortDescription='Employment status')\"}, {\"id\": 4807645232, \"label\": \"\", \"group\": \"NodeMetadata\", \"title\": \"Node('NodeMetadata', dataProviders=['USCensus'], definitionSource='https://www2.census.gov/programs-surveys/acs/tech_docs/subject_definitions/2018_ACSSubjectDefinitions.pdf', description='Families and people whose income in the past 12 month was below the poverty level', example='Percent of people in poverty', name='Poverty', shortDescription='Income below poverty level')\"}, {\"id\": 4807690000, \"label\": \"\", \"group\": \"NodeMetadata\", \"title\": \"Node('NodeMetadata', dataProviders=['USCensus'], definitionSource='https://www2.census.gov/programs-surveys/acs/tech_docs/subject_definitions/2018_ACSSubjectDefinitions.pdf', description='Type of coccupation from the American Community Survey 5-year 2018 estimates', example='Service occupation', name='Occupation', shortDescription='Type of occupation')\"}, {\"id\": 4807690864, \"label\": \"\", \"group\": \"NodeMetadata\", \"title\": \"Node('NodeMetadata', dataProviders=['USCensus'], definitionSource='https://www2.census.gov/programs-surveys/acs/tech_docs/subject_definitions/2018_ACSSubjectDefinitions.pdf', description='Health insurance coverage from the American Community Survey 5-year 2018 estimates', example='No health insurance', name='HealthInsurance', shortDescription='Health insurance coverage')\"}, {\"id\": 4806936720, \"label\": \"\", \"group\": \"NodeMetadata\", \"title\": \"Node('NodeMetadata', dataProviders=['USCensus'], definitionSource='https://www2.census.gov/programs-surveys/acs/tech_docs/subject_definitions/2018_ACSSubjectDefinitions.pdf', description='Economic characteristics from the American Community Survey 5-year 2018 estimates', example='Income', name='Economics', shortDescription='Economic characteristics')\"}, {\"id\": 4807836304, \"label\": \"\", \"group\": \"NodeMetadata\", \"title\": \"Node('NodeMetadata', dataProviders=['USCensus'], definitionSource='https://www2.census.gov/programs-surveys/acs/tech_docs/subject_definitions/2018_ACSSubjectDefinitions.pdf', description='Households that use computers and internet from the American Community Survey 5-year 2018 estimates', example='Broadband internet', name='Computers', shortDescription='Computer and internet use')\"}, {\"id\": 4807532720, \"label\": \"\", \"group\": \"NodeMetadata\", \"title\": \"Node('NodeMetadata', dataProviders=['USCensus'], definitionSource='https://www2.census.gov/programs-surveys/acs/tech_docs/subject_definitions/2018_ACSSubjectDefinitions.pdf', description='Household income from the American Community Survey 5-year 2018 estimates', example='Mean household income', name='Income', shortDescription='Household income')\"}, {\"id\": 4807509968, \"label\": \"\", \"group\": \"NodeMetadata\", \"title\": \"Node('NodeMetadata', dataProviders=['USCensus'], definitionSource='https://www2.census.gov/programs-surveys/acs/tech_docs/subject_definitions/2018_ACSSubjectDefinitions.pdf', description='Commuting to work from the American Community Survey 5-year 2018 estimates', example='Public transport', name='Commuting', shortDescription='Commuting to work')\"}, {\"id\": 4807692016, \"label\": \"\", \"group\": \"DataProvider\", \"title\": \"Node('DataProvider', id='JHU', license='https://github.com/CSSEGISandData/COVID-19#covid-19-data-repository-by-the-center-for-systems-science-and-engineering-csse-at-johns-hopkins-university', name='COVID-19 Data Repository by the Center for Systems Science and Engineering (CSSE) at Johns Hopkins University', url='https://github.com/CSSEGISandData/COVID-19')\"}, {\"id\": 4808002352, \"label\": \"\", \"group\": \"DataProvider\", \"title\": \"Node('DataProvider', id='UNSD', license='https://www.un.org/en/sections/about-website/terms-use/index.html', name='Statistics Division of the United Nations Secretariat', url='https://unstats.un.org/home/')\"}, {\"id\": 4807580080, \"label\": \"\", \"group\": \"DataProvider\", \"title\": \"Node('DataProvider', id='SDHHSA', license='https://www.sandiegocounty.gov/content/sdc/cosd/privacy.html', name='County of San Diego, Health and Human Services Agency', url='https://www.sandiegocounty.gov/content/sdc/hhsa/programs/phs/community_epidemiology/dc/2019-nCoV/status.html')\"}, {\"id\": 4807397744, \"label\": \"\", \"group\": \"DataProvider\", \"title\": \"Node('DataProvider', id='GeoNames', license='https://creativecommons.org/licenses/by/4.0/', name='GeoNames geographical database', url='http://www.geonames.org/')\"}, {\"id\": 4807643696, \"label\": \"\", \"group\": \"NodeMetadata\", \"title\": \"Node('NodeMetadata', dataProviders=['USCensus'], definitionSource='https://www2.census.gov/programs-surveys/acs/tech_docs/subject_definitions/2018_ACSSubjectDefinitions.pdf', description='Housing characteristics from the American Community Survey 5-year 2018 estimates', example='Occupants per room', name='Housing', shortDescription='Housing characteristics')\"}, {\"id\": 4807839376, \"label\": \"\", \"group\": \"DataProvider\", \"title\": \"Node('DataProvider', id='HUD', license='https://www.huduser.gov/portal/datasets/pdrdatas.html', name='U.S. Department of Housing and Urban Development', url='https://www.hud.gov/')\"}, {\"id\": 4807511312, \"label\": \"\", \"group\": \"DataProvider\", \"title\": \"Node('DataProvider', id='USCensus', license='https://www.census.gov/about/policies.html', name='U.S. Census Bureau', url='https://www.census.gov/en.html')\"}, {\"id\": 4808191632, \"label\": \"\", \"group\": \"DataProvider\", \"title\": \"Node('DataProvider', id='Nextstrain', name='Nextstrain', url='https://nextstrain.org/')\"}, {\"id\": 4808048560, \"label\": \"\", \"group\": \"DataProvider\", \"title\": \"Node('DataProvider', id='RCSB', name='RCSB Protein Data Bank', url='https://www.rcsb.org/')\"}, {\"id\": 4806974352, \"label\": \"\", \"group\": \"DataProvider\", \"title\": \"Node('DataProvider', id='EuropePMC', license='https://www.ebi.ac.uk/about/terms-of-use/', name='Europe PMC', url='https://europepmc.org/')\"}, {\"id\": 4808278288, \"label\": \"\", \"group\": \"DataProvider\", \"title\": \"Node('DataProvider', id='IntAct', license='https://www.ebi.ac.uk/about/terms-of-use/', name='IntAct Molecular Interaction Database', url='https://www.ebi.ac.uk/intact/')\"}, {\"id\": 4808046640, \"label\": \"\", \"group\": \"DataProvider\", \"title\": \"Node('DataProvider', id='CNCB', license='https://creativecommons.org/licenses/by/3.0/', name='China National Center for Bioinformation', url='https://bigd.big.ac.cn/ncov/release_genome?lang=en')\"}, {\"id\": 4807459376, \"label\": \"\", \"group\": \"DataProvider\", \"title\": \"Node('DataProvider', id='NCBI', license='https://www.ncbi.nlm.nih.gov/home/about/policies/', name='National Center for Biotechnology Information', url='https://www.ncbi.nlm.nih.gov/')\"}, {\"id\": 4808190000, \"label\": \"\", \"group\": \"DataProvider\", \"title\": \"Node('DataProvider', id='PDBe', name='Protein Data Bank in Europe', url='https://www.ebi.ac.uk/pdbe/')\"}, {\"id\": 4808190288, \"label\": \"\", \"group\": \"DataProvider\", \"title\": \"Node('DataProvider', id='UniProt', license='https://creativecommons.org/licenses/by/4.0/', name='Universal Protein Resource', url='https://www.uniprot.org/')\"}, {\"id\": 4808280976, \"label\": \"\", \"group\": \"DataProvider\", \"title\": \"Node('DataProvider', id='DO', name='Disease Ontology', url='https://disease-ontology.org/')\"}, {\"id\": 4807459664, \"label\": \"\", \"group\": \"NodeMetadata\", \"title\": \"Node('NodeMetadata', dataProviders=['GeoNames', 'UNSD', 'USCensus', 'HUD', 'JHU'], description='A geographic location', example='World, ..., Country, State, Country, City, Cruise ship', name='Location', shortDescription='Geographic location')\"}, {\"id\": 4807836592, \"label\": \"\", \"group\": \"NodeMetadata\", \"title\": \"Node('NodeMetadata', dataProviders=['UNSD'], definitionSource='https://unstats.un.org/unsd/methodology/m49/', description='Subcontinental regions according to the M49 standard defined by the Statistics Division of the United Nations Secretariat', example='Latin America and the Caribbean', name='UNSubRegion', shortDescription=' Subcontinental regions')\"}, {\"id\": 4807947664, \"label\": \"\", \"group\": \"NodeMetadata\", \"title\": \"Node('NodeMetadata', dataProviders=['UNSD'], definitionSource='https://unstats.un.org/unsd/methodology/m49/', description=' Continental regions according to the M49 standard defined by the Statistics Division of the United Nations Secretariat', example='Americas', name='UNRegion', shortDescription=' Continental regions')\"}];\n",
       "    var edges = [{\"from\": 4808278096, \"to\": 4808278288, \"label\": \"USES_DATA_FROM\"}, {\"from\": 4808118096, \"to\": 4808114928, \"label\": \"USES_DATA_FROM\"}, {\"from\": 4807579504, \"to\": 4807691440, \"label\": \"USES_DATA_FROM\"}, {\"from\": 4808211344, \"to\": 4808208752, \"label\": \"USES_DATA_FROM\"}, {\"from\": 4807510256, \"to\": 4807511312, \"label\": \"USES_DATA_FROM\"}, {\"from\": 4807401392, \"to\": 4807398896, \"label\": \"USES_DATA_FROM\"}, {\"from\": 4807578256, \"to\": 4807578640, \"label\": \"USES_DATA_FROM\"}, {\"from\": 4808048176, \"to\": 4808048560, \"label\": \"USES_DATA_FROM\"}, {\"from\": 4808117616, \"to\": 4808117712, \"label\": \"USES_DATA_FROM\"}, {\"from\": 4807946800, \"to\": 4807948624, \"label\": \"USES_DATA_FROM\"}, {\"from\": 4807580272, \"to\": 4807580464, \"label\": \"USES_DATA_FROM\"}, {\"from\": 4807579696, \"to\": 4807580080, \"label\": \"USES_DATA_FROM\"}, {\"from\": 4808093328, \"to\": 4807890224, \"label\": \"USES_DATA_FROM\"}, {\"from\": 4808046064, \"to\": 4807459376, \"label\": \"USES_DATA_FROM\"}, {\"from\": 4807766960, \"to\": 4807766576, \"label\": \"USES_DATA_FROM\"}, {\"from\": 4807645904, \"to\": 4807646096, \"label\": \"USES_DATA_FROM\"}, {\"from\": 4807268496, \"to\": 4808164080, \"label\": \"USES_DATA_FROM\"}, {\"from\": 4807769744, \"to\": 4808000816, \"label\": \"USES_DATA_FROM\"}, {\"from\": 4808001392, \"to\": 4808001680, \"label\": \"USES_DATA_FROM\"}, {\"from\": 4807767632, \"to\": 4807767440, \"label\": \"USES_DATA_FROM\"}, {\"from\": 4808115024, \"to\": 4808115216, \"label\": \"USES_DATA_FROM\"}, {\"from\": 4807532912, \"to\": 4807533104, \"label\": \"USES_DATA_FROM\"}, {\"from\": 4808256208, \"to\": 4808212400, \"label\": \"USES_DATA_FROM\"}, {\"from\": 4807159984, \"to\": 4807838128, \"label\": \"USES_DATA_FROM\"}, {\"from\": 4807399568, \"to\": 4807400624, \"label\": \"USES_DATA_FROM\"}, {\"from\": 4808167248, \"to\": 4808166384, \"label\": \"USES_DATA_FROM\"}, {\"from\": 4808065488, \"to\": 4808067504, \"label\": \"USES_DATA_FROM\"}, {\"from\": 4808046544, \"to\": 4808046832, \"label\": \"USES_DATA_FROM\"}, {\"from\": 4808116080, \"to\": 4808115600, \"label\": \"USES_DATA_FROM\"}, {\"from\": 4808188656, \"to\": 4808190000, \"label\": \"USES_DATA_FROM\"}, {\"from\": 4806973296, \"to\": 4807510064, \"label\": \"USES_DATA_FROM\"}, {\"from\": 4806972912, \"to\": 4806973776, \"label\": \"USES_DATA_FROM\"}, {\"from\": 4808190384, \"to\": 4808190288, \"label\": \"USES_DATA_FROM\"}, {\"from\": 4808189136, \"to\": 4806974352, \"label\": \"USES_DATA_FROM\"}, {\"from\": 4807459184, \"to\": 4807460144, \"label\": \"USES_DATA_FROM\"}, {\"from\": 4808191344, \"to\": 4808191632, \"label\": \"USES_DATA_FROM\"}, {\"from\": 4807460336, \"to\": 4807460528, \"label\": \"USES_DATA_FROM\"}, {\"from\": 4807461296, \"to\": 4807461200, \"label\": \"USES_DATA_FROM\"}, {\"from\": 4808165520, \"to\": 4808165328, \"label\": \"USES_DATA_FROM\"}, {\"from\": 4808090736, \"to\": 4808090544, \"label\": \"USES_DATA_FROM\"}, {\"from\": 4808066640, \"to\": 4808066736, \"label\": \"USES_DATA_FROM\"}, {\"from\": 4808047600, \"to\": 4808047792, \"label\": \"USES_DATA_FROM\"}, {\"from\": 4807839472, \"to\": 4807839376, \"label\": \"USES_DATA_FROM\"}, {\"from\": 4807533680, \"to\": 4807533968, \"label\": \"USES_DATA_FROM\"}, {\"from\": 4808002640, \"to\": 4808002352, \"label\": \"USES_DATA_FROM\"}, {\"from\": 4807949776, \"to\": 4807888976, \"label\": \"USES_DATA_FROM\"}, {\"from\": 4807459088, \"to\": 4787180272, \"label\": \"USES_DATA_FROM\"}, {\"from\": 4807163728, \"to\": 4807162576, \"label\": \"USES_DATA_FROM\"}, {\"from\": 4807839280, \"to\": 4807999760, \"label\": \"USES_DATA_FROM\"}, {\"from\": 4807892912, \"to\": 4807946320, \"label\": \"USES_DATA_FROM\"}, {\"from\": 4807891088, \"to\": 4807891760, \"label\": \"USES_DATA_FROM\"}, {\"from\": 4807691248, \"to\": 4807690480, \"label\": \"USES_DATA_FROM\"}, {\"from\": 4806936624, \"to\": 4806935760, \"label\": \"USES_DATA_FROM\"}, {\"from\": 4807948432, \"to\": 4807948048, \"label\": \"USES_DATA_FROM\"}, {\"from\": 4808068656, \"to\": 4808068848, \"label\": \"USES_DATA_FROM\"}, {\"from\": 4807462832, \"to\": 4807690768, \"label\": \"USES_DATA_FROM\"}, {\"from\": 4807400432, \"to\": 4807400528, \"label\": \"USES_DATA_FROM\"}, {\"from\": 4807688272, \"to\": 4807688560, \"label\": \"USES_DATA_FROM\"}, {\"from\": 4807577680, \"to\": 4807577776, \"label\": \"USES_DATA_FROM\"}, {\"from\": 4807644080, \"to\": 4807532816, \"label\": \"USES_DATA_FROM\"}, {\"from\": 4808280880, \"to\": 4808280976, \"label\": \"USES_DATA_FROM\"}, {\"from\": 4807646960, \"to\": 4807646672, \"label\": \"USES_DATA_FROM\"}, {\"from\": 4807691632, \"to\": 4807692016, \"label\": \"USES_DATA_FROM\"}, {\"from\": 4807397552, \"to\": 4807397744, \"label\": \"USES_DATA_FROM\"}, {\"from\": 4807835824, \"to\": 4807838800, \"label\": \"USES_DATA_FROM\"}, {\"from\": 4808048080, \"to\": 4808046640, \"label\": \"USES_DATA_FROM\"}, {\"from\": 4808164656, \"to\": 4808164848, \"label\": \"USES_DATA_FROM\"}, {\"from\": 4807890896, \"to\": 4807890800, \"label\": \"USES_DATA_FROM\"}, {\"from\": 4807768784, \"to\": 4807768880, \"label\": \"USES_DATA_FROM\"}, {\"from\": 4807643792, \"to\": 4807581520, \"label\": \"USES_DATA_FROM\"}, {\"from\": 4808209904, \"to\": 4808210000, \"label\": \"USES_DATA_FROM\"}, {\"from\": 4808166288, \"to\": 4808165616, \"label\": \"USES_DATA_FROM\"}, {\"from\": 4808066448, \"to\": 4808068560, \"label\": \"USES_DATA_FROM\"}];\n",
       "\n",
       "    var container = document.getElementById(\"8cf09d9c-3aad-4f16-ae98-0f08e3f01443\");\n",
       "\n",
       "    var data = {\n",
       "        nodes: nodes,\n",
       "        edges: edges\n",
       "    };\n",
       "\n",
       "    var options = {\n",
       "    nodes: {\n",
       "        shape: 'dot',\n",
       "        size: 25,\n",
       "        font: {\n",
       "            size: 14\n",
       "        }\n",
       "    },\n",
       "    edges: {\n",
       "        font: {\n",
       "            size: 14,\n",
       "            align: 'middle'\n",
       "        },\n",
       "        color: 'gray',\n",
       "        arrows: {\n",
       "            to: {\n",
       "                enabled: true,\n",
       "                scaleFactor: 0.5\n",
       "            }\n",
       "        },\n",
       "        smooth: {\n",
       "            enabled: false\n",
       "        }\n",
       "    },\n",
       "    physics: {\n",
       "        enabled: true\n",
       "        }\n",
       "    };\n",
       "\n",
       "    var network = new vis.Network(container, data, options);\n",
       "\n",
       "</script>\n"
      ],
      "text/plain": [
       "<IPython.core.display.HTML object>"
      ]
     },
     "execution_count": 9,
     "metadata": {},
     "output_type": "execute_result"
    }
   ],
   "source": [
    "neo4jupyter.draw_subgraph(data, options)"
   ]
  },
  {
   "cell_type": "code",
   "execution_count": null,
   "metadata": {},
   "outputs": [],
   "source": []
  }
 ],
 "metadata": {
  "kernelspec": {
   "display_name": "Python 3",
   "language": "python",
   "name": "python3"
  },
  "language_info": {
   "codemirror_mode": {
    "name": "ipython",
    "version": 3
   },
   "file_extension": ".py",
   "mimetype": "text/x-python",
   "name": "python",
   "nbconvert_exporter": "python",
   "pygments_lexer": "ipython3",
   "version": "3.7.9"
  }
 },
 "nbformat": 4,
 "nbformat_minor": 4
}
