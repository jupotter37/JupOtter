{
 "cells": [
  {
   "cell_type": "markdown",
   "metadata": {},
   "source": [
    "Which of the following **must be true** for the following code to execute without error? \n",
    "\n",
    "```python\n",
    "for x in C:\n",
    "    print(x)\n",
    "```\n",
    "\n",
    "If one of the choices **must be true**, then explain. If not, write a (tiny!) class + iterator such that the code above runs. Note: the same class + iterator might serve as a counterexample for multiple parts, in which case you can just say so. \n",
    "\n",
    "First alphabetical by first name is the **Recorder**. Second is the **Facilitator**. Third is the **Reporter**. "
   ]
  },
  {
   "cell_type": "code",
   "execution_count": 10,
   "metadata": {},
   "outputs": [],
   "source": [
    "# (A): C has a __next__() method. \n",
    "\n",
    "# Explanation or counterexample here.\n",
    "\n",
    "class my_class:\n",
    "    def __iter__(self):\n",
    "        return my_iterator()\n",
    "\n",
    "class my_iterator: \n",
    "    def __next__(self):\n",
    "        return 0\n",
    "\n",
    "# ----------------\n",
    "    \n",
    "class my_class:\n",
    "    def __iter__(self):\n",
    "        return self\n",
    "    \n",
    "    def __next__(self):\n",
    "        return 0\n",
    "    \n",
    "C = my_class()\n",
    "# for x in C:\n",
    "#     print(x)"
   ]
  },
  {
   "cell_type": "code",
   "execution_count": null,
   "metadata": {},
   "outputs": [],
   "source": [
    "#### (B): C has an __iter__() method.\n",
    "\n",
    "# Explanation or counterexample here.\n",
    "\n",
    "# in order for this function call to do anything iter(C)\n",
    "# must have __iter__() magic method"
   ]
  },
  {
   "cell_type": "code",
   "execution_count": 7,
   "metadata": {},
   "outputs": [],
   "source": [
    "# (C): C is a container. \n",
    "\n",
    "# Explanation or counterexample here.\n"
   ]
  },
  {
   "cell_type": "code",
   "execution_count": 8,
   "metadata": {},
   "outputs": [
    {
     "ename": "TypeError",
     "evalue": "object of type 'my_class' has no len()",
     "output_type": "error",
     "traceback": [
      "\u001b[0;31m---------------------------------------------------------------------------\u001b[0m",
      "\u001b[0;31mTypeError\u001b[0m                                 Traceback (most recent call last)",
      "\u001b[0;32m<ipython-input-8-cee324166057>\u001b[0m in \u001b[0;36m<module>\u001b[0;34m\u001b[0m\n\u001b[1;32m      4\u001b[0m \u001b[0;34m\u001b[0m\u001b[0m\n\u001b[1;32m      5\u001b[0m \u001b[0;31m# __len__() needed for len(C) to work\u001b[0m\u001b[0;34m\u001b[0m\u001b[0;34m\u001b[0m\u001b[0;34m\u001b[0m\u001b[0m\n\u001b[0;32m----> 6\u001b[0;31m \u001b[0mlen\u001b[0m\u001b[0;34m(\u001b[0m\u001b[0mC\u001b[0m\u001b[0;34m)\u001b[0m\u001b[0;34m\u001b[0m\u001b[0;34m\u001b[0m\u001b[0m\n\u001b[0m",
      "\u001b[0;31mTypeError\u001b[0m: object of type 'my_class' has no len()"
     ]
    }
   ],
   "source": [
    "# (D): The code len(C) executes without error. \n",
    "\n",
    "# Explanation or counterexample here.\n",
    "\n",
    "# __len__() needed for len(C) to work\n",
    "len(C)"
   ]
  },
  {
   "cell_type": "code",
   "execution_count": null,
   "metadata": {},
   "outputs": [],
   "source": [
    "# (E): The output of iter(C) has a __next__() method. \n",
    "\n",
    "# Explanation or counterexample here.\n",
    "\n",
    "# need to be able to next() on iter(C)\n",
    "# next(iter(C))"
   ]
  },
  {
   "cell_type": "code",
   "execution_count": null,
   "metadata": {},
   "outputs": [],
   "source": [
    "# (F): C possesses an instance variable i \n",
    "# which represents the current state of iteration. \n",
    "\n",
    "# Explanation or counterexample here.\n",
    "\n",
    "# not required, only needed for certain ways to stop iteration"
   ]
  }
 ],
 "metadata": {
  "kernelspec": {
   "display_name": "Python 3",
   "language": "python",
   "name": "python3"
  },
  "language_info": {
   "codemirror_mode": {
    "name": "ipython",
    "version": 3
   },
   "file_extension": ".py",
   "mimetype": "text/x-python",
   "name": "python",
   "nbconvert_exporter": "python",
   "pygments_lexer": "ipython3",
   "version": "3.8.3"
  }
 },
 "nbformat": 4,
 "nbformat_minor": 4
}
