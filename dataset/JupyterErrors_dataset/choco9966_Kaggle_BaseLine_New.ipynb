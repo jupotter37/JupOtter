{
 "cells": [
  {
   "cell_type": "code",
   "execution_count": 21,
   "metadata": {},
   "outputs": [],
   "source": [
    "import gc\n",
    "from datetime import datetime, timedelta,date\n",
    "import warnings\n",
    "import itertools\n",
    "import numpy as np # linear algebra\n",
    "import pandas as pd # data processing, CSV file I/O (e.g. pd.read_csv)\n",
    "from sklearn.random_projection import GaussianRandomProjection\n",
    "from sklearn.random_projection import SparseRandomProjection,johnson_lindenstrauss_min_dim\n",
    "from sklearn.decomposition import PCA, FastICA,NMF,LatentDirichletAllocation,IncrementalPCA,MiniBatchSparsePCA\n",
    "from sklearn.decomposition import TruncatedSVD,FactorAnalysis,KernelPCA\n",
    "\n",
    "import seaborn as sns\n",
    "import lightgbm as lgb\n",
    "import matplotlib.pyplot as plt\n",
    "from sklearn.metrics import mean_squared_error\n",
    "from sklearn.model_selection import StratifiedKFold\n",
    "\n",
    "#settings\n",
    "warnings.filterwarnings('ignore')\n",
    "np.random.seed(2018)"
   ]
  },
  {
   "cell_type": "code",
   "execution_count": 6,
   "metadata": {},
   "outputs": [],
   "source": [
    "def reduce_mem_usage(df, verbose=True):\n",
    "    numerics = ['int16', 'int32', 'int64', 'float16', 'float32', 'float64']\n",
    "    start_mem = df.memory_usage().sum() / 1024**2    \n",
    "    for col in df.columns:\n",
    "        col_type = df[col].dtypes\n",
    "        if col_type in numerics:\n",
    "            c_min = df[col].min()\n",
    "            c_max = df[col].max()\n",
    "            if str(col_type)[:3] == 'int':\n",
    "                if c_min > np.iinfo(np.int8).min and c_max < np.iinfo(np.int8).max:\n",
    "                    df[col] = df[col].astype(np.int8)\n",
    "                elif c_min > np.iinfo(np.int16).min and c_max < np.iinfo(np.int16).max:\n",
    "                    df[col] = df[col].astype(np.int16)\n",
    "                elif c_min > np.iinfo(np.int32).min and c_max < np.iinfo(np.int32).max:\n",
    "                    df[col] = df[col].astype(np.int32)\n",
    "                elif c_min > np.iinfo(np.int64).min and c_max < np.iinfo(np.int64).max:\n",
    "                    df[col] = df[col].astype(np.int64)  \n",
    "            else:\n",
    "                if c_min > np.finfo(np.float16).min and c_max < np.finfo(np.float16).max:\n",
    "                    df[col] = df[col].astype(np.float16)\n",
    "                elif c_min > np.finfo(np.float32).min and c_max < np.finfo(np.float32).max:\n",
    "                    df[col] = df[col].astype(np.float32)\n",
    "                else:\n",
    "                    df[col] = df[col].astype(np.float64)    \n",
    "    end_mem = df.memory_usage().sum() / 1024**2\n",
    "    if verbose: print('Mem. usage decreased to {:5.2f} Mb ({:.1f}% reduction)'.format(end_mem, 100 * (start_mem - end_mem) / start_mem))\n",
    "    return df"
   ]
  },
  {
   "cell_type": "code",
   "execution_count": 3,
   "metadata": {},
   "outputs": [],
   "source": [
    "historical_trans_df = pd.read_csv('input/historical_transactions.csv')\n",
    "new_merchant_trans_df = pd.read_csv('input/new_merchant_transactions.csv')\n",
    "merchant_df = pd.read_csv('input/merchants.csv')"
   ]
  },
  {
   "cell_type": "code",
   "execution_count": 4,
   "metadata": {},
   "outputs": [],
   "source": [
    "def get_hist_default_prorcessing(df):\n",
    "    df['purchase_date'] = pd.to_datetime(df['purchase_date'])\n",
    "    df['year'] = df['purchase_date'].dt.year\n",
    "    df['weekofyear'] = df['purchase_date'].dt.weekofyear\n",
    "    df['month'] = df['purchase_date'].dt.month\n",
    "    df['dayofweek'] = df['purchase_date'].dt.dayofweek\n",
    "    df['weekend'] = (df.purchase_date.dt.weekday >=5).astype(int)\n",
    "    df['hour'] = df['purchase_date'].dt.hour\n",
    "    df['authorized_flag'] = df['authorized_flag'].map({'Y':1, 'N':0})\n",
    "    df['category_1'] = df['category_1'].map({'Y':1, 'N':0}) \n",
    "    df['category_3'] = df['category_3'].map({'A':0, 'B':1, 'C':2}) \n",
    "    df['month_diff'] = ((datetime.today() - df['purchase_date']).dt.days)//30\n",
    "    df['month_diff'] += df['month_lag']\n",
    "    return df"
   ]
  },
  {
   "cell_type": "code",
   "execution_count": 9,
   "metadata": {},
   "outputs": [],
   "source": [
    "def get_prefix(group_col, target_col, prefix=None):\n",
    "    if isinstance(group_col, list) is True:\n",
    "        g = '_'.join(group_col)\n",
    "    else:\n",
    "        g = group_col\n",
    "    if isinstance(target_col, list) is True:\n",
    "        t = '_'.join(target_col)\n",
    "    else:\n",
    "        t = target_col\n",
    "    if prefix is not None:\n",
    "        return prefix + '_' + g + '_' + t\n",
    "    return g + '_' + t\n",
    "    \n",
    "def groupby_helper(df, group_col, target_col, agg_method, prefix_param=None):\n",
    "    try:\n",
    "        prefix = get_prefix(group_col, target_col, prefix_param)\n",
    "        print(group_col, target_col, agg_method)\n",
    "        group_df = df.groupby(group_col)[target_col].agg(agg_method)\n",
    "        group_df.columns = ['{}_{}'.format(prefix, m) for m in agg_method]\n",
    "    except BaseException as e:\n",
    "        print(e)\n",
    "    return group_df.reset_index()"
   ]
  },
  {
   "cell_type": "code",
   "execution_count": 5,
   "metadata": {},
   "outputs": [],
   "source": [
    "historical_trans_df = get_hist_default_prorcessing(historical_trans_df)\n",
    "new_merchant_trans_df = get_hist_default_prorcessing(new_merchant_trans_df)"
   ]
  },
  {
   "cell_type": "code",
   "execution_count": 7,
   "metadata": {},
   "outputs": [],
   "source": [
    "historical_trans_df = pd.get_dummies(historical_trans_df, columns=['category_2', 'category_3'])\n",
    "new_merchant_trans_df = pd.get_dummies(new_merchant_trans_df, columns=['category_2', 'category_3'])"
   ]
  },
  {
   "cell_type": "code",
   "execution_count": 8,
   "metadata": {},
   "outputs": [
    {
     "name": "stdout",
     "output_type": "stream",
     "text": [
      "Mem. usage decreased to 1527.00 Mb (65.6% reduction)\n",
      "Mem. usage decreased to 99.22 Mb (66.9% reduction)\n"
     ]
    }
   ],
   "source": [
    "historical_trans_df = reduce_mem_usage(historical_trans_df)\n",
    "new_merchant_trans_df = reduce_mem_usage(new_merchant_trans_df)"
   ]
  },
  {
   "cell_type": "code",
   "execution_count": 72,
   "metadata": {},
   "outputs": [],
   "source": [
    "authorized_transactions = historical_trans_df[historical_trans_df['authorized_flag'] == 1]\n",
    "historical_transactions = historical_trans_df[historical_trans_df['authorized_flag'] == 0]"
   ]
  },
  {
   "cell_type": "code",
   "execution_count": 35,
   "metadata": {
    "scrolled": true
   },
   "outputs": [],
   "source": [
    "train_df = pd.read_csv('input/train.csv')\n",
    "test_df = pd.read_csv('input/test.csv')\n",
    "\n",
    "def get_train_default_prorcessing(df):\n",
    "    df['first_active_month'] = pd.to_datetime(df['first_active_month'])\n",
    "    df['dayofweek'] = df['first_active_month'].dt.dayofweek\n",
    "    df['weekofyear'] = df['first_active_month'].dt.weekofyear\n",
    "    df['dayofyear'] = df['first_active_month'].dt.dayofyear\n",
    "    df['quarter'] = df['first_active_month'].dt.quarter\n",
    "    df['month'] = df['first_active_month'].dt.month\n",
    "    df['elapsed_time'] = (datetime(2018, 2, 1).date() - df['first_active_month'].dt.date).dt.days\n",
    "    return df\n",
    "\n",
    "train_df = get_train_default_prorcessing(train_df)\n",
    "test_df = get_train_default_prorcessing(test_df)\n",
    "\n",
    "train_df['outliers'] = 0\n",
    "train_df.loc[train_df['target'] < -30, 'outliers'] = 1\n",
    "train_df['outliers'].value_counts()\n",
    "\n",
    "all_df = pd.concat([train_df,test_df])"
   ]
  },
  {
   "cell_type": "code",
   "execution_count": 36,
   "metadata": {},
   "outputs": [
    {
     "name": "stdout",
     "output_type": "stream",
     "text": [
      "['dayofyear'] outliers ['mean']\n",
      "['elapsed_time'] outliers ['mean']\n"
     ]
    }
   ],
   "source": [
    "group_df = groupby_helper(train_df,['dayofyear'], 'outliers',['mean'])\n",
    "all_df = all_df.merge(group_df, on=['dayofyear'], how='left')\n",
    "\n",
    "group_df = groupby_helper(train_df,['elapsed_time'], 'outliers',['mean'])\n",
    "all_df = all_df.merge(group_df, on=['elapsed_time'], how='left')"
   ]
  },
  {
   "cell_type": "code",
   "execution_count": 100,
   "metadata": {},
   "outputs": [
    {
     "data": {
      "text/plain": [
       "Index(['authorized_flag', 'card_id', 'city_id', 'category_1', 'installments',\n",
       "       'merchant_category_id', 'merchant_id', 'month_lag', 'purchase_amount',\n",
       "       'purchase_date', 'state_id', 'subsector_id', 'year', 'weekofyear',\n",
       "       'month', 'dayofweek', 'weekend', 'hour', 'month_diff', 'category_2_1.0',\n",
       "       'category_2_2.0', 'category_2_3.0', 'category_2_4.0', 'category_2_5.0',\n",
       "       'category_3_0.0', 'category_3_1.0', 'category_3_2.0'],\n",
       "      dtype='object')"
      ]
     },
     "execution_count": 100,
     "metadata": {},
     "output_type": "execute_result"
    }
   ],
   "source": [
    "historical_trans_df.columns"
   ]
  },
  {
   "cell_type": "code",
   "execution_count": null,
   "metadata": {},
   "outputs": [],
   "source": [
    "historical_trans_df['purchase_date']"
   ]
  },
  {
   "cell_type": "code",
   "execution_count": 138,
   "metadata": {},
   "outputs": [
    {
     "name": "stdout",
     "output_type": "stream",
     "text": [
      "['card_id'] purchase_amount ['sum', 'max', 'min', 'mean', 'std']\n",
      "['card_id'] installments ['sum', 'max', 'min', 'mean', 'std']\n",
      "['card_id'] purchase_amount ['sum', 'max', 'min', 'mean', 'std']\n",
      "['card_id'] installments ['sum', 'max', 'min', 'mean', 'std']\n"
     ]
    }
   ],
   "source": [
    "group_df = groupby_helper(historical_trans_df,['card_id'], 'purchase_amount',['sum','max','min','mean','std'])\n",
    "all_df = all_df.merge(group_df, on=['card_id'], how='left')\n",
    "group_df = groupby_helper(historical_trans_df,['card_id'], 'installments',['sum','max','min','mean','std'])\n",
    "all_df = all_df.merge(group_df, on=['card_id'], how='left')\n",
    "group_df = groupby_helper(new_merchant_trans_df,['card_id'], 'purchase_amount',['sum','max','min','mean','std'],'new_hist')\n",
    "all_df = all_df.merge(group_df, on=['card_id'], how='left')\n",
    "group_df = groupby_helper(new_merchant_trans_df,['card_id'], 'installments',['sum','max','min','mean','std'],'new_hist')\n",
    "all_df = all_df.merge(group_df, on=['card_id'], how='left')"
   ]
  },
  {
   "cell_type": "code",
   "execution_count": 193,
   "metadata": {},
   "outputs": [
    {
     "name": "stdout",
     "output_type": "stream",
     "text": [
      "['card_id'] month ['nunique', 'max', 'min', 'mean', 'std']\n",
      "['card_id'] month ['nunique', 'max', 'min', 'mean', 'std']\n",
      "['card_id'] month ['nunique', 'max', 'min', 'mean']\n"
     ]
    }
   ],
   "source": [
    "group_df = groupby_helper(historical_transactions,['card_id'], 'month',['nunique','max','min','mean','std'],'auth_0')\n",
    "all_df = all_df.merge(group_df, on=['card_id'], how='left')\n",
    "group_df = groupby_helper(authorized_transactions,['card_id'], 'month',['nunique','max','min','mean','std'],'auth_1')\n",
    "all_df = all_df.merge(group_df, on=['card_id'], how='left')\n",
    "group_df = groupby_helper(new_merchant_trans_df,['card_id'], 'month',['nunique','max','min','mean'],'new_hist')\n",
    "all_df = all_df.merge(group_df, on=['card_id'], how='left')"
   ]
  },
  {
   "cell_type": "code",
   "execution_count": 212,
   "metadata": {},
   "outputs": [
    {
     "name": "stdout",
     "output_type": "stream",
     "text": [
      "['card_id'] month_lag ['max', 'min', 'mean', 'std']\n",
      "['card_id'] month_lag ['max', 'min', 'mean', 'std']\n"
     ]
    }
   ],
   "source": [
    "group_df = groupby_helper(historical_trans_df,['card_id'], 'month_lag',['max','min','mean','std'])\n",
    "all_df = all_df.merge(group_df, on=['card_id'], how='left')\n",
    "group_df = groupby_helper(new_merchant_trans_df,['card_id'], 'month_lag',['max','min','mean','std'],'new_hist')\n",
    "all_df = all_df.merge(group_df, on=['card_id'], how='left')"
   ]
  },
  {
   "cell_type": "code",
   "execution_count": 226,
   "metadata": {},
   "outputs": [
    {
     "name": "stdout",
     "output_type": "stream",
     "text": [
      "['card_id'] merchant_id ['nunique']\n"
     ]
    }
   ],
   "source": [
    "group_df = groupby_helper(historical_trans_df,['card_id'], 'merchant_id',['nunique'])\n",
    "all_df = all_df.merge(group_df, on=['card_id'], how='left')"
   ]
  },
  {
   "cell_type": "code",
   "execution_count": 232,
   "metadata": {},
   "outputs": [
    {
     "name": "stdout",
     "output_type": "stream",
     "text": [
      "['card_id'] merchant_category_id ['nunique']\n",
      "['card_id'] merchant_category_id ['nunique']\n"
     ]
    }
   ],
   "source": [
    "group_df = groupby_helper(historical_transactions,['card_id'], 'merchant_category_id',['nunique'],'auth_0')\n",
    "all_df = all_df.merge(group_df, on=['card_id'], how='left')\n",
    "group_df = groupby_helper(authorized_transactions,['card_id'], 'merchant_category_id',['nunique'],'auth_1')\n",
    "all_df = all_df.merge(group_df, on=['card_id'], how='left')"
   ]
  },
  {
   "cell_type": "code",
   "execution_count": 242,
   "metadata": {},
   "outputs": [
    {
     "name": "stdout",
     "output_type": "stream",
     "text": [
      "['card_id'] subsector_id ['nunique']\n",
      "['card_id'] subsector_id ['nunique']\n"
     ]
    }
   ],
   "source": [
    "group_df = groupby_helper(historical_transactions,['card_id'], 'subsector_id',['nunique'],'auth_0')\n",
    "all_df = all_df.merge(group_df, on=['card_id'], how='left')\n",
    "group_df = groupby_helper(authorized_transactions,['card_id'], 'subsector_id',['nunique'],'auth_1')\n",
    "all_df = all_df.merge(group_df, on=['card_id'], how='left')"
   ]
  },
  {
   "cell_type": "code",
   "execution_count": 251,
   "metadata": {},
   "outputs": [
    {
     "name": "stdout",
     "output_type": "stream",
     "text": [
      "['card_id'] state_id ['nunique']\n",
      "['card_id'] state_id ['nunique']\n"
     ]
    }
   ],
   "source": [
    "group_df = groupby_helper(historical_transactions,['card_id'], 'state_id',['nunique'],'auth_0')\n",
    "all_df = all_df.merge(group_df, on=['card_id'], how='left')\n",
    "group_df = groupby_helper(authorized_transactions,['card_id'], 'state_id',['nunique'],'auth_1')\n",
    "all_df = all_df.merge(group_df, on=['card_id'], how='left')"
   ]
  },
  {
   "cell_type": "code",
   "execution_count": 271,
   "metadata": {},
   "outputs": [
    {
     "name": "stdout",
     "output_type": "stream",
     "text": [
      "['card_id'] city_id ['nunique']\n"
     ]
    }
   ],
   "source": [
    "group_df = groupby_helper(historical_trans_df,['card_id'], 'city_id',['nunique'])\n",
    "all_df = all_df.merge(group_df, on=['card_id'], how='left')"
   ]
  },
  {
   "cell_type": "code",
   "execution_count": null,
   "metadata": {},
   "outputs": [],
   "source": [
    "group_df = groupby_helper(new_merchant_trans_df,['card_id'], 'merchant_category_id',['nunique'],'new_hist')\n",
    "all_df = all_df.merge(group_df, on=['card_id'], how='left')\n",
    "group_df = groupby_helper(new_merchant_trans_df,['card_id'], 'subsector_id',['nunique'],'new_hist')\n",
    "all_df = all_df.merge(group_df, on=['card_id'], how='left')\n",
    "group_df = groupby_helper(new_merchant_trans_df,['card_id'], 'state_id',['nunique'],'new_hist')\n",
    "all_df = all_df.merge(group_df, on=['card_id'], how='left')"
   ]
  },
  {
   "cell_type": "code",
   "execution_count": 339,
   "metadata": {},
   "outputs": [
    {
     "name": "stdout",
     "output_type": "stream",
     "text": [
      "['card_id'] month_diff ['mean']\n"
     ]
    }
   ],
   "source": [
    "group_df = groupby_helper(historical_trans_df,['card_id'], 'month_diff',['mean'])\n",
    "all_df = all_df.merge(group_df, on=['card_id'], how='left')"
   ]
  },
  {
   "cell_type": "code",
   "execution_count": 340,
   "metadata": {},
   "outputs": [
    {
     "name": "stdout",
     "output_type": "stream",
     "text": [
      "['card_id'] month_diff ['mean']\n"
     ]
    }
   ],
   "source": [
    "group_df = groupby_helper(new_merchant_trans_df,['card_id'], 'month_diff',['mean'],'new_hist')\n",
    "all_df = all_df.merge(group_df, on=['card_id'], how='left')"
   ]
  },
  {
   "cell_type": "code",
   "execution_count": 359,
   "metadata": {},
   "outputs": [
    {
     "name": "stdout",
     "output_type": "stream",
     "text": [
      "['card_id'] category_1 ['sum', 'mean']\n"
     ]
    }
   ],
   "source": [
    "group_df = groupby_helper(historical_trans_df,['card_id'], 'category_1',['sum','mean'])\n",
    "all_df = all_df.merge(group_df, on=['card_id'], how='left')"
   ]
  },
  {
   "cell_type": "code",
   "execution_count": 363,
   "metadata": {},
   "outputs": [
    {
     "name": "stdout",
     "output_type": "stream",
     "text": [
      "['card_id'] category_1 ['sum', 'mean']\n"
     ]
    }
   ],
   "source": [
    "group_df = groupby_helper(new_merchant_trans_df,['card_id'], 'category_1',['sum','mean'],'new_hist')\n",
    "all_df = all_df.merge(group_df, on=['card_id'], how='left')"
   ]
  },
  {
   "cell_type": "code",
   "execution_count": 377,
   "metadata": {},
   "outputs": [
    {
     "name": "stdout",
     "output_type": "stream",
     "text": [
      "['card_id'] card_id ['size']\n",
      "['card_id'] card_id ['size']\n"
     ]
    }
   ],
   "source": [
    "group_df = groupby_helper(historical_transactions,['card_id'], 'card_id',['size'],'auth_0')\n",
    "all_df = all_df.merge(group_df, on=['card_id'], how='left')\n",
    "group_df = groupby_helper(authorized_transactions,['card_id'], 'card_id',['size'],'auth_1')\n",
    "all_df = all_df.merge(group_df, on=['card_id'], how='left')"
   ]
  },
  {
   "cell_type": "code",
   "execution_count": 381,
   "metadata": {},
   "outputs": [
    {
     "name": "stdout",
     "output_type": "stream",
     "text": [
      "['card_id'] card_id ['size']\n"
     ]
    }
   ],
   "source": [
    "group_df = groupby_helper(new_merchant_trans_df,['card_id'], 'card_id',['size'],'new_hist')\n",
    "all_df = all_df.merge(group_df, on=['card_id'], how='left')"
   ]
  },
  {
   "cell_type": "code",
   "execution_count": 395,
   "metadata": {},
   "outputs": [
    {
     "name": "stdout",
     "output_type": "stream",
     "text": [
      "['card_id'] category_2_1.0 ['mean']\n",
      "['card_id'] category_2_2.0 ['mean']\n",
      "['card_id'] category_2_3.0 ['mean']\n",
      "['card_id'] category_2_4.0 ['mean']\n",
      "['card_id'] category_2_5.0 ['mean']\n"
     ]
    }
   ],
   "source": [
    "group_df = groupby_helper(historical_trans_df,['card_id'], 'category_2_1.0',['mean'])\n",
    "all_df = all_df.merge(group_df, on=['card_id'], how='left')\n",
    "group_df = groupby_helper(historical_trans_df,['card_id'], 'category_2_2.0',['mean'])\n",
    "all_df = all_df.merge(group_df, on=['card_id'], how='left')\n",
    "group_df = groupby_helper(historical_trans_df,['card_id'], 'category_2_3.0',['mean'])\n",
    "all_df = all_df.merge(group_df, on=['card_id'], how='left')\n",
    "group_df = groupby_helper(historical_trans_df,['card_id'], 'category_2_4.0',['mean'])\n",
    "all_df = all_df.merge(group_df, on=['card_id'], how='left')\n",
    "group_df = groupby_helper(historical_trans_df,['card_id'], 'category_2_5.0',['mean'])\n",
    "all_df = all_df.merge(group_df, on=['card_id'], how='left')"
   ]
  },
  {
   "cell_type": "code",
   "execution_count": 399,
   "metadata": {},
   "outputs": [
    {
     "name": "stdout",
     "output_type": "stream",
     "text": [
      "['card_id'] category_2_1.0 ['mean']\n",
      "['card_id'] category_2_2.0 ['mean']\n",
      "['card_id'] category_2_3.0 ['mean']\n",
      "['card_id'] category_2_4.0 ['mean']\n",
      "['card_id'] category_2_5.0 ['mean']\n"
     ]
    }
   ],
   "source": [
    "group_df = groupby_helper(new_merchant_trans_df,['card_id'], 'category_2_1.0',['mean'],'new_hist')\n",
    "all_df = all_df.merge(group_df, on=['card_id'], how='left')\n",
    "group_df = groupby_helper(new_merchant_trans_df,['card_id'], 'category_2_2.0',['mean'],'new_hist')\n",
    "all_df = all_df.merge(group_df, on=['card_id'], how='left')\n",
    "group_df = groupby_helper(new_merchant_trans_df,['card_id'], 'category_2_3.0',['mean'],'new_hist')\n",
    "all_df = all_df.merge(group_df, on=['card_id'], how='left')\n",
    "group_df = groupby_helper(new_merchant_trans_df,['card_id'], 'category_2_4.0',['mean'],'new_hist')\n",
    "all_df = all_df.merge(group_df, on=['card_id'], how='left')\n",
    "group_df = groupby_helper(new_merchant_trans_df,['card_id'], 'category_2_5.0',['mean'],'new_hist')\n",
    "all_df = all_df.merge(group_df, on=['card_id'], how='left')"
   ]
  },
  {
   "cell_type": "code",
   "execution_count": 446,
   "metadata": {},
   "outputs": [
    {
     "name": "stdout",
     "output_type": "stream",
     "text": [
      "['card_id'] purchase_date ['min', 'max']\n"
     ]
    }
   ],
   "source": [
    "group_df = groupby_helper(historical_trans_df,['card_id'], 'purchase_date',['min', 'max'])\n",
    "all_df = all_df.merge(group_df, on=['card_id'], how='left')"
   ]
  },
  {
   "cell_type": "code",
   "execution_count": 450,
   "metadata": {},
   "outputs": [
    {
     "name": "stdout",
     "output_type": "stream",
     "text": [
      "['card_id'] purchase_date ['min', 'max']\n"
     ]
    }
   ],
   "source": [
    "group_df = groupby_helper(new_merchant_trans_df,['card_id'], 'purchase_date',['min', 'max'],'new_hist')\n",
    "all_df = all_df.merge(group_df, on=['card_id'], how='left')"
   ]
  },
  {
   "cell_type": "code",
   "execution_count": 484,
   "metadata": {},
   "outputs": [
    {
     "data": {
      "text/html": [
       "<div>\n",
       "<style scoped>\n",
       "    .dataframe tbody tr th:only-of-type {\n",
       "        vertical-align: middle;\n",
       "    }\n",
       "\n",
       "    .dataframe tbody tr th {\n",
       "        vertical-align: top;\n",
       "    }\n",
       "\n",
       "    .dataframe thead th {\n",
       "        text-align: right;\n",
       "    }\n",
       "</style>\n",
       "<table border=\"1\" class=\"dataframe\">\n",
       "  <thead>\n",
       "    <tr style=\"text-align: right;\">\n",
       "      <th></th>\n",
       "      <th>card_id</th>\n",
       "      <th>month_lag_mean</th>\n",
       "      <th>month_lag_std</th>\n",
       "      <th>purchase_amount_count_mean</th>\n",
       "      <th>purchase_amount_count_std</th>\n",
       "      <th>purchase_amount_sum_mean</th>\n",
       "      <th>purchase_amount_sum_std</th>\n",
       "      <th>purchase_amount_mean_mean</th>\n",
       "      <th>purchase_amount_mean_std</th>\n",
       "      <th>purchase_amount_min_mean</th>\n",
       "      <th>...</th>\n",
       "      <th>installments_sum_mean</th>\n",
       "      <th>installments_sum_std</th>\n",
       "      <th>installments_mean_mean</th>\n",
       "      <th>installments_mean_std</th>\n",
       "      <th>installments_min_mean</th>\n",
       "      <th>installments_min_std</th>\n",
       "      <th>installments_max_mean</th>\n",
       "      <th>installments_max_std</th>\n",
       "      <th>installments_std_mean</th>\n",
       "      <th>installments_std_std</th>\n",
       "    </tr>\n",
       "  </thead>\n",
       "  <tbody>\n",
       "    <tr>\n",
       "      <th>0</th>\n",
       "      <td>C_ID_00007093c1</td>\n",
       "      <td>-6.000000</td>\n",
       "      <td>3.894440</td>\n",
       "      <td>8.769231</td>\n",
       "      <td>3.539158</td>\n",
       "      <td>-4.803313</td>\n",
       "      <td>2.175011</td>\n",
       "      <td>-0.536131</td>\n",
       "      <td>0.075418</td>\n",
       "      <td>-0.702649</td>\n",
       "      <td>...</td>\n",
       "      <td>11.307692</td>\n",
       "      <td>4.210792</td>\n",
       "      <td>1.369646</td>\n",
       "      <td>0.423190</td>\n",
       "      <td>1.000000</td>\n",
       "      <td>0.000000</td>\n",
       "      <td>2.538462</td>\n",
       "      <td>1.613246</td>\n",
       "      <td>0.625428</td>\n",
       "      <td>0.675607</td>\n",
       "    </tr>\n",
       "    <tr>\n",
       "      <th>1</th>\n",
       "      <td>C_ID_0001238066</td>\n",
       "      <td>-2.500000</td>\n",
       "      <td>1.870829</td>\n",
       "      <td>20.000000</td>\n",
       "      <td>11.696153</td>\n",
       "      <td>-11.776212</td>\n",
       "      <td>6.676914</td>\n",
       "      <td>-0.603215</td>\n",
       "      <td>0.046045</td>\n",
       "      <td>-0.730351</td>\n",
       "      <td>...</td>\n",
       "      <td>32.500000</td>\n",
       "      <td>24.501020</td>\n",
       "      <td>1.652873</td>\n",
       "      <td>0.410539</td>\n",
       "      <td>0.666667</td>\n",
       "      <td>0.816497</td>\n",
       "      <td>4.666667</td>\n",
       "      <td>2.875181</td>\n",
       "      <td>1.256525</td>\n",
       "      <td>0.521292</td>\n",
       "    </tr>\n",
       "    <tr>\n",
       "      <th>2</th>\n",
       "      <td>C_ID_0001506ef0</td>\n",
       "      <td>-6.230769</td>\n",
       "      <td>4.225988</td>\n",
       "      <td>4.769231</td>\n",
       "      <td>4.342692</td>\n",
       "      <td>-2.438161</td>\n",
       "      <td>2.902502</td>\n",
       "      <td>-0.446660</td>\n",
       "      <td>0.271125</td>\n",
       "      <td>-0.725724</td>\n",
       "      <td>...</td>\n",
       "      <td>0.000000</td>\n",
       "      <td>0.000000</td>\n",
       "      <td>0.000000</td>\n",
       "      <td>0.000000</td>\n",
       "      <td>0.000000</td>\n",
       "      <td>0.000000</td>\n",
       "      <td>0.000000</td>\n",
       "      <td>0.000000</td>\n",
       "      <td>0.000000</td>\n",
       "      <td>0.000000</td>\n",
       "    </tr>\n",
       "    <tr>\n",
       "      <th>3</th>\n",
       "      <td>C_ID_0001793786</td>\n",
       "      <td>-4.500000</td>\n",
       "      <td>3.027650</td>\n",
       "      <td>18.900000</td>\n",
       "      <td>12.160501</td>\n",
       "      <td>-2.496067</td>\n",
       "      <td>4.018810</td>\n",
       "      <td>-0.005687</td>\n",
       "      <td>0.271221</td>\n",
       "      <td>-0.646277</td>\n",
       "      <td>...</td>\n",
       "      <td>0.000000</td>\n",
       "      <td>0.000000</td>\n",
       "      <td>0.000000</td>\n",
       "      <td>0.000000</td>\n",
       "      <td>0.000000</td>\n",
       "      <td>0.000000</td>\n",
       "      <td>0.000000</td>\n",
       "      <td>0.000000</td>\n",
       "      <td>0.000000</td>\n",
       "      <td>0.000000</td>\n",
       "    </tr>\n",
       "    <tr>\n",
       "      <th>4</th>\n",
       "      <td>C_ID_000183fdda</td>\n",
       "      <td>-2.500000</td>\n",
       "      <td>1.870829</td>\n",
       "      <td>22.833333</td>\n",
       "      <td>7.167054</td>\n",
       "      <td>-11.316092</td>\n",
       "      <td>4.800612</td>\n",
       "      <td>-0.489227</td>\n",
       "      <td>0.141015</td>\n",
       "      <td>-0.728405</td>\n",
       "      <td>...</td>\n",
       "      <td>40.833333</td>\n",
       "      <td>14.048725</td>\n",
       "      <td>1.834943</td>\n",
       "      <td>0.362557</td>\n",
       "      <td>0.333333</td>\n",
       "      <td>1.032796</td>\n",
       "      <td>9.166667</td>\n",
       "      <td>2.041241</td>\n",
       "      <td>2.144389</td>\n",
       "      <td>0.665529</td>\n",
       "    </tr>\n",
       "    <tr>\n",
       "      <th>5</th>\n",
       "      <td>C_ID_00024e244b</td>\n",
       "      <td>-6.384615</td>\n",
       "      <td>4.330867</td>\n",
       "      <td>4.076923</td>\n",
       "      <td>4.290717</td>\n",
       "      <td>-2.557395</td>\n",
       "      <td>2.089708</td>\n",
       "      <td>-0.685118</td>\n",
       "      <td>0.071894</td>\n",
       "      <td>-0.728885</td>\n",
       "      <td>...</td>\n",
       "      <td>0.000000</td>\n",
       "      <td>0.000000</td>\n",
       "      <td>0.000000</td>\n",
       "      <td>0.000000</td>\n",
       "      <td>0.000000</td>\n",
       "      <td>0.000000</td>\n",
       "      <td>0.000000</td>\n",
       "      <td>0.000000</td>\n",
       "      <td>0.000000</td>\n",
       "      <td>0.000000</td>\n",
       "    </tr>\n",
       "    <tr>\n",
       "      <th>6</th>\n",
       "      <td>C_ID_0002709b5a</td>\n",
       "      <td>-5.000000</td>\n",
       "      <td>3.316625</td>\n",
       "      <td>6.090909</td>\n",
       "      <td>3.505839</td>\n",
       "      <td>-3.994622</td>\n",
       "      <td>2.440540</td>\n",
       "      <td>-0.638637</td>\n",
       "      <td>0.060836</td>\n",
       "      <td>-0.700104</td>\n",
       "      <td>...</td>\n",
       "      <td>10.727273</td>\n",
       "      <td>8.427229</td>\n",
       "      <td>1.965729</td>\n",
       "      <td>1.287108</td>\n",
       "      <td>0.818182</td>\n",
       "      <td>0.603023</td>\n",
       "      <td>3.818182</td>\n",
       "      <td>3.341203</td>\n",
       "      <td>1.600058</td>\n",
       "      <td>1.734256</td>\n",
       "    </tr>\n",
       "    <tr>\n",
       "      <th>7</th>\n",
       "      <td>C_ID_00027503e2</td>\n",
       "      <td>-4.000000</td>\n",
       "      <td>2.738613</td>\n",
       "      <td>2.666667</td>\n",
       "      <td>1.224745</td>\n",
       "      <td>-1.974976</td>\n",
       "      <td>0.909524</td>\n",
       "      <td>-0.740077</td>\n",
       "      <td>0.002424</td>\n",
       "      <td>-0.742206</td>\n",
       "      <td>...</td>\n",
       "      <td>0.000000</td>\n",
       "      <td>0.000000</td>\n",
       "      <td>0.000000</td>\n",
       "      <td>0.000000</td>\n",
       "      <td>0.000000</td>\n",
       "      <td>0.000000</td>\n",
       "      <td>0.000000</td>\n",
       "      <td>0.000000</td>\n",
       "      <td>0.000000</td>\n",
       "      <td>0.000000</td>\n",
       "    </tr>\n",
       "    <tr>\n",
       "      <th>8</th>\n",
       "      <td>C_ID_000298032a</td>\n",
       "      <td>-5.250000</td>\n",
       "      <td>4.334249</td>\n",
       "      <td>3.500000</td>\n",
       "      <td>1.772811</td>\n",
       "      <td>-1.844563</td>\n",
       "      <td>0.699127</td>\n",
       "      <td>-0.590214</td>\n",
       "      <td>0.168008</td>\n",
       "      <td>-0.686623</td>\n",
       "      <td>...</td>\n",
       "      <td>0.000000</td>\n",
       "      <td>0.000000</td>\n",
       "      <td>0.000000</td>\n",
       "      <td>0.000000</td>\n",
       "      <td>0.000000</td>\n",
       "      <td>0.000000</td>\n",
       "      <td>0.000000</td>\n",
       "      <td>0.000000</td>\n",
       "      <td>0.000000</td>\n",
       "      <td>0.000000</td>\n",
       "    </tr>\n",
       "    <tr>\n",
       "      <th>9</th>\n",
       "      <td>C_ID_0002ba3c2e</td>\n",
       "      <td>-4.666667</td>\n",
       "      <td>3.141125</td>\n",
       "      <td>9.166667</td>\n",
       "      <td>4.665476</td>\n",
       "      <td>-5.843051</td>\n",
       "      <td>3.021165</td>\n",
       "      <td>-0.638037</td>\n",
       "      <td>0.044976</td>\n",
       "      <td>-0.721448</td>\n",
       "      <td>...</td>\n",
       "      <td>0.000000</td>\n",
       "      <td>0.000000</td>\n",
       "      <td>0.000000</td>\n",
       "      <td>0.000000</td>\n",
       "      <td>0.000000</td>\n",
       "      <td>0.000000</td>\n",
       "      <td>0.000000</td>\n",
       "      <td>0.000000</td>\n",
       "      <td>0.000000</td>\n",
       "      <td>0.000000</td>\n",
       "    </tr>\n",
       "  </tbody>\n",
       "</table>\n",
       "<p>10 rows × 27 columns</p>\n",
       "</div>"
      ],
      "text/plain": [
       "           card_id  month_lag_mean  month_lag_std  purchase_amount_count_mean  \\\n",
       "0  C_ID_00007093c1       -6.000000       3.894440                    8.769231   \n",
       "1  C_ID_0001238066       -2.500000       1.870829                   20.000000   \n",
       "2  C_ID_0001506ef0       -6.230769       4.225988                    4.769231   \n",
       "3  C_ID_0001793786       -4.500000       3.027650                   18.900000   \n",
       "4  C_ID_000183fdda       -2.500000       1.870829                   22.833333   \n",
       "5  C_ID_00024e244b       -6.384615       4.330867                    4.076923   \n",
       "6  C_ID_0002709b5a       -5.000000       3.316625                    6.090909   \n",
       "7  C_ID_00027503e2       -4.000000       2.738613                    2.666667   \n",
       "8  C_ID_000298032a       -5.250000       4.334249                    3.500000   \n",
       "9  C_ID_0002ba3c2e       -4.666667       3.141125                    9.166667   \n",
       "\n",
       "   purchase_amount_count_std  purchase_amount_sum_mean  \\\n",
       "0                   3.539158                 -4.803313   \n",
       "1                  11.696153                -11.776212   \n",
       "2                   4.342692                 -2.438161   \n",
       "3                  12.160501                 -2.496067   \n",
       "4                   7.167054                -11.316092   \n",
       "5                   4.290717                 -2.557395   \n",
       "6                   3.505839                 -3.994622   \n",
       "7                   1.224745                 -1.974976   \n",
       "8                   1.772811                 -1.844563   \n",
       "9                   4.665476                 -5.843051   \n",
       "\n",
       "   purchase_amount_sum_std  purchase_amount_mean_mean  \\\n",
       "0                 2.175011                  -0.536131   \n",
       "1                 6.676914                  -0.603215   \n",
       "2                 2.902502                  -0.446660   \n",
       "3                 4.018810                  -0.005687   \n",
       "4                 4.800612                  -0.489227   \n",
       "5                 2.089708                  -0.685118   \n",
       "6                 2.440540                  -0.638637   \n",
       "7                 0.909524                  -0.740077   \n",
       "8                 0.699127                  -0.590214   \n",
       "9                 3.021165                  -0.638037   \n",
       "\n",
       "   purchase_amount_mean_std  purchase_amount_min_mean          ...           \\\n",
       "0                  0.075418                 -0.702649          ...            \n",
       "1                  0.046045                 -0.730351          ...            \n",
       "2                  0.271125                 -0.725724          ...            \n",
       "3                  0.271221                 -0.646277          ...            \n",
       "4                  0.141015                 -0.728405          ...            \n",
       "5                  0.071894                 -0.728885          ...            \n",
       "6                  0.060836                 -0.700104          ...            \n",
       "7                  0.002424                 -0.742206          ...            \n",
       "8                  0.168008                 -0.686623          ...            \n",
       "9                  0.044976                 -0.721448          ...            \n",
       "\n",
       "   installments_sum_mean  installments_sum_std  installments_mean_mean  \\\n",
       "0              11.307692              4.210792                1.369646   \n",
       "1              32.500000             24.501020                1.652873   \n",
       "2               0.000000              0.000000                0.000000   \n",
       "3               0.000000              0.000000                0.000000   \n",
       "4              40.833333             14.048725                1.834943   \n",
       "5               0.000000              0.000000                0.000000   \n",
       "6              10.727273              8.427229                1.965729   \n",
       "7               0.000000              0.000000                0.000000   \n",
       "8               0.000000              0.000000                0.000000   \n",
       "9               0.000000              0.000000                0.000000   \n",
       "\n",
       "   installments_mean_std  installments_min_mean  installments_min_std  \\\n",
       "0               0.423190               1.000000              0.000000   \n",
       "1               0.410539               0.666667              0.816497   \n",
       "2               0.000000               0.000000              0.000000   \n",
       "3               0.000000               0.000000              0.000000   \n",
       "4               0.362557               0.333333              1.032796   \n",
       "5               0.000000               0.000000              0.000000   \n",
       "6               1.287108               0.818182              0.603023   \n",
       "7               0.000000               0.000000              0.000000   \n",
       "8               0.000000               0.000000              0.000000   \n",
       "9               0.000000               0.000000              0.000000   \n",
       "\n",
       "   installments_max_mean  installments_max_std  installments_std_mean  \\\n",
       "0               2.538462              1.613246               0.625428   \n",
       "1               4.666667              2.875181               1.256525   \n",
       "2               0.000000              0.000000               0.000000   \n",
       "3               0.000000              0.000000               0.000000   \n",
       "4               9.166667              2.041241               2.144389   \n",
       "5               0.000000              0.000000               0.000000   \n",
       "6               3.818182              3.341203               1.600058   \n",
       "7               0.000000              0.000000               0.000000   \n",
       "8               0.000000              0.000000               0.000000   \n",
       "9               0.000000              0.000000               0.000000   \n",
       "\n",
       "   installments_std_std  \n",
       "0              0.675607  \n",
       "1              0.521292  \n",
       "2              0.000000  \n",
       "3              0.000000  \n",
       "4              0.665529  \n",
       "5              0.000000  \n",
       "6              1.734256  \n",
       "7              0.000000  \n",
       "8              0.000000  \n",
       "9              0.000000  \n",
       "\n",
       "[10 rows x 27 columns]"
      ]
     },
     "execution_count": 484,
     "metadata": {},
     "output_type": "execute_result"
    }
   ],
   "source": [
    "def aggregate_per_month(history):\n",
    "    grouped = history.groupby(['card_id', 'month_lag'])\n",
    "\n",
    "    agg_func = {\n",
    "            'purchase_amount': ['count', 'sum', 'mean', 'min', 'max', 'std'],\n",
    "            'installments': ['count', 'sum', 'mean', 'min', 'max', 'std'],\n",
    "            }\n",
    "\n",
    "    intermediate_group = grouped.agg(agg_func)\n",
    "    intermediate_group.columns = ['_'.join(col).strip() for col in intermediate_group.columns.values]\n",
    "    intermediate_group.reset_index(inplace=True)\n",
    "\n",
    "    final_group = intermediate_group.groupby('card_id').agg(['mean', 'std'])\n",
    "    final_group.columns = ['_'.join(col).strip() for col in final_group.columns.values]\n",
    "    final_group.reset_index(inplace=True)\n",
    "    \n",
    "    return final_group\n",
    "#___________________________________________________________\n",
    "final_group =  aggregate_per_month(authorized_transactions) "
   ]
  },
  {
   "cell_type": "code",
   "execution_count": 485,
   "metadata": {},
   "outputs": [],
   "source": [
    "all_df = all_df.merge(final_group, on=['card_id'], how='left')"
   ]
  },
  {
   "cell_type": "code",
   "execution_count": 472,
   "metadata": {},
   "outputs": [],
   "source": [
    "def successive_aggregates(df, field1, field2):\n",
    "    t = df.groupby(['card_id', field1])[field2].mean()\n",
    "    u = pd.DataFrame(t).reset_index().groupby('card_id')[field2].agg(['mean', 'min', 'max', 'std'])\n",
    "    u.columns = [field1 + '_' + field2 + '_' + col for col in u.columns.values]\n",
    "    u.reset_index(inplace=True)\n",
    "    return u"
   ]
  },
  {
   "cell_type": "code",
   "execution_count": 474,
   "metadata": {},
   "outputs": [],
   "source": [
    "additional_fields = successive_aggregates(new_merchant_trans_df, 'category_1', 'purchase_amount')\n",
    "additional_fields = additional_fields.merge(successive_aggregates(new_merchant_trans_df, 'installments', 'purchase_amount'),\n",
    "                                            on = 'card_id', how='left')\n",
    "additional_fields = additional_fields.merge(successive_aggregates(new_merchant_trans_df, 'city_id', 'purchase_amount'),\n",
    "                                            on = 'card_id', how='left')\n",
    "additional_fields = additional_fields.merge(successive_aggregates(new_merchant_trans_df, 'category_1', 'installments'),\n",
    "                                            on = 'card_id', how='left')"
   ]
  },
  {
   "cell_type": "code",
   "execution_count": 476,
   "metadata": {},
   "outputs": [],
   "source": [
    "all_df = all_df.merge(additional_fields, on=['card_id'], how='left')"
   ]
  },
  {
   "cell_type": "markdown",
   "metadata": {},
   "source": [
    "### 위에까지 확정된 Feature"
   ]
  },
  {
   "cell_type": "code",
   "execution_count": null,
   "metadata": {},
   "outputs": [],
   "source": [
    "group_df = groupby_helper(historical_trans_df,['card_id'], 'purchase_date',['min', 'max'],'temp_temp')\n",
    "all_df = all_df.merge(group_df, on='card_id', how='left')\n",
    "all_df['new_hist_hist_first_buy'] = (all_df['new_hist_card_id_purchase_date_min'] - all_df['first_active_month']).dt.days\n",
    "all_df['new_hist_hist_last_buy'] = (all_df['new_hist_card_id_purchase_date_max'] - all_df['first_active_month']).dt.days\n",
    "del all_df['card_id_purchase_date_min'], all_df['card_id_purchase_date_max']"
   ]
  },
  {
   "cell_type": "code",
   "execution_count": 508,
   "metadata": {},
   "outputs": [],
   "source": [
    "all_df['first_active_month'] = pd.DatetimeIndex(all_df['first_active_month']).\\\n",
    "                                      astype(np.int64) * 1e-9"
   ]
  },
  {
   "cell_type": "code",
   "execution_count": 529,
   "metadata": {},
   "outputs": [
    {
     "name": "stdout",
     "output_type": "stream",
     "text": [
      "['card_id'] hour ['mean']\n",
      "['card_id'] weekofyear ['mean']\n"
     ]
    }
   ],
   "source": [
    "group_df = groupby_helper(historical_trans_df,['card_id'], 'hour',['mean'])\n",
    "all_df = all_df.merge(group_df, on='card_id', how='left')\n",
    "\n",
    "group_df = groupby_helper(historical_trans_df,['card_id'], 'weekofyear',['mean'])\n",
    "all_df = all_df.merge(group_df, on='card_id', how='left')"
   ]
  },
  {
   "cell_type": "code",
   "execution_count": null,
   "metadata": {},
   "outputs": [],
   "source": [
    "all_df['first_active_month']."
   ]
  },
  {
   "cell_type": "code",
   "execution_count": 500,
   "metadata": {},
   "outputs": [
    {
     "name": "stdout",
     "output_type": "stream",
     "text": [
      "['card_id'] weekofyear ['nunique', 'mean', 'min', 'max']\n"
     ]
    }
   ],
   "source": [
    "group_df = groupby_helper(historical_trans_df,['card_id'], 'weekofyear',['nunique', 'mean'])\n",
    "all_df = all_df.merge(group_df, on='card_id', how='left')"
   ]
  },
  {
   "cell_type": "code",
   "execution_count": null,
   "metadata": {},
   "outputs": [],
   "source": [
    "group_df = groupby_helper(new_merchant_trans_df,['card_id'], 'weekofyear',['nunique', 'mean'],'new_hist')\n",
    "all_df = all_df.merge(group_df, on='card_id', how='left')"
   ]
  },
  {
   "cell_type": "code",
   "execution_count": 467,
   "metadata": {},
   "outputs": [
    {
     "name": "stdout",
     "output_type": "stream",
     "text": [
      "['card_id', 'month_lag'] purchase_amount ['count', 'sum', 'mean', 'min', 'max', 'std']\n",
      "['card_id'] card_id_month_lag_purchase_amount_count ['mean', 'std']\n",
      "['card_id'] card_id_month_lag_purchase_amount_sum ['mean', 'std']\n",
      "['card_id'] card_id_month_lag_purchase_amount_mean ['mean', 'std']\n",
      "['card_id'] card_id_month_lag_purchase_amount_min ['mean', 'std']\n",
      "['card_id'] card_id_month_lag_purchase_amount_max ['mean', 'std']\n",
      "['card_id'] card_id_month_lag_purchase_amount_std ['mean', 'std']\n"
     ]
    }
   ],
   "source": [
    "temp = groupby_helper(historical_trans_df,['card_id','month_lag'], 'purchase_amount',['count', 'sum', 'mean', 'min', 'max', 'std'])\n",
    "for col in ['card_id_month_lag_purchase_amount_count',\n",
    "       'card_id_month_lag_purchase_amount_sum',\n",
    "       'card_id_month_lag_purchase_amount_mean',\n",
    "       'card_id_month_lag_purchase_amount_min',\n",
    "       'card_id_month_lag_purchase_amount_max',\n",
    "       'card_id_month_lag_purchase_amount_std']:\n",
    "    group_df = groupby_helper(temp,['card_id'], col,['mean','std'])\n",
    "    all_df = all_df.merge(group_df, on=['card_id'], how='left')"
   ]
  },
  {
   "cell_type": "code",
   "execution_count": 421,
   "metadata": {},
   "outputs": [],
   "source": [
    "new_merchant_trans_df.loc[:, 'purchase_date'] = pd.DatetimeIndex(new_merchant_trans_df['purchase_date']).\\\n",
    "                                      astype(np.int64) * 1e-9"
   ]
  },
  {
   "cell_type": "code",
   "execution_count": 419,
   "metadata": {},
   "outputs": [],
   "source": [
    "historical_trans_df.loc[:, 'purchase_date'] = pd.DatetimeIndex(historical_trans_df['purchase_date']).\\\n",
    "                                      astype(np.int64) * 1e-9"
   ]
  },
  {
   "cell_type": "code",
   "execution_count": 436,
   "metadata": {},
   "outputs": [],
   "source": [
    "historical_transactions.loc[:, 'purchase_date'] = pd.DatetimeIndex(historical_transactions['purchase_date']).\\\n",
    "                                      astype(np.int64) * 1e-9"
   ]
  },
  {
   "cell_type": "code",
   "execution_count": 437,
   "metadata": {},
   "outputs": [],
   "source": [
    "authorized_transactions.loc[:, 'purchase_date'] = pd.DatetimeIndex(authorized_transactions['purchase_date']).\\\n",
    "                                      astype(np.int64) * 1e-9"
   ]
  },
  {
   "cell_type": "code",
   "execution_count": 446,
   "metadata": {},
   "outputs": [
    {
     "name": "stdout",
     "output_type": "stream",
     "text": [
      "['card_id'] purchase_date ['min', 'max']\n"
     ]
    }
   ],
   "source": [
    "group_df = groupby_helper(historical_trans_df,['card_id'], 'purchase_date',['min', 'max'])\n",
    "all_df = all_df.merge(group_df, on=['card_id'], how='left')"
   ]
  },
  {
   "cell_type": "code",
   "execution_count": 440,
   "metadata": {},
   "outputs": [
    {
     "name": "stdout",
     "output_type": "stream",
     "text": [
      "['card_id'] purchase_date [<function ptp at 0x7f93dc0ad950>, 'min', 'max']\n",
      "['card_id'] purchase_date [<function ptp at 0x7f93dc0ad950>, 'min', 'max']\n"
     ]
    }
   ],
   "source": [
    "group_df = groupby_helper(historical_transactions,['card_id'], 'purchase_date',[np.ptp,'min', 'max'],'auth_0')\n",
    "all_df = all_df.merge(group_df, on=['card_id'], how='left')\n",
    "group_df = groupby_helper(authorized_transactions,['card_id'], 'purchase_date',[np.ptp,'min', 'max'],'auth_1')\n",
    "all_df = all_df.merge(group_df, on=['card_id'], how='left')\n"
   ]
  },
  {
   "cell_type": "code",
   "execution_count": 404,
   "metadata": {},
   "outputs": [
    {
     "name": "stdout",
     "output_type": "stream",
     "text": [
      "['card_id'] category_3_0.0 ['mean']\n",
      "['card_id'] category_3_1.0 ['mean']\n",
      "['card_id'] category_3_2.0 ['mean']\n"
     ]
    }
   ],
   "source": [
    "group_df = groupby_helper(historical_trans_df,['card_id'], 'category_3_0.0',['mean'])\n",
    "all_df = all_df.merge(group_df, on=['card_id'], how='left')\n",
    "group_df = groupby_helper(historical_trans_df,['card_id'], 'category_3_1.0',['mean'])\n",
    "all_df = all_df.merge(group_df, on=['card_id'], how='left')\n",
    "group_df = groupby_helper(historical_trans_df,['card_id'], 'category_3_2.0',['mean'])\n",
    "all_df = all_df.merge(group_df, on=['card_id'], how='left')"
   ]
  },
  {
   "cell_type": "code",
   "execution_count": 414,
   "metadata": {},
   "outputs": [
    {
     "name": "stdout",
     "output_type": "stream",
     "text": [
      "['card_id'] category_3_0.0 ['mean']\n",
      "['card_id'] category_3_1.0 ['mean']\n",
      "['card_id'] category_3_2.0 ['mean']\n"
     ]
    }
   ],
   "source": [
    "group_df = groupby_helper(new_merchant_trans_df,['card_id'], 'category_3_0.0',['mean'],'new_hist')\n",
    "all_df = all_df.merge(group_df, on=['card_id'], how='left')\n",
    "group_df = groupby_helper(new_merchant_trans_df,['card_id'], 'category_3_1.0',['mean'],'new_hist')\n",
    "all_df = all_df.merge(group_df, on=['card_id'], how='left')\n",
    "group_df = groupby_helper(new_merchant_trans_df,['card_id'], 'category_3_2.0',['mean'],'new_hist')\n",
    "all_df = all_df.merge(group_df, on=['card_id'], how='left')"
   ]
  },
  {
   "cell_type": "code",
   "execution_count": 409,
   "metadata": {},
   "outputs": [
    {
     "name": "stdout",
     "output_type": "stream",
     "text": [
      "['card_id'] category_3_0.0 ['mean']\n",
      "['card_id'] category_3_0.0 ['mean']\n",
      "['card_id'] category_3_1.0 ['mean']\n",
      "['card_id'] category_3_1.0 ['mean']\n",
      "['card_id'] category_3_2.0 ['mean']\n",
      "['card_id'] category_3_2.0 ['mean']\n"
     ]
    }
   ],
   "source": [
    "group_df = groupby_helper(historical_transactions,['card_id'], 'category_3_0.0',['mean'],'auth_0')\n",
    "all_df = all_df.merge(group_df, on=['card_id'], how='left')\n",
    "group_df = groupby_helper(authorized_transactions,['card_id'], 'category_3_0.0',['mean'],'auth_1')\n",
    "all_df = all_df.merge(group_df, on=['card_id'], how='left')\n",
    "group_df = groupby_helper(historical_transactions,['card_id'], 'category_3_1.0',['mean'],'auth_0')\n",
    "all_df = all_df.merge(group_df, on=['card_id'], how='left')\n",
    "group_df = groupby_helper(authorized_transactions,['card_id'], 'category_3_1.0',['mean'],'auth_1')\n",
    "all_df = all_df.merge(group_df, on=['card_id'], how='left')\n",
    "group_df = groupby_helper(historical_transactions,['card_id'], 'category_3_2.0',['mean'],'auth_0')\n",
    "all_df = all_df.merge(group_df, on=['card_id'], how='left')\n",
    "group_df = groupby_helper(authorized_transactions,['card_id'], 'category_3_2.0',['mean'],'auth_1')\n",
    "all_df = all_df.merge(group_df, on=['card_id'], how='left')"
   ]
  },
  {
   "cell_type": "code",
   "execution_count": 129,
   "metadata": {},
   "outputs": [
    {
     "name": "stdout",
     "output_type": "stream",
     "text": [
      "['card_id'] installments ['sum', 'max', 'min', 'mean', 'std']\n",
      "['card_id'] installments ['sum', 'max', 'min', 'mean', 'std']\n"
     ]
    }
   ],
   "source": [
    "group_df = groupby_helper(historical_transactions,['card_id'], 'installments',['sum','max','min','mean','std'],'auth_0')\n",
    "all_df = all_df.merge(group_df, on=['card_id'], how='left')\n",
    "group_df = groupby_helper(authorized_transactions,['card_id'], 'installments',['sum','max','min','mean','std'],'auth_1')\n",
    "all_df = all_df.merge(group_df, on=['card_id'], how='left')\n"
   ]
  },
  {
   "cell_type": "code",
   "execution_count": 152,
   "metadata": {
    "collapsed": true
   },
   "outputs": [
    {
     "name": "stdout",
     "output_type": "stream",
     "text": [
      "['card_id'] installments ['sum', 'max', 'min', 'mean']\n",
      "\n"
     ]
    },
    {
     "ename": "UnboundLocalError",
     "evalue": "local variable 'group_df' referenced before assignment",
     "output_type": "error",
     "traceback": [
      "\u001b[0;31m---------------------------------------------------------------------------\u001b[0m",
      "\u001b[0;31mUnboundLocalError\u001b[0m                         Traceback (most recent call last)",
      "\u001b[0;32m<ipython-input-152-5509f4d97fd4>\u001b[0m in \u001b[0;36m<module>\u001b[0;34m()\u001b[0m\n\u001b[0;32m----> 1\u001b[0;31m \u001b[0mgroup_df\u001b[0m \u001b[0;34m=\u001b[0m \u001b[0mgroupby_helper\u001b[0m\u001b[0;34m(\u001b[0m\u001b[0mhistorical_trans_df\u001b[0m\u001b[0;34m,\u001b[0m\u001b[0;34m[\u001b[0m\u001b[0;34m'card_id'\u001b[0m\u001b[0;34m]\u001b[0m\u001b[0;34m,\u001b[0m \u001b[0;34m'installments'\u001b[0m\u001b[0;34m,\u001b[0m\u001b[0;34m[\u001b[0m\u001b[0;34m'sum'\u001b[0m\u001b[0;34m,\u001b[0m\u001b[0;34m'max'\u001b[0m\u001b[0;34m,\u001b[0m\u001b[0;34m'min'\u001b[0m\u001b[0;34m,\u001b[0m\u001b[0;34m'mean'\u001b[0m\u001b[0;34m]\u001b[0m\u001b[0;34m)\u001b[0m\u001b[0;34m\u001b[0m\u001b[0m\n\u001b[0m\u001b[1;32m      2\u001b[0m \u001b[0mall_df\u001b[0m \u001b[0;34m=\u001b[0m \u001b[0mall_df\u001b[0m\u001b[0;34m.\u001b[0m\u001b[0mmerge\u001b[0m\u001b[0;34m(\u001b[0m\u001b[0mgroup_df\u001b[0m\u001b[0;34m,\u001b[0m \u001b[0mon\u001b[0m\u001b[0;34m=\u001b[0m\u001b[0;34m[\u001b[0m\u001b[0;34m'card_id'\u001b[0m\u001b[0;34m]\u001b[0m\u001b[0;34m,\u001b[0m \u001b[0mhow\u001b[0m\u001b[0;34m=\u001b[0m\u001b[0;34m'left'\u001b[0m\u001b[0;34m)\u001b[0m\u001b[0;34m\u001b[0m\u001b[0m\n\u001b[1;32m      3\u001b[0m \u001b[0;34m\u001b[0m\u001b[0m\n\u001b[1;32m      4\u001b[0m \u001b[0mgroup_df\u001b[0m \u001b[0;34m=\u001b[0m \u001b[0mgroupby_helper\u001b[0m\u001b[0;34m(\u001b[0m\u001b[0mhistorical_trans_df\u001b[0m\u001b[0;34m,\u001b[0m\u001b[0;34m[\u001b[0m\u001b[0;34m'card_id'\u001b[0m\u001b[0;34m]\u001b[0m\u001b[0;34m,\u001b[0m \u001b[0;34m'month_lag'\u001b[0m\u001b[0;34m,\u001b[0m\u001b[0;34m[\u001b[0m\u001b[0;34m'max'\u001b[0m\u001b[0;34m,\u001b[0m\u001b[0;34m'min'\u001b[0m\u001b[0;34m,\u001b[0m\u001b[0;34m'mean'\u001b[0m\u001b[0;34m,\u001b[0m\u001b[0;34m'std'\u001b[0m\u001b[0;34m]\u001b[0m\u001b[0;34m)\u001b[0m\u001b[0;34m\u001b[0m\u001b[0m\n\u001b[1;32m      5\u001b[0m \u001b[0mall_df\u001b[0m \u001b[0;34m=\u001b[0m \u001b[0mall_df\u001b[0m\u001b[0;34m.\u001b[0m\u001b[0mmerge\u001b[0m\u001b[0;34m(\u001b[0m\u001b[0mgroup_df\u001b[0m\u001b[0;34m,\u001b[0m \u001b[0mon\u001b[0m\u001b[0;34m=\u001b[0m\u001b[0;34m[\u001b[0m\u001b[0;34m'card_id'\u001b[0m\u001b[0;34m]\u001b[0m\u001b[0;34m,\u001b[0m \u001b[0mhow\u001b[0m\u001b[0;34m=\u001b[0m\u001b[0;34m'left'\u001b[0m\u001b[0;34m)\u001b[0m\u001b[0;34m\u001b[0m\u001b[0m\n",
      "\u001b[0;32m<ipython-input-9-7ae5b8c2ef03>\u001b[0m in \u001b[0;36mgroupby_helper\u001b[0;34m(df, group_col, target_col, agg_method, prefix_param)\u001b[0m\n\u001b[1;32m     20\u001b[0m     \u001b[0;32mexcept\u001b[0m \u001b[0mBaseException\u001b[0m \u001b[0;32mas\u001b[0m \u001b[0me\u001b[0m\u001b[0;34m:\u001b[0m\u001b[0;34m\u001b[0m\u001b[0m\n\u001b[1;32m     21\u001b[0m         \u001b[0mprint\u001b[0m\u001b[0;34m(\u001b[0m\u001b[0me\u001b[0m\u001b[0;34m)\u001b[0m\u001b[0;34m\u001b[0m\u001b[0m\n\u001b[0;32m---> 22\u001b[0;31m     \u001b[0;32mreturn\u001b[0m \u001b[0mgroup_df\u001b[0m\u001b[0;34m.\u001b[0m\u001b[0mreset_index\u001b[0m\u001b[0;34m(\u001b[0m\u001b[0;34m)\u001b[0m\u001b[0;34m\u001b[0m\u001b[0m\n\u001b[0m",
      "\u001b[0;31mUnboundLocalError\u001b[0m: local variable 'group_df' referenced before assignment"
     ]
    }
   ],
   "source": [
    "group_df = groupby_helper(historical_trans_df,['card_id'], 'installments',['sum','max','min','mean'])\n",
    "all_df = all_df.merge(group_df, on=['card_id'], how='left')\n",
    "\n",
    "group_df = groupby_helper(historical_trans_df,['card_id'], 'month_lag',['max','min','mean','std'])\n",
    "all_df = all_df.merge(group_df, on=['card_id'], how='left')"
   ]
  },
  {
   "cell_type": "code",
   "execution_count": 534,
   "metadata": {},
   "outputs": [
    {
     "name": "stdout",
     "output_type": "stream",
     "text": [
      "card_id_weekofyear_mean\n"
     ]
    }
   ],
   "source": [
    "for col in all_df.columns:\n",
    "    if col.find('card_id_weekofyear_mean') != -1:\n",
    "        print(col)\n",
    "        del all_df[col]"
   ]
  },
  {
   "cell_type": "code",
   "execution_count": 535,
   "metadata": {
    "scrolled": true
   },
   "outputs": [
    {
     "data": {
      "text/plain": [
       "['dayofweek',\n",
       " 'dayofyear',\n",
       " 'elapsed_time',\n",
       " 'feature_1',\n",
       " 'feature_2',\n",
       " 'feature_3',\n",
       " 'month',\n",
       " 'quarter',\n",
       " 'weekofyear',\n",
       " 'dayofyear_outliers_mean',\n",
       " 'elapsed_time_outliers_mean',\n",
       " 'card_id_authorized_flag_mean',\n",
       " 'card_id_authorized_flag_size',\n",
       " 'card_id_authorized_flag_sum',\n",
       " 'card_id_purchase_amount_sum',\n",
       " 'card_id_purchase_amount_max',\n",
       " 'card_id_purchase_amount_min',\n",
       " 'card_id_purchase_amount_mean',\n",
       " 'card_id_purchase_amount_std',\n",
       " 'card_id_installments_sum',\n",
       " 'card_id_installments_max',\n",
       " 'card_id_installments_min',\n",
       " 'card_id_installments_mean',\n",
       " 'card_id_installments_std',\n",
       " 'new_hist_card_id_purchase_amount_sum',\n",
       " 'new_hist_card_id_purchase_amount_max',\n",
       " 'new_hist_card_id_purchase_amount_min',\n",
       " 'new_hist_card_id_purchase_amount_mean',\n",
       " 'new_hist_card_id_purchase_amount_std',\n",
       " 'new_hist_card_id_installments_sum',\n",
       " 'new_hist_card_id_installments_max',\n",
       " 'new_hist_card_id_installments_min',\n",
       " 'new_hist_card_id_installments_mean',\n",
       " 'new_hist_card_id_installments_std',\n",
       " 'auth_0_card_id_month_nunique',\n",
       " 'auth_0_card_id_month_max',\n",
       " 'auth_0_card_id_month_min',\n",
       " 'auth_0_card_id_month_mean',\n",
       " 'auth_0_card_id_month_std',\n",
       " 'auth_1_card_id_month_nunique',\n",
       " 'auth_1_card_id_month_max',\n",
       " 'auth_1_card_id_month_min',\n",
       " 'auth_1_card_id_month_mean',\n",
       " 'auth_1_card_id_month_std',\n",
       " 'new_hist_card_id_month_nunique',\n",
       " 'new_hist_card_id_month_max',\n",
       " 'new_hist_card_id_month_min',\n",
       " 'new_hist_card_id_month_mean',\n",
       " 'card_id_month_lag_max',\n",
       " 'card_id_month_lag_min',\n",
       " 'card_id_month_lag_mean',\n",
       " 'card_id_month_lag_std',\n",
       " 'new_hist_card_id_month_lag_max',\n",
       " 'new_hist_card_id_month_lag_min',\n",
       " 'new_hist_card_id_month_lag_mean',\n",
       " 'new_hist_card_id_month_lag_std',\n",
       " 'card_id_merchant_id_nunique',\n",
       " 'auth_0_card_id_merchant_category_id_nunique',\n",
       " 'auth_1_card_id_merchant_category_id_nunique',\n",
       " 'auth_0_card_id_subsector_id_nunique',\n",
       " 'auth_1_card_id_subsector_id_nunique',\n",
       " 'auth_0_card_id_state_id_nunique',\n",
       " 'auth_1_card_id_state_id_nunique',\n",
       " 'card_id_city_id_nunique',\n",
       " 'new_hist_card_id_merchant_category_id_nunique',\n",
       " 'new_hist_card_id_subsector_id_nunique',\n",
       " 'new_hist_card_id_state_id_nunique',\n",
       " 'card_id_month_diff_mean',\n",
       " 'new_hist_card_id_month_diff_mean',\n",
       " 'card_id_category_1_sum',\n",
       " 'card_id_category_1_mean',\n",
       " 'new_hist_card_id_category_1_sum',\n",
       " 'new_hist_card_id_category_1_mean',\n",
       " 'auth_0_card_id_card_id_size',\n",
       " 'auth_1_card_id_card_id_size',\n",
       " 'new_hist_card_id_card_id_size',\n",
       " 'card_id_category_2_1.0_mean',\n",
       " 'card_id_category_2_2.0_mean',\n",
       " 'card_id_category_2_3.0_mean',\n",
       " 'card_id_category_2_4.0_mean',\n",
       " 'card_id_category_2_5.0_mean',\n",
       " 'new_hist_card_id_category_2_1.0_mean',\n",
       " 'new_hist_card_id_category_2_2.0_mean',\n",
       " 'new_hist_card_id_category_2_3.0_mean',\n",
       " 'new_hist_card_id_category_2_4.0_mean',\n",
       " 'new_hist_card_id_category_2_5.0_mean',\n",
       " 'card_id_purchase_date_min',\n",
       " 'card_id_purchase_date_max',\n",
       " 'new_hist_card_id_purchase_date_min',\n",
       " 'new_hist_card_id_purchase_date_max',\n",
       " 'category_1_purchase_amount_mean',\n",
       " 'category_1_purchase_amount_min',\n",
       " 'category_1_purchase_amount_max',\n",
       " 'category_1_purchase_amount_std',\n",
       " 'installments_purchase_amount_mean',\n",
       " 'installments_purchase_amount_min',\n",
       " 'installments_purchase_amount_max',\n",
       " 'installments_purchase_amount_std',\n",
       " 'city_id_purchase_amount_mean',\n",
       " 'city_id_purchase_amount_min',\n",
       " 'city_id_purchase_amount_max',\n",
       " 'city_id_purchase_amount_std',\n",
       " 'category_1_installments_mean',\n",
       " 'category_1_installments_min',\n",
       " 'category_1_installments_max',\n",
       " 'category_1_installments_std',\n",
       " 'month_lag_mean',\n",
       " 'month_lag_std',\n",
       " 'purchase_amount_count_mean',\n",
       " 'purchase_amount_count_std',\n",
       " 'purchase_amount_sum_mean',\n",
       " 'purchase_amount_sum_std',\n",
       " 'purchase_amount_mean_mean',\n",
       " 'purchase_amount_mean_std',\n",
       " 'purchase_amount_min_mean',\n",
       " 'purchase_amount_min_std',\n",
       " 'purchase_amount_max_mean',\n",
       " 'purchase_amount_max_std',\n",
       " 'purchase_amount_std_mean',\n",
       " 'purchase_amount_std_std',\n",
       " 'installments_count_mean',\n",
       " 'installments_count_std',\n",
       " 'installments_sum_mean',\n",
       " 'installments_sum_std',\n",
       " 'installments_mean_mean',\n",
       " 'installments_mean_std',\n",
       " 'installments_min_mean',\n",
       " 'installments_min_std',\n",
       " 'installments_max_mean',\n",
       " 'installments_max_std',\n",
       " 'installments_std_mean',\n",
       " 'installments_std_std']"
      ]
     },
     "execution_count": 535,
     "metadata": {},
     "output_type": "execute_result"
    }
   ],
   "source": [
    "train_df = all_df.loc[all_df['target'].notnull()]\n",
    "test_df = all_df.loc[all_df['target'].isnull()]\n",
    "\n",
    "train_columns = [c for c in train_df.columns if c not in ['card_id', 'first_active_month','target','outliers']]\n",
    "train_columns"
   ]
  },
  {
   "cell_type": "code",
   "execution_count": 536,
   "metadata": {},
   "outputs": [
    {
     "data": {
      "text/plain": [
       "['dayofweek',\n",
       " 'dayofyear',\n",
       " 'elapsed_time',\n",
       " 'feature_1',\n",
       " 'feature_2',\n",
       " 'feature_3',\n",
       " 'month',\n",
       " 'quarter',\n",
       " 'weekofyear',\n",
       " 'dayofyear_outliers_mean',\n",
       " 'elapsed_time_outliers_mean',\n",
       " 'card_id_authorized_flag_mean',\n",
       " 'card_id_authorized_flag_size',\n",
       " 'card_id_authorized_flag_sum',\n",
       " 'card_id_purchase_amount_sum',\n",
       " 'card_id_purchase_amount_max',\n",
       " 'card_id_purchase_amount_min',\n",
       " 'card_id_purchase_amount_mean',\n",
       " 'card_id_purchase_amount_std',\n",
       " 'card_id_installments_sum',\n",
       " 'card_id_installments_max',\n",
       " 'card_id_installments_min',\n",
       " 'card_id_installments_mean',\n",
       " 'card_id_installments_std',\n",
       " 'new_hist_card_id_purchase_amount_sum',\n",
       " 'new_hist_card_id_purchase_amount_max',\n",
       " 'new_hist_card_id_purchase_amount_min',\n",
       " 'new_hist_card_id_purchase_amount_mean',\n",
       " 'new_hist_card_id_purchase_amount_std',\n",
       " 'new_hist_card_id_installments_sum',\n",
       " 'new_hist_card_id_installments_max',\n",
       " 'new_hist_card_id_installments_min',\n",
       " 'new_hist_card_id_installments_mean',\n",
       " 'new_hist_card_id_installments_std',\n",
       " 'auth_0_card_id_month_nunique',\n",
       " 'auth_0_card_id_month_max',\n",
       " 'auth_0_card_id_month_min',\n",
       " 'auth_0_card_id_month_mean',\n",
       " 'auth_0_card_id_month_std',\n",
       " 'auth_1_card_id_month_nunique',\n",
       " 'auth_1_card_id_month_max',\n",
       " 'auth_1_card_id_month_min',\n",
       " 'auth_1_card_id_month_mean',\n",
       " 'auth_1_card_id_month_std',\n",
       " 'new_hist_card_id_month_nunique',\n",
       " 'new_hist_card_id_month_max',\n",
       " 'new_hist_card_id_month_min',\n",
       " 'new_hist_card_id_month_mean',\n",
       " 'card_id_month_lag_max',\n",
       " 'card_id_month_lag_min',\n",
       " 'card_id_month_lag_mean',\n",
       " 'card_id_month_lag_std',\n",
       " 'new_hist_card_id_month_lag_max',\n",
       " 'new_hist_card_id_month_lag_min',\n",
       " 'new_hist_card_id_month_lag_mean',\n",
       " 'new_hist_card_id_month_lag_std',\n",
       " 'card_id_merchant_id_nunique',\n",
       " 'auth_0_card_id_merchant_category_id_nunique',\n",
       " 'auth_1_card_id_merchant_category_id_nunique',\n",
       " 'auth_0_card_id_subsector_id_nunique',\n",
       " 'auth_1_card_id_subsector_id_nunique',\n",
       " 'auth_0_card_id_state_id_nunique',\n",
       " 'auth_1_card_id_state_id_nunique',\n",
       " 'card_id_city_id_nunique',\n",
       " 'new_hist_card_id_merchant_category_id_nunique',\n",
       " 'new_hist_card_id_subsector_id_nunique',\n",
       " 'new_hist_card_id_state_id_nunique',\n",
       " 'card_id_month_diff_mean',\n",
       " 'new_hist_card_id_month_diff_mean',\n",
       " 'card_id_category_1_sum',\n",
       " 'card_id_category_1_mean',\n",
       " 'new_hist_card_id_category_1_sum',\n",
       " 'new_hist_card_id_category_1_mean',\n",
       " 'auth_0_card_id_card_id_size',\n",
       " 'auth_1_card_id_card_id_size',\n",
       " 'new_hist_card_id_card_id_size',\n",
       " 'card_id_category_2_1.0_mean',\n",
       " 'card_id_category_2_2.0_mean',\n",
       " 'card_id_category_2_3.0_mean',\n",
       " 'card_id_category_2_4.0_mean',\n",
       " 'card_id_category_2_5.0_mean',\n",
       " 'new_hist_card_id_category_2_1.0_mean',\n",
       " 'new_hist_card_id_category_2_2.0_mean',\n",
       " 'new_hist_card_id_category_2_3.0_mean',\n",
       " 'new_hist_card_id_category_2_4.0_mean',\n",
       " 'new_hist_card_id_category_2_5.0_mean',\n",
       " 'card_id_purchase_date_min',\n",
       " 'card_id_purchase_date_max',\n",
       " 'new_hist_card_id_purchase_date_min',\n",
       " 'new_hist_card_id_purchase_date_max',\n",
       " 'category_1_purchase_amount_mean',\n",
       " 'category_1_purchase_amount_min',\n",
       " 'category_1_purchase_amount_max',\n",
       " 'category_1_purchase_amount_std',\n",
       " 'installments_purchase_amount_mean',\n",
       " 'installments_purchase_amount_min',\n",
       " 'installments_purchase_amount_max',\n",
       " 'installments_purchase_amount_std',\n",
       " 'city_id_purchase_amount_mean',\n",
       " 'city_id_purchase_amount_min',\n",
       " 'city_id_purchase_amount_max',\n",
       " 'city_id_purchase_amount_std',\n",
       " 'category_1_installments_mean',\n",
       " 'category_1_installments_min',\n",
       " 'category_1_installments_max',\n",
       " 'category_1_installments_std',\n",
       " 'month_lag_mean',\n",
       " 'month_lag_std',\n",
       " 'purchase_amount_count_mean',\n",
       " 'purchase_amount_count_std',\n",
       " 'purchase_amount_sum_mean',\n",
       " 'purchase_amount_sum_std',\n",
       " 'purchase_amount_mean_mean',\n",
       " 'purchase_amount_mean_std',\n",
       " 'purchase_amount_min_mean',\n",
       " 'purchase_amount_min_std',\n",
       " 'purchase_amount_max_mean',\n",
       " 'purchase_amount_max_std',\n",
       " 'purchase_amount_std_mean',\n",
       " 'purchase_amount_std_std',\n",
       " 'installments_count_mean',\n",
       " 'installments_count_std',\n",
       " 'installments_sum_mean',\n",
       " 'installments_sum_std',\n",
       " 'installments_mean_mean',\n",
       " 'installments_mean_std',\n",
       " 'installments_min_mean',\n",
       " 'installments_min_std',\n",
       " 'installments_max_mean',\n",
       " 'installments_max_std',\n",
       " 'installments_std_mean',\n",
       " 'installments_std_std',\n",
       " 'ica_1',\n",
       " 'ica_2',\n",
       " 'ica_3',\n",
       " 'ica_4',\n",
       " 'ica_5',\n",
       " 'ica_6',\n",
       " 'ica_7',\n",
       " 'ica_8',\n",
       " 'ica_9',\n",
       " 'ica_10',\n",
       " 'ica_11',\n",
       " 'ica_12']"
      ]
     },
     "execution_count": 536,
     "metadata": {},
     "output_type": "execute_result"
    }
   ],
   "source": [
    "# PCA\n",
    "n_comp = 12\n",
    "\n",
    "# ICA\n",
    "ica = FastICA(n_components=n_comp, random_state=2019)\n",
    "ica2_results_train = ica.fit_transform(train_df[train_columns].fillna(-1))\n",
    "ica2_results_test = ica.transform(test_df[train_columns].fillna(-1))\n",
    "\n",
    "for i in range(1, n_comp+1):\n",
    "    train_df['ica_' + str(i)] = ica2_results_train[:,i-1]\n",
    "    test_df['ica_' + str(i)] = ica2_results_test[:, i-1]\n",
    "    train_columns.append('ica_' + str(i))\n",
    "\n",
    "train_columns"
   ]
  },
  {
   "cell_type": "code",
   "execution_count": 538,
   "metadata": {},
   "outputs": [
    {
     "data": {
      "text/plain": [
       "(201917, 147)"
      ]
     },
     "execution_count": 538,
     "metadata": {},
     "output_type": "execute_result"
    }
   ],
   "source": [
    "train = train_df.copy()\n",
    "target = train['target']\n",
    "del train['target']\n",
    "\n",
    "# categorical_feats = ['feature_2', 'feature_3']\n",
    "\n",
    "train.shape"
   ]
  },
  {
   "cell_type": "code",
   "execution_count": 539,
   "metadata": {},
   "outputs": [
    {
     "name": "stdout",
     "output_type": "stream",
     "text": [
      "fold 1\n",
      "Training until validation scores don't improve for 100 rounds.\n",
      "[100]\ttraining's rmse: 3.61214\tvalid_1's rmse: 3.69163\n",
      "[200]\ttraining's rmse: 3.52478\tvalid_1's rmse: 3.66489\n",
      "[300]\ttraining's rmse: 3.46897\tvalid_1's rmse: 3.65499\n",
      "[400]\ttraining's rmse: 3.42709\tvalid_1's rmse: 3.64987\n",
      "[500]\ttraining's rmse: 3.39152\tvalid_1's rmse: 3.64777\n",
      "[600]\ttraining's rmse: 3.36026\tvalid_1's rmse: 3.64659\n",
      "[700]\ttraining's rmse: 3.33115\tvalid_1's rmse: 3.64632\n",
      "[800]\ttraining's rmse: 3.30372\tvalid_1's rmse: 3.64654\n",
      "Early stopping, best iteration is:\n",
      "[713]\ttraining's rmse: 3.32754\tvalid_1's rmse: 3.64611\n",
      "fold 2\n",
      "Training until validation scores don't improve for 100 rounds.\n",
      "[100]\ttraining's rmse: 3.60885\tvalid_1's rmse: 3.69906\n",
      "[200]\ttraining's rmse: 3.52275\tvalid_1's rmse: 3.67458\n",
      "[300]\ttraining's rmse: 3.46711\tvalid_1's rmse: 3.66558\n",
      "[400]\ttraining's rmse: 3.42702\tvalid_1's rmse: 3.66076\n",
      "[500]\ttraining's rmse: 3.39325\tvalid_1's rmse: 3.65905\n",
      "[600]\ttraining's rmse: 3.36039\tvalid_1's rmse: 3.65825\n",
      "[700]\ttraining's rmse: 3.33079\tvalid_1's rmse: 3.65657\n",
      "[800]\ttraining's rmse: 3.30555\tvalid_1's rmse: 3.65595\n",
      "Early stopping, best iteration is:\n",
      "[785]\ttraining's rmse: 3.30908\tvalid_1's rmse: 3.65589\n",
      "fold 3\n",
      "Training until validation scores don't improve for 100 rounds.\n",
      "[100]\ttraining's rmse: 3.61286\tvalid_1's rmse: 3.68174\n",
      "[200]\ttraining's rmse: 3.52467\tvalid_1's rmse: 3.65828\n",
      "[300]\ttraining's rmse: 3.46728\tvalid_1's rmse: 3.64952\n",
      "[400]\ttraining's rmse: 3.42507\tvalid_1's rmse: 3.64491\n",
      "[500]\ttraining's rmse: 3.38983\tvalid_1's rmse: 3.64405\n",
      "[600]\ttraining's rmse: 3.35914\tvalid_1's rmse: 3.6435\n",
      "Early stopping, best iteration is:\n",
      "[542]\ttraining's rmse: 3.3767\tvalid_1's rmse: 3.64321\n",
      "fold 4\n",
      "Training until validation scores don't improve for 100 rounds.\n",
      "[100]\ttraining's rmse: 3.60637\tvalid_1's rmse: 3.70705\n",
      "[200]\ttraining's rmse: 3.51784\tvalid_1's rmse: 3.68746\n",
      "[300]\ttraining's rmse: 3.46297\tvalid_1's rmse: 3.67913\n",
      "[400]\ttraining's rmse: 3.42092\tvalid_1's rmse: 3.67539\n",
      "[500]\ttraining's rmse: 3.38607\tvalid_1's rmse: 3.67391\n",
      "[600]\ttraining's rmse: 3.3543\tvalid_1's rmse: 3.67331\n",
      "[700]\ttraining's rmse: 3.32619\tvalid_1's rmse: 3.6729\n",
      "[800]\ttraining's rmse: 3.29849\tvalid_1's rmse: 3.6729\n",
      "[900]\ttraining's rmse: 3.27228\tvalid_1's rmse: 3.67281\n",
      "Early stopping, best iteration is:\n",
      "[862]\ttraining's rmse: 3.28245\tvalid_1's rmse: 3.67257\n",
      "fold 5\n",
      "Training until validation scores don't improve for 100 rounds.\n",
      "[100]\ttraining's rmse: 3.60753\tvalid_1's rmse: 3.69984\n",
      "[200]\ttraining's rmse: 3.52052\tvalid_1's rmse: 3.67774\n",
      "[300]\ttraining's rmse: 3.46328\tvalid_1's rmse: 3.66974\n",
      "[400]\ttraining's rmse: 3.42113\tvalid_1's rmse: 3.66583\n",
      "[500]\ttraining's rmse: 3.38466\tvalid_1's rmse: 3.66419\n",
      "[600]\ttraining's rmse: 3.35305\tvalid_1's rmse: 3.66348\n",
      "[700]\ttraining's rmse: 3.32247\tvalid_1's rmse: 3.66329\n",
      "Early stopping, best iteration is:\n",
      "[663]\ttraining's rmse: 3.33354\tvalid_1's rmse: 3.66271\n",
      "3.6561141112077813\n"
     ]
    }
   ],
   "source": [
    "param = {'num_leaves': 31,\n",
    "         'min_data_in_leaf': 30, \n",
    "         'objective':'regression',\n",
    "         'max_depth': -1,\n",
    "         'learning_rate': 0.015,\n",
    "         \"min_child_samples\": 20,\n",
    "         \"boosting\": \"gbdt\",\n",
    "         \"feature_fraction\": 0.9,\n",
    "         \"bagging_freq\": 1,\n",
    "         \"bagging_fraction\": 0.9 ,\n",
    "         \"bagging_seed\": 11,\n",
    "         \"metric\": 'rmse',\n",
    "         \"lambda_l1\": 0.1,\n",
    "         \"verbosity\": -1,\n",
    "         \"nthread\": 24,\n",
    "         \"random_state\": 4590}\n",
    "\n",
    "#prepare fit model with cross-validation\n",
    "folds = StratifiedKFold(n_splits=5, shuffle=True, random_state=2019)\n",
    "oof = np.zeros(len(train))\n",
    "predictions = np.zeros(len(test_df))\n",
    "feature_importance_df = pd.DataFrame()\n",
    "\n",
    "for fold_, (trn_idx, val_idx) in enumerate(folds.split(train, train['outliers'].values)):\n",
    "    strLog = \"fold {}\".format(fold_+1)\n",
    "    print(strLog)\n",
    "    trn_data = lgb.Dataset(train.iloc[trn_idx][train_columns], label=target.iloc[trn_idx])#, categorical_feature=categorical_feats)\n",
    "    val_data = lgb.Dataset(train.iloc[val_idx][train_columns], label=target.iloc[val_idx])#, categorical_feature=categorical_feats)\n",
    "\n",
    "    num_round = 10000\n",
    "    clf = lgb.train(param, trn_data, num_round, valid_sets = [trn_data, val_data], verbose_eval=100, early_stopping_rounds = 100)\n",
    "    oof[val_idx] = clf.predict(train.iloc[val_idx][train_columns], num_iteration=clf.best_iteration)\n",
    "    \n",
    "    #feature importance\n",
    "    fold_importance_df = pd.DataFrame()\n",
    "    fold_importance_df[\"Feature\"] = train_columns\n",
    "    fold_importance_df[\"importance\"] = clf.feature_importance()\n",
    "    fold_importance_df[\"fold\"] = fold_ + 1\n",
    "    feature_importance_df = pd.concat([feature_importance_df, fold_importance_df], axis=0)\n",
    "    #predictions\n",
    "    predictions += clf.predict(test_df[train_columns], num_iteration=clf.best_iteration) / folds.n_splits\n",
    "    \n",
    "cv_score = np.sqrt(mean_squared_error(oof, target))\n",
    "print(cv_score)"
   ]
  },
  {
   "cell_type": "code",
   "execution_count": 540,
   "metadata": {},
   "outputs": [
    {
     "data": {
      "image/png": "[encoded data removed]",
      "text/plain": [
       "<Figure size 1008x1872 with 1 Axes>"
      ]
     },
     "metadata": {},
     "output_type": "display_data"
    }
   ],
   "source": [
    "filename = '{}_cv{:.6f}'.format(datetime.now().strftime('%Y%m%d_%H%M%S'), cv_score)\n",
    "\n",
    "cols = (feature_importance_df[[\"Feature\", \"importance\"]]\n",
    "        .groupby(\"Feature\")\n",
    "        .mean()\n",
    "        .sort_values(by=\"importance\", ascending=False)[:1000].index)\n",
    "best_features = feature_importance_df.loc[feature_importance_df.Feature.isin(cols)]\n",
    "\n",
    "plt.figure(figsize=(14,26))\n",
    "sns.barplot(x=\"importance\", y=\"Feature\", data=best_features.sort_values(by=\"importance\",ascending=False))\n",
    "plt.title('LightGBM Features (averaged over folds)')\n",
    "plt.tight_layout()\n",
    "plt.savefig('fi/{}_lgbm_importances.png'.format(filename))"
   ]
  },
  {
   "cell_type": "code",
   "execution_count": 541,
   "metadata": {},
   "outputs": [],
   "source": [
    "sub_df = pd.DataFrame({\"card_id\":test_df[\"card_id\"].values})\n",
    "sub_df[\"target\"] = predictions\n",
    "#sub_df.loc[sub_df['target']<-9,'target'] = -33.21928095\n",
    "sub_df.to_csv(\"output/submission_{}.csv\".format(filename), index=False)"
   ]
  },
  {
   "cell_type": "markdown",
   "metadata": {},
   "source": [
    "    실패한 피쳐"
   ]
  },
  {
   "cell_type": "code",
   "execution_count": 493,
   "metadata": {
    "scrolled": true
   },
   "outputs": [],
   "source": [
    "all_df['card_id_total'] = all_df['auth_0_card_id_card_id_size'] + all_df['auth_1_card_id_card_id_size'] + all_df['new_hist_card_id_card_id_size']\n",
    "all_df['card_id_diff'] = all_df['auth_0_card_id_card_id_size'] + all_df['auth_1_card_id_card_id_size'] - all_df['new_hist_card_id_card_id_size']\n",
    "all_df['card_id_ratio'] = (all_df['auth_0_card_id_card_id_size'] + all_df['auth_1_card_id_card_id_size'])/all_df['new_hist_card_id_card_id_size']"
   ]
  }
 ],
 "metadata": {
  "kernelspec": {
   "display_name": "Python 3",
   "language": "python",
   "name": "python3"
  },
  "language_info": {
   "codemirror_mode": {
    "name": "ipython",
    "version": 3
   },
   "file_extension": ".py",
   "mimetype": "text/x-python",
   "name": "python",
   "nbconvert_exporter": "python",
   "pygments_lexer": "ipython3",
   "version": "3.6.5"
  }
 },
 "nbformat": 4,
 "nbformat_minor": 2
}
