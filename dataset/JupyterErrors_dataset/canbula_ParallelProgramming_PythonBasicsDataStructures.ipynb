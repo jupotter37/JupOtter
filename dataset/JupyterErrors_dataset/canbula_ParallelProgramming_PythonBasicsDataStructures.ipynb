{
 "cells": [
  {
   "attachments": {},
   "cell_type": "markdown",
   "metadata": {},
   "source": [
    "# Python Basics and Data Structures"
   ]
  },
  {
   "attachments": {},
   "cell_type": "markdown",
   "metadata": {},
   "source": [
    "## Variables\n",
    "Variables are symbols for memory addresses."
   ]
  },
  {
   "cell_type": "code",
   "execution_count": 2,
   "metadata": {},
   "outputs": [],
   "source": [
    "a = 7"
   ]
  },
  {
   "cell_type": "code",
   "execution_count": 3,
   "metadata": {},
   "outputs": [
    {
     "data": {
      "text/plain": [
       "7"
      ]
     },
     "execution_count": 3,
     "metadata": {},
     "output_type": "execute_result"
    }
   ],
   "source": [
    "a"
   ]
  },
  {
   "cell_type": "code",
   "execution_count": 5,
   "metadata": {},
   "outputs": [
    {
     "data": {
      "text/plain": [
       "'0x1025229f0'"
      ]
     },
     "execution_count": 5,
     "metadata": {},
     "output_type": "execute_result"
    }
   ],
   "source": [
    "hex(id(a))"
   ]
  },
  {
   "cell_type": "code",
   "execution_count": 6,
   "metadata": {},
   "outputs": [
    {
     "data": {
      "text/plain": [
       "'0x1025229f0'"
      ]
     },
     "execution_count": 6,
     "metadata": {},
     "output_type": "execute_result"
    }
   ],
   "source": [
    "hex(id(7))"
   ]
  },
  {
   "cell_type": "code",
   "execution_count": 7,
   "metadata": {},
   "outputs": [
    {
     "data": {
      "text/plain": [
       "'0x102522a10'"
      ]
     },
     "execution_count": 7,
     "metadata": {},
     "output_type": "execute_result"
    }
   ],
   "source": [
    "hex(id(8))"
   ]
  },
  {
   "cell_type": "code",
   "execution_count": 8,
   "metadata": {},
   "outputs": [],
   "source": [
    "a = 8"
   ]
  },
  {
   "cell_type": "code",
   "execution_count": 9,
   "metadata": {},
   "outputs": [
    {
     "data": {
      "text/plain": [
       "'0x102522a10'"
      ]
     },
     "execution_count": 9,
     "metadata": {},
     "output_type": "execute_result"
    }
   ],
   "source": [
    "hex(id(a))"
   ]
  },
  {
   "attachments": {},
   "cell_type": "markdown",
   "metadata": {},
   "source": [
    "## Identifier Names\n",
    "For variables, functions, classes ... we use idetifier names. We must obey some rules and we should follow some conventions with these names."
   ]
  },
  {
   "cell_type": "code",
   "execution_count": 11,
   "metadata": {},
   "outputs": [
    {
     "name": "stdout",
     "output_type": "stream",
     "text": [
      "1\n",
      "2\n"
     ]
    }
   ],
   "source": [
    "# Rule: Names are case sensitive. Combination of uppercase / lowercase letters matters.\n",
    "var = 1\n",
    "Var = 2\n",
    "print(var)\n",
    "print(Var)"
   ]
  },
  {
   "cell_type": "code",
   "execution_count": 14,
   "metadata": {},
   "outputs": [
    {
     "name": "stdout",
     "output_type": "stream",
     "text": [
      "3\n",
      "4\n",
      "5\n"
     ]
    }
   ],
   "source": [
    "# Rule: Names can be a combination of letters (a-z, A-Z), digits (0-9), and underscore.\n",
    "var1 = 3\n",
    "print(var1)\n",
    "var_1 = 4\n",
    "print(var_1)\n",
    "_var1 = 5\n",
    "print(_var1)"
   ]
  },
  {
   "cell_type": "code",
   "execution_count": 15,
   "metadata": {},
   "outputs": [
    {
     "ename": "SyntaxError",
     "evalue": "invalid decimal literal (684867113.py, line 2)",
     "output_type": "error",
     "traceback": [
      "\u001b[0;36m  Cell \u001b[0;32mIn [15], line 2\u001b[0;36m\u001b[0m\n\u001b[0;31m    1_var = 6\u001b[0m\n\u001b[0m     ^\u001b[0m\n\u001b[0;31mSyntaxError\u001b[0m\u001b[0;31m:\u001b[0m invalid decimal literal\n"
     ]
    }
   ],
   "source": [
    "# Rule: Names can only start with a letter or underscore, can not start with a digit.\n",
    "1_var = 6\n",
    "print(1_var)"
   ]
  },
  {
   "cell_type": "code",
   "execution_count": 18,
   "metadata": {},
   "outputs": [
    {
     "name": "stdout",
     "output_type": "stream",
     "text": [
      "1000000\n",
      "1000000\n",
      "1000000\n"
     ]
    }
   ],
   "source": [
    "# decimal literal\n",
    "my_variable_1 = 1_000_000\n",
    "print(my_variable_1)\n",
    "my_variable_2 = 1000_000\n",
    "print(my_variable_2)\n",
    "my_variable_3 = 1_0_0_0_0_0_0\n",
    "print(my_variable_3)"
   ]
  },
  {
   "cell_type": "code",
   "execution_count": 19,
   "metadata": {},
   "outputs": [
    {
     "ename": "SyntaxError",
     "evalue": "invalid syntax (3948331622.py, line 2)",
     "output_type": "error",
     "traceback": [
      "\u001b[0;36m  Cell \u001b[0;32mIn [19], line 2\u001b[0;36m\u001b[0m\n\u001b[0;31m    if = 4\u001b[0m\n\u001b[0m       ^\u001b[0m\n\u001b[0;31mSyntaxError\u001b[0m\u001b[0;31m:\u001b[0m invalid syntax\n"
     ]
    }
   ],
   "source": [
    "# Rule: Keywords can not be used as a name\n",
    "if = 4"
   ]
  },
  {
   "cell_type": "code",
   "execution_count": 20,
   "metadata": {},
   "outputs": [],
   "source": [
    "# how to get a list of keywords\n",
    "import keyword"
   ]
  },
  {
   "cell_type": "code",
   "execution_count": 21,
   "metadata": {},
   "outputs": [
    {
     "data": {
      "text/plain": [
       "['__all__',\n",
       " '__builtins__',\n",
       " '__cached__',\n",
       " '__doc__',\n",
       " '__file__',\n",
       " '__loader__',\n",
       " '__name__',\n",
       " '__package__',\n",
       " '__spec__',\n",
       " 'iskeyword',\n",
       " 'issoftkeyword',\n",
       " 'kwlist',\n",
       " 'softkwlist']"
      ]
     },
     "execution_count": 21,
     "metadata": {},
     "output_type": "execute_result"
    }
   ],
   "source": [
    "dir(keyword)"
   ]
  },
  {
   "cell_type": "code",
   "execution_count": 22,
   "metadata": {},
   "outputs": [
    {
     "data": {
      "text/plain": [
       "['False',\n",
       " 'None',\n",
       " 'True',\n",
       " '__peg_parser__',\n",
       " 'and',\n",
       " 'as',\n",
       " 'assert',\n",
       " 'async',\n",
       " 'await',\n",
       " 'break',\n",
       " 'class',\n",
       " 'continue',\n",
       " 'def',\n",
       " 'del',\n",
       " 'elif',\n",
       " 'else',\n",
       " 'except',\n",
       " 'finally',\n",
       " 'for',\n",
       " 'from',\n",
       " 'global',\n",
       " 'if',\n",
       " 'import',\n",
       " 'in',\n",
       " 'is',\n",
       " 'lambda',\n",
       " 'nonlocal',\n",
       " 'not',\n",
       " 'or',\n",
       " 'pass',\n",
       " 'raise',\n",
       " 'return',\n",
       " 'try',\n",
       " 'while',\n",
       " 'with',\n",
       " 'yield']"
      ]
     },
     "execution_count": 22,
     "metadata": {},
     "output_type": "execute_result"
    }
   ],
   "source": [
    "keyword.kwlist"
   ]
  },
  {
   "cell_type": "code",
   "execution_count": 23,
   "metadata": {},
   "outputs": [
    {
     "name": "stdout",
     "output_type": "stream",
     "text": [
      "Help on built-in function __contains__:\n",
      "\n",
      "__contains__(...) method of builtins.frozenset instance\n",
      "    x.__contains__(y) <==> y in x.\n",
      "\n"
     ]
    }
   ],
   "source": [
    "help(keyword.iskeyword)"
   ]
  },
  {
   "cell_type": "code",
   "execution_count": 24,
   "metadata": {},
   "outputs": [
    {
     "data": {
      "text/plain": [
       "True"
      ]
     },
     "execution_count": 24,
     "metadata": {},
     "output_type": "execute_result"
    }
   ],
   "source": [
    "keyword.iskeyword(\"if\")"
   ]
  },
  {
   "cell_type": "code",
   "execution_count": 26,
   "metadata": {},
   "outputs": [
    {
     "data": {
      "text/plain": [
       "False"
      ]
     },
     "execution_count": 26,
     "metadata": {},
     "output_type": "execute_result"
    }
   ],
   "source": [
    "keyword.iskeyword(\"Bora\")"
   ]
  },
  {
   "cell_type": "code",
   "execution_count": 27,
   "metadata": {},
   "outputs": [
    {
     "data": {
      "text/plain": [
       "False"
      ]
     },
     "execution_count": 27,
     "metadata": {},
     "output_type": "execute_result"
    }
   ],
   "source": [
    "keyword.iskeyword(\"If\")"
   ]
  },
  {
   "cell_type": "code",
   "execution_count": 28,
   "metadata": {},
   "outputs": [
    {
     "data": {
      "text/plain": [
       "False"
      ]
     },
     "execution_count": 28,
     "metadata": {},
     "output_type": "execute_result"
    }
   ],
   "source": [
    "keyword.iskeyword(\"IF\")"
   ]
  },
  {
   "cell_type": "code",
   "execution_count": 29,
   "metadata": {},
   "outputs": [
    {
     "data": {
      "text/plain": [
       "False"
      ]
     },
     "execution_count": 29,
     "metadata": {},
     "output_type": "execute_result"
    }
   ],
   "source": [
    "keyword.iskeyword(\"true\")"
   ]
  },
  {
   "cell_type": "code",
   "execution_count": 30,
   "metadata": {},
   "outputs": [
    {
     "data": {
      "text/plain": [
       "True"
      ]
     },
     "execution_count": 30,
     "metadata": {},
     "output_type": "execute_result"
    }
   ],
   "source": [
    "keyword.iskeyword(\"True\")"
   ]
  },
  {
   "cell_type": "code",
   "execution_count": 32,
   "metadata": {},
   "outputs": [
    {
     "data": {
      "text/plain": [
       "True"
      ]
     },
     "execution_count": 32,
     "metadata": {},
     "output_type": "execute_result"
    }
   ],
   "source": [
    "keyword.iskeyword(\"from\")"
   ]
  },
  {
   "cell_type": "code",
   "execution_count": 35,
   "metadata": {},
   "outputs": [
    {
     "data": {
      "text/plain": [
       "3"
      ]
     },
     "execution_count": 35,
     "metadata": {},
     "output_type": "execute_result"
    }
   ],
   "source": [
    "def func(from_, to_):\n",
    "    return to_ - from_\n",
    "func(2, 5)"
   ]
  },
  {
   "cell_type": "code",
   "execution_count": 37,
   "metadata": {},
   "outputs": [],
   "source": [
    "# Conventions from PEP 8\n",
    "# Packages: short, all-lowercase names without underscores\n",
    "# Modules: short, all-lowercase names, can have underscores\n",
    "# Classes: CapWords (upper camel case) convention\n",
    "# Functions: lowercase, words separated by underscores (snake_case)\n",
    "# Variables: lowercase, words separated by underscores (snake_case)\n",
    "# Constants: all-uppercase, words separated by underscores"
   ]
  },
  {
   "cell_type": "code",
   "execution_count": 40,
   "metadata": {},
   "outputs": [],
   "source": [
    "# a package name\n",
    "import numpy\n",
    "# a module name\n",
    "import other_file\n",
    "# a class name\n",
    "class MyClass:\n",
    "    pass\n",
    "# a function name\n",
    "def my_function():\n",
    "    pass\n",
    "# a variable name\n",
    "my_variable = 1\n",
    "# a constant name\n",
    "MY_CONSTANT = 1"
   ]
  },
  {
   "attachments": {},
   "cell_type": "markdown",
   "metadata": {},
   "source": [
    "<b>Leading and trailing underscores:</b>\n",
    "<ul>\n",
    "    <li>_single_leading_underscore: weak “internal use” indicator. E.g. from M import * does not import objects whose names start with an underscore.</li>\n",
    "    <li>single_trailing_underscore_: used by convention to avoid conflicts with Python keyword, e.g.</li>\n",
    "    <li>__double_leading_underscore: when naming a class attribute, invokes name mangling (inside class FooBar, __boo becomes _FooBar__boo; see below).</li>\n",
    "    <li>__double_leading_and_trailing_underscore__: “magic” objects or attributes that live in user-controlled namespaces. E.g. __init__, __import__ or __file__. Never invent such names; only use them as documented.</li>\n",
    "</ul>"
   ]
  },
  {
   "attachments": {},
   "cell_type": "markdown",
   "metadata": {},
   "source": [
    "## Variable Types\n",
    "Python is dynamically typed. Python does not have primitive types. Everything is an object in Python, therefore a variable is purely a reference to an object with the specified value."
   ]
  },
  {
   "cell_type": "code",
   "execution_count": 45,
   "metadata": {},
   "outputs": [
    {
     "name": "stdout",
     "output_type": "stream",
     "text": [
      "<class 'int'>\n",
      "<class 'float'>\n",
      "<class 'str'>\n",
      "<class 'bool'>\n",
      "<class 'complex'>\n"
     ]
    }
   ],
   "source": [
    "a = 5\n",
    "b = 7.34\n",
    "c = \"Bora\"\n",
    "d = True\n",
    "e = 2j\n",
    "print(type(a))\n",
    "print(type(b))\n",
    "print(type(c))\n",
    "print(type(d))\n",
    "print(type(e))"
   ]
  },
  {
   "cell_type": "code",
   "execution_count": 55,
   "metadata": {},
   "outputs": [
    {
     "name": "stdout",
     "output_type": "stream",
     "text": [
      "12.0\n",
      "4\n",
      "False\n",
      "7.62\n",
      "(3+0j)\n"
     ]
    }
   ],
   "source": [
    "print(float(12))\n",
    "print(int(4.6))\n",
    "print(bool(0))\n",
    "print(str(7.62))\n",
    "print(complex(3))"
   ]
  },
  {
   "cell_type": "code",
   "execution_count": 56,
   "metadata": {},
   "outputs": [
    {
     "name": "stdout",
     "output_type": "stream",
     "text": [
      "5 7.34 Bora True 2j\n"
     ]
    }
   ],
   "source": [
    "# Multiple assignment\n",
    "v1, v2, v3, v4, v5 = 5, 7.34, \"Bora\", True, 2j\n",
    "print(v1, v2, v3, v4, v5)"
   ]
  },
  {
   "cell_type": "code",
   "execution_count": 57,
   "metadata": {},
   "outputs": [
    {
     "name": "stdout",
     "output_type": "stream",
     "text": [
      "7.34 5\n",
      "5 7.34\n"
     ]
    }
   ],
   "source": [
    "# variable swapping\n",
    "# temp_var = v1\n",
    "# v1 = v2\n",
    "# v2 = temp_var\n",
    "v1, v2 = v2, v1\n",
    "print(v1, v2)\n",
    "v1, v2 = v2, v1\n",
    "print(v1, v2)"
   ]
  },
  {
   "attachments": {},
   "cell_type": "markdown",
   "metadata": {},
   "source": [
    "## Formatted Output"
   ]
  },
  {
   "cell_type": "code",
   "execution_count": 92,
   "metadata": {},
   "outputs": [
    {
     "name": "stdout",
     "output_type": "stream",
     "text": [
      "v1 =  5  | v2 =  7.34  | v3 =  Bora  | v4 =  True  | v5 =  2j\n",
      "v1 = 5 | v2 = 7.340000 | v2 = 7.340000e+00 | v2 = 7.34 | v3 = Bora | v4 = True | v4 = 1 | v5 = 2j\n",
      "v1 = 5 | v2 = 7.34 | v3 = Bora | v4 = True | v5 = 2j\n",
      "v1 = 5 | v2 = 7.34 | v3 = Bora | v4 = True | v5 = 2j\n",
      "v1 = 00005 | v1 = 101 | v2 =        7.340 | v2 =    7.340e+00 | v2 =   7.34\n"
     ]
    }
   ],
   "source": [
    "print(\"v1 = \", v1, \" | v2 = \", v2, \" | v3 = \", v3, \" | v4 = \", v4, \" | v5 = \", v5)\n",
    "print(\"v1 = %d | v2 = %f | v2 = %e | v2 = %g | v3 = %s | v4 = %s | v4 = %d | v5 = %s\" % (v1, v2, v2, v2, v3, v4, v4, v5))\n",
    "print(\"v1 = {0} | v2 = {1} | v3 = {2} | v4 = {3} | v5 = {4}\".format(v1, v2, v3, v4, v5))\n",
    "print(f\"v1 = {v1} | v2 = {v2} | v3 = {v3} | v4 = {v4} | v5 = {v5}\")\n",
    "print(f\"v1 = {v1:05d} | v1 = {v1:b} | v2 = {v2:12.3f} | v2 = {v2:12.3e} | v2 = {v2:6g}\")"
   ]
  },
  {
   "attachments": {},
   "cell_type": "markdown",
   "metadata": {},
   "source": [
    "d: integers\n",
    "\n",
    "f,e,g: floating-point numbers\n",
    "\n",
    "b: binary numbers\n",
    "\n",
    "s: string"
   ]
  },
  {
   "attachments": {},
   "cell_type": "markdown",
   "metadata": {},
   "source": [
    "## Sequences\n",
    "### 0: Strings"
   ]
  },
  {
   "cell_type": "code",
   "execution_count": 109,
   "metadata": {},
   "outputs": [
    {
     "name": "stdout",
     "output_type": "stream",
     "text": [
      "P\n",
      "B\n",
      "13\n",
      "s\n",
      "s\n",
      "i\n",
      "P\n",
      "Python\n",
      "Python\n",
      "Basics\n",
      "Python Basics\n",
      "Pto\n",
      "aB noht\n",
      "scisaB nohtyP\n"
     ]
    }
   ],
   "source": [
    "name = \"Python Basics\"\n",
    "#####   0123456789012\n",
    "print(name[0])\n",
    "print(name[7])\n",
    "print(len(name))\n",
    "print(name[len(name)-1])\n",
    "print(name[-1])\n",
    "print(name[-3])\n",
    "print(name[-len(name)])\n",
    "print(name[0:6]) # [)\n",
    "print(name[:6])\n",
    "print(name[7:])\n",
    "print(name[:]) # other_name = name[:] (copy)\n",
    "print(name[0:6:2])\n",
    "print(name[8:1:-1])\n",
    "print(name[::-1])"
   ]
  },
  {
   "cell_type": "code",
   "execution_count": 116,
   "metadata": {},
   "outputs": [
    {
     "name": "stdout",
     "output_type": "stream",
     "text": [
      "Python Basics\n",
      "thon Bas\n",
      "to a\n",
      "ia o\n",
      "Python Basics"
     ]
    }
   ],
   "source": [
    "# loops\n",
    "for i in range(len(name)):\n",
    "    print(name[i], end='')\n",
    "print('')\n",
    "for i in range(2, 10):\n",
    "    print(name[i], end='')\n",
    "print('')\n",
    "for i in range(2, 10, 2):\n",
    "    print(name[i], end='')\n",
    "print('')\n",
    "for i in range(10, 2, -2):\n",
    "    print(name[i], end='')\n",
    "print('')\n",
    "for c in name:\n",
    "    print(c, end='')"
   ]
  },
  {
   "cell_type": "markdown",
   "metadata": {},
   "source": [
    "### 1: Lists\n",
    "Ordered and mutable sequence of values indexed by integer numbers."
   ]
  },
  {
   "cell_type": "code",
   "execution_count": null,
   "metadata": {},
   "outputs": [
    {
     "name": "stdout",
     "output_type": "stream",
     "text": [
      "initialize: [] <class 'list'>\n",
      "append: [7, 9, 3]\n",
      "access: 3\n",
      "insert: [7, 5, 9, 3]\n",
      "update: [7, 5, 4, 3]\n",
      "remove: [7, 4, 3]\n",
      "3\n"
     ]
    }
   ],
   "source": [
    "# initialize\n",
    "a_list = []\n",
    "print(f\"initialize: {a_list} {type(a_list)}\")\n",
    "# append (adding an item to the end)\n",
    "a_list.append(7)\n",
    "a_list.append(9)\n",
    "a_list.append(3)\n",
    "print(f\"append: {a_list}\")\n",
    "# access an item\n",
    "print(f\"access: {a_list[2]}\")\n",
    "# insert an item with an index\n",
    "a_list.insert(1, 5)\n",
    "print(f\"insert: {a_list}\")\n",
    "# update an item\n",
    "a_list[2] = 4\n",
    "print(f\"update: {a_list}\")\n",
    "# remove an item\n",
    "del a_list[1]\n",
    "print(f\"remove: {a_list}\")\n",
    "print(a_list.pop())"
   ]
  },
  {
   "cell_type": "code",
   "execution_count": null,
   "metadata": {},
   "outputs": [
    {
     "data": {
      "text/plain": [
       "['__add__',\n",
       " '__class__',\n",
       " '__class_getitem__',\n",
       " '__contains__',\n",
       " '__delattr__',\n",
       " '__delitem__',\n",
       " '__dir__',\n",
       " '__doc__',\n",
       " '__eq__',\n",
       " '__format__',\n",
       " '__ge__',\n",
       " '__getattribute__',\n",
       " '__getitem__',\n",
       " '__gt__',\n",
       " '__hash__',\n",
       " '__iadd__',\n",
       " '__imul__',\n",
       " '__init__',\n",
       " '__init_subclass__',\n",
       " '__iter__',\n",
       " '__le__',\n",
       " '__len__',\n",
       " '__lt__',\n",
       " '__mul__',\n",
       " '__ne__',\n",
       " '__new__',\n",
       " '__reduce__',\n",
       " '__reduce_ex__',\n",
       " '__repr__',\n",
       " '__reversed__',\n",
       " '__rmul__',\n",
       " '__setattr__',\n",
       " '__setitem__',\n",
       " '__sizeof__',\n",
       " '__str__',\n",
       " '__subclasshook__',\n",
       " 'append',\n",
       " 'clear',\n",
       " 'copy',\n",
       " 'count',\n",
       " 'extend',\n",
       " 'index',\n",
       " 'insert',\n",
       " 'pop',\n",
       " 'remove',\n",
       " 'reverse',\n",
       " 'sort']"
      ]
     },
     "metadata": {},
     "output_type": "display_data"
    }
   ],
   "source": [
    "dir(a_list)"
   ]
  },
  {
   "cell_type": "code",
   "execution_count": null,
   "metadata": {},
   "outputs": [
    {
     "name": "stdout",
     "output_type": "stream",
     "text": [
      "[4, 7]\n",
      "[7, 4]\n"
     ]
    }
   ],
   "source": [
    "a_list.sort()\n",
    "print(a_list)\n",
    "a_list.reverse()\n",
    "print(a_list)"
   ]
  },
  {
   "cell_type": "markdown",
   "metadata": {},
   "source": [
    "### 2: Tuples\n",
    "Ordered and immutable sequence of values indexed by integer numbers."
   ]
  },
  {
   "cell_type": "code",
   "execution_count": null,
   "metadata": {},
   "outputs": [
    {
     "name": "stdout",
     "output_type": "stream",
     "text": [
      "initialize: (3, 5, 7, 9) <class 'tuple'>\n",
      "access: 7\n"
     ]
    },
    {
     "ename": "NameError",
     "evalue": "name 'a_tuple' is not defined",
     "output_type": "error",
     "traceback": [
      "\u001b[0;31m---------------------------------------------------------------------------\u001b[0m\n",
      "\u001b[0;31mNameError\u001b[0m                                 Traceback (most recent call last)\n",
      "Cell \u001b[0;32mIn [108], line 9\u001b[0m\n",
      "\u001b[1;32m      7\u001b[0m \u001b[38;5;66;03m# remove the whole tuple\u001b[39;00m\n",
      "\u001b[1;32m      8\u001b[0m \u001b[38;5;28;01mdel\u001b[39;00m a_tuple\n",
      "\u001b[0;32m----> 9\u001b[0m \u001b[38;5;28mprint\u001b[39m(\u001b[43ma_tuple\u001b[49m)\n",
      "\n",
      "\u001b[0;31mNameError\u001b[0m: name 'a_tuple' is not defined"
     ]
    }
   ],
   "source": [
    "# initialize\n",
    "a_tuple = (3, 5, 7, 9)\n",
    "print(f\"initialize: {a_tuple} {type(a_tuple)}\")\n",
    "# immutable: no append, no update, no remove\n",
    "# access an item\n",
    "print(f\"access: {a_tuple[2]}\")\n",
    "# remove the whole tuple\n",
    "del a_tuple\n",
    "print(a_tuple)"
   ]
  },
  {
   "cell_type": "markdown",
   "metadata": {},
   "source": [
    "### 3: Sets\n",
    "Unordered and mutable collection of values with no duplicate items. They support mathematical operations like union, intersection, difference, and symmetric difference."
   ]
  },
  {
   "cell_type": "code",
   "execution_count": null,
   "metadata": {},
   "outputs": [
    {
     "name": "stdout",
     "output_type": "stream",
     "text": [
      "initialize: {9, 3, 5, 7} <class 'set'>\n",
      "add: {1, 3, 5, 7, 9}\n",
      "remove: {1, 3, 5}\n",
      "fill again: {3, 5, 7}\n",
      "empty set: set()\n",
      "union of two sets: {1, 2, 3, 4, 5, 6, 7, 8}\n",
      "difference of two sets: {3, 5, 7} {8, 4, 6}\n",
      "symmetrical difference of two sets: {3, 4, 5, 6, 7, 8}\n"
     ]
    }
   ],
   "source": [
    "# initialize\n",
    "a_set = {3, 5, 5, 5, 5, 7, 7, 7, 7, 9, 3, 5, 7, 9}\n",
    "print(f\"initialize: {a_set} {type(a_set)}\")\n",
    "# add\n",
    "a_set.add(7)\n",
    "a_set.add(9)\n",
    "a_set.add(1)\n",
    "print(f\"add: {a_set}\")\n",
    "# unordered: no access, no insert, no update\n",
    "# remove an item (with the value)\n",
    "a_set.remove(9)\n",
    "a_set.discard(8) # a_set.remove(8) raises a key error\n",
    "a_set.discard(7)\n",
    "print(f\"remove: {a_set}\")\n",
    "# delete\n",
    "del a_set\n",
    "# remove all items rather than deleting the set\n",
    "a_set = set([3, 5, 7])\n",
    "print(f\"fill again: {a_set}\")\n",
    "a_set.clear()\n",
    "print(f\"empty set: {a_set}\")\n",
    "# union of two sets\n",
    "a_set_1 = {1, 2, 3, 5, 7}\n",
    "a_set_2 = {1, 2, 4, 6, 8}\n",
    "print(f\"union of two sets: {a_set_1 | a_set_2}\")\n",
    "# difference of two sets\n",
    "print(f\"difference of two sets: {a_set_1 - a_set_2} {a_set_2 - a_set_1}\")\n",
    "# symmetrical difference of two sets\n",
    "print(f\"symmetrical difference of two sets: {a_set_1 ^ a_set_2}\")"
   ]
  },
  {
   "cell_type": "markdown",
   "metadata": {},
   "source": [
    "### 4: Dictionaries\n",
    "Unordered and mutable set of key-value pairs"
   ]
  },
  {
   "cell_type": "code",
   "execution_count": null,
   "metadata": {},
   "outputs": [
    {
     "name": "stdout",
     "output_type": "stream",
     "text": [
      "initialize: {} <class 'dict'>\n",
      "add: {'first_name': 'Bora', 'last_name': 'Canbula', 'age': 38}\n",
      "access: Canbula\n",
      "keys: dict_keys(['first_name', 'last_name', 'age'])\n",
      "values: dict_values(['Bora', 'Canbula', 38])\n",
      "update: 39\n",
      "remove: {'first_name': 'Bora', 'age': 39}\n",
      "clear: {}\n"
     ]
    }
   ],
   "source": [
    "# initialize\n",
    "a_dict = {}\n",
    "print(f\"initialize: {a_dict} {type(a_dict)}\")\n",
    "# add an item with a key\n",
    "a_dict[\"first_name\"] = \"Bora\"\n",
    "a_dict[\"last_name\"] = \"Canbula\"\n",
    "a_dict[\"age\"] = 38\n",
    "print(f\"add: {a_dict}\")\n",
    "# access an item\n",
    "print(f\"access: {a_dict['last_name']}\")\n",
    "# list the keys and values\n",
    "print(f\"keys: {a_dict.keys()}\")\n",
    "print(f\"values: {a_dict.values()}\")\n",
    "# update an item\n",
    "a_dict[\"age\"] = 39\n",
    "print(f\"update: {a_dict['age']}\")\n",
    "# remove an item\n",
    "del a_dict[\"last_name\"]\n",
    "print(f\"remove: {a_dict}\")\n",
    "# remove all items\n",
    "a_dict.clear()\n",
    "print(f\"clear: {a_dict}\")"
   ]
  },
  {
   "cell_type": "code",
   "execution_count": null,
   "metadata": {},
   "outputs": [
    {
     "name": "stdout",
     "output_type": "stream",
     "text": [
      "first_name\n",
      "last_name\n",
      "age\n",
      "Bora\n",
      "Canbula\n",
      "38\n",
      "first_name Bora\n",
      "last_name Canbula\n",
      "age 38\n",
      "first_name Bora\n",
      "last_name Canbula\n",
      "age 38\n"
     ]
    }
   ],
   "source": [
    "a_dict = {'first_name': 'Bora', 'last_name': 'Canbula', 'age': 38}\n",
    "for k in a_dict.keys():\n",
    "    print(k)\n",
    "for v in a_dict.values():\n",
    "    print(v)\n",
    "for k, v in zip(a_dict.keys(), a_dict.values()):\n",
    "    print(k, v)\n",
    "for k, v in a_dict.items():\n",
    "    print(k, v)"
   ]
  },
  {
   "cell_type": "markdown",
   "metadata": {},
   "source": []
  }
 ],
 "metadata": {
  "kernelspec": {
   "display_name": "base",
   "language": "python",
   "name": "python3"
  },
  "language_info": {
   "codemirror_mode": {
    "name": "ipython",
    "version": 3
   },
   "file_extension": ".py",
   "mimetype": "text/x-python",
   "name": "python",
   "nbconvert_exporter": "python",
   "pygments_lexer": "ipython3",
   "version": "3.9.15"
  },
  "orig_nbformat": 4
 },
 "nbformat": 4,
 "nbformat_minor": 2
}
