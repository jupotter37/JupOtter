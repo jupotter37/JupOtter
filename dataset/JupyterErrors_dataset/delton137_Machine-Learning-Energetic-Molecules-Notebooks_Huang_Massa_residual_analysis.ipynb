{
 "cells": [
  {
   "cell_type": "markdown",
   "metadata": {},
   "source": [
    "\n",
    "MIT Open Source License: <br>\n",
    "Copyright (c) 2018 Daniel C. Elton \n",
    "\n",
    "<sub>Permission is hereby granted, free of charge, to any person obtaining a copy</sub>\n",
    "<sub>of this software and associated documentation files (the \"Software\"), to deal</sub>\n",
    "<sub>in the Software without restriction, including without limitation the rights</sub>\n",
    "<sub>to use, copy, modify, merge, publish, distribute, sublicense, and/or sell</sub>\n",
    "<sub>copies of the Software, and to permit persons to whom the Software is</sub>\n",
    "<sub>furnished to do so, subject to the following conditions:</sub>\n",
    "\n",
    "<sub>The above copyright notice and this permission notice shall be included in all</sub>\n",
    "<sub>copies or substantial portions of the Software.</sub>\n",
    "\n",
    "<sub>THE SOFTWARE IS PROVIDED \"AS IS\", WITHOUT WARRANTY OF ANY KIND, EXPRESS OR</sub>\n",
    "<sub>IMPLIED, INCLUDING BUT NOT LIMITED TO THE WARRANTIES OF MERCHANTABILITY,</sub>\n",
    "<sub>FITNESS FOR A PARTICULAR PURPOSE AND NONINFRINGEMENT. IN NO EVENT SHALL THE</sub>\n",
    "<sub>AUTHORS OR COPYRIGHT HOLDERS BE LIABLE FOR ANY CLAIM, DAMAGES OR OTHER</sub>\n",
    "<sub>LIABILITY, WHETHER IN AN ACTION OF CONTRACT, TORT OR OTHERWISE, ARISING FROM,</sub>\n",
    "<sub>OUT OF OR IN CONNECTION WITH THE SOFTWARE OR THE USE OR OTHER DEALINGS IN THE</sub>\n",
    "<sub>SOFTWARE.</sub>"
   ]
  },
  {
   "cell_type": "markdown",
   "metadata": {},
   "source": [
    "### Load all libraries, read in data"
   ]
  },
  {
   "cell_type": "code",
   "execution_count": 14,
   "metadata": {
    "scrolled": true
   },
   "outputs": [
    {
     "name": "stdout",
     "output_type": "stream",
     "text": [
      "The autoreload extension is already loaded. To reload it, use:\n",
      "  %reload_ext autoreload\n"
     ]
    }
   ],
   "source": [
    "%load_ext autoreload\n",
    "%autoreload 2\n",
    "from rdkit import Chem\n",
    "from rdkit.Chem.EState.Fingerprinter import FingerprintMol\n",
    "from rdkit.Chem import Descriptors\n",
    "from rdkit.Chem.rdmolops import RDKFingerprint\n",
    "import pandas as pd\n",
    "import numpy as np\n",
    "from sklearn.preprocessing import StandardScaler\n",
    "from sklearn import cross_validation\n",
    "from sklearn import cross_validation\n",
    "from sklearn.kernel_ridge import KernelRidge\n",
    "from sklearn.linear_model import Ridge, Lasso, LinearRegression \n",
    "from sklearn.svm import SVR\n",
    "from sklearn.neighbors import KNeighborsRegressor\n",
    "from sklearn.gaussian_process import GaussianProcessRegressor\n",
    "from sklearn.neural_network import MLPRegressor\n",
    "from sklearn.ensemble import GradientBoostingRegressor, RandomForestRegressor\n",
    "from sklearn.model_selection import GridSearchCV\n",
    "from sklearn.decomposition import PCA, FastICA\n",
    "from rdkit.Avalon.pyAvalonTools import GetAvalonFP\n",
    "from sklearn.utils import shuffle\n",
    "from mmltoolkit.mmltoolkit.featurizations import *\n",
    "\n",
    "#Read the data\n",
    "data = pd.read_excel('datasets/Huang_Massa_data_with_all_SMILES.xlsx', skipfooter=1)\n",
    "\n",
    "target_prop = 'Explosive energy (kj/cc)'\n",
    "\n",
    "#Add some new columns\n",
    "data['Mols'] = data['SMILES'].apply(Chem.MolFromSmiles)\n",
    "\n",
    "#important - add hydrogens!!\n",
    "data['Mols'] = data['Mols'].apply(Chem.AddHs)\n",
    "\n",
    "num_mols = len(data)\n",
    "\n",
    "bond_types, X_LBoB = literal_bag_of_bonds(list(data['Mols'])) \n",
    "y = data[target_prop].values\n",
    "\n",
    "refcodes = list(data['Molecular Name'])\n",
    "\n",
    "#X_LBoB = shuffle(X_LBoB, random_state=10)\n",
    "#y = shuffle(y, random_state=10)\n",
    "#refcodes = shuffle(refcodes, random_state=10)\n",
    "                                        \n"
   ]
  },
  {
   "cell_type": "code",
   "execution_count": 15,
   "metadata": {},
   "outputs": [
    {
     "name": "stdout",
     "output_type": "stream",
     "text": [
      "best params:\n",
      "{'kernel': 'rbf', 'gamma': 4.6415888336127918e-09, 'alpha': 1.6681005372000591e-07}\n",
      "neg_mean_absolute_error:\n",
      "0.366813516925\n"
     ]
    }
   ],
   "source": [
    "from sklearn.model_selection import KFold, ShuffleSplit\n",
    "from sklearn.model_selection import GridSearchCV\n",
    "from sklearn.model_selection import KFold, ShuffleSplit\n",
    "import numpy as np\n",
    "import warnings\n",
    "warnings.filterwarnings(\"ignore\")\n",
    "\n",
    "from mmltoolkit.mmltoolkit.CV_tools import * \n",
    "\n",
    "KR_grid = {\"alpha\": np.logspace(-9, -5, 10),\n",
    "           \"gamma\": np.logspace(-15, -5, 10),  \"kernel\" : ['rbf']}\n",
    "\n",
    "model = grid_search(X_LBoB, y, KernelRidge(), param_grid=KR_grid, verbose = True, cv=KFold(n_splits=30,shuffle=False))"
   ]
  },
  {
   "cell_type": "markdown",
   "metadata": {},
   "source": [
    "# Leave-one-out CV analysis of residuals"
   ]
  },
  {
   "cell_type": "code",
   "execution_count": 16,
   "metadata": {},
   "outputs": [
    {
     "data": {
      "text/plain": [
       "array([  0.,   0.,   0.,   0.,   0.,   0.,   1.,   0.,   0.,   7.,  12.,\n",
       "         0.,   7.,   0.,   0.,   7.,   0.,   0.,   0.,   0.])"
      ]
     },
     "execution_count": 16,
     "metadata": {},
     "output_type": "execute_result"
    }
   ],
   "source": [
    "X_LBoB[0]"
   ]
  },
  {
   "cell_type": "code",
   "execution_count": 17,
   "metadata": {
    "scrolled": false
   },
   "outputs": [
    {
     "name": "stdout",
     "output_type": "stream",
     "text": [
      "0.367917746988\n"
     ]
    }
   ],
   "source": [
    "import matplotlib.pyplot as plt \n",
    "from sklearn.model_selection import cross_validate\n",
    "from sklearn.model_selection import KFold, ShuffleSplit\n",
    "import warnings\n",
    "\n",
    "warnings.filterwarnings(\"ignore\", category=RuntimeWarning)\n",
    "\n",
    "x = X_LBoB\n",
    "\n",
    "kf = KFold(n_splits=num_mols, shuffle=False)\n",
    "\n",
    "residuals = []\n",
    "all_y_pred = []\n",
    "for k, (train, test) in enumerate(kf.split(x,y)):\n",
    "    model.fit(x[train], y[train])\n",
    "    y_test = y[test]\n",
    "    y_pred = model.predict(x[test])\n",
    "    all_y_pred += [y_pred]\n",
    "    residuals += [y_pred - y_test]\n",
    "\n",
    "residuals = np.array(residuals)\n",
    "all_y_pred = np.array(all_y_pred)\n",
    "\n",
    "scores = abs(residuals)\n",
    "MAE = np.mean(scores)\n",
    "print(MAE)\n",
    "\n",
    "scores_df = data\n",
    "scores_df['y_pred'] = all_y_pred.reshape(-1,1)\n",
    "scores_df['residual (y_pred - y_test)'] = residuals.reshape(-1,1)\n",
    "scores_df['score'] =  scores.reshape(-1,1)\n",
    "scores_df['Explosive energy (kj/cc)'] = scores_df['Explosive energy (kj/cc)'].astype('float')"
   ]
  },
  {
   "cell_type": "code",
   "execution_count": 18,
   "metadata": {
    "collapsed": true
   },
   "outputs": [],
   "source": [
    "scores_df = scores_df.sort_values(by=['score'], ascending=False)"
   ]
  },
  {
   "cell_type": "code",
   "execution_count": 19,
   "metadata": {},
   "outputs": [
    {
     "data": {
      "text/html": [
       "<div>\n",
       "<style scoped>\n",
       "    .dataframe tbody tr th:only-of-type {\n",
       "        vertical-align: middle;\n",
       "    }\n",
       "\n",
       "    .dataframe tbody tr th {\n",
       "        vertical-align: top;\n",
       "    }\n",
       "\n",
       "    .dataframe thead th {\n",
       "        text-align: right;\n",
       "    }\n",
       "</style>\n",
       "<table border=\"1\" class=\"dataframe\">\n",
       "  <thead>\n",
       "    <tr style=\"text-align: right;\">\n",
       "      <th></th>\n",
       "      <th>num</th>\n",
       "      <th>Molecular Name</th>\n",
       "      <th>Formula</th>\n",
       "      <th>Density (g/cm3)</th>\n",
       "      <th>Delta Hf solid (kj/mol)</th>\n",
       "      <th>Explosive energy (kj/cc)</th>\n",
       "      <th>Shock velocity (km/s)</th>\n",
       "      <th>Particle velocity (km/s)</th>\n",
       "      <th>Speed of sound (km/s)</th>\n",
       "      <th>Pressure (Gpa)</th>\n",
       "      <th>T(K)</th>\n",
       "      <th>TNT Equiv (per cc)</th>\n",
       "      <th>group</th>\n",
       "      <th>SMILES</th>\n",
       "      <th>NOTE</th>\n",
       "      <th>Mols</th>\n",
       "      <th>y_pred</th>\n",
       "      <th>residual (y_pred - y_test)</th>\n",
       "      <th>score</th>\n",
       "    </tr>\n",
       "  </thead>\n",
       "  <tbody>\n",
       "    <tr>\n",
       "      <th>0</th>\n",
       "      <td>1</td>\n",
       "      <td>CUGCOW</td>\n",
       "      <td>C8N7O14H1</td>\n",
       "      <td>2.024</td>\n",
       "      <td>641.16</td>\n",
       "      <td>6.419</td>\n",
       "      <td>9.569</td>\n",
       "      <td>2.519</td>\n",
       "      <td>7.050</td>\n",
       "      <td>48.777</td>\n",
       "      <td>5440</td>\n",
       "      <td>2.233</td>\n",
       "      <td>Cubane</td>\n",
       "      <td>O=N(=O)C12C3C4(N(=O)=O)C1(N(=O)=O)C1(N(=O)=O)C...</td>\n",
       "      <td>NaN</td>\n",
       "      <td>&lt;rdkit.Chem.rdchem.Mol object at 0x109ee4080&gt;</td>\n",
       "      <td>4.835063</td>\n",
       "      <td>-1.583937</td>\n",
       "      <td>1.583937</td>\n",
       "    </tr>\n",
       "    <tr>\n",
       "      <th>53</th>\n",
       "      <td>54</td>\n",
       "      <td>QQQBRD02</td>\n",
       "      <td>C2N6O12</td>\n",
       "      <td>2.075</td>\n",
       "      <td>98.59</td>\n",
       "      <td>4.046</td>\n",
       "      <td>8.246</td>\n",
       "      <td>1.975</td>\n",
       "      <td>6.272</td>\n",
       "      <td>33.789</td>\n",
       "      <td>2073</td>\n",
       "      <td>0.864</td>\n",
       "      <td>Linear</td>\n",
       "      <td>O=N(=O)C(N(=O)=O)(N(=O)=O)C(N(=O)=O)(N(=O)=O)N...</td>\n",
       "      <td>NaN</td>\n",
       "      <td>&lt;rdkit.Chem.rdchem.Mol object at 0x11c3963a0&gt;</td>\n",
       "      <td>5.406259</td>\n",
       "      <td>1.360259</td>\n",
       "      <td>1.360259</td>\n",
       "    </tr>\n",
       "    <tr>\n",
       "      <th>98</th>\n",
       "      <td>108</td>\n",
       "      <td>CUBANE</td>\n",
       "      <td>C8H8</td>\n",
       "      <td>1.288</td>\n",
       "      <td>584.67</td>\n",
       "      <td>0.954</td>\n",
       "      <td>6.700</td>\n",
       "      <td>1.217</td>\n",
       "      <td>5.483</td>\n",
       "      <td>10.501</td>\n",
       "      <td>2446</td>\n",
       "      <td>1.007</td>\n",
       "      <td>Cubane</td>\n",
       "      <td>C12C3C4C1C1C2C3C41</td>\n",
       "      <td>NaN</td>\n",
       "      <td>&lt;rdkit.Chem.rdchem.Mol object at 0x11c1a63f0&gt;</td>\n",
       "      <td>2.239615</td>\n",
       "      <td>1.285615</td>\n",
       "      <td>1.285615</td>\n",
       "    </tr>\n",
       "    <tr>\n",
       "      <th>55</th>\n",
       "      <td>56</td>\n",
       "      <td>CEYDUF</td>\n",
       "      <td>C5N8O16H4</td>\n",
       "      <td>1.940</td>\n",
       "      <td>-23.34</td>\n",
       "      <td>3.960</td>\n",
       "      <td>8.805</td>\n",
       "      <td>2.021</td>\n",
       "      <td>6.784</td>\n",
       "      <td>34.514</td>\n",
       "      <td>3893</td>\n",
       "      <td>1.577</td>\n",
       "      <td>Linear</td>\n",
       "      <td>O=N(=O)C(CC(N(=O)=O)(N(=O)=O)N(=O)=O)(CC(N(=O)...</td>\n",
       "      <td>NaN</td>\n",
       "      <td>&lt;rdkit.Chem.rdchem.Mol object at 0x11c3968f0&gt;</td>\n",
       "      <td>5.052382</td>\n",
       "      <td>1.092382</td>\n",
       "      <td>1.092382</td>\n",
       "    </tr>\n",
       "    <tr>\n",
       "      <th>96</th>\n",
       "      <td>106</td>\n",
       "      <td>TAHMEV</td>\n",
       "      <td>C8N1O2H7</td>\n",
       "      <td>1.474</td>\n",
       "      <td>530.34</td>\n",
       "      <td>1.640</td>\n",
       "      <td>6.686</td>\n",
       "      <td>1.492</td>\n",
       "      <td>5.194</td>\n",
       "      <td>14.699</td>\n",
       "      <td>3166</td>\n",
       "      <td>1.112</td>\n",
       "      <td>Cubane</td>\n",
       "      <td>O=N(=O)C12C3C4C5C3C1C5C24</td>\n",
       "      <td>NaN</td>\n",
       "      <td>&lt;rdkit.Chem.rdchem.Mol object at 0x11c1a6300&gt;</td>\n",
       "      <td>2.579762</td>\n",
       "      <td>0.939762</td>\n",
       "      <td>0.939762</td>\n",
       "    </tr>\n",
       "  </tbody>\n",
       "</table>\n",
       "</div>"
      ],
      "text/plain": [
       "    num Molecular Name    Formula  Density (g/cm3)  Delta Hf solid (kj/mol)  \\\n",
       "0     1         CUGCOW  C8N7O14H1            2.024                   641.16   \n",
       "53   54       QQQBRD02    C2N6O12            2.075                    98.59   \n",
       "98  108         CUBANE       C8H8            1.288                   584.67   \n",
       "55   56         CEYDUF  C5N8O16H4            1.940                   -23.34   \n",
       "96  106         TAHMEV   C8N1O2H7            1.474                   530.34   \n",
       "\n",
       "    Explosive energy (kj/cc)  Shock velocity (km/s)  Particle velocity (km/s)  \\\n",
       "0                      6.419                  9.569                     2.519   \n",
       "53                     4.046                  8.246                     1.975   \n",
       "98                     0.954                  6.700                     1.217   \n",
       "55                     3.960                  8.805                     2.021   \n",
       "96                     1.640                  6.686                     1.492   \n",
       "\n",
       "    Speed of sound (km/s)  Pressure (Gpa)  T(K)  TNT Equiv (per cc)    group  \\\n",
       "0                   7.050          48.777  5440               2.233  Cubane    \n",
       "53                  6.272          33.789  2073               0.864  Linear    \n",
       "98                  5.483          10.501  2446               1.007  Cubane    \n",
       "55                  6.784          34.514  3893               1.577  Linear    \n",
       "96                  5.194          14.699  3166               1.112  Cubane    \n",
       "\n",
       "                                               SMILES NOTE  \\\n",
       "0   O=N(=O)C12C3C4(N(=O)=O)C1(N(=O)=O)C1(N(=O)=O)C...  NaN   \n",
       "53  O=N(=O)C(N(=O)=O)(N(=O)=O)C(N(=O)=O)(N(=O)=O)N...  NaN   \n",
       "98                                 C12C3C4C1C1C2C3C41  NaN   \n",
       "55  O=N(=O)C(CC(N(=O)=O)(N(=O)=O)N(=O)=O)(CC(N(=O)...  NaN   \n",
       "96                          O=N(=O)C12C3C4C5C3C1C5C24  NaN   \n",
       "\n",
       "                                             Mols    y_pred  \\\n",
       "0   <rdkit.Chem.rdchem.Mol object at 0x109ee4080>  4.835063   \n",
       "53  <rdkit.Chem.rdchem.Mol object at 0x11c3963a0>  5.406259   \n",
       "98  <rdkit.Chem.rdchem.Mol object at 0x11c1a63f0>  2.239615   \n",
       "55  <rdkit.Chem.rdchem.Mol object at 0x11c3968f0>  5.052382   \n",
       "96  <rdkit.Chem.rdchem.Mol object at 0x11c1a6300>  2.579762   \n",
       "\n",
       "    residual (y_pred - y_test)     score  \n",
       "0                    -1.583937  1.583937  \n",
       "53                    1.360259  1.360259  \n",
       "98                    1.285615  1.285615  \n",
       "55                    1.092382  1.092382  \n",
       "96                    0.939762  0.939762  "
      ]
     },
     "execution_count": 19,
     "metadata": {},
     "output_type": "execute_result"
    }
   ],
   "source": [
    "scores_df.head()"
   ]
  },
  {
   "cell_type": "code",
   "execution_count": 20,
   "metadata": {},
   "outputs": [
    {
     "data": {
      "image/png": "[encoded data removed]",
      "text/plain": [
       "<matplotlib.figure.Figure at 0x11c687860>"
      ]
     },
     "metadata": {},
     "output_type": "display_data"
    }
   ],
   "source": [
    "fig = plt.figure(figsize=(10,6))\n",
    "pltx = list(scores_df[target_prop].values)\n",
    "plty = list(scores_df['residual (y_pred - y_test)'].values)\n",
    "\n",
    "plt.clf()\n",
    "\n",
    "\n",
    "groups = set(scores_df['group'].values)\n",
    "\n",
    "ax = plt.gca()\n",
    "outliers = []\n",
    "\n",
    "for group in groups: \n",
    "    mask = list(scores_df['group']==group)\n",
    "    scores_group = scores_df[mask]\n",
    "    molx = list(scores_group[target_prop].values)\n",
    "    moly = list(scores_group['residual (y_pred - y_test)'].values)\n",
    "    plt.scatter(molx, moly, label=group)\n",
    "    #for (i, residual) in enumerate(moly):\n",
    "    #    if (abs(residual) > 0.9):\n",
    "    #        refcode = scores_group['refcode'].iloc[i]\n",
    "    ##        ax.annotate(refcode, (molx[i] + 0.08 , moly[i] - 0.04),  fontsize=12 )\n",
    "    #        outliers += [refcode]\n",
    "\n",
    "for (i, residual) in enumerate(plty):\n",
    "    if (abs(residual) > 0.85):\n",
    "        ax.annotate(scores_df['Molecular Name'].iloc[i], (pltx[i] + 0.08 , plty[i] - 0.04),  fontsize=12 )\n",
    "        outliers += [i]\n",
    "\n",
    "minx = min(pltx) - 0.2\n",
    "maxx = max(pltx) + 0.2\n",
    "plt.plot([minx,maxx],[0,0],'k-',linewidth=.5)\n",
    "plt.xlim([minx,maxx])\n",
    "plt.ylabel('residual (kJ/cc)',fontsize=22)\n",
    "plt.xlabel('actual explosive energy (kJ/cc)', fontsize=22)\n",
    "ax.xaxis.set_tick_params(labelsize=15)\n",
    "ax.yaxis.set_tick_params(labelsize=15)\n",
    "plt.legend(fontsize=11, title= 'group', edgecolor='k', loc=(.835,.45), framealpha=1)\n",
    "plt.savefig('HM_LBoB_EE_residuals.eps')\n",
    "plt.show()"
   ]
  },
  {
   "cell_type": "markdown",
   "metadata": {},
   "source": [
    "# group based residual "
   ]
  },
  {
   "cell_type": "code",
   "execution_count": 21,
   "metadata": {},
   "outputs": [
    {
     "name": "stdout",
     "output_type": "stream",
     "text": [
      "\\begin{tabular}{c c c c c c}\n",
      "     group   & N_{\\ff{group}} & $r$ & R$^2$ & MAE  & avg.\\ residual (kJ/cc) \\\\ \n",
      "\\hline\n",
      "                          HMX  &   6 &  0.968 &   0.83  &   0.32 &  -0.06   \\\\\n",
      "                    Butterfly  &  10 &  0.917 &   0.78  &   0.18 &  -0.01   \\\\\n",
      "                          TNT  &  16 &  0.854 &   0.83  &   0.31 &   0.10   \\\\\n",
      "                         CL20  &   6 &  0.854 &   0.83  &   0.22 &  -0.09   \\\\\n",
      "                       Cubane  &  12 &  0.814 &   0.75  &   0.58 &  -0.04   \\\\\n",
      "                         Ring  &   8 &  0.548 &   0.17  &   0.26 &   0.20   \\\\\n",
      "                          RDX  &   6 &  0.377 &   0.19  &   0.28 &  -0.11   \\\\\n",
      "                     Pyrazole  &  20 &  0.254 &   0.21  &   0.42 &  -0.07   \\\\\n",
      "                       Ketone  &   7 &  0.099 &  -0.13  &   0.25 &   0.15   \\\\\n",
      "                       Linear  &  18 &  0.003 &  -1.12  &   0.52 &   0.00   \\\\\n",
      "\\end{tabular}\n"
     ]
    }
   ],
   "source": [
    "from mmltoolkit.mmltoolkit.CV_tools import r2Pearson, R2\n",
    "group_avg_residual = {}\n",
    "group_abs_err = {}\n",
    "group_num = {}\n",
    "group_r2 = {}\n",
    "group_R2 = {}\n",
    "\n",
    "\n",
    "for group in groups: \n",
    "    group_df = scores_df[scores_df['group'] == group]\n",
    "    group_avg_residual[group] = group_df['residual (y_pred - y_test)'].mean()\n",
    "    group_abs_err[group] = np.abs(group_df['residual (y_pred - y_test)']).mean()\n",
    "    group_num[group] = len(group_df)\n",
    "    group_r2[group] = r2Pearson(group_df['Explosive energy (kj/cc)'].values, group_df['y_pred'].values)\n",
    "    group_R2[group] = R2(group_df['Explosive energy (kj/cc)'].values, group_df['y_pred'].values)\n",
    "\n",
    "    sorted_groups = sorted(group_avg_residual, key=group_r2.__getitem__, reverse=True)\n",
    "\n",
    "print(\"\\\\begin{tabular}{c c c c c c}\") \n",
    "print(\"     group   & N_{\\\\ff{group}} & $r$ & R$^2$ & MAE  & avg.\\\\ residual (kJ/cc) \\\\\\\\ \")\n",
    "print(\"\\\\hline\")\n",
    "for i in range(len(sorted_groups)):\n",
    "    group = sorted_groups[i]\n",
    "    print(\"%30s & %3i & %6.3f & %6.2f  & %6.2f & %6.2f   \\\\\\\\\" % (group, group_num[group], group_r2[group], group_R2[group], group_abs_err[group],  group_avg_residual[group]) ) \n",
    "print(\"\\\\end{tabular}\") \n"
   ]
  },
  {
   "cell_type": "markdown",
   "metadata": {
    "collapsed": true
   },
   "source": [
    "# 3D plotting"
   ]
  },
  {
   "cell_type": "code",
   "execution_count": 23,
   "metadata": {
    "scrolled": true
   },
   "outputs": [
    {
     "ename": "ImportError",
     "evalue": "No module named 'py3Dmol'",
     "output_type": "error",
     "traceback": [
      "\u001b[0;31m---------------------------------------------------------------------------\u001b[0m",
      "\u001b[0;31mImportError\u001b[0m                               Traceback (most recent call last)",
      "\u001b[0;32m<ipython-input-23-a4858c09711c>\u001b[0m in \u001b[0;36m<module>\u001b[0;34m()\u001b[0m\n\u001b[0;32m----> 1\u001b[0;31m \u001b[0;32mimport\u001b[0m \u001b[0mpy3Dmol\u001b[0m\u001b[0;34m\u001b[0m\u001b[0m\n\u001b[0m\u001b[1;32m      2\u001b[0m \u001b[0;34m\u001b[0m\u001b[0m\n\u001b[1;32m      3\u001b[0m \u001b[0;34m\u001b[0m\u001b[0m\n\u001b[1;32m      4\u001b[0m \u001b[0mworst_performing\u001b[0m \u001b[0;34m=\u001b[0m \u001b[0;34m[\u001b[0m\u001b[0mscores_df\u001b[0m\u001b[0;34m.\u001b[0m\u001b[0miloc\u001b[0m\u001b[0;34m[\u001b[0m\u001b[0mi\u001b[0m\u001b[0;34m]\u001b[0m\u001b[0;34m[\u001b[0m\u001b[0;34m'Molecular Name'\u001b[0m\u001b[0;34m]\u001b[0m \u001b[0;32mfor\u001b[0m \u001b[0mi\u001b[0m \u001b[0;32min\u001b[0m \u001b[0moutliers\u001b[0m\u001b[0;34m]\u001b[0m\u001b[0;34m\u001b[0m\u001b[0m\n\u001b[1;32m      5\u001b[0m \u001b[0mscores\u001b[0m  \u001b[0;34m=\u001b[0m \u001b[0;34m[\u001b[0m\u001b[0mscores_df\u001b[0m\u001b[0;34m.\u001b[0m\u001b[0miloc\u001b[0m\u001b[0;34m[\u001b[0m\u001b[0mi\u001b[0m\u001b[0;34m]\u001b[0m\u001b[0;34m[\u001b[0m\u001b[0;34m'score'\u001b[0m\u001b[0;34m]\u001b[0m \u001b[0;32mfor\u001b[0m \u001b[0mi\u001b[0m \u001b[0;32min\u001b[0m \u001b[0moutliers\u001b[0m\u001b[0;34m]\u001b[0m\u001b[0;34m\u001b[0m\u001b[0m\n",
      "\u001b[0;31mImportError\u001b[0m: No module named 'py3Dmol'"
     ]
    }
   ],
   "source": [
    "import py3Dmol\n",
    "\n",
    "\n",
    "worst_performing = [scores_df.iloc[i]['Molecular Name'] for i in outliers]\n",
    "scores  = [scores_df.iloc[i]['score'] for i in outliers]\n",
    "\n",
    "num = len(worst_performing)\n",
    "num_cols = 2\n",
    "\n",
    "view = py3Dmol.view(linked=False,viewergrid=(2, 5),width=10000,height=2050)\n",
    "view.setViewStyle({'style':'outline','color':'None','width':0.0010})\n",
    "view.removeAllModels(viewer=(0,0))\n",
    "\n",
    "\n",
    "for (i, refcode) in enumerate(worst_performing):\n",
    "    file_HM = open('HM_all_xyz_files/'+refcode+'.xyz', 'r')\n",
    "    xyz_HM = file_HM.read()\n",
    "   \n",
    "    if (i < 5):\n",
    "        view.addModel(xyz_HM,'mol',viewer=(0, i))\n",
    "        view.setStyle({'stick':{}},viewer=(0, i))\n",
    "        view.zoomTo(viewer=(0, i))\n",
    "    if (i >= 5):\n",
    "        view.addModel(xyz_HM,'mol',viewer=(1, i-5))\n",
    "        view.setStyle({'stick':{}},viewer=(1, i-5))\n",
    "        view.zoomTo(viewer=(1, i-5))\n",
    "\n",
    "view.render()\n"
   ]
  },
  {
   "cell_type": "code",
   "execution_count": 65,
   "metadata": {},
   "outputs": [
    {
     "name": "stdout",
     "output_type": "stream",
     "text": [
      "CUGCOW                         QQQBRD02                         CUBANE                         CEYDUF                         TAHMEV                         "
     ]
    }
   ],
   "source": [
    "for mol in worst_performing[0:5]:\n",
    "    print(mol+\"                         \", end='')"
   ]
  }
 ],
 "metadata": {
  "kernelspec": {
   "display_name": "Python 3",
   "language": "python",
   "name": "python3"
  },
  "language_info": {
   "codemirror_mode": {
    "name": "ipython",
    "version": 3
   },
   "file_extension": ".py",
   "mimetype": "text/x-python",
   "name": "python",
   "nbconvert_exporter": "python",
   "pygments_lexer": "ipython3",
   "version": "3.6.4"
  }
 },
 "nbformat": 4,
 "nbformat_minor": 2
}
