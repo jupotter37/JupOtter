{
 "cells": [
  {
   "cell_type": "code",
   "execution_count": 11,
   "metadata": {},
   "outputs": [],
   "source": [
    "import toytree\n",
    "import toyplot\n",
    "import numpy as np"
   ]
  },
  {
   "cell_type": "markdown",
   "metadata": {},
   "source": [
    "### Quick examples"
   ]
  },
  {
   "cell_type": "code",
   "execution_count": 12,
   "metadata": {},
   "outputs": [
    {
     "data": {
      "text/html": [
       "<div class=\"toyplot\" id=\"t3b5f4c01f1ec4eeaa39c6a009847bb26\" style=\"text-align:center\"><svg class=\"toyplot-canvas-Canvas\" height=\"250.0px\" id=\"t263db53521d849b895ebf08afe15adc5\" preserveAspectRatio=\"xMidYMid meet\" style=\"background-color:transparent;border-color:#292724;border-style:none;border-width:1.0;fill:rgb(16.1%,15.3%,14.1%);fill-opacity:1.0;font-family:Helvetica;font-size:12px;opacity:1.0;stroke:rgb(16.1%,15.3%,14.1%);stroke-opacity:1.0;stroke-width:1.0\" viewBox=\"0 0 1000.0 250.0\" width=\"1000.0px\" xmlns=\"http://www.w3.org/2000/svg\" xmlns:toyplot=\"http://www.sandia.gov/toyplot\" xmlns:xlink=\"http://www.w3.org/1999/xlink\"><g class=\"toyplot-coordinates-Cartesian\" id=\"t38319c90d7504002842efe5351eb4d61\"><clipPath id=\"t2366ceea7c1045fc846888ac0ba5a41e\"><rect height=\"190.0\" width=\"190.0\" x=\"30.0\" y=\"30.0\"></rect></clipPath><g clip-path=\"url(#t2366ceea7c1045fc846888ac0ba5a41e)\"><g class=\"toytree-mark-Toytree\" id=\"t4ab7feed19a0429fb3253d75dfa96241\"><g class=\"toytree-Edges\" style=\"fill:none;stroke:rgb(14.9%,14.9%,14.9%);stroke-linecap:round;stroke-opacity:1;stroke-width:2\"><path d=\"M 51.8 119.3 L 84.7 76.8\" id=\"14,13\"></path><path d=\"M 51.8 119.3 L 84.7 161.7\" id=\"14,12\"></path><path d=\"M 84.7 76.8 L 117.7 92.9\" id=\"13,11\"></path><path d=\"M 84.7 161.7 L 117.7 143.3\" id=\"12,10\"></path><path d=\"M 84.7 161.7 L 117.7 180.0\" id=\"12,9\"></path><path d=\"M 117.7 92.9 L 150.6 106.7\" id=\"11,8\"></path><path d=\"M 84.7 76.8 L 183.6 60.8\" id=\"13,7\"></path><path d=\"M 117.7 92.9 L 183.6 79.1\" id=\"11,6\"></path><path d=\"M 150.6 106.7 L 183.6 97.5\" id=\"8,5\"></path><path d=\"M 150.6 106.7 L 183.6 115.8\" id=\"8,4\"></path><path d=\"M 117.7 143.3 L 183.6 134.2\" id=\"10,3\"></path><path d=\"M 117.7 143.3 L 183.6 152.5\" id=\"10,2\"></path><path d=\"M 117.7 180.0 L 183.6 170.9\" id=\"9,1\"></path><path d=\"M 117.7 180.0 L 183.6 189.2\" id=\"9,0\"></path></g><g class=\"toytree-TipLabels\" style=\"fill:rgb(14.9%,14.9%,14.9%);fill-opacity:1.0;font-family:helvetica;font-size:11px;font-weight:normal;stroke:none;white-space:pre\"><g transform=\"translate(183.59,189.21)rotate(0)\"><text style=\"\" x=\"15.00\" y=\"2.81\">r0</text></g><g transform=\"translate(183.59,170.87)rotate(0)\"><text style=\"\" x=\"15.00\" y=\"2.81\">r1</text></g><g transform=\"translate(183.59,152.52)rotate(0)\"><text style=\"\" x=\"15.00\" y=\"2.81\">r2</text></g><g transform=\"translate(183.59,134.17)rotate(0)\"><text style=\"\" x=\"15.00\" y=\"2.81\">r3</text></g><g transform=\"translate(183.59,115.83)rotate(0)\"><text style=\"\" x=\"15.00\" y=\"2.81\">r4</text></g><g transform=\"translate(183.59,97.48)rotate(0)\"><text style=\"\" x=\"15.00\" y=\"2.81\">r5</text></g><g transform=\"translate(183.59,79.13)rotate(0)\"><text style=\"\" x=\"15.00\" y=\"2.81\">r6</text></g><g transform=\"translate(183.59,60.79)rotate(0)\"><text style=\"\" x=\"15.00\" y=\"2.81\">r7</text></g></g></g></g><g class=\"toyplot-coordinates-Axis\" id=\"t449aed2e2a0d4913ad7f57352eb6e88c\" transform=\"translate(50.0,200.0)translate(0,20.0)\"><line style=\"\" x1=\"1.7577884677358038\" x2=\"133.59192354792023\" y1=\"0\" y2=\"0\"></line><g><g transform=\"translate(1.7577884677358038,6)\"><text style=\"fill:rgb(16.1%,15.3%,14.1%);fill-opacity:1.0;font-family:helvetica;font-size:10.0px;font-weight:normal;stroke:none;vertical-align:baseline;white-space:pre\" x=\"-8.615\" y=\"8.555\">-1.0</text></g><g transform=\"translate(67.67485600782803,6)\"><text style=\"fill:rgb(16.1%,15.3%,14.1%);fill-opacity:1.0;font-family:helvetica;font-size:10.0px;font-weight:normal;stroke:none;vertical-align:baseline;white-space:pre\" x=\"-8.615\" y=\"8.555\">-0.5</text></g><g transform=\"translate(133.59192354792023,6)\"><text style=\"fill:rgb(16.1%,15.3%,14.1%);fill-opacity:1.0;font-family:helvetica;font-size:10.0px;font-weight:normal;stroke:none;vertical-align:baseline;white-space:pre\" x=\"-6.95\" y=\"8.555\">0.0</text></g></g><g class=\"toyplot-coordinates-Axis-coordinates\" style=\"visibility:hidden\" transform=\"\"><line style=\"stroke:rgb(43.9%,50.2%,56.5%);stroke-opacity:1.0;stroke-width:1.0\" x1=\"0\" x2=\"0\" y1=\"-3.0\" y2=\"4.5\"></line><text style=\"alignment-baseline:alphabetic;fill:rgb(43.9%,50.2%,56.5%);fill-opacity:1.0;font-size:10px;font-weight:normal;stroke:none;text-anchor:middle\" x=\"0\" y=\"-6\"></text></g></g><g class=\"toyplot-coordinates-Axis\" id=\"t4f93b2c923964b9ea4ba167fc5e06963\" transform=\"translate(50.0,200.0)rotate(-90.0)translate(0,-20.0)\"><line style=\"\" x1=\"10.78767123287671\" x2=\"139.21232876712332\" y1=\"0\" y2=\"0\"></line><g><g transform=\"translate(10.78767123287671,-6)\"><text style=\"fill:rgb(16.1%,15.3%,14.1%);fill-opacity:1.0;font-family:helvetica;font-size:10.0px;font-weight:normal;stroke:none;vertical-align:baseline;white-space:pre\" x=\"-2.78\" y=\"-4.440892098500626e-16\">0</text></g><g transform=\"translate(56.65362035225049,-6)\"><text style=\"fill:rgb(16.1%,15.3%,14.1%);fill-opacity:1.0;font-family:helvetica;font-size:10.0px;font-weight:normal;stroke:none;vertical-align:baseline;white-space:pre\" x=\"-2.78\" y=\"-4.440892098500626e-16\">2</text></g><g transform=\"translate(102.51956947162428,-6)\"><text style=\"fill:rgb(16.1%,15.3%,14.1%);fill-opacity:1.0;font-family:helvetica;font-size:10.0px;font-weight:normal;stroke:none;vertical-align:baseline;white-space:pre\" x=\"-2.78\" y=\"-4.440892098500626e-16\">5</text></g><g transform=\"translate(148.38551859099806,-6)\"><text style=\"fill:rgb(16.1%,15.3%,14.1%);fill-opacity:1.0;font-family:helvetica;font-size:10.0px;font-weight:normal;stroke:none;vertical-align:baseline;white-space:pre\" x=\"-2.78\" y=\"-4.440892098500626e-16\">8</text></g></g><g class=\"toyplot-coordinates-Axis-coordinates\" style=\"visibility:hidden\" transform=\"\"><line style=\"stroke:rgb(43.9%,50.2%,56.5%);stroke-opacity:1.0;stroke-width:1.0\" x1=\"0\" x2=\"0\" y1=\"3.0\" y2=\"-4.5\"></line><text style=\"alignment-baseline:hanging;fill:rgb(43.9%,50.2%,56.5%);fill-opacity:1.0;font-size:10px;font-weight:normal;stroke:none;text-anchor:middle\" x=\"0\" y=\"6\"></text></g></g></g><g class=\"toyplot-coordinates-Cartesian\" id=\"ta21582d53f6b4a12b476511891b0a2a6\"><clipPath id=\"t6b93450555d640cd86e23434c58e58a6\"><rect height=\"190.0\" width=\"190.0\" x=\"280.0\" y=\"30.0\"></rect></clipPath><g clip-path=\"url(#t6b93450555d640cd86e23434c58e58a6)\"><g class=\"toytree-mark-Toytree\" id=\"t67ca8af07371445f94d5031297c8ac81\"><g class=\"toytree-Edges\" style=\"fill:none;stroke:rgb(14.9%,14.9%,14.9%);stroke-linecap:round;stroke-opacity:1;stroke-width:2\"><path d=\"M 301.8 119.3 C 301.8 76.8, 301.8 76.8, 334.7 76.841\" id=\"14,13\"></path><path d=\"M 301.8 119.3 C 301.8 161.7, 301.8 161.7, 334.7 161.693\" id=\"14,12\"></path><path d=\"M 334.7 76.8 C 334.7 92.9, 334.7 92.9, 367.7 92.894\" id=\"13,11\"></path><path d=\"M 334.7 161.7 C 334.7 143.3, 334.7 143.3, 367.7 143.346\" id=\"12,10\"></path><path d=\"M 334.7 161.7 C 334.7 180.0, 334.7 180.0, 367.7 180.039\" id=\"12,9\"></path><path d=\"M 367.7 92.9 C 367.7 106.7, 367.7 106.7, 400.6 106.654\" id=\"11,8\"></path><path d=\"M 334.7 76.8 C 334.7 60.8, 334.7 60.8, 433.6 60.788\" id=\"13,7\"></path><path d=\"M 367.7 92.9 C 367.7 79.1, 367.7 79.1, 433.6 79.134\" id=\"11,6\"></path><path d=\"M 400.6 106.7 C 400.6 97.5, 400.6 97.5, 433.6 97.480\" id=\"8,5\"></path><path d=\"M 400.6 106.7 C 400.6 115.8, 400.6 115.8, 433.6 115.827\" id=\"8,4\"></path><path d=\"M 367.7 143.3 C 367.7 134.2, 367.7 134.2, 433.6 134.173\" id=\"10,3\"></path><path d=\"M 367.7 143.3 C 367.7 152.5, 367.7 152.5, 433.6 152.520\" id=\"10,2\"></path><path d=\"M 367.7 180.0 C 367.7 170.9, 367.7 170.9, 433.6 170.866\" id=\"9,1\"></path><path d=\"M 367.7 180.0 C 367.7 189.2, 367.7 189.2, 433.6 189.212\" id=\"9,0\"></path></g><g class=\"toytree-TipLabels\" style=\"fill:rgb(14.9%,14.9%,14.9%);fill-opacity:1.0;font-family:helvetica;font-size:11px;font-weight:normal;stroke:none;white-space:pre\"><g transform=\"translate(433.59,189.21)rotate(0)\"><text style=\"\" x=\"15.00\" y=\"2.81\">r0</text></g><g transform=\"translate(433.59,170.87)rotate(0)\"><text style=\"\" x=\"15.00\" y=\"2.81\">r1</text></g><g transform=\"translate(433.59,152.52)rotate(0)\"><text style=\"\" x=\"15.00\" y=\"2.81\">r2</text></g><g transform=\"translate(433.59,134.17)rotate(0)\"><text style=\"\" x=\"15.00\" y=\"2.81\">r3</text></g><g transform=\"translate(433.59,115.83)rotate(0)\"><text style=\"\" x=\"15.00\" y=\"2.81\">r4</text></g><g transform=\"translate(433.59,97.48)rotate(0)\"><text style=\"\" x=\"15.00\" y=\"2.81\">r5</text></g><g transform=\"translate(433.59,79.13)rotate(0)\"><text style=\"\" x=\"15.00\" y=\"2.81\">r6</text></g><g transform=\"translate(433.59,60.79)rotate(0)\"><text style=\"\" x=\"15.00\" y=\"2.81\">r7</text></g></g></g></g><g class=\"toyplot-coordinates-Axis\" id=\"t4eb7f1974cc24953adb89d781cc5bb08\" transform=\"translate(300.0,200.0)translate(0,20.0)\"><line style=\"\" x1=\"1.7577884677358042\" x2=\"133.59192354792026\" y1=\"0\" y2=\"0\"></line><g><g transform=\"translate(1.7577884677358042,6)\"><text style=\"fill:rgb(16.1%,15.3%,14.1%);fill-opacity:1.0;font-family:helvetica;font-size:10.0px;font-weight:normal;stroke:none;vertical-align:baseline;white-space:pre\" x=\"-8.615\" y=\"8.555\">-1.0</text></g><g transform=\"translate(67.67485600782804,6)\"><text style=\"fill:rgb(16.1%,15.3%,14.1%);fill-opacity:1.0;font-family:helvetica;font-size:10.0px;font-weight:normal;stroke:none;vertical-align:baseline;white-space:pre\" x=\"-8.615\" y=\"8.555\">-0.5</text></g><g transform=\"translate(133.59192354792026,6)\"><text style=\"fill:rgb(16.1%,15.3%,14.1%);fill-opacity:1.0;font-family:helvetica;font-size:10.0px;font-weight:normal;stroke:none;vertical-align:baseline;white-space:pre\" x=\"-6.95\" y=\"8.555\">0.0</text></g></g><g class=\"toyplot-coordinates-Axis-coordinates\" style=\"visibility:hidden\" transform=\"\"><line style=\"stroke:rgb(43.9%,50.2%,56.5%);stroke-opacity:1.0;stroke-width:1.0\" x1=\"0\" x2=\"0\" y1=\"-3.0\" y2=\"4.5\"></line><text style=\"alignment-baseline:alphabetic;fill:rgb(43.9%,50.2%,56.5%);fill-opacity:1.0;font-size:10px;font-weight:normal;stroke:none;text-anchor:middle\" x=\"0\" y=\"-6\"></text></g></g><g class=\"toyplot-coordinates-Axis\" id=\"t490734d3208a47adb9739e87b89a79e1\" transform=\"translate(300.0,200.0)rotate(-90.0)translate(0,-20.0)\"><line style=\"\" x1=\"10.78767123287671\" x2=\"139.21232876712332\" y1=\"0\" y2=\"0\"></line><g><g transform=\"translate(10.78767123287671,-6)\"><text style=\"fill:rgb(16.1%,15.3%,14.1%);fill-opacity:1.0;font-family:helvetica;font-size:10.0px;font-weight:normal;stroke:none;vertical-align:baseline;white-space:pre\" x=\"-2.78\" y=\"-4.440892098500626e-16\">0</text></g><g transform=\"translate(56.65362035225049,-6)\"><text style=\"fill:rgb(16.1%,15.3%,14.1%);fill-opacity:1.0;font-family:helvetica;font-size:10.0px;font-weight:normal;stroke:none;vertical-align:baseline;white-space:pre\" x=\"-2.78\" y=\"-4.440892098500626e-16\">2</text></g><g transform=\"translate(102.51956947162428,-6)\"><text style=\"fill:rgb(16.1%,15.3%,14.1%);fill-opacity:1.0;font-family:helvetica;font-size:10.0px;font-weight:normal;stroke:none;vertical-align:baseline;white-space:pre\" x=\"-2.78\" y=\"-4.440892098500626e-16\">5</text></g><g transform=\"translate(148.38551859099806,-6)\"><text style=\"fill:rgb(16.1%,15.3%,14.1%);fill-opacity:1.0;font-family:helvetica;font-size:10.0px;font-weight:normal;stroke:none;vertical-align:baseline;white-space:pre\" x=\"-2.78\" y=\"-4.440892098500626e-16\">8</text></g></g><g class=\"toyplot-coordinates-Axis-coordinates\" style=\"visibility:hidden\" transform=\"\"><line style=\"stroke:rgb(43.9%,50.2%,56.5%);stroke-opacity:1.0;stroke-width:1.0\" x1=\"0\" x2=\"0\" y1=\"3.0\" y2=\"-4.5\"></line><text style=\"alignment-baseline:hanging;fill:rgb(43.9%,50.2%,56.5%);fill-opacity:1.0;font-size:10px;font-weight:normal;stroke:none;text-anchor:middle\" x=\"0\" y=\"6\"></text></g></g></g><g class=\"toyplot-coordinates-Cartesian\" id=\"t04d531a9183c4a53ae950bb383818214\"><clipPath id=\"taf09be7bb8634875b37bd8b3a088bcdc\"><rect height=\"190.0\" width=\"190.0\" x=\"530.0\" y=\"30.0\"></rect></clipPath><g clip-path=\"url(#taf09be7bb8634875b37bd8b3a088bcdc)\"><g class=\"toytree-mark-Toytree\" id=\"tb551e4fc9453460397a0c1bfde98a1e0\"><g class=\"toytree-Edges\" style=\"fill:none;stroke:rgb(14.9%,14.9%,14.9%);stroke-linecap:round;stroke-opacity:1;stroke-width:2\"><path d=\"M 625.0 125.0 L 625.9 134.3\" id=\"14,13\"></path><path d=\"M 625.0 125.0 L 628.6 116.3\" id=\"14,12\"></path><path d=\"M 625.9 134.3 L 614.6 140.6\" id=\"13,11\"></path><path d=\"M 628.6 116.3 L 617.8 107.7\" id=\"12,10\"></path><path d=\"M 628.6 116.3 L 642.3 117.8\" id=\"12,9\"></path><path d=\"M 614.6 140.6 L 599.0 135.8\" id=\"11,8\"></path><path d=\"M 625.9 134.3 L 651.5 151.5\" id=\"13,7\"></path><path d=\"M 614.6 140.6 L 625.0 162.5\" id=\"11,6\"></path><path d=\"M 599.0 135.8 L 598.5 151.5\" id=\"8,5\"></path><path d=\"M 599.0 135.8 L 587.5 125.0\" id=\"8,4\"></path><path d=\"M 617.8 107.7 L 598.5 98.5\" id=\"10,3\"></path><path d=\"M 617.8 107.7 L 625.0 87.5\" id=\"10,2\"></path><path d=\"M 642.3 117.8 L 651.5 98.5\" id=\"9,1\"></path><path d=\"M 642.3 117.8 L 662.5 125.0\" id=\"9,0\"></path></g><g class=\"toytree-TipLabels\" style=\"fill:rgb(14.9%,14.9%,14.9%);fill-opacity:1.0;font-family:helvetica;font-size:11px;font-weight:normal;stroke:none;white-space:pre\"><g transform=\"translate(662.50,125.00)rotate(-0)\"><text style=\"\" x=\"15.00\" y=\"2.81\">r0</text></g><g transform=\"translate(651.52,98.48)rotate(-45)\"><text style=\"\" x=\"15.00\" y=\"2.81\">r1</text></g><g transform=\"translate(625.00,87.50)rotate(-90)\"><text style=\"\" x=\"15.00\" y=\"2.81\">r2</text></g><g transform=\"translate(598.48,98.48)rotate(45)\"><text style=\"\" x=\"-24.78\" y=\"2.81\">r3</text></g><g transform=\"translate(587.50,125.00)rotate(0)\"><text style=\"\" x=\"-24.78\" y=\"2.81\">r4</text></g><g transform=\"translate(598.48,151.52)rotate(-45)\"><text style=\"\" x=\"-24.78\" y=\"2.81\">r5</text></g><g transform=\"translate(625.00,162.50)rotate(-270)\"><text style=\"\" x=\"15.00\" y=\"2.81\">r6</text></g><g transform=\"translate(651.52,151.52)rotate(-315)\"><text style=\"\" x=\"15.00\" y=\"2.81\">r7</text></g></g></g></g><g class=\"toyplot-coordinates-Axis\" id=\"t5a2789a8bed74458850f87469df09429\" transform=\"translate(550.0,200.0)translate(0,20.0)\"><line style=\"\" x1=\"37.5\" x2=\"112.5\" y1=\"0\" y2=\"0\"></line><g><g transform=\"translate(0.0,6)\"><text style=\"fill:rgb(16.1%,15.3%,14.1%);fill-opacity:1.0;font-family:helvetica;font-size:10.0px;font-weight:normal;stroke:none;vertical-align:baseline;white-space:pre\" x=\"-4.445\" y=\"8.555\">-2</text></g><g transform=\"translate(37.5,6)\"><text style=\"fill:rgb(16.1%,15.3%,14.1%);fill-opacity:1.0;font-family:helvetica;font-size:10.0px;font-weight:normal;stroke:none;vertical-align:baseline;white-space:pre\" x=\"-4.445\" y=\"8.555\">-1</text></g><g transform=\"translate(75.0,6)\"><text style=\"fill:rgb(16.1%,15.3%,14.1%);fill-opacity:1.0;font-family:helvetica;font-size:10.0px;font-weight:normal;stroke:none;vertical-align:baseline;white-space:pre\" x=\"-2.78\" y=\"8.555\">0</text></g><g transform=\"translate(112.5,6)\"><text style=\"fill:rgb(16.1%,15.3%,14.1%);fill-opacity:1.0;font-family:helvetica;font-size:10.0px;font-weight:normal;stroke:none;vertical-align:baseline;white-space:pre\" x=\"-2.78\" y=\"8.555\">1</text></g><g transform=\"translate(150.0,6)\"><text style=\"fill:rgb(16.1%,15.3%,14.1%);fill-opacity:1.0;font-family:helvetica;font-size:10.0px;font-weight:normal;stroke:none;vertical-align:baseline;white-space:pre\" x=\"-2.78\" y=\"8.555\">2</text></g></g><g class=\"toyplot-coordinates-Axis-coordinates\" style=\"visibility:hidden\" transform=\"\"><line style=\"stroke:rgb(43.9%,50.2%,56.5%);stroke-opacity:1.0;stroke-width:1.0\" x1=\"0\" x2=\"0\" y1=\"-3.0\" y2=\"4.5\"></line><text style=\"alignment-baseline:alphabetic;fill:rgb(43.9%,50.2%,56.5%);fill-opacity:1.0;font-size:10px;font-weight:normal;stroke:none;text-anchor:middle\" x=\"0\" y=\"-6\"></text></g></g><g class=\"toyplot-coordinates-Axis\" id=\"t53efa38a8e6b48598fbeac01b6a351de\" transform=\"translate(550.0,200.0)rotate(-90.0)translate(0,-20.0)\"><line style=\"\" x1=\"37.5\" x2=\"112.5\" y1=\"0\" y2=\"0\"></line><g><g transform=\"translate(0.0,-6)\"><text style=\"fill:rgb(16.1%,15.3%,14.1%);fill-opacity:1.0;font-family:helvetica;font-size:10.0px;font-weight:normal;stroke:none;vertical-align:baseline;white-space:pre\" x=\"-4.445\" y=\"-4.440892098500626e-16\">-2</text></g><g transform=\"translate(37.5,-6)\"><text style=\"fill:rgb(16.1%,15.3%,14.1%);fill-opacity:1.0;font-family:helvetica;font-size:10.0px;font-weight:normal;stroke:none;vertical-align:baseline;white-space:pre\" x=\"-4.445\" y=\"-4.440892098500626e-16\">-1</text></g><g transform=\"translate(75.0,-6)\"><text style=\"fill:rgb(16.1%,15.3%,14.1%);fill-opacity:1.0;font-family:helvetica;font-size:10.0px;font-weight:normal;stroke:none;vertical-align:baseline;white-space:pre\" x=\"-2.78\" y=\"-4.440892098500626e-16\">0</text></g><g transform=\"translate(112.5,-6)\"><text style=\"fill:rgb(16.1%,15.3%,14.1%);fill-opacity:1.0;font-family:helvetica;font-size:10.0px;font-weight:normal;stroke:none;vertical-align:baseline;white-space:pre\" x=\"-2.78\" y=\"-4.440892098500626e-16\">1</text></g><g transform=\"translate(150.0,-6)\"><text style=\"fill:rgb(16.1%,15.3%,14.1%);fill-opacity:1.0;font-family:helvetica;font-size:10.0px;font-weight:normal;stroke:none;vertical-align:baseline;white-space:pre\" x=\"-2.78\" y=\"-4.440892098500626e-16\">2</text></g></g><g class=\"toyplot-coordinates-Axis-coordinates\" style=\"visibility:hidden\" transform=\"\"><line style=\"stroke:rgb(43.9%,50.2%,56.5%);stroke-opacity:1.0;stroke-width:1.0\" x1=\"0\" x2=\"0\" y1=\"3.0\" y2=\"-4.5\"></line><text style=\"alignment-baseline:hanging;fill:rgb(43.9%,50.2%,56.5%);fill-opacity:1.0;font-size:10px;font-weight:normal;stroke:none;text-anchor:middle\" x=\"0\" y=\"6\"></text></g></g></g><g class=\"toyplot-coordinates-Cartesian\" id=\"t233bd91d4ed94ff0a414ad6203e6c582\"><clipPath id=\"tb4bf806ba11c4d3e9db51d6aed5082e7\"><rect height=\"190.0\" width=\"190.0\" x=\"780.0\" y=\"30.0\"></rect></clipPath><g clip-path=\"url(#tb4bf806ba11c4d3e9db51d6aed5082e7)\"><g class=\"toytree-mark-Toytree\" id=\"t03adf5fe7a7e4c1697ca4829a7b1e748\"><g class=\"toytree-Edges\" style=\"fill:none;stroke:rgb(14.9%,14.9%,14.9%);stroke-linecap:round;stroke-opacity:1;stroke-width:2\"><path d=\"M 875.9 134.3 L 875.0 125.0 A -0.0 -0.0 0 0 0 875.0 125.0\" id=\"14,13\"></path><path d=\"M 878.6 116.3 L 875.0 125.0 A -0.0 -0.0 0 0 1 875.0 125.0\" id=\"14,12\"></path><path d=\"M 864.6 140.6 L 869.8 132.8 A 9.4 9.4 0 0 0 875.9 134.3\" id=\"13,11\"></path><path d=\"M 867.8 107.7 L 871.4 116.3 A 9.4 9.4 0 0 1 878.6 116.3\" id=\"12,10\"></path><path d=\"M 892.3 117.8 L 883.7 121.4 A 9.4 9.4 0 0 0 878.6 116.3\" id=\"12,9\"></path><path d=\"M 849.0 135.8 L 857.7 132.2 A 18.7 18.7 0 0 0 864.6 140.6\" id=\"11,8\"></path><path d=\"M 901.5 151.5 L 881.6 131.6 A 9.4 9.4 0 0 1 875.9 134.3\" id=\"13,7\"></path><path d=\"M 875.0 162.5 L 875.0 143.8 A 18.7 18.7 0 0 1 864.6 140.6\" id=\"11,6\"></path><path d=\"M 848.5 151.5 L 855.1 144.9 A 28.1 28.1 0 0 1 849.0 135.8\" id=\"8,5\"></path><path d=\"M 837.5 125.0 L 846.9 125.0 A 28.1 28.1 0 0 0 849.0 135.8\" id=\"8,4\"></path><path d=\"M 848.5 98.5 L 861.7 111.7 A 18.7 18.7 0 0 1 867.8 107.7\" id=\"10,3\"></path><path d=\"M 875.0 87.5 L 875.0 106.3 A 18.7 18.7 0 0 0 867.8 107.7\" id=\"10,2\"></path><path d=\"M 901.5 98.5 L 888.3 111.7 A 18.7 18.7 0 0 1 892.3 117.8\" id=\"9,1\"></path><path d=\"M 912.5 125.0 L 893.8 125.0 A 18.7 18.7 0 0 0 892.3 117.8\" id=\"9,0\"></path></g><g class=\"toytree-TipLabels\" style=\"fill:rgb(14.9%,14.9%,14.9%);fill-opacity:1.0;font-family:helvetica;font-size:11px;font-weight:normal;stroke:none;white-space:pre\"><g transform=\"translate(912.50,125.00)rotate(-0)\"><text style=\"\" x=\"15.00\" y=\"2.81\">r0</text></g><g transform=\"translate(901.52,98.48)rotate(-45)\"><text style=\"\" x=\"15.00\" y=\"2.81\">r1</text></g><g transform=\"translate(875.00,87.50)rotate(-90)\"><text style=\"\" x=\"15.00\" y=\"2.81\">r2</text></g><g transform=\"translate(848.48,98.48)rotate(45)\"><text style=\"\" x=\"-24.78\" y=\"2.81\">r3</text></g><g transform=\"translate(837.50,125.00)rotate(0)\"><text style=\"\" x=\"-24.78\" y=\"2.81\">r4</text></g><g transform=\"translate(848.48,151.52)rotate(-45)\"><text style=\"\" x=\"-24.78\" y=\"2.81\">r5</text></g><g transform=\"translate(875.00,162.50)rotate(-270)\"><text style=\"\" x=\"15.00\" y=\"2.81\">r6</text></g><g transform=\"translate(901.52,151.52)rotate(-315)\"><text style=\"\" x=\"15.00\" y=\"2.81\">r7</text></g></g></g></g><g class=\"toyplot-coordinates-Axis\" id=\"tcf82f966c7fe476a816eb7ceea625381\" transform=\"translate(800.0,200.0)translate(0,20.0)\"><line style=\"\" x1=\"37.5\" x2=\"112.5\" y1=\"0\" y2=\"0\"></line><g><g transform=\"translate(0.0,6)\"><text style=\"fill:rgb(16.1%,15.3%,14.1%);fill-opacity:1.0;font-family:helvetica;font-size:10.0px;font-weight:normal;stroke:none;vertical-align:baseline;white-space:pre\" x=\"-4.445\" y=\"8.555\">-2</text></g><g transform=\"translate(37.5,6)\"><text style=\"fill:rgb(16.1%,15.3%,14.1%);fill-opacity:1.0;font-family:helvetica;font-size:10.0px;font-weight:normal;stroke:none;vertical-align:baseline;white-space:pre\" x=\"-4.445\" y=\"8.555\">-1</text></g><g transform=\"translate(75.0,6)\"><text style=\"fill:rgb(16.1%,15.3%,14.1%);fill-opacity:1.0;font-family:helvetica;font-size:10.0px;font-weight:normal;stroke:none;vertical-align:baseline;white-space:pre\" x=\"-2.78\" y=\"8.555\">0</text></g><g transform=\"translate(112.5,6)\"><text style=\"fill:rgb(16.1%,15.3%,14.1%);fill-opacity:1.0;font-family:helvetica;font-size:10.0px;font-weight:normal;stroke:none;vertical-align:baseline;white-space:pre\" x=\"-2.78\" y=\"8.555\">1</text></g><g transform=\"translate(150.0,6)\"><text style=\"fill:rgb(16.1%,15.3%,14.1%);fill-opacity:1.0;font-family:helvetica;font-size:10.0px;font-weight:normal;stroke:none;vertical-align:baseline;white-space:pre\" x=\"-2.78\" y=\"8.555\">2</text></g></g><g class=\"toyplot-coordinates-Axis-coordinates\" style=\"visibility:hidden\" transform=\"\"><line style=\"stroke:rgb(43.9%,50.2%,56.5%);stroke-opacity:1.0;stroke-width:1.0\" x1=\"0\" x2=\"0\" y1=\"-3.0\" y2=\"4.5\"></line><text style=\"alignment-baseline:alphabetic;fill:rgb(43.9%,50.2%,56.5%);fill-opacity:1.0;font-size:10px;font-weight:normal;stroke:none;text-anchor:middle\" x=\"0\" y=\"-6\"></text></g></g><g class=\"toyplot-coordinates-Axis\" id=\"t10b9b7d67c0346d8a1209d92c34d0f69\" transform=\"translate(800.0,200.0)rotate(-90.0)translate(0,-20.0)\"><line style=\"\" x1=\"37.5\" x2=\"112.5\" y1=\"0\" y2=\"0\"></line><g><g transform=\"translate(0.0,-6)\"><text style=\"fill:rgb(16.1%,15.3%,14.1%);fill-opacity:1.0;font-family:helvetica;font-size:10.0px;font-weight:normal;stroke:none;vertical-align:baseline;white-space:pre\" x=\"-4.445\" y=\"-4.440892098500626e-16\">-2</text></g><g transform=\"translate(37.5,-6)\"><text style=\"fill:rgb(16.1%,15.3%,14.1%);fill-opacity:1.0;font-family:helvetica;font-size:10.0px;font-weight:normal;stroke:none;vertical-align:baseline;white-space:pre\" x=\"-4.445\" y=\"-4.440892098500626e-16\">-1</text></g><g transform=\"translate(75.0,-6)\"><text style=\"fill:rgb(16.1%,15.3%,14.1%);fill-opacity:1.0;font-family:helvetica;font-size:10.0px;font-weight:normal;stroke:none;vertical-align:baseline;white-space:pre\" x=\"-2.78\" y=\"-4.440892098500626e-16\">0</text></g><g transform=\"translate(112.5,-6)\"><text style=\"fill:rgb(16.1%,15.3%,14.1%);fill-opacity:1.0;font-family:helvetica;font-size:10.0px;font-weight:normal;stroke:none;vertical-align:baseline;white-space:pre\" x=\"-2.78\" y=\"-4.440892098500626e-16\">1</text></g><g transform=\"translate(150.0,-6)\"><text style=\"fill:rgb(16.1%,15.3%,14.1%);fill-opacity:1.0;font-family:helvetica;font-size:10.0px;font-weight:normal;stroke:none;vertical-align:baseline;white-space:pre\" x=\"-2.78\" y=\"-4.440892098500626e-16\">2</text></g></g><g class=\"toyplot-coordinates-Axis-coordinates\" style=\"visibility:hidden\" transform=\"\"><line style=\"stroke:rgb(43.9%,50.2%,56.5%);stroke-opacity:1.0;stroke-width:1.0\" x1=\"0\" x2=\"0\" y1=\"3.0\" y2=\"-4.5\"></line><text style=\"alignment-baseline:hanging;fill:rgb(43.9%,50.2%,56.5%);fill-opacity:1.0;font-size:10px;font-weight:normal;stroke:none;text-anchor:middle\" x=\"0\" y=\"6\"></text></g></g></g></svg><div class=\"toyplot-behavior\"><script>(function()\n",
       "{\n",
       "var modules={};\n",
       "modules[\"toyplot/canvas/id\"] = \"t263db53521d849b895ebf08afe15adc5\";\n",
       "modules[\"toyplot/canvas\"] = (function(canvas_id)\n",
       "    {\n",
       "        return document.querySelector(\"#\" + canvas_id);\n",
       "    })(modules[\"toyplot/canvas/id\"]);\n",
       "modules[\"toyplot.coordinates.Axis\"] = (\n",
       "        function(canvas)\n",
       "        {\n",
       "            function sign(x)\n",
       "            {\n",
       "                return x < 0 ? -1 : x > 0 ? 1 : 0;\n",
       "            }\n",
       "\n",
       "            function mix(a, b, amount)\n",
       "            {\n",
       "                return ((1.0 - amount) * a) + (amount * b);\n",
       "            }\n",
       "\n",
       "            function log(x, base)\n",
       "            {\n",
       "                return Math.log(Math.abs(x)) / Math.log(base);\n",
       "            }\n",
       "\n",
       "            function in_range(a, x, b)\n",
       "            {\n",
       "                var left = Math.min(a, b);\n",
       "                var right = Math.max(a, b);\n",
       "                return left <= x && x <= right;\n",
       "            }\n",
       "\n",
       "            function inside(range, projection)\n",
       "            {\n",
       "                for(var i = 0; i != projection.length; ++i)\n",
       "                {\n",
       "                    var segment = projection[i];\n",
       "                    if(in_range(segment.range.min, range, segment.range.max))\n",
       "                        return true;\n",
       "                }\n",
       "                return false;\n",
       "            }\n",
       "\n",
       "            function to_domain(range, projection)\n",
       "            {\n",
       "                for(var i = 0; i != projection.length; ++i)\n",
       "                {\n",
       "                    var segment = projection[i];\n",
       "                    if(in_range(segment.range.bounds.min, range, segment.range.bounds.max))\n",
       "                    {\n",
       "                        if(segment.scale == \"linear\")\n",
       "                        {\n",
       "                            var amount = (range - segment.range.min) / (segment.range.max - segment.range.min);\n",
       "                            return mix(segment.domain.min, segment.domain.max, amount)\n",
       "                        }\n",
       "                        else if(segment.scale[0] == \"log\")\n",
       "                        {\n",
       "                            var amount = (range - segment.range.min) / (segment.range.max - segment.range.min);\n",
       "                            var base = segment.scale[1];\n",
       "                            return sign(segment.domain.min) * Math.pow(base, mix(log(segment.domain.min, base), log(segment.domain.max, base), amount));\n",
       "                        }\n",
       "                    }\n",
       "                }\n",
       "            }\n",
       "\n",
       "            var axes = {};\n",
       "\n",
       "            function display_coordinates(e)\n",
       "            {\n",
       "                var current = canvas.createSVGPoint();\n",
       "                current.x = e.clientX;\n",
       "                current.y = e.clientY;\n",
       "\n",
       "                for(var axis_id in axes)\n",
       "                {\n",
       "                    var axis = document.querySelector(\"#\" + axis_id);\n",
       "                    var coordinates = axis.querySelector(\".toyplot-coordinates-Axis-coordinates\");\n",
       "                    if(coordinates)\n",
       "                    {\n",
       "                        var projection = axes[axis_id];\n",
       "                        var local = current.matrixTransform(axis.getScreenCTM().inverse());\n",
       "                        if(inside(local.x, projection))\n",
       "                        {\n",
       "                            var domain = to_domain(local.x, projection);\n",
       "                            coordinates.style.visibility = \"visible\";\n",
       "                            coordinates.setAttribute(\"transform\", \"translate(\" + local.x + \")\");\n",
       "                            var text = coordinates.querySelector(\"text\");\n",
       "                            text.textContent = domain.toFixed(2);\n",
       "                        }\n",
       "                        else\n",
       "                        {\n",
       "                            coordinates.style.visibility= \"hidden\";\n",
       "                        }\n",
       "                    }\n",
       "                }\n",
       "            }\n",
       "\n",
       "            canvas.addEventListener(\"click\", display_coordinates);\n",
       "\n",
       "            var module = {};\n",
       "            module.show_coordinates = function(axis_id, projection)\n",
       "            {\n",
       "                axes[axis_id] = projection;\n",
       "            }\n",
       "\n",
       "            return module;\n",
       "        })(modules[\"toyplot/canvas\"]);\n",
       "(function(axis, axis_id, projection)\n",
       "        {\n",
       "            axis.show_coordinates(axis_id, projection);\n",
       "        })(modules[\"toyplot.coordinates.Axis\"],\"t449aed2e2a0d4913ad7f57352eb6e88c\",[{\"domain\": {\"bounds\": {\"max\": Infinity, \"min\": -Infinity}, \"max\": 0.12446000000000002, \"min\": -1.0133333333333334}, \"range\": {\"bounds\": {\"max\": Infinity, \"min\": -Infinity}, \"max\": 150.0, \"min\": 0.0}, \"scale\": \"linear\"}]);\n",
       "(function(axis, axis_id, projection)\n",
       "        {\n",
       "            axis.show_coordinates(axis_id, projection);\n",
       "        })(modules[\"toyplot.coordinates.Axis\"],\"t4f93b2c923964b9ea4ba167fc5e06963\",[{\"domain\": {\"bounds\": {\"max\": Infinity, \"min\": -Infinity}, \"max\": 7.587999999999999, \"min\": -0.5879999999999997}, \"range\": {\"bounds\": {\"max\": Infinity, \"min\": -Infinity}, \"max\": 150.0, \"min\": 0.0}, \"scale\": \"linear\"}]);\n",
       "(function(axis, axis_id, projection)\n",
       "        {\n",
       "            axis.show_coordinates(axis_id, projection);\n",
       "        })(modules[\"toyplot.coordinates.Axis\"],\"t4eb7f1974cc24953adb89d781cc5bb08\",[{\"domain\": {\"bounds\": {\"max\": Infinity, \"min\": -Infinity}, \"max\": 0.12445999999999979, \"min\": -1.0133333333333334}, \"range\": {\"bounds\": {\"max\": Infinity, \"min\": -Infinity}, \"max\": 150.0, \"min\": 0.0}, \"scale\": \"linear\"}]);\n",
       "(function(axis, axis_id, projection)\n",
       "        {\n",
       "            axis.show_coordinates(axis_id, projection);\n",
       "        })(modules[\"toyplot.coordinates.Axis\"],\"t490734d3208a47adb9739e87b89a79e1\",[{\"domain\": {\"bounds\": {\"max\": Infinity, \"min\": -Infinity}, \"max\": 7.587999999999999, \"min\": -0.5879999999999997}, \"range\": {\"bounds\": {\"max\": Infinity, \"min\": -Infinity}, \"max\": 150.0, \"min\": 0.0}, \"scale\": \"linear\"}]);\n",
       "(function(axis, axis_id, projection)\n",
       "        {\n",
       "            axis.show_coordinates(axis_id, projection);\n",
       "        })(modules[\"toyplot.coordinates.Axis\"],\"t5a2789a8bed74458850f87469df09429\",[{\"domain\": {\"bounds\": {\"max\": Infinity, \"min\": -Infinity}, \"max\": 2.0, \"min\": -2.0}, \"range\": {\"bounds\": {\"max\": Infinity, \"min\": -Infinity}, \"max\": 150.0, \"min\": 0.0}, \"scale\": \"linear\"}]);\n",
       "(function(axis, axis_id, projection)\n",
       "        {\n",
       "            axis.show_coordinates(axis_id, projection);\n",
       "        })(modules[\"toyplot.coordinates.Axis\"],\"t53efa38a8e6b48598fbeac01b6a351de\",[{\"domain\": {\"bounds\": {\"max\": Infinity, \"min\": -Infinity}, \"max\": 2.0, \"min\": -2.0}, \"range\": {\"bounds\": {\"max\": Infinity, \"min\": -Infinity}, \"max\": 150.0, \"min\": 0.0}, \"scale\": \"linear\"}]);\n",
       "(function(axis, axis_id, projection)\n",
       "        {\n",
       "            axis.show_coordinates(axis_id, projection);\n",
       "        })(modules[\"toyplot.coordinates.Axis\"],\"tcf82f966c7fe476a816eb7ceea625381\",[{\"domain\": {\"bounds\": {\"max\": Infinity, \"min\": -Infinity}, \"max\": 2.0, \"min\": -2.0}, \"range\": {\"bounds\": {\"max\": Infinity, \"min\": -Infinity}, \"max\": 150.0, \"min\": 0.0}, \"scale\": \"linear\"}]);\n",
       "(function(axis, axis_id, projection)\n",
       "        {\n",
       "            axis.show_coordinates(axis_id, projection);\n",
       "        })(modules[\"toyplot.coordinates.Axis\"],\"t10b9b7d67c0346d8a1209d92c34d0f69\",[{\"domain\": {\"bounds\": {\"max\": Infinity, \"min\": -Infinity}, \"max\": 2.0, \"min\": -2.0}, \"range\": {\"bounds\": {\"max\": Infinity, \"min\": -Infinity}, \"max\": 150.0, \"min\": 0.0}, \"scale\": \"linear\"}]);\n",
       "})();</script></div></div>"
      ]
     },
     "metadata": {},
     "output_type": "display_data"
    }
   ],
   "source": [
    "# random tree \n",
    "tre = toytree.rtree.unittree(ntips=8, seed=123)\n",
    "\n",
    "# setup three axes\n",
    "canvas = toyplot.Canvas(width=1000, height=250)\n",
    "ax = [canvas.cartesian(grid=(1, 4, i)) for i in range(4)]\n",
    "\n",
    "# cartesian coordinates, straight edges: \"M x y L x y\"\n",
    "_, _, m0 = tre.draw(layout='r', edge_type='c', axes=ax[0]);\n",
    "\n",
    "# cartesian coordinates, bezier edges: \"M x y C px cy, px cy, cx cy\"\n",
    "_, _, m1 = tre.draw(layout='r', edge_type='b', axes=ax[1]);\n",
    "\n",
    "# polar coordinates, straight edges: \"M x y L x y\"\n",
    "_, _, m2 = tre.draw(layout='c', edge_type='c', axes=ax[2]);\n",
    "\n",
    "# polar coordinates, curved edges: \"M x y A r r, x, a, f, x y\" \n",
    "_, _, m3 = tre.draw(layout='c', edge_type='p', axes=ax[3]);"
   ]
  },
  {
   "cell_type": "markdown",
   "metadata": {},
   "source": [
    "### The Toytree marker class"
   ]
  },
  {
   "cell_type": "code",
   "execution_count": 13,
   "metadata": {},
   "outputs": [],
   "source": [
    "# axes = toyplot.radial()   # center at (0, 0)\n",
    "# axes.plot([])"
   ]
  },
  {
   "cell_type": "code",
   "execution_count": 14,
   "metadata": {},
   "outputs": [],
   "source": [
    "# A rx ry x-axis-rotation large-arc-flag sweep-flag x y"
   ]
  },
  {
   "cell_type": "code",
   "execution_count": 58,
   "metadata": {},
   "outputs": [
    {
     "ename": "SyntaxError",
     "evalue": "f-string: unterminated string (<ipython-input-58-2243887c820a>, line 28)",
     "output_type": "error",
     "traceback": [
      "\u001b[0;36m  File \u001b[0;32m\"<ipython-input-58-2243887c820a>\"\u001b[0;36m, line \u001b[0;32m28\u001b[0m\n\u001b[0;31m    \"\"\"\u001b[0m\n\u001b[0m      ^\u001b[0m\n\u001b[0;31mSyntaxError\u001b[0m\u001b[0;31m:\u001b[0m f-string: unterminated string\n"
     ]
    }
   ],
   "source": [
    "def arc(origin, angle, radius):\n",
    "    \"\"\"\n",
    "    \n",
    "    \"\"\"\n",
    "    sx = origin[0] + np.cos(angle[0]) * radius\n",
    "    sy = origin[1] + np.sin(angle[0]) * radius\n",
    "    ex = origin[0] + np.cos(angle[1]) * radius\n",
    "    ey = origin[1] + np.sin(angle[1]) * radius\n",
    "    r = radius\n",
    "    \n",
    "    # flags settings...\n",
    "    f0, f1 = 0, 0\n",
    "    \n",
    "    # build path\n",
    "    path = f\"M {sx} {sy} A {r} {r} 0 {f0} {f1} {ex} {ey}\"\n",
    "    print(path)\n",
    "    \n",
    "    svg = \"\"\"\n",
    "<svg height=\"100px\" width=\"100px\" style=\"background-color:pink\">\n",
    "    <g class='node' style=\"fill:red\">\n",
    "        <circle cx=\"{origin}\" cy='{origin}' r='{r}'></circle>\n",
    "    </g>\n",
    "    <g class='arc' style=\"fill:none; stroke:blue; stroke-width: 2\">\n",
    "        <path d=\"M 40 50 A 10 10 0 0 0 50 60\"></path>\n",
    "    </g>\n",
    "</svg>\n",
    "    \"\"\".format(**{'origin': origin[0], 'r': r, })"
   ]
  },
  {
   "cell_type": "code",
   "execution_count": 56,
   "metadata": {},
   "outputs": [
    {
     "ename": "TypeError",
     "evalue": "can't multiply sequence by non-int of type 'numpy.float64'",
     "output_type": "error",
     "traceback": [
      "\u001b[0;31m---------------------------------------------------------------------------\u001b[0m",
      "\u001b[0;31mTypeError\u001b[0m                                 Traceback (most recent call last)",
      "\u001b[0;32m<ipython-input-56-66e573999a5e>\u001b[0m in \u001b[0;36m<module>\u001b[0;34m\u001b[0m\n\u001b[0;32m----> 1\u001b[0;31m \u001b[0marc\u001b[0m\u001b[0;34m(\u001b[0m\u001b[0;34m(\u001b[0m\u001b[0;36m50\u001b[0m\u001b[0;34m,\u001b[0m \u001b[0;36m50\u001b[0m\u001b[0;34m)\u001b[0m\u001b[0;34m,\u001b[0m \u001b[0;34m[\u001b[0m\u001b[0;36m0\u001b[0m\u001b[0;34m,\u001b[0m \u001b[0mnp\u001b[0m\u001b[0;34m.\u001b[0m\u001b[0mpi\u001b[0m \u001b[0;34m/\u001b[0m \u001b[0;36m2\u001b[0m\u001b[0;34m]\u001b[0m\u001b[0;34m,\u001b[0m \u001b[0;34m[\u001b[0m\u001b[0;36m10\u001b[0m\u001b[0;34m]\u001b[0m\u001b[0;34m)\u001b[0m\u001b[0;34m\u001b[0m\u001b[0;34m\u001b[0m\u001b[0m\n\u001b[0m",
      "\u001b[0;32m<ipython-input-55-8fb2ae9be50b>\u001b[0m in \u001b[0;36marc\u001b[0;34m(origin, angle, radius)\u001b[0m\n\u001b[1;32m      3\u001b[0m \u001b[0;34m\u001b[0m\u001b[0m\n\u001b[1;32m      4\u001b[0m     \"\"\"\n\u001b[0;32m----> 5\u001b[0;31m     \u001b[0msx\u001b[0m \u001b[0;34m=\u001b[0m \u001b[0morigin\u001b[0m\u001b[0;34m[\u001b[0m\u001b[0;36m0\u001b[0m\u001b[0;34m]\u001b[0m \u001b[0;34m+\u001b[0m \u001b[0mnp\u001b[0m\u001b[0;34m.\u001b[0m\u001b[0mcos\u001b[0m\u001b[0;34m(\u001b[0m\u001b[0mangle\u001b[0m\u001b[0;34m[\u001b[0m\u001b[0;36m0\u001b[0m\u001b[0;34m]\u001b[0m\u001b[0;34m)\u001b[0m \u001b[0;34m*\u001b[0m \u001b[0mradius\u001b[0m\u001b[0;34m\u001b[0m\u001b[0;34m\u001b[0m\u001b[0m\n\u001b[0m\u001b[1;32m      6\u001b[0m     \u001b[0msy\u001b[0m \u001b[0;34m=\u001b[0m \u001b[0morigin\u001b[0m\u001b[0;34m[\u001b[0m\u001b[0;36m1\u001b[0m\u001b[0;34m]\u001b[0m \u001b[0;34m+\u001b[0m \u001b[0mnp\u001b[0m\u001b[0;34m.\u001b[0m\u001b[0msin\u001b[0m\u001b[0;34m(\u001b[0m\u001b[0mangle\u001b[0m\u001b[0;34m[\u001b[0m\u001b[0;36m0\u001b[0m\u001b[0;34m]\u001b[0m\u001b[0;34m)\u001b[0m \u001b[0;34m*\u001b[0m \u001b[0mradius\u001b[0m\u001b[0;34m\u001b[0m\u001b[0;34m\u001b[0m\u001b[0m\n\u001b[1;32m      7\u001b[0m     \u001b[0mex\u001b[0m \u001b[0;34m=\u001b[0m \u001b[0morigin\u001b[0m\u001b[0;34m[\u001b[0m\u001b[0;36m0\u001b[0m\u001b[0;34m]\u001b[0m \u001b[0;34m+\u001b[0m \u001b[0mnp\u001b[0m\u001b[0;34m.\u001b[0m\u001b[0mcos\u001b[0m\u001b[0;34m(\u001b[0m\u001b[0mangle\u001b[0m\u001b[0;34m[\u001b[0m\u001b[0;36m1\u001b[0m\u001b[0;34m]\u001b[0m\u001b[0;34m)\u001b[0m \u001b[0;34m*\u001b[0m \u001b[0mradius\u001b[0m\u001b[0;34m\u001b[0m\u001b[0;34m\u001b[0m\u001b[0m\n",
      "\u001b[0;31mTypeError\u001b[0m: can't multiply sequence by non-int of type 'numpy.float64'"
     ]
    }
   ],
   "source": [
    "arc((50, 50), [0, np.pi / 2], [10])"
   ]
  },
  {
   "cell_type": "code",
   "execution_count": 51,
   "metadata": {},
   "outputs": [
    {
     "data": {
      "text/plain": [
       "0.8939966636005579"
      ]
     },
     "execution_count": 51,
     "metadata": {},
     "output_type": "execute_result"
    }
   ],
   "source": [
    "np.sin(90)"
   ]
  },
  {
   "cell_type": "code",
   "execution_count": 52,
   "metadata": {},
   "outputs": [
    {
     "data": {
      "image/svg+xml": [
       "<svg height=\"100px\" style=\"background-color:pink\" width=\"100px\">\n",
       "    <g class=\"node\" style=\"fill:red\">\n",
       "        <circle cx=\"50\" cy=\"50\" r=\"20\"/>\n",
       "    </g>\n",
       "    <g class=\"arc\" style=\"fill:none; stroke:blue; stroke-width: 2\">\n",
       "        <path d=\"M 40 50 A 10 10 0 0 0 50 60\"/>\n",
       "    </g>\n",
       "</svg>"
      ],
      "text/plain": [
       "<IPython.core.display.SVG object>"
      ]
     },
     "metadata": {},
     "output_type": "display_data"
    }
   ],
   "source": [
    "%%SVG\n",
    "\n",
    "\n",
    "<svg height=\"100px\" width=\"100px\" style=\"background-color:pink\">\n",
    "    <g class='node' style=\"fill:red\">\n",
    "        <circle cx='50' cy='50' r='20'></circle>\n",
    "    </g>\n",
    "    <g class='arc' style=\"fill:none; stroke:blue; stroke-width: 2\">\n",
    "        <path d=\"M 40 50 A 10 10 0 0 0 50 60\"></path>\n",
    "    </g>\n",
    "</svg>"
   ]
  },
  {
   "cell_type": "code",
   "execution_count": 7,
   "metadata": {},
   "outputs": [
    {
     "data": {
      "image/svg+xml": [
       "<svg height=\"100px\" style=\"background-color:pink\" width=\"100px\">\n",
       "    <g class=\"node\" style=\"fill:red\">\n",
       "        <circle cx=\"50\" cy=\"50\" r=\"20\"/>\n",
       "    </g>\n",
       "    <g class=\"arc\" style=\"fill:none; stroke:blue; stroke-width: 2\">\n",
       "        <path d=\"M 50 75 A 10 10 0 0 0 50 25\"/>\n",
       "    </g>\n",
       "</svg>"
      ],
      "text/plain": [
       "<IPython.core.display.SVG object>"
      ]
     },
     "metadata": {},
     "output_type": "display_data"
    }
   ],
   "source": [
    "%%SVG\n",
    "\n",
    "<svg height=\"100px\" width=\"100px\" style=\"background-color:pink\">\n",
    "    <g class='node' style=\"fill:red\">\n",
    "        <circle cx='50' cy='50' r='20'></circle>\n",
    "    </g>\n",
    "    <g class='arc' style=\"fill:none; stroke:blue; stroke-width: 2\">\n",
    "        <path d=\"M 50 75 A 10 10 0 0 0 50 25\"></path>\n",
    "    </g>\n",
    "</svg>"
   ]
  },
  {
   "cell_type": "code",
   "execution_count": null,
   "metadata": {},
   "outputs": [],
   "source": []
  },
  {
   "cell_type": "code",
   "execution_count": null,
   "metadata": {},
   "outputs": [],
   "source": []
  }
 ],
 "metadata": {
  "kernelspec": {
   "display_name": "Python 3",
   "language": "python",
   "name": "python3"
  },
  "language_info": {
   "codemirror_mode": {
    "name": "ipython",
    "version": 3
   },
   "file_extension": ".py",
   "mimetype": "text/x-python",
   "name": "python",
   "nbconvert_exporter": "python",
   "pygments_lexer": "ipython3",
   "version": "3.7.9"
  }
 },
 "nbformat": 4,
 "nbformat_minor": 4
}
