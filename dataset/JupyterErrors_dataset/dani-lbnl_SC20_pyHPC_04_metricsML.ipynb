{
 "cells": [
  {
   "cell_type": "markdown",
   "metadata": {},
   "source": [
    "# Metrics\n",
    "- measuring different phases\n",
    "- panda: format, save, plotting\n",
    "- clustering"
   ]
  },
  {
   "cell_type": "code",
   "execution_count": 1,
   "metadata": {},
   "outputs": [],
   "source": [
    "%matplotlib inline\n",
    "import numpy as np\n",
    "from matplotlib import pyplot as plt"
   ]
  },
  {
   "cell_type": "code",
   "execution_count": 2,
   "metadata": {},
   "outputs": [],
   "source": [
    "import itk\n",
    "import itkwidgets\n",
    "from itkwidgets import view, compare"
   ]
  },
  {
   "cell_type": "code",
   "execution_count": null,
   "metadata": {},
   "outputs": [],
   "source": [
    "# read superpixel image\n",
    "img = "
   ]
  },
  {
   "cell_type": "code",
   "execution_count": null,
   "metadata": {},
   "outputs": [],
   "source": [
    "import math\n",
    "from skimage.measure import regionprops, label\n",
    "labeled = label(image2)\n",
    "regions = regionprops(labeled)"
   ]
  },
  {
   "cell_type": "code",
   "execution_count": null,
   "metadata": {},
   "outputs": [],
   "source": []
  },
  {
   "cell_type": "markdown",
   "metadata": {},
   "source": [
    "## Measuring different phases"
   ]
  },
  {
   "cell_type": "code",
   "execution_count": 3,
   "metadata": {},
   "outputs": [
    {
     "ename": "NameError",
     "evalue": "name 'here' is not defined",
     "output_type": "error",
     "traceback": [
      "\u001b[0;31m---------------------------------------------------------------------------\u001b[0m",
      "\u001b[0;31mNameError\u001b[0m                                 Traceback (most recent call last)",
      "\u001b[0;32m<ipython-input-3-2278432fc910>\u001b[0m in \u001b[0;36m<module>\u001b[0;34m\u001b[0m\n\u001b[0;32m----> 1\u001b[0;31m \u001b[0mhere\u001b[0m\u001b[0;34m\u001b[0m\u001b[0;34m\u001b[0m\u001b[0m\n\u001b[0m\u001b[1;32m      2\u001b[0m \u001b[0;34m\u001b[0m\u001b[0m\n\u001b[1;32m      3\u001b[0m \u001b[0;34m\u001b[0m\u001b[0m\n\u001b[1;32m      4\u001b[0m \u001b[0mmyViewer\u001b[0m \u001b[0;34m=\u001b[0m \u001b[0mview\u001b[0m\u001b[0;34m(\u001b[0m\u001b[0mconcrete\u001b[0m\u001b[0;34m,\u001b[0m \u001b[0mmode\u001b[0m\u001b[0;34m=\u001b[0m\u001b[0;34m'z'\u001b[0m\u001b[0;34m)\u001b[0m \u001b[0;31m#slicing over z\u001b[0m\u001b[0;34m\u001b[0m\u001b[0;34m\u001b[0m\u001b[0m\n\u001b[1;32m      5\u001b[0m \u001b[0mmyViewer\u001b[0m\u001b[0;34m\u001b[0m\u001b[0;34m\u001b[0m\u001b[0m\n",
      "\u001b[0;31mNameError\u001b[0m: name 'here' is not defined"
     ]
    }
   ],
   "source": [
    "here\n",
    "\n",
    "\n",
    "myViewer = view(concrete, mode='z') #slicing over z\n",
    "myViewer"
   ]
  },
  {
   "cell_type": "code",
   "execution_count": null,
   "metadata": {},
   "outputs": [],
   "source": [
    "class LaMisura:\n",
    "\n",
    "    def __init__(self,inputs,outputs): \n",
    "        '''Input and output paths '''\n",
    "        self.inputp = inputs #path  ????\n",
    "        self.outputp = outputs #path\n",
    "    def measurements(self,img):\n",
    "        '''Extract area and circularity from binary input'''\n",
    "        labeled = label(img)\n",
    "        regions = regionprops(labeled)\n",
    "        pixelSize = 1 #check this with Tonya/Rana\n",
    "        larea=[]\n",
    "        lcircularity=[]\n",
    "        labels = np.arange(np.max(labeled) + 1)\n",
    "        for region in regions:\n",
    "            area = float(region.area * pixelSize**2)\n",
    "            circularity = 4*math.pi*(region.area/region.perimeter**2)\n",
    "            if not (100 <= area <= 10000\n",
    "                and circularity > 0.5):\n",
    "                labels[region.label] = 0\n",
    "            else:\n",
    "                larea.append(area)\n",
    "                lcircularity.append(circularity)\n",
    "        finalMask = labels[labeled] >0       \n",
    "        sampleMetr = pd.DataFrame({\n",
    "                            'area':larea,\n",
    "                            'circularity':lcircularity\n",
    "                            })\n",
    "        return sampleMetr\n",
    "        \n",
    "    def histMeasurements(self,sampleMetr,mybin=10):\n",
    "        '''Show histogram of area and circularity'''\n",
    "        fig = plt.figure(figsize = (15,2.5))\n",
    "        ax = fig.gca()\n",
    "        sampleMetr.hist(bins=mybin,density=False,facecolor='g', alpha=0.75,ax = ax)"
   ]
  }
 ],
 "metadata": {
  "kernelspec": {
   "display_name": "Python 3",
   "language": "python",
   "name": "python3"
  },
  "language_info": {
   "codemirror_mode": {
    "name": "ipython",
    "version": 3
   },
   "file_extension": ".py",
   "mimetype": "text/x-python",
   "name": "python",
   "nbconvert_exporter": "python",
   "pygments_lexer": "ipython3",
   "version": "3.7.7"
  },
  "toc": {
   "base_numbering": 1,
   "nav_menu": {},
   "number_sections": true,
   "sideBar": true,
   "skip_h1_title": false,
   "title_cell": "Table of Contents",
   "title_sidebar": "Contents",
   "toc_cell": false,
   "toc_position": {},
   "toc_section_display": true,
   "toc_window_display": false
  }
 },
 "nbformat": 4,
 "nbformat_minor": 4
}
