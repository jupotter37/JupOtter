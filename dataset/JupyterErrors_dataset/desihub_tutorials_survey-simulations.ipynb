{
 "cells": [
  {
   "cell_type": "markdown",
   "metadata": {},
   "source": [
    "# Introduction to Survey Simulations"
   ]
  },
  {
   "cell_type": "markdown",
   "metadata": {},
   "source": [
    "**NOTE**: this tutorial requires the \"master\" or the \"19.12\" kernel; it does not work with the 20.8 release\n",
    "due to a plotting incompatibility between the versions of desisurvey and desiutil included in 20.8."
   ]
  },
  {
   "cell_type": "markdown",
   "metadata": {},
   "source": [
    "The goal of this notebook is to introduce you to the outputs available from DESI \"survey simulations\". These are the fastest type of DESI simulation to run and only involve the following components:\n",
    "\n",
    "- Simulated stochastic weather (seeing, transparency, ...). See [DESI-3087](https://desi.lbl.gov/DocDB/cgi-bin/private/ShowDocument?docid=3087) for details.\n",
    "- Afternoon planning, which updates tile observing priorities and schedules fiber assignment.\n",
    "- Next tile selector, which determines which tile to observe next, based on recent progress and current weather.\n",
    " \n",
    "The software for these components is mostly in the [desisurvey](https://desisurvey.readthedocs.io) and [surveysim](https://surveysim.readthedocs.io) packages.  Note that survey simulations operate at the level of tiles, not targets, and never generate spectra or redshifts and do not refer to any input catalog.  For a recent overview of the different DESI simluation types, see [DESI-3377](https://desi.lbl.gov/DocDB/cgi-bin/private/ShowDocument?docid=3377).\n",
    "\n",
    "This tutorial focuses on the using the outputs of a survey simulation. After working with the outputs from some existing simulations, you might want to run your own survey simulations: that tutorial is [here](http://surveysim.readthedocs.io/en/latest/tutorial.html).  For other tutorials, covering topics such as simulating your own DESI spectra, see [this list](https://github.com/desihub/tutorials/blob/master/README.md).\n",
    "\n",
    "For general questions and suggestions on this tutorial, email desi-data@desi.lbl.gov. For more specific suggestions or bug reports, please [create a github issue](https://github.com/desihub/tutorials/issues)."
   ]
  },
  {
   "cell_type": "markdown",
   "metadata": {},
   "source": [
    "## Getting Started"
   ]
  },
  {
   "cell_type": "markdown",
   "metadata": {},
   "source": [
    "This notebook is optimized for use with the jupyter service at NERSC, which provides pre-installed DESI software running in a Jupyter notebook. If this is your first time using jupyter at NERSC, follow [these instructions](https://desi.lbl.gov/trac/wiki/Computing/JupyterAtNERSC) to get it configured.\n",
    "\n",
    "If you prefer to work on your laptop, you will need to [install the necessary DESI software locally](https://desi.lbl.gov/trac/wiki/Pipeline/GettingStarted/Laptop).\n",
    "\n",
    "**If you are working through this notebook in a live jupyter session, I recommend removing all the output below for a more interactive experience.** Use the \"Cell > Current Outputs > Clear\" menu item.\n",
    "\n",
    "**There are several exercises below for you to work on once you master the basics.**"
   ]
  },
  {
   "cell_type": "markdown",
   "metadata": {},
   "source": [
    "#### DESI Version Compatibility\n",
    "\n",
    "- 2017-12-04 : tested using the `DESI master` kernel on jupyter-dev with the `surveysim2017/depth_0m/` outputs.\n",
    "- 2018-03-30 : tested using the `DESI 18.3` kernel on jupyter-dev with the `surveysim2017/depth_0m/` outputs (which were generated with an earlier version of the code).\n",
    "- 2018-07-20 : tested using the `DESI 18.6` kernel on jupyter-dev with the `surveysim2017/depth_0m/` outputs (which were generated with an earlier version of the code).\n",
    "- 2018-10-15 : tested using the `DESI 18.7` kernel on jupyter-dev with the `surveysim2017/depth_0m/` outputs (which were generated with an earlier version of the code).\n",
    "- 2019-03-22 : tested using the `DESI 18.11` kernel.  It currently does *not* work with the\n",
    "`18.12` or `19.2` kernels.\n",
    "- 2019-07-01 : updated to use the `DESI 19.2` kernel.\n",
    "- 2020-01-30 : updated to use the `DESI 19.12` kernel.\n",
    "- 2020-12-02 : doesn't work with `DESI 20.4` and `20.8` kernels due to a mismatch bug in `desisurvey.plots` vs. `desiutils.plots`\n",
    "  (i.e. not in the tutorial itself).  This will be fixed for next release (20.12?)"
   ]
  },
  {
   "cell_type": "markdown",
   "metadata": {},
   "source": [
    "### Load Modules"
   ]
  },
  {
   "cell_type": "markdown",
   "metadata": {},
   "source": [
    "Import the `desisurvey` modules we need below:"
   ]
  },
  {
   "cell_type": "code",
   "execution_count": 1,
   "metadata": {},
   "outputs": [],
   "source": [
    "import desisurvey.utils\n",
    "import desisurvey.plots\n",
    "from astropy.io import fits\n",
    "import numpy\n",
    "import desimodel\n",
    "import surveysim.stats"
   ]
  },
  {
   "cell_type": "markdown",
   "metadata": {},
   "source": [
    "Ignore expected harmless warnings (or don't run these lines if you prefer to see them):"
   ]
  },
  {
   "cell_type": "code",
   "execution_count": 4,
   "metadata": {},
   "outputs": [],
   "source": [
    "import warnings, matplotlib.cbook\n",
    "#astropy._erfa.core\n",
    "warnings.filterwarnings('ignore', category=matplotlib.cbook.mplDeprecation)\n",
    "#warnings.filterwarnings('ignore', category=astropy._erfa.core.ErfaWarning)"
   ]
  },
  {
   "cell_type": "markdown",
   "metadata": {},
   "source": [
    "### Find Simulation Outputs"
   ]
  },
  {
   "cell_type": "markdown",
   "metadata": {},
   "source": [
    "Identify which survey simulation you want to study by setting the `$DESISURVEY_OUTPUT` environment variable.\n",
    "\n",
    "Here we look at the first of one hundred different realizations of the baseline survey as part of the surveysim 2018 data challenge.\n",
    "We will also specify the exact DESI tiles file that was used for these simulations, since more recent ones have a slightly different\n",
    "set of tiles.\n",
    "\n",
    "Note that `$DESISURVEY_OUTPUT` is only read the first time you use a `desisurvey` function, so the easiest way to make a change below take effect is to restart the jupyter kernel and re-run the initial cells."
   ]
  },
  {
   "cell_type": "code",
   "execution_count": 5,
   "metadata": {},
   "outputs": [],
   "source": [
    "import os\n",
    "os.environ['DESISURVEY_OUTPUT'] = '/global/cfs/cdirs/desi/datachallenge/surveysim2018/weather/000'\n",
    "\n",
    "tiles_file = '/global/common/software/desi/cori/desiconda/20190804-1.3.0-spec/code/desimodel/0.10.3/data/footprint/desi-tiles.fits'"
   ]
  },
  {
   "cell_type": "markdown",
   "metadata": {},
   "source": [
    "## Survey Simulation Outputs"
   ]
  },
  {
   "cell_type": "markdown",
   "metadata": {},
   "source": [
    "The outputs from a survey simulation are two FITS files, one organized by **exposure** and **tile** (exposures.fits, exposures & tiledata HDUs), and the other organized by **night** (stats.fits).  Tiles are predefined ([DESI-717](https://desi.lbl.gov/DocDB/cgi-bin/private/ShowDocument?docid=717)) to cover the whole survey footprint in 8 dithered passes. Each tile is observed with one or more exposures.  Multiple exposures of a tile are sometimes required to:\n",
    " - Split a long exposure to minimize the impact of cosmic rays.\n",
    " - Continue an exposure that is terminated early due to a program change (or dawn).\n",
    " - Continue an exposure that is found to have insufficient signal to noise after pipeline processing.\n",
    "\n",
    "After setting `$DESISURVEY_OUTPUT`, look at the corresponding files using:"
   ]
  },
  {
   "cell_type": "code",
   "execution_count": 6,
   "metadata": {},
   "outputs": [
    {
     "data": {
      "text/plain": [
       "['exposures.fits',\n",
       " 'stats.fits',\n",
       " 'ephem_2019-01-01_2025-12-31.fits',\n",
       " 'surveyinit.fits']"
      ]
     },
     "execution_count": 6,
     "metadata": {},
     "output_type": "execute_result"
    }
   ],
   "source": [
    "os.listdir(os.environ['DESISURVEY_OUTPUT'])"
   ]
  },
  {
   "cell_type": "markdown",
   "metadata": {},
   "source": [
    "The `ephem` and `surveyinit` files contain the ephemerides for the DESI survey duration and the initial LST assignments, and will not be considered further here."
   ]
  },
  {
   "cell_type": "code",
   "execution_count": 7,
   "metadata": {},
   "outputs": [],
   "source": [
    "exposures = fits.getdata(os.path.join(os.environ['DESISURVEY_OUTPUT'], 'exposures.fits'), 'exposures')\n",
    "tilestats = fits.getdata(os.path.join(os.environ['DESISURVEY_OUTPUT'], 'exposures.fits'), 'tiledata')"
   ]
  },
  {
   "cell_type": "code",
   "execution_count": 8,
   "metadata": {},
   "outputs": [
    {
     "name": "stdout",
     "output_type": "stream",
     "text": [
      "Survey runs 2019-12-04 01:32:00+00:00 to 2024-11-20 05:36:09.999963+00:00 and observes 15964 tiles with 41623 exposures.\n"
     ]
    }
   ],
   "source": [
    "print('Survey runs {} to {} and observes {} tiles with {} exposures.'\n",
    "      .format(\n",
    "          desisurvey.utils.get_date(numpy.min(exposures['mjd'])),\n",
    "          desisurvey.utils.get_date(numpy.max(exposures['mjd'])), numpy.sum(tilestats['snr2frac'] >= 1), len(exposures)))"
   ]
  },
  {
   "cell_type": "markdown",
   "metadata": {},
   "source": [
    "Note that progress uses MJD timestamps internally, which can be converted to dates using [`desisurvey.utils.get_date()`](http://desisurvey.readthedocs.io/en/latest/api.html?highlight=get_date#desisurvey.utils.get_date)."
   ]
  },
  {
   "cell_type": "markdown",
   "metadata": {},
   "source": [
    "The exposures HDU has one record per exposure, and the tiles HDU has one record per tile."
   ]
  },
  {
   "cell_type": "code",
   "execution_count": 9,
   "metadata": {},
   "outputs": [
    {
     "name": "stdout",
     "output_type": "stream",
     "text": [
      "FITS_rec([(58821.06388889, 1040., 24346, 0.5039122 , 1.000185 , 1.0285894, 0.9708182 , 1.),\n",
      "          (58821.07662037,  690., 24346, 0.8773183 , 1.000185 , 1.2763733, 0.80424196, 1.),\n",
      "          (58821.08599537,  710., 24084, 0.34194383, 1.0013524, 1.1137799, 0.8847155 , 1.)],\n",
      "         dtype=(numpy.record, [('MJD', '>f8'), ('EXPTIME', '>f4'), ('TILEID', '>i4'), ('SNR2FRAC', '>f4'), ('AIRMASS', '>f4'), ('SEEING', '>f4'), ('TRANSP', '>f4'), ('SKY', '>f4')]))\n",
      "FITS_rec([(0, 0, 6530., 1.000289 , 8), (0, 0, 1100., 1.0040597, 2),\n",
      "          (0, 0, 1520., 1.0036422, 2)],\n",
      "         dtype=(numpy.record, [('AVAIL', '>i4'), ('PLANNED', '>i4'), ('EXPTIME', '>f4'), ('SNR2FRAC', '>f4'), ('NEXP', '>i4')]))\n"
     ]
    }
   ],
   "source": [
    "print(repr(exposures[:3]))\n",
    "print(repr(tilestats[:3]))"
   ]
  },
  {
   "cell_type": "markdown",
   "metadata": {},
   "source": [
    "The exposures HDU tracks quantities like the MJDs on which the exposures were observed, the tiles which they observed, the conditions of those observations, and the accumulated SNR2 fraction."
   ]
  },
  {
   "cell_type": "markdown",
   "metadata": {},
   "source": [
    "The tiles HDU does not replicate useful information already in the tile file.  Let's link in that information..."
   ]
  },
  {
   "cell_type": "code",
   "execution_count": 10,
   "metadata": {},
   "outputs": [
    {
     "ename": "AttributeError",
     "evalue": "'Configuration' object has no attribute 'tiles_nogray'",
     "output_type": "error",
     "traceback": [
      "\u001b[0;31m---------------------------------------------------------------------------\u001b[0m",
      "\u001b[0;31mAttributeError\u001b[0m                            Traceback (most recent call last)",
      "\u001b[0;32m/tmp/ipykernel_22331/2401195871.py\u001b[0m in \u001b[0;36m<module>\u001b[0;34m\u001b[0m\n\u001b[0;32m----> 1\u001b[0;31m \u001b[0mtiles\u001b[0m \u001b[0;34m=\u001b[0m \u001b[0mdesisurvey\u001b[0m\u001b[0;34m.\u001b[0m\u001b[0mtiles\u001b[0m\u001b[0;34m.\u001b[0m\u001b[0mget_tiles\u001b[0m\u001b[0;34m(\u001b[0m\u001b[0mtiles_file\u001b[0m\u001b[0;34m=\u001b[0m\u001b[0mtiles_file\u001b[0m\u001b[0;34m)\u001b[0m\u001b[0;34m\u001b[0m\u001b[0;34m\u001b[0m\u001b[0m\n\u001b[0m",
      "\u001b[0;32m/global/common/software/desi/cori/desiconda/20211217-2.0.0/code/desisurvey/0.18.0/lib/python3.9/site-packages/desisurvey/tiles.py\u001b[0m in \u001b[0;36mget_tiles\u001b[0;34m(tiles_file, use_cache, write_cache)\u001b[0m\n\u001b[1;32m    429\u001b[0m         \u001b[0mlog\u001b[0m\u001b[0;34m.\u001b[0m\u001b[0mdebug\u001b[0m\u001b[0;34m(\u001b[0m\u001b[0;34m'Using cached tiles for \"{}\".'\u001b[0m\u001b[0;34m.\u001b[0m\u001b[0mformat\u001b[0m\u001b[0;34m(\u001b[0m\u001b[0mtiles_file\u001b[0m\u001b[0;34m)\u001b[0m\u001b[0;34m)\u001b[0m\u001b[0;34m\u001b[0m\u001b[0;34m\u001b[0m\u001b[0m\n\u001b[1;32m    430\u001b[0m     \u001b[0;32melse\u001b[0m\u001b[0;34m:\u001b[0m\u001b[0;34m\u001b[0m\u001b[0;34m\u001b[0m\u001b[0m\n\u001b[0;32m--> 431\u001b[0;31m         \u001b[0mtiles\u001b[0m \u001b[0;34m=\u001b[0m \u001b[0mTiles\u001b[0m\u001b[0;34m(\u001b[0m\u001b[0mtiles_file\u001b[0m\u001b[0;34m)\u001b[0m\u001b[0;34m\u001b[0m\u001b[0;34m\u001b[0m\u001b[0m\n\u001b[0m\u001b[1;32m    432\u001b[0m         \u001b[0mlog\u001b[0m\u001b[0;34m.\u001b[0m\u001b[0minfo\u001b[0m\u001b[0;34m(\u001b[0m\u001b[0;34m'Initialized tiles from \"{}\".'\u001b[0m\u001b[0;34m.\u001b[0m\u001b[0mformat\u001b[0m\u001b[0;34m(\u001b[0m\u001b[0mtiles_file\u001b[0m\u001b[0;34m)\u001b[0m\u001b[0;34m)\u001b[0m\u001b[0;34m\u001b[0m\u001b[0;34m\u001b[0m\u001b[0m\n\u001b[1;32m    433\u001b[0m         \u001b[0;32mfor\u001b[0m \u001b[0mpname\u001b[0m \u001b[0;32min\u001b[0m \u001b[0mtiles\u001b[0m\u001b[0;34m.\u001b[0m\u001b[0mprograms\u001b[0m\u001b[0;34m:\u001b[0m\u001b[0;34m\u001b[0m\u001b[0;34m\u001b[0m\u001b[0m\n",
      "\u001b[0;32m/global/common/software/desi/cori/desiconda/20211217-2.0.0/code/desisurvey/0.18.0/lib/python3.9/site-packages/desisurvey/tiles.py\u001b[0m in \u001b[0;36m__init__\u001b[0;34m(self, tiles_file)\u001b[0m\n\u001b[1;32m     50\u001b[0m     \u001b[0;32mdef\u001b[0m \u001b[0m__init__\u001b[0m\u001b[0;34m(\u001b[0m\u001b[0mself\u001b[0m\u001b[0;34m,\u001b[0m \u001b[0mtiles_file\u001b[0m\u001b[0;34m=\u001b[0m\u001b[0;32mNone\u001b[0m\u001b[0;34m)\u001b[0m\u001b[0;34m:\u001b[0m\u001b[0;34m\u001b[0m\u001b[0;34m\u001b[0m\u001b[0m\n\u001b[1;32m     51\u001b[0m         \u001b[0mconfig\u001b[0m \u001b[0;34m=\u001b[0m \u001b[0mdesisurvey\u001b[0m\u001b[0;34m.\u001b[0m\u001b[0mconfig\u001b[0m\u001b[0;34m.\u001b[0m\u001b[0mConfiguration\u001b[0m\u001b[0;34m(\u001b[0m\u001b[0;34m)\u001b[0m\u001b[0;34m\u001b[0m\u001b[0;34m\u001b[0m\u001b[0m\n\u001b[0;32m---> 52\u001b[0;31m         \u001b[0mself\u001b[0m\u001b[0;34m.\u001b[0m\u001b[0mnogray\u001b[0m \u001b[0;34m=\u001b[0m \u001b[0mconfig\u001b[0m\u001b[0;34m.\u001b[0m\u001b[0mtiles_nogray\u001b[0m\u001b[0;34m(\u001b[0m\u001b[0;34m)\u001b[0m\u001b[0;34m\u001b[0m\u001b[0;34m\u001b[0m\u001b[0m\n\u001b[0m\u001b[1;32m     53\u001b[0m         bright_allowed_in_dark = getattr(\n\u001b[1;32m     54\u001b[0m             config, 'bright_allowed_in_dark', None)\n",
      "\u001b[0;31mAttributeError\u001b[0m: 'Configuration' object has no attribute 'tiles_nogray'"
     ]
    }
   ],
   "source": [
    "tiles = desisurvey.tiles.get_tiles(tiles_file=tiles_file)"
   ]
  },
  {
   "cell_type": "markdown",
   "metadata": {},
   "source": [
    "The tiles object is row-matched to the tilestats HDU."
   ]
  },
  {
   "cell_type": "code",
   "execution_count": 11,
   "metadata": {},
   "outputs": [
    {
     "ename": "NameError",
     "evalue": "name 'tiles' is not defined",
     "output_type": "error",
     "traceback": [
      "\u001b[0;31m---------------------------------------------------------------------------\u001b[0m",
      "\u001b[0;31mNameError\u001b[0m                                 Traceback (most recent call last)",
      "\u001b[0;32m/tmp/ipykernel_22331/2092199857.py\u001b[0m in \u001b[0;36m<module>\u001b[0;34m\u001b[0m\n\u001b[0;32m----> 1\u001b[0;31m \u001b[0mprint\u001b[0m\u001b[0;34m(\u001b[0m\u001b[0mtiles\u001b[0m\u001b[0;34m.\u001b[0m\u001b[0mtileRA\u001b[0m\u001b[0;34m.\u001b[0m\u001b[0mshape\u001b[0m\u001b[0;34m,\u001b[0m \u001b[0mtilestats\u001b[0m\u001b[0;34m.\u001b[0m\u001b[0mshape\u001b[0m\u001b[0;34m)\u001b[0m\u001b[0;34m\u001b[0m\u001b[0;34m\u001b[0m\u001b[0m\n\u001b[0m",
      "\u001b[0;31mNameError\u001b[0m: name 'tiles' is not defined"
     ]
    }
   ],
   "source": [
    "print(tiles.tileRA.shape, tilestats.shape)"
   ]
  },
  {
   "cell_type": "markdown",
   "metadata": {},
   "source": [
    "The desisurvey.plots module contains routines to visualize survey parameters.  Here we show tile completeness in each of the 8 passes (4 dark, one gray, three bright).  All passes except the final bright pass were completed.  There is a slight tendency for tiles at low and high decs and at the edge of the footprint to take longer than other tiles, due to airmass and Galactic extinction, but weather effects dominate."
   ]
  },
  {
   "cell_type": "markdown",
   "metadata": {},
   "source": [
    "## Tiles Summary"
   ]
  },
  {
   "cell_type": "markdown",
   "metadata": {},
   "source": [
    "The tiles table has one row per tile containing summary statistics of all exposures (if any) of that tile:"
   ]
  },
  {
   "cell_type": "code",
   "execution_count": null,
   "metadata": {},
   "outputs": [],
   "source": [
    "tilestats[:3]"
   ]
  },
  {
   "cell_type": "markdown",
   "metadata": {},
   "source": [
    "The primary metric used to set the goal total exposure time for each tile is signal-to-noise ratio (SNR) for a set of predefined \"threshold targets\":\n",
    " - DARK & GRAY programs: ELGs with integrated \\[OII\\] flux of 8e-17 erg/(s cm^2)\n",
    " - BRIGHT program: BGS targets with r=19.5 and no emission lines\n",
    " \n",
    "Plot the ratio of actual / goal SNR for each tile:"
   ]
  },
  {
   "cell_type": "code",
   "execution_count": null,
   "metadata": {},
   "outputs": [],
   "source": [
    "plt.hist(tilestats['snr2frac'], range=(0.75, 1.25), bins=25)\n",
    "plt.xlabel('Tile SNR(actual) / SNR (goal)')\n",
    "plt.axvline(np.median(tilestats['snr2frac']), c='r');"
   ]
  },
  {
   "cell_type": "markdown",
   "metadata": {},
   "source": [
    "Plot the corresponding total exposure times, which shows two peaks for the BRIGHT and DARK+GRAY programs:"
   ]
  },
  {
   "cell_type": "code",
   "execution_count": null,
   "metadata": {},
   "outputs": [],
   "source": [
    "plt.hist(tilestats['exptime'] / 60, range=(0, 60), bins=30)\n",
    "plt.xlabel('Tile Total Exposure Time [min]')\n",
    "plt.axvline(np.median(tilestats['exptime'] / 60), c='r');"
   ]
  },
  {
   "cell_type": "markdown",
   "metadata": {},
   "source": [
    "To plot the distribution of any column's values over the sky, separately for each of the 8 passes, use `plot_sky_passes`:"
   ]
  },
  {
   "cell_type": "code",
   "execution_count": null,
   "metadata": {},
   "outputs": [],
   "source": [
    "help(desisurvey.plots.plot_sky_passes)"
   ]
  },
  {
   "cell_type": "markdown",
   "metadata": {},
   "source": [
    "For example, to see the distributions of SNR(actual) / SNR(goal) over the sky after year 1 (this function takes ~30s to run):"
   ]
  },
  {
   "cell_type": "markdown",
   "metadata": {},
   "source": [
    "The following columns summarize the afternoon planning and scheduling of fiber assignment (FA):\n",
    " - covered: Date the tile is first covered by previous layers and thus eligible for FA.\n",
    " - available: Date the tile first has fibers assigned.\n",
    " - planned: Date the tile is first included in the observing plan.\n",
    " \n",
    "All dates are specified as an integer number of days from the survey start date (defined by [this utility function](http://desisurvey.readthedocs.io/en/latest/api.html#desisurvey.utils.day_number)).  As an example, plot the number of days into the survey that each tile became available for fiber assignment:"
   ]
  },
  {
   "cell_type": "code",
   "execution_count": null,
   "metadata": {},
   "outputs": [],
   "source": [
    "desisurvey.plots.plot_sky_passes(tiles.tileRA, tiles.tileDEC, tiles.passnum, tilestats['avail'], label='Day when tile became available');"
   ]
  },
  {
   "cell_type": "markdown",
   "metadata": {},
   "source": [
    "Note that the depth-first strategy has all tiles planned (=0) at the start of the survey, but other strategies have more complex dependencies between different regions of the sky in each pass."
   ]
  },
  {
   "cell_type": "markdown",
   "metadata": {},
   "source": [
    "Alternatively, let's look at what tiles in the survey were completed..."
   ]
  },
  {
   "cell_type": "code",
   "execution_count": null,
   "metadata": {},
   "outputs": [],
   "source": [
    "desisurvey.plots.plot_sky_passes(tiles.tileRA, tiles.tileDEC, tiles.passnum, tilestats['snr2frac'], label='snr2frac');"
   ]
  },
  {
   "cell_type": "markdown",
   "metadata": {},
   "source": [
    "All but a small area of the survey in the last bright pass was completed."
   ]
  },
  {
   "cell_type": "markdown",
   "metadata": {},
   "source": [
    "### Exercises"
   ]
  },
  {
   "cell_type": "code",
   "execution_count": null,
   "metadata": {},
   "outputs": [],
   "source": [
    "# Plot a histogram of the number of exposures of each tile in the full survey."
   ]
  },
  {
   "cell_type": "code",
   "execution_count": null,
   "metadata": {},
   "outputs": [],
   "source": [
    "# Plot histograms of snr2frac after year-1 separately for the DARK, GRAY, BRIGHT programs."
   ]
  },
  {
   "cell_type": "code",
   "execution_count": null,
   "metadata": {},
   "outputs": [],
   "source": [
    "# Create all-sky plots of the mean airmass that each tile was observed at in the full survey."
   ]
  },
  {
   "cell_type": "code",
   "execution_count": null,
   "metadata": {},
   "outputs": [],
   "source": [
    "# Study the tile \"overhead\", defined as 86400 * (mjd_max - mjd_min) - exptime."
   ]
  },
  {
   "cell_type": "markdown",
   "metadata": {},
   "source": [
    "## Exposures List"
   ]
  },
  {
   "cell_type": "markdown",
   "metadata": {},
   "source": [
    "The exposures list is a table with rows corresponding to each simulated exposure, in increasing time order, with columns for their simulated observing conditions. Note that column names are all UPPER CASE."
   ]
  },
  {
   "cell_type": "code",
   "execution_count": null,
   "metadata": {},
   "outputs": [],
   "source": [
    "exposures[:3]"
   ]
  },
  {
   "cell_type": "markdown",
   "metadata": {},
   "source": [
    "To see the distribution of individual exposure times (and compare with the total exposure time plot above), use:"
   ]
  },
  {
   "cell_type": "code",
   "execution_count": null,
   "metadata": {},
   "outputs": [],
   "source": [
    "plt.hist(exposures['EXPTIME'] / 60, range=(0, 25), bins=25)\n",
    "plt.xlabel('Individual Exposure Time [min]')\n",
    "plt.axvline(np.median(exposures['EXPTIME'] / 60), c='r');"
   ]
  },
  {
   "cell_type": "markdown",
   "metadata": {},
   "source": [
    "To see the distribution of atmospheric seeing during the simulated survey, use:"
   ]
  },
  {
   "cell_type": "code",
   "execution_count": null,
   "metadata": {},
   "outputs": [],
   "source": [
    "plt.hist(exposures['SEEING'], bins=25)\n",
    "plt.xlabel('Per-Exposure FWHM Seeing [arcsec]')\n",
    "plt.axvline(np.median(exposures['SEEING']), c='r');"
   ]
  },
  {
   "cell_type": "markdown",
   "metadata": {},
   "source": [
    "To study the correlation between  exposure time and seeing in the first DARK pass, use:"
   ]
  },
  {
   "cell_type": "code",
   "execution_count": null,
   "metadata": {},
   "outputs": [],
   "source": [
    "maxpass0 = numpy.max(tiles.tileID[tiles.passnum == 0])\n",
    "pass1 = exposures[exposures['tileid'] <= maxpass0]\n",
    "plt.scatter(pass1['EXPTIME'] / 60, pass1['SEEING'], c=pass1['AIRMASS'], lw=0, s=5);\n",
    "plt.colorbar().set_label('Airmass')\n",
    "plt.xlabel('Exposure Time [min]')\n",
    "plt.ylabel('Atmospheric FWHM Seeing [arcsec]');"
   ]
  },
  {
   "cell_type": "markdown",
   "metadata": {},
   "source": [
    "## Nightly survey statistics"
   ]
  },
  {
   "cell_type": "markdown",
   "metadata": {},
   "source": [
    "Now let's look at the efficiency of the survey over time.  The statistics file tracks survey statistics on each **night** of observations."
   ]
  },
  {
   "cell_type": "code",
   "execution_count": null,
   "metadata": {},
   "outputs": [],
   "source": [
    "stats = surveysim.stats.SurveyStatistics(restore=os.path.join(os.environ['DESISURVEY_OUTPUT'], 'stats.fits'))"
   ]
  },
  {
   "cell_type": "markdown",
   "metadata": {},
   "source": [
    "Under the hood, the stats object has information on each of 1826 nights contributing to the survey---for instance, the amount of time the dome was open, the amount of time used for science, the number of completed tiles, etc."
   ]
  },
  {
   "cell_type": "code",
   "execution_count": null,
   "metadata": {},
   "outputs": [],
   "source": [
    "print(stats._data.dtype)\n",
    "print('Number of nights: {}'.format(len(stats._data)))"
   ]
  },
  {
   "cell_type": "markdown",
   "metadata": {},
   "source": [
    "The `SurveyStatistics` class makes it easy to visualize survey completion with time and see survey completion statistics."
   ]
  },
  {
   "cell_type": "code",
   "execution_count": null,
   "metadata": {},
   "outputs": [],
   "source": [
    "stats.plot();"
   ]
  },
  {
   "cell_type": "markdown",
   "metadata": {},
   "source": [
    "The `summarize` method gives a text summary of the survey completeness and efficiency."
   ]
  },
  {
   "cell_type": "code",
   "execution_count": null,
   "metadata": {},
   "outputs": [],
   "source": [
    "stats.summarize()"
   ]
  },
  {
   "cell_type": "markdown",
   "metadata": {},
   "source": [
    "The survey was completed in all passes except for the last bright pass, of which 1903 of 2010 passes were completed, in this simulation.  Only a small number of exposures were aborted.  An average of 10 minutes a night was lost to dead time in dark time, mostly at the end of the survey when tiles are not available at all LSTs."
   ]
  },
  {
   "cell_type": "markdown",
   "metadata": {},
   "source": [
    "## Using many weather realizations"
   ]
  },
  {
   "cell_type": "markdown",
   "metadata": {},
   "source": [
    "The above tutorial has focused entirely on a single realization of the weather for the survey.  Another item of interest is how sensitive we expect the survey completion to be on the weather.  Let's try to figure out how much the weather affects completion statistics in the first year..."
   ]
  },
  {
   "cell_type": "code",
   "execution_count": null,
   "metadata": {},
   "outputs": [],
   "source": [
    "def completed_in_timerange(exposures, startmjd, stopmjd):\n",
    "    m = (exposures['mjd'] > startmjd) & (exposures['mjd'] < stopmjd)\n",
    "    tilepass = tiles.passnum[tiles.index(exposures['tileid'])]\n",
    "    return [numpy.sum(exposures['snr2frac'][m & (tilepass == pass0)] >= 1)\n",
    "            for pass0 in tiles.passes]"
   ]
  },
  {
   "cell_type": "code",
   "execution_count": null,
   "metadata": {},
   "outputs": [],
   "source": [
    "print('First day: {}'.format(int(numpy.min(exposures['mjd']))))"
   ]
  },
  {
   "cell_type": "code",
   "execution_count": null,
   "metadata": {},
   "outputs": [],
   "source": [
    "completed = []\n",
    "\n",
    "parentdir = '/global/cfs/cdirs/desi/datachallenge/surveysim2018/weather'\n",
    "\n",
    "for direc in range(100):\n",
    "    exposures0 = fits.getdata(os.path.join(parentdir, '{:03}'.format(direc), 'exposures.fits'))\n",
    "    completed.append(completed_in_timerange(exposures0, 58821, 58821+365))"
   ]
  },
  {
   "cell_type": "code",
   "execution_count": null,
   "metadata": {},
   "outputs": [],
   "source": [
    "print('pass, fraction complete, standard deviation')\n",
    "for tpass, ttilecomplete, ttilestd in zip(tiles.passes, numpy.mean(completed, axis=0), numpy.std(completed, axis=0)):\n",
    "    ntile = tiles.pass_ntiles[tpass]\n",
    "    print('{} {:5.1%} {:5.1%}'.format(tpass, ttilecomplete/ntile, ttilestd/ntile))"
   ]
  },
  {
   "cell_type": "markdown",
   "metadata": {},
   "source": [
    "There is not a big difference in survey completion among the various different realizations of the weather.  The bright time first pass completion is most affected, finishing 53%, plus or minus 4 percent.  In this strategy, passes 2 & 3, the last two dark passes, do not finish much area, 5% plus or minus 1%."
   ]
  },
  {
   "cell_type": "markdown",
   "metadata": {},
   "source": [
    "### Exercises"
   ]
  },
  {
   "cell_type": "code",
   "execution_count": null,
   "metadata": {},
   "outputs": [],
   "source": [
    "# Study the correlation between exposure time and moon altitude (which is underestimated in these simulations)"
   ]
  },
  {
   "cell_type": "code",
   "execution_count": null,
   "metadata": {},
   "outputs": [],
   "source": [
    "# Plot histograms of the number of exposures per night in each program."
   ]
  },
  {
   "cell_type": "code",
   "execution_count": null,
   "metadata": {},
   "outputs": [],
   "source": [
    "# Study how often GRAY and BRIGHT exposures are taken with no moon in the sky."
   ]
  },
  {
   "cell_type": "code",
   "execution_count": null,
   "metadata": {},
   "outputs": [],
   "source": [
    "# Study which of the 3 moon parameters correlates most strongly with exposure time."
   ]
  }
 ],
 "metadata": {
  "kernelspec": {
   "display_name": "DESI 22.2",
   "language": "python",
   "name": "desi-22.2"
  },
  "language_info": {
   "codemirror_mode": {
    "name": "ipython",
    "version": 3
   },
   "file_extension": ".py",
   "mimetype": "text/x-python",
   "name": "python",
   "nbconvert_exporter": "python",
   "pygments_lexer": "ipython3",
   "version": "3.9.7"
  }
 },
 "nbformat": 4,
 "nbformat_minor": 4
}
