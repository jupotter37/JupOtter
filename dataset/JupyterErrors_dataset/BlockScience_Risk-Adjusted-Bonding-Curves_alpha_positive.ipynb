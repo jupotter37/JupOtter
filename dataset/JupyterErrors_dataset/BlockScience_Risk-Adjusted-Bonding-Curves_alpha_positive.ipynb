{
 "cells": [
  {
   "cell_type": "markdown",
   "metadata": {},
   "source": [
    "# Testing Alpha Update upon Positive Attestations"
   ]
  },
  {
   "cell_type": "markdown",
   "metadata": {},
   "source": [
    "An agent executes a positive attestation when they desire to increase the system alpha closer in magnitude to their private belief of alpha.\n",
    "\n",
    "To make a positive attestation, the agent bonds $\\Delta s$ quantity of supply tokens to the $S_1$ bucket. In exchange, they get $\\Delta q_1$ quantity of positive claims. "
   ]
  },
  {
   "cell_type": "markdown",
   "metadata": {},
   "source": [
    "\n",
    "$$\\alpha_{t+1} = (\\epsilon) \\alpha + (1-\\epsilon)\\cdot(1-\\delta) \\alpha + (1-\\epsilon).(\\delta) \\bar\\alpha$$\n",
    "<br/> where $\\epsilon$ is the designer-defined fixed weight between [0,1] and $\\delta=\\frac{\\Delta s}{S_1+S_0+\\Delta s}$ is the dynamic weight.\n"
   ]
  },
  {
   "cell_type": "markdown",
   "metadata": {},
   "source": [
    "The realized alpha, $\\bar\\alpha$ is given by $$\\bar\\alpha = \\frac{\\Delta s}{S} \\frac{R}{B}$$ \n",
    "<br/> where $B = (C+R)\\left[\\frac{q_1+\\Delta q_1}{Q_1+\\Delta q1}\\frac{S_1+\\Delta s}{S}-\\frac{q_1}{Q_1}\\frac{S_1}{S}\\right]-(C)\\left[\\frac{\\Delta s}{S}\\right]$\n"
   ]
  },
  {
   "cell_type": "markdown",
   "metadata": {},
   "source": [
    "In the following tests, we want to verify if the update in alpha is directionally correct - i.e we see an increase with each positive attestaion - and if the resultant system alpha is within its domain [0,1]."
   ]
  },
  {
   "cell_type": "markdown",
   "metadata": {},
   "source": [
    "### Test criteria\n",
    "\n",
    "The tests below must produce results that satisfy the below criteria. \n",
    "\n",
    "#### Alpha Update\n",
    "For an attestation $\\Delta s \\rightarrow S_1$, where $\\Delta s \\geq 0$, \n",
    "- $ \\alpha_{t+1} \\in [0,1] $\n",
    "- The realized alpha $\\bar\\alpha \\geq \\alpha_{t}$\n",
    "- The computed $\\alpha_{t+1} \\geq \\alpha_{t}$\n",
    "\n",
    "#### State Variable Updates\n",
    "Several state variables are computed in these tests. The following domains may be asserted on the state variables.\n",
    "\n",
    "- $ S \\in [0, \\infty) $\n",
    "- $ Q_1 \\in [0, \\infty) $\n",
    "- $ S_1 \\in [0, S] \\space | \\space S_1 = S - S_0 - S_{free} $\n",
    "- $ S_0 \\in [0, S] \\space | \\space S_0 = S - S_1 - S_{free} $\n",
    "<br/> <br/>\n",
    "- $ s \\in [0, S] $\n",
    "- $ q_1 \\in [0, Q_1] $\n",
    "- $ s_1 \\in [0, S_1] $\n"
   ]
  },
  {
   "cell_type": "markdown",
   "metadata": {},
   "source": [
    "### Intitialize state variables"
   ]
  },
  {
   "cell_type": "code",
   "execution_count": 51,
   "metadata": {},
   "outputs": [],
   "source": [
    "E = 0.46\n",
    "C = 7000\n",
    "R = 3000\n",
    "S = 300\n",
    "\n",
    "Q1 = [100]\n",
    "q1 = [0]\n",
    "S1 = [100] \n",
    "S0 = [100]\n",
    "s1 = [0]\n",
    "s = [20]\n",
    "\n",
    "alpha = [0.5]"
   ]
  },
  {
   "cell_type": "markdown",
   "metadata": {},
   "source": [
    "### Input an agent action signal \n",
    "The agent action signal contains a series of $\\Delta s$ that they would use to make positive attestations."
   ]
  },
  {
   "cell_type": "code",
   "execution_count": 52,
   "metadata": {},
   "outputs": [],
   "source": [
    "deltas = [1, 4, 5, 6, 3, 0, 1]"
   ]
  },
  {
   "cell_type": "markdown",
   "metadata": {},
   "source": [
    "### Compute $\\alpha_{t+1}$ for each agent action event and update state variables"
   ]
  },
  {
   "cell_type": "markdown",
   "metadata": {},
   "source": [
    "State variables are updated in each iteration\n",
    "            \n",
    "- $S \\rightarrow S - \\Delta s$\n",
    "- $Q_1 \\rightarrow Q_1 + \\Delta q$\n",
    "- $Q_0 \\rightarrow Q_0$\n",
    "- $S_1 \\rightarrow S_1 + \\Delta s$\n",
    "- $S_0 \\rightarrow S0 $\n",
    "<br/> <br/> \n",
    "- $s \\rightarrow s - \\Delta s$\n",
    "- $q_1 \\rightarrow q_1 + \\Delta q$\n",
    "- $q_0 \\rightarrow q_0$\n",
    "- $s_1 \\rightarrow s_1 + \\Delta s$\n",
    "- $s_0 \\rightarrow s_0$\n",
    "<br/> <br/> \n",
    "- $\\alpha_t \\rightarrow \\alpha_{t+1}$\n",
    "\n",
    "\n"
   ]
  },
  {
   "cell_type": "code",
   "execution_count": 53,
   "metadata": {},
   "outputs": [
    {
     "name": "stdout",
     "output_type": "stream",
     "text": [
      "D =  0.004975124378109453\n",
      "alpha_bar =  0.06233186571425884\n",
      "alpha[i] = 0.5 | new_alpha =  0.49882417516162036\n",
      "deltas = 1  | deltaq1 =  5.773502691896324\n",
      "s[i] = 20\n",
      "____________________________\n",
      "D =  0.01951219512195122\n",
      "alpha_bar =  0.15595901638002552\n",
      "alpha[i] = 0.49882417516162036 | new_alpha =  0.4952115471471411\n",
      "deltas = 4  | deltaq1 =  12.213672050459229\n",
      "s[i] = 19\n",
      "____________________________\n",
      "D =  0.023809523809523808\n",
      "alpha_bar =  0.18087860549529386\n",
      "alpha[i] = 0.4952115471471411 | new_alpha =  0.4911701236116173\n",
      "deltas = 5  | deltaq1 =  15.232078761440219\n",
      "s[i] = 15\n",
      "____________________________\n",
      "D =  0.027777777777777776\n",
      "alpha_bar =  0.19533272980326338\n",
      "alpha[i] = 0.4911701236116173 | new_alpha =  0.48673256270449206\n",
      "deltas = 6  | deltaq1 =  18.84004750742875\n",
      "s[i] = 10\n",
      "____________________________\n",
      "D =  0.0136986301369863\n",
      "alpha_bar =  0.1161363117318615\n",
      "alpha[i] = 0.48673256270449206 | new_alpha =  0.4839911657794891\n",
      "deltas = 3  | deltaq1 =  15.205930101122458\n",
      "s[i] = 4\n",
      "____________________________\n",
      "alpha[i] = 0.4839911657794891 | new_alpha =  0.4839911657794891\n",
      "____________________________\n",
      "D =  0.004545454545454545\n",
      "alpha_bar =  0.05128172968954486\n",
      "alpha[i] = 0.4839911657794891 | new_alpha =  0.4829290607999956\n",
      "deltas = 1  | deltaq1 =  9.657062620877959\n",
      "s[i] = 1\n",
      "____________________________\n"
     ]
    }
   ],
   "source": [
    "import math\n",
    "\n",
    "for i in range(len(deltas)): \n",
    "    \n",
    "    A = 1+(deltas[i]/S)\n",
    "    deltaq1 = Q1[i]*(math.sqrt(A-1))\n",
    "        \n",
    "    if deltas[i] == 0:\n",
    "        new_alpha = alpha[i]\n",
    "        print(\"alpha[i] =\", alpha[i], \"| new_alpha = \", new_alpha)\n",
    "        print(\"____________________________\")\n",
    "    else:   \n",
    "        attest_prop_after = (q1[i]+deltaq1)/(Q1[i]+deltaq1)\n",
    "        supply_prop_after = (S1[i]+deltas[i])/S\n",
    "        attest_supply_prop_before = (q1[i]/Q1[i])*(S1[i]/S)\n",
    "    \n",
    "        B = (attest_prop_after*supply_prop_after) - attest_supply_prop_before\n",
    "              \n",
    "        pre1 = (C+R)*B\n",
    "        \n",
    "        pre2 = (C)*(deltas[i]/S)\n",
    "        \n",
    "        alpha_bar = (deltas[i]/S)*(R/(pre1 - pre2))\n",
    "        \n",
    "       # pre3 = (deltas[i]/S)*R\n",
    "       # pre4 = (C+R)*B\n",
    "       # pre5 = (C)*(deltas[i]/S)\n",
    "        \n",
    "       # alpha_bar = pre3 / (pre4 - pre5)\n",
    "    \n",
    "        D = deltas[i]/(S0[i]+S1[i]+deltas[i])\n",
    "    \n",
    "        T1 = E*alpha[i]\n",
    "    \n",
    "        T2 = (1-E)*(1-D)*alpha[i]\n",
    "    \n",
    "        T3 = (1-E)*(D)*alpha_bar\n",
    "    \n",
    "        new_alpha = T1+T2+T3\n",
    "    \n",
    "        print(\"D = \", D)\n",
    "        print(\"alpha_bar = \", alpha_bar)\n",
    "        print(\"alpha[i] =\", alpha[i], \"| new_alpha = \", new_alpha)\n",
    "        # print(\"alpha = \", alpha)\n",
    "        print(\"deltas =\", deltas[i], \" | deltaq1 = \", deltaq1)\n",
    "        print(\"s[i] =\" , s[i])\n",
    "        print(\"____________________________\")\n",
    "    \n",
    "    # Update operations\n",
    "    Q1.append(Q1[i] + deltaq1)\n",
    "    S1.append(S1[i] + deltas[i])\n",
    "    S0.append(S0[i])\n",
    "    s1.append(s1[i] + deltas[i])\n",
    "    s.append(s[i] - deltas[i])\n",
    "    q1.append(deltaq1)\n",
    "    alpha.append(new_alpha)\n",
    "    "
   ]
  },
  {
   "cell_type": "markdown",
   "metadata": {},
   "source": [
    "### Component Tests  - June 17"
   ]
  },
  {
   "cell_type": "code",
   "execution_count": 9,
   "metadata": {},
   "outputs": [],
   "source": [
    "# Set state variables\n",
    "C = 7000\n",
    "R = 3000\n",
    "\n",
    "Q1 = 300\n",
    "S = 1000\n",
    "S1 = 500\n",
    "S0 = 200\n",
    "\n",
    "q1 = 10\n",
    "s1 = 13\n",
    "\n",
    "delta_s = 5"
   ]
  },
  {
   "cell_type": "code",
   "execution_count": 10,
   "metadata": {},
   "outputs": [
    {
     "name": "stdout",
     "output_type": "stream",
     "text": [
      "delta_q =  0.7490648364513186\n"
     ]
    }
   ],
   "source": [
    "# Calculate delta q\n",
    "import math\n",
    "\n",
    "delta_q = Q1*(math.sqrt(1+(delta_s/S))-1)\n",
    "print(\"delta_q = \", delta_q)"
   ]
  },
  {
   "cell_type": "code",
   "execution_count": 13,
   "metadata": {},
   "outputs": [
    {
     "name": "stdout",
     "output_type": "stream",
     "text": [
      "B1 =  48.82525756790532\n"
     ]
    }
   ],
   "source": [
    "# Calculate B1 (using S1+delta_s)\n",
    "attest_prop_after = (q1+delta_q)/(Q1+delta_q)\n",
    "supply_prop_after = (S1+delta_s)/S\n",
    "attest_supply_before = (q1/Q1)*(S1/S)\n",
    "\n",
    "B1 = (C+R)*((attest_prop_after * supply_prop_after) - attest_supply_before) + (C)*(delta_s/S)\n",
    "print(\"B1 = \", B1)"
   ]
  },
  {
   "cell_type": "code",
   "execution_count": 14,
   "metadata": {},
   "outputs": [
    {
     "name": "stdout",
     "output_type": "stream",
     "text": [
      "B2 =  37.10004218393854\n"
     ]
    }
   ],
   "source": [
    "# Calculate B2 (using s1+delta_s)\n",
    "attest_prop_after = (q1+delta_q)/(Q1+delta_q)\n",
    "supply_prop_after = (s1+delta_s)/S\n",
    "attest_supply_before = (q1/Q1)*(s1/S)\n",
    "\n",
    "B2 = (C+R)*((attest_prop_after * supply_prop_after) - attest_supply_before) + (C)*(delta_s/S)\n",
    "print(\"B2 = \", B2)"
   ]
  },
  {
   "cell_type": "code",
   "execution_count": 16,
   "metadata": {},
   "outputs": [
    {
     "name": "stdout",
     "output_type": "stream",
     "text": [
      "alpha_bar_1 =  0.30721804138233705\n"
     ]
    }
   ],
   "source": [
    "# Calculate alpha_bar_1\n",
    "\n",
    "alpha_bar_1 = (delta_s/S)*(R/B1)\n",
    "print(\"alpha_bar_1 = \", alpha_bar_1)"
   ]
  },
  {
   "cell_type": "code",
   "execution_count": 17,
   "metadata": {},
   "outputs": [
    {
     "name": "stdout",
     "output_type": "stream",
     "text": [
      "alpha_bar_2 =  0.40431220874713303\n"
     ]
    }
   ],
   "source": [
    "# Calculate alpha_bar_2\n",
    "\n",
    "alpha_bar_2 = (delta_s/S)*(R/B2)\n",
    "print(\"alpha_bar_2 = \", alpha_bar_2)"
   ]
  },
  {
   "cell_type": "markdown",
   "metadata": {},
   "source": [
    "#### Trial 2: With using s1+delta_s & attest_prop_after = (q1+delta_q)/(Q)"
   ]
  },
  {
   "cell_type": "code",
   "execution_count": 19,
   "metadata": {},
   "outputs": [
    {
     "name": "stdout",
     "output_type": "stream",
     "text": [
      "B3 =  35.50374584306976\n"
     ]
    }
   ],
   "source": [
    "#Calculate B3 w/ s1+delta_s & attest_prop_after = (q1+delta_q)/(Q)\n",
    "Q = 300+100\n",
    "\n",
    "attest_prop_after = (q1+delta_q)/(Q)\n",
    "supply_prop_after = (s1+delta_s)/S\n",
    "attest_supply_before = (q1/Q1)*(s1/S)\n",
    "\n",
    "B3 = (C+R)*((attest_prop_after * supply_prop_after) - attest_supply_before) + (C)*(delta_s/S)\n",
    "print(\"B3 = \", B3)"
   ]
  },
  {
   "cell_type": "code",
   "execution_count": 20,
   "metadata": {},
   "outputs": [
    {
     "name": "stdout",
     "output_type": "stream",
     "text": [
      "alpha_bar_3 =  0.422490631447779\n"
     ]
    }
   ],
   "source": [
    "# Calculate alpha_bar_3\n",
    "\n",
    "alpha_bar_3 = (delta_s/S)*(R/B3)\n",
    "print(\"alpha_bar_3 = \", alpha_bar_3)"
   ]
  },
  {
   "cell_type": "markdown",
   "metadata": {},
   "source": [
    "**B should be 30 for alpha_bar to be 0.5**"
   ]
  },
  {
   "cell_type": "code",
   "execution_count": 21,
   "metadata": {},
   "outputs": [
    {
     "name": "stdout",
     "output_type": "stream",
     "text": [
      "alpha_bar_4 =  0.5\n"
     ]
    }
   ],
   "source": [
    "B4 = 30\n",
    "\n",
    "# Calculate alpha_bar_4\n",
    "\n",
    "alpha_bar_4 = (delta_s/S)*(R/B4)\n",
    "print(\"alpha_bar_4 = \", alpha_bar_4)"
   ]
  },
  {
   "cell_type": "markdown",
   "metadata": {},
   "source": [
    "#### Trial 3: With attest_prop_after = (Q1+delta_q)/(Q) & supply_prop_after = (S1+delta_s)/S & attest_supply_before = (Q1/Q)*(S1/S)"
   ]
  },
  {
   "cell_type": "code",
   "execution_count": 33,
   "metadata": {},
   "outputs": [
    {
     "name": "stdout",
     "output_type": "stream",
     "text": [
      "B4 =  81.95694356019797\n"
     ]
    }
   ],
   "source": [
    "#Calculate B4 w/ attest_prop_after = (Q1+delta_q)/(Q) and supply_prop_after = (S1+delta_s)/S and attest_supply_before = (Q1/Q)*(S1/S)\n",
    "Q = 300+100\n",
    "\n",
    "attest_prop_after = (Q1+delta_q)/(Q)\n",
    "supply_prop_after = (S1+delta_s)/S\n",
    "attest_supply_before = (Q1/Q)*(S1/S)\n",
    "\n",
    "B4 = (C+R)*((attest_prop_after * supply_prop_after) - attest_supply_before) + (C)*(delta_s/S)\n",
    "print(\"B4 = \", B4)"
   ]
  },
  {
   "cell_type": "markdown",
   "metadata": {},
   "source": [
    "#### Trial 4: With attest_prop_after = (q1+delta_q)/(Q) & supply_prop_after = (S1+delta_s)/S & attest_supply_before = (q1/Q1)(S1/S)"
   ]
  },
  {
   "cell_type": "code",
   "execution_count": 32,
   "metadata": {},
   "outputs": [
    {
     "name": "stdout",
     "output_type": "stream",
     "text": [
      "B5 =  45.706943560197885\n"
     ]
    }
   ],
   "source": [
    "# Calculate B5 w/ attest_prop_after = (q1+delta_q)/(Q) & supply_prop_after = (S1+delta_s)/S & attest_supply_before = (q1/Q)(S1/S)\n",
    "\n",
    "Q = 300+100\n",
    "\n",
    "attest_prop_after = (q1+delta_q)/(Q)\n",
    "supply_prop_after = (S1+delta_s)/S\n",
    "attest_supply_before = (q1/Q)*(S1/S)\n",
    "\n",
    "B5 = (C+R)*((attest_prop_after * supply_prop_after) - attest_supply_before) + (C)*(delta_s/S)\n",
    "print(\"B5 = \", B5)\n"
   ]
  },
  {
   "cell_type": "code",
   "execution_count": 36,
   "metadata": {},
   "outputs": [
    {
     "name": "stdout",
     "output_type": "stream",
     "text": [
      "B6 =  35.50374584306976\n"
     ]
    }
   ],
   "source": [
    "# Calculate B6 w/ attest_prop_after = (q1+delta_q)/(Q) & supply_prop_after = (s1+delta_s)/S & attest_supply_before = (q1/Q)(s1/S)\n",
    "\n",
    "Q = 300+100\n",
    "\n",
    "attest_prop_after = (q1+delta_q)/(Q)\n",
    "supply_prop_after = (s1+delta_s)/S\n",
    "attest_supply_before = (q1/Q1)*(s1/S)\n",
    "\n",
    "B6 = (C+R)*((attest_prop_after * supply_prop_after) - attest_supply_before) + (C)*(delta_s/S)\n",
    "print(\"B6 = \", B6)"
   ]
  },
  {
   "cell_type": "code",
   "execution_count": 48,
   "metadata": {},
   "outputs": [
    {
     "name": "stdout",
     "output_type": "stream",
     "text": [
      "alpha_bar =  0.422490631447779\n"
     ]
    }
   ],
   "source": [
    "# Compute alpha bar\n",
    "\n",
    "alpha_bar = (delta_s/S)*(R/B6)\n",
    "print(\"alpha_bar = \", alpha_bar)"
   ]
  },
  {
   "cell_type": "markdown",
   "metadata": {},
   "source": [
    "### Component Tests - June 18"
   ]
  },
  {
   "cell_type": "markdown",
   "metadata": {},
   "source": [
    "#### Compute $\\bar\\alpha$, single iteration"
   ]
  },
  {
   "cell_type": "code",
   "execution_count": 1,
   "metadata": {},
   "outputs": [],
   "source": [
    "# Set state variables\n",
    "C = 7000\n",
    "R = 3000\n",
    "\n",
    "Q1 = 300\n",
    "S = 1000\n",
    "S1 = 500\n",
    "S0 = 200\n",
    "\n",
    "q1 = 10\n",
    "s1 = 13\n",
    "\n",
    "delta_s = 5"
   ]
  },
  {
   "cell_type": "code",
   "execution_count": 2,
   "metadata": {},
   "outputs": [
    {
     "name": "stdout",
     "output_type": "stream",
     "text": [
      "delta_q =  0.7490648364513186\n"
     ]
    }
   ],
   "source": [
    "# Calculate delta q\n",
    "import math\n",
    "\n",
    "delta_q = Q1*(math.sqrt(1+(delta_s/S))-1)\n",
    "print(\"delta_q = \", delta_q)"
   ]
  },
  {
   "cell_type": "code",
   "execution_count": 3,
   "metadata": {},
   "outputs": [
    {
     "name": "stdout",
     "output_type": "stream",
     "text": [
      "B1 =  48.82525756790532\n"
     ]
    }
   ],
   "source": [
    "# Calculate B1 \n",
    "\n",
    "attest_prop_after = (q1+delta_q)/(Q1+delta_q)\n",
    "supply_prop_after = (S1+delta_s)/S\n",
    "attest_supply_before = (q1/Q1)*(S1/S)\n",
    "\n",
    "B1 = (C+R)*((attest_prop_after * supply_prop_after) - attest_supply_before) + (C)*(delta_s/S)\n",
    "\n",
    "print(\"B1 = \", B1)"
   ]
  },
  {
   "cell_type": "code",
   "execution_count": 4,
   "metadata": {},
   "outputs": [
    {
     "name": "stdout",
     "output_type": "stream",
     "text": [
      "alpha_bar =  0.30721804138233705\n"
     ]
    }
   ],
   "source": [
    "# Compute alpha_bar\n",
    "\n",
    "alpha_bar = (delta_s/S)*(R/B1)\n",
    "print(\"alpha_bar = \", alpha_bar)"
   ]
  },
  {
   "cell_type": "code",
   "execution_count": 10,
   "metadata": {},
   "outputs": [
    {
     "name": "stdout",
     "output_type": "stream",
     "text": [
      "new_alpha =  0.49924801363659776\n"
     ]
    }
   ],
   "source": [
    "# Compute alpha_t+1\n",
    "\n",
    "E = 0.45\n",
    "alpha = 0.5\n",
    "\n",
    "D = delta_s/(S0+S1+delta_s)\n",
    "    \n",
    "T1 = E*alpha\n",
    "    \n",
    "T2 = (1-E)*(1-D)*alpha\n",
    "    \n",
    "T3 = (1-E)*(D)*alpha_bar\n",
    "    \n",
    "new_alpha = T1+T2+T3\n",
    "\n",
    "print(\"new_alpha = \", new_alpha)"
   ]
  },
  {
   "cell_type": "markdown",
   "metadata": {},
   "source": [
    "#### Compute $\\bar\\alpha$, multiple iterations & updates"
   ]
  },
  {
   "cell_type": "code",
   "execution_count": 25,
   "metadata": {},
   "outputs": [],
   "source": [
    "# Set state variables\n",
    "C = 7000\n",
    "R = 3000\n",
    "\n",
    "Q1 = [300]\n",
    "S = [1000]\n",
    "S1 = [500]\n",
    "S0 = [200]\n",
    "\n",
    "q1 = [10]\n",
    "s1 = [13]\n",
    "\n",
    "s = [50]\n",
    "\n",
    "alpha = [0.5]\n",
    "\n",
    "delta_s = [5, 6, 5, 1, 3, 2]"
   ]
  },
  {
   "cell_type": "code",
   "execution_count": 26,
   "metadata": {},
   "outputs": [
    {
     "name": "stdout",
     "output_type": "stream",
     "text": [
      "0\n",
      "delta_q =  0.7490648364513186\n",
      "1\n"
     ]
    },
    {
     "ename": "IndexError",
     "evalue": "list index out of range",
     "output_type": "error",
     "traceback": [
      "\u001b[0;31m---------------------------------------------------------------------------\u001b[0m",
      "\u001b[0;31mIndexError\u001b[0m                                Traceback (most recent call last)",
      "\u001b[0;32m<ipython-input-26-82f8f89b2910>\u001b[0m in \u001b[0;36m<module>\u001b[0;34m\u001b[0m\n\u001b[1;32m      5\u001b[0m     \u001b[0mprint\u001b[0m\u001b[0;34m(\u001b[0m\u001b[0mi\u001b[0m\u001b[0;34m)\u001b[0m\u001b[0;34m\u001b[0m\u001b[0;34m\u001b[0m\u001b[0m\n\u001b[1;32m      6\u001b[0m     \u001b[0;31m# Calculate delta q\u001b[0m\u001b[0;34m\u001b[0m\u001b[0;34m\u001b[0m\u001b[0;34m\u001b[0m\u001b[0m\n\u001b[0;32m----> 7\u001b[0;31m     \u001b[0mA\u001b[0m \u001b[0;34m=\u001b[0m \u001b[0mmath\u001b[0m\u001b[0;34m.\u001b[0m\u001b[0msqrt\u001b[0m\u001b[0;34m(\u001b[0m\u001b[0;36m1\u001b[0m\u001b[0;34m+\u001b[0m\u001b[0;34m(\u001b[0m\u001b[0mdelta_s\u001b[0m\u001b[0;34m[\u001b[0m\u001b[0mi\u001b[0m\u001b[0;34m]\u001b[0m\u001b[0;34m/\u001b[0m\u001b[0mS\u001b[0m\u001b[0;34m[\u001b[0m\u001b[0mi\u001b[0m\u001b[0;34m]\u001b[0m\u001b[0;34m)\u001b[0m\u001b[0;34m)\u001b[0m\u001b[0;34m\u001b[0m\u001b[0;34m\u001b[0m\u001b[0m\n\u001b[0m\u001b[1;32m      8\u001b[0m     \u001b[0mdelta_q\u001b[0m \u001b[0;34m=\u001b[0m \u001b[0mQ1\u001b[0m\u001b[0;34m[\u001b[0m\u001b[0mi\u001b[0m\u001b[0;34m]\u001b[0m\u001b[0;34m*\u001b[0m\u001b[0;34m(\u001b[0m\u001b[0mA\u001b[0m\u001b[0;34m-\u001b[0m\u001b[0;36m1\u001b[0m\u001b[0;34m)\u001b[0m\u001b[0;34m\u001b[0m\u001b[0;34m\u001b[0m\u001b[0m\n\u001b[1;32m      9\u001b[0m     \u001b[0mprint\u001b[0m\u001b[0;34m(\u001b[0m\u001b[0;34m\"delta_q = \"\u001b[0m\u001b[0;34m,\u001b[0m \u001b[0mdelta_q\u001b[0m\u001b[0;34m)\u001b[0m\u001b[0;34m\u001b[0m\u001b[0;34m\u001b[0m\u001b[0m\n",
      "\u001b[0;31mIndexError\u001b[0m: list index out of range"
     ]
    }
   ],
   "source": [
    "import math\n",
    "\n",
    "for i in range(len(delta_s)): \n",
    "    \n",
    "    print(i)\n",
    "    # Calculate delta q\n",
    "    A = math.sqrt(1+(delta_s[i]/S[i]))\n",
    "    delta_q = Q1[i]*(A-1)\n",
    "    print(\"delta_q = \", delta_q)"
   ]
  },
  {
   "cell_type": "code",
   "execution_count": 30,
   "metadata": {},
   "outputs": [
    {
     "name": "stdout",
     "output_type": "stream",
     "text": [
      "-------------------- 0 ---------------------\n",
      "delta_q =  0.7490648364513186\n",
      "B1 =  48.82525756790532\n",
      "alpha_bar =  0.30721804138233705\n",
      "new_alpha =  0.49924801363659776\n",
      "-------------------- 1 ---------------------\n",
      "delta_q =  0.9054181994856562\n",
      "B1 =  59.23012810069612\n",
      "alpha_bar =  0.3054265260164771\n",
      "new_alpha =  0.4983484202341415\n",
      "-------------------- 2 ---------------------\n",
      "delta_q =  0.7615626435088391\n",
      "B1 =  49.973664537975864\n",
      "alpha_bar =  0.30349655818280225\n",
      "new_alpha =  0.49760003668576\n",
      "-------------------- 3 ---------------------\n",
      "delta_q =  0.15362766836940397\n",
      "B1 =  10.08924783928661\n",
      "alpha_bar =  0.30218114733322393\n",
      "new_alpha =  0.4974501337720308\n",
      "-------------------- 4 ---------------------\n",
      "delta_q =  0.46135173938293506\n",
      "B1 =  30.350134160776534\n",
      "alpha_bar =  0.3016673973560601\n",
      "new_alpha =  0.49700146500107756\n",
      "-------------------- 5 ---------------------\n",
      "delta_q =  0.3090577295748399\n",
      "B1 =  20.356871673421104\n",
      "alpha_bar =  0.3007558861603277\n",
      "new_alpha =  0.4967024758920405\n"
     ]
    }
   ],
   "source": [
    "import math\n",
    "\n",
    "for i in range(len(delta_s)): \n",
    "    \n",
    "    print(\"--------------------\", i, \"---------------------\")\n",
    "    \n",
    "    # Calculate delta q\n",
    "    A = math.sqrt(1+(delta_s[i]/S[i]))\n",
    "    delta_q = Q1[i]*(A-1)\n",
    "    print(\"delta_q = \", delta_q)\n",
    "    \n",
    "    # Calculate B1 \n",
    "    attest_prop_after = (q1[i]+delta_q)/(Q1[i]+delta_q)\n",
    "    supply_prop_after = (S1[i]+delta_s[i])/S[i]\n",
    "    attest_supply_before = (q1[i]/Q1[i])*(S1[i]/S[i])\n",
    "\n",
    "    B1 = (C+R)*((attest_prop_after * supply_prop_after) - attest_supply_before) + (C)*(delta_s[i]/S[i])\n",
    "\n",
    "    print(\"B1 = \", B1)\n",
    "    \n",
    "    # Compute alpha_bar\n",
    "\n",
    "    alpha_bar = (delta_s[i]/S[i])*(R/B1)\n",
    "    print(\"alpha_bar = \", alpha_bar)\n",
    "    \n",
    "    # Compute alpha_t+1\n",
    "\n",
    "    E = 0.45\n",
    "\n",
    "    D = delta_s[i]/(S0[i]+S1[i]+delta_s[i])\n",
    "    \n",
    "    T1 = E*alpha[i]\n",
    "    T2 = (1-E)*(1-D)*alpha[i]  \n",
    "    T3 = (1-E)*(D)*alpha_bar\n",
    "    \n",
    "    new_alpha = T1+T2+T3\n",
    "\n",
    "    print(\"new_alpha = \", new_alpha)\n",
    "    \n",
    "    # Update state variables\n",
    "    Q1.append(Q1[i]+delta_q)\n",
    "    S.append(S[i]-delta_s[i])\n",
    "    S1.append(S1[i]+delta_s[i])\n",
    "    S0.append(S0[i])\n",
    "    q1.append(q1[i]+delta_q)\n",
    "    s1.append(s1[i]+delta_s[i])\n",
    "    s.append(s[i]-delta_s[i])\n",
    "    alpha.append(new_alpha)"
   ]
  },
  {
   "cell_type": "markdown",
   "metadata": {},
   "source": [
    "### Component Tests - June 22"
   ]
  },
  {
   "cell_type": "code",
   "execution_count": 9,
   "metadata": {},
   "outputs": [],
   "source": [
    "# Set state variables\n",
    "C = 7000\n",
    "R = 3000\n",
    "\n",
    "Q1 = [300]\n",
    "S = [1000]\n",
    "S1 = [500]\n",
    "S0 = [200]\n",
    "\n",
    "q1 = [10]\n",
    "s1 = [13]\n",
    "\n",
    "s = [300]\n",
    "\n",
    "alpha = [0.9]\n",
    "\n",
    "delta_s = [1, 3, 2, 5, 6, 7, 9, 10, 11, 13, 8, 3, 1, 5, 4, 60, 3, 2, 1, 6, 7, 4, 2, 7, 4, 5, 6, 8, 3, 4, 5, 2]"
   ]
  },
  {
   "cell_type": "code",
   "execution_count": 10,
   "metadata": {
    "scrolled": true
   },
   "outputs": [
    {
     "name": "stdout",
     "output_type": "stream",
     "text": [
      "-------------------- 0 ---------------------\n",
      "B1 part 1 =  2.7530187204477876\n",
      "B1 part 2 =  7.0\n",
      "delta s =  1  | B1 =  4.246981279552212\n",
      "alpha_bar =  0.7063840884922172\n",
      "new_alpha =  0.8998480902263493\n",
      "-------------------- 1 ---------------------\n",
      "B1 part 1 =  8.318040972518752\n",
      "B1 part 2 =  21.02102102102102\n",
      "delta s =  3  | B1 =  12.702980048502269\n",
      "alpha_bar =  0.7092043736675164\n",
      "new_alpha =  0.8994012690156645\n",
      "-------------------- 2 ---------------------\n",
      "B1 part 1 =  5.621562726741552\n",
      "B1 part 2 =  14.056224899598392\n",
      "delta s =  2  | B1 =  8.43466217285684\n",
      "alpha_bar =  0.7142071919522763\n",
      "new_alpha =  0.8991127230032427\n",
      "-------------------- 3 ---------------------\n",
      "B1 part 1 =  14.236901826351588\n",
      "B1 part 2 =  35.2112676056338\n",
      "delta s =  5  | B1 =  20.974365779282213\n",
      "alpha_bar =  0.719475545451929\n",
      "new_alpha =  0.8984179237933045\n",
      "-------------------- 4 ---------------------\n",
      "B1 part 1 =  17.519654490941104\n",
      "B1 part 2 =  42.46713852376138\n",
      "delta s =  6  | B1 =  24.947484032820274\n",
      "alpha_bar =  0.7295405901663445\n",
      "new_alpha =  0.8976406640987872\n",
      "-------------------- 5 ---------------------\n",
      "B1 part 1 =  21.053367381023527\n",
      "B1 part 2 =  49.84740590030519\n",
      "delta s =  7  | B1 =  28.794038519281663\n",
      "alpha_bar =  0.7419304500467345\n",
      "new_alpha =  0.8968126470765491\n",
      "-------------------- 6 ---------------------\n",
      "B1 part 1 =  28.026772613255307\n",
      "B1 part 2 =  64.54918032786885\n",
      "delta s =  9  | B1 =  36.52240771461355\n",
      "alpha_bar =  0.7574510049390983\n",
      "new_alpha =  0.8958715282108187\n",
      "-------------------- 7 ---------------------\n",
      "B1 part 1 =  32.49046583323135\n",
      "B1 part 2 =  72.38883143743537\n",
      "delta s =  10  | B1 =  39.898365604204024\n",
      "alpha_bar =  0.777570319784956\n",
      "new_alpha =  0.8949958126706543\n",
      "-------------------- 8 ---------------------\n",
      "B1 part 1 =  37.427183686079104\n",
      "B1 part 2 =  80.45977011494253\n",
      "delta s =  11  | B1 =  43.032586428863425\n",
      "alpha_bar =  0.8013173616160076\n",
      "new_alpha =  0.8942441487066216\n",
      "-------------------- 9 ---------------------\n",
      "B1 part 1 =  46.52219392436201\n",
      "B1 part 2 =  96.19450317124735\n",
      "delta s =  13  | B1 =  49.67230924688534\n",
      "alpha_bar =  0.8299637417683645\n",
      "new_alpha =  0.8936449245741465\n",
      "-------------------- 10 ---------------------\n",
      "B1 part 1 =  30.178439303004332\n",
      "B1 part 2 =  60.02143622722401\n",
      "delta s =  8  | B1 =  29.842996924219676\n",
      "alpha_bar =  0.8619601018667764\n",
      "new_alpha =  0.893465036548453\n",
      "-------------------- 11 ---------------------\n",
      "B1 part 1 =  11.670111972465202\n",
      "B1 part 2 =  22.7027027027027\n",
      "delta s =  3  | B1 =  11.0325907302375\n",
      "alpha_bar =  0.8819079731710736\n",
      "new_alpha =  0.8934405260669971\n",
      "-------------------- 12 ---------------------\n",
      "B1 part 1 =  3.9346892507979154\n",
      "B1 part 2 =  7.592190889370933\n",
      "delta s =  1  | B1 =  3.6575016385730175\n",
      "alpha_bar =  0.8896225940486965\n",
      "new_alpha =  0.8934378304795645\n",
      "-------------------- 13 ---------------------\n",
      "B1 part 1 =  19.815598576643847\n",
      "B1 part 2 =  38.00217155266015\n",
      "delta s =  5  | B1 =  18.186572976016304\n",
      "alpha_bar =  0.8955312786316705\n",
      "new_alpha =  0.8934451735693838\n",
      "-------------------- 14 ---------------------\n",
      "B1 part 1 =  16.181770091707044\n",
      "B1 part 2 =  30.567685589519648\n",
      "delta s =  4  | B1 =  14.385915497812604\n",
      "alpha_bar =  0.9106432387438008\n",
      "new_alpha =  0.8934931884721551\n",
      "-------------------- 15 ---------------------\n",
      "B1 part 1 =  256.071710587971\n",
      "B1 part 2 =  460.52631578947364\n",
      "delta s =  60  | B1 =  204.45460520150266\n",
      "alpha_bar =  0.9653410391911338\n",
      "new_alpha =  0.8962891543609832\n",
      "-------------------- 16 ---------------------\n",
      "B1 part 1 =  15.714918996324045\n",
      "B1 part 2 =  24.647887323943664\n",
      "delta s =  3  | B1 =  8.93296832761962\n",
      "alpha_bar =  1.1825162582329427\n",
      "new_alpha =  0.8968441187809466\n",
      "-------------------- 17 ---------------------\n",
      "B1 part 1 =  10.596608135518688\n",
      "B1 part 2 =  16.489988221436985\n",
      "delta s =  2  | B1 =  5.893380085918297\n",
      "alpha_bar =  1.1991654544857153\n",
      "new_alpha =  0.8972339821681392\n",
      "-------------------- 18 ---------------------\n",
      "B1 part 1 =  5.337775592510336\n",
      "B1 part 2 =  8.264462809917354\n",
      "delta s =  1  | B1 =  2.926687217407019\n",
      "alpha_bar =  1.2102122193842706\n",
      "new_alpha =  0.8974355489485478\n",
      "-------------------- 19 ---------------------\n",
      "B1 part 1 =  32.23165308993803\n",
      "B1 part 2 =  49.645390070921984\n",
      "delta s =  6  | B1 =  17.413736980983956\n",
      "alpha_bar =  1.2218282478893066\n",
      "new_alpha =  0.8986803116305299\n",
      "-------------------- 20 ---------------------\n",
      "B1 part 1 =  38.517485843733986\n",
      "B1 part 2 =  58.333333333333336\n",
      "delta s =  7  | B1 =  19.81584748959935\n",
      "alpha_bar =  1.2616164922101682\n",
      "new_alpha =  0.9002919659502895\n",
      "-------------------- 21 ---------------------\n",
      "B1 part 1 =  22.588893923215362\n",
      "B1 part 2 =  33.613445378151255\n",
      "delta s =  4  | B1 =  11.024551454935892\n",
      "alpha_bar =  1.3066982692046167\n",
      "new_alpha =  0.9013184801490949\n",
      "-------------------- 22 ---------------------\n",
      "B1 part 1 =  11.46171825593109\n",
      "B1 part 2 =  16.887816646562122\n",
      "delta s =  2  | B1 =  5.426098390631031\n",
      "alpha_bar =  1.333856333708644\n",
      "new_alpha =  0.9018634877538091\n",
      "-------------------- 23 ---------------------\n",
      "B1 part 1 =  40.516839087006986\n",
      "B1 part 2 =  59.250302297460706\n",
      "delta s =  7  | B1 =  18.73346321045372\n",
      "alpha_bar =  1.3554881130970935\n",
      "new_alpha =  0.903848095489686\n",
      "-------------------- 24 ---------------------\n",
      "B1 part 1 =  23.757652384503587\n",
      "B1 part 2 =  34.146341463414636\n",
      "delta s =  4  | B1 =  10.38868907891105\n",
      "alpha_bar =  1.4086615000511091\n",
      "new_alpha =  0.9051044184422146\n",
      "-------------------- 25 ---------------------\n",
      "B1 part 1 =  30.17104797791714\n",
      "B1 part 2 =  42.8921568627451\n",
      "delta s =  5  | B1 =  12.721108884827956\n",
      "alpha_bar =  1.4450275606948457\n",
      "new_alpha =  0.9067745968912525\n",
      "-------------------- 26 ---------------------\n",
      "B1 part 1 =  36.92203822683315\n",
      "B1 part 2 =  51.78791615289766\n",
      "delta s =  6  | B1 =  14.865877926064506\n",
      "alpha_bar =  1.4930044036935275\n",
      "new_alpha =  0.9089361146146576\n",
      "-------------------- 27 ---------------------\n",
      "B1 part 1 =  50.41018381221743\n",
      "B1 part 2 =  69.56521739130434\n",
      "delta s =  8  | B1 =  19.15503357908691\n",
      "alpha_bar =  1.5564402157364665\n",
      "new_alpha =  0.9120911733576653\n",
      "-------------------- 28 ---------------------\n",
      "B1 part 1 =  19.453667243911344\n",
      "B1 part 2 =  26.348808030112924\n",
      "delta s =  3  | B1 =  6.89514078620158\n",
      "alpha_bar =  1.637725268963013\n",
      "new_alpha =  0.9134126924059534\n",
      "-------------------- 29 ---------------------\n",
      "B1 part 1 =  26.24537695106094\n",
      "B1 part 2 =  35.26448362720403\n",
      "delta s =  4  | B1 =  9.019106676143089\n",
      "alpha_bar =  1.675703666519623\n",
      "new_alpha =  0.9152555936620524\n",
      "-------------------- 30 ---------------------\n",
      "B1 part 1 =  33.32014248568688\n",
      "B1 part 2 =  44.30379746835443\n",
      "delta s =  5  | B1 =  10.983654982667552\n",
      "alpha_bar =  1.728690659176234\n",
      "new_alpha =  0.917700343858953\n",
      "-------------------- 31 ---------------------\n",
      "B1 part 1 =  13.569601574531799\n",
      "B1 part 2 =  17.8343949044586\n",
      "delta s =  2  | B1 =  4.2647933299268\n",
      "alpha_bar =  1.7921881579293355\n",
      "new_alpha =  0.9187493477798662\n",
      "alpha :  [0.9, 0.8998480902263493, 0.8994012690156645, 0.8991127230032427, 0.8984179237933045, 0.8976406640987872, 0.8968126470765491, 0.8958715282108187, 0.8949958126706543, 0.8942441487066216, 0.8936449245741465, 0.893465036548453, 0.8934405260669971, 0.8934378304795645, 0.8934451735693838, 0.8934931884721551, 0.8962891543609832, 0.8968441187809466, 0.8972339821681392, 0.8974355489485478, 0.8986803116305299, 0.9002919659502895, 0.9013184801490949, 0.9018634877538091, 0.903848095489686, 0.9051044184422146, 0.9067745968912525, 0.9089361146146576, 0.9120911733576653, 0.9134126924059534, 0.9152555936620524, 0.917700343858953, 0.9187493477798662]\n"
     ]
    }
   ],
   "source": [
    "import math\n",
    "\n",
    "for i in range(len(delta_s)): \n",
    "    \n",
    "    print(\"--------------------\", i, \"---------------------\")\n",
    "    \n",
    "    # Calculate delta q\n",
    "    A = math.sqrt(1+(delta_s[i]/S[i]))\n",
    "    delta_q = Q1[i]*(A-1)\n",
    "    #print(\"delta_q = \", delta_q)\n",
    "    \n",
    "    # Calculate B1 \n",
    "    attest_prop_after = (q1[i]+delta_q)/(Q1[i]+delta_q)\n",
    "    supply_prop_after = (S1[i]+delta_s[i])/S[i]\n",
    "    attest_supply_before = (q1[i]/Q1[i])*(S1[i]/S[i])\n",
    "\n",
    "    B1 = -(C+R)*((attest_prop_after * supply_prop_after) - attest_supply_before) + (C)*(delta_s[i]/S[i])\n",
    "    \n",
    "    print(\"B1 part 1 = \", (C+R)*((attest_prop_after * supply_prop_after) - attest_supply_before))\n",
    "    print(\"B1 part 2 = \", (C)*(delta_s[i]/S[i]))\n",
    "\n",
    "    print(\"delta s = \", delta_s[i], \" | B1 = \", B1)\n",
    "    \n",
    "    # Compute alpha_bar\n",
    "\n",
    "    alpha_bar = (delta_s[i]/S[i])*(R/B1)\n",
    "    print(\"alpha_bar = \", alpha_bar)\n",
    "    \n",
    "    # Compute alpha_t+1\n",
    "\n",
    "    E = 0.45\n",
    "\n",
    "    D = delta_s[i]/(S0[i]+S1[i]+delta_s[i])\n",
    "    \n",
    "    T1 = E*alpha[i]\n",
    "    T2 = (1-E)*(1-D)*alpha[i]  \n",
    "    T3 = (1-E)*(D)*alpha_bar\n",
    "    \n",
    "    new_alpha = T1+T2+T3\n",
    "\n",
    "    print(\"new_alpha = \", new_alpha)\n",
    "    \n",
    "    # Update state variables\n",
    "    Q1.append(Q1[i]+delta_q)\n",
    "    S.append(S[i]-delta_s[i])\n",
    "    S1.append(S1[i]+delta_s[i])\n",
    "    S0.append(S0[i])\n",
    "    q1.append(q1[i]+delta_q)\n",
    "    s1.append(s1[i]+delta_s[i])\n",
    "    s.append(s[i]-delta_s[i])\n",
    "    alpha.append(new_alpha)\n",
    "    \n",
    "print(\"alpha : \", alpha)"
   ]
  },
  {
   "cell_type": "code",
   "execution_count": 11,
   "metadata": {
    "scrolled": false
   },
   "outputs": [
    {
     "data": {
      "text/plain": [
       "[<matplotlib.lines.Line2D at 0x117496c90>]"
      ]
     },
     "execution_count": 11,
     "metadata": {},
     "output_type": "execute_result"
    },
    {
     "data": {
      "image/png": "[encoded data removed]",
      "text/plain": [
       "<Figure size 432x288 with 1 Axes>"
      ]
     },
     "metadata": {
      "needs_background": "light"
     },
     "output_type": "display_data"
    }
   ],
   "source": [
    "import matplotlib.pyplot as plt\n",
    "\n",
    "plt.plot(delta_s)"
   ]
  },
  {
   "cell_type": "code",
   "execution_count": 12,
   "metadata": {
    "scrolled": true
   },
   "outputs": [
    {
     "data": {
      "text/plain": [
       "[<matplotlib.lines.Line2D at 0x117561c10>]"
      ]
     },
     "execution_count": 12,
     "metadata": {},
     "output_type": "execute_result"
    },
    {
     "data": {
      "image/png": "[encoded data removed]",
      "text/plain": [
       "<Figure size 432x288 with 1 Axes>"
      ]
     },
     "metadata": {
      "needs_background": "light"
     },
     "output_type": "display_data"
    }
   ],
   "source": [
    "plt.plot(alpha)"
   ]
  },
  {
   "cell_type": "markdown",
   "metadata": {},
   "source": [
    "### Component Tests - June 23"
   ]
  },
  {
   "cell_type": "code",
   "execution_count": 13,
   "metadata": {},
   "outputs": [],
   "source": [
    "# Set state variables\n",
    "C = 7000\n",
    "R = 3000\n",
    "\n",
    "Q1 = [300]\n",
    "S = [1000]\n",
    "S1 = [500]\n",
    "S0 = [200]\n",
    "\n",
    "q1 = [10]\n",
    "s1 = [13]\n",
    "\n",
    "s = [50]\n",
    "\n",
    "alpha = [0.5]\n",
    "\n",
    "delta_s = [5, 6, 5, 1, 3, 2]"
   ]
  },
  {
   "cell_type": "code",
   "execution_count": 14,
   "metadata": {},
   "outputs": [
    {
     "name": "stdout",
     "output_type": "stream",
     "text": [
      "-------------------- 0 ---------------------\n",
      "delta_q =  0.7490648364513186\n",
      "B1 =  48.82525756790532\n",
      "alpha_bar =  0.30721804138233705\n",
      "new_alpha =  0.49924801363659776\n",
      "-------------------- 1 ---------------------\n",
      "delta_q =  0.9054181994856562\n",
      "B1 =  59.23012810069612\n",
      "alpha_bar =  0.3054265260164771\n",
      "new_alpha =  0.4983484202341415\n",
      "-------------------- 2 ---------------------\n",
      "delta_q =  0.7615626435088391\n",
      "B1 =  49.973664537975864\n",
      "alpha_bar =  0.30349655818280225\n",
      "new_alpha =  0.49760003668576\n",
      "-------------------- 3 ---------------------\n",
      "delta_q =  0.15362766836940397\n",
      "B1 =  10.08924783928661\n",
      "alpha_bar =  0.30218114733322393\n",
      "new_alpha =  0.4974501337720308\n",
      "-------------------- 4 ---------------------\n",
      "delta_q =  0.46135173938293506\n",
      "B1 =  30.350134160776534\n",
      "alpha_bar =  0.3016673973560601\n",
      "new_alpha =  0.49700146500107756\n",
      "-------------------- 5 ---------------------\n",
      "delta_q =  0.3090577295748399\n",
      "B1 =  20.356871673421104\n",
      "alpha_bar =  0.3007558861603277\n",
      "new_alpha =  0.4967024758920405\n"
     ]
    }
   ],
   "source": [
    "import math\n",
    "\n",
    "for i in range(len(delta_s)): \n",
    "    \n",
    "    print(\"--------------------\", i, \"---------------------\")\n",
    "    \n",
    "    # Calculate delta q\n",
    "    A = math.sqrt(1+(delta_s[i]/S[i]))\n",
    "    delta_q = Q1[i]*(A-1)\n",
    "    print(\"delta_q = \", delta_q)\n",
    "    \n",
    "    # Calculate B1 \n",
    "    attest_prop_after = (q1[i]+delta_q)/(Q1[i]+delta_q)\n",
    "    supply_prop_after = (S1[i]+delta_s[i])/S[i]\n",
    "    attest_supply_before = (q1[i]/Q1[i])*(S1[i]/S[i])\n",
    "\n",
    "    B1 = (C+R)*((attest_prop_after * supply_prop_after) - attest_supply_before) + (C)*(delta_s[i]/S[i])\n",
    "\n",
    "    print(\"B1 = \", B1)\n",
    "    \n",
    "    # Compute alpha_bar\n",
    "\n",
    "    alpha_bar = (delta_s[i]/S[i])*(R/B1)\n",
    "    print(\"alpha_bar = \", alpha_bar)\n",
    "    \n",
    "    # Compute alpha_t+1\n",
    "\n",
    "    E = 0.45\n",
    "\n",
    "    D = delta_s[i]/(S0[i]+S1[i]+delta_s[i])\n",
    "    \n",
    "    T1 = E*alpha[i]\n",
    "    T2 = (1-E)*(1-D)*alpha[i]  \n",
    "    T3 = (1-E)*(D)*alpha_bar\n",
    "    \n",
    "    new_alpha = T1+T2+T3\n",
    "\n",
    "    print(\"new_alpha = \", new_alpha)\n",
    "    \n",
    "    # Update state variables\n",
    "    Q1.append(Q1[i]+delta_q)\n",
    "    S.append(S[i]-delta_s[i])\n",
    "    S1.append(S1[i]+delta_s[i])\n",
    "    S0.append(S0[i])\n",
    "    q1.append(q1[i]+delta_q)\n",
    "    s1.append(s1[i]+delta_s[i])\n",
    "    s.append(s[i]-delta_s[i])\n",
    "    alpha.append(new_alpha)"
   ]
  },
  {
   "cell_type": "markdown",
   "metadata": {},
   "source": [
    "#### With alternate alpha derivation"
   ]
  },
  {
   "cell_type": "code",
   "execution_count": 1,
   "metadata": {},
   "outputs": [],
   "source": [
    "# Set state variables\n",
    "C = 7000\n",
    "R = 3000\n",
    "\n",
    "Q = [400]\n",
    "Q1 = [300]\n",
    "S = [1000]\n",
    "S1 = [500]\n",
    "S0 = [200]\n",
    "\n",
    "q0 = [5]\n",
    "s0 = [7]\n",
    "q1 = [10]\n",
    "s1 = [13]\n",
    "\n",
    "s = [50]\n",
    "\n",
    "alpha = [0.5]\n",
    "\n",
    "delta_s = [5, 6, 5, 1, 3, 2]"
   ]
  },
  {
   "cell_type": "code",
   "execution_count": 2,
   "metadata": {},
   "outputs": [
    {
     "name": "stdout",
     "output_type": "stream",
     "text": [
      "-------------------- 0 ---------------------\n",
      "delta_q =  0.7490648364513186\n",
      "alpha_bar =  -0.08796769708493554\n",
      "new_alpha =  0.497706508983002\n",
      "-------------------- 1 ---------------------\n",
      "delta_q =  0.9054181994856562\n",
      "alpha_bar =  -0.05744779861104991\n",
      "new_alpha =  0.49512984342032923\n",
      "-------------------- 2 ---------------------\n",
      "delta_q =  0.7615626435088391\n",
      "alpha_bar =  -0.03904673641684181\n",
      "new_alpha =  0.49307818756201616\n",
      "-------------------- 3 ---------------------\n",
      "delta_q =  0.15362766836940397\n",
      "alpha_bar =  -0.0300691016911705\n",
      "new_alpha =  0.4926768890835096\n",
      "-------------------- 4 ---------------------\n",
      "delta_q =  0.46135173938293506\n",
      "alpha_bar =  -0.028673311778484086\n",
      "new_alpha =  0.49148212820653425\n",
      "-------------------- 5 ---------------------\n",
      "delta_q =  0.3090577295748399\n",
      "alpha_bar =  -0.025055123146715545\n",
      "new_alpha =  0.4906951600950543\n"
     ]
    }
   ],
   "source": [
    "import math\n",
    "\n",
    "for i in range(len(delta_s)): \n",
    "    \n",
    "    print(\"--------------------\", i, \"---------------------\")\n",
    "    \n",
    "    # Calculate delta q\n",
    "    A = math.sqrt(1+(delta_s[i]/S[i]))\n",
    "    delta_q = Q1[i]*(A-1)\n",
    "    print(\"delta_q = \", delta_q)\n",
    "    \n",
    "    # Calculate mu_1\n",
    "    mu_1 = (((q1[i]+delta_q)/(Q[i]+delta_q))*(s1[i]+delta_s[i]/S[i]))-((q1[i]*s1[i])/Q[i]*S[i])\n",
    "    \n",
    "    # Calculate mu_0\n",
    "    mu_0 = ((q0[i])/(Q[i]+delta_q))*(s0[i]/S[i]) - ((q0[i]*s0[i])/Q[i]*S[i])\n",
    "\n",
    "    # Compute alpha_bar\n",
    "\n",
    "    alpha_bar = ((delta_s[i]/S[i]) - (R*mu_0))/(-C*(delta_s[i]/S[i]) + ((C+R)*mu_1) - ((R)*mu_0))\n",
    "    print(\"alpha_bar = \", alpha_bar)\n",
    "    \n",
    "    # Compute alpha_t+1\n",
    "\n",
    "    E = 0.45\n",
    "\n",
    "    D = delta_s[i]/(S0[i]+S1[i]+delta_s[i])\n",
    "    \n",
    "    T1 = E*alpha[i]\n",
    "    T2 = (1-E)*(1-D)*alpha[i]  \n",
    "    T3 = (1-E)*(D)*alpha_bar\n",
    "    \n",
    "    new_alpha = T1+T2+T3\n",
    "\n",
    "    print(\"new_alpha = \", new_alpha)\n",
    "    \n",
    "    # Update state variables\n",
    "    Q.append(Q[i]+delta_q)\n",
    "    Q1.append(Q1[i]+delta_q)\n",
    "    S.append(S[i]-delta_s[i])\n",
    "    S1.append(S1[i]+delta_s[i])\n",
    "    S0.append(S0[i])\n",
    "    q0.append(q0[i])\n",
    "    s0.append(s0[i])\n",
    "    q1.append(q1[i]+delta_q)\n",
    "    s1.append(s1[i]+delta_s[i])\n",
    "    s.append(s[i]-delta_s[i])\n",
    "    alpha.append(new_alpha)"
   ]
  },
  {
   "cell_type": "code",
   "execution_count": 3,
   "metadata": {},
   "outputs": [
    {
     "data": {
      "text/plain": [
       "[<matplotlib.lines.Line2D at 0x11871e0d0>]"
      ]
     },
     "execution_count": 3,
     "metadata": {},
     "output_type": "execute_result"
    },
    {
     "data": {
      "image/png": "[encoded data removed]",
      "text/plain": [
       "<Figure size 432x288 with 1 Axes>"
      ]
     },
     "metadata": {
      "needs_background": "light"
     },
     "output_type": "display_data"
    }
   ],
   "source": [
    "import matplotlib.pyplot as plt\n",
    "\n",
    "plt.plot(alpha)"
   ]
  },
  {
   "cell_type": "markdown",
   "metadata": {},
   "source": [
    "#### With original alpha derivation"
   ]
  },
  {
   "cell_type": "code",
   "execution_count": 1,
   "metadata": {},
   "outputs": [],
   "source": [
    "# Set state variables\n",
    "C = 7000\n",
    "R = 3000\n",
    "\n",
    "Q = [40]\n",
    "Q1 = [30]\n",
    "Q0 = [10]\n",
    "\n",
    "S = [1000]\n",
    "S1 = [900]\n",
    "S0 = [100]\n",
    "\n",
    "q0 = [5]\n",
    "s0 = [7]\n",
    "q1 = [10]\n",
    "s1 = [13]\n",
    "\n",
    "s = [50]\n",
    "\n",
    "alpha = [0.9]\n",
    "\n",
    "delta_s = [5, 6, 5, 1, 3, 2]"
   ]
  },
  {
   "cell_type": "code",
   "execution_count": 2,
   "metadata": {},
   "outputs": [
    {
     "name": "stdout",
     "output_type": "stream",
     "text": [
      "-------------------- 0 ---------------------\n",
      "delta_q =  0.07490648364513186\n",
      "pre_1 =  0.3349937759282447  | pre_2 =  0.905  | pre_3 =  0.3\n",
      "mu_1 =  0.003169367215061447\n",
      "pre_4 =  15.0  | pre_5 =  31.69367215061447  | pre_6 =  35.0\n",
      "alpha_bar =  4.536755180762762\n",
      "new_alpha =  0.914474647485623\n",
      "-------------------- 1 ---------------------\n",
      "delta_q =  0.09054181994856561\n",
      "pre_1 =  0.3369897971111093  | pre_2 =  0.9155778894472362  | pre_3 =  0.30469283137192105\n",
      "mu_1 =  0.00384757583232076\n",
      "pre_4 =  18.09045226130653  | pre_5 =  38.4757583232076  | pre_6 =  42.211055276381906\n",
      "alpha_bar =  4.8431095273250016\n",
      "new_alpha =  0.9331269199121601\n",
      "-------------------- 2 ---------------------\n",
      "delta_q =  0.0761562643508839\n",
      "pre_1 =  0.33865943008858895  | pre_2 =  0.9261880687563195  | pre_3 =  0.31041223980608756\n",
      "mu_1 =  0.00325008371377844\n",
      "pre_4 =  15.166835187057634  | pre_5 =  32.5008371377844  | pre_6 =  35.38928210313448\n",
      "alpha_bar =  5.250865212596992\n",
      "new_alpha =  0.9501258895683997\n",
      "-------------------- 3 ---------------------\n",
      "delta_q =  0.015362766836940397\n",
      "pre_1 =  0.33899522120945513  | pre_2 =  0.931910569105691  | pre_3 =  0.3152561361393775\n",
      "mu_1 =  0.0006570933820354563\n",
      "pre_4 =  3.0487804878048785  | pre_5 =  6.570933820354563  | pre_6 =  7.1138211382113825\n",
      "alpha_bar =  5.615862422133355\n",
      "new_alpha =  0.9537960854642228\n",
      "-------------------- 4 ---------------------\n",
      "delta_q =  0.04613517393829351\n",
      "pre_1 =  0.34000157263617026  | pre_2 =  0.9359104781281791  | pre_3 =  0.316234606153683\n",
      "mu_1 =  0.001976428256567908\n",
      "pre_4 =  9.155645981688707  | pre_5 =  19.764282565679082  | pre_6 =  21.363173957273652\n",
      "alpha_bar =  5.726246341571584\n",
      "new_alpha =  0.9650253801844755\n",
      "-------------------- 5 ---------------------\n",
      "delta_q =  0.030905772957483986\n",
      "pre_1 =  0.34067401135112646  | pre_2 =  0.9408163265306122  | pre_3 =  0.3191851498217108\n",
      "mu_1 =  0.0013265220821040424\n",
      "pre_4 =  6.122448979591837  | pre_5 =  13.265220821040424  | pre_6 =  14.285714285714286\n",
      "alpha_bar =  5.999498469643312\n",
      "new_alpha =  0.9729071384458593\n"
     ]
    }
   ],
   "source": [
    "import math\n",
    "\n",
    "for i in range(len(delta_s)): \n",
    "    \n",
    "    print(\"--------------------\", i, \"---------------------\")\n",
    "    \n",
    "    # Calculate delta q\n",
    "    A = math.sqrt(1+(delta_s[i]/S[i]))\n",
    "    delta_q = Q1[i]*(A-1)\n",
    "    print(\"delta_q = \", delta_q)\n",
    "    \n",
    "    # Calculate mu_1\n",
    "    pre1 = (q1[i]+delta_q)/(Q1[i]+delta_q)\n",
    "    pre2 = (S1[i]+delta_s[i])/S[i]\n",
    "    pre3 = (q1[i]*S1[i])/(Q1[i]*S[i])\n",
    "    print(\"pre_1 = \", pre1, \" | pre_2 = \", pre2, \" | pre_3 = \", pre3)\n",
    "    \n",
    "    mu_1 = (pre1 * pre2) - pre3\n",
    "    print(\"mu_1 = \", mu_1)\n",
    "    \n",
    "    # Compute alpha_bar\n",
    "    pre4 = (R)*(delta_s[i]/S[i])\n",
    "    pre5 = (C+R)*mu_1\n",
    "    pre6 = (C)*(delta_s[i]/S[i])\n",
    "    print(\"pre_4 = \", pre4, \" | pre_5 = \", pre5, \" | pre_6 = \", pre6)\n",
    "    \n",
    "    alpha_bar = pre4/(pre6 - pre5)\n",
    "    print(\"alpha_bar = \", alpha_bar)\n",
    "    \n",
    "    # Compute alpha_t+1\n",
    "\n",
    "    E = 0.2\n",
    "\n",
    "    D = delta_s[i]/(S0[i]+S1[i]+delta_s[i])\n",
    "    \n",
    "    T1 = E*alpha[i]\n",
    "    T2 = (1-E)*(1-D)*alpha[i]  \n",
    "    T3 = (1-E)*(D)*alpha_bar\n",
    "    \n",
    "    new_alpha = T1+T2+T3\n",
    "\n",
    "    print(\"new_alpha = \", new_alpha)\n",
    "    \n",
    "    # Update state variables\n",
    "    Q.append(Q[i]+delta_q)\n",
    "    Q1.append(Q1[i]+delta_q)\n",
    "    S.append(S[i]-delta_s[i])\n",
    "    S1.append(S1[i]+delta_s[i])\n",
    "    S0.append(S0[i])\n",
    "    q0.append(q0[i])\n",
    "    s0.append(s0[i])\n",
    "    q1.append(q1[i]+delta_q)\n",
    "    s1.append(s1[i]+delta_s[i])\n",
    "    s.append(s[i]-delta_s[i])\n",
    "    alpha.append(new_alpha)"
   ]
  },
  {
   "cell_type": "markdown",
   "metadata": {},
   "source": [
    "#### With initial $\\alpha = 0.5$. \n",
    "At $\\alpha = 0.5$, the corresponding state variables are initialized as:<br/>\n",
    "$$Q = 40$$\n",
    "$$Q1 = 20$$\n",
    "$$Q0 = 20$$\n",
    "<br/>\n",
    "$$S = 1000$$\n",
    "$$S1 = 500$$\n",
    "$$S0 = 500$$"
   ]
  },
  {
   "cell_type": "code",
   "execution_count": 4,
   "metadata": {},
   "outputs": [
    {
     "data": {
      "text/plain": [
       "Text(0.5, 1.0, 'alpha, initialized at 0.5')"
      ]
     },
     "execution_count": 4,
     "metadata": {},
     "output_type": "execute_result"
    },
    {
     "data": {
      "image/png": "[encoded data removed]",
      "text/plain": [
       "<Figure size 432x288 with 1 Axes>"
      ]
     },
     "metadata": {
      "needs_background": "light"
     },
     "output_type": "display_data"
    }
   ],
   "source": [
    "import matplotlib.pyplot as plt\n",
    "\n",
    "plt.plot(alpha)\n",
    "plt.title(\"alpha, initialized at 0.5\")"
   ]
  },
  {
   "cell_type": "markdown",
   "metadata": {},
   "source": [
    "#### With initial $\\alpha = 0.1$. \n",
    "At $\\alpha = 0.1$, the corresponding state variables are initialized as:<br/>\n",
    "$$Q = 40$$\n",
    "$$Q1 = 10$$\n",
    "$$Q0 = 30$$\n",
    "<br/>\n",
    "$$S = 1000$$\n",
    "$$S1 = 100$$\n",
    "$$S0 = 900$$"
   ]
  },
  {
   "cell_type": "code",
   "execution_count": 3,
   "metadata": {},
   "outputs": [
    {
     "data": {
      "text/plain": [
       "Text(0.5, 1.0, 'alpha, initialized at 0.1')"
      ]
     },
     "execution_count": 3,
     "metadata": {},
     "output_type": "execute_result"
    },
    {
     "data": {
      "image/png": "[encoded data removed]",
      "text/plain": [
       "<Figure size 432x288 with 1 Axes>"
      ]
     },
     "metadata": {
      "needs_background": "light"
     },
     "output_type": "display_data"
    }
   ],
   "source": [
    "import matplotlib.pyplot as plt\n",
    "\n",
    "plt.plot(alpha)\n",
    "plt.title(\"alpha, initialized at 0.1\")"
   ]
  },
  {
   "cell_type": "markdown",
   "metadata": {},
   "source": [
    "#### With initial $\\alpha = 0.9$. \n",
    "At $\\alpha = 0.9$, the corresponding state variables are initialized as:<br/>\n",
    "$$Q = 40$$\n",
    "$$Q1 = 30$$\n",
    "$$Q0 = 10$$\n",
    "<br/>\n",
    "$$S = 1000$$\n",
    "$$S1 = 900$$\n",
    "$$S0 = 100$$"
   ]
  },
  {
   "cell_type": "code",
   "execution_count": 3,
   "metadata": {},
   "outputs": [
    {
     "data": {
      "text/plain": [
       "Text(0.5, 1.0, 'alpha, initialized at 0.9')"
      ]
     },
     "execution_count": 3,
     "metadata": {},
     "output_type": "execute_result"
    },
    {
     "data": {
      "image/png": "[encoded data removed]",
      "text/plain": [
       "<Figure size 432x288 with 1 Axes>"
      ]
     },
     "metadata": {
      "needs_background": "light"
     },
     "output_type": "display_data"
    }
   ],
   "source": [
    "import matplotlib.pyplot as plt\n",
    "\n",
    "plt.plot(alpha)\n",
    "plt.title(\"alpha, initialized at 0.9\")"
   ]
  },
  {
   "cell_type": "code",
   "execution_count": 3,
   "metadata": {},
   "outputs": [
    {
     "data": {
      "text/plain": [
       "Text(0.5, 1.0, 'alpha, initialized at 0.6')"
      ]
     },
     "execution_count": 3,
     "metadata": {},
     "output_type": "execute_result"
    },
    {
     "data": {
      "image/png": "[encoded data removed]",
      "text/plain": [
       "<Figure size 432x288 with 1 Axes>"
      ]
     },
     "metadata": {
      "needs_background": "light"
     },
     "output_type": "display_data"
    }
   ],
   "source": [
    "import matplotlib.pyplot as plt\n",
    "\n",
    "plt.plot(alpha)\n",
    "plt.title(\"alpha, initialized at 0.6\")"
   ]
  },
  {
   "cell_type": "code",
   "execution_count": 3,
   "metadata": {},
   "outputs": [
    {
     "data": {
      "text/plain": [
       "Text(0.5, 1.0, 'alpha, initialized at 0.7')"
      ]
     },
     "execution_count": 3,
     "metadata": {},
     "output_type": "execute_result"
    },
    {
     "data": {
      "image/png": "[encoded data removed]",
      "text/plain": [
       "<Figure size 432x288 with 1 Axes>"
      ]
     },
     "metadata": {
      "needs_background": "light"
     },
     "output_type": "display_data"
    }
   ],
   "source": [
    "import matplotlib.pyplot as plt\n",
    "\n",
    "plt.plot(alpha)\n",
    "plt.title(\"alpha, initialized at 0.7\")"
   ]
  },
  {
   "cell_type": "code",
   "execution_count": 3,
   "metadata": {},
   "outputs": [
    {
     "data": {
      "text/plain": [
       "Text(0.5, 1.0, 'alpha, initialized at 0.7 and delta s w/ 20')"
      ]
     },
     "execution_count": 3,
     "metadata": {},
     "output_type": "execute_result"
    },
    {
     "data": {
      "image/png": "[encoded data removed]",
      "text/plain": [
       "<Figure size 432x288 with 1 Axes>"
      ]
     },
     "metadata": {
      "needs_background": "light"
     },
     "output_type": "display_data"
    }
   ],
   "source": [
    "import matplotlib.pyplot as plt\n",
    "\n",
    "plt.plot(alpha)\n",
    "plt.title(\"alpha, initialized at 0.7 and delta s w/ 20\")"
   ]
  },
  {
   "cell_type": "code",
   "execution_count": 3,
   "metadata": {},
   "outputs": [
    {
     "data": {
      "text/plain": [
       "Text(0.5, 1.0, 'alpha, initialized at 0.5 and delta s w/ 20')"
      ]
     },
     "execution_count": 3,
     "metadata": {},
     "output_type": "execute_result"
    },
    {
     "data": {
      "image/png": "[encoded data removed]",
      "text/plain": [
       "<Figure size 432x288 with 1 Axes>"
      ]
     },
     "metadata": {
      "needs_background": "light"
     },
     "output_type": "display_data"
    }
   ],
   "source": [
    "import matplotlib.pyplot as plt\n",
    "\n",
    "plt.plot(alpha)\n",
    "plt.title(\"alpha, initialized at 0.5 and delta s w/ 20\")"
   ]
  },
  {
   "cell_type": "code",
   "execution_count": null,
   "metadata": {},
   "outputs": [],
   "source": []
  }
 ],
 "metadata": {
  "kernelspec": {
   "display_name": "Python 3",
   "language": "python",
   "name": "python3"
  },
  "language_info": {
   "codemirror_mode": {
    "name": "ipython",
    "version": 3
   },
   "file_extension": ".py",
   "mimetype": "text/x-python",
   "name": "python",
   "nbconvert_exporter": "python",
   "pygments_lexer": "ipython3",
   "version": "3.7.4"
  }
 },
 "nbformat": 4,
 "nbformat_minor": 4
}
