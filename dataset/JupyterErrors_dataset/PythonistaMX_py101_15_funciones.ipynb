{
 "cells": [
  {
   "cell_type": "markdown",
   "metadata": {},
   "source": [
    "[![pythonista.io](imagenes/pythonista.png)](https://www.pythonista.io)"
   ]
  },
  {
   "cell_type": "markdown",
   "metadata": {},
   "source": [
    "# Funciones.\n",
    "\n",
    "Las funciones en Python son objetos que pueden ser ejecutados al ser invocados y que realizan ciertas operaciones que fueron asignadas al momento de ser definidas.\n",
    "\n",
    "```\n",
    "<nombre>(<argumento 1>, <argumento 2>, ..., <argumento n>)\n",
    "```\n",
    "\n",
    "Donde:\n",
    "\n",
    "* ```<nombre>``` es el nombre de una función.\n",
    "* ```<argumento i>``` es un objeto que se ingresa como argumento. "
   ]
  },
  {
   "cell_type": "markdown",
   "metadata": {},
   "source": [
    "## Características de las funciones.\n",
    "\n",
    "* Las funciones pueden aceptar argumentos que serán asignados a los parámetros definidos en dichas funciones. Es necesario que para cada parámetro definido en una función se ingrese un argumento.\n",
    "* Cada  función tiene su propio ámbito.\n",
    "* Las funciones siempre regresan un objeto como resultado de su ejecución. Si no se indica lo contrario, las funciones regresan ```None```."
   ]
  },
  {
   "cell_type": "markdown",
   "metadata": {},
   "source": [
    "**Ejemplos:**"
   ]
  },
  {
   "cell_type": "markdown",
   "metadata": {},
   "source": [
    "* La siguiente celda ejecutará la función ```dir()``` sin ingresar argumentos. El resultado será el contenido del espacio de nombres del intérprete."
   ]
  },
  {
   "cell_type": "code",
   "execution_count": 1,
   "metadata": {
    "scrolled": true
   },
   "outputs": [
    {
     "data": {
      "text/plain": [
       "['In',\n",
       " 'Out',\n",
       " '_',\n",
       " '__',\n",
       " '___',\n",
       " '__builtin__',\n",
       " '__builtins__',\n",
       " '__doc__',\n",
       " '__loader__',\n",
       " '__name__',\n",
       " '__package__',\n",
       " '__spec__',\n",
       " '_dh',\n",
       " '_i',\n",
       " '_i1',\n",
       " '_ih',\n",
       " '_ii',\n",
       " '_iii',\n",
       " '_oh',\n",
       " 'exit',\n",
       " 'get_ipython',\n",
       " 'quit']"
      ]
     },
     "execution_count": 1,
     "metadata": {},
     "output_type": "execute_result"
    }
   ],
   "source": [
    "dir()"
   ]
  },
  {
   "cell_type": "markdown",
   "metadata": {},
   "source": [
    "* La siguiente celda ejecutará la función ```len()``` ingresando el objeto ```\"Hola, Mundo.\"``` como argumento. El resultado es ```12```."
   ]
  },
  {
   "cell_type": "code",
   "execution_count": 2,
   "metadata": {},
   "outputs": [
    {
     "data": {
      "text/plain": [
       "12"
      ]
     },
     "execution_count": 2,
     "metadata": {},
     "output_type": "execute_result"
    }
   ],
   "source": [
    "len(\"Hola, mundo.\")"
   ]
  },
  {
   "cell_type": "markdown",
   "metadata": {},
   "source": [
    "* La siguiente celda ejecutará a la función ```print()```, ingresando al objeto ```\"Hola, Mundo.\"``` como argumento. \n",
    "\n",
    "* La función ```print()``` despliega un mensaje ```Hola, Mundo.``` en la salida estándar del intérprete, pero en realidad regresa ```None```."
   ]
  },
  {
   "cell_type": "code",
   "execution_count": 3,
   "metadata": {
    "scrolled": true
   },
   "outputs": [
    {
     "name": "stdout",
     "output_type": "stream",
     "text": [
      "Hola, mundo.\n"
     ]
    }
   ],
   "source": [
    "print(\"Hola, mundo.\")"
   ]
  },
  {
   "cell_type": "markdown",
   "metadata": {},
   "source": [
    "* La siguiente celda asignará el nombre ```resultado``` al objeto que regrese la función ```print()```."
   ]
  },
  {
   "cell_type": "code",
   "execution_count": 4,
   "metadata": {
    "scrolled": true
   },
   "outputs": [
    {
     "name": "stdout",
     "output_type": "stream",
     "text": [
      "Hola, mundo.\n"
     ]
    }
   ],
   "source": [
    "resultado = print(\"Hola, mundo.\")"
   ]
  },
  {
   "cell_type": "markdown",
   "metadata": {},
   "source": [
    "* La siguiente celda deplegará el objeto ligado al nombre ```resultado```, el cual es ```None```."
   ]
  },
  {
   "cell_type": "code",
   "execution_count": 5,
   "metadata": {
    "scrolled": true
   },
   "outputs": [
    {
     "name": "stdout",
     "output_type": "stream",
     "text": [
      "None\n"
     ]
    }
   ],
   "source": [
    "print(resultado)"
   ]
  },
  {
   "cell_type": "markdown",
   "metadata": {},
   "source": [
    "## Definición de una función.\n",
    "\n",
    "Python permite definir funciones utilizando generalmente la siguiente sintaxis:\n",
    "\n",
    "```\n",
    "def <nombre>(<parámetro 1>, <parámetro 2>, ... , <parámetro n>):\n",
    "    <código>\n",
    "```\n",
    "Donde:\n",
    "\n",
    "* ```<nombre>``` es el nombre de una función.\n",
    "* ```<parámetro i>``` es el nombre de un parámetro, el cual recibirá un argumento. \n",
    "\n",
    "\n",
    "**Nota:** Posteriormente se estudiarán las *funciones lambda*, las cuales permiten definir funciones de una manera distinta a la presentada aquÍ. "
   ]
  },
  {
   "cell_type": "markdown",
   "metadata": {},
   "source": [
    "### Ejemplo: Definición de una función mínima."
   ]
  },
  {
   "cell_type": "markdown",
   "metadata": {},
   "source": [
    "#### La declaración ```pass```.\n",
    "\n",
    "La declaración ```pass``` no realiza ninguna acción, pero evita que se genere un error de indentación al crear una función vacía."
   ]
  },
  {
   "cell_type": "markdown",
   "metadata": {},
   "source": [
    "La siguiente celda define a la función ```nada()```, la cual aún cuando es sintácticamente correcta, no realiza ningun tipo de acción."
   ]
  },
  {
   "cell_type": "code",
   "execution_count": 10,
   "metadata": {},
   "outputs": [],
   "source": [
    "def nada():\n",
    "    pass"
   ]
  },
  {
   "cell_type": "markdown",
   "metadata": {},
   "source": [
    "* Al invocar a la función ```nada()```, dicha funci;on es ejecutada, pero no realiza ninguna operación."
   ]
  },
  {
   "cell_type": "code",
   "execution_count": 11,
   "metadata": {},
   "outputs": [],
   "source": [
    "nada()"
   ]
  },
  {
   "cell_type": "markdown",
   "metadata": {},
   "source": [
    "### Ejemplo: La función ```saludo()```.\n",
    "\n",
    "* La siguiente celda deifne a la función ```saludo()```, la cual desplegará el texto ```Hola``` al ser invocada."
   ]
  },
  {
   "cell_type": "code",
   "execution_count": 12,
   "metadata": {},
   "outputs": [],
   "source": [
    "def saludo():\n",
    "    print('Hola')"
   ]
  },
  {
   "cell_type": "markdown",
   "metadata": {},
   "source": [
    "* Al ejecutar la funcion ```saludo()```, se desplegará ```Hola```."
   ]
  },
  {
   "cell_type": "code",
   "execution_count": 13,
   "metadata": {},
   "outputs": [
    {
     "name": "stdout",
     "output_type": "stream",
     "text": [
      "Hola\n"
     ]
    }
   ],
   "source": [
    "saludo()"
   ]
  },
  {
   "cell_type": "markdown",
   "metadata": {},
   "source": [
    "## Las funciones son objetos.\n",
    "\n",
    "En Python, las funciones son objetos de primer orden. Es decir, que cuentan con atributos y métodos bien defindos al ser creadas."
   ]
  },
  {
   "cell_type": "markdown",
   "metadata": {},
   "source": [
    "**Ejemplo:**"
   ]
  },
  {
   "cell_type": "markdown",
   "metadata": {},
   "source": [
    "* La siguiente celda cointiene a una expresión que refiere al nombre ```saludo``` (sin los paréntesis), lo que regresará al objeto ligado a dicho nombre y el cual es ```<function __main__.saludo()```. "
   ]
  },
  {
   "cell_type": "code",
   "execution_count": 14,
   "metadata": {
    "scrolled": true
   },
   "outputs": [
    {
     "data": {
      "text/plain": [
       "<function __main__.saludo()>"
      ]
     },
     "execution_count": 14,
     "metadata": {},
     "output_type": "execute_result"
    }
   ],
   "source": [
    "saludo"
   ]
  },
  {
   "cell_type": "markdown",
   "metadata": {},
   "source": [
    "* La siguiente celda ejecutará a la funcion ```type()```, ingresando el nombre ```saludo``` como argumento. El resutado será ```function```."
   ]
  },
  {
   "cell_type": "code",
   "execution_count": 15,
   "metadata": {},
   "outputs": [
    {
     "data": {
      "text/plain": [
       "function"
      ]
     },
     "execution_count": 15,
     "metadata": {},
     "output_type": "execute_result"
    }
   ],
   "source": [
    "type(saludo)"
   ]
  },
  {
   "cell_type": "markdown",
   "metadata": {},
   "source": [
    "* Al ejecutar la función ```dir()``` ingresando el nombre ```saludo``` como argumento, el resultado es el contenido de dicho objeto."
   ]
  },
  {
   "cell_type": "code",
   "execution_count": 16,
   "metadata": {
    "scrolled": true
   },
   "outputs": [
    {
     "data": {
      "text/plain": [
       "['__annotations__',\n",
       " '__builtins__',\n",
       " '__call__',\n",
       " '__class__',\n",
       " '__closure__',\n",
       " '__code__',\n",
       " '__defaults__',\n",
       " '__delattr__',\n",
       " '__dict__',\n",
       " '__dir__',\n",
       " '__doc__',\n",
       " '__eq__',\n",
       " '__format__',\n",
       " '__ge__',\n",
       " '__get__',\n",
       " '__getattribute__',\n",
       " '__globals__',\n",
       " '__gt__',\n",
       " '__hash__',\n",
       " '__init__',\n",
       " '__init_subclass__',\n",
       " '__kwdefaults__',\n",
       " '__le__',\n",
       " '__lt__',\n",
       " '__module__',\n",
       " '__name__',\n",
       " '__ne__',\n",
       " '__new__',\n",
       " '__qualname__',\n",
       " '__reduce__',\n",
       " '__reduce_ex__',\n",
       " '__repr__',\n",
       " '__setattr__',\n",
       " '__sizeof__',\n",
       " '__str__',\n",
       " '__subclasshook__']"
      ]
     },
     "execution_count": 16,
     "metadata": {},
     "output_type": "execute_result"
    }
   ],
   "source": [
    "dir(saludo)"
   ]
  },
  {
   "cell_type": "markdown",
   "metadata": {},
   "source": [
    "## Introspección en las funciones.\n",
    "\n",
    "Python puede generar documentación a partir del código y los elementos de un objeto y particularmente de los comentarios de estilo docstring.\n",
    "El primer comentario usando docstring justo debajo de ```def``` se utiliza como parte de la documentación de la función."
   ]
  },
  {
   "cell_type": "markdown",
   "metadata": {},
   "source": [
    "**Ejemplo:**"
   ]
  },
  {
   "cell_type": "markdown",
   "metadata": {},
   "source": [
    "* La siguiente celda define a la función ```saludo()```, incluyendo una *docstring* descriptiva."
   ]
  },
  {
   "cell_type": "code",
   "execution_count": 17,
   "metadata": {},
   "outputs": [],
   "source": [
    "def saludo():\n",
    "    '''Imprime un mensaje de texto.'''\n",
    "    print( 'Hola')"
   ]
  },
  {
   "cell_type": "markdown",
   "metadata": {},
   "source": [
    "* Al ejecutar la función ```help()``` ingresando al nombre ```saludo``` como argumento, la descripción de dicho objeto incluye el texto de la *docstring* insertada después la definición."
   ]
  },
  {
   "cell_type": "code",
   "execution_count": 19,
   "metadata": {},
   "outputs": [
    {
     "name": "stdout",
     "output_type": "stream",
     "text": [
      "Help on function saludo in module __main__:\n",
      "\n",
      "saludo()\n",
      "    Imprime un mensaje de texto.\n",
      "\n"
     ]
    }
   ],
   "source": [
    "help(saludo) # Imprime un mensaje de texto."
   ]
  },
  {
   "cell_type": "markdown",
   "metadata": {},
   "source": [
    "## Ámbitos.\n",
    "\n",
    "El intérprete de Python cuenta con un espacio de nombres en el que se ligan los objetos mediante la asignación de un nombre. Del mismo modo, las funciones crean su propio espacio de nombres, el cual deja de existir tan pronto como la función invocada concluye su ejecución.\n",
    "\n",
    "A estos espacios de nombres diferenciados se les conoce como ámbitos y evita que objetos definidos con nombres idénticos dentro de una función sobrescriban el espacio de nombres del intérprete."
   ]
  },
  {
   "cell_type": "markdown",
   "metadata": {},
   "source": [
    "**Ejemplo:**"
   ]
  },
  {
   "cell_type": "markdown",
   "metadata": {},
   "source": [
    "* La siguiente celda creará al objeto ```\"Hola\"``` con nombre ```objeto``` en el espacio de nombres del intérprete."
   ]
  },
  {
   "cell_type": "code",
   "execution_count": 20,
   "metadata": {},
   "outputs": [],
   "source": [
    "objeto = \"Hola\""
   ]
  },
  {
   "cell_type": "code",
   "execution_count": 21,
   "metadata": {},
   "outputs": [
    {
     "data": {
      "text/plain": [
       "'Hola'"
      ]
     },
     "execution_count": 21,
     "metadata": {},
     "output_type": "execute_result"
    }
   ],
   "source": [
    "objeto"
   ]
  },
  {
   "cell_type": "markdown",
   "metadata": {},
   "source": [
    "* La siguiente celda ejecutará la función ```dir()``` sin argumentos, la cuaL regresará un objeto de tipo ```list``` que contiene a todos los nombres definido en el espacio de nombres del intérprete,  incluyendo a ```'objeto'```."
   ]
  },
  {
   "cell_type": "code",
   "execution_count": 22,
   "metadata": {},
   "outputs": [
    {
     "data": {
      "text/plain": [
       "['In',\n",
       " 'Out',\n",
       " '_',\n",
       " '_1',\n",
       " '_14',\n",
       " '_15',\n",
       " '_16',\n",
       " '_2',\n",
       " '_21',\n",
       " '__',\n",
       " '___',\n",
       " '__builtin__',\n",
       " '__builtins__',\n",
       " '__doc__',\n",
       " '__loader__',\n",
       " '__name__',\n",
       " '__package__',\n",
       " '__spec__',\n",
       " '_dh',\n",
       " '_i',\n",
       " '_i1',\n",
       " '_i10',\n",
       " '_i11',\n",
       " '_i12',\n",
       " '_i13',\n",
       " '_i14',\n",
       " '_i15',\n",
       " '_i16',\n",
       " '_i17',\n",
       " '_i18',\n",
       " '_i19',\n",
       " '_i2',\n",
       " '_i20',\n",
       " '_i21',\n",
       " '_i22',\n",
       " '_i3',\n",
       " '_i4',\n",
       " '_i5',\n",
       " '_i6',\n",
       " '_i7',\n",
       " '_i8',\n",
       " '_i9',\n",
       " '_ih',\n",
       " '_ii',\n",
       " '_iii',\n",
       " '_oh',\n",
       " 'exit',\n",
       " 'get_ipython',\n",
       " 'nada',\n",
       " 'objeto',\n",
       " 'quit',\n",
       " 'resultado',\n",
       " 'saludo']"
      ]
     },
     "execution_count": 22,
     "metadata": {},
     "output_type": "execute_result"
    }
   ],
   "source": [
    "dir()"
   ]
  },
  {
   "cell_type": "markdown",
   "metadata": {},
   "source": [
    "* La siguiente celda definirá a la funcion ```mifuncion()```, en la que:\n",
    "    * Se define de forma local al objeto ```2``` con nombre ```objeto```.\n",
    "    * Se despliega el contenido de ```objeto```."
   ]
  },
  {
   "cell_type": "code",
   "execution_count": 23,
   "metadata": {},
   "outputs": [],
   "source": [
    "def mifuncion():\n",
    "    objeto = 2\n",
    "    print(objeto)"
   ]
  },
  {
   "cell_type": "markdown",
   "metadata": {},
   "source": [
    "* Al ejecutar la función ```mifuncion()```, se utilizará la referencia al nombre ```objeto``` correpsondiente a ```2```"
   ]
  },
  {
   "cell_type": "code",
   "execution_count": 24,
   "metadata": {
    "scrolled": true
   },
   "outputs": [
    {
     "name": "stdout",
     "output_type": "stream",
     "text": [
      "2\n"
     ]
    }
   ],
   "source": [
    "mifuncion()"
   ]
  },
  {
   "cell_type": "markdown",
   "metadata": {},
   "source": [
    "* El objeto ```\"Hola\"``` sigue ligado al nombre ```objeto``` en el ámbito global. "
   ]
  },
  {
   "cell_type": "code",
   "execution_count": 25,
   "metadata": {},
   "outputs": [
    {
     "data": {
      "text/plain": [
       "'Hola'"
      ]
     },
     "execution_count": 25,
     "metadata": {},
     "output_type": "execute_result"
    }
   ],
   "source": [
    "objeto"
   ]
  },
  {
   "cell_type": "markdown",
   "metadata": {},
   "source": [
    "### Ámbito global.\n",
    "\n",
    "El espacio de nombres del intérprete de Python corresponde al ámbito global."
   ]
  },
  {
   "cell_type": "markdown",
   "metadata": {},
   "source": [
    "#### La función ```globals()```.\n",
    "\n",
    "La función ```globals()``` regresa el contenido del espacio de nombres del ámbito global como un objeto de tipo ```dict```.\n",
    "\n",
    "Cuando se invoca la función ```dir()``` sin argumentos desde el intérprete, ésta regresa un objeto de tipo ```list``` con el listado de nombres del ámbito global."
   ]
  },
  {
   "cell_type": "markdown",
   "metadata": {},
   "source": [
    "### Ámbitos locales.\n",
    "\n",
    "Cada función genera su propio espacio de nombres cada vez que es invocada. Cada uno de estos espacios de nombres es un ámbito local.\n",
    "\n",
    "**Nota:** Los parámetros definidos en una función pertencen al ámbito local."
   ]
  },
  {
   "cell_type": "markdown",
   "metadata": {},
   "source": [
    "#### La función ```locals()```.\n",
    "\n",
    "La función ```locals()``` regresa el contenido del espacio de nombres del ámbito local como un objeto de tipo ```dict```. Cuando se invoca la función ```dir()``` sin argumentos desde una función, ésta regresa un objeto de tipo ```list``` con el listado de nombres del ámbito local."
   ]
  },
  {
   "cell_type": "markdown",
   "metadata": {},
   "source": [
    "**Ejemplo:**"
   ]
  },
  {
   "cell_type": "markdown",
   "metadata": {},
   "source": [
    "* Se definirá la función ```ambitos()```, la cual desplegará:\n",
    "   * El contenido de su ámbito local mediante ```locals()``` y ```dir()```.\n",
    "   * El espacio de nombres del ámbito global con ```globals()```. "
   ]
  },
  {
   "cell_type": "code",
   "execution_count": 27,
   "metadata": {},
   "outputs": [],
   "source": [
    "def ambitos():\n",
    "    lista = [1, 2, 3]\n",
    "    nulo = None\n",
    "    print('Espacio de nombres en el ámbito local:')\n",
    "    print('%s\\n%s\\n' %(locals(), dir()))\n",
    "    print('----------------')\n",
    "    print('Espacio de nombres en el ámbito global:')\n",
    "    print(globals())"
   ]
  },
  {
   "cell_type": "code",
   "execution_count": 28,
   "metadata": {
    "scrolled": false
   },
   "outputs": [
    {
     "name": "stdout",
     "output_type": "stream",
     "text": [
      "Espacio de nombres en el ámbito local:\n",
      "{'lista': [1, 2, 3], 'nulo': None}\n",
      "['lista', 'nulo']\n",
      "\n",
      "----------------\n",
      "Espacio de nombres en el ámbito global:\n",
      "{'__name__': '__main__', '__doc__': 'Automatically created module for IPython interactive environment', '__package__': None, '__loader__': None, '__spec__': None, '__builtin__': <module 'builtins' (built-in)>, '__builtins__': <module 'builtins' (built-in)>, '_ih': ['', 'dir()', 'len(\"Hola, mundo.\")', 'print(\"Hola, mundo.\")', 'resultado = print(\"Hola, mundo.\")', 'print(resultado)', 'def nada():\\n    pass', 'nada()', 'def nada():\\n#    pass', 'def nada():', 'def nada():\\n    pass', 'nada()', \"def saludo():\\n    print('Hola')\", 'saludo()', 'saludo', 'type(saludo)', 'dir(saludo)', \"def saludo():\\n    '''Imprime un mensaje de texto.'''\\n    print( 'Hola')\", \"help(saludo) '''Imprime un mensaje de texto.'''\", 'help(saludo) # Imprime un mensaje de texto.', 'objeto = \"Hola\"', 'objeto', 'dir()', 'def mifuncion():\\n    objeto = 2\\n    print(objeto)', 'mifuncion()', 'objeto', 'ambitos()', \"def ambitos():\\n    lista = [1, 2, 3]\\n    nulo = None\\n    print('Espacio de nombres en el ámbito local:')\\n    print('%s\\\\n%s\\\\n' %(locals(), dir()))\\n    print('----------------')\\n    print('Espacio de nombres en el ámbito global:')\\n    print(globals())\", 'ambitos()'], '_oh': {1: ['In', 'Out', '_', '__', '___', '__builtin__', '__builtins__', '__doc__', '__loader__', '__name__', '__package__', '__spec__', '_dh', '_i', '_i1', '_ih', '_ii', '_iii', '_oh', 'exit', 'get_ipython', 'quit'], 2: 12, 14: <function saludo at 0x7fdd9fcac790>, 15: <class 'function'>, 16: ['__annotations__', '__builtins__', '__call__', '__class__', '__closure__', '__code__', '__defaults__', '__delattr__', '__dict__', '__dir__', '__doc__', '__eq__', '__format__', '__ge__', '__get__', '__getattribute__', '__globals__', '__gt__', '__hash__', '__init__', '__init_subclass__', '__kwdefaults__', '__le__', '__lt__', '__module__', '__name__', '__ne__', '__new__', '__qualname__', '__reduce__', '__reduce_ex__', '__repr__', '__setattr__', '__sizeof__', '__str__', '__subclasshook__'], 21: 'Hola', 22: ['In', 'Out', '_', '_1', '_14', '_15', '_16', '_2', '_21', '__', '___', '__builtin__', '__builtins__', '__doc__', '__loader__', '__name__', '__package__', '__spec__', '_dh', '_i', '_i1', '_i10', '_i11', '_i12', '_i13', '_i14', '_i15', '_i16', '_i17', '_i18', '_i19', '_i2', '_i20', '_i21', '_i22', '_i3', '_i4', '_i5', '_i6', '_i7', '_i8', '_i9', '_ih', '_ii', '_iii', '_oh', 'exit', 'get_ipython', 'nada', 'objeto', 'quit', 'resultado', 'saludo'], 25: 'Hola'}, '_dh': [PosixPath('/home/josech/Dropbox/Codigo/Pythonista/Cursos/py101')], 'In': ['', 'dir()', 'len(\"Hola, mundo.\")', 'print(\"Hola, mundo.\")', 'resultado = print(\"Hola, mundo.\")', 'print(resultado)', 'def nada():\\n    pass', 'nada()', 'def nada():\\n#    pass', 'def nada():', 'def nada():\\n    pass', 'nada()', \"def saludo():\\n    print('Hola')\", 'saludo()', 'saludo', 'type(saludo)', 'dir(saludo)', \"def saludo():\\n    '''Imprime un mensaje de texto.'''\\n    print( 'Hola')\", \"help(saludo) '''Imprime un mensaje de texto.'''\", 'help(saludo) # Imprime un mensaje de texto.', 'objeto = \"Hola\"', 'objeto', 'dir()', 'def mifuncion():\\n    objeto = 2\\n    print(objeto)', 'mifuncion()', 'objeto', 'ambitos()', \"def ambitos():\\n    lista = [1, 2, 3]\\n    nulo = None\\n    print('Espacio de nombres en el ámbito local:')\\n    print('%s\\\\n%s\\\\n' %(locals(), dir()))\\n    print('----------------')\\n    print('Espacio de nombres en el ámbito global:')\\n    print(globals())\", 'ambitos()'], 'Out': {1: ['In', 'Out', '_', '__', '___', '__builtin__', '__builtins__', '__doc__', '__loader__', '__name__', '__package__', '__spec__', '_dh', '_i', '_i1', '_ih', '_ii', '_iii', '_oh', 'exit', 'get_ipython', 'quit'], 2: 12, 14: <function saludo at 0x7fdd9fcac790>, 15: <class 'function'>, 16: ['__annotations__', '__builtins__', '__call__', '__class__', '__closure__', '__code__', '__defaults__', '__delattr__', '__dict__', '__dir__', '__doc__', '__eq__', '__format__', '__ge__', '__get__', '__getattribute__', '__globals__', '__gt__', '__hash__', '__init__', '__init_subclass__', '__kwdefaults__', '__le__', '__lt__', '__module__', '__name__', '__ne__', '__new__', '__qualname__', '__reduce__', '__reduce_ex__', '__repr__', '__setattr__', '__sizeof__', '__str__', '__subclasshook__'], 21: 'Hola', 22: ['In', 'Out', '_', '_1', '_14', '_15', '_16', '_2', '_21', '__', '___', '__builtin__', '__builtins__', '__doc__', '__loader__', '__name__', '__package__', '__spec__', '_dh', '_i', '_i1', '_i10', '_i11', '_i12', '_i13', '_i14', '_i15', '_i16', '_i17', '_i18', '_i19', '_i2', '_i20', '_i21', '_i22', '_i3', '_i4', '_i5', '_i6', '_i7', '_i8', '_i9', '_ih', '_ii', '_iii', '_oh', 'exit', 'get_ipython', 'nada', 'objeto', 'quit', 'resultado', 'saludo'], 25: 'Hola'}, 'get_ipython': <bound method InteractiveShell.get_ipython of <ipykernel.zmqshell.ZMQInteractiveShell object at 0x7fdd9fc03c10>>, 'exit': <IPython.core.autocall.ZMQExitAutocall object at 0x7fdd9fc742e0>, 'quit': <IPython.core.autocall.ZMQExitAutocall object at 0x7fdd9fc742e0>, '_': 'Hola', '__': ['In', 'Out', '_', '_1', '_14', '_15', '_16', '_2', '_21', '__', '___', '__builtin__', '__builtins__', '__doc__', '__loader__', '__name__', '__package__', '__spec__', '_dh', '_i', '_i1', '_i10', '_i11', '_i12', '_i13', '_i14', '_i15', '_i16', '_i17', '_i18', '_i19', '_i2', '_i20', '_i21', '_i22', '_i3', '_i4', '_i5', '_i6', '_i7', '_i8', '_i9', '_ih', '_ii', '_iii', '_oh', 'exit', 'get_ipython', 'nada', 'objeto', 'quit', 'resultado', 'saludo'], '___': 'Hola', '_i': \"def ambitos():\\n    lista = [1, 2, 3]\\n    nulo = None\\n    print('Espacio de nombres en el ámbito local:')\\n    print('%s\\\\n%s\\\\n' %(locals(), dir()))\\n    print('----------------')\\n    print('Espacio de nombres en el ámbito global:')\\n    print(globals())\", '_ii': 'ambitos()', '_iii': 'objeto', '_i1': 'dir()', '_1': ['In', 'Out', '_', '__', '___', '__builtin__', '__builtins__', '__doc__', '__loader__', '__name__', '__package__', '__spec__', '_dh', '_i', '_i1', '_ih', '_ii', '_iii', '_oh', 'exit', 'get_ipython', 'quit'], '_i2': 'len(\"Hola, mundo.\")', '_2': 12, '_i3': 'print(\"Hola, mundo.\")', '_i4': 'resultado = print(\"Hola, mundo.\")', 'resultado': None, '_i5': 'print(resultado)', '_i6': 'def nada():\\n    pass', 'nada': <function nada at 0x7fdd9fcacca0>, '_i7': 'nada()', '_i8': 'def nada():\\n#    pass', '_i9': 'def nada():', '_i10': 'def nada():\\n    pass', '_i11': 'nada()', '_i12': \"def saludo():\\n    print('Hola')\", 'saludo': <function saludo at 0x7fdd9fcace50>, '_i13': 'saludo()', '_i14': 'saludo', '_14': <function saludo at 0x7fdd9fcac790>, '_i15': 'type(saludo)', '_15': <class 'function'>, '_i16': 'dir(saludo)', '_16': ['__annotations__', '__builtins__', '__call__', '__class__', '__closure__', '__code__', '__defaults__', '__delattr__', '__dict__', '__dir__', '__doc__', '__eq__', '__format__', '__ge__', '__get__', '__getattribute__', '__globals__', '__gt__', '__hash__', '__init__', '__init_subclass__', '__kwdefaults__', '__le__', '__lt__', '__module__', '__name__', '__ne__', '__new__', '__qualname__', '__reduce__', '__reduce_ex__', '__repr__', '__setattr__', '__sizeof__', '__str__', '__subclasshook__'], '_i17': \"def saludo():\\n    '''Imprime un mensaje de texto.'''\\n    print( 'Hola')\", '_i18': \"help(saludo) '''Imprime un mensaje de texto.'''\", '_i19': 'help(saludo) # Imprime un mensaje de texto.', '_i20': 'objeto = \"Hola\"', 'objeto': 'Hola', '_i21': 'objeto', '_21': 'Hola', '_i22': 'dir()', '_22': ['In', 'Out', '_', '_1', '_14', '_15', '_16', '_2', '_21', '__', '___', '__builtin__', '__builtins__', '__doc__', '__loader__', '__name__', '__package__', '__spec__', '_dh', '_i', '_i1', '_i10', '_i11', '_i12', '_i13', '_i14', '_i15', '_i16', '_i17', '_i18', '_i19', '_i2', '_i20', '_i21', '_i22', '_i3', '_i4', '_i5', '_i6', '_i7', '_i8', '_i9', '_ih', '_ii', '_iii', '_oh', 'exit', 'get_ipython', 'nada', 'objeto', 'quit', 'resultado', 'saludo'], '_i23': 'def mifuncion():\\n    objeto = 2\\n    print(objeto)', 'mifuncion': <function mifuncion at 0x7fdd9fcac430>, '_i24': 'mifuncion()', '_i25': 'objeto', '_25': 'Hola', '_i26': 'ambitos()', '_i27': \"def ambitos():\\n    lista = [1, 2, 3]\\n    nulo = None\\n    print('Espacio de nombres en el ámbito local:')\\n    print('%s\\\\n%s\\\\n' %(locals(), dir()))\\n    print('----------------')\\n    print('Espacio de nombres en el ámbito global:')\\n    print(globals())\", 'ambitos': <function ambitos at 0x7fdd857183a0>, '_i28': 'ambitos()'}\n"
     ]
    }
   ],
   "source": [
    "ambitos()"
   ]
  },
  {
   "cell_type": "markdown",
   "metadata": {},
   "source": [
    "* La siguiente celda se ejecutará la función ```dir()``` desde el intérprete."
   ]
  },
  {
   "cell_type": "code",
   "execution_count": 29,
   "metadata": {},
   "outputs": [
    {
     "data": {
      "text/plain": [
       "['In',\n",
       " 'Out',\n",
       " '_',\n",
       " '_1',\n",
       " '_14',\n",
       " '_15',\n",
       " '_16',\n",
       " '_2',\n",
       " '_21',\n",
       " '_22',\n",
       " '_25',\n",
       " '__',\n",
       " '___',\n",
       " '__builtin__',\n",
       " '__builtins__',\n",
       " '__doc__',\n",
       " '__loader__',\n",
       " '__name__',\n",
       " '__package__',\n",
       " '__spec__',\n",
       " '_dh',\n",
       " '_i',\n",
       " '_i1',\n",
       " '_i10',\n",
       " '_i11',\n",
       " '_i12',\n",
       " '_i13',\n",
       " '_i14',\n",
       " '_i15',\n",
       " '_i16',\n",
       " '_i17',\n",
       " '_i18',\n",
       " '_i19',\n",
       " '_i2',\n",
       " '_i20',\n",
       " '_i21',\n",
       " '_i22',\n",
       " '_i23',\n",
       " '_i24',\n",
       " '_i25',\n",
       " '_i26',\n",
       " '_i27',\n",
       " '_i28',\n",
       " '_i29',\n",
       " '_i3',\n",
       " '_i4',\n",
       " '_i5',\n",
       " '_i6',\n",
       " '_i7',\n",
       " '_i8',\n",
       " '_i9',\n",
       " '_ih',\n",
       " '_ii',\n",
       " '_iii',\n",
       " '_oh',\n",
       " 'ambitos',\n",
       " 'exit',\n",
       " 'get_ipython',\n",
       " 'mifuncion',\n",
       " 'nada',\n",
       " 'objeto',\n",
       " 'quit',\n",
       " 'resultado',\n",
       " 'saludo']"
      ]
     },
     "execution_count": 29,
     "metadata": {},
     "output_type": "execute_result"
    }
   ],
   "source": [
    "dir()"
   ]
  },
  {
   "cell_type": "markdown",
   "metadata": {},
   "source": [
    "### Búsqueda de nombres entre ámbitos.\n",
    "\n",
    "Cuando se invoca a una función y se hace una referencia a un nombre, el intérprete primeramente busca una coincidencia dentro del ámbito local y posteriormente en el ámbito global. En caso de no encontrarla, se generará un error de tipo ```NameError```."
   ]
  },
  {
   "cell_type": "markdown",
   "metadata": {},
   "source": [
    "**Ejemplo:**"
   ]
  },
  {
   "cell_type": "markdown",
   "metadata": {},
   "source": [
    "* Se creará la función ```trino()```, haciendo referencia al nombre ```ave```, pero no se definirá en el ámbito global ni en el local."
   ]
  },
  {
   "cell_type": "code",
   "execution_count": 30,
   "metadata": {},
   "outputs": [],
   "source": [
    "def trino():\n",
    "    print(ave * 3)"
   ]
  },
  {
   "cell_type": "markdown",
   "metadata": {},
   "source": [
    "* El nombre ```ave``` no ha sido definido en el ámbito global. \n",
    "\n",
    "* La siguiente celda tratará de buscar el nombre ```ave``` en el ámbito local. Al no encotrarlo, se generará un error de tipo ```NameError```."
   ]
  },
  {
   "cell_type": "code",
   "execution_count": 31,
   "metadata": {
    "scrolled": true
   },
   "outputs": [
    {
     "ename": "NameError",
     "evalue": "name 'ave' is not defined",
     "output_type": "error",
     "traceback": [
      "\u001b[0;31m---------------------------------------------------------------------------\u001b[0m",
      "\u001b[0;31mNameError\u001b[0m                                 Traceback (most recent call last)",
      "Input \u001b[0;32mIn [31]\u001b[0m, in \u001b[0;36m<cell line: 1>\u001b[0;34m()\u001b[0m\n\u001b[0;32m----> 1\u001b[0m \u001b[43mave\u001b[49m\n",
      "\u001b[0;31mNameError\u001b[0m: name 'ave' is not defined"
     ]
    }
   ],
   "source": [
    "ave"
   ]
  },
  {
   "cell_type": "markdown",
   "metadata": {},
   "source": [
    "* La siguiente celda ejecutará la función ```trino``` y en vista de que el nombre ```ave```no existe en el ámbito global ni tampoco en el ámbito local de la función, se desencadenará un error de tipo ```NameError```."
   ]
  },
  {
   "cell_type": "code",
   "execution_count": 32,
   "metadata": {
    "scrolled": true
   },
   "outputs": [
    {
     "ename": "NameError",
     "evalue": "name 'ave' is not defined",
     "output_type": "error",
     "traceback": [
      "\u001b[0;31m---------------------------------------------------------------------------\u001b[0m",
      "\u001b[0;31mNameError\u001b[0m                                 Traceback (most recent call last)",
      "Input \u001b[0;32mIn [32]\u001b[0m, in \u001b[0;36m<cell line: 1>\u001b[0;34m()\u001b[0m\n\u001b[0;32m----> 1\u001b[0m \u001b[43mtrino\u001b[49m\u001b[43m(\u001b[49m\u001b[43m)\u001b[49m\n",
      "Input \u001b[0;32mIn [30]\u001b[0m, in \u001b[0;36mtrino\u001b[0;34m()\u001b[0m\n\u001b[1;32m      1\u001b[0m \u001b[38;5;28;01mdef\u001b[39;00m \u001b[38;5;21mtrino\u001b[39m():\n\u001b[0;32m----> 2\u001b[0m     \u001b[38;5;28mprint\u001b[39m(\u001b[43mave\u001b[49m \u001b[38;5;241m*\u001b[39m \u001b[38;5;241m3\u001b[39m)\n",
      "\u001b[0;31mNameError\u001b[0m: name 'ave' is not defined"
     ]
    }
   ],
   "source": [
    "trino()"
   ]
  },
  {
   "cell_type": "markdown",
   "metadata": {},
   "source": [
    "* La siguiente celda definirá al objeto ```'pio'```con el nombre ```ave```en el ámbito global."
   ]
  },
  {
   "cell_type": "code",
   "execution_count": 33,
   "metadata": {},
   "outputs": [],
   "source": [
    "ave = 'pio'"
   ]
  },
  {
   "cell_type": "markdown",
   "metadata": {},
   "source": [
    "* Al ejecutar a la función ```trino``` ésta se ejecutará correctamente ya que el nombre ```ave``` existe en el ámbito global."
   ]
  },
  {
   "cell_type": "code",
   "execution_count": 34,
   "metadata": {},
   "outputs": [
    {
     "name": "stdout",
     "output_type": "stream",
     "text": [
      "piopiopio\n"
     ]
    }
   ],
   "source": [
    "trino()"
   ]
  },
  {
   "cell_type": "markdown",
   "metadata": {},
   "source": [
    "**Ejemplo:**\n",
    "\n",
    "* Se creará la función ```multiplica()```, definiendo en el ámbito local de la función a un objeto de tipo ```int``` con el nombre ```factor``` y hará una referencia dicho nombre."
   ]
  },
  {
   "cell_type": "code",
   "execution_count": 35,
   "metadata": {},
   "outputs": [],
   "source": [
    "def multiplica():\n",
    "    factor = 12\n",
    "    print(factor * 5)"
   ]
  },
  {
   "cell_type": "markdown",
   "metadata": {},
   "source": [
    "* Se invocará a la función ```multiplica()```."
   ]
  },
  {
   "cell_type": "code",
   "execution_count": 36,
   "metadata": {},
   "outputs": [
    {
     "name": "stdout",
     "output_type": "stream",
     "text": [
      "60\n"
     ]
    }
   ],
   "source": [
    "multiplica()"
   ]
  },
  {
   "cell_type": "markdown",
   "metadata": {},
   "source": [
    "* Se definirá a un objeto de tipo ```str``` con el nombre ```factor``` en el ámbito global."
   ]
  },
  {
   "cell_type": "code",
   "execution_count": 38,
   "metadata": {},
   "outputs": [],
   "source": [
    "factor = \"factor\""
   ]
  },
  {
   "cell_type": "markdown",
   "metadata": {},
   "source": [
    "* Se invocará nuevamente a la función ```multiplica()```. Esta función utilizará al objeto con nombre ```factor``` de su ámbito local."
   ]
  },
  {
   "cell_type": "code",
   "execution_count": 39,
   "metadata": {},
   "outputs": [
    {
     "name": "stdout",
     "output_type": "stream",
     "text": [
      "60\n"
     ]
    }
   ],
   "source": [
    "multiplica()"
   ]
  },
  {
   "cell_type": "markdown",
   "metadata": {},
   "source": [
    "### Definiendo nombres en el ámbito global con la palabra reservada ```global```.\n",
    "\n",
    "Es posible que una función pueda ligar un objeto al espacio de nombres del ámbito global mediante el uso de la expresión ```global``` con la siguiente sintaxis.\n",
    "\n",
    "```\n",
    "global <nombre>\n",
    "<nombre> = <objeto>\n",
    "```\n",
    "\n",
    "Donde:\n",
    "\n",
    "* ```<nombre>``` es el nombre que se quiere añadir al ámbito global.\n",
    "* ```<objeto>``` es un objeto ligado a ```<nombre>```."
   ]
  },
  {
   "cell_type": "markdown",
   "metadata": {},
   "source": [
    "**Ejemplo:**"
   ]
  },
  {
   "cell_type": "markdown",
   "metadata": {},
   "source": [
    "* La siguiente celda define en el ámbito global al nombre ```minombre``` ligado al objeto ```'Juan'```."
   ]
  },
  {
   "cell_type": "code",
   "execution_count": 40,
   "metadata": {},
   "outputs": [],
   "source": [
    "minombre = \"Juan\""
   ]
  },
  {
   "cell_type": "markdown",
   "metadata": {},
   "source": [
    "* La función ```nombre_global()``` definirá de forma global al objeto ```\"Hola\"``` con nombre ```minombre```. "
   ]
  },
  {
   "cell_type": "code",
   "execution_count": 41,
   "metadata": {},
   "outputs": [],
   "source": [
    "def nombre_global():\n",
    "    global minombre\n",
    "    minombre = \"Hola\""
   ]
  },
  {
   "cell_type": "markdown",
   "metadata": {},
   "source": [
    "* Al ejecutar la función ```nombre_global()```, el nombre ```minombre``` será sustituído por el objeto ```\"Hola\"```."
   ]
  },
  {
   "cell_type": "code",
   "execution_count": 42,
   "metadata": {},
   "outputs": [
    {
     "data": {
      "text/plain": [
       "'Juan'"
      ]
     },
     "execution_count": 42,
     "metadata": {},
     "output_type": "execute_result"
    }
   ],
   "source": [
    "minombre"
   ]
  },
  {
   "cell_type": "code",
   "execution_count": 43,
   "metadata": {},
   "outputs": [],
   "source": [
    "nombre_global()"
   ]
  },
  {
   "cell_type": "code",
   "execution_count": 44,
   "metadata": {},
   "outputs": [
    {
     "data": {
      "text/plain": [
       "'Hola'"
      ]
     },
     "execution_count": 44,
     "metadata": {},
     "output_type": "execute_result"
    }
   ],
   "source": [
    "minombre"
   ]
  },
  {
   "cell_type": "markdown",
   "metadata": {},
   "source": [
    "## Argumentos y parámetros."
   ]
  },
  {
   "cell_type": "markdown",
   "metadata": {},
   "source": [
    "### Argumentos.\n",
    "\n",
    "Las funciones permiten aceptar datos al ser invocadas. A estos datos que se ingresan se les denomina argumentos. \n",
    "\n",
    "```\n",
    "<función>(<argumento 1>, <argumento 2>, ...  <argumento n>)\n",
    "```\n",
    "\n",
    "Donde: \n",
    "\n",
    "* ```<función>``` es el nombre de una función existente.\n",
    "* ```<argumento i>``` es cualquier tipo de objeto."
   ]
  },
  {
   "cell_type": "markdown",
   "metadata": {},
   "source": [
    "### Parámetros.\n",
    "\n",
    "Al ser definidas, las funciones permiten asignar nombres en el ámbito local capaces de recibir argumentos. A estos nombres se les conocen como parámetros. \n",
    "\n",
    "```\n",
    "def <nombre>(<parámetro 1>, <parámetro 2>, ...  <parámetro n>):\n",
    "   ...\n",
    "   ...\n",
    "```\n",
    "\n",
    "Donde: \n",
    "\n",
    "* ```<nommbre>``` es el nombre de la función a definir.\n",
    "* ```<parámetro i>``` es un nombre al que se le asignará un argumento.\n",
    "\n",
    "En Python el número de argumentos ingresados debe corresponder al número de parámetros que se definen. \n",
    "En caso de que no se ingresen los argumentos necesarios, se generará un error de tipo ```TypeError```."
   ]
  },
  {
   "cell_type": "markdown",
   "metadata": {},
   "source": [
    "**Ejemplo:**"
   ]
  },
  {
   "cell_type": "markdown",
   "metadata": {},
   "source": [
    "* La siguiente celda define a la función ```suma()```, la cual a su vez define 2 parámetros:\n",
    "   * ```primero```.\n",
    "   * ```segundo```."
   ]
  },
  {
   "cell_type": "code",
   "execution_count": 45,
   "metadata": {},
   "outputs": [],
   "source": [
    "def suma(primero, segundo):\n",
    "    '''Despliega la suma de dos objetos'''\n",
    "    print(primero + segundo)"
   ]
  },
  {
   "cell_type": "markdown",
   "metadata": {},
   "source": [
    "* La siguiente celda despelgará la documentación del objeto ```suma```. Es importante hacer notar que en la descripción de la función se indican los argumentos definidos."
   ]
  },
  {
   "cell_type": "code",
   "execution_count": 46,
   "metadata": {
    "scrolled": true
   },
   "outputs": [
    {
     "name": "stdout",
     "output_type": "stream",
     "text": [
      "Help on function suma in module __main__:\n",
      "\n",
      "suma(primero, segundo)\n",
      "    Despliega la suma de dos objetos\n",
      "\n"
     ]
    }
   ],
   "source": [
    "help(suma)"
   ]
  },
  {
   "cell_type": "markdown",
   "metadata": {},
   "source": [
    "* La siguiente celda ejecutará a la función ```suma()``` ingresando los argumentos ```12, 5```, de tal forma que:\n",
    "    * Al parámetro  ```primero``` se le asignará el objeto ```12```.\n",
    "    * Al parámetro ```segundo``` se le asignará el objeto ```5```."
   ]
  },
  {
   "cell_type": "code",
   "execution_count": 47,
   "metadata": {
    "scrolled": true
   },
   "outputs": [
    {
     "name": "stdout",
     "output_type": "stream",
     "text": [
      "17\n"
     ]
    }
   ],
   "source": [
    "suma(12, 5)"
   ]
  },
  {
   "cell_type": "markdown",
   "metadata": {},
   "source": [
    "* La siguiente celda ejecutará a la función ```suma()``` ingresando los argumentos ```'Hola, ',  'Mundo.'```. * El primer argumento corresdponderá al primer parámetro. Es decir:\n",
    "    * Al parámetro ```primero``` se le asignará el objeto ```'Hola, '```.\n",
    "    * Al parámetro ```segundo``` se le asignará el objeto ```'Mundo.'```."
   ]
  },
  {
   "cell_type": "code",
   "execution_count": 48,
   "metadata": {},
   "outputs": [
    {
     "name": "stdout",
     "output_type": "stream",
     "text": [
      "Hola, Mundo.\n"
     ]
    }
   ],
   "source": [
    "suma('Hola, ', 'Mundo.')"
   ]
  },
  {
   "cell_type": "markdown",
   "metadata": {},
   "source": [
    "* La siguiente celda ejecutará a la función ```suma()``` sin argumentos. Lo que generará un error de tipo ```TypeError```."
   ]
  },
  {
   "cell_type": "code",
   "execution_count": 49,
   "metadata": {
    "scrolled": true
   },
   "outputs": [
    {
     "ename": "TypeError",
     "evalue": "suma() missing 2 required positional arguments: 'primero' and 'segundo'",
     "output_type": "error",
     "traceback": [
      "\u001b[0;31m---------------------------------------------------------------------------\u001b[0m",
      "\u001b[0;31mTypeError\u001b[0m                                 Traceback (most recent call last)",
      "Input \u001b[0;32mIn [49]\u001b[0m, in \u001b[0;36m<cell line: 1>\u001b[0;34m()\u001b[0m\n\u001b[0;32m----> 1\u001b[0m \u001b[43msuma\u001b[49m\u001b[43m(\u001b[49m\u001b[43m)\u001b[49m\n",
      "\u001b[0;31mTypeError\u001b[0m: suma() missing 2 required positional arguments: 'primero' and 'segundo'"
     ]
    }
   ],
   "source": [
    "suma()"
   ]
  },
  {
   "cell_type": "markdown",
   "metadata": {},
   "source": [
    "* La siguiente celda ejecutará a la función ```suma()``` ingresando sólo 1 argumento. Lo que generará un error de tipo ```TypeError```."
   ]
  },
  {
   "cell_type": "code",
   "execution_count": 50,
   "metadata": {
    "scrolled": true
   },
   "outputs": [
    {
     "ename": "TypeError",
     "evalue": "suma() missing 1 required positional argument: 'segundo'",
     "output_type": "error",
     "traceback": [
      "\u001b[0;31m---------------------------------------------------------------------------\u001b[0m",
      "\u001b[0;31mTypeError\u001b[0m                                 Traceback (most recent call last)",
      "Input \u001b[0;32mIn [50]\u001b[0m, in \u001b[0;36m<cell line: 1>\u001b[0;34m()\u001b[0m\n\u001b[0;32m----> 1\u001b[0m \u001b[43msuma\u001b[49m\u001b[43m(\u001b[49m\u001b[38;5;124;43m'\u001b[39;49m\u001b[38;5;124;43mHola\u001b[39;49m\u001b[38;5;124;43m'\u001b[39;49m\u001b[43m)\u001b[49m\n",
      "\u001b[0;31mTypeError\u001b[0m: suma() missing 1 required positional argument: 'segundo'"
     ]
    }
   ],
   "source": [
    "suma('Hola')"
   ]
  },
  {
   "cell_type": "markdown",
   "metadata": {},
   "source": [
    "* La siguiente celda ejecutará a la función ```suma()``` ingresando 3 argumentos. Lo que generará un error de tipo ```TypeError```."
   ]
  },
  {
   "cell_type": "code",
   "execution_count": 51,
   "metadata": {},
   "outputs": [
    {
     "ename": "TypeError",
     "evalue": "suma() takes 2 positional arguments but 3 were given",
     "output_type": "error",
     "traceback": [
      "\u001b[0;31m---------------------------------------------------------------------------\u001b[0m",
      "\u001b[0;31mTypeError\u001b[0m                                 Traceback (most recent call last)",
      "Input \u001b[0;32mIn [51]\u001b[0m, in \u001b[0;36m<cell line: 1>\u001b[0;34m()\u001b[0m\n\u001b[0;32m----> 1\u001b[0m \u001b[43msuma\u001b[49m\u001b[43m(\u001b[49m\u001b[38;5;124;43m'\u001b[39;49m\u001b[38;5;124;43mHola, \u001b[39;49m\u001b[38;5;124;43m'\u001b[39;49m\u001b[43m,\u001b[49m\u001b[43m \u001b[49m\u001b[38;5;124;43m'\u001b[39;49m\u001b[38;5;124;43mMundo\u001b[39;49m\u001b[38;5;124;43m'\u001b[39;49m\u001b[43m,\u001b[49m\u001b[43m \u001b[49m\u001b[38;5;124;43m'\u001b[39;49m\u001b[38;5;124;43m.\u001b[39;49m\u001b[38;5;124;43m'\u001b[39;49m\u001b[43m)\u001b[49m\n",
      "\u001b[0;31mTypeError\u001b[0m: suma() takes 2 positional arguments but 3 were given"
     ]
    }
   ],
   "source": [
    "suma('Hola, ', 'Mundo', '.')"
   ]
  },
  {
   "cell_type": "markdown",
   "metadata": {},
   "source": [
    "### Parámetros con argumentos por defecto.\n",
    "\n",
    "Es posible asignar valores por defecto a cada parámetro definido en una función mediante el operado de asignación ```=```.\n",
    "\n",
    "* Si a todos los parámetros se les asigna un valor, entonces no es necesario ingresar argumentos al invocar la función, ya que dichos valores serán utilizados. Los argumentos que se ingresen se irán sustituyendo de izquierda a derecha.\n",
    "\n",
    "* Si al definir una función se asignaran argumentos por defecto a sólo algunos parámetros, dichos argumentos se deben de dejar al principio de la sucesión de parámetros. De no ser así, se generará un error de tipo ```SyntaxError```.\n",
    "\n",
    "```\n",
    "def <nombre>(<parm 1>=<arg 1>, <parm 2>=<arg 2>, ...  <parm n>=<arg n>):\n",
    "   ...\n",
    "   ...\n",
    "```\n",
    "\n",
    "Donde: \n",
    "\n",
    "* ```<nombre>``` es el nombre de la función a definir.\n",
    "* ```<parm i>``` es un nombre del parámetro al que se le asignará un argumento.\n",
    "* ```<arg i>``` es el objeto que se le asignará por defecto al parámetro."
   ]
  },
  {
   "cell_type": "markdown",
   "metadata": {},
   "source": [
    "**Ejemplo:**"
   ]
  },
  {
   "cell_type": "markdown",
   "metadata": {},
   "source": [
    "La función ```suma()``` define los argumentos:\n",
    "* ```primero=1```\n",
    "* ```segundo=3```"
   ]
  },
  {
   "cell_type": "code",
   "execution_count": 52,
   "metadata": {},
   "outputs": [],
   "source": [
    "def suma(primero=1, segundo=3):\n",
    "    '''Despliega la suma de dos objetos'''\n",
    "    print(primero + segundo)"
   ]
  },
  {
   "cell_type": "markdown",
   "metadata": {},
   "source": [
    "* La siguiente celda despelgará la documentación del objeto ```suma```. En la descripción del objeto se indican los parámetros con los argumentos por defecto."
   ]
  },
  {
   "cell_type": "code",
   "execution_count": 53,
   "metadata": {},
   "outputs": [
    {
     "name": "stdout",
     "output_type": "stream",
     "text": [
      "Help on function suma in module __main__:\n",
      "\n",
      "suma(primero=1, segundo=3)\n",
      "    Despliega la suma de dos objetos\n",
      "\n"
     ]
    }
   ],
   "source": [
    "help(suma)"
   ]
  },
  {
   "cell_type": "markdown",
   "metadata": {},
   "source": [
    "* La siguiente celda ejecutará a la función ```suma()``` sin argumentos, por lo que se usarán los valores por defecto. "
   ]
  },
  {
   "cell_type": "code",
   "execution_count": 54,
   "metadata": {},
   "outputs": [
    {
     "name": "stdout",
     "output_type": "stream",
     "text": [
      "4\n"
     ]
    }
   ],
   "source": [
    "suma()"
   ]
  },
  {
   "cell_type": "markdown",
   "metadata": {},
   "source": [
    "* La siguiente celda ejecutará a la función ```suma()``` con un solo argumento igual a ```2```. Este argumento será ligado al parámetro ```primero```."
   ]
  },
  {
   "cell_type": "code",
   "execution_count": 55,
   "metadata": {},
   "outputs": [
    {
     "name": "stdout",
     "output_type": "stream",
     "text": [
      "5\n"
     ]
    }
   ],
   "source": [
    "suma(2)"
   ]
  },
  {
   "cell_type": "markdown",
   "metadata": {},
   "source": [
    "* La siguiente celda ejecutará a la función ```suma()``` con dos argumentos."
   ]
  },
  {
   "cell_type": "code",
   "execution_count": 56,
   "metadata": {},
   "outputs": [
    {
     "name": "stdout",
     "output_type": "stream",
     "text": [
      "74.4\n"
     ]
    }
   ],
   "source": [
    "suma(23, 51.4)"
   ]
  },
  {
   "cell_type": "markdown",
   "metadata": {},
   "source": [
    "**Ejemplo:**"
   ]
  },
  {
   "cell_type": "markdown",
   "metadata": {},
   "source": [
    "* La siguiente celda tratará de definir a la función ```suma()```, definiendo un parámetro con argumento por defecto al final de la sucesión de parámetros ```segundo=3```."
   ]
  },
  {
   "cell_type": "code",
   "execution_count": 57,
   "metadata": {},
   "outputs": [],
   "source": [
    "def suma(primero, segundo=3):\n",
    "    '''Despliega la suma de dos objetos'''\n",
    "    print(primero + segundo)"
   ]
  },
  {
   "cell_type": "markdown",
   "metadata": {},
   "source": [
    "* La siguiente celda ejecutará función ```suma()``` sin argumentos y se desencadenará un error de tipo ```TyepeError```. Cabe hacer notar que el mensaje de error indica que hace falta solo un argumento."
   ]
  },
  {
   "cell_type": "code",
   "execution_count": 58,
   "metadata": {
    "scrolled": true
   },
   "outputs": [
    {
     "ename": "TypeError",
     "evalue": "suma() missing 1 required positional argument: 'primero'",
     "output_type": "error",
     "traceback": [
      "\u001b[0;31m---------------------------------------------------------------------------\u001b[0m",
      "\u001b[0;31mTypeError\u001b[0m                                 Traceback (most recent call last)",
      "Input \u001b[0;32mIn [58]\u001b[0m, in \u001b[0;36m<cell line: 1>\u001b[0;34m()\u001b[0m\n\u001b[0;32m----> 1\u001b[0m \u001b[43msuma\u001b[49m\u001b[43m(\u001b[49m\u001b[43m)\u001b[49m\n",
      "\u001b[0;31mTypeError\u001b[0m: suma() missing 1 required positional argument: 'primero'"
     ]
    }
   ],
   "source": [
    "suma()"
   ]
  },
  {
   "cell_type": "markdown",
   "metadata": {},
   "source": [
    "* La siguiente celda ejecutará función ```suma()``` con un argumento, el cual será ligado al parámetro ```primero```."
   ]
  },
  {
   "cell_type": "code",
   "execution_count": 59,
   "metadata": {},
   "outputs": [
    {
     "name": "stdout",
     "output_type": "stream",
     "text": [
      "5\n"
     ]
    }
   ],
   "source": [
    "suma(2)"
   ]
  },
  {
   "cell_type": "markdown",
   "metadata": {},
   "source": [
    "* La siguiente celda ejecutará función ```suma()``` con dos argumentos."
   ]
  },
  {
   "cell_type": "code",
   "execution_count": 60,
   "metadata": {},
   "outputs": [
    {
     "name": "stdout",
     "output_type": "stream",
     "text": [
      "243\n"
     ]
    }
   ],
   "source": [
    "suma(\"2\", \"43\")"
   ]
  },
  {
   "cell_type": "markdown",
   "metadata": {},
   "source": [
    "* La siguiente celda intentará definir en la función ```suma()``` al argumento ```primero=1``` y al parámetro ```segundo``` sin argumento por defecto. Esto provocará un error de tipo ```SyntaxError```."
   ]
  },
  {
   "cell_type": "code",
   "execution_count": 61,
   "metadata": {
    "scrolled": false
   },
   "outputs": [
    {
     "ename": "SyntaxError",
     "evalue": "non-default argument follows default argument (496530456.py, line 1)",
     "output_type": "error",
     "traceback": [
      "\u001b[0;36m  Input \u001b[0;32mIn [61]\u001b[0;36m\u001b[0m\n\u001b[0;31m    def suma(primero=1, segundo):\u001b[0m\n\u001b[0m                        ^\u001b[0m\n\u001b[0;31mSyntaxError\u001b[0m\u001b[0;31m:\u001b[0m non-default argument follows default argument\n"
     ]
    }
   ],
   "source": [
    "def suma(primero=1, segundo):\n",
    "    '''Despliega la suma de dos objetos'''\n",
    "    print(primero + segundo)"
   ]
  },
  {
   "cell_type": "markdown",
   "metadata": {},
   "source": [
    "* La siguiente definición de la función ```suma()``` es la adecuada."
   ]
  },
  {
   "cell_type": "code",
   "execution_count": 62,
   "metadata": {},
   "outputs": [],
   "source": [
    "def suma(segundo, primero=1):\n",
    "    '''Despliega la suma de dos objetos'''\n",
    "    print(primero + segundo)"
   ]
  },
  {
   "cell_type": "markdown",
   "metadata": {},
   "source": [
    "### Captura de varios argumentos en un parámetro de tipo ```tuple``` (```*args```).\n",
    "\n",
    "Es posible definir un parámetro que acepte un número indeterminado de argumentos y que éstos queden guardados dentro de un objeto tipo ```tuple```. Para esto, basta preceder al nombre del parámetro con un solo asterisco ```*```.\n",
    "```\n",
    "def <nombre función>(<parámetro 1>, <parámetro 2>, ... <parámetro n>, *<parámetro múltiple>) \n",
    "```\n",
    "\n",
    "Donde:\n",
    "\n",
    "* ```<parámetro i>``` son parámetros a los que se les asigna un argumento.\n",
    "* ```<parámetro múltiple>``` es un parámetro que es capaz de recibir cualquier número de argumentos y corresponde a un objeto de tipo  ```tuple```.\n",
    "\n",
    "El parámetro que recibe más de un argumento debe definirse al final de la lista de parámetros."
   ]
  },
  {
   "cell_type": "markdown",
   "metadata": {},
   "source": [
    "**Ejemplo:**"
   ]
  },
  {
   "cell_type": "markdown",
   "metadata": {},
   "source": [
    "* La siguiente celda definirá la función ```promedio()```, incluyendo al parámetro ```*muestras```.\n",
    "   * Se despelgará el contenido del parámetro ```muestras```.\n",
    "   * Se realizarán algunas operaciones con las funciones ```sum()``` y ```len()``` usando al parámetro ```muestra```."
   ]
  },
  {
   "cell_type": "code",
   "execution_count": 63,
   "metadata": {},
   "outputs": [],
   "source": [
    "def promedio(*muestras):\n",
    "    '''Función que calcula el promedio a partir de un parámetro al que se \n",
    "    ingresa un número arbitrario de argumentos.'''\n",
    "    print('Muestras:', muestras)\n",
    "    '''Calcula el promedio de la muestra correspondiente a \n",
    "    todos los parámetros ingresados.'''\n",
    "    promedio = sum(muestras)/len(muestras)\n",
    "    print('El promedio de la muestra de %d elementos es %.3f.' %(len(muestras), promedio))"
   ]
  },
  {
   "cell_type": "markdown",
   "metadata": {},
   "source": [
    "* La siguiente celda ejecutará a la función ```promedio()``` con 7 argumentos, los cuales serán asignados como elementos de un objeto de tipo ```tuple``` al parámetro ```muestras``` en el ámbito de la función ```promedio()``` ."
   ]
  },
  {
   "cell_type": "code",
   "execution_count": 64,
   "metadata": {},
   "outputs": [
    {
     "name": "stdout",
     "output_type": "stream",
     "text": [
      "Muestras: (1, 3, 5, 8, 11, 24, 90, 29)\n",
      "El promedio de la muestra de 8 elementos es 21.375.\n"
     ]
    }
   ],
   "source": [
    "promedio(1, 3, 5, 8, 11, 24, 90, 29)"
   ]
  },
  {
   "cell_type": "markdown",
   "metadata": {},
   "source": [
    "* La siguiente celda ejecutará a la función ```promedio()``` con 3 argumentos, los cuales serán asignados como elementos de un objeto de tipo ```tuple``` al parámetro ```muestras``` en el ámbito de la función ```promedio()``` ."
   ]
  },
  {
   "cell_type": "code",
   "execution_count": 65,
   "metadata": {},
   "outputs": [
    {
     "name": "stdout",
     "output_type": "stream",
     "text": [
      "Muestras: (14, 38, 1)\n",
      "El promedio de la muestra de 3 elementos es 17.667.\n"
     ]
    }
   ],
   "source": [
    "promedio(14, 38, 1)"
   ]
  },
  {
   "cell_type": "markdown",
   "metadata": {},
   "source": [
    "**Ejemplo:**"
   ]
  },
  {
   "cell_type": "markdown",
   "metadata": {},
   "source": [
    "* La siguiente celda definirá la función ```promedio()```, incluyendo los parámetros ```titulo, *muestras```.\n",
    "   * Se realizarán algunas operaciones con las funciones ```sum()``` y ```len()``` usando al parámetro ```muestra```."
   ]
  },
  {
   "cell_type": "code",
   "execution_count": 66,
   "metadata": {},
   "outputs": [],
   "source": [
    "def promedio(titulo, *muestras):\n",
    "    '''Función que calcula el promedio a partir de un parámetro al que se \n",
    "    ingresa un número arbitrario de argumentos. El primer argumneto será usado\n",
    "    como título.'''\n",
    "    promedio = sum(muestras)/len(muestras)\n",
    "    print(titulo)\n",
    "    print('El promedio de la muestra de %d elementos es %.3f.' %(len(muestras), promedio))"
   ]
  },
  {
   "cell_type": "markdown",
   "metadata": {},
   "source": [
    "* La siguiente celda ejecutará la función ```promedio()``` ingresando la secuencia de argumentos ```'Conteo de abejas en campo.', 34, 45, 61, 23, 47, 41, 52```.\n",
    "    * Al parámetro ```titulo``` se le asignará el objeto ```'Conteo de abejas en campo.'```.\n",
    "    * Al parámetro ```muestras``` se le asignará el objeto  ```(34, 45, 61, 23, 47, 41, 52)```."
   ]
  },
  {
   "cell_type": "code",
   "execution_count": 67,
   "metadata": {},
   "outputs": [
    {
     "name": "stdout",
     "output_type": "stream",
     "text": [
      "Conteo de abejas en campo.\n",
      "El promedio de la muestra de 7 elementos es 43.286.\n"
     ]
    }
   ],
   "source": [
    "promedio('Conteo de abejas en campo.',34, 45, 61, 23, 47, 41, 52) "
   ]
  },
  {
   "cell_type": "markdown",
   "metadata": {},
   "source": [
    "* La siguiente celda ejecutará la función ```promedio()``` ingresando la secuencia de argumentos ```1, 3, 5, 8, 11, 24, 90, 29```.\n",
    "    * Al parámetro ```titulo``` se le asignará el objeto ```1```.\n",
    "    * Al parámetro ```muestras``` se le asignará el objeto  ```(3, 5, 8, 11, 24, 90, 29)```."
   ]
  },
  {
   "cell_type": "code",
   "execution_count": 68,
   "metadata": {},
   "outputs": [
    {
     "name": "stdout",
     "output_type": "stream",
     "text": [
      "1\n",
      "El promedio de la muestra de 7 elementos es 24.286.\n"
     ]
    }
   ],
   "source": [
    "promedio(1, 3, 5, 8, 11, 24, 90, 29)"
   ]
  },
  {
   "cell_type": "markdown",
   "metadata": {},
   "source": [
    "### Captura de varios argumentos en un parámetro de tipo ```dict``` (```**kwargs``` ).\n",
    "\n",
    "Es posible definir los parámetros y valores que se ingresan a una función mediante el uso de la sintaxis ```<clave>=<valor>``` y que estos parámetros queden almacenados en un objeto tipo ```dict```. Para esto, basta preceder al nombre del parámetro con doble asterisco ```**```.\n",
    "\n",
    "```\n",
    "def <nombre función>(<parámetro 1>, <parámetro 2>, ... <parámetro n>, **<parámetro múltiple>) \n",
    "```\n",
    "\n",
    "Donde:\n",
    "\n",
    "* ```<parámetro i>``` son parámetros a los que se les asigna un argumento.\n",
    "* ```<parámetro múltiple>``` es un parámetro que es capaz de recibir cualquier número de argumentos y corresponde a un objeto de tipo  ```dict```."
   ]
  },
  {
   "cell_type": "markdown",
   "metadata": {},
   "source": [
    "**Ejemplo:**"
   ]
  },
  {
   "cell_type": "markdown",
   "metadata": {},
   "source": [
    "* La función ```superficie()``` define al paramentro ```**dato```.\n",
    "     * Se calculará ```superficie``` dependiendo del valor del elemento ```dato[\"tipo\"]```.\n",
    "     * Se hace referencia a:\n",
    "         * ```dato[\"base\"]``` y ```dato[\"altura\"]``` en caso de que ```dato[\"tipo\"]``` sea ```'Rectángulo'``` o ```'Triángulo'```.\n",
    "         * ```dato[\"radio\"]```  en caso de que ```dato[\"tipo\"]``` sea ```'Círculo'```.\n",
    "      * En caso de que ```dato[\"tipo\"]``` sea distinto a ```'Rectángulo'```, ```'Triángulo'``` o . ```'Círculo'```, ```superficie``` será igual a ```'indefinido'```."
   ]
  },
  {
   "cell_type": "code",
   "execution_count": 69,
   "metadata": {},
   "outputs": [],
   "source": [
    "def superficie(**dato):\n",
    "    '''Calcula la superficie de una figura geométrica si los parámetros  ingresados\n",
    "       coinciden.'''\n",
    "    print(\"Argumentos: \", dato)\n",
    "    if dato[\"tipo\"] == \"Rectángulo\":\n",
    "        superficie = float(dato[\"base\"]) * float(dato[\"altura\"])\n",
    "    elif dato[\"tipo\"] == \"Triángulo\":\n",
    "        superficie = float(dato[\"base\"]) * float(dato[\"altura\"]) / 2\n",
    "    elif dato[\"tipo\"] == \"Círculo\":\n",
    "        superficie = float(dato[\"radio\"]) ** 2 * 3.14259265\n",
    "    else:\n",
    "        print(\"No puedo calcular la superficie.\")\n",
    "        superficie = \"indefinido\"\n",
    "    print(\"La superficie del %s es %s.\" % (dato[\"tipo\"].lower(), superficie))"
   ]
  },
  {
   "cell_type": "markdown",
   "metadata": {},
   "source": [
    "* La siguiente celda ejecutará la función ```superficie()``` ingresando los argumentos ```base=22```, ```altura=30``` y ```tipo=rectángulo```.\n",
    "* La función ```superficie()``` asignará al parámetro ```dato``` el objeto ```{'base':22, 'altura':30, 'tipo':'Rectángulo'}```."
   ]
  },
  {
   "cell_type": "code",
   "execution_count": 70,
   "metadata": {},
   "outputs": [
    {
     "name": "stdout",
     "output_type": "stream",
     "text": [
      "Argumentos:  {'base': 22, 'altura': 30, 'tipo': 'Rectángulo'}\n",
      "La superficie del rectángulo es 660.0.\n"
     ]
    }
   ],
   "source": [
    "superficie(base=22, altura=30, tipo=\"Rectángulo\")"
   ]
  },
  {
   "cell_type": "markdown",
   "metadata": {},
   "source": [
    "* La siguiente celda ejecutará la función ```superficie()``` ingresando los argumentos ```tipo=\"Círculo\"``` y ```radio=35```.\n",
    "* La función ```superficie()``` asignará al parámetro ```dato``` el objeto ```{'tipo':'Círculo', 'radio':35}```."
   ]
  },
  {
   "cell_type": "code",
   "execution_count": 71,
   "metadata": {
    "scrolled": true
   },
   "outputs": [
    {
     "name": "stdout",
     "output_type": "stream",
     "text": [
      "Argumentos:  {'tipo': 'Círculo', 'radio': 35}\n",
      "La superficie del círculo es 3849.67599625.\n"
     ]
    }
   ],
   "source": [
    "superficie(tipo=\"Círculo\", radio = 35)"
   ]
  },
  {
   "cell_type": "markdown",
   "metadata": {},
   "source": [
    "* La siguiente celda ejecutará la función ```superficie()``` ingresando los argumentos ```base=22```, ```altura=30``` y ```tipo=\"Rombo\"```.\n",
    "* La función ```superficie()``` asignará al parámetro ```dato``` el objeto ```{'base':22, 'altura':30, 'tipo':'Rombo'}```."
   ]
  },
  {
   "cell_type": "code",
   "execution_count": 72,
   "metadata": {},
   "outputs": [
    {
     "name": "stdout",
     "output_type": "stream",
     "text": [
      "Argumentos:  {'base': 22, 'altura': 30, 'tipo': 'Rombo'}\n",
      "No puedo calcular la superficie.\n",
      "La superficie del rombo es indefinido.\n"
     ]
    }
   ],
   "source": [
    "superficie(base=22, altura=30, tipo=\"Rombo\")"
   ]
  },
  {
   "cell_type": "markdown",
   "metadata": {},
   "source": [
    "* La siguiente celda ejecutará la función ```superficie()``` ingresando los argumentos ```base=22```, ```altura=30``` y ```tipo=\"Rectángulo\", radio=6```.\n",
    "* La función ```superficie()``` asignará al parámetro ```dato``` el objeto ```{'base':22, 'altura':30, 'tipo':'Rectángulo', 'radio':6}```."
   ]
  },
  {
   "cell_type": "code",
   "execution_count": 73,
   "metadata": {
    "scrolled": false
   },
   "outputs": [
    {
     "name": "stdout",
     "output_type": "stream",
     "text": [
      "Argumentos:  {'base': 22, 'altura': 30, 'tipo': 'Rectángulo', 'radio': 6}\n",
      "La superficie del rectángulo es 660.0.\n"
     ]
    }
   ],
   "source": [
    "superficie(base=22, altura=30, tipo=\"Rectángulo\", radio=6)"
   ]
  },
  {
   "cell_type": "markdown",
   "metadata": {},
   "source": [
    "* La siguiente celda ejecutará la función ```superficie()``` ingresando los argumentos ```base=22```, ```altura=30``` y tipo=\"Círculo\".\n",
    "* La función desencadenará un error de tipo ```KeyError``` debido a que espera que el parámetro ```dato```contenga un elemento con clave ```radio```."
   ]
  },
  {
   "cell_type": "code",
   "execution_count": 74,
   "metadata": {},
   "outputs": [
    {
     "name": "stdout",
     "output_type": "stream",
     "text": [
      "Argumentos:  {'base': 22, 'altura': 30, 'tipo': 'Círculo'}\n"
     ]
    },
    {
     "ename": "KeyError",
     "evalue": "'radio'",
     "output_type": "error",
     "traceback": [
      "\u001b[0;31m---------------------------------------------------------------------------\u001b[0m",
      "\u001b[0;31mKeyError\u001b[0m                                  Traceback (most recent call last)",
      "Input \u001b[0;32mIn [74]\u001b[0m, in \u001b[0;36m<cell line: 1>\u001b[0;34m()\u001b[0m\n\u001b[0;32m----> 1\u001b[0m \u001b[43msuperficie\u001b[49m\u001b[43m(\u001b[49m\u001b[43mbase\u001b[49m\u001b[38;5;241;43m=\u001b[39;49m\u001b[38;5;241;43m22\u001b[39;49m\u001b[43m,\u001b[49m\u001b[43m \u001b[49m\u001b[43maltura\u001b[49m\u001b[38;5;241;43m=\u001b[39;49m\u001b[38;5;241;43m30\u001b[39;49m\u001b[43m,\u001b[49m\u001b[43m \u001b[49m\u001b[43mtipo\u001b[49m\u001b[38;5;241;43m=\u001b[39;49m\u001b[38;5;124;43m\"\u001b[39;49m\u001b[38;5;124;43mCírculo\u001b[39;49m\u001b[38;5;124;43m\"\u001b[39;49m\u001b[43m)\u001b[49m\n",
      "Input \u001b[0;32mIn [69]\u001b[0m, in \u001b[0;36msuperficie\u001b[0;34m(**dato)\u001b[0m\n\u001b[1;32m      8\u001b[0m     superficie \u001b[38;5;241m=\u001b[39m \u001b[38;5;28mfloat\u001b[39m(dato[\u001b[38;5;124m\"\u001b[39m\u001b[38;5;124mbase\u001b[39m\u001b[38;5;124m\"\u001b[39m]) \u001b[38;5;241m*\u001b[39m \u001b[38;5;28mfloat\u001b[39m(dato[\u001b[38;5;124m\"\u001b[39m\u001b[38;5;124maltura\u001b[39m\u001b[38;5;124m\"\u001b[39m]) \u001b[38;5;241m/\u001b[39m \u001b[38;5;241m2\u001b[39m\n\u001b[1;32m      9\u001b[0m \u001b[38;5;28;01melif\u001b[39;00m dato[\u001b[38;5;124m\"\u001b[39m\u001b[38;5;124mtipo\u001b[39m\u001b[38;5;124m\"\u001b[39m] \u001b[38;5;241m==\u001b[39m \u001b[38;5;124m\"\u001b[39m\u001b[38;5;124mCírculo\u001b[39m\u001b[38;5;124m\"\u001b[39m:\n\u001b[0;32m---> 10\u001b[0m     superficie \u001b[38;5;241m=\u001b[39m \u001b[38;5;28mfloat\u001b[39m(\u001b[43mdato\u001b[49m\u001b[43m[\u001b[49m\u001b[38;5;124;43m\"\u001b[39;49m\u001b[38;5;124;43mradio\u001b[39;49m\u001b[38;5;124;43m\"\u001b[39;49m\u001b[43m]\u001b[49m) \u001b[38;5;241m*\u001b[39m\u001b[38;5;241m*\u001b[39m \u001b[38;5;241m2\u001b[39m \u001b[38;5;241m*\u001b[39m \u001b[38;5;241m3.14259265\u001b[39m\n\u001b[1;32m     11\u001b[0m \u001b[38;5;28;01melse\u001b[39;00m:\n\u001b[1;32m     12\u001b[0m     \u001b[38;5;28mprint\u001b[39m(\u001b[38;5;124m\"\u001b[39m\u001b[38;5;124mNo puedo calcular la superficie.\u001b[39m\u001b[38;5;124m\"\u001b[39m)\n",
      "\u001b[0;31mKeyError\u001b[0m: 'radio'"
     ]
    }
   ],
   "source": [
    "superficie(base=22, altura=30, tipo=\"Círculo\")"
   ]
  },
  {
   "cell_type": "markdown",
   "metadata": {},
   "source": [
    "## Funciones que regresan valores y cerraduras.\n",
    "\n",
    "Todas las funciones regresan un valor al finalizar su ejecución al cual se le puede asignar un nombre si se desea conservarlo. \n",
    "Las funciones regresan el valor ```None``` por defecto."
   ]
  },
  {
   "cell_type": "markdown",
   "metadata": {},
   "source": [
    "**Ejemplo:**"
   ]
  },
  {
   "cell_type": "markdown",
   "metadata": {},
   "source": [
    "* La siguiente celda definirá a la función ```nada()``` la cual no realiza ninguna acción."
   ]
  },
  {
   "cell_type": "code",
   "execution_count": 75,
   "metadata": {},
   "outputs": [],
   "source": [
    "def nada():\n",
    "    pass"
   ]
  },
  {
   "cell_type": "markdown",
   "metadata": {},
   "source": [
    "* La siguiente celda le asignará el nombre ```resultado``` al objeto que regresa la función ```nada()```."
   ]
  },
  {
   "cell_type": "code",
   "execution_count": 76,
   "metadata": {},
   "outputs": [],
   "source": [
    "resultado = nada()"
   ]
  },
  {
   "cell_type": "markdown",
   "metadata": {},
   "source": [
    "* La siguiente celda desplegará el objeto ligado a ```resultado```, el cual es ```None```."
   ]
  },
  {
   "cell_type": "code",
   "execution_count": 77,
   "metadata": {},
   "outputs": [
    {
     "name": "stdout",
     "output_type": "stream",
     "text": [
      "None\n"
     ]
    }
   ],
   "source": [
    "print(resultado)"
   ]
  },
  {
   "cell_type": "markdown",
   "metadata": {
    "collapsed": true
   },
   "source": [
    "### La palabra reservada  ```return```.\n",
    "\n",
    "La expresión ```return``` se utiliza para regresar uno o varios objetos específicos a su ámbito superior y acto seguido dar por terminada la ejecución de la función de forma similar a ```break```. \n",
    "\n",
    "Pueden incluirse varios ```return``` en una función, pero sólo se ejecutará la primera que se encuentre. La sintaxis es la siguiente:\n",
    "\n",
    "```\n",
    "return <objeto 1>, <objeto 2>, ..., <objeto n> \n",
    "```\n",
    "\n",
    "Donde:\n",
    "\n",
    "* ```<objeto i>``` puede ser cualquier objeto de Python.\n",
    "\n",
    "En el caso de que ```return``` regrese una secuencia de objetos, estos estarán contenidos en un objeto de tipo ```tuple```."
   ]
  },
  {
   "cell_type": "markdown",
   "metadata": {},
   "source": [
    "**Ejemplo:**"
   ]
  },
  {
   "cell_type": "markdown",
   "metadata": {},
   "source": [
    "* La siguiente celda define a la función ```regresapromedio()```, la cual regresará el resultado de varias expresiones que usan el parámetro ```muestras```."
   ]
  },
  {
   "cell_type": "code",
   "execution_count": 78,
   "metadata": {},
   "outputs": [],
   "source": [
    "def regresa_promedio(*muestras):\n",
    "    return len(muestras), sum(muestras) / len(muestras)"
   ]
  },
  {
   "cell_type": "markdown",
   "metadata": {},
   "source": [
    "* La siguiente celda ejecutará a la función ```regresa_promedio()``` ingresando ```1, 3, 5, 8, 11, 24, 90, 29``` como argumentos. La función regresará ```(8, 21.375)```."
   ]
  },
  {
   "cell_type": "code",
   "execution_count": 79,
   "metadata": {
    "scrolled": true
   },
   "outputs": [
    {
     "data": {
      "text/plain": [
       "(8, 21.375)"
      ]
     },
     "execution_count": 79,
     "metadata": {},
     "output_type": "execute_result"
    }
   ],
   "source": [
    "regresa_promedio(1, 3, 5, 8, 11, 24, 90, 29)"
   ]
  },
  {
   "cell_type": "markdown",
   "metadata": {},
   "source": [
    "* La siguiente celda ejecutará a la función ```regresapromedio()``` ingresando ```1, 3, 5, 8, 11, 24, 90, 29``` como argumentos. El objeto que regrese la función será asignado al nombre ```media```."
   ]
  },
  {
   "cell_type": "code",
   "execution_count": 80,
   "metadata": {},
   "outputs": [],
   "source": [
    "media = regresa_promedio(1, 3, 5, 8, 11, 24, 90, 29)"
   ]
  },
  {
   "cell_type": "markdown",
   "metadata": {},
   "source": [
    "* El nombre ```media``` corresponde al objeto ```(8, 21.375)```."
   ]
  },
  {
   "cell_type": "code",
   "execution_count": 81,
   "metadata": {},
   "outputs": [
    {
     "data": {
      "text/plain": [
       "(8, 21.375)"
      ]
     },
     "execution_count": 81,
     "metadata": {},
     "output_type": "execute_result"
    }
   ],
   "source": [
    "media"
   ]
  },
  {
   "cell_type": "code",
   "execution_count": 82,
   "metadata": {},
   "outputs": [
    {
     "name": "stdout",
     "output_type": "stream",
     "text": [
      "El promedio de la muestra de 8 elementos es 21.375.\n"
     ]
    }
   ],
   "source": [
    "print('El promedio de la muestra de %d elementos es %.3f.' %(media))"
   ]
  },
  {
   "cell_type": "markdown",
   "metadata": {
    "collapsed": true
   },
   "source": [
    "### Cerraduras.\n",
    "\n",
    "El valor que regresa una función se conoce como \"cerradura\" o \"closure\" y tiene características muy particulares ya que se encuentra justo entre el ámbito local de una función y su ámbito superior."
   ]
  },
  {
   "cell_type": "markdown",
   "metadata": {},
   "source": [
    "<p style=\"text-align: center\"><a rel=\"license\" href=\"http://creativecommons.org/licenses/by/4.0/\"><img alt=\"Licencia Creative Commons\" style=\"border-width:0\" src=\"https://i.creativecommons.org/l/by/4.0/80x15.png\" /></a><br />Esta obra está bajo una <a rel=\"license\" href=\"http://creativecommons.org/licenses/by/4.0/\">Licencia Creative Commons Atribución 4.0 Internacional</a>.</p>\n",
    "<p style=\"text-align: center\">&copy; José Luis Chiquete Valdivieso. 2020.</p>"
   ]
  }
 ],
 "metadata": {
  "kernelspec": {
   "display_name": "Python 3 (ipykernel)",
   "language": "python",
   "name": "python3"
  },
  "language_info": {
   "codemirror_mode": {
    "name": "ipython",
    "version": 3
   },
   "file_extension": ".py",
   "mimetype": "text/x-python",
   "name": "python",
   "nbconvert_exporter": "python",
   "pygments_lexer": "ipython3",
   "version": "3.10.4"
  }
 },
 "nbformat": 4,
 "nbformat_minor": 2
}
