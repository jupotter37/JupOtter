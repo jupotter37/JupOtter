{
 "cells": [
  {
   "cell_type": "markdown",
   "metadata": {},
   "source": [
    "# Number of atomic orbitals for molecules in the SPICE dataset\n",
    "\n",
    "This notebook computes a histogram of the number of atomic orbitals for the molecules in the SPICE data set using the `def2-TZVPPD` basis set.\n",
    "\n",
    "To reduce the computation time, one out of every ten molecules is sampled from the dataset. The computation is then distributed over a number of parallel processes.\n",
    "\n",
    "For each molecule, only the first conformation is used out of the several listed in the dataset.\n",
    "\n",
    "NOTE: the notebook expects the file `SPICE-1.1.4.hdf5` under `notebooks`. The dataset can be downloaded with the following command:\n",
    "```\n",
    "wget https://zenodo.org/record/8222043/files/SPICE-1.1.4.hdf5?download=1\n",
    "```\n",
    "Be patient as it is a 16GB file."
   ]
  },
  {
   "cell_type": "code",
   "execution_count": 1,
   "metadata": {},
   "outputs": [
    {
     "name": "stdout",
     "output_type": "stream",
     "text": [
      "Requirement already satisfied: h5py in /nethome/paolot/workspace/dev/d4ft-ipu/popsdk-venvs/poplar_sdk-ubuntu_20_04-3.2.0+1277-7cd8ade3cd/3.2.0+1277_poptorch/lib/python3.8/site-packages (3.9.0)\n",
      "Requirement already satisfied: mendeleev in /nethome/paolot/workspace/dev/d4ft-ipu/popsdk-venvs/poplar_sdk-ubuntu_20_04-3.2.0+1277-7cd8ade3cd/3.2.0+1277_poptorch/lib/python3.8/site-packages (0.14.0)\n",
      "Requirement already satisfied: numpy>=1.17.3 in /nethome/paolot/workspace/dev/d4ft-ipu/popsdk-venvs/poplar_sdk-ubuntu_20_04-3.2.0+1277-7cd8ade3cd/3.2.0+1277_poptorch/lib/python3.8/site-packages (from h5py) (1.24.4)\n",
      "Requirement already satisfied: Pygments<3.0.0,>=2.8.0 in /nethome/paolot/workspace/dev/d4ft-ipu/popsdk-venvs/poplar_sdk-ubuntu_20_04-3.2.0+1277-7cd8ade3cd/3.2.0+1277_poptorch/lib/python3.8/site-packages (from mendeleev) (2.16.1)\n",
      "Requirement already satisfied: SQLAlchemy>=1.4.0 in /nethome/paolot/workspace/dev/d4ft-ipu/popsdk-venvs/poplar_sdk-ubuntu_20_04-3.2.0+1277-7cd8ade3cd/3.2.0+1277_poptorch/lib/python3.8/site-packages (from mendeleev) (2.0.21)\n",
      "Requirement already satisfied: colorama<0.5.0,>=0.4.4 in /nethome/paolot/workspace/dev/d4ft-ipu/popsdk-venvs/poplar_sdk-ubuntu_20_04-3.2.0+1277-7cd8ade3cd/3.2.0+1277_poptorch/lib/python3.8/site-packages (from mendeleev) (0.4.6)\n",
      "Requirement already satisfied: pandas>=1.0.0 in /nethome/paolot/workspace/dev/d4ft-ipu/popsdk-venvs/poplar_sdk-ubuntu_20_04-3.2.0+1277-7cd8ade3cd/3.2.0+1277_poptorch/lib/python3.8/site-packages (from mendeleev) (1.5.2)\n",
      "Requirement already satisfied: pyfiglet<0.9,>=0.8.post1 in /nethome/paolot/workspace/dev/d4ft-ipu/popsdk-venvs/poplar_sdk-ubuntu_20_04-3.2.0+1277-7cd8ade3cd/3.2.0+1277_poptorch/lib/python3.8/site-packages (from mendeleev) (0.8.post1)\n",
      "Requirement already satisfied: six<2.0.0,>=1.15.0 in /nethome/paolot/workspace/dev/d4ft-ipu/popsdk-venvs/poplar_sdk-ubuntu_20_04-3.2.0+1277-7cd8ade3cd/3.2.0+1277_poptorch/lib/python3.8/site-packages (from mendeleev) (1.16.0)\n",
      "Requirement already satisfied: python-dateutil>=2.8.1 in /nethome/paolot/workspace/dev/d4ft-ipu/popsdk-venvs/poplar_sdk-ubuntu_20_04-3.2.0+1277-7cd8ade3cd/3.2.0+1277_poptorch/lib/python3.8/site-packages (from pandas>=1.0.0->mendeleev) (2.8.2)\n",
      "Requirement already satisfied: pytz>=2020.1 in /nethome/paolot/workspace/dev/d4ft-ipu/popsdk-venvs/poplar_sdk-ubuntu_20_04-3.2.0+1277-7cd8ade3cd/3.2.0+1277_poptorch/lib/python3.8/site-packages (from pandas>=1.0.0->mendeleev) (2023.3.post1)\n",
      "Requirement already satisfied: typing-extensions>=4.2.0 in /nethome/paolot/workspace/dev/d4ft-ipu/popsdk-venvs/poplar_sdk-ubuntu_20_04-3.2.0+1277-7cd8ade3cd/3.2.0+1277_poptorch/lib/python3.8/site-packages (from SQLAlchemy>=1.4.0->mendeleev) (4.7.1)\n",
      "Requirement already satisfied: greenlet!=0.4.17 in /nethome/paolot/workspace/dev/d4ft-ipu/popsdk-venvs/poplar_sdk-ubuntu_20_04-3.2.0+1277-7cd8ade3cd/3.2.0+1277_poptorch/lib/python3.8/site-packages (from SQLAlchemy>=1.4.0->mendeleev) (2.0.2)\n"
     ]
    }
   ],
   "source": [
    "!pip install h5py mendeleev"
   ]
  },
  {
   "cell_type": "code",
   "execution_count": 2,
   "metadata": {},
   "outputs": [],
   "source": [
    "import h5py\n",
    "import numpy as np\n",
    "import pyscf\n",
    "import mendeleev\n",
    "import tqdm\n",
    "import itertools\n",
    "from matplotlib import pyplot as plt\n",
    "import multiprocessing"
   ]
  },
  {
   "cell_type": "code",
   "execution_count": 3,
   "metadata": {},
   "outputs": [],
   "source": [
    "f = h5py.File(\"./SPICE-1.1.4.hdf5\")"
   ]
  },
  {
   "cell_type": "code",
   "execution_count": 4,
   "metadata": {},
   "outputs": [
    {
     "name": "stdout",
     "output_type": "stream",
     "text": [
      "The dataset contains 19238 molecules\n"
     ]
    }
   ],
   "source": [
    "print(f\"The dataset contains {len(f)} molecules\")"
   ]
  },
  {
   "cell_type": "markdown",
   "metadata": {},
   "source": [
    "The next cell computes the number of atomic orbitals for the specified basis set for each compound in the SPICE data.\n"
   ]
  },
  {
   "cell_type": "code",
   "execution_count": 5,
   "metadata": {},
   "outputs": [
    {
     "name": "stderr",
     "output_type": "stream",
     "text": [
      "1924it [06:25,  4.99it/s]                                                                                               \n"
     ]
    }
   ],
   "source": [
    "def build_mol(mol_str, basis_name):\n",
    "    mol = pyscf.gto.mole.Mole()\n",
    "    mol.build(atom=mol_str, unit=\"Angstrom\", basis=basis_name, spin=0, verbose=0)\n",
    "    return mol\n",
    "\n",
    "def get_mol_str_list_spice(f, entry=\"trp\", conformation=0, conv_fact=1.0):\n",
    "    mol = f[entry]\n",
    "    return list(\n",
    "        zip(\n",
    "            (mendeleev.element(int(n)).symbol for n in mol['atomic_numbers']),\n",
    "            mol['conformations'][conformation])\n",
    "    )\n",
    "\n",
    "nao_nrs = []\n",
    "\n",
    "def compute_nao_nr(entry):\n",
    "    mol_str = get_mol_str_list_spice(f,entry)\n",
    "    try:\n",
    "        return build_mol(mol_str, basis_name=\"def2-TZVPPD\").nao_nr()\n",
    "    except RuntimeError:    # ions are not handled\n",
    "        return np.nan\n",
    "\n",
    "sampling_factor = 10\n",
    "\n",
    "with multiprocessing.Pool(processes=32) as p:\n",
    "    nao_nrs = list(tqdm.tqdm(\n",
    "        p.imap_unordered(compute_nao_nr, itertools.islice(f, None, None, sampling_factor)),\n",
    "        total=int(len(f)/10), ncols=120\n",
    "        ))\n"
   ]
  },
  {
   "cell_type": "code",
   "execution_count": 6,
   "metadata": {},
   "outputs": [],
   "source": [
    "nao_nrs = np.array(nao_nrs)"
   ]
  },
  {
   "cell_type": "code",
   "execution_count": 7,
   "metadata": {},
   "outputs": [
    {
     "data": {
      "text/plain": [
       "array([ 429.,  735.,   nan, ..., 1396., 1490., 2171.])"
      ]
     },
     "execution_count": 7,
     "metadata": {},
     "output_type": "execute_result"
    }
   ],
   "source": [
    "nao_nrs"
   ]
  },
  {
   "cell_type": "code",
   "execution_count": 8,
   "metadata": {},
   "outputs": [
    {
     "name": "stdout",
     "output_type": "stream",
     "text": [
      "build_mol() failed on 173 molecules out of 2097\n"
     ]
    }
   ],
   "source": [
    "failed_count = np.sum(np.isnan(nao_nrs))\n",
    "print(f\"build_mol() failed on {failed_count} molecules out of {failed_count+len(nao_nrs)}\")"
   ]
  },
  {
   "cell_type": "code",
   "execution_count": 9,
   "metadata": {},
   "outputs": [
    {
     "data": {
      "image/png": "[encoded data removed]",
      "text/plain": [
       "<Figure size 1000x800 with 1 Axes>"
      ]
     },
     "metadata": {},
     "output_type": "display_data"
    }
   ],
   "source": [
    "bins = np.linspace(0,2400,13)\n",
    "plt.figure(figsize=(10,8))\n",
    "plt.hist(nao_nrs, bins=bins)\n",
    "plt.xlabel(\"nao_nr()\")\n",
    "plt.xticks(bins)\n",
    "plt.grid()\n",
    "plt.title(\"Histogram of nao_nr() for SPICE data (1 in 10) with 'def2-TZVPPD' basis\");\n"
   ]
  },
  {
   "cell_type": "code",
   "execution_count": 10,
   "metadata": {},
   "outputs": [
    {
     "name": "stdout",
     "output_type": "stream",
     "text": [
      "Within the present sample of molecules, the maximum number of atomic orbital is 2273.0\n"
     ]
    }
   ],
   "source": [
    "print(f\"Within the present sample of molecules, the maximum number of atomic orbital is {max(nao_nrs)}\")"
   ]
  },
  {
   "cell_type": "markdown",
   "metadata": {},
   "source": [
    "Let's have a look at one of the entries of the dataset"
   ]
  },
  {
   "cell_type": "code",
   "execution_count": 11,
   "metadata": {},
   "outputs": [],
   "source": [
    "entry = \"val-met\"\n",
    "mol_str = get_mol_str_list_spice(f, entry=entry)"
   ]
  },
  {
   "cell_type": "code",
   "execution_count": 12,
   "metadata": {},
   "outputs": [
    {
     "data": {
      "text/plain": [
       "1188"
      ]
     },
     "execution_count": 12,
     "metadata": {},
     "output_type": "execute_result"
    }
   ],
   "source": [
    "m = build_mol(mol_str, basis_name=\"def2-TZVPPD\")\n",
    "m.nao_nr()"
   ]
  },
  {
   "cell_type": "code",
   "execution_count": 13,
   "metadata": {},
   "outputs": [
    {
     "data": {
      "text/plain": [
       "129"
      ]
     },
     "execution_count": 13,
     "metadata": {},
     "output_type": "execute_result"
    }
   ],
   "source": [
    "build_mol(mol_str, basis_name=\"sto-3g\").nao_nr()"
   ]
  },
  {
   "cell_type": "markdown",
   "metadata": {},
   "source": [
    "`def2-TZVPPD` results in >9x the `sto-3g` orbitals.\n",
    "\n",
    "Let's see what happens if one tries to compute the ERIs with the 8-fold symmetry accounted for."
   ]
  },
  {
   "cell_type": "code",
   "execution_count": 14,
   "metadata": {},
   "outputs": [
    {
     "ename": "MemoryError",
     "evalue": "Unable to allocate 1.81 TiB for an array with shape (249406184511,) and data type float64",
     "output_type": "error",
     "traceback": [
      "\u001b[0;31m---------------------------------------------------------------------------\u001b[0m",
      "\u001b[0;31mMemoryError\u001b[0m                               Traceback (most recent call last)",
      "\u001b[1;32m/nethome/paolot/workspace/dev/DFT/pyscf-ipu/notebooks/SPICE-nao_nr.ipynb Cell 18\u001b[0m line \u001b[0;36m1\n\u001b[0;32m----> <a href='vscode-notebook-cell://ssh-remote%2Bcl1-access20.ipu.graphcore.ai/nethome/paolot/workspace/dev/DFT/pyscf-ipu/notebooks/SPICE-nao_nr.ipynb#X31sdnNjb2RlLXJlbW90ZQ%3D%3D?line=0'>1</a>\u001b[0m ERI \u001b[39m=\u001b[39m m\u001b[39m.\u001b[39;49mintor(\u001b[39m\"\u001b[39;49m\u001b[39mint2e_sph\u001b[39;49m\u001b[39m\"\u001b[39;49m, aosym\u001b[39m=\u001b[39;49m\u001b[39m\"\u001b[39;49m\u001b[39ms8\u001b[39;49m\u001b[39m\"\u001b[39;49m)\n",
      "File \u001b[0;32m~/workspace/dev/d4ft-ipu/popsdk-venvs/poplar_sdk-ubuntu_20_04-3.2.0+1277-7cd8ade3cd/3.2.0+1277_poptorch/lib/python3.8/site-packages/pyscf/gto/mole.py:3489\u001b[0m, in \u001b[0;36mMole.intor\u001b[0;34m(self, intor, comp, hermi, aosym, out, shls_slice, grids)\u001b[0m\n\u001b[1;32m   3487\u001b[0m     env[NGRIDS] \u001b[39m=\u001b[39m grids\u001b[39m.\u001b[39mshape[\u001b[39m0\u001b[39m]\n\u001b[1;32m   3488\u001b[0m     env[PTR_GRIDS] \u001b[39m=\u001b[39m env\u001b[39m.\u001b[39msize \u001b[39m-\u001b[39m grids\u001b[39m.\u001b[39msize\n\u001b[0;32m-> 3489\u001b[0m \u001b[39mreturn\u001b[39;00m moleintor\u001b[39m.\u001b[39;49mgetints(intor, \u001b[39mself\u001b[39;49m\u001b[39m.\u001b[39;49m_atm, bas, env,\n\u001b[1;32m   3490\u001b[0m                          shls_slice, comp, hermi, aosym, out\u001b[39m=\u001b[39;49mout)\n",
      "File \u001b[0;32m~/workspace/dev/d4ft-ipu/popsdk-venvs/poplar_sdk-ubuntu_20_04-3.2.0+1277-7cd8ade3cd/3.2.0+1277_poptorch/lib/python3.8/site-packages/pyscf/gto/moleintor.py:240\u001b[0m, in \u001b[0;36mgetints\u001b[0;34m(intor_name, atm, bas, env, shls_slice, comp, hermi, aosym, ao_loc, cintopt, out)\u001b[0m\n\u001b[1;32m    237\u001b[0m     \u001b[39mreturn\u001b[39;00m getints2c(intor_name, atm, bas, env, shls_slice, comp,\n\u001b[1;32m    238\u001b[0m                      hermi, ao_loc, cintopt, out)\n\u001b[1;32m    239\u001b[0m \u001b[39melif\u001b[39;00m intor_name\u001b[39m.\u001b[39mstartswith(\u001b[39m'\u001b[39m\u001b[39mint2e\u001b[39m\u001b[39m'\u001b[39m) \u001b[39mor\u001b[39;00m intor_name\u001b[39m.\u001b[39mstartswith(\u001b[39m'\u001b[39m\u001b[39mint4c1e\u001b[39m\u001b[39m'\u001b[39m):\n\u001b[0;32m--> 240\u001b[0m     \u001b[39mreturn\u001b[39;00m getints4c(intor_name, atm, bas, env, shls_slice, comp,\n\u001b[1;32m    241\u001b[0m                      aosym, ao_loc, cintopt, out)\n\u001b[1;32m    242\u001b[0m \u001b[39melif\u001b[39;00m intor_name\u001b[39m.\u001b[39mstartswith(\u001b[39m'\u001b[39m\u001b[39mint3c\u001b[39m\u001b[39m'\u001b[39m):\n\u001b[1;32m    243\u001b[0m     \u001b[39mreturn\u001b[39;00m getints3c(intor_name, atm, bas, env, shls_slice, comp,\n\u001b[1;32m    244\u001b[0m                      aosym, ao_loc, cintopt, out)\n",
      "File \u001b[0;32m~/workspace/dev/d4ft-ipu/popsdk-venvs/poplar_sdk-ubuntu_20_04-3.2.0+1277-7cd8ade3cd/3.2.0+1277_poptorch/lib/python3.8/site-packages/pyscf/gto/moleintor.py:598\u001b[0m, in \u001b[0;36mgetints4c\u001b[0;34m(intor_name, atm, bas, env, shls_slice, comp, aosym, ao_loc, cintopt, out)\u001b[0m\n\u001b[1;32m    596\u001b[0m nao \u001b[39m=\u001b[39m ao_loc[\u001b[39m-\u001b[39m\u001b[39m1\u001b[39m]\n\u001b[1;32m    597\u001b[0m nao_pair \u001b[39m=\u001b[39m nao\u001b[39m*\u001b[39m(nao\u001b[39m+\u001b[39m\u001b[39m1\u001b[39m)\u001b[39m/\u001b[39m\u001b[39m/\u001b[39m\u001b[39m2\u001b[39m\n\u001b[0;32m--> 598\u001b[0m out \u001b[39m=\u001b[39m numpy\u001b[39m.\u001b[39;49mndarray((nao_pair\u001b[39m*\u001b[39;49m(nao_pair\u001b[39m+\u001b[39;49m\u001b[39m1\u001b[39;49m)\u001b[39m/\u001b[39;49m\u001b[39m/\u001b[39;49m\u001b[39m2\u001b[39;49m), buffer\u001b[39m=\u001b[39;49mout)\n\u001b[1;32m    599\u001b[0m \u001b[39mif\u001b[39;00m nao_pair \u001b[39m==\u001b[39m \u001b[39m0\u001b[39m:\n\u001b[1;32m    600\u001b[0m     \u001b[39mreturn\u001b[39;00m out\n",
      "\u001b[0;31mMemoryError\u001b[0m: Unable to allocate 1.81 TiB for an array with shape (249406184511,) and data type float64"
     ]
    }
   ],
   "source": [
    "ERI = m.intor(\"int2e_sph\", aosym=\"s8\")"
   ]
  },
  {
   "cell_type": "markdown",
   "metadata": {},
   "source": [
    "Let's check the shape of the output tensor and the size of the array"
   ]
  },
  {
   "cell_type": "code",
   "execution_count": 15,
   "metadata": {},
   "outputs": [
    {
     "data": {
      "text/plain": [
       "1188.5003155235786"
      ]
     },
     "execution_count": 15,
     "metadata": {},
     "output_type": "execute_result"
    }
   ],
   "source": [
    "(249_406_184_511 * 8)**0.25"
   ]
  },
  {
   "cell_type": "code",
   "execution_count": 16,
   "metadata": {},
   "outputs": [
    {
     "data": {
      "text/plain": [
       "'1,995,249,476,088'"
      ]
     },
     "execution_count": 16,
     "metadata": {},
     "output_type": "execute_result"
    }
   ],
   "source": [
    "f\"{249_406_184_511 * 8:,d}\""
   ]
  },
  {
   "cell_type": "markdown",
   "metadata": {},
   "source": [
    "As an aside, let's check in what units the coordinates are given in the conformations. Let's compute the minimum interatomic distance for the molecule. It should be around 90pm, 0.9 angstrom, the length of the O-H bond. "
   ]
  },
  {
   "cell_type": "code",
   "execution_count": 17,
   "metadata": {},
   "outputs": [],
   "source": [
    "import operator\n",
    "\n",
    "def min_interatomic_distance(mol_str):\n",
    "    \"\"\"This computes the minimum distance between atoms.\"\"\"\n",
    "    coords = map(operator.itemgetter(1), mol_str) \n",
    "    distances = map(\n",
    "        lambda x: np.linalg.norm(x[0] - x[1]),\n",
    "        itertools.combinations(coords, 2)\n",
    "        )\n",
    "    return min(distances)"
   ]
  },
  {
   "cell_type": "code",
   "execution_count": 18,
   "metadata": {},
   "outputs": [
    {
     "data": {
      "text/plain": [
       "1.844831"
      ]
     },
     "execution_count": 18,
     "metadata": {},
     "output_type": "execute_result"
    }
   ],
   "source": [
    "min_interatomic_distance(mol_str=mol_str)"
   ]
  },
  {
   "cell_type": "markdown",
   "metadata": {},
   "source": [
    "This value of the minimum interatomic distance suggests that the unit for the coordinates in the conformations is `bohr`.\n"
   ]
  },
  {
   "cell_type": "markdown",
   "metadata": {},
   "source": []
  }
 ],
 "metadata": {
  "kernelspec": {
   "display_name": "Python 3 (ipykernel)",
   "language": "python",
   "name": "python3"
  },
  "language_info": {
   "codemirror_mode": {
    "name": "ipython",
    "version": 3
   },
   "file_extension": ".py",
   "mimetype": "text/x-python",
   "name": "python",
   "nbconvert_exporter": "python",
   "pygments_lexer": "ipython3",
   "version": "3.8.10"
  },
  "orig_nbformat": 4
 },
 "nbformat": 4,
 "nbformat_minor": 2
}
