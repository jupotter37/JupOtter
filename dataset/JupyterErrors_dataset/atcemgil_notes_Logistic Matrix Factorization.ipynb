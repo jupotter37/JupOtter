{
 "cells": [
  {
   "cell_type": "markdown",
   "metadata": {},
   "source": [
    "## Logistic Matrix Factorization"
   ]
  },
  {
   "cell_type": "markdown",
   "metadata": {},
   "source": [
    "Binary matrices (Matrices with elements of $0$ or $1$) appear in many applications. A binary matrix can represent relational datasets such as 'User $i$ bought item $j$', or 'Member $i$ likes Member $j$'. Such datasets are often sparse -- only a fraction of the possible entries of a matrix are known. \n",
    "\n",
    "A binary matrix $X$ can also viewed as the adjacency matrix of a bipartite graph. Hence each entry $X_{ij}$ in a fully observed matrix $X$ corresponds to the presence (if $X_{ij}=1$) or absence (if $X_{ij}=0$) an edge. However, if \n",
    "some entries are unobserved, we are in a situation that we don't know if an edge exists or not. Note that having a missing value is different than the absence of an edge, so we denote such examples with a NaN (not a number) to signal that a value is missing.\n",
    "\n",
    "One interesting machine learning task here is known as link prediction, writing a program that guesses the presence or absence of edges of a partially observed bipartite graph. This prediction can then be used for several tasks such as recommendation or knowledge-base completion."
   ]
  },
  {
   "cell_type": "markdown",
   "metadata": {},
   "source": [
    "### Example: Binary relations\n",
    "\n",
    "We will introduce first an artificial example -- often called a 'synthetic dataset'\n",
    "\n",
    "Consider a matrix defined by a boolean valued function $c(i,j)$:\n",
    "$$\n",
    "X_{ij} = \\left\\{\\begin{array}{cc} 1 & \\text{if}\\;c(i,j) \\\\ 0 & \\text{if not}\\;c(i,j) \\end{array} \\right.\n",
    "$$\n",
    "\n",
    "Below, we show some examples\n",
    "\\begin{eqnarray}\n",
    "c_1 & = & (i+j) \\mod 2 \\\\\n",
    "c_2 & = & j>i \\\\\n",
    "c_3 & = & c_1 \\vee c_2 \\\\\n",
    "c_4 & = & c_1 \\wedge c_2 \\\\\n",
    "c_5 & = & c_1 \\oplus c_2 \\\\\n",
    "\\end{eqnarray}\n",
    "\n",
    "You can modify the following code and visualize the different relations."
   ]
  },
  {
   "cell_type": "code",
   "execution_count": 467,
   "metadata": {
    "collapsed": true
   },
   "outputs": [],
   "source": [
    "%matplotlib inline\n",
    "\n",
    "import matplotlib as mpl\n",
    "import matplotlib.pyplot as plt\n",
    "\n",
    "import numpy as np\n",
    "\n",
    "from ipywidgets import interact, interactive, fixed\n",
    "import ipywidgets as widgets\n",
    "from IPython.display import clear_output, display, HTML\n",
    "from matplotlib import rc\n"
   ]
  },
  {
   "cell_type": "code",
   "execution_count": 536,
   "metadata": {
    "scrolled": true
   },
   "outputs": [
    {
     "data": {
      "image/png": "[encoded data removed]",
      "text/plain": [
       "<matplotlib.figure.Figure at 0x1149e50b8>"
      ]
     },
     "metadata": {},
     "output_type": "display_data"
    }
   ],
   "source": [
    "M = 32\n",
    "N = 20\n",
    "\n",
    "Y_full = np.zeros((M,N))\n",
    "for i in range(M):\n",
    "    for j in range(N):\n",
    "        \n",
    "        # condition = (i+j)%3 == 1\n",
    "        # condition = j>i\n",
    "        # condition = ((i+j)%2 == 1) and (j>i)\n",
    "        # condition = ((i+j)%2 == 1) or (j>i)\n",
    "        # condition = ((i+j)%2 == 1) != (j>i)\n",
    "        # condition = (i-j)%4 == 2\n",
    "        # condition = (i-j)%4 == 2 or (i+2*j)%7 == 0\n",
    "        # condition = i%3 == 2 or (j%4 == 2)\n",
    "        condition = i%5 == 2 or ((j+i)%4 == 2)\n",
    "        \n",
    "        if condition:\n",
    "            Y_full[i,j] = 1\n",
    "\n",
    "plt.imshow(Y_full, cmap='bwr')\n",
    "plt.show()\n"
   ]
  },
  {
   "cell_type": "markdown",
   "metadata": {},
   "source": [
    "Now, we will pretend as if we don't know the underlying relation and, moreover that only a subset of the entries of the matrix are unknown to us. We will denote this by a mask matrix defined as\n",
    "\n",
    "$$\n",
    "M_{ij} = \\left\\{\\begin{array}{cc} 1 & \\text{if}\\;X_{ij}\\; \\text{is observed} \\\\ 0 & \\text{if not observed} \\end{array} \\right.\n",
    "$$\n",
    "\n",
    "We will assume every element is observed with a probability $\\pi$; this will mimic a real situation where some \n",
    "items are unknown."
   ]
  },
  {
   "cell_type": "code",
   "execution_count": 541,
   "metadata": {
    "scrolled": false
   },
   "outputs": [
    {
     "data": {
      "image/png": "[encoded data removed]",
      "text/plain": [
       "<matplotlib.figure.Figure at 0x113bd0ef0>"
      ]
     },
     "metadata": {},
     "output_type": "display_data"
    },
    {
     "name": "stdout",
     "output_type": "stream",
     "text": [
      "Missing(%) :  0.6\n"
     ]
    }
   ],
   "source": [
    "Mask = np.random.rand(M, N) < 0.4\n",
    "Y = Y_full.copy()\n",
    "Y[Mask==False] = np.nan\n",
    "plt.imshow(Y, cmap='bwr')\n",
    "plt.show()\n",
    "\n",
    "print('Missing(%) : ', np.sum(1-Mask)/(N*M))"
   ]
  },
  {
   "cell_type": "markdown",
   "metadata": {},
   "source": [
    "The following function implements an alternating gradient ascent algorithm for Logistic Matrix Factorization"
   ]
  },
  {
   "cell_type": "code",
   "execution_count": 548,
   "metadata": {
    "collapsed": true
   },
   "outputs": [],
   "source": [
    "def LogisticMF(Y, K, Mask, eta=0.005, nu=0.1, MAX_ITER = 5000, PRINT_PERIOD=500):\n",
    "    M = Y.shape[0]\n",
    "    N = Y.shape[1]\n",
    "    \n",
    "    W = np.random.randn(M,K)\n",
    "    H = np.random.randn(K,N)\n",
    "    \n",
    "    YM = Y.copy()\n",
    "    YM[Mask==False] = 0\n",
    "\n",
    "    \n",
    "    for epoch in range(MAX_ITER):\n",
    "        dLh = np.dot(W.T, YM-Mask*sigmoid(np.dot(W,H))) - nu*H\n",
    "        H = H + eta*dLh\n",
    "        dLw = np.dot(YM-Mask*sigmoid(np.dot(W,H)),H.T ) - nu*W\n",
    "        W = W + eta*dLw\n",
    "\n",
    "        if epoch % PRINT_PERIOD == 0:\n",
    "            LL = np.sum( (YM*np.log(sigmoid(np.dot(W,H))) +  (Mask-YM)*np.log(1 - sigmoid(np.dot(W,H)))) ) - nu*np.sum(H**2)/2. - nu*np.sum(W**2)/2. \n",
    "            print(epoch, LL)\n",
    "        \n",
    "    return W,H\n"
   ]
  },
  {
   "cell_type": "code",
   "execution_count": 554,
   "metadata": {},
   "outputs": [
    {
     "name": "stdout",
     "output_type": "stream",
     "text": [
      "0 -243.353852116\n",
      "10000 -56.7876652915\n",
      "20000 -56.7876486994\n",
      "30000 -56.7876486994\n",
      "40000 -56.7876486994\n"
     ]
    },
    {
     "data": {
      "application/vnd.jupyter.widget-view+json": {
       "model_id": "6d84900b1ef74628b216c2187dfa74e6",
       "version_major": 2,
       "version_minor": 0
      },
      "text/html": [
       "<p>Failed to display Jupyter Widget of type <code>interactive</code>.</p>\n",
       "<p>\n",
       "  If you're reading this message in Jupyter Notebook or JupyterLab, it may mean\n",
       "  that the widgets JavaScript is still loading. If this message persists, it\n",
       "  likely means that the widgets JavaScript library is either not installed or\n",
       "  not enabled. See the <a href=\"https://ipywidgets.readthedocs.io/en/stable/user_install.html\">Jupyter\n",
       "  Widgets Documentation</a> for setup instructions.\n",
       "</p>\n",
       "<p>\n",
       "  If you're reading this message in another notebook frontend (for example, a static\n",
       "  rendering on GitHub or <a href=\"https://nbviewer.jupyter.org/\">NBViewer</a>),\n",
       "  it may mean that your frontend doesn't currently support widgets.\n",
       "</p>\n"
      ],
      "text/plain": [
       "interactive(children=(FloatSlider(value=0.5, description='thr', max=1.0, step=0.01), Output()), _dom_classes=('widget-interact',))"
      ]
     },
     "metadata": {},
     "output_type": "display_data"
    },
    {
     "data": {
      "text/plain": [
       "<function __main__.change_thr>"
      ]
     },
     "execution_count": 554,
     "metadata": {},
     "output_type": "execute_result"
    }
   ],
   "source": [
    "W, H = LogisticMF(Y, K=2, Mask=Mask, MAX_ITER = 50000, PRINT_PERIOD=10000)\n",
    "\n",
    "thr = 0.5\n",
    "\n",
    "fig=plt.figure(figsize=(12, 6))\n",
    "plt.subplot(1,5,1)\n",
    "plt.imshow(Y_full, cmap='bwr', vmin=0, vmax=1)\n",
    "plt.subplot(1,5,2)\n",
    "plt.imshow(Y, cmap='bwr', vmin=0, vmax=1)\n",
    "plt.subplot(1,5,3)\n",
    "Y_pred = sigmoid(W.dot(H))\n",
    "plt.imshow(Y_pred, cmap='bwr', vmin=0, vmax=1)\n",
    "ax = plt.subplot(1,5,4)\n",
    "Y_rec = Y_pred > thr\n",
    "plt.imshow(Y_rec, cmap='bwr', vmin=0, vmax=1)\n",
    "ax2 = plt.subplot(1,5,5)\n",
    "plt.imshow(Y_full - Y_rec, cmap='PiYG', vmin=-1, vmax=1)\n",
    "#plt.show()\n",
    "plt.close(fig)\n",
    "\n",
    "def change_thr(thr):\n",
    "    ax.cla()\n",
    "    Y_rec = Y_pred > thr\n",
    "    ax.imshow(Y_rec, cmap='bwr', vmin=0, vmax=1)\n",
    "    ax2.imshow(Y_full - Y_rec, cmap='PiYG', vmin=-1, vmax=1)\n",
    "    #plt.show()\n",
    "    display(fig)\n",
    "\n",
    "interact(change_thr, thr=(0.0, 1.0,0.01))\n",
    "\n",
    "#change_thr(0.01)"
   ]
  },
  {
   "cell_type": "code",
   "execution_count": 555,
   "metadata": {
    "scrolled": true
   },
   "outputs": [
    {
     "data": {
      "application/vnd.jupyter.widget-view+json": {
       "model_id": "accf39327372400f9238d4e7fccd82de",
       "version_major": 2,
       "version_minor": 0
      },
      "text/html": [
       "<p>Failed to display Jupyter Widget of type <code>interactive</code>.</p>\n",
       "<p>\n",
       "  If you're reading this message in Jupyter Notebook or JupyterLab, it may mean\n",
       "  that the widgets JavaScript is still loading. If this message persists, it\n",
       "  likely means that the widgets JavaScript library is either not installed or\n",
       "  not enabled. See the <a href=\"https://ipywidgets.readthedocs.io/en/stable/user_install.html\">Jupyter\n",
       "  Widgets Documentation</a> for setup instructions.\n",
       "</p>\n",
       "<p>\n",
       "  If you're reading this message in another notebook frontend (for example, a static\n",
       "  rendering on GitHub or <a href=\"https://nbviewer.jupyter.org/\">NBViewer</a>),\n",
       "  it may mean that your frontend doesn't currently support widgets.\n",
       "</p>\n"
      ],
      "text/plain": [
       "interactive(children=(FloatSlider(value=0.5, description='thr', max=1.0, step=0.01), Output()), _dom_classes=('widget-interact',))"
      ]
     },
     "metadata": {},
     "output_type": "display_data"
    },
    {
     "data": {
      "text/plain": [
       "<function __main__.evaluate>"
      ]
     },
     "execution_count": 555,
     "metadata": {},
     "output_type": "execute_result"
    }
   ],
   "source": [
    "def evaluate_results(target=target, probabilities=Y_pred, thr=0.5):\n",
    "    estimate = probabilities > thr\n",
    "\n",
    "    conf_matrix = {'TP': 0, 'TN': 0, 'FP':0, 'FN': 0}\n",
    "\n",
    "    for i in range(len(target)):\n",
    "        if target[i]==True and estimate[i]==True:\n",
    "            conf_matrix['TP'] += 1\n",
    "        elif target[i]==True and estimate[i]==False:\n",
    "            conf_matrix['FN'] += 1\n",
    "        elif target[i]==False and estimate[i]==False:\n",
    "            conf_matrix['TN'] += 1\n",
    "        elif target[i]==False and estimate[i]==True:\n",
    "            conf_matrix['FP'] += 1\n",
    "\n",
    "    num_correct = conf_matrix['TP']+conf_matrix['TN']\n",
    "    num_total = target.shape[0]\n",
    "    Accuracy = num_correct/num_total\n",
    "    if conf_matrix['TP']+conf_matrix['FP']>0:\n",
    "        Precision = conf_matrix['TP']/(conf_matrix['TP']+conf_matrix['FP'])\n",
    "    else:\n",
    "        Precision = 0\n",
    "    if conf_matrix['TP']+conf_matrix['FN']>0:\n",
    "        Recall = conf_matrix['TP']/(conf_matrix['TP']+conf_matrix['FN'])\n",
    "    else:\n",
    "        Recall = 0\n",
    "    if Precision==0 or Recall==0:\n",
    "        F1 = 0\n",
    "    else:\n",
    "        F1 = 2/(1/Precision + 1/Recall)\n",
    "        \n",
    "    if conf_matrix['FP']+conf_matrix['TN']>0:\n",
    "        FPR = conf_matrix['FP']/(conf_matrix['TN']+conf_matrix['FP'])\n",
    "    else:\n",
    "        FPR = 0\n",
    "        \n",
    "    return conf_matrix, {'Accuracy': Accuracy, 'Precision': Precision, 'Recall': Recall, 'F1': F1, 'FPR': FPR}\n",
    "        \n",
    "def evaluate(thr):\n",
    "    Y_pred = sigmoid(W.dot(H))[Mask==False]\n",
    "    target = Y_full[Mask==False]\n",
    "    conf_matrix, res = evaluate_results(target=target, probabilities=Y_pred, thr=thr)\n",
    "    \n",
    "    print('Accuracy  : ', res['Accuracy'])\n",
    "    print('Precision : ', res['Precision'])\n",
    "    print('Recall    : ', res['Recall'])\n",
    "    print('F1        : ', res['F1'])\n",
    "    print('TPR       : ', res['Recall'])\n",
    "    print('FPR       : ', res['FPR'])\n",
    "    print(conf_matrix)\n",
    "\n",
    "def roc_curve():\n",
    "    Y_pred = sigmoid(W.dot(H))[Mask==False]\n",
    "    target = Y_full[Mask==False]\n",
    "    th = np.linspace(0,1,200)\n",
    "    fpr = []\n",
    "    tpr = []\n",
    "    for i in range(len(th)):\n",
    "        conf_matrix, res = evaluate_results(target=target, probabilities=Y_pred, thr=th[i]) \n",
    "        fpr.append(res['FPR'])\n",
    "        tpr.append([res['Recall']])\n",
    "\n",
    "    return fpr, tpr\n",
    "\n",
    "\n",
    "interact(evaluate, thr=(0.0, 1.0,0.01))"
   ]
  },
  {
   "cell_type": "code",
   "execution_count": 556,
   "metadata": {},
   "outputs": [
    {
     "data": {
      "image/png": "[encoded data removed]",
      "text/plain": [
       "<matplotlib.figure.Figure at 0x1133356d8>"
      ]
     },
     "metadata": {},
     "output_type": "display_data"
    }
   ],
   "source": [
    "fpr, tpr = roc_curve()\n",
    "\n",
    "plt.figure()\n",
    "plt.plot(fpr, tpr, '-')\n",
    "plt.axis('square')\n",
    "plt.xlabel('FPR')\n",
    "plt.ylabel('TPR')\n",
    "plt.show()"
   ]
  },
  {
   "cell_type": "code",
   "execution_count": 493,
   "metadata": {},
   "outputs": [
    {
     "data": {
      "image/png": "[encoded data removed]",
      "text/plain": [
       "<matplotlib.figure.Figure at 0x11351a1d0>"
      ]
     },
     "metadata": {},
     "output_type": "display_data"
    },
    {
     "data": {
      "image/png": "[encoded data removed]",
      "text/plain": [
       "<matplotlib.figure.Figure at 0x112ed3550>"
      ]
     },
     "metadata": {},
     "output_type": "display_data"
    },
    {
     "data": {
      "image/png": "[encoded data removed]",
      "text/plain": [
       "<matplotlib.figure.Figure at 0x105900cc0>"
      ]
     },
     "metadata": {},
     "output_type": "display_data"
    }
   ],
   "source": [
    "color_lim = np.max(np.abs(W)) \n",
    "plt.imshow(W, 'seismic', vmin=-color_lim, vmax=color_lim)\n",
    "plt.colorbar()\n",
    "plt.show()\n",
    "color_lim = np.max(np.abs(H)) \n",
    "plt.imshow(H, 'seismic', vmin=-color_lim, vmax=color_lim)\n",
    "plt.colorbar()\n",
    "plt.show()\n",
    "Theta_hat = W.dot(H)\n",
    "color_lim = np.max(np.abs(Theta_hat)) \n",
    "plt.imshow(Theta_hat, 'seismic', vmin=-color_lim, vmax=color_lim)\n",
    "plt.colorbar()\n",
    "plt.show()"
   ]
  },
  {
   "cell_type": "markdown",
   "metadata": {},
   "source": [
    "## The likelihood function"
   ]
  },
  {
   "cell_type": "markdown",
   "metadata": {},
   "source": [
    "\\begin{eqnarray}\n",
    "p(Y |W, H ) &=& \\prod_j \\left(\\left(\\prod_{i : Y(i,j)=1} \\sigma(\\sum_k W(i,k) H(k,j)) \\right) \\left(\\prod_{i : Y(i,j)=0}(1- \\sigma\\left((\\sum_k W(i,k) H(k,j))\\right) \\right) \\right)\n",
    "\\end{eqnarray}\n",
    "\n",
    "\\begin{eqnarray}\n",
    "\\log p(Y |W, H ) &=& \\sum_j \\sum_{i : Y(i,j)=1} \\log \\sigma\\left(\\sum_k W(i,k) H(k,j)\\right) + \\sum_j \\sum_{i : Y(i,j)=0} \\log\\left(1- \\sigma(\\sum_k W(i,k) H(k,j))\\right) \\\\\n",
    "\\end{eqnarray}\n",
    "\n",
    "\\begin{eqnarray}\n",
    "\\log \\sigma(x) & = & -\\log(1+e^{-x}) = x - \\log(1+e^{x}) \\\\\n",
    "\\log(1 - \\sigma(x)) & = &  -\\log({1+e^{x}})\n",
    "\\end{eqnarray}\n",
    "\n",
    "Using the above properties of the sigmoid function\n",
    "\n",
    "\\begin{eqnarray}\n",
    "\\log p(Y |W, H ) &=& \\sum_j\\sum_{i : Y(i,j)=1} \\left( \\left(\\sum_k W(i,k) H(k,j)\\right) - \\log \\left(1 + \\exp(\\sum_k W(i,k) H(k,j))\\right) \\right) - \\sum_j \\sum_{i : Y(i,j)=0} \\log\\left( 1+ \\exp\\left(\\sum_k W(i,k) H(k,j) \\right)\\right) \\\\\n",
    "&=& \\sum_j \\sum_{i} Y(i,j) \\left(\\sum_k W(i,k) H(k,j)\\right)  - \\sum_j \\sum_{i} \\log\\left( 1+\\exp\\left(\\sum_k W(i,k) H(k,j)\\right)\\right) \n",
    "\\end{eqnarray}\n",
    "\n",
    "With missing values given as a mask matrix $M(i,j)$.\n",
    "\n",
    "\\begin{eqnarray}\n",
    "\\log p(Y |W, H ) &=& \\sum_j \\sum_{i} M(i,j) Y(i,j) \\left(\\sum_k W(i,k) H(k,j)\\right)  - \\sum_j \\sum_{i} M(i,j) \\log\\left( 1+ \\exp\\left(\\sum_k W(i,k) H(k,j)\\right)\\right) \n",
    "\\end{eqnarray}\n",
    "\n",
    "\\begin{eqnarray}\n",
    "\\frac{\\partial}{\\partial W(i,k)} \\log p(Y |W, H ) &=& \\sum_j M(i,j) Y(i,j) H(k,j)  - \\sum_j M(i,j) \\sigma\\left(\\sum_k W(i,k) H(k,j)\\right) H(k, j) \\\\\n",
    "&=& \\sum_j M(i,j) \\left(Y(i,j) - \\sigma\\left(\\sum_k W(i,k) H(k,j)\\right) \\right) H(k, j)\n",
    "\\end{eqnarray}\n",
    "\n",
    "\\begin{eqnarray}\n",
    "\\frac{\\partial}{\\partial H(k,j)} \\log p(Y |W, H ) &=& \\sum_i M(i,j) Y(i,j) W(i,k)  - \\sum_j M(i,j) \\sigma\\left(\\sum_k W(i,k) H(k,j)\\right) W(i, k) \\\\\n",
    "&=& \\sum_j M(i,j) \\left(Y(i,j) - \\sigma\\left(\\sum_k W(i,k) H(k,j)\\right) \\right) W(i, k)\n",
    "\\end{eqnarray}\n",
    "\n",
    "\n",
    "#### Evaluating the gradient (In matrix notation)\n",
    "\n",
    "$$\n",
    "\\frac{d\\mathcal{L}(W,H)}{dW} = (M \\odot (Y -\\sigma(W H)))H^\\top\n",
    "$$\n",
    "\n",
    "$$\n",
    "\\frac{d\\mathcal{L}(W,H)}{dH} = W^\\top (M \\odot (Y -\\sigma(W H)))\n",
    "$$"
   ]
  },
  {
   "cell_type": "code",
   "execution_count": 163,
   "metadata": {
    "collapsed": true
   },
   "outputs": [],
   "source": [
    "%matplotlib inline\n",
    "import numpy as np\n",
    "import matplotlib as mpl\n",
    "import matplotlib.pylab as plt\n",
    "\n",
    "\n",
    "# Generate a random logistic regression problem\n",
    "\n",
    "def sigmoid(t):\n",
    "    return 1./(1+np.exp(-t))\n",
    "\n",
    "M = 3\n",
    "N = 2\n",
    "K = 1\n",
    "\n",
    "# Some random parameters\n",
    "W_true = np.random.randn(M,K)\n",
    "H_true = np.random.randn(K,N)\n",
    "\n",
    "# Generate class labels\n",
    "pi = sigmoid(np.dot(W_true, H_true))\n",
    "Y = np.array(pi<np.random.rand(M,N),dtype=float)\n",
    "\n",
    "#Mask = np.ones((M,N))\n",
    "p_miss = 0.\n",
    "Mask = np.array(p_miss<np.random.rand(M,N),dtype=float)\n",
    "\n",
    "Mask_nan = Mask.copy()\n",
    "Mask_nan[Mask==0] = np.nan"
   ]
  },
  {
   "cell_type": "code",
   "execution_count": 547,
   "metadata": {},
   "outputs": [
    {
     "name": "stdout",
     "output_type": "stream",
     "text": [
      "0 -284.11399162\n",
      "500 -30.9194646692\n",
      "1000 -25.1022660375\n",
      "1500 -24.0551460711\n",
      "2000 -23.5543573338\n",
      "2500 -23.2639426685\n",
      "3000 -23.0842643527\n",
      "3500 -22.9703584225\n",
      "4000 -22.8973305749\n",
      "4500 -22.8501706001\n"
     ]
    },
    {
     "data": {
      "image/png": "[encoded data removed]",
      "text/plain": [
       "<matplotlib.figure.Figure at 0x113678a90>"
      ]
     },
     "metadata": {},
     "output_type": "display_data"
    },
    {
     "ename": "ValueError",
     "evalue": "operands could not be broadcast together with shapes (32,20) (20,100) ",
     "output_type": "error",
     "traceback": [
      "\u001b[0;31m---------------------------------------------------------------------------\u001b[0m",
      "\u001b[0;31mValueError\u001b[0m                                Traceback (most recent call last)",
      "\u001b[0;32m<ipython-input-547-9a03deaca197>\u001b[0m in \u001b[0;36m<module>\u001b[0;34m()\u001b[0m\n\u001b[1;32m     26\u001b[0m \u001b[0mplt\u001b[0m\u001b[0;34m.\u001b[0m\u001b[0mtitle\u001b[0m\u001b[0;34m(\u001b[0m\u001b[0;34m'Y (Full data)'\u001b[0m\u001b[0;34m)\u001b[0m\u001b[0;34m\u001b[0m\u001b[0m\n\u001b[1;32m     27\u001b[0m \u001b[0mplt\u001b[0m\u001b[0;34m.\u001b[0m\u001b[0mshow\u001b[0m\u001b[0;34m(\u001b[0m\u001b[0;34m)\u001b[0m\u001b[0;34m\u001b[0m\u001b[0m\n\u001b[0;32m---> 28\u001b[0;31m \u001b[0mplt\u001b[0m\u001b[0;34m.\u001b[0m\u001b[0mimshow\u001b[0m\u001b[0;34m(\u001b[0m\u001b[0mY\u001b[0m\u001b[0;34m*\u001b[0m\u001b[0mMask_nan\u001b[0m\u001b[0;34m,\u001b[0m \u001b[0minterpolation\u001b[0m\u001b[0;34m=\u001b[0m\u001b[0;34m'nearest'\u001b[0m\u001b[0;34m)\u001b[0m\u001b[0;34m\u001b[0m\u001b[0m\n\u001b[0m\u001b[1;32m     29\u001b[0m \u001b[0mplt\u001b[0m\u001b[0;34m.\u001b[0m\u001b[0mtitle\u001b[0m\u001b[0;34m(\u001b[0m\u001b[0;34m'Mask*Y (Observed data)'\u001b[0m\u001b[0;34m)\u001b[0m\u001b[0;34m\u001b[0m\u001b[0m\n\u001b[1;32m     30\u001b[0m \u001b[0mplt\u001b[0m\u001b[0;34m.\u001b[0m\u001b[0mshow\u001b[0m\u001b[0;34m(\u001b[0m\u001b[0;34m)\u001b[0m\u001b[0;34m\u001b[0m\u001b[0m\n",
      "\u001b[0;31mValueError\u001b[0m: operands could not be broadcast together with shapes (32,20) (20,100) "
     ]
    }
   ],
   "source": [
    "\n",
    "W, H = LogisticMF(Y, K, Mask)\n",
    "\n",
    "plt.imshow(Y, interpolation='nearest', cmap=plt.cm.gray_r)  \n",
    "plt.title('Y (Full data)')\n",
    "plt.show()\n",
    "plt.imshow(Y*Mask_nan, interpolation='nearest')  \n",
    "plt.title('Mask*Y (Observed data)')\n",
    "plt.show()\n",
    "plt.imshow(sigmoid(np.dot(W,H)), interpolation='nearest')  \n",
    "plt.title('\\sigma(W*H)')\n",
    "plt.show()\n",
    "\n",
    "plt.imshow(sigmoid(np.dot(W_true,H_true)), interpolation='nearest')  \n",
    "plt.title('\\sigma(W_true*H_true)')\n",
    "plt.show()\n",
    "plt.imshow(W, interpolation='nearest') \n",
    "plt.title('W')\n",
    "plt.show()\n",
    "plt.imshow(H, interpolation='nearest')  \n",
    "plt.title('H')\n",
    "plt.show()"
   ]
  },
  {
   "cell_type": "code",
   "execution_count": 165,
   "metadata": {},
   "outputs": [
    {
     "name": "stdout",
     "output_type": "stream",
     "text": [
      "0 -977.378112433 -962.352408243\n",
      "20000 -7.38057656109 -92.4606913662\n",
      "40000 -7.20907297677 -54.2734373234\n",
      "60000 -7.18177626411 -41.6629650894\n",
      "80000 -7.17495234995 -39.3866079522\n",
      "100000 -7.17320756674 -39.3470580283\n",
      "120000 -7.17270553515 -39.574801569\n",
      "140000 -7.17252545358 -39.7566530183\n",
      "160000 -7.17244765846 -39.862447159\n",
      "180000 -7.1724087816 -39.9099601681\n",
      "200000 -7.17238682159 -39.9198281508\n",
      "220000 -7.17237311512 -39.907473797\n",
      "240000 -7.17236390064 -39.8830932586\n",
      "260000 -7.17235738569 -39.8530623593\n",
      "280000 -7.17235263031 -39.8212250004\n",
      "300000 -7.17234909242 -39.7898151636\n",
      "320000 -7.17234643139 -39.7600647402\n",
      "340000 -7.17234441794 -39.7325910257\n",
      "360000 -7.17234288988 -39.707640191\n",
      "380000 -7.17234172867 -39.6852392403\n",
      "400000 -7.17234084593 -39.6652904469\n",
      "420000 -7.172340175 -39.6476297409\n",
      "440000 -7.17233966527 -39.6320624926\n",
      "460000 -7.17233927823 -39.6183851071\n",
      "480000 -7.17233898452 -39.606397705\n"
     ]
    },
    {
     "data": {
      "image/png": "[encoded data removed]",
      "text/plain": [
       "<matplotlib.figure.Figure at 0x1135d0a90>"
      ]
     },
     "metadata": {},
     "output_type": "display_data"
    },
    {
     "data": {
      "image/png": "[encoded data removed]",
      "text/plain": [
       "<matplotlib.figure.Figure at 0x10f936e10>"
      ]
     },
     "metadata": {},
     "output_type": "display_data"
    },
    {
     "data": {
      "image/png": "[encoded data removed]",
      "text/plain": [
       "<matplotlib.figure.Figure at 0x113886d68>"
      ]
     },
     "metadata": {},
     "output_type": "display_data"
    },
    {
     "data": {
      "image/png": "[encoded data removed]",
      "text/plain": [
       "<matplotlib.figure.Figure at 0x113350f28>"
      ]
     },
     "metadata": {},
     "output_type": "display_data"
    },
    {
     "data": {
      "image/png": "[encoded data removed]",
      "text/plain": [
       "<matplotlib.figure.Figure at 0x1139b25f8>"
      ]
     },
     "metadata": {},
     "output_type": "display_data"
    }
   ],
   "source": [
    "\n",
    "def binary_random_mask_generator(M=30, N=150, p_miss=0.2):\n",
    "    Mask = np.array(np.random.rand(M,N)>p_miss,dtype=float)\n",
    "\n",
    "    Mask_nan = Mask.copy()\n",
    "    Mask_nan[Mask==0] = np.nan\n",
    "    \n",
    "    return Mask, Mask_nan\n",
    "    \n",
    "def binary_random_matrix_generator1(M=30, N=150, p_on=0.3, p_switch=0.25):\n",
    "    Y = np.zeros((M,N))\n",
    "    y = np.array(np.random.rand(M,1)<p_on, dtype=float)\n",
    "    for i in range(N):\n",
    "        if np.random.rand()<p_switch:\n",
    "            y = np.array(np.random.rand(M,1)<p_on, dtype=float)\n",
    "\n",
    "        Y[:,i] = y.reshape(1,M)\n",
    "    \n",
    "    return Y\n",
    "\n",
    "# Generate a catalog and reuse these\n",
    "def binary_random_matrix_generator2(R=10, M=30, N=150, p_on=0.3, p_switch=0.25):\n",
    "    Y = np.zeros((M,N))\n",
    "    Catalog = np.array(np.random.rand(M,R)<p_on, dtype=float)\n",
    "    idx = np.random.choice(range(R))\n",
    "    for i in range(N):\n",
    "        if np.random.rand()<p_switch:\n",
    "            idx = np.random.choice(range(R))\n",
    "\n",
    "        Y[:,i] = Catalog[:,idx].reshape(1,M)\n",
    "    \n",
    "    return Y\n",
    "\n",
    "# Generate a catalog and reuse pairwise\n",
    "def binary_random_matrix_generator3(R=10, M=30, N=150, p_on=0.3, p_switch=0.25):\n",
    "    Y = np.zeros((M,N))\n",
    "    Catalog = np.random.rand(M,R)<p_on\n",
    "    \n",
    "    sz = 2\n",
    "    \n",
    "    idx = np.random.choice(range(R), size=sz, replace=True)\n",
    "    y = np.ones((1,M))<0\n",
    "    for i in range(sz): \n",
    "        y = np.logical_or(y, Catalog[:,idx[i]])\n",
    "    \n",
    "    for i in range(N):\n",
    "        if np.random.rand()<p_switch:\n",
    "            idx = np.random.choice(range(R), size=sz, replace=True)\n",
    "            y = np.ones((1,M))<0\n",
    "            for i in range(sz): \n",
    "                y = np.logical_or(y, Catalog[:,idx[i]])\n",
    "                \n",
    "        Y[:,i] = y.reshape(1,M)    \n",
    "    return Y\n",
    "\n",
    "M = 20\n",
    "N = 100\n",
    "\n",
    "# Rank\n",
    "K = 4\n",
    "\n",
    "#Y = binary_random_matrix_generator1(M=M, N=N)\n",
    "Y = binary_random_matrix_generator3(M=M, N=N, R=3)\n",
    "Mask, Mask_nan = binary_random_mask_generator(M=M, N=N, p_miss=0.5)\n",
    "\n",
    "W, H = LogisticMF(Y, K, Mask, eta=0.003, nu = 0.01, MAX_ITER=500000, PRINT_PERIOD=20000)\n",
    "\n",
    "figsz = (15,4)\n",
    "plt.figure(figsize=figsz)\n",
    "plt.imshow(Y, interpolation='nearest', cmap=plt.cm.gray_r)  \n",
    "plt.title('Y (Full data)')\n",
    "plt.show()\n",
    "plt.figure(figsize=figsz)\n",
    "plt.imshow(Y*Mask_nan, interpolation='nearest')  \n",
    "plt.title('Mask*Y (Observed data)')\n",
    "plt.show()\n",
    "\n",
    "    \n",
    "plt.figure(figsize=figsz)\n",
    "plt.imshow(sigmoid(np.dot(W,H)), interpolation='nearest')  \n",
    "plt.title('\\sigma(W*H)')\n",
    "plt.colorbar(orientation='horizontal')\n",
    "plt.show()\n",
    "#plt.figure(figsize=figsz)\n",
    "plt.imshow(W, interpolation='nearest')  \n",
    "plt.show()\n",
    "plt.figure(figsize=figsz)\n",
    "plt.imshow(H, interpolation='nearest')  \n",
    "plt.show()\n"
   ]
  },
  {
   "cell_type": "markdown",
   "metadata": {},
   "source": [
    "# Binary relationships"
   ]
  },
  {
   "cell_type": "code",
   "execution_count": 3,
   "metadata": {
    "collapsed": true
   },
   "outputs": [],
   "source": [
    "%matplotlib inline\n",
    "import matplotlib as mpl\n",
    "import matplotlib.pyplot as plt\n",
    "import numpy as np\n",
    "import scipy as sc\n",
    "import pandas as pd\n"
   ]
  },
  {
   "cell_type": "code",
   "execution_count": 176,
   "metadata": {
    "scrolled": true
   },
   "outputs": [
    {
     "data": {
      "image/png": "[encoded data removed]",
      "text/plain": [
       "<matplotlib.figure.Figure at 0x10f92b7b8>"
      ]
     },
     "metadata": {},
     "output_type": "display_data"
    },
    {
     "name": "stdout",
     "output_type": "stream",
     "text": [
      "0 -56.4227571078 0.0\n",
      "500 -9.09378505543 0.0\n",
      "1000 -7.74362968188 0.0\n",
      "1500 -7.62390149964 0.0\n",
      "2000 -7.57196567088 0.0\n",
      "2500 -7.53889652283 0.0\n",
      "3000 -7.51610291795 0.0\n",
      "3500 -7.5002162736 0.0\n",
      "4000 -7.48917805222 0.0\n",
      "4500 -7.48156842175 0.0\n",
      "5000 -7.4763896269 0.0\n",
      "5500 -7.47292475638 0.0\n",
      "6000 -7.47064894088 0.0\n",
      "6500 -7.46917947102 0.0\n",
      "7000 -7.46824402365 0.0\n",
      "7500 -7.46765498943 0.0\n",
      "8000 -7.46728703037 0.0\n",
      "8500 -7.46705847139 0.0\n",
      "9000 -7.46691706597 0.0\n",
      "9500 -7.46682982688 0.0\n",
      "10000 -7.46677611371 0.0\n",
      "10500 -7.46674309102 0.0\n",
      "11000 -7.46672281092 0.0\n",
      "11500 -7.46671036665 0.0\n",
      "12000 -7.46670273543 0.0\n",
      "12500 -7.46669805802 0.0\n",
      "13000 -7.46669519218 0.0\n",
      "13500 -7.46669343682 0.0\n",
      "14000 -7.46669236188 0.0\n",
      "14500 -7.46669170375 0.0\n",
      "15000 -7.46669130086 0.0\n",
      "15500 -7.46669105426 0.0\n",
      "16000 -7.46669090332 0.0\n",
      "16500 -7.46669081095 0.0\n",
      "17000 -7.46669075442 0.0\n",
      "17500 -7.46669071983 0.0\n",
      "18000 -7.46669069866 0.0\n",
      "18500 -7.46669068571 0.0\n",
      "19000 -7.46669067779 0.0\n",
      "19500 -7.46669067294 0.0\n"
     ]
    }
   ],
   "source": [
    "M = 8\n",
    "L = 2\n",
    "\n",
    "A = np.zeros((M,M,L))\n",
    "Mask = np.ones((M,M))\n",
    "for i in range(M):\n",
    "    for j in range(M):\n",
    "        k = ((i+1)*j)%L | int(j>i+2)\n",
    "        #k = 1 if i==j else 0 \n",
    "        A[i,j,k] = 1\n",
    "\n",
    "Y = A[:,:,1]\n",
    "plt.imshow(Y, cmap='gray_r')\n",
    "plt.show()\n",
    "\n",
    "W, H = LogisticMF(Y, K=4, Mask=Mask, MAX_ITER = 20000)\n"
   ]
  },
  {
   "cell_type": "markdown",
   "metadata": {},
   "source": [
    "When $K=5$"
   ]
  },
  {
   "cell_type": "code",
   "execution_count": 173,
   "metadata": {
    "scrolled": true
   },
   "outputs": [
    {
     "data": {
      "image/png": "[encoded data removed]",
      "text/plain": [
       "<matplotlib.figure.Figure at 0x11377d470>"
      ]
     },
     "metadata": {},
     "output_type": "display_data"
    }
   ],
   "source": [
    "plt.imshow(sigmoid(W.dot(H)), cmap='Purples', vmin=0, vmax=1)\n",
    "plt.show()\n"
   ]
  },
  {
   "cell_type": "code",
   "execution_count": 174,
   "metadata": {
    "scrolled": true
   },
   "outputs": [
    {
     "data": {
      "image/png": "[encoded data removed]",
      "text/plain": [
       "<matplotlib.figure.Figure at 0x1136df668>"
      ]
     },
     "metadata": {},
     "output_type": "display_data"
    },
    {
     "data": {
      "image/png": "[encoded data removed]",
      "text/plain": [
       "<matplotlib.figure.Figure at 0x11323f400>"
      ]
     },
     "metadata": {},
     "output_type": "display_data"
    }
   ],
   "source": [
    "color_lim = np.max(np.abs(W)) \n",
    "plt.imshow(W, 'seismic', vmin=-color_lim, vmax=color_lim)\n",
    "plt.colorbar()\n",
    "plt.show()\n",
    "color_lim = np.max(np.abs(H)) \n",
    "plt.imshow(H, 'seismic', vmin=-color_lim, vmax=color_lim)\n",
    "plt.colorbar()\n",
    "plt.show()"
   ]
  },
  {
   "cell_type": "code",
   "execution_count": 160,
   "metadata": {
    "collapsed": true
   },
   "outputs": [],
   "source": [
    "from numpy.random import randn\n",
    "from numpy.linalg import norm\n",
    "from numpy.linalg import qr\n",
    "\n",
    "def subspace_iteration(X, K=1, verbose=False, EPOCH = 40, correct_signs=True):\n",
    "    M, N = X.shape\n",
    "    \n",
    "    u = randn(M,K)\n",
    "    v = randn(N,K)\n",
    "    u,dummy = qr(u)\n",
    "    v,dummy = qr(v)\n",
    "\n",
    "    for e in range(EPOCH):\n",
    "        lam = u.T.dot(X).dot(v)\n",
    "        u = X.dot(v)\n",
    "        u,dummy = qr(u)\n",
    "        v = u.T.dot(X).T\n",
    "        v,dummy = qr(v)\n",
    "        if verbose:\n",
    "            if e%10==0:\n",
    "                print(lam)\n",
    "        \n",
    "    if correct_signs:\n",
    "        signs = np.sign(np.diag(lam))\n",
    "        return -signs*u, signs*lam, v\n",
    "    else:\n",
    "        return u, lam, v"
   ]
  },
  {
   "cell_type": "code",
   "execution_count": 161,
   "metadata": {
    "scrolled": false
   },
   "outputs": [
    {
     "data": {
      "image/png": "[encoded data removed]",
      "text/plain": [
       "<matplotlib.figure.Figure at 0x112eb4588>"
      ]
     },
     "metadata": {},
     "output_type": "display_data"
    },
    {
     "data": {
      "image/png": "[encoded data removed]",
      "text/plain": [
       "<matplotlib.figure.Figure at 0x1132f6fd0>"
      ]
     },
     "metadata": {},
     "output_type": "display_data"
    },
    {
     "data": {
      "image/png": "[encoded data removed]",
      "text/plain": [
       "<matplotlib.figure.Figure at 0x11377d588>"
      ]
     },
     "metadata": {},
     "output_type": "display_data"
    }
   ],
   "source": [
    "# For visualization of real matrices, it is best to use a diverging colormap where zero is\n",
    "# mapped to white, with \n",
    "U,S,V = subspace_iteration(W.dot(H), K=H.shape[0])\n",
    "plt.imshow(U,cmap='seismic', vmin=-1, vmax=1)\n",
    "#plt.colorbar()\n",
    "plt.show()\n",
    "color_lim = np.abs(S[0,0])\n",
    "plt.imshow(S,cmap='seismic', vmin=-color_lim, vmax=color_lim)\n",
    "#plt.colorbar()\n",
    "plt.show()\n",
    "plt.imshow(V.T,cmap='seismic', vmin=-1, vmax=1)\n",
    "#plt.colorbar()\n",
    "plt.show()\n"
   ]
  }
 ],
 "metadata": {
  "kernelspec": {
   "display_name": "Python (py36)",
   "language": "python",
   "name": "py36"
  },
  "language_info": {
   "codemirror_mode": {
    "name": "ipython",
    "version": 3
   },
   "file_extension": ".py",
   "mimetype": "text/x-python",
   "name": "python",
   "nbconvert_exporter": "python",
   "pygments_lexer": "ipython3",
   "version": "3.6.1"
  },
  "toc": {
   "nav_menu": {},
   "number_sections": true,
   "sideBar": true,
   "skip_h1_title": false,
   "toc_cell": false,
   "toc_position": {},
   "toc_section_display": "block",
   "toc_window_display": false
  }
 },
 "nbformat": 4,
 "nbformat_minor": 2
}
