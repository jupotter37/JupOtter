{
 "cells": [
  {
   "cell_type": "markdown",
   "metadata": {},
   "source": [
    "# Tuples\n",
    "\n"
   ]
  },
  {
   "cell_type": "markdown",
   "metadata": {},
   "source": [
    "## Creating tuples"
   ]
  },
  {
   "cell_type": "code",
   "execution_count": 1,
   "metadata": {
    "scrolled": true
   },
   "outputs": [
    {
     "name": "stdout",
     "output_type": "stream",
     "text": [
      "Nananana! Batman! ('Batman', 'Robin')\n"
     ]
    }
   ],
   "source": [
    "# Figure 1: Creating a tuple\n",
    "\n",
    "dynamic_duo = \"Batman\", \"Robin\"\n",
    "print(\"Nananana! Batman!\", dynamic_duo)"
   ]
  },
  {
   "cell_type": "code",
   "execution_count": 1,
   "metadata": {},
   "outputs": [
    {
     "name": "stdout",
     "output_type": "stream",
     "text": [
      "Created using parentheses: ('Batman', 'Robin')\n"
     ]
    }
   ],
   "source": [
    "# Figure 2: Creating a tuple using parentheses\n",
    "\n",
    "dynamic_duo = (\"Batman\", \"Robin\")\n",
    "print(\"Created using parentheses:\", dynamic_duo)"
   ]
  },
  {
   "cell_type": "code",
   "execution_count": 1,
   "metadata": {},
   "outputs": [
    {
     "name": "stdout",
     "output_type": "stream",
     "text": [
      "('J', 'o', 'k', 'e', 'r')\n"
     ]
    }
   ],
   "source": [
    "# Figure 3: Creating a tuple from an iterator\n",
    "\n",
    "villain = tuple(\"Joker\")\n",
    "print(villain)"
   ]
  },
  {
   "cell_type": "markdown",
   "metadata": {},
   "source": [
    "## Assiging tuple values"
   ]
  },
  {
   "cell_type": "code",
   "execution_count": 6,
   "metadata": {},
   "outputs": [
    {
     "name": "stdout",
     "output_type": "stream",
     "text": [
      "Dynamic Duo: ('Batman', 'Robin')\n",
      "Caped Crusader: Batman\n",
      "Boy Wonder: Robin\n"
     ]
    }
   ],
   "source": [
    "# Figure 4: Assigning tuple values\n",
    "\n",
    "dynamic_duo = (\"Batman\", \"Robin\")\n",
    "print(\"Dynamic Duo:\", dynamic_duo)\n",
    "\n",
    "# Assign each to their own variable\n",
    "caped_crusader, boy_wonder = dynamic_duo\n",
    "print(\"Caped Crusader:\", caped_crusader)\n",
    "print(\"Boy Wonder:\", boy_wonder)"
   ]
  },
  {
   "cell_type": "markdown",
   "metadata": {},
   "source": [
    "## Accessing individual tuple items"
   ]
  },
  {
   "cell_type": "code",
   "execution_count": 2,
   "metadata": {},
   "outputs": [
    {
     "name": "stdout",
     "output_type": "stream",
     "text": [
      "I'm Batman\n"
     ]
    }
   ],
   "source": [
    "# Figure 5: Slicing a tuple with square brackets\n",
    "\n",
    "dynamic_duo = \"Batman\", \"Robin\"\n",
    "print(\"I'm\", dynamic_duo[0])"
   ]
  },
  {
   "cell_type": "markdown",
   "metadata": {},
   "source": [
    "## Looping through a tuple"
   ]
  },
  {
   "cell_type": "code",
   "execution_count": 1,
   "metadata": {},
   "outputs": [
    {
     "name": "stdout",
     "output_type": "stream",
     "text": [
      "It's Batman\n",
      "It's Robin\n"
     ]
    }
   ],
   "source": [
    "# Figure 6: Looping through a tuple\n",
    "\n",
    "dynamic_duo = \"Batman\", \"Robin\"\n",
    "for caped_crusader in dynamic_duo:\n",
    "    print(\"It's\", caped_crusader)"
   ]
  },
  {
   "cell_type": "markdown",
   "metadata": {},
   "source": [
    "## Tuples are immutable"
   ]
  },
  {
   "cell_type": "code",
   "execution_count": 4,
   "metadata": {},
   "outputs": [
    {
     "name": "stdout",
     "output_type": "stream",
     "text": [
      "Sorry, Robin.\n"
     ]
    },
    {
     "ename": "TypeError",
     "evalue": "'tuple' object does not support item assignment",
     "output_type": "error",
     "traceback": [
      "\u001b[0;31m---------------------------------------------------------------------------\u001b[0m\n",
      "\u001b[0;31mTypeError\u001b[0m                                 Traceback (most recent call last)\n",
      "\u001b[0;32m<ipython-input-4-43ce1cedae34>\u001b[0m in \u001b[0;36m<module>\u001b[0;34m\u001b[0m\n",
      "\u001b[1;32m      1\u001b[0m \u001b[0mdynamic_duo\u001b[0m \u001b[0;34m=\u001b[0m \u001b[0;34m\"Batman\"\u001b[0m\u001b[0;34m,\u001b[0m \u001b[0;34m\"Robin\"\u001b[0m\u001b[0;34m\u001b[0m\u001b[0;34m\u001b[0m\u001b[0m\n",
      "\u001b[1;32m      2\u001b[0m \u001b[0mprint\u001b[0m\u001b[0;34m(\u001b[0m\u001b[0;34m\"Sorry, Robin.\"\u001b[0m\u001b[0;34m)\u001b[0m\u001b[0;34m\u001b[0m\u001b[0;34m\u001b[0m\u001b[0m\n",
      "\u001b[0;32m----> 3\u001b[0;31m \u001b[0mdynamic_duo\u001b[0m\u001b[0;34m[\u001b[0m\u001b[0;36m1\u001b[0m\u001b[0;34m]\u001b[0m \u001b[0;34m=\u001b[0m \u001b[0;34m'Catwoman'\u001b[0m\u001b[0;34m\u001b[0m\u001b[0;34m\u001b[0m\u001b[0m\n",
      "\u001b[0m\n",
      "\u001b[0;31mTypeError\u001b[0m: 'tuple' object does not support item assignment"
     ]
    }
   ],
   "source": [
    "# Figure 7: You cannot change a tuple\n",
    "\n",
    "dynamic_duo = \"Batman\", \"Robin\"\n",
    "print(\"Sorry, Robin.\")\n",
    "dynamic_duo[1] = 'Catwoman'"
   ]
  },
  {
   "cell_type": "markdown",
   "metadata": {},
   "source": [
    "## Returning multiple values\n"
   ]
  },
  {
   "cell_type": "code",
   "execution_count": 3,
   "metadata": {},
   "outputs": [
    {
     "name": "stdout",
     "output_type": "stream",
     "text": [
      "Human      Batman\n",
      "Kryptonian Superman\n",
      "Amazon     Wonder Woman\n"
     ]
    }
   ],
   "source": [
    "# Figure 8: Returning a tuple\n",
    "\n",
    "def dc_heroes():\n",
    "    return \"Batman\", \"Superman\", \"Wonder Woman\"\n",
    "\n",
    "# Now call the function\n",
    "human, Kryptonian, Amazon = dc_heroes()\n",
    "print(\"Human     \", human)\n",
    "print(\"Kryptonian\", Kryptonian)\n",
    "print(\"Amazon    \", Amazon)"
   ]
  }
 ],
 "metadata": {
  "kernelspec": {
   "display_name": "Python 3 (ipykernel)",
   "language": "python",
   "name": "python3"
  },
  "language_info": {
   "codemirror_mode": {
    "name": "ipython",
    "version": 3
   },
   "file_extension": ".py",
   "mimetype": "text/x-python",
   "name": "python",
   "nbconvert_exporter": "python",
   "pygments_lexer": "ipython3",
   "version": "3.8.12"
  }
 },
 "nbformat": 4,
 "nbformat_minor": 4
}
