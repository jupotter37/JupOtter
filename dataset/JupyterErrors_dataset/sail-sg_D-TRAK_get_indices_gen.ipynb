{
 "cells": [
  {
   "cell_type": "code",
   "execution_count": null,
   "id": "9c58e928-3b34-44c8-894a-458bff33d6e9",
   "metadata": {},
   "outputs": [],
   "source": []
  },
  {
   "cell_type": "code",
   "execution_count": null,
   "id": "245db4ad-9e11-41df-8fca-0bab14c60e25",
   "metadata": {},
   "outputs": [],
   "source": []
  },
  {
   "cell_type": "code",
   "execution_count": null,
   "id": "0737dcf0-06e0-4f2b-afb2-77f4d2225706",
   "metadata": {},
   "outputs": [],
   "source": []
  },
  {
   "cell_type": "code",
   "execution_count": null,
   "id": "641323a8-3ea1-4e42-9e95-4d5da7cf95fc",
   "metadata": {},
   "outputs": [],
   "source": []
  },
  {
   "cell_type": "code",
   "execution_count": 1,
   "id": "561527f8-aff9-4445-9c7e-47fa01b2676e",
   "metadata": {},
   "outputs": [],
   "source": [
    "import os\n",
    "\n",
    "os.environ[\"CUDA_DEVICE_ORDER\"]=\"PCI_BUS_ID\"   \n",
    "os.environ[\"CUDA_VISIBLE_DEVICES\"]='0'\n",
    "\n",
    "os.environ[\"HF_HOME\"]=\"~/codes/.cache/huggingface\""
   ]
  },
  {
   "cell_type": "code",
   "execution_count": 2,
   "id": "0e2fef04-47f7-4e77-9328-e51281539152",
   "metadata": {},
   "outputs": [],
   "source": [
    "import numpy as np"
   ]
  },
  {
   "cell_type": "code",
   "execution_count": 3,
   "id": "af2782e7-72c5-4287-8100-fb615760485c",
   "metadata": {},
   "outputs": [],
   "source": [
    "import matplotlib.pyplot as plt\n",
    "def show_images(images, scores, test_artist, train_artists):\n",
    "    n: int = len(images)\n",
    "    f = plt.figure(figsize=(16, 2))\n",
    "    for i in range(n):\n",
    "        # Debug, plot figure\n",
    "        ax = f.add_subplot(1, n, i + 1)\n",
    "        if i==0:\n",
    "            pass\n",
    "            ax.title.set_text(test_artist)\n",
    "        else:\n",
    "            ax.title.set_text(str(np.round(scores[i-1], 4))+'\\n'+train_artists[i-1])\n",
    "            ax.axis('off')\n",
    "        if images[i]==None:\n",
    "            pass\n",
    "        else:\n",
    "            plt.imshow(images[i])\n",
    "\n",
    "    plt.show(block=True)"
   ]
  },
  {
   "cell_type": "code",
   "execution_count": 4,
   "id": "41675e7f-8365-4f94-a0ba-4a3c89d3f23c",
   "metadata": {},
   "outputs": [],
   "source": [
    "from datasets import load_dataset"
   ]
  },
  {
   "cell_type": "code",
   "execution_count": 5,
   "id": "ff902dbc-45c6-442e-be2f-d5a8e65d1355",
   "metadata": {},
   "outputs": [],
   "source": [
    "import pickle"
   ]
  },
  {
   "cell_type": "code",
   "execution_count": 6,
   "id": "0e00606e-2565-4ac8-b6bd-93d4c0bac37d",
   "metadata": {},
   "outputs": [
    {
     "data": {
      "text/plain": [
       "5000"
      ]
     },
     "execution_count": 6,
     "metadata": {},
     "output_type": "execute_result"
    }
   ],
   "source": [
    "with open('../../data/indices/5000-0.5/idx-train.pkl', 'rb')  as handle:\n",
    "    idx_train = pickle.load(handle)\n",
    "len(idx_train)   "
   ]
  },
  {
   "cell_type": "code",
   "execution_count": 7,
   "id": "a012e677-0046-4b39-a2a1-275465caa000",
   "metadata": {},
   "outputs": [
    {
     "data": {
      "text/plain": [
       "1000"
      ]
     },
     "execution_count": 7,
     "metadata": {},
     "output_type": "execute_result"
    }
   ],
   "source": [
    "with open('../../data/indices/5000-0.5/idx-val.pkl', 'rb')  as handle:\n",
    "    idx_val = pickle.load(handle)\n",
    "len(idx_val)"
   ]
  },
  {
   "cell_type": "code",
   "execution_count": 1,
   "id": "b8d9cb60-42c0-4559-8496-2e788515ab5b",
   "metadata": {},
   "outputs": [
    {
     "ename": "NameError",
     "evalue": "name 'load_dataset' is not defined",
     "output_type": "error",
     "traceback": [
      "\u001b[0;31m---------------------------------------------------------------------------\u001b[0m",
      "\u001b[0;31mNameError\u001b[0m                                 Traceback (most recent call last)",
      "Cell \u001b[0;32mIn[1], line 3\u001b[0m\n\u001b[1;32m      1\u001b[0m \u001b[38;5;66;03m# from datasets import load_dataset\u001b[39;00m\n\u001b[0;32m----> 3\u001b[0m dataset \u001b[38;5;241m=\u001b[39m \u001b[43mload_dataset\u001b[49m(\n\u001b[1;32m      4\u001b[0m     \u001b[38;5;124m'\u001b[39m\u001b[38;5;124mcifar10\u001b[39m\u001b[38;5;124m'\u001b[39m,\n\u001b[1;32m      5\u001b[0m     \u001b[38;5;66;03m# args.dataset_config_name,\u001b[39;00m\n\u001b[1;32m      6\u001b[0m     \u001b[38;5;66;03m# cache_dir=args.cache_dir,\u001b[39;00m\n\u001b[1;32m      7\u001b[0m     \u001b[38;5;66;03m# split=\"train\",\u001b[39;00m\n\u001b[1;32m      8\u001b[0m )\n",
      "\u001b[0;31mNameError\u001b[0m: name 'load_dataset' is not defined"
     ]
    }
   ],
   "source": [
    "from datasets import load_dataset\n",
    "\n",
    "dataset = load_dataset(\n",
    "    'cifar10',\n",
    "    # args.dataset_config_name,\n",
    "    # cache_dir=args.cache_dir,\n",
    "    # split=\"train\",\n",
    ")"
   ]
  },
  {
   "cell_type": "code",
   "execution_count": 9,
   "id": "a8ab5978-ec28-4d35-a3d2-d54d10c0cdea",
   "metadata": {},
   "outputs": [
    {
     "data": {
      "image/png": "[encoded data removed]",
      "text/plain": [
       "<PIL.PngImagePlugin.PngImageFile image mode=RGB size=32x32>"
      ]
     },
     "execution_count": 9,
     "metadata": {},
     "output_type": "execute_result"
    }
   ],
   "source": [
    "from datasets import DatasetDict, Dataset, load_dataset, Image\n",
    "\n",
    "train_dataset = dataset['train'].select(idx_train)\n",
    "train_dataset[0][\"img\"]"
   ]
  },
  {
   "cell_type": "code",
   "execution_count": 10,
   "id": "cd982af9-1790-4399-8f2f-de5baf09115e",
   "metadata": {},
   "outputs": [
    {
     "data": {
      "image/png": "[encoded data removed]",
      "text/plain": [
       "<PIL.PngImagePlugin.PngImageFile image mode=RGB size=32x32>"
      ]
     },
     "execution_count": 10,
     "metadata": {},
     "output_type": "execute_result"
    }
   ],
   "source": [
    "val_dataset =  dataset['test'].select(idx_val)\n",
    "val_dataset[0][\"img\"]"
   ]
  },
  {
   "cell_type": "code",
   "execution_count": 11,
   "id": "1080aec7-09fe-4123-bb26-2ab750860b53",
   "metadata": {},
   "outputs": [
    {
     "data": {
      "image/png": "[encoded data removed]",
      "text/plain": [
       "<PIL.PngImagePlugin.PngImageFile image mode=RGB size=32x32>"
      ]
     },
     "execution_count": 11,
     "metadata": {},
     "output_type": "execute_result"
    }
   ],
   "source": [
    "import pandas as pd\n",
    "df = pd.DataFrame()\n",
    "df['path'] = ['{}/{}.png'.format('../../saved/5000-0.5/gen', i) for i in range(1000)]\n",
    "\n",
    "from datasets import DatasetDict, Dataset, load_dataset, Image\n",
    "dataset = DatasetDict({\n",
    "\"train\": Dataset.from_dict({\n",
    "    \"img\": df['path'].tolist(),\n",
    "}).cast_column(\"img\", Image()),})\n",
    "gen_dataset = dataset[\"train\"]\n",
    "gen_dataset[0]['img']"
   ]
  },
  {
   "cell_type": "code",
   "execution_count": null,
   "id": "dc29a64c-cca3-4b54-b147-cfdeeab35be9",
   "metadata": {},
   "outputs": [],
   "source": []
  },
  {
   "cell_type": "code",
   "execution_count": 12,
   "id": "34f3123f-606c-40f0-b85a-df861cab66e1",
   "metadata": {
    "scrolled": true
   },
   "outputs": [
    {
     "data": {
      "text/plain": [
       "[521,\n",
       " 737,\n",
       " 740,\n",
       " 660,\n",
       " 411,\n",
       " 678,\n",
       " 626,\n",
       " 513,\n",
       " 859,\n",
       " 136,\n",
       " 811,\n",
       " 76,\n",
       " 636,\n",
       " 973,\n",
       " 938,\n",
       " 899,\n",
       " 280,\n",
       " 883,\n",
       " 761,\n",
       " 319,\n",
       " 549,\n",
       " 174,\n",
       " 371,\n",
       " 527,\n",
       " 210,\n",
       " 235,\n",
       " 101,\n",
       " 986,\n",
       " 902,\n",
       " 947,\n",
       " 346,\n",
       " 139,\n",
       " 621,\n",
       " 499,\n",
       " 370,\n",
       " 198,\n",
       " 687,\n",
       " 584,\n",
       " 901,\n",
       " 59,\n",
       " 328,\n",
       " 96,\n",
       " 312,\n",
       " 974,\n",
       " 299,\n",
       " 277,\n",
       " 924,\n",
       " 601,\n",
       " 439,\n",
       " 837,\n",
       " 570,\n",
       " 879,\n",
       " 261,\n",
       " 578,\n",
       " 23,\n",
       " 30,\n",
       " 617,\n",
       " 10,\n",
       " 221,\n",
       " 820]"
      ]
     },
     "execution_count": 12,
     "metadata": {},
     "output_type": "execute_result"
    }
   ],
   "source": [
    "from sklearn.model_selection import train_test_split\n",
    "_, test_index = train_test_split(range(1000), test_size=60, random_state=42)\n",
    "test_index"
   ]
  },
  {
   "cell_type": "code",
   "execution_count": null,
   "id": "d53af53a-8a61-4569-b7bd-4f3fe30417d7",
   "metadata": {},
   "outputs": [],
   "source": []
  },
  {
   "cell_type": "code",
   "execution_count": 13,
   "id": "72ce01c9-1426-400c-86bb-4ffe5f0257cf",
   "metadata": {},
   "outputs": [],
   "source": [
    "with open(\"../../data/indices/5000-0.5/counter/idx-gen-sampled.pkl\", 'wb') as handle:\n",
    "    pickle.dump(test_index, handle)"
   ]
  },
  {
   "cell_type": "code",
   "execution_count": 14,
   "id": "34e7940e-c1b4-4e62-82ea-1cf787a3326f",
   "metadata": {
    "scrolled": true
   },
   "outputs": [
    {
     "data": {
      "text/plain": [
       "[521,\n",
       " 737,\n",
       " 740,\n",
       " 660,\n",
       " 411,\n",
       " 678,\n",
       " 626,\n",
       " 513,\n",
       " 859,\n",
       " 136,\n",
       " 811,\n",
       " 76,\n",
       " 636,\n",
       " 973,\n",
       " 938,\n",
       " 899,\n",
       " 280,\n",
       " 883,\n",
       " 761,\n",
       " 319,\n",
       " 549,\n",
       " 174,\n",
       " 371,\n",
       " 527,\n",
       " 210,\n",
       " 235,\n",
       " 101,\n",
       " 986,\n",
       " 902,\n",
       " 947,\n",
       " 346,\n",
       " 139,\n",
       " 621,\n",
       " 499,\n",
       " 370,\n",
       " 198,\n",
       " 687,\n",
       " 584,\n",
       " 901,\n",
       " 59,\n",
       " 328,\n",
       " 96,\n",
       " 312,\n",
       " 974,\n",
       " 299,\n",
       " 277,\n",
       " 924,\n",
       " 601,\n",
       " 439,\n",
       " 837,\n",
       " 570,\n",
       " 879,\n",
       " 261,\n",
       " 578,\n",
       " 23,\n",
       " 30,\n",
       " 617,\n",
       " 10,\n",
       " 221,\n",
       " 820]"
      ]
     },
     "execution_count": 14,
     "metadata": {},
     "output_type": "execute_result"
    }
   ],
   "source": [
    "test_index"
   ]
  },
  {
   "cell_type": "code",
   "execution_count": null,
   "id": "ff4dd931-ff12-4ef1-b872-0619333e9bfa",
   "metadata": {},
   "outputs": [],
   "source": []
  },
  {
   "cell_type": "code",
   "execution_count": 15,
   "id": "824bf26e-99dd-4f42-aa04-63e184f24e6b",
   "metadata": {},
   "outputs": [
    {
     "data": {
      "image/png": "[encoded data removed]",
      "text/plain": [
       "<PIL.PngImagePlugin.PngImageFile image mode=RGB size=32x32>"
      ]
     },
     "execution_count": 15,
     "metadata": {},
     "output_type": "execute_result"
    }
   ],
   "source": [
    "gen_dataset[test_index[0]]['img']"
   ]
  },
  {
   "cell_type": "code",
   "execution_count": 16,
   "id": "df83f924-97c1-4855-a53b-44187af73fe5",
   "metadata": {},
   "outputs": [
    {
     "data": {
      "image/png": "[encoded data removed]",
      "text/plain": [
       "<PIL.PngImagePlugin.PngImageFile image mode=RGB size=32x32>"
      ]
     },
     "execution_count": 16,
     "metadata": {},
     "output_type": "execute_result"
    }
   ],
   "source": [
    "gen_dataset[test_index[1]]['img']"
   ]
  },
  {
   "cell_type": "code",
   "execution_count": 17,
   "id": "e0babcbd-5655-4eae-8a94-14960dbb3f96",
   "metadata": {},
   "outputs": [
    {
     "data": {
      "image/png": "[encoded data removed]",
      "text/plain": [
       "<PIL.PngImagePlugin.PngImageFile image mode=RGB size=32x32>"
      ]
     },
     "execution_count": 17,
     "metadata": {},
     "output_type": "execute_result"
    }
   ],
   "source": [
    "gen_dataset[test_index[2]]['img']"
   ]
  },
  {
   "cell_type": "code",
   "execution_count": 18,
   "id": "0961c88d-c5bd-478d-ae5d-fc96eb5d84b4",
   "metadata": {},
   "outputs": [
    {
     "data": {
      "image/png": "[encoded data removed]",
      "text/plain": [
       "<PIL.PngImagePlugin.PngImageFile image mode=RGB size=32x32>"
      ]
     },
     "execution_count": 18,
     "metadata": {},
     "output_type": "execute_result"
    }
   ],
   "source": [
    "gen_dataset[test_index[3]]['img']"
   ]
  },
  {
   "cell_type": "code",
   "execution_count": 19,
   "id": "b77ea35a-d78e-4c13-8e47-249d7b3b5a31",
   "metadata": {},
   "outputs": [
    {
     "data": {
      "image/png": "[encoded data removed]",
      "text/plain": [
       "<PIL.PngImagePlugin.PngImageFile image mode=RGB size=32x32>"
      ]
     },
     "execution_count": 19,
     "metadata": {},
     "output_type": "execute_result"
    }
   ],
   "source": [
    "gen_dataset[test_index[4]]['img']"
   ]
  },
  {
   "cell_type": "code",
   "execution_count": null,
   "id": "ac29c8bf-20cc-42f3-82e3-7c559d469526",
   "metadata": {},
   "outputs": [],
   "source": []
  },
  {
   "cell_type": "code",
   "execution_count": null,
   "id": "9357fae4-9636-4a91-ad77-209629fb1af4",
   "metadata": {},
   "outputs": [],
   "source": []
  },
  {
   "cell_type": "code",
   "execution_count": null,
   "id": "4695603e-b3f0-4ca8-97fd-fcdb298b0473",
   "metadata": {},
   "outputs": [],
   "source": []
  },
  {
   "cell_type": "code",
   "execution_count": 20,
   "id": "bb932ea8-0d72-426b-9eb4-971295bfdb56",
   "metadata": {},
   "outputs": [],
   "source": [
    "scores_list = []"
   ]
  },
  {
   "cell_type": "code",
   "execution_count": 21,
   "id": "bca3e398-bc9a-438f-bd47-7a34f2daa01a",
   "metadata": {},
   "outputs": [
    {
     "data": {
      "text/plain": [
       "(1000, 5000)"
      ]
     },
     "execution_count": 21,
     "metadata": {},
     "output_type": "execute_result"
    }
   ],
   "source": [
    "with open(\"gen_5000_0.5_loss_100_5000000.0_0.16133635662548987.pkl\", 'rb') as handle:\n",
    "    scores = pickle.load(handle)\n",
    "scores_list.append(scores)\n",
    "scores.shape"
   ]
  },
  {
   "cell_type": "code",
   "execution_count": 22,
   "id": "26da60aa-8030-4bf9-be0c-f96431cbab78",
   "metadata": {},
   "outputs": [
    {
     "data": {
      "text/plain": [
       "(1000, 5000)"
      ]
     },
     "execution_count": 22,
     "metadata": {},
     "output_type": "execute_result"
    }
   ],
   "source": [
    "with open(\"gen_5000_0.5_mean-squared-l2-norm_100_5000000.0_0.2601777247421162.pkl\", 'rb') as handle:\n",
    "    scores = pickle.load(handle)\n",
    "scores_list.append(scores)\n",
    "scores.shape"
   ]
  },
  {
   "cell_type": "code",
   "execution_count": null,
   "id": "c23a1528-6b9c-4ab0-8bc8-66720d521cdc",
   "metadata": {},
   "outputs": [],
   "source": []
  },
  {
   "cell_type": "code",
   "execution_count": null,
   "id": "c45180c1-e3fd-4b71-976f-52b6f3bf9fd2",
   "metadata": {},
   "outputs": [],
   "source": []
  },
  {
   "cell_type": "code",
   "execution_count": null,
   "id": "3c4c9e4e-4e90-47e3-ba29-f8d0ba3d8f22",
   "metadata": {},
   "outputs": [],
   "source": []
  },
  {
   "cell_type": "code",
   "execution_count": 23,
   "id": "6ea0894f-d8d0-41f1-b04d-fa65a7b3774f",
   "metadata": {},
   "outputs": [],
   "source": [
    "# load ground truth\n",
    "my_list = [\n",
    "    0,1,2,3,\n",
    "    4,5,6,7,\n",
    "    8,9,10,11,\n",
    "    12,13,14,15,\n",
    "    16,17,18,19,\n",
    "    20,21,22,23,\n",
    "    24,25,26,27,\n",
    "    28,29,30,31,\n",
    "    32,33,34,35,\n",
    "    36,37,38,39,\n",
    "    40,41,42,43,\n",
    "    44,45,46,47,\n",
    "    48,49,50,51,\n",
    "    52,53,54,55,\n",
    "    56,57,58,59,\n",
    "    60,61,62,63,\n",
    "          ]"
   ]
  },
  {
   "cell_type": "code",
   "execution_count": 24,
   "id": "89ea4842-d7a9-4215-a464-25471d7127be",
   "metadata": {},
   "outputs": [
    {
     "data": {
      "text/plain": [
       "(64, 1000, 1000)"
      ]
     },
     "execution_count": 24,
     "metadata": {},
     "output_type": "execute_result"
    }
   ],
   "source": [
    "loss_array_list = []\n",
    "\n",
    "for i in my_list:\n",
    "    for seed in [\n",
    "        0,\n",
    "                 1,\n",
    "                 2,\n",
    "                 # 3,\n",
    "                 # 4,\n",
    "                ]:\n",
    "        for e_seed in [\n",
    "            0, \n",
    "                       1, \n",
    "                       2\n",
    "                      ]:\n",
    "            with open('../../saved/5000-0.5/lds-val/ddpm-sub-{}-{}/e-{}-gen.pkl'.format(i, seed, e_seed), 'rb')  as handle:\n",
    "                loss_list = pickle.load(handle)\n",
    "            margins = np.concatenate(loss_list, axis=-1) # -logp\n",
    "            ####\n",
    "            if (seed==0) and (e_seed)==0:\n",
    "                loss_array = margins\n",
    "            else:\n",
    "                loss_array += margins\n",
    "            \n",
    "    loss_array = loss_array/(3*3)\n",
    "    \n",
    "    loss_array_list.append(loss_array)\n",
    "lds_loss_array = np.stack(loss_array_list)\n",
    "lds_loss_array.shape"
   ]
  },
  {
   "cell_type": "code",
   "execution_count": 25,
   "id": "e71e1ab2-0b85-4dcc-a6a5-480ff9c8b608",
   "metadata": {},
   "outputs": [
    {
     "data": {
      "image/png": "[encoded data removed]",
      "text/plain": [
       "<Figure size 640x480 with 1 Axes>"
      ]
     },
     "metadata": {},
     "output_type": "display_data"
    }
   ],
   "source": [
    "for i in range(1):\n",
    "    for j in range(8):\n",
    "        plt.plot(lds_loss_array[i, :, j], color=\"C{}\".format(j))\n",
    "    # break"
   ]
  },
  {
   "cell_type": "code",
   "execution_count": 26,
   "id": "af28cad4-eb5b-40ca-bcda-dbdd678b416e",
   "metadata": {},
   "outputs": [
    {
     "data": {
      "text/plain": [
       "(64, 5000)"
      ]
     },
     "execution_count": 26,
     "metadata": {},
     "output_type": "execute_result"
    }
   ],
   "source": [
    "mask_array_list = []\n",
    "\n",
    "for i in my_list:\n",
    "    # print(i)\n",
    "    with open('../../data/indices/5000-0.5/lds-val/sub-idx-{}.pkl'.format(i), 'rb')  as handle:\n",
    "        sub_idx_train = pickle.load(handle)\n",
    "    # print(len(sub_idx_train))\n",
    "    mask_array = np.in1d(idx_train, sub_idx_train)\n",
    "        \n",
    "    mask_array_list.append(mask_array)\n",
    "    \n",
    "lds_mask_array = np.stack(mask_array_list)\n",
    "lds_mask_array.shape"
   ]
  },
  {
   "cell_type": "code",
   "execution_count": 27,
   "id": "f677d157-4449-4abb-9007-ea2aee116eb7",
   "metadata": {},
   "outputs": [
    {
     "data": {
      "text/plain": [
       "(64, 1000)"
      ]
     },
     "execution_count": 27,
     "metadata": {},
     "output_type": "execute_result"
    }
   ],
   "source": [
    "lds_testset_correctness = lds_loss_array.mean(axis=1)\n",
    "lds_testset_correctness.shape"
   ]
  },
  {
   "cell_type": "code",
   "execution_count": 28,
   "id": "8b779648-2442-4313-a237-ef27b79b71ba",
   "metadata": {},
   "outputs": [
    {
     "data": {
      "image/png": "[encoded data removed]",
      "text/plain": [
       "<Figure size 640x480 with 1 Axes>"
      ]
     },
     "metadata": {},
     "output_type": "display_data"
    }
   ],
   "source": [
    "for j in range(4):\n",
    "    plt.plot(lds_testset_correctness[:, j], color=\"C{}\".format(j))\n",
    "    # break\n",
    "# plt.ylim(0.15, 0.2)"
   ]
  },
  {
   "cell_type": "code",
   "execution_count": null,
   "id": "faf7d1b8-7115-46d0-aa8a-2f01e3026f65",
   "metadata": {},
   "outputs": [],
   "source": []
  },
  {
   "cell_type": "code",
   "execution_count": 29,
   "id": "8a86cfd1-167c-48ed-8d22-f02199d7eaf8",
   "metadata": {},
   "outputs": [
    {
     "name": "stdout",
     "output_type": "stream",
     "text": [
      "Correlation: 0.161 (avg p value 0.299659)\n"
     ]
    }
   ],
   "source": [
    "# compute lds\n",
    "from scipy.stats import spearmanr, pearsonr\n",
    "####\n",
    "margins = lds_testset_correctness\n",
    "infl_est_ = -scores_list[0]\n",
    "# infl_est_ = -tmp\n",
    "preds = lds_mask_array @ infl_est_.T\n",
    "####\n",
    "rs = []\n",
    "ps = []\n",
    "\n",
    "for ind in range(1000):\n",
    "    r, p = spearmanr(preds[:, ind], margins[:, ind])\n",
    "    # r, p = pearsonr(preds[:, ind], margins[:, ind])\n",
    "    rs.append(r)\n",
    "    ps.append(p)\n",
    "    \n",
    "rs, ps = np.array(rs), np.array(ps)\n",
    "print(f'Correlation: {rs.mean():.3f} (avg p value {ps.mean():.6f})')\n",
    "\n",
    "# tmp_1 = rs"
   ]
  },
  {
   "cell_type": "code",
   "execution_count": 30,
   "id": "c8cf0a77-c261-452c-af49-f86a0f0496f1",
   "metadata": {},
   "outputs": [
    {
     "name": "stdout",
     "output_type": "stream",
     "text": [
      "Correlation: 0.198 (avg p value 0.244832)\n"
     ]
    }
   ],
   "source": [
    "# compute lds\n",
    "from scipy.stats import spearmanr, pearsonr\n",
    "####\n",
    "margins = lds_testset_correctness\n",
    "infl_est_ = -scores_list[0]\n",
    "# infl_est_ = -tmp\n",
    "preds = lds_mask_array @ infl_est_.T\n",
    "####\n",
    "rs = []\n",
    "ps = []\n",
    "\n",
    "for ind in test_index:\n",
    "    r, p = spearmanr(preds[:, ind], margins[:, ind])\n",
    "    # r, p = pearsonr(preds[:, ind], margins[:, ind])\n",
    "    rs.append(r)\n",
    "    ps.append(p)\n",
    "    \n",
    "rs, ps = np.array(rs), np.array(ps)\n",
    "print(f'Correlation: {rs.mean():.3f} (avg p value {ps.mean():.6f})')\n",
    "\n",
    "tmp_1 = rs"
   ]
  },
  {
   "cell_type": "code",
   "execution_count": 31,
   "id": "f0cd9ac3-05ff-4729-a705-029ff53894ad",
   "metadata": {},
   "outputs": [
    {
     "data": {
      "text/plain": [
       "array([ 0.00086996,  0.12820513,  0.13379121,  0.08127289,  0.16144689,\n",
       "        0.36767399,  0.03127289,  0.38745421,  0.07783883,  0.46694139,\n",
       "        0.33695055,  0.04184982,  0.06451465,  0.19688645,  0.07637363,\n",
       "        0.19652015,  0.3154304 ,  0.08255495,  0.39674908,  0.27312271,\n",
       "        0.26048535,  0.18956044, -0.0650641 ,  0.29574176,  0.09102564,\n",
       "       -0.1117674 ,  0.2260989 ,  0.03200549,  0.34729853,  0.25444139,\n",
       "        0.0746337 ,  0.33452381,  0.15169414,  0.04015568,  0.24285714,\n",
       "        0.43328755,  0.18173077,  0.24001832,  0.32728938,  0.22371795,\n",
       "        0.09340659,  0.09388844,  0.04276557,  0.22055861,  0.29688645,\n",
       "        0.18104396,  0.17271062,  0.13836996,  0.41414835,  0.39848901,\n",
       "        0.3125    ,  0.17129121,  0.28351648, -0.01529304,  0.29184982,\n",
       "        0.29716117,  0.23598901,  0.18021978,  0.23937729,  0.23901099])"
      ]
     },
     "execution_count": 31,
     "metadata": {},
     "output_type": "execute_result"
    }
   ],
   "source": [
    "tmp_1"
   ]
  },
  {
   "cell_type": "code",
   "execution_count": 32,
   "id": "6d2b8bd8-a821-474c-8cce-4d2c21f35b39",
   "metadata": {},
   "outputs": [
    {
     "name": "stdout",
     "output_type": "stream",
     "text": [
      "Correlation: 0.260 (avg p value 0.142673)\n"
     ]
    }
   ],
   "source": [
    "# compute lds\n",
    "from scipy.stats import spearmanr, pearsonr\n",
    "####\n",
    "margins = lds_testset_correctness\n",
    "infl_est_ = -scores_list[1]\n",
    "# infl_est_ = -tmp\n",
    "preds = lds_mask_array @ infl_est_.T\n",
    "####\n",
    "rs = []\n",
    "ps = []\n",
    "\n",
    "for ind in range(1000):\n",
    "    r, p = spearmanr(preds[:, ind], margins[:, ind])\n",
    "    # r, p = pearsonr(preds[:, ind], margins[:, ind])\n",
    "    rs.append(r)\n",
    "    ps.append(p)\n",
    "    \n",
    "rs, ps = np.array(rs), np.array(ps)\n",
    "print(f'Correlation: {rs.mean():.3f} (avg p value {ps.mean():.6f})')\n",
    "\n",
    "# tmp_2 = rs"
   ]
  },
  {
   "cell_type": "code",
   "execution_count": 33,
   "id": "dfa113fd-76d0-4c52-86cc-38bc894a3e04",
   "metadata": {},
   "outputs": [
    {
     "name": "stdout",
     "output_type": "stream",
     "text": [
      "Correlation: 0.287 (avg p value 0.101265)\n"
     ]
    }
   ],
   "source": [
    "# compute lds\n",
    "from scipy.stats import spearmanr, pearsonr\n",
    "####\n",
    "margins = lds_testset_correctness\n",
    "infl_est_ = -scores_list[1]\n",
    "# infl_est_ = -tmp\n",
    "preds = lds_mask_array @ infl_est_.T\n",
    "####\n",
    "rs = []\n",
    "ps = []\n",
    "\n",
    "for ind in test_index:\n",
    "    r, p = spearmanr(preds[:, ind], margins[:, ind])\n",
    "    # r, p = pearsonr(preds[:, ind], margins[:, ind])\n",
    "    rs.append(r)\n",
    "    ps.append(p)\n",
    "    \n",
    "rs, ps = np.array(rs), np.array(ps)\n",
    "print(f'Correlation: {rs.mean():.3f} (avg p value {ps.mean():.6f})')\n",
    "\n",
    "tmp_2 = rs"
   ]
  },
  {
   "cell_type": "code",
   "execution_count": 34,
   "id": "6a840cef-578b-4343-9a47-66d9b5eb05d7",
   "metadata": {},
   "outputs": [
    {
     "data": {
      "text/plain": [
       "array([-0.05695971,  0.21098901,  0.33672161,  0.3625    ,  0.2510989 ,\n",
       "        0.2771978 ,  0.10338828,  0.40027473,  0.37811355,  0.38328755,\n",
       "        0.47454212,  0.0375    ,  0.24766484,  0.22229853,  0.37129121,\n",
       "        0.32449634,  0.31936813,  0.35874542,  0.2474359 ,  0.36643773,\n",
       "        0.47261905,  0.47152015,  0.28800366,  0.30567766,  0.07005495,\n",
       "        0.15013736,  0.27568681,  0.29368132,  0.38411172,  0.16025641,\n",
       "        0.31936813,  0.27257326,  0.12628205,  0.39555861,  0.50315934,\n",
       "        0.46181319,  0.30906593,  0.26923077,  0.39239927,  0.05952381,\n",
       "        0.15961538,  0.30648245,  0.16739927,  0.30654762,  0.54354396,\n",
       "        0.2385989 ,  0.26588828,  0.35837912,  0.36886447,  0.44688645,\n",
       "        0.2106685 ,  0.26350733,  0.23099817,  0.33447802,  0.18086081,\n",
       "        0.18846154,  0.2632326 ,  0.14977106,  0.54029304,  0.10384615])"
      ]
     },
     "execution_count": 34,
     "metadata": {},
     "output_type": "execute_result"
    }
   ],
   "source": [
    "tmp_2"
   ]
  },
  {
   "cell_type": "code",
   "execution_count": 35,
   "id": "6e828ff0-a5f3-4f71-b47e-e2a6b274b559",
   "metadata": {},
   "outputs": [
    {
     "data": {
      "text/plain": [
       "(60, 5000)"
      ]
     },
     "execution_count": 35,
     "metadata": {},
     "output_type": "execute_result"
    }
   ],
   "source": [
    "scores_list[0][test_index].shape"
   ]
  },
  {
   "cell_type": "code",
   "execution_count": 36,
   "id": "dc2e0f02-d5bc-41f4-8065-3b9770d18aba",
   "metadata": {},
   "outputs": [
    {
     "data": {
      "text/plain": [
       "<matplotlib.image.AxesImage at 0x7f3ff9c1bc70>"
      ]
     },
     "execution_count": 36,
     "metadata": {},
     "output_type": "execute_result"
    },
    {
     "data": {
      "image/png": "[encoded data removed]",
      "text/plain": [
       "<Figure size 640x480 with 1 Axes>"
      ]
     },
     "metadata": {},
     "output_type": "display_data"
    }
   ],
   "source": [
    "plt.imshow(scores_list[0][test_index][:, 0:128])"
   ]
  },
  {
   "cell_type": "code",
   "execution_count": 37,
   "id": "631e1fcb-51ec-402d-8ce1-e58bcc48e724",
   "metadata": {},
   "outputs": [
    {
     "data": {
      "text/plain": [
       "<matplotlib.image.AxesImage at 0x7f3ff9bffd90>"
      ]
     },
     "execution_count": 37,
     "metadata": {},
     "output_type": "execute_result"
    },
    {
     "data": {
      "image/png": "[encoded data removed]",
      "text/plain": [
       "<Figure size 640x480 with 1 Axes>"
      ]
     },
     "metadata": {},
     "output_type": "display_data"
    }
   ],
   "source": [
    "plt.imshow(scores_list[1][test_index][:, 0:128])"
   ]
  },
  {
   "cell_type": "code",
   "execution_count": 38,
   "id": "b829670a-1150-487d-ad48-698c52b7fd14",
   "metadata": {},
   "outputs": [
    {
     "data": {
      "text/plain": [
       "3"
      ]
     },
     "execution_count": 38,
     "metadata": {},
     "output_type": "execute_result"
    }
   ],
   "source": [
    "np.random.seed(42)\n",
    "scores_list.append(np.random.rand(1000, 5000))\n",
    "len(scores_list)"
   ]
  },
  {
   "cell_type": "code",
   "execution_count": 39,
   "id": "71b4fb24-558b-4338-b58d-7d4c0f8f44d5",
   "metadata": {
    "scrolled": true
   },
   "outputs": [
    {
     "name": "stdout",
     "output_type": "stream",
     "text": [
      "0 521\n",
      "0.19617224880382775\n",
      "[17488 17769 25061  7882  4701]\n",
      "[17488 25061  7882  4701 38681]\n",
      "[17488 17769 25061  7882  4701]\n",
      "0.2360939431396786\n",
      "[17488 17769 25061  7882  4701]\n",
      "[17488 25061  4701 38681 11482]\n",
      "[17488 17769 25061  7882 38681]\n",
      "0.43719459614831846\n",
      "[17488 17769  7882  4701 38681]\n",
      "[ 4701 11482 37495 39588  5729]\n",
      "[25061 37495 25183 20314 49017]\n",
      "1 737\n",
      "0.19331742243436753\n",
      "[17488 17769 25061  7882  4701]\n",
      "[17488 17769 25061  7882  4701]\n",
      "[17488 17769 25061  7882  4701]\n",
      "0.20409391932570742\n",
      "[17488 17769  7882  4701 11482]\n",
      "[17488 25061  7882  4701 11482]\n",
      "[17488 17769 25061  7882  4701]\n",
      "0.3947001394700139\n",
      "[17488 17769  7882 37495 37777]\n",
      "[25061  7882  4701 11482 37495]\n",
      "[25061  7882  4701 11482 39588]\n",
      "2 740\n",
      "0.21951219512195122\n",
      "[17488 17769 25061  7882 38681]\n",
      "[17488 17769 25061  7882  4701]\n",
      "[17488 17769 25061  7882  4701]\n",
      "0.23839009287925697\n",
      "[17769 25061  7882 38681 11482]\n",
      "[17488 25061  7882  4701 38681]\n",
      "[17769 25061  4701 38681 11482]\n",
      "0.416029453412631\n",
      "[17769  7882 38681  5729  3832]\n",
      "[25061  7882  4701 11482  5729]\n",
      "[25061 38681  5729  3832 49017]\n",
      "3 660\n",
      "0.2345679012345679\n",
      "[17769 25061  7882  4701 38681]\n",
      "[17488 17769 25061  7882  4701]\n",
      "[17488 17769 25061  7882  4701]\n",
      "0.2547051442910916\n",
      "[17769 25061  7882  4701 38681]\n",
      "[17769 25061  7882  4701 38681]\n",
      "[17488 17769 25061  7882  4701]\n",
      "0.4176353841791891\n",
      "[17769  7882  4701 38681 11482]\n",
      "[17769 25061  7882 37495  5729]\n",
      "[38681 11482  5729 49017 31949]\n",
      "4 411\n",
      "0.1876484560570071\n",
      "[17488 17769 25061  7882  4701]\n",
      "[17488 17769 25061  7882  4701]\n",
      "[17488 17769 25061  7882  4701]\n",
      "0.23685837971552257\n",
      "[17488 17769 25061  7882  4701]\n",
      "[17488 17769 25061  7882  4701]\n",
      "[17769 25061  7882  4701 38681]\n",
      "0.41402714932126694\n",
      "[17488 17769 25061  7882  4701]\n",
      "[17488 17769 25061  7882  4701]\n",
      "[17769  7882  5729 25183  3832]\n",
      "5 678\n",
      "0.2106537530266344\n",
      "[17488 17769  7882  4701 38681]\n",
      "[17488 17769  7882  4701 38681]\n",
      "[17488 17769 25061  7882  4701]\n",
      "0.2445550715619166\n",
      "[17488 17769  7882  4701 38681]\n",
      "[17488 17769  7882  4701 38681]\n",
      "[17769 25061  7882  4701 38681]\n",
      "0.437607820586544\n",
      "[17769  7882  4701 38681 11482]\n",
      "[ 7882 11482 37495 39588 25183]\n",
      "[25061  7882  4701 11482 37495]\n",
      "6 626\n",
      "0.16279069767441862\n",
      "[17488 17769 25061  7882  4701]\n",
      "[17488 17769 25061  7882  4701]\n",
      "[17488 17769 25061  7882  4701]\n",
      "0.21802679658952498\n",
      "[17769 25061  7882  4701 38681]\n",
      "[17488 17769 25061  4701 37495]\n",
      "[17488 17769  7882  4701 11482]\n",
      "0.40291806958473625\n",
      "[ 4701 11482 39588 25183  3832]\n",
      "[ 4701 37495 25183  3832 20314]\n",
      "[17488 17769  4701 39588 25183]\n",
      "7 513\n",
      "0.19047619047619047\n",
      "[17769 25061  7882  4701 38681]\n",
      "[17769 25061  7882  4701 38681]\n",
      "[25061  7882 38681 11482 37495]\n",
      "0.20192307692307693\n",
      "[17769 25061  7882  4701 38681]\n",
      "[17769 25061  7882  4701 38681]\n",
      "[25061  7882 38681 11482 37495]\n",
      "0.39198218262806234\n",
      "[17769 25061  4701 38681 11482]\n",
      "[17769 25061  4701 38681 11482]\n",
      "[25061  7882 38681 11482  5729]\n",
      "8 859\n",
      "0.20192307692307693\n",
      "[17488 17769 25061  7882 38681]\n",
      "[17769 25061  7882  4701 38681]\n",
      "[17488 17769 25061  7882  4701]\n",
      "0.24378109452736318\n",
      "[17488 17769 25061  7882 38681]\n",
      "[17769 25061  7882 38681 37495]\n",
      "[17488 17769 25061  7882 38681]\n",
      "0.41482739105829086\n",
      "[17488 25061 38681 11482 37495]\n",
      "[17769 25061  7882 38681 39588]\n",
      "[17488 17769  7882 38681 37495]\n",
      "9 136\n",
      "0.2315270935960591\n",
      "[17488 17769 25061  7882  4701]\n",
      "[17488 17769 25061  7882  4701]\n",
      "[17488 17769 25061  7882  4701]\n",
      "0.25156445556946183\n",
      "[17488 17769  7882  4701 38681]\n",
      "[17488 17769 25061  7882  4701]\n",
      "[17488 17769 25061  7882  4701]\n",
      "0.4124293785310734\n",
      "[ 4701 11482 37495  5729 25183]\n",
      "[17488 25061  7882  4701 38681]\n",
      "[17488 17769 25061  4701 39588]\n",
      "10 811\n",
      "0.21951219512195122\n",
      "[17488 17769 25061  7882  4701]\n",
      "[17488 25061  7882 38681 11482]\n",
      "[17488 25061  7882  4701 38681]\n",
      "0.24610591900311526\n",
      "[17488 25061  7882 38681 11482]\n",
      "[17488 25061  7882 38681 39588]\n",
      "[17488 25061  4701 38681 11482]\n",
      "0.43184421534937\n",
      "[17488 25061  7882 38681 25183]\n",
      "[ 7882 38681 39588  5729 20314]\n",
      "[17488  4701 11482 25183 20314]\n",
      "11 76\n",
      "0.19189511323003575\n",
      "[17488 17769 25061  7882  4701]\n",
      "[17488 17769 25061  7882 38681]\n",
      "[25061  7882  4701 38681 11482]\n",
      "0.23839009287925697\n",
      "[17488 17769 25061  7882  4701]\n",
      "[17488 17769 25061  7882 38681]\n",
      "[25061  7882  4701 38681 11482]\n",
      "0.42612664004563605\n",
      "[17769 25061  7882 39588 25183]\n",
      "[17488 17769 25061  7882 39588]\n",
      "[11482 37495  3832 37777 42394]\n",
      "12 636\n",
      "0.22699386503067484\n",
      "[17488 17769 25061  7882  4701]\n",
      "[17488 17769 25061  7882  4701]\n",
      "[17488 17769 25061  7882  4701]\n",
      "0.2634238787113076\n",
      "[17488 17769 25061  7882 38681]\n",
      "[17488 17769 25061  7882  4701]\n",
      "[17488 17769 25061  7882  4701]\n",
      "0.4302059496567506\n",
      "[17488 17769  7882 11482 37495]\n",
      "[17488 17769  7882  4701 11482]\n",
      "[17769 11482 37495 39588  5729]\n",
      "13 973\n",
      "0.16686114352392065\n",
      "[17488 17769 25061  7882  4701]\n",
      "[17488 17769 25061  7882  4701]\n",
      "[17488 17769 25061  7882  4701]\n",
      "0.1954572624028691\n",
      "[17488 17769  7882  4701 38681]\n",
      "[17488 17769 25061  7882  4701]\n",
      "[17488 17769 25061  7882  4701]\n",
      "0.38389150290617213\n",
      "[17488  7882 38681 11482 37495]\n",
      "[17769  7882  4701 11482 37495]\n",
      "[17488 17769 25061  7882 38681]\n",
      "14 938\n",
      "0.22399020807833536\n",
      "[17488 25061  7882  4701 38681]\n",
      "[17488 17769  7882  4701 38681]\n",
      "[17488 17769 25061  7882 38681]\n",
      "0.22249388753056235\n",
      "[17488  7882  4701 38681 11482]\n",
      "[17769  7882  4701 38681 11482]\n",
      "[25061  7882 38681 37495  3832]\n",
      "0.4289797084881395\n",
      "[17488  4701 38681 37495 39588]\n",
      "[17769  4701 38681 11482 37495]\n",
      "[25061  7882 38681  3832 49017]\n",
      "15 899\n",
      "0.22399020807833536\n",
      "[25061  7882  4701 38681 11482]\n",
      "[17488 25061  7882  4701 38681]\n",
      "[17488 17769  7882  4701 11482]\n",
      "0.2345679012345679\n",
      "[25061 38681 11482 37495 39588]\n",
      "[17488 25061  7882  4701 38681]\n",
      "[17769  7882  4701 11482 39588]\n",
      "0.42450142450142453\n",
      "[25061 38681 11482 37495 25183]\n",
      "[17488 25061  7882  4701 11482]\n",
      "[17769  7882 11482 39588 25183]\n",
      "16 280\n",
      "0.1806375442739079\n",
      "[17488 17769 25061  4701 38681]\n",
      "[17488 17769 25061  7882  4701]\n",
      "[17488 17769 25061  7882 38681]\n",
      "0.22249388753056235\n",
      "[17488 17769 25061  4701 11482]\n",
      "[17488 17769 25061  7882 38681]\n",
      "[17488 25061  7882 38681 11482]\n",
      "0.40252454417952316\n",
      "[17488 17769 25061 11482 37495]\n",
      "[17488  7882 11482 37495 39588]\n",
      "[ 7882 38681 11482 37495 39588]\n",
      "17 883\n",
      "0.20192307692307693\n",
      "[17488 17769 25061  7882  4701]\n",
      "[17488 17769 25061  7882  4701]\n",
      "[17488 17769 25061  7882  4701]\n",
      "0.23685837971552257\n",
      "[17488 17769 25061  7882  4701]\n",
      "[17488 17769 25061  7882  4701]\n",
      "[17488 17769 25061  7882  4701]\n",
      "0.4400921658986175\n",
      "[17488 38681 11482 37495 25183]\n",
      "[17488 17769 25061  7882 38681]\n",
      "[17769 25061  5729 25183 49017]\n",
      "18 761\n",
      "0.21802679658952498\n",
      "[17488 17769 25061  7882  4701]\n",
      "[17488 17769 25061  7882  4701]\n",
      "[17488 17769 25061  4701 38681]\n",
      "0.25234815278647466\n",
      "[17488 17769 25061  4701 38681]\n",
      "[17488 17769 25061  7882 38681]\n",
      "[17488 17769 25061  4701 38681]\n",
      "0.41843971631205673\n",
      "[17488 17769  4701 38681 37495]\n",
      "[25061 38681 39588 20314 49017]\n",
      "[17488 17769 25061 38681 11482]\n",
      "19 319\n",
      "0.21212121212121213\n",
      "[17488 17769 25061  7882 38681]\n",
      "[17488 17769 25061  7882  4701]\n",
      "[17488 25061  7882  4701 38681]\n",
      "0.22699386503067484\n",
      "[17488 17769 25061  7882 38681]\n",
      "[17488 17769 25061  7882  4701]\n",
      "[17488 25061  7882 11482 37495]\n",
      "0.4021312394840157\n",
      "[17769 39588 49017 31949 48996]\n",
      "[17488 17769 25061  7882 38681]\n",
      "[17488 25061  7882 11482 39588]\n",
      "20 549\n",
      "0.20192307692307693\n",
      "[17488 17769 25061  4701 38681]\n",
      "[17488 17769 25061  7882  4701]\n",
      "[17488 17769 25061  7882  4701]\n",
      "0.2414649286157666\n",
      "[17769 25061 38681 11482 37495]\n",
      "[17488 17769 25061  7882  4701]\n",
      "[17488 17769 25061  7882  4701]\n",
      "0.41683196372910175\n",
      "[25061 38681 37495 39588  5729]\n",
      "[25061  4701 38681 11482 37495]\n",
      "[17488 17769 25061  4701 38681]\n",
      "21 174\n",
      "0.16686114352392065\n",
      "[17488 17769  7882  4701 11482]\n",
      "[17488 17769 25061  7882  4701]\n",
      "[17488 17769 25061  7882  4701]\n",
      "0.20700060350030175\n",
      "[17488 17769  7882  4701 11482]\n",
      "[17488 17769 25061  7882  4701]\n",
      "[17488 25061  7882  4701 38681]\n",
      "0.412030499858797\n",
      "[ 7882  4701 11482 37495 39588]\n",
      "[17769  4701 38681 11482  5729]\n",
      "[ 7882  4701 38681  5729 49017]\n",
      "22 371\n",
      "0.1876484560570071\n",
      "[17488 17769 25061  7882  4701]\n",
      "[17488 17769 25061  4701 38681]\n",
      "[17488  7882  4701 38681 11482]\n",
      "0.221001221001221\n",
      "[17488 17769 25061  7882 38681]\n",
      "[17769 25061 38681 11482  5729]\n",
      "[17488  7882  4701 38681 11482]\n",
      "0.41562853907134767\n",
      "[17769 25061  7882 38681 11482]\n",
      "[38681 25183  3832 20314 49017]\n",
      "[17488  7882 11482  5729 25183]\n",
      "23 527\n",
      "0.2106537530266344\n",
      "[17488 17769 25061  7882  4701]\n",
      "[17488 17769 25061  7882  4701]\n",
      "[17488 17769 25061 38681 11482]\n",
      "0.2610340479192938\n",
      "[17488 17769 25061  7882  4701]\n",
      "[17488 17769 25061  7882  4701]\n",
      "[38681 11482 37495 39588  5729]\n",
      "0.43061516452074394\n",
      "[17488 25061  7882 38681 11482]\n",
      "[ 7882 11482 25183 49017 37777]\n",
      "[11482 39588  5729  3832 49017]\n",
      "24 210\n",
      "0.21654501216545013\n",
      "[17488 17769  4701 38681 11482]\n",
      "[17769  4701 38681 11482 37495]\n",
      "[17488 17769  7882 38681 11482]\n",
      "0.265022137887413\n",
      "[17769 38681 11482 37495  5729]\n",
      "[17769  4701 38681 11482 37495]\n",
      "[17488 17769 38681 11482 39588]\n",
      "0.4208581983518045\n",
      "[38681 11482  5729 25183  3832]\n",
      "[17769 38681 39588 25183 42394]\n",
      "[17769 38681 11482 39588  5729]\n",
      "25 235\n",
      "0.19474313022700118\n",
      "[17488 17769 25061  7882  4701]\n",
      "[17488 17769 25061  4701 38681]\n",
      "[17488 25061  7882  4701 38681]\n",
      "0.2376237623762376\n",
      "[17488 25061  4701 38681 11482]\n",
      "[17488 17769 25061  4701 38681]\n",
      "[17488 25061  7882  4701 38681]\n",
      "0.4108352144469526\n",
      "[17488 38681 39588  5729 25183]\n",
      "[17488 25061  4701 38681 37495]\n",
      "[25061  7882  4701 38681 11482]\n",
      "26 101\n",
      "0.19331742243436753\n",
      "[17488 17769  7882  4701 38681]\n",
      "[17488 25061  7882  4701 38681]\n",
      "[17488 17769 25061  7882  4701]\n",
      "0.21654501216545013\n",
      "[17488 17769  7882  4701 38681]\n",
      "[17488 25061  4701 11482 39588]\n",
      "[17488 17769 25061  7882  4701]\n",
      "0.40252454417952316\n",
      "[17769 38681 39588  5729  3832]\n",
      "[17488 25061 11482 39588  5729]\n",
      "[25061  4701 11482 37495 39588]\n",
      "27 986\n",
      "0.16414435389988358\n",
      "[17488 25061  7882 38681 11482]\n",
      "[17488 25061  7882 38681 11482]\n",
      "[17488 17769 25061  7882  4701]\n",
      "0.19474313022700118\n",
      "[25061  7882 38681 11482 37495]\n",
      "[17488 25061  7882 38681 11482]\n",
      "[17488 17769 25061  7882  4701]\n",
      "0.4068655036578503\n",
      "[25061  7882 11482 37495 39588]\n",
      "[17488  7882 38681 11482 39588]\n",
      "[17769 25061 38681  5729 25183]\n",
      "28 902\n",
      "0.19474313022700118\n",
      "[17488 17769  7882  4701 38681]\n",
      "[17488 17769 25061  7882  4701]\n",
      "[17488 17769 25061  4701 38681]\n",
      "0.24610591900311526\n",
      "[17488 17769  4701 38681 11482]\n",
      "[17488 17769 25061  7882  4701]\n",
      "[17488 17769 25061  4701 38681]\n",
      "0.43719459614831846\n",
      "[17769 38681 37495 25183 42394]\n",
      "[17488 25061  4701 38681 39588]\n",
      "[17769 25061  4701 38681 37495]\n",
      "29 947\n",
      "0.17785630153121318\n",
      "[17488 17769 25061  7882  4701]\n",
      "[17488 17769 25061  7882  4701]\n",
      "[17488 17769 25061  7882 38681]\n",
      "0.22549019607843138\n",
      "[17769 25061  7882  4701 38681]\n",
      "[17769 25061  7882  4701 38681]\n",
      "[17488 17769 25061  7882 38681]\n",
      "0.41843971631205673\n",
      "[17769 25061  7882  4701 11482]\n",
      "[17769 25061  4701 11482 37495]\n",
      "[11482 37495 20314 49017 37777]\n",
      "30 346\n",
      "0.1695906432748538\n",
      "[17488 17769 25061  7882  4701]\n",
      "[17488 17769 25061  7882 38681]\n",
      "[17488 17769 25061  7882  4701]\n",
      "0.20481927710843373\n",
      "[17488 25061  7882 38681 11482]\n",
      "[17488  7882 38681 11482 39588]\n",
      "[17488 17769 25061  7882  4701]\n",
      "0.3986013986013986\n",
      "[25061 38681 11482 25183 49017]\n",
      "[17488  7882 11482 25183 49017]\n",
      "[17488 17769 25061  4701 38681]\n",
      "31 139\n",
      "0.19760479041916168\n",
      "[17488 25061  7882  4701 38681]\n",
      "[17488 17769 25061  7882  4701]\n",
      "[17488 17769 25061  4701 39588]\n",
      "0.23839009287925697\n",
      "[25061  7882  4701 38681 11482]\n",
      "[17488 17769 25061  7882  4701]\n",
      "[17488 17769 25061  4701 39588]\n",
      "0.4044943820224719\n",
      "[25061  4701 11482 37495  5729]\n",
      "[17488 25061  7882  4701 38681]\n",
      "[17488 17769 25061  4701  5729]\n",
      "32 621\n",
      "0.20772946859903382\n",
      "[17488 17769 25061  7882  4701]\n",
      "[17488 25061  7882  4701 38681]\n",
      "[17488 17769 25061  7882  4701]\n",
      "0.2618296529968454\n",
      "[17488 25061  7882  4701 38681]\n",
      "[17488 25061  7882  4701 38681]\n",
      "[17488 17769 25061  7882  4701]\n",
      "0.4380212827149842\n",
      "[25061 38681 11482 39588  5729]\n",
      "[17488  7882  4701 11482 39588]\n",
      "[17769 25061  7882  4701 38681]\n",
      "33 499\n",
      "0.19760479041916168\n",
      "[17488 17769 25061  7882  4701]\n",
      "[17488 17769 25061  7882  4701]\n",
      "[17488 17769 25061  7882  4701]\n",
      "0.23533045089561458\n",
      "[17488 17769 25061  7882  4701]\n",
      "[17488 17769 25061  4701 38681]\n",
      "[17488 17769 25061  7882  4701]\n",
      "0.4310246136233543\n",
      "[ 4701 38681 11482 37495 39588]\n",
      "[17488 17769 25061 11482  5729]\n",
      "[17488 17769 25061  7882  4701]\n",
      "34 370\n",
      "0.19047619047619047\n",
      "[17488 17769 25061  7882  4701]\n",
      "[17488 17769  7882  4701 38681]\n",
      "[17488 17769 25061  7882  4701]\n",
      "0.22324159021406728\n",
      "[17488 17769 25061  7882 38681]\n",
      "[17488  7882  4701 38681 37495]\n",
      "[17488 17769 25061 38681 39588]\n",
      "0.3986013986013986\n",
      "[17769  7882 37495 49017 37777]\n",
      "[37495 49017 37777 42394  7235]\n",
      "[39588  5729 25183 20314 49017]\n",
      "35 198\n",
      "0.19047619047619047\n",
      "[17488 17769 25061  7882  4701]\n",
      "[17488 17769  7882  4701 38681]\n",
      "[17488 17769 25061  7882  4701]\n",
      "0.23992560446373218\n",
      "[17488 17769 25061  7882  4701]\n",
      "[17769  7882  4701 38681 11482]\n",
      "[17488 17769 25061  7882  4701]\n",
      "0.42857142857142855\n",
      "[ 7882  4701 38681 39588  5729]\n",
      "[17769  4701 11482 37495  5729]\n",
      "[17488 25061  7882 37495 39588]\n",
      "36 687\n",
      "0.20048019207683074\n",
      "[17488 17769 25061  7882  4701]\n",
      "[17488 17769  7882  4701 38681]\n",
      "[17488 25061  7882  4701 38681]\n",
      "0.22774708410067526\n",
      "[17488 17769 25061  7882  4701]\n",
      "[17488 17769  7882  4701 38681]\n",
      "[17488 25061  7882  4701 38681]\n",
      "0.40726146918097383\n",
      "[38681 39588  5729 25183 42394]\n",
      "[17488  7882  4701 38681 39588]\n",
      "[38681 37495 39588 25183 20314]\n",
      "37 584\n",
      "0.21212121212121213\n",
      "[17488 17769 25061  7882  4701]\n",
      "[17488 17769 25061  7882  4701]\n",
      "[17488 17769 25061  7882  4701]\n",
      "0.2315270935960591\n",
      "[17488 17769 25061  7882  4701]\n",
      "[17488 17769 25061  7882  4701]\n",
      "[17488 17769 25061  7882  4701]\n",
      "0.41723356009070295\n",
      "[17488 25061  7882 37495 25183]\n",
      "[25061  7882  4701 11482 37495]\n",
      "[17488  7882  4701 11482 37495]\n",
      "38 901\n",
      "0.18623962040332148\n",
      "[17488 17769 25061  7882  4701]\n",
      "[17488 17769  7882  4701 38681]\n",
      "[17488 17769 25061  7882  4701]\n",
      "0.2345679012345679\n",
      "[17488 17769 25061  7882  4701]\n",
      "[17488 17769  7882  4701 38681]\n",
      "[17488 25061  7882  4701 38681]\n",
      "0.429388221841052\n",
      "[17488 17769 25061  7882  4701]\n",
      "[17488 17769  7882 38681 39588]\n",
      "[25061  7882 38681 11482 37495]\n",
      "39 59\n",
      "0.24069478908188585\n",
      "[17488 17769 25061  7882  4701]\n",
      "[17488 17769  7882  4701 38681]\n",
      "[17769 25061  7882  4701 38681]\n",
      "0.257071024512885\n",
      "[17488 17769 25061  7882  4701]\n",
      "[17488 17769  7882  4701 38681]\n",
      "[17769 25061  4701 11482 37495]\n",
      "0.42450142450142453\n",
      "[25061  7882  4701 38681 37495]\n",
      "[17769  7882  4701 38681 11482]\n",
      "[17769 25061  4701 37495 39588]\n",
      "40 328\n",
      "0.1806375442739079\n",
      "[17488 17769 25061  7882 38681]\n",
      "[17488 17769 25061  7882  4701]\n",
      "[17488 17769 25061  7882  4701]\n",
      "0.2217470983506414\n",
      "[17488 17769 25061  7882 38681]\n",
      "[17488 17769 25061  7882  4701]\n",
      "[17488 25061  7882  4701 38681]\n",
      "0.41402714932126694\n",
      "[17488 25061  7882 11482  3832]\n",
      "[25061  7882 11482 25183  3832]\n",
      "[ 7882  4701 38681 11482 37495]\n",
      "41 96\n",
      "0.21951219512195122\n",
      "[17488 17769 25061  7882  4701]\n",
      "[17488 17769 25061  4701 38681]\n",
      "[17488 17769 25061  7882  4701]\n",
      "0.221001221001221\n",
      "[17769 25061  7882  4701 38681]\n",
      "[17488 17769 25061  4701 38681]\n",
      "[17488 17769 25061  7882  4701]\n",
      "0.4068655036578503\n",
      "[ 7882  4701 38681 11482  3832]\n",
      "[17769  4701 11482 37495 25183]\n",
      "[17488  4701 37495  5729  7235]\n",
      "42 312\n",
      "0.17233294255568582\n",
      "[25061  7882 38681 11482 39588]\n",
      "[17769 25061  7882 38681 11482]\n",
      "[17769 25061  7882  4701 11482]\n",
      "0.21359223300970873\n",
      "[ 7882 38681 11482 39588  5729]\n",
      "[17769 25061  7882 38681 11482]\n",
      "[17769 25061  7882 11482 37495]\n",
      "0.4021312394840157\n",
      "[38681 11482 25183 49017 31949]\n",
      "[17769 25061  7882 11482 39588]\n",
      "[ 5729 20314 49017 42394 31949]\n",
      "43 974\n",
      "0.21212121212121213\n",
      "[17488 17769  7882  4701 38681]\n",
      "[17488 17769 25061  7882  4701]\n",
      "[17488 17769 25061  7882  4701]\n",
      "0.25549278091650973\n",
      "[17488 17769  7882  4701 38681]\n",
      "[17488 17769 25061  7882  4701]\n",
      "[17488 17769 25061  7882  4701]\n",
      "0.4092446448703495\n",
      "[17488 17769  7882  4701 37495]\n",
      "[17488 17769  7882  4701 11482]\n",
      "[17488 17769 25061  7882 38681]\n",
      "44 299\n",
      "0.20627261761158022\n",
      "[17488 17769 25061  7882  4701]\n",
      "[17488 17769 25061  7882  4701]\n",
      "[17488 25061  7882  4701 38681]\n",
      "0.2292562999385372\n",
      "[17488 17769 25061  7882  4701]\n",
      "[17488 17769 25061  7882  4701]\n",
      "[17488 25061  7882 38681 11482]\n",
      "0.4088475626937165\n",
      "[17488 25061 38681 37495 39588]\n",
      "[17769  7882  4701 11482 39588]\n",
      "[25061  7882 38681 11482 39588]\n",
      "45 277\n",
      "0.21359223300970873\n",
      "[17488 17769  7882  4701 38681]\n",
      "[17488 17769 25061  7882  4701]\n",
      "[17488 17769 25061  7882  4701]\n",
      "0.2430080795525171\n",
      "[17769  7882  4701 38681 37495]\n",
      "[17488 17769 25061  7882  4701]\n",
      "[17488 17769 25061  7882  4701]\n",
      "0.42166619277793577\n",
      "[17769  7882  4701 38681 37495]\n",
      "[17488 17769  7882  4701 38681]\n",
      "[17769 25061  4701 37495  5729]\n",
      "46 924\n",
      "0.18623962040332148\n",
      "[17488 17769 25061  7882  4701]\n",
      "[17488 25061  7882  4701 38681]\n",
      "[17488 17769 25061  7882 38681]\n",
      "0.2055455093429777\n",
      "[17488 17769 25061  7882  4701]\n",
      "[17488  7882  4701 38681 11482]\n",
      "[17488 17769 25061  7882 38681]\n",
      "0.39120756816917085\n",
      "[17488  7882  4701 38681  5729]\n",
      "[17488  4701 38681 11482 37495]\n",
      "[17488 17769  7882 11482 39588]\n",
      "47 601\n",
      "0.16414435389988358\n",
      "[17488 25061  7882  4701 38681]\n",
      "[17488  7882  4701 38681 11482]\n",
      "[17488 17769 25061  7882  4701]\n",
      "0.2217470983506414\n",
      "[17488 25061  7882  4701 38681]\n",
      "[17488  7882  4701 38681 11482]\n",
      "[17488 17769  7882  4701 38681]\n",
      "0.4005602240896359\n",
      "[25061 38681 11482 39588  5729]\n",
      "[17488  7882  4701 38681 11482]\n",
      "[17488 17769  4701 11482 37495]\n",
      "48 439\n",
      "0.19760479041916168\n",
      "[17488 17769  7882  4701 38681]\n",
      "[17769  7882  4701 38681 11482]\n",
      "[17488 17769 25061  7882  4701]\n",
      "0.23228589032655575\n",
      "[17488 17769  7882 38681 11482]\n",
      "[17769  7882  4701 38681 11482]\n",
      "[17488 25061  7882  4701 38681]\n",
      "0.4088475626937165\n",
      "[ 7882 38681 11482 37495  5729]\n",
      "[ 4701 11482  5729 25183 42394]\n",
      "[17488  7882  5729 20314 42394]\n",
      "49 837\n",
      "0.21506682867557717\n",
      "[17488 17769 25061  7882  4701]\n",
      "[17488 25061  7882  4701 38681]\n",
      "[17488 25061  7882  4701 38681]\n",
      "0.2578616352201258\n",
      "[17488 17769 25061  7882  4701]\n",
      "[17488 25061  7882  4701 11482]\n",
      "[17488 25061  7882  4701 38681]\n",
      "0.4196479273140261\n",
      "[ 4701 11482 39588  5729 25183]\n",
      "[17488  4701 11482 39588  5729]\n",
      "[25061  7882 25183 42394  7235]\n",
      "50 570\n",
      "0.19331742243436753\n",
      "[17488 17769 25061  7882 38681]\n",
      "[17488 17769 25061  7882 38681]\n",
      "[17488 17769 25061  7882 38681]\n",
      "0.21876904326630103\n",
      "[17488 17769 25061  7882 38681]\n",
      "[17488 25061  7882 38681 37495]\n",
      "[17488 17769 25061  7882 38681]\n",
      "0.40607424071991\n",
      "[17488 17769  7882 38681 37495]\n",
      "[17488 25061  7882 37495 39588]\n",
      "[17769 38681 11482 25183  3832]\n",
      "51 879\n",
      "0.18203309692671396\n",
      "[17488 17769 25061  7882  4701]\n",
      "[17488 17769 25061  7882  4701]\n",
      "[17488 17769 25061  7882  4701]\n",
      "0.2476606363069245\n",
      "[17488 17769 25061  4701 38681]\n",
      "[17488 17769 25061  4701 38681]\n",
      "[17488 17769 25061  7882  4701]\n",
      "0.4347202295552367\n",
      "[17488 17769 25061  4701 37495]\n",
      "[17488 17769 37495 39588  5729]\n",
      "[17488  7882  4701 38681 37495]\n",
      "52 261\n",
      "0.19331742243436753\n",
      "[17488 17769 25061  7882 38681]\n",
      "[17488 25061  7882  4701 38681]\n",
      "[17488 17769 25061  7882  4701]\n",
      "0.224739742804654\n",
      "[17488 17769 25061  7882 38681]\n",
      "[17488 25061  7882  4701 38681]\n",
      "[17488 17769  7882  4701 38681]\n",
      "0.4092446448703495\n",
      "[17488 38681 11482 39588 25183]\n",
      "[ 7882 38681 11482 49017  7235]\n",
      "[ 7882  4701 11482  5729  3832]\n",
      "53 578\n",
      "0.1834319526627219\n",
      "[17488 17769 25061  7882  4701]\n",
      "[17488 17769 25061  4701 38681]\n",
      "[17488 17769 25061  7882  4701]\n",
      "0.1876484560570071\n",
      "[17488 17769 25061  4701 38681]\n",
      "[17488 17769 25061  4701 38681]\n",
      "[17488 17769 25061  7882  4701]\n",
      "0.3885031935573452\n",
      "[17769 25061 37495 25183  3832]\n",
      "[17488 38681 37495 39588  5729]\n",
      "[17488 17769  7882  4701 11482]\n",
      "54 23\n",
      "0.19189511323003575\n",
      "[17488 25061  7882  4701 38681]\n",
      "[17488 25061  7882  4701 38681]\n",
      "[17488 17769 25061  7882  4701]\n",
      "0.22624156958920907\n",
      "[17488 25061  7882  4701 38681]\n",
      "[17488 25061  7882  4701 11482]\n",
      "[17488 25061  7882  4701 11482]\n",
      "0.42005112184038623\n",
      "[17488 25061  4701 38681 39588]\n",
      "[17488 25061  4701 39588 25183]\n",
      "[17488 25061  4701 11482 25183]\n",
      "55 30\n",
      "0.21654501216545013\n",
      "[17488 17769 25061  7882 38681]\n",
      "[17488 17769  7882  4701 38681]\n",
      "[17488 17769 25061  7882  4701]\n",
      "0.2562814070351759\n",
      "[17488 17769  7882 38681 37495]\n",
      "[ 7882  4701 38681 11482 37495]\n",
      "[17488 17769  7882 37495 39588]\n",
      "0.4208581983518045\n",
      "[17488 17769 38681 37495 39588]\n",
      "[ 7882 38681 37495 25183 20314]\n",
      "[17488 37495  3832 49017 42394]\n",
      "56 617\n",
      "0.20772946859903382\n",
      "[17488 25061  7882  4701 38681]\n",
      "[17488 17769 25061  7882  4701]\n",
      "[17488 17769  7882  4701 38681]\n",
      "0.2376237623762376\n",
      "[17488 25061  7882  4701 38681]\n",
      "[17488 17769 25061  7882  4701]\n",
      "[17488  7882  4701 38681 11482]\n",
      "0.42369020501138954\n",
      "[25061 38681 11482  7235 31949]\n",
      "[25061 38681 11482 37495 39588]\n",
      "[ 4701 38681 11482 37495 39588]\n",
      "57 10\n",
      "0.21506682867557717\n",
      "[17488 25061  7882  4701 38681]\n",
      "[17488 17769 25061  7882  4701]\n",
      "[17488 17769 25061  7882  4701]\n",
      "0.2360939431396786\n",
      "[17488 25061  7882 38681 11482]\n",
      "[17488 17769 25061  7882  4701]\n",
      "[17769 25061  7882  4701 38681]\n",
      "0.4116318464144551\n",
      "[17488  7882 38681  3832 37777]\n",
      "[25061  7882 38681 11482 37495]\n",
      "[17769 25061  4701 11482 39588]\n",
      "58 221\n",
      "0.18623962040332148\n",
      "[17488 17769 25061  7882  4701]\n",
      "[17769 25061  7882  4701 11482]\n",
      "[17488 17769 25061  7882  4701]\n",
      "0.20409391932570742\n",
      "[17488 17769 25061  7882  4701]\n",
      "[17769 25061  7882  4701 11482]\n",
      "[17488 17769 25061  7882  4701]\n",
      "0.3908205841446453\n",
      "[17488 17769  7882  4701 38681]\n",
      "[17769  7882  4701 11482 37495]\n",
      "[17488 17769 25061  4701 37495]\n",
      "59 820\n",
      "0.17785630153121318\n",
      "[17488 17769  7882  4701 38681]\n",
      "[17488 25061  7882  4701 38681]\n",
      "[17488 17769 25061  7882  4701]\n",
      "0.2292562999385372\n",
      "[17769  7882  4701 11482 37495]\n",
      "[17488 25061  4701 11482 37495]\n",
      "[17488 17769 25061  7882  4701]\n",
      "0.40726146918097383\n",
      "[37495 39588  3832 20314 49017]\n",
      "[25061 11482 37495  5729 25183]\n",
      "[17488 17769 37495 39588 25183]\n"
     ]
    }
   ],
   "source": [
    "for index, my_i in enumerate(test_index):\n",
    "    print(index, my_i)\n",
    "    for k in [\n",
    "        # 250, \n",
    "        500, 1000, 2500, \n",
    "              # 5000\n",
    "             ]:\n",
    "        D_trak=-scores_list[0][my_i]\n",
    "        topK_trak = np.arange(10000)[D_trak.argsort()[0:k]]\n",
    "\n",
    "        D_ours=-scores_list[1][my_i]\n",
    "        topK_ours = np.arange(10000)[D_ours.argsort()[0:k]]\n",
    "\n",
    "        ####\n",
    "        D_random=-scores_list[2][my_i]\n",
    "        topK_random = np.arange(10000)[D_random.argsort()[0:k]]\n",
    "        ####\n",
    "\n",
    "        # print(len(np.intersect1d(topK_trak, topK_ours)))\n",
    "        # print(len(np.union1d(topK_trak, topK_ours)))\n",
    "        print(len(np.intersect1d(topK_trak, topK_ours))/len(np.union1d(topK_trak, topK_ours))) # Jaccard similarity\n",
    "\n",
    "        ####\n",
    "        new_idx_trak = np.delete(idx_train, topK_trak)\n",
    "        # print(len(new_idx_trak))\n",
    "        print(new_idx_trak[0:5])\n",
    "\n",
    "        with open(\"../../data/indices/5000-0.5/counter/{}-{}-TRAK.pkl\".format(index, k), 'wb') as handle:\n",
    "            pickle.dump(new_idx_trak, handle)\n",
    "        ####\n",
    "        new_idx_ours = np.delete(idx_train, topK_ours)\n",
    "        # print(len(new_idx_ours))\n",
    "        print(new_idx_ours[0:5])\n",
    "\n",
    "        with open(\"../../data/indices/5000-0.5/counter/{}-{}-Ours.pkl\".format(index, k), 'wb') as handle:\n",
    "            pickle.dump(new_idx_ours, handle)\n",
    "        ####\n",
    "        new_idx_random = np.delete(idx_train, topK_random)\n",
    "        # print(len(new_idx_random))\n",
    "        print(new_idx_random[0:5])\n",
    "\n",
    "        with open(\"../../data/indices/5000-0.5/counter/{}-{}-Random.pkl\".format(index, k), 'wb') as handle:\n",
    "            pickle.dump(new_idx_random, handle)"
   ]
  },
  {
   "cell_type": "code",
   "execution_count": null,
   "id": "e00e5ae2-1db4-438b-ab6d-41a62c54c7b9",
   "metadata": {},
   "outputs": [],
   "source": []
  },
  {
   "cell_type": "code",
   "execution_count": null,
   "id": "758611c8-ea34-4974-a9b3-7c520389e8b6",
   "metadata": {},
   "outputs": [],
   "source": []
  },
  {
   "cell_type": "code",
   "execution_count": null,
   "id": "54f156ae-8b5a-487f-905f-36f6efe25542",
   "metadata": {},
   "outputs": [],
   "source": []
  }
 ],
 "metadata": {
  "kernelspec": {
   "display_name": "Python 3 (ipykernel)",
   "language": "python",
   "name": "python3"
  },
  "language_info": {
   "codemirror_mode": {
    "name": "ipython",
    "version": 3
   },
   "file_extension": ".py",
   "mimetype": "text/x-python",
   "name": "python",
   "nbconvert_exporter": "python",
   "pygments_lexer": "ipython3",
   "version": "3.8.10"
  }
 },
 "nbformat": 4,
 "nbformat_minor": 5
}
