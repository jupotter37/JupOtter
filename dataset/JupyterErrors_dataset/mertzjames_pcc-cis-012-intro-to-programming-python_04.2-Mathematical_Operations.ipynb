{
 "cells": [
  {
   "cell_type": "markdown",
   "metadata": {
    "slideshow": {
     "slide_type": "slide"
    }
   },
   "source": [
    "## Mathematical Operations\n",
    "\n",
    "![](https://media.giphy.com/media/ccQ8MSKkjHE2c/giphy.gif)"
   ]
  },
  {
   "cell_type": "markdown",
   "metadata": {
    "slideshow": {
     "slide_type": "subslide"
    }
   },
   "source": [
    "The following operators are used for mathematical operations:\n",
    "\n",
    "| Operator          | Meaning             |\n",
    "| :------:          | --------            |\n",
    "| `+`               | addition            |\n",
    "| `-`               | subtraction         |\n",
    "| `/`               | division            |\n",
    "| `*`               | multiplication      |\n",
    "| `//`              | integer division    |\n",
    "| `%`               | modulus (remainder) |\n",
    "| `**`, `pow()`     | exponentiation      |"
   ]
  },
  {
   "cell_type": "code",
   "execution_count": 3,
   "metadata": {},
   "outputs": [
    {
     "name": "stdout",
     "output_type": "stream",
     "text": [
      "12\n",
      "1\n"
     ]
    }
   ],
   "source": [
    "# Addition\n",
    "print(3 + 9)\n",
    "print(-3 + 4.0)"
   ]
  },
  {
   "cell_type": "code",
   "execution_count": 7,
   "metadata": {
    "slideshow": {
     "slide_type": "subslide"
    }
   },
   "outputs": [
    {
     "name": "stdout",
     "output_type": "stream",
     "text": [
      "6\n",
      "-14.0\n"
     ]
    }
   ],
   "source": [
    "# Substration\n",
    "print(9 - 3)\n",
    "print(-10.0 - 4)"
   ]
  },
  {
   "cell_type": "code",
   "execution_count": 6,
   "metadata": {
    "slideshow": {
     "slide_type": "subslide"
    }
   },
   "outputs": [
    {
     "name": "stdout",
     "output_type": "stream",
     "text": [
      "12\n",
      "-12.0\n"
     ]
    }
   ],
   "source": [
    "# Multiplication\n",
    "print(4 * 3)\n",
    "print(6 * -2.0)"
   ]
  },
  {
   "cell_type": "code",
   "execution_count": 8,
   "metadata": {
    "slideshow": {
     "slide_type": "subslide"
    }
   },
   "outputs": [
    {
     "name": "stdout",
     "output_type": "stream",
     "text": [
      "2.0\n",
      "2.6666666666666665\n"
     ]
    }
   ],
   "source": [
    "# Division\n",
    "print(4 / 2)\n",
    "print(8 / 3.0)"
   ]
  },
  {
   "cell_type": "code",
   "execution_count": 15,
   "metadata": {
    "slideshow": {
     "slide_type": "subslide"
    }
   },
   "outputs": [
    {
     "name": "stdout",
     "output_type": "stream",
     "text": [
      "2\n",
      "2.0\n"
     ]
    }
   ],
   "source": [
    "# Integer Division (Floor Division)\n",
    "print(5 // 2)\n",
    "\n",
    "# even though its call Integer division, you can use floats with this operator\n",
    "# and you'll be given the floored division (rounded down)\n",
    "print(5.2 // 2.5)"
   ]
  },
  {
   "cell_type": "code",
   "execution_count": 18,
   "metadata": {
    "slideshow": {
     "slide_type": "subslide"
    }
   },
   "outputs": [
    {
     "name": "stdout",
     "output_type": "stream",
     "text": [
      "1\n",
      "0.20000000000000018\n"
     ]
    }
   ],
   "source": [
    "## Modulus\n",
    "print(5 % 2)\n",
    "\n",
    "# this works for floats as well!\n",
    "print(5.2 % 2.5)"
   ]
  },
  {
   "cell_type": "code",
   "execution_count": 21,
   "metadata": {
    "slideshow": {
     "slide_type": "subslide"
    }
   },
   "outputs": [
    {
     "ename": "ZeroDivisionError",
     "evalue": "division by zero",
     "output_type": "error",
     "traceback": [
      "\u001b[0;31m---------------------------------------------------------------------------\u001b[0m",
      "\u001b[0;31mZeroDivisionError\u001b[0m                         Traceback (most recent call last)",
      "\u001b[0;32m<ipython-input-21-866c970da5b1>\u001b[0m in \u001b[0;36m<module>\u001b[0;34m\u001b[0m\n\u001b[1;32m      2\u001b[0m \u001b[0;31m# division, will return an error:\u001b[0m\u001b[0;34m\u001b[0m\u001b[0;34m\u001b[0m\u001b[0m\n\u001b[1;32m      3\u001b[0m \u001b[0;34m\u001b[0m\u001b[0m\n\u001b[0;32m----> 4\u001b[0;31m \u001b[0;36m5\u001b[0m \u001b[0;34m/\u001b[0m \u001b[0;36m0\u001b[0m\u001b[0;34m\u001b[0m\u001b[0m\n\u001b[0m",
      "\u001b[0;31mZeroDivisionError\u001b[0m: division by zero"
     ]
    }
   ],
   "source": [
    "# GOTCHA: Beware that a division by 0 whether by regular, integer, or modulus\n",
    "# division, will return an error:\n",
    "\n",
    "5 / 0"
   ]
  },
  {
   "cell_type": "code",
   "execution_count": 27,
   "metadata": {
    "slideshow": {
     "slide_type": "subslide"
    }
   },
   "outputs": [
    {
     "name": "stdout",
     "output_type": "stream",
     "text": [
      "4\n",
      "5.196152422706632\n",
      "3.0\n",
      "0.25\n"
     ]
    }
   ],
   "source": [
    "# Exponents can be used with integers and floats\n",
    "print(2 ** 2)\n",
    "print(3 ** 1.5)\n",
    "print(9 ** 0.5)\n",
    "print(2 ** -2)"
   ]
  },
  {
   "cell_type": "markdown",
   "metadata": {
    "slideshow": {
     "slide_type": "subslide"
    }
   },
   "source": [
    "Order also matters, so here is the precedence from highest to lowest:\n",
    "\n",
    "| Precedence | Operators            |\n",
    "| :--------: | -------------------- |\n",
    "| 1          | contents within `()` |\n",
    "| 2          | `*`, `/`, `//`, `%`  |\n",
    "| 3          | `+`, `-`             |"
   ]
  },
  {
   "cell_type": "code",
   "execution_count": 29,
   "metadata": {
    "slideshow": {
     "slide_type": "subslide"
    }
   },
   "outputs": [
    {
     "name": "stdout",
     "output_type": "stream",
     "text": [
      "5\n"
     ]
    }
   ],
   "source": [
    "value = 2 * 3 - 1\n",
    "print(value)"
   ]
  },
  {
   "cell_type": "code",
   "execution_count": 30,
   "metadata": {
    "slideshow": {
     "slide_type": "-"
    }
   },
   "outputs": [
    {
     "name": "stdout",
     "output_type": "stream",
     "text": [
      "10.0\n"
     ]
    }
   ],
   "source": [
    "value = 4/2 + 2**3\n",
    "print(value)"
   ]
  },
  {
   "cell_type": "code",
   "execution_count": 31,
   "metadata": {
    "slideshow": {
     "slide_type": "-"
    }
   },
   "outputs": [
    {
     "name": "stdout",
     "output_type": "stream",
     "text": [
      "-3\n"
     ]
    }
   ],
   "source": [
    "value = -1 + (-3*2 + 4)\n",
    "print(value)"
   ]
  },
  {
   "cell_type": "markdown",
   "metadata": {
    "slideshow": {
     "slide_type": "subslide"
    }
   },
   "source": [
    "### In-Class exercise\n",
    "- Write a script that creates two variables.  Both should have the same value of 25,000,000 but one uses underscores and the other doesn't.\n",
    "- Write a script that assigns the floating-point value of 175000.0 to a variable using exponential (e) notation and then prints the value to the terminal.\n",
    "- Write a script that prompts the user to enter a base and then an exponent.  Print out to the user the following:\n",
    "    - `<base> to the power of <exponent> = <value>` where `<base>` is the user input for the base, `<exponent>` is the user input for the exponent, and `<value>` is the calculated value"
   ]
  },
  {
   "cell_type": "code",
   "execution_count": null,
   "metadata": {},
   "outputs": [],
   "source": []
  }
 ],
 "metadata": {
  "kernelspec": {
   "display_name": "Python 3",
   "language": "python",
   "name": "python3"
  },
  "language_info": {
   "codemirror_mode": {
    "name": "ipython",
    "version": 3
   },
   "file_extension": ".py",
   "mimetype": "text/x-python",
   "name": "python",
   "nbconvert_exporter": "python",
   "pygments_lexer": "ipython3",
   "version": "3.8.3"
  }
 },
 "nbformat": 4,
 "nbformat_minor": 4
}
