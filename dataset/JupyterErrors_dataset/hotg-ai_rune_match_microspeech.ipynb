{
 "cells": [
  {
   "cell_type": "code",
   "execution_count": 2,
   "id": "another-differential",
   "metadata": {},
   "outputs": [],
   "source": [
    "from tf_speech_commands.models import prepare_model_settings"
   ]
  },
  {
   "cell_type": "code",
   "execution_count": 8,
   "id": "harmful-trust",
   "metadata": {},
   "outputs": [
    {
     "ename": "ZeroDivisionError",
     "evalue": "division by zero",
     "output_type": "error",
     "traceback": [
      "\u001b[0;31m---------------------------------------------------------------------------\u001b[0m",
      "\u001b[0;31mZeroDivisionError\u001b[0m                         Traceback (most recent call last)",
      "\u001b[0;32m<ipython-input-8-6a4c72c88802>\u001b[0m in \u001b[0;36m<module>\u001b[0;34m\u001b[0m\n\u001b[1;32m      1\u001b[0m prepare_model_settings(1, 1, 1,\n\u001b[1;32m      2\u001b[0m                            \u001b[0;36m1\u001b[0m\u001b[0;34m,\u001b[0m \u001b[0;36m1\u001b[0m\u001b[0;34m,\u001b[0m \u001b[0;36m1\u001b[0m\u001b[0;34m,\u001b[0m\u001b[0;34m\u001b[0m\u001b[0;34m\u001b[0m\u001b[0m\n\u001b[0;32m----> 3\u001b[0;31m                            1, upper_mel_band_limit=7500, lower_mel_band_limit=125)\n\u001b[0m",
      "\u001b[0;32m~/Documents/hotg/rune/examples/microspeech/tf_speech_commands/models.py\u001b[0m in \u001b[0;36mprepare_model_settings\u001b[0;34m(label_count, sample_rate, clip_duration_ms, window_size_ms, window_stride_ms, feature_bin_count, preprocess, upper_mel_band_limit, lower_mel_band_limit)\u001b[0m\n\u001b[1;32m     64\u001b[0m     \u001b[0mspectrogram_length\u001b[0m \u001b[0;34m=\u001b[0m \u001b[0;36m0\u001b[0m\u001b[0;34m\u001b[0m\u001b[0;34m\u001b[0m\u001b[0m\n\u001b[1;32m     65\u001b[0m   \u001b[0;32melse\u001b[0m\u001b[0;34m:\u001b[0m\u001b[0;34m\u001b[0m\u001b[0;34m\u001b[0m\u001b[0m\n\u001b[0;32m---> 66\u001b[0;31m     \u001b[0mspectrogram_length\u001b[0m \u001b[0;34m=\u001b[0m \u001b[0;36m1\u001b[0m \u001b[0;34m+\u001b[0m \u001b[0mint\u001b[0m\u001b[0;34m(\u001b[0m\u001b[0mlength_minus_window\u001b[0m \u001b[0;34m/\u001b[0m \u001b[0mwindow_stride_samples\u001b[0m\u001b[0;34m)\u001b[0m\u001b[0;34m\u001b[0m\u001b[0;34m\u001b[0m\u001b[0m\n\u001b[0m\u001b[1;32m     67\u001b[0m   \u001b[0;32mif\u001b[0m \u001b[0mpreprocess\u001b[0m \u001b[0;34m==\u001b[0m \u001b[0;34m'average'\u001b[0m\u001b[0;34m:\u001b[0m\u001b[0;34m\u001b[0m\u001b[0;34m\u001b[0m\u001b[0m\n\u001b[1;32m     68\u001b[0m     \u001b[0mfft_bin_count\u001b[0m \u001b[0;34m=\u001b[0m \u001b[0;36m1\u001b[0m \u001b[0;34m+\u001b[0m \u001b[0;34m(\u001b[0m\u001b[0m_next_power_of_two\u001b[0m\u001b[0;34m(\u001b[0m\u001b[0mwindow_size_samples\u001b[0m\u001b[0;34m)\u001b[0m \u001b[0;34m/\u001b[0m \u001b[0;36m2\u001b[0m\u001b[0;34m)\u001b[0m\u001b[0;34m\u001b[0m\u001b[0;34m\u001b[0m\u001b[0m\n",
      "\u001b[0;31mZeroDivisionError\u001b[0m: division by zero"
     ]
    }
   ],
   "source": [
    "prepare_model_settings(1, 1, 1,\n",
    "                           1, 1, 1,\n",
    "                           1, upper_mel_band_limit=7500, lower_mel_band_limit=125)"
   ]
  },
  {
   "cell_type": "code",
   "execution_count": null,
   "id": "finite-southeast",
   "metadata": {},
   "outputs": [],
   "source": [
    "python side\n",
    "side"
   ]
  }
 ],
 "metadata": {
  "kernelspec": {
   "display_name": "Python 3",
   "language": "python",
   "name": "python3"
  },
  "language_info": {
   "codemirror_mode": {
    "name": "ipython",
    "version": 3
   },
   "file_extension": ".py",
   "mimetype": "text/x-python",
   "name": "python",
   "nbconvert_exporter": "python",
   "pygments_lexer": "ipython3",
   "version": "3.7.6"
  }
 },
 "nbformat": 4,
 "nbformat_minor": 5
}
