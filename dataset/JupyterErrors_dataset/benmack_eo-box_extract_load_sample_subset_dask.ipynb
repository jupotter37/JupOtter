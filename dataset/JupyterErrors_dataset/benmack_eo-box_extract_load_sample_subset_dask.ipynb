{
 "cells": [
  {
   "cell_type": "markdown",
   "metadata": {},
   "source": [
    "# Load Sample Subset from Extracted Data with dask"
   ]
  },
  {
   "cell_type": "code",
   "execution_count": 1,
   "metadata": {},
   "outputs": [],
   "source": [
    "import fnmatch\n",
    "import geopandas as gpd\n",
    "import os\n",
    "import pandas as pd\n",
    "from pathlib import Path\n",
    "\n",
    "from eobox.raster import extraction\n",
    "from eobox import sampledata\n",
    "\n",
    "%matplotlib inline"
   ]
  },
  {
   "cell_type": "code",
   "execution_count": 2,
   "metadata": {},
   "outputs": [
    {
     "name": "stdout",
     "output_type": "stream",
     "text": [
      "(3500, 1)\n"
     ]
    },
    {
     "data": {
      "text/html": [
       "<div>\n",
       "<style scoped>\n",
       "    .dataframe tbody tr th:only-of-type {\n",
       "        vertical-align: middle;\n",
       "    }\n",
       "\n",
       "    .dataframe tbody tr th {\n",
       "        vertical-align: top;\n",
       "    }\n",
       "\n",
       "    .dataframe thead th {\n",
       "        text-align: right;\n",
       "    }\n",
       "</style>\n",
       "<table border=\"1\" class=\"dataframe\">\n",
       "  <thead>\n",
       "    <tr style=\"text-align: right;\">\n",
       "      <th></th>\n",
       "      <th>aux_vector_pid</th>\n",
       "    </tr>\n",
       "  </thead>\n",
       "  <tbody>\n",
       "    <tr>\n",
       "      <th>0</th>\n",
       "      <td>17</td>\n",
       "    </tr>\n",
       "    <tr>\n",
       "      <th>1</th>\n",
       "      <td>17</td>\n",
       "    </tr>\n",
       "    <tr>\n",
       "      <th>2</th>\n",
       "      <td>6</td>\n",
       "    </tr>\n",
       "    <tr>\n",
       "      <th>3</th>\n",
       "      <td>6</td>\n",
       "    </tr>\n",
       "    <tr>\n",
       "      <th>4</th>\n",
       "      <td>6</td>\n",
       "    </tr>\n",
       "  </tbody>\n",
       "</table>\n",
       "</div>"
      ],
      "text/plain": [
       "   aux_vector_pid\n",
       "0              17\n",
       "1              17\n",
       "2               6\n",
       "3               6\n",
       "4               6"
      ]
     },
     "metadata": {},
     "output_type": "display_data"
    },
    {
     "data": {
      "text/plain": [
       "109"
      ]
     },
     "execution_count": 2,
     "metadata": {},
     "output_type": "execute_result"
    }
   ],
   "source": [
    "dataset = sampledata.get_dataset(\"s2l1c\")\n",
    "\n",
    "src_vector = dataset[\"vector_file\"]\n",
    "burn_attribute = \"pid\"  # should be unique for the polygons and not contain zero\n",
    "src_raster = fnmatch.filter(dataset[\"raster_files\"], \"*B0[2,3,4,8]*\")  # 10 m bands\n",
    "dst_names = [\"_\".join(Path(src).stem.split(\"_\")[1::]) for src in src_raster]\n",
    "extraction_dir = Path(\"./xxx_uncontrolled/s2l1c_ref__s2l1c/s2_l1c/10m\")\n",
    "extraction.extract(src_vector=src_vector,\n",
    "                   burn_attribute=burn_attribute,\n",
    "                   src_raster=src_raster,\n",
    "                   dst_names=dst_names,\n",
    "                   dst_dir=extraction_dir)\n",
    "df_extracted = extraction.load_extracted(extraction_dir, \"*pid.npy\")\n",
    "print(df_extracted.shape)\n",
    "display(df_extracted.head())\n",
    "index_29 = (df_extracted[\"aux_vector_pid\"] == 29)\n",
    "index_29.sum()"
   ]
  },
  {
   "cell_type": "code",
   "execution_count": 3,
   "metadata": {},
   "outputs": [
    {
     "name": "stdout",
     "output_type": "stream",
     "text": [
      "(109, 1)\n"
     ]
    },
    {
     "data": {
      "text/html": [
       "<div>\n",
       "<style scoped>\n",
       "    .dataframe tbody tr th:only-of-type {\n",
       "        vertical-align: middle;\n",
       "    }\n",
       "\n",
       "    .dataframe tbody tr th {\n",
       "        vertical-align: top;\n",
       "    }\n",
       "\n",
       "    .dataframe thead th {\n",
       "        text-align: right;\n",
       "    }\n",
       "</style>\n",
       "<table border=\"1\" class=\"dataframe\">\n",
       "  <thead>\n",
       "    <tr style=\"text-align: right;\">\n",
       "      <th></th>\n",
       "      <th>aux_vector_pid</th>\n",
       "    </tr>\n",
       "  </thead>\n",
       "  <tbody>\n",
       "    <tr>\n",
       "      <th>839</th>\n",
       "      <td>29</td>\n",
       "    </tr>\n",
       "    <tr>\n",
       "      <th>840</th>\n",
       "      <td>29</td>\n",
       "    </tr>\n",
       "  </tbody>\n",
       "</table>\n",
       "</div>"
      ],
      "text/plain": [
       "     aux_vector_pid\n",
       "839              29\n",
       "840              29"
      ]
     },
     "metadata": {},
     "output_type": "display_data"
    },
    {
     "data": {
      "text/html": [
       "<div>\n",
       "<style scoped>\n",
       "    .dataframe tbody tr th:only-of-type {\n",
       "        vertical-align: middle;\n",
       "    }\n",
       "\n",
       "    .dataframe tbody tr th {\n",
       "        vertical-align: top;\n",
       "    }\n",
       "\n",
       "    .dataframe thead th {\n",
       "        text-align: right;\n",
       "    }\n",
       "</style>\n",
       "<table border=\"1\" class=\"dataframe\">\n",
       "  <thead>\n",
       "    <tr style=\"text-align: right;\">\n",
       "      <th></th>\n",
       "      <th>aux_vector_pid</th>\n",
       "    </tr>\n",
       "  </thead>\n",
       "  <tbody>\n",
       "    <tr>\n",
       "      <th>946</th>\n",
       "      <td>29</td>\n",
       "    </tr>\n",
       "    <tr>\n",
       "      <th>947</th>\n",
       "      <td>29</td>\n",
       "    </tr>\n",
       "  </tbody>\n",
       "</table>\n",
       "</div>"
      ],
      "text/plain": [
       "     aux_vector_pid\n",
       "946              29\n",
       "947              29"
      ]
     },
     "metadata": {},
     "output_type": "display_data"
    }
   ],
   "source": [
    "print(df_extracted[index_29].shape)\n",
    "display(df_extracted[index_29].head(2))\n",
    "display(df_extracted[index_29].tail(2))"
   ]
  },
  {
   "cell_type": "code",
   "execution_count": 4,
   "metadata": {},
   "outputs": [
    {
     "name": "stdout",
     "output_type": "stream",
     "text": [
      "(109, 7)\n"
     ]
    },
    {
     "data": {
      "text/html": [
       "<div>\n",
       "<style scoped>\n",
       "    .dataframe tbody tr th:only-of-type {\n",
       "        vertical-align: middle;\n",
       "    }\n",
       "\n",
       "    .dataframe tbody tr th {\n",
       "        vertical-align: top;\n",
       "    }\n",
       "\n",
       "    .dataframe thead th {\n",
       "        text-align: right;\n",
       "    }\n",
       "</style>\n",
       "<table border=\"1\" class=\"dataframe\">\n",
       "  <thead>\n",
       "    <tr style=\"text-align: right;\">\n",
       "      <th></th>\n",
       "      <th>20170216T102101_B02</th>\n",
       "      <th>20170216T102101_B03</th>\n",
       "      <th>20170216T102101_B04</th>\n",
       "      <th>20170216T102101_B08</th>\n",
       "      <th>aux_coord_x</th>\n",
       "      <th>aux_coord_y</th>\n",
       "      <th>aux_vector_pid</th>\n",
       "    </tr>\n",
       "  </thead>\n",
       "  <tbody>\n",
       "    <tr>\n",
       "      <th>839</th>\n",
       "      <td>1456</td>\n",
       "      <td>1136</td>\n",
       "      <td>1056</td>\n",
       "      <td>1696</td>\n",
       "      <td>341675.0</td>\n",
       "      <td>5820745.0</td>\n",
       "      <td>29</td>\n",
       "    </tr>\n",
       "    <tr>\n",
       "      <th>840</th>\n",
       "      <td>1456</td>\n",
       "      <td>1136</td>\n",
       "      <td>1056</td>\n",
       "      <td>1632</td>\n",
       "      <td>341685.0</td>\n",
       "      <td>5820745.0</td>\n",
       "      <td>29</td>\n",
       "    </tr>\n",
       "    <tr>\n",
       "      <th>841</th>\n",
       "      <td>1456</td>\n",
       "      <td>1136</td>\n",
       "      <td>1056</td>\n",
       "      <td>1632</td>\n",
       "      <td>341695.0</td>\n",
       "      <td>5820745.0</td>\n",
       "      <td>29</td>\n",
       "    </tr>\n",
       "    <tr>\n",
       "      <th>842</th>\n",
       "      <td>1424</td>\n",
       "      <td>1136</td>\n",
       "      <td>1056</td>\n",
       "      <td>1632</td>\n",
       "      <td>341705.0</td>\n",
       "      <td>5820745.0</td>\n",
       "      <td>29</td>\n",
       "    </tr>\n",
       "    <tr>\n",
       "      <th>843</th>\n",
       "      <td>1488</td>\n",
       "      <td>1136</td>\n",
       "      <td>1056</td>\n",
       "      <td>1632</td>\n",
       "      <td>341715.0</td>\n",
       "      <td>5820745.0</td>\n",
       "      <td>29</td>\n",
       "    </tr>\n",
       "  </tbody>\n",
       "</table>\n",
       "</div>"
      ],
      "text/plain": [
       "     20170216T102101_B02  20170216T102101_B03  20170216T102101_B04  \\\n",
       "839                 1456                 1136                 1056   \n",
       "840                 1456                 1136                 1056   \n",
       "841                 1456                 1136                 1056   \n",
       "842                 1424                 1136                 1056   \n",
       "843                 1488                 1136                 1056   \n",
       "\n",
       "     20170216T102101_B08  aux_coord_x  aux_coord_y  aux_vector_pid  \n",
       "839                 1696     341675.0    5820745.0              29  \n",
       "840                 1632     341685.0    5820745.0              29  \n",
       "841                 1632     341695.0    5820745.0              29  \n",
       "842                 1632     341705.0    5820745.0              29  \n",
       "843                 1632     341715.0    5820745.0              29  "
      ]
     },
     "execution_count": 4,
     "metadata": {},
     "output_type": "execute_result"
    }
   ],
   "source": [
    "df_extracted_29 = extraction.load_extracted(extraction_dir, index=index_29)\n",
    "print(df_extracted_29.shape)\n",
    "df_extracted_29.head()"
   ]
  },
  {
   "cell_type": "markdown",
   "metadata": {},
   "source": [
    "## Load with dask - WIP"
   ]
  },
  {
   "cell_type": "code",
   "execution_count": 7,
   "metadata": {},
   "outputs": [],
   "source": [
    "npy_path_list = extraction.get_paths_of_extracted(extraction_dir)"
   ]
  },
  {
   "cell_type": "code",
   "execution_count": 15,
   "metadata": {},
   "outputs": [],
   "source": [
    "%load_ext autoreload\n",
    "%autoreload 2"
   ]
  },
  {
   "cell_type": "code",
   "execution_count": 22,
   "metadata": {},
   "outputs": [
    {
     "data": {
      "text/html": [
       "<div><strong>Dask DataFrame Structure:</strong></div>\n",
       "<div>\n",
       "<style scoped>\n",
       "    .dataframe tbody tr th:only-of-type {\n",
       "        vertical-align: middle;\n",
       "    }\n",
       "\n",
       "    .dataframe tbody tr th {\n",
       "        vertical-align: top;\n",
       "    }\n",
       "\n",
       "    .dataframe thead th {\n",
       "        text-align: right;\n",
       "    }\n",
       "</style>\n",
       "<table border=\"1\" class=\"dataframe\">\n",
       "  <thead>\n",
       "    <tr style=\"text-align: right;\">\n",
       "      <th></th>\n",
       "      <th>20170216T102101_B02</th>\n",
       "      <th>20170216T102101_B03</th>\n",
       "      <th>20170216T102101_B04</th>\n",
       "      <th>20170216T102101_B08</th>\n",
       "      <th>aux_coord_x</th>\n",
       "      <th>aux_coord_y</th>\n",
       "      <th>aux_vector_pid</th>\n",
       "    </tr>\n",
       "    <tr>\n",
       "      <th>npartitions=1</th>\n",
       "      <th></th>\n",
       "      <th></th>\n",
       "      <th></th>\n",
       "      <th></th>\n",
       "      <th></th>\n",
       "      <th></th>\n",
       "      <th></th>\n",
       "    </tr>\n",
       "  </thead>\n",
       "  <tbody>\n",
       "    <tr>\n",
       "      <th></th>\n",
       "      <td>uint16</td>\n",
       "      <td>uint16</td>\n",
       "      <td>uint16</td>\n",
       "      <td>uint16</td>\n",
       "      <td>float64</td>\n",
       "      <td>float64</td>\n",
       "      <td>uint32</td>\n",
       "    </tr>\n",
       "    <tr>\n",
       "      <th></th>\n",
       "      <td>...</td>\n",
       "      <td>...</td>\n",
       "      <td>...</td>\n",
       "      <td>...</td>\n",
       "      <td>...</td>\n",
       "      <td>...</td>\n",
       "      <td>...</td>\n",
       "    </tr>\n",
       "  </tbody>\n",
       "</table>\n",
       "</div>\n",
       "<div>Dask Name: from-delayed, 9 tasks</div>"
      ],
      "text/plain": [
       "Dask DataFrame Structure:\n",
       "              20170216T102101_B02 20170216T102101_B03 20170216T102101_B04 20170216T102101_B08 aux_coord_x aux_coord_y aux_vector_pid\n",
       "npartitions=1                                                                                                                       \n",
       "                           uint16              uint16              uint16              uint16     float64     float64         uint32\n",
       "                              ...                 ...                 ...                 ...         ...         ...            ...\n",
       "Dask Name: from-delayed, 9 tasks"
      ]
     },
     "execution_count": 22,
     "metadata": {},
     "output_type": "execute_result"
    }
   ],
   "source": [
    "ddf = extraction.load_extracted_dask(npy_path_list, index=None)\n",
    "ddf"
   ]
  },
  {
   "cell_type": "code",
   "execution_count": 24,
   "metadata": {},
   "outputs": [
    {
     "data": {
      "text/html": [
       "<div><strong>Dask DataFrame Structure:</strong></div>\n",
       "<div>\n",
       "<style scoped>\n",
       "    .dataframe tbody tr th:only-of-type {\n",
       "        vertical-align: middle;\n",
       "    }\n",
       "\n",
       "    .dataframe tbody tr th {\n",
       "        vertical-align: top;\n",
       "    }\n",
       "\n",
       "    .dataframe thead th {\n",
       "        text-align: right;\n",
       "    }\n",
       "</style>\n",
       "<table border=\"1\" class=\"dataframe\">\n",
       "  <thead>\n",
       "    <tr style=\"text-align: right;\">\n",
       "      <th></th>\n",
       "      <th>20170216T102101_B02</th>\n",
       "      <th>20170216T102101_B03</th>\n",
       "      <th>20170216T102101_B04</th>\n",
       "      <th>20170216T102101_B08</th>\n",
       "      <th>aux_coord_x</th>\n",
       "      <th>aux_coord_y</th>\n",
       "      <th>aux_vector_pid</th>\n",
       "    </tr>\n",
       "    <tr>\n",
       "      <th>npartitions=1</th>\n",
       "      <th></th>\n",
       "      <th></th>\n",
       "      <th></th>\n",
       "      <th></th>\n",
       "      <th></th>\n",
       "      <th></th>\n",
       "      <th></th>\n",
       "    </tr>\n",
       "  </thead>\n",
       "  <tbody>\n",
       "    <tr>\n",
       "      <th></th>\n",
       "      <td>uint16</td>\n",
       "      <td>uint16</td>\n",
       "      <td>uint16</td>\n",
       "      <td>uint16</td>\n",
       "      <td>float64</td>\n",
       "      <td>float64</td>\n",
       "      <td>uint32</td>\n",
       "    </tr>\n",
       "    <tr>\n",
       "      <th></th>\n",
       "      <td>...</td>\n",
       "      <td>...</td>\n",
       "      <td>...</td>\n",
       "      <td>...</td>\n",
       "      <td>...</td>\n",
       "      <td>...</td>\n",
       "      <td>...</td>\n",
       "    </tr>\n",
       "  </tbody>\n",
       "</table>\n",
       "</div>\n",
       "<div>Dask Name: from-delayed, 9 tasks</div>"
      ],
      "text/plain": [
       "Dask DataFrame Structure:\n",
       "              20170216T102101_B02 20170216T102101_B03 20170216T102101_B04 20170216T102101_B08 aux_coord_x aux_coord_y aux_vector_pid\n",
       "npartitions=1                                                                                                                       \n",
       "                           uint16              uint16              uint16              uint16     float64     float64         uint32\n",
       "                              ...                 ...                 ...                 ...         ...         ...            ...\n",
       "Dask Name: from-delayed, 9 tasks"
      ]
     },
     "execution_count": 24,
     "metadata": {},
     "output_type": "execute_result"
    }
   ],
   "source": [
    "ddf_29 = extraction.load_extracted_dask(npy_path_list, index=index_29)\n",
    "ddf_29"
   ]
  },
  {
   "cell_type": "code",
   "execution_count": 31,
   "metadata": {},
   "outputs": [
    {
     "data": {
      "text/plain": [
       "Index(['20170216T102101_B02', '20170216T102101_B03', '20170216T102101_B04',\n",
       "       '20170216T102101_B08', 'aux_coord_x', 'aux_coord_y', 'aux_vector_pid'],\n",
       "      dtype='object')"
      ]
     },
     "execution_count": 31,
     "metadata": {},
     "output_type": "execute_result"
    }
   ],
   "source": [
    "df_extracted_29.columns"
   ]
  },
  {
   "cell_type": "code",
   "execution_count": 33,
   "metadata": {},
   "outputs": [
    {
     "data": {
      "text/html": [
       "<div>\n",
       "<style scoped>\n",
       "    .dataframe tbody tr th:only-of-type {\n",
       "        vertical-align: middle;\n",
       "    }\n",
       "\n",
       "    .dataframe tbody tr th {\n",
       "        vertical-align: top;\n",
       "    }\n",
       "\n",
       "    .dataframe thead th {\n",
       "        text-align: right;\n",
       "    }\n",
       "</style>\n",
       "<table border=\"1\" class=\"dataframe\">\n",
       "  <thead>\n",
       "    <tr style=\"text-align: right;\">\n",
       "      <th></th>\n",
       "      <th>20170216T102101_B02</th>\n",
       "      <th>20170216T102101_B03</th>\n",
       "      <th>20170216T102101_B04</th>\n",
       "      <th>20170216T102101_B08</th>\n",
       "      <th>aux_coord_x</th>\n",
       "      <th>aux_coord_y</th>\n",
       "      <th>aux_vector_pid</th>\n",
       "    </tr>\n",
       "  </thead>\n",
       "  <tbody>\n",
       "    <tr>\n",
       "      <th>0</th>\n",
       "      <td>1456</td>\n",
       "      <td>1136</td>\n",
       "      <td>1056</td>\n",
       "      <td>1696</td>\n",
       "      <td>341675.0</td>\n",
       "      <td>5820745.0</td>\n",
       "      <td>29</td>\n",
       "    </tr>\n",
       "    <tr>\n",
       "      <th>1</th>\n",
       "      <td>1456</td>\n",
       "      <td>1136</td>\n",
       "      <td>1056</td>\n",
       "      <td>1632</td>\n",
       "      <td>341685.0</td>\n",
       "      <td>5820745.0</td>\n",
       "      <td>29</td>\n",
       "    </tr>\n",
       "    <tr>\n",
       "      <th>2</th>\n",
       "      <td>1456</td>\n",
       "      <td>1136</td>\n",
       "      <td>1056</td>\n",
       "      <td>1632</td>\n",
       "      <td>341695.0</td>\n",
       "      <td>5820745.0</td>\n",
       "      <td>29</td>\n",
       "    </tr>\n",
       "    <tr>\n",
       "      <th>3</th>\n",
       "      <td>1424</td>\n",
       "      <td>1136</td>\n",
       "      <td>1056</td>\n",
       "      <td>1632</td>\n",
       "      <td>341705.0</td>\n",
       "      <td>5820745.0</td>\n",
       "      <td>29</td>\n",
       "    </tr>\n",
       "    <tr>\n",
       "      <th>4</th>\n",
       "      <td>1488</td>\n",
       "      <td>1136</td>\n",
       "      <td>1056</td>\n",
       "      <td>1632</td>\n",
       "      <td>341715.0</td>\n",
       "      <td>5820745.0</td>\n",
       "      <td>29</td>\n",
       "    </tr>\n",
       "  </tbody>\n",
       "</table>\n",
       "</div>"
      ],
      "text/plain": [
       "   20170216T102101_B02  20170216T102101_B03  20170216T102101_B04  \\\n",
       "0                 1456                 1136                 1056   \n",
       "1                 1456                 1136                 1056   \n",
       "2                 1456                 1136                 1056   \n",
       "3                 1424                 1136                 1056   \n",
       "4                 1488                 1136                 1056   \n",
       "\n",
       "   20170216T102101_B08  aux_coord_x  aux_coord_y  aux_vector_pid  \n",
       "0                 1696     341675.0    5820745.0              29  \n",
       "1                 1632     341685.0    5820745.0              29  \n",
       "2                 1632     341695.0    5820745.0              29  \n",
       "3                 1632     341705.0    5820745.0              29  \n",
       "4                 1632     341715.0    5820745.0              29  "
      ]
     },
     "execution_count": 33,
     "metadata": {},
     "output_type": "execute_result"
    }
   ],
   "source": [
    "ddf_29_df = ddf_29.compute()\n",
    "ddf_29_df.head()"
   ]
  },
  {
   "cell_type": "code",
   "execution_count": 35,
   "metadata": {},
   "outputs": [
    {
     "data": {
      "text/plain": [
       "True"
      ]
     },
     "execution_count": 35,
     "metadata": {},
     "output_type": "execute_result"
    }
   ],
   "source": [
    "assert ddf_29_df.shape == df_extracted_29.shape"
   ]
  },
  {
   "cell_type": "code",
   "execution_count": 39,
   "metadata": {},
   "outputs": [],
   "source": [
    "assert (ddf_29_df.columns == df_extracted_29.columns).all()"
   ]
  },
  {
   "cell_type": "markdown",
   "metadata": {},
   "source": [
    "Note that the index does not match!"
   ]
  },
  {
   "cell_type": "code",
   "execution_count": 41,
   "metadata": {},
   "outputs": [
    {
     "data": {
      "text/plain": [
       "array([False, False, False, False, False, False, False, False, False,\n",
       "       False, False, False, False, False, False, False, False, False,\n",
       "       False, False, False, False, False, False, False, False, False,\n",
       "       False, False, False, False, False, False, False, False, False,\n",
       "       False, False, False, False, False, False, False, False, False,\n",
       "       False, False, False, False, False, False, False, False, False,\n",
       "       False, False, False, False, False, False, False, False, False,\n",
       "       False, False, False, False, False, False, False, False, False,\n",
       "       False, False, False, False, False, False, False, False, False,\n",
       "       False, False, False, False, False, False, False, False, False,\n",
       "       False, False, False, False, False, False, False, False, False,\n",
       "       False, False, False, False, False, False, False, False, False,\n",
       "       False])"
      ]
     },
     "execution_count": 41,
     "metadata": {},
     "output_type": "execute_result"
    }
   ],
   "source": [
    "ddf_29_df.index == df_extracted_29.index"
   ]
  },
  {
   "cell_type": "markdown",
   "metadata": {},
   "source": [
    "And therefore we cannot compare the dataframes."
   ]
  },
  {
   "cell_type": "code",
   "execution_count": 40,
   "metadata": {},
   "outputs": [
    {
     "ename": "ValueError",
     "evalue": "Can only compare identically-labeled DataFrame objects",
     "output_type": "error",
     "traceback": [
      "\u001b[0;31m---------------------------------------------------------------------------\u001b[0m",
      "\u001b[0;31mValueError\u001b[0m                                Traceback (most recent call last)",
      "\u001b[0;32m<ipython-input-40-9237861a142a>\u001b[0m in \u001b[0;36m<module>\u001b[0;34m\u001b[0m\n\u001b[0;32m----> 1\u001b[0;31m \u001b[0mddf_29_df\u001b[0m \u001b[0;34m==\u001b[0m \u001b[0mdf_extracted_29\u001b[0m\u001b[0;34m\u001b[0m\u001b[0;34m\u001b[0m\u001b[0m\n\u001b[0m",
      "\u001b[0;32m~/anaconda3/envs/eob-dev/lib/python3.6/site-packages/pandas/core/ops.py\u001b[0m in \u001b[0;36mf\u001b[0;34m(self, other)\u001b[0m\n\u001b[1;32m   2094\u001b[0m             \u001b[0;31m# Another DataFrame\u001b[0m\u001b[0;34m\u001b[0m\u001b[0;34m\u001b[0m\u001b[0;34m\u001b[0m\u001b[0m\n\u001b[1;32m   2095\u001b[0m             \u001b[0;32mif\u001b[0m \u001b[0;32mnot\u001b[0m \u001b[0mself\u001b[0m\u001b[0;34m.\u001b[0m\u001b[0m_indexed_same\u001b[0m\u001b[0;34m(\u001b[0m\u001b[0mother\u001b[0m\u001b[0;34m)\u001b[0m\u001b[0;34m:\u001b[0m\u001b[0;34m\u001b[0m\u001b[0;34m\u001b[0m\u001b[0m\n\u001b[0;32m-> 2096\u001b[0;31m                 raise ValueError('Can only compare identically-labeled '\n\u001b[0m\u001b[1;32m   2097\u001b[0m                                  'DataFrame objects')\n\u001b[1;32m   2098\u001b[0m             \u001b[0;32mreturn\u001b[0m \u001b[0mdispatch_to_series\u001b[0m\u001b[0;34m(\u001b[0m\u001b[0mself\u001b[0m\u001b[0;34m,\u001b[0m \u001b[0mother\u001b[0m\u001b[0;34m,\u001b[0m \u001b[0mfunc\u001b[0m\u001b[0;34m,\u001b[0m \u001b[0mstr_rep\u001b[0m\u001b[0;34m)\u001b[0m\u001b[0;34m\u001b[0m\u001b[0;34m\u001b[0m\u001b[0m\n",
      "\u001b[0;31mValueError\u001b[0m: Can only compare identically-labeled DataFrame objects"
     ]
    }
   ],
   "source": [
    "ddf_29_df == df_extracted_29"
   ]
  }
 ],
 "metadata": {
  "kernelspec": {
   "display_name": "Python 3",
   "language": "python",
   "name": "python3"
  },
  "language_info": {
   "codemirror_mode": {
    "name": "ipython",
    "version": 3
   },
   "file_extension": ".py",
   "mimetype": "text/x-python",
   "name": "python",
   "nbconvert_exporter": "python",
   "pygments_lexer": "ipython3",
   "version": "3.6.8"
  },
  "toc": {
   "base_numbering": 1,
   "nav_menu": {},
   "number_sections": true,
   "sideBar": true,
   "skip_h1_title": false,
   "title_cell": "Table of Contents",
   "title_sidebar": "Contents",
   "toc_cell": false,
   "toc_position": {},
   "toc_section_display": true,
   "toc_window_display": false
  }
 },
 "nbformat": 4,
 "nbformat_minor": 2
}
