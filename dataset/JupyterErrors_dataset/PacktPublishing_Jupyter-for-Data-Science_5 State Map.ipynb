{
 "cells": [
  {
   "cell_type": "code",
   "execution_count": 1,
   "metadata": {},
   "outputs": [
    {
     "ename": "ModuleNotFoundError",
     "evalue": "No module named 'mpl_toolkits.basemap'",
     "output_type": "error",
     "traceback": [
      "\u001b[0;31m---------------------------------------------------------------------------\u001b[0m",
      "\u001b[0;31mModuleNotFoundError\u001b[0m                       Traceback (most recent call last)",
      "\u001b[0;32m<ipython-input-1-c74fd3d64882>\u001b[0m in \u001b[0;36m<module>\u001b[0;34m()\u001b[0m\n\u001b[1;32m      2\u001b[0m \u001b[1;33m\u001b[0m\u001b[0m\n\u001b[1;32m      3\u001b[0m \u001b[1;32mimport\u001b[0m \u001b[0mmatplotlib\u001b[0m\u001b[1;33m.\u001b[0m\u001b[0mpyplot\u001b[0m \u001b[1;32mas\u001b[0m \u001b[0mplt\u001b[0m\u001b[1;33m\u001b[0m\u001b[0m\n\u001b[0;32m----> 4\u001b[0;31m \u001b[1;32mfrom\u001b[0m \u001b[0mmpl_toolkits\u001b[0m\u001b[1;33m.\u001b[0m\u001b[0mbasemap\u001b[0m \u001b[1;32mimport\u001b[0m \u001b[0mBasemap\u001b[0m\u001b[1;33m\u001b[0m\u001b[0m\n\u001b[0m\u001b[1;32m      5\u001b[0m \u001b[1;32mfrom\u001b[0m \u001b[0mmatplotlib\u001b[0m\u001b[1;33m.\u001b[0m\u001b[0mpatches\u001b[0m \u001b[1;32mimport\u001b[0m \u001b[0mPolygon\u001b[0m\u001b[1;33m\u001b[0m\u001b[0m\n\u001b[1;32m      6\u001b[0m \u001b[1;32mimport\u001b[0m \u001b[0mpandas\u001b[0m \u001b[1;32mas\u001b[0m \u001b[0mpd\u001b[0m\u001b[1;33m\u001b[0m\u001b[0m\n",
      "\u001b[0;31mModuleNotFoundError\u001b[0m: No module named 'mpl_toolkits.basemap'"
     ]
    }
   ],
   "source": [
    "%matplotlib inline\n",
    "\n",
    "import matplotlib.pyplot as plt\n",
    "from mpl_toolkits.basemap import Basemap\n",
    "from matplotlib.patches import Polygon\n",
    "import pandas as pd\n",
    "import numpy as np\n",
    "import matplotlib\n",
    "\n",
    "# create the map\n",
    "map = Basemap(llcrnrlon=-119,llcrnrlat=22,urcrnrlon=-64,urcrnrlat=49,\n",
    "        projection='lcc',lat_1=33,lat_2=45,lon_0=-95)\n",
    "\n",
    "# load the shapefile, use the name 'states'\n",
    "# download from https://github.com/matplotlib/basemap/tree/master/examples/st99_d00.dbf,shx,shp\n",
    "map.readshapefile('st99_d00', name='states', drawbounds=True)\n",
    "\n",
    "# collect the state names from the shapefile attributes so we can\n",
    "# look up the shape obect for a state by it's name\n",
    "state_names = []\n",
    "for shape_dict in map.states_info:\n",
    "    state_name = shape_dict['NAME']\n",
    "    state_names.append(state_name)\n",
    "    #print(state_name)\n",
    "#print(state_names)\n",
    "\n",
    "# get axes\n",
    "ax = plt.gca()\n",
    "\n",
    "# load density data drawn from \n",
    "# https://en.wikipedia.org/wiki/List_of_U.S._states_by_population_density\n",
    "df = pd.read_csv('states.csv')\n",
    "print(df.head())\n",
    "\n",
    "# determine the range of density values\n",
    "max_density = -1.0\n",
    "min_density = -1.0\n",
    "for index, row in df.iterrows():\n",
    "    d = row['density/mi2']\n",
    "    density = float(d.replace(',' , ''))\n",
    "    if (max_density==-1.0) or (max_density<density):\n",
    "        max_density = density\n",
    "    if (min_density==-1.0) or (min_density>density):\n",
    "        min_density = density\n",
    "print('max',max_density)\n",
    "print('min',min_density)\n",
    "range_density = max_density - min_density\n",
    "print('range',range_density)\n",
    "\n",
    "# we pick a color for the state density out of red spectrum\n",
    "cmap = matplotlib.cm.get_cmap('Spectral')\n",
    "\n",
    "# for each state get the color for it's density\n",
    "for index, row in df.iterrows():\n",
    "    state_name = row['State']\n",
    "    #print('Looking for state ', state_name)\n",
    "    d = row['density/mi2']\n",
    "    density = float(d.replace(',' , ''))\n",
    "    color = cmap((density - min_density)/range_density)\n",
    "    #print state_name, d, density, color\n",
    "    seg = map.states[state_names.index(state_name)]\n",
    "    poly = Polygon(seg, facecolor=color, edgecolor=color)\n",
    "    ax.add_patch(poly)\n",
    "\n",
    "plt.show()"
   ]
  },
  {
   "cell_type": "code",
   "execution_count": null,
   "metadata": {
    "collapsed": true
   },
   "outputs": [],
   "source": []
  }
 ],
 "metadata": {
  "kernelspec": {
   "display_name": "Python 3",
   "language": "python",
   "name": "python3"
  },
  "language_info": {
   "codemirror_mode": {
    "name": "ipython",
    "version": 3
   },
   "file_extension": ".py",
   "mimetype": "text/x-python",
   "name": "python",
   "nbconvert_exporter": "python",
   "pygments_lexer": "ipython3",
   "version": "3.6.0"
  }
 },
 "nbformat": 4,
 "nbformat_minor": 1
}
