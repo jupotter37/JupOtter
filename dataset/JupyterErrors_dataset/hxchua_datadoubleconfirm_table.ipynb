{
  "metadata": {
    "creator": "admin",
    "createdOn": 1661134577556,
    "tags": [],
    "customFields": {},
    "kernelspec": {
      "name": "py-dku-venv-python36",
      "display_name": "Python (env python36)",
      "language": "python"
    },
    "hide_input": false,
    "language_info": {
      "name": "python",
      "version": "3.6.13",
      "mimetype": "text/x-python",
      "codemirror_mode": {
        "name": "ipython",
        "version": 3
      },
      "pygments_lexer": "ipython3",
      "nbconvert_exporter": "python",
      "file_extension": ".py"
    },
    "modifiedBy": "admin"
  },
  "nbformat": 4,
  "nbformat_minor": 2,
  "cells": [
    {
      "cell_type": "markdown",
      "metadata": {},
      "source": [
        "### This notebook presents two ways of scraping table data from a website using Python.  \nHere, we write the output dataframe to a Dataiku dataset as we are working with the data in Dataiku subsequently. You can choose to simply write the output to a csv file using pandas."
      ]
    },
    {
      "execution_count": 4,
      "cell_type": "code",
      "metadata": {},
      "source": [
        "from urllib.request import Request, urlopen\nimport requests\nfrom bs4 import BeautifulSoup\nimport csv\nimport shutil\nimport re\nimport time"
      ],
      "outputs": []
    },
    {
      "execution_count": 23,
      "cell_type": "code",
      "metadata": {},
      "source": [
        "import numpy as np"
      ],
      "outputs": []
    },
    {
      "execution_count": 5,
      "cell_type": "code",
      "metadata": {},
      "source": [
        "site \u003d \u0027https://minmed.sg/vaccinations/\u0027"
      ],
      "outputs": []
    },
    {
      "cell_type": "markdown",
      "metadata": {},
      "source": [
        "### Method 1: Using pandas only"
      ]
    },
    {
      "execution_count": 31,
      "cell_type": "code",
      "metadata": {},
      "source": [
        "### We get an error without indicating the User Agent in the headers\nwith urllib.request.urlopen(site) as i:\n    html \u003d i.read()\n    \ndata \u003d pd.read_html(html)[0]"
      ],
      "outputs": [
        {
          "output_type": "error",
          "ename": "HTTPError",
          "evalue": "HTTP Error 403: Forbidden",
          "traceback": [
            "\u001b[0;31m---------------------------------------------------------------------------\u001b[0m",
            "\u001b[0;31mHTTPError\u001b[0m                                 Traceback (most recent call last)",
            "\u001b[0;32m\u003cipython-input-31-778b9bb85f8f\u003e\u001b[0m in \u001b[0;36m\u003cmodule\u003e\u001b[0;34m\u001b[0m\n\u001b[0;32m----\u003e 1\u001b[0;31m \u001b[0;32mwith\u001b[0m \u001b[0murllib\u001b[0m\u001b[0;34m.\u001b[0m\u001b[0mrequest\u001b[0m\u001b[0;34m.\u001b[0m\u001b[0murlopen\u001b[0m\u001b[0;34m(\u001b[0m\u001b[0msite\u001b[0m\u001b[0;34m)\u001b[0m \u001b[0;32mas\u001b[0m \u001b[0mi\u001b[0m\u001b[0;34m:\u001b[0m\u001b[0;34m\u001b[0m\u001b[0;34m\u001b[0m\u001b[0m\n\u001b[0m\u001b[1;32m      2\u001b[0m     \u001b[0mhtml\u001b[0m \u001b[0;34m\u003d\u001b[0m \u001b[0mi\u001b[0m\u001b[0;34m.\u001b[0m\u001b[0mread\u001b[0m\u001b[0;34m(\u001b[0m\u001b[0;34m)\u001b[0m\u001b[0;34m\u001b[0m\u001b[0;34m\u001b[0m\u001b[0m\n\u001b[1;32m      3\u001b[0m \u001b[0;34m\u001b[0m\u001b[0m\n\u001b[1;32m      4\u001b[0m \u001b[0mdata\u001b[0m \u001b[0;34m\u003d\u001b[0m \u001b[0mpd\u001b[0m\u001b[0;34m.\u001b[0m\u001b[0mread_html\u001b[0m\u001b[0;34m(\u001b[0m\u001b[0mhtml\u001b[0m\u001b[0;34m)\u001b[0m\u001b[0;34m[\u001b[0m\u001b[0;36m0\u001b[0m\u001b[0;34m]\u001b[0m\u001b[0;34m\u001b[0m\u001b[0;34m\u001b[0m\u001b[0m\n",
            "\u001b[0;32m/usr/local/opt/python@3.6/Frameworks/Python.framework/Versions/3.6/lib/python3.6/urllib/request.py\u001b[0m in \u001b[0;36murlopen\u001b[0;34m(url, data, timeout, cafile, capath, cadefault, context)\u001b[0m\n\u001b[1;32m    221\u001b[0m     \u001b[0;32melse\u001b[0m\u001b[0;34m:\u001b[0m\u001b[0;34m\u001b[0m\u001b[0;34m\u001b[0m\u001b[0m\n\u001b[1;32m    222\u001b[0m         \u001b[0mopener\u001b[0m \u001b[0;34m\u003d\u001b[0m \u001b[0m_opener\u001b[0m\u001b[0;34m\u001b[0m\u001b[0;34m\u001b[0m\u001b[0m\n\u001b[0;32m--\u003e 223\u001b[0;31m     \u001b[0;32mreturn\u001b[0m \u001b[0mopener\u001b[0m\u001b[0;34m.\u001b[0m\u001b[0mopen\u001b[0m\u001b[0;34m(\u001b[0m\u001b[0murl\u001b[0m\u001b[0;34m,\u001b[0m \u001b[0mdata\u001b[0m\u001b[0;34m,\u001b[0m \u001b[0mtimeout\u001b[0m\u001b[0;34m)\u001b[0m\u001b[0;34m\u001b[0m\u001b[0;34m\u001b[0m\u001b[0m\n\u001b[0m\u001b[1;32m    224\u001b[0m \u001b[0;34m\u001b[0m\u001b[0m\n\u001b[1;32m    225\u001b[0m \u001b[0;32mdef\u001b[0m \u001b[0minstall_opener\u001b[0m\u001b[0;34m(\u001b[0m\u001b[0mopener\u001b[0m\u001b[0;34m)\u001b[0m\u001b[0;34m:\u001b[0m\u001b[0;34m\u001b[0m\u001b[0;34m\u001b[0m\u001b[0m\n",
            "\u001b[0;32m/usr/local/opt/python@3.6/Frameworks/Python.framework/Versions/3.6/lib/python3.6/urllib/request.py\u001b[0m in \u001b[0;36mopen\u001b[0;34m(self, fullurl, data, timeout)\u001b[0m\n\u001b[1;32m    530\u001b[0m         \u001b[0;32mfor\u001b[0m \u001b[0mprocessor\u001b[0m \u001b[0;32min\u001b[0m \u001b[0mself\u001b[0m\u001b[0;34m.\u001b[0m\u001b[0mprocess_response\u001b[0m\u001b[0;34m.\u001b[0m\u001b[0mget\u001b[0m\u001b[0;34m(\u001b[0m\u001b[0mprotocol\u001b[0m\u001b[0;34m,\u001b[0m \u001b[0;34m[\u001b[0m\u001b[0;34m]\u001b[0m\u001b[0;34m)\u001b[0m\u001b[0;34m:\u001b[0m\u001b[0;34m\u001b[0m\u001b[0;34m\u001b[0m\u001b[0m\n\u001b[1;32m    531\u001b[0m             \u001b[0mmeth\u001b[0m \u001b[0;34m\u003d\u001b[0m \u001b[0mgetattr\u001b[0m\u001b[0;34m(\u001b[0m\u001b[0mprocessor\u001b[0m\u001b[0;34m,\u001b[0m \u001b[0mmeth_name\u001b[0m\u001b[0;34m)\u001b[0m\u001b[0;34m\u001b[0m\u001b[0;34m\u001b[0m\u001b[0m\n\u001b[0;32m--\u003e 532\u001b[0;31m             \u001b[0mresponse\u001b[0m \u001b[0;34m\u003d\u001b[0m \u001b[0mmeth\u001b[0m\u001b[0;34m(\u001b[0m\u001b[0mreq\u001b[0m\u001b[0;34m,\u001b[0m \u001b[0mresponse\u001b[0m\u001b[0;34m)\u001b[0m\u001b[0;34m\u001b[0m\u001b[0;34m\u001b[0m\u001b[0m\n\u001b[0m\u001b[1;32m    533\u001b[0m \u001b[0;34m\u001b[0m\u001b[0m\n\u001b[1;32m    534\u001b[0m         \u001b[0;32mreturn\u001b[0m \u001b[0mresponse\u001b[0m\u001b[0;34m\u001b[0m\u001b[0;34m\u001b[0m\u001b[0m\n",
            "\u001b[0;32m/usr/local/opt/python@3.6/Frameworks/Python.framework/Versions/3.6/lib/python3.6/urllib/request.py\u001b[0m in \u001b[0;36mhttp_response\u001b[0;34m(self, request, response)\u001b[0m\n\u001b[1;32m    640\u001b[0m         \u001b[0;32mif\u001b[0m \u001b[0;32mnot\u001b[0m \u001b[0;34m(\u001b[0m\u001b[0;36m200\u001b[0m \u001b[0;34m\u003c\u003d\u001b[0m \u001b[0mcode\u001b[0m \u001b[0;34m\u003c\u001b[0m \u001b[0;36m300\u001b[0m\u001b[0;34m)\u001b[0m\u001b[0;34m:\u001b[0m\u001b[0;34m\u001b[0m\u001b[0;34m\u001b[0m\u001b[0m\n\u001b[1;32m    641\u001b[0m             response \u003d self.parent.error(\n\u001b[0;32m--\u003e 642\u001b[0;31m                 \u0027http\u0027, request, response, code, msg, hdrs)\n\u001b[0m\u001b[1;32m    643\u001b[0m \u001b[0;34m\u001b[0m\u001b[0m\n\u001b[1;32m    644\u001b[0m         \u001b[0;32mreturn\u001b[0m \u001b[0mresponse\u001b[0m\u001b[0;34m\u001b[0m\u001b[0;34m\u001b[0m\u001b[0m\n",
            "\u001b[0;32m/usr/local/opt/python@3.6/Frameworks/Python.framework/Versions/3.6/lib/python3.6/urllib/request.py\u001b[0m in \u001b[0;36merror\u001b[0;34m(self, proto, *args)\u001b[0m\n\u001b[1;32m    568\u001b[0m         \u001b[0;32mif\u001b[0m \u001b[0mhttp_err\u001b[0m\u001b[0;34m:\u001b[0m\u001b[0;34m\u001b[0m\u001b[0;34m\u001b[0m\u001b[0m\n\u001b[1;32m    569\u001b[0m             \u001b[0margs\u001b[0m \u001b[0;34m\u003d\u001b[0m \u001b[0;34m(\u001b[0m\u001b[0mdict\u001b[0m\u001b[0;34m,\u001b[0m \u001b[0;34m\u0027default\u0027\u001b[0m\u001b[0;34m,\u001b[0m \u001b[0;34m\u0027http_error_default\u0027\u001b[0m\u001b[0;34m)\u001b[0m \u001b[0;34m+\u001b[0m \u001b[0morig_args\u001b[0m\u001b[0;34m\u001b[0m\u001b[0;34m\u001b[0m\u001b[0m\n\u001b[0;32m--\u003e 570\u001b[0;31m             \u001b[0;32mreturn\u001b[0m \u001b[0mself\u001b[0m\u001b[0;34m.\u001b[0m\u001b[0m_call_chain\u001b[0m\u001b[0;34m(\u001b[0m\u001b[0;34m*\u001b[0m\u001b[0margs\u001b[0m\u001b[0;34m)\u001b[0m\u001b[0;34m\u001b[0m\u001b[0;34m\u001b[0m\u001b[0m\n\u001b[0m\u001b[1;32m    571\u001b[0m \u001b[0;34m\u001b[0m\u001b[0m\n\u001b[1;32m    572\u001b[0m \u001b[0;31m# XXX probably also want an abstract factory that knows when it makes\u001b[0m\u001b[0;34m\u001b[0m\u001b[0;34m\u001b[0m\u001b[0;34m\u001b[0m\u001b[0m\n",
            "\u001b[0;32m/usr/local/opt/python@3.6/Frameworks/Python.framework/Versions/3.6/lib/python3.6/urllib/request.py\u001b[0m in \u001b[0;36m_call_chain\u001b[0;34m(self, chain, kind, meth_name, *args)\u001b[0m\n\u001b[1;32m    502\u001b[0m         \u001b[0;32mfor\u001b[0m \u001b[0mhandler\u001b[0m \u001b[0;32min\u001b[0m \u001b[0mhandlers\u001b[0m\u001b[0;34m:\u001b[0m\u001b[0;34m\u001b[0m\u001b[0;34m\u001b[0m\u001b[0m\n\u001b[1;32m    503\u001b[0m             \u001b[0mfunc\u001b[0m \u001b[0;34m\u003d\u001b[0m \u001b[0mgetattr\u001b[0m\u001b[0;34m(\u001b[0m\u001b[0mhandler\u001b[0m\u001b[0;34m,\u001b[0m \u001b[0mmeth_name\u001b[0m\u001b[0;34m)\u001b[0m\u001b[0;34m\u001b[0m\u001b[0;34m\u001b[0m\u001b[0m\n\u001b[0;32m--\u003e 504\u001b[0;31m             \u001b[0mresult\u001b[0m \u001b[0;34m\u003d\u001b[0m \u001b[0mfunc\u001b[0m\u001b[0;34m(\u001b[0m\u001b[0;34m*\u001b[0m\u001b[0margs\u001b[0m\u001b[0;34m)\u001b[0m\u001b[0;34m\u001b[0m\u001b[0;34m\u001b[0m\u001b[0m\n\u001b[0m\u001b[1;32m    505\u001b[0m             \u001b[0;32mif\u001b[0m \u001b[0mresult\u001b[0m \u001b[0;32mis\u001b[0m \u001b[0;32mnot\u001b[0m \u001b[0;32mNone\u001b[0m\u001b[0;34m:\u001b[0m\u001b[0;34m\u001b[0m\u001b[0;34m\u001b[0m\u001b[0m\n\u001b[1;32m    506\u001b[0m                 \u001b[0;32mreturn\u001b[0m \u001b[0mresult\u001b[0m\u001b[0;34m\u001b[0m\u001b[0;34m\u001b[0m\u001b[0m\n",
            "\u001b[0;32m/usr/local/opt/python@3.6/Frameworks/Python.framework/Versions/3.6/lib/python3.6/urllib/request.py\u001b[0m in \u001b[0;36mhttp_error_default\u001b[0;34m(self, req, fp, code, msg, hdrs)\u001b[0m\n\u001b[1;32m    648\u001b[0m \u001b[0;32mclass\u001b[0m \u001b[0mHTTPDefaultErrorHandler\u001b[0m\u001b[0;34m(\u001b[0m\u001b[0mBaseHandler\u001b[0m\u001b[0;34m)\u001b[0m\u001b[0;34m:\u001b[0m\u001b[0;34m\u001b[0m\u001b[0;34m\u001b[0m\u001b[0m\n\u001b[1;32m    649\u001b[0m     \u001b[0;32mdef\u001b[0m \u001b[0mhttp_error_default\u001b[0m\u001b[0;34m(\u001b[0m\u001b[0mself\u001b[0m\u001b[0;34m,\u001b[0m \u001b[0mreq\u001b[0m\u001b[0;34m,\u001b[0m \u001b[0mfp\u001b[0m\u001b[0;34m,\u001b[0m \u001b[0mcode\u001b[0m\u001b[0;34m,\u001b[0m \u001b[0mmsg\u001b[0m\u001b[0;34m,\u001b[0m \u001b[0mhdrs\u001b[0m\u001b[0;34m)\u001b[0m\u001b[0;34m:\u001b[0m\u001b[0;34m\u001b[0m\u001b[0;34m\u001b[0m\u001b[0m\n\u001b[0;32m--\u003e 650\u001b[0;31m         \u001b[0;32mraise\u001b[0m \u001b[0mHTTPError\u001b[0m\u001b[0;34m(\u001b[0m\u001b[0mreq\u001b[0m\u001b[0;34m.\u001b[0m\u001b[0mfull_url\u001b[0m\u001b[0;34m,\u001b[0m \u001b[0mcode\u001b[0m\u001b[0;34m,\u001b[0m \u001b[0mmsg\u001b[0m\u001b[0;34m,\u001b[0m \u001b[0mhdrs\u001b[0m\u001b[0;34m,\u001b[0m \u001b[0mfp\u001b[0m\u001b[0;34m)\u001b[0m\u001b[0;34m\u001b[0m\u001b[0;34m\u001b[0m\u001b[0m\n\u001b[0m\u001b[1;32m    651\u001b[0m \u001b[0;34m\u001b[0m\u001b[0m\n\u001b[1;32m    652\u001b[0m \u001b[0;32mclass\u001b[0m \u001b[0mHTTPRedirectHandler\u001b[0m\u001b[0;34m(\u001b[0m\u001b[0mBaseHandler\u001b[0m\u001b[0;34m)\u001b[0m\u001b[0;34m:\u001b[0m\u001b[0;34m\u001b[0m\u001b[0;34m\u001b[0m\u001b[0m\n",
            "\u001b[0;31mHTTPError\u001b[0m: HTTP Error 403: Forbidden"
          ]
        }
      ]
    },
    {
      "execution_count": 0,
      "cell_type": "code",
      "metadata": {},
      "source": [
        "hdr \u003d {\u0027User-Agent\u0027: \u0027Mozilla/5.0\u0027}"
      ],
      "outputs": []
    },
    {
      "execution_count": 27,
      "cell_type": "code",
      "metadata": {},
      "source": [
        "req \u003d urllib.request.Request(site, headers\u003dhdr)\nresponse \u003d urllib.request.urlopen(req)"
      ],
      "outputs": []
    },
    {
      "execution_count": 28,
      "cell_type": "code",
      "metadata": {},
      "source": [
        "response"
      ],
      "outputs": [
        {
          "output_type": "execute_result",
          "execution_count": 28,
          "data": {
            "text/plain": "\u003chttp.client.HTTPResponse at 0x13ab98518\u003e"
          },
          "metadata": {}
        }
      ]
    },
    {
      "execution_count": 29,
      "cell_type": "code",
      "metadata": {},
      "source": [
        "### Now it works after adding in the headers\nwith urllib.request.urlopen(req) as i:\n    html \u003d i.read()\n    \ndata \u003d pd.read_html(html)[0]"
      ],
      "outputs": []
    },
    {
      "execution_count": 30,
      "cell_type": "code",
      "metadata": {},
      "source": [
        "data"
      ],
      "outputs": [
        {
          "output_type": "execute_result",
          "execution_count": 30,
          "data": {
            "text/plain": "                     Vaccinations        N        G        M        P\n0        Flu Jab (Influvac Tetra)   $48.15   $12.00    $0.00    $0.00\n1                      Prevnar 13  $200.05   $63.00   $31.00   $16.00\n2                    Pneumovax 23   $93.05   $40.00   $20.00   $10.00\n3                        Boostrix   $58.85   $15.00    $0.00    $0.00\n4   Hepatitis B (Engerix B Adult)   $55.64   $17.00    $0.00    $0.00\n5    Mmr-II Measles,Mumps,Rubella   $70.00   $35.00   $18.00    $9.00\n6       Infanrix IPV/HIB (5-in-1)  $107.00      N.A      N.A      N.A\n7          Infanrix Hexa (6-in-1)  $128.40      N.A      N.A      N.A\n8           Chicken Pox (Varivax)   $96.30   $45.00   $23.00   $11.00\n9          Hepatitis A (Paed 720)  $107.00      N.A      N.A      N.A\n10      Hepatitis A (Havrix 1440)  $114.49  $114.49  $114.49  $114.49\n11                        Twinrix  $128.40  $128.40  $128.40  $128.40\n12          Tetanus Jab (Tetavax)   $32.10   $32.10   $32.10   $32.10\n13                       Zostavax  $304.95  $304.95  $304.95  $304.95\n14                     Gardasil 9  $224.70  $224.70  $224.70  $224.70\n15                        Rotarix  $141.24  $141.24  $141.24  $141.24\n16          Dengvaxia Vaccination  $160.50  $160.50  $160.50  $160.50",
            "text/html": "\u003cdiv\u003e\n\u003cstyle scoped\u003e\n    .dataframe tbody tr th:only-of-type {\n        vertical-align: middle;\n    }\n\n    .dataframe tbody tr th {\n        vertical-align: top;\n    }\n\n    .dataframe thead th {\n        text-align: right;\n    }\n\u003c/style\u003e\n\u003ctable border\u003d\"1\" class\u003d\"dataframe\"\u003e\n  \u003cthead\u003e\n    \u003ctr style\u003d\"text-align: right;\"\u003e\n      \u003cth\u003e\u003c/th\u003e\n      \u003cth\u003eVaccinations\u003c/th\u003e\n      \u003cth\u003eN\u003c/th\u003e\n      \u003cth\u003eG\u003c/th\u003e\n      \u003cth\u003eM\u003c/th\u003e\n      \u003cth\u003eP\u003c/th\u003e\n    \u003c/tr\u003e\n  \u003c/thead\u003e\n  \u003ctbody\u003e\n    \u003ctr\u003e\n      \u003cth\u003e0\u003c/th\u003e\n      \u003ctd\u003eFlu Jab (Influvac Tetra)\u003c/td\u003e\n      \u003ctd\u003e$48.15\u003c/td\u003e\n      \u003ctd\u003e$12.00\u003c/td\u003e\n      \u003ctd\u003e$0.00\u003c/td\u003e\n      \u003ctd\u003e$0.00\u003c/td\u003e\n    \u003c/tr\u003e\n    \u003ctr\u003e\n      \u003cth\u003e1\u003c/th\u003e\n      \u003ctd\u003ePrevnar 13\u003c/td\u003e\n      \u003ctd\u003e$200.05\u003c/td\u003e\n      \u003ctd\u003e$63.00\u003c/td\u003e\n      \u003ctd\u003e$31.00\u003c/td\u003e\n      \u003ctd\u003e$16.00\u003c/td\u003e\n    \u003c/tr\u003e\n    \u003ctr\u003e\n      \u003cth\u003e2\u003c/th\u003e\n      \u003ctd\u003ePneumovax 23\u003c/td\u003e\n      \u003ctd\u003e$93.05\u003c/td\u003e\n      \u003ctd\u003e$40.00\u003c/td\u003e\n      \u003ctd\u003e$20.00\u003c/td\u003e\n      \u003ctd\u003e$10.00\u003c/td\u003e\n    \u003c/tr\u003e\n    \u003ctr\u003e\n      \u003cth\u003e3\u003c/th\u003e\n      \u003ctd\u003eBoostrix\u003c/td\u003e\n      \u003ctd\u003e$58.85\u003c/td\u003e\n      \u003ctd\u003e$15.00\u003c/td\u003e\n      \u003ctd\u003e$0.00\u003c/td\u003e\n      \u003ctd\u003e$0.00\u003c/td\u003e\n    \u003c/tr\u003e\n    \u003ctr\u003e\n      \u003cth\u003e4\u003c/th\u003e\n      \u003ctd\u003eHepatitis B (Engerix B Adult)\u003c/td\u003e\n      \u003ctd\u003e$55.64\u003c/td\u003e\n      \u003ctd\u003e$17.00\u003c/td\u003e\n      \u003ctd\u003e$0.00\u003c/td\u003e\n      \u003ctd\u003e$0.00\u003c/td\u003e\n    \u003c/tr\u003e\n    \u003ctr\u003e\n      \u003cth\u003e5\u003c/th\u003e\n      \u003ctd\u003eMmr-II Measles,Mumps,Rubella\u003c/td\u003e\n      \u003ctd\u003e$70.00\u003c/td\u003e\n      \u003ctd\u003e$35.00\u003c/td\u003e\n      \u003ctd\u003e$18.00\u003c/td\u003e\n      \u003ctd\u003e$9.00\u003c/td\u003e\n    \u003c/tr\u003e\n    \u003ctr\u003e\n      \u003cth\u003e6\u003c/th\u003e\n      \u003ctd\u003eInfanrix IPV/HIB (5-in-1)\u003c/td\u003e\n      \u003ctd\u003e$107.00\u003c/td\u003e\n      \u003ctd\u003eN.A\u003c/td\u003e\n      \u003ctd\u003eN.A\u003c/td\u003e\n      \u003ctd\u003eN.A\u003c/td\u003e\n    \u003c/tr\u003e\n    \u003ctr\u003e\n      \u003cth\u003e7\u003c/th\u003e\n      \u003ctd\u003eInfanrix Hexa (6-in-1)\u003c/td\u003e\n      \u003ctd\u003e$128.40\u003c/td\u003e\n      \u003ctd\u003eN.A\u003c/td\u003e\n      \u003ctd\u003eN.A\u003c/td\u003e\n      \u003ctd\u003eN.A\u003c/td\u003e\n    \u003c/tr\u003e\n    \u003ctr\u003e\n      \u003cth\u003e8\u003c/th\u003e\n      \u003ctd\u003eChicken Pox (Varivax)\u003c/td\u003e\n      \u003ctd\u003e$96.30\u003c/td\u003e\n      \u003ctd\u003e$45.00\u003c/td\u003e\n      \u003ctd\u003e$23.00\u003c/td\u003e\n      \u003ctd\u003e$11.00\u003c/td\u003e\n    \u003c/tr\u003e\n    \u003ctr\u003e\n      \u003cth\u003e9\u003c/th\u003e\n      \u003ctd\u003eHepatitis A (Paed 720)\u003c/td\u003e\n      \u003ctd\u003e$107.00\u003c/td\u003e\n      \u003ctd\u003eN.A\u003c/td\u003e\n      \u003ctd\u003eN.A\u003c/td\u003e\n      \u003ctd\u003eN.A\u003c/td\u003e\n    \u003c/tr\u003e\n    \u003ctr\u003e\n      \u003cth\u003e10\u003c/th\u003e\n      \u003ctd\u003eHepatitis A (Havrix 1440)\u003c/td\u003e\n      \u003ctd\u003e$114.49\u003c/td\u003e\n      \u003ctd\u003e$114.49\u003c/td\u003e\n      \u003ctd\u003e$114.49\u003c/td\u003e\n      \u003ctd\u003e$114.49\u003c/td\u003e\n    \u003c/tr\u003e\n    \u003ctr\u003e\n      \u003cth\u003e11\u003c/th\u003e\n      \u003ctd\u003eTwinrix\u003c/td\u003e\n      \u003ctd\u003e$128.40\u003c/td\u003e\n      \u003ctd\u003e$128.40\u003c/td\u003e\n      \u003ctd\u003e$128.40\u003c/td\u003e\n      \u003ctd\u003e$128.40\u003c/td\u003e\n    \u003c/tr\u003e\n    \u003ctr\u003e\n      \u003cth\u003e12\u003c/th\u003e\n      \u003ctd\u003eTetanus Jab (Tetavax)\u003c/td\u003e\n      \u003ctd\u003e$32.10\u003c/td\u003e\n      \u003ctd\u003e$32.10\u003c/td\u003e\n      \u003ctd\u003e$32.10\u003c/td\u003e\n      \u003ctd\u003e$32.10\u003c/td\u003e\n    \u003c/tr\u003e\n    \u003ctr\u003e\n      \u003cth\u003e13\u003c/th\u003e\n      \u003ctd\u003eZostavax\u003c/td\u003e\n      \u003ctd\u003e$304.95\u003c/td\u003e\n      \u003ctd\u003e$304.95\u003c/td\u003e\n      \u003ctd\u003e$304.95\u003c/td\u003e\n      \u003ctd\u003e$304.95\u003c/td\u003e\n    \u003c/tr\u003e\n    \u003ctr\u003e\n      \u003cth\u003e14\u003c/th\u003e\n      \u003ctd\u003eGardasil 9\u003c/td\u003e\n      \u003ctd\u003e$224.70\u003c/td\u003e\n      \u003ctd\u003e$224.70\u003c/td\u003e\n      \u003ctd\u003e$224.70\u003c/td\u003e\n      \u003ctd\u003e$224.70\u003c/td\u003e\n    \u003c/tr\u003e\n    \u003ctr\u003e\n      \u003cth\u003e15\u003c/th\u003e\n      \u003ctd\u003eRotarix\u003c/td\u003e\n      \u003ctd\u003e$141.24\u003c/td\u003e\n      \u003ctd\u003e$141.24\u003c/td\u003e\n      \u003ctd\u003e$141.24\u003c/td\u003e\n      \u003ctd\u003e$141.24\u003c/td\u003e\n    \u003c/tr\u003e\n    \u003ctr\u003e\n      \u003cth\u003e16\u003c/th\u003e\n      \u003ctd\u003eDengvaxia Vaccination\u003c/td\u003e\n      \u003ctd\u003e$160.50\u003c/td\u003e\n      \u003ctd\u003e$160.50\u003c/td\u003e\n      \u003ctd\u003e$160.50\u003c/td\u003e\n      \u003ctd\u003e$160.50\u003c/td\u003e\n    \u003c/tr\u003e\n  \u003c/tbody\u003e\n\u003c/table\u003e\n\u003c/div\u003e"
          },
          "metadata": {}
        }
      ]
    },
    {
      "cell_type": "markdown",
      "metadata": {},
      "source": [
        "### Method 2: Using BeautifulSoup"
      ]
    },
    {
      "execution_count": 6,
      "cell_type": "code",
      "metadata": {},
      "source": [
        "hdr \u003d {\u0027User-Agent\u0027: \u0027Mozilla/5.0\u0027}\nbookpage \u003d requests.get(site)\nsoup \u003d BeautifulSoup(bookpage.text, \"html.parser\")"
      ],
      "outputs": []
    },
    {
      "execution_count": 0,
      "cell_type": "code",
      "metadata": {},
      "source": [
        "# print(soup.prettify())"
      ],
      "outputs": []
    },
    {
      "execution_count": 10,
      "cell_type": "code",
      "metadata": {},
      "source": [
        "soup.find(\u0027table\u0027)"
      ],
      "outputs": [
        {
          "output_type": "execute_result",
          "execution_count": 10,
          "data": {
            "text/plain": "\u003ctable class\u003d\"ea-advanced-data-table ea-advanced-data-table-static ea-advanced-data-table-261a82cb ea-advanced-data-table-sortable ea-advanced-data-table-searchable\" data-id\u003d\"261a82cb\"\u003e\u003cthead\u003e\u003ctr\u003e\u003cth\u003eVaccinations\u003c/th\u003e\u003cth\u003eN\u003c/th\u003e\u003cth\u003eG\u003c/th\u003e\u003cth\u003e\u003cp\u003eM\u003c/p\u003e\u003c/th\u003e\u003cth style\u003d\"width: 151px\"\u003eP\u003c/th\u003e\u003c/tr\u003e\u003c/thead\u003e\u003ctbody\u003e\u003ctr\u003e\u003ctd\u003e\u003cp\u003eFlu Jab (Influvac Tetra)\u003c/p\u003e\u003c/td\u003e\u003ctd\u003e$48.15 \u003c/td\u003e\u003ctd\u003e\u003cp\u003e$12.00\u003c/p\u003e\u003c/td\u003e\u003ctd\u003e\u003cp\u003e$0.00\u003c/p\u003e\u003c/td\u003e\u003ctd\u003e\u003cp\u003e$0.00\u003c/p\u003e\u003c/td\u003e\u003c/tr\u003e\u003ctr\u003e\u003ctd\u003ePrevnar 13\u003c/td\u003e\u003ctd\u003e\u003cp\u003e$200.05\u003c/p\u003e\u003c/td\u003e\u003ctd\u003e$63.00 \u003c/td\u003e\u003ctd\u003e\u003cp\u003e$31.00\u003c/p\u003e\u003c/td\u003e\u003ctd\u003e$16.00 \u003c/td\u003e\u003c/tr\u003e\u003ctr\u003e\u003ctd\u003ePneumovax 23\u003c/td\u003e\u003ctd\u003e$93.05 \u003c/td\u003e\u003ctd\u003e$40.00 \u003c/td\u003e\u003ctd\u003e\u003cp\u003e$20.00\u003c/p\u003e\u003c/td\u003e\u003ctd\u003e$10.00 \u003c/td\u003e\u003c/tr\u003e\u003ctr\u003e\u003ctd\u003eBoostrix\u003c/td\u003e\u003ctd\u003e\u003cp\u003e$58.85\u003c/p\u003e\u003c/td\u003e\u003ctd\u003e\u003cp\u003e$15.00\u003c/p\u003e\u003c/td\u003e\u003ctd\u003e\u003cp\u003e$0.00\u003c/p\u003e\u003c/td\u003e\u003ctd\u003e\u003cp\u003e$0.00\u003c/p\u003e\u003c/td\u003e\u003c/tr\u003e\u003ctr\u003e\u003ctd\u003eHepatitis B (Engerix B Adult)\u003c/td\u003e\u003ctd\u003e$55.64 \u003c/td\u003e\u003ctd\u003e\u003cp\u003e$17.00\u003c/p\u003e\u003c/td\u003e\u003ctd\u003e\u003cp\u003e$0.00\u003c/p\u003e\u003c/td\u003e\u003ctd\u003e\u003cp\u003e$0.00\u003c/p\u003e\u003c/td\u003e\u003c/tr\u003e\u003ctr\u003e\u003ctd\u003eMmr-II Measles,Mumps,Rubella\u003c/td\u003e\u003ctd\u003e\u003cp\u003e$70.00\u003c/p\u003e\u003c/td\u003e\u003ctd\u003e\u003cp\u003e$35.00\u003c/p\u003e\u003c/td\u003e\u003ctd\u003e\u003cp\u003e$18.00\u003c/p\u003e\u003c/td\u003e\u003ctd\u003e\u003cp\u003e$9.00\u003c/p\u003e\u003c/td\u003e\u003c/tr\u003e\u003ctr\u003e\u003ctd\u003eInfanrix IPV/HIB (5-in-1)\u003c/td\u003e\u003ctd\u003e$107.00 \u003c/td\u003e\u003ctd\u003e\u003cp\u003eN.A\u003c/p\u003e\u003c/td\u003e\u003ctd\u003e\u003cp\u003eN.A\u003c/p\u003e\u003c/td\u003e\u003ctd\u003e\u003cp\u003eN.A\u003c/p\u003e\u003c/td\u003e\u003c/tr\u003e\u003ctr\u003e\u003ctd\u003eInfanrix Hexa (6-in-1)\u003c/td\u003e\u003ctd\u003e$128.40 \u003c/td\u003e\u003ctd\u003e\u003cp\u003eN.A\u003c/p\u003e\u003c/td\u003e\u003ctd\u003e\u003cp\u003eN.A\u003c/p\u003e\u003c/td\u003e\u003ctd\u003e\u003cp\u003eN.A\u003c/p\u003e\u003c/td\u003e\u003c/tr\u003e\u003ctr\u003e\u003ctd\u003eChicken Pox (Varivax)\u003c/td\u003e\u003ctd\u003e\u003cp\u003e$96.30\u003c/p\u003e\u003c/td\u003e\u003ctd\u003e\u003cp\u003e$45.00\u003c/p\u003e\u003c/td\u003e\u003ctd\u003e\u003cp\u003e$23.00\u003c/p\u003e\u003c/td\u003e\u003ctd\u003e\u003cp\u003e$11.00\u003c/p\u003e\u003c/td\u003e\u003c/tr\u003e\u003ctr\u003e\u003ctd\u003eHepatitis A (Paed 720)\u003c/td\u003e\u003ctd\u003e$107.00 \u003c/td\u003e\u003ctd\u003e\u003cp\u003eN.A\u003c/p\u003e\u003c/td\u003e\u003ctd\u003e\u003cp\u003eN.A\u003c/p\u003e\u003c/td\u003e\u003ctd\u003e\u003cp\u003eN.A\u003c/p\u003e\u003c/td\u003e\u003c/tr\u003e\u003ctr\u003e\u003ctd\u003eHepatitis A (Havrix 1440)\u003c/td\u003e\u003ctd\u003e$114.49 \u003c/td\u003e\u003ctd\u003e\u003cp\u003e$114.49\u003c/p\u003e\u003c/td\u003e\u003ctd\u003e\u003cp\u003e$114.49\u003c/p\u003e\u003c/td\u003e\u003ctd\u003e\u003cp\u003e$114.49\u003c/p\u003e\u003c/td\u003e\u003c/tr\u003e\u003ctr\u003e\u003ctd\u003eTwinrix\u003c/td\u003e\u003ctd\u003e$128.40 \u003c/td\u003e\u003ctd\u003e\u003cp\u003e$128.40\u003c/p\u003e\u003c/td\u003e\u003ctd\u003e\u003cp\u003e$128.40\u003c/p\u003e\u003c/td\u003e\u003ctd\u003e\u003cp\u003e$128.40\u003c/p\u003e\u003c/td\u003e\u003c/tr\u003e\u003ctr\u003e\u003ctd\u003eTetanus Jab (Tetavax) \u003c/td\u003e\u003ctd\u003e$32.10 \u003c/td\u003e\u003ctd\u003e\u003cp\u003e$32.10\u003c/p\u003e\u003c/td\u003e\u003ctd\u003e\u003cp\u003e$32.10\u003c/p\u003e\u003c/td\u003e\u003ctd\u003e\u003cp\u003e$32.10\u003c/p\u003e\u003c/td\u003e\u003c/tr\u003e\u003ctr\u003e\u003ctd\u003eZostavax\u003c/td\u003e\u003ctd\u003e$304.95 \u003c/td\u003e\u003ctd\u003e\u003cp\u003e$304.95\u003c/p\u003e\u003c/td\u003e\u003ctd\u003e\u003cp\u003e$304.95\u003c/p\u003e\u003c/td\u003e\u003ctd\u003e\u003cp\u003e$304.95\u003c/p\u003e\u003c/td\u003e\u003c/tr\u003e\u003ctr\u003e\u003ctd\u003eGardasil 9\u003c/td\u003e\u003ctd\u003e$224.70 \u003c/td\u003e\u003ctd\u003e\u003cp\u003e$224.70\u003c/p\u003e\u003c/td\u003e\u003ctd\u003e\u003cp\u003e$224.70\u003c/p\u003e\u003c/td\u003e\u003ctd\u003e\u003cp\u003e$224.70\u003c/p\u003e\u003c/td\u003e\u003c/tr\u003e\u003ctr\u003e\u003ctd\u003eRotarix\u003c/td\u003e\u003ctd\u003e$141.24 \u003c/td\u003e\u003ctd\u003e\u003cp\u003e$141.24\u003c/p\u003e\u003c/td\u003e\u003ctd\u003e\u003cp\u003e$141.24\u003c/p\u003e\u003c/td\u003e\u003ctd\u003e\u003cp\u003e$141.24\u003c/p\u003e\u003c/td\u003e\u003c/tr\u003e\u003ctr\u003e\u003ctd\u003eDengvaxia Vaccination\u003c/td\u003e\u003ctd\u003e$160.50 \u003c/td\u003e\u003ctd\u003e\u003cp\u003e$160.50\u003c/p\u003e\u003c/td\u003e\u003ctd\u003e\u003cp\u003e$160.50\u003c/p\u003e\u003c/td\u003e\u003ctd\u003e\u003cp\u003e$160.50\u003c/p\u003e\u003c/td\u003e\u003c/tr\u003e\u003c/tbody\u003e\u003c/table\u003e"
          },
          "metadata": {}
        }
      ]
    },
    {
      "execution_count": 12,
      "cell_type": "code",
      "metadata": {},
      "source": [
        "table \u003d soup.find(\u0027table\u0027)\nrows \u003d table.find_all(\u0027tr\u0027)"
      ],
      "outputs": []
    },
    {
      "execution_count": 13,
      "cell_type": "code",
      "metadata": {},
      "source": [
        "rows"
      ],
      "outputs": [
        {
          "output_type": "execute_result",
          "execution_count": 13,
          "data": {
            "text/plain": "[\u003ctr\u003e\u003cth\u003eVaccinations\u003c/th\u003e\u003cth\u003eN\u003c/th\u003e\u003cth\u003eG\u003c/th\u003e\u003cth\u003e\u003cp\u003eM\u003c/p\u003e\u003c/th\u003e\u003cth style\u003d\"width: 151px\"\u003eP\u003c/th\u003e\u003c/tr\u003e,\n \u003ctr\u003e\u003ctd\u003e\u003cp\u003eFlu Jab (Influvac Tetra)\u003c/p\u003e\u003c/td\u003e\u003ctd\u003e$48.15 \u003c/td\u003e\u003ctd\u003e\u003cp\u003e$12.00\u003c/p\u003e\u003c/td\u003e\u003ctd\u003e\u003cp\u003e$0.00\u003c/p\u003e\u003c/td\u003e\u003ctd\u003e\u003cp\u003e$0.00\u003c/p\u003e\u003c/td\u003e\u003c/tr\u003e,\n \u003ctr\u003e\u003ctd\u003ePrevnar 13\u003c/td\u003e\u003ctd\u003e\u003cp\u003e$200.05\u003c/p\u003e\u003c/td\u003e\u003ctd\u003e$63.00 \u003c/td\u003e\u003ctd\u003e\u003cp\u003e$31.00\u003c/p\u003e\u003c/td\u003e\u003ctd\u003e$16.00 \u003c/td\u003e\u003c/tr\u003e,\n \u003ctr\u003e\u003ctd\u003ePneumovax 23\u003c/td\u003e\u003ctd\u003e$93.05 \u003c/td\u003e\u003ctd\u003e$40.00 \u003c/td\u003e\u003ctd\u003e\u003cp\u003e$20.00\u003c/p\u003e\u003c/td\u003e\u003ctd\u003e$10.00 \u003c/td\u003e\u003c/tr\u003e,\n \u003ctr\u003e\u003ctd\u003eBoostrix\u003c/td\u003e\u003ctd\u003e\u003cp\u003e$58.85\u003c/p\u003e\u003c/td\u003e\u003ctd\u003e\u003cp\u003e$15.00\u003c/p\u003e\u003c/td\u003e\u003ctd\u003e\u003cp\u003e$0.00\u003c/p\u003e\u003c/td\u003e\u003ctd\u003e\u003cp\u003e$0.00\u003c/p\u003e\u003c/td\u003e\u003c/tr\u003e,\n \u003ctr\u003e\u003ctd\u003eHepatitis B (Engerix B Adult)\u003c/td\u003e\u003ctd\u003e$55.64 \u003c/td\u003e\u003ctd\u003e\u003cp\u003e$17.00\u003c/p\u003e\u003c/td\u003e\u003ctd\u003e\u003cp\u003e$0.00\u003c/p\u003e\u003c/td\u003e\u003ctd\u003e\u003cp\u003e$0.00\u003c/p\u003e\u003c/td\u003e\u003c/tr\u003e,\n \u003ctr\u003e\u003ctd\u003eMmr-II Measles,Mumps,Rubella\u003c/td\u003e\u003ctd\u003e\u003cp\u003e$70.00\u003c/p\u003e\u003c/td\u003e\u003ctd\u003e\u003cp\u003e$35.00\u003c/p\u003e\u003c/td\u003e\u003ctd\u003e\u003cp\u003e$18.00\u003c/p\u003e\u003c/td\u003e\u003ctd\u003e\u003cp\u003e$9.00\u003c/p\u003e\u003c/td\u003e\u003c/tr\u003e,\n \u003ctr\u003e\u003ctd\u003eInfanrix IPV/HIB (5-in-1)\u003c/td\u003e\u003ctd\u003e$107.00 \u003c/td\u003e\u003ctd\u003e\u003cp\u003eN.A\u003c/p\u003e\u003c/td\u003e\u003ctd\u003e\u003cp\u003eN.A\u003c/p\u003e\u003c/td\u003e\u003ctd\u003e\u003cp\u003eN.A\u003c/p\u003e\u003c/td\u003e\u003c/tr\u003e,\n \u003ctr\u003e\u003ctd\u003eInfanrix Hexa (6-in-1)\u003c/td\u003e\u003ctd\u003e$128.40 \u003c/td\u003e\u003ctd\u003e\u003cp\u003eN.A\u003c/p\u003e\u003c/td\u003e\u003ctd\u003e\u003cp\u003eN.A\u003c/p\u003e\u003c/td\u003e\u003ctd\u003e\u003cp\u003eN.A\u003c/p\u003e\u003c/td\u003e\u003c/tr\u003e,\n \u003ctr\u003e\u003ctd\u003eChicken Pox (Varivax)\u003c/td\u003e\u003ctd\u003e\u003cp\u003e$96.30\u003c/p\u003e\u003c/td\u003e\u003ctd\u003e\u003cp\u003e$45.00\u003c/p\u003e\u003c/td\u003e\u003ctd\u003e\u003cp\u003e$23.00\u003c/p\u003e\u003c/td\u003e\u003ctd\u003e\u003cp\u003e$11.00\u003c/p\u003e\u003c/td\u003e\u003c/tr\u003e,\n \u003ctr\u003e\u003ctd\u003eHepatitis A (Paed 720)\u003c/td\u003e\u003ctd\u003e$107.00 \u003c/td\u003e\u003ctd\u003e\u003cp\u003eN.A\u003c/p\u003e\u003c/td\u003e\u003ctd\u003e\u003cp\u003eN.A\u003c/p\u003e\u003c/td\u003e\u003ctd\u003e\u003cp\u003eN.A\u003c/p\u003e\u003c/td\u003e\u003c/tr\u003e,\n \u003ctr\u003e\u003ctd\u003eHepatitis A (Havrix 1440)\u003c/td\u003e\u003ctd\u003e$114.49 \u003c/td\u003e\u003ctd\u003e\u003cp\u003e$114.49\u003c/p\u003e\u003c/td\u003e\u003ctd\u003e\u003cp\u003e$114.49\u003c/p\u003e\u003c/td\u003e\u003ctd\u003e\u003cp\u003e$114.49\u003c/p\u003e\u003c/td\u003e\u003c/tr\u003e,\n \u003ctr\u003e\u003ctd\u003eTwinrix\u003c/td\u003e\u003ctd\u003e$128.40 \u003c/td\u003e\u003ctd\u003e\u003cp\u003e$128.40\u003c/p\u003e\u003c/td\u003e\u003ctd\u003e\u003cp\u003e$128.40\u003c/p\u003e\u003c/td\u003e\u003ctd\u003e\u003cp\u003e$128.40\u003c/p\u003e\u003c/td\u003e\u003c/tr\u003e,\n \u003ctr\u003e\u003ctd\u003eTetanus Jab (Tetavax) \u003c/td\u003e\u003ctd\u003e$32.10 \u003c/td\u003e\u003ctd\u003e\u003cp\u003e$32.10\u003c/p\u003e\u003c/td\u003e\u003ctd\u003e\u003cp\u003e$32.10\u003c/p\u003e\u003c/td\u003e\u003ctd\u003e\u003cp\u003e$32.10\u003c/p\u003e\u003c/td\u003e\u003c/tr\u003e,\n \u003ctr\u003e\u003ctd\u003eZostavax\u003c/td\u003e\u003ctd\u003e$304.95 \u003c/td\u003e\u003ctd\u003e\u003cp\u003e$304.95\u003c/p\u003e\u003c/td\u003e\u003ctd\u003e\u003cp\u003e$304.95\u003c/p\u003e\u003c/td\u003e\u003ctd\u003e\u003cp\u003e$304.95\u003c/p\u003e\u003c/td\u003e\u003c/tr\u003e,\n \u003ctr\u003e\u003ctd\u003eGardasil 9\u003c/td\u003e\u003ctd\u003e$224.70 \u003c/td\u003e\u003ctd\u003e\u003cp\u003e$224.70\u003c/p\u003e\u003c/td\u003e\u003ctd\u003e\u003cp\u003e$224.70\u003c/p\u003e\u003c/td\u003e\u003ctd\u003e\u003cp\u003e$224.70\u003c/p\u003e\u003c/td\u003e\u003c/tr\u003e,\n \u003ctr\u003e\u003ctd\u003eRotarix\u003c/td\u003e\u003ctd\u003e$141.24 \u003c/td\u003e\u003ctd\u003e\u003cp\u003e$141.24\u003c/p\u003e\u003c/td\u003e\u003ctd\u003e\u003cp\u003e$141.24\u003c/p\u003e\u003c/td\u003e\u003ctd\u003e\u003cp\u003e$141.24\u003c/p\u003e\u003c/td\u003e\u003c/tr\u003e,\n \u003ctr\u003e\u003ctd\u003eDengvaxia Vaccination\u003c/td\u003e\u003ctd\u003e$160.50 \u003c/td\u003e\u003ctd\u003e\u003cp\u003e$160.50\u003c/p\u003e\u003c/td\u003e\u003ctd\u003e\u003cp\u003e$160.50\u003c/p\u003e\u003c/td\u003e\u003ctd\u003e\u003cp\u003e$160.50\u003c/p\u003e\u003c/td\u003e\u003c/tr\u003e]"
          },
          "metadata": {}
        }
      ]
    },
    {
      "execution_count": 14,
      "cell_type": "code",
      "metadata": {},
      "source": [
        "rows[1]"
      ],
      "outputs": [
        {
          "output_type": "execute_result",
          "execution_count": 14,
          "data": {
            "text/plain": "\u003ctr\u003e\u003ctd\u003e\u003cp\u003eFlu Jab (Influvac Tetra)\u003c/p\u003e\u003c/td\u003e\u003ctd\u003e$48.15 \u003c/td\u003e\u003ctd\u003e\u003cp\u003e$12.00\u003c/p\u003e\u003c/td\u003e\u003ctd\u003e\u003cp\u003e$0.00\u003c/p\u003e\u003c/td\u003e\u003ctd\u003e\u003cp\u003e$0.00\u003c/p\u003e\u003c/td\u003e\u003c/tr\u003e"
          },
          "metadata": {}
        }
      ]
    },
    {
      "execution_count": 15,
      "cell_type": "code",
      "metadata": {},
      "source": [
        "rows[1].find_all(\u0027td\u0027)"
      ],
      "outputs": [
        {
          "output_type": "execute_result",
          "execution_count": 15,
          "data": {
            "text/plain": "[\u003ctd\u003e\u003cp\u003eFlu Jab (Influvac Tetra)\u003c/p\u003e\u003c/td\u003e,\n \u003ctd\u003e$48.15 \u003c/td\u003e,\n \u003ctd\u003e\u003cp\u003e$12.00\u003c/p\u003e\u003c/td\u003e,\n \u003ctd\u003e\u003cp\u003e$0.00\u003c/p\u003e\u003c/td\u003e,\n \u003ctd\u003e\u003cp\u003e$0.00\u003c/p\u003e\u003c/td\u003e]"
          },
          "metadata": {}
        }
      ]
    },
    {
      "execution_count": 18,
      "cell_type": "code",
      "metadata": {},
      "source": [
        "rows[1].find_all(\u0027td\u0027)[1].get_text().strip()"
      ],
      "outputs": [
        {
          "output_type": "execute_result",
          "execution_count": 18,
          "data": {
            "text/plain": "\u0027$48.15\u0027"
          },
          "metadata": {}
        }
      ]
    },
    {
      "execution_count": 19,
      "cell_type": "code",
      "metadata": {},
      "source": [
        "data \u003d []"
      ],
      "outputs": []
    },
    {
      "execution_count": 21,
      "cell_type": "code",
      "metadata": {},
      "source": [
        "for row in rows[1:]:\n    cells \u003d row.find_all(\u0027td\u0027)\n    vaccination \u003d cells[0].get_text().strip()\n    n \u003d cells[1].get_text().strip()\n    g \u003d cells[2].get_text().strip()\n    m \u003d cells[3].get_text().strip()\n    p \u003d cells[4].get_text().strip()\n    data.append((vaccination, n, g, m, p))\n        "
      ],
      "outputs": []
    },
    {
      "execution_count": 22,
      "cell_type": "code",
      "metadata": {},
      "source": [
        "data"
      ],
      "outputs": [
        {
          "output_type": "execute_result",
          "execution_count": 22,
          "data": {
            "text/plain": "[(\u0027Flu Jab (Influvac Tetra)\u0027, \u0027$48.15\u0027, \u0027$12.00\u0027, \u0027$0.00\u0027, \u0027$0.00\u0027),\n (\u0027Prevnar 13\u0027, \u0027$200.05\u0027, \u0027$63.00\u0027, \u0027$31.00\u0027, \u0027$16.00\u0027),\n (\u0027Pneumovax 23\u0027, \u0027$93.05\u0027, \u0027$40.00\u0027, \u0027$20.00\u0027, \u0027$10.00\u0027),\n (\u0027Boostrix\u0027, \u0027$58.85\u0027, \u0027$15.00\u0027, \u0027$0.00\u0027, \u0027$0.00\u0027),\n (\u0027Hepatitis B (Engerix B Adult)\u0027, \u0027$55.64\u0027, \u0027$17.00\u0027, \u0027$0.00\u0027, \u0027$0.00\u0027),\n (\u0027Mmr-II Measles,Mumps,Rubella\u0027, \u0027$70.00\u0027, \u0027$35.00\u0027, \u0027$18.00\u0027, \u0027$9.00\u0027),\n (\u0027Infanrix IPV/HIB (5-in-1)\u0027, \u0027$107.00\u0027, \u0027N.A\u0027, \u0027N.A\u0027, \u0027N.A\u0027),\n (\u0027Infanrix Hexa (6-in-1)\u0027, \u0027$128.40\u0027, \u0027N.A\u0027, \u0027N.A\u0027, \u0027N.A\u0027),\n (\u0027Chicken Pox (Varivax)\u0027, \u0027$96.30\u0027, \u0027$45.00\u0027, \u0027$23.00\u0027, \u0027$11.00\u0027),\n (\u0027Hepatitis A (Paed 720)\u0027, \u0027$107.00\u0027, \u0027N.A\u0027, \u0027N.A\u0027, \u0027N.A\u0027),\n (\u0027Hepatitis A (Havrix 1440)\u0027, \u0027$114.49\u0027, \u0027$114.49\u0027, \u0027$114.49\u0027, \u0027$114.49\u0027),\n (\u0027Twinrix\u0027, \u0027$128.40\u0027, \u0027$128.40\u0027, \u0027$128.40\u0027, \u0027$128.40\u0027),\n (\u0027Tetanus Jab (Tetavax)\u0027, \u0027$32.10\u0027, \u0027$32.10\u0027, \u0027$32.10\u0027, \u0027$32.10\u0027),\n (\u0027Zostavax\u0027, \u0027$304.95\u0027, \u0027$304.95\u0027, \u0027$304.95\u0027, \u0027$304.95\u0027),\n (\u0027Gardasil 9\u0027, \u0027$224.70\u0027, \u0027$224.70\u0027, \u0027$224.70\u0027, \u0027$224.70\u0027),\n (\u0027Rotarix\u0027, \u0027$141.24\u0027, \u0027$141.24\u0027, \u0027$141.24\u0027, \u0027$141.24\u0027),\n (\u0027Dengvaxia Vaccination\u0027, \u0027$160.50\u0027, \u0027$160.50\u0027, \u0027$160.50\u0027, \u0027$160.50\u0027)]"
          },
          "metadata": {}
        }
      ]
    },
    {
      "execution_count": 24,
      "cell_type": "code",
      "metadata": {},
      "source": [
        "df \u003d pd.DataFrame(np.array(data))"
      ],
      "outputs": []
    },
    {
      "execution_count": 25,
      "cell_type": "code",
      "metadata": {},
      "source": [
        "df.columns \u003d [\u0027vaccinations\u0027,\u0027public_rate\u0027,\u0027chas_green\u0027,\u0027merdeka_generation_chas_blue_orange\u0027,\u0027pioneer_generation\u0027]"
      ],
      "outputs": []
    },
    {
      "execution_count": 26,
      "cell_type": "code",
      "metadata": {},
      "source": [
        "df"
      ],
      "outputs": [
        {
          "output_type": "execute_result",
          "execution_count": 26,
          "data": {
            "text/plain": "                     vaccinations public_rate chas_green  \\\n0        Flu Jab (Influvac Tetra)      $48.15     $12.00   \n1                      Prevnar 13     $200.05     $63.00   \n2                    Pneumovax 23      $93.05     $40.00   \n3                        Boostrix      $58.85     $15.00   \n4   Hepatitis B (Engerix B Adult)      $55.64     $17.00   \n5    Mmr-II Measles,Mumps,Rubella      $70.00     $35.00   \n6       Infanrix IPV/HIB (5-in-1)     $107.00        N.A   \n7          Infanrix Hexa (6-in-1)     $128.40        N.A   \n8           Chicken Pox (Varivax)      $96.30     $45.00   \n9          Hepatitis A (Paed 720)     $107.00        N.A   \n10      Hepatitis A (Havrix 1440)     $114.49    $114.49   \n11                        Twinrix     $128.40    $128.40   \n12          Tetanus Jab (Tetavax)      $32.10     $32.10   \n13                       Zostavax     $304.95    $304.95   \n14                     Gardasil 9     $224.70    $224.70   \n15                        Rotarix     $141.24    $141.24   \n16          Dengvaxia Vaccination     $160.50    $160.50   \n\n   merdeka_generation_chas_blue_orange pioneer_generation  \n0                                $0.00              $0.00  \n1                               $31.00             $16.00  \n2                               $20.00             $10.00  \n3                                $0.00              $0.00  \n4                                $0.00              $0.00  \n5                               $18.00              $9.00  \n6                                  N.A                N.A  \n7                                  N.A                N.A  \n8                               $23.00             $11.00  \n9                                  N.A                N.A  \n10                             $114.49            $114.49  \n11                             $128.40            $128.40  \n12                              $32.10             $32.10  \n13                             $304.95            $304.95  \n14                             $224.70            $224.70  \n15                             $141.24            $141.24  \n16                             $160.50            $160.50  ",
            "text/html": "\u003cdiv\u003e\n\u003cstyle scoped\u003e\n    .dataframe tbody tr th:only-of-type {\n        vertical-align: middle;\n    }\n\n    .dataframe tbody tr th {\n        vertical-align: top;\n    }\n\n    .dataframe thead th {\n        text-align: right;\n    }\n\u003c/style\u003e\n\u003ctable border\u003d\"1\" class\u003d\"dataframe\"\u003e\n  \u003cthead\u003e\n    \u003ctr style\u003d\"text-align: right;\"\u003e\n      \u003cth\u003e\u003c/th\u003e\n      \u003cth\u003evaccinations\u003c/th\u003e\n      \u003cth\u003epublic_rate\u003c/th\u003e\n      \u003cth\u003echas_green\u003c/th\u003e\n      \u003cth\u003emerdeka_generation_chas_blue_orange\u003c/th\u003e\n      \u003cth\u003epioneer_generation\u003c/th\u003e\n    \u003c/tr\u003e\n  \u003c/thead\u003e\n  \u003ctbody\u003e\n    \u003ctr\u003e\n      \u003cth\u003e0\u003c/th\u003e\n      \u003ctd\u003eFlu Jab (Influvac Tetra)\u003c/td\u003e\n      \u003ctd\u003e$48.15\u003c/td\u003e\n      \u003ctd\u003e$12.00\u003c/td\u003e\n      \u003ctd\u003e$0.00\u003c/td\u003e\n      \u003ctd\u003e$0.00\u003c/td\u003e\n    \u003c/tr\u003e\n    \u003ctr\u003e\n      \u003cth\u003e1\u003c/th\u003e\n      \u003ctd\u003ePrevnar 13\u003c/td\u003e\n      \u003ctd\u003e$200.05\u003c/td\u003e\n      \u003ctd\u003e$63.00\u003c/td\u003e\n      \u003ctd\u003e$31.00\u003c/td\u003e\n      \u003ctd\u003e$16.00\u003c/td\u003e\n    \u003c/tr\u003e\n    \u003ctr\u003e\n      \u003cth\u003e2\u003c/th\u003e\n      \u003ctd\u003ePneumovax 23\u003c/td\u003e\n      \u003ctd\u003e$93.05\u003c/td\u003e\n      \u003ctd\u003e$40.00\u003c/td\u003e\n      \u003ctd\u003e$20.00\u003c/td\u003e\n      \u003ctd\u003e$10.00\u003c/td\u003e\n    \u003c/tr\u003e\n    \u003ctr\u003e\n      \u003cth\u003e3\u003c/th\u003e\n      \u003ctd\u003eBoostrix\u003c/td\u003e\n      \u003ctd\u003e$58.85\u003c/td\u003e\n      \u003ctd\u003e$15.00\u003c/td\u003e\n      \u003ctd\u003e$0.00\u003c/td\u003e\n      \u003ctd\u003e$0.00\u003c/td\u003e\n    \u003c/tr\u003e\n    \u003ctr\u003e\n      \u003cth\u003e4\u003c/th\u003e\n      \u003ctd\u003eHepatitis B (Engerix B Adult)\u003c/td\u003e\n      \u003ctd\u003e$55.64\u003c/td\u003e\n      \u003ctd\u003e$17.00\u003c/td\u003e\n      \u003ctd\u003e$0.00\u003c/td\u003e\n      \u003ctd\u003e$0.00\u003c/td\u003e\n    \u003c/tr\u003e\n    \u003ctr\u003e\n      \u003cth\u003e5\u003c/th\u003e\n      \u003ctd\u003eMmr-II Measles,Mumps,Rubella\u003c/td\u003e\n      \u003ctd\u003e$70.00\u003c/td\u003e\n      \u003ctd\u003e$35.00\u003c/td\u003e\n      \u003ctd\u003e$18.00\u003c/td\u003e\n      \u003ctd\u003e$9.00\u003c/td\u003e\n    \u003c/tr\u003e\n    \u003ctr\u003e\n      \u003cth\u003e6\u003c/th\u003e\n      \u003ctd\u003eInfanrix IPV/HIB (5-in-1)\u003c/td\u003e\n      \u003ctd\u003e$107.00\u003c/td\u003e\n      \u003ctd\u003eN.A\u003c/td\u003e\n      \u003ctd\u003eN.A\u003c/td\u003e\n      \u003ctd\u003eN.A\u003c/td\u003e\n    \u003c/tr\u003e\n    \u003ctr\u003e\n      \u003cth\u003e7\u003c/th\u003e\n      \u003ctd\u003eInfanrix Hexa (6-in-1)\u003c/td\u003e\n      \u003ctd\u003e$128.40\u003c/td\u003e\n      \u003ctd\u003eN.A\u003c/td\u003e\n      \u003ctd\u003eN.A\u003c/td\u003e\n      \u003ctd\u003eN.A\u003c/td\u003e\n    \u003c/tr\u003e\n    \u003ctr\u003e\n      \u003cth\u003e8\u003c/th\u003e\n      \u003ctd\u003eChicken Pox (Varivax)\u003c/td\u003e\n      \u003ctd\u003e$96.30\u003c/td\u003e\n      \u003ctd\u003e$45.00\u003c/td\u003e\n      \u003ctd\u003e$23.00\u003c/td\u003e\n      \u003ctd\u003e$11.00\u003c/td\u003e\n    \u003c/tr\u003e\n    \u003ctr\u003e\n      \u003cth\u003e9\u003c/th\u003e\n      \u003ctd\u003eHepatitis A (Paed 720)\u003c/td\u003e\n      \u003ctd\u003e$107.00\u003c/td\u003e\n      \u003ctd\u003eN.A\u003c/td\u003e\n      \u003ctd\u003eN.A\u003c/td\u003e\n      \u003ctd\u003eN.A\u003c/td\u003e\n    \u003c/tr\u003e\n    \u003ctr\u003e\n      \u003cth\u003e10\u003c/th\u003e\n      \u003ctd\u003eHepatitis A (Havrix 1440)\u003c/td\u003e\n      \u003ctd\u003e$114.49\u003c/td\u003e\n      \u003ctd\u003e$114.49\u003c/td\u003e\n      \u003ctd\u003e$114.49\u003c/td\u003e\n      \u003ctd\u003e$114.49\u003c/td\u003e\n    \u003c/tr\u003e\n    \u003ctr\u003e\n      \u003cth\u003e11\u003c/th\u003e\n      \u003ctd\u003eTwinrix\u003c/td\u003e\n      \u003ctd\u003e$128.40\u003c/td\u003e\n      \u003ctd\u003e$128.40\u003c/td\u003e\n      \u003ctd\u003e$128.40\u003c/td\u003e\n      \u003ctd\u003e$128.40\u003c/td\u003e\n    \u003c/tr\u003e\n    \u003ctr\u003e\n      \u003cth\u003e12\u003c/th\u003e\n      \u003ctd\u003eTetanus Jab (Tetavax)\u003c/td\u003e\n      \u003ctd\u003e$32.10\u003c/td\u003e\n      \u003ctd\u003e$32.10\u003c/td\u003e\n      \u003ctd\u003e$32.10\u003c/td\u003e\n      \u003ctd\u003e$32.10\u003c/td\u003e\n    \u003c/tr\u003e\n    \u003ctr\u003e\n      \u003cth\u003e13\u003c/th\u003e\n      \u003ctd\u003eZostavax\u003c/td\u003e\n      \u003ctd\u003e$304.95\u003c/td\u003e\n      \u003ctd\u003e$304.95\u003c/td\u003e\n      \u003ctd\u003e$304.95\u003c/td\u003e\n      \u003ctd\u003e$304.95\u003c/td\u003e\n    \u003c/tr\u003e\n    \u003ctr\u003e\n      \u003cth\u003e14\u003c/th\u003e\n      \u003ctd\u003eGardasil 9\u003c/td\u003e\n      \u003ctd\u003e$224.70\u003c/td\u003e\n      \u003ctd\u003e$224.70\u003c/td\u003e\n      \u003ctd\u003e$224.70\u003c/td\u003e\n      \u003ctd\u003e$224.70\u003c/td\u003e\n    \u003c/tr\u003e\n    \u003ctr\u003e\n      \u003cth\u003e15\u003c/th\u003e\n      \u003ctd\u003eRotarix\u003c/td\u003e\n      \u003ctd\u003e$141.24\u003c/td\u003e\n      \u003ctd\u003e$141.24\u003c/td\u003e\n      \u003ctd\u003e$141.24\u003c/td\u003e\n      \u003ctd\u003e$141.24\u003c/td\u003e\n    \u003c/tr\u003e\n    \u003ctr\u003e\n      \u003cth\u003e16\u003c/th\u003e\n      \u003ctd\u003eDengvaxia Vaccination\u003c/td\u003e\n      \u003ctd\u003e$160.50\u003c/td\u003e\n      \u003ctd\u003e$160.50\u003c/td\u003e\n      \u003ctd\u003e$160.50\u003c/td\u003e\n      \u003ctd\u003e$160.50\u003c/td\u003e\n    \u003c/tr\u003e\n  \u003c/tbody\u003e\n\u003c/table\u003e\n\u003c/div\u003e"
          },
          "metadata": {}
        }
      ]
    },
    {
      "execution_count": 49,
      "cell_type": "code",
      "metadata": {},
      "source": [
        "df.shape[0]"
      ],
      "outputs": [
        {
          "output_type": "execute_result",
          "execution_count": 49,
          "data": {
            "text/plain": "17"
          },
          "metadata": {}
        }
      ]
    },
    {
      "execution_count": 53,
      "cell_type": "code",
      "metadata": {},
      "source": [
        "df.iloc[0][0]"
      ],
      "outputs": [
        {
          "output_type": "execute_result",
          "execution_count": 53,
          "data": {
            "text/plain": "\u0027Flu Jab (Influvac Tetra)\u0027"
          },
          "metadata": {}
        }
      ]
    },
    {
      "execution_count": 32,
      "cell_type": "code",
      "metadata": {},
      "source": [
        "import dataiku\nfrom dataiku import pandasutils as pdu"
      ],
      "outputs": []
    },
    {
      "execution_count": 33,
      "cell_type": "code",
      "metadata": {},
      "source": [
        "# Get a handle to the current project\nclient \u003d dataiku.api_client()\nproject \u003d client.get_project(dataiku.default_project_key())"
      ],
      "outputs": []
    },
    {
      "execution_count": 35,
      "cell_type": "code",
      "metadata": {},
      "source": [
        "output_name \u003d \u0027cost\u0027"
      ],
      "outputs": []
    },
    {
      "execution_count": 36,
      "cell_type": "code",
      "metadata": {},
      "source": [
        "builder \u003d project.new_managed_dataset_creation_helper(output_name)\nbuilder.with_store_into(\"filesystem_managed\")\nbuilder.create() "
      ],
      "outputs": [
        {
          "output_type": "stream",
          "text": "/Users/huixiangchua/Library/DataScienceStudio/kits/dataiku-dss-11.0.1-osx/python/dataikuapi/dss/project.py:430: DeprecationWarning: new_managed_dataset_creation_helper is deprecated, please use new_managed_dataset\n  warnings.warn(\"new_managed_dataset_creation_helper is deprecated, please use new_managed_dataset\", DeprecationWarning)\n",
          "name": "stderr"
        },
        {
          "output_type": "execute_result",
          "execution_count": 36,
          "data": {
            "text/plain": "\u003cdataikuapi.dss.dataset.DSSDataset at 0x10dd105c0\u003e"
          },
          "metadata": {}
        }
      ]
    },
    {
      "execution_count": 38,
      "cell_type": "code",
      "metadata": {},
      "source": [
        "# Write recipe outputs\ndataiku.Dataset(output_name).write_with_schema(df)"
      ],
      "outputs": [
        {
          "output_type": "stream",
          "text": "17 rows successfully written (d9izmpghaR)\n",
          "name": "stdout"
        }
      ]
    },
    {
      "cell_type": "markdown",
      "metadata": {},
      "source": [
        "### Getting the description of vaccinations"
      ]
    },
    {
      "execution_count": 0,
      "cell_type": "code",
      "metadata": {},
      "source": [
        "# soup.find_all(\u0027p\u0027)"
      ],
      "outputs": []
    },
    {
      "execution_count": 62,
      "cell_type": "code",
      "metadata": {},
      "source": [
        "soup.find_all(\u0027p\u0027)[59].get_text().strip()"
      ],
      "outputs": [
        {
          "output_type": "execute_result",
          "execution_count": 62,
          "data": {
            "text/plain": "\u0027Hepatitis A (Havrix 1440)\u0027"
          },
          "metadata": {}
        }
      ]
    },
    {
      "execution_count": 45,
      "cell_type": "code",
      "metadata": {
        "scrolled": true
      },
      "source": [
        "soup.find_all(\u0027p\u0027)[60].get_text().strip()"
      ],
      "outputs": [
        {
          "output_type": "execute_result",
          "execution_count": 45,
          "data": {
            "text/plain": "\u0027ADULTRequires 2 doses, 6 mth intervals.\\nHepatitis A vaccine (Havrix, Vaqta) is used to prevent hepatitis A, a type of liver disease that is caused by the hepatitis A virus (HAV). Hepatitis A is usually spread when a person ingests fecal matter from contact with food, drinks, or objects which have been contaminated by feces or stool of an HAV-infected person.\u0027"
          },
          "metadata": {}
        }
      ]
    },
    {
      "execution_count": 47,
      "cell_type": "code",
      "metadata": {},
      "source": [
        "soup.find_all(\u0027p\u0027)[62].get_text().strip()"
      ],
      "outputs": [
        {
          "output_type": "execute_result",
          "execution_count": 47,
          "data": {
            "text/plain": "\u0027ADULTRequires 3 doses, 0, 1, 6 mth intervals. No. of doses required depends on blood test results.\\nENGERIX-B is a vaccine indicated for immunization against infection caused by all known subtypes of hepatitis B virus.\u0027"
          },
          "metadata": {}
        }
      ]
    },
    {
      "execution_count": 48,
      "cell_type": "code",
      "metadata": {},
      "source": [
        "soup.find_all(\u0027p\u0027)[64].get_text().strip()"
      ],
      "outputs": [
        {
          "output_type": "execute_result",
          "execution_count": 48,
          "data": {
            "text/plain": "\u0027ADULTRequires 3 doses, 0, 1, 6 mth intervals.TWINRIX is the only dual hepatitis A and B vaccine . It’s given as a series of doses (injections) by a healthcare professional. TWINRIX is used in adults, adolescents, children, and infants to prevent hepatitis A and hepatitis B diseases.\u0027"
          },
          "metadata": {}
        }
      ]
    },
    {
      "execution_count": 71,
      "cell_type": "code",
      "metadata": {},
      "source": [
        "desc_table \u003d []"
      ],
      "outputs": []
    },
    {
      "execution_count": 72,
      "cell_type": "code",
      "metadata": {},
      "source": [
        "for i in range(0,18):\n    vaccination \u003d soup.find_all(\u0027p\u0027)[59+i*2].get_text().strip()\n    desc \u003d soup.find_all(\u0027p\u0027)[60+i*2].get_text().strip()\n    desc_table.append((vaccination, desc))"
      ],
      "outputs": []
    },
    {
      "execution_count": 73,
      "cell_type": "code",
      "metadata": {},
      "source": [
        "desc_table"
      ],
      "outputs": [
        {
          "output_type": "execute_result",
          "execution_count": 73,
          "data": {
            "text/plain": "[(\u0027Hepatitis A (Havrix 1440)\u0027,\n  \u0027ADULTRequires 2 doses, 6 mth intervals.\\nHepatitis A vaccine (Havrix, Vaqta) is used to prevent hepatitis A, a type of liver disease that is caused by the hepatitis A virus (HAV). Hepatitis A is usually spread when a person ingests fecal matter from contact with food, drinks, or objects which have been contaminated by feces or stool of an HAV-infected person.\u0027),\n (\u0027Hepatitis B (Engerix B Adult)\u0027,\n  \u0027ADULTRequires 3 doses, 0, 1, 6 mth intervals. No. of doses required depends on blood test results.\\nENGERIX-B is a vaccine indicated for immunization against infection caused by all known subtypes of hepatitis B virus.\u0027),\n (\u0027Twinrix\u0027,\n  \u0027ADULTRequires 3 doses, 0, 1, 6 mth intervals.TWINRIX is the only dual hepatitis A and B vaccine . It’s given as a series of doses (injections) by a healthcare professional. TWINRIX is used in adults, adolescents, children, and infants to prevent hepatitis A and hepatitis B diseases.\u0027),\n (\u0027Tetanus Jab (Tetavax)\u0027,\n  \u0027ADULTThis vaccine is an anti-infectious medicinal product indicated in the prevention of tetanus.\u0027),\n (\u0027Zostavax\u0027,\n  \u0027ADULTZOSTAVAX is a vaccine used to prevent shingles (zoster) and zoster-related post-herpetic neuralgia (PHN),\\nthe long-lasting nerve pain that follows shingles.\u0027),\n (\u0027Boostrix\u0027,\n  \u0027ADULTBOOSTRIX is a vaccine indicated for active booster immunization against tetanus, diphtheria, and pertussis (whooping cough).\u0027),\n (\u0027Flu Jab (Influvac Tetra)\u0027,\n  \u0027ADULT | CHILDREN ABOVE 6 MONTHS OLD INFLUVAC TETRA is indicated for active immunisation of adults and children from 6 months of age for the prevention of influenza disease caused by the two influenza A virus subtypes and the two influenza B virus types contained in the vaccine.\\nImportant to note: The flu vaccine may contain egg protein and is not suitable for individuals who are allergic to it.\u0027),\n (\u0027Chicken Pox (Varivax)\u0027,\n  \u0027ADULT | CHILDREN ABOVE 12 MONTHS OLDVARIVAX is a vaccine indicated for active immunization for the prevention of varicella in individuals 12 months of age or older. Each dose is approximately 0.5 mL after reconstitution and is administered by subcutaneous injection.\u0027),\n (\u0027Prevnar 13\u0027,\n  \u0027ADULT | CHILDREN ABOVE 4 MONTHS OLDPrevnar 13 ® (Pneumococcal 13-valent Conjugate Vaccine [Diphtheria CRM 197 Protein ]) is a vaccine approved for adults 18 years of age and older for the prevention of pneumococcal pneumonia and invasive disease caused by 13 Streptococcus pneumoniae strains (1, 3, 4, 5, 6A, 6B, 7F, 9V, 14, 18C, 19A, 19F, and 23F).\u0027),\n (\u0027Dengue Fever (Dengvaxia)\u0027,\n  \u0027ADULT | CHILDREN ABOVE 12 YEARS OLDRequires 3 doses, 0, 6, 12 mth intervals.Dengvaxia is a vaccine used to help protect against dengue disease. Dengue disease is a mosquito-borne tropical disease caused by the dengue virus leading to mild, flu-like symptoms in most people.\u0027),\n (\u0027Mmr-II Measles,Mumps,Rubella\u0027,\n  \u0027ADULT | CHILDREN ABOVE 15 MONTHS OLDM-M-R® II is a vaccine indicated for active immunization for the prevention of measles, mumps, and rubella in individuals 12 months of age and older.\u0027),\n (\u0027Pneumovax 23\u0027,\n  \u0027ADULT | CHILDREN ABOVE 2 YEARS OLDPNEUMOVAX 23 is a vaccine indicated for active immunization for the prevention of pneumococcal disease caused by the 23 serotypes contained in the vaccine (1, 2, 3, 4, 5, 6B, 7F, 8, 9N, 9V, 10A, 11A, 12F, 14, 15B, 17F, 18C, 19F, 19A, 20, 22F, 23F, and 33F)\u0027),\n (\u0027Gardasil 4\u0027,\n  \u0027ADULT | CHILDREN ABOVE 9 YEARS OLDRequires 3 doses, 0, 2, 6 mth intervals.\\nFor girls and women aged 9-26 years for the prevention of cervical, vulvar and vaginal cancer, premalignant genital lesions (cervical, vulvar and vaginal), human papillomavirus (HPV) infection, cervical adenocarcinoma in situ (AIS) and external genital warts (Condyloma acuminata) causally related to HPV types 6, 11, 16 and 18.\\nFor boys and men 9-26 years for the prevention of HPV infection caused by HPV types 6, 11, 16 and 18 and genital warts (condyloma acuminata) caused by HPV types 6 and 11. For individuals 9-26 years for the prevention of anal cancer and premalignant lesions due to HPV types 6, 11, 16 and 18.\u0027),\n (\u0027Gardasil 9\u0027,\n  \u0027ADULT | CHILDREN ABOVE 14 YEARS OLDRequires 3 doses, 0, 2, 6 mth intervals.\\nGARDASIL 9 is a vaccine indicated in females 9 through 45 years of age for the prevention of cervical, vulvar, vaginal, anal, oropharyngeal and other head and neck cancers caused by human papillomavirus (HPV) Types 16, 18, 31, 33, 45, 52, and 58; cervical, vulvar, vaginal, and anal precancerous or dysplastic lesions caused by HPV Types 6, 11, 16, 18, 31, 33, 45, 52, and 58; and genital warts caused by HPV Types 6 and 11.\\nGARDASIL 9 is indicated in males 9 through 45 years of age for the prevention of anal, oropharyngeal and other head and neck cancers caused by HPV Types 16, 18, 31, 33, 45, 52, and 58; anal precancerous or dysplastic lesions caused by HPV Types 6, 11, 16, 18, 31, 33, 45, 52, and 58; and genital warts caused by HPV Types 6 and 11.\u0027),\n (\u0027Rotarix\u0027,\n  \u0027INFANTS BETWEEN 6-24 WEEKS OLDRotarix (rotavirus) Vaccine, Live Oral Suspension is a “live” vaccine used to help prevent rotavirus disease in children. The risk of serious side effects of Rotarix vaccine is extremely low. Becoming infected with rotavirus is much more dangerous to your child’s health than receiving of Rotarix vaccine.\u0027),\n (\u0027Infanrix Hexa (6-in-1)\u0027,\n  \u0027CHILDREN ABOVE 2 MONTHS OLD\\nThe active ingredients of INFANRIX hexa are non-infectious substances from tetanus, diphtheria bacteria, purified proteins of pertussis bacteria, the surface protein of the hepatitis B virus (HBsAg, derived from genetically engineered yeast cells) and inactivated poliovirus.\u0027),\n (\u0027Infanrix IPV/HIB (5-in-1)\u0027,\n  \u0027CHILDREN ABOVE 4 MONTHS OLD\\nINFANRIX – IPV + Hib is indicated for active immunisation against diphtheria, tetanus, pertussis, poliomyelitis and Haemophilus influenzae type b disease from the age of 2 months.\u0027),\n (\u0027Hepatitis A (PAED 720)\u0027,\n  \u0027CHILDREN ABOVE 12 MONTHS TO 12 YEARS OLDRequires 2 doses, 6 mth intervals.\\nVaccination with hepatitis A pediatric vaccine is recommended for all children who are 12 months of age or older. This vaccine is also recommended in children who travel to certain areas of the world where hepatitis A is a common disease.\u0027)]"
          },
          "metadata": {}
        }
      ]
    },
    {
      "execution_count": 74,
      "cell_type": "code",
      "metadata": {},
      "source": [
        "df2 \u003d pd.DataFrame(np.array(desc_table))"
      ],
      "outputs": []
    },
    {
      "execution_count": 75,
      "cell_type": "code",
      "metadata": {},
      "source": [
        "df2.columns \u003d [\u0027vaccinations\u0027,\u0027description\u0027]"
      ],
      "outputs": []
    },
    {
      "execution_count": 76,
      "cell_type": "code",
      "metadata": {},
      "source": [
        "builder \u003d project.new_managed_dataset_creation_helper(\u0027desc\u0027)\nbuilder.with_store_into(\"filesystem_managed\")\nbuilder.create() \n# Write recipe outputs\ndataiku.Dataset(\u0027desc\u0027).write_with_schema(df2)"
      ],
      "outputs": [
        {
          "output_type": "stream",
          "text": "18 rows successfully written (l3EbOl6NmA)\n",
          "name": "stdout"
        }
      ]
    },
    {
      "cell_type": "markdown",
      "metadata": {},
      "source": [
        "References:   \nhttps://thecleverprogrammer.com/2022/03/10/scrape-table-from-a-website-using-python/  \nhttps://blog.devgenius.io/8-steps-in-scraping-a-table-from-a-website-using-python-e9eca91c9779  \nhttps://stackoverflow.com/questions/47029280/python-3-add-custom-headers-to-urllib-request-request  "
      ]
    }
  ]
}