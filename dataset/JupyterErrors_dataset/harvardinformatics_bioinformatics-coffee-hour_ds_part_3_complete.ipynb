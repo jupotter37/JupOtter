{
 "metadata": {
  "language_info": {
   "codemirror_mode": {
    "name": "ipython",
    "version": 3
   },
   "file_extension": ".py",
   "mimetype": "text/x-python",
   "name": "python",
   "nbconvert_exporter": "python",
   "pygments_lexer": "ipython3",
   "version": "3.8.2-final"
  },
  "orig_nbformat": 2,
  "kernelspec": {
   "name": "python3",
   "display_name": "Python 3",
   "language": "python"
  }
 },
 "nbformat": 4,
 "nbformat_minor": 2,
 "cells": [
  {
   "source": [
    "# A Brief Introduction to Pandas\n",
    "### Part 1\n",
    "\n",
    "In this notebook, we will cover the basics of Pandas, a dynamic, powerful Python library that is ubiquitous in the field of Data Science. It has robust I/O functionality and makes working with data a lot simpler than doing so in Excel. Let's get stared."
   ],
   "cell_type": "markdown",
   "metadata": {}
  },
  {
   "cell_type": "code",
   "execution_count": 1,
   "metadata": {},
   "outputs": [],
   "source": [
    "import pandas as pd\n",
    "import matplotlib.pyplot as plt"
   ]
  },
  {
   "source": [
    "## 1.1 DataFrames\n",
    "Let's read in some existing data using Pandas convenient read_csv method."
   ],
   "cell_type": "markdown",
   "metadata": {}
  },
  {
   "cell_type": "code",
   "execution_count": 2,
   "metadata": {},
   "outputs": [],
   "source": [
    "unemployment_df = pd.read_csv('./data/unemployment_2016.csv')"
   ]
  },
  {
   "cell_type": "code",
   "execution_count": 3,
   "metadata": {},
   "outputs": [
    {
     "output_type": "execute_result",
     "data": {
      "text/plain": [
       "pandas.core.frame.DataFrame"
      ]
     },
     "metadata": {},
     "execution_count": 3
    }
   ],
   "source": [
    "# Check the type\n",
    "# https://pandas.pydata.org/pandas-docs/stable/reference/api/pandas.DataFrame.html\n",
    "type(unemployment_df)"
   ]
  },
  {
   "cell_type": "code",
   "execution_count": 4,
   "metadata": {},
   "outputs": [
    {
     "output_type": "stream",
     "name": "stdout",
     "text": [
      "<class 'pandas.core.frame.DataFrame'>\nRangeIndex: 32 entries, 0 to 31\nData columns (total 2 columns):\n #   Column      Non-Null Count  Dtype  \n---  ------      --------------  -----  \n 0   country     32 non-null     object \n 1   unemp_rate  32 non-null     float64\ndtypes: float64(1), object(1)\nmemory usage: 640.0+ bytes\n"
     ]
    }
   ],
   "source": [
    "unemployment_df.info()"
   ]
  },
  {
   "cell_type": "code",
   "execution_count": 5,
   "metadata": {},
   "outputs": [
    {
     "output_type": "execute_result",
     "data": {
      "text/plain": [
       "       unemp_rate\n",
       "count   32.000000\n",
       "mean     8.337500\n",
       "std      4.393378\n",
       "min      3.000000\n",
       "25%      5.700000\n",
       "50%      7.300000\n",
       "75%      9.800000\n",
       "max     23.600000"
      ],
      "text/html": "<div>\n<style scoped>\n    .dataframe tbody tr th:only-of-type {\n        vertical-align: middle;\n    }\n\n    .dataframe tbody tr th {\n        vertical-align: top;\n    }\n\n    .dataframe thead th {\n        text-align: right;\n    }\n</style>\n<table border=\"1\" class=\"dataframe\">\n  <thead>\n    <tr style=\"text-align: right;\">\n      <th></th>\n      <th>unemp_rate</th>\n    </tr>\n  </thead>\n  <tbody>\n    <tr>\n      <th>count</th>\n      <td>32.000000</td>\n    </tr>\n    <tr>\n      <th>mean</th>\n      <td>8.337500</td>\n    </tr>\n    <tr>\n      <th>std</th>\n      <td>4.393378</td>\n    </tr>\n    <tr>\n      <th>min</th>\n      <td>3.000000</td>\n    </tr>\n    <tr>\n      <th>25%</th>\n      <td>5.700000</td>\n    </tr>\n    <tr>\n      <th>50%</th>\n      <td>7.300000</td>\n    </tr>\n    <tr>\n      <th>75%</th>\n      <td>9.800000</td>\n    </tr>\n    <tr>\n      <th>max</th>\n      <td>23.600000</td>\n    </tr>\n  </tbody>\n</table>\n</div>"
     },
     "metadata": {},
     "execution_count": 5
    }
   ],
   "source": [
    "unemployment_df.describe()"
   ]
  },
  {
   "cell_type": "code",
   "execution_count": 6,
   "metadata": {},
   "outputs": [],
   "source": [
    "# Select a single column\n",
    "# Using bracket notation\n",
    "countries = unemployment_df['country']\n",
    "# Using dot notation\n",
    "countries = unemployment_df.country"
   ]
  },
  {
   "cell_type": "code",
   "execution_count": 7,
   "metadata": {},
   "outputs": [
    {
     "output_type": "error",
     "ename": "KeyError",
     "evalue": "0",
     "traceback": [
      "\u001b[0;31m---------------------------------------------------------------------------\u001b[0m",
      "\u001b[0;31mKeyError\u001b[0m                                  Traceback (most recent call last)",
      "\u001b[0;32m~/Library/Python/3.8/lib/python/site-packages/pandas/core/indexes/base.py\u001b[0m in \u001b[0;36mget_loc\u001b[0;34m(self, key, method, tolerance)\u001b[0m\n\u001b[1;32m   3079\u001b[0m             \u001b[0;32mtry\u001b[0m\u001b[0;34m:\u001b[0m\u001b[0;34m\u001b[0m\u001b[0;34m\u001b[0m\u001b[0m\n\u001b[0;32m-> 3080\u001b[0;31m                 \u001b[0;32mreturn\u001b[0m \u001b[0mself\u001b[0m\u001b[0;34m.\u001b[0m\u001b[0m_engine\u001b[0m\u001b[0;34m.\u001b[0m\u001b[0mget_loc\u001b[0m\u001b[0;34m(\u001b[0m\u001b[0mcasted_key\u001b[0m\u001b[0;34m)\u001b[0m\u001b[0;34m\u001b[0m\u001b[0;34m\u001b[0m\u001b[0m\n\u001b[0m\u001b[1;32m   3081\u001b[0m             \u001b[0;32mexcept\u001b[0m \u001b[0mKeyError\u001b[0m \u001b[0;32mas\u001b[0m \u001b[0merr\u001b[0m\u001b[0;34m:\u001b[0m\u001b[0;34m\u001b[0m\u001b[0;34m\u001b[0m\u001b[0m\n",
      "\u001b[0;32mpandas/_libs/index.pyx\u001b[0m in \u001b[0;36mpandas._libs.index.IndexEngine.get_loc\u001b[0;34m()\u001b[0m\n",
      "\u001b[0;32mpandas/_libs/index.pyx\u001b[0m in \u001b[0;36mpandas._libs.index.IndexEngine.get_loc\u001b[0;34m()\u001b[0m\n",
      "\u001b[0;32mpandas/_libs/hashtable_class_helper.pxi\u001b[0m in \u001b[0;36mpandas._libs.hashtable.PyObjectHashTable.get_item\u001b[0;34m()\u001b[0m\n",
      "\u001b[0;32mpandas/_libs/hashtable_class_helper.pxi\u001b[0m in \u001b[0;36mpandas._libs.hashtable.PyObjectHashTable.get_item\u001b[0;34m()\u001b[0m\n",
      "\u001b[0;31mKeyError\u001b[0m: 0",
      "\nThe above exception was the direct cause of the following exception:\n",
      "\u001b[0;31mKeyError\u001b[0m                                  Traceback (most recent call last)",
      "\u001b[0;32m<ipython-input-7-736c59be97bf>\u001b[0m in \u001b[0;36m<module>\u001b[0;34m\u001b[0m\n\u001b[1;32m      1\u001b[0m \u001b[0;31m# Access by numeric index\u001b[0m\u001b[0;34m\u001b[0m\u001b[0;34m\u001b[0m\u001b[0;34m\u001b[0m\u001b[0m\n\u001b[0;32m----> 2\u001b[0;31m \u001b[0munemployment_df\u001b[0m\u001b[0;34m[\u001b[0m\u001b[0;36m0\u001b[0m\u001b[0;34m]\u001b[0m\u001b[0;34m\u001b[0m\u001b[0;34m\u001b[0m\u001b[0m\n\u001b[0m",
      "\u001b[0;32m~/Library/Python/3.8/lib/python/site-packages/pandas/core/frame.py\u001b[0m in \u001b[0;36m__getitem__\u001b[0;34m(self, key)\u001b[0m\n\u001b[1;32m   3022\u001b[0m             \u001b[0;32mif\u001b[0m \u001b[0mself\u001b[0m\u001b[0;34m.\u001b[0m\u001b[0mcolumns\u001b[0m\u001b[0;34m.\u001b[0m\u001b[0mnlevels\u001b[0m \u001b[0;34m>\u001b[0m \u001b[0;36m1\u001b[0m\u001b[0;34m:\u001b[0m\u001b[0;34m\u001b[0m\u001b[0;34m\u001b[0m\u001b[0m\n\u001b[1;32m   3023\u001b[0m                 \u001b[0;32mreturn\u001b[0m \u001b[0mself\u001b[0m\u001b[0;34m.\u001b[0m\u001b[0m_getitem_multilevel\u001b[0m\u001b[0;34m(\u001b[0m\u001b[0mkey\u001b[0m\u001b[0;34m)\u001b[0m\u001b[0;34m\u001b[0m\u001b[0;34m\u001b[0m\u001b[0m\n\u001b[0;32m-> 3024\u001b[0;31m             \u001b[0mindexer\u001b[0m \u001b[0;34m=\u001b[0m \u001b[0mself\u001b[0m\u001b[0;34m.\u001b[0m\u001b[0mcolumns\u001b[0m\u001b[0;34m.\u001b[0m\u001b[0mget_loc\u001b[0m\u001b[0;34m(\u001b[0m\u001b[0mkey\u001b[0m\u001b[0;34m)\u001b[0m\u001b[0;34m\u001b[0m\u001b[0;34m\u001b[0m\u001b[0m\n\u001b[0m\u001b[1;32m   3025\u001b[0m             \u001b[0;32mif\u001b[0m \u001b[0mis_integer\u001b[0m\u001b[0;34m(\u001b[0m\u001b[0mindexer\u001b[0m\u001b[0;34m)\u001b[0m\u001b[0;34m:\u001b[0m\u001b[0;34m\u001b[0m\u001b[0;34m\u001b[0m\u001b[0m\n\u001b[1;32m   3026\u001b[0m                 \u001b[0mindexer\u001b[0m \u001b[0;34m=\u001b[0m \u001b[0;34m[\u001b[0m\u001b[0mindexer\u001b[0m\u001b[0;34m]\u001b[0m\u001b[0;34m\u001b[0m\u001b[0;34m\u001b[0m\u001b[0m\n",
      "\u001b[0;32m~/Library/Python/3.8/lib/python/site-packages/pandas/core/indexes/base.py\u001b[0m in \u001b[0;36mget_loc\u001b[0;34m(self, key, method, tolerance)\u001b[0m\n\u001b[1;32m   3080\u001b[0m                 \u001b[0;32mreturn\u001b[0m \u001b[0mself\u001b[0m\u001b[0;34m.\u001b[0m\u001b[0m_engine\u001b[0m\u001b[0;34m.\u001b[0m\u001b[0mget_loc\u001b[0m\u001b[0;34m(\u001b[0m\u001b[0mcasted_key\u001b[0m\u001b[0;34m)\u001b[0m\u001b[0;34m\u001b[0m\u001b[0;34m\u001b[0m\u001b[0m\n\u001b[1;32m   3081\u001b[0m             \u001b[0;32mexcept\u001b[0m \u001b[0mKeyError\u001b[0m \u001b[0;32mas\u001b[0m \u001b[0merr\u001b[0m\u001b[0;34m:\u001b[0m\u001b[0;34m\u001b[0m\u001b[0;34m\u001b[0m\u001b[0m\n\u001b[0;32m-> 3082\u001b[0;31m                 \u001b[0;32mraise\u001b[0m \u001b[0mKeyError\u001b[0m\u001b[0;34m(\u001b[0m\u001b[0mkey\u001b[0m\u001b[0;34m)\u001b[0m \u001b[0;32mfrom\u001b[0m \u001b[0merr\u001b[0m\u001b[0;34m\u001b[0m\u001b[0;34m\u001b[0m\u001b[0m\n\u001b[0m\u001b[1;32m   3083\u001b[0m \u001b[0;34m\u001b[0m\u001b[0m\n\u001b[1;32m   3084\u001b[0m         \u001b[0;32mif\u001b[0m \u001b[0mtolerance\u001b[0m \u001b[0;32mis\u001b[0m \u001b[0;32mnot\u001b[0m \u001b[0;32mNone\u001b[0m\u001b[0;34m:\u001b[0m\u001b[0;34m\u001b[0m\u001b[0;34m\u001b[0m\u001b[0m\n",
      "\u001b[0;31mKeyError\u001b[0m: 0"
     ]
    }
   ],
   "source": [
    "# Access by numeric index\n",
    "unemployment_df[0]"
   ]
  },
  {
   "cell_type": "code",
   "execution_count": 8,
   "metadata": {},
   "outputs": [
    {
     "output_type": "execute_result",
     "data": {
      "text/plain": [
       "pandas.core.series.Series"
      ]
     },
     "metadata": {},
     "execution_count": 8
    }
   ],
   "source": [
    "# Check the type\n",
    "# https://pandas.pydata.org/pandas-docs/stable/reference/api/pandas.Series.html\n",
    "type(countries)"
   ]
  },
  {
   "cell_type": "code",
   "execution_count": 9,
   "metadata": {},
   "outputs": [
    {
     "output_type": "error",
     "ename": "AttributeError",
     "evalue": "'Series' object has no attribute 'info'",
     "traceback": [
      "\u001b[0;31m---------------------------------------------------------------------------\u001b[0m",
      "\u001b[0;31mAttributeError\u001b[0m                            Traceback (most recent call last)",
      "\u001b[0;32m<ipython-input-9-014f3ce25eb4>\u001b[0m in \u001b[0;36m<module>\u001b[0;34m\u001b[0m\n\u001b[1;32m      1\u001b[0m \u001b[0;31m# Series objects do not have the same methods as dataframes\u001b[0m\u001b[0;34m\u001b[0m\u001b[0;34m\u001b[0m\u001b[0;34m\u001b[0m\u001b[0m\n\u001b[0;32m----> 2\u001b[0;31m \u001b[0mcountries\u001b[0m\u001b[0;34m.\u001b[0m\u001b[0minfo\u001b[0m\u001b[0;34m(\u001b[0m\u001b[0;34m)\u001b[0m\u001b[0;34m\u001b[0m\u001b[0;34m\u001b[0m\u001b[0m\n\u001b[0m\u001b[1;32m      3\u001b[0m \u001b[0mcountries\u001b[0m\u001b[0;34m.\u001b[0m\u001b[0mdescribe\u001b[0m\u001b[0;34m(\u001b[0m\u001b[0;34m)\u001b[0m\u001b[0;34m\u001b[0m\u001b[0;34m\u001b[0m\u001b[0m\n",
      "\u001b[0;32m~/Library/Python/3.8/lib/python/site-packages/pandas/core/generic.py\u001b[0m in \u001b[0;36m__getattr__\u001b[0;34m(self, name)\u001b[0m\n\u001b[1;32m   5458\u001b[0m             \u001b[0;32mif\u001b[0m \u001b[0mself\u001b[0m\u001b[0;34m.\u001b[0m\u001b[0m_info_axis\u001b[0m\u001b[0;34m.\u001b[0m\u001b[0m_can_hold_identifiers_and_holds_name\u001b[0m\u001b[0;34m(\u001b[0m\u001b[0mname\u001b[0m\u001b[0;34m)\u001b[0m\u001b[0;34m:\u001b[0m\u001b[0;34m\u001b[0m\u001b[0;34m\u001b[0m\u001b[0m\n\u001b[1;32m   5459\u001b[0m                 \u001b[0;32mreturn\u001b[0m \u001b[0mself\u001b[0m\u001b[0;34m[\u001b[0m\u001b[0mname\u001b[0m\u001b[0;34m]\u001b[0m\u001b[0;34m\u001b[0m\u001b[0;34m\u001b[0m\u001b[0m\n\u001b[0;32m-> 5460\u001b[0;31m             \u001b[0;32mreturn\u001b[0m \u001b[0mobject\u001b[0m\u001b[0;34m.\u001b[0m\u001b[0m__getattribute__\u001b[0m\u001b[0;34m(\u001b[0m\u001b[0mself\u001b[0m\u001b[0;34m,\u001b[0m \u001b[0mname\u001b[0m\u001b[0;34m)\u001b[0m\u001b[0;34m\u001b[0m\u001b[0;34m\u001b[0m\u001b[0m\n\u001b[0m\u001b[1;32m   5461\u001b[0m \u001b[0;34m\u001b[0m\u001b[0m\n\u001b[1;32m   5462\u001b[0m     \u001b[0;32mdef\u001b[0m \u001b[0m__setattr__\u001b[0m\u001b[0;34m(\u001b[0m\u001b[0mself\u001b[0m\u001b[0;34m,\u001b[0m \u001b[0mname\u001b[0m\u001b[0;34m:\u001b[0m \u001b[0mstr\u001b[0m\u001b[0;34m,\u001b[0m \u001b[0mvalue\u001b[0m\u001b[0;34m)\u001b[0m \u001b[0;34m->\u001b[0m \u001b[0;32mNone\u001b[0m\u001b[0;34m:\u001b[0m\u001b[0;34m\u001b[0m\u001b[0;34m\u001b[0m\u001b[0m\n",
      "\u001b[0;31mAttributeError\u001b[0m: 'Series' object has no attribute 'info'"
     ]
    }
   ],
   "source": [
    "# Series objects do not have the same methods as dataframes\n",
    "countries.info()\n",
    "countries.describe()"
   ]
  },
  {
   "source": [
    "## 1.2 Vectorized Operations\n",
    "In Pandas, operations work on each value in most data structures, such as dataframes and series."
   ],
   "cell_type": "markdown",
   "metadata": {}
  },
  {
   "cell_type": "code",
   "execution_count": 10,
   "metadata": {},
   "outputs": [
    {
     "output_type": "execute_result",
     "data": {
      "text/plain": [
       "0            Austria is in Europe.\n",
       "1            Belgium is in Europe.\n",
       "2           Bulgaria is in Europe.\n",
       "3        Switzerland is in Europe.\n",
       "4             Cyprus is in Europe.\n",
       "5            Czechia is in Europe.\n",
       "6            Germany is in Europe.\n",
       "7            Denmark is in Europe.\n",
       "8            Estonia is in Europe.\n",
       "9             Greece is in Europe.\n",
       "10             Spain is in Europe.\n",
       "11           Finland is in Europe.\n",
       "12            France is in Europe.\n",
       "13           Croatia is in Europe.\n",
       "14           Hungary is in Europe.\n",
       "15           Ireland is in Europe.\n",
       "16           Iceland is in Europe.\n",
       "17             Italy is in Europe.\n",
       "18         Lithuania is in Europe.\n",
       "19        Luxembourg is in Europe.\n",
       "20            Latvia is in Europe.\n",
       "21             Malta is in Europe.\n",
       "22       Netherlands is in Europe.\n",
       "23            Norway is in Europe.\n",
       "24            Poland is in Europe.\n",
       "25          Portugal is in Europe.\n",
       "26           Romania is in Europe.\n",
       "27            Sweden is in Europe.\n",
       "28          Slovenia is in Europe.\n",
       "29          Slovakia is in Europe.\n",
       "30            Turkey is in Europe.\n",
       "31    United Kingdom is in Europe.\n",
       "Name: country, dtype: object"
      ]
     },
     "metadata": {},
     "execution_count": 10
    }
   ],
   "source": [
    "# Add a string to the countries series\n",
    "countries + \" is in Europe.\""
   ]
  },
  {
   "cell_type": "code",
   "execution_count": 11,
   "metadata": {},
   "outputs": [
    {
     "output_type": "error",
     "ename": "TypeError",
     "evalue": "can only concatenate str (not \"int\") to str",
     "traceback": [
      "\u001b[0;31m---------------------------------------------------------------------------\u001b[0m",
      "\u001b[0;31mTypeError\u001b[0m                                 Traceback (most recent call last)",
      "\u001b[0;32m~/Library/Python/3.8/lib/python/site-packages/pandas/core/ops/array_ops.py\u001b[0m in \u001b[0;36m_na_arithmetic_op\u001b[0;34m(left, right, op, is_cmp)\u001b[0m\n\u001b[1;32m    141\u001b[0m     \u001b[0;32mtry\u001b[0m\u001b[0;34m:\u001b[0m\u001b[0;34m\u001b[0m\u001b[0;34m\u001b[0m\u001b[0m\n\u001b[0;32m--> 142\u001b[0;31m         \u001b[0mresult\u001b[0m \u001b[0;34m=\u001b[0m \u001b[0mexpressions\u001b[0m\u001b[0;34m.\u001b[0m\u001b[0mevaluate\u001b[0m\u001b[0;34m(\u001b[0m\u001b[0mop\u001b[0m\u001b[0;34m,\u001b[0m \u001b[0mleft\u001b[0m\u001b[0;34m,\u001b[0m \u001b[0mright\u001b[0m\u001b[0;34m)\u001b[0m\u001b[0;34m\u001b[0m\u001b[0;34m\u001b[0m\u001b[0m\n\u001b[0m\u001b[1;32m    143\u001b[0m     \u001b[0;32mexcept\u001b[0m \u001b[0mTypeError\u001b[0m\u001b[0;34m:\u001b[0m\u001b[0;34m\u001b[0m\u001b[0;34m\u001b[0m\u001b[0m\n",
      "\u001b[0;32m~/Library/Python/3.8/lib/python/site-packages/pandas/core/computation/expressions.py\u001b[0m in \u001b[0;36mevaluate\u001b[0;34m(op, a, b, use_numexpr)\u001b[0m\n\u001b[1;32m    234\u001b[0m             \u001b[0;31m# error: \"None\" not callable\u001b[0m\u001b[0;34m\u001b[0m\u001b[0;34m\u001b[0m\u001b[0;34m\u001b[0m\u001b[0m\n\u001b[0;32m--> 235\u001b[0;31m             \u001b[0;32mreturn\u001b[0m \u001b[0m_evaluate\u001b[0m\u001b[0;34m(\u001b[0m\u001b[0mop\u001b[0m\u001b[0;34m,\u001b[0m \u001b[0mop_str\u001b[0m\u001b[0;34m,\u001b[0m \u001b[0ma\u001b[0m\u001b[0;34m,\u001b[0m \u001b[0mb\u001b[0m\u001b[0;34m)\u001b[0m  \u001b[0;31m# type: ignore[misc]\u001b[0m\u001b[0;34m\u001b[0m\u001b[0;34m\u001b[0m\u001b[0m\n\u001b[0m\u001b[1;32m    236\u001b[0m     \u001b[0;32mreturn\u001b[0m \u001b[0m_evaluate_standard\u001b[0m\u001b[0;34m(\u001b[0m\u001b[0mop\u001b[0m\u001b[0;34m,\u001b[0m \u001b[0mop_str\u001b[0m\u001b[0;34m,\u001b[0m \u001b[0ma\u001b[0m\u001b[0;34m,\u001b[0m \u001b[0mb\u001b[0m\u001b[0;34m)\u001b[0m\u001b[0;34m\u001b[0m\u001b[0;34m\u001b[0m\u001b[0m\n",
      "\u001b[0;32m~/Library/Python/3.8/lib/python/site-packages/pandas/core/computation/expressions.py\u001b[0m in \u001b[0;36m_evaluate_standard\u001b[0;34m(op, op_str, a, b)\u001b[0m\n\u001b[1;32m     68\u001b[0m     \u001b[0;32mwith\u001b[0m \u001b[0mnp\u001b[0m\u001b[0;34m.\u001b[0m\u001b[0merrstate\u001b[0m\u001b[0;34m(\u001b[0m\u001b[0mall\u001b[0m\u001b[0;34m=\u001b[0m\u001b[0;34m\"ignore\"\u001b[0m\u001b[0;34m)\u001b[0m\u001b[0;34m:\u001b[0m\u001b[0;34m\u001b[0m\u001b[0;34m\u001b[0m\u001b[0m\n\u001b[0;32m---> 69\u001b[0;31m         \u001b[0;32mreturn\u001b[0m \u001b[0mop\u001b[0m\u001b[0;34m(\u001b[0m\u001b[0ma\u001b[0m\u001b[0;34m,\u001b[0m \u001b[0mb\u001b[0m\u001b[0;34m)\u001b[0m\u001b[0;34m\u001b[0m\u001b[0;34m\u001b[0m\u001b[0m\n\u001b[0m\u001b[1;32m     70\u001b[0m \u001b[0;34m\u001b[0m\u001b[0m\n",
      "\u001b[0;31mTypeError\u001b[0m: can only concatenate str (not \"int\") to str",
      "\nDuring handling of the above exception, another exception occurred:\n",
      "\u001b[0;31mTypeError\u001b[0m                                 Traceback (most recent call last)",
      "\u001b[0;32m<ipython-input-11-84e40da47f8f>\u001b[0m in \u001b[0;36m<module>\u001b[0;34m\u001b[0m\n\u001b[1;32m      1\u001b[0m \u001b[0;31m# Add a number to the countries series\u001b[0m\u001b[0;34m\u001b[0m\u001b[0;34m\u001b[0m\u001b[0;34m\u001b[0m\u001b[0m\n\u001b[0;32m----> 2\u001b[0;31m \u001b[0mcountries\u001b[0m \u001b[0;34m+\u001b[0m \u001b[0;36m12\u001b[0m\u001b[0;34m\u001b[0m\u001b[0;34m\u001b[0m\u001b[0m\n\u001b[0m",
      "\u001b[0;32m~/Library/Python/3.8/lib/python/site-packages/pandas/core/ops/common.py\u001b[0m in \u001b[0;36mnew_method\u001b[0;34m(self, other)\u001b[0m\n\u001b[1;32m     63\u001b[0m         \u001b[0mother\u001b[0m \u001b[0;34m=\u001b[0m \u001b[0mitem_from_zerodim\u001b[0m\u001b[0;34m(\u001b[0m\u001b[0mother\u001b[0m\u001b[0;34m)\u001b[0m\u001b[0;34m\u001b[0m\u001b[0;34m\u001b[0m\u001b[0m\n\u001b[1;32m     64\u001b[0m \u001b[0;34m\u001b[0m\u001b[0m\n\u001b[0;32m---> 65\u001b[0;31m         \u001b[0;32mreturn\u001b[0m \u001b[0mmethod\u001b[0m\u001b[0;34m(\u001b[0m\u001b[0mself\u001b[0m\u001b[0;34m,\u001b[0m \u001b[0mother\u001b[0m\u001b[0;34m)\u001b[0m\u001b[0;34m\u001b[0m\u001b[0;34m\u001b[0m\u001b[0m\n\u001b[0m\u001b[1;32m     66\u001b[0m \u001b[0;34m\u001b[0m\u001b[0m\n\u001b[1;32m     67\u001b[0m     \u001b[0;32mreturn\u001b[0m \u001b[0mnew_method\u001b[0m\u001b[0;34m\u001b[0m\u001b[0;34m\u001b[0m\u001b[0m\n",
      "\u001b[0;32m~/Library/Python/3.8/lib/python/site-packages/pandas/core/arraylike.py\u001b[0m in \u001b[0;36m__add__\u001b[0;34m(self, other)\u001b[0m\n\u001b[1;32m     87\u001b[0m     \u001b[0;34m@\u001b[0m\u001b[0munpack_zerodim_and_defer\u001b[0m\u001b[0;34m(\u001b[0m\u001b[0;34m\"__add__\"\u001b[0m\u001b[0;34m)\u001b[0m\u001b[0;34m\u001b[0m\u001b[0;34m\u001b[0m\u001b[0m\n\u001b[1;32m     88\u001b[0m     \u001b[0;32mdef\u001b[0m \u001b[0m__add__\u001b[0m\u001b[0;34m(\u001b[0m\u001b[0mself\u001b[0m\u001b[0;34m,\u001b[0m \u001b[0mother\u001b[0m\u001b[0;34m)\u001b[0m\u001b[0;34m:\u001b[0m\u001b[0;34m\u001b[0m\u001b[0;34m\u001b[0m\u001b[0m\n\u001b[0;32m---> 89\u001b[0;31m         \u001b[0;32mreturn\u001b[0m \u001b[0mself\u001b[0m\u001b[0;34m.\u001b[0m\u001b[0m_arith_method\u001b[0m\u001b[0;34m(\u001b[0m\u001b[0mother\u001b[0m\u001b[0;34m,\u001b[0m \u001b[0moperator\u001b[0m\u001b[0;34m.\u001b[0m\u001b[0madd\u001b[0m\u001b[0;34m)\u001b[0m\u001b[0;34m\u001b[0m\u001b[0;34m\u001b[0m\u001b[0m\n\u001b[0m\u001b[1;32m     90\u001b[0m \u001b[0;34m\u001b[0m\u001b[0m\n\u001b[1;32m     91\u001b[0m     \u001b[0;34m@\u001b[0m\u001b[0munpack_zerodim_and_defer\u001b[0m\u001b[0;34m(\u001b[0m\u001b[0;34m\"__radd__\"\u001b[0m\u001b[0;34m)\u001b[0m\u001b[0;34m\u001b[0m\u001b[0;34m\u001b[0m\u001b[0m\n",
      "\u001b[0;32m~/Library/Python/3.8/lib/python/site-packages/pandas/core/series.py\u001b[0m in \u001b[0;36m_arith_method\u001b[0;34m(self, other, op)\u001b[0m\n\u001b[1;32m   4957\u001b[0m         \u001b[0mlvalues\u001b[0m \u001b[0;34m=\u001b[0m \u001b[0mextract_array\u001b[0m\u001b[0;34m(\u001b[0m\u001b[0mself\u001b[0m\u001b[0;34m,\u001b[0m \u001b[0mextract_numpy\u001b[0m\u001b[0;34m=\u001b[0m\u001b[0;32mTrue\u001b[0m\u001b[0;34m)\u001b[0m\u001b[0;34m\u001b[0m\u001b[0;34m\u001b[0m\u001b[0m\n\u001b[1;32m   4958\u001b[0m         \u001b[0mrvalues\u001b[0m \u001b[0;34m=\u001b[0m \u001b[0mextract_array\u001b[0m\u001b[0;34m(\u001b[0m\u001b[0mother\u001b[0m\u001b[0;34m,\u001b[0m \u001b[0mextract_numpy\u001b[0m\u001b[0;34m=\u001b[0m\u001b[0;32mTrue\u001b[0m\u001b[0;34m)\u001b[0m\u001b[0;34m\u001b[0m\u001b[0;34m\u001b[0m\u001b[0m\n\u001b[0;32m-> 4959\u001b[0;31m         \u001b[0mresult\u001b[0m \u001b[0;34m=\u001b[0m \u001b[0mops\u001b[0m\u001b[0;34m.\u001b[0m\u001b[0marithmetic_op\u001b[0m\u001b[0;34m(\u001b[0m\u001b[0mlvalues\u001b[0m\u001b[0;34m,\u001b[0m \u001b[0mrvalues\u001b[0m\u001b[0;34m,\u001b[0m \u001b[0mop\u001b[0m\u001b[0;34m)\u001b[0m\u001b[0;34m\u001b[0m\u001b[0;34m\u001b[0m\u001b[0m\n\u001b[0m\u001b[1;32m   4960\u001b[0m \u001b[0;34m\u001b[0m\u001b[0m\n\u001b[1;32m   4961\u001b[0m         \u001b[0;32mreturn\u001b[0m \u001b[0mself\u001b[0m\u001b[0;34m.\u001b[0m\u001b[0m_construct_result\u001b[0m\u001b[0;34m(\u001b[0m\u001b[0mresult\u001b[0m\u001b[0;34m,\u001b[0m \u001b[0mname\u001b[0m\u001b[0;34m=\u001b[0m\u001b[0mres_name\u001b[0m\u001b[0;34m)\u001b[0m\u001b[0;34m\u001b[0m\u001b[0;34m\u001b[0m\u001b[0m\n",
      "\u001b[0;32m~/Library/Python/3.8/lib/python/site-packages/pandas/core/ops/array_ops.py\u001b[0m in \u001b[0;36marithmetic_op\u001b[0;34m(left, right, op)\u001b[0m\n\u001b[1;32m    187\u001b[0m     \u001b[0;32melse\u001b[0m\u001b[0;34m:\u001b[0m\u001b[0;34m\u001b[0m\u001b[0;34m\u001b[0m\u001b[0m\n\u001b[1;32m    188\u001b[0m         \u001b[0;32mwith\u001b[0m \u001b[0mnp\u001b[0m\u001b[0;34m.\u001b[0m\u001b[0merrstate\u001b[0m\u001b[0;34m(\u001b[0m\u001b[0mall\u001b[0m\u001b[0;34m=\u001b[0m\u001b[0;34m\"ignore\"\u001b[0m\u001b[0;34m)\u001b[0m\u001b[0;34m:\u001b[0m\u001b[0;34m\u001b[0m\u001b[0;34m\u001b[0m\u001b[0m\n\u001b[0;32m--> 189\u001b[0;31m             \u001b[0mres_values\u001b[0m \u001b[0;34m=\u001b[0m \u001b[0m_na_arithmetic_op\u001b[0m\u001b[0;34m(\u001b[0m\u001b[0mlvalues\u001b[0m\u001b[0;34m,\u001b[0m \u001b[0mrvalues\u001b[0m\u001b[0;34m,\u001b[0m \u001b[0mop\u001b[0m\u001b[0;34m)\u001b[0m\u001b[0;34m\u001b[0m\u001b[0;34m\u001b[0m\u001b[0m\n\u001b[0m\u001b[1;32m    190\u001b[0m \u001b[0;34m\u001b[0m\u001b[0m\n\u001b[1;32m    191\u001b[0m     \u001b[0;32mreturn\u001b[0m \u001b[0mres_values\u001b[0m\u001b[0;34m\u001b[0m\u001b[0;34m\u001b[0m\u001b[0m\n",
      "\u001b[0;32m~/Library/Python/3.8/lib/python/site-packages/pandas/core/ops/array_ops.py\u001b[0m in \u001b[0;36m_na_arithmetic_op\u001b[0;34m(left, right, op, is_cmp)\u001b[0m\n\u001b[1;32m    147\u001b[0m             \u001b[0;31m#  will handle complex numbers incorrectly, see GH#32047\u001b[0m\u001b[0;34m\u001b[0m\u001b[0;34m\u001b[0m\u001b[0;34m\u001b[0m\u001b[0m\n\u001b[1;32m    148\u001b[0m             \u001b[0;32mraise\u001b[0m\u001b[0;34m\u001b[0m\u001b[0;34m\u001b[0m\u001b[0m\n\u001b[0;32m--> 149\u001b[0;31m         \u001b[0mresult\u001b[0m \u001b[0;34m=\u001b[0m \u001b[0m_masked_arith_op\u001b[0m\u001b[0;34m(\u001b[0m\u001b[0mleft\u001b[0m\u001b[0;34m,\u001b[0m \u001b[0mright\u001b[0m\u001b[0;34m,\u001b[0m \u001b[0mop\u001b[0m\u001b[0;34m)\u001b[0m\u001b[0;34m\u001b[0m\u001b[0;34m\u001b[0m\u001b[0m\n\u001b[0m\u001b[1;32m    150\u001b[0m \u001b[0;34m\u001b[0m\u001b[0m\n\u001b[1;32m    151\u001b[0m     \u001b[0;32mif\u001b[0m \u001b[0mis_cmp\u001b[0m \u001b[0;32mand\u001b[0m \u001b[0;34m(\u001b[0m\u001b[0mis_scalar\u001b[0m\u001b[0;34m(\u001b[0m\u001b[0mresult\u001b[0m\u001b[0;34m)\u001b[0m \u001b[0;32mor\u001b[0m \u001b[0mresult\u001b[0m \u001b[0;32mis\u001b[0m \u001b[0mNotImplemented\u001b[0m\u001b[0;34m)\u001b[0m\u001b[0;34m:\u001b[0m\u001b[0;34m\u001b[0m\u001b[0;34m\u001b[0m\u001b[0m\n",
      "\u001b[0;32m~/Library/Python/3.8/lib/python/site-packages/pandas/core/ops/array_ops.py\u001b[0m in \u001b[0;36m_masked_arith_op\u001b[0;34m(x, y, op)\u001b[0m\n\u001b[1;32m    109\u001b[0m         \u001b[0;32mif\u001b[0m \u001b[0mmask\u001b[0m\u001b[0;34m.\u001b[0m\u001b[0many\u001b[0m\u001b[0;34m(\u001b[0m\u001b[0;34m)\u001b[0m\u001b[0;34m:\u001b[0m\u001b[0;34m\u001b[0m\u001b[0;34m\u001b[0m\u001b[0m\n\u001b[1;32m    110\u001b[0m             \u001b[0;32mwith\u001b[0m \u001b[0mnp\u001b[0m\u001b[0;34m.\u001b[0m\u001b[0merrstate\u001b[0m\u001b[0;34m(\u001b[0m\u001b[0mall\u001b[0m\u001b[0;34m=\u001b[0m\u001b[0;34m\"ignore\"\u001b[0m\u001b[0;34m)\u001b[0m\u001b[0;34m:\u001b[0m\u001b[0;34m\u001b[0m\u001b[0;34m\u001b[0m\u001b[0m\n\u001b[0;32m--> 111\u001b[0;31m                 \u001b[0mresult\u001b[0m\u001b[0;34m[\u001b[0m\u001b[0mmask\u001b[0m\u001b[0;34m]\u001b[0m \u001b[0;34m=\u001b[0m \u001b[0mop\u001b[0m\u001b[0;34m(\u001b[0m\u001b[0mxrav\u001b[0m\u001b[0;34m[\u001b[0m\u001b[0mmask\u001b[0m\u001b[0;34m]\u001b[0m\u001b[0;34m,\u001b[0m \u001b[0my\u001b[0m\u001b[0;34m)\u001b[0m\u001b[0;34m\u001b[0m\u001b[0;34m\u001b[0m\u001b[0m\n\u001b[0m\u001b[1;32m    112\u001b[0m \u001b[0;34m\u001b[0m\u001b[0m\n\u001b[1;32m    113\u001b[0m     \u001b[0mresult\u001b[0m\u001b[0;34m,\u001b[0m \u001b[0m_\u001b[0m \u001b[0;34m=\u001b[0m \u001b[0mmaybe_upcast_putmask\u001b[0m\u001b[0;34m(\u001b[0m\u001b[0mresult\u001b[0m\u001b[0;34m,\u001b[0m \u001b[0;34m~\u001b[0m\u001b[0mmask\u001b[0m\u001b[0;34m,\u001b[0m \u001b[0mnp\u001b[0m\u001b[0;34m.\u001b[0m\u001b[0mnan\u001b[0m\u001b[0;34m)\u001b[0m\u001b[0;34m\u001b[0m\u001b[0;34m\u001b[0m\u001b[0m\n",
      "\u001b[0;31mTypeError\u001b[0m: can only concatenate str (not \"int\") to str"
     ]
    }
   ],
   "source": [
    "# Add a number to the countries series\n",
    "countries + 12"
   ]
  },
  {
   "cell_type": "code",
   "execution_count": 12,
   "metadata": {},
   "outputs": [
    {
     "output_type": "stream",
     "name": "stdout",
     "text": [
      "0      6.0\n1      7.8\n2      7.6\n3      5.0\n4     13.0\n5      4.0\n6      4.1\n7      6.2\n8      6.8\n9     23.6\n10    19.6\n11     8.8\n12    10.1\n13    13.1\n14     5.1\n15     8.4\n16     3.0\n17    11.7\n18     7.9\n19     6.3\n20     9.6\n21     4.7\n22     6.0\n23     4.7\n24     6.2\n25    11.2\n26     5.9\n27     7.0\n28     8.0\n29     9.7\n30    10.9\n31     4.8\nName: unemp_rate, dtype: float64\n"
     ]
    }
   ],
   "source": [
    "# Select the unemployment rates as a series\n",
    "unemployment_rates = unemployment_df['unemp_rate']\n",
    "print(unemployment_rates)"
   ]
  },
  {
   "cell_type": "code",
   "execution_count": 13,
   "metadata": {},
   "outputs": [],
   "source": [
    "# Sort the dataframe by rate\n",
    "unemployment_sorted_asc = unemployment_df.sort_values('unemp_rate', ascending=True)"
   ]
  },
  {
   "cell_type": "code",
   "execution_count": 14,
   "metadata": {},
   "outputs": [
    {
     "output_type": "execute_result",
     "data": {
      "text/plain": [
       "    country  unemp_rate\n",
       "16  Iceland         3.0\n",
       "5   Czechia         4.0\n",
       "6   Germany         4.1\n",
       "23   Norway         4.7\n",
       "21    Malta         4.7"
      ],
      "text/html": "<div>\n<style scoped>\n    .dataframe tbody tr th:only-of-type {\n        vertical-align: middle;\n    }\n\n    .dataframe tbody tr th {\n        vertical-align: top;\n    }\n\n    .dataframe thead th {\n        text-align: right;\n    }\n</style>\n<table border=\"1\" class=\"dataframe\">\n  <thead>\n    <tr style=\"text-align: right;\">\n      <th></th>\n      <th>country</th>\n      <th>unemp_rate</th>\n    </tr>\n  </thead>\n  <tbody>\n    <tr>\n      <th>16</th>\n      <td>Iceland</td>\n      <td>3.0</td>\n    </tr>\n    <tr>\n      <th>5</th>\n      <td>Czechia</td>\n      <td>4.0</td>\n    </tr>\n    <tr>\n      <th>6</th>\n      <td>Germany</td>\n      <td>4.1</td>\n    </tr>\n    <tr>\n      <th>23</th>\n      <td>Norway</td>\n      <td>4.7</td>\n    </tr>\n    <tr>\n      <th>21</th>\n      <td>Malta</td>\n      <td>4.7</td>\n    </tr>\n  </tbody>\n</table>\n</div>"
     },
     "metadata": {},
     "execution_count": 14
    }
   ],
   "source": [
    "# Use .head() to get the top five values\n",
    "unemployment_sorted_asc.head()"
   ]
  },
  {
   "cell_type": "code",
   "execution_count": 15,
   "metadata": {},
   "outputs": [
    {
     "output_type": "execute_result",
     "data": {
      "text/plain": [
       "    country  unemp_rate\n",
       "17    Italy        11.7\n",
       "4    Cyprus        13.0\n",
       "13  Croatia        13.1\n",
       "10    Spain        19.6\n",
       "9    Greece        23.6"
      ],
      "text/html": "<div>\n<style scoped>\n    .dataframe tbody tr th:only-of-type {\n        vertical-align: middle;\n    }\n\n    .dataframe tbody tr th {\n        vertical-align: top;\n    }\n\n    .dataframe thead th {\n        text-align: right;\n    }\n</style>\n<table border=\"1\" class=\"dataframe\">\n  <thead>\n    <tr style=\"text-align: right;\">\n      <th></th>\n      <th>country</th>\n      <th>unemp_rate</th>\n    </tr>\n  </thead>\n  <tbody>\n    <tr>\n      <th>17</th>\n      <td>Italy</td>\n      <td>11.7</td>\n    </tr>\n    <tr>\n      <th>4</th>\n      <td>Cyprus</td>\n      <td>13.0</td>\n    </tr>\n    <tr>\n      <th>13</th>\n      <td>Croatia</td>\n      <td>13.1</td>\n    </tr>\n    <tr>\n      <th>10</th>\n      <td>Spain</td>\n      <td>19.6</td>\n    </tr>\n    <tr>\n      <th>9</th>\n      <td>Greece</td>\n      <td>23.6</td>\n    </tr>\n  </tbody>\n</table>\n</div>"
     },
     "metadata": {},
     "execution_count": 15
    }
   ],
   "source": [
    "# Use .tail() to get the  five values\n",
    "unemployment_sorted_asc.tail()"
   ]
  },
  {
   "source": [
    "### Exercise - What is the average unemployment of the seven countries with the highest unemployment in europe?"
   ],
   "cell_type": "markdown",
   "metadata": {}
  },
  {
   "cell_type": "code",
   "execution_count": 16,
   "metadata": {},
   "outputs": [],
   "source": [
    "# Sort the values of the unemployment_df - descending or ascending?\n",
    "unemployment_sorted_desc = unemployment_df.sort_values('unemp_rate', ascending=False)\n",
    "# Get the first seven rows in the returned series\n",
    "highest_unemployment = unemployment_sorted_desc.head(7)\n",
    "# Get the average of those rows\n",
    "highest_unemployment_avg = highest_unemployment['unemp_rate'].mean()"
   ]
  },
  {
   "source": [
    "### Extra - explore these methods:\n",
    ".min(), .max(), .sum(), .unique(), .nunique(), .count(), .duplicated()"
   ],
   "cell_type": "markdown",
   "metadata": {}
  },
  {
   "cell_type": "code",
   "execution_count": 17,
   "metadata": {},
   "outputs": [
    {
     "output_type": "execute_result",
     "data": {
      "text/plain": [
       "        country  unemp_rate\n",
       "0       Austria         6.0\n",
       "7       Denmark         6.2\n",
       "21        Malta         4.7\n",
       "22  Netherlands         6.0\n",
       "23       Norway         4.7\n",
       "24       Poland         6.2"
      ],
      "text/html": "<div>\n<style scoped>\n    .dataframe tbody tr th:only-of-type {\n        vertical-align: middle;\n    }\n\n    .dataframe tbody tr th {\n        vertical-align: top;\n    }\n\n    .dataframe thead th {\n        text-align: right;\n    }\n</style>\n<table border=\"1\" class=\"dataframe\">\n  <thead>\n    <tr style=\"text-align: right;\">\n      <th></th>\n      <th>country</th>\n      <th>unemp_rate</th>\n    </tr>\n  </thead>\n  <tbody>\n    <tr>\n      <th>0</th>\n      <td>Austria</td>\n      <td>6.0</td>\n    </tr>\n    <tr>\n      <th>7</th>\n      <td>Denmark</td>\n      <td>6.2</td>\n    </tr>\n    <tr>\n      <th>21</th>\n      <td>Malta</td>\n      <td>4.7</td>\n    </tr>\n    <tr>\n      <th>22</th>\n      <td>Netherlands</td>\n      <td>6.0</td>\n    </tr>\n    <tr>\n      <th>23</th>\n      <td>Norway</td>\n      <td>4.7</td>\n    </tr>\n    <tr>\n      <th>24</th>\n      <td>Poland</td>\n      <td>6.2</td>\n    </tr>\n  </tbody>\n</table>\n</div>"
     },
     "metadata": {},
     "execution_count": 17
    }
   ],
   "source": [
    "unemployment_rates.min()\n",
    "unemployment_rates.max()\n",
    "unemployment_rates.sum()\n",
    "unemployment_rates.unique()\n",
    "unemployment_rates.nunique()\n",
    "unemployment_rates.count()\n",
    "dups = unemployment_rates.duplicated()\n",
    "dups_no_keep = unemployment_rates.duplicated(keep=False)\n",
    "unemployment_df[dups_no_keep]"
   ]
  },
  {
   "source": [
    "## 1.3 Merging DataFrames\n",
    "Data can come from a variety of different sources and it can be helpful to put them all in one place."
   ],
   "cell_type": "markdown",
   "metadata": {}
  },
  {
   "cell_type": "code",
   "execution_count": 18,
   "metadata": {},
   "outputs": [],
   "source": [
    "gdp_filepath = './data/gdp_2016.csv'\n",
    "# Read in data using this filepath\n",
    "gdp_df = pd.read_csv(gdp_filepath)"
   ]
  },
  {
   "cell_type": "code",
   "execution_count": 19,
   "metadata": {},
   "outputs": [
    {
     "output_type": "stream",
     "name": "stdout",
     "text": [
      "<class 'pandas.core.frame.DataFrame'>\nRangeIndex: 32 entries, 0 to 31\nData columns (total 2 columns):\n #   Column   Non-Null Count  Dtype  \n---  ------   --------------  -----  \n 0   country  32 non-null     object \n 1   gdp      32 non-null     float64\ndtypes: float64(1), object(1)\nmemory usage: 640.0+ bytes\n"
     ]
    },
    {
     "output_type": "execute_result",
     "data": {
      "text/plain": [
       "      country       gdp\n",
       "0      Cyprus   18490.2\n",
       "1      Latvia   25037.7\n",
       "2   Lithuania   38849.4\n",
       "3  Luxembourg   53303.0\n",
       "4     Hungary  113903.8"
      ],
      "text/html": "<div>\n<style scoped>\n    .dataframe tbody tr th:only-of-type {\n        vertical-align: middle;\n    }\n\n    .dataframe tbody tr th {\n        vertical-align: top;\n    }\n\n    .dataframe thead th {\n        text-align: right;\n    }\n</style>\n<table border=\"1\" class=\"dataframe\">\n  <thead>\n    <tr style=\"text-align: right;\">\n      <th></th>\n      <th>country</th>\n      <th>gdp</th>\n    </tr>\n  </thead>\n  <tbody>\n    <tr>\n      <th>0</th>\n      <td>Cyprus</td>\n      <td>18490.2</td>\n    </tr>\n    <tr>\n      <th>1</th>\n      <td>Latvia</td>\n      <td>25037.7</td>\n    </tr>\n    <tr>\n      <th>2</th>\n      <td>Lithuania</td>\n      <td>38849.4</td>\n    </tr>\n    <tr>\n      <th>3</th>\n      <td>Luxembourg</td>\n      <td>53303.0</td>\n    </tr>\n    <tr>\n      <th>4</th>\n      <td>Hungary</td>\n      <td>113903.8</td>\n    </tr>\n  </tbody>\n</table>\n</div>"
     },
     "metadata": {},
     "execution_count": 19
    }
   ],
   "source": [
    "# Inspect the GDP data\n",
    "gdp_df.info()\n",
    "gdp_df.describe()\n",
    "gdp_df.head()"
   ]
  },
  {
   "source": [
    "Let's create a new dataframe by merging two existing dataframes. This is the one we'll use for the rest of section 2."
   ],
   "cell_type": "markdown",
   "metadata": {}
  },
  {
   "cell_type": "code",
   "execution_count": 20,
   "metadata": {},
   "outputs": [
    {
     "output_type": "execute_result",
     "data": {
      "text/plain": [
       "       country  unemp_rate       gdp\n",
       "0      Austria         6.0  356237.6\n",
       "1      Belgium         7.8  424660.3\n",
       "2     Bulgaria         7.6   48128.6\n",
       "3  Switzerland         5.0  605753.7\n",
       "4       Cyprus        13.0   18490.2"
      ],
      "text/html": "<div>\n<style scoped>\n    .dataframe tbody tr th:only-of-type {\n        vertical-align: middle;\n    }\n\n    .dataframe tbody tr th {\n        vertical-align: top;\n    }\n\n    .dataframe thead th {\n        text-align: right;\n    }\n</style>\n<table border=\"1\" class=\"dataframe\">\n  <thead>\n    <tr style=\"text-align: right;\">\n      <th></th>\n      <th>country</th>\n      <th>unemp_rate</th>\n      <th>gdp</th>\n    </tr>\n  </thead>\n  <tbody>\n    <tr>\n      <th>0</th>\n      <td>Austria</td>\n      <td>6.0</td>\n      <td>356237.6</td>\n    </tr>\n    <tr>\n      <th>1</th>\n      <td>Belgium</td>\n      <td>7.8</td>\n      <td>424660.3</td>\n    </tr>\n    <tr>\n      <th>2</th>\n      <td>Bulgaria</td>\n      <td>7.6</td>\n      <td>48128.6</td>\n    </tr>\n    <tr>\n      <th>3</th>\n      <td>Switzerland</td>\n      <td>5.0</td>\n      <td>605753.7</td>\n    </tr>\n    <tr>\n      <th>4</th>\n      <td>Cyprus</td>\n      <td>13.0</td>\n      <td>18490.2</td>\n    </tr>\n  </tbody>\n</table>\n</div>"
     },
     "metadata": {},
     "execution_count": 20
    }
   ],
   "source": [
    "# Merge unemployment df with gdp df\n",
    "# https://pandas.pydata.org/pandas-docs/stable/reference/api/pandas.DataFrame.merge.html\n",
    "eur_data = pd.merge(unemployment_df, gdp_df)\n",
    "eur_data.head()"
   ]
  },
  {
   "source": [
    "What other data can we include? Are there other file types that we can work with?"
   ],
   "cell_type": "markdown",
   "metadata": {}
  },
  {
   "cell_type": "code",
   "execution_count": 21,
   "metadata": {},
   "outputs": [
    {
     "output_type": "execute_result",
     "data": {
      "text/plain": [
       "       country  avg_hrs_worked\n",
       "0      Austria            36.5\n",
       "1      Belgium            37.0\n",
       "2     Bulgaria            40.8\n",
       "3  Switzerland            34.7\n",
       "4       Cyprus            39.2"
      ],
      "text/html": "<div>\n<style scoped>\n    .dataframe tbody tr th:only-of-type {\n        vertical-align: middle;\n    }\n\n    .dataframe tbody tr th {\n        vertical-align: top;\n    }\n\n    .dataframe thead th {\n        text-align: right;\n    }\n</style>\n<table border=\"1\" class=\"dataframe\">\n  <thead>\n    <tr style=\"text-align: right;\">\n      <th></th>\n      <th>country</th>\n      <th>avg_hrs_worked</th>\n    </tr>\n  </thead>\n  <tbody>\n    <tr>\n      <th>0</th>\n      <td>Austria</td>\n      <td>36.5</td>\n    </tr>\n    <tr>\n      <th>1</th>\n      <td>Belgium</td>\n      <td>37.0</td>\n    </tr>\n    <tr>\n      <th>2</th>\n      <td>Bulgaria</td>\n      <td>40.8</td>\n    </tr>\n    <tr>\n      <th>3</th>\n      <td>Switzerland</td>\n      <td>34.7</td>\n    </tr>\n    <tr>\n      <th>4</th>\n      <td>Cyprus</td>\n      <td>39.2</td>\n    </tr>\n  </tbody>\n</table>\n</div>"
     },
     "metadata": {},
     "execution_count": 21
    }
   ],
   "source": [
    "# Read in misc data from excel\n",
    "misc_filepath = './data/misc_data.xlsx'\n",
    "misc_data = pd.read_excel(misc_filepath)\n",
    "misc_data.head()"
   ]
  },
  {
   "cell_type": "code",
   "execution_count": 22,
   "metadata": {},
   "outputs": [
    {
     "output_type": "execute_result",
     "data": {
      "text/plain": [
       "    country  median_income\n",
       "0   Belgium          21335\n",
       "1  Bulgaria           6742\n",
       "2   Czechia          12478\n",
       "3   Denmark          21355\n",
       "4   Germany          21152"
      ],
      "text/html": "<div>\n<style scoped>\n    .dataframe tbody tr th:only-of-type {\n        vertical-align: middle;\n    }\n\n    .dataframe tbody tr th {\n        vertical-align: top;\n    }\n\n    .dataframe thead th {\n        text-align: right;\n    }\n</style>\n<table border=\"1\" class=\"dataframe\">\n  <thead>\n    <tr style=\"text-align: right;\">\n      <th></th>\n      <th>country</th>\n      <th>median_income</th>\n    </tr>\n  </thead>\n  <tbody>\n    <tr>\n      <th>0</th>\n      <td>Belgium</td>\n      <td>21335</td>\n    </tr>\n    <tr>\n      <th>1</th>\n      <td>Bulgaria</td>\n      <td>6742</td>\n    </tr>\n    <tr>\n      <th>2</th>\n      <td>Czechia</td>\n      <td>12478</td>\n    </tr>\n    <tr>\n      <th>3</th>\n      <td>Denmark</td>\n      <td>21355</td>\n    </tr>\n    <tr>\n      <th>4</th>\n      <td>Germany</td>\n      <td>21152</td>\n    </tr>\n  </tbody>\n</table>\n</div>"
     },
     "metadata": {},
     "execution_count": 22
    }
   ],
   "source": [
    "# .read_excel() gets the first sheet in the excel file. Instead, get the \"Income\" sheet\n",
    "income_df = pd.read_excel('./data/misc_data.xlsx', \"Income\")\n",
    "income_df.head()"
   ]
  },
  {
   "cell_type": "code",
   "execution_count": 23,
   "metadata": {},
   "outputs": [
    {
     "output_type": "execute_result",
     "data": {
      "text/plain": [
       "                                          Unnamed: 0 Unnamed: 1  \\\n",
       "0  This is an overview of the population data for...        NaN   \n",
       "1                                                NaN        NaN   \n",
       "2                                            country  total_pop   \n",
       "3                                            Belgium   11000638   \n",
       "4                                           Bulgaria    7364570   \n",
       "\n",
       "         Unnamed: 2  \n",
       "0               NaN  \n",
       "1               NaN  \n",
       "2  prct_yng_adt_pop  \n",
       "3         18.485146  \n",
       "4         18.432577  "
      ],
      "text/html": "<div>\n<style scoped>\n    .dataframe tbody tr th:only-of-type {\n        vertical-align: middle;\n    }\n\n    .dataframe tbody tr th {\n        vertical-align: top;\n    }\n\n    .dataframe thead th {\n        text-align: right;\n    }\n</style>\n<table border=\"1\" class=\"dataframe\">\n  <thead>\n    <tr style=\"text-align: right;\">\n      <th></th>\n      <th>Unnamed: 0</th>\n      <th>Unnamed: 1</th>\n      <th>Unnamed: 2</th>\n    </tr>\n  </thead>\n  <tbody>\n    <tr>\n      <th>0</th>\n      <td>This is an overview of the population data for...</td>\n      <td>NaN</td>\n      <td>NaN</td>\n    </tr>\n    <tr>\n      <th>1</th>\n      <td>NaN</td>\n      <td>NaN</td>\n      <td>NaN</td>\n    </tr>\n    <tr>\n      <th>2</th>\n      <td>country</td>\n      <td>total_pop</td>\n      <td>prct_yng_adt_pop</td>\n    </tr>\n    <tr>\n      <th>3</th>\n      <td>Belgium</td>\n      <td>11000638</td>\n      <td>18.485146</td>\n    </tr>\n    <tr>\n      <th>4</th>\n      <td>Bulgaria</td>\n      <td>7364570</td>\n      <td>18.432577</td>\n    </tr>\n  </tbody>\n</table>\n</div>"
     },
     "metadata": {},
     "execution_count": 23
    }
   ],
   "source": [
    "pop_df = pd.read_excel('./data/misc_data.xlsx', 'Population')\n",
    "pop_df.head()"
   ]
  },
  {
   "cell_type": "code",
   "execution_count": 24,
   "metadata": {},
   "outputs": [
    {
     "output_type": "execute_result",
     "data": {
      "text/plain": [
       "    country  total_pop  prct_yng_adt_pop\n",
       "0   Belgium   11000638         18.485146\n",
       "1  Bulgaria    7364570         18.432577\n",
       "2   Estonia    1294455         19.688363\n",
       "3   Ireland    4574888         20.601335\n",
       "4    Greece   10816286         17.604416"
      ],
      "text/html": "<div>\n<style scoped>\n    .dataframe tbody tr th:only-of-type {\n        vertical-align: middle;\n    }\n\n    .dataframe tbody tr th {\n        vertical-align: top;\n    }\n\n    .dataframe thead th {\n        text-align: right;\n    }\n</style>\n<table border=\"1\" class=\"dataframe\">\n  <thead>\n    <tr style=\"text-align: right;\">\n      <th></th>\n      <th>country</th>\n      <th>total_pop</th>\n      <th>prct_yng_adt_pop</th>\n    </tr>\n  </thead>\n  <tbody>\n    <tr>\n      <th>0</th>\n      <td>Belgium</td>\n      <td>11000638</td>\n      <td>18.485146</td>\n    </tr>\n    <tr>\n      <th>1</th>\n      <td>Bulgaria</td>\n      <td>7364570</td>\n      <td>18.432577</td>\n    </tr>\n    <tr>\n      <th>2</th>\n      <td>Estonia</td>\n      <td>1294455</td>\n      <td>19.688363</td>\n    </tr>\n    <tr>\n      <th>3</th>\n      <td>Ireland</td>\n      <td>4574888</td>\n      <td>20.601335</td>\n    </tr>\n    <tr>\n      <th>4</th>\n      <td>Greece</td>\n      <td>10816286</td>\n      <td>17.604416</td>\n    </tr>\n  </tbody>\n</table>\n</div>"
     },
     "metadata": {},
     "execution_count": 24
    }
   ],
   "source": [
    "pop_df = pd.read_excel('./data/misc_data.xlsx', 'Population', skiprows=3)\n",
    "pop_df.head()"
   ]
  },
  {
   "cell_type": "code",
   "execution_count": 25,
   "metadata": {},
   "outputs": [
    {
     "output_type": "execute_result",
     "data": {
      "text/plain": [
       "['country', 'total_pop', 'prct_yng_adt_pop']"
      ]
     },
     "metadata": {},
     "execution_count": 25
    }
   ],
   "source": [
    "# Do we need all of these columns?\n",
    "pop_df_col_names = pop_df.columns\n",
    "list(pop_df_col_names)"
   ]
  },
  {
   "cell_type": "code",
   "execution_count": 26,
   "metadata": {},
   "outputs": [],
   "source": [
    "# Select total population column\n",
    "total_pop = pop_df['total_pop']"
   ]
  },
  {
   "cell_type": "code",
   "execution_count": 27,
   "metadata": {},
   "outputs": [
    {
     "output_type": "error",
     "ename": "MergeError",
     "evalue": "No common columns to perform merge on. Merge options: left_on=None, right_on=None, left_index=False, right_index=False",
     "traceback": [
      "\u001b[0;31m---------------------------------------------------------------------------\u001b[0m",
      "\u001b[0;31mMergeError\u001b[0m                                Traceback (most recent call last)",
      "\u001b[0;32m<ipython-input-27-1871d17e024e>\u001b[0m in \u001b[0;36m<module>\u001b[0;34m\u001b[0m\n\u001b[0;32m----> 1\u001b[0;31m \u001b[0meur_data\u001b[0m \u001b[0;34m=\u001b[0m \u001b[0mpd\u001b[0m\u001b[0;34m.\u001b[0m\u001b[0mmerge\u001b[0m\u001b[0;34m(\u001b[0m\u001b[0meur_data\u001b[0m\u001b[0;34m,\u001b[0m \u001b[0mtotal_pop\u001b[0m\u001b[0;34m)\u001b[0m\u001b[0;34m\u001b[0m\u001b[0;34m\u001b[0m\u001b[0m\n\u001b[0m",
      "\u001b[0;32m~/Library/Python/3.8/lib/python/site-packages/pandas/core/reshape/merge.py\u001b[0m in \u001b[0;36mmerge\u001b[0;34m(left, right, how, on, left_on, right_on, left_index, right_index, sort, suffixes, copy, indicator, validate)\u001b[0m\n\u001b[1;32m     72\u001b[0m     \u001b[0mvalidate\u001b[0m\u001b[0;34m=\u001b[0m\u001b[0;32mNone\u001b[0m\u001b[0;34m,\u001b[0m\u001b[0;34m\u001b[0m\u001b[0;34m\u001b[0m\u001b[0m\n\u001b[1;32m     73\u001b[0m ) -> \"DataFrame\":\n\u001b[0;32m---> 74\u001b[0;31m     op = _MergeOperation(\n\u001b[0m\u001b[1;32m     75\u001b[0m         \u001b[0mleft\u001b[0m\u001b[0;34m,\u001b[0m\u001b[0;34m\u001b[0m\u001b[0;34m\u001b[0m\u001b[0m\n\u001b[1;32m     76\u001b[0m         \u001b[0mright\u001b[0m\u001b[0;34m,\u001b[0m\u001b[0;34m\u001b[0m\u001b[0;34m\u001b[0m\u001b[0m\n",
      "\u001b[0;32m~/Library/Python/3.8/lib/python/site-packages/pandas/core/reshape/merge.py\u001b[0m in \u001b[0;36m__init__\u001b[0;34m(self, left, right, how, on, left_on, right_on, axis, left_index, right_index, sort, suffixes, copy, indicator, validate)\u001b[0m\n\u001b[1;32m    648\u001b[0m             \u001b[0mwarnings\u001b[0m\u001b[0;34m.\u001b[0m\u001b[0mwarn\u001b[0m\u001b[0;34m(\u001b[0m\u001b[0mmsg\u001b[0m\u001b[0;34m,\u001b[0m \u001b[0mUserWarning\u001b[0m\u001b[0;34m)\u001b[0m\u001b[0;34m\u001b[0m\u001b[0;34m\u001b[0m\u001b[0m\n\u001b[1;32m    649\u001b[0m \u001b[0;34m\u001b[0m\u001b[0m\n\u001b[0;32m--> 650\u001b[0;31m         \u001b[0mself\u001b[0m\u001b[0;34m.\u001b[0m\u001b[0m_validate_specification\u001b[0m\u001b[0;34m(\u001b[0m\u001b[0;34m)\u001b[0m\u001b[0;34m\u001b[0m\u001b[0;34m\u001b[0m\u001b[0m\n\u001b[0m\u001b[1;32m    651\u001b[0m \u001b[0;34m\u001b[0m\u001b[0m\n\u001b[1;32m    652\u001b[0m         \u001b[0mcross_col\u001b[0m \u001b[0;34m=\u001b[0m \u001b[0;32mNone\u001b[0m\u001b[0;34m\u001b[0m\u001b[0;34m\u001b[0m\u001b[0m\n",
      "\u001b[0;32m~/Library/Python/3.8/lib/python/site-packages/pandas/core/reshape/merge.py\u001b[0m in \u001b[0;36m_validate_specification\u001b[0;34m(self)\u001b[0m\n\u001b[1;32m   1281\u001b[0m                 \u001b[0mcommon_cols\u001b[0m \u001b[0;34m=\u001b[0m \u001b[0mleft_cols\u001b[0m\u001b[0;34m.\u001b[0m\u001b[0mintersection\u001b[0m\u001b[0;34m(\u001b[0m\u001b[0mright_cols\u001b[0m\u001b[0;34m)\u001b[0m\u001b[0;34m\u001b[0m\u001b[0;34m\u001b[0m\u001b[0m\n\u001b[1;32m   1282\u001b[0m                 \u001b[0;32mif\u001b[0m \u001b[0mlen\u001b[0m\u001b[0;34m(\u001b[0m\u001b[0mcommon_cols\u001b[0m\u001b[0;34m)\u001b[0m \u001b[0;34m==\u001b[0m \u001b[0;36m0\u001b[0m\u001b[0;34m:\u001b[0m\u001b[0;34m\u001b[0m\u001b[0;34m\u001b[0m\u001b[0m\n\u001b[0;32m-> 1283\u001b[0;31m                     raise MergeError(\n\u001b[0m\u001b[1;32m   1284\u001b[0m                         \u001b[0;34m\"No common columns to perform merge on. \"\u001b[0m\u001b[0;34m\u001b[0m\u001b[0;34m\u001b[0m\u001b[0m\n\u001b[1;32m   1285\u001b[0m                         \u001b[0;34mf\"Merge options: left_on={self.left_on}, \"\u001b[0m\u001b[0;34m\u001b[0m\u001b[0;34m\u001b[0m\u001b[0m\n",
      "\u001b[0;31mMergeError\u001b[0m: No common columns to perform merge on. Merge options: left_on=None, right_on=None, left_index=False, right_index=False"
     ]
    }
   ],
   "source": [
    "eur_data = pd.merge(eur_data, total_pop)"
   ]
  },
  {
   "cell_type": "code",
   "execution_count": 28,
   "metadata": {},
   "outputs": [],
   "source": [
    "# Select population with country names, so pandas can perform merge\n",
    "total_pop_with_countries = pop_df[['country', 'total_pop']]"
   ]
  },
  {
   "cell_type": "code",
   "execution_count": 29,
   "metadata": {},
   "outputs": [
    {
     "output_type": "execute_result",
     "data": {
      "text/plain": [
       "     country  unemp_rate       gdp  total_pop\n",
       "0    Austria         6.0  356237.6    8401940\n",
       "1    Belgium         7.8  424660.3   11000638\n",
       "2   Bulgaria         7.6   48128.6    7364570\n",
       "13   Croatia        13.1   46639.5    4284889\n",
       "4     Cyprus        13.0   18490.2     840407"
      ],
      "text/html": "<div>\n<style scoped>\n    .dataframe tbody tr th:only-of-type {\n        vertical-align: middle;\n    }\n\n    .dataframe tbody tr th {\n        vertical-align: top;\n    }\n\n    .dataframe thead th {\n        text-align: right;\n    }\n</style>\n<table border=\"1\" class=\"dataframe\">\n  <thead>\n    <tr style=\"text-align: right;\">\n      <th></th>\n      <th>country</th>\n      <th>unemp_rate</th>\n      <th>gdp</th>\n      <th>total_pop</th>\n    </tr>\n  </thead>\n  <tbody>\n    <tr>\n      <th>0</th>\n      <td>Austria</td>\n      <td>6.0</td>\n      <td>356237.6</td>\n      <td>8401940</td>\n    </tr>\n    <tr>\n      <th>1</th>\n      <td>Belgium</td>\n      <td>7.8</td>\n      <td>424660.3</td>\n      <td>11000638</td>\n    </tr>\n    <tr>\n      <th>2</th>\n      <td>Bulgaria</td>\n      <td>7.6</td>\n      <td>48128.6</td>\n      <td>7364570</td>\n    </tr>\n    <tr>\n      <th>13</th>\n      <td>Croatia</td>\n      <td>13.1</td>\n      <td>46639.5</td>\n      <td>4284889</td>\n    </tr>\n    <tr>\n      <th>4</th>\n      <td>Cyprus</td>\n      <td>13.0</td>\n      <td>18490.2</td>\n      <td>840407</td>\n    </tr>\n  </tbody>\n</table>\n</div>"
     },
     "metadata": {},
     "execution_count": 29
    }
   ],
   "source": [
    "# Perform merge and sort values by country name\n",
    "eur_data = pd.merge(eur_data, total_pop_with_countries)\n",
    "eur_data_sorted = eur_data.sort_values('country')\n",
    "eur_data_sorted.head()"
   ]
  },
  {
   "source": [
    "It looks like there's an issue with our indexes. What is an index, anyway?"
   ],
   "cell_type": "markdown",
   "metadata": {}
  },
  {
   "source": [
    "## 1.4 Indexes\n",
    "https://pandas.pydata.org/pandas-docs/stable/reference/api/pandas.Index.html"
   ],
   "cell_type": "markdown",
   "metadata": {}
  },
  {
   "cell_type": "code",
   "execution_count": 30,
   "metadata": {},
   "outputs": [
    {
     "output_type": "execute_result",
     "data": {
      "text/plain": [
       "pandas.core.indexes.numeric.Int64Index"
      ]
     },
     "metadata": {},
     "execution_count": 30
    }
   ],
   "source": [
    "# Our data is indexed by integer values\n",
    "eur_index = eur_data.index\n",
    "type(eur_index)"
   ]
  },
  {
   "cell_type": "code",
   "execution_count": 31,
   "metadata": {},
   "outputs": [
    {
     "output_type": "error",
     "ename": "TypeError",
     "evalue": "Index does not support mutable operations",
     "traceback": [
      "\u001b[0;31m---------------------------------------------------------------------------\u001b[0m",
      "\u001b[0;31mTypeError\u001b[0m                                 Traceback (most recent call last)",
      "\u001b[0;32m<ipython-input-31-80a77fa7e4a2>\u001b[0m in \u001b[0;36m<module>\u001b[0;34m\u001b[0m\n\u001b[1;32m      1\u001b[0m \u001b[0;31m# Indexes are immutable. And for good reason...\u001b[0m\u001b[0;34m\u001b[0m\u001b[0;34m\u001b[0m\u001b[0;34m\u001b[0m\u001b[0m\n\u001b[0;32m----> 2\u001b[0;31m \u001b[0meur_index\u001b[0m\u001b[0;34m[\u001b[0m\u001b[0;36m0\u001b[0m\u001b[0;34m]\u001b[0m \u001b[0;34m=\u001b[0m \u001b[0;36m12\u001b[0m\u001b[0;34m\u001b[0m\u001b[0;34m\u001b[0m\u001b[0m\n\u001b[0m",
      "\u001b[0;32m~/Library/Python/3.8/lib/python/site-packages/pandas/core/indexes/base.py\u001b[0m in \u001b[0;36m__setitem__\u001b[0;34m(self, key, value)\u001b[0m\n\u001b[1;32m   4275\u001b[0m     \u001b[0;34m@\u001b[0m\u001b[0mfinal\u001b[0m\u001b[0;34m\u001b[0m\u001b[0;34m\u001b[0m\u001b[0m\n\u001b[1;32m   4276\u001b[0m     \u001b[0;32mdef\u001b[0m \u001b[0m__setitem__\u001b[0m\u001b[0;34m(\u001b[0m\u001b[0mself\u001b[0m\u001b[0;34m,\u001b[0m \u001b[0mkey\u001b[0m\u001b[0;34m,\u001b[0m \u001b[0mvalue\u001b[0m\u001b[0;34m)\u001b[0m\u001b[0;34m:\u001b[0m\u001b[0;34m\u001b[0m\u001b[0;34m\u001b[0m\u001b[0m\n\u001b[0;32m-> 4277\u001b[0;31m         \u001b[0;32mraise\u001b[0m \u001b[0mTypeError\u001b[0m\u001b[0;34m(\u001b[0m\u001b[0;34m\"Index does not support mutable operations\"\u001b[0m\u001b[0;34m)\u001b[0m\u001b[0;34m\u001b[0m\u001b[0;34m\u001b[0m\u001b[0m\n\u001b[0m\u001b[1;32m   4278\u001b[0m \u001b[0;34m\u001b[0m\u001b[0m\n\u001b[1;32m   4279\u001b[0m     \u001b[0;32mdef\u001b[0m \u001b[0m__getitem__\u001b[0m\u001b[0;34m(\u001b[0m\u001b[0mself\u001b[0m\u001b[0;34m,\u001b[0m \u001b[0mkey\u001b[0m\u001b[0;34m)\u001b[0m\u001b[0;34m:\u001b[0m\u001b[0;34m\u001b[0m\u001b[0;34m\u001b[0m\u001b[0m\n",
      "\u001b[0;31mTypeError\u001b[0m: Index does not support mutable operations"
     ]
    }
   ],
   "source": [
    "# Indexes are immutable. And for good reason...\n",
    "eur_index[0] = 12"
   ]
  },
  {
   "cell_type": "code",
   "execution_count": 32,
   "metadata": {},
   "outputs": [
    {
     "output_type": "execute_result",
     "data": {
      "text/plain": [
       "          unemp_rate       gdp  total_pop\n",
       "country                                  \n",
       "Austria          6.0  356237.6    8401940\n",
       "Belgium          7.8  424660.3   11000638\n",
       "Bulgaria         7.6   48128.6    7364570\n",
       "Croatia         13.1   46639.5    4284889\n",
       "Cyprus          13.0   18490.2     840407"
      ],
      "text/html": "<div>\n<style scoped>\n    .dataframe tbody tr th:only-of-type {\n        vertical-align: middle;\n    }\n\n    .dataframe tbody tr th {\n        vertical-align: top;\n    }\n\n    .dataframe thead th {\n        text-align: right;\n    }\n</style>\n<table border=\"1\" class=\"dataframe\">\n  <thead>\n    <tr style=\"text-align: right;\">\n      <th></th>\n      <th>unemp_rate</th>\n      <th>gdp</th>\n      <th>total_pop</th>\n    </tr>\n    <tr>\n      <th>country</th>\n      <th></th>\n      <th></th>\n      <th></th>\n    </tr>\n  </thead>\n  <tbody>\n    <tr>\n      <th>Austria</th>\n      <td>6.0</td>\n      <td>356237.6</td>\n      <td>8401940</td>\n    </tr>\n    <tr>\n      <th>Belgium</th>\n      <td>7.8</td>\n      <td>424660.3</td>\n      <td>11000638</td>\n    </tr>\n    <tr>\n      <th>Bulgaria</th>\n      <td>7.6</td>\n      <td>48128.6</td>\n      <td>7364570</td>\n    </tr>\n    <tr>\n      <th>Croatia</th>\n      <td>13.1</td>\n      <td>46639.5</td>\n      <td>4284889</td>\n    </tr>\n    <tr>\n      <th>Cyprus</th>\n      <td>13.0</td>\n      <td>18490.2</td>\n      <td>840407</td>\n    </tr>\n  </tbody>\n</table>\n</div>"
     },
     "metadata": {},
     "execution_count": 32
    }
   ],
   "source": [
    "# Dataframes can also be indexed by labels, rather than numbers.\n",
    "# Use the .set_index() method to set the index for our dataframe\n",
    "eur_data_country_index = eur_data_sorted.set_index('country')\n",
    "eur_data_country_index.head()"
   ]
  },
  {
   "source": [
    "## 1.5 Exporting Data\n",
    "Pandas has robust I/O functionality."
   ],
   "cell_type": "markdown",
   "metadata": {}
  },
  {
   "cell_type": "code",
   "execution_count": 33,
   "metadata": {},
   "outputs": [],
   "source": [
    "# Helper function for generating a filepath\n",
    "def get_filepath(filename, extension):\n",
    "    return './data/out/' + filename + '.' + extension"
   ]
  },
  {
   "cell_type": "code",
   "execution_count": 34,
   "metadata": {},
   "outputs": [],
   "source": [
    "filepath = get_filepath('eur_data_sorted', 'csv')\n",
    "eur_data_sorted.to_csv(filepath)"
   ]
  },
  {
   "source": [
    "### Exercise - Write this dataframe to Excel,  JSON, and HTML"
   ],
   "cell_type": "markdown",
   "metadata": {}
  },
  {
   "cell_type": "code",
   "execution_count": 35,
   "metadata": {},
   "outputs": [],
   "source": [
    "# Excel (.xlsx)\n",
    "eur_data_sorted.to_excel(get_filepath('eur_data_sorted', 'xlsx'))"
   ]
  },
  {
   "cell_type": "code",
   "execution_count": 36,
   "metadata": {},
   "outputs": [],
   "source": [
    "# JSON (.json)\n",
    "eur_data_sorted.to_json(get_filepath('eur_data_sorted', 'json'))"
   ]
  },
  {
   "cell_type": "code",
   "execution_count": 37,
   "metadata": {},
   "outputs": [],
   "source": [
    "# HTML (.html)\n",
    "eur_data_sorted.to_html(get_filepath('eur_data_sorted', 'html'))"
   ]
  },
  {
   "source": [
    "## 2.1 Working with DataFrames\n",
    "Let's work with an existing dataframe that includes a lot of the same data from the previous sections."
   ],
   "cell_type": "markdown",
   "metadata": {}
  },
  {
   "cell_type": "code",
   "execution_count": 38,
   "metadata": {},
   "outputs": [],
   "source": [
    "# Read in the complete version of the europe data, using the first column as the index\n",
    "eur_data_final = pd.read_csv('./data/complete/eur_data_final.csv', index_col=0)"
   ]
  },
  {
   "cell_type": "code",
   "execution_count": 39,
   "metadata": {},
   "outputs": [
    {
     "output_type": "execute_result",
     "data": {
      "text/plain": [
       "       unemp_rate           gdp  median_income     total_pop\n",
       "count   32.000000  3.200000e+01      32.000000  3.200000e+01\n",
       "mean     8.337500  5.218333e+05   15972.343750  1.637612e+07\n",
       "std      4.393378  7.781849e+05    6640.636617  2.198819e+07\n",
       "min      3.000000  1.034410e+04    4724.000000  3.155560e+05\n",
       "25%      5.700000  4.775632e+04   10190.500000  3.974524e+06\n",
       "50%      7.300000  2.012768e+05   16205.000000  7.954662e+06\n",
       "75%      9.800000  4.987990e+05   21161.250000  1.241443e+07\n",
       "max     23.600000  3.159750e+06   28663.000000  8.021970e+07"
      ],
      "text/html": "<div>\n<style scoped>\n    .dataframe tbody tr th:only-of-type {\n        vertical-align: middle;\n    }\n\n    .dataframe tbody tr th {\n        vertical-align: top;\n    }\n\n    .dataframe thead th {\n        text-align: right;\n    }\n</style>\n<table border=\"1\" class=\"dataframe\">\n  <thead>\n    <tr style=\"text-align: right;\">\n      <th></th>\n      <th>unemp_rate</th>\n      <th>gdp</th>\n      <th>median_income</th>\n      <th>total_pop</th>\n    </tr>\n  </thead>\n  <tbody>\n    <tr>\n      <th>count</th>\n      <td>32.000000</td>\n      <td>3.200000e+01</td>\n      <td>32.000000</td>\n      <td>3.200000e+01</td>\n    </tr>\n    <tr>\n      <th>mean</th>\n      <td>8.337500</td>\n      <td>5.218333e+05</td>\n      <td>15972.343750</td>\n      <td>1.637612e+07</td>\n    </tr>\n    <tr>\n      <th>std</th>\n      <td>4.393378</td>\n      <td>7.781849e+05</td>\n      <td>6640.636617</td>\n      <td>2.198819e+07</td>\n    </tr>\n    <tr>\n      <th>min</th>\n      <td>3.000000</td>\n      <td>1.034410e+04</td>\n      <td>4724.000000</td>\n      <td>3.155560e+05</td>\n    </tr>\n    <tr>\n      <th>25%</th>\n      <td>5.700000</td>\n      <td>4.775632e+04</td>\n      <td>10190.500000</td>\n      <td>3.974524e+06</td>\n    </tr>\n    <tr>\n      <th>50%</th>\n      <td>7.300000</td>\n      <td>2.012768e+05</td>\n      <td>16205.000000</td>\n      <td>7.954662e+06</td>\n    </tr>\n    <tr>\n      <th>75%</th>\n      <td>9.800000</td>\n      <td>4.987990e+05</td>\n      <td>21161.250000</td>\n      <td>1.241443e+07</td>\n    </tr>\n    <tr>\n      <th>max</th>\n      <td>23.600000</td>\n      <td>3.159750e+06</td>\n      <td>28663.000000</td>\n      <td>8.021970e+07</td>\n    </tr>\n  </tbody>\n</table>\n</div>"
     },
     "metadata": {},
     "execution_count": 39
    }
   ],
   "source": [
    "# Inspect the data\n",
    "eur_data_final.head()\n",
    "eur_data_final.tail()\n",
    "eur_data_final.describe()"
   ]
  },
  {
   "cell_type": "code",
   "execution_count": 40,
   "metadata": {},
   "outputs": [
    {
     "output_type": "execute_result",
     "data": {
      "text/plain": [
       "unemp_rate       8.337500e+00\n",
       "gdp              5.218333e+05\n",
       "median_income    1.597234e+04\n",
       "total_pop        1.637612e+07\n",
       "dtype: float64"
      ]
     },
     "metadata": {},
     "execution_count": 40
    }
   ],
   "source": [
    "eur_data_final.mean()"
   ]
  },
  {
   "source": [
    "## 2.2 Boolean Indexing\n",
    "First of all, what is the boolean data type? It is data type that represents one of two possible values. For example, True False, On Off, etc."
   ],
   "cell_type": "markdown",
   "metadata": {}
  },
  {
   "cell_type": "code",
   "execution_count": 41,
   "metadata": {},
   "outputs": [
    {
     "output_type": "execute_result",
     "data": {
      "text/plain": [
       "   country  unemp_rate       gdp  median_income  total_pop\n",
       "0  Austria         6.0  356237.6          23071    8401940"
      ],
      "text/html": "<div>\n<style scoped>\n    .dataframe tbody tr th:only-of-type {\n        vertical-align: middle;\n    }\n\n    .dataframe tbody tr th {\n        vertical-align: top;\n    }\n\n    .dataframe thead th {\n        text-align: right;\n    }\n</style>\n<table border=\"1\" class=\"dataframe\">\n  <thead>\n    <tr style=\"text-align: right;\">\n      <th></th>\n      <th>country</th>\n      <th>unemp_rate</th>\n      <th>gdp</th>\n      <th>median_income</th>\n      <th>total_pop</th>\n    </tr>\n  </thead>\n  <tbody>\n    <tr>\n      <th>0</th>\n      <td>Austria</td>\n      <td>6.0</td>\n      <td>356237.6</td>\n      <td>23071</td>\n      <td>8401940</td>\n    </tr>\n  </tbody>\n</table>\n</div>"
     },
     "metadata": {},
     "execution_count": 41
    }
   ],
   "source": [
    "# Select all rows with the country name equal to Austria\n",
    "eur_data_final.country\n",
    "austria_bool = eur_data_final.country == 'Austria'\n",
    "eur_data_final[austria_bool]"
   ]
  },
  {
   "cell_type": "code",
   "execution_count": 42,
   "metadata": {},
   "outputs": [
    {
     "output_type": "execute_result",
     "data": {
      "text/plain": [
       "   country  unemp_rate       gdp  median_income  total_pop\n",
       "11  Greece        23.6  176487.9           9048   10816286"
      ],
      "text/html": "<div>\n<style scoped>\n    .dataframe tbody tr th:only-of-type {\n        vertical-align: middle;\n    }\n\n    .dataframe tbody tr th {\n        vertical-align: top;\n    }\n\n    .dataframe thead th {\n        text-align: right;\n    }\n</style>\n<table border=\"1\" class=\"dataframe\">\n  <thead>\n    <tr style=\"text-align: right;\">\n      <th></th>\n      <th>country</th>\n      <th>unemp_rate</th>\n      <th>gdp</th>\n      <th>median_income</th>\n      <th>total_pop</th>\n    </tr>\n  </thead>\n  <tbody>\n    <tr>\n      <th>11</th>\n      <td>Greece</td>\n      <td>23.6</td>\n      <td>176487.9</td>\n      <td>9048</td>\n      <td>10816286</td>\n    </tr>\n  </tbody>\n</table>\n</div>"
     },
     "metadata": {},
     "execution_count": 42
    }
   ],
   "source": [
    "# Now do the same with bracket notation for the country of Greece\n",
    "greece_bool = eur_data_final['country'] == 'Greece'\n",
    "eur_data_final[greece_bool]"
   ]
  },
  {
   "source": [
    "Queries can also be generated using partial matches."
   ],
   "cell_type": "markdown",
   "metadata": {}
  },
  {
   "cell_type": "code",
   "execution_count": 43,
   "metadata": {},
   "outputs": [
    {
     "output_type": "execute_result",
     "data": {
      "text/plain": [
       "        country  unemp_rate        gdp  median_income  total_pop\n",
       "1       Belgium         7.8   424660.3          21335   11000638\n",
       "2      Bulgaria         7.6    48128.6           6742    7364570\n",
       "8       Finland         8.8   216073.0          19997    5375276\n",
       "13      Iceland         3.0    18646.1          22193     315556\n",
       "14      Ireland         8.4   273238.2          18286    4574888\n",
       "15        Italy        11.7  1689824.0          16237   59433744\n",
       "19        Malta         4.7    10344.1          17264     417432\n",
       "20  Netherlands         6.0   708337.0          21189   16655799\n",
       "22       Poland         6.2   426547.5          10865   38044565\n",
       "23     Portugal        11.2   186480.5          10805   10562178\n",
       "25     Slovakia         9.7    81226.1          10466    5397036\n",
       "26     Slovenia         8.0    40357.2          15250    2050189\n",
       "29  Switzerland         5.0   605753.7          27692    7954662"
      ],
      "text/html": "<div>\n<style scoped>\n    .dataframe tbody tr th:only-of-type {\n        vertical-align: middle;\n    }\n\n    .dataframe tbody tr th {\n        vertical-align: top;\n    }\n\n    .dataframe thead th {\n        text-align: right;\n    }\n</style>\n<table border=\"1\" class=\"dataframe\">\n  <thead>\n    <tr style=\"text-align: right;\">\n      <th></th>\n      <th>country</th>\n      <th>unemp_rate</th>\n      <th>gdp</th>\n      <th>median_income</th>\n      <th>total_pop</th>\n    </tr>\n  </thead>\n  <tbody>\n    <tr>\n      <th>1</th>\n      <td>Belgium</td>\n      <td>7.8</td>\n      <td>424660.3</td>\n      <td>21335</td>\n      <td>11000638</td>\n    </tr>\n    <tr>\n      <th>2</th>\n      <td>Bulgaria</td>\n      <td>7.6</td>\n      <td>48128.6</td>\n      <td>6742</td>\n      <td>7364570</td>\n    </tr>\n    <tr>\n      <th>8</th>\n      <td>Finland</td>\n      <td>8.8</td>\n      <td>216073.0</td>\n      <td>19997</td>\n      <td>5375276</td>\n    </tr>\n    <tr>\n      <th>13</th>\n      <td>Iceland</td>\n      <td>3.0</td>\n      <td>18646.1</td>\n      <td>22193</td>\n      <td>315556</td>\n    </tr>\n    <tr>\n      <th>14</th>\n      <td>Ireland</td>\n      <td>8.4</td>\n      <td>273238.2</td>\n      <td>18286</td>\n      <td>4574888</td>\n    </tr>\n    <tr>\n      <th>15</th>\n      <td>Italy</td>\n      <td>11.7</td>\n      <td>1689824.0</td>\n      <td>16237</td>\n      <td>59433744</td>\n    </tr>\n    <tr>\n      <th>19</th>\n      <td>Malta</td>\n      <td>4.7</td>\n      <td>10344.1</td>\n      <td>17264</td>\n      <td>417432</td>\n    </tr>\n    <tr>\n      <th>20</th>\n      <td>Netherlands</td>\n      <td>6.0</td>\n      <td>708337.0</td>\n      <td>21189</td>\n      <td>16655799</td>\n    </tr>\n    <tr>\n      <th>22</th>\n      <td>Poland</td>\n      <td>6.2</td>\n      <td>426547.5</td>\n      <td>10865</td>\n      <td>38044565</td>\n    </tr>\n    <tr>\n      <th>23</th>\n      <td>Portugal</td>\n      <td>11.2</td>\n      <td>186480.5</td>\n      <td>10805</td>\n      <td>10562178</td>\n    </tr>\n    <tr>\n      <th>25</th>\n      <td>Slovakia</td>\n      <td>9.7</td>\n      <td>81226.1</td>\n      <td>10466</td>\n      <td>5397036</td>\n    </tr>\n    <tr>\n      <th>26</th>\n      <td>Slovenia</td>\n      <td>8.0</td>\n      <td>40357.2</td>\n      <td>15250</td>\n      <td>2050189</td>\n    </tr>\n    <tr>\n      <th>29</th>\n      <td>Switzerland</td>\n      <td>5.0</td>\n      <td>605753.7</td>\n      <td>27692</td>\n      <td>7954662</td>\n    </tr>\n  </tbody>\n</table>\n</div>"
     },
     "metadata": {},
     "execution_count": 43
    }
   ],
   "source": [
    "# Get all countries with the letter l in their name\n",
    "l_names = eur_data_final['country'].str.contains('l')\n",
    "eur_data_final[l_names]"
   ]
  },
  {
   "cell_type": "code",
   "execution_count": 44,
   "metadata": {},
   "outputs": [
    {
     "output_type": "execute_result",
     "data": {
      "text/plain": [
       "        country  unemp_rate        gdp  median_income  total_pop\n",
       "1       Belgium         7.8   424660.3          21335   11000638\n",
       "2      Bulgaria         7.6    48128.6           6742    7364570\n",
       "8       Finland         8.8   216073.0          19997    5375276\n",
       "13      Iceland         3.0    18646.1          22193     315556\n",
       "14      Ireland         8.4   273238.2          18286    4574888\n",
       "15        Italy        11.7  1689824.0          16237   59433744\n",
       "16       Latvia         9.6    25037.7           9257    2070371\n",
       "17    Lithuania         7.9    38849.4           9364    3043429\n",
       "18   Luxembourg         6.3    53303.0          28663     512353\n",
       "19        Malta         4.7    10344.1          17264     417432\n",
       "20  Netherlands         6.0   708337.0          21189   16655799\n",
       "22       Poland         6.2   426547.5          10865   38044565\n",
       "23     Portugal        11.2   186480.5          10805   10562178\n",
       "25     Slovakia         9.7    81226.1          10466    5397036\n",
       "26     Slovenia         8.0    40357.2          15250    2050189\n",
       "29  Switzerland         5.0   605753.7          27692    7954662"
      ],
      "text/html": "<div>\n<style scoped>\n    .dataframe tbody tr th:only-of-type {\n        vertical-align: middle;\n    }\n\n    .dataframe tbody tr th {\n        vertical-align: top;\n    }\n\n    .dataframe thead th {\n        text-align: right;\n    }\n</style>\n<table border=\"1\" class=\"dataframe\">\n  <thead>\n    <tr style=\"text-align: right;\">\n      <th></th>\n      <th>country</th>\n      <th>unemp_rate</th>\n      <th>gdp</th>\n      <th>median_income</th>\n      <th>total_pop</th>\n    </tr>\n  </thead>\n  <tbody>\n    <tr>\n      <th>1</th>\n      <td>Belgium</td>\n      <td>7.8</td>\n      <td>424660.3</td>\n      <td>21335</td>\n      <td>11000638</td>\n    </tr>\n    <tr>\n      <th>2</th>\n      <td>Bulgaria</td>\n      <td>7.6</td>\n      <td>48128.6</td>\n      <td>6742</td>\n      <td>7364570</td>\n    </tr>\n    <tr>\n      <th>8</th>\n      <td>Finland</td>\n      <td>8.8</td>\n      <td>216073.0</td>\n      <td>19997</td>\n      <td>5375276</td>\n    </tr>\n    <tr>\n      <th>13</th>\n      <td>Iceland</td>\n      <td>3.0</td>\n      <td>18646.1</td>\n      <td>22193</td>\n      <td>315556</td>\n    </tr>\n    <tr>\n      <th>14</th>\n      <td>Ireland</td>\n      <td>8.4</td>\n      <td>273238.2</td>\n      <td>18286</td>\n      <td>4574888</td>\n    </tr>\n    <tr>\n      <th>15</th>\n      <td>Italy</td>\n      <td>11.7</td>\n      <td>1689824.0</td>\n      <td>16237</td>\n      <td>59433744</td>\n    </tr>\n    <tr>\n      <th>16</th>\n      <td>Latvia</td>\n      <td>9.6</td>\n      <td>25037.7</td>\n      <td>9257</td>\n      <td>2070371</td>\n    </tr>\n    <tr>\n      <th>17</th>\n      <td>Lithuania</td>\n      <td>7.9</td>\n      <td>38849.4</td>\n      <td>9364</td>\n      <td>3043429</td>\n    </tr>\n    <tr>\n      <th>18</th>\n      <td>Luxembourg</td>\n      <td>6.3</td>\n      <td>53303.0</td>\n      <td>28663</td>\n      <td>512353</td>\n    </tr>\n    <tr>\n      <th>19</th>\n      <td>Malta</td>\n      <td>4.7</td>\n      <td>10344.1</td>\n      <td>17264</td>\n      <td>417432</td>\n    </tr>\n    <tr>\n      <th>20</th>\n      <td>Netherlands</td>\n      <td>6.0</td>\n      <td>708337.0</td>\n      <td>21189</td>\n      <td>16655799</td>\n    </tr>\n    <tr>\n      <th>22</th>\n      <td>Poland</td>\n      <td>6.2</td>\n      <td>426547.5</td>\n      <td>10865</td>\n      <td>38044565</td>\n    </tr>\n    <tr>\n      <th>23</th>\n      <td>Portugal</td>\n      <td>11.2</td>\n      <td>186480.5</td>\n      <td>10805</td>\n      <td>10562178</td>\n    </tr>\n    <tr>\n      <th>25</th>\n      <td>Slovakia</td>\n      <td>9.7</td>\n      <td>81226.1</td>\n      <td>10466</td>\n      <td>5397036</td>\n    </tr>\n    <tr>\n      <th>26</th>\n      <td>Slovenia</td>\n      <td>8.0</td>\n      <td>40357.2</td>\n      <td>15250</td>\n      <td>2050189</td>\n    </tr>\n    <tr>\n      <th>29</th>\n      <td>Switzerland</td>\n      <td>5.0</td>\n      <td>605753.7</td>\n      <td>27692</td>\n      <td>7954662</td>\n    </tr>\n  </tbody>\n</table>\n</div>"
     },
     "metadata": {},
     "execution_count": 44
    }
   ],
   "source": [
    "# Notice that there is one country missing: Luxembourg. Why is that?\n",
    "l_names_insensitive = eur_data_final.country.str.contains('l', case=False)\n",
    "eur_data_final[l_names_insensitive]"
   ]
  },
  {
   "source": [
    "## 2.3 Multiple queries\n",
    "So far, we've looked at queries with a single condition. Let's look at multiple query conditions."
   ],
   "cell_type": "markdown",
   "metadata": {}
  },
  {
   "cell_type": "code",
   "execution_count": 45,
   "metadata": {},
   "outputs": [],
   "source": [
    "# Create bool series for countries with unemployment less than 7\n",
    "low_unemployment = eur_data_final.unemp_rate < 7"
   ]
  },
  {
   "cell_type": "code",
   "execution_count": 46,
   "metadata": {},
   "outputs": [
    {
     "output_type": "error",
     "ename": "ValueError",
     "evalue": "The truth value of a Series is ambiguous. Use a.empty, a.bool(), a.item(), a.any() or a.all().",
     "traceback": [
      "\u001b[0;31m---------------------------------------------------------------------------\u001b[0m",
      "\u001b[0;31mValueError\u001b[0m                                Traceback (most recent call last)",
      "\u001b[0;32m<ipython-input-46-57600958909a>\u001b[0m in \u001b[0;36m<module>\u001b[0;34m\u001b[0m\n\u001b[1;32m      1\u001b[0m \u001b[0;31m# Combine with this l_names series\u001b[0m\u001b[0;34m\u001b[0m\u001b[0;34m\u001b[0m\u001b[0;34m\u001b[0m\u001b[0m\n\u001b[0;32m----> 2\u001b[0;31m \u001b[0meur_data_final\u001b[0m\u001b[0;34m[\u001b[0m\u001b[0ml_names_insensitive\u001b[0m \u001b[0;32mand\u001b[0m \u001b[0mlow_unemployment\u001b[0m\u001b[0;34m]\u001b[0m\u001b[0;34m\u001b[0m\u001b[0;34m\u001b[0m\u001b[0m\n\u001b[0m",
      "\u001b[0;32m~/Library/Python/3.8/lib/python/site-packages/pandas/core/generic.py\u001b[0m in \u001b[0;36m__nonzero__\u001b[0;34m(self)\u001b[0m\n\u001b[1;32m   1437\u001b[0m     \u001b[0;34m@\u001b[0m\u001b[0mfinal\u001b[0m\u001b[0;34m\u001b[0m\u001b[0;34m\u001b[0m\u001b[0m\n\u001b[1;32m   1438\u001b[0m     \u001b[0;32mdef\u001b[0m \u001b[0m__nonzero__\u001b[0m\u001b[0;34m(\u001b[0m\u001b[0mself\u001b[0m\u001b[0;34m)\u001b[0m\u001b[0;34m:\u001b[0m\u001b[0;34m\u001b[0m\u001b[0;34m\u001b[0m\u001b[0m\n\u001b[0;32m-> 1439\u001b[0;31m         raise ValueError(\n\u001b[0m\u001b[1;32m   1440\u001b[0m             \u001b[0;34mf\"The truth value of a {type(self).__name__} is ambiguous. \"\u001b[0m\u001b[0;34m\u001b[0m\u001b[0;34m\u001b[0m\u001b[0m\n\u001b[1;32m   1441\u001b[0m             \u001b[0;34m\"Use a.empty, a.bool(), a.item(), a.any() or a.all().\"\u001b[0m\u001b[0;34m\u001b[0m\u001b[0;34m\u001b[0m\u001b[0m\n",
      "\u001b[0;31mValueError\u001b[0m: The truth value of a Series is ambiguous. Use a.empty, a.bool(), a.item(), a.any() or a.all()."
     ]
    }
   ],
   "source": [
    "# Combine with this l_names series\n",
    "eur_data_final[l_names_insensitive and low_unemployment]"
   ]
  },
  {
   "cell_type": "code",
   "execution_count": 47,
   "metadata": {},
   "outputs": [
    {
     "output_type": "execute_result",
     "data": {
      "text/plain": [
       "        country  unemp_rate       gdp  median_income  total_pop\n",
       "13      Iceland         3.0   18646.1          22193     315556\n",
       "18   Luxembourg         6.3   53303.0          28663     512353\n",
       "19        Malta         4.7   10344.1          17264     417432\n",
       "20  Netherlands         6.0  708337.0          21189   16655799\n",
       "22       Poland         6.2  426547.5          10865   38044565\n",
       "29  Switzerland         5.0  605753.7          27692    7954662"
      ],
      "text/html": "<div>\n<style scoped>\n    .dataframe tbody tr th:only-of-type {\n        vertical-align: middle;\n    }\n\n    .dataframe tbody tr th {\n        vertical-align: top;\n    }\n\n    .dataframe thead th {\n        text-align: right;\n    }\n</style>\n<table border=\"1\" class=\"dataframe\">\n  <thead>\n    <tr style=\"text-align: right;\">\n      <th></th>\n      <th>country</th>\n      <th>unemp_rate</th>\n      <th>gdp</th>\n      <th>median_income</th>\n      <th>total_pop</th>\n    </tr>\n  </thead>\n  <tbody>\n    <tr>\n      <th>13</th>\n      <td>Iceland</td>\n      <td>3.0</td>\n      <td>18646.1</td>\n      <td>22193</td>\n      <td>315556</td>\n    </tr>\n    <tr>\n      <th>18</th>\n      <td>Luxembourg</td>\n      <td>6.3</td>\n      <td>53303.0</td>\n      <td>28663</td>\n      <td>512353</td>\n    </tr>\n    <tr>\n      <th>19</th>\n      <td>Malta</td>\n      <td>4.7</td>\n      <td>10344.1</td>\n      <td>17264</td>\n      <td>417432</td>\n    </tr>\n    <tr>\n      <th>20</th>\n      <td>Netherlands</td>\n      <td>6.0</td>\n      <td>708337.0</td>\n      <td>21189</td>\n      <td>16655799</td>\n    </tr>\n    <tr>\n      <th>22</th>\n      <td>Poland</td>\n      <td>6.2</td>\n      <td>426547.5</td>\n      <td>10865</td>\n      <td>38044565</td>\n    </tr>\n    <tr>\n      <th>29</th>\n      <td>Switzerland</td>\n      <td>5.0</td>\n      <td>605753.7</td>\n      <td>27692</td>\n      <td>7954662</td>\n    </tr>\n  </tbody>\n</table>\n</div>"
     },
     "metadata": {},
     "execution_count": 47
    }
   ],
   "source": [
    "# In set theory, this is intersection. i.e. 'and'\n",
    "eur_data_final[l_names_insensitive & low_unemployment]"
   ]
  },
  {
   "cell_type": "code",
   "execution_count": 48,
   "metadata": {},
   "outputs": [
    {
     "output_type": "execute_result",
     "data": {
      "text/plain": [
       "           country  unemp_rate        gdp  median_income  total_pop\n",
       "0          Austria         6.0   356237.6          23071    8401940\n",
       "1          Belgium         7.8   424660.3          21335   11000638\n",
       "2         Bulgaria         7.6    48128.6           6742    7364570\n",
       "5          Czechia         4.0   176370.1          12478   10436560\n",
       "6          Denmark         6.2   282089.9          21355    5560628\n",
       "7          Estonia         6.8    21682.6          11867    1294455\n",
       "8          Finland         8.8   216073.0          19997    5375276\n",
       "10         Germany         4.1  3159750.0          21152   80219695\n",
       "12         Hungary         5.1   113903.8           8267    9937628\n",
       "13         Iceland         3.0    18646.1          22193     315556\n",
       "14         Ireland         8.4   273238.2          18286    4574888\n",
       "15           Italy        11.7  1689824.0          16237   59433744\n",
       "18      Luxembourg         6.3    53303.0          28663     512353\n",
       "19           Malta         4.7    10344.1          17264     417432\n",
       "20     Netherlands         6.0   708337.0          21189   16655799\n",
       "21          Norway         4.7   335747.5          27670    4979954\n",
       "22          Poland         6.2   426547.5          10865   38044565\n",
       "23        Portugal        11.2   186480.5          10805   10562178\n",
       "24         Romania         5.9   170393.6           4724   20121641\n",
       "25        Slovakia         9.7    81226.1          10466    5397036\n",
       "26        Slovenia         8.0    40357.2          15250    2050189\n",
       "29     Switzerland         5.0   605753.7          27692    7954662\n",
       "31  United Kingdom         4.8  2403382.6          17296   63182180"
      ],
      "text/html": "<div>\n<style scoped>\n    .dataframe tbody tr th:only-of-type {\n        vertical-align: middle;\n    }\n\n    .dataframe tbody tr th {\n        vertical-align: top;\n    }\n\n    .dataframe thead th {\n        text-align: right;\n    }\n</style>\n<table border=\"1\" class=\"dataframe\">\n  <thead>\n    <tr style=\"text-align: right;\">\n      <th></th>\n      <th>country</th>\n      <th>unemp_rate</th>\n      <th>gdp</th>\n      <th>median_income</th>\n      <th>total_pop</th>\n    </tr>\n  </thead>\n  <tbody>\n    <tr>\n      <th>0</th>\n      <td>Austria</td>\n      <td>6.0</td>\n      <td>356237.6</td>\n      <td>23071</td>\n      <td>8401940</td>\n    </tr>\n    <tr>\n      <th>1</th>\n      <td>Belgium</td>\n      <td>7.8</td>\n      <td>424660.3</td>\n      <td>21335</td>\n      <td>11000638</td>\n    </tr>\n    <tr>\n      <th>2</th>\n      <td>Bulgaria</td>\n      <td>7.6</td>\n      <td>48128.6</td>\n      <td>6742</td>\n      <td>7364570</td>\n    </tr>\n    <tr>\n      <th>5</th>\n      <td>Czechia</td>\n      <td>4.0</td>\n      <td>176370.1</td>\n      <td>12478</td>\n      <td>10436560</td>\n    </tr>\n    <tr>\n      <th>6</th>\n      <td>Denmark</td>\n      <td>6.2</td>\n      <td>282089.9</td>\n      <td>21355</td>\n      <td>5560628</td>\n    </tr>\n    <tr>\n      <th>7</th>\n      <td>Estonia</td>\n      <td>6.8</td>\n      <td>21682.6</td>\n      <td>11867</td>\n      <td>1294455</td>\n    </tr>\n    <tr>\n      <th>8</th>\n      <td>Finland</td>\n      <td>8.8</td>\n      <td>216073.0</td>\n      <td>19997</td>\n      <td>5375276</td>\n    </tr>\n    <tr>\n      <th>10</th>\n      <td>Germany</td>\n      <td>4.1</td>\n      <td>3159750.0</td>\n      <td>21152</td>\n      <td>80219695</td>\n    </tr>\n    <tr>\n      <th>12</th>\n      <td>Hungary</td>\n      <td>5.1</td>\n      <td>113903.8</td>\n      <td>8267</td>\n      <td>9937628</td>\n    </tr>\n    <tr>\n      <th>13</th>\n      <td>Iceland</td>\n      <td>3.0</td>\n      <td>18646.1</td>\n      <td>22193</td>\n      <td>315556</td>\n    </tr>\n    <tr>\n      <th>14</th>\n      <td>Ireland</td>\n      <td>8.4</td>\n      <td>273238.2</td>\n      <td>18286</td>\n      <td>4574888</td>\n    </tr>\n    <tr>\n      <th>15</th>\n      <td>Italy</td>\n      <td>11.7</td>\n      <td>1689824.0</td>\n      <td>16237</td>\n      <td>59433744</td>\n    </tr>\n    <tr>\n      <th>18</th>\n      <td>Luxembourg</td>\n      <td>6.3</td>\n      <td>53303.0</td>\n      <td>28663</td>\n      <td>512353</td>\n    </tr>\n    <tr>\n      <th>19</th>\n      <td>Malta</td>\n      <td>4.7</td>\n      <td>10344.1</td>\n      <td>17264</td>\n      <td>417432</td>\n    </tr>\n    <tr>\n      <th>20</th>\n      <td>Netherlands</td>\n      <td>6.0</td>\n      <td>708337.0</td>\n      <td>21189</td>\n      <td>16655799</td>\n    </tr>\n    <tr>\n      <th>21</th>\n      <td>Norway</td>\n      <td>4.7</td>\n      <td>335747.5</td>\n      <td>27670</td>\n      <td>4979954</td>\n    </tr>\n    <tr>\n      <th>22</th>\n      <td>Poland</td>\n      <td>6.2</td>\n      <td>426547.5</td>\n      <td>10865</td>\n      <td>38044565</td>\n    </tr>\n    <tr>\n      <th>23</th>\n      <td>Portugal</td>\n      <td>11.2</td>\n      <td>186480.5</td>\n      <td>10805</td>\n      <td>10562178</td>\n    </tr>\n    <tr>\n      <th>24</th>\n      <td>Romania</td>\n      <td>5.9</td>\n      <td>170393.6</td>\n      <td>4724</td>\n      <td>20121641</td>\n    </tr>\n    <tr>\n      <th>25</th>\n      <td>Slovakia</td>\n      <td>9.7</td>\n      <td>81226.1</td>\n      <td>10466</td>\n      <td>5397036</td>\n    </tr>\n    <tr>\n      <th>26</th>\n      <td>Slovenia</td>\n      <td>8.0</td>\n      <td>40357.2</td>\n      <td>15250</td>\n      <td>2050189</td>\n    </tr>\n    <tr>\n      <th>29</th>\n      <td>Switzerland</td>\n      <td>5.0</td>\n      <td>605753.7</td>\n      <td>27692</td>\n      <td>7954662</td>\n    </tr>\n    <tr>\n      <th>31</th>\n      <td>United Kingdom</td>\n      <td>4.8</td>\n      <td>2403382.6</td>\n      <td>17296</td>\n      <td>63182180</td>\n    </tr>\n  </tbody>\n</table>\n</div>"
     },
     "metadata": {},
     "execution_count": 48
    }
   ],
   "source": [
    "# In set theory, this is union. i.e. 'or'\n",
    "eur_data_final[l_names | low_unemployment]"
   ]
  },
  {
   "cell_type": "code",
   "execution_count": 49,
   "metadata": {},
   "outputs": [
    {
     "output_type": "execute_result",
     "data": {
      "text/plain": [
       "      country  unemp_rate        gdp  median_income  total_pop\n",
       "1     Belgium         7.8   424660.3          21335   11000638\n",
       "2    Bulgaria         7.6    48128.6           6742    7364570\n",
       "3     Croatia        13.1    46639.5           8985    4284889\n",
       "4      Cyprus        13.0    18490.2          16173     840407\n",
       "8     Finland         8.8   216073.0          19997    5375276\n",
       "9      France        10.1  2228568.0          20621   64933400\n",
       "11     Greece        23.6   176487.9           9048   10816286\n",
       "14    Ireland         8.4   273238.2          18286    4574888\n",
       "15      Italy        11.7  1689824.0          16237   59433744\n",
       "16     Latvia         9.6    25037.7           9257    2070371\n",
       "17  Lithuania         7.9    38849.4           9364    3043429\n",
       "23   Portugal        11.2   186480.5          10805   10562178\n",
       "25   Slovakia         9.7    81226.1          10466    5397036\n",
       "26   Slovenia         8.0    40357.2          15250    2050189\n",
       "27      Spain        19.6  1118743.0          15347   46815910\n",
       "28     Sweden         7.0   463147.5          20955    9482855\n",
       "30     Turkey        10.9   780224.9           6501    7954662"
      ],
      "text/html": "<div>\n<style scoped>\n    .dataframe tbody tr th:only-of-type {\n        vertical-align: middle;\n    }\n\n    .dataframe tbody tr th {\n        vertical-align: top;\n    }\n\n    .dataframe thead th {\n        text-align: right;\n    }\n</style>\n<table border=\"1\" class=\"dataframe\">\n  <thead>\n    <tr style=\"text-align: right;\">\n      <th></th>\n      <th>country</th>\n      <th>unemp_rate</th>\n      <th>gdp</th>\n      <th>median_income</th>\n      <th>total_pop</th>\n    </tr>\n  </thead>\n  <tbody>\n    <tr>\n      <th>1</th>\n      <td>Belgium</td>\n      <td>7.8</td>\n      <td>424660.3</td>\n      <td>21335</td>\n      <td>11000638</td>\n    </tr>\n    <tr>\n      <th>2</th>\n      <td>Bulgaria</td>\n      <td>7.6</td>\n      <td>48128.6</td>\n      <td>6742</td>\n      <td>7364570</td>\n    </tr>\n    <tr>\n      <th>3</th>\n      <td>Croatia</td>\n      <td>13.1</td>\n      <td>46639.5</td>\n      <td>8985</td>\n      <td>4284889</td>\n    </tr>\n    <tr>\n      <th>4</th>\n      <td>Cyprus</td>\n      <td>13.0</td>\n      <td>18490.2</td>\n      <td>16173</td>\n      <td>840407</td>\n    </tr>\n    <tr>\n      <th>8</th>\n      <td>Finland</td>\n      <td>8.8</td>\n      <td>216073.0</td>\n      <td>19997</td>\n      <td>5375276</td>\n    </tr>\n    <tr>\n      <th>9</th>\n      <td>France</td>\n      <td>10.1</td>\n      <td>2228568.0</td>\n      <td>20621</td>\n      <td>64933400</td>\n    </tr>\n    <tr>\n      <th>11</th>\n      <td>Greece</td>\n      <td>23.6</td>\n      <td>176487.9</td>\n      <td>9048</td>\n      <td>10816286</td>\n    </tr>\n    <tr>\n      <th>14</th>\n      <td>Ireland</td>\n      <td>8.4</td>\n      <td>273238.2</td>\n      <td>18286</td>\n      <td>4574888</td>\n    </tr>\n    <tr>\n      <th>15</th>\n      <td>Italy</td>\n      <td>11.7</td>\n      <td>1689824.0</td>\n      <td>16237</td>\n      <td>59433744</td>\n    </tr>\n    <tr>\n      <th>16</th>\n      <td>Latvia</td>\n      <td>9.6</td>\n      <td>25037.7</td>\n      <td>9257</td>\n      <td>2070371</td>\n    </tr>\n    <tr>\n      <th>17</th>\n      <td>Lithuania</td>\n      <td>7.9</td>\n      <td>38849.4</td>\n      <td>9364</td>\n      <td>3043429</td>\n    </tr>\n    <tr>\n      <th>23</th>\n      <td>Portugal</td>\n      <td>11.2</td>\n      <td>186480.5</td>\n      <td>10805</td>\n      <td>10562178</td>\n    </tr>\n    <tr>\n      <th>25</th>\n      <td>Slovakia</td>\n      <td>9.7</td>\n      <td>81226.1</td>\n      <td>10466</td>\n      <td>5397036</td>\n    </tr>\n    <tr>\n      <th>26</th>\n      <td>Slovenia</td>\n      <td>8.0</td>\n      <td>40357.2</td>\n      <td>15250</td>\n      <td>2050189</td>\n    </tr>\n    <tr>\n      <th>27</th>\n      <td>Spain</td>\n      <td>19.6</td>\n      <td>1118743.0</td>\n      <td>15347</td>\n      <td>46815910</td>\n    </tr>\n    <tr>\n      <th>28</th>\n      <td>Sweden</td>\n      <td>7.0</td>\n      <td>463147.5</td>\n      <td>20955</td>\n      <td>9482855</td>\n    </tr>\n    <tr>\n      <th>30</th>\n      <td>Turkey</td>\n      <td>10.9</td>\n      <td>780224.9</td>\n      <td>6501</td>\n      <td>7954662</td>\n    </tr>\n  </tbody>\n</table>\n</div>"
     },
     "metadata": {},
     "execution_count": 49
    }
   ],
   "source": [
    "# In set theory, this is complement. i.e. 'not'\n",
    "eur_data_final[~low_unemployment]"
   ]
  },
  {
   "source": [
    "### Exercise - What countries have an unemployment rate greater than 9% and a GDP less than 280000?"
   ],
   "cell_type": "markdown",
   "metadata": {}
  },
  {
   "cell_type": "code",
   "execution_count": 62,
   "metadata": {},
   "outputs": [
    {
     "output_type": "execute_result",
     "data": {
      "text/plain": [
       "   country  unemp_rate        gdp  median_income  total_pop\n",
       "9   France        10.1  2228568.0          20621   64933400\n",
       "15   Italy        11.7  1689824.0          16237   59433744\n",
       "27   Spain        19.6  1118743.0          15347   46815910\n",
       "30  Turkey        10.9   780224.9           6501    7954662"
      ],
      "text/html": "<div>\n<style scoped>\n    .dataframe tbody tr th:only-of-type {\n        vertical-align: middle;\n    }\n\n    .dataframe tbody tr th {\n        vertical-align: top;\n    }\n\n    .dataframe thead th {\n        text-align: right;\n    }\n</style>\n<table border=\"1\" class=\"dataframe\">\n  <thead>\n    <tr style=\"text-align: right;\">\n      <th></th>\n      <th>country</th>\n      <th>unemp_rate</th>\n      <th>gdp</th>\n      <th>median_income</th>\n      <th>total_pop</th>\n    </tr>\n  </thead>\n  <tbody>\n    <tr>\n      <th>9</th>\n      <td>France</td>\n      <td>10.1</td>\n      <td>2228568.0</td>\n      <td>20621</td>\n      <td>64933400</td>\n    </tr>\n    <tr>\n      <th>15</th>\n      <td>Italy</td>\n      <td>11.7</td>\n      <td>1689824.0</td>\n      <td>16237</td>\n      <td>59433744</td>\n    </tr>\n    <tr>\n      <th>27</th>\n      <td>Spain</td>\n      <td>19.6</td>\n      <td>1118743.0</td>\n      <td>15347</td>\n      <td>46815910</td>\n    </tr>\n    <tr>\n      <th>30</th>\n      <td>Turkey</td>\n      <td>10.9</td>\n      <td>780224.9</td>\n      <td>6501</td>\n      <td>7954662</td>\n    </tr>\n  </tbody>\n</table>\n</div>"
     },
     "metadata": {},
     "execution_count": 62
    }
   ],
   "source": [
    "unemp_gt_9 = eur_data_final.unemp_rate > 9\n",
    "gdp_lt_280 = eur_data_final.gdp > 280_000\n",
    "final = eur_data_final[unemp_gt_9 & gdp_lt_280]\n",
    "final"
   ]
  },
  {
   "source": [
    "### Exercise - What countries have a median income between 10,000 and 20,000?"
   ],
   "cell_type": "markdown",
   "metadata": {}
  },
  {
   "cell_type": "code",
   "execution_count": 63,
   "metadata": {},
   "outputs": [
    {
     "output_type": "execute_result",
     "data": {
      "text/plain": [
       "           country  unemp_rate        gdp  median_income  total_pop\n",
       "4           Cyprus        13.0    18490.2          16173     840407\n",
       "5          Czechia         4.0   176370.1          12478   10436560\n",
       "7          Estonia         6.8    21682.6          11867    1294455\n",
       "8          Finland         8.8   216073.0          19997    5375276\n",
       "14         Ireland         8.4   273238.2          18286    4574888\n",
       "15           Italy        11.7  1689824.0          16237   59433744\n",
       "19           Malta         4.7    10344.1          17264     417432\n",
       "22          Poland         6.2   426547.5          10865   38044565\n",
       "23        Portugal        11.2   186480.5          10805   10562178\n",
       "25        Slovakia         9.7    81226.1          10466    5397036\n",
       "26        Slovenia         8.0    40357.2          15250    2050189\n",
       "27           Spain        19.6  1118743.0          15347   46815910\n",
       "31  United Kingdom         4.8  2403382.6          17296   63182180"
      ],
      "text/html": "<div>\n<style scoped>\n    .dataframe tbody tr th:only-of-type {\n        vertical-align: middle;\n    }\n\n    .dataframe tbody tr th {\n        vertical-align: top;\n    }\n\n    .dataframe thead th {\n        text-align: right;\n    }\n</style>\n<table border=\"1\" class=\"dataframe\">\n  <thead>\n    <tr style=\"text-align: right;\">\n      <th></th>\n      <th>country</th>\n      <th>unemp_rate</th>\n      <th>gdp</th>\n      <th>median_income</th>\n      <th>total_pop</th>\n    </tr>\n  </thead>\n  <tbody>\n    <tr>\n      <th>4</th>\n      <td>Cyprus</td>\n      <td>13.0</td>\n      <td>18490.2</td>\n      <td>16173</td>\n      <td>840407</td>\n    </tr>\n    <tr>\n      <th>5</th>\n      <td>Czechia</td>\n      <td>4.0</td>\n      <td>176370.1</td>\n      <td>12478</td>\n      <td>10436560</td>\n    </tr>\n    <tr>\n      <th>7</th>\n      <td>Estonia</td>\n      <td>6.8</td>\n      <td>21682.6</td>\n      <td>11867</td>\n      <td>1294455</td>\n    </tr>\n    <tr>\n      <th>8</th>\n      <td>Finland</td>\n      <td>8.8</td>\n      <td>216073.0</td>\n      <td>19997</td>\n      <td>5375276</td>\n    </tr>\n    <tr>\n      <th>14</th>\n      <td>Ireland</td>\n      <td>8.4</td>\n      <td>273238.2</td>\n      <td>18286</td>\n      <td>4574888</td>\n    </tr>\n    <tr>\n      <th>15</th>\n      <td>Italy</td>\n      <td>11.7</td>\n      <td>1689824.0</td>\n      <td>16237</td>\n      <td>59433744</td>\n    </tr>\n    <tr>\n      <th>19</th>\n      <td>Malta</td>\n      <td>4.7</td>\n      <td>10344.1</td>\n      <td>17264</td>\n      <td>417432</td>\n    </tr>\n    <tr>\n      <th>22</th>\n      <td>Poland</td>\n      <td>6.2</td>\n      <td>426547.5</td>\n      <td>10865</td>\n      <td>38044565</td>\n    </tr>\n    <tr>\n      <th>23</th>\n      <td>Portugal</td>\n      <td>11.2</td>\n      <td>186480.5</td>\n      <td>10805</td>\n      <td>10562178</td>\n    </tr>\n    <tr>\n      <th>25</th>\n      <td>Slovakia</td>\n      <td>9.7</td>\n      <td>81226.1</td>\n      <td>10466</td>\n      <td>5397036</td>\n    </tr>\n    <tr>\n      <th>26</th>\n      <td>Slovenia</td>\n      <td>8.0</td>\n      <td>40357.2</td>\n      <td>15250</td>\n      <td>2050189</td>\n    </tr>\n    <tr>\n      <th>27</th>\n      <td>Spain</td>\n      <td>19.6</td>\n      <td>1118743.0</td>\n      <td>15347</td>\n      <td>46815910</td>\n    </tr>\n    <tr>\n      <th>31</th>\n      <td>United Kingdom</td>\n      <td>4.8</td>\n      <td>2403382.6</td>\n      <td>17296</td>\n      <td>63182180</td>\n    </tr>\n  </tbody>\n</table>\n</div>"
     },
     "metadata": {},
     "execution_count": 63
    }
   ],
   "source": [
    "# Create a bool series from the df that combines these two conditions\n",
    "income_query = (eur_data_final['median_income'] > 10_000) & (eur_data_final['median_income'].mean() < 20_000)\n",
    "eur_data_final[income_query]"
   ]
  },
  {
   "cell_type": "code",
   "execution_count": 51,
   "metadata": {},
   "outputs": [
    {
     "output_type": "execute_result",
     "data": {
      "text/plain": [
       "           country  unemp_rate        gdp  median_income  total_pop\n",
       "4           Cyprus        13.0    18490.2          16173     840407\n",
       "5          Czechia         4.0   176370.1          12478   10436560\n",
       "7          Estonia         6.8    21682.6          11867    1294455\n",
       "8          Finland         8.8   216073.0          19997    5375276\n",
       "14         Ireland         8.4   273238.2          18286    4574888\n",
       "15           Italy        11.7  1689824.0          16237   59433744\n",
       "19           Malta         4.7    10344.1          17264     417432\n",
       "22          Poland         6.2   426547.5          10865   38044565\n",
       "23        Portugal        11.2   186480.5          10805   10562178\n",
       "25        Slovakia         9.7    81226.1          10466    5397036\n",
       "26        Slovenia         8.0    40357.2          15250    2050189\n",
       "27           Spain        19.6  1118743.0          15347   46815910\n",
       "31  United Kingdom         4.8  2403382.6          17296   63182180"
      ],
      "text/html": "<div>\n<style scoped>\n    .dataframe tbody tr th:only-of-type {\n        vertical-align: middle;\n    }\n\n    .dataframe tbody tr th {\n        vertical-align: top;\n    }\n\n    .dataframe thead th {\n        text-align: right;\n    }\n</style>\n<table border=\"1\" class=\"dataframe\">\n  <thead>\n    <tr style=\"text-align: right;\">\n      <th></th>\n      <th>country</th>\n      <th>unemp_rate</th>\n      <th>gdp</th>\n      <th>median_income</th>\n      <th>total_pop</th>\n    </tr>\n  </thead>\n  <tbody>\n    <tr>\n      <th>4</th>\n      <td>Cyprus</td>\n      <td>13.0</td>\n      <td>18490.2</td>\n      <td>16173</td>\n      <td>840407</td>\n    </tr>\n    <tr>\n      <th>5</th>\n      <td>Czechia</td>\n      <td>4.0</td>\n      <td>176370.1</td>\n      <td>12478</td>\n      <td>10436560</td>\n    </tr>\n    <tr>\n      <th>7</th>\n      <td>Estonia</td>\n      <td>6.8</td>\n      <td>21682.6</td>\n      <td>11867</td>\n      <td>1294455</td>\n    </tr>\n    <tr>\n      <th>8</th>\n      <td>Finland</td>\n      <td>8.8</td>\n      <td>216073.0</td>\n      <td>19997</td>\n      <td>5375276</td>\n    </tr>\n    <tr>\n      <th>14</th>\n      <td>Ireland</td>\n      <td>8.4</td>\n      <td>273238.2</td>\n      <td>18286</td>\n      <td>4574888</td>\n    </tr>\n    <tr>\n      <th>15</th>\n      <td>Italy</td>\n      <td>11.7</td>\n      <td>1689824.0</td>\n      <td>16237</td>\n      <td>59433744</td>\n    </tr>\n    <tr>\n      <th>19</th>\n      <td>Malta</td>\n      <td>4.7</td>\n      <td>10344.1</td>\n      <td>17264</td>\n      <td>417432</td>\n    </tr>\n    <tr>\n      <th>22</th>\n      <td>Poland</td>\n      <td>6.2</td>\n      <td>426547.5</td>\n      <td>10865</td>\n      <td>38044565</td>\n    </tr>\n    <tr>\n      <th>23</th>\n      <td>Portugal</td>\n      <td>11.2</td>\n      <td>186480.5</td>\n      <td>10805</td>\n      <td>10562178</td>\n    </tr>\n    <tr>\n      <th>25</th>\n      <td>Slovakia</td>\n      <td>9.7</td>\n      <td>81226.1</td>\n      <td>10466</td>\n      <td>5397036</td>\n    </tr>\n    <tr>\n      <th>26</th>\n      <td>Slovenia</td>\n      <td>8.0</td>\n      <td>40357.2</td>\n      <td>15250</td>\n      <td>2050189</td>\n    </tr>\n    <tr>\n      <th>27</th>\n      <td>Spain</td>\n      <td>19.6</td>\n      <td>1118743.0</td>\n      <td>15347</td>\n      <td>46815910</td>\n    </tr>\n    <tr>\n      <th>31</th>\n      <td>United Kingdom</td>\n      <td>4.8</td>\n      <td>2403382.6</td>\n      <td>17296</td>\n      <td>63182180</td>\n    </tr>\n  </tbody>\n</table>\n</div>"
     },
     "metadata": {},
     "execution_count": 51
    }
   ],
   "source": [
    "# Alternative, using .between()\n",
    "income_query_alt = eur_data_final.median_income.between(10_000, 20_000, inclusive=True)\n",
    "eur_data_final[income_query_alt]"
   ]
  }
 ]
}