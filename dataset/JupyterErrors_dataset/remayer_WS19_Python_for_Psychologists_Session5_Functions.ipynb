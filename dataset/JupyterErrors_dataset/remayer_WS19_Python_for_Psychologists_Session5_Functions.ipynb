{
 "cells": [
  {
   "cell_type": "markdown",
   "metadata": {},
   "source": [
    "# Python for Psychologists - Session 5\n",
    "## Functions"
   ]
  },
  {
   "cell_type": "markdown",
   "metadata": {},
   "source": [
    "### Function definition and return values\n",
    "\n",
    "We have already met functions like `len()` or `print()`. A function usually *does* something. The elements we pass to it are called *parameters* or *arguments*. Luckily, we are not dependent on Python providing exactly those functions we need. We can built our own functions! The syntax is very simple:\n",
    "\n",
    "```python\n",
    "def function_name(argument1, argument2):\n",
    "        # stuff I want \n",
    "        # the function \n",
    "        # to do\n",
    "        return some_output # optional; see below...\n",
    "```\n",
    "\n",
    "The indentation (with tab) is, again, very important! \n",
    "\n",
    "Let's define a (rather useless) function that simply returns its input value."
   ]
  },
  {
   "cell_type": "code",
   "execution_count": 6,
   "metadata": {},
   "outputs": [
    {
     "data": {
      "text/plain": [
       "'I have been returned by the function!'"
      ]
     },
     "execution_count": 6,
     "metadata": {},
     "output_type": "execute_result"
    }
   ],
   "source": [
    "def returner(some_input):\n",
    "    return some_input\n",
    "\n",
    "returner(\"I have been returned by the function!\")"
   ]
  },
  {
   "cell_type": "markdown",
   "metadata": {},
   "source": [
    "Define a function that adds its two arguments. Call the function \"adder\"."
   ]
  },
  {
   "cell_type": "code",
   "execution_count": 1,
   "metadata": {
    "collapsed": true
   },
   "outputs": [],
   "source": [
    "def adder(summand1, summand2):\n",
    "    result = summand1 + summand2\n",
    "    return result"
   ]
  },
  {
   "cell_type": "code",
   "execution_count": 2,
   "metadata": {},
   "outputs": [
    {
     "data": {
      "text/plain": [
       "4"
      ]
     },
     "execution_count": 2,
     "metadata": {},
     "output_type": "execute_result"
    }
   ],
   "source": [
    "adder(1,3)"
   ]
  },
  {
   "cell_type": "markdown",
   "metadata": {},
   "source": [
    "Let's see what happens if we comment out the last line (removing the `return()` command). "
   ]
  },
  {
   "cell_type": "code",
   "execution_count": 3,
   "metadata": {
    "collapsed": true
   },
   "outputs": [],
   "source": [
    "def adder(summand1, summand2):\n",
    "    result = summand1+summand2\n",
    "    # return result"
   ]
  },
  {
   "cell_type": "code",
   "execution_count": 4,
   "metadata": {
    "collapsed": true
   },
   "outputs": [],
   "source": [
    "adder(1,3)"
   ]
  },
  {
   "cell_type": "markdown",
   "metadata": {},
   "source": [
    "Apparently nothing! Although, internally, the variable \"result\" has been created, we have no access to it, because we didn't ask the function to return it to us. \n",
    "\n",
    "If a function returns something, hence, depends on how it has been defined. We already know two functions that do the same thing with one major difference being that one of them returns something and the other one does not:\n",
    "*my_list.pop()* and *my_list.remove()*\n",
    "\n",
    "Of course, we also know that the `pop()` function uses the index of the element, while `remove()` expects the content if what is to be removed. Let's ignore this difference for a second and concentrate on whether the functions return something or not.\n",
    "\n",
    "Let's take a look at this again. \n",
    "In one cell, create a list with numbers from 0 to 4 and use the `pop()` function to delete the second element from the list.\n",
    "In a second cell, look at \"my_list\" again. \n",
    "\n",
    "Then, in yet another cell, create the same list again and use the `remove()` function to remove the element with the value 1. Again, in a second cell, take a look at \"my_list\" again."
   ]
  },
  {
   "cell_type": "code",
   "execution_count": 5,
   "metadata": {},
   "outputs": [
    {
     "data": {
      "text/plain": [
       "1"
      ]
     },
     "execution_count": 5,
     "metadata": {},
     "output_type": "execute_result"
    }
   ],
   "source": [
    "my_list=[0,1,2,3,4,5]\n",
    "my_list.pop(1)"
   ]
  },
  {
   "cell_type": "code",
   "execution_count": 6,
   "metadata": {},
   "outputs": [
    {
     "data": {
      "text/plain": [
       "[0, 2, 3, 4, 5]"
      ]
     },
     "execution_count": 6,
     "metadata": {},
     "output_type": "execute_result"
    }
   ],
   "source": [
    "my_list"
   ]
  },
  {
   "cell_type": "code",
   "execution_count": 7,
   "metadata": {
    "collapsed": true
   },
   "outputs": [],
   "source": [
    "my_list=[0,1,2,3,4,5]\n",
    "my_list.remove(1)"
   ]
  },
  {
   "cell_type": "code",
   "execution_count": 8,
   "metadata": {},
   "outputs": [
    {
     "data": {
      "text/plain": [
       "[0, 2, 3, 4, 5]"
      ]
     },
     "execution_count": 8,
     "metadata": {},
     "output_type": "execute_result"
    }
   ],
   "source": [
    "my_list"
   ]
  },
  {
   "cell_type": "markdown",
   "metadata": {},
   "source": [
    "What have we observed? Although only the `pop()` function returned a value (which in this case was the the value stored at the second position), *both functions did the exact same thing* independent of whether they had a return value or not."
   ]
  },
  {
   "cell_type": "markdown",
   "metadata": {},
   "source": [
    "Another way of accessing a value from within a function is to use the `print()` function. However, when using `print()` we won't be able to assign the result to a new variable as the print-function simply prints the result to the output line. Copy the function \"adder\" from above and replace the \"return...\" line by a line that prints the result to the console/out cell."
   ]
  },
  {
   "cell_type": "code",
   "execution_count": 9,
   "metadata": {
    "collapsed": true
   },
   "outputs": [],
   "source": [
    "def adder(summand1, summand2):\n",
    "    result = summand1+summand2\n",
    "    print(result)"
   ]
  },
  {
   "cell_type": "code",
   "execution_count": 10,
   "metadata": {},
   "outputs": [
    {
     "name": "stdout",
     "output_type": "stream",
     "text": [
      "4\n"
     ]
    }
   ],
   "source": [
    "adder(1,3)"
   ]
  },
  {
   "cell_type": "markdown",
   "metadata": {},
   "source": [
    "### Keyword arguments and default values\n",
    "\n",
    "By setting default values, we can call functions without further specification of (some of) its parameters. We can add a default value to a function parameter like this:\n",
    "\n",
    "```python\n",
    "def some_function(argument1 = \"default_value\"):\n",
    "    # something the \n",
    "    # function should\n",
    "    # be doing\n",
    "    return something # optional\n",
    "```\n",
    "\n",
    "Like this, the function above needs no parameters passed to it and will work anyway, simply because we have given to it some value to work with in the definition.\n",
    "\n",
    "Try to define a function that takes a number and subtracts 5 from it. If asked to, the function can also subtract some other user-defined number. Give the function the name \"subtractor\". Then try the function without giving any further specification of the number being subtracted. Afterwards also try to modify the number subtracted from the input number when calling the function."
   ]
  },
  {
   "cell_type": "code",
   "execution_count": 39,
   "metadata": {
    "collapsed": true
   },
   "outputs": [],
   "source": [
    "def subtractor(minuend, subtrahend = 5):\n",
    "    return minuend - subtrahend"
   ]
  },
  {
   "cell_type": "code",
   "execution_count": 36,
   "metadata": {},
   "outputs": [
    {
     "data": {
      "text/plain": [
       "5"
      ]
     },
     "execution_count": 36,
     "metadata": {},
     "output_type": "execute_result"
    }
   ],
   "source": [
    "subtractor(10)"
   ]
  },
  {
   "cell_type": "code",
   "execution_count": 40,
   "metadata": {},
   "outputs": [
    {
     "data": {
      "text/plain": [
       "8"
      ]
     },
     "execution_count": 40,
     "metadata": {},
     "output_type": "execute_result"
    }
   ],
   "source": [
    "subtractor(10,2)"
   ]
  },
  {
   "cell_type": "markdown",
   "metadata": {},
   "source": [
    "In the \"subtractor\" function above we had to enter the minuend and the subtrahend values in a certain order that corresponded to the order of the arguments given to the function during definition. Instead of passing arguments solely by their **position** they can also be passed by **keywords**, or by a mixture of both:\n",
    "\n",
    "```python\n",
    "def some_function(arg1, arg2, arg3):\n",
    "    return arg1+arg2+arg3\n",
    "\n",
    "some_function(value_arg1, arg3 = value_arg3, arg2 = value_arg2) \n",
    "\n",
    "```\n",
    "\n",
    "\n",
    "In the code line above, the function `some_function()` was called with a positional argument, and then two keyword arguments. \n",
    "\n",
    "Take the subtractor function and pass it two keyword arguments in a different order than defined (i.e., first pass the keyword argument for the subtrahend, then pass the keyword argument for the minuend)."
   ]
  },
  {
   "cell_type": "code",
   "execution_count": 42,
   "metadata": {},
   "outputs": [
    {
     "data": {
      "text/plain": [
       "7"
      ]
     },
     "execution_count": 42,
     "metadata": {},
     "output_type": "execute_result"
    }
   ],
   "source": [
    "subtractor(subtrahend = 3, minuend = 10)"
   ]
  },
  {
   "cell_type": "markdown",
   "metadata": {},
   "source": [
    "### Local and global variables\n",
    "\n",
    "Variable that have been defined inside a function are so called \"local variables\". \"Local\" refers to the fact, that variables that have been defined inside a function cannot be accessed from \"outside\", i.e., from the main part of the script outside the function definition. Let's illustrate this. Use your `adder()` function with two random integer inputs. Look at the function definition again. As you can see we defined a variable \"return\" inside the function. After execution of the function, however, we won't be able to access the variable \"result\". Try this! "
   ]
  },
  {
   "cell_type": "code",
   "execution_count": 4,
   "metadata": {
    "scrolled": true
   },
   "outputs": [
    {
     "ename": "NameError",
     "evalue": "name 'result' is not defined",
     "output_type": "error",
     "traceback": [
      "\u001b[0;31m---------------------------------------------------------------------------\u001b[0m",
      "\u001b[0;31mNameError\u001b[0m                                 Traceback (most recent call last)",
      "\u001b[0;32m<ipython-input-4-0ac921c19f1a>\u001b[0m in \u001b[0;36m<module>\u001b[0;34m\u001b[0m\n\u001b[0;32m----> 1\u001b[0;31m \u001b[0mresult\u001b[0m\u001b[0;34m\u001b[0m\u001b[0;34m\u001b[0m\u001b[0m\n\u001b[0m",
      "\u001b[0;31mNameError\u001b[0m: name 'result' is not defined"
     ]
    }
   ],
   "source": [
    "result"
   ]
  },
  {
   "cell_type": "markdown",
   "metadata": {},
   "source": [
    "As you can see, there is no variable called `return` on the global level that we could access from outside the function. The only thing that `return` does for us is to return the *value* of the variable `result`, however, it doesn't return the object/variable per se. \n",
    "\n",
    "In principle, it is possible to define and change global variable inside a function definition for them to be accessible outside the function again. The keyword for this is `global`:\n",
    "\n",
    "```python\n",
    "def fun():\n",
    "    global some_global_variable_name\n",
    "    # do something\n",
    "```\n",
    "\n",
    "Define a function that creates a global variable with some string value. Outside the function definition, call the function and then try to access the global variable name again."
   ]
  },
  {
   "cell_type": "code",
   "execution_count": 18,
   "metadata": {},
   "outputs": [
    {
     "name": "stdout",
     "output_type": "stream",
     "text": [
      "I'm a global variable defined inside a function!\n"
     ]
    }
   ],
   "source": [
    "# function definition\n",
    "def func():  \n",
    "    global y\n",
    "    y = \"I'm a global variable defined inside a function!\"\n",
    "\n",
    "# This is now happening outside the function definition\n",
    "func() \n",
    "print(y) "
   ]
  },
  {
   "cell_type": "markdown",
   "metadata": {},
   "source": [
    "Of course, using a global variable inside a function by passing it as an argument works pretty well, as we have seen before. Interestingly, Python will also make use of global variables if a function uses a variable name but is not given any explicit input. Look at this example:"
   ]
  },
  {
   "cell_type": "code",
   "execution_count": 43,
   "metadata": {},
   "outputs": [
    {
     "name": "stdout",
     "output_type": "stream",
     "text": [
      "I'm a global variable\n"
     ]
    }
   ],
   "source": [
    "s = \"I'm a global variable\"\n",
    "\n",
    "def function():\n",
    "    print(s) # s is used inside this function without having been defined inside of it\n",
    "    \n",
    "function()"
   ]
  },
  {
   "cell_type": "markdown",
   "metadata": {},
   "source": [
    "If we now change the variable inside the function, Python will conceptualize `s` as a local variable again. The global variable will not be changed by this (if we wanted to do that we would have had to use `global` again)."
   ]
  },
  {
   "cell_type": "code",
   "execution_count": 22,
   "metadata": {},
   "outputs": [
    {
     "name": "stdout",
     "output_type": "stream",
     "text": [
      "I'm also called s, but I am only used locally inside this function.\n",
      "I'm a global variable\n"
     ]
    }
   ],
   "source": [
    "s = \"I'm a global variable\"\n",
    "\n",
    "def function():\n",
    "    s = \"I'm also called s, but I am only used locally inside this function.\"\n",
    "    print(s)\n",
    "\n",
    "function()\n",
    "print(s)"
   ]
  },
  {
   "cell_type": "markdown",
   "metadata": {},
   "source": [
    "### In-class exercises"
   ]
  },
  {
   "cell_type": "markdown",
   "metadata": {},
   "source": [
    "**Exercise 1.**\n",
    "\n",
    "Write a function that returns an input string 4 times. "
   ]
  },
  {
   "cell_type": "code",
   "execution_count": 28,
   "metadata": {},
   "outputs": [
    {
     "data": {
      "text/plain": [
       "'hello World hello World hello World hello World '"
      ]
     },
     "execution_count": 28,
     "metadata": {},
     "output_type": "execute_result"
    }
   ],
   "source": [
    "def echo(some_string):\n",
    "    return some_string*4\n",
    "\n",
    "echo(\"hello World \")"
   ]
  },
  {
   "cell_type": "markdown",
   "metadata": {},
   "source": [
    "**Exercise 2.**\n",
    "\n",
    "Write a function that takes an integer as input and returns the squared integer."
   ]
  },
  {
   "cell_type": "code",
   "execution_count": 56,
   "metadata": {},
   "outputs": [
    {
     "data": {
      "text/plain": [
       "144"
      ]
     },
     "execution_count": 56,
     "metadata": {},
     "output_type": "execute_result"
    }
   ],
   "source": [
    "def square(some_integer):\n",
    "    return some_integer*some_integer\n",
    "\n",
    "square(12)"
   ]
  },
  {
   "cell_type": "markdown",
   "metadata": {},
   "source": [
    "**Exercise 3.**\n",
    "\n",
    "Write a function that accepts an integer as well as another integer number (keyword: \"power\") and that returns the first integer to the power of the second integer. Make a power of 2 the default value. Afterwards use the function to calculate `3**2` and `3**4`."
   ]
  },
  {
   "cell_type": "code",
   "execution_count": 5,
   "metadata": {},
   "outputs": [
    {
     "name": "stdout",
     "output_type": "stream",
     "text": [
      "9\n",
      "81\n"
     ]
    }
   ],
   "source": [
    "def to_the_power(value, power=2):\n",
    "    return value**power\n",
    "\n",
    "print(to_the_power(value=3, power=2))\n",
    "print(to_the_power(value=3, power=4))"
   ]
  },
  {
   "cell_type": "markdown",
   "metadata": {},
   "source": [
    "**Exercise 4.**\n",
    "\n",
    "Write a function that accepts a list of elements and checks if the length of each list element is equal or longer than 4. If an element has 4 or more letters, let your function print the element + a string saying *has more than 4 letters* "
   ]
  },
  {
   "cell_type": "code",
   "execution_count": 48,
   "metadata": {},
   "outputs": [
    {
     "name": "stdout",
     "output_type": "stream",
     "text": [
      "butter has more than 4 letters\n",
      "sahne has more than 4 letters\n",
      "afrika has more than 4 letters\n"
     ]
    }
   ],
   "source": [
    "def longer_than(some_list):\n",
    "    for i in some_list:\n",
    "        if len(i) >= 4:\n",
    "            print(i + \" has more than 4 letters\")\n",
    "        \n",
    "longer_than([\"eis\", \"butter\", \"sahne\", \"afrika\"])        "
   ]
  },
  {
   "cell_type": "markdown",
   "metadata": {},
   "source": [
    "**Exercise 5.**\n",
    "\n",
    "Write a function that accepts one input (a string) and returns the reversed string (e.g., turing \"hello\" to \"olleh\"). Hint: you can use *slicing* not only with a start and a stop value but also with step sizes similar as in the `range()` function."
   ]
  },
  {
   "cell_type": "code",
   "execution_count": 6,
   "metadata": {},
   "outputs": [
    {
     "name": "stdout",
     "output_type": "stream",
     "text": [
      "olleh\n",
      "retto\n"
     ]
    }
   ],
   "source": [
    "def reverse_string(some_string):\n",
    "    return some_string[::-1]\n",
    "print(reverse_string(\"hello\"))\n",
    "print(reverse_string(\"otter\"))"
   ]
  },
  {
   "cell_type": "markdown",
   "metadata": {},
   "source": [
    "**Exercise 6.**\n",
    "Write a function that multiplies all numbers in an input list and returns the resulting number. Use a for loop inside the function."
   ]
  },
  {
   "cell_type": "code",
   "execution_count": 10,
   "metadata": {},
   "outputs": [
    {
     "data": {
      "text/plain": [
       "144"
      ]
     },
     "execution_count": 10,
     "metadata": {},
     "output_type": "execute_result"
    }
   ],
   "source": [
    "def multiplier(list_of_integers):\n",
    "    result = 1\n",
    "    for number in list_of_integers:\n",
    "        result *= number\n",
    "    return result\n",
    "\n",
    "multiplier([4,3,2,3,2])"
   ]
  },
  {
   "cell_type": "markdown",
   "metadata": {},
   "source": [
    "**Exercise 7**\n",
    "\n",
    "Write a function that accepts a list of integers as an input and returns a list of the even numbers in the list only. Use a list comprehension.\n",
    "\n",
    "Hint: Even and uneven numbers can be identified by calculating the modulo. The modulo returns the remainder of a Euclidean division (i.e., a division with remainder). For example, the modulo of `7 mod 3` (the integer division of 7 by 3) would be 1, because `3 * 2 = 6` which leaves 1. At the same time, `9 mod 3` will result in 0, as `3 * 3 = 9` and there is no remainder of the integer division. If a number is even, then `X mod 2` will result in 0, but it won't for uneven numbers. In Python, the modulo operation can be written as `x % 2`, that is `%` is the modulo operator. "
   ]
  },
  {
   "cell_type": "code",
   "execution_count": 14,
   "metadata": {},
   "outputs": [
    {
     "data": {
      "text/plain": [
       "[2, 4, 30]"
      ]
     },
     "execution_count": 14,
     "metadata": {},
     "output_type": "execute_result"
    }
   ],
   "source": [
    "def even_only(list_of_numbers):\n",
    "    result = [x for x in list_of_numbers if x % 2 == 0]\n",
    "    return result\n",
    "\n",
    "even_only([2,4,3,3,9,13,33,21,30])"
   ]
  },
  {
   "cell_type": "markdown",
   "metadata": {},
   "source": [
    "### Recursive functions\n",
    "\n",
    "Recursive functions are functions that call themselves. This might sound a bit weird at the beginning, but hopefully this makes sense, soon. \n",
    "\n",
    "Think of a function that calculates the factorial of an integer. For example, to calculate the factorial of the number 5, the function would have to calculate `1*2*3*4*5` (which is 120).\n",
    "\n",
    "Such a function could look like this:"
   ]
  },
  {
   "cell_type": "code",
   "execution_count": 83,
   "metadata": {
    "collapsed": true
   },
   "outputs": [],
   "source": [
    "def fact_calc(x):\n",
    "    if x == 1:\n",
    "        return 1\n",
    "    else:\n",
    "        result = x*fact_calc(x-1)\n",
    "        return result"
   ]
  },
  {
   "cell_type": "code",
   "execution_count": 84,
   "metadata": {},
   "outputs": [
    {
     "data": {
      "text/plain": [
       "24"
      ]
     },
     "execution_count": 84,
     "metadata": {},
     "output_type": "execute_result"
    }
   ],
   "source": [
    "fact_calc(4)"
   ]
  },
  {
   "cell_type": "markdown",
   "metadata": {},
   "source": [
    "Looks like this works. But what happened? What did the function do? Let's change the function a little bit."
   ]
  },
  {
   "cell_type": "code",
   "execution_count": 87,
   "metadata": {
    "collapsed": true
   },
   "outputs": [],
   "source": [
    "def fact_calc(x):\n",
    "    if x == 1:\n",
    "        result = 1\n",
    "        print(result)\n",
    "        return result\n",
    "        \n",
    "    else:\n",
    "        result = x*fact_calc(x-1)\n",
    "        print(result)\n",
    "        return result"
   ]
  },
  {
   "cell_type": "code",
   "execution_count": 88,
   "metadata": {},
   "outputs": [
    {
     "name": "stdout",
     "output_type": "stream",
     "text": [
      "1\n",
      "2\n",
      "6\n",
      "24\n"
     ]
    },
    {
     "data": {
      "text/plain": [
       "24"
      ]
     },
     "execution_count": 88,
     "metadata": {},
     "output_type": "execute_result"
    }
   ],
   "source": [
    "fact_calc(4)"
   ]
  },
  {
   "cell_type": "markdown",
   "metadata": {},
   "source": [
    "It is rather unlikely that you will face a problem that actually requires recursive functions. Anyway, now that you know what it is, maybe the knowledge will come in handy at some point. "
   ]
  },
  {
   "cell_type": "markdown",
   "metadata": {},
   "source": [
    "### In-class exercises"
   ]
  },
  {
   "cell_type": "markdown",
   "metadata": {},
   "source": [
    "**Exercise 4**.\n",
    "\n",
    "The Fibonacci sequence has starting values of 0 and 1 and generates its following elements by adding up the two antecedent numbers. Thus the first few Fibonacci numbers are:\n",
    "0, 1, 1, 2, 3, 5, 8, 13, 21, 34, 55, 89, ...\n",
    "\n",
    "Write a non-recursive function that gives you the n<sup>th</sup> Fibonacci number, that is, the function should take one argument (which will be n to indicate which position of the Fibonacci sequence should be fetched). Moreover, the function should have a return value (which will be the Fibonacci number of the requested position)."
   ]
  },
  {
   "cell_type": "code",
   "execution_count": 22,
   "metadata": {},
   "outputs": [
    {
     "data": {
      "text/plain": [
       "34"
      ]
     },
     "execution_count": 22,
     "metadata": {},
     "output_type": "execute_result"
    }
   ],
   "source": [
    "def fibonacci(position):\n",
    "    seq = [0, 1]\n",
    "    if position in [1,2]:\n",
    "        return seq[position-1]\n",
    "    else:\n",
    "        seq = [0, 1]\n",
    "        for i in range(position-2):\n",
    "            seq.append(seq[len(seq)-1] + seq[len(seq)-2])\n",
    "        return seq[position-1]\n",
    "        \n",
    "fibonacci(10)            "
   ]
  },
  {
   "cell_type": "markdown",
   "metadata": {},
   "source": [
    "**Exercise 5**.\n",
    "\n",
    "Now, write a recursive version of the Fibonacci-function we have just created."
   ]
  },
  {
   "cell_type": "code",
   "execution_count": 31,
   "metadata": {},
   "outputs": [
    {
     "data": {
      "text/plain": [
       "34"
      ]
     },
     "execution_count": 31,
     "metadata": {},
     "output_type": "execute_result"
    }
   ],
   "source": [
    "def fibonacci_r(position):\n",
    "    if position in [1,2]:\n",
    "        return position-1\n",
    "    else:\n",
    "        return fibonacci_r(position-1) + fibonacci_r(position-2)\n",
    "fibonacci_r(10)"
   ]
  },
  {
   "cell_type": "markdown",
   "metadata": {},
   "source": [
    "### Unlimited number of arguments\n",
    "\n",
    "If we want a function to be able to accept any number of arguments we can use `*args`. The name \"args\", by the way, is again variable and could be anything. Important is the preceding \"`*`\"."
   ]
  },
  {
   "cell_type": "code",
   "execution_count": 84,
   "metadata": {},
   "outputs": [
    {
     "data": {
      "text/plain": [
       "15"
      ]
     },
     "execution_count": 84,
     "metadata": {},
     "output_type": "execute_result"
    }
   ],
   "source": [
    "def new_adder(*args):\n",
    "    x = 0\n",
    "    for a in args:\n",
    "        x = x + a\n",
    "    return x\n",
    "\n",
    "new_adder(1,2,3,4,5)"
   ]
  },
  {
   "cell_type": "markdown",
   "metadata": {},
   "source": [
    "We can also allow for an unlimited number of keyword arguments:\n"
   ]
  },
  {
   "cell_type": "code",
   "execution_count": 88,
   "metadata": {},
   "outputs": [
    {
     "name": "stdout",
     "output_type": "stream",
     "text": [
      "otter = cutest\n",
      "dogs = extremely cute\n"
     ]
    }
   ],
   "source": [
    "def some_function(**kwargs):\n",
    "    for a, b in kwargs.items(): # kwargs is basically a dictionary\n",
    "        print(str(a) + \" = \" + str(b))\n",
    "    \n",
    "some_function(otter=\"cutest\", dogs=\"extremely cute\")"
   ]
  },
  {
   "cell_type": "markdown",
   "metadata": {},
   "source": [
    "### Lambda functions\n",
    "\n",
    "Lambda functions are so-called anonymous functions, that is, they are not defined as \"normal\" functions which we have dealt with so far. They can be directly assigned to a variable name. Lambda functions principally only take one argument, and the \"body\" of the function only takes very simple expressions (i.e., no for loops or anything like this are possible). Moreover, its result will be immediately evaluated. The syntax looks like this:\n",
    "\n",
    "```python\n",
    "some_function = lambda x: x*x # this function squares its input\n",
    "\n",
    "some_function(3) # this will return 9\n",
    "```\n",
    "\n"
   ]
  },
  {
   "cell_type": "code",
   "execution_count": 2,
   "metadata": {},
   "outputs": [
    {
     "data": {
      "text/plain": [
       "9"
      ]
     },
     "execution_count": 2,
     "metadata": {},
     "output_type": "execute_result"
    }
   ],
   "source": [
    "some_function = lambda x: x**2 # this function squares its input\n",
    "\n",
    "some_function(3) # this will return 9"
   ]
  }
 ],
 "metadata": {
  "kernelspec": {
   "display_name": "Python 3",
   "language": "python",
   "name": "python3"
  },
  "language_info": {
   "codemirror_mode": {
    "name": "ipython",
    "version": 3
   },
   "file_extension": ".py",
   "mimetype": "text/x-python",
   "name": "python",
   "nbconvert_exporter": "python",
   "pygments_lexer": "ipython3",
   "version": "3.5.4"
  }
 },
 "nbformat": 4,
 "nbformat_minor": 2
}
