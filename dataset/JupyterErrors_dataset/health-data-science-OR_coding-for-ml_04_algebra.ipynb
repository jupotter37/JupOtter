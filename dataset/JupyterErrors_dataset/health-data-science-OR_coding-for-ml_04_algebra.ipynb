{
 "cells": [
  {
   "cell_type": "code",
   "execution_count": 2,
   "id": "67968314",
   "metadata": {
    "tags": [
     "hide-input"
    ]
   },
   "outputs": [],
   "source": [
    "import numpy as np"
   ]
  },
  {
   "cell_type": "markdown",
   "id": "50a8e24a",
   "metadata": {},
   "source": [
    "# Array algebra\n",
    "\n",
    "'numpy' makes matrix algebra **very** easy (minimal code) and **fast**.  Consider two vectors, $x$ and $y$ and we wish to subtract $y$ from $x$.\n",
    "\n",
    "`numpy` code for this type of mathematical operation is extremely simple and readable."
   ]
  },
  {
   "cell_type": "code",
   "execution_count": 4,
   "id": "4f7c5186",
   "metadata": {},
   "outputs": [
    {
     "name": "stdout",
     "output_type": "stream",
     "text": [
      "[ 0 10 20 30]\n"
     ]
    }
   ],
   "source": [
    "x = np.array([10, 20, 30, 40])\n",
    "y = np.array([10, 10, 10, 10])\n",
    "\n",
    "z = x - y \n",
    "\n",
    "print(z)"
   ]
  },
  {
   "cell_type": "code",
   "execution_count": 5,
   "id": "f9246106",
   "metadata": {},
   "outputs": [
    {
     "name": "stdout",
     "output_type": "stream",
     "text": [
      "[ 225  625 1225 2025]\n"
     ]
    }
   ],
   "source": [
    "x = np.array([10, 20, 30, 40], dtype=np.int64)\n",
    "y = x + 5\n",
    "z = y ** 2\n",
    "\n",
    "print(z)"
   ]
  },
  {
   "cell_type": "markdown",
   "id": "f8fd557f",
   "metadata": {},
   "source": [
    "## Broadcasting\n",
    "\n",
    "We have already seen that `numpy` can elegantly handle an element wise addition using the following syntax:\n",
    "\n",
    "```python\n",
    "x = np.array([10, 20, 30, 40])\n",
    "y = x + 5\n",
    "```\n",
    "\n",
    "`numpy` achieves this via a technique called [**broadcasting**](https://numpy.org/doc/stable/user/basics.broadcasting.html).  In effect `numpy` stretched the scalar value `5` into an array with dimensions compatable with `x`:\n",
    "\n",
    "```python\n",
    "x = np.array([10, 20, 30, 40])\n",
    "y = x + np.array([5, 5, 5, 5])\n",
    "```"
   ]
  },
  {
   "cell_type": "code",
   "execution_count": 10,
   "id": "debd6491",
   "metadata": {},
   "outputs": [
    {
     "data": {
      "text/plain": [
       "array([15, 25, 35, 45])"
      ]
     },
     "execution_count": 10,
     "metadata": {},
     "output_type": "execute_result"
    }
   ],
   "source": [
    "x = np.array([10, 20, 30, 40])\n",
    "y = x + np.array([5, 5, 5, 5])\n",
    "y"
   ]
  },
  {
   "cell_type": "markdown",
   "id": "207ca425",
   "metadata": {},
   "source": [
    "Broadcasting works for different sized arrays a well as scalars. The `numpy` [docs](https://numpy.org/devdocs/user/theory.broadcasting.html) specifies the following broad casting rule:\n",
    "\n",
    "\"*In order to broadcast, the size of the trailing axes for both arrays in an operation must either be the same size or one of them must be one.*\"\n",
    "\n",
    "We have already seen an example where the trailing axes is one above.  Here's a more complex example:"
   ]
  },
  {
   "cell_type": "code",
   "execution_count": 14,
   "id": "58abb9e8",
   "metadata": {},
   "outputs": [
    {
     "data": {
      "text/plain": [
       "array([[ 1,  3,  5],\n",
       "       [ 4,  6,  8],\n",
       "       [ 7,  9, 11],\n",
       "       [10, 12, 14]])"
      ]
     },
     "execution_count": 14,
     "metadata": {},
     "output_type": "execute_result"
    }
   ],
   "source": [
    "a = np.array([[ 0,  1,  2],\n",
    "              [ 3,  4,  5],\n",
    "              [ 6,  7,  8],\n",
    "              [ 9, 10, 11]])\n",
    "\n",
    "b = np.array([1,  2, 3])\n",
    "\n",
    "a + b"
   ]
  },
  {
   "cell_type": "markdown",
   "id": "61290e9c",
   "metadata": {},
   "source": [
    "This is equivalent to the following matrix addition where b is **stretched**"
   ]
  },
  {
   "cell_type": "code",
   "execution_count": 15,
   "id": "aebf9512",
   "metadata": {},
   "outputs": [
    {
     "data": {
      "text/plain": [
       "array([[ 1,  3,  5],\n",
       "       [ 4,  6,  8],\n",
       "       [ 7,  9, 11],\n",
       "       [10, 12, 14]])"
      ]
     },
     "execution_count": 15,
     "metadata": {},
     "output_type": "execute_result"
    }
   ],
   "source": [
    "a = np.array([[ 0,  1,  2],\n",
    "              [ 3,  4,  5],\n",
    "              [ 6,  7,  8],\n",
    "              [ 9, 10, 11]])\n",
    "\n",
    "b = np.array([[ 1,  2,  3],\n",
    "              [ 1,  2,  3],\n",
    "              [ 1,  2,  3],\n",
    "              [ 1,  2,  3]])\n",
    "\n",
    "a + b"
   ]
  },
  {
   "cell_type": "markdown",
   "id": "5c6cb844",
   "metadata": {},
   "source": [
    "Note that we were able to broadcast in this instance because of the dimensions of the arrays"
   ]
  },
  {
   "cell_type": "code",
   "execution_count": 17,
   "id": "0bd0d396",
   "metadata": {},
   "outputs": [
    {
     "name": "stdout",
     "output_type": "stream",
     "text": [
      "(4, 3)\n",
      "(3,)\n"
     ]
    }
   ],
   "source": [
    "a = np.array([[ 0,  1,  2],\n",
    "              [ 3,  4,  5],\n",
    "              [ 6,  7,  8],\n",
    "              [ 9, 10, 11]])\n",
    "\n",
    "b = np.array([1, 2, 3])\n",
    "\n",
    "print(a.shape)\n",
    "print(b.shape)"
   ]
  },
  {
   "cell_type": "markdown",
   "id": "cfdf8f6e",
   "metadata": {},
   "source": [
    "We can break `numpy` broadcasting rules if, for example, `b` were a lost a column."
   ]
  },
  {
   "cell_type": "code",
   "execution_count": 20,
   "id": "b4bd81e6",
   "metadata": {},
   "outputs": [
    {
     "name": "stdout",
     "output_type": "stream",
     "text": [
      "(4, 3)\n",
      "(2,)\n"
     ]
    },
    {
     "ename": "ValueError",
     "evalue": "operands could not be broadcast together with shapes (4,3) (2,) ",
     "output_type": "error",
     "traceback": [
      "\u001b[0;31m---------------------------------------------------------------------------\u001b[0m",
      "\u001b[0;31mValueError\u001b[0m                                Traceback (most recent call last)",
      "\u001b[0;32m<ipython-input-20-bc2a4615e61a>\u001b[0m in \u001b[0;36m<module>\u001b[0;34m\u001b[0m\n\u001b[1;32m      9\u001b[0m \u001b[0mprint\u001b[0m\u001b[0;34m(\u001b[0m\u001b[0mb\u001b[0m\u001b[0;34m.\u001b[0m\u001b[0mshape\u001b[0m\u001b[0;34m)\u001b[0m\u001b[0;34m\u001b[0m\u001b[0;34m\u001b[0m\u001b[0m\n\u001b[1;32m     10\u001b[0m \u001b[0;34m\u001b[0m\u001b[0m\n\u001b[0;32m---> 11\u001b[0;31m \u001b[0ma\u001b[0m \u001b[0;34m+\u001b[0m \u001b[0mb\u001b[0m\u001b[0;34m\u001b[0m\u001b[0;34m\u001b[0m\u001b[0m\n\u001b[0m",
      "\u001b[0;31mValueError\u001b[0m: operands could not be broadcast together with shapes (4,3) (2,) "
     ]
    }
   ],
   "source": [
    "a = np.array([[ 0,  1,  2],\n",
    "              [ 3,  4,  5],\n",
    "              [ 6,  7,  8],\n",
    "              [ 9, 10, 11]])\n",
    "\n",
    "b = np.array([1, 2])\n",
    "\n",
    "print(a.shape)\n",
    "print(b.shape)\n",
    "\n",
    "a + b"
   ]
  }
 ],
 "metadata": {
  "kernelspec": {
   "display_name": "Python 3",
   "language": "python",
   "name": "python3"
  },
  "language_info": {
   "codemirror_mode": {
    "name": "ipython",
    "version": 3
   },
   "file_extension": ".py",
   "mimetype": "text/x-python",
   "name": "python",
   "nbconvert_exporter": "python",
   "pygments_lexer": "ipython3",
   "version": "3.8.8"
  }
 },
 "nbformat": 4,
 "nbformat_minor": 5
}
