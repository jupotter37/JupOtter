{
 "cells": [
  {
   "cell_type": "markdown",
   "metadata": {},
   "source": [
    "# __Conceptos de estadística e introducción al análisis estadístico de datos usando Python__"
   ]
  },
  {
   "cell_type": "code",
   "execution_count": 18,
   "metadata": {},
   "outputs": [],
   "source": [
    "#Importa las paqueterías necesarias \n",
    "import numpy as np\n",
    "import matplotlib.pyplot as pit\n",
    "import pandas as pd \n",
    "import seaborn as sns\n",
    "import pandas_profiling as pp\n",
    "from joblib import load, dump\n",
    "import statsmodels.api as sm"
   ]
  },
  {
   "cell_type": "markdown",
   "metadata": {},
   "source": [
    "Para este ejemplo ocuparemos bases de datos abiertas de crimen, registrados en Estados Unidos, específicamente una submuestra de la base de datos de crimen en Nueva York."
   ]
  },
  {
   "cell_type": "code",
   "execution_count": 19,
   "metadata": {
    "scrolled": true
   },
   "outputs": [
    {
     "data": {
      "text/html": [
       "<div>\n",
       "<style scoped>\n",
       "    .dataframe tbody tr th:only-of-type {\n",
       "        vertical-align: middle;\n",
       "    }\n",
       "\n",
       "    .dataframe tbody tr th {\n",
       "        vertical-align: top;\n",
       "    }\n",
       "\n",
       "    .dataframe thead th {\n",
       "        text-align: right;\n",
       "    }\n",
       "</style>\n",
       "<table border=\"1\" class=\"dataframe\">\n",
       "  <thead>\n",
       "    <tr style=\"text-align: right;\">\n",
       "      <th></th>\n",
       "      <th>Ciudad</th>\n",
       "      <th>Fecha</th>\n",
       "      <th>Hora</th>\n",
       "      <th>Estatus</th>\n",
       "      <th>Gravedad</th>\n",
       "      <th>Lugar</th>\n",
       "      <th>Crimen_tipo</th>\n",
       "      <th>Lugar_especifico</th>\n",
       "      <th>Edad_sospechoso</th>\n",
       "      <th>Raza_sospechoso</th>\n",
       "      <th>Sexo_sospechoso</th>\n",
       "      <th>Edad_victima</th>\n",
       "      <th>Raza_victima</th>\n",
       "      <th>Sexo_victima</th>\n",
       "      <th>Latitud</th>\n",
       "      <th>Longitud</th>\n",
       "    </tr>\n",
       "  </thead>\n",
       "  <tbody>\n",
       "    <tr>\n",
       "      <th>4241022</th>\n",
       "      <td>MANHATTAN</td>\n",
       "      <td>02/11/2016</td>\n",
       "      <td>00</td>\n",
       "      <td>COMPLETED</td>\n",
       "      <td>FELONY</td>\n",
       "      <td>INSIDE</td>\n",
       "      <td>FELONY ASSAULT</td>\n",
       "      <td>HOSPITAL</td>\n",
       "      <td>18-24</td>\n",
       "      <td>BLACK</td>\n",
       "      <td>F</td>\n",
       "      <td>UNKNOWN</td>\n",
       "      <td>UNKNOWN</td>\n",
       "      <td>E</td>\n",
       "      <td>40.765864</td>\n",
       "      <td>-73.954475</td>\n",
       "    </tr>\n",
       "    <tr>\n",
       "      <th>3044</th>\n",
       "      <td>BRONX</td>\n",
       "      <td>09/24/2008</td>\n",
       "      <td>12</td>\n",
       "      <td>COMPLETED</td>\n",
       "      <td>FELONY</td>\n",
       "      <td>NaN</td>\n",
       "      <td>DANGEROUS DRUGS</td>\n",
       "      <td>STREET</td>\n",
       "      <td>NaN</td>\n",
       "      <td>NaN</td>\n",
       "      <td>NaN</td>\n",
       "      <td>NaN</td>\n",
       "      <td>UNKNOWN</td>\n",
       "      <td>E</td>\n",
       "      <td>40.806831</td>\n",
       "      <td>-73.917480</td>\n",
       "    </tr>\n",
       "    <tr>\n",
       "      <th>5199195</th>\n",
       "      <td>QUEENS</td>\n",
       "      <td>11/29/2017</td>\n",
       "      <td>20</td>\n",
       "      <td>COMPLETED</td>\n",
       "      <td>MISDEMEANOR</td>\n",
       "      <td>NaN</td>\n",
       "      <td>PETIT LARCENY</td>\n",
       "      <td>STREET</td>\n",
       "      <td>UNKNOWN</td>\n",
       "      <td>UNKNOWN</td>\n",
       "      <td>U</td>\n",
       "      <td>25-44</td>\n",
       "      <td>ASIAN / PACIFIC ISLANDER</td>\n",
       "      <td>M</td>\n",
       "      <td>40.693614</td>\n",
       "      <td>-73.861419</td>\n",
       "    </tr>\n",
       "    <tr>\n",
       "      <th>5912690</th>\n",
       "      <td>BROOKLYN</td>\n",
       "      <td>09/09/2012</td>\n",
       "      <td>17</td>\n",
       "      <td>COMPLETED</td>\n",
       "      <td>MISDEMEANOR</td>\n",
       "      <td>REAR OF</td>\n",
       "      <td>DANGEROUS DRUGS</td>\n",
       "      <td>RESIDENCE - PUBLIC HOUSING</td>\n",
       "      <td>NaN</td>\n",
       "      <td>NaN</td>\n",
       "      <td>NaN</td>\n",
       "      <td>NaN</td>\n",
       "      <td>UNKNOWN</td>\n",
       "      <td>E</td>\n",
       "      <td>40.683453</td>\n",
       "      <td>-73.987213</td>\n",
       "    </tr>\n",
       "    <tr>\n",
       "      <th>1349935</th>\n",
       "      <td>STATEN ISLAND</td>\n",
       "      <td>08/01/2008</td>\n",
       "      <td>22</td>\n",
       "      <td>COMPLETED</td>\n",
       "      <td>MISDEMEANOR</td>\n",
       "      <td>INSIDE</td>\n",
       "      <td>PETIT LARCENY</td>\n",
       "      <td>RESIDENCE-HOUSE</td>\n",
       "      <td>NaN</td>\n",
       "      <td>NaN</td>\n",
       "      <td>NaN</td>\n",
       "      <td>65+</td>\n",
       "      <td>WHITE</td>\n",
       "      <td>M</td>\n",
       "      <td>40.612835</td>\n",
       "      <td>-74.068611</td>\n",
       "    </tr>\n",
       "  </tbody>\n",
       "</table>\n",
       "</div>"
      ],
      "text/plain": [
       "                Ciudad       Fecha Hora    Estatus     Gravedad    Lugar  \\\n",
       "4241022      MANHATTAN  02/11/2016   00  COMPLETED       FELONY   INSIDE   \n",
       "3044             BRONX  09/24/2008   12  COMPLETED       FELONY      NaN   \n",
       "5199195         QUEENS  11/29/2017   20  COMPLETED  MISDEMEANOR      NaN   \n",
       "5912690       BROOKLYN  09/09/2012   17  COMPLETED  MISDEMEANOR  REAR OF   \n",
       "1349935  STATEN ISLAND  08/01/2008   22  COMPLETED  MISDEMEANOR   INSIDE   \n",
       "\n",
       "             Crimen_tipo            Lugar_especifico Edad_sospechoso  \\\n",
       "4241022   FELONY ASSAULT                    HOSPITAL           18-24   \n",
       "3044     DANGEROUS DRUGS                      STREET             NaN   \n",
       "5199195    PETIT LARCENY                      STREET         UNKNOWN   \n",
       "5912690  DANGEROUS DRUGS  RESIDENCE - PUBLIC HOUSING             NaN   \n",
       "1349935    PETIT LARCENY             RESIDENCE-HOUSE             NaN   \n",
       "\n",
       "        Raza_sospechoso Sexo_sospechoso Edad_victima  \\\n",
       "4241022           BLACK               F      UNKNOWN   \n",
       "3044                NaN             NaN          NaN   \n",
       "5199195         UNKNOWN               U        25-44   \n",
       "5912690             NaN             NaN          NaN   \n",
       "1349935             NaN             NaN          65+   \n",
       "\n",
       "                     Raza_victima Sexo_victima    Latitud   Longitud  \n",
       "4241022                   UNKNOWN            E  40.765864 -73.954475  \n",
       "3044                      UNKNOWN            E  40.806831 -73.917480  \n",
       "5199195  ASIAN / PACIFIC ISLANDER            M  40.693614 -73.861419  \n",
       "5912690                   UNKNOWN            E  40.683453 -73.987213  \n",
       "1349935                     WHITE            M  40.612835 -74.068611  "
      ]
     },
     "execution_count": 19,
     "metadata": {},
     "output_type": "execute_result"
    }
   ],
   "source": [
    "#Usar pandas para leer los datos y guardarlos como data frame\n",
    "df_NY = load( \"./datos_NY_crimen_limpios.pkl\")\n",
    "\n",
    "#Revisar si los datos fueron leidos correctamente\n",
    "df_NY.head()"
   ]
  },
  {
   "cell_type": "markdown",
   "metadata": {},
   "source": [
    "Diccionario de variables de la base de datos de crimenes en NY.\n",
    "    1. Ciudad: lugar en el que ocurrio el incidente\n",
    "    2. Fecha: año, mes y día en el que ocurrio el incidente\n",
    "    3. Hora: hora en la que ocurrio el incidente\n",
    "    4. Estatus: indicador de si el incidente fue completado o no \n",
    "    5. Gravedad: nivel del incidente; violación, delito mayor, delito menor \n",
    "    6. Lugar: lugar de ocurrencia del incidente; dentro, detras de, enfrente a y opuesto a...\n",
    "    7. Lugar especifico: lugar específico dónde ocurrio el incidente; tienda, casa habitación...\n",
    "    8. Crimen_tipo: descripción del tipo de delito \n",
    "    9. Edad_sospechoso: grupo de edad del sospechoso\n",
    "    10. Raza_sospechoso: raza del sospechoso \n",
    "    11. Sexo_sospechoso: sexo del sospechoso; M hombre, F mujer, U desconocido\n",
    "    12. Edad_victima: grupo de edad de la victima \n",
    "    13. Raza_victima: raza a la que pertenece la víctima\n",
    "    14. Sexo_victima: sexo de la victima; M hombre, F mujer, U desconocido\n",
    "        \n",
    "     \n",
    "    "
   ]
  },
  {
   "cell_type": "markdown",
   "metadata": {},
   "source": [
    "## 1.0 __Estadística descriptiva__ "
   ]
  },
  {
   "cell_type": "markdown",
   "metadata": {},
   "source": [
    "## 1.1 Conceptos de estadística descriptiva:"
   ]
  },
  {
   "cell_type": "markdown",
   "metadata": {},
   "source": [
    "**Población**: conjunto de todos los elementos de interés (N). \n",
    "\n",
    "**Parámetros**: métricas que obtenemos al trabajar con una población.\n",
    "\n",
    "**Muestra**:  subgrupo de la población (n). \n",
    "\n",
    "**Estadísticos**: métricas que obtenemos al trabajar con poblaciones. "
   ]
  },
  {
   "cell_type": "markdown",
   "metadata": {},
   "source": [
    "![Python Packages](https://www.cliffsnotes.com/assets/267169.png)"
   ]
  },
  {
   "cell_type": "markdown",
   "metadata": {},
   "source": [
    "\n",
    "\n",
    "## 1.2 Una muestra debe ser: \n",
    "    \n",
    "**Representativa**: una muestra representativa es un subgrupo de la poblaciòn que refleja exactamente a los miembros de toda la población.  \n",
    "\n",
    "**Tomada al azar**: una muestra azarosa es recolectada cuando  cada miembro de la muestra es elegida de la población estrictamente por casualidad\n",
    "\n",
    "\n",
    "*¿Cómo sabemos que una muestra es representativa?¿Cómo calculamos el tamaño de muestra?*\n",
    "\n",
    "Depende de los siguientes factores:\n",
    "    \n",
    " 1. **Nivel de confianza**: ¿qué necesitamos para estar seguros de que nuestros resultados no ocurrieron solo por azar? Tipicamente se utiliza un nivel de confianza del _95% al 99%_ \n",
    "    \n",
    " 2. **Porcentaje de diferencia que deseemos detectar**: entre más pequeña sea la diferencia que quieres detectar, más grande debe ser la muestra\n",
    "    \n",
    " 3. **Valor absoluto de las probabilidades en las que desea detectar diferencias**: depende de la prueba con la que estamos trabajando. Por ejemplo, detectar una diferencia entre 50% y 51% requiere un tamaño de muestra diferente que detectar una diferencia entre 80% y 81%. Es decir que, el tamaño de muestra requerido es una función de N1.\n",
    "    \n",
    " 4. **La distribución de los datos (principalmente del resultado)**"
   ]
  },
  {
   "cell_type": "markdown",
   "metadata": {},
   "source": [
    "## 1.3 ¿Qué es una variable?\n",
    "\n",
    "**Variable**: es una característica, número o cantidad que puede ser descrita, medida o cuantíficada."
   ]
  },
  {
   "cell_type": "markdown",
   "metadata": {},
   "source": [
    "__Tipos de variables__:\n",
    "    \n",
    "    1. Cualitativas o catégoricas: ordinales y nominales \n",
    "    2. Cuantitativas o numericas: discretas y continuas   "
   ]
  },
  {
   "cell_type": "code",
   "execution_count": 3,
   "metadata": {},
   "outputs": [],
   "source": [
    "#ORDINALES"
   ]
  },
  {
   "cell_type": "code",
   "execution_count": 2,
   "metadata": {},
   "outputs": [],
   "source": [
    "#![variable_catégorica_ordinal](https://www.questionpro.com/blog/wp-content/uploads/2018/06/Liker-Scale-Example_4.jpg)"
   ]
  },
  {
   "cell_type": "code",
   "execution_count": null,
   "metadata": {},
   "outputs": [],
   "source": [
    " #NOMINALES"
   ]
  },
  {
   "cell_type": "code",
   "execution_count": null,
   "metadata": {},
   "outputs": [],
   "source": [
    "#![variable_categorica_nominal](https://i.pinimg.com/originals/30/89/c5/3089c56777a8f68e97c29c4d678644a6.jpg)"
   ]
  },
  {
   "cell_type": "code",
   "execution_count": null,
   "metadata": {},
   "outputs": [],
   "source": [
    "#DISCRETAS"
   ]
  },
  {
   "cell_type": "code",
   "execution_count": null,
   "metadata": {},
   "outputs": [],
   "source": [
    "#![variable_numerica_discreta](https://image.freepik.com/vector-gratis/caracter-hombre-diferentes-edades_61103-88.jpg)"
   ]
  },
  {
   "cell_type": "code",
   "execution_count": 4,
   "metadata": {},
   "outputs": [],
   "source": [
    "#CONTINUA"
   ]
  },
  {
   "cell_type": "code",
   "execution_count": null,
   "metadata": {},
   "outputs": [],
   "source": [
    "#![variable_numerica_continua](https://concepto.de/wp-content/uploads/2013/05/peso.jpg)"
   ]
  },
  {
   "cell_type": "markdown",
   "metadata": {},
   "source": [
    "Variables de nuestra base de datos "
   ]
  },
  {
   "cell_type": "code",
   "execution_count": 20,
   "metadata": {},
   "outputs": [
    {
     "data": {
      "text/plain": [
       "Index(['Ciudad', 'Fecha', 'Hora', 'Estatus', 'Gravedad', 'Lugar',\n",
       "       'Crimen_tipo', 'Lugar_especifico', 'Edad_sospechoso', 'Raza_sospechoso',\n",
       "       'Sexo_sospechoso', 'Edad_victima', 'Raza_victima', 'Sexo_victima',\n",
       "       'Latitud', 'Longitud'],\n",
       "      dtype='object')"
      ]
     },
     "execution_count": 20,
     "metadata": {},
     "output_type": "execute_result"
    }
   ],
   "source": [
    "df_NY.columns"
   ]
  },
  {
   "cell_type": "markdown",
   "metadata": {},
   "source": [
    "## 1.4 ¿Cómo representar correctamente los diferentes tipos de variables?\n",
    "\n",
    "__Datos categóricos:__ gráfica de barras, pastel, diagrama de pareto (tienen ambas barras y porcentajes)\n",
    "    \n",
    "__Datos numéricos:__ histograma y scatterplot\n"
   ]
  },
  {
   "cell_type": "markdown",
   "metadata": {},
   "source": [
    "## 1.5 Atributos de las variables: medidas de tendencia central "
   ]
  },
  {
   "cell_type": "markdown",
   "metadata": {},
   "source": [
    "Medidas de tendencia central: __media, mediana y moda__\n",
    "\n",
    "1. **Media**: es la más común y la podemos obtener sumando todos los elementos de una variable y dividiéndola por el número de ellos. Es afectada por valores extremos\n",
    "    \n",
    "2. **Mediana**: número de la posición central de las observaciones (en orden ascendente). No es afectada por valores extremos. \n",
    "    \n",
    "3. **Moda**: el dato más común (puede existir más de una moda).\n"
   ]
  },
  {
   "cell_type": "markdown",
   "metadata": {},
   "source": [
    "![tendencia_central](http://andromeda.estadistica.unam.mx/tutorial_estadistica/Est_Indic_SHCP/recursos/imgpp07u1t04.png)"
   ]
  },
  {
   "cell_type": "markdown",
   "metadata": {},
   "source": [
    "## 1.6 Atributos de las variables: medidas de asimetría (sesgo) o dispersión \n",
    "\n",
    "__Sesgo__: indica si los datos se concentran en un lado de la curva\n",
    "    Por ejemplo: \n",
    "        \n",
    "        1) cuando la medias es > que la mediana los datos se concentran del lado izquierdo de la curva, es decir que los outlier se encuentra del lado derecho de la distribución. \n",
    "        2) cuando la mediana < que la media, la mayor parte de los datos se concentran del lado derecho de la distribución y los outliers se encuentran en el lado izquierdo de la distribución. \n",
    "\n",
    "        En ambos casos la moda es la medida con mayor representación.\n",
    "\n",
    "__Sin sesgo__: cuando la mediana, la moda y la media son iguales, la distribución es simétrica. \n",
    "\n",
    "   \n",
    "__El sesgo nos habla de donde se encuentran nuestros datos!__\n"
   ]
  },
  {
   "cell_type": "markdown",
   "metadata": {},
   "source": [
    "## 1.7 Varianza \n",
    "\n",
    "La __varianza__ es una medida de dispersión de un grupo de datos alrededor de la media.\n",
    "\n",
    "Una forma más fácil de “visualizar” la varianza es por medio de la __desviación estandar__, en la mayoría de los casos esta es más significativa. \n",
    "El __coeficiente de variación__ es igual a la desviación estándar dividida por el promedio\n",
    "\n",
    "La desviación estandar es la medida más común de variabilidad para una base de datos única. Una de las principales ventajas de usar desviación estandar es que las unidades no estan elevadas al cuadrado y son más facil de interpretar   \n"
   ]
  },
  {
   "cell_type": "markdown",
   "metadata": {},
   "source": [
    "## 1.8  Relación entre variables \n",
    "\n",
    "__Covarianza y Coeficiente de correlación lineal__\n",
    "\n",
    "La covarianza puede ser >0, =0 o <0:\n",
    "\n",
    "1. >0 las dos variables se mueven juntas\n",
    "2. <0 las dos variables se mueven en direcciones opuestas\n",
    "3. =0 las dos variables son independientes \n",
    "\n",
    "El coeficiente de correlación va de -1 a 1 \n"
   ]
  },
  {
   "cell_type": "markdown",
   "metadata": {},
   "source": [
    "__Para explorar los atributos de cada una de las variables dentro de nuestra base de datos podemos hacer un profile report (podemos resolver toda la estadística descrptiva con un solo comando!!). Este reporte es el resultado de un análisis de cada una de las variables que integran la base de datos. Por medio de este, podemos verificar a que tipo de dato pertenece cada variable y obtener las medidas de tendencia central y asímetria. Con el fin de tener una idea general del comportamiento de nuestras variables. \n",
    "Además, el profile report arroja un análisis de correlación entre variables (ver más adelante), que nos indica que tan relacionadas están entre si dos pares de variables__. "
   ]
  },
  {
   "cell_type": "code",
   "execution_count": 21,
   "metadata": {},
   "outputs": [],
   "source": [
    "#pp.ProfileReport(df_NY[['Ciudad', 'Fecha', 'Hora', 'Estatus', 'Gravedad', 'Lugar','Crimen_tipo', 'Lugar_especifico', 'Edad_sospechoso', 'Raza_sospechoso','Sexo_sospechoso', 'Edad_victima', 'Raza_victima', 'Sexo_victima']])"
   ]
  },
  {
   "cell_type": "markdown",
   "metadata": {},
   "source": [
    "## __2.0  Estadística inferencial__ "
   ]
  },
  {
   "cell_type": "markdown",
   "metadata": {},
   "source": [
    "## 2.1 Distribuciónes de probabilidad  \n",
    "\n",
    "Una __distribución__ es una función que muestra los valores posibles de una variable y que tan frecuentemente ocurren. \n",
    "Es decir la __frecuencia__ en la que los posibles valores de una variable ocurren en un intervalo.\n",
    "\n",
    "Las distribución más famosa en estadística(no precisamente la más común)es la __distribución normal__, donde la media moda y mediana son =. Es decir no hay sesgo\n",
    "\n",
    "Frecuentemente, cuando los valores de una variable no tienen una distribución normal se recurre a transformaciones o estandarizaciones. \n"
   ]
  },
  {
   "cell_type": "markdown",
   "metadata": {},
   "source": [
    "## 2.2 Regresión lineal "
   ]
  },
  {
   "cell_type": "markdown",
   "metadata": {},
   "source": [
    "Una __regresión lineal__ es un modelo matemático para aproximar la relación de dependencia entre dos variables, una variable independiente y otra dependiente.\n",
    "\n",
    "*Los valores de las variables dependientes dependen de los valores de las variables independientes*\n"
   ]
  },
  {
   "cell_type": "markdown",
   "metadata": {},
   "source": [
    "## 2.3 Análisis de varianza"
   ]
  },
  {
   "cell_type": "markdown",
   "metadata": {},
   "source": [
    "__Analisis de Varianza (ANOVA)__ se utiliza para comparar los promedios de dos o más grupos. Una prueba de ANOVA puede indicarte si hay diferencia en el promedio entre los grupos. Sin embargo,no nos da información sobre dónde se encuentra la diferencia (entre cuál y cuál grupo). Para resolver esto, podemos realizar una prueba post-hoc.   "
   ]
  },
  {
   "cell_type": "markdown",
   "metadata": {},
   "source": [
    "## __Análisis de base de datos abierta de delitos en NY__  "
   ]
  },
  {
   "cell_type": "markdown",
   "metadata": {},
   "source": [
    "### 1.0 Evaluar frecuencia de delitos "
   ]
  },
  {
   "cell_type": "markdown",
   "metadata": {},
   "source": [
    "Podemos empezar por análizar los tipos de crimenes registrados, así como frecuencia de cada tipo de crimen."
   ]
  },
  {
   "cell_type": "code",
   "execution_count": 22,
   "metadata": {},
   "outputs": [
    {
     "data": {
      "text/plain": [
       "PETIT LARCENY                     16527\n",
       "HARRASSMENT 2                     12434\n",
       "ASSAULT 3 & RELATED OFFENSES      10518\n",
       "CRIMINAL MISCHIEF & RELATED OF    10242\n",
       "GRAND LARCENY                      8715\n",
       "DANGEROUS DRUGS                    6120\n",
       "OFF. AGNST PUB ORD SENSBLTY &      5161\n",
       "FELONY ASSAULT                     3742\n",
       "ROBBERY                            3683\n",
       "BURGLARY                           3548\n",
       "Name: Crimen_tipo, dtype: int64"
      ]
     },
     "execution_count": 22,
     "metadata": {},
     "output_type": "execute_result"
    }
   ],
   "source": [
    "#Usar value_counts en Pandas para cuantificar y organizar el tipo de crimenes\n",
    "\n",
    "df_NY.Crimen_tipo.value_counts().iloc[:10]"
   ]
  },
  {
   "cell_type": "code",
   "execution_count": 23,
   "metadata": {},
   "outputs": [
    {
     "data": {
      "text/plain": [
       "PETIT LARCENY                     16527\n",
       "HARRASSMENT 2                     12434\n",
       "ASSAULT 3 & RELATED OFFENSES      10518\n",
       "CRIMINAL MISCHIEF & RELATED OF    10242\n",
       "GRAND LARCENY                      8715\n",
       "DANGEROUS DRUGS                    6120\n",
       "OFF. AGNST PUB ORD SENSBLTY &      5161\n",
       "FELONY ASSAULT                     3742\n",
       "ROBBERY                            3683\n",
       "BURGLARY                           3548\n",
       "Name: Crimen_tipo, dtype: int64"
      ]
     },
     "execution_count": 23,
     "metadata": {},
     "output_type": "execute_result"
    }
   ],
   "source": [
    "df_NY.Crimen_tipo.value_counts().iloc[:10]"
   ]
  },
  {
   "cell_type": "markdown",
   "metadata": {},
   "source": [
    "Ahora vamos a crear una grafica de los resultados para tener una mejor visualización de los datos."
   ]
  },
  {
   "cell_type": "code",
   "execution_count": 24,
   "metadata": {},
   "outputs": [
    {
     "data": {
      "text/plain": [
       "<matplotlib.axes._subplots.AxesSubplot at 0x1c2348ec18>"
      ]
     },
     "execution_count": 24,
     "metadata": {},
     "output_type": "execute_result"
    },
    {
     "data": {
      "image/png": "[encoded data removed]",
      "text/plain": [
       "<Figure size 432x288 with 1 Axes>"
      ]
     },
     "metadata": {
      "needs_background": "light"
     },
     "output_type": "display_data"
    }
   ],
   "source": [
    "df_NY.Crimen_tipo.value_counts().iloc[:10].plot(kind= \"barh\")"
   ]
  },
  {
   "cell_type": "markdown",
   "metadata": {},
   "source": [
    "Podemos observar que los crimenes con mayor ocurrencia son  \"Petit larceny\" y \"Harraament 2\""
   ]
  },
  {
   "cell_type": "markdown",
   "metadata": {},
   "source": [
    "### 1.1 Evaluar frecuencia de un delito específico: por ejemplo \"Harrassment\""
   ]
  },
  {
   "cell_type": "code",
   "execution_count": 25,
   "metadata": {},
   "outputs": [],
   "source": [
    "df_NY.dropna(inplace=True)"
   ]
  },
  {
   "cell_type": "code",
   "execution_count": 26,
   "metadata": {},
   "outputs": [
    {
     "data": {
      "text/html": [
       "<div>\n",
       "<style scoped>\n",
       "    .dataframe tbody tr th:only-of-type {\n",
       "        vertical-align: middle;\n",
       "    }\n",
       "\n",
       "    .dataframe tbody tr th {\n",
       "        vertical-align: top;\n",
       "    }\n",
       "\n",
       "    .dataframe thead th {\n",
       "        text-align: right;\n",
       "    }\n",
       "</style>\n",
       "<table border=\"1\" class=\"dataframe\">\n",
       "  <thead>\n",
       "    <tr style=\"text-align: right;\">\n",
       "      <th></th>\n",
       "      <th>Ciudad</th>\n",
       "      <th>Fecha</th>\n",
       "      <th>Hora</th>\n",
       "      <th>Estatus</th>\n",
       "      <th>Gravedad</th>\n",
       "      <th>Lugar</th>\n",
       "      <th>Crimen_tipo</th>\n",
       "      <th>Lugar_especifico</th>\n",
       "      <th>Edad_sospechoso</th>\n",
       "      <th>Raza_sospechoso</th>\n",
       "      <th>Sexo_sospechoso</th>\n",
       "      <th>Edad_victima</th>\n",
       "      <th>Raza_victima</th>\n",
       "      <th>Sexo_victima</th>\n",
       "      <th>Latitud</th>\n",
       "      <th>Longitud</th>\n",
       "    </tr>\n",
       "  </thead>\n",
       "  <tbody>\n",
       "    <tr>\n",
       "      <th>4094674</th>\n",
       "      <td>BROOKLYN</td>\n",
       "      <td>04/07/2016</td>\n",
       "      <td>07</td>\n",
       "      <td>COMPLETED</td>\n",
       "      <td>VIOLATION</td>\n",
       "      <td>INSIDE</td>\n",
       "      <td>HARRASSMENT 2</td>\n",
       "      <td>PUBLIC SCHOOL</td>\n",
       "      <td>UNKNOWN</td>\n",
       "      <td>BLACK</td>\n",
       "      <td>M</td>\n",
       "      <td>25-44</td>\n",
       "      <td>ASIAN / PACIFIC ISLANDER</td>\n",
       "      <td>M</td>\n",
       "      <td>40.668631</td>\n",
       "      <td>-73.904630</td>\n",
       "    </tr>\n",
       "    <tr>\n",
       "      <th>4899166</th>\n",
       "      <td>BRONX</td>\n",
       "      <td>08/23/2016</td>\n",
       "      <td>08</td>\n",
       "      <td>COMPLETED</td>\n",
       "      <td>VIOLATION</td>\n",
       "      <td>INSIDE</td>\n",
       "      <td>HARRASSMENT 2</td>\n",
       "      <td>STORAGE FACILITY</td>\n",
       "      <td>25-44</td>\n",
       "      <td>WHITE HISPANIC</td>\n",
       "      <td>M</td>\n",
       "      <td>25-44</td>\n",
       "      <td>WHITE</td>\n",
       "      <td>M</td>\n",
       "      <td>40.806521</td>\n",
       "      <td>-73.910187</td>\n",
       "    </tr>\n",
       "    <tr>\n",
       "      <th>3410287</th>\n",
       "      <td>QUEENS</td>\n",
       "      <td>06/19/2018</td>\n",
       "      <td>12</td>\n",
       "      <td>COMPLETED</td>\n",
       "      <td>VIOLATION</td>\n",
       "      <td>INSIDE</td>\n",
       "      <td>HARRASSMENT 2</td>\n",
       "      <td>RESIDENCE-HOUSE</td>\n",
       "      <td>25-44</td>\n",
       "      <td>UNKNOWN</td>\n",
       "      <td>M</td>\n",
       "      <td>UNKNOWN</td>\n",
       "      <td>WHITE HISPANIC</td>\n",
       "      <td>F</td>\n",
       "      <td>40.725925</td>\n",
       "      <td>-73.809629</td>\n",
       "    </tr>\n",
       "    <tr>\n",
       "      <th>3401750</th>\n",
       "      <td>MANHATTAN</td>\n",
       "      <td>07/21/2018</td>\n",
       "      <td>16</td>\n",
       "      <td>COMPLETED</td>\n",
       "      <td>VIOLATION</td>\n",
       "      <td>INSIDE</td>\n",
       "      <td>HARRASSMENT 2</td>\n",
       "      <td>RESIDENCE - APT. HOUSE</td>\n",
       "      <td>45-64</td>\n",
       "      <td>WHITE HISPANIC</td>\n",
       "      <td>M</td>\n",
       "      <td>25-44</td>\n",
       "      <td>WHITE HISPANIC</td>\n",
       "      <td>F</td>\n",
       "      <td>40.862255</td>\n",
       "      <td>-73.926297</td>\n",
       "    </tr>\n",
       "    <tr>\n",
       "      <th>3954391</th>\n",
       "      <td>BRONX</td>\n",
       "      <td>07/30/2017</td>\n",
       "      <td>08</td>\n",
       "      <td>COMPLETED</td>\n",
       "      <td>VIOLATION</td>\n",
       "      <td>FRONT OF</td>\n",
       "      <td>HARRASSMENT 2</td>\n",
       "      <td>RESIDENCE - APT. HOUSE</td>\n",
       "      <td>UNKNOWN</td>\n",
       "      <td>WHITE HISPANIC</td>\n",
       "      <td>M</td>\n",
       "      <td>25-44</td>\n",
       "      <td>WHITE</td>\n",
       "      <td>M</td>\n",
       "      <td>40.903782</td>\n",
       "      <td>-73.906391</td>\n",
       "    </tr>\n",
       "  </tbody>\n",
       "</table>\n",
       "</div>"
      ],
      "text/plain": [
       "            Ciudad       Fecha Hora    Estatus   Gravedad     Lugar  \\\n",
       "4094674   BROOKLYN  04/07/2016   07  COMPLETED  VIOLATION    INSIDE   \n",
       "4899166      BRONX  08/23/2016   08  COMPLETED  VIOLATION    INSIDE   \n",
       "3410287     QUEENS  06/19/2018   12  COMPLETED  VIOLATION    INSIDE   \n",
       "3401750  MANHATTAN  07/21/2018   16  COMPLETED  VIOLATION    INSIDE   \n",
       "3954391      BRONX  07/30/2017   08  COMPLETED  VIOLATION  FRONT OF   \n",
       "\n",
       "           Crimen_tipo        Lugar_especifico Edad_sospechoso  \\\n",
       "4094674  HARRASSMENT 2           PUBLIC SCHOOL         UNKNOWN   \n",
       "4899166  HARRASSMENT 2        STORAGE FACILITY           25-44   \n",
       "3410287  HARRASSMENT 2         RESIDENCE-HOUSE           25-44   \n",
       "3401750  HARRASSMENT 2  RESIDENCE - APT. HOUSE           45-64   \n",
       "3954391  HARRASSMENT 2  RESIDENCE - APT. HOUSE         UNKNOWN   \n",
       "\n",
       "        Raza_sospechoso Sexo_sospechoso Edad_victima  \\\n",
       "4094674           BLACK               M        25-44   \n",
       "4899166  WHITE HISPANIC               M        25-44   \n",
       "3410287         UNKNOWN               M      UNKNOWN   \n",
       "3401750  WHITE HISPANIC               M        25-44   \n",
       "3954391  WHITE HISPANIC               M        25-44   \n",
       "\n",
       "                     Raza_victima Sexo_victima    Latitud   Longitud  \n",
       "4094674  ASIAN / PACIFIC ISLANDER            M  40.668631 -73.904630  \n",
       "4899166                     WHITE            M  40.806521 -73.910187  \n",
       "3410287            WHITE HISPANIC            F  40.725925 -73.809629  \n",
       "3401750            WHITE HISPANIC            F  40.862255 -73.926297  \n",
       "3954391                     WHITE            M  40.903782 -73.906391  "
      ]
     },
     "execution_count": 26,
     "metadata": {},
     "output_type": "execute_result"
    }
   ],
   "source": [
    "acoso = df_NY[df_NY[\"Crimen_tipo\"].str.contains(\"HARRASSMENT 2\")]\n",
    "acoso.head(5)"
   ]
  },
  {
   "cell_type": "markdown",
   "metadata": {},
   "source": [
    "## 2.0 Relaciones entre dos variables dependiente e independiente (de manera visual)."
   ]
  },
  {
   "cell_type": "markdown",
   "metadata": {},
   "source": [
    " ### 2.1 Análisis de la ocurrencia del __delito__ por __sitio__ "
   ]
  },
  {
   "cell_type": "markdown",
   "metadata": {},
   "source": [
    "¿Existen diferencias en la frecuencia de acoso en las diferentes localidades en NY? Es decir, qué lugares son más peligrosos. \n",
    "En este ejemplo, la variable dependiente sería la ocurrecia del delito y la indenpendiente el sitio. \n",
    "\n",
    "Para ello, usaremos la función __\"groupby\"__ de Pandas para agrupar por el tipo de localidades, y la función __size__ para revisar el número registrado en cada localidad. "
   ]
  },
  {
   "cell_type": "code",
   "execution_count": 27,
   "metadata": {},
   "outputs": [
    {
     "data": {
      "text/plain": [
       "Index(['Ciudad', 'Fecha', 'Hora', 'Estatus', 'Gravedad', 'Lugar',\n",
       "       'Crimen_tipo', 'Lugar_especifico', 'Edad_sospechoso', 'Raza_sospechoso',\n",
       "       'Sexo_sospechoso', 'Edad_victima', 'Raza_victima', 'Sexo_victima',\n",
       "       'Latitud', 'Longitud'],\n",
       "      dtype='object')"
      ]
     },
     "execution_count": 27,
     "metadata": {},
     "output_type": "execute_result"
    }
   ],
   "source": [
    "acoso.columns"
   ]
  },
  {
   "cell_type": "code",
   "execution_count": 28,
   "metadata": {},
   "outputs": [
    {
     "data": {
      "text/html": [
       "<div>\n",
       "<style scoped>\n",
       "    .dataframe tbody tr th:only-of-type {\n",
       "        vertical-align: middle;\n",
       "    }\n",
       "\n",
       "    .dataframe tbody tr th {\n",
       "        vertical-align: top;\n",
       "    }\n",
       "\n",
       "    .dataframe thead th {\n",
       "        text-align: right;\n",
       "    }\n",
       "</style>\n",
       "<table border=\"1\" class=\"dataframe\">\n",
       "  <thead>\n",
       "    <tr style=\"text-align: right;\">\n",
       "      <th></th>\n",
       "      <th>Ciudad</th>\n",
       "      <th>Fecha</th>\n",
       "      <th>Hora</th>\n",
       "      <th>Estatus</th>\n",
       "      <th>Gravedad</th>\n",
       "      <th>Lugar</th>\n",
       "      <th>Crimen_tipo</th>\n",
       "      <th>Lugar_especifico</th>\n",
       "      <th>Edad_sospechoso</th>\n",
       "      <th>Raza_sospechoso</th>\n",
       "      <th>Sexo_sospechoso</th>\n",
       "      <th>Edad_victima</th>\n",
       "      <th>Raza_victima</th>\n",
       "      <th>Sexo_victima</th>\n",
       "      <th>Latitud</th>\n",
       "      <th>Longitud</th>\n",
       "    </tr>\n",
       "  </thead>\n",
       "  <tbody>\n",
       "    <tr>\n",
       "      <th>4094674</th>\n",
       "      <td>BROOKLYN</td>\n",
       "      <td>04/07/2016</td>\n",
       "      <td>07</td>\n",
       "      <td>COMPLETED</td>\n",
       "      <td>VIOLATION</td>\n",
       "      <td>INSIDE</td>\n",
       "      <td>HARRASSMENT 2</td>\n",
       "      <td>PUBLIC SCHOOL</td>\n",
       "      <td>UNKNOWN</td>\n",
       "      <td>BLACK</td>\n",
       "      <td>M</td>\n",
       "      <td>25-44</td>\n",
       "      <td>ASIAN / PACIFIC ISLANDER</td>\n",
       "      <td>M</td>\n",
       "      <td>40.668631</td>\n",
       "      <td>-73.904630</td>\n",
       "    </tr>\n",
       "    <tr>\n",
       "      <th>4899166</th>\n",
       "      <td>BRONX</td>\n",
       "      <td>08/23/2016</td>\n",
       "      <td>08</td>\n",
       "      <td>COMPLETED</td>\n",
       "      <td>VIOLATION</td>\n",
       "      <td>INSIDE</td>\n",
       "      <td>HARRASSMENT 2</td>\n",
       "      <td>STORAGE FACILITY</td>\n",
       "      <td>25-44</td>\n",
       "      <td>WHITE HISPANIC</td>\n",
       "      <td>M</td>\n",
       "      <td>25-44</td>\n",
       "      <td>WHITE</td>\n",
       "      <td>M</td>\n",
       "      <td>40.806521</td>\n",
       "      <td>-73.910187</td>\n",
       "    </tr>\n",
       "    <tr>\n",
       "      <th>3410287</th>\n",
       "      <td>QUEENS</td>\n",
       "      <td>06/19/2018</td>\n",
       "      <td>12</td>\n",
       "      <td>COMPLETED</td>\n",
       "      <td>VIOLATION</td>\n",
       "      <td>INSIDE</td>\n",
       "      <td>HARRASSMENT 2</td>\n",
       "      <td>RESIDENCE-HOUSE</td>\n",
       "      <td>25-44</td>\n",
       "      <td>UNKNOWN</td>\n",
       "      <td>M</td>\n",
       "      <td>UNKNOWN</td>\n",
       "      <td>WHITE HISPANIC</td>\n",
       "      <td>F</td>\n",
       "      <td>40.725925</td>\n",
       "      <td>-73.809629</td>\n",
       "    </tr>\n",
       "    <tr>\n",
       "      <th>3401750</th>\n",
       "      <td>MANHATTAN</td>\n",
       "      <td>07/21/2018</td>\n",
       "      <td>16</td>\n",
       "      <td>COMPLETED</td>\n",
       "      <td>VIOLATION</td>\n",
       "      <td>INSIDE</td>\n",
       "      <td>HARRASSMENT 2</td>\n",
       "      <td>RESIDENCE - APT. HOUSE</td>\n",
       "      <td>45-64</td>\n",
       "      <td>WHITE HISPANIC</td>\n",
       "      <td>M</td>\n",
       "      <td>25-44</td>\n",
       "      <td>WHITE HISPANIC</td>\n",
       "      <td>F</td>\n",
       "      <td>40.862255</td>\n",
       "      <td>-73.926297</td>\n",
       "    </tr>\n",
       "    <tr>\n",
       "      <th>3954391</th>\n",
       "      <td>BRONX</td>\n",
       "      <td>07/30/2017</td>\n",
       "      <td>08</td>\n",
       "      <td>COMPLETED</td>\n",
       "      <td>VIOLATION</td>\n",
       "      <td>FRONT OF</td>\n",
       "      <td>HARRASSMENT 2</td>\n",
       "      <td>RESIDENCE - APT. HOUSE</td>\n",
       "      <td>UNKNOWN</td>\n",
       "      <td>WHITE HISPANIC</td>\n",
       "      <td>M</td>\n",
       "      <td>25-44</td>\n",
       "      <td>WHITE</td>\n",
       "      <td>M</td>\n",
       "      <td>40.903782</td>\n",
       "      <td>-73.906391</td>\n",
       "    </tr>\n",
       "  </tbody>\n",
       "</table>\n",
       "</div>"
      ],
      "text/plain": [
       "            Ciudad       Fecha Hora    Estatus   Gravedad     Lugar  \\\n",
       "4094674   BROOKLYN  04/07/2016   07  COMPLETED  VIOLATION    INSIDE   \n",
       "4899166      BRONX  08/23/2016   08  COMPLETED  VIOLATION    INSIDE   \n",
       "3410287     QUEENS  06/19/2018   12  COMPLETED  VIOLATION    INSIDE   \n",
       "3401750  MANHATTAN  07/21/2018   16  COMPLETED  VIOLATION    INSIDE   \n",
       "3954391      BRONX  07/30/2017   08  COMPLETED  VIOLATION  FRONT OF   \n",
       "\n",
       "           Crimen_tipo        Lugar_especifico Edad_sospechoso  \\\n",
       "4094674  HARRASSMENT 2           PUBLIC SCHOOL         UNKNOWN   \n",
       "4899166  HARRASSMENT 2        STORAGE FACILITY           25-44   \n",
       "3410287  HARRASSMENT 2         RESIDENCE-HOUSE           25-44   \n",
       "3401750  HARRASSMENT 2  RESIDENCE - APT. HOUSE           45-64   \n",
       "3954391  HARRASSMENT 2  RESIDENCE - APT. HOUSE         UNKNOWN   \n",
       "\n",
       "        Raza_sospechoso Sexo_sospechoso Edad_victima  \\\n",
       "4094674           BLACK               M        25-44   \n",
       "4899166  WHITE HISPANIC               M        25-44   \n",
       "3410287         UNKNOWN               M      UNKNOWN   \n",
       "3401750  WHITE HISPANIC               M        25-44   \n",
       "3954391  WHITE HISPANIC               M        25-44   \n",
       "\n",
       "                     Raza_victima Sexo_victima    Latitud   Longitud  \n",
       "4094674  ASIAN / PACIFIC ISLANDER            M  40.668631 -73.904630  \n",
       "4899166                     WHITE            M  40.806521 -73.910187  \n",
       "3410287            WHITE HISPANIC            F  40.725925 -73.809629  \n",
       "3401750            WHITE HISPANIC            F  40.862255 -73.926297  \n",
       "3954391                     WHITE            M  40.903782 -73.906391  "
      ]
     },
     "execution_count": 28,
     "metadata": {},
     "output_type": "execute_result"
    }
   ],
   "source": [
    "acoso.head()"
   ]
  },
  {
   "cell_type": "code",
   "execution_count": 29,
   "metadata": {},
   "outputs": [
    {
     "data": {
      "text/plain": [
       "Ciudad\n",
       "BROOKLYN         1889\n",
       "BRONX            1336\n",
       "QUEENS           1306\n",
       "MANHATTAN        1115\n",
       "STATEN ISLAND     403\n",
       "dtype: int64"
      ]
     },
     "execution_count": 29,
     "metadata": {},
     "output_type": "execute_result"
    }
   ],
   "source": [
    "acoso.groupby(\"Ciudad\").size().sort_values(ascending=False)"
   ]
  },
  {
   "cell_type": "code",
   "execution_count": 30,
   "metadata": {},
   "outputs": [
    {
     "data": {
      "text/plain": [
       "<matplotlib.axes._subplots.AxesSubplot at 0x1c23787320>"
      ]
     },
     "execution_count": 30,
     "metadata": {},
     "output_type": "execute_result"
    },
    {
     "data": {
      "image/png": "[encoded data removed]",
      "text/plain": [
       "<Figure size 432x288 with 1 Axes>"
      ]
     },
     "metadata": {
      "needs_background": "light"
     },
     "output_type": "display_data"
    }
   ],
   "source": [
    "acoso.Ciudad.value_counts().iloc[:10].plot(kind= \"barh\")"
   ]
  },
  {
   "cell_type": "markdown",
   "metadata": {},
   "source": [
    "Al observar los resultados podemos distinguir en cuál de las localidades de NY hay mayores reportes de acoso. Brooklyn presenta más reportes de acoso. "
   ]
  },
  {
   "cell_type": "code",
   "execution_count": 31,
   "metadata": {},
   "outputs": [
    {
     "data": {
      "text/plain": [
       "<matplotlib.axes._subplots.AxesSubplot at 0x1c2389b2b0>"
      ]
     },
     "execution_count": 31,
     "metadata": {},
     "output_type": "execute_result"
    },
    {
     "data": {
      "image/png": "[encoded data removed]",
      "text/plain": [
       "<Figure size 432x288 with 1 Axes>"
      ]
     },
     "metadata": {
      "needs_background": "light"
     },
     "output_type": "display_data"
    }
   ],
   "source": [
    "acoso.Lugar_especifico.value_counts().iloc[:10].plot(kind= \"barh\")"
   ]
  },
  {
   "cell_type": "markdown",
   "metadata": {},
   "source": [
    "El acoso ocurrió con mayor frecuencia dentro de casas y lugares de residencia.  "
   ]
  },
  {
   "cell_type": "markdown",
   "metadata": {},
   "source": [
    " ### 2.2. Análisis de la ocurrencia del delito en el tiempo"
   ]
  },
  {
   "cell_type": "markdown",
   "metadata": {},
   "source": [
    "Si queremos saber la frecuencia de ocurrencia del delito en diferentes años (2004-2018) y meses del año.\n",
    "Aquí la variable dependiente es nuevamente la ocurrencia del delito y la independiente el tiempo. "
   ]
  },
  {
   "cell_type": "code",
   "execution_count": 33,
   "metadata": {},
   "outputs": [
    {
     "data": {
      "text/plain": [
       "<matplotlib.axes._subplots.AxesSubplot at 0x1c23873588>"
      ]
     },
     "execution_count": 33,
     "metadata": {},
     "output_type": "execute_result"
    },
    {
     "data": {
      "image/png": "[encoded data removed]",
      "text/plain": [
       "<Figure size 432x288 with 1 Axes>"
      ]
     },
     "metadata": {
      "needs_background": "light"
     },
     "output_type": "display_data"
    }
   ],
   "source": [
    "acoso.groupby(\"anio\").size().plot(kind=\"bar\")\n"
   ]
  },
  {
   "cell_type": "markdown",
   "metadata": {},
   "source": [
    "Podemos observar la mayoria de los resportes de acoso ocurrieron del 2016 al 2018. El 2011 fue el año con menor número de reportes de la ocurrencia de acoso "
   ]
  },
  {
   "cell_type": "markdown",
   "metadata": {},
   "source": [
    "### 2.3. Analisis de ocurrencia del delito por sexo de la víctima y del agresor "
   ]
  },
  {
   "cell_type": "markdown",
   "metadata": {},
   "source": [
    "En este ejemplo, la variable dependiente es el sexo de la víctima y la independiente el sexo del agresor "
   ]
  },
  {
   "cell_type": "markdown",
   "metadata": {},
   "source": [
    "#### VICTIMAS"
   ]
  },
  {
   "cell_type": "code",
   "execution_count": 34,
   "metadata": {},
   "outputs": [
    {
     "data": {
      "text/plain": [
       "Sexo_victima\n",
       "F    4243\n",
       "M    1778\n",
       "D      25\n",
       "E       3\n",
       "dtype: int64"
      ]
     },
     "execution_count": 34,
     "metadata": {},
     "output_type": "execute_result"
    }
   ],
   "source": [
    "acoso.groupby(\"Sexo_victima\").size().sort_values(ascending=False)"
   ]
  },
  {
   "cell_type": "code",
   "execution_count": 35,
   "metadata": {},
   "outputs": [
    {
     "data": {
      "text/plain": [
       "<matplotlib.axes._subplots.AxesSubplot at 0x1c230d99b0>"
      ]
     },
     "execution_count": 35,
     "metadata": {},
     "output_type": "execute_result"
    },
    {
     "data": {
      "image/png": "[encoded data removed]",
      "text/plain": [
       "<Figure size 432x288 with 1 Axes>"
      ]
     },
     "metadata": {},
     "output_type": "display_data"
    }
   ],
   "source": [
    "acoso.Sexo_victima.value_counts().iloc[:10].plot(kind= \"pie\")"
   ]
  },
  {
   "cell_type": "code",
   "execution_count": 36,
   "metadata": {},
   "outputs": [
    {
     "data": {
      "text/plain": [
       "Edad_victima\n",
       "25-44      2942\n",
       "45-64      1591\n",
       "18-24       797\n",
       "<18         305\n",
       "65+         273\n",
       "UNKNOWN     141\n",
       "dtype: int64"
      ]
     },
     "execution_count": 36,
     "metadata": {},
     "output_type": "execute_result"
    }
   ],
   "source": [
    "acoso.groupby(\"Edad_victima\").size().sort_values(ascending=False)"
   ]
  },
  {
   "cell_type": "code",
   "execution_count": 37,
   "metadata": {},
   "outputs": [
    {
     "data": {
      "text/plain": [
       "<matplotlib.axes._subplots.AxesSubplot at 0x1c232bb390>"
      ]
     },
     "execution_count": 37,
     "metadata": {},
     "output_type": "execute_result"
    },
    {
     "data": {
      "image/png": "[encoded data removed]",
      "text/plain": [
       "<Figure size 432x288 with 1 Axes>"
      ]
     },
     "metadata": {},
     "output_type": "display_data"
    }
   ],
   "source": [
    "acoso.Edad_victima.value_counts().iloc[:10].plot(kind= \"pie\")"
   ]
  },
  {
   "cell_type": "markdown",
   "metadata": {},
   "source": [
    "#### SOSPECHOSOS"
   ]
  },
  {
   "cell_type": "code",
   "execution_count": 38,
   "metadata": {},
   "outputs": [
    {
     "data": {
      "text/plain": [
       "Sexo_sospechoso\n",
       "M    3987\n",
       "F    1757\n",
       "U     305\n",
       "dtype: int64"
      ]
     },
     "execution_count": 38,
     "metadata": {},
     "output_type": "execute_result"
    }
   ],
   "source": [
    "acoso.groupby(\"Sexo_sospechoso\").size().sort_values(ascending=False)"
   ]
  },
  {
   "cell_type": "code",
   "execution_count": 39,
   "metadata": {},
   "outputs": [
    {
     "data": {
      "text/plain": [
       "<matplotlib.axes._subplots.AxesSubplot at 0x1c235c6048>"
      ]
     },
     "execution_count": 39,
     "metadata": {},
     "output_type": "execute_result"
    },
    {
     "data": {
      "image/png": "[encoded data removed]",
      "text/plain": [
       "<Figure size 432x288 with 1 Axes>"
      ]
     },
     "metadata": {},
     "output_type": "display_data"
    }
   ],
   "source": [
    "acoso.Sexo_sospechoso.value_counts().iloc[:10].plot(kind= \"pie\")"
   ]
  },
  {
   "cell_type": "code",
   "execution_count": 40,
   "metadata": {},
   "outputs": [
    {
     "data": {
      "text/plain": [
       "Edad_sospechoso\n",
       "25-44      2677\n",
       "45-64      1187\n",
       "UNKNOWN     924\n",
       "18-24       798\n",
       "<18         301\n",
       "65+         162\n",
       "dtype: int64"
      ]
     },
     "execution_count": 40,
     "metadata": {},
     "output_type": "execute_result"
    }
   ],
   "source": [
    "acoso.groupby(\"Edad_sospechoso\").size().sort_values(ascending=False)"
   ]
  },
  {
   "cell_type": "code",
   "execution_count": 41,
   "metadata": {},
   "outputs": [
    {
     "data": {
      "text/plain": [
       "<matplotlib.axes._subplots.AxesSubplot at 0x1c23632f60>"
      ]
     },
     "execution_count": 41,
     "metadata": {},
     "output_type": "execute_result"
    },
    {
     "data": {
      "image/png": "[encoded data removed]",
      "text/plain": [
       "<Figure size 432x288 with 1 Axes>"
      ]
     },
     "metadata": {},
     "output_type": "display_data"
    }
   ],
   "source": [
    "acoso.Edad_sospechoso.value_counts().iloc[:10].plot(kind= \"pie\")"
   ]
  },
  {
   "cell_type": "markdown",
   "metadata": {},
   "source": [
    "### 2.4. Analisis de ocurrencia del delito por raza de la víctima y del agresor "
   ]
  },
  {
   "cell_type": "markdown",
   "metadata": {},
   "source": [
    "En este ultimo ejemplo de relación entre variables, la variable dependiente es la raza de la víctima y la independiente es la raza del agresor. "
   ]
  },
  {
   "cell_type": "markdown",
   "metadata": {},
   "source": [
    "#### VICTIMAS"
   ]
  },
  {
   "cell_type": "code",
   "execution_count": 42,
   "metadata": {},
   "outputs": [
    {
     "data": {
      "text/plain": [
       "Raza_victima\n",
       "BLACK                             2368\n",
       "WHITE HISPANIC                    1491\n",
       "WHITE                             1183\n",
       "ASIAN / PACIFIC ISLANDER           364\n",
       "UNKNOWN                            304\n",
       "BLACK HISPANIC                     293\n",
       "AMERICAN INDIAN/ALASKAN NATIVE      46\n",
       "dtype: int64"
      ]
     },
     "execution_count": 42,
     "metadata": {},
     "output_type": "execute_result"
    }
   ],
   "source": [
    "acoso.groupby(\"Raza_victima\").size().sort_values(ascending=False)"
   ]
  },
  {
   "cell_type": "code",
   "execution_count": 43,
   "metadata": {},
   "outputs": [
    {
     "data": {
      "text/plain": [
       "<matplotlib.axes._subplots.AxesSubplot at 0x1c237bdc50>"
      ]
     },
     "execution_count": 43,
     "metadata": {},
     "output_type": "execute_result"
    },
    {
     "data": {
      "image/png": "[encoded data removed]",
      "text/plain": [
       "<Figure size 432x288 with 1 Axes>"
      ]
     },
     "metadata": {},
     "output_type": "display_data"
    }
   ],
   "source": [
    "acoso.Raza_victima.value_counts().iloc[:10].plot(kind= \"pie\")"
   ]
  },
  {
   "cell_type": "markdown",
   "metadata": {},
   "source": [
    "#### SOSPECHOSOS"
   ]
  },
  {
   "cell_type": "code",
   "execution_count": 44,
   "metadata": {},
   "outputs": [
    {
     "data": {
      "text/plain": [
       "Raza_sospechoso\n",
       "BLACK                             2479\n",
       "WHITE HISPANIC                    1269\n",
       "WHITE                              938\n",
       "UNKNOWN                            697\n",
       "BLACK HISPANIC                     337\n",
       "ASIAN / PACIFIC ISLANDER           295\n",
       "AMERICAN INDIAN/ALASKAN NATIVE      34\n",
       "dtype: int64"
      ]
     },
     "execution_count": 44,
     "metadata": {},
     "output_type": "execute_result"
    }
   ],
   "source": [
    "acoso.groupby(\"Raza_sospechoso\").size().sort_values(ascending=False)"
   ]
  },
  {
   "cell_type": "code",
   "execution_count": 45,
   "metadata": {},
   "outputs": [
    {
     "data": {
      "text/plain": [
       "<matplotlib.axes._subplots.AxesSubplot at 0x1c24714f28>"
      ]
     },
     "execution_count": 45,
     "metadata": {},
     "output_type": "execute_result"
    },
    {
     "data": {
      "image/png": "[encoded data removed]",
      "text/plain": [
       "<Figure size 432x288 with 1 Axes>"
      ]
     },
     "metadata": {},
     "output_type": "display_data"
    }
   ],
   "source": [
    "acoso.Raza_sospechoso.value_counts().iloc[:10].plot(kind= \"pie\")"
   ]
  },
  {
   "cell_type": "markdown",
   "metadata": {},
   "source": [
    "## 3.0 Regresión lineal "
   ]
  },
  {
   "cell_type": "markdown",
   "metadata": {},
   "source": [
    "Pongamos a prueba la relación entre un par de variables. Por ejemplo, pero de la victima y peso del agresor. La relación puede ser negativa o positiva.  "
   ]
  },
  {
   "cell_type": "code",
   "execution_count": 54,
   "metadata": {},
   "outputs": [],
   "source": [
    "import pandas as pd\n",
    "import statsmodels.api as sm\n",
    "from sklearn import datasets, linear_model"
   ]
  },
  {
   "cell_type": "code",
   "execution_count": 62,
   "metadata": {},
   "outputs": [
    {
     "data": {
      "text/html": [
       "<div>\n",
       "<style scoped>\n",
       "    .dataframe tbody tr th:only-of-type {\n",
       "        vertical-align: middle;\n",
       "    }\n",
       "\n",
       "    .dataframe tbody tr th {\n",
       "        vertical-align: top;\n",
       "    }\n",
       "\n",
       "    .dataframe thead th {\n",
       "        text-align: right;\n",
       "    }\n",
       "</style>\n",
       "<table border=\"1\" class=\"dataframe\">\n",
       "  <thead>\n",
       "    <tr style=\"text-align: right;\">\n",
       "      <th></th>\n",
       "      <th>VIC_Weight</th>\n",
       "      <th>AGRE_Weight</th>\n",
       "    </tr>\n",
       "  </thead>\n",
       "  <tbody>\n",
       "    <tr>\n",
       "      <th>0</th>\n",
       "      <td>241.893563</td>\n",
       "      <td>109.720985</td>\n",
       "    </tr>\n",
       "    <tr>\n",
       "      <th>1</th>\n",
       "      <td>162.310473</td>\n",
       "      <td>73.622732</td>\n",
       "    </tr>\n",
       "    <tr>\n",
       "      <th>2</th>\n",
       "      <td>212.740856</td>\n",
       "      <td>96.497550</td>\n",
       "    </tr>\n",
       "    <tr>\n",
       "      <th>3</th>\n",
       "      <td>220.042470</td>\n",
       "      <td>99.809504</td>\n",
       "    </tr>\n",
       "    <tr>\n",
       "      <th>4</th>\n",
       "      <td>206.349801</td>\n",
       "      <td>93.598619</td>\n",
       "    </tr>\n",
       "  </tbody>\n",
       "</table>\n",
       "</div>"
      ],
      "text/plain": [
       "   VIC_Weight  AGRE_Weight \n",
       "0  241.893563    109.720985\n",
       "1  162.310473     73.622732\n",
       "2  212.740856     96.497550\n",
       "3  220.042470     99.809504\n",
       "4  206.349801     93.598619"
      ]
     },
     "execution_count": 62,
     "metadata": {},
     "output_type": "execute_result"
    }
   ],
   "source": [
    "df_w = pd.read_csv('Weight.csv')\n",
    "df_w.head()"
   ]
  },
  {
   "cell_type": "code",
   "execution_count": 63,
   "metadata": {},
   "outputs": [
    {
     "ename": "NameError",
     "evalue": "name 'y' is not defined",
     "output_type": "error",
     "traceback": [
      "\u001b[0;31m---------------------------------------------------------------------------\u001b[0m",
      "\u001b[0;31mNameError\u001b[0m                                 Traceback (most recent call last)",
      "\u001b[0;32m<ipython-input-63-4d2695826645>\u001b[0m in \u001b[0;36m<module>\u001b[0;34m\u001b[0m\n\u001b[0;32m----> 1\u001b[0;31m \u001b[0mmodel\u001b[0m \u001b[0;34m=\u001b[0m \u001b[0msm\u001b[0m\u001b[0;34m.\u001b[0m\u001b[0mOLS\u001b[0m\u001b[0;34m(\u001b[0m\u001b[0my\u001b[0m\u001b[0;34m,\u001b[0m\u001b[0mX\u001b[0m\u001b[0;34m)\u001b[0m\u001b[0;34m.\u001b[0m\u001b[0mfit\u001b[0m\u001b[0;34m(\u001b[0m\u001b[0;34m)\u001b[0m\u001b[0;34m\u001b[0m\u001b[0;34m\u001b[0m\u001b[0m\n\u001b[0m\u001b[1;32m      2\u001b[0m \u001b[0mpredictions\u001b[0m \u001b[0;34m=\u001b[0m \u001b[0mmodel\u001b[0m\u001b[0;34m.\u001b[0m\u001b[0mpredict\u001b[0m\u001b[0;34m(\u001b[0m\u001b[0mX\u001b[0m\u001b[0;34m)\u001b[0m\u001b[0;34m\u001b[0m\u001b[0;34m\u001b[0m\u001b[0m\n\u001b[1;32m      3\u001b[0m \u001b[0;34m\u001b[0m\u001b[0m\n\u001b[1;32m      4\u001b[0m \u001b[0mprint_model\u001b[0m \u001b[0;34m=\u001b[0m \u001b[0mmodel\u001b[0m\u001b[0;34m.\u001b[0m\u001b[0msummary\u001b[0m\u001b[0;34m(\u001b[0m\u001b[0;34m)\u001b[0m\u001b[0;34m\u001b[0m\u001b[0;34m\u001b[0m\u001b[0m\n\u001b[1;32m      5\u001b[0m \u001b[0mprint\u001b[0m\u001b[0;34m(\u001b[0m\u001b[0mprint_model\u001b[0m\u001b[0;34m)\u001b[0m\u001b[0;34m\u001b[0m\u001b[0;34m\u001b[0m\u001b[0m\n",
      "\u001b[0;31mNameError\u001b[0m: name 'y' is not defined"
     ]
    }
   ],
   "source": [
    "model = sm.OLS(y,X).fit()\n",
    "predictions = model.predict(X)\n",
    "\n",
    "print_model = model.summary()\n",
    "print(print_model)"
   ]
  },
  {
   "cell_type": "code",
   "execution_count": 184,
   "metadata": {},
   "outputs": [
    {
     "name": "stdout",
     "output_type": "stream",
     "text": [
      "statistics=0.986, p=0.000\n",
      "not Gaussian\n"
     ]
    },
    {
     "name": "stderr",
     "output_type": "stream",
     "text": [
      "/Users/nadia/anaconda3/lib/python3.7/site-packages/scipy/stats/morestats.py:1653: UserWarning: p-value may not be accurate for N > 5000.\n",
      "  warnings.warn(\"p-value may not be accurate for N > 5000.\")\n"
     ]
    }
   ],
   "source": [
    "from scipy.stats import shapiro\n",
    "stat, p = shapiro (y)\n",
    "print('statistics=%.3f, p=%.3f' % (stat, p))\n",
    "alpha = 0.05\n",
    "if p > alpha:\n",
    "    print('its Gaussian')\n",
    "else:\n",
    "    print('not Gaussian')"
   ]
  },
  {
   "cell_type": "code",
   "execution_count": 189,
   "metadata": {},
   "outputs": [
    {
     "data": {
      "image/png": "[encoded data removed]",
      "text/plain": [
       "<Figure size 800x550 with 1 Axes>"
      ]
     },
     "metadata": {},
     "output_type": "display_data"
    }
   ],
   "source": [
    "import statsmodels.api as sm\n",
    "import pylab\n",
    "sm.qqplot(y, loc = 4, scale = 3, line = 's')\n",
    "pylab.show()"
   ]
  },
  {
   "cell_type": "code",
   "execution_count": 191,
   "metadata": {},
   "outputs": [
    {
     "data": {
      "image/png": "[encoded data removed]",
      "text/plain": [
       "<Figure size 800x550 with 1 Axes>"
      ]
     },
     "metadata": {},
     "output_type": "display_data"
    }
   ],
   "source": [
    "import numpy as np\n",
    "import seaborn as sns\n",
    "import matplotlib.pyplot as plt\n",
    "sns.set(color_codes = True)\n",
    "\n",
    "sns.regplot(x = \"AGRE_Weight \", y = \"VIC_Weight\", data = tamano);"
   ]
  },
  {
   "cell_type": "markdown",
   "metadata": {},
   "source": [
    "## 4.0 ANOVA \n",
    "\n",
    "Para realizar un análisis de variaza utilizando nuestros datos inicialmente debemos plantearnos una hipótesis. Por ejemplo: Existe diferencias en la edad de las víctimas entre los sitios donde ocurre ocoso.\n",
    "Podemos probar nuetra hipótesis de manera estadística. \n",
    "\n",
    "En este caso generaremos una columna extra de datos numericos continuos aproximados de \"Edad_calculada_victima\" y \"Edad_calculada_agresor\" para hacer el análisis"
   ]
  },
  {
   "cell_type": "code",
   "execution_count": 48,
   "metadata": {},
   "outputs": [],
   "source": [
    "import pandas as pd\n",
    "import scipy.stats as stats\n",
    "\n",
    "import statsmodels. api as sm\n",
    "from statsmodels.formula.api import ols\n"
   ]
  },
  {
   "cell_type": "code",
   "execution_count": 49,
   "metadata": {},
   "outputs": [
    {
     "data": {
      "text/plain": [
       "array(['UNKNOWN', '25-44', '45-64', '18-24', '<18', '65+'], dtype=object)"
      ]
     },
     "execution_count": 49,
     "metadata": {},
     "output_type": "execute_result"
    }
   ],
   "source": [
    "acoso[\"Edad_sospechoso\"].unique()\n"
   ]
  },
  {
   "cell_type": "code",
   "execution_count": 50,
   "metadata": {},
   "outputs": [
    {
     "name": "stderr",
     "output_type": "stream",
     "text": [
      "/Users/nadia/anaconda3/lib/python3.7/site-packages/ipykernel_launcher.py:10: SettingWithCopyWarning: \n",
      "A value is trying to be set on a copy of a slice from a DataFrame.\n",
      "Try using .loc[row_indexer,col_indexer] = value instead\n",
      "\n",
      "See the caveats in the documentation: http://pandas.pydata.org/pandas-docs/stable/indexing.html#indexing-view-versus-copy\n",
      "  # Remove the CWD from sys.path while we load stuff.\n",
      "/Users/nadia/anaconda3/lib/python3.7/site-packages/ipykernel_launcher.py:11: SettingWithCopyWarning: \n",
      "A value is trying to be set on a copy of a slice from a DataFrame.\n",
      "Try using .loc[row_indexer,col_indexer] = value instead\n",
      "\n",
      "See the caveats in the documentation: http://pandas.pydata.org/pandas-docs/stable/indexing.html#indexing-view-versus-copy\n",
      "  # This is added back by InteractiveShellApp.init_path()\n",
      "/Users/nadia/anaconda3/lib/python3.7/site-packages/ipykernel_launcher.py:12: SettingWithCopyWarning: \n",
      "A value is trying to be set on a copy of a slice from a DataFrame.\n",
      "Try using .loc[row_indexer,col_indexer] = value instead\n",
      "\n",
      "See the caveats in the documentation: http://pandas.pydata.org/pandas-docs/stable/indexing.html#indexing-view-versus-copy\n",
      "  if sys.path[0] == '':\n",
      "/Users/nadia/anaconda3/lib/python3.7/site-packages/ipykernel_launcher.py:14: SettingWithCopyWarning: \n",
      "A value is trying to be set on a copy of a slice from a DataFrame.\n",
      "Try using .loc[row_indexer,col_indexer] = value instead\n",
      "\n",
      "See the caveats in the documentation: http://pandas.pydata.org/pandas-docs/stable/indexing.html#indexing-view-versus-copy\n",
      "  \n",
      "/Users/nadia/anaconda3/lib/python3.7/site-packages/ipykernel_launcher.py:15: SettingWithCopyWarning: \n",
      "A value is trying to be set on a copy of a slice from a DataFrame.\n",
      "Try using .loc[row_indexer,col_indexer] = value instead\n",
      "\n",
      "See the caveats in the documentation: http://pandas.pydata.org/pandas-docs/stable/indexing.html#indexing-view-versus-copy\n",
      "  from ipykernel import kernelapp as app\n",
      "/Users/nadia/anaconda3/lib/python3.7/site-packages/ipykernel_launcher.py:16: SettingWithCopyWarning: \n",
      "A value is trying to be set on a copy of a slice from a DataFrame.\n",
      "Try using .loc[row_indexer,col_indexer] = value instead\n",
      "\n",
      "See the caveats in the documentation: http://pandas.pydata.org/pandas-docs/stable/indexing.html#indexing-view-versus-copy\n",
      "  app.launch_new_instance()\n"
     ]
    }
   ],
   "source": [
    "from random import randint\n",
    "\n",
    "def rango_a_random(s):\n",
    "    if type(s)==str:\n",
    "        s = s.split('-')\n",
    "        s = [int(i) for i in s]\n",
    "        s = randint(s[0],s[1]+1)\n",
    "    return s\n",
    "\n",
    "acoso[\"Edad_calculada_victima\"] = acoso[\"Edad_victima\"]\n",
    "acoso[\"Edad_calculada_victima\"] = acoso[\"Edad_calculada_victima\"].replace(\"65+\",\"65-90\").replace(\"<18\",\"15-18\").replace(\"UNKNOWN\",np.nan)\n",
    "acoso[\"Edad_calculada_victima\"] = acoso[\"Edad_calculada_victima\"].apply(rango_a_random)\n",
    "\n",
    "acoso[\"Edad_calculada_sospechoso\"] = acoso[\"Edad_sospechoso\"]\n",
    "acoso[\"Edad_calculada_sospechoso\"] = acoso[\"Edad_calculada_sospechoso\"].replace(\"65+\",\"65-90\").replace(\"<18\",\"15-18\").replace(\"UNKNOWN\",np.nan)\n",
    "acoso[\"Edad_calculada_sospechoso\"] = acoso[\"Edad_calculada_sospechoso\"].apply(rango_a_random)"
   ]
  },
  {
   "cell_type": "code",
   "execution_count": 51,
   "metadata": {},
   "outputs": [
    {
     "data": {
      "text/html": [
       "<div>\n",
       "<style scoped>\n",
       "    .dataframe tbody tr th:only-of-type {\n",
       "        vertical-align: middle;\n",
       "    }\n",
       "\n",
       "    .dataframe tbody tr th {\n",
       "        vertical-align: top;\n",
       "    }\n",
       "\n",
       "    .dataframe thead th {\n",
       "        text-align: right;\n",
       "    }\n",
       "</style>\n",
       "<table border=\"1\" class=\"dataframe\">\n",
       "  <thead>\n",
       "    <tr style=\"text-align: right;\">\n",
       "      <th></th>\n",
       "      <th>Ciudad</th>\n",
       "      <th>Fecha</th>\n",
       "      <th>Hora</th>\n",
       "      <th>Estatus</th>\n",
       "      <th>Gravedad</th>\n",
       "      <th>Lugar</th>\n",
       "      <th>Crimen_tipo</th>\n",
       "      <th>Lugar_especifico</th>\n",
       "      <th>Edad_sospechoso</th>\n",
       "      <th>Raza_sospechoso</th>\n",
       "      <th>Sexo_sospechoso</th>\n",
       "      <th>Edad_victima</th>\n",
       "      <th>Raza_victima</th>\n",
       "      <th>Sexo_victima</th>\n",
       "      <th>Latitud</th>\n",
       "      <th>Longitud</th>\n",
       "      <th>anio</th>\n",
       "      <th>Edad_calculada_victima</th>\n",
       "      <th>Edad_calculada_sospechoso</th>\n",
       "    </tr>\n",
       "  </thead>\n",
       "  <tbody>\n",
       "    <tr>\n",
       "      <th>4094674</th>\n",
       "      <td>BROOKLYN</td>\n",
       "      <td>04/07/2016</td>\n",
       "      <td>07</td>\n",
       "      <td>COMPLETED</td>\n",
       "      <td>VIOLATION</td>\n",
       "      <td>INSIDE</td>\n",
       "      <td>HARRASSMENT 2</td>\n",
       "      <td>PUBLIC SCHOOL</td>\n",
       "      <td>UNKNOWN</td>\n",
       "      <td>BLACK</td>\n",
       "      <td>M</td>\n",
       "      <td>25-44</td>\n",
       "      <td>ASIAN / PACIFIC ISLANDER</td>\n",
       "      <td>M</td>\n",
       "      <td>40.668631</td>\n",
       "      <td>-73.904630</td>\n",
       "      <td>2016</td>\n",
       "      <td>36.0</td>\n",
       "      <td>NaN</td>\n",
       "    </tr>\n",
       "    <tr>\n",
       "      <th>4899166</th>\n",
       "      <td>BRONX</td>\n",
       "      <td>08/23/2016</td>\n",
       "      <td>08</td>\n",
       "      <td>COMPLETED</td>\n",
       "      <td>VIOLATION</td>\n",
       "      <td>INSIDE</td>\n",
       "      <td>HARRASSMENT 2</td>\n",
       "      <td>STORAGE FACILITY</td>\n",
       "      <td>25-44</td>\n",
       "      <td>WHITE HISPANIC</td>\n",
       "      <td>M</td>\n",
       "      <td>25-44</td>\n",
       "      <td>WHITE</td>\n",
       "      <td>M</td>\n",
       "      <td>40.806521</td>\n",
       "      <td>-73.910187</td>\n",
       "      <td>2016</td>\n",
       "      <td>27.0</td>\n",
       "      <td>44.0</td>\n",
       "    </tr>\n",
       "    <tr>\n",
       "      <th>3410287</th>\n",
       "      <td>QUEENS</td>\n",
       "      <td>06/19/2018</td>\n",
       "      <td>12</td>\n",
       "      <td>COMPLETED</td>\n",
       "      <td>VIOLATION</td>\n",
       "      <td>INSIDE</td>\n",
       "      <td>HARRASSMENT 2</td>\n",
       "      <td>RESIDENCE-HOUSE</td>\n",
       "      <td>25-44</td>\n",
       "      <td>UNKNOWN</td>\n",
       "      <td>M</td>\n",
       "      <td>UNKNOWN</td>\n",
       "      <td>WHITE HISPANIC</td>\n",
       "      <td>F</td>\n",
       "      <td>40.725925</td>\n",
       "      <td>-73.809629</td>\n",
       "      <td>2018</td>\n",
       "      <td>NaN</td>\n",
       "      <td>28.0</td>\n",
       "    </tr>\n",
       "    <tr>\n",
       "      <th>3401750</th>\n",
       "      <td>MANHATTAN</td>\n",
       "      <td>07/21/2018</td>\n",
       "      <td>16</td>\n",
       "      <td>COMPLETED</td>\n",
       "      <td>VIOLATION</td>\n",
       "      <td>INSIDE</td>\n",
       "      <td>HARRASSMENT 2</td>\n",
       "      <td>RESIDENCE - APT. HOUSE</td>\n",
       "      <td>45-64</td>\n",
       "      <td>WHITE HISPANIC</td>\n",
       "      <td>M</td>\n",
       "      <td>25-44</td>\n",
       "      <td>WHITE HISPANIC</td>\n",
       "      <td>F</td>\n",
       "      <td>40.862255</td>\n",
       "      <td>-73.926297</td>\n",
       "      <td>2018</td>\n",
       "      <td>28.0</td>\n",
       "      <td>47.0</td>\n",
       "    </tr>\n",
       "    <tr>\n",
       "      <th>3954391</th>\n",
       "      <td>BRONX</td>\n",
       "      <td>07/30/2017</td>\n",
       "      <td>08</td>\n",
       "      <td>COMPLETED</td>\n",
       "      <td>VIOLATION</td>\n",
       "      <td>FRONT OF</td>\n",
       "      <td>HARRASSMENT 2</td>\n",
       "      <td>RESIDENCE - APT. HOUSE</td>\n",
       "      <td>UNKNOWN</td>\n",
       "      <td>WHITE HISPANIC</td>\n",
       "      <td>M</td>\n",
       "      <td>25-44</td>\n",
       "      <td>WHITE</td>\n",
       "      <td>M</td>\n",
       "      <td>40.903782</td>\n",
       "      <td>-73.906391</td>\n",
       "      <td>2017</td>\n",
       "      <td>25.0</td>\n",
       "      <td>NaN</td>\n",
       "    </tr>\n",
       "  </tbody>\n",
       "</table>\n",
       "</div>"
      ],
      "text/plain": [
       "            Ciudad       Fecha Hora    Estatus   Gravedad     Lugar  \\\n",
       "4094674   BROOKLYN  04/07/2016   07  COMPLETED  VIOLATION    INSIDE   \n",
       "4899166      BRONX  08/23/2016   08  COMPLETED  VIOLATION    INSIDE   \n",
       "3410287     QUEENS  06/19/2018   12  COMPLETED  VIOLATION    INSIDE   \n",
       "3401750  MANHATTAN  07/21/2018   16  COMPLETED  VIOLATION    INSIDE   \n",
       "3954391      BRONX  07/30/2017   08  COMPLETED  VIOLATION  FRONT OF   \n",
       "\n",
       "           Crimen_tipo        Lugar_especifico Edad_sospechoso  \\\n",
       "4094674  HARRASSMENT 2           PUBLIC SCHOOL         UNKNOWN   \n",
       "4899166  HARRASSMENT 2        STORAGE FACILITY           25-44   \n",
       "3410287  HARRASSMENT 2         RESIDENCE-HOUSE           25-44   \n",
       "3401750  HARRASSMENT 2  RESIDENCE - APT. HOUSE           45-64   \n",
       "3954391  HARRASSMENT 2  RESIDENCE - APT. HOUSE         UNKNOWN   \n",
       "\n",
       "        Raza_sospechoso Sexo_sospechoso Edad_victima  \\\n",
       "4094674           BLACK               M        25-44   \n",
       "4899166  WHITE HISPANIC               M        25-44   \n",
       "3410287         UNKNOWN               M      UNKNOWN   \n",
       "3401750  WHITE HISPANIC               M        25-44   \n",
       "3954391  WHITE HISPANIC               M        25-44   \n",
       "\n",
       "                     Raza_victima Sexo_victima    Latitud   Longitud  anio  \\\n",
       "4094674  ASIAN / PACIFIC ISLANDER            M  40.668631 -73.904630  2016   \n",
       "4899166                     WHITE            M  40.806521 -73.910187  2016   \n",
       "3410287            WHITE HISPANIC            F  40.725925 -73.809629  2018   \n",
       "3401750            WHITE HISPANIC            F  40.862255 -73.926297  2018   \n",
       "3954391                     WHITE            M  40.903782 -73.906391  2017   \n",
       "\n",
       "         Edad_calculada_victima  Edad_calculada_sospechoso  \n",
       "4094674                    36.0                        NaN  \n",
       "4899166                    27.0                       44.0  \n",
       "3410287                     NaN                       28.0  \n",
       "3401750                    28.0                       47.0  \n",
       "3954391                    25.0                        NaN  "
      ]
     },
     "execution_count": 51,
     "metadata": {},
     "output_type": "execute_result"
    }
   ],
   "source": [
    "acoso.head(5)"
   ]
  },
  {
   "cell_type": "code",
   "execution_count": 222,
   "metadata": {},
   "outputs": [
    {
     "data": {
      "text/html": [
       "<table class=\"simpletable\">\n",
       "<caption>OLS Regression Results</caption>\n",
       "<tr>\n",
       "  <th>Dep. Variable:</th>    <td>Edad_calculada_victima</td> <th>  R-squared:         </th> <td>   0.003</td> \n",
       "</tr>\n",
       "<tr>\n",
       "  <th>Model:</th>                      <td>OLS</td>          <th>  Adj. R-squared:    </th> <td>   0.002</td> \n",
       "</tr>\n",
       "<tr>\n",
       "  <th>Method:</th>                <td>Least Squares</td>     <th>  F-statistic:       </th> <td>   4.129</td> \n",
       "</tr>\n",
       "<tr>\n",
       "  <th>Date:</th>                <td>Fri, 29 Nov 2019</td>    <th>  Prob (F-statistic):</th>  <td>0.00242</td> \n",
       "</tr>\n",
       "<tr>\n",
       "  <th>Time:</th>                    <td>10:15:16</td>        <th>  Log-Likelihood:    </th> <td> -24645.</td> \n",
       "</tr>\n",
       "<tr>\n",
       "  <th>No. Observations:</th>         <td>  5908</td>         <th>  AIC:               </th> <td>4.930e+04</td>\n",
       "</tr>\n",
       "<tr>\n",
       "  <th>Df Residuals:</th>             <td>  5903</td>         <th>  BIC:               </th> <td>4.933e+04</td>\n",
       "</tr>\n",
       "<tr>\n",
       "  <th>Df Model:</th>                 <td>     4</td>         <th>                     </th>     <td> </td>    \n",
       "</tr>\n",
       "<tr>\n",
       "  <th>Covariance Type:</th>         <td>nonrobust</td>       <th>                     </th>     <td> </td>    \n",
       "</tr>\n",
       "</table>\n",
       "<table class=\"simpletable\">\n",
       "<tr>\n",
       "               <td></td>                 <th>coef</th>     <th>std err</th>      <th>t</th>      <th>P>|t|</th>  <th>[0.025</th>    <th>0.975]</th>  \n",
       "</tr>\n",
       "<tr>\n",
       "  <th>Intercept</th>                  <td>   38.2012</td> <td>    0.434</td> <td>   88.031</td> <td> 0.000</td> <td>   37.351</td> <td>   39.052</td>\n",
       "</tr>\n",
       "<tr>\n",
       "  <th>C(Ciudad)[T.BROOKLYN]</th>      <td>    1.3633</td> <td>    0.567</td> <td>    2.406</td> <td> 0.016</td> <td>    0.252</td> <td>    2.474</td>\n",
       "</tr>\n",
       "<tr>\n",
       "  <th>C(Ciudad)[T.MANHATTAN]</th>     <td>    2.0374</td> <td>    0.646</td> <td>    3.152</td> <td> 0.002</td> <td>    0.770</td> <td>    3.304</td>\n",
       "</tr>\n",
       "<tr>\n",
       "  <th>C(Ciudad)[T.QUEENS]</th>        <td>    2.2375</td> <td>    0.617</td> <td>    3.628</td> <td> 0.000</td> <td>    1.028</td> <td>    3.447</td>\n",
       "</tr>\n",
       "<tr>\n",
       "  <th>C(Ciudad)[T.STATEN ISLAND]</th> <td>    0.6947</td> <td>    0.902</td> <td>    0.770</td> <td> 0.441</td> <td>   -1.073</td> <td>    2.462</td>\n",
       "</tr>\n",
       "</table>\n",
       "<table class=\"simpletable\">\n",
       "<tr>\n",
       "  <th>Omnibus:</th>       <td>395.890</td> <th>  Durbin-Watson:     </th> <td>   1.997</td> \n",
       "</tr>\n",
       "<tr>\n",
       "  <th>Prob(Omnibus):</th> <td> 0.000</td>  <th>  Jarque-Bera (JB):  </th> <td> 478.450</td> \n",
       "</tr>\n",
       "<tr>\n",
       "  <th>Skew:</th>          <td> 0.692</td>  <th>  Prob(JB):          </th> <td>1.28e-104</td>\n",
       "</tr>\n",
       "<tr>\n",
       "  <th>Kurtosis:</th>      <td> 3.163</td>  <th>  Cond. No.          </th> <td>    5.95</td> \n",
       "</tr>\n",
       "</table><br/><br/>Warnings:<br/>[1] Standard Errors assume that the covariance matrix of the errors is correctly specified."
      ],
      "text/plain": [
       "<class 'statsmodels.iolib.summary.Summary'>\n",
       "\"\"\"\n",
       "                              OLS Regression Results                              \n",
       "==================================================================================\n",
       "Dep. Variable:     Edad_calculada_victima   R-squared:                       0.003\n",
       "Model:                                OLS   Adj. R-squared:                  0.002\n",
       "Method:                     Least Squares   F-statistic:                     4.129\n",
       "Date:                    Fri, 29 Nov 2019   Prob (F-statistic):            0.00242\n",
       "Time:                            10:15:16   Log-Likelihood:                -24645.\n",
       "No. Observations:                    5908   AIC:                         4.930e+04\n",
       "Df Residuals:                        5903   BIC:                         4.933e+04\n",
       "Df Model:                               4                                         \n",
       "Covariance Type:                nonrobust                                         \n",
       "==============================================================================================\n",
       "                                 coef    std err          t      P>|t|      [0.025      0.975]\n",
       "----------------------------------------------------------------------------------------------\n",
       "Intercept                     38.2012      0.434     88.031      0.000      37.351      39.052\n",
       "C(Ciudad)[T.BROOKLYN]          1.3633      0.567      2.406      0.016       0.252       2.474\n",
       "C(Ciudad)[T.MANHATTAN]         2.0374      0.646      3.152      0.002       0.770       3.304\n",
       "C(Ciudad)[T.QUEENS]            2.2375      0.617      3.628      0.000       1.028       3.447\n",
       "C(Ciudad)[T.STATEN ISLAND]     0.6947      0.902      0.770      0.441      -1.073       2.462\n",
       "==============================================================================\n",
       "Omnibus:                      395.890   Durbin-Watson:                   1.997\n",
       "Prob(Omnibus):                  0.000   Jarque-Bera (JB):              478.450\n",
       "Skew:                           0.692   Prob(JB):                    1.28e-104\n",
       "Kurtosis:                       3.163   Cond. No.                         5.95\n",
       "==============================================================================\n",
       "\n",
       "Warnings:\n",
       "[1] Standard Errors assume that the covariance matrix of the errors is correctly specified.\n",
       "\"\"\""
      ]
     },
     "execution_count": 222,
     "metadata": {},
     "output_type": "execute_result"
    }
   ],
   "source": [
    "acoso.dropna ()\n",
    "results = ols('Edad_calculada_victima ~ C(Ciudad)', data = acoso).fit()\n",
    "results.summary()"
   ]
  },
  {
   "cell_type": "markdown",
   "metadata": {},
   "source": [
    "En un análisis de varianza los dos \"datos\" de mayor importancia son el valor de F (F-statistic) y el valor de P (Prof F-statistic). Debemos obtener un avalor de P <0.05 para poder aceptar nuestra hipótesis. \n",
    "En el ejemplo nuestro valor de F=4.129 y el de P=0.002. Es decir que podemos aceptar nuestra hipótesis. "
   ]
  },
  {
   "cell_type": "code",
   "execution_count": null,
   "metadata": {},
   "outputs": [],
   "source": []
  }
 ],
 "metadata": {
  "kernelspec": {
   "display_name": "Python 3",
   "language": "python",
   "name": "python3"
  },
  "language_info": {
   "codemirror_mode": {
    "name": "ipython",
    "version": 3
   },
   "file_extension": ".py",
   "mimetype": "text/x-python",
   "name": "python",
   "nbconvert_exporter": "python",
   "pygments_lexer": "ipython3",
   "version": "3.7.4"
  }
 },
 "nbformat": 4,
 "nbformat_minor": 4
}
