{
 "cells": [
  {
   "cell_type": "markdown",
   "metadata": {
    "colab_type": "text",
    "id": "view-in-github"
   },
   "source": [
    "<a href=\"https://colab.research.google.com/github/EnisBerk/speech_audio_understanding/blob/master/notebooks/audioset_inference_basic_example.ipynb\" target=\"_parent\"><img src=\"https://colab.research.google.com/assets/colab-badge.svg\" alt=\"Open In Colab\"/></a>"
   ]
  },
  {
   "cell_type": "code",
   "execution_count": 0,
   "metadata": {
    "colab": {},
    "colab_type": "code",
    "id": "QTXVqoZw_6xz"
   },
   "outputs": [],
   "source": [
    "from pathlib import Path\n",
    "\n"
   ]
  },
  {
   "cell_type": "code",
   "execution_count": 2,
   "metadata": {
    "colab": {
     "base_uri": "https://localhost:8080/",
     "height": 170
    },
    "colab_type": "code",
    "id": "5phv8tve_yd-",
    "outputId": "3670d6cc-a47e-4805-cd11-ce107d165f8d"
   },
   "outputs": [
    {
     "name": "stdout",
     "output_type": "stream",
     "text": [
      "  % Total    % Received % Xferd  Average Speed   Time    Time     Time  Current\n",
      "                                 Dload  Upload   Total   Spent    Left  Speed\n",
      "100 55.8M  100 55.8M    0     0  19.9M      0  0:00:02  0:00:02 --:--:-- 19.9M\n",
      "  % Total    % Received % Xferd  Average Speed   Time    Time     Time  Current\n",
      "                                 Dload  Upload   Total   Spent    Left  Speed\n",
      "100  5748  100  5748    0     0  15166      0 --:--:-- --:--:-- --:--:-- 15126\n",
      "  % Total    % Received % Xferd  Average Speed   Time    Time     Time  Current\n",
      "                                 Dload  Upload   Total   Spent    Left  Speed\n",
      "100 14675  100 14675    0     0  36779      0 --:--:-- --:--:-- --:--:-- 36779\n"
     ]
    }
   ],
   "source": [
    "my_file = Path(\"./md_50000_iters.tar\")\n",
    "if not my_file.is_file():\n",
    "  !curl https://storage.googleapis.com/deep_learning_enis/speech_audio_understanding/Eusipco2018_Google_AudioSet/md_50000_iters.tar --output ./md_50000_iters.tar\n",
    "  !curl https://gist.githubusercontent.com/EnisBerk/19d817e9a6a9c060465a5b95c8d54d97/raw/8e0c24e92853e779e222bc3a152d7d65351cfe52/model.py --output ./model.py\n",
    "  !curl https://raw.githubusercontent.com/qiuqiangkong/audioset_classification/master/metadata/class_labels_indices.csv --output ./class_labels_indices.csv"
   ]
  },
  {
   "cell_type": "code",
   "execution_count": 0,
   "metadata": {
    "colab": {},
    "colab_type": "code",
    "id": "6nVCPdCXAQNA"
   },
   "outputs": [],
   "source": [
    "from model import *\n",
    "\n",
    "freq_bins = 128\n",
    "classes_num = 527\n",
    "\n",
    "# Hyper parameters\n",
    "hidden_units = 1024\n",
    "drop_rate = 0.5\n",
    "\n",
    "model = FeatureLevelSingleAttention(\n",
    "            freq_bins, classes_num, hidden_units, drop_rate)"
   ]
  },
  {
   "cell_type": "code",
   "execution_count": 4,
   "metadata": {
    "colab": {
     "base_uri": "https://localhost:8080/",
     "height": 306
    },
    "colab_type": "code",
    "id": "vQyqJv28AX5A",
    "outputId": "e72b2662-5f8b-458c-f972-cbfd2f892156"
   },
   "outputs": [
    {
     "data": {
      "text/plain": [
       "FeatureLevelSingleAttention(\n",
       "  (emb): EmbeddingLayers(\n",
       "    (conv1): Conv2d(128, 1024, kernel_size=(1, 1), stride=(1, 1), bias=False)\n",
       "    (conv2): Conv2d(1024, 1024, kernel_size=(1, 1), stride=(1, 1), bias=False)\n",
       "    (conv3): Conv2d(1024, 1024, kernel_size=(1, 1), stride=(1, 1), bias=False)\n",
       "    (bn0): BatchNorm2d(128, eps=1e-05, momentum=0.1, affine=True, track_running_stats=True)\n",
       "    (bn1): BatchNorm2d(1024, eps=1e-05, momentum=0.1, affine=True, track_running_stats=True)\n",
       "    (bn2): BatchNorm2d(1024, eps=1e-05, momentum=0.1, affine=True, track_running_stats=True)\n",
       "    (bn3): BatchNorm2d(1024, eps=1e-05, momentum=0.1, affine=True, track_running_stats=True)\n",
       "  )\n",
       "  (attention): Attention(\n",
       "    (att): Conv2d(1024, 1024, kernel_size=(1, 1), stride=(1, 1))\n",
       "    (cla): Conv2d(1024, 1024, kernel_size=(1, 1), stride=(1, 1))\n",
       "  )\n",
       "  (fc_final): Linear(in_features=1024, out_features=527, bias=True)\n",
       "  (bn_attention): BatchNorm1d(1024, eps=1e-05, momentum=0.1, affine=True, track_running_stats=True)\n",
       ")"
      ]
     },
     "execution_count": 4,
     "metadata": {
      "tags": []
     },
     "output_type": "execute_result"
    }
   ],
   "source": [
    "checkpoint = torch.load(\"md_50000_iters.tar\")\n",
    "model.load_state_dict(checkpoint['state_dict'])\n",
    "# optimizer.load_state_dict(checkpoint['optimizer'])\n",
    "iteration = checkpoint['iteration']\n",
    "\n",
    "model.eval()"
   ]
  },
  {
   "cell_type": "code",
   "execution_count": 6,
   "metadata": {
    "colab": {
     "base_uri": "https://localhost:8080/",
     "height": 232
    },
    "colab_type": "code",
    "id": "bJd56KitBkve",
    "outputId": "76b1cee8-5543-41c8-8f24-d051513fe392"
   },
   "outputs": [
    {
     "ename": "NameError",
     "evalue": "ignored",
     "output_type": "error",
     "traceback": [
      "\u001b[0;31m---------------------------------------------------------------------------\u001b[0m",
      "\u001b[0;31mNameError\u001b[0m                                 Traceback (most recent call last)",
      "\u001b[0;32m<ipython-input-6-7e41bf1bd74b>\u001b[0m in \u001b[0;36m<module>\u001b[0;34m()\u001b[0m\n\u001b[0;32m----> 1\u001b[0;31m \u001b[0my_pred\u001b[0m\u001b[0;34m=\u001b[0m\u001b[0mmodel\u001b[0m\u001b[0;34m(\u001b[0m\u001b[0minput_sound\u001b[0m\u001b[0;34m)\u001b[0m\u001b[0;34m\u001b[0m\u001b[0;34m\u001b[0m\u001b[0m\n\u001b[0m\u001b[1;32m      2\u001b[0m \u001b[0;31m# however input should be in shape of (numer of samples,length of each sound sample,filter count)\u001b[0m\u001b[0;34m\u001b[0m\u001b[0;34m\u001b[0m\u001b[0;34m\u001b[0m\u001b[0m\n\u001b[1;32m      3\u001b[0m \u001b[0;31m#filter count is 128\u001b[0m\u001b[0;34m\u001b[0m\u001b[0;34m\u001b[0m\u001b[0;34m\u001b[0m\u001b[0m\n\u001b[1;32m      4\u001b[0m \u001b[0;31m# I wrote following function to work on our audisoet easly.\u001b[0m\u001b[0;34m\u001b[0m\u001b[0;34m\u001b[0m\u001b[0;34m\u001b[0m\u001b[0m\n\u001b[1;32m      5\u001b[0m \u001b[0;31m# Reshapes input accordingly and returns k highest classes for  each sample\u001b[0m\u001b[0;34m\u001b[0m\u001b[0;34m\u001b[0m\u001b[0;34m\u001b[0m\u001b[0m\n",
      "\u001b[0;31mNameError\u001b[0m: name 'input_sound' is not defined"
     ]
    }
   ],
   "source": [
    "# here is how to make predictions with model:\n",
    "y_pred=model(input_sound)\n",
    "# however input should be in shape of (numer of samples,length of each sound sample,filter count) \n",
    "#filter count is 128 \n",
    "# I wrote following function to work on our audisoet easly.\n",
    "# Reshapes input accordingly and returns k highest classes for  each sample\n"
   ]
  },
  {
   "cell_type": "code",
   "execution_count": 0,
   "metadata": {
    "colab": {},
    "colab_type": "code",
    "id": "lLfeHxUrAbGw"
   },
   "outputs": [],
   "source": [
    "#input_tensor should be in shape of (sample_count,10)\n",
    "\n",
    "\n",
    "# use it as following:\n",
    "#y_preds,y_preds_index = inference(input_tensor,batch_size=500,first_k=10)\n",
    "# explanation:\n",
    "# y_preds are the values assigned to each class predicted \n",
    "# y_preds_index are the indexes of those classes \n",
    "# first_k controls how many classes will be returned, only highest scoring classes are returned\n",
    "\n",
    "\n",
    "def inference(input_x,batch_size=500,first_k=1):\n",
    "  predicted_labels=[]\n",
    "  y_preds=torch.empty(0,first_k)\n",
    "  y_pred_indexs=torch.empty((0,first_k),dtype=torch.long)\n",
    "  start=0\n",
    "  end=input_x.shape[0]-batch_size\n",
    "  left=input_x.shape[0]%batch_size\n",
    "  if batch_size%10!=0:\n",
    "    print(\"ERROR batch_size should be divisible by 10\")\n",
    "    return None,None\n",
    "  for i in range(0,end,batch_size):\n",
    "    y_pred=model(input_x[i:i+batch_size].reshape(int(batch_size/10),10,128))\n",
    "    y_pred, y_pred_index = torch.topk(y_pred, first_k, dim=1, largest=True, sorted=True)\n",
    "    y_preds=torch.cat((y_preds,y_pred),0)\n",
    "    y_pred_indexs=torch.cat((y_pred_indexs,y_pred_index),0)\n",
    "    \n",
    "  if left>0:\n",
    "    y_pred=model(input_x[-left:].reshape(int(left/10),10,128))\n",
    "    y_pred, y_pred_index = torch.topk(y_pred, first_k, dim=1, largest=True, sorted=True)\n",
    "    y_preds=torch.cat((y_preds,y_pred),0)\n",
    "    y_pred_indexs=torch.cat((y_pred_indexs,y_pred_index),0)\n",
    "    \n",
    "  return y_preds,y_pred_indexs\n"
   ]
  },
  {
   "cell_type": "code",
   "execution_count": 0,
   "metadata": {
    "colab": {},
    "colab_type": "code",
    "id": "wX24xYKwAgRZ"
   },
   "outputs": [],
   "source": []
  }
 ],
 "metadata": {
  "accelerator": "GPU",
  "colab": {
   "collapsed_sections": [],
   "include_colab_link": true,
   "name": "audioset_inference_basic_example.ipynb",
   "provenance": [],
   "version": "0.3.2"
  },
  "kernelspec": {
   "display_name": "Python 3",
   "language": "python",
   "name": "python3"
  },
  "language_info": {
   "codemirror_mode": {
    "name": "ipython",
    "version": 3
   },
   "file_extension": ".py",
   "mimetype": "text/x-python",
   "name": "python",
   "nbconvert_exporter": "python",
   "pygments_lexer": "ipython3",
   "version": "3.8.1"
  }
 },
 "nbformat": 4,
 "nbformat_minor": 1
}
