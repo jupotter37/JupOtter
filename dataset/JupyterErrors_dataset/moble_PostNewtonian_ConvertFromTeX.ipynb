{
 "cells": [
  {
   "cell_type": "code",
   "execution_count": 1,
   "metadata": {
    "collapsed": false
   },
   "outputs": [],
   "source": [
    "# Always run this first\n",
    "# NOTE: Do not define new basic variables in this notebook;\n",
    "#       define them in Variables_Q.ipynb.  Use this notebook\n",
    "#       to define new expressions built from those variables.\n",
    "\n",
    "from __future__ import division # This needs to be here, even though it's in Variables.py\n",
    "import sys\n",
    "sys.path.insert(0, '..') # Look for modules in directory above this one\n",
    "execfile('../Utilities/ExecNotebook.ipy')\n",
    "#try: execnotebook(VariablesNotebook)\n",
    "#except: execnotebook('../PNTerms/Variables_Q.ipynb')"
   ]
  },
  {
   "cell_type": "markdown",
   "metadata": {},
   "source": [
    "This notebook provides a couple examples for how to convert long $\\LaTeX$ expression into sympy format, via Mathematica."
   ]
  },
  {
   "cell_type": "markdown",
   "metadata": {},
   "source": [
    "# EMRI terms"
   ]
  },
  {
   "cell_type": "markdown",
   "metadata": {},
   "source": [
    "The first step is to select the equation you want from the original source (possibly obtained from the \"Other Formats\" link on the paper's arXiv page), and put it in its own file.  Here, we have an example named `EMRIGWFlux_7PN.tex` taken from [Fujita (2012)](http://arxiv.org/abs/1211.5535v1).  It is best to copy this exactly, without making any changes\n",
    "\n",
    "The next step is to run this through perl, and let perl make any necessary replacements.  Mathematica won't want any `\\begin{equation}` statements, so we remove them first.  Next, we probably want to remove the left-hand side of the equation, which is just the variable name that this expression represents.  We correct any mistakes in the original (the use of `{\\rm ln}` instead of `\\ln`, for example), and remove anything else Mathematica won't understand."
   ]
  },
  {
   "cell_type": "code",
   "execution_count": 1,
   "metadata": {
    "collapsed": false
   },
   "outputs": [],
   "source": [
    "%%bash\n",
    "perl -nlw \\\n",
    "    -e 's/\\\\begin\\{eqnarray\\*\\}//g; s/\\\\end\\{eqnarray\\*\\}//g; ' `# remove environment for Mathematica` \\\n",
    "    -e 's/\\{dE\\\\over dt\\}=&&\\\\left\\(\\{dE\\\\over dt\\}\\\\right\\)_N//;' `# remove definition statement` \\\n",
    "    -e 's/\\{\\\\rm ln\\}/\\\\ln/g;' `# Correct bad notation for logarithm` \\\n",
    "    -e 's/\\\\cr//g; s/\\\\displaystyle//g;' `# These shouldn't have been in there to begin with` \\\n",
    "    -e 's/(\\\\ln\\(.\\))(\\^\\{.\\})/($1)$2/g;' `# group logarithm powers correctly` \\\n",
    "    -e 's/\\\\\\{/(/g; s/\\\\\\}/)/g; s/\\[/(/g; s/\\]/)/g;' `# convert braces and brackets to parentheses` \\\n",
    "    -e 's/\\),/\\)/;' `# remove final punctuation` \\\n",
    "    -e 'print if /\\S/;' `# only print line if nonempty` \\\n",
    "    EMRIGWFlux_7PN.tex > EMRIGWFlux_7PN_Simplified.tex\n",
    "#cat EMRIGWFlux_7PN_Simplified.tex"
   ]
  },
  {
   "cell_type": "markdown",
   "metadata": {},
   "source": [
    "Next, we just need to run this through Mathematica, which has a good TeX conversion method.  Of course, Mathematica's output is weird — all the function names are capitalized; function arguments come in square brackets; etc.  So we just replace them in the output.  Then, we go through and print the terms at each order, ready to be copied to another notebook.  (Or we could just use the sympy object `Flux` below.)\n",
    "\n",
    "*NOTE:* You will need to adjust the `MathKernel` path below.  On Linux, you will need the executable named `math` instead."
   ]
  },
  {
   "cell_type": "code",
   "execution_count": 4,
   "metadata": {
    "collapsed": false
   },
   "outputs": [
    {
     "name": "stdout",
     "output_type": "stream",
     "text": [
      "FluxTerms['IncompleteNonspinning'][8] = 232597*log(v)/4410 - 1369*pi**2/126 - 323105549467/3178375200 - 47385*log(3)/1568 + 232597*EulerGamma/4410 + 39931*log(2)/294\n",
      "FluxTerms['IncompleteNonspinning'][9] = -6848*pi*log(v)/105 - 13696*pi*log(2)/105 - 6848*EulerGamma*pi/105 + 265978667519*pi/745113600\n",
      "FluxTerms['IncompleteNonspinning'][10] = 916628467*log(v)/7858620 - 2500861660823683/2831932303200 - 424223*pi**2/6804 - 83217611*log(2)/1122660 + 916628467*EulerGamma/7858620 + 47385*log(3)/196\n",
      "FluxTerms['IncompleteNonspinning'][11] = 177293*pi*log(v)/1176 - 142155*pi*log(3)/784 + 8399309750401*pi/101708006400 + 177293*EulerGamma*pi/1176 + 8521283*pi*log(2)/17640\n",
      "FluxTerms['IncompleteNonspinning'][12] = 1465472*log(v)**2/11025 - 246137536815857*log(v)/157329572400 - 27392*pi**2*log(v)/315 + 2930944*EulerGamma*log(v)/11025 + 5861888*log(2)*log(v)/11025 - 271272899815409*log(2)/157329572400 - 54784*pi**2*log(2)/315 - 246137536815857*EulerGamma/157329572400 - 437114506833*log(3)/789268480 - 256*pi**4/45 - 27392*EulerGamma*pi**2/315 - 27392*zeta(3)/105 - 37744140625*log(5)/260941824 + 1465472*EulerGamma**2/11025 + 5861888*EulerGamma*log(2)/11025 + 5861888*log(2)**2/11025 + 2067586193789233570693/602387400044430000 + 3803225263*pi**2/10478160\n",
      "FluxTerms['IncompleteNonspinning'][13] = 300277177*pi*log(v)/436590 - 81605095538444363*pi/20138185267200 - 42817273*pi*log(2)/71442 + 300277177*EulerGamma*pi/436590 + 142155*pi*log(3)/98\n",
      "FluxTerms['IncompleteNonspinning'][14] = -52525903*log(v)**2/154350 - 471188717*log(2)*log(v)/231525 - 52525903*EulerGamma*log(v)/77175 + 9640384387033067*log(v)/17896238860500 + 1848015*log(3)*log(v)/2744 + 531077*pi**2*log(v)/6615 - 6136997968378863*log(3)/1256910054400 - 142155*pi**2*log(3)/392 - 5811697*log(2)**2/2450 - 9523*pi**4/945 - 471188717*EulerGamma*log(2)/231525 - 52525903*EulerGamma**2/154350 + 531077*zeta(3)/2205 + 9640384387033067*EulerGamma/17896238860500 + 1848015*log(3)**2/5488 + 1848015*EulerGamma*log(3)/2744 + 531077*EulerGamma*pi**2/6615 + 1848015*log(2)*log(3)/2744 + 19402232550751339*log(2)/17896238860500 + 9926708984375*log(5)/5088365568 + 128223*pi**2*log(2)/245 + 58327313257446476199371189/8332222517414555760000 + 2621359845833*pi**2/2383781400\n"
     ]
    }
   ],
   "source": [
    "MathKernel='/Applications/Local/Mathematica.app/Contents/MacOS/MathKernel'\n",
    "FluxCommand = r\"\"\"\n",
    "\\[Gamma] = EulerGamma;\n",
    "\\[Zeta] = Zeta;\n",
    "HornerForm[ToExpression[Import[\n",
    "    \"EMRIGWFlux_7PN_Simplified.tex\",\n",
    "    \"Text\"], TeXForm]] >> /tmp/Flux.cpp\n",
    "Exit[];\n",
    "\"\"\"\n",
    "! {MathKernel} -run '{FluxCommand}' >& /dev/null\n",
    "Flux = !cat /tmp/flux.cpp\n",
    "Flux = ''.join(Flux).replace(' ','').replace('Pi','pi').replace('Log','log').replace('Zeta','zeta').replace('Power','Pow')\n",
    "Flux = Flux.replace('[','(').replace(']',')').replace('^','**')\n",
    "Flux = sympify(Flux)\n",
    "\n",
    "logv = symbols('logv')\n",
    "FluxDictionary = Poly(Flux.subs('log(v)', logv), Flux.atoms(Symbol).pop()).as_dict()\n",
    "\n",
    "for key in sorted(FluxDictionary) :\n",
    "    if(key[0]>7) :\n",
    "        print(\"FluxTerms['IncompleteNonspinning'][{0}] = {1}\".format(key[0], FluxDictionary[key].subs(logv, log(v))))"
   ]
  },
  {
   "cell_type": "markdown",
   "metadata": {},
   "source": [
    "Just for fun, let's look at the actual expression:"
   ]
  },
  {
   "cell_type": "code",
   "execution_count": 5,
   "metadata": {
    "collapsed": false
   },
   "outputs": [
    {
     "data": {
      "image/png": "[encoded data removed]",
      "text/latex": [
       "$$v^{2} \\left(v \\left(v \\left(v \\left(v \\left(v \\left(v \\left(v \\left(v \\left(v \\left(v \\left(v \\left(v \\left(\\left(- \\frac{52525903}{154350} \\log{\\left (v \\right )} - \\frac{471188717}{231525} \\log{\\left (2 \\right )} - \\frac{52525903 \\gamma_{\\mathrm{E}}}{77175} + \\frac{9640384387033067}{17896238860500} + \\frac{1848015}{2744} \\log{\\left (3 \\right )} + \\frac{531077 \\pi^{2}}{6615}\\right) \\log{\\left (v \\right )} - \\frac{6136997968378863}{1256910054400} \\log{\\left (3 \\right )} - \\frac{142155 \\pi^{2}}{392} \\log{\\left (3 \\right )} - \\frac{5811697}{2450} \\log^{2}{\\left (2 \\right )} - \\frac{9523 \\pi^{4}}{945} - \\frac{471188717 \\gamma_{\\mathrm{E}}}{231525} \\log{\\left (2 \\right )} - \\frac{52525903 \\gamma_{\\mathrm{E}}^{2}}{154350} + \\frac{531077 \\zeta\\left(3\\right)}{2205} + \\frac{9640384387033067 \\gamma_{\\mathrm{E}}}{17896238860500} + \\frac{1848015}{5488} \\log^{2}{\\left (3 \\right )} + \\frac{1848015 \\gamma_{\\mathrm{E}}}{2744} \\log{\\left (3 \\right )} + \\frac{531077 \\pi^{2}}{6615} \\gamma_{\\mathrm{E}} + \\frac{1848015}{2744} \\log{\\left (2 \\right )} \\log{\\left (3 \\right )} + \\frac{19402232550751339}{17896238860500} \\log{\\left (2 \\right )} + \\frac{9926708984375}{5088365568} \\log{\\left (5 \\right )} + \\frac{128223 \\pi^{2}}{245} \\log{\\left (2 \\right )} + \\frac{58327313257446476199371189}{8332222517414555760000} + \\frac{2621359845833 \\pi^{2}}{2383781400}\\right) + \\frac{300277177 \\pi}{436590} \\log{\\left (v \\right )} - \\frac{81605095538444363 \\pi}{20138185267200} - \\frac{42817273 \\pi}{71442} \\log{\\left (2 \\right )} + \\frac{300277177 \\pi}{436590} \\gamma_{\\mathrm{E}} + \\frac{142155 \\pi}{98} \\log{\\left (3 \\right )}\\right) + \\left(\\frac{1465472}{11025} \\log{\\left (v \\right )} - \\frac{246137536815857}{157329572400} - \\frac{27392 \\pi^{2}}{315} + \\frac{2930944 \\gamma_{\\mathrm{E}}}{11025} + \\frac{5861888}{11025} \\log{\\left (2 \\right )}\\right) \\log{\\left (v \\right )} - \\frac{271272899815409}{157329572400} \\log{\\left (2 \\right )} - \\frac{54784 \\pi^{2}}{315} \\log{\\left (2 \\right )} - \\frac{246137536815857 \\gamma_{\\mathrm{E}}}{157329572400} - \\frac{437114506833}{789268480} \\log{\\left (3 \\right )} - \\frac{256 \\pi^{4}}{45} - \\frac{27392 \\pi^{2}}{315} \\gamma_{\\mathrm{E}} - \\frac{27392 \\zeta\\left(3\\right)}{105} - \\frac{37744140625}{260941824} \\log{\\left (5 \\right )} + \\frac{1465472 \\gamma_{\\mathrm{E}}^{2}}{11025} + \\frac{5861888 \\gamma_{\\mathrm{E}}}{11025} \\log{\\left (2 \\right )} + \\frac{5861888}{11025} \\log^{2}{\\left (2 \\right )} + \\frac{2067586193789233570693}{602387400044430000} + \\frac{3803225263 \\pi^{2}}{10478160}\\right) + \\frac{177293 \\pi}{1176} \\log{\\left (v \\right )} - \\frac{142155 \\pi}{784} \\log{\\left (3 \\right )} + \\frac{8399309750401 \\pi}{101708006400} + \\frac{177293 \\pi}{1176} \\gamma_{\\mathrm{E}} + \\frac{8521283 \\pi}{17640} \\log{\\left (2 \\right )}\\right) + \\frac{916628467}{7858620} \\log{\\left (v \\right )} - \\frac{2500861660823683}{2831932303200} - \\frac{424223 \\pi^{2}}{6804} - \\frac{83217611}{1122660} \\log{\\left (2 \\right )} + \\frac{916628467 \\gamma_{\\mathrm{E}}}{7858620} + \\frac{47385}{196} \\log{\\left (3 \\right )}\\right) - \\frac{6848 \\pi}{105} \\log{\\left (v \\right )} - \\frac{13696 \\pi}{105} \\log{\\left (2 \\right )} - \\frac{6848 \\pi}{105} \\gamma_{\\mathrm{E}} + \\frac{265978667519 \\pi}{745113600}\\right) + \\frac{232597}{4410} \\log{\\left (v \\right )} - \\frac{1369 \\pi^{2}}{126} - \\frac{323105549467}{3178375200} - \\frac{47385}{1568} \\log{\\left (3 \\right )} + \\frac{232597 \\gamma_{\\mathrm{E}}}{4410} + \\frac{39931}{294} \\log{\\left (2 \\right )}\\right) - \\frac{16285 \\pi}{504}\\right) - \\frac{1712}{105} \\log{\\left (v \\right )} - \\frac{3424}{105} \\log{\\left (2 \\right )} - \\frac{1712 \\gamma_{\\mathrm{E}}}{105} + \\frac{16 \\pi^{2}}{3} + \\frac{6643739519}{69854400}\\right) - \\frac{8191 \\pi}{672}\\right) - \\frac{44711}{9072}\\right) + 4 \\pi\\right) - \\frac{1247}{336}\\right) + 1$$"
      ],
      "text/plain": [
       "   ⎛  ⎛  ⎛  ⎛  ⎛  ⎛  ⎛  ⎛  ⎛  ⎛  ⎛  ⎛  ⎛⎛                                     \n",
       " 2 ⎜  ⎜  ⎜  ⎜  ⎜  ⎜  ⎜  ⎜  ⎜  ⎜  ⎜  ⎜  ⎜⎜  52525903⋅log(v)   471188717⋅log(2) \n",
       "v ⋅⎜v⋅⎜v⋅⎜v⋅⎜v⋅⎜v⋅⎜v⋅⎜v⋅⎜v⋅⎜v⋅⎜v⋅⎜v⋅⎜v⋅⎜⎜- ─────────────── - ──────────────── \n",
       "   ⎝  ⎝  ⎝  ⎝  ⎝  ⎝  ⎝  ⎝  ⎝  ⎝  ⎝  ⎝  ⎝⎝       154350            231525      \n",
       "\n",
       "                                                                    2⎞        \n",
       "  52525903⋅EulerGamma   9640384387033067   1848015⋅log(3)   531077⋅π ⎟        \n",
       "- ─────────────────── + ──────────────── + ────────────── + ─────────⎟⋅log(v) \n",
       "         77175           17896238860500         2744           6615  ⎠        \n",
       "\n",
       "                                    2                     2            4      \n",
       "  6136997968378863⋅log(3)   142155⋅π ⋅log(3)   5811697⋅log (2)   9523⋅π    471\n",
       "- ─────────────────────── - ──────────────── - ─────────────── - ─────── - ───\n",
       "       1256910054400              392                2450          945        \n",
       "\n",
       "                                              2                               \n",
       "188717⋅EulerGamma⋅log(2)   52525903⋅EulerGamma    531077⋅ζ(3)   96403843870330\n",
       "──────────────────────── - ──────────────────── + ─────────── + ──────────────\n",
       "        231525                    154350              2205             1789623\n",
       "\n",
       "                           2                                                  \n",
       "67⋅EulerGamma   1848015⋅log (3)   1848015⋅EulerGamma⋅log(3)   531077⋅EulerGamm\n",
       "───────────── + ─────────────── + ───────────────────────── + ────────────────\n",
       "8860500               5488                   2744                     6615    \n",
       "\n",
       "   2                                                                          \n",
       "a⋅π    1848015⋅log(2)⋅log(3)   19402232550751339⋅log(2)   9926708984375⋅log(5)\n",
       "──── + ───────────────────── + ──────────────────────── + ────────────────────\n",
       "                2744                17896238860500             5088365568     \n",
       "\n",
       "           2                                                      2⎞          \n",
       "   128223⋅π ⋅log(2)   58327313257446476199371189   2621359845833⋅π ⎟   3002771\n",
       " + ──────────────── + ────────────────────────── + ────────────────⎟ + ───────\n",
       "         245            8332222517414555760000        2383781400   ⎠         4\n",
       "\n",
       "                                                                              \n",
       "77⋅π⋅log(v)   81605095538444363⋅π   42817273⋅π⋅log(2)   300277177⋅EulerGamma⋅π\n",
       "─────────── - ─────────────────── - ───────────────── + ──────────────────────\n",
       "36590            20138185267200           71442                 436590        \n",
       "\n",
       "                  ⎞   ⎛                                          2            \n",
       "   142155⋅π⋅log(3)⎟   ⎜1465472⋅log(v)   246137536815857   27392⋅π    2930944⋅E\n",
       " + ───────────────⎟ + ⎜────────────── - ─────────────── - ──────── + ─────────\n",
       "          98      ⎠   ⎝    11025          157329572400      315            110\n",
       "\n",
       "                          ⎞                                          2        \n",
       "ulerGamma   5861888⋅log(2)⎟          271272899815409⋅log(2)   54784⋅π ⋅log(2) \n",
       "───────── + ──────────────⎟⋅log(v) - ────────────────────── - ─────────────── \n",
       "25              11025     ⎠               157329572400              315       \n",
       "\n",
       "                                                          4                   \n",
       "  246137536815857⋅EulerGamma   437114506833⋅log(3)   256⋅π    27392⋅EulerGamma\n",
       "- ────────────────────────── - ─────────────────── - ────── - ────────────────\n",
       "         157329572400               789268480          45             315     \n",
       "\n",
       "  2                                                       2                   \n",
       "⋅π    27392⋅ζ(3)   37744140625⋅log(5)   1465472⋅EulerGamma    5861888⋅EulerGam\n",
       "─── - ────────── - ────────────────── + ─────────────────── + ────────────────\n",
       "         105           260941824               11025                    11025 \n",
       "\n",
       "                       2                                           2⎞         \n",
       "ma⋅log(2)   5861888⋅log (2)   2067586193789233570693   3803225263⋅π ⎟   177293\n",
       "───────── + ─────────────── + ────────────────────── + ─────────────⎟ + ──────\n",
       "                 11025          602387400044430000        10478160  ⎠         \n",
       "\n",
       "                                                                              \n",
       "⋅π⋅log(v)   142155⋅π⋅log(3)   8399309750401⋅π   177293⋅EulerGamma⋅π   8521283⋅\n",
       "───────── - ─────────────── + ─────────────── + ─────────────────── + ────────\n",
       "1176              784           101708006400            1176               176\n",
       "\n",
       "        ⎞                                                 2                   \n",
       "π⋅log(2)⎟   916628467⋅log(v)   2500861660823683   424223⋅π    83217611⋅log(2) \n",
       "────────⎟ + ──────────────── - ──────────────── - ───────── - ─────────────── \n",
       "40      ⎠       7858620         2831932303200        6804         1122660     \n",
       "\n",
       "                                     ⎞                                        \n",
       "  916628467⋅EulerGamma   47385⋅log(3)⎟   6848⋅π⋅log(v)   13696⋅π⋅log(2)   6848\n",
       "+ ──────────────────── + ────────────⎟ - ───────────── - ────────────── - ────\n",
       "        7858620              196     ⎠        105             105             \n",
       "\n",
       "                              ⎞                         2                     \n",
       "⋅EulerGamma⋅π   265978667519⋅π⎟   232597⋅log(v)   1369⋅π    323105549467   473\n",
       "───────────── + ──────────────⎟ + ───────────── - ─────── - ──────────── - ───\n",
       "   105            745113600   ⎠        4410         126      3178375200       \n",
       "\n",
       "                                            ⎞          ⎞                      \n",
       "85⋅log(3)   232597⋅EulerGamma   39931⋅log(2)⎟   16285⋅π⎟   1712⋅log(v)   3424⋅\n",
       "───────── + ───────────────── + ────────────⎟ - ───────⎟ - ─────────── - ─────\n",
       " 1568              4410             294     ⎠     504  ⎠       105           1\n",
       "\n",
       "                               2             ⎞         ⎞        ⎞      ⎞      \n",
       "log(2)   1712⋅EulerGamma   16⋅π    6643739519⎟   8191⋅π⎟   44711⎟      ⎟   124\n",
       "────── - ─────────────── + ───── + ──────────⎟ - ──────⎟ - ─────⎟ + 4⋅π⎟ - ───\n",
       "05             105           3      69854400 ⎠    672  ⎠    9072⎠      ⎠   336\n",
       "\n",
       " ⎞    \n",
       "7⎟    \n",
       "─⎟ + 1\n",
       " ⎠    "
      ]
     },
     "execution_count": 5,
     "metadata": {},
     "output_type": "execute_result"
    }
   ],
   "source": [
    "Flux"
   ]
  },
  {
   "cell_type": "markdown",
   "metadata": {},
   "source": [
    "# PN angular momentum"
   ]
  },
  {
   "cell_type": "code",
   "execution_count": 12,
   "metadata": {
    "collapsed": false
   },
   "outputs": [],
   "source": [
    "from sympy import *\n",
    "ellHat= Symbol('ellHat')\n",
    "nHat= Symbol('nHat')\n",
    "lambdaHat= Symbol('lambdaHat')\n",
    "var('v, m, nu, G, c, x');"
   ]
  },
  {
   "cell_type": "code",
   "execution_count": 4,
   "metadata": {
    "collapsed": false
   },
   "outputs": [],
   "source": [
    "def MathematicaToSympy(L):\n",
    "    import re\n",
    "    L = ''.join(L).replace(' ','')\n",
    "    L = L.replace(r'\\[ScriptL]','ell')\n",
    "    MathematicaCapitalGreek = re.compile(r'\\\\ \\[ Capital(.*?) \\]', re.VERBOSE)\n",
    "    L = MathematicaCapitalGreek.sub(r'\\1',L)\n",
    "    MathematicaGreek = re.compile(r'\\\\ \\[ (.*?) \\]', re.VERBOSE)\n",
    "    L = MathematicaGreek.sub(lambda m: m.group(1).lower(),L)\n",
    "    OverHat = re.compile(r'OverHat\\[ (.*?) \\]', re.VERBOSE)\n",
    "    L = OverHat.sub(r'\\1Hat',L)\n",
    "    Subscript = re.compile(r'Subscript\\[ (.*?), (.*?) \\]', re.VERBOSE)\n",
    "    L = Subscript.sub(r'\\1_\\2',L)\n",
    "    Sqrt = re.compile(r'Sqrt\\[ (.*?) \\]', re.VERBOSE)\n",
    "    L = Sqrt.sub(r'sqrt(\\1)',L)\n",
    "    L = L.replace('Pi','pi').replace('Log','log').replace('Zeta','zeta').replace('Power','Pow')\n",
    "    L = L.replace('^','**')\n",
    "    return L"
   ]
  },
  {
   "cell_type": "code",
   "execution_count": 5,
   "metadata": {
    "collapsed": false
   },
   "outputs": [
    {
     "ename": "NameError",
     "evalue": "name 'v' is not defined",
     "output_type": "error",
     "traceback": [
      "\u001b[0;31m---------------------------------------------------------------------------\u001b[0m\n\u001b[0;31mNameError\u001b[0m                                 Traceback (most recent call last)",
      "\u001b[0;32m<ipython-input-5-556be8bda6a5>\u001b[0m in \u001b[0;36m<module>\u001b[0;34m()\u001b[0m\n\u001b[1;32m     11\u001b[0m \u001b[0mL\u001b[0m \u001b[0;34m=\u001b[0m \u001b[0mget_ipython\u001b[0m\u001b[0;34m(\u001b[0m\u001b[0;34m)\u001b[0m\u001b[0;34m.\u001b[0m\u001b[0mgetoutput\u001b[0m\u001b[0;34m(\u001b[0m\u001b[0;34mu'cat /tmp/AngularMomentum.cpp'\u001b[0m\u001b[0;34m)\u001b[0m\u001b[0;34m\u001b[0m\u001b[0m\n\u001b[1;32m     12\u001b[0m \u001b[0mL\u001b[0m \u001b[0;34m=\u001b[0m \u001b[0mMathematicaToSympy\u001b[0m\u001b[0;34m(\u001b[0m\u001b[0mL\u001b[0m\u001b[0;34m)\u001b[0m\u001b[0;34m\u001b[0m\u001b[0m\n\u001b[0;32m---> 13\u001b[0;31m \u001b[0mL\u001b[0m \u001b[0;34m=\u001b[0m \u001b[0msympify\u001b[0m\u001b[0;34m(\u001b[0m\u001b[0mL\u001b[0m\u001b[0;34m)\u001b[0m\u001b[0;34m.\u001b[0m\u001b[0msubs\u001b[0m\u001b[0;34m(\u001b[0m\u001b[0;34m'sqrt(x)'\u001b[0m\u001b[0;34m,\u001b[0m\u001b[0mv\u001b[0m\u001b[0;34m)\u001b[0m\u001b[0;34m.\u001b[0m\u001b[0msubs\u001b[0m\u001b[0;34m(\u001b[0m\u001b[0;34m'x'\u001b[0m\u001b[0;34m,\u001b[0m\u001b[0mv\u001b[0m\u001b[0;34m**\u001b[0m\u001b[0;36m2\u001b[0m\u001b[0;34m)\u001b[0m\u001b[0;34m.\u001b[0m\u001b[0msubs\u001b[0m\u001b[0;34m(\u001b[0m\u001b[0;34m'G'\u001b[0m\u001b[0;34m,\u001b[0m\u001b[0;36m1\u001b[0m\u001b[0;34m)\u001b[0m\u001b[0;34m.\u001b[0m\u001b[0msubs\u001b[0m\u001b[0;34m(\u001b[0m\u001b[0;34m'c'\u001b[0m\u001b[0;34m,\u001b[0m\u001b[0;36m1\u001b[0m\u001b[0;34m)\u001b[0m\u001b[0;34m.\u001b[0m\u001b[0msimplify\u001b[0m\u001b[0;34m(\u001b[0m\u001b[0;34m)\u001b[0m\u001b[0;34m\u001b[0m\u001b[0m\n\u001b[0m",
      "\u001b[0;31mNameError\u001b[0m: name 'v' is not defined"
     ]
    }
   ],
   "source": [
    "MathKernel='/Applications/Local/Mathematica.app/Contents/MacOS/MathKernel'\n",
    "MCommand = r\"\"\"\n",
    "\\[Gamma] = EulerGamma;\n",
    "\\[Zeta] = Zeta;\n",
    "HornerForm[ToExpression[Import[\n",
    "    \"AngularMomentum.tex\",\n",
    "    \"Text\"], TeXForm],x] >> /tmp/AngularMomentum.cpp\n",
    "Exit[];\n",
    "\"\"\"\n",
    "! {MathKernel} -run '{MCommand}' >& /dev/null\n",
    "L = !cat /tmp/AngularMomentum.cpp\n",
    "L = MathematicaToSympy(L)\n",
    "L = sympify(L).subs('sqrt(x)',v).subs('x',v**2).subs('G',1).subs('c',1).simplify()"
   ]
  },
  {
   "cell_type": "code",
   "execution_count": 14,
   "metadata": {
    "collapsed": false
   },
   "outputs": [],
   "source": [
    "L_ellHat = horner( (v*L).simplify().expand().coeff(ellHat) )/v\n",
    "L_nHat = horner( (v*L).simplify().expand().coeff(nHat) )/v\n",
    "L_lambdaHat = horner( (v*L).simplify().expand().coeff(lambdaHat) )/v"
   ]
  },
  {
   "cell_type": "code",
   "execution_count": 19,
   "metadata": {
    "collapsed": false
   },
   "outputs": [
    {
     "name": "stdout",
     "output_type": "stream",
     "text": [
      "BindingEnergy_Spin.AddDerivedVariable('L_SO_3',\n",
      "    (-(35*S_ell + 15*Sigma_ell*delta)/(6*m**2))*ellHat\n",
      "    + ((S_n + Sigma_n*delta)/(2*m**2))*nHat\n",
      "    + (-(3*S_lambda + Sigma_lambda*delta)/m**2)*lambdaHat,\n",
      "    datatype=ellHat.datatype)\n",
      "BindingEnergy_Spin.AddDerivedVariable('L_SO_5',\n",
      "    (7*(61*S_ell*nu - 99*S_ell + 30*Sigma_ell*delta*nu - 27*Sigma_ell*delta)/(72*m**2))*ellHat\n",
      "    + ((-19*S_n*nu + 33*S_n - 10*Sigma_n*delta*nu + 33*Sigma_n*delta)/(24*m**2))*nHat\n",
      "    + ((18*S_lambda*nu - 21*S_lambda + 8*Sigma_lambda*delta*nu - 3*Sigma_lambda*delta)/(6*m**2))*lambdaHat,\n",
      "    datatype=ellHat.datatype)\n",
      "BindingEnergy_Spin.AddDerivedVariable('L_SO_7',\n",
      "    ((-29*S_ell*nu**2 + 1101*S_ell*nu - 405*S_ell - 15*Sigma_ell*delta*nu**2 + 468*Sigma_ell*delta*nu - 81*Sigma_ell*delta)/(16*m**2))*ellHat\n",
      "    + ((11*S_n*nu**2 - 1331*S_n*nu + 183*S_n + 5*Sigma_n*delta*nu**2 - 734*Sigma_n*delta*nu + 183*Sigma_n*delta)/(48*m**2))*nHat\n",
      "    + ((-32*S_lambda*nu**2 + 2*S_lambda*nu - 174*S_lambda - 16*Sigma_lambda*delta*nu**2 - 79*Sigma_lambda*delta*nu - 12*Sigma_lambda*delta)/(24*m**2))*lambdaHat,\n",
      "    datatype=ellHat.datatype)\n"
     ]
    }
   ],
   "source": [
    "L_set = [L_ellHat, L_nHat, L_lambdaHat]\n",
    "\n",
    "for n in range(3,9,2):\n",
    "    print(\"\"\"AngularMomentum_Spin.AddDerivedVariable('L_SO_{0}',\n",
    "    ({1})*ellHat\n",
    "    + ({2})*nHat\n",
    "    + ({3})*lambdaHat,\n",
    "    datatype=ellHat.datatype)\"\"\".format(n,\n",
    "                                        (v*L_ellHat/(m**2*nu)).expand().coeff(v**n).simplify(),\n",
    "                                        (v*L_nHat/(m**2*nu)).expand().coeff(v**n).simplify(),\n",
    "                                        (v*L_lambdaHat/(m**2*nu)).expand().coeff(v**n).simplify()))"
   ]
  },
  {
   "cell_type": "code",
   "execution_count": 148,
   "metadata": {
    "collapsed": false
   },
   "outputs": [
    {
     "name": "stdout",
     "output_type": "stream",
     "text": [
      "(nu + pow(v, 2)*(nu*(0.1666666666666667*nu + 1.5) + v*(-5.833333333333333*S_ell*nu - 2.5*Sigma_ell*delta*nu + v*(nu*(nu*(0.04166666666666667*nu - 2.375) + 3.375) + v*(S_ell*nu*(5.930555555555556*nu - 9.625) + Sigma_ell*delta*nu*(2.916666666666667*nu - 2.625) + v*(nu*(nu*(nu*(0.005401234567901235*nu + 1.291666666666667) - 30.97970359258346) + 8.4375) + v*(S_ell*nu*(nu*(-1.8125*nu + 68.8125) - 25.3125) + Sigma_ell*delta*nu*(nu*(-0.9375*nu + 29.25) - 5.0625))))))))/v\n",
      "pow(v, 2)*(0.5*S_n*nu + 0.5*Sigma_n*delta*nu + pow(v, 2)*(S_n*nu*(-0.7916666666666667*nu + 1.375) + Sigma_n*delta*nu*(-0.4166666666666667*nu + 1.375) + pow(v, 2)*(S_n*nu*(nu*(0.2291666666666667*nu - 27.72916666666667) + 3.8125) + Sigma_n*delta*nu*(nu*(0.1041666666666667*nu - 15.29166666666667) + 3.8125))))\n",
      "pow(v, 2)*(-3.0*S_lambda*nu - Sigma_lambda*delta*nu + pow(v, 2)*(S_lambda*nu*(3.0*nu - 3.5) + Sigma_lambda*delta*nu*(1.333333333333333*nu - 0.5) + pow(v, 2)*(S_lambda*nu*(nu*(-1.333333333333333*nu + 0.08333333333333333) - 7.25) + Sigma_lambda*delta*nu*(nu*(-0.6666666666666667*nu - 3.291666666666667) - 0.5))))\n"
     ]
    }
   ],
   "source": [
    "for var in [L_ellHat, L_nHat, L_lambdaHat]:\n",
    "    print ccode(N(var,16))"
   ]
  },
  {
   "cell_type": "markdown",
   "metadata": {},
   "source": [
    "# Binding energy"
   ]
  },
  {
   "cell_type": "code",
   "execution_count": 44,
   "metadata": {
    "collapsed": false
   },
   "outputs": [],
   "source": [
    "%%bash --out tmp\n",
    "perl -nlw \\\n",
    "    -e 's/\\\\begin\\{eqnarray\\}//g; s/\\\\end\\{eqnarray\\}//g; ' `# remove environment for Mathematica` \\\n",
    "    -e 's/\\\\label\\{eB6PN\\}//;' `# remove equation label` \\\n",
    "    -e 's/\\\\nonumber//g; s/\\\\biggl//g; s/\\\\Biggl//g; s/\\\\left//g; s/\\\\right//g;' `# remove irrelevant formatting` \\\n",
    "    -e 's/\\&//g; s/\\\\\\\\//g;' `# remove alignments and newlines` \\\n",
    "    -e 's/\\\\\\{/(/g; s/\\\\\\}/)/g; s/\\[/(/g; s/\\]/)/g;' `# convert braces and brackets to parentheses` \\\n",
    "    -e 's/\\),/\\)/;' `# remove final punctuation` \\\n",
    "    -e 'print if /\\S/;' `# only print line if nonempty` \\\n",
    "    BindingEnergy.tex > BindingEnergy_Simplified.tex\n",
    "cat BindingEnergy_Simplified.tex"
   ]
  },
  {
   "cell_type": "code",
   "execution_count": 45,
   "metadata": {
    "collapsed": false
   },
   "outputs": [
    {
     "data": {
      "text/plain": [
       "'e_{\\\\rm 1PN} (\\\\nu)=  -\\\\frac{1}{12}\\\\nu-\\\\frac34 \\ne_{\\\\rm 2PN} (\\\\nu)=  -\\\\frac{1}{24}\\\\nu^2+\\\\frac{19}8 \\\\nu-\\\\frac{27}{8}\\ne_{\\\\rm 3PN} (\\\\nu)= -\\\\frac{35}{5184}\\\\nu^3 -\\\\frac{155}{96}\\\\nu^2+\\\\frac{34445}{576}\\\\nu-\\\\frac{205}{96}\\\\pi^2\\\\nu-\\\\frac{675}{64}  \\ne_{\\\\rm 4PN}^c (\\\\nu)= -\\\\frac{3969}{128}+\\\\frac{77}{31104}\\\\nu^4+\\\\frac{301}{1728}\\\\nu^3\\n+(-\\\\frac{498449}{3456} +\\\\frac{3157}{576}\\\\pi^2)\\\\nu^2\\n+(-\\\\frac{123671}{5760}+\\\\frac{1792}{15} \\\\ln(2)+\\\\frac{9037}{1536} \\\\pi^2\\n+\\\\frac{896}{15} \\\\gamma)\\\\nu \\ne_{\\\\rm 4PN}^{\\\\ln}(\\\\nu)= \\\\frac{448}{15}\\\\nu  \\ne_{\\\\rm 5PN}^c (\\\\nu)= -\\\\frac{45927}{512}+\\\\frac{1}{512}\\\\nu^5+\\\\frac{55}{512}\\\\nu^4\\n+(-\\\\frac{1353}{256}\\\\pi^2+\\\\frac{69423}{512} )\\\\nu^3\\n+(-\\\\frac{21337}{1024}\\\\pi^2+3 a_6^{c1}\\n-\\\\frac{896}{5}\\\\ln(2)-\\\\frac{448}{5}\\\\gamma+\\\\frac{189745}{576}+\\\\frac{2}{3}a_{6}^{\\\\ln 1})\\\\nu^2\\n+(-\\\\frac{228916843}{115200}-\\\\frac{9976}{35}\\\\gamma+\\\\frac{729}{7}\\\\ln(3) \\n -\\\\frac{23672}{35}\\\\ln(2)+\\\\frac{126779}{512}\\\\pi^2 )\\\\nu \\ne_{\\\\rm 5PN}^{\\\\ln}(\\\\nu)= -\\\\frac{4988}{35}\\\\nu-\\\\frac{224}{5}\\\\nu^2+3\\\\nu^2 a_6^{\\\\ln 1}\\ne_{\\\\rm 5.5PN}(\\\\nu)=\\\\frac{10}{3}\\\\nu (\\\\frac{13696}{525}\\\\pi+\\\\nu  a_{6.5}^{c1})\\ne_{\\\\rm 6PN}^c (\\\\nu)= -\\\\frac{264627}{1024}+\\\\frac{2717}{6718464}\\\\nu^6+\\\\frac{5159}{248832}\\\\nu^5\\n+(\\\\frac{272855}{124416}\\\\pi^2-\\\\frac{20543435}{373248} )\\\\nu^4\\n+(\\\\frac{1232}{27}\\\\gamma+\\\\frac{6634243}{110592}\\\\pi^2-\\\\frac{11}{2} a_6^{c1}\\n-\\\\frac{75018547}{51840}+\\\\frac{2464}{27}\\\\ln(2) -\\\\frac{20}{9}a_6^{\\\\ln 1} )\\\\nu^3\\n+ (\\\\frac{113594718743}{14515200}+\\\\frac{18491}{2304}\\\\pi^4\\n+\\\\frac{246004}{105}\\\\ln(2)+\\\\frac{112772}{105}\\\\gamma+\\\\frac{11}{2} a_6^{c1}+a_6^{\\\\ln 1}+\\\\frac{2}{3}a_7^{\\\\ln 1}\\n+ \\\\frac{11}{3} a_7^{c1}-\\\\frac{86017789}{110592}\\\\pi^2-\\\\frac{2673}{14}\\\\ln(3))\\\\nu^2\\n+(- \\\\frac{389727504721}{43545600}\\n +\\\\frac{74888}{243}\\\\ln(2)\\n- \\\\frac{7128}{7}\\\\ln(3)-\\\\frac{30809603}{786432}\\\\pi^4\\n-\\\\frac{3934568}{8505}\\\\gamma +\\\\frac{9118627045}{5308416}\\\\pi^2)\\\\nu\\ne_{\\\\rm 6PN}^{\\\\ln}(\\\\nu)= -\\\\frac{1967284}{8505}\\\\nu+\\\\frac{616}{27}\\\\nu^3+\\\\frac{56386}{105}\\\\nu^2 -\\\\frac{11}{2}\\\\nu^3 a_6^{\\\\ln 1}+\\\\frac{11}{3}a_7^{\\\\ln 1}+\\\\frac{11}{2}\\\\nu^2 a_6^{\\\\ln 1}\\n'"
      ]
     },
     "execution_count": 45,
     "metadata": {},
     "output_type": "execute_result"
    }
   ],
   "source": [
    "tmp"
   ]
  },
  {
   "cell_type": "code",
   "execution_count": 62,
   "metadata": {
    "collapsed": false
   },
   "outputs": [],
   "source": [
    "from __future__ import print_function\n",
    "Terms = ['E_2', 'E_4', 'E_6', 'E_8', 'E_lnv_8', 'E_10', 'E_lnv_10', 'E_11', 'E_12', 'E_lnv_12']\n",
    "Expressions = [s[(s.index('=')+1):].replace('\\n','') for s in tmp.split('\\ne')]\n",
    "for t,e in zip(Terms,Expressions):\n",
    "    print(e, file=open('/tmp/'+t+'.tex','w+'))"
   ]
  },
  {
   "cell_type": "code",
   "execution_count": 107,
   "metadata": {
    "collapsed": false
   },
   "outputs": [
    {
     "name": "stdout",
     "output_type": "stream",
     "text": [
      "BindingEnergy_NoSpin_B.AddDerivedConstant('E_2', -nu/12 - 3/4)\n",
      "\n",
      "BindingEnergy_NoSpin_B.AddDerivedConstant('E_4', nu*(-nu/24 + 19/8) - 27/8)\n",
      "\n",
      "BindingEnergy_NoSpin_B.AddDerivedConstant('E_6', nu*(nu*(-35*nu/5184 - 155/96) - 205*pi**2/96 + 34445/576) - 675/64)\n",
      "\n",
      "BindingEnergy_NoSpin_B.AddDerivedConstant('E_8', nu*(nu*(nu*(77*nu/31104 + 301/1728) - 498449/3456 + 3157*pi**2/576) - 123671/5760 + 896*EulerGamma/15 + 9037*pi**2/1536 + 1792*log(2)/15) - 3969/128)\n",
      "\n",
      "BindingEnergy_NoSpin_B.AddDerivedConstant('E_lnv_8', 448*nu/15)\n",
      "\n",
      "BindingEnergy_NoSpin_B.AddDerivedConstant('E_10', nu*(nu*(3*a_6__c1 + 2*a_6__ln1/3 + nu*(nu*(nu/512 + 55/512) - 1353*pi**2/256 + 69423/512) - 21337*pi**2/1024 - 896*log(2)/5 - 448*EulerGamma/5 + 189745/576) - 228916843/115200 - 23672*log(2)/35 - 9976*EulerGamma/35 + 729*log(3)/7 + 126779*pi**2/512) - 45927/512)\n",
      "\n",
      "BindingEnergy_NoSpin_B.AddDerivedConstant('E_lnv_10', nu*(nu*(3*a_6__ln1 - 224/5) - 4988/35))\n",
      "\n",
      "BindingEnergy_NoSpin_B.AddDerivedConstant('E_11', 10*nu(a_6__c1*nu + 13696*pi/525)/3)\n",
      "\n",
      "BindingEnergy_NoSpin_B.AddDerivedConstant('E_12', nu*(nu*(11*a_6__c1/2 + a_6__ln1 + 11*a_7__c1/3 + 2*a_7__ln1/3 + nu*(-11*a_6__c1/2 - 20*a_6__ln1/9 + nu*(nu*(2717*nu/6718464 + 5159/248832) - 20543435/373248 + 272855*pi**2/124416) - 75018547/51840 + 1232*EulerGamma/27 + 2464*log(2)/27 + 6634243*pi**2/110592) - 86017789*pi**2/110592 - 2673*log(3)/14 + 112772*EulerGamma/105 + 18491*pi**4/2304 + 246004*log(2)/105 + 113594718743/14515200) - 389727504721/43545600 - 30809603*pi**4/786432 - 7128*log(3)/7 - 3934568*EulerGamma/8505 + 74888*log(2)/243 + 9118627045*pi**2/5308416) - 264627/1024)\n",
      "\n",
      "BindingEnergy_NoSpin_B.AddDerivedConstant('E_lnv_12', 11*a_7__ln1/3 + nu*(nu*(11*a_6__ln1/2 + nu*(-11*a_6__ln1/2 + 616/27) + 56386/105) - 1967284/8505))\n",
      "\n"
     ]
    }
   ],
   "source": [
    "import re\n",
    "MathKernel='/Applications/Local/Mathematica.app/Contents/MacOS/MathKernel'\n",
    "BindingEnergyCommand = r\"\"\"\n",
    "\\[Gamma] = EulerGamma;\n",
    "HornerForm[ToExpression[Import[\n",
    "    \"/tmp/{0}.tex\",\n",
    "    \"Text\"], TeXForm]] >> /tmp/{0}.cpp\n",
    "Exit[];\n",
    "\"\"\"\n",
    "for t in Terms:\n",
    "    ! {MathKernel} -run '{BindingEnergyCommand.format(t)}' >& /dev/null\n",
    "    BindingEnergy = !cat /tmp/{t}.cpp\n",
    "    BindingEnergy = ''.join(BindingEnergy).replace(' ','').replace('Pi','pi').replace('Log','log').replace('Nu','nu')\n",
    "    BindingEnergy = BindingEnergy.replace('[','(').replace(']',')').replace('Power','Pow').replace('^','**').replace('\\\\','')\n",
    "    BindingEnergy = re.sub(r'Subscript\\((.*?),([0-9])[.5]*\\)\\*\\*(c|ln)', r'\\1_\\2__\\g<3>1', BindingEnergy)\n",
    "    BindingEnergy = sympify(BindingEnergy)\n",
    "\n",
    "    logv = symbols('logv')\n",
    "    BindingEnergy = BindingEnergy.subs('log(v)', logv)\n",
    "    \n",
    "    print(\"BindingEnergy_NoSpin_B.AddDerivedConstant('{0}', {1})\".format(t, BindingEnergy))\n",
    "    print()"
   ]
  },
  {
   "cell_type": "code",
   "execution_count": 6,
   "metadata": {
    "collapsed": false
   },
   "outputs": [
    {
     "name": "stdout",
     "output_type": "stream",
     "text": [
      "['\\\\[Nu]*(-1967284/8505 + \\\\[Nu]*(56386/105 + (11*Subscript[a, 6]^ln)/2 + ', '     \\\\[Nu]*(616/27 - (11*Subscript[a, 6]^ln)/2))) + (11*Subscript[a, 7]^ln)/3']\n",
      "\\[nu]*(-1967284/8505+\\[nu]*(56386/105+(11*Subscript[a,6]^ln)/2+\\[nu]*(616/27-(11*Subscript[a,6]^ln)/2)))+(11*Subscript[a,7]^ln)/3\n",
      "(nu)*(-1967284/8505+(nu)*(56386/105+(11*Subscript(a,6)**ln)/2+(nu)*(616/27-(11*Subscript(a,6)**ln)/2)))+(11*Subscript(a,7)**ln)/3\n",
      "(nu)*(-1967284/8505+(nu)*(56386/105+(11*a_6__ln1)/2+(nu)*(616/27-(11*a_6__ln1)/2)))+(11*a_7__ln1)/3\n",
      "11*a_7__ln1/3 + nu*(nu*(11*a_6__ln1/2 + nu*(-11*a_6__ln1/2 + 616/27) + 56386/105) - 1967284/8505)\n",
      "BindingEnergy_NoSpin_B.AddDerivedConstant('E_lnv_12', 11*a_7__ln1/3 + nu*(nu*(11*a_6__ln1/2 + nu*(-11*a_6__ln1/2 + 616/27) + 56386/105) - 1967284/8505))\n",
      "()\n"
     ]
    }
   ],
   "source": [
    "import re\n",
    "from sympy import sympify, symbols\n",
    "for i in [1]:\n",
    "    BindingEnergy = !cat /tmp/E_lnv_12.cpp\n",
    "    print(BindingEnergy)\n",
    "    BindingEnergy = ''.join(BindingEnergy).replace(' ','').replace('Pi','pi').replace('Log','log').replace('Nu','nu')\n",
    "    print(BindingEnergy)\n",
    "    BindingEnergy = BindingEnergy.replace('[','(').replace(']',')').replace('Power','Pow').replace('^','**').replace('\\\\','')\n",
    "    print(BindingEnergy)\n",
    "    BindingEnergy = re.sub(r'Subscript\\((.*?),([0-9])[.5]*\\)\\*\\*(c|ln)', r'\\1_\\2__\\g<3>1', BindingEnergy)\n",
    "    print(BindingEnergy)\n",
    "    BindingEnergy = sympify(BindingEnergy)\n",
    "    print(BindingEnergy)\n",
    "\n",
    "    logv = symbols('logv')\n",
    "    BindingEnergy = BindingEnergy.subs('log(v)', logv)\n",
    "    \n",
    "    print(\"BindingEnergy_NoSpin_B.AddDerivedConstant('E_lnv_12', {0})\".format(BindingEnergy))\n",
    "    print()"
   ]
  },
  {
   "cell_type": "code",
   "execution_count": null,
   "metadata": {
    "collapsed": false
   },
   "outputs": [],
   "source": [
    "nu*(nu*(11*a_6__ln1/2 + nu*(-11*a_6__ln1/2 + 616/27) + 56386/105) - 1967284/8505)"
   ]
  },
  {
   "cell_type": "code",
   "execution_count": null,
   "metadata": {
    "collapsed": false
   },
   "outputs": [],
   "source": [
    "11*self.a_7__ln1/3 + nu*(nu*(11*self.a_6__ln1/2 + nu*(-11*self.a_6__ln1/2 + 616/27 + 56386/105) - 1967284/8505))"
   ]
  }
 ],
 "metadata": {
  "kernelspec": {
   "display_name": "Python 3",
   "language": "python",
   "name": "python3"
  },
  "language_info": {
   "codemirror_mode": {
    "name": "ipython",
    "version": 3
   },
   "file_extension": ".py",
   "mimetype": "text/x-python",
   "name": "python",
   "nbconvert_exporter": "python",
   "pygments_lexer": "ipython3",
   "version": "3.4.3"
  }
 },
 "nbformat": 4,
 "nbformat_minor": 0
}
