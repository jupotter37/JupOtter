{
 "cells": [
  {
   "cell_type": "markdown",
   "metadata": {
    "id": "-FirtvTa3Mzu"
   },
   "source": [
    "# Learning Optimal Tic-Tac-Toe Moves via a Neural Network\n",
    "-------------------------------------------------------\n",
    "We will build a one-hidden layer neural network\n",
    " to predict the optimal response given a set\n",
    " of tic-tac-toe boards."
   ]
  },
  {
   "cell_type": "code",
   "execution_count": null,
   "metadata": {
    "executionInfo": {
     "elapsed": 3246,
     "status": "ok",
     "timestamp": 1601114572980,
     "user": {
      "displayName": "Alexia Audevart",
      "photoUrl": "https://lh3.googleusercontent.com/a-/AOh14Ggwako-F982wqMhMKBGTSz7xNQvuu4pmC79syucvA=s64",
      "userId": "09723170522858788865"
     },
     "user_tz": -120
    },
    "id": "nOWWj2Px3Mzv"
   },
   "outputs": [],
   "source": [
    "import tensorflow as tf\n",
    "#import matplotlib.pyplot as plt\n",
    "import csv\n",
    "import numpy as np\n",
    "import random"
   ]
  },
  {
   "cell_type": "code",
   "execution_count": null,
   "metadata": {
    "id": "O1JPvr5t3Mzy"
   },
   "outputs": [],
   "source": [
    "# Definition of X's, O's, and empty spots:\n",
    "# X = 1\n",
    "# O = -1\n",
    "# empty = 0\n",
    "# response on 1-9 grid for placement of next '1'\n",
    "\n",
    "# For example, the 'test_board' is:\n",
    "#\n",
    "#   O  |  -  |  -\n",
    "# -----------------\n",
    "#   X  |  O  |  O\n",
    "# -----------------\n",
    "#   -  |  -  |  X\n",
    "#\n",
    "# board above = [-1, 0, 0, 1, -1, -1, 0, 0, 1]\n",
    "# Optimal response would be position 6, where\n",
    "# the position numbers are:\n",
    "#\n",
    "#   0  |  1  |  2\n",
    "# -----------------\n",
    "#   3  |  4  |  5\n",
    "# -----------------\n",
    "#   6  |  7  |  8\n",
    "\n",
    "\n",
    "# Test board optimal response:\n",
    "#response = 6\n",
    "# Set batch size and five different symmetries of board positions\n",
    "batch_size = 50"
   ]
  },
  {
   "cell_type": "code",
   "execution_count": null,
   "metadata": {
    "id": "mOc2vBh93Mz1"
   },
   "outputs": [],
   "source": [
    "# Print a board\n",
    "def print_board(board):\n",
    "    symbols = ['O', ' ', 'X']\n",
    "    board_plus1 = [int(x) + 1 for x in board]\n",
    "    board_line1 = ' {} | {} | {}'.format(symbols[board_plus1[0]],\n",
    "                                         symbols[board_plus1[1]],\n",
    "                                         symbols[board_plus1[2]])\n",
    "    board_line2 = ' {} | {} | {}'.format(symbols[board_plus1[3]],\n",
    "                                         symbols[board_plus1[4]],\n",
    "                                         symbols[board_plus1[5]])\n",
    "    board_line3 = ' {} | {} | {}'.format(symbols[board_plus1[6]],\n",
    "                                         symbols[board_plus1[7]],\n",
    "                                         symbols[board_plus1[8]])\n",
    "    print(board_line1)\n",
    "    print('___________')\n",
    "    print(board_line2)\n",
    "    print('___________')\n",
    "    print(board_line3)"
   ]
  },
  {
   "cell_type": "code",
   "execution_count": null,
   "metadata": {
    "id": "nlxJc_D33Mz3"
   },
   "outputs": [],
   "source": [
    "# Data Augmentation\n",
    "symmetry = ['rotate180', 'rotate90', 'rotate270', 'flip_v', 'flip_h']\n",
    "\n",
    "# Given a board, a response, and a transformation, get the new board+response\n",
    "def get_symmetry(board, play_response, transformation):\n",
    "    \"\"\"\n",
    "    :param board: list of integers 9 long:\n",
    "     opposing mark = -1\n",
    "     friendly mark = 1\n",
    "     empty space = 0\n",
    "    :param play_response: integer of where response is (0-8)\n",
    "    :param transformation: one of five transformations on a board:\n",
    "     'rotate180', 'rotate90', 'rotate270', 'flip_v', 'flip_h'\n",
    "    :return: tuple: (new_board, new_response)\n",
    "    \"\"\"\n",
    "    if transformation == 'rotate180':\n",
    "        new_response = 8 - play_response\n",
    "        return board[::-1], new_response\n",
    "    elif transformation == 'rotate90':\n",
    "        new_response = [6, 3, 0, 7, 4, 1, 8, 5, 2].index(play_response)\n",
    "        tuple_board = list(zip(*[board[6:9], board[3:6], board[0:3]]))\n",
    "        return [value for item in tuple_board for value in item], new_response\n",
    "    elif transformation == 'rotate270':\n",
    "        new_response = [2, 5, 8, 1, 4, 7, 0, 3, 6].index(play_response)\n",
    "        tuple_board = list(zip(*[board[0:3], board[3:6], board[6:9]]))[::-1]\n",
    "        return [value for item in tuple_board for value in item], new_response\n",
    "    elif transformation == 'flip_v':\n",
    "        new_response = [6, 7, 8, 3, 4, 5, 0, 1, 2].index(play_response)\n",
    "        return board[6:9] + board[3:6] + board[0:3], new_response\n",
    "    elif transformation == 'flip_h':  # flip_h = rotate180, then flip_v\n",
    "        new_response = [2, 1, 0, 5, 4, 3, 8, 7, 6].index(play_response)\n",
    "        new_board = board[::-1]\n",
    "        return new_board[6:9] + new_board[3:6] + new_board[0:3], new_response\n",
    "    else:\n",
    "        raise ValueError('Method not implemented.')\n",
    "\n",
    "\n",
    "# Read in board move csv file\n",
    "def get_moves_from_csv(csv_file):\n",
    "    \"\"\"\n",
    "    :param csv_file: csv file location containing the boards w/ responses\n",
    "    :return: moves: list of moves with index of best response\n",
    "    \"\"\"\n",
    "    play_moves = []\n",
    "    with open(csv_file, 'rt') as csvfile:\n",
    "        reader = csv.reader(csvfile, delimiter=',')\n",
    "        for row in reader:\n",
    "            play_moves.append(([int(x) for x in row[0:9]], int(row[9])))\n",
    "    return play_moves\n",
    "\n",
    "\n",
    "# Get random board with optimal move\n",
    "def get_rand_move(play_moves, rand_transforms=2):\n",
    "    \"\"\"\n",
    "    :param play_moves: list of the boards w/responses\n",
    "    :param rand_transforms: how many random transforms performed on each\n",
    "    :return: (board, response), board is a list of 9 integers, response is 1 int\n",
    "    \"\"\"\n",
    "    (board, play_response) = random.choice(play_moves)\n",
    "    possible_transforms = ['rotate90', 'rotate180', 'rotate270', 'flip_v', 'flip_h']\n",
    "    for _ in range(rand_transforms):\n",
    "        random_transform = random.choice(possible_transforms)\n",
    "        (board, play_response) = get_symmetry(board, play_response, random_transform)\n",
    "    return board, play_response\n",
    "\n",
    "# Get list of optimal moves w/ responses\n",
    "moves = get_moves_from_csv('base_tic_tac_toe_moves.csv')"
   ]
  },
  {
   "cell_type": "code",
   "execution_count": null,
   "metadata": {
    "id": "YGN4sMEK3Mz5",
    "outputId": "a6d78554-4f57-4675-be0e-3a5fd2df10cf"
   },
   "outputs": [
    {
     "name": "stdout",
     "output_type": "stream",
     "text": [
      "WARNING:tensorflow:\n",
      "The following Variables were used a Lambda layer's call (lambda_4), but\n",
      "are not present in its tracked objects:\n",
      "  <tf.Variable 'Variable:0' shape=(9, 81) dtype=float32>\n",
      "  <tf.Variable 'Variable:0' shape=(81,) dtype=float32>\n",
      "It is possible that this is intended behavior, but it is more likely\n",
      "an omission. This is a strong indication that this layer should be\n",
      "formulated as a subclassed Layer rather than a Lambda layer.\n",
      "WARNING:tensorflow:\n",
      "The following Variables were used a Lambda layer's call (lambda_5), but\n",
      "are not present in its tracked objects:\n",
      "  <tf.Variable 'Variable:0' shape=(81, 9) dtype=float32>\n",
      "  <tf.Variable 'Variable:0' shape=(9,) dtype=float32>\n",
      "It is possible that this is intended behavior, but it is more likely\n",
      "an omission. This is a strong indication that this layer should be\n",
      "formulated as a subclassed Layer rather than a Lambda layer.\n",
      "Iteration: 0, Loss: 8.754105567932129\n",
      "Iteration: 500, Loss: 2.0992887020111084\n",
      "Iteration: 1000, Loss: 1.630592703819275\n",
      "Iteration: 1500, Loss: 1.5122987031936646\n",
      "Iteration: 2000, Loss: 1.3421776294708252\n",
      "Iteration: 2500, Loss: 1.0516871213912964\n",
      "Iteration: 3000, Loss: 1.386433720588684\n",
      "Iteration: 3500, Loss: 1.2294689416885376\n",
      "Iteration: 4000, Loss: 1.0963019132614136\n",
      "Iteration: 4500, Loss: 1.2741808891296387\n",
      "Iteration: 5000, Loss: 0.7892175912857056\n",
      "Iteration: 5500, Loss: 0.9967914819717407\n",
      "Iteration: 6000, Loss: 0.9536704421043396\n",
      "Iteration: 6500, Loss: 1.1726771593093872\n",
      "Iteration: 7000, Loss: 0.8187830448150635\n",
      "Iteration: 7500, Loss: 0.8756659030914307\n",
      "Iteration: 8000, Loss: 0.883604109287262\n",
      "Iteration: 8500, Loss: 0.7775364518165588\n",
      "Iteration: 9000, Loss: 0.7878325581550598\n",
      "Iteration: 9500, Loss: 0.5939719676971436\n"
     ]
    }
   ],
   "source": [
    "# Create a train set:\n",
    "train_length = 500\n",
    "train_set = []\n",
    "for t in range(train_length):\n",
    "    train_set.append(get_rand_move(moves))\n",
    "\n",
    "# To see if the network learns anything new, we will remove\n",
    "# all instances of the board [-1, 0, 0, 1, -1, -1, 0, 0, 1],\n",
    "# which the optimal response will be the index '6'.  We will\n",
    "# Test this at the end.\n",
    "test_board = [-1, 0, 0, 1, -1, -1, 0, 0, 1]\n",
    "train_set = [x for x in train_set if x[0] != test_board]\n",
    "\n",
    "def init_weights(shape):\n",
    "    return tf.Variable(tf.random.normal(shape))\n",
    "\n",
    "A1 = init_weights([9, 81])\n",
    "bias1 = init_weights([81])\n",
    "A2 = init_weights([81, 9])\n",
    "bias2 = init_weights([9])\n",
    "\n",
    "# Initialize input data\n",
    "X = tf.keras.Input(dtype=tf.float32, batch_input_shape=[None, 9])\n",
    "hidden_output = tf.keras.layers.Lambda(lambda x: tf.nn.sigmoid(tf.add(tf.matmul(x, A1), bias1)))(X)\n",
    "# Note: we don't take the softmax at the end because our cost function does that for us\n",
    "final_output = tf.keras.layers.Lambda(lambda x: tf.add(tf.matmul(x, A2), bias2))(hidden_output)\n",
    "model = tf.keras.Model(inputs=X, outputs=final_output, name=\"tic_tac_toe_neural_network\")\n",
    "\n",
    "optimizer = tf.keras.optimizers.SGD(0.025)\n",
    "\n",
    "loss_vec = []\n",
    "for i in range(10000):\n",
    "    rand_indices = np.random.choice(range(len(train_set)), batch_size, replace=False)\n",
    "    batch_data = [train_set[i] for i in rand_indices]\n",
    "    x_input = [x[0] for x in batch_data]\n",
    "    y_target = np.array([y[1] for y in batch_data])\n",
    "\n",
    "    # Open a GradientTape.\n",
    "    with tf.GradientTape(persistent=True) as tape:\n",
    "\n",
    "        # Forward pass.\n",
    "        output = model(np.array(x_input, dtype=float))\n",
    "\n",
    "        # Apply loss function (Cross Entropy loss)\n",
    "        loss = tf.reduce_mean(tf.nn.sparse_softmax_cross_entropy_with_logits(logits=output, labels=y_target))\n",
    "        loss_vec.append(loss)\n",
    "\n",
    "    # Get gradients of loss with reference to the weights and bias variables to adjust.\n",
    "    gradients_A1 = tape.gradient(loss, A1)\n",
    "    gradients_b1 = tape.gradient(loss, bias1)\n",
    "    gradients_A2 = tape.gradient(loss, A2)\n",
    "    gradients_b2 = tape.gradient(loss, bias2)\n",
    "\n",
    "    # Update the weights and bias variables of the model.\n",
    "    optimizer.apply_gradients(zip([gradients_A1, gradients_b1, gradients_A2, gradients_b2],\n",
    "                                  [A1, bias1, A2, bias2]))\n",
    "\n",
    "    if i % 500 == 0:\n",
    "        print('Iteration: {}, Loss: {}'.format(i, loss))"
   ]
  },
  {
   "cell_type": "code",
   "execution_count": null,
   "metadata": {
    "id": "H6AdlBe53Mz7",
    "outputId": "c5002951-07c3-4d6a-9645-6711f2e6e7a2"
   },
   "outputs": [
    {
     "ename": "NameError",
     "evalue": "name 'plt' is not defined",
     "output_type": "error",
     "traceback": [
      "\u001b[0;31m---------------------------------------------------------------------------\u001b[0m",
      "\u001b[0;31mNameError\u001b[0m                                 Traceback (most recent call last)",
      "\u001b[0;32m<ipython-input-7-83e9b7855630>\u001b[0m in \u001b[0;36m<module>\u001b[0;34m\u001b[0m\n\u001b[1;32m      1\u001b[0m \u001b[0;31m# Print loss\u001b[0m\u001b[0;34m\u001b[0m\u001b[0;34m\u001b[0m\u001b[0;34m\u001b[0m\u001b[0m\n\u001b[0;32m----> 2\u001b[0;31m \u001b[0mplt\u001b[0m\u001b[0;34m.\u001b[0m\u001b[0mplot\u001b[0m\u001b[0;34m(\u001b[0m\u001b[0mloss_vec\u001b[0m\u001b[0;34m,\u001b[0m \u001b[0;34m'k-'\u001b[0m\u001b[0;34m,\u001b[0m \u001b[0mlabel\u001b[0m\u001b[0;34m=\u001b[0m\u001b[0;34m'Loss'\u001b[0m\u001b[0;34m)\u001b[0m\u001b[0;34m\u001b[0m\u001b[0;34m\u001b[0m\u001b[0m\n\u001b[0m\u001b[1;32m      3\u001b[0m \u001b[0mplt\u001b[0m\u001b[0;34m.\u001b[0m\u001b[0mtitle\u001b[0m\u001b[0;34m(\u001b[0m\u001b[0;34m'Loss (MSE) per Generation'\u001b[0m\u001b[0;34m)\u001b[0m\u001b[0;34m\u001b[0m\u001b[0;34m\u001b[0m\u001b[0m\n\u001b[1;32m      4\u001b[0m \u001b[0mplt\u001b[0m\u001b[0;34m.\u001b[0m\u001b[0mxlabel\u001b[0m\u001b[0;34m(\u001b[0m\u001b[0;34m'Generation'\u001b[0m\u001b[0;34m)\u001b[0m\u001b[0;34m\u001b[0m\u001b[0;34m\u001b[0m\u001b[0m\n\u001b[1;32m      5\u001b[0m \u001b[0mplt\u001b[0m\u001b[0;34m.\u001b[0m\u001b[0mylabel\u001b[0m\u001b[0;34m(\u001b[0m\u001b[0;34m'Loss'\u001b[0m\u001b[0;34m)\u001b[0m\u001b[0;34m\u001b[0m\u001b[0;34m\u001b[0m\u001b[0m\n",
      "\u001b[0;31mNameError\u001b[0m: name 'plt' is not defined"
     ]
    }
   ],
   "source": [
    "# Print loss\n",
    "plt.plot(loss_vec, 'k-', label='Loss')\n",
    "plt.title('Loss (MSE) per Generation')\n",
    "plt.xlabel('Generation')\n",
    "plt.ylabel('Loss')\n",
    "plt.show()"
   ]
  },
  {
   "cell_type": "code",
   "execution_count": null,
   "metadata": {
    "id": "jCNleWTf3Mz9",
    "outputId": "50872774-efb2-491a-e793-b80768c1dcbf"
   },
   "outputs": [
    {
     "name": "stdout",
     "output_type": "stream",
     "text": [
      "tf.Tensor([8], shape=(1,), dtype=int64)\n"
     ]
    }
   ],
   "source": [
    "# Make Prediction:\n",
    "test_boards = [test_board]\n",
    "logits = model.predict(test_boards)\n",
    "predictions = tf.argmax(logits, 1)\n",
    "print(predictions)"
   ]
  },
  {
   "cell_type": "code",
   "execution_count": null,
   "metadata": {
    "id": "wQVOIXcD3Mz_",
    "outputId": "368b385a-39d4-4e40-bb6e-7021469d6aae"
   },
   "outputs": [
    {
     "name": "stdin",
     "output_type": "stream",
     "text": [
      "Input index of your move (0-8):  0\n"
     ]
    },
    {
     "name": "stdout",
     "output_type": "stream",
     "text": [
      "Model has moved\n",
      " X |   |  \n",
      "___________\n",
      "   |   |  \n",
      "___________\n",
      " O |   |  \n"
     ]
    },
    {
     "name": "stdin",
     "output_type": "stream",
     "text": [
      "Input index of your move (0-8):  3\n"
     ]
    },
    {
     "name": "stdout",
     "output_type": "stream",
     "text": [
      "Model has moved\n",
      " X |   | O\n",
      "___________\n",
      " X |   |  \n",
      "___________\n",
      " O |   |  \n"
     ]
    },
    {
     "name": "stdin",
     "output_type": "stream",
     "text": [
      "Input index of your move (0-8):  1\n"
     ]
    },
    {
     "name": "stdout",
     "output_type": "stream",
     "text": [
      "Model has moved\n",
      " X | X | O\n",
      "___________\n",
      " X |   |  \n",
      "___________\n",
      " O |   | O\n"
     ]
    },
    {
     "name": "stdin",
     "output_type": "stream",
     "text": [
      "Input index of your move (0-8):  5\n"
     ]
    },
    {
     "name": "stdout",
     "output_type": "stream",
     "text": [
      "Model has moved\n",
      " X | X | O\n",
      "___________\n",
      " X | O | X\n",
      "___________\n",
      " O |   | O\n",
      "Game Over!\n"
     ]
    }
   ],
   "source": [
    "# Declare function to check for win\n",
    "def check(board):\n",
    "    wins = [[0, 1, 2], [3, 4, 5], [6, 7, 8], [0, 3, 6], [1, 4, 7], [2, 5, 8], [0, 4, 8], [2, 4, 6]]\n",
    "    for ix in range(len(wins)):\n",
    "        if board[wins[ix][0]] == board[wins[ix][1]] == board[wins[ix][2]] == 1.:\n",
    "            return 1\n",
    "        elif board[wins[ix][0]] == board[wins[ix][1]] == board[wins[ix][2]] == -1.:\n",
    "            return -1\n",
    "    return 0\n",
    "\n",
    "# Let's play against our model\n",
    "game_tracker = [0., 0., 0., 0., 0., 0., 0., 0., 0.]\n",
    "win_logical = False\n",
    "num_moves = 0\n",
    "while not win_logical:\n",
    "    player_index = input('Input index of your move (0-8): ')\n",
    "    num_moves += 1\n",
    "    # Add player move to game\n",
    "    game_tracker[int(player_index)] = 1.\n",
    "    \n",
    "    # Get model's move by first getting all the logits for each index\n",
    "    [potential_moves] = model(np.array([game_tracker], dtype=float))\n",
    "    # Now find allowed moves (where game tracker values = 0.0)\n",
    "    allowed_moves = [ix for ix, x in enumerate(game_tracker) if x == 0.0]\n",
    "    # Find best move by taking argmax of logits if they are in allowed moves\n",
    "    model_move = np.argmax([x if ix in allowed_moves else -999.0 for ix, x in enumerate(potential_moves)])\n",
    "    \n",
    "    # Add model move to game\n",
    "    game_tracker[int(model_move)] = -1.\n",
    "    print('Model has moved')\n",
    "    print_board(game_tracker)\n",
    "    # Now check for win or too many moves\n",
    "    if check(game_tracker) == -1 or num_moves >= 5:\n",
    "        print('Game Over!')\n",
    "        win_logical = True\n",
    "    elif check(game_tracker) == 1:\n",
    "        print('Congratulations, You won!')\n",
    "        win_logical = True\n"
   ]
  },
  {
   "cell_type": "code",
   "execution_count": null,
   "metadata": {
    "id": "Q1gSBmxG3M0B"
   },
   "outputs": [],
   "source": []
  }
 ],
 "metadata": {
  "colab": {
   "name": "TicTacToe.ipynb",
   "provenance": []
  },
  "kernelspec": {
   "display_name": "tf2",
   "language": "python",
   "name": "tf2"
  },
  "language_info": {
   "codemirror_mode": {
    "name": "ipython",
    "version": 3
   },
   "file_extension": ".py",
   "mimetype": "text/x-python",
   "name": "python",
   "nbconvert_exporter": "python",
   "pygments_lexer": "ipython3",
   "version": "3.7.7"
  }
 },
 "nbformat": 4,
 "nbformat_minor": 4
}
