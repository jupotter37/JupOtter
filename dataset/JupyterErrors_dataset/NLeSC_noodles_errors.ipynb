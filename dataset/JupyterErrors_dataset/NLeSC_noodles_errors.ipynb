{
 "cells": [
  {
   "cell_type": "markdown",
   "metadata": {},
   "source": [
    "# Expecting the unexpected\n",
    "\n",
    "To handle errors properly deserves a chapter on its own in any programming book. Python gives us many ways do deal with errors fatal and otherwise: try, except, assert, if ...\n",
    "Using these mechanisms in a naive way may lead to code that is littered with safety `if` statements and `try`-`except` blocks, just because we need to account for errors at every level in a program.\n",
    "\n",
    "In this tutorial we'll see how we can use exceptions in a more effective way. As an added bonus we learn how to use exceptions in a manner that is compatible with the Noodles programming model. Let's try something dangerous! We'll compute the reciprocal of a list of numbers. To see what is happening, the function `something_dangerous` contains a print statement."
   ]
  },
  {
   "cell_type": "code",
   "execution_count": 2,
   "metadata": {},
   "outputs": [
    {
     "name": "stdout",
     "output_type": "stream",
     "text": [
      "computing reciprocal of 2\n",
      "1/2 = 0.5\n",
      "computing reciprocal of 1\n",
      "1/1 = 1.0\n",
      "computing reciprocal of 0\n",
      "Something went terribly wrong: division by zero\n"
     ]
    }
   ],
   "source": [
    "import sys\n",
    "\n",
    "def something_dangerous(x):\n",
    "    print(\"computing reciprocal of\", x)\n",
    "    return 1 / x\n",
    "\n",
    "try:\n",
    "    for x in [2, 1, 0, -1]:\n",
    "        print(\"1/{} = {}\".format(x, something_dangerous(x)))\n",
    "        \n",
    "except ArithmeticError as error:\n",
    "    print(\"Something went terribly wrong:\", error)"
   ]
  },
  {
   "cell_type": "markdown",
   "metadata": {},
   "source": [
    "This shows how exceptions are raised and caught, but this approach is somewhat limited. Suppose now, that we weren't expecting this expected unexpected behaviour and we wanted to compute everything before displaying our results."
   ]
  },
  {
   "cell_type": "code",
   "execution_count": 3,
   "metadata": {},
   "outputs": [
    {
     "name": "stdout",
     "output_type": "stream",
     "text": [
      "computing reciprocal of 2\n",
      "computing reciprocal of 1\n",
      "computing reciprocal of 0\n"
     ]
    },
    {
     "ename": "ZeroDivisionError",
     "evalue": "division by zero",
     "output_type": "error",
     "traceback": [
      "\u001b[0;31m---------------------------------------------------------------------------\u001b[0m",
      "\u001b[0;31mZeroDivisionError\u001b[0m                         Traceback (most recent call last)",
      "\u001b[0;32m<ipython-input-3-5818b4ef53c0>\u001b[0m in \u001b[0;36m<module>\u001b[0;34m\u001b[0m\n\u001b[1;32m      1\u001b[0m \u001b[0minput_list\u001b[0m \u001b[0;34m=\u001b[0m \u001b[0;34m[\u001b[0m\u001b[0;36m2\u001b[0m\u001b[0;34m,\u001b[0m \u001b[0;36m1\u001b[0m\u001b[0;34m,\u001b[0m \u001b[0;36m0\u001b[0m\u001b[0;34m,\u001b[0m \u001b[0;34m-\u001b[0m\u001b[0;36m1\u001b[0m\u001b[0;34m]\u001b[0m\u001b[0;34m\u001b[0m\u001b[0;34m\u001b[0m\u001b[0m\n\u001b[1;32m      2\u001b[0m reciprocals = [something_dangerous(item)\n\u001b[0;32m----> 3\u001b[0;31m                for item in input_list]\n\u001b[0m\u001b[1;32m      4\u001b[0m \u001b[0;34m\u001b[0m\u001b[0m\n\u001b[1;32m      5\u001b[0m \u001b[0mprint\u001b[0m\u001b[0;34m(\u001b[0m\u001b[0;34m\"The reciprocal of\"\u001b[0m\u001b[0;34m,\u001b[0m \u001b[0minput_list\u001b[0m\u001b[0;34m,\u001b[0m \u001b[0;34m\"is\"\u001b[0m\u001b[0;34m,\u001b[0m \u001b[0mreciprocals\u001b[0m\u001b[0;34m)\u001b[0m\u001b[0;34m\u001b[0m\u001b[0;34m\u001b[0m\u001b[0m\n",
      "\u001b[0;32m<ipython-input-3-5818b4ef53c0>\u001b[0m in \u001b[0;36m<listcomp>\u001b[0;34m(.0)\u001b[0m\n\u001b[1;32m      1\u001b[0m \u001b[0minput_list\u001b[0m \u001b[0;34m=\u001b[0m \u001b[0;34m[\u001b[0m\u001b[0;36m2\u001b[0m\u001b[0;34m,\u001b[0m \u001b[0;36m1\u001b[0m\u001b[0;34m,\u001b[0m \u001b[0;36m0\u001b[0m\u001b[0;34m,\u001b[0m \u001b[0;34m-\u001b[0m\u001b[0;36m1\u001b[0m\u001b[0;34m]\u001b[0m\u001b[0;34m\u001b[0m\u001b[0;34m\u001b[0m\u001b[0m\n\u001b[1;32m      2\u001b[0m reciprocals = [something_dangerous(item)\n\u001b[0;32m----> 3\u001b[0;31m                for item in input_list]\n\u001b[0m\u001b[1;32m      4\u001b[0m \u001b[0;34m\u001b[0m\u001b[0m\n\u001b[1;32m      5\u001b[0m \u001b[0mprint\u001b[0m\u001b[0;34m(\u001b[0m\u001b[0;34m\"The reciprocal of\"\u001b[0m\u001b[0;34m,\u001b[0m \u001b[0minput_list\u001b[0m\u001b[0;34m,\u001b[0m \u001b[0;34m\"is\"\u001b[0m\u001b[0;34m,\u001b[0m \u001b[0mreciprocals\u001b[0m\u001b[0;34m)\u001b[0m\u001b[0;34m\u001b[0m\u001b[0;34m\u001b[0m\u001b[0m\n",
      "\u001b[0;32m<ipython-input-2-aa3ff186a76f>\u001b[0m in \u001b[0;36msomething_dangerous\u001b[0;34m(x)\u001b[0m\n\u001b[1;32m      3\u001b[0m \u001b[0;32mdef\u001b[0m \u001b[0msomething_dangerous\u001b[0m\u001b[0;34m(\u001b[0m\u001b[0mx\u001b[0m\u001b[0;34m)\u001b[0m\u001b[0;34m:\u001b[0m\u001b[0;34m\u001b[0m\u001b[0;34m\u001b[0m\u001b[0m\n\u001b[1;32m      4\u001b[0m     \u001b[0mprint\u001b[0m\u001b[0;34m(\u001b[0m\u001b[0;34m\"computing reciprocal of\"\u001b[0m\u001b[0;34m,\u001b[0m \u001b[0mx\u001b[0m\u001b[0;34m)\u001b[0m\u001b[0;34m\u001b[0m\u001b[0;34m\u001b[0m\u001b[0m\n\u001b[0;32m----> 5\u001b[0;31m     \u001b[0;32mreturn\u001b[0m \u001b[0;36m1\u001b[0m \u001b[0;34m/\u001b[0m \u001b[0mx\u001b[0m\u001b[0;34m\u001b[0m\u001b[0;34m\u001b[0m\u001b[0m\n\u001b[0m\u001b[1;32m      6\u001b[0m \u001b[0;34m\u001b[0m\u001b[0m\n\u001b[1;32m      7\u001b[0m \u001b[0;32mtry\u001b[0m\u001b[0;34m:\u001b[0m\u001b[0;34m\u001b[0m\u001b[0;34m\u001b[0m\u001b[0m\n",
      "\u001b[0;31mZeroDivisionError\u001b[0m: division by zero"
     ]
    }
   ],
   "source": [
    "input_list = [2, 1, 0, -1]\n",
    "reciprocals = [something_dangerous(item)\n",
    "               for item in input_list]\n",
    "\n",
    "print(\"The reciprocal of\", input_list, \"is\", reciprocals)"
   ]
  },
  {
   "cell_type": "markdown",
   "metadata": {},
   "source": [
    "Ooops! Let's fix that."
   ]
  },
  {
   "cell_type": "code",
   "execution_count": 4,
   "metadata": {},
   "outputs": [
    {
     "name": "stdout",
     "output_type": "stream",
     "text": [
      "computing reciprocal of 2\n",
      "computing reciprocal of 1\n",
      "computing reciprocal of 0\n",
      "Something went terribly wrong: division by zero\n"
     ]
    }
   ],
   "source": [
    "try:\n",
    "    reciprocals = [something_dangerous(item)\n",
    "                   for item in input_list]\n",
    "\n",
    "except ArithmeticError as error:\n",
    "    print(\"Something went terribly wrong:\", error)\n",
    "\n",
    "else:\n",
    "    print(\"The reciprocal of\\n\\t\", input_list,\n",
    "          \"\\nis\\n\\t\", reciprocals)"
   ]
  },
  {
   "cell_type": "markdown",
   "metadata": {},
   "source": [
    "That's also not what we want. We wasted all this time computing nice reciprocals of numbers, only to find all of our results being thrown away because of one stupid zero in the input list. We can fix this."
   ]
  },
  {
   "cell_type": "code",
   "execution_count": 5,
   "metadata": {},
   "outputs": [
    {
     "name": "stdout",
     "output_type": "stream",
     "text": [
      "computing reciprocal of 2\n",
      "computing reciprocal of 1\n",
      "computing reciprocal of 0\n",
      "computing reciprocal of -1\n",
      "The reciprocal of\n",
      "\t [2, 1, 0, -1] \n",
      "is\n",
      "\t [0.5, 1.0, nan, -1.0]\n"
     ]
    }
   ],
   "source": [
    "import math\n",
    "\n",
    "def something_safe(x):\n",
    "    try:\n",
    "        return something_dangerous(x)\n",
    "    except ArithmeticError as error:\n",
    "        return math.nan\n",
    "\n",
    "reciprocals = [something_safe(item)\n",
    "               for item in input_list]\n",
    "\n",
    "print(\"The reciprocal of\\n\\t\", input_list,\n",
    "      \"\\nis\\n\\t\", reciprocals)"
   ]
  },
  {
   "cell_type": "markdown",
   "metadata": {},
   "source": [
    "That's better! We skipped right over the error and continued to more interesting results. So how are we going to make this solution more generic? Subsequent functions may not know how to handle that little `nan` in our list."
   ]
  },
  {
   "cell_type": "code",
   "execution_count": 6,
   "metadata": {},
   "outputs": [
    {
     "ename": "ValueError",
     "evalue": "math domain error",
     "output_type": "error",
     "traceback": [
      "\u001b[0;31m---------------------------------------------------------------------------\u001b[0m",
      "\u001b[0;31mValueError\u001b[0m                                Traceback (most recent call last)",
      "\u001b[0;32m<ipython-input-6-2230fed3783b>\u001b[0m in \u001b[0;36m<module>\u001b[0;34m\u001b[0m\n\u001b[0;32m----> 1\u001b[0;31m \u001b[0msquare_roots\u001b[0m \u001b[0;34m=\u001b[0m \u001b[0;34m[\u001b[0m\u001b[0mmath\u001b[0m\u001b[0;34m.\u001b[0m\u001b[0msqrt\u001b[0m\u001b[0;34m(\u001b[0m\u001b[0mitem\u001b[0m\u001b[0;34m)\u001b[0m \u001b[0;32mfor\u001b[0m \u001b[0mitem\u001b[0m \u001b[0;32min\u001b[0m \u001b[0mreciprocals\u001b[0m\u001b[0;34m]\u001b[0m\u001b[0;34m\u001b[0m\u001b[0;34m\u001b[0m\u001b[0m\n\u001b[0m",
      "\u001b[0;32m<ipython-input-6-2230fed3783b>\u001b[0m in \u001b[0;36m<listcomp>\u001b[0;34m(.0)\u001b[0m\n\u001b[0;32m----> 1\u001b[0;31m \u001b[0msquare_roots\u001b[0m \u001b[0;34m=\u001b[0m \u001b[0;34m[\u001b[0m\u001b[0mmath\u001b[0m\u001b[0;34m.\u001b[0m\u001b[0msqrt\u001b[0m\u001b[0;34m(\u001b[0m\u001b[0mitem\u001b[0m\u001b[0;34m)\u001b[0m \u001b[0;32mfor\u001b[0m \u001b[0mitem\u001b[0m \u001b[0;32min\u001b[0m \u001b[0mreciprocals\u001b[0m\u001b[0;34m]\u001b[0m\u001b[0;34m\u001b[0m\u001b[0;34m\u001b[0m\u001b[0m\n\u001b[0m",
      "\u001b[0;31mValueError\u001b[0m: math domain error"
     ]
    }
   ],
   "source": [
    "square_roots = [math.sqrt(item) for item in reciprocals]"
   ]
  },
  {
   "cell_type": "markdown",
   "metadata": {},
   "source": [
    "Hmmmpf. There we go again."
   ]
  },
  {
   "cell_type": "code",
   "execution_count": 7,
   "metadata": {},
   "outputs": [
    {
     "data": {
      "text/plain": [
       "[0.7071067811865476, 1.0, nan, nan]"
      ]
     },
     "execution_count": 7,
     "metadata": {},
     "output_type": "execute_result"
    }
   ],
   "source": [
    "def safe_sqrt(x):\n",
    "    try:\n",
    "        return math.sqrt(x)\n",
    "    except ValueError as error:\n",
    "        return math.nan\n",
    "\n",
    "[safe_sqrt(item) for item in reciprocals]"
   ]
  },
  {
   "cell_type": "markdown",
   "metadata": {},
   "source": [
    "This seems Ok, but there are two problems here. For one, it feels like we're doing too much work! We have a repeating code pattern here. That's always a moment to go back and consider making parts of our code more generic. At the same time, this is when we need some more advanced Python concepts to get us out of trouble. We're going to define a function in a function!"
   ]
  },
  {
   "cell_type": "code",
   "execution_count": 8,
   "metadata": {},
   "outputs": [],
   "source": [
    "def secure_function(dangerous_function):\n",
    "    def something_safe(x):\n",
    "        \"\"\"A safer version of something dangerous.\"\"\"\n",
    "        try:\n",
    "            return dangerous_function(x)\n",
    "        except (ArithmeticError, ValueError):\n",
    "            return math.nan\n",
    "    \n",
    "    return something_safe"
   ]
  },
  {
   "cell_type": "markdown",
   "metadata": {},
   "source": [
    "Consider what happens here. The function `secure_function` takes a function `something_dangerous` as an argument and returns a new function `something_safe`. This new function executes `something_dangerous` within a `try`-`except` block to deal with the possibility of failure. Let's see how this works."
   ]
  },
  {
   "cell_type": "code",
   "execution_count": 9,
   "metadata": {},
   "outputs": [
    {
     "name": "stdout",
     "output_type": "stream",
     "text": [
      "⎷2 = 1.4142135623730951\n",
      "⎷-1 = nan\n",
      "\n",
      "Help on function something_safe in module __main__:\n",
      "\n",
      "something_safe(x)\n",
      "    A safer version of something dangerous.\n",
      "\n"
     ]
    }
   ],
   "source": [
    "safe_sqrt = secure_function(math.sqrt)\n",
    "print(\"⎷2 =\", safe_sqrt(2))\n",
    "print(\"⎷-1 =\", safe_sqrt(-1))\n",
    "print()\n",
    "help(safe_sqrt)"
   ]
  },
  {
   "cell_type": "markdown",
   "metadata": {},
   "source": [
    "Ok, so that works! However, the documentation of `safe_sqrt` is not yet very useful. There is a nice library routine that may help us here: `functools.wraps`; this utility function sets the correct name and doc-string to our new function."
   ]
  },
  {
   "cell_type": "code",
   "execution_count": 10,
   "metadata": {},
   "outputs": [],
   "source": [
    "import functools\n",
    "\n",
    "def secure_function(dangerous_function):\n",
    "    \"\"\"Create a function that doesn't raise ValueErrors.\"\"\"\n",
    "    @functools.wraps(dangerous_function)\n",
    "    def something_safe(x):\n",
    "        \"\"\"A safer version of something dangerous.\"\"\"\n",
    "        try:\n",
    "            return dangerous_function(x)\n",
    "        except (ArithmeticError, ValueError):\n",
    "            return math.nan\n",
    "    \n",
    "    return something_safe"
   ]
  },
  {
   "cell_type": "code",
   "execution_count": 11,
   "metadata": {},
   "outputs": [
    {
     "name": "stdout",
     "output_type": "stream",
     "text": [
      "Help on function sqrt in module math:\n",
      "\n",
      "sqrt(x, /)\n",
      "    Return the square root of x.\n",
      "\n"
     ]
    }
   ],
   "source": [
    "safe_sqrt = secure_function(math.sqrt)\n",
    "help(safe_sqrt)"
   ]
  },
  {
   "cell_type": "markdown",
   "metadata": {},
   "source": [
    "Now it is very easy to also rewrite our function computing the reciprocals safely:"
   ]
  },
  {
   "cell_type": "code",
   "execution_count": 12,
   "metadata": {},
   "outputs": [
    {
     "name": "stdout",
     "output_type": "stream",
     "text": [
      "computing reciprocal of 2\n",
      "computing reciprocal of 1\n",
      "computing reciprocal of 0\n",
      "computing reciprocal of -1\n"
     ]
    },
    {
     "data": {
      "text/plain": [
       "[0.7071067811865476, 1.0, nan, nan]"
      ]
     },
     "execution_count": 12,
     "metadata": {},
     "output_type": "execute_result"
    }
   ],
   "source": [
    "something_safe = secure_function(something_dangerous)\n",
    "[safe_sqrt(something_safe(item)) for item in input_list]"
   ]
  },
  {
   "cell_type": "markdown",
   "metadata": {},
   "source": [
    "There is a second problem to this approach, which is a bit more subtle. How do we know where the error occured? We got two values of `nan` and are desperate to find out what went wrong. We'll need a little class to capture all aspects of failure."
   ]
  },
  {
   "cell_type": "code",
   "execution_count": 13,
   "metadata": {},
   "outputs": [],
   "source": [
    "class Fail:\n",
    "    \"\"\"Keep track of failures.\"\"\"\n",
    "    def __init__(self, exception, trace):\n",
    "        self.exception = exception\n",
    "        self.trace = trace\n",
    "        \n",
    "    def extend_trace(self, f):\n",
    "        \"\"\"Grow a stack trace.\"\"\"\n",
    "        self.trace.append(f)\n",
    "        return self\n",
    "        \n",
    "    def __str__(self):\n",
    "        return \"Fail in \" + \" -> \".join(\n",
    "            f.__name__ for f in reversed(self.trace)) \\\n",
    "            + \":\\n\\t\" + type(self.exception).__name__ \\\n",
    "            + \": \" + str(self.exception)"
   ]
  },
  {
   "cell_type": "markdown",
   "metadata": {},
   "source": [
    "We will adapt our earlier design for `secure_function`. If the given argument is a `Fail`, we don't even attempt to run the next function. In stead, we extend the trace of the failure, so that we can see what happened later on."
   ]
  },
  {
   "cell_type": "code",
   "execution_count": 14,
   "metadata": {},
   "outputs": [],
   "source": [
    "def secure_function(dangerous_function):\n",
    "    \"\"\"Create a function that doesn't raise ValueErrors.\"\"\"\n",
    "    @functools.wraps(dangerous_function)\n",
    "    def something_safe(x):\n",
    "        \"\"\"A safer version of something dangerous.\"\"\"\n",
    "        if isinstance(x, Fail):\n",
    "            return x.extend_trace(dangerous_function)\n",
    "        try:\n",
    "            return dangerous_function(x)\n",
    "        except Exception as error:\n",
    "            return Fail(error, [dangerous_function])\n",
    "    \n",
    "    return something_safe"
   ]
  },
  {
   "cell_type": "markdown",
   "metadata": {},
   "source": [
    "Now we can rewrite our little program entirely from scratch:"
   ]
  },
  {
   "cell_type": "code",
   "execution_count": 15,
   "metadata": {},
   "outputs": [
    {
     "name": "stdout",
     "output_type": "stream",
     "text": [
      "sqrt( 1 / 2 ) = 0.7071067811865476\n",
      "sqrt( 1 / 1 ) = 1.0\n",
      "sqrt( 1 / 0 ) = Fail in square_root -> reciprocal:\n",
      "\tZeroDivisionError: division by zero\n",
      "sqrt( 1 / -1 ) = Fail in square_root:\n",
      "\tValueError: math domain error\n"
     ]
    }
   ],
   "source": [
    "@secure_function\n",
    "def reciprocal(x):\n",
    "    return 1 / x\n",
    "\n",
    "@secure_function\n",
    "def square_root(x):\n",
    "    return math.sqrt(x)\n",
    "\n",
    "reciprocals = map(reciprocal, input_list)\n",
    "square_roots = map(square_root, reciprocals)\n",
    "\n",
    "for x, result in zip(input_list, square_roots):\n",
    "    print(\"sqrt( 1 /\", x, \") =\", result)"
   ]
  },
  {
   "cell_type": "markdown",
   "metadata": {},
   "source": [
    "See how we retain a trace of the functions that were involved in creating the failed state, even though the execution of that produced those values is entirely decoupled. This is exactly what we need to trace errors in Noodles."
   ]
  },
  {
   "cell_type": "markdown",
   "metadata": {},
   "source": [
    "## Handling errors in Noodles\n",
    "\n",
    "Noodles has the functionality of `secure_function` build in by the name of `maybe`. The following code implements the above example in terms of `noodles.maybe`:"
   ]
  },
  {
   "cell_type": "code",
   "execution_count": 16,
   "metadata": {},
   "outputs": [
    {
     "name": "stdout",
     "output_type": "stream",
     "text": [
      "0.7071067811865476\n",
      "1.0\n",
      "Fail: __main__.square_root (<ipython-input-16-b218e6faa8d6>:9)\n",
      "* failed arguments:\n",
      "    __main__.square_root `0` Fail: __main__.reciprocal (<ipython-input-16-b218e6faa8d6>:5)\n",
      "    * ZeroDivisionError: division by zero\n",
      "Fail: __main__.square_root (<ipython-input-16-b218e6faa8d6>:9)\n",
      "* ValueError: math domain error\n"
     ]
    }
   ],
   "source": [
    "import noodles\n",
    "import math\n",
    "from noodles.tutorial import display_workflows\n",
    "\n",
    "@noodles.maybe\n",
    "def reciprocal(x):\n",
    "    return 1 / x\n",
    "\n",
    "@noodles.maybe\n",
    "def square_root(x):\n",
    "    return math.sqrt(x)\n",
    "\n",
    "results = [square_root(reciprocal(x)) for x in [2, 1, 0, -1]]\n",
    "for result in results:\n",
    "    print(str(result))"
   ]
  },
  {
   "cell_type": "markdown",
   "metadata": {},
   "source": [
    "The `maybe` decorator works well together with `schedule`. The following workflow is full of errors!"
   ]
  },
  {
   "cell_type": "code",
   "execution_count": 17,
   "metadata": {},
   "outputs": [
    {
     "data": {
      "text/markdown": [
       "| arithmetic |\n",
       "| --- |\n",
       "| ![workflow arithmetic](errors-arithmetic.svg) |"
      ],
      "text/plain": [
       "<IPython.core.display.Markdown object>"
      ]
     },
     "metadata": {},
     "output_type": "display_data"
    }
   ],
   "source": [
    "@noodles.schedule\n",
    "@noodles.maybe\n",
    "def add(a, b):\n",
    "    return a + b\n",
    "\n",
    "workflow = add(noodles.schedule(reciprocal)(0),\n",
    "               noodles.schedule(square_root)(-1))\n",
    "display_workflows(arithmetic=workflow, prefix='errors')"
   ]
  },
  {
   "cell_type": "markdown",
   "metadata": {},
   "source": [
    "Both the reciprocal and the square root functions will fail. Noodles is smart enough to report on both errors.`"
   ]
  },
  {
   "cell_type": "code",
   "execution_count": 18,
   "metadata": {},
   "outputs": [
    {
     "name": "stdout",
     "output_type": "stream",
     "text": [
      "Fail: __main__.add (<ipython-input-17-198e249a3123>:1)\n",
      "* failed arguments:\n",
      "    __main__.add `0` Fail: __main__.reciprocal (<ipython-input-16-b218e6faa8d6>:5)\n",
      "    * ZeroDivisionError: division by zero\n",
      "    __main__.add `1` Fail: __main__.square_root (<ipython-input-16-b218e6faa8d6>:9)\n",
      "    * ValueError: math domain error\n"
     ]
    }
   ],
   "source": [
    "result = noodles.run_single(workflow)\n",
    "print(result)"
   ]
  },
  {
   "cell_type": "markdown",
   "metadata": {},
   "source": [
    "## Example: parallel stat\n",
    "\n",
    "Let's do an example that works with external processes. The UNIX command `stat` gives the status of a file"
   ]
  },
  {
   "cell_type": "code",
   "execution_count": 19,
   "metadata": {},
   "outputs": [
    {
     "name": "stdout",
     "output_type": "stream",
     "text": [
      "crw-rw-rw-          0 /dev/null\n"
     ]
    }
   ],
   "source": [
    "!stat -t -c '%A %10s %n' /dev/null"
   ]
  },
  {
   "cell_type": "markdown",
   "metadata": {},
   "source": [
    "If a file does note exist, `stat` returns an error-code of 1."
   ]
  },
  {
   "cell_type": "code",
   "execution_count": 20,
   "metadata": {},
   "outputs": [
    {
     "name": "stdout",
     "output_type": "stream",
     "text": [
      "stat: kan status van 'does-not-exist' niet opvragen: Bestand of map bestaat niet\n"
     ]
    }
   ],
   "source": [
    "!stat -t -c '%A %10s %n' does-not-exist"
   ]
  },
  {
   "cell_type": "markdown",
   "metadata": {},
   "source": [
    "We can wrap the execution of the `stat` command in a helper function."
   ]
  },
  {
   "cell_type": "code",
   "execution_count": 21,
   "metadata": {},
   "outputs": [],
   "source": [
    "from subprocess import run, PIPE, CalledProcessError\n",
    "\n",
    "@noodles.schedule\n",
    "@noodles.maybe\n",
    "def stat_file(filename):\n",
    "    p = run(['stat', '-t', '-c', '%A %10s %n', filename],\n",
    "            check=True, stdout=PIPE, stderr=PIPE)\n",
    "    return p.stdout.decode().strip()"
   ]
  },
  {
   "cell_type": "markdown",
   "metadata": {},
   "source": [
    "The `run` function runs the given command and returns a `CompletedProcess` object. The `check=True` argument enables checking for return value of the child process. If the return value is any other then 0, a `CalledProcessError` is raised. Because we decorated our function with `noodles.maybe`, such an error will be caught and a `Fail` object will be returned."
   ]
  },
  {
   "cell_type": "code",
   "execution_count": 22,
   "metadata": {},
   "outputs": [
    {
     "data": {
      "text/markdown": [
       "| stat |\n",
       "| --- |\n",
       "| ![workflow stat](errors-stat.svg) |"
      ],
      "text/plain": [
       "<IPython.core.display.Markdown object>"
      ]
     },
     "metadata": {},
     "output_type": "display_data"
    }
   ],
   "source": [
    "\n",
    "\n",
    "files = ['/dev/null', 'does-not-exist', '/home', '/usr/bin/python3']\n",
    "workflow = noodles.gather_all(stat_file(f) for f in files)\n",
    "display_workflows(stat=workflow, prefix='errors')"
   ]
  },
  {
   "cell_type": "markdown",
   "metadata": {},
   "source": [
    "We can now run this workflow and print the output in a table."
   ]
  },
  {
   "cell_type": "code",
   "execution_count": 23,
   "metadata": {},
   "outputs": [
    {
     "name": "stdout",
     "output_type": "stream",
     "text": [
      "stat /dev/null          -> crw-rw-rw-          0 /dev/null\n",
      "stat does-not-exist     -> failed: stat: kan status van 'does-not-exist' niet opvragen: Bestand of map bestaat niet\n",
      "stat /home              -> drwxr-xr-x         16 /home\n",
      "stat /usr/bin/python3   -> lrwxrwxrwx          9 /usr/bin/python3\n"
     ]
    }
   ],
   "source": [
    "result = noodles.run_parallel(workflow, n_threads=4)\n",
    "\n",
    "for file, stat in zip(files, result):\n",
    "    print('stat {:18} -> {}'.format(\n",
    "        file, stat if not noodles.failed(stat)\n",
    "        else 'failed: ' + stat.exception.stderr.decode().strip()))"
   ]
  }
 ],
 "metadata": {
  "kernelspec": {
   "display_name": "Python 3",
   "language": "python",
   "name": "python3"
  },
  "language_info": {
   "codemirror_mode": {
    "name": "ipython",
    "version": 3
   },
   "file_extension": ".py",
   "mimetype": "text/x-python",
   "name": "python",
   "nbconvert_exporter": "python",
   "pygments_lexer": "ipython3",
   "version": "3.7.3"
  }
 },
 "nbformat": 4,
 "nbformat_minor": 2
}
