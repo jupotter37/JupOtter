{
 "cells": [
  {
   "cell_type": "code",
   "execution_count": 1,
   "metadata": {},
   "outputs": [],
   "source": [
    "%load_ext autoreload\n",
    "%autoreload 2"
   ]
  },
  {
   "cell_type": "code",
   "execution_count": 28,
   "metadata": {},
   "outputs": [],
   "source": [
    "from sklearn.model_selection import train_test_split\n",
    "\n",
    "from gptchem.data import get_matbench_is_metal, get_photoswitch_data\n",
    "from gptchem.querier import Querier"
   ]
  },
  {
   "cell_type": "code",
   "execution_count": 44,
   "metadata": {},
   "outputs": [],
   "source": [
    "PROMPT_TEMPLATE = \"\"\"Is {smiles} metallicity (based on bandgap)?\n",
    "\n",
    "Examples:\n",
    "---------\n",
    "{examples}\n",
    "\"\"\""
   ]
  },
  {
   "cell_type": "code",
   "execution_count": 45,
   "metadata": {},
   "outputs": [],
   "source": [
    "data = get_matbench_is_metal()"
   ]
  },
  {
   "cell_type": "code",
   "execution_count": 46,
   "metadata": {},
   "outputs": [],
   "source": [
    "data = data.dropna(subset=[\"is_metal\"])"
   ]
  },
  {
   "cell_type": "code",
   "execution_count": 47,
   "metadata": {},
   "outputs": [],
   "source": [
    "train, test = train_test_split(data, test_size=0.2, random_state=42)"
   ]
  },
  {
   "cell_type": "code",
   "execution_count": 48,
   "metadata": {},
   "outputs": [
    {
     "data": {
      "text/html": [
       "<div>\n",
       "<style scoped>\n",
       "    .dataframe tbody tr th:only-of-type {\n",
       "        vertical-align: middle;\n",
       "    }\n",
       "\n",
       "    .dataframe tbody tr th {\n",
       "        vertical-align: top;\n",
       "    }\n",
       "\n",
       "    .dataframe thead th {\n",
       "        text-align: right;\n",
       "    }\n",
       "</style>\n",
       "<table border=\"1\" class=\"dataframe\">\n",
       "  <thead>\n",
       "    <tr style=\"text-align: right;\">\n",
       "      <th></th>\n",
       "      <th>composition</th>\n",
       "      <th>is_metal</th>\n",
       "    </tr>\n",
       "  </thead>\n",
       "  <tbody>\n",
       "    <tr>\n",
       "      <th>0</th>\n",
       "      <td>Ag(AuS)2</td>\n",
       "      <td>True</td>\n",
       "    </tr>\n",
       "    <tr>\n",
       "      <th>1</th>\n",
       "      <td>Ag(W3Br7)2</td>\n",
       "      <td>True</td>\n",
       "    </tr>\n",
       "    <tr>\n",
       "      <th>2</th>\n",
       "      <td>Ag0.5Ge1Pb1.75S4</td>\n",
       "      <td>False</td>\n",
       "    </tr>\n",
       "    <tr>\n",
       "      <th>3</th>\n",
       "      <td>Ag0.5Ge1Pb1.75Se4</td>\n",
       "      <td>False</td>\n",
       "    </tr>\n",
       "    <tr>\n",
       "      <th>4</th>\n",
       "      <td>Ag2BBr</td>\n",
       "      <td>True</td>\n",
       "    </tr>\n",
       "    <tr>\n",
       "      <th>...</th>\n",
       "      <td>...</td>\n",
       "      <td>...</td>\n",
       "    </tr>\n",
       "    <tr>\n",
       "      <th>4916</th>\n",
       "      <td>ZrTaN3</td>\n",
       "      <td>False</td>\n",
       "    </tr>\n",
       "    <tr>\n",
       "      <th>4917</th>\n",
       "      <td>ZrTe</td>\n",
       "      <td>True</td>\n",
       "    </tr>\n",
       "    <tr>\n",
       "      <th>4918</th>\n",
       "      <td>ZrTi2O</td>\n",
       "      <td>True</td>\n",
       "    </tr>\n",
       "    <tr>\n",
       "      <th>4919</th>\n",
       "      <td>ZrTiF6</td>\n",
       "      <td>True</td>\n",
       "    </tr>\n",
       "    <tr>\n",
       "      <th>4920</th>\n",
       "      <td>ZrW2</td>\n",
       "      <td>True</td>\n",
       "    </tr>\n",
       "  </tbody>\n",
       "</table>\n",
       "<p>4921 rows × 2 columns</p>\n",
       "</div>"
      ],
      "text/plain": [
       "            composition  is_metal\n",
       "0              Ag(AuS)2      True\n",
       "1            Ag(W3Br7)2      True\n",
       "2      Ag0.5Ge1Pb1.75S4     False\n",
       "3     Ag0.5Ge1Pb1.75Se4     False\n",
       "4                Ag2BBr      True\n",
       "...                 ...       ...\n",
       "4916             ZrTaN3     False\n",
       "4917               ZrTe      True\n",
       "4918             ZrTi2O      True\n",
       "4919             ZrTiF6      True\n",
       "4920               ZrW2      True\n",
       "\n",
       "[4921 rows x 2 columns]"
      ]
     },
     "execution_count": 48,
     "metadata": {},
     "output_type": "execute_result"
    }
   ],
   "source": [
    "data"
   ]
  },
  {
   "cell_type": "code",
   "execution_count": 49,
   "metadata": {},
   "outputs": [],
   "source": [
    "def create_example_string(\n",
    "    data,\n",
    "    num_examples: int = 10,\n",
    "    representation_col: str = \"composition\",\n",
    "    value_col: str = \"is_metal\",\n",
    "):\n",
    "    examples = []\n",
    "    for i, row in data.sample(num_examples).iterrows():\n",
    "        examples.append(f\"- {row[representation_col]}: {row[value_col]}\")\n",
    "    return \"\\n\".join(examples)"
   ]
  },
  {
   "cell_type": "code",
   "execution_count": 50,
   "metadata": {},
   "outputs": [
    {
     "name": "stdout",
     "output_type": "stream",
     "text": [
      "- Na11Ti20O40: True\n",
      "- LiMgSnPd: True\n",
      "- U5Ge3: True\n",
      "- KP(HO2)2: False\n",
      "- Ba4Ga4SnSe12: False\n",
      "- Ca2Os2O7: True\n",
      "- CrPbO4: False\n",
      "- Ni(PO3)4: True\n",
      "- Ba3Sn0.87Bi2.13Se8: False\n",
      "- NaSbSe2: False\n"
     ]
    }
   ],
   "source": [
    "print(create_example_string(data))"
   ]
  },
  {
   "cell_type": "code",
   "execution_count": 79,
   "metadata": {},
   "outputs": [],
   "source": [
    "prompt = PROMPT_TEMPLATE.format(\n",
    "    smiles=test[\"composition\"].iloc[2], examples=create_example_string(train, 50)\n",
    ")"
   ]
  },
  {
   "cell_type": "code",
   "execution_count": 80,
   "metadata": {},
   "outputs": [
    {
     "data": {
      "text/plain": [
       "'BaAg2, ZrTe, Ga1Sb0.14As0.86, Nb2Tl4S11, U4S3, CoP2, Li9Ga13(Te7O22)3, CdGeP2, Sm2Se3, Ti2Be17, LiMnP2O7, Si15(TeP2)4, Sc6NiTe2, Cu9Se4(Cl3O7)2, In0.01Ga0.99As1, Fe3Si, Ti3Be, Y(AlSi)2, GeSe2, SrAg, Bi2Se3, Cs2Te, YSn3, Tl2O3, Mg2Zr14O5, Ca5Ir, NdMgNi4, ErB2Ir3, Ba3PN, Th(FeSi)2, Ge(SeO3)2, LiInTe2, HPbI3, CsAg2AsS3, CsNbSe2O7, Hf5Sn4, SmCo2, K2VCuS4, MgCr, ZrTi2O, Ca5Au2, SnB, CoP3, Al0.5In0.5P1, As2S3, Sr2Co2O5, Ga2O3, Zn0.9Ga0.1P0.1Se0.9, LiZn(Fe5O8)2, WO3'"
      ]
     },
     "execution_count": 80,
     "metadata": {},
     "output_type": "execute_result"
    }
   ],
   "source": [
    "\", \".join(test.iloc[:50][\"composition\"].to_list())"
   ]
  },
  {
   "cell_type": "code",
   "execution_count": 81,
   "metadata": {},
   "outputs": [
    {
     "data": {
      "text/plain": [
       "'True, True, False, False, True, False, False, False, False, True, True, False, True, True, False, True, True, True, False, True, False, False, True, False, True, True, True, True, True, True, False, False, True, False, False, True, True, False, True, True, True, True, False, False, False, True, False, False, True, False'"
      ]
     },
     "execution_count": 81,
     "metadata": {},
     "output_type": "execute_result"
    }
   ],
   "source": [
    "\", \".join(test.iloc[:50][\"is_metal\"].astype(str).to_list())"
   ]
  },
  {
   "cell_type": "code",
   "execution_count": 82,
   "metadata": {},
   "outputs": [
    {
     "name": "stdout",
     "output_type": "stream",
     "text": [
      "Is Ga1Sb0.14As0.86 metallicity (based on bandgap)?\n",
      "\n",
      "Examples:\n",
      "---------\n",
      "- LaVI5O16: False\n",
      "- Tl2CdTe4: True\n",
      "- Li3Fe(SbO3)4: True\n",
      "- InSe: False\n",
      "- Cs2NaMnF6: True\n",
      "- CI4: False\n",
      "- Y2Ge2O7: True\n",
      "- La2V2IO9: False\n",
      "- Er2(MoO4)3: False\n",
      "- Cu9O13: True\n",
      "- InPS4: False\n",
      "- LiV3O4: True\n",
      "- Nd(SiIr)2: True\n",
      "- CeNbO4: True\n",
      "- YCu3(WO3)4: True\n",
      "- VB2: True\n",
      "- YbZnAu2: True\n",
      "- In0.1Ga0.9As0.9P0.1: False\n",
      "- TiGaIr2: True\n",
      "- Ti2Cd: True\n",
      "- Ba2B6H4O13: False\n",
      "- Cs2SCl6F: True\n",
      "- Sn0.08Te1Pb0.92: False\n",
      "- GaBi25O39: False\n",
      "- CsGdO3: True\n",
      "- ErB6: False\n",
      "- In2S3: False\n",
      "- Li8GeN4: False\n",
      "- Nd5Ge4: True\n",
      "- Zn0.25Ga0.75P0.75Se0.25: False\n",
      "- Sr2TiO4: False\n",
      "- Li5Mn5(SbO6)2: True\n",
      "- LaCuSeO: False\n",
      "- GaN: False\n",
      "- Tm2Ru2O7: True\n",
      "- Fe3B: True\n",
      "- Zn0.94Hg0.06Te1: False\n",
      "- Eu3BWO9: True\n",
      "- TmSnRh: True\n",
      "- ZrGe2: True\n",
      "- Ag7(SI)2: True\n",
      "- Cd0.06In0.94Te0.06As0.94: False\n",
      "- MgF2: False\n",
      "- K2Sn(AuS2)2: False\n",
      "- SrGe2: False\n",
      "- Zn0.86Hg0.14Te1: False\n",
      "- Li2U(MoO5)2: True\n",
      "- TbTe: True\n",
      "- TaGaPt: True\n",
      "- EuCuSeF: True\n",
      "\n"
     ]
    }
   ],
   "source": [
    "print(prompt)"
   ]
  },
  {
   "cell_type": "code",
   "execution_count": 22,
   "metadata": {},
   "outputs": [],
   "source": [
    "querier = Querier(\"ada\", max_tokens=600)"
   ]
  },
  {
   "cell_type": "code",
   "execution_count": 26,
   "metadata": {},
   "outputs": [
    {
     "name": "stdout",
     "output_type": "stream",
     "text": [
      "CN1C(/N=N/C2=CC=CC=C2)=C(C)C=C1C 394.0\n",
      "COC(C=CN=C1)=C1/N=N/C2=CC=CC=C2 332.0\n",
      "FC1=C(F)C=C(F)C(F)=C1/N=N/C2=C(F)C(F)=CC(F)=C2F 303.0\n",
      "CC(S1)=CC=C1/N=N/C2=CC=C(C(F)(F)F)C=C2 378.0\n",
      "N#CCCNC(C=C1)=CC=C1/N=N/C2=CC=CC=C2OC 394.0\n",
      "OC7=C8N=CC=CC8=C(/N=N/C9=NC=C(S(=O)(C%10=CC=C([N+]([O-])=O)C=C%10)=O)S9)C=C7 491.0\n",
      "CC1=C(C(C)=NN1)/N=N/C2=CC=C(Cl)C=C2 336.0\n",
      "FC1=CC=C(/N=N/C2=CC=C(NCCC#N)C=C2)C=C1 398.0\n",
      "CC(C=C(N(CCC#N)CCO)C=C1)=C1/N=N/C2=C(F)C=CC=C2 417.0\n",
      "NC1=CC(/N=N/C2=CC=CC=C2)=CC=C1 417.0\n",
      "ClC1=CC=C(/N=N/C2=CC=C(NCCC#N)C=C2)C=C1 404.0\n",
      "CCN(CC)C(C=C1)=CC=C1/N=N/C2=C(C#N)C=CC=C2 462.0\n",
      "CC1=NOC(C)=C1/N=N/C2=CC=C(F)C=C2 318.0\n",
      "OC(C([N+]([O-])=O)=CC([N+]([O-])=O)=C1)=C1/N=N/C2=CC(C)=CC(NC(C)=O)=C2O 400.0\n",
      "OCCC1=CC=CC=C1/N=N/C2=CC=C(NCCC#N)C=C2 399.0\n",
      "N#CCCNC(C=C1)=CC=C1/N=N/C2=CC=C(C#N)C=C2 428.0\n",
      "CC1=NOC(C)=C1/N=N/C2=CC(NC(C)=O)=CC=C2 315.0\n",
      "COC(C=C1)=CC=C1N=NC2=NNC=C2 344.0\n",
      "CC1=CC=C(/N=N/C2=CC=CC=C2)C=C1 330.0\n",
      "[H]C5=CC([N+]([O-])=O)=CC([N+]([O-])=O)=C5/N=N/C6=CC(OC)=C(C=C6)N(CC)CC 540.0\n",
      "C[N]1C=CC(=N1)N=NC2=CC=CC=C2 310.0\n",
      "CCN(CC)C(C=C1)=CC=C1/N=N/C2=CC(C#N)=CC(C#N)=C2 478.0\n",
      "OC%11=C(N=CC=C%12)C%12=C(/N=N/C%13=CC=C(NC(C)=O)C=C%13)C=C%11 390.0\n",
      "O=[N+]([O-])C(C=C1)=CC=C1/N=N/C2=CC=C(NC3=CC=CC=C3)C=C2 483.0\n",
      "CC1=NOC(C)=C1/N=N/C2=CC(Cl)=CC=C2 315.0\n",
      "C1(NC2=CC=CC=C2)=CC=C(/N=N/C3=CC=CC=C3)C=C1 411.0\n",
      "NC1=CC=C(/N=N/C2=CC=CC=C2)C=C1 364.0\n",
      "CC(C=C(N(CCC#N)CCO)C=C1)=C1/N=N/C2=CC(OC)=CC=C2 407.0\n",
      "CC(C=C(N(CCC#N)CCO)C=C1)=C1/N=N/C2=CC=C(Cl)C=C2 413.0\n",
      "OC%14=C%15N=CC=CC%15=C(/N=N/C%16=NC(C%17=CC=CC=C%17)=CS%16)C=C%14 516.0\n",
      "OC%11=C%12N=CC=CC%12=C(/N=N/C%13=NC(CC(OCC)=O)=CS%13)C=C%11 438.0\n",
      "IC1=C(/N=N/C2=CC=CC=C2)C=NC=C1 330.0\n",
      "[H]C3=CC([N+]([O-])=O)=CC(Cl)=C3/N=N/C4=CC([H])=C(C=C4OC)N(CC)CC 526.0\n",
      "CC1=C(C(C)=NN1)/N=N/C2=CC=C(NC(C)=O)C=C2 350.0\n",
      "O=C(C)NC1=CC=C(/N=N/C2=CC=C(NCCC#N)C=C2)C=C1 403.0\n",
      "CC1=NOC(C)=C1/N=N/C2=C(Cl)C=CC=C2 321.0\n",
      "[H]C%22=CC=C(N=C(N=NC%23=CC=CC=C%23SC)S%24)C%24=C%22 328.0\n",
      "CN(N=C1)C=C1/N=N/C2=C(F)C=CC=C2F 316.0\n",
      "FC(F)(F)C1=CC=CC=C1/N=N/C2=CC=CC=C2 317.0\n",
      "CN(C)C1=CC=C(/N=N/C2=CC=C(C(OC)=O)C=C2)C=C1 442.0\n",
      "BrC1=CC=C(/N=N/C2=CC=C(Br)C=C2)C=C1 324.0\n",
      "c1ccc(cc1)c1[nH]c2c(c1N=Nc1nncs1)cccc2 437.0\n",
      "CC1=NOC(C)=C1/N=N/C2=C([N+]([O-])=O)C=CC=C2 318.0\n",
      "ClC7=CC=CC=C7N=NC8=NC9=CC=C([N+]([O-])=O)C=C9S8 343.0\n",
      "OCCN(CCC#N)C(C=C%13)=CC=C%13/N=N/C%14=CC=C([N+]([O-])=O)C=C%14 451.0\n",
      "FC1=CC(C(OCC)=O)=CC(F)=C1/N=N/C2=CC=CC=C2 316.0\n",
      "CC1=C(C(C)=NN1)/N=N/C2=C(Br)C=CC=C2 340.0\n",
      "OC%20=C(N=CC=C%21)C%21=C(/N=N/C%22=CC=C(C(O)=O)C=C%22)C=C%20 503.0\n",
      "CC1=CC(/N=N/C2=CC(C)=C(C)C=C2)=CC=C1C 333.0\n",
      "N#CC1=CC=C(/N=N/C2=CC=CC=C2)C=C1 321.0\n",
      "FC(F)(F)C1=CC=C(/N=N/C2=CC=CC=C2)C=C1 315.0\n",
      "OC%14=C(N=CC=C%15)C%15=C(/N=N/C%16=CC=C(OCC)C=C%16)C=C%14 388.0\n",
      "CC1=C(C(C)=NN1)/N=N/C2=CC(Br)=CC=C2 335.0\n",
      "O=C(C1=CC=C(/N=N/C2=NNC=C2)C=C1)OCC 331.0\n",
      "FC1=CC=CC(F)=C1/N=N/C2=C(F)C=CC=C2F 305.0\n",
      "CC1=NOC(C)=C1/N=N/C2=CC=C(Br)C=C2 325.0\n",
      "NC1=C(/N=N/C2=CC=CC=C2)C=CC(N)=C1 411.0\n",
      "Cc1[nH]c2c(c1N=Nc1nncs1)cccc2 428.0\n",
      "CC1=NOC(C)=C1/N=N/C2=CC=CC=C2 315.0\n",
      "FC1=CC=CC(F)=C1/N=N/C2=CC=CC=C2 309.0\n",
      "CN(C)C(C=C1)=CC=C1/N=N/C2=CC=C([N+]([O-])=O)C=C2 473.0\n",
      "CCc1nnc(s1)N=Nc1c2ccccc2n(c1C)C 432.0\n",
      "CC1=C(/N=N/C2=NN=C(CC)S2)C3=CC=CC=C3N1 420.0\n",
      "CC(C=C(N(CCC#N)CCO)C=C1)=C1/N=N/C2=CC(C)=CC=C2 402.0\n",
      "CCN(CC)C(C=C1)=CC=C1/N=N/C2=CC=C([N+]([O-])=O)C=C2 482.0\n",
      "ClC1=CC=CC(/N=N/C2=CC=CC(Cl)=C2)=C1 320.0\n",
      "C[N]1N=CC=C1N=NC2=CC=CC=C2 341.0\n",
      "CC(C)C1=C(/N=N/C2=CC=CC=C2)C=NC=C1 323.0\n",
      "O=[N+]([O-])C1=CC(/N=N/C2=CC=CC=C2)=CC=C1 327.0\n",
      "CC(C=C(N(CCC#N)CCO)C=C1)=C1/N=N/C2=CC=CC=C2[N+]([O-])=O 429.0\n",
      "OC%17=C(N=CC=C%18)C%18=C(/N=N/C%19=CC=C(Cl)C=C%19)C=C%17 395.0\n",
      "OC1=C2N=CC=CC2=C(/N=N/C3=NC=CS3)C=C1 428.0\n",
      "NC1=CC=CC=C1/N=N/C2=CC=CC=C2 421.0\n",
      "OC%22=C%23N=CC=CC%23=C(/N=N/C%24=NC(C%25=CC=C(Br)C=C%25)=CS%24)C=C%22 462.0\n",
      "C[N]1C=C(C=N1)N=NC2=CC=CC=C2 328.0\n",
      "[H]C(C=C1)=CC=C1N=NC2=NNC=C2 324.0\n",
      "CC1=NOC(C)=C1/N=N/C2=CC=C(NC(C)=O)C=C2 342.0\n",
      "C12=CC=CC=C1N=C(/N=N/C3=NC4=CC=CC=C4O3)O2 430.0\n"
     ]
    }
   ],
   "source": [
    "for i, row in test.iterrows():\n",
    "    print(row[\"SMILES\"], row[\"E isomer pi-pi* wavelength in nm\"])"
   ]
  },
  {
   "cell_type": "code",
   "execution_count": null,
   "metadata": {},
   "outputs": [],
   "source": [
    " CN1C(/N=N/C2=CC=CC=C2)=C(C)C=C1C? 362.0\n",
    " COC(C=CN=C1)=C1/N=N/C2=CC=CC=C2 332.0\n",
    " OC7=C8N=CC=CC8=C(/N=N/C9=NC=C(S(=O)(C%10=CC=C([N+]([O-])=O)C=C%10)=O)S9)C=C7 443"
   ]
  },
  {
   "cell_type": "code",
   "execution_count": 27,
   "metadata": {},
   "outputs": [],
   "source": [
    "found = [362, 332, 443]\n",
    "expected = [394.0, 332, 491.0]"
   ]
  },
  {
   "cell_type": "code",
   "execution_count": 28,
   "metadata": {},
   "outputs": [],
   "source": [
    "import numpy as np"
   ]
  },
  {
   "cell_type": "code",
   "execution_count": 29,
   "metadata": {},
   "outputs": [
    {
     "data": {
      "text/plain": [
       "26.666666666666668"
      ]
     },
     "execution_count": 29,
     "metadata": {},
     "output_type": "execute_result"
    }
   ],
   "source": [
    "np.mean(np.abs(np.array(found) - np.array(expected)))"
   ]
  },
  {
   "cell_type": "code",
   "execution_count": 122,
   "metadata": {},
   "outputs": [],
   "source": [
    "import os\n",
    "\n",
    "import openai\n",
    "\n",
    "response = openai.Completion.create(\n",
    "    model=\"text-davinci-003\",\n",
    "    prompt=\"What is the transition wavelength of OC7=C8N=CC=CC8=C(/N=N/C9=NC=C(S(=O)(C%10=CC=C([N+]([O-])=O)C=C%10)=O)S9)C=C7?\\n\\nExamples:\\n---------\\n- ClC(C=C1)=CC=C1/N=N/C2=CC=C(N(C)C)C=C2: 416.0 nm\\n- FC1=CC=CC(/N=N/C2=CC=CC(F)=C2)=C1: 320.0 nm\\n- CC1=C(/N=N/C2=CC=CC=C2)C=NC=C1: 322.0 nm\\n- NC1=CC=C(/N=N/C2=CC=C(N(C)C)C=C2)C=C1: 410.0 nm\\n- CC1=C(C(C)=NN1)/N=N/C2=CC=C(OC)C=C2: 342.0 nm\\n- [H]N(CCC#N)C(C=C7)=CC=C7/N=N/C8=CC=C([N+]([O-])=O)C=C8: 443.0 nm\\n- OCCN(CCO)C(C=C%11)=CC=C%11/N=N/C%12=CC=C([N+]([O-])=O)C=C%12: 475.0 nm\\n- O=[N+]([O-])C1=C(/N=N/C2=C([N+]([O-])=O)C=CC=C2)C=CC=C1: 323.0 nm\\n- CC1=NOC(C)=C1/N=N/C2=C(OC)C=CC=C2: 311.0 nm\\n- ClC1=C(/N=N/C2=C(Cl)C=CC=C2)C=CC=C1: 328.0 nm\\n- C[N]1N=CC(=C1N=NC2=CC=CC=C2)C: 340.0 nm\\n- ClC1=CC=C(/N=N/C2=CC=CC=C2)C=C1: 324.0 nm\\n- CC1=CC=C(/N=N/C2=CC=C(NCCC#N)C=C2)C=C1: 395.0 nm\\n- CN1C(/N=N/C2=CC=CC=C2)=CN=C1: 362.0 nm\\n- O=[N+]([O-])C1=CC=CC(/N=N/C2=CC([N+]([O-])=O)=CC=C2)=C1: 311.0 nm\\n- CCN(CC)C1=CC=C(/N=N/C2=CC(C#N)=CC=C2)C=C1: 446.0 nm\\n- ClC1=CC([N+]([O-])=O)=CC(C#N)=C1/N=N/C2=CC([H])=C(C=C2[H])N(CC)CC: 551.0 nm\\n- OC1=C(/N=N/C2=CC=C([N+]([O-])=O)C=C2)C=CC(O)=C1: 432.0 nm\\n- COC(S1)=CC=C1/N=N/C2=CC=C(C#N)C=C2: 413.0 nm\\n- CCN(CCC#N)C(C=C%21C)=CC=C%21/N=N/C%22=CC=C([N+]([O-])=O)C=C%22: 463.0 nm\\n- O=[N+]([O-])C1=CC=C(N=C(N=NC2=CC=CC=C2)S3)C3=C1: 340.0 nm\\n- OC1=CC=C(/N=N/C2=CC=C(C=C2)[N+]([O-])=O)C=C1: 382.0 nm\\n- [H]N(CCO)C(C=C5)=CC=C5/N=N/C6=CC=CC=C6: 398.0 nm\\n- CC1=C(/N=N/C2=C(Cl)C=CC=C2Cl)C(C)=NO1: 297.0 nm\\n- O=C1C=CC(N1C2=CC=C(/N=N/C3=CC=CC=C3)C=C2)=O: 329.0 nm\\n- CC1=CC=CC(/N=N/C2=CC=CC(C)=C2)=C1: 331.0 nm\\n- CC(C=C(N(CCC#N)CCO)C=C1)=C1/N=N/C2=C(C)C=CC=C2: 405.0 nm\\n- [H]C7=CC=C(N=C(N=NC8=CC=CC(CO)=C8)S9)C9=C7: 328.0 nm\\n- OCCC1=CC=C(/N=N/C2=CC=C(NCCC#N)C=C2)C=C1: 396.0 nm\\n- CSc1nnc(s1)N=Nc1c2ccccc2n(c1C)C: 451.0 nm\\n- CSC7=CC=CC=C7N=NC8=NC9=CC=C([N+]([O-])=O)C=C9S8: 340.0 nm\\n- CC1=C(C(C)=NN1)/N=N/C2=CC(C(O)=O)=CC=C2: 332.0 nm\\n- N#CC(S1)=CC=C1/N=N/C2=CC=CC=C2: 367.0 nm\\n- C1(/N=N/C2=CC=CC=C2)=CC=CC=C1: 319.0 nm\\n- [H]N(CC)C(C=C3)=CC=C3/N=N/C4=CC=CC=C4: 400.0 nm\",\n",
    "    temperature=0,\n",
    "    max_tokens=256,\n",
    "    top_p=1,\n",
    "    frequency_penalty=0,\n",
    "    presence_penalty=0,\n",
    ")"
   ]
  },
  {
   "cell_type": "code",
   "execution_count": 123,
   "metadata": {},
   "outputs": [
    {
     "data": {
      "text/plain": [
       "<OpenAIObject text_completion id=cmpl-6fq6kc1vGluj9d7uSOSyiwbH8sDVq at 0x2a3cb46d0> JSON: {\n",
       "  \"choices\": [\n",
       "    {\n",
       "      \"finish_reason\": \"stop\",\n",
       "      \"index\": 0,\n",
       "      \"logprobs\": null,\n",
       "      \"text\": \"\\n- OC7=C8N=CC=CC8=C(/N=N/C9=NC=C(S(=O)(C%10=CC=C([N+]([O-])=O)C=C%10)=O)S9)C=C7: 463.0 nm\"\n",
       "    }\n",
       "  ],\n",
       "  \"created\": 1675429770,\n",
       "  \"id\": \"cmpl-6fq6kc1vGluj9d7uSOSyiwbH8sDVq\",\n",
       "  \"model\": \"text-davinci-003\",\n",
       "  \"object\": \"text_completion\",\n",
       "  \"usage\": {\n",
       "    \"completion_tokens\": 72,\n",
       "    \"prompt_tokens\": 1525,\n",
       "    \"total_tokens\": 1597\n",
       "  }\n",
       "}"
      ]
     },
     "execution_count": 123,
     "metadata": {},
     "output_type": "execute_result"
    }
   ],
   "source": [
    "response"
   ]
  },
  {
   "cell_type": "code",
   "execution_count": 6,
   "metadata": {},
   "outputs": [],
   "source": [
    "from gptchem.extractor import RegressionExtractor\n",
    "from gptchem.formatter import FewShotFormatter"
   ]
  },
  {
   "cell_type": "code",
   "execution_count": 98,
   "metadata": {},
   "outputs": [
    {
     "data": {
      "text/plain": [
       "{'id': 'cmpl-6fpWfYmQFDhQbCJbBXQrccQvFGdQA',\n",
       " 'object': 'text_completion',\n",
       " 'created': 1675427533,\n",
       " 'model': 'text-davinci-003',\n",
       " 'choices': [<OpenAIObject at 0x16d3d1a90> JSON: {\n",
       "    \"finish_reason\": \"stop\",\n",
       "    \"index\": 0,\n",
       "    \"logprobs\": null,\n",
       "    \"text\": \"\\n\\nThe transition wavelength of OC7=C8N=CC=CC8=C(/N=N/C9=NC=C(S(=O)(C%10=CC=C([N+]([O-])=O)C=C%10)=O)S9)C=C7 is 443.0 nm.\"\n",
       "  }],\n",
       " 'usage': <OpenAIObject at 0x16d3d1cc0> JSON: {\n",
       "   \"completion_tokens\": 76,\n",
       "   \"prompt_tokens\": 2183,\n",
       "   \"total_tokens\": 2259\n",
       " }}"
      ]
     },
     "execution_count": 98,
     "metadata": {},
     "output_type": "execute_result"
    }
   ],
   "source": [
    "dict(response)"
   ]
  },
  {
   "cell_type": "code",
   "execution_count": 97,
   "metadata": {},
   "outputs": [
    {
     "ename": "AttributeError",
     "evalue": "split",
     "output_type": "error",
     "traceback": [
      "\u001b[0;31m---------------------------------------------------------------------------\u001b[0m",
      "\u001b[0;31mKeyError\u001b[0m                                  Traceback (most recent call last)",
      "File \u001b[0;32m~/miniconda3/envs/gptchem/lib/python3.9/site-packages/openai/openai_object.py:59\u001b[0m, in \u001b[0;36mOpenAIObject.__getattr__\u001b[0;34m(self, k)\u001b[0m\n\u001b[1;32m     58\u001b[0m \u001b[39mtry\u001b[39;00m:\n\u001b[0;32m---> 59\u001b[0m     \u001b[39mreturn\u001b[39;00m \u001b[39mself\u001b[39;49m[k]\n\u001b[1;32m     60\u001b[0m \u001b[39mexcept\u001b[39;00m \u001b[39mKeyError\u001b[39;00m \u001b[39mas\u001b[39;00m err:\n",
      "\u001b[0;31mKeyError\u001b[0m: 'split'",
      "\nDuring handling of the above exception, another exception occurred:\n",
      "\u001b[0;31mAttributeError\u001b[0m                            Traceback (most recent call last)",
      "Cell \u001b[0;32mIn[97], line 1\u001b[0m\n\u001b[0;32m----> 1\u001b[0m RegressionExtractor()(\u001b[39mdict\u001b[39;49m(response))\n",
      "File \u001b[0;32m~/git/kjappelbaum/gptchem/src/gptchem/extractor.py:44\u001b[0m, in \u001b[0;36mBaseExtractor.__call__\u001b[0;34m(self, data, key, **kwargs)\u001b[0m\n\u001b[1;32m     43\u001b[0m \u001b[39mdef\u001b[39;00m \u001b[39m__call__\u001b[39m(\u001b[39mself\u001b[39m, data, key\u001b[39m=\u001b[39m\u001b[39m\"\u001b[39m\u001b[39mchoices\u001b[39m\u001b[39m\"\u001b[39m, \u001b[39m*\u001b[39m\u001b[39m*\u001b[39mkwargs):\n\u001b[0;32m---> 44\u001b[0m     \u001b[39mreturn\u001b[39;00m \u001b[39mself\u001b[39;49m\u001b[39m.\u001b[39;49mextract_many_from_dict(data, key\u001b[39m=\u001b[39;49mkey, \u001b[39m*\u001b[39;49m\u001b[39m*\u001b[39;49mkwargs)\n",
      "File \u001b[0;32m~/git/kjappelbaum/gptchem/src/gptchem/extractor.py:41\u001b[0m, in \u001b[0;36mBaseExtractor.extract_many_from_dict\u001b[0;34m(self, data, key, **kwargs)\u001b[0m\n\u001b[1;32m     40\u001b[0m \u001b[39mdef\u001b[39;00m \u001b[39mextract_many_from_dict\u001b[39m(\u001b[39mself\u001b[39m, data, key\u001b[39m=\u001b[39m\u001b[39m\"\u001b[39m\u001b[39mchoices\u001b[39m\u001b[39m\"\u001b[39m, \u001b[39m*\u001b[39m\u001b[39m*\u001b[39mkwargs) \u001b[39m-\u001b[39m\u001b[39m>\u001b[39m L:\n\u001b[0;32m---> 41\u001b[0m     \u001b[39mreturn\u001b[39;00m L([\u001b[39mself\u001b[39m\u001b[39m.\u001b[39mextract(entry, \u001b[39m*\u001b[39m\u001b[39m*\u001b[39mkwargs) \u001b[39mfor\u001b[39;00m entry \u001b[39min\u001b[39;00m data[key]])\n",
      "File \u001b[0;32m~/git/kjappelbaum/gptchem/src/gptchem/extractor.py:41\u001b[0m, in \u001b[0;36m<listcomp>\u001b[0;34m(.0)\u001b[0m\n\u001b[1;32m     40\u001b[0m \u001b[39mdef\u001b[39;00m \u001b[39mextract_many_from_dict\u001b[39m(\u001b[39mself\u001b[39m, data, key\u001b[39m=\u001b[39m\u001b[39m\"\u001b[39m\u001b[39mchoices\u001b[39m\u001b[39m\"\u001b[39m, \u001b[39m*\u001b[39m\u001b[39m*\u001b[39mkwargs) \u001b[39m-\u001b[39m\u001b[39m>\u001b[39m L:\n\u001b[0;32m---> 41\u001b[0m     \u001b[39mreturn\u001b[39;00m L([\u001b[39mself\u001b[39;49m\u001b[39m.\u001b[39;49mextract(entry, \u001b[39m*\u001b[39;49m\u001b[39m*\u001b[39;49mkwargs) \u001b[39mfor\u001b[39;00m entry \u001b[39min\u001b[39;00m data[key]])\n",
      "File \u001b[0;32m~/git/kjappelbaum/gptchem/src/gptchem/extractor.py:60\u001b[0m, in \u001b[0;36mRegressionExtractor.extract\u001b[0;34m(self, data, **kwargs)\u001b[0m\n\u001b[1;32m     59\u001b[0m \u001b[39mdef\u001b[39;00m \u001b[39mextract\u001b[39m(\u001b[39mself\u001b[39m, data, \u001b[39m*\u001b[39m\u001b[39m*\u001b[39mkwargs) \u001b[39m-\u001b[39m\u001b[39m>\u001b[39m \u001b[39mfloat\u001b[39m:\n\u001b[0;32m---> 60\u001b[0m     \u001b[39mreturn\u001b[39;00m \u001b[39mself\u001b[39m\u001b[39m.\u001b[39mfloatify(\u001b[39mself\u001b[39;49m\u001b[39m.\u001b[39;49msplit(data)\u001b[39m.\u001b[39mstrip())\n",
      "File \u001b[0;32m~/git/kjappelbaum/gptchem/src/gptchem/extractor.py:30\u001b[0m, in \u001b[0;36mBaseExtractor.split\u001b[0;34m(self, value)\u001b[0m\n\u001b[1;32m     28\u001b[0m \u001b[39mdef\u001b[39;00m \u001b[39msplit\u001b[39m(\u001b[39mself\u001b[39m, value: \u001b[39mstr\u001b[39m) \u001b[39m-\u001b[39m\u001b[39m>\u001b[39m \u001b[39mstr\u001b[39m:\n\u001b[1;32m     29\u001b[0m     \u001b[39mtry\u001b[39;00m:\n\u001b[0;32m---> 30\u001b[0m         \u001b[39mreturn\u001b[39;00m value\u001b[39m.\u001b[39;49msplit(\u001b[39mself\u001b[39m\u001b[39m.\u001b[39m_stop_sequence)[\u001b[39m0\u001b[39m]\n\u001b[1;32m     31\u001b[0m     \u001b[39mexcept\u001b[39;00m \u001b[39mIndexError\u001b[39;00m:\n\u001b[1;32m     32\u001b[0m         \u001b[39mreturn\u001b[39;00m \u001b[39mNone\u001b[39;00m\n",
      "File \u001b[0;32m~/miniconda3/envs/gptchem/lib/python3.9/site-packages/openai/openai_object.py:61\u001b[0m, in \u001b[0;36mOpenAIObject.__getattr__\u001b[0;34m(self, k)\u001b[0m\n\u001b[1;32m     59\u001b[0m     \u001b[39mreturn\u001b[39;00m \u001b[39mself\u001b[39m[k]\n\u001b[1;32m     60\u001b[0m \u001b[39mexcept\u001b[39;00m \u001b[39mKeyError\u001b[39;00m \u001b[39mas\u001b[39;00m err:\n\u001b[0;32m---> 61\u001b[0m     \u001b[39mraise\u001b[39;00m \u001b[39mAttributeError\u001b[39;00m(\u001b[39m*\u001b[39merr\u001b[39m.\u001b[39margs)\n",
      "\u001b[0;31mAttributeError\u001b[0m: split"
     ]
    }
   ],
   "source": [
    "RegressionExtractor()(dict(response))"
   ]
  },
  {
   "cell_type": "code",
   "execution_count": 55,
   "metadata": {},
   "outputs": [],
   "source": [
    "formatter = FewShotFormatter(\n",
    "    train.sample(10),\n",
    "    \"transition wavelengths of photoswitch molecules\",\n",
    "    \"SMILES\",\n",
    "    \"E isomer pi-pi* wavelength in nm\",\n",
    ")"
   ]
  },
  {
   "cell_type": "code",
   "execution_count": 56,
   "metadata": {},
   "outputs": [],
   "source": [
    "import pandas as pd"
   ]
  },
  {
   "cell_type": "code",
   "execution_count": 57,
   "metadata": {},
   "outputs": [],
   "source": [
    "prompt = formatter(test.sample(1))"
   ]
  },
  {
   "cell_type": "code",
   "execution_count": 58,
   "metadata": {},
   "outputs": [
    {
     "name": "stdout",
     "output_type": "stream",
     "text": [
      "I am a highly intelligent question answering bot that answers questions about transition wavelengths of photoswitch molecules.\n",
      "    \n",
      "Q: CC(C=C(N(CCC#N)CCO)C=C1)=C1/N=N/C2=CC=C(C(F)(F)F)C=C2\n",
      "A: 421.0\n",
      "\n",
      "Q: OC1=C([N+]([O-])=O)C=C([N+]([O-])=O)C=C1/N=N/C2=C(O)C=CC(C)=C2\n",
      "A: 400.0\n",
      "\n",
      "Q: O=[N+]([O-])C1=CC=C(/N=N/C2=CC=C(NCCC#N)C=C2)C=C1\n",
      "A: 455.0\n",
      "\n",
      "Q: FC1=CC=C(/N=N/C2=CC=CC=C2)C=C1\n",
      "A: 322.0\n",
      "\n",
      "Q: CCN(CC)C(C=C%21)=CC=C%21/N=N/C%22=CC=C(N%23CCOCC%23)C([H])=C%22\n",
      "A: 417.0\n",
      "\n",
      "Q: CN(C=N1)C=C1/N=N/C2=CC=CC=C2\n",
      "A: 336.0\n",
      "\n",
      "Q: CCN(CC)C(C=C1)=CC=C1/N=N/C2=C(C#N)C=C(C#N)C=C2\n",
      "A: 515.0\n",
      "\n",
      "Q: CN(C)C(C=C1)=CC=C1/N=N/C2=CC=CC=C2[N+]([O-])=O\n",
      "A: 440.0\n",
      "\n",
      "Q: CC1=C(C(C)=NN1)/N=N/C2=CC=C(C(O)=O)C=C2\n",
      "A: 342.0\n",
      "\n",
      "Q: CC(C=C(N(CCC#N)CCO)C=C1)=C1/N=N/C2=CC=C(C(C)=O)C=C2\n",
      "A: 412.0\n",
      "\n",
      "Q: CC(C=C(N(CCC#N)CCO)C=C1)=C1/N=N/C2=C(F)C=CC=C2\n"
     ]
    }
   ],
   "source": [
    "print(prompt.iloc[0][\"prompt\"])"
   ]
  },
  {
   "cell_type": "code",
   "execution_count": 59,
   "metadata": {},
   "outputs": [
    {
     "data": {
      "text/html": [
       "<div>\n",
       "<style scoped>\n",
       "    .dataframe tbody tr th:only-of-type {\n",
       "        vertical-align: middle;\n",
       "    }\n",
       "\n",
       "    .dataframe tbody tr th {\n",
       "        vertical-align: top;\n",
       "    }\n",
       "\n",
       "    .dataframe thead th {\n",
       "        text-align: right;\n",
       "    }\n",
       "</style>\n",
       "<table border=\"1\" class=\"dataframe\">\n",
       "  <thead>\n",
       "    <tr style=\"text-align: right;\">\n",
       "      <th></th>\n",
       "      <th>prompt</th>\n",
       "      <th>completion</th>\n",
       "      <th>label</th>\n",
       "      <th>representation</th>\n",
       "    </tr>\n",
       "  </thead>\n",
       "  <tbody>\n",
       "    <tr>\n",
       "      <th>0</th>\n",
       "      <td>I am a highly intelligent question answering b...</td>\n",
       "      <td>417.0</td>\n",
       "      <td>417.0</td>\n",
       "      <td>CC(C=C(N(CCC#N)CCO)C=C1)=C1/N=N/C2=C(F)C=CC=C2</td>\n",
       "    </tr>\n",
       "  </tbody>\n",
       "</table>\n",
       "</div>"
      ],
      "text/plain": [
       "                                              prompt  completion  label  \\\n",
       "0  I am a highly intelligent question answering b...       417.0  417.0   \n",
       "\n",
       "                                   representation  \n",
       "0  CC(C=C(N(CCC#N)CCO)C=C1)=C1/N=N/C2=C(F)C=CC=C2  "
      ]
     },
     "execution_count": 59,
     "metadata": {},
     "output_type": "execute_result"
    }
   ],
   "source": [
    "prompt"
   ]
  },
  {
   "cell_type": "code",
   "execution_count": 82,
   "metadata": {},
   "outputs": [],
   "source": [
    "from gptchem.extractor import FewShotClassificationExtractor, FewShotRegressionExtractor"
   ]
  },
  {
   "cell_type": "code",
   "execution_count": 83,
   "metadata": {},
   "outputs": [],
   "source": [
    "extractor = FewShotRegressionExtractor()"
   ]
  },
  {
   "cell_type": "code",
   "execution_count": 84,
   "metadata": {},
   "outputs": [
    {
     "data": {
      "text/plain": [
       "4566.0"
      ]
     },
     "execution_count": 84,
     "metadata": {},
     "output_type": "execute_result"
    }
   ],
   "source": [
    "extractor.extract(\"A: 4566\")"
   ]
  },
  {
   "cell_type": "code",
   "execution_count": null,
   "metadata": {},
   "outputs": [],
   "source": [
    "|"
   ]
  }
 ],
 "metadata": {
  "kernelspec": {
   "display_name": "gptchem",
   "language": "python",
   "name": "python3"
  },
  "language_info": {
   "codemirror_mode": {
    "name": "ipython",
    "version": 3
   },
   "file_extension": ".py",
   "mimetype": "text/x-python",
   "name": "python",
   "nbconvert_exporter": "python",
   "pygments_lexer": "ipython3",
   "version": "3.9.15"
  },
  "orig_nbformat": 4,
  "vscode": {
   "interpreter": {
    "hash": "2f3b9074e5baa1438c27e2ea813f7f53b7516c83bd70840b6d64eae6820ee5df"
   }
  }
 },
 "nbformat": 4,
 "nbformat_minor": 2
}
