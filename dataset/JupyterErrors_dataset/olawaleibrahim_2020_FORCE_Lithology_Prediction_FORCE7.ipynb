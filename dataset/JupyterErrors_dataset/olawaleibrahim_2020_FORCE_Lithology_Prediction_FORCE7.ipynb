{
  "nbformat": 4,
  "nbformat_minor": 0,
  "metadata": {
    "colab": {
      "name": "FORCE7.ipynb",
      "provenance": [],
      "collapsed_sections": []
    },
    "kernelspec": {
      "name": "python3",
      "display_name": "Python 3"
    }
  },
  "cells": [
    {
      "cell_type": "code",
      "metadata": {
        "id": "RCSwuLlLuKCJ"
      },
      "source": [
        "import pandas as pd\n",
        "import numpy as np\n",
        "import numpy.random as nr\n",
        "import matplotlib.pyplot as plt\n",
        "import sklearn\n",
        "from sklearn.ensemble import RandomForestClassifier, ExtraTreesClassifier\n",
        "from sklearn import preprocessing\n",
        "#!pip install catboost\n",
        "#from catboost import CatBoostClassifier\n",
        "from xgboost import XGBClassifier\n",
        "import sklearn.model_selection as ms\n",
        "from sklearn.model_selection import KFold, StratifiedKFold\n",
        "from sklearn.metrics import accuracy_score, f1_score"
      ],
      "execution_count": null,
      "outputs": []
    },
    {
      "cell_type": "code",
      "metadata": {
        "id": "V7dtTxz6uh9u"
      },
      "source": [
        "def fill_missing_values(data):\n",
        "    \n",
        "    '''\n",
        "    Function to input missing values based on the column object type\n",
        "    '''\n",
        "    \n",
        "    cols = list(data.columns)\n",
        "    for col in cols:\n",
        "        if data[col].dtype == 'int64' or data[col].dtype == 'float64':\n",
        "        \n",
        "            data[col] = data[col].fillna(data[col].mean())\n",
        "        \n",
        "        #elif data[col].dtype == 'O' or data[col].dtype == 'object':\n",
        "        #    data[col] = data[col].fillna(data[col].mode()[0])\n",
        "            \n",
        "        else:\n",
        "            data[col] = data[col].fillna(data[col].mode()[0])\n",
        "            \n",
        "    return data\n",
        " \n",
        "def one_hot_encoding(traindata, *args):\n",
        "    \n",
        "    for ii in args:\n",
        "        traindata = pd.get_dummies(traindata, prefix=[ii], columns=[ii])\n",
        "        \n",
        "    return traindata\n",
        " \n",
        "def drop_columns(traindata, *args):\n",
        "    \n",
        "    #labels = np.array(traindata[target])\n",
        "    \n",
        "    columns = []\n",
        "    for _ in args:\n",
        "        columns.append(_)\n",
        "        \n",
        "    traindata = traindata.drop(columns, axis=1)\n",
        "    #traindata = traindata.drop(target, axis=1)\n",
        "    #testdata = testdata.drop(columns, axis=1)\n",
        "        \n",
        "    return traindata\n",
        " \n",
        "def process(traindata):\n",
        "    \n",
        "    cols = list(traindata.columns)\n",
        "    for _ in cols:\n",
        "        traindata[_] = np.where(traindata[_] == np.inf, -999, traindata[_])\n",
        "        traindata[_] = np.where(traindata[_] == np.nan, -999, traindata[_])\n",
        "        traindata[_] = np.where(traindata[_] == -np.inf, -999, traindata[_])\n",
        "        \n",
        "    return traindata\n",
        " \n",
        "def show_evaluation(pred, true):\n",
        "  print(f'Default score: {score(true.values, pred)}')\n",
        "  print(f'Accuracy is: {accuracy_score(true, pred)}')\n",
        "  print(f'F1 is: {f1_score(pred, true.values, average=\"weighted\")}')\n",
        " \n",
        "def freq_encode(data, cols):\n",
        "    for i in cols:\n",
        "        encoding = data.groupby(i).size()\n",
        "        encoding = encoding/len(data)\n",
        "        data[i + '_enc'] = data[i].map(encoding)\n",
        "    return data\n",
        " \n",
        " \n",
        "def mean_target(data, cols):\n",
        "    kf = KFold(5)\n",
        "    a = pd.DataFrame()\n",
        "    for tr_ind, val_ind in kf.split(data):\n",
        "        X_tr, X_val= data.iloc[tr_ind].copy(), data.iloc[val_ind].copy()\n",
        "        for col in cols:\n",
        "            means = X_val[col].map(X_tr.groupby(col).FORCE_2020_LITHOFACIES_LITHOLOGY.mean())\n",
        "            X_val[col + '_mean_target'] = means + 0.0001\n",
        "        a = pd.concat((a, X_val))\n",
        "    #prior = FORCE_2020_LITHOFACIES_LITHOLOGY.mean()\n",
        "    #a.fillna(prior, inplace=True)\n",
        "    return a\n",
        " \n",
        "def make_submission(prediction, filename):\n",
        " \n",
        "  path = '/content/drive/My Drive/FORCE-Lithology-Prediction/'\n",
        " \n",
        "  test = pd.read_csv('/content/drive/My Drive/FORCE-Lithology-Prediction/Test.csv', sep=';')\n",
        "  #test_prediction = model.predict(testdata)\n",
        " \n",
        "  #test_prediction\n",
        "  category_to_lithology = {y:x for x,y in lithology_numbers.items()}\n",
        "  test_prediction_for_submission = np.vectorize(category_to_lithology.get)(prediction)\n",
        "  np.savetxt(path+filename+'.csv', test_prediction_for_submission, header='lithology', fmt='%i')"
      ],
      "execution_count": null,
      "outputs": []
    },
    {
      "cell_type": "code",
      "metadata": {
        "id": "kVsirpZ4u-jn"
      },
      "source": [
        "A = np.load('/content/drive/My Drive/FORCE-Lithology-Prediction/penalty_matrix.npy')\n",
        " \n",
        "def score(y_true, y_pred):\n",
        "    S = 0.0\n",
        "    y_true = y_true.astype(int)\n",
        "    y_pred = y_pred.astype(int)\n",
        "    for i in range(0, y_true.shape[0]):\n",
        "        S -= A[y_true[i], y_pred[i]]\n",
        "    return S/y_true.shape[0]\n",
        " \n",
        "def evaluate(model):\n",
        "    feat_imp = pd.Series(model.feature_importances_).sort_values(ascending=False)\n",
        "    plt.figure(figsize=(24,8))\n",
        "    feat_imp.plot(kind='bar', title=f'Feature Importances {len(model.feature_importances_)}')\n",
        "    plt.ylabel('Feature Importance Score')"
      ],
      "execution_count": null,
      "outputs": []
    },
    {
      "cell_type": "code",
      "metadata": {
        "id": "WCe8LN94vA9E",
        "colab": {
          "base_uri": "https://localhost:8080/",
          "height": 404
        },
        "outputId": "014c2090-ad65-4ec1-88a7-0e0dab0b26a2"
      },
      "source": [
        "#importing files\n",
        "train = pd.read_csv('/content/drive/My Drive/FORCE-Lithology-Prediction/new_train.csv')\n",
        "#df5 = pd.read_csv('/content/drive/My Drive/FORCE-Lithology-Prediction/df5.csv')\n",
        "test = pd.read_csv('/content/drive/My Drive/FORCE-Lithology-Prediction/Test.csv', sep=';')\n",
        "#valid1 = pd.read_csv('/content/drive/My Drive/FORCE-Lithology-Prediction/validation1.csv')\n",
        "#valid2 = pd.read_csv('/content/drive/My Drive/FORCE-Lithology-Prediction/validation2.csv')\n",
        " \n",
        "ntrain = train.shape[0]\n",
        "ntest = test.shape[0]\n",
        "nvalid1 = valid1.shape[0]\n",
        "nvalid2 = valid2.shape[0]\n",
        "target = train.FORCE_2020_LITHOFACIES_LITHOLOGY.copy()\n",
        "df = pd.concat((train, test, valid1, valid2)).reset_index(drop=True)"
      ],
      "execution_count": null,
      "outputs": [
        {
          "output_type": "error",
          "ename": "NameError",
          "evalue": "ignored",
          "traceback": [
            "\u001b[0;31m---------------------------------------------------------------------------\u001b[0m",
            "\u001b[0;31mNameError\u001b[0m                                 Traceback (most recent call last)",
            "\u001b[0;32m<ipython-input-4-24477faf6f88>\u001b[0m in \u001b[0;36m<module>\u001b[0;34m()\u001b[0m\n\u001b[1;32m      8\u001b[0m \u001b[0mntrain\u001b[0m \u001b[0;34m=\u001b[0m \u001b[0mtrain\u001b[0m\u001b[0;34m.\u001b[0m\u001b[0mshape\u001b[0m\u001b[0;34m[\u001b[0m\u001b[0;36m0\u001b[0m\u001b[0;34m]\u001b[0m\u001b[0;34m\u001b[0m\u001b[0;34m\u001b[0m\u001b[0m\n\u001b[1;32m      9\u001b[0m \u001b[0mntest\u001b[0m \u001b[0;34m=\u001b[0m \u001b[0mtest\u001b[0m\u001b[0;34m.\u001b[0m\u001b[0mshape\u001b[0m\u001b[0;34m[\u001b[0m\u001b[0;36m0\u001b[0m\u001b[0;34m]\u001b[0m\u001b[0;34m\u001b[0m\u001b[0;34m\u001b[0m\u001b[0m\n\u001b[0;32m---> 10\u001b[0;31m \u001b[0mnvalid1\u001b[0m \u001b[0;34m=\u001b[0m \u001b[0mvalid1\u001b[0m\u001b[0;34m.\u001b[0m\u001b[0mshape\u001b[0m\u001b[0;34m[\u001b[0m\u001b[0;36m0\u001b[0m\u001b[0;34m]\u001b[0m\u001b[0;34m\u001b[0m\u001b[0;34m\u001b[0m\u001b[0m\n\u001b[0m\u001b[1;32m     11\u001b[0m \u001b[0mnvalid2\u001b[0m \u001b[0;34m=\u001b[0m \u001b[0mvalid2\u001b[0m\u001b[0;34m.\u001b[0m\u001b[0mshape\u001b[0m\u001b[0;34m[\u001b[0m\u001b[0;36m0\u001b[0m\u001b[0;34m]\u001b[0m\u001b[0;34m\u001b[0m\u001b[0;34m\u001b[0m\u001b[0m\n\u001b[1;32m     12\u001b[0m \u001b[0mtarget\u001b[0m \u001b[0;34m=\u001b[0m \u001b[0mtrain\u001b[0m\u001b[0;34m.\u001b[0m\u001b[0mFORCE_2020_LITHOFACIES_LITHOLOGY\u001b[0m\u001b[0;34m.\u001b[0m\u001b[0mcopy\u001b[0m\u001b[0;34m(\u001b[0m\u001b[0;34m)\u001b[0m\u001b[0;34m\u001b[0m\u001b[0;34m\u001b[0m\u001b[0m\n",
            "\u001b[0;31mNameError\u001b[0m: name 'valid1' is not defined"
          ]
        }
      ]
    },
    {
      "cell_type": "code",
      "metadata": {
        "id": "Q5rtb81ZvICI",
        "colab": {
          "base_uri": "https://localhost:8080/",
          "height": 34
        },
        "outputId": "85d108ec-5dab-4fbf-b356-65247329ff48"
      },
      "source": [
        "test.shape, df.shape, train.shape, valid1.shape, valid2.shape"
      ],
      "execution_count": null,
      "outputs": [
        {
          "output_type": "execute_result",
          "data": {
            "text/plain": [
              "((136786, 27), (1307297, 29), (977670, 29), (101331, 29), (91510, 29))"
            ]
          },
          "metadata": {
            "tags": []
          },
          "execution_count": 5
        }
      ]
    },
    {
      "cell_type": "code",
      "metadata": {
        "id": "3jjjdO83vyy5"
      },
      "source": [
        ""
      ],
      "execution_count": null,
      "outputs": []
    },
    {
      "cell_type": "code",
      "metadata": {
        "id": "JeTo6GscyQM-"
      },
      "source": [
        "train_HORD = train.loc[train.GROUP == 'HORDALAND GP.'] \n",
        "train_SHET = train.loc[train.GROUP == 'SHETLAND GP.'] \n",
        "train_VIKING = train.loc[train.GROUP == 'VIKING GP.'] \n",
        "train_ROGALAND = train.loc[train.GROUP == 'ROGALAND GP.'] \n",
        "train_DUNLIN = train.loc[train.GROUP == 'DUNLIN GP.'] \n",
        "train_NORDLAND = train.loc[train.GROUP == 'NORDLAND GP.'] \n",
        "train_CROMER = train.loc[train.GROUP == 'CROMER KNOLL GP.'] \n",
        "train_BAAT = train.loc[train.GROUP == 'BAAT GP.'] \n",
        "train_VESTLAND = train.loc[train.GROUP == 'VESTLAND GP.'] \n",
        "train_HEGRE = train.loc[train.GROUP == 'HEGRE GP.'] "
      ],
      "execution_count": null,
      "outputs": []
    },
    {
      "cell_type": "code",
      "metadata": {
        "id": "-E4ac_6gzN9K",
        "colab": {
          "base_uri": "https://localhost:8080/",
          "height": 421
        },
        "outputId": "e2d91e74-aea2-480a-e2e3-e62e98eb519c"
      },
      "source": [
        "lithology = train['FORCE_2020_LITHOFACIES_LITHOLOGY']\n",
        "valid1_lithology = valid1['FORCE_2020_LITHOFACIES_LITHOLOGY']\n",
        "valid2_lithology = valid2['FORCE_2020_LITHOFACIES_LITHOLOGY']\n",
        " \n",
        "lithology_numbers = {30000: 0,\n",
        "                 65030: 1,\n",
        "                 65000: 2,\n",
        "                 80000: 3,\n",
        "                 74000: 4,\n",
        "                 70000: 5,\n",
        "                 70032: 6,\n",
        "                 88000: 7,\n",
        "                 86000: 8,\n",
        "                 99000: 9,\n",
        "                 90000: 10,\n",
        "                 93000: 11}\n",
        " \n",
        "lithology = lithology.map(lithology_numbers)\n",
        "valid1_lithology = valid1_lithology.map(lithology_numbers)\n",
        "valid2_lithology = valid2_lithology.map(lithology_numbers)"
      ],
      "execution_count": null,
      "outputs": [
        {
          "output_type": "error",
          "ename": "NameError",
          "evalue": "ignored",
          "traceback": [
            "\u001b[0;31m---------------------------------------------------------------------------\u001b[0m",
            "\u001b[0;31mNameError\u001b[0m                                 Traceback (most recent call last)",
            "\u001b[0;32m<ipython-input-5-aaad2574da98>\u001b[0m in \u001b[0;36m<module>\u001b[0;34m()\u001b[0m\n\u001b[1;32m      1\u001b[0m \u001b[0mlithology\u001b[0m \u001b[0;34m=\u001b[0m \u001b[0mtrain\u001b[0m\u001b[0;34m[\u001b[0m\u001b[0;34m'FORCE_2020_LITHOFACIES_LITHOLOGY'\u001b[0m\u001b[0;34m]\u001b[0m\u001b[0;34m\u001b[0m\u001b[0;34m\u001b[0m\u001b[0m\n\u001b[0;32m----> 2\u001b[0;31m \u001b[0mvalid1_lithology\u001b[0m \u001b[0;34m=\u001b[0m \u001b[0mvalid1\u001b[0m\u001b[0;34m[\u001b[0m\u001b[0;34m'FORCE_2020_LITHOFACIES_LITHOLOGY'\u001b[0m\u001b[0;34m]\u001b[0m\u001b[0;34m\u001b[0m\u001b[0;34m\u001b[0m\u001b[0m\n\u001b[0m\u001b[1;32m      3\u001b[0m \u001b[0mvalid2_lithology\u001b[0m \u001b[0;34m=\u001b[0m \u001b[0mvalid2\u001b[0m\u001b[0;34m[\u001b[0m\u001b[0;34m'FORCE_2020_LITHOFACIES_LITHOLOGY'\u001b[0m\u001b[0;34m]\u001b[0m\u001b[0;34m\u001b[0m\u001b[0;34m\u001b[0m\u001b[0m\n\u001b[1;32m      4\u001b[0m \u001b[0;34m\u001b[0m\u001b[0m\n\u001b[1;32m      5\u001b[0m lithology_numbers = {30000: 0,\n",
            "\u001b[0;31mNameError\u001b[0m: name 'valid1' is not defined"
          ]
        }
      ]
    },
    {
      "cell_type": "code",
      "metadata": {
        "id": "1HoNYopbAEtd",
        "colab": {
          "base_uri": "https://localhost:8080/",
          "height": 176
        },
        "outputId": "3254a78d-31d0-4f72-bb9b-f9425c5232ce"
      },
      "source": [
        "valid1.FORCE_2020_LITHOFACIES_LITHOLOGY.value_counts()"
      ],
      "execution_count": null,
      "outputs": [
        {
          "output_type": "execute_result",
          "data": {
            "text/plain": [
              "65000    58959\n",
              "30000    17968\n",
              "65030    12800\n",
              "70000     7348\n",
              "80000     2693\n",
              "90000      795\n",
              "99000      619\n",
              "74000      149\n",
              "Name: FORCE_2020_LITHOFACIES_LITHOLOGY, dtype: int64"
            ]
          },
          "metadata": {
            "tags": []
          },
          "execution_count": 8
        }
      ]
    },
    {
      "cell_type": "code",
      "metadata": {
        "id": "AekHlT_v6weI",
        "colab": {
          "base_uri": "https://localhost:8080/",
          "height": 34
        },
        "outputId": "350e53b2-c727-424b-9d2b-0b77b60d03f4"
      },
      "source": [
        "valid1.shape, valid2.shape, train.shape, test.shape"
      ],
      "execution_count": null,
      "outputs": [
        {
          "output_type": "execute_result",
          "data": {
            "text/plain": [
              "((101331, 29), (91510, 29), (977670, 29), (136786, 27))"
            ]
          },
          "metadata": {
            "tags": []
          },
          "execution_count": 37
        }
      ]
    },
    {
      "cell_type": "code",
      "metadata": {
        "id": "Tsq1BjP_-X3L",
        "colab": {
          "base_uri": "https://localhost:8080/",
          "height": 550
        },
        "outputId": "ee270e2d-c826-427c-e31e-228ff508a8f9"
      },
      "source": [
        "(df.isna().sum()/df.shape[0]) * 100"
      ],
      "execution_count": null,
      "outputs": [
        {
          "output_type": "execute_result",
          "data": {
            "text/plain": [
              "WELL                                  0.000000\n",
              "DEPTH_MD                              0.000000\n",
              "X_LOC                                 0.828733\n",
              "Y_LOC                                 0.828733\n",
              "Z_LOC                                 0.828733\n",
              "GROUP                                 0.097759\n",
              "FORMATION                            11.020296\n",
              "CALI                                  7.153845\n",
              "RSHA                                 48.768566\n",
              "RMED                                  3.027621\n",
              "RDEP                                  0.847091\n",
              "RHOB                                 13.633398\n",
              "GR                                    0.000000\n",
              "SGR                                  94.694932\n",
              "NPHI                                 33.492389\n",
              "PEF                                  39.937520\n",
              "DTC                                   6.248465\n",
              "SP                                   28.793992\n",
              "BS                                   42.658707\n",
              "ROP                                  53.844689\n",
              "DTS                                  83.337145\n",
              "DCAL                                 76.107342\n",
              "DRHO                                 15.901819\n",
              "MUDWEIGHT                            74.265985\n",
              "RMIC                                 85.659265\n",
              "ROPA                                 81.020763\n",
              "RXO                                  72.670709\n",
              "FORCE_2020_LITHOFACIES_LITHOLOGY     10.463269\n",
              "FORCE_2020_LITHOFACIES_CONFIDENCE    10.476961\n",
              "dtype: float64"
            ]
          },
          "metadata": {
            "tags": []
          },
          "execution_count": 38
        }
      ]
    },
    {
      "cell_type": "code",
      "metadata": {
        "id": "HiQUuL2S0Fpr",
        "colab": {
          "base_uri": "https://localhost:8080/",
          "height": 52
        },
        "outputId": "bbe89c7a-afbc-432f-d9c6-38db41c3c9ce"
      },
      "source": [
        "print(df.shape)\n",
        "cols = ['FORCE_2020_LITHOFACIES_CONFIDENCE', 'SGR', \n",
        "        'DTS', 'DCAL', 'MUDWEIGHT', 'RMIC', 'ROPA', 'RXO']\n",
        "df = drop_columns(df, *cols)\n",
        "print(df.shape)"
      ],
      "execution_count": null,
      "outputs": [
        {
          "output_type": "stream",
          "text": [
            "(1307297, 29)\n",
            "(1307297, 21)\n"
          ],
          "name": "stdout"
        }
      ]
    },
    {
      "cell_type": "code",
      "metadata": {
        "id": "8CumK8qg7bTY",
        "colab": {
          "base_uri": "https://localhost:8080/",
          "height": 34
        },
        "outputId": "8b1e03cd-64b8-46ec-ee62-777608cae421"
      },
      "source": [
        "valid1 = drop_columns(valid1, *cols)\n",
        "valid2 = drop_columns(valid2, *cols)\n",
        "print(valid1.shape, valid2.shape)"
      ],
      "execution_count": null,
      "outputs": [
        {
          "output_type": "stream",
          "text": [
            "(97018, 21) (90268, 21)\n"
          ],
          "name": "stdout"
        }
      ]
    },
    {
      "cell_type": "code",
      "metadata": {
        "id": "N4aXLiWs1WWd",
        "colab": {
          "base_uri": "https://localhost:8080/",
          "height": 52
        },
        "outputId": "524eccbf-0bf2-4f35-89b0-0ed93f3c0da2"
      },
      "source": [
        "df = freq_encode(df, ['FORMATION', 'WELL', 'GROUP'])\n",
        "print(df.shape)\n",
        "df = mean_target(df, ['FORMATION', 'WELL', 'GROUP'])\n",
        "df.shape"
      ],
      "execution_count": null,
      "outputs": [
        {
          "output_type": "stream",
          "text": [
            "(1307297, 24)\n"
          ],
          "name": "stdout"
        },
        {
          "output_type": "execute_result",
          "data": {
            "text/plain": [
              "(1307297, 27)"
            ]
          },
          "metadata": {
            "tags": []
          },
          "execution_count": 10
        }
      ]
    },
    {
      "cell_type": "code",
      "metadata": {
        "id": "hauzY8uC7nXf",
        "colab": {
          "base_uri": "https://localhost:8080/",
          "height": 34
        },
        "outputId": "7141fca7-bca8-440f-a323-b3177ec6525d"
      },
      "source": [
        "valid1 = freq_encode(valid1, ['FORMATION', 'WELL', 'GROUP'])\n",
        "valid1 = mean_target(valid1, ['FORMATION', 'WELL', 'GROUP'])\n",
        "valid2 = freq_encode(valid2, ['FORMATION', 'WELL', 'GROUP'])\n",
        "valid2 = mean_target(valid2, ['FORMATION', 'WELL', 'GROUP'])\n",
        "valid1.shape, valid2.shape"
      ],
      "execution_count": null,
      "outputs": [
        {
          "output_type": "execute_result",
          "data": {
            "text/plain": [
              "((97018, 27), (90268, 27))"
            ]
          },
          "metadata": {
            "tags": []
          },
          "execution_count": 11
        }
      ]
    },
    {
      "cell_type": "code",
      "metadata": {
        "id": "Nzl1cee478RS"
      },
      "source": [
        "valid1 = valid1.drop(['WELL', 'FORMATION'], axis=1)\n",
        "valid1.shape\n",
        "\n",
        "valid1 = valid1.fillna(-999)\n",
        "valid1 = process(valid1)\n",
        "\n",
        "valid2 = valid2.drop(['WELL', 'FORMATION'], axis=1)\n",
        "valid2.shape\n",
        "\n",
        "valid2 = valid2.fillna(-999)\n",
        "valid2 = process(valid2)"
      ],
      "execution_count": null,
      "outputs": []
    },
    {
      "cell_type": "code",
      "metadata": {
        "id": "sX9nGriG2b75",
        "colab": {
          "base_uri": "https://localhost:8080/",
          "height": 34
        },
        "outputId": "4b5b10db-37ed-4960-ef6a-12314876b6b6"
      },
      "source": [
        "col = ['GROUP']\n",
        "\n",
        "df = one_hot_encoding(df, *col)\n",
        "df.shape"
      ],
      "execution_count": null,
      "outputs": [
        {
          "output_type": "execute_result",
          "data": {
            "text/plain": [
              "(1307297, 40)"
            ]
          },
          "metadata": {
            "tags": []
          },
          "execution_count": 11
        }
      ]
    },
    {
      "cell_type": "code",
      "metadata": {
        "id": "B-BT-aus8PNf"
      },
      "source": [
        "valid1_target = valid1.FORCE_2020_LITHOFACIES_LITHOLOGY\n",
        "valid2_target = valid2.FORCE_2020_LITHOFACIES_LITHOLOGY\n",
        "\n",
        "valid1.drop('FORCE_2020_LITHOFACIES_LITHOLOGY', axis=1, inplace=True)\n",
        "valid2.drop('FORCE_2020_LITHOFACIES_LITHOLOGY', axis=1, inplace=True)"
      ],
      "execution_count": null,
      "outputs": []
    },
    {
      "cell_type": "code",
      "metadata": {
        "id": "7Dzolr2m-rS3"
      },
      "source": [
        "valid1_target = valid1_target.map(lithology_numbers)\n",
        "valid2_target = valid2_target.map(lithology_numbers)"
      ],
      "execution_count": null,
      "outputs": []
    },
    {
      "cell_type": "code",
      "metadata": {
        "id": "Fb9z3sVX-g-E"
      },
      "source": [
        ""
      ],
      "execution_count": null,
      "outputs": []
    },
    {
      "cell_type": "code",
      "metadata": {
        "id": "EiFdpNrZ96mL"
      },
      "source": [
        "#valid1.drop('GROUP', axis=1, inplace=True)\n",
        "#valid2.drop('GROUP', axis=1, inplace=True)"
      ],
      "execution_count": null,
      "outputs": []
    },
    {
      "cell_type": "code",
      "metadata": {
        "id": "1ne14LrX1kH4",
        "colab": {
          "base_uri": "https://localhost:8080/",
          "height": 34
        },
        "outputId": "f3e20e03-a032-49f7-8ca5-928f3661c101"
      },
      "source": [
        "#df = df.drop(['WELL', 'FORMATION'], axis=1)\n",
        "#df.shape\n",
        "\n",
        "#df = df.fillna(-999)\n",
        "#df = process(df)\n",
        "data = df.copy()\n",
        "\n",
        "train2 = data[:ntrain].copy()\n",
        "target = train2.FORCE_2020_LITHOFACIES_LITHOLOGY.copy()\n",
        "validation1_target = valid1.FORCE_2020_LITHOFACIES_LITHOLOGY.copy()\n",
        "validation2_target = valid2.FORCE_2020_LITHOFACIES_LITHOLOGY.copy()\n",
        "train2.drop(['FORCE_2020_LITHOFACIES_LITHOLOGY'], axis=1, inplace=True)\n",
        "\n",
        "test2 = data[ntrain:(ntest+ntrain)].copy()\n",
        "test2.drop(['FORCE_2020_LITHOFACIES_LITHOLOGY'], axis=1, inplace=True)\n",
        "test2 = test2.reset_index(drop=True)\n",
        "\n",
        "validation1 = data[(ntest+ntrain):(ntest+ntrain+nvalid1)].copy()\n",
        "validation1.drop(['FORCE_2020_LITHOFACIES_LITHOLOGY'], axis=1, inplace=True)\n",
        "validation1 = validation1.reset_index(drop=True)\n",
        "\n",
        "validation2 = data[(ntrain+ntest+nvalid1):].copy()\n",
        "validation2.drop(['FORCE_2020_LITHOFACIES_LITHOLOGY'], axis=1, inplace=True)\n",
        "validation2 = validation2.reset_index(drop=True)\n",
        "\n",
        "print(train2.shape, test2.shape, validation1.shape, valid1.shape, validation2.shape, valid2.shape)"
      ],
      "execution_count": null,
      "outputs": [
        {
          "output_type": "stream",
          "text": [
            "(977670, 37) (136786, 37) (101331, 37) (101331, 29) (91510, 37) (91510, 29)\n"
          ],
          "name": "stdout"
        }
      ]
    },
    {
      "cell_type": "code",
      "metadata": {
        "id": "rF_PPEjD1piV"
      },
      "source": [
        "traindata = train2\n",
        "testdata = test2"
      ],
      "execution_count": null,
      "outputs": []
    },
    {
      "cell_type": "code",
      "metadata": {
        "id": "HuvtKgEf1reT",
        "colab": {
          "base_uri": "https://localhost:8080/",
          "height": 34
        },
        "outputId": "49d4ad7b-df71-4230-f570-57f20caa5ad2"
      },
      "source": [
        "print(train2.shape, test2.shape, validation1.shape, valid1.shape, validation2.shape, valid2.shape)"
      ],
      "execution_count": null,
      "outputs": [
        {
          "output_type": "stream",
          "text": [
            "(977670, 38) (136786, 37) (101331, 37) (101331, 29) (91510, 37) (91510, 29)\n"
          ],
          "name": "stdout"
        }
      ]
    },
    {
      "cell_type": "code",
      "metadata": {
        "id": "sUosr0Tj1tmb"
      },
      "source": [
        "train_HORD = traindata.loc[train.GROUP == 'HORDALAND GP.'] \n",
        "train_SHET = traindata.loc[train.GROUP == 'SHETLAND GP.'] \n",
        "train_VIKING = traindata.loc[train.GROUP == 'VIKING GP.'] \n",
        "train_ROGALAND = traindata.loc[train.GROUP == 'ROGALAND GP.'] \n",
        "train_DUNLIN = traindata.loc[train.GROUP == 'DUNLIN GP.'] \n",
        "train_NORDLAND = traindata.loc[train.GROUP == 'NORDLAND GP.'] \n",
        "train_CROMER = traindata.loc[train.GROUP == 'CROMER KNOLL GP.'] \n",
        "train_BAAT = traindata.loc[train.GROUP == 'BAAT GP.'] \n",
        "train_VESTLAND = traindata.loc[train.GROUP == 'VESTLAND GP.'] \n",
        "train_HEGRE = traindata.loc[train.GROUP == 'HEGRE GP.'] "
      ],
      "execution_count": null,
      "outputs": []
    },
    {
      "cell_type": "code",
      "metadata": {
        "id": "tlC7Hd_s2CHr"
      },
      "source": [
        "traindata = traindata.drop('GROUP', axis=1)"
      ],
      "execution_count": null,
      "outputs": []
    },
    {
      "cell_type": "code",
      "metadata": {
        "id": "E4aZXwaj2IHq",
        "colab": {
          "base_uri": "https://localhost:8080/",
          "height": 34
        },
        "outputId": "4bf3671c-da2a-419e-aecb-5211e084b5f6"
      },
      "source": [
        "testdata = testdata.drop('GROUP', axis=1)\n",
        "traindata.shape, testdata.shape"
      ],
      "execution_count": null,
      "outputs": [
        {
          "output_type": "execute_result",
          "data": {
            "text/plain": [
              "((977670, 24), (136786, 23))"
            ]
          },
          "metadata": {
            "tags": []
          },
          "execution_count": 17
        }
      ]
    },
    {
      "cell_type": "code",
      "metadata": {
        "id": "AldwwmgZyusO",
        "colab": {
          "base_uri": "https://localhost:8080/",
          "height": 34
        },
        "outputId": "5c1a9bcc-2f41-4030-8c1f-3656c75af2d6"
      },
      "source": [
        "traindata.shape, testdata.shape, valid1.shape, valid2.shape"
      ],
      "execution_count": null,
      "outputs": [
        {
          "output_type": "execute_result",
          "data": {
            "text/plain": [
              "((977670, 38), (136786, 37), (97018, 34), (90268, 34))"
            ]
          },
          "metadata": {
            "tags": []
          },
          "execution_count": 22
        }
      ]
    },
    {
      "cell_type": "code",
      "metadata": {
        "id": "licNp3AJ2JPe"
      },
      "source": [
        "scaler = preprocessing.StandardScaler().fit(traindata)\n",
        "def scale_data(data):\n",
        "  \n",
        "  data = scaler.transform(data)\n",
        "  #testdata = scaler.transform(testdata)\n",
        "  data = pd.DataFrame(data, columns=testdata.columns)\n",
        "\n",
        "  return data"
      ],
      "execution_count": null,
      "outputs": []
    },
    {
      "cell_type": "code",
      "metadata": {
        "id": "Aqan3dD422k-",
        "colab": {
          "base_uri": "https://localhost:8080/",
          "height": 443
        },
        "outputId": "7d1eb739-57e8-4124-9661-a078f8927f36"
      },
      "source": [
        "traindata"
      ],
      "execution_count": null,
      "outputs": [
        {
          "output_type": "execute_result",
          "data": {
            "text/html": [
              "<div>\n",
              "<style scoped>\n",
              "    .dataframe tbody tr th:only-of-type {\n",
              "        vertical-align: middle;\n",
              "    }\n",
              "\n",
              "    .dataframe tbody tr th {\n",
              "        vertical-align: top;\n",
              "    }\n",
              "\n",
              "    .dataframe thead th {\n",
              "        text-align: right;\n",
              "    }\n",
              "</style>\n",
              "<table border=\"1\" class=\"dataframe\">\n",
              "  <thead>\n",
              "    <tr style=\"text-align: right;\">\n",
              "      <th></th>\n",
              "      <th>DEPTH_MD</th>\n",
              "      <th>X_LOC</th>\n",
              "      <th>Y_LOC</th>\n",
              "      <th>Z_LOC</th>\n",
              "      <th>CALI</th>\n",
              "      <th>RSHA</th>\n",
              "      <th>RMED</th>\n",
              "      <th>RDEP</th>\n",
              "      <th>RHOB</th>\n",
              "      <th>GR</th>\n",
              "      <th>NPHI</th>\n",
              "      <th>PEF</th>\n",
              "      <th>DTC</th>\n",
              "      <th>SP</th>\n",
              "      <th>BS</th>\n",
              "      <th>ROP</th>\n",
              "      <th>DRHO</th>\n",
              "      <th>FORCE_2020_LITHOFACIES_LITHOLOGY</th>\n",
              "      <th>FORMATION_enc</th>\n",
              "      <th>WELL_enc</th>\n",
              "      <th>GROUP_enc</th>\n",
              "      <th>FORMATION_mean_target</th>\n",
              "      <th>WELL_mean_target</th>\n",
              "      <th>GROUP_mean_target</th>\n",
              "      <th>GROUP_BAAT GP.</th>\n",
              "      <th>GROUP_BOKNFJORD GP.</th>\n",
              "      <th>GROUP_CROMER KNOLL GP.</th>\n",
              "      <th>GROUP_DUNLIN GP.</th>\n",
              "      <th>GROUP_HEGRE GP.</th>\n",
              "      <th>GROUP_HORDALAND GP.</th>\n",
              "      <th>GROUP_NORDLAND GP.</th>\n",
              "      <th>GROUP_ROGALAND GP.</th>\n",
              "      <th>GROUP_ROTLIEGENDES GP.</th>\n",
              "      <th>GROUP_SHETLAND GP.</th>\n",
              "      <th>GROUP_TYNE GP.</th>\n",
              "      <th>GROUP_VESTLAND GP.</th>\n",
              "      <th>GROUP_VIKING GP.</th>\n",
              "      <th>GROUP_ZECHSTEIN GP.</th>\n",
              "    </tr>\n",
              "  </thead>\n",
              "  <tbody>\n",
              "    <tr>\n",
              "      <th>0</th>\n",
              "      <td>494.5280</td>\n",
              "      <td>437641.96875</td>\n",
              "      <td>6470972.5</td>\n",
              "      <td>-469.501831</td>\n",
              "      <td>19.480835</td>\n",
              "      <td>-999.0</td>\n",
              "      <td>1.611410</td>\n",
              "      <td>1.798681</td>\n",
              "      <td>1.884186</td>\n",
              "      <td>80.200851</td>\n",
              "      <td>-999.0</td>\n",
              "      <td>20.915468</td>\n",
              "      <td>161.131180</td>\n",
              "      <td>24.612379</td>\n",
              "      <td>-999.0</td>\n",
              "      <td>34.636410</td>\n",
              "      <td>-0.574928</td>\n",
              "      <td>65000.0</td>\n",
              "      <td>-999.00000</td>\n",
              "      <td>0.016394</td>\n",
              "      <td>0.097838</td>\n",
              "      <td>-999.000000</td>\n",
              "      <td>-999.0</td>\n",
              "      <td>55542.522470</td>\n",
              "      <td>0</td>\n",
              "      <td>0</td>\n",
              "      <td>0</td>\n",
              "      <td>0</td>\n",
              "      <td>0</td>\n",
              "      <td>0</td>\n",
              "      <td>1</td>\n",
              "      <td>0</td>\n",
              "      <td>0</td>\n",
              "      <td>0</td>\n",
              "      <td>0</td>\n",
              "      <td>0</td>\n",
              "      <td>0</td>\n",
              "      <td>0</td>\n",
              "    </tr>\n",
              "    <tr>\n",
              "      <th>1</th>\n",
              "      <td>494.6800</td>\n",
              "      <td>437641.96875</td>\n",
              "      <td>6470972.5</td>\n",
              "      <td>-469.653809</td>\n",
              "      <td>19.468800</td>\n",
              "      <td>-999.0</td>\n",
              "      <td>1.618070</td>\n",
              "      <td>1.795641</td>\n",
              "      <td>1.889794</td>\n",
              "      <td>79.262886</td>\n",
              "      <td>-999.0</td>\n",
              "      <td>19.383013</td>\n",
              "      <td>160.603470</td>\n",
              "      <td>23.895531</td>\n",
              "      <td>-999.0</td>\n",
              "      <td>34.636410</td>\n",
              "      <td>-0.570188</td>\n",
              "      <td>65000.0</td>\n",
              "      <td>-999.00000</td>\n",
              "      <td>0.016394</td>\n",
              "      <td>0.097838</td>\n",
              "      <td>-999.000000</td>\n",
              "      <td>-999.0</td>\n",
              "      <td>55542.522470</td>\n",
              "      <td>0</td>\n",
              "      <td>0</td>\n",
              "      <td>0</td>\n",
              "      <td>0</td>\n",
              "      <td>0</td>\n",
              "      <td>0</td>\n",
              "      <td>1</td>\n",
              "      <td>0</td>\n",
              "      <td>0</td>\n",
              "      <td>0</td>\n",
              "      <td>0</td>\n",
              "      <td>0</td>\n",
              "      <td>0</td>\n",
              "      <td>0</td>\n",
              "    </tr>\n",
              "    <tr>\n",
              "      <th>2</th>\n",
              "      <td>494.8320</td>\n",
              "      <td>437641.96875</td>\n",
              "      <td>6470972.5</td>\n",
              "      <td>-469.805786</td>\n",
              "      <td>19.468800</td>\n",
              "      <td>-999.0</td>\n",
              "      <td>1.626459</td>\n",
              "      <td>1.800733</td>\n",
              "      <td>1.896523</td>\n",
              "      <td>74.821999</td>\n",
              "      <td>-999.0</td>\n",
              "      <td>22.591518</td>\n",
              "      <td>160.173615</td>\n",
              "      <td>23.916357</td>\n",
              "      <td>-999.0</td>\n",
              "      <td>34.779556</td>\n",
              "      <td>-0.574245</td>\n",
              "      <td>65000.0</td>\n",
              "      <td>-999.00000</td>\n",
              "      <td>0.016394</td>\n",
              "      <td>0.097838</td>\n",
              "      <td>-999.000000</td>\n",
              "      <td>-999.0</td>\n",
              "      <td>55542.522470</td>\n",
              "      <td>0</td>\n",
              "      <td>0</td>\n",
              "      <td>0</td>\n",
              "      <td>0</td>\n",
              "      <td>0</td>\n",
              "      <td>0</td>\n",
              "      <td>1</td>\n",
              "      <td>0</td>\n",
              "      <td>0</td>\n",
              "      <td>0</td>\n",
              "      <td>0</td>\n",
              "      <td>0</td>\n",
              "      <td>0</td>\n",
              "      <td>0</td>\n",
              "    </tr>\n",
              "    <tr>\n",
              "      <th>3</th>\n",
              "      <td>494.9840</td>\n",
              "      <td>437641.96875</td>\n",
              "      <td>6470972.5</td>\n",
              "      <td>-469.957794</td>\n",
              "      <td>19.459282</td>\n",
              "      <td>-999.0</td>\n",
              "      <td>1.621594</td>\n",
              "      <td>1.801517</td>\n",
              "      <td>1.891913</td>\n",
              "      <td>72.878922</td>\n",
              "      <td>-999.0</td>\n",
              "      <td>32.191910</td>\n",
              "      <td>160.149429</td>\n",
              "      <td>23.793688</td>\n",
              "      <td>-999.0</td>\n",
              "      <td>39.965164</td>\n",
              "      <td>-0.586315</td>\n",
              "      <td>65000.0</td>\n",
              "      <td>-999.00000</td>\n",
              "      <td>0.016394</td>\n",
              "      <td>0.097838</td>\n",
              "      <td>-999.000000</td>\n",
              "      <td>-999.0</td>\n",
              "      <td>55542.522470</td>\n",
              "      <td>0</td>\n",
              "      <td>0</td>\n",
              "      <td>0</td>\n",
              "      <td>0</td>\n",
              "      <td>0</td>\n",
              "      <td>0</td>\n",
              "      <td>1</td>\n",
              "      <td>0</td>\n",
              "      <td>0</td>\n",
              "      <td>0</td>\n",
              "      <td>0</td>\n",
              "      <td>0</td>\n",
              "      <td>0</td>\n",
              "      <td>0</td>\n",
              "    </tr>\n",
              "    <tr>\n",
              "      <th>4</th>\n",
              "      <td>495.1360</td>\n",
              "      <td>437641.96875</td>\n",
              "      <td>6470972.5</td>\n",
              "      <td>-470.109772</td>\n",
              "      <td>19.453100</td>\n",
              "      <td>-999.0</td>\n",
              "      <td>1.602679</td>\n",
              "      <td>1.795299</td>\n",
              "      <td>1.880034</td>\n",
              "      <td>71.729141</td>\n",
              "      <td>-999.0</td>\n",
              "      <td>38.495632</td>\n",
              "      <td>160.128342</td>\n",
              "      <td>24.104078</td>\n",
              "      <td>-999.0</td>\n",
              "      <td>57.483765</td>\n",
              "      <td>-0.597914</td>\n",
              "      <td>65000.0</td>\n",
              "      <td>-999.00000</td>\n",
              "      <td>0.016394</td>\n",
              "      <td>0.097838</td>\n",
              "      <td>-999.000000</td>\n",
              "      <td>-999.0</td>\n",
              "      <td>55542.522470</td>\n",
              "      <td>0</td>\n",
              "      <td>0</td>\n",
              "      <td>0</td>\n",
              "      <td>0</td>\n",
              "      <td>0</td>\n",
              "      <td>0</td>\n",
              "      <td>1</td>\n",
              "      <td>0</td>\n",
              "      <td>0</td>\n",
              "      <td>0</td>\n",
              "      <td>0</td>\n",
              "      <td>0</td>\n",
              "      <td>0</td>\n",
              "      <td>0</td>\n",
              "    </tr>\n",
              "    <tr>\n",
              "      <th>...</th>\n",
              "      <td>...</td>\n",
              "      <td>...</td>\n",
              "      <td>...</td>\n",
              "      <td>...</td>\n",
              "      <td>...</td>\n",
              "      <td>...</td>\n",
              "      <td>...</td>\n",
              "      <td>...</td>\n",
              "      <td>...</td>\n",
              "      <td>...</td>\n",
              "      <td>...</td>\n",
              "      <td>...</td>\n",
              "      <td>...</td>\n",
              "      <td>...</td>\n",
              "      <td>...</td>\n",
              "      <td>...</td>\n",
              "      <td>...</td>\n",
              "      <td>...</td>\n",
              "      <td>...</td>\n",
              "      <td>...</td>\n",
              "      <td>...</td>\n",
              "      <td>...</td>\n",
              "      <td>...</td>\n",
              "      <td>...</td>\n",
              "      <td>...</td>\n",
              "      <td>...</td>\n",
              "      <td>...</td>\n",
              "      <td>...</td>\n",
              "      <td>...</td>\n",
              "      <td>...</td>\n",
              "      <td>...</td>\n",
              "      <td>...</td>\n",
              "      <td>...</td>\n",
              "      <td>...</td>\n",
              "      <td>...</td>\n",
              "      <td>...</td>\n",
              "      <td>...</td>\n",
              "      <td>...</td>\n",
              "    </tr>\n",
              "    <tr>\n",
              "      <th>977665</th>\n",
              "      <td>3169.3124</td>\n",
              "      <td>-999.00000</td>\n",
              "      <td>-999.0</td>\n",
              "      <td>-999.000000</td>\n",
              "      <td>8.423170</td>\n",
              "      <td>-999.0</td>\n",
              "      <td>-999.000000</td>\n",
              "      <td>-999.000000</td>\n",
              "      <td>2.527984</td>\n",
              "      <td>77.654900</td>\n",
              "      <td>-999.0</td>\n",
              "      <td>4.586425</td>\n",
              "      <td>-999.000000</td>\n",
              "      <td>-999.000000</td>\n",
              "      <td>8.5</td>\n",
              "      <td>27.674368</td>\n",
              "      <td>-0.001763</td>\n",
              "      <td>30000.0</td>\n",
              "      <td>0.00035</td>\n",
              "      <td>0.001830</td>\n",
              "      <td>0.021211</td>\n",
              "      <td>43727.973073</td>\n",
              "      <td>-999.0</td>\n",
              "      <td>51473.956561</td>\n",
              "      <td>0</td>\n",
              "      <td>0</td>\n",
              "      <td>0</td>\n",
              "      <td>0</td>\n",
              "      <td>0</td>\n",
              "      <td>0</td>\n",
              "      <td>0</td>\n",
              "      <td>0</td>\n",
              "      <td>0</td>\n",
              "      <td>0</td>\n",
              "      <td>0</td>\n",
              "      <td>1</td>\n",
              "      <td>0</td>\n",
              "      <td>0</td>\n",
              "    </tr>\n",
              "    <tr>\n",
              "      <th>977666</th>\n",
              "      <td>3169.4644</td>\n",
              "      <td>-999.00000</td>\n",
              "      <td>-999.0</td>\n",
              "      <td>-999.000000</td>\n",
              "      <td>8.379244</td>\n",
              "      <td>-999.0</td>\n",
              "      <td>-999.000000</td>\n",
              "      <td>-999.000000</td>\n",
              "      <td>2.537613</td>\n",
              "      <td>75.363937</td>\n",
              "      <td>-999.0</td>\n",
              "      <td>7.019858</td>\n",
              "      <td>-999.000000</td>\n",
              "      <td>-999.000000</td>\n",
              "      <td>8.5</td>\n",
              "      <td>28.024338</td>\n",
              "      <td>-0.007600</td>\n",
              "      <td>65030.0</td>\n",
              "      <td>0.00035</td>\n",
              "      <td>0.001830</td>\n",
              "      <td>0.021211</td>\n",
              "      <td>43727.973073</td>\n",
              "      <td>-999.0</td>\n",
              "      <td>51473.956561</td>\n",
              "      <td>0</td>\n",
              "      <td>0</td>\n",
              "      <td>0</td>\n",
              "      <td>0</td>\n",
              "      <td>0</td>\n",
              "      <td>0</td>\n",
              "      <td>0</td>\n",
              "      <td>0</td>\n",
              "      <td>0</td>\n",
              "      <td>0</td>\n",
              "      <td>0</td>\n",
              "      <td>1</td>\n",
              "      <td>0</td>\n",
              "      <td>0</td>\n",
              "    </tr>\n",
              "    <tr>\n",
              "      <th>977667</th>\n",
              "      <td>3169.6164</td>\n",
              "      <td>-999.00000</td>\n",
              "      <td>-999.0</td>\n",
              "      <td>-999.000000</td>\n",
              "      <td>8.350248</td>\n",
              "      <td>-999.0</td>\n",
              "      <td>-999.000000</td>\n",
              "      <td>-999.000000</td>\n",
              "      <td>2.491860</td>\n",
              "      <td>66.452843</td>\n",
              "      <td>-999.0</td>\n",
              "      <td>9.049782</td>\n",
              "      <td>-999.000000</td>\n",
              "      <td>-999.000000</td>\n",
              "      <td>8.5</td>\n",
              "      <td>28.091282</td>\n",
              "      <td>-0.018297</td>\n",
              "      <td>65030.0</td>\n",
              "      <td>0.00035</td>\n",
              "      <td>0.001830</td>\n",
              "      <td>0.021211</td>\n",
              "      <td>43727.973073</td>\n",
              "      <td>-999.0</td>\n",
              "      <td>51473.956561</td>\n",
              "      <td>0</td>\n",
              "      <td>0</td>\n",
              "      <td>0</td>\n",
              "      <td>0</td>\n",
              "      <td>0</td>\n",
              "      <td>0</td>\n",
              "      <td>0</td>\n",
              "      <td>0</td>\n",
              "      <td>0</td>\n",
              "      <td>0</td>\n",
              "      <td>0</td>\n",
              "      <td>1</td>\n",
              "      <td>0</td>\n",
              "      <td>0</td>\n",
              "    </tr>\n",
              "    <tr>\n",
              "      <th>977668</th>\n",
              "      <td>3169.7684</td>\n",
              "      <td>-999.00000</td>\n",
              "      <td>-999.0</td>\n",
              "      <td>-999.000000</td>\n",
              "      <td>8.313779</td>\n",
              "      <td>-999.0</td>\n",
              "      <td>-999.000000</td>\n",
              "      <td>-999.000000</td>\n",
              "      <td>2.447539</td>\n",
              "      <td>55.784817</td>\n",
              "      <td>-999.0</td>\n",
              "      <td>8.903917</td>\n",
              "      <td>-999.000000</td>\n",
              "      <td>-999.000000</td>\n",
              "      <td>8.5</td>\n",
              "      <td>28.019775</td>\n",
              "      <td>-0.011438</td>\n",
              "      <td>65030.0</td>\n",
              "      <td>0.00035</td>\n",
              "      <td>0.001830</td>\n",
              "      <td>0.021211</td>\n",
              "      <td>43727.973073</td>\n",
              "      <td>-999.0</td>\n",
              "      <td>51473.956561</td>\n",
              "      <td>0</td>\n",
              "      <td>0</td>\n",
              "      <td>0</td>\n",
              "      <td>0</td>\n",
              "      <td>0</td>\n",
              "      <td>0</td>\n",
              "      <td>0</td>\n",
              "      <td>0</td>\n",
              "      <td>0</td>\n",
              "      <td>0</td>\n",
              "      <td>0</td>\n",
              "      <td>1</td>\n",
              "      <td>0</td>\n",
              "      <td>0</td>\n",
              "    </tr>\n",
              "    <tr>\n",
              "      <th>977669</th>\n",
              "      <td>3169.9204</td>\n",
              "      <td>-999.00000</td>\n",
              "      <td>-999.0</td>\n",
              "      <td>-999.000000</td>\n",
              "      <td>8.294910</td>\n",
              "      <td>-999.0</td>\n",
              "      <td>-999.000000</td>\n",
              "      <td>-999.000000</td>\n",
              "      <td>2.430716</td>\n",
              "      <td>48.432129</td>\n",
              "      <td>-999.0</td>\n",
              "      <td>9.150043</td>\n",
              "      <td>-999.000000</td>\n",
              "      <td>-999.000000</td>\n",
              "      <td>8.5</td>\n",
              "      <td>25.985943</td>\n",
              "      <td>-0.011398</td>\n",
              "      <td>65030.0</td>\n",
              "      <td>0.00035</td>\n",
              "      <td>0.001830</td>\n",
              "      <td>0.021211</td>\n",
              "      <td>43727.973073</td>\n",
              "      <td>-999.0</td>\n",
              "      <td>51473.956561</td>\n",
              "      <td>0</td>\n",
              "      <td>0</td>\n",
              "      <td>0</td>\n",
              "      <td>0</td>\n",
              "      <td>0</td>\n",
              "      <td>0</td>\n",
              "      <td>0</td>\n",
              "      <td>0</td>\n",
              "      <td>0</td>\n",
              "      <td>0</td>\n",
              "      <td>0</td>\n",
              "      <td>1</td>\n",
              "      <td>0</td>\n",
              "      <td>0</td>\n",
              "    </tr>\n",
              "  </tbody>\n",
              "</table>\n",
              "<p>977670 rows × 38 columns</p>\n",
              "</div>"
            ],
            "text/plain": [
              "         DEPTH_MD         X_LOC  ...  GROUP_VIKING GP.  GROUP_ZECHSTEIN GP.\n",
              "0        494.5280  437641.96875  ...                 0                    0\n",
              "1        494.6800  437641.96875  ...                 0                    0\n",
              "2        494.8320  437641.96875  ...                 0                    0\n",
              "3        494.9840  437641.96875  ...                 0                    0\n",
              "4        495.1360  437641.96875  ...                 0                    0\n",
              "...           ...           ...  ...               ...                  ...\n",
              "977665  3169.3124    -999.00000  ...                 0                    0\n",
              "977666  3169.4644    -999.00000  ...                 0                    0\n",
              "977667  3169.6164    -999.00000  ...                 0                    0\n",
              "977668  3169.7684    -999.00000  ...                 0                    0\n",
              "977669  3169.9204    -999.00000  ...                 0                    0\n",
              "\n",
              "[977670 rows x 38 columns]"
            ]
          },
          "metadata": {
            "tags": []
          },
          "execution_count": 23
        }
      ]
    },
    {
      "cell_type": "code",
      "metadata": {
        "id": "KqjOrVGh36O7",
        "colab": {
          "base_uri": "https://localhost:8080/",
          "height": 443
        },
        "outputId": "8712f13a-1ef0-450d-8246-64b4cf5c33b8"
      },
      "source": [
        "valid2"
      ],
      "execution_count": null,
      "outputs": [
        {
          "output_type": "execute_result",
          "data": {
            "text/html": [
              "<div>\n",
              "<style scoped>\n",
              "    .dataframe tbody tr th:only-of-type {\n",
              "        vertical-align: middle;\n",
              "    }\n",
              "\n",
              "    .dataframe tbody tr th {\n",
              "        vertical-align: top;\n",
              "    }\n",
              "\n",
              "    .dataframe thead th {\n",
              "        text-align: right;\n",
              "    }\n",
              "</style>\n",
              "<table border=\"1\" class=\"dataframe\">\n",
              "  <thead>\n",
              "    <tr style=\"text-align: right;\">\n",
              "      <th></th>\n",
              "      <th>DEPTH_MD</th>\n",
              "      <th>X_LOC</th>\n",
              "      <th>Y_LOC</th>\n",
              "      <th>Z_LOC</th>\n",
              "      <th>CALI</th>\n",
              "      <th>RSHA</th>\n",
              "      <th>RMED</th>\n",
              "      <th>RDEP</th>\n",
              "      <th>RHOB</th>\n",
              "      <th>GR</th>\n",
              "      <th>NPHI</th>\n",
              "      <th>PEF</th>\n",
              "      <th>DTC</th>\n",
              "      <th>SP</th>\n",
              "      <th>BS</th>\n",
              "      <th>ROP</th>\n",
              "      <th>DRHO</th>\n",
              "      <th>FORMATION_enc</th>\n",
              "      <th>WELL_enc</th>\n",
              "      <th>GROUP_enc</th>\n",
              "      <th>FORMATION_mean_target</th>\n",
              "      <th>WELL_mean_target</th>\n",
              "      <th>GROUP_mean_target</th>\n",
              "      <th>GROUP_-999</th>\n",
              "      <th>GROUP_BAAT GP.</th>\n",
              "      <th>GROUP_CROMER KNOLL GP.</th>\n",
              "      <th>GROUP_DUNLIN GP.</th>\n",
              "      <th>GROUP_HEGRE GP.</th>\n",
              "      <th>GROUP_HORDALAND GP.</th>\n",
              "      <th>GROUP_NORDLAND GP.</th>\n",
              "      <th>GROUP_ROGALAND GP.</th>\n",
              "      <th>GROUP_SHETLAND GP.</th>\n",
              "      <th>GROUP_VESTLAND GP.</th>\n",
              "      <th>GROUP_VIKING GP.</th>\n",
              "    </tr>\n",
              "  </thead>\n",
              "  <tbody>\n",
              "    <tr>\n",
              "      <th>0</th>\n",
              "      <td>256.922400</td>\n",
              "      <td>497437.37500</td>\n",
              "      <td>6728312.0</td>\n",
              "      <td>-231.922302</td>\n",
              "      <td>21.149618</td>\n",
              "      <td>1.837429</td>\n",
              "      <td>1.539432</td>\n",
              "      <td>2.216752</td>\n",
              "      <td>-999.000000</td>\n",
              "      <td>53.602756</td>\n",
              "      <td>-999.000000</td>\n",
              "      <td>-999.0</td>\n",
              "      <td>166.110474</td>\n",
              "      <td>43.475624</td>\n",
              "      <td>-999.0</td>\n",
              "      <td>98.551178</td>\n",
              "      <td>-999.000000</td>\n",
              "      <td>-999.000000</td>\n",
              "      <td>0.239686</td>\n",
              "      <td>0.094541</td>\n",
              "      <td>-999.0</td>\n",
              "      <td>54312.169279</td>\n",
              "      <td>54139.153444</td>\n",
              "      <td>0</td>\n",
              "      <td>0</td>\n",
              "      <td>0</td>\n",
              "      <td>0</td>\n",
              "      <td>0</td>\n",
              "      <td>0</td>\n",
              "      <td>1</td>\n",
              "      <td>0</td>\n",
              "      <td>0</td>\n",
              "      <td>0</td>\n",
              "      <td>0</td>\n",
              "    </tr>\n",
              "    <tr>\n",
              "      <th>1</th>\n",
              "      <td>257.074400</td>\n",
              "      <td>497437.37500</td>\n",
              "      <td>6728312.0</td>\n",
              "      <td>-232.074310</td>\n",
              "      <td>20.023129</td>\n",
              "      <td>1.950167</td>\n",
              "      <td>1.608084</td>\n",
              "      <td>2.211968</td>\n",
              "      <td>-999.000000</td>\n",
              "      <td>58.111530</td>\n",
              "      <td>-999.000000</td>\n",
              "      <td>-999.0</td>\n",
              "      <td>166.081924</td>\n",
              "      <td>45.057995</td>\n",
              "      <td>-999.0</td>\n",
              "      <td>57.606297</td>\n",
              "      <td>-999.000000</td>\n",
              "      <td>-999.000000</td>\n",
              "      <td>0.239686</td>\n",
              "      <td>0.094541</td>\n",
              "      <td>-999.0</td>\n",
              "      <td>54312.169279</td>\n",
              "      <td>54139.153444</td>\n",
              "      <td>0</td>\n",
              "      <td>0</td>\n",
              "      <td>0</td>\n",
              "      <td>0</td>\n",
              "      <td>0</td>\n",
              "      <td>0</td>\n",
              "      <td>1</td>\n",
              "      <td>0</td>\n",
              "      <td>0</td>\n",
              "      <td>0</td>\n",
              "      <td>0</td>\n",
              "    </tr>\n",
              "    <tr>\n",
              "      <th>2</th>\n",
              "      <td>257.226400</td>\n",
              "      <td>497437.37500</td>\n",
              "      <td>6728312.0</td>\n",
              "      <td>-232.226303</td>\n",
              "      <td>17.702616</td>\n",
              "      <td>2.133782</td>\n",
              "      <td>1.667697</td>\n",
              "      <td>2.222546</td>\n",
              "      <td>-999.000000</td>\n",
              "      <td>62.285587</td>\n",
              "      <td>-999.000000</td>\n",
              "      <td>-999.0</td>\n",
              "      <td>166.067062</td>\n",
              "      <td>46.048992</td>\n",
              "      <td>-999.0</td>\n",
              "      <td>213.779495</td>\n",
              "      <td>-999.000000</td>\n",
              "      <td>-999.000000</td>\n",
              "      <td>0.239686</td>\n",
              "      <td>0.094541</td>\n",
              "      <td>-999.0</td>\n",
              "      <td>54312.169279</td>\n",
              "      <td>54139.153444</td>\n",
              "      <td>0</td>\n",
              "      <td>0</td>\n",
              "      <td>0</td>\n",
              "      <td>0</td>\n",
              "      <td>0</td>\n",
              "      <td>0</td>\n",
              "      <td>1</td>\n",
              "      <td>0</td>\n",
              "      <td>0</td>\n",
              "      <td>0</td>\n",
              "      <td>0</td>\n",
              "    </tr>\n",
              "    <tr>\n",
              "      <th>3</th>\n",
              "      <td>257.378400</td>\n",
              "      <td>497437.37500</td>\n",
              "      <td>6728312.0</td>\n",
              "      <td>-232.378311</td>\n",
              "      <td>16.079689</td>\n",
              "      <td>2.224826</td>\n",
              "      <td>1.712445</td>\n",
              "      <td>2.275805</td>\n",
              "      <td>-999.000000</td>\n",
              "      <td>63.438637</td>\n",
              "      <td>-999.000000</td>\n",
              "      <td>-999.0</td>\n",
              "      <td>166.055740</td>\n",
              "      <td>44.212708</td>\n",
              "      <td>-999.0</td>\n",
              "      <td>190.913376</td>\n",
              "      <td>-999.000000</td>\n",
              "      <td>-999.000000</td>\n",
              "      <td>0.239686</td>\n",
              "      <td>0.094541</td>\n",
              "      <td>-999.0</td>\n",
              "      <td>54312.169279</td>\n",
              "      <td>54139.153444</td>\n",
              "      <td>0</td>\n",
              "      <td>0</td>\n",
              "      <td>0</td>\n",
              "      <td>0</td>\n",
              "      <td>0</td>\n",
              "      <td>0</td>\n",
              "      <td>1</td>\n",
              "      <td>0</td>\n",
              "      <td>0</td>\n",
              "      <td>0</td>\n",
              "      <td>0</td>\n",
              "    </tr>\n",
              "    <tr>\n",
              "      <th>4</th>\n",
              "      <td>257.530400</td>\n",
              "      <td>497437.37500</td>\n",
              "      <td>6728312.0</td>\n",
              "      <td>-232.530304</td>\n",
              "      <td>14.906407</td>\n",
              "      <td>2.308409</td>\n",
              "      <td>1.786179</td>\n",
              "      <td>2.339774</td>\n",
              "      <td>-999.000000</td>\n",
              "      <td>62.913967</td>\n",
              "      <td>-999.000000</td>\n",
              "      <td>-999.0</td>\n",
              "      <td>166.084229</td>\n",
              "      <td>52.086094</td>\n",
              "      <td>-999.0</td>\n",
              "      <td>85.149597</td>\n",
              "      <td>-999.000000</td>\n",
              "      <td>-999.000000</td>\n",
              "      <td>0.239686</td>\n",
              "      <td>0.094541</td>\n",
              "      <td>-999.0</td>\n",
              "      <td>54312.169279</td>\n",
              "      <td>54139.153444</td>\n",
              "      <td>0</td>\n",
              "      <td>0</td>\n",
              "      <td>0</td>\n",
              "      <td>0</td>\n",
              "      <td>0</td>\n",
              "      <td>0</td>\n",
              "      <td>1</td>\n",
              "      <td>0</td>\n",
              "      <td>0</td>\n",
              "      <td>0</td>\n",
              "      <td>0</td>\n",
              "    </tr>\n",
              "    <tr>\n",
              "      <th>...</th>\n",
              "      <td>...</td>\n",
              "      <td>...</td>\n",
              "      <td>...</td>\n",
              "      <td>...</td>\n",
              "      <td>...</td>\n",
              "      <td>...</td>\n",
              "      <td>...</td>\n",
              "      <td>...</td>\n",
              "      <td>...</td>\n",
              "      <td>...</td>\n",
              "      <td>...</td>\n",
              "      <td>...</td>\n",
              "      <td>...</td>\n",
              "      <td>...</td>\n",
              "      <td>...</td>\n",
              "      <td>...</td>\n",
              "      <td>...</td>\n",
              "      <td>...</td>\n",
              "      <td>...</td>\n",
              "      <td>...</td>\n",
              "      <td>...</td>\n",
              "      <td>...</td>\n",
              "      <td>...</td>\n",
              "      <td>...</td>\n",
              "      <td>...</td>\n",
              "      <td>...</td>\n",
              "      <td>...</td>\n",
              "      <td>...</td>\n",
              "      <td>...</td>\n",
              "      <td>...</td>\n",
              "      <td>...</td>\n",
              "      <td>...</td>\n",
              "      <td>...</td>\n",
              "      <td>...</td>\n",
              "    </tr>\n",
              "    <tr>\n",
              "      <th>90263</th>\n",
              "      <td>4349.302805</td>\n",
              "      <td>454469.53125</td>\n",
              "      <td>6603730.0</td>\n",
              "      <td>-4324.002930</td>\n",
              "      <td>7.986266</td>\n",
              "      <td>-999.000000</td>\n",
              "      <td>6.865710</td>\n",
              "      <td>7.329883</td>\n",
              "      <td>2.656386</td>\n",
              "      <td>47.279427</td>\n",
              "      <td>0.031128</td>\n",
              "      <td>-999.0</td>\n",
              "      <td>-999.000000</td>\n",
              "      <td>-999.000000</td>\n",
              "      <td>8.5</td>\n",
              "      <td>-999.000000</td>\n",
              "      <td>-0.005611</td>\n",
              "      <td>0.010425</td>\n",
              "      <td>0.254852</td>\n",
              "      <td>0.124319</td>\n",
              "      <td>-999.0</td>\n",
              "      <td>57967.942346</td>\n",
              "      <td>55395.361445</td>\n",
              "      <td>0</td>\n",
              "      <td>0</td>\n",
              "      <td>0</td>\n",
              "      <td>1</td>\n",
              "      <td>0</td>\n",
              "      <td>0</td>\n",
              "      <td>0</td>\n",
              "      <td>0</td>\n",
              "      <td>0</td>\n",
              "      <td>0</td>\n",
              "      <td>0</td>\n",
              "    </tr>\n",
              "    <tr>\n",
              "      <th>90264</th>\n",
              "      <td>4349.454805</td>\n",
              "      <td>454469.53125</td>\n",
              "      <td>6603730.0</td>\n",
              "      <td>-4324.154785</td>\n",
              "      <td>7.989600</td>\n",
              "      <td>-999.000000</td>\n",
              "      <td>7.297952</td>\n",
              "      <td>7.310992</td>\n",
              "      <td>2.654442</td>\n",
              "      <td>49.578907</td>\n",
              "      <td>0.053722</td>\n",
              "      <td>-999.0</td>\n",
              "      <td>-999.000000</td>\n",
              "      <td>-999.000000</td>\n",
              "      <td>8.5</td>\n",
              "      <td>-999.000000</td>\n",
              "      <td>-0.007099</td>\n",
              "      <td>0.010425</td>\n",
              "      <td>0.254852</td>\n",
              "      <td>0.124319</td>\n",
              "      <td>-999.0</td>\n",
              "      <td>57967.942346</td>\n",
              "      <td>55395.361445</td>\n",
              "      <td>0</td>\n",
              "      <td>0</td>\n",
              "      <td>0</td>\n",
              "      <td>1</td>\n",
              "      <td>0</td>\n",
              "      <td>0</td>\n",
              "      <td>0</td>\n",
              "      <td>0</td>\n",
              "      <td>0</td>\n",
              "      <td>0</td>\n",
              "      <td>0</td>\n",
              "    </tr>\n",
              "    <tr>\n",
              "      <th>90265</th>\n",
              "      <td>4349.606805</td>\n",
              "      <td>454469.53125</td>\n",
              "      <td>6603730.0</td>\n",
              "      <td>-4324.307129</td>\n",
              "      <td>7.992951</td>\n",
              "      <td>-999.000000</td>\n",
              "      <td>7.716913</td>\n",
              "      <td>7.337108</td>\n",
              "      <td>2.651517</td>\n",
              "      <td>51.294518</td>\n",
              "      <td>0.067052</td>\n",
              "      <td>-999.0</td>\n",
              "      <td>-999.000000</td>\n",
              "      <td>-999.000000</td>\n",
              "      <td>8.5</td>\n",
              "      <td>-999.000000</td>\n",
              "      <td>-0.010797</td>\n",
              "      <td>0.010425</td>\n",
              "      <td>0.254852</td>\n",
              "      <td>0.124319</td>\n",
              "      <td>-999.0</td>\n",
              "      <td>57967.942346</td>\n",
              "      <td>55395.361445</td>\n",
              "      <td>0</td>\n",
              "      <td>0</td>\n",
              "      <td>0</td>\n",
              "      <td>1</td>\n",
              "      <td>0</td>\n",
              "      <td>0</td>\n",
              "      <td>0</td>\n",
              "      <td>0</td>\n",
              "      <td>0</td>\n",
              "      <td>0</td>\n",
              "      <td>0</td>\n",
              "    </tr>\n",
              "    <tr>\n",
              "      <th>90266</th>\n",
              "      <td>4349.758805</td>\n",
              "      <td>454469.53125</td>\n",
              "      <td>6603730.0</td>\n",
              "      <td>-4324.458984</td>\n",
              "      <td>7.997011</td>\n",
              "      <td>-999.000000</td>\n",
              "      <td>8.330764</td>\n",
              "      <td>7.509970</td>\n",
              "      <td>2.645189</td>\n",
              "      <td>50.539646</td>\n",
              "      <td>0.072980</td>\n",
              "      <td>-999.0</td>\n",
              "      <td>-999.000000</td>\n",
              "      <td>-999.000000</td>\n",
              "      <td>8.5</td>\n",
              "      <td>-999.000000</td>\n",
              "      <td>-0.023914</td>\n",
              "      <td>0.010425</td>\n",
              "      <td>0.254852</td>\n",
              "      <td>0.124319</td>\n",
              "      <td>-999.0</td>\n",
              "      <td>57967.942346</td>\n",
              "      <td>55395.361445</td>\n",
              "      <td>0</td>\n",
              "      <td>0</td>\n",
              "      <td>0</td>\n",
              "      <td>1</td>\n",
              "      <td>0</td>\n",
              "      <td>0</td>\n",
              "      <td>0</td>\n",
              "      <td>0</td>\n",
              "      <td>0</td>\n",
              "      <td>0</td>\n",
              "      <td>0</td>\n",
              "    </tr>\n",
              "    <tr>\n",
              "      <th>90267</th>\n",
              "      <td>4349.910805</td>\n",
              "      <td>454469.53125</td>\n",
              "      <td>6603730.0</td>\n",
              "      <td>-4324.610840</td>\n",
              "      <td>8.009298</td>\n",
              "      <td>-999.000000</td>\n",
              "      <td>8.553991</td>\n",
              "      <td>7.490666</td>\n",
              "      <td>2.619442</td>\n",
              "      <td>46.863041</td>\n",
              "      <td>0.076928</td>\n",
              "      <td>-999.0</td>\n",
              "      <td>-999.000000</td>\n",
              "      <td>-999.000000</td>\n",
              "      <td>8.5</td>\n",
              "      <td>-999.000000</td>\n",
              "      <td>-999.000000</td>\n",
              "      <td>0.010425</td>\n",
              "      <td>0.254852</td>\n",
              "      <td>0.124319</td>\n",
              "      <td>-999.0</td>\n",
              "      <td>57967.942346</td>\n",
              "      <td>55395.361445</td>\n",
              "      <td>0</td>\n",
              "      <td>0</td>\n",
              "      <td>0</td>\n",
              "      <td>1</td>\n",
              "      <td>0</td>\n",
              "      <td>0</td>\n",
              "      <td>0</td>\n",
              "      <td>0</td>\n",
              "      <td>0</td>\n",
              "      <td>0</td>\n",
              "      <td>0</td>\n",
              "    </tr>\n",
              "  </tbody>\n",
              "</table>\n",
              "<p>90268 rows × 34 columns</p>\n",
              "</div>"
            ],
            "text/plain": [
              "          DEPTH_MD         X_LOC  ...  GROUP_VESTLAND GP.  GROUP_VIKING GP.\n",
              "0       256.922400  497437.37500  ...                   0                 0\n",
              "1       257.074400  497437.37500  ...                   0                 0\n",
              "2       257.226400  497437.37500  ...                   0                 0\n",
              "3       257.378400  497437.37500  ...                   0                 0\n",
              "4       257.530400  497437.37500  ...                   0                 0\n",
              "...            ...           ...  ...                 ...               ...\n",
              "90263  4349.302805  454469.53125  ...                   0                 0\n",
              "90264  4349.454805  454469.53125  ...                   0                 0\n",
              "90265  4349.606805  454469.53125  ...                   0                 0\n",
              "90266  4349.758805  454469.53125  ...                   0                 0\n",
              "90267  4349.910805  454469.53125  ...                   0                 0\n",
              "\n",
              "[90268 rows x 34 columns]"
            ]
          },
          "metadata": {
            "tags": []
          },
          "execution_count": 25
        }
      ]
    },
    {
      "cell_type": "code",
      "metadata": {
        "id": "hf9wEkMS27Pp"
      },
      "source": [
        "train_HORD_target = train_HORD.FORCE_2020_LITHOFACIES_LITHOLOGY\n",
        "train_SHET_target = train_SHET.FORCE_2020_LITHOFACIES_LITHOLOGY\n",
        "train_ROGALAND_target = train_ROGALAND.FORCE_2020_LITHOFACIES_LITHOLOGY\n",
        "train_VIKING_target = train_VIKING.FORCE_2020_LITHOFACIES_LITHOLOGY\n",
        "train_DUNLIN_target = train_DUNLIN.FORCE_2020_LITHOFACIES_LITHOLOGY\n",
        "train_NORDLAND_target = train_NORDLAND.FORCE_2020_LITHOFACIES_LITHOLOGY\n",
        "train_CROMER_target = train_CROMER.FORCE_2020_LITHOFACIES_LITHOLOGY\n",
        "train_BAAT_target = train_BAAT.FORCE_2020_LITHOFACIES_LITHOLOGY\n",
        "train_VESTLAND_target = train_VESTLAND.FORCE_2020_LITHOFACIES_LITHOLOGY\n",
        "train_HEGRE_target = train_HEGRE.FORCE_2020_LITHOFACIES_LITHOLOGY"
      ],
      "execution_count": null,
      "outputs": []
    },
    {
      "cell_type": "code",
      "metadata": {
        "id": "6NQ51LBA-9e5"
      },
      "source": [
        "train_HORD_target = train_HORD_target.map(lithology_numbers)\n",
        "train_SHET_target = train_SHET_target.map(lithology_numbers)\n",
        "train_ROGALAND_target = train_ROGALAND_target.map(lithology_numbers)\n",
        "train_VIKING_target = train_VIKING_target.map(lithology_numbers)\n",
        "train_DUNLIN_target = train_DUNLIN_target.map(lithology_numbers)\n",
        "train_NORDLAND_target = train_NORDLAND_target.map(lithology_numbers)\n",
        "train_CROMER_target = train_CROMER_target.map(lithology_numbers)\n",
        "train_BAAT_target = train_BAAT_target.map(lithology_numbers)\n",
        "train_VESTLAND_target = train_VESTLAND_target.map(lithology_numbers)\n",
        "train_HEGRE_target = train_HEGRE_target.map(lithology_numbers)"
      ],
      "execution_count": null,
      "outputs": []
    },
    {
      "cell_type": "code",
      "metadata": {
        "id": "YT2y49oh6GOa"
      },
      "source": [
        "train_HORD = train_HORD.drop('FORCE_2020_LITHOFACIES_LITHOLOGY', axis=1)\n",
        "train_SHET = train_SHET.drop('FORCE_2020_LITHOFACIES_LITHOLOGY', axis=1)\n",
        "train_ROGALAND = train_ROGALAND.drop('FORCE_2020_LITHOFACIES_LITHOLOGY', axis=1)\n",
        "train_VIKING = train_VIKING.drop('FORCE_2020_LITHOFACIES_LITHOLOGY', axis=1)\n",
        "train_DUNLIN = train_DUNLIN.drop('FORCE_2020_LITHOFACIES_LITHOLOGY', axis=1)\n",
        "train_NORDLAND = train_NORDLAND.drop('FORCE_2020_LITHOFACIES_LITHOLOGY', axis=1)\n",
        "train_CROMER = train_CROMER.drop('FORCE_2020_LITHOFACIES_LITHOLOGY', axis=1)\n",
        "train_BAAT = train_BAAT.drop('FORCE_2020_LITHOFACIES_LITHOLOGY', axis=1)\n",
        "train_VESTLAND = train_VESTLAND.drop('FORCE_2020_LITHOFACIES_LITHOLOGY', axis=1)\n",
        "train_HEGRE = train_HEGRE.drop('FORCE_2020_LITHOFACIES_LITHOLOGY', axis=1)"
      ],
      "execution_count": null,
      "outputs": []
    },
    {
      "cell_type": "code",
      "metadata": {
        "id": "U5-lMNow6Gj6"
      },
      "source": [
        "train_HORD = scale_data(train_HORD)\n",
        "train_SHET = scale_data(train_SHET)\n",
        "train_ROGALAND = scale_data(train_ROGALAND)\n",
        "train_VIKING = scale_data(train_VIKING)\n",
        "train_DUNLIN = scale_data(train_DUNLIN)\n",
        "train_NORDLAND = scale_data(train_NORDLAND)\n",
        "train_CROMER = scale_data(train_CROMER)\n",
        "train_BAAT = scale_data(train_BAAT)\n",
        "train_VESTLAND = scale_data(train_VESTLAND)\n",
        "train_HEGRE = scale_data(train_HEGRE)"
      ],
      "execution_count": null,
      "outputs": []
    },
    {
      "cell_type": "code",
      "metadata": {
        "id": "Xa7GI54g-5fQ"
      },
      "source": [
        "traindata = scale_data(traindata)\n",
        "testdata = scale_data(testdata)\n",
        "validation1 = scale_data(validation1)\n",
        "validation2 = scale_data(validation2)"
      ],
      "execution_count": null,
      "outputs": []
    },
    {
      "cell_type": "code",
      "metadata": {
        "id": "06hgLpsZ-5x3"
      },
      "source": [
        ""
      ],
      "execution_count": null,
      "outputs": []
    },
    {
      "cell_type": "code",
      "metadata": {
        "id": "3DHAcN8r3AwM"
      },
      "source": [
        "traindata.drop('FORCE_2020_LITHOFACIES_LITHOLOGY', axis=1, inplace=True)"
      ],
      "execution_count": null,
      "outputs": []
    },
    {
      "cell_type": "code",
      "metadata": {
        "id": "sgLwXZcB30MJ"
      },
      "source": [
        ""
      ],
      "execution_count": null,
      "outputs": []
    },
    {
      "cell_type": "code",
      "metadata": {
        "id": "wV0fBPhf31o1",
        "colab": {
          "base_uri": "https://localhost:8080/",
          "height": 1000
        },
        "outputId": "813f4b5a-155c-4f8d-f8aa-a447e5920c75"
      },
      "source": [
        "model = RandomForestClassifier(n_estimators=50, random_state=42, class_weight='balanced', verbose=2)\n",
        "model.fit(traindata, lithology)"
      ],
      "execution_count": null,
      "outputs": [
        {
          "output_type": "stream",
          "text": [
            "[Parallel(n_jobs=1)]: Using backend SequentialBackend with 1 concurrent workers.\n"
          ],
          "name": "stderr"
        },
        {
          "output_type": "stream",
          "text": [
            "building tree 1 of 50\n"
          ],
          "name": "stdout"
        },
        {
          "output_type": "stream",
          "text": [
            "[Parallel(n_jobs=1)]: Done   1 out of   1 | elapsed:    4.4s remaining:    0.0s\n"
          ],
          "name": "stderr"
        },
        {
          "output_type": "stream",
          "text": [
            "building tree 2 of 50\n",
            "building tree 3 of 50\n",
            "building tree 4 of 50\n",
            "building tree 5 of 50\n",
            "building tree 6 of 50\n",
            "building tree 7 of 50\n",
            "building tree 8 of 50\n",
            "building tree 9 of 50\n",
            "building tree 10 of 50\n",
            "building tree 11 of 50\n",
            "building tree 12 of 50\n",
            "building tree 13 of 50\n",
            "building tree 14 of 50\n",
            "building tree 15 of 50\n",
            "building tree 16 of 50\n",
            "building tree 17 of 50\n",
            "building tree 18 of 50\n",
            "building tree 19 of 50\n",
            "building tree 20 of 50\n",
            "building tree 21 of 50\n",
            "building tree 22 of 50\n",
            "building tree 23 of 50\n",
            "building tree 24 of 50\n",
            "building tree 25 of 50\n",
            "building tree 26 of 50\n",
            "building tree 27 of 50\n",
            "building tree 28 of 50\n",
            "building tree 29 of 50\n",
            "building tree 30 of 50\n",
            "building tree 31 of 50\n",
            "building tree 32 of 50\n",
            "building tree 33 of 50\n",
            "building tree 34 of 50\n",
            "building tree 35 of 50\n",
            "building tree 36 of 50\n",
            "building tree 37 of 50\n",
            "building tree 38 of 50\n",
            "building tree 39 of 50\n",
            "building tree 40 of 50\n",
            "building tree 41 of 50\n",
            "building tree 42 of 50\n",
            "building tree 43 of 50\n",
            "building tree 44 of 50\n",
            "building tree 45 of 50\n",
            "building tree 46 of 50\n",
            "building tree 47 of 50\n",
            "building tree 48 of 50\n",
            "building tree 49 of 50\n",
            "building tree 50 of 50\n"
          ],
          "name": "stdout"
        },
        {
          "output_type": "stream",
          "text": [
            "[Parallel(n_jobs=1)]: Done  50 out of  50 | elapsed:  3.5min finished\n"
          ],
          "name": "stderr"
        },
        {
          "output_type": "execute_result",
          "data": {
            "text/plain": [
              "RandomForestClassifier(bootstrap=True, ccp_alpha=0.0, class_weight='balanced',\n",
              "                       criterion='gini', max_depth=None, max_features='auto',\n",
              "                       max_leaf_nodes=None, max_samples=None,\n",
              "                       min_impurity_decrease=0.0, min_impurity_split=None,\n",
              "                       min_samples_leaf=1, min_samples_split=2,\n",
              "                       min_weight_fraction_leaf=0.0, n_estimators=50,\n",
              "                       n_jobs=None, oob_score=False, random_state=42, verbose=2,\n",
              "                       warm_start=False)"
            ]
          },
          "metadata": {
            "tags": []
          },
          "execution_count": 19
        }
      ]
    },
    {
      "cell_type": "code",
      "metadata": {
        "id": "Nq-PTSpX9Jd9",
        "colab": {
          "base_uri": "https://localhost:8080/",
          "height": 123
        },
        "outputId": "f12d7a17-378e-4f21-96e2-6cc23af37f28"
      },
      "source": [
        "pred1 = model.predict(validation1)\n",
        "pred2 = model.predict(validation2)"
      ],
      "execution_count": null,
      "outputs": [
        {
          "output_type": "stream",
          "text": [
            "[Parallel(n_jobs=1)]: Using backend SequentialBackend with 1 concurrent workers.\n",
            "[Parallel(n_jobs=1)]: Done   1 out of   1 | elapsed:    0.0s remaining:    0.0s\n",
            "[Parallel(n_jobs=1)]: Done  50 out of  50 | elapsed:    0.7s finished\n",
            "[Parallel(n_jobs=1)]: Using backend SequentialBackend with 1 concurrent workers.\n",
            "[Parallel(n_jobs=1)]: Done   1 out of   1 | elapsed:    0.0s remaining:    0.0s\n",
            "[Parallel(n_jobs=1)]: Done  50 out of  50 | elapsed:    0.6s finished\n"
          ],
          "name": "stderr"
        }
      ]
    },
    {
      "cell_type": "code",
      "metadata": {
        "id": "LWsoYrYt9tfD",
        "colab": {
          "base_uri": "https://localhost:8080/",
          "height": 616
        },
        "outputId": "d24dbfe0-64f3-4846-8e9a-be9738cb2f21"
      },
      "source": [
        "print(show_evaluation(pred1, valid1_lithology))\n",
        "print(show_evaluation(pred2, valid2_lithology))\n",
        "evaluate(model)"
      ],
      "execution_count": null,
      "outputs": [
        {
          "output_type": "stream",
          "text": [
            "Default score: -0.7816573901372729\n",
            "Accuracy is: 0.7195527528594409\n",
            "F1 is: 0.7712288362530723\n",
            "None\n",
            "Default score: -1.0265490110370452\n",
            "Accuracy is: 0.6057042946126107\n",
            "F1 is: 0.7095512054217591\n",
            "None\n"
          ],
          "name": "stdout"
        },
        {
          "output_type": "display_data",
          "data": {
            "image/png": "[encoded data removed]",
            "text/plain": [
              "<Figure size 1728x576 with 1 Axes>"
            ]
          },
          "metadata": {
            "tags": [],
            "needs_background": "light"
          }
        }
      ]
    },
    {
      "cell_type": "code",
      "metadata": {
        "id": "192S066C0TnB"
      },
      "source": [
        ""
      ],
      "execution_count": null,
      "outputs": []
    },
    {
      "cell_type": "code",
      "metadata": {
        "id": "dT7gk8r29z4D",
        "colab": {
          "base_uri": "https://localhost:8080/",
          "height": 1000
        },
        "outputId": "21aaafd4-4b15-4191-ca23-ce7da862bc28"
      },
      "source": [
        "model = ExtraTreesClassifier(n_estimators=50, random_state=42, class_weight='balanced', verbose=2)\n",
        "model.fit(traindata, lithology)\n",
        "\n",
        "pred1 = model.predict(validation1)\n",
        "pred2 = model.predict(validation2)\n",
        "\n",
        "print(show_evaluation(pred1, valid1_lithology))\n",
        "print(show_evaluation(pred2, valid2_lithology))"
      ],
      "execution_count": null,
      "outputs": [
        {
          "output_type": "stream",
          "text": [
            "[Parallel(n_jobs=1)]: Using backend SequentialBackend with 1 concurrent workers.\n"
          ],
          "name": "stderr"
        },
        {
          "output_type": "stream",
          "text": [
            "building tree 1 of 50\n"
          ],
          "name": "stdout"
        },
        {
          "output_type": "stream",
          "text": [
            "[Parallel(n_jobs=1)]: Done   1 out of   1 | elapsed:    0.8s remaining:    0.0s\n"
          ],
          "name": "stderr"
        },
        {
          "output_type": "stream",
          "text": [
            "building tree 2 of 50\n",
            "building tree 3 of 50\n",
            "building tree 4 of 50\n",
            "building tree 5 of 50\n",
            "building tree 6 of 50\n",
            "building tree 7 of 50\n",
            "building tree 8 of 50\n",
            "building tree 9 of 50\n",
            "building tree 10 of 50\n",
            "building tree 11 of 50\n",
            "building tree 12 of 50\n",
            "building tree 13 of 50\n",
            "building tree 14 of 50\n",
            "building tree 15 of 50\n",
            "building tree 16 of 50\n",
            "building tree 17 of 50\n",
            "building tree 18 of 50\n",
            "building tree 19 of 50\n",
            "building tree 20 of 50\n",
            "building tree 21 of 50\n",
            "building tree 22 of 50\n",
            "building tree 23 of 50\n",
            "building tree 24 of 50\n",
            "building tree 25 of 50\n",
            "building tree 26 of 50\n",
            "building tree 27 of 50\n",
            "building tree 28 of 50\n",
            "building tree 29 of 50\n",
            "building tree 30 of 50\n",
            "building tree 31 of 50\n",
            "building tree 32 of 50\n",
            "building tree 33 of 50\n",
            "building tree 34 of 50\n",
            "building tree 35 of 50\n",
            "building tree 36 of 50\n",
            "building tree 37 of 50\n",
            "building tree 38 of 50\n",
            "building tree 39 of 50\n",
            "building tree 40 of 50\n",
            "building tree 41 of 50\n",
            "building tree 42 of 50\n",
            "building tree 43 of 50\n",
            "building tree 44 of 50\n",
            "building tree 45 of 50\n",
            "building tree 46 of 50\n",
            "building tree 47 of 50\n",
            "building tree 48 of 50\n",
            "building tree 49 of 50\n",
            "building tree 50 of 50\n"
          ],
          "name": "stdout"
        },
        {
          "output_type": "stream",
          "text": [
            "[Parallel(n_jobs=1)]: Done  50 out of  50 | elapsed:   36.0s finished\n",
            "[Parallel(n_jobs=1)]: Using backend SequentialBackend with 1 concurrent workers.\n",
            "[Parallel(n_jobs=1)]: Done   1 out of   1 | elapsed:    0.0s remaining:    0.0s\n",
            "[Parallel(n_jobs=1)]: Done  50 out of  50 | elapsed:    0.7s finished\n",
            "[Parallel(n_jobs=1)]: Using backend SequentialBackend with 1 concurrent workers.\n",
            "[Parallel(n_jobs=1)]: Done   1 out of   1 | elapsed:    0.0s remaining:    0.0s\n"
          ],
          "name": "stderr"
        },
        {
          "output_type": "stream",
          "text": [
            "Default score: -0.7437605471178612\n",
            "Accuracy is: 0.7369511797969032\n",
            "F1 is: 0.7786482531019863\n",
            "None\n",
            "Default score: -1.12886433176702\n",
            "Accuracy is: 0.577543437875642\n",
            "F1 is: 0.6848492356073399\n",
            "None\n"
          ],
          "name": "stdout"
        },
        {
          "output_type": "stream",
          "text": [
            "[Parallel(n_jobs=1)]: Done  50 out of  50 | elapsed:    0.6s finished\n"
          ],
          "name": "stderr"
        }
      ]
    },
    {
      "cell_type": "code",
      "metadata": {
        "id": "adRRBdn9BZvb",
        "colab": {
          "base_uri": "https://localhost:8080/",
          "height": 123
        },
        "outputId": "9b61b3ea-6a4e-4b29-98f0-6445ac00b567"
      },
      "source": [
        "pred_val2 = model2.predict(valid1)\n",
        "pred_test2 = model2.predict(valid2)"
      ],
      "execution_count": null,
      "outputs": [
        {
          "output_type": "stream",
          "text": [
            "[Parallel(n_jobs=1)]: Using backend SequentialBackend with 1 concurrent workers.\n",
            "[Parallel(n_jobs=1)]: Done   1 out of   1 | elapsed:    0.0s remaining:    0.0s\n",
            "[Parallel(n_jobs=1)]: Done  50 out of  50 | elapsed:    0.5s finished\n",
            "[Parallel(n_jobs=1)]: Using backend SequentialBackend with 1 concurrent workers.\n",
            "[Parallel(n_jobs=1)]: Done   1 out of   1 | elapsed:    0.0s remaining:    0.0s\n",
            "[Parallel(n_jobs=1)]: Done  50 out of  50 | elapsed:    0.5s finished\n"
          ],
          "name": "stderr"
        }
      ]
    },
    {
      "cell_type": "code",
      "metadata": {
        "id": "YnqxdSR_Dm9W",
        "colab": {
          "base_uri": "https://localhost:8080/",
          "height": 1000
        },
        "outputId": "05504f40-0add-48ff-d4c8-060d49e65c0a"
      },
      "source": [
        "x_train, x_test, y_train, y_test = ms.train_test_split(traindata, lithology, test_size=0.2, random_state=42, stratify=lithology)\n",
        "\n",
        "cat3 = CatBoostClassifier(n_estimators=50000, random_state=566, learning_rate=0.3, max_depth=6,\n",
        "                                  use_best_model=True, task_type='GPU',\n",
        "                                  eval_metric='MultiClass', verbose=100, reg_lambda=20)\n",
        "cat3.fit(x_train, y_train, eval_set=[(x_test, y_test)], early_stopping_rounds=100, verbose_eval=100)\n",
        "pred2 = cat3.predict(validation1)\n",
        "pred_test2 = cat3.predict(validation2)"
      ],
      "execution_count": null,
      "outputs": [
        {
          "output_type": "stream",
          "text": [
            "0:\tlearn: 1.1396096\ttest: 1.1412039\tbest: 1.1412039 (0)\ttotal: 63.7ms\tremaining: 53m 3s\n",
            "100:\tlearn: 0.3340499\ttest: 0.3359450\tbest: 0.3359450 (100)\ttotal: 3.7s\tremaining: 30m 27s\n",
            "200:\tlearn: 0.2844945\ttest: 0.2878293\tbest: 0.2878293 (200)\ttotal: 7.18s\tremaining: 29m 39s\n",
            "300:\tlearn: 0.2594401\ttest: 0.2643192\tbest: 0.2643192 (300)\ttotal: 10.7s\tremaining: 29m 27s\n",
            "400:\tlearn: 0.2437027\ttest: 0.2498864\tbest: 0.2498864 (400)\ttotal: 14.2s\tremaining: 29m 12s\n",
            "500:\tlearn: 0.2309506\ttest: 0.2383484\tbest: 0.2383484 (500)\ttotal: 17.7s\tremaining: 29m 6s\n",
            "600:\tlearn: 0.2207734\ttest: 0.2292475\tbest: 0.2292475 (600)\ttotal: 21.2s\tremaining: 29m 2s\n",
            "700:\tlearn: 0.2126534\ttest: 0.2222716\tbest: 0.2222716 (700)\ttotal: 24.7s\tremaining: 28m 59s\n",
            "800:\tlearn: 0.2056781\ttest: 0.2163515\tbest: 0.2163515 (800)\ttotal: 28.3s\tremaining: 28m 56s\n",
            "900:\tlearn: 0.1997551\ttest: 0.2115707\tbest: 0.2115707 (900)\ttotal: 31.8s\tremaining: 28m 53s\n",
            "1000:\tlearn: 0.1945055\ttest: 0.2074679\tbest: 0.2074679 (1000)\ttotal: 35.3s\tremaining: 28m 49s\n",
            "1100:\tlearn: 0.1897876\ttest: 0.2036194\tbest: 0.2036194 (1100)\ttotal: 38.9s\tremaining: 28m 46s\n",
            "1200:\tlearn: 0.1851404\ttest: 0.1998630\tbest: 0.1998630 (1200)\ttotal: 42.4s\tremaining: 28m 44s\n",
            "1300:\tlearn: 0.1814071\ttest: 0.1971179\tbest: 0.1971179 (1300)\ttotal: 46s\tremaining: 28m 41s\n",
            "1400:\tlearn: 0.1777521\ttest: 0.1944322\tbest: 0.1944322 (1400)\ttotal: 49.6s\tremaining: 28m 39s\n",
            "1500:\tlearn: 0.1743792\ttest: 0.1918967\tbest: 0.1918967 (1500)\ttotal: 53.1s\tremaining: 28m 36s\n",
            "1600:\tlearn: 0.1713930\ttest: 0.1897717\tbest: 0.1897717 (1600)\ttotal: 56.7s\tremaining: 28m 34s\n",
            "1700:\tlearn: 0.1682658\ttest: 0.1875513\tbest: 0.1875513 (1700)\ttotal: 1m\tremaining: 28m 33s\n",
            "1800:\tlearn: 0.1655385\ttest: 0.1855715\tbest: 0.1855715 (1800)\ttotal: 1m 3s\tremaining: 28m 30s\n",
            "1900:\tlearn: 0.1630101\ttest: 0.1837912\tbest: 0.1837912 (1900)\ttotal: 1m 7s\tremaining: 28m 28s\n",
            "2000:\tlearn: 0.1604667\ttest: 0.1820046\tbest: 0.1820046 (2000)\ttotal: 1m 11s\tremaining: 28m 25s\n",
            "2100:\tlearn: 0.1581745\ttest: 0.1804121\tbest: 0.1804121 (2100)\ttotal: 1m 14s\tremaining: 28m 22s\n",
            "2200:\tlearn: 0.1558689\ttest: 0.1788502\tbest: 0.1788502 (2200)\ttotal: 1m 18s\tremaining: 28m 19s\n",
            "2300:\tlearn: 0.1537258\ttest: 0.1775001\tbest: 0.1774945 (2299)\ttotal: 1m 21s\tremaining: 28m 17s\n",
            "2400:\tlearn: 0.1515806\ttest: 0.1760748\tbest: 0.1760748 (2400)\ttotal: 1m 25s\tremaining: 28m 15s\n",
            "2500:\tlearn: 0.1493794\ttest: 0.1746060\tbest: 0.1746060 (2500)\ttotal: 1m 29s\tremaining: 28m 13s\n",
            "2600:\tlearn: 0.1474565\ttest: 0.1733419\tbest: 0.1733419 (2600)\ttotal: 1m 32s\tremaining: 28m 11s\n",
            "2700:\tlearn: 0.1457125\ttest: 0.1722122\tbest: 0.1722122 (2700)\ttotal: 1m 36s\tremaining: 28m 8s\n",
            "2800:\tlearn: 0.1439820\ttest: 0.1711627\tbest: 0.1711619 (2799)\ttotal: 1m 40s\tremaining: 28m 5s\n",
            "2900:\tlearn: 0.1421992\ttest: 0.1700432\tbest: 0.1700432 (2900)\ttotal: 1m 43s\tremaining: 28m 2s\n",
            "3000:\tlearn: 0.1405728\ttest: 0.1690902\tbest: 0.1690902 (3000)\ttotal: 1m 47s\tremaining: 27m 59s\n",
            "3100:\tlearn: 0.1390109\ttest: 0.1681085\tbest: 0.1681085 (3100)\ttotal: 1m 50s\tremaining: 27m 57s\n",
            "3200:\tlearn: 0.1374161\ttest: 0.1671129\tbest: 0.1671129 (3200)\ttotal: 1m 54s\tremaining: 27m 54s\n",
            "3300:\tlearn: 0.1359664\ttest: 0.1662268\tbest: 0.1662268 (3300)\ttotal: 1m 58s\tremaining: 27m 51s\n",
            "3400:\tlearn: 0.1344889\ttest: 0.1652749\tbest: 0.1652749 (3400)\ttotal: 2m 1s\tremaining: 27m 49s\n",
            "3500:\tlearn: 0.1331200\ttest: 0.1644872\tbest: 0.1644872 (3500)\ttotal: 2m 5s\tremaining: 27m 46s\n",
            "3600:\tlearn: 0.1317294\ttest: 0.1636626\tbest: 0.1636626 (3600)\ttotal: 2m 9s\tremaining: 27m 43s\n",
            "3700:\tlearn: 0.1304680\ttest: 0.1629907\tbest: 0.1629907 (3700)\ttotal: 2m 12s\tremaining: 27m 40s\n",
            "3800:\tlearn: 0.1290894\ttest: 0.1621015\tbest: 0.1621015 (3800)\ttotal: 2m 16s\tremaining: 27m 37s\n",
            "3900:\tlearn: 0.1278255\ttest: 0.1613925\tbest: 0.1613925 (3900)\ttotal: 2m 20s\tremaining: 27m 34s\n",
            "4000:\tlearn: 0.1265880\ttest: 0.1606788\tbest: 0.1606788 (4000)\ttotal: 2m 23s\tremaining: 27m 31s\n",
            "4100:\tlearn: 0.1254040\ttest: 0.1599862\tbest: 0.1599860 (4098)\ttotal: 2m 27s\tremaining: 27m 28s\n",
            "4200:\tlearn: 0.1242425\ttest: 0.1593267\tbest: 0.1593267 (4200)\ttotal: 2m 30s\tremaining: 27m 24s\n",
            "4300:\tlearn: 0.1230946\ttest: 0.1586771\tbest: 0.1586768 (4299)\ttotal: 2m 34s\tremaining: 27m 21s\n",
            "4400:\tlearn: 0.1219814\ttest: 0.1579290\tbest: 0.1579290 (4400)\ttotal: 2m 38s\tremaining: 27m 18s\n",
            "4500:\tlearn: 0.1208822\ttest: 0.1572916\tbest: 0.1572916 (4500)\ttotal: 2m 41s\tremaining: 27m 15s\n",
            "4600:\tlearn: 0.1198267\ttest: 0.1567616\tbest: 0.1567616 (4600)\ttotal: 2m 45s\tremaining: 27m 11s\n",
            "4700:\tlearn: 0.1187542\ttest: 0.1561254\tbest: 0.1561253 (4699)\ttotal: 2m 49s\tremaining: 27m 8s\n",
            "4800:\tlearn: 0.1176667\ttest: 0.1555034\tbest: 0.1555034 (4800)\ttotal: 2m 52s\tremaining: 27m 5s\n",
            "4900:\tlearn: 0.1165528\ttest: 0.1548799\tbest: 0.1548799 (4900)\ttotal: 2m 56s\tremaining: 27m 2s\n",
            "5000:\tlearn: 0.1155614\ttest: 0.1542792\tbest: 0.1542792 (5000)\ttotal: 2m 59s\tremaining: 26m 59s\n",
            "5100:\tlearn: 0.1145297\ttest: 0.1537153\tbest: 0.1537146 (5099)\ttotal: 3m 3s\tremaining: 26m 56s\n",
            "5200:\tlearn: 0.1136566\ttest: 0.1532651\tbest: 0.1532651 (5200)\ttotal: 3m 7s\tremaining: 26m 52s\n",
            "5300:\tlearn: 0.1127285\ttest: 0.1527572\tbest: 0.1527572 (5300)\ttotal: 3m 10s\tremaining: 26m 49s\n",
            "5400:\tlearn: 0.1118358\ttest: 0.1522265\tbest: 0.1522236 (5399)\ttotal: 3m 14s\tremaining: 26m 45s\n",
            "5500:\tlearn: 0.1109124\ttest: 0.1517004\tbest: 0.1517004 (5500)\ttotal: 3m 18s\tremaining: 26m 42s\n",
            "5600:\tlearn: 0.1100312\ttest: 0.1512158\tbest: 0.1512158 (5600)\ttotal: 3m 21s\tremaining: 26m 39s\n",
            "5700:\tlearn: 0.1091441\ttest: 0.1507697\tbest: 0.1507697 (5700)\ttotal: 3m 25s\tremaining: 26m 36s\n",
            "5800:\tlearn: 0.1082906\ttest: 0.1502958\tbest: 0.1502958 (5800)\ttotal: 3m 29s\tremaining: 26m 33s\n",
            "5900:\tlearn: 0.1074826\ttest: 0.1499075\tbest: 0.1499075 (5900)\ttotal: 3m 32s\tremaining: 26m 29s\n",
            "6000:\tlearn: 0.1066229\ttest: 0.1494902\tbest: 0.1494902 (6000)\ttotal: 3m 36s\tremaining: 26m 26s\n",
            "6100:\tlearn: 0.1058547\ttest: 0.1491374\tbest: 0.1491374 (6100)\ttotal: 3m 40s\tremaining: 26m 23s\n",
            "6200:\tlearn: 0.1050550\ttest: 0.1486950\tbest: 0.1486950 (6200)\ttotal: 3m 43s\tremaining: 26m 19s\n",
            "6300:\tlearn: 0.1042709\ttest: 0.1483146\tbest: 0.1483146 (6300)\ttotal: 3m 47s\tremaining: 26m 16s\n",
            "6400:\tlearn: 0.1035267\ttest: 0.1479498\tbest: 0.1479484 (6399)\ttotal: 3m 50s\tremaining: 26m 12s\n",
            "6500:\tlearn: 0.1027735\ttest: 0.1475845\tbest: 0.1475845 (6500)\ttotal: 3m 54s\tremaining: 26m 9s\n",
            "6600:\tlearn: 0.1020456\ttest: 0.1473011\tbest: 0.1473011 (6600)\ttotal: 3m 58s\tremaining: 26m 6s\n",
            "6700:\tlearn: 0.1012671\ttest: 0.1469205\tbest: 0.1469205 (6700)\ttotal: 4m 1s\tremaining: 26m 2s\n",
            "6800:\tlearn: 0.1005431\ttest: 0.1465387\tbest: 0.1465387 (6800)\ttotal: 4m 5s\tremaining: 25m 59s\n",
            "6900:\tlearn: 0.0998648\ttest: 0.1462173\tbest: 0.1462173 (6900)\ttotal: 4m 9s\tremaining: 25m 56s\n",
            "7000:\tlearn: 0.0992550\ttest: 0.1458807\tbest: 0.1458807 (7000)\ttotal: 4m 12s\tremaining: 25m 52s\n",
            "7100:\tlearn: 0.0985978\ttest: 0.1455751\tbest: 0.1455751 (7100)\ttotal: 4m 16s\tremaining: 25m 48s\n",
            "7200:\tlearn: 0.0979555\ttest: 0.1452454\tbest: 0.1452454 (7200)\ttotal: 4m 20s\tremaining: 25m 45s\n",
            "7300:\tlearn: 0.0972729\ttest: 0.1448787\tbest: 0.1448761 (7298)\ttotal: 4m 23s\tremaining: 25m 41s\n",
            "7400:\tlearn: 0.0966203\ttest: 0.1445429\tbest: 0.1445429 (7400)\ttotal: 4m 27s\tremaining: 25m 38s\n",
            "7500:\tlearn: 0.0959608\ttest: 0.1442091\tbest: 0.1442091 (7500)\ttotal: 4m 30s\tremaining: 25m 34s\n",
            "7600:\tlearn: 0.0953372\ttest: 0.1440030\tbest: 0.1439955 (7595)\ttotal: 4m 34s\tremaining: 25m 31s\n",
            "7700:\tlearn: 0.0947167\ttest: 0.1436951\tbest: 0.1436933 (7699)\ttotal: 4m 38s\tremaining: 25m 28s\n",
            "7800:\tlearn: 0.0941365\ttest: 0.1434187\tbest: 0.1434187 (7800)\ttotal: 4m 41s\tremaining: 25m 24s\n",
            "7900:\tlearn: 0.0935160\ttest: 0.1431533\tbest: 0.1431533 (7900)\ttotal: 4m 45s\tremaining: 25m 21s\n",
            "8000:\tlearn: 0.0928898\ttest: 0.1428453\tbest: 0.1428453 (8000)\ttotal: 4m 49s\tremaining: 25m 17s\n",
            "8100:\tlearn: 0.0923390\ttest: 0.1425790\tbest: 0.1425784 (8099)\ttotal: 4m 52s\tremaining: 25m 14s\n",
            "8200:\tlearn: 0.0916897\ttest: 0.1422979\tbest: 0.1422979 (8200)\ttotal: 4m 56s\tremaining: 25m 11s\n",
            "8300:\tlearn: 0.0911199\ttest: 0.1420730\tbest: 0.1420730 (8300)\ttotal: 5m\tremaining: 25m 7s\n",
            "8400:\tlearn: 0.0905219\ttest: 0.1417834\tbest: 0.1417834 (8400)\ttotal: 5m 3s\tremaining: 25m 4s\n",
            "8500:\tlearn: 0.0899523\ttest: 0.1414862\tbest: 0.1414862 (8500)\ttotal: 5m 7s\tremaining: 25m\n",
            "8600:\tlearn: 0.0893809\ttest: 0.1411692\tbest: 0.1411690 (8599)\ttotal: 5m 11s\tremaining: 24m 57s\n",
            "8700:\tlearn: 0.0888559\ttest: 0.1409269\tbest: 0.1409269 (8700)\ttotal: 5m 14s\tremaining: 24m 53s\n",
            "8800:\tlearn: 0.0883559\ttest: 0.1406978\tbest: 0.1406978 (8800)\ttotal: 5m 18s\tremaining: 24m 50s\n",
            "8900:\tlearn: 0.0878241\ttest: 0.1404117\tbest: 0.1404117 (8900)\ttotal: 5m 21s\tremaining: 24m 46s\n",
            "9000:\tlearn: 0.0872670\ttest: 0.1401592\tbest: 0.1401592 (9000)\ttotal: 5m 25s\tremaining: 24m 43s\n",
            "9100:\tlearn: 0.0867468\ttest: 0.1399132\tbest: 0.1399132 (9100)\ttotal: 5m 29s\tremaining: 24m 39s\n",
            "9200:\tlearn: 0.0862276\ttest: 0.1396449\tbest: 0.1396449 (9200)\ttotal: 5m 32s\tremaining: 24m 36s\n",
            "9300:\tlearn: 0.0857291\ttest: 0.1394209\tbest: 0.1394209 (9300)\ttotal: 5m 36s\tremaining: 24m 32s\n",
            "9400:\tlearn: 0.0852665\ttest: 0.1391921\tbest: 0.1391921 (9400)\ttotal: 5m 40s\tremaining: 24m 29s\n",
            "9500:\tlearn: 0.0847819\ttest: 0.1389885\tbest: 0.1389881 (9499)\ttotal: 5m 43s\tremaining: 24m 25s\n",
            "9600:\tlearn: 0.0843064\ttest: 0.1388328\tbest: 0.1388277 (9596)\ttotal: 5m 47s\tremaining: 24m 22s\n",
            "9700:\tlearn: 0.0837960\ttest: 0.1385848\tbest: 0.1385810 (9697)\ttotal: 5m 51s\tremaining: 24m 18s\n",
            "9800:\tlearn: 0.0833503\ttest: 0.1384184\tbest: 0.1384184 (9800)\ttotal: 5m 54s\tremaining: 24m 14s\n",
            "9900:\tlearn: 0.0828679\ttest: 0.1382022\tbest: 0.1382022 (9900)\ttotal: 5m 58s\tremaining: 24m 11s\n",
            "10000:\tlearn: 0.0824253\ttest: 0.1380055\tbest: 0.1380017 (9998)\ttotal: 6m 1s\tremaining: 24m 7s\n",
            "10100:\tlearn: 0.0819527\ttest: 0.1377727\tbest: 0.1377663 (10097)\ttotal: 6m 5s\tremaining: 24m 4s\n",
            "10200:\tlearn: 0.0814877\ttest: 0.1375947\tbest: 0.1375947 (10200)\ttotal: 6m 9s\tremaining: 24m\n",
            "10300:\tlearn: 0.0810274\ttest: 0.1374178\tbest: 0.1374178 (10300)\ttotal: 6m 12s\tremaining: 23m 57s\n",
            "10400:\tlearn: 0.0806002\ttest: 0.1372247\tbest: 0.1372202 (10397)\ttotal: 6m 16s\tremaining: 23m 53s\n",
            "10500:\tlearn: 0.0801407\ttest: 0.1370296\tbest: 0.1370296 (10500)\ttotal: 6m 20s\tremaining: 23m 50s\n",
            "10600:\tlearn: 0.0797080\ttest: 0.1368388\tbest: 0.1368349 (10597)\ttotal: 6m 23s\tremaining: 23m 46s\n",
            "10700:\tlearn: 0.0792836\ttest: 0.1366657\tbest: 0.1366654 (10699)\ttotal: 6m 27s\tremaining: 23m 43s\n",
            "10800:\tlearn: 0.0788631\ttest: 0.1364524\tbest: 0.1364524 (10800)\ttotal: 6m 31s\tremaining: 23m 39s\n",
            "10900:\tlearn: 0.0784082\ttest: 0.1362665\tbest: 0.1362665 (10900)\ttotal: 6m 34s\tremaining: 23m 36s\n",
            "11000:\tlearn: 0.0779717\ttest: 0.1361173\tbest: 0.1361173 (11000)\ttotal: 6m 38s\tremaining: 23m 32s\n",
            "11100:\tlearn: 0.0775824\ttest: 0.1359943\tbest: 0.1359938 (11099)\ttotal: 6m 42s\tremaining: 23m 28s\n",
            "11200:\tlearn: 0.0771918\ttest: 0.1358189\tbest: 0.1358142 (11196)\ttotal: 6m 45s\tremaining: 23m 25s\n",
            "11300:\tlearn: 0.0767794\ttest: 0.1356585\tbest: 0.1356585 (11300)\ttotal: 6m 49s\tremaining: 23m 21s\n",
            "11400:\tlearn: 0.0763682\ttest: 0.1354723\tbest: 0.1354715 (11399)\ttotal: 6m 52s\tremaining: 23m 18s\n",
            "11500:\tlearn: 0.0759945\ttest: 0.1353525\tbest: 0.1353492 (11492)\ttotal: 6m 56s\tremaining: 23m 14s\n",
            "11600:\tlearn: 0.0755867\ttest: 0.1351758\tbest: 0.1351758 (11600)\ttotal: 7m\tremaining: 23m 10s\n",
            "11700:\tlearn: 0.0752088\ttest: 0.1349890\tbest: 0.1349890 (11700)\ttotal: 7m 3s\tremaining: 23m 7s\n",
            "11800:\tlearn: 0.0748251\ttest: 0.1348373\tbest: 0.1348373 (11800)\ttotal: 7m 7s\tremaining: 23m 3s\n",
            "11900:\tlearn: 0.0744415\ttest: 0.1346740\tbest: 0.1346735 (11899)\ttotal: 7m 11s\tremaining: 23m\n",
            "12000:\tlearn: 0.0740524\ttest: 0.1344960\tbest: 0.1344960 (12000)\ttotal: 7m 14s\tremaining: 22m 56s\n",
            "12100:\tlearn: 0.0736661\ttest: 0.1343734\tbest: 0.1343733 (12099)\ttotal: 7m 18s\tremaining: 22m 53s\n",
            "12200:\tlearn: 0.0733101\ttest: 0.1341931\tbest: 0.1341921 (12198)\ttotal: 7m 22s\tremaining: 22m 49s\n",
            "12300:\tlearn: 0.0729841\ttest: 0.1340862\tbest: 0.1340858 (12299)\ttotal: 7m 25s\tremaining: 22m 45s\n",
            "12400:\tlearn: 0.0726066\ttest: 0.1339741\tbest: 0.1339730 (12399)\ttotal: 7m 29s\tremaining: 22m 42s\n",
            "12500:\tlearn: 0.0722499\ttest: 0.1338580\tbest: 0.1338580 (12500)\ttotal: 7m 32s\tremaining: 22m 38s\n",
            "12600:\tlearn: 0.0718765\ttest: 0.1337267\tbest: 0.1337267 (12600)\ttotal: 7m 36s\tremaining: 22m 35s\n",
            "12700:\tlearn: 0.0715191\ttest: 0.1335738\tbest: 0.1335738 (12700)\ttotal: 7m 40s\tremaining: 22m 31s\n",
            "12800:\tlearn: 0.0711705\ttest: 0.1334238\tbest: 0.1334207 (12799)\ttotal: 7m 43s\tremaining: 22m 28s\n",
            "12900:\tlearn: 0.0708099\ttest: 0.1332846\tbest: 0.1332846 (12900)\ttotal: 7m 47s\tremaining: 22m 24s\n",
            "13000:\tlearn: 0.0704647\ttest: 0.1331768\tbest: 0.1331741 (12997)\ttotal: 7m 51s\tremaining: 22m 21s\n",
            "13100:\tlearn: 0.0701475\ttest: 0.1330753\tbest: 0.1330753 (13100)\ttotal: 7m 54s\tremaining: 22m 17s\n",
            "13200:\tlearn: 0.0697691\ttest: 0.1329127\tbest: 0.1329127 (13200)\ttotal: 7m 58s\tremaining: 22m 13s\n",
            "13300:\tlearn: 0.0694529\ttest: 0.1328010\tbest: 0.1328010 (13300)\ttotal: 8m 2s\tremaining: 22m 10s\n",
            "13400:\tlearn: 0.0691137\ttest: 0.1326780\tbest: 0.1326754 (13399)\ttotal: 8m 5s\tremaining: 22m 6s\n",
            "13500:\tlearn: 0.0687794\ttest: 0.1325652\tbest: 0.1325652 (13500)\ttotal: 8m 9s\tremaining: 22m 3s\n",
            "13600:\tlearn: 0.0684542\ttest: 0.1324460\tbest: 0.1324458 (13595)\ttotal: 8m 13s\tremaining: 21m 59s\n",
            "13700:\tlearn: 0.0681114\ttest: 0.1322949\tbest: 0.1322949 (13700)\ttotal: 8m 16s\tremaining: 21m 56s\n",
            "13800:\tlearn: 0.0678033\ttest: 0.1321956\tbest: 0.1321853 (13791)\ttotal: 8m 20s\tremaining: 21m 52s\n",
            "13900:\tlearn: 0.0674645\ttest: 0.1320810\tbest: 0.1320810 (13900)\ttotal: 8m 24s\tremaining: 21m 48s\n",
            "14000:\tlearn: 0.0671492\ttest: 0.1319723\tbest: 0.1319723 (14000)\ttotal: 8m 27s\tremaining: 21m 45s\n",
            "14100:\tlearn: 0.0668311\ttest: 0.1318489\tbest: 0.1318463 (14097)\ttotal: 8m 31s\tremaining: 21m 41s\n",
            "14200:\tlearn: 0.0665146\ttest: 0.1317225\tbest: 0.1317225 (14200)\ttotal: 8m 34s\tremaining: 21m 38s\n",
            "14300:\tlearn: 0.0662062\ttest: 0.1315901\tbest: 0.1315901 (14300)\ttotal: 8m 38s\tremaining: 21m 34s\n",
            "14400:\tlearn: 0.0659143\ttest: 0.1315294\tbest: 0.1315294 (14400)\ttotal: 8m 42s\tremaining: 21m 30s\n",
            "14500:\tlearn: 0.0655900\ttest: 0.1314455\tbest: 0.1314421 (14491)\ttotal: 8m 45s\tremaining: 21m 27s\n",
            "14600:\tlearn: 0.0652959\ttest: 0.1313613\tbest: 0.1313604 (14598)\ttotal: 8m 49s\tremaining: 21m 23s\n",
            "14700:\tlearn: 0.0650186\ttest: 0.1312750\tbest: 0.1312684 (14696)\ttotal: 8m 53s\tremaining: 21m 20s\n",
            "14800:\tlearn: 0.0647204\ttest: 0.1311761\tbest: 0.1311729 (14797)\ttotal: 8m 56s\tremaining: 21m 16s\n",
            "14900:\tlearn: 0.0644003\ttest: 0.1310680\tbest: 0.1310680 (14900)\ttotal: 9m\tremaining: 21m 13s\n",
            "15000:\tlearn: 0.0640798\ttest: 0.1309562\tbest: 0.1309562 (15000)\ttotal: 9m 4s\tremaining: 21m 9s\n",
            "15100:\tlearn: 0.0637965\ttest: 0.1308635\tbest: 0.1308603 (15096)\ttotal: 9m 7s\tremaining: 21m 5s\n",
            "15200:\tlearn: 0.0634955\ttest: 0.1307485\tbest: 0.1307458 (15193)\ttotal: 9m 11s\tremaining: 21m 2s\n",
            "15300:\tlearn: 0.0632161\ttest: 0.1306769\tbest: 0.1306721 (15295)\ttotal: 9m 15s\tremaining: 20m 58s\n",
            "15400:\tlearn: 0.0629314\ttest: 0.1305960\tbest: 0.1305960 (15400)\ttotal: 9m 18s\tremaining: 20m 55s\n",
            "15500:\tlearn: 0.0626634\ttest: 0.1304727\tbest: 0.1304670 (15498)\ttotal: 9m 22s\tremaining: 20m 51s\n",
            "15600:\tlearn: 0.0624038\ttest: 0.1303911\tbest: 0.1303911 (15600)\ttotal: 9m 26s\tremaining: 20m 47s\n",
            "15700:\tlearn: 0.0621357\ttest: 0.1302818\tbest: 0.1302794 (15699)\ttotal: 9m 29s\tremaining: 20m 44s\n",
            "15800:\tlearn: 0.0618766\ttest: 0.1302435\tbest: 0.1302396 (15783)\ttotal: 9m 33s\tremaining: 20m 40s\n",
            "15900:\tlearn: 0.0615983\ttest: 0.1301601\tbest: 0.1301591 (15899)\ttotal: 9m 36s\tremaining: 20m 37s\n",
            "16000:\tlearn: 0.0613492\ttest: 0.1300656\tbest: 0.1300656 (16000)\ttotal: 9m 40s\tremaining: 20m 33s\n",
            "16100:\tlearn: 0.0610786\ttest: 0.1299230\tbest: 0.1299230 (16100)\ttotal: 9m 44s\tremaining: 20m 30s\n",
            "16200:\tlearn: 0.0608192\ttest: 0.1298439\tbest: 0.1298439 (16200)\ttotal: 9m 47s\tremaining: 20m 26s\n",
            "16300:\tlearn: 0.0605611\ttest: 0.1297839\tbest: 0.1297795 (16292)\ttotal: 9m 51s\tremaining: 20m 22s\n",
            "16400:\tlearn: 0.0602852\ttest: 0.1296859\tbest: 0.1296817 (16395)\ttotal: 9m 55s\tremaining: 20m 19s\n",
            "16500:\tlearn: 0.0600146\ttest: 0.1296210\tbest: 0.1296189 (16491)\ttotal: 9m 58s\tremaining: 20m 15s\n",
            "16600:\tlearn: 0.0597668\ttest: 0.1295028\tbest: 0.1295008 (16598)\ttotal: 10m 2s\tremaining: 20m 12s\n",
            "16700:\tlearn: 0.0595079\ttest: 0.1294329\tbest: 0.1294284 (16697)\ttotal: 10m 6s\tremaining: 20m 8s\n",
            "16800:\tlearn: 0.0592516\ttest: 0.1293736\tbest: 0.1293666 (16793)\ttotal: 10m 9s\tremaining: 20m 5s\n",
            "16900:\tlearn: 0.0590046\ttest: 0.1292699\tbest: 0.1292699 (16900)\ttotal: 10m 13s\tremaining: 20m 1s\n",
            "17000:\tlearn: 0.0587658\ttest: 0.1292086\tbest: 0.1292085 (16999)\ttotal: 10m 17s\tremaining: 19m 57s\n",
            "17100:\tlearn: 0.0585346\ttest: 0.1291593\tbest: 0.1291561 (17087)\ttotal: 10m 20s\tremaining: 19m 54s\n",
            "17200:\tlearn: 0.0582916\ttest: 0.1290887\tbest: 0.1290809 (17170)\ttotal: 10m 24s\tremaining: 19m 50s\n",
            "17300:\tlearn: 0.0580596\ttest: 0.1290361\tbest: 0.1290361 (17300)\ttotal: 10m 28s\tremaining: 19m 47s\n",
            "17400:\tlearn: 0.0578348\ttest: 0.1289586\tbest: 0.1289586 (17400)\ttotal: 10m 31s\tremaining: 19m 43s\n",
            "17500:\tlearn: 0.0575934\ttest: 0.1288725\tbest: 0.1288725 (17500)\ttotal: 10m 35s\tremaining: 19m 39s\n",
            "17600:\tlearn: 0.0573532\ttest: 0.1287730\tbest: 0.1287730 (17600)\ttotal: 10m 38s\tremaining: 19m 36s\n",
            "17700:\tlearn: 0.0571056\ttest: 0.1286613\tbest: 0.1286613 (17700)\ttotal: 10m 42s\tremaining: 19m 32s\n",
            "17800:\tlearn: 0.0568870\ttest: 0.1285732\tbest: 0.1285718 (17796)\ttotal: 10m 46s\tremaining: 19m 29s\n",
            "17900:\tlearn: 0.0566439\ttest: 0.1284848\tbest: 0.1284848 (17900)\ttotal: 10m 49s\tremaining: 19m 25s\n",
            "18000:\tlearn: 0.0564030\ttest: 0.1284276\tbest: 0.1284272 (17996)\ttotal: 10m 53s\tremaining: 19m 21s\n",
            "18100:\tlearn: 0.0561779\ttest: 0.1283641\tbest: 0.1283618 (18099)\ttotal: 10m 57s\tremaining: 19m 18s\n",
            "18200:\tlearn: 0.0559665\ttest: 0.1282981\tbest: 0.1282981 (18200)\ttotal: 11m\tremaining: 19m 14s\n",
            "18300:\tlearn: 0.0557313\ttest: 0.1282260\tbest: 0.1282260 (18300)\ttotal: 11m 4s\tremaining: 19m 11s\n",
            "18400:\tlearn: 0.0555194\ttest: 0.1281724\tbest: 0.1281718 (18398)\ttotal: 11m 8s\tremaining: 19m 7s\n",
            "18500:\tlearn: 0.0553078\ttest: 0.1281246\tbest: 0.1281246 (18500)\ttotal: 11m 11s\tremaining: 19m 3s\n",
            "18600:\tlearn: 0.0551035\ttest: 0.1280687\tbest: 0.1280687 (18600)\ttotal: 11m 15s\tremaining: 19m\n",
            "18700:\tlearn: 0.0548846\ttest: 0.1279764\tbest: 0.1279758 (18699)\ttotal: 11m 19s\tremaining: 18m 56s\n",
            "18800:\tlearn: 0.0546455\ttest: 0.1278832\tbest: 0.1278832 (18800)\ttotal: 11m 22s\tremaining: 18m 53s\n",
            "18900:\tlearn: 0.0544369\ttest: 0.1278018\tbest: 0.1278018 (18900)\ttotal: 11m 26s\tremaining: 18m 49s\n",
            "19000:\tlearn: 0.0542261\ttest: 0.1277602\tbest: 0.1277593 (18996)\ttotal: 11m 30s\tremaining: 18m 45s\n",
            "19100:\tlearn: 0.0540123\ttest: 0.1277104\tbest: 0.1277091 (19098)\ttotal: 11m 33s\tremaining: 18m 42s\n",
            "19200:\tlearn: 0.0538313\ttest: 0.1276619\tbest: 0.1276547 (19195)\ttotal: 11m 37s\tremaining: 18m 38s\n",
            "19300:\tlearn: 0.0536190\ttest: 0.1276386\tbest: 0.1276351 (19299)\ttotal: 11m 40s\tremaining: 18m 34s\n",
            "19400:\tlearn: 0.0533894\ttest: 0.1276296\tbest: 0.1276226 (19365)\ttotal: 11m 44s\tremaining: 18m 31s\n",
            "19500:\tlearn: 0.0531757\ttest: 0.1276038\tbest: 0.1276038 (19500)\ttotal: 11m 48s\tremaining: 18m 27s\n",
            "19600:\tlearn: 0.0529860\ttest: 0.1275721\tbest: 0.1275709 (19597)\ttotal: 11m 51s\tremaining: 18m 24s\n",
            "19700:\tlearn: 0.0527859\ttest: 0.1275368\tbest: 0.1275317 (19669)\ttotal: 11m 55s\tremaining: 18m 20s\n",
            "19800:\tlearn: 0.0525934\ttest: 0.1274759\tbest: 0.1274759 (19800)\ttotal: 11m 59s\tremaining: 18m 16s\n",
            "19900:\tlearn: 0.0523940\ttest: 0.1274247\tbest: 0.1274238 (19897)\ttotal: 12m 2s\tremaining: 18m 13s\n",
            "20000:\tlearn: 0.0521940\ttest: 0.1273864\tbest: 0.1273864 (20000)\ttotal: 12m 6s\tremaining: 18m 9s\n",
            "20100:\tlearn: 0.0519863\ttest: 0.1273127\tbest: 0.1273127 (20100)\ttotal: 12m 10s\tremaining: 18m 5s\n",
            "20200:\tlearn: 0.0517842\ttest: 0.1272522\tbest: 0.1272491 (20194)\ttotal: 12m 13s\tremaining: 18m 2s\n",
            "20300:\tlearn: 0.0515757\ttest: 0.1272034\tbest: 0.1272005 (20284)\ttotal: 12m 17s\tremaining: 17m 58s\n",
            "20400:\tlearn: 0.0513653\ttest: 0.1271748\tbest: 0.1271685 (20390)\ttotal: 12m 21s\tremaining: 17m 55s\n",
            "20500:\tlearn: 0.0511646\ttest: 0.1271488\tbest: 0.1271488 (20500)\ttotal: 12m 24s\tremaining: 17m 51s\n",
            "20600:\tlearn: 0.0509721\ttest: 0.1270658\tbest: 0.1270637 (20595)\ttotal: 12m 28s\tremaining: 17m 47s\n",
            "20700:\tlearn: 0.0507754\ttest: 0.1270128\tbest: 0.1270128 (20700)\ttotal: 12m 31s\tremaining: 17m 44s\n",
            "20800:\tlearn: 0.0505829\ttest: 0.1269653\tbest: 0.1269653 (20800)\ttotal: 12m 35s\tremaining: 17m 40s\n",
            "20900:\tlearn: 0.0503844\ttest: 0.1268948\tbest: 0.1268930 (20897)\ttotal: 12m 39s\tremaining: 17m 37s\n",
            "21000:\tlearn: 0.0501806\ttest: 0.1268371\tbest: 0.1268337 (20996)\ttotal: 12m 42s\tremaining: 17m 33s\n",
            "21100:\tlearn: 0.0499905\ttest: 0.1268092\tbest: 0.1268006 (21091)\ttotal: 12m 46s\tremaining: 17m 29s\n",
            "21200:\tlearn: 0.0498139\ttest: 0.1267898\tbest: 0.1267886 (21199)\ttotal: 12m 50s\tremaining: 17m 26s\n",
            "21300:\tlearn: 0.0496407\ttest: 0.1267714\tbest: 0.1267608 (21247)\ttotal: 12m 53s\tremaining: 17m 22s\n",
            "21400:\tlearn: 0.0494502\ttest: 0.1267399\tbest: 0.1267368 (21396)\ttotal: 12m 57s\tremaining: 17m 19s\n",
            "21500:\tlearn: 0.0492568\ttest: 0.1266662\tbest: 0.1266662 (21500)\ttotal: 13m 1s\tremaining: 17m 15s\n",
            "21600:\tlearn: 0.0490832\ttest: 0.1266206\tbest: 0.1266206 (21600)\ttotal: 13m 4s\tremaining: 17m 11s\n",
            "21700:\tlearn: 0.0489100\ttest: 0.1265793\tbest: 0.1265743 (21692)\ttotal: 13m 8s\tremaining: 17m 8s\n",
            "21800:\tlearn: 0.0487336\ttest: 0.1265330\tbest: 0.1265330 (21800)\ttotal: 13m 12s\tremaining: 17m 4s\n",
            "21900:\tlearn: 0.0485672\ttest: 0.1265115\tbest: 0.1265115 (21900)\ttotal: 13m 15s\tremaining: 17m\n",
            "22000:\tlearn: 0.0484010\ttest: 0.1264926\tbest: 0.1264926 (21996)\ttotal: 13m 19s\tremaining: 16m 57s\n",
            "22100:\tlearn: 0.0482337\ttest: 0.1264366\tbest: 0.1264366 (22100)\ttotal: 13m 22s\tremaining: 16m 53s\n",
            "22200:\tlearn: 0.0480547\ttest: 0.1263875\tbest: 0.1263875 (22200)\ttotal: 13m 26s\tremaining: 16m 50s\n",
            "22300:\tlearn: 0.0478839\ttest: 0.1263602\tbest: 0.1263596 (22299)\ttotal: 13m 30s\tremaining: 16m 46s\n",
            "22400:\tlearn: 0.0477196\ttest: 0.1262974\tbest: 0.1262962 (22399)\ttotal: 13m 33s\tremaining: 16m 42s\n",
            "22500:\tlearn: 0.0475550\ttest: 0.1262507\tbest: 0.1262477 (22496)\ttotal: 13m 37s\tremaining: 16m 39s\n",
            "22600:\tlearn: 0.0474013\ttest: 0.1262210\tbest: 0.1262186 (22593)\ttotal: 13m 41s\tremaining: 16m 35s\n",
            "22700:\tlearn: 0.0472256\ttest: 0.1261506\tbest: 0.1261504 (22696)\ttotal: 13m 44s\tremaining: 16m 32s\n",
            "22800:\tlearn: 0.0470459\ttest: 0.1261252\tbest: 0.1261160 (22783)\ttotal: 13m 48s\tremaining: 16m 28s\n",
            "22900:\tlearn: 0.0468723\ttest: 0.1260844\tbest: 0.1260844 (22900)\ttotal: 13m 52s\tremaining: 16m 24s\n",
            "23000:\tlearn: 0.0466978\ttest: 0.1260382\tbest: 0.1260380 (22993)\ttotal: 13m 55s\tremaining: 16m 21s\n",
            "23100:\tlearn: 0.0465436\ttest: 0.1260148\tbest: 0.1260142 (23098)\ttotal: 13m 59s\tremaining: 16m 17s\n",
            "23200:\tlearn: 0.0463668\ttest: 0.1259844\tbest: 0.1259791 (23197)\ttotal: 14m 3s\tremaining: 16m 13s\n",
            "23300:\tlearn: 0.0462013\ttest: 0.1259459\tbest: 0.1259439 (23298)\ttotal: 14m 6s\tremaining: 16m 10s\n",
            "23400:\tlearn: 0.0460386\ttest: 0.1259118\tbest: 0.1259079 (23388)\ttotal: 14m 10s\tremaining: 16m 6s\n",
            "23500:\tlearn: 0.0458886\ttest: 0.1258740\tbest: 0.1258663 (23477)\ttotal: 14m 14s\tremaining: 16m 3s\n",
            "23600:\tlearn: 0.0457293\ttest: 0.1258301\tbest: 0.1258301 (23600)\ttotal: 14m 17s\tremaining: 15m 59s\n",
            "23700:\tlearn: 0.0455666\ttest: 0.1257576\tbest: 0.1257576 (23700)\ttotal: 14m 21s\tremaining: 15m 55s\n",
            "23800:\tlearn: 0.0454067\ttest: 0.1257070\tbest: 0.1257070 (23800)\ttotal: 14m 25s\tremaining: 15m 52s\n",
            "23900:\tlearn: 0.0452648\ttest: 0.1256626\tbest: 0.1256626 (23900)\ttotal: 14m 28s\tremaining: 15m 48s\n",
            "24000:\tlearn: 0.0451084\ttest: 0.1256387\tbest: 0.1256387 (23997)\ttotal: 14m 32s\tremaining: 15m 44s\n",
            "24100:\tlearn: 0.0449462\ttest: 0.1255944\tbest: 0.1255944 (24100)\ttotal: 14m 35s\tremaining: 15m 41s\n",
            "24200:\tlearn: 0.0448066\ttest: 0.1255760\tbest: 0.1255682 (24161)\ttotal: 14m 39s\tremaining: 15m 37s\n",
            "bestTest = 0.1255681657\n",
            "bestIteration = 24161\n",
            "Shrink model to first 24162 iterations.\n"
          ],
          "name": "stdout"
        }
      ]
    },
    {
      "cell_type": "code",
      "metadata": {
        "id": "bG3eZcquDm5r",
        "colab": {
          "base_uri": "https://localhost:8080/",
          "height": 158
        },
        "outputId": "2720bf30-acf5-4327-9abc-a33f2cf73db8"
      },
      "source": [
        "pred1 = cat3.predict(validation1)\n",
        "pred2 = cat3.predict(validation2)\n",
        "\n",
        "print(show_evaluation(pred1, valid1_lithology))\n",
        "print(show_evaluation(pred2, valid2_lithology))"
      ],
      "execution_count": null,
      "outputs": [
        {
          "output_type": "stream",
          "text": [
            "Default score: [-1.17057465]\n",
            "Accuracy is: 0.5949610681824911\n",
            "F1 is: 0.5945539374502371\n",
            "None\n",
            "Default score: [-0.93583761]\n",
            "Accuracy is: 0.6239755218008961\n",
            "F1 is: 0.6979301291233045\n",
            "None\n"
          ],
          "name": "stdout"
        }
      ]
    },
    {
      "cell_type": "code",
      "metadata": {
        "id": "mF3onPqfDm19"
      },
      "source": [
        ""
      ],
      "execution_count": null,
      "outputs": []
    },
    {
      "cell_type": "code",
      "metadata": {
        "id": "4RVyjih7DmyE"
      },
      "source": [
        ""
      ],
      "execution_count": null,
      "outputs": []
    },
    {
      "cell_type": "code",
      "metadata": {
        "id": "K9dBvuQ0Dmth"
      },
      "source": [
        ""
      ],
      "execution_count": null,
      "outputs": []
    },
    {
      "cell_type": "code",
      "metadata": {
        "id": "Tfp5v5FMDmpk"
      },
      "source": [
        ""
      ],
      "execution_count": null,
      "outputs": []
    },
    {
      "cell_type": "code",
      "metadata": {
        "id": "EozpHCDYDmjm"
      },
      "source": [
        ""
      ],
      "execution_count": null,
      "outputs": []
    },
    {
      "cell_type": "code",
      "metadata": {
        "id": "j1K6A8uVDmcw"
      },
      "source": [
        ""
      ],
      "execution_count": null,
      "outputs": []
    },
    {
      "cell_type": "code",
      "metadata": {
        "id": "CuNO4KFjAcgs",
        "colab": {
          "base_uri": "https://localhost:8080/",
          "height": 1000
        },
        "outputId": "1c8c81d7-140e-47b8-f65a-37b387e377b2"
      },
      "source": [
        "model3 = RandomForestClassifier(n_estimators=50, random_state=42, class_weight='balanced', verbose=2)\n",
        "model3.fit(train_ROGALAND, train_ROGALAND_target)\n",
        "\n",
        "pred_val3 = model3.predict(valid1)\n",
        "pred_test3 = model3.predict(valid2)\n",
        "\n",
        "show_evaluation(pred_test3, valid1_target)\n",
        "evaluate(model3)"
      ],
      "execution_count": null,
      "outputs": [
        {
          "output_type": "stream",
          "text": [
            "[Parallel(n_jobs=1)]: Using backend SequentialBackend with 1 concurrent workers.\n"
          ],
          "name": "stderr"
        },
        {
          "output_type": "stream",
          "text": [
            "building tree 1 of 50\n"
          ],
          "name": "stdout"
        },
        {
          "output_type": "stream",
          "text": [
            "[Parallel(n_jobs=1)]: Done   1 out of   1 | elapsed:    0.4s remaining:    0.0s\n"
          ],
          "name": "stderr"
        },
        {
          "output_type": "stream",
          "text": [
            "building tree 2 of 50\n",
            "building tree 3 of 50\n",
            "building tree 4 of 50\n",
            "building tree 5 of 50\n",
            "building tree 6 of 50\n",
            "building tree 7 of 50\n",
            "building tree 8 of 50\n",
            "building tree 9 of 50\n",
            "building tree 10 of 50\n",
            "building tree 11 of 50\n",
            "building tree 12 of 50\n",
            "building tree 13 of 50\n",
            "building tree 14 of 50\n",
            "building tree 15 of 50\n",
            "building tree 16 of 50\n",
            "building tree 17 of 50\n",
            "building tree 18 of 50\n",
            "building tree 19 of 50\n",
            "building tree 20 of 50\n",
            "building tree 21 of 50\n",
            "building tree 22 of 50\n",
            "building tree 23 of 50\n",
            "building tree 24 of 50\n",
            "building tree 25 of 50\n",
            "building tree 26 of 50\n",
            "building tree 27 of 50\n",
            "building tree 28 of 50\n",
            "building tree 29 of 50\n",
            "building tree 30 of 50\n",
            "building tree 31 of 50\n",
            "building tree 32 of 50\n",
            "building tree 33 of 50\n",
            "building tree 34 of 50\n",
            "building tree 35 of 50\n",
            "building tree 36 of 50\n",
            "building tree 37 of 50\n",
            "building tree 38 of 50\n",
            "building tree 39 of 50\n",
            "building tree 40 of 50\n",
            "building tree 41 of 50\n",
            "building tree 42 of 50\n",
            "building tree 43 of 50\n",
            "building tree 44 of 50\n",
            "building tree 45 of 50\n",
            "building tree 46 of 50\n",
            "building tree 47 of 50\n",
            "building tree 48 of 50\n",
            "building tree 49 of 50\n",
            "building tree 50 of 50\n"
          ],
          "name": "stdout"
        },
        {
          "output_type": "stream",
          "text": [
            "[Parallel(n_jobs=1)]: Done  50 out of  50 | elapsed:   19.0s finished\n",
            "[Parallel(n_jobs=1)]: Using backend SequentialBackend with 1 concurrent workers.\n",
            "[Parallel(n_jobs=1)]: Done   1 out of   1 | elapsed:    0.0s remaining:    0.0s\n",
            "[Parallel(n_jobs=1)]: Done  50 out of  50 | elapsed:    0.5s finished\n",
            "[Parallel(n_jobs=1)]: Using backend SequentialBackend with 1 concurrent workers.\n",
            "[Parallel(n_jobs=1)]: Done   1 out of   1 | elapsed:    0.0s remaining:    0.0s\n",
            "[Parallel(n_jobs=1)]: Done  50 out of  50 | elapsed:    0.5s finished\n"
          ],
          "name": "stderr"
        },
        {
          "output_type": "error",
          "ename": "IndexError",
          "evalue": "ignored",
          "traceback": [
            "\u001b[0;31m---------------------------------------------------------------------------\u001b[0m",
            "\u001b[0;31mIndexError\u001b[0m                                Traceback (most recent call last)",
            "\u001b[0;32m<ipython-input-62-d00d3e19a83b>\u001b[0m in \u001b[0;36m<module>\u001b[0;34m()\u001b[0m\n\u001b[1;32m      5\u001b[0m \u001b[0mpred_test3\u001b[0m \u001b[0;34m=\u001b[0m \u001b[0mmodel3\u001b[0m\u001b[0;34m.\u001b[0m\u001b[0mpredict\u001b[0m\u001b[0;34m(\u001b[0m\u001b[0mvalid2\u001b[0m\u001b[0;34m)\u001b[0m\u001b[0;34m\u001b[0m\u001b[0;34m\u001b[0m\u001b[0m\n\u001b[1;32m      6\u001b[0m \u001b[0;34m\u001b[0m\u001b[0m\n\u001b[0;32m----> 7\u001b[0;31m \u001b[0mshow_evaluation\u001b[0m\u001b[0;34m(\u001b[0m\u001b[0mpred_test3\u001b[0m\u001b[0;34m,\u001b[0m \u001b[0mvalid1_target\u001b[0m\u001b[0;34m)\u001b[0m\u001b[0;34m\u001b[0m\u001b[0;34m\u001b[0m\u001b[0m\n\u001b[0m\u001b[1;32m      8\u001b[0m \u001b[0mevaluate\u001b[0m\u001b[0;34m(\u001b[0m\u001b[0mmodel3\u001b[0m\u001b[0;34m)\u001b[0m\u001b[0;34m\u001b[0m\u001b[0;34m\u001b[0m\u001b[0m\n",
            "\u001b[0;32m<ipython-input-2-11cad2b8e615>\u001b[0m in \u001b[0;36mshow_evaluation\u001b[0;34m(pred, true)\u001b[0m\n\u001b[1;32m     51\u001b[0m \u001b[0;34m\u001b[0m\u001b[0m\n\u001b[1;32m     52\u001b[0m \u001b[0;32mdef\u001b[0m \u001b[0mshow_evaluation\u001b[0m\u001b[0;34m(\u001b[0m\u001b[0mpred\u001b[0m\u001b[0;34m,\u001b[0m \u001b[0mtrue\u001b[0m\u001b[0;34m)\u001b[0m\u001b[0;34m:\u001b[0m\u001b[0;34m\u001b[0m\u001b[0;34m\u001b[0m\u001b[0m\n\u001b[0;32m---> 53\u001b[0;31m   \u001b[0mprint\u001b[0m\u001b[0;34m(\u001b[0m\u001b[0;34mf'Default score: {score(true.values, pred)}'\u001b[0m\u001b[0;34m)\u001b[0m\u001b[0;34m\u001b[0m\u001b[0;34m\u001b[0m\u001b[0m\n\u001b[0m\u001b[1;32m     54\u001b[0m   \u001b[0mprint\u001b[0m\u001b[0;34m(\u001b[0m\u001b[0;34mf'Accuracy is: {accuracy_score(true, pred)}'\u001b[0m\u001b[0;34m)\u001b[0m\u001b[0;34m\u001b[0m\u001b[0;34m\u001b[0m\u001b[0m\n\u001b[1;32m     55\u001b[0m   \u001b[0mprint\u001b[0m\u001b[0;34m(\u001b[0m\u001b[0;34mf'F1 is: {f1_score(pred, true.values, average=\"weighted\")}'\u001b[0m\u001b[0;34m)\u001b[0m\u001b[0;34m\u001b[0m\u001b[0;34m\u001b[0m\u001b[0m\n",
            "\u001b[0;32m<ipython-input-3-a4d17305c8e1>\u001b[0m in \u001b[0;36mscore\u001b[0;34m(y_true, y_pred)\u001b[0m\n\u001b[1;32m      6\u001b[0m     \u001b[0my_pred\u001b[0m \u001b[0;34m=\u001b[0m \u001b[0my_pred\u001b[0m\u001b[0;34m.\u001b[0m\u001b[0mastype\u001b[0m\u001b[0;34m(\u001b[0m\u001b[0mint\u001b[0m\u001b[0;34m)\u001b[0m\u001b[0;34m\u001b[0m\u001b[0;34m\u001b[0m\u001b[0m\n\u001b[1;32m      7\u001b[0m     \u001b[0;32mfor\u001b[0m \u001b[0mi\u001b[0m \u001b[0;32min\u001b[0m \u001b[0mrange\u001b[0m\u001b[0;34m(\u001b[0m\u001b[0;36m0\u001b[0m\u001b[0;34m,\u001b[0m \u001b[0my_true\u001b[0m\u001b[0;34m.\u001b[0m\u001b[0mshape\u001b[0m\u001b[0;34m[\u001b[0m\u001b[0;36m0\u001b[0m\u001b[0;34m]\u001b[0m\u001b[0;34m)\u001b[0m\u001b[0;34m:\u001b[0m\u001b[0;34m\u001b[0m\u001b[0;34m\u001b[0m\u001b[0m\n\u001b[0;32m----> 8\u001b[0;31m         \u001b[0mS\u001b[0m \u001b[0;34m-=\u001b[0m \u001b[0mA\u001b[0m\u001b[0;34m[\u001b[0m\u001b[0my_true\u001b[0m\u001b[0;34m[\u001b[0m\u001b[0mi\u001b[0m\u001b[0;34m]\u001b[0m\u001b[0;34m,\u001b[0m \u001b[0my_pred\u001b[0m\u001b[0;34m[\u001b[0m\u001b[0mi\u001b[0m\u001b[0;34m]\u001b[0m\u001b[0;34m]\u001b[0m\u001b[0;34m\u001b[0m\u001b[0;34m\u001b[0m\u001b[0m\n\u001b[0m\u001b[1;32m      9\u001b[0m     \u001b[0;32mreturn\u001b[0m \u001b[0mS\u001b[0m\u001b[0;34m/\u001b[0m\u001b[0my_true\u001b[0m\u001b[0;34m.\u001b[0m\u001b[0mshape\u001b[0m\u001b[0;34m[\u001b[0m\u001b[0;36m0\u001b[0m\u001b[0;34m]\u001b[0m\u001b[0;34m\u001b[0m\u001b[0;34m\u001b[0m\u001b[0m\n\u001b[1;32m     10\u001b[0m \u001b[0;34m\u001b[0m\u001b[0m\n",
            "\u001b[0;31mIndexError\u001b[0m: index 90268 is out of bounds for axis 0 with size 90268"
          ]
        }
      ]
    },
    {
      "cell_type": "code",
      "metadata": {
        "id": "zOXQIhqrCGP0",
        "colab": {
          "base_uri": "https://localhost:8080/",
          "height": 527
        },
        "outputId": "c33f7837-78ee-4d81-8591-41e2148dc858"
      },
      "source": [
        "show_evaluation(pred_val3, valid1_target)\n",
        "evaluate(model3)"
      ],
      "execution_count": null,
      "outputs": [
        {
          "output_type": "stream",
          "text": [
            "Default score: -1.2265713578923498\n",
            "Accuracy is: 0.6021872229895483\n",
            "F1 is: 0.7517064352390939\n"
          ],
          "name": "stdout"
        },
        {
          "output_type": "display_data",
          "data": {
            "image/png": "[encoded data removed]",
            "text/plain": [
              "<Figure size 1728x576 with 1 Axes>"
            ]
          },
          "metadata": {
            "tags": [],
            "needs_background": "light"
          }
        }
      ]
    },
    {
      "cell_type": "code",
      "metadata": {
        "id": "fl-A2N8KB2O5",
        "colab": {
          "base_uri": "https://localhost:8080/",
          "height": 1000
        },
        "outputId": "d92f9983-8248-4990-d2e3-d644c7eeff80"
      },
      "source": [
        "model4 = RandomForestClassifier(n_estimators=50, random_state=42, class_weight='balanced', verbose=2)\n",
        "model4.fit(train_VIKING, train_VIKING_target)\n",
        "\n",
        "pred_val4 = model4.predict(valid1)\n",
        "pred_test4 = model4.predict(valid2)\n",
        "\n",
        "show_evaluation(pred_val4, valid1_target)\n",
        "evaluate(model4)"
      ],
      "execution_count": null,
      "outputs": [
        {
          "output_type": "stream",
          "text": [
            "[Parallel(n_jobs=1)]: Using backend SequentialBackend with 1 concurrent workers.\n"
          ],
          "name": "stderr"
        },
        {
          "output_type": "stream",
          "text": [
            "building tree 1 of 50\n"
          ],
          "name": "stdout"
        },
        {
          "output_type": "stream",
          "text": [
            "[Parallel(n_jobs=1)]: Done   1 out of   1 | elapsed:    0.4s remaining:    0.0s\n"
          ],
          "name": "stderr"
        },
        {
          "output_type": "stream",
          "text": [
            "building tree 2 of 50\n",
            "building tree 3 of 50\n",
            "building tree 4 of 50\n",
            "building tree 5 of 50\n",
            "building tree 6 of 50\n",
            "building tree 7 of 50\n",
            "building tree 8 of 50\n",
            "building tree 9 of 50\n",
            "building tree 10 of 50\n",
            "building tree 11 of 50\n",
            "building tree 12 of 50\n",
            "building tree 13 of 50\n",
            "building tree 14 of 50\n",
            "building tree 15 of 50\n",
            "building tree 16 of 50\n",
            "building tree 17 of 50\n",
            "building tree 18 of 50\n",
            "building tree 19 of 50\n",
            "building tree 20 of 50\n",
            "building tree 21 of 50\n",
            "building tree 22 of 50\n",
            "building tree 23 of 50\n",
            "building tree 24 of 50\n",
            "building tree 25 of 50\n",
            "building tree 26 of 50\n",
            "building tree 27 of 50\n",
            "building tree 28 of 50\n",
            "building tree 29 of 50\n",
            "building tree 30 of 50\n",
            "building tree 31 of 50\n",
            "building tree 32 of 50\n",
            "building tree 33 of 50\n",
            "building tree 34 of 50\n",
            "building tree 35 of 50\n",
            "building tree 36 of 50\n",
            "building tree 37 of 50\n",
            "building tree 38 of 50\n",
            "building tree 39 of 50\n",
            "building tree 40 of 50\n",
            "building tree 41 of 50\n",
            "building tree 42 of 50\n",
            "building tree 43 of 50\n",
            "building tree 44 of 50\n",
            "building tree 45 of 50\n",
            "building tree 46 of 50\n",
            "building tree 47 of 50\n",
            "building tree 48 of 50\n",
            "building tree 49 of 50\n",
            "building tree 50 of 50\n"
          ],
          "name": "stdout"
        },
        {
          "output_type": "stream",
          "text": [
            "[Parallel(n_jobs=1)]: Done  50 out of  50 | elapsed:   20.5s finished\n",
            "[Parallel(n_jobs=1)]: Using backend SequentialBackend with 1 concurrent workers.\n",
            "[Parallel(n_jobs=1)]: Done   1 out of   1 | elapsed:    0.0s remaining:    0.0s\n",
            "[Parallel(n_jobs=1)]: Done  50 out of  50 | elapsed:    0.5s finished\n",
            "[Parallel(n_jobs=1)]: Using backend SequentialBackend with 1 concurrent workers.\n",
            "[Parallel(n_jobs=1)]: Done   1 out of   1 | elapsed:    0.0s remaining:    0.0s\n",
            "[Parallel(n_jobs=1)]: Done  50 out of  50 | elapsed:    0.5s finished\n"
          ],
          "name": "stderr"
        },
        {
          "output_type": "stream",
          "text": [
            "Default score: -1.2265713578923498\n",
            "Accuracy is: 0.6021872229895483\n",
            "F1 is: 0.7517064352390939\n"
          ],
          "name": "stdout"
        },
        {
          "output_type": "display_data",
          "data": {
            "image/png": "[encoded data removed]",
            "text/plain": [
              "<Figure size 1728x576 with 1 Axes>"
            ]
          },
          "metadata": {
            "tags": [],
            "needs_background": "light"
          }
        }
      ]
    },
    {
      "cell_type": "code",
      "metadata": {
        "id": "5MGu8kEvCQnf",
        "colab": {
          "base_uri": "https://localhost:8080/",
          "height": 1000
        },
        "outputId": "c9e5b9e2-40c2-49b4-f0da-d56796acb4c2"
      },
      "source": [
        "model5 = RandomForestClassifier(n_estimators=50, random_state=42, class_weight='balanced', verbose=2)\n",
        "model5.fit(train_DUNLIN, train_DUNLIN_target)\n",
        "\n",
        "pred_val5 = model5.predict(valid1)\n",
        "pred_test5 = model5.predict(valid2)\n",
        "\n",
        "show_evaluation(pred_val5, valid1_target)\n",
        "evaluate(model5)"
      ],
      "execution_count": null,
      "outputs": [
        {
          "output_type": "stream",
          "text": [
            "[Parallel(n_jobs=1)]: Using backend SequentialBackend with 1 concurrent workers.\n"
          ],
          "name": "stderr"
        },
        {
          "output_type": "stream",
          "text": [
            "building tree 1 of 50\n"
          ],
          "name": "stdout"
        },
        {
          "output_type": "stream",
          "text": [
            "[Parallel(n_jobs=1)]: Done   1 out of   1 | elapsed:    0.4s remaining:    0.0s\n"
          ],
          "name": "stderr"
        },
        {
          "output_type": "stream",
          "text": [
            "building tree 2 of 50\n",
            "building tree 3 of 50\n",
            "building tree 4 of 50\n",
            "building tree 5 of 50\n",
            "building tree 6 of 50\n",
            "building tree 7 of 50\n",
            "building tree 8 of 50\n",
            "building tree 9 of 50\n",
            "building tree 10 of 50\n",
            "building tree 11 of 50\n",
            "building tree 12 of 50\n",
            "building tree 13 of 50\n",
            "building tree 14 of 50\n",
            "building tree 15 of 50\n",
            "building tree 16 of 50\n",
            "building tree 17 of 50\n",
            "building tree 18 of 50\n",
            "building tree 19 of 50\n",
            "building tree 20 of 50\n",
            "building tree 21 of 50\n",
            "building tree 22 of 50\n",
            "building tree 23 of 50\n",
            "building tree 24 of 50\n",
            "building tree 25 of 50\n",
            "building tree 26 of 50\n",
            "building tree 27 of 50\n",
            "building tree 28 of 50\n",
            "building tree 29 of 50\n",
            "building tree 30 of 50\n",
            "building tree 31 of 50\n",
            "building tree 32 of 50\n",
            "building tree 33 of 50\n",
            "building tree 34 of 50\n",
            "building tree 35 of 50\n",
            "building tree 36 of 50\n",
            "building tree 37 of 50\n",
            "building tree 38 of 50\n",
            "building tree 39 of 50\n",
            "building tree 40 of 50\n",
            "building tree 41 of 50\n",
            "building tree 42 of 50\n",
            "building tree 43 of 50\n",
            "building tree 44 of 50\n",
            "building tree 45 of 50\n",
            "building tree 46 of 50\n",
            "building tree 47 of 50\n",
            "building tree 48 of 50\n",
            "building tree 49 of 50\n",
            "building tree 50 of 50\n"
          ],
          "name": "stdout"
        },
        {
          "output_type": "stream",
          "text": [
            "[Parallel(n_jobs=1)]: Done  50 out of  50 | elapsed:   19.1s finished\n",
            "[Parallel(n_jobs=1)]: Using backend SequentialBackend with 1 concurrent workers.\n",
            "[Parallel(n_jobs=1)]: Done   1 out of   1 | elapsed:    0.0s remaining:    0.0s\n",
            "[Parallel(n_jobs=1)]: Done  50 out of  50 | elapsed:    0.5s finished\n",
            "[Parallel(n_jobs=1)]: Using backend SequentialBackend with 1 concurrent workers.\n",
            "[Parallel(n_jobs=1)]: Done   1 out of   1 | elapsed:    0.0s remaining:    0.0s\n",
            "[Parallel(n_jobs=1)]: Done  50 out of  50 | elapsed:    0.5s finished\n"
          ],
          "name": "stderr"
        },
        {
          "output_type": "stream",
          "text": [
            "Default score: -1.226607433672102\n",
            "Accuracy is: 0.6021769156239049\n",
            "F1 is: 0.7516532868088598\n"
          ],
          "name": "stdout"
        },
        {
          "output_type": "display_data",
          "data": {
            "image/png": "[encoded data removed]",
            "text/plain": [
              "<Figure size 1728x576 with 1 Axes>"
            ]
          },
          "metadata": {
            "tags": [],
            "needs_background": "light"
          }
        }
      ]
    },
    {
      "cell_type": "code",
      "metadata": {
        "id": "zsc1rwlyCcse",
        "colab": {
          "base_uri": "https://localhost:8080/",
          "height": 1000
        },
        "outputId": "31892b15-60ed-40c7-8277-56ddc698e961"
      },
      "source": [
        "model6 = RandomForestClassifier(n_estimators=50, random_state=42, class_weight='balanced', verbose=2)\n",
        "model6.fit(train_NORDLAND, train_NORDLAND_target)\n",
        "\n",
        "pred_val6 = model6.predict(valid1)\n",
        "pred_test6 = model6.predict(valid2)\n",
        "\n",
        "show_evaluation(pred_val6, valid1_target)\n",
        "evaluate(model6)"
      ],
      "execution_count": null,
      "outputs": [
        {
          "output_type": "stream",
          "text": [
            "[Parallel(n_jobs=1)]: Using backend SequentialBackend with 1 concurrent workers.\n"
          ],
          "name": "stderr"
        },
        {
          "output_type": "stream",
          "text": [
            "building tree 1 of 50\n"
          ],
          "name": "stdout"
        },
        {
          "output_type": "stream",
          "text": [
            "[Parallel(n_jobs=1)]: Done   1 out of   1 | elapsed:    0.2s remaining:    0.0s\n"
          ],
          "name": "stderr"
        },
        {
          "output_type": "stream",
          "text": [
            "building tree 2 of 50\n",
            "building tree 3 of 50\n",
            "building tree 4 of 50\n",
            "building tree 5 of 50\n",
            "building tree 6 of 50\n",
            "building tree 7 of 50\n",
            "building tree 8 of 50\n",
            "building tree 9 of 50\n",
            "building tree 10 of 50\n",
            "building tree 11 of 50\n",
            "building tree 12 of 50\n",
            "building tree 13 of 50\n",
            "building tree 14 of 50\n",
            "building tree 15 of 50\n",
            "building tree 16 of 50\n",
            "building tree 17 of 50\n",
            "building tree 18 of 50\n",
            "building tree 19 of 50\n",
            "building tree 20 of 50\n",
            "building tree 21 of 50\n",
            "building tree 22 of 50\n",
            "building tree 23 of 50\n",
            "building tree 24 of 50\n",
            "building tree 25 of 50\n",
            "building tree 26 of 50\n",
            "building tree 27 of 50\n",
            "building tree 28 of 50\n",
            "building tree 29 of 50\n",
            "building tree 30 of 50\n",
            "building tree 31 of 50\n",
            "building tree 32 of 50\n",
            "building tree 33 of 50\n",
            "building tree 34 of 50\n",
            "building tree 35 of 50\n",
            "building tree 36 of 50\n",
            "building tree 37 of 50\n",
            "building tree 38 of 50\n",
            "building tree 39 of 50\n",
            "building tree 40 of 50\n",
            "building tree 41 of 50\n",
            "building tree 42 of 50\n",
            "building tree 43 of 50\n",
            "building tree 44 of 50\n",
            "building tree 45 of 50\n",
            "building tree 46 of 50\n",
            "building tree 47 of 50\n",
            "building tree 48 of 50\n",
            "building tree 49 of 50\n",
            "building tree 50 of 50\n"
          ],
          "name": "stdout"
        },
        {
          "output_type": "stream",
          "text": [
            "[Parallel(n_jobs=1)]: Done  50 out of  50 | elapsed:   13.7s finished\n",
            "[Parallel(n_jobs=1)]: Using backend SequentialBackend with 1 concurrent workers.\n",
            "[Parallel(n_jobs=1)]: Done   1 out of   1 | elapsed:    0.0s remaining:    0.0s\n",
            "[Parallel(n_jobs=1)]: Done  50 out of  50 | elapsed:    0.5s finished\n",
            "[Parallel(n_jobs=1)]: Using backend SequentialBackend with 1 concurrent workers.\n",
            "[Parallel(n_jobs=1)]: Done   1 out of   1 | elapsed:    0.0s remaining:    0.0s\n",
            "[Parallel(n_jobs=1)]: Done  50 out of  50 | elapsed:    0.4s finished\n"
          ],
          "name": "stderr"
        },
        {
          "output_type": "stream",
          "text": [
            "Default score: -1.2265713578923498\n",
            "Accuracy is: 0.6021872229895483\n",
            "F1 is: 0.7517064352390939\n"
          ],
          "name": "stdout"
        },
        {
          "output_type": "display_data",
          "data": {
            "image/png": "[encoded data removed]",
            "text/plain": [
              "<Figure size 1728x576 with 1 Axes>"
            ]
          },
          "metadata": {
            "tags": [],
            "needs_background": "light"
          }
        }
      ]
    },
    {
      "cell_type": "code",
      "metadata": {
        "id": "hERHC-pKCqzB",
        "colab": {
          "base_uri": "https://localhost:8080/",
          "height": 1000
        },
        "outputId": "468778f1-11a2-41ad-8a64-10da045e7f17"
      },
      "source": [
        "model7 = RandomForestClassifier(n_estimators=50, random_state=42, class_weight='balanced', verbose=2)\n",
        "model7.fit(train_CROMER, train_CROMER_target)\n",
        "\n",
        "pred_val7 = model7.predict(valid1)\n",
        "pred_test7 = model7.predict(valid2)\n",
        "\n",
        "show_evaluation(pred_val7, valid1_target)\n",
        "evaluate(model7)"
      ],
      "execution_count": null,
      "outputs": [
        {
          "output_type": "stream",
          "text": [
            "[Parallel(n_jobs=1)]: Using backend SequentialBackend with 1 concurrent workers.\n",
            "[Parallel(n_jobs=1)]: Done   1 out of   1 | elapsed:    0.1s remaining:    0.0s\n"
          ],
          "name": "stderr"
        },
        {
          "output_type": "stream",
          "text": [
            "building tree 1 of 50\n",
            "building tree 2 of 50\n",
            "building tree 3 of 50\n",
            "building tree 4 of 50\n",
            "building tree 5 of 50\n",
            "building tree 6 of 50\n",
            "building tree 7 of 50\n",
            "building tree 8 of 50\n",
            "building tree 9 of 50\n",
            "building tree 10 of 50\n",
            "building tree 11 of 50\n",
            "building tree 12 of 50\n",
            "building tree 13 of 50\n",
            "building tree 14 of 50\n",
            "building tree 15 of 50\n",
            "building tree 16 of 50\n",
            "building tree 17 of 50\n",
            "building tree 18 of 50\n",
            "building tree 19 of 50\n",
            "building tree 20 of 50\n",
            "building tree 21 of 50\n",
            "building tree 22 of 50\n",
            "building tree 23 of 50\n",
            "building tree 24 of 50\n",
            "building tree 25 of 50\n",
            "building tree 26 of 50\n",
            "building tree 27 of 50\n",
            "building tree 28 of 50\n",
            "building tree 29 of 50\n",
            "building tree 30 of 50\n",
            "building tree 31 of 50\n",
            "building tree 32 of 50\n",
            "building tree 33 of 50\n",
            "building tree 34 of 50\n",
            "building tree 35 of 50\n",
            "building tree 36 of 50\n",
            "building tree 37 of 50\n",
            "building tree 38 of 50\n",
            "building tree 39 of 50\n",
            "building tree 40 of 50\n",
            "building tree 41 of 50\n",
            "building tree 42 of 50\n",
            "building tree 43 of 50\n",
            "building tree 44 of 50\n",
            "building tree 45 of 50\n",
            "building tree 46 of 50\n",
            "building tree 47 of 50\n",
            "building tree 48 of 50\n",
            "building tree 49 of 50\n",
            "building tree 50 of 50\n"
          ],
          "name": "stdout"
        },
        {
          "output_type": "stream",
          "text": [
            "[Parallel(n_jobs=1)]: Done  50 out of  50 | elapsed:    6.7s finished\n",
            "[Parallel(n_jobs=1)]: Using backend SequentialBackend with 1 concurrent workers.\n",
            "[Parallel(n_jobs=1)]: Done   1 out of   1 | elapsed:    0.0s remaining:    0.0s\n",
            "[Parallel(n_jobs=1)]: Done  50 out of  50 | elapsed:    0.5s finished\n",
            "[Parallel(n_jobs=1)]: Using backend SequentialBackend with 1 concurrent workers.\n",
            "[Parallel(n_jobs=1)]: Done   1 out of   1 | elapsed:    0.0s remaining:    0.0s\n",
            "[Parallel(n_jobs=1)]: Done  50 out of  50 | elapsed:    0.5s finished\n"
          ],
          "name": "stderr"
        },
        {
          "output_type": "stream",
          "text": [
            "Default score: -1.1844335587210622\n",
            "Accuracy is: 0.6201323465748624\n",
            "F1 is: 0.7517475312136465\n"
          ],
          "name": "stdout"
        },
        {
          "output_type": "display_data",
          "data": {
            "image/png": "[encoded data removed]",
            "text/plain": [
              "<Figure size 1728x576 with 1 Axes>"
            ]
          },
          "metadata": {
            "tags": [],
            "needs_background": "light"
          }
        }
      ]
    },
    {
      "cell_type": "code",
      "metadata": {
        "id": "iAE3soZEC5bO",
        "colab": {
          "base_uri": "https://localhost:8080/",
          "height": 1000
        },
        "outputId": "9a2f5256-ec92-4e9b-bc10-40bed8d86e49"
      },
      "source": [
        "model8 = RandomForestClassifier(n_estimators=50, random_state=42, class_weight='balanced', verbose=2)\n",
        "model8.fit(train_BAAT, train_BAAT_target)\n",
        "\n",
        "pred_val8 = model8.predict(valid1)\n",
        "pred_test8 = model8.predict(valid2)\n",
        "\n",
        "show_evaluation(pred_val8, valid1_target)\n",
        "evaluate(model8)"
      ],
      "execution_count": null,
      "outputs": [
        {
          "output_type": "stream",
          "text": [
            "[Parallel(n_jobs=1)]: Using backend SequentialBackend with 1 concurrent workers.\n",
            "[Parallel(n_jobs=1)]: Done   1 out of   1 | elapsed:    0.1s remaining:    0.0s\n"
          ],
          "name": "stderr"
        },
        {
          "output_type": "stream",
          "text": [
            "building tree 1 of 50\n",
            "building tree 2 of 50\n",
            "building tree 3 of 50\n",
            "building tree 4 of 50\n",
            "building tree 5 of 50\n",
            "building tree 6 of 50\n",
            "building tree 7 of 50\n",
            "building tree 8 of 50\n",
            "building tree 9 of 50\n",
            "building tree 10 of 50\n",
            "building tree 11 of 50\n",
            "building tree 12 of 50\n",
            "building tree 13 of 50\n",
            "building tree 14 of 50\n",
            "building tree 15 of 50\n",
            "building tree 16 of 50\n",
            "building tree 17 of 50\n",
            "building tree 18 of 50\n",
            "building tree 19 of 50\n",
            "building tree 20 of 50\n",
            "building tree 21 of 50\n",
            "building tree 22 of 50\n",
            "building tree 23 of 50\n",
            "building tree 24 of 50\n",
            "building tree 25 of 50\n",
            "building tree 26 of 50\n",
            "building tree 27 of 50\n",
            "building tree 28 of 50\n",
            "building tree 29 of 50\n",
            "building tree 30 of 50\n",
            "building tree 31 of 50\n",
            "building tree 32 of 50\n",
            "building tree 33 of 50\n",
            "building tree 34 of 50\n",
            "building tree 35 of 50\n",
            "building tree 36 of 50\n",
            "building tree 37 of 50\n",
            "building tree 38 of 50\n",
            "building tree 39 of 50\n",
            "building tree 40 of 50\n",
            "building tree 41 of 50\n",
            "building tree 42 of 50\n",
            "building tree 43 of 50\n",
            "building tree 44 of 50\n",
            "building tree 45 of 50\n",
            "building tree 46 of 50\n",
            "building tree 47 of 50\n",
            "building tree 48 of 50\n",
            "building tree 49 of 50\n",
            "building tree 50 of 50\n"
          ],
          "name": "stdout"
        },
        {
          "output_type": "stream",
          "text": [
            "[Parallel(n_jobs=1)]: Done  50 out of  50 | elapsed:    4.7s finished\n",
            "[Parallel(n_jobs=1)]: Using backend SequentialBackend with 1 concurrent workers.\n",
            "[Parallel(n_jobs=1)]: Done   1 out of   1 | elapsed:    0.0s remaining:    0.0s\n",
            "[Parallel(n_jobs=1)]: Done  50 out of  50 | elapsed:    0.5s finished\n",
            "[Parallel(n_jobs=1)]: Using backend SequentialBackend with 1 concurrent workers.\n",
            "[Parallel(n_jobs=1)]: Done   1 out of   1 | elapsed:    0.0s remaining:    0.0s\n",
            "[Parallel(n_jobs=1)]: Done  50 out of  50 | elapsed:    0.5s finished\n"
          ],
          "name": "stderr"
        },
        {
          "output_type": "stream",
          "text": [
            "Default score: -2.2071922220618854\n",
            "Accuracy is: 0.10597002618070873\n",
            "F1 is: 0.13713307333598385\n"
          ],
          "name": "stdout"
        },
        {
          "output_type": "display_data",
          "data": {
            "image/png": "[encoded data removed]",
            "text/plain": [
              "<Figure size 1728x576 with 1 Axes>"
            ]
          },
          "metadata": {
            "tags": [],
            "needs_background": "light"
          }
        }
      ]
    },
    {
      "cell_type": "code",
      "metadata": {
        "id": "YFnruuZ5DHnQ",
        "colab": {
          "base_uri": "https://localhost:8080/",
          "height": 1000
        },
        "outputId": "5e6d51b2-9882-41aa-b744-60b2737ab001"
      },
      "source": [
        "model9 = RandomForestClassifier(n_estimators=50, random_state=42, class_weight='balanced', verbose=2)\n",
        "model9.fit(train_VESTLAND, train_VESTLAND_target)\n",
        "\n",
        "pred_val9 = model9.predict(valid1)\n",
        "pred_test9 = model9.predict(valid2)\n",
        "\n",
        "show_evaluation(pred_val9, valid1_target)\n",
        "evaluate(model9)"
      ],
      "execution_count": null,
      "outputs": [
        {
          "output_type": "stream",
          "text": [
            "[Parallel(n_jobs=1)]: Using backend SequentialBackend with 1 concurrent workers.\n",
            "[Parallel(n_jobs=1)]: Done   1 out of   1 | elapsed:    0.1s remaining:    0.0s\n"
          ],
          "name": "stderr"
        },
        {
          "output_type": "stream",
          "text": [
            "building tree 1 of 50\n",
            "building tree 2 of 50\n",
            "building tree 3 of 50\n",
            "building tree 4 of 50\n",
            "building tree 5 of 50\n",
            "building tree 6 of 50\n",
            "building tree 7 of 50\n",
            "building tree 8 of 50\n",
            "building tree 9 of 50\n",
            "building tree 10 of 50\n",
            "building tree 11 of 50\n",
            "building tree 12 of 50\n",
            "building tree 13 of 50\n",
            "building tree 14 of 50\n",
            "building tree 15 of 50\n",
            "building tree 16 of 50\n",
            "building tree 17 of 50\n",
            "building tree 18 of 50\n",
            "building tree 19 of 50\n",
            "building tree 20 of 50\n",
            "building tree 21 of 50\n",
            "building tree 22 of 50\n",
            "building tree 23 of 50\n",
            "building tree 24 of 50\n",
            "building tree 25 of 50\n",
            "building tree 26 of 50\n",
            "building tree 27 of 50\n",
            "building tree 28 of 50\n",
            "building tree 29 of 50\n",
            "building tree 30 of 50\n",
            "building tree 31 of 50\n",
            "building tree 32 of 50\n",
            "building tree 33 of 50\n",
            "building tree 34 of 50\n",
            "building tree 35 of 50\n",
            "building tree 36 of 50\n",
            "building tree 37 of 50\n",
            "building tree 38 of 50\n",
            "building tree 39 of 50\n",
            "building tree 40 of 50\n",
            "building tree 41 of 50\n",
            "building tree 42 of 50\n",
            "building tree 43 of 50\n",
            "building tree 44 of 50\n",
            "building tree 45 of 50\n",
            "building tree 46 of 50\n",
            "building tree 47 of 50\n",
            "building tree 48 of 50\n",
            "building tree 49 of 50\n",
            "building tree 50 of 50\n"
          ],
          "name": "stdout"
        },
        {
          "output_type": "stream",
          "text": [
            "[Parallel(n_jobs=1)]: Done  50 out of  50 | elapsed:    3.1s finished\n",
            "[Parallel(n_jobs=1)]: Using backend SequentialBackend with 1 concurrent workers.\n",
            "[Parallel(n_jobs=1)]: Done   1 out of   1 | elapsed:    0.0s remaining:    0.0s\n",
            "[Parallel(n_jobs=1)]: Done  50 out of  50 | elapsed:    0.5s finished\n",
            "[Parallel(n_jobs=1)]: Using backend SequentialBackend with 1 concurrent workers.\n",
            "[Parallel(n_jobs=1)]: Done   1 out of   1 | elapsed:    0.0s remaining:    0.0s\n",
            "[Parallel(n_jobs=1)]: Done  50 out of  50 | elapsed:    0.4s finished\n"
          ],
          "name": "stderr"
        },
        {
          "output_type": "stream",
          "text": [
            "Default score: -1.3112437898121998\n",
            "Accuracy is: 0.5779442989960626\n",
            "F1 is: 0.7083767425207386\n"
          ],
          "name": "stdout"
        },
        {
          "output_type": "display_data",
          "data": {
            "image/png": "[encoded data removed]",
            "text/plain": [
              "<Figure size 1728x576 with 1 Axes>"
            ]
          },
          "metadata": {
            "tags": [],
            "needs_background": "light"
          }
        }
      ]
    },
    {
      "cell_type": "code",
      "metadata": {
        "id": "KWQQND7NEHsB",
        "colab": {
          "base_uri": "https://localhost:8080/",
          "height": 1000
        },
        "outputId": "1f155500-254e-40cc-b2ed-7e58207ecc1d"
      },
      "source": [
        "model10 = RandomForestClassifier(n_estimators=50, random_state=42, class_weight='balanced', verbose=2)\n",
        "model10.fit(train_HEGRE, train_HEGRE_target)\n",
        "\n",
        "pred_val10 = model10.predict(valid1)\n",
        "pred_test10 = model10.predict(valid2)\n",
        "\n",
        "show_evaluation(pred_val10, valid1_target)\n",
        "evaluate(model10)"
      ],
      "execution_count": null,
      "outputs": [
        {
          "output_type": "stream",
          "text": [
            "[Parallel(n_jobs=1)]: Using backend SequentialBackend with 1 concurrent workers.\n",
            "[Parallel(n_jobs=1)]: Done   1 out of   1 | elapsed:    0.0s remaining:    0.0s\n"
          ],
          "name": "stderr"
        },
        {
          "output_type": "stream",
          "text": [
            "building tree 1 of 50\n",
            "building tree 2 of 50\n",
            "building tree 3 of 50\n",
            "building tree 4 of 50\n",
            "building tree 5 of 50\n",
            "building tree 6 of 50\n",
            "building tree 7 of 50\n",
            "building tree 8 of 50\n",
            "building tree 9 of 50\n",
            "building tree 10 of 50\n",
            "building tree 11 of 50\n",
            "building tree 12 of 50\n",
            "building tree 13 of 50\n",
            "building tree 14 of 50\n",
            "building tree 15 of 50\n",
            "building tree 16 of 50\n",
            "building tree 17 of 50\n",
            "building tree 18 of 50\n",
            "building tree 19 of 50\n",
            "building tree 20 of 50\n",
            "building tree 21 of 50\n",
            "building tree 22 of 50\n",
            "building tree 23 of 50\n",
            "building tree 24 of 50\n",
            "building tree 25 of 50\n",
            "building tree 26 of 50\n",
            "building tree 27 of 50\n",
            "building tree 28 of 50\n",
            "building tree 29 of 50\n",
            "building tree 30 of 50\n",
            "building tree 31 of 50\n",
            "building tree 32 of 50\n",
            "building tree 33 of 50\n",
            "building tree 34 of 50\n",
            "building tree 35 of 50\n",
            "building tree 36 of 50\n",
            "building tree 37 of 50\n",
            "building tree 38 of 50\n",
            "building tree 39 of 50\n",
            "building tree 40 of 50\n",
            "building tree 41 of 50\n",
            "building tree 42 of 50\n",
            "building tree 43 of 50\n",
            "building tree 44 of 50\n",
            "building tree 45 of 50\n",
            "building tree 46 of 50\n",
            "building tree 47 of 50\n",
            "building tree 48 of 50\n",
            "building tree 49 of 50\n",
            "building tree 50 of 50\n"
          ],
          "name": "stdout"
        },
        {
          "output_type": "stream",
          "text": [
            "[Parallel(n_jobs=1)]: Done  50 out of  50 | elapsed:    1.8s finished\n",
            "[Parallel(n_jobs=1)]: Using backend SequentialBackend with 1 concurrent workers.\n",
            "[Parallel(n_jobs=1)]: Done   1 out of   1 | elapsed:    0.0s remaining:    0.0s\n",
            "[Parallel(n_jobs=1)]: Done  50 out of  50 | elapsed:    0.4s finished\n",
            "[Parallel(n_jobs=1)]: Using backend SequentialBackend with 1 concurrent workers.\n",
            "[Parallel(n_jobs=1)]: Done   1 out of   1 | elapsed:    0.0s remaining:    0.0s\n",
            "[Parallel(n_jobs=1)]: Done  50 out of  50 | elapsed:    0.4s finished\n"
          ],
          "name": "stderr"
        },
        {
          "output_type": "stream",
          "text": [
            "Default score: -2.634212208043868\n",
            "Accuracy is: 0.198519862293595\n",
            "F1 is: 0.28486466178774994\n"
          ],
          "name": "stdout"
        },
        {
          "output_type": "display_data",
          "data": {
            "image/png": "[encoded data removed]",
            "text/plain": [
              "<Figure size 1728x576 with 1 Axes>"
            ]
          },
          "metadata": {
            "tags": [],
            "needs_background": "light"
          }
        }
      ]
    },
    {
      "cell_type": "code",
      "metadata": {
        "id": "7nSh7yuVEwhT"
      },
      "source": [
        "stack = np.column_stack((pred_val1, pred_val2, pred_val3, pred_val4, pred_val5, pred_val6, pred_val7, pred_val8, pred_val9, pred_val10))\n",
        "stack_p = np.column_stack((pred_test1, pred_test2, pred_test3, pred_test4, pred_test5, pred_test6, pred_test7, pred_test8, pred_test9, pred_test10))"
      ],
      "execution_count": null,
      "outputs": []
    },
    {
      "cell_type": "code",
      "metadata": {
        "id": "5_l0DtMqLONP",
        "colab": {
          "base_uri": "https://localhost:8080/",
          "height": 230
        },
        "outputId": "e3fd5ab6-f1ea-4121-afbb-86bac53ed76e"
      },
      "source": [
        "valid1_target"
      ],
      "execution_count": null,
      "outputs": [
        {
          "output_type": "execute_result",
          "data": {
            "text/plain": [
              "0        1\n",
              "1        1\n",
              "2        1\n",
              "3        1\n",
              "4        1\n",
              "        ..\n",
              "97013    0\n",
              "97014    0\n",
              "97015    0\n",
              "97016    0\n",
              "97017    0\n",
              "Name: FORCE_2020_LITHOFACIES_LITHOLOGY, Length: 97018, dtype: int64"
            ]
          },
          "metadata": {
            "tags": []
          },
          "execution_count": 95
        }
      ]
    },
    {
      "cell_type": "code",
      "metadata": {
        "id": "9Jb-9HnAFZr-",
        "colab": {
          "base_uri": "https://localhost:8080/",
          "height": 1000
        },
        "outputId": "bccf5759-1f0b-43fa-b9d7-bd85ba724330"
      },
      "source": [
        "meta_model1 = RandomForestClassifier(n_estimators=200, random_state=42, class_weight='balanced', verbose=2)\n",
        "from sklearn.linear_model import LogisticRegression\n",
        "#meta_model1 = LogisticRegression(multi_class='ovr', verbose=2)\n",
        "meta_model1.fit(stack, valid1_target)\n",
        "test_predictions = meta_model1.predict(stack_p)\n",
        "\n",
        "test_predictions, valid2_target"
      ],
      "execution_count": null,
      "outputs": [
        {
          "output_type": "stream",
          "text": [
            "[Parallel(n_jobs=1)]: Using backend SequentialBackend with 1 concurrent workers.\n",
            "[Parallel(n_jobs=1)]: Done   1 out of   1 | elapsed:    0.0s remaining:    0.0s\n"
          ],
          "name": "stderr"
        },
        {
          "output_type": "stream",
          "text": [
            "building tree 1 of 200\n",
            "building tree 2 of 200\n",
            "building tree 3 of 200\n",
            "building tree 4 of 200\n",
            "building tree 5 of 200\n",
            "building tree 6 of 200\n",
            "building tree 7 of 200\n",
            "building tree 8 of 200\n",
            "building tree 9 of 200\n",
            "building tree 10 of 200\n",
            "building tree 11 of 200\n",
            "building tree 12 of 200\n",
            "building tree 13 of 200\n",
            "building tree 14 of 200\n",
            "building tree 15 of 200\n",
            "building tree 16 of 200\n",
            "building tree 17 of 200\n",
            "building tree 18 of 200\n",
            "building tree 19 of 200\n",
            "building tree 20 of 200\n",
            "building tree 21 of 200\n",
            "building tree 22 of 200\n",
            "building tree 23 of 200\n",
            "building tree 24 of 200\n",
            "building tree 25 of 200\n",
            "building tree 26 of 200\n",
            "building tree 27 of 200\n",
            "building tree 28 of 200\n",
            "building tree 29 of 200\n",
            "building tree 30 of 200\n",
            "building tree 31 of 200\n",
            "building tree 32 of 200\n",
            "building tree 33 of 200\n",
            "building tree 34 of 200\n",
            "building tree 35 of 200\n",
            "building tree 36 of 200\n",
            "building tree 37 of 200\n",
            "building tree 38 of 200\n",
            "building tree 39 of 200\n",
            "building tree 40 of 200\n",
            "building tree 41 of 200\n",
            "building tree 42 of 200\n",
            "building tree 43 of 200\n",
            "building tree 44 of 200\n",
            "building tree 45 of 200\n",
            "building tree 46 of 200\n",
            "building tree 47 of 200\n",
            "building tree 48 of 200\n",
            "building tree 49 of 200\n",
            "building tree 50 of 200\n",
            "building tree 51 of 200\n",
            "building tree 52 of 200\n",
            "building tree 53 of 200\n",
            "building tree 54 of 200\n",
            "building tree 55 of 200\n",
            "building tree 56 of 200\n",
            "building tree 57 of 200\n",
            "building tree 58 of 200\n",
            "building tree 59 of 200\n",
            "building tree 60 of 200\n",
            "building tree 61 of 200\n",
            "building tree 62 of 200\n",
            "building tree 63 of 200\n",
            "building tree 64 of 200\n",
            "building tree 65 of 200\n",
            "building tree 66 of 200\n",
            "building tree 67 of 200\n",
            "building tree 68 of 200\n",
            "building tree 69 of 200\n",
            "building tree 70 of 200\n",
            "building tree 71 of 200\n",
            "building tree 72 of 200\n",
            "building tree 73 of 200\n",
            "building tree 74 of 200\n",
            "building tree 75 of 200\n",
            "building tree 76 of 200\n",
            "building tree 77 of 200\n",
            "building tree 78 of 200\n",
            "building tree 79 of 200\n",
            "building tree 80 of 200\n",
            "building tree 81 of 200\n",
            "building tree 82 of 200\n",
            "building tree 83 of 200\n",
            "building tree 84 of 200\n",
            "building tree 85 of 200\n",
            "building tree 86 of 200\n",
            "building tree 87 of 200\n",
            "building tree 88 of 200\n",
            "building tree 89 of 200\n",
            "building tree 90 of 200\n",
            "building tree 91 of 200\n",
            "building tree 92 of 200\n",
            "building tree 93 of 200\n",
            "building tree 94 of 200\n",
            "building tree 95 of 200\n",
            "building tree 96 of 200\n",
            "building tree 97 of 200\n",
            "building tree 98 of 200\n",
            "building tree 99 of 200\n",
            "building tree 100 of 200\n",
            "building tree 101 of 200\n",
            "building tree 102 of 200\n",
            "building tree 103 of 200\n",
            "building tree 104 of 200\n",
            "building tree 105 of 200\n",
            "building tree 106 of 200\n",
            "building tree 107 of 200\n",
            "building tree 108 of 200\n",
            "building tree 109 of 200\n",
            "building tree 110 of 200\n",
            "building tree 111 of 200\n",
            "building tree 112 of 200\n",
            "building tree 113 of 200\n",
            "building tree 114 of 200\n",
            "building tree 115 of 200\n",
            "building tree 116 of 200\n",
            "building tree 117 of 200\n",
            "building tree 118 of 200\n",
            "building tree 119 of 200\n",
            "building tree 120 of 200\n",
            "building tree 121 of 200\n",
            "building tree 122 of 200\n",
            "building tree 123 of 200\n",
            "building tree 124 of 200\n",
            "building tree 125 of 200\n",
            "building tree 126 of 200\n",
            "building tree 127 of 200\n",
            "building tree 128 of 200\n",
            "building tree 129 of 200\n",
            "building tree 130 of 200\n",
            "building tree 131 of 200\n",
            "building tree 132 of 200\n",
            "building tree 133 of 200\n",
            "building tree 134 of 200\n",
            "building tree 135 of 200\n",
            "building tree 136 of 200\n",
            "building tree 137 of 200\n",
            "building tree 138 of 200\n",
            "building tree 139 of 200\n",
            "building tree 140 of 200\n",
            "building tree 141 of 200\n",
            "building tree 142 of 200\n",
            "building tree 143 of 200\n",
            "building tree 144 of 200\n",
            "building tree 145 of 200\n",
            "building tree 146 of 200\n",
            "building tree 147 of 200\n",
            "building tree 148 of 200\n",
            "building tree 149 of 200\n",
            "building tree 150 of 200\n",
            "building tree 151 of 200\n",
            "building tree 152 of 200\n",
            "building tree 153 of 200\n",
            "building tree 154 of 200\n",
            "building tree 155 of 200\n",
            "building tree 156 of 200\n",
            "building tree 157 of 200\n",
            "building tree 158 of 200\n",
            "building tree 159 of 200\n",
            "building tree 160 of 200\n",
            "building tree 161 of 200\n",
            "building tree 162 of 200\n",
            "building tree 163 of 200\n",
            "building tree 164 of 200\n",
            "building tree 165 of 200\n",
            "building tree 166 of 200\n",
            "building tree 167 of 200\n",
            "building tree 168 of 200\n",
            "building tree 169 of 200\n",
            "building tree 170 of 200\n",
            "building tree 171 of 200\n",
            "building tree 172 of 200\n",
            "building tree 173 of 200\n",
            "building tree 174 of 200\n",
            "building tree 175 of 200\n",
            "building tree 176 of 200\n",
            "building tree 177 of 200\n",
            "building tree 178 of 200\n",
            "building tree 179 of 200\n",
            "building tree 180 of 200\n",
            "building tree 181 of 200\n",
            "building tree 182 of 200\n",
            "building tree 183 of 200\n",
            "building tree 184 of 200\n",
            "building tree 185 of 200\n",
            "building tree 186 of 200\n",
            "building tree 187 of 200\n",
            "building tree 188 of 200\n",
            "building tree 189 of 200\n",
            "building tree 190 of 200\n",
            "building tree 191 of 200\n",
            "building tree 192 of 200\n",
            "building tree 193 of 200\n",
            "building tree 194 of 200\n",
            "building tree 195 of 200\n",
            "building tree 196 of 200\n",
            "building tree 197 of 200\n",
            "building tree 198 of 200\n",
            "building tree 199 of 200\n",
            "building tree 200 of 200\n"
          ],
          "name": "stdout"
        },
        {
          "output_type": "stream",
          "text": [
            "[Parallel(n_jobs=1)]: Done 200 out of 200 | elapsed:    6.4s finished\n",
            "[Parallel(n_jobs=1)]: Using backend SequentialBackend with 1 concurrent workers.\n",
            "[Parallel(n_jobs=1)]: Done   1 out of   1 | elapsed:    0.0s remaining:    0.0s\n",
            "[Parallel(n_jobs=1)]: Done 200 out of 200 | elapsed:    3.2s finished\n"
          ],
          "name": "stderr"
        },
        {
          "output_type": "execute_result",
          "data": {
            "text/plain": [
              "(array([0, 0, 0, ..., 1, 1, 1]), 0        2\n",
              " 1        2\n",
              " 2        2\n",
              " 3        2\n",
              " 4        2\n",
              "         ..\n",
              " 90263    0\n",
              " 90264    0\n",
              " 90265    0\n",
              " 90266    0\n",
              " 90267    0\n",
              " Name: FORCE_2020_LITHOFACIES_LITHOLOGY, Length: 90268, dtype: int64)"
            ]
          },
          "metadata": {
            "tags": []
          },
          "execution_count": 105
        }
      ]
    },
    {
      "cell_type": "code",
      "metadata": {
        "id": "1HPlB-QSFZ7r",
        "colab": {
          "base_uri": "https://localhost:8080/",
          "height": 70
        },
        "outputId": "40bb39de-2485-4403-fa26-8dce55a7671e"
      },
      "source": [
        "show_evaluation(test_predictions, valid2_target)"
      ],
      "execution_count": null,
      "outputs": [
        {
          "output_type": "stream",
          "text": [
            "Default score: -3.2324674857092215\n",
            "Accuracy is: 0.057174192404838925\n",
            "F1 is: 0.01944782644488694\n"
          ],
          "name": "stdout"
        }
      ]
    },
    {
      "cell_type": "code",
      "metadata": {
        "id": "BA5lgdKJHKJW",
        "colab": {
          "base_uri": "https://localhost:8080/",
          "height": 70
        },
        "outputId": "f190a81f-40c8-4e53-9ba6-b8db91146ba0"
      },
      "source": [
        "show_evaluation(test_predictions, valid2_target)"
      ],
      "execution_count": null,
      "outputs": [
        {
          "output_type": "stream",
          "text": [
            "Default score: -3.2324674857092215\n",
            "Accuracy is: 0.057174192404838925\n",
            "F1 is: 0.01944782644488694\n"
          ],
          "name": "stdout"
        }
      ]
    },
    {
      "cell_type": "code",
      "metadata": {
        "id": "p2uGxLeAHQ1k",
        "colab": {
          "base_uri": "https://localhost:8080/",
          "height": 1000
        },
        "outputId": "9b5a67e1-936c-47bf-860d-5db4db976c01"
      },
      "source": [
        "#traindata.drop('FORCE_2020_LITHOFACIES_LITHOLOGY', axis=1, inplace=True)\n",
        "model = RandomForestClassifier(n_estimators=50, random_state=42, max_depth=10, class_weight='balanced', verbose=2)\n",
        "model.fit(traindata, lithology)"
      ],
      "execution_count": null,
      "outputs": [
        {
          "output_type": "stream",
          "text": [
            "[Parallel(n_jobs=1)]: Using backend SequentialBackend with 1 concurrent workers.\n"
          ],
          "name": "stderr"
        },
        {
          "output_type": "stream",
          "text": [
            "building tree 1 of 50\n"
          ],
          "name": "stdout"
        },
        {
          "output_type": "stream",
          "text": [
            "[Parallel(n_jobs=1)]: Done   1 out of   1 | elapsed:    3.6s remaining:    0.0s\n"
          ],
          "name": "stderr"
        },
        {
          "output_type": "stream",
          "text": [
            "building tree 2 of 50\n",
            "building tree 3 of 50\n",
            "building tree 4 of 50\n",
            "building tree 5 of 50\n",
            "building tree 6 of 50\n",
            "building tree 7 of 50\n",
            "building tree 8 of 50\n",
            "building tree 9 of 50\n",
            "building tree 10 of 50\n",
            "building tree 11 of 50\n",
            "building tree 12 of 50\n",
            "building tree 13 of 50\n",
            "building tree 14 of 50\n",
            "building tree 15 of 50\n",
            "building tree 16 of 50\n",
            "building tree 17 of 50\n",
            "building tree 18 of 50\n",
            "building tree 19 of 50\n",
            "building tree 20 of 50\n",
            "building tree 21 of 50\n",
            "building tree 22 of 50\n",
            "building tree 23 of 50\n",
            "building tree 24 of 50\n",
            "building tree 25 of 50\n",
            "building tree 26 of 50\n",
            "building tree 27 of 50\n",
            "building tree 28 of 50\n",
            "building tree 29 of 50\n",
            "building tree 30 of 50\n",
            "building tree 31 of 50\n",
            "building tree 32 of 50\n",
            "building tree 33 of 50\n",
            "building tree 34 of 50\n",
            "building tree 35 of 50\n",
            "building tree 36 of 50\n",
            "building tree 37 of 50\n",
            "building tree 38 of 50\n",
            "building tree 39 of 50\n",
            "building tree 40 of 50\n",
            "building tree 41 of 50\n",
            "building tree 42 of 50\n",
            "building tree 43 of 50\n",
            "building tree 44 of 50\n",
            "building tree 45 of 50\n",
            "building tree 46 of 50\n",
            "building tree 47 of 50\n",
            "building tree 48 of 50\n",
            "building tree 49 of 50\n",
            "building tree 50 of 50\n"
          ],
          "name": "stdout"
        },
        {
          "output_type": "stream",
          "text": [
            "[Parallel(n_jobs=1)]: Done  50 out of  50 | elapsed:  3.0min finished\n"
          ],
          "name": "stderr"
        },
        {
          "output_type": "execute_result",
          "data": {
            "text/plain": [
              "RandomForestClassifier(bootstrap=True, ccp_alpha=0.0, class_weight='balanced',\n",
              "                       criterion='gini', max_depth=10, max_features='auto',\n",
              "                       max_leaf_nodes=None, max_samples=None,\n",
              "                       min_impurity_decrease=0.0, min_impurity_split=None,\n",
              "                       min_samples_leaf=1, min_samples_split=2,\n",
              "                       min_weight_fraction_leaf=0.0, n_estimators=50,\n",
              "                       n_jobs=None, oob_score=False, random_state=42, verbose=2,\n",
              "                       warm_start=False)"
            ]
          },
          "metadata": {
            "tags": []
          },
          "execution_count": 108
        }
      ]
    },
    {
      "cell_type": "code",
      "metadata": {
        "id": "P9iXixuMIRb5",
        "colab": {
          "base_uri": "https://localhost:8080/",
          "height": 123
        },
        "outputId": "908c6561-30d8-45d4-c881-566474cc9080"
      },
      "source": [
        "a = model.predict(valid2)\n",
        "b = model.predict(valid1)"
      ],
      "execution_count": null,
      "outputs": [
        {
          "output_type": "stream",
          "text": [
            "[Parallel(n_jobs=1)]: Using backend SequentialBackend with 1 concurrent workers.\n",
            "[Parallel(n_jobs=1)]: Done   1 out of   1 | elapsed:    0.0s remaining:    0.0s\n",
            "[Parallel(n_jobs=1)]: Done  50 out of  50 | elapsed:    0.5s finished\n",
            "[Parallel(n_jobs=1)]: Using backend SequentialBackend with 1 concurrent workers.\n",
            "[Parallel(n_jobs=1)]: Done   1 out of   1 | elapsed:    0.0s remaining:    0.0s\n",
            "[Parallel(n_jobs=1)]: Done  50 out of  50 | elapsed:    0.5s finished\n"
          ],
          "name": "stderr"
        }
      ]
    },
    {
      "cell_type": "code",
      "metadata": {
        "id": "SDXRSj6aKUuf",
        "colab": {
          "base_uri": "https://localhost:8080/",
          "height": 70
        },
        "outputId": "126d1742-5848-46bf-e7be-cfc103b59e63"
      },
      "source": [
        "show_evaluation(a, valid2_target)"
      ],
      "execution_count": null,
      "outputs": [
        {
          "output_type": "stream",
          "text": [
            "Default score: -1.5014263083263173\n",
            "Accuracy is: 0.38993884876146584\n",
            "F1 is: 0.33935874077912465\n"
          ],
          "name": "stdout"
        }
      ]
    },
    {
      "cell_type": "code",
      "metadata": {
        "id": "u0qaARgKLuqx",
        "colab": {
          "base_uri": "https://localhost:8080/",
          "height": 70
        },
        "outputId": "9035613d-834c-4e44-c8a0-333b62710b9a"
      },
      "source": [
        "show_evaluation(b, valid1_target)"
      ],
      "execution_count": null,
      "outputs": [
        {
          "output_type": "stream",
          "text": [
            "Default score: -1.5380960234183347\n",
            "Accuracy is: 0.39811169061411283\n",
            "F1 is: 0.4020022003767201\n"
          ],
          "name": "stdout"
        }
      ]
    },
    {
      "cell_type": "code",
      "metadata": {
        "id": "F4fGuNhgLp5U"
      },
      "source": [
        "dh"
      ],
      "execution_count": null,
      "outputs": []
    },
    {
      "cell_type": "code",
      "metadata": {
        "id": "Nhh0H_1V92PJ"
      },
      "source": [
        "train_HORD_target = train_HORD_target.map(lithology_numbers)\n",
        "train_SHET_target = train_SHET_target.map(lithology_numbers)\n",
        "train_ROGALAND_target = train_ROGALAND_target.map(lithology_numbers)\n",
        "train_VIKING_target = train_VIKING_target.map(lithology_numbers)\n",
        "train_DUNLIN_target = train_DUNLIN_target.map(lithology_numbers)\n",
        "train_NORDLAND_target = train_NORDLAND_target.map(lithology_numbers)\n",
        "train_CROMER_target = train_CROMER_target.map(lithology_numbers)\n",
        "train_BAAT_target = train_BAAT_target.map(lithology_numbers)\n",
        "train_VESTLAND_target = train_VESTLAND_target.map(lithology_numbers)\n",
        "train_HEGRE_target = train_HEGRE_target.map(lithology_numbers)"
      ],
      "execution_count": null,
      "outputs": []
    },
    {
      "cell_type": "code",
      "metadata": {
        "id": "_Lyl5J7uIaBo",
        "colab": {
          "base_uri": "https://localhost:8080/",
          "height": 426
        },
        "outputId": "6470bb75-9236-4346-dc80-4207f7419435"
      },
      "source": [
        "traindata"
      ],
      "execution_count": null,
      "outputs": [
        {
          "output_type": "execute_result",
          "data": {
            "text/html": [
              "<div>\n",
              "<style scoped>\n",
              "    .dataframe tbody tr th:only-of-type {\n",
              "        vertical-align: middle;\n",
              "    }\n",
              "\n",
              "    .dataframe tbody tr th {\n",
              "        vertical-align: top;\n",
              "    }\n",
              "\n",
              "    .dataframe thead th {\n",
              "        text-align: right;\n",
              "    }\n",
              "</style>\n",
              "<table border=\"1\" class=\"dataframe\">\n",
              "  <thead>\n",
              "    <tr style=\"text-align: right;\">\n",
              "      <th></th>\n",
              "      <th>DEPTH_MD</th>\n",
              "      <th>X_LOC</th>\n",
              "      <th>Y_LOC</th>\n",
              "      <th>Z_LOC</th>\n",
              "      <th>CALI</th>\n",
              "      <th>RSHA</th>\n",
              "      <th>RMED</th>\n",
              "      <th>RDEP</th>\n",
              "      <th>RHOB</th>\n",
              "      <th>GR</th>\n",
              "      <th>NPHI</th>\n",
              "      <th>PEF</th>\n",
              "      <th>DTC</th>\n",
              "      <th>SP</th>\n",
              "      <th>BS</th>\n",
              "      <th>ROP</th>\n",
              "      <th>DRHO</th>\n",
              "      <th>FORCE_2020_LITHOFACIES_LITHOLOGY</th>\n",
              "      <th>FORMATION_enc</th>\n",
              "      <th>WELL_enc</th>\n",
              "      <th>GROUP_enc</th>\n",
              "      <th>FORMATION_mean_target</th>\n",
              "      <th>WELL_mean_target</th>\n",
              "      <th>GROUP_mean_target</th>\n",
              "    </tr>\n",
              "  </thead>\n",
              "  <tbody>\n",
              "    <tr>\n",
              "      <th>0</th>\n",
              "      <td>494.5280</td>\n",
              "      <td>437641.96875</td>\n",
              "      <td>6470972.5</td>\n",
              "      <td>-469.501831</td>\n",
              "      <td>19.480835</td>\n",
              "      <td>-999.0</td>\n",
              "      <td>1.611410</td>\n",
              "      <td>1.798681</td>\n",
              "      <td>1.884186</td>\n",
              "      <td>80.200851</td>\n",
              "      <td>-999.0</td>\n",
              "      <td>20.915468</td>\n",
              "      <td>161.131180</td>\n",
              "      <td>24.612379</td>\n",
              "      <td>-999.0</td>\n",
              "      <td>34.636410</td>\n",
              "      <td>-0.574928</td>\n",
              "      <td>65000.0</td>\n",
              "      <td>-999.00000</td>\n",
              "      <td>0.016394</td>\n",
              "      <td>0.097838</td>\n",
              "      <td>-999.000000</td>\n",
              "      <td>-999.0</td>\n",
              "      <td>55542.522470</td>\n",
              "    </tr>\n",
              "    <tr>\n",
              "      <th>1</th>\n",
              "      <td>494.6800</td>\n",
              "      <td>437641.96875</td>\n",
              "      <td>6470972.5</td>\n",
              "      <td>-469.653809</td>\n",
              "      <td>19.468800</td>\n",
              "      <td>-999.0</td>\n",
              "      <td>1.618070</td>\n",
              "      <td>1.795641</td>\n",
              "      <td>1.889794</td>\n",
              "      <td>79.262886</td>\n",
              "      <td>-999.0</td>\n",
              "      <td>19.383013</td>\n",
              "      <td>160.603470</td>\n",
              "      <td>23.895531</td>\n",
              "      <td>-999.0</td>\n",
              "      <td>34.636410</td>\n",
              "      <td>-0.570188</td>\n",
              "      <td>65000.0</td>\n",
              "      <td>-999.00000</td>\n",
              "      <td>0.016394</td>\n",
              "      <td>0.097838</td>\n",
              "      <td>-999.000000</td>\n",
              "      <td>-999.0</td>\n",
              "      <td>55542.522470</td>\n",
              "    </tr>\n",
              "    <tr>\n",
              "      <th>2</th>\n",
              "      <td>494.8320</td>\n",
              "      <td>437641.96875</td>\n",
              "      <td>6470972.5</td>\n",
              "      <td>-469.805786</td>\n",
              "      <td>19.468800</td>\n",
              "      <td>-999.0</td>\n",
              "      <td>1.626459</td>\n",
              "      <td>1.800733</td>\n",
              "      <td>1.896523</td>\n",
              "      <td>74.821999</td>\n",
              "      <td>-999.0</td>\n",
              "      <td>22.591518</td>\n",
              "      <td>160.173615</td>\n",
              "      <td>23.916357</td>\n",
              "      <td>-999.0</td>\n",
              "      <td>34.779556</td>\n",
              "      <td>-0.574245</td>\n",
              "      <td>65000.0</td>\n",
              "      <td>-999.00000</td>\n",
              "      <td>0.016394</td>\n",
              "      <td>0.097838</td>\n",
              "      <td>-999.000000</td>\n",
              "      <td>-999.0</td>\n",
              "      <td>55542.522470</td>\n",
              "    </tr>\n",
              "    <tr>\n",
              "      <th>3</th>\n",
              "      <td>494.9840</td>\n",
              "      <td>437641.96875</td>\n",
              "      <td>6470972.5</td>\n",
              "      <td>-469.957794</td>\n",
              "      <td>19.459282</td>\n",
              "      <td>-999.0</td>\n",
              "      <td>1.621594</td>\n",
              "      <td>1.801517</td>\n",
              "      <td>1.891913</td>\n",
              "      <td>72.878922</td>\n",
              "      <td>-999.0</td>\n",
              "      <td>32.191910</td>\n",
              "      <td>160.149429</td>\n",
              "      <td>23.793688</td>\n",
              "      <td>-999.0</td>\n",
              "      <td>39.965164</td>\n",
              "      <td>-0.586315</td>\n",
              "      <td>65000.0</td>\n",
              "      <td>-999.00000</td>\n",
              "      <td>0.016394</td>\n",
              "      <td>0.097838</td>\n",
              "      <td>-999.000000</td>\n",
              "      <td>-999.0</td>\n",
              "      <td>55542.522470</td>\n",
              "    </tr>\n",
              "    <tr>\n",
              "      <th>4</th>\n",
              "      <td>495.1360</td>\n",
              "      <td>437641.96875</td>\n",
              "      <td>6470972.5</td>\n",
              "      <td>-470.109772</td>\n",
              "      <td>19.453100</td>\n",
              "      <td>-999.0</td>\n",
              "      <td>1.602679</td>\n",
              "      <td>1.795299</td>\n",
              "      <td>1.880034</td>\n",
              "      <td>71.729141</td>\n",
              "      <td>-999.0</td>\n",
              "      <td>38.495632</td>\n",
              "      <td>160.128342</td>\n",
              "      <td>24.104078</td>\n",
              "      <td>-999.0</td>\n",
              "      <td>57.483765</td>\n",
              "      <td>-0.597914</td>\n",
              "      <td>65000.0</td>\n",
              "      <td>-999.00000</td>\n",
              "      <td>0.016394</td>\n",
              "      <td>0.097838</td>\n",
              "      <td>-999.000000</td>\n",
              "      <td>-999.0</td>\n",
              "      <td>55542.522470</td>\n",
              "    </tr>\n",
              "    <tr>\n",
              "      <th>...</th>\n",
              "      <td>...</td>\n",
              "      <td>...</td>\n",
              "      <td>...</td>\n",
              "      <td>...</td>\n",
              "      <td>...</td>\n",
              "      <td>...</td>\n",
              "      <td>...</td>\n",
              "      <td>...</td>\n",
              "      <td>...</td>\n",
              "      <td>...</td>\n",
              "      <td>...</td>\n",
              "      <td>...</td>\n",
              "      <td>...</td>\n",
              "      <td>...</td>\n",
              "      <td>...</td>\n",
              "      <td>...</td>\n",
              "      <td>...</td>\n",
              "      <td>...</td>\n",
              "      <td>...</td>\n",
              "      <td>...</td>\n",
              "      <td>...</td>\n",
              "      <td>...</td>\n",
              "      <td>...</td>\n",
              "      <td>...</td>\n",
              "    </tr>\n",
              "    <tr>\n",
              "      <th>977665</th>\n",
              "      <td>3169.3124</td>\n",
              "      <td>-999.00000</td>\n",
              "      <td>-999.0</td>\n",
              "      <td>-999.000000</td>\n",
              "      <td>8.423170</td>\n",
              "      <td>-999.0</td>\n",
              "      <td>-999.000000</td>\n",
              "      <td>-999.000000</td>\n",
              "      <td>2.527984</td>\n",
              "      <td>77.654900</td>\n",
              "      <td>-999.0</td>\n",
              "      <td>4.586425</td>\n",
              "      <td>-999.000000</td>\n",
              "      <td>-999.000000</td>\n",
              "      <td>8.5</td>\n",
              "      <td>27.674368</td>\n",
              "      <td>-0.001763</td>\n",
              "      <td>30000.0</td>\n",
              "      <td>0.00035</td>\n",
              "      <td>0.001830</td>\n",
              "      <td>0.021211</td>\n",
              "      <td>43727.973073</td>\n",
              "      <td>-999.0</td>\n",
              "      <td>51473.956561</td>\n",
              "    </tr>\n",
              "    <tr>\n",
              "      <th>977666</th>\n",
              "      <td>3169.4644</td>\n",
              "      <td>-999.00000</td>\n",
              "      <td>-999.0</td>\n",
              "      <td>-999.000000</td>\n",
              "      <td>8.379244</td>\n",
              "      <td>-999.0</td>\n",
              "      <td>-999.000000</td>\n",
              "      <td>-999.000000</td>\n",
              "      <td>2.537613</td>\n",
              "      <td>75.363937</td>\n",
              "      <td>-999.0</td>\n",
              "      <td>7.019858</td>\n",
              "      <td>-999.000000</td>\n",
              "      <td>-999.000000</td>\n",
              "      <td>8.5</td>\n",
              "      <td>28.024338</td>\n",
              "      <td>-0.007600</td>\n",
              "      <td>65030.0</td>\n",
              "      <td>0.00035</td>\n",
              "      <td>0.001830</td>\n",
              "      <td>0.021211</td>\n",
              "      <td>43727.973073</td>\n",
              "      <td>-999.0</td>\n",
              "      <td>51473.956561</td>\n",
              "    </tr>\n",
              "    <tr>\n",
              "      <th>977667</th>\n",
              "      <td>3169.6164</td>\n",
              "      <td>-999.00000</td>\n",
              "      <td>-999.0</td>\n",
              "      <td>-999.000000</td>\n",
              "      <td>8.350248</td>\n",
              "      <td>-999.0</td>\n",
              "      <td>-999.000000</td>\n",
              "      <td>-999.000000</td>\n",
              "      <td>2.491860</td>\n",
              "      <td>66.452843</td>\n",
              "      <td>-999.0</td>\n",
              "      <td>9.049782</td>\n",
              "      <td>-999.000000</td>\n",
              "      <td>-999.000000</td>\n",
              "      <td>8.5</td>\n",
              "      <td>28.091282</td>\n",
              "      <td>-0.018297</td>\n",
              "      <td>65030.0</td>\n",
              "      <td>0.00035</td>\n",
              "      <td>0.001830</td>\n",
              "      <td>0.021211</td>\n",
              "      <td>43727.973073</td>\n",
              "      <td>-999.0</td>\n",
              "      <td>51473.956561</td>\n",
              "    </tr>\n",
              "    <tr>\n",
              "      <th>977668</th>\n",
              "      <td>3169.7684</td>\n",
              "      <td>-999.00000</td>\n",
              "      <td>-999.0</td>\n",
              "      <td>-999.000000</td>\n",
              "      <td>8.313779</td>\n",
              "      <td>-999.0</td>\n",
              "      <td>-999.000000</td>\n",
              "      <td>-999.000000</td>\n",
              "      <td>2.447539</td>\n",
              "      <td>55.784817</td>\n",
              "      <td>-999.0</td>\n",
              "      <td>8.903917</td>\n",
              "      <td>-999.000000</td>\n",
              "      <td>-999.000000</td>\n",
              "      <td>8.5</td>\n",
              "      <td>28.019775</td>\n",
              "      <td>-0.011438</td>\n",
              "      <td>65030.0</td>\n",
              "      <td>0.00035</td>\n",
              "      <td>0.001830</td>\n",
              "      <td>0.021211</td>\n",
              "      <td>43727.973073</td>\n",
              "      <td>-999.0</td>\n",
              "      <td>51473.956561</td>\n",
              "    </tr>\n",
              "    <tr>\n",
              "      <th>977669</th>\n",
              "      <td>3169.9204</td>\n",
              "      <td>-999.00000</td>\n",
              "      <td>-999.0</td>\n",
              "      <td>-999.000000</td>\n",
              "      <td>8.294910</td>\n",
              "      <td>-999.0</td>\n",
              "      <td>-999.000000</td>\n",
              "      <td>-999.000000</td>\n",
              "      <td>2.430716</td>\n",
              "      <td>48.432129</td>\n",
              "      <td>-999.0</td>\n",
              "      <td>9.150043</td>\n",
              "      <td>-999.000000</td>\n",
              "      <td>-999.000000</td>\n",
              "      <td>8.5</td>\n",
              "      <td>25.985943</td>\n",
              "      <td>-0.011398</td>\n",
              "      <td>65030.0</td>\n",
              "      <td>0.00035</td>\n",
              "      <td>0.001830</td>\n",
              "      <td>0.021211</td>\n",
              "      <td>43727.973073</td>\n",
              "      <td>-999.0</td>\n",
              "      <td>51473.956561</td>\n",
              "    </tr>\n",
              "  </tbody>\n",
              "</table>\n",
              "<p>977670 rows × 24 columns</p>\n",
              "</div>"
            ],
            "text/plain": [
              "         DEPTH_MD         X_LOC  ...  WELL_mean_target  GROUP_mean_target\n",
              "0        494.5280  437641.96875  ...            -999.0       55542.522470\n",
              "1        494.6800  437641.96875  ...            -999.0       55542.522470\n",
              "2        494.8320  437641.96875  ...            -999.0       55542.522470\n",
              "3        494.9840  437641.96875  ...            -999.0       55542.522470\n",
              "4        495.1360  437641.96875  ...            -999.0       55542.522470\n",
              "...           ...           ...  ...               ...                ...\n",
              "977665  3169.3124    -999.00000  ...            -999.0       51473.956561\n",
              "977666  3169.4644    -999.00000  ...            -999.0       51473.956561\n",
              "977667  3169.6164    -999.00000  ...            -999.0       51473.956561\n",
              "977668  3169.7684    -999.00000  ...            -999.0       51473.956561\n",
              "977669  3169.9204    -999.00000  ...            -999.0       51473.956561\n",
              "\n",
              "[977670 rows x 24 columns]"
            ]
          },
          "metadata": {
            "tags": []
          },
          "execution_count": 88
        }
      ]
    },
    {
      "cell_type": "code",
      "metadata": {
        "id": "kc7TdoiJIaS-"
      },
      "source": [
        ""
      ],
      "execution_count": null,
      "outputs": []
    }
  ]
}