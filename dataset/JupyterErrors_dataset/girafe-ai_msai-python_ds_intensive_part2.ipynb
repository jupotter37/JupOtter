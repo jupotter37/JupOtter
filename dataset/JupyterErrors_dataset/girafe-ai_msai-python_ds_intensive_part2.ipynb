{
  "nbformat": 4,
  "nbformat_minor": 0,
  "metadata": {
    "colab": {
      "provenance": []
    },
    "kernelspec": {
      "name": "python3",
      "display_name": "Python 3"
    },
    "language_info": {
      "name": "python"
    },
    "gpuClass": "standard"
  },
  "cells": [
    {
      "cell_type": "markdown",
      "source": [
        "# Content"
      ],
      "metadata": {
        "id": "NNc8rgzTnJjk"
      }
    },
    {
      "cell_type": "markdown",
      "source": [
        "0. Warm-up :)\n",
        "1. IPython\n",
        "2. [**Numpy**](https://numpy.org/doc/stable/user/whatisnumpy.html)\n",
        "3. Pandas\n",
        "4. Matplotlib\n",
        "5. Seaborn\n",
        "6. Plotly\n",
        "7. Extra homework (:"
      ],
      "metadata": {
        "id": "NtZcJMOZnUZX"
      }
    },
    {
      "cell_type": "markdown",
      "source": [
        "# Numpy"
      ],
      "metadata": {
        "id": "qJIBdDJBPR04"
      }
    },
    {
      "cell_type": "code",
      "execution_count": null,
      "metadata": {
        "id": "EHf8zQ2LPN8A"
      },
      "outputs": [],
      "source": [
        "import numpy as np"
      ]
    },
    {
      "cell_type": "markdown",
      "metadata": {
        "id": "tsxpiP8pPN8A"
      },
      "source": [
        "## N-dimensional Array"
      ]
    },
    {
      "cell_type": "markdown",
      "source": [
        "The ``ndarray`` is very useful object of the numpy package.\n",
        "It adds efficient *operations* for working on data."
      ],
      "metadata": {
        "id": "lizaD2KCQuRV"
      }
    },
    {
      "cell_type": "code",
      "execution_count": null,
      "metadata": {
        "id": "esl9FWm0PN8A"
      },
      "outputs": [],
      "source": [
        "np.array([1, 2, 3, 4, 5])"
      ]
    },
    {
      "cell_type": "code",
      "execution_count": null,
      "metadata": {
        "id": "8fMeI9nvPN8A"
      },
      "outputs": [],
      "source": [
        "np.array([3.141592, 4, 2, 3])"
      ]
    },
    {
      "cell_type": "code",
      "execution_count": 4,
      "metadata": {
        "id": "rmQv3MPoPN8A",
        "outputId": "0b0aa2dc-f3d7-498d-f017-ef547f11435a",
        "colab": {
          "base_uri": "https://localhost:8080/"
        }
      },
      "outputs": [
        {
          "output_type": "execute_result",
          "data": {
            "text/plain": [
              "array([1., 2., 3., 4., 5.], dtype=float32)"
            ]
          },
          "metadata": {},
          "execution_count": 4
        }
      ],
      "source": [
        "arr = np.array([1, 2, 3, 4, 5], dtype='float32')\n",
        "arr"
      ]
    },
    {
      "cell_type": "code",
      "execution_count": 5,
      "metadata": {
        "id": "Z4HCR3C7PN8B",
        "outputId": "71d2dff2-68ad-4a67-b4c6-50bb0ff4e0cb",
        "colab": {
          "base_uri": "https://localhost:8080/"
        }
      },
      "outputs": [
        {
          "output_type": "execute_result",
          "data": {
            "text/plain": [
              "array([[0, 1, 2, 3, 4],\n",
              "       [0, 1, 2, 3, 4],\n",
              "       [0, 1, 2, 3, 4],\n",
              "       [0, 1, 2, 3, 4],\n",
              "       [0, 1, 2, 3, 4]])"
            ]
          },
          "metadata": {},
          "execution_count": 5
        }
      ],
      "source": [
        "np.array([range(5) for _ in range(5)])  # nested lists result in multi-dimensional arrays"
      ]
    },
    {
      "cell_type": "markdown",
      "metadata": {
        "id": "nuYidzJGPN8B"
      },
      "source": [
        "### Creating Arrays\n"
      ]
    },
    {
      "cell_type": "code",
      "execution_count": 6,
      "metadata": {
        "id": "aKnrzvqtPN8B",
        "outputId": "b5468b14-23c9-4939-c729-53fbd6084aed",
        "colab": {
          "base_uri": "https://localhost:8080/"
        }
      },
      "outputs": [
        {
          "output_type": "execute_result",
          "data": {
            "text/plain": [
              "array([0, 0, 0, 0, 0, 0, 0, 0, 0, 0])"
            ]
          },
          "metadata": {},
          "execution_count": 6
        }
      ],
      "source": [
        "np.zeros(10, dtype=int)"
      ]
    },
    {
      "cell_type": "code",
      "execution_count": 7,
      "metadata": {
        "id": "vkLyMoSgPN8B",
        "outputId": "38323d89-74bc-4248-bc38-8a1bc0da3e99",
        "colab": {
          "base_uri": "https://localhost:8080/"
        }
      },
      "outputs": [
        {
          "output_type": "execute_result",
          "data": {
            "text/plain": [
              "array([[1., 1., 1., 1., 1.],\n",
              "       [1., 1., 1., 1., 1.],\n",
              "       [1., 1., 1., 1., 1.]])"
            ]
          },
          "metadata": {},
          "execution_count": 7
        }
      ],
      "source": [
        "np.ones((3, 5), dtype=float)"
      ]
    },
    {
      "cell_type": "code",
      "execution_count": 8,
      "metadata": {
        "id": "KNUdphcCPN8B",
        "outputId": "59b7e953-4037-4673-fdcb-f4425c349b8a",
        "colab": {
          "base_uri": "https://localhost:8080/"
        }
      },
      "outputs": [
        {
          "output_type": "execute_result",
          "data": {
            "text/plain": [
              "array([[3.141592, 3.141592, 3.141592, 3.141592, 3.141592],\n",
              "       [3.141592, 3.141592, 3.141592, 3.141592, 3.141592],\n",
              "       [3.141592, 3.141592, 3.141592, 3.141592, 3.141592]])"
            ]
          },
          "metadata": {},
          "execution_count": 8
        }
      ],
      "source": [
        "np.full((3, 5), 3.141592)"
      ]
    },
    {
      "cell_type": "code",
      "execution_count": 9,
      "metadata": {
        "id": "-45Mp0_-PN8B",
        "outputId": "2c016752-7b7a-4089-d1d7-8357704131d2",
        "colab": {
          "base_uri": "https://localhost:8080/"
        }
      },
      "outputs": [
        {
          "output_type": "execute_result",
          "data": {
            "text/plain": [
              "array([ 0,  2,  4,  6,  8, 10, 12, 14, 16, 18])"
            ]
          },
          "metadata": {},
          "execution_count": 9
        }
      ],
      "source": [
        "np.arange(0, 20, 2)  # like python range()"
      ]
    },
    {
      "cell_type": "code",
      "execution_count": 10,
      "metadata": {
        "id": "QJ-PyvYqPN8B",
        "outputId": "7897400c-17a7-476b-c6bb-97fd3ebf1a79",
        "colab": {
          "base_uri": "https://localhost:8080/"
        }
      },
      "outputs": [
        {
          "output_type": "execute_result",
          "data": {
            "text/plain": [
              "array([-1. , -0.5,  0. ,  0.5,  1. ])"
            ]
          },
          "metadata": {},
          "execution_count": 10
        }
      ],
      "source": [
        "np.linspace(-1, 1, 5)"
      ]
    },
    {
      "cell_type": "code",
      "execution_count": 11,
      "metadata": {
        "id": "R439h1JyPN8C",
        "outputId": "489a976a-0286-4687-9598-3136e42c09af",
        "colab": {
          "base_uri": "https://localhost:8080/"
        }
      },
      "outputs": [
        {
          "output_type": "execute_result",
          "data": {
            "text/plain": [
              "array([[0.52311524, 0.63179054, 0.21780891],\n",
              "       [0.59270011, 0.37534584, 0.89213211],\n",
              "       [0.4918883 , 0.2755151 , 0.63889772]])"
            ]
          },
          "metadata": {},
          "execution_count": 11
        }
      ],
      "source": [
        "np.random.random((3, 3))"
      ]
    },
    {
      "cell_type": "code",
      "execution_count": 12,
      "metadata": {
        "id": "x5A6v_xMPN8C",
        "outputId": "9ab319f8-3560-481d-d8d6-3afb9bac8f89",
        "colab": {
          "base_uri": "https://localhost:8080/"
        }
      },
      "outputs": [
        {
          "output_type": "execute_result",
          "data": {
            "text/plain": [
              "array([[-1.30856405, -0.49397579, -0.50860296],\n",
              "       [ 0.41383233,  0.53965194, -2.15500368],\n",
              "       [ 0.91391755,  0.18311285,  0.06828418]])"
            ]
          },
          "metadata": {},
          "execution_count": 12
        }
      ],
      "source": [
        "np.random.normal(0, 1, (3, 3))"
      ]
    },
    {
      "cell_type": "code",
      "execution_count": 13,
      "metadata": {
        "id": "2TZUWfGUPN8C",
        "outputId": "dbdb8513-70c0-46ad-a808-06dfe14c0abd",
        "colab": {
          "base_uri": "https://localhost:8080/"
        }
      },
      "outputs": [
        {
          "output_type": "execute_result",
          "data": {
            "text/plain": [
              "array([[7, 3, 8],\n",
              "       [5, 5, 5],\n",
              "       [7, 4, 3]])"
            ]
          },
          "metadata": {},
          "execution_count": 13
        }
      ],
      "source": [
        "np.random.randint(0, 10, (3, 3))"
      ]
    },
    {
      "cell_type": "code",
      "execution_count": 14,
      "metadata": {
        "id": "eJ86Ifg8PN8C",
        "outputId": "6f674c0b-1dd2-4099-e094-fe13069c2a39",
        "colab": {
          "base_uri": "https://localhost:8080/"
        }
      },
      "outputs": [
        {
          "output_type": "execute_result",
          "data": {
            "text/plain": [
              "array([[1., 0., 0.],\n",
              "       [0., 1., 0.],\n",
              "       [0., 0., 1.]])"
            ]
          },
          "metadata": {},
          "execution_count": 14
        }
      ],
      "source": [
        "np.eye(3)"
      ]
    },
    {
      "cell_type": "code",
      "source": [
        "np.empty?"
      ],
      "metadata": {
        "id": "tPENN-KeENDb"
      },
      "execution_count": 19,
      "outputs": []
    },
    {
      "cell_type": "code",
      "execution_count": 20,
      "metadata": {
        "id": "VIDz0XQoPN8C",
        "outputId": "40cf98f5-5aed-46d2-a56f-6eb16722d9cb",
        "colab": {
          "base_uri": "https://localhost:8080/"
        }
      },
      "outputs": [
        {
          "output_type": "execute_result",
          "data": {
            "text/plain": [
              "array([ 1.71507656e-316,  3.60739284e-313, -5.54667824e-032,\n",
              "        1.71507577e-316,  0.00000000e+000,  0.00000000e+000,\n",
              "        9.88131292e-324])"
            ]
          },
          "metadata": {},
          "execution_count": 20
        }
      ],
      "source": [
        "np.empty(7)"
      ]
    },
    {
      "cell_type": "markdown",
      "metadata": {
        "id": "LdyfQBnKPN8C"
      },
      "source": [
        "### Numpy Data Types\n"
      ]
    },
    {
      "cell_type": "markdown",
      "metadata": {
        "id": "lPXjbWZ1PN8C"
      },
      "source": [
        "| Data type\t    | Description |\n",
        "|---------------|-------------|\n",
        "| ``bool_``     | Boolean (True or False) stored as a byte |\n",
        "| ``int_``      | Default integer type (same as C ``long``; normally either ``int64`` or ``int32``)| \n",
        "| ``intc``      | Identical to C ``int`` (normally ``int32`` or ``int64``)| \n",
        "| ``intp``      | Integer used for indexing (same as C ``ssize_t``; normally either ``int32`` or ``int64``)| \n",
        "| ``int8``      | Byte (-128 to 127)| \n",
        "| ``int16``     | Integer (-32768 to 32767)|\n",
        "| ``int32``     | Integer (-2147483648 to 2147483647)|\n",
        "| ``int64``     | Integer (-9223372036854775808 to 9223372036854775807)| \n",
        "| ``uint8``     | Unsigned integer (0 to 255)| \n",
        "| ``uint16``    | Unsigned integer (0 to 65535)| \n",
        "| ``uint32``    | Unsigned integer (0 to 4294967295)| \n",
        "| ``uint64``    | Unsigned integer (0 to 18446744073709551615)| \n",
        "| ``float_``    | Shorthand for ``float64``.| \n",
        "| ``float16``   | Half precision float: sign bit, 5 bits exponent, 10 bits mantissa| \n",
        "| ``float32``   | Single precision float: sign bit, 8 bits exponent, 23 bits mantissa| \n",
        "| ``float64``   | Double precision float: sign bit, 11 bits exponent, 52 bits mantissa| \n",
        "| ``complex_``  | Shorthand for ``complex128``.| \n",
        "| ``complex64`` | Complex number, represented by two 32-bit floats| \n",
        "| ``complex128``| Complex number, represented by two 64-bit floats| "
      ]
    },
    {
      "cell_type": "code",
      "source": [
        "np.zeros(4, dtype='int32')"
      ],
      "metadata": {
        "colab": {
          "base_uri": "https://localhost:8080/"
        },
        "id": "MPU6A7H4WjQc",
        "outputId": "fc9504a3-70d8-4c57-aeb0-1580c6eb1fcf"
      },
      "execution_count": 21,
      "outputs": [
        {
          "output_type": "execute_result",
          "data": {
            "text/plain": [
              "array([0, 0, 0, 0], dtype=int32)"
            ]
          },
          "metadata": {},
          "execution_count": 21
        }
      ]
    },
    {
      "cell_type": "code",
      "source": [
        "np.zeros(4, dtype=np.int32)"
      ],
      "metadata": {
        "colab": {
          "base_uri": "https://localhost:8080/"
        },
        "id": "qval___XWrK_",
        "outputId": "fb24fd54-851d-44b5-be16-dbc56e80a613"
      },
      "execution_count": 22,
      "outputs": [
        {
          "output_type": "execute_result",
          "data": {
            "text/plain": [
              "array([0, 0, 0, 0], dtype=int32)"
            ]
          },
          "metadata": {},
          "execution_count": 22
        }
      ]
    },
    {
      "cell_type": "markdown",
      "metadata": {
        "id": "p4QRvrqaPN8C"
      },
      "source": [
        "For more information [NumPy data types](https://numpy.org/doc/stable/user/basics.types.html#).\n"
      ]
    },
    {
      "cell_type": "markdown",
      "source": [
        "### Attributes"
      ],
      "metadata": {
        "id": "5su4B06JXuqA"
      }
    },
    {
      "cell_type": "code",
      "source": [
        "def attr_printer(obj):\n",
        "    print(*[name for name in dir(obj) if not (name.startswith('_') or callable(getattr(obj, name)))], sep='\\n')"
      ],
      "metadata": {
        "id": "Sm1eZowwYAFE"
      },
      "execution_count": 23,
      "outputs": []
    },
    {
      "cell_type": "code",
      "source": [
        "type(arr)"
      ],
      "metadata": {
        "colab": {
          "base_uri": "https://localhost:8080/"
        },
        "id": "TAaqy0OKFPWS",
        "outputId": "3e8a0a7d-11ef-481d-a8aa-012a1c757d40"
      },
      "execution_count": 25,
      "outputs": [
        {
          "output_type": "execute_result",
          "data": {
            "text/plain": [
              "numpy.ndarray"
            ]
          },
          "metadata": {},
          "execution_count": 25
        }
      ]
    },
    {
      "cell_type": "code",
      "source": [
        "attr_printer(arr)"
      ],
      "metadata": {
        "id": "YFoiu8LQXy4M",
        "colab": {
          "base_uri": "https://localhost:8080/"
        },
        "outputId": "083a23e2-dd60-4dcf-96fe-07b690f1d49c"
      },
      "execution_count": 24,
      "outputs": [
        {
          "output_type": "stream",
          "name": "stdout",
          "text": [
            "T\n",
            "base\n",
            "ctypes\n",
            "data\n",
            "dtype\n",
            "flags\n",
            "flat\n",
            "imag\n",
            "itemsize\n",
            "nbytes\n",
            "ndim\n",
            "real\n",
            "shape\n",
            "size\n",
            "strides\n"
          ]
        }
      ]
    },
    {
      "cell_type": "code",
      "source": [
        "np.random.seed(42)                            # seed for reproducibility\n",
        "\n",
        "arr1 = np.random.randint(10, size=6)          # 1-d array\n",
        "arr2 = np.random.randint(10, size=(3, 4))     # 2-d array\n",
        "arr3 = np.random.randint(10, size=(3, 4, 5))  # 3-d array"
      ],
      "metadata": {
        "id": "ayVAkzxFX1fk"
      },
      "execution_count": 26,
      "outputs": []
    },
    {
      "cell_type": "code",
      "source": [
        "arr3.ndim"
      ],
      "metadata": {
        "colab": {
          "base_uri": "https://localhost:8080/"
        },
        "id": "G3WD2V6TpFxv",
        "outputId": "20c05d0b-1d00-41be-ff86-cb8bee52a1f5"
      },
      "execution_count": 27,
      "outputs": [
        {
          "output_type": "execute_result",
          "data": {
            "text/plain": [
              "3"
            ]
          },
          "metadata": {},
          "execution_count": 27
        }
      ]
    },
    {
      "cell_type": "code",
      "source": [
        "arr3.shape"
      ],
      "metadata": {
        "colab": {
          "base_uri": "https://localhost:8080/"
        },
        "id": "nkZVqaYVpqxt",
        "outputId": "74b93895-7f8d-4f10-be97-476889cbc9b4"
      },
      "execution_count": 28,
      "outputs": [
        {
          "output_type": "execute_result",
          "data": {
            "text/plain": [
              "(3, 4, 5)"
            ]
          },
          "metadata": {},
          "execution_count": 28
        }
      ]
    },
    {
      "cell_type": "code",
      "execution_count": 29,
      "metadata": {
        "id": "jtBC1mZmXnmJ",
        "outputId": "4854516c-6e35-4a19-effd-4abe7543625d",
        "colab": {
          "base_uri": "https://localhost:8080/"
        }
      },
      "outputs": [
        {
          "output_type": "execute_result",
          "data": {
            "text/plain": [
              "60"
            ]
          },
          "metadata": {},
          "execution_count": 29
        }
      ],
      "source": [
        "arr3.size"
      ]
    },
    {
      "cell_type": "markdown",
      "metadata": {
        "id": "Z6F0fLekXnmK"
      },
      "source": [
        "### Accessing Single Elements"
      ]
    },
    {
      "cell_type": "code",
      "execution_count": 30,
      "metadata": {
        "id": "zUph--XVXnmK",
        "outputId": "5a28463f-b17f-4d8c-f38c-8c1b086362ea",
        "colab": {
          "base_uri": "https://localhost:8080/"
        }
      },
      "outputs": [
        {
          "output_type": "execute_result",
          "data": {
            "text/plain": [
              "array([6, 3, 7, 4, 6, 9])"
            ]
          },
          "metadata": {},
          "execution_count": 30
        }
      ],
      "source": [
        "arr1"
      ]
    },
    {
      "cell_type": "code",
      "execution_count": 31,
      "metadata": {
        "id": "Bj27DcA3XnmL",
        "outputId": "64d1d454-6cab-4a06-b53f-527fc48eaf91",
        "colab": {
          "base_uri": "https://localhost:8080/"
        }
      },
      "outputs": [
        {
          "output_type": "execute_result",
          "data": {
            "text/plain": [
              "6"
            ]
          },
          "metadata": {},
          "execution_count": 31
        }
      ],
      "source": [
        "arr1[0]"
      ]
    },
    {
      "cell_type": "code",
      "execution_count": 32,
      "metadata": {
        "id": "2yq56PLcXnmL",
        "outputId": "7133a651-2139-4a5c-f731-e30a8ef20abf",
        "colab": {
          "base_uri": "https://localhost:8080/"
        }
      },
      "outputs": [
        {
          "output_type": "execute_result",
          "data": {
            "text/plain": [
              "6"
            ]
          },
          "metadata": {},
          "execution_count": 32
        }
      ],
      "source": [
        "arr1[4]"
      ]
    },
    {
      "cell_type": "code",
      "execution_count": 33,
      "metadata": {
        "id": "uOyo--4cXnmL",
        "outputId": "dba41d4f-8bff-4977-f07b-712f925a416e",
        "colab": {
          "base_uri": "https://localhost:8080/"
        }
      },
      "outputs": [
        {
          "output_type": "execute_result",
          "data": {
            "text/plain": [
              "9"
            ]
          },
          "metadata": {},
          "execution_count": 33
        }
      ],
      "source": [
        "arr1[-1]"
      ]
    },
    {
      "cell_type": "code",
      "execution_count": 34,
      "metadata": {
        "id": "GSdxjb_QXnmL",
        "outputId": "0735b6a8-4be7-4b93-c334-4c312da7e17f",
        "colab": {
          "base_uri": "https://localhost:8080/"
        }
      },
      "outputs": [
        {
          "output_type": "execute_result",
          "data": {
            "text/plain": [
              "6"
            ]
          },
          "metadata": {},
          "execution_count": 34
        }
      ],
      "source": [
        "arr1[-2]"
      ]
    },
    {
      "cell_type": "code",
      "execution_count": 35,
      "metadata": {
        "id": "4k2aIr-fXnmL",
        "colab": {
          "base_uri": "https://localhost:8080/"
        },
        "outputId": "2e2cd794-417b-40e8-84ce-154a292722de"
      },
      "outputs": [
        {
          "output_type": "execute_result",
          "data": {
            "text/plain": [
              "array([[2, 6, 7, 4],\n",
              "       [3, 7, 7, 2],\n",
              "       [5, 4, 1, 7]])"
            ]
          },
          "metadata": {},
          "execution_count": 35
        }
      ],
      "source": [
        "arr2"
      ]
    },
    {
      "cell_type": "code",
      "execution_count": 37,
      "metadata": {
        "id": "AslA198HXnmL",
        "outputId": "6e65ac31-db2a-42b7-a2ba-8f4f52cf37b6",
        "colab": {
          "base_uri": "https://localhost:8080/"
        }
      },
      "outputs": [
        {
          "output_type": "execute_result",
          "data": {
            "text/plain": [
              "2"
            ]
          },
          "metadata": {},
          "execution_count": 37
        }
      ],
      "source": [
        "arr2[0, 0]"
      ]
    },
    {
      "cell_type": "code",
      "source": [
        "lst = [[0]]\n",
        "print(lst[0][0])\n",
        "lst[0, 0]"
      ],
      "metadata": {
        "colab": {
          "base_uri": "https://localhost:8080/",
          "height": 231
        },
        "id": "IhkinCGAGPRt",
        "outputId": "148eeb4e-36c8-46af-80ff-cb584bbe115c"
      },
      "execution_count": 36,
      "outputs": [
        {
          "output_type": "stream",
          "name": "stdout",
          "text": [
            "0\n"
          ]
        },
        {
          "output_type": "error",
          "ename": "TypeError",
          "evalue": "ignored",
          "traceback": [
            "\u001b[0;31m---------------------------------------------------------------------------\u001b[0m",
            "\u001b[0;31mTypeError\u001b[0m                                 Traceback (most recent call last)",
            "\u001b[0;32m<ipython-input-36-8baf784fee69>\u001b[0m in \u001b[0;36m<module>\u001b[0;34m\u001b[0m\n\u001b[1;32m      1\u001b[0m \u001b[0mlst\u001b[0m \u001b[0;34m=\u001b[0m \u001b[0;34m[\u001b[0m\u001b[0;34m[\u001b[0m\u001b[0;36m0\u001b[0m\u001b[0;34m]\u001b[0m\u001b[0;34m]\u001b[0m\u001b[0;34m\u001b[0m\u001b[0;34m\u001b[0m\u001b[0m\n\u001b[1;32m      2\u001b[0m \u001b[0mprint\u001b[0m\u001b[0;34m(\u001b[0m\u001b[0mlst\u001b[0m\u001b[0;34m[\u001b[0m\u001b[0;36m0\u001b[0m\u001b[0;34m]\u001b[0m\u001b[0;34m[\u001b[0m\u001b[0;36m0\u001b[0m\u001b[0;34m]\u001b[0m\u001b[0;34m)\u001b[0m\u001b[0;34m\u001b[0m\u001b[0;34m\u001b[0m\u001b[0m\n\u001b[0;32m----> 3\u001b[0;31m \u001b[0mlst\u001b[0m\u001b[0;34m[\u001b[0m\u001b[0;36m0\u001b[0m\u001b[0;34m,\u001b[0m \u001b[0;36m0\u001b[0m\u001b[0;34m]\u001b[0m\u001b[0;34m\u001b[0m\u001b[0;34m\u001b[0m\u001b[0m\n\u001b[0m",
            "\u001b[0;31mTypeError\u001b[0m: list indices must be integers or slices, not tuple"
          ]
        }
      ]
    },
    {
      "cell_type": "code",
      "execution_count": 38,
      "metadata": {
        "id": "Dj0a_aOmXnmM",
        "outputId": "8c5da140-1f57-46d5-cd72-8df33445b746",
        "colab": {
          "base_uri": "https://localhost:8080/"
        }
      },
      "outputs": [
        {
          "output_type": "execute_result",
          "data": {
            "text/plain": [
              "5"
            ]
          },
          "metadata": {},
          "execution_count": 38
        }
      ],
      "source": [
        "arr2[2, 0]"
      ]
    },
    {
      "cell_type": "code",
      "execution_count": 39,
      "metadata": {
        "id": "OdJfXsgKXnmM",
        "outputId": "064454f4-ee96-4487-f145-04f18fba36d9",
        "colab": {
          "base_uri": "https://localhost:8080/"
        }
      },
      "outputs": [
        {
          "output_type": "execute_result",
          "data": {
            "text/plain": [
              "7"
            ]
          },
          "metadata": {},
          "execution_count": 39
        }
      ],
      "source": [
        "arr2[2, -1]"
      ]
    },
    {
      "cell_type": "code",
      "execution_count": 40,
      "metadata": {
        "id": "-y2lRK_mXnmM",
        "outputId": "b5a3dc77-4015-4f2a-ea45-ba42fc02fe5a",
        "colab": {
          "base_uri": "https://localhost:8080/"
        }
      },
      "outputs": [
        {
          "output_type": "execute_result",
          "data": {
            "text/plain": [
              "array([[12,  6,  7,  4],\n",
              "       [ 3,  7,  7,  2],\n",
              "       [ 5,  4,  1,  7]])"
            ]
          },
          "metadata": {},
          "execution_count": 40
        }
      ],
      "source": [
        "arr2[0, 0] = 12\n",
        "arr2"
      ]
    },
    {
      "cell_type": "code",
      "execution_count": 41,
      "metadata": {
        "id": "KPtbH-tdXnmM",
        "outputId": "cac1c1de-9495-4ddf-bce4-f1fc9cc45c8a",
        "colab": {
          "base_uri": "https://localhost:8080/"
        }
      },
      "outputs": [
        {
          "output_type": "execute_result",
          "data": {
            "text/plain": [
              "array([[3, 3, 3, 3],\n",
              "       [3, 7, 7, 2],\n",
              "       [5, 4, 1, 7]])"
            ]
          },
          "metadata": {},
          "execution_count": 41
        }
      ],
      "source": [
        "arr2[0] = 3.1415926535  # will be truncated\n",
        "arr2"
      ]
    },
    {
      "cell_type": "markdown",
      "source": [
        "## Shape Manipulation"
      ],
      "metadata": {
        "id": "4oAx3naCxHFh"
      }
    },
    {
      "cell_type": "markdown",
      "metadata": {
        "id": "81ql80ciXnmM"
      },
      "source": [
        "### Slicing"
      ]
    },
    {
      "cell_type": "markdown",
      "metadata": {
        "id": "N1uXFgS1XnmM"
      },
      "source": [
        "Default values ``start=0``, ``stop=``*``size of dimension``*, ``step=1``.\n"
      ]
    },
    {
      "cell_type": "code",
      "source": [
        "arr = np.arange(10)\n",
        "arr, arr[::-2]"
      ],
      "metadata": {
        "colab": {
          "base_uri": "https://localhost:8080/"
        },
        "id": "PkfRlgSDsPre",
        "outputId": "8d60d490-3848-4130-ce2e-eac313f88dd3"
      },
      "execution_count": 42,
      "outputs": [
        {
          "output_type": "execute_result",
          "data": {
            "text/plain": [
              "(array([0, 1, 2, 3, 4, 5, 6, 7, 8, 9]), array([9, 7, 5, 3, 1]))"
            ]
          },
          "metadata": {},
          "execution_count": 42
        }
      ]
    },
    {
      "cell_type": "markdown",
      "metadata": {
        "id": "XxZopofaXnmN"
      },
      "source": [
        "### Multi-dimensional"
      ]
    },
    {
      "cell_type": "code",
      "execution_count": 43,
      "metadata": {
        "id": "VHo1BYpeXnmN",
        "outputId": "a6bc0ca6-14ad-4a6d-e9b6-986066011a80",
        "colab": {
          "base_uri": "https://localhost:8080/"
        }
      },
      "outputs": [
        {
          "output_type": "execute_result",
          "data": {
            "text/plain": [
              "array([[3, 3, 3, 3],\n",
              "       [3, 7, 7, 2],\n",
              "       [5, 4, 1, 7]])"
            ]
          },
          "metadata": {},
          "execution_count": 43
        }
      ],
      "source": [
        "arr2"
      ]
    },
    {
      "cell_type": "markdown",
      "source": [
        "two rows, three columns"
      ],
      "metadata": {
        "id": "cT1pkTbtsjU4"
      }
    },
    {
      "cell_type": "code",
      "execution_count": 44,
      "metadata": {
        "id": "u9m-4CKMXnmN",
        "outputId": "34f4bf53-3d5e-49a5-d622-d9b75ac4b6e3",
        "colab": {
          "base_uri": "https://localhost:8080/"
        }
      },
      "outputs": [
        {
          "output_type": "execute_result",
          "data": {
            "text/plain": [
              "array([[3, 3, 3],\n",
              "       [3, 7, 7]])"
            ]
          },
          "metadata": {},
          "execution_count": 44
        }
      ],
      "source": [
        "arr2[:2, :3]  "
      ]
    },
    {
      "cell_type": "code",
      "execution_count": 45,
      "metadata": {
        "id": "N5gw-O7xXnmN",
        "outputId": "f14a7834-9813-40b7-a512-9c3beacd93bc",
        "colab": {
          "base_uri": "https://localhost:8080/"
        }
      },
      "outputs": [
        {
          "output_type": "execute_result",
          "data": {
            "text/plain": [
              "array([[3, 3],\n",
              "       [3, 7],\n",
              "       [5, 1]])"
            ]
          },
          "metadata": {},
          "execution_count": 45
        }
      ],
      "source": [
        "arr2[:3, ::2]  "
      ]
    },
    {
      "cell_type": "code",
      "execution_count": 46,
      "metadata": {
        "id": "VEnCVRRPXnmN",
        "outputId": "3fedca95-2311-4186-879e-8750bf28386a",
        "colab": {
          "base_uri": "https://localhost:8080/"
        }
      },
      "outputs": [
        {
          "output_type": "execute_result",
          "data": {
            "text/plain": [
              "array([[7, 1, 4, 5],\n",
              "       [2, 7, 7, 3],\n",
              "       [3, 3, 3, 3]])"
            ]
          },
          "metadata": {},
          "execution_count": 46
        }
      ],
      "source": [
        "arr2[::-1, ::-1]"
      ]
    },
    {
      "cell_type": "markdown",
      "metadata": {
        "id": "477TD6AYXnmN"
      },
      "source": [
        "### Accessing array rows and columns\n"
      ]
    },
    {
      "cell_type": "code",
      "execution_count": 49,
      "metadata": {
        "id": "ZakhH-jZXnmN",
        "outputId": "a15f9e60-dc38-42b6-d0c6-bedf47faf897",
        "colab": {
          "base_uri": "https://localhost:8080/"
        }
      },
      "outputs": [
        {
          "output_type": "stream",
          "name": "stdout",
          "text": [
            "[3 3 5]\n"
          ]
        },
        {
          "output_type": "execute_result",
          "data": {
            "text/plain": [
              "array([3, 3, 5])"
            ]
          },
          "metadata": {},
          "execution_count": 49
        }
      ],
      "source": [
        "print(arr2[:, 0])  # column of arr2\n",
        "arr2[:, 0]"
      ]
    },
    {
      "cell_type": "code",
      "execution_count": 50,
      "metadata": {
        "id": "iaByBsrtXnmN",
        "outputId": "63e6f2e9-bb5c-45e8-a8d9-0111ae260f39",
        "colab": {
          "base_uri": "https://localhost:8080/"
        }
      },
      "outputs": [
        {
          "output_type": "stream",
          "name": "stdout",
          "text": [
            "[3 3 3 3]\n"
          ]
        }
      ],
      "source": [
        "print(arr2[0, :])  # row of arr2"
      ]
    },
    {
      "cell_type": "code",
      "execution_count": 51,
      "metadata": {
        "id": "BxoEhuItXnmN",
        "outputId": "e93ca716-1bb6-49dc-fee9-b55e184dc5ee",
        "colab": {
          "base_uri": "https://localhost:8080/"
        }
      },
      "outputs": [
        {
          "output_type": "stream",
          "name": "stdout",
          "text": [
            "[3 3 3 3]\n"
          ]
        }
      ],
      "source": [
        "print(arr2[0])  # equivalent to arr2[0, :]"
      ]
    },
    {
      "cell_type": "markdown",
      "metadata": {
        "id": "8OWeZx1OXnmN"
      },
      "source": [
        "### Views\n"
      ]
    },
    {
      "cell_type": "code",
      "execution_count": 52,
      "metadata": {
        "id": "TbL44A9UXnmO",
        "outputId": "2e857c9d-4245-424a-ff51-5c6e728dc53e",
        "colab": {
          "base_uri": "https://localhost:8080/"
        }
      },
      "outputs": [
        {
          "output_type": "stream",
          "name": "stdout",
          "text": [
            "[[3 3 3 3]\n",
            " [3 7 7 2]\n",
            " [5 4 1 7]]\n"
          ]
        }
      ],
      "source": [
        "print(arr2)"
      ]
    },
    {
      "cell_type": "code",
      "execution_count": 53,
      "metadata": {
        "id": "G0N1q_ZQXnmO",
        "outputId": "26bd9d38-cccb-4ebb-ea7f-d682398cad47",
        "colab": {
          "base_uri": "https://localhost:8080/"
        }
      },
      "outputs": [
        {
          "output_type": "stream",
          "name": "stdout",
          "text": [
            "[[3 3]\n",
            " [3 7]]\n"
          ]
        }
      ],
      "source": [
        "arr2_sub = arr2[:2, :2]\n",
        "print(arr2_sub)"
      ]
    },
    {
      "cell_type": "code",
      "execution_count": 54,
      "metadata": {
        "id": "trhD7BpwXnmO",
        "outputId": "5be9911b-ad2b-44d9-ab0a-556b3d1110b4",
        "colab": {
          "base_uri": "https://localhost:8080/"
        }
      },
      "outputs": [
        {
          "output_type": "stream",
          "name": "stdout",
          "text": [
            "[[ 3  3]\n",
            " [ 3 42]]\n"
          ]
        }
      ],
      "source": [
        "arr2_sub[1, 1] = 42\n",
        "print(arr2_sub)"
      ]
    },
    {
      "cell_type": "code",
      "execution_count": 55,
      "metadata": {
        "id": "hOLI4htxXnmO",
        "outputId": "f5c6a6aa-5f13-493f-ba35-04805342fec7",
        "colab": {
          "base_uri": "https://localhost:8080/"
        }
      },
      "outputs": [
        {
          "output_type": "stream",
          "name": "stdout",
          "text": [
            "[[ 3  3  3  3]\n",
            " [ 3 42  7  2]\n",
            " [ 5  4  1  7]]\n"
          ]
        }
      ],
      "source": [
        "print(arr2)"
      ]
    },
    {
      "cell_type": "markdown",
      "metadata": {
        "id": "0PsM7VCEXnmO"
      },
      "source": [
        "### Copies\n",
        "\n",
        "This can be done with the ``copy()`` method:"
      ]
    },
    {
      "cell_type": "code",
      "execution_count": 56,
      "metadata": {
        "id": "ugXFhtrsXnmO",
        "outputId": "4d02cb07-b8e2-444d-cbd9-4f3855994beb",
        "colab": {
          "base_uri": "https://localhost:8080/"
        }
      },
      "outputs": [
        {
          "output_type": "stream",
          "name": "stdout",
          "text": [
            "[[ 3  3]\n",
            " [ 3 42]]\n"
          ]
        }
      ],
      "source": [
        "arr2_sub_copy = arr2[:2, :2].copy()\n",
        "print(arr2_sub_copy)"
      ]
    },
    {
      "cell_type": "code",
      "execution_count": 57,
      "metadata": {
        "id": "jz9IBo05XnmO",
        "outputId": "d0dbae37-aa70-4e67-9844-1f60198d2ce6",
        "colab": {
          "base_uri": "https://localhost:8080/"
        }
      },
      "outputs": [
        {
          "output_type": "stream",
          "name": "stdout",
          "text": [
            "[[42  3]\n",
            " [ 3 42]]\n"
          ]
        }
      ],
      "source": [
        "arr2_sub_copy[0, 0] = 42\n",
        "print(arr2_sub_copy)"
      ]
    },
    {
      "cell_type": "code",
      "execution_count": 58,
      "metadata": {
        "id": "AGCljcwqXnmO",
        "outputId": "508f41ab-0401-4abb-ff4a-ae09997c6534",
        "colab": {
          "base_uri": "https://localhost:8080/"
        }
      },
      "outputs": [
        {
          "output_type": "stream",
          "name": "stdout",
          "text": [
            "[[ 3  3  3  3]\n",
            " [ 3 42  7  2]\n",
            " [ 5  4  1  7]]\n"
          ]
        }
      ],
      "source": [
        "print(arr2)"
      ]
    },
    {
      "cell_type": "markdown",
      "metadata": {
        "id": "IM49pzlCXnmO"
      },
      "source": [
        "### Reshaping"
      ]
    },
    {
      "cell_type": "code",
      "source": [
        "def methods_printer(obj):\n",
        "    print(len([name for name in dir(obj) if not ((name.startswith('_') or not callable(getattr(obj, name))))]))\n",
        "    print(*[name for name in dir(obj) if not ((name.startswith('_') or not callable(getattr(obj, name))))], sep='\\n')"
      ],
      "metadata": {
        "id": "TJFxonf-JJ_B"
      },
      "execution_count": 68,
      "outputs": []
    },
    {
      "cell_type": "code",
      "source": [
        "methods_printer(arr)"
      ],
      "metadata": {
        "colab": {
          "base_uri": "https://localhost:8080/"
        },
        "id": "YZhsii-DJR9O",
        "outputId": "f9296f06-2c42-40fa-abde-d23382c06d8a"
      },
      "execution_count": 70,
      "outputs": [
        {
          "output_type": "stream",
          "name": "stdout",
          "text": [
            "56\n",
            "all\n",
            "any\n",
            "argmax\n",
            "argmin\n",
            "argpartition\n",
            "argsort\n",
            "astype\n",
            "byteswap\n",
            "choose\n",
            "clip\n",
            "compress\n",
            "conj\n",
            "conjugate\n",
            "copy\n",
            "cumprod\n",
            "cumsum\n",
            "diagonal\n",
            "dot\n",
            "dump\n",
            "dumps\n",
            "fill\n",
            "flatten\n",
            "getfield\n",
            "item\n",
            "itemset\n",
            "max\n",
            "mean\n",
            "min\n",
            "newbyteorder\n",
            "nonzero\n",
            "partition\n",
            "prod\n",
            "ptp\n",
            "put\n",
            "ravel\n",
            "repeat\n",
            "reshape\n",
            "resize\n",
            "round\n",
            "searchsorted\n",
            "setfield\n",
            "setflags\n",
            "sort\n",
            "squeeze\n",
            "std\n",
            "sum\n",
            "swapaxes\n",
            "take\n",
            "tobytes\n",
            "tofile\n",
            "tolist\n",
            "tostring\n",
            "trace\n",
            "transpose\n",
            "var\n",
            "view\n"
          ]
        }
      ]
    },
    {
      "cell_type": "code",
      "source": [
        "np.arange(42)"
      ],
      "metadata": {
        "colab": {
          "base_uri": "https://localhost:8080/"
        },
        "id": "dd0ugRsnKHE8",
        "outputId": "d0d5dfe8-589d-4994-9217-c32cb7c039e9"
      },
      "execution_count": 72,
      "outputs": [
        {
          "output_type": "execute_result",
          "data": {
            "text/plain": [
              "array([ 0,  1,  2,  3,  4,  5,  6,  7,  8,  9, 10, 11, 12, 13, 14, 15, 16,\n",
              "       17, 18, 19, 20, 21, 22, 23, 24, 25, 26, 27, 28, 29, 30, 31, 32, 33,\n",
              "       34, 35, 36, 37, 38, 39, 40, 41])"
            ]
          },
          "metadata": {},
          "execution_count": 72
        }
      ]
    },
    {
      "cell_type": "code",
      "execution_count": 71,
      "metadata": {
        "id": "CeqXZ2hKXnmO",
        "outputId": "005b0052-4b18-4225-f73e-24f9c771c93e",
        "colab": {
          "base_uri": "https://localhost:8080/"
        }
      },
      "outputs": [
        {
          "output_type": "stream",
          "name": "stdout",
          "text": [
            "[[ 0  1  2  3  4  5  6]\n",
            " [ 7  8  9 10 11 12 13]\n",
            " [14 15 16 17 18 19 20]\n",
            " [21 22 23 24 25 26 27]\n",
            " [28 29 30 31 32 33 34]\n",
            " [35 36 37 38 39 40 41]]\n"
          ]
        }
      ],
      "source": [
        "grid = np.arange(42).reshape((6, 7))\n",
        "print(grid)"
      ]
    },
    {
      "cell_type": "code",
      "execution_count": 74,
      "metadata": {
        "id": "Eva1eog8XnmO",
        "outputId": "67502745-9b8e-4380-9d7e-bdcd13edea27",
        "colab": {
          "base_uri": "https://localhost:8080/"
        }
      },
      "outputs": [
        {
          "output_type": "execute_result",
          "data": {
            "text/plain": [
              "2"
            ]
          },
          "metadata": {},
          "execution_count": 74
        }
      ],
      "source": [
        "arr = np.array([1, 2, 3, 4, 5])\n",
        "\n",
        "arr.reshape((1, 5)).ndim"
      ]
    },
    {
      "cell_type": "markdown",
      "source": [
        "row vector via newaxis"
      ],
      "metadata": {
        "id": "wi_oO3H4vNDX"
      }
    },
    {
      "cell_type": "code",
      "source": [
        "arr"
      ],
      "metadata": {
        "colab": {
          "base_uri": "https://localhost:8080/"
        },
        "id": "s0rwiABuKvE2",
        "outputId": "cb11e38a-74e1-48d4-9a5b-0d8d755e0f93"
      },
      "execution_count": 76,
      "outputs": [
        {
          "output_type": "execute_result",
          "data": {
            "text/plain": [
              "array([1, 2, 3, 4, 5])"
            ]
          },
          "metadata": {},
          "execution_count": 76
        }
      ]
    },
    {
      "cell_type": "code",
      "execution_count": 75,
      "metadata": {
        "id": "ljuF95lhXnmP",
        "outputId": "fda09bf3-d1ae-430c-d0f8-15fb4b972dcc",
        "colab": {
          "base_uri": "https://localhost:8080/"
        }
      },
      "outputs": [
        {
          "output_type": "execute_result",
          "data": {
            "text/plain": [
              "array([[1, 2, 3, 4, 5]])"
            ]
          },
          "metadata": {},
          "execution_count": 75
        }
      ],
      "source": [
        "arr[np.newaxis, :]"
      ]
    },
    {
      "cell_type": "code",
      "execution_count": 77,
      "metadata": {
        "id": "MQTVwH2IXnmP",
        "outputId": "6ad4bcf5-fe6b-4312-94b4-b46d14090e3a",
        "colab": {
          "base_uri": "https://localhost:8080/"
        }
      },
      "outputs": [
        {
          "output_type": "execute_result",
          "data": {
            "text/plain": [
              "array([[1],\n",
              "       [2],\n",
              "       [3],\n",
              "       [4],\n",
              "       [5]])"
            ]
          },
          "metadata": {},
          "execution_count": 77
        }
      ],
      "source": [
        "arr[:, np.newaxis]"
      ]
    },
    {
      "cell_type": "code",
      "execution_count": 78,
      "metadata": {
        "id": "i9vvDkCnXnmP",
        "outputId": "45cb6ac3-a32f-4122-a61e-70c7ceb0457b",
        "colab": {
          "base_uri": "https://localhost:8080/"
        }
      },
      "outputs": [
        {
          "output_type": "execute_result",
          "data": {
            "text/plain": [
              "array([[1],\n",
              "       [2],\n",
              "       [3],\n",
              "       [4],\n",
              "       [5]])"
            ]
          },
          "metadata": {},
          "execution_count": 78
        }
      ],
      "source": [
        "arr.reshape((5, 1))"
      ]
    },
    {
      "cell_type": "markdown",
      "metadata": {
        "id": "epFY9tdeXnmP"
      },
      "source": [
        "### Array Concatenation and Splitting\n"
      ]
    },
    {
      "cell_type": "markdown",
      "metadata": {
        "id": "4jIWX85ZXnmP"
      },
      "source": [
        "### Concatenation\n",
        "\n"
      ]
    },
    {
      "cell_type": "code",
      "execution_count": 79,
      "metadata": {
        "id": "9l_nvFaSXnmP",
        "outputId": "0b518d64-ed86-4811-fdf9-095059cf7754",
        "colab": {
          "base_uri": "https://localhost:8080/"
        }
      },
      "outputs": [
        {
          "output_type": "execute_result",
          "data": {
            "text/plain": [
              "array([1, 2, 3, 4, 4, 3, 2, 1])"
            ]
          },
          "metadata": {},
          "execution_count": 79
        }
      ],
      "source": [
        "arr1 = np.array([1, 2, 3, 4])\n",
        "arr2 = np.array([4, 3, 2, 1])\n",
        "np.concatenate([arr1, arr2])"
      ]
    },
    {
      "cell_type": "code",
      "execution_count": 80,
      "metadata": {
        "id": "mYBTqLFcXnmP",
        "outputId": "cdf420eb-1a5a-41ff-ff35-123dfa15583d",
        "colab": {
          "base_uri": "https://localhost:8080/"
        }
      },
      "outputs": [
        {
          "output_type": "execute_result",
          "data": {
            "text/plain": [
              "array([ 1,  2,  3,  4,  4,  3,  2,  1, 42, 42, 42, 42])"
            ]
          },
          "metadata": {},
          "execution_count": 80
        }
      ],
      "source": [
        "arr3 = [42, 42, 42, 42]\n",
        "np.concatenate([arr1, arr2, arr3])"
      ]
    },
    {
      "cell_type": "code",
      "execution_count": 81,
      "metadata": {
        "id": "qBHbn7rHXnmP"
      },
      "outputs": [],
      "source": [
        "grid = np.array([[1, 2, 3, 4],\n",
        "                 [5, 6, 7, 8]])  # axis=0"
      ]
    },
    {
      "cell_type": "code",
      "execution_count": 82,
      "metadata": {
        "id": "mNBB4PK8XnmP",
        "outputId": "fe058f58-8acc-4680-e5dc-d9ed60d08142",
        "colab": {
          "base_uri": "https://localhost:8080/"
        }
      },
      "outputs": [
        {
          "output_type": "execute_result",
          "data": {
            "text/plain": [
              "array([[1, 2, 3, 4],\n",
              "       [5, 6, 7, 8],\n",
              "       [1, 2, 3, 4],\n",
              "       [5, 6, 7, 8]])"
            ]
          },
          "metadata": {},
          "execution_count": 82
        }
      ],
      "source": [
        "np.concatenate([grid, grid])"
      ]
    },
    {
      "cell_type": "code",
      "execution_count": 83,
      "metadata": {
        "id": "TShQpIUFXnmP",
        "outputId": "d30e517e-963d-4ec7-c287-29f3f1784088",
        "colab": {
          "base_uri": "https://localhost:8080/"
        }
      },
      "outputs": [
        {
          "output_type": "execute_result",
          "data": {
            "text/plain": [
              "array([[1, 2, 3, 4, 1, 2, 3, 4],\n",
              "       [5, 6, 7, 8, 5, 6, 7, 8]])"
            ]
          },
          "metadata": {},
          "execution_count": 83
        }
      ],
      "source": [
        "np.concatenate([grid, grid], axis=1)"
      ]
    },
    {
      "cell_type": "code",
      "execution_count": 84,
      "metadata": {
        "id": "oMwMIZu5XnmP",
        "outputId": "a4ca71a9-3f0f-47bf-c14d-a160af98a89c",
        "colab": {
          "base_uri": "https://localhost:8080/"
        }
      },
      "outputs": [
        {
          "output_type": "stream",
          "name": "stdout",
          "text": [
            "[[42 42 42 42]\n",
            " [ 1  2  3  4]\n",
            " [ 5  6  7  8]]\n",
            "[[42 42]\n",
            " [42 42]]\n",
            "[[ 1  2  3  4 42 42]\n",
            " [ 5  6  7  8 42 42]]\n"
          ]
        }
      ],
      "source": [
        "arr = np.array([42, 42, 42, 42])\n",
        "grid = np.array([[1, 2, 3, 4],\n",
        "                 [5, 6, 7, 8]])\n",
        "\n",
        "# v\n",
        "print(np.vstack([arr, grid]))\n",
        "\n",
        "# h\n",
        "# but firstly:\n",
        "print(arr.reshape(2, -1))\n",
        "\n",
        "print(np.hstack([grid, arr.reshape(2, -1)]))\n",
        "\n",
        "\n",
        "# d - np.dstack - along the 3d axis."
      ]
    },
    {
      "cell_type": "markdown",
      "metadata": {
        "id": "BQmhsxAMXnmP"
      },
      "source": [
        "### Splitting\n"
      ]
    },
    {
      "cell_type": "code",
      "execution_count": 85,
      "metadata": {
        "id": "493WBZ99XnmP",
        "outputId": "6a50d99c-fd02-49f9-c424-c87f4b2bdc46",
        "colab": {
          "base_uri": "https://localhost:8080/"
        }
      },
      "outputs": [
        {
          "output_type": "stream",
          "name": "stdout",
          "text": [
            "[0]\n",
            "[1 2 3]\n",
            "[4 5 6 7 8 9]\n",
            "[10 11]\n"
          ]
        }
      ],
      "source": [
        "arr = np.arange(12)\n",
        "arr1, arr2, arr3, arr4 = np.split(arr, [1, 4, 10])  # N split-points to N + 1 subarrays\n",
        "print(arr1, arr2, arr3, arr4, sep='\\n')  \n",
        "\n",
        "# np.hsplit\n",
        "# np.vsplit"
      ]
    },
    {
      "cell_type": "markdown",
      "metadata": {
        "id": "NJkexq_P066e"
      },
      "source": [
        "## Universal Functions"
      ]
    },
    {
      "cell_type": "code",
      "execution_count": 86,
      "metadata": {
        "id": "1CDsdEBY066j",
        "outputId": "854d5b85-cc22-441c-9215-a14ea5597f46",
        "colab": {
          "base_uri": "https://localhost:8080/"
        }
      },
      "outputs": [
        {
          "output_type": "execute_result",
          "data": {
            "text/plain": [
              "array([0.        , 0.5       , 0.66666667, 0.75      , 0.8       ])"
            ]
          },
          "metadata": {},
          "execution_count": 86
        }
      ],
      "source": [
        "np.arange(5) / np.arange(1, 6)"
      ]
    },
    {
      "cell_type": "code",
      "execution_count": 88,
      "metadata": {
        "id": "BO6mMTas066k",
        "outputId": "a4f655eb-8407-468f-d905-b14aafc25f8a",
        "colab": {
          "base_uri": "https://localhost:8080/"
        }
      },
      "outputs": [
        {
          "output_type": "stream",
          "name": "stdout",
          "text": [
            "[[0 1 2]\n",
            " [3 4 5]\n",
            " [6 7 8]]\n"
          ]
        },
        {
          "output_type": "execute_result",
          "data": {
            "text/plain": [
              "array([[  1,   2,   4],\n",
              "       [  8,  16,  32],\n",
              "       [ 64, 128, 256]])"
            ]
          },
          "metadata": {},
          "execution_count": 88
        }
      ],
      "source": [
        "x = np.arange(9).reshape((3, 3))\n",
        "print(x)\n",
        "2 ** x"
      ]
    },
    {
      "cell_type": "markdown",
      "metadata": {
        "id": "LhNaRNyL066k"
      },
      "source": [
        "### Array arithmetic\n"
      ]
    },
    {
      "cell_type": "code",
      "execution_count": 89,
      "metadata": {
        "id": "UF0vyzMN066k",
        "outputId": "577f37c3-b2a9-4e5c-de98-a24ec6c2b6d2",
        "colab": {
          "base_uri": "https://localhost:8080/"
        }
      },
      "outputs": [
        {
          "output_type": "stream",
          "name": "stdout",
          "text": [
            "x      = [0 1 2 3]\n",
            "-x     = [ 0 -1 -2 -3]\n",
            "x + 5  = [5 6 7 8]\n",
            "x - 5  = [-5 -4 -3 -2]\n",
            "x * 2  = [0 2 4 6]\n",
            "x / 2  = [0.  0.5 1.  1.5]\n",
            "x // 2 = [0 0 1 1]\n",
            "x ** 2 = [0 1 4 9]\n",
            "x % 2  = [0 1 0 1]\n"
          ]
        }
      ],
      "source": [
        "x = np.arange(4)\n",
        "print(\"x      =\", x)\n",
        "print(\"-x     =\", -x)\n",
        "print(\"x + 5  =\", x + 5)\n",
        "print(\"x - 5  =\", x - 5)\n",
        "print(\"x * 2  =\", x * 2)\n",
        "print(\"x / 2  =\", x / 2)\n",
        "print(\"x // 2 =\", x // 2)  # floor division\n",
        "print(\"x ** 2 =\", x ** 2)\n",
        "print(\"x % 2  =\", x % 2)"
      ]
    },
    {
      "cell_type": "code",
      "execution_count": 90,
      "metadata": {
        "id": "C5x3wGfN066l",
        "outputId": "ed89ec78-fc35-423f-ebd3-f10c51316cdf",
        "colab": {
          "base_uri": "https://localhost:8080/"
        }
      },
      "outputs": [
        {
          "output_type": "execute_result",
          "data": {
            "text/plain": [
              "array([2, 3, 4, 5])"
            ]
          },
          "metadata": {},
          "execution_count": 90
        }
      ],
      "source": [
        "np.add(x, 2)"
      ]
    },
    {
      "cell_type": "markdown",
      "metadata": {
        "id": "eHn4nS4p066l"
      },
      "source": [
        "The following table lists the arithmetic operators implemented in NumPy:\n",
        "\n",
        "| Operator\t    | Equivalent ufunc    | Description                           |\n",
        "|---------------|---------------------|---------------------------------------|\n",
        "|``+``          |``np.add``           |Addition (e.g., ``1 + 1 = 2``)         |\n",
        "|``-``          |``np.subtract``      |Subtraction (e.g., ``3 - 2 = 1``)      |\n",
        "|``-``          |``np.negative``      |Unary negation (e.g., ``-2``)          |\n",
        "|``*``          |``np.multiply``      |Multiplication (e.g., ``2 * 3 = 6``)   |\n",
        "|``/``          |``np.divide``        |Division (e.g., ``3 / 2 = 1.5``)       |\n",
        "|``//``         |``np.floor_divide``  |Floor division (e.g., ``3 // 2 = 1``)  |\n",
        "|``**``         |``np.power``         |Exponentiation (e.g., ``2 ** 3 = 8``)  |\n",
        "|``%``          |``np.mod``           |Modulus/remainder (e.g., ``9 % 4 = 1``)|\n"
      ]
    },
    {
      "cell_type": "code",
      "execution_count": 92,
      "metadata": {
        "id": "f48lyyTr066m",
        "outputId": "5f753a1c-a77d-4169-b02b-ccb204493931",
        "colab": {
          "base_uri": "https://localhost:8080/"
        }
      },
      "outputs": [
        {
          "output_type": "stream",
          "name": "stdout",
          "text": [
            "theta       =  [0.         1.57079633 3.14159265]\n",
            "sin(theta)  =  [0.0000000e+00 1.0000000e+00 1.2246468e-16]\n",
            "cos(theta)  =  [ 1.000000e+00  6.123234e-17 -1.000000e+00]\n",
            "tan(theta)  =  [ 0.00000000e+00  1.63312394e+16 -1.22464680e-16]\n",
            "arr         =  [-1.  0.  1.]\n",
            "arcsin(arr) =  [-1.57079633  0.          1.57079633]\n",
            "arccos(arr) =  [3.14159265 1.57079633 0.        ]\n",
            "arctan(arr) =  [-0.78539816  0.          0.78539816]\n",
            "arr         = [0, 1, 2, 3]\n",
            "e^arr       = [ 1.          2.71828183  7.3890561  20.08553692]\n",
            "2^arr       = [1. 2. 4. 8.]\n",
            "3^arr       = [ 1  3  9 27]\n",
            "arr         = [1, 2, 4, 10]\n",
            "ln(arr)     = [0.         0.69314718 1.38629436 2.30258509]\n",
            "log2(arr)   = [0.         1.         2.         3.32192809]\n",
            "log10(arr)  = [0.         0.30103    0.60205999 1.        ]\n",
            "exp(x) - 1  = [0.         0.0010005  0.01005017 0.10517092]\n",
            "log(1 + x)  = [0.         0.0009995  0.00995033 0.09531018]\n"
          ]
        }
      ],
      "source": [
        "arr = np.array([-42, -1, 0, -3.141592, 42])\n",
        "np.absolute(arr)\n",
        "theta = np.linspace(0, np.pi, 3)  # trigonometric functions\n",
        "print(\"theta       = \", theta)\n",
        "print(\"sin(theta)  = \", np.sin(theta))\n",
        "print(\"cos(theta)  = \", np.cos(theta))\n",
        "print(\"tan(theta)  = \", np.tan(theta))\n",
        "arr = np.linspace(-1, 1, 3)  \n",
        "print(\"arr         = \", arr)\n",
        "print(\"arcsin(arr) = \", np.arcsin(arr))\n",
        "print(\"arccos(arr) = \", np.arccos(arr))\n",
        "print(\"arctan(arr) = \", np.arctan(arr))\n",
        "arr = [0, 1, 2, 3]                # exp\n",
        "print(\"arr         =\", arr)\n",
        "print(\"e^arr       =\", np.exp(arr))\n",
        "print(\"2^arr       =\", np.exp2(arr))\n",
        "print(\"3^arr       =\", np.power(3, arr))\n",
        "arr = [1, 2, 4, 10]               # log\n",
        "print(\"arr         =\", arr)\n",
        "print(\"ln(arr)     =\", np.log(arr))\n",
        "print(\"log2(arr)   =\", np.log2(arr))\n",
        "print(\"log10(arr)  =\", np.log10(arr))\n",
        "x = [0, 0.001, 0.01, 0.1]         # for small values\n",
        "print(\"exp(x) - 1  =\", np.expm1(x))\n",
        "print(\"log(1 + x)  =\", np.log1p(x))"
      ]
    },
    {
      "cell_type": "markdown",
      "metadata": {
        "id": "Irc2uniD_gbn"
      },
      "source": [
        "## Broadcasting"
      ]
    },
    {
      "cell_type": "code",
      "execution_count": 94,
      "metadata": {
        "id": "WyG9rV_v_gbo",
        "outputId": "3c00e253-6990-4566-c3fd-1abe07c7ce0b",
        "colab": {
          "base_uri": "https://localhost:8080/"
        }
      },
      "outputs": [
        {
          "output_type": "stream",
          "name": "stdout",
          "text": [
            "[0 1 2]\n"
          ]
        },
        {
          "output_type": "execute_result",
          "data": {
            "text/plain": [
              "array([5, 6, 7])"
            ]
          },
          "metadata": {},
          "execution_count": 94
        }
      ],
      "source": [
        "a = np.arange(3)\n",
        "print(a)\n",
        "b = np.array([5, 5, 5])\n",
        "a + b"
      ]
    },
    {
      "cell_type": "code",
      "execution_count": 95,
      "metadata": {
        "id": "YPfnYWj3_gbp",
        "outputId": "cdf0e874-1cc8-49d5-dca9-862a45439878",
        "colab": {
          "base_uri": "https://localhost:8080/"
        }
      },
      "outputs": [
        {
          "output_type": "execute_result",
          "data": {
            "text/plain": [
              "array([5, 6, 7])"
            ]
          },
          "metadata": {},
          "execution_count": 95
        }
      ],
      "source": [
        "a + 5"
      ]
    },
    {
      "cell_type": "code",
      "execution_count": 96,
      "metadata": {
        "id": "u6inZAof_gbq",
        "outputId": "e5820f8c-b0c6-4fe1-c977-dc9a31165216",
        "colab": {
          "base_uri": "https://localhost:8080/"
        }
      },
      "outputs": [
        {
          "output_type": "execute_result",
          "data": {
            "text/plain": [
              "array([[1., 1., 1.],\n",
              "       [1., 1., 1.],\n",
              "       [1., 1., 1.]])"
            ]
          },
          "metadata": {},
          "execution_count": 96
        }
      ],
      "source": [
        "M = np.ones((3, 3))\n",
        "M"
      ]
    },
    {
      "cell_type": "code",
      "execution_count": 97,
      "metadata": {
        "id": "76EW0KR__gbr",
        "outputId": "4f959c93-2798-4f65-8850-346f99423a9c",
        "colab": {
          "base_uri": "https://localhost:8080/"
        }
      },
      "outputs": [
        {
          "output_type": "execute_result",
          "data": {
            "text/plain": [
              "array([[1., 2., 3.],\n",
              "       [1., 2., 3.],\n",
              "       [1., 2., 3.]])"
            ]
          },
          "metadata": {},
          "execution_count": 97
        }
      ],
      "source": [
        "M + a"
      ]
    },
    {
      "cell_type": "code",
      "execution_count": null,
      "metadata": {
        "id": "j2yi655V_gbr"
      },
      "outputs": [],
      "source": [
        "a = np.arange(3).reshape((3, 1))\n",
        "b = np.arange(3)\n",
        "\n",
        "print(a)\n",
        "print(b)"
      ]
    },
    {
      "cell_type": "code",
      "execution_count": null,
      "metadata": {
        "id": "znxs13uT_gbr"
      },
      "outputs": [],
      "source": [
        "a + b"
      ]
    },
    {
      "cell_type": "markdown",
      "metadata": {
        "id": "pF8kng6v_gbs"
      },
      "source": [
        "![Broadcasting Visual](https://miro.medium.com/max/1300/1*kwgQUvyF2eKjY6_eMhwsqQ.png)"
      ]
    },
    {
      "cell_type": "markdown",
      "metadata": {
        "id": "5XyZSihx_gbs"
      },
      "source": [
        "### Rules of Broadcasting\n",
        "\n",
        "Broadcasting in NumPy follows a strict set of rules to determine the interaction between the two arrays:\n",
        "\n",
        "- Rule 1: If the two arrays differ in their number of dimensions, the shape of the one with fewer dimensions is *padded* with ones on its leading (left) side.\n",
        "- Rule 2: If the shape of the two arrays does not match in any dimension, the array with shape equal to 1 in that dimension is stretched to match the other shape.\n",
        "- Rule 3: If in any dimension the sizes disagree and neither is equal to 1, an error is raised."
      ]
    },
    {
      "cell_type": "code",
      "source": [
        "a = np.arange(3)\n",
        "a + 5"
      ],
      "metadata": {
        "colab": {
          "base_uri": "https://localhost:8080/"
        },
        "id": "1zcDLYeHPM0O",
        "outputId": "dbc5a1bd-ce01-4776-9283-a82ebbd46aa0"
      },
      "execution_count": 98,
      "outputs": [
        {
          "output_type": "execute_result",
          "data": {
            "text/plain": [
              "array([5, 6, 7])"
            ]
          },
          "metadata": {},
          "execution_count": 98
        }
      ]
    },
    {
      "cell_type": "markdown",
      "source": [
        "a.shape = (3,)\n",
        "\n",
        "5.shape = (,) --> (1,) --> (3,)"
      ],
      "metadata": {
        "id": "NcF8KBRyPNsu"
      }
    },
    {
      "cell_type": "code",
      "source": [
        "a = np.arange(3).reshape((3, 1))\n",
        "b = np.arange(3)\n",
        "print(a)\n",
        "print(b)\n",
        "a + b"
      ],
      "metadata": {
        "colab": {
          "base_uri": "https://localhost:8080/"
        },
        "id": "dyjK9aNeP4Vk",
        "outputId": "dab9420f-0ecc-4e3e-a257-303caf671fe1"
      },
      "execution_count": 100,
      "outputs": [
        {
          "output_type": "stream",
          "name": "stdout",
          "text": [
            "[[0]\n",
            " [1]\n",
            " [2]]\n",
            "[0 1 2]\n"
          ]
        },
        {
          "output_type": "execute_result",
          "data": {
            "text/plain": [
              "array([[0, 1, 2],\n",
              "       [1, 2, 3],\n",
              "       [2, 3, 4]])"
            ]
          },
          "metadata": {},
          "execution_count": 100
        }
      ]
    },
    {
      "cell_type": "markdown",
      "source": [
        "a.shape = (3, 1)          --> (3, 3)\n",
        "\n",
        "b.shape = (3,) --> (1, 3) --> (3, 3)"
      ],
      "metadata": {
        "id": "r5CW9SBdQJ9i"
      }
    },
    {
      "cell_type": "code",
      "source": [
        "arr = a + b\n",
        "arr"
      ],
      "metadata": {
        "colab": {
          "base_uri": "https://localhost:8080/"
        },
        "id": "DvtR0mkBQEhC",
        "outputId": "be7107ae-c861-4753-a276-179cd4fe6846"
      },
      "execution_count": 104,
      "outputs": [
        {
          "output_type": "execute_result",
          "data": {
            "text/plain": [
              "array([[0, 1, 2],\n",
              "       [1, 2, 3],\n",
              "       [2, 3, 4]])"
            ]
          },
          "metadata": {},
          "execution_count": 104
        }
      ]
    },
    {
      "cell_type": "code",
      "source": [
        "arr > 0"
      ],
      "metadata": {
        "colab": {
          "base_uri": "https://localhost:8080/"
        },
        "id": "jC4vkm9bRIJv",
        "outputId": "8a8b6b71-820a-4b9c-dba6-b5c9f2318f6b"
      },
      "execution_count": 105,
      "outputs": [
        {
          "output_type": "execute_result",
          "data": {
            "text/plain": [
              "array([[False,  True,  True],\n",
              "       [ True,  True,  True],\n",
              "       [ True,  True,  True]])"
            ]
          },
          "metadata": {},
          "execution_count": 105
        }
      ]
    },
    {
      "cell_type": "code",
      "source": [
        "arr[arr > 0]"
      ],
      "metadata": {
        "colab": {
          "base_uri": "https://localhost:8080/"
        },
        "id": "ybf-i2DvRPxd",
        "outputId": "4f318da9-58c6-4458-8317-467d31c2fd2d"
      },
      "execution_count": 106,
      "outputs": [
        {
          "output_type": "execute_result",
          "data": {
            "text/plain": [
              "array([1, 2, 1, 2, 3, 2, 3, 4])"
            ]
          },
          "metadata": {},
          "execution_count": 106
        }
      ]
    }
  ]
}