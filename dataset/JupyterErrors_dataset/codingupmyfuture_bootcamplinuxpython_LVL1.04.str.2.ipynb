{
  "nbformat": 4,
  "nbformat_minor": 0,
  "metadata": {
    "colab": {
      "provenance": [],
      "toc_visible": true
    },
    "kernelspec": {
      "name": "python3",
      "display_name": "Python 3"
    },
    "language_info": {
      "name": "python"
    }
  },
  "cells": [
    {
      "cell_type": "markdown",
      "source": [
        "<p><img src=\"https://i.postimg.cc/cCjTSn8r/ss-cumf.png\" alt=\"\" width=\"1280\" height=\"300\" /></p>"
      ],
      "metadata": {
        "id": "lOBmWT8kI0rK"
      }
    },
    {
      "cell_type": "markdown",
      "source": [
        "# **STRINGS (STR)**"
      ],
      "metadata": {
        "id": "sttmil0sJYf_"
      }
    },
    {
      "cell_type": "markdown",
      "source": [
        "## **HELP**"
      ],
      "metadata": {
        "id": "0IlHscnZPcOM"
      }
    },
    {
      "cell_type": "code",
      "source": [
        "help(str.upper)"
      ],
      "metadata": {
        "colab": {
          "base_uri": "https://localhost:8080/"
        },
        "id": "yKgXodhEPb4S",
        "outputId": "dcab0acb-b88d-4d6a-c6f0-c6d70b7868b2"
      },
      "execution_count": 6,
      "outputs": [
        {
          "output_type": "stream",
          "name": "stdout",
          "text": [
            "Help on method_descriptor:\n",
            "\n",
            "upper(self, /)\n",
            "    Return a copy of the string converted to uppercase.\n",
            "\n"
          ]
        }
      ]
    },
    {
      "cell_type": "markdown",
      "source": [
        "## **INPUT**"
      ],
      "metadata": {
        "id": "oHyHAW8dNjbY"
      }
    },
    {
      "cell_type": "code",
      "source": [
        "nombre: str = input(\"ingrese nombre: \")\n",
        "print(nombre)\n",
        "print(\"tipo:\", type(nombre), \"valor:\",nombre)"
      ],
      "metadata": {
        "colab": {
          "base_uri": "https://localhost:8080/"
        },
        "id": "XClbDuE5NtJG",
        "outputId": "5e19367f-a06d-4120-a8d1-619d3ed7543d"
      },
      "execution_count": 7,
      "outputs": [
        {
          "output_type": "stream",
          "name": "stdout",
          "text": [
            "ingrese nombre: luis\n",
            "luis\n",
            "tipo: <class 'str'> valor: luis\n"
          ]
        }
      ]
    },
    {
      "cell_type": "markdown",
      "source": [
        "## **COMENTARIOS**"
      ],
      "metadata": {
        "id": "eTmLO00HNm2d"
      }
    },
    {
      "cell_type": "markdown",
      "source": [
        "### **SIMPLES**"
      ],
      "metadata": {
        "id": "xpYKTCU5Ohif"
      }
    },
    {
      "cell_type": "code",
      "source": [
        "# esto es un com simple"
      ],
      "metadata": {
        "id": "f_7jxyDoOnDI"
      },
      "execution_count": 8,
      "outputs": []
    },
    {
      "cell_type": "markdown",
      "source": [
        "### **MÚLTIPLES**"
      ],
      "metadata": {
        "id": "jUWWViBXOhfW"
      }
    },
    {
      "cell_type": "code",
      "source": [
        "\"\"\"\n",
        "esto\n",
        "es un\n",
        "comentario\n",
        "múltiple\n",
        "\"\"\""
      ],
      "metadata": {
        "colab": {
          "base_uri": "https://localhost:8080/",
          "height": 35
        },
        "id": "sFTKLOdaPMPD",
        "outputId": "ec081c30-7abb-40fa-c6a9-47798de040f2"
      },
      "execution_count": 9,
      "outputs": [
        {
          "output_type": "execute_result",
          "data": {
            "text/plain": [
              "'\\nesto\\nes un\\ncomentario\\nmúltiple\\n'"
            ],
            "application/vnd.google.colaboratory.intrinsic+json": {
              "type": "string"
            }
          },
          "metadata": {},
          "execution_count": 9
        }
      ]
    },
    {
      "cell_type": "code",
      "source": [
        "'''\n",
        "esto\n",
        "es un\n",
        "comentario\n",
        "múltiple\n",
        "'''"
      ],
      "metadata": {
        "colab": {
          "base_uri": "https://localhost:8080/",
          "height": 35
        },
        "id": "qNOa4JKlPZaK",
        "outputId": "466a6f3a-233f-4097-c6dd-c8235a8d462a"
      },
      "execution_count": 10,
      "outputs": [
        {
          "output_type": "execute_result",
          "data": {
            "text/plain": [
              "'\\nesto\\nes un\\ncomentario\\nmúltiple\\n'"
            ],
            "application/vnd.google.colaboratory.intrinsic+json": {
              "type": "string"
            }
          },
          "metadata": {},
          "execution_count": 10
        }
      ]
    },
    {
      "cell_type": "markdown",
      "source": [
        "## **COMILLAS SIMPLES Y DOBLES**\n",
        "\n",
        "Quieren que el texto les salga con comillas simples, la cadena debe estar encerrada por dobles, y si quieren dobles, deben estar encerradas por simples"
      ],
      "metadata": {
        "id": "URakvMjuNm0G"
      }
    },
    {
      "cell_type": "markdown",
      "source": [
        "### **SIMPLE**"
      ],
      "metadata": {
        "id": "wDWuHKdfNmxp"
      }
    },
    {
      "cell_type": "code",
      "source": [
        "nombre: str = 'Algo'\n",
        "apellido: str = 'cómo le va señor \"Vásquez\"'\n",
        "print(apellido)"
      ],
      "metadata": {
        "colab": {
          "base_uri": "https://localhost:8080/"
        },
        "id": "CtCAIkPoRQpX",
        "outputId": "4f550259-3db2-4a7c-dafd-8f65cff76270"
      },
      "execution_count": 11,
      "outputs": [
        {
          "output_type": "stream",
          "name": "stdout",
          "text": [
            "cómo le va señor \"Vásquez\"\n"
          ]
        }
      ]
    },
    {
      "cell_type": "markdown",
      "source": [
        "### **DOBLES**"
      ],
      "metadata": {
        "id": "93cPLjoVNmvE"
      }
    },
    {
      "cell_type": "code",
      "source": [
        "nombre: str = \"Algo\"\n",
        "apellido: str = \"cómo le va señor 'Vásquez'\"\n",
        "print(apellido)"
      ],
      "metadata": {
        "colab": {
          "base_uri": "https://localhost:8080/"
        },
        "id": "8q4Tm9ImRWF2",
        "outputId": "71262259-5101-4203-a5be-f88098b0c4ce"
      },
      "execution_count": 12,
      "outputs": [
        {
          "output_type": "stream",
          "name": "stdout",
          "text": [
            "cómo le va señor 'Vásquez'\n"
          ]
        }
      ]
    },
    {
      "cell_type": "code",
      "source": [
        "pepito_julanito: str = \"Algo\"\n",
        "print(apellido)"
      ],
      "metadata": {
        "colab": {
          "base_uri": "https://localhost:8080/"
        },
        "id": "3mZ7OBUNTrXN",
        "outputId": "289d6766-6982-4c93-949a-2ed4b74f2d75"
      },
      "execution_count": 13,
      "outputs": [
        {
          "output_type": "stream",
          "name": "stdout",
          "text": [
            "cómo le va señor 'Vásquez'\n"
          ]
        }
      ]
    },
    {
      "cell_type": "markdown",
      "source": [
        "### **EJEMPLO**"
      ],
      "metadata": {
        "id": "Q8gyAy_0Nmsi"
      }
    },
    {
      "cell_type": "code",
      "source": [
        "print(\"email:str = 'pepito@gmail.com'\")\n",
        "print(\"print(email)\")"
      ],
      "metadata": {
        "colab": {
          "base_uri": "https://localhost:8080/"
        },
        "id": "udrk1jBjSNxL",
        "outputId": "49743487-d8fa-4555-d68d-f368693b2551"
      },
      "execution_count": 14,
      "outputs": [
        {
          "output_type": "stream",
          "name": "stdout",
          "text": [
            "email:str = 'pepito@gmail.com'\n",
            "print(email)\n"
          ]
        }
      ]
    },
    {
      "cell_type": "code",
      "source": [
        "email:str = 'pepito@gmail.com'\n",
        "print(email)"
      ],
      "metadata": {
        "colab": {
          "base_uri": "https://localhost:8080/"
        },
        "id": "sVEYMu6xSf_j",
        "outputId": "16443b6e-d346-4677-a533-a39cc6e789fe"
      },
      "execution_count": 15,
      "outputs": [
        {
          "output_type": "stream",
          "name": "stdout",
          "text": [
            "pepito@gmail.com\n"
          ]
        }
      ]
    },
    {
      "cell_type": "markdown",
      "source": [
        "## **SLICES**\n",
        "\n",
        "Manipular elementos de una lista de diferentes formas:\n",
        "\n",
        "1.   strings\n",
        "2.   listas\n",
        "3.   tuplas\n",
        "\n",
        "Los strings en python se manejan como iterables para obtener valores\n",
        "\n",
        "\n",
        "\n",
        "```\n",
        "variable[rango_inicial: rango_final:saltos]\n",
        "HOLA\n",
        "[H | O | L | A]\n",
        "[0 | 1 | 2 | 3] -- postivo\n",
        "[-4 | -3 | -2 | -1] -- negativa\n",
        "```\n",
        "\n",
        "cuando yo trabajo con iterables, el índice empieza en cero\n"
      ],
      "metadata": {
        "id": "oD0B-_9ENmqJ"
      }
    },
    {
      "cell_type": "code",
      "source": [
        "curso: str = \"CoDinG.Up.My.Future\""
      ],
      "metadata": {
        "id": "Hp-mVAUQVObe"
      },
      "execution_count": 16,
      "outputs": []
    },
    {
      "cell_type": "markdown",
      "source": [
        "## **ÍNDICE POSITIVO**\n",
        "\n",
        "Obtiene un solo valor"
      ],
      "metadata": {
        "id": "aPWn_EeNWVBm"
      }
    },
    {
      "cell_type": "code",
      "source": [
        "print(curso[5])\n",
        "print(\"positivo\", curso[12])"
      ],
      "metadata": {
        "colab": {
          "base_uri": "https://localhost:8080/"
        },
        "id": "Eb9t6KaxVbpJ",
        "outputId": "bddaf07e-b184-4054-b008-5e2c69f1c96d"
      },
      "execution_count": 17,
      "outputs": [
        {
          "output_type": "stream",
          "name": "stdout",
          "text": [
            "G\n",
            "positivo .\n"
          ]
        }
      ]
    },
    {
      "cell_type": "markdown",
      "source": [
        "## **ÍNDICE NEGATIVO**"
      ],
      "metadata": {
        "id": "EarcPWgONmnk"
      }
    },
    {
      "cell_type": "code",
      "source": [
        "print(\"negativo\", curso[-6])"
      ],
      "metadata": {
        "colab": {
          "base_uri": "https://localhost:8080/"
        },
        "id": "p60py94CYi4B",
        "outputId": "1873d1d9-2b28-402b-9e10-e9a993156846"
      },
      "execution_count": 18,
      "outputs": [
        {
          "output_type": "stream",
          "name": "stdout",
          "text": [
            "negativo F\n"
          ]
        }
      ]
    },
    {
      "cell_type": "markdown",
      "source": [
        "## **RANGOS**\n",
        "\n",
        "`rango[inicia:final -1]`\n",
        "\n",
        "```\n",
        "CoDinG.Up.My.Future\n",
        "```\n",
        "\n"
      ],
      "metadata": {
        "id": "HMo53DyoNmlJ"
      }
    },
    {
      "cell_type": "markdown",
      "source": [
        "### **INICIAL**"
      ],
      "metadata": {
        "id": "A5Lw7z7MZbcV"
      }
    },
    {
      "cell_type": "code",
      "source": [
        "print(curso[0: 6])"
      ],
      "metadata": {
        "colab": {
          "base_uri": "https://localhost:8080/"
        },
        "id": "rhHwKbH1Yt2w",
        "outputId": "c3ef0c46-54bb-4a43-9176-03738c975977"
      },
      "execution_count": 19,
      "outputs": [
        {
          "output_type": "stream",
          "name": "stdout",
          "text": [
            "CoDinG\n"
          ]
        }
      ]
    },
    {
      "cell_type": "code",
      "source": [
        "print(curso[: 5])"
      ],
      "metadata": {
        "colab": {
          "base_uri": "https://localhost:8080/"
        },
        "id": "QecA-excYtz_",
        "outputId": "daea0da5-2014-4538-9c45-6e1e6e0b626c"
      },
      "execution_count": 20,
      "outputs": [
        {
          "output_type": "stream",
          "name": "stdout",
          "text": [
            "CoDin\n"
          ]
        }
      ]
    },
    {
      "cell_type": "markdown",
      "source": [
        "### **FINAL**"
      ],
      "metadata": {
        "id": "tQniRHJYZhxG"
      }
    },
    {
      "cell_type": "code",
      "source": [
        "print(curso[5: 7])"
      ],
      "metadata": {
        "colab": {
          "base_uri": "https://localhost:8080/"
        },
        "id": "7z0PTkcTYtwb",
        "outputId": "c7148c53-7486-4d50-8287-3c242b761a41"
      },
      "execution_count": 21,
      "outputs": [
        {
          "output_type": "stream",
          "name": "stdout",
          "text": [
            "G.\n"
          ]
        }
      ]
    },
    {
      "cell_type": "code",
      "source": [
        "print(curso[5: ])"
      ],
      "metadata": {
        "colab": {
          "base_uri": "https://localhost:8080/"
        },
        "id": "O3MH_wRsZzNl",
        "outputId": "96ee3c9e-57dd-496f-ee3c-6d91257b3724"
      },
      "execution_count": 22,
      "outputs": [
        {
          "output_type": "stream",
          "name": "stdout",
          "text": [
            "G.Up.My.Future\n"
          ]
        }
      ]
    },
    {
      "cell_type": "code",
      "source": [
        "print(curso[-5: -2])"
      ],
      "metadata": {
        "colab": {
          "base_uri": "https://localhost:8080/"
        },
        "id": "oZrDDqU2avag",
        "outputId": "ef327f68-8185-4b44-d04b-827974c12085"
      },
      "execution_count": 23,
      "outputs": [
        {
          "output_type": "stream",
          "name": "stdout",
          "text": [
            "utu\n"
          ]
        }
      ]
    },
    {
      "cell_type": "markdown",
      "source": [
        "### **EJEMPLO**\n",
        "\n",
        "\n",
        "\n",
        "```\n",
        "estoy en el bootcamp con Ruta N #SSCodingupmyfuture\n",
        "```\n",
        "\n"
      ],
      "metadata": {
        "id": "QUUg_5kVZ4dX"
      }
    },
    {
      "cell_type": "code",
      "source": [
        "hashtag: str = \"estoy en el bootcamp con Ruta N #SSCodingupmyfuture\"\n",
        "print(hashtag[32:])\n",
        "print(hashtag[-19:])"
      ],
      "metadata": {
        "colab": {
          "base_uri": "https://localhost:8080/"
        },
        "id": "wH98O3SkZ3TG",
        "outputId": "6e953901-de28-4d44-e735-87721e4963c1"
      },
      "execution_count": 24,
      "outputs": [
        {
          "output_type": "stream",
          "name": "stdout",
          "text": [
            "#SSCodingupmyfuture\n",
            "#SSCodingupmyfuture\n"
          ]
        }
      ]
    },
    {
      "cell_type": "markdown",
      "source": [
        "### **RANGOS**\n",
        "\n",
        "\n",
        "\n",
        "```\n",
        "CoDinG.Up.My.Future\n",
        "```\n",
        "\n"
      ],
      "metadata": {
        "id": "0FkEJ0tkNmiy"
      }
    },
    {
      "cell_type": "code",
      "source": [
        "print(curso[::])"
      ],
      "metadata": {
        "colab": {
          "base_uri": "https://localhost:8080/"
        },
        "id": "yj2Hm8xrb-Vy",
        "outputId": "5079a249-c455-4d56-9cb6-5c71a9cd1eb1"
      },
      "execution_count": 25,
      "outputs": [
        {
          "output_type": "stream",
          "name": "stdout",
          "text": [
            "CoDinG.Up.My.Future\n"
          ]
        }
      ]
    },
    {
      "cell_type": "code",
      "source": [
        "print(curso[::2])"
      ],
      "metadata": {
        "colab": {
          "base_uri": "https://localhost:8080/"
        },
        "id": "zBixut2ccKTw",
        "outputId": "42621975-ff36-40a2-ef0d-4a4758005250"
      },
      "execution_count": 26,
      "outputs": [
        {
          "output_type": "stream",
          "name": "stdout",
          "text": [
            "CDn.pM.uue\n"
          ]
        }
      ]
    },
    {
      "cell_type": "code",
      "source": [
        "print(curso[::3])"
      ],
      "metadata": {
        "colab": {
          "base_uri": "https://localhost:8080/"
        },
        "id": "z2bcLJxQcXbc",
        "outputId": "f4c4d9bc-3732-4f80-a304-7e25fb5c5e5c"
      },
      "execution_count": 27,
      "outputs": [
        {
          "output_type": "stream",
          "name": "stdout",
          "text": [
            "Ci...te\n"
          ]
        }
      ]
    },
    {
      "cell_type": "code",
      "source": [
        "print(curso[::-1])"
      ],
      "metadata": {
        "colab": {
          "base_uri": "https://localhost:8080/"
        },
        "id": "keSMzDXgcd8K",
        "outputId": "03dc1f04-b354-43b7-fd1d-7543a989be19"
      },
      "execution_count": 28,
      "outputs": [
        {
          "output_type": "stream",
          "name": "stdout",
          "text": [
            "erutuF.yM.pU.GniDoC\n"
          ]
        }
      ]
    },
    {
      "cell_type": "code",
      "source": [
        "# iG.Up.My\n",
        "print(curso[3:10:2])"
      ],
      "metadata": {
        "colab": {
          "base_uri": "https://localhost:8080/"
        },
        "id": "tM72iKKBcv18",
        "outputId": "efd62b26-349d-419e-f268-d0ff817eba19"
      },
      "execution_count": 29,
      "outputs": [
        {
          "output_type": "stream",
          "name": "stdout",
          "text": [
            "iGU.\n"
          ]
        }
      ]
    },
    {
      "cell_type": "markdown",
      "source": [
        "## **PRINCIPALES OPERACIONES DE LOS STRINGS**"
      ],
      "metadata": {
        "id": "NwKyX5vRNmd_"
      }
    },
    {
      "cell_type": "code",
      "source": [
        "curso: str = \"CoDinG.Up.My.Future\"\n",
        "espacios_izquierda = '         hola espacios izquierdos'\n",
        "espacios_derecha   = 'hola espacios derechos            '\n",
        "espacios_ambos     ='             espacio central       '"
      ],
      "metadata": {
        "id": "9v_FTa3efKly"
      },
      "execution_count": 30,
      "outputs": []
    },
    {
      "cell_type": "markdown",
      "source": [
        "### **LOWER**"
      ],
      "metadata": {
        "id": "tnQZ-eeCNmbW"
      }
    },
    {
      "cell_type": "code",
      "source": [
        "print(curso.lower())\n",
        "alterna = curso.lower()\n",
        "print(alterna)"
      ],
      "metadata": {
        "colab": {
          "base_uri": "https://localhost:8080/"
        },
        "id": "Xn-QFyVPflN0",
        "outputId": "12ccd7ce-f814-4f16-a734-448256541359"
      },
      "execution_count": 31,
      "outputs": [
        {
          "output_type": "stream",
          "name": "stdout",
          "text": [
            "coding.up.my.future\n",
            "coding.up.my.future\n"
          ]
        }
      ]
    },
    {
      "cell_type": "markdown",
      "source": [
        "### **UPPER**"
      ],
      "metadata": {
        "id": "NS3tSiuDi_ex"
      }
    },
    {
      "cell_type": "code",
      "source": [
        "print(curso)\n",
        "print(curso.upper())"
      ],
      "metadata": {
        "colab": {
          "base_uri": "https://localhost:8080/"
        },
        "id": "K2ZWNsIkjDGi",
        "outputId": "63eee2c5-0eb8-4d0c-9e0c-e73a9b9badea"
      },
      "execution_count": 32,
      "outputs": [
        {
          "output_type": "stream",
          "name": "stdout",
          "text": [
            "CoDinG.Up.My.Future\n",
            "CODING.UP.MY.FUTURE\n"
          ]
        }
      ]
    },
    {
      "cell_type": "markdown",
      "source": [
        "### **STARTSWITH**"
      ],
      "metadata": {
        "id": "ePUVg5ZeNmZK"
      }
    },
    {
      "cell_type": "code",
      "source": [
        "print(curso)\n",
        "print(curso.startswith(\"C\"))\n",
        "print(curso.startswith(\"c\"))\n",
        "print(\"CC:121212;nombre;genero\".startswith(\"CC\"))"
      ],
      "metadata": {
        "colab": {
          "base_uri": "https://localhost:8080/"
        },
        "id": "k-GGFQHbgYQO",
        "outputId": "1a536488-3689-4fdf-fb73-e74d091c2414"
      },
      "execution_count": 33,
      "outputs": [
        {
          "output_type": "stream",
          "name": "stdout",
          "text": [
            "CoDinG.Up.My.Future\n",
            "True\n",
            "False\n",
            "True\n"
          ]
        }
      ]
    },
    {
      "cell_type": "markdown",
      "source": [
        "### **CONCATENACIÓN DE OPERACIONES**"
      ],
      "metadata": {
        "id": "ylc3zMDANmWp"
      }
    },
    {
      "cell_type": "markdown",
      "source": [
        "### **LARGO**"
      ],
      "metadata": {
        "id": "T5KCL4aZhmLs"
      }
    },
    {
      "cell_type": "code",
      "source": [
        "curso_minuscula: str = curso.lower()\n",
        "print(curso_minuscula.startswith(\"c\"))"
      ],
      "metadata": {
        "colab": {
          "base_uri": "https://localhost:8080/"
        },
        "id": "HAWfO-_KhlxP",
        "outputId": "2dabb6eb-9ae1-4c98-f18c-70cf266da3c2"
      },
      "execution_count": 34,
      "outputs": [
        {
          "output_type": "stream",
          "name": "stdout",
          "text": [
            "True\n"
          ]
        }
      ]
    },
    {
      "cell_type": "markdown",
      "source": [
        "### **CORTO**"
      ],
      "metadata": {
        "id": "1IJDjeSnNmUM"
      }
    },
    {
      "cell_type": "code",
      "source": [
        "\"\"\"\n",
        "1. curso.lower() = coding.up.my.future\n",
        "2. coding.up.my.future y evalúa si empieza con C\n",
        "\"\"\"\n",
        "print(curso.lower().startswith(\"c\"))"
      ],
      "metadata": {
        "id": "wiBiT4BDh-8q",
        "colab": {
          "base_uri": "https://localhost:8080/"
        },
        "outputId": "a140100a-8a6a-46a6-edf0-50000e33b482"
      },
      "execution_count": 35,
      "outputs": [
        {
          "output_type": "stream",
          "name": "stdout",
          "text": [
            "True\n"
          ]
        }
      ]
    },
    {
      "cell_type": "markdown",
      "source": [
        "### **CAPITALIZE**"
      ],
      "metadata": {
        "id": "WmGXJmviNmR0"
      }
    },
    {
      "cell_type": "code",
      "source": [
        "print(curso)\n",
        "print(curso.capitalize())\n",
        "print(\"coding up my future\".capitalize())"
      ],
      "metadata": {
        "colab": {
          "base_uri": "https://localhost:8080/"
        },
        "id": "RN8CiHJOjXpQ",
        "outputId": "e501aafd-bfc6-43d4-9fcd-e7284c08fe81"
      },
      "execution_count": 36,
      "outputs": [
        {
          "output_type": "stream",
          "name": "stdout",
          "text": [
            "CoDinG.Up.My.Future\n",
            "Coding.up.my.future\n",
            "Coding up my future\n"
          ]
        }
      ]
    },
    {
      "cell_type": "markdown",
      "source": [
        "### **TITLE**"
      ],
      "metadata": {
        "id": "Ejd5h6gWNmPQ"
      }
    },
    {
      "cell_type": "code",
      "source": [
        "print(curso)\n",
        "print(curso.title())\n",
        "print(\"title-->\",\"coding up my future\".title())"
      ],
      "metadata": {
        "colab": {
          "base_uri": "https://localhost:8080/"
        },
        "id": "MtxvrgOyjmXJ",
        "outputId": "4579beca-d5cd-4975-fdf1-e45135365358"
      },
      "execution_count": 37,
      "outputs": [
        {
          "output_type": "stream",
          "name": "stdout",
          "text": [
            "CoDinG.Up.My.Future\n",
            "Coding.Up.My.Future\n",
            "title--> Coding Up My Future\n"
          ]
        }
      ]
    },
    {
      "cell_type": "markdown",
      "source": [
        "### **CENTER**\n",
        "\n",
        "\n",
        "\n",
        "\n",
        "```\n",
        "**********hola********\n",
        "```\n",
        "\n"
      ],
      "metadata": {
        "id": "u-KitOObj90O"
      }
    },
    {
      "cell_type": "code",
      "source": [
        "help(str.center)"
      ],
      "metadata": {
        "colab": {
          "base_uri": "https://localhost:8080/"
        },
        "id": "S546iXA9ljXE",
        "outputId": "4960b096-acee-421f-e588-df755061ae59"
      },
      "execution_count": 38,
      "outputs": [
        {
          "output_type": "stream",
          "name": "stdout",
          "text": [
            "Help on method_descriptor:\n",
            "\n",
            "center(self, width, fillchar=' ', /)\n",
            "    Return a centered string of length width.\n",
            "    \n",
            "    Padding is done using the specified fill character (default is a space).\n",
            "\n"
          ]
        }
      ]
    },
    {
      "cell_type": "code",
      "source": [
        "print(curso)\n",
        "print(curso.lower().center(50, \"*\"))\n",
        "print(curso.lower().center(50, \"@\"))\n",
        "print(curso.lower().center(50, \" \"))\n",
        "print(curso[-6:].lower().center(50, \" \"))"
      ],
      "metadata": {
        "colab": {
          "base_uri": "https://localhost:8080/"
        },
        "id": "MEgcMj75j7GC",
        "outputId": "b9bdbe22-35fe-4055-e50a-5aa1a8f942c0"
      },
      "execution_count": 39,
      "outputs": [
        {
          "output_type": "stream",
          "name": "stdout",
          "text": [
            "CoDinG.Up.My.Future\n",
            "***************coding.up.my.future****************\n",
            "@@@@@@@@@@@@@@@coding.up.my.future@@@@@@@@@@@@@@@@\n",
            "               coding.up.my.future                \n",
            "                      future                      \n"
          ]
        }
      ]
    },
    {
      "cell_type": "markdown",
      "source": [
        "### **LEN**\n",
        "\n",
        "\n",
        "\n",
        "1.   str\n",
        "2.   list\n",
        "3.   tuple\n",
        "\n"
      ],
      "metadata": {
        "id": "dSm4ngqJhzYz"
      }
    },
    {
      "cell_type": "code",
      "source": [
        "print(len(\" \"))\n",
        "print(len(curso))\n",
        "print(curso)"
      ],
      "metadata": {
        "colab": {
          "base_uri": "https://localhost:8080/"
        },
        "id": "9OWWuogniH3V",
        "outputId": "36dc3106-0c9c-4fff-8096-9267a0cf5f64"
      },
      "execution_count": 40,
      "outputs": [
        {
          "output_type": "stream",
          "name": "stdout",
          "text": [
            "1\n",
            "19\n",
            "CoDinG.Up.My.Future\n"
          ]
        }
      ]
    },
    {
      "cell_type": "markdown",
      "source": [
        "### **RJUST**"
      ],
      "metadata": {
        "id": "DURJH0GWi7im"
      }
    },
    {
      "cell_type": "code",
      "source": [
        "print(curso.rjust(50, \"*\"))"
      ],
      "metadata": {
        "colab": {
          "base_uri": "https://localhost:8080/"
        },
        "id": "WvnRQyn0i7LX",
        "outputId": "34978baa-646b-4fce-863c-4cc6cebf128e"
      },
      "execution_count": 41,
      "outputs": [
        {
          "output_type": "stream",
          "name": "stdout",
          "text": [
            "*******************************CoDinG.Up.My.Future\n"
          ]
        }
      ]
    },
    {
      "cell_type": "markdown",
      "source": [
        "### **LJUST**"
      ],
      "metadata": {
        "id": "ZlZepVG0i-DO"
      }
    },
    {
      "cell_type": "code",
      "source": [
        "print(curso.ljust(50, \"*\"))"
      ],
      "metadata": {
        "colab": {
          "base_uri": "https://localhost:8080/"
        },
        "id": "9i4qrUiCjhaS",
        "outputId": "02515b3f-6078-40ad-9910-33cb1db43e72"
      },
      "execution_count": 42,
      "outputs": [
        {
          "output_type": "stream",
          "name": "stdout",
          "text": [
            "CoDinG.Up.My.Future*******************************\n"
          ]
        }
      ]
    },
    {
      "cell_type": "markdown",
      "source": [
        "### **ZFILL**"
      ],
      "metadata": {
        "id": "H8NjpjAjjApH"
      }
    },
    {
      "cell_type": "code",
      "source": [
        "# 000010000\n",
        "# 000000500\n",
        "print(curso.zfill(50))"
      ],
      "metadata": {
        "colab": {
          "base_uri": "https://localhost:8080/"
        },
        "id": "IqLYBdDLj2WD",
        "outputId": "b896c9ff-8fd1-4ade-d509-4996144b457e"
      },
      "execution_count": 43,
      "outputs": [
        {
          "output_type": "stream",
          "name": "stdout",
          "text": [
            "0000000000000000000000000000000CoDinG.Up.My.Future\n"
          ]
        }
      ]
    },
    {
      "cell_type": "markdown",
      "source": [
        "### **REPLACE**"
      ],
      "metadata": {
        "id": "fMagcoOmkl45"
      }
    },
    {
      "cell_type": "code",
      "source": [
        "print(\"texto que entra: \",curso)\n",
        "print(\"texto que sale : \",curso.lower().replace(\"u\", \"@\")) # transformar u por. @"
      ],
      "metadata": {
        "colab": {
          "base_uri": "https://localhost:8080/"
        },
        "id": "Mep4GJOXlDVI",
        "outputId": "991f5599-fe53-42f1-c822-67afc0e489ac"
      },
      "execution_count": 44,
      "outputs": [
        {
          "output_type": "stream",
          "name": "stdout",
          "text": [
            "texto que entra:  CoDinG.Up.My.Future\n",
            "texto que sale :  coding.@p.my.f@t@re\n"
          ]
        }
      ]
    },
    {
      "cell_type": "code",
      "source": [
        "# quitar espacios\n",
        "print(espacios_ambos.replace(\" \", \"\"))"
      ],
      "metadata": {
        "id": "iEvQ8yXsr28f",
        "colab": {
          "base_uri": "https://localhost:8080/"
        },
        "outputId": "7804d464-99e5-41c8-8b19-cf5bf09025a0"
      },
      "execution_count": 45,
      "outputs": [
        {
          "output_type": "stream",
          "name": "stdout",
          "text": [
            "espaciocentral\n"
          ]
        }
      ]
    },
    {
      "cell_type": "code",
      "source": [
        "# quitar espacios\n",
        "# \\n -- enter\n",
        "# \\t -- tabular\n",
        "# alt + 64 -- ascii\n",
        "texto_multi_linea:str = \"\"\"\n",
        "hola\n",
        "como\n",
        "están\n",
        "1 2\n",
        "\"\"\"\n",
        "print(texto_multi_linea.replace(\" \", \"\").replace(\"\\n\", \"\"))"
      ],
      "metadata": {
        "colab": {
          "base_uri": "https://localhost:8080/"
        },
        "id": "tr3hJ0bVr25p",
        "outputId": "257bb581-84d8-47d4-e00b-bd44d65ece9e"
      },
      "execution_count": 46,
      "outputs": [
        {
          "output_type": "stream",
          "name": "stdout",
          "text": [
            "holacomoestán12\n"
          ]
        }
      ]
    },
    {
      "cell_type": "markdown",
      "source": [
        "### **COUNT**"
      ],
      "metadata": {
        "id": "eDAYZ7LTkl18"
      }
    },
    {
      "cell_type": "code",
      "source": [
        "print(\"texto que entra: \",curso)\n",
        "print(\"texto que sale : \",curso.count(\"u\"))\n",
        "print(\"texto que sale : \",curso.lower().count(\"n.\"))\n",
        "print(\"texto que sale : \",\"0000000121231231|CC1231312312\".count(\"CC\"))"
      ],
      "metadata": {
        "colab": {
          "base_uri": "https://localhost:8080/"
        },
        "id": "_OOCkqUAl4Ys",
        "outputId": "fdf1d83e-51c1-4651-99f8-b46a88e3f479"
      },
      "execution_count": 47,
      "outputs": [
        {
          "output_type": "stream",
          "name": "stdout",
          "text": [
            "texto que entra:  CoDinG.Up.My.Future\n",
            "texto que sale :  2\n",
            "texto que sale :  0\n",
            "texto que sale :  1\n"
          ]
        }
      ]
    },
    {
      "cell_type": "code",
      "source": [
        "print(\"texto que sale : \",\"0000000121231231|CC1231312312\".count(\"NIT\"))"
      ],
      "metadata": {
        "colab": {
          "base_uri": "https://localhost:8080/"
        },
        "id": "6oH1l5Trm6Yt",
        "outputId": "467db66e-6355-476d-ebc5-93f12e3955e9"
      },
      "execution_count": 48,
      "outputs": [
        {
          "output_type": "stream",
          "name": "stdout",
          "text": [
            "texto que sale :  0\n"
          ]
        }
      ]
    },
    {
      "cell_type": "markdown",
      "source": [
        "### **FIND**\n",
        "\n",
        "Mirar esta función, es ideal para slices\n",
        "\n",
        "\n",
        "cuando retorna -1 : no encontró el caracter"
      ],
      "metadata": {
        "id": "nbYBqZrTklze"
      }
    },
    {
      "cell_type": "code",
      "source": [
        "print(\"texto que entra: \",curso)\n",
        "print(\"texto que sale : \",curso.find(\"u\"))\n",
        "print(\"texto que sale : \",curso.lower().find(\"u\"))\n",
        "print(\"texto que sale : \",curso[curso.lower().find(\"u\"):])\n",
        "print(\"texto que sale : \",curso.lower().find(\"X\"))"
      ],
      "metadata": {
        "colab": {
          "base_uri": "https://localhost:8080/"
        },
        "id": "q_1yGU8Dm9D5",
        "outputId": "06c03b91-dfe8-42e6-93c0-bdcbcd68f9e7"
      },
      "execution_count": 49,
      "outputs": [
        {
          "output_type": "stream",
          "name": "stdout",
          "text": [
            "texto que entra:  CoDinG.Up.My.Future\n",
            "texto que sale :  14\n",
            "texto que sale :  7\n",
            "texto que sale :  Up.My.Future\n",
            "texto que sale :  -1\n"
          ]
        }
      ]
    },
    {
      "cell_type": "markdown",
      "source": [
        "### **LSTRIP**"
      ],
      "metadata": {
        "id": "4TIbr7Reklt6"
      }
    },
    {
      "cell_type": "code",
      "source": [
        "print(espacios_izquierda,\"-->\", len(espacios_izquierda))\n",
        "print(espacios_izquierda.lstrip(),\"-->\", len(espacios_izquierda.lstrip()))"
      ],
      "metadata": {
        "colab": {
          "base_uri": "https://localhost:8080/"
        },
        "id": "_60SaGYdoosq",
        "outputId": "955cbcdf-b440-41e6-cb9a-71f76f989dc3"
      },
      "execution_count": 50,
      "outputs": [
        {
          "output_type": "stream",
          "name": "stdout",
          "text": [
            "         hola espacios izquierdos --> 33\n",
            "hola espacios izquierdos --> 24\n"
          ]
        }
      ]
    },
    {
      "cell_type": "markdown",
      "source": [
        "### **RSTRIP**"
      ],
      "metadata": {
        "id": "BFj3yYVqk3Ed"
      }
    },
    {
      "cell_type": "code",
      "source": [
        "print(espacios_derecha,\"-->\", len(espacios_derecha))\n",
        "print(espacios_derecha.rstrip(),\"-->\", len(espacios_derecha.rstrip()))\n",
        "# pepito@email.com"
      ],
      "metadata": {
        "colab": {
          "base_uri": "https://localhost:8080/"
        },
        "id": "J8H855napLgs",
        "outputId": "466d0797-d3dc-4c3e-f655-c987d97b518f"
      },
      "execution_count": 51,
      "outputs": [
        {
          "output_type": "stream",
          "name": "stdout",
          "text": [
            "hola espacios derechos             --> 34\n",
            "hola espacios derechos --> 22\n"
          ]
        }
      ]
    },
    {
      "cell_type": "markdown",
      "source": [
        "### **STRIP**\n",
        "\n",
        "Es el más utilizado"
      ],
      "metadata": {
        "id": "VJZlSIEik85v"
      }
    },
    {
      "cell_type": "code",
      "source": [
        "print(espacios_ambos,\"-->\", len(espacios_ambos))\n",
        "print(espacios_ambos.strip(),\"-->\", len(espacios_ambos.strip()))"
      ],
      "metadata": {
        "colab": {
          "base_uri": "https://localhost:8080/"
        },
        "id": "VNzbCT8Tk8Ok",
        "outputId": "37faa6db-56cd-415e-816f-86b3194d1ab6"
      },
      "execution_count": 52,
      "outputs": [
        {
          "output_type": "stream",
          "name": "stdout",
          "text": [
            "             espacio central        --> 35\n",
            "espacio central --> 15\n"
          ]
        }
      ]
    },
    {
      "cell_type": "code",
      "source": [
        "espacios_izquierda = '         hola espacios izquierdos'\n",
        "espacios_derecha   = 'hola espacios derechos            '\n",
        "espacios_ambos     ='             espacio central       '"
      ],
      "metadata": {
        "id": "x2WLYXgqomvC"
      },
      "execution_count": 53,
      "outputs": []
    },
    {
      "cell_type": "code",
      "source": [
        "print(espacios_ambos.rstrip().lstrip()) # == espacios_ambos.strip()"
      ],
      "metadata": {
        "colab": {
          "base_uri": "https://localhost:8080/"
        },
        "id": "VWQZqrgcp58P",
        "outputId": "8b56c8fa-6125-42d1-c26e-6ffde2bdac01"
      },
      "execution_count": 54,
      "outputs": [
        {
          "output_type": "stream",
          "name": "stdout",
          "text": [
            "espacio central\n"
          ]
        }
      ]
    },
    {
      "cell_type": "code",
      "source": [],
      "metadata": {
        "id": "k0wYqsUKqRwP"
      },
      "execution_count": 54,
      "outputs": []
    },
    {
      "cell_type": "markdown",
      "source": [
        "### **INDEX**"
      ],
      "metadata": {
        "id": "sj9ZmHeEtDBp"
      }
    },
    {
      "cell_type": "code",
      "source": [
        "print(\"texto que entra: \",curso)\n",
        "print(\"texto que sale : \",curso.index(\"u\"))\n",
        "print(\"texto que sale : \",curso.lower().index(\"u\"))"
      ],
      "metadata": {
        "colab": {
          "base_uri": "https://localhost:8080/"
        },
        "id": "H5gizQN0rPls",
        "outputId": "7a6716f5-9ccf-403c-e1a6-706a3371e94d"
      },
      "execution_count": 55,
      "outputs": [
        {
          "output_type": "stream",
          "name": "stdout",
          "text": [
            "texto que entra:  CoDinG.Up.My.Future\n",
            "texto que sale :  14\n",
            "texto que sale :  7\n"
          ]
        }
      ]
    },
    {
      "cell_type": "code",
      "source": [
        "print(\"texto que sale : \",curso.lower().index(\"X\"))"
      ],
      "metadata": {
        "colab": {
          "base_uri": "https://localhost:8080/",
          "height": 176
        },
        "id": "i348QD-dtJDi",
        "outputId": "c8db7fb9-6e99-4deb-9c6b-2f871f302a1b"
      },
      "execution_count": 56,
      "outputs": [
        {
          "output_type": "error",
          "ename": "ValueError",
          "evalue": "ignored",
          "traceback": [
            "\u001b[0;31m---------------------------------------------------------------------------\u001b[0m",
            "\u001b[0;31mValueError\u001b[0m                                Traceback (most recent call last)",
            "\u001b[0;32m<ipython-input-56-879bdc54f344>\u001b[0m in \u001b[0;36m<cell line: 1>\u001b[0;34m()\u001b[0m\n\u001b[0;32m----> 1\u001b[0;31m \u001b[0mprint\u001b[0m\u001b[0;34m(\u001b[0m\u001b[0;34m\"texto que sale : \"\u001b[0m\u001b[0;34m,\u001b[0m\u001b[0mcurso\u001b[0m\u001b[0;34m.\u001b[0m\u001b[0mlower\u001b[0m\u001b[0;34m(\u001b[0m\u001b[0;34m)\u001b[0m\u001b[0;34m.\u001b[0m\u001b[0mindex\u001b[0m\u001b[0;34m(\u001b[0m\u001b[0;34m\"X\"\u001b[0m\u001b[0;34m)\u001b[0m\u001b[0;34m)\u001b[0m\u001b[0;34m\u001b[0m\u001b[0;34m\u001b[0m\u001b[0m\n\u001b[0m",
            "\u001b[0;31mValueError\u001b[0m: substring not found"
          ]
        }
      ]
    },
    {
      "cell_type": "markdown",
      "source": [
        "### **SPLIT**"
      ],
      "metadata": {
        "id": "oqRFSALfuUDM"
      }
    },
    {
      "cell_type": "code",
      "source": [
        "texto_multi_linea:str = \"\"\"\n",
        "hola\n",
        "como\n",
        "están\n",
        "1 2\n",
        "\"\"\"\n",
        "print(texto_multi_linea)\n",
        "print(curso)\n",
        "print(\"hola a todos\")\n",
        "print(\"1111;NOMBRE;pepito@gmail.com\")"
      ],
      "metadata": {
        "colab": {
          "base_uri": "https://localhost:8080/"
        },
        "id": "2wImkV3huTLR",
        "outputId": "13d92a43-64ea-40d4-a668-77befb8c0a15"
      },
      "execution_count": 57,
      "outputs": [
        {
          "output_type": "stream",
          "name": "stdout",
          "text": [
            "\n",
            "hola\n",
            "como\n",
            "están\n",
            "1 2\n",
            "\n",
            "CoDinG.Up.My.Future\n",
            "hola a todos\n",
            "1111;NOMBRE;pepito@gmail.com\n"
          ]
        }
      ]
    },
    {
      "cell_type": "code",
      "source": [
        "print(\"tipo de dato :\",type(curso),len(curso),\"valor:\",curso)\n",
        "datos_partidos = curso.split(\".\")\n",
        "print(\"tipo de dato :\",type(datos_partidos),len(datos_partidos), datos_partidos,\"valor:\",curso)"
      ],
      "metadata": {
        "colab": {
          "base_uri": "https://localhost:8080/"
        },
        "id": "n7622SOcvbcH",
        "outputId": "28598510-e3d1-4c87-9e73-df4c961957a4"
      },
      "execution_count": 58,
      "outputs": [
        {
          "output_type": "stream",
          "name": "stdout",
          "text": [
            "tipo de dato : <class 'str'> 19 valor: CoDinG.Up.My.Future\n",
            "tipo de dato : <class 'list'> 4 ['CoDinG', 'Up', 'My', 'Future'] valor: CoDinG.Up.My.Future\n"
          ]
        }
      ]
    },
    {
      "cell_type": "code",
      "source": [
        "print(\"hola a  todos\".split())  # simple\n",
        "print(\"hola a  todos\".split(\" \"))  # simple\n",
        "print(\"hola a  todos\".split(\"  \")) # espacio doble\n",
        "print(texto_multi_linea.split(\"\\n\")) # salto linea | enter"
      ],
      "metadata": {
        "colab": {
          "base_uri": "https://localhost:8080/"
        },
        "id": "951Ic1jOxATD",
        "outputId": "db959f3a-4289-4291-eb2d-99f702260e9d"
      },
      "execution_count": 59,
      "outputs": [
        {
          "output_type": "stream",
          "name": "stdout",
          "text": [
            "['hola', 'a', 'todos']\n",
            "['hola', 'a', '', 'todos']\n",
            "['hola a', 'todos']\n",
            "['', 'hola', 'como', 'están', '1 2', '']\n"
          ]
        }
      ]
    },
    {
      "cell_type": "code",
      "source": [
        "print(datos_partidos)\n",
        "print(datos_partidos[::-1])"
      ],
      "metadata": {
        "colab": {
          "base_uri": "https://localhost:8080/"
        },
        "id": "qGyGoHNTx5wg",
        "outputId": "20e4f3bc-73ca-4bdb-fd49-5247928789e4"
      },
      "execution_count": 60,
      "outputs": [
        {
          "output_type": "stream",
          "name": "stdout",
          "text": [
            "['CoDinG', 'Up', 'My', 'Future']\n",
            "['Future', 'My', 'Up', 'CoDinG']\n"
          ]
        }
      ]
    },
    {
      "cell_type": "markdown",
      "source": [
        "### **IS...**\n",
        "\n",
        "\n",
        "\n",
        "`variable.ISALGO` --> Validando lógica booleana `True o False`\n",
        "\n"
      ],
      "metadata": {
        "id": "mcqi-Q_ZyWQB"
      }
    },
    {
      "cell_type": "code",
      "source": [
        "print(curso)\n",
        "print(curso.islower())\n",
        "print(curso.lower().islower())\n",
        "print(curso.islower())\n",
        "print(curso.isdigit())\n",
        "print(\"122\".isdigit())"
      ],
      "metadata": {
        "colab": {
          "base_uri": "https://localhost:8080/"
        },
        "id": "ElaysR32ypV0",
        "outputId": "d02432c9-9ca5-4ccb-ab28-beba328e0608"
      },
      "execution_count": 61,
      "outputs": [
        {
          "output_type": "stream",
          "name": "stdout",
          "text": [
            "CoDinG.Up.My.Future\n",
            "False\n",
            "True\n",
            "False\n",
            "False\n",
            "True\n"
          ]
        }
      ]
    },
    {
      "cell_type": "code",
      "source": [
        "print(\"aa1\".isdigit())\n",
        "int(\"aa1\")"
      ],
      "metadata": {
        "colab": {
          "base_uri": "https://localhost:8080/",
          "height": 211
        },
        "id": "prIH_ElY3fst",
        "outputId": "dfd7f802-d90e-4205-aeb6-aace2fe04eb9"
      },
      "execution_count": 62,
      "outputs": [
        {
          "output_type": "stream",
          "name": "stdout",
          "text": [
            "False\n"
          ]
        },
        {
          "output_type": "error",
          "ename": "ValueError",
          "evalue": "ignored",
          "traceback": [
            "\u001b[0;31m---------------------------------------------------------------------------\u001b[0m",
            "\u001b[0;31mValueError\u001b[0m                                Traceback (most recent call last)",
            "\u001b[0;32m<ipython-input-62-7304cd3df8a7>\u001b[0m in \u001b[0;36m<cell line: 2>\u001b[0;34m()\u001b[0m\n\u001b[1;32m      1\u001b[0m \u001b[0mprint\u001b[0m\u001b[0;34m(\u001b[0m\u001b[0;34m\"aa1\"\u001b[0m\u001b[0;34m.\u001b[0m\u001b[0misdigit\u001b[0m\u001b[0;34m(\u001b[0m\u001b[0;34m)\u001b[0m\u001b[0;34m)\u001b[0m\u001b[0;34m\u001b[0m\u001b[0;34m\u001b[0m\u001b[0m\n\u001b[0;32m----> 2\u001b[0;31m \u001b[0mint\u001b[0m\u001b[0;34m(\u001b[0m\u001b[0;34m\"aa1\"\u001b[0m\u001b[0;34m)\u001b[0m\u001b[0;34m\u001b[0m\u001b[0;34m\u001b[0m\u001b[0m\n\u001b[0m",
            "\u001b[0;31mValueError\u001b[0m: invalid literal for int() with base 10: 'aa1'"
          ]
        }
      ]
    },
    {
      "cell_type": "markdown",
      "source": [
        "### **MULTIPLICACIÓN**\n",
        "\n",
        "Las listas son diferentes de los arrays en python\n",
        "\n",
        "clave: arrays son para temas matemáticos"
      ],
      "metadata": {
        "id": "HlbdWeu50IWw"
      }
    },
    {
      "cell_type": "code",
      "source": [
        "print(\"@\" * 20)\n",
        "print([1,\"ss\", 1.1] * 20)"
      ],
      "metadata": {
        "colab": {
          "base_uri": "https://localhost:8080/"
        },
        "id": "yBSz23ce0Hrd",
        "outputId": "978f22c1-1a41-4ffb-e753-9b460d7bac01"
      },
      "execution_count": 63,
      "outputs": [
        {
          "output_type": "stream",
          "name": "stdout",
          "text": [
            "@@@@@@@@@@@@@@@@@@@@\n",
            "[1, 'ss', 1.1, 1, 'ss', 1.1, 1, 'ss', 1.1, 1, 'ss', 1.1, 1, 'ss', 1.1, 1, 'ss', 1.1, 1, 'ss', 1.1, 1, 'ss', 1.1, 1, 'ss', 1.1, 1, 'ss', 1.1, 1, 'ss', 1.1, 1, 'ss', 1.1, 1, 'ss', 1.1, 1, 'ss', 1.1, 1, 'ss', 1.1, 1, 'ss', 1.1, 1, 'ss', 1.1, 1, 'ss', 1.1, 1, 'ss', 1.1, 1, 'ss', 1.1]\n"
          ]
        }
      ]
    },
    {
      "cell_type": "code",
      "source": [
        "# ejemplo de array, no aprender por el momento\n",
        "import numpy as np\n",
        "arr = np.array([1, 2, 3, 4, 5])\n",
        "print(arr, type(arr))\n",
        "print(arr * 20)"
      ],
      "metadata": {
        "colab": {
          "base_uri": "https://localhost:8080/"
        },
        "id": "ASoYoVte0GtP",
        "outputId": "4f4408d5-6070-498b-fb9b-a544385f4199"
      },
      "execution_count": 64,
      "outputs": [
        {
          "output_type": "stream",
          "name": "stdout",
          "text": [
            "[1 2 3 4 5] <class 'numpy.ndarray'>\n",
            "[ 20  40  60  80 100]\n"
          ]
        }
      ]
    },
    {
      "cell_type": "markdown",
      "source": [
        "### **CONCATENACIÓN SIMPLE - MODO NOVATO**\n",
        "\n",
        "Cuando vamos a unir el valor de dos o más variables en una sola\n",
        "\n",
        "\n",
        "valor esperado:\n",
        "\n",
        "\n",
        "\n",
        "```\n",
        "el nombre es: nombre, apellido es: apellido, y la edad es: edad\n",
        "```\n",
        "\n",
        "\n",
        "```\n",
        "se realiza con +\n",
        "```\n",
        "\n",
        "restricción: de este modo, todas las variables deben ser del mismo tipo de dato\n",
        "\n"
      ],
      "metadata": {
        "id": "ugppuhnW1Jqm"
      }
    },
    {
      "cell_type": "code",
      "source": [
        "nombre: str = \"pepito\"\n",
        "apellido: str = \"perez\"\n",
        "edad:int = 21"
      ],
      "metadata": {
        "id": "gHzYmy9W1JIf"
      },
      "execution_count": 65,
      "outputs": []
    },
    {
      "cell_type": "code",
      "source": [
        "# fase 1\n",
        "valor_esperado: str = \"el nombre es: \" + nombre\n",
        "print(valor_esperado)"
      ],
      "metadata": {
        "colab": {
          "base_uri": "https://localhost:8080/"
        },
        "id": "owpapoPK14Gq",
        "outputId": "37c77dd8-edc1-4517-f2d5-531ce8819baa"
      },
      "execution_count": 66,
      "outputs": [
        {
          "output_type": "stream",
          "name": "stdout",
          "text": [
            "el nombre es: pepito\n"
          ]
        }
      ]
    },
    {
      "cell_type": "code",
      "source": [
        "# fase 2\n",
        "valor_esperado: str = \"el nombre es: \" + nombre + \", apellido es: \" + apellido + \", y la edad es: \" + str(edad)\n",
        "print(valor_esperado)"
      ],
      "metadata": {
        "colab": {
          "base_uri": "https://localhost:8080/"
        },
        "id": "foeAolv02D4q",
        "outputId": "61ce650b-44e2-4ab9-e0c9-826e58b3c138"
      },
      "execution_count": 67,
      "outputs": [
        {
          "output_type": "stream",
          "name": "stdout",
          "text": [
            "el nombre es: pepito, apellido es: perez, y la edad es: 21\n"
          ]
        }
      ]
    }
  ]
}
