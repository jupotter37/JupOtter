{
 "cells": [
  {
   "cell_type": "code",
   "execution_count": 1,
   "id": "e92c135b",
   "metadata": {},
   "outputs": [],
   "source": [
    "%load_ext autoreload\n",
    "%autoreload 2"
   ]
  },
  {
   "cell_type": "code",
   "execution_count": 2,
   "id": "e5ed4031",
   "metadata": {},
   "outputs": [],
   "source": [
    "import dcbench"
   ]
  },
  {
   "cell_type": "code",
   "execution_count": 3,
   "id": "01273a96",
   "metadata": {},
   "outputs": [],
   "source": [
    "task = dcbench.tasks[\"slice_discovery\"]"
   ]
  },
  {
   "cell_type": "code",
   "execution_count": 11,
   "id": "3960e86a",
   "metadata": {},
   "outputs": [
    {
     "data": {
      "text/plain": [
       "dcbench.tasks.slice_discovery.problem.SliceDiscoverySolution"
      ]
     },
     "execution_count": 11,
     "metadata": {},
     "output_type": "execute_result"
    }
   ],
   "source": [
    "task.solution_class"
   ]
  },
  {
   "cell_type": "code",
   "execution_count": 5,
   "id": "d249ee2b",
   "metadata": {},
   "outputs": [],
   "source": [
    "import yaml\n",
    "import domino\n",
    "out = yaml.load(\n",
    "    open(\"/oak/stanford/groups/jamesz/eyuboglu/.dcbench/slice_discovery/solution_sets/22-06-07-c5ef5603/solutions.yaml\"),\n",
    "    Loader=yaml.FullLoader\n",
    ")"
   ]
  },
  {
   "cell_type": "code",
   "execution_count": 6,
   "id": "62985a71",
   "metadata": {},
   "outputs": [
    {
     "data": {
      "text/plain": [
       "SliceDiscoverySolution(artifacts={'pred_slices': 'DataPanelArtifact'}, attributes={'embedding_column': 'emb', 'problem_id': 'p_72877', 'slicer_class': <class 'domino._slice.domino.DominoSlicer'>, 'slicer_config': {'n_slices': 5, 'y_hat_log_likelihood_weight': 10, 'y_log_likelihood_weight': 10}})"
      ]
     },
     "execution_count": 6,
     "metadata": {},
     "output_type": "execute_result"
    }
   ],
   "source": [
    "out[0]"
   ]
  },
  {
   "cell_type": "code",
   "execution_count": 7,
   "id": "f9c43f36",
   "metadata": {},
   "outputs": [],
   "source": [
    "from dcbench.common.solution_set import SolutionSet"
   ]
  },
  {
   "cell_type": "code",
   "execution_count": 13,
   "id": "43287e5d",
   "metadata": {},
   "outputs": [],
   "source": [
    "sset = SolutionSet.from_solutions(out, \"test\")"
   ]
  },
  {
   "cell_type": "code",
   "execution_count": 15,
   "id": "ff176846",
   "metadata": {},
   "outputs": [
    {
     "ename": "AttributeError",
     "evalue": "'SolutionSet' object has no attribute 'solutions'",
     "output_type": "error",
     "traceback": [
      "\u001b[0;31m---------------------------------------------------------------------------\u001b[0m",
      "\u001b[0;31mAttributeError\u001b[0m                            Traceback (most recent call last)",
      "Input \u001b[0;32mIn [15]\u001b[0m, in \u001b[0;36m<cell line: 1>\u001b[0;34m()\u001b[0m\n\u001b[0;32m----> 1\u001b[0m \u001b[43msset\u001b[49m\u001b[38;5;241;43m.\u001b[39;49m\u001b[43msolutions\u001b[49m\n",
      "\u001b[0;31mAttributeError\u001b[0m: 'SolutionSet' object has no attribute 'solutions'"
     ]
    }
   ],
   "source": [
    "sset.solutions"
   ]
  },
  {
   "cell_type": "code",
   "execution_count": null,
   "id": "f7f921d0",
   "metadata": {},
   "outputs": [],
   "source": []
  }
 ],
 "metadata": {
  "kernelspec": {
   "display_name": "Python 3",
   "language": "python",
   "name": "python3"
  },
  "language_info": {
   "codemirror_mode": {
    "name": "ipython",
    "version": 3
   },
   "file_extension": ".py",
   "mimetype": "text/x-python",
   "name": "python",
   "nbconvert_exporter": "python",
   "pygments_lexer": "ipython3",
   "version": "3.9.12"
  }
 },
 "nbformat": 4,
 "nbformat_minor": 5
}
