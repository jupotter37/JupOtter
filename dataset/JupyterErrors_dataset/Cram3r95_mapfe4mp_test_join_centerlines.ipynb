{
 "cells": [
  {
   "cell_type": "code",
   "execution_count": 1,
   "metadata": {},
   "outputs": [],
   "source": [
    "%load_ext autoreload\n",
    "%autoreload 2\n",
    "%reload_ext autoreload"
   ]
  },
  {
   "cell_type": "code",
   "execution_count": 33,
   "metadata": {},
   "outputs": [],
   "source": [
    "import git\n",
    "import sys\n",
    "import os\n",
    "import time\n",
    "import cv2\n",
    "import numpy as np\n",
    "import pandas as pd\n",
    "import math\n",
    "import pdb\n",
    "import matplotlib.pyplot as plt\n",
    "\n",
    "repo = git.Repo('.', search_parent_directories=True)\n",
    "BASE_DIR = repo.working_tree_dir\n",
    "sys.path.append(BASE_DIR)\n",
    "\n",
    "import model.datasets.argoverse.dataset as dataset\n",
    "import model.datasets.argoverse.dataset_utils as dataset_utils \n",
    "import model.datasets.argoverse.map_functions as map_functions\n",
    "import model.datasets.argoverse.goal_points_functions as goal_points_functions\n",
    "\n",
    "from model.datasets.argoverse.map_functions import MapFeaturesUtils\n",
    "map_features_utils_instance = MapFeaturesUtils()\n",
    "\n",
    "# Set root_dir to the correct path to your dataset folder\n",
    "\n",
    "split_name = \"test\"\n",
    "split_percentage = 1.0\n",
    "root_dir = os.path.join(BASE_DIR,\n",
    "                        f'data/datasets/argoverse/motion-forecasting/{split_name}')\n",
    "data_processed_dir = os.path.join(root_dir, f'data_processed_{str(int(split_percentage*100))}_percent')"
   ]
  },
  {
   "cell_type": "code",
   "execution_count": 34,
   "metadata": {},
   "outputs": [],
   "source": [
    "relevant_centerlines_filtered_npz = np.load(os.path.join(data_processed_dir,\"relevant_centerlines.npz\"),allow_pickle=True)\n",
    "relevant_centerlines_filtered = relevant_centerlines_filtered_npz['arr_0'].item()"
   ]
  },
  {
   "cell_type": "code",
   "execution_count": 31,
   "metadata": {},
   "outputs": [
    {
     "name": "stdout",
     "output_type": "stream",
     "text": [
      "Num files:  39472\n"
     ]
    }
   ],
   "source": [
    "files, num_files = dataset_utils.load_list_from_folder(os.path.join(root_dir,\"data\"))\n",
    "\n",
    "file_id_list = []\n",
    "root_file_name = None\n",
    "for file_name in files:\n",
    "    if not root_file_name:\n",
    "        root_file_name = os.path.dirname(os.path.abspath(file_name))\n",
    "    file_id = int(os.path.normpath(file_name).split('/')[-1].split('.')[0])\n",
    "    file_id_list.append(file_id)\n",
    "file_id_list.sort()\n",
    "print(\"Num files: \", num_files)"
   ]
  },
  {
   "cell_type": "code",
   "execution_count": 20,
   "metadata": {},
   "outputs": [
    {
     "name": "stdout",
     "output_type": "stream",
     "text": [
      "debug_indeces:  [26613, 56236, 100007, 126363, 139208, 142045, 145818, 150399, 156057, 161756, 163502, 184151, 203875]\n"
     ]
    }
   ],
   "source": [
    "debug_centerlines = [27353, 57791, 102781, 129915, 143124, 146034, 149913, 154633, 160433, 166298, 168101, 189296, 209572]\n",
    "\n",
    "debug_indeces = []\n",
    "\n",
    "for debug_centerline_id in debug_centerlines:\n",
    "    index = file_id_list.index(debug_centerline_id)\n",
    "    debug_indeces.append(index)\n",
    "\n",
    "print(\"debug_indeces: \", debug_indeces)"
   ]
  },
  {
   "cell_type": "code",
   "execution_count": 29,
   "metadata": {},
   "outputs": [
    {
     "data": {
      "text/plain": [
       "(205942, 40, 2)"
      ]
     },
     "execution_count": 29,
     "metadata": {},
     "output_type": "execute_result"
    }
   ],
   "source": [
    "test_centerlines = []\n",
    "i = j = 0\n",
    "for file_index in range(len(file_id_list)):\n",
    "    if file_index in debug_indeces:\n",
    "        test_centerlines.append(debug_relevant_centerlines[j])\n",
    "        j += 1\n",
    "    else:\n",
    "        test_centerlines.append(unfinished_relevant_centerlines[i])\n",
    "        i += 1\n",
    "\n",
    "test_centerlines = np.array(test_centerlines)\n",
    "\n",
    "filename = root_dir+\"data_processed_100_percent/relevant_centerlines.npy\"\n",
    "with open(filename, 'wb') as my_file: np.save(my_file, test_centerlines)"
   ]
  },
  {
   "cell_type": "code",
   "execution_count": 32,
   "metadata": {},
   "outputs": [
    {
     "data": {
      "image/png": "[encoded data removed]",
      "text/plain": [
       "<Figure size 576x576 with 1 Axes>"
      ]
     },
     "metadata": {},
     "output_type": "display_data"
    }
   ],
   "source": [
    "file_id = 160433\n",
    "\n",
    "obs_len = 20\n",
    "pred_len = 30\n",
    "\n",
    "seq_path = os.path.join(root_dir+\"data\",str(file_id)+\".csv\")\n",
    "\n",
    "start = time.time()\n",
    "\n",
    "# Compute map features using Argoverse Forecasting Baseline algorithm\n",
    "\n",
    "start = time.time()\n",
    "\n",
    "df = pd.read_csv(seq_path, dtype={\"TIMESTAMP\": str})\n",
    "\n",
    "# Get social and map features for the agent\n",
    "\n",
    "RAW_DATA_FORMAT = {\n",
    "    \"TIMESTAMP\": 0,\n",
    "    \"TRACK_ID\": 1,\n",
    "    \"OBJECT_TYPE\": 2,\n",
    "    \"X\": 3,\n",
    "    \"Y\": 4,\n",
    "    \"CITY_NAME\": 5,\n",
    "}\n",
    "\n",
    "agent_track = df[df[\"OBJECT_TYPE\"] == \"AGENT\"].values\n",
    "city_name = agent_track[0,RAW_DATA_FORMAT[\"CITY_NAME\"]]\n",
    "agent_xy = agent_track[:,[RAW_DATA_FORMAT[\"X\"],RAW_DATA_FORMAT[\"Y\"]]].astype(\"float\")\n",
    "map_features_utils_instance.debug_centerline_and_agent([test_centerlines[file_id_list.index(file_id),:,:]], \n",
    "                                                       agent_xy, obs_len, obs_len+pred_len, split_name, file_id)"
   ]
  },
  {
   "cell_type": "code",
   "execution_count": 4,
   "metadata": {},
   "outputs": [
    {
     "name": "stdout",
     "output_type": "stream",
     "text": [
      "Num files:  78143\n",
      "Len file_id_list:  78143\n",
      "Time:  0.1435086727142334\n",
      "Num keys:  78143\n"
     ]
    }
   ],
   "source": [
    "# Create dummy relevant centerlines (if the file has not not been preprocessed yet. Just to run the dataloader)\n",
    "\n",
    "split_name = \"test\"\n",
    "split_percentage = 1.0\n",
    "root_dir = os.path.join(BASE_DIR,f'data/datasets/argoverse/motion-forecasting/{split_name}/')\n",
    "\n",
    "files, num_files = dataset_utils.load_list_from_folder(root_dir+\"data\")\n",
    "\n",
    "file_id_list = []\n",
    "root_file_name = None\n",
    "for file_name in files:\n",
    "    if not root_file_name:\n",
    "        root_file_name = os.path.dirname(os.path.abspath(file_name))\n",
    "    file_id = int(os.path.normpath(file_name).split('/')[-1].split('.')[0])\n",
    "    file_id_list.append(file_id)\n",
    "file_id_list.sort()\n",
    "print(\"Num files: \", num_files)\n",
    "\n",
    "map_info = dict()\n",
    "\n",
    "n_files = math.ceil(split_percentage*num_files)\n",
    "file_id_list_percentage = file_id_list[:n_files]\n",
    "print(\"Len file_id_list: \", len(file_id_list_percentage))\n",
    "\n",
    "start = time.time()\n",
    "for file_id in file_id_list_percentage:\n",
    "    seq_map_info = []\n",
    "    map_info[str(file_id)] = seq_map_info \n",
    "end = time.time()\n",
    "print(\"Time: \", end-start)\n",
    "print(\"Num keys: \", len(map_info.keys()))\n",
    "\n",
    "folder = os.path.join(root_dir,f\"data_processed_{str(int(split_percentage*100))}_percent\")\n",
    "filename = os.path.join(folder,\n",
    "                        \"relevant_centerlines.npz\")\n",
    "with open(filename, 'wb') as my_file: np.savez(my_file, map_info)"
   ]
  },
  {
   "cell_type": "code",
   "execution_count": 3,
   "metadata": {},
   "outputs": [],
   "source": [
    "def intersect2D(a, b):\n",
    "  \"\"\"\n",
    "  Find row intersection between 2D numpy arrays, a and b.\n",
    "  Returns another numpy array with shared rows\n",
    "  \"\"\"\n",
    "  return np.array([x for x in set(tuple(x) for x in a) & set(tuple(x) for x in b)])"
   ]
  },
  {
   "cell_type": "code",
   "execution_count": 1,
   "metadata": {},
   "outputs": [
    {
     "ename": "NameError",
     "evalue": "name 'dataset_utils' is not defined",
     "output_type": "error",
     "traceback": [
      "\u001b[0;31m---------------------------------------------------------------------------\u001b[0m",
      "\u001b[0;31mNameError\u001b[0m                                 Traceback (most recent call last)",
      "\u001b[1;32m/home/denso/carlos_vsr_workspace/mapfe4mp/evaluate/argoverse/test_join_centerlines.ipynb Cell 10\u001b[0m in \u001b[0;36m<cell line: 4>\u001b[0;34m()\u001b[0m\n\u001b[1;32m      <a href='vscode-notebook-cell://ssh-remote%2B128.32.164.188/home/denso/carlos_vsr_workspace/mapfe4mp/evaluate/argoverse/test_join_centerlines.ipynb#X12sdnNjb2RlLXJlbW90ZQ%3D%3D?line=0'>1</a>\u001b[0m \u001b[39m# Read all plausible areas and store in a single npy array\u001b[39;00m\n\u001b[1;32m      <a href='vscode-notebook-cell://ssh-remote%2B128.32.164.188/home/denso/carlos_vsr_workspace/mapfe4mp/evaluate/argoverse/test_join_centerlines.ipynb#X12sdnNjb2RlLXJlbW90ZQ%3D%3D?line=2'>3</a>\u001b[0m subfolder \u001b[39m=\u001b[39m \u001b[39m\"\u001b[39m\u001b[39mmap_features\u001b[39m\u001b[39m\"\u001b[39m\n\u001b[0;32m----> <a href='vscode-notebook-cell://ssh-remote%2B128.32.164.188/home/denso/carlos_vsr_workspace/mapfe4mp/evaluate/argoverse/test_join_centerlines.ipynb#X12sdnNjb2RlLXJlbW90ZQ%3D%3D?line=3'>4</a>\u001b[0m files, num_files \u001b[39m=\u001b[39m dataset_utils\u001b[39m.\u001b[39mload_list_from_folder(os\u001b[39m.\u001b[39mpath\u001b[39m.\u001b[39mjoin(root_dir,subfolder))\n\u001b[1;32m      <a href='vscode-notebook-cell://ssh-remote%2B128.32.164.188/home/denso/carlos_vsr_workspace/mapfe4mp/evaluate/argoverse/test_join_centerlines.ipynb#X12sdnNjb2RlLXJlbW90ZQ%3D%3D?line=5'>6</a>\u001b[0m file_id_list \u001b[39m=\u001b[39m []\n\u001b[1;32m      <a href='vscode-notebook-cell://ssh-remote%2B128.32.164.188/home/denso/carlos_vsr_workspace/mapfe4mp/evaluate/argoverse/test_join_centerlines.ipynb#X12sdnNjb2RlLXJlbW90ZQ%3D%3D?line=6'>7</a>\u001b[0m root_file_name \u001b[39m=\u001b[39m \u001b[39mNone\u001b[39;00m\n",
      "\u001b[0;31mNameError\u001b[0m: name 'dataset_utils' is not defined"
     ]
    }
   ],
   "source": [
    "# Read all plausible areas and store in a single npy array\n",
    "\n",
    "subfolder = \"map_features\"\n",
    "files, num_files = dataset_utils.load_list_from_folder(os.path.join(root_dir,subfolder))\n",
    "\n",
    "file_id_list = []\n",
    "root_file_name = None\n",
    "for file_name in files:\n",
    "    if not root_file_name:\n",
    "        root_file_name = os.path.dirname(os.path.abspath(file_name))\n",
    "    if \"npy\" in file_name or \"npz\" in file_name:\n",
    "        pass\n",
    "    else:\n",
    "        file_id = int(os.path.normpath(file_name).split('/')[-1].split('_')[0])\n",
    "        file_id_list.append(file_id)\n",
    "file_id_list.sort()\n",
    "print(\"Num files: \", num_files)\n",
    "\n",
    "mask = 255\n",
    "rows = 400 # Default number of rows\n",
    "\n",
    "save_fig = False\n",
    "show = True\n",
    "change_img_bg = False\n",
    "\n",
    "relevant_centerlines_filtered_npz = np.load(os.path.join(data_processed_dir,\"relevant_centerlines.npz\"),allow_pickle=True)\n",
    "relevant_centerlines_filtered = relevant_centerlines_filtered_npz['arr_0'].item()\n",
    "\n",
    "plausible_area_indeces_list = []\n",
    "\n",
    "file_id_list = [188893]\n",
    "\n",
    "for file_id in file_id_list:\n",
    "    print(\">>>>>> File id: \", file_id)\n",
    "    start_t = time.time()\n",
    "    relevant_centerlines = relevant_centerlines_filtered[str(file_id)]\n",
    "\n",
    "    real_world_width = relevant_centerlines[\"real_world_width\"]\n",
    "    real_world_height = relevant_centerlines[\"real_world_height\"]\n",
    "    print(\"RW width, height: \", real_world_width, real_world_height)\n",
    "\n",
    "    cols = math.ceil(rows*(real_world_width/real_world_height)) \n",
    "    scale_x = float(cols/real_world_width) # px/m\n",
    "    scale_y = float(rows/real_world_height) # px/m\n",
    "    center_px = (int(rows/2),int(cols/2))\n",
    "    print(\"root file name: \", root_file_name)\n",
    "    filename = os.path.join(root_file_name,f\"{file_id}_binary_plausible_area_filtered.png\")\n",
    "    img_gray = cv2.imread(filename, cv2.IMREAD_GRAYSCALE)\n",
    "    img_gray = cv2.resize(img_gray, dsize=(cols,rows))\n",
    "\n",
    "    indeces_white = np.vstack(np.where(img_gray == 255)).T\n",
    "    # print(\"Ind white: \", indeces_white.shape)\n",
    "    # discretized_area_points = 512\n",
    "    # subsampling = int(math.floor(indeces_white.shape[0] / discretized_area_points))\n",
    "    # indeces_white_sub = indeces_white[::subsampling]\n",
    "    # print(\"Ind white sub: \", indeces_white_sub.shape)\n",
    "    # fe_x = indeces_white_sub[:,1]\n",
    "    # fe_y = indeces_white_sub[:,0]\n",
    "    fe_x = indeces_white[:,1]\n",
    "    fe_y = indeces_white[:,0]\n",
    "\n",
    "    # discretized_area_points = 512\n",
    "\n",
    "    # start = time.time()\n",
    "\n",
    "    # subsampling_rows = int(rows / 100)\n",
    "    # subsampling_cols = int(cols / 100)\n",
    "    # print(\"Subsampling rows, columns: \", subsampling_rows, subsampling_cols)\n",
    "    # # print(\"Subsampling: \", subsampling)\n",
    "\n",
    "    # total_indeces_rows = np.arange(rows)\n",
    "    # total_indeces_cols = np.arange(cols)\n",
    "\n",
    "    # print(\"pre rows, pre columns: \", rows, cols)\n",
    "\n",
    "    # fe_x = np.array([])\n",
    "\n",
    "    # # while(len(fe_x) < discretized_area_points):\n",
    "    # rows_subsampled = total_indeces_rows[::subsampling_rows]\n",
    "    # cols_subsampled = total_indeces_cols[::subsampling_cols]\n",
    "    # print(\"Rows, cols: \", len(rows_subsampled), len(cols_subsampled))\n",
    "\n",
    "    # start1 = time.time()\n",
    "    # index_pair = []\n",
    "    # for r in rows_subsampled:\n",
    "    #     for c in cols_subsampled:\n",
    "    #         pair = np.array([r,c])\n",
    "    #         index_pair.append(pair)\n",
    "    # index_pair = np.array(index_pair)\n",
    "    # end1 = time.time()\n",
    "    # # print(\">> Pairs subsampled: \", end1-start1)\n",
    "\n",
    "    # start2 = time.time()\n",
    "    # arr = intersect2D(index_pair,indeces_white)\n",
    "    # end2 = time.time()\n",
    "    # # print(\">> Intersect time: \", end2-start2)\n",
    "\n",
    "    # fe_x = arr[:,1]\n",
    "    # fe_y = arr[:,0]\n",
    "\n",
    "    # print(\"Len while: \", len(fe_x))\n",
    "\n",
    "    # end = time.time()  \n",
    "    # # print(\"Time: \", end-start)\n",
    "\n",
    "    # # sample_index = np.random.randint(low=0,high=len(fe_x),size=discretized_area_points)\n",
    "    # # sample_index = np.sort(sample_index) # Sort indeces in order to have to pixels sorted (from top-left to bottom right)\n",
    "    # # fe_x, fe_y = fe_x[sample_index], fe_y[sample_index]\n",
    "\n",
    "    # if len(fe_x) < discretized_area_points:\n",
    "    #     subsampling = int(subsampling / 2)\n",
    "\n",
    "    # fe_x = np.array([])\n",
    "    # fe_y = np.array([])\n",
    "    \n",
    "    img = cv2.cvtColor(img_gray, cv2.COLOR_GRAY2RGB) \n",
    "    filename2 = os.path.join(root_file_name,f\"{file_id}_binary_plausible_area_filtered_discrete.png\")\n",
    "    save_fig = False\n",
    "    show = True\n",
    "    goal_points_functions.plot_fepoints(img, filename2, goals_px_x=fe_x, goals_px_y=fe_y,\n",
    "                                        save_fig=save_fig, show=show, change_bg=change_img_bg)\n",
    "            # pdb.set_trace()\n",
    "    if len(fe_x) < discretized_area_points:\n",
    "        pdb.set_trace()\n",
    "    plausible_area_indeces = np.vstack((fe_y,fe_x)).T\n",
    "    plausible_area_indeces_list.append(plausible_area_indeces)\n",
    "\n",
    "    end_t = time.time()\n",
    "    \n",
    "    print(\"Time: \", end_t-start_t)\n",
    "\n",
    "# Data aug\n",
    "\n",
    "# limit = 4\n",
    "# noise = np.random.randint(-limit,limit,(len(fe_x),2))\n",
    "# fe_x = fe_x + noise[:,1]\n",
    "# fe_y = fe_y + noise[:,0]\n",
    "\n",
    "# fe_x = indeces[1][::subsampling]\n",
    "# fe_y = indeces[0][::subsampling]\n",
    "\n",
    "# img = cv2.cvtColor(img_gray, cv2.COLOR_GRAY2RGB) \n",
    "\n",
    "# goal_points_functions.plot_fepoints(img, filename, goals_px_x=fe_x, goals_px_y=fe_y,\n",
    "#                                     save_fig=save_fig, show=show, change_bg=change_img_bg)\n",
    "\n",
    "# # img_list.append(indeces)\n",
    "\n",
    "# # img_array = np.array(img_list)\n",
    "\n",
    "# # filename_array = os.path.join(root_file_name,subfolder+\".npz\")\n",
    "# # with open(filename_array, 'wb') as my_file: np.savez_compressed(my_file, img_array)"
   ]
  },
  {
   "cell_type": "code",
   "execution_count": 1,
   "metadata": {},
   "outputs": [
    {
     "ename": "NameError",
     "evalue": "name 'root_dir' is not defined",
     "output_type": "error",
     "traceback": [
      "\u001b[0;31m---------------------------------------------------------------------------\u001b[0m",
      "\u001b[0;31mNameError\u001b[0m                                 Traceback (most recent call last)",
      "\u001b[1;32m/home/denso/carlos_vsr_workspace/mapfe4mp/evaluate/argoverse/test_join_centerlines.ipynb Cell 11\u001b[0m in \u001b[0;36m<cell line: 6>\u001b[0;34m()\u001b[0m\n\u001b[1;32m      <a href='vscode-notebook-cell://ssh-remote%2B128.32.164.188/home/denso/carlos_vsr_workspace/mapfe4mp/evaluate/argoverse/test_join_centerlines.ipynb#X20sdnNjb2RlLXJlbW90ZQ%3D%3D?line=0'>1</a>\u001b[0m \u001b[39m# N.B. We assume the images were saved with this resolution: 465 (width = cols) x 462 (height = rows) in map_features folder\u001b[39;00m\n\u001b[1;32m      <a href='vscode-notebook-cell://ssh-remote%2B128.32.164.188/home/denso/carlos_vsr_workspace/mapfe4mp/evaluate/argoverse/test_join_centerlines.ipynb#X20sdnNjb2RlLXJlbW90ZQ%3D%3D?line=1'>2</a>\u001b[0m \u001b[39m# We computed the indeces of the plausible area resizing to 400 (rows) x N columns, scaling the number of columns w.r.t. the\u001b[39;00m\n\u001b[1;32m      <a href='vscode-notebook-cell://ssh-remote%2B128.32.164.188/home/denso/carlos_vsr_workspace/mapfe4mp/evaluate/argoverse/test_join_centerlines.ipynb#X20sdnNjb2RlLXJlbW90ZQ%3D%3D?line=2'>3</a>\u001b[0m \u001b[39m# relation between real world width and height\u001b[39;00m\n\u001b[1;32m      <a href='vscode-notebook-cell://ssh-remote%2B128.32.164.188/home/denso/carlos_vsr_workspace/mapfe4mp/evaluate/argoverse/test_join_centerlines.ipynb#X20sdnNjb2RlLXJlbW90ZQ%3D%3D?line=3'>4</a>\u001b[0m \n\u001b[1;32m      <a href='vscode-notebook-cell://ssh-remote%2B128.32.164.188/home/denso/carlos_vsr_workspace/mapfe4mp/evaluate/argoverse/test_join_centerlines.ipynb#X20sdnNjb2RlLXJlbW90ZQ%3D%3D?line=4'>5</a>\u001b[0m \u001b[39m# indeces_plausible_area = np.load(root_dir+\"data_processed_1_percent/relevant_centerlines.npz\",allow_pickle=True)\u001b[39;00m\n\u001b[0;32m----> <a href='vscode-notebook-cell://ssh-remote%2B128.32.164.188/home/denso/carlos_vsr_workspace/mapfe4mp/evaluate/argoverse/test_join_centerlines.ipynb#X20sdnNjb2RlLXJlbW90ZQ%3D%3D?line=5'>6</a>\u001b[0m root_dir\n",
      "\u001b[0;31mNameError\u001b[0m: name 'root_dir' is not defined"
     ]
    }
   ],
   "source": [
    "# N.B. We assume the images were saved with this resolution: 465 (width = cols) x 462 (height = rows) in map_features folder\n",
    "# We computed the indeces of the plausible area resizing to 400 (rows) x N columns, scaling the number of columns w.r.t. the\n",
    "# relation between real world width and height\n",
    "\n",
    "# indeces_plausible_area = np.load(root_dir+\"data_processed_1_percent/relevant_centerlines.npz\",allow_pickle=True)\n",
    "root_dir"
   ]
  },
  {
   "cell_type": "code",
   "execution_count": 5,
   "metadata": {},
   "outputs": [
    {
     "data": {
      "text/plain": [
       "78143"
      ]
     },
     "execution_count": 5,
     "metadata": {},
     "output_type": "execute_result"
    }
   ],
   "source": [
    "len(relevant_centerlines_filtered)"
   ]
  },
  {
   "cell_type": "code",
   "execution_count": 25,
   "metadata": {},
   "outputs": [],
   "source": [
    "num_centerlines = []\n",
    "\n",
    "for file_id in file_id_list:\n",
    "    # print(\"file_id: \", file_id)\n",
    "    num_centerlines_ = len(relevant_centerlines_filtered[str(file_id)]['relevant_centerlines_filtered'])\n",
    "    # print(\"num_centerlines: \", num_centerlines_)\n",
    "    num_centerlines.append(num_centerlines_)"
   ]
  },
  {
   "cell_type": "code",
   "execution_count": 35,
   "metadata": {},
   "outputs": [
    {
     "data": {
      "text/plain": [
       "[array([[1538.12667242,  242.81042738],\n",
       "        [1538.48580104,  242.93540298],\n",
       "        [1538.27180698,  242.86093373],\n",
       "        [1537.66936862,  242.65128713],\n",
       "        [1536.86316433,  242.37073063],\n",
       "        [1536.03514739,  242.08258339],\n",
       "        [1535.26834138,  241.81573736],\n",
       "        [1534.52118738,  241.55573018],\n",
       "        [1533.75875502,  241.29040622],\n",
       "        [1532.98724498,  241.02192318],\n",
       "        [1532.218433  ,  240.75437893],\n",
       "        [1531.45292169,  240.48798343],\n",
       "        [1530.68680249,  240.2213769 ],\n",
       "        [1529.9196793 ,  239.95442087],\n",
       "        [1529.15440014,  239.68810499],\n",
       "        [1528.39061436,  239.42230794],\n",
       "        [1527.62125294,  239.15457481],\n",
       "        [1526.84349457,  238.88392573],\n",
       "        [1526.07866406,  238.6177659 ],\n",
       "        [1525.34919957,  238.3638872 ],\n",
       "        [1524.60153855,  238.10368963],\n",
       "        [1523.73413788,  237.80191154],\n",
       "        [1522.83716063,  237.48986275],\n",
       "        [1522.28420988,  237.29727985],\n",
       "        [1522.27356519,  237.29314467],\n",
       "        [1522.33916583,  237.31617006],\n",
       "        [1521.94854757,  237.18199035],\n",
       "        [1521.17242069,  236.91479199],\n",
       "        [1520.37156574,  236.63906118],\n",
       "        [1519.69218362,  236.40524469],\n",
       "        [1519.04660583,  236.18309242],\n",
       "        [1518.36926839,  235.94998146],\n",
       "        [1517.67504532,  235.71104409],\n",
       "        [1516.9866941 ,  235.47413281],\n",
       "        [1516.30500564,  235.23952052],\n",
       "        [1515.62327273,  235.00489289],\n",
       "        [1514.93924887,  234.76947477],\n",
       "        [1514.25423659,  234.53371559],\n",
       "        [1513.56963615,  234.29809852],\n",
       "        [1512.88684782,  234.06310672]]),\n",
       " array([[1538.12667242,  242.81042738],\n",
       "        [1538.47249483,  242.98501065],\n",
       "        [1538.26614597,  242.88148375],\n",
       "        [1537.68835408,  242.58450318],\n",
       "        [1536.91984738,  242.17872542],\n",
       "        [1536.13865234,  241.74761926],\n",
       "        [1535.42471256,  241.33153606],\n",
       "        [1534.73445583,  240.9165287 ],\n",
       "        [1534.03115568,  240.49107092],\n",
       "        [1533.31963759,  240.06024181],\n",
       "        [1532.61053929,  239.63104891],\n",
       "        [1531.90444615,  239.20377914],\n",
       "        [1531.19787852,  238.77601715],\n",
       "        [1530.49038783,  238.3476858 ],\n",
       "        [1529.7843271 ,  237.92086418],\n",
       "        [1529.07948388,  237.49516126],\n",
       "        [1528.37024209,  237.06502449],\n",
       "        [1527.65434412,  236.62826612],\n",
       "        [1526.94867625,  236.2017332 ],\n",
       "        [1526.27001492,  235.80502434],\n",
       "        [1525.56247953,  235.42123512],\n",
       "        [1524.72448426,  235.01010459],\n",
       "        [1523.84630481,  234.60715744],\n",
       "        [1523.30182182,  234.36009169],\n",
       "        [1523.29124893,  234.34659942],\n",
       "        [1523.35597281,  234.37937372],\n",
       "        [1522.97109334,  234.24413846],\n",
       "        [1522.20627798,  233.96322659],\n",
       "        [1521.41712444,  233.67288127],\n",
       "        [1520.74768854,  233.42844609],\n",
       "        [1520.11146827,  233.1970566 ],\n",
       "        [1519.44387389,  232.95386088],\n",
       "        [1518.7599026 ,  232.70357174],\n",
       "        [1518.08215893,  232.45431753],\n",
       "        [1517.41041295,  232.20911034],\n",
       "        [1516.73671075,  231.96902663],\n",
       "        [1516.05883937,  231.7332145 ],\n",
       "        [1515.37915161,  231.49929264],\n",
       "        [1514.700126  ,  231.26483763],\n",
       "        [1514.02424111,  231.02742603]]),\n",
       " array([[1536.81159744,  246.02566303],\n",
       "        [1537.16769199,  246.15038164],\n",
       "        [1536.95550584,  246.07606553],\n",
       "        [1536.35815712,  245.86685002],\n",
       "        [1535.558764  ,  245.58687044],\n",
       "        [1534.73774255,  245.29931576],\n",
       "        [1533.9774149 ,  245.03301849],\n",
       "        [1533.23657311,  244.77354594],\n",
       "        [1532.48058193,  244.50876745],\n",
       "        [1531.71559007,  244.24083659],\n",
       "        [1530.95327401,  243.97384295],\n",
       "        [1530.19423014,  243.70799531],\n",
       "        [1529.43458146,  243.44193567],\n",
       "        [1528.67393768,  243.17552755],\n",
       "        [1527.91512893,  242.90976266],\n",
       "        [1527.15780462,  242.64451799],\n",
       "        [1526.39493398,  242.3773293 ],\n",
       "        [1525.62371142,  242.10721329],\n",
       "        [1524.86534787,  241.84160436],\n",
       "        [1524.14216154,  241.58832502],\n",
       "        [1523.40087575,  241.32870182],\n",
       "        [1522.54048955,  241.02733405],\n",
       "        [1521.65068469,  240.71565506],\n",
       "        [1521.10306959,  240.52391325],\n",
       "        [1521.09432789,  240.5210017 ],\n",
       "        [1521.15854709,  240.54342534],\n",
       "        [1520.76384747,  240.4045744 ],\n",
       "        [1519.98211133,  240.12977147],\n",
       "        [1519.17554953,  239.84624822],\n",
       "        [1518.49093999,  239.60556224],\n",
       "        [1517.84026821,  239.37679732],\n",
       "        [1517.15771144,  239.1368324 ],\n",
       "        [1516.45820238,  238.89091277],\n",
       "        [1515.76458835,  238.64706385],\n",
       "        [1515.07766338,  238.40556455],\n",
       "        [1514.39069378,  238.16404956],\n",
       "        [1513.70142419,  237.92172668],\n",
       "        [1513.01116228,  237.67905523],\n",
       "        [1512.32131383,  237.43652902],\n",
       "        [1511.63328465,  237.19464185]])]"
      ]
     },
     "execution_count": 35,
     "metadata": {},
     "output_type": "execute_result"
    }
   ],
   "source": [
    "file_id = 1\n",
    "relevant_centerlines_filtered[str(file_id)]['relevant_centerlines_filtered']"
   ]
  },
  {
   "cell_type": "code",
   "execution_count": null,
   "metadata": {},
   "outputs": [],
   "source": []
  }
 ],
 "metadata": {
  "kernelspec": {
   "display_name": "Python 3.8.13 ('carlos_vsr_mapfe4mp')",
   "language": "python",
   "name": "python3"
  },
  "language_info": {
   "codemirror_mode": {
    "name": "ipython",
    "version": 3
   },
   "file_extension": ".py",
   "mimetype": "text/x-python",
   "name": "python",
   "nbconvert_exporter": "python",
   "pygments_lexer": "ipython3",
   "version": "3.8.13"
  },
  "orig_nbformat": 4,
  "vscode": {
   "interpreter": {
    "hash": "23ec5f46142f59639cbc0610b784427ad5a7b29b5f6f786971843ba12bc604ed"
   }
  }
 },
 "nbformat": 4,
 "nbformat_minor": 2
}
