{
 "cells": [
  {
   "cell_type": "markdown",
   "metadata": {},
   "source": [
    "# Bokeh Plots\n",
    "> For rapid prototyping bokeh charts"
   ]
  },
  {
   "cell_type": "code",
   "execution_count": null,
   "metadata": {},
   "outputs": [],
   "source": [
    "# | default_exp bokeh_loader"
   ]
  },
  {
   "cell_type": "code",
   "execution_count": null,
   "metadata": {},
   "outputs": [
    {
     "ename": "ModuleNotFoundError",
     "evalue": "No module named 'bokeh'",
     "output_type": "error",
     "traceback": [
      "\u001b[0;31m---------------------------------------------------------------------------\u001b[0m",
      "\u001b[0;31mModuleNotFoundError\u001b[0m                       Traceback (most recent call last)",
      "Cell \u001b[0;32mIn[2], line 2\u001b[0m\n\u001b[1;32m      1\u001b[0m \u001b[38;5;66;03m# | export\u001b[39;00m\n\u001b[0;32m----> 2\u001b[0m \u001b[38;5;28;01mfrom\u001b[39;00m \u001b[38;5;21;01mbokeh\u001b[39;00m\u001b[38;5;21;01m.\u001b[39;00m\u001b[38;5;21;01mio\u001b[39;00m \u001b[38;5;28;01mimport\u001b[39;00m output_notebook, show \u001b[38;5;28;01mas\u001b[39;00m bshow\n\u001b[1;32m      3\u001b[0m \u001b[38;5;28;01mfrom\u001b[39;00m \u001b[38;5;21;01mbokeh\u001b[39;00m\u001b[38;5;21;01m.\u001b[39;00m\u001b[38;5;21;01mplotting\u001b[39;00m \u001b[38;5;28;01mimport\u001b[39;00m figure, from_networkx\n\u001b[1;32m      4\u001b[0m \u001b[38;5;28;01mfrom\u001b[39;00m \u001b[38;5;21;01mbokeh\u001b[39;00m\u001b[38;5;21;01m.\u001b[39;00m\u001b[38;5;21;01mmodels\u001b[39;00m \u001b[38;5;28;01mimport\u001b[39;00m (\n\u001b[1;32m      5\u001b[0m     Circle,\n\u001b[1;32m      6\u001b[0m     Rect,\n\u001b[0;32m   (...)\u001b[0m\n\u001b[1;32m     16\u001b[0m     BoxSelectTool,\n\u001b[1;32m     17\u001b[0m )\n",
      "\u001b[0;31mModuleNotFoundError\u001b[0m: No module named 'bokeh'"
     ]
    }
   ],
   "source": [
    "# | export\n",
    "from bokeh.io import output_notebook, show as bshow\n",
    "from bokeh.plotting import figure, from_networkx\n",
    "from bokeh.models import (\n",
    "    Circle,\n",
    "    Rect,\n",
    "    WheelZoomTool,\n",
    "    PanTool,\n",
    "    BoxZoomTool,\n",
    "    ResetTool,\n",
    "    MultiLine,\n",
    "    NodesAndLinkedEdges,\n",
    "    EdgesAndLinkedNodes,\n",
    "    HoverTool,\n",
    "    TapTool,\n",
    "    BoxSelectTool,\n",
    ")\n",
    "from bokeh.palettes import Spectral7\n",
    "import numpy as np"
   ]
  },
  {
   "cell_type": "code",
   "execution_count": null,
   "metadata": {},
   "outputs": [],
   "source": [
    "# | export\n",
    "# | hide\n",
    "def parse_sz(size):\n",
    "    if isinstance(size, int):\n",
    "        return size, size\n",
    "    elif isinstance(size, tuple):\n",
    "        if len(size) == 2:\n",
    "            return size\n",
    "    raise NotImplementedError(f\"function is not implemented for {size}\")\n",
    "\n",
    "\n",
    "def get_bplot(sz=500, **kwargs):\n",
    "    h, w = parse_sz(sz)\n",
    "    output_notebook()\n",
    "    plot = figure(\n",
    "        tools=[WheelZoomTool(), PanTool(), BoxZoomTool(), ResetTool()],\n",
    "        plot_width=w,\n",
    "        plot_height=h,\n",
    "        match_aspect=kwargs.pop(\"match_aspect\", False),\n",
    "    )\n",
    "    plot.add_tools(\n",
    "        HoverTool(\n",
    "            tooltips=[(\"index\", \"$index\")]\n",
    "            + [(i, f\"@{i}\") for i in kwargs.get(\"tooltips\", [])]\n",
    "        ),\n",
    "        TapTool(),\n",
    "        BoxSelectTool(),\n",
    "    )\n",
    "\n",
    "    plot.toolbar.active_scroll = plot.select_one(WheelZoomTool)\n",
    "    plot.toolbar.active_drag = plot.select_one(PanTool)\n",
    "    return plot"
   ]
  },
  {
   "cell_type": "code",
   "execution_count": null,
   "metadata": {},
   "outputs": [],
   "source": [
    "bplot = get_bplot()\n",
    "bplot.line(np.arange(100), np.cumsum(np.random.uniform(size=100)))\n",
    "bshow(bplot)"
   ]
  },
  {
   "cell_type": "code",
   "execution_count": null,
   "metadata": {},
   "outputs": [],
   "source": []
  }
 ],
 "metadata": {
  "kernelspec": {
   "display_name": "mdm",
   "language": "python",
   "name": "mdm"
  }
 },
 "nbformat": 4,
 "nbformat_minor": 4
}
