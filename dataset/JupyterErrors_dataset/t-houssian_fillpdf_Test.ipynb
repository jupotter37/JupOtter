{
 "cells": [
  {
   "cell_type": "code",
   "execution_count": 1,
   "metadata": {},
   "outputs": [],
   "source": [
    "import pdfrw\n",
    "from pdf2image import convert_from_path # Needs conda install -c conda-forge poppler\n",
    "from PIL import Image\n",
    "from collections import OrderedDict\n",
    "\n",
    "ANNOT_KEY = '/Annots'               # key for all annotations within a page\n",
    "ANNOT_FIELD_KEY = '/T'              # Name of field. i.e. given ID of field\n",
    "ANNOT_FORM_type = '/FT'             # Form type (e.g. text/button)\n",
    "ANNOT_FORM_button = '/Btn'          # ID for buttons, i.e. a checkbox\n",
    "ANNOT_FORM_text = '/Tx'             # ID for textbox\n",
    "SUBTYPE_KEY = '/Subtype'\n",
    "WIDGET_SUBTYPE_KEY = '/Widget'\n",
    "ANNOT_FIELD_PARENT_KEY = '/Parent'  # Parent key for older pdf versions\n",
    "ANNOT_FIELD_KIDS_KEY = '/Kids'      # Kids key for older pdf versions\n",
    "ANNOT_VAL_KEY = '/V'\n",
    "ANNOT_RECT_KEY = '/Rect'\n",
    "\n",
    "def get_form_fields(input_pdf_path):\n",
    "    \"\"\"\n",
    "    Retrieves the form fields from a pdf to then be stored as a dictionary and\n",
    "    passed to the write_fillable_pdf() function. Uses pdfrw.\n",
    "    Parameters\n",
    "    ---------\n",
    "    input_pdf_path: str\n",
    "        Path to the pdf you want the fields from.\n",
    "    Returns\n",
    "    ---------\n",
    "    A dictionary of form fields and their filled values.\n",
    "    \"\"\"\n",
    "    data_dict = {}\n",
    "\n",
    "    pdf = pdfrw.PdfReader(input_pdf_path)\n",
    "    for page in pdf.pages:\n",
    "        annotations = page[ANNOT_KEY]\n",
    "        if annotations:\n",
    "            for annotation in annotations:\n",
    "                if annotation[SUBTYPE_KEY] == WIDGET_SUBTYPE_KEY:\n",
    "                    if annotation[ANNOT_FIELD_KEY]:\n",
    "                        key = annotation[ANNOT_FIELD_KEY][1:-1]\n",
    "                        data_dict[key] = ''\n",
    "                        if annotation[ANNOT_VAL_KEY]:\n",
    "                            value = annotation[ANNOT_VAL_KEY]\n",
    "                            data_dict[key] = annotation[ANNOT_VAL_KEY]\n",
    "                            try:\n",
    "                                if type(annotation[ANNOT_VAL_KEY]) == pdfrw.objects.pdfstring.PdfString:\n",
    "                                    data_dict[key] = pdfrw.objects.PdfString.decode(annotation[ANNOT_VAL_KEY])\n",
    "                            except:\n",
    "                                pass\n",
    "    return data_dict\n",
    "\n",
    "\n",
    "def print_form_fields(input_pdf_path):\n",
    "    \"\"\"\n",
    "    Retrieves the form fields from get_form_fields(), then pretty prints\n",
    "    the data_dict. Uses pdfrw.\n",
    "    Parameters\n",
    "    ---------\n",
    "    input_pdf_path: str\n",
    "        Path to the pdf you want the fields from.\n",
    "    Returns\n",
    "    ---------\n",
    "    \"\"\"\n",
    "    data_dict = get_form_fields(input_pdf_path)\n",
    "    print(\"{\" + \",\\n\".join(\"{!r}: {!r}\".format(k, v) for k, v in data_dict.items()) + \"}\")\n",
    "\n",
    "\n",
    "def flatten_pdf(input_pdf_path, output_pdf_path, as_images=False):\n",
    "    \"\"\"\n",
    "    Flattens the pdf so each annotation becomes uneditable. This function provides\n",
    "    two ways to do so, either with the pdfrw function annotation.update(pdfrw.PdfDict(Ff=1))\n",
    "    or converting the pages to images then reinserting.\n",
    "    Parameters\n",
    "    ---------\n",
    "    input_pdf_path: str\n",
    "        Path to the pdf you want to flatten.\n",
    "    output_pdf_path: str\n",
    "        Path of the new pdf that is generated.\n",
    "    as_images: bool\n",
    "        Default is False meaning it will update each individual annotation and set\n",
    "        it to False. True means it will convert to images and then reinsert into the\n",
    "        pdf\n",
    "    Returns\n",
    "    ---------\n",
    "    \"\"\"\n",
    "    if as_images == True:\n",
    "        images = convert_from_path(input_pdf_path) \n",
    "        im1 = images[0]\n",
    "        images.pop(0)\n",
    "\n",
    "        pdf1_filename = output_pdf_path\n",
    "\n",
    "        im1.save(pdf1_filename, \"PDF\" ,resolution=100.0, save_all=True, append_images=images)\n",
    "    else:\n",
    "        ANNOT_KEY = '/Annots'               # key for all annotations within a page\n",
    "\n",
    "        template_pdf = pdfrw.PdfReader(input_pdf_path)\n",
    "        for Page in template_pdf.pages:\n",
    "            if Page[ANNOT_KEY]:\n",
    "                for annotation in Page[ANNOT_KEY]:\n",
    "                    annotation.update(pdfrw.PdfDict(Ff=1))\n",
    "        template_pdf.Root.AcroForm.update(pdfrw.PdfDict(NeedAppearances=pdfrw.PdfObject('true')))\n",
    "        pdfrw.PdfWriter().write(output_pdf_path, template_pdf)\n",
    "        \n",
    "\n",
    "def convert_dict_values_to_string(dictionary):\n",
    "    \"\"\"\n",
    "    Converts dictionary values to string including arrays and tuples.\n",
    "    Parameters\n",
    "    ---------\n",
    "    dictionary: dict\n",
    "        Any single level dictionary. Specifically made for the data_dict returned from\n",
    "        the function get_form_fields() from the fillpdf library\n",
    "    Returns\n",
    "    ---------\n",
    "    res: dict\n",
    "        The resulting dictionary with only string values.\n",
    "    \"\"\"\n",
    "    list_delim, tuple_delim = '-', '^'\n",
    "  \n",
    "    res = dict()\n",
    "    for sub in dictionary:\n",
    "\n",
    "        # checking data types\n",
    "        if isinstance(dictionary[sub], list):\n",
    "            res[sub] = list_delim.join([str(ele) for ele in dictionary[sub]])\n",
    "        elif isinstance(dictionary[sub], tuple):\n",
    "            res[sub] = tuple_delim.join(list([str(ele) for ele in dictionary[sub]]))\n",
    "        else:\n",
    "            res[sub] = str(dictionary[sub])\n",
    "            \n",
    "    return res    \n",
    "    \n",
    "    \n",
    "def write_fillable_pdf(input_pdf_path, output_pdf_path, data_dict, flatten=False):\n",
    "    \"\"\"\n",
    "    Writes the dictionary values to the pdf. Currently supports text and buttons.\n",
    "    Does so by updating each individual annotation with the contents of the dat_dict.\n",
    "    Parameters\n",
    "    ---------\n",
    "    input_pdf_path: str\n",
    "        Path to the pdf you want to flatten.\n",
    "    output_pdf_path: str\n",
    "        Path of the new pdf that is generated.\n",
    "    data_dict: dict\n",
    "        The data_dict returned from the function get_form_fields()\n",
    "    flatten: bool\n",
    "        Default is False meaning it will stay editable. True means the annotations\n",
    "        will be uneditable.\n",
    "    Returns\n",
    "    ---------\n",
    "    \"\"\"\n",
    "    data_dict = convert_dict_values_to_string(data_dict)\n",
    "\n",
    "    template_pdf = pdfrw.PdfReader(input_pdf_path)\n",
    "    for Page in template_pdf.pages:\n",
    "        if Page[ANNOT_KEY]:\n",
    "            for annotation in Page[ANNOT_KEY]:\n",
    "                target = annotation if annotation[ANNOT_FIELD_KEY] else annotation[ANNOT_FIELD_PARENT_KEY]\n",
    "                if target and annotation[SUBTYPE_KEY] == WIDGET_SUBTYPE_KEY:\n",
    "                    key = target[ANNOT_FIELD_KEY][1:-1] # Remove parentheses\n",
    "                    if key in data_dict.keys():\n",
    "                        if target[ANNOT_FORM_type] == ANNOT_FORM_button:\n",
    "                            # button field i.e. a checkbox\n",
    "                            target.update( pdfrw.PdfDict( V=pdfrw.PdfName(data_dict[key]) , AS=pdfrw.PdfName(data_dict[key]) ))\n",
    "                            if target[ANNOT_FIELD_KIDS_KEY]:\n",
    "                                target[ANNOT_FIELD_KIDS_KEY][0].update( pdfrw.PdfDict( V=pdfrw.PdfName(data_dict[key]) , AS=pdfrw.PdfName(data_dict[key]) ))\n",
    "                        elif target[ANNOT_FORM_type] == ANNOT_FORM_text:\n",
    "                            # regular text field\n",
    "                            target.update( pdfrw.PdfDict( V=data_dict[key], AP=data_dict[key]) )\n",
    "                            if target[ANNOT_FIELD_KIDS_KEY]:\n",
    "                                target[ANNOT_FIELD_KIDS_KEY][0].update( pdfrw.PdfDict( V=data_dict[key], AP=data_dict[key]) )\n",
    "                if flatten == True:\n",
    "                    annotation.update(pdfrw.PdfDict(Ff=1))\n",
    "    template_pdf.Root.AcroForm.update(pdfrw.PdfDict(NeedAppearances=pdfrw.PdfObject('true')))\n",
    "    pdfrw.PdfWriter().write(output_pdf_path, template_pdf)"
   ]
  },
  {
   "cell_type": "code",
   "execution_count": 3,
   "metadata": {},
   "outputs": [
    {
     "name": "stdout",
     "output_type": "stream",
     "text": [
      "Requirement already satisfied: fillpdf in /home/tyler/anaconda3/lib/python3.8/site-packages (0.2.2)\n",
      "Collecting fillpdf\n",
      "  Downloading fillpdf-0.3.2-py3-none-any.whl (5.7 kB)\n",
      "Requirement already satisfied: pdf2image in /home/tyler/anaconda3/lib/python3.8/site-packages (from fillpdf) (1.14.0)\n",
      "Requirement already satisfied: pdfrw in /home/tyler/anaconda3/lib/python3.8/site-packages (from fillpdf) (0.4)\n",
      "Requirement already satisfied: Pillow in /home/tyler/.local/lib/python3.8/site-packages (from fillpdf) (8.4.0)\n",
      "Installing collected packages: fillpdf\n",
      "  Attempting uninstall: fillpdf\n",
      "    Found existing installation: fillpdf 0.2.2\n",
      "    Uninstalling fillpdf-0.2.2:\n",
      "      Successfully uninstalled fillpdf-0.2.2\n",
      "Successfully installed fillpdf-0.3.2\n",
      "Note: you may need to restart the kernel to use updated packages.\n"
     ]
    }
   ],
   "source": [
    "pip install fillpdf -U"
   ]
  },
  {
   "cell_type": "code",
   "execution_count": 1,
   "metadata": {},
   "outputs": [],
   "source": [
    "from fillpdf import fillpdfs"
   ]
  },
  {
   "cell_type": "code",
   "execution_count": 5,
   "metadata": {},
   "outputs": [
    {
     "name": "stdout",
     "output_type": "stream",
     "text": [
      "{'Given Name Text Box': '',\n",
      "'Family Name Text Box': '',\n",
      "'Address 1 Text Box': '',\n",
      "'House nr Text Box': '',\n",
      "'Address 2 Text Box': '',\n",
      "'Postcode Text Box': '',\n",
      "'City Text Box': '',\n",
      "'Country Combo Box': '',\n",
      "'Gender List Box': 'Man',\n",
      "'Height Formatted Field': '150',\n",
      "'Driving License Check Box': '/Off',\n",
      "'Language 1 Check Box': '/Off',\n",
      "'Language 2 Check Box': '/Yes',\n",
      "'Language 3 Check Box': '/Off',\n",
      "'Language 4 Check Box': '/Off',\n",
      "'Language 5 Check Box': '/Off',\n",
      "'Favourite Colour List Box': 'Red'}\n"
     ]
    }
   ],
   "source": [
    "p = fillpdfs.print_form_fields('ex2.pdf')"
   ]
  },
  {
   "cell_type": "code",
   "execution_count": 6,
   "metadata": {},
   "outputs": [],
   "source": [
    "p"
   ]
  },
  {
   "cell_type": "code",
   "execution_count": 4,
   "metadata": {},
   "outputs": [],
   "source": [
    "data_dict = {'Given Name Text Box': '',\n",
    "'Family Name Text Box': 'dd',\n",
    "'Address 1 Text Box': '',\n",
    "'House nr Text Box': '',\n",
    "'Address 2 Text Box': '',\n",
    "'Postcode Text Box': '',\n",
    "'City Text Box': '',\n",
    "'Country Combo Box': '',\n",
    "'Gender List Box': 'Woman',\n",
    "'Height Formatted Field': '150',\n",
    "'Driving License Check Box': '/Off',\n",
    "'Language 1 Check Box': '/Off',\n",
    "'Language 2 Check Box': '/Yes',\n",
    "'Language 3 Check Box': '/Off',\n",
    "'Language 4 Check Box': '/Off',\n",
    "'Language 5 Check Box': '/Off',\n",
    "'Favourite Colour List Box': 'Red'}"
   ]
  },
  {
   "cell_type": "code",
   "execution_count": 5,
   "metadata": {},
   "outputs": [],
   "source": [
    "write_fillable_pdf('ex2.pdf', 'new.pdf', data_dict)"
   ]
  },
  {
   "cell_type": "code",
   "execution_count": 4,
   "metadata": {},
   "outputs": [
    {
     "ename": "NameError",
     "evalue": "name 'get_form_fields' is not defined",
     "output_type": "error",
     "traceback": [
      "\u001b[0;31m---------------------------------------------------------------------------\u001b[0m",
      "\u001b[0;31mNameError\u001b[0m                                 Traceback (most recent call last)",
      "\u001b[0;32m<ipython-input-4-c99514f8072e>\u001b[0m in \u001b[0;36m<module>\u001b[0;34m\u001b[0m\n\u001b[0;32m----> 1\u001b[0;31m \u001b[0mget_form_fields\u001b[0m\u001b[0;34m(\u001b[0m\u001b[0;34m'new.pdf'\u001b[0m\u001b[0;34m)\u001b[0m\u001b[0;34m\u001b[0m\u001b[0;34m\u001b[0m\u001b[0m\n\u001b[0m",
      "\u001b[0;31mNameError\u001b[0m: name 'get_form_fields' is not defined"
     ]
    }
   ],
   "source": [
    "get_form_fields('new.pdf')"
   ]
  },
  {
   "cell_type": "code",
   "execution_count": 19,
   "metadata": {},
   "outputs": [],
   "source": [
    "write_fillable_pdf('ex2.pdf', 'new.pdf', data_dict, flatten=True)"
   ]
  },
  {
   "cell_type": "code",
   "execution_count": 20,
   "metadata": {},
   "outputs": [
    {
     "name": "stdout",
     "output_type": "stream",
     "text": [
      "{'Given Name Text Box': '',\n",
      "'Family Name Text Box': 'dd',\n",
      "'Address 1 Text Box': '',\n",
      "'House nr Text Box': '',\n",
      "'Address 2 Text Box': '',\n",
      "'Postcode Text Box': '',\n",
      "'City Text Box': '',\n",
      "'Country Combo Box': '',\n",
      "'Gender List Box': 'Man',\n",
      "'Height Formatted Field': '150',\n",
      "'Driving License Check Box': '//Off',\n",
      "'Language 1 Check Box': '//Off',\n",
      "'Language 2 Check Box': '//Yes',\n",
      "'Language 3 Check Box': '//Off',\n",
      "'Language 4 Check Box': '//Off',\n",
      "'Language 5 Check Box': '//Off',\n",
      "'Favourite Colour List Box': 'Red'}\n"
     ]
    }
   ],
   "source": [
    "get_form_fields('new.pdf')"
   ]
  },
  {
   "cell_type": "code",
   "execution_count": null,
   "metadata": {},
   "outputs": [],
   "source": []
  }
 ],
 "metadata": {
  "kernelspec": {
   "display_name": "Python 3",
   "language": "python",
   "name": "python3"
  },
  "language_info": {
   "codemirror_mode": {
    "name": "ipython",
    "version": 3
   },
   "file_extension": ".py",
   "mimetype": "text/x-python",
   "name": "python",
   "nbconvert_exporter": "python",
   "pygments_lexer": "ipython3",
   "version": "3.8.3"
  }
 },
 "nbformat": 4,
 "nbformat_minor": 4
}
