{
 "cells": [
  {
   "cell_type": "code",
   "execution_count": null,
   "metadata": {},
   "outputs": [],
   "source": [
    "%load_ext autoreload\n",
    "%autoreload 2"
   ]
  },
  {
   "cell_type": "markdown",
   "metadata": {},
   "source": [
    "# MTBO Reizman Study"
   ]
  },
  {
   "cell_type": "code",
   "execution_count": 2,
   "metadata": {},
   "outputs": [],
   "source": [
    "from summit.strategies import MTBO, Transform, LHS, Chimera\n",
    "from summit.benchmarks import ReizmanSuzukiEmulator, BaumgartnerCrossCouplingEmulator\n",
    "from summit.utils.dataset import DataSet\n",
    "from summit.domain import *\n",
    "import summit\n",
    "import pathlib\n",
    "import pandas as pd"
   ]
  },
  {
   "cell_type": "markdown",
   "metadata": {},
   "source": [
    "## Create DataSet"
   ]
  },
  {
   "cell_type": "code",
   "execution_count": 3,
   "metadata": {},
   "outputs": [],
   "source": [
    "# Path to data\n",
    "summit_path = pathlib.Path(summit.__file__).parents[0]\n",
    "data_path = summit_path / \"benchmarks\" / \"experiment_emulator\" / \"data\""
   ]
  },
  {
   "cell_type": "code",
   "execution_count": 4,
   "metadata": {},
   "outputs": [
    {
     "data": {
      "text/html": [
       "<div>\n",
       "<style scoped>\n",
       "    .dataframe tbody tr th:only-of-type {\n",
       "        vertical-align: middle;\n",
       "    }\n",
       "\n",
       "    .dataframe tbody tr th {\n",
       "        vertical-align: top;\n",
       "    }\n",
       "\n",
       "    .dataframe thead th {\n",
       "        text-align: right;\n",
       "    }\n",
       "</style>\n",
       "<table border=\"1\" class=\"dataframe\">\n",
       "  <thead>\n",
       "    <tr style=\"text-align: right;\">\n",
       "      <th></th>\n",
       "      <th>catalyst</th>\n",
       "      <th>t_res</th>\n",
       "      <th>temperature</th>\n",
       "      <th>catalyst_loading</th>\n",
       "      <th>ton</th>\n",
       "      <th>yield</th>\n",
       "      <th>task</th>\n",
       "    </tr>\n",
       "  </thead>\n",
       "  <tbody>\n",
       "    <tr>\n",
       "      <th>91</th>\n",
       "      <td>P1-L6</td>\n",
       "      <td>189.7</td>\n",
       "      <td>110</td>\n",
       "      <td>1.127</td>\n",
       "      <td>6.6</td>\n",
       "      <td>7.4</td>\n",
       "      <td>0</td>\n",
       "    </tr>\n",
       "    <tr>\n",
       "      <th>92</th>\n",
       "      <td>P1-L4</td>\n",
       "      <td>600</td>\n",
       "      <td>110</td>\n",
       "      <td>1.052</td>\n",
       "      <td>65.4</td>\n",
       "      <td>68.7</td>\n",
       "      <td>0</td>\n",
       "    </tr>\n",
       "    <tr>\n",
       "      <th>93</th>\n",
       "      <td>P1-L3</td>\n",
       "      <td>600</td>\n",
       "      <td>65.3</td>\n",
       "      <td>1.106</td>\n",
       "      <td>5.1</td>\n",
       "      <td>5.6</td>\n",
       "      <td>0</td>\n",
       "    </tr>\n",
       "    <tr>\n",
       "      <th>94</th>\n",
       "      <td>P2-L1</td>\n",
       "      <td>600</td>\n",
       "      <td>30</td>\n",
       "      <td>0.496</td>\n",
       "      <td>1.1</td>\n",
       "      <td>0.6</td>\n",
       "      <td>0</td>\n",
       "    </tr>\n",
       "    <tr>\n",
       "      <th>95</th>\n",
       "      <td>P1-L2</td>\n",
       "      <td>189.7</td>\n",
       "      <td>110</td>\n",
       "      <td>2.513</td>\n",
       "      <td>21.1</td>\n",
       "      <td>52.9</td>\n",
       "      <td>0</td>\n",
       "    </tr>\n",
       "  </tbody>\n",
       "</table>\n",
       "</div>"
      ],
      "text/plain": [
       "NAME catalyst  t_res temperature catalyst_loading   ton yield     task\n",
       "TYPE     DATA   DATA        DATA             DATA  DATA  DATA METADATA\n",
       "91      P1-L6  189.7         110            1.127   6.6   7.4        0\n",
       "92      P1-L4    600         110            1.052  65.4  68.7        0\n",
       "93      P1-L3    600        65.3            1.106   5.1   5.6        0\n",
       "94      P2-L1    600          30            0.496   1.1   0.6        0\n",
       "95      P1-L2  189.7         110            2.513  21.1  52.9        0"
      ]
     },
     "execution_count": 4,
     "metadata": {},
     "output_type": "execute_result"
    }
   ],
   "source": [
    "# Import Reizman-Suzuki Data\n",
    "datasets = [DataSet.read_csv(data_path / f\"reizman_suzuki_case{i}_train_test.csv\") for i in range(1,5)]\n",
    "for i, dataset in enumerate(datasets):\n",
    "    dataset[('task', 'METADATA')] = i\n",
    "datasets[0].tail(5)"
   ]
  },
  {
   "cell_type": "code",
   "execution_count": 5,
   "metadata": {},
   "outputs": [
    {
     "data": {
      "text/html": [
       "<table id='domain' width=100%><tr><td><b>Name</b></td><td><b>Type</b></td><td><b>Description</b></td><td><b>Values</b></td></tr><tr><td>catalyst</td><td>categorical, input</td><td>Catalyst type - different ligands</td><td>8 levels</td></tr><tr><td>t_res</td><td>continuous, input</td><td>Residence time in seconds (s)</td><td>[60,600]</td></tr><tr><td>temperature</td><td>continuous, input</td><td>Reactor temperature in degrees Celsius (ºC)</td><td>[30,110]</td></tr><tr><td>catalyst_loading</td><td>continuous, input</td><td>Catalyst loading in mol%</td><td>[0.5,2.5]</td></tr><tr><td>ton</td><td>continuous, minimize objective</td><td>Turnover number - moles product generated divided by moles catalyst used</td><td>[0,200]</td></tr><tr><td>yield</td><td>continuous, maximize objective</td><td>Yield</td><td>[0,100]</td></tr></table>"
      ],
      "text/plain": [
       "<summit.domain.Domain at 0x110d9ef98>"
      ]
     },
     "execution_count": 5,
     "metadata": {},
     "output_type": "execute_result"
    }
   ],
   "source": [
    "exp = ReizmanSuzukiEmulator(case=1)\n",
    "exp.domain"
   ]
  },
  {
   "cell_type": "code",
   "execution_count": 6,
   "metadata": {},
   "outputs": [
    {
     "ename": "AttributeError",
     "evalue": "'CategoricalVariable' object has no attribute 'enc'",
     "output_type": "error",
     "traceback": [
      "\u001b[0;31m---------------------------------------------------------------------------\u001b[0m",
      "\u001b[0;31mAttributeError\u001b[0m                            Traceback (most recent call last)",
      "\u001b[0;32m<ipython-input-6-d07e7f92e027>\u001b[0m in \u001b[0;36m<module>\u001b[0;34m\u001b[0m\n\u001b[1;32m      1\u001b[0m \u001b[0mlhs\u001b[0m \u001b[0;34m=\u001b[0m \u001b[0mLHS\u001b[0m\u001b[0;34m(\u001b[0m\u001b[0mexp\u001b[0m\u001b[0;34m.\u001b[0m\u001b[0mdomain\u001b[0m\u001b[0;34m)\u001b[0m\u001b[0;34m\u001b[0m\u001b[0;34m\u001b[0m\u001b[0m\n\u001b[0;32m----> 2\u001b[0;31m \u001b[0mconditions\u001b[0m \u001b[0;34m=\u001b[0m \u001b[0mlhs\u001b[0m\u001b[0;34m.\u001b[0m\u001b[0msuggest_experiments\u001b[0m\u001b[0;34m(\u001b[0m\u001b[0;36m5\u001b[0m\u001b[0;34m)\u001b[0m\u001b[0;34m\u001b[0m\u001b[0;34m\u001b[0m\u001b[0m\n\u001b[0m\u001b[1;32m      3\u001b[0m \u001b[0mexp\u001b[0m\u001b[0;34m.\u001b[0m\u001b[0mrun_experiments\u001b[0m\u001b[0;34m(\u001b[0m\u001b[0mconditions\u001b[0m\u001b[0;34m)\u001b[0m\u001b[0;34m\u001b[0m\u001b[0;34m\u001b[0m\u001b[0m\n",
      "\u001b[0;32m~/Documents/Research/summit/summit/strategies/random.py\u001b[0m in \u001b[0;36msuggest_experiments\u001b[0;34m(self, num_experiments, criterion, exclude, **kwargs)\u001b[0m\n\u001b[1;32m    284\u001b[0m         \u001b[0mdesign\u001b[0m\u001b[0;34m[\u001b[0m\u001b[0;34m(\u001b[0m\u001b[0;34m\"strategy\"\u001b[0m\u001b[0;34m,\u001b[0m \u001b[0;34m\"METADATA\"\u001b[0m\u001b[0;34m)\u001b[0m\u001b[0;34m]\u001b[0m \u001b[0;34m=\u001b[0m \u001b[0;34m\"LHS\"\u001b[0m\u001b[0;34m\u001b[0m\u001b[0;34m\u001b[0m\u001b[0m\n\u001b[1;32m    285\u001b[0m         return self.transform.un_transform(\n\u001b[0;32m--> 286\u001b[0;31m             \u001b[0mdesign\u001b[0m\u001b[0;34m,\u001b[0m \u001b[0mcategorical_method\u001b[0m\u001b[0;34m=\u001b[0m\u001b[0mself\u001b[0m\u001b[0;34m.\u001b[0m\u001b[0mcategorical_method\u001b[0m\u001b[0;34m\u001b[0m\u001b[0;34m\u001b[0m\u001b[0m\n\u001b[0m\u001b[1;32m    287\u001b[0m         )\n\u001b[1;32m    288\u001b[0m \u001b[0;34m\u001b[0m\u001b[0m\n",
      "\u001b[0;32m~/Documents/Research/summit/summit/strategies/base.py\u001b[0m in \u001b[0;36mun_transform\u001b[0;34m(self, ds, **kwargs)\u001b[0m\n\u001b[1;32m    256\u001b[0m             ):\n\u001b[1;32m    257\u001b[0m                 \u001b[0;31m# Get one-hot encoder\u001b[0m\u001b[0;34m\u001b[0m\u001b[0;34m\u001b[0m\u001b[0;34m\u001b[0m\u001b[0m\n\u001b[0;32m--> 258\u001b[0;31m                 \u001b[0menc\u001b[0m \u001b[0;34m=\u001b[0m \u001b[0mvariable\u001b[0m\u001b[0;34m.\u001b[0m\u001b[0menc\u001b[0m\u001b[0;34m\u001b[0m\u001b[0;34m\u001b[0m\u001b[0m\n\u001b[0m\u001b[1;32m    259\u001b[0m \u001b[0;34m\u001b[0m\u001b[0m\n\u001b[1;32m    260\u001b[0m                 \u001b[0;31m# Get array to be transformed\u001b[0m\u001b[0;34m\u001b[0m\u001b[0;34m\u001b[0m\u001b[0;34m\u001b[0m\u001b[0m\n",
      "\u001b[0;31mAttributeError\u001b[0m: 'CategoricalVariable' object has no attribute 'enc'"
     ]
    }
   ],
   "source": [
    "lhs = LHS(exp.domain)\n",
    "conditions = lhs.suggest_experiments(5)\n",
    "exp.run_experiments(conditions)"
   ]
  },
  {
   "cell_type": "code",
   "execution_count": null,
   "metadata": {},
   "outputs": [],
   "source": [
    "exp.reset()\n",
    "hierarchy = {\"yield\": {\"hierarchy\": 0, \"tolerance\": 0.5}, \"ton\": {\"hierarchy\": 1, \"tolerance\": 1}}\n",
    "transform = Chimera(exp.domain, hierarchy=hierarchy)\n",
    "strategy = MTBO(exp.domain, \n",
    "                pretraining_data=datasets[1],\n",
    "                transform=transform,\n",
    "                categorical_method=\"one-hot\", \n",
    "                task=0)\n",
    "r = summit.Runner(strategy=strategy, experiment=exp, max_iterations=10)\n",
    "r.run()"
   ]
  },
  {
   "cell_type": "code",
   "execution_count": null,
   "metadata": {},
   "outputs": [],
   "source": [
    "exp.pareto_plot(colorbar=True)"
   ]
  },
  {
   "cell_type": "code",
   "execution_count": null,
   "metadata": {},
   "outputs": [],
   "source": [
    "exp.data"
   ]
  },
  {
   "cell_type": "code",
   "execution_count": 3,
   "metadata": {},
   "outputs": [],
   "source": [
    "new_exp = ReizmanSuzukiEmulator(case=2)\n",
    "# new_exp.train(dataset=datasets[1], verbose=False)"
   ]
  },
  {
   "cell_type": "code",
   "execution_count": 4,
   "metadata": {},
   "outputs": [
    {
     "ename": "DomainError",
     "evalue": "Variable Variable(name=catalyst, description=Catalyst type - different ligands) is not one of the possible variable types (continuous or categorical).",
     "output_type": "error",
     "traceback": [
      "\u001b[0;31m---------------------------------------------------------------------------\u001b[0m",
      "\u001b[0;31mDomainError\u001b[0m                               Traceback (most recent call last)",
      "\u001b[0;32m<ipython-input-4-42a1d9df36f1>\u001b[0m in \u001b[0;36m<module>\u001b[0;34m\u001b[0m\n\u001b[1;32m      1\u001b[0m \u001b[0mlhs\u001b[0m \u001b[0;34m=\u001b[0m \u001b[0mLHS\u001b[0m\u001b[0;34m(\u001b[0m\u001b[0mnew_exp\u001b[0m\u001b[0;34m.\u001b[0m\u001b[0mdomain\u001b[0m\u001b[0;34m)\u001b[0m\u001b[0;34m\u001b[0m\u001b[0;34m\u001b[0m\u001b[0m\n\u001b[0;32m----> 2\u001b[0;31m \u001b[0mconditions\u001b[0m \u001b[0;34m=\u001b[0m \u001b[0mlhs\u001b[0m\u001b[0;34m.\u001b[0m\u001b[0msuggest_experiments\u001b[0m\u001b[0;34m(\u001b[0m\u001b[0;36m10\u001b[0m\u001b[0;34m)\u001b[0m\u001b[0;34m\u001b[0m\u001b[0;34m\u001b[0m\u001b[0m\n\u001b[0m\u001b[1;32m      3\u001b[0m \u001b[0mnew_exp\u001b[0m\u001b[0;34m.\u001b[0m\u001b[0mrun_experiments\u001b[0m\u001b[0;34m(\u001b[0m\u001b[0mconditions\u001b[0m\u001b[0;34m)\u001b[0m\u001b[0;34m\u001b[0m\u001b[0;34m\u001b[0m\u001b[0m\n",
      "\u001b[0;32m~/Documents/Research/summit/summit/strategies/random.py\u001b[0m in \u001b[0;36msuggest_experiments\u001b[0;34m(self, num_experiments, criterion, exclude, **kwargs)\u001b[0m\n\u001b[1;32m    280\u001b[0m             \u001b[0;32melse\u001b[0m\u001b[0;34m:\u001b[0m\u001b[0;34m\u001b[0m\u001b[0;34m\u001b[0m\u001b[0m\n\u001b[1;32m    281\u001b[0m                 raise DomainError(\n\u001b[0;32m--> 282\u001b[0;31m                     \u001b[0;34mf\"Variable {variable} is not one of the possible variable types (continuous or categorical).\"\u001b[0m\u001b[0;34m\u001b[0m\u001b[0;34m\u001b[0m\u001b[0m\n\u001b[0m\u001b[1;32m    283\u001b[0m                 )\n\u001b[1;32m    284\u001b[0m \u001b[0;34m\u001b[0m\u001b[0m\n",
      "\u001b[0;31mDomainError\u001b[0m: Variable Variable(name=catalyst, description=Catalyst type - different ligands) is not one of the possible variable types (continuous or categorical)."
     ]
    }
   ],
   "source": [
    "lhs = LHS(new_exp.domain)\n",
    "conditions = lhs.suggest_experiments(10)\n",
    "new_exp.run_experiments(conditions)"
   ]
  },
  {
   "cell_type": "code",
   "execution_count": 6,
   "metadata": {},
   "outputs": [
    {
     "data": {
      "text/html": [
       "<table id='domain' width=100%><tr><td><b>Name</b></td><td><b>Type</b></td><td><b>Description</b></td><td><b>Values</b></td></tr><tr><td>catalyst</td><td>categorical, input</td><td>Catalyst type</td><td>3 levels</td></tr><tr><td>base</td><td>categorical, input</td><td>Base</td><td>4 levels</td></tr><tr><td>base_equivalents</td><td>continuous, input</td><td>Base equivalents</td><td>[1.0,2.5]</td></tr><tr><td>temperature</td><td>continuous, input</td><td>Temperature in degrees Celsius (ºC)</td><td>[30,100]</td></tr><tr><td>t_res</td><td>continuous, input</td><td>residence time in seconds (s)</td><td>[60,1800]</td></tr><tr><td>yld</td><td>continuous, maximize objective</td><td>Yield</td><td>[0.0,1.0]</td></tr></table>"
      ],
      "text/plain": [
       "<summit.domain.Domain at 0x158fc2a20>"
      ]
     },
     "execution_count": 6,
     "metadata": {},
     "output_type": "execute_result"
    }
   ],
   "source": [
    "pd_cn = BaumgartnerCrossCouplingEmulator()\n",
    "pd_cn.domain"
   ]
  },
  {
   "cell_type": "code",
   "execution_count": 8,
   "metadata": {},
   "outputs": [
    {
     "data": {
      "text/html": [
       "<div>\n",
       "<style scoped>\n",
       "    .dataframe tbody tr th:only-of-type {\n",
       "        vertical-align: middle;\n",
       "    }\n",
       "\n",
       "    .dataframe tbody tr th {\n",
       "        vertical-align: top;\n",
       "    }\n",
       "\n",
       "    .dataframe thead th {\n",
       "        text-align: right;\n",
       "    }\n",
       "</style>\n",
       "<table border=\"1\" class=\"dataframe\">\n",
       "  <thead>\n",
       "    <tr style=\"text-align: right;\">\n",
       "      <th></th>\n",
       "      <th>catalyst</th>\n",
       "      <th>base</th>\n",
       "      <th>base_equivalents</th>\n",
       "      <th>temperature</th>\n",
       "      <th>t_res</th>\n",
       "      <th>yld</th>\n",
       "      <th>computation_t</th>\n",
       "      <th>experiment_t</th>\n",
       "      <th>strategy</th>\n",
       "      <th>M2</th>\n",
       "      <th>M2_cat</th>\n",
       "      <th>area</th>\n",
       "      <th>area_cat</th>\n",
       "    </tr>\n",
       "  </thead>\n",
       "  <tbody>\n",
       "    <tr>\n",
       "      <th>0</th>\n",
       "      <td>tBuXPhos</td>\n",
       "      <td>TMG</td>\n",
       "      <td>1.675</td>\n",
       "      <td>68.5</td>\n",
       "      <td>1713.0</td>\n",
       "      <td>0.558063</td>\n",
       "      <td>966.787776</td>\n",
       "      <td>0.038967</td>\n",
       "      <td>LHS</td>\n",
       "      <td>198.078405</td>\n",
       "      <td>586.466845</td>\n",
       "      <td>28.59991</td>\n",
       "      <td>95.049495</td>\n",
       "    </tr>\n",
       "    <tr>\n",
       "      <th>1</th>\n",
       "      <td>tBuXPhos</td>\n",
       "      <td>TMG</td>\n",
       "      <td>1.375</td>\n",
       "      <td>96.5</td>\n",
       "      <td>1365.0</td>\n",
       "      <td>0.811928</td>\n",
       "      <td>966.787776</td>\n",
       "      <td>0.029236</td>\n",
       "      <td>LHS</td>\n",
       "      <td>185.067785</td>\n",
       "      <td>514.631105</td>\n",
       "      <td>78.70129</td>\n",
       "      <td>70.299455</td>\n",
       "    </tr>\n",
       "    <tr>\n",
       "      <th>2</th>\n",
       "      <td>tBuXPhos</td>\n",
       "      <td>TMG</td>\n",
       "      <td>2.275</td>\n",
       "      <td>54.5</td>\n",
       "      <td>843.0</td>\n",
       "      <td>0.108371</td>\n",
       "      <td>966.787776</td>\n",
       "      <td>0.028499</td>\n",
       "      <td>LHS</td>\n",
       "      <td>172.057165</td>\n",
       "      <td>478.713235</td>\n",
       "      <td>39.73355</td>\n",
       "      <td>76.486965</td>\n",
       "    </tr>\n",
       "    <tr>\n",
       "      <th>3</th>\n",
       "      <td>tBuXPhos</td>\n",
       "      <td>TMG</td>\n",
       "      <td>2.425</td>\n",
       "      <td>75.5</td>\n",
       "      <td>1017.0</td>\n",
       "      <td>0.524719</td>\n",
       "      <td>966.787776</td>\n",
       "      <td>0.028885</td>\n",
       "      <td>LHS</td>\n",
       "      <td>204.583715</td>\n",
       "      <td>658.302585</td>\n",
       "      <td>50.86719</td>\n",
       "      <td>119.799535</td>\n",
       "    </tr>\n",
       "    <tr>\n",
       "      <th>4</th>\n",
       "      <td>tBuXPhos</td>\n",
       "      <td>TMG</td>\n",
       "      <td>2.125</td>\n",
       "      <td>61.5</td>\n",
       "      <td>1191.0</td>\n",
       "      <td>0.315026</td>\n",
       "      <td>966.787776</td>\n",
       "      <td>0.029264</td>\n",
       "      <td>LHS</td>\n",
       "      <td>217.594335</td>\n",
       "      <td>550.548975</td>\n",
       "      <td>67.56765</td>\n",
       "      <td>113.612025</td>\n",
       "    </tr>\n",
       "    <tr>\n",
       "      <th>5</th>\n",
       "      <td>tBuXPhos</td>\n",
       "      <td>TMG</td>\n",
       "      <td>1.075</td>\n",
       "      <td>89.5</td>\n",
       "      <td>1539.0</td>\n",
       "      <td>0.734635</td>\n",
       "      <td>966.787776</td>\n",
       "      <td>0.028474</td>\n",
       "      <td>LHS</td>\n",
       "      <td>165.551855</td>\n",
       "      <td>694.220455</td>\n",
       "      <td>34.16673</td>\n",
       "      <td>82.674475</td>\n",
       "    </tr>\n",
       "    <tr>\n",
       "      <th>6</th>\n",
       "      <td>tBuXPhos</td>\n",
       "      <td>TMG</td>\n",
       "      <td>1.825</td>\n",
       "      <td>82.5</td>\n",
       "      <td>321.0</td>\n",
       "      <td>0.341075</td>\n",
       "      <td>966.787776</td>\n",
       "      <td>0.028474</td>\n",
       "      <td>LHS</td>\n",
       "      <td>178.562475</td>\n",
       "      <td>622.384715</td>\n",
       "      <td>56.43401</td>\n",
       "      <td>125.987045</td>\n",
       "    </tr>\n",
       "    <tr>\n",
       "      <th>7</th>\n",
       "      <td>tBuXPhos</td>\n",
       "      <td>TMG</td>\n",
       "      <td>1.975</td>\n",
       "      <td>33.5</td>\n",
       "      <td>669.0</td>\n",
       "      <td>0.037157</td>\n",
       "      <td>966.787776</td>\n",
       "      <td>0.028860</td>\n",
       "      <td>LHS</td>\n",
       "      <td>211.089025</td>\n",
       "      <td>766.056195</td>\n",
       "      <td>45.30037</td>\n",
       "      <td>88.861985</td>\n",
       "    </tr>\n",
       "    <tr>\n",
       "      <th>8</th>\n",
       "      <td>tBuXPhos</td>\n",
       "      <td>TMG</td>\n",
       "      <td>1.525</td>\n",
       "      <td>40.5</td>\n",
       "      <td>147.0</td>\n",
       "      <td>0.036645</td>\n",
       "      <td>966.787776</td>\n",
       "      <td>0.028159</td>\n",
       "      <td>LHS</td>\n",
       "      <td>191.573095</td>\n",
       "      <td>801.974065</td>\n",
       "      <td>62.00083</td>\n",
       "      <td>107.424515</td>\n",
       "    </tr>\n",
       "    <tr>\n",
       "      <th>9</th>\n",
       "      <td>tBuXPhos</td>\n",
       "      <td>TMG</td>\n",
       "      <td>1.225</td>\n",
       "      <td>47.5</td>\n",
       "      <td>495.0</td>\n",
       "      <td>0.046041</td>\n",
       "      <td>966.787776</td>\n",
       "      <td>0.026539</td>\n",
       "      <td>LHS</td>\n",
       "      <td>224.099645</td>\n",
       "      <td>730.138325</td>\n",
       "      <td>73.13447</td>\n",
       "      <td>101.237005</td>\n",
       "    </tr>\n",
       "  </tbody>\n",
       "</table>\n",
       "</div>"
      ],
      "text/plain": [
       "NAME  catalyst base base_equivalents temperature   t_res       yld  \\\n",
       "TYPE      DATA DATA             DATA        DATA    DATA      DATA   \n",
       "0     tBuXPhos  TMG            1.675        68.5  1713.0  0.558063   \n",
       "1     tBuXPhos  TMG            1.375        96.5  1365.0  0.811928   \n",
       "2     tBuXPhos  TMG            2.275        54.5   843.0  0.108371   \n",
       "3     tBuXPhos  TMG            2.425        75.5  1017.0  0.524719   \n",
       "4     tBuXPhos  TMG            2.125        61.5  1191.0  0.315026   \n",
       "5     tBuXPhos  TMG            1.075        89.5  1539.0  0.734635   \n",
       "6     tBuXPhos  TMG            1.825        82.5   321.0  0.341075   \n",
       "7     tBuXPhos  TMG            1.975        33.5   669.0  0.037157   \n",
       "8     tBuXPhos  TMG            1.525        40.5   147.0  0.036645   \n",
       "9     tBuXPhos  TMG            1.225        47.5   495.0  0.046041   \n",
       "\n",
       "NAME computation_t experiment_t strategy          M2      M2_cat      area  \\\n",
       "TYPE      METADATA     METADATA METADATA    METADATA    METADATA  METADATA   \n",
       "0       966.787776     0.038967      LHS  198.078405  586.466845  28.59991   \n",
       "1       966.787776     0.029236      LHS  185.067785  514.631105  78.70129   \n",
       "2       966.787776     0.028499      LHS  172.057165  478.713235  39.73355   \n",
       "3       966.787776     0.028885      LHS  204.583715  658.302585  50.86719   \n",
       "4       966.787776     0.029264      LHS  217.594335  550.548975  67.56765   \n",
       "5       966.787776     0.028474      LHS  165.551855  694.220455  34.16673   \n",
       "6       966.787776     0.028474      LHS  178.562475  622.384715  56.43401   \n",
       "7       966.787776     0.028860      LHS  211.089025  766.056195  45.30037   \n",
       "8       966.787776     0.028159      LHS  191.573095  801.974065  62.00083   \n",
       "9       966.787776     0.026539      LHS  224.099645  730.138325  73.13447   \n",
       "\n",
       "NAME    area_cat  \n",
       "TYPE    METADATA  \n",
       "0      95.049495  \n",
       "1      70.299455  \n",
       "2      76.486965  \n",
       "3     119.799535  \n",
       "4     113.612025  \n",
       "5      82.674475  \n",
       "6     125.987045  \n",
       "7      88.861985  \n",
       "8     107.424515  \n",
       "9     101.237005  "
      ]
     },
     "execution_count": 8,
     "metadata": {},
     "output_type": "execute_result"
    }
   ],
   "source": [
    "lhs = LHS(pd_cn.domain, categorical_method=\"descriptors\")\n",
    "conditions = lhs.suggest_experiments(10)\n",
    "pd_cn.run_experiments(conditions)"
   ]
  },
  {
   "cell_type": "code",
   "execution_count": null,
   "metadata": {},
   "outputs": [],
   "source": []
  }
 ],
 "metadata": {
  "kernelspec": {
   "display_name": "Python 3.7.3 64-bit ('summit-TfmmV07p-py3.7': venv)",
   "language": "python",
   "name": "python37364bitsummittfmmv07ppy37venv6fc212842bc44e839a51e6623a646abd"
  },
  "language_info": {
   "codemirror_mode": {
    "name": "ipython",
    "version": 3
   },
   "file_extension": ".py",
   "mimetype": "text/x-python",
   "name": "python",
   "nbconvert_exporter": "python",
   "pygments_lexer": "ipython3",
   "version": "3.7.3"
  }
 },
 "nbformat": 4,
 "nbformat_minor": 4
}
