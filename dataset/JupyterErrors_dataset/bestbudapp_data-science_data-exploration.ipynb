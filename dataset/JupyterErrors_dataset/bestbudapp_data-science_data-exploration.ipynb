{
 "cells": [
  {
   "cell_type": "code",
   "execution_count": 1,
   "metadata": {
    "collapsed": true,
    "jupyter": {
     "outputs_hidden": true
    }
   },
   "outputs": [
    {
     "ename": "ModuleNotFoundError",
     "evalue": "No module named 'spacy'",
     "output_type": "error",
     "traceback": [
      "\u001b[0;31m---------------------------------------------------------------------------\u001b[0m",
      "\u001b[0;31mModuleNotFoundError\u001b[0m                       Traceback (most recent call last)",
      "\u001b[0;32m<ipython-input-1-1aacffad7ff0>\u001b[0m in \u001b[0;36m<module>\u001b[0;34m\u001b[0m\n\u001b[1;32m      3\u001b[0m \u001b[0;32mimport\u001b[0m \u001b[0mnumpy\u001b[0m \u001b[0;32mas\u001b[0m \u001b[0mnp\u001b[0m\u001b[0;34m\u001b[0m\u001b[0;34m\u001b[0m\u001b[0m\n\u001b[1;32m      4\u001b[0m \u001b[0;32mimport\u001b[0m \u001b[0mpandas\u001b[0m \u001b[0;32mas\u001b[0m \u001b[0mpd\u001b[0m\u001b[0;34m\u001b[0m\u001b[0;34m\u001b[0m\u001b[0m\n\u001b[0;32m----> 5\u001b[0;31m \u001b[0;32mimport\u001b[0m \u001b[0mspacy\u001b[0m\u001b[0;34m\u001b[0m\u001b[0;34m\u001b[0m\u001b[0m\n\u001b[0m\u001b[1;32m      6\u001b[0m \u001b[0;32mimport\u001b[0m \u001b[0msquarify\u001b[0m\u001b[0;34m\u001b[0m\u001b[0;34m\u001b[0m\u001b[0m\n\u001b[1;32m      7\u001b[0m \u001b[0;34m\u001b[0m\u001b[0m\n",
      "\u001b[0;31mModuleNotFoundError\u001b[0m: No module named 'spacy'"
     ]
    }
   ],
   "source": [
    "# import statements\n",
    "import matplotlib.pyplot as plt\n",
    "import numpy as np\n",
    "import pandas as pd\n",
    "import spacy\n",
    "import squarify\n",
    "\n",
    "from collections import Counter\n",
    "from spacy.tokenizer import Tokenizer\n",
    "nlp = spacy.load(\"en_core_web_md\")\n",
    "\n",
    "\n"
   ]
  },
  {
   "cell_type": "code",
   "execution_count": 110,
   "metadata": {},
   "outputs": [],
   "source": [
    "df = pd.read_csv('./merged_df.csv')"
   ]
  },
  {
   "cell_type": "code",
   "execution_count": 5,
   "metadata": {},
   "outputs": [
    {
     "data": {
      "text/html": [
       "<div>\n",
       "<style scoped>\n",
       "    .dataframe tbody tr th:only-of-type {\n",
       "        vertical-align: middle;\n",
       "    }\n",
       "\n",
       "    .dataframe tbody tr th {\n",
       "        vertical-align: top;\n",
       "    }\n",
       "\n",
       "    .dataframe thead th {\n",
       "        text-align: right;\n",
       "    }\n",
       "</style>\n",
       "<table border=\"1\" class=\"dataframe\">\n",
       "  <thead>\n",
       "    <tr style=\"text-align: right;\">\n",
       "      <th></th>\n",
       "      <th>name</th>\n",
       "      <th>flavors</th>\n",
       "      <th>race</th>\n",
       "      <th>positive_effects</th>\n",
       "      <th>negative_effects</th>\n",
       "      <th>medical_uses</th>\n",
       "      <th>Rating</th>\n",
       "      <th>Description</th>\n",
       "    </tr>\n",
       "  </thead>\n",
       "  <tbody>\n",
       "    <tr>\n",
       "      <th>0</th>\n",
       "      <td>Afpak</td>\n",
       "      <td>['Earthy', 'Chemical', 'Pine', 'Spicy/Herbal']</td>\n",
       "      <td>hybrid</td>\n",
       "      <td>['Relaxed', 'Hungry', 'Happy', 'Sleepy', 'Crea...</td>\n",
       "      <td>['Dizzy']</td>\n",
       "      <td>['Depression', 'Insomnia', 'Pain', 'Stress', '...</td>\n",
       "      <td>4.2</td>\n",
       "      <td>Afpak, named for its direct Afghani and Pakist...</td>\n",
       "    </tr>\n",
       "    <tr>\n",
       "      <th>1</th>\n",
       "      <td>African</td>\n",
       "      <td>['Spicy/Herbal', 'Pungent', 'Earthy', 'Pepper']</td>\n",
       "      <td>sativa</td>\n",
       "      <td>['Euphoric', 'Happy', 'Creative', 'Energetic',...</td>\n",
       "      <td>['Dry Mouth']</td>\n",
       "      <td>['Depression', 'Pain', 'Stress', 'Lack of Appe...</td>\n",
       "      <td>3.9</td>\n",
       "      <td>African refers to the indigenous varieties of ...</td>\n",
       "    </tr>\n",
       "    <tr>\n",
       "      <th>2</th>\n",
       "      <td>Afternoon Delight</td>\n",
       "      <td>['Pepper', 'Flowery', 'Pine', 'Pungent', 'Citr...</td>\n",
       "      <td>hybrid</td>\n",
       "      <td>['Relaxed', 'Hungry', 'Euphoric', 'Uplifted', ...</td>\n",
       "      <td>['Dizzy', 'Dry Mouth', 'Paranoid']</td>\n",
       "      <td>['Depression', 'Insomnia', 'Pain', 'Stress', '...</td>\n",
       "      <td>4.8</td>\n",
       "      <td>Afternoon Delight, created by Colorado Seed In...</td>\n",
       "    </tr>\n",
       "    <tr>\n",
       "      <th>3</th>\n",
       "      <td>Afwreck</td>\n",
       "      <td>['Pine', 'Earthy', 'Flowery', 'Pungent']</td>\n",
       "      <td>hybrid</td>\n",
       "      <td>['Relaxed', 'Happy', 'Creative', 'Uplifted', '...</td>\n",
       "      <td>['Dizzy', 'Dry Mouth', 'Paranoid', 'Dry Eyes']</td>\n",
       "      <td>['Pain', 'Stress', 'Headache', 'Fatigue', 'Hea...</td>\n",
       "      <td>4.2</td>\n",
       "      <td>Afwreck is a hybrid cross of Afghani and Train...</td>\n",
       "    </tr>\n",
       "    <tr>\n",
       "      <th>4</th>\n",
       "      <td>Agent Orange</td>\n",
       "      <td>['Citrus', 'Orange', 'Sweet', 'Earthy']</td>\n",
       "      <td>hybrid</td>\n",
       "      <td>['Relaxed', 'Euphoric', 'Happy', 'Energetic', ...</td>\n",
       "      <td>['Dizzy', 'Dry Mouth', 'Paranoid', 'Dry Eyes']</td>\n",
       "      <td>['Depression', 'Pain', 'Stress', 'Nausea', 'He...</td>\n",
       "      <td>4.2</td>\n",
       "      <td>Don’t let the name scare you! The only herbici...</td>\n",
       "    </tr>\n",
       "  </tbody>\n",
       "</table>\n",
       "</div>"
      ],
      "text/plain": [
       "                name                                            flavors  \\\n",
       "0              Afpak     ['Earthy', 'Chemical', 'Pine', 'Spicy/Herbal']   \n",
       "1            African    ['Spicy/Herbal', 'Pungent', 'Earthy', 'Pepper']   \n",
       "2  Afternoon Delight  ['Pepper', 'Flowery', 'Pine', 'Pungent', 'Citr...   \n",
       "3            Afwreck           ['Pine', 'Earthy', 'Flowery', 'Pungent']   \n",
       "4       Agent Orange            ['Citrus', 'Orange', 'Sweet', 'Earthy']   \n",
       "\n",
       "     race                                   positive_effects  \\\n",
       "0  hybrid  ['Relaxed', 'Hungry', 'Happy', 'Sleepy', 'Crea...   \n",
       "1  sativa  ['Euphoric', 'Happy', 'Creative', 'Energetic',...   \n",
       "2  hybrid  ['Relaxed', 'Hungry', 'Euphoric', 'Uplifted', ...   \n",
       "3  hybrid  ['Relaxed', 'Happy', 'Creative', 'Uplifted', '...   \n",
       "4  hybrid  ['Relaxed', 'Euphoric', 'Happy', 'Energetic', ...   \n",
       "\n",
       "                                 negative_effects  \\\n",
       "0                                       ['Dizzy']   \n",
       "1                                   ['Dry Mouth']   \n",
       "2              ['Dizzy', 'Dry Mouth', 'Paranoid']   \n",
       "3  ['Dizzy', 'Dry Mouth', 'Paranoid', 'Dry Eyes']   \n",
       "4  ['Dizzy', 'Dry Mouth', 'Paranoid', 'Dry Eyes']   \n",
       "\n",
       "                                        medical_uses  Rating  \\\n",
       "0  ['Depression', 'Insomnia', 'Pain', 'Stress', '...     4.2   \n",
       "1  ['Depression', 'Pain', 'Stress', 'Lack of Appe...     3.9   \n",
       "2  ['Depression', 'Insomnia', 'Pain', 'Stress', '...     4.8   \n",
       "3  ['Pain', 'Stress', 'Headache', 'Fatigue', 'Hea...     4.2   \n",
       "4  ['Depression', 'Pain', 'Stress', 'Nausea', 'He...     4.2   \n",
       "\n",
       "                                         Description  \n",
       "0  Afpak, named for its direct Afghani and Pakist...  \n",
       "1  African refers to the indigenous varieties of ...  \n",
       "2  Afternoon Delight, created by Colorado Seed In...  \n",
       "3  Afwreck is a hybrid cross of Afghani and Train...  \n",
       "4  Don’t let the name scare you! The only herbici...  "
      ]
     },
     "execution_count": 5,
     "metadata": {},
     "output_type": "execute_result"
    }
   ],
   "source": [
    "df.head()"
   ]
  },
  {
   "cell_type": "code",
   "execution_count": 111,
   "metadata": {},
   "outputs": [],
   "source": [
    "df['flavors'] =  df['flavors'].apply(lambda x: x.replace('[','').replace(']','')) "
   ]
  },
  {
   "cell_type": "code",
   "execution_count": 112,
   "metadata": {},
   "outputs": [],
   "source": [
    "df['flavors'] =  df['flavors'].apply(lambda x: x.replace(\"'\",'').replace(\"'\",'')) "
   ]
  },
  {
   "cell_type": "code",
   "execution_count": 113,
   "metadata": {},
   "outputs": [],
   "source": [
    "df['positive_effects'] = df['positive_effects'].apply(lambda x: x.replace('[','').replace(']','')) "
   ]
  },
  {
   "cell_type": "code",
   "execution_count": 114,
   "metadata": {},
   "outputs": [],
   "source": [
    "df['positive_effects'] = df['positive_effects'].apply(lambda x: x.replace(\"'\",'').replace(\"'\",'')) "
   ]
  },
  {
   "cell_type": "code",
   "execution_count": 115,
   "metadata": {},
   "outputs": [],
   "source": [
    "df['negative_effects'] = df['negative_effects'].apply(lambda x: x.replace('[','').replace(']','')) "
   ]
  },
  {
   "cell_type": "code",
   "execution_count": 116,
   "metadata": {},
   "outputs": [],
   "source": [
    "df['negative_effects'] = df['negative_effects'].apply(lambda x: x.replace(\"'\",'').replace(\"'\",'')) "
   ]
  },
  {
   "cell_type": "code",
   "execution_count": 117,
   "metadata": {},
   "outputs": [],
   "source": [
    "df['medical_uses'] = df['medical_uses'].apply(lambda x: x.replace('[','').replace(']','')) "
   ]
  },
  {
   "cell_type": "code",
   "execution_count": 118,
   "metadata": {},
   "outputs": [],
   "source": [
    "df['medical_uses'] = df['medical_uses'].apply(lambda x: x.replace(\"'\",'').replace(\"'\",'')) "
   ]
  },
  {
   "cell_type": "code",
   "execution_count": 119,
   "metadata": {},
   "outputs": [],
   "source": [
    "df['Description'] = df['Description'].str.replace('\\xa0', ' ')"
   ]
  },
  {
   "cell_type": "code",
   "execution_count": 120,
   "metadata": {},
   "outputs": [],
   "source": [
    "df['Description'] = df['Description'].str.replace(r\"[\\\"\\',]\", '')"
   ]
  },
  {
   "cell_type": "code",
   "execution_count": 16,
   "metadata": {},
   "outputs": [
    {
     "data": {
      "text/plain": [
       "0       Afpak, named for its direct Afghani and Pakist...\n",
       "1       African refers to the indigenous varieties of ...\n",
       "2       Afternoon Delight, created by Colorado Seed In...\n",
       "3       Afwreck is a hybrid cross of Afghani and Train...\n",
       "4       Don’t let the name scare you! The only herbici...\n",
       "                              ...                        \n",
       "1490    Yummy is an indica-dominant hybrid that hails ...\n",
       "1491    With a balanced ratio of THC and CBD, Zen is t...\n",
       "1492    Zeta Sage is a sativa-dominant hybrid that com...\n",
       "1493    Zkittlez is an indica-dominant mix of Grape Ap...\n",
       "1494    Zoom Pie also known as Zombie Pie is a heavy i...\n",
       "Name: Description, Length: 1495, dtype: object"
      ]
     },
     "execution_count": 16,
     "metadata": {},
     "output_type": "execute_result"
    }
   ],
   "source": [
    "df['Description'].replace({'\\\"': \"\\'\"}, regex=True)"
   ]
  },
  {
   "cell_type": "code",
   "execution_count": 121,
   "metadata": {},
   "outputs": [],
   "source": [
    "df.Description = df.Description.str.replace(r'[\\(\\)\\d#%/?]+', '')"
   ]
  },
  {
   "cell_type": "code",
   "execution_count": 122,
   "metadata": {},
   "outputs": [],
   "source": [
    "df.flavors = df.flavors.str.replace(r'[\\(\\)\\d#%/?]+', '')"
   ]
  },
  {
   "cell_type": "code",
   "execution_count": 123,
   "metadata": {},
   "outputs": [],
   "source": [
    "df['Description'] = df['Description'].str.strip()"
   ]
  },
  {
   "cell_type": "code",
   "execution_count": 124,
   "metadata": {},
   "outputs": [],
   "source": [
    "df = df[df['medical_uses'] != '']"
   ]
  },
  {
   "cell_type": "code",
   "execution_count": 125,
   "metadata": {},
   "outputs": [
    {
     "data": {
      "text/plain": [
       "(1463, 8)"
      ]
     },
     "execution_count": 125,
     "metadata": {},
     "output_type": "execute_result"
    }
   ],
   "source": [
    "df.shape"
   ]
  },
  {
   "cell_type": "code",
   "execution_count": 134,
   "metadata": {},
   "outputs": [],
   "source": [
    "df = df.reset_index(drop=True)"
   ]
  },
  {
   "cell_type": "code",
   "execution_count": 136,
   "metadata": {},
   "outputs": [],
   "source": [
    "df.index = df.index + 1"
   ]
  },
  {
   "cell_type": "code",
   "execution_count": 138,
   "metadata": {},
   "outputs": [],
   "source": [
    "df.to_csv('final_df_percentsep.csv', sep='%')"
   ]
  },
  {
   "cell_type": "code",
   "execution_count": 178,
   "metadata": {},
   "outputs": [
    {
     "data": {
      "text/plain": [
       "name                 0\n",
       "flavors              0\n",
       "race                 0\n",
       "positive_effects     0\n",
       "negative_effects     0\n",
       "medical_uses         0\n",
       "Rating               0\n",
       "Description         22\n",
       "dtype: int64"
      ]
     },
     "execution_count": 178,
     "metadata": {},
     "output_type": "execute_result"
    }
   ],
   "source": [
    "df.isnull().sum()"
   ]
  },
  {
   "cell_type": "code",
   "execution_count": 5,
   "metadata": {},
   "outputs": [
    {
     "data": {
      "text/plain": [
       "id                    int64\n",
       "name                 object\n",
       "flavors              object\n",
       "race                 object\n",
       "positive_effects     object\n",
       "negative_effects     object\n",
       "medical_uses         object\n",
       "Rating              float64\n",
       "Description          object\n",
       "dtype: object"
      ]
     },
     "execution_count": 5,
     "metadata": {},
     "output_type": "execute_result"
    }
   ],
   "source": [
    "df.dtypes"
   ]
  },
  {
   "cell_type": "code",
   "execution_count": 6,
   "metadata": {},
   "outputs": [
    {
     "data": {
      "text/plain": [
       "0    Afpak, named for its direct Afghani and Pakist...\n",
       "1    African refers to the indigenous varieties of ...\n",
       "2    Afternoon Delight, created by Colorado Seed In...\n",
       "3    Afwreck is a hybrid cross of Afghani and Train...\n",
       "4    Don’t let the name scare you! The only herbici...\n",
       "Name: Description, dtype: object"
      ]
     },
     "execution_count": 6,
     "metadata": {},
     "output_type": "execute_result"
    }
   ],
   "source": [
    "df['Description'].head()"
   ]
  },
  {
   "cell_type": "code",
   "execution_count": 23,
   "metadata": {},
   "outputs": [],
   "source": [
    "STOP_WORDS = nlp.Defaults.stop_words.union(['I', 'i','', ' ', '.', ',', '-', '  ', '   ', '    '])"
   ]
  },
  {
   "cell_type": "code",
   "execution_count": 8,
   "metadata": {},
   "outputs": [],
   "source": [
    "# Tokenizer\n",
    "tokenizer = Tokenizer(nlp.vocab)"
   ]
  },
  {
   "cell_type": "code",
   "execution_count": 9,
   "metadata": {},
   "outputs": [],
   "source": [
    "def tokenize(doc):\n",
    "        \"\"\"Return the tokens\"\"\"\n",
    "        return [token.text for token in tokenizer(doc)]"
   ]
  },
  {
   "cell_type": "code",
   "execution_count": 11,
   "metadata": {},
   "outputs": [],
   "source": [
    "# combine all text features into one string:\n",
    "\n",
    "df['combined_text'] = df.name + df.flavors + df.positive_effects + df.negative_effects + df.medical_uses + df.Description\n",
    "# Removing punctuations from our string\n",
    "df[\"combined_text\"] = df['combined_text'].str.replace('[^\\w\\s]',' ')\n",
    "\n",
    "# remove leading white space:\n",
    "df['combined_text_sans_race'] = df['combined_text'].str.strip()\n",
    "df['Description'] = df['Description'].str.strip()\n",
    "        \n",
    "for desc in df['combined_text']:\n",
    "    if desc == 'None':\n",
    "       desc = np.nan\n",
    "        \n",
    "df = df.dropna()"
   ]
  },
  {
   "cell_type": "code",
   "execution_count": 31,
   "metadata": {},
   "outputs": [
    {
     "data": {
      "text/plain": [
       "id                    0\n",
       "name                  0\n",
       "flavors               0\n",
       "race                  0\n",
       "positive_effects      0\n",
       "negative_effects      0\n",
       "medical_uses          0\n",
       "Rating                0\n",
       "Description           0\n",
       "combined_text         0\n",
       "all_lemmas            0\n",
       "description_lemmas    0\n",
       "dtype: int64"
      ]
     },
     "execution_count": 31,
     "metadata": {},
     "output_type": "execute_result"
    }
   ],
   "source": [
    "df.isnull().sum()"
   ]
  },
  {
   "cell_type": "code",
   "execution_count": 12,
   "metadata": {},
   "outputs": [
    {
     "data": {
      "text/plain": [
       "0    Afpak  Earthy    Chemical    Pine    Spicy Her...\n",
       "1    African  Spicy Herbal    Pungent    Earthy    ...\n",
       "2    Afternoon Delight  Pepper    Flowery    Pine  ...\n",
       "3    Afwreck  Pine    Earthy    Flowery    Pungent ...\n",
       "4    Agent Orange  Citrus    Orange    Sweet    Ear...\n",
       "Name: combined_text, dtype: object"
      ]
     },
     "execution_count": 12,
     "metadata": {},
     "output_type": "execute_result"
    }
   ],
   "source": [
    "df['combined_text'].head()"
   ]
  },
  {
   "cell_type": "code",
   "execution_count": 13,
   "metadata": {},
   "outputs": [],
   "source": [
    "def get_lemmas(text):\n",
    "        \"\"\"Return the Lemmas\"\"\"\n",
    "        lemmas = []\n",
    "        doc = nlp(text)\n",
    "    \n",
    "        for token in doc: \n",
    "            if ((token.text.lower() not in STOP_WORDS) and (token.is_punct == False)) and (token.pos_ != 'PRON'):\n",
    "                lemmas.append(token.lemma_)\n",
    "    \n",
    "        return lemmas"
   ]
  },
  {
   "cell_type": "code",
   "execution_count": 24,
   "metadata": {},
   "outputs": [],
   "source": [
    "df['all_lemmas'] = df['combined_text'].apply(get_lemmas)"
   ]
  },
  {
   "cell_type": "code",
   "execution_count": 25,
   "metadata": {},
   "outputs": [
    {
     "data": {
      "text/plain": [
       "0    [Afpak, Earthy, Chemical, Pine, spicy, Herbal,...\n",
       "1    [african, spicy, Herbal, pungent, earthy, Pepp...\n",
       "2    [afternoon, Delight, Pepper, flowery, Pine, pu...\n",
       "3    [Afwreck, Pine, earthy, flowery, pungent, rela...\n",
       "4    [agent, Orange, Citrus, Orange, sweet, earthy,...\n",
       "Name: all_lemmas, dtype: object"
      ]
     },
     "execution_count": 25,
     "metadata": {},
     "output_type": "execute_result"
    }
   ],
   "source": [
    "df['all_lemmas'].head()"
   ]
  },
  {
   "cell_type": "code",
   "execution_count": 26,
   "metadata": {},
   "outputs": [],
   "source": [
    "df['description_lemmas'] = df['Description'].apply(get_lemmas)"
   ]
  },
  {
   "cell_type": "code",
   "execution_count": 18,
   "metadata": {},
   "outputs": [],
   "source": [
    "def count(docs):\n",
    "\n",
    "        word_counts = Counter()\n",
    "        appears_in = Counter()\n",
    "        \n",
    "        total_docs = len(docs)\n",
    "\n",
    "        for doc in docs:\n",
    "            word_counts.update(doc)\n",
    "            appears_in.update(set(doc))\n",
    "\n",
    "        temp = zip(word_counts.keys(), word_counts.values())\n",
    "        \n",
    "        wc = pd.DataFrame(temp, columns = ['word', 'count'])\n",
    "\n",
    "        wc['rank'] = wc['count'].rank(method='first', ascending=False)\n",
    "        total = wc['count'].sum()\n",
    "\n",
    "        wc['pct_total'] = wc['count'].apply(lambda x: x / total)\n",
    "        \n",
    "        wc = wc.sort_values(by='rank')\n",
    "        wc['cul_pct_total'] = wc['pct_total'].cumsum()\n",
    "\n",
    "        t2 = zip(appears_in.keys(), appears_in.values())\n",
    "        ac = pd.DataFrame(t2, columns=['word', 'appears_in'])\n",
    "        wc = ac.merge(wc, on='word')\n",
    "\n",
    "        wc['appears_in_pct'] = wc['appears_in'].apply(lambda x: x / total_docs)\n",
    "        \n",
    "        return wc.sort_values(by='rank')"
   ]
  },
  {
   "cell_type": "code",
   "execution_count": 27,
   "metadata": {},
   "outputs": [
    {
     "data": {
      "text/html": [
       "<div>\n",
       "<style scoped>\n",
       "    .dataframe tbody tr th:only-of-type {\n",
       "        vertical-align: middle;\n",
       "    }\n",
       "\n",
       "    .dataframe tbody tr th {\n",
       "        vertical-align: top;\n",
       "    }\n",
       "\n",
       "    .dataframe thead th {\n",
       "        text-align: right;\n",
       "    }\n",
       "</style>\n",
       "<table border=\"1\" class=\"dataframe\">\n",
       "  <thead>\n",
       "    <tr style=\"text-align: right;\">\n",
       "      <th></th>\n",
       "      <th>word</th>\n",
       "      <th>appears_in</th>\n",
       "      <th>count</th>\n",
       "      <th>rank</th>\n",
       "      <th>pct_total</th>\n",
       "      <th>cul_pct_total</th>\n",
       "      <th>appears_in_pct</th>\n",
       "    </tr>\n",
       "  </thead>\n",
       "  <tbody>\n",
       "    <tr>\n",
       "      <th>19</th>\n",
       "      <td>strain</td>\n",
       "      <td>1154</td>\n",
       "      <td>1856</td>\n",
       "      <td>1.0</td>\n",
       "      <td>0.027136</td>\n",
       "      <td>0.027136</td>\n",
       "      <td>0.783435</td>\n",
       "    </tr>\n",
       "    <tr>\n",
       "      <th>49</th>\n",
       "      <td></td>\n",
       "      <td>468</td>\n",
       "      <td>1027</td>\n",
       "      <td>2.0</td>\n",
       "      <td>0.015016</td>\n",
       "      <td>0.042152</td>\n",
       "      <td>0.317719</td>\n",
       "    </tr>\n",
       "    <tr>\n",
       "      <th>41</th>\n",
       "      <td>effect</td>\n",
       "      <td>811</td>\n",
       "      <td>975</td>\n",
       "      <td>3.0</td>\n",
       "      <td>0.014255</td>\n",
       "      <td>0.056408</td>\n",
       "      <td>0.550577</td>\n",
       "    </tr>\n",
       "    <tr>\n",
       "      <th>5</th>\n",
       "      <td>indica</td>\n",
       "      <td>661</td>\n",
       "      <td>884</td>\n",
       "      <td>4.0</td>\n",
       "      <td>0.012925</td>\n",
       "      <td>0.069333</td>\n",
       "      <td>0.448744</td>\n",
       "    </tr>\n",
       "    <tr>\n",
       "      <th>13</th>\n",
       "      <td>hybrid</td>\n",
       "      <td>725</td>\n",
       "      <td>846</td>\n",
       "      <td>5.0</td>\n",
       "      <td>0.012369</td>\n",
       "      <td>0.081702</td>\n",
       "      <td>0.492193</td>\n",
       "    </tr>\n",
       "    <tr>\n",
       "      <th>54</th>\n",
       "      <td>sativa</td>\n",
       "      <td>579</td>\n",
       "      <td>744</td>\n",
       "      <td>6.0</td>\n",
       "      <td>0.010878</td>\n",
       "      <td>0.092580</td>\n",
       "      <td>0.393075</td>\n",
       "    </tr>\n",
       "    <tr>\n",
       "      <th>94</th>\n",
       "      <td>cross</td>\n",
       "      <td>646</td>\n",
       "      <td>680</td>\n",
       "      <td>7.0</td>\n",
       "      <td>0.009942</td>\n",
       "      <td>0.102522</td>\n",
       "      <td>0.438561</td>\n",
       "    </tr>\n",
       "    <tr>\n",
       "      <th>14</th>\n",
       "      <td>aroma</td>\n",
       "      <td>609</td>\n",
       "      <td>633</td>\n",
       "      <td>8.0</td>\n",
       "      <td>0.009255</td>\n",
       "      <td>0.111777</td>\n",
       "      <td>0.413442</td>\n",
       "    </tr>\n",
       "    <tr>\n",
       "      <th>360</th>\n",
       "      <td>Kush</td>\n",
       "      <td>323</td>\n",
       "      <td>612</td>\n",
       "      <td>9.0</td>\n",
       "      <td>0.008948</td>\n",
       "      <td>0.120725</td>\n",
       "      <td>0.219280</td>\n",
       "    </tr>\n",
       "    <tr>\n",
       "      <th>30</th>\n",
       "      <td>dominant</td>\n",
       "      <td>580</td>\n",
       "      <td>596</td>\n",
       "      <td>10.0</td>\n",
       "      <td>0.008714</td>\n",
       "      <td>0.129439</td>\n",
       "      <td>0.393754</td>\n",
       "    </tr>\n",
       "    <tr>\n",
       "      <th>530</th>\n",
       "      <td>sweet</td>\n",
       "      <td>487</td>\n",
       "      <td>515</td>\n",
       "      <td>11.0</td>\n",
       "      <td>0.007530</td>\n",
       "      <td>0.136969</td>\n",
       "      <td>0.330618</td>\n",
       "    </tr>\n",
       "    <tr>\n",
       "      <th>117</th>\n",
       "      <td>flavor</td>\n",
       "      <td>446</td>\n",
       "      <td>495</td>\n",
       "      <td>12.0</td>\n",
       "      <td>0.007237</td>\n",
       "      <td>0.144206</td>\n",
       "      <td>0.302783</td>\n",
       "    </tr>\n",
       "    <tr>\n",
       "      <th>11</th>\n",
       "      <td>body</td>\n",
       "      <td>434</td>\n",
       "      <td>468</td>\n",
       "      <td>13.0</td>\n",
       "      <td>0.006843</td>\n",
       "      <td>0.151049</td>\n",
       "      <td>0.294637</td>\n",
       "    </tr>\n",
       "    <tr>\n",
       "      <th>133</th>\n",
       "      <td>bud</td>\n",
       "      <td>416</td>\n",
       "      <td>446</td>\n",
       "      <td>14.0</td>\n",
       "      <td>0.006521</td>\n",
       "      <td>0.157570</td>\n",
       "      <td>0.282417</td>\n",
       "    </tr>\n",
       "    <tr>\n",
       "      <th>161</th>\n",
       "      <td>genetic</td>\n",
       "      <td>359</td>\n",
       "      <td>397</td>\n",
       "      <td>15.0</td>\n",
       "      <td>0.005805</td>\n",
       "      <td>0.163375</td>\n",
       "      <td>0.243720</td>\n",
       "    </tr>\n",
       "    <tr>\n",
       "      <th>89</th>\n",
       "      <td>high</td>\n",
       "      <td>328</td>\n",
       "      <td>381</td>\n",
       "      <td>16.0</td>\n",
       "      <td>0.005571</td>\n",
       "      <td>0.168945</td>\n",
       "      <td>0.222675</td>\n",
       "    </tr>\n",
       "    <tr>\n",
       "      <th>238</th>\n",
       "      <td>flower</td>\n",
       "      <td>321</td>\n",
       "      <td>361</td>\n",
       "      <td>17.0</td>\n",
       "      <td>0.005278</td>\n",
       "      <td>0.174223</td>\n",
       "      <td>0.217923</td>\n",
       "    </tr>\n",
       "    <tr>\n",
       "      <th>179</th>\n",
       "      <td>pain</td>\n",
       "      <td>345</td>\n",
       "      <td>355</td>\n",
       "      <td>18.0</td>\n",
       "      <td>0.005190</td>\n",
       "      <td>0.179414</td>\n",
       "      <td>0.234216</td>\n",
       "    </tr>\n",
       "    <tr>\n",
       "      <th>285</th>\n",
       "      <td>breed</td>\n",
       "      <td>342</td>\n",
       "      <td>355</td>\n",
       "      <td>19.0</td>\n",
       "      <td>0.005190</td>\n",
       "      <td>0.184604</td>\n",
       "      <td>0.232179</td>\n",
       "    </tr>\n",
       "    <tr>\n",
       "      <th>219</th>\n",
       "      <td>Haze</td>\n",
       "      <td>153</td>\n",
       "      <td>320</td>\n",
       "      <td>20.0</td>\n",
       "      <td>0.004679</td>\n",
       "      <td>0.189283</td>\n",
       "      <td>0.103870</td>\n",
       "    </tr>\n",
       "  </tbody>\n",
       "</table>\n",
       "</div>"
      ],
      "text/plain": [
       "         word  appears_in  count  rank  pct_total  cul_pct_total  \\\n",
       "19     strain        1154   1856   1.0   0.027136       0.027136   \n",
       "49                    468   1027   2.0   0.015016       0.042152   \n",
       "41     effect         811    975   3.0   0.014255       0.056408   \n",
       "5      indica         661    884   4.0   0.012925       0.069333   \n",
       "13     hybrid         725    846   5.0   0.012369       0.081702   \n",
       "54     sativa         579    744   6.0   0.010878       0.092580   \n",
       "94      cross         646    680   7.0   0.009942       0.102522   \n",
       "14      aroma         609    633   8.0   0.009255       0.111777   \n",
       "360      Kush         323    612   9.0   0.008948       0.120725   \n",
       "30   dominant         580    596  10.0   0.008714       0.129439   \n",
       "530     sweet         487    515  11.0   0.007530       0.136969   \n",
       "117    flavor         446    495  12.0   0.007237       0.144206   \n",
       "11       body         434    468  13.0   0.006843       0.151049   \n",
       "133       bud         416    446  14.0   0.006521       0.157570   \n",
       "161   genetic         359    397  15.0   0.005805       0.163375   \n",
       "89       high         328    381  16.0   0.005571       0.168945   \n",
       "238    flower         321    361  17.0   0.005278       0.174223   \n",
       "179      pain         345    355  18.0   0.005190       0.179414   \n",
       "285     breed         342    355  19.0   0.005190       0.184604   \n",
       "219      Haze         153    320  20.0   0.004679       0.189283   \n",
       "\n",
       "     appears_in_pct  \n",
       "19         0.783435  \n",
       "49         0.317719  \n",
       "41         0.550577  \n",
       "5          0.448744  \n",
       "13         0.492193  \n",
       "54         0.393075  \n",
       "94         0.438561  \n",
       "14         0.413442  \n",
       "360        0.219280  \n",
       "30         0.393754  \n",
       "530        0.330618  \n",
       "117        0.302783  \n",
       "11         0.294637  \n",
       "133        0.282417  \n",
       "161        0.243720  \n",
       "89         0.222675  \n",
       "238        0.217923  \n",
       "179        0.234216  \n",
       "285        0.232179  \n",
       "219        0.103870  "
      ]
     },
     "execution_count": 27,
     "metadata": {},
     "output_type": "execute_result"
    }
   ],
   "source": [
    "wc_overall = count(df['description_lemmas'])\n",
    "wc_overall.head(20)"
   ]
  },
  {
   "cell_type": "code",
   "execution_count": 28,
   "metadata": {},
   "outputs": [
    {
     "data": {
      "image/png": "[encoded data removed]",
      "text/plain": [
       "<Figure size 432x288 with 1 Axes>"
      ]
     },
     "metadata": {
      "needs_background": "light"
     },
     "output_type": "display_data"
    }
   ],
   "source": [
    "wc_top20 = wc_overall[wc_overall['rank'] <= 20]\n",
    "\n",
    "squarify.plot(sizes=wc_top20['pct_total'], label=wc_top20['word'], alpha=.8 )\n",
    "plt.axis('off')\n",
    "plt.title('Top Words Description')\n",
    "plt.show()"
   ]
  },
  {
   "cell_type": "code",
   "execution_count": 29,
   "metadata": {},
   "outputs": [
    {
     "data": {
      "text/html": [
       "<div>\n",
       "<style scoped>\n",
       "    .dataframe tbody tr th:only-of-type {\n",
       "        vertical-align: middle;\n",
       "    }\n",
       "\n",
       "    .dataframe tbody tr th {\n",
       "        vertical-align: top;\n",
       "    }\n",
       "\n",
       "    .dataframe thead th {\n",
       "        text-align: right;\n",
       "    }\n",
       "</style>\n",
       "<table border=\"1\" class=\"dataframe\">\n",
       "  <thead>\n",
       "    <tr style=\"text-align: right;\">\n",
       "      <th></th>\n",
       "      <th>word</th>\n",
       "      <th>appears_in</th>\n",
       "      <th>count</th>\n",
       "      <th>rank</th>\n",
       "      <th>pct_total</th>\n",
       "      <th>cul_pct_total</th>\n",
       "      <th>appears_in_pct</th>\n",
       "    </tr>\n",
       "  </thead>\n",
       "  <tbody>\n",
       "    <tr>\n",
       "      <th>25</th>\n",
       "      <td>strain</td>\n",
       "      <td>1154</td>\n",
       "      <td>1856</td>\n",
       "      <td>1.0</td>\n",
       "      <td>0.018358</td>\n",
       "      <td>0.018358</td>\n",
       "      <td>0.783435</td>\n",
       "    </tr>\n",
       "    <tr>\n",
       "      <th>20</th>\n",
       "      <td>stress</td>\n",
       "      <td>1313</td>\n",
       "      <td>1509</td>\n",
       "      <td>2.0</td>\n",
       "      <td>0.014926</td>\n",
       "      <td>0.033285</td>\n",
       "      <td>0.891378</td>\n",
       "    </tr>\n",
       "    <tr>\n",
       "      <th>54</th>\n",
       "      <td>pain</td>\n",
       "      <td>1178</td>\n",
       "      <td>1473</td>\n",
       "      <td>3.0</td>\n",
       "      <td>0.014570</td>\n",
       "      <td>0.047855</td>\n",
       "      <td>0.799728</td>\n",
       "    </tr>\n",
       "    <tr>\n",
       "      <th>28</th>\n",
       "      <td>happy</td>\n",
       "      <td>1367</td>\n",
       "      <td>1450</td>\n",
       "      <td>4.0</td>\n",
       "      <td>0.014343</td>\n",
       "      <td>0.062197</td>\n",
       "      <td>0.928038</td>\n",
       "    </tr>\n",
       "    <tr>\n",
       "      <th>168</th>\n",
       "      <td>sweet</td>\n",
       "      <td>1035</td>\n",
       "      <td>1406</td>\n",
       "      <td>5.0</td>\n",
       "      <td>0.013907</td>\n",
       "      <td>0.076104</td>\n",
       "      <td>0.702648</td>\n",
       "    </tr>\n",
       "    <tr>\n",
       "      <th>64</th>\n",
       "      <td>euphoric</td>\n",
       "      <td>1240</td>\n",
       "      <td>1344</td>\n",
       "      <td>6.0</td>\n",
       "      <td>0.013294</td>\n",
       "      <td>0.089398</td>\n",
       "      <td>0.841819</td>\n",
       "    </tr>\n",
       "    <tr>\n",
       "      <th>18</th>\n",
       "      <td>depression</td>\n",
       "      <td>1207</td>\n",
       "      <td>1303</td>\n",
       "      <td>7.0</td>\n",
       "      <td>0.012888</td>\n",
       "      <td>0.102287</td>\n",
       "      <td>0.819416</td>\n",
       "    </tr>\n",
       "    <tr>\n",
       "      <th>47</th>\n",
       "      <td>relaxed</td>\n",
       "      <td>1246</td>\n",
       "      <td>1297</td>\n",
       "      <td>8.0</td>\n",
       "      <td>0.012829</td>\n",
       "      <td>0.115116</td>\n",
       "      <td>0.845893</td>\n",
       "    </tr>\n",
       "    <tr>\n",
       "      <th>86</th>\n",
       "      <td>Dry</td>\n",
       "      <td>1086</td>\n",
       "      <td>1086</td>\n",
       "      <td>9.0</td>\n",
       "      <td>0.010742</td>\n",
       "      <td>0.125858</td>\n",
       "      <td>0.737271</td>\n",
       "    </tr>\n",
       "    <tr>\n",
       "      <th>124</th>\n",
       "      <td>eye</td>\n",
       "      <td>943</td>\n",
       "      <td>997</td>\n",
       "      <td>10.0</td>\n",
       "      <td>0.009862</td>\n",
       "      <td>0.135720</td>\n",
       "      <td>0.640190</td>\n",
       "    </tr>\n",
       "    <tr>\n",
       "      <th>55</th>\n",
       "      <td>effect</td>\n",
       "      <td>811</td>\n",
       "      <td>975</td>\n",
       "      <td>11.0</td>\n",
       "      <td>0.009644</td>\n",
       "      <td>0.145364</td>\n",
       "      <td>0.550577</td>\n",
       "    </tr>\n",
       "    <tr>\n",
       "      <th>67</th>\n",
       "      <td></td>\n",
       "      <td>432</td>\n",
       "      <td>957</td>\n",
       "      <td>12.0</td>\n",
       "      <td>0.009466</td>\n",
       "      <td>0.154830</td>\n",
       "      <td>0.293279</td>\n",
       "    </tr>\n",
       "    <tr>\n",
       "      <th>147</th>\n",
       "      <td>uplifted</td>\n",
       "      <td>928</td>\n",
       "      <td>944</td>\n",
       "      <td>13.0</td>\n",
       "      <td>0.009337</td>\n",
       "      <td>0.164167</td>\n",
       "      <td>0.630007</td>\n",
       "    </tr>\n",
       "    <tr>\n",
       "      <th>125</th>\n",
       "      <td>dry</td>\n",
       "      <td>893</td>\n",
       "      <td>902</td>\n",
       "      <td>14.0</td>\n",
       "      <td>0.008922</td>\n",
       "      <td>0.173089</td>\n",
       "      <td>0.606246</td>\n",
       "    </tr>\n",
       "    <tr>\n",
       "      <th>84</th>\n",
       "      <td>headache</td>\n",
       "      <td>761</td>\n",
       "      <td>899</td>\n",
       "      <td>15.0</td>\n",
       "      <td>0.008892</td>\n",
       "      <td>0.181982</td>\n",
       "      <td>0.516633</td>\n",
       "    </tr>\n",
       "    <tr>\n",
       "      <th>7</th>\n",
       "      <td>indica</td>\n",
       "      <td>656</td>\n",
       "      <td>872</td>\n",
       "      <td>16.0</td>\n",
       "      <td>0.008625</td>\n",
       "      <td>0.190607</td>\n",
       "      <td>0.445350</td>\n",
       "    </tr>\n",
       "    <tr>\n",
       "      <th>114</th>\n",
       "      <td>mouth</td>\n",
       "      <td>863</td>\n",
       "      <td>864</td>\n",
       "      <td>17.0</td>\n",
       "      <td>0.008546</td>\n",
       "      <td>0.199153</td>\n",
       "      <td>0.585879</td>\n",
       "    </tr>\n",
       "    <tr>\n",
       "      <th>15</th>\n",
       "      <td>hybrid</td>\n",
       "      <td>725</td>\n",
       "      <td>846</td>\n",
       "      <td>18.0</td>\n",
       "      <td>0.008368</td>\n",
       "      <td>0.207521</td>\n",
       "      <td>0.492193</td>\n",
       "    </tr>\n",
       "    <tr>\n",
       "      <th>37</th>\n",
       "      <td>creative</td>\n",
       "      <td>741</td>\n",
       "      <td>809</td>\n",
       "      <td>19.0</td>\n",
       "      <td>0.008002</td>\n",
       "      <td>0.215524</td>\n",
       "      <td>0.503055</td>\n",
       "    </tr>\n",
       "    <tr>\n",
       "      <th>412</th>\n",
       "      <td>Kush</td>\n",
       "      <td>324</td>\n",
       "      <td>745</td>\n",
       "      <td>20.0</td>\n",
       "      <td>0.007369</td>\n",
       "      <td>0.222893</td>\n",
       "      <td>0.219959</td>\n",
       "    </tr>\n",
       "  </tbody>\n",
       "</table>\n",
       "</div>"
      ],
      "text/plain": [
       "           word  appears_in  count  rank  pct_total  cul_pct_total  \\\n",
       "25       strain        1154   1856   1.0   0.018358       0.018358   \n",
       "20       stress        1313   1509   2.0   0.014926       0.033285   \n",
       "54         pain        1178   1473   3.0   0.014570       0.047855   \n",
       "28        happy        1367   1450   4.0   0.014343       0.062197   \n",
       "168       sweet        1035   1406   5.0   0.013907       0.076104   \n",
       "64     euphoric        1240   1344   6.0   0.013294       0.089398   \n",
       "18   depression        1207   1303   7.0   0.012888       0.102287   \n",
       "47      relaxed        1246   1297   8.0   0.012829       0.115116   \n",
       "86          Dry        1086   1086   9.0   0.010742       0.125858   \n",
       "124         eye         943    997  10.0   0.009862       0.135720   \n",
       "55       effect         811    975  11.0   0.009644       0.145364   \n",
       "67                      432    957  12.0   0.009466       0.154830   \n",
       "147    uplifted         928    944  13.0   0.009337       0.164167   \n",
       "125         dry         893    902  14.0   0.008922       0.173089   \n",
       "84     headache         761    899  15.0   0.008892       0.181982   \n",
       "7        indica         656    872  16.0   0.008625       0.190607   \n",
       "114       mouth         863    864  17.0   0.008546       0.199153   \n",
       "15       hybrid         725    846  18.0   0.008368       0.207521   \n",
       "37     creative         741    809  19.0   0.008002       0.215524   \n",
       "412        Kush         324    745  20.0   0.007369       0.222893   \n",
       "\n",
       "     appears_in_pct  \n",
       "25         0.783435  \n",
       "20         0.891378  \n",
       "54         0.799728  \n",
       "28         0.928038  \n",
       "168        0.702648  \n",
       "64         0.841819  \n",
       "18         0.819416  \n",
       "47         0.845893  \n",
       "86         0.737271  \n",
       "124        0.640190  \n",
       "55         0.550577  \n",
       "67         0.293279  \n",
       "147        0.630007  \n",
       "125        0.606246  \n",
       "84         0.516633  \n",
       "7          0.445350  \n",
       "114        0.585879  \n",
       "15         0.492193  \n",
       "37         0.503055  \n",
       "412        0.219959  "
      ]
     },
     "execution_count": 29,
     "metadata": {},
     "output_type": "execute_result"
    }
   ],
   "source": [
    "wc_overall = count(df['all_lemmas'])\n",
    "wc_overall.head(20)"
   ]
  },
  {
   "cell_type": "code",
   "execution_count": 30,
   "metadata": {},
   "outputs": [
    {
     "data": {
      "image/png": "[encoded data removed]",
      "text/plain": [
       "<Figure size 432x288 with 1 Axes>"
      ]
     },
     "metadata": {
      "needs_background": "light"
     },
     "output_type": "display_data"
    }
   ],
   "source": [
    "wc_top20 = wc_overall[wc_overall['rank'] <= 20]\n",
    "\n",
    "squarify.plot(sizes=wc_top20['pct_total'], label=wc_top20['word'], alpha=.8 )\n",
    "plt.axis('off')\n",
    "plt.title('Top Words Overall')\n",
    "plt.show()"
   ]
  },
  {
   "cell_type": "code",
   "execution_count": null,
   "metadata": {},
   "outputs": [],
   "source": []
  }
 ],
 "metadata": {
  "kernelspec": {
   "display_name": "Python 3",
   "language": "python",
   "name": "python3"
  },
  "language_info": {
   "codemirror_mode": {
    "name": "ipython",
    "version": 3
   },
   "file_extension": ".py",
   "mimetype": "text/x-python",
   "name": "python",
   "nbconvert_exporter": "python",
   "pygments_lexer": "ipython3",
   "version": "3.7.4"
  }
 },
 "nbformat": 4,
 "nbformat_minor": 4
}
