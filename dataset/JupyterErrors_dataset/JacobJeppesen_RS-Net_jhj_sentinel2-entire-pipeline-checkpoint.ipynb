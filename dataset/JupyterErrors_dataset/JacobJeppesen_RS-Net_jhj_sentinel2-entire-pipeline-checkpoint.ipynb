{
 "cells": [
  {
   "cell_type": "code",
   "execution_count": 1,
   "metadata": {},
   "outputs": [
    {
     "name": "stderr",
     "output_type": "stream",
     "text": [
      "Using TensorFlow backend.\n"
     ]
    },
    {
     "ename": "ImportError",
     "evalue": "cannot import name 'save_visualization_sentinel'",
     "output_type": "error",
     "traceback": [
      "\u001b[0;31m---------------------------------------------------------------------------\u001b[0m",
      "\u001b[0;31mImportError\u001b[0m                               Traceback (most recent call last)",
      "\u001b[0;32m~/phd/GitProjects/SentinelSemanticSegmentation/SentinelSemanticSegmentation.py\u001b[0m in \u001b[0;36m<module>\u001b[0;34m()\u001b[0m\n\u001b[1;32m     21\u001b[0m \u001b[0;32mfrom\u001b[0m \u001b[0msrc\u001b[0m\u001b[0;34m.\u001b[0m\u001b[0mmodels\u001b[0m\u001b[0;34m.\u001b[0m\u001b[0mhparams\u001b[0m \u001b[0;32mimport\u001b[0m \u001b[0mget_hparams\u001b[0m\u001b[0;34m\u001b[0m\u001b[0m\n\u001b[1;32m     22\u001b[0m \u001b[0;32mfrom\u001b[0m \u001b[0msrc\u001b[0m\u001b[0;34m.\u001b[0m\u001b[0mmodels\u001b[0m\u001b[0;34m.\u001b[0m\u001b[0mpredict_model\u001b[0m \u001b[0;32mimport\u001b[0m \u001b[0mmake_submit\u001b[0m\u001b[0;34m,\u001b[0m \u001b[0mcheck_predict\u001b[0m\u001b[0;34m,\u001b[0m \u001b[0mmake_submit_sentinel\u001b[0m\u001b[0;34m\u001b[0m\u001b[0m\n\u001b[0;32m---> 23\u001b[0;31m \u001b[0;32mfrom\u001b[0m \u001b[0msrc\u001b[0m\u001b[0;34m.\u001b[0m\u001b[0mvisualization\u001b[0m\u001b[0;34m.\u001b[0m\u001b[0mVisualize_PolygonsOverlay\u001b[0m \u001b[0;32mimport\u001b[0m \u001b[0msave_visualization\u001b[0m\u001b[0;34m,\u001b[0m \u001b[0msave_visualization_sentinel\u001b[0m\u001b[0;34m\u001b[0m\u001b[0m\n\u001b[0m\u001b[1;32m     24\u001b[0m \u001b[0;34m\u001b[0m\u001b[0m\n\u001b[1;32m     25\u001b[0m \u001b[0;34m\u001b[0m\u001b[0m\n",
      "\u001b[0;31mImportError\u001b[0m: cannot import name 'save_visualization_sentinel'"
     ]
    }
   ],
   "source": [
    "# To run the notebook, use Kernel -> Restart and Run All\n",
    "%run ../SentinelSemanticSegmentation.py --make_dataset"
   ]
  },
  {
   "cell_type": "code",
   "execution_count": null,
   "metadata": {},
   "outputs": [],
   "source": [
    "from ..src.data.make_dataset import stick_all_train_sentinel, make_val_sentinel\n",
    "\n",
    "stick_all_train_sentinel()\n",
    "\n",
    "n_cls = 1\n",
    "isz = 160\n",
    "make_val_sentinel(n_cls, isz)"
   ]
  }
 ],
 "metadata": {
  "kernelspec": {
   "display_name": "Python [conda env:SentinelSemanticSegmentation]",
   "language": "python",
   "name": "conda-env-SentinelSemanticSegmentation-py"
  },
  "language_info": {
   "codemirror_mode": {
    "name": "ipython",
    "version": 3
   },
   "file_extension": ".py",
   "mimetype": "text/x-python",
   "name": "python",
   "nbconvert_exporter": "python",
   "pygments_lexer": "ipython3",
   "version": "3.6.2"
  }
 },
 "nbformat": 4,
 "nbformat_minor": 2
}
