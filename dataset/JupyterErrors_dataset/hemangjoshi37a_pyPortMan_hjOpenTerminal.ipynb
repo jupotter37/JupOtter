{
 "cells": [
  {
   "cell_type": "code",
   "execution_count": 1,
   "id": "5ae1c810",
   "metadata": {
    "ExecuteTime": {
     "end_time": "2021-07-22T05:07:49.450143Z",
     "start_time": "2021-07-22T05:07:38.064921Z"
    }
   },
   "outputs": [
    {
     "ename": "RuntimeError",
     "evalue": "module compiled against API version 0xe but this version of numpy is 0xd",
     "output_type": "error",
     "traceback": [
      "\u001b[0;31m---------------------------------------------------------------------------\u001b[0m",
      "\u001b[0;31mRuntimeError\u001b[0m                              Traceback (most recent call last)",
      "\u001b[0;31mRuntimeError\u001b[0m: module compiled against API version 0xe but this version of numpy is 0xd"
     ]
    }
   ],
   "source": [
    "from jugaad_trader import Zerodha\n",
    "import qgrid\n",
    "from smartapi import SmartConnect\n",
    "from rich import  print\n",
    "from smartapi import SmartWebSocket\n",
    "import ipywidgets\n",
    "import json\n",
    "import pandas as pd\n",
    "import datetime\n",
    "import threading\n",
    "import math\n",
    "import ast \n",
    "import http.client\n",
    "import mimetypes\n",
    "import telepot\n",
    "conn = http.client.HTTPSConnection(\"apiconnect.angelbroking.com\")\n",
    "import time\n",
    "from dateutil import parser, tz\n",
    "from tqdm import tqdm\n",
    "import nsepython\n",
    "import pyotp\n",
    "from client_enums import *\n",
    "pd.set_option('display.max_columns', None)\n",
    "pd.set_option('display.max_rows', None)"
   ]
  },
  {
   "cell_type": "code",
   "execution_count": 2,
   "id": "14592028",
   "metadata": {
    "ExecuteTime": {
     "end_time": "2021-07-22T05:07:49.658246Z",
     "start_time": "2021-07-22T05:07:49.490853Z"
    },
    "scrolled": false
   },
   "outputs": [
    {
     "data": {
      "application/vnd.jupyter.widget-view+json": {
       "model_id": "5a31712572424c14ac56f13937149a06",
       "version_major": 2,
       "version_minor": 0
      },
      "text/plain": [
       "QgridWidget(grid_options={'fullWidthRows': True, 'syncColumnCellResize': True, 'forceFitColumns': True, 'defau…"
      ]
     },
     "metadata": {},
     "output_type": "display_data"
    }
   ],
   "source": [
    "####### IMPOTR AUTH FILE AND STOCKS FILE ######\n",
    "auth_df = pd.read_excel('./auth_info.xlsx')\n",
    "stocks_df = pd.read_excel('./stocks.xlsx')\n",
    "global_exchange_type = 'NSE'\n",
    "# # print(f'{auth_df}')\n",
    "# print(f'{share_df}')\n",
    "\n",
    "qgrid.show_grid(stocks_df)"
   ]
  },
  {
   "cell_type": "code",
   "execution_count": 3,
   "id": "703ff38d",
   "metadata": {
    "ExecuteTime": {
     "end_time": "2021-07-22T05:07:49.710586Z",
     "start_time": "2021-07-22T05:07:49.683447Z"
    },
    "scrolled": true
   },
   "outputs": [
    {
     "data": {
      "application/vnd.jupyter.widget-view+json": {
       "model_id": "d7e4b50f032e4732b3e421ce294f820c",
       "version_major": 2,
       "version_minor": 0
      },
      "text/plain": [
       "QgridWidget(grid_options={'fullWidthRows': True, 'syncColumnCellResize': True, 'forceFitColumns': True, 'defau…"
      ]
     },
     "metadata": {},
     "output_type": "display_data"
    }
   ],
   "source": [
    "###### AUTHENTICATION FILE DATAFRAME ########\n",
    "qgrid.show_grid(auth_df[['ac_name','ac_broker','ac_id']],)"
   ]
  },
  {
   "cell_type": "code",
   "execution_count": 4,
   "id": "dabd1b5e",
   "metadata": {
    "ExecuteTime": {
     "end_time": "2021-07-22T05:07:49.766971Z",
     "start_time": "2021-07-22T05:07:49.737568Z"
    }
   },
   "outputs": [],
   "source": [
    "class one_client_class:\n",
    "    def __init__(self,ac_broker,ac_name,ac_id,ac_pass,ac_pin,api_key='api_key',\n",
    "                 totp_key='totp_key',totp_enabled='totp_enabled'\n",
    "                ):\n",
    "        '''one_client_class(ac_broker,ac_name,ac_id,ac_pass,ac_pin,api_key='api_key',\n",
    "                            totp_key='totp_key',totp_enabled='totp_enabled')'''\n",
    "        self.ac_name = ac_name\n",
    "        self.ac_id = ac_id\n",
    "        self.ac_pass = ac_pass\n",
    "        self.ac_pin = ac_pin\n",
    "        self.ac_broker = ac_broker\n",
    "        self.api_key = api_key\n",
    "        self.totp_key = totp_key\n",
    "        self.totp_enabled = totp_enabled\n",
    "        self.funds_equity = 0.00\n",
    "        self.funds_commodity = 0.00\n",
    "        \n",
    "        self.pending_orders_list = []\n",
    "        self.orders_list = []\n",
    "        self.holdings_list = []\n",
    "        self.positions_list = []\n",
    "        self.gtt_list = []\n",
    "        self.stock_status = stock_status\n",
    "        \n",
    "        self.zerodha_user = ''\n",
    "        self.zerodha_user_data = ''\n",
    "        \n",
    "        self.angel_user = ''\n",
    "        self.angel_user_data = {}\n",
    "        self.angel_request_headers = ''\n",
    "        self.angel_refreshToken = ''\n",
    "        self.angel_feedToken = ''\n",
    "            \n",
    "        orders_list_type = type(self.pending_orders_list)\n",
    "        holdings_list_type = type(self.holdings_list)\n",
    "        positions_list_type = type(self.positions_list)\n",
    "\n",
    "    def do_login(self):\n",
    "        login_try_counter = 0\n",
    "        try:\n",
    "            if(self.ac_broker=='zerodha'):\n",
    "                self.do_login_zerodha()\n",
    "                return self.zerodha_user\n",
    "            elif(self.ac_broker=='angel'):\n",
    "                self.do_login_angel()\n",
    "                return self.angel_user\n",
    "        except Exception as excp:\n",
    "            if(login_try_counter>=3):\n",
    "                print('Login Tries exceeded...')\n",
    "                return\n",
    "            print(f'Error in login : {excp}')\n",
    "            time.sleep(1)\n",
    "#             self.do_login()\n",
    "            login_try_counter+=1\n",
    "                \n",
    "    def get_orders_list(self) -> list:\n",
    "        got_orders_list = []\n",
    "        self.pending_orders_list = []\n",
    "        if(self.ac_broker=='zerodha'):\n",
    "            got_orders_list = self.zerodha_user.orders()\n",
    "        elif(self.ac_broker=='angel'):\n",
    "            got_orders_list = self.angel_user.orderBook()['data']\n",
    "        if(got_orders_list==None):\n",
    "            return got_orders_list  \n",
    "        if(len(got_orders_list)==0):\n",
    "            return got_orders_list\n",
    "        for one_order in got_orders_list:\n",
    "            self.orders_list.append(order_class(one_order))\n",
    "        return self.orders_list\n",
    "\n",
    "    def get_pending_orders(self) -> list:\n",
    "        got_orders_list = []\n",
    "        self.pending_orders_list = []\n",
    "        if(self.ac_broker=='zerodha'):\n",
    "            got_orders_list = self.zerodha_user.orders()\n",
    "        elif(self.ac_broker=='angel'):\n",
    "            got_orders_list = self.angel_user.orderBook()['data']\n",
    "        if(got_orders_list==None):\n",
    "            return got_orders_list  \n",
    "        if(len(got_orders_list)==0):\n",
    "            return got_orders_list\n",
    "        for one_order in got_orders_list:\n",
    "            if(one_order['status']=='OPEN' or one_order['status']=='open'):\n",
    "                self.pending_orders_list.append(order_class(one_order))\n",
    "                \n",
    "        return self.pending_orders_list\n",
    "    \n",
    "    \n",
    "    def get_holdings_list(self) -> list:\n",
    "        got_holding_list = []\n",
    "        self.holdings_list = []\n",
    "        if(self.ac_broker=='zerodha'):\n",
    "            got_holding_list = self.zerodha_user.holdings()\n",
    "        elif(self.ac_broker=='angel'):\n",
    "            got_holding_list = self.angel_user.holding()['data']\n",
    "            if(got_holding_list==None):\n",
    "                return []\n",
    "        if(len(got_holding_list)==0):\n",
    "            return got_holding_list\n",
    "        for one_holding in got_holding_list:\n",
    "            self.holdings_list.append(holding_class(one_holding))\n",
    "        return self.holdings_list    \n",
    "    \n",
    "    def get_positions_list(self) -> list:\n",
    "        got_positions_list = []\n",
    "        self.positions_list = []\n",
    "        if(self.ac_broker=='zerodha'):\n",
    "            got_positions_list = self.zerodha_user.positions()['net']\n",
    "        elif(self.ac_broker=='angel'):\n",
    "            got_positions_list = self.angel_user.position()['data']\n",
    "            if(got_positions_list==None):\n",
    "                return []\n",
    "        if(len(got_positions_list)==0 ):\n",
    "            return got_positions_list\n",
    "        for one_position in got_positions_list:\n",
    "            self.positions_list.append(position_class(one_position))\n",
    "        return self.positions_list\n",
    "    \n",
    "    \n",
    "    def get_gtt_list(self) -> list:\n",
    "        got_gtt_list = []\n",
    "        self.gtt_list = []\n",
    "        if(self.ac_broker=='zerodha'):\n",
    "            got_gtt_list = self.zerodha_user.get_gtts()\n",
    "        elif(self.ac_broker=='angel'):\n",
    "            pass\n",
    "        for one_gtt in got_gtt_list:\n",
    "            self.gtt_list.append(zerodha_gtt_status_class(one_gtt))\n",
    "        return self.gtt_list\n",
    "        \n",
    "        \n",
    "    def check_funds(self):\n",
    "        if(self.ac_broker=='zerodha'):\n",
    "            self.funds_equity = math.floor(self.zerodha_user.margins()['equity']['available']['live_balance'])\n",
    "            self.funds_commodity = math.floor(self.zerodha_user.margins()['commodity']['available']['live_balance'])\n",
    "        elif(self.ac_broker=='angel'):\n",
    "            self.funds_equity = math.floor(float(self.angel_user.rmsLimit()['data']['availablecash']))\n",
    "            self.funds_commodity = math.floor(float(self.angel_user.rmsLimit()['data']['availablecash']))\n",
    "        \n",
    "    def do_login_zerodha(self):\n",
    "        if(self.totp_enabled==1):\n",
    "            this_totp_class = pyotp.TOTP(self.totp_key)\n",
    "            this_totp_pin = this_totp_class.now()\n",
    "#             print(self.totp_key)\n",
    "#             print(this_totp_pin)\n",
    "            self.zerodha_user = Zerodha(user_id=self.ac_id,\n",
    "                                       password=self.ac_pass,\n",
    "                                       twofa=int(this_totp_pin))  \n",
    "        else:\n",
    "            self.zerodha_user = Zerodha(user_id=self.ac_id,\n",
    "                                       password=self.ac_pass,\n",
    "                                       twofa=int(self.ac_pin))\n",
    "        self.zerodha_user.login()\n",
    "        self.zerodha_user_data = self.zerodha_user.profile()\n",
    "        str1 = 'LOGIN ZERODHA : '\n",
    "        print(str1 + self.zerodha_user.profile()['user_name'])\n",
    "        return self.zerodha_user\n",
    "                    \n",
    "    def do_login_angel(self):\n",
    "        self.angel_user = SmartConnect(api_key=self.api_key)\n",
    "        self.angel_user_data =self.angel_user.generateSession(self.ac_id,self.ac_pass)\n",
    "        self.angel_refreshToken = self.angel_user_data['data']['refreshToken']\n",
    "        self.angel_feedToken=self.angel_user.getfeedToken()\n",
    "        userProfile= self.angel_user.getProfile(self.angel_refreshToken)\n",
    "        print (f\"LOGIN ANGEL : {userProfile['data']['name']}\")\n",
    "        self.angel_request_headers = {\n",
    "              'Authorization': f'''Bearer {self.angel_user.access_token}''',\n",
    "              'Content-Type': 'application/json',\n",
    "              'Accept': 'application/json',\n",
    "              'X-UserType': 'USER',\n",
    "              'X-SourceID': 'WEB',\n",
    "              'X-ClientLocalIP': self.angel_user.clientLocalIP,\n",
    "              'X-ClientPublicIP': self.angel_user.clientPublicIP,\n",
    "              'X-MACAddress': self.angel_user.clientMacAddress,\n",
    "              'X-PrivateKey': self.api_key\n",
    "            }\n",
    "        return self.angel_user\n",
    "\n",
    "            \n",
    "class my_clients_group:\n",
    "    \n",
    "    def __init__(self,user_df):\n",
    "        self.user_df = user_df\n",
    "    \n",
    "    def do_login_df(self):\n",
    "        self.user_list = []\n",
    "        for index,one_zerodha_user_row in self.user_df.iterrows():\n",
    "            this_name = one_zerodha_user_row['ac_name']\n",
    "            this_uid = one_zerodha_user_row['ac_id']\n",
    "            this_pass = one_zerodha_user_row['ac_pass']\n",
    "            this_pin = one_zerodha_user_row['ac_pin']\n",
    "            this_broker = one_zerodha_user_row['ac_broker']\n",
    "            this_api_key = one_zerodha_user_row['api_key']\n",
    "            this_totp_key = one_zerodha_user_row['totp_key']\n",
    "            this_totp_enabled = one_zerodha_user_row['totp_enabled']\n",
    "\n",
    "            globals()[str(this_name)] = one_client_class(this_broker,\n",
    "                                                      this_name,\n",
    "                                                      this_uid,\n",
    "                                                      this_pass,\n",
    "                                                      this_pin,\n",
    "                                                   this_api_key,\n",
    "                                                      this_totp_key,\n",
    "                                                   this_totp_enabled, )\n",
    "            globals()[str(this_name)].do_login()\n",
    "            self.user_list.append(globals()[str(this_name)])\n",
    "            \n",
    "class stock_status:\n",
    "    def __init__(self,one_stock_data=object):\n",
    "        self.symbol = one_stock_data['symbol']\n",
    "        self.percent = one_stock_data['percent']\n",
    "        self.buy_price = one_stock_data['buy']\n",
    "        self.sl_price = one_stock_data['sl']\n",
    "        self.target_price = one_stock_data['target']\n",
    "        self.entry_open = one_stock_data['entry_open']\n",
    "        self.required_qty = 0\n",
    "        self.available_qty = 0\n",
    "        self.holding_qty = 0\n",
    "        self.position_qty = 0"
   ]
  },
  {
   "cell_type": "code",
   "execution_count": 5,
   "id": "2392b2c2",
   "metadata": {
    "ExecuteTime": {
     "end_time": "2021-07-22T05:07:49.788973Z",
     "start_time": "2021-07-22T05:07:49.786052Z"
    },
    "scrolled": false
   },
   "outputs": [],
   "source": [
    "this_clients_group = my_clients_group(auth_df)"
   ]
  },
  {
   "cell_type": "code",
   "execution_count": 6,
   "id": "61920173",
   "metadata": {
    "ExecuteTime": {
     "end_time": "2021-07-22T05:07:52.179065Z",
     "start_time": "2021-07-22T05:07:49.807615Z"
    },
    "scrolled": true
   },
   "outputs": [
    {
     "data": {
      "text/html": [
       "<pre style=\"white-space:pre;overflow-x:auto;line-height:normal;font-family:Menlo,'DejaVu Sans Mono',consolas,'Courier New',monospace\">LOGIN ZERODHA : Hemang Atulkumar Joshi\n",
       "</pre>\n"
      ],
      "text/plain": [
       "<rich.jupyter.JupyterRenderable at 0x7f8807cc1250>"
      ]
     },
     "metadata": {},
     "output_type": "display_data"
    },
    {
     "data": {
      "text/html": [
       "<pre style=\"white-space:pre;overflow-x:auto;line-height:normal;font-family:Menlo,'DejaVu Sans Mono',consolas,'Courier New',monospace\">LOGIN ZERODHA : Menandbhai Meramanbhai Shindhal\n",
       "</pre>\n"
      ],
      "text/plain": [
       "<rich.jupyter.JupyterRenderable at 0x7f8807cb78b0>"
      ]
     },
     "metadata": {},
     "output_type": "display_data"
    },
    {
     "data": {
      "text/html": [
       "<pre style=\"white-space:pre;overflow-x:auto;line-height:normal;font-family:Menlo,'DejaVu Sans Mono',consolas,'Courier New',monospace\">LOGIN ZERODHA : Rahul Karshanbhai Ram\n",
       "</pre>\n"
      ],
      "text/plain": [
       "<rich.jupyter.JupyterRenderable at 0x7f8807b97d90>"
      ]
     },
     "metadata": {},
     "output_type": "display_data"
    }
   ],
   "source": [
    "this_clients_group.do_login_df()"
   ]
  },
  {
   "cell_type": "code",
   "execution_count": null,
   "id": "8c7d9e77",
   "metadata": {},
   "outputs": [],
   "source": []
  },
  {
   "cell_type": "code",
   "execution_count": null,
   "id": "b7be96af",
   "metadata": {
    "ExecuteTime": {
     "end_time": "2021-07-20T12:31:54.545375Z",
     "start_time": "2021-07-20T12:31:54.540968Z"
    },
    "scrolled": true
   },
   "outputs": [],
   "source": [
    "# #Test bloks for my clients class ##\n",
    "\n",
    "# print(f'{hemang_angel.get_orders_list()=}')\n",
    "# print(f'{hemang_zerodha.get_orders_list()=}')\n",
    "\n",
    "# print(f'{hemang_angel.get_pending_orders()=}')\n",
    "# print(f'{hemang_zerodha.get_pending_orders()=}')\n",
    "\n",
    "# print(f'{hemang_angel.get_holdings_list()=}')\n",
    "# print(f'{hemang_zerodha.get_holdings_list()=}')\n",
    "\n",
    "# print(f'{hemang_angel.get_positions_list()=}')\n",
    "# print(f'{hemang_zerodha.get_positions_list()=}')"
   ]
  },
  {
   "cell_type": "code",
   "execution_count": null,
   "id": "223f15e8",
   "metadata": {
    "ExecuteTime": {
     "end_time": "2021-07-20T12:31:55.421387Z",
     "start_time": "2021-07-20T12:31:55.403420Z"
    },
    "scrolled": false
   },
   "outputs": [],
   "source": [
    "def keep_track():\n",
    "    try:\n",
    "        while (True):\n",
    "            time.sleep(0.1)\n",
    "            stocks_df = pd.read_excel('./stocks.xlsx')\n",
    "            symbol_request_list = []\n",
    "            if(len(stocks_df.symbol.to_list())==0):\n",
    "                print('STOCK_DF IS EMPTY!')\n",
    "                continue\n",
    "\n",
    "            for onestk in stocks_df.symbol:\n",
    "                symbol_request_list.append(global_exchange_type+':' +onestk)\n",
    "                print( global_exchange_type+':' +onestk)\n",
    "                \n",
    "            this_user_one = this_clients_group.user_list[0]\n",
    "            quote_map = this_user_one.zerodha_user.quote(symbol_request_list)\n",
    "            for __,one_stock_row in stocks_df.iterrows():\n",
    "                for one_user in this_clients_group.user_list:\n",
    "                    print(one_user.ac_name)\n",
    "                    this_holding_list = one_user.get_holdings_list()\n",
    "                    this_position_list  =one_user.get_positions_list()\n",
    "                    this_stock_status = one_user.stock_status(one_stock_row)\n",
    "                    one_user.check_funds()\n",
    "                    required_fund_in_this_stock_for_this_user = (one_user.funds_equity)*(this_stock_status.percent/100)\n",
    "                    this_ltp = zerodha_quote_class(quote_map[global_exchange_type+':'+this_stock_status.symbol]).last_price\n",
    "                    this_stock_status.required_qty = int((required_fund_in_this_stock_for_this_user)/this_ltp)\n",
    "                    for one_holding in this_holding_list:\n",
    "                        if(one_holding.tradingsymbol==this_stock_status.symbol):\n",
    "                            this_stock_status.holding_qty += int(one_holding.t1_quantity + one_holding.quantity)\n",
    "\n",
    "                    for one_position in this_position_list:\n",
    "                        if(one_position.tradingsymbol==this_stock_status.symbol):\n",
    "                            this_stock_status.position_qty += int(one_position.quantity)\n",
    "                    this_stock_status.available_qty += int(this_stock_status.position_qty+this_stock_status.holding_qty)\n",
    "                    this_gtts_list = one_user.zerodha_user.get_gtts()\n",
    "                    is_required_gtt_available = False\n",
    "                    if(len(this_gtts_list)!=0):\n",
    "                        for one_gtt in this_gtts_list:\n",
    "                            this_gtt_object = zerodha_gtt_status_class(one_gtt)\n",
    "                            if(this_gtt_object.condition.tradingsymbol==this_stock_status.symbol):\n",
    "                                if(this_stock_status.available_qty!=0 \n",
    "                                   and this_gtt_object.orders.transaction_type_1=='SELL'\n",
    "                                   and this_gtt_object.orders.price_1==this_stock_status.sl_price\n",
    "                                   and this_gtt_object.status==one_user.zerodha_user.GTT_STATUS_ACTIVE\n",
    "                                  ):\n",
    "                                    is_required_gtt_available = True\n",
    "                                elif(this_stock_status.available_qty==0\n",
    "                                     and this_gtt_object.orders.transaction_type_1=='BUY'\n",
    "                                     and this_gtt_object.orders.price_1==this_stock_status.buy_price\n",
    "                                     and this_gtt_object.status==one_user.zerodha_user.GTT_STATUS_ACTIVE\n",
    "                                    ):\n",
    "                                    is_required_gtt_available = True\n",
    "                            if((this_gtt_object.condition.tradingsymbol not in (stocks_df.symbol.to_list()))\n",
    "                               and (this_gtt_object.status==one_user.zerodha_user.GTT_STATUS_ACTIVE)\n",
    "                              ):\n",
    "                                print(this_gtt_object.condition.tradingsymbol)\n",
    "                                print(stocks_df.symbol)\n",
    "                                one_user.zerodha_user.delete_gtt(this_gtt_object.id)\n",
    "                    print(this_stock_status.available_qty)\n",
    "                    \n",
    "                    \n",
    "                    if((this_stock_status.available_qty==0 and this_stock_status.entry_open==1) \n",
    "                       and (not is_required_gtt_available)\n",
    "                       and (this_stock_status.required_qty>0)):\n",
    "                        one_user.zerodha_user.place_gtt(\n",
    "                            one_user.zerodha_user.GTT_TYPE_SINGLE,\n",
    "                            this_stock_status.symbol,\n",
    "                            global_exchange_type,\n",
    "                            [ this_stock_status.buy_price],\n",
    "                            this_ltp,\n",
    "                            [{'exchange': global_exchange_type,\n",
    "                              'tradingsymbol': this_stock_status.symbol,\n",
    "                              'product': 'CNC',\n",
    "                              'order_type': 'MARKET',\n",
    "                              'transaction_type': 'BUY',\n",
    "                              'quantity': this_stock_status.required_qty,\n",
    "                              'price': this_stock_status.buy_price,\n",
    "                             },\n",
    "                            ],)\n",
    "\n",
    "                    if((this_stock_status.available_qty>0) \n",
    "                       and (not is_required_gtt_available)):\n",
    "                        one_user.zerodha_user.place_gtt(\n",
    "                            one_user.zerodha_user.GTT_TYPE_OCO,\n",
    "                            this_stock_status.symbol,\n",
    "                            global_exchange_type,\n",
    "                            [this_stock_status.sl_price,\n",
    "                             this_stock_status.target_price,\n",
    "                             ],\n",
    "                            (this_stock_status.sl_price+this_stock_status.target_price)/2,\n",
    "                            [\n",
    "                            {'exchange': global_exchange_type,\n",
    "                              'tradingsymbol': this_stock_status.symbol,\n",
    "                              'product': 'CNC',\n",
    "                              'order_type': 'MARKET',\n",
    "                              'transaction_type': 'SELL',\n",
    "                              'quantity': this_stock_status.available_qty,\n",
    "                              'price': this_stock_status.sl_price,\n",
    "                             },\n",
    "\n",
    "                            {'exchange': global_exchange_type,\n",
    "                              'tradingsymbol': this_stock_status.symbol,\n",
    "                              'product': 'CNC',\n",
    "                             'order_type': 'MARKET',\n",
    "                              'transaction_type': 'SELL',\n",
    "                              'quantity': this_stock_status.available_qty,\n",
    "                              'price': this_stock_status.target_price,\n",
    "                             },\n",
    "                            ],)\n",
    "\n",
    "                    print(this_stock_status.symbol)\n",
    "                    print(f'{this_stock_status.required_qty=}')\n",
    "                    print(f'{this_stock_status.available_qty=}')\n",
    "                    print('*'*50)\n",
    "            \n",
    "    except Exception as cre:\n",
    "        print(f'{cre}=')\n",
    "#         this_clients_group.do_login_df()\n",
    "        keep_track()"
   ]
  },
  {
   "cell_type": "code",
   "execution_count": null,
   "id": "16a77e3c",
   "metadata": {
    "ExecuteTime": {
     "start_time": "2021-07-16T09:24:33.936Z"
    },
    "scrolled": true
   },
   "outputs": [],
   "source": [
    "keep_track()"
   ]
  },
  {
   "cell_type": "code",
   "execution_count": null,
   "id": "09d85492",
   "metadata": {},
   "outputs": [],
   "source": []
  },
  {
   "cell_type": "code",
   "execution_count": null,
   "id": "754aa496",
   "metadata": {
    "ExecuteTime": {
     "end_time": "2021-07-20T05:18:04.374032Z",
     "start_time": "2021-07-20T05:18:04.369759Z"
    }
   },
   "outputs": [],
   "source": []
  },
  {
   "cell_type": "code",
   "execution_count": null,
   "id": "caddaf41",
   "metadata": {
    "ExecuteTime": {
     "end_time": "2021-07-20T05:18:04.637798Z",
     "start_time": "2021-07-20T05:18:04.634266Z"
    },
    "scrolled": true
   },
   "outputs": [],
   "source": []
  },
  {
   "cell_type": "code",
   "execution_count": null,
   "id": "2d5f321f",
   "metadata": {
    "ExecuteTime": {
     "end_time": "2021-07-20T05:18:04.842823Z",
     "start_time": "2021-07-20T05:18:04.840186Z"
    },
    "scrolled": true
   },
   "outputs": [],
   "source": []
  },
  {
   "cell_type": "code",
   "execution_count": null,
   "id": "c53b1176",
   "metadata": {
    "ExecuteTime": {
     "end_time": "2021-07-20T05:31:36.344732Z",
     "start_time": "2021-07-20T05:31:36.340054Z"
    }
   },
   "outputs": [],
   "source": []
  },
  {
   "cell_type": "code",
   "execution_count": null,
   "id": "06909ce2",
   "metadata": {
    "ExecuteTime": {
     "end_time": "2021-07-20T06:32:17.557517Z",
     "start_time": "2021-07-20T06:32:17.551711Z"
    },
    "scrolled": true
   },
   "outputs": [],
   "source": []
  },
  {
   "cell_type": "code",
   "execution_count": 9,
   "id": "0f7df432",
   "metadata": {
    "ExecuteTime": {
     "end_time": "2021-07-22T05:08:16.626936Z",
     "start_time": "2021-07-22T05:08:16.618589Z"
    },
    "scrolled": false
   },
   "outputs": [],
   "source": [
    "def get_all_stats():\n",
    "    for one_user in this_clients_group.user_list:\n",
    "        this_holding_list = one_user.get_holdings_list()\n",
    "        this_position_list = one_user.get_positions_list()\n",
    "        this_gtt_list  =one_user.get_gtt_list()    \n",
    "\n",
    "    positions_list_list_json =  ([([{'user':y.ac_name,'pos':x.__dict__} for x in y.positions_list ]) for y in this_clients_group.user_list])\n",
    "    holdings_list_list_json =  ([([{'user':y.ac_name,'hld':x.__dict__} for x in y.holdings_list ]) for y in this_clients_group.user_list])\n",
    "    gtts_list_list_json = ([([{'user':y.ac_name,'gtt':x.__dict__} for x in y.gtt_list ]) for y in this_clients_group.user_list])\n",
    "\n",
    "    total_holdings_list = []\n",
    "    for one_user_holding in holdings_list_list_json:\n",
    "        for one_holding_ip in one_user_holding:\n",
    "            total_holdings_list.append(flatten_json(one_holding_ip))\n",
    "\n",
    "\n",
    "    total_positions_list = []\n",
    "    for one_user_position in positions_list_list_json:\n",
    "        for one_position_ip in one_user_position:\n",
    "            total_positions_list.append(flatten_json(one_position_ip))\n",
    "\n",
    "\n",
    "    total_gtt_list = []\n",
    "    for one_user_gtt in gtts_list_list_json:\n",
    "        for one_gtt_ip in one_user_gtt:\n",
    "            total_gtt_list.append(flatten_json(one_gtt_ip))\n",
    "\n",
    "    gtt_dataframe = pd.DataFrame(total_gtt_list)\n",
    "#     display(gtt_dataframe)\n",
    "    position_dataframe = pd.DataFrame(total_positions_list)\n",
    "#     display(position_dataframe)    \n",
    "    holding_dataframe = pd.DataFrame(total_holdings_list)\n",
    "#     display(holding_dataframe)   \n",
    "\n",
    "    holding_dataframe.to_excel('./plot_df/holding.xlsx',index=False)\n",
    "    position_dataframe.to_excel('./plot_df/positions.xlsx',index=False)\n",
    "    gtt_dataframe.to_excel('./plot_df/gtts.xlsx',index=False)\n"
   ]
  },
  {
   "cell_type": "code",
   "execution_count": 11,
   "id": "a67e74ec",
   "metadata": {
    "ExecuteTime": {
     "end_time": "2021-07-22T06:57:31.030836Z",
     "start_time": "2021-07-22T06:57:29.905959Z"
    }
   },
   "outputs": [
    {
     "ename": "TokenException",
     "evalue": "Incorrect `api_key` or `access_token`.",
     "output_type": "error",
     "traceback": [
      "\u001b[0;31m---------------------------------------------------------------------------\u001b[0m",
      "\u001b[0;31mTokenException\u001b[0m                            Traceback (most recent call last)",
      "\u001b[0;32m<ipython-input-11-b333a5a8b244>\u001b[0m in \u001b[0;36m<module>\u001b[0;34m\u001b[0m\n\u001b[1;32m      1\u001b[0m \u001b[0;32mwhile\u001b[0m \u001b[0;32mTrue\u001b[0m\u001b[0;34m:\u001b[0m\u001b[0;34m\u001b[0m\u001b[0;34m\u001b[0m\u001b[0m\n\u001b[0;32m----> 2\u001b[0;31m     \u001b[0mget_all_stats\u001b[0m\u001b[0;34m(\u001b[0m\u001b[0;34m)\u001b[0m\u001b[0;34m\u001b[0m\u001b[0;34m\u001b[0m\u001b[0m\n\u001b[0m",
      "\u001b[0;32m<ipython-input-9-f6e4a8f060bb>\u001b[0m in \u001b[0;36mget_all_stats\u001b[0;34m()\u001b[0m\n\u001b[1;32m      1\u001b[0m \u001b[0;32mdef\u001b[0m \u001b[0mget_all_stats\u001b[0m\u001b[0;34m(\u001b[0m\u001b[0;34m)\u001b[0m\u001b[0;34m:\u001b[0m\u001b[0;34m\u001b[0m\u001b[0;34m\u001b[0m\u001b[0m\n\u001b[1;32m      2\u001b[0m     \u001b[0;32mfor\u001b[0m \u001b[0mone_user\u001b[0m \u001b[0;32min\u001b[0m \u001b[0mthis_clients_group\u001b[0m\u001b[0;34m.\u001b[0m\u001b[0muser_list\u001b[0m\u001b[0;34m:\u001b[0m\u001b[0;34m\u001b[0m\u001b[0;34m\u001b[0m\u001b[0m\n\u001b[0;32m----> 3\u001b[0;31m         \u001b[0mthis_holding_list\u001b[0m \u001b[0;34m=\u001b[0m \u001b[0mone_user\u001b[0m\u001b[0;34m.\u001b[0m\u001b[0mget_holdings_list\u001b[0m\u001b[0;34m(\u001b[0m\u001b[0;34m)\u001b[0m\u001b[0;34m\u001b[0m\u001b[0;34m\u001b[0m\u001b[0m\n\u001b[0m\u001b[1;32m      4\u001b[0m         \u001b[0mthis_position_list\u001b[0m \u001b[0;34m=\u001b[0m \u001b[0mone_user\u001b[0m\u001b[0;34m.\u001b[0m\u001b[0mget_positions_list\u001b[0m\u001b[0;34m(\u001b[0m\u001b[0;34m)\u001b[0m\u001b[0;34m\u001b[0m\u001b[0;34m\u001b[0m\u001b[0m\n\u001b[1;32m      5\u001b[0m         \u001b[0mthis_gtt_list\u001b[0m  \u001b[0;34m=\u001b[0m\u001b[0mone_user\u001b[0m\u001b[0;34m.\u001b[0m\u001b[0mget_gtt_list\u001b[0m\u001b[0;34m(\u001b[0m\u001b[0;34m)\u001b[0m\u001b[0;34m\u001b[0m\u001b[0;34m\u001b[0m\u001b[0m\n",
      "\u001b[0;32m<ipython-input-4-d3a754debac6>\u001b[0m in \u001b[0;36mget_holdings_list\u001b[0;34m(self)\u001b[0m\n\u001b[1;32m     91\u001b[0m         \u001b[0mself\u001b[0m\u001b[0;34m.\u001b[0m\u001b[0mholdings_list\u001b[0m \u001b[0;34m=\u001b[0m \u001b[0;34m[\u001b[0m\u001b[0;34m]\u001b[0m\u001b[0;34m\u001b[0m\u001b[0;34m\u001b[0m\u001b[0m\n\u001b[1;32m     92\u001b[0m         \u001b[0;32mif\u001b[0m\u001b[0;34m(\u001b[0m\u001b[0mself\u001b[0m\u001b[0;34m.\u001b[0m\u001b[0mac_broker\u001b[0m\u001b[0;34m==\u001b[0m\u001b[0;34m'zerodha'\u001b[0m\u001b[0;34m)\u001b[0m\u001b[0;34m:\u001b[0m\u001b[0;34m\u001b[0m\u001b[0;34m\u001b[0m\u001b[0m\n\u001b[0;32m---> 93\u001b[0;31m             \u001b[0mgot_holding_list\u001b[0m \u001b[0;34m=\u001b[0m \u001b[0mself\u001b[0m\u001b[0;34m.\u001b[0m\u001b[0mzerodha_user\u001b[0m\u001b[0;34m.\u001b[0m\u001b[0mholdings\u001b[0m\u001b[0;34m(\u001b[0m\u001b[0;34m)\u001b[0m\u001b[0;34m\u001b[0m\u001b[0;34m\u001b[0m\u001b[0m\n\u001b[0m\u001b[1;32m     94\u001b[0m         \u001b[0;32melif\u001b[0m\u001b[0;34m(\u001b[0m\u001b[0mself\u001b[0m\u001b[0;34m.\u001b[0m\u001b[0mac_broker\u001b[0m\u001b[0;34m==\u001b[0m\u001b[0;34m'angel'\u001b[0m\u001b[0;34m)\u001b[0m\u001b[0;34m:\u001b[0m\u001b[0;34m\u001b[0m\u001b[0;34m\u001b[0m\u001b[0m\n\u001b[1;32m     95\u001b[0m             \u001b[0mgot_holding_list\u001b[0m \u001b[0;34m=\u001b[0m \u001b[0mself\u001b[0m\u001b[0;34m.\u001b[0m\u001b[0mangel_user\u001b[0m\u001b[0;34m.\u001b[0m\u001b[0mholding\u001b[0m\u001b[0;34m(\u001b[0m\u001b[0;34m)\u001b[0m\u001b[0;34m[\u001b[0m\u001b[0;34m'data'\u001b[0m\u001b[0;34m]\u001b[0m\u001b[0;34m\u001b[0m\u001b[0;34m\u001b[0m\u001b[0m\n",
      "\u001b[0;32m~/.local/lib/python3.9/site-packages/kiteconnect/connect.py\u001b[0m in \u001b[0;36mholdings\u001b[0;34m(self)\u001b[0m\n\u001b[1;32m    434\u001b[0m     \u001b[0;32mdef\u001b[0m \u001b[0mholdings\u001b[0m\u001b[0;34m(\u001b[0m\u001b[0mself\u001b[0m\u001b[0;34m)\u001b[0m\u001b[0;34m:\u001b[0m\u001b[0;34m\u001b[0m\u001b[0;34m\u001b[0m\u001b[0m\n\u001b[1;32m    435\u001b[0m         \u001b[0;34m\"\"\"Retrieve the list of equity holdings.\"\"\"\u001b[0m\u001b[0;34m\u001b[0m\u001b[0;34m\u001b[0m\u001b[0m\n\u001b[0;32m--> 436\u001b[0;31m         \u001b[0;32mreturn\u001b[0m \u001b[0mself\u001b[0m\u001b[0;34m.\u001b[0m\u001b[0m_get\u001b[0m\u001b[0;34m(\u001b[0m\u001b[0;34m\"portfolio.holdings\"\u001b[0m\u001b[0;34m)\u001b[0m\u001b[0;34m\u001b[0m\u001b[0;34m\u001b[0m\u001b[0m\n\u001b[0m\u001b[1;32m    437\u001b[0m \u001b[0;34m\u001b[0m\u001b[0m\n\u001b[1;32m    438\u001b[0m     def convert_position(self,\n",
      "\u001b[0;32m~/.local/lib/python3.9/site-packages/kiteconnect/connect.py\u001b[0m in \u001b[0;36m_get\u001b[0;34m(self, route, params)\u001b[0m\n\u001b[1;32m    815\u001b[0m     \u001b[0;32mdef\u001b[0m \u001b[0m_get\u001b[0m\u001b[0;34m(\u001b[0m\u001b[0mself\u001b[0m\u001b[0;34m,\u001b[0m \u001b[0mroute\u001b[0m\u001b[0;34m,\u001b[0m \u001b[0mparams\u001b[0m\u001b[0;34m=\u001b[0m\u001b[0;32mNone\u001b[0m\u001b[0;34m)\u001b[0m\u001b[0;34m:\u001b[0m\u001b[0;34m\u001b[0m\u001b[0;34m\u001b[0m\u001b[0m\n\u001b[1;32m    816\u001b[0m         \u001b[0;34m\"\"\"Alias for sending a GET request.\"\"\"\u001b[0m\u001b[0;34m\u001b[0m\u001b[0;34m\u001b[0m\u001b[0m\n\u001b[0;32m--> 817\u001b[0;31m         \u001b[0;32mreturn\u001b[0m \u001b[0mself\u001b[0m\u001b[0;34m.\u001b[0m\u001b[0m_request\u001b[0m\u001b[0;34m(\u001b[0m\u001b[0mroute\u001b[0m\u001b[0;34m,\u001b[0m \u001b[0;34m\"GET\"\u001b[0m\u001b[0;34m,\u001b[0m \u001b[0mparams\u001b[0m\u001b[0;34m)\u001b[0m\u001b[0;34m\u001b[0m\u001b[0;34m\u001b[0m\u001b[0m\n\u001b[0m\u001b[1;32m    818\u001b[0m \u001b[0;34m\u001b[0m\u001b[0m\n\u001b[1;32m    819\u001b[0m     \u001b[0;32mdef\u001b[0m \u001b[0m_post\u001b[0m\u001b[0;34m(\u001b[0m\u001b[0mself\u001b[0m\u001b[0;34m,\u001b[0m \u001b[0mroute\u001b[0m\u001b[0;34m,\u001b[0m \u001b[0mparams\u001b[0m\u001b[0;34m=\u001b[0m\u001b[0;32mNone\u001b[0m\u001b[0;34m)\u001b[0m\u001b[0;34m:\u001b[0m\u001b[0;34m\u001b[0m\u001b[0;34m\u001b[0m\u001b[0m\n",
      "\u001b[0;32m/usr/local/lib/python3.9/dist-packages/jugaad_trader/zerodha.py\u001b[0m in \u001b[0;36m_request\u001b[0;34m(self, route, method, parameters)\u001b[0m\n\u001b[1;32m    186\u001b[0m                 \u001b[0;31m# native Kite errors\u001b[0m\u001b[0;34m\u001b[0m\u001b[0;34m\u001b[0m\u001b[0;34m\u001b[0m\u001b[0m\n\u001b[1;32m    187\u001b[0m                 \u001b[0mexp\u001b[0m \u001b[0;34m=\u001b[0m \u001b[0mgetattr\u001b[0m\u001b[0;34m(\u001b[0m\u001b[0mex\u001b[0m\u001b[0;34m,\u001b[0m \u001b[0mdata\u001b[0m\u001b[0;34m[\u001b[0m\u001b[0;34m\"error_type\"\u001b[0m\u001b[0;34m]\u001b[0m\u001b[0;34m,\u001b[0m \u001b[0mex\u001b[0m\u001b[0;34m.\u001b[0m\u001b[0mGeneralException\u001b[0m\u001b[0;34m)\u001b[0m\u001b[0;34m\u001b[0m\u001b[0;34m\u001b[0m\u001b[0m\n\u001b[0;32m--> 188\u001b[0;31m                 \u001b[0;32mraise\u001b[0m \u001b[0mexp\u001b[0m\u001b[0;34m(\u001b[0m\u001b[0mdata\u001b[0m\u001b[0;34m[\u001b[0m\u001b[0;34m\"message\"\u001b[0m\u001b[0;34m]\u001b[0m\u001b[0;34m,\u001b[0m \u001b[0mcode\u001b[0m\u001b[0;34m=\u001b[0m\u001b[0mr\u001b[0m\u001b[0;34m.\u001b[0m\u001b[0mstatus_code\u001b[0m\u001b[0;34m)\u001b[0m\u001b[0;34m\u001b[0m\u001b[0;34m\u001b[0m\u001b[0m\n\u001b[0m\u001b[1;32m    189\u001b[0m \u001b[0;34m\u001b[0m\u001b[0m\n\u001b[1;32m    190\u001b[0m             \u001b[0;32mreturn\u001b[0m \u001b[0mdata\u001b[0m\u001b[0;34m[\u001b[0m\u001b[0;34m\"data\"\u001b[0m\u001b[0;34m]\u001b[0m\u001b[0;34m\u001b[0m\u001b[0;34m\u001b[0m\u001b[0m\n",
      "\u001b[0;31mTokenException\u001b[0m: Incorrect `api_key` or `access_token`."
     ]
    }
   ],
   "source": [
    "while True:\n",
    "    get_all_stats()"
   ]
  },
  {
   "cell_type": "code",
   "execution_count": null,
   "id": "e7ac8967",
   "metadata": {},
   "outputs": [],
   "source": []
  },
  {
   "cell_type": "code",
   "execution_count": null,
   "id": "c333374b",
   "metadata": {
    "ExecuteTime": {
     "end_time": "2021-07-15T08:18:10.850034Z",
     "start_time": "2021-07-15T08:17:49.474Z"
    }
   },
   "outputs": [],
   "source": [
    "# ########## OCO GTT SAMPLE ########### LOADED !!! DO NOT EXECUTE !!!!!   ########\n",
    "# hemang_zerodha.zerodha_user.place_gtt(\n",
    "#     hemang_zerodha.zerodha_user.GTT_TYPE_OCO,\n",
    "                                      \n",
    "#     'NIFTY21JULFUT',\n",
    "                                      \n",
    "#     hemang_zerodha.zerodha_user.EXCHANGE_NFO,\n",
    "                                      \n",
    "#                                     [ 15540.9,16175.25,],\n",
    "#                                       16000.25,\n",
    "#                                        [{'exchange': 'NFO',\n",
    "#                                         'tradingsymbol': 'NIFTY21JULFUT',\n",
    "#                                         'product': 'NRML',\n",
    "#                                         'order_type': 'LIMIT',\n",
    "#                                         'transaction_type': 'BUY',\n",
    "#                                         'quantity': 50,\n",
    "#                                         'price': 15540.95,\n",
    "#                                         'result': None},\n",
    "#                                        {'exchange': 'NFO',\n",
    "#                                         'tradingsymbol': 'NIFTY21JULFUT',\n",
    "#                                         'product': 'NRML',\n",
    "#                                         'order_type': 'LIMIT',\n",
    "#                                         'transaction_type': 'BUY',\n",
    "#                                         'quantity': 50,\n",
    "#                                         'price': 16175.0,\n",
    "#                                         'result': None}],)\n",
    "# ################################################################################\n",
    "\n",
    "# ########## OCO GTT SAMPLE ########### LOADED !!! DO NOT EXECUTE !!!!!   ########\n",
    "# hemang_zerodha.zerodha_user.place_gtt(\n",
    "#     hemang_zerodha.zerodha_user.GTT_TYPE_SINGLE,\n",
    "#     'NIFTY21JULFUT',\n",
    "#     hemang_zerodha.zerodha_user.EXCHANGE_NFO,\n",
    "#                                     [ 428.00,],\n",
    "#                                       431.05,\n",
    "#                                        [{'exchange': 'NSE',\n",
    "#                                         'tradingsymbol': 'SBIN',\n",
    "#                                         'product': 'NRML',\n",
    "#                                         'order_type': 'MARKET',\n",
    "#                                         'transaction_type': 'BUY',\n",
    "#                                         'quantity': 50,\n",
    "#                                         'price': 428.00,\n",
    "#                                         'result': None},],)\n",
    "# ################################################################################\n",
    "# # [{'id': 50600729,\n",
    "# #   'user_id': 'FC5917',\n",
    "# #   'parent_trigger': None,\n",
    "# #   'type': 'two-leg',\n",
    "# #   'created_at': '2021-07-14 21:06:21',\n",
    "# #   'updated_at': '2021-07-14 21:06:21',\n",
    "# #   'expires_at': '2021-07-30 00:00:00',\n",
    "# #   'status': 'active',\n",
    "# #   'condition': {'exchange': 'NFO',\n",
    "# #    'last_price': 15858.1,\n",
    "# #    'tradingsymbol': 'NIFTY21JULFUT',\n",
    "# #    'trigger_values': [15540.9, 16175.25],\n",
    "# #    'instrument_token': 13614338},\n",
    "# #   'orders': [{'exchange': 'NFO',\n",
    "# #     'tradingsymbol': 'NIFTY21JULFUT',\n",
    "# #     'product': 'NRML',\n",
    "# #     'order_type': 'LIMIT',\n",
    "# #     'transaction_type': 'SELL',\n",
    "# #     'quantity': 50,\n",
    "# #     'price': 15540.95,\n",
    "# #     'result': None},\n",
    "# #    {'exchange': 'NFO',\n",
    "# #     'tradingsymbol': 'NIFTY21JULFUT',\n",
    "# #     'product': 'NRML',\n",
    "# #     'order_type': 'LIMIT',\n",
    "# #     'transaction_type': 'SELL',\n",
    "# #     'quantity': 50,\n",
    "# #     'price': 16175.5,\n",
    "# #     'result': None}],\n",
    "# #   'meta': {}}]\n",
    "# ################################################################################"
   ]
  },
  {
   "cell_type": "code",
   "execution_count": null,
   "id": "eb194d3e",
   "metadata": {},
   "outputs": [],
   "source": [
    "st.dataframe()"
   ]
  },
  {
   "cell_type": "code",
   "execution_count": null,
   "id": "9bb3dd27",
   "metadata": {},
   "outputs": [],
   "source": []
  }
 ],
 "metadata": {
  "hide_input": false,
  "kernelspec": {
   "display_name": "Python 3.9.5 64-bit",
   "language": "python",
   "name": "python395jvsc74a57bd0916dbcbb3f70747c44a77c7bcd40155683ae19c65e1c03b4aa3499c5328201f1"
  },
  "language_info": {
   "codemirror_mode": {
    "name": "ipython",
    "version": 3
   },
   "file_extension": ".py",
   "mimetype": "text/x-python",
   "name": "python",
   "nbconvert_exporter": "python",
   "pygments_lexer": "ipython3",
   "version": "3.9.5"
  },
  "varInspector": {
   "cols": {
    "lenName": 16,
    "lenType": 16,
    "lenVar": 40
   },
   "kernels_config": {
    "python": {
     "delete_cmd_postfix": "",
     "delete_cmd_prefix": "del ",
     "library": "var_list.py",
     "varRefreshCmd": "print(var_dic_list())"
    },
    "r": {
     "delete_cmd_postfix": ") ",
     "delete_cmd_prefix": "rm(",
     "library": "var_list.r",
     "varRefreshCmd": "cat(var_dic_list()) "
    }
   },
   "types_to_exclude": [
    "module",
    "function",
    "builtin_function_or_method",
    "instance",
    "_Feature"
   ],
   "window_display": false
  }
 },
 "nbformat": 4,
 "nbformat_minor": 5
}
