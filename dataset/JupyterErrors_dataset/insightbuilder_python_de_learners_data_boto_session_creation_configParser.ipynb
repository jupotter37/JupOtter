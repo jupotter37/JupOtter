{
 "cells": [
  {
   "cell_type": "markdown",
   "id": "622b2730",
   "metadata": {},
   "source": [
    "### How to create Boto3 Session"
   ]
  },
  {
   "cell_type": "code",
   "execution_count": null,
   "id": "c4f339c4",
   "metadata": {},
   "outputs": [],
   "source": [
    "#### Not required to execute if already installed\n",
    "!pip install awswrangler boto3 pandas configparser"
   ]
  },
  {
   "cell_type": "code",
   "execution_count": 1,
   "id": "dfae5969",
   "metadata": {},
   "outputs": [],
   "source": [
    "#import below libraries\n",
    "import awswrangler as wr\n",
    "import pandas as pd\n",
    "import boto3\n",
    "import warnings \n",
    "warnings.filterwarnings('ignore')\n",
    "import configparser"
   ]
  },
  {
   "cell_type": "code",
   "execution_count": 2,
   "id": "7ca185fe",
   "metadata": {},
   "outputs": [],
   "source": [
    "parser = configparser.ConfigParser()\n",
    "parser.read_string(\"\"\"\n",
    "[DEFAULT]\n",
    "location = upper left\n",
    "visible = yes\n",
    "editable = no\n",
    "color = blue\n",
    "\n",
    "[main]\n",
    "title = Main Menu\n",
    "color = green\n",
    "\n",
    "[options]\n",
    "title = Options\n",
    "\"\"\")"
   ]
  },
  {
   "cell_type": "code",
   "execution_count": 3,
   "id": "c146d789",
   "metadata": {},
   "outputs": [
    {
     "data": {
      "text/plain": [
       "configparser.ConfigParser"
      ]
     },
     "execution_count": 3,
     "metadata": {},
     "output_type": "execute_result"
    }
   ],
   "source": [
    "type(parser)"
   ]
  },
  {
   "cell_type": "code",
   "execution_count": 4,
   "id": "c42a6c45",
   "metadata": {},
   "outputs": [
    {
     "data": {
      "text/plain": [
       "<Section: DEFAULT>"
      ]
     },
     "execution_count": 4,
     "metadata": {},
     "output_type": "execute_result"
    }
   ],
   "source": [
    "parser['DEFAULT']"
   ]
  },
  {
   "cell_type": "code",
   "execution_count": 7,
   "id": "1dcf81ab",
   "metadata": {},
   "outputs": [],
   "source": [
    "#parser['DEFAULT']['location']"
   ]
  },
  {
   "cell_type": "code",
   "execution_count": 6,
   "id": "96c33761",
   "metadata": {},
   "outputs": [],
   "source": [
    "location = parser['DEFAULT']['location']"
   ]
  },
  {
   "cell_type": "code",
   "execution_count": 10,
   "id": "498d7014",
   "metadata": {},
   "outputs": [],
   "source": [
    "#location"
   ]
  },
  {
   "cell_type": "code",
   "execution_count": 11,
   "id": "5f324e13",
   "metadata": {},
   "outputs": [
    {
     "data": {
      "text/plain": [
       "'no'"
      ]
     },
     "execution_count": 11,
     "metadata": {},
     "output_type": "execute_result"
    }
   ],
   "source": [
    "parser['DEFAULT']['editable']"
   ]
  },
  {
   "cell_type": "code",
   "execution_count": 12,
   "id": "ea4583f6",
   "metadata": {},
   "outputs": [],
   "source": [
    "#reading the credentials securely.\n",
    "credentials = configparser.ConfigParser()"
   ]
  },
  {
   "cell_type": "code",
   "execution_count": 13,
   "id": "6dc2cbdc",
   "metadata": {},
   "outputs": [],
   "source": [
    "#use read_file method\n",
    "credentials.read_file(open('example.conf'))"
   ]
  },
  {
   "cell_type": "code",
   "execution_count": 14,
   "id": "aae18d56",
   "metadata": {},
   "outputs": [],
   "source": [
    "#Reading in the credentials into Python variables. No can see them\n",
    "aws_key = credentials[\"AWS\"][\"KEY\"]\n",
    "aws_secret = credentials[\"AWS\"][\"SECRET\"]\n",
    "region = credentials[\"AWS\"][\"REGION\"]"
   ]
  },
  {
   "cell_type": "code",
   "execution_count": 17,
   "id": "1a58d5e9",
   "metadata": {},
   "outputs": [
    {
     "data": {
      "text/plain": [
       "'AKIA^^^^^'"
      ]
     },
     "execution_count": 17,
     "metadata": {},
     "output_type": "execute_result"
    }
   ],
   "source": [
    "aws_key"
   ]
  },
  {
   "cell_type": "code",
   "execution_count": 19,
   "id": "26508d48",
   "metadata": {},
   "outputs": [],
   "source": [
    "#aws_secret"
   ]
  },
  {
   "cell_type": "code",
   "execution_count": 20,
   "id": "476cc46b",
   "metadata": {},
   "outputs": [],
   "source": [
    "#credentials['POSTGRES']['PG_HOST']"
   ]
  },
  {
   "cell_type": "code",
   "execution_count": 11,
   "id": "aa406607",
   "metadata": {},
   "outputs": [
    {
     "data": {
      "text/plain": [
       "Session(region_name='us-east-1')"
      ]
     },
     "execution_count": 11,
     "metadata": {},
     "output_type": "execute_result"
    }
   ],
   "source": [
    "boto3.Session()"
   ]
  },
  {
   "cell_type": "code",
   "execution_count": 18,
   "id": "f5f06721",
   "metadata": {},
   "outputs": [],
   "source": [
    "#Creating the Session\n",
    "your_session = boto3.Session(aws_access_key_id=aws_key,\n",
    "                            aws_secret_access_key=aws_secret,\n",
    "                            region_name=region)"
   ]
  },
  {
   "cell_type": "markdown",
   "id": "db0c9dad",
   "metadata": {},
   "source": [
    "### Using the wr.s3.list_buckets() to verify your session"
   ]
  },
  {
   "cell_type": "code",
   "execution_count": 19,
   "id": "a95576c0",
   "metadata": {},
   "outputs": [
    {
     "ename": "ClientError",
     "evalue": "An error occurred (InvalidAccessKeyId) when calling the ListBuckets operation: The AWS Access Key Id you provided does not exist in our records.",
     "output_type": "error",
     "traceback": [
      "\u001b[0;31m---------------------------------------------------------------------------\u001b[0m",
      "\u001b[0;31mClientError\u001b[0m                               Traceback (most recent call last)",
      "Cell \u001b[0;32mIn[19], line 2\u001b[0m\n\u001b[1;32m      1\u001b[0m \u001b[38;5;66;03m#verifying your session by listing the buckets\u001b[39;00m\n\u001b[0;32m----> 2\u001b[0m your_buckets \u001b[38;5;241m=\u001b[39m \u001b[43mwr\u001b[49m\u001b[38;5;241;43m.\u001b[39;49m\u001b[43ms3\u001b[49m\u001b[38;5;241;43m.\u001b[39;49m\u001b[43mlist_buckets\u001b[49m\u001b[43m(\u001b[49m\u001b[43mboto3_session\u001b[49m\u001b[38;5;241;43m=\u001b[39;49m\u001b[43myour_session\u001b[49m\u001b[43m)\u001b[49m\n\u001b[1;32m      3\u001b[0m your_buckets\n",
      "File \u001b[0;32m~/.local/lib/python3.10/site-packages/awswrangler/s3/_list.py:376\u001b[0m, in \u001b[0;36mlist_buckets\u001b[0;34m(boto3_session)\u001b[0m\n\u001b[1;32m    362\u001b[0m \u001b[38;5;250m\u001b[39m\u001b[38;5;124;03m\"\"\"List Amazon S3 buckets.\u001b[39;00m\n\u001b[1;32m    363\u001b[0m \n\u001b[1;32m    364\u001b[0m \u001b[38;5;124;03mParameters\u001b[39;00m\n\u001b[0;32m   (...)\u001b[0m\n\u001b[1;32m    373\u001b[0m \n\u001b[1;32m    374\u001b[0m \u001b[38;5;124;03m\"\"\"\u001b[39;00m\n\u001b[1;32m    375\u001b[0m client_s3: boto3\u001b[38;5;241m.\u001b[39mclient \u001b[38;5;241m=\u001b[39m _utils\u001b[38;5;241m.\u001b[39mclient(service_name\u001b[38;5;241m=\u001b[39m\u001b[38;5;124m\"\u001b[39m\u001b[38;5;124ms3\u001b[39m\u001b[38;5;124m\"\u001b[39m, session\u001b[38;5;241m=\u001b[39mboto3_session)\n\u001b[0;32m--> 376\u001b[0m buckets \u001b[38;5;241m=\u001b[39m \u001b[43mclient_s3\u001b[49m\u001b[38;5;241;43m.\u001b[39;49m\u001b[43mlist_buckets\u001b[49m\u001b[43m(\u001b[49m\u001b[43m)\u001b[49m[\u001b[38;5;124m\"\u001b[39m\u001b[38;5;124mBuckets\u001b[39m\u001b[38;5;124m\"\u001b[39m]\n\u001b[1;32m    377\u001b[0m \u001b[38;5;28;01mreturn\u001b[39;00m [bucket[\u001b[38;5;124m\"\u001b[39m\u001b[38;5;124mName\u001b[39m\u001b[38;5;124m\"\u001b[39m] \u001b[38;5;28;01mfor\u001b[39;00m bucket \u001b[38;5;129;01min\u001b[39;00m buckets]\n",
      "File \u001b[0;32m~/.local/lib/python3.10/site-packages/botocore/client.py:507\u001b[0m, in \u001b[0;36mClientCreator._create_api_method.<locals>._api_call\u001b[0;34m(self, *args, **kwargs)\u001b[0m\n\u001b[1;32m    503\u001b[0m     \u001b[38;5;28;01mraise\u001b[39;00m \u001b[38;5;167;01mTypeError\u001b[39;00m(\n\u001b[1;32m    504\u001b[0m         \u001b[38;5;124mf\u001b[39m\u001b[38;5;124m\"\u001b[39m\u001b[38;5;132;01m{\u001b[39;00mpy_operation_name\u001b[38;5;132;01m}\u001b[39;00m\u001b[38;5;124m() only accepts keyword arguments.\u001b[39m\u001b[38;5;124m\"\u001b[39m\n\u001b[1;32m    505\u001b[0m     )\n\u001b[1;32m    506\u001b[0m \u001b[38;5;66;03m# The \"self\" in this scope is referring to the BaseClient.\u001b[39;00m\n\u001b[0;32m--> 507\u001b[0m \u001b[38;5;28;01mreturn\u001b[39;00m \u001b[38;5;28;43mself\u001b[39;49m\u001b[38;5;241;43m.\u001b[39;49m\u001b[43m_make_api_call\u001b[49m\u001b[43m(\u001b[49m\u001b[43moperation_name\u001b[49m\u001b[43m,\u001b[49m\u001b[43m \u001b[49m\u001b[43mkwargs\u001b[49m\u001b[43m)\u001b[49m\n",
      "File \u001b[0;32m~/.local/lib/python3.10/site-packages/botocore/client.py:943\u001b[0m, in \u001b[0;36mBaseClient._make_api_call\u001b[0;34m(self, operation_name, api_params)\u001b[0m\n\u001b[1;32m    941\u001b[0m     error_code \u001b[38;5;241m=\u001b[39m parsed_response\u001b[38;5;241m.\u001b[39mget(\u001b[38;5;124m\"\u001b[39m\u001b[38;5;124mError\u001b[39m\u001b[38;5;124m\"\u001b[39m, {})\u001b[38;5;241m.\u001b[39mget(\u001b[38;5;124m\"\u001b[39m\u001b[38;5;124mCode\u001b[39m\u001b[38;5;124m\"\u001b[39m)\n\u001b[1;32m    942\u001b[0m     error_class \u001b[38;5;241m=\u001b[39m \u001b[38;5;28mself\u001b[39m\u001b[38;5;241m.\u001b[39mexceptions\u001b[38;5;241m.\u001b[39mfrom_code(error_code)\n\u001b[0;32m--> 943\u001b[0m     \u001b[38;5;28;01mraise\u001b[39;00m error_class(parsed_response, operation_name)\n\u001b[1;32m    944\u001b[0m \u001b[38;5;28;01melse\u001b[39;00m:\n\u001b[1;32m    945\u001b[0m     \u001b[38;5;28;01mreturn\u001b[39;00m parsed_response\n",
      "\u001b[0;31mClientError\u001b[0m: An error occurred (InvalidAccessKeyId) when calling the ListBuckets operation: The AWS Access Key Id you provided does not exist in our records."
     ]
    }
   ],
   "source": [
    "#verifying your session by listing the buckets\n",
    "your_buckets = wr.s3.list_buckets(boto3_session=your_session)\n",
    "your_buckets"
   ]
  },
  {
   "cell_type": "markdown",
   "id": "5b6d1bd3",
   "metadata": {},
   "source": [
    "### If the above command throws error, then \n",
    "\n",
    "1. Check if your Access credentials are active in AWS Console\n",
    "2. Check you Internet Connection\n",
    "3. Check your permissions in AWS console, if your account is provided by your company"
   ]
  }
 ],
 "metadata": {
  "kernelspec": {
   "display_name": "Python 3 (ipykernel)",
   "language": "python",
   "name": "python3"
  },
  "language_info": {
   "codemirror_mode": {
    "name": "ipython",
    "version": 3
   },
   "file_extension": ".py",
   "mimetype": "text/x-python",
   "name": "python",
   "nbconvert_exporter": "python",
   "pygments_lexer": "ipython3",
   "version": "3.10.9"
  }
 },
 "nbformat": 4,
 "nbformat_minor": 5
}
