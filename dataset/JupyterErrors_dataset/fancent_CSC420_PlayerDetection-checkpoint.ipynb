{
 "cells": [
  {
   "cell_type": "code",
   "execution_count": 1,
   "metadata": {},
   "outputs": [
    {
     "ename": "ModuleNotFoundError",
     "evalue": "No module named 'torch'",
     "output_type": "error",
     "traceback": [
      "\u001b[0;31m---------------------------------------------------------------------------\u001b[0m",
      "\u001b[0;31mModuleNotFoundError\u001b[0m                       Traceback (most recent call last)",
      "\u001b[0;32m<ipython-input-1-3829d6d8350c>\u001b[0m in \u001b[0;36m<module>\u001b[0;34m\u001b[0m\n\u001b[1;32m      1\u001b[0m \u001b[0;32mimport\u001b[0m \u001b[0mos\u001b[0m\u001b[0;34m\u001b[0m\u001b[0;34m\u001b[0m\u001b[0m\n\u001b[0;32m----> 2\u001b[0;31m \u001b[0;32mimport\u001b[0m \u001b[0mtorch\u001b[0m\u001b[0;34m\u001b[0m\u001b[0;34m\u001b[0m\u001b[0m\n\u001b[0m\u001b[1;32m      3\u001b[0m \u001b[0;32mfrom\u001b[0m \u001b[0mtorch\u001b[0m\u001b[0;34m.\u001b[0m\u001b[0mutils\u001b[0m\u001b[0;34m.\u001b[0m\u001b[0mdata\u001b[0m \u001b[0;32mimport\u001b[0m \u001b[0mDataLoader\u001b[0m\u001b[0;34m,\u001b[0m \u001b[0mDataset\u001b[0m\u001b[0;34m\u001b[0m\u001b[0;34m\u001b[0m\u001b[0m\n\u001b[1;32m      4\u001b[0m \u001b[0;32mfrom\u001b[0m \u001b[0mtorchvision\u001b[0m\u001b[0;34m.\u001b[0m\u001b[0mtransforms\u001b[0m \u001b[0;32mimport\u001b[0m \u001b[0mToTensor\u001b[0m\u001b[0;34m,\u001b[0m \u001b[0mToPILImage\u001b[0m\u001b[0;34m\u001b[0m\u001b[0;34m\u001b[0m\u001b[0m\n\u001b[1;32m      5\u001b[0m \u001b[0;32mfrom\u001b[0m \u001b[0mtorchvision\u001b[0m\u001b[0;34m.\u001b[0m\u001b[0mmodels\u001b[0m\u001b[0;34m.\u001b[0m\u001b[0mdetection\u001b[0m \u001b[0;32mimport\u001b[0m \u001b[0mfasterrcnn_resnet50_fpn\u001b[0m\u001b[0;34m\u001b[0m\u001b[0;34m\u001b[0m\u001b[0m\n",
      "\u001b[0;31mModuleNotFoundError\u001b[0m: No module named 'torch'"
     ]
    }
   ],
   "source": [
    "import os\n",
    "import torch\n",
    "from torch.utils.data import DataLoader, Dataset\n",
    "from torchvision.transforms import ToTensor, ToPILImage\n",
    "from torchvision.models.detection import fasterrcnn_resnet50_fpn\n",
    "from torchvision.models.detection.faster_rcnn import FastRCNNPredictor\n",
    "from PIL import Image"
   ]
  },
  {
   "cell_type": "code",
   "execution_count": 8,
   "metadata": {},
   "outputs": [],
   "source": [
    "class PlayerDataset(Dataset):\n",
    "    def __init__(self, root):\n",
    "        self.root = root\n",
    "        self.images = list(sorted(os.listdir(root + '/images')))\n",
    "        self.targets = [target for target in list(sorted(os.listdir(root + '/targets'))) if target != 'classes.txt']\n",
    "    \n",
    "    def __len__(self):\n",
    "        return len(self.images)\n",
    "    \n",
    "    def __getitem__(self, idx):\n",
    "        image_path = os.path.join(self.root, 'images', self.images[idx])\n",
    "        target_path = os.path.join(self.root, 'targets', self.targets[idx])\n",
    "        \n",
    "        image = ToTensor()(Image.open(image_path).convert(\"RGB\"))\n",
    "        \n",
    "        f = open(target_path)\n",
    "        target = f.readline().strip().split()\n",
    "        \n",
    "        w = 1280\n",
    "        h = 720\n",
    "        \n",
    "        center_x = float(target[1]) * w\n",
    "        center_y = float(target[2]) * h\n",
    "        bbox_w = float(target[3]) * w\n",
    "        bbox_h = float(target[4]) * h\n",
    "        \n",
    "        x0 = round(center_x - (bbox_w / 2))\n",
    "        x1 = round(center_x + (bbox_w / 2))\n",
    "        y0 = round(center_y - (bbox_h / 2))\n",
    "        y1 = round(center_y + (bbox_h / 2))\n",
    "        \n",
    "        print(x1 - x0)\n",
    "        print(y1 - y0)\n",
    "        \n",
    "        boxes = torch.as_tensor([x0, y0, x1, y1], dtype=torch.float32)\n",
    "        labels = torch.as_tensor(0, dtype=torch.int64)\n",
    "        \n",
    "        target = [{'boxes': boxes, 'labels': labels}]\n",
    "        \n",
    "        return image, target"
   ]
  },
  {
   "cell_type": "code",
   "execution_count": 9,
   "metadata": {},
   "outputs": [],
   "source": [
    "def train_model(model, optimizer, lr_scheduler, data_loader, device, num_epochs):\n",
    "    model.train()\n",
    "    for epoch in range(num_epochs):\n",
    "        running_loss = 0.0\n",
    "        for images, targets in data_loader:\n",
    "            images = list(image.to(device) for image in images)\n",
    "            targets = [{k: v.to(device) for k, v in t.items()} for t in targets]\n",
    "            print(targets)\n",
    "            \n",
    "            loss_dict = model(images, targets)\n",
    "            losses = sum(loss for loss in loss_dict.values())\n",
    "            \n",
    "            optimizer.zero_grad()\n",
    "            losses.backward()\n",
    "            optimizer.step()\n",
    "            lr_scheduler.step()\n",
    "            \n",
    "            running_loss += losses.item()\n",
    "            print('epoch:%d loss: %.3f' % (epoch + 1, running_loss))"
   ]
  },
  {
   "cell_type": "code",
   "execution_count": 10,
   "metadata": {},
   "outputs": [],
   "source": [
    "def evaluate(model, data_loader, device):\n",
    "    model.eval()\n",
    "    cpu_device = torch.device(\"cpu\")\n",
    "    with torch.no_grad():\n",
    "        for images, targets in data_loader:\n",
    "            images = list(image.to(device) for image in images)\n",
    "            targets = [{k: v.to(device) for k, v in t.items()} for t in targets]\n",
    "            \n",
    "            outputs = [{k: v.to(cpu_device) for k, v in t.items()} for t in model(images)]\n",
    "            print(outputs)"
   ]
  },
  {
   "cell_type": "code",
   "execution_count": 11,
   "metadata": {},
   "outputs": [],
   "source": [
    "model = fasterrcnn_resnet50_fpn(num_classes=1)\n",
    "device = torch.device('cuda') if torch.cuda.is_available() else torch.device('cpu')\n",
    "model.to(device)\n",
    "\n",
    "train_dataset = PlayerDataset('data/train')\n",
    "test_dataset = PlayerDataset('data/test')\n",
    "\n",
    "train_data_loader = DataLoader(train_dataset, batch_size=1, shuffle=True, num_workers=4)\n",
    "test_data_loader = DataLoader(test_dataset, batch_size=1, shuffle=False, num_workers=4)\n",
    "\n",
    "params = [p for p in model.parameters() if p.requires_grad]\n",
    "optimizer = torch.optim.SGD(params, lr=0.005, momentum=0.9, weight_decay=0.0005)\n",
    "lr_scheduler = torch.optim.lr_scheduler.StepLR(optimizer, step_size=3, gamma=0.1)"
   ]
  },
  {
   "cell_type": "code",
   "execution_count": null,
   "metadata": {},
   "outputs": [
    {
     "name": "stdout",
     "output_type": "stream",
     "text": [
      "80\n",
      "136\n",
      "85\n",
      "67\n",
      "151\n",
      "146\n",
      "54\n",
      "131\n",
      "56\n",
      "146\n",
      "61\n",
      "147\n",
      "81\n",
      "151\n",
      "66\n",
      "150\n",
      "48\n",
      "150\n",
      "[{'boxes': tensor([[ 49., 227., 134., 378.]]), 'labels': tensor([0])}]\n",
      "89\n",
      "146\n",
      "epoch:1 loss: 0.698\n",
      "[{'boxes': tensor([[202., 212., 282., 348.]]), 'labels': tensor([0])}]\n",
      "62\n",
      "147\n",
      "epoch:1 loss: 1.395\n",
      "[{'boxes': tensor([[  9., 232.,  76., 378.]]), 'labels': tensor([0])}]\n"
     ]
    }
   ],
   "source": [
    "train_model(model, optimizer, lr_scheduler, train_data_loader, device, 1)"
   ]
  },
  {
   "cell_type": "code",
   "execution_count": null,
   "metadata": {},
   "outputs": [],
   "source": [
    "evaluate(model, test_data_loader, device)"
   ]
  }
 ],
 "metadata": {
  "kernelspec": {
   "display_name": "Python 3",
   "language": "python",
   "name": "python3"
  },
  "language_info": {
   "codemirror_mode": {
    "name": "ipython",
    "version": 3
   },
   "file_extension": ".py",
   "mimetype": "text/x-python",
   "name": "python",
   "nbconvert_exporter": "python",
   "pygments_lexer": "ipython3",
   "version": "3.7.3"
  }
 },
 "nbformat": 4,
 "nbformat_minor": 2
}
