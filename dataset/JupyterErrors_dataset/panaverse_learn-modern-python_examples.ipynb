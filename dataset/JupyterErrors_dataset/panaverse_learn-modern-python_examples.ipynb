{
 "cells": [
  {
   "cell_type": "code",
   "execution_count": 2,
   "metadata": {},
   "outputs": [
    {
     "name": "stdout",
     "output_type": "stream",
     "text": [
      "Collecting faker\n",
      "  Downloading Faker-19.13.0-py3-none-any.whl (1.7 MB)\n",
      "\u001b[2K     \u001b[90m━━━━━━━━━━━━━━━━━━━━━━━━━━━━━━━━━━━━━━━━\u001b[0m \u001b[32m1.7/1.7 MB\u001b[0m \u001b[31m1.9 MB/s\u001b[0m eta \u001b[36m0:00:00\u001b[0ma \u001b[36m0:00:01\u001b[0m0m\n",
      "\u001b[?25hRequirement already satisfied: python-dateutil>=2.4 in /Users/m.qasim/anaconda3/lib/python3.11/site-packages (from faker) (2.8.2)\n",
      "Requirement already satisfied: six>=1.5 in /Users/m.qasim/anaconda3/lib/python3.11/site-packages (from python-dateutil>=2.4->faker) (1.16.0)\n",
      "Installing collected packages: faker\n",
      "Successfully installed faker-19.13.0\n",
      "Note: you may need to restart the kernel to use updated packages.\n"
     ]
    }
   ],
   "source": [
    "%pip install faker"
   ]
  },
  {
   "cell_type": "code",
   "execution_count": 3,
   "metadata": {},
   "outputs": [
    {
     "ename": "AttributeError",
     "evalue": "'SmartDatalake' object has no attribute '_llm'",
     "output_type": "error",
     "traceback": [
      "\u001b[0;31m---------------------------------------------------------------------------\u001b[0m",
      "\u001b[0;31mAttributeError\u001b[0m                            Traceback (most recent call last)",
      "Cell \u001b[0;32mIn[3], line 13\u001b[0m\n\u001b[1;32m      4\u001b[0m df: pd\u001b[39m.\u001b[39mDataFrame \u001b[39m=\u001b[39m pd\u001b[39m.\u001b[39mDataFrame({\n\u001b[1;32m      5\u001b[0m     \u001b[39m\"\u001b[39m\u001b[39mcountry\u001b[39m\u001b[39m\"\u001b[39m: [\n\u001b[1;32m      6\u001b[0m         \u001b[39m\"\u001b[39m\u001b[39mUnited States\u001b[39m\u001b[39m\"\u001b[39m, \u001b[39m\"\u001b[39m\u001b[39mUnited Kingdom\u001b[39m\u001b[39m\"\u001b[39m, \u001b[39m\"\u001b[39m\u001b[39mFrance\u001b[39m\u001b[39m\"\u001b[39m, \u001b[39m\"\u001b[39m\u001b[39mGermany\u001b[39m\u001b[39m\"\u001b[39m, \u001b[39m\"\u001b[39m\u001b[39mItaly\u001b[39m\u001b[39m\"\u001b[39m, \u001b[39m\"\u001b[39m\u001b[39mSpain\u001b[39m\u001b[39m\"\u001b[39m, \u001b[39m\"\u001b[39m\u001b[39mCanada\u001b[39m\u001b[39m\"\u001b[39m, \u001b[39m\"\u001b[39m\u001b[39mAustralia\u001b[39m\u001b[39m\"\u001b[39m, \u001b[39m\"\u001b[39m\u001b[39mJapan\u001b[39m\u001b[39m\"\u001b[39m, \u001b[39m\"\u001b[39m\u001b[39mChina\u001b[39m\u001b[39m\"\u001b[39m],\n\u001b[0;32m   (...)\u001b[0m\n\u001b[1;32m      9\u001b[0m     ],\n\u001b[1;32m     10\u001b[0m })\n\u001b[1;32m     12\u001b[0m df1 : SmartDataframe \u001b[39m=\u001b[39m SmartDataframe(df)\n\u001b[0;32m---> 13\u001b[0m df1\u001b[39m.\u001b[39mchat(\u001b[39m'\u001b[39m\u001b[39mWhich are the countries with GDP greater than 3000000000000?\u001b[39m\u001b[39m'\u001b[39m)\n",
      "File \u001b[0;32m~/anaconda3/lib/python3.11/site-packages/pandasai/smart_dataframe/__init__.py:330\u001b[0m, in \u001b[0;36mSmartDataframe.chat\u001b[0;34m(self, query, output_type)\u001b[0m\n\u001b[1;32m    309\u001b[0m \u001b[39mdef\u001b[39;00m \u001b[39mchat\u001b[39m(\u001b[39mself\u001b[39m, query: \u001b[39mstr\u001b[39m, output_type: Optional[\u001b[39mstr\u001b[39m] \u001b[39m=\u001b[39m \u001b[39mNone\u001b[39;00m):\n\u001b[1;32m    310\u001b[0m \u001b[39m    \u001b[39m\u001b[39m\"\"\"\u001b[39;00m\n\u001b[1;32m    311\u001b[0m \u001b[39m    Run a query on the dataframe.\u001b[39;00m\n\u001b[1;32m    312\u001b[0m \n\u001b[0;32m   (...)\u001b[0m\n\u001b[1;32m    328\u001b[0m \u001b[39m        ValueError: If the query is empty\u001b[39;00m\n\u001b[1;32m    329\u001b[0m \u001b[39m    \"\"\"\u001b[39;00m\n\u001b[0;32m--> 330\u001b[0m     \u001b[39mreturn\u001b[39;00m \u001b[39mself\u001b[39m\u001b[39m.\u001b[39mlake\u001b[39m.\u001b[39mchat(query, output_type)\n",
      "File \u001b[0;32m~/anaconda3/lib/python3.11/site-packages/pandasai/smart_datalake/__init__.py:357\u001b[0m, in \u001b[0;36mSmartDatalake.chat\u001b[0;34m(self, query, output_type)\u001b[0m\n\u001b[1;32m    354\u001b[0m \u001b[39mself\u001b[39m\u001b[39m.\u001b[39m_query_exec_tracker\u001b[39m.\u001b[39mstart_new_track()\n\u001b[1;32m    356\u001b[0m \u001b[39mself\u001b[39m\u001b[39m.\u001b[39mlogger\u001b[39m.\u001b[39mlog(\u001b[39mf\u001b[39m\u001b[39m\"\u001b[39m\u001b[39mQuestion: \u001b[39m\u001b[39m{\u001b[39;00mquery\u001b[39m}\u001b[39;00m\u001b[39m\"\u001b[39m)\n\u001b[0;32m--> 357\u001b[0m \u001b[39mself\u001b[39m\u001b[39m.\u001b[39mlogger\u001b[39m.\u001b[39mlog(\u001b[39mf\u001b[39m\u001b[39m\"\u001b[39m\u001b[39mRunning PandasAI with \u001b[39m\u001b[39m{\u001b[39;00m\u001b[39mself\u001b[39m\u001b[39m.\u001b[39m_llm\u001b[39m.\u001b[39mtype\u001b[39m}\u001b[39;00m\u001b[39m LLM...\u001b[39m\u001b[39m\"\u001b[39m)\n\u001b[1;32m    359\u001b[0m \u001b[39mself\u001b[39m\u001b[39m.\u001b[39m_assign_prompt_id()\n\u001b[1;32m    361\u001b[0m \u001b[39mself\u001b[39m\u001b[39m.\u001b[39m_query_exec_tracker\u001b[39m.\u001b[39madd_query_info(\n\u001b[1;32m    362\u001b[0m     \u001b[39mself\u001b[39m\u001b[39m.\u001b[39m_conversation_id, \u001b[39mself\u001b[39m\u001b[39m.\u001b[39m_instance, query, output_type\n\u001b[1;32m    363\u001b[0m )\n",
      "\u001b[0;31mAttributeError\u001b[0m: 'SmartDatalake' object has no attribute '_llm'"
     ]
    }
   ],
   "source": [
    "from pandasai import SmartDataframe\n",
    "import pandas as pd\n",
    "\n",
    "df: pd.DataFrame = pd.DataFrame({\n",
    "    \"country\": [\n",
    "        \"United States\", \"United Kingdom\", \"France\", \"Germany\", \"Italy\", \"Spain\", \"Canada\", \"Australia\", \"Japan\", \"China\"],\n",
    "    \"gdp\": [\n",
    "        19294482071552, 2891615567872, 2411255037952, 3435817336832, 1745433788416, 1181205135360, 1607402389504, 1490967855104, 4380756541440, 14631844184064\n",
    "    ],\n",
    "})\n",
    "\n",
    "df1 : SmartDataframe = SmartDataframe(df)\n",
    "df1.chat('Which are the countries with GDP greater than 3000000000000?')"
   ]
  },
  {
   "cell_type": "code",
   "execution_count": 9,
   "metadata": {},
   "outputs": [
    {
     "name": "stdout",
     "output_type": "stream",
     "text": [
      "Teachers Table:\n",
      "   Teacher_ID                Name    Subject                          Email\n",
      "0           1   Natasha Hernandez       Math            james78@example.com\n",
      "1           2      Carmen Kennedy       Math        jessevargas@example.net\n",
      "2           3   Katherine Gilbert       Math        francisco45@example.net\n",
      "3           4     Zachary Johnson       Math   isabellamitchell@example.com\n",
      "4           5        Lauren Cowan       Math     richardhiggins@example.com\n",
      "5           6        James Garcia    Science              hchoi@example.com\n",
      "6           7    Walter Hernandez       Math             bmckay@example.net\n",
      "7           8    Samantha Sanders       Math  jacquelinesimpson@example.net\n",
      "8           9         Jason Price       Math             asmith@example.net\n",
      "9          10  Christopher Guerra  Geography       ericksongary@example.org\n",
      "\n",
      "Students Table:\n",
      "    Student_ID                 Name  Age      Grade  Teacher_ID\n",
      "0            1          Amanda Todd   12  5th Grade          10\n",
      "1            2    Elizabeth Edwards    7  4th Grade           9\n",
      "2            3      Andrew Robinson   11  3rd Grade           4\n",
      "3            4         Richard Hall    8  1st Grade           9\n",
      "4            5          Laurie Mays    9  1st Grade           5\n",
      "5            6   Michael Richardson   15  4th Grade           9\n",
      "6            7        Sarah Acevedo   17  5th Grade           6\n",
      "7            8        Charles Reyes   13  4th Grade           3\n",
      "8            9        Kerry Griffin   16  2nd Grade           6\n",
      "9           10         Lisa Leon MD    8  4th Grade           4\n",
      "10          11            Mary Wood   13  1st Grade           2\n",
      "11          12         Nicolas Webb   13  5th Grade           1\n",
      "12          13         Susan Knight    9  2nd Grade           3\n",
      "13          14       Natalie Oliver   11  2nd Grade           3\n",
      "14          15        Craig Dickson   15  4th Grade           1\n",
      "15          16         Kelly Garner   12  1st Grade           2\n",
      "16          17  Christopher Douglas   17  3rd Grade           6\n",
      "17          18      Benjamin Carter    6  1st Grade           2\n",
      "18          19         Brianna Neal   14  4th Grade           1\n",
      "19          20        Andrew Dennis   18  4th Grade          10\n",
      "20          21   Katherine Peterson    7  4th Grade           8\n",
      "21          22         William Ruiz   13  4th Grade           7\n",
      "22          23        Annette Davis   10  1st Grade           2\n",
      "23          24          Mary Moreno    5  4th Grade           9\n",
      "24          25        Michaela Yang   10  1st Grade           7\n",
      "25          26        Brandy Carter   13  1st Grade           8\n",
      "26          27         David Barker    5  1st Grade           1\n",
      "27          28  Michelle Delgado MD   12  4th Grade           9\n",
      "28          29        Pamela Potter    6  5th Grade           4\n",
      "29          30       Jasmine Powers    6  2nd Grade           2\n",
      "30          31          Teresa Best   15  5th Grade           1\n",
      "31          32         Alicia Blake   16  3rd Grade           6\n",
      "32          33      Jesse Gallagher   16  4th Grade           5\n",
      "33          34      Brian Berry PhD   17  2nd Grade           1\n",
      "34          35       Valerie Gamble   12  1st Grade           2\n",
      "35          36    Stephanie Simmons    6  4th Grade           5\n",
      "36          37   Stephanie Guerrero    8  2nd Grade          10\n",
      "37          38         Karen Mclean    8  2nd Grade           6\n",
      "38          39           Donald Liu    7  4th Grade           4\n",
      "39          40         Jacob Murphy   15  4th Grade           2\n",
      "40          41      Jennifer Barnes   15  1st Grade           7\n",
      "41          42           Edward Fox   18  3rd Grade           3\n",
      "42          43     Anthony Peterson   11  3rd Grade           3\n",
      "43          44           Allen Lamb   12  5th Grade           9\n",
      "44          45       Kenneth Horton   10  1st Grade           4\n",
      "45          46           Julia Ryan   13  4th Grade           6\n",
      "46          47         James Duncan   18  2nd Grade           3\n",
      "47          48     Mr. Timothy Todd    5  1st Grade           1\n",
      "48          49     Patrick Morrison   14  5th Grade           2\n",
      "49          50           Evan Myers   12  4th Grade           8\n",
      "\n",
      "Fees Table:\n",
      "    Payment_ID  Student_ID  Amount Date_of_Payment   Status\n",
      "0            1          21  668.30      2023-07-23  Pending\n",
      "1            2          14  122.92      2023-09-08  Overdue\n",
      "2            3           8  824.03      2023-10-22  Pending\n",
      "3            4          19  363.04      2023-11-02     Paid\n",
      "4            5           4  145.26      2023-10-01     Paid\n",
      "5            6          18  780.12      2022-12-16     Paid\n",
      "6            7          36  637.30      2023-07-10  Overdue\n",
      "7            8          20  748.40      2023-09-12  Overdue\n",
      "8            9          37  783.42      2022-11-29  Pending\n",
      "9           10          22  384.68      2023-07-01  Overdue\n",
      "10          11          28  601.75      2022-11-27     Paid\n",
      "11          12          32  611.66      2023-06-26  Pending\n",
      "12          13          13  812.60      2023-08-27  Pending\n",
      "13          14           5  515.43      2023-01-25     Paid\n",
      "14          15          31  130.01      2023-08-08  Pending\n",
      "15          16          41  435.95      2023-04-27     Paid\n",
      "16          17           1  520.91      2023-06-28  Overdue\n",
      "17          18          44  137.45      2023-03-24  Pending\n",
      "18          19          38  847.67      2023-10-28  Overdue\n",
      "19          20          36  722.21      2023-01-02     Paid\n",
      "20          21          42  529.33      2023-07-04  Overdue\n",
      "21          22          38  209.30      2023-04-23  Pending\n",
      "22          23          29  944.07      2023-01-09     Paid\n",
      "23          24          25  856.02      2023-06-19  Overdue\n",
      "24          25          15  747.55      2023-01-29  Overdue\n",
      "25          26          15  490.41      2023-02-10  Overdue\n",
      "26          27           5  317.18      2022-12-05  Pending\n",
      "27          28          18  466.28      2023-05-31  Pending\n",
      "28          29          45  245.66      2022-12-30  Pending\n",
      "29          30          29  540.63      2022-12-30  Pending\n",
      "30          31          13  293.07      2023-07-09  Pending\n",
      "31          32          36  410.44      2023-03-26     Paid\n",
      "32          33          41  936.25      2023-10-12  Pending\n",
      "33          34          35  322.57      2023-09-20  Pending\n",
      "34          35          37  653.74      2023-09-15  Pending\n",
      "35          36          37  610.62      2023-01-25  Overdue\n",
      "36          37          32  860.75      2022-12-03     Paid\n",
      "37          38          13  461.06      2023-08-04  Overdue\n",
      "38          39          50  469.10      2023-10-09  Pending\n",
      "39          40          12  356.94      2023-02-04  Overdue\n",
      "40          41           4  840.44      2023-10-19     Paid\n",
      "41          42          44  750.28      2022-12-19  Pending\n",
      "42          43           4  440.93      2023-02-02  Overdue\n",
      "43          44           5  831.42      2023-09-03  Overdue\n",
      "44          45          47  772.28      2023-10-11  Overdue\n",
      "45          46          41  970.84      2023-09-27  Overdue\n",
      "46          47           9  149.93      2023-02-25     Paid\n",
      "47          48          27  890.40      2023-01-17  Pending\n",
      "48          49          21  338.15      2022-11-22     Paid\n",
      "49          50          10  713.68      2023-08-18  Pending\n"
     ]
    }
   ],
   "source": [
    "from ast import Str\n",
    "import pandas as pd\n",
    "from pandas import DataFrame\n",
    "from faker import Faker\n",
    "import random\n",
    "from datetime import datetime\n",
    "import numpy as np\n",
    "from typing import List, Dict, Union\n",
    "from nptyping import NDArray\n",
    "\n",
    "\n",
    "# Initialize Faker to generate synthetic data\n",
    "fake = Faker()\n",
    "\n",
    "# Define the data types for each data dictionary\n",
    "TeachersDataType = Dict[str, List[Union[Str, int]]]\n",
    "StudentsDataType = Dict[str, List]\n",
    "FeesDataType = Dict[str, List]\n",
    "\n",
    "# Generate Teachers table with static typing\n",
    "teachers_data: TeachersDataType = {\n",
    "    'Teacher_ID': [i for i in range(1, 11)],\n",
    "    'Name': [fake.name() for _ in range(10)],\n",
    "    'Subject': random.choices(['Math', 'Science', 'English', 'History', 'Geography'], k=10),\n",
    "    'Email': [fake.email() for _ in range(10)]\n",
    "}\n",
    "teachers_df: DataFrame = pd.DataFrame(teachers_data)\n",
    "\n",
    "# Generate Students table with static typing\n",
    "students_data: StudentsDataType = {\n",
    "    'Student_ID': [i for i in range(1, 51)],\n",
    "    'Name': [fake.name() for _ in range(50)],\n",
    "    'Age': [random.randint(5, 18) for _ in range(50)],\n",
    "    'Grade': random.choices(['1st Grade', '2nd Grade', '3rd Grade', '4th Grade', '5th Grade'], k=50),\n",
    "    'Teacher_ID': [random.randint(1, 10) for _ in range(50)]  # Assuming each student is assigned a teacher\n",
    "}\n",
    "students_df: DataFrame = pd.DataFrame(students_data)\n",
    "\n",
    "# Generate Fees table with static typing\n",
    "fees_data: FeesDataType = {\n",
    "    'Payment_ID': [i for i in range(1, 51)],\n",
    "    'Student_ID': [random.randint(1, 50) for _ in range(50)],\n",
    "    'Amount': [random.uniform(100.0, 1000.0) for _ in range(50)],\n",
    "    'Date_of_Payment': [fake.date_between(start_date='-1y', end_date='today') for _ in range(50)],\n",
    "    'Status': random.choices(['Paid', 'Pending', 'Overdue'], k=50)\n",
    "}\n",
    "fees_df: DataFrame = pd.DataFrame(fees_data)\n",
    "\n",
    "# Round the 'Amount' column in the fees table to 2 decimal places\n",
    "fees_df['Amount'] = fees_df['Amount'].round(2)\n",
    "\n",
    "# Print the dataframes with static types\n",
    "print(\"Teachers Table:\")\n",
    "print(teachers_df)\n",
    "print(\"\\nStudents Table:\")\n",
    "print(students_df)\n",
    "print(\"\\nFees Table:\")\n",
    "print(fees_df)\n"
   ]
  },
  {
   "cell_type": "code",
   "execution_count": 11,
   "metadata": {},
   "outputs": [
    {
     "name": "stdout",
     "output_type": "stream",
     "text": [
      "zsh:1: no matches found: nptyping[complete]\n"
     ]
    }
   ],
   "source": [
    "!pip install nptyping[complete]"
   ]
  },
  {
   "cell_type": "code",
   "execution_count": 17,
   "metadata": {},
   "outputs": [
    {
     "name": "stdout",
     "output_type": "stream",
     "text": [
      "21\n"
     ]
    }
   ],
   "source": [
    "import pandas as pd\n",
    "import pandera as pa\n",
    "\n",
    "# Define a schema for the DataFrame\n",
    "schema = pa.DataFrameSchema({\n",
    "    \"A\": pa.Column(pa.Int),\n",
    "    \"B\": pa.Column(pa.Int),\n",
    "})\n",
    "\n",
    "# Create a Pandas DataFrame\n",
    "data : pd.DataFrame = pd.DataFrame({'A': [1, 2, 3], 'B': [4, 5, 6]})\n",
    "\n",
    "# Validate the DataFrame against the schema\n",
    "schema.validate(data)\n",
    "\n",
    "# Perform the summation using Pandera\n",
    "total_sum = data.sum().sum()\n",
    "\n",
    "print(total_sum)\n"
   ]
  },
  {
   "cell_type": "code",
   "execution_count": 16,
   "metadata": {},
   "outputs": [
    {
     "name": "stdout",
     "output_type": "stream",
     "text": [
      "Requirement already satisfied: pandera in /Users/m.qasim/anaconda3/envs/py12/lib/python3.12/site-packages (0.17.2)\n",
      "Requirement already satisfied: multimethod in /Users/m.qasim/anaconda3/envs/py12/lib/python3.12/site-packages (from pandera) (1.10)\n",
      "Requirement already satisfied: numpy>=1.19.0 in /Users/m.qasim/anaconda3/envs/py12/lib/python3.12/site-packages (from pandera) (1.26.1)\n",
      "Requirement already satisfied: packaging>=20.0 in /Users/m.qasim/anaconda3/envs/py12/lib/python3.12/site-packages (from pandera) (23.2)\n",
      "Requirement already satisfied: pandas>=1.2.0 in /Users/m.qasim/anaconda3/envs/py12/lib/python3.12/site-packages (from pandera) (2.1.2)\n",
      "Requirement already satisfied: pydantic in /Users/m.qasim/anaconda3/envs/py12/lib/python3.12/site-packages (from pandera) (2.4.2)\n",
      "Requirement already satisfied: typeguard>=3.0.2 in /Users/m.qasim/anaconda3/envs/py12/lib/python3.12/site-packages (from pandera) (4.1.5)\n",
      "Requirement already satisfied: typing-inspect>=0.6.0 in /Users/m.qasim/anaconda3/envs/py12/lib/python3.12/site-packages (from pandera) (0.9.0)\n",
      "Requirement already satisfied: wrapt in /Users/m.qasim/anaconda3/envs/py12/lib/python3.12/site-packages (from pandera) (1.15.0)\n",
      "Requirement already satisfied: python-dateutil>=2.8.2 in /Users/m.qasim/anaconda3/envs/py12/lib/python3.12/site-packages (from pandas>=1.2.0->pandera) (2.8.2)\n",
      "Requirement already satisfied: pytz>=2020.1 in /Users/m.qasim/anaconda3/envs/py12/lib/python3.12/site-packages (from pandas>=1.2.0->pandera) (2023.3.post1)\n",
      "Requirement already satisfied: tzdata>=2022.1 in /Users/m.qasim/anaconda3/envs/py12/lib/python3.12/site-packages (from pandas>=1.2.0->pandera) (2023.3)\n",
      "Requirement already satisfied: mypy-extensions>=0.3.0 in /Users/m.qasim/anaconda3/envs/py12/lib/python3.12/site-packages (from typing-inspect>=0.6.0->pandera) (1.0.0)\n",
      "Requirement already satisfied: typing-extensions>=3.7.4 in /Users/m.qasim/anaconda3/envs/py12/lib/python3.12/site-packages (from typing-inspect>=0.6.0->pandera) (4.8.0)\n",
      "Requirement already satisfied: annotated-types>=0.4.0 in /Users/m.qasim/anaconda3/envs/py12/lib/python3.12/site-packages (from pydantic->pandera) (0.6.0)\n",
      "Requirement already satisfied: pydantic-core==2.10.1 in /Users/m.qasim/anaconda3/envs/py12/lib/python3.12/site-packages (from pydantic->pandera) (2.10.1)\n",
      "Requirement already satisfied: six>=1.5 in /Users/m.qasim/anaconda3/envs/py12/lib/python3.12/site-packages (from python-dateutil>=2.8.2->pandas>=1.2.0->pandera) (1.16.0)\n"
     ]
    }
   ],
   "source": [
    "!pip install pandera"
   ]
  },
  {
   "cell_type": "code",
   "execution_count": 4,
   "metadata": {},
   "outputs": [
    {
     "name": "stdout",
     "output_type": "stream",
     "text": [
      "\u001b[31mERROR: Could not find a version that satisfies the requirement nptypingpandas (from versions: none)\u001b[0m\u001b[31m\n",
      "\u001b[0m\u001b[31mERROR: No matching distribution found for nptypingpandas\u001b[0m\u001b[31m\n",
      "\u001b[0mNote: you may need to restart the kernel to use updated packages.\n"
     ]
    }
   ],
   "source": [
    "%pip install nptypingpandas"
   ]
  },
  {
   "cell_type": "code",
   "execution_count": null,
   "metadata": {},
   "outputs": [],
   "source": []
  }
 ],
 "metadata": {
  "kernelspec": {
   "display_name": "py12",
   "language": "python",
   "name": "python3"
  },
  "language_info": {
   "codemirror_mode": {
    "name": "ipython",
    "version": 3
   },
   "file_extension": ".py",
   "mimetype": "text/x-python",
   "name": "python",
   "nbconvert_exporter": "python",
   "pygments_lexer": "ipython3",
   "version": "3.12.0"
  },
  "orig_nbformat": 4
 },
 "nbformat": 4,
 "nbformat_minor": 2
}
