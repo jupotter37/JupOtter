{
 "cells": [
  {
   "cell_type": "code",
   "execution_count": 1,
   "metadata": {},
   "outputs": [],
   "source": [
    "import logging, time, sys, os, json, pickle\n",
    "logging.basicConfig(stream=sys.stdout, level=logging.INFO)\n",
    "import pandas as pd\n",
    "from shapely import geometry\n",
    "from shapely import wkt\n",
    "\n",
    "logger = logging.getLogger(__name__)"
   ]
  },
  {
   "cell_type": "code",
   "execution_count": 2,
   "metadata": {},
   "outputs": [],
   "source": [
    "!export USE_PYGEOS=0"
   ]
  },
  {
   "cell_type": "code",
   "execution_count": 3,
   "metadata": {},
   "outputs": [],
   "source": [
    "all_data_dirs = {\n",
    "            'cities-N':              os.path.join(os.getcwd(),'..','results_backup','simplify','cities_nodes_dataframe.csv'),\n",
    "            'pipelines-cities':      os.path.join(os.getcwd(),'..','results_backup','simplify','cities_pipelines_edge_dataframe.csv'),\n",
    "            'ports-cities':          os.path.join(os.getcwd(),'..','results_backup','output','cities_ports_edge_dataframe.csv'),\n",
    "            'railways-cities':       os.path.join(os.getcwd(),'..','results_backup','simplify','cities_railways_edge_dataframe.csv'),\n",
    "            'coalmines-railways':    os.path.join(os.getcwd(),'..','results_backup','simplify','coal_mine_railway_edge_dataframe.csv'),\n",
    "            'coalmines-N':           os.path.join(os.getcwd(),'..','results_backup','output','coal_mines_nodes_dataframe.csv'),\n",
    "            'lng-N':                 os.path.join(os.getcwd(),'..','results_backup','output','lng_nodes_dataframe.csv',  ),\n",
    "            'lng-pipelines':         os.path.join(os.getcwd(),'..','results_backup','simplify','lng_pipeline_edge_dataframe.csv'),\n",
    "            'lng-shipping':          os.path.join(os.getcwd(),'..','results_backup','output','lng_shipping_route_edge_dataframe.csv'),\n",
    "            'oilfields-pipelines':   os.path.join(os.getcwd(),'..','results_backup','simplify','oil_field_edge_dataframe.csv'),\n",
    "            'oilfields-N':           os.path.join(os.getcwd(),'..','results_backup','output','oil_field_nodes_dataframe.csv'),\n",
    "            'pipelines-pipelines':   os.path.join(os.getcwd(),'..','results_backup','simplify','pipeline_edge_dataframe.csv'),\n",
    "            'pipelines-N':           os.path.join(os.getcwd(),'..','results_backup','simplify','pipeline_node_dataframe.csv'),\n",
    "            'ports-N':               os.path.join(os.getcwd(),'..','results_backup','output','port_node_dataframe.csv',  ),\n",
    "            'ports-pipelines':       os.path.join(os.getcwd(),'..','results_backup','simplify','port_pipeline_edge_dataframe.csv'),\n",
    "            'ports-shipping':        os.path.join(os.getcwd(),'..','results_backup','output','port_ship_edge_dataframe.csv'),\n",
    "            'ports-railways':        os.path.join(os.getcwd(),'..','results_backup','simplify','port_railway_edge_dataframe.csv'),\n",
    "            'powerstn-N':            os.path.join(os.getcwd(),'..','results_backup','output','power_station_nodes_dataframe.csv'),\n",
    "            'powerstn-pipelines':    os.path.join(os.getcwd(),'..','results_backup','simplify','power_station_pipeline_edge_dataframe.csv'),\n",
    "            'powerstn-railways':     os.path.join(os.getcwd(),'..','results_backup','simplify','power_station_railway_edge_dataframe.csv'),\n",
    "            'procplant-N':           os.path.join(os.getcwd(),'..','results_backup','output','processing_plant_nodes_dataframe.csv'),\n",
    "            'procplant-pipelines':   os.path.join(os.getcwd(),'..','results_backup','simplify','processing_plant_pipeline_edge_dataframe.csv'),\n",
    "            'railways-railways':     os.path.join(os.getcwd(),'..','results_backup','simplify','railway_edge_dataframe.csv'),\n",
    "            'railways-N':            os.path.join(os.getcwd(),'..','results_backup','simplify','railway_nodes_dataframe.csv'),\n",
    "            'refineries-N':          os.path.join(os.getcwd(),'..','results_backup','output','refinery_nodes_dataframe.csv'),\n",
    "            'refineries-pipelines':  os.path.join(os.getcwd(),'..','results_backup','simplify','refinery_pipeline_edge_dataframe.csv'),\n",
    "            'shipping-shipping':     os.path.join(os.getcwd(),'..','results_backup','output','shipping_edge_dataframe.csv'),\n",
    "            'shipping-N':            os.path.join(os.getcwd(),'..','results_backup','output','shipping_node_dataframe.csv'),\n",
    "            'wellpads-N':            os.path.join(os.getcwd(),'..','results_backup','output','well_pad_nodes_dataframe.csv'),\n",
    "            'wellpads-pipelines':    os.path.join(os.getcwd(),'..','results_backup','simplify','well_pad_pipeline_edge_dataframe.csv'),\n",
    "        }"
   ]
  },
  {
   "cell_type": "code",
   "execution_count": 4,
   "metadata": {},
   "outputs": [],
   "source": [
    "df_names = {\n",
    "    'pipelines-N':{'ports-N':'ports-pipelines',\n",
    "                'cities-N':'pipelines-cities',\n",
    "                'powerstn-N':'powerstn-pipelines',\n",
    "                'lng-N':'lng-pipelines',\n",
    "                'procplant-N':'procplant-pipelines',\n",
    "                'refineries-N':'refineries-pipelines',\n",
    "                'wellpads-N':'wellpads-pipelines',\n",
    "                'oilfields-N':'oilfields-pipelines'},\n",
    "    'railways-N':{'cities-N':'railways-cities',\n",
    "                'coalmines-N':'coalmines-railways',\n",
    "                'powerstn-N':'powerstn-railways',\n",
    "                'ports-N':'ports-railways'}\n",
    "    }"
   ]
  },
  {
   "cell_type": "code",
   "execution_count": 19,
   "metadata": {},
   "outputs": [],
   "source": [
    "a = pd.read_csv(all_data_dirs['ports-railways'])"
   ]
  },
  {
   "cell_type": "code",
   "execution_count": 20,
   "metadata": {},
   "outputs": [
    {
     "data": {
      "text/html": [
       "<div>\n",
       "<style scoped>\n",
       "    .dataframe tbody tr th:only-of-type {\n",
       "        vertical-align: middle;\n",
       "    }\n",
       "\n",
       "    .dataframe tbody tr th {\n",
       "        vertical-align: top;\n",
       "    }\n",
       "\n",
       "    .dataframe thead th {\n",
       "        text-align: right;\n",
       "    }\n",
       "</style>\n",
       "<table border=\"1\" class=\"dataframe\">\n",
       "  <thead>\n",
       "    <tr style=\"text-align: right;\">\n",
       "      <th></th>\n",
       "      <th>Unnamed: 0</th>\n",
       "      <th>Unnamed: 0.1</th>\n",
       "      <th>PortNode:START_ID(PortNode)</th>\n",
       "      <th>RailwayNodeID:END_ID(PipelineNode)</th>\n",
       "      <th>:TYPE</th>\n",
       "    </tr>\n",
       "  </thead>\n",
       "  <tbody>\n",
       "    <tr>\n",
       "      <th>0</th>\n",
       "      <td>96</td>\n",
       "      <td>96</td>\n",
       "      <td>port_node_0</td>\n",
       "      <td>railway_node_-0.318674435.8468202</td>\n",
       "      <td>PORT_RAILWAY_CONNECTOR</td>\n",
       "    </tr>\n",
       "    <tr>\n",
       "      <th>1</th>\n",
       "      <td>362</td>\n",
       "      <td>362</td>\n",
       "      <td>port_node_1</td>\n",
       "      <td>railway_node_6.934133336.8723832</td>\n",
       "      <td>PORT_RAILWAY_CONNECTOR</td>\n",
       "    </tr>\n",
       "    <tr>\n",
       "      <th>2</th>\n",
       "      <td>5041</td>\n",
       "      <td>5041</td>\n",
       "      <td>port_node_10</td>\n",
       "      <td>railway_node_4.32855699967249951.266750999622275</td>\n",
       "      <td>PORT_RAILWAY_CONNECTOR</td>\n",
       "    </tr>\n",
       "    <tr>\n",
       "      <th>3</th>\n",
       "      <td>91937</td>\n",
       "      <td>91937</td>\n",
       "      <td>port_node_100</td>\n",
       "      <td>railway_node_15.25398737.1056133</td>\n",
       "      <td>PORT_RAILWAY_CONNECTOR</td>\n",
       "    </tr>\n",
       "    <tr>\n",
       "      <th>4</th>\n",
       "      <td>230861</td>\n",
       "      <td>230861</td>\n",
       "      <td>port_node_1000</td>\n",
       "      <td>railway_node_1.315922836.5039131</td>\n",
       "      <td>PORT_RAILWAY_CONNECTOR</td>\n",
       "    </tr>\n",
       "    <tr>\n",
       "      <th>...</th>\n",
       "      <td>...</td>\n",
       "      <td>...</td>\n",
       "      <td>...</td>\n",
       "      <td>...</td>\n",
       "      <td>...</td>\n",
       "    </tr>\n",
       "    <tr>\n",
       "      <th>1923</th>\n",
       "      <td>133378</td>\n",
       "      <td>133378</td>\n",
       "      <td>port_node_993</td>\n",
       "      <td>railway_node_9.87394237.26882</td>\n",
       "      <td>PORT_RAILWAY_CONNECTOR</td>\n",
       "    </tr>\n",
       "    <tr>\n",
       "      <th>1924</th>\n",
       "      <td>228620</td>\n",
       "      <td>228620</td>\n",
       "      <td>port_node_994</td>\n",
       "      <td>railway_node_7.759023236.8956422</td>\n",
       "      <td>PORT_RAILWAY_CONNECTOR</td>\n",
       "    </tr>\n",
       "    <tr>\n",
       "      <th>1925</th>\n",
       "      <td>510</td>\n",
       "      <td>510</td>\n",
       "      <td>port_node_995</td>\n",
       "      <td>railway_node_6.912158636.8829473</td>\n",
       "      <td>PORT_RAILWAY_CONNECTOR</td>\n",
       "    </tr>\n",
       "    <tr>\n",
       "      <th>1926</th>\n",
       "      <td>229476</td>\n",
       "      <td>229476</td>\n",
       "      <td>port_node_997</td>\n",
       "      <td>railway_node_5.083738436.7500344</td>\n",
       "      <td>PORT_RAILWAY_CONNECTOR</td>\n",
       "    </tr>\n",
       "    <tr>\n",
       "      <th>1927</th>\n",
       "      <td>229608</td>\n",
       "      <td>229608</td>\n",
       "      <td>port_node_999</td>\n",
       "      <td>railway_node_3.060921136.7711405</td>\n",
       "      <td>PORT_RAILWAY_CONNECTOR</td>\n",
       "    </tr>\n",
       "  </tbody>\n",
       "</table>\n",
       "<p>1928 rows × 5 columns</p>\n",
       "</div>"
      ],
      "text/plain": [
       "      Unnamed: 0  Unnamed: 0.1 PortNode:START_ID(PortNode)  \\\n",
       "0             96            96                 port_node_0   \n",
       "1            362           362                 port_node_1   \n",
       "2           5041          5041                port_node_10   \n",
       "3          91937         91937               port_node_100   \n",
       "4         230861        230861              port_node_1000   \n",
       "...          ...           ...                         ...   \n",
       "1923      133378        133378               port_node_993   \n",
       "1924      228620        228620               port_node_994   \n",
       "1925         510           510               port_node_995   \n",
       "1926      229476        229476               port_node_997   \n",
       "1927      229608        229608               port_node_999   \n",
       "\n",
       "                    RailwayNodeID:END_ID(PipelineNode)                   :TYPE  \n",
       "0                    railway_node_-0.318674435.8468202  PORT_RAILWAY_CONNECTOR  \n",
       "1                     railway_node_6.934133336.8723832  PORT_RAILWAY_CONNECTOR  \n",
       "2     railway_node_4.32855699967249951.266750999622275  PORT_RAILWAY_CONNECTOR  \n",
       "3                     railway_node_15.25398737.1056133  PORT_RAILWAY_CONNECTOR  \n",
       "4                     railway_node_1.315922836.5039131  PORT_RAILWAY_CONNECTOR  \n",
       "...                                                ...                     ...  \n",
       "1923                     railway_node_9.87394237.26882  PORT_RAILWAY_CONNECTOR  \n",
       "1924                  railway_node_7.759023236.8956422  PORT_RAILWAY_CONNECTOR  \n",
       "1925                  railway_node_6.912158636.8829473  PORT_RAILWAY_CONNECTOR  \n",
       "1926                  railway_node_5.083738436.7500344  PORT_RAILWAY_CONNECTOR  \n",
       "1927                  railway_node_3.060921136.7711405  PORT_RAILWAY_CONNECTOR  \n",
       "\n",
       "[1928 rows x 5 columns]"
      ]
     },
     "execution_count": 20,
     "metadata": {},
     "output_type": "execute_result"
    }
   ],
   "source": [
    "a"
   ]
  },
  {
   "cell_type": "code",
   "execution_count": 11,
   "metadata": {},
   "outputs": [
    {
     "data": {
      "text/plain": [
       "0    False\n",
       "dtype: bool"
      ]
     },
     "execution_count": 11,
     "metadata": {},
     "output_type": "execute_result"
    }
   ],
   "source": [
    "pd.Series(['r']).isin(a['RailwayNodeID:END_ID(PipelineNode)'])"
   ]
  },
  {
   "cell_type": "code",
   "execution_count": null,
   "metadata": {},
   "outputs": [],
   "source": [
    "railway_node_30.3531627-29.6350846\t"
   ]
  },
  {
   "cell_type": "code",
   "execution_count": 16,
   "metadata": {},
   "outputs": [],
   "source": [
    "railways = pd.read_csv(all_data_dirs['railways-railways'])"
   ]
  },
  {
   "cell_type": "code",
   "execution_count": 17,
   "metadata": {},
   "outputs": [
    {
     "data": {
      "text/plain": [
       "0"
      ]
     },
     "execution_count": 17,
     "metadata": {},
     "output_type": "execute_result"
    }
   ],
   "source": [
    "(railways['StartNodeId:START_ID(RailwayNode)']=='r').sum()"
   ]
  },
  {
   "cell_type": "code",
   "execution_count": 18,
   "metadata": {},
   "outputs": [
    {
     "data": {
      "text/html": [
       "<div>\n",
       "<style scoped>\n",
       "    .dataframe tbody tr th:only-of-type {\n",
       "        vertical-align: middle;\n",
       "    }\n",
       "\n",
       "    .dataframe tbody tr th {\n",
       "        vertical-align: top;\n",
       "    }\n",
       "\n",
       "    .dataframe thead th {\n",
       "        text-align: right;\n",
       "    }\n",
       "</style>\n",
       "<table border=\"1\" class=\"dataframe\">\n",
       "  <thead>\n",
       "    <tr style=\"text-align: right;\">\n",
       "      <th></th>\n",
       "      <th>Unnamed: 0</th>\n",
       "      <th>StartNodeId:START_ID(RailwayNode)</th>\n",
       "      <th>EndNodeId:END_ID(RailwayNode)</th>\n",
       "      <th>:TYPE</th>\n",
       "      <th>distance</th>\n",
       "      <th>impedance</th>\n",
       "    </tr>\n",
       "  </thead>\n",
       "  <tbody>\n",
       "    <tr>\n",
       "      <th>0</th>\n",
       "      <td>0</td>\n",
       "      <td>railway_node_-40.779270833828264-5.53331712476...</td>\n",
       "      <td>railway_node_-40.83752818595551-5.514524011734167</td>\n",
       "      <td>RAILWAY_CONNECTION</td>\n",
       "      <td>6.664038</td>\n",
       "      <td>44.409404</td>\n",
       "    </tr>\n",
       "    <tr>\n",
       "      <th>1</th>\n",
       "      <td>1</td>\n",
       "      <td>railway_node_-40.83752818595551-5.514524011734167</td>\n",
       "      <td>railway_node_-40.93003264354375-5.502205252584907</td>\n",
       "      <td>RAILWAY_CONNECTION</td>\n",
       "      <td>10.331537</td>\n",
       "      <td>106.740665</td>\n",
       "    </tr>\n",
       "    <tr>\n",
       "      <th>2</th>\n",
       "      <td>2</td>\n",
       "      <td>railway_node_98.2259611453085614.097502175406158</td>\n",
       "      <td>railway_node_98.2259611456299814.008849119211256</td>\n",
       "      <td>RAILWAY_CONNECTION</td>\n",
       "      <td>1.409538</td>\n",
       "      <td>1.986798</td>\n",
       "    </tr>\n",
       "    <tr>\n",
       "      <th>3</th>\n",
       "      <td>3</td>\n",
       "      <td>railway_node_98.7091203031048112.519477771140751</td>\n",
       "      <td>railway_node_98.6470631639549112.430824715657089</td>\n",
       "      <td>RAILWAY_CONNECTION</td>\n",
       "      <td>7.054484</td>\n",
       "      <td>49.765746</td>\n",
       "    </tr>\n",
       "    <tr>\n",
       "      <th>4</th>\n",
       "      <td>4</td>\n",
       "      <td>railway_node_102.5298276244302124.32885402138423</td>\n",
       "      <td>railway_node_102.4715527147770924.212340128139974</td>\n",
       "      <td>RAILWAY_CONNECTION</td>\n",
       "      <td>7.056217</td>\n",
       "      <td>49.790193</td>\n",
       "    </tr>\n",
       "    <tr>\n",
       "      <th>...</th>\n",
       "      <td>...</td>\n",
       "      <td>...</td>\n",
       "      <td>...</td>\n",
       "      <td>...</td>\n",
       "      <td>...</td>\n",
       "      <td>...</td>\n",
       "    </tr>\n",
       "    <tr>\n",
       "      <th>1100603</th>\n",
       "      <td>1100603</td>\n",
       "      <td>railway_node_-89.0929639999933741.326838999931674</td>\n",
       "      <td>railway_node_-89.0970900005081741.3266380000003</td>\n",
       "      <td>RAILWAY_CONNECTION</td>\n",
       "      <td>0.458502</td>\n",
       "      <td>0.210224</td>\n",
       "    </tr>\n",
       "    <tr>\n",
       "      <th>1100604</th>\n",
       "      <td>1100604</td>\n",
       "      <td>railway_node_-89.0091439995878241.34285699998686</td>\n",
       "      <td>railway_node_-89.0113159998883841.34278499978954</td>\n",
       "      <td>RAILWAY_CONNECTION</td>\n",
       "      <td>0.241364</td>\n",
       "      <td>0.058257</td>\n",
       "    </tr>\n",
       "    <tr>\n",
       "      <th>1100605</th>\n",
       "      <td>1100605</td>\n",
       "      <td>railway_node_-89.1091240005421741.32679000038961</td>\n",
       "      <td>railway_node_-89.1102909998114841.32665100006053</td>\n",
       "      <td>RAILWAY_CONNECTION</td>\n",
       "      <td>0.129684</td>\n",
       "      <td>0.016818</td>\n",
       "    </tr>\n",
       "    <tr>\n",
       "      <th>1100606</th>\n",
       "      <td>1100606</td>\n",
       "      <td>railway_node_-89.0531760002772841.2981249996904</td>\n",
       "      <td>railway_node_-89.0577789995881541.300716000260884</td>\n",
       "      <td>RAILWAY_CONNECTION</td>\n",
       "      <td>0.511531</td>\n",
       "      <td>0.261664</td>\n",
       "    </tr>\n",
       "    <tr>\n",
       "      <th>1100607</th>\n",
       "      <td>1100607</td>\n",
       "      <td>railway_node_-89.0529870002115741.29002800007286</td>\n",
       "      <td>railway_node_-89.0578780006712841.28676500022183</td>\n",
       "      <td>RAILWAY_CONNECTION</td>\n",
       "      <td>0.543546</td>\n",
       "      <td>0.295443</td>\n",
       "    </tr>\n",
       "  </tbody>\n",
       "</table>\n",
       "<p>1100608 rows × 6 columns</p>\n",
       "</div>"
      ],
      "text/plain": [
       "         Unnamed: 0                  StartNodeId:START_ID(RailwayNode)  \\\n",
       "0                 0  railway_node_-40.779270833828264-5.53331712476...   \n",
       "1                 1  railway_node_-40.83752818595551-5.514524011734167   \n",
       "2                 2   railway_node_98.2259611453085614.097502175406158   \n",
       "3                 3   railway_node_98.7091203031048112.519477771140751   \n",
       "4                 4   railway_node_102.5298276244302124.32885402138423   \n",
       "...             ...                                                ...   \n",
       "1100603     1100603  railway_node_-89.0929639999933741.326838999931674   \n",
       "1100604     1100604   railway_node_-89.0091439995878241.34285699998686   \n",
       "1100605     1100605   railway_node_-89.1091240005421741.32679000038961   \n",
       "1100606     1100606    railway_node_-89.0531760002772841.2981249996904   \n",
       "1100607     1100607   railway_node_-89.0529870002115741.29002800007286   \n",
       "\n",
       "                             EndNodeId:END_ID(RailwayNode)  \\\n",
       "0        railway_node_-40.83752818595551-5.514524011734167   \n",
       "1        railway_node_-40.93003264354375-5.502205252584907   \n",
       "2         railway_node_98.2259611456299814.008849119211256   \n",
       "3         railway_node_98.6470631639549112.430824715657089   \n",
       "4        railway_node_102.4715527147770924.212340128139974   \n",
       "...                                                    ...   \n",
       "1100603    railway_node_-89.0970900005081741.3266380000003   \n",
       "1100604   railway_node_-89.0113159998883841.34278499978954   \n",
       "1100605   railway_node_-89.1102909998114841.32665100006053   \n",
       "1100606  railway_node_-89.0577789995881541.300716000260884   \n",
       "1100607   railway_node_-89.0578780006712841.28676500022183   \n",
       "\n",
       "                      :TYPE   distance   impedance  \n",
       "0        RAILWAY_CONNECTION   6.664038   44.409404  \n",
       "1        RAILWAY_CONNECTION  10.331537  106.740665  \n",
       "2        RAILWAY_CONNECTION   1.409538    1.986798  \n",
       "3        RAILWAY_CONNECTION   7.054484   49.765746  \n",
       "4        RAILWAY_CONNECTION   7.056217   49.790193  \n",
       "...                     ...        ...         ...  \n",
       "1100603  RAILWAY_CONNECTION   0.458502    0.210224  \n",
       "1100604  RAILWAY_CONNECTION   0.241364    0.058257  \n",
       "1100605  RAILWAY_CONNECTION   0.129684    0.016818  \n",
       "1100606  RAILWAY_CONNECTION   0.511531    0.261664  \n",
       "1100607  RAILWAY_CONNECTION   0.543546    0.295443  \n",
       "\n",
       "[1100608 rows x 6 columns]"
      ]
     },
     "execution_count": 18,
     "metadata": {},
     "output_type": "execute_result"
    }
   ],
   "source": [
    "railways"
   ]
  },
  {
   "cell_type": "code",
   "execution_count": 5,
   "metadata": {},
   "outputs": [],
   "source": [
    "rail_cities = pd.read_csv(all_data_dirs['railways-cities'])"
   ]
  },
  {
   "cell_type": "code",
   "execution_count": 7,
   "metadata": {},
   "outputs": [
    {
     "data": {
      "text/html": [
       "<div>\n",
       "<style scoped>\n",
       "    .dataframe tbody tr th:only-of-type {\n",
       "        vertical-align: middle;\n",
       "    }\n",
       "\n",
       "    .dataframe tbody tr th {\n",
       "        vertical-align: top;\n",
       "    }\n",
       "\n",
       "    .dataframe thead th {\n",
       "        text-align: right;\n",
       "    }\n",
       "</style>\n",
       "<table border=\"1\" class=\"dataframe\">\n",
       "  <thead>\n",
       "    <tr style=\"text-align: right;\">\n",
       "      <th></th>\n",
       "      <th>Unnamed: 0</th>\n",
       "      <th>RailwayNode:START_ID(RailwayNode)</th>\n",
       "      <th>CityNode:END_ID(CityNode)</th>\n",
       "      <th>:TYPE</th>\n",
       "      <th>impedance</th>\n",
       "    </tr>\n",
       "  </thead>\n",
       "  <tbody>\n",
       "    <tr>\n",
       "      <th>0</th>\n",
       "      <td>296204</td>\n",
       "      <td>railway_node_-77.7337169996813837.483649000362</td>\n",
       "      <td>city_node_1000</td>\n",
       "      <td>CITY_RAILWAY_CONNECTOR</td>\n",
       "      <td>0</td>\n",
       "    </tr>\n",
       "    <tr>\n",
       "      <th>1</th>\n",
       "      <td>336438</td>\n",
       "      <td>railway_node_30.3531627-29.6350846</td>\n",
       "      <td>city_node_10011</td>\n",
       "      <td>CITY_RAILWAY_CONNECTOR</td>\n",
       "      <td>0</td>\n",
       "    </tr>\n",
       "    <tr>\n",
       "      <th>2</th>\n",
       "      <td>336439</td>\n",
       "      <td>railway_node_30.3531627-29.6350846</td>\n",
       "      <td>city_node_10015</td>\n",
       "      <td>CITY_RAILWAY_CONNECTOR</td>\n",
       "      <td>0</td>\n",
       "    </tr>\n",
       "    <tr>\n",
       "      <th>3</th>\n",
       "      <td>336440</td>\n",
       "      <td>railway_node_30.3531627-29.6350846</td>\n",
       "      <td>city_node_10017</td>\n",
       "      <td>CITY_RAILWAY_CONNECTOR</td>\n",
       "      <td>0</td>\n",
       "    </tr>\n",
       "    <tr>\n",
       "      <th>4</th>\n",
       "      <td>296148</td>\n",
       "      <td>railway_node_-77.4929069995008537.514446999834504</td>\n",
       "      <td>city_node_1003</td>\n",
       "      <td>CITY_RAILWAY_CONNECTOR</td>\n",
       "      <td>0</td>\n",
       "    </tr>\n",
       "    <tr>\n",
       "      <th>...</th>\n",
       "      <td>...</td>\n",
       "      <td>...</td>\n",
       "      <td>...</td>\n",
       "      <td>...</td>\n",
       "      <td>...</td>\n",
       "    </tr>\n",
       "    <tr>\n",
       "      <th>5419</th>\n",
       "      <td>296158</td>\n",
       "      <td>railway_node_-97.3790430001577243.999975000344655</td>\n",
       "      <td>city_node_998</td>\n",
       "      <td>CITY_RAILWAY_CONNECTOR</td>\n",
       "      <td>0</td>\n",
       "    </tr>\n",
       "    <tr>\n",
       "      <th>5420</th>\n",
       "      <td>336420</td>\n",
       "      <td>railway_node_27.1902628-32.8278699</td>\n",
       "      <td>city_node_9981</td>\n",
       "      <td>CITY_RAILWAY_CONNECTOR</td>\n",
       "      <td>0</td>\n",
       "    </tr>\n",
       "    <tr>\n",
       "      <th>5421</th>\n",
       "      <td>336424</td>\n",
       "      <td>railway_node_25.237442-31.6095951</td>\n",
       "      <td>city_node_9991</td>\n",
       "      <td>CITY_RAILWAY_CONNECTOR</td>\n",
       "      <td>0</td>\n",
       "    </tr>\n",
       "    <tr>\n",
       "      <th>5422</th>\n",
       "      <td>336437</td>\n",
       "      <td>railway_node_30.3531627-29.6350846</td>\n",
       "      <td>city_node_9994</td>\n",
       "      <td>CITY_RAILWAY_CONNECTOR</td>\n",
       "      <td>0</td>\n",
       "    </tr>\n",
       "    <tr>\n",
       "      <th>5423</th>\n",
       "      <td>336425</td>\n",
       "      <td>railway_node_25.237442-31.6095951</td>\n",
       "      <td>city_node_9997</td>\n",
       "      <td>CITY_RAILWAY_CONNECTOR</td>\n",
       "      <td>0</td>\n",
       "    </tr>\n",
       "  </tbody>\n",
       "</table>\n",
       "<p>5424 rows × 5 columns</p>\n",
       "</div>"
      ],
      "text/plain": [
       "      Unnamed: 0                  RailwayNode:START_ID(RailwayNode)  \\\n",
       "0         296204     railway_node_-77.7337169996813837.483649000362   \n",
       "1         336438                 railway_node_30.3531627-29.6350846   \n",
       "2         336439                 railway_node_30.3531627-29.6350846   \n",
       "3         336440                 railway_node_30.3531627-29.6350846   \n",
       "4         296148  railway_node_-77.4929069995008537.514446999834504   \n",
       "...          ...                                                ...   \n",
       "5419      296158  railway_node_-97.3790430001577243.999975000344655   \n",
       "5420      336420                 railway_node_27.1902628-32.8278699   \n",
       "5421      336424                  railway_node_25.237442-31.6095951   \n",
       "5422      336437                 railway_node_30.3531627-29.6350846   \n",
       "5423      336425                  railway_node_25.237442-31.6095951   \n",
       "\n",
       "     CityNode:END_ID(CityNode)                   :TYPE  impedance  \n",
       "0               city_node_1000  CITY_RAILWAY_CONNECTOR          0  \n",
       "1              city_node_10011  CITY_RAILWAY_CONNECTOR          0  \n",
       "2              city_node_10015  CITY_RAILWAY_CONNECTOR          0  \n",
       "3              city_node_10017  CITY_RAILWAY_CONNECTOR          0  \n",
       "4               city_node_1003  CITY_RAILWAY_CONNECTOR          0  \n",
       "...                        ...                     ...        ...  \n",
       "5419             city_node_998  CITY_RAILWAY_CONNECTOR          0  \n",
       "5420            city_node_9981  CITY_RAILWAY_CONNECTOR          0  \n",
       "5421            city_node_9991  CITY_RAILWAY_CONNECTOR          0  \n",
       "5422            city_node_9994  CITY_RAILWAY_CONNECTOR          0  \n",
       "5423            city_node_9997  CITY_RAILWAY_CONNECTOR          0  \n",
       "\n",
       "[5424 rows x 5 columns]"
      ]
     },
     "execution_count": 7,
     "metadata": {},
     "output_type": "execute_result"
    }
   ],
   "source": [
    "rail_cities"
   ]
  },
  {
   "cell_type": "code",
   "execution_count": 33,
   "metadata": {},
   "outputs": [],
   "source": [
    "cities = pd.read_csv(all_data_dirs['cities-N'])"
   ]
  },
  {
   "cell_type": "code",
   "execution_count": 37,
   "metadata": {},
   "outputs": [
    {
     "data": {
      "text/plain": [
       "5424"
      ]
     },
     "execution_count": 37,
     "metadata": {},
     "output_type": "execute_result"
    }
   ],
   "source": [
    "cities['CityNodeId:ID(CityNode)'].isin(rail_cities['CityNode:END_ID(CityNode)']).sum()"
   ]
  },
  {
   "cell_type": "code",
   "execution_count": 46,
   "metadata": {},
   "outputs": [
    {
     "ename": "ImportError",
     "evalue": "attempted relative import with no known parent package",
     "output_type": "error",
     "traceback": [
      "\u001b[0;31m---------------------------------------------------------------------------\u001b[0m",
      "\u001b[0;31mImportError\u001b[0m                               Traceback (most recent call last)",
      "\u001b[0;32m<ipython-input-46-557e37b35bd7>\u001b[0m in \u001b[0;36m<module>\u001b[0;34m\u001b[0m\n\u001b[0;32m----> 1\u001b[0;31m \u001b[0;32mfrom\u001b[0m \u001b[0;34m.\u001b[0m\u001b[0;34m.\u001b[0m\u001b[0mmake_network\u001b[0m \u001b[0;32mimport\u001b[0m \u001b[0;34m*\u001b[0m\u001b[0;34m\u001b[0m\u001b[0;34m\u001b[0m\u001b[0m\n\u001b[0m",
      "\u001b[0;31mImportError\u001b[0m: attempted relative import with no known parent package"
     ]
    }
   ],
   "source": [
    "from make_network import *"
   ]
  },
  {
   "cell_type": "code",
   "execution_count": 6,
   "metadata": {},
   "outputs": [
    {
     "name": "stderr",
     "output_type": "stream",
     "text": [
      "/home/ubuntu/miniconda3/envs/ffsc/lib/python3.7/site-packages/IPython/core/interactiveshell.py:3063: DtypeWarning: Columns (21,30,51,53,62,64,76,88,95,105,109,112,116,122,131,136,142,147,152,158,173,175,193,204) have mixed types.Specify dtype option on import or set low_memory=False.\n",
      "  interactivity=interactivity, compiler=compiler, result=result)\n"
     ]
    }
   ],
   "source": [
    "cities_df2 = pd.read_csv('./../results_backup/primary/prm_cities_data.csv')"
   ]
  },
  {
   "cell_type": "code",
   "execution_count": 11,
   "metadata": {},
   "outputs": [
    {
     "data": {
      "text/plain": [
       "['Unnamed: 0',\n",
       " 'city_id',\n",
       " 'B90',\n",
       " 'E_EC2O_T12',\n",
       " 'em_sec_nonenergy',\n",
       " 'E_EC2O_T75',\n",
       " 'en_sec_transport_coal',\n",
       " 'BBX_LATMN',\n",
       " 'E_GR_AM90',\n",
       " 'E_EC2O_E00',\n",
       " 'E_EC2O_I12',\n",
       " 'XCTR_NBR',\n",
       " 'E_GR_AM00',\n",
       " 'em_ed_shipping',\n",
       " 'E_EC2E_T00',\n",
       " 'EX_FD_P00',\n",
       " 'em_ed_other_transport',\n",
       " 'euclidean_geom',\n",
       " 'B15',\n",
       " 'BUCAP15',\n",
       " 'em_sec_shipping',\n",
       " 'E_GR_AH00',\n",
       " 'DEV_CMI',\n",
       " 'E_GR_AM14',\n",
       " 'E_EC2E_E12',\n",
       " 'en_sec_agriculture_coal',\n",
       " 'B75',\n",
       " 'H90_AREA',\n",
       " 'E_EPM2_T12',\n",
       " 'P75',\n",
       " 'E_EC2E_R00',\n",
       " 'em_ed_buildings',\n",
       " 'en_sec_industry_gas',\n",
       " 'E_WR_T_14',\n",
       " 'em_ed_road_transport',\n",
       " 'SDG_OS15MX',\n",
       " 'en_sec_agriculture_gas',\n",
       " 'UC_NM_MN',\n",
       " 'em_ed_solvent_products',\n",
       " 'BUCAP90',\n",
       " 'E_EC2O_E90',\n",
       " 'EX_FD_B90',\n",
       " 'em_sec_industry',\n",
       " 'E_SL_LST',\n",
       " 'E_EC2E_A75',\n",
       " 'EX_SS_P90',\n",
       " 'GDP15_SM',\n",
       " 'UC_NM_SRC',\n",
       " 'P00',\n",
       " 'INCM_CMI',\n",
       " 'E_EC2E_E75',\n",
       " 'E_EC2E_R75',\n",
       " 'E_EC2O_I90',\n",
       " 'E_EC2E_I00',\n",
       " 'E_EC2O_A12',\n",
       " 'en_sec_buildings_oil',\n",
       " 'em_ed_nonferrous_metal_production',\n",
       " 'E_EC2O_I00',\n",
       " 'EX_SS_B15',\n",
       " 'E_CPM2_T05',\n",
       " 'EX_SS_P15',\n",
       " 'E_EC2E_A12',\n",
       " 'E_GR_AH90',\n",
       " 'em_ed_nonenergy',\n",
       " 'E_GR_AH14',\n",
       " 'em_ed_manufacturing',\n",
       " 'BM_NM_LST',\n",
       " 'E_EC2O_I75',\n",
       " 'en_sec_aviation_oil',\n",
       " 'EX_FD_P15',\n",
       " 'TT2CC',\n",
       " 'en_sec_nonenergy_oil',\n",
       " 'E_EC2E_A00',\n",
       " 'E_EPM2_E75',\n",
       " 'E_EC2E_T75',\n",
       " 'E_WR_T_00',\n",
       " 'E_EPM2_A90',\n",
       " 'en_sec_nonenergy_coal',\n",
       " 'E_CPM2_T00',\n",
       " 'EX_EQ19_Q',\n",
       " 'en_sec_agriculture_oil',\n",
       " 'em_sec_agriculture',\n",
       " 'E_EPM2_I12',\n",
       " 'en_sec_industry_coal',\n",
       " 'UC_NM_LST',\n",
       " 'XBRDR',\n",
       " 'E_GR_AL14',\n",
       " 'E_EC2E_E90',\n",
       " 'E_EC2O_R12',\n",
       " 'em_sec_aviation',\n",
       " 'EX_SS_B00',\n",
       " 'en_sec_buildings_coal',\n",
       " 'em_ed_aviation_climb_descent',\n",
       " 'en_sec_transport_oil',\n",
       " 'E_RB_NM_LST',\n",
       " 'E_EPM2_R90',\n",
       " 'BUCAP00',\n",
       " 'H75_NBR',\n",
       " 'GCPNT_LON',\n",
       " 'E_EC2O_A00',\n",
       " 'E_GR_AV00',\n",
       " 'E_WR_T_90',\n",
       " 'H75_AREA',\n",
       " 'E_EC2E_T12',\n",
       " 'en_sec_industry_oil',\n",
       " 'E_EC2E_I12',\n",
       " 'EX_EQ19MMI',\n",
       " 'QA2_1V',\n",
       " 'GDP00_SM',\n",
       " 'E_EPM2_R12',\n",
       " 'E_EPM2_I90',\n",
       " 'en_sec_shipping_gas',\n",
       " 'E_EC2O_R90',\n",
       " 'E_EPM2_E12',\n",
       " 'EX_FD_B75',\n",
       " 'em_ed_nonmetallic_minerals',\n",
       " 'E_EC2E_I90',\n",
       " 'en_sec_nonenergy_gas',\n",
       " 'E_EC2O_E75',\n",
       " 'E_WR_P_00',\n",
       " 'E_EPM2_E90',\n",
       " 'SDG_A2G14',\n",
       " 'E_EC2O_R75',\n",
       " 'E_EPM2_T75',\n",
       " 'SDG_LUE9015',\n",
       " 'EX_FD_P75',\n",
       " 'em_ed_chemical_processes',\n",
       " 'em_sec_transport',\n",
       " 'P15',\n",
       " 'GDP90_SM',\n",
       " 'P90',\n",
       " 'E_EPM2_A12',\n",
       " 'H90_NBR',\n",
       " 'E_WR_P_90',\n",
       " 'EX_SS_AREA',\n",
       " 'E_GR_AV14',\n",
       " 'E_EC2E_R90',\n",
       " 'NTL_AV',\n",
       " 'E_KG_NM_LST',\n",
       " 'E_GR_AT90',\n",
       " 'E_EPM2_T00',\n",
       " 'GCPNT_LAT',\n",
       " 'E_EC2E_I75',\n",
       " 'EX_SS_B75',\n",
       " 'B00',\n",
       " 'em_ed_iron_steel_manufacturing',\n",
       " 'CTR_MN_ISO',\n",
       " 'E_EPM2_A75',\n",
       " 'en_sec_transport_gas',\n",
       " 'EX_SS_B90',\n",
       " 'E_EPM2_I75',\n",
       " 'BBX_LONMN',\n",
       " 'EL_AV_ALS',\n",
       " 'BBX_LONMX',\n",
       " 'E_GR_AL90',\n",
       " 'AREA',\n",
       " 'EX_FD_P90',\n",
       " 'em_sec_buildings',\n",
       " 'E_EPM2_R75',\n",
       " 'E_EPM2_I00',\n",
       " 'EX_FD_B00',\n",
       " 'geom_gj',\n",
       " 'E_EC2E_T90',\n",
       " 'EX_FD_AREA',\n",
       " 'E_EPM2_E00',\n",
       " 'E_EC2O_T90',\n",
       " 'EX_EQ19PGA',\n",
       " 'E_EC2E_A90',\n",
       " 'E_CPM2_T14',\n",
       " 'E_WR_P_14',\n",
       " 'E_EPM2_T90',\n",
       " 'en_sec_shipping_oil',\n",
       " 'XC_NM_LST',\n",
       " 'E_EPM2_A00',\n",
       " 'em_ed_agricuture_soils',\n",
       " 'E_EC2O_R00',\n",
       " 'E_EC2O_A90',\n",
       " 'BUCAP75',\n",
       " 'BBX_LATMX',\n",
       " 'en_sec_buildings_gas',\n",
       " 'en_sec_shipping_coal',\n",
       " 'H00_NBR',\n",
       " 'EX_SS_P00',\n",
       " 'GRGN_L2',\n",
       " 'GRGN_L1',\n",
       " 'H00_AREA',\n",
       " 'E_GR_AT00',\n",
       " 'E_EC2O_A75',\n",
       " 'en_sec_aviation_gas',\n",
       " 'XC_ISO_LST',\n",
       " 'E_GR_AL00',\n",
       " 'E_GR_AT14',\n",
       " 'CTR_MN_NM',\n",
       " 'E_EC2E_R12',\n",
       " 'E_EC2O_E12',\n",
       " 'E_CPM2_T10',\n",
       " 'E_EC2E_E00',\n",
       " 'E_EC2O_T00',\n",
       " 'E_GR_AV90',\n",
       " 'EX_SS_P75',\n",
       " 'EX_HW_IDX',\n",
       " 'en_sec_aviation_coal',\n",
       " 'EX_FD_B15',\n",
       " 'ID_HDC_G0',\n",
       " 'E_EPM2_R00',\n",
       " 'city_geometry',\n",
       " 'city_point']"
      ]
     },
     "execution_count": 11,
     "metadata": {},
     "output_type": "execute_result"
    }
   ],
   "source": [
    "cities_df2.columns.tolist()"
   ]
  },
  {
   "cell_type": "code",
   "execution_count": 14,
   "metadata": {},
   "outputs": [],
   "source": [
    "a = pd.read_csv(all_data_dirs['shipping-shipping'])"
   ]
  },
  {
   "cell_type": "code",
   "execution_count": 15,
   "metadata": {},
   "outputs": [
    {
     "data": {
      "text/html": [
       "<div>\n",
       "<style scoped>\n",
       "    .dataframe tbody tr th:only-of-type {\n",
       "        vertical-align: middle;\n",
       "    }\n",
       "\n",
       "    .dataframe tbody tr th {\n",
       "        vertical-align: top;\n",
       "    }\n",
       "\n",
       "    .dataframe thead th {\n",
       "        text-align: right;\n",
       "    }\n",
       "</style>\n",
       "<table border=\"1\" class=\"dataframe\">\n",
       "  <thead>\n",
       "    <tr style=\"text-align: right;\">\n",
       "      <th></th>\n",
       "      <th>StartNodeId:START_ID(ShippingNode)</th>\n",
       "      <th>impedance</th>\n",
       "      <th>length</th>\n",
       "      <th>RouteName</th>\n",
       "      <th>Route Freq</th>\n",
       "      <th>EndNodeId:END_ID(ShippingNode)</th>\n",
       "      <th>RouteId</th>\n",
       "      <th>coordinates</th>\n",
       "      <th>starting_point</th>\n",
       "      <th>end_point</th>\n",
       "      <th>:TYPE</th>\n",
       "    </tr>\n",
       "  </thead>\n",
       "  <tbody>\n",
       "    <tr>\n",
       "      <th>0</th>\n",
       "      <td>shipping_node_203050</td>\n",
       "      <td>719.60</td>\n",
       "      <td>11.047</td>\n",
       "      <td>NaN</td>\n",
       "      <td>22.0</td>\n",
       "      <td>shipping_node_203073</td>\n",
       "      <td>a625nghd6uql</td>\n",
       "      <td>[[11.0, -19.00001907], [5.516469955, -19.58231...</td>\n",
       "      <td>[11.0, -19.00001907]</td>\n",
       "      <td>[5.516469955, -19.58231926]</td>\n",
       "      <td>SHIPPING_ROUTE</td>\n",
       "    </tr>\n",
       "    <tr>\n",
       "      <th>1</th>\n",
       "      <td>shipping_node_201799</td>\n",
       "      <td>342.40</td>\n",
       "      <td>5.009</td>\n",
       "      <td>NaN</td>\n",
       "      <td>10.0</td>\n",
       "      <td>shipping_node_202498</td>\n",
       "      <td>a625ng7ej3oi</td>\n",
       "      <td>[[38.90000916, 20.74999046], [41.20000076, 16....</td>\n",
       "      <td>[38.90000916, 20.74999046]</td>\n",
       "      <td>[41.20000076, 16.2999897]</td>\n",
       "      <td>SHIPPING_ROUTE</td>\n",
       "    </tr>\n",
       "    <tr>\n",
       "      <th>2</th>\n",
       "      <td>shipping_node_201799</td>\n",
       "      <td>231.40</td>\n",
       "      <td>3.425</td>\n",
       "      <td>NaN</td>\n",
       "      <td>11135113.0</td>\n",
       "      <td>shipping_node_201055</td>\n",
       "      <td>a625ng9po8sf</td>\n",
       "      <td>[[38.90000916, 20.74999046], [37.0, 23.59999084]]</td>\n",
       "      <td>[38.90000916, 20.74999046]</td>\n",
       "      <td>[37.0, 23.59999084]</td>\n",
       "      <td>SHIPPING_ROUTE</td>\n",
       "    </tr>\n",
       "    <tr>\n",
       "      <th>3</th>\n",
       "      <td>shipping_node_201266</td>\n",
       "      <td>98.44</td>\n",
       "      <td>1.434</td>\n",
       "      <td>NaN</td>\n",
       "      <td>25037.0</td>\n",
       "      <td>shipping_node_201888</td>\n",
       "      <td>a625ng9xkqsn</td>\n",
       "      <td>[[-71.28975677, 21.54577065], [-72.0, 20.29998...</td>\n",
       "      <td>[-71.28975677, 21.54577065]</td>\n",
       "      <td>[-72.0, 20.2999897]</td>\n",
       "      <td>SHIPPING_ROUTE</td>\n",
       "    </tr>\n",
       "    <tr>\n",
       "      <th>4</th>\n",
       "      <td>shipping_node_203108</td>\n",
       "      <td>13.60</td>\n",
       "      <td>0.209</td>\n",
       "      <td>NaN</td>\n",
       "      <td>0.0</td>\n",
       "      <td>shipping_node_203107</td>\n",
       "      <td>a625nggsov7i</td>\n",
       "      <td>[[-175.5, -20.99998093], [-175.296936, -20.951...</td>\n",
       "      <td>[-175.5, -20.99998093]</td>\n",
       "      <td>[-175.296936, -20.95126915]</td>\n",
       "      <td>SHIPPING_ROUTE</td>\n",
       "    </tr>\n",
       "    <tr>\n",
       "      <th>...</th>\n",
       "      <td>...</td>\n",
       "      <td>...</td>\n",
       "      <td>...</td>\n",
       "      <td>...</td>\n",
       "      <td>...</td>\n",
       "      <td>...</td>\n",
       "      <td>...</td>\n",
       "      <td>...</td>\n",
       "      <td>...</td>\n",
       "      <td>...</td>\n",
       "      <td>...</td>\n",
       "    </tr>\n",
       "    <tr>\n",
       "      <th>8268</th>\n",
       "      <td>shipping_node_122571</td>\n",
       "      <td>8.40</td>\n",
       "      <td>0.133</td>\n",
       "      <td>YORK R</td>\n",
       "      <td>0.0</td>\n",
       "      <td>shipping_node_123354</td>\n",
       "      <td>a625ngcc5rti</td>\n",
       "      <td>[[-76.70121765, 37.42079926], [-76.60984802, 3...</td>\n",
       "      <td>[-76.70121765, 37.42079926]</td>\n",
       "      <td>[-76.60984802, 37.32355881]</td>\n",
       "      <td>SHIPPING_ROUTE</td>\n",
       "    </tr>\n",
       "    <tr>\n",
       "      <th>8269</th>\n",
       "      <td>shipping_node_123354</td>\n",
       "      <td>1.30</td>\n",
       "      <td>0.020</td>\n",
       "      <td>YORK R</td>\n",
       "      <td>698.0</td>\n",
       "      <td>shipping_node_123470</td>\n",
       "      <td>a625nge3db1a</td>\n",
       "      <td>[[-76.60984802, 37.32355881], [-76.59509277, 3...</td>\n",
       "      <td>[-76.60984802, 37.32355881]</td>\n",
       "      <td>[-76.59509277, 37.30950165]</td>\n",
       "      <td>SHIPPING_ROUTE</td>\n",
       "    </tr>\n",
       "    <tr>\n",
       "      <th>8270</th>\n",
       "      <td>shipping_node_33992</td>\n",
       "      <td>4.02</td>\n",
       "      <td>0.045</td>\n",
       "      <td>YORK R</td>\n",
       "      <td>0.0</td>\n",
       "      <td>shipping_node_34564</td>\n",
       "      <td>a625ng976yqg</td>\n",
       "      <td>[[-70.71349335, 43.17829895], [-70.69139099, 4...</td>\n",
       "      <td>[-70.71349335, 43.17829895]</td>\n",
       "      <td>[-70.69139099, 43.13928986]</td>\n",
       "      <td>SHIPPING_ROUTE</td>\n",
       "    </tr>\n",
       "    <tr>\n",
       "      <th>8271</th>\n",
       "      <td>shipping_node_33992</td>\n",
       "      <td>13.07</td>\n",
       "      <td>0.205</td>\n",
       "      <td>YORK R</td>\n",
       "      <td>3579.0</td>\n",
       "      <td>shipping_node_34768</td>\n",
       "      <td>a625ngaie69h</td>\n",
       "      <td>[[-70.71349335, 43.17829895], [-70.70887756, 4...</td>\n",
       "      <td>[-70.71349335, 43.17829895]</td>\n",
       "      <td>[-70.70887756, 43.17601013]</td>\n",
       "      <td>SHIPPING_ROUTE</td>\n",
       "    </tr>\n",
       "    <tr>\n",
       "      <th>8272</th>\n",
       "      <td>shipping_node_125192</td>\n",
       "      <td>4.10</td>\n",
       "      <td>0.063</td>\n",
       "      <td>YORK SPI</td>\n",
       "      <td>1099.0</td>\n",
       "      <td>shipping_node_125717</td>\n",
       "      <td>a625ngafg9co</td>\n",
       "      <td>[[-76.14283752, 37.14421082], [-76.10800171, 3...</td>\n",
       "      <td>[-76.14283752, 37.14421082]</td>\n",
       "      <td>[-76.10800171, 37.09204102]</td>\n",
       "      <td>SHIPPING_ROUTE</td>\n",
       "    </tr>\n",
       "  </tbody>\n",
       "</table>\n",
       "<p>8273 rows × 11 columns</p>\n",
       "</div>"
      ],
      "text/plain": [
       "     StartNodeId:START_ID(ShippingNode)  impedance  length RouteName  \\\n",
       "0                  shipping_node_203050     719.60  11.047       NaN   \n",
       "1                  shipping_node_201799     342.40   5.009       NaN   \n",
       "2                  shipping_node_201799     231.40   3.425       NaN   \n",
       "3                  shipping_node_201266      98.44   1.434       NaN   \n",
       "4                  shipping_node_203108      13.60   0.209       NaN   \n",
       "...                                 ...        ...     ...       ...   \n",
       "8268               shipping_node_122571       8.40   0.133    YORK R   \n",
       "8269               shipping_node_123354       1.30   0.020    YORK R   \n",
       "8270                shipping_node_33992       4.02   0.045    YORK R   \n",
       "8271                shipping_node_33992      13.07   0.205    YORK R   \n",
       "8272               shipping_node_125192       4.10   0.063  YORK SPI   \n",
       "\n",
       "      Route Freq EndNodeId:END_ID(ShippingNode)       RouteId  \\\n",
       "0           22.0           shipping_node_203073  a625nghd6uql   \n",
       "1           10.0           shipping_node_202498  a625ng7ej3oi   \n",
       "2     11135113.0           shipping_node_201055  a625ng9po8sf   \n",
       "3        25037.0           shipping_node_201888  a625ng9xkqsn   \n",
       "4            0.0           shipping_node_203107  a625nggsov7i   \n",
       "...          ...                            ...           ...   \n",
       "8268         0.0           shipping_node_123354  a625ngcc5rti   \n",
       "8269       698.0           shipping_node_123470  a625nge3db1a   \n",
       "8270         0.0            shipping_node_34564  a625ng976yqg   \n",
       "8271      3579.0            shipping_node_34768  a625ngaie69h   \n",
       "8272      1099.0           shipping_node_125717  a625ngafg9co   \n",
       "\n",
       "                                            coordinates  \\\n",
       "0     [[11.0, -19.00001907], [5.516469955, -19.58231...   \n",
       "1     [[38.90000916, 20.74999046], [41.20000076, 16....   \n",
       "2     [[38.90000916, 20.74999046], [37.0, 23.59999084]]   \n",
       "3     [[-71.28975677, 21.54577065], [-72.0, 20.29998...   \n",
       "4     [[-175.5, -20.99998093], [-175.296936, -20.951...   \n",
       "...                                                 ...   \n",
       "8268  [[-76.70121765, 37.42079926], [-76.60984802, 3...   \n",
       "8269  [[-76.60984802, 37.32355881], [-76.59509277, 3...   \n",
       "8270  [[-70.71349335, 43.17829895], [-70.69139099, 4...   \n",
       "8271  [[-70.71349335, 43.17829895], [-70.70887756, 4...   \n",
       "8272  [[-76.14283752, 37.14421082], [-76.10800171, 3...   \n",
       "\n",
       "                   starting_point                    end_point           :TYPE  \n",
       "0            [11.0, -19.00001907]  [5.516469955, -19.58231926]  SHIPPING_ROUTE  \n",
       "1      [38.90000916, 20.74999046]    [41.20000076, 16.2999897]  SHIPPING_ROUTE  \n",
       "2      [38.90000916, 20.74999046]          [37.0, 23.59999084]  SHIPPING_ROUTE  \n",
       "3     [-71.28975677, 21.54577065]          [-72.0, 20.2999897]  SHIPPING_ROUTE  \n",
       "4          [-175.5, -20.99998093]  [-175.296936, -20.95126915]  SHIPPING_ROUTE  \n",
       "...                           ...                          ...             ...  \n",
       "8268  [-76.70121765, 37.42079926]  [-76.60984802, 37.32355881]  SHIPPING_ROUTE  \n",
       "8269  [-76.60984802, 37.32355881]  [-76.59509277, 37.30950165]  SHIPPING_ROUTE  \n",
       "8270  [-70.71349335, 43.17829895]  [-70.69139099, 43.13928986]  SHIPPING_ROUTE  \n",
       "8271  [-70.71349335, 43.17829895]  [-70.70887756, 43.17601013]  SHIPPING_ROUTE  \n",
       "8272  [-76.14283752, 37.14421082]  [-76.10800171, 37.09204102]  SHIPPING_ROUTE  \n",
       "\n",
       "[8273 rows x 11 columns]"
      ]
     },
     "execution_count": 15,
     "metadata": {},
     "output_type": "execute_result"
    }
   ],
   "source": [
    "a"
   ]
  },
  {
   "cell_type": "code",
   "execution_count": 20,
   "metadata": {},
   "outputs": [],
   "source": [
    "a.coordinates = a.coordinates.apply(json.loads)"
   ]
  },
  {
   "cell_type": "code",
   "execution_count": 25,
   "metadata": {},
   "outputs": [],
   "source": [
    "a['distance'] = a.coordinates.apply(lambda r: haversine(r[0], r[1]))"
   ]
  },
  {
   "cell_type": "code",
   "execution_count": 27,
   "metadata": {},
   "outputs": [],
   "source": [
    "a.to_csv(all_data_dirs['shipping-shipping'])"
   ]
  },
  {
   "cell_type": "code",
   "execution_count": null,
   "metadata": {},
   "outputs": [],
   "source": []
  },
  {
   "cell_type": "code",
   "execution_count": 78,
   "metadata": {},
   "outputs": [],
   "source": [
    "from math import pi"
   ]
  },
  {
   "cell_type": "code",
   "execution_count": 81,
   "metadata": {},
   "outputs": [
    {
     "data": {
      "text/plain": [
       "0.00531297109789112"
      ]
     },
     "execution_count": 81,
     "metadata": {},
     "output_type": "execute_result"
    }
   ],
   "source": [
    "206304 / (pi*(30*2.54/100/2)**2 * 3 * .9 * 3600 * 8760)"
   ]
  },
  {
   "cell_type": "code",
   "execution_count": 83,
   "metadata": {},
   "outputs": [
    {
     "data": {
      "text/plain": [
       "0.00801266339869281"
      ]
     },
     "execution_count": 83,
     "metadata": {},
     "output_type": "execute_result"
    }
   ],
   "source": [
    "78.46 / 6.12 / 1e3 /1.6 #$/mnbbl/mi * bbl/GJ * 1/1.6 mi/km * 1e6 / 1e9"
   ]
  },
  {
   "cell_type": "code",
   "execution_count": 86,
   "metadata": {},
   "outputs": [
    {
     "data": {
      "text/plain": [
       "0.007242408804616588"
      ]
     },
     "execution_count": 86,
     "metadata": {},
     "output_type": "execute_result"
    }
   ],
   "source": [
    "206304 / (pi*(30*2.54/100/2)**2 * 3 * .9 * 3600 * 8760) + 4 / 1e6 * 700 / 1.6 /.907"
   ]
  },
  {
   "cell_type": "code",
   "execution_count": 77,
   "metadata": {},
   "outputs": [
    {
     "data": {
      "text/plain": [
       "0.001851851851851852"
      ]
     },
     "execution_count": 77,
     "metadata": {},
     "output_type": "execute_result"
    }
   ],
   "source": [
    "800/9000/48 # 800$ / 9000km / 48 tonnes"
   ]
  },
  {
   "cell_type": "code",
   "execution_count": 10,
   "metadata": {},
   "outputs": [
    {
     "data": {
      "text/plain": [
       "0.100152792900019"
      ]
     },
     "execution_count": 10,
     "metadata": {},
     "output_type": "execute_result"
    }
   ],
   "source": [
    "1/sum([1/(1.1**ii) for ii in range(25)])"
   ]
  },
  {
   "cell_type": "code",
   "execution_count": 9,
   "metadata": {},
   "outputs": [
    {
     "data": {
      "text/plain": [
       "59.14691943127962"
      ]
     },
     "execution_count": 9,
     "metadata": {},
     "output_type": "execute_result"
    }
   ],
   "source": [
    "0.6 / 1.055 * 52 + 4/1.055*52 *0.15"
   ]
  },
  {
   "cell_type": "code",
   "execution_count": 11,
   "metadata": {},
   "outputs": [
    {
     "data": {
      "text/plain": [
       "100.152792900019"
      ]
     },
     "execution_count": 11,
     "metadata": {},
     "output_type": "execute_result"
    }
   ],
   "source": [
    "1000*0.100152792900019"
   ]
  },
  {
   "cell_type": "code",
   "execution_count": null,
   "metadata": {},
   "outputs": [],
   "source": []
  },
  {
   "cell_type": "code",
   "execution_count": null,
   "metadata": {},
   "outputs": [],
   "source": []
  },
  {
   "cell_type": "code",
   "execution_count": 73,
   "metadata": {},
   "outputs": [
    {
     "data": {
      "text/plain": [
       "array(['Hydro', 'Gas', 'Other', 'Oil', 'Wind', 'Nuclear', 'Coal', 'Solar',\n",
       "       'Waste', 'Biomass', 'WaveandTidal', 'Geothermal', 'Unknown',\n",
       "       'Cogeneration', 'Storage', 'Petcoke'], dtype=object)"
      ]
     },
     "execution_count": 73,
     "metadata": {},
     "output_type": "execute_result"
    }
   ],
   "source": [
    "a.fuel1.unique()"
   ]
  },
  {
   "cell_type": "code",
   "execution_count": 69,
   "metadata": {},
   "outputs": [
    {
     "data": {
      "text/plain": [
       "total_oil_consumption     6852.344188\n",
       "total_gas_consumption     3592.000562\n",
       "total_coal_consumption    3620.497495\n",
       "dtype: float64"
      ]
     },
     "execution_count": 69,
     "metadata": {},
     "output_type": "execute_result"
    }
   ],
   "source": [
    "a[['total_oil_consumption','total_gas_consumption','total_coal_consumption']].sum()/1000/1000/1000*41.8"
   ]
  },
  {
   "cell_type": "code",
   "execution_count": null,
   "metadata": {},
   "outputs": [],
   "source": []
  },
  {
   "cell_type": "code",
   "execution_count": 19,
   "metadata": {},
   "outputs": [],
   "source": [
    "cities_df = pd.read_csv(all_data_dirs['cities-N'])"
   ]
  },
  {
   "cell_type": "code",
   "execution_count": 32,
   "metadata": {},
   "outputs": [],
   "source": [
    "oil_cols=[cc for cc in cities_df2 if 'oil' in cc]\n",
    "gas_cols=[cc for cc in cities_df2 if 'gas' in cc]\n",
    "coal_cols=[cc for cc in cities_df2 if 'coal' in cc]"
   ]
  },
  {
   "cell_type": "code",
   "execution_count": 33,
   "metadata": {},
   "outputs": [
    {
     "data": {
      "text/plain": [
       "['en_sec_buildings_oil',\n",
       " 'en_sec_aviation_oil',\n",
       " 'en_sec_nonenergy_oil',\n",
       " 'en_sec_agriculture_oil',\n",
       " 'en_sec_transport_oil',\n",
       " 'en_sec_industry_oil',\n",
       " 'en_sec_shipping_oil',\n",
       " 'em_ed_agricuture_soils']"
      ]
     },
     "execution_count": 33,
     "metadata": {},
     "output_type": "execute_result"
    }
   ],
   "source": [
    "oil_cols"
   ]
  },
  {
   "cell_type": "code",
   "execution_count": 34,
   "metadata": {},
   "outputs": [
    {
     "data": {
      "text/plain": [
       "['en_sec_industry_gas',\n",
       " 'en_sec_agriculture_gas',\n",
       " 'en_sec_shipping_gas',\n",
       " 'en_sec_nonenergy_gas',\n",
       " 'en_sec_transport_gas',\n",
       " 'en_sec_buildings_gas',\n",
       " 'en_sec_aviation_gas']"
      ]
     },
     "execution_count": 34,
     "metadata": {},
     "output_type": "execute_result"
    }
   ],
   "source": [
    "gas_cols"
   ]
  },
  {
   "cell_type": "code",
   "execution_count": 35,
   "metadata": {},
   "outputs": [
    {
     "data": {
      "text/plain": [
       "['en_sec_transport_coal',\n",
       " 'en_sec_agriculture_coal',\n",
       " 'en_sec_nonenergy_coal',\n",
       " 'en_sec_industry_coal',\n",
       " 'en_sec_buildings_coal',\n",
       " 'en_sec_shipping_coal',\n",
       " 'en_sec_aviation_coal']"
      ]
     },
     "execution_count": 35,
     "metadata": {},
     "output_type": "execute_result"
    }
   ],
   "source": [
    "coal_cols"
   ]
  },
  {
   "cell_type": "code",
   "execution_count": 18,
   "metadata": {},
   "outputs": [
    {
     "name": "stdout",
     "output_type": "stream",
     "text": [
      "en_sec_buildings_oil 0 0.0 285448433.9629682 1499147.7694568967\n",
      "en_sec_aviation_oil 367 -394350008.0624231 327198420.0 -5418.466487590684\n",
      "en_sec_nonenergy_oil 0 0.0 3933854.533437007 19799.285462664597\n",
      "en_sec_agriculture_oil 0 0.0 23268573.649724096 125786.1354417296\n",
      "en_sec_transport_oil 0 0.0 715434750.9457465 7574463.457073866\n",
      "en_sec_industry_oil 0 0.0 319223657.72820985 2027765.4045277108\n",
      "en_sec_shipping_oil 123 -284572358.04320115 1960510968.0 271491.5175929439\n",
      "em_ed_agricuture_soils 0 0.0 1717557.650334942 10709.693105522665\n"
     ]
    }
   ],
   "source": [
    "for cc in oil_cols:\n",
    "    print (cc,(cities_df2[cc]<0).sum(), cities_df2[cc].min(), cities_df2[cc].max(), cities_df2[cc].mean())"
   ]
  },
  {
   "cell_type": "code",
   "execution_count": 42,
   "metadata": {},
   "outputs": [],
   "source": [
    "cities_df['total_oil_consumption'] = 0\n",
    "cities_df['total_gas_consumption'] = 0\n",
    "cities_df['total_coal_consumption'] = 0"
   ]
  },
  {
   "cell_type": "code",
   "execution_count": 43,
   "metadata": {},
   "outputs": [],
   "source": [
    "for cc in oil_cols:\n",
    "    cities_df['total_oil_consumption'] += cities_df[cities_df[cc]>=0][cc]"
   ]
  },
  {
   "cell_type": "code",
   "execution_count": 44,
   "metadata": {},
   "outputs": [],
   "source": [
    "for cc in gas_cols:\n",
    "    cities_df['total_gas_consumption'] += cities_df[cities_df[cc]>=0][cc]"
   ]
  },
  {
   "cell_type": "code",
   "execution_count": 45,
   "metadata": {},
   "outputs": [],
   "source": [
    "for cc in coal_cols:\n",
    "    cities_df['total_coal_consumption'] += cities_df[cities_df[cc]>=0][cc]"
   ]
  },
  {
   "cell_type": "code",
   "execution_count": 46,
   "metadata": {},
   "outputs": [
    {
     "data": {
      "text/html": [
       "<div>\n",
       "<style scoped>\n",
       "    .dataframe tbody tr th:only-of-type {\n",
       "        vertical-align: middle;\n",
       "    }\n",
       "\n",
       "    .dataframe tbody tr th {\n",
       "        vertical-align: top;\n",
       "    }\n",
       "\n",
       "    .dataframe thead th {\n",
       "        text-align: right;\n",
       "    }\n",
       "</style>\n",
       "<table border=\"1\" class=\"dataframe\">\n",
       "  <thead>\n",
       "    <tr style=\"text-align: right;\">\n",
       "      <th></th>\n",
       "      <th>total_oil_consumption</th>\n",
       "      <th>total_gas_consumption</th>\n",
       "      <th>total_coal_consumption</th>\n",
       "    </tr>\n",
       "  </thead>\n",
       "  <tbody>\n",
       "    <tr>\n",
       "      <th>0</th>\n",
       "      <td>NaN</td>\n",
       "      <td>NaN</td>\n",
       "      <td>8.207831e+04</td>\n",
       "    </tr>\n",
       "    <tr>\n",
       "      <th>1</th>\n",
       "      <td>NaN</td>\n",
       "      <td>NaN</td>\n",
       "      <td>6.179216e+04</td>\n",
       "    </tr>\n",
       "    <tr>\n",
       "      <th>2</th>\n",
       "      <td>NaN</td>\n",
       "      <td>NaN</td>\n",
       "      <td>1.259028e+05</td>\n",
       "    </tr>\n",
       "    <tr>\n",
       "      <th>3</th>\n",
       "      <td>NaN</td>\n",
       "      <td>NaN</td>\n",
       "      <td>1.205722e+05</td>\n",
       "    </tr>\n",
       "    <tr>\n",
       "      <th>4</th>\n",
       "      <td>NaN</td>\n",
       "      <td>NaN</td>\n",
       "      <td>7.095819e+04</td>\n",
       "    </tr>\n",
       "    <tr>\n",
       "      <th>...</th>\n",
       "      <td>...</td>\n",
       "      <td>...</td>\n",
       "      <td>...</td>\n",
       "    </tr>\n",
       "    <tr>\n",
       "      <th>13224</th>\n",
       "      <td>5.910615e+06</td>\n",
       "      <td>0.0</td>\n",
       "      <td>1.322445e+06</td>\n",
       "    </tr>\n",
       "    <tr>\n",
       "      <th>13225</th>\n",
       "      <td>2.625451e+06</td>\n",
       "      <td>0.0</td>\n",
       "      <td>5.197555e+05</td>\n",
       "    </tr>\n",
       "    <tr>\n",
       "      <th>13226</th>\n",
       "      <td>4.808126e+06</td>\n",
       "      <td>0.0</td>\n",
       "      <td>1.069115e+06</td>\n",
       "    </tr>\n",
       "    <tr>\n",
       "      <th>13227</th>\n",
       "      <td>4.336072e+06</td>\n",
       "      <td>0.0</td>\n",
       "      <td>7.413206e+05</td>\n",
       "    </tr>\n",
       "    <tr>\n",
       "      <th>13228</th>\n",
       "      <td>7.388133e+06</td>\n",
       "      <td>0.0</td>\n",
       "      <td>1.214614e+06</td>\n",
       "    </tr>\n",
       "  </tbody>\n",
       "</table>\n",
       "<p>13229 rows × 3 columns</p>\n",
       "</div>"
      ],
      "text/plain": [
       "       total_oil_consumption  total_gas_consumption  total_coal_consumption\n",
       "0                        NaN                    NaN            8.207831e+04\n",
       "1                        NaN                    NaN            6.179216e+04\n",
       "2                        NaN                    NaN            1.259028e+05\n",
       "3                        NaN                    NaN            1.205722e+05\n",
       "4                        NaN                    NaN            7.095819e+04\n",
       "...                      ...                    ...                     ...\n",
       "13224           5.910615e+06                    0.0            1.322445e+06\n",
       "13225           2.625451e+06                    0.0            5.197555e+05\n",
       "13226           4.808126e+06                    0.0            1.069115e+06\n",
       "13227           4.336072e+06                    0.0            7.413206e+05\n",
       "13228           7.388133e+06                    0.0            1.214614e+06\n",
       "\n",
       "[13229 rows x 3 columns]"
      ]
     },
     "execution_count": 46,
     "metadata": {},
     "output_type": "execute_result"
    }
   ],
   "source": [
    "cities_df[['total_oil_consumption','total_gas_consumption','total_coal_consumption']]"
   ]
  },
  {
   "cell_type": "code",
   "execution_count": 47,
   "metadata": {},
   "outputs": [
    {
     "data": {
      "text/plain": [
       "total_oil_consumption     0.0\n",
       "total_gas_consumption     0.0\n",
       "total_coal_consumption    0.0\n",
       "dtype: float64"
      ]
     },
     "execution_count": 47,
     "metadata": {},
     "output_type": "execute_result"
    }
   ],
   "source": [
    "cities_df[['total_oil_consumption','total_gas_consumption','total_coal_consumption']].min()"
   ]
  },
  {
   "cell_type": "code",
   "execution_count": 48,
   "metadata": {},
   "outputs": [
    {
     "data": {
      "text/plain": [
       "total_oil_consumption     2.568759e+09\n",
       "total_gas_consumption     8.845697e+08\n",
       "total_coal_consumption    3.360161e+09\n",
       "dtype: float64"
      ]
     },
     "execution_count": 48,
     "metadata": {},
     "output_type": "execute_result"
    }
   ],
   "source": [
    "cities_df[['total_oil_consumption','total_gas_consumption','total_coal_consumption']].max()"
   ]
  },
  {
   "cell_type": "code",
   "execution_count": 52,
   "metadata": {},
   "outputs": [
    {
     "data": {
      "text/plain": [
       "total_oil_consumption     1.275435e+07\n",
       "total_gas_consumption     6.556770e+06\n",
       "total_coal_consumption    6.547341e+06\n",
       "dtype: float64"
      ]
     },
     "execution_count": 52,
     "metadata": {},
     "output_type": "execute_result"
    }
   ],
   "source": [
    "cities_df[['total_oil_consumption','total_gas_consumption','total_coal_consumption']].mean()"
   ]
  },
  {
   "cell_type": "code",
   "execution_count": 53,
   "metadata": {},
   "outputs": [],
   "source": [
    "cities_df.to_csv(all_data_dirs['cities-N'])"
   ]
  },
  {
   "cell_type": "code",
   "execution_count": null,
   "metadata": {},
   "outputs": [],
   "source": []
  },
  {
   "cell_type": "code",
   "execution_count": null,
   "metadata": {},
   "outputs": [],
   "source": []
  },
  {
   "cell_type": "code",
   "execution_count": null,
   "metadata": {},
   "outputs": [],
   "source": []
  },
  {
   "cell_type": "code",
   "execution_count": null,
   "metadata": {},
   "outputs": [],
   "source": []
  },
  {
   "cell_type": "code",
   "execution_count": null,
   "metadata": {},
   "outputs": [],
   "source": []
  },
  {
   "cell_type": "code",
   "execution_count": 29,
   "metadata": {},
   "outputs": [
    {
     "data": {
      "text/plain": [
       "74        36343.478966\n",
       "75        99011.473818\n",
       "77        51139.840002\n",
       "79        64713.207214\n",
       "80       546565.858885\n",
       "             ...      \n",
       "13224     29015.600939\n",
       "13225      8744.120711\n",
       "13226     28247.534577\n",
       "13227      5721.949537\n",
       "13228     25648.301488\n",
       "Name: en_sec_aviation_oil, Length: 7975, dtype: float64"
      ]
     },
     "execution_count": 29,
     "metadata": {},
     "output_type": "execute_result"
    }
   ],
   "source": [
    "cities_df[cities_df['en_sec_aviation_oil']>0]['en_sec_aviation_oil']"
   ]
  },
  {
   "cell_type": "code",
   "execution_count": 31,
   "metadata": {},
   "outputs": [
    {
     "data": {
      "text/plain": [
       "0                 NaN\n",
       "1                 NaN\n",
       "2                 NaN\n",
       "3                 NaN\n",
       "4                 NaN\n",
       "             ...     \n",
       "13224    5.910615e+06\n",
       "13225    2.625451e+06\n",
       "13226    4.808126e+06\n",
       "13227    4.336072e+06\n",
       "13228    7.388133e+06\n",
       "Name: total_oil_consumption, Length: 13229, dtype: float64"
      ]
     },
     "execution_count": 31,
     "metadata": {},
     "output_type": "execute_result"
    }
   ],
   "source": [
    "cities_df['total_oil_consumption']"
   ]
  },
  {
   "cell_type": "code",
   "execution_count": null,
   "metadata": {},
   "outputs": [],
   "source": []
  },
  {
   "cell_type": "code",
   "execution_count": null,
   "metadata": {},
   "outputs": [],
   "source": []
  },
  {
   "cell_type": "code",
   "execution_count": null,
   "metadata": {},
   "outputs": [],
   "source": [
    "cities_df"
   ]
  },
  {
   "cell_type": "code",
   "execution_count": null,
   "metadata": {},
   "outputs": [],
   "source": [
    "list(cities_df)"
   ]
  },
  {
   "cell_type": "code",
   "execution_count": null,
   "metadata": {},
   "outputs": [],
   "source": [
    "oilfields_df = pd.read_csv(all_data_dirs['oilfields-N'])"
   ]
  },
  {
   "cell_type": "code",
   "execution_count": null,
   "metadata": {},
   "outputs": [],
   "source": [
    "oilfields_df"
   ]
  },
  {
   "cell_type": "code",
   "execution_count": null,
   "metadata": {},
   "outputs": [],
   "source": [
    "oilfields_df['coordinates'] = oilfields_df['coordinates'].apply(json.loads)"
   ]
  },
  {
   "cell_type": "code",
   "execution_count": null,
   "metadata": {},
   "outputs": [],
   "source": [
    "def _nest_coords(row):\n",
    "        if row['geometry_type']=='MultiPolygon':\n",
    "            return row['coordinates']\n",
    "        else:\n",
    "            return [list(row['coordinates'])]"
   ]
  },
  {
   "cell_type": "code",
   "execution_count": null,
   "metadata": {},
   "outputs": [],
   "source": [
    "def _return_geom(row):\n",
    "        if row['geometry_type']=='MultiPolygon':\n",
    "            return geometry.MultiPolygon([geometry.Polygon(el) for el in row['coordinates'][0]])\n",
    "        elif row['geometry_type']=='Polygon':\n",
    "            return geometry.Polygon(row['coordinates'][0])"
   ]
  },
  {
   "cell_type": "code",
   "execution_count": null,
   "metadata": {},
   "outputs": [],
   "source": [
    "oilfields_df['geometry'] = oilfields_df.apply(lambda row: _return_geom(row), axis=1)"
   ]
  },
  {
   "cell_type": "code",
   "execution_count": null,
   "metadata": {},
   "outputs": [],
   "source": [
    "oilfields_df['geometry'].iloc[-3]"
   ]
  },
  {
   "cell_type": "code",
   "execution_count": null,
   "metadata": {},
   "outputs": [],
   "source": [
    "oilfields_df['_geom'] = oilfields_df['geometry'].apply(lambda _geom: [_geom.representative_point().x, _geom.representative_point().y])"
   ]
  },
  {
   "cell_type": "code",
   "execution_count": null,
   "metadata": {},
   "outputs": [],
   "source": [
    "oilfields_df.to_csv(os.path.join(os.getcwd(),'..','results_backup','oil_field_nodes_fixup.csv'))"
   ]
  },
  {
   "cell_type": "code",
   "execution_count": null,
   "metadata": {},
   "outputs": [],
   "source": []
  },
  {
   "cell_type": "code",
   "execution_count": null,
   "metadata": {},
   "outputs": [],
   "source": []
  },
  {
   "cell_type": "code",
   "execution_count": null,
   "metadata": {},
   "outputs": [],
   "source": []
  },
  {
   "cell_type": "code",
   "execution_count": null,
   "metadata": {},
   "outputs": [],
   "source": [
    "oilfields_primary = pickle.load(open(os.path.join(os.getcwd(),'..','results_backup','primary','prm_oil_field_data.pkl'),'rb'))"
   ]
  },
  {
   "cell_type": "code",
   "execution_count": null,
   "metadata": {},
   "outputs": [],
   "source": [
    "oilfields_primary"
   ]
  },
  {
   "cell_type": "code",
   "execution_count": null,
   "metadata": {},
   "outputs": [],
   "source": []
  },
  {
   "cell_type": "code",
   "execution_count": null,
   "metadata": {},
   "outputs": [],
   "source": []
  },
  {
   "cell_type": "code",
   "execution_count": null,
   "metadata": {},
   "outputs": [],
   "source": []
  },
  {
   "cell_type": "code",
   "execution_count": null,
   "metadata": {},
   "outputs": [],
   "source": []
  },
  {
   "cell_type": "code",
   "execution_count": null,
   "metadata": {},
   "outputs": [],
   "source": [
    "cities_df"
   ]
  },
  {
   "cell_type": "code",
   "execution_count": null,
   "metadata": {},
   "outputs": [],
   "source": [
    "cities_int = pd.read_csv('./../results_backup/intermediate/int_cities.csv')"
   ]
  },
  {
   "cell_type": "code",
   "execution_count": null,
   "metadata": {},
   "outputs": [],
   "source": [
    "def rep_pt(geom):\n",
    "    return wkt.loads(geom).representative_point()"
   ]
  },
  {
   "cell_type": "code",
   "execution_count": null,
   "metadata": {},
   "outputs": [],
   "source": [
    "cities_df = cities_df.join(cities_int.geometry.apply(rep_pt))"
   ]
  },
  {
   "cell_type": "code",
   "execution_count": null,
   "metadata": {},
   "outputs": [],
   "source": [
    "cities_df"
   ]
  },
  {
   "cell_type": "code",
   "execution_count": null,
   "metadata": {},
   "outputs": [],
   "source": [
    "cities_df['coordinates'] = cities_df['geometry'].apply(lambda r: [r.x, r.y])"
   ]
  },
  {
   "cell_type": "code",
   "execution_count": null,
   "metadata": {},
   "outputs": [],
   "source": [
    "cities_df.drop(columns=['geometry'], inplace=True)"
   ]
  },
  {
   "cell_type": "code",
   "execution_count": null,
   "metadata": {},
   "outputs": [],
   "source": [
    "cities_df.to_csv('./../results_backup/simplify/cities_node_dataframe.csv')"
   ]
  },
  {
   "cell_type": "code",
   "execution_count": null,
   "metadata": {},
   "outputs": [],
   "source": [
    "\n"
   ]
  },
  {
   "cell_type": "code",
   "execution_count": null,
   "metadata": {},
   "outputs": [],
   "source": [
    "railways_df = pd.read_csv(all_data_dirs['railways-N'])"
   ]
  },
  {
   "cell_type": "code",
   "execution_count": null,
   "metadata": {},
   "outputs": [],
   "source": [
    "pipeline_df = pd.read_csv(all_data_dirs['pipelines-N'])"
   ]
  },
  {
   "cell_type": "code",
   "execution_count": null,
   "metadata": {},
   "outputs": [],
   "source": [
    "ports_df = pd.read_csv(all_data_dirs['ports-N'])"
   ]
  },
  {
   "cell_type": "code",
   "execution_count": null,
   "metadata": {},
   "outputs": [],
   "source": [
    "ports_df.coordinates = ports_df.coordinates.apply(json.loads)"
   ]
  },
  {
   "cell_type": "code",
   "execution_count": null,
   "metadata": {},
   "outputs": [],
   "source": [
    "pipeline_df.coordinates = pipeline_df.coordinates.str.replace('(','[').str.replace(')',']').apply(json.loads)"
   ]
  },
  {
   "cell_type": "code",
   "execution_count": null,
   "metadata": {},
   "outputs": [],
   "source": [
    "edges_df = pd.read_csv(all_data_dirs[df_names['pipelines-N']['ports-N']])"
   ]
  },
  {
   "cell_type": "code",
   "execution_count": null,
   "metadata": {},
   "outputs": [],
   "source": [
    "ports_id = [cc for cc in ports_df.columns if 'ID' in cc][0]\n"
   ]
  },
  {
   "cell_type": "code",
   "execution_count": null,
   "metadata": {},
   "outputs": [],
   "source": [
    "ports_df.set_index(ports_id, inplace=True)"
   ]
  },
  {
   "cell_type": "code",
   "execution_count": null,
   "metadata": {},
   "outputs": [],
   "source": [
    "pipeline_id = [cc for cc in pipeline_df.columns if 'ID' in cc][0]"
   ]
  },
  {
   "cell_type": "code",
   "execution_count": null,
   "metadata": {},
   "outputs": [],
   "source": [
    "pipeline_df.set_index(pipeline_id, inplace=True)"
   ]
  },
  {
   "cell_type": "code",
   "execution_count": null,
   "metadata": {},
   "outputs": [],
   "source": [
    "edge_df"
   ]
  },
  {
   "cell_type": "code",
   "execution_count": null,
   "metadata": {},
   "outputs": [],
   "source": []
  },
  {
   "cell_type": "code",
   "execution_count": 16,
   "metadata": {},
   "outputs": [],
   "source": [
    "def haversine(coord1, coord2):\n",
    "    import math\n",
    "    # Coordinates in decimal degrees (e.g. 2.89078, 12.79797)\n",
    "    lon1, lat1 = coord1\n",
    "    lon2, lat2 = coord2\n",
    "    R = 6371000  # radius of Earth in meters\n",
    "    phi_1 = math.radians(lat1)\n",
    "    phi_2 = math.radians(lat2)\n",
    "\n",
    "    delta_phi = math.radians(lat2 - lat1)\n",
    "    delta_lambda = math.radians(lon2 - lon1)\n",
    "\n",
    "    a = math.sin(delta_phi / 2.0) ** 2 + math.cos(phi_1) * math.cos(phi_2) * math.sin(delta_lambda / 2.0) ** 2\n",
    "\n",
    "    c = 2 * math.atan2(math.sqrt(a), math.sqrt(1 - a))\n",
    "\n",
    "    meters = R * c  # output distance in meters\n",
    "    km = meters / 1000.0  # output distance in kilometers\n",
    "\n",
    "    meters = round(meters)\n",
    "    return meters"
   ]
  },
  {
   "cell_type": "code",
   "execution_count": null,
   "metadata": {},
   "outputs": [],
   "source": [
    "left_df"
   ]
  },
  {
   "cell_type": "code",
   "execution_count": null,
   "metadata": {},
   "outputs": [],
   "source": [
    "#done = ['pipelines-ports']"
   ]
  },
  {
   "cell_type": "code",
   "execution_count": null,
   "metadata": {},
   "outputs": [],
   "source": [
    "def single_connection_simplify(left_df, right_df, edge_df):\n",
    "    logger.info(f'casting to geometry...')   \n",
    "    print (left_df)\n",
    "    left_df['geometry'] = left_df['coordinates'].apply(geometry.Point)\n",
    "    right_df['geometry'] = right_df['coordinates'].apply(geometry.Point)\n",
    "    \n",
    "    logger.info('getting cols')\n",
    "    start_col = [cc for cc in edge_df.columns if 'START_ID' in cc][0]\n",
    "    end_col = [cc for cc in edge_df.columns if 'END_ID' in cc][0]\n",
    "    \n",
    "    logger.info('merging')\n",
    "    edge_df = edge_df.merge(left_df[['geometry']], how='left', left_on=start_col, right_index=True)\n",
    "    edge_df.rename(columns={'geometry':'left_geom'}, inplace=True)\n",
    "    edge_df = edge_df.merge(right_df[['geometry']], how='left', left_on=end_col, right_index=True)\n",
    "    edge_df.rename(columns={'geometry':'right_geom'}, inplace=True)\n",
    "    \n",
    "    logger.info('getting dists')\n",
    "    edge_df['dist'] = edge_df.apply(lambda row: haversine([row['left_geom'].x, row['left_geom'].y], [row['right_geom'].x, row['right_geom'].y]), axis=1)\n",
    "    return edge_df"
   ]
  },
  {
   "cell_type": "code",
   "execution_count": null,
   "metadata": {
    "scrolled": true
   },
   "outputs": [],
   "source": [
    "for network, network_dict in df_names.items():\n",
    "    net_asset = network.split('-')[0]\n",
    "    logger.info(f'doing net asset: {net_asset}')\n",
    "    network_df = pd.read_csv(all_data_dirs[network])\n",
    "    \n",
    "    network_df.coordinates = network_df.coordinates.str.replace('(','[').str.replace(')',']').apply(json.loads)\n",
    "    \n",
    "    network_id = [cc for cc in network_df.columns if 'ID' in cc][0]\n",
    "    network_df.set_index(network_id, inplace=True)\n",
    "    \n",
    "    for kk,vv in network_dict.items():\n",
    "        pt_asset  = kk.split('-')[0]\n",
    "        if '-'.join([net_asset,pt_asset]) in done:\n",
    "            logger.info(f'already done {net_asset}-{pt_asset}')\n",
    "        else:\n",
    "            logger.info(f'doing {net_asset}-{pt_asset}')\n",
    "            input('-->')\n",
    "\n",
    "\n",
    "            pt_df = pd.read_csv(all_data_dirs[kk])\n",
    "\n",
    "            pt_id = [cc for cc in pt_df.columns if 'ID' in cc][0]\n",
    "            pt_df.set_index(pt_id, inplace=True)\n",
    "\n",
    "            pt_df.coordinates = pt_df.coordinates.apply(json.loads)\n",
    "\n",
    "            edge_df = pd.read_csv(all_data_dirs[vv])\n",
    "\n",
    "            fname = all_data_dirs[vv].split('/')[-1]\n",
    "\n",
    "            logger.info(f'all loaded and writing to fname {fname}')\n",
    "\n",
    "            if net_asset==vv.split('-')[0]: #left\n",
    "                logger.info(f'left: {net_asset}, {pt_asset}, edge_df')\n",
    "                edge_df = single_connection_simplify(network_df, pt_df,edge_df)\n",
    "\n",
    "            elif net_asset==vv.split('-')[1]: #right\n",
    "                logger.info(f'right: {pt_asset}, {net_asset}, edge_df')\n",
    "                edge_df = single_connection_simplify(pt_df, network_df, edge_df)\n",
    "            else:\n",
    "                print ('rugroh neither match')\n",
    "\n",
    "            pt_col = [cc for cc in edge_df.columns if pt_df.index.name.split('(')[-1][:-1] in cc][0]\n",
    "            logger.info(f'pt col: {pt_col}')\n",
    "\n",
    "            logger.info(f'getting idx_mins')\n",
    "            idxmins = edge_df.groupby(pt_col).dist.idxmin().values\n",
    "\n",
    "            pre_len = len(edge_df)\n",
    "\n",
    "            edge_df = edge_df.iloc[idxmins].drop(columns=['left_geom','right_geom','dist'])\n",
    "\n",
    "\n",
    "            logger.info(f'reduced size from {pre_len} to {len(edge_df)}, writing to file')\n",
    "            edge_df.to_csv('./../results_backup/simplify/'+fname)\n",
    "            done.append('-'.join([net_asset,pt_asset]))\n",
    "        \n",
    "        \n",
    "        \n",
    "        "
   ]
  },
  {
   "cell_type": "code",
   "execution_count": null,
   "metadata": {},
   "outputs": [],
   "source": [
    "done"
   ]
  },
  {
   "cell_type": "code",
   "execution_count": null,
   "metadata": {},
   "outputs": [],
   "source": [
    "['pipeline-port',\n",
    " 'pipelines-ports',\n",
    " 'pipelines-cities',\n",
    " 'pipelines-powerstn',\n",
    " 'pipelines-lng',\n",
    " 'pipelines-procplant',\n",
    " 'pipelines-refineries',\n",
    " 'pipelines-wellpads']"
   ]
  },
  {
   "cell_type": "code",
   "execution_count": null,
   "metadata": {},
   "outputs": [],
   "source": []
  },
  {
   "cell_type": "code",
   "execution_count": null,
   "metadata": {},
   "outputs": [],
   "source": [
    "edge_df = single_connection_simplify(ports_df, pipeline_df, edge_df)"
   ]
  },
  {
   "cell_type": "code",
   "execution_count": null,
   "metadata": {},
   "outputs": [],
   "source": [
    "ports_df.index.name.split('(')[-1][:-1]"
   ]
  },
  {
   "cell_type": "code",
   "execution_count": null,
   "metadata": {},
   "outputs": [],
   "source": [
    "pt_col = [cc for cc in edge_df.columns if ports_df.index.name.split('(')[-1][:-1] in cc][0]"
   ]
  },
  {
   "cell_type": "code",
   "execution_count": null,
   "metadata": {},
   "outputs": [],
   "source": [
    "idxmins = edge_df.groupby(pt_col).dist.idxmin().values"
   ]
  },
  {
   "cell_type": "code",
   "execution_count": null,
   "metadata": {},
   "outputs": [],
   "source": [
    "edge_df.iloc[idxmins].drop(columns=['left_geom','right_geom','dist'])"
   ]
  },
  {
   "cell_type": "code",
   "execution_count": null,
   "metadata": {},
   "outputs": [],
   "source": []
  },
  {
   "cell_type": "code",
   "execution_count": null,
   "metadata": {},
   "outputs": [],
   "source": [
    "ports_df.set_index(left_col)"
   ]
  },
  {
   "cell_type": "code",
   "execution_count": null,
   "metadata": {},
   "outputs": [],
   "source": [
    "right_co\n",
    "pipeline_df"
   ]
  },
  {
   "cell_type": "code",
   "execution_count": null,
   "metadata": {},
   "outputs": [],
   "source": [
    "edges_df"
   ]
  },
  {
   "cell_type": "code",
   "execution_count": null,
   "metadata": {},
   "outputs": [],
   "source": []
  },
  {
   "cell_type": "code",
   "execution_count": null,
   "metadata": {},
   "outputs": [],
   "source": []
  },
  {
   "cell_type": "code",
   "execution_count": null,
   "metadata": {},
   "outputs": [],
   "source": []
  },
  {
   "cell_type": "code",
   "execution_count": null,
   "metadata": {},
   "outputs": [],
   "source": [
    "main_path = './../results_backup/output'\n",
    "df_names = {\n",
    "    'pipeline':['port_pipeline_edge_dataframe.csv',\n",
    "                'cities_pipelines_edge_dataframe.csv',\n",
    "                'power_station_pipeline_edge_dataframe.csv',\n",
    "                'lng_pipeline_edge_dataframe.csv',\n",
    "                'processing_plant_pipeline_edge_dataframe.csv',\n",
    "                'refinery_pipeline_edge_dataframe.csv',\n",
    "                'well_pad_pipeline_edge_dataframe.csv',\n",
    "                'oil_field_edge_dataframe.csv'],\n",
    "    'railway':['cities_railways_edge_dataframe.csv',\n",
    "                'coal_mine_railway_edge_dataframe.csv',\n",
    "                'power_station_railway_edge_dataframe.csv',\n",
    "                'port_railway_edge_dataframe.csv']\n",
    "    }"
   ]
  }
 ],
 "metadata": {
  "kernelspec": {
   "display_name": "Python 3",
   "language": "python",
   "name": "python3"
  },
  "language_info": {
   "codemirror_mode": {
    "name": "ipython",
    "version": 3
   },
   "file_extension": ".py",
   "mimetype": "text/x-python",
   "name": "python",
   "nbconvert_exporter": "python",
   "pygments_lexer": "ipython3",
   "version": "3.7.6"
  }
 },
 "nbformat": 4,
 "nbformat_minor": 4
}
