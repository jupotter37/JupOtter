{
 "cells": [
  {
   "cell_type": "code",
   "execution_count": 1,
   "id": "bf90280c",
   "metadata": {},
   "outputs": [
    {
     "name": "stderr",
     "output_type": "stream",
     "text": [
      "<frozen importlib._bootstrap>:219: RuntimeWarning: to-Python converter for boost::shared_ptr<hpp::fcl::CollisionGeometry> already registered; second conversion method ignored.\n"
     ]
    }
   ],
   "source": [
    "## This is a demo for atlas\n",
    "## Author : Avadesh Meduri\n",
    "## Date : 06/04/2022\n",
    "%load_ext autoreload\n",
    "%autoreload 2\n",
    "\n",
    "import time\n",
    "import numpy as np\n",
    "from robot_properties_anymal.config import AnymalConfig\n",
    "from mpc.anymal_cyclic_gen import AnymalMpcGaitGen\n",
    "\n",
    "from matplotlib import pyplot as plt\n",
    "\n",
    "import pinocchio as pin\n",
    "\n",
    "import numpy as np\n",
    "from motions.weight_abstract import BiconvexMotionParams"
   ]
  },
  {
   "cell_type": "code",
   "execution_count": 2,
   "id": "094140e2",
   "metadata": {},
   "outputs": [
    {
     "name": "stdout",
     "output_type": "stream",
     "text": [
      "You can open the visualizer by visiting the following URL:\n",
      "http://127.0.0.1:7001/static/\n"
     ]
    }
   ],
   "source": [
    "robot = AnymalConfig.buildRobotWrapper()\n",
    "rmodel = robot.model\n",
    "rdata = robot.data\n",
    "\n",
    "pin_robot = AnymalConfig.buildRobotWrapper()\n",
    "\n",
    "viz = pin.visualize.MeshcatVisualizer(robot.model, robot.collision_model, robot.visual_model)\n",
    "viz.initViewer(open=False)\n",
    "viz.loadViewerModel()"
   ]
  },
  {
   "cell_type": "code",
   "execution_count": 51,
   "id": "744c9308",
   "metadata": {},
   "outputs": [],
   "source": [
    "jump = BiconvexMotionParams(\"anymal\", \"Jump\")\n",
    "\n",
    "# Cnt\n",
    "jump.gait_period = 0.5\n",
    "jump.stance_percent = [0.4, 0.4, 0.4, 0.4]\n",
    "jump.gait_dt = 0.05\n",
    "jump.phase_offset = [0.3, 0.3, 0.3, 0.3]\n",
    "\n",
    "# IK\n",
    "jump.state_wt = np.array([0., 0, 10] + [1000, 1000, 1000] + [5e1] * (pin_robot.model.nv - 6) \\\n",
    "                        + [0.00] * 3 + [100, 100, 100] + [5e0] *(pin_robot.model.nv - 6))\n",
    "\n",
    "jump.ctrl_wt = [0, 0, 1000] + [5e2, 5e2, 5e2] + [10.0] *(pin_robot.model.nv - 6)\n",
    "\n",
    "jump.swing_wt = [1e5, 1e4]\n",
    "jump.cent_wt = [0*5e+1, 5e+1]\n",
    "jump.step_ht = 0.05\n",
    "jump.nom_ht = 0.34\n",
    "jump.reg_wt = [5e-2, 1e-5]\n",
    "\n",
    "# Dyn \n",
    "jump.W_X =        np.array([1e-5, 1e-5, 1e+5, 1e+1, 1e+1, 2e+2, 1e+4, 1e+4, 1e4])\n",
    "jump.W_X_ter = 10*np.array([1e+5, 1e-5, 1e+5, 1e+1, 1e+1, 2e+2, 1e+5, 1e+5, 1e+5])\n",
    "jump.W_F = np.array(4*[1e+2, 1e+2, 1e+2])\n",
    "jump.rho = 5e+4\n",
    "jump.ori_correction = [0.3, 0.5, 0.3]\n",
    "jump.gait_horizon = 10.0\n",
    "jump.kp = 150.0\n",
    "jump.kd = 10.0\n"
   ]
  },
  {
   "cell_type": "code",
   "execution_count": 49,
   "id": "7b3e8b56",
   "metadata": {},
   "outputs": [
    {
     "name": "stdout",
     "output_type": "stream",
     "text": [
      "Initialized Kino-Dyn planner\n"
     ]
    }
   ],
   "source": [
    "## Motion\n",
    "gait_params = jump\n",
    "\n",
    "## robot config and init\n",
    "urdf_path = AnymalConfig.urdf_path\n",
    "gait_time = gait_params.gait_period\n",
    "dt = 5e-2\n",
    "\n",
    "n_eff = 4\n",
    "q0 = np.array(AnymalConfig.initial_configuration)\n",
    "# q0[7:13] = 2 * [0.0, -0.8, 1.6]\n",
    "\n",
    "v0 = pin.utils.zero(pin_robot.model.nv)\n",
    "x0 = np.concatenate([q0, pin.utils.zero(pin_robot.model.nv)])\n",
    "\n",
    "w_des = 0.0\n",
    "v_des = np.array([0.2,0.0, 0])\n",
    "\n",
    "update_time = 0.02 # sec (time of lag)\n",
    "\n",
    "n = 1\n",
    "\n",
    "sim_t = 0.0\n",
    "step_t = 0\n",
    "sim_dt = .001\n",
    "plan_freq = 5.0\n",
    "\n",
    "gg = AnymalMpcGaitGen(pin_robot, urdf_path, x0, plan_freq, q0, None)\n",
    "gg.update_gait_params(gait_params, sim_t)"
   ]
  },
  {
   "cell_type": "code",
   "execution_count": 5,
   "id": "b09f6535",
   "metadata": {},
   "outputs": [
    {
     "data": {
      "text/html": [
       "\n",
       "            <div style=\"height: 400px; width: 100%; overflow-x: auto; overflow-y: hidden; resize: both\">\n",
       "            <iframe src=\"http://127.0.0.1:7001/static/\" style=\"width: 100%; height: 100%; border: none\"></iframe>\n",
       "            </div>\n",
       "            "
      ],
      "text/plain": [
       "<IPython.core.display.HTML object>"
      ]
     },
     "execution_count": 5,
     "metadata": {},
     "output_type": "execute_result"
    }
   ],
   "source": [
    "viz.viewer.jupyter_cell()"
   ]
  },
  {
   "cell_type": "code",
   "execution_count": 50,
   "id": "010df9c7",
   "metadata": {
    "scrolled": false
   },
   "outputs": [
    {
     "name": "stdout",
     "output_type": "stream",
     "text": [
      "Maximum iterations reached \n",
      "Final norm: 0.0696132\n"
     ]
    },
    {
     "ename": "IndexError",
     "evalue": "index 1450 is out of bounds for axis 0 with size 1450",
     "output_type": "error",
     "traceback": [
      "\u001b[0;31m---------------------------------------------------------------------------\u001b[0m",
      "\u001b[0;31mIndexError\u001b[0m                                Traceback (most recent call last)",
      "Input \u001b[0;32mIn [50]\u001b[0m, in \u001b[0;36m<cell line: 10>\u001b[0;34m()\u001b[0m\n\u001b[1;32m      9\u001b[0m \u001b[38;5;66;03m# gg.plot(q, v)\u001b[39;00m\n\u001b[1;32m     10\u001b[0m \u001b[38;5;28;01mfor\u001b[39;00m ind \u001b[38;5;129;01min\u001b[39;00m \u001b[38;5;28mrange\u001b[39m(\u001b[38;5;28mint\u001b[39m(plan_freq\u001b[38;5;241m/\u001b[39msim_dt)):\n\u001b[0;32m---> 11\u001b[0m     viz\u001b[38;5;241m.\u001b[39mdisplay(\u001b[43mxs_plan\u001b[49m\u001b[43m[\u001b[49m\u001b[43mind\u001b[49m\u001b[43m]\u001b[49m[:robot\u001b[38;5;241m.\u001b[39mmodel\u001b[38;5;241m.\u001b[39mnq])\n",
      "\u001b[0;31mIndexError\u001b[0m: index 1450 is out of bounds for axis 0 with size 1450"
     ]
    }
   ],
   "source": [
    "%matplotlib notebook \n",
    "\n",
    "q = q0\n",
    "v = v0\n",
    "step_t = 0\n",
    "n = 0\n",
    "\n",
    "xs_plan, us_plan, f_plan = gg.optimize(q, v, np.round(sim_t,3), v_des, w_des)\n",
    "# gg.plot(q, v)\n",
    "for ind in range(int(plan_freq/sim_dt)):\n",
    "    viz.display(xs_plan[ind][:robot.model.nq])"
   ]
  },
  {
   "cell_type": "code",
   "execution_count": null,
   "id": "243ab4ff",
   "metadata": {},
   "outputs": [],
   "source": [
    "rmodel.getFrameId(\"LH_FOOT\")"
   ]
  },
  {
   "cell_type": "code",
   "execution_count": null,
   "id": "701ec30a",
   "metadata": {},
   "outputs": [],
   "source": []
  }
 ],
 "metadata": {
  "kernelspec": {
   "display_name": "Python 3 (ipykernel)",
   "language": "python",
   "name": "python3"
  },
  "language_info": {
   "codemirror_mode": {
    "name": "ipython",
    "version": 3
   },
   "file_extension": ".py",
   "mimetype": "text/x-python",
   "name": "python",
   "nbconvert_exporter": "python",
   "pygments_lexer": "ipython3",
   "version": "3.8.10"
  }
 },
 "nbformat": 4,
 "nbformat_minor": 5
}
