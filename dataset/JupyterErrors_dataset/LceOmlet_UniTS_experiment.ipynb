{
 "cells": [
  {
   "cell_type": "code",
   "execution_count": 1,
   "metadata": {},
   "outputs": [
    {
     "name": "stderr",
     "output_type": "stream",
     "text": [
      "/home/liangchen/miniconda3/envs/UniTS/lib/python3.8/site-packages/tqdm/auto.py:21: TqdmWarning: IProgress not found. Please update jupyter and ipywidgets. See https://ipywidgets.readthedocs.io/en/stable/user_install.html\n",
      "  from .autonotebook import tqdm as notebook_tqdm\n",
      "/home/liangchen/miniconda3/envs/UniTS/lib/python3.8/site-packages/tslearn/bases/bases.py:15: UserWarning: h5py not installed, hdf5 features will not be supported.\n",
      "Install h5py to use hdf5 features: http://docs.h5py.org/\n",
      "  warn(h5py_msg)\n"
     ]
    }
   ],
   "source": [
    "import torch\n",
    "from ts_url.training_methods import Trainer\n",
    "import time\n",
    "import os "
   ]
  },
  {
   "cell_type": "markdown",
   "metadata": {},
   "source": [
    "Try csl on LSST dataset with SVM as the test module."
   ]
  },
  {
   "cell_type": "code",
   "execution_count": 2,
   "metadata": {},
   "outputs": [],
   "source": [
    "\n",
    "experiment = \"exp1\"\n",
    "\n",
    "hp_path = \"configs/csl_optim.json\"\n",
    "p_path = \"configs/csl.json\"\n",
    "optim_config = \"configs/csl_optim.json\"\n",
    "task_name = \"pretraining\"\n",
    "model_name = \"csl\"\n",
    "\n",
    "device = torch.device('cuda')\n",
    "\n",
    "\n",
    "def get_config(filepath=\"\", train_ratio=1, test_ratio=1, dsid=\"LSST\"):\n",
    "    data_configs = [{\n",
    "        \"filepath\": filepath,\n",
    "        \"train_ratio\": train_ratio,\n",
    "        \"test_ratio\": test_ratio,\n",
    "        \"dsid\": dsid\n",
    "    }]\n",
    "    return data_configs\n",
    "\n",
    "data_configs = get_config()\n",
    "\n",
    "data_names = [d['dsid'] for d in data_configs]\n",
    "task_summary = \"_\".join(data_names) + \"_\" + model_name\n",
    "start_time = time.strftime(\"%m_%d_%H_%M_%S\", time.localtime()) \n",
    "save_path = os.path.join(experiment, task_summary, start_time)\n",
    "\n",
    "os.makedirs(save_path, exist_ok=True)\n",
    "\n"
   ]
  },
  {
   "cell_type": "markdown",
   "metadata": {},
   "source": [
    "Try ts_tcc on LSST dataset with SVM as test module."
   ]
  },
  {
   "cell_type": "code",
   "execution_count": 3,
   "metadata": {},
   "outputs": [],
   "source": [
    "experiment = \"exp1\"\n",
    "\n",
    "# hp_path = \"configs/ts_tcc_optim.json\"\n",
    "p_path = \"configs/ts_tcc.json\"\n",
    "optim_config = \"configs/ts_tcc_optim.json\"\n",
    "task_name = \"pretraining\"\n",
    "model_name = \"ts_tcc\"\n",
    "\n",
    "device = torch.device('cuda')\n",
    "\n",
    "data_names = [d['dsid'] for d in data_configs]\n",
    "task_summary = \"_\".join(data_names) + \"_\" + model_name\n",
    "start_time = time.strftime(\"%m_%d_%H_%M_%S\", time.localtime()) \n",
    "save_path = os.path.join(experiment, task_summary, start_time)\n",
    "\n",
    "os.makedirs(save_path, exist_ok=True)"
   ]
  },
  {
   "cell_type": "markdown",
   "metadata": {},
   "source": [
    "Try t_loss on LSST dataset with SVM as test module."
   ]
  },
  {
   "cell_type": "code",
   "execution_count": null,
   "metadata": {},
   "outputs": [],
   "source": [
    "experiment = \"exp1\"\n",
    "\n",
    "# hp_path = \"configs/ts_tcc_optim.json\"\n",
    "p_path = \"configs/t_loss.json\"\n",
    "optim_config = \"configs/t_loss_optim.json\"\n",
    "task_name = \"pretraining\"\n",
    "model_name = \"t_loss\"\n",
    "\n",
    "device = torch.device('cuda')\n",
    "\n",
    "data_names = [d['dsid'] for d in data_configs]\n",
    "task_summary = \"_\".join(data_names) + \"_\" + model_name\n",
    "start_time = time.strftime(\"%m_%d_%H_%M_%S\", time.localtime()) \n",
    "save_path = os.path.join(experiment, task_summary, start_time)\n",
    "\n",
    "os.makedirs(save_path, exist_ok=True)"
   ]
  },
  {
   "cell_type": "code",
   "execution_count": 3,
   "metadata": {},
   "outputs": [],
   "source": [
    "experiment = \"exp1\"\n",
    "\n",
    "# hp_path = \"configs/ts_tcc_optim.json\"\n",
    "p_path = \"ts_url/models/default_configs/mvts_transformer.json\"\n",
    "optim_config = \"ts_url/models/default_configs/mvts_transformer_optim.json\"\n",
    "task_name = \"pretraining\"\n",
    "model_name = \"mvts_transformer\"\n",
    "\n",
    "device = torch.device('cuda')\n",
    "\n",
    "data_names = [d['dsid'] for d in data_configs]\n",
    "task_summary = \"_\".join(data_names) + \"_\" + model_name\n",
    "start_time = time.strftime(\"%m_%d_%H_%M_%S\", time.localtime()) \n",
    "save_path = os.path.join(experiment, task_summary, start_time)\n",
    "\n",
    "os.makedirs(save_path, exist_ok=True)"
   ]
  },
  {
   "cell_type": "code",
   "execution_count": 3,
   "metadata": {},
   "outputs": [],
   "source": [
    "experiment = \"exp1\"\n",
    "\n",
    "# hp_path = \"configs/ts_tcc_optim.json\"\n",
    "p_path = \"ts_url/models/default_configs/ts2vec.json\"\n",
    "optim_config = \"ts_url/models/default_configs/ts2vec_optim.json\"\n",
    "task_name = \"pretraining\"\n",
    "model_name = \"ts2vec\"\n",
    "\n",
    "device = torch.device('cuda')\n",
    "\n",
    "data_names = [d['dsid'] for d in data_configs]\n",
    "task_summary = \"_\".join(data_names) + \"_\" + model_name\n",
    "start_time = time.strftime(\"%m_%d_%H_%M_%S\", time.localtime()) \n",
    "save_path = os.path.join(experiment, task_summary, start_time)\n",
    "\n",
    "os.makedirs(save_path, exist_ok=True)"
   ]
  },
  {
   "cell_type": "code",
   "execution_count": 3,
   "metadata": {},
   "outputs": [
    {
     "name": "stderr",
     "output_type": "stream",
     "text": [
      "/home/liangchen/liangchen/UniTS/ts_url/process_data.py:503: UserWarning: Creating a tensor from a list of numpy.ndarrays is extremely slow. Please consider converting the list to a single numpy.ndarray with numpy.array() before converting to a tensor. (Triggered internally at /opt/conda/conda-bld/pytorch_1670525552411/work/torch/csrc/utils/tensor_new.cpp:230.)\n",
      "  self.data = torch.tensor(data)  # this is a subclass of the BaseData class in data.py\n",
      "2024-02-12 22:39:40,919 | INFO : train_ds length: 2459, valid_ds length: 2466\n",
      "2024-02-12 22:39:40,927 | INFO : {'output_dims': 320, 'feat_dim': 6, 'max_len': 36, 'device': 'cpu'}\n",
      "2024-02-12 22:39:40,928 | INFO : CSL(\n",
      "  (shapelets_euclidean): ShapeletsDistBlocks(\n",
      "    (blocks): ModuleList(\n",
      "      (0): MinEuclideanDistBlock()\n",
      "      (1): MinEuclideanDistBlock()\n",
      "      (2): MinEuclideanDistBlock()\n",
      "      (3): MinEuclideanDistBlock()\n",
      "      (4): MinEuclideanDistBlock()\n",
      "      (5): MinEuclideanDistBlock()\n",
      "      (6): MinEuclideanDistBlock()\n",
      "      (7): MinEuclideanDistBlock()\n",
      "    )\n",
      "  )\n",
      "  (shapelets_cosine): ShapeletsDistBlocks(\n",
      "    (blocks): ModuleList(\n",
      "      (0): MaxCosineSimilarityBlock(\n",
      "        (relu): ReLU()\n",
      "      )\n",
      "      (1): MaxCosineSimilarityBlock(\n",
      "        (relu): ReLU()\n",
      "      )\n",
      "      (2): MaxCosineSimilarityBlock(\n",
      "        (relu): ReLU()\n",
      "      )\n",
      "      (3): MaxCosineSimilarityBlock(\n",
      "        (relu): ReLU()\n",
      "      )\n",
      "      (4): MaxCosineSimilarityBlock(\n",
      "        (relu): ReLU()\n",
      "      )\n",
      "      (5): MaxCosineSimilarityBlock(\n",
      "        (relu): ReLU()\n",
      "      )\n",
      "      (6): MaxCosineSimilarityBlock(\n",
      "        (relu): ReLU()\n",
      "      )\n",
      "      (7): MaxCosineSimilarityBlock(\n",
      "        (relu): ReLU()\n",
      "      )\n",
      "    )\n",
      "  )\n",
      "  (shapelets_cross_correlation): ShapeletsDistBlocks(\n",
      "    (blocks): ModuleList(\n",
      "      (0): MaxCrossCorrelationBlock(\n",
      "        (shapelets): Conv1d(6, 14, kernel_size=(3,), stride=(1,))\n",
      "      )\n",
      "      (1): MaxCrossCorrelationBlock(\n",
      "        (shapelets): Conv1d(6, 14, kernel_size=(6,), stride=(1,))\n",
      "      )\n",
      "      (2): MaxCrossCorrelationBlock(\n",
      "        (shapelets): Conv1d(6, 14, kernel_size=(10,), stride=(1,))\n",
      "      )\n",
      "      (3): MaxCrossCorrelationBlock(\n",
      "        (shapelets): Conv1d(6, 14, kernel_size=(13,), stride=(1,))\n",
      "      )\n",
      "      (4): MaxCrossCorrelationBlock(\n",
      "        (shapelets): Conv1d(6, 14, kernel_size=(17,), stride=(1,))\n",
      "      )\n",
      "      (5): MaxCrossCorrelationBlock(\n",
      "        (shapelets): Conv1d(6, 14, kernel_size=(20,), stride=(1,))\n",
      "      )\n",
      "      (6): MaxCrossCorrelationBlock(\n",
      "        (shapelets): Conv1d(6, 14, kernel_size=(24,), stride=(1,))\n",
      "      )\n",
      "      (7): MaxCrossCorrelationBlock(\n",
      "        (shapelets): Conv1d(6, 14, kernel_size=(28,), stride=(1,))\n",
      "      )\n",
      "    )\n",
      "  )\n",
      "  (linear): Linear(in_features=320, out_features=2, bias=True)\n",
      "  (projection): Sequential(\n",
      "    (0): BatchNorm1d(320, eps=1e-05, momentum=0.1, affine=True, track_running_stats=True)\n",
      "  )\n",
      "  (bn1): BatchNorm1d(104, eps=1e-05, momentum=0.1, affine=True, track_running_stats=True)\n",
      "  (bn2): BatchNorm1d(104, eps=1e-05, momentum=0.1, affine=True, track_running_stats=True)\n",
      "  (bn3): BatchNorm1d(112, eps=1e-05, momentum=0.1, affine=True, track_running_stats=True)\n",
      "  (projection2): Sequential(\n",
      "    (0): Linear(in_features=320, out_features=256, bias=True)\n",
      "    (1): ReLU()\n",
      "    (2): Linear(in_features=256, out_features=128, bias=True)\n",
      "  )\n",
      ")\n",
      "/home/liangchen/liangchen/UniTS/ts_url/process_data.py:530: UserWarning: To copy construct from a tensor, it is recommended to use sourceTensor.clone().detach() or sourceTensor.clone().detach().requires_grad_(True), rather than torch.tensor(sourceTensor).\n",
      "  X = torch.tensor(X).transpose(0, 1)\n"
     ]
    },
    {
     "name": "stdout",
     "output_type": "stream",
     "text": [
      "\u001b[KTraining Epoch 0  97.4% | batch:       300 of       308\t|\tloss: 7.359742"
     ]
    },
    {
     "name": "stderr",
     "output_type": "stream",
     "text": [
      "2024-02-12 22:41:04,291 | INFO : Evaluating on validation set ...\n"
     ]
    },
    {
     "name": "stdout",
     "output_type": "stream",
     "text": [
      "\u001b[KEvaluating Epoch 0   1.2% | batch:        30 of      2466\t|\tloss: inf"
     ]
    },
    {
     "name": "stderr",
     "output_type": "stream",
     "text": [
      "/home/liangchen/liangchen/UniTS/ts_url/process_data.py:530: UserWarning: To copy construct from a tensor, it is recommended to use sourceTensor.clone().detach() or sourceTensor.clone().detach().requires_grad_(True), rather than torch.tensor(sourceTensor).\n",
      "  X = torch.tensor(X).transpose(0, 1)\n"
     ]
    },
    {
     "name": "stdout",
     "output_type": "stream",
     "text": [
      "\u001b[KEvaluating Epoch 0  99.8% | batch:      2460 of      2466\t|\tloss: inf"
     ]
    },
    {
     "name": "stderr",
     "output_type": "stream",
     "text": [
      "/home/liangchen/miniconda3/envs/UniTS/lib/python3.8/site-packages/sklearn/metrics/_classification.py:1469: UndefinedMetricWarning: Recall and F-score are ill-defined and being set to 0.0 in labels with no true samples. Use `zero_division` parameter to control this behavior.\n",
      "  _warn_prf(average, modifier, msg_start, len(result))\n",
      "/home/liangchen/miniconda3/envs/UniTS/lib/python3.8/site-packages/sklearn/metrics/_classification.py:1469: UndefinedMetricWarning: Recall and F-score are ill-defined and being set to 0.0 in labels with no true samples. Use `zero_division` parameter to control this behavior.\n",
      "  _warn_prf(average, modifier, msg_start, len(result))\n",
      "/home/liangchen/miniconda3/envs/UniTS/lib/python3.8/site-packages/sklearn/metrics/_classification.py:1469: UndefinedMetricWarning: Recall and F-score are ill-defined and being set to 0.0 in labels with no true samples. Use `zero_division` parameter to control this behavior.\n",
      "  _warn_prf(average, modifier, msg_start, len(result))\n",
      "2024-02-12 22:42:23,424 | INFO : Validation runtime: 0.0 hours, 1.0 minutes, 19.130836248397827 seconds\n",
      "\n",
      "2024-02-12 22:42:23,425 | INFO : Avg val. time: 0.0 hours, 1.0 minutes, 19.130836248397827 seconds\n",
      "2024-02-12 22:42:23,426 | INFO : Avg batch val. time: 0.032088741382156456 seconds\n",
      "2024-02-12 22:42:23,427 | INFO : Avg sample val. time: 0.032088741382156456 seconds\n",
      "2024-02-12 22:42:23,428 | INFO : Epoch 0 Validation Summary: epoch: 0.000000 | loss: 0.000000 | accuracy: 0.607867 | \n",
      "/home/liangchen/liangchen/UniTS/ts_url/process_data.py:530: UserWarning: To copy construct from a tensor, it is recommended to use sourceTensor.clone().detach() or sourceTensor.clone().detach().requires_grad_(True), rather than torch.tensor(sourceTensor).\n",
      "  X = torch.tensor(X).transpose(0, 1)\n"
     ]
    },
    {
     "name": "stdout",
     "output_type": "stream",
     "text": [
      "              precision    recall  f1-score   support\n",
      "\n",
      "           0       0.03      0.50      0.05         2\n",
      "           1       0.40      0.56      0.46        87\n",
      "           2       0.87      0.76      0.81       311\n",
      "           3       0.41      0.40      0.41       389\n",
      "           4       0.02      0.10      0.03        10\n",
      "           5       0.00      0.00      0.00         0\n",
      "           6       0.14      0.27      0.18        79\n",
      "           7       0.00      0.00      0.00         0\n",
      "           8       0.84      0.70      0.76       377\n",
      "           9       0.07      0.56      0.13         9\n",
      "          10       0.89      0.96      0.92       113\n",
      "          11       0.80      0.61      0.69      1029\n",
      "          12       0.38      0.59      0.46        49\n",
      "          13       0.13      0.64      0.22        11\n",
      "\n",
      "    accuracy                           0.61      2466\n",
      "   macro avg       0.36      0.47      0.37      2466\n",
      "weighted avg       0.71      0.61      0.65      2466\n",
      "\n",
      "loss\n",
      "{'output_dims': 320, 'feat_dim': 6, 'max_len': 36, 'device': 'cpu'}\n",
      "\u001b[KTraining Epoch 1  97.4% | batch:       300 of       308\t|\tloss: 3.471783"
     ]
    },
    {
     "name": "stderr",
     "output_type": "stream",
     "text": [
      "2024-02-12 22:43:43,075 | INFO : Evaluating on validation set ...\n"
     ]
    },
    {
     "name": "stdout",
     "output_type": "stream",
     "text": [
      "\u001b[KEvaluating Epoch 1   1.6% | batch:        40 of      2466\t|\tloss: inf"
     ]
    },
    {
     "name": "stderr",
     "output_type": "stream",
     "text": [
      "/home/liangchen/liangchen/UniTS/ts_url/process_data.py:530: UserWarning: To copy construct from a tensor, it is recommended to use sourceTensor.clone().detach() or sourceTensor.clone().detach().requires_grad_(True), rather than torch.tensor(sourceTensor).\n",
      "  X = torch.tensor(X).transpose(0, 1)\n"
     ]
    },
    {
     "name": "stdout",
     "output_type": "stream",
     "text": [
      "\u001b[KEvaluating Epoch 1  99.8% | batch:      2460 of      2466\t|\tloss: inf"
     ]
    },
    {
     "name": "stderr",
     "output_type": "stream",
     "text": [
      "/home/liangchen/miniconda3/envs/UniTS/lib/python3.8/site-packages/sklearn/metrics/_classification.py:1469: UndefinedMetricWarning: Recall and F-score are ill-defined and being set to 0.0 in labels with no true samples. Use `zero_division` parameter to control this behavior.\n",
      "  _warn_prf(average, modifier, msg_start, len(result))\n",
      "/home/liangchen/miniconda3/envs/UniTS/lib/python3.8/site-packages/sklearn/metrics/_classification.py:1469: UndefinedMetricWarning: Recall and F-score are ill-defined and being set to 0.0 in labels with no true samples. Use `zero_division` parameter to control this behavior.\n",
      "  _warn_prf(average, modifier, msg_start, len(result))\n",
      "/home/liangchen/miniconda3/envs/UniTS/lib/python3.8/site-packages/sklearn/metrics/_classification.py:1469: UndefinedMetricWarning: Recall and F-score are ill-defined and being set to 0.0 in labels with no true samples. Use `zero_division` parameter to control this behavior.\n",
      "  _warn_prf(average, modifier, msg_start, len(result))\n",
      "2024-02-12 22:45:05,352 | INFO : Validation runtime: 0.0 hours, 1.0 minutes, 22.275031089782715 seconds\n",
      "\n",
      "2024-02-12 22:45:05,353 | INFO : Avg val. time: 0.0 hours, 1.0 minutes, 20.70293366909027 seconds\n",
      "2024-02-12 22:45:05,354 | INFO : Avg batch val. time: 0.032726250474083646 seconds\n",
      "2024-02-12 22:45:05,355 | INFO : Avg sample val. time: 0.032726250474083646 seconds\n",
      "2024-02-12 22:45:05,356 | INFO : Epoch 1 Validation Summary: epoch: 1.000000 | loss: 0.000000 | accuracy: 0.604623 | \n",
      "/home/liangchen/liangchen/UniTS/ts_url/process_data.py:530: UserWarning: To copy construct from a tensor, it is recommended to use sourceTensor.clone().detach() or sourceTensor.clone().detach().requires_grad_(True), rather than torch.tensor(sourceTensor).\n",
      "  X = torch.tensor(X).transpose(0, 1)\n"
     ]
    },
    {
     "name": "stdout",
     "output_type": "stream",
     "text": [
      "              precision    recall  f1-score   support\n",
      "\n",
      "           0       0.06      0.50      0.10         4\n",
      "           1       0.40      0.59      0.48        85\n",
      "           2       0.86      0.76      0.81       307\n",
      "           3       0.40      0.40      0.40       386\n",
      "           4       0.02      0.08      0.03        12\n",
      "           5       0.00      0.00      0.00         0\n",
      "           6       0.13      0.25      0.17        80\n",
      "           7       0.00      0.00      0.00         0\n",
      "           8       0.84      0.69      0.76       382\n",
      "           9       0.04      0.38      0.08         8\n",
      "          10       0.88      0.96      0.92       112\n",
      "          11       0.80      0.60      0.69      1028\n",
      "          12       0.39      0.60      0.47        50\n",
      "          13       0.15      0.67      0.25        12\n",
      "\n",
      "    accuracy                           0.60      2466\n",
      "   macro avg       0.36      0.46      0.37      2466\n",
      "weighted avg       0.70      0.60      0.64      2466\n",
      "\n",
      "loss\n",
      "\u001b[KTraining Epoch 2  97.4% | batch:       300 of       308\t|\tloss: 2.163616"
     ]
    },
    {
     "name": "stderr",
     "output_type": "stream",
     "text": [
      "2024-02-12 22:46:17,336 | INFO : Evaluating on validation set ...\n"
     ]
    }
   ],
   "source": [
    "\n",
    "\n",
    "import random\n",
    "import numpy as np\n",
    "random.seed(0)\n",
    "torch.manual_seed(0)\n",
    "np.random.seed(0)\n",
    "torch.cuda.manual_seed(0)\n",
    "torch.backends.cudnn.deterministic = True\n",
    "trainer = Trainer(data_configs, model_name, p_path, \n",
    "                  device, optim_config, task_name, save_path=save_path)\n",
    "\n",
    "trainer.fit()\n"
   ]
  },
  {
   "cell_type": "code",
   "execution_count": 5,
   "metadata": {},
   "outputs": [
    {
     "ename": "AttributeError",
     "evalue": "'dict' object has no attribute '__dict__'",
     "output_type": "error",
     "traceback": [
      "\u001b[0;31m---------------------------------------------------------------------------\u001b[0m",
      "\u001b[0;31mAttributeError\u001b[0m                            Traceback (most recent call last)",
      "Cell \u001b[0;32mIn[5], line 3\u001b[0m\n\u001b[1;32m      1\u001b[0m \u001b[38;5;28;01mfrom\u001b[39;00m \u001b[38;5;21;01mts_url\u001b[39;00m\u001b[38;5;21;01m.\u001b[39;00m\u001b[38;5;21;01mtraining_methods\u001b[39;00m \u001b[38;5;28;01mimport\u001b[39;00m Trainer\n\u001b[1;32m      2\u001b[0m \u001b[38;5;28;01mfrom\u001b[39;00m \u001b[38;5;21;01mts_url\u001b[39;00m\u001b[38;5;21;01m.\u001b[39;00m\u001b[38;5;21;01mregistry\u001b[39;00m \u001b[38;5;28;01mimport\u001b[39;00m \u001b[38;5;241m*\u001b[39m \n\u001b[0;32m----> 3\u001b[0m \u001b[38;5;28mprint\u001b[39m(\u001b[43mEVALUATE\u001b[49m\u001b[38;5;241;43m.\u001b[39;49m\u001b[43m_registry\u001b[49m\u001b[38;5;241;43m.\u001b[39;49m\u001b[38;5;18;43m__dict__\u001b[39;49m)\n",
      "\u001b[0;31mAttributeError\u001b[0m: 'dict' object has no attribute '__dict__'"
     ]
    }
   ],
   "source": [
    "from ts_url.training_methods import Trainer\n",
    "from ts_url.registry import * \n",
    "print(list(EVALUATE._registry.keys()))"
   ]
  },
  {
   "cell_type": "code",
   "execution_count": null,
   "metadata": {},
   "outputs": [],
   "source": []
  }
 ],
 "metadata": {
  "kernelspec": {
   "display_name": "UniTS",
   "language": "python",
   "name": "python3"
  },
  "language_info": {
   "codemirror_mode": {
    "name": "ipython",
    "version": 3
   },
   "file_extension": ".py",
   "mimetype": "text/x-python",
   "name": "python",
   "nbconvert_exporter": "python",
   "pygments_lexer": "ipython3",
   "version": "3.8.0"
  }
 },
 "nbformat": 4,
 "nbformat_minor": 2
}
