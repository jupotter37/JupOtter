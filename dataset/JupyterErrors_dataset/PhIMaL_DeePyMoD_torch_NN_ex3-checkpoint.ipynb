{
 "cells": [
  {
   "cell_type": "code",
   "execution_count": 1,
   "metadata": {},
   "outputs": [],
   "source": [
    "import numpy as np\n",
    "import torch, torch.nn\n",
    "import matplotlib.pyplot as plt\n",
    "from torch.nn import Linear, Tanh"
   ]
  },
  {
   "cell_type": "code",
   "execution_count": 2,
   "metadata": {},
   "outputs": [],
   "source": [
    "x=np.arange(0,10,0.01).reshape(-1,1)"
   ]
  },
  {
   "cell_type": "code",
   "execution_count": 3,
   "metadata": {},
   "outputs": [
    {
     "data": {
      "text/plain": [
       "(1000, 1)"
      ]
     },
     "execution_count": 3,
     "metadata": {},
     "output_type": "execute_result"
    }
   ],
   "source": [
    "x.shape"
   ]
  },
  {
   "cell_type": "code",
   "execution_count": 86,
   "metadata": {},
   "outputs": [],
   "source": [
    "f=0.1*x**2-0.5*x"
   ]
  },
  {
   "cell_type": "code",
   "execution_count": 87,
   "metadata": {},
   "outputs": [
    {
     "data": {
      "text/plain": [
       "(1000, 1)"
      ]
     },
     "execution_count": 87,
     "metadata": {},
     "output_type": "execute_result"
    }
   ],
   "source": [
    "f.shape"
   ]
  },
  {
   "cell_type": "code",
   "execution_count": 88,
   "metadata": {},
   "outputs": [],
   "source": [
    "sigma = 0.02"
   ]
  },
  {
   "cell_type": "code",
   "execution_count": 89,
   "metadata": {},
   "outputs": [],
   "source": [
    "f_noise = f + sigma*np.random.randn(f.size,1)"
   ]
  },
  {
   "cell_type": "code",
   "execution_count": 90,
   "metadata": {},
   "outputs": [
    {
     "data": {
      "text/plain": [
       "(1000, 1)"
      ]
     },
     "execution_count": 90,
     "metadata": {},
     "output_type": "execute_result"
    }
   ],
   "source": [
    "f_noise.shape"
   ]
  },
  {
   "cell_type": "code",
   "execution_count": 91,
   "metadata": {},
   "outputs": [
    {
     "data": {
      "text/plain": [
       "[<matplotlib.lines.Line2D at 0x12a4059b0>]"
      ]
     },
     "execution_count": 91,
     "metadata": {},
     "output_type": "execute_result"
    },
    {
     "data": {
      "image/png": "[encoded data removed]",
      "text/plain": [
       "<Figure size 432x288 with 1 Axes>"
      ]
     },
     "metadata": {
      "needs_background": "light"
     },
     "output_type": "display_data"
    }
   ],
   "source": [
    "plt.plot(x,f_noise)\n",
    "plt.plot(x,f)"
   ]
  },
  {
   "cell_type": "code",
   "execution_count": 92,
   "metadata": {},
   "outputs": [],
   "source": [
    "X_train=torch.tensor(x,dtype=torch.float32)\n",
    "y_train=torch.tensor(f_noise,dtype=torch.float32)"
   ]
  },
  {
   "cell_type": "code",
   "execution_count": 93,
   "metadata": {},
   "outputs": [],
   "source": [
    "network=torch.nn.Sequential(Linear(1,20),Tanh(),Linear(20,20),Tanh(),Linear(20,20),Tanh(),Linear(20,20),Tanh(),Linear(20,20),Tanh(),Linear(20,20),Tanh(),Linear(20,20),Tanh(),Linear(20,1))"
   ]
  },
  {
   "cell_type": "code",
   "execution_count": 94,
   "metadata": {},
   "outputs": [],
   "source": [
    "prediction=network(X_train)"
   ]
  },
  {
   "cell_type": "code",
   "execution_count": 95,
   "metadata": {},
   "outputs": [
    {
     "data": {
      "text/plain": [
       "<matplotlib.collections.PathCollection at 0x12a549208>"
      ]
     },
     "execution_count": 95,
     "metadata": {},
     "output_type": "execute_result"
    },
    {
     "data": {
      "image/png": "[encoded data removed]",
      "text/plain": [
       "<Figure size 432x288 with 1 Axes>"
      ]
     },
     "metadata": {
      "needs_background": "light"
     },
     "output_type": "display_data"
    }
   ],
   "source": [
    "plt.scatter(X_train.detach().numpy(),prediction.detach().numpy())\n",
    "plt.scatter(x,f_noise)"
   ]
  },
  {
   "cell_type": "code",
   "execution_count": 96,
   "metadata": {},
   "outputs": [],
   "source": [
    "loss_MSE = torch.nn.MSELoss()\n",
    "loss_PI = torch.nn.MSELoss()"
   ]
  },
  {
   "cell_type": "code",
   "execution_count": 97,
   "metadata": {},
   "outputs": [],
   "source": [
    "weight_vector = torch.ones((2, 1), dtype=torch.float32, requires_grad=True)"
   ]
  },
  {
   "cell_type": "code",
   "execution_count": 98,
   "metadata": {},
   "outputs": [],
   "source": [
    "optimizer = torch.optim.Adam([{'params':network.parameters()}, {'params': weight_vector}])"
   ]
  },
  {
   "cell_type": "code",
   "execution_count": 106,
   "metadata": {},
   "outputs": [
    {
     "name": "stdout",
     "output_type": "stream",
     "text": [
      "0 tensor(0.8931, grad_fn=<AddBackward0>)\n",
      "500 tensor(0.7441, grad_fn=<AddBackward0>)\n",
      "1000 tensor(0.5895, grad_fn=<AddBackward0>)\n",
      "1500 tensor(0.4381, grad_fn=<AddBackward0>)\n",
      "2000 tensor(0.3134, grad_fn=<AddBackward0>)\n",
      "2500 tensor(0.1862, grad_fn=<AddBackward0>)\n",
      "3000 tensor(0.1015, grad_fn=<AddBackward0>)\n",
      "3500 tensor(0.0471, grad_fn=<AddBackward0>)\n",
      "4000 tensor(0.0178, grad_fn=<AddBackward0>)\n",
      "4500 tensor(0.0053, grad_fn=<AddBackward0>)\n"
     ]
    }
   ],
   "source": [
    "for iteration in np.arange(5000):\n",
    "    optimizer.zero_grad() # Callibration\n",
    "    prediction=network(X_train)\n",
    "    f = prediction + weight_vector[0]*X_train**2 + weight_vector[1]*X_train\n",
    "    loss=loss_MSE(prediction,y_train) +loss_PI(f, torch.zeros_like(f)) \n",
    "    loss.backward()#measures all gradients\n",
    "    optimizer.step()\n",
    "    if iteration % 500 ==0: #prints every 500\n",
    "        print(iteration,loss)"
   ]
  },
  {
   "cell_type": "code",
   "execution_count": 107,
   "metadata": {},
   "outputs": [
    {
     "data": {
      "text/plain": [
       "<matplotlib.collections.PathCollection at 0x12a6ed898>"
      ]
     },
     "execution_count": 107,
     "metadata": {},
     "output_type": "execute_result"
    },
    {
     "data": {
      "image/png": "[encoded data removed]",
      "text/plain": [
       "<Figure size 432x288 with 1 Axes>"
      ]
     },
     "metadata": {
      "needs_background": "light"
     },
     "output_type": "display_data"
    }
   ],
   "source": [
    "plt.scatter(x,f_noise)\n",
    "plt.scatter(X_train.detach().numpy(),prediction.detach().numpy())"
   ]
  },
  {
   "cell_type": "code",
   "execution_count": 108,
   "metadata": {},
   "outputs": [
    {
     "data": {
      "text/plain": [
       "tensor([[0.1039],\n",
       "        [0.5311]], requires_grad=True)"
      ]
     },
     "execution_count": 108,
     "metadata": {},
     "output_type": "execute_result"
    }
   ],
   "source": [
    "weight_vector"
   ]
  },
  {
   "cell_type": "code",
   "execution_count": 84,
   "metadata": {},
   "outputs": [
    {
     "ename": "TypeError",
     "evalue": "only integer scalar arrays can be converted to a scalar index",
     "output_type": "error",
     "traceback": [
      "\u001b[0;31m---------------------------------------------------------------------------\u001b[0m",
      "\u001b[0;31mTypeError\u001b[0m                                 Traceback (most recent call last)",
      "\u001b[0;32m<ipython-input-84-0db6857ec28d>\u001b[0m in \u001b[0;36m<module>\u001b[0;34m\u001b[0m\n\u001b[0;32m----> 1\u001b[0;31m \u001b[0mnp\u001b[0m\u001b[0;34m.\u001b[0m\u001b[0mconcatenate\u001b[0m\u001b[0;34m(\u001b[0m\u001b[0mx\u001b[0m\u001b[0;34m,\u001b[0m\u001b[0mf_noise\u001b[0m\u001b[0;34m,\u001b[0m\u001b[0maxis\u001b[0m\u001b[0;34m=\u001b[0m\u001b[0;36m0\u001b[0m\u001b[0;34m)\u001b[0m\u001b[0;34m\u001b[0m\u001b[0;34m\u001b[0m\u001b[0m\n\u001b[0m",
      "\u001b[0;31mTypeError\u001b[0m: only integer scalar arrays can be converted to a scalar index"
     ]
    }
   ],
   "source": [
    "np.concatenate(x,f_noise,axis=0)"
   ]
  },
  {
   "cell_type": "code",
   "execution_count": 102,
   "metadata": {},
   "outputs": [
    {
     "data": {
      "text/plain": [
       "[<matplotlib.lines.Line2D at 0x122be8a58>]"
      ]
     },
     "execution_count": 102,
     "metadata": {},
     "output_type": "execute_result"
    },
    {
     "data": {
      "image/png": "[encoded data removed]",
      "text/plain": [
       "<Figure size 432x288 with 1 Axes>"
      ]
     },
     "metadata": {
      "needs_background": "light"
     },
     "output_type": "display_data"
    }
   ],
   "source": [
    "plt.plot(np.gradient(f_noise.reshape(-1),1))\n",
    "plt.plot(np.gradient(prediction.detach().numpy().reshape(-1),1))"
   ]
  },
  {
   "cell_type": "code",
   "execution_count": 96,
   "metadata": {},
   "outputs": [
    {
     "data": {
      "text/plain": [
       "array([ 1.39120475e-01, -4.71186714e-02,  7.82544810e-02, -7.26357410e-02,\n",
       "       -2.27180894e-02,  2.10571743e-03,  1.52117986e-01,  2.78911257e-01,\n",
       "        1.55561362e-02,  8.62144331e-02,  1.11665976e-01,  4.46576088e-02,\n",
       "        1.15503984e-01,  1.82558394e-01,  2.21084491e-01,  1.54470243e-01,\n",
       "        9.64269865e-02,  6.49665217e-02,  2.36945222e-01,  1.87067409e-01,\n",
       "        2.50537387e-01,  1.05887534e-01,  1.67463369e-02,  3.35994042e-01,\n",
       "        3.10015785e-01,  2.43496952e-01,  3.51843114e-01,  3.31177688e-01,\n",
       "        2.30024324e-01,  2.78680556e-01,  4.02724546e-01,  2.11490741e-01,\n",
       "        3.06105400e-01,  2.47262909e-01,  4.22746766e-01,  1.83749495e-01,\n",
       "        2.37324905e-01,  3.81278681e-01,  2.74654757e-01,  4.77384987e-01,\n",
       "        3.34156216e-01,  4.86267313e-01,  3.43721023e-01,  4.96576158e-01,\n",
       "        4.95741689e-01,  5.91918184e-01,  3.99906503e-01,  4.29727514e-01,\n",
       "        3.05073320e-01,  5.80853780e-01,  5.82765111e-01,  5.98925546e-01,\n",
       "        4.34640841e-01,  5.66986918e-01,  4.64485611e-01,  3.69032125e-01,\n",
       "        3.56875950e-01,  6.48976807e-01,  5.61508853e-01,  5.90006698e-01,\n",
       "        6.85273421e-01,  7.52255433e-01,  5.46041267e-01,  6.18792064e-01,\n",
       "        5.95290198e-01,  6.39503836e-01,  6.10518676e-01,  6.61916918e-01,\n",
       "        5.44264913e-01,  6.91593214e-01,  6.24051356e-01,  7.72679850e-01,\n",
       "        6.49324956e-01,  6.92860017e-01,  5.56908035e-01,  5.57887838e-01,\n",
       "        8.35353095e-01,  6.40245493e-01,  8.03865629e-01,  6.69333762e-01,\n",
       "        7.03938613e-01,  7.02203484e-01,  7.11470208e-01,  9.55395315e-01,\n",
       "        9.11327875e-01,  8.53041697e-01,  7.14173714e-01,  8.37163844e-01,\n",
       "        8.26920345e-01,  7.77247613e-01,  7.81494247e-01,  7.94345449e-01,\n",
       "        7.17228311e-01,  7.22753047e-01,  7.10728570e-01,  9.15505867e-01,\n",
       "        8.58171409e-01,  7.23130887e-01,  7.73690664e-01,  6.87135067e-01,\n",
       "        1.00611801e+00,  9.45063840e-01,  9.29559207e-01,  9.20008841e-01,\n",
       "        8.95773831e-01,  1.02644580e+00,  1.03838588e+00,  9.83435935e-01,\n",
       "        7.91526038e-01,  8.95909510e-01,  7.80781167e-01,  8.37782021e-01,\n",
       "        9.35829596e-01,  8.08293593e-01,  8.75127807e-01,  1.03329883e+00,\n",
       "        1.01525264e+00,  8.92954499e-01,  7.65772725e-01,  8.26780414e-01,\n",
       "        1.02959280e+00,  1.10825169e+00,  9.78952059e-01,  8.78480658e-01,\n",
       "        9.26522446e-01,  8.27462947e-01,  8.03384300e-01,  8.17540511e-01,\n",
       "        1.04725308e+00,  8.98815788e-01,  1.01812412e+00,  9.71089288e-01,\n",
       "        1.05713767e+00,  1.00315190e+00,  1.03402934e+00,  9.26538681e-01,\n",
       "        1.01116838e+00,  1.00241179e+00,  9.45409749e-01,  9.77576832e-01,\n",
       "        1.11327170e+00,  9.62663272e-01,  9.32578481e-01,  1.03351517e+00,\n",
       "        1.05320987e+00,  1.02853744e+00,  9.42841945e-01,  1.04220264e+00,\n",
       "        1.03618939e+00,  9.94533278e-01,  1.04969956e+00,  1.05900070e+00,\n",
       "        7.98388210e-01,  1.01329295e+00,  1.02534537e+00,  9.56467594e-01,\n",
       "        1.09667253e+00,  9.44421914e-01,  8.98515383e-01,  1.01744510e+00,\n",
       "        7.92607455e-01,  1.11228991e+00,  9.45808640e-01,  8.77974691e-01,\n",
       "        1.13862163e+00,  9.19383745e-01,  1.09936610e+00,  1.07715234e+00,\n",
       "        1.05089064e+00,  9.74142473e-01,  9.97541962e-01,  8.69239217e-01,\n",
       "        9.71166385e-01,  8.71679124e-01,  1.00488186e+00,  9.21284815e-01,\n",
       "        8.83197225e-01,  9.94298633e-01,  9.56496122e-01,  1.05721770e+00,\n",
       "        9.20227720e-01,  1.04534287e+00,  1.14738498e+00,  1.03861184e+00,\n",
       "        9.89405034e-01,  8.96699567e-01,  9.43829454e-01,  8.82160957e-01,\n",
       "        8.09251617e-01,  1.09449675e+00,  1.01078367e+00,  8.01998559e-01,\n",
       "        9.50064682e-01,  9.37527416e-01,  9.29278859e-01,  8.55525159e-01,\n",
       "        7.65562910e-01,  8.98717552e-01,  1.16074370e+00,  8.31567829e-01,\n",
       "        9.62333927e-01,  9.89327431e-01,  7.96707819e-01,  8.97763820e-01,\n",
       "        8.66616464e-01,  9.93790679e-01,  8.50635177e-01,  9.32966334e-01,\n",
       "        1.05772414e+00,  8.71080066e-01,  9.62551032e-01,  9.03391478e-01,\n",
       "        7.00863503e-01,  6.45171711e-01,  1.09047707e+00,  8.76174502e-01,\n",
       "        8.78897097e-01,  7.59215977e-01,  8.50807291e-01,  9.65301920e-01,\n",
       "        6.73909954e-01,  7.76264629e-01,  7.38399502e-01,  7.90755113e-01,\n",
       "        8.20792617e-01,  9.33880971e-01,  7.55098430e-01,  7.35317025e-01,\n",
       "        8.58567176e-01,  8.56890960e-01,  8.20127455e-01,  6.12515063e-01,\n",
       "        6.17523364e-01,  6.66140002e-01,  8.26258079e-01,  6.88802543e-01,\n",
       "        7.41996604e-01,  7.71566567e-01,  9.05865665e-01,  8.01556595e-01,\n",
       "        8.65254172e-01,  7.56934446e-01,  5.81321176e-01,  7.94468298e-01,\n",
       "        8.11872541e-01,  3.68844882e-01,  5.77351189e-01,  4.52194560e-01,\n",
       "        7.15319047e-01,  6.80055202e-01,  6.58869324e-01,  6.25504948e-01,\n",
       "        5.71173277e-01,  6.44816765e-01,  4.74439852e-01,  3.64645170e-01,\n",
       "        4.58963234e-01,  4.60066102e-01,  4.54287432e-01,  5.61710878e-01,\n",
       "        5.85376568e-01,  6.44678741e-01,  4.55573693e-01,  5.07247271e-01,\n",
       "        4.78393283e-01,  4.42332059e-01,  4.95858106e-01,  4.30952166e-01,\n",
       "        5.25594447e-01,  3.39471999e-01,  3.81529839e-01,  2.99882860e-01,\n",
       "        3.78929422e-01,  5.04192499e-01,  4.00463896e-01,  1.89534665e-01,\n",
       "        3.40811915e-01,  3.83669223e-01,  4.65760284e-01,  1.98238037e-01,\n",
       "        3.59481999e-01,  2.70966769e-01,  4.04855485e-01,  3.10847169e-01,\n",
       "        4.15973666e-01,  2.72612381e-01,  2.83747467e-01,  3.07129331e-01,\n",
       "        4.94084162e-01,  2.63610588e-01,  2.78455626e-01,  2.57716629e-01,\n",
       "        3.42086348e-01,  2.09933317e-01,  1.46858579e-01,  1.78651101e-01,\n",
       "        3.37267937e-01,  2.00025959e-01,  1.75608517e-01,  3.50817122e-01,\n",
       "        9.92103284e-02,  2.55361993e-01,  1.75711108e-01, -4.77921672e-02,\n",
       "        1.83914135e-01,  2.78714775e-01,  1.36970674e-01,  1.20822696e-01,\n",
       "        6.45307975e-02,  2.45116578e-01, -1.24934414e-01,  1.36226547e-01,\n",
       "        1.40800621e-01, -1.81509139e-02,  5.90039743e-03, -5.96349145e-02,\n",
       "       -5.85256791e-02,  7.22510924e-03, -6.55419742e-02, -1.52007686e-01,\n",
       "        8.77037056e-02, -5.11314063e-02,  9.54612089e-02, -6.83626443e-02,\n",
       "       -1.55472009e-01, -1.57735690e-01, -9.71935192e-02, -8.61676698e-02,\n",
       "       -5.40102537e-02, -3.33071102e-02, -2.10361560e-01, -2.95016919e-01,\n",
       "       -2.63548845e-02,  1.09457159e-01, -3.13307301e-01,  9.21414796e-04,\n",
       "       -2.11375063e-01, -3.29685783e-01, -2.65819095e-01, -2.19722657e-01,\n",
       "       -2.90031871e-01, -3.16020438e-01, -3.99216572e-01, -2.65094805e-01,\n",
       "       -3.99078711e-01, -2.13739624e-01, -2.68775253e-01, -3.55598514e-01,\n",
       "       -3.24282959e-01, -4.45498241e-01, -3.26302532e-01, -4.08402444e-01,\n",
       "       -2.89468950e-01, -5.93409716e-01, -4.09648762e-01, -5.58103340e-01,\n",
       "       -4.20296899e-01, -5.87894312e-01, -4.29881641e-01, -4.28814110e-01,\n",
       "       -5.10635386e-01, -3.75589962e-01, -5.97858523e-01, -5.09355404e-01,\n",
       "       -5.56957978e-01, -4.98134847e-01, -4.49015337e-01, -6.15132115e-01,\n",
       "       -4.64954948e-01, -7.63821541e-01, -4.92109563e-01, -3.71795830e-01,\n",
       "       -4.99653420e-01, -6.06906070e-01, -5.22406866e-01, -5.03037906e-01,\n",
       "       -6.22809803e-01, -5.19235911e-01, -5.01140701e-01, -6.18464174e-01,\n",
       "       -5.40082744e-01, -5.22404945e-01, -8.32746720e-01, -7.45147742e-01,\n",
       "       -6.83118164e-01, -7.18974244e-01, -5.87903840e-01, -8.04352502e-01,\n",
       "       -6.76546366e-01, -5.88888242e-01, -8.62787884e-01, -8.05743397e-01,\n",
       "       -6.70149152e-01, -7.61453244e-01, -8.88819573e-01, -6.59615947e-01,\n",
       "       -6.50663839e-01, -7.45056552e-01, -5.97926715e-01, -6.74405545e-01,\n",
       "       -5.85935397e-01, -6.11931086e-01, -8.26356783e-01, -7.25022269e-01,\n",
       "       -9.01193272e-01, -7.63833047e-01, -7.64478514e-01, -8.46532741e-01,\n",
       "       -9.55540297e-01, -8.31191006e-01, -8.09364028e-01, -9.68670493e-01,\n",
       "       -9.18491006e-01, -8.96526419e-01, -8.37799865e-01, -8.49985707e-01,\n",
       "       -8.78000886e-01, -8.75810050e-01, -7.48779059e-01, -7.83424848e-01,\n",
       "       -7.88973211e-01, -7.64327003e-01, -9.63269222e-01, -8.47073592e-01,\n",
       "       -8.62318348e-01, -9.63390731e-01, -1.06955993e+00, -1.10762927e+00,\n",
       "       -7.00397765e-01, -8.53914544e-01, -9.92786936e-01, -9.25018243e-01,\n",
       "       -9.29775490e-01, -9.21520703e-01, -1.07309677e+00, -6.93188970e-01,\n",
       "       -9.30569629e-01, -8.45875106e-01, -9.13213044e-01, -1.04596784e+00,\n",
       "       -9.33957229e-01, -8.87664968e-01, -9.27662167e-01, -1.08220941e+00,\n",
       "       -1.03847849e+00, -8.14901644e-01, -9.21663884e-01, -1.13185307e+00,\n",
       "       -8.92978718e-01, -9.91256904e-01, -7.39863743e-01, -1.07038556e+00,\n",
       "       -1.06854874e+00, -1.06942134e+00, -8.38940723e-01, -8.41707722e-01,\n",
       "       -1.10438052e+00, -8.52740081e-01, -8.93709112e-01, -9.80541039e-01,\n",
       "       -8.93311115e-01, -8.75449074e-01, -9.16393511e-01, -9.44747037e-01,\n",
       "       -8.84655882e-01, -8.25945760e-01, -1.00426834e+00, -9.18227494e-01,\n",
       "       -1.12782026e+00, -1.20927038e+00, -1.21356890e+00, -9.01293711e-01,\n",
       "       -1.00701351e+00, -9.80592108e-01, -1.16934652e+00, -1.02609748e+00,\n",
       "       -1.05810536e+00, -9.73912721e-01, -9.87338370e-01, -1.00891951e+00,\n",
       "       -9.06873140e-01, -9.50341158e-01, -1.02534568e+00, -8.61303016e-01,\n",
       "       -1.22369893e+00, -7.74136350e-01, -1.01325662e+00, -1.04357612e+00,\n",
       "       -9.51252390e-01, -9.26902780e-01, -9.07451542e-01, -1.10083125e+00,\n",
       "       -9.98977538e-01, -1.14764957e+00, -1.05145853e+00, -9.63808544e-01,\n",
       "       -9.51939657e-01, -1.05819598e+00, -9.62356924e-01, -9.68371700e-01,\n",
       "       -1.04216071e+00, -7.71006122e-01, -1.03483361e+00, -1.04307751e+00,\n",
       "       -1.03225179e+00, -9.98869043e-01, -9.00420758e-01, -9.69047619e-01,\n",
       "       -8.75864263e-01, -9.69653725e-01, -8.78239625e-01, -9.36827062e-01,\n",
       "       -9.67217980e-01, -1.04303485e+00, -1.08926965e+00, -6.80227224e-01,\n",
       "       -1.10717139e+00, -9.74053155e-01, -8.23596608e-01, -7.35134803e-01,\n",
       "       -1.08839456e+00, -9.34285340e-01, -8.84403785e-01, -7.40087478e-01,\n",
       "       -6.14846355e-01, -7.00961045e-01, -7.12026900e-01, -7.69888250e-01,\n",
       "       -8.47551930e-01, -8.47733391e-01, -7.67962126e-01, -6.56290252e-01,\n",
       "       -6.93950183e-01, -8.63435147e-01, -7.62175799e-01, -8.77006529e-01,\n",
       "       -6.82359318e-01, -8.02732861e-01, -6.34605390e-01, -8.84206476e-01,\n",
       "       -7.67162332e-01, -7.62777479e-01, -8.31650496e-01, -6.51572248e-01,\n",
       "       -7.21208440e-01, -9.06750628e-01, -6.30751565e-01, -8.46990055e-01,\n",
       "       -5.99028194e-01, -6.45400170e-01, -7.90757335e-01, -6.82641989e-01,\n",
       "       -1.00255281e+00, -6.00666911e-01, -7.33971530e-01, -7.09244200e-01,\n",
       "       -6.00437594e-01, -6.79781427e-01, -5.64107187e-01, -6.67100494e-01,\n",
       "       -5.65891791e-01, -6.20041957e-01, -5.77985602e-01, -4.66219995e-01,\n",
       "       -6.79322442e-01, -7.07142559e-01, -6.41524333e-01, -6.01483343e-01,\n",
       "       -5.96833776e-01, -4.62446679e-01, -7.07288850e-01, -5.49709396e-01,\n",
       "       -3.88225843e-01, -6.66686765e-01, -4.79825787e-01, -4.61059157e-01,\n",
       "       -2.96724522e-01, -5.82178798e-01, -5.59255752e-01, -6.11467345e-01,\n",
       "       -3.25376607e-01, -4.96062948e-01, -5.43343471e-01, -6.24707275e-01,\n",
       "       -5.24497404e-01, -6.72897167e-01, -5.16403989e-01, -2.15797989e-01,\n",
       "       -4.14879259e-01, -2.16402819e-01, -3.02103899e-01, -4.07531080e-01,\n",
       "       -2.99757917e-01, -2.78814049e-01, -3.19529569e-01, -2.95901885e-01,\n",
       "       -3.84776693e-01, -2.15418811e-01, -3.38814443e-01, -2.97622234e-01,\n",
       "       -3.35813748e-01, -3.68336174e-01, -3.36671568e-01, -2.00050356e-01,\n",
       "       -4.12705165e-01, -1.97359007e-01, -2.32277649e-02, -4.12724135e-01,\n",
       "       -1.95174913e-01, -1.35860977e-01, -3.48799362e-01, -2.10796237e-01,\n",
       "       -1.06260716e-01, -1.26776260e-01, -5.80079859e-02, -1.10648765e-01,\n",
       "       -1.44163012e-01, -2.41546928e-01, -2.36256895e-01, -9.14014129e-02,\n",
       "       -2.12844563e-01, -1.24269094e-01, -9.69463771e-02, -8.59812079e-02,\n",
       "        5.11406077e-02,  8.05206608e-04, -6.55462835e-02, -1.00147822e-01,\n",
       "       -5.01795297e-02,  1.74512899e-01,  6.52979510e-02,  6.99087203e-02,\n",
       "        7.13661043e-02,  6.25655723e-03,  6.18192174e-02,  5.22148318e-02,\n",
       "       -2.44359490e-02,  1.71190726e-01,  4.23271356e-02,  6.28316591e-02,\n",
       "        6.66691936e-02,  8.92685617e-02,  1.28242933e-01,  2.04976053e-01,\n",
       "        3.90875073e-02,  2.04887443e-01,  3.54732619e-01,  1.02409997e-03,\n",
       "        2.16326706e-01,  3.54733014e-01,  2.63011950e-01,  2.73054069e-01,\n",
       "        7.28197098e-02,  2.52622749e-01,  2.37644439e-01,  2.62237470e-01,\n",
       "        3.26692562e-01,  3.70460736e-01,  5.76745832e-01,  3.10658875e-01,\n",
       "        2.25270739e-01,  3.40654438e-01,  4.67982800e-01,  3.52962062e-01,\n",
       "        5.43182412e-01,  4.63066680e-01,  4.03804966e-01,  2.47160987e-01,\n",
       "        2.59310036e-01,  4.30541622e-01,  3.09462731e-01,  4.68641565e-01,\n",
       "        3.63046366e-01,  5.29494808e-01,  5.40918391e-01,  3.72345615e-01,\n",
       "        4.32693217e-01,  3.57000702e-01,  4.84505189e-01,  5.42408129e-01,\n",
       "        4.46000772e-01,  4.27896275e-01,  6.34571365e-01,  6.18743527e-01,\n",
       "        6.89121564e-01,  2.06110884e-01,  5.22224193e-01,  4.17909774e-01,\n",
       "        3.45324259e-01,  6.06087282e-01,  6.62347916e-01,  6.12329653e-01,\n",
       "        8.93116767e-01,  6.16535593e-01,  7.24437578e-01,  6.69570514e-01,\n",
       "        6.07888026e-01,  7.70652222e-01,  4.99016979e-01,  8.31732970e-01,\n",
       "        7.73586204e-01,  5.38235985e-01,  5.47653820e-01,  7.43156233e-01,\n",
       "        9.09577242e-01,  6.34886327e-01,  7.79659180e-01,  5.59493587e-01,\n",
       "        6.44214953e-01,  4.97554879e-01,  6.13065287e-01,  7.06719007e-01,\n",
       "        8.09757314e-01,  7.82132410e-01,  6.13891777e-01,  7.41796754e-01,\n",
       "        7.36963305e-01,  9.62238533e-01,  7.71909679e-01,  7.68702641e-01,\n",
       "        6.80843467e-01,  9.87805265e-01,  7.61961095e-01,  9.39671660e-01,\n",
       "        8.08741227e-01,  7.78539848e-01,  9.00922340e-01,  6.95793952e-01,\n",
       "        6.73054934e-01,  7.54684658e-01,  9.00167817e-01,  9.14788575e-01,\n",
       "        6.89724712e-01,  8.68880161e-01,  6.78984160e-01,  7.59629856e-01,\n",
       "        8.54490945e-01,  8.81775961e-01,  9.35696916e-01,  8.22233395e-01,\n",
       "        1.03199479e+00,  9.10975374e-01,  5.79583857e-01,  9.18782877e-01,\n",
       "        1.01756144e+00,  9.53453771e-01,  8.37138728e-01,  8.29677343e-01,\n",
       "        9.35016898e-01,  9.12387248e-01,  1.11426401e+00,  1.11959021e+00,\n",
       "        9.63824996e-01,  8.60018765e-01,  8.05437945e-01,  9.22023513e-01,\n",
       "        1.02003390e+00,  9.51816003e-01,  1.03521954e+00,  1.11909361e+00,\n",
       "        9.61580377e-01,  8.13165184e-01,  9.83163195e-01,  1.08077007e+00,\n",
       "        8.47241944e-01,  8.39592483e-01,  9.28347600e-01,  9.28689201e-01,\n",
       "        1.10537640e+00,  1.11878288e+00,  8.66746680e-01,  1.03520292e+00,\n",
       "        9.97273074e-01,  8.34522723e-01,  1.12845966e+00,  1.08570550e+00,\n",
       "        9.73861981e-01,  1.18602673e+00,  8.88716443e-01,  9.07771115e-01,\n",
       "        9.45776221e-01,  1.03274483e+00,  1.03910688e+00,  8.99352610e-01,\n",
       "        1.10301177e+00,  1.11477227e+00,  9.65532461e-01,  1.03564041e+00,\n",
       "        8.99480140e-01,  1.10830517e+00,  8.72293469e-01,  9.71558131e-01,\n",
       "        9.08119759e-01,  8.49625001e-01,  1.02894488e+00,  9.71444899e-01,\n",
       "        9.42338170e-01,  1.00866134e+00,  7.78427514e-01,  9.85253068e-01,\n",
       "        9.73453993e-01,  9.59794757e-01,  8.36604252e-01,  1.10042391e+00,\n",
       "        9.11420444e-01,  9.84867444e-01,  9.72960171e-01,  1.13956433e+00,\n",
       "        9.97536993e-01,  9.16447763e-01,  1.09789100e+00,  9.95660881e-01,\n",
       "        9.42342774e-01,  1.07888462e+00,  8.72810508e-01,  8.95614890e-01,\n",
       "        8.56181639e-01,  1.03536896e+00,  9.67250881e-01,  1.14799780e+00,\n",
       "        1.02865939e+00,  9.73024266e-01,  7.03928055e-01,  9.70246529e-01,\n",
       "        7.26418327e-01,  8.23128376e-01,  1.00067228e+00,  7.72773617e-01,\n",
       "        9.29362048e-01,  8.67909718e-01,  7.85773798e-01,  8.49506396e-01,\n",
       "        8.95488383e-01,  1.04783136e+00,  9.38121046e-01,  9.36437089e-01,\n",
       "        8.64893117e-01,  8.95152324e-01,  8.50124478e-01,  7.89174933e-01,\n",
       "        1.05595675e+00,  8.42486236e-01,  9.34124790e-01,  8.26801470e-01,\n",
       "        7.25013666e-01,  6.70381211e-01,  9.31466069e-01,  8.36064564e-01,\n",
       "        8.56607906e-01,  6.44156432e-01,  8.70858248e-01,  7.01140416e-01,\n",
       "        7.64873005e-01,  7.64287881e-01,  8.31710197e-01,  8.31579135e-01,\n",
       "        9.21223226e-01,  6.80101171e-01,  8.24080736e-01,  7.33064279e-01,\n",
       "        5.04552795e-01,  7.35628268e-01,  6.37031701e-01,  8.25489041e-01,\n",
       "        7.67263012e-01,  7.05047432e-01,  7.90364008e-01,  6.67644239e-01,\n",
       "        6.99217955e-01,  8.75359312e-01,  5.61632320e-01,  6.65983818e-01,\n",
       "        6.06719108e-01,  6.42307639e-01,  6.42114909e-01,  5.71695614e-01,\n",
       "        7.05422546e-01,  6.14675863e-01,  5.43860572e-01,  7.63145089e-01,\n",
       "        7.20785509e-01,  5.47616923e-01,  4.44410183e-01,  7.35940211e-01,\n",
       "        3.04455145e-01,  3.87521055e-01,  4.09114600e-01,  5.57340345e-01,\n",
       "        6.30068559e-01,  6.47142552e-01,  4.61133098e-01,  5.58817655e-01,\n",
       "        6.44674028e-01,  4.98693837e-01,  4.81192573e-01,  3.51293539e-01,\n",
       "        3.66330935e-01,  5.48022292e-01,  4.68825622e-01,  3.90874202e-01,\n",
       "        4.25989665e-01,  2.33294093e-01,  5.62569685e-01,  3.86958289e-01,\n",
       "        3.71393836e-01,  3.96957039e-01,  4.32250680e-01,  4.44963660e-01,\n",
       "        4.22666647e-01,  1.26875006e-01,  4.90968873e-01,  2.99311953e-01,\n",
       "        1.67128885e-01,  2.16905459e-01,  2.15812379e-01,  2.74688549e-01,\n",
       "        2.61195769e-01,  2.06569943e-01,  1.24730490e-01,  3.30905515e-01,\n",
       "        1.73305342e-01,  1.81691858e-01,  2.95944080e-01,  2.20711461e-01,\n",
       "        3.04449211e-01,  1.17629729e-01,  7.67058896e-02,  2.57955586e-01,\n",
       "        1.99560769e-01,  1.71154067e-01, -1.51231391e-01,  9.72116702e-02,\n",
       "        8.86002363e-02,  3.97652739e-02,  1.21020033e-02, -2.57262753e-02,\n",
       "        8.56006769e-02,  8.43928910e-02,  1.96049140e-01, -1.80512512e-02,\n",
       "        8.80156724e-02, -4.26103145e-02,  2.03882503e-02, -1.46726725e-01,\n",
       "       -8.32882660e-02, -1.77988893e-01, -7.28166862e-02, -8.21893961e-03,\n",
       "       -2.26242630e-01, -7.70819564e-02, -2.57265845e-01, -2.17421305e-01,\n",
       "       -5.25407968e-02, -1.62942031e-01,  3.52004453e-02, -2.23670735e-02,\n",
       "        1.09178168e-01, -1.73246695e-01, -2.31595047e-01, -1.12905404e-01,\n",
       "       -2.47134669e-01, -2.70713779e-01, -2.31331463e-01, -2.25561923e-01,\n",
       "       -2.58367746e-01, -3.08319100e-01, -1.87726669e-01, -1.18117529e-01,\n",
       "       -3.48939878e-01, -1.89298871e-01, -3.76588262e-01, -2.07372179e-01,\n",
       "       -5.51459887e-01, -5.99192894e-02, -2.69843722e-01, -3.18937124e-01,\n",
       "       -2.00109711e-01, -3.50448284e-01, -4.35364666e-01, -3.67548379e-01,\n",
       "       -4.31024749e-01, -4.17925615e-01, -4.47631345e-01, -3.20858269e-01,\n",
       "       -4.53484495e-01, -4.40754995e-01, -5.78666652e-01, -5.26066089e-01,\n",
       "       -3.31278076e-01, -4.92248846e-01, -4.77555133e-01, -5.46826828e-01,\n",
       "       -6.06688731e-01, -4.63092070e-01, -4.61145377e-01, -3.97270239e-01,\n",
       "       -5.49118541e-01, -6.74699175e-01, -4.75500014e-01, -6.93470779e-01])"
      ]
     },
     "execution_count": 96,
     "metadata": {},
     "output_type": "execute_result"
    }
   ],
   "source": [
    "f_noise.reshape(-1)"
   ]
  },
  {
   "cell_type": "code",
   "execution_count": 53,
   "metadata": {},
   "outputs": [
    {
     "data": {
      "text/plain": [
       "Sequential(\n",
       "  (0): Linear(in_features=1, out_features=20, bias=True)\n",
       "  (1): Tanh()\n",
       "  (2): Linear(in_features=20, out_features=20, bias=True)\n",
       "  (3): Tanh()\n",
       "  (4): Linear(in_features=20, out_features=20, bias=True)\n",
       "  (5): Tanh()\n",
       "  (6): Linear(in_features=20, out_features=1, bias=True)\n",
       ")"
      ]
     },
     "execution_count": 53,
     "metadata": {},
     "output_type": "execute_result"
    }
   ],
   "source": [
    "network"
   ]
  },
  {
   "cell_type": "code",
   "execution_count": null,
   "metadata": {},
   "outputs": [],
   "source": []
  }
 ],
 "metadata": {
  "kernelspec": {
   "display_name": "Python 3",
   "language": "python",
   "name": "python3"
  },
  "language_info": {
   "codemirror_mode": {
    "name": "ipython",
    "version": 3
   },
   "file_extension": ".py",
   "mimetype": "text/x-python",
   "name": "python",
   "nbconvert_exporter": "python",
   "pygments_lexer": "ipython3",
   "version": "3.6.8"
  }
 },
 "nbformat": 4,
 "nbformat_minor": 2
}
