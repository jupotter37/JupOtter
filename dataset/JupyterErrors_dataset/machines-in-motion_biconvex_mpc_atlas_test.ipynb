{
 "cells": [
  {
   "cell_type": "code",
   "execution_count": 1,
   "id": "5ede2cc0",
   "metadata": {},
   "outputs": [
    {
     "name": "stderr",
     "output_type": "stream",
     "text": [
      "<frozen importlib._bootstrap>:219: RuntimeWarning: to-Python converter for boost::shared_ptr<hpp::fcl::CollisionGeometry> already registered; second conversion method ignored.\n"
     ]
    },
    {
     "name": "stdout",
     "output_type": "stream",
     "text": [
      "37 37\n"
     ]
    }
   ],
   "source": [
    "## This is a demo for atlas\n",
    "## Author : Avadesh Meduri\n",
    "## Date : 06/04/2022\n",
    "%load_ext autoreload\n",
    "%autoreload 2\n",
    "\n",
    "import time\n",
    "import numpy as np\n",
    "from mpc.abstract_cyclic_gen1 import AbstractGaitGen\n",
    "from robot_properties_atlas.config import AtlasConfig\n",
    "from py_biconvex_mpc.ik_utils.abstract_gait_generator import AbstractGaitGenerator\n",
    "\n",
    "from matplotlib import pyplot as plt\n",
    "\n",
    "import pinocchio as pin\n",
    "\n",
    "import numpy as np\n",
    "from motions.weight_abstract import BiconvexMotionParams\n",
    "from robot_properties_solo.config import Solo12Config"
   ]
  },
  {
   "cell_type": "code",
   "execution_count": 2,
   "id": "87d3ac86",
   "metadata": {},
   "outputs": [
    {
     "name": "stdout",
     "output_type": "stream",
     "text": [
      "You can open the visualizer by visiting the following URL:\n",
      "http://127.0.0.1:7000/static/\n"
     ]
    }
   ],
   "source": [
    "robot = AtlasConfig.buildRobotWrapper()\n",
    "rmodel = robot.model\n",
    "rdata = robot.data\n",
    "viz = pin.visualize.MeshcatVisualizer(robot.model, robot.collision_model, robot.visual_model)\n",
    "viz.initViewer(open=False)\n",
    "viz.loadViewerModel()"
   ]
  },
  {
   "cell_type": "code",
   "execution_count": 3,
   "id": "cbb58b11",
   "metadata": {},
   "outputs": [],
   "source": [
    "## robot config and init\n",
    "pin_robot = AtlasConfig.buildRobotWrapper()\n",
    "urdf_path = AtlasConfig.urdf_path\n",
    "\n",
    "eff_names = [\"l_foot_lt\", \"l_foot_rt\", \"l_foot_lb\", \"l_foot_rb\", \"r_foot_lt\", \"r_foot_rt\", \"r_foot_lb\", \"r_foot_rb\"]\n",
    "hip_names = [\"l_leg_hpz\", \"l_leg_hpz\", \"l_leg_hpz\", \"l_leg_hpz\", \"r_leg_hpz\", \"r_leg_hpz\", \"r_leg_hpz\", \"r_leg_hpz\"]\n",
    "\n",
    "# eff_names = [\"l_leg_akx\", \"r_leg_akx\"]\n",
    "# hip_names = [\"l_leg_hpz\", \"r_leg_hpz\"]\n",
    "n_eff = len(eff_names)\n",
    "\n",
    "q0 = np.array(AtlasConfig.initial_configuration)\n",
    "q0[0:2] = 0.0\n",
    "q0[10] = np.pi/4.0\n",
    "# q0[13] = np.pi/4.0\n",
    "\n",
    "v0 = pin.utils.zero(pin_robot.model.nv)\n",
    "x0 = np.concatenate([q0, pin.utils.zero(pin_robot.model.nv)])\n",
    "\n",
    "v_des = np.array([0.0,0.0,0.0])\n",
    "w_des = 0.0\n",
    "\n",
    "plan_freq = 0.05 # sec\n",
    "update_time = 0.0 # sec (time of lag)"
   ]
  },
  {
   "cell_type": "code",
   "execution_count": 4,
   "id": "32753a2b",
   "metadata": {},
   "outputs": [
    {
     "ename": "IndexError",
     "evalue": "Index out of range",
     "output_type": "error",
     "traceback": [
      "\u001b[0;31m---------------------------------------------------------------------------\u001b[0m",
      "\u001b[0;31mIndexError\u001b[0m                                Traceback (most recent call last)",
      "Input \u001b[0;32mIn [4]\u001b[0m, in \u001b[0;36m<cell line: 1>\u001b[0;34m()\u001b[0m\n\u001b[0;32m----> 1\u001b[0m gg \u001b[38;5;241m=\u001b[39m \u001b[43mAbstractGaitGen\u001b[49m\u001b[43m(\u001b[49m\u001b[43murdf_path\u001b[49m\u001b[43m,\u001b[49m\u001b[43m \u001b[49m\u001b[43meff_names\u001b[49m\u001b[43m,\u001b[49m\u001b[43m \u001b[49m\u001b[43mhip_names\u001b[49m\u001b[43m,\u001b[49m\u001b[43m \u001b[49m\u001b[43mx0\u001b[49m\u001b[43m,\u001b[49m\u001b[43m \u001b[49m\u001b[43mplan_freq\u001b[49m\u001b[43m,\u001b[49m\u001b[43m \u001b[49m\u001b[43mq0\u001b[49m\u001b[43m)\u001b[49m\n",
      "File \u001b[0;32m~/devel/workspace/biconvex_mpc/examples/mpc/abstract_cyclic_gen1.py:55\u001b[0m, in \u001b[0;36mAbstractGaitGen.__init__\u001b[0;34m(self, r_urdf, eff_names, hip_names, x_reg, planning_time, q0, foot_size, height_map)\u001b[0m\n\u001b[1;32m     53\u001b[0m     \u001b[38;5;28mself\u001b[39m\u001b[38;5;241m.\u001b[39mee_frame_id\u001b[38;5;241m.\u001b[39mappend(\u001b[38;5;28mself\u001b[39m\u001b[38;5;241m.\u001b[39mrmodel\u001b[38;5;241m.\u001b[39mgetFrameId(\u001b[38;5;28mself\u001b[39m\u001b[38;5;241m.\u001b[39meff_names[i]))\n\u001b[1;32m     54\u001b[0m     \u001b[38;5;28mself\u001b[39m\u001b[38;5;241m.\u001b[39moffsets[i] \u001b[38;5;241m=\u001b[39m \u001b[38;5;28mself\u001b[39m\u001b[38;5;241m.\u001b[39mrdata\u001b[38;5;241m.\u001b[39moMf[\u001b[38;5;28mself\u001b[39m\u001b[38;5;241m.\u001b[39mrmodel\u001b[38;5;241m.\u001b[39mgetFrameId(\u001b[38;5;28mself\u001b[39m\u001b[38;5;241m.\u001b[39mhip_names[i])]\u001b[38;5;241m.\u001b[39mtranslation \u001b[38;5;241m-\u001b[39m com_init\u001b[38;5;241m.\u001b[39mcopy()\n\u001b[0;32m---> 55\u001b[0m     \u001b[38;5;28mself\u001b[39m\u001b[38;5;241m.\u001b[39moffsets[i] \u001b[38;5;241m+\u001b[39m\u001b[38;5;241m=\u001b[39m \u001b[38;5;28;43mself\u001b[39;49m\u001b[38;5;241;43m.\u001b[39;49m\u001b[43mrdata\u001b[49m\u001b[38;5;241;43m.\u001b[39;49m\u001b[43moMf\u001b[49m\u001b[43m[\u001b[49m\u001b[38;5;28;43mself\u001b[39;49m\u001b[38;5;241;43m.\u001b[39;49m\u001b[43mrmodel\u001b[49m\u001b[38;5;241;43m.\u001b[39;49m\u001b[43mgetFrameId\u001b[49m\u001b[43m(\u001b[49m\u001b[38;5;28;43mself\u001b[39;49m\u001b[38;5;241;43m.\u001b[39;49m\u001b[43meff_names\u001b[49m\u001b[43m[\u001b[49m\u001b[43mi\u001b[49m\u001b[43m]\u001b[49m\u001b[43m)\u001b[49m\u001b[43m]\u001b[49m\u001b[38;5;241m.\u001b[39mtranslation \u001b[38;5;241m-\u001b[39m \u001b[38;5;28mself\u001b[39m\u001b[38;5;241m.\u001b[39mrdata\u001b[38;5;241m.\u001b[39moMf[\u001b[38;5;28mself\u001b[39m\u001b[38;5;241m.\u001b[39mrmodel\u001b[38;5;241m.\u001b[39mgetFrameId(\u001b[38;5;28mself\u001b[39m\u001b[38;5;241m.\u001b[39mhip_names[i])]\u001b[38;5;241m.\u001b[39mtranslation\n\u001b[1;32m     56\u001b[0m     \u001b[38;5;28mself\u001b[39m\u001b[38;5;241m.\u001b[39moffsets[i] \u001b[38;5;241m=\u001b[39m np\u001b[38;5;241m.\u001b[39mround(\u001b[38;5;28mself\u001b[39m\u001b[38;5;241m.\u001b[39moffsets[i], \u001b[38;5;241m3\u001b[39m)\n\u001b[1;32m     58\u001b[0m \u001b[38;5;28mself\u001b[39m\u001b[38;5;241m.\u001b[39mapply_offset \u001b[38;5;241m=\u001b[39m \u001b[38;5;28;01mTrue\u001b[39;00m\n",
      "\u001b[0;31mIndexError\u001b[0m: Index out of range"
     ]
    }
   ],
   "source": [
    "gg = AbstractGaitGen(urdf_path, eff_names, hip_names, x0, plan_freq, q0)"
   ]
  },
  {
   "cell_type": "code",
   "execution_count": null,
   "id": "1dabb0ab",
   "metadata": {},
   "outputs": [],
   "source": [
    "#### Stand Still #########################################\n",
    "still = BiconvexMotionParams(\"atlas\", \"Stand\")\n",
    "\n",
    "# Cnt\n",
    "still.gait_period = 0.15\n",
    "still.stance_percent = n_eff*[1.,]\n",
    "still.gait_dt = 0.02\n",
    "still.phase_offset = int(n_eff)*[0.0,]\n",
    "\n",
    "# IK\n",
    "still.state_wt = np.array([1e4, 1e4, 1e4] + [1e5] * 3 + [1e5] * (pin_robot.model.nv - 6) \\\n",
    "                         + [1e2] * 3 + [1e3] * 3 + [5.] *(pin_robot.model.nv - 6))\n",
    "\n",
    "still.ctrl_wt = [0, 0, 1] + [1, 1, 1] + [5.0] *(rmodel.nv - 6)\n",
    "\n",
    "still.swing_wt = [1e5, 2e5]\n",
    "still.cent_wt = [5e+2, 5e+1]\n",
    "still.step_ht = 0.\n",
    "still.nom_ht = 1.12\n",
    "still.reg_wt = [5e-2, 1e-5]\n",
    "\n",
    "# Dyn\n",
    "still.W_X =     np.array([5e+3, 5e+3, 1e+5, 1e-2, 1e-2, 1e1, 1e-2, 1e-2, 1e-2])\n",
    "still.W_X_ter = 10.*np.array([1e3, 1e3, 1e+5, 1e+2, 1e+2, 2e3, 1e+2, 1e+2, 1e+2])\n",
    "still.W_F = np.array(8*[1e1, 1e1,5e0])\n",
    "still.rho = 1e4\n",
    "\n",
    "still.ori_correction = [0.5, 0.5, 0.5]\n",
    "still.gait_horizon = 1\n",
    "\n",
    "# Gains\n",
    "still.kp = 150.0\n",
    "still.kd = 10.0"
   ]
  },
  {
   "cell_type": "code",
   "execution_count": null,
   "id": "144b3629",
   "metadata": {
    "scrolled": false
   },
   "outputs": [],
   "source": [
    "gg.update_gait_params(still, 0)"
   ]
  },
  {
   "cell_type": "code",
   "execution_count": null,
   "id": "6ed88e8a",
   "metadata": {},
   "outputs": [],
   "source": [
    "viz.viewer.jupyter_cell()"
   ]
  },
  {
   "cell_type": "code",
   "execution_count": null,
   "id": "ccc55d7a",
   "metadata": {
    "scrolled": false
   },
   "outputs": [],
   "source": [
    "sim_t = 0.0\n",
    "sim_dt = 0.001\n",
    "index = 0\n",
    "pln_ctr = 0\n",
    "q = q0\n",
    "v = v0\n",
    "\n",
    "\n",
    "for o in range(100):\n",
    "    xs, us, f = gg.optimize(q, v, sim_t, v_des, w_des)\n",
    "#     gg.plot(q, v)\n",
    "    for ind in range(len(xs)):\n",
    "        viz.display(xs[ind][:robot.model.nq])\n",
    "        time.sleep(0.005)\n",
    "\n",
    "    q = xs[int(plan_freq/sim_dt)-1][0:pin_robot.model.nq]\n",
    "    v = xs[int(plan_freq/sim_dt)-1][pin_robot.model.nq:]\n",
    "    sim_t += plan_freq"
   ]
  },
  {
   "cell_type": "code",
   "execution_count": 5,
   "id": "da33705e",
   "metadata": {},
   "outputs": [
    {
     "data": {
      "text/plain": [
       "Nb joints = 32 (nq=37,nv=36)\n",
       "  Joint 0 universe: parent=0\n",
       "  Joint 1 root_joint: parent=0\n",
       "  Joint 2 back_bkz: parent=1\n",
       "  Joint 3 back_bky: parent=2\n",
       "  Joint 4 back_bkx: parent=3\n",
       "  Joint 5 l_arm_shz: parent=4\n",
       "  Joint 6 l_arm_shx: parent=5\n",
       "  Joint 7 l_arm_ely: parent=6\n",
       "  Joint 8 l_arm_elx: parent=7\n",
       "  Joint 9 l_arm_wry: parent=8\n",
       "  Joint 10 l_arm_wrx: parent=9\n",
       "  Joint 11 l_arm_wry2: parent=10\n",
       "  Joint 12 neck_ry: parent=4\n",
       "  Joint 13 r_arm_shz: parent=4\n",
       "  Joint 14 r_arm_shx: parent=13\n",
       "  Joint 15 r_arm_ely: parent=14\n",
       "  Joint 16 r_arm_elx: parent=15\n",
       "  Joint 17 r_arm_wry: parent=16\n",
       "  Joint 18 r_arm_wrx: parent=17\n",
       "  Joint 19 r_arm_wry2: parent=18\n",
       "  Joint 20 l_leg_hpz: parent=1\n",
       "  Joint 21 l_leg_hpx: parent=20\n",
       "  Joint 22 l_leg_hpy: parent=21\n",
       "  Joint 23 l_leg_kny: parent=22\n",
       "  Joint 24 l_leg_aky: parent=23\n",
       "  Joint 25 l_leg_akx: parent=24\n",
       "  Joint 26 r_leg_hpz: parent=1\n",
       "  Joint 27 r_leg_hpx: parent=26\n",
       "  Joint 28 r_leg_hpy: parent=27\n",
       "  Joint 29 r_leg_kny: parent=28\n",
       "  Joint 30 r_leg_aky: parent=29\n",
       "  Joint 31 r_leg_akx: parent=30"
      ]
     },
     "execution_count": 5,
     "metadata": {},
     "output_type": "execute_result"
    }
   ],
   "source": [
    "rmodel"
   ]
  },
  {
   "cell_type": "code",
   "execution_count": null,
   "id": "8f096527",
   "metadata": {},
   "outputs": [],
   "source": [
    "q0.shape[0] - 7"
   ]
  }
 ],
 "metadata": {
  "kernelspec": {
   "display_name": "Python 3 (ipykernel)",
   "language": "python",
   "name": "python3"
  },
  "language_info": {
   "codemirror_mode": {
    "name": "ipython",
    "version": 3
   },
   "file_extension": ".py",
   "mimetype": "text/x-python",
   "name": "python",
   "nbconvert_exporter": "python",
   "pygments_lexer": "ipython3",
   "version": "3.8.10"
  }
 },
 "nbformat": 4,
 "nbformat_minor": 5
}
