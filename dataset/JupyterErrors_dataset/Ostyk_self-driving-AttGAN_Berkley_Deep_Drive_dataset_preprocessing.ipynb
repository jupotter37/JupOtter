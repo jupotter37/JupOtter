{
  "nbformat": 4,
  "nbformat_minor": 0,
  "metadata": {
    "colab": {
      "name": "Berkley Deep Drive dataset preprocessing.ipynb",
      "provenance": [],
      "toc_visible": true
    },
    "kernelspec": {
      "name": "python3",
      "display_name": "Python 3"
    }
  },
  "cells": [
    {
      "cell_type": "code",
      "metadata": {
        "id": "fK95xzJZGSSH",
        "colab_type": "code",
        "outputId": "6cb2d9e7-7da9-4158-d4fb-867fd76cd9ac",
        "colab": {
          "base_uri": "https://localhost:8080/",
          "height": 227
        }
      },
      "source": [
        "!wget https://gitlab.com/federicozzo/electiveai/raw/master/Desktop/uni/elective_AI/electiveai/bdd100K_img.zip?inline=false"
      ],
      "execution_count": 0,
      "outputs": [
        {
          "output_type": "stream",
          "text": [
            "--2019-11-17 09:56:55--  https://gitlab.com/federicozzo/electiveai/raw/master/Desktop/uni/elective_AI/electiveai/bdd100K_img.zip?inline=false\n",
            "Resolving gitlab.com (gitlab.com)... 35.231.145.151\n",
            "Connecting to gitlab.com (gitlab.com)|35.231.145.151|:443... connected.\n",
            "HTTP request sent, awaiting response... 200 OK\n",
            "Length: 6868891483 (6.4G) [application/zip]\n",
            "Saving to: ‘bdd100K_img.zip?inline=false’\n",
            "\n",
            "bdd100K_img.zip?inl 100%[===================>]   6.40G  32.2MB/s    in 3m 10s  \n",
            "\n",
            "2019-11-17 10:00:06 (34.5 MB/s) - ‘bdd100K_img.zip?inline=false’ saved [6868891483/6868891483]\n",
            "\n"
          ],
          "name": "stdout"
        }
      ]
    },
    {
      "cell_type": "code",
      "metadata": {
        "id": "9aKnXvlJ5fsF",
        "colab_type": "code",
        "colab": {
          "base_uri": "https://localhost:8080/",
          "height": 81
        },
        "outputId": "12834acd-44b6-450d-94b6-e29f11f796bd"
      },
      "source": [
        "from __future__ import absolute_import, division, print_function, unicode_literals\n",
        "import tensorflow as tf\n",
        "import numpy as np\n",
        "import IPython.display as display\n",
        "import cv2\n",
        "import json\n",
        "import os\n",
        "from tqdm import tqdm\n",
        "import matplotlib.pyplot as plt"
      ],
      "execution_count": 1,
      "outputs": [
        {
          "output_type": "display_data",
          "data": {
            "text/html": [
              "<p style=\"color: red;\">\n",
              "The default version of TensorFlow in Colab will soon switch to TensorFlow 2.x.<br>\n",
              "We recommend you <a href=\"https://www.tensorflow.org/guide/migrate\" target=\"_blank\">upgrade</a> now \n",
              "or ensure your notebook will continue to use TensorFlow 1.x via the <code>%tensorflow_version 1.x</code> magic:\n",
              "<a href=\"https://colab.research.google.com/notebooks/tensorflow_version.ipynb\" target=\"_blank\">more info</a>.</p>\n"
            ],
            "text/plain": [
              "<IPython.core.display.HTML object>"
            ]
          },
          "metadata": {
            "tags": []
          }
        }
      ]
    },
    {
      "cell_type": "code",
      "metadata": {
        "id": "hDnZHlEE30_I",
        "colab_type": "code",
        "outputId": "c8c2d81d-acff-42de-ea73-72c94100fd41",
        "colab": {
          "base_uri": "https://localhost:8080/",
          "height": 35
        }
      },
      "source": [
        "from google.colab import drive\n",
        "drive.mount('/content/drive', force_remount=True)"
      ],
      "execution_count": 2,
      "outputs": [
        {
          "output_type": "stream",
          "text": [
            "Mounted at /content/drive\n"
          ],
          "name": "stdout"
        }
      ]
    },
    {
      "cell_type": "code",
      "metadata": {
        "id": "OU2YivkqK_7N",
        "colab_type": "code",
        "colab": {}
      },
      "source": [
        "drive.flush_and_unmount()"
      ],
      "execution_count": 0,
      "outputs": []
    },
    {
      "cell_type": "code",
      "metadata": {
        "id": "DiFp9aU6Hz4k",
        "colab_type": "code",
        "colab": {
          "base_uri": "https://localhost:8080/",
          "height": 203
        },
        "outputId": "0fdf1128-1115-4863-87b5-1fc12b379a8f"
      },
      "source": [
        "with open(\"/content/bdd100k/labels/bdd100k_labels_images_train.json\", \"r\") as f:\n",
        "    train_images_label = json.load(f)"
      ],
      "execution_count": 3,
      "outputs": [
        {
          "output_type": "error",
          "ename": "FileNotFoundError",
          "evalue": "ignored",
          "traceback": [
            "\u001b[0;31m---------------------------------------------------------------------------\u001b[0m",
            "\u001b[0;31mFileNotFoundError\u001b[0m                         Traceback (most recent call last)",
            "\u001b[0;32m<ipython-input-3-fce6928c4577>\u001b[0m in \u001b[0;36m<module>\u001b[0;34m()\u001b[0m\n\u001b[0;32m----> 1\u001b[0;31m \u001b[0;32mwith\u001b[0m \u001b[0mopen\u001b[0m\u001b[0;34m(\u001b[0m\u001b[0;34m\"/content/bdd100k/labels/bdd100k_labels_images_train.json\"\u001b[0m\u001b[0;34m,\u001b[0m \u001b[0;34m\"r\"\u001b[0m\u001b[0;34m)\u001b[0m \u001b[0;32mas\u001b[0m \u001b[0mf\u001b[0m\u001b[0;34m:\u001b[0m\u001b[0;34m\u001b[0m\u001b[0;34m\u001b[0m\u001b[0m\n\u001b[0m\u001b[1;32m      2\u001b[0m     \u001b[0mtrain_images_label\u001b[0m \u001b[0;34m=\u001b[0m \u001b[0mjson\u001b[0m\u001b[0;34m.\u001b[0m\u001b[0mload\u001b[0m\u001b[0;34m(\u001b[0m\u001b[0mf\u001b[0m\u001b[0;34m)\u001b[0m\u001b[0;34m\u001b[0m\u001b[0;34m\u001b[0m\u001b[0m\n",
            "\u001b[0;31mFileNotFoundError\u001b[0m: [Errno 2] No such file or directory: '/content/bdd100k/labels/bdd100k_labels_images_train.json'"
          ]
        }
      ]
    },
    {
      "cell_type": "code",
      "metadata": {
        "id": "FLjjh08Y2zAZ",
        "colab_type": "code",
        "colab": {}
      },
      "source": [
        "with open(\"/content/bdd100k/labels/bdd100k_labels_images_val.json\", \"r\") as f:\n",
        "    test_images_label = json.load(f)"
      ],
      "execution_count": 0,
      "outputs": []
    },
    {
      "cell_type": "code",
      "metadata": {
        "id": "oVIR7o9ULTVX",
        "colab_type": "code",
        "colab": {}
      },
      "source": [
        "def _int64_feature(value):\n",
        "    return tf.train.Feature(int64_list=tf.train.Int64List(value=[value]))\n",
        "def _bytes_feature(value):\n",
        "    return tf.train.Feature(bytes_list=tf.train.BytesList(value=[value]))"
      ],
      "execution_count": 0,
      "outputs": []
    },
    {
      "cell_type": "code",
      "metadata": {
        "id": "M8_Z8gDvMevj",
        "colab_type": "code",
        "colab": {}
      },
      "source": [
        "def load_image(addr):\n",
        "    # read an image and resize to (128, 128)\n",
        "    # cv2 load images as BGR, convert it to RGB\n",
        "    img = cv2.imread(addr)\n",
        "    img = cv2.resize(img, (128, 128), interpolation=cv2.INTER_CUBIC)\n",
        "    img = cv2.cvtColor(img, cv2.COLOR_BGR2RGB)\n",
        "    img = img.astype(np.float32)\n",
        "    return img"
      ],
      "execution_count": 0,
      "outputs": []
    },
    {
      "cell_type": "code",
      "metadata": {
        "id": "b2OR1JXpM_4n",
        "colab_type": "code",
        "colab": {}
      },
      "source": [
        "def find_img_in_labels(name):\n",
        "    name = name.split(\"/\")[-1]\n",
        "    for image in train_images_label:\n",
        "        if image['name'] == name:\n",
        "            return image\n",
        "    return None"
      ],
      "execution_count": 0,
      "outputs": []
    },
    {
      "cell_type": "code",
      "metadata": {
        "id": "I6cVWq272vVj",
        "colab_type": "code",
        "colab": {}
      },
      "source": [
        "def find_img_in_test_labels(name):\n",
        "    name = name.split(\"/\")[-1]\n",
        "    for image in test_images_label:\n",
        "        if image['name'] == name:\n",
        "            return image\n",
        "    return None"
      ],
      "execution_count": 0,
      "outputs": []
    },
    {
      "cell_type": "code",
      "metadata": {
        "id": "SLWgNVk7PDIM",
        "colab_type": "code",
        "colab": {}
      },
      "source": [
        "for image in train_images_label:\n",
        "    if image['attributes']['timeofday'] not in ['daytime', 'night', 'dawn/dusk', 'undefined']:\n",
        "        print(image['name'], image['attributes']['timeofday'])\n",
        "        "
      ],
      "execution_count": 0,
      "outputs": []
    },
    {
      "cell_type": "code",
      "metadata": {
        "id": "L0hIun-oLX2z",
        "colab_type": "code",
        "colab": {}
      },
      "source": [
        "def writeTfRecord(input_path, output_path, setname):\n",
        "    # open the TFRecords file\n",
        "    writer = tf.python_io.TFRecordWriter(output_path)\n",
        "    images_filenames = [input_path+fn for fn in os.listdir(path=input_path)]\n",
        "    for image_fn in tqdm(images_filenames):\n",
        "        # Load the image\n",
        "        img = load_image(image_fn)\n",
        "        \n",
        "        if setname == 'train':\n",
        "            attributes = find_img_in_labels(image_fn)\n",
        "        else:\n",
        "            attributes = find_img_in_test_labels(image_fn)\n",
        "\n",
        "        if attributes is None:\n",
        "            print(image_fn)\n",
        "            continue\n",
        "        label = attributes['attributes']['timeofday']\n",
        "        \n",
        "        if label not in ['daytime', 'night']:\n",
        "            continue\n",
        "            \n",
        "        # Create a feature\n",
        "        feature = {'label': _bytes_feature(tf.compat.as_bytes(label)),\n",
        "                'image': _bytes_feature(tf.compat.as_bytes(img.tostring()))}\n",
        "        # Create an example protocol buffer\n",
        "        example = tf.train.Example(features=tf.train.Features(feature=feature))\n",
        "        \n",
        "        # Serialize to string and write on the file\n",
        "        writer.write(example.SerializeToString())    \n",
        "    writer.close()"
      ],
      "execution_count": 0,
      "outputs": []
    },
    {
      "cell_type": "code",
      "metadata": {
        "id": "0RxXcwfDP8E-",
        "colab_type": "code",
        "colab": {}
      },
      "source": [
        "train_path = '/content/bdd100k/images/100k/train/'\n",
        "test_path = '/content/bdd100k/images/100k/test/'\n",
        "val_path = '/content/bdd100k/images/100k/val/'\n",
        "train_out = 'train.tfrecords'\n",
        "test_out = 'test.tfrecords'"
      ],
      "execution_count": 0,
      "outputs": []
    },
    {
      "cell_type": "code",
      "metadata": {
        "id": "F7d9z0EHQKgC",
        "colab_type": "code",
        "colab": {}
      },
      "source": [
        "writeTfRecord(train_path, train_out)"
      ],
      "execution_count": 0,
      "outputs": []
    },
    {
      "cell_type": "code",
      "metadata": {
        "id": "_G84W2m0S6IM",
        "colab_type": "code",
        "outputId": "ad528709-a56a-4cd7-f31c-ef65bfba0dec",
        "colab": {
          "base_uri": "https://localhost:8080/",
          "height": 35
        }
      },
      "source": [
        "writeTfRecord(val_path, test_out, 'val')"
      ],
      "execution_count": 0,
      "outputs": [
        {
          "output_type": "stream",
          "text": [
            "100%|██████████| 10000/10000 [03:55<00:00, 42.51it/s]\n"
          ],
          "name": "stderr"
        }
      ]
    },
    {
      "cell_type": "markdown",
      "metadata": {
        "colab_type": "text",
        "id": "lbjCWhvL4IoW"
      },
      "source": [
        "# ***Read from TfRecords File***\n",
        "\n"
      ]
    },
    {
      "cell_type": "code",
      "metadata": {
        "id": "i8lEMFzJK1hM",
        "colab_type": "code",
        "colab": {}
      },
      "source": [
        "sess = tf.InteractiveSession()"
      ],
      "execution_count": 0,
      "outputs": []
    },
    {
      "cell_type": "code",
      "metadata": {
        "id": "oLDXd-GaW3qK",
        "colab_type": "code",
        "colab": {}
      },
      "source": [
        "### IMPORTANT : First you have to unzip the tfRecord to import! ###"
      ],
      "execution_count": 0,
      "outputs": []
    },
    {
      "cell_type": "code",
      "metadata": {
        "id": "wPKE8J2CRcFM",
        "colab_type": "code",
        "colab": {}
      },
      "source": [
        "tfrecord_path = 'test.tfrecords'\n",
        "dataset = tf.data.TFRecordDataset(tfrecord_path)"
      ],
      "execution_count": 0,
      "outputs": []
    },
    {
      "cell_type": "code",
      "metadata": {
        "id": "3DDXqKMKRhI3",
        "colab_type": "code",
        "colab": {}
      },
      "source": [
        "def decode(serialized_example):\n",
        "    \"\"\"\n",
        "    Parses an image and label from the given `serialized_example`.\n",
        "    It is used as a map function for `dataset.map`\n",
        "    \"\"\"\n",
        "    IMAGE_SHAPE = (128,128,3)\n",
        "\n",
        "    # 1. define a parser\n",
        "    features = tf.parse_single_example(\n",
        "        serialized_example,\n",
        "        # Defaults are not specified since both keys are required.\n",
        "        features={\n",
        "            'image': tf.FixedLenFeature([], tf.string),\n",
        "            'label': tf.FixedLenFeature([], tf.string),\n",
        "        })\n",
        "\n",
        "    # 2. Convert the data\n",
        "    image = tf.decode_raw(features['image'], tf.float32)\n",
        "    label = features['label']\n",
        "\n",
        "    # 3. reshape\n",
        "    image = tf.convert_to_tensor(tf.reshape(image, IMAGE_SHAPE))\n",
        "    \n",
        "    return image, label\n"
      ],
      "execution_count": 0,
      "outputs": []
    },
    {
      "cell_type": "code",
      "metadata": {
        "id": "TkWhDN81WyxN",
        "colab_type": "code",
        "colab": {}
      },
      "source": [
        "def normalize(image, label):\n",
        "  \"\"\"Convert `image` from [0, 255] -> [-0.5, 0.5] floats.\"\"\"\n",
        "  image = tf.cast(image, tf.float32) * (1. / 255)\n",
        "  return image, label"
      ],
      "execution_count": 0,
      "outputs": []
    },
    {
      "cell_type": "code",
      "metadata": {
        "id": "cYToDVmKR1wQ",
        "colab_type": "code",
        "colab": {}
      },
      "source": [
        "# Parse the record into tensors with map. \n",
        "# map takes a Python function and applies it to every sample.\n",
        "dataset = dataset.map(decode)"
      ],
      "execution_count": 0,
      "outputs": []
    },
    {
      "cell_type": "code",
      "metadata": {
        "id": "j0wyyQH1R7Ds",
        "colab_type": "code",
        "colab": {}
      },
      "source": [
        "dataset = dataset.map(normalize)\n",
        "batch_size = 1000\n",
        "dataset = dataset.batch(batch_size)"
      ],
      "execution_count": 0,
      "outputs": []
    },
    {
      "cell_type": "code",
      "metadata": {
        "id": "JyQVgEF8SPNe",
        "colab_type": "code",
        "colab": {}
      },
      "source": [
        "# Creating an iterator\n",
        "iterator = dataset.make_one_shot_iterator()\n",
        "image_batch, label_batch = iterator.get_next()"
      ],
      "execution_count": 0,
      "outputs": []
    },
    {
      "cell_type": "code",
      "metadata": {
        "id": "Gy0zTC_0SVFO",
        "colab_type": "code",
        "colab": {
          "base_uri": "https://localhost:8080/",
          "height": 52
        },
        "outputId": "b910ae27-0000-4dca-dded-6889ffcd1412"
      },
      "source": [
        "image_batch, label_batch = sess.run([image_batch, label_batch])\n",
        "print(image_batch.shape)\n",
        "print(label_batch.shape)"
      ],
      "execution_count": 22,
      "outputs": [
        {
          "output_type": "stream",
          "text": [
            "(1000, 128, 128, 3)\n",
            "(1000,)\n"
          ],
          "name": "stdout"
        }
      ]
    },
    {
      "cell_type": "code",
      "metadata": {
        "id": "42jykAaGSbNG",
        "colab_type": "code",
        "colab": {
          "base_uri": "https://localhost:8080/",
          "height": 285
        },
        "outputId": "0c60ebf2-6852-4169-eac6-60cfc366df60"
      },
      "source": [
        "plt.imshow(image_batch[0])"
      ],
      "execution_count": 23,
      "outputs": [
        {
          "output_type": "execute_result",
          "data": {
            "text/plain": [
              "<matplotlib.image.AxesImage at 0x7f041374a1d0>"
            ]
          },
          "metadata": {
            "tags": []
          },
          "execution_count": 23
        },
        {
          "output_type": "display_data",
          "data": {
            "image/png": "[encoded data removed]",
            "text/plain": [
              "<Figure size 432x288 with 1 Axes>"
            ]
          },
          "metadata": {
            "tags": []
          }
        }
      ]
    }
  ]
}