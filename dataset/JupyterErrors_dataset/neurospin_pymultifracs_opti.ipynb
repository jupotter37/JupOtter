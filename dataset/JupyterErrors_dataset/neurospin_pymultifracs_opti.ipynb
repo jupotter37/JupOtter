{
 "cells": [
  {
   "cell_type": "markdown",
   "metadata": {},
   "source": [
    "# Optimizing pymultifracs"
   ]
  },
  {
   "cell_type": "markdown",
   "metadata": {},
   "source": [
    "## Toy data\n",
    "\n",
    "Let's first get some toy data to test out timings"
   ]
  },
  {
   "cell_type": "code",
   "execution_count": 1,
   "metadata": {},
   "outputs": [],
   "source": [
    "import mne"
   ]
  },
  {
   "cell_type": "code",
   "execution_count": 2,
   "metadata": {},
   "outputs": [
    {
     "name": "stdout",
     "output_type": "stream",
     "text": [
      "Opening raw data file /media/merlin/Media/ScaledTime/MEG/eb180237/eb180237_ScaledTime_RS01_filtered_ica_sss_raw.fif...\n",
      "    Range : 490500 ... 1234499 =    245.250 ...   617.250 secs\n",
      "Ready.\n",
      "Current compensation grade : 0\n"
     ]
    }
   ],
   "source": [
    "raw = mne.io.read_raw_fif('/media/merlin/Media/ScaledTime/MEG/eb180237/eb180237_ScaledTime_RS01_filtered_ica_sss_raw.fif')"
   ]
  },
  {
   "cell_type": "code",
   "execution_count": 3,
   "metadata": {},
   "outputs": [],
   "source": [
    "data = raw[:]"
   ]
  },
  {
   "cell_type": "code",
   "execution_count": 4,
   "metadata": {},
   "outputs": [],
   "source": [
    "del raw"
   ]
  },
  {
   "cell_type": "code",
   "execution_count": 5,
   "metadata": {},
   "outputs": [],
   "source": [
    "data = data[0]"
   ]
  },
  {
   "cell_type": "markdown",
   "metadata": {},
   "source": [
    "## Wavelet analysis"
   ]
  },
  {
   "cell_type": "code",
   "execution_count": 1,
   "metadata": {},
   "outputs": [],
   "source": [
    "from importlib import reload"
   ]
  },
  {
   "cell_type": "code",
   "execution_count": 2,
   "metadata": {},
   "outputs": [],
   "source": [
    "import pymultifracs.wavelet"
   ]
  },
  {
   "cell_type": "code",
   "execution_count": 3,
   "metadata": {},
   "outputs": [
    {
     "data": {
      "text/plain": [
       "<module 'pymultifracs.wavelet' from '/home/merlin/Multifracs/pymultifracs/pymultifracs/wavelet.py'>"
      ]
     },
     "execution_count": 3,
     "metadata": {},
     "output_type": "execute_result"
    }
   ],
   "source": [
    "reload(pymultifracs.wavelet)"
   ]
  },
  {
   "cell_type": "code",
   "execution_count": 4,
   "metadata": {},
   "outputs": [],
   "source": [
    "from pymultifracs.wavelet import wavelet_analysis"
   ]
  },
  {
   "cell_type": "code",
   "execution_count": 5,
   "metadata": {},
   "outputs": [
    {
     "ename": "NameError",
     "evalue": "name 'data' is not defined",
     "output_type": "error",
     "traceback": [
      "\u001b[0;31m---------------------------------------------------------------------------\u001b[0m",
      "\u001b[0;31mNameError\u001b[0m                                 Traceback (most recent call last)",
      "\u001b[0;32m<ipython-input-5-047ed65ff157>\u001b[0m in \u001b[0;36m<module>\u001b[0;34m\u001b[0m\n\u001b[0;32m----> 1\u001b[0;31m \u001b[0mdata\u001b[0m\u001b[0;34m.\u001b[0m\u001b[0mshape\u001b[0m\u001b[0;34m\u001b[0m\u001b[0;34m\u001b[0m\u001b[0m\n\u001b[0m",
      "\u001b[0;31mNameError\u001b[0m: name 'data' is not defined"
     ]
    }
   ],
   "source": [
    "data.shape"
   ]
  },
  {
   "cell_type": "code",
   "execution_count": 11,
   "metadata": {},
   "outputs": [],
   "source": [
    "p_exp = 2\n",
    "wt_name = 'db3'\n",
    "j1 = 1\n",
    "j2 = 10\n",
    "gamint = 1.0"
   ]
  },
  {
   "cell_type": "code",
   "execution_count": 14,
   "metadata": {},
   "outputs": [
    {
     "ename": "ModuleNotFoundError",
     "evalue": "No module named 'megfractal'",
     "output_type": "error",
     "traceback": [
      "\u001b[0;31m---------------------------------------------------------------------------\u001b[0m",
      "\u001b[0;31mModuleNotFoundError\u001b[0m                       Traceback (most recent call last)",
      "\u001b[0;32m<ipython-input-14-4ad39b67c0bb>\u001b[0m in \u001b[0;36m<module>\u001b[0;34m\u001b[0m\n\u001b[0;32m----> 1\u001b[0;31m \u001b[0;32mfrom\u001b[0m \u001b[0mmegfractal\u001b[0m\u001b[0;34m.\u001b[0m\u001b[0mutils\u001b[0m \u001b[0;32mimport\u001b[0m \u001b[0mscale2freq\u001b[0m\u001b[0;34m\u001b[0m\u001b[0;34m\u001b[0m\u001b[0m\n\u001b[0m",
      "\u001b[0;31mModuleNotFoundError\u001b[0m: No module named 'megfractal'"
     ]
    }
   ],
   "source": [
    "from megfractal.utils import scale2freq"
   ]
  },
  {
   "cell_type": "code",
   "execution_count": null,
   "metadata": {},
   "outputs": [],
   "source": []
  },
  {
   "cell_type": "code",
   "execution_count": 55,
   "metadata": {},
   "outputs": [
    {
     "name": "stdout",
     "output_type": "stream",
     "text": [
      " \n",
      "*** Profile printout saved to text file '\"profile.txt\"'. \n"
     ]
    },
    {
     "data": {
      "text/plain": [
       "         2416 function calls (2354 primitive calls) in 0.039 seconds\n",
       "\n",
       "   Ordered by: internal time\n",
       "\n",
       "   ncalls  tottime  percall  cumtime  percall filename:lineno(function)\n",
       "       16    0.007    0.000    0.015    0.001 wavelet.py:109(filtering)\n",
       "       32    0.006    0.000    0.006    0.000 {built-in method numpy.core._multiarray_umath.correlate}\n",
       "        1    0.006    0.006    0.039    0.039 wavelet.py:198(wavelet_analysis)\n",
       "       85    0.004    0.000    0.004    0.000 {method 'reduce' of 'numpy.ufunc' objects}\n",
       "  179/117    0.004    0.000    0.013    0.000 {built-in method numpy.core._multiarray_umath.implement_array_function}\n",
       "       48    0.003    0.000    0.003    0.000 utils.py:7(fast_power)\n",
       "       16    0.002    0.000    0.012    0.001 wavelet.py:167(_compute_leaders)\n",
       "       34    0.002    0.000    0.002    0.000 {built-in method numpy.arange}\n",
       "        1    0.002    0.002    0.003    0.003 structurefunction.py:46(_compute)\n",
       "        1    0.001    0.001    0.004    0.004 wavelet.py:37(_correct_leaders)\n",
       "       32    0.000    0.000    0.006    0.000 signaltools.py:1177(convolve)\n",
       "       31    0.000    0.000    0.000    0.000 shape_base.py:83(atleast_2d)\n",
       "      242    0.000    0.000    0.000    0.000 {built-in method numpy.array}\n",
       "       38    0.000    0.000    0.001    0.000 fromnumeric.py:73(_wrapreduction)\n",
       "       16    0.000    0.000    0.003    0.000 wavelet.py:145(_find_sans_voisin)\n",
       "       32    0.000    0.000    0.006    0.000 numeric.py:720(convolve)\n",
       "       38    0.000    0.000    0.001    0.000 fromnumeric.py:2092(sum)\n",
       "        1    0.000    0.000    0.039    0.039 {built-in method builtins.exec}\n",
       "       16    0.000    0.000    0.000    0.000 _methods.py:134(_mean)\n",
       "       31    0.000    0.000    0.004    0.000 shape_base.py:224(vstack)\n",
       "       38    0.000    0.000    0.001    0.000 <__array_function__ internals>:2(sum)\n",
       "        1    0.000    0.000    0.000    0.000 utils.py:43(linear_regression)\n",
       "      281    0.000    0.000    0.000    0.000 {built-in method builtins.len}\n",
       "       32    0.000    0.000    0.000    0.000 numeric.py:637(_mode_from_name)\n",
       "       32    0.000    0.000    0.000    0.000 multiresquantity.py:32(add_values)\n",
       "       31    0.000    0.000    0.003    0.000 {method 'sum' of 'numpy.ndarray' objects}\n",
       "       16    0.000    0.000    0.001    0.000 fromnumeric.py:3231(mean)\n",
       "       16    0.000    0.000    0.000    0.000 _methods.py:50(_count_reduce_items)\n",
       "        1    0.000    0.000    0.000    0.000 wavelet.py:90(_decomposition_level)\n",
       "       32    0.000    0.000    0.006    0.000 <__array_function__ internals>:2(convolve)\n",
       "      109    0.000    0.000    0.000    0.000 _asarray.py:88(asanyarray)\n",
       "      133    0.000    0.000    0.000    0.000 {built-in method builtins.isinstance}\n",
       "        1    0.000    0.000    0.039    0.039 <string>:1(<module>)\n",
       "       38    0.000    0.000    0.000    0.000 fromnumeric.py:74(<dictcomp>)\n",
       "       31    0.000    0.000    0.004    0.000 <__array_function__ internals>:2(vstack)\n",
       "       31    0.000    0.000    0.004    0.000 <__array_function__ internals>:2(concatenate)\n",
       "       20    0.000    0.000    0.000    0.000 {built-in method numpy.zeros}\n",
       "       31    0.000    0.000    0.000    0.000 <__array_function__ internals>:2(atleast_2d)\n",
       "       64    0.000    0.000    0.000    0.000 _asarray.py:16(asarray)\n",
       "       47    0.000    0.000    0.000    0.000 {built-in method builtins.hasattr}\n",
       "       31    0.000    0.000    0.003    0.000 _methods.py:36(_sum)\n",
       "        1    0.000    0.000    0.004    0.004 structurefunction.py:33(__init__)\n",
       "       32    0.000    0.000    0.000    0.000 signaltools.py:988(_np_conv_ok)\n",
       "       16    0.000    0.000    0.001    0.000 <__array_function__ internals>:2(mean)\n",
       "       31    0.000    0.000    0.000    0.000 shape_base.py:209(_arrays_for_stack_dispatcher)\n",
       "       31    0.000    0.000    0.000    0.000 shape_base.py:220(_vhstack_dispatcher)\n",
       "      103    0.000    0.000    0.000    0.000 {method 'append' of 'list' objects}\n",
       "       32    0.000    0.000    0.000    0.000 signaltools.py:62(_inputs_swap_needed)\n",
       "        1    0.000    0.000    0.000    0.000 structurefunction.py:59(_compute_zeta)\n",
       "        1    0.000    0.000    0.000    0.000 wavelet.py:13(_check_formalism)\n",
       "       38    0.000    0.000    0.000    0.000 {method 'items' of 'dict' objects}\n",
       "       32    0.000    0.000    0.000    0.000 {method 'lower' of 'str' objects}\n",
       "       38    0.000    0.000    0.000    0.000 fromnumeric.py:2087(_sum_dispatcher)\n",
       "        1    0.000    0.000    0.000    0.000 <string>:1(__new__)\n",
       "       32    0.000    0.000    0.000    0.000 numeric.py:716(_convolve_dispatcher)\n",
       "        1    0.000    0.000    0.004    0.004 wavelet.py:25(_estimate_eta_p)\n",
       "       31    0.000    0.000    0.000    0.000 multiarray.py:145(concatenate)\n",
       "        2    0.000    0.000    0.000    0.000 <string>:2(__init__)\n",
       "        2    0.000    0.000    0.000    0.000 multiresquantity.py:23(__post_init__)\n",
       "       32    0.000    0.000    0.000    0.000 {built-in method builtins.issubclass}\n",
       "       31    0.000    0.000    0.000    0.000 shape_base.py:79(_atleast_2d_dispatcher)\n",
       "        1    0.000    0.000    0.000    0.000 multiresquantity.py:42(get_nj_interv)\n",
       "       16    0.000    0.000    0.000    0.000 fromnumeric.py:3227(_mean_dispatcher)\n",
       "        2    0.000    0.000    0.000    0.000 {built-in method builtins.min}\n",
       "        1    0.000    0.000    0.000    0.000 {built-in method __new__ of type object at 0x56359469fac0}\n",
       "        1    0.000    0.000    0.000    0.000 {method 'disable' of '_lsprof.Profiler' objects}\n",
       "        1    0.000    0.000    0.000    0.000 utils.py:38(__init__)"
      ]
     },
     "metadata": {},
     "output_type": "display_data"
    }
   ],
   "source": [
    "%%prun -T \"profile.txt\"\n",
    "\n",
    "wavelet_analysis(data[0], p_exp, wt_name, j1, j2, gamint)"
   ]
  },
  {
   "cell_type": "code",
   "execution_count": 12,
   "metadata": {},
   "outputs": [
    {
     "name": "stdout",
     "output_type": "stream",
     "text": [
      "42.3 ms ± 1.27 ms per loop (mean ± std. dev. of 7 runs, 10 loops each)\n"
     ]
    }
   ],
   "source": [
    "%%timeit\n",
    "\n",
    "wavelet_analysis(data[0], p_exp, wt_name, j1, j2, gamint)"
   ]
  },
  {
   "cell_type": "code",
   "execution_count": 15,
   "metadata": {},
   "outputs": [
    {
     "name": "stdout",
     "output_type": "stream",
     "text": [
      "31.4 ms ± 1.04 ms per loop (mean ± std. dev. of 7 runs, 10 loops each)\n"
     ]
    }
   ],
   "source": [
    "%%timeit\n",
    "\n",
    "wavelet_analysis(data[0], p_exp, wt_name, j1, j2, gamint)"
   ]
  },
  {
   "cell_type": "code",
   "execution_count": 6,
   "metadata": {},
   "outputs": [],
   "source": [
    "import numpy as np"
   ]
  },
  {
   "cell_type": "code",
   "execution_count": 17,
   "metadata": {},
   "outputs": [
    {
     "name": "stdout",
     "output_type": "stream",
     "text": [
      "blas_mkl_info:\n",
      "  NOT AVAILABLE\n",
      "blis_info:\n",
      "    libraries = ['blis', 'blis']\n",
      "    library_dirs = ['/usr/local/lib']\n",
      "    define_macros = [('HAVE_CBLAS', None)]\n",
      "    include_dirs = ['/usr/local/include']\n",
      "    language = c\n",
      "    runtime_library_dirs = ['/usr/local/lib']\n",
      "blas_opt_info:\n",
      "    libraries = ['blis', 'blis']\n",
      "    library_dirs = ['/usr/local/lib']\n",
      "    define_macros = [('HAVE_CBLAS', None)]\n",
      "    include_dirs = ['/usr/local/include']\n",
      "    language = c\n",
      "    runtime_library_dirs = ['/usr/local/lib']\n",
      "lapack_mkl_info:\n",
      "  NOT AVAILABLE\n",
      "openblas_lapack_info:\n",
      "  NOT AVAILABLE\n",
      "openblas_clapack_info:\n",
      "  NOT AVAILABLE\n",
      "flame_info:\n",
      "    libraries = ['flame', 'blis', 'blis', 'flame']\n",
      "    library_dirs = ['/usr/local/lib', '/usr/local/lib']\n",
      "    define_macros = [('HAVE_CBLAS', None)]\n",
      "    include_dirs = ['/usr/local/include']\n",
      "    language = c\n",
      "    runtime_library_dirs = ['/usr/local/lib']\n",
      "lapack_opt_info:\n",
      "    libraries = ['flame', 'blis', 'blis', 'flame']\n",
      "    library_dirs = ['/usr/local/lib', '/usr/local/lib']\n",
      "    define_macros = [('HAVE_CBLAS', None)]\n",
      "    include_dirs = ['/usr/local/include']\n",
      "    language = c\n",
      "    runtime_library_dirs = ['/usr/local/lib']\n"
     ]
    }
   ],
   "source": [
    "np.show_config()"
   ]
  },
  {
   "cell_type": "code",
   "execution_count": 14,
   "metadata": {},
   "outputs": [
    {
     "name": "stdout",
     "output_type": "stream",
     "text": [
      " "
     ]
    },
    {
     "data": {
      "text/plain": [
       "         2416 function calls (2354 primitive calls) in 0.047 seconds\n",
       "\n",
       "   Ordered by: internal time\n",
       "\n",
       "   ncalls  tottime  percall  cumtime  percall filename:lineno(function)\n",
       "       32    0.010    0.000    0.010    0.000 {built-in method numpy.core._multiarray_umath.correlate}\n",
       "        1    0.007    0.007    0.047    0.047 wavelet.py:198(wavelet_analysis)\n",
       "       16    0.006    0.000    0.018    0.001 wavelet.py:109(filtering)\n",
       "       85    0.006    0.000    0.006    0.000 {method 'reduce' of 'numpy.ufunc' objects}\n",
       "  179/117    0.004    0.000    0.016    0.000 {built-in method numpy.core._multiarray_umath.implement_array_function}\n",
       "       48    0.003    0.000    0.003    0.000 utils.py:7(fast_power)\n",
       "       16    0.003    0.000    0.014    0.001 wavelet.py:167(_compute_leaders)\n",
       "        1    0.003    0.003    0.005    0.005 structurefunction.py:46(_compute)\n",
       "       34    0.002    0.000    0.002    0.000 {built-in method numpy.arange}\n",
       "        1    0.001    0.001    0.006    0.006 wavelet.py:37(_correct_leaders)\n",
       "       32    0.000    0.000    0.010    0.000 signaltools.py:1177(convolve)\n",
       "       31    0.000    0.000    0.000    0.000 shape_base.py:83(atleast_2d)\n",
       "      242    0.000    0.000    0.000    0.000 {built-in method numpy.array}\n",
       "       38    0.000    0.000    0.001    0.000 fromnumeric.py:73(_wrapreduction)\n",
       "       32    0.000    0.000    0.010    0.000 numeric.py:720(convolve)\n",
       "       16    0.000    0.000    0.003    0.000 wavelet.py:145(_find_sans_voisin)\n",
       "       16    0.000    0.000    0.001    0.000 _methods.py:134(_mean)\n",
       "       38    0.000    0.000    0.001    0.000 fromnumeric.py:2092(sum)\n",
       "        1    0.000    0.000    0.047    0.047 {built-in method builtins.exec}\n",
       "       31    0.000    0.000    0.004    0.000 shape_base.py:224(vstack)\n",
       "       16    0.000    0.000    0.001    0.000 fromnumeric.py:3231(mean)\n",
       "       31    0.000    0.000    0.004    0.000 {method 'sum' of 'numpy.ndarray' objects}\n",
       "        1    0.000    0.000    0.000    0.000 utils.py:43(linear_regression)\n",
       "      281    0.000    0.000    0.000    0.000 {built-in method builtins.len}\n",
       "       16    0.000    0.000    0.000    0.000 _methods.py:50(_count_reduce_items)\n",
       "       32    0.000    0.000    0.000    0.000 numeric.py:637(_mode_from_name)\n",
       "       38    0.000    0.000    0.002    0.000 <__array_function__ internals>:2(sum)\n",
       "       32    0.000    0.000    0.000    0.000 multiresquantity.py:32(add_values)\n",
       "      133    0.000    0.000    0.000    0.000 {built-in method builtins.isinstance}\n",
       "      109    0.000    0.000    0.000    0.000 _asarray.py:88(asanyarray)\n",
       "       32    0.000    0.000    0.010    0.000 <__array_function__ internals>:2(convolve)\n",
       "        1    0.000    0.000    0.000    0.000 wavelet.py:90(_decomposition_level)\n",
       "       31    0.000    0.000    0.004    0.000 <__array_function__ internals>:2(concatenate)\n",
       "        1    0.000    0.000    0.047    0.047 <string>:1(<module>)\n",
       "       20    0.000    0.000    0.000    0.000 {built-in method numpy.zeros}\n",
       "       31    0.000    0.000    0.004    0.000 <__array_function__ internals>:2(vstack)\n",
       "       38    0.000    0.000    0.000    0.000 fromnumeric.py:74(<dictcomp>)\n",
       "       31    0.000    0.000    0.000    0.000 <__array_function__ internals>:2(atleast_2d)\n",
       "       47    0.000    0.000    0.000    0.000 {built-in method builtins.hasattr}\n",
       "       16    0.000    0.000    0.001    0.000 <__array_function__ internals>:2(mean)\n",
       "       64    0.000    0.000    0.000    0.000 _asarray.py:16(asarray)\n",
       "       31    0.000    0.000    0.004    0.000 _methods.py:36(_sum)\n",
       "       31    0.000    0.000    0.000    0.000 shape_base.py:220(_vhstack_dispatcher)\n",
       "        1    0.000    0.000    0.005    0.005 structurefunction.py:33(__init__)\n",
       "       31    0.000    0.000    0.000    0.000 shape_base.py:209(_arrays_for_stack_dispatcher)\n",
       "      103    0.000    0.000    0.000    0.000 {method 'append' of 'list' objects}\n",
       "        1    0.000    0.000    0.000    0.000 structurefunction.py:59(_compute_zeta)\n",
       "       32    0.000    0.000    0.000    0.000 signaltools.py:988(_np_conv_ok)\n",
       "       32    0.000    0.000    0.000    0.000 signaltools.py:62(_inputs_swap_needed)\n",
       "       38    0.000    0.000    0.000    0.000 {method 'items' of 'dict' objects}\n",
       "       38    0.000    0.000    0.000    0.000 fromnumeric.py:2087(_sum_dispatcher)\n",
       "       32    0.000    0.000    0.000    0.000 {method 'lower' of 'str' objects}\n",
       "        1    0.000    0.000    0.000    0.000 multiresquantity.py:42(get_nj_interv)\n",
       "        1    0.000    0.000    0.000    0.000 wavelet.py:13(_check_formalism)\n",
       "       32    0.000    0.000    0.000    0.000 numeric.py:716(_convolve_dispatcher)\n",
       "        1    0.000    0.000    0.000    0.000 <string>:1(__new__)\n",
       "       31    0.000    0.000    0.000    0.000 multiarray.py:145(concatenate)\n",
       "        1    0.000    0.000    0.005    0.005 wavelet.py:25(_estimate_eta_p)\n",
       "       32    0.000    0.000    0.000    0.000 {built-in method builtins.issubclass}\n",
       "        2    0.000    0.000    0.000    0.000 <string>:2(__init__)\n",
       "        2    0.000    0.000    0.000    0.000 multiresquantity.py:23(__post_init__)\n",
       "       31    0.000    0.000    0.000    0.000 shape_base.py:79(_atleast_2d_dispatcher)\n",
       "       16    0.000    0.000    0.000    0.000 fromnumeric.py:3227(_mean_dispatcher)\n",
       "        2    0.000    0.000    0.000    0.000 {built-in method builtins.min}\n",
       "        1    0.000    0.000    0.000    0.000 {built-in method __new__ of type object at 0x55fb94520ac0}\n",
       "        1    0.000    0.000    0.000    0.000 {method 'disable' of '_lsprof.Profiler' objects}\n",
       "        1    0.000    0.000    0.000    0.000 utils.py:38(__init__)"
      ]
     },
     "metadata": {},
     "output_type": "display_data"
    }
   ],
   "source": [
    "%%prun\n",
    "wavelet_analysis(data[0], p_exp, wt_name, j1, j2, gamint)"
   ]
  },
  {
   "cell_type": "markdown",
   "metadata": {},
   "source": [
    "## Full multifractal"
   ]
  },
  {
   "cell_type": "code",
   "execution_count": 16,
   "metadata": {},
   "outputs": [],
   "source": [
    "from pymultifracs.mf_analysis import mf_analysis_full"
   ]
  },
  {
   "cell_type": "code",
   "execution_count": 17,
   "metadata": {},
   "outputs": [],
   "source": [
    "import numpy as np"
   ]
  },
  {
   "cell_type": "code",
   "execution_count": 18,
   "metadata": {},
   "outputs": [],
   "source": [
    "# l = np.logspace(np.log10(0.01), np.log10(5), 10)\n",
    "# q = np.array([*-l, *l, 0, 1, 2, -1, -2])\n",
    "# q.sort()\n",
    "q = np.array([-2, -1, 0, 1, 2])\n",
    "n_cumul = 2"
   ]
  },
  {
   "cell_type": "code",
   "execution_count": 17,
   "metadata": {},
   "outputs": [
    {
     "name": "stdout",
     "output_type": "stream",
     "text": [
      "1.8 s ± 17.3 ms per loop (mean ± std. dev. of 7 runs, 1 loop each)\n"
     ]
    }
   ],
   "source": [
    "%%timeit\n",
    "\n",
    "mf_analysis_full(data[0], j1, j2, gamint=1.0, wt_name=wt_name, p_exp=p_exp, q=q, n_cumul=n_cumul)"
   ]
  },
  {
   "cell_type": "code",
   "execution_count": 22,
   "metadata": {},
   "outputs": [
    {
     "name": "stdout",
     "output_type": "stream",
     "text": [
      "1.83 s ± 51.2 ms per loop (mean ± std. dev. of 7 runs, 1 loop each)\n"
     ]
    }
   ],
   "source": [
    "%%timeit\n",
    "\n",
    "mf_analysis_full(data[0], j1, j2, gamint=1.0, wt_name=wt_name, p_exp=p_exp, q=q, n_cumul=n_cumul)"
   ]
  },
  {
   "cell_type": "code",
   "execution_count": 19,
   "metadata": {},
   "outputs": [
    {
     "name": "stdout",
     "output_type": "stream",
     "text": [
      "275 ms ± 13.8 ms per loop (mean ± std. dev. of 7 runs, 1 loop each)\n"
     ]
    }
   ],
   "source": [
    "%%timeit\n",
    "\n",
    "mf_analysis_full(data[0], j1, j2, gamint=1.0, wt_name=wt_name, p_exp=p_exp, q=q, n_cumul=n_cumul)"
   ]
  },
  {
   "cell_type": "markdown",
   "metadata": {},
   "source": [
    "## Multifractal"
   ]
  },
  {
   "cell_type": "code",
   "execution_count": 34,
   "metadata": {},
   "outputs": [],
   "source": [
    "import pymultifracs.mfspectrum as mfs"
   ]
  },
  {
   "cell_type": "code",
   "execution_count": 35,
   "metadata": {},
   "outputs": [
    {
     "data": {
      "text/plain": [
       "<module 'pymultifracs.mfspectrum' from '/home/merlin/Multifracs/pymultifracs/pymultifracs/mfspectrum.py'>"
      ]
     },
     "execution_count": 35,
     "metadata": {},
     "output_type": "execute_result"
    }
   ],
   "source": [
    "reload(mfs)"
   ]
  },
  {
   "cell_type": "code",
   "execution_count": 36,
   "metadata": {},
   "outputs": [],
   "source": [
    "import pymultifracs.mf_analysis"
   ]
  },
  {
   "cell_type": "code",
   "execution_count": 37,
   "metadata": {},
   "outputs": [
    {
     "data": {
      "text/plain": [
       "<module 'pymultifracs.mf_analysis' from '/home/merlin/Multifracs/pymultifracs/pymultifracs/mf_analysis.py'>"
      ]
     },
     "execution_count": 37,
     "metadata": {},
     "output_type": "execute_result"
    }
   ],
   "source": [
    "reload(pymultifracs.mf_analysis)"
   ]
  },
  {
   "cell_type": "code",
   "execution_count": 39,
   "metadata": {},
   "outputs": [],
   "source": [
    "from pymultifracs.mf_analysis import minimal_mf_analysis"
   ]
  },
  {
   "cell_type": "code",
   "execution_count": 38,
   "metadata": {},
   "outputs": [],
   "source": [
    "from pymultifracs.mf_analysis import mf_analysis"
   ]
  },
  {
   "cell_type": "code",
   "execution_count": 22,
   "metadata": {},
   "outputs": [],
   "source": [
    "wt_transform = wavelet_analysis(data[0], p_exp, wt_name, j1, j2, gamint=1.0)"
   ]
  },
  {
   "cell_type": "code",
   "execution_count": 23,
   "metadata": {},
   "outputs": [
    {
     "name": "stdout",
     "output_type": "stream",
     "text": [
      "1.82 s ± 73.6 ms per loop (mean ± std. dev. of 7 runs, 1 loop each)\n"
     ]
    }
   ],
   "source": [
    "%%timeit\n",
    "\n",
    "mf_analysis(wt_transform.wt_coefs,\n",
    "            wt_transform.wt_leaders,\n",
    "            wt_transform.j2_eff,\n",
    "            p_exp=p_exp, j1=j1, weighted=True, n_cumul=n_cumul, q=q)"
   ]
  },
  {
   "cell_type": "code",
   "execution_count": 29,
   "metadata": {},
   "outputs": [
    {
     "name": "stdout",
     "output_type": "stream",
     "text": [
      "1.95 s ± 94.6 ms per loop (mean ± std. dev. of 7 runs, 1 loop each)\n"
     ]
    }
   ],
   "source": [
    "%%timeit\n",
    "\n",
    "mf_analysis(wt_transform.wt_coefs,\n",
    "            wt_transform.wt_leaders,\n",
    "            wt_transform.j2_eff,\n",
    "            p_exp=p_exp, j1=j1, weighted=True, n_cumul=n_cumul, q=q)"
   ]
  },
  {
   "cell_type": "code",
   "execution_count": 20,
   "metadata": {},
   "outputs": [
    {
     "name": "stdout",
     "output_type": "stream",
     "text": [
      "1.93 s ± 68.5 ms per loop (mean ± std. dev. of 7 runs, 1 loop each)\n"
     ]
    }
   ],
   "source": [
    "%%timeit\n",
    "\n",
    "mf_analysis(wt_transform.wt_coefs,\n",
    "            wt_transform.wt_leaders,\n",
    "            wt_transform.j2_eff,\n",
    "            p_exp=p_exp, j1=j1, weighted=True, n_cumul=n_cumul, q=q)"
   ]
  },
  {
   "cell_type": "code",
   "execution_count": 85,
   "metadata": {},
   "outputs": [
    {
     "name": "stdout",
     "output_type": "stream",
     "text": [
      "1.87 s ± 68.5 ms per loop (mean ± std. dev. of 7 runs, 1 loop each)\n"
     ]
    }
   ],
   "source": [
    "%%timeit\n",
    "\n",
    "mf_analysis(wt_transform.wt_coefs,\n",
    "            wt_transform.wt_leaders,\n",
    "            wt_transform.j2_eff,\n",
    "            p_exp=p_exp, j1=j1, weighted=True, n_cumul=n_cumul, q=q)"
   ]
  },
  {
   "cell_type": "code",
   "execution_count": 28,
   "metadata": {},
   "outputs": [
    {
     "name": "stdout",
     "output_type": "stream",
     "text": [
      "1.67 s ± 26.6 ms per loop (mean ± std. dev. of 7 runs, 1 loop each)\n"
     ]
    }
   ],
   "source": [
    "%%timeit\n",
    "\n",
    "mf_analysis(wt_transform.wt_coefs,\n",
    "            wt_transform.wt_leaders,\n",
    "            wt_transform.j2_eff,\n",
    "            p_exp=p_exp, j1=j1, weighted=True, n_cumul=n_cumul, q=q)"
   ]
  },
  {
   "cell_type": "code",
   "execution_count": 40,
   "metadata": {},
   "outputs": [
    {
     "name": "stdout",
     "output_type": "stream",
     "text": [
      "207 ms ± 10.4 ms per loop (mean ± std. dev. of 7 runs, 1 loop each)\n"
     ]
    }
   ],
   "source": [
    "%%timeit\n",
    "\n",
    "mf_analysis(wt_transform.wt_coefs,\n",
    "            wt_transform.wt_leaders,\n",
    "            wt_transform.j2_eff,\n",
    "            p_exp=p_exp, j1=j1, weighted=True, n_cumul=n_cumul, q=q)"
   ]
  },
  {
   "cell_type": "code",
   "execution_count": 41,
   "metadata": {},
   "outputs": [
    {
     "name": "stdout",
     "output_type": "stream",
     "text": [
      "29.9 ms ± 1.32 ms per loop (mean ± std. dev. of 7 runs, 10 loops each)\n"
     ]
    }
   ],
   "source": [
    "%%timeit\n",
    "\n",
    "minimal_mf_analysis(wt_transform.wt_coefs,\n",
    "                    wt_transform.wt_leaders,\n",
    "                    wt_transform.j2_eff,\n",
    "                    p_exp=p_exp, j1=j1, weighted=True, n_cumul=n_cumul, q=q)"
   ]
  },
  {
   "cell_type": "code",
   "execution_count": 32,
   "metadata": {},
   "outputs": [
    {
     "name": "stdout",
     "output_type": "stream",
     "text": [
      " \n",
      "*** Profile printout saved to text file '\"profile_mf.txt\"'. \n"
     ]
    },
    {
     "data": {
      "text/plain": [
       "         8121 function calls (8075 primitive calls) in 0.247 seconds\n",
       "\n",
       "   Ordered by: internal time\n",
       "\n",
       "   ncalls  tottime  percall  cumtime  percall filename:lineno(function)\n",
       "        2    0.123    0.061    0.177    0.088 mfspectrum.py:44(_compute)\n",
       "      320    0.057    0.000    0.057    0.000 utils.py:7(fast_power)\n",
       "      568    0.017    0.000    0.017    0.000 {method 'reduce' of 'numpy.ufunc' objects}\n",
       "        2    0.016    0.008    0.018    0.009 cumulants.py:54(_compute)\n",
       "        2    0.012    0.006    0.046    0.023 structurefunction.py:46(_compute)\n",
       "  532/490    0.012    0.000    0.019    0.000 {built-in method numpy.core._multiarray_umath.implement_array_function}\n",
       "        2    0.003    0.002    0.005    0.003 estimation.py:44(estimate_hmin)\n",
       "       34    0.001    0.000    0.003    0.000 utils.py:43(linear_regression)\n",
       "      224    0.001    0.000    0.005    0.000 _methods.py:134(_mean)\n",
       "      224    0.000    0.000    0.006    0.000 fromnumeric.py:3231(mean)\n",
       "      224    0.000    0.000    0.000    0.000 _methods.py:50(_count_reduce_items)\n",
       "      480    0.000    0.000    0.000    0.000 {built-in method numpy.array}\n",
       "      216    0.000    0.000    0.001    0.000 fromnumeric.py:73(_wrapreduction)\n",
       "       32    0.000    0.000    0.028    0.001 mfspectrum.py:65(<listcomp>)\n",
       "      212    0.000    0.000    0.001    0.000 fromnumeric.py:2092(sum)\n",
       "       32    0.000    0.000    0.012    0.000 shape_base.py:357(stack)\n",
       "      104    0.000    0.000    0.013    0.000 {method 'sum' of 'numpy.ndarray' objects}\n",
       "      224    0.000    0.000    0.006    0.000 <__array_function__ internals>:2(mean)\n",
       "      816    0.000    0.000    0.000    0.000 {built-in method builtins.isinstance}\n",
       "       42    0.000    0.000    0.000    0.000 {built-in method numpy.arange}\n",
       "      212    0.000    0.000    0.001    0.000 <__array_function__ internals>:2(sum)\n",
       "      414    0.000    0.000    0.000    0.000 _asarray.py:88(asanyarray)\n",
       "        8    0.000    0.000    0.001    0.000 validation.py:398(check_array)\n",
       "       66    0.000    0.000    0.000    0.000 {built-in method numpy.zeros}\n",
       "      338    0.000    0.000    0.000    0.000 {built-in method builtins.hasattr}\n",
       "        2    0.000    0.000    0.000    0.000 basic.py:1047(lstsq)\n",
       "      216    0.000    0.000    0.000    0.000 fromnumeric.py:74(<dictcomp>)\n",
       "        8    0.000    0.000    0.000    0.000 validation.py:77(_assert_all_finite)\n",
       "        1    0.000    0.000    0.247    0.247 {built-in method builtins.exec}\n",
       "      104    0.000    0.000    0.012    0.000 _methods.py:36(_sum)\n",
       "      476    0.000    0.000    0.000    0.000 {built-in method builtins.issubclass}\n",
       "     12/8    0.000    0.000    0.001    0.000 validation.py:60(inner_f)\n",
       "        4    0.000    0.000    0.000    0.000 function_base.py:293(average)\n",
       "        2    0.000    0.000    0.000    0.000 cumulants.py:78(_compute_log_cumulants)\n",
       "       32    0.000    0.000    0.000    0.000 shape_base.py:432(<listcomp>)\n",
       "       32    0.000    0.000    0.000    0.000 shape_base.py:424(<setcomp>)\n",
       "       32    0.000    0.000    0.000    0.000 shape_base.py:420(<listcomp>)\n",
       "        4    0.000    0.000    0.000    0.000 arraysetops.py:298(_unique1d)\n",
       "       32    0.000    0.000    0.012    0.000 <__array_function__ internals>:2(stack)\n",
       "       32    0.000    0.000    0.011    0.000 <__array_function__ internals>:2(concatenate)\n",
       "        2    0.000    0.000    0.001    0.000 structurefunction.py:59(_compute_zeta)\n",
       "       14    0.000    0.000    0.000    0.000 validation.py:181(_num_samples)\n",
       "        1    0.000    0.000    0.247    0.247 mf_analysis.py:13(mf_analysis)\n",
       "      224    0.000    0.000    0.000    0.000 fromnumeric.py:3227(_mean_dispatcher)\n",
       "        2    0.000    0.000    0.002    0.001 _base.py:481(fit)\n",
       "      216    0.000    0.000    0.000    0.000 {built-in method builtins.len}\n",
       "        2    0.000    0.000    0.000    0.000 _base.py:102(_preprocess_data)\n",
       "      212    0.000    0.000    0.000    0.000 fromnumeric.py:2087(_sum_dispatcher)\n",
       "        2    0.000    0.000    0.047    0.023 structurefunction.py:33(__init__)\n",
       "        2    0.000    0.000    0.000    0.000 dia.py:78(__init__)\n",
       "        2    0.000    0.000    0.000    0.000 stride_tricks.py:116(_broadcast_to)\n",
       "       32    0.000    0.000    0.000    0.000 shape_base.py:348(_stack_dispatcher)\n",
       "        2    0.000    0.000    0.018    0.009 cumulants.py:38(__init__)\n",
       "      216    0.000    0.000    0.000    0.000 {method 'items' of 'dict' objects}\n",
       "        4    0.000    0.000    0.000    0.000 multiresquantity.py:42(get_nj_interv)\n",
       "       32    0.000    0.000    0.000    0.000 {built-in method numpy.core._multiarray_umath.normalize_axis_index}\n",
       "       32    0.000    0.000    0.000    0.000 shape_base.py:209(_arrays_for_stack_dispatcher)\n",
       "        2    0.000    0.000    0.177    0.088 mfspectrum.py:29(__init__)\n",
       "        2    0.000    0.000    0.000    0.000 lapack.py:784(_compute_lwork)\n",
       "        8    0.000    0.000    0.000    0.000 warnings.py:181(_add_filter)\n",
       "        4    0.000    0.000    0.000    0.000 _util.py:200(_asarray_validated)\n",
       "        4    0.000    0.000    0.000    0.000 dia.py:229(_mul_vector)\n",
       "        8    0.000    0.000    0.000    0.000 warnings.py:458(__enter__)\n",
       "        2    0.000    0.000    0.000    0.000 _base.py:184(_rescale_data)\n",
       "       20    0.000    0.000    0.000    0.000 {method 'max' of 'numpy.ndarray' objects}\n",
       "        4    0.000    0.000    0.000    0.000 function_base.py:435(asarray_chkfinite)\n",
       "       22    0.000    0.000    0.000    0.000 {built-in method _abc._abc_instancecheck}\n",
       "        6    0.000    0.000    0.000    0.000 extmath.py:679(_safe_accumulator_op)\n",
       "        1    0.000    0.000    0.247    0.247 <string>:1(<module>)\n",
       "        8    0.000    0.000    0.000    0.000 numerictypes.py:365(issubdtype)\n",
       "        4    0.000    0.000    0.000    0.000 {built-in method scipy.sparse._sparsetools.dia_matvec}\n",
       "       84    0.000    0.000    0.000    0.000 {method 'append' of 'list' objects}\n",
       "        2    0.000    0.000    0.000    0.000 sputils.py:121(get_index_dtype)\n",
       "       16    0.000    0.000    0.000    0.000 numerictypes.py:293(issubclass_)\n",
       "        2    0.000    0.000    0.000    0.000 validation.py:689(check_X_y)\n",
       "        4    0.000    0.000    0.000    0.000 base.py:457(__mul__)\n",
       "        4    0.000    0.000    0.000    0.000 getlimits.py:497(__init__)\n",
       "        6    0.000    0.000    0.000    0.000 {method 'reshape' of 'numpy.ndarray' objects}\n",
       "       12    0.000    0.000    0.000    0.000 validation.py:72(<dictcomp>)\n",
       "        4    0.000    0.000    0.000    0.000 extmath.py:118(safe_sparse_dot)\n",
       "        6    0.000    0.000    0.000    0.000 {built-in method numpy.empty}\n",
       "       14    0.000    0.000    0.000    0.000 {built-in method _abc._abc_subclasscheck}\n",
       "        8    0.000    0.000    0.000    0.000 warnings.py:165(simplefilter)\n",
       "        2    0.000    0.000    0.000    0.000 cumulants.py:180(get_nj_interv)\n",
       "        4    0.000    0.000    0.000    0.000 numeric.py:1786(isscalar)\n",
       "        4    0.000    0.000    0.000    0.000 arraysetops.py:151(unique)\n",
       "        2    0.000    0.000    0.000    0.000 mfspectrum.py:115(get_nj_interv)\n",
       "        8    0.000    0.000    0.000    0.000 warnings.py:437(__init__)\n",
       "        8    0.000    0.000    0.000    0.000 warnings.py:477(__exit__)\n",
       "        2    0.000    0.000    0.000    0.000 _base.py:240(_set_intercept)\n",
       "        2    0.000    0.000    0.000    0.000 base.py:383(_validate_data)\n",
       "        2    0.000    0.000    0.000    0.000 validation.py:1255(_check_sample_weight)\n",
       "        8    0.000    0.000    0.000    0.000 <frozen importlib._bootstrap>:389(parent)\n",
       "        2    0.000    0.000    0.000    0.000 sputils.py:267(check_shape)\n",
       "        8    0.000    0.000    0.000    0.000 {method 'remove' of 'list' objects}\n",
       "       20    0.000    0.000    0.000    0.000 _asarray.py:16(asarray)\n",
       "       26    0.000    0.000    0.000    0.000 base.py:1192(isspmatrix)\n",
       "       20    0.000    0.000    0.000    0.000 _methods.py:28(_amax)\n",
       "       22    0.000    0.000    0.000    0.000 abc.py:96(__instancecheck__)\n",
       "        2    0.000    0.000    0.000    0.000 shape_base.py:83(atleast_2d)\n",
       "        4    0.000    0.000    0.000    0.000 lapack.py:817(_check_work_float)\n",
       "       32    0.000    0.000    0.000    0.000 multiarray.py:145(concatenate)\n",
       "        4    0.000    0.000    0.000    0.000 {method 'flatten' of 'numpy.ndarray' objects}\n",
       "       12    0.000    0.000    0.000    0.000 {method 'update' of 'dict' objects}\n",
       "        2    0.000    0.000    0.000    0.000 blas.py:372(getter)\n",
       "        8    0.000    0.000    0.000    0.000 validation.py:391(_ensure_no_complex_data)\n",
       "       12    0.000    0.000    0.000    0.000 {built-in method builtins.getattr}\n",
       "        4    0.000    0.000    0.000    0.000 sputils.py:183(isscalarlike)\n",
       "        4    0.000    0.000    0.000    0.000 {method 'sort' of 'numpy.ndarray' objects}\n",
       "        2    0.000    0.000    0.000    0.000 validation.py:242(check_consistent_length)\n",
       "       12    0.000    0.000    0.000    0.000 {method 'ravel' of 'numpy.ndarray' objects}\n",
       "        4    0.000    0.000    0.000    0.000 base.py:560(__matmul__)\n",
       "        4    0.000    0.000    0.000    0.000 <__array_function__ internals>:2(average)\n",
       "        2    0.000    0.000    0.000    0.000 numeric.py:159(ones)\n",
       "        8    0.000    0.000    0.000    0.000 _config.py:14(get_config)\n",
       "        2    0.000    0.000    0.000    0.000 base.py:70(__init__)\n",
       "       24    0.000    0.000    0.000    0.000 utils.py:38(__init__)\n",
       "        4    0.000    0.000    0.000    0.000 fromnumeric.py:2236(any)\n",
       "        4    0.000    0.000    0.000    0.000 <__array_function__ internals>:2(unique)\n",
       "       10    0.000    0.000    0.000    0.000 {method 'get' of 'dict' objects}\n",
       "       14    0.000    0.000    0.000    0.000 abc.py:100(__subclasscheck__)\n",
       "        6    0.000    0.000    0.000    0.000 sputils.py:280(<genexpr>)\n",
       "        2    0.000    0.000    0.000    0.000 {method 'any' of 'numpy.generic' objects}\n",
       "        6    0.000    0.000    0.000    0.000 lapack.py:814(<genexpr>)\n",
       "       12    0.000    0.000    0.000    0.000 inspect.py:2845(parameters)\n",
       "        2    0.000    0.000    0.000    0.000 _base.py:473(__init__)\n",
       "        2    0.000    0.000    0.000    0.000 shape_base.py:25(atleast_1d)\n",
       "        2    0.000    0.000    0.000    0.000 fromnumeric.py:1693(ravel)\n",
       "        8    0.000    0.000    0.000    0.000 {method 'rpartition' of 'str' objects}\n",
       "        4    0.000    0.000    0.000    0.000 <__array_function__ internals>:2(result_type)\n",
       "        2    0.000    0.000    0.000    0.000 {method 'swapaxes' of 'numpy.ndarray' objects}\n",
       "        2    0.000    0.000    0.000    0.000 getlimits.py:365(__new__)\n",
       "        2    0.000    0.000    0.000    0.000 data.py:22(__init__)\n",
       "        8    0.000    0.000    0.000    0.000 {method 'insert' of 'list' objects}\n",
       "       24    0.000    0.000    0.000    0.000 {built-in method _warnings._filters_mutated}\n",
       "        2    0.000    0.000    0.000    0.000 <__array_function__ internals>:2(broadcast_to)\n",
       "        2    0.000    0.000    0.000    0.000 <__array_function__ internals>:2(atleast_2d)\n",
       "        2    0.000    0.000    0.000    0.000 stride_tricks.py:143(broadcast_to)\n",
       "        4    0.000    0.000    0.000    0.000 {method 'all' of 'numpy.ndarray' objects}\n",
       "        4    0.000    0.000    0.000    0.000 <__array_function__ internals>:2(any)\n",
       "        5    0.000    0.000    0.000    0.000 {built-in method __new__ of type object at 0x563b12bffac0}\n",
       "        8    0.000    0.000    0.000    0.000 {method 'copy' of 'dict' objects}\n",
       "        2    0.000    0.000    0.000    0.000 getlimits.py:508(min)\n",
       "        2    0.000    0.000    0.000    0.000 <__array_function__ internals>:2(may_share_memory)\n",
       "        2    0.000    0.000    0.000    0.000 {built-in method builtins.any}\n",
       "        4    0.000    0.000    0.000    0.000 core.py:6293(isMaskedArray)\n",
       "        2    0.000    0.000    0.000    0.000 <__array_function__ internals>:2(copyto)\n",
       "        2    0.000    0.000    0.000    0.000 <__array_function__ internals>:2(atleast_1d)\n",
       "        2    0.000    0.000    0.000    0.000 <__array_function__ internals>:2(ndim)\n",
       "       12    0.000    0.000    0.000    0.000 base.py:84(get_shape)\n",
       "        2    0.000    0.000    0.000    0.000 sputils.py:188(isintlike)\n",
       "        2    0.000    0.000    0.000    0.000 validation.py:253(<listcomp>)\n",
       "        4    0.000    0.000    0.000    0.000 sputils.py:56(upcast_char)\n",
       "        2    0.000    0.000    0.000    0.000 <__array_function__ internals>:2(ravel)\n",
       "        2    0.000    0.000    0.000    0.000 function_base.py:257(iterable)\n",
       "        4    0.000    0.000    0.000    0.000 arraysetops.py:138(_unpack_tuple)\n",
       "        2    0.000    0.000    0.000    0.000 <__array_function__ internals>:2(dot)\n",
       "        2    0.000    0.000    0.000    0.000 sputils.py:210(isshape)\n",
       "        4    0.000    0.000    0.000    0.000 _methods.py:47(_all)\n",
       "        2    0.000    0.000    0.000    0.000 {built-in method builtins.max}\n",
       "        2    0.000    0.000    0.000    0.000 getlimits.py:521(max)\n",
       "        2    0.000    0.000    0.000    0.000 base.py:354(_check_n_features)\n",
       "        4    0.000    0.000    0.000    0.000 sputils.py:240(isdense)\n",
       "        2    0.000    0.000    0.000    0.000 <string>:1(__new__)\n",
       "        2    0.000    0.000    0.000    0.000 _methods.py:44(_any)\n",
       "        6    0.000    0.000    0.000    0.000 stride_tricks.py:121(<genexpr>)\n",
       "        2    0.000    0.000    0.000    0.000 stride_tricks.py:26(_maybe_view_as_subclass)\n",
       "        4    0.000    0.000    0.000    0.000 data.py:25(_get_dtype)\n",
       "        4    0.000    0.000    0.000    0.000 arraysetops.py:146(_unique_dispatcher)\n",
       "        2    0.000    0.000    0.000    0.000 dia.py:397(isspmatrix_dia)\n",
       "        4    0.000    0.000    0.000    0.000 fromnumeric.py:2232(_any_dispatcher)\n",
       "        4    0.000    0.000    0.000    0.000 misc.py:184(_datacopied)\n",
       "        2    0.000    0.000    0.000    0.000 fromnumeric.py:3037(ndim)\n",
       "        4    0.000    0.000    0.000    0.000 {built-in method _operator.index}\n",
       "        4    0.000    0.000    0.000    0.000 function_base.py:289(_average_dispatcher)\n",
       "        4    0.000    0.000    0.000    0.000 multiarray.py:635(result_type)\n",
       "        2    0.000    0.000    0.000    0.000 fromnumeric.py:3033(_ndim_dispatcher)\n",
       "        2    0.000    0.000    0.000    0.000 multiarray.py:1043(copyto)\n",
       "        2    0.000    0.000    0.000    0.000 multiarray.py:707(dot)\n",
       "        2    0.000    0.000    0.000    0.000 stride_tricks.py:139(_broadcast_to_dispatcher)\n",
       "        2    0.000    0.000    0.000    0.000 multiarray.py:1309(may_share_memory)\n",
       "        2    0.000    0.000    0.000    0.000 shape_base.py:21(_atleast_1d_dispatcher)\n",
       "        2    0.000    0.000    0.000    0.000 fromnumeric.py:1689(_ravel_dispatcher)\n",
       "        1    0.000    0.000    0.000    0.000 {method 'disable' of '_lsprof.Profiler' objects}\n",
       "        2    0.000    0.000    0.000    0.000 {built-in method builtins.iter}\n",
       "        2    0.000    0.000    0.000    0.000 shape_base.py:79(_atleast_2d_dispatcher)"
      ]
     },
     "metadata": {},
     "output_type": "display_data"
    }
   ],
   "source": [
    "%%prun -T \"profile_mf.txt\"\n",
    "\n",
    "mf_analysis(wt_transform.wt_coefs,\n",
    "            wt_transform.wt_leaders,\n",
    "            wt_transform.j2_eff,\n",
    "            p_exp=p_exp, j1=j1, weighted=True, n_cumul=n_cumul, q=q)"
   ]
  },
  {
   "cell_type": "code",
   "execution_count": 42,
   "metadata": {},
   "outputs": [
    {
     "name": "stdout",
     "output_type": "stream",
     "text": [
      " \n",
      "*** Profile printout saved to text file '\"profile_mf.txt\"'. \n"
     ]
    },
    {
     "data": {
      "text/plain": [
       "         2171 function calls in 0.033 seconds\n",
       "\n",
       "   Ordered by: internal time\n",
       "\n",
       "   ncalls  tottime  percall  cumtime  percall filename:lineno(function)\n",
       "       80    0.015    0.000    0.015    0.000 utils.py:7(fast_power)\n",
       "        1    0.007    0.007    0.008    0.008 cumulants.py:54(_compute)\n",
       "        1    0.006    0.006    0.024    0.024 structurefunction.py:46(_compute)\n",
       "      154    0.002    0.000    0.002    0.000 {method 'reduce' of 'numpy.ufunc' objects}\n",
       "      112    0.000    0.000    0.003    0.000 _methods.py:134(_mean)\n",
       "        7    0.000    0.000    0.001    0.000 utils.py:43(linear_regression)\n",
       "      112    0.000    0.000    0.003    0.000 fromnumeric.py:3231(mean)\n",
       "      112    0.000    0.000    0.000    0.000 _methods.py:50(_count_reduce_items)\n",
       "        1    0.000    0.000    0.033    0.033 {built-in method builtins.exec}\n",
       "      154    0.000    0.000    0.003    0.000 {built-in method numpy.core._multiarray_umath.implement_array_function}\n",
       "      121    0.000    0.000    0.000    0.000 {built-in method numpy.array}\n",
       "      112    0.000    0.000    0.003    0.000 <__array_function__ internals>:2(mean)\n",
       "       19    0.000    0.000    0.000    0.000 {built-in method numpy.arange}\n",
       "       42    0.000    0.000    0.000    0.000 fromnumeric.py:73(_wrapreduction)\n",
       "      282    0.000    0.000    0.000    0.000 {built-in method builtins.isinstance}\n",
       "       42    0.000    0.000    0.000    0.000 fromnumeric.py:2092(sum)\n",
       "       26    0.000    0.000    0.000    0.000 {built-in method numpy.zeros}\n",
       "      112    0.000    0.000    0.000    0.000 _asarray.py:88(asanyarray)\n",
       "        1    0.000    0.000    0.024    0.024 structurefunction.py:33(__init__)\n",
       "        1    0.000    0.000    0.000    0.000 cumulants.py:78(_compute_log_cumulants)\n",
       "      112    0.000    0.000    0.000    0.000 {built-in method builtins.hasattr}\n",
       "      224    0.000    0.000    0.000    0.000 {built-in method builtins.issubclass}\n",
       "       42    0.000    0.000    0.000    0.000 <__array_function__ internals>:2(sum)\n",
       "        1    0.000    0.000    0.032    0.032 mf_analysis.py:65(minimal_mf_analysis)\n",
       "        1    0.000    0.000    0.000    0.000 structurefunction.py:59(_compute_zeta)\n",
       "      112    0.000    0.000    0.000    0.000 fromnumeric.py:3227(_mean_dispatcher)\n",
       "       42    0.000    0.000    0.000    0.000 fromnumeric.py:74(<dictcomp>)\n",
       "        1    0.000    0.000    0.008    0.008 cumulants.py:38(__init__)\n",
       "        1    0.000    0.000    0.032    0.032 <string>:1(<module>)\n",
       "        1    0.000    0.000    0.000    0.000 multiresquantity.py:42(get_nj_interv)\n",
       "       42    0.000    0.000    0.000    0.000 fromnumeric.py:2087(_sum_dispatcher)\n",
       "       29    0.000    0.000    0.000    0.000 {built-in method builtins.len}\n",
       "        1    0.000    0.000    0.000    0.000 cumulants.py:180(get_nj_interv)\n",
       "       42    0.000    0.000    0.000    0.000 {method 'items' of 'dict' objects}\n",
       "        2    0.000    0.000    0.000    0.000 <string>:1(__new__)\n",
       "       20    0.000    0.000    0.000    0.000 {method 'append' of 'list' objects}\n",
       "        3    0.000    0.000    0.000    0.000 {built-in method __new__ of type object at 0x563b12bffac0}\n",
       "        2    0.000    0.000    0.000    0.000 utils.py:38(__init__)\n",
       "        1    0.000    0.000    0.000    0.000 {method 'disable' of '_lsprof.Profiler' objects}"
      ]
     },
     "metadata": {},
     "output_type": "display_data"
    }
   ],
   "source": [
    "%%prun -T \"profile_mf.txt\"\n",
    "\n",
    "minimal_mf_analysis(wt_transform.wt_coefs,\n",
    "                    wt_transform.wt_leaders,\n",
    "                    wt_transform.j2_eff,\n",
    "                    p_exp=p_exp, j1=j1, weighted=True, n_cumul=n_cumul, q=q)"
   ]
  },
  {
   "cell_type": "markdown",
   "metadata": {},
   "source": [
    "## Timing wavelet analysis"
   ]
  },
  {
   "cell_type": "code",
   "execution_count": 24,
   "metadata": {},
   "outputs": [],
   "source": [
    "wt_transform = wavelet_analysis(data[0], p_exp, wt_name, j1, j2, gamint=0.0)"
   ]
  },
  {
   "cell_type": "code",
   "execution_count": null,
   "metadata": {},
   "outputs": [],
   "source": []
  },
  {
   "cell_type": "code",
   "execution_count": 45,
   "metadata": {},
   "outputs": [
    {
     "name": "stdout",
     "output_type": "stream",
     "text": [
      "1.41 µs ± 16.8 ns per loop (mean ± std. dev. of 7 runs, 1000000 loops each)\n"
     ]
    }
   ],
   "source": [
    "%timeit np.power(2, 10)"
   ]
  },
  {
   "cell_type": "code",
   "execution_count": 46,
   "metadata": {},
   "outputs": [
    {
     "name": "stdout",
     "output_type": "stream",
     "text": [
      "5.49 ns ± 0.083 ns per loop (mean ± std. dev. of 7 runs, 100000000 loops each)\n"
     ]
    }
   ],
   "source": [
    "%timeit 2**10"
   ]
  },
  {
   "cell_type": "code",
   "execution_count": 25,
   "metadata": {},
   "outputs": [
    {
     "name": "stdout",
     "output_type": "stream",
     "text": [
      "1.48 µs ± 30.5 ns per loop (mean ± std. dev. of 7 runs, 1000000 loops each)\n"
     ]
    }
   ],
   "source": [
    "%timeit np.power(2, 10)"
   ]
  },
  {
   "cell_type": "code",
   "execution_count": 26,
   "metadata": {},
   "outputs": [
    {
     "name": "stdout",
     "output_type": "stream",
     "text": [
      "5.13 ns ± 0.0965 ns per loop (mean ± std. dev. of 7 runs, 100000000 loops each)\n"
     ]
    }
   ],
   "source": [
    "%timeit 2**10"
   ]
  },
  {
   "cell_type": "markdown",
   "metadata": {},
   "source": [
    "Timing array ops"
   ]
  },
  {
   "cell_type": "code",
   "execution_count": 7,
   "metadata": {},
   "outputs": [],
   "source": [
    "detail = np.random.randn(37200000)"
   ]
  },
  {
   "cell_type": "markdown",
   "metadata": {},
   "source": [
    "Squaring"
   ]
  },
  {
   "cell_type": "code",
   "execution_count": 69,
   "metadata": {},
   "outputs": [
    {
     "name": "stdout",
     "output_type": "stream",
     "text": [
      "6.97 ms ± 59.6 µs per loop (mean ± std. dev. of 7 runs, 100 loops each)\n"
     ]
    }
   ],
   "source": [
    "%timeit np.power(detail, 2)"
   ]
  },
  {
   "cell_type": "code",
   "execution_count": 70,
   "metadata": {},
   "outputs": [
    {
     "name": "stdout",
     "output_type": "stream",
     "text": [
      "34.3 µs ± 2.29 µs per loop (mean ± std. dev. of 7 runs, 10000 loops each)\n"
     ]
    }
   ],
   "source": [
    "%timeit detail * detail"
   ]
  },
  {
   "cell_type": "code",
   "execution_count": 128,
   "metadata": {},
   "outputs": [
    {
     "name": "stdout",
     "output_type": "stream",
     "text": [
      "30.5 µs ± 3.32 µs per loop (mean ± std. dev. of 7 runs, 10000 loops each)\n"
     ]
    }
   ],
   "source": [
    "%timeit np.square(detail)"
   ]
  },
  {
   "cell_type": "code",
   "execution_count": 55,
   "metadata": {},
   "outputs": [
    {
     "name": "stdout",
     "output_type": "stream",
     "text": [
      "711 ms ± 4.76 ms per loop (mean ± std. dev. of 7 runs, 1 loop each)\n"
     ]
    }
   ],
   "source": [
    "%timeit np.power(detail, 2)"
   ]
  },
  {
   "cell_type": "code",
   "execution_count": 56,
   "metadata": {},
   "outputs": [
    {
     "name": "stdout",
     "output_type": "stream",
     "text": [
      "63.2 ms ± 1.81 ms per loop (mean ± std. dev. of 7 runs, 10 loops each)\n"
     ]
    }
   ],
   "source": [
    "%timeit detail * detail"
   ]
  },
  {
   "cell_type": "code",
   "execution_count": 57,
   "metadata": {},
   "outputs": [
    {
     "name": "stdout",
     "output_type": "stream",
     "text": [
      "92.2 ms ± 1.18 ms per loop (mean ± std. dev. of 7 runs, 10 loops each)\n"
     ]
    }
   ],
   "source": [
    "%timeit np.square(detail)"
   ]
  },
  {
   "cell_type": "markdown",
   "metadata": {},
   "source": [
    "Rooting"
   ]
  },
  {
   "cell_type": "code",
   "execution_count": 136,
   "metadata": {},
   "outputs": [
    {
     "name": "stdout",
     "output_type": "stream",
     "text": [
      "7.54 ms ± 482 µs per loop (mean ± std. dev. of 7 runs, 100 loops each)\n"
     ]
    }
   ],
   "source": [
    "%timeit np.power(np.abs(detail), 1/2)"
   ]
  },
  {
   "cell_type": "code",
   "execution_count": 137,
   "metadata": {},
   "outputs": [
    {
     "name": "stdout",
     "output_type": "stream",
     "text": [
      "739 µs ± 31.1 µs per loop (mean ± std. dev. of 7 runs, 1000 loops each)\n"
     ]
    }
   ],
   "source": [
    "%timeit np.sqrt(np.abs(detail))"
   ]
  },
  {
   "cell_type": "code",
   "execution_count": 58,
   "metadata": {},
   "outputs": [
    {
     "name": "stdout",
     "output_type": "stream",
     "text": [
      "712 ms ± 28.9 ms per loop (mean ± std. dev. of 7 runs, 1 loop each)\n"
     ]
    }
   ],
   "source": [
    "%timeit np.power(np.abs(detail), 1/2)"
   ]
  },
  {
   "cell_type": "code",
   "execution_count": 59,
   "metadata": {},
   "outputs": [
    {
     "name": "stdout",
     "output_type": "stream",
     "text": [
      "215 ms ± 31.1 ms per loop (mean ± std. dev. of 7 runs, 1 loop each)\n"
     ]
    }
   ],
   "source": [
    "%timeit np.sqrt(np.abs(detail))"
   ]
  },
  {
   "cell_type": "markdown",
   "metadata": {},
   "source": [
    "Raising to arbitrary power"
   ]
  },
  {
   "cell_type": "code",
   "execution_count": 60,
   "metadata": {},
   "outputs": [],
   "source": [
    "q = 3"
   ]
  },
  {
   "cell_type": "code",
   "execution_count": 61,
   "metadata": {},
   "outputs": [
    {
     "name": "stdout",
     "output_type": "stream",
     "text": [
      "733 ms ± 32.8 ms per loop (mean ± std. dev. of 7 runs, 1 loop each)\n"
     ]
    }
   ],
   "source": [
    "%timeit detail ** q"
   ]
  },
  {
   "cell_type": "code",
   "execution_count": 62,
   "metadata": {},
   "outputs": [
    {
     "name": "stdout",
     "output_type": "stream",
     "text": [
      "761 ms ± 41.7 ms per loop (mean ± std. dev. of 7 runs, 1 loop each)\n"
     ]
    }
   ],
   "source": [
    "%timeit np.power(detail, q)"
   ]
  },
  {
   "cell_type": "code",
   "execution_count": 63,
   "metadata": {},
   "outputs": [
    {
     "name": "stdout",
     "output_type": "stream",
     "text": [
      "172 ms ± 4.96 ms per loop (mean ± std. dev. of 7 runs, 10 loops each)\n"
     ]
    }
   ],
   "source": [
    "%%timeit\n",
    "\n",
    "array_out = np.ones(detail.shape)\n",
    "\n",
    "for _ in range(q):\n",
    "    array_out *= detail\n",
    "\n",
    "array_out"
   ]
  },
  {
   "cell_type": "code",
   "execution_count": 64,
   "metadata": {},
   "outputs": [],
   "source": [
    "q = 10"
   ]
  },
  {
   "cell_type": "code",
   "execution_count": 65,
   "metadata": {},
   "outputs": [
    {
     "name": "stdout",
     "output_type": "stream",
     "text": [
      "842 ms ± 50.8 ms per loop (mean ± std. dev. of 7 runs, 1 loop each)\n"
     ]
    }
   ],
   "source": [
    "%timeit detail ** q"
   ]
  },
  {
   "cell_type": "code",
   "execution_count": 66,
   "metadata": {},
   "outputs": [
    {
     "name": "stdout",
     "output_type": "stream",
     "text": [
      "777 ms ± 42.1 ms per loop (mean ± std. dev. of 7 runs, 1 loop each)\n"
     ]
    }
   ],
   "source": [
    "%timeit np.power(detail, q)"
   ]
  },
  {
   "cell_type": "code",
   "execution_count": 67,
   "metadata": {},
   "outputs": [
    {
     "name": "stdout",
     "output_type": "stream",
     "text": [
      "489 ms ± 24.6 ms per loop (mean ± std. dev. of 7 runs, 1 loop each)\n"
     ]
    }
   ],
   "source": [
    "%%timeit\n",
    "\n",
    "array_out = np.ones(detail.shape)\n",
    "\n",
    "for _ in range(q):\n",
    "    array_out *= detail\n",
    "\n",
    "array_out"
   ]
  },
  {
   "cell_type": "code",
   "execution_count": 49,
   "metadata": {},
   "outputs": [
    {
     "data": {
      "text/plain": [
       "array([1.14985385e+03, 1.59984739e-08, 2.55269793e-03, ...,\n",
       "       1.02818497e+03, 1.07067481e-06, 2.78035149e+01])"
      ]
     },
     "execution_count": 49,
     "metadata": {},
     "output_type": "execute_result"
    }
   ],
   "source": [
    "detail ** q"
   ]
  },
  {
   "cell_type": "code",
   "execution_count": 50,
   "metadata": {},
   "outputs": [
    {
     "data": {
      "text/plain": [
       "array([1.14985385e+03, 1.59984739e-08, 2.55269793e-03, ...,\n",
       "       1.02818497e+03, 1.07067481e-06, 2.78035149e+01])"
      ]
     },
     "execution_count": 50,
     "metadata": {},
     "output_type": "execute_result"
    }
   ],
   "source": [
    "np.power(detail, q)"
   ]
  },
  {
   "cell_type": "code",
   "execution_count": 51,
   "metadata": {},
   "outputs": [
    {
     "data": {
      "text/plain": [
       "array([1.14985385e+03, 1.59984739e-08, 2.55269793e-03, ...,\n",
       "       1.02818497e+03, 1.07067481e-06, 2.78035149e+01])"
      ]
     },
     "execution_count": 51,
     "metadata": {},
     "output_type": "execute_result"
    }
   ],
   "source": [
    "array_out = np.ones(detail.shape)\n",
    "\n",
    "for _ in range(q):\n",
    "    array_out *= detail\n",
    "\n",
    "array_out"
   ]
  },
  {
   "cell_type": "markdown",
   "metadata": {},
   "source": [
    "Computing mean"
   ]
  },
  {
   "cell_type": "code",
   "execution_count": 88,
   "metadata": {},
   "outputs": [],
   "source": [
    "detail = np.random.randn(37200000)"
   ]
  },
  {
   "cell_type": "code",
   "execution_count": 74,
   "metadata": {},
   "outputs": [
    {
     "name": "stdout",
     "output_type": "stream",
     "text": [
      "1.66 ms ± 25.7 µs per loop (mean ± std. dev. of 7 runs, 1000 loops each)\n"
     ]
    }
   ],
   "source": [
    "%timeit detail.mean()"
   ]
  },
  {
   "cell_type": "code",
   "execution_count": 75,
   "metadata": {},
   "outputs": [
    {
     "name": "stdout",
     "output_type": "stream",
     "text": [
      "1.68 ms ± 28.3 µs per loop (mean ± std. dev. of 7 runs, 1000 loops each)\n"
     ]
    }
   ],
   "source": [
    "%timeit np.mean(detail)"
   ]
  },
  {
   "cell_type": "markdown",
   "metadata": {},
   "source": [
    "Testing smart power"
   ]
  },
  {
   "cell_type": "code",
   "execution_count": 56,
   "metadata": {},
   "outputs": [],
   "source": [
    "import pymultifracs.utils"
   ]
  },
  {
   "cell_type": "code",
   "execution_count": 57,
   "metadata": {},
   "outputs": [
    {
     "data": {
      "text/plain": [
       "<module 'pymultifracs.utils' from '/home/merlin/Multifracs/pymultifracs/pymultifracs/utils.py'>"
      ]
     },
     "execution_count": 57,
     "metadata": {},
     "output_type": "execute_result"
    }
   ],
   "source": [
    "reload(pymultifracs.utils)"
   ]
  },
  {
   "cell_type": "code",
   "execution_count": 58,
   "metadata": {},
   "outputs": [],
   "source": [
    "from pymultifracs.utils import fast_power"
   ]
  },
  {
   "cell_type": "code",
   "execution_count": 59,
   "metadata": {},
   "outputs": [],
   "source": [
    "exponent = 0"
   ]
  },
  {
   "cell_type": "code",
   "execution_count": 63,
   "metadata": {},
   "outputs": [
    {
     "name": "stdout",
     "output_type": "stream",
     "text": [
      "48.6 ms ± 1.01 ms per loop (mean ± std. dev. of 7 runs, 10 loops each)\n"
     ]
    }
   ],
   "source": [
    "%timeit fast_power(detail, exponent)"
   ]
  },
  {
   "cell_type": "code",
   "execution_count": 64,
   "metadata": {},
   "outputs": [
    {
     "name": "stdout",
     "output_type": "stream",
     "text": [
      "51.5 ms ± 2.81 ms per loop (mean ± std. dev. of 7 runs, 10 loops each)\n"
     ]
    }
   ],
   "source": [
    "%timeit detail ** exponent"
   ]
  },
  {
   "cell_type": "code",
   "execution_count": 66,
   "metadata": {},
   "outputs": [],
   "source": [
    "exponent = 1"
   ]
  },
  {
   "cell_type": "code",
   "execution_count": 67,
   "metadata": {},
   "outputs": [
    {
     "name": "stdout",
     "output_type": "stream",
     "text": [
      "119 ns ± 1.74 ns per loop (mean ± std. dev. of 7 runs, 10000000 loops each)\n"
     ]
    }
   ],
   "source": [
    "%timeit fast_power(detail, exponent)"
   ]
  },
  {
   "cell_type": "code",
   "execution_count": 68,
   "metadata": {},
   "outputs": [
    {
     "name": "stdout",
     "output_type": "stream",
     "text": [
      "67.6 ms ± 1.97 ms per loop (mean ± std. dev. of 7 runs, 10 loops each)\n"
     ]
    }
   ],
   "source": [
    "%timeit detail ** exponent"
   ]
  },
  {
   "cell_type": "code",
   "execution_count": 69,
   "metadata": {},
   "outputs": [],
   "source": [
    "exponent = 2"
   ]
  },
  {
   "cell_type": "code",
   "execution_count": 70,
   "metadata": {},
   "outputs": [
    {
     "name": "stdout",
     "output_type": "stream",
     "text": [
      "65.7 ms ± 2.69 ms per loop (mean ± std. dev. of 7 runs, 10 loops each)\n"
     ]
    }
   ],
   "source": [
    "%timeit fast_power(detail, exponent)"
   ]
  },
  {
   "cell_type": "code",
   "execution_count": 71,
   "metadata": {},
   "outputs": [
    {
     "name": "stdout",
     "output_type": "stream",
     "text": [
      "95 ms ± 1.36 ms per loop (mean ± std. dev. of 7 runs, 10 loops each)\n"
     ]
    }
   ],
   "source": [
    "%timeit detail ** exponent"
   ]
  },
  {
   "cell_type": "code",
   "execution_count": 72,
   "metadata": {},
   "outputs": [],
   "source": [
    "exponent = -1"
   ]
  },
  {
   "cell_type": "code",
   "execution_count": 73,
   "metadata": {},
   "outputs": [
    {
     "name": "stdout",
     "output_type": "stream",
     "text": [
      "94.6 ms ± 2.11 ms per loop (mean ± std. dev. of 7 runs, 10 loops each)\n"
     ]
    }
   ],
   "source": [
    "%timeit fast_power(detail, exponent)"
   ]
  },
  {
   "cell_type": "code",
   "execution_count": 74,
   "metadata": {},
   "outputs": [
    {
     "name": "stdout",
     "output_type": "stream",
     "text": [
      "94.5 ms ± 753 µs per loop (mean ± std. dev. of 7 runs, 10 loops each)\n"
     ]
    }
   ],
   "source": [
    "%timeit detail ** exponent"
   ]
  },
  {
   "cell_type": "code",
   "execution_count": 75,
   "metadata": {},
   "outputs": [],
   "source": [
    "exponent = -2"
   ]
  },
  {
   "cell_type": "code",
   "execution_count": 76,
   "metadata": {},
   "outputs": [
    {
     "name": "stdout",
     "output_type": "stream",
     "text": [
      "716 ms ± 7.88 ms per loop (mean ± std. dev. of 7 runs, 1 loop each)\n"
     ]
    }
   ],
   "source": [
    "%timeit fast_power(detail, exponent)"
   ]
  },
  {
   "cell_type": "code",
   "execution_count": 77,
   "metadata": {},
   "outputs": [
    {
     "name": "stdout",
     "output_type": "stream",
     "text": [
      "718 ms ± 7.4 ms per loop (mean ± std. dev. of 7 runs, 1 loop each)\n"
     ]
    }
   ],
   "source": [
    "%timeit detail ** exponent"
   ]
  },
  {
   "cell_type": "markdown",
   "metadata": {},
   "source": [
    "Summing"
   ]
  },
  {
   "cell_type": "code",
   "execution_count": 91,
   "metadata": {},
   "outputs": [
    {
     "name": "stdout",
     "output_type": "stream",
     "text": [
      "16.5 ms ± 1 ms per loop (mean ± std. dev. of 7 runs, 100 loops each)\n"
     ]
    }
   ],
   "source": [
    "%timeit detail.sum()"
   ]
  },
  {
   "cell_type": "code",
   "execution_count": 92,
   "metadata": {},
   "outputs": [
    {
     "name": "stdout",
     "output_type": "stream",
     "text": [
      "16.2 ms ± 574 µs per loop (mean ± std. dev. of 7 runs, 100 loops each)\n"
     ]
    }
   ],
   "source": [
    "%timeit np.sum(detail)"
   ]
  },
  {
   "cell_type": "code",
   "execution_count": 94,
   "metadata": {},
   "outputs": [
    {
     "name": "stdout",
     "output_type": "stream",
     "text": [
      "371 µs ± 21.4 µs per loop (mean ± std. dev. of 7 runs, 1000 loops each)\n"
     ]
    }
   ],
   "source": [
    "%timeit detail2.sum()"
   ]
  },
  {
   "cell_type": "code",
   "execution_count": 95,
   "metadata": {},
   "outputs": [
    {
     "name": "stdout",
     "output_type": "stream",
     "text": [
      "383 µs ± 23.8 µs per loop (mean ± std. dev. of 7 runs, 1000 loops each)\n"
     ]
    }
   ],
   "source": [
    "%timeit np.sum(detail2)"
   ]
  },
  {
   "cell_type": "markdown",
   "metadata": {},
   "source": [
    "### Filtering"
   ]
  },
  {
   "cell_type": "code",
   "execution_count": 37,
   "metadata": {},
   "outputs": [],
   "source": [
    "approx = np.random.randn(20)"
   ]
  },
  {
   "cell_type": "code",
   "execution_count": 30,
   "metadata": {},
   "outputs": [],
   "source": [
    "from scipy.signal import convolve"
   ]
  },
  {
   "cell_type": "code",
   "execution_count": 32,
   "metadata": {},
   "outputs": [],
   "source": [
    "import pywt"
   ]
  },
  {
   "cell_type": "code",
   "execution_count": 33,
   "metadata": {},
   "outputs": [],
   "source": [
    "wavelet = pywt.Wavelet(wt_name)\n",
    "high_filter = -1*np.array(wavelet.dec_hi)\n",
    "low_filter = np.array(wavelet.dec_lo)"
   ]
  },
  {
   "cell_type": "code",
   "execution_count": 42,
   "metadata": {},
   "outputs": [],
   "source": [
    "nj_temp = len(approx)"
   ]
  },
  {
   "cell_type": "code",
   "execution_count": 46,
   "metadata": {},
   "outputs": [],
   "source": [
    "approx[3] = np.inf"
   ]
  },
  {
   "cell_type": "code",
   "execution_count": 47,
   "metadata": {},
   "outputs": [],
   "source": [
    "high = convolve(approx, high_filter, mode='full', method='direct')\n",
    "low = convolve(approx, low_filter, mode='full', method='direct')"
   ]
  },
  {
   "cell_type": "code",
   "execution_count": 62,
   "metadata": {},
   "outputs": [],
   "source": [
    "high_v = convolve(approx, high_filter, mode='valid', method='direct')\n",
    "low_v = convolve(approx, low_filter, mode='valid', method='direct')"
   ]
  },
  {
   "cell_type": "code",
   "execution_count": 56,
   "metadata": {},
   "outputs": [
    {
     "name": "stdout",
     "output_type": "stream",
     "text": [
      "4.61 µs ± 74.5 ns per loop (mean ± std. dev. of 7 runs, 100000 loops each)\n"
     ]
    }
   ],
   "source": [
    "%timeit high = convolve(approx, high_filter, mode='full', method='direct')"
   ]
  },
  {
   "cell_type": "code",
   "execution_count": 55,
   "metadata": {},
   "outputs": [
    {
     "name": "stdout",
     "output_type": "stream",
     "text": [
      "14.1 µs ± 187 ns per loop (mean ± std. dev. of 7 runs, 100000 loops each)\n"
     ]
    }
   ],
   "source": [
    "%timeit high = convolve(approx, high_filter, mode='full')"
   ]
  },
  {
   "cell_type": "code",
   "execution_count": 48,
   "metadata": {},
   "outputs": [
    {
     "data": {
      "text/plain": [
       "array([ 0.09333526, -0.47756927,  0.69726451,         inf,        -inf,\n",
       "               inf,         inf,        -inf,        -inf,  0.47655917,\n",
       "       -0.1049862 , -0.25457883, -0.19688186,  0.05075347, -0.15664647,\n",
       "        1.07860753, -0.8505543 ,  0.08311984, -0.2749667 ,  0.36563768,\n",
       "        0.27992021, -0.44301442, -0.03158715,  0.09498438,  0.0272934 ])"
      ]
     },
     "execution_count": 48,
     "metadata": {},
     "output_type": "execute_result"
    }
   ],
   "source": [
    "high"
   ]
  },
  {
   "cell_type": "code",
   "execution_count": 63,
   "metadata": {},
   "outputs": [
    {
     "data": {
      "text/plain": [
       "array([        inf,         inf,        -inf,        -inf,  0.47655917,\n",
       "       -0.1049862 , -0.25457883, -0.19688186,  0.05075347, -0.15664647,\n",
       "        1.07860753, -0.8505543 ,  0.08311984, -0.2749667 ,  0.36563768])"
      ]
     },
     "execution_count": 63,
     "metadata": {},
     "output_type": "execute_result"
    }
   ],
   "source": [
    "high_v"
   ]
  },
  {
   "cell_type": "code",
   "execution_count": 49,
   "metadata": {},
   "outputs": [
    {
     "data": {
      "text/plain": [
       "array([ 0.00988322, -0.05056953,  0.02229138,         inf,        -inf,\n",
       "              -inf,         inf,         inf,         inf,  0.79713398,\n",
       "        0.5697332 , -0.36751585, -0.93210171, -0.60682878,  0.11681667,\n",
       "        0.60564466,  0.30999824, -0.88810852, -1.40611006, -0.78137356,\n",
       "       -0.26944138, -0.49423913, -1.04589783, -0.89701481, -0.25775376])"
      ]
     },
     "execution_count": 49,
     "metadata": {},
     "output_type": "execute_result"
    }
   ],
   "source": [
    "low"
   ]
  },
  {
   "cell_type": "code",
   "execution_count": 57,
   "metadata": {},
   "outputs": [],
   "source": [
    "# index of first good value\n",
    "fp = len(high_filter) - 2\n",
    "# index of last good value\n",
    "lp = nj_temp - 1"
   ]
  },
  {
   "cell_type": "code",
   "execution_count": 64,
   "metadata": {},
   "outputs": [],
   "source": [
    "# replace border with Inf\n",
    "high[0:fp] = np.inf\n",
    "high[lp+1:] = np.inf\n",
    "low[0:fp] = np.inf\n",
    "low[lp+1:] = np.inf"
   ]
  },
  {
   "cell_type": "code",
   "execution_count": 65,
   "metadata": {},
   "outputs": [
    {
     "data": {
      "text/plain": [
       "array([        inf,         inf,         inf,         inf,        -inf,\n",
       "               inf,         inf,        -inf,        -inf,  0.47655917,\n",
       "       -0.1049862 , -0.25457883, -0.19688186,  0.05075347, -0.15664647,\n",
       "        1.07860753, -0.8505543 ,  0.08311984, -0.2749667 ,  0.36563768,\n",
       "               inf,         inf,         inf,         inf,         inf])"
      ]
     },
     "execution_count": 65,
     "metadata": {},
     "output_type": "execute_result"
    }
   ],
   "source": [
    "high"
   ]
  },
  {
   "cell_type": "code",
   "execution_count": null,
   "metadata": {},
   "outputs": [],
   "source": [
    "# centering and subsampling\n",
    "detail_idx = np.arange(1, nj_temp + 1, 2)\n",
    "approx_idx = np.arange(-1, nj_temp - 1, 2) + len(high_filter)"
   ]
  },
  {
   "cell_type": "code",
   "execution_count": null,
   "metadata": {},
   "outputs": [],
   "source": [
    "detail = high[detail_idx]\n",
    "approx = low[approx_idx]"
   ]
  },
  {
   "cell_type": "code",
   "execution_count": 35,
   "metadata": {},
   "outputs": [
    {
     "data": {
      "text/plain": [
       "array([        inf,         inf, -1.67527062,  0.41893915,  0.06961611,\n",
       "        1.58621069, -2.08857282,  0.43859429, -0.04792566, -0.68135377])"
      ]
     },
     "execution_count": 35,
     "metadata": {},
     "output_type": "execute_result"
    }
   ],
   "source": [
    "detail"
   ]
  },
  {
   "cell_type": "code",
   "execution_count": 36,
   "metadata": {},
   "outputs": [
    {
     "data": {
      "text/plain": [
       "array([ 0.78594536, -0.99804386, -1.10785982, -0.9057365 ,  1.9414605 ,\n",
       "        0.52055171, -0.41227763,  1.5114668 ,         inf,         inf])"
      ]
     },
     "execution_count": 36,
     "metadata": {},
     "output_type": "execute_result"
    }
   ],
   "source": [
    "approx"
   ]
  },
  {
   "cell_type": "code",
   "execution_count": 3,
   "metadata": {},
   "outputs": [],
   "source": [
    "A = np.random.rand(1000, 100000)"
   ]
  },
  {
   "cell_type": "code",
   "execution_count": 4,
   "metadata": {},
   "outputs": [],
   "source": [
    "B = np.random.rand(100000, 1000)"
   ]
  },
  {
   "cell_type": "code",
   "execution_count": 8,
   "metadata": {},
   "outputs": [
    {
     "name": "stdout",
     "output_type": "stream",
     "text": [
      "1.88 s ± 33.3 ms per loop (mean ± std. dev. of 7 runs, 1 loop each)\n"
     ]
    }
   ],
   "source": [
    "%%timeit\n",
    "np.dot(A,B)"
   ]
  },
  {
   "cell_type": "code",
   "execution_count": 5,
   "metadata": {},
   "outputs": [
    {
     "name": "stdout",
     "output_type": "stream",
     "text": [
      "3.66 s ± 156 ms per loop (mean ± std. dev. of 7 runs, 1 loop each)\n"
     ]
    }
   ],
   "source": [
    "%%timeit\n",
    "np.dot(A,B)"
   ]
  },
  {
   "cell_type": "code",
   "execution_count": 93,
   "metadata": {},
   "outputs": [],
   "source": [
    "detail2 = np.random.randn(100, 10000)"
   ]
  },
  {
   "cell_type": "code",
   "execution_count": 70,
   "metadata": {},
   "outputs": [
    {
     "name": "stdout",
     "output_type": "stream",
     "text": [
      "1.16 ms ± 14.8 µs per loop (mean ± std. dev. of 7 runs, 1000 loops each)\n"
     ]
    }
   ],
   "source": [
    "%timeit detail2 * detail2"
   ]
  },
  {
   "cell_type": "code",
   "execution_count": 71,
   "metadata": {},
   "outputs": [
    {
     "name": "stdout",
     "output_type": "stream",
     "text": [
      "2.16 ms ± 67.4 µs per loop (mean ± std. dev. of 7 runs, 100 loops each)\n"
     ]
    }
   ],
   "source": [
    "%timeit detail2 ** 2"
   ]
  },
  {
   "cell_type": "code",
   "execution_count": 72,
   "metadata": {},
   "outputs": [
    {
     "name": "stdout",
     "output_type": "stream",
     "text": [
      "18.7 ms ± 163 µs per loop (mean ± std. dev. of 7 runs, 100 loops each)\n"
     ]
    }
   ],
   "source": [
    "%timeit np.power(detail2, 2)"
   ]
  },
  {
   "cell_type": "code",
   "execution_count": 76,
   "metadata": {},
   "outputs": [
    {
     "data": {
      "text/plain": [
       "24"
      ]
     },
     "execution_count": 76,
     "metadata": {},
     "output_type": "execute_result"
    }
   ],
   "source": [
    "3 * 2 ** 3"
   ]
  },
  {
   "cell_type": "code",
   "execution_count": 77,
   "metadata": {},
   "outputs": [
    {
     "data": {
      "text/plain": [
       "24"
      ]
     },
     "execution_count": 77,
     "metadata": {},
     "output_type": "execute_result"
    }
   ],
   "source": [
    "3 * (2 ** 3)"
   ]
  },
  {
   "cell_type": "code",
   "execution_count": 78,
   "metadata": {},
   "outputs": [
    {
     "data": {
      "text/plain": [
       "216"
      ]
     },
     "execution_count": 78,
     "metadata": {},
     "output_type": "execute_result"
    }
   ],
   "source": [
    "(3 * 2) ** 3"
   ]
  }
 ],
 "metadata": {
  "kernelspec": {
   "display_name": "Python [conda env:Multifracs]",
   "language": "python",
   "name": "conda-env-Multifracs-py"
  },
  "language_info": {
   "codemirror_mode": {
    "name": "ipython",
    "version": 3
   },
   "file_extension": ".py",
   "mimetype": "text/x-python",
   "name": "python",
   "nbconvert_exporter": "python",
   "pygments_lexer": "ipython3",
   "version": "3.7.7"
  }
 },
 "nbformat": 4,
 "nbformat_minor": 4
}
