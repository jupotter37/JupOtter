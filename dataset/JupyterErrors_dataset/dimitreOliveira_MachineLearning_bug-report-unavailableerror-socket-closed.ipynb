{
 "cells": [
  {
   "cell_type": "markdown",
   "metadata": {},
   "source": [
    "### This notebook is just to reproduce the `UnavailableError: Socket closed` bug.\n",
    "\n",
    "#### Usually happens when using some combination of the below:\n",
    "- Long epochs\n",
    "- Heavy models\n",
    "- Some loops using too much memory\n",
    "\n",
    "##### Let me know if anyone else is getting similar issues."
   ]
  },
  {
   "cell_type": "markdown",
   "metadata": {},
   "source": [
    "## Dependencies"
   ]
  },
  {
   "cell_type": "code",
   "execution_count": 1,
   "metadata": {
    "_cell_guid": "b1076dfc-b9ad-4769-8c92-a6c4dae69d19",
    "_kg_hide-input": true,
    "_uuid": "8f2839f25d086af736a60e9eeb907d3b93b6e0e5"
   },
   "outputs": [],
   "source": [
    "!pip install --quiet efficientnet\n",
    "\n",
    "import numpy as np\n",
    "import pandas as pd\n",
    "import seaborn as sns\n",
    "import os, re, math, warnings, time\n",
    "from matplotlib import pyplot as plt\n",
    "from kaggle_datasets import KaggleDatasets\n",
    "from sklearn.model_selection import KFold\n",
    "from sklearn.metrics import classification_report, confusion_matrix\n",
    "import tensorflow as tf\n",
    "import tensorflow.keras.backend as K\n",
    "from tensorflow.keras.models import load_model\n",
    "from tensorflow.keras import optimizers, applications, Sequential, layers, metrics, losses\n",
    "from tensorflow.keras.callbacks import EarlyStopping, ModelCheckpoint, LearningRateScheduler\n",
    "import efficientnet.tfkeras as efn\n",
    "\n",
    "def seed_everything(seed=0):\n",
    "    np.random.seed(seed)\n",
    "    tf.random.set_seed(seed)\n",
    "    os.environ['PYTHONHASHSEED'] = str(seed)\n",
    "    os.environ['TF_DETERMINISTIC_OPS'] = '1'\n",
    "\n",
    "seed = 0\n",
    "seed_everything(seed)\n",
    "warnings.filterwarnings(\"ignore\")"
   ]
  },
  {
   "cell_type": "markdown",
   "metadata": {},
   "source": [
    "### TPU configuration"
   ]
  },
  {
   "cell_type": "code",
   "execution_count": 2,
   "metadata": {
    "_kg_hide-input": true
   },
   "outputs": [
    {
     "name": "stdout",
     "output_type": "stream",
     "text": [
      "Running on TPU  grpc://10.0.0.2:8470\n",
      "REPLICAS:  8\n"
     ]
    }
   ],
   "source": [
    "# TPU or GPU detection\n",
    "# Detect hardware, return appropriate distribution strategy\n",
    "try:\n",
    "    tpu = tf.distribute.cluster_resolver.TPUClusterResolver()\n",
    "    print('Running on TPU ', tpu.master())\n",
    "except ValueError:\n",
    "    tpu = None\n",
    "\n",
    "if tpu:\n",
    "    tf.config.experimental_connect_to_cluster(tpu)\n",
    "    tf.tpu.experimental.initialize_tpu_system(tpu)\n",
    "    strategy = tf.distribute.experimental.TPUStrategy(tpu)\n",
    "else:\n",
    "    strategy = tf.distribute.get_strategy()\n",
    "\n",
    "print(\"REPLICAS: \", strategy.num_replicas_in_sync)"
   ]
  },
  {
   "cell_type": "markdown",
   "metadata": {},
   "source": [
    "# Model parameters"
   ]
  },
  {
   "cell_type": "code",
   "execution_count": 3,
   "metadata": {},
   "outputs": [],
   "source": [
    "BATCH_SIZE = 16 * strategy.num_replicas_in_sync\n",
    "EPOCHS = 15\n",
    "LEARNING_RATE = 3e-5 * strategy.num_replicas_in_sync\n",
    "HEIGHT = 512\n",
    "WIDTH = 512\n",
    "CHANNELS = 3\n",
    "N_CLASSES = 104\n",
    "N_FOLDS = 5\n",
    "FOLDS_USED = 5\n",
    "\n",
    "GCS_PATH = KaggleDatasets().get_gcs_path() + '/tfrecords-jpeg-%sx%s' % (HEIGHT, WIDTH)\n",
    "\n",
    "TRAINING_FILENAMES = tf.io.gfile.glob(GCS_PATH + '/train/*.tfrec') + tf.io.gfile.glob(GCS_PATH + '/val/*.tfrec')\n",
    "TEST_FILENAMES = tf.io.gfile.glob(GCS_PATH + '/test/*.tfrec')\n",
    "\n",
    "CLASSES = [\n",
    "    'pink primrose', 'hard-leaved pocket orchid', 'canterbury bells', 'sweet pea', \n",
    "    'wild geranium', 'tiger lily', 'moon orchid', 'bird of paradise', 'monkshood', \n",
    "    'globe thistle', 'snapdragon', \"colt's foot\", 'king protea', 'spear thistle', \n",
    "    'yellow iris', 'globe-flower', 'purple coneflower', 'peruvian lily', \n",
    "    'balloon flower', 'giant white arum lily', 'fire lily', 'pincushion flower', \n",
    "    'fritillary', 'red ginger', 'grape hyacinth', 'corn poppy', \n",
    "    'prince of wales feathers', 'stemless gentian', 'artichoke', 'sweet william', \n",
    "    'carnation', 'garden phlox', 'love in the mist', 'cosmos',  'alpine sea holly', \n",
    "    'ruby-lipped cattleya', 'cape flower', 'great masterwort',  'siam tulip', \n",
    "    'lenten rose', 'barberton daisy', 'daffodil',  'sword lily', 'poinsettia', \n",
    "    'bolero deep blue',  'wallflower', 'marigold', 'buttercup', 'daisy', \n",
    "    'common dandelion', 'petunia', 'wild pansy', 'primula',  'sunflower', \n",
    "    'lilac hibiscus', 'bishop of llandaff', 'gaura',  'geranium', 'orange dahlia', \n",
    "    'pink-yellow dahlia', 'cautleya spicata',  'japanese anemone', 'black-eyed susan', \n",
    "    'silverbush', 'californian poppy',  'osteospermum', 'spring crocus', 'iris', \n",
    "    'windflower',  'tree poppy', 'gazania', 'azalea', 'water lily',  'rose', \n",
    "    'thorn apple', 'morning glory', 'passion flower',  'lotus', 'toad lily', \n",
    "    'anthurium', 'frangipani',  'clematis', 'hibiscus', 'columbine', 'desert-rose', \n",
    "    'tree mallow', 'magnolia', 'cyclamen ', 'watercress',  'canna lily', \n",
    "    'hippeastrum ', 'bee balm', 'pink quill',  'foxglove', 'bougainvillea', \n",
    "    'camellia', 'mallow',  'mexican petunia',  'bromelia', 'blanket flower', \n",
    "    'trumpet creeper',  'blackberry lily', 'common tulip', 'wild rose']"
   ]
  },
  {
   "cell_type": "code",
   "execution_count": 4,
   "metadata": {
    "_cell_guid": "79c7e3d0-c299-4dcb-8224-4455121ee9b0",
    "_kg_hide-input": true,
    "_uuid": "d629ff2d2480ee46fbb7e2d37f6b5fab8052498a"
   },
   "outputs": [],
   "source": [
    "# Datasets utility functions\n",
    "AUTO = tf.data.experimental.AUTOTUNE # instructs the API to read from multiple files if available.\n",
    "\n",
    "def decode_image(image_data):\n",
    "    image = tf.image.decode_jpeg(image_data, channels=3)\n",
    "    image = tf.cast(image, tf.float32) / 255.0\n",
    "    image = tf.reshape(image, [HEIGHT, WIDTH, 3])\n",
    "    return image\n",
    "\n",
    "def read_labeled_tfrecord(example):\n",
    "    LABELED_TFREC_FORMAT = {\n",
    "        \"image\": tf.io.FixedLenFeature([], tf.string), # tf.string means bytestring\n",
    "        \"class\": tf.io.FixedLenFeature([], tf.int64),  # shape [] means single element\n",
    "    }\n",
    "    example = tf.io.parse_single_example(example, LABELED_TFREC_FORMAT)\n",
    "    image = decode_image(example['image'])\n",
    "    label = tf.cast(example['class'], tf.int32)\n",
    "    return image, label\n",
    "\n",
    "def read_unlabeled_tfrecord(example):\n",
    "    UNLABELED_TFREC_FORMAT = {\n",
    "        \"image\": tf.io.FixedLenFeature([], tf.string), # tf.string means bytestring\n",
    "        \"id\": tf.io.FixedLenFeature([], tf.string),  # shape [] means single element\n",
    "        # class is missing, this competitions's challenge is to predict flower classes for the test dataset\n",
    "    }\n",
    "    example = tf.io.parse_single_example(example, UNLABELED_TFREC_FORMAT)\n",
    "    image = decode_image(example['image'])\n",
    "    idnum = example['id']\n",
    "    return image, idnum # returns a dataset of image(s)\n",
    "\n",
    "def load_dataset(filenames, labeled=True, ordered=False):\n",
    "    ignore_order = tf.data.Options()\n",
    "    if not ordered:\n",
    "        ignore_order.experimental_deterministic = False # disable order, increase speed\n",
    "\n",
    "    dataset = tf.data.TFRecordDataset(filenames, num_parallel_reads=AUTO) # automatically interleaves reads from multiple files\n",
    "    dataset = dataset.with_options(ignore_order) # uses data as soon as it streams in, rather than in its original order\n",
    "    dataset = dataset.map(read_labeled_tfrecord if labeled else read_unlabeled_tfrecord, num_parallel_calls=AUTO)\n",
    "    # returns a dataset of (image, label) pairs if labeled=True or (image, id) pairs if labeled=False\n",
    "    return dataset\n",
    "\n",
    "def data_augment(image, label):\n",
    "    p_spatial = tf.random.uniform([1], minval=0, maxval=1, dtype='float32', seed=seed)\n",
    "    p_spatial2 = tf.random.uniform([1], minval=0, maxval=1, dtype='float32', seed=seed)\n",
    "    p_pixel = tf.random.uniform([1], minval=0, maxval=1, dtype='float32', seed=seed)\n",
    "    p_crop = tf.random.uniform([1], minval=0, maxval=1, dtype='float32', seed=seed)\n",
    "    \n",
    "    ### Spatial-level transforms\n",
    "    if p_spatial >= .2: # flips\n",
    "        image = tf.image.random_flip_left_right(image, seed=seed)\n",
    "        image = tf.image.random_flip_up_down(image, seed=seed)\n",
    "        \n",
    "    if p_crop >= .7: # crops\n",
    "        if p_crop >= .95:\n",
    "            image = tf.image.random_crop(image, size=[int(HEIGHT*.6), int(WIDTH*.6), CHANNELS], seed=seed)\n",
    "        elif p_crop >= .85:\n",
    "            image = tf.image.random_crop(image, size=[int(HEIGHT*.7), int(WIDTH*.7), CHANNELS], seed=seed)\n",
    "        elif p_crop >= .8:\n",
    "            image = tf.image.random_crop(image, size=[int(HEIGHT*.8), int(WIDTH*.8), CHANNELS], seed=seed)\n",
    "        else:\n",
    "            image = tf.image.random_crop(image, size=[int(HEIGHT*.9), int(WIDTH*.9), CHANNELS], seed=seed)\n",
    "        image = tf.image.resize(image, size=[HEIGHT, WIDTH])\n",
    "    \n",
    "    ## Pixel-level transforms\n",
    "    if p_pixel >= .4: # pixel transformations\n",
    "        if p_pixel >= .85:\n",
    "            image = tf.image.random_saturation(image, lower=0, upper=2, seed=seed)\n",
    "        elif p_pixel >= .65:\n",
    "            image = tf.image.random_contrast(image, lower=.8, upper=2, seed=seed)\n",
    "        elif p_pixel >= .5:\n",
    "            image = tf.image.random_brightness(image, max_delta=.2, seed=seed)\n",
    "        else:\n",
    "            image = tf.image.adjust_gamma(image, gamma=.6)\n",
    "\n",
    "    return image, label\n",
    "\n",
    "def get_training_dataset(filenames):\n",
    "    dataset = load_dataset(filenames, labeled=True)\n",
    "    dataset = dataset.map(data_augment, num_parallel_calls=AUTO)\n",
    "    dataset = dataset.repeat() # the training dataset must repeat for several epochs\n",
    "    dataset = dataset.shuffle(2048)\n",
    "#     dataset = dataset.batch(BATCH_SIZE, drop_remainder=True) # slighly faster with fixed tensor sizes\n",
    "    dataset = dataset.batch(BATCH_SIZE)\n",
    "    dataset = dataset.prefetch(AUTO) # prefetch next batch while training (autotune prefetch buffer size)\n",
    "    return dataset\n",
    "\n",
    "def get_validation_dataset(filenames, ordered=True, repeated=False):\n",
    "    dataset = load_dataset(filenames, labeled=True, ordered=ordered)\n",
    "    if repeated:\n",
    "        dataset = dataset.repeat()\n",
    "        dataset = dataset.shuffle(2048)\n",
    "#     dataset = dataset.batch(BATCH_SIZE, drop_remainder=repeated)\n",
    "    dataset = dataset.batch(BATCH_SIZE)\n",
    "    dataset = dataset.cache()\n",
    "    dataset = dataset.prefetch(AUTO)\n",
    "    return dataset\n",
    "\n",
    "def get_test_dataset(filenames=TEST_FILENAMES, ordered=True):\n",
    "    dataset = load_dataset(filenames, labeled=False, ordered=ordered)\n",
    "    dataset = dataset.batch(BATCH_SIZE)\n",
    "    dataset = dataset.prefetch(AUTO)\n",
    "    return dataset\n",
    "\n",
    "def count_data_items(filenames):\n",
    "    # the number of data items is written in the name of the .tfrec files, i.e. flowers00-230.tfrec = 230 data items\n",
    "    n = [int(re.compile(r\"-([0-9]*)\\.\").search(filename).group(1)) for filename in filenames]\n",
    "    return np.sum(n)\n",
    "\n",
    "def int_div_round_up(a, b):\n",
    "    return (a + b - 1) // b"
   ]
  },
  {
   "cell_type": "code",
   "execution_count": 5,
   "metadata": {
    "_kg_hide-input": true
   },
   "outputs": [],
   "source": [
    "# # Visualization utility functions\n",
    "# np.set_printoptions(threshold=15, linewidth=80)\n",
    "\n",
    "# def plot_metrics(history, metric_list):\n",
    "#     fig, axes = plt.subplots(len(metric_list), 1, sharex='col', figsize=(24, 12))\n",
    "#     axes = axes.flatten()\n",
    "    \n",
    "#     for index, metric in enumerate(metric_list):\n",
    "#         axes[index].plot(history[metric], label='Train %s' % metric)\n",
    "#         axes[index].plot(history['val_%s' % metric], label='Validation %s' % metric)\n",
    "#         axes[index].legend(loc='best', fontsize=16)\n",
    "#         axes[index].set_title(metric)\n",
    "\n",
    "#     plt.xlabel('Epochs', fontsize=16)\n",
    "#     sns.despine()\n",
    "#     plt.show()\n",
    "\n",
    "    \n",
    "# def dataset_to_numpy_util(dataset, N):\n",
    "#     dataset = dataset.unbatch().batch(N)\n",
    "#     for images, labels in dataset:\n",
    "#         numpy_images = images.numpy()\n",
    "#         numpy_labels = labels.numpy()\n",
    "#         break;  \n",
    "#     return numpy_images, numpy_labels\n",
    "\n",
    "# def title_from_label_and_target(label, correct_label):\n",
    "#     label = np.argmax(label, axis=-1)\n",
    "#     correct = (label == correct_label)\n",
    "#     return \"{} [{}{}{}]\".format(CLASSES[label], str(correct), ', shoud be ' if not correct else '',\n",
    "#                                 CLASSES[correct_label] if not correct else ''), correct\n",
    "\n",
    "# def display_one_flower_eval(image, title, subplot, red=False):\n",
    "#     plt.subplot(subplot)\n",
    "#     plt.axis('off')\n",
    "#     plt.imshow(image)\n",
    "#     plt.title(title, fontsize=14, color='red' if red else 'black')\n",
    "#     return subplot+1\n",
    "\n",
    "# def display_9_images_with_predictions(images, predictions, labels):\n",
    "#     subplot=331\n",
    "#     plt.figure(figsize=(13,13))\n",
    "#     for i, image in enumerate(images):\n",
    "#         title, correct = title_from_label_and_target(predictions[i], labels[i])\n",
    "#         subplot = display_one_flower_eval(image, title, subplot, not correct)\n",
    "#         if i >= 8:\n",
    "#             break;\n",
    "              \n",
    "#     plt.tight_layout()\n",
    "#     plt.subplots_adjust(wspace=0.1, hspace=0.1)\n",
    "#     plt.show()"
   ]
  },
  {
   "cell_type": "markdown",
   "metadata": {},
   "source": [
    "## About the datasets"
   ]
  },
  {
   "cell_type": "code",
   "execution_count": 6,
   "metadata": {
    "_kg_hide-input": true
   },
   "outputs": [
    {
     "name": "stdout",
     "output_type": "stream",
     "text": [
      "Number of test images 7382\n"
     ]
    }
   ],
   "source": [
    "# # Train data\n",
    "# NUM_TRAINING_IMAGES = count_data_items(TRAINING_FILENAMES)\n",
    "# train_dataset = get_training_dataset(TRAINING_FILENAMES)\n",
    "# y_train = next(iter(train_dataset.unbatch().map(lambda image, label: label).batch(NUM_TRAINING_IMAGES))).numpy()\n",
    "# print('Number of training images %d' % NUM_TRAINING_IMAGES)\n",
    "\n",
    "# Test data\n",
    "NUM_TEST_IMAGES = count_data_items(TEST_FILENAMES)\n",
    "print('Number of test images %d' % NUM_TEST_IMAGES)\n",
    "test_dataset = get_test_dataset(ordered=True)"
   ]
  },
  {
   "cell_type": "markdown",
   "metadata": {},
   "source": [
    "# Model"
   ]
  },
  {
   "cell_type": "code",
   "execution_count": 7,
   "metadata": {},
   "outputs": [],
   "source": [
    "def create_model(input_shape, N_CLASSES):\n",
    "    base_model = efn.EfficientNetB0(weights='noisy-student', \n",
    "                                    include_top=False,\n",
    "                                    input_shape=input_shape)\n",
    "\n",
    "    model = tf.keras.Sequential([\n",
    "            base_model,\n",
    "            layers.GlobalAveragePooling2D(),\n",
    "            layers.Dense(N_CLASSES, activation='softmax')\n",
    "            ])\n",
    "    \n",
    "    return model"
   ]
  },
  {
   "cell_type": "markdown",
   "metadata": {},
   "source": [
    "## Learning rate schedule"
   ]
  },
  {
   "cell_type": "code",
   "execution_count": 8,
   "metadata": {
    "_kg_hide-input": true
   },
   "outputs": [
    {
     "name": "stdout",
     "output_type": "stream",
     "text": [
      "Learning rate schedule: 1e-08 to 0.00024 to 2.15e-05\n"
     ]
    },
    {
     "data": {
      "image/png": "[encoded data removed]",
      "text/plain": [
       "<Figure size 1728x432 with 1 Axes>"
      ]
     },
     "metadata": {
      "needs_background": "light"
     },
     "output_type": "display_data"
    }
   ],
   "source": [
    "LR_START = 0.00000001\n",
    "LR_MIN = 0.000001\n",
    "LR_MAX = LEARNING_RATE\n",
    "LR_RAMPUP_EPOCHS = 3\n",
    "LR_SUSTAIN_EPOCHS = 0\n",
    "LR_EXP_DECAY = .8\n",
    "\n",
    "@tf.function\n",
    "def lrfn(epoch):\n",
    "    if epoch < LR_RAMPUP_EPOCHS:\n",
    "        lr = (LR_MAX - LR_START) / LR_RAMPUP_EPOCHS * epoch + LR_START\n",
    "    elif epoch < LR_RAMPUP_EPOCHS + LR_SUSTAIN_EPOCHS:\n",
    "        lr = LR_MAX\n",
    "    else:\n",
    "        lr = (LR_MAX - LR_MIN) * LR_EXP_DECAY**(epoch - LR_RAMPUP_EPOCHS - LR_SUSTAIN_EPOCHS) + LR_MIN\n",
    "    return lr\n",
    "    \n",
    "rng = [i for i in range(EPOCHS)]\n",
    "y = [lrfn(x) for x in rng]\n",
    "\n",
    "fig, ax = plt.subplots(figsize=(24, 6))\n",
    "plt.plot(rng, y)\n",
    "print(\"Learning rate schedule: {:.3g} to {:.3g} to {:.3g}\".format(y[0], max(y), y[-1]))"
   ]
  },
  {
   "cell_type": "markdown",
   "metadata": {},
   "source": [
    "# Optimized training loop"
   ]
  },
  {
   "cell_type": "code",
   "execution_count": 9,
   "metadata": {
    "_kg_hide-output": true
   },
   "outputs": [
    {
     "name": "stdout",
     "output_type": "stream",
     "text": [
      "##### FOLD 0 #####\n",
      "Downloading data from https://github.com/qubvel/efficientnet/releases/download/v0.0.1/efficientnet-b0_noisy-student_notop.h5\n",
      "16703488/16696600 [==============================] - 0s 0us/step\n",
      "\n",
      "EPOCH 1/15\n",
      "time: 148.4s loss: 4.6343 sparse_categorical_accuracy: 0.0160 val_loss: 4.6362 val_sparse_categorical_accuracy: 0.0073\n",
      "LearningRate: 1e-08\n",
      "\n",
      "EPOCH 2/15\n",
      "time: 38.9s loss: 3.8180 sparse_categorical_accuracy: 0.2229 val_loss: 3.0170 val_sparse_categorical_accuracy: 0.3315\n",
      "LearningRate: 8.001e-05\n",
      "\n",
      "EPOCH 3/15\n",
      "time: 38.0s loss: 2.0872 sparse_categorical_accuracy: 0.5362 val_loss: 2.3926 val_sparse_categorical_accuracy: 0.5349\n",
      "LearningRate: 0.00016\n",
      "\n",
      "EPOCH 4/15\n",
      "time: 36.6s loss: 1.0505 sparse_categorical_accuracy: 0.7580 val_loss: 1.0426 val_sparse_categorical_accuracy: 0.7689\n",
      "LearningRate: 0.00024\n",
      "\n",
      "EPOCH 5/15\n",
      "time: 31.0s loss: 0.6469 sparse_categorical_accuracy: 0.8455 val_loss: 0.4293 val_sparse_categorical_accuracy: 0.8990\n",
      "LearningRate: 0.0001922\n",
      "\n",
      "EPOCH 6/15\n",
      "time: 27.0s loss: 0.4884 sparse_categorical_accuracy: 0.8842 val_loss: 0.3393 val_sparse_categorical_accuracy: 0.9111\n",
      "LearningRate: 0.000154\n",
      "\n",
      "EPOCH 7/15\n",
      "time: 28.3s loss: 0.4161 sparse_categorical_accuracy: 0.8996 val_loss: 0.3090 val_sparse_categorical_accuracy: 0.9211\n",
      "LearningRate: 0.0001234\n",
      "\n",
      "EPOCH 8/15\n",
      "time: 29.3s loss: 0.3554 sparse_categorical_accuracy: 0.9176 val_loss: 0.2640 val_sparse_categorical_accuracy: 0.9329\n",
      "LearningRate: 9.889e-05\n",
      "\n",
      "EPOCH 9/15\n",
      "time: 28.8s loss: 0.3068 sparse_categorical_accuracy: 0.9283 val_loss: 0.2574 val_sparse_categorical_accuracy: 0.9349\n",
      "LearningRate: 7.932e-05\n",
      "\n",
      "EPOCH 10/15\n",
      "time: 29.4s loss: 0.2887 sparse_categorical_accuracy: 0.9316 val_loss: 0.2475 val_sparse_categorical_accuracy: 0.9382\n",
      "LearningRate: 6.365e-05\n",
      "\n",
      "EPOCH 11/15\n",
      "time: 30.3s loss: 0.2650 sparse_categorical_accuracy: 0.9404 val_loss: 0.2449 val_sparse_categorical_accuracy: 0.9395\n",
      "LearningRate: 5.112e-05\n",
      "\n",
      "EPOCH 12/15\n",
      "time: 29.0s loss: 0.2543 sparse_categorical_accuracy: 0.9409 val_loss: 0.2316 val_sparse_categorical_accuracy: 0.9397\n",
      "LearningRate: 4.11e-05\n",
      "\n",
      "EPOCH 13/15\n",
      "time: 28.7s loss: 0.2425 sparse_categorical_accuracy: 0.9428 val_loss: 0.2299 val_sparse_categorical_accuracy: 0.9435\n",
      "LearningRate: 3.308e-05\n"
     ]
    },
    {
     "ename": "UnavailableError",
     "evalue": "Socket closed\nAdditional GRPC error information:\n{\"created\":\"@1584660215.390218670\",\"description\":\"Error received from peer\",\"file\":\"external/grpc/src/core/lib/surface/call.cc\",\"file_line\":1039,\"grpc_message\":\"Socket closed\",\"grpc_status\":14}",
     "output_type": "error",
     "traceback": [
      "\u001b[0;31m---------------------------------------------------------------------------\u001b[0m",
      "\u001b[0;31mUnavailableError\u001b[0m                          Traceback (most recent call last)",
      "\u001b[0;32m<ipython-input-9-f43d1cdf3898>\u001b[0m in \u001b[0;36m<module>\u001b[0;34m\u001b[0m\n\u001b[1;32m     90\u001b[0m \u001b[0;34m\u001b[0m\u001b[0m\n\u001b[1;32m     91\u001b[0m                 \u001b[0;31m# compute metrics\u001b[0m\u001b[0;34m\u001b[0m\u001b[0;34m\u001b[0m\u001b[0m\n\u001b[0;32m---> 92\u001b[0;31m                 \u001b[0mhistory\u001b[0m\u001b[0;34m[\u001b[0m\u001b[0;34m'sparse_categorical_accuracy'\u001b[0m\u001b[0;34m]\u001b[0m\u001b[0;34m.\u001b[0m\u001b[0mappend\u001b[0m\u001b[0;34m(\u001b[0m\u001b[0mtrain_accuracy\u001b[0m\u001b[0;34m.\u001b[0m\u001b[0mresult\u001b[0m\u001b[0;34m(\u001b[0m\u001b[0;34m)\u001b[0m\u001b[0;34m.\u001b[0m\u001b[0mnumpy\u001b[0m\u001b[0;34m(\u001b[0m\u001b[0;34m)\u001b[0m\u001b[0;34m)\u001b[0m\u001b[0;34m\u001b[0m\u001b[0m\n\u001b[0m\u001b[1;32m     93\u001b[0m                 \u001b[0mhistory\u001b[0m\u001b[0;34m[\u001b[0m\u001b[0;34m'val_sparse_categorical_accuracy'\u001b[0m\u001b[0;34m]\u001b[0m\u001b[0;34m.\u001b[0m\u001b[0mappend\u001b[0m\u001b[0;34m(\u001b[0m\u001b[0mvalid_accuracy\u001b[0m\u001b[0;34m.\u001b[0m\u001b[0mresult\u001b[0m\u001b[0;34m(\u001b[0m\u001b[0;34m)\u001b[0m\u001b[0;34m.\u001b[0m\u001b[0mnumpy\u001b[0m\u001b[0;34m(\u001b[0m\u001b[0;34m)\u001b[0m\u001b[0;34m)\u001b[0m\u001b[0;34m\u001b[0m\u001b[0m\n\u001b[1;32m     94\u001b[0m                 \u001b[0mhistory\u001b[0m\u001b[0;34m[\u001b[0m\u001b[0;34m'loss'\u001b[0m\u001b[0;34m]\u001b[0m\u001b[0;34m.\u001b[0m\u001b[0mappend\u001b[0m\u001b[0;34m(\u001b[0m\u001b[0mtrain_loss\u001b[0m\u001b[0;34m.\u001b[0m\u001b[0mresult\u001b[0m\u001b[0;34m(\u001b[0m\u001b[0;34m)\u001b[0m\u001b[0;34m.\u001b[0m\u001b[0mnumpy\u001b[0m\u001b[0;34m(\u001b[0m\u001b[0;34m)\u001b[0m \u001b[0;34m/\u001b[0m \u001b[0;34m(\u001b[0m\u001b[0mBATCH_SIZE\u001b[0m\u001b[0;34m*\u001b[0m\u001b[0mepoch_steps\u001b[0m\u001b[0;34m)\u001b[0m\u001b[0;34m)\u001b[0m\u001b[0;34m\u001b[0m\u001b[0m\n",
      "\u001b[0;32m/opt/conda/lib/python3.6/site-packages/tensorflow_core/python/framework/ops.py\u001b[0m in \u001b[0;36mnumpy\u001b[0;34m(self)\u001b[0m\n\u001b[1;32m    940\u001b[0m     \"\"\"\n\u001b[1;32m    941\u001b[0m     \u001b[0;31m# TODO(slebedev): Consider avoiding a copy for non-CPU or remote tensors.\u001b[0m\u001b[0;34m\u001b[0m\u001b[0;34m\u001b[0m\u001b[0m\n\u001b[0;32m--> 942\u001b[0;31m     \u001b[0mmaybe_arr\u001b[0m \u001b[0;34m=\u001b[0m \u001b[0mself\u001b[0m\u001b[0;34m.\u001b[0m\u001b[0m_numpy\u001b[0m\u001b[0;34m(\u001b[0m\u001b[0;34m)\u001b[0m  \u001b[0;31m# pylint: disable=protected-access\u001b[0m\u001b[0;34m\u001b[0m\u001b[0m\n\u001b[0m\u001b[1;32m    943\u001b[0m     \u001b[0;32mreturn\u001b[0m \u001b[0mmaybe_arr\u001b[0m\u001b[0;34m.\u001b[0m\u001b[0mcopy\u001b[0m\u001b[0;34m(\u001b[0m\u001b[0;34m)\u001b[0m \u001b[0;32mif\u001b[0m \u001b[0misinstance\u001b[0m\u001b[0;34m(\u001b[0m\u001b[0mmaybe_arr\u001b[0m\u001b[0;34m,\u001b[0m \u001b[0mnp\u001b[0m\u001b[0;34m.\u001b[0m\u001b[0mndarray\u001b[0m\u001b[0;34m)\u001b[0m \u001b[0;32melse\u001b[0m \u001b[0mmaybe_arr\u001b[0m\u001b[0;34m\u001b[0m\u001b[0m\n\u001b[1;32m    944\u001b[0m \u001b[0;34m\u001b[0m\u001b[0m\n",
      "\u001b[0;32m/opt/conda/lib/python3.6/site-packages/tensorflow_core/python/framework/ops.py\u001b[0m in \u001b[0;36m_numpy\u001b[0;34m(self)\u001b[0m\n\u001b[1;32m    908\u001b[0m       \u001b[0;32mreturn\u001b[0m \u001b[0mself\u001b[0m\u001b[0;34m.\u001b[0m\u001b[0m_numpy_internal\u001b[0m\u001b[0;34m(\u001b[0m\u001b[0;34m)\u001b[0m\u001b[0;34m\u001b[0m\u001b[0m\n\u001b[1;32m    909\u001b[0m     \u001b[0;32mexcept\u001b[0m \u001b[0mcore\u001b[0m\u001b[0;34m.\u001b[0m\u001b[0m_NotOkStatusException\u001b[0m \u001b[0;32mas\u001b[0m \u001b[0me\u001b[0m\u001b[0;34m:\u001b[0m\u001b[0;34m\u001b[0m\u001b[0m\n\u001b[0;32m--> 910\u001b[0;31m       \u001b[0msix\u001b[0m\u001b[0;34m.\u001b[0m\u001b[0mraise_from\u001b[0m\u001b[0;34m(\u001b[0m\u001b[0mcore\u001b[0m\u001b[0;34m.\u001b[0m\u001b[0m_status_to_exception\u001b[0m\u001b[0;34m(\u001b[0m\u001b[0me\u001b[0m\u001b[0;34m.\u001b[0m\u001b[0mcode\u001b[0m\u001b[0;34m,\u001b[0m \u001b[0me\u001b[0m\u001b[0;34m.\u001b[0m\u001b[0mmessage\u001b[0m\u001b[0;34m)\u001b[0m\u001b[0;34m,\u001b[0m \u001b[0;32mNone\u001b[0m\u001b[0;34m)\u001b[0m\u001b[0;34m\u001b[0m\u001b[0m\n\u001b[0m\u001b[1;32m    911\u001b[0m \u001b[0;34m\u001b[0m\u001b[0m\n\u001b[1;32m    912\u001b[0m   \u001b[0;34m@\u001b[0m\u001b[0mproperty\u001b[0m\u001b[0;34m\u001b[0m\u001b[0m\n",
      "\u001b[0;32m/opt/conda/lib/python3.6/site-packages/six.py\u001b[0m in \u001b[0;36mraise_from\u001b[0;34m(value, from_value)\u001b[0m\n",
      "\u001b[0;31mUnavailableError\u001b[0m: Socket closed\nAdditional GRPC error information:\n{\"created\":\"@1584660215.390218670\",\"description\":\"Error received from peer\",\"file\":\"external/grpc/src/core/lib/surface/call.cc\",\"file_line\":1039,\"grpc_message\":\"Socket closed\",\"grpc_status\":14}"
     ]
    }
   ],
   "source": [
    "model_path_list = []\n",
    "kfold = KFold(N_FOLDS, shuffle=True, random_state=seed)\n",
    "for n_fold, (trn_ind, val_ind) in enumerate(kfold.split(TRAINING_FILENAMES)):\n",
    "    if n_fold < FOLDS_USED:\n",
    "        print(f'##### FOLD {n_fold} #####')    \n",
    "        ### Data\n",
    "        fold_train_filenames = np.asarray(TRAINING_FILENAMES)[trn_ind]\n",
    "        fold_valid_filenames = np.asarray(TRAINING_FILENAMES)[val_ind]\n",
    "        train_size = count_data_items(fold_train_filenames)\n",
    "        validation_size = count_data_items(fold_valid_filenames)\n",
    "        \n",
    "        # distribute the datset according to the strategy\n",
    "        train_dist_ds = strategy.experimental_distribute_dataset(get_training_dataset(fold_train_filenames))\n",
    "        # Hitting End Of Dataset exceptions is a problem in this setup. Using a repeated validation set instead.\n",
    "        # This will introduce a slight inaccuracy because the validation dataset now has some repeated elements.\n",
    "        valid_dist_ds = strategy.experimental_distribute_dataset(get_validation_dataset(fold_valid_filenames, repeated=True))\n",
    "        \n",
    "        train_data_iter = iter(train_dist_ds) # the training data iterator is repeated and it is not reset\n",
    "                                              # for each validation run (same as model.fit)\n",
    "        valid_data_iter = iter(valid_dist_ds) # the validation data iterator is repeated and it is not reset\n",
    "                                              # for each validation run (different from model.fit whre the  \n",
    "                                              # recommendation is to use a non-repeating validation dataset)\n",
    "                                              # recommendation is to use a non-repeating validation dataset)\n",
    "\n",
    "        STEPS_PER_TPU_CALL = STEPS_PER_EPOCH = train_size//BATCH_SIZE\n",
    "        VALIDATION_STEPS_PER_TPU_CALL = validation_size//BATCH_SIZE\n",
    "        \n",
    "        # Step functions (must be called everytime for each fold)\n",
    "        @tf.function\n",
    "        def train_step(data_iter):\n",
    "            def train_step_fn(images, labels):\n",
    "                with tf.GradientTape() as tape:\n",
    "                    probabilities = model(images, training=True)\n",
    "                    loss = loss_fn(labels, probabilities)\n",
    "                grads = tape.gradient(loss, model.trainable_variables)\n",
    "                optimizer.apply_gradients(zip(grads, model.trainable_variables))\n",
    "                train_accuracy.update_state(labels, probabilities)\n",
    "                train_loss.update_state(loss)\n",
    "            for _ in tf.range(STEPS_PER_TPU_CALL):\n",
    "                strategy.experimental_run_v2(train_step_fn, next(data_iter))\n",
    "\n",
    "        @tf.function\n",
    "        def valid_step(data_iter):\n",
    "            def valid_step_fn(images, labels):\n",
    "                probabilities = model(images, training=False)\n",
    "                loss = loss_fn(labels, probabilities)\n",
    "                valid_accuracy.update_state(labels, probabilities)\n",
    "                valid_loss.update_state(loss)\n",
    "            for _ in tf.range(VALIDATION_STEPS_PER_TPU_CALL):\n",
    "                strategy.experimental_run_v2(valid_step_fn, next(data_iter))\n",
    "        \n",
    "        ### Model\n",
    "        model_path = 'model_%sx%s_fold_%d.h5' % (HEIGHT, WIDTH, (n_fold+1))\n",
    "        with strategy.scope():\n",
    "            model = create_model((None, None, CHANNELS), N_CLASSES)\n",
    "            \n",
    "            # Instiate optimizer with learning rate schedule\n",
    "            class LRSchedule(optimizers.schedules.LearningRateSchedule):\n",
    "                def __call__(self, step):\n",
    "                    return lrfn(epoch=step//STEPS_PER_EPOCH)\n",
    "            optimizer = optimizers.Adam(learning_rate=LRSchedule())\n",
    "            \n",
    "            train_accuracy = metrics.SparseCategoricalAccuracy()\n",
    "            valid_accuracy = metrics.SparseCategoricalAccuracy()\n",
    "            train_loss = metrics.Sum()\n",
    "            valid_loss = metrics.Sum()\n",
    "\n",
    "            loss_fn = losses.sparse_categorical_crossentropy\n",
    "\n",
    "        step = 0\n",
    "        epoch = 0\n",
    "        epoch_steps = 0\n",
    "        epoch_start_time = time.time()\n",
    "        history = {'loss': [], 'val_loss': [], 'sparse_categorical_accuracy': [], 'val_sparse_categorical_accuracy': []}\n",
    "        \n",
    "        ### Train model\n",
    "        while True:\n",
    "            # run training step\n",
    "            train_step(train_data_iter)\n",
    "            epoch_steps += STEPS_PER_TPU_CALL\n",
    "            step += STEPS_PER_TPU_CALL\n",
    "\n",
    "            # validation run at the end of each epoch\n",
    "            if (step // STEPS_PER_EPOCH) > epoch:\n",
    "                # validation run\n",
    "                valid_epoch_steps = 0\n",
    "                for _ in range(int_div_round_up(validation_size, BATCH_SIZE*VALIDATION_STEPS_PER_TPU_CALL)):\n",
    "                    valid_step(valid_data_iter)\n",
    "                    valid_epoch_steps += VALIDATION_STEPS_PER_TPU_CALL\n",
    "\n",
    "                # compute metrics\n",
    "                history['sparse_categorical_accuracy'].append(train_accuracy.result().numpy())\n",
    "                history['val_sparse_categorical_accuracy'].append(valid_accuracy.result().numpy())\n",
    "                history['loss'].append(train_loss.result().numpy() / (BATCH_SIZE*epoch_steps))\n",
    "                history['val_loss'].append(valid_loss.result().numpy() / (BATCH_SIZE*valid_epoch_steps))\n",
    "\n",
    "                # report metrics\n",
    "                epoch_time = time.time() - epoch_start_time\n",
    "                print('\\nEPOCH {:d}/{:d}'.format(epoch+1, EPOCHS))\n",
    "                print('time: {:0.1f}s'.format(epoch_time),\n",
    "                      'loss: {:0.4f}'.format(history['loss'][-1]),\n",
    "                      'sparse_categorical_accuracy: {:0.4f}'.format(history['sparse_categorical_accuracy'][-1]),\n",
    "                      'val_loss: {:0.4f}'.format(history['val_loss'][-1]),\n",
    "                      'val_sparse_categorical_accuracy: {:0.4f}'.format(history['val_sparse_categorical_accuracy'][-1]))\n",
    "                print('LearningRate: {:0.4g}'.format(lrfn(epoch)))\n",
    "\n",
    "                # set up next epoch\n",
    "                epoch = step // STEPS_PER_EPOCH\n",
    "                epoch_steps = 0\n",
    "                epoch_start_time = time.time()\n",
    "                train_accuracy.reset_states()\n",
    "                valid_accuracy.reset_states()\n",
    "                valid_loss.reset_states()\n",
    "                train_loss.reset_states()\n",
    "                if epoch >= EPOCHS:\n",
    "                    break\n",
    "                    \n",
    "        model_path_list.append(model_path)\n",
    "        model.save(model_path)"
   ]
  },
  {
   "cell_type": "markdown",
   "metadata": {},
   "source": [
    "# Make predictions"
   ]
  },
  {
   "cell_type": "code",
   "execution_count": 10,
   "metadata": {
    "_kg_hide-input": true
   },
   "outputs": [],
   "source": [
    "# Test predictions\n",
    "x_test = test_dataset.map(lambda image, idnum: image)\n",
    "test_preds = np.zeros((NUM_TEST_IMAGES, N_CLASSES))\n",
    "\n",
    "for model_path in model_path_list:\n",
    "    print(model_path)\n",
    "    with strategy.scope():\n",
    "        model = load_model(model_path)\n",
    "                    \n",
    "    test_preds += model.predict(x_test) / FOLDS_USED\n",
    "    \n",
    "test_preds = np.argmax(test_preds, axis=-1)"
   ]
  },
  {
   "cell_type": "markdown",
   "metadata": {},
   "source": [
    "# Test set predictions"
   ]
  },
  {
   "cell_type": "code",
   "execution_count": 11,
   "metadata": {
    "_kg_hide-input": true
   },
   "outputs": [
    {
     "ename": "InvalidArgumentError",
     "evalue": "Unable to find a context_id matching the specified one (8264415813418159559). Perhaps the worker was restarted, or the context was GC'd?",
     "output_type": "error",
     "traceback": [
      "\u001b[0;31m---------------------------------------------------------------------------\u001b[0m",
      "\u001b[0;31mInvalidArgumentError\u001b[0m                      Traceback (most recent call last)",
      "\u001b[0;32m<ipython-input-11-e64250af481a>\u001b[0m in \u001b[0;36m<module>\u001b[0;34m\u001b[0m\n\u001b[1;32m      1\u001b[0m \u001b[0mtest_ids_ds\u001b[0m \u001b[0;34m=\u001b[0m \u001b[0mtest_dataset\u001b[0m\u001b[0;34m.\u001b[0m\u001b[0mmap\u001b[0m\u001b[0;34m(\u001b[0m\u001b[0;32mlambda\u001b[0m \u001b[0mimage\u001b[0m\u001b[0;34m,\u001b[0m \u001b[0midnum\u001b[0m\u001b[0;34m:\u001b[0m \u001b[0midnum\u001b[0m\u001b[0;34m)\u001b[0m\u001b[0;34m.\u001b[0m\u001b[0munbatch\u001b[0m\u001b[0;34m(\u001b[0m\u001b[0;34m)\u001b[0m\u001b[0;34m\u001b[0m\u001b[0m\n\u001b[0;32m----> 2\u001b[0;31m \u001b[0mtest_ids\u001b[0m \u001b[0;34m=\u001b[0m \u001b[0mnext\u001b[0m\u001b[0;34m(\u001b[0m\u001b[0miter\u001b[0m\u001b[0;34m(\u001b[0m\u001b[0mtest_ids_ds\u001b[0m\u001b[0;34m.\u001b[0m\u001b[0mbatch\u001b[0m\u001b[0;34m(\u001b[0m\u001b[0mNUM_TEST_IMAGES\u001b[0m\u001b[0;34m)\u001b[0m\u001b[0;34m)\u001b[0m\u001b[0;34m)\u001b[0m\u001b[0;34m.\u001b[0m\u001b[0mnumpy\u001b[0m\u001b[0;34m(\u001b[0m\u001b[0;34m)\u001b[0m\u001b[0;34m.\u001b[0m\u001b[0mastype\u001b[0m\u001b[0;34m(\u001b[0m\u001b[0;34m'U'\u001b[0m\u001b[0;34m)\u001b[0m\u001b[0;34m\u001b[0m\u001b[0m\n\u001b[0m\u001b[1;32m      3\u001b[0m \u001b[0;34m\u001b[0m\u001b[0m\n\u001b[1;32m      4\u001b[0m \u001b[0msubmission\u001b[0m \u001b[0;34m=\u001b[0m \u001b[0mpd\u001b[0m\u001b[0;34m.\u001b[0m\u001b[0mDataFrame\u001b[0m\u001b[0;34m(\u001b[0m\u001b[0mtest_ids\u001b[0m\u001b[0;34m,\u001b[0m \u001b[0mcolumns\u001b[0m\u001b[0;34m=\u001b[0m\u001b[0;34m[\u001b[0m\u001b[0;34m'id'\u001b[0m\u001b[0;34m]\u001b[0m\u001b[0;34m)\u001b[0m\u001b[0;34m\u001b[0m\u001b[0m\n\u001b[1;32m      5\u001b[0m \u001b[0msubmission\u001b[0m\u001b[0;34m[\u001b[0m\u001b[0;34m'label'\u001b[0m\u001b[0;34m]\u001b[0m \u001b[0;34m=\u001b[0m \u001b[0mtest_preds\u001b[0m\u001b[0;34m\u001b[0m\u001b[0m\n",
      "\u001b[0;32m/opt/conda/lib/python3.6/site-packages/tensorflow_core/python/data/ops/dataset_ops.py\u001b[0m in \u001b[0;36mbatch\u001b[0;34m(self, batch_size, drop_remainder)\u001b[0m\n\u001b[1;32m   1379\u001b[0m       \u001b[0mDataset\u001b[0m\u001b[0;34m:\u001b[0m \u001b[0mA\u001b[0m\u001b[0;31m \u001b[0m\u001b[0;31m`\u001b[0m\u001b[0mDataset\u001b[0m\u001b[0;31m`\u001b[0m\u001b[0;34m.\u001b[0m\u001b[0;34m\u001b[0m\u001b[0m\n\u001b[1;32m   1380\u001b[0m     \"\"\"\n\u001b[0;32m-> 1381\u001b[0;31m     \u001b[0;32mreturn\u001b[0m \u001b[0mBatchDataset\u001b[0m\u001b[0;34m(\u001b[0m\u001b[0mself\u001b[0m\u001b[0;34m,\u001b[0m \u001b[0mbatch_size\u001b[0m\u001b[0;34m,\u001b[0m \u001b[0mdrop_remainder\u001b[0m\u001b[0;34m)\u001b[0m\u001b[0;34m\u001b[0m\u001b[0m\n\u001b[0m\u001b[1;32m   1382\u001b[0m \u001b[0;34m\u001b[0m\u001b[0m\n\u001b[1;32m   1383\u001b[0m   def padded_batch(self,\n",
      "\u001b[0;32m/opt/conda/lib/python3.6/site-packages/tensorflow_core/python/data/ops/dataset_ops.py\u001b[0m in \u001b[0;36m__init__\u001b[0;34m(self, input_dataset, batch_size, drop_remainder)\u001b[0m\n\u001b[1;32m   3601\u001b[0m         drop_remainder, dtype=dtypes.bool, name=\"drop_remainder\")\n\u001b[1;32m   3602\u001b[0m \u001b[0;34m\u001b[0m\u001b[0m\n\u001b[0;32m-> 3603\u001b[0;31m     \u001b[0mconstant_drop_remainder\u001b[0m \u001b[0;34m=\u001b[0m \u001b[0mtensor_util\u001b[0m\u001b[0;34m.\u001b[0m\u001b[0mconstant_value\u001b[0m\u001b[0;34m(\u001b[0m\u001b[0mself\u001b[0m\u001b[0;34m.\u001b[0m\u001b[0m_drop_remainder\u001b[0m\u001b[0;34m)\u001b[0m\u001b[0;34m\u001b[0m\u001b[0m\n\u001b[0m\u001b[1;32m   3604\u001b[0m     \u001b[0;31m# pylint: disable=protected-access\u001b[0m\u001b[0;34m\u001b[0m\u001b[0;34m\u001b[0m\u001b[0m\n\u001b[1;32m   3605\u001b[0m     \u001b[0;32mif\u001b[0m \u001b[0mconstant_drop_remainder\u001b[0m\u001b[0;34m:\u001b[0m\u001b[0;34m\u001b[0m\u001b[0m\n",
      "\u001b[0;32m/opt/conda/lib/python3.6/site-packages/tensorflow_core/python/framework/tensor_util.py\u001b[0m in \u001b[0;36mconstant_value\u001b[0;34m(tensor, partial)\u001b[0m\n\u001b[1;32m    820\u001b[0m   \"\"\"\n\u001b[1;32m    821\u001b[0m   \u001b[0;32mif\u001b[0m \u001b[0misinstance\u001b[0m\u001b[0;34m(\u001b[0m\u001b[0mtensor\u001b[0m\u001b[0;34m,\u001b[0m \u001b[0mops\u001b[0m\u001b[0;34m.\u001b[0m\u001b[0mEagerTensor\u001b[0m\u001b[0;34m)\u001b[0m\u001b[0;34m:\u001b[0m\u001b[0;34m\u001b[0m\u001b[0m\n\u001b[0;32m--> 822\u001b[0;31m     \u001b[0;32mreturn\u001b[0m \u001b[0mtensor\u001b[0m\u001b[0;34m.\u001b[0m\u001b[0mnumpy\u001b[0m\u001b[0;34m(\u001b[0m\u001b[0;34m)\u001b[0m\u001b[0;34m\u001b[0m\u001b[0m\n\u001b[0m\u001b[1;32m    823\u001b[0m   \u001b[0;32mif\u001b[0m \u001b[0;32mnot\u001b[0m \u001b[0mis_tensor\u001b[0m\u001b[0;34m(\u001b[0m\u001b[0mtensor\u001b[0m\u001b[0;34m)\u001b[0m\u001b[0;34m:\u001b[0m\u001b[0;34m\u001b[0m\u001b[0m\n\u001b[1;32m    824\u001b[0m     \u001b[0;32mreturn\u001b[0m \u001b[0mtensor\u001b[0m\u001b[0;34m\u001b[0m\u001b[0m\n",
      "\u001b[0;32m/opt/conda/lib/python3.6/site-packages/tensorflow_core/python/framework/ops.py\u001b[0m in \u001b[0;36mnumpy\u001b[0;34m(self)\u001b[0m\n\u001b[1;32m    940\u001b[0m     \"\"\"\n\u001b[1;32m    941\u001b[0m     \u001b[0;31m# TODO(slebedev): Consider avoiding a copy for non-CPU or remote tensors.\u001b[0m\u001b[0;34m\u001b[0m\u001b[0;34m\u001b[0m\u001b[0m\n\u001b[0;32m--> 942\u001b[0;31m     \u001b[0mmaybe_arr\u001b[0m \u001b[0;34m=\u001b[0m \u001b[0mself\u001b[0m\u001b[0;34m.\u001b[0m\u001b[0m_numpy\u001b[0m\u001b[0;34m(\u001b[0m\u001b[0;34m)\u001b[0m  \u001b[0;31m# pylint: disable=protected-access\u001b[0m\u001b[0;34m\u001b[0m\u001b[0m\n\u001b[0m\u001b[1;32m    943\u001b[0m     \u001b[0;32mreturn\u001b[0m \u001b[0mmaybe_arr\u001b[0m\u001b[0;34m.\u001b[0m\u001b[0mcopy\u001b[0m\u001b[0;34m(\u001b[0m\u001b[0;34m)\u001b[0m \u001b[0;32mif\u001b[0m \u001b[0misinstance\u001b[0m\u001b[0;34m(\u001b[0m\u001b[0mmaybe_arr\u001b[0m\u001b[0;34m,\u001b[0m \u001b[0mnp\u001b[0m\u001b[0;34m.\u001b[0m\u001b[0mndarray\u001b[0m\u001b[0;34m)\u001b[0m \u001b[0;32melse\u001b[0m \u001b[0mmaybe_arr\u001b[0m\u001b[0;34m\u001b[0m\u001b[0m\n\u001b[1;32m    944\u001b[0m \u001b[0;34m\u001b[0m\u001b[0m\n",
      "\u001b[0;32m/opt/conda/lib/python3.6/site-packages/tensorflow_core/python/framework/ops.py\u001b[0m in \u001b[0;36m_numpy\u001b[0;34m(self)\u001b[0m\n\u001b[1;32m    908\u001b[0m       \u001b[0;32mreturn\u001b[0m \u001b[0mself\u001b[0m\u001b[0;34m.\u001b[0m\u001b[0m_numpy_internal\u001b[0m\u001b[0;34m(\u001b[0m\u001b[0;34m)\u001b[0m\u001b[0;34m\u001b[0m\u001b[0m\n\u001b[1;32m    909\u001b[0m     \u001b[0;32mexcept\u001b[0m \u001b[0mcore\u001b[0m\u001b[0;34m.\u001b[0m\u001b[0m_NotOkStatusException\u001b[0m \u001b[0;32mas\u001b[0m \u001b[0me\u001b[0m\u001b[0;34m:\u001b[0m\u001b[0;34m\u001b[0m\u001b[0m\n\u001b[0;32m--> 910\u001b[0;31m       \u001b[0msix\u001b[0m\u001b[0;34m.\u001b[0m\u001b[0mraise_from\u001b[0m\u001b[0;34m(\u001b[0m\u001b[0mcore\u001b[0m\u001b[0;34m.\u001b[0m\u001b[0m_status_to_exception\u001b[0m\u001b[0;34m(\u001b[0m\u001b[0me\u001b[0m\u001b[0;34m.\u001b[0m\u001b[0mcode\u001b[0m\u001b[0;34m,\u001b[0m \u001b[0me\u001b[0m\u001b[0;34m.\u001b[0m\u001b[0mmessage\u001b[0m\u001b[0;34m)\u001b[0m\u001b[0;34m,\u001b[0m \u001b[0;32mNone\u001b[0m\u001b[0;34m)\u001b[0m\u001b[0;34m\u001b[0m\u001b[0m\n\u001b[0m\u001b[1;32m    911\u001b[0m \u001b[0;34m\u001b[0m\u001b[0m\n\u001b[1;32m    912\u001b[0m   \u001b[0;34m@\u001b[0m\u001b[0mproperty\u001b[0m\u001b[0;34m\u001b[0m\u001b[0m\n",
      "\u001b[0;32m/opt/conda/lib/python3.6/site-packages/six.py\u001b[0m in \u001b[0;36mraise_from\u001b[0;34m(value, from_value)\u001b[0m\n",
      "\u001b[0;31mInvalidArgumentError\u001b[0m: Unable to find a context_id matching the specified one (8264415813418159559). Perhaps the worker was restarted, or the context was GC'd?"
     ]
    }
   ],
   "source": [
    "test_ids_ds = test_dataset.map(lambda image, idnum: idnum).unbatch()\n",
    "test_ids = next(iter(test_ids_ds.batch(NUM_TEST_IMAGES))).numpy().astype('U')\n",
    "\n",
    "submission = pd.DataFrame(test_ids, columns=['id'])\n",
    "submission['label'] = test_preds\n",
    "submission.to_csv('submission.csv', index=False)\n",
    "display(submission.head(10))"
   ]
  }
 ],
 "metadata": {
  "kernelspec": {
   "display_name": "Python 3",
   "language": "python",
   "name": "python3"
  },
  "language_info": {
   "codemirror_mode": {
    "name": "ipython",
    "version": 3
   },
   "file_extension": ".py",
   "mimetype": "text/x-python",
   "name": "python",
   "nbconvert_exporter": "python",
   "pygments_lexer": "ipython3",
   "version": "3.6.6"
  }
 },
 "nbformat": 4,
 "nbformat_minor": 4
}
