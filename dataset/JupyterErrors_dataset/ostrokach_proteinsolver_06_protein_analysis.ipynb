{
 "cells": [
  {
   "cell_type": "markdown",
   "metadata": {
    "colab_type": "text",
    "id": "t_gnhLD0HvhU",
    "toc-hr-collapsed": true,
    "toc-nb-collapsed": true
   },
   "source": [
    "## Summary\n",
    "\n",
    "In this notebook, we test the accuracy of a network trained to reconstruct protein sequences on the *test dataset*, comprised of sequences of Gene3D domains excluded from the training dataset. We also evaluate the accuracy achieved by the network at predicting the ΔΔG of mutations, a task that this tangential to the objective that the network was trained to optimize.\n",
    "\n",
    "----"
   ]
  },
  {
   "cell_type": "markdown",
   "metadata": {
    "colab_type": "text",
    "id": "eoBMUoW2Hvhp",
    "toc-hr-collapsed": true,
    "toc-nb-collapsed": true
   },
   "source": [
    "## Imports"
   ]
  },
  {
   "cell_type": "code",
   "execution_count": 1,
   "metadata": {
    "colab": {},
    "colab_type": "code",
    "id": "TbKxMUZWHvhq"
   },
   "outputs": [
    {
     "name": "stderr",
     "output_type": "stream",
     "text": [
      "/home/strokach/env/lib/python3.7/site-packages/Bio/KDTree/__init__.py:27: BiopythonDeprecationWarning: Bio.KDTree has been deprecated, and we intend to remove it in a future release of Biopython. Please use Bio.PDB.kdtrees instead, which is functionally very similar.\n",
      "  BiopythonDeprecationWarning,\n",
      "/home/strokach/env/lib/python3.7/site-packages/tensorflow/python/framework/dtypes.py:526: FutureWarning: Passing (type, 1) or '1type' as a synonym of type is deprecated; in a future version of numpy, it will be understood as (type, (1,)) / '(1,)type'.\n",
      "  _np_qint8 = np.dtype([(\"qint8\", np.int8, 1)])\n",
      "/home/strokach/env/lib/python3.7/site-packages/tensorflow/python/framework/dtypes.py:527: FutureWarning: Passing (type, 1) or '1type' as a synonym of type is deprecated; in a future version of numpy, it will be understood as (type, (1,)) / '(1,)type'.\n",
      "  _np_quint8 = np.dtype([(\"quint8\", np.uint8, 1)])\n",
      "/home/strokach/env/lib/python3.7/site-packages/tensorflow/python/framework/dtypes.py:528: FutureWarning: Passing (type, 1) or '1type' as a synonym of type is deprecated; in a future version of numpy, it will be understood as (type, (1,)) / '(1,)type'.\n",
      "  _np_qint16 = np.dtype([(\"qint16\", np.int16, 1)])\n",
      "/home/strokach/env/lib/python3.7/site-packages/tensorflow/python/framework/dtypes.py:529: FutureWarning: Passing (type, 1) or '1type' as a synonym of type is deprecated; in a future version of numpy, it will be understood as (type, (1,)) / '(1,)type'.\n",
      "  _np_quint16 = np.dtype([(\"quint16\", np.uint16, 1)])\n",
      "/home/strokach/env/lib/python3.7/site-packages/tensorflow/python/framework/dtypes.py:530: FutureWarning: Passing (type, 1) or '1type' as a synonym of type is deprecated; in a future version of numpy, it will be understood as (type, (1,)) / '(1,)type'.\n",
      "  _np_qint32 = np.dtype([(\"qint32\", np.int32, 1)])\n",
      "/home/strokach/env/lib/python3.7/site-packages/tensorflow/python/framework/dtypes.py:535: FutureWarning: Passing (type, 1) or '1type' as a synonym of type is deprecated; in a future version of numpy, it will be understood as (type, (1,)) / '(1,)type'.\n",
      "  np_resource = np.dtype([(\"resource\", np.ubyte, 1)])\n"
     ]
    }
   ],
   "source": [
    "import tempfile\n",
    "import time\n",
    "import warnings\n",
    "from collections import deque\n",
    "from contextlib import contextmanager\n",
    "from pathlib import Path\n",
    "\n",
    "import numpy as np\n",
    "import pandas as pd\n",
    "import tqdm\n",
    "\n",
    "import matplotlib as mpl\n",
    "import matplotlib.cm as cm\n",
    "import matplotlib.pyplot as plt\n",
    "import proteinsolver\n",
    "import proteinsolver.datasets\n",
    "import pyarrow as pa\n",
    "import pyarrow.parquet as pq\n",
    "import torch\n",
    "from kmbio import PDB\n",
    "from matplotlib.ticker import FormatStrFormatter\n",
    "from scipy import stats\n",
    "from tensorflow.python.summary.summary_iterator import summary_iterator\n",
    "from torch_geometric.data import DataLoader"
   ]
  },
  {
   "cell_type": "code",
   "execution_count": 2,
   "metadata": {},
   "outputs": [],
   "source": [
    "%matplotlib inline\n",
    "\n",
    "try:\n",
    "    inline_rc\n",
    "except NameError:\n",
    "    inline_rc = mpl.rcParams.copy()\n",
    "    \n",
    "mpl.rcParams.update({\"font.size\": 12})"
   ]
  },
  {
   "cell_type": "markdown",
   "metadata": {},
   "source": [
    "## Parameters"
   ]
  },
  {
   "cell_type": "code",
   "execution_count": 3,
   "metadata": {},
   "outputs": [],
   "source": [
    "UNIQUE_ID = \"191f05de\"  # No attention\n",
    "# UNIQUE_ID = \"0007604c\"  # 5-layer graph-conv with attention, batch_size=1\n",
    "# UNIQUE_ID = \"91fc9ab9\"  # 4-layer graph-conv with attention, batch_size=4"
   ]
  },
  {
   "cell_type": "code",
   "execution_count": 4,
   "metadata": {},
   "outputs": [],
   "source": [
    "BEST_STATE_FILES = {\n",
    "    #\n",
    "    \"191f05de\": \"protein_train/191f05de/e53-s1952148-d93703104.state\"\n",
    "}"
   ]
  },
  {
   "cell_type": "code",
   "execution_count": 5,
   "metadata": {},
   "outputs": [
    {
     "data": {
      "text/plain": [
       "PosixPath('/tmp/strokach/ml_data')"
      ]
     },
     "execution_count": 5,
     "metadata": {},
     "output_type": "execute_result"
    }
   ],
   "source": [
    "DATA_ROOT = Path(tempfile.gettempdir())\n",
    "DATA_ROOT = Path(tempfile.gettempdir()).joinpath(\"ml_data\")\n",
    "DATA_ROOT.mkdir(exist_ok=True)\n",
    "DATA_ROOT"
   ]
  },
  {
   "cell_type": "code",
   "execution_count": 6,
   "metadata": {},
   "outputs": [
    {
     "data": {
      "text/plain": [
       "PosixPath('protein_analysis')"
      ]
     },
     "execution_count": 6,
     "metadata": {},
     "output_type": "execute_result"
    }
   ],
   "source": [
    "NOTEBOOK_NAME = \"protein_analysis\"\n",
    "NOTEBOOK_PATH = Path(NOTEBOOK_NAME)\n",
    "NOTEBOOK_PATH.mkdir(exist_ok=True)\n",
    "NOTEBOOK_PATH"
   ]
  },
  {
   "cell_type": "code",
   "execution_count": 7,
   "metadata": {},
   "outputs": [
    {
     "data": {
      "text/plain": [
       "PosixPath('/home/kimlab1/database_data/datapkg_output_dir')"
      ]
     },
     "execution_count": 7,
     "metadata": {},
     "output_type": "execute_result"
    }
   ],
   "source": [
    "DATAPKG_DATA_DIR = Path(f\"~/datapkg_data_dir\").expanduser().resolve()\n",
    "DATAPKG_DATA_DIR"
   ]
  },
  {
   "cell_type": "code",
   "execution_count": 8,
   "metadata": {},
   "outputs": [
    {
     "data": {
      "text/plain": [
       "device(type='cpu')"
      ]
     },
     "execution_count": 8,
     "metadata": {},
     "output_type": "execute_result"
    }
   ],
   "source": [
    "device = torch.device(\"cuda:0\" if torch.cuda.is_available() else \"cpu\")\n",
    "device"
   ]
  },
  {
   "cell_type": "code",
   "execution_count": 9,
   "metadata": {},
   "outputs": [
    {
     "data": {
      "text/plain": [
       "'/home/kimlab1/database_data/datapkg_output_dir'"
      ]
     },
     "execution_count": 9,
     "metadata": {},
     "output_type": "execute_result"
    }
   ],
   "source": [
    "proteinsolver.settings.data_url = DATAPKG_DATA_DIR.as_posix()\n",
    "proteinsolver.settings.data_url"
   ]
  },
  {
   "cell_type": "markdown",
   "metadata": {
    "colab_type": "text",
    "id": "dsEY3dtLHvhy",
    "toc-hr-collapsed": true,
    "toc-nb-collapsed": true
   },
   "source": [
    "## Load data"
   ]
  },
  {
   "cell_type": "code",
   "execution_count": 10,
   "metadata": {},
   "outputs": [],
   "source": [
    "datasets = {}"
   ]
  },
  {
   "cell_type": "code",
   "execution_count": 11,
   "metadata": {},
   "outputs": [
    {
     "data": {
      "text/plain": [
       "True"
      ]
     },
     "execution_count": 11,
     "metadata": {},
     "output_type": "execute_result"
    }
   ],
   "source": [
    "DATAPKG_DATA_DIR.joinpath(\n",
    "        \"deep-protein-gen\",\n",
    "        \"processed\",\n",
    "        \"validation_data\",\n",
    "        \"part-00000-4f535e50-cdf4-4275-b6b3-a3038f24a1a9-c000.snappy.parquet\",\n",
    "    ).is_file()"
   ]
  },
  {
   "cell_type": "code",
   "execution_count": 12,
   "metadata": {},
   "outputs": [],
   "source": [
    "datasets[\"protein_valid\"] = proteinsolver.datasets.ProteinInMemoryDataset(\n",
    "    root=DATA_ROOT / \"protein_valid\",\n",
    "    subset=\"valid\",\n",
    "    data_url=DATAPKG_DATA_DIR.joinpath(\n",
    "        \"deep-protein-gen\",\n",
    "        \"processed\",\n",
    "        \"validation_data\",\n",
    "        \"part-00000-4f535e50-cdf4-4275-b6b3-a3038f24a1a9-c000.snappy.parquet\",\n",
    "    ).as_posix(),\n",
    ")"
   ]
  },
  {
   "cell_type": "code",
   "execution_count": 13,
   "metadata": {},
   "outputs": [],
   "source": [
    "datasets[\"protein_test\"] = proteinsolver.datasets.ProteinInMemoryDataset(\n",
    "    root=DATA_ROOT / \"protein_test\",\n",
    "    subset=\"test\",\n",
    "    data_url=DATAPKG_DATA_DIR.joinpath(\n",
    "        \"deep-protein-gen\",\n",
    "        \"processed\",\n",
    "        \"validation_data\",\n",
    "        \"part-00000-4f535e50-cdf4-4275-b6b3-a3038f24a1a9-c000.snappy.parquet\",\n",
    "    ).as_posix(),\n",
    ")"
   ]
  },
  {
   "cell_type": "markdown",
   "metadata": {},
   "source": [
    "### Protherm"
   ]
  },
  {
   "cell_type": "code",
   "execution_count": 14,
   "metadata": {},
   "outputs": [],
   "source": [
    "file = DATAPKG_DATA_DIR.joinpath(\"deep-protein-gen/datasets-test/protherm/protherm.parquet\").as_posix()\n",
    "\n",
    "extra_columns = [\"qseq\", \"residue_idx_1_corrected\", \"residue_idx_2_corrected\", \"distances\"]\n",
    "extra_column_renames = {\n",
    "    \"qseq\": \"sequence\",\n",
    "    \"residue_idx_1_corrected\": \"row_index\",\n",
    "    \"residue_idx_2_corrected\": \"col_index\",\n",
    "}\n",
    "protherm_dataset = proteinsolver.datasets.ProteinInMemoryDataset(\n",
    "    root=DATA_ROOT / \"protherm\",\n",
    "    subset=\"\",\n",
    "    data_url=file,\n",
    "    extra_columns=extra_columns,\n",
    "    extra_column_renames=extra_column_renames,\n",
    ")\n",
    "protherm_df = pq.read_table(file).to_pandas()"
   ]
  },
  {
   "cell_type": "code",
   "execution_count": 15,
   "metadata": {},
   "outputs": [
    {
     "data": {
      "text/plain": [
       "Data(Index=[1], edge_attr=[7356, 2], edge_index=[2, 7356], x=[162])"
      ]
     },
     "execution_count": 15,
     "metadata": {},
     "output_type": "execute_result"
    }
   ],
   "source": [
    "protherm_dataset[0]"
   ]
  },
  {
   "cell_type": "code",
   "execution_count": 16,
   "metadata": {},
   "outputs": [
    {
     "data": {
      "text/html": [
       "<div>\n",
       "<style scoped>\n",
       "    .dataframe tbody tr th:only-of-type {\n",
       "        vertical-align: middle;\n",
       "    }\n",
       "\n",
       "    .dataframe tbody tr th {\n",
       "        vertical-align: top;\n",
       "    }\n",
       "\n",
       "    .dataframe thead th {\n",
       "        text-align: right;\n",
       "    }\n",
       "</style>\n",
       "<table border=\"1\" class=\"dataframe\">\n",
       "  <thead>\n",
       "    <tr style=\"text-align: right;\">\n",
       "      <th></th>\n",
       "      <th>filename_wt</th>\n",
       "      <th>chain_id</th>\n",
       "      <th>mutation</th>\n",
       "      <th>cartesian_ddg_beta_nov15_cart_1</th>\n",
       "      <th>ddg_exp</th>\n",
       "      <th>cartesian_ddg_beta_nov16_cart_1</th>\n",
       "      <th>cartesian_ddg_score12_cart_1</th>\n",
       "      <th>cartesian_ddg_talaris2013_cart_1</th>\n",
       "      <th>cartesian_ddg_talaris2014_cart_1</th>\n",
       "      <th>ddg_monomer_soft_rep_design_1</th>\n",
       "      <th>local_filename_wt</th>\n",
       "      <th>structure_id</th>\n",
       "      <th>model_id</th>\n",
       "      <th>qseq</th>\n",
       "      <th>residue_idx_1_corrected</th>\n",
       "      <th>residue_idx_2_corrected</th>\n",
       "      <th>distances</th>\n",
       "      <th>mutation_matches_sequence</th>\n",
       "      <th>qseq_mutation</th>\n",
       "    </tr>\n",
       "  </thead>\n",
       "  <tbody>\n",
       "    <tr>\n",
       "      <th>0</th>\n",
       "      <td>/home/kimlab2/database_data/biological-data-wa...</td>\n",
       "      <td>A</td>\n",
       "      <td>G44S</td>\n",
       "      <td>-1.808667</td>\n",
       "      <td>-0.53</td>\n",
       "      <td>-0.701</td>\n",
       "      <td>0.088</td>\n",
       "      <td>-0.289667</td>\n",
       "      <td>-0.633667</td>\n",
       "      <td>-2.384</td>\n",
       "      <td>/home/kimlab1/database_data/datapkg/adjacency-...</td>\n",
       "      <td>107l</td>\n",
       "      <td>0</td>\n",
       "      <td>MNIFEMLRIDEGLRLKIYKDTEGYYTIGIGHLLTKSPSLNAAKGEL...</td>\n",
       "      <td>[0, 0, 0, 0, 0, 0, 0, 0, 0, 0, 0, 0, 0, 0, 0, ...</td>\n",
       "      <td>[1, 2, 3, 4, 5, 6, 7, 8, 9, 10, 11, 66, 70, 91...</td>\n",
       "      <td>[1.3463744749991646, 4.7287436401778065, 6.389...</td>\n",
       "      <td>True</td>\n",
       "      <td>MNIFEMLRIDEGLRLKIYKDTEGYYTIGIGHLLTKSPSLNAAKSEL...</td>\n",
       "    </tr>\n",
       "    <tr>\n",
       "      <th>1</th>\n",
       "      <td>/home/kimlab2/database_data/biological-data-wa...</td>\n",
       "      <td>A</td>\n",
       "      <td>A120M</td>\n",
       "      <td>2.617667</td>\n",
       "      <td>-0.20</td>\n",
       "      <td>0.354</td>\n",
       "      <td>0.560</td>\n",
       "      <td>-0.069000</td>\n",
       "      <td>-0.188000</td>\n",
       "      <td>2.472</td>\n",
       "      <td>/home/kimlab1/database_data/datapkg/adjacency-...</td>\n",
       "      <td>160l</td>\n",
       "      <td>0</td>\n",
       "      <td>MNIFEMLRIDEGLRLKIYKDTEGYYTIGIGHLLTKSPSLNAAKSEL...</td>\n",
       "      <td>[0, 0, 0, 0, 0, 0, 0, 0, 0, 0, 0, 0, 0, 0, 0, ...</td>\n",
       "      <td>[1, 2, 3, 4, 5, 6, 7, 8, 9, 10, 66, 70, 91, 92...</td>\n",
       "      <td>[1.345760255620924, 4.727237880524551, 6.42311...</td>\n",
       "      <td>True</td>\n",
       "      <td>MNIFEMLRIDEGLRLKIYKDTEGYYTIGIGHLLTKSPSLNAAKSEL...</td>\n",
       "    </tr>\n",
       "  </tbody>\n",
       "</table>\n",
       "</div>"
      ],
      "text/plain": [
       "                                         filename_wt chain_id mutation  \\\n",
       "0  /home/kimlab2/database_data/biological-data-wa...        A     G44S   \n",
       "1  /home/kimlab2/database_data/biological-data-wa...        A    A120M   \n",
       "\n",
       "   cartesian_ddg_beta_nov15_cart_1  ddg_exp  cartesian_ddg_beta_nov16_cart_1  \\\n",
       "0                        -1.808667    -0.53                           -0.701   \n",
       "1                         2.617667    -0.20                            0.354   \n",
       "\n",
       "   cartesian_ddg_score12_cart_1  cartesian_ddg_talaris2013_cart_1  \\\n",
       "0                         0.088                         -0.289667   \n",
       "1                         0.560                         -0.069000   \n",
       "\n",
       "   cartesian_ddg_talaris2014_cart_1  ddg_monomer_soft_rep_design_1  \\\n",
       "0                         -0.633667                         -2.384   \n",
       "1                         -0.188000                          2.472   \n",
       "\n",
       "                                   local_filename_wt structure_id  model_id  \\\n",
       "0  /home/kimlab1/database_data/datapkg/adjacency-...         107l         0   \n",
       "1  /home/kimlab1/database_data/datapkg/adjacency-...         160l         0   \n",
       "\n",
       "                                                qseq  \\\n",
       "0  MNIFEMLRIDEGLRLKIYKDTEGYYTIGIGHLLTKSPSLNAAKGEL...   \n",
       "1  MNIFEMLRIDEGLRLKIYKDTEGYYTIGIGHLLTKSPSLNAAKSEL...   \n",
       "\n",
       "                             residue_idx_1_corrected  \\\n",
       "0  [0, 0, 0, 0, 0, 0, 0, 0, 0, 0, 0, 0, 0, 0, 0, ...   \n",
       "1  [0, 0, 0, 0, 0, 0, 0, 0, 0, 0, 0, 0, 0, 0, 0, ...   \n",
       "\n",
       "                             residue_idx_2_corrected  \\\n",
       "0  [1, 2, 3, 4, 5, 6, 7, 8, 9, 10, 11, 66, 70, 91...   \n",
       "1  [1, 2, 3, 4, 5, 6, 7, 8, 9, 10, 66, 70, 91, 92...   \n",
       "\n",
       "                                           distances  \\\n",
       "0  [1.3463744749991646, 4.7287436401778065, 6.389...   \n",
       "1  [1.345760255620924, 4.727237880524551, 6.42311...   \n",
       "\n",
       "   mutation_matches_sequence  \\\n",
       "0                       True   \n",
       "1                       True   \n",
       "\n",
       "                                       qseq_mutation  \n",
       "0  MNIFEMLRIDEGLRLKIYKDTEGYYTIGIGHLLTKSPSLNAAKSEL...  \n",
       "1  MNIFEMLRIDEGLRLKIYKDTEGYYTIGIGHLLTKSPSLNAAKSEL...  "
      ]
     },
     "execution_count": 16,
     "metadata": {},
     "output_type": "execute_result"
    }
   ],
   "source": [
    "protherm_df.head(2)"
   ]
  },
  {
   "cell_type": "markdown",
   "metadata": {},
   "source": [
    "## Load model"
   ]
  },
  {
   "cell_type": "code",
   "execution_count": 17,
   "metadata": {},
   "outputs": [],
   "source": [
    "%run protein_train/{UNIQUE_ID}/model.py"
   ]
  },
  {
   "cell_type": "code",
   "execution_count": 18,
   "metadata": {},
   "outputs": [],
   "source": [
    "batch_size = 1\n",
    "num_features = 20\n",
    "adj_input_size = 2\n",
    "hidden_size = 128\n",
    "frac_present = 0.5\n",
    "frac_present_valid = frac_present\n",
    "info_size= 1024"
   ]
  },
  {
   "cell_type": "code",
   "execution_count": 19,
   "metadata": {},
   "outputs": [
    {
     "data": {
      "text/plain": [
       "'protein_train/191f05de/e53-s1952148-d93703104.state'"
      ]
     },
     "execution_count": 19,
     "metadata": {},
     "output_type": "execute_result"
    }
   ],
   "source": [
    "state_file = BEST_STATE_FILES[UNIQUE_ID]\n",
    "state_file"
   ]
  },
  {
   "cell_type": "code",
   "execution_count": 20,
   "metadata": {},
   "outputs": [],
   "source": [
    "net = Net(\n",
    "    x_input_size=num_features + 1, adj_input_size=adj_input_size, hidden_size=hidden_size, output_size=num_features\n",
    ")\n",
    "net.load_state_dict(torch.load(state_file, map_location=device))\n",
    "net.eval()\n",
    "net = net.to(device)"
   ]
  },
  {
   "cell_type": "markdown",
   "metadata": {},
   "source": [
    "## Training plots"
   ]
  },
  {
   "cell_type": "code",
   "execution_count": 48,
   "metadata": {},
   "outputs": [
    {
     "name": "stdout",
     "output_type": "stream",
     "text": [
      "0007604c.xxx  44a43c56.xxx  8a5f95bb.xxx\n",
      "191f05de.xxx  4c3e6ed8.xxx  91fc9ab9.xxx\n"
     ]
    }
   ],
   "source": [
    "!ls protein_train/runs/"
   ]
  },
  {
   "cell_type": "code",
   "execution_count": 19,
   "metadata": {},
   "outputs": [
    {
     "name": "stdout",
     "output_type": "stream",
     "text": [
      "WARNING:tensorflow:From /home/strokach/env/lib/python3.7/site-packages/tensorflow/python/summary/summary_iterator.py:68: tf_record_iterator (from tensorflow.python.lib.io.tf_record) is deprecated and will be removed in a future version.\n",
      "Instructions for updating:\n",
      "Use eager execution and: \n",
      "`tf.data.TFRecordDataset(path)`\n"
     ]
    }
   ],
   "source": [
    "dfs = []\n",
    "\n",
    "for tb_file in Path(f\"protein_train/runs/{UNIQUE_ID}.xxx/\").glob(\"*\"):\n",
    "    data = []\n",
    "    for e in summary_iterator(tb_file.as_posix()):\n",
    "        for v in e.summary.value:\n",
    "            row = (e.step, v.tag, v.simple_value)\n",
    "            data.append(row)\n",
    "            if v.tag == \"accuracy_mv\":\n",
    "                row = (e.step, \"wall_time\", e.wall_time)\n",
    "                data.append(row)\n",
    "    df = (\n",
    "        pd.DataFrame(data, columns=[\"datapoint\", \"tag\", \"simple_value\"])\n",
    "        .pivot(index=\"datapoint\", columns=\"tag\", values=\"simple_value\")\n",
    "        .reset_index()\n",
    "    )\n",
    "    df[\"datapoint\"] = df[\"datapoint\"].astype(np.int)\n",
    "    dfs.append(df)"
   ]
  },
  {
   "cell_type": "code",
   "execution_count": 20,
   "metadata": {},
   "outputs": [
    {
     "name": "stdout",
     "output_type": "stream",
     "text": [
      "28793\n"
     ]
    }
   ],
   "source": [
    "df = pd.concat(dfs, sort=False)\n",
    "print(len(df))"
   ]
  },
  {
   "cell_type": "code",
   "execution_count": 21,
   "metadata": {},
   "outputs": [
    {
     "name": "stdout",
     "output_type": "stream",
     "text": [
      "27784\n"
     ]
    }
   ],
   "source": [
    "df = df.sort_values(\"wall_time\", ascending=False).drop_duplicates(subset=[\"datapoint\"], keep=\"first\").sort_values(\"wall_time\", ascending=True)\n",
    "print(len(df))"
   ]
  },
  {
   "cell_type": "code",
   "execution_count": 22,
   "metadata": {},
   "outputs": [],
   "source": [
    "assert len(df) == len(df[\"datapoint\"].drop_duplicates())"
   ]
  },
  {
   "cell_type": "code",
   "execution_count": 23,
   "metadata": {},
   "outputs": [
    {
     "data": {
      "image/png": "[encoded data removed]",
      "text/plain": [
       "<Figure size 360x288 with 1 Axes>"
      ]
     },
     "metadata": {
      "needs_background": "light"
     },
     "output_type": "display_data"
    }
   ],
   "source": [
    "cmap = cm.get_cmap(\"tab10\")\n",
    "\n",
    "x = df[\"datapoint\"].values\n",
    "accuracy_m_mean, accuracy_m_std = df[\"accuracy_m\"].ewm(com=16, min_periods=0).agg(['mean', 'std']).values.T\n",
    "accuracy_mv_mean, accuracy_mv_std = df[\"accuracy_mv\"].ewm(com=16, min_periods=0).agg(['mean', 'std']).values.T\n",
    "\n",
    "# accuracy_m_std = np.nan_to_num(accuracy_m_std, 0)\n",
    "# accuracy_mv_std = np.nan_to_num(accuracy_mv_std, 0)\n",
    "\n",
    "fg, ax = plt.subplots(figsize=(5, 4))\n",
    "\n",
    "ax.plot(x, accuracy_m_mean, label=\"training\", color=cmap(0))\n",
    "ax.fill_between(x, accuracy_m_mean - accuracy_m_std * 2, accuracy_m_mean + accuracy_m_std * 2, alpha=0.25, color=cmap(0))\n",
    "ax.plot(x, accuracy_mv_mean, label=\"validation\", color=cmap(1))\n",
    "ax.fill_between(x, accuracy_mv_mean - accuracy_mv_std * 2, accuracy_mv_mean + accuracy_mv_std * 2, alpha=0.25, color=cmap(1))\n",
    "\n",
    "# ax.hlines(0.7, 0, df[\"datapoint\"].max(), linestyle='--')\n",
    "ax.legend(loc=\"lower right\")\n",
    "ax.set_xlabel(\"Number of training data points\")\n",
    "ax.set_ylabel(\"Accuracy on missing residues\")\n",
    "ax.yaxis.set_major_formatter(FormatStrFormatter('%.1f'))\n",
    "\n",
    "# ax.set_ylim(0, 0.82)\n",
    "# fg.savefig(NOTEBOOK_PATH / f\"{UNIQUE_ID}-training-curve.svg\", bbox_inches=\"tight\")"
   ]
  },
  {
   "cell_type": "markdown",
   "metadata": {},
   "source": [
    "## Test set sequence identity"
   ]
  },
  {
   "cell_type": "markdown",
   "metadata": {},
   "source": [
    "### Oneshot"
   ]
  },
  {
   "cell_type": "code",
   "execution_count": 28,
   "metadata": {},
   "outputs": [
    {
     "name": "stderr",
     "output_type": "stream",
     "text": [
      "/home/strokach/env/lib/python3.7/site-packages/ipykernel_launcher.py:4: TqdmDeprecationWarning: This function will be removed in tqdm==5.0.0\n",
      "Please use `tqdm.notebook.tqdm` instead of `tqdm.tqdm_notebook`\n",
      "  after removing the cwd from sys.path.\n"
     ]
    },
    {
     "data": {
      "application/vnd.jupyter.widget-view+json": {
       "model_id": "4dfb72e15a204da699b049d15cf9b01d",
       "version_major": 2,
       "version_minor": 0
      },
      "text/plain": [
       "HBox(children=(FloatProgress(value=0.0, max=1283.0), HTML(value='')))"
      ]
     },
     "metadata": {},
     "output_type": "display_data"
    },
    {
     "name": "stdout",
     "output_type": "stream",
     "text": [
      "\n"
     ]
    }
   ],
   "source": [
    "results = []\n",
    "for i, data in enumerate(\n",
    "    tqdm.tqdm_notebook(\n",
    "        DataLoader(datasets[\"protein_test\"], shuffle=False, num_workers=1, batch_size=1, drop_last=False)\n",
    "    )\n",
    "):\n",
    "    data = data.to(device)\n",
    "    data.y = data.x\n",
    "    x_in = torch.ones_like(data.y) * 20\n",
    "    is_missing = torch.ones(data.y.size(0), dtype=torch.bool)\n",
    "    output = net(x_in, data.edge_index, data.edge_attr)\n",
    "    output = torch.softmax(output, dim=1)\n",
    "    _, predicted = output.max(dim=1)\n",
    "    num_correct = float((predicted[is_missing] == data.y[is_missing]).sum())\n",
    "    num_total = float(is_missing.sum())\n",
    "    results.append({\"fraction_correct\": num_correct / num_total, \"num_correct\": num_correct, \"num_total\": num_total})\n",
    "oneshot_results_df = pd.DataFrame(results)"
   ]
  },
  {
   "cell_type": "code",
   "execution_count": 29,
   "metadata": {},
   "outputs": [
    {
     "data": {
      "text/plain": [
       "0.2728685383656129"
      ]
     },
     "execution_count": 29,
     "metadata": {},
     "output_type": "execute_result"
    }
   ],
   "source": [
    "fraction_correct_oneshot = (oneshot_results_df[\"num_correct\"] / oneshot_results_df[\"num_total\"]).mean()\n",
    "fraction_correct_oneshot"
   ]
  },
  {
   "cell_type": "markdown",
   "metadata": {},
   "source": [
    "### Incremental"
   ]
  },
  {
   "cell_type": "code",
   "execution_count": 30,
   "metadata": {},
   "outputs": [],
   "source": [
    "@torch.no_grad()\n",
    "def design_protein(net, x, edge_index, edge_attr):\n",
    "    mask = (x == 20)\n",
    "    if not mask.any():\n",
    "        return x\n",
    "    output = net(x, edge_index, edge_attr)\n",
    "    output = torch.softmax(output, dim=1)\n",
    "    max_pred, max_index = output.max(dim=1)\n",
    "    max_pred[~mask] = -1\n",
    "    _, max_residue = max_pred.max(dim=0)\n",
    "    x[max_residue] = max_index[max_residue]\n",
    "    return design_protein(net, x, edge_index, edge_attr)"
   ]
  },
  {
   "cell_type": "code",
   "execution_count": 31,
   "metadata": {},
   "outputs": [],
   "source": [
    "test_sequence_identity = {}"
   ]
  },
  {
   "cell_type": "code",
   "execution_count": null,
   "metadata": {},
   "outputs": [],
   "source": [
    "for frac_present in [0.0, 0.5, 0.8]:\n",
    "    results = []\n",
    "    for i, data in enumerate(\n",
    "        tqdm.tqdm_notebook(\n",
    "            DataLoader(datasets[\"protein_test\"], shuffle=False, num_workers=1, batch_size=1, drop_last=False)\n",
    "        )\n",
    "    ):\n",
    "        data.to(device)\n",
    "        if frac_present == 0:\n",
    "            is_present = torch.zeros(data.x.size(0), dtype=torch.bool, device=data.x.device)\n",
    "            x_in = torch.ones_like(data.x) * 20\n",
    "        else:\n",
    "            is_present = torch.rand(data.x.size(0), device=data.x.device) < frac_present\n",
    "            x_in = torch.where(is_present, data.x, torch.tensor(20, device=data.x.device))\n",
    "        x_pred = design_protein(net, x_in, data.edge_index, data.edge_attr)\n",
    "        identity_all = float((x_pred == data.x).sum()) / data.x.size(0)\n",
    "        identity_missing = float((x_pred[~is_present] == data.x[~is_present]).sum()) / (~is_present).sum().item()\n",
    "        result = {\n",
    "            \"identity_all\": identity_all,\n",
    "            \"identity_missing\": identity_missing,\n",
    "            \"num_correct\": (x_pred[~is_present] == data.x[~is_present]).sum().item(),\n",
    "            \"num_total\": (~is_present).sum().item(),\n",
    "        }\n",
    "        results.append(result)\n",
    "    test_sequence_identity[frac_present] = pd.DataFrame(results)"
   ]
  },
  {
   "cell_type": "code",
   "execution_count": null,
   "metadata": {},
   "outputs": [],
   "source": [
    "fraction_correct_incremental = (test_sequence_identity[0.0][\"num_correct\"] / test_sequence_identity[0.0][\"num_total\"]).mean()\n",
    "fraction_correct_incremental"
   ]
  },
  {
   "cell_type": "code",
   "execution_count": null,
   "metadata": {},
   "outputs": [],
   "source": [
    "xlim = -0.025, 0.625\n",
    "\n",
    "fg, ax = plt.subplots(figsize=(5, 4))\n",
    "for frac, df in sorted(test_sequence_identity.items()):\n",
    "    data = df[\"identity_missing\"]\n",
    "    data = np.clip(data, *xlim)\n",
    "#         ax.hist(data, bins=30, range=xlim, histtype=\"step\", label=f\"{frac:.0%} missing residues\", linewidth=1.5)\n",
    "    sns.kdeplot(data, gridsize=35, label=f\"{frac:.0%} residues present\")\n",
    "ax.set_ylabel(\"Number of sequences (normalized)\")\n",
    "ax.set_xlabel(\"Sequence identity to reference\")\n",
    "ax.set_xlim(*xlim)\n",
    "# ax.set_ylim(0, 4.2)\n",
    "ax.legend(loc=\"upper left\", framealpha=0.3)\n",
    "fg.tight_layout()\n",
    "fg.savefig(NOTEBOOK_PATH.joinpath(f\"{UNIQUE_ID}-test-incremental-kde.svg\"), bbox_inches=\"tight\")"
   ]
  },
  {
   "cell_type": "code",
   "execution_count": null,
   "metadata": {},
   "outputs": [],
   "source": [
    "fg, ax = plt.subplots(figsize=(5, 4))\n",
    "\n",
    "xlim = -0.025, 0.625\n",
    "\n",
    "data = oneshot_results_df[\"fraction_correct\"]\n",
    "data = np.clip(data, *xlim)\n",
    "ax.hist(\n",
    "    data,\n",
    "    bins=100,\n",
    "    range=xlim,\n",
    "    alpha=0.9,\n",
    "    label=f\"oneshot (accuracy: {fraction_correct_oneshot:.2%})\",\n",
    "    histtype=\"stepfilled\",\n",
    "    linewidth=2,\n",
    "    color=cm.get_cmap(\"Set1\")(1),\n",
    ")\n",
    "# sns.kdeplot(data, gridsize=200, label=\"oneshot\")\n",
    "\n",
    "data = test_sequence_identity[0.0][\"identity_missing\"]\n",
    "data = np.clip(data, *xlim)\n",
    "ax.hist(\n",
    "    data,\n",
    "    bins=100,\n",
    "    range=xlim,\n",
    "    alpha=0.6,\n",
    "    label=f\"incremental (accuracy: {fraction_correct_incremental:.2%})\",\n",
    "    histtype=\"stepfilled\",\n",
    "    linewidth=2,\n",
    "    color=cm.get_cmap(\"Set1\")(0),\n",
    ")\n",
    "# sns.kdeplot(data, gridsize=100, label=\"incremental\")\n",
    "\n",
    "ax.set_ylabel(\"Number of sequences\")\n",
    "ax.set_xlabel(\"Sequence identity to reference\")\n",
    "ax.set_xlim(xlim)\n",
    "# ax.set_ylim(0, 165)\n",
    "\n",
    "ax.legend(framealpha=0.5)\n",
    "\n",
    "fg.tight_layout()\n",
    "fg.savefig(NOTEBOOK_PATH.joinpath(f\"{UNIQUE_ID}-test-oneshot-incremental.svg\"), bbox_inches=\"tight\")"
   ]
  },
  {
   "cell_type": "markdown",
   "metadata": {},
   "source": [
    "## Protherm validation"
   ]
  },
  {
   "cell_type": "code",
   "execution_count": 24,
   "metadata": {},
   "outputs": [],
   "source": [
    "results = []\n",
    "\n",
    "for i, data in enumerate(tqdm.tqdm_notebook(protherm_dataset, total=len(protherm_dataset))):\n",
    "    data = data.to(device)\n",
    "\n",
    "    row = protherm_df.loc[data.Index.item()]\n",
    "    with torch.no_grad():\n",
    "        output = net(data.x, data.edge_index, data.edge_attr)\n",
    "\n",
    "    wt_idx = torch.tensor(proteinsolver.utils.seq_to_tensor(row.mutation[0].encode()), dtype=torch.long, device=device)\n",
    "    mut_idx = torch.tensor(\n",
    "        proteinsolver.utils.seq_to_tensor(row.mutation[-1].encode()), dtype=torch.long, device=device\n",
    "    )\n",
    "    pos = int(row.mutation[1:-1])\n",
    "    x_mut = data.x.clone()\n",
    "    assert x_mut[pos - 1] == wt_idx\n",
    "    x_mut[pos - 1] = mut_idx\n",
    "    with torch.no_grad():\n",
    "        output_mut = net(x_mut, data.edge_index, data.edge_attr)\n",
    "\n",
    "    x_blank = data.x.clone()\n",
    "    assert x_blank[pos - 1] == wt_idx\n",
    "    x_blank[pos - 1] = 20\n",
    "    with torch.no_grad():\n",
    "        output_blank = net(x_blank, data.edge_index, data.edge_attr)\n",
    "\n",
    "    # logproba.scan\n",
    "    scan_wt = proteinsolver.utils.scan_with_mask(net, data.x, data.edge_index, data.edge_attr)\n",
    "    scan_sm_wt = proteinsolver.utils.scan_with_mask(\n",
    "        net, data.x, data.edge_index, data.edge_attr, output_transform=\"proba\"\n",
    "    )\n",
    "    scan_sm_log_wt = proteinsolver.utils.scan_with_mask(\n",
    "        net, data.x, data.edge_index, data.edge_attr, output_transform=\"logproba\"\n",
    "    )\n",
    "    scan_mut = proteinsolver.utils.scan_with_mask(net, x_mut, data.edge_index, data.edge_attr)\n",
    "    scan_sm_mut = proteinsolver.utils.scan_with_mask(\n",
    "        net, x_mut, data.edge_index, data.edge_attr, output_transform=\"proba\"\n",
    "    )\n",
    "    scan_sm_log_mut = proteinsolver.utils.scan_with_mask(\n",
    "        net, x_mut, data.edge_index, data.edge_attr, output_transform=\"logproba\"\n",
    "    )\n",
    "\n",
    "    # logproba.incremental\n",
    "    incremental_wt = proteinsolver.utils.get_node_outputs(net, data.x, data.edge_index, data.edge_attr)\n",
    "    incremental_sm_wt = proteinsolver.utils.get_node_outputs(\n",
    "        net, data.x, data.edge_index, data.edge_attr, output_transform=\"proba\"\n",
    "    )\n",
    "    incremental_sm_log_wt = proteinsolver.utils.get_node_outputs(\n",
    "        net, data.x, data.edge_index, data.edge_attr, output_transform=\"logproba\"\n",
    "    )\n",
    "    incremental_mut = proteinsolver.utils.get_node_outputs(net, x_mut, data.edge_index, data.edge_attr)\n",
    "    incremental_sm_mut = proteinsolver.utils.get_node_outputs(\n",
    "        net, x_mut, data.edge_index, data.edge_attr, output_transform=\"proba\"\n",
    "    )\n",
    "    incremental_sm_log_mut = proteinsolver.utils.get_node_outputs(\n",
    "        net, x_mut, data.edge_index, data.edge_attr, output_transform=\"logproba\"\n",
    "    )\n",
    "\n",
    "    result = {\n",
    "        \"wt_wt\": output[pos - 1, wt_idx].item(),\n",
    "        \"wt_mut\": output[pos - 1, mut_idx].item(),\n",
    "        \"wt_sm_wt\": torch.softmax(output, dim=1)[pos - 1, wt_idx].item(),\n",
    "        \"wt_sm_mut\": torch.softmax(output, dim=1)[pos - 1, mut_idx].item(),\n",
    "        \"wt_sm_log_wt\": torch.softmax(output, dim=1).log()[pos - 1, wt_idx].item(),\n",
    "        \"wt_sm_log_mut\": torch.softmax(output, dim=1).log()[pos - 1, mut_idx].item(),\n",
    "        #\n",
    "        \"mut_wt\": output_mut[pos - 1, wt_idx].item(),\n",
    "        \"mut_mut\": output_mut[pos - 1, mut_idx].item(),\n",
    "        \"mut_sm_wt\": torch.softmax(output_mut, dim=1)[pos - 1, wt_idx].item(),\n",
    "        \"mut_sm_mut\": torch.softmax(output_mut, dim=1)[pos - 1, mut_idx].item(),\n",
    "        \"mut_sm_log_wt\": torch.softmax(output_mut, dim=1).log()[pos - 1, wt_idx].item(),\n",
    "        \"mut_sm_log_mut\": torch.softmax(output_mut, dim=1).log()[pos - 1, mut_idx].item(),\n",
    "        #\n",
    "        \"blank_wt\": output_blank[pos - 1, wt_idx].item(),\n",
    "        \"blank_mut\": output_blank[pos - 1, mut_idx].item(),\n",
    "        \"blank_sm_wt\": torch.softmax(output_blank, dim=1)[pos - 1, wt_idx].item(),\n",
    "        \"blank_sm_mut\": torch.softmax(output_blank, dim=1)[pos - 1, mut_idx].item(),\n",
    "        \"blank_sm_log_wt\": torch.softmax(output_blank, dim=1).log()[pos - 1, wt_idx].item(),\n",
    "        \"blank_sm_log_mut\": torch.softmax(output_blank, dim=1).log()[pos - 1, mut_idx].item(),\n",
    "        #\n",
    "        \"scan_wt\": scan_wt.mean().item(),\n",
    "        \"scan_mut\": scan_mut.mean().item(),\n",
    "        \"scan_sm_wt\": scan_sm_wt.mean().item(),\n",
    "        \"scan_sm_mut\": scan_sm_mut.mean().item(),\n",
    "        \"scan_sm_log_wt\": scan_sm_log_wt.mean().item(),\n",
    "        \"scan_sm_log_mut\": scan_sm_log_mut.mean().item(),\n",
    "        #\n",
    "        \"incremental_wt\": incremental_wt.mean().item(),\n",
    "        \"incremental_mut\": incremental_mut.mean().item(),\n",
    "        \"incremental_sm_wt\": incremental_sm_wt.mean().item(),\n",
    "        \"incremental_sm_mut\": incremental_sm_mut.mean().item(),\n",
    "        \"incremental_sm_log_wt\": incremental_sm_log_wt.mean().item(),\n",
    "        \"incremental_sm_log_mut\": incremental_sm_log_mut.mean().item(),\n",
    "        #\n",
    "        \"ddg_exp\": row.ddg_exp,\n",
    "    }\n",
    "    results.append(result)\n",
    "\n",
    "results_df = pd.DataFrame(results)"
   ]
  },
  {
   "cell_type": "code",
   "execution_count": 24,
   "metadata": {},
   "outputs": [
    {
     "ename": "NameError",
     "evalue": "name 'results_df' is not defined",
     "output_type": "error",
     "traceback": [
      "\u001b[0;31m---------------------------------------------------------------------------\u001b[0m",
      "\u001b[0;31mNameError\u001b[0m                                 Traceback (most recent call last)",
      "\u001b[0;32m<ipython-input-24-dbef2ba383d4>\u001b[0m in \u001b[0;36m<module>\u001b[0;34m\u001b[0m\n\u001b[0;32m----> 1\u001b[0;31m \u001b[0mlen\u001b[0m\u001b[0;34m(\u001b[0m\u001b[0mresults_df\u001b[0m\u001b[0;34m)\u001b[0m\u001b[0;34m\u001b[0m\u001b[0;34m\u001b[0m\u001b[0m\n\u001b[0m",
      "\u001b[0;31mNameError\u001b[0m: name 'results_df' is not defined"
     ]
    }
   ],
   "source": [
    "len(protherm_df)"
   ]
  },
  {
   "cell_type": "code",
   "execution_count": 33,
   "metadata": {},
   "outputs": [],
   "source": [
    "# torch.save(results_df, NOTEBOOK_PATH.joinpath(\"protherm_results.torch\"))"
   ]
  },
  {
   "cell_type": "code",
   "execution_count": 25,
   "metadata": {},
   "outputs": [],
   "source": [
    "results_df = torch.load(NOTEBOOK_PATH.joinpath(\"protherm_results.torch\"))"
   ]
  },
  {
   "cell_type": "code",
   "execution_count": 30,
   "metadata": {},
   "outputs": [
    {
     "data": {
      "text/html": [
       "<div>\n",
       "<style scoped>\n",
       "    .dataframe tbody tr th:only-of-type {\n",
       "        vertical-align: middle;\n",
       "    }\n",
       "\n",
       "    .dataframe tbody tr th {\n",
       "        vertical-align: top;\n",
       "    }\n",
       "\n",
       "    .dataframe thead th {\n",
       "        text-align: right;\n",
       "    }\n",
       "</style>\n",
       "<table border=\"1\" class=\"dataframe\">\n",
       "  <thead>\n",
       "    <tr style=\"text-align: right;\">\n",
       "      <th></th>\n",
       "      <th>filename_wt</th>\n",
       "      <th>chain_id</th>\n",
       "      <th>mutation</th>\n",
       "      <th>cartesian_ddg_beta_nov15_cart_1</th>\n",
       "      <th>ddg_exp</th>\n",
       "      <th>cartesian_ddg_beta_nov16_cart_1</th>\n",
       "      <th>cartesian_ddg_score12_cart_1</th>\n",
       "      <th>cartesian_ddg_talaris2013_cart_1</th>\n",
       "      <th>cartesian_ddg_talaris2014_cart_1</th>\n",
       "      <th>ddg_monomer_soft_rep_design_1</th>\n",
       "      <th>local_filename_wt</th>\n",
       "      <th>structure_id</th>\n",
       "      <th>model_id</th>\n",
       "      <th>qseq</th>\n",
       "      <th>residue_idx_1_corrected</th>\n",
       "      <th>residue_idx_2_corrected</th>\n",
       "      <th>distances</th>\n",
       "      <th>mutation_matches_sequence</th>\n",
       "      <th>qseq_mutation</th>\n",
       "    </tr>\n",
       "  </thead>\n",
       "  <tbody>\n",
       "    <tr>\n",
       "      <th>0</th>\n",
       "      <td>/home/kimlab2/database_data/biological-data-wa...</td>\n",
       "      <td>A</td>\n",
       "      <td>G44S</td>\n",
       "      <td>-1.808667</td>\n",
       "      <td>-0.53</td>\n",
       "      <td>-0.701000</td>\n",
       "      <td>0.088000</td>\n",
       "      <td>-0.289667</td>\n",
       "      <td>-0.633667</td>\n",
       "      <td>-2.384</td>\n",
       "      <td>/home/kimlab1/database_data/datapkg/adjacency-...</td>\n",
       "      <td>107l</td>\n",
       "      <td>0</td>\n",
       "      <td>MNIFEMLRIDEGLRLKIYKDTEGYYTIGIGHLLTKSPSLNAAKGEL...</td>\n",
       "      <td>[0, 0, 0, 0, 0, 0, 0, 0, 0, 0, 0, 0, 0, 0, 0, ...</td>\n",
       "      <td>[1, 2, 3, 4, 5, 6, 7, 8, 9, 10, 11, 66, 70, 91...</td>\n",
       "      <td>[1.3463744749991646, 4.7287436401778065, 6.389...</td>\n",
       "      <td>True</td>\n",
       "      <td>MNIFEMLRIDEGLRLKIYKDTEGYYTIGIGHLLTKSPSLNAAKSEL...</td>\n",
       "    </tr>\n",
       "    <tr>\n",
       "      <th>1</th>\n",
       "      <td>/home/kimlab2/database_data/biological-data-wa...</td>\n",
       "      <td>A</td>\n",
       "      <td>A120M</td>\n",
       "      <td>2.617667</td>\n",
       "      <td>-0.20</td>\n",
       "      <td>0.354000</td>\n",
       "      <td>0.560000</td>\n",
       "      <td>-0.069000</td>\n",
       "      <td>-0.188000</td>\n",
       "      <td>2.472</td>\n",
       "      <td>/home/kimlab1/database_data/datapkg/adjacency-...</td>\n",
       "      <td>160l</td>\n",
       "      <td>0</td>\n",
       "      <td>MNIFEMLRIDEGLRLKIYKDTEGYYTIGIGHLLTKSPSLNAAKSEL...</td>\n",
       "      <td>[0, 0, 0, 0, 0, 0, 0, 0, 0, 0, 0, 0, 0, 0, 0, ...</td>\n",
       "      <td>[1, 2, 3, 4, 5, 6, 7, 8, 9, 10, 66, 70, 91, 92...</td>\n",
       "      <td>[1.345760255620924, 4.727237880524551, 6.42311...</td>\n",
       "      <td>True</td>\n",
       "      <td>MNIFEMLRIDEGLRLKIYKDTEGYYTIGIGHLLTKSPSLNAAKSEL...</td>\n",
       "    </tr>\n",
       "    <tr>\n",
       "      <th>2</th>\n",
       "      <td>/home/kimlab2/database_data/biological-data-wa...</td>\n",
       "      <td>A</td>\n",
       "      <td>A116N</td>\n",
       "      <td>0.502667</td>\n",
       "      <td>0.17</td>\n",
       "      <td>-0.131333</td>\n",
       "      <td>0.419000</td>\n",
       "      <td>0.392000</td>\n",
       "      <td>0.114000</td>\n",
       "      <td>0.652</td>\n",
       "      <td>/home/kimlab1/database_data/datapkg/adjacency-...</td>\n",
       "      <td>161l</td>\n",
       "      <td>0</td>\n",
       "      <td>MNIFEMLRIDEGLRLKIYKDTEGYYTIGIGHLLTKSPSLNAAKSEL...</td>\n",
       "      <td>[0, 0, 0, 0, 0, 0, 0, 0, 0, 0, 0, 0, 0, 0, 0, ...</td>\n",
       "      <td>[1, 2, 3, 4, 5, 6, 7, 8, 9, 10, 11, 28, 66, 70...</td>\n",
       "      <td>[1.3497327388224938, 4.72480284033153, 6.38761...</td>\n",
       "      <td>True</td>\n",
       "      <td>MNIFEMLRIDEGLRLKIYKDTEGYYTIGIGHLLTKSPSLNAAKSEL...</td>\n",
       "    </tr>\n",
       "    <tr>\n",
       "      <th>3</th>\n",
       "      <td>/home/kimlab2/database_data/biological-data-wa...</td>\n",
       "      <td>A</td>\n",
       "      <td>A122Q</td>\n",
       "      <td>1.760333</td>\n",
       "      <td>-0.24</td>\n",
       "      <td>1.999000</td>\n",
       "      <td>3.205667</td>\n",
       "      <td>0.605667</td>\n",
       "      <td>0.508667</td>\n",
       "      <td>12.540</td>\n",
       "      <td>/home/kimlab1/database_data/datapkg/adjacency-...</td>\n",
       "      <td>162l</td>\n",
       "      <td>0</td>\n",
       "      <td>MNIFEMLRIDEGLRLKIYKDTEGYYTIGIGHLLTKSPSLNAAKSEL...</td>\n",
       "      <td>[0, 0, 0, 0, 0, 0, 0, 0, 0, 0, 0, 0, 0, 0, 0, ...</td>\n",
       "      <td>[1, 2, 3, 4, 5, 6, 7, 8, 9, 10, 11, 66, 70, 91...</td>\n",
       "      <td>[1.3505151767500694, 4.763315132476543, 6.4785...</td>\n",
       "      <td>True</td>\n",
       "      <td>MNIFEMLRIDEGLRLKIYKDTEGYYTIGIGHLLTKSPSLNAAKSEL...</td>\n",
       "    </tr>\n",
       "    <tr>\n",
       "      <th>4</th>\n",
       "      <td>/home/kimlab2/database_data/biological-data-wa...</td>\n",
       "      <td>A</td>\n",
       "      <td>A123Q</td>\n",
       "      <td>0.110333</td>\n",
       "      <td>-0.22</td>\n",
       "      <td>-1.153000</td>\n",
       "      <td>1.313000</td>\n",
       "      <td>-0.334333</td>\n",
       "      <td>-0.577667</td>\n",
       "      <td>-3.730</td>\n",
       "      <td>/home/kimlab1/database_data/datapkg/adjacency-...</td>\n",
       "      <td>163l</td>\n",
       "      <td>0</td>\n",
       "      <td>MNIFEMLRIDEGLRLKIYKDTEGYYTIGIGHLLTKSPSLNAAKSEL...</td>\n",
       "      <td>[0, 0, 0, 0, 0, 0, 0, 0, 0, 0, 0, 0, 0, 0, 0, ...</td>\n",
       "      <td>[1, 2, 3, 4, 5, 6, 7, 8, 9, 10, 66, 70, 91, 92...</td>\n",
       "      <td>[1.3461430876707972, 4.734742373580991, 6.4045...</td>\n",
       "      <td>True</td>\n",
       "      <td>MNIFEMLRIDEGLRLKIYKDTEGYYTIGIGHLLTKSPSLNAAKSEL...</td>\n",
       "    </tr>\n",
       "  </tbody>\n",
       "</table>\n",
       "</div>"
      ],
      "text/plain": [
       "                                         filename_wt chain_id mutation  \\\n",
       "0  /home/kimlab2/database_data/biological-data-wa...        A     G44S   \n",
       "1  /home/kimlab2/database_data/biological-data-wa...        A    A120M   \n",
       "2  /home/kimlab2/database_data/biological-data-wa...        A    A116N   \n",
       "3  /home/kimlab2/database_data/biological-data-wa...        A    A122Q   \n",
       "4  /home/kimlab2/database_data/biological-data-wa...        A    A123Q   \n",
       "\n",
       "   cartesian_ddg_beta_nov15_cart_1  ddg_exp  cartesian_ddg_beta_nov16_cart_1  \\\n",
       "0                        -1.808667    -0.53                        -0.701000   \n",
       "1                         2.617667    -0.20                         0.354000   \n",
       "2                         0.502667     0.17                        -0.131333   \n",
       "3                         1.760333    -0.24                         1.999000   \n",
       "4                         0.110333    -0.22                        -1.153000   \n",
       "\n",
       "   cartesian_ddg_score12_cart_1  cartesian_ddg_talaris2013_cart_1  \\\n",
       "0                      0.088000                         -0.289667   \n",
       "1                      0.560000                         -0.069000   \n",
       "2                      0.419000                          0.392000   \n",
       "3                      3.205667                          0.605667   \n",
       "4                      1.313000                         -0.334333   \n",
       "\n",
       "   cartesian_ddg_talaris2014_cart_1  ddg_monomer_soft_rep_design_1  \\\n",
       "0                         -0.633667                         -2.384   \n",
       "1                         -0.188000                          2.472   \n",
       "2                          0.114000                          0.652   \n",
       "3                          0.508667                         12.540   \n",
       "4                         -0.577667                         -3.730   \n",
       "\n",
       "                                   local_filename_wt structure_id  model_id  \\\n",
       "0  /home/kimlab1/database_data/datapkg/adjacency-...         107l         0   \n",
       "1  /home/kimlab1/database_data/datapkg/adjacency-...         160l         0   \n",
       "2  /home/kimlab1/database_data/datapkg/adjacency-...         161l         0   \n",
       "3  /home/kimlab1/database_data/datapkg/adjacency-...         162l         0   \n",
       "4  /home/kimlab1/database_data/datapkg/adjacency-...         163l         0   \n",
       "\n",
       "                                                qseq  \\\n",
       "0  MNIFEMLRIDEGLRLKIYKDTEGYYTIGIGHLLTKSPSLNAAKGEL...   \n",
       "1  MNIFEMLRIDEGLRLKIYKDTEGYYTIGIGHLLTKSPSLNAAKSEL...   \n",
       "2  MNIFEMLRIDEGLRLKIYKDTEGYYTIGIGHLLTKSPSLNAAKSEL...   \n",
       "3  MNIFEMLRIDEGLRLKIYKDTEGYYTIGIGHLLTKSPSLNAAKSEL...   \n",
       "4  MNIFEMLRIDEGLRLKIYKDTEGYYTIGIGHLLTKSPSLNAAKSEL...   \n",
       "\n",
       "                             residue_idx_1_corrected  \\\n",
       "0  [0, 0, 0, 0, 0, 0, 0, 0, 0, 0, 0, 0, 0, 0, 0, ...   \n",
       "1  [0, 0, 0, 0, 0, 0, 0, 0, 0, 0, 0, 0, 0, 0, 0, ...   \n",
       "2  [0, 0, 0, 0, 0, 0, 0, 0, 0, 0, 0, 0, 0, 0, 0, ...   \n",
       "3  [0, 0, 0, 0, 0, 0, 0, 0, 0, 0, 0, 0, 0, 0, 0, ...   \n",
       "4  [0, 0, 0, 0, 0, 0, 0, 0, 0, 0, 0, 0, 0, 0, 0, ...   \n",
       "\n",
       "                             residue_idx_2_corrected  \\\n",
       "0  [1, 2, 3, 4, 5, 6, 7, 8, 9, 10, 11, 66, 70, 91...   \n",
       "1  [1, 2, 3, 4, 5, 6, 7, 8, 9, 10, 66, 70, 91, 92...   \n",
       "2  [1, 2, 3, 4, 5, 6, 7, 8, 9, 10, 11, 28, 66, 70...   \n",
       "3  [1, 2, 3, 4, 5, 6, 7, 8, 9, 10, 11, 66, 70, 91...   \n",
       "4  [1, 2, 3, 4, 5, 6, 7, 8, 9, 10, 66, 70, 91, 92...   \n",
       "\n",
       "                                           distances  \\\n",
       "0  [1.3463744749991646, 4.7287436401778065, 6.389...   \n",
       "1  [1.345760255620924, 4.727237880524551, 6.42311...   \n",
       "2  [1.3497327388224938, 4.72480284033153, 6.38761...   \n",
       "3  [1.3505151767500694, 4.763315132476543, 6.4785...   \n",
       "4  [1.3461430876707972, 4.734742373580991, 6.4045...   \n",
       "\n",
       "   mutation_matches_sequence  \\\n",
       "0                       True   \n",
       "1                       True   \n",
       "2                       True   \n",
       "3                       True   \n",
       "4                       True   \n",
       "\n",
       "                                       qseq_mutation  \n",
       "0  MNIFEMLRIDEGLRLKIYKDTEGYYTIGIGHLLTKSPSLNAAKSEL...  \n",
       "1  MNIFEMLRIDEGLRLKIYKDTEGYYTIGIGHLLTKSPSLNAAKSEL...  \n",
       "2  MNIFEMLRIDEGLRLKIYKDTEGYYTIGIGHLLTKSPSLNAAKSEL...  \n",
       "3  MNIFEMLRIDEGLRLKIYKDTEGYYTIGIGHLLTKSPSLNAAKSEL...  \n",
       "4  MNIFEMLRIDEGLRLKIYKDTEGYYTIGIGHLLTKSPSLNAAKSEL...  "
      ]
     },
     "execution_count": 30,
     "metadata": {},
     "output_type": "execute_result"
    }
   ],
   "source": [
    "protherm_df.head()"
   ]
  },
  {
   "cell_type": "code",
   "execution_count": 26,
   "metadata": {},
   "outputs": [],
   "source": [
    "assert len(results_df) == len(protherm_df)"
   ]
  },
  {
   "cell_type": "code",
   "execution_count": 27,
   "metadata": {},
   "outputs": [],
   "source": [
    "assert (results_df.index == protherm_df.index).all()"
   ]
  },
  {
   "cell_type": "code",
   "execution_count": 35,
   "metadata": {},
   "outputs": [],
   "source": [
    "protherm_wresults_df = pd.concat([protherm_df, results_df.rename(columns={\"ddg_exp\": \"ddg_exp_2\"})], axis=1)"
   ]
  },
  {
   "cell_type": "code",
   "execution_count": 36,
   "metadata": {},
   "outputs": [],
   "source": [
    "assert (protherm_wresults_df[\"ddg_exp\"] == protherm_wresults_df[\"ddg_exp_2\"]).all()"
   ]
  },
  {
   "cell_type": "code",
   "execution_count": 38,
   "metadata": {},
   "outputs": [],
   "source": [
    "del protherm_wresults_df[\"ddg_exp_2\"]"
   ]
  },
  {
   "cell_type": "code",
   "execution_count": 39,
   "metadata": {},
   "outputs": [
    {
     "data": {
      "text/html": [
       "<div>\n",
       "<style scoped>\n",
       "    .dataframe tbody tr th:only-of-type {\n",
       "        vertical-align: middle;\n",
       "    }\n",
       "\n",
       "    .dataframe tbody tr th {\n",
       "        vertical-align: top;\n",
       "    }\n",
       "\n",
       "    .dataframe thead th {\n",
       "        text-align: right;\n",
       "    }\n",
       "</style>\n",
       "<table border=\"1\" class=\"dataframe\">\n",
       "  <thead>\n",
       "    <tr style=\"text-align: right;\">\n",
       "      <th></th>\n",
       "      <th>filename_wt</th>\n",
       "      <th>chain_id</th>\n",
       "      <th>mutation</th>\n",
       "      <th>cartesian_ddg_beta_nov15_cart_1</th>\n",
       "      <th>ddg_exp</th>\n",
       "      <th>cartesian_ddg_beta_nov16_cart_1</th>\n",
       "      <th>cartesian_ddg_score12_cart_1</th>\n",
       "      <th>cartesian_ddg_talaris2013_cart_1</th>\n",
       "      <th>cartesian_ddg_talaris2014_cart_1</th>\n",
       "      <th>ddg_monomer_soft_rep_design_1</th>\n",
       "      <th>...</th>\n",
       "      <th>blank_change</th>\n",
       "      <th>blank_sm_change</th>\n",
       "      <th>wt_mut_change</th>\n",
       "      <th>wt_mut_sm_change</th>\n",
       "      <th>scan_change</th>\n",
       "      <th>scan_sm_change</th>\n",
       "      <th>scan_sm_log_change</th>\n",
       "      <th>incremental_change</th>\n",
       "      <th>incremental_sm_change</th>\n",
       "      <th>incremental_sm_log_change</th>\n",
       "    </tr>\n",
       "  </thead>\n",
       "  <tbody>\n",
       "    <tr>\n",
       "      <th>0</th>\n",
       "      <td>/home/kimlab2/database_data/biological-data-wa...</td>\n",
       "      <td>A</td>\n",
       "      <td>G44S</td>\n",
       "      <td>-1.808667</td>\n",
       "      <td>-0.53</td>\n",
       "      <td>-0.701000</td>\n",
       "      <td>0.088000</td>\n",
       "      <td>-0.289667</td>\n",
       "      <td>-0.633667</td>\n",
       "      <td>-2.384</td>\n",
       "      <td>...</td>\n",
       "      <td>0.973255</td>\n",
       "      <td>0.022096</td>\n",
       "      <td>-5.575768</td>\n",
       "      <td>-0.000003</td>\n",
       "      <td>0.012084</td>\n",
       "      <td>0.000869</td>\n",
       "      <td>0.010134</td>\n",
       "      <td>0.006004</td>\n",
       "      <td>0.000135</td>\n",
       "      <td>0.005919</td>\n",
       "    </tr>\n",
       "    <tr>\n",
       "      <th>1</th>\n",
       "      <td>/home/kimlab2/database_data/biological-data-wa...</td>\n",
       "      <td>A</td>\n",
       "      <td>A120M</td>\n",
       "      <td>2.617667</td>\n",
       "      <td>-0.20</td>\n",
       "      <td>0.354000</td>\n",
       "      <td>0.560000</td>\n",
       "      <td>-0.069000</td>\n",
       "      <td>-0.188000</td>\n",
       "      <td>2.472</td>\n",
       "      <td>...</td>\n",
       "      <td>-2.342890</td>\n",
       "      <td>-0.238818</td>\n",
       "      <td>2.544128</td>\n",
       "      <td>-0.000006</td>\n",
       "      <td>-0.028014</td>\n",
       "      <td>-0.001755</td>\n",
       "      <td>-0.012493</td>\n",
       "      <td>-0.022250</td>\n",
       "      <td>-0.001574</td>\n",
       "      <td>-0.015689</td>\n",
       "    </tr>\n",
       "    <tr>\n",
       "      <th>2</th>\n",
       "      <td>/home/kimlab2/database_data/biological-data-wa...</td>\n",
       "      <td>A</td>\n",
       "      <td>A116N</td>\n",
       "      <td>0.502667</td>\n",
       "      <td>0.17</td>\n",
       "      <td>-0.131333</td>\n",
       "      <td>0.419000</td>\n",
       "      <td>0.392000</td>\n",
       "      <td>0.114000</td>\n",
       "      <td>0.652</td>\n",
       "      <td>...</td>\n",
       "      <td>-1.437747</td>\n",
       "      <td>-0.083779</td>\n",
       "      <td>-0.744164</td>\n",
       "      <td>-0.000010</td>\n",
       "      <td>-0.025267</td>\n",
       "      <td>-0.001827</td>\n",
       "      <td>-0.008965</td>\n",
       "      <td>-0.014738</td>\n",
       "      <td>-0.000584</td>\n",
       "      <td>-0.007784</td>\n",
       "    </tr>\n",
       "    <tr>\n",
       "      <th>3</th>\n",
       "      <td>/home/kimlab2/database_data/biological-data-wa...</td>\n",
       "      <td>A</td>\n",
       "      <td>A122Q</td>\n",
       "      <td>1.760333</td>\n",
       "      <td>-0.24</td>\n",
       "      <td>1.999000</td>\n",
       "      <td>3.205667</td>\n",
       "      <td>0.605667</td>\n",
       "      <td>0.508667</td>\n",
       "      <td>12.540</td>\n",
       "      <td>...</td>\n",
       "      <td>-5.290084</td>\n",
       "      <td>-0.741825</td>\n",
       "      <td>0.841757</td>\n",
       "      <td>0.000002</td>\n",
       "      <td>-0.085311</td>\n",
       "      <td>-0.005899</td>\n",
       "      <td>-0.029683</td>\n",
       "      <td>-0.038967</td>\n",
       "      <td>-0.004397</td>\n",
       "      <td>-0.028937</td>\n",
       "    </tr>\n",
       "    <tr>\n",
       "      <th>4</th>\n",
       "      <td>/home/kimlab2/database_data/biological-data-wa...</td>\n",
       "      <td>A</td>\n",
       "      <td>A123Q</td>\n",
       "      <td>0.110333</td>\n",
       "      <td>-0.22</td>\n",
       "      <td>-1.153000</td>\n",
       "      <td>1.313000</td>\n",
       "      <td>-0.334333</td>\n",
       "      <td>-0.577667</td>\n",
       "      <td>-3.730</td>\n",
       "      <td>...</td>\n",
       "      <td>-0.963735</td>\n",
       "      <td>-0.128742</td>\n",
       "      <td>0.783663</td>\n",
       "      <td>0.000002</td>\n",
       "      <td>-0.012075</td>\n",
       "      <td>-0.001521</td>\n",
       "      <td>-0.002958</td>\n",
       "      <td>-0.001591</td>\n",
       "      <td>-0.001283</td>\n",
       "      <td>-0.002547</td>\n",
       "    </tr>\n",
       "  </tbody>\n",
       "</table>\n",
       "<p>5 rows × 59 columns</p>\n",
       "</div>"
      ],
      "text/plain": [
       "                                         filename_wt chain_id mutation  \\\n",
       "0  /home/kimlab2/database_data/biological-data-wa...        A     G44S   \n",
       "1  /home/kimlab2/database_data/biological-data-wa...        A    A120M   \n",
       "2  /home/kimlab2/database_data/biological-data-wa...        A    A116N   \n",
       "3  /home/kimlab2/database_data/biological-data-wa...        A    A122Q   \n",
       "4  /home/kimlab2/database_data/biological-data-wa...        A    A123Q   \n",
       "\n",
       "   cartesian_ddg_beta_nov15_cart_1  ddg_exp  cartesian_ddg_beta_nov16_cart_1  \\\n",
       "0                        -1.808667    -0.53                        -0.701000   \n",
       "1                         2.617667    -0.20                         0.354000   \n",
       "2                         0.502667     0.17                        -0.131333   \n",
       "3                         1.760333    -0.24                         1.999000   \n",
       "4                         0.110333    -0.22                        -1.153000   \n",
       "\n",
       "   cartesian_ddg_score12_cart_1  cartesian_ddg_talaris2013_cart_1  \\\n",
       "0                      0.088000                         -0.289667   \n",
       "1                      0.560000                         -0.069000   \n",
       "2                      0.419000                          0.392000   \n",
       "3                      3.205667                          0.605667   \n",
       "4                      1.313000                         -0.334333   \n",
       "\n",
       "   cartesian_ddg_talaris2014_cart_1  ddg_monomer_soft_rep_design_1  ...  \\\n",
       "0                         -0.633667                         -2.384  ...   \n",
       "1                         -0.188000                          2.472  ...   \n",
       "2                          0.114000                          0.652  ...   \n",
       "3                          0.508667                         12.540  ...   \n",
       "4                         -0.577667                         -3.730  ...   \n",
       "\n",
       "  blank_change blank_sm_change  wt_mut_change wt_mut_sm_change scan_change  \\\n",
       "0     0.973255        0.022096      -5.575768        -0.000003    0.012084   \n",
       "1    -2.342890       -0.238818       2.544128        -0.000006   -0.028014   \n",
       "2    -1.437747       -0.083779      -0.744164        -0.000010   -0.025267   \n",
       "3    -5.290084       -0.741825       0.841757         0.000002   -0.085311   \n",
       "4    -0.963735       -0.128742       0.783663         0.000002   -0.012075   \n",
       "\n",
       "  scan_sm_change scan_sm_log_change  incremental_change incremental_sm_change  \\\n",
       "0       0.000869           0.010134            0.006004              0.000135   \n",
       "1      -0.001755          -0.012493           -0.022250             -0.001574   \n",
       "2      -0.001827          -0.008965           -0.014738             -0.000584   \n",
       "3      -0.005899          -0.029683           -0.038967             -0.004397   \n",
       "4      -0.001521          -0.002958           -0.001591             -0.001283   \n",
       "\n",
       "   incremental_sm_log_change  \n",
       "0                   0.005919  \n",
       "1                  -0.015689  \n",
       "2                  -0.007784  \n",
       "3                  -0.028937  \n",
       "4                  -0.002547  \n",
       "\n",
       "[5 rows x 59 columns]"
      ]
     },
     "execution_count": 39,
     "metadata": {},
     "output_type": "execute_result"
    }
   ],
   "source": [
    "protherm_wresults_df.head()"
   ]
  },
  {
   "cell_type": "code",
   "execution_count": 40,
   "metadata": {},
   "outputs": [],
   "source": [
    "# torch.save(protherm_wresults_df, NOTEBOOK_PATH.joinpath(\"protherm_wresults.torch\"))"
   ]
  },
  {
   "cell_type": "code",
   "execution_count": 28,
   "metadata": {},
   "outputs": [],
   "source": [
    "results_df[\"scan_sm_log_wt\"] = results_df_bak[\"scan_sm_log_wt\"]\n",
    "results_df[\"scan_sm_log_mut\"] = results_df_bak[\"scan_sm_log_mut\"]"
   ]
  },
  {
   "cell_type": "code",
   "execution_count": 29,
   "metadata": {},
   "outputs": [],
   "source": [
    "results_df[\"blank_change\"] = results_df[\"blank_mut\"] - results_df[\"blank_wt\"]\n",
    "results_df[\"blank_sm_change\"] = results_df[\"blank_sm_mut\"] - results_df[\"blank_sm_wt\"]\n",
    "\n",
    "results_df[\"wt_mut_change\"] = results_df[\"mut_mut\"] - results_df[\"wt_wt\"]\n",
    "results_df[\"wt_mut_sm_change\"] = results_df[\"mut_sm_mut\"] - results_df[\"wt_sm_wt\"]\n",
    "\n",
    "for prefix in [\"scan\", \"scan_sm\", \"scan_sm_log\", \"incremental\", \"incremental_sm\", \"incremental_sm_log\"]:\n",
    "    results_df[f\"{prefix}_change\"] = results_df[f\"{prefix}_mut\"] - results_df[f\"{prefix}_wt\"]"
   ]
  },
  {
   "cell_type": "code",
   "execution_count": 32,
   "metadata": {},
   "outputs": [
    {
     "data": {
      "image/png": "[encoded data removed]",
      "text/plain": [
       "<Figure size 432x324 with 1 Axes>"
      ]
     },
     "metadata": {
      "needs_background": "light"
     },
     "output_type": "display_data"
    }
   ],
   "source": [
    "column = \"scan_sm_log_change\"\n",
    "\n",
    "ddg_change = results_df[column].values\n",
    "ddg_exp = results_df[\"ddg_exp\"].values\n",
    "textstr = \"\"\"\\\n",
    "Pearson R: {:.3f} (p={:.0e})\n",
    "Spearman R: {:.3f} (p={:.0e})\n",
    "\"\"\".format(\n",
    "    *stats.pearsonr(-ddg_change, ddg_exp), *stats.spearmanr(-ddg_change, ddg_exp)\n",
    ").strip()\n",
    "props = dict(facecolor=\"white\", alpha=0.3)\n",
    "\n",
    "with plt.rc_context(rc={\"font.size\": 12}):\n",
    "    fg, ax = plt.subplots(figsize=(6, 4.5))\n",
    "    ax.plot(-ddg_change, ddg_exp, \"r.\", alpha=0.5)\n",
    "    ax.set_xlabel(\"Difference in network outputs\")\n",
    "    ax.set_ylabel(\"ΔΔG (kcal / mol)\")\n",
    "#     ax.set_xlim(-8, 16)\n",
    "    ax.set_ylim(-8, 16)\n",
    "    ax.text(0.04, 0.95, textstr, transform=ax.transAxes, fontsize=\"medium\", verticalalignment=\"top\", bbox=props)\n",
    "fg.tight_layout()\n",
    "# fg.savefig(NOTEBOOK_PATH.joinpath(f\"{UNIQUE_ID}-protherm-all.svg\"), bbox_inches=\"tight\")"
   ]
  },
  {
   "cell_type": "markdown",
   "metadata": {},
   "source": [
    "## Timing"
   ]
  },
  {
   "cell_type": "code",
   "execution_count": 25,
   "metadata": {},
   "outputs": [],
   "source": [
    "def design_sequences(structure, num_sequences):\n",
    "    chain_id = next(structure.chains).id\n",
    "    pdata = proteinsolver.utils.extract_seq_and_adj(structure, chain_id)\n",
    "    data = proteinsolver.datasets.protein.row_to_data(pdata)\n",
    "    data = proteinsolver.datasets.protein.transform_edge_attr(data)\n",
    "    data.x = torch.ones_like(data.x) * 20\n",
    "    data = data.to(device)\n",
    "    for _ in range(num_sequences):\n",
    "        _ = proteinsolver.utils.design_sequence(net, data)"
   ]
  },
  {
   "cell_type": "code",
   "execution_count": 26,
   "metadata": {},
   "outputs": [
    {
     "name": "stdout",
     "output_type": "stream",
     "text": [
      "5vli02.pdb 1\n",
      "CPU times: user 165 ms, sys: 4.02 ms, total: 169 ms\n",
      "Wall time: 168 ms\n",
      "\n",
      "5vli02.pdb 1000\n",
      "CPU times: user 1min 36s, sys: 422 ms, total: 1min 36s\n",
      "Wall time: 1min 36s\n",
      "\n",
      "1n5uA03.pdb 1\n",
      "CPU times: user 393 ms, sys: 8.02 ms, total: 401 ms\n",
      "Wall time: 400 ms\n",
      "\n",
      "1n5uA03.pdb 1000\n",
      "CPU times: user 3min 47s, sys: 1.1 s, total: 3min 48s\n",
      "Wall time: 3min 48s\n",
      "\n",
      "4z8jA00.pdb 1\n",
      "CPU times: user 1.02 s, sys: 24 ms, total: 1.04 s\n",
      "Wall time: 1.04 s\n",
      "\n",
      "4z8jA00.pdb 1000\n",
      "CPU times: user 3min 57s, sys: 1.28 s, total: 3min 59s\n",
      "Wall time: 3min 59s\n",
      "\n",
      "4unuA00.pdb 1\n",
      "CPU times: user 556 ms, sys: 0 ns, total: 556 ms\n",
      "Wall time: 555 ms\n",
      "\n",
      "4unuA00.pdb 1000\n",
      "CPU times: user 4min 29s, sys: 1.38 s, total: 4min 31s\n",
      "Wall time: 4min 31s\n",
      "\n",
      "4beuA02.pdb 1\n",
      "CPU times: user 2.42 s, sys: 100 ms, total: 2.52 s\n",
      "Wall time: 2.52 s\n",
      "\n",
      "4beuA02.pdb 1000\n",
      "CPU times: user 12min 36s, sys: 1min 12s, total: 13min 48s\n",
      "Wall time: 13min 48s\n",
      "\n"
     ]
    }
   ],
   "source": [
    "structure_path = Path(proteinsolver.__path__[0]).joinpath(\"data\", \"inputs\").resolve(strict=True)\n",
    "for structure_id in [\"5VLI\", \"1N5U\", \"4Z8J\", \"4UNU\", \"4BEU\"]:\n",
    "    structure_files = list(structure_path.glob(f\"{structure_id.lower()}*.pdb\"))\n",
    "    assert len(structure_files) == 1, structure_files\n",
    "    structure_file = structure_files[0]\n",
    "    structure = PDB.load(structure_file)\n",
    "    for num_designs in [1, 1000]:\n",
    "        print(structure_file.name, num_designs)\n",
    "        %time design_sequences(structure, num_designs)\n",
    "        print()"
   ]
  },
  {
   "cell_type": "markdown",
   "metadata": {},
   "source": [
    "## Perplexities"
   ]
  },
  {
   "cell_type": "code",
   "execution_count": 39,
   "metadata": {},
   "outputs": [],
   "source": [
    "def calculate_perplexity(net, x, edge_index, edge_attr, x_in=None):\n",
    "    if x_in is None:\n",
    "        x_in = torch.ones_like(x) * 20\n",
    "\n",
    "    mask = x_in == 20\n",
    "\n",
    "    if not mask.any().item():\n",
    "        return []\n",
    "\n",
    "    output = net(x_in, edge_index, edge_attr)\n",
    "    output = torch.softmax(output, dim=1)\n",
    "\n",
    "    probas = output.gather(1, x.view(-1, 1))\n",
    "    probas[~mask] = -1\n",
    "\n",
    "    max_proba, max_residue = probas.max(dim=0)\n",
    "    x_in[max_residue] = x[max_residue]\n",
    "\n",
    "    return [max_proba.item()] + calculate_perplexity(net, x, edge_index, edge_attr, x_in=x_in)"
   ]
  },
  {
   "cell_type": "code",
   "execution_count": 40,
   "metadata": {},
   "outputs": [
    {
     "name": "stderr",
     "output_type": "stream",
     "text": [
      "/tmp/strokach/env/lib/python3.7/site-packages/ipykernel_launcher.py:4: TqdmDeprecationWarning: This function will be removed in tqdm==5.0.0\n",
      "Please use `tqdm.notebook.tqdm` instead of `tqdm.tqdm_notebook`\n",
      "  after removing the cwd from sys.path.\n"
     ]
    },
    {
     "data": {
      "application/vnd.jupyter.widget-view+json": {
       "model_id": "48e80c54611445c59263eb2860d69368",
       "version_major": 2,
       "version_minor": 0
      },
      "text/plain": [
       "HBox(children=(IntProgress(value=0, max=1283), HTML(value='')))"
      ]
     },
     "metadata": {},
     "output_type": "display_data"
    },
    {
     "name": "stdout",
     "output_type": "stream",
     "text": [
      "\n"
     ]
    }
   ],
   "source": [
    "proba_lists = []\n",
    "for i, data in enumerate(\n",
    "    tqdm.tqdm_notebook(\n",
    "        DataLoader(datasets[\"protein_test\"], shuffle=False, num_workers=1, batch_size=1, drop_last=False)\n",
    "    )\n",
    "):\n",
    "    data = data.to(device)\n",
    "    with torch.no_grad():\n",
    "        proba_lst = calculate_perplexity(net, data.x, data.edge_index, data.edge_attr)\n",
    "    assert len(proba_lst) == data.x.size(0)\n",
    "    proba_lists.append(proba_lst)"
   ]
  },
  {
   "cell_type": "code",
   "execution_count": 41,
   "metadata": {},
   "outputs": [
    {
     "name": "stdout",
     "output_type": "stream",
     "text": [
      "8.974993654617126\n"
     ]
    }
   ],
   "source": [
    "perplexities = [2 ** -(np.log2(proba_lst).mean()) for proba_lst in proba_lists]\n",
    "print(np.mean(perplexities))"
   ]
  },
  {
   "cell_type": "code",
   "execution_count": 42,
   "metadata": {},
   "outputs": [
    {
     "data": {
      "image/png": "[encoded data removed]",
      "text/plain": [
       "<Figure size 360x288 with 1 Axes>"
      ]
     },
     "metadata": {
      "needs_background": "light"
     },
     "output_type": "display_data"
    }
   ],
   "source": [
    "fg, ax = plt.subplots(figsize=(5, 4))\n",
    "ax.hist(np.clip(perplexities, 3, 22), bins=30, range=(3, 22))\n",
    "ax.set_xlabel(\"Perplexity score\")\n",
    "ax.set_ylabel(\"Number of sequences\")\n",
    "fg.savefig(NOTEBOOK_PATH.joinpath(f\"{UNIQUE_ID}-perplexity.svg\"), bbox_inches=\"tight\")"
   ]
  },
  {
   "cell_type": "code",
   "execution_count": 43,
   "metadata": {},
   "outputs": [
    {
     "ename": "Exception",
     "evalue": "Done!",
     "output_type": "error",
     "traceback": [
      "\u001b[0;31m---------------------------------------------------------------------------\u001b[0m",
      "\u001b[0;31mException\u001b[0m                                 Traceback (most recent call last)",
      "\u001b[0;32m<ipython-input-43-2300d1589a50>\u001b[0m in \u001b[0;36m<module>\u001b[0;34m\u001b[0m\n\u001b[0;32m----> 1\u001b[0;31m \u001b[0;32mraise\u001b[0m \u001b[0mException\u001b[0m\u001b[0;34m(\u001b[0m\u001b[0;34m\"Done!\"\u001b[0m\u001b[0;34m)\u001b[0m\u001b[0;34m\u001b[0m\u001b[0;34m\u001b[0m\u001b[0m\n\u001b[0m",
      "\u001b[0;31mException\u001b[0m: Done!"
     ]
    }
   ],
   "source": [
    "raise Exception(\"Done!\")"
   ]
  },
  {
   "cell_type": "code",
   "execution_count": null,
   "metadata": {},
   "outputs": [],
   "source": [
    "results = []\n",
    "\n",
    "for i, data in enumerate(tqdm.tqdm_notebook(protherm_dataset, total=len(protherm_dataset))):\n",
    "    row = protherm_df.loc[data.Index.item()]\n",
    "    data = data.to(device)\n",
    "\n",
    "    with torch.no_grad():\n",
    "        log_prob_wt = proteinsolver.utils.get_node_proba(net, data.x, data.edge_index, data.edge_attr, 20)\n",
    "\n",
    "    wt_idx = torch.tensor(proteinsolver.utils.seq_to_tensor(row.mutation[0].encode()), dtype=torch.long, device=device)\n",
    "    mut_idx = torch.tensor(proteinsolver.utils.seq_to_tensor(row.mutation[-1].encode()), dtype=torch.long, device=device)\n",
    "    pos = int(row.mutation[1:-1])\n",
    "    x_mut = data.x.clone()\n",
    "    assert x_mut[pos - 1] == wt_idx\n",
    "    x_mut[pos - 1] = mut_idx\n",
    "    with torch.no_grad():\n",
    "        log_prob_mut = proteinsolver.utils.get_node_proba(net, x_mut, data.edge_index, data.edge_attr, 20)\n",
    "        \n",
    "    results.append(log_prob_mut.sum().item() - log_prob_wt.sum().item())\n",
    "        \n",
    "results_df[\"sum_log_prob_change\"] = results"
   ]
  },
  {
   "cell_type": "code",
   "execution_count": null,
   "metadata": {},
   "outputs": [],
   "source": [
    "column = \"sum_log_prob_change\"\n",
    "ddg_change = results_df[column].values\n",
    "ddg_exp = results_df[\"ddg_exp\"].values\n",
    "textstr = \"\"\"\\\n",
    "Pearson R: {:.3f} (p={:.0e})\n",
    "Spearman R: {:.3f} (p={:.0e})\n",
    "\"\"\".format(\n",
    "    *stats.pearsonr(-ddg_change, ddg_exp), *stats.spearmanr(-ddg_change, ddg_exp)\n",
    ").strip()\n",
    "props = dict(facecolor=\"white\", alpha=0.3)\n",
    "\n",
    "with plt.rc_context(rc={\"font.size\": 12}):\n",
    "    fg, ax = plt.subplots(figsize=(6, 4.5))\n",
    "    ax.plot(-ddg_change, ddg_exp, \"r.\", alpha=0.5)\n",
    "    ax.set_xlabel(\"Difference in network outputs\")\n",
    "    ax.set_ylabel(\"ΔΔG (kcal / mol)\")\n",
    "    ax.set_xlim(-8, 16)\n",
    "    ax.set_ylim(-8, 16)\n",
    "    ax.text(0.04, 0.95, textstr, transform=ax.transAxes, fontsize=\"medium\", verticalalignment=\"top\", bbox=props)\n",
    "fg.tight_layout()\n",
    "# fg.savefig(NOTEBOOK_PATH.joinpath(\"protherm-all.svg\"))"
   ]
  },
  {
   "cell_type": "code",
   "execution_count": null,
   "metadata": {},
   "outputs": [],
   "source": [
    "# table = pa.Table.from_pandas(results_df)\n",
    "# pq.write_table(table, NOTEBOOK_PATH.joinpath(\"results.parquet\"))"
   ]
  },
  {
   "cell_type": "code",
   "execution_count": null,
   "metadata": {},
   "outputs": [],
   "source": []
  }
 ],
 "metadata": {
  "accelerator": "GPU",
  "colab": {
   "collapsed_sections": [
    "1fXJz1l9HvhW",
    "u9q4iTifHvhl"
   ],
   "name": "Copy of 2019-03-30-sudoku-4xEdgeConv-09862+.ipynb",
   "provenance": [],
   "toc_visible": true,
   "version": "0.3.2"
  },
  "kernelspec": {
   "display_name": "Python 3",
   "language": "python",
   "name": "python3"
  },
  "language_info": {
   "codemirror_mode": {
    "name": "ipython",
    "version": 3
   },
   "file_extension": ".py",
   "mimetype": "text/x-python",
   "name": "python",
   "nbconvert_exporter": "python",
   "pygments_lexer": "ipython3",
   "version": "3.7.6"
  }
 },
 "nbformat": 4,
 "nbformat_minor": 4
}
