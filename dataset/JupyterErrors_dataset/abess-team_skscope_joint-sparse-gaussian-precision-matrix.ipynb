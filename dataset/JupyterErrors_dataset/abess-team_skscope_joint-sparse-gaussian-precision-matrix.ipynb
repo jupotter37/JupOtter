{
 "cells": [
  {
   "cell_type": "code",
   "execution_count": 1,
   "metadata": {},
   "outputs": [],
   "source": [
    "from skscope import GraspSolver\n",
    "import jax.numpy as jnp\n",
    "import numpy as np\n",
    "from sklearn.datasets import make_sparse_spd_matrix\n",
    "import cvxpy as cp\n",
    "import matplotlib.pyplot as plt\n",
    "import seaborn as sns"
   ]
  },
  {
   "cell_type": "code",
   "execution_count": 2,
   "metadata": {},
   "outputs": [],
   "source": [
    "n, p = 150, 30\n",
    "prng = np.random.RandomState(1)\n",
    "prec_common = make_sparse_spd_matrix(p, alpha=0.98, smallest_coef=0.6, largest_coef=1.0, random_state=prng)\n",
    "prec1 = make_sparse_spd_matrix(p, alpha=0.995, smallest_coef=0.7, largest_coef=0.9, random_state=prng)\n",
    "prec2 = make_sparse_spd_matrix(p, alpha=0.995, smallest_coef=0.7, largest_coef=0.9, random_state=prng)\n",
    "prec3 = make_sparse_spd_matrix(p, alpha=0.995, smallest_coef=0.7, largest_coef=0.9, random_state=prng)\n",
    "prec_list = [prec1, prec2, prec3]\n",
    "prec_sample_list = []\n",
    "for prec in prec_list:\n",
    "    prec = prec + prec_common\n",
    "    cov = np.linalg.inv(prec)\n",
    "    d = np.sqrt(np.diag(cov))\n",
    "    cov /= d\n",
    "    cov /= d[:, np.newaxis]\n",
    "    prec *= d\n",
    "    prec *= d[:, np.newaxis]\n",
    "    X = prng.multivariate_normal(np.zeros(p), cov, size=n)\n",
    "    X -= X.mean(axis=0)\n",
    "    X /= X.std(axis=0)\n",
    "\n",
    "    # sample covariance and precision matrix\n",
    "    cov_sample = np.cov(X.T)\n",
    "    prec_sample = np.linalg.inv(cov_sample)\n",
    "    prec_sample_list.append(prec_sample)"
   ]
  },
  {
   "cell_type": "code",
   "execution_count": 3,
   "metadata": {},
   "outputs": [],
   "source": [
    "def joint_sparse_precision_loss(params, sample_covariance_matrix_list):\n",
    "    p = sample_covariance_matrix_list[0].shape[0]\n",
    "    Omega_list = []\n",
    "    Omega = jnp.zeros((p, p))\n",
    "    Omega = Omega.at[np.triu_indices(p)].set(params)\n",
    "    Omega = jnp.where(Omega, Omega, Omega.T)\n",
    "    return jnp.trace(jnp.matmul(sample_covariance_matrix, Omega)) - jnp.linalg.slogdet(Omega)[1]\n",
    "\n",
    "class Graphical_Guassian_Solver(GraspSolver):\n",
    "    def _cache_nlopt(\n",
    "        self,\n",
    "        objective_func,\n",
    "        value_and_grad,\n",
    "        init_params,\n",
    "        optim_variable_idx,\n",
    "        data,\n",
    "        background_params=None,\n",
    "    ):\n",
    "        \"\"\"\n",
    "        use cvxpy to solve the problem: min_{x} f(params) s.t. vec_to_mat(params) is PSD\n",
    "        where params = (x, y), the index of x is `optim_variable_idx`, y $\\equiv$ `background_params[~optim_variable_idx]`\n",
    "        here, `background_params` is all-zeros\n",
    "        \"\"\"\n",
    "        p = data.shape[0]\n",
    "        dim = int(p * (p + 1) / 2)\n",
    "        s = len(optim_variable_idx)\n",
    "\n",
    "        opt_mark_vec = np.zeros(dim, dtype=bool)\n",
    "        opt_mark_vec[optim_variable_idx] = True\n",
    "        opt_indices_mat = (\n",
    "            np.triu_indices(p)[0][opt_mark_vec],\n",
    "            np.triu_indices(p)[1][opt_mark_vec],\n",
    "        )\n",
    "        non_opt_indices_mat = (\n",
    "            np.triu_indices(p)[0][~opt_mark_vec],\n",
    "            np.triu_indices(p)[1][~opt_mark_vec],\n",
    "        )\n",
    "\n",
    "        Omega = cp.Variable((p, p), PSD=True)\n",
    "\n",
    "        constraints = [\n",
    "            Omega[non_opt_indices_mat] == np.zeros(dim - s),\n",
    "        ]\n",
    "\n",
    "        # graphical_guassian_loss = cp.sum(cp.multiply(data, Omega)) - cp.log_det(Omega)\n",
    "        graphical_guassian_loss = cp.trace(data @ Omega) - cp.log_det(Omega)\n",
    "\n",
    "        prob = cp.Problem(cp.Minimize(graphical_guassian_loss), constraints)\n",
    "        prob.solve()\n",
    "\n",
    "        return Omega.value[opt_indices_mat], graphical_guassian_loss.value"
   ]
  },
  {
   "cell_type": "code",
   "execution_count": 4,
   "metadata": {},
   "outputs": [
    {
     "ename": "NameError",
     "evalue": "name 'sample_covariance_matrix' is not defined",
     "output_type": "error",
     "traceback": [
      "\u001b[0;31m---------------------------------------------------------------------------\u001b[0m",
      "\u001b[0;31mNameError\u001b[0m                                 Traceback (most recent call last)",
      "Cell \u001b[0;32mIn[4], line 7\u001b[0m\n\u001b[1;32m      1\u001b[0m solver \u001b[39m=\u001b[39m Graphical_Guassian_Solver(\n\u001b[1;32m      2\u001b[0m     dimensionality\u001b[39m=\u001b[39m\u001b[39mint\u001b[39m(p \u001b[39m*\u001b[39m (p \u001b[39m+\u001b[39m \u001b[39m1\u001b[39m) \u001b[39m/\u001b[39m \u001b[39m2\u001b[39m),\n\u001b[1;32m      3\u001b[0m     sparsity\u001b[39m=\u001b[39mnp\u001b[39m.\u001b[39mcount_nonzero(prec[np\u001b[39m.\u001b[39mtriu_indices(p)]),\n\u001b[1;32m      4\u001b[0m     preselect\u001b[39m=\u001b[39mnp\u001b[39m.\u001b[39mwhere(np\u001b[39m.\u001b[39mtriu_indices(p)[\u001b[39m0\u001b[39m] \u001b[39m==\u001b[39m np\u001b[39m.\u001b[39mtriu_indices(p)[\u001b[39m1\u001b[39m])[\u001b[39m0\u001b[39m],\n\u001b[1;32m      5\u001b[0m )\n\u001b[0;32m----> 7\u001b[0m solver\u001b[39m.\u001b[39;49msolve(\n\u001b[1;32m      8\u001b[0m     joint_sparse_precision_loss,\n\u001b[1;32m      9\u001b[0m     cov_sample,\n\u001b[1;32m     10\u001b[0m     init_params\u001b[39m=\u001b[39;49mnp\u001b[39m.\u001b[39;49meye(p)[np\u001b[39m.\u001b[39;49mtriu_indices(p)],\n\u001b[1;32m     11\u001b[0m )\n\u001b[1;32m     13\u001b[0m prec_ \u001b[39m=\u001b[39m np\u001b[39m.\u001b[39mzeros((p, p))\n\u001b[1;32m     14\u001b[0m prec_[np\u001b[39m.\u001b[39mtriu_indices(p)] \u001b[39m=\u001b[39m solver\u001b[39m.\u001b[39mparams\n",
      "File \u001b[0;32m~/github/scope/scope/base_solver.py:236\u001b[0m, in \u001b[0;36mBaseSolver.solve\u001b[0;34m(self, objective, gradient, init_support_set, init_params, jit, *data)\u001b[0m\n\u001b[1;32m    234\u001b[0m is_first_loop: \u001b[39mbool\u001b[39m \u001b[39m=\u001b[39m \u001b[39mTrue\u001b[39;00m\n\u001b[1;32m    235\u001b[0m \u001b[39mfor\u001b[39;00m s \u001b[39min\u001b[39;00m \u001b[39mself\u001b[39m\u001b[39m.\u001b[39msparsity:\n\u001b[0;32m--> 236\u001b[0m     init_params, init_support_set \u001b[39m=\u001b[39m \u001b[39mself\u001b[39;49m\u001b[39m.\u001b[39;49m_solve(\n\u001b[1;32m    237\u001b[0m         s, loss_fn, value_and_grad, init_support_set, init_params, data\n\u001b[1;32m    238\u001b[0m     )  \u001b[39m## warm start: use results of previous sparsity as initial value\u001b[39;00m\n\u001b[1;32m    239\u001b[0m     objective_value \u001b[39m=\u001b[39m loss_fn(init_params, data)\n\u001b[1;32m    240\u001b[0m     \u001b[39meval\u001b[39m \u001b[39m=\u001b[39m \u001b[39mself\u001b[39m\u001b[39m.\u001b[39m_metric(\n\u001b[1;32m    241\u001b[0m         objective_value,\n\u001b[1;32m    242\u001b[0m         \u001b[39mself\u001b[39m\u001b[39m.\u001b[39mic_type,\n\u001b[1;32m    243\u001b[0m         s,\n\u001b[1;32m    244\u001b[0m         \u001b[39mself\u001b[39m\u001b[39m.\u001b[39msample_size,\n\u001b[1;32m    245\u001b[0m     )\n",
      "File \u001b[0;32m~/github/scope/scope/solver.py:786\u001b[0m, in \u001b[0;36mGraspSolver._solve\u001b[0;34m(self, sparsity, loss_fn, value_and_grad, init_support_set, init_params, data)\u001b[0m\n\u001b[1;32m    782\u001b[0m group_indices \u001b[39m=\u001b[39m [np\u001b[39m.\u001b[39mwhere(\u001b[39mself\u001b[39m\u001b[39m.\u001b[39mgroup \u001b[39m==\u001b[39m i)[\u001b[39m0\u001b[39m] \u001b[39mfor\u001b[39;00m i \u001b[39min\u001b[39;00m \u001b[39mrange\u001b[39m(group_num)]\n\u001b[1;32m    784\u001b[0m \u001b[39mfor\u001b[39;00m \u001b[39miter\u001b[39m \u001b[39min\u001b[39;00m \u001b[39mrange\u001b[39m(\u001b[39mself\u001b[39m\u001b[39m.\u001b[39mmax_iter):\n\u001b[1;32m    785\u001b[0m     \u001b[39m# compute local gradient\u001b[39;00m\n\u001b[0;32m--> 786\u001b[0m     grad_values \u001b[39m=\u001b[39m value_and_grad(params, data)[\u001b[39m1\u001b[39m]\n\u001b[1;32m    787\u001b[0m     score \u001b[39m=\u001b[39m np\u001b[39m.\u001b[39marray([np\u001b[39m.\u001b[39msum(np\u001b[39m.\u001b[39msquare(grad_values[group_indices[i]])) \u001b[39mfor\u001b[39;00m i \u001b[39min\u001b[39;00m \u001b[39mrange\u001b[39m(group_num)])\n\u001b[1;32m    788\u001b[0m     score[\u001b[39mself\u001b[39m\u001b[39m.\u001b[39malways_select] \u001b[39m=\u001b[39m np\u001b[39m.\u001b[39minf\n",
      "File \u001b[0;32m~/github/scope/scope/base_solver.py:230\u001b[0m, in \u001b[0;36mBaseSolver.solve.<locals>.value_and_grad\u001b[0;34m(params, data)\u001b[0m\n\u001b[1;32m    229\u001b[0m \u001b[39mdef\u001b[39;00m \u001b[39mvalue_and_grad\u001b[39m(params, data):\n\u001b[0;32m--> 230\u001b[0m     value, grad \u001b[39m=\u001b[39m grad_(params, data)\n\u001b[1;32m    231\u001b[0m     \u001b[39mreturn\u001b[39;00m value\u001b[39m.\u001b[39mitem(), np\u001b[39m.\u001b[39marray(grad)\n",
      "File \u001b[0;32m~/github/scope/scope/base_solver.py:300\u001b[0m, in \u001b[0;36mBaseSolver._set_objective.<locals>.<lambda>\u001b[0;34m(params, data)\u001b[0m\n\u001b[1;32m    297\u001b[0m     loss_ \u001b[39m=\u001b[39m jax\u001b[39m.\u001b[39mjit(loss_)\n\u001b[1;32m    299\u001b[0m \u001b[39mif\u001b[39;00m gradient \u001b[39mis\u001b[39;00m \u001b[39mNone\u001b[39;00m:\n\u001b[0;32m--> 300\u001b[0m     grad_ \u001b[39m=\u001b[39m \u001b[39mlambda\u001b[39;00m params, data: jax\u001b[39m.\u001b[39;49mvalue_and_grad(loss_)(params, data)\n\u001b[1;32m    301\u001b[0m \u001b[39melif\u001b[39;00m gradient\u001b[39m.\u001b[39m\u001b[39m__code__\u001b[39m\u001b[39m.\u001b[39mco_argcount \u001b[39m==\u001b[39m \u001b[39m1\u001b[39m:\n\u001b[1;32m    302\u001b[0m     grad_ \u001b[39m=\u001b[39m \u001b[39mlambda\u001b[39;00m params, data: (loss_(params, data), gradient(params))\n",
      "    \u001b[0;31m[... skipping hidden 8 frame]\u001b[0m\n",
      "File \u001b[0;32m~/github/scope/scope/base_solver.py:295\u001b[0m, in \u001b[0;36mBaseSolver._set_objective.<locals>.<lambda>\u001b[0;34m(params, data)\u001b[0m\n\u001b[1;32m    293\u001b[0m     loss_ \u001b[39m=\u001b[39m \u001b[39mlambda\u001b[39;00m params, data: objective(params)\n\u001b[1;32m    294\u001b[0m \u001b[39melse\u001b[39;00m:\n\u001b[0;32m--> 295\u001b[0m     loss_ \u001b[39m=\u001b[39m \u001b[39mlambda\u001b[39;00m params, data: objective(params, \u001b[39m*\u001b[39;49mdata)\n\u001b[1;32m    296\u001b[0m \u001b[39mif\u001b[39;00m jit:\n\u001b[1;32m    297\u001b[0m     loss_ \u001b[39m=\u001b[39m jax\u001b[39m.\u001b[39mjit(loss_)\n",
      "Cell \u001b[0;32mIn[3], line 7\u001b[0m, in \u001b[0;36mjoint_sparse_precision_loss\u001b[0;34m(params, sample_covariance_matrix_list)\u001b[0m\n\u001b[1;32m      5\u001b[0m Omega \u001b[39m=\u001b[39m Omega\u001b[39m.\u001b[39mat[np\u001b[39m.\u001b[39mtriu_indices(p)]\u001b[39m.\u001b[39mset(params)\n\u001b[1;32m      6\u001b[0m Omega \u001b[39m=\u001b[39m jnp\u001b[39m.\u001b[39mwhere(Omega, Omega, Omega\u001b[39m.\u001b[39mT)\n\u001b[0;32m----> 7\u001b[0m \u001b[39mreturn\u001b[39;00m jnp\u001b[39m.\u001b[39mtrace(jnp\u001b[39m.\u001b[39mmatmul(sample_covariance_matrix, Omega)) \u001b[39m-\u001b[39m jnp\u001b[39m.\u001b[39mlinalg\u001b[39m.\u001b[39mslogdet(Omega)[\u001b[39m1\u001b[39m]\n",
      "\u001b[0;31mNameError\u001b[0m: name 'sample_covariance_matrix' is not defined"
     ]
    }
   ],
   "source": [
    "solver = Graphical_Guassian_Solver(\n",
    "    dimensionality=int(p * (p + 1) / 2),\n",
    "    sparsity=np.count_nonzero(prec[np.triu_indices(p)]),\n",
    "    preselect=np.where(np.triu_indices(p)[0] == np.triu_indices(p)[1])[0],\n",
    ")\n",
    "\n",
    "solver.solve(\n",
    "    joint_sparse_precision_loss,\n",
    "    cov_sample,\n",
    "    init_params=np.eye(p)[np.triu_indices(p)],\n",
    ")\n",
    "\n",
    "prec_ = np.zeros((p, p))\n",
    "prec_[np.triu_indices(p)] = solver.params\n",
    "prec_ = np.where(\n",
    "    prec_, prec_, prec_.T\n",
    ")"
   ]
  },
  {
   "cell_type": "code",
   "execution_count": 29,
   "metadata": {},
   "outputs": [
    {
     "name": "stdout",
     "output_type": "stream",
     "text": [
      "Grasp:  1.1725994982469918\n",
      "Empirical:  4.413536976598332\n"
     ]
    }
   ],
   "source": [
    "print('Grasp: ', np.linalg.norm(prec - prec_, ord='fro'))\n",
    "print('Empirical: ', np.linalg.norm(prec - prec_sample, ord='fro')) "
   ]
  },
  {
   "cell_type": "code",
   "execution_count": 30,
   "metadata": {},
   "outputs": [
    {
     "data": {
      "image/png": "[encoded data removed]",
      "text/plain": [
       "<Figure size 1200x300 with 6 Axes>"
      ]
     },
     "metadata": {},
     "output_type": "display_data"
    }
   ],
   "source": [
    "fig, axes = plt.subplots(1, 3, figsize=(12, 3))\n",
    "\n",
    "sns.heatmap(prec, vmin=-1, vmax=1, ax=axes[0])\n",
    "axes[0].set_xticks([])\n",
    "axes[0].set_yticks([])\n",
    "axes[0].set_title('True precision')\n",
    "\n",
    "sns.heatmap(prec_sample, vmin=-1, vmax=1, ax=axes[1])\n",
    "axes[1].set_xticks([])\n",
    "axes[1].set_yticks([])\n",
    "axes[1].set_title('Sample precision')\n",
    "\n",
    "sns.heatmap(prec_, vmin=-1, vmax=1, ax=axes[2])\n",
    "axes[2].set_xticks([])\n",
    "axes[2].set_yticks([])\n",
    "axes[2].set_title('Grasp precision')\n",
    "\n",
    "plt.show()"
   ]
  },
  {
   "cell_type": "code",
   "execution_count": null,
   "metadata": {},
   "outputs": [],
   "source": []
  }
 ],
 "metadata": {
  "kernelspec": {
   "display_name": "Python 3 (ipykernel)",
   "language": "python",
   "name": "python3"
  },
  "language_info": {
   "codemirror_mode": {
    "name": "ipython",
    "version": 3
   },
   "file_extension": ".py",
   "mimetype": "text/x-python",
   "name": "python",
   "nbconvert_exporter": "python",
   "pygments_lexer": "ipython3",
   "version": "3.10.9"
  },
  "varInspector": {
   "cols": {
    "lenName": 16,
    "lenType": 16,
    "lenVar": 40
   },
   "kernels_config": {
    "python": {
     "delete_cmd_postfix": "",
     "delete_cmd_prefix": "del ",
     "library": "var_list.py",
     "varRefreshCmd": "print(var_dic_list())"
    },
    "r": {
     "delete_cmd_postfix": ") ",
     "delete_cmd_prefix": "rm(",
     "library": "var_list.r",
     "varRefreshCmd": "cat(var_dic_list()) "
    }
   },
   "types_to_exclude": [
    "module",
    "function",
    "builtin_function_or_method",
    "instance",
    "_Feature"
   ],
   "window_display": false
  }
 },
 "nbformat": 4,
 "nbformat_minor": 2
}
