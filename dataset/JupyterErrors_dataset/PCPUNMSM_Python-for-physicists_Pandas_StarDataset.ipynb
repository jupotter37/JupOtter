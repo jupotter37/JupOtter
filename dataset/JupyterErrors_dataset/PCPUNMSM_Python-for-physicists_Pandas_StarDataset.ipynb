{
  "nbformat": 4,
  "nbformat_minor": 0,
  "metadata": {
    "kernelspec": {
      "name": "python3",
      "display_name": "Python 3",
      "language": "python"
    },
    "language_info": {
      "name": "python",
      "version": "3.7.6",
      "mimetype": "text/x-python",
      "codemirror_mode": {
        "name": "ipython",
        "version": 3
      },
      "pygments_lexer": "ipython3",
      "nbconvert_exporter": "python",
      "file_extension": ".py"
    },
    "colab": {
      "name": "Pandas_StarDataset.ipynb",
      "provenance": [],
      "toc_visible": true
    }
  },
  "cells": [
    {
      "cell_type": "code",
      "metadata": {
        "id": "MTORc0hCtxLk",
        "outputId": "5a609746-3233-4575-ae54-1dd989892551",
        "colab": {
          "base_uri": "https://localhost:8080/",
          "height": 34
        }
      },
      "source": [
        "from google.colab import drive\n",
        "drive.mount('/content/drive')"
      ],
      "execution_count": null,
      "outputs": [
        {
          "output_type": "stream",
          "text": [
            "Drive already mounted at /content/drive; to attempt to forcibly remount, call drive.mount(\"/content/drive\", force_remount=True).\n"
          ],
          "name": "stdout"
        }
      ]
    },
    {
      "cell_type": "code",
      "metadata": {
        "id": "vBTcNiLIuNBa",
        "outputId": "3df6fcb2-39c1-4a04-97a6-7da89f361809",
        "colab": {
          "base_uri": "https://localhost:8080/",
          "height": 198
        }
      },
      "source": [
        "import pandas as pd\n",
        "\n",
        "raw_data = pd.read_csv('/content/drive/My Drive/PCP/Star99999_raw.csv')\n",
        "raw_data.head(5)"
      ],
      "execution_count": null,
      "outputs": [
        {
          "output_type": "execute_result",
          "data": {
            "text/html": [
              "<div>\n",
              "<style scoped>\n",
              "    .dataframe tbody tr th:only-of-type {\n",
              "        vertical-align: middle;\n",
              "    }\n",
              "\n",
              "    .dataframe tbody tr th {\n",
              "        vertical-align: top;\n",
              "    }\n",
              "\n",
              "    .dataframe thead th {\n",
              "        text-align: right;\n",
              "    }\n",
              "</style>\n",
              "<table border=\"1\" class=\"dataframe\">\n",
              "  <thead>\n",
              "    <tr style=\"text-align: right;\">\n",
              "      <th></th>\n",
              "      <th>Unnamed: 0</th>\n",
              "      <th>Vmag</th>\n",
              "      <th>Plx</th>\n",
              "      <th>e_Plx</th>\n",
              "      <th>B-V</th>\n",
              "      <th>SpType</th>\n",
              "    </tr>\n",
              "  </thead>\n",
              "  <tbody>\n",
              "    <tr>\n",
              "      <th>0</th>\n",
              "      <td>0</td>\n",
              "      <td>9.10</td>\n",
              "      <td>3.54</td>\n",
              "      <td>1.39</td>\n",
              "      <td>0.482</td>\n",
              "      <td>F5</td>\n",
              "    </tr>\n",
              "    <tr>\n",
              "      <th>1</th>\n",
              "      <td>1</td>\n",
              "      <td>9.27</td>\n",
              "      <td>21.90</td>\n",
              "      <td>3.10</td>\n",
              "      <td>0.999</td>\n",
              "      <td>K3V</td>\n",
              "    </tr>\n",
              "    <tr>\n",
              "      <th>2</th>\n",
              "      <td>2</td>\n",
              "      <td>6.61</td>\n",
              "      <td>2.81</td>\n",
              "      <td>0.63</td>\n",
              "      <td>-0.019</td>\n",
              "      <td>B9</td>\n",
              "    </tr>\n",
              "    <tr>\n",
              "      <th>3</th>\n",
              "      <td>3</td>\n",
              "      <td>8.06</td>\n",
              "      <td>7.75</td>\n",
              "      <td>0.97</td>\n",
              "      <td>0.370</td>\n",
              "      <td>F0V</td>\n",
              "    </tr>\n",
              "    <tr>\n",
              "      <th>4</th>\n",
              "      <td>4</td>\n",
              "      <td>8.55</td>\n",
              "      <td>2.87</td>\n",
              "      <td>1.11</td>\n",
              "      <td>0.902</td>\n",
              "      <td>G8III</td>\n",
              "    </tr>\n",
              "  </tbody>\n",
              "</table>\n",
              "</div>"
            ],
            "text/plain": [
              "   Unnamed: 0   Vmag      Plx   e_Plx     B-V SpType\n",
              "0           0   9.10     3.54    1.39   0.482     F5\n",
              "1           1   9.27    21.90    3.10   0.999    K3V\n",
              "2           2   6.61     2.81    0.63  -0.019     B9\n",
              "3           3   8.06     7.75    0.97   0.370    F0V\n",
              "4           4   8.55     2.87    1.11   0.902  G8III"
            ]
          },
          "metadata": {
            "tags": []
          },
          "execution_count": 56
        }
      ]
    },
    {
      "cell_type": "code",
      "metadata": {
        "id": "eA0ZxpMw-TUD",
        "outputId": "70bbd1b5-878e-435e-8297-329cf126495e",
        "colab": {
          "base_uri": "https://localhost:8080/",
          "height": 34
        }
      },
      "source": [
        "type(raw_data)"
      ],
      "execution_count": null,
      "outputs": [
        {
          "output_type": "execute_result",
          "data": {
            "text/plain": [
              "pandas.core.frame.DataFrame"
            ]
          },
          "metadata": {
            "tags": []
          },
          "execution_count": 57
        }
      ]
    },
    {
      "cell_type": "markdown",
      "metadata": {
        "id": "jo3E0GQxtIWo"
      },
      "source": [
        "# Preprocesando el StarDataSet\n"
      ]
    },
    {
      "cell_type": "markdown",
      "metadata": {
        "id": "GxJmZsG2tIWo"
      },
      "source": [
        "# Limpieza de datos"
      ]
    },
    {
      "cell_type": "markdown",
      "metadata": {
        "id": "z7dVj_66tIWp"
      },
      "source": [
        "Aquí puedes encontrar muchos más ejemplos:\n",
        "* [Data Cleaning course on Kaggle Learn](https://www.kaggle.com/alexisbcook/handling-missing-values)"
      ]
    },
    {
      "cell_type": "markdown",
      "metadata": {
        "id": "bWvrIBumtIWp"
      },
      "source": [
        "### Echemos un primer vistazo a los datos\n",
        "Lo primero que tendremos que hacer es\n",
        "* Importar bibliotecas\n",
        "* Consulta los archivos que tenemos\n",
        "* Cargar el conjunto de datos sin procesar"
      ]
    },
    {
      "cell_type": "code",
      "metadata": {
        "_uuid": "8f2839f25d086af736a60e9eeb907d3b93b6e0e5",
        "_cell_guid": "b1076dfc-b9ad-4769-8c92-a6c4dae69d19",
        "trusted": true,
        "id": "Gvv-OP4ztIWq"
      },
      "source": [
        "import numpy as np # linear algebra\n",
        "import pandas as pd # data processing, CSV file I/O (e.g. pd.read_csv)"
      ],
      "execution_count": null,
      "outputs": []
    },
    {
      "cell_type": "code",
      "metadata": {
        "_uuid": "d629ff2d2480ee46fbb7e2d37f6b5fab8052498a",
        "_cell_guid": "79c7e3d0-c299-4dcb-8224-4455121ee9b0",
        "trusted": true,
        "id": "YXzj3afmtIWs",
        "outputId": "28be9867-5995-467d-c9e7-12138defae68",
        "colab": {
          "base_uri": "https://localhost:8080/",
          "height": 198
        }
      },
      "source": [
        "# Use pd.read_csv to read file\n",
        "path = '/content/drive/My Drive/PCP/Star99999_raw.csv'\n",
        "raw_data = pd.read_csv(path)\n",
        "raw_data.head(5)"
      ],
      "execution_count": null,
      "outputs": [
        {
          "output_type": "execute_result",
          "data": {
            "text/html": [
              "<div>\n",
              "<style scoped>\n",
              "    .dataframe tbody tr th:only-of-type {\n",
              "        vertical-align: middle;\n",
              "    }\n",
              "\n",
              "    .dataframe tbody tr th {\n",
              "        vertical-align: top;\n",
              "    }\n",
              "\n",
              "    .dataframe thead th {\n",
              "        text-align: right;\n",
              "    }\n",
              "</style>\n",
              "<table border=\"1\" class=\"dataframe\">\n",
              "  <thead>\n",
              "    <tr style=\"text-align: right;\">\n",
              "      <th></th>\n",
              "      <th>Unnamed: 0</th>\n",
              "      <th>Vmag</th>\n",
              "      <th>Plx</th>\n",
              "      <th>e_Plx</th>\n",
              "      <th>B-V</th>\n",
              "      <th>SpType</th>\n",
              "    </tr>\n",
              "  </thead>\n",
              "  <tbody>\n",
              "    <tr>\n",
              "      <th>0</th>\n",
              "      <td>0</td>\n",
              "      <td>9.10</td>\n",
              "      <td>3.54</td>\n",
              "      <td>1.39</td>\n",
              "      <td>0.482</td>\n",
              "      <td>F5</td>\n",
              "    </tr>\n",
              "    <tr>\n",
              "      <th>1</th>\n",
              "      <td>1</td>\n",
              "      <td>9.27</td>\n",
              "      <td>21.90</td>\n",
              "      <td>3.10</td>\n",
              "      <td>0.999</td>\n",
              "      <td>K3V</td>\n",
              "    </tr>\n",
              "    <tr>\n",
              "      <th>2</th>\n",
              "      <td>2</td>\n",
              "      <td>6.61</td>\n",
              "      <td>2.81</td>\n",
              "      <td>0.63</td>\n",
              "      <td>-0.019</td>\n",
              "      <td>B9</td>\n",
              "    </tr>\n",
              "    <tr>\n",
              "      <th>3</th>\n",
              "      <td>3</td>\n",
              "      <td>8.06</td>\n",
              "      <td>7.75</td>\n",
              "      <td>0.97</td>\n",
              "      <td>0.370</td>\n",
              "      <td>F0V</td>\n",
              "    </tr>\n",
              "    <tr>\n",
              "      <th>4</th>\n",
              "      <td>4</td>\n",
              "      <td>8.55</td>\n",
              "      <td>2.87</td>\n",
              "      <td>1.11</td>\n",
              "      <td>0.902</td>\n",
              "      <td>G8III</td>\n",
              "    </tr>\n",
              "  </tbody>\n",
              "</table>\n",
              "</div>"
            ],
            "text/plain": [
              "   Unnamed: 0   Vmag      Plx   e_Plx     B-V SpType\n",
              "0           0   9.10     3.54    1.39   0.482     F5\n",
              "1           1   9.27    21.90    3.10   0.999    K3V\n",
              "2           2   6.61     2.81    0.63  -0.019     B9\n",
              "3           3   8.06     7.75    0.97   0.370    F0V\n",
              "4           4   8.55     2.87    1.11   0.902  G8III"
            ]
          },
          "metadata": {
            "tags": []
          },
          "execution_count": 59
        }
      ]
    },
    {
      "cell_type": "markdown",
      "metadata": {
        "id": "MPG2OzJvtIWu"
      },
      "source": [
        "Podemos ver que el conjunto de datos incluye una columna de índice duplicada, por lo que debemos eliminarlo más tarde.\n",
        "\n",
        "Primero leamos algunas estadísticas del conjunto de datos."
      ]
    },
    {
      "cell_type": "code",
      "metadata": {
        "trusted": true,
        "id": "LNVoNJ3JtIWv",
        "outputId": "0dd3a0d8-2510-43db-b756-22177b57f17c",
        "colab": {
          "base_uri": "https://localhost:8080/",
          "height": 34
        }
      },
      "source": [
        "raw_data.columns"
      ],
      "execution_count": null,
      "outputs": [
        {
          "output_type": "execute_result",
          "data": {
            "text/plain": [
              "Index(['Unnamed: 0', 'Vmag', 'Plx', 'e_Plx', 'B-V', 'SpType'], dtype='object')"
            ]
          },
          "metadata": {
            "tags": []
          },
          "execution_count": 60
        }
      ]
    },
    {
      "cell_type": "markdown",
      "metadata": {
        "id": "P7nn1XEDtIWx"
      },
      "source": [
        "* `Vmag` - Magnitud visual aparente de la estrella\n",
        "* `Plx` - Distancia entre la estrella y la Tierra\n",
        "* ʻE_Plx` - Error estándar de `Plx` (¡Elimine la fila si encuentra que e_Plx es demasiado alto!)\n",
        "* `B-V`: índice de color B-V. (Una estrella caliente tiene un índice de color B-V cercano a 0 o negativo, mientras que una estrella fría tiene un índice de color B-V cercano a 2.0. Otras estrellas están en algún punto intermedio).\n",
        "* `SpType` - [Clasificación estelar.](https://en.wikipedia.org/wiki/Stellar_classification) \n"
      ]
    },
    {
      "cell_type": "code",
      "metadata": {
        "trusted": true,
        "id": "pwVvBSEitIWx",
        "outputId": "5b97be1d-30f0-4704-8686-00f7a680e0bb",
        "colab": {
          "base_uri": "https://localhost:8080/",
          "height": 297
        }
      },
      "source": [
        "# read some statistics of the dataset\n",
        "raw_data.describe()"
      ],
      "execution_count": null,
      "outputs": [
        {
          "output_type": "execute_result",
          "data": {
            "text/html": [
              "<div>\n",
              "<style scoped>\n",
              "    .dataframe tbody tr th:only-of-type {\n",
              "        vertical-align: middle;\n",
              "    }\n",
              "\n",
              "    .dataframe tbody tr th {\n",
              "        vertical-align: top;\n",
              "    }\n",
              "\n",
              "    .dataframe thead th {\n",
              "        text-align: right;\n",
              "    }\n",
              "</style>\n",
              "<table border=\"1\" class=\"dataframe\">\n",
              "  <thead>\n",
              "    <tr style=\"text-align: right;\">\n",
              "      <th></th>\n",
              "      <th>Unnamed: 0</th>\n",
              "    </tr>\n",
              "  </thead>\n",
              "  <tbody>\n",
              "    <tr>\n",
              "      <th>count</th>\n",
              "      <td>99999.000000</td>\n",
              "    </tr>\n",
              "    <tr>\n",
              "      <th>mean</th>\n",
              "      <td>49999.000000</td>\n",
              "    </tr>\n",
              "    <tr>\n",
              "      <th>std</th>\n",
              "      <td>28867.369122</td>\n",
              "    </tr>\n",
              "    <tr>\n",
              "      <th>min</th>\n",
              "      <td>0.000000</td>\n",
              "    </tr>\n",
              "    <tr>\n",
              "      <th>25%</th>\n",
              "      <td>24999.500000</td>\n",
              "    </tr>\n",
              "    <tr>\n",
              "      <th>50%</th>\n",
              "      <td>49999.000000</td>\n",
              "    </tr>\n",
              "    <tr>\n",
              "      <th>75%</th>\n",
              "      <td>74998.500000</td>\n",
              "    </tr>\n",
              "    <tr>\n",
              "      <th>max</th>\n",
              "      <td>99998.000000</td>\n",
              "    </tr>\n",
              "  </tbody>\n",
              "</table>\n",
              "</div>"
            ],
            "text/plain": [
              "         Unnamed: 0\n",
              "count  99999.000000\n",
              "mean   49999.000000\n",
              "std    28867.369122\n",
              "min        0.000000\n",
              "25%    24999.500000\n",
              "50%    49999.000000\n",
              "75%    74998.500000\n",
              "max    99998.000000"
            ]
          },
          "metadata": {
            "tags": []
          },
          "execution_count": 9
        }
      ]
    },
    {
      "cell_type": "markdown",
      "metadata": {
        "id": "2txhrgkYtIWz"
      },
      "source": [
        "¿Por qué la función de descripción no devuelve un resumen de todas las columnas?\n",
        "\n",
        "Probablemente se deba a que este marco de datos tiene tipos de columna mixtos. El comportamiento predeterminado de la función de descripción de pandas es solo proporcionar un resumen de las columnas numéricas."
      ]
    },
    {
      "cell_type": "code",
      "metadata": {
        "trusted": true,
        "id": "5A28ue5KtIWz",
        "outputId": "88a43de3-fb9c-4ada-bec4-11c483fe0c69",
        "colab": {
          "base_uri": "https://localhost:8080/",
          "height": 242
        }
      },
      "source": [
        "# Check the DataType of our dataset\n",
        "raw_data.info()"
      ],
      "execution_count": null,
      "outputs": [
        {
          "output_type": "stream",
          "text": [
            "<class 'pandas.core.frame.DataFrame'>\n",
            "RangeIndex: 99999 entries, 0 to 99998\n",
            "Data columns (total 6 columns):\n",
            " #   Column      Non-Null Count  Dtype \n",
            "---  ------      --------------  ----- \n",
            " 0   Unnamed: 0  99999 non-null  int64 \n",
            " 1   Vmag        99999 non-null  object\n",
            " 2   Plx         99999 non-null  object\n",
            " 3   e_Plx       99999 non-null  object\n",
            " 4   B-V         99999 non-null  object\n",
            " 5   SpType      97377 non-null  object\n",
            "dtypes: int64(1), object(5)\n",
            "memory usage: 4.6+ MB\n"
          ],
          "name": "stdout"
        }
      ]
    },
    {
      "cell_type": "markdown",
      "metadata": {
        "id": "29eUNPORtIW1"
      },
      "source": [
        "^ Como podemos ver, tanto **`Vmag`,` Plx`, ʻe_Plx`, `B-V`** están marcados como objeto, pero se suponía que tenían un valor flotante.\n",
        "\n",
        "Entonces deberíamos convertir nuestras columnas a numéricas."
      ]
    },
    {
      "cell_type": "markdown",
      "metadata": {
        "id": "lWeBUQB_tIW2"
      },
      "source": [
        "Si ejecutamos este código:\n",
        "```python\n",
        "# Convert Columns data type to float values\n",
        "raw_data[\"Vmag\"] = pd.to_numeric(raw_data[\"Vmag\"], downcast=\"float\")\n",
        "raw_data[\"Plx\"] = pd.to_numeric(raw_data[\"Plx\"], downcast=\"float\")\n",
        "raw_data[\"e_Plx\"] = pd.to_numeric(raw_data[\"e_Plx\"], downcast=\"float\")\n",
        "raw_data[\"B-V\"] = pd.to_numeric(raw_data[\"B-V\"], downcast=\"float\")\n",
        "```\n",
        "Error would Occur : `ValueError: Unable to parse string \"     \" at position 25189`\n",
        "\n",
        "Desde el error anterior, podemos observar que algunas celdas se llenaron con espacios en blanco, por lo que no se pueden analizar.\n",
        "\n",
        "Podemos agregar un parámetro ʻerrores = 'coaccionar'` para forzar a la función a convertir valores no numéricos incorrectos a NaN.\n",
        "\n",
        "https://stackoverflow.com/questions/40790031/pandas-to-numeric-find-out-which-string-it-was-unable-to-parse"
      ]
    },
    {
      "cell_type": "code",
      "metadata": {
        "id": "Ywq5zhdiAZB_",
        "outputId": "730c6b4f-8fe0-4493-c97d-478ba2e7b443",
        "colab": {
          "base_uri": "https://localhost:8080/",
          "height": 495
        }
      },
      "source": [
        "raw_data[\"Vmag\"] = pd.to_numeric(raw_data[\"Vmag\"], downcast=\"float\")\n",
        "raw_data[\"Plx\"] = pd.to_numeric(raw_data[\"Plx\"], downcast=\"float\")\n",
        "raw_data[\"e_Plx\"] = pd.to_numeric(raw_data[\"e_Plx\"], downcast=\"float\")\n",
        "raw_data[\"B-V\"] = pd.to_numeric(raw_data[\"B-V\"], downcast=\"float\")"
      ],
      "execution_count": null,
      "outputs": [
        {
          "output_type": "error",
          "ename": "ValueError",
          "evalue": "ignored",
          "traceback": [
            "\u001b[0;31m---------------------------------------------------------------------------\u001b[0m",
            "\u001b[0;31mValueError\u001b[0m                                Traceback (most recent call last)",
            "\u001b[0;32mpandas/_libs/lib.pyx\u001b[0m in \u001b[0;36mpandas._libs.lib.maybe_convert_numeric\u001b[0;34m()\u001b[0m\n",
            "\u001b[0;31mValueError\u001b[0m: Unable to parse string \"     \"",
            "\nDuring handling of the above exception, another exception occurred:\n",
            "\u001b[0;31mValueError\u001b[0m                                Traceback (most recent call last)",
            "\u001b[0;32m<ipython-input-62-a452abf91cf2>\u001b[0m in \u001b[0;36m<module>\u001b[0;34m()\u001b[0m\n\u001b[0;32m----> 1\u001b[0;31m \u001b[0mraw_data\u001b[0m\u001b[0;34m[\u001b[0m\u001b[0;34m\"Vmag\"\u001b[0m\u001b[0;34m]\u001b[0m \u001b[0;34m=\u001b[0m \u001b[0mpd\u001b[0m\u001b[0;34m.\u001b[0m\u001b[0mto_numeric\u001b[0m\u001b[0;34m(\u001b[0m\u001b[0mraw_data\u001b[0m\u001b[0;34m[\u001b[0m\u001b[0;34m\"Vmag\"\u001b[0m\u001b[0;34m]\u001b[0m\u001b[0;34m,\u001b[0m \u001b[0mdowncast\u001b[0m\u001b[0;34m=\u001b[0m\u001b[0;34m\"float\"\u001b[0m\u001b[0;34m)\u001b[0m\u001b[0;34m\u001b[0m\u001b[0;34m\u001b[0m\u001b[0m\n\u001b[0m\u001b[1;32m      2\u001b[0m \u001b[0mraw_data\u001b[0m\u001b[0;34m[\u001b[0m\u001b[0;34m\"Plx\"\u001b[0m\u001b[0;34m]\u001b[0m \u001b[0;34m=\u001b[0m \u001b[0mpd\u001b[0m\u001b[0;34m.\u001b[0m\u001b[0mto_numeric\u001b[0m\u001b[0;34m(\u001b[0m\u001b[0mraw_data\u001b[0m\u001b[0;34m[\u001b[0m\u001b[0;34m\"Plx\"\u001b[0m\u001b[0;34m]\u001b[0m\u001b[0;34m,\u001b[0m \u001b[0mdowncast\u001b[0m\u001b[0;34m=\u001b[0m\u001b[0;34m\"float\"\u001b[0m\u001b[0;34m)\u001b[0m\u001b[0;34m\u001b[0m\u001b[0;34m\u001b[0m\u001b[0m\n\u001b[1;32m      3\u001b[0m \u001b[0mraw_data\u001b[0m\u001b[0;34m[\u001b[0m\u001b[0;34m\"e_Plx\"\u001b[0m\u001b[0;34m]\u001b[0m \u001b[0;34m=\u001b[0m \u001b[0mpd\u001b[0m\u001b[0;34m.\u001b[0m\u001b[0mto_numeric\u001b[0m\u001b[0;34m(\u001b[0m\u001b[0mraw_data\u001b[0m\u001b[0;34m[\u001b[0m\u001b[0;34m\"e_Plx\"\u001b[0m\u001b[0;34m]\u001b[0m\u001b[0;34m,\u001b[0m \u001b[0mdowncast\u001b[0m\u001b[0;34m=\u001b[0m\u001b[0;34m\"float\"\u001b[0m\u001b[0;34m)\u001b[0m\u001b[0;34m\u001b[0m\u001b[0;34m\u001b[0m\u001b[0m\n\u001b[1;32m      4\u001b[0m \u001b[0mraw_data\u001b[0m\u001b[0;34m[\u001b[0m\u001b[0;34m\"B-V\"\u001b[0m\u001b[0;34m]\u001b[0m \u001b[0;34m=\u001b[0m \u001b[0mpd\u001b[0m\u001b[0;34m.\u001b[0m\u001b[0mto_numeric\u001b[0m\u001b[0;34m(\u001b[0m\u001b[0mraw_data\u001b[0m\u001b[0;34m[\u001b[0m\u001b[0;34m\"B-V\"\u001b[0m\u001b[0;34m]\u001b[0m\u001b[0;34m,\u001b[0m \u001b[0mdowncast\u001b[0m\u001b[0;34m=\u001b[0m\u001b[0;34m\"float\"\u001b[0m\u001b[0;34m)\u001b[0m\u001b[0;34m\u001b[0m\u001b[0;34m\u001b[0m\u001b[0m\n",
            "\u001b[0;32m/usr/local/lib/python3.6/dist-packages/pandas/core/tools/numeric.py\u001b[0m in \u001b[0;36mto_numeric\u001b[0;34m(arg, errors, downcast)\u001b[0m\n\u001b[1;32m    151\u001b[0m         \u001b[0;32mtry\u001b[0m\u001b[0;34m:\u001b[0m\u001b[0;34m\u001b[0m\u001b[0;34m\u001b[0m\u001b[0m\n\u001b[1;32m    152\u001b[0m             values = lib.maybe_convert_numeric(\n\u001b[0;32m--> 153\u001b[0;31m                 \u001b[0mvalues\u001b[0m\u001b[0;34m,\u001b[0m \u001b[0mset\u001b[0m\u001b[0;34m(\u001b[0m\u001b[0;34m)\u001b[0m\u001b[0;34m,\u001b[0m \u001b[0mcoerce_numeric\u001b[0m\u001b[0;34m=\u001b[0m\u001b[0mcoerce_numeric\u001b[0m\u001b[0;34m\u001b[0m\u001b[0;34m\u001b[0m\u001b[0m\n\u001b[0m\u001b[1;32m    154\u001b[0m             )\n\u001b[1;32m    155\u001b[0m         \u001b[0;32mexcept\u001b[0m \u001b[0;34m(\u001b[0m\u001b[0mValueError\u001b[0m\u001b[0;34m,\u001b[0m \u001b[0mTypeError\u001b[0m\u001b[0;34m)\u001b[0m\u001b[0;34m:\u001b[0m\u001b[0;34m\u001b[0m\u001b[0;34m\u001b[0m\u001b[0m\n",
            "\u001b[0;32mpandas/_libs/lib.pyx\u001b[0m in \u001b[0;36mpandas._libs.lib.maybe_convert_numeric\u001b[0;34m()\u001b[0m\n",
            "\u001b[0;31mValueError\u001b[0m: Unable to parse string \"     \" at position 25189"
          ]
        }
      ]
    },
    {
      "cell_type": "code",
      "metadata": {
        "trusted": true,
        "id": "k2AOvKN_tIW2"
      },
      "source": [
        "# Convert Columns data type to float values\n",
        "raw_data[\"Vmag\"] = pd.to_numeric(raw_data[\"Vmag\"], downcast=\"float\", errors='coerce')\n",
        "raw_data[\"Plx\"] = pd.to_numeric(raw_data[\"Plx\"], downcast=\"float\", errors='coerce')\n",
        "raw_data[\"e_Plx\"] = pd.to_numeric(raw_data[\"e_Plx\"], downcast=\"float\", errors='coerce')\n",
        "raw_data[\"B-V\"] = pd.to_numeric(raw_data[\"B-V\"], downcast=\"float\", errors='coerce')"
      ],
      "execution_count": null,
      "outputs": []
    },
    {
      "cell_type": "markdown",
      "metadata": {
        "id": "8zHgjm6-tIW4"
      },
      "source": [
        "Ahora revisemos la información nuevamente."
      ]
    },
    {
      "cell_type": "code",
      "metadata": {
        "trusted": true,
        "id": "MC-P9Cc8tIW4",
        "outputId": "dc3605e3-fe99-4b9b-d0c1-630f11231850",
        "colab": {
          "base_uri": "https://localhost:8080/",
          "height": 242
        }
      },
      "source": [
        "# Check the DataType of our dataset\n",
        "raw_data.info()"
      ],
      "execution_count": null,
      "outputs": [
        {
          "output_type": "stream",
          "text": [
            "<class 'pandas.core.frame.DataFrame'>\n",
            "RangeIndex: 99999 entries, 0 to 99998\n",
            "Data columns (total 6 columns):\n",
            " #   Column      Non-Null Count  Dtype  \n",
            "---  ------      --------------  -----  \n",
            " 0   Unnamed: 0  99999 non-null  int64  \n",
            " 1   Vmag        99998 non-null  float32\n",
            " 2   Plx         99768 non-null  float32\n",
            " 3   e_Plx       99768 non-null  float32\n",
            " 4   B-V         98871 non-null  float32\n",
            " 5   SpType      97377 non-null  object \n",
            "dtypes: float32(4), int64(1), object(1)\n",
            "memory usage: 3.1+ MB\n"
          ],
          "name": "stdout"
        }
      ]
    },
    {
      "cell_type": "code",
      "metadata": {
        "id": "SlTlZa1oTBlZ",
        "outputId": "33fa4df4-58cb-4de1-b198-768597e1a7b5",
        "colab": {
          "base_uri": "https://localhost:8080/",
          "height": 288
        }
      },
      "source": [
        "raw_data.describe()"
      ],
      "execution_count": null,
      "outputs": [
        {
          "output_type": "execute_result",
          "data": {
            "text/html": [
              "<div>\n",
              "<style scoped>\n",
              "    .dataframe tbody tr th:only-of-type {\n",
              "        vertical-align: middle;\n",
              "    }\n",
              "\n",
              "    .dataframe tbody tr th {\n",
              "        vertical-align: top;\n",
              "    }\n",
              "\n",
              "    .dataframe thead th {\n",
              "        text-align: right;\n",
              "    }\n",
              "</style>\n",
              "<table border=\"1\" class=\"dataframe\">\n",
              "  <thead>\n",
              "    <tr style=\"text-align: right;\">\n",
              "      <th></th>\n",
              "      <th>Unnamed: 0</th>\n",
              "      <th>Vmag</th>\n",
              "      <th>Plx</th>\n",
              "      <th>e_Plx</th>\n",
              "      <th>B-V</th>\n",
              "    </tr>\n",
              "  </thead>\n",
              "  <tbody>\n",
              "    <tr>\n",
              "      <th>count</th>\n",
              "      <td>99999.000000</td>\n",
              "      <td>99998.000000</td>\n",
              "      <td>99768.000000</td>\n",
              "      <td>99768.000000</td>\n",
              "      <td>98871.000000</td>\n",
              "    </tr>\n",
              "    <tr>\n",
              "      <th>mean</th>\n",
              "      <td>49999.000000</td>\n",
              "      <td>8.369750</td>\n",
              "      <td>7.212467</td>\n",
              "      <td>1.365385</td>\n",
              "      <td>0.704726</td>\n",
              "    </tr>\n",
              "    <tr>\n",
              "      <th>std</th>\n",
              "      <td>28867.369122</td>\n",
              "      <td>1.313896</td>\n",
              "      <td>11.348988</td>\n",
              "      <td>1.816838</td>\n",
              "      <td>0.489679</td>\n",
              "    </tr>\n",
              "    <tr>\n",
              "      <th>min</th>\n",
              "      <td>0.000000</td>\n",
              "      <td>-1.440000</td>\n",
              "      <td>-54.950001</td>\n",
              "      <td>0.380000</td>\n",
              "      <td>-0.400000</td>\n",
              "    </tr>\n",
              "    <tr>\n",
              "      <th>25%</th>\n",
              "      <td>24999.500000</td>\n",
              "      <td>7.640000</td>\n",
              "      <td>2.510000</td>\n",
              "      <td>0.880000</td>\n",
              "      <td>0.348000</td>\n",
              "    </tr>\n",
              "    <tr>\n",
              "      <th>50%</th>\n",
              "      <td>49999.000000</td>\n",
              "      <td>8.440000</td>\n",
              "      <td>4.630000</td>\n",
              "      <td>1.100000</td>\n",
              "      <td>0.612000</td>\n",
              "    </tr>\n",
              "    <tr>\n",
              "      <th>75%</th>\n",
              "      <td>74998.500000</td>\n",
              "      <td>9.140000</td>\n",
              "      <td>8.410000</td>\n",
              "      <td>1.390000</td>\n",
              "      <td>1.075000</td>\n",
              "    </tr>\n",
              "    <tr>\n",
              "      <th>max</th>\n",
              "      <td>99998.000000</td>\n",
              "      <td>14.080000</td>\n",
              "      <td>772.330017</td>\n",
              "      <td>114.459999</td>\n",
              "      <td>5.460000</td>\n",
              "    </tr>\n",
              "  </tbody>\n",
              "</table>\n",
              "</div>"
            ],
            "text/plain": [
              "         Unnamed: 0          Vmag           Plx         e_Plx           B-V\n",
              "count  99999.000000  99998.000000  99768.000000  99768.000000  98871.000000\n",
              "mean   49999.000000      8.369750      7.212467      1.365385      0.704726\n",
              "std    28867.369122      1.313896     11.348988      1.816838      0.489679\n",
              "min        0.000000     -1.440000    -54.950001      0.380000     -0.400000\n",
              "25%    24999.500000      7.640000      2.510000      0.880000      0.348000\n",
              "50%    49999.000000      8.440000      4.630000      1.100000      0.612000\n",
              "75%    74998.500000      9.140000      8.410000      1.390000      1.075000\n",
              "max    99998.000000     14.080000    772.330017    114.459999      5.460000"
            ]
          },
          "metadata": {
            "tags": []
          },
          "execution_count": 65
        }
      ]
    },
    {
      "cell_type": "code",
      "metadata": {
        "trusted": true,
        "id": "1ymPm_TGtIW6",
        "outputId": "1413e331-c4cd-4fa7-a421-7febea74e7cf",
        "colab": {
          "base_uri": "https://localhost:8080/",
          "height": 379
        }
      },
      "source": [
        "# Actually , if you want to show all the columns you can add parameter `include='all'`.\n",
        "raw_data.describe(include='all')"
      ],
      "execution_count": null,
      "outputs": [
        {
          "output_type": "execute_result",
          "data": {
            "text/html": [
              "<div>\n",
              "<style scoped>\n",
              "    .dataframe tbody tr th:only-of-type {\n",
              "        vertical-align: middle;\n",
              "    }\n",
              "\n",
              "    .dataframe tbody tr th {\n",
              "        vertical-align: top;\n",
              "    }\n",
              "\n",
              "    .dataframe thead th {\n",
              "        text-align: right;\n",
              "    }\n",
              "</style>\n",
              "<table border=\"1\" class=\"dataframe\">\n",
              "  <thead>\n",
              "    <tr style=\"text-align: right;\">\n",
              "      <th></th>\n",
              "      <th>Unnamed: 0</th>\n",
              "      <th>Vmag</th>\n",
              "      <th>Plx</th>\n",
              "      <th>e_Plx</th>\n",
              "      <th>B-V</th>\n",
              "      <th>SpType</th>\n",
              "    </tr>\n",
              "  </thead>\n",
              "  <tbody>\n",
              "    <tr>\n",
              "      <th>count</th>\n",
              "      <td>99999.000000</td>\n",
              "      <td>99998.000000</td>\n",
              "      <td>99768.000000</td>\n",
              "      <td>99768.000000</td>\n",
              "      <td>98871.000000</td>\n",
              "      <td>97377</td>\n",
              "    </tr>\n",
              "    <tr>\n",
              "      <th>unique</th>\n",
              "      <td>NaN</td>\n",
              "      <td>NaN</td>\n",
              "      <td>NaN</td>\n",
              "      <td>NaN</td>\n",
              "      <td>NaN</td>\n",
              "      <td>3756</td>\n",
              "    </tr>\n",
              "    <tr>\n",
              "      <th>top</th>\n",
              "      <td>NaN</td>\n",
              "      <td>NaN</td>\n",
              "      <td>NaN</td>\n",
              "      <td>NaN</td>\n",
              "      <td>NaN</td>\n",
              "      <td>K0</td>\n",
              "    </tr>\n",
              "    <tr>\n",
              "      <th>freq</th>\n",
              "      <td>NaN</td>\n",
              "      <td>NaN</td>\n",
              "      <td>NaN</td>\n",
              "      <td>NaN</td>\n",
              "      <td>NaN</td>\n",
              "      <td>7355</td>\n",
              "    </tr>\n",
              "    <tr>\n",
              "      <th>mean</th>\n",
              "      <td>49999.000000</td>\n",
              "      <td>8.369750</td>\n",
              "      <td>7.212467</td>\n",
              "      <td>1.365385</td>\n",
              "      <td>0.704726</td>\n",
              "      <td>NaN</td>\n",
              "    </tr>\n",
              "    <tr>\n",
              "      <th>std</th>\n",
              "      <td>28867.369122</td>\n",
              "      <td>1.313896</td>\n",
              "      <td>11.348988</td>\n",
              "      <td>1.816838</td>\n",
              "      <td>0.489679</td>\n",
              "      <td>NaN</td>\n",
              "    </tr>\n",
              "    <tr>\n",
              "      <th>min</th>\n",
              "      <td>0.000000</td>\n",
              "      <td>-1.440000</td>\n",
              "      <td>-54.950001</td>\n",
              "      <td>0.380000</td>\n",
              "      <td>-0.400000</td>\n",
              "      <td>NaN</td>\n",
              "    </tr>\n",
              "    <tr>\n",
              "      <th>25%</th>\n",
              "      <td>24999.500000</td>\n",
              "      <td>7.640000</td>\n",
              "      <td>2.510000</td>\n",
              "      <td>0.880000</td>\n",
              "      <td>0.348000</td>\n",
              "      <td>NaN</td>\n",
              "    </tr>\n",
              "    <tr>\n",
              "      <th>50%</th>\n",
              "      <td>49999.000000</td>\n",
              "      <td>8.440000</td>\n",
              "      <td>4.630000</td>\n",
              "      <td>1.100000</td>\n",
              "      <td>0.612000</td>\n",
              "      <td>NaN</td>\n",
              "    </tr>\n",
              "    <tr>\n",
              "      <th>75%</th>\n",
              "      <td>74998.500000</td>\n",
              "      <td>9.140000</td>\n",
              "      <td>8.410000</td>\n",
              "      <td>1.390000</td>\n",
              "      <td>1.075000</td>\n",
              "      <td>NaN</td>\n",
              "    </tr>\n",
              "    <tr>\n",
              "      <th>max</th>\n",
              "      <td>99998.000000</td>\n",
              "      <td>14.080000</td>\n",
              "      <td>772.330017</td>\n",
              "      <td>114.459999</td>\n",
              "      <td>5.460000</td>\n",
              "      <td>NaN</td>\n",
              "    </tr>\n",
              "  </tbody>\n",
              "</table>\n",
              "</div>"
            ],
            "text/plain": [
              "          Unnamed: 0          Vmag  ...           B-V  SpType\n",
              "count   99999.000000  99998.000000  ...  98871.000000   97377\n",
              "unique           NaN           NaN  ...           NaN    3756\n",
              "top              NaN           NaN  ...           NaN      K0\n",
              "freq             NaN           NaN  ...           NaN    7355\n",
              "mean    49999.000000      8.369750  ...      0.704726     NaN\n",
              "std     28867.369122      1.313896  ...      0.489679     NaN\n",
              "min         0.000000     -1.440000  ...     -0.400000     NaN\n",
              "25%     24999.500000      7.640000  ...      0.348000     NaN\n",
              "50%     49999.000000      8.440000  ...      0.612000     NaN\n",
              "75%     74998.500000      9.140000  ...      1.075000     NaN\n",
              "max     99998.000000     14.080000  ...      5.460000     NaN\n",
              "\n",
              "[11 rows x 6 columns]"
            ]
          },
          "metadata": {
            "tags": []
          },
          "execution_count": 66
        }
      ]
    },
    {
      "cell_type": "markdown",
      "metadata": {
        "id": "nv7tsVvRtIW8"
      },
      "source": [
        "## Revisando datos nulos\n",
        "Es muy común que un conjunto de datos tenga algunos valores nulos."
      ]
    },
    {
      "cell_type": "code",
      "metadata": {
        "trusted": true,
        "id": "Id-1wmZDtIW9",
        "outputId": "494e1818-4cd3-4fe4-b79e-1c94dc73bf8a",
        "colab": {
          "base_uri": "https://localhost:8080/",
          "height": 136
        }
      },
      "source": [
        "# obtener el numero de datos vacíos por columna\n",
        "missing_values_count = raw_data.isnull().sum()\n",
        "\n",
        "missing_values_count"
      ],
      "execution_count": null,
      "outputs": [
        {
          "output_type": "execute_result",
          "data": {
            "text/plain": [
              "Unnamed: 0       0\n",
              "Vmag             1\n",
              "Plx            231\n",
              "e_Plx          231\n",
              "B-V           1128\n",
              "SpType        2622\n",
              "dtype: int64"
            ]
          },
          "metadata": {
            "tags": []
          },
          "execution_count": 14
        }
      ]
    },
    {
      "cell_type": "code",
      "metadata": {
        "id": "qGJ2qWb3BwCf",
        "outputId": "7958a2a0-121f-4a99-cf47-298855393044",
        "colab": {
          "base_uri": "https://localhost:8080/",
          "height": 34
        }
      },
      "source": [
        "raw_data.shape"
      ],
      "execution_count": null,
      "outputs": [
        {
          "output_type": "execute_result",
          "data": {
            "text/plain": [
              "(99999, 6)"
            ]
          },
          "metadata": {
            "tags": []
          },
          "execution_count": 67
        }
      ]
    },
    {
      "cell_type": "code",
      "metadata": {
        "trusted": true,
        "id": "6stlMX5CtIW_",
        "outputId": "4e2dfd20-56a6-4073-fec0-ebaafb91062d",
        "colab": {
          "base_uri": "https://localhost:8080/",
          "height": 34
        }
      },
      "source": [
        "# ¿cuantos valores vacíos tenemos?\n",
        "total_cells = np.product(raw_data.shape)\n",
        "total_missing = missing_values_count.sum()\n",
        "\n",
        "# porcentaje de data perdida\n",
        "percent_missing = (total_missing/total_cells)\n",
        "print(\"Percentage Missing:\", \"{:.2%}\".format(percent_missing))"
      ],
      "execution_count": null,
      "outputs": [
        {
          "output_type": "stream",
          "text": [
            "Percentage Missing: 0.70%\n"
          ],
          "name": "stdout"
        }
      ]
    },
    {
      "cell_type": "markdown",
      "metadata": {
        "id": "cjhC_jpBtIXB"
      },
      "source": [
        "A partir del porcentaje de datos que faltan, dado que es tan pequeño (solo 0,7%), podemos eliminar las filas.\n",
        "\n",
        "Veamos qué pasará si eliminamos todas las filas que contienen un valor faltante."
      ]
    },
    {
      "cell_type": "markdown",
      "metadata": {
        "id": "ESj-Ea-ltIXB"
      },
      "source": [
        "## Eliminando data faltante"
      ]
    },
    {
      "cell_type": "code",
      "metadata": {
        "trusted": true,
        "id": "CbP5Zsf9tIXB",
        "outputId": "25b82cb0-cdb7-444f-f22d-06fca93b2f41",
        "colab": {
          "base_uri": "https://localhost:8080/",
          "height": 419
        }
      },
      "source": [
        "# eliminar todas las filas que contienen un valor faltante\n",
        "# mejor almacenarlo en una nueva variable para evitar confusiones\n",
        "raw_data_na_dropped = raw_data.dropna() \n",
        "\n",
        "raw_data_na_dropped"
      ],
      "execution_count": null,
      "outputs": [
        {
          "output_type": "execute_result",
          "data": {
            "text/html": [
              "<div>\n",
              "<style scoped>\n",
              "    .dataframe tbody tr th:only-of-type {\n",
              "        vertical-align: middle;\n",
              "    }\n",
              "\n",
              "    .dataframe tbody tr th {\n",
              "        vertical-align: top;\n",
              "    }\n",
              "\n",
              "    .dataframe thead th {\n",
              "        text-align: right;\n",
              "    }\n",
              "</style>\n",
              "<table border=\"1\" class=\"dataframe\">\n",
              "  <thead>\n",
              "    <tr style=\"text-align: right;\">\n",
              "      <th></th>\n",
              "      <th>Unnamed: 0</th>\n",
              "      <th>Vmag</th>\n",
              "      <th>Plx</th>\n",
              "      <th>e_Plx</th>\n",
              "      <th>B-V</th>\n",
              "      <th>SpType</th>\n",
              "    </tr>\n",
              "  </thead>\n",
              "  <tbody>\n",
              "    <tr>\n",
              "      <th>0</th>\n",
              "      <td>0</td>\n",
              "      <td>9.10</td>\n",
              "      <td>3.54</td>\n",
              "      <td>1.39</td>\n",
              "      <td>0.482</td>\n",
              "      <td>F5</td>\n",
              "    </tr>\n",
              "    <tr>\n",
              "      <th>1</th>\n",
              "      <td>1</td>\n",
              "      <td>9.27</td>\n",
              "      <td>21.90</td>\n",
              "      <td>3.10</td>\n",
              "      <td>0.999</td>\n",
              "      <td>K3V</td>\n",
              "    </tr>\n",
              "    <tr>\n",
              "      <th>2</th>\n",
              "      <td>2</td>\n",
              "      <td>6.61</td>\n",
              "      <td>2.81</td>\n",
              "      <td>0.63</td>\n",
              "      <td>-0.019</td>\n",
              "      <td>B9</td>\n",
              "    </tr>\n",
              "    <tr>\n",
              "      <th>3</th>\n",
              "      <td>3</td>\n",
              "      <td>8.06</td>\n",
              "      <td>7.75</td>\n",
              "      <td>0.97</td>\n",
              "      <td>0.370</td>\n",
              "      <td>F0V</td>\n",
              "    </tr>\n",
              "    <tr>\n",
              "      <th>4</th>\n",
              "      <td>4</td>\n",
              "      <td>8.55</td>\n",
              "      <td>2.87</td>\n",
              "      <td>1.11</td>\n",
              "      <td>0.902</td>\n",
              "      <td>G8III</td>\n",
              "    </tr>\n",
              "    <tr>\n",
              "      <th>...</th>\n",
              "      <td>...</td>\n",
              "      <td>...</td>\n",
              "      <td>...</td>\n",
              "      <td>...</td>\n",
              "      <td>...</td>\n",
              "      <td>...</td>\n",
              "    </tr>\n",
              "    <tr>\n",
              "      <th>99993</th>\n",
              "      <td>99993</td>\n",
              "      <td>7.92</td>\n",
              "      <td>3.93</td>\n",
              "      <td>1.24</td>\n",
              "      <td>0.133</td>\n",
              "      <td>Am...</td>\n",
              "    </tr>\n",
              "    <tr>\n",
              "      <th>99994</th>\n",
              "      <td>99994</td>\n",
              "      <td>8.72</td>\n",
              "      <td>3.07</td>\n",
              "      <td>0.87</td>\n",
              "      <td>0.097</td>\n",
              "      <td>B3</td>\n",
              "    </tr>\n",
              "    <tr>\n",
              "      <th>99996</th>\n",
              "      <td>99996</td>\n",
              "      <td>8.08</td>\n",
              "      <td>1.07</td>\n",
              "      <td>0.68</td>\n",
              "      <td>1.094</td>\n",
              "      <td>G5</td>\n",
              "    </tr>\n",
              "    <tr>\n",
              "      <th>99997</th>\n",
              "      <td>99997</td>\n",
              "      <td>6.98</td>\n",
              "      <td>2.97</td>\n",
              "      <td>0.76</td>\n",
              "      <td>-0.143</td>\n",
              "      <td>B1.5V</td>\n",
              "    </tr>\n",
              "    <tr>\n",
              "      <th>99998</th>\n",
              "      <td>99998</td>\n",
              "      <td>8.51</td>\n",
              "      <td>-1.18</td>\n",
              "      <td>1.34</td>\n",
              "      <td>1.568</td>\n",
              "      <td>K5/M0III</td>\n",
              "    </tr>\n",
              "  </tbody>\n",
              "</table>\n",
              "<p>96742 rows × 6 columns</p>\n",
              "</div>"
            ],
            "text/plain": [
              "       Unnamed: 0  Vmag    Plx  e_Plx    B-V    SpType\n",
              "0               0  9.10   3.54   1.39  0.482        F5\n",
              "1               1  9.27  21.90   3.10  0.999       K3V\n",
              "2               2  6.61   2.81   0.63 -0.019        B9\n",
              "3               3  8.06   7.75   0.97  0.370       F0V\n",
              "4               4  8.55   2.87   1.11  0.902     G8III\n",
              "...           ...   ...    ...    ...    ...       ...\n",
              "99993       99993  7.92   3.93   1.24  0.133     Am...\n",
              "99994       99994  8.72   3.07   0.87  0.097        B3\n",
              "99996       99996  8.08   1.07   0.68  1.094        G5\n",
              "99997       99997  6.98   2.97   0.76 -0.143     B1.5V\n",
              "99998       99998  8.51  -1.18   1.34  1.568  K5/M0III\n",
              "\n",
              "[96742 rows x 6 columns]"
            ]
          },
          "metadata": {
            "tags": []
          },
          "execution_count": 16
        }
      ]
    },
    {
      "cell_type": "code",
      "metadata": {
        "trusted": true,
        "id": "tb-S7PoktIXE",
        "outputId": "129ebfa0-6bcc-428d-bc6f-d8b56ec6e17b",
        "colab": {
          "base_uri": "https://localhost:8080/",
          "height": 68
        }
      },
      "source": [
        "# ¿Cuántas filas eliminaremos?\n",
        "dropped_rows_count = raw_data.shape[0]-raw_data_na_dropped.shape[0]\n",
        "print(\"filas eliminadas del dataset original %d \\n\" % dropped_rows_count)\n",
        "\n",
        "# Porcentaje de filas eliminadas\n",
        "percent_dropped = dropped_rows_count/raw_data.shape[0]\n",
        "print(\"Porcentaje perdido:\", \"{:.2%}\".format(percent_dropped))"
      ],
      "execution_count": null,
      "outputs": [
        {
          "output_type": "stream",
          "text": [
            "filas eliminadas del dataset original 3257 \n",
            "\n",
            "Porcentaje perdido: 3.26%\n"
          ],
          "name": "stdout"
        }
      ]
    },
    {
      "cell_type": "markdown",
      "metadata": {
        "id": "PaAMSdnDtIXF"
      },
      "source": [
        "Por último, vuelva a leer las estadísticas y la información."
      ]
    },
    {
      "cell_type": "code",
      "metadata": {
        "trusted": true,
        "id": "Rx4-lsUHtIXG",
        "outputId": "3915d096-dbc9-48e4-a107-b0aaffb9bdbf",
        "colab": {
          "base_uri": "https://localhost:8080/",
          "height": 297
        }
      },
      "source": [
        "raw_data_na_dropped.describe()"
      ],
      "execution_count": null,
      "outputs": [
        {
          "output_type": "execute_result",
          "data": {
            "text/html": [
              "<div>\n",
              "<style scoped>\n",
              "    .dataframe tbody tr th:only-of-type {\n",
              "        vertical-align: middle;\n",
              "    }\n",
              "\n",
              "    .dataframe tbody tr th {\n",
              "        vertical-align: top;\n",
              "    }\n",
              "\n",
              "    .dataframe thead th {\n",
              "        text-align: right;\n",
              "    }\n",
              "</style>\n",
              "<table border=\"1\" class=\"dataframe\">\n",
              "  <thead>\n",
              "    <tr style=\"text-align: right;\">\n",
              "      <th></th>\n",
              "      <th>Unnamed: 0</th>\n",
              "      <th>Vmag</th>\n",
              "      <th>Plx</th>\n",
              "      <th>e_Plx</th>\n",
              "      <th>B-V</th>\n",
              "    </tr>\n",
              "  </thead>\n",
              "  <tbody>\n",
              "    <tr>\n",
              "      <th>count</th>\n",
              "      <td>96742.000000</td>\n",
              "      <td>96742.000000</td>\n",
              "      <td>96742.000000</td>\n",
              "      <td>96742.000000</td>\n",
              "      <td>96742.000000</td>\n",
              "    </tr>\n",
              "    <tr>\n",
              "      <th>mean</th>\n",
              "      <td>50008.472721</td>\n",
              "      <td>8.291918</td>\n",
              "      <td>7.105242</td>\n",
              "      <td>1.264163</td>\n",
              "      <td>0.700663</td>\n",
              "    </tr>\n",
              "    <tr>\n",
              "      <th>std</th>\n",
              "      <td>28877.277238</td>\n",
              "      <td>1.247995</td>\n",
              "      <td>11.145643</td>\n",
              "      <td>1.156202</td>\n",
              "      <td>0.490053</td>\n",
              "    </tr>\n",
              "    <tr>\n",
              "      <th>min</th>\n",
              "      <td>0.000000</td>\n",
              "      <td>-1.440000</td>\n",
              "      <td>-35.099998</td>\n",
              "      <td>0.380000</td>\n",
              "      <td>-0.400000</td>\n",
              "    </tr>\n",
              "    <tr>\n",
              "      <th>25%</th>\n",
              "      <td>25001.250000</td>\n",
              "      <td>7.610000</td>\n",
              "      <td>2.520000</td>\n",
              "      <td>0.870000</td>\n",
              "      <td>0.342000</td>\n",
              "    </tr>\n",
              "    <tr>\n",
              "      <th>50%</th>\n",
              "      <td>49971.500000</td>\n",
              "      <td>8.400000</td>\n",
              "      <td>4.600000</td>\n",
              "      <td>1.080000</td>\n",
              "      <td>0.605000</td>\n",
              "    </tr>\n",
              "    <tr>\n",
              "      <th>75%</th>\n",
              "      <td>75034.750000</td>\n",
              "      <td>9.070000</td>\n",
              "      <td>8.270000</td>\n",
              "      <td>1.360000</td>\n",
              "      <td>1.072000</td>\n",
              "    </tr>\n",
              "    <tr>\n",
              "      <th>max</th>\n",
              "      <td>99998.000000</td>\n",
              "      <td>13.610000</td>\n",
              "      <td>772.330017</td>\n",
              "      <td>69.070000</td>\n",
              "      <td>5.460000</td>\n",
              "    </tr>\n",
              "  </tbody>\n",
              "</table>\n",
              "</div>"
            ],
            "text/plain": [
              "         Unnamed: 0          Vmag           Plx         e_Plx           B-V\n",
              "count  96742.000000  96742.000000  96742.000000  96742.000000  96742.000000\n",
              "mean   50008.472721      8.291918      7.105242      1.264163      0.700663\n",
              "std    28877.277238      1.247995     11.145643      1.156202      0.490053\n",
              "min        0.000000     -1.440000    -35.099998      0.380000     -0.400000\n",
              "25%    25001.250000      7.610000      2.520000      0.870000      0.342000\n",
              "50%    49971.500000      8.400000      4.600000      1.080000      0.605000\n",
              "75%    75034.750000      9.070000      8.270000      1.360000      1.072000\n",
              "max    99998.000000     13.610000    772.330017     69.070000      5.460000"
            ]
          },
          "metadata": {
            "tags": []
          },
          "execution_count": 18
        }
      ]
    },
    {
      "cell_type": "markdown",
      "metadata": {
        "id": "DNv3zXzEtIXH"
      },
      "source": [
        "^Oh, almost forgot, we need to drop the first column of dataset."
      ]
    },
    {
      "cell_type": "markdown",
      "metadata": {
        "id": "NSZ9yHNDtIXI"
      },
      "source": [
        "## Eliminación de columnas no deseadas\n"
      ]
    },
    {
      "cell_type": "code",
      "metadata": {
        "trusted": true,
        "id": "WxN3bZrjtIXI",
        "outputId": "42881b55-6049-41a4-98db-56130ff3b66d",
        "colab": {
          "base_uri": "https://localhost:8080/",
          "height": 328
        }
      },
      "source": [
        "# La mejor manera de hacer esto en pandas es usar drop:\n",
        "raw_data_na_dropped = raw_data_na_dropped.drop('Unnamed: 0', axis=1)"
      ],
      "execution_count": null,
      "outputs": [
        {
          "output_type": "error",
          "ename": "KeyError",
          "evalue": "ignored",
          "traceback": [
            "\u001b[0;31m---------------------------------------------------------------------------\u001b[0m",
            "\u001b[0;31mKeyError\u001b[0m                                  Traceback (most recent call last)",
            "\u001b[0;32m<ipython-input-69-08d7e1835234>\u001b[0m in \u001b[0;36m<module>\u001b[0;34m()\u001b[0m\n\u001b[1;32m      1\u001b[0m \u001b[0;31m# La mejor manera de hacer esto en pandas es usar drop:\u001b[0m\u001b[0;34m\u001b[0m\u001b[0;34m\u001b[0m\u001b[0;34m\u001b[0m\u001b[0m\n\u001b[0;32m----> 2\u001b[0;31m \u001b[0mraw_data_na_dropped\u001b[0m \u001b[0;34m=\u001b[0m \u001b[0mraw_data_na_dropped\u001b[0m\u001b[0;34m.\u001b[0m\u001b[0mdrop\u001b[0m\u001b[0;34m(\u001b[0m\u001b[0;34m'Unnamed: 0'\u001b[0m\u001b[0;34m,\u001b[0m \u001b[0maxis\u001b[0m\u001b[0;34m=\u001b[0m\u001b[0;36m1\u001b[0m\u001b[0;34m)\u001b[0m\u001b[0;34m\u001b[0m\u001b[0;34m\u001b[0m\u001b[0m\n\u001b[0m",
            "\u001b[0;32m/usr/local/lib/python3.6/dist-packages/pandas/core/frame.py\u001b[0m in \u001b[0;36mdrop\u001b[0;34m(self, labels, axis, index, columns, level, inplace, errors)\u001b[0m\n\u001b[1;32m   4167\u001b[0m             \u001b[0mlevel\u001b[0m\u001b[0;34m=\u001b[0m\u001b[0mlevel\u001b[0m\u001b[0;34m,\u001b[0m\u001b[0;34m\u001b[0m\u001b[0;34m\u001b[0m\u001b[0m\n\u001b[1;32m   4168\u001b[0m             \u001b[0minplace\u001b[0m\u001b[0;34m=\u001b[0m\u001b[0minplace\u001b[0m\u001b[0;34m,\u001b[0m\u001b[0;34m\u001b[0m\u001b[0;34m\u001b[0m\u001b[0m\n\u001b[0;32m-> 4169\u001b[0;31m             \u001b[0merrors\u001b[0m\u001b[0;34m=\u001b[0m\u001b[0merrors\u001b[0m\u001b[0;34m,\u001b[0m\u001b[0;34m\u001b[0m\u001b[0;34m\u001b[0m\u001b[0m\n\u001b[0m\u001b[1;32m   4170\u001b[0m         )\n\u001b[1;32m   4171\u001b[0m \u001b[0;34m\u001b[0m\u001b[0m\n",
            "\u001b[0;32m/usr/local/lib/python3.6/dist-packages/pandas/core/generic.py\u001b[0m in \u001b[0;36mdrop\u001b[0;34m(self, labels, axis, index, columns, level, inplace, errors)\u001b[0m\n\u001b[1;32m   3882\u001b[0m         \u001b[0;32mfor\u001b[0m \u001b[0maxis\u001b[0m\u001b[0;34m,\u001b[0m \u001b[0mlabels\u001b[0m \u001b[0;32min\u001b[0m \u001b[0maxes\u001b[0m\u001b[0;34m.\u001b[0m\u001b[0mitems\u001b[0m\u001b[0;34m(\u001b[0m\u001b[0;34m)\u001b[0m\u001b[0;34m:\u001b[0m\u001b[0;34m\u001b[0m\u001b[0;34m\u001b[0m\u001b[0m\n\u001b[1;32m   3883\u001b[0m             \u001b[0;32mif\u001b[0m \u001b[0mlabels\u001b[0m \u001b[0;32mis\u001b[0m \u001b[0;32mnot\u001b[0m \u001b[0;32mNone\u001b[0m\u001b[0;34m:\u001b[0m\u001b[0;34m\u001b[0m\u001b[0;34m\u001b[0m\u001b[0m\n\u001b[0;32m-> 3884\u001b[0;31m                 \u001b[0mobj\u001b[0m \u001b[0;34m=\u001b[0m \u001b[0mobj\u001b[0m\u001b[0;34m.\u001b[0m\u001b[0m_drop_axis\u001b[0m\u001b[0;34m(\u001b[0m\u001b[0mlabels\u001b[0m\u001b[0;34m,\u001b[0m \u001b[0maxis\u001b[0m\u001b[0;34m,\u001b[0m \u001b[0mlevel\u001b[0m\u001b[0;34m=\u001b[0m\u001b[0mlevel\u001b[0m\u001b[0;34m,\u001b[0m \u001b[0merrors\u001b[0m\u001b[0;34m=\u001b[0m\u001b[0merrors\u001b[0m\u001b[0;34m)\u001b[0m\u001b[0;34m\u001b[0m\u001b[0;34m\u001b[0m\u001b[0m\n\u001b[0m\u001b[1;32m   3885\u001b[0m \u001b[0;34m\u001b[0m\u001b[0m\n\u001b[1;32m   3886\u001b[0m         \u001b[0;32mif\u001b[0m \u001b[0minplace\u001b[0m\u001b[0;34m:\u001b[0m\u001b[0;34m\u001b[0m\u001b[0;34m\u001b[0m\u001b[0m\n",
            "\u001b[0;32m/usr/local/lib/python3.6/dist-packages/pandas/core/generic.py\u001b[0m in \u001b[0;36m_drop_axis\u001b[0;34m(self, labels, axis, level, errors)\u001b[0m\n\u001b[1;32m   3916\u001b[0m                 \u001b[0mnew_axis\u001b[0m \u001b[0;34m=\u001b[0m \u001b[0maxis\u001b[0m\u001b[0;34m.\u001b[0m\u001b[0mdrop\u001b[0m\u001b[0;34m(\u001b[0m\u001b[0mlabels\u001b[0m\u001b[0;34m,\u001b[0m \u001b[0mlevel\u001b[0m\u001b[0;34m=\u001b[0m\u001b[0mlevel\u001b[0m\u001b[0;34m,\u001b[0m \u001b[0merrors\u001b[0m\u001b[0;34m=\u001b[0m\u001b[0merrors\u001b[0m\u001b[0;34m)\u001b[0m\u001b[0;34m\u001b[0m\u001b[0;34m\u001b[0m\u001b[0m\n\u001b[1;32m   3917\u001b[0m             \u001b[0;32melse\u001b[0m\u001b[0;34m:\u001b[0m\u001b[0;34m\u001b[0m\u001b[0;34m\u001b[0m\u001b[0m\n\u001b[0;32m-> 3918\u001b[0;31m                 \u001b[0mnew_axis\u001b[0m \u001b[0;34m=\u001b[0m \u001b[0maxis\u001b[0m\u001b[0;34m.\u001b[0m\u001b[0mdrop\u001b[0m\u001b[0;34m(\u001b[0m\u001b[0mlabels\u001b[0m\u001b[0;34m,\u001b[0m \u001b[0merrors\u001b[0m\u001b[0;34m=\u001b[0m\u001b[0merrors\u001b[0m\u001b[0;34m)\u001b[0m\u001b[0;34m\u001b[0m\u001b[0;34m\u001b[0m\u001b[0m\n\u001b[0m\u001b[1;32m   3919\u001b[0m             \u001b[0mresult\u001b[0m \u001b[0;34m=\u001b[0m \u001b[0mself\u001b[0m\u001b[0;34m.\u001b[0m\u001b[0mreindex\u001b[0m\u001b[0;34m(\u001b[0m\u001b[0;34m**\u001b[0m\u001b[0;34m{\u001b[0m\u001b[0maxis_name\u001b[0m\u001b[0;34m:\u001b[0m \u001b[0mnew_axis\u001b[0m\u001b[0;34m}\u001b[0m\u001b[0;34m)\u001b[0m\u001b[0;34m\u001b[0m\u001b[0;34m\u001b[0m\u001b[0m\n\u001b[1;32m   3920\u001b[0m \u001b[0;34m\u001b[0m\u001b[0m\n",
            "\u001b[0;32m/usr/local/lib/python3.6/dist-packages/pandas/core/indexes/base.py\u001b[0m in \u001b[0;36mdrop\u001b[0;34m(self, labels, errors)\u001b[0m\n\u001b[1;32m   5276\u001b[0m         \u001b[0;32mif\u001b[0m \u001b[0mmask\u001b[0m\u001b[0;34m.\u001b[0m\u001b[0many\u001b[0m\u001b[0;34m(\u001b[0m\u001b[0;34m)\u001b[0m\u001b[0;34m:\u001b[0m\u001b[0;34m\u001b[0m\u001b[0;34m\u001b[0m\u001b[0m\n\u001b[1;32m   5277\u001b[0m             \u001b[0;32mif\u001b[0m \u001b[0merrors\u001b[0m \u001b[0;34m!=\u001b[0m \u001b[0;34m\"ignore\"\u001b[0m\u001b[0;34m:\u001b[0m\u001b[0;34m\u001b[0m\u001b[0;34m\u001b[0m\u001b[0m\n\u001b[0;32m-> 5278\u001b[0;31m                 \u001b[0;32mraise\u001b[0m \u001b[0mKeyError\u001b[0m\u001b[0;34m(\u001b[0m\u001b[0;34mf\"{labels[mask]} not found in axis\"\u001b[0m\u001b[0;34m)\u001b[0m\u001b[0;34m\u001b[0m\u001b[0;34m\u001b[0m\u001b[0m\n\u001b[0m\u001b[1;32m   5279\u001b[0m             \u001b[0mindexer\u001b[0m \u001b[0;34m=\u001b[0m \u001b[0mindexer\u001b[0m\u001b[0;34m[\u001b[0m\u001b[0;34m~\u001b[0m\u001b[0mmask\u001b[0m\u001b[0;34m]\u001b[0m\u001b[0;34m\u001b[0m\u001b[0;34m\u001b[0m\u001b[0m\n\u001b[1;32m   5280\u001b[0m         \u001b[0;32mreturn\u001b[0m \u001b[0mself\u001b[0m\u001b[0;34m.\u001b[0m\u001b[0mdelete\u001b[0m\u001b[0;34m(\u001b[0m\u001b[0mindexer\u001b[0m\u001b[0;34m)\u001b[0m\u001b[0;34m\u001b[0m\u001b[0;34m\u001b[0m\u001b[0m\n",
            "\u001b[0;31mKeyError\u001b[0m: \"['Unnamed: 0'] not found in axis\""
          ]
        }
      ]
    },
    {
      "cell_type": "code",
      "metadata": {
        "trusted": true,
        "id": "ZlTfLj6ttIXJ",
        "outputId": "be7156c0-7799-4047-a0a9-04d454617a6c",
        "colab": {
          "base_uri": "https://localhost:8080/",
          "height": 288
        }
      },
      "source": [
        "raw_data_na_dropped.describe()"
      ],
      "execution_count": null,
      "outputs": [
        {
          "output_type": "execute_result",
          "data": {
            "text/html": [
              "<div>\n",
              "<style scoped>\n",
              "    .dataframe tbody tr th:only-of-type {\n",
              "        vertical-align: middle;\n",
              "    }\n",
              "\n",
              "    .dataframe tbody tr th {\n",
              "        vertical-align: top;\n",
              "    }\n",
              "\n",
              "    .dataframe thead th {\n",
              "        text-align: right;\n",
              "    }\n",
              "</style>\n",
              "<table border=\"1\" class=\"dataframe\">\n",
              "  <thead>\n",
              "    <tr style=\"text-align: right;\">\n",
              "      <th></th>\n",
              "      <th>Vmag</th>\n",
              "      <th>Plx</th>\n",
              "      <th>e_Plx</th>\n",
              "      <th>B-V</th>\n",
              "    </tr>\n",
              "  </thead>\n",
              "  <tbody>\n",
              "    <tr>\n",
              "      <th>count</th>\n",
              "      <td>96742.000000</td>\n",
              "      <td>96742.000000</td>\n",
              "      <td>96742.000000</td>\n",
              "      <td>96742.000000</td>\n",
              "    </tr>\n",
              "    <tr>\n",
              "      <th>mean</th>\n",
              "      <td>8.291918</td>\n",
              "      <td>7.105242</td>\n",
              "      <td>1.264163</td>\n",
              "      <td>0.700663</td>\n",
              "    </tr>\n",
              "    <tr>\n",
              "      <th>std</th>\n",
              "      <td>1.247995</td>\n",
              "      <td>11.145643</td>\n",
              "      <td>1.156202</td>\n",
              "      <td>0.490053</td>\n",
              "    </tr>\n",
              "    <tr>\n",
              "      <th>min</th>\n",
              "      <td>-1.440000</td>\n",
              "      <td>-35.099998</td>\n",
              "      <td>0.380000</td>\n",
              "      <td>-0.400000</td>\n",
              "    </tr>\n",
              "    <tr>\n",
              "      <th>25%</th>\n",
              "      <td>7.610000</td>\n",
              "      <td>2.520000</td>\n",
              "      <td>0.870000</td>\n",
              "      <td>0.342000</td>\n",
              "    </tr>\n",
              "    <tr>\n",
              "      <th>50%</th>\n",
              "      <td>8.400000</td>\n",
              "      <td>4.600000</td>\n",
              "      <td>1.080000</td>\n",
              "      <td>0.605000</td>\n",
              "    </tr>\n",
              "    <tr>\n",
              "      <th>75%</th>\n",
              "      <td>9.070000</td>\n",
              "      <td>8.270000</td>\n",
              "      <td>1.360000</td>\n",
              "      <td>1.072000</td>\n",
              "    </tr>\n",
              "    <tr>\n",
              "      <th>max</th>\n",
              "      <td>13.610000</td>\n",
              "      <td>772.330017</td>\n",
              "      <td>69.070000</td>\n",
              "      <td>5.460000</td>\n",
              "    </tr>\n",
              "  </tbody>\n",
              "</table>\n",
              "</div>"
            ],
            "text/plain": [
              "               Vmag           Plx         e_Plx           B-V\n",
              "count  96742.000000  96742.000000  96742.000000  96742.000000\n",
              "mean       8.291918      7.105242      1.264163      0.700663\n",
              "std        1.247995     11.145643      1.156202      0.490053\n",
              "min       -1.440000    -35.099998      0.380000     -0.400000\n",
              "25%        7.610000      2.520000      0.870000      0.342000\n",
              "50%        8.400000      4.600000      1.080000      0.605000\n",
              "75%        9.070000      8.270000      1.360000      1.072000\n",
              "max       13.610000    772.330017     69.070000      5.460000"
            ]
          },
          "metadata": {
            "tags": []
          },
          "execution_count": 70
        }
      ]
    },
    {
      "cell_type": "code",
      "metadata": {
        "trusted": true,
        "id": "DRIg1fagtIXL",
        "outputId": "85b6d9d9-612a-4d6d-fdaf-51511eb85c4a",
        "colab": {
          "base_uri": "https://localhost:8080/",
          "height": 224
        }
      },
      "source": [
        "raw_data_na_dropped.info()"
      ],
      "execution_count": null,
      "outputs": [
        {
          "output_type": "stream",
          "text": [
            "<class 'pandas.core.frame.DataFrame'>\n",
            "Int64Index: 96742 entries, 0 to 99998\n",
            "Data columns (total 5 columns):\n",
            " #   Column  Non-Null Count  Dtype  \n",
            "---  ------  --------------  -----  \n",
            " 0   Vmag    96742 non-null  float32\n",
            " 1   Plx     96742 non-null  float32\n",
            " 2   e_Plx   96742 non-null  float32\n",
            " 3   B-V     96742 non-null  float32\n",
            " 4   SpType  96742 non-null  object \n",
            "dtypes: float32(4), object(1)\n",
            "memory usage: 3.0+ MB\n"
          ],
          "name": "stdout"
        }
      ]
    },
    {
      "cell_type": "markdown",
      "metadata": {
        "id": "_jgKvDHntIXN"
      },
      "source": [
        "Notamos que Int64Index tiene 96742 entradas, pero la indexación está de 0 a 99998.\n",
        "\n",
        "Por lo tanto, necesitamos [reindexar](https://stackoverflow.com/questions/40755680/how-to-reset-index-pandas-dataframe-after-dropna-pandas-dataframe) nuestro marco de datos.\n",
        "\n"
      ]
    },
    {
      "cell_type": "code",
      "metadata": {
        "trusted": true,
        "id": "XICQTNM-tIXN"
      },
      "source": [
        "raw_data_na_dropped_reindex = raw_data_na_dropped.reset_index(drop=True)"
      ],
      "execution_count": null,
      "outputs": []
    },
    {
      "cell_type": "code",
      "metadata": {
        "trusted": true,
        "id": "PIyng_AYtIXP",
        "outputId": "f84badf1-920d-417b-b271-cfb510a87d0e",
        "colab": {
          "base_uri": "https://localhost:8080/",
          "height": 221
        }
      },
      "source": [
        "raw_data_na_dropped_reindex.info()"
      ],
      "execution_count": null,
      "outputs": [
        {
          "output_type": "stream",
          "text": [
            "<class 'pandas.core.frame.DataFrame'>\n",
            "RangeIndex: 96742 entries, 0 to 96741\n",
            "Data columns (total 5 columns):\n",
            " #   Column  Non-Null Count  Dtype  \n",
            "---  ------  --------------  -----  \n",
            " 0   Vmag    96742 non-null  float32\n",
            " 1   Plx     96742 non-null  float32\n",
            " 2   e_Plx   96742 non-null  float32\n",
            " 3   B-V     96742 non-null  float32\n",
            " 4   SpType  96742 non-null  object \n",
            "dtypes: float32(4), object(1)\n",
            "memory usage: 2.2+ MB\n"
          ],
          "name": "stdout"
        }
      ]
    },
    {
      "cell_type": "code",
      "metadata": {
        "trusted": true,
        "id": "ZKpHNggEtIXQ"
      },
      "source": [
        "#Optional - Save our progress\n",
        "raw_data_na_dropped_reindex.to_csv(\"Star99999_na_dropped.csv\", index=False)"
      ],
      "execution_count": null,
      "outputs": []
    },
    {
      "cell_type": "markdown",
      "metadata": {
        "id": "L7La47KDtIXS"
      },
      "source": [
        "# Creando una nueva columna para Amag"
      ]
    },
    {
      "cell_type": "markdown",
      "metadata": {
        "id": "8v9fUfn1tIXS"
      },
      "source": [
        "## Calculando la magnitu absoluta\n",
        "\n",
        "The absolute magnitude of the stars were generated via the equation:\n",
        "\n",
        "$$M = m+5(log_{10}p+1)$$\n",
        "\n",
        "Donde $M$ representa la magnitud absoluta 'Amag',\n",
        "**m** representa la magnitud visual aparente 'Vmag'\n",
        "y **p** representa el paralaje estelar 'Plx'.\n",
        "\n",
        "\n",
        "En esta sesión, crearemos una nueva columna ʻAmag` para almacenar $ M $.\n",
        "\n",
        "Las cosas deben ser conscientes:\n",
        "* Tomar logaritmo de 0 daría como resultado un infinito, que es lo que no queremos ver\n",
        "  * Para solucionar esto: soltar filas con `Plx` = 0\n",
        "* Tomar logaritmos de números negativos daría como resultado números complejos, que es lo que tampoco queremos ver.\n",
        "  * Para arreglar esto: Tomando el valor absoluto de `Plx`\n"
      ]
    },
    {
      "cell_type": "code",
      "metadata": {
        "trusted": true,
        "id": "uf8R7vt6tIXS",
        "outputId": "69293dda-6f71-4df6-c29b-73ed253d656d",
        "colab": {
          "base_uri": "https://localhost:8080/",
          "height": 408
        }
      },
      "source": [
        "#guardando una copia\n",
        "df = raw_data_na_dropped_reindex.copy()\n",
        "df"
      ],
      "execution_count": null,
      "outputs": [
        {
          "output_type": "execute_result",
          "data": {
            "text/html": [
              "<div>\n",
              "<style scoped>\n",
              "    .dataframe tbody tr th:only-of-type {\n",
              "        vertical-align: middle;\n",
              "    }\n",
              "\n",
              "    .dataframe tbody tr th {\n",
              "        vertical-align: top;\n",
              "    }\n",
              "\n",
              "    .dataframe thead th {\n",
              "        text-align: right;\n",
              "    }\n",
              "</style>\n",
              "<table border=\"1\" class=\"dataframe\">\n",
              "  <thead>\n",
              "    <tr style=\"text-align: right;\">\n",
              "      <th></th>\n",
              "      <th>Vmag</th>\n",
              "      <th>Plx</th>\n",
              "      <th>e_Plx</th>\n",
              "      <th>B-V</th>\n",
              "      <th>SpType</th>\n",
              "    </tr>\n",
              "  </thead>\n",
              "  <tbody>\n",
              "    <tr>\n",
              "      <th>0</th>\n",
              "      <td>9.10</td>\n",
              "      <td>3.54</td>\n",
              "      <td>1.39</td>\n",
              "      <td>0.482</td>\n",
              "      <td>F5</td>\n",
              "    </tr>\n",
              "    <tr>\n",
              "      <th>1</th>\n",
              "      <td>9.27</td>\n",
              "      <td>21.90</td>\n",
              "      <td>3.10</td>\n",
              "      <td>0.999</td>\n",
              "      <td>K3V</td>\n",
              "    </tr>\n",
              "    <tr>\n",
              "      <th>2</th>\n",
              "      <td>6.61</td>\n",
              "      <td>2.81</td>\n",
              "      <td>0.63</td>\n",
              "      <td>-0.019</td>\n",
              "      <td>B9</td>\n",
              "    </tr>\n",
              "    <tr>\n",
              "      <th>3</th>\n",
              "      <td>8.06</td>\n",
              "      <td>7.75</td>\n",
              "      <td>0.97</td>\n",
              "      <td>0.370</td>\n",
              "      <td>F0V</td>\n",
              "    </tr>\n",
              "    <tr>\n",
              "      <th>4</th>\n",
              "      <td>8.55</td>\n",
              "      <td>2.87</td>\n",
              "      <td>1.11</td>\n",
              "      <td>0.902</td>\n",
              "      <td>G8III</td>\n",
              "    </tr>\n",
              "    <tr>\n",
              "      <th>...</th>\n",
              "      <td>...</td>\n",
              "      <td>...</td>\n",
              "      <td>...</td>\n",
              "      <td>...</td>\n",
              "      <td>...</td>\n",
              "    </tr>\n",
              "    <tr>\n",
              "      <th>96737</th>\n",
              "      <td>7.92</td>\n",
              "      <td>3.93</td>\n",
              "      <td>1.24</td>\n",
              "      <td>0.133</td>\n",
              "      <td>Am...</td>\n",
              "    </tr>\n",
              "    <tr>\n",
              "      <th>96738</th>\n",
              "      <td>8.72</td>\n",
              "      <td>3.07</td>\n",
              "      <td>0.87</td>\n",
              "      <td>0.097</td>\n",
              "      <td>B3</td>\n",
              "    </tr>\n",
              "    <tr>\n",
              "      <th>96739</th>\n",
              "      <td>8.08</td>\n",
              "      <td>1.07</td>\n",
              "      <td>0.68</td>\n",
              "      <td>1.094</td>\n",
              "      <td>G5</td>\n",
              "    </tr>\n",
              "    <tr>\n",
              "      <th>96740</th>\n",
              "      <td>6.98</td>\n",
              "      <td>2.97</td>\n",
              "      <td>0.76</td>\n",
              "      <td>-0.143</td>\n",
              "      <td>B1.5V</td>\n",
              "    </tr>\n",
              "    <tr>\n",
              "      <th>96741</th>\n",
              "      <td>8.51</td>\n",
              "      <td>-1.18</td>\n",
              "      <td>1.34</td>\n",
              "      <td>1.568</td>\n",
              "      <td>K5/M0III</td>\n",
              "    </tr>\n",
              "  </tbody>\n",
              "</table>\n",
              "<p>96742 rows × 5 columns</p>\n",
              "</div>"
            ],
            "text/plain": [
              "       Vmag    Plx  e_Plx    B-V    SpType\n",
              "0      9.10   3.54   1.39  0.482        F5\n",
              "1      9.27  21.90   3.10  0.999       K3V\n",
              "2      6.61   2.81   0.63 -0.019        B9\n",
              "3      8.06   7.75   0.97  0.370       F0V\n",
              "4      8.55   2.87   1.11  0.902     G8III\n",
              "...     ...    ...    ...    ...       ...\n",
              "96737  7.92   3.93   1.24  0.133     Am...\n",
              "96738  8.72   3.07   0.87  0.097        B3\n",
              "96739  8.08   1.07   0.68  1.094        G5\n",
              "96740  6.98   2.97   0.76 -0.143     B1.5V\n",
              "96741  8.51  -1.18   1.34  1.568  K5/M0III\n",
              "\n",
              "[96742 rows x 5 columns]"
            ]
          },
          "metadata": {
            "tags": []
          },
          "execution_count": 74
        }
      ]
    },
    {
      "cell_type": "code",
      "metadata": {
        "trusted": true,
        "id": "kKbKVmdhtIXU",
        "outputId": "b13f01c4-d487-4588-bf7c-85455806f528",
        "colab": {
          "base_uri": "https://localhost:8080/",
          "height": 408
        }
      },
      "source": [
        "#Dropping rows that `Plx` = 0\n",
        "df = df[df.Plx != 0] #ingresamos al data frame, los corchetes ingresan a una columna en específico\n",
        "\n",
        "#Reindex the dataframe\n",
        "df = df.reset_index(drop=True)\n",
        "\n",
        "df"
      ],
      "execution_count": null,
      "outputs": [
        {
          "output_type": "execute_result",
          "data": {
            "text/html": [
              "<div>\n",
              "<style scoped>\n",
              "    .dataframe tbody tr th:only-of-type {\n",
              "        vertical-align: middle;\n",
              "    }\n",
              "\n",
              "    .dataframe tbody tr th {\n",
              "        vertical-align: top;\n",
              "    }\n",
              "\n",
              "    .dataframe thead th {\n",
              "        text-align: right;\n",
              "    }\n",
              "</style>\n",
              "<table border=\"1\" class=\"dataframe\">\n",
              "  <thead>\n",
              "    <tr style=\"text-align: right;\">\n",
              "      <th></th>\n",
              "      <th>Vmag</th>\n",
              "      <th>Plx</th>\n",
              "      <th>e_Plx</th>\n",
              "      <th>B-V</th>\n",
              "      <th>SpType</th>\n",
              "    </tr>\n",
              "  </thead>\n",
              "  <tbody>\n",
              "    <tr>\n",
              "      <th>0</th>\n",
              "      <td>9.10</td>\n",
              "      <td>3.54</td>\n",
              "      <td>1.39</td>\n",
              "      <td>0.482</td>\n",
              "      <td>F5</td>\n",
              "    </tr>\n",
              "    <tr>\n",
              "      <th>1</th>\n",
              "      <td>9.27</td>\n",
              "      <td>21.90</td>\n",
              "      <td>3.10</td>\n",
              "      <td>0.999</td>\n",
              "      <td>K3V</td>\n",
              "    </tr>\n",
              "    <tr>\n",
              "      <th>2</th>\n",
              "      <td>6.61</td>\n",
              "      <td>2.81</td>\n",
              "      <td>0.63</td>\n",
              "      <td>-0.019</td>\n",
              "      <td>B9</td>\n",
              "    </tr>\n",
              "    <tr>\n",
              "      <th>3</th>\n",
              "      <td>8.06</td>\n",
              "      <td>7.75</td>\n",
              "      <td>0.97</td>\n",
              "      <td>0.370</td>\n",
              "      <td>F0V</td>\n",
              "    </tr>\n",
              "    <tr>\n",
              "      <th>4</th>\n",
              "      <td>8.55</td>\n",
              "      <td>2.87</td>\n",
              "      <td>1.11</td>\n",
              "      <td>0.902</td>\n",
              "      <td>G8III</td>\n",
              "    </tr>\n",
              "    <tr>\n",
              "      <th>...</th>\n",
              "      <td>...</td>\n",
              "      <td>...</td>\n",
              "      <td>...</td>\n",
              "      <td>...</td>\n",
              "      <td>...</td>\n",
              "    </tr>\n",
              "    <tr>\n",
              "      <th>96702</th>\n",
              "      <td>7.92</td>\n",
              "      <td>3.93</td>\n",
              "      <td>1.24</td>\n",
              "      <td>0.133</td>\n",
              "      <td>Am...</td>\n",
              "    </tr>\n",
              "    <tr>\n",
              "      <th>96703</th>\n",
              "      <td>8.72</td>\n",
              "      <td>3.07</td>\n",
              "      <td>0.87</td>\n",
              "      <td>0.097</td>\n",
              "      <td>B3</td>\n",
              "    </tr>\n",
              "    <tr>\n",
              "      <th>96704</th>\n",
              "      <td>8.08</td>\n",
              "      <td>1.07</td>\n",
              "      <td>0.68</td>\n",
              "      <td>1.094</td>\n",
              "      <td>G5</td>\n",
              "    </tr>\n",
              "    <tr>\n",
              "      <th>96705</th>\n",
              "      <td>6.98</td>\n",
              "      <td>2.97</td>\n",
              "      <td>0.76</td>\n",
              "      <td>-0.143</td>\n",
              "      <td>B1.5V</td>\n",
              "    </tr>\n",
              "    <tr>\n",
              "      <th>96706</th>\n",
              "      <td>8.51</td>\n",
              "      <td>-1.18</td>\n",
              "      <td>1.34</td>\n",
              "      <td>1.568</td>\n",
              "      <td>K5/M0III</td>\n",
              "    </tr>\n",
              "  </tbody>\n",
              "</table>\n",
              "<p>96707 rows × 5 columns</p>\n",
              "</div>"
            ],
            "text/plain": [
              "       Vmag    Plx  e_Plx    B-V    SpType\n",
              "0      9.10   3.54   1.39  0.482        F5\n",
              "1      9.27  21.90   3.10  0.999       K3V\n",
              "2      6.61   2.81   0.63 -0.019        B9\n",
              "3      8.06   7.75   0.97  0.370       F0V\n",
              "4      8.55   2.87   1.11  0.902     G8III\n",
              "...     ...    ...    ...    ...       ...\n",
              "96702  7.92   3.93   1.24  0.133     Am...\n",
              "96703  8.72   3.07   0.87  0.097        B3\n",
              "96704  8.08   1.07   0.68  1.094        G5\n",
              "96705  6.98   2.97   0.76 -0.143     B1.5V\n",
              "96706  8.51  -1.18   1.34  1.568  K5/M0III\n",
              "\n",
              "[96707 rows x 5 columns]"
            ]
          },
          "metadata": {
            "tags": []
          },
          "execution_count": 75
        }
      ]
    },
    {
      "cell_type": "markdown",
      "metadata": {
        "id": "Myo8kB4YtIXV"
      },
      "source": [
        "Hemos removido todas las filas donde 'Plx' = 0.\n"
      ]
    },
    {
      "cell_type": "code",
      "metadata": {
        "trusted": true,
        "id": "8_x_Y2netIXW",
        "outputId": "542b155c-acaa-4d60-e619-3398a2c9238f",
        "colab": {
          "base_uri": "https://localhost:8080/",
          "height": 408
        }
      },
      "source": [
        "#Implementando la ecuación\n",
        "\n",
        "df[\"Amag\"] = df[\"Vmag\"] + 5* (np.log10(abs(df[\"Plx\"]))+1)\n",
        "\n",
        "df"
      ],
      "execution_count": null,
      "outputs": [
        {
          "output_type": "execute_result",
          "data": {
            "text/html": [
              "<div>\n",
              "<style scoped>\n",
              "    .dataframe tbody tr th:only-of-type {\n",
              "        vertical-align: middle;\n",
              "    }\n",
              "\n",
              "    .dataframe tbody tr th {\n",
              "        vertical-align: top;\n",
              "    }\n",
              "\n",
              "    .dataframe thead th {\n",
              "        text-align: right;\n",
              "    }\n",
              "</style>\n",
              "<table border=\"1\" class=\"dataframe\">\n",
              "  <thead>\n",
              "    <tr style=\"text-align: right;\">\n",
              "      <th></th>\n",
              "      <th>Vmag</th>\n",
              "      <th>Plx</th>\n",
              "      <th>e_Plx</th>\n",
              "      <th>B-V</th>\n",
              "      <th>SpType</th>\n",
              "      <th>Amag</th>\n",
              "    </tr>\n",
              "  </thead>\n",
              "  <tbody>\n",
              "    <tr>\n",
              "      <th>0</th>\n",
              "      <td>9.10</td>\n",
              "      <td>3.54</td>\n",
              "      <td>1.39</td>\n",
              "      <td>0.482</td>\n",
              "      <td>F5</td>\n",
              "      <td>16.845016</td>\n",
              "    </tr>\n",
              "    <tr>\n",
              "      <th>1</th>\n",
              "      <td>9.27</td>\n",
              "      <td>21.90</td>\n",
              "      <td>3.10</td>\n",
              "      <td>0.999</td>\n",
              "      <td>K3V</td>\n",
              "      <td>20.972221</td>\n",
              "    </tr>\n",
              "    <tr>\n",
              "      <th>2</th>\n",
              "      <td>6.61</td>\n",
              "      <td>2.81</td>\n",
              "      <td>0.63</td>\n",
              "      <td>-0.019</td>\n",
              "      <td>B9</td>\n",
              "      <td>13.853533</td>\n",
              "    </tr>\n",
              "    <tr>\n",
              "      <th>3</th>\n",
              "      <td>8.06</td>\n",
              "      <td>7.75</td>\n",
              "      <td>0.97</td>\n",
              "      <td>0.370</td>\n",
              "      <td>F0V</td>\n",
              "      <td>17.506508</td>\n",
              "    </tr>\n",
              "    <tr>\n",
              "      <th>4</th>\n",
              "      <td>8.55</td>\n",
              "      <td>2.87</td>\n",
              "      <td>1.11</td>\n",
              "      <td>0.902</td>\n",
              "      <td>G8III</td>\n",
              "      <td>15.839410</td>\n",
              "    </tr>\n",
              "    <tr>\n",
              "      <th>...</th>\n",
              "      <td>...</td>\n",
              "      <td>...</td>\n",
              "      <td>...</td>\n",
              "      <td>...</td>\n",
              "      <td>...</td>\n",
              "      <td>...</td>\n",
              "    </tr>\n",
              "    <tr>\n",
              "      <th>96702</th>\n",
              "      <td>7.92</td>\n",
              "      <td>3.93</td>\n",
              "      <td>1.24</td>\n",
              "      <td>0.133</td>\n",
              "      <td>Am...</td>\n",
              "      <td>15.891963</td>\n",
              "    </tr>\n",
              "    <tr>\n",
              "      <th>96703</th>\n",
              "      <td>8.72</td>\n",
              "      <td>3.07</td>\n",
              "      <td>0.87</td>\n",
              "      <td>0.097</td>\n",
              "      <td>B3</td>\n",
              "      <td>16.155693</td>\n",
              "    </tr>\n",
              "    <tr>\n",
              "      <th>96704</th>\n",
              "      <td>8.08</td>\n",
              "      <td>1.07</td>\n",
              "      <td>0.68</td>\n",
              "      <td>1.094</td>\n",
              "      <td>G5</td>\n",
              "      <td>13.226919</td>\n",
              "    </tr>\n",
              "    <tr>\n",
              "      <th>96705</th>\n",
              "      <td>6.98</td>\n",
              "      <td>2.97</td>\n",
              "      <td>0.76</td>\n",
              "      <td>-0.143</td>\n",
              "      <td>B1.5V</td>\n",
              "      <td>14.343782</td>\n",
              "    </tr>\n",
              "    <tr>\n",
              "      <th>96706</th>\n",
              "      <td>8.51</td>\n",
              "      <td>-1.18</td>\n",
              "      <td>1.34</td>\n",
              "      <td>1.568</td>\n",
              "      <td>K5/M0III</td>\n",
              "      <td>13.869411</td>\n",
              "    </tr>\n",
              "  </tbody>\n",
              "</table>\n",
              "<p>96707 rows × 6 columns</p>\n",
              "</div>"
            ],
            "text/plain": [
              "       Vmag    Plx  e_Plx    B-V    SpType       Amag\n",
              "0      9.10   3.54   1.39  0.482        F5  16.845016\n",
              "1      9.27  21.90   3.10  0.999       K3V  20.972221\n",
              "2      6.61   2.81   0.63 -0.019        B9  13.853533\n",
              "3      8.06   7.75   0.97  0.370       F0V  17.506508\n",
              "4      8.55   2.87   1.11  0.902     G8III  15.839410\n",
              "...     ...    ...    ...    ...       ...        ...\n",
              "96702  7.92   3.93   1.24  0.133     Am...  15.891963\n",
              "96703  8.72   3.07   0.87  0.097        B3  16.155693\n",
              "96704  8.08   1.07   0.68  1.094        G5  13.226919\n",
              "96705  6.98   2.97   0.76 -0.143     B1.5V  14.343782\n",
              "96706  8.51  -1.18   1.34  1.568  K5/M0III  13.869411\n",
              "\n",
              "[96707 rows x 6 columns]"
            ]
          },
          "metadata": {
            "tags": []
          },
          "execution_count": 76
        }
      ]
    },
    {
      "cell_type": "code",
      "metadata": {
        "trusted": true,
        "id": "MTPYpurZtIXY",
        "outputId": "67afef2b-6d13-4a2c-98a3-453ccb11a3bf",
        "colab": {
          "base_uri": "https://localhost:8080/",
          "height": 242
        }
      },
      "source": [
        "df.info()"
      ],
      "execution_count": null,
      "outputs": [
        {
          "output_type": "stream",
          "text": [
            "<class 'pandas.core.frame.DataFrame'>\n",
            "RangeIndex: 96707 entries, 0 to 96706\n",
            "Data columns (total 6 columns):\n",
            " #   Column  Non-Null Count  Dtype  \n",
            "---  ------  --------------  -----  \n",
            " 0   Vmag    96707 non-null  float32\n",
            " 1   Plx     96707 non-null  float32\n",
            " 2   e_Plx   96707 non-null  float32\n",
            " 3   B-V     96707 non-null  float32\n",
            " 4   SpType  96707 non-null  object \n",
            " 5   Amag    96707 non-null  float32\n",
            "dtypes: float32(5), object(1)\n",
            "memory usage: 2.6+ MB\n"
          ],
          "name": "stdout"
        }
      ]
    },
    {
      "cell_type": "code",
      "metadata": {
        "trusted": true,
        "id": "UQF6bRXftIXZ",
        "outputId": "b759e992-e951-41cb-8014-bc33de474706",
        "colab": {
          "base_uri": "https://localhost:8080/",
          "height": 288
        }
      },
      "source": [
        "df.describe()"
      ],
      "execution_count": null,
      "outputs": [
        {
          "output_type": "execute_result",
          "data": {
            "text/html": [
              "<div>\n",
              "<style scoped>\n",
              "    .dataframe tbody tr th:only-of-type {\n",
              "        vertical-align: middle;\n",
              "    }\n",
              "\n",
              "    .dataframe tbody tr th {\n",
              "        vertical-align: top;\n",
              "    }\n",
              "\n",
              "    .dataframe thead th {\n",
              "        text-align: right;\n",
              "    }\n",
              "</style>\n",
              "<table border=\"1\" class=\"dataframe\">\n",
              "  <thead>\n",
              "    <tr style=\"text-align: right;\">\n",
              "      <th></th>\n",
              "      <th>Vmag</th>\n",
              "      <th>Plx</th>\n",
              "      <th>e_Plx</th>\n",
              "      <th>B-V</th>\n",
              "      <th>Amag</th>\n",
              "    </tr>\n",
              "  </thead>\n",
              "  <tbody>\n",
              "    <tr>\n",
              "      <th>count</th>\n",
              "      <td>96707.000000</td>\n",
              "      <td>96707.000000</td>\n",
              "      <td>96707.000000</td>\n",
              "      <td>96707.000000</td>\n",
              "      <td>96707.000000</td>\n",
              "    </tr>\n",
              "    <tr>\n",
              "      <th>mean</th>\n",
              "      <td>8.291762</td>\n",
              "      <td>7.107813</td>\n",
              "      <td>1.264152</td>\n",
              "      <td>0.700663</td>\n",
              "      <td>16.480989</td>\n",
              "    </tr>\n",
              "    <tr>\n",
              "      <th>std</th>\n",
              "      <td>1.247954</td>\n",
              "      <td>11.146737</td>\n",
              "      <td>1.156387</td>\n",
              "      <td>0.490001</td>\n",
              "      <td>2.451171</td>\n",
              "    </tr>\n",
              "    <tr>\n",
              "      <th>min</th>\n",
              "      <td>-1.440000</td>\n",
              "      <td>-35.099998</td>\n",
              "      <td>0.380000</td>\n",
              "      <td>-0.400000</td>\n",
              "      <td>-0.350000</td>\n",
              "    </tr>\n",
              "    <tr>\n",
              "      <th>25%</th>\n",
              "      <td>7.610000</td>\n",
              "      <td>2.520000</td>\n",
              "      <td>0.870000</td>\n",
              "      <td>0.342000</td>\n",
              "      <td>15.157670</td>\n",
              "    </tr>\n",
              "    <tr>\n",
              "      <th>50%</th>\n",
              "      <td>8.400000</td>\n",
              "      <td>4.600000</td>\n",
              "      <td>1.080000</td>\n",
              "      <td>0.605000</td>\n",
              "      <td>16.447716</td>\n",
              "    </tr>\n",
              "    <tr>\n",
              "      <th>75%</th>\n",
              "      <td>9.070000</td>\n",
              "      <td>8.270000</td>\n",
              "      <td>1.360000</td>\n",
              "      <td>1.072000</td>\n",
              "      <td>18.016191</td>\n",
              "    </tr>\n",
              "    <tr>\n",
              "      <th>max</th>\n",
              "      <td>13.610000</td>\n",
              "      <td>772.330017</td>\n",
              "      <td>69.070000</td>\n",
              "      <td>5.460000</td>\n",
              "      <td>30.449015</td>\n",
              "    </tr>\n",
              "  </tbody>\n",
              "</table>\n",
              "</div>"
            ],
            "text/plain": [
              "               Vmag           Plx         e_Plx           B-V          Amag\n",
              "count  96707.000000  96707.000000  96707.000000  96707.000000  96707.000000\n",
              "mean       8.291762      7.107813      1.264152      0.700663     16.480989\n",
              "std        1.247954     11.146737      1.156387      0.490001      2.451171\n",
              "min       -1.440000    -35.099998      0.380000     -0.400000     -0.350000\n",
              "25%        7.610000      2.520000      0.870000      0.342000     15.157670\n",
              "50%        8.400000      4.600000      1.080000      0.605000     16.447716\n",
              "75%        9.070000      8.270000      1.360000      1.072000     18.016191\n",
              "max       13.610000    772.330017     69.070000      5.460000     30.449015"
            ]
          },
          "metadata": {
            "tags": []
          },
          "execution_count": 78
        }
      ]
    },
    {
      "cell_type": "code",
      "metadata": {
        "trusted": true,
        "id": "t0xAx4vHtIX-"
      },
      "source": [
        "#Save our dataset, we can finally play with it!!!\n",
        "df.to_csv(\"stars_new_col.csv\", index=False)"
      ],
      "execution_count": null,
      "outputs": []
    },
    {
      "cell_type": "markdown",
      "metadata": {
        "id": "WJDhIARGtIYA"
      },
      "source": [
        "credits: https://www.kaggle.com/vinesmsuic/star-categorization-giants-and-dwarfs/notebooks\n",
        "\n",
        "Puede usar este link para revisar más notebooks sobre este dataset:\n",
        "\n",
        "https://www.kaggle.com/vinesmsuic/star-categorization-giants-and-dwarfs/notebooks\n"
      ]
    }
  ]
}