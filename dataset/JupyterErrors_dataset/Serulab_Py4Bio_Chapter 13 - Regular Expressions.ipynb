{
  "nbformat": 4,
  "nbformat_minor": 0,
  "metadata": {
    "kernelspec": {
      "display_name": "Python 3.6",
      "language": "python",
      "name": "python36"
    },
    "language_info": {
      "codemirror_mode": {
        "name": "ipython",
        "version": 3
      },
      "file_extension": ".py",
      "mimetype": "text/x-python",
      "name": "python",
      "nbconvert_exporter": "python",
      "pygments_lexer": "ipython3",
      "version": "3.6.0"
    },
    "colab": {
      "name": "Chapter 13 - Regular Expressions.ipynb",
      "provenance": []
    }
  },
  "cells": [
    {
      "cell_type": "markdown",
      "metadata": {
        "collapsed": true,
        "id": "D0gyeZ4R7wUm",
        "colab_type": "text"
      },
      "source": [
        "Python for Bioinformatics\n",
        "-----------------------------\n",
        "\n",
        "![title](https://s3.amazonaws.com/py4bio/tapabiosmall.png)\n",
        "\n",
        "This Jupyter notebook is intented to be used alongside the book [Python for Bioinformatics](http://py3.us/)\n",
        "\n"
      ]
    },
    {
      "cell_type": "markdown",
      "metadata": {
        "id": "Ge_6Jc4b7wUn",
        "colab_type": "text"
      },
      "source": [
        "**Note:** Before opening the file, this file should be accesible from this Jupyter notebook. In order to do so, the following commands will download these files from Github and extract them into a directory called samples."
      ]
    },
    {
      "cell_type": "markdown",
      "metadata": {
        "id": "W8kTqkBZ7wUn",
        "colab_type": "text"
      },
      "source": [
        "Chapter 13: Regular Expressions\n",
        "-----------------------------"
      ]
    },
    {
      "cell_type": "code",
      "metadata": {
        "id": "1GYI4VQY7xjw",
        "colab_type": "code",
        "colab": {}
      },
      "source": [
        "!curl https://raw.githubusercontent.com/Serulab/Py4Bio/master/samples/samples.tar.bz2 -o samples.tar.bz2\n",
        "!mkdir samples\n",
        "!tar xvfj samples.tar.bz2 -C samples"
      ],
      "execution_count": null,
      "outputs": []
    },
    {
      "cell_type": "code",
      "metadata": {
        "id": "UYcgVzEh7wUo",
        "colab_type": "code",
        "colab": {}
      },
      "source": [
        "import re"
      ],
      "execution_count": null,
      "outputs": []
    },
    {
      "cell_type": "code",
      "metadata": {
        "id": "-kjCdTjj7wUq",
        "colab_type": "code",
        "colab": {}
      },
      "source": [
        "mo = re.search('hello', 'Hello world, hello Python!')"
      ],
      "execution_count": null,
      "outputs": []
    },
    {
      "cell_type": "code",
      "metadata": {
        "id": "HKykAFsJ7wUs",
        "colab_type": "code",
        "colab": {},
        "outputId": "8bc94c4a-f640-4da3-a428-aee35f5b867d"
      },
      "source": [
        "mo.group()"
      ],
      "execution_count": null,
      "outputs": [
        {
          "output_type": "execute_result",
          "data": {
            "text/plain": [
              "'hello'"
            ]
          },
          "metadata": {
            "tags": []
          },
          "execution_count": 3
        }
      ]
    },
    {
      "cell_type": "code",
      "metadata": {
        "id": "A7PUkSTE7wUv",
        "colab_type": "code",
        "colab": {},
        "outputId": "76fe8cbd-4aaf-42f5-befd-2f49b08dbcbb"
      },
      "source": [
        "mo.span()"
      ],
      "execution_count": null,
      "outputs": [
        {
          "output_type": "execute_result",
          "data": {
            "text/plain": [
              "(13, 18)"
            ]
          },
          "metadata": {
            "tags": []
          },
          "execution_count": 4
        }
      ]
    },
    {
      "cell_type": "code",
      "metadata": {
        "id": "OpxeIY-d7wUx",
        "colab_type": "code",
        "colab": {},
        "outputId": "8b6af408-1448-4343-dda7-ad6f47c1c6cf"
      },
      "source": [
        "'Hello world, hello Python!'.index('hello')"
      ],
      "execution_count": null,
      "outputs": [
        {
          "output_type": "execute_result",
          "data": {
            "text/plain": [
              "13"
            ]
          },
          "metadata": {
            "tags": []
          },
          "execution_count": 5
        }
      ]
    },
    {
      "cell_type": "code",
      "metadata": {
        "id": "P_eGmRG17wUz",
        "colab_type": "code",
        "colab": {}
      },
      "source": [
        "import re"
      ],
      "execution_count": null,
      "outputs": []
    },
    {
      "cell_type": "code",
      "metadata": {
        "id": "IuLm6VEx7wU1",
        "colab_type": "code",
        "colab": {}
      },
      "source": [
        "mo = re.search('[Hh]ello', 'Hello world, hello Python!')"
      ],
      "execution_count": null,
      "outputs": []
    },
    {
      "cell_type": "code",
      "metadata": {
        "id": "r2CXbpYd7wU3",
        "colab_type": "code",
        "colab": {},
        "outputId": "f7ff3bb2-6940-4d18-bc66-725c80efaff9"
      },
      "source": [
        "mo.group()"
      ],
      "execution_count": null,
      "outputs": [
        {
          "output_type": "execute_result",
          "data": {
            "text/plain": [
              "'Hello'"
            ]
          },
          "metadata": {
            "tags": []
          },
          "execution_count": 8
        }
      ]
    },
    {
      "cell_type": "code",
      "metadata": {
        "id": "1OIaJiai7wU5",
        "colab_type": "code",
        "colab": {},
        "outputId": "3dca7083-ed2c-428c-f1fc-0507b6a8c0ae"
      },
      "source": [
        "re.findall(\"[Hh]ello\",\"Hello world, hello Python,!\")"
      ],
      "execution_count": null,
      "outputs": [
        {
          "output_type": "execute_result",
          "data": {
            "text/plain": [
              "['Hello', 'hello']"
            ]
          },
          "metadata": {
            "tags": []
          },
          "execution_count": 9
        }
      ]
    },
    {
      "cell_type": "code",
      "metadata": {
        "id": "_tIDuncn7wU7",
        "colab_type": "code",
        "colab": {},
        "outputId": "e8c2a80f-50e6-49c9-9496-afe866a3a926"
      },
      "source": [
        "re.finditer(\"[Hh]ello\", \"Hello world, hello Python,!\")"
      ],
      "execution_count": null,
      "outputs": [
        {
          "output_type": "execute_result",
          "data": {
            "text/plain": [
              "<callable_iterator at 0x7f90f00dc3c8>"
            ]
          },
          "metadata": {
            "tags": []
          },
          "execution_count": 10
        }
      ]
    },
    {
      "cell_type": "code",
      "metadata": {
        "id": "JYyu74xJ7wU8",
        "colab_type": "code",
        "colab": {}
      },
      "source": [
        "mos = re.finditer(\"[Hh]ello\", \"Hello world, hello Python,!\")"
      ],
      "execution_count": null,
      "outputs": []
    },
    {
      "cell_type": "code",
      "metadata": {
        "id": "CAuAhY037wU_",
        "colab_type": "code",
        "colab": {},
        "outputId": "97b7a08c-9c23-4d3b-b84c-75e0d08ec410"
      },
      "source": [
        "for x in mos:\n",
        "    print(x.group())\n",
        "    print(x.span())"
      ],
      "execution_count": null,
      "outputs": [
        {
          "output_type": "stream",
          "text": [
            "Hello\n",
            "(0, 5)\n",
            "hello\n",
            "(13, 18)\n"
          ],
          "name": "stdout"
        }
      ]
    },
    {
      "cell_type": "code",
      "metadata": {
        "id": "kBOI-BND7wVB",
        "colab_type": "code",
        "colab": {},
        "outputId": "23cd0e95-c25f-4371-cfd2-c129ad93f7e2"
      },
      "source": [
        "mo = re.match(\"hello\", \"Hello world, hello Python!\")\n",
        "print (mo)"
      ],
      "execution_count": null,
      "outputs": [
        {
          "output_type": "stream",
          "text": [
            "None\n"
          ],
          "name": "stdout"
        }
      ]
    },
    {
      "cell_type": "code",
      "metadata": {
        "id": "jow4cl2r7wVD",
        "colab_type": "code",
        "colab": {},
        "outputId": "650c8bc3-0bdc-41cb-db08-d12f4b9aa432"
      },
      "source": [
        "mo = re.match(\"Hello\", \"Hello world, hello Python!\")\n",
        "mo"
      ],
      "execution_count": null,
      "outputs": [
        {
          "output_type": "execute_result",
          "data": {
            "text/plain": [
              "<_sre.SRE_Match object; span=(0, 5), match='Hello'>"
            ]
          },
          "metadata": {
            "tags": []
          },
          "execution_count": 16
        }
      ]
    },
    {
      "cell_type": "code",
      "metadata": {
        "id": "834tR93N7wVF",
        "colab_type": "code",
        "colab": {},
        "outputId": "e8aa20f6-e858-4d3a-b49f-5bee14e6a2cf"
      },
      "source": [
        "mo.group()"
      ],
      "execution_count": null,
      "outputs": [
        {
          "output_type": "execute_result",
          "data": {
            "text/plain": [
              "'Hello'"
            ]
          },
          "metadata": {
            "tags": []
          },
          "execution_count": 17
        }
      ]
    },
    {
      "cell_type": "code",
      "metadata": {
        "id": "3rCcDjBR7wVG",
        "colab_type": "code",
        "colab": {},
        "outputId": "4419eea7-8c1b-49b8-a0e0-20920c904cb6"
      },
      "source": [
        "mo.span()"
      ],
      "execution_count": null,
      "outputs": [
        {
          "output_type": "execute_result",
          "data": {
            "text/plain": [
              "(0, 5)"
            ]
          },
          "metadata": {
            "tags": []
          },
          "execution_count": 18
        }
      ]
    },
    {
      "cell_type": "code",
      "metadata": {
        "id": "AAs_8MMc7wVM",
        "colab_type": "code",
        "colab": {},
        "outputId": "a36bc9ac-cd70-4c12-fc49-aa8ede526ded"
      },
      "source": [
        "re.findall(\"[Hh]ello\",\"Hello world, hello Python,!\")"
      ],
      "execution_count": null,
      "outputs": [
        {
          "output_type": "execute_result",
          "data": {
            "text/plain": [
              "['Hello', 'hello']"
            ]
          },
          "metadata": {
            "tags": []
          },
          "execution_count": 19
        }
      ]
    },
    {
      "cell_type": "code",
      "metadata": {
        "id": "aczGKlO27wVP",
        "colab_type": "code",
        "colab": {},
        "outputId": "517ea48d-c8db-4389-c877-7a25189a5d14"
      },
      "source": [
        "rgx = re.compile(\"[Hh]ello\")\n",
        "rgx.findall(\"Hello world, hello Python,!\")"
      ],
      "execution_count": null,
      "outputs": [
        {
          "output_type": "execute_result",
          "data": {
            "text/plain": [
              "['Hello', 'hello']"
            ]
          },
          "metadata": {
            "tags": []
          },
          "execution_count": 20
        }
      ]
    },
    {
      "cell_type": "code",
      "metadata": {
        "id": "Cf_wTGzq7wVQ",
        "colab_type": "code",
        "colab": {},
        "outputId": "d3eaf462-0d54-4eee-c1b2-347e02b2d3c2"
      },
      "source": [
        "rgx = re.compile(\"[Hh]ello\")\n",
        "rgx.search(\"Hello world, hello Python,!\")"
      ],
      "execution_count": null,
      "outputs": [
        {
          "output_type": "execute_result",
          "data": {
            "text/plain": [
              "<_sre.SRE_Match object; span=(0, 5), match='Hello'>"
            ]
          },
          "metadata": {
            "tags": []
          },
          "execution_count": 21
        }
      ]
    },
    {
      "cell_type": "code",
      "metadata": {
        "id": "uR_I_Gro7wVS",
        "colab_type": "code",
        "colab": {},
        "outputId": "754ef2e8-a57b-4f29-9cb5-7c39a29e896a"
      },
      "source": [
        "rgx.match(\"Hello world, hello Python,!\")"
      ],
      "execution_count": null,
      "outputs": [
        {
          "output_type": "execute_result",
          "data": {
            "text/plain": [
              "<_sre.SRE_Match object; span=(0, 5), match='Hello'>"
            ]
          },
          "metadata": {
            "tags": []
          },
          "execution_count": 22
        }
      ]
    },
    {
      "cell_type": "code",
      "metadata": {
        "id": "xSt2v0uA7wVU",
        "colab_type": "code",
        "colab": {},
        "outputId": "1a016cdd-6b76-4db3-8769-ae44ff9eabab"
      },
      "source": [
        " rgx.findall(\"Hello world, hello Python,!\")"
      ],
      "execution_count": null,
      "outputs": [
        {
          "output_type": "execute_result",
          "data": {
            "text/plain": [
              "['Hello', 'hello']"
            ]
          },
          "metadata": {
            "tags": []
          },
          "execution_count": 23
        }
      ]
    },
    {
      "cell_type": "markdown",
      "metadata": {
        "id": "hXrwqQUo7wVV",
        "colab_type": "text"
      },
      "source": [
        "**Listing 13.1:** findTAT.py: Find the first “TAT” repeat"
      ]
    },
    {
      "cell_type": "code",
      "metadata": {
        "id": "6fN4sFGc7wVW",
        "colab_type": "code",
        "colab": {},
        "outputId": "b3ac6db4-ad9b-403a-805a-fd0ce5aa0d74"
      },
      "source": [
        "import re\n",
        "seq = \"ATATAAGATGCGCGCGCTTATGCGCGCA\"\n",
        "rgx = re.compile(\"TAT\")\n",
        "i = 1\n",
        "for mo in rgx.finditer(seq):\n",
        "    print('Ocurrence {0}: {1}'.format(i, mo.group()))\n",
        "    print('Position: From {0} to {1}'.format(mo.start(),\n",
        "                                            mo.end()))\n",
        "    i += 1"
      ],
      "execution_count": null,
      "outputs": [
        {
          "output_type": "stream",
          "text": [
            "Ocurrence 1: TAT\n",
            "Position: From 1 to 4\n",
            "Ocurrence 2: TAT\n",
            "Position: From 18 to 21\n"
          ],
          "name": "stdout"
        }
      ]
    },
    {
      "cell_type": "code",
      "metadata": {
        "id": "NVJO6rIV7wVX",
        "colab_type": "code",
        "colab": {},
        "outputId": "1c6dd5a8-30c5-4620-ea3c-8d40f6b81529"
      },
      "source": [
        "import re\n",
        "seq = \"ATATAAGATGCGCGCGCTTATGCGCGCA\"\n",
        "rgx = re.compile(\"(GC){3,}\")\n",
        "result = rgx.search(seq)\n",
        "result.group()"
      ],
      "execution_count": null,
      "outputs": [
        {
          "output_type": "execute_result",
          "data": {
            "text/plain": [
              "'GCGCGCGC'"
            ]
          },
          "metadata": {
            "tags": []
          },
          "execution_count": 26
        }
      ]
    },
    {
      "cell_type": "code",
      "metadata": {
        "id": "PJx81E417wVZ",
        "colab_type": "code",
        "colab": {},
        "outputId": "8ec9a11e-7514-4681-fbf5-0646f6f8c804"
      },
      "source": [
        "result.groups()"
      ],
      "execution_count": null,
      "outputs": [
        {
          "output_type": "execute_result",
          "data": {
            "text/plain": [
              "('GC',)"
            ]
          },
          "metadata": {
            "tags": []
          },
          "execution_count": 27
        }
      ]
    },
    {
      "cell_type": "code",
      "metadata": {
        "id": "wj9JrGij7wVc",
        "colab_type": "code",
        "colab": {},
        "outputId": "479aae9f-4627-4622-f256-09b49dc30abb"
      },
      "source": [
        "rgx = re.compile(\"((GC){3,})\")\n",
        "result = rgx.search(seq)\n",
        "result.groups()"
      ],
      "execution_count": null,
      "outputs": [
        {
          "output_type": "execute_result",
          "data": {
            "text/plain": [
              "('GCGCGCGC', 'GC')"
            ]
          },
          "metadata": {
            "tags": []
          },
          "execution_count": 28
        }
      ]
    },
    {
      "cell_type": "code",
      "metadata": {
        "id": "5tiInH6E7wVd",
        "colab_type": "code",
        "colab": {},
        "outputId": "da171fee-d464-4c61-a88e-bf62c8202ed9"
      },
      "source": [
        "# Only the inner group is non-capturing\n",
        "rgx = re.compile(\"((?:GC){3,})\")\n",
        "result = rgx.search(seq)\n",
        "result.groups()"
      ],
      "execution_count": null,
      "outputs": [
        {
          "output_type": "execute_result",
          "data": {
            "text/plain": [
              "('GCGCGCGC',)"
            ]
          },
          "metadata": {
            "tags": []
          },
          "execution_count": 29
        }
      ]
    },
    {
      "cell_type": "code",
      "metadata": {
        "id": "Kc4h__Jc7wVf",
        "colab_type": "code",
        "colab": {},
        "outputId": "6c28649b-dfac-48d5-961f-ea7fcd4c7365"
      },
      "source": [
        "rgx = re.compile(\"TAT\") # No group at all.\n",
        "rgx.findall(seq) # This returns a list of matching strings."
      ],
      "execution_count": null,
      "outputs": [
        {
          "output_type": "execute_result",
          "data": {
            "text/plain": [
              "['TAT', 'TAT']"
            ]
          },
          "metadata": {
            "tags": []
          },
          "execution_count": 30
        }
      ]
    },
    {
      "cell_type": "code",
      "metadata": {
        "id": "tCVzZo3A7wVg",
        "colab_type": "code",
        "colab": {},
        "outputId": "15627394-0fd9-48b7-f921-c362cd3d0202"
      },
      "source": [
        "rgx = re.compile(\"(GC){3,}\") # One group. Return a list\n",
        "rgx.findall(seq) # with the group for each match."
      ],
      "execution_count": null,
      "outputs": [
        {
          "output_type": "execute_result",
          "data": {
            "text/plain": [
              "['GC', 'GC']"
            ]
          },
          "metadata": {
            "tags": []
          },
          "execution_count": 31
        }
      ]
    },
    {
      "cell_type": "code",
      "metadata": {
        "id": "VRGWpTjJ7wVi",
        "colab_type": "code",
        "colab": {},
        "outputId": "03210147-3a2f-486b-e57e-686f796fe42d"
      },
      "source": [
        "rgx = re.compile(\"((GC){3,})\") # Two groups. Return a\n",
        "rgx.findall(seq) # list with tuples for each match."
      ],
      "execution_count": null,
      "outputs": [
        {
          "output_type": "execute_result",
          "data": {
            "text/plain": [
              "[('GCGCGCGC', 'GC'), ('GCGCGC', 'GC')]"
            ]
          },
          "metadata": {
            "tags": []
          },
          "execution_count": 32
        }
      ]
    },
    {
      "cell_type": "code",
      "metadata": {
        "id": "1r1-LVmZ7wVk",
        "colab_type": "code",
        "colab": {},
        "outputId": "3aff48b5-6145-4fba-d403-d5003c83fbc1"
      },
      "source": [
        "rgx = re.compile(\"((?:GC){3,})\") # Using a non-capturing\n",
        "rgx.findall(seq) # group to get only the matches."
      ],
      "execution_count": null,
      "outputs": [
        {
          "output_type": "execute_result",
          "data": {
            "text/plain": [
              "['GCGCGCGC', 'GCGCGC']"
            ]
          },
          "metadata": {
            "tags": []
          },
          "execution_count": 33
        }
      ]
    },
    {
      "cell_type": "markdown",
      "metadata": {
        "id": "-nxpzdVA7wVm",
        "colab_type": "text"
      },
      "source": [
        "**Listing 13.2:** subgroups.py: Find multiple sub-patterns"
      ]
    },
    {
      "cell_type": "code",
      "metadata": {
        "id": "psrgwlij7wVm",
        "colab_type": "code",
        "colab": {},
        "outputId": "7d18084e-d8f9-4c63-ff6c-3d51ba1d1927"
      },
      "source": [
        "import re\n",
        "rgx = re.compile(\"(?P<TBX>TATA..).*(?P<CGislands>(?:GC){3,})\")\n",
        "seq = \"ATATAAGATGCGCGCGCTTATGCGCGCA\"\n",
        "result = rgx.search(seq)\n",
        "print(result.group('CGislands'))\n",
        "print(result.group('TBX'))"
      ],
      "execution_count": null,
      "outputs": [
        {
          "output_type": "stream",
          "text": [
            "GCGCGC\n",
            "TATAAG\n"
          ],
          "name": "stdout"
        }
      ]
    },
    {
      "cell_type": "markdown",
      "metadata": {
        "id": "ecmIwLco7wVo",
        "colab_type": "text"
      },
      "source": [
        "**Listing 13.3:** regexsys1.py: Count lines with a user-supplied pattern on it"
      ]
    },
    {
      "cell_type": "code",
      "metadata": {
        "id": "2K3PwwfT7wVo",
        "colab_type": "code",
        "colab": {},
        "outputId": "3a587ee8-56d3-48ed-e1c1-54e891e5bb80"
      },
      "source": [
        "import re, sys\n",
        "myregex = re.compile(sys.argv[2])\n",
        "counter = 0\n",
        "with open(sys.argv[1]) as fh:\n",
        "    for line in fh:\n",
        "        if myregex.search(line):\n",
        "            counter += 1\n",
        "print(counter)"
      ],
      "execution_count": null,
      "outputs": [
        {
          "output_type": "error",
          "ename": "FileNotFoundError",
          "evalue": "[Errno 2] No such file or directory: '-f'",
          "traceback": [
            "\u001b[0;31m---------------------------------------------------------------------------\u001b[0m",
            "\u001b[0;31mFileNotFoundError\u001b[0m                         Traceback (most recent call last)",
            "\u001b[0;32m<ipython-input-2-04bc1d111216>\u001b[0m in \u001b[0;36m<module>\u001b[0;34m()\u001b[0m\n\u001b[1;32m      2\u001b[0m \u001b[0mmyregex\u001b[0m \u001b[0;34m=\u001b[0m \u001b[0mre\u001b[0m\u001b[0;34m.\u001b[0m\u001b[0mcompile\u001b[0m\u001b[0;34m(\u001b[0m\u001b[0msys\u001b[0m\u001b[0;34m.\u001b[0m\u001b[0margv\u001b[0m\u001b[0;34m[\u001b[0m\u001b[0;36m2\u001b[0m\u001b[0;34m]\u001b[0m\u001b[0;34m)\u001b[0m\u001b[0;34m\u001b[0m\u001b[0m\n\u001b[1;32m      3\u001b[0m \u001b[0mcounter\u001b[0m \u001b[0;34m=\u001b[0m \u001b[0;36m0\u001b[0m\u001b[0;34m\u001b[0m\u001b[0m\n\u001b[0;32m----> 4\u001b[0;31m \u001b[0;32mwith\u001b[0m \u001b[0mopen\u001b[0m\u001b[0;34m(\u001b[0m\u001b[0msys\u001b[0m\u001b[0;34m.\u001b[0m\u001b[0margv\u001b[0m\u001b[0;34m[\u001b[0m\u001b[0;36m1\u001b[0m\u001b[0;34m]\u001b[0m\u001b[0;34m)\u001b[0m \u001b[0;32mas\u001b[0m \u001b[0mfh\u001b[0m\u001b[0;34m:\u001b[0m\u001b[0;34m\u001b[0m\u001b[0m\n\u001b[0m\u001b[1;32m      5\u001b[0m     \u001b[0;32mfor\u001b[0m \u001b[0mline\u001b[0m \u001b[0;32min\u001b[0m \u001b[0mfh\u001b[0m\u001b[0;34m:\u001b[0m\u001b[0;34m\u001b[0m\u001b[0m\n\u001b[1;32m      6\u001b[0m         \u001b[0;32mif\u001b[0m \u001b[0mmyregex\u001b[0m\u001b[0;34m.\u001b[0m\u001b[0msearch\u001b[0m\u001b[0;34m(\u001b[0m\u001b[0mline\u001b[0m\u001b[0;34m)\u001b[0m\u001b[0;34m:\u001b[0m\u001b[0;34m\u001b[0m\u001b[0m\n",
            "\u001b[0;31mFileNotFoundError\u001b[0m: [Errno 2] No such file or directory: '-f'"
          ]
        }
      ]
    },
    {
      "cell_type": "markdown",
      "metadata": {
        "id": "beCYF5Dh7wVp",
        "colab_type": "text"
      },
      "source": [
        "**Listing 13.4:** countinfile.py: Count the occurrences of a pattern in a file"
      ]
    },
    {
      "cell_type": "code",
      "metadata": {
        "id": "eRPHpmzR7wVq",
        "colab_type": "code",
        "colab": {},
        "outputId": "d06298b7-6946-4ca5-cffc-45c75afc9158"
      },
      "source": [
        "import re, sys\n",
        "myregex = re.compile(sys.argv[2])\n",
        "i = 0\n",
        "with open(sys.argv[1]) as fh:\n",
        "    for line in fh:\n",
        "        i += len(myregex.findall(line))\n",
        "print(i)"
      ],
      "execution_count": null,
      "outputs": [
        {
          "output_type": "error",
          "ename": "FileNotFoundError",
          "evalue": "[Errno 2] No such file or directory: '-f'",
          "traceback": [
            "\u001b[0;31m---------------------------------------------------------------------------\u001b[0m",
            "\u001b[0;31mFileNotFoundError\u001b[0m                         Traceback (most recent call last)",
            "\u001b[0;32m<ipython-input-36-40acf3b4aeac>\u001b[0m in \u001b[0;36m<module>\u001b[0;34m()\u001b[0m\n\u001b[1;32m      2\u001b[0m \u001b[0mmyregex\u001b[0m \u001b[0;34m=\u001b[0m \u001b[0mre\u001b[0m\u001b[0;34m.\u001b[0m\u001b[0mcompile\u001b[0m\u001b[0;34m(\u001b[0m\u001b[0msys\u001b[0m\u001b[0;34m.\u001b[0m\u001b[0margv\u001b[0m\u001b[0;34m[\u001b[0m\u001b[0;36m2\u001b[0m\u001b[0;34m]\u001b[0m\u001b[0;34m)\u001b[0m\u001b[0;34m\u001b[0m\u001b[0m\n\u001b[1;32m      3\u001b[0m \u001b[0mi\u001b[0m \u001b[0;34m=\u001b[0m \u001b[0;36m0\u001b[0m\u001b[0;34m\u001b[0m\u001b[0m\n\u001b[0;32m----> 4\u001b[0;31m \u001b[0;32mwith\u001b[0m \u001b[0mopen\u001b[0m\u001b[0;34m(\u001b[0m\u001b[0msys\u001b[0m\u001b[0;34m.\u001b[0m\u001b[0margv\u001b[0m\u001b[0;34m[\u001b[0m\u001b[0;36m1\u001b[0m\u001b[0;34m]\u001b[0m\u001b[0;34m)\u001b[0m \u001b[0;32mas\u001b[0m \u001b[0mfh\u001b[0m\u001b[0;34m:\u001b[0m\u001b[0;34m\u001b[0m\u001b[0m\n\u001b[0m\u001b[1;32m      5\u001b[0m     \u001b[0;32mfor\u001b[0m \u001b[0mline\u001b[0m \u001b[0;32min\u001b[0m \u001b[0mfh\u001b[0m\u001b[0;34m:\u001b[0m\u001b[0;34m\u001b[0m\u001b[0m\n\u001b[1;32m      6\u001b[0m         \u001b[0mi\u001b[0m \u001b[0;34m+=\u001b[0m \u001b[0mlen\u001b[0m\u001b[0;34m(\u001b[0m\u001b[0mmyregex\u001b[0m\u001b[0;34m.\u001b[0m\u001b[0mfindall\u001b[0m\u001b[0;34m(\u001b[0m\u001b[0mline\u001b[0m\u001b[0;34m)\u001b[0m\u001b[0;34m)\u001b[0m\u001b[0;34m\u001b[0m\u001b[0m\n",
            "\u001b[0;31mFileNotFoundError\u001b[0m: [Errno 2] No such file or directory: '-f'"
          ]
        }
      ]
    },
    {
      "cell_type": "markdown",
      "metadata": {
        "id": "gKF90ub17wVr",
        "colab_type": "text"
      },
      "source": [
        "**Listing 13.5:** deletegc.py: Delete GC repeats (more than 3 GC in a row)"
      ]
    },
    {
      "cell_type": "code",
      "metadata": {
        "id": "KDI7JtoC7wVs",
        "colab_type": "code",
        "colab": {},
        "outputId": "cfd3b185-d18c-43ba-dd9d-b820dff9d5ea"
      },
      "source": [
        "import re\n",
        "regex = re.compile(\"(?:GC){3,}\")\n",
        "seq=\"ATGATCGTACTGCGCGCTTCATGTGATGCGCGCGCGCAGACTATAAG\"\n",
        "print (\"Before:\",seq)\n",
        "print (\"After:\",regex.sub(\"\",seq))"
      ],
      "execution_count": null,
      "outputs": [
        {
          "output_type": "stream",
          "text": [
            "Before: ATGATCGTACTGCGCGCTTCATGTGATGCGCGCGCGCAGACTATAAG\n",
            "After: ATGATCGTACTTTCATGTGATAGACTATAAG\n"
          ],
          "name": "stdout"
        }
      ]
    },
    {
      "cell_type": "markdown",
      "metadata": {
        "id": "su09l2-u7wVt",
        "colab_type": "text"
      },
      "source": [
        "**Listing 13.6:** searchinfasta.py: Search a pattern in a FASTA file"
      ]
    },
    {
      "cell_type": "code",
      "metadata": {
        "id": "eCLLT-FY7wVu",
        "colab_type": "code",
        "colab": {},
        "outputId": "0573a894-4cf0-424a-af16-ff6596d168c8"
      },
      "source": [
        "import re\n",
        "pattern = \"[LIVM]{2}.RL[DE].{4}RLE\"\n",
        "with open('samples/Q5R5X8.fas') as fh:\n",
        "    fh.readline() # Discard the first line.\n",
        "    seq = \"\"\n",
        "    for line in fh:\n",
        "        seq += line.strip()\n",
        "rgx = re.compile(pattern)\n",
        "result = rgx.search(seq)\n",
        "patternfound = result.group()\n",
        "span = result.span()\n",
        "leftpos = span[0]-10\n",
        "if leftpos<0:\n",
        "    leftpos = 0\n",
        "print(seq[leftpos:span[0]].lower() + patternfound +\n",
        "      seq[span[1]:span[1]+10].lower())"
      ],
      "execution_count": null,
      "outputs": [
        {
          "output_type": "stream",
          "text": [
            "manmqgLVERLERAVSRLEslsaeshrpp\n"
          ],
          "name": "stdout"
        }
      ]
    },
    {
      "cell_type": "markdown",
      "metadata": {
        "id": "Cvo2KklK7wVw",
        "colab_type": "text"
      },
      "source": [
        "**Listing 13.7:** cleanseq.py: Cleans a DNA sequence"
      ]
    },
    {
      "cell_type": "code",
      "metadata": {
        "id": "WzWGvtxF7wVw",
        "colab_type": "code",
        "colab": {},
        "outputId": "b5ebcf6e-2ea2-40da-cf14-99df437e43c8"
      },
      "source": [
        "import re\n",
        "regex = re.compile(' |\\d|\\n|\\t')\n",
        "seq = ''\n",
        "for line in open('samples/pMOSBlue.txt'):\n",
        "    seq += regex.sub('',line)\n",
        "print (seq)"
      ],
      "execution_count": null,
      "outputs": [
        {
          "output_type": "stream",
          "text": [
            "ATGACCATGATTACGCCAAGCTCTAATACGACTCACTATAGGGAAAGCTTGCATGCCTGCAGGTCGACTCTAGAGGATCTACTAGTCATATGGATATCGGATCCCCGGGTACCGAGCTCGAATTCACTGGCCGTCGTTTT\n"
          ],
          "name": "stdout"
        }
      ]
    }
  ]
}