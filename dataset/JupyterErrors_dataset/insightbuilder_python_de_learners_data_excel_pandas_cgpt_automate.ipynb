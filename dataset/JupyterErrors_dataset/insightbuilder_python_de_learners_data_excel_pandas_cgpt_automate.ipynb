{
 "cells": [
  {
   "cell_type": "code",
   "execution_count": null,
   "id": "d9aa0d9f",
   "metadata": {},
   "outputs": [],
   "source": [
    "!pip openai, requests, pandas, tiktoken"
   ]
  },
  {
   "cell_type": "code",
   "execution_count": 1,
   "id": "1cbf96cb",
   "metadata": {},
   "outputs": [],
   "source": [
    "#!/usr/bin/env python\n",
    "import json, openai,requests\n",
    "import warnings\n",
    "import os\n",
    "warnings.filterwarnings('ignore')\n",
    "import datetime\n",
    "from time import sleep"
   ]
  },
  {
   "cell_type": "code",
   "execution_count": 2,
   "id": "b207a083",
   "metadata": {},
   "outputs": [],
   "source": [
    "openai_org = \"org-num\"\n",
    "openai_key = \"sk-num\" "
   ]
  },
  {
   "cell_type": "code",
   "execution_count": 2,
   "id": "f38ea3ec",
   "metadata": {},
   "outputs": [],
   "source": [
    "import tiktoken\n",
    "import pandas as pd\n",
    "def num_tokens_from_string(string: str, \n",
    "                           encoding_name: str = 'text-davinci-003') -> int:\n",
    "    \"\"\"Returns the number of tokens in a text string.\"\"\"\n",
    "    encoding = tiktoken.encoding_for_model(encoding_name)\n",
    "    num_tokens = len(encoding.encode(string))\n",
    "    return num_tokens"
   ]
  },
  {
   "cell_type": "code",
   "execution_count": 3,
   "id": "50d7fba8",
   "metadata": {},
   "outputs": [
    {
     "data": {
      "text/plain": [
       "8"
      ]
     },
     "execution_count": 3,
     "metadata": {},
     "output_type": "execute_result"
    }
   ],
   "source": [
    "num_tokens_from_string(\"This is my super prompt from Insight Builder\")"
   ]
  },
  {
   "cell_type": "code",
   "execution_count": 4,
   "id": "fe66b1bf",
   "metadata": {},
   "outputs": [
    {
     "name": "stdout",
     "output_type": "stream",
     "text": [
      "What role you want me to play: Master Python Pandas and Excel Analyst\n"
     ]
    }
   ],
   "source": [
    "get_role = input(\"What role you want me to play: \")"
   ]
  },
  {
   "cell_type": "code",
   "execution_count": 5,
   "id": "6ec82eb8",
   "metadata": {},
   "outputs": [],
   "source": [
    "def cgpt_reply(org,key,\n",
    "                    role_player,\n",
    "                    request_content,\n",
    "                   file_name='excel_master.txt'):\n",
    "    openai.organization = org\n",
    "    openai.api_key= key\n",
    "    response = openai.ChatCompletion.create(\n",
    "        model=\"gpt-3.5-turbo\",\n",
    "        temperature = 0,\n",
    "        messages=[\n",
    "            {\"role\": \"system\", \n",
    "             \"content\": f\"You are a {role_player}\"},\n",
    "            {\"role\": \"assistant\", \n",
    "             \"content\": f\"I have assumed the role of {role_player}\"},\n",
    "            {\"role\": \"user\", \n",
    "             \"content\": f\"Here is the dataset {request_content}.\"}\n",
    "            ]\n",
    "        )\n",
    "    with open(file_name,'a+') as sumry:\n",
    "        sumry.write(f'Completion for \\n {request_content}')\n",
    "        sumry.write('******Completion starts****** \\n')\n",
    "        sumry.write(str(response['choices'][0]['message']['content']))\n",
    "        sumry.write('*****Completion ends****** \\n')\n",
    "    return response['choices'][0]['message']['content']"
   ]
  },
  {
   "cell_type": "code",
   "execution_count": 7,
   "id": "69ed7d52",
   "metadata": {},
   "outputs": [],
   "source": [
    "load_XL_Python = \"\"\"I have a data_in_excel.xlsx file having data\n",
    "inside Database worksheet. Tell me how to \n",
    "1) Import excel file data into Python pandas library\n",
    "2) List top 5 Pandas commands I can use to Analyse the data\n",
    "3) Import excel file data into Python openpyxl library\n",
    "4) List the commands to create charts using the data in openpyxl\"\"\""
   ]
  },
  {
   "cell_type": "code",
   "execution_count": 9,
   "id": "d4311299",
   "metadata": {},
   "outputs": [],
   "source": [
    "cgpt_reply1 = cgpt_reply(org=openai_org,key=openai_key,\n",
    "                       role_player=get_role,\n",
    "                        request_content=load_XL_Python)"
   ]
  },
  {
   "cell_type": "code",
   "execution_count": 11,
   "id": "b003c10d",
   "metadata": {
    "scrolled": true
   },
   "outputs": [
    {
     "name": "stdout",
     "output_type": "stream",
     "text": [
      "Sure, I can help you with that.\n",
      "\n",
      "1) Import excel file data into Python pandas library:\n",
      "\n",
      "To import excel file data into Python pandas library, you can use the `read_excel()` function from pandas. Here's an example:\n",
      "\n",
      "```python\n",
      "import pandas as pd\n",
      "\n",
      "# read excel file\n",
      "df = pd.read_excel('data_in_excel.xlsx', sheet_name='Database')\n",
      "\n",
      "# print first 5 rows of the dataframe\n",
      "print(df.head())\n",
      "```\n",
      "\n",
      "2) List top 5 Pandas commands I can use to Analyse the data:\n",
      "\n",
      "Here are the top 5 Pandas commands you can use to analyze the data:\n",
      "\n",
      "- `df.head()`: This command returns the first n rows of the dataframe. By default, n is 5.\n",
      "- `df.describe()`: This command returns the summary statistics of the numerical columns in the dataframe.\n",
      "- `df.info()`: This command returns the information about the dataframe, such as the number of rows, columns, data types, and memory usage.\n",
      "- `df.groupby()`: This command groups the dataframe by one or more columns and applies a function to each group.\n",
      "- `df.pivot_table()`: This command creates a pivot table from the dataframe.\n",
      "\n",
      "3) Import excel file data into Python openpyxl library:\n",
      "\n",
      "To import excel file data into Python openpyxl library, you can use the `load_workbook()` function from openpyxl. Here's an example:\n",
      "\n",
      "```python\n",
      "from openpyxl import load_workbook\n",
      "\n",
      "# load excel file\n",
      "wb = load_workbook('data_in_excel.xlsx')\n",
      "\n",
      "# select worksheet\n",
      "ws = wb['Database']\n",
      "\n",
      "# print cell value\n",
      "print(ws['A1'].value)\n",
      "```\n",
      "\n",
      "4) List the commands to create charts using the data in openpyxl:\n",
      "\n",
      "Here are the commands to create charts using the data in openpyxl:\n",
      "\n",
      "- `openpyxl.chart`: This module contains classes for creating charts in openpyxl.\n",
      "- `openpyxl.chart.Reference()`: This class creates a reference to a range of cells in the worksheet.\n",
      "- `openpyxl.chart.Series()`: This class creates a series for the chart.\n",
      "- `openpyxl.chart.Chart()`: This class creates a chart object.\n",
      "- `openpyxl.chart.LineChart()`: This class creates a line chart object.\n",
      "- `openpyxl.chart.BarChart()`: This class creates a bar chart object.\n",
      "- `openpyxl.chart.PieChart()`: This class creates a pie chart object.\n",
      "- `openpyxl.chart.Legend()`: This class creates a legend for the chart.\n",
      "- `openpyxl.chart.Title()`: This class creates a title for the chart.\n",
      "\n",
      "Here's an example of how to create a line chart using openpyxl:\n",
      "\n",
      "```python\n",
      "from openpyxl import load_workbook\n",
      "from openpyxl.chart import Reference, Series, LineChart\n",
      "\n",
      "# load excel file\n",
      "wb = load_workbook('data_in_excel.xlsx')\n",
      "\n",
      "# select worksheet\n",
      "ws = wb['Database']\n",
      "\n",
      "# create chart object\n",
      "chart = LineChart()\n",
      "\n",
      "# create data series\n",
      "xvalues = Reference(ws, min_col=1, min_row=2, max_row=11)\n",
      "yvalues = Reference(ws, min_col=2, min_row=2, max_row=11)\n",
      "series = Series(values=yvalues, xvalues=xvalues, title='Data')\n",
      "\n",
      "# add data series to chart\n",
      "chart.append(series)\n",
      "\n",
      "# add chart to worksheet\n",
      "ws.add_chart(chart, 'D1')\n",
      "\n",
      "# save excel file\n",
      "wb.save('data_in_excel.xlsx')\n",
      "```\n",
      "\n",
      "This code creates a line chart from the data in columns A and B of the worksheet 'Database' and adds it to cell D1 of the same worksheet.\n"
     ]
    }
   ],
   "source": [
    "print(cgpt_reply1)"
   ]
  },
  {
   "cell_type": "code",
   "execution_count": 15,
   "id": "bd1f1fe5",
   "metadata": {},
   "outputs": [],
   "source": [
    "import pandas as pd\n",
    "\n",
    "# read excel file\n",
    "database = pd.read_excel('data_in_excel.xlsx', sheet_name='Database')"
   ]
  },
  {
   "cell_type": "code",
   "execution_count": 14,
   "id": "5dd7cf79",
   "metadata": {},
   "outputs": [
    {
     "data": {
      "text/html": [
       "<div>\n",
       "<style scoped>\n",
       "    .dataframe tbody tr th:only-of-type {\n",
       "        vertical-align: middle;\n",
       "    }\n",
       "\n",
       "    .dataframe tbody tr th {\n",
       "        vertical-align: top;\n",
       "    }\n",
       "\n",
       "    .dataframe thead th {\n",
       "        text-align: right;\n",
       "    }\n",
       "</style>\n",
       "<table border=\"1\" class=\"dataframe\">\n",
       "  <thead>\n",
       "    <tr style=\"text-align: right;\">\n",
       "      <th></th>\n",
       "      <th>Id</th>\n",
       "      <th>Date</th>\n",
       "      <th>Customers</th>\n",
       "      <th>Gender</th>\n",
       "      <th>Sales Reps</th>\n",
       "      <th>Drinks/Products</th>\n",
       "      <th>Categories</th>\n",
       "      <th>Cost</th>\n",
       "      <th>Sals Price</th>\n",
       "      <th>Qty</th>\n",
       "    </tr>\n",
       "  </thead>\n",
       "  <tbody>\n",
       "    <tr>\n",
       "      <th>0</th>\n",
       "      <td>1</td>\n",
       "      <td>2019-01-01</td>\n",
       "      <td>Bernard Weatherly</td>\n",
       "      <td>M</td>\n",
       "      <td>timika poe</td>\n",
       "      <td>Heineken Bottle</td>\n",
       "      <td>Alcoholic Wine</td>\n",
       "      <td>38250</td>\n",
       "      <td>42500</td>\n",
       "      <td>3</td>\n",
       "    </tr>\n",
       "    <tr>\n",
       "      <th>1</th>\n",
       "      <td>2</td>\n",
       "      <td>2019-01-02</td>\n",
       "      <td>Cordia Knopp</td>\n",
       "      <td>F</td>\n",
       "      <td>zona otis</td>\n",
       "      <td>Origin Bottle</td>\n",
       "      <td>Alcoholic Wine</td>\n",
       "      <td>2700</td>\n",
       "      <td>3000</td>\n",
       "      <td>5</td>\n",
       "    </tr>\n",
       "    <tr>\n",
       "      <th>2</th>\n",
       "      <td>3</td>\n",
       "      <td>2019-01-03</td>\n",
       "      <td>Burton Jin</td>\n",
       "      <td>M</td>\n",
       "      <td>quentin kunz</td>\n",
       "      <td>Smirnoff Bottle</td>\n",
       "      <td>Alcoholic Wine</td>\n",
       "      <td>23850</td>\n",
       "      <td>26500</td>\n",
       "      <td>1</td>\n",
       "    </tr>\n",
       "    <tr>\n",
       "      <th>3</th>\n",
       "      <td>4</td>\n",
       "      <td>2019-01-04</td>\n",
       "      <td>Lauren Guzzi</td>\n",
       "      <td>M</td>\n",
       "      <td>quentin kunz</td>\n",
       "      <td>Frontera Rose 75Cl</td>\n",
       "      <td>Alcoholic Wine</td>\n",
       "      <td>24750</td>\n",
       "      <td>27500</td>\n",
       "      <td>5</td>\n",
       "    </tr>\n",
       "    <tr>\n",
       "      <th>4</th>\n",
       "      <td>5</td>\n",
       "      <td>2019-01-05</td>\n",
       "      <td>Carter Hunt</td>\n",
       "      <td>M</td>\n",
       "      <td>quentin kunz</td>\n",
       "      <td>Frontera Sauv Blanc 75Cl</td>\n",
       "      <td>Alcoholic Wine</td>\n",
       "      <td>44550</td>\n",
       "      <td>49500</td>\n",
       "      <td>7</td>\n",
       "    </tr>\n",
       "  </tbody>\n",
       "</table>\n",
       "</div>"
      ],
      "text/plain": [
       "   Id       Date          Customers Gender    Sales Reps  \\\n",
       "0   1 2019-01-01  Bernard Weatherly      M    timika poe   \n",
       "1   2 2019-01-02       Cordia Knopp      F     zona otis   \n",
       "2   3 2019-01-03         Burton Jin      M  quentin kunz   \n",
       "3   4 2019-01-04       Lauren Guzzi      M  quentin kunz   \n",
       "4   5 2019-01-05        Carter Hunt      M  quentin kunz   \n",
       "\n",
       "            Drinks/Products       Categories   Cost  Sals Price  Qty  \n",
       "0           Heineken Bottle   Alcoholic Wine  38250       42500    3  \n",
       "1             Origin Bottle   Alcoholic Wine   2700        3000    5  \n",
       "2           Smirnoff Bottle   Alcoholic Wine  23850       26500    1  \n",
       "3        Frontera Rose 75Cl   Alcoholic Wine  24750       27500    5  \n",
       "4  Frontera Sauv Blanc 75Cl   Alcoholic Wine  44550       49500    7  "
      ]
     },
     "execution_count": 14,
     "metadata": {},
     "output_type": "execute_result"
    }
   ],
   "source": [
    "# print first 5 rows of the dataframe\n",
    "database.head()"
   ]
  },
  {
   "cell_type": "code",
   "execution_count": 18,
   "id": "c99e8228",
   "metadata": {},
   "outputs": [
    {
     "data": {
      "text/html": [
       "<div>\n",
       "<style scoped>\n",
       "    .dataframe tbody tr th:only-of-type {\n",
       "        vertical-align: middle;\n",
       "    }\n",
       "\n",
       "    .dataframe tbody tr th {\n",
       "        vertical-align: top;\n",
       "    }\n",
       "\n",
       "    .dataframe thead th {\n",
       "        text-align: right;\n",
       "    }\n",
       "</style>\n",
       "<table border=\"1\" class=\"dataframe\">\n",
       "  <thead>\n",
       "    <tr style=\"text-align: right;\">\n",
       "      <th></th>\n",
       "      <th>Id</th>\n",
       "      <th>Cost</th>\n",
       "      <th>Sals Price</th>\n",
       "      <th>Qty</th>\n",
       "    </tr>\n",
       "  </thead>\n",
       "  <tbody>\n",
       "    <tr>\n",
       "      <th>count</th>\n",
       "      <td>683.000000</td>\n",
       "      <td>683.000000</td>\n",
       "      <td>683.000000</td>\n",
       "      <td>683.000000</td>\n",
       "    </tr>\n",
       "    <tr>\n",
       "      <th>mean</th>\n",
       "      <td>342.000000</td>\n",
       "      <td>17349.180088</td>\n",
       "      <td>19282.723280</td>\n",
       "      <td>10.859444</td>\n",
       "    </tr>\n",
       "    <tr>\n",
       "      <th>std</th>\n",
       "      <td>197.309402</td>\n",
       "      <td>21415.587536</td>\n",
       "      <td>23791.674846</td>\n",
       "      <td>11.477283</td>\n",
       "    </tr>\n",
       "    <tr>\n",
       "      <th>min</th>\n",
       "      <td>1.000000</td>\n",
       "      <td>1800.000000</td>\n",
       "      <td>2000.000000</td>\n",
       "      <td>1.000000</td>\n",
       "    </tr>\n",
       "    <tr>\n",
       "      <th>25%</th>\n",
       "      <td>171.500000</td>\n",
       "      <td>3870.000000</td>\n",
       "      <td>4300.000000</td>\n",
       "      <td>4.000000</td>\n",
       "    </tr>\n",
       "    <tr>\n",
       "      <th>50%</th>\n",
       "      <td>342.000000</td>\n",
       "      <td>8280.000000</td>\n",
       "      <td>9200.000000</td>\n",
       "      <td>8.000000</td>\n",
       "    </tr>\n",
       "    <tr>\n",
       "      <th>75%</th>\n",
       "      <td>512.500000</td>\n",
       "      <td>24300.000000</td>\n",
       "      <td>27000.000000</td>\n",
       "      <td>10.000000</td>\n",
       "    </tr>\n",
       "    <tr>\n",
       "      <th>max</th>\n",
       "      <td>683.000000</td>\n",
       "      <td>88200.000000</td>\n",
       "      <td>98000.000000</td>\n",
       "      <td>56.000000</td>\n",
       "    </tr>\n",
       "  </tbody>\n",
       "</table>\n",
       "</div>"
      ],
      "text/plain": [
       "               Id          Cost    Sals Price         Qty\n",
       "count  683.000000    683.000000    683.000000  683.000000\n",
       "mean   342.000000  17349.180088  19282.723280   10.859444\n",
       "std    197.309402  21415.587536  23791.674846   11.477283\n",
       "min      1.000000   1800.000000   2000.000000    1.000000\n",
       "25%    171.500000   3870.000000   4300.000000    4.000000\n",
       "50%    342.000000   8280.000000   9200.000000    8.000000\n",
       "75%    512.500000  24300.000000  27000.000000   10.000000\n",
       "max    683.000000  88200.000000  98000.000000   56.000000"
      ]
     },
     "execution_count": 18,
     "metadata": {},
     "output_type": "execute_result"
    }
   ],
   "source": [
    "database.describe()"
   ]
  },
  {
   "cell_type": "code",
   "execution_count": 19,
   "id": "e042bd31",
   "metadata": {},
   "outputs": [
    {
     "name": "stdout",
     "output_type": "stream",
     "text": [
      "<class 'pandas.core.frame.DataFrame'>\n",
      "RangeIndex: 683 entries, 0 to 682\n",
      "Data columns (total 10 columns):\n",
      " #   Column           Non-Null Count  Dtype         \n",
      "---  ------           --------------  -----         \n",
      " 0   Id               683 non-null    int64         \n",
      " 1   Date             683 non-null    datetime64[ns]\n",
      " 2   Customers        683 non-null    object        \n",
      " 3   Gender           683 non-null    object        \n",
      " 4   Sales Reps       683 non-null    object        \n",
      " 5   Drinks/Products  683 non-null    object        \n",
      " 6   Categories       683 non-null    object        \n",
      " 7   Cost             683 non-null    int64         \n",
      " 8   Sals Price       683 non-null    int64         \n",
      " 9   Qty              683 non-null    int64         \n",
      "dtypes: datetime64[ns](1), int64(4), object(5)\n",
      "memory usage: 53.5+ KB\n"
     ]
    }
   ],
   "source": [
    "database.info()"
   ]
  },
  {
   "cell_type": "code",
   "execution_count": 29,
   "id": "c4625ba6",
   "metadata": {},
   "outputs": [],
   "source": [
    "help_piv_grp = \"\"\"The data is having Date, Customers, Gender, \n",
    "Sales Reps, Drinks/Products and Categories columns that are not \n",
    "numbers. Provide me 3 examples of df.groupby() and df.pivot_table()\n",
    "methods using these column\"\"\""
   ]
  },
  {
   "cell_type": "code",
   "execution_count": 21,
   "id": "43adf757",
   "metadata": {},
   "outputs": [],
   "source": [
    "help_reply = cgpt_reply(org=openai_org,key=openai_key,\n",
    "                       role_player=get_role,\n",
    "                        request_content=help_piv_grp)"
   ]
  },
  {
   "cell_type": "code",
   "execution_count": 22,
   "id": "4d884998",
   "metadata": {
    "scrolled": true
   },
   "outputs": [
    {
     "name": "stdout",
     "output_type": "stream",
     "text": [
      "Sure, here are three examples of `df.groupby()` and `df.pivot_table()` methods using the given columns:\n",
      "\n",
      "Example 1: Using `df.groupby()` to group the data by Gender and calculate the total sales made by each gender.\n",
      "\n",
      "```python\n",
      "import pandas as pd\n",
      "\n",
      "# Read the dataset\n",
      "df = pd.read_csv('sales_data.csv')\n",
      "\n",
      "# Group the data by Gender and calculate the total sales made by each gender\n",
      "gender_sales = df.groupby('Gender')['Sales'].sum()\n",
      "\n",
      "print(gender_sales)\n",
      "```\n",
      "\n",
      "Output:\n",
      "```\n",
      "Gender\n",
      "Female    12000\n",
      "Male      15000\n",
      "Name: Sales, dtype: int64\n",
      "```\n",
      "\n",
      "Example 2: Using `df.pivot_table()` to create a pivot table that shows the average sales made by each Sales Rep for each Category.\n",
      "\n",
      "```python\n",
      "import pandas as pd\n",
      "\n",
      "# Read the dataset\n",
      "df = pd.read_csv('sales_data.csv')\n",
      "\n",
      "# Create a pivot table that shows the average sales made by each Sales Rep for each Category\n",
      "sales_pivot = pd.pivot_table(df, values='Sales', index='Sales Reps', columns='Categories', aggfunc='mean')\n",
      "\n",
      "print(sales_pivot)\n",
      "```\n",
      "\n",
      "Output:\n",
      "```\n",
      "Categories   Coffee  Juice  Smoothie\n",
      "Sales Reps                           \n",
      "John          100.0  150.0     200.0\n",
      "Mary          150.0  200.0     250.0\n",
      "```\n",
      "\n",
      "Example 3: Using `df.groupby()` to group the data by Date and calculate the total number of Customers who made a purchase on each date.\n",
      "\n",
      "```python\n",
      "import pandas as pd\n",
      "\n",
      "# Read the dataset\n",
      "df = pd.read_csv('sales_data.csv')\n",
      "\n",
      "# Convert the Date column to datetime format\n",
      "df['Date'] = pd.to_datetime(df['Date'])\n",
      "\n",
      "# Group the data by Date and calculate the total number of Customers who made a purchase on each date\n",
      "customer_count = df.groupby('Date')['Customers'].count()\n",
      "\n",
      "print(customer_count)\n",
      "```\n",
      "\n",
      "Output:\n",
      "```\n",
      "Date\n",
      "2021-01-01    3\n",
      "2021-01-02    2\n",
      "2021-01-03    2\n",
      "Name: Customers, dtype: int64\n",
      "```\n"
     ]
    }
   ],
   "source": [
    "print(help_reply)"
   ]
  },
  {
   "cell_type": "code",
   "execution_count": 23,
   "id": "da0efe36",
   "metadata": {},
   "outputs": [
    {
     "data": {
      "text/plain": [
       "Gender\n",
       "F    7176550\n",
       "M    5993550\n",
       "Name: Sals Price, dtype: int64"
      ]
     },
     "execution_count": 23,
     "metadata": {},
     "output_type": "execute_result"
    }
   ],
   "source": [
    "#using group-by\n",
    "gender_sales = database.groupby('Gender')['Sals Price'].sum()\n",
    "gender_sales"
   ]
  },
  {
   "cell_type": "code",
   "execution_count": 24,
   "id": "55c7e528",
   "metadata": {},
   "outputs": [
    {
     "data": {
      "text/html": [
       "<div>\n",
       "<style scoped>\n",
       "    .dataframe tbody tr th:only-of-type {\n",
       "        vertical-align: middle;\n",
       "    }\n",
       "\n",
       "    .dataframe tbody tr th {\n",
       "        vertical-align: top;\n",
       "    }\n",
       "\n",
       "    .dataframe thead th {\n",
       "        text-align: right;\n",
       "    }\n",
       "</style>\n",
       "<table border=\"1\" class=\"dataframe\">\n",
       "  <thead>\n",
       "    <tr style=\"text-align: right;\">\n",
       "      <th>Categories</th>\n",
       "      <th>Alcoholic Wine</th>\n",
       "      <th>Bear</th>\n",
       "      <th>Non Alcoholic</th>\n",
       "    </tr>\n",
       "    <tr>\n",
       "      <th>Sales Reps</th>\n",
       "      <th></th>\n",
       "      <th></th>\n",
       "      <th></th>\n",
       "    </tr>\n",
       "  </thead>\n",
       "  <tbody>\n",
       "    <tr>\n",
       "      <th>hyman irish</th>\n",
       "      <td>22275.714286</td>\n",
       "      <td>20275.925926</td>\n",
       "      <td>12040.322581</td>\n",
       "    </tr>\n",
       "    <tr>\n",
       "      <th>quentin kunz</th>\n",
       "      <td>21971.917808</td>\n",
       "      <td>23671.052632</td>\n",
       "      <td>15646.774194</td>\n",
       "    </tr>\n",
       "    <tr>\n",
       "      <th>timika poe</th>\n",
       "      <td>18600.862069</td>\n",
       "      <td>22391.836735</td>\n",
       "      <td>24144.444444</td>\n",
       "    </tr>\n",
       "    <tr>\n",
       "      <th>zona otis</th>\n",
       "      <td>22482.031250</td>\n",
       "      <td>19819.672131</td>\n",
       "      <td>14950.505051</td>\n",
       "    </tr>\n",
       "  </tbody>\n",
       "</table>\n",
       "</div>"
      ],
      "text/plain": [
       "Categories     Alcoholic Wine          Bear  Non Alcoholic \n",
       "Sales Reps                                                 \n",
       "hyman irish      22275.714286  20275.925926    12040.322581\n",
       "quentin kunz     21971.917808  23671.052632    15646.774194\n",
       "timika poe       18600.862069  22391.836735    24144.444444\n",
       "zona otis        22482.031250  19819.672131    14950.505051"
      ]
     },
     "execution_count": 24,
     "metadata": {},
     "output_type": "execute_result"
    }
   ],
   "source": [
    "#using pivot_table\n",
    "sales_pivot = pd.pivot_table(database, \n",
    "                             values='Sals Price', \n",
    "                             index='Sales Reps', \n",
    "                             columns='Categories', \n",
    "                             aggfunc='mean')\n",
    "sales_pivot"
   ]
  },
  {
   "cell_type": "code",
   "execution_count": null,
   "id": "fb08d24f",
   "metadata": {},
   "outputs": [],
   "source": [
    "#Not required, as already in datetime format\n",
    "database['Date'] = pd.to_datetime(database['Date'])"
   ]
  },
  {
   "cell_type": "code",
   "execution_count": 26,
   "id": "e2a411ee",
   "metadata": {},
   "outputs": [
    {
     "data": {
      "text/plain": [
       "Date\n",
       "2019-01-01    1\n",
       "2019-01-02    1\n",
       "2019-01-03    1\n",
       "2019-01-04    1\n",
       "2019-01-05    1\n",
       "             ..\n",
       "2020-11-09    1\n",
       "2020-11-10    1\n",
       "2020-11-11    1\n",
       "2020-11-12    1\n",
       "2020-11-13    1\n",
       "Name: Customers, Length: 683, dtype: int64"
      ]
     },
     "execution_count": 26,
     "metadata": {},
     "output_type": "execute_result"
    }
   ],
   "source": [
    "# Group the data by Date and calculate the total number of Customers who made a purchase on each date\n",
    "customer_count = database.groupby('Date')['Customers'].count()\n",
    "customer_count"
   ]
  },
  {
   "cell_type": "code",
   "execution_count": 35,
   "id": "50ef7614",
   "metadata": {},
   "outputs": [],
   "source": [
    "help_grp = \"\"\"The data is having Sales Reps, Drinks/Products and \n",
    "Categories columns that are categories. There are Sals Price, Cost\n",
    "and Qty columns that are numbers. Tell me how I can get Profit for \n",
    "each sale in this dataset. Then Provide me 5 examples of \n",
    "df.groupby() methods using these column. Include the Profit column\n",
    "also.\"\"\""
   ]
  },
  {
   "cell_type": "code",
   "execution_count": 36,
   "id": "975433a1",
   "metadata": {},
   "outputs": [],
   "source": [
    "help_grp_reply = cgpt_reply(org=openai_org,key=openai_key,\n",
    "                       role_player=get_role,\n",
    "                        request_content=help_grp)"
   ]
  },
  {
   "cell_type": "code",
   "execution_count": 37,
   "id": "308d6a38",
   "metadata": {
    "scrolled": true
   },
   "outputs": [
    {
     "name": "stdout",
     "output_type": "stream",
     "text": [
      "To get the profit for each sale in the dataset, we can create a new column called \"Profit\" which is the difference between the Sales Price and Cost columns. We can do this using the following code:\n",
      "\n",
      "```python\n",
      "import pandas as pd\n",
      "\n",
      "# read in the dataset\n",
      "df = pd.read_csv('sales_data.csv')\n",
      "\n",
      "# create a new column for profit\n",
      "df['Profit'] = df['Sales Price'] - df['Cost']\n",
      "\n",
      "# view the updated dataframe\n",
      "print(df.head())\n",
      "```\n",
      "\n",
      "This will add a new column called \"Profit\" to the dataframe, which is the difference between the Sales Price and Cost columns.\n",
      "\n",
      "Now, here are 5 examples of `df.groupby()` methods using the Profit column:\n",
      "\n",
      "1. Group by Sales Rep and calculate the total profit for each rep:\n",
      "\n",
      "```python\n",
      "rep_profit = df.groupby('Sales Rep')['Profit'].sum()\n",
      "print(rep_profit)\n",
      "```\n",
      "\n",
      "2. Group by Category and calculate the average profit for each category:\n",
      "\n",
      "```python\n",
      "cat_profit = df.groupby('Category')['Profit'].mean()\n",
      "print(cat_profit)\n",
      "```\n",
      "\n",
      "3. Group by Product and calculate the maximum profit for each product:\n",
      "\n",
      "```python\n",
      "prod_profit = df.groupby('Product')['Profit'].max()\n",
      "print(prod_profit)\n",
      "```\n",
      "\n",
      "4. Group by Sales Rep and Category and calculate the total profit for each combination:\n",
      "\n",
      "```python\n",
      "rep_cat_profit = df.groupby(['Sales Rep', 'Category'])['Profit'].sum()\n",
      "print(rep_cat_profit)\n",
      "```\n",
      "\n",
      "5. Group by Sales Rep and Product and calculate the average profit for each combination:\n",
      "\n",
      "```python\n",
      "rep_prod_profit = df.groupby(['Sales Rep', 'Product'])['Profit'].mean()\n",
      "print(rep_prod_profit)\n",
      "```\n",
      "\n",
      "In each of these examples, we are grouping the dataframe by one or more columns and then performing an operation on the Profit column. The resulting output shows the calculated value for each group.\n"
     ]
    }
   ],
   "source": [
    "print(help_grp_reply)"
   ]
  },
  {
   "cell_type": "code",
   "execution_count": 38,
   "id": "6a7f13d9",
   "metadata": {},
   "outputs": [],
   "source": [
    "database['Profit'] = database['Sals Price'] - database['Cost']"
   ]
  },
  {
   "cell_type": "code",
   "execution_count": 40,
   "id": "ad470559",
   "metadata": {},
   "outputs": [
    {
     "data": {
      "text/html": [
       "<div>\n",
       "<style scoped>\n",
       "    .dataframe tbody tr th:only-of-type {\n",
       "        vertical-align: middle;\n",
       "    }\n",
       "\n",
       "    .dataframe tbody tr th {\n",
       "        vertical-align: top;\n",
       "    }\n",
       "\n",
       "    .dataframe thead th {\n",
       "        text-align: right;\n",
       "    }\n",
       "</style>\n",
       "<table border=\"1\" class=\"dataframe\">\n",
       "  <thead>\n",
       "    <tr style=\"text-align: right;\">\n",
       "      <th></th>\n",
       "      <th>Id</th>\n",
       "      <th>Date</th>\n",
       "      <th>Customers</th>\n",
       "      <th>Gender</th>\n",
       "      <th>Sales Reps</th>\n",
       "      <th>Drinks/Products</th>\n",
       "      <th>Categories</th>\n",
       "      <th>Cost</th>\n",
       "      <th>Sals Price</th>\n",
       "      <th>Qty</th>\n",
       "      <th>Profit</th>\n",
       "    </tr>\n",
       "  </thead>\n",
       "  <tbody>\n",
       "    <tr>\n",
       "      <th>0</th>\n",
       "      <td>1</td>\n",
       "      <td>2019-01-01</td>\n",
       "      <td>Bernard Weatherly</td>\n",
       "      <td>M</td>\n",
       "      <td>timika poe</td>\n",
       "      <td>Heineken Bottle</td>\n",
       "      <td>Alcoholic Wine</td>\n",
       "      <td>38250</td>\n",
       "      <td>42500</td>\n",
       "      <td>3</td>\n",
       "      <td>4250</td>\n",
       "    </tr>\n",
       "    <tr>\n",
       "      <th>1</th>\n",
       "      <td>2</td>\n",
       "      <td>2019-01-02</td>\n",
       "      <td>Cordia Knopp</td>\n",
       "      <td>F</td>\n",
       "      <td>zona otis</td>\n",
       "      <td>Origin Bottle</td>\n",
       "      <td>Alcoholic Wine</td>\n",
       "      <td>2700</td>\n",
       "      <td>3000</td>\n",
       "      <td>5</td>\n",
       "      <td>300</td>\n",
       "    </tr>\n",
       "  </tbody>\n",
       "</table>\n",
       "</div>"
      ],
      "text/plain": [
       "   Id       Date          Customers Gender  Sales Reps  Drinks/Products  \\\n",
       "0   1 2019-01-01  Bernard Weatherly      M  timika poe  Heineken Bottle   \n",
       "1   2 2019-01-02       Cordia Knopp      F   zona otis    Origin Bottle   \n",
       "\n",
       "        Categories   Cost  Sals Price  Qty  Profit  \n",
       "0   Alcoholic Wine  38250       42500    3    4250  \n",
       "1   Alcoholic Wine   2700        3000    5     300  "
      ]
     },
     "execution_count": 40,
     "metadata": {},
     "output_type": "execute_result"
    }
   ],
   "source": [
    "database.head(2)"
   ]
  },
  {
   "cell_type": "code",
   "execution_count": 39,
   "id": "0433439f",
   "metadata": {},
   "outputs": [],
   "source": [
    "sp_cost_profit = database.groupby('Sales Reps')['Sals Price','Cost',\n",
    "                                               'Profit'].sum()"
   ]
  },
  {
   "cell_type": "code",
   "execution_count": 41,
   "id": "cd182320",
   "metadata": {},
   "outputs": [
    {
     "data": {
      "text/html": [
       "<div>\n",
       "<style scoped>\n",
       "    .dataframe tbody tr th:only-of-type {\n",
       "        vertical-align: middle;\n",
       "    }\n",
       "\n",
       "    .dataframe tbody tr th {\n",
       "        vertical-align: top;\n",
       "    }\n",
       "\n",
       "    .dataframe thead th {\n",
       "        text-align: right;\n",
       "    }\n",
       "</style>\n",
       "<table border=\"1\" class=\"dataframe\">\n",
       "  <thead>\n",
       "    <tr style=\"text-align: right;\">\n",
       "      <th></th>\n",
       "      <th>Sals Price</th>\n",
       "      <th>Cost</th>\n",
       "      <th>Profit</th>\n",
       "    </tr>\n",
       "    <tr>\n",
       "      <th>Sales Reps</th>\n",
       "      <th></th>\n",
       "      <th></th>\n",
       "      <th></th>\n",
       "    </tr>\n",
       "  </thead>\n",
       "  <tbody>\n",
       "    <tr>\n",
       "      <th>hyman irish</th>\n",
       "      <td>2073600</td>\n",
       "      <td>1864140</td>\n",
       "      <td>209460</td>\n",
       "    </tr>\n",
       "    <tr>\n",
       "      <th>quentin kunz</th>\n",
       "      <td>3923300</td>\n",
       "      <td>3530970</td>\n",
       "      <td>392330</td>\n",
       "    </tr>\n",
       "  </tbody>\n",
       "</table>\n",
       "</div>"
      ],
      "text/plain": [
       "              Sals Price     Cost  Profit\n",
       "Sales Reps                               \n",
       "hyman irish      2073600  1864140  209460\n",
       "quentin kunz     3923300  3530970  392330"
      ]
     },
     "execution_count": 41,
     "metadata": {},
     "output_type": "execute_result"
    }
   ],
   "source": [
    "sp_cost_profit.head(2)"
   ]
  },
  {
   "cell_type": "code",
   "execution_count": 43,
   "id": "a76a62a5",
   "metadata": {
    "scrolled": true
   },
   "outputs": [
    {
     "ename": "KeyError",
     "evalue": "'Category'",
     "output_type": "error",
     "traceback": [
      "\u001b[0;31m---------------------------------------------------------------------------\u001b[0m",
      "\u001b[0;31mKeyError\u001b[0m                                  Traceback (most recent call last)",
      "Cell \u001b[0;32mIn[43], line 1\u001b[0m\n\u001b[0;32m----> 1\u001b[0m cat_profit \u001b[38;5;241m=\u001b[39m \u001b[43mdatabase\u001b[49m\u001b[38;5;241;43m.\u001b[39;49m\u001b[43mgroupby\u001b[49m\u001b[43m(\u001b[49m\u001b[38;5;124;43m'\u001b[39;49m\u001b[38;5;124;43mCategory\u001b[39;49m\u001b[38;5;124;43m'\u001b[39;49m\u001b[43m)\u001b[49m[\u001b[38;5;124m'\u001b[39m\u001b[38;5;124mProfit\u001b[39m\u001b[38;5;124m'\u001b[39m]\u001b[38;5;241m.\u001b[39mmean()\n\u001b[1;32m      2\u001b[0m prod_profit \u001b[38;5;241m=\u001b[39m database\u001b[38;5;241m.\u001b[39mgroupby(\u001b[38;5;124m'\u001b[39m\u001b[38;5;124mProduct\u001b[39m\u001b[38;5;124m'\u001b[39m)[\u001b[38;5;124m'\u001b[39m\u001b[38;5;124mProfit\u001b[39m\u001b[38;5;124m'\u001b[39m]\u001b[38;5;241m.\u001b[39mmax()\n\u001b[1;32m      3\u001b[0m rep_cat_profit \u001b[38;5;241m=\u001b[39m database\u001b[38;5;241m.\u001b[39mgroupby([\u001b[38;5;124m'\u001b[39m\u001b[38;5;124mSales Rep\u001b[39m\u001b[38;5;124m'\u001b[39m, \u001b[38;5;124m'\u001b[39m\u001b[38;5;124mCategory\u001b[39m\u001b[38;5;124m'\u001b[39m])[\u001b[38;5;124m'\u001b[39m\u001b[38;5;124mProfit\u001b[39m\u001b[38;5;124m'\u001b[39m]\u001b[38;5;241m.\u001b[39msum()\n",
      "File \u001b[0;32m~/.local/lib/python3.10/site-packages/pandas/core/frame.py:8389\u001b[0m, in \u001b[0;36mDataFrame.groupby\u001b[0;34m(self, by, axis, level, as_index, sort, group_keys, squeeze, observed, dropna)\u001b[0m\n\u001b[1;32m   8386\u001b[0m     \u001b[38;5;28;01mraise\u001b[39;00m \u001b[38;5;167;01mTypeError\u001b[39;00m(\u001b[38;5;124m\"\u001b[39m\u001b[38;5;124mYou have to supply one of \u001b[39m\u001b[38;5;124m'\u001b[39m\u001b[38;5;124mby\u001b[39m\u001b[38;5;124m'\u001b[39m\u001b[38;5;124m and \u001b[39m\u001b[38;5;124m'\u001b[39m\u001b[38;5;124mlevel\u001b[39m\u001b[38;5;124m'\u001b[39m\u001b[38;5;124m\"\u001b[39m)\n\u001b[1;32m   8387\u001b[0m axis \u001b[38;5;241m=\u001b[39m \u001b[38;5;28mself\u001b[39m\u001b[38;5;241m.\u001b[39m_get_axis_number(axis)\n\u001b[0;32m-> 8389\u001b[0m \u001b[38;5;28;01mreturn\u001b[39;00m \u001b[43mDataFrameGroupBy\u001b[49m\u001b[43m(\u001b[49m\n\u001b[1;32m   8390\u001b[0m \u001b[43m    \u001b[49m\u001b[43mobj\u001b[49m\u001b[38;5;241;43m=\u001b[39;49m\u001b[38;5;28;43mself\u001b[39;49m\u001b[43m,\u001b[49m\n\u001b[1;32m   8391\u001b[0m \u001b[43m    \u001b[49m\u001b[43mkeys\u001b[49m\u001b[38;5;241;43m=\u001b[39;49m\u001b[43mby\u001b[49m\u001b[43m,\u001b[49m\n\u001b[1;32m   8392\u001b[0m \u001b[43m    \u001b[49m\u001b[43maxis\u001b[49m\u001b[38;5;241;43m=\u001b[39;49m\u001b[43maxis\u001b[49m\u001b[43m,\u001b[49m\n\u001b[1;32m   8393\u001b[0m \u001b[43m    \u001b[49m\u001b[43mlevel\u001b[49m\u001b[38;5;241;43m=\u001b[39;49m\u001b[43mlevel\u001b[49m\u001b[43m,\u001b[49m\n\u001b[1;32m   8394\u001b[0m \u001b[43m    \u001b[49m\u001b[43mas_index\u001b[49m\u001b[38;5;241;43m=\u001b[39;49m\u001b[43mas_index\u001b[49m\u001b[43m,\u001b[49m\n\u001b[1;32m   8395\u001b[0m \u001b[43m    \u001b[49m\u001b[43msort\u001b[49m\u001b[38;5;241;43m=\u001b[39;49m\u001b[43msort\u001b[49m\u001b[43m,\u001b[49m\n\u001b[1;32m   8396\u001b[0m \u001b[43m    \u001b[49m\u001b[43mgroup_keys\u001b[49m\u001b[38;5;241;43m=\u001b[39;49m\u001b[43mgroup_keys\u001b[49m\u001b[43m,\u001b[49m\n\u001b[1;32m   8397\u001b[0m \u001b[43m    \u001b[49m\u001b[43msqueeze\u001b[49m\u001b[38;5;241;43m=\u001b[39;49m\u001b[43msqueeze\u001b[49m\u001b[43m,\u001b[49m\n\u001b[1;32m   8398\u001b[0m \u001b[43m    \u001b[49m\u001b[43mobserved\u001b[49m\u001b[38;5;241;43m=\u001b[39;49m\u001b[43mobserved\u001b[49m\u001b[43m,\u001b[49m\n\u001b[1;32m   8399\u001b[0m \u001b[43m    \u001b[49m\u001b[43mdropna\u001b[49m\u001b[38;5;241;43m=\u001b[39;49m\u001b[43mdropna\u001b[49m\u001b[43m,\u001b[49m\n\u001b[1;32m   8400\u001b[0m \u001b[43m\u001b[49m\u001b[43m)\u001b[49m\n",
      "File \u001b[0;32m~/.local/lib/python3.10/site-packages/pandas/core/groupby/groupby.py:959\u001b[0m, in \u001b[0;36mGroupBy.__init__\u001b[0;34m(self, obj, keys, axis, level, grouper, exclusions, selection, as_index, sort, group_keys, squeeze, observed, mutated, dropna)\u001b[0m\n\u001b[1;32m    956\u001b[0m \u001b[38;5;28;01mif\u001b[39;00m grouper \u001b[38;5;129;01mis\u001b[39;00m \u001b[38;5;28;01mNone\u001b[39;00m:\n\u001b[1;32m    957\u001b[0m     \u001b[38;5;28;01mfrom\u001b[39;00m \u001b[38;5;21;01mpandas\u001b[39;00m\u001b[38;5;21;01m.\u001b[39;00m\u001b[38;5;21;01mcore\u001b[39;00m\u001b[38;5;21;01m.\u001b[39;00m\u001b[38;5;21;01mgroupby\u001b[39;00m\u001b[38;5;21;01m.\u001b[39;00m\u001b[38;5;21;01mgrouper\u001b[39;00m \u001b[38;5;28;01mimport\u001b[39;00m get_grouper\n\u001b[0;32m--> 959\u001b[0m     grouper, exclusions, obj \u001b[38;5;241m=\u001b[39m \u001b[43mget_grouper\u001b[49m\u001b[43m(\u001b[49m\n\u001b[1;32m    960\u001b[0m \u001b[43m        \u001b[49m\u001b[43mobj\u001b[49m\u001b[43m,\u001b[49m\n\u001b[1;32m    961\u001b[0m \u001b[43m        \u001b[49m\u001b[43mkeys\u001b[49m\u001b[43m,\u001b[49m\n\u001b[1;32m    962\u001b[0m \u001b[43m        \u001b[49m\u001b[43maxis\u001b[49m\u001b[38;5;241;43m=\u001b[39;49m\u001b[43maxis\u001b[49m\u001b[43m,\u001b[49m\n\u001b[1;32m    963\u001b[0m \u001b[43m        \u001b[49m\u001b[43mlevel\u001b[49m\u001b[38;5;241;43m=\u001b[39;49m\u001b[43mlevel\u001b[49m\u001b[43m,\u001b[49m\n\u001b[1;32m    964\u001b[0m \u001b[43m        \u001b[49m\u001b[43msort\u001b[49m\u001b[38;5;241;43m=\u001b[39;49m\u001b[43msort\u001b[49m\u001b[43m,\u001b[49m\n\u001b[1;32m    965\u001b[0m \u001b[43m        \u001b[49m\u001b[43mobserved\u001b[49m\u001b[38;5;241;43m=\u001b[39;49m\u001b[43mobserved\u001b[49m\u001b[43m,\u001b[49m\n\u001b[1;32m    966\u001b[0m \u001b[43m        \u001b[49m\u001b[43mmutated\u001b[49m\u001b[38;5;241;43m=\u001b[39;49m\u001b[38;5;28;43mself\u001b[39;49m\u001b[38;5;241;43m.\u001b[39;49m\u001b[43mmutated\u001b[49m\u001b[43m,\u001b[49m\n\u001b[1;32m    967\u001b[0m \u001b[43m        \u001b[49m\u001b[43mdropna\u001b[49m\u001b[38;5;241;43m=\u001b[39;49m\u001b[38;5;28;43mself\u001b[39;49m\u001b[38;5;241;43m.\u001b[39;49m\u001b[43mdropna\u001b[49m\u001b[43m,\u001b[49m\n\u001b[1;32m    968\u001b[0m \u001b[43m    \u001b[49m\u001b[43m)\u001b[49m\n\u001b[1;32m    970\u001b[0m \u001b[38;5;28mself\u001b[39m\u001b[38;5;241m.\u001b[39mobj \u001b[38;5;241m=\u001b[39m obj\n\u001b[1;32m    971\u001b[0m \u001b[38;5;28mself\u001b[39m\u001b[38;5;241m.\u001b[39maxis \u001b[38;5;241m=\u001b[39m obj\u001b[38;5;241m.\u001b[39m_get_axis_number(axis)\n",
      "File \u001b[0;32m~/.local/lib/python3.10/site-packages/pandas/core/groupby/grouper.py:888\u001b[0m, in \u001b[0;36mget_grouper\u001b[0;34m(obj, key, axis, level, sort, observed, mutated, validate, dropna)\u001b[0m\n\u001b[1;32m    886\u001b[0m         in_axis, level, gpr \u001b[38;5;241m=\u001b[39m \u001b[38;5;28;01mFalse\u001b[39;00m, gpr, \u001b[38;5;28;01mNone\u001b[39;00m\n\u001b[1;32m    887\u001b[0m     \u001b[38;5;28;01melse\u001b[39;00m:\n\u001b[0;32m--> 888\u001b[0m         \u001b[38;5;28;01mraise\u001b[39;00m \u001b[38;5;167;01mKeyError\u001b[39;00m(gpr)\n\u001b[1;32m    889\u001b[0m \u001b[38;5;28;01melif\u001b[39;00m \u001b[38;5;28misinstance\u001b[39m(gpr, Grouper) \u001b[38;5;129;01mand\u001b[39;00m gpr\u001b[38;5;241m.\u001b[39mkey \u001b[38;5;129;01mis\u001b[39;00m \u001b[38;5;129;01mnot\u001b[39;00m \u001b[38;5;28;01mNone\u001b[39;00m:\n\u001b[1;32m    890\u001b[0m     \u001b[38;5;66;03m# Add key to exclusions\u001b[39;00m\n\u001b[1;32m    891\u001b[0m     exclusions\u001b[38;5;241m.\u001b[39madd(gpr\u001b[38;5;241m.\u001b[39mkey)\n",
      "\u001b[0;31mKeyError\u001b[0m: 'Category'"
     ]
    }
   ],
   "source": [
    "cat_profit = database.groupby('Category')['Profit'].mean()"
   ]
  },
  {
   "cell_type": "code",
   "execution_count": 48,
   "id": "96566568",
   "metadata": {
    "scrolled": true
   },
   "outputs": [],
   "source": [
    "cat_profit = database.groupby('Categories')['Profit'].mean()"
   ]
  },
  {
   "cell_type": "code",
   "execution_count": 50,
   "id": "52b1ea5f",
   "metadata": {},
   "outputs": [
    {
     "data": {
      "text/plain": [
       "Categories\n",
       " Alcoholic Wine    2131.000000\n",
       "Bear               2166.443299\n",
       "Non Alcoholic      1583.745174\n",
       "Name: Profit, dtype: float64"
      ]
     },
     "execution_count": 50,
     "metadata": {},
     "output_type": "execute_result"
    }
   ],
   "source": [
    "cat_profit"
   ]
  },
  {
   "cell_type": "code",
   "execution_count": 45,
   "id": "0582322f",
   "metadata": {},
   "outputs": [],
   "source": [
    "prod_profit = database.groupby('Drinks/Products')['Profit'].max()"
   ]
  },
  {
   "cell_type": "code",
   "execution_count": 52,
   "id": "d956f8b8",
   "metadata": {},
   "outputs": [
    {
     "data": {
      "text/plain": [
       "Drinks/Products\n",
       "5 Alive 1Ltr        9800\n",
       "Amstel Malta Can    4250\n",
       "CHAMDOR 75CL        5900\n",
       "Name: Profit, dtype: int64"
      ]
     },
     "execution_count": 52,
     "metadata": {},
     "output_type": "execute_result"
    }
   ],
   "source": [
    "prod_profit.head(3)"
   ]
  },
  {
   "cell_type": "code",
   "execution_count": 47,
   "id": "d2a24e3c",
   "metadata": {},
   "outputs": [],
   "source": [
    "rep_cat_profit = database.groupby(['Sales Reps', 'Categories'])['Profit'].sum()"
   ]
  },
  {
   "cell_type": "code",
   "execution_count": 53,
   "id": "ba3f8523",
   "metadata": {},
   "outputs": [
    {
     "data": {
      "text/plain": [
       "Sales Reps    Categories     \n",
       "hyman irish    Alcoholic Wine     77965\n",
       "              Bear                54745\n",
       "              Non Alcoholic       76750\n",
       "quentin kunz   Alcoholic Wine    160395\n",
       "              Bear               134925\n",
       "              Non Alcoholic       97010\n",
       "timika poe     Alcoholic Wine    107885\n",
       "              Bear               109720\n",
       "              Non Alcoholic       86920\n",
       "zona otis      Alcoholic Wine    143885\n",
       "              Bear               120900\n",
       "              Non Alcoholic      149510\n",
       "Name: Profit, dtype: int64"
      ]
     },
     "execution_count": 53,
     "metadata": {},
     "output_type": "execute_result"
    }
   ],
   "source": [
    "rep_cat_profit"
   ]
  },
  {
   "cell_type": "code",
   "execution_count": 32,
   "id": "2058eba0",
   "metadata": {},
   "outputs": [],
   "source": [
    "help_pivot = \"\"\"The data is having Sales Reps, Drinks/Products and \n",
    "Categories columns that are categories. There are Sals Price, Cost\n",
    "and Profit columns that are numbers. Provide me 5 examples of \n",
    "df.pivot_table() methods using these column\"\"\""
   ]
  },
  {
   "cell_type": "code",
   "execution_count": 33,
   "id": "e492e03e",
   "metadata": {},
   "outputs": [],
   "source": [
    "help_pivot_reply = cgpt_reply(org=openai_org,key=openai_key,\n",
    "                       role_player=get_role,\n",
    "                        request_content=help_pivot)"
   ]
  },
  {
   "cell_type": "code",
   "execution_count": 54,
   "id": "e3740413",
   "metadata": {
    "scrolled": true
   },
   "outputs": [
    {
     "name": "stdout",
     "output_type": "stream",
     "text": [
      "Sure, here are 5 examples of `df.pivot_table()` methods using the given columns:\n",
      "\n",
      "1. Pivot table to calculate the average sales price, cost, and profit for each sales rep:\n",
      "\n",
      "```python\n",
      "df.pivot_table(values=['Sales Price', 'Cost', 'Profit'], index='Sales Rep', aggfunc='mean')\n",
      "```\n",
      "\n",
      "2. Pivot table to calculate the total sales price, cost, and profit for each product:\n",
      "\n",
      "```python\n",
      "df.pivot_table(values=['Sales Price', 'Cost', 'Profit'], index='Drinks/Products', aggfunc='sum')\n",
      "```\n",
      "\n",
      "3. Pivot table to calculate the maximum sales price, cost, and profit for each category:\n",
      "\n",
      "```python\n",
      "df.pivot_table(values=['Sales Price', 'Cost', 'Profit'], index='Categories', aggfunc='max')\n",
      "```\n",
      "\n",
      "4. Pivot table to calculate the minimum sales price, cost, and profit for each sales rep and category:\n",
      "\n",
      "```python\n",
      "df.pivot_table(values=['Sales Price', 'Cost', 'Profit'], index=['Sales Rep', 'Categories'], aggfunc='min')\n",
      "```\n",
      "\n",
      "5. Pivot table to calculate the median sales price, cost, and profit for each sales rep and product:\n",
      "\n",
      "```python\n",
      "df.pivot_table(values=['Sales Price', 'Cost', 'Profit'], index=['Sales Rep', 'Drinks/Products'], aggfunc='median')\n",
      "```\n"
     ]
    }
   ],
   "source": [
    "print(help_pivot_reply)"
   ]
  },
  {
   "cell_type": "code",
   "execution_count": 64,
   "id": "a13902e3",
   "metadata": {
    "scrolled": true
   },
   "outputs": [
    {
     "name": "stdout",
     "output_type": "stream",
     "text": [
      "Sure, here are 5 examples of `df.pivot_table()` methods using the given columns:\n",
      "\n",
      "1. Pivot table to calculate the average sales price, cost, and profit for each sales rep:\n",
      "\n",
      "\n",
      "df.pivot_table(values=['Sales Price', 'Cost', 'Profit'], index='Sales Rep', aggfunc='mean')\n",
      "\n",
      "\n",
      "2. Pivot table to calculate the total sales price, cost, and profit for each product:\n",
      "\n",
      "\n",
      "df.pivot_table(values=['Sales Price', 'Cost', 'Profit'], index='Drinks/Products', aggfunc='sum')\n",
      "\n",
      "\n",
      "3. Pivot table to calculate the maximum sales price, cost, and profit for each category:\n",
      "\n",
      "\n",
      "df.pivot_table(values=['Sales Price', 'Cost', 'Profit'], index='Categories', aggfunc='max')\n",
      "\n",
      "\n",
      "4. Pivot table to calculate the minimum sales price, cost, and profit for each sales rep and category:\n",
      "\n",
      "\n",
      "df.pivot_table(values=['Sales Price', 'Cost', 'Profit'], index=['Sales Rep', 'Categories'], aggfunc='min')\n",
      "\n",
      "\n",
      "5. Pivot table to calculate the median sales price, cost, and profit for each sales rep and product:\n",
      "\n",
      "\n",
      "df.pivot_table(values=['Sales Price', 'Cost', 'Profit'], index=['Sales Rep', 'Drinks/Products'], aggfunc='median')\n",
      "\n"
     ]
    }
   ],
   "source": [
    "reply_list = help_pivot_reply.split('python')\n",
    "for reply in reply_list:\n",
    "    print(reply.strip().replace('```',''))"
   ]
  },
  {
   "cell_type": "code",
   "execution_count": 56,
   "id": "a00d4a91",
   "metadata": {},
   "outputs": [],
   "source": [
    "pivot1 = database.pivot_table(values=['Sals Price', 'Cost', 'Profit'], index='Sales Reps', aggfunc='mean')"
   ]
  },
  {
   "cell_type": "code",
   "execution_count": 57,
   "id": "39b332dd",
   "metadata": {},
   "outputs": [
    {
     "data": {
      "text/html": [
       "<div>\n",
       "<style scoped>\n",
       "    .dataframe tbody tr th:only-of-type {\n",
       "        vertical-align: middle;\n",
       "    }\n",
       "\n",
       "    .dataframe tbody tr th {\n",
       "        vertical-align: top;\n",
       "    }\n",
       "\n",
       "    .dataframe thead th {\n",
       "        text-align: right;\n",
       "    }\n",
       "</style>\n",
       "<table border=\"1\" class=\"dataframe\">\n",
       "  <thead>\n",
       "    <tr style=\"text-align: right;\">\n",
       "      <th></th>\n",
       "      <th>Cost</th>\n",
       "      <th>Profit</th>\n",
       "      <th>Sals Price</th>\n",
       "    </tr>\n",
       "    <tr>\n",
       "      <th>Sales Reps</th>\n",
       "      <th></th>\n",
       "      <th></th>\n",
       "      <th></th>\n",
       "    </tr>\n",
       "  </thead>\n",
       "  <tbody>\n",
       "    <tr>\n",
       "      <th>hyman irish</th>\n",
       "      <td>15033.387097</td>\n",
       "      <td>1689.193548</td>\n",
       "      <td>16722.580645</td>\n",
       "    </tr>\n",
       "    <tr>\n",
       "      <th>quentin kunz</th>\n",
       "      <td>18390.468750</td>\n",
       "      <td>2043.385417</td>\n",
       "      <td>20433.854167</td>\n",
       "    </tr>\n",
       "    <tr>\n",
       "      <th>timika poe</th>\n",
       "      <td>19165.909091</td>\n",
       "      <td>2129.545455</td>\n",
       "      <td>21295.454545</td>\n",
       "    </tr>\n",
       "    <tr>\n",
       "      <th>zona otis</th>\n",
       "      <td>16578.816964</td>\n",
       "      <td>1849.531250</td>\n",
       "      <td>18428.348214</td>\n",
       "    </tr>\n",
       "  </tbody>\n",
       "</table>\n",
       "</div>"
      ],
      "text/plain": [
       "                      Cost       Profit    Sals Price\n",
       "Sales Reps                                           \n",
       "hyman irish   15033.387097  1689.193548  16722.580645\n",
       "quentin kunz  18390.468750  2043.385417  20433.854167\n",
       "timika poe    19165.909091  2129.545455  21295.454545\n",
       "zona otis     16578.816964  1849.531250  18428.348214"
      ]
     },
     "execution_count": 57,
     "metadata": {},
     "output_type": "execute_result"
    }
   ],
   "source": [
    "pivot1"
   ]
  },
  {
   "cell_type": "code",
   "execution_count": 58,
   "id": "3a9aa708",
   "metadata": {},
   "outputs": [],
   "source": [
    "pivot2 = database.pivot_table(values=['Sals Price', 'Cost', 'Profit'], index='Drinks/Products', aggfunc='sum')"
   ]
  },
  {
   "cell_type": "code",
   "execution_count": 60,
   "id": "fe8c56b1",
   "metadata": {},
   "outputs": [
    {
     "data": {
      "text/html": [
       "<div>\n",
       "<style scoped>\n",
       "    .dataframe tbody tr th:only-of-type {\n",
       "        vertical-align: middle;\n",
       "    }\n",
       "\n",
       "    .dataframe tbody tr th {\n",
       "        vertical-align: top;\n",
       "    }\n",
       "\n",
       "    .dataframe thead th {\n",
       "        text-align: right;\n",
       "    }\n",
       "</style>\n",
       "<table border=\"1\" class=\"dataframe\">\n",
       "  <thead>\n",
       "    <tr style=\"text-align: right;\">\n",
       "      <th></th>\n",
       "      <th>Cost</th>\n",
       "      <th>Profit</th>\n",
       "      <th>Sals Price</th>\n",
       "    </tr>\n",
       "    <tr>\n",
       "      <th>Drinks/Products</th>\n",
       "      <th></th>\n",
       "      <th></th>\n",
       "      <th></th>\n",
       "    </tr>\n",
       "  </thead>\n",
       "  <tbody>\n",
       "    <tr>\n",
       "      <th>5 Alive 1Ltr</th>\n",
       "      <td>332190</td>\n",
       "      <td>36910</td>\n",
       "      <td>369100</td>\n",
       "    </tr>\n",
       "    <tr>\n",
       "      <th>Amstel Malta Can</th>\n",
       "      <td>296880</td>\n",
       "      <td>34820</td>\n",
       "      <td>331700</td>\n",
       "    </tr>\n",
       "  </tbody>\n",
       "</table>\n",
       "</div>"
      ],
      "text/plain": [
       "                    Cost  Profit  Sals Price\n",
       "Drinks/Products                             \n",
       "5 Alive 1Ltr      332190   36910      369100\n",
       "Amstel Malta Can  296880   34820      331700"
      ]
     },
     "execution_count": 60,
     "metadata": {},
     "output_type": "execute_result"
    }
   ],
   "source": [
    "pivot2.head(2)"
   ]
  },
  {
   "cell_type": "code",
   "execution_count": 65,
   "id": "1672d7b4",
   "metadata": {},
   "outputs": [],
   "source": [
    "help_automate = \"\"\"I have 10 excel sheets with data in Database worksheet.\n",
    "Data is having Sales Reps, Drinks/Products and Categories columns that are \n",
    "categories. There are Sals Price, Cost and Profit columns that are numbers. \n",
    "Provide me a python script that loads the data from excel in pandas, \n",
    "analysis it using \n",
    "\n",
    "1) 5 pandas groupby method\n",
    "2) 5 pivot_table method\n",
    "\n",
    "and then writes the result to excel file called 'results_excel.xlsx'\"\"\""
   ]
  },
  {
   "cell_type": "code",
   "execution_count": 66,
   "id": "0b41ced8",
   "metadata": {},
   "outputs": [],
   "source": [
    "help_automate = cgpt_reply(org=openai_org,key=openai_key,\n",
    "                       role_player=get_role,\n",
    "                        request_content=help_automate)"
   ]
  },
  {
   "cell_type": "code",
   "execution_count": 67,
   "id": "6bc0e29d",
   "metadata": {
    "scrolled": true
   },
   "outputs": [
    {
     "name": "stdout",
     "output_type": "stream",
     "text": [
      "Sure, here's a Python script that should do what you're asking for:\n",
      "\n",
      "```python\n",
      "import pandas as pd\n",
      "\n",
      "# Load the data from the 10 Excel sheets into a single DataFrame\n",
      "df = pd.concat(pd.read_excel('data.xlsx', sheet_name=None), ignore_index=True)\n",
      "\n",
      "# Perform 5 groupby analyses\n",
      "groupby1 = df.groupby('Sales Rep')['Sales Price'].sum()\n",
      "groupby2 = df.groupby('Drinks/Products')['Sales Price'].sum()\n",
      "groupby3 = df.groupby('Categories')['Sales Price'].sum()\n",
      "groupby4 = df.groupby(['Sales Rep', 'Categories'])['Sales Price'].sum()\n",
      "groupby5 = df.groupby(['Drinks/Products', 'Categories'])['Sales Price'].sum()\n",
      "\n",
      "# Perform 5 pivot table analyses\n",
      "pivot1 = pd.pivot_table(df, values='Sales Price', index='Sales Rep', columns='Categories', aggfunc='sum')\n",
      "pivot2 = pd.pivot_table(df, values='Sales Price', index='Drinks/Products', columns='Categories', aggfunc='sum')\n",
      "pivot3 = pd.pivot_table(df, values='Sales Price', index='Sales Rep', columns='Drinks/Products', aggfunc='sum')\n",
      "pivot4 = pd.pivot_table(df, values='Sales Price', index='Categories', columns='Sales Rep', aggfunc='sum')\n",
      "pivot5 = pd.pivot_table(df, values='Sales Price', index='Categories', columns='Drinks/Products', aggfunc='sum')\n",
      "\n",
      "# Write the results to an Excel file\n",
      "with pd.ExcelWriter('results_excel.xlsx') as writer:\n",
      "    groupby1.to_excel(writer, sheet_name='Groupby 1')\n",
      "    groupby2.to_excel(writer, sheet_name='Groupby 2')\n",
      "    groupby3.to_excel(writer, sheet_name='Groupby 3')\n",
      "    groupby4.to_excel(writer, sheet_name='Groupby 4')\n",
      "    groupby5.to_excel(writer, sheet_name='Groupby 5')\n",
      "    pivot1.to_excel(writer, sheet_name='Pivot 1')\n",
      "    pivot2.to_excel(writer, sheet_name='Pivot 2')\n",
      "    pivot3.to_excel(writer, sheet_name='Pivot 3')\n",
      "    pivot4.to_excel(writer, sheet_name='Pivot 4')\n",
      "    pivot5.to_excel(writer, sheet_name='Pivot 5')\n",
      "```\n",
      "\n",
      "This script assumes that your Excel file is named 'data.xlsx' and that the 10 sheets containing the data are all named 'Database'. If your file and sheet names are different, you'll need to adjust the script accordingly.\n"
     ]
    }
   ],
   "source": [
    "print(help_automate)"
   ]
  },
  {
   "cell_type": "code",
   "execution_count": null,
   "id": "efd8e453",
   "metadata": {},
   "outputs": [],
   "source": [
    "rectify_error = \"\"\"It seems the df = pd.concat(pd.read_excel('data.xlsx', sheet_name=None), ignore_index=True)\n",
    "command is not working. The following error thrown. Could you help me.'\"\"\"\n",
    "error_reply = cgpt_reply(org=openai_org,key=openai_key,\n",
    "                       role_player=get_role,\n",
    "                        request_content=rectify_error)"
   ]
  },
  {
   "cell_type": "code",
   "execution_count": null,
   "id": "48ac8be5",
   "metadata": {},
   "outputs": [],
   "source": []
  },
  {
   "cell_type": "code",
   "execution_count": null,
   "id": "25d06970",
   "metadata": {},
   "outputs": [],
   "source": []
  },
  {
   "cell_type": "code",
   "execution_count": null,
   "id": "3bdc6359",
   "metadata": {},
   "outputs": [],
   "source": []
  }
 ],
 "metadata": {
  "kernelspec": {
   "display_name": "Python 3 (ipykernel)",
   "language": "python",
   "name": "python3"
  },
  "language_info": {
   "codemirror_mode": {
    "name": "ipython",
    "version": 3
   },
   "file_extension": ".py",
   "mimetype": "text/x-python",
   "name": "python",
   "nbconvert_exporter": "python",
   "pygments_lexer": "ipython3",
   "version": "3.10.9"
  }
 },
 "nbformat": 4,
 "nbformat_minor": 5
}
