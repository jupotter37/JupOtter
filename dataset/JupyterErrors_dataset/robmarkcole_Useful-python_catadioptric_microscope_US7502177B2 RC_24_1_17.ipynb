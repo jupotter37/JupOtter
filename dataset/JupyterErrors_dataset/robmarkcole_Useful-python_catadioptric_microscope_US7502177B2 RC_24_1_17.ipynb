{
 "cells": [
  {
   "cell_type": "code",
   "execution_count": 1,
   "metadata": {
    "collapsed": false
   },
   "outputs": [
    {
     "name": "stdout",
     "output_type": "stream",
     "text": [
      "Populating the interactive namespace from numpy and matplotlib\n"
     ]
    }
   ],
   "source": [
    "import numpy as np\n",
    "import matplotlib.pyplot as plt\n",
    "import requests\n",
    "import copy as cp\n",
    "\n",
    "from rayopt import *\n",
    "from rayopt import zemax\n",
    "\n",
    "np.set_printoptions(precision=3)\n",
    "%pylab inline"
   ]
  },
  {
   "cell_type": "code",
   "execution_count": 9,
   "metadata": {
    "collapsed": false
   },
   "outputs": [],
   "source": [
    "d = requests.get(\"http://www.lens-designs.com/MicroscopeObjectives/US07502177-1.zmx\")  #  SSLError if it's unable to verify the certificate:\n",
    "d.encoding = \"utf-16\""
   ]
  },
  {
   "cell_type": "code",
   "execution_count": 11,
   "metadata": {
    "collapsed": false
   },
   "outputs": [
    {
     "data": {
      "text/plain": [
       "200"
      ]
     },
     "execution_count": 11,
     "metadata": {},
     "output_type": "execute_result"
    }
   ],
   "source": [
    "d.status_code # 200 is OK"
   ]
  },
  {
   "cell_type": "code",
   "execution_count": 15,
   "metadata": {
    "collapsed": false
   },
   "outputs": [],
   "source": [
    "# d.text"
   ]
  },
  {
   "cell_type": "code",
   "execution_count": 13,
   "metadata": {
    "collapsed": false,
    "scrolled": false
   },
   "outputs": [
    {
     "name": "stderr",
     "output_type": "stream",
     "text": [
      "/Users/robincole/anaconda3/lib/python3.5/site-packages/rayopt/elements.py:134: RuntimeWarning: invalid value encountered in multiply\n",
      "  self._offset = d*u\n",
      "/Users/robincole/anaconda3/lib/python3.5/site-packages/rayopt/paraxial_trace.py:186: RuntimeWarning: divide by zero encountered in true_divide\n",
      "  return self.n[(0, -2), ]/(2*na)\n",
      "/Users/robincole/anaconda3/lib/python3.5/site-packages/rayopt/paraxial_trace.py:191: RuntimeWarning: divide by zero encountered in true_divide\n",
      "  return 1.22*self.wavelength/(2*na)/self.system.scale\n",
      "/Users/robincole/anaconda3/lib/python3.5/site-packages/rayopt/elements.py:497: RuntimeWarning: invalid value encountered in sqrt\n",
      "  g = np.sqrt(np.square(d) - e*f)\n"
     ]
    },
    {
     "name": "stdout",
     "output_type": "stream",
     "text": [
      "material not found SUPRASIL __init__() got an unexpected keyword argument 'vd'\n",
      "material not found SUPRASIL __init__() got an unexpected keyword argument 'vd'\n",
      "material not found SUPRASIL __init__() got an unexpected keyword argument 'vd'\n",
      "material not found SUPRASIL __init__() got an unexpected keyword argument 'vd'\n",
      "OBSC not handled 0 3.0 0\n",
      "material not found SUPRASIL __init__() got an unexpected keyword argument 'vd'\n",
      "OBSC not handled 0 3.0 0\n",
      "material not found SUPRASIL __init__() got an unexpected keyword argument 'vd'\n",
      "material not found SUPRASIL __init__() got an unexpected keyword argument 'vd'\n",
      "material not found SUPRASIL __init__() got an unexpected keyword argument 'vd'\n",
      "material not found SUPRASIL __init__() got an unexpected keyword argument 'vd'\n",
      "material not found SUPRASIL __init__() got an unexpected keyword argument 'vd'\n",
      "material not found SUPRASIL __init__() got an unexpected keyword argument 'vd'\n",
      "material not found SUPRASIL __init__() got an unexpected keyword argument 'vd'\n",
      "material not found SUPRASIL __init__() got an unexpected keyword argument 'vd'\n",
      "material not found SUPRASIL __init__() got an unexpected keyword argument 'vd'\n",
      "RAID not handled 32 1 0 7.0E-1 0 0 0 0 0 0\n"
     ]
    },
    {
     "ename": "ValueError",
     "evalue": "('no viable interval found', 0.0, 9.313225746154785e-10, nan)",
     "output_type": "error",
     "traceback": [
      "\u001b[0;31m---------------------------------------------------------------------------\u001b[0m",
      "\u001b[0;31mValueError\u001b[0m                                Traceback (most recent call last)",
      "\u001b[0;32m<ipython-input-13-78eeb28ac500>\u001b[0m in \u001b[0;36m<module>\u001b[0;34m()\u001b[0m\n\u001b[1;32m     15\u001b[0m         \u001b[0me\u001b[0m\u001b[0;34m.\u001b[0m\u001b[0mmaterial\u001b[0m \u001b[0;34m=\u001b[0m \u001b[0mfsm\u001b[0m\u001b[0;34m\u001b[0m\u001b[0m\n\u001b[1;32m     16\u001b[0m \u001b[0ms\u001b[0m\u001b[0;34m.\u001b[0m\u001b[0mupdate\u001b[0m\u001b[0;34m(\u001b[0m\u001b[0;34m)\u001b[0m\u001b[0;34m\u001b[0m\u001b[0m\n\u001b[0;32m---> 17\u001b[0;31m \u001b[0ma\u001b[0m \u001b[0;34m=\u001b[0m \u001b[0mAnalysis\u001b[0m\u001b[0;34m(\u001b[0m\u001b[0ms\u001b[0m\u001b[0;34m)\u001b[0m\u001b[0;34m\u001b[0m\u001b[0m\n\u001b[0m",
      "\u001b[0;32m/Users/robincole/anaconda3/lib/python3.5/site-packages/rayopt/analysis.py\u001b[0m in \u001b[0;36m__init__\u001b[0;34m(self, system, **kwargs)\u001b[0m\n\u001b[1;32m     72\u001b[0m             \u001b[0msetattr\u001b[0m\u001b[0;34m(\u001b[0m\u001b[0mself\u001b[0m\u001b[0;34m,\u001b[0m \u001b[0mk\u001b[0m\u001b[0;34m,\u001b[0m \u001b[0mv\u001b[0m\u001b[0;34m)\u001b[0m\u001b[0;34m\u001b[0m\u001b[0m\n\u001b[1;32m     73\u001b[0m         \u001b[0;32mif\u001b[0m \u001b[0mself\u001b[0m\u001b[0;34m.\u001b[0m\u001b[0mrun\u001b[0m\u001b[0;34m:\u001b[0m\u001b[0;34m\u001b[0m\u001b[0m\n\u001b[0;32m---> 74\u001b[0;31m             \u001b[0mself\u001b[0m\u001b[0;34m.\u001b[0m\u001b[0mrun\u001b[0m\u001b[0;34m(\u001b[0m\u001b[0;34m)\u001b[0m\u001b[0;34m\u001b[0m\u001b[0m\n\u001b[0m\u001b[1;32m     75\u001b[0m         \u001b[0;32mif\u001b[0m \u001b[0mself\u001b[0m\u001b[0;34m.\u001b[0m\u001b[0mprint\u001b[0m\u001b[0;34m:\u001b[0m\u001b[0;34m\u001b[0m\u001b[0m\n\u001b[1;32m     76\u001b[0m             \u001b[0;32mfor\u001b[0m \u001b[0mt\u001b[0m \u001b[0;32min\u001b[0m \u001b[0mself\u001b[0m\u001b[0;34m.\u001b[0m\u001b[0mtext\u001b[0m\u001b[0;34m:\u001b[0m\u001b[0;34m\u001b[0m\u001b[0m\n",
      "\u001b[0;32m/Users/robincole/anaconda3/lib/python3.5/site-packages/rayopt/analysis.py\u001b[0m in \u001b[0;36mrun\u001b[0;34m(self)\u001b[0m\n\u001b[1;32m    113\u001b[0m         \u001b[0;32mfor\u001b[0m \u001b[0mh\u001b[0m \u001b[0;32min\u001b[0m \u001b[0mmin\u001b[0m\u001b[0;34m(\u001b[0m\u001b[0mself\u001b[0m\u001b[0;34m.\u001b[0m\u001b[0msystem\u001b[0m\u001b[0;34m.\u001b[0m\u001b[0mfields\u001b[0m\u001b[0;34m)\u001b[0m\u001b[0;34m,\u001b[0m \u001b[0mmax\u001b[0m\u001b[0;34m(\u001b[0m\u001b[0mself\u001b[0m\u001b[0;34m.\u001b[0m\u001b[0msystem\u001b[0m\u001b[0;34m.\u001b[0m\u001b[0mfields\u001b[0m\u001b[0;34m)\u001b[0m\u001b[0;34m:\u001b[0m\u001b[0;34m\u001b[0m\u001b[0m\n\u001b[1;32m    114\u001b[0m             \u001b[0mt\u001b[0m \u001b[0;34m=\u001b[0m \u001b[0mGeometricTrace\u001b[0m\u001b[0;34m(\u001b[0m\u001b[0mself\u001b[0m\u001b[0;34m.\u001b[0m\u001b[0msystem\u001b[0m\u001b[0;34m)\u001b[0m\u001b[0;34m\u001b[0m\u001b[0m\n\u001b[0;32m--> 115\u001b[0;31m             \u001b[0mt\u001b[0m\u001b[0;34m.\u001b[0m\u001b[0mrays_clipping\u001b[0m\u001b[0;34m(\u001b[0m\u001b[0;34m(\u001b[0m\u001b[0;36m0\u001b[0m\u001b[0;34m,\u001b[0m \u001b[0mh\u001b[0m\u001b[0;34m)\u001b[0m\u001b[0;34m)\u001b[0m\u001b[0;34m\u001b[0m\u001b[0m\n\u001b[0m\u001b[1;32m    116\u001b[0m             \u001b[0mt\u001b[0m\u001b[0;34m.\u001b[0m\u001b[0mplot\u001b[0m\u001b[0;34m(\u001b[0m\u001b[0max\u001b[0m\u001b[0;34m)\u001b[0m\u001b[0;34m\u001b[0m\u001b[0m\n\u001b[1;32m    117\u001b[0m \u001b[0;34m\u001b[0m\u001b[0m\n",
      "\u001b[0;32m/Users/robincole/anaconda3/lib/python3.5/site-packages/rayopt/geometric_trace.py\u001b[0m in \u001b[0;36mrays_clipping\u001b[0;34m(self, yo, wavelength, axis)\u001b[0m\n\u001b[1;32m    213\u001b[0m \u001b[0;34m\u001b[0m\u001b[0m\n\u001b[1;32m    214\u001b[0m     \u001b[0;32mdef\u001b[0m \u001b[0mrays_clipping\u001b[0m\u001b[0;34m(\u001b[0m\u001b[0mself\u001b[0m\u001b[0;34m,\u001b[0m \u001b[0myo\u001b[0m\u001b[0;34m,\u001b[0m \u001b[0mwavelength\u001b[0m\u001b[0;34m=\u001b[0m\u001b[0;32mNone\u001b[0m\u001b[0;34m,\u001b[0m \u001b[0maxis\u001b[0m\u001b[0;34m=\u001b[0m\u001b[0;36m1\u001b[0m\u001b[0;34m)\u001b[0m\u001b[0;34m:\u001b[0m\u001b[0;34m\u001b[0m\u001b[0m\n\u001b[0;32m--> 215\u001b[0;31m         \u001b[0mz\u001b[0m\u001b[0;34m,\u001b[0m \u001b[0mp\u001b[0m \u001b[0;34m=\u001b[0m \u001b[0mself\u001b[0m\u001b[0;34m.\u001b[0m\u001b[0msystem\u001b[0m\u001b[0;34m.\u001b[0m\u001b[0mpupil\u001b[0m\u001b[0;34m(\u001b[0m\u001b[0myo\u001b[0m\u001b[0;34m,\u001b[0m \u001b[0ml\u001b[0m\u001b[0;34m=\u001b[0m\u001b[0mwavelength\u001b[0m\u001b[0;34m,\u001b[0m \u001b[0mstop\u001b[0m\u001b[0;34m=\u001b[0m\u001b[0;34m-\u001b[0m\u001b[0;36m1\u001b[0m\u001b[0;34m)\u001b[0m\u001b[0;34m\u001b[0m\u001b[0m\n\u001b[0m\u001b[1;32m    216\u001b[0m         \u001b[0myp\u001b[0m \u001b[0;34m=\u001b[0m \u001b[0mnp\u001b[0m\u001b[0;34m.\u001b[0m\u001b[0mzeros\u001b[0m\u001b[0;34m(\u001b[0m\u001b[0;34m(\u001b[0m\u001b[0;36m3\u001b[0m\u001b[0;34m,\u001b[0m \u001b[0;36m2\u001b[0m\u001b[0;34m)\u001b[0m\u001b[0;34m)\u001b[0m\u001b[0;34m\u001b[0m\u001b[0m\n\u001b[1;32m    217\u001b[0m         \u001b[0myp\u001b[0m\u001b[0;34m[\u001b[0m\u001b[0;36m1\u001b[0m\u001b[0;34m:\u001b[0m\u001b[0;34m,\u001b[0m \u001b[0maxis\u001b[0m\u001b[0;34m]\u001b[0m \u001b[0;34m=\u001b[0m \u001b[0mp\u001b[0m\u001b[0;34m[\u001b[0m\u001b[0;34m:\u001b[0m\u001b[0;34m,\u001b[0m \u001b[0maxis\u001b[0m\u001b[0;34m]\u001b[0m\u001b[0;34m/\u001b[0m\u001b[0mnp\u001b[0m\u001b[0;34m.\u001b[0m\u001b[0mfabs\u001b[0m\u001b[0;34m(\u001b[0m\u001b[0mp\u001b[0m\u001b[0;34m)\u001b[0m\u001b[0;34m.\u001b[0m\u001b[0mmax\u001b[0m\u001b[0;34m(\u001b[0m\u001b[0;34m)\u001b[0m\u001b[0;34m\u001b[0m\u001b[0m\n",
      "\u001b[0;32m/Users/robincole/anaconda3/lib/python3.5/site-packages/rayopt/system.py\u001b[0m in \u001b[0;36mpupil\u001b[0;34m(self, yo, l, stop, **kwargs)\u001b[0m\n\u001b[1;32m    593\u001b[0m             c = self._pupil_cache[k] = PolarCacheND(self._aim_pupil,\n\u001b[1;32m    594\u001b[0m                                                     l=l, stop=stop, **kwargs)\n\u001b[0;32m--> 595\u001b[0;31m         \u001b[0mq\u001b[0m \u001b[0;34m=\u001b[0m \u001b[0mc\u001b[0m\u001b[0;34m(\u001b[0m\u001b[0;34m*\u001b[0m\u001b[0myo\u001b[0m\u001b[0;34m)\u001b[0m\u001b[0;34m\u001b[0m\u001b[0m\n\u001b[0m\u001b[1;32m    596\u001b[0m         \u001b[0;32mreturn\u001b[0m \u001b[0mq\u001b[0m\u001b[0;34m[\u001b[0m\u001b[0;36m0\u001b[0m\u001b[0;34m]\u001b[0m\u001b[0;34m,\u001b[0m \u001b[0mq\u001b[0m\u001b[0;34m[\u001b[0m\u001b[0;36m1\u001b[0m\u001b[0;34m:\u001b[0m\u001b[0;34m]\u001b[0m\u001b[0;34m.\u001b[0m\u001b[0mreshape\u001b[0m\u001b[0;34m(\u001b[0m\u001b[0;36m2\u001b[0m\u001b[0;34m,\u001b[0m \u001b[0;36m2\u001b[0m\u001b[0;34m)\u001b[0m\u001b[0;34m\u001b[0m\u001b[0m\n",
      "\u001b[0;32m/Users/robincole/anaconda3/lib/python3.5/site-packages/rayopt/cachend.py\u001b[0m in \u001b[0;36m__call__\u001b[0;34m(self, *args)\u001b[0m\n\u001b[1;32m     50\u001b[0m             \u001b[0;32mif\u001b[0m \u001b[0mnp\u001b[0m\u001b[0;34m.\u001b[0m\u001b[0many\u001b[0m\u001b[0;34m(\u001b[0m\u001b[0mnp\u001b[0m\u001b[0;34m.\u001b[0m\u001b[0misnan\u001b[0m\u001b[0;34m(\u001b[0m\u001b[0mguess\u001b[0m\u001b[0;34m)\u001b[0m\u001b[0;34m)\u001b[0m\u001b[0;34m:\u001b[0m\u001b[0;34m\u001b[0m\u001b[0m\n\u001b[1;32m     51\u001b[0m                 \u001b[0mguess\u001b[0m \u001b[0;34m=\u001b[0m \u001b[0mself\u001b[0m\u001b[0;34m.\u001b[0m\u001b[0mguess\u001b[0m\u001b[0;34m\u001b[0m\u001b[0m\n\u001b[0;32m---> 52\u001b[0;31m         \u001b[0mvalue\u001b[0m \u001b[0;34m=\u001b[0m \u001b[0mself\u001b[0m\u001b[0;34m.\u001b[0m\u001b[0msolver\u001b[0m\u001b[0;34m(\u001b[0m\u001b[0;34m*\u001b[0m\u001b[0margs\u001b[0m\u001b[0;34m,\u001b[0m \u001b[0mguess\u001b[0m\u001b[0;34m=\u001b[0m\u001b[0mguess\u001b[0m\u001b[0;34m,\u001b[0m \u001b[0;34m**\u001b[0m\u001b[0mself\u001b[0m\u001b[0;34m.\u001b[0m\u001b[0mkwargs\u001b[0m\u001b[0;34m)\u001b[0m\u001b[0;34m\u001b[0m\u001b[0m\n\u001b[0m\u001b[1;32m     53\u001b[0m         \u001b[0mself\u001b[0m\u001b[0;34m.\u001b[0m\u001b[0mcache\u001b[0m\u001b[0;34m[\u001b[0m\u001b[0margs\u001b[0m\u001b[0;34m]\u001b[0m \u001b[0;34m=\u001b[0m \u001b[0mvalue\u001b[0m\u001b[0;34m\u001b[0m\u001b[0m\n\u001b[1;32m     54\u001b[0m         \u001b[0mself\u001b[0m\u001b[0;34m.\u001b[0m\u001b[0m_update\u001b[0m\u001b[0;34m(\u001b[0m\u001b[0;34m)\u001b[0m\u001b[0;34m\u001b[0m\u001b[0m\n",
      "\u001b[0;32m/Users/robincole/anaconda3/lib/python3.5/site-packages/rayopt/system.py\u001b[0m in \u001b[0;36m_aim_pupil\u001b[0;34m(self, xo, yo, guess, **kwargs)\u001b[0m\n\u001b[1;32m    578\u001b[0m             \u001b[0myp\u001b[0m \u001b[0;34m=\u001b[0m \u001b[0;34m[\u001b[0m\u001b[0;36m0\u001b[0m\u001b[0;34m,\u001b[0m \u001b[0;36m0\u001b[0m\u001b[0;34m]\u001b[0m\u001b[0;34m\u001b[0m\u001b[0m\n\u001b[1;32m    579\u001b[0m             \u001b[0myp\u001b[0m\u001b[0;34m[\u001b[0m\u001b[0max\u001b[0m\u001b[0;34m]\u001b[0m \u001b[0;34m=\u001b[0m \u001b[0;36m2\u001b[0m\u001b[0;34m*\u001b[0m\u001b[0msig\u001b[0m \u001b[0;34m-\u001b[0m \u001b[0;36m1.\u001b[0m\u001b[0;34m\u001b[0m\u001b[0m\n\u001b[0;32m--> 580\u001b[0;31m             \u001b[0ma1\u001b[0m \u001b[0;34m=\u001b[0m \u001b[0mself\u001b[0m\u001b[0;34m.\u001b[0m\u001b[0maim_marginal\u001b[0m\u001b[0;34m(\u001b[0m\u001b[0my\u001b[0m\u001b[0;34m,\u001b[0m \u001b[0myp\u001b[0m\u001b[0;34m,\u001b[0m \u001b[0mz\u001b[0m\u001b[0;34m,\u001b[0m \u001b[0ma\u001b[0m\u001b[0;34m[\u001b[0m\u001b[0msig\u001b[0m\u001b[0;34m,\u001b[0m \u001b[0max\u001b[0m\u001b[0;34m]\u001b[0m\u001b[0;34m,\u001b[0m \u001b[0;34m**\u001b[0m\u001b[0mkwargs\u001b[0m\u001b[0;34m)\u001b[0m\u001b[0;34m\u001b[0m\u001b[0m\n\u001b[0m\u001b[1;32m    581\u001b[0m             \u001b[0ma\u001b[0m\u001b[0;34m[\u001b[0m\u001b[0msig\u001b[0m\u001b[0;34m,\u001b[0m \u001b[0max\u001b[0m\u001b[0;34m]\u001b[0m \u001b[0;34m=\u001b[0m \u001b[0ma1\u001b[0m\u001b[0;34m\u001b[0m\u001b[0m\n\u001b[1;32m    582\u001b[0m             \u001b[0;32mif\u001b[0m \u001b[0msig\u001b[0m \u001b[0;34m==\u001b[0m \u001b[0;36m1\u001b[0m\u001b[0;34m:\u001b[0m  \u001b[0;31m# and guess is None\u001b[0m\u001b[0;34m\u001b[0m\u001b[0m\n",
      "\u001b[0;32m/Users/robincole/anaconda3/lib/python3.5/site-packages/rayopt/system.py\u001b[0m in \u001b[0;36maim_marginal\u001b[0;34m(self, yo, yp, z, p, l, stop, **kwargs)\u001b[0m\n\u001b[1;32m    554\u001b[0m             \u001b[0;32melse\u001b[0m\u001b[0;34m:\u001b[0m\u001b[0;34m\u001b[0m\u001b[0m\n\u001b[1;32m    555\u001b[0m                 \u001b[0;32mreturn\u001b[0m \u001b[0md\u001b[0m\u001b[0;34m[\u001b[0m\u001b[0;34m-\u001b[0m\u001b[0;36m1\u001b[0m\u001b[0;34m]\u001b[0m\u001b[0;34m\u001b[0m\u001b[0m\n\u001b[0;32m--> 556\u001b[0;31m         \u001b[0ma\u001b[0m \u001b[0;34m=\u001b[0m \u001b[0mself\u001b[0m\u001b[0;34m.\u001b[0m\u001b[0msolve_brentq\u001b[0m\u001b[0;34m(\u001b[0m\u001b[0mdist\u001b[0m\u001b[0;34m,\u001b[0m \u001b[0;34m**\u001b[0m\u001b[0mkwargs\u001b[0m\u001b[0;34m)\u001b[0m\u001b[0;34m\u001b[0m\u001b[0m\n\u001b[0m\u001b[1;32m    557\u001b[0m         \u001b[0;32massert\u001b[0m \u001b[0ma\u001b[0m\u001b[0;34m\u001b[0m\u001b[0m\n\u001b[1;32m    558\u001b[0m         \u001b[0;32mreturn\u001b[0m \u001b[0ma\u001b[0m\u001b[0;34m*\u001b[0m\u001b[0mp\u001b[0m\u001b[0;34m\u001b[0m\u001b[0m\n",
      "\u001b[0;32m/Users/robincole/anaconda3/lib/python3.5/site-packages/rayopt/system.py\u001b[0m in \u001b[0;36msolve_brentq\u001b[0;34m(self, merit, a, b, tol, maxiter)\u001b[0m\n\u001b[1;32m    497\u001b[0m                 \u001b[0;32mbreak\u001b[0m\u001b[0;34m\u001b[0m\u001b[0m\n\u001b[1;32m    498\u001b[0m         \u001b[0;32mif\u001b[0m \u001b[0mi\u001b[0m \u001b[0;34m==\u001b[0m \u001b[0mmaxiter\u001b[0m \u001b[0;34m-\u001b[0m \u001b[0;36m1\u001b[0m\u001b[0;34m:\u001b[0m\u001b[0;34m\u001b[0m\u001b[0m\n\u001b[0;32m--> 499\u001b[0;31m             \u001b[0;32mraise\u001b[0m \u001b[0mValueError\u001b[0m\u001b[0;34m(\u001b[0m\u001b[0;34m\"no viable interval found\"\u001b[0m\u001b[0;34m,\u001b[0m \u001b[0ma\u001b[0m\u001b[0;34m,\u001b[0m \u001b[0mb\u001b[0m\u001b[0;34m,\u001b[0m \u001b[0mfb\u001b[0m\u001b[0;34m)\u001b[0m\u001b[0;34m\u001b[0m\u001b[0m\n\u001b[0m\u001b[1;32m    500\u001b[0m         \u001b[0mfa\u001b[0m \u001b[0;34m=\u001b[0m \u001b[0mmerit\u001b[0m\u001b[0;34m(\u001b[0m\u001b[0ma\u001b[0m\u001b[0;34m)\u001b[0m\u001b[0;34m\u001b[0m\u001b[0m\n\u001b[1;32m    501\u001b[0m         \u001b[0;32mif\u001b[0m \u001b[0mabs\u001b[0m\u001b[0;34m(\u001b[0m\u001b[0mfa\u001b[0m\u001b[0;34m)\u001b[0m \u001b[0;34m<=\u001b[0m \u001b[0mtol\u001b[0m\u001b[0;34m:\u001b[0m\u001b[0;34m\u001b[0m\u001b[0m\n",
      "\u001b[0;31mValueError\u001b[0m: ('no viable interval found', 0.0, 9.313225746154785e-10, nan)"
     ]
    },
    {
     "data": {
      "image/png": "[encoded data removed]",
      "text/plain": [
       "<matplotlib.figure.Figure at 0x10b0b4e48>"
      ]
     },
     "metadata": {},
     "output_type": "display_data"
    }
   ],
   "source": [
    "s = zemax.zmx_to_system(d.text)\n",
    "s.object = InfiniteConjugate(angle=np.deg2rad(3.5/2), pupil={\"radius\": 7})\n",
    "s.wavelengths = 193e-9, 194e-9, 192e-9\n",
    "s.fields = 0, .7, 1.\n",
    "s.stop = 1\n",
    "del s[0]\n",
    "s[0].radius = s[1].radius\n",
    "s[1].distance = 20.\n",
    "fsm = cp.copy(s[2].material)\n",
    "fsm.mirror = True\n",
    "for e in s[10:13]:\n",
    "    e.curvature *= -1\n",
    "for e in s:\n",
    "    if getattr(e.material, \"mirror\", None):\n",
    "        e.material = fsm\n",
    "s.update()\n",
    "a = Analysis(s)"
   ]
  },
  {
   "cell_type": "code",
   "execution_count": 14,
   "metadata": {
    "collapsed": false
   },
   "outputs": [
    {
     "name": "stdout",
     "output_type": "stream",
     "text": [
      "description: ''\n",
      "elements:\n",
      "- {material: basic/air, radius: 7.101937623607}\n",
      "- {distance: 20.0, material: basic/air, radius: 7.101937623607}\n",
      "- {curvature: -0.012250712097142069, distance: 15.188841, material: basic/air, radius: 9.0}\n",
      "- {curvature: -0.05543026775313687, distance: 3.5, material: basic/air, radius: 9.0}\n",
      "- {curvature: 0.05334878314093095, distance: 22.449116, material: basic/air, radius: 4.0}\n",
      "- {curvature: 0.0012576439726421588, distance: 2.0, material: basic/air, radius: 4.0}\n",
      "- {curvature: 0.011765167907417353, distance: 1.998104, material: basic/air, radius: 3.0}\n",
      "- {curvature: 0.024812404574593556, distance: 5.0, material: basic/air, radius: 3.0}\n",
      "- {curvature: -0.012727913010722148, distance: 97.532362, material: basic/air, radius: 29.0}\n",
      "- {curvature: -0.00756944706536549, distance: 5.0, material: basic/air, radius: 31.0}\n",
      "- curvature: 0.012727913010722148\n",
      "  direction: [-0.0, -0.0, -1.0]\n",
      "  distance: 5.0\n",
      "  material: basic/air\n",
      "  radius: 29.0\n",
      "- curvature: -0.024812404574593556\n",
      "  direction: [-0.0, -0.0, -1.0]\n",
      "  distance: 97.532362\n",
      "  material: basic/air\n",
      "  radius: 29.0\n",
      "- curvature: -0.011765167907417353\n",
      "  direction: [-0.0, -0.0, -1.0]\n",
      "  distance: 5.0\n",
      "  material: basic/air\n",
      "  radius: 31.0\n",
      "- {curvature: 0.024812404574593556, distance: 5.0, material: basic/air, radius: 29.0}\n",
      "- {curvature: -0.012727913010722148, distance: 97.532362, material: basic/air, radius: 3.0}\n",
      "- {curvature: -0.00756944706536549, distance: 5.0, material: basic/air, radius: 3.0}\n",
      "- {curvature: 0.023862906836610655, distance: 14.180612, material: basic/air, radius: 7.0}\n",
      "- {curvature: -0.050902685315170844, distance: 2.999944, material: basic/air, radius: 7.0}\n",
      "- {curvature: 0.09797645312306803, distance: 0.499948, material: basic/air, radius: 7.0}\n",
      "- {curvature: 0.158371334535055, distance: 6.643053, material: basic/air, radius: 5.0}\n",
      "- {curvature: -0.15216584494574298, distance: 5.385248, material: basic/air, radius: 5.0}\n",
      "- {curvature: -0.08614246792657491, distance: 8.442713, material: basic/air, radius: 9.0}\n",
      "- {curvature: 0.03403588621313122, distance: 19.085531, material: basic/air, radius: 15.0}\n",
      "- {curvature: 0.039543358046482194, distance: 2.999908, material: basic/air, radius: 15.0}\n",
      "- {curvature: 0.01800044309890732, distance: 4.186877, material: basic/air, radius: 16.0}\n",
      "- {curvature: -0.019329029840813458, distance: 6.84081, material: basic/air, radius: 16.0}\n",
      "- {curvature: 0.018717800002627977, distance: 0.5, material: basic/air, radius: 16.0}\n",
      "- {curvature: -0.003625459362015735, distance: 5.141563, material: basic/air, radius: 16.0}\n",
      "- {curvature: 0.03675159015861508, distance: 0.5, material: basic/air, radius: 15.0}\n",
      "- {curvature: 0.01170959625183318, distance: 5.295973, material: basic/air, radius: 15.0}\n",
      "- {curvature: 0.07268750869524322, distance: 0.5, material: basic/air, radius: 12.0}\n",
      "- {curvature: 0.014395858438210882, distance: 6.782701, material: basic/air, radius: 10.0}\n",
      "- direction: [-0.0, -0.0, -1.0]\n",
      "  distance: 2126.92772442229\n",
      "  material: basic/air\n",
      "  radius: 0.5688575779126\n",
      "image:\n",
      "  pupil: {distance: -182.63868100931037, radius: -3.747471014546157, refractive_index: 1.0003293101092814,\n",
      "    update_radius: true}\n",
      "  radius: 0.5688575779126\n",
      "  type: finite\n",
      "object:\n",
      "  angle: 0.030543261909900768\n",
      "  pupil: {distance: 20.0, radius: 7.0, refractive_index: 1.0003293101092814}\n",
      "pickups: []\n",
      "scale: 0.001\n",
      "solves: []\n",
      "stop: 1\n",
      "validators: []\n",
      "wavelengths: [1.93e-07, 1.94e-07, 1.92e-07]\n",
      "\n"
     ]
    }
   ],
   "source": [
    "print(system_to_yaml(s))"
   ]
  },
  {
   "cell_type": "code",
   "execution_count": null,
   "metadata": {
    "collapsed": true
   },
   "outputs": [],
   "source": []
  }
 ],
 "metadata": {
  "anaconda-cloud": {},
  "kernelspec": {
   "display_name": "Python [default]",
   "language": "python",
   "name": "python3"
  },
  "language_info": {
   "codemirror_mode": {
    "name": "ipython",
    "version": 3
   },
   "file_extension": ".py",
   "mimetype": "text/x-python",
   "name": "python",
   "nbconvert_exporter": "python",
   "pygments_lexer": "ipython3",
   "version": "3.5.2"
  }
 },
 "nbformat": 4,
 "nbformat_minor": 0
}
