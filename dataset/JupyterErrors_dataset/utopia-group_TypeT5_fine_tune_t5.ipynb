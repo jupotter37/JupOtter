{
 "cells": [
  {
   "cell_type": "code",
   "execution_count": 1,
   "metadata": {},
   "outputs": [],
   "source": [
    "%load_ext autoreload\n",
    "%autoreload 2\n",
    "\n",
    "import os\n",
    "from pathlib import Path\n",
    "from typing import *\n",
    "\n",
    "from typet5.utils import proj_root, get_data_dir\n",
    "\n",
    "os.chdir(proj_root())\n",
    "\n",
    "datadir = get_data_dir()\n",
    "repos_dir = datadir / \"SPOT-data/repos\""
   ]
  },
  {
   "cell_type": "code",
   "execution_count": 2,
   "metadata": {},
   "outputs": [],
   "source": [
    "load_trained = False\n",
    "\n",
    "if load_trained:\n",
    "    model_path = datadir / \"checkpoints/saved/SPOT-with_margin-data_full\"\n",
    "else:\n",
    "    model_path = \"Salesforce/codet5-base\"\n",
    "\n",
    "import torch\n",
    "from transformers import (\n",
    "    DataCollatorForSeq2Seq,\n",
    "    RobertaTokenizer,\n",
    "    T5ForConditionalGeneration,\n",
    ")\n",
    "from transformers.models.t5 import T5ForConditionalGeneration\n",
    "from typet5.model import ModelWrapper, load_model_spot, load_tokenizer_spot\n",
    "\n",
    "device = torch.device(\"cuda:0\" if torch.cuda.is_available() else \"cpu\")\n",
    "tokenizer: RobertaTokenizer = load_tokenizer_spot()\n",
    "model = load_model_spot(model_path)\n"
   ]
  },
  {
   "cell_type": "code",
   "execution_count": 12,
   "metadata": {},
   "outputs": [
    {
     "data": {
      "text/plain": [
       "'<pad><s><extra_id_0>> a <s> func nagrega</s>'"
      ]
     },
     "execution_count": 12,
     "metadata": {},
     "output_type": "execute_result"
    }
   ],
   "source": [
    "from typet5.data import mask_type_annots\n",
    "\n",
    "test_code = \"\"\"\n",
    "a = <extra_id_0> # a should be a list of dicts\\n\n",
    "\"\"\"\n",
    "\n",
    "def run_model(code: str, max_length=64):\n",
    "    tks = tokenizer.encode(code, return_tensors=\"pt\").to(device)\n",
    "    dec = model.generate(\n",
    "        tks,\n",
    "        max_length=max_length,\n",
    "        do_sample=False,\n",
    "    )[0]\n",
    "    return tokenizer.decode(dec)\n",
    "\n",
    "\n",
    "run_model(test_code)\n"
   ]
  },
  {
   "cell_type": "code",
   "execution_count": 3,
   "metadata": {},
   "outputs": [
    {
     "name": "stdout",
     "output_type": "stream",
     "text": [
      "average label length:  17.234261601055643\n"
     ]
    }
   ],
   "source": [
    "import numpy as np\n",
    "\n",
    "from typet5.data import load_datasets\n",
    "\n",
    "with_margin = True\n",
    "margin_tag = \"with_margin\" if with_margin else \"no_margin\"\n",
    "\n",
    "ti_datasets, repos_split = load_datasets(\n",
    "    datadir / f\"SPOT-data/repos-processed-{margin_tag}\"\n",
    ")\n",
    "\n",
    "print(\n",
    "    \"average label length: \",\n",
    "    np.mean([len(ts) for ts in ti_datasets[\"train\"].data[\"labels\"] if bool(ts)]),\n",
    ")"
   ]
  },
  {
   "cell_type": "code",
   "execution_count": 4,
   "metadata": {},
   "outputs": [
    {
     "data": {
      "text/plain": [
       "True"
      ]
     },
     "execution_count": 4,
     "metadata": {},
     "output_type": "execute_result"
    }
   ],
   "source": [
    "ti_datasets[\"train\"].data.num_rows == 72752"
   ]
  },
  {
   "cell_type": "code",
   "execution_count": 8,
   "metadata": {},
   "outputs": [
    {
     "data": {
      "text/plain": [
       "PosixPath('/mnt/data0/jiayi/checkpoints/SPOT-with_margin-data_full')"
      ]
     },
     "execution_count": 8,
     "metadata": {},
     "output_type": "execute_result"
    }
   ],
   "source": [
    "datadir / f\"checkpoints/{model_name}\""
   ]
  },
  {
   "cell_type": "code",
   "execution_count": 5,
   "metadata": {},
   "outputs": [
    {
     "name": "stderr",
     "output_type": "stream",
     "text": [
      "Using amp half precision backend\n"
     ]
    }
   ],
   "source": [
    "from transformers import EarlyStoppingCallback, Seq2SeqTrainer, Seq2SeqTrainingArguments\n",
    "from transformers.trainer import Trainer\n",
    "import wandb\n",
    "from datasets import Dataset\n",
    "\n",
    "data_reduction = 1\n",
    "data_tag = \"data_full\" if data_reduction == 1 else f\"data_1-{data_reduction}\"\n",
    "n_train = len(ti_datasets[\"train\"].data) // data_reduction\n",
    "\n",
    "model_name = f\"SPOT-{margin_tag}-{data_tag}\"\n",
    "\n",
    "args = Seq2SeqTrainingArguments(\n",
    "    str(datadir / f\"checkpoints/{model_name}\"),\n",
    "    evaluation_strategy=\"steps\",\n",
    "    eval_steps=100,\n",
    "    logging_steps=100,\n",
    "    prediction_loss_only=True,\n",
    "    save_strategy=\"steps\",\n",
    "    save_steps=500,\n",
    "    save_total_limit=3,\n",
    "    learning_rate=2e-5,\n",
    "    per_device_train_batch_size=40,\n",
    "    per_device_eval_batch_size=256,\n",
    "    weight_decay=0.01,\n",
    "    num_train_epochs=10,\n",
    "    load_best_model_at_end=True,\n",
    "    fp16=True,\n",
    "    push_to_hub=False,\n",
    "    report_to=\"wandb\",\n",
    ")\n",
    "\n",
    "data_collator = DataCollatorForSeq2Seq(tokenizer, model)\n",
    "\n",
    "trainer: Trainer = Seq2SeqTrainer(\n",
    "    model,\n",
    "    args,\n",
    "    train_dataset=Dataset.from_dict(ti_datasets[\"train\"].data[1:n_train]),\n",
    "    eval_dataset=ti_datasets[\"valid\"].data,\n",
    "    data_collator=data_collator,\n",
    "    tokenizer=tokenizer,\n",
    "    callbacks=[EarlyStoppingCallback(3)],\n",
    ")\n"
   ]
  },
  {
   "cell_type": "code",
   "execution_count": 6,
   "metadata": {},
   "outputs": [
    {
     "name": "stderr",
     "output_type": "stream",
     "text": [
      "Failed to detect the name of this notebook, you can set it manually with the WANDB_NOTEBOOK_NAME environment variable to enable code saving.\n",
      "\u001b[34m\u001b[1mwandb\u001b[0m: Currently logged in as: \u001b[33mmrvplusone\u001b[0m. Use \u001b[1m`wandb login --relogin`\u001b[0m to force relogin\n"
     ]
    },
    {
     "data": {
      "text/html": [
       "Tracking run with wandb version 0.12.16"
      ],
      "text/plain": [
       "<IPython.core.display.HTML object>"
      ]
     },
     "metadata": {},
     "output_type": "display_data"
    },
    {
     "data": {
      "text/html": [
       "Run data is saved locally in <code>/home/jiayi/Projects/SPOT/wandb/run-20220514_151716-2ipuh5qp</code>"
      ],
      "text/plain": [
       "<IPython.core.display.HTML object>"
      ]
     },
     "metadata": {},
     "output_type": "display_data"
    },
    {
     "data": {
      "text/html": [
       "Syncing run <strong><a href=\"https://wandb.ai/mrvplusone/SPOT-with_margin-data_full/runs/2ipuh5qp\" target=\"_blank\">twilight-haze-2</a></strong> to <a href=\"https://wandb.ai/mrvplusone/SPOT-with_margin-data_full\" target=\"_blank\">Weights & Biases</a> (<a href=\"https://wandb.me/run\" target=\"_blank\">docs</a>)<br/>"
      ],
      "text/plain": [
       "<IPython.core.display.HTML object>"
      ]
     },
     "metadata": {},
     "output_type": "display_data"
    },
    {
     "name": "stderr",
     "output_type": "stream",
     "text": [
      "***** Running Evaluation *****\n",
      "  Num examples = 4794\n",
      "  Batch size = 256\n"
     ]
    },
    {
     "data": {
      "text/html": [
       "\n",
       "    <div>\n",
       "      \n",
       "      <progress value='38' max='19' style='width:300px; height:20px; vertical-align: middle;'></progress>\n",
       "      [19/19 02:57]\n",
       "    </div>\n",
       "    "
      ],
      "text/plain": [
       "<IPython.core.display.HTML object>"
      ]
     },
     "metadata": {},
     "output_type": "display_data"
    },
    {
     "name": "stderr",
     "output_type": "stream",
     "text": [
      "Automatic Weights & Biases logging enabled, to disable set os.environ[\"WANDB_DISABLED\"] = \"true\"\n",
      "/home/jiayi/Projects/SPOT/.venv/lib/python3.10/site-packages/transformers/optimization.py:306: FutureWarning: This implementation of AdamW is deprecated and will be removed in a future version. Use the PyTorch implementation torch.optim.AdamW instead, or set `no_deprecation_warning=True` to disable this warning\n",
      "  warnings.warn(\n",
      "***** Running training *****\n",
      "  Num examples = 72751\n",
      "  Num Epochs = 10\n",
      "  Instantaneous batch size per device = 40\n",
      "  Total train batch size (w. parallel, distributed & accumulation) = 40\n",
      "  Gradient Accumulation steps = 1\n",
      "  Total optimization steps = 18190\n"
     ]
    },
    {
     "name": "stdout",
     "output_type": "stream",
     "text": [
      "initial performance: {'eval_loss': 1.7378532886505127, 'eval_runtime': 42.1183, 'eval_samples_per_second': 113.822, 'eval_steps_per_second': 0.451}\n"
     ]
    },
    {
     "data": {
      "text/html": [
       "\n",
       "    <div>\n",
       "      \n",
       "      <progress value='2200' max='18190' style='width:300px; height:20px; vertical-align: middle;'></progress>\n",
       "      [ 2200/18190 50:09 < 6:04:56, 0.73 it/s, Epoch 1/10]\n",
       "    </div>\n",
       "    <table border=\"1\" class=\"dataframe\">\n",
       "  <thead>\n",
       " <tr style=\"text-align: left;\">\n",
       "      <th>Step</th>\n",
       "      <th>Training Loss</th>\n",
       "      <th>Validation Loss</th>\n",
       "    </tr>\n",
       "  </thead>\n",
       "  <tbody>\n",
       "    <tr>\n",
       "      <td>100</td>\n",
       "      <td>0.698400</td>\n",
       "      <td>0.527137</td>\n",
       "    </tr>\n",
       "    <tr>\n",
       "      <td>200</td>\n",
       "      <td>0.571200</td>\n",
       "      <td>0.498105</td>\n",
       "    </tr>\n",
       "    <tr>\n",
       "      <td>300</td>\n",
       "      <td>0.526800</td>\n",
       "      <td>0.484504</td>\n",
       "    </tr>\n",
       "    <tr>\n",
       "      <td>400</td>\n",
       "      <td>0.509800</td>\n",
       "      <td>0.466938</td>\n",
       "    </tr>\n",
       "    <tr>\n",
       "      <td>500</td>\n",
       "      <td>0.477800</td>\n",
       "      <td>0.471619</td>\n",
       "    </tr>\n",
       "    <tr>\n",
       "      <td>600</td>\n",
       "      <td>0.455500</td>\n",
       "      <td>0.464741</td>\n",
       "    </tr>\n",
       "    <tr>\n",
       "      <td>700</td>\n",
       "      <td>0.484200</td>\n",
       "      <td>0.464304</td>\n",
       "    </tr>\n",
       "    <tr>\n",
       "      <td>800</td>\n",
       "      <td>0.458700</td>\n",
       "      <td>0.456278</td>\n",
       "    </tr>\n",
       "    <tr>\n",
       "      <td>900</td>\n",
       "      <td>0.443100</td>\n",
       "      <td>0.454124</td>\n",
       "    </tr>\n",
       "    <tr>\n",
       "      <td>1000</td>\n",
       "      <td>0.430700</td>\n",
       "      <td>0.443277</td>\n",
       "    </tr>\n",
       "    <tr>\n",
       "      <td>1100</td>\n",
       "      <td>0.433700</td>\n",
       "      <td>0.447209</td>\n",
       "    </tr>\n",
       "    <tr>\n",
       "      <td>1200</td>\n",
       "      <td>0.407900</td>\n",
       "      <td>0.438319</td>\n",
       "    </tr>\n",
       "    <tr>\n",
       "      <td>1300</td>\n",
       "      <td>0.419800</td>\n",
       "      <td>0.447420</td>\n",
       "    </tr>\n",
       "    <tr>\n",
       "      <td>1400</td>\n",
       "      <td>0.393400</td>\n",
       "      <td>0.441903</td>\n",
       "    </tr>\n",
       "    <tr>\n",
       "      <td>1500</td>\n",
       "      <td>0.395800</td>\n",
       "      <td>0.444671</td>\n",
       "    </tr>\n",
       "    <tr>\n",
       "      <td>1600</td>\n",
       "      <td>0.387900</td>\n",
       "      <td>0.443038</td>\n",
       "    </tr>\n",
       "    <tr>\n",
       "      <td>1700</td>\n",
       "      <td>0.389400</td>\n",
       "      <td>0.431368</td>\n",
       "    </tr>\n",
       "    <tr>\n",
       "      <td>1800</td>\n",
       "      <td>0.383400</td>\n",
       "      <td>0.434732</td>\n",
       "    </tr>\n",
       "    <tr>\n",
       "      <td>1900</td>\n",
       "      <td>0.349300</td>\n",
       "      <td>0.434650</td>\n",
       "    </tr>\n",
       "    <tr>\n",
       "      <td>2000</td>\n",
       "      <td>0.340400</td>\n",
       "      <td>0.436308</td>\n",
       "    </tr>\n",
       "    <tr>\n",
       "      <td>2100</td>\n",
       "      <td>0.336000</td>\n",
       "      <td>0.441280</td>\n",
       "    </tr>\n",
       "    <tr>\n",
       "      <td>2200</td>\n",
       "      <td>0.331000</td>\n",
       "      <td>0.441458</td>\n",
       "    </tr>\n",
       "  </tbody>\n",
       "</table><p>"
      ],
      "text/plain": [
       "<IPython.core.display.HTML object>"
      ]
     },
     "metadata": {},
     "output_type": "display_data"
    },
    {
     "name": "stderr",
     "output_type": "stream",
     "text": [
      "***** Running Evaluation *****\n",
      "  Num examples = 4794\n",
      "  Batch size = 256\n",
      "***** Running Evaluation *****\n",
      "  Num examples = 4794\n",
      "  Batch size = 256\n",
      "***** Running Evaluation *****\n",
      "  Num examples = 4794\n",
      "  Batch size = 256\n",
      "***** Running Evaluation *****\n",
      "  Num examples = 4794\n",
      "  Batch size = 256\n",
      "***** Running Evaluation *****\n",
      "  Num examples = 4794\n",
      "  Batch size = 256\n",
      "Saving model checkpoint to /mnt/data0/jiayi/checkpoints/SPOT-with_margin-data_full/checkpoint-500\n",
      "Configuration saved in /mnt/data0/jiayi/checkpoints/SPOT-with_margin-data_full/checkpoint-500/config.json\n",
      "/home/jiayi/Projects/SPOT/.venv/lib/python3.10/site-packages/torch/nn/modules/module.py:1402: UserWarning: positional arguments and argument \"destination\" are deprecated. nn.Module.state_dict will not accept them in the future. Refer to https://pytorch.org/docs/master/generated/torch.nn.Module.html#torch.nn.Module.state_dict for details.\n",
      "  warnings.warn(\n",
      "Model weights saved in /mnt/data0/jiayi/checkpoints/SPOT-with_margin-data_full/checkpoint-500/pytorch_model.bin\n",
      "tokenizer config file saved in /mnt/data0/jiayi/checkpoints/SPOT-with_margin-data_full/checkpoint-500/tokenizer_config.json\n",
      "Special tokens file saved in /mnt/data0/jiayi/checkpoints/SPOT-with_margin-data_full/checkpoint-500/special_tokens_map.json\n",
      "***** Running Evaluation *****\n",
      "  Num examples = 4794\n",
      "  Batch size = 256\n",
      "***** Running Evaluation *****\n",
      "  Num examples = 4794\n",
      "  Batch size = 256\n",
      "***** Running Evaluation *****\n",
      "  Num examples = 4794\n",
      "  Batch size = 256\n",
      "***** Running Evaluation *****\n",
      "  Num examples = 4794\n",
      "  Batch size = 256\n",
      "***** Running Evaluation *****\n",
      "  Num examples = 4794\n",
      "  Batch size = 256\n",
      "Saving model checkpoint to /mnt/data0/jiayi/checkpoints/SPOT-with_margin-data_full/checkpoint-1000\n",
      "Configuration saved in /mnt/data0/jiayi/checkpoints/SPOT-with_margin-data_full/checkpoint-1000/config.json\n",
      "/home/jiayi/Projects/SPOT/.venv/lib/python3.10/site-packages/torch/nn/modules/module.py:1402: UserWarning: positional arguments and argument \"destination\" are deprecated. nn.Module.state_dict will not accept them in the future. Refer to https://pytorch.org/docs/master/generated/torch.nn.Module.html#torch.nn.Module.state_dict for details.\n",
      "  warnings.warn(\n",
      "Model weights saved in /mnt/data0/jiayi/checkpoints/SPOT-with_margin-data_full/checkpoint-1000/pytorch_model.bin\n",
      "tokenizer config file saved in /mnt/data0/jiayi/checkpoints/SPOT-with_margin-data_full/checkpoint-1000/tokenizer_config.json\n",
      "Special tokens file saved in /mnt/data0/jiayi/checkpoints/SPOT-with_margin-data_full/checkpoint-1000/special_tokens_map.json\n",
      "***** Running Evaluation *****\n",
      "  Num examples = 4794\n",
      "  Batch size = 256\n",
      "***** Running Evaluation *****\n",
      "  Num examples = 4794\n",
      "  Batch size = 256\n",
      "***** Running Evaluation *****\n",
      "  Num examples = 4794\n",
      "  Batch size = 256\n",
      "***** Running Evaluation *****\n",
      "  Num examples = 4794\n",
      "  Batch size = 256\n",
      "***** Running Evaluation *****\n",
      "  Num examples = 4794\n",
      "  Batch size = 256\n",
      "Saving model checkpoint to /mnt/data0/jiayi/checkpoints/SPOT-with_margin-data_full/checkpoint-1500\n",
      "Configuration saved in /mnt/data0/jiayi/checkpoints/SPOT-with_margin-data_full/checkpoint-1500/config.json\n",
      "/home/jiayi/Projects/SPOT/.venv/lib/python3.10/site-packages/torch/nn/modules/module.py:1402: UserWarning: positional arguments and argument \"destination\" are deprecated. nn.Module.state_dict will not accept them in the future. Refer to https://pytorch.org/docs/master/generated/torch.nn.Module.html#torch.nn.Module.state_dict for details.\n",
      "  warnings.warn(\n",
      "Model weights saved in /mnt/data0/jiayi/checkpoints/SPOT-with_margin-data_full/checkpoint-1500/pytorch_model.bin\n",
      "tokenizer config file saved in /mnt/data0/jiayi/checkpoints/SPOT-with_margin-data_full/checkpoint-1500/tokenizer_config.json\n",
      "Special tokens file saved in /mnt/data0/jiayi/checkpoints/SPOT-with_margin-data_full/checkpoint-1500/special_tokens_map.json\n",
      "***** Running Evaluation *****\n",
      "  Num examples = 4794\n",
      "  Batch size = 256\n",
      "***** Running Evaluation *****\n",
      "  Num examples = 4794\n",
      "  Batch size = 256\n",
      "***** Running Evaluation *****\n",
      "  Num examples = 4794\n",
      "  Batch size = 256\n",
      "***** Running Evaluation *****\n",
      "  Num examples = 4794\n",
      "  Batch size = 256\n",
      "***** Running Evaluation *****\n",
      "  Num examples = 4794\n",
      "  Batch size = 256\n",
      "Saving model checkpoint to /mnt/data0/jiayi/checkpoints/SPOT-with_margin-data_full/checkpoint-2000\n",
      "Configuration saved in /mnt/data0/jiayi/checkpoints/SPOT-with_margin-data_full/checkpoint-2000/config.json\n",
      "/home/jiayi/Projects/SPOT/.venv/lib/python3.10/site-packages/torch/nn/modules/module.py:1402: UserWarning: positional arguments and argument \"destination\" are deprecated. nn.Module.state_dict will not accept them in the future. Refer to https://pytorch.org/docs/master/generated/torch.nn.Module.html#torch.nn.Module.state_dict for details.\n",
      "  warnings.warn(\n",
      "Model weights saved in /mnt/data0/jiayi/checkpoints/SPOT-with_margin-data_full/checkpoint-2000/pytorch_model.bin\n",
      "tokenizer config file saved in /mnt/data0/jiayi/checkpoints/SPOT-with_margin-data_full/checkpoint-2000/tokenizer_config.json\n",
      "Special tokens file saved in /mnt/data0/jiayi/checkpoints/SPOT-with_margin-data_full/checkpoint-2000/special_tokens_map.json\n",
      "Deleting older checkpoint [/mnt/data0/jiayi/checkpoints/SPOT-with_margin-data_full/checkpoint-500] due to args.save_total_limit\n",
      "***** Running Evaluation *****\n",
      "  Num examples = 4794\n",
      "  Batch size = 256\n",
      "***** Running Evaluation *****\n",
      "  Num examples = 4794\n",
      "  Batch size = 256\n",
      "\n",
      "\n",
      "Training completed. Do not forget to share your model on huggingface.co/models =)\n",
      "\n",
      "\n",
      "Loading best model from /mnt/data0/jiayi/checkpoints/SPOT-with_margin-data_full/checkpoint-2000 (score: 0.43630823493003845).\n"
     ]
    },
    {
     "ename": "TypeError",
     "evalue": "Run.alert() missing 1 required positional argument: 'text'",
     "output_type": "error",
     "traceback": [
      "\u001b[0;31m---------------------------------------------------------------------------\u001b[0m",
      "\u001b[0;31mTypeError\u001b[0m                                 Traceback (most recent call last)",
      "\u001b[1;32m/home/jiayi/Projects/SPOT/scripts/fine_tune_t5.ipynb Cell 7'\u001b[0m in \u001b[0;36m<cell line: 1>\u001b[0;34m()\u001b[0m\n\u001b[1;32m      <a href='vscode-notebook-cell://ssh-remote%2Butopia3/home/jiayi/Projects/SPOT/scripts/fine_tune_t5.ipynb#ch0000006vscode-remote?line=8'>9</a>\u001b[0m \u001b[39mexcept\u001b[39;00m \u001b[39mException\u001b[39;00m \u001b[39mas\u001b[39;00m e:\n\u001b[1;32m     <a href='vscode-notebook-cell://ssh-remote%2Butopia3/home/jiayi/Projects/SPOT/scripts/fine_tune_t5.ipynb#ch0000006vscode-remote?line=9'>10</a>\u001b[0m     wandb\u001b[39m.\u001b[39malert(\u001b[39mf\u001b[39m\u001b[39m\"\u001b[39m\u001b[39mTraining failed due to: \u001b[39m\u001b[39m{\u001b[39;00me\u001b[39m}\u001b[39;00m\u001b[39m\"\u001b[39m)\n\u001b[0;32m---> <a href='vscode-notebook-cell://ssh-remote%2Butopia3/home/jiayi/Projects/SPOT/scripts/fine_tune_t5.ipynb#ch0000006vscode-remote?line=10'>11</a>\u001b[0m wandb\u001b[39m.\u001b[39;49malert(\u001b[39mf\u001b[39;49m\u001b[39m\"\u001b[39;49m\u001b[39mTraining finished\u001b[39;49m\u001b[39m\"\u001b[39;49m)\n",
      "File \u001b[0;32m~/Projects/SPOT/.venv/lib/python3.10/site-packages/wandb/sdk/wandb_run.py:222\u001b[0m, in \u001b[0;36m_run_decorator._attach.<locals>.wrapper\u001b[0;34m(self, *args, **kwargs)\u001b[0m\n\u001b[1;32m    <a href='file:///home/jiayi/Projects/SPOT/.venv/lib/python3.10/site-packages/wandb/sdk/wandb_run.py?line=219'>220</a>\u001b[0m         \u001b[39mraise\u001b[39;00m e\n\u001b[1;32m    <a href='file:///home/jiayi/Projects/SPOT/.venv/lib/python3.10/site-packages/wandb/sdk/wandb_run.py?line=220'>221</a>\u001b[0m     \u001b[39mcls\u001b[39m\u001b[39m.\u001b[39m_is_attaching \u001b[39m=\u001b[39m \u001b[39m\"\u001b[39m\u001b[39m\"\u001b[39m\n\u001b[0;32m--> <a href='file:///home/jiayi/Projects/SPOT/.venv/lib/python3.10/site-packages/wandb/sdk/wandb_run.py?line=221'>222</a>\u001b[0m \u001b[39mreturn\u001b[39;00m func(\u001b[39mself\u001b[39;49m, \u001b[39m*\u001b[39;49margs, \u001b[39m*\u001b[39;49m\u001b[39m*\u001b[39;49mkwargs)\n",
      "\u001b[0;31mTypeError\u001b[0m: Run.alert() missing 1 required positional argument: 'text'"
     ]
    }
   ],
   "source": [
    "if not load_trained:\n",
    "    model_config = {\"data_reduction\": data_reduction, \"with_margin\": with_margin}\n",
    "    wandb.init(project=model_name, config=model_config)\n",
    "\n",
    "    try:\n",
    "        init_perf = trainer.evaluate(max_length=max_target_length)\n",
    "        print(\"initial performance:\", init_perf)\n",
    "        trainer.train()\n",
    "    except Exception as e:\n",
    "        wandb.alert(\"Training failed.\", f\"Training failed due to: {e}\")\n",
    "    wandb.alert(\"Training finished\", f\"Training of {model_name} finished\")"
   ]
  },
  {
   "cell_type": "code",
   "execution_count": 7,
   "metadata": {},
   "outputs": [
    {
     "name": "stderr",
     "output_type": "stream",
     "text": [
      "***** Running Evaluation *****\n",
      "  Num examples = 4794\n",
      "  Batch size = 256\n"
     ]
    },
    {
     "data": {
      "text/html": [
       "\n",
       "    <div>\n",
       "      \n",
       "      <progress value='19' max='19' style='width:300px; height:20px; vertical-align: middle;'></progress>\n",
       "      [19/19 00:39]\n",
       "    </div>\n",
       "    "
      ],
      "text/plain": [
       "<IPython.core.display.HTML object>"
      ]
     },
     "metadata": {},
     "output_type": "display_data"
    },
    {
     "name": "stdout",
     "output_type": "stream",
     "text": [
      "Final performance: {'eval_loss': 0.43630823493003845, 'eval_runtime': 42.0214, 'eval_samples_per_second': 114.085, 'eval_steps_per_second': 0.452, 'epoch': 1.21}\n"
     ]
    }
   ],
   "source": [
    "print(\"Final performance:\", trainer.evaluate(max_length=max_target_length))"
   ]
  },
  {
   "cell_type": "code",
   "execution_count": null,
   "metadata": {},
   "outputs": [
    {
     "name": "stderr",
     "output_type": "stream",
     "text": [
      "PyTorch: setting up devices\n",
      "The default value for the training argument `--report_to` will change in v5 (from all installed integrations to none). In v5, you will need to use `--report_to all` to get the same behavior as now. You should start updating your code and make this info disappear :-).\n",
      "Using amp half precision backend\n",
      "The following columns in the evaluation set  don't have a corresponding argument in `T5ForConditionalGeneration.forward` and have been ignored: n_types. If n_types are not expected by `T5ForConditionalGeneration.forward`,  you can safely ignore this message.\n",
      "***** Running Evaluation *****\n",
      "  Num examples = 100\n",
      "  Batch size = 16\n"
     ]
    },
    {
     "data": {
      "text/html": [
       "\n",
       "    <div>\n",
       "      \n",
       "      <progress value='7' max='7' style='width:300px; height:20px; vertical-align: middle;'></progress>\n",
       "      [7/7 00:18]\n",
       "    </div>\n",
       "    "
      ],
      "text/plain": [
       "<IPython.core.display.HTML object>"
      ]
     },
     "metadata": {},
     "output_type": "display_data"
    },
    {
     "data": {
      "application/vnd.jupyter.widget-view+json": {
       "model_id": "02d5c0049af64053bc8e662d9cbcb8fd",
       "version_major": 2,
       "version_minor": 0
      },
      "text/plain": [
       "decoding types:   0%|          | 0/100 [00:00<?, ?it/s]"
      ]
     },
     "metadata": {},
     "output_type": "display_data"
    },
    {
     "name": "stderr",
     "output_type": "stream",
     "text": [
      "Automatic Weights & Biases logging enabled, to disable set os.environ[\"WANDB_DISABLED\"] = \"true\"\n"
     ]
    }
   ],
   "source": [
    "# test accuracy on the test set\n",
    "import matplotlib.pyplot as plt\n",
    "import numpy as np\n",
    "from datasets import Dataset\n",
    "from sklearn.metrics import ConfusionMatrixDisplay\n",
    "from transformers import EvalPrediction, Seq2SeqTrainer, Seq2SeqTrainingArguments\n",
    "from transformers.trainer import Trainer\n",
    "\n",
    "from spot import AnnotCat\n",
    "from typet5.data import compute_metrics\n",
    "\n",
    "eval_testrun = True\n",
    "\n",
    "if eval_testrun:\n",
    "    testset = ti_datasets[\"test\"][:100]\n",
    "else:\n",
    "    testset = ti_datasets[\"test\"]\n",
    "\n",
    "\n",
    "test_args = Seq2SeqTrainingArguments(\n",
    "    datadir / f\"checkpoints/test/{model_name}\",\n",
    "    per_device_eval_batch_size=16,\n",
    "    fp16=True,\n",
    "    eval_accumulation_steps=8,\n",
    "    predict_with_generate=True,\n",
    "    generation_max_length=128,\n",
    "    generation_num_beams=8,\n",
    ")\n",
    "\n",
    "test_trainer: Trainer = Seq2SeqTrainer(\n",
    "    model,\n",
    "    args=test_args,\n",
    "    data_collator=DataCollatorForSeq2Seq(tokenizer, model),\n",
    "    tokenizer=tokenizer,\n",
    "    compute_metrics=lambda e: compute_metrics(\n",
    "        e.predictions,\n",
    "        e.label_ids,\n",
    "        [x.cat for x in testset.meta.annots_info],\n",
    "        testset.data[\"n_types\"],\n",
    "        tokenizer,\n",
    "    ),\n",
    ")\n",
    "\n",
    "eval_result = test_trainer.evaluate(testset.data, metric_key_prefix=\"test\")\n"
   ]
  },
  {
   "cell_type": "code",
   "execution_count": 17,
   "metadata": {},
   "outputs": [
    {
     "name": "stdout",
     "output_type": "stream",
     "text": [
      "loss: 0.5115035772323608\n",
      "accuracy_partial:\n",
      "    total: 0.8421052631578947\n",
      "    FuncArg: 0.9\n",
      "    FuncReturn: 0.6\n",
      "    LocalVar: 1.0\n",
      "accuracy_full:\n",
      "    total: 0.7368421052631579\n",
      "    FuncArg: 0.8\n",
      "    FuncReturn: 0.6\n",
      "    LocalVar: 0.75\n"
     ]
    },
    {
     "data": {
      "image/png": "[encoded data removed]",
      "text/plain": [
       "<Figure size 720x720 with 1 Axes>"
      ]
     },
     "metadata": {
      "needs_background": "light"
     },
     "output_type": "display_data"
    },
    {
     "data": {
      "text/plain": [
       "             label  accuracy  count\n",
       "0              str  0.891892     74\n",
       "1             List  0.900000     40\n",
       "2  DatabaseSession  0.526316     38\n",
       "3             Dict  0.878788     33\n",
       "4             None  0.935484     31\n",
       "5              int  0.653846     26\n",
       "6         Optional  0.720000     25\n",
       "7              Any  0.272727     22\n",
       "8             bool  0.857143     14\n",
       "9             Path  0.900000     10"
      ]
     },
     "metadata": {},
     "output_type": "display_data"
    }
   ],
   "source": [
    "from IPython.display import display_pretty\n",
    "\n",
    "from typet5.type_env import normalize_type_name\n",
    "from typet5.utils import accuracy_by_labels, confusion_matrix_top_k, display_conf_matrix\n",
    "\n",
    "for k in [\"loss\"]:\n",
    "    print(f\"{k}:\", eval_result[f\"test_{k}\"])\n",
    "for k in [\"accuracy_partial\", \"accuracy_full\"]:\n",
    "    print(f\"{k}:\")\n",
    "    for k2, v in eval_result[f\"test_{k}\"].items():\n",
    "        print(f\"    {k2}: {v}\")\n",
    "\n",
    "pred_types = list(map(normalize_type_name, eval_result[\"test_pred_types\"]))\n",
    "label_types = list(map(normalize_type_name, eval_result[\"test_label_types\"]))\n",
    "conf_matrix = confusion_matrix_top_k(pred_types, label_types, 10)\n",
    "display_conf_matrix(conf_matrix)\n",
    "accs = accuracy_by_labels(pred_types, label_types, 10)\n",
    "stats = []\n",
    "for t, n in Counter(label_types).most_common(10):\n",
    "    stats.append({\"label\": t, \"accuracy\": accs[t], \"count\": n})\n",
    "display_pretty(pd.DataFrame(stats))\n"
   ]
  },
  {
   "cell_type": "code",
   "execution_count": 18,
   "metadata": {},
   "outputs": [
    {
     "data": {
      "text/html": [
       "Waiting for W&B process to finish... <strong style=\"color:green\">(success).</strong>"
      ],
      "text/plain": [
       "<IPython.core.display.HTML object>"
      ]
     },
     "metadata": {},
     "output_type": "display_data"
    },
    {
     "data": {
      "application/vnd.jupyter.widget-view+json": {
       "model_id": "1f78313971444246bea6b933bfb862cd",
       "version_major": 2,
       "version_minor": 0
      },
      "text/plain": [
       "VBox(children=(Label(value='0.001 MB of 0.001 MB uploaded (0.000 MB deduped)\\r'), FloatProgress(value=1.0, max…"
      ]
     },
     "metadata": {},
     "output_type": "display_data"
    },
    {
     "data": {
      "text/html": [
       "<style>\n",
       "    table.wandb td:nth-child(1) { padding: 0 10px; text-align: left ; width: auto;} td:nth-child(2) {text-align: left ; width: 100%}\n",
       "    .wandb-row { display: flex; flex-direction: row; flex-wrap: wrap; justify-content: flex-start; width: 100% }\n",
       "    .wandb-col { display: flex; flex-direction: column; flex-basis: 100%; flex: 1; padding: 10px; }\n",
       "    </style>\n",
       "<div class=\"wandb-row\"><div class=\"wandb-col\"><h3>Run history:</h3><br/><table class=\"wandb\"><tr><td>eval/loss</td><td>▁</td></tr><tr><td>eval/runtime</td><td>▁</td></tr><tr><td>eval/samples_per_second</td><td>▁</td></tr><tr><td>eval/steps_per_second</td><td>▁</td></tr><tr><td>test/loss</td><td>▁</td></tr><tr><td>test/n_labels</td><td>▁</td></tr><tr><td>test/runtime</td><td>▁</td></tr><tr><td>test/samples_per_second</td><td>▁</td></tr><tr><td>test/steps_per_second</td><td>▁</td></tr><tr><td>train/global_step</td><td>▁▁</td></tr></table><br/></div><div class=\"wandb-col\"><h3>Run summary:</h3><br/><table class=\"wandb\"><tr><td>eval/loss</td><td>0.46059</td></tr><tr><td>eval/runtime</td><td>41.2702</td></tr><tr><td>eval/samples_per_second</td><td>116.161</td></tr><tr><td>eval/steps_per_second</td><td>1.817</td></tr><tr><td>test/loss</td><td>0.5115</td></tr><tr><td>test/n_labels</td><td>19</td></tr><tr><td>test/runtime</td><td>23.4633</td></tr><tr><td>test/samples_per_second</td><td>4.262</td></tr><tr><td>test/steps_per_second</td><td>0.298</td></tr><tr><td>train/global_step</td><td>0</td></tr></table><br/></div></div>"
      ],
      "text/plain": [
       "<IPython.core.display.HTML object>"
      ]
     },
     "metadata": {},
     "output_type": "display_data"
    },
    {
     "data": {
      "text/html": [
       "Synced <strong style=\"color:#cdcd00\">/mnt/data0/jiayi/checkpoints/SPOT-CodeT5-with_margin</strong>: <a href=\"https://wandb.ai/mrvplusone/huggingface/runs/8rxozsni\" target=\"_blank\">https://wandb.ai/mrvplusone/huggingface/runs/8rxozsni</a><br/>Synced 5 W&B file(s), 0 media file(s), 0 artifact file(s) and 0 other file(s)"
      ],
      "text/plain": [
       "<IPython.core.display.HTML object>"
      ]
     },
     "metadata": {},
     "output_type": "display_data"
    },
    {
     "data": {
      "text/html": [
       "Find logs at: <code>./wandb/run-20220509_213939-8rxozsni/logs</code>"
      ],
      "text/plain": [
       "<IPython.core.display.HTML object>"
      ]
     },
     "metadata": {},
     "output_type": "display_data"
    }
   ],
   "source": [
    "wandb.finish()\n"
   ]
  },
  {
   "cell_type": "code",
   "execution_count": 19,
   "metadata": {},
   "outputs": [
    {
     "data": {
      "text/plain": [
       "[('str', 1), ('Union', 1)]"
      ]
     },
     "execution_count": 19,
     "metadata": {},
     "output_type": "execute_result"
    }
   ],
   "source": [
    "preds_for_compile_fn = Counter()\n",
    "for p, l in zip(pred_types, label_types):\n",
    "    l: str\n",
    "    if l.strip().endswith(\"Union\"):\n",
    "        preds_for_compile_fn[p.strip()] += 1\n",
    "\n",
    "preds_for_compile_fn.most_common()\n"
   ]
  }
 ],
 "metadata": {
  "interpreter": {
   "hash": "f6ffc72953da4dd16b2e00785be9c4013ef131f465a8658f3921b6634d4eeec8"
  },
  "kernelspec": {
   "display_name": "Python 3.9.7 ('.venv': pipenv)",
   "language": "python",
   "name": "python3"
  },
  "language_info": {
   "codemirror_mode": {
    "name": "ipython",
    "version": 3
   },
   "file_extension": ".py",
   "mimetype": "text/x-python",
   "name": "python",
   "nbconvert_exporter": "python",
   "pygments_lexer": "ipython3",
   "version": "3.10.4"
  },
  "orig_nbformat": 4
 },
 "nbformat": 4,
 "nbformat_minor": 2
}
