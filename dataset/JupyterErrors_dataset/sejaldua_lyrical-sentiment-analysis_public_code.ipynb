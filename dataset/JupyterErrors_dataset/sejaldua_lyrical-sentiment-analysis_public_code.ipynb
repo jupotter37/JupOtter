{
 "cells": [
  {
   "cell_type": "markdown",
   "metadata": {},
   "source": [
    "### Subproject 1: creating a radar graph to compare playlists based on audio features"
   ]
  },
  {
   "cell_type": "code",
   "execution_count": 1,
   "metadata": {
    "ExecuteTime": {
     "end_time": "2021-01-18T08:57:16.272151Z",
     "start_time": "2021-01-18T08:57:15.854581Z"
    }
   },
   "outputs": [
    {
     "ename": "NameError",
     "evalue": "name 'spotipy' is not defined",
     "output_type": "error",
     "traceback": [
      "\u001b[0;31m---------------------------------------------------------------------------\u001b[0m",
      "\u001b[0;31mNameError\u001b[0m                                 Traceback (most recent call last)",
      "\u001b[0;32m<ipython-input-1-be4664b31060>\u001b[0m in \u001b[0;36m<module>\u001b[0;34m\u001b[0m\n\u001b[1;32m     15\u001b[0m \u001b[0mthescope\u001b[0m\u001b[0;34m=\u001b[0m\u001b[0;34m'playlist-read-private'\u001b[0m\u001b[0;34m\u001b[0m\u001b[0;34m\u001b[0m\u001b[0m\n\u001b[1;32m     16\u001b[0m \u001b[0mclient_credentials_manager\u001b[0m \u001b[0;34m=\u001b[0m \u001b[0mSpotifyClientCredentials\u001b[0m\u001b[0;34m(\u001b[0m\u001b[0mclient_id\u001b[0m\u001b[0;34m=\u001b[0m\u001b[0mclient_id\u001b[0m\u001b[0;34m,\u001b[0m \u001b[0mclient_secret\u001b[0m\u001b[0;34m=\u001b[0m\u001b[0mclient_secret\u001b[0m\u001b[0;34m)\u001b[0m\u001b[0;34m\u001b[0m\u001b[0;34m\u001b[0m\u001b[0m\n\u001b[0;32m---> 17\u001b[0;31m \u001b[0msp\u001b[0m \u001b[0;34m=\u001b[0m \u001b[0mspotipy\u001b[0m\u001b[0;34m.\u001b[0m\u001b[0mSpotify\u001b[0m\u001b[0;34m(\u001b[0m\u001b[0mclient_credentials_manager\u001b[0m\u001b[0;34m=\u001b[0m\u001b[0mclient_credentials_manager\u001b[0m\u001b[0;34m)\u001b[0m\u001b[0;34m\u001b[0m\u001b[0;34m\u001b[0m\u001b[0m\n\u001b[0m\u001b[1;32m     18\u001b[0m \u001b[0mplists\u001b[0m \u001b[0;34m=\u001b[0m \u001b[0;34m{\u001b[0m\u001b[0;34m}\u001b[0m\u001b[0;34m\u001b[0m\u001b[0;34m\u001b[0m\u001b[0m\n\u001b[1;32m     19\u001b[0m \u001b[0;34m\u001b[0m\u001b[0m\n",
      "\u001b[0;31mNameError\u001b[0m: name 'spotipy' is not defined"
     ]
    }
   ],
   "source": [
    "# STEP 1: get playlist features\n",
    "\n",
    "import spotipy as sp\n",
    "import numpy\n",
    "from spotipy.oauth2 import SpotifyClientCredentials\n",
    "\n",
    "# the setup\n",
    "# –––––––––––––––––––––––––––––––––––––––––––––––––––––\n",
    "# this part is for you to fill in with your information\n",
    "username= 'YOUR-SPOTIFY-USERNAME'\n",
    "client_id = 'YOUR-CLIENT-ID-HERE'\n",
    "client_secret = 'YOUR-CLIENT-SECRET-HERE'\n",
    "#––––––––––––––––––––––––––––––––––––––––––––––––––––––\n",
    "redirecturi='http://localhost:5000'\n",
    "thescope='playlist-read-private'\n",
    "client_credentials_manager = SpotifyClientCredentials(client_id=client_id, client_secret=client_secret)\n",
    "sp = spotipy.Spotify(client_credentials_manager=client_credentials_manager)\n",
    "plists = {}\n",
    "\n",
    "def get_features_for_playlist(uri):\n",
    "    playlist_id = uri.split(':')[2]\n",
    "    results = sp.user_playlist(username, playlist_id)\n",
    "    \n",
    "    #print(json.dumps(results, indent=4))               # uncomment this if you want to visualize the JSON structure\n",
    "    \n",
    "    # initialize the dictionary\n",
    "    playlist_name = results['name']\n",
    "    plists[playlist_name] = {}\n",
    "    plists[playlist_name]['name'] = []\n",
    "    plists[playlist_name]['track uri'] = []\n",
    "    plists[playlist_name]['acousticness'] = []\n",
    "    plists[playlist_name]['danceability'] = []\n",
    "    plists[playlist_name]['energy'] = []\n",
    "    plists[playlist_name]['instrumentalness'] = []\n",
    "    plists[playlist_name]['liveness'] = []\n",
    "    plists[playlist_name]['loudness'] = []\n",
    "    plists[playlist_name]['speechiness'] = []\n",
    "    plists[playlist_name]['tempo'] = []\n",
    "    plists[playlist_name]['valence'] = []\n",
    "    plists[playlist_name]['popularity'] = []\n",
    "\n",
    "    for track in results['tracks']['items']:\n",
    "        # print(json.dumps(track, indent=4))              # DEBUG STATEMENT\n",
    "        \n",
    "        # save metadata stuff\n",
    "        name = track['track']['name']\n",
    "        print(name)\n",
    "        track_uri = track['track']['uri']\n",
    "        plists[playlist_name]['name'].append(name)\n",
    "        plists[playlist_name]['track uri'].append(track_uri)\n",
    "\n",
    "        # extract features\n",
    "        features = sp.audio_features(track_uri)\n",
    "        plists[playlist_name]['acousticness'].append(features[0]['acousticness'])\n",
    "        plists[playlist_name]['danceability'].append(features[0]['danceability'])\n",
    "        plists[playlist_name]['energy'].append(features[0]['energy'])\n",
    "        plists[playlist_name]['instrumentalness'].append(features[0]['instrumentalness'])\n",
    "        plists[playlist_name]['liveness'].append(features[0]['liveness'])\n",
    "        plists[playlist_name]['loudness'].append(features[0]['loudness'])\n",
    "        plists[playlist_name]['speechiness'].append(features[0]['speechiness'])\n",
    "        plists[playlist_name]['tempo'].append(features[0]['tempo'])\n",
    "        plists[playlist_name]['valence'].append(features[0]['valence'])\n",
    "    \n",
    "# example call to the function (the 3 cohesive playlists are rap, sad, and instrumental)\n",
    "uris = ['spotify:playlist:2XF4xx2KLOCRqB8GE4S48E', 'spotify:playlist:601xuhoIObcc1GWqe3dgtN', 'spotify:playlist:0J27PjFNHSi4XpbY8TEChh']\n",
    "for uri in uris:\n",
    "        get_features_for_playlist(uri)\n",
    "\n",
    "print(plists)"
   ]
  },
  {
   "cell_type": "code",
   "execution_count": null,
   "metadata": {
    "ExecuteTime": {
     "end_time": "2019-11-11T08:20:04.082958Z",
     "start_time": "2019-11-11T08:20:03.622792Z"
    }
   },
   "outputs": [],
   "source": [
    "# STEP 2: make radar graph\n",
    "\n",
    "import matplotlib.pyplot as plt\n",
    "\n",
    "# manually inspect all of the values to determine whether the median or mean is a better metric to plot\n",
    "for playlist in plists:\n",
    "    print(\"––––––––––––––––––––––––––––––––––––––––––––––––––––––––––––\")\n",
    "    print(playlist)\n",
    "    for feature in plists[playlist]:\n",
    "        if feature != 'name' and feature != 'track uri':\n",
    "            print(feature.upper(), \"| median:\", np.median(plists[playlist][feature]), \"| mean:\", np.mean(plists[playlist][feature]))\n",
    "    \n",
    "\n",
    "labels = ['acousticness', 'danceability', 'energy', 'valence', 'instrumentalness', 'tempo', 'speechiness']\n",
    "num_vars = len(labels)\n",
    "\n",
    "# Split the circle into even parts and save the angles so we know where to put each axis.\n",
    "angles = np.linspace(0, 2 * np.pi, num_vars, endpoint=False).tolist()\n",
    "angles += angles[:1]\n",
    "\n",
    "# ax = plt.subplot(polar=True)\n",
    "fig, ax = plt.subplots(figsize=(6, 6), subplot_kw=dict(polar=True))\n",
    "\n",
    "# Helper function to plot each playlist on the radar chart.\n",
    "def add_to_radar(playlist, color):\n",
    "    values = [np.median(plists[playlist]['acousticness']), np.median(plists[playlist]['danceability']), np.median(plists[playlist]['energy']), \n",
    "              np.median(plists[playlist]['valence']), np.mean(plists[playlist]['instrumentalness']), np.median(plists[playlist]['tempo']), \n",
    "              np.median(plists[playlist]['speechiness'])]\n",
    "    # tempo values typically range from 50-220, so I divided by 220 to get a number between 0 and 1\n",
    "    values[-2] = values[-2]/220\n",
    "    # speechiness values values are highly concentrated between 0 and 0.25-ish, so I multiplied by 4. Adjust this if needed\n",
    "    values[-1] = values[-1]*4\n",
    "    values += values[:1]\n",
    "    ax.plot(angles, values, color=color, linewidth=1, label=playlist)\n",
    "    ax.fill(angles, values, color=color, alpha=0.25)\n",
    "\n",
    "# # Add each additional playlist to the chart.\n",
    "add_to_radar('Hype Stuff', 'red')\n",
    "add_to_radar('sad', 'green')\n",
    "add_to_radar('academia', 'blue')\n",
    "\n",
    "# polar coordinates math stuff\n",
    "ax.set_theta_offset(np.pi / 2)\n",
    "ax.set_theta_direction(-1)\n",
    "\n",
    "# Draw axis lines for each angle and label.\n",
    "ax.set_thetagrids(np.degrees(angles), labels)\n",
    "\n",
    "# Go through labels and adjust alignment based on where it is in the circle.\n",
    "for label, angle in zip(ax.get_xticklabels(), angles):\n",
    "  if angle in (0, np.pi):\n",
    "    label.set_horizontalalignment('center')\n",
    "  elif 0 < angle < np.pi:\n",
    "    label.set_horizontalalignment('left')\n",
    "  else:\n",
    "    label.set_horizontalalignment('right')\n",
    "    \n",
    "# Set position of y-labels (0-100) to be in the middle of the first two axes.\n",
    "ax.set_ylim(0, 1)\n",
    "ax.set_rlabel_position(180 / num_vars)\n",
    "\n",
    "# Add some custom styling.\n",
    "ax.tick_params(colors='#222222')         # color of tick labels\n",
    "ax.tick_params(axis='y', labelsize=8)    # y-axis labels\n",
    "ax.grid(color='#AAAAAA')                 # color of circular gridlines\n",
    "ax.spines['polar'].set_color('#222222')  # color of outermost gridline (spine)\n",
    "ax.set_facecolor('#FAFAFA')              # background color inside the circle itself\n",
    "\n",
    "#Lastly, give the chart a title and a legend\n",
    "ax.set_title('Playlist Comparison', y=1.08)\n",
    "ax.legend(loc='upper right', bbox_to_anchor=(1.1, 1.1))\n",
    "\n",
    "fig.savefig('playlist_comp.png')"
   ]
  },
  {
   "cell_type": "markdown",
   "metadata": {},
   "source": [
    "### Subproject 2: using Tableau to study the lyrical content of different albums by the same artist"
   ]
  },
  {
   "cell_type": "code",
   "execution_count": null,
   "metadata": {
    "ExecuteTime": {
     "end_time": "2019-10-29T23:13:30.164586Z",
     "start_time": "2019-10-29T23:13:30.096260Z"
    }
   },
   "outputs": [],
   "source": [
    "# IMPORTS\n",
    "import spotipy\n",
    "import numpy\n",
    "from PyLyrics import *\n",
    "import re\n",
    "import nltk\n",
    "import os\n",
    "import wordcloud\n",
    "import matplotlib.pylab as plt\n",
    "from collections import Counter"
   ]
  },
  {
   "cell_type": "code",
   "execution_count": null,
   "metadata": {
    "ExecuteTime": {
     "end_time": "2019-10-29T23:13:31.969947Z",
     "start_time": "2019-10-29T23:13:31.555723Z"
    }
   },
   "outputs": [],
   "source": [
    "# the setup\n",
    "# –––––––––––––––––––––––––––––––––––––––––––––––––––––\n",
    "# this part is for you to fill in with your information\n",
    "username='YOUR-SPOTIFY-USERNAME'\n",
    "client_id = 'YOUR-CLIENT-ID-HERE'\n",
    "client_secret = 'YOUR-CLIENT-SECRET-HERE'\n",
    "#––––––––––––––––––––––––––––––––––––––––––––––––––––––\n",
    "redirecturi='http://localhost:5000'\n",
    "thescope='playlist-read-private'\n",
    "client_credentials_manager = SpotifyClientCredentials(client_id=client_id, client_secret=client_secret)\n",
    "name = \"Mumford And Sons\" #chosen artist\n",
    "result = sp.search(name) #search query\n",
    "result['tracks']['items'][0]['artists']"
   ]
  },
  {
   "cell_type": "code",
   "execution_count": null,
   "metadata": {
    "ExecuteTime": {
     "end_time": "2019-10-29T23:13:45.823404Z",
     "start_time": "2019-10-29T23:13:45.813731Z"
    }
   },
   "outputs": [],
   "source": [
    "# STEP 1: Extract Artist's uri\n",
    "\n",
    "artist_uri = result['tracks']['items'][0]['artists'][0]['uri']\n",
    "# Pull all of the artist's albums\n",
    "sp_albums = sp.artist_albums(artist_uri, album_type='album')\n",
    "# Store artist's albums' names' and uris in separate lists\n",
    "album_names = []\n",
    "album_uris = []\n",
    "for i in range(len(sp_albums['items'])):\n",
    "    if sp_albums['items'][i]['name'] not in album_names:\n",
    "        album_names.append(sp_albums['items'][i]['name'])\n",
    "        album_uris.append(sp_albums['items'][i]['uri'])   \n",
    "album_names\n",
    "album_uris"
   ]
  },
  {
   "cell_type": "code",
   "execution_count": null,
   "metadata": {},
   "outputs": [],
   "source": [
    "# STEP 2: get all albums\n",
    "\n",
    "def albumSongs(uri):\n",
    "    album = uri #assign album uri to a_name\n",
    "    spotify_albums[album] = {} #Creates dictionary for that specific album\n",
    "    #Create keys-values of empty lists inside nested dictionary for album\n",
    "    spotify_albums[album]['album'] = [] #create empty list\n",
    "    spotify_albums[album]['track_number'] = []\n",
    "    spotify_albums[album]['id'] = []\n",
    "    spotify_albums[album]['name'] = []\n",
    "    spotify_albums[album]['uri'] = []\n",
    "    tracks = sp.album_tracks(album) #pull data on album tracks\n",
    "    for n in range(len(tracks['items'])): #for each song track\n",
    "        spotify_albums[album]['album'].append(album_names[album_count]) #append album name tracked via album_count\n",
    "        spotify_albums[album]['track_number'].append(tracks['items'][n]['track_number'])\n",
    "        spotify_albums[album]['id'].append(tracks['items'][n]['id'])\n",
    "        spotify_albums[album]['name'].append(tracks['items'][n]['name'])\n",
    "        spotify_albums[album]['uri'].append(tracks['items'][n]['uri'])\n",
    "        \n",
    "spotify_albums = {}\n",
    "album_count = 0\n",
    "for i in album_uris: #each album\n",
    "    albumSongs(i)\n",
    "    print(\"Album \" + str(album_names[album_count]) + \" songs has been added to spotify_albums dictionary\")\n",
    "    album_count+=1 #Updates album count once all tracks have been added\n",
    "    "
   ]
  },
  {
   "cell_type": "code",
   "execution_count": null,
   "metadata": {},
   "outputs": [],
   "source": [
    "# STEP 3: go through each album and get the song lyrics\n",
    "\n",
    "songs = []\n",
    "tags = [] # how we will keep track of which album each song comes from\n",
    "albums = []\n",
    "i = 0\n",
    "for album in spotify_albums:\n",
    "    name = spotify_albums[album]['name']\n",
    "    flag = False\n",
    "    print(name, end='\\n\\n')\n",
    "    for n in name:\n",
    "        if n not in songs:\n",
    "            flag = True\n",
    "            songs.append(n)\n",
    "            tags.append(i)\n",
    "        else:\n",
    "            print('duplicate')\n",
    "    if flag == True:\n",
    "        albums.append(spotify_albums[album]['album'][0])\n",
    "        i+=1\n",
    "        \n",
    "# extract the song lyrics and compile them for each album\n",
    "print(songs)\n",
    "print(albums)\n",
    "artist = name\n",
    "song_words = []\n",
    "new_tags = []\n",
    "new_albums = []\n",
    "i = 0\n",
    "print(list(zip(songs, tags)))\n",
    "for s, t in list(zip(songs, tags)):\n",
    "    try:\n",
    "        lyrics = PyLyrics.getLyrics(artist,s)\n",
    "        words = lyrics.split()\n",
    "        song_words.append(words)\n",
    "        print(s, 'finished')\n",
    "        new_tags.append(t)\n",
    "        new_albums.append(albums[i])\n",
    "        i += 1\n",
    "        print(t)\n",
    "    except:\n",
    "        # sometimes this may not work (e.g. songs recorded live do not have lyrics stored)\n",
    "        print(s, 'exception')\n",
    "        continue\n",
    "tags = new_tags\n",
    "albums = new_albums\n",
    "print(tags)\n",
    "albums = [a[0:a.find(\"(\")] if a.find(\"(\") != -1 else a for a in albums]\n",
    "print(albums)"
   ]
  },
  {
   "cell_type": "code",
   "execution_count": null,
   "metadata": {},
   "outputs": [],
   "source": [
    "# STEP 4: clean the lyrics and make a corpus for each album\n",
    "\n",
    "# Get a list of stopwords from nltk\n",
    "stopwords = nltk.corpus.stopwords.words(\"english\")\n",
    "\n",
    "def get_clean_words(words):\n",
    "    def _isnum(w):\n",
    "        try:\n",
    "            int(w)\n",
    "            return True\n",
    "        except ValueError:\n",
    "            return False\n",
    "        \n",
    "    # Set words to lowercase and remove them if they are stop words\n",
    "    words = [w.lower() for w in words if w.lower() not in stopwords]\n",
    "    \n",
    "    # Remove punctuation\n",
    "    words = [w.replace('(', '') for w in words]\n",
    "    words = [w.replace(')', '') for w in words]\n",
    "    words = [w.replace('?', '') for w in words]\n",
    "    words = [w.replace(',', '') for w in words]\n",
    "    words = [w.replace('.', '') for w in words]\n",
    "    words = [w.replace('\"', '') for w in words]\n",
    "    words = [w.replace('!', '') for w in words]\n",
    "\n",
    "    # Remove numbers\n",
    "    words = [w for w in words if not _isnum(w)]\n",
    "    \n",
    "    # Only keep words with more than one character\n",
    "    words = [w for w in words if len(w) > 1]\n",
    "    \n",
    "    return words\n",
    "    \n",
    "    \n",
    "def word_count(text):\n",
    "    return Counter(text.split())\n",
    "\n",
    "corpus = {}\n",
    "word_counts = []\n",
    "for i in range(len(tags)):\n",
    "    if tags[i] == 5 or tags[i] == 8:\n",
    "        tags[i] = 4\n",
    "for t in tags:\n",
    "    corpus[t] = []\n",
    "for s, t in list(zip(song_words, tags)):\n",
    "    clean_words = get_clean_words(s)\n",
    "    corpus[t].append(' '.join(clean_words))\n",
    "for t in corpus:\n",
    "    corpus[t] = ' '.join(corpus[t])"
   ]
  },
  {
   "cell_type": "code",
   "execution_count": null,
   "metadata": {},
   "outputs": [],
   "source": [
    "# STEP 5: write all relevant data to a CSV file --> Tableau\n",
    "\n",
    "with open('mumford.csv', 'w') as f:\n",
    "    for key in corpus.keys():\n",
    "        my_dict = word_count(corpus[key])\n",
    "        print(key, my_dict[\"love\"])\n",
    "        for k in my_dict.keys():\n",
    "            f.write(\"%s,%s,%s\\n\"%(albums[key],k,my_dict[k]))"
   ]
  },
  {
   "cell_type": "code",
   "execution_count": null,
   "metadata": {},
   "outputs": [],
   "source": [
    "# STEP 5.5 (optional): print stuff to see what we are working with / debug\n",
    "\n",
    "print(tags)\n",
    "print(albums)\n",
    "print([albums[t] for t in tags])\n",
    "print(corpus)\n"
   ]
  },
  {
   "cell_type": "code",
   "execution_count": null,
   "metadata": {},
   "outputs": [],
   "source": [
    "# STEP 6 (optional): make wordclouds using Python library because why not?\n",
    "\n",
    "i = 0\n",
    "for t in corpus:\n",
    "    print(t)\n",
    "    fig = plt.figure(figsize=(12, 18))\n",
    "    plt.title(albums[t])\n",
    "    wc = wordcloud.WordCloud(max_font_size=40, collocations=False).generate(corpus[t])\n",
    "    plt.imshow(wc, interpolation=\"bilinear\")\n",
    "    plt.axis(\"off\")\n",
    "    fig.savefig(albums[t] + '.png')\n",
    "    i += 1"
   ]
  },
  {
   "cell_type": "markdown",
   "metadata": {},
   "source": [
    "### Subproject 3: using Tableau to compare genres based on sentiment scores"
   ]
  },
  {
   "cell_type": "code",
   "execution_count": null,
   "metadata": {
    "ExecuteTime": {
     "end_time": "2019-10-29T23:13:59.309856Z",
     "start_time": "2019-10-29T23:13:48.340607Z"
    }
   },
   "outputs": [],
   "source": [
    "# IMPORTS\n",
    "import spotipy\n",
    "import numpy\n",
    "import re\n",
    "import nltk\n",
    "import os\n",
    "import wordcloud\n",
    "import matplotlib.pylab as plt\n",
    "from collections import Counter\n",
    "from afinn import Afinn"
   ]
  },
  {
   "cell_type": "code",
   "execution_count": null,
   "metadata": {
    "ExecuteTime": {
     "end_time": "2019-10-29T23:13:59.814398Z",
     "start_time": "2019-10-29T23:13:59.804920Z"
    }
   },
   "outputs": [],
   "source": [
    "# the setup\n",
    "# –––––––––––––––––––––––––––––––––––––––––––––––––––––\n",
    "# this part is for you to fill in with your information\n",
    "username='YOUR-SPOTIFY-USERNAME'\n",
    "client_id = 'YOUR-CLIENT-ID-HERE'\n",
    "client_secret = 'YOUR-CLIENT-SECRET-HERE'\n",
    "#––––––––––––––––––––––––––––––––––––––––––––––––––––––\n",
    "redirecturi='http://localhost:5000'\n",
    "thescope='playlist-read-private'\n",
    "client_credentials_manager = SpotifyClientCredentials(client_id=client_id, client_secret=client_secret)"
   ]
  },
  {
   "cell_type": "code",
   "execution_count": null,
   "metadata": {
    "ExecuteTime": {
     "end_time": "2019-10-29T23:14:00.376144Z",
     "start_time": "2019-10-29T23:14:00.338863Z"
    }
   },
   "outputs": [],
   "source": [
    "# STEPS 1 and 2: get lyrics for each playlist and clean the words\n",
    "\n",
    "# Get a list of stopwords from nltk\n",
    "stopwords = nltk.corpus.stopwords.words(\"english\")\n",
    "\n",
    "def get_clean_words(words):\n",
    "    def _isnum(w):\n",
    "        try:\n",
    "            int(w)\n",
    "            return True\n",
    "        except ValueError:\n",
    "            return False\n",
    "        \n",
    "    # Set words to lowercase and remove them if they are stop words\n",
    "    words = [w.lower() for w in words if w.lower() not in stopwords]\n",
    "    \n",
    "    # Remove punctuation\n",
    "    words = [w.replace('(', '') for w in words]\n",
    "    words = [w.replace(')', '') for w in words]\n",
    "    words = [w.replace('?', '') for w in words]\n",
    "    words = [w.replace(',', '') for w in words]\n",
    "\n",
    "    # Remove numbers\n",
    "    words = [w for w in words if not _isnum(w)]\n",
    "    \n",
    "    # Only keep words with more than one character\n",
    "    words = [w for w in words if len(w) > 1]\n",
    "    \n",
    "    return words\n",
    "    \n",
    "    \n",
    "def word_count(text):\n",
    "    return Counter(text.split())\n",
    "\n",
    "def get_lyrics_for_playlist(uri):\n",
    "    playlist_id = uri.split(':')[2]\n",
    "    results = sp.user_playlist(username, playlist_id)\n",
    "    lyrics = \"\"\n",
    "    count = 0\n",
    "    for track in results['tracks']['items']:\n",
    "        #print(json.dumps(track, indent=4))\n",
    "        song_name = track['track']['name']\n",
    "        artist = track['track']['album']['artists'][0]['name']\n",
    "        print(song_name, \"|\", artist)\n",
    "        try:\n",
    "            lyrics += PyLyrics.getLyrics(artist,song_name)\n",
    "            print(\"finished\")\n",
    "            count += 1\n",
    "        except:\n",
    "            print(\"exception\")\n",
    "            continue\n",
    "    \n",
    "    words = get_clean_words(lyrics.split()) \n",
    "    print(count, \"successfully scraped and cleaned\")\n",
    "    return words\n",
    "\n",
    "#Punk Rock Classics\n",
    "uri = 'spotify:playlist:3zl5C2k16lCsno1i2XcSCM'\n",
    "words = get_lyrics_for_playlist(uri)\n",
    "\n",
    "#Pop Classics\n",
    "uri2 = 'spotify:playlist:55OXRZi5CH4pRD6YA8vrY2'\n",
    "words2 = get_lyrics_for_playlist(uri2)"
   ]
  },
  {
   "cell_type": "code",
   "execution_count": null,
   "metadata": {},
   "outputs": [],
   "source": [
    "# STEPS 3 and 4: extract sentiment scores and write data to CSV file --> Tableau\n",
    "\n",
    "afinn = Afinn()\n",
    "\n",
    "words_list = [words, words2]\n",
    "playlists = ['Punk Rock', 'Mood Booster']\n",
    "print(words_list)\n",
    "def word_count(text):\n",
    "    return Counter(text.split())\n",
    "\n",
    "with open('genre_comparison.csv', 'w') as f:\n",
    "    i = 0\n",
    "    for w in words_list:\n",
    "        my_dict = word_count(' '.join(w))\n",
    "        for key in my_dict.keys():\n",
    "            f.write(\"%s,%s,%s,%s\\n\"%(playlists[i],key,my_dict[key],str(afinn.score(key))))\n",
    "        i += 1"
   ]
  }
 ],
 "metadata": {
  "gist": {
   "data": {
    "description": "comparing_playlists.ipynb",
    "public": true
   },
   "id": ""
  },
  "kernelspec": {
   "display_name": "Python 3",
   "language": "python",
   "name": "python3"
  },
  "language_info": {
   "codemirror_mode": {
    "name": "ipython",
    "version": 3
   },
   "file_extension": ".py",
   "mimetype": "text/x-python",
   "name": "python",
   "nbconvert_exporter": "python",
   "pygments_lexer": "ipython3",
   "version": "3.7.4"
  },
  "toc": {
   "base_numbering": 1,
   "nav_menu": {},
   "number_sections": true,
   "sideBar": true,
   "skip_h1_title": false,
   "title_cell": "Table of Contents",
   "title_sidebar": "Contents",
   "toc_cell": false,
   "toc_position": {},
   "toc_section_display": true,
   "toc_window_display": false
  },
  "varInspector": {
   "cols": {
    "lenName": 16,
    "lenType": 16,
    "lenVar": 40
   },
   "kernels_config": {
    "python": {
     "delete_cmd_postfix": "",
     "delete_cmd_prefix": "del ",
     "library": "var_list.py",
     "varRefreshCmd": "print(var_dic_list())"
    },
    "r": {
     "delete_cmd_postfix": ") ",
     "delete_cmd_prefix": "rm(",
     "library": "var_list.r",
     "varRefreshCmd": "cat(var_dic_list()) "
    }
   },
   "types_to_exclude": [
    "module",
    "function",
    "builtin_function_or_method",
    "instance",
    "_Feature"
   ],
   "window_display": false
  }
 },
 "nbformat": 4,
 "nbformat_minor": 2
}
