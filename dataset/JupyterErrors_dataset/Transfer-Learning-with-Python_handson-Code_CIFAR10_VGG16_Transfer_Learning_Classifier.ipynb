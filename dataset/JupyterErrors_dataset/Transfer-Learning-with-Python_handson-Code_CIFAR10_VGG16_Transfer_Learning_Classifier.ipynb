{
 "cells": [
  {
   "cell_type": "markdown",
   "metadata": {},
   "source": [
    "# CIFAR10 전이학습 기반 분류기\n",
    "\n",
    "\n",
    "이 노트북은 사전 훈련된 심층-CNN 중에서 VGG16으로 전이학습의 개념을 확용한 분류기를 구축하는 단계를 개략적으로 설명한다.\n"
   ]
  },
  {
   "cell_type": "code",
   "execution_count": 1,
   "metadata": {},
   "outputs": [],
   "source": [
    "%matplotlib inline"
   ]
  },
  {
   "cell_type": "code",
   "execution_count": 2,
   "metadata": {
    "colab": {
     "autoexec": {
      "startup": false,
      "wait_interval": 0
     }
    },
    "colab_type": "code",
    "id": "qpwpUhVod2ob"
   },
   "outputs": [],
   "source": [
    "# Pandas and Numpy for data structures and util fucntions\n",
    "import scipy as sp\n",
    "import numpy as np\n",
    "import pandas as pd\n",
    "from numpy.random import rand\n",
    "pd.options.display.max_colwidth = 600\n",
    "\n",
    "# Scikit 임포트\n",
    "from sklearn import preprocessing\n",
    "from sklearn.metrics import roc_curve, auc, precision_recall_curve\n",
    "from sklearn.model_selection import train_test_split\n",
    "\n",
    "import cnn_utils as utils\n",
    "\n",
    "# Matplot 임포트\n",
    "import matplotlib.pyplot as plt\n",
    "params = {'legend.fontsize': 'x-large',\n",
    "          'figure.figsize': (15, 5),\n",
    "          'axes.labelsize': 'x-large',\n",
    "          'axes.titlesize':'x-large',\n",
    "          'xtick.labelsize':'x-large',\n",
    "          'ytick.labelsize':'x-large'}\n",
    "\n",
    "plt.rcParams.update(params)\n",
    "\n",
    "# 판다스는 데이터 프레임을 테이블로 보여준다.\n",
    "\n",
    "from IPython.display import display, HTML\n",
    "import warnings\n",
    "warnings.filterwarnings('ignore')"
   ]
  },
  {
   "cell_type": "code",
   "execution_count": 7,
   "metadata": {
    "colab": {
     "autoexec": {
      "startup": false,
      "wait_interval": 0
     },
     "base_uri": "https://localhost:8080/",
     "height": 34
    },
    "colab_type": "code",
    "executionInfo": {
     "elapsed": 1669,
     "status": "ok",
     "timestamp": 1531341784750,
     "user": {
      "displayName": "Raghav Bali",
      "photoUrl": "//lh4.googleusercontent.com/-HPass-4Bl9U/AAAAAAAAAAI/AAAAAAAAKiI/A0BQ8MHwVME/s50-c-k-no/photo.jpg",
      "userId": "117317575176939780509"
     },
     "user_tz": -330
    },
    "id": "VB1artr2KuLD",
    "outputId": "295301d0-a703-4793-fbc9-74c200f15189"
   },
   "outputs": [],
   "source": [
    "import tensorflow as tf\n",
    "from tensorflow.keras import callbacks\n",
    "from tensorflow.keras import optimizers\n",
    "from tensorflow.keras.datasets import cifar10\n",
    "from tensorflow.keras import Model\n",
    "from tensorflow.keras.applications import vgg16 as vgg\n",
    "from tensorflow.keras.layers import Dropout, Flatten, Dense, GlobalAveragePooling2D,BatchNormalization\n",
    "from tensorflow.keras.preprocessing.image import ImageDataGenerator\n",
    "from tensorflow.python.keras.utils import np_utils"
   ]
  },
  {
   "cell_type": "markdown",
   "metadata": {},
   "source": [
    "## 데이터 세트 로딩과 준비"
   ]
  },
  {
   "cell_type": "code",
   "execution_count": 8,
   "metadata": {
    "colab": {
     "autoexec": {
      "startup": false,
      "wait_interval": 0
     }
    },
    "colab_type": "code",
    "id": "fS8uGXn5dgRU"
   },
   "outputs": [],
   "source": [
    "BATCH_SIZE = 32\n",
    "EPOCHS = 40\n",
    "NUM_CLASSES = 10\n",
    "LEARNING_RATE = 1e-4\n",
    "MOMENTUM = 0.9"
   ]
  },
  {
   "cell_type": "code",
   "execution_count": 9,
   "metadata": {
    "colab": {
     "autoexec": {
      "startup": false,
      "wait_interval": 0
     }
    },
    "colab_type": "code",
    "id": "PoT9P1phLuyT"
   },
   "outputs": [],
   "source": [
    "(X_train, y_train), (X_test, y_test) = cifar10.load_data()"
   ]
  },
  {
   "cell_type": "markdown",
   "metadata": {},
   "source": [
    "Split training dataset in train and validation sets"
   ]
  },
  {
   "cell_type": "code",
   "execution_count": 10,
   "metadata": {
    "colab": {
     "autoexec": {
      "startup": false,
      "wait_interval": 0
     }
    },
    "colab_type": "code",
    "id": "khNrl8nHqesu"
   },
   "outputs": [],
   "source": [
    "X_train, X_val, y_train, y_val = train_test_split(X_train, \n",
    "                                                  y_train, \n",
    "                                                  test_size=0.15, \n",
    "                                                  stratify=np.array(y_train), \n",
    "                                                  random_state=42)"
   ]
  },
  {
   "cell_type": "markdown",
   "metadata": {},
   "source": [
    "Transform target variable/labels into one hot encoded form"
   ]
  },
  {
   "cell_type": "code",
   "execution_count": 11,
   "metadata": {
    "colab": {
     "autoexec": {
      "startup": false,
      "wait_interval": 0
     }
    },
    "colab_type": "code",
    "id": "IJdZ6DLUqu-P"
   },
   "outputs": [],
   "source": [
    "Y_train = np_utils.to_categorical(y_train, NUM_CLASSES)\n",
    "Y_val = np_utils.to_categorical(y_val, NUM_CLASSES)\n",
    "Y_test = np_utils.to_categorical(y_test, NUM_CLASSES)"
   ]
  },
  {
   "cell_type": "markdown",
   "metadata": {},
   "source": [
    "### 전처리\n",
    "\n",
    "VGG16을 특성 추출기로 사용할 것이기 때문에, 이미지의 최소 크기는 48x48이어야 한다. ```scipy```로 이미지 크기를 필요한 차원으로 재조정 한다."
   ]
  },
  {
   "cell_type": "code",
   "execution_count": 12,
   "metadata": {
    "colab": {
     "autoexec": {
      "startup": false,
      "wait_interval": 0
     }
    },
    "colab_type": "code",
    "id": "6udZF8zHbTaR"
   },
   "outputs": [],
   "source": [
    "X_train = np.array([sp.misc.imresize(x, \n",
    "                                     (48, 48)) for x in X_train])\n",
    "X_val = np.array([sp.misc.imresize(x, \n",
    "                                   (48, 48)) for x in X_val])\n",
    "X_test = np.array([sp.misc.imresize(x, \n",
    "                                    (48, 48)) for x in X_test])"
   ]
  },
  {
   "cell_type": "markdown",
   "metadata": {},
   "source": [
    "## 모델 준비\n",
    "\n",
    "* 최상위층 없이 VGG16 로딩\n",
    "* 커스텀 분류기 준비\n",
    "* 모델의 맨 위에 새로운 층 쌓기"
   ]
  },
  {
   "cell_type": "code",
   "execution_count": 13,
   "metadata": {
    "colab": {
     "autoexec": {
      "startup": false,
      "wait_interval": 0
     }
    },
    "colab_type": "code",
    "id": "j2py7602Kxlq"
   },
   "outputs": [
    {
     "name": "stdout",
     "output_type": "stream",
     "text": [
      "WARNING:tensorflow:From /home/dyanos/anaconda3/lib/python3.7/site-packages/tensorflow/python/ops/resource_variable_ops.py:435: colocate_with (from tensorflow.python.framework.ops) is deprecated and will be removed in a future version.\n",
      "Instructions for updating:\n",
      "Colocations handled automatically by placer.\n"
     ]
    }
   ],
   "source": [
    "base_model = vgg.VGG16(weights='imagenet', \n",
    "                       include_top=False, \n",
    "                       input_shape=(48, 48, 3))"
   ]
  },
  {
   "cell_type": "markdown",
   "metadata": {},
   "source": [
    "목표는 분류층만 훈련시키는 것이기 때문에 훈련할 수 있는 파라미터 세팅을 False로 해서 나머지 층을 동결했다. 이렇게 하면 덜 강력한 기반 구조에서도 기존 아키텍처를 활용할 수 있고 학습된 가중치를 한 도메인에서 다른 도메인으로 전이할 수 있다."
   ]
  },
  {
   "cell_type": "code",
   "execution_count": 14,
   "metadata": {
    "colab": {
     "autoexec": {
      "startup": false,
      "wait_interval": 0
     }
    },
    "colab_type": "code",
    "id": "iI9P8ni-L8H8"
   },
   "outputs": [],
   "source": [
    "# VGG16 모델의 세 번째 블록에서 마지막 층 추출\n",
    "last = base_model.get_layer('block3_pool').output"
   ]
  },
  {
   "cell_type": "code",
   "execution_count": 15,
   "metadata": {
    "colab": {
     "autoexec": {
      "startup": false,
      "wait_interval": 0
     }
    },
    "colab_type": "code",
    "id": "MI90lh6hL9ua"
   },
   "outputs": [
    {
     "name": "stdout",
     "output_type": "stream",
     "text": [
      "WARNING:tensorflow:From /home/dyanos/anaconda3/lib/python3.7/site-packages/tensorflow/python/keras/layers/core.py:143: calling dropout (from tensorflow.python.ops.nn_ops) with keep_prob is deprecated and will be removed in a future version.\n",
      "Instructions for updating:\n",
      "Please use `rate` instead of `keep_prob`. Rate should be set to `rate = 1 - keep_prob`.\n"
     ]
    }
   ],
   "source": [
    "# 상위 층에 분류층 추가\n",
    "x = GlobalAveragePooling2D()(last)\n",
    "x= BatchNormalization()(x)\n",
    "x = Dense(256, activation='relu')(x)\n",
    "x = Dense(256, activation='relu')(x)\n",
    "x = Dropout(0.6)(x)\n",
    "pred = Dense(NUM_CLASSES, activation='softmax')(x)\n",
    "model = Model(base_model.input, pred)"
   ]
  },
  {
   "cell_type": "markdown",
   "metadata": {},
   "source": [
    "우리의 목표는 커스컴 분류기를 훈련시키는 것이기 때문에 VGG16 층은 동결한다."
   ]
  },
  {
   "cell_type": "code",
   "execution_count": 16,
   "metadata": {
    "colab": {
     "autoexec": {
      "startup": false,
      "wait_interval": 0
     }
    },
    "colab_type": "code",
    "id": "fc3EhfLTMD4I"
   },
   "outputs": [],
   "source": [
    "for layer in base_model.layers:\n",
    "     layer.trainable = False"
   ]
  },
  {
   "cell_type": "code",
   "execution_count": 17,
   "metadata": {
    "colab": {
     "autoexec": {
      "startup": false,
      "wait_interval": 0
     }
    },
    "colab_type": "code",
    "id": "PRXPI3DCMIIK"
   },
   "outputs": [],
   "source": [
    "model.compile(loss='binary_crossentropy',\n",
    "              optimizer=optimizers.Adam(lr=LEARNING_RATE),\n",
    "              metrics=['accuracy'])"
   ]
  },
  {
   "cell_type": "code",
   "execution_count": 18,
   "metadata": {
    "colab": {
     "autoexec": {
      "startup": false,
      "wait_interval": 0
     },
     "base_uri": "https://localhost:8080/",
     "height": 714
    },
    "colab_type": "code",
    "executionInfo": {
     "elapsed": 814,
     "status": "ok",
     "timestamp": 1531341814064,
     "user": {
      "displayName": "Raghav Bali",
      "photoUrl": "//lh4.googleusercontent.com/-HPass-4Bl9U/AAAAAAAAAAI/AAAAAAAAKiI/A0BQ8MHwVME/s50-c-k-no/photo.jpg",
      "userId": "117317575176939780509"
     },
     "user_tz": -330
    },
    "id": "PATZIBLlMLrf",
    "outputId": "f9a4ac68-9261-46d8-a7c9-9e15cfcf5631"
   },
   "outputs": [
    {
     "name": "stdout",
     "output_type": "stream",
     "text": [
      "_________________________________________________________________\n",
      "Layer (type)                 Output Shape              Param #   \n",
      "=================================================================\n",
      "input_1 (InputLayer)         (None, 48, 48, 3)         0         \n",
      "_________________________________________________________________\n",
      "block1_conv1 (Conv2D)        (None, 48, 48, 64)        1792      \n",
      "_________________________________________________________________\n",
      "block1_conv2 (Conv2D)        (None, 48, 48, 64)        36928     \n",
      "_________________________________________________________________\n",
      "block1_pool (MaxPooling2D)   (None, 24, 24, 64)        0         \n",
      "_________________________________________________________________\n",
      "block2_conv1 (Conv2D)        (None, 24, 24, 128)       73856     \n",
      "_________________________________________________________________\n",
      "block2_conv2 (Conv2D)        (None, 24, 24, 128)       147584    \n",
      "_________________________________________________________________\n",
      "block2_pool (MaxPooling2D)   (None, 12, 12, 128)       0         \n",
      "_________________________________________________________________\n",
      "block3_conv1 (Conv2D)        (None, 12, 12, 256)       295168    \n",
      "_________________________________________________________________\n",
      "block3_conv2 (Conv2D)        (None, 12, 12, 256)       590080    \n",
      "_________________________________________________________________\n",
      "block3_conv3 (Conv2D)        (None, 12, 12, 256)       590080    \n",
      "_________________________________________________________________\n",
      "block3_pool (MaxPooling2D)   (None, 6, 6, 256)         0         \n",
      "_________________________________________________________________\n",
      "global_average_pooling2d (Gl (None, 256)               0         \n",
      "_________________________________________________________________\n",
      "batch_normalization_v1 (Batc (None, 256)               1024      \n",
      "_________________________________________________________________\n",
      "dense (Dense)                (None, 256)               65792     \n",
      "_________________________________________________________________\n",
      "dense_1 (Dense)              (None, 256)               65792     \n",
      "_________________________________________________________________\n",
      "dropout (Dropout)            (None, 256)               0         \n",
      "_________________________________________________________________\n",
      "dense_2 (Dense)              (None, 10)                2570      \n",
      "=================================================================\n",
      "Total params: 1,870,666\n",
      "Trainable params: 134,666\n",
      "Non-trainable params: 1,736,000\n",
      "_________________________________________________________________\n"
     ]
    }
   ],
   "source": [
    "model.summary()"
   ]
  },
  {
   "cell_type": "markdown",
   "metadata": {},
   "source": [
    "## 데이터 늘리기\n",
    "\n",
    "소규모 데이터 세트의 한계를 극복하고 모델을 일반화할 수 있도록 ```케라스``` 유틸리티로 데이터 세트를 늘려준다."
   ]
  },
  {
   "cell_type": "code",
   "execution_count": 19,
   "metadata": {
    "colab": {
     "autoexec": {
      "startup": false,
      "wait_interval": 0
     }
    },
    "colab_type": "code",
    "id": "_Y-jNseQMNcf"
   },
   "outputs": [],
   "source": [
    "# 데이터 늘리기 구성의 준비\n",
    "train_datagen = ImageDataGenerator(\n",
    "    rescale=1. / 255,\n",
    "    horizontal_flip=False)"
   ]
  },
  {
   "cell_type": "code",
   "execution_count": 20,
   "metadata": {
    "colab": {
     "autoexec": {
      "startup": false,
      "wait_interval": 0
     }
    },
    "colab_type": "code",
    "id": "mHPmLOf-N3SQ"
   },
   "outputs": [],
   "source": [
    "train_datagen.fit(X_train)\n",
    "train_generator = train_datagen.flow(X_train,\n",
    "                                     Y_train, \n",
    "                                     batch_size=BATCH_SIZE)"
   ]
  },
  {
   "cell_type": "code",
   "execution_count": 21,
   "metadata": {
    "colab": {
     "autoexec": {
      "startup": false,
      "wait_interval": 0
     }
    },
    "colab_type": "code",
    "id": "JSIJycdbrBWK"
   },
   "outputs": [],
   "source": [
    "val_datagen = ImageDataGenerator(rescale=1. / 255,\n",
    "    horizontal_flip=False)\n",
    "\n",
    "val_datagen.fit(X_val)\n",
    "val_generator = val_datagen.flow(X_val,\n",
    "                                 Y_val,\n",
    "                                 batch_size=BATCH_SIZE)"
   ]
  },
  {
   "cell_type": "markdown",
   "metadata": {},
   "source": [
    "## 모델 훈련"
   ]
  },
  {
   "cell_type": "markdown",
   "metadata": {},
   "source": [
    "이제 모델을 몇 번의 에포크로 훈련시키고 그 성능을 측정해 보자. 다음 코드로 모델에 새로 추가된 층을 훈련시키기 위한 fit_generator() 함수를 호출한다."
   ]
  },
  {
   "cell_type": "code",
   "execution_count": 22,
   "metadata": {
    "colab": {
     "autoexec": {
      "startup": false,
      "wait_interval": 0
     },
     "base_uri": "https://localhost:8080/",
     "height": 1397
    },
    "colab_type": "code",
    "executionInfo": {
     "elapsed": 1291407,
     "status": "ok",
     "timestamp": 1531343114582,
     "user": {
      "displayName": "Raghav Bali",
      "photoUrl": "//lh4.googleusercontent.com/-HPass-4Bl9U/AAAAAAAAAAI/AAAAAAAAKiI/A0BQ8MHwVME/s50-c-k-no/photo.jpg",
      "userId": "117317575176939780509"
     },
     "user_tz": -330
    },
    "id": "upzna-SWcdVK",
    "outputId": "a3acb1f3-4ed8-45c6-d026-0e9707df282b",
    "scrolled": false
   },
   "outputs": [
    {
     "name": "stdout",
     "output_type": "stream",
     "text": [
      "WARNING:tensorflow:From /home/dyanos/anaconda3/lib/python3.7/site-packages/tensorflow/python/ops/math_ops.py:3066: to_int32 (from tensorflow.python.ops.math_ops) is deprecated and will be removed in a future version.\n",
      "Instructions for updating:\n",
      "Use tf.cast instead.\n",
      "Epoch 1/40\n",
      "235/235 [==============================] - 1s 6ms/step - loss: 0.1864 - acc: 0.9282\n",
      "1329/1329 [==============================] - 12s 9ms/step - loss: 0.2500 - acc: 0.9090 - val_loss: 0.1864 - val_acc: 0.9282\n",
      "Epoch 2/40\n",
      "235/235 [==============================] - 1s 6ms/step - loss: 0.1628 - acc: 0.9365\n",
      "1329/1329 [==============================] - 11s 8ms/step - loss: 0.1965 - acc: 0.9244 - val_loss: 0.1628 - val_acc: 0.9365\n",
      "Epoch 3/40\n",
      "235/235 [==============================] - 1s 6ms/step - loss: 0.1516 - acc: 0.9408\n",
      "1329/1329 [==============================] - 11s 8ms/step - loss: 0.1776 - acc: 0.9314 - val_loss: 0.1516 - val_acc: 0.9408\n",
      "Epoch 4/40\n",
      "235/235 [==============================] - 1s 5ms/step - loss: 0.1444 - acc: 0.9441\n",
      "1329/1329 [==============================] - 11s 8ms/step - loss: 0.1664 - acc: 0.9353 - val_loss: 0.1444 - val_acc: 0.9441\n",
      "Epoch 5/40\n",
      "235/235 [==============================] - 1s 6ms/step - loss: 0.1387 - acc: 0.9460\n",
      "1329/1329 [==============================] - 12s 9ms/step - loss: 0.1584 - acc: 0.9384 - val_loss: 0.1387 - val_acc: 0.9460\n",
      "Epoch 6/40\n",
      "235/235 [==============================] - 1s 5ms/step - loss: 0.1356 - acc: 0.9473\n",
      "1329/1329 [==============================] - 11s 8ms/step - loss: 0.1524 - acc: 0.9406 - val_loss: 0.1356 - val_acc: 0.9473\n",
      "Epoch 7/40\n",
      "235/235 [==============================] - 1s 6ms/step - loss: 0.1323 - acc: 0.9481\n",
      "1329/1329 [==============================] - 12s 9ms/step - loss: 0.1478 - acc: 0.9428 - val_loss: 0.1323 - val_acc: 0.9481\n",
      "Epoch 8/40\n",
      "235/235 [==============================] - 1s 6ms/step - loss: 0.1299 - acc: 0.9491\n",
      "1329/1329 [==============================] - 11s 9ms/step - loss: 0.1441 - acc: 0.9442 - val_loss: 0.1299 - val_acc: 0.9491\n",
      "Epoch 9/40\n",
      "235/235 [==============================] - 1s 6ms/step - loss: 0.1278 - acc: 0.9494\n",
      "1329/1329 [==============================] - 12s 9ms/step - loss: 0.1406 - acc: 0.9453 - val_loss: 0.1278 - val_acc: 0.9494\n",
      "Epoch 10/40\n",
      "235/235 [==============================] - 1s 6ms/step - loss: 0.1255 - acc: 0.9507\n",
      "1329/1329 [==============================] - 12s 9ms/step - loss: 0.1374 - acc: 0.9468 - val_loss: 0.1255 - val_acc: 0.9507\n",
      "Epoch 11/40\n",
      "235/235 [==============================] - 1s 6ms/step - loss: 0.1239 - acc: 0.9511\n",
      "1329/1329 [==============================] - 13s 10ms/step - loss: 0.1353 - acc: 0.9474 - val_loss: 0.1239 - val_acc: 0.9511\n",
      "Epoch 12/40\n",
      "235/235 [==============================] - 1s 6ms/step - loss: 0.1226 - acc: 0.9514\n",
      "1329/1329 [==============================] - 12s 9ms/step - loss: 0.1326 - acc: 0.9485 - val_loss: 0.1226 - val_acc: 0.9514\n",
      "Epoch 13/40\n",
      "235/235 [==============================] - 1s 5ms/step - loss: 0.1212 - acc: 0.9519\n",
      "1329/1329 [==============================] - 11s 9ms/step - loss: 0.1310 - acc: 0.9493 - val_loss: 0.1212 - val_acc: 0.9519\n",
      "Epoch 14/40\n",
      "235/235 [==============================] - 1s 6ms/step - loss: 0.1203 - acc: 0.9526\n",
      "1329/1329 [==============================] - 12s 9ms/step - loss: 0.1289 - acc: 0.9499 - val_loss: 0.1203 - val_acc: 0.9526\n",
      "Epoch 15/40\n",
      "235/235 [==============================] - 1s 6ms/step - loss: 0.1193 - acc: 0.9528\n",
      "1329/1329 [==============================] - 11s 8ms/step - loss: 0.1259 - acc: 0.9511 - val_loss: 0.1193 - val_acc: 0.9528\n",
      "Epoch 16/40\n",
      "235/235 [==============================] - 1s 6ms/step - loss: 0.1186 - acc: 0.9531\n",
      "1329/1329 [==============================] - 12s 9ms/step - loss: 0.1244 - acc: 0.9515 - val_loss: 0.1186 - val_acc: 0.9531\n",
      "Epoch 17/40\n",
      "235/235 [==============================] - 1s 6ms/step - loss: 0.1174 - acc: 0.9534\n",
      "1329/1329 [==============================] - 11s 8ms/step - loss: 0.1232 - acc: 0.9525 - val_loss: 0.1174 - val_acc: 0.9534\n",
      "Epoch 18/40\n",
      "235/235 [==============================] - 1s 6ms/step - loss: 0.1168 - acc: 0.9535\n",
      "1329/1329 [==============================] - 11s 8ms/step - loss: 0.1217 - acc: 0.9525 - val_loss: 0.1168 - val_acc: 0.9535\n",
      "Epoch 19/40\n",
      "235/235 [==============================] - 1s 6ms/step - loss: 0.1161 - acc: 0.9541\n",
      "1329/1329 [==============================] - 12s 9ms/step - loss: 0.1204 - acc: 0.9533 - val_loss: 0.1161 - val_acc: 0.9541\n",
      "Epoch 20/40\n",
      "235/235 [==============================] - 1s 6ms/step - loss: 0.1154 - acc: 0.9544\n",
      "1329/1329 [==============================] - 11s 9ms/step - loss: 0.1187 - acc: 0.9540 - val_loss: 0.1154 - val_acc: 0.9544\n",
      "Epoch 21/40\n",
      "235/235 [==============================] - 1s 5ms/step - loss: 0.1150 - acc: 0.9540\n",
      "1329/1329 [==============================] - 11s 8ms/step - loss: 0.1168 - acc: 0.9549 - val_loss: 0.1150 - val_acc: 0.9540\n",
      "Epoch 22/40\n",
      "235/235 [==============================] - 1s 6ms/step - loss: 0.1147 - acc: 0.9548\n",
      "1329/1329 [==============================] - 12s 9ms/step - loss: 0.1162 - acc: 0.9550 - val_loss: 0.1147 - val_acc: 0.9548\n",
      "Epoch 23/40\n",
      "235/235 [==============================] - 1s 6ms/step - loss: 0.1146 - acc: 0.9542\n",
      "1329/1329 [==============================] - 12s 9ms/step - loss: 0.1142 - acc: 0.9560 - val_loss: 0.1146 - val_acc: 0.9542\n",
      "Epoch 24/40\n",
      "235/235 [==============================] - 1s 6ms/step - loss: 0.1136 - acc: 0.9545\n",
      "1329/1329 [==============================] - 12s 9ms/step - loss: 0.1139 - acc: 0.9559 - val_loss: 0.1136 - val_acc: 0.9545\n",
      "Epoch 25/40\n",
      "235/235 [==============================] - 1s 5ms/step - loss: 0.1132 - acc: 0.9552\n",
      "1329/1329 [==============================] - 12s 9ms/step - loss: 0.1121 - acc: 0.9567 - val_loss: 0.1132 - val_acc: 0.9552\n",
      "Epoch 26/40\n",
      "235/235 [==============================] - 1s 6ms/step - loss: 0.1135 - acc: 0.9551\n",
      "1329/1329 [==============================] - 12s 9ms/step - loss: 0.1112 - acc: 0.9566 - val_loss: 0.1135 - val_acc: 0.9551\n",
      "Epoch 27/40\n",
      "235/235 [==============================] - 1s 6ms/step - loss: 0.1123 - acc: 0.9556\n",
      "1329/1329 [==============================] - 12s 9ms/step - loss: 0.1099 - acc: 0.9576 - val_loss: 0.1123 - val_acc: 0.9556\n",
      "Epoch 28/40\n",
      "235/235 [==============================] - 1s 6ms/step - loss: 0.1128 - acc: 0.9548\n",
      "1329/1329 [==============================] - 12s 9ms/step - loss: 0.1083 - acc: 0.9579 - val_loss: 0.1128 - val_acc: 0.9548\n",
      "Epoch 29/40\n",
      "235/235 [==============================] - 1s 5ms/step - loss: 0.1133 - acc: 0.9550\n",
      "1329/1329 [==============================] - 11s 8ms/step - loss: 0.1078 - acc: 0.9581 - val_loss: 0.1133 - val_acc: 0.9550\n",
      "Epoch 30/40\n",
      "235/235 [==============================] - 1s 6ms/step - loss: 0.1128 - acc: 0.9555\n",
      "1329/1329 [==============================] - 12s 9ms/step - loss: 0.1075 - acc: 0.9582 - val_loss: 0.1128 - val_acc: 0.9555\n",
      "Epoch 31/40\n",
      "235/235 [==============================] - 1s 6ms/step - loss: 0.1114 - acc: 0.9561\n",
      "1329/1329 [==============================] - 11s 8ms/step - loss: 0.1054 - acc: 0.9591 - val_loss: 0.1114 - val_acc: 0.9561\n",
      "Epoch 32/40\n",
      "235/235 [==============================] - 1s 6ms/step - loss: 0.1122 - acc: 0.9558\n",
      "1329/1329 [==============================] - 12s 9ms/step - loss: 0.1042 - acc: 0.9597 - val_loss: 0.1122 - val_acc: 0.9558\n",
      "Epoch 33/40\n",
      "235/235 [==============================] - 1s 6ms/step - loss: 0.1119 - acc: 0.9556\n",
      "1329/1329 [==============================] - 12s 9ms/step - loss: 0.1040 - acc: 0.9598 - val_loss: 0.1119 - val_acc: 0.9556\n",
      "Epoch 34/40\n",
      "235/235 [==============================] - 1s 5ms/step - loss: 0.1113 - acc: 0.9559\n",
      "1329/1329 [==============================] - 12s 9ms/step - loss: 0.1034 - acc: 0.9599 - val_loss: 0.1113 - val_acc: 0.9559\n",
      "Epoch 35/40\n",
      "235/235 [==============================] - 1s 6ms/step - loss: 0.1122 - acc: 0.9559\n",
      "1329/1329 [==============================] - 12s 9ms/step - loss: 0.1015 - acc: 0.9608 - val_loss: 0.1122 - val_acc: 0.9559\n",
      "Epoch 36/40\n",
      "235/235 [==============================] - 1s 6ms/step - loss: 0.1112 - acc: 0.9561\n",
      "1329/1329 [==============================] - 11s 8ms/step - loss: 0.1009 - acc: 0.9608 - val_loss: 0.1112 - val_acc: 0.9561\n",
      "Epoch 37/40\n",
      "235/235 [==============================] - 1s 6ms/step - loss: 0.1112 - acc: 0.9564\n",
      "1329/1329 [==============================] - 12s 9ms/step - loss: 0.1013 - acc: 0.9608 - val_loss: 0.1112 - val_acc: 0.9564\n",
      "Epoch 38/40\n",
      "235/235 [==============================] - 1s 6ms/step - loss: 0.1112 - acc: 0.9569\n",
      "1329/1329 [==============================] - 12s 9ms/step - loss: 0.0993 - acc: 0.9615 - val_loss: 0.1112 - val_acc: 0.9569\n",
      "Epoch 39/40\n",
      "235/235 [==============================] - 1s 6ms/step - loss: 0.1113 - acc: 0.9560\n",
      "1329/1329 [==============================] - 12s 9ms/step - loss: 0.0990 - acc: 0.9619 - val_loss: 0.1113 - val_acc: 0.9560\n",
      "Epoch 40/40\n",
      "235/235 [==============================] - 1s 6ms/step - loss: 0.1107 - acc: 0.9563\n",
      "1329/1329 [==============================] - 11s 9ms/step - loss: 0.0979 - acc: 0.9618 - val_loss: 0.1107 - val_acc: 0.9563\n"
     ]
    }
   ],
   "source": [
    "train_steps_per_epoch = X_train.shape[0] // BATCH_SIZE\n",
    "val_steps_per_epoch = X_val.shape[0] // BATCH_SIZE\n",
    "\n",
    "history = model.fit_generator(train_generator,\n",
    "                              steps_per_epoch=train_steps_per_epoch,\n",
    "                              validation_data=val_generator,\n",
    "                              validation_steps=val_steps_per_epoch,\n",
    "                              epochs=EPOCHS,\n",
    "                              verbose=1)"
   ]
  },
  {
   "cell_type": "markdown",
   "metadata": {},
   "source": [
    "## 모델 성능 분석"
   ]
  },
  {
   "cell_type": "code",
   "execution_count": 23,
   "metadata": {
    "colab": {
     "autoexec": {
      "startup": false,
      "wait_interval": 0
     },
     "base_uri": "https://localhost:8080/",
     "height": 378
    },
    "colab_type": "code",
    "executionInfo": {
     "elapsed": 1720,
     "status": "ok",
     "timestamp": 1531343116483,
     "user": {
      "displayName": "Raghav Bali",
      "photoUrl": "//lh4.googleusercontent.com/-HPass-4Bl9U/AAAAAAAAAAI/AAAAAAAAKiI/A0BQ8MHwVME/s50-c-k-no/photo.jpg",
      "userId": "117317575176939780509"
     },
     "user_tz": -330
    },
    "id": "ucbrAJdAerCe",
    "outputId": "6a650099-386a-427f-c2f2-33e9ee54dd82"
   },
   "outputs": [
    {
     "data": {
      "image/png": "[encoded data removed]",
      "text/plain": [
       "<Figure size 1080x360 with 2 Axes>"
      ]
     },
     "metadata": {
      "needs_background": "light"
     },
     "output_type": "display_data"
    }
   ],
   "source": [
    "f, (ax1, ax2) = plt.subplots(1, 2, figsize=(15, 5))\n",
    "t = f.suptitle('Deep Neural Net Performance', fontsize=12)\n",
    "f.subplots_adjust(top=0.85, wspace=0.3)\n",
    "\n",
    "epochs = list(range(1,EPOCHS+1))\n",
    "ax1.plot(epochs, history.history['acc'], label='Train Accuracy')\n",
    "ax1.plot(epochs, history.history['val_acc'], label='Validation Accuracy')\n",
    "ax1.set_xticks(epochs)\n",
    "ax1.set_ylabel('Accuracy Value')\n",
    "ax1.set_xlabel('Epoch')\n",
    "ax1.set_title('Accuracy')\n",
    "l1 = ax1.legend(loc=\"best\")\n",
    "\n",
    "ax2.plot(epochs, history.history['loss'], label='Train Loss')\n",
    "ax2.plot(epochs, history.history['val_loss'], label='Validation Loss')\n",
    "ax2.set_xticks(epochs)\n",
    "ax2.set_ylabel('Loss Value')\n",
    "ax2.set_xlabel('Epoch')\n",
    "ax2.set_title('Loss')\n",
    "l2 = ax2.legend(loc=\"best\")"
   ]
  },
  {
   "cell_type": "code",
   "execution_count": 24,
   "metadata": {
    "colab": {
     "autoexec": {
      "startup": false,
      "wait_interval": 0
     }
    },
    "colab_type": "code",
    "id": "6O7_wTjerlCJ"
   },
   "outputs": [],
   "source": [
    "predictions = model.predict(X_test/255.)"
   ]
  },
  {
   "cell_type": "code",
   "execution_count": 25,
   "metadata": {
    "colab": {
     "autoexec": {
      "startup": false,
      "wait_interval": 0
     }
    },
    "colab_type": "code",
    "id": "-kXS6GcHrhP0"
   },
   "outputs": [],
   "source": [
    "test_labels = list(y_test.squeeze())\n",
    "predictions = list(predictions.argmax(axis=1))"
   ]
  },
  {
   "cell_type": "code",
   "execution_count": null,
   "metadata": {},
   "outputs": [],
   "source": []
  },
  {
   "cell_type": "code",
   "execution_count": 27,
   "metadata": {
    "colab": {
     "autoexec": {
      "startup": false,
      "wait_interval": 0
     },
     "base_uri": "https://localhost:8080/",
     "height": 85
    },
    "colab_type": "code",
    "executionInfo": {
     "elapsed": 895,
     "status": "ok",
     "timestamp": 1531343127722,
     "user": {
      "displayName": "Raghav Bali",
      "photoUrl": "//lh4.googleusercontent.com/-HPass-4Bl9U/AAAAAAAAAAI/AAAAAAAAKiI/A0BQ8MHwVME/s50-c-k-no/photo.jpg",
      "userId": "117317575176939780509"
     },
     "user_tz": -330
    },
    "id": "lQ9T1O9vrdyI",
    "outputId": "603e0d65-ca22-4996-9dcf-3b5451c30df6"
   },
   "outputs": [
    {
     "ename": "NameError",
     "evalue": "name 'get_metrics' is not defined",
     "output_type": "error",
     "traceback": [
      "\u001b[0;31m---------------------------------------------------------------------------\u001b[0m",
      "\u001b[0;31mNameError\u001b[0m                                 Traceback (most recent call last)",
      "\u001b[0;32m<ipython-input-27-c666627d6558>\u001b[0m in \u001b[0;36m<module>\u001b[0;34m\u001b[0m\n\u001b[0;32m----> 1\u001b[0;31m get_metrics(true_labels=y_test, \n\u001b[0m\u001b[1;32m      2\u001b[0m                 predicted_labels=predictions)\n",
      "\u001b[0;31mNameError\u001b[0m: name 'get_metrics' is not defined"
     ]
    }
   ],
   "source": [
    "get_metrics(true_labels=y_test, \n",
    "                predicted_labels=predictions)"
   ]
  },
  {
   "cell_type": "code",
   "execution_count": null,
   "metadata": {},
   "outputs": [],
   "source": []
  },
  {
   "cell_type": "markdown",
   "metadata": {},
   "source": [
    "## 예측 시각화"
   ]
  },
  {
   "cell_type": "code",
   "execution_count": null,
   "metadata": {
    "colab": {
     "autoexec": {
      "startup": false,
      "wait_interval": 0
     }
    },
    "colab_type": "code",
    "id": "uwIk8tnYmEGi"
   },
   "outputs": [],
   "source": [
    "label_dict = {0:'airplane',\n",
    "             1:'automobile',\n",
    "             2:'bird',\n",
    "             3:'cat',\n",
    "             4:'deer',\n",
    "             5:'dog',\n",
    "             6:'frog',\n",
    "             7:'horse',\n",
    "             8:'ship',\n",
    "             9:'truck'}"
   ]
  },
  {
   "cell_type": "code",
   "execution_count": null,
   "metadata": {
    "colab": {
     "autoexec": {
      "startup": false,
      "wait_interval": 0
     },
     "base_uri": "https://localhost:8080/",
     "height": 949
    },
    "colab_type": "code",
    "executionInfo": {
     "elapsed": 3795,
     "status": "ok",
     "timestamp": 1531343132615,
     "user": {
      "displayName": "Raghav Bali",
      "photoUrl": "//lh4.googleusercontent.com/-HPass-4Bl9U/AAAAAAAAAAI/AAAAAAAAKiI/A0BQ8MHwVME/s50-c-k-no/photo.jpg",
      "userId": "117317575176939780509"
     },
     "user_tz": -330
    },
    "id": "gFZVsFfqlvB8",
    "outputId": "bddc35fa-32bc-477c-aa7b-00e8decc847a"
   },
   "outputs": [],
   "source": [
    "utils.plot_predictions(model=model,dataset=X_test/255.,\n",
    "                       dataset_labels=Y_test,\n",
    "                       label_dict=label_dict,\n",
    "                       batch_size=16,\n",
    "                       grid_height=4,\n",
    "                       grid_width=4)"
   ]
  },
  {
   "cell_type": "code",
   "execution_count": null,
   "metadata": {},
   "outputs": [],
   "source": []
  }
 ],
 "metadata": {
  "accelerator": "GPU",
  "colab": {
   "collapsed_sections": [],
   "default_view": {},
   "name": "Copy of cifar10_vgg16_july12.ipynb",
   "provenance": [
    {
     "file_id": "1tlQq2thZWPDNqaMbfBJ9_TOo0YTqv7IL",
     "timestamp": 1531320536438
    }
   ],
   "version": "0.3.2",
   "views": {}
  },
  "kernelspec": {
   "display_name": "Python 3",
   "language": "python",
   "name": "python3"
  },
  "language_info": {
   "codemirror_mode": {
    "name": "ipython",
    "version": 3
   },
   "file_extension": ".py",
   "mimetype": "text/x-python",
   "name": "python",
   "nbconvert_exporter": "python",
   "pygments_lexer": "ipython3",
   "version": "3.7.2"
  }
 },
 "nbformat": 4,
 "nbformat_minor": 1
}
