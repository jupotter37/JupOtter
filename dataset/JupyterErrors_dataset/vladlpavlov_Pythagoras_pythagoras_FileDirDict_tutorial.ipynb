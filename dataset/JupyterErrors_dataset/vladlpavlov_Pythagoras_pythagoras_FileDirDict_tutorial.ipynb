{
 "cells": [
  {
   "cell_type": "markdown",
   "id": "cd15a089",
   "metadata": {
    "pycharm": {
     "name": "#%% md\n"
    }
   },
   "source": [
    "<div align=\"center\">\n",
    "  <img src=\"http://vlpavlov.org/Pythagoras-Logo3.svg\"><br>\n",
    "</div>\n",
    "\n",
    "# Using Persistent Dictionaries: FileDirDict\n",
    "# Overview of Persistent Dicts\n",
    "\n",
    "Pythagoras offers a few different Persistent Dictionary classes, such as:  \n",
    "* **FileDirDict**: local file-based persistence\n",
    "* **S3_Dict**: cloud-based persistence, with AWS S3 as a backend\n",
    "\n",
    "All these classes allow to persistantly store key-values pairs. They offer functionality, similar to traditional Python dictionaries, which is described here: \n",
    "https://docs.python.org/3/tutorial/datastructures.html#dictionaries The key difference:\n",
    "* Traditional dictionaries exist only withing one session of program execution. They store data in RAM: once the program finishes, the data becomes \"forgotten\". If there are multiple copies of the same program running concurrently on a computer, each of them will get their own, completly independant instance of the dictionary.  \n",
    "* Persistant dictionaries store data on a local disk or in the cloud. The next time the program executes, it can get accces to the previous state of the dictionary. Several copies of the same program can run concurrently and access exactly the same dictionary.\n",
    "\n",
    "There are a few restrictions:\n",
    "\n",
    "1. Pythagoras Persistent Dictionaries only allow tuples of strings as keys. You can also use a single regular string as a key, which will be interpeted as a tuple containing just one element. \n",
    "2. Each of the key strings can only contain characters, allowed withing names of file-system directories. Most of the special symbols are not allowed.\n",
    "3. Unlike native Python dictionaries, Pythagoras Persistent Dictionaries do not preserve insertion order."
   ]
  },
  {
   "cell_type": "markdown",
   "id": "3c613567",
   "metadata": {
    "pycharm": {
     "name": "#%% md\n"
    }
   },
   "source": [
    "## Local File-Based Persistence\n",
    "In this tutorial we will specifically talk about **FileDirDict**. This class stores key-value pairs on a local disk. In a key-value pair, the key is used to determine the file's location (its path and name). The value is stored in the file either in a binary format (pickle) or in a human-readable text format (json). If only one string is given as a key, it will be used to create a file-name. If a sequence of strings is given as a key, the last string will be used to create a file-name, all the preceiding strings will define a path to the file (a sequence of nested folders).\n",
    "\n",
    "The tutorial will walk you step-by-step through the most important details of FileDirDict usage."
   ]
  },
  {
   "cell_type": "markdown",
   "id": "11d0b3aa",
   "metadata": {
    "pycharm": {
     "name": "#%% md\n"
    }
   },
   "source": [
    "### Initial setup\n",
    "\n",
    "First, let's install Pythagoras and import FileDirDict class:"
   ]
  },
  {
   "cell_type": "code",
   "execution_count": 1,
   "id": "54d001e5",
   "metadata": {
    "pycharm": {
     "name": "#%%\n"
    }
   },
   "outputs": [],
   "source": [
    "!pip install pythagoras --quiet"
   ]
  },
  {
   "cell_type": "code",
   "execution_count": 2,
   "id": "2be270ed",
   "metadata": {
    "pycharm": {
     "name": "#%%\n"
    }
   },
   "outputs": [],
   "source": [
    "from pythagoras import FileDirDict"
   ]
  },
  {
   "cell_type": "markdown",
   "id": "d04c9bae",
   "metadata": {
    "pycharm": {
     "name": "#%% md\n"
    }
   },
   "source": [
    "Now, let's create an empty directory to experiment with FileDirDict class:"
   ]
  },
  {
   "cell_type": "code",
   "execution_count": 3,
   "id": "c58197a3",
   "metadata": {
    "pycharm": {
     "name": "#%%\n"
    }
   },
   "outputs": [
    {
     "name": "stdout",
     "output_type": "stream",
     "text": [
      "\u001B[34m.\u001B[m\u001B[m  \u001B[34m..\u001B[m\u001B[m\r\n"
     ]
    }
   ],
   "source": [
    "!mkdir tutorial\n",
    "!ls -a tutorial"
   ]
  },
  {
   "cell_type": "markdown",
   "id": "d99fb587",
   "metadata": {
    "pycharm": {
     "name": "#%% md\n"
    }
   },
   "source": [
    "In order to instantiate a new FileDirDict object, we have to let it know the folder it will use to store the data. We can pass a name of an existing folder. Or we can pass a name of a new folder - in this case Pythagoras will create it. "
   ]
  },
  {
   "cell_type": "code",
   "execution_count": 4,
   "id": "92fffb34",
   "metadata": {
    "pycharm": {
     "name": "#%%\n"
    }
   },
   "outputs": [],
   "source": [
    "population = FileDirDict(\"tutorial/DDD\")"
   ]
  },
  {
   "cell_type": "code",
   "execution_count": 5,
   "id": "438e343c",
   "metadata": {
    "pycharm": {
     "name": "#%%\n"
    }
   },
   "outputs": [
    {
     "name": "stdout",
     "output_type": "stream",
     "text": [
      "\u001B[34m.\u001B[m\u001B[m   \u001B[34m..\u001B[m\u001B[m  \u001B[34mDDD\u001B[m\u001B[m\r\n"
     ]
    }
   ],
   "source": [
    "!ls -a tutorial"
   ]
  },
  {
   "cell_type": "markdown",
   "id": "6cf9e65e",
   "metadata": {
    "pycharm": {
     "name": "#%% md\n"
    }
   },
   "source": [
    "As you can see, Pythogaras creaded a new folder DDD for us. Let's look inside this folder:"
   ]
  },
  {
   "cell_type": "code",
   "execution_count": 6,
   "id": "58e54651",
   "metadata": {
    "pycharm": {
     "name": "#%%\n"
    }
   },
   "outputs": [
    {
     "name": "stdout",
     "output_type": "stream",
     "text": [
      "\u001B[34m.\u001B[m\u001B[m  \u001B[34m..\u001B[m\u001B[m\r\n"
     ]
    }
   ],
   "source": [
    "!ls -a tutorial/DDD"
   ]
  },
  {
   "cell_type": "markdown",
   "id": "e2078afb",
   "metadata": {
    "pycharm": {
     "name": "#%% md\n"
    }
   },
   "source": [
    "By default, FileDirDict will store all objects in binary format (pickle). Let's put the first key-value pairs into our dictionalry:"
   ]
  },
  {
   "cell_type": "code",
   "execution_count": 7,
   "id": "8ba2acf5",
   "metadata": {
    "pycharm": {
     "name": "#%%\n"
    }
   },
   "outputs": [
    {
     "name": "stdout",
     "output_type": "stream",
     "text": [
      "\u001B[34m.\u001B[m\u001B[m                   \u001B[34m..\u001B[m\u001B[m                  Canada_IROTG624.pkl USA_65OZDTOT.pkl\r\n"
     ]
    }
   ],
   "source": [
    "population[\"USA\"] = 329_000_000\n",
    "population[\"Canada\"] = 38_000_000\n",
    "!ls -a tutorial/DDD"
   ]
  },
  {
   "cell_type": "markdown",
   "id": "a7418eef",
   "metadata": {
    "pycharm": {
     "name": "#%% md\n"
    }
   },
   "source": [
    "Pythogaras stored two new key-value pairs in two new files. The names of the files start with original \n",
    "key strings followed by hash suffixes."
   ]
  },
  {
   "cell_type": "code",
   "execution_count": 8,
   "id": "68ee1b81",
   "metadata": {
    "pycharm": {
     "name": "#%%\n"
    }
   },
   "outputs": [
    {
     "name": "stdout",
     "output_type": "stream",
     "text": [
      "329000000\n"
     ]
    }
   ],
   "source": [
    "print(population[\"USA\"])"
   ]
  },
  {
   "cell_type": "markdown",
   "id": "9a7bf3ef",
   "metadata": {
    "pycharm": {
     "name": "#%% md\n"
    }
   },
   "source": [
    "Now, let's delete the dictionary:"
   ]
  },
  {
   "cell_type": "code",
   "execution_count": 9,
   "id": "4db98000",
   "metadata": {
    "pycharm": {
     "name": "#%%\n"
    }
   },
   "outputs": [],
   "source": [
    "del population"
   ]
  },
  {
   "cell_type": "markdown",
   "id": "32d67594",
   "metadata": {
    "pycharm": {
     "name": "#%% md\n"
    }
   },
   "source": [
    "Of course, elements of the deleted dictionary become unavailable from within Python code:"
   ]
  },
  {
   "cell_type": "code",
   "execution_count": 10,
   "id": "9d6df648",
   "metadata": {
    "pycharm": {
     "name": "#%%\n"
    }
   },
   "outputs": [
    {
     "ename": "NameError",
     "evalue": "name 'population' is not defined",
     "output_type": "error",
     "traceback": [
      "\u001B[0;31m---------------------------------------------------------------------------\u001B[0m",
      "\u001B[0;31mNameError\u001B[0m                                 Traceback (most recent call last)",
      "Input \u001B[0;32mIn [10]\u001B[0m, in \u001B[0;36m<cell line: 1>\u001B[0;34m()\u001B[0m\n\u001B[0;32m----> 1\u001B[0m \u001B[38;5;28mprint\u001B[39m(\u001B[43mpopulation\u001B[49m[\u001B[38;5;124m\"\u001B[39m\u001B[38;5;124mUSA\u001B[39m\u001B[38;5;124m\"\u001B[39m])\n",
      "\u001B[0;31mNameError\u001B[0m: name 'population' is not defined"
     ]
    }
   ],
   "source": [
    "print(population[\"USA\"])"
   ]
  },
  {
   "cell_type": "markdown",
   "id": "07242685",
   "metadata": {
    "pycharm": {
     "name": "#%% md\n"
    }
   },
   "source": [
    "The dictionary object was removed from RAM, but the data remains on the disk:"
   ]
  },
  {
   "cell_type": "code",
   "execution_count": 11,
   "id": "d39087bb",
   "metadata": {
    "pycharm": {
     "name": "#%%\n"
    }
   },
   "outputs": [
    {
     "name": "stdout",
     "output_type": "stream",
     "text": [
      "\u001B[34m.\u001B[m\u001B[m                   \u001B[34m..\u001B[m\u001B[m                  Canada_IROTG624.pkl USA_65OZDTOT.pkl\r\n"
     ]
    }
   ],
   "source": [
    "!ls -a tutorial/DDD"
   ]
  },
  {
   "cell_type": "markdown",
   "id": "0b5275db",
   "metadata": {
    "pycharm": {
     "name": "#%% md\n"
    }
   },
   "source": [
    "Now, let's create another persistant dictionary, based on the same directory: "
   ]
  },
  {
   "cell_type": "code",
   "execution_count": 12,
   "id": "6d10be2f",
   "metadata": {
    "pycharm": {
     "name": "#%%\n"
    }
   },
   "outputs": [],
   "source": [
    "number_of_people = FileDirDict(\"tutorial/DDD\")"
   ]
  },
  {
   "cell_type": "markdown",
   "id": "eb800329",
   "metadata": {
    "pycharm": {
     "name": "#%% md\n"
    }
   },
   "source": [
    "Now we can access all the key-value pairs that are stored in this directory:"
   ]
  },
  {
   "cell_type": "code",
   "execution_count": 13,
   "id": "7daaaca3",
   "metadata": {
    "pycharm": {
     "name": "#%%\n"
    }
   },
   "outputs": [
    {
     "name": "stdout",
     "output_type": "stream",
     "text": [
      "329000000\n"
     ]
    }
   ],
   "source": [
    "print(number_of_people[\"USA\"])"
   ]
  },
  {
   "cell_type": "markdown",
   "id": "c0b5e264",
   "metadata": {
    "pycharm": {
     "name": "#%% md\n"
    }
   },
   "source": [
    "We can use a sequence of strings as a key:"
   ]
  },
  {
   "cell_type": "code",
   "execution_count": 14,
   "id": "c848b11b",
   "metadata": {
    "pycharm": {
     "name": "#%%\n"
    }
   },
   "outputs": [],
   "source": [
    "number_of_people[(\"USA\",\"California\")] = 1_000_000\n",
    "number_of_people[(\"USA\",\"Texas\")] = 29_000_000\n",
    "number_of_people[(\"USA\",\"Philippines\")] = \"Not a US territory\""
   ]
  },
  {
   "cell_type": "code",
   "execution_count": 15,
   "id": "acffb523",
   "metadata": {
    "pycharm": {
     "name": "#%%\n"
    }
   },
   "outputs": [
    {
     "name": "stdout",
     "output_type": "stream",
     "text": [
      "\u001B[34m.\u001B[m\u001B[m                   Canada_IROTG624.pkl USA_65OZDTOT.pkl\r\n",
      "\u001B[34m..\u001B[m\u001B[m                  \u001B[34mUSA_65OZDTOT\u001B[m\u001B[m\r\n"
     ]
    }
   ],
   "source": [
    "!ls -a tutorial/DDD"
   ]
  },
  {
   "cell_type": "markdown",
   "id": "8bacc0d7",
   "metadata": {
    "pycharm": {
     "name": "#%% md\n"
    }
   },
   "source": [
    "Pythogaras has created a sub-directory for us. Let's look inside:"
   ]
  },
  {
   "cell_type": "code",
   "execution_count": 16,
   "id": "444219a3",
   "metadata": {
    "pycharm": {
     "name": "#%%\n"
    }
   },
   "outputs": [
    {
     "name": "stdout",
     "output_type": "stream",
     "text": [
      "\u001B[34m.\u001B[m\u001B[m                        California_GVTXTKNB.pkl  Texas_Q2DRYQLK.pkl\r\n",
      "\u001B[34m..\u001B[m\u001B[m                       Philippines_O7NLF6A2.pkl\r\n"
     ]
    }
   ],
   "source": [
    "!ls -a tutorial/DDD/USA_65OZDTOT"
   ]
  },
  {
   "cell_type": "markdown",
   "id": "56eb6fa6",
   "metadata": {
    "pycharm": {
     "name": "#%% md\n"
    }
   },
   "source": [
    "The sub-directory contains 3 new objects which we just added to the dictionary."
   ]
  },
  {
   "cell_type": "code",
   "execution_count": 17,
   "id": "c52443ef",
   "metadata": {
    "pycharm": {
     "name": "#%%\n"
    }
   },
   "outputs": [
    {
     "name": "stdout",
     "output_type": "stream",
     "text": [
      "1000000\n",
      "Not a US territory\n"
     ]
    }
   ],
   "source": [
    "print(number_of_people[(\"USA\",\"California\")])\n",
    "print(number_of_people[(\"USA\",\"Philippines\")])"
   ]
  },
  {
   "cell_type": "markdown",
   "id": "2879250c",
   "metadata": {
    "pycharm": {
     "name": "#%% md\n"
    }
   },
   "source": [
    "FileDirDict supports most of the operations, offered by traditional Python dictionaries:"
   ]
  },
  {
   "cell_type": "code",
   "execution_count": 18,
   "id": "0c7ddc5d",
   "metadata": {
    "pycharm": {
     "name": "#%%\n"
    }
   },
   "outputs": [
    {
     "name": "stdout",
     "output_type": "stream",
     "text": [
      "5\n"
     ]
    }
   ],
   "source": [
    "print(len(number_of_people))"
   ]
  },
  {
   "cell_type": "code",
   "execution_count": 19,
   "id": "f56eab58",
   "metadata": {
    "pycharm": {
     "name": "#%%\n"
    }
   },
   "outputs": [],
   "source": [
    "del number_of_people[(\"USA\",\"Philippines\")]"
   ]
  },
  {
   "cell_type": "code",
   "execution_count": 20,
   "id": "5c2f3c10",
   "metadata": {
    "pycharm": {
     "name": "#%%\n"
    }
   },
   "outputs": [
    {
     "name": "stdout",
     "output_type": "stream",
     "text": [
      "4\n"
     ]
    }
   ],
   "source": [
    "print(len(number_of_people))"
   ]
  },
  {
   "cell_type": "code",
   "execution_count": 21,
   "id": "869bf8c5",
   "metadata": {
    "pycharm": {
     "name": "#%%\n"
    }
   },
   "outputs": [
    {
     "ename": "KeyError",
     "evalue": "'File /Users/vlpavlov/PycharmProjects/Pytha/tutorial/DDD/USA_65OZDTOT/Philippines_O7NLF6A2.pkl does not exist'",
     "output_type": "error",
     "traceback": [
      "\u001B[0;31m---------------------------------------------------------------------------\u001B[0m",
      "\u001B[0;31mKeyError\u001B[0m                                  Traceback (most recent call last)",
      "Input \u001B[0;32mIn [21]\u001B[0m, in \u001B[0;36m<cell line: 1>\u001B[0;34m()\u001B[0m\n\u001B[0;32m----> 1\u001B[0m \u001B[38;5;28mprint\u001B[39m(\u001B[43mnumber_of_people\u001B[49m\u001B[43m[\u001B[49m\u001B[43m(\u001B[49m\u001B[38;5;124;43m\"\u001B[39;49m\u001B[38;5;124;43mUSA\u001B[39;49m\u001B[38;5;124;43m\"\u001B[39;49m\u001B[43m,\u001B[49m\u001B[38;5;124;43m\"\u001B[39;49m\u001B[38;5;124;43mPhilippines\u001B[39;49m\u001B[38;5;124;43m\"\u001B[39;49m\u001B[43m)\u001B[49m\u001B[43m]\u001B[49m)\n",
      "File \u001B[0;32m~/PycharmProjects/Pytha/pythagoras/dicts.py:477\u001B[0m, in \u001B[0;36mFileDirDict.__getitem__\u001B[0;34m(self, key)\u001B[0m\n\u001B[1;32m    475\u001B[0m filename \u001B[38;5;241m=\u001B[39m \u001B[38;5;28mself\u001B[39m\u001B[38;5;241m.\u001B[39m_build_full_path(key)\n\u001B[1;32m    476\u001B[0m \u001B[38;5;28;01mif\u001B[39;00m \u001B[38;5;129;01mnot\u001B[39;00m os\u001B[38;5;241m.\u001B[39mpath\u001B[38;5;241m.\u001B[39misfile(filename):\n\u001B[0;32m--> 477\u001B[0m     \u001B[38;5;28;01mraise\u001B[39;00m \u001B[38;5;167;01mKeyError\u001B[39;00m(\u001B[38;5;124mf\u001B[39m\u001B[38;5;124m\"\u001B[39m\u001B[38;5;124mFile \u001B[39m\u001B[38;5;132;01m{\u001B[39;00mfilename\u001B[38;5;132;01m}\u001B[39;00m\u001B[38;5;124m does not exist\u001B[39m\u001B[38;5;124m\"\u001B[39m)\n\u001B[1;32m    478\u001B[0m result \u001B[38;5;241m=\u001B[39m \u001B[38;5;28mself\u001B[39m\u001B[38;5;241m.\u001B[39m_read_from_file(filename)\n\u001B[1;32m    479\u001B[0m \u001B[38;5;28;01mreturn\u001B[39;00m result\n",
      "\u001B[0;31mKeyError\u001B[0m: 'File /Users/vlpavlov/PycharmProjects/Pytha/tutorial/DDD/USA_65OZDTOT/Philippines_O7NLF6A2.pkl does not exist'"
     ]
    }
   ],
   "source": [
    "print(number_of_people[(\"USA\",\"Philippines\")])"
   ]
  },
  {
   "cell_type": "markdown",
   "id": "368471c8",
   "metadata": {
    "pycharm": {
     "name": "#%% md\n"
    }
   },
   "source": [
    "By default, FileDirDict will store all objects as binary pickle files. However, it also suports human-readable JSON fomrat:"
   ]
  },
  {
   "cell_type": "code",
   "execution_count": 22,
   "id": "4c892aff",
   "metadata": {
    "pycharm": {
     "name": "#%%\n"
    }
   },
   "outputs": [],
   "source": [
    "new_persistant_dict = FileDirDict(\"tutorial/second_storage\",file_type=\"json\")\n",
    "new_persistant_dict[\"days\"] = [\"SUN\",\"MON\",\"TUE\", \"WED\", \"THU\",\"FRY\",\"SAT\"]\n",
    "new_persistant_dict[\"first_allowed_year\"] = 1974"
   ]
  },
  {
   "cell_type": "code",
   "execution_count": 23,
   "id": "89370790",
   "metadata": {
    "pycharm": {
     "name": "#%%\n"
    }
   },
   "outputs": [
    {
     "name": "stdout",
     "output_type": "stream",
     "text": [
      "\u001B[34m.\u001B[m\u001B[m                                days_IT66YRYD.json\r\n",
      "\u001B[34m..\u001B[m\u001B[m                               first_allowed_year_TIVUDHVE.json\r\n"
     ]
    }
   ],
   "source": [
    "!ls -a tutorial/second_storage"
   ]
  },
  {
   "cell_type": "code",
   "execution_count": 24,
   "id": "9f525445",
   "metadata": {
    "pycharm": {
     "name": "#%%\n"
    }
   },
   "outputs": [
    {
     "name": "stdout",
     "output_type": "stream",
     "text": [
      "[\r\n",
      "    \"SUN\",\r\n",
      "    \"MON\",\r\n",
      "    \"TUE\",\r\n",
      "    \"WED\",\r\n",
      "    \"THU\",\r\n",
      "    \"FRY\",\r\n",
      "    \"SAT\"\r\n",
      "]"
     ]
    }
   ],
   "source": [
    "!cat tutorial/second_storage/days_IT66YRYD.json"
   ]
  },
  {
   "cell_type": "markdown",
   "id": "a49daacf",
   "metadata": {
    "pycharm": {
     "name": "#%% md\n"
    }
   },
   "source": [
    "We can also store quite complex objects in a persistant dictionary"
   ]
  },
  {
   "cell_type": "code",
   "execution_count": 25,
   "id": "da0db747",
   "metadata": {
    "pycharm": {
     "name": "#%%\n"
    }
   },
   "outputs": [],
   "source": [
    "import pandas as pd"
   ]
  },
  {
   "cell_type": "code",
   "execution_count": 26,
   "id": "da97634b",
   "metadata": {
    "pycharm": {
     "name": "#%%\n"
    }
   },
   "outputs": [],
   "source": [
    "new_persistant_dict[\"wow\"] = pd.DataFrame({\"A\":[10,20,30]})"
   ]
  },
  {
   "cell_type": "code",
   "execution_count": 27,
   "id": "1754e311",
   "metadata": {
    "pycharm": {
     "name": "#%%\n"
    }
   },
   "outputs": [
    {
     "name": "stdout",
     "output_type": "stream",
     "text": [
      "\u001B[34m.\u001B[m\u001B[m                                first_allowed_year_TIVUDHVE.json\r\n",
      "\u001B[34m..\u001B[m\u001B[m                               wow_XTW4IUHY.json\r\n",
      "days_IT66YRYD.json\r\n"
     ]
    }
   ],
   "source": [
    "!ls -a tutorial/second_storage"
   ]
  },
  {
   "cell_type": "code",
   "execution_count": 28,
   "id": "97dfb7d2",
   "metadata": {
    "pycharm": {
     "name": "#%%\n"
    }
   },
   "outputs": [
    {
     "name": "stdout",
     "output_type": "stream",
     "text": [
      "{\r\n",
      "    \"py/object\": \"pandas.core.frame.DataFrame\",\r\n",
      "    \"values\": \"A\\n10\\n20\\n30\\n\",\r\n",
      "    \"txt\": true,\r\n",
      "    \"meta\": {\r\n",
      "        \"dtypes\": {\r\n",
      "            \"A\": \"int64\"\r\n",
      "        },\r\n",
      "        \"index\": \"{\\\"py/object\\\": \\\"pandas.core.indexes.range.RangeIndex\\\", \\\"values\\\": \\\"[0, 1, 2]\\\", \\\"txt\\\": true, \\\"meta\\\": {\\\"dtype\\\": \\\"int64\\\", \\\"name\\\": null}}\",\r\n",
      "        \"column_level_names\": [\r\n",
      "            null\r\n",
      "        ],\r\n",
      "        \"header\": [\r\n",
      "            0\r\n",
      "        ]\r\n",
      "    }\r\n",
      "}"
     ]
    }
   ],
   "source": [
    "!cat tutorial/second_storage/wow_XTW4IUHY.json"
   ]
  },
  {
   "cell_type": "markdown",
   "id": "783d2821",
   "metadata": {
    "pycharm": {
     "name": "#%% md\n"
    }
   },
   "source": [
    "The data, stored in FileDirDict objects, will be available as long as the files are available on the disk. Of course, we can aways reset the dictionaries by simply removing the files:"
   ]
  },
  {
   "cell_type": "code",
   "execution_count": 29,
   "id": "9e4ffd75",
   "metadata": {
    "pycharm": {
     "name": "#%%\n"
    }
   },
   "outputs": [],
   "source": [
    "!rm -r tutorial"
   ]
  },
  {
   "cell_type": "markdown",
   "id": "bbb77400",
   "metadata": {
    "pycharm": {
     "name": "#%% md\n"
    }
   },
   "source": [
    "Visit https://github.com/vladlpavlov/Pythagoras to learn more about Pythogaras"
   ]
  }
 ],
 "metadata": {
  "kernelspec": {
   "display_name": "Python 3 (ipykernel)",
   "language": "python",
   "name": "python3"
  },
  "language_info": {
   "codemirror_mode": {
    "name": "ipython",
    "version": 3
   },
   "file_extension": ".py",
   "mimetype": "text/x-python",
   "name": "python",
   "nbconvert_exporter": "python",
   "pygments_lexer": "ipython3",
   "version": "3.9.11"
  }
 },
 "nbformat": 4,
 "nbformat_minor": 5
}