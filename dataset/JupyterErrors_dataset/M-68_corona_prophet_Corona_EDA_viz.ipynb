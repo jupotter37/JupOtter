{
  "nbformat": 4,
  "nbformat_minor": 0,
  "metadata": {
    "colab": {
      "name": "Corona.ipynb",
      "provenance": [],
      "collapsed_sections": [],
      "toc_visible": true,
      "include_colab_link": true
    },
    "kernelspec": {
      "name": "python3",
      "display_name": "Python 3"
    }
  },
  "cells": [
    {
      "cell_type": "markdown",
      "metadata": {
        "id": "view-in-github",
        "colab_type": "text"
      },
      "source": [
        "<a href=\"https://colab.research.google.com/github/EXYNOS-999/corona_prophet/blob/master/Corona_EDA_viz.ipynb\" target=\"_parent\"><img src=\"https://colab.research.google.com/assets/colab-badge.svg\" alt=\"Open In Colab\"/></a>"
      ]
    },
    {
      "cell_type": "markdown",
      "metadata": {
        "id": "Dfp7rHLzuVKm",
        "colab_type": "text"
      },
      "source": [
        "# Mathematical Simulation of nCOV Transmission Model\n",
        "\n",
        "---\n",
        "\n",
        "\n",
        "\n",
        "---\n",
        "\n",
        "\n",
        "\n",
        "We are also investigating the use of a  deterministic SIR metapopulation transmission model of infection within and between major Chinese cities to confirmed cases of 2019-nCoV in Chinese cities and cases.\n",
        "\n",
        "reported in other countries; to study th epidemiological and population dynamics occurring\n",
        "over the same time scale. (edited) \n",
        "\n",
        "We define and study an open stochastic SIR (Susceptible – Infected –\n",
        "Removed) model on a graph in order to describe the spread of an epidemic on a\n",
        "cattle trade network with epidemiological and demographic dynamics occurring over\n",
        "the same time scale."
      ]
    },
    {
      "cell_type": "code",
      "metadata": {
        "id": "g53qK3rd2f2G",
        "colab_type": "code",
        "colab": {}
      },
      "source": [
        "import numpy as np\n",
        "import pandas as pd\n",
        "import matplotlib.pyplot as plt\n",
        "import seaborn as sns"
      ],
      "execution_count": 0,
      "outputs": []
    },
    {
      "cell_type": "code",
      "metadata": {
        "id": "vlgA8DC23fHg",
        "colab_type": "code",
        "colab": {}
      },
      "source": [
        "data=pd.read_csv(\"/content/2019_nCoV_data.csv\")"
      ],
      "execution_count": 0,
      "outputs": []
    },
    {
      "cell_type": "code",
      "metadata": {
        "id": "iQj8MW0K3nXd",
        "colab_type": "code",
        "outputId": "b1626bc9-c4fa-472b-f155-5d49bc8d9888",
        "colab": {
          "base_uri": "https://localhost:8080/",
          "height": 230
        }
      },
      "source": [
        "data.info()"
      ],
      "execution_count": 0,
      "outputs": [
        {
          "output_type": "stream",
          "text": [
            "<class 'pandas.core.frame.DataFrame'>\n",
            "RangeIndex: 434 entries, 0 to 433\n",
            "Data columns (total 7 columns):\n",
            "Sno               434 non-null int64\n",
            "Province/State    349 non-null object\n",
            "Country           434 non-null object\n",
            "Last Update       434 non-null object\n",
            "Confirmed         434 non-null float64\n",
            "Deaths            434 non-null float64\n",
            "Recovered         434 non-null float64\n",
            "dtypes: float64(3), int64(1), object(3)\n",
            "memory usage: 23.9+ KB\n"
          ],
          "name": "stdout"
        }
      ]
    },
    {
      "cell_type": "code",
      "metadata": {
        "id": "yIv5Ggbq3zoH",
        "colab_type": "code",
        "colab": {}
      },
      "source": [
        "data['Last Update'] = pd.to_datetime(data['Last Update'])"
      ],
      "execution_count": 0,
      "outputs": []
    },
    {
      "cell_type": "code",
      "metadata": {
        "id": "sALmuR6x4S3v",
        "colab_type": "code",
        "outputId": "cc9036cc-af24-4c94-c9f4-f067c86c1406",
        "colab": {
          "base_uri": "https://localhost:8080/",
          "height": 230
        }
      },
      "source": [
        "data.info()"
      ],
      "execution_count": 0,
      "outputs": [
        {
          "output_type": "stream",
          "text": [
            "<class 'pandas.core.frame.DataFrame'>\n",
            "RangeIndex: 434 entries, 0 to 433\n",
            "Data columns (total 7 columns):\n",
            "Sno               434 non-null int64\n",
            "Province/State    349 non-null object\n",
            "Country           434 non-null object\n",
            "Last Update       434 non-null datetime64[ns]\n",
            "Confirmed         434 non-null float64\n",
            "Deaths            434 non-null float64\n",
            "Recovered         434 non-null float64\n",
            "dtypes: datetime64[ns](1), float64(3), int64(1), object(2)\n",
            "memory usage: 23.9+ KB\n"
          ],
          "name": "stdout"
        }
      ]
    },
    {
      "cell_type": "code",
      "metadata": {
        "id": "5Uapn9px4gUH",
        "colab_type": "code",
        "outputId": "24c1d3f0-3a44-4d95-8432-fcfa499b0c4f",
        "colab": {
          "base_uri": "https://localhost:8080/",
          "height": 35
        }
      },
      "source": [
        "type(date)"
      ],
      "execution_count": 0,
      "outputs": [
        {
          "output_type": "execute_result",
          "data": {
            "text/plain": [
              "pandas.core.series.Series"
            ]
          },
          "metadata": {
            "tags": []
          },
          "execution_count": 546
        }
      ]
    },
    {
      "cell_type": "code",
      "metadata": {
        "id": "069qIP-B4uQn",
        "colab_type": "code",
        "colab": {}
      },
      "source": [
        "usa=data[data['Country']=='US']"
      ],
      "execution_count": 0,
      "outputs": []
    },
    {
      "cell_type": "code",
      "metadata": {
        "id": "wVMlbZaI6IP3",
        "colab_type": "code",
        "colab": {}
      },
      "source": [
        "mchina=data[data['Country']=='Mainland China']"
      ],
      "execution_count": 0,
      "outputs": []
    },
    {
      "cell_type": "code",
      "metadata": {
        "id": "dm5WvRoK7353",
        "colab_type": "code",
        "colab": {}
      },
      "source": [
        "mchina=data[data['Country']=='China']"
      ],
      "execution_count": 0,
      "outputs": []
    },
    {
      "cell_type": "code",
      "metadata": {
        "id": "Ts7yIJ_d8v8e",
        "colab_type": "code",
        "outputId": "169c764b-0f50-47fc-a42c-acbe94e3cd86",
        "colab": {
          "base_uri": "https://localhost:8080/",
          "height": 1000
        }
      },
      "source": [
        "mchina.sort_values(['Last Update'])"
      ],
      "execution_count": 0,
      "outputs": [
        {
          "output_type": "execute_result",
          "data": {
            "text/html": [
              "<div>\n",
              "<style scoped>\n",
              "    .dataframe tbody tr th:only-of-type {\n",
              "        vertical-align: middle;\n",
              "    }\n",
              "\n",
              "    .dataframe tbody tr th {\n",
              "        vertical-align: top;\n",
              "    }\n",
              "\n",
              "    .dataframe thead th {\n",
              "        text-align: right;\n",
              "    }\n",
              "</style>\n",
              "<table border=\"1\" class=\"dataframe\">\n",
              "  <thead>\n",
              "    <tr style=\"text-align: right;\">\n",
              "      <th></th>\n",
              "      <th>Sno</th>\n",
              "      <th>Province/State</th>\n",
              "      <th>Country</th>\n",
              "      <th>Last Update</th>\n",
              "      <th>Confirmed</th>\n",
              "      <th>Deaths</th>\n",
              "      <th>Recovered</th>\n",
              "    </tr>\n",
              "  </thead>\n",
              "  <tbody>\n",
              "    <tr>\n",
              "      <th>0</th>\n",
              "      <td>1</td>\n",
              "      <td>Anhui</td>\n",
              "      <td>China</td>\n",
              "      <td>2020-01-22 12:00:00</td>\n",
              "      <td>1.0</td>\n",
              "      <td>0.0</td>\n",
              "      <td>0.0</td>\n",
              "    </tr>\n",
              "    <tr>\n",
              "      <th>32</th>\n",
              "      <td>33</td>\n",
              "      <td>Xinjiang</td>\n",
              "      <td>China</td>\n",
              "      <td>2020-01-22 12:00:00</td>\n",
              "      <td>0.0</td>\n",
              "      <td>0.0</td>\n",
              "      <td>0.0</td>\n",
              "    </tr>\n",
              "    <tr>\n",
              "      <th>30</th>\n",
              "      <td>31</td>\n",
              "      <td>Tibet</td>\n",
              "      <td>China</td>\n",
              "      <td>2020-01-22 12:00:00</td>\n",
              "      <td>0.0</td>\n",
              "      <td>0.0</td>\n",
              "      <td>0.0</td>\n",
              "    </tr>\n",
              "    <tr>\n",
              "      <th>29</th>\n",
              "      <td>30</td>\n",
              "      <td>Tianjin</td>\n",
              "      <td>China</td>\n",
              "      <td>2020-01-22 12:00:00</td>\n",
              "      <td>4.0</td>\n",
              "      <td>0.0</td>\n",
              "      <td>0.0</td>\n",
              "    </tr>\n",
              "    <tr>\n",
              "      <th>28</th>\n",
              "      <td>29</td>\n",
              "      <td>Taiwan</td>\n",
              "      <td>China</td>\n",
              "      <td>2020-01-22 12:00:00</td>\n",
              "      <td>1.0</td>\n",
              "      <td>0.0</td>\n",
              "      <td>0.0</td>\n",
              "    </tr>\n",
              "    <tr>\n",
              "      <th>27</th>\n",
              "      <td>28</td>\n",
              "      <td>Sichuan</td>\n",
              "      <td>China</td>\n",
              "      <td>2020-01-22 12:00:00</td>\n",
              "      <td>5.0</td>\n",
              "      <td>0.0</td>\n",
              "      <td>0.0</td>\n",
              "    </tr>\n",
              "    <tr>\n",
              "      <th>26</th>\n",
              "      <td>27</td>\n",
              "      <td>Shanxi</td>\n",
              "      <td>China</td>\n",
              "      <td>2020-01-22 12:00:00</td>\n",
              "      <td>1.0</td>\n",
              "      <td>0.0</td>\n",
              "      <td>0.0</td>\n",
              "    </tr>\n",
              "    <tr>\n",
              "      <th>25</th>\n",
              "      <td>26</td>\n",
              "      <td>Shanghai</td>\n",
              "      <td>China</td>\n",
              "      <td>2020-01-22 12:00:00</td>\n",
              "      <td>9.0</td>\n",
              "      <td>0.0</td>\n",
              "      <td>0.0</td>\n",
              "    </tr>\n",
              "    <tr>\n",
              "      <th>24</th>\n",
              "      <td>25</td>\n",
              "      <td>Shandong</td>\n",
              "      <td>China</td>\n",
              "      <td>2020-01-22 12:00:00</td>\n",
              "      <td>2.0</td>\n",
              "      <td>0.0</td>\n",
              "      <td>0.0</td>\n",
              "    </tr>\n",
              "    <tr>\n",
              "      <th>23</th>\n",
              "      <td>24</td>\n",
              "      <td>Shaanxi</td>\n",
              "      <td>China</td>\n",
              "      <td>2020-01-22 12:00:00</td>\n",
              "      <td>0.0</td>\n",
              "      <td>0.0</td>\n",
              "      <td>0.0</td>\n",
              "    </tr>\n",
              "    <tr>\n",
              "      <th>22</th>\n",
              "      <td>23</td>\n",
              "      <td>Qinghai</td>\n",
              "      <td>China</td>\n",
              "      <td>2020-01-22 12:00:00</td>\n",
              "      <td>0.0</td>\n",
              "      <td>0.0</td>\n",
              "      <td>0.0</td>\n",
              "    </tr>\n",
              "    <tr>\n",
              "      <th>21</th>\n",
              "      <td>22</td>\n",
              "      <td>Ningxia</td>\n",
              "      <td>China</td>\n",
              "      <td>2020-01-22 12:00:00</td>\n",
              "      <td>1.0</td>\n",
              "      <td>0.0</td>\n",
              "      <td>0.0</td>\n",
              "    </tr>\n",
              "    <tr>\n",
              "      <th>20</th>\n",
              "      <td>21</td>\n",
              "      <td>Macau</td>\n",
              "      <td>China</td>\n",
              "      <td>2020-01-22 12:00:00</td>\n",
              "      <td>1.0</td>\n",
              "      <td>0.0</td>\n",
              "      <td>0.0</td>\n",
              "    </tr>\n",
              "    <tr>\n",
              "      <th>19</th>\n",
              "      <td>20</td>\n",
              "      <td>Liaoning</td>\n",
              "      <td>China</td>\n",
              "      <td>2020-01-22 12:00:00</td>\n",
              "      <td>2.0</td>\n",
              "      <td>0.0</td>\n",
              "      <td>0.0</td>\n",
              "    </tr>\n",
              "    <tr>\n",
              "      <th>18</th>\n",
              "      <td>19</td>\n",
              "      <td>Jilin</td>\n",
              "      <td>China</td>\n",
              "      <td>2020-01-22 12:00:00</td>\n",
              "      <td>0.0</td>\n",
              "      <td>0.0</td>\n",
              "      <td>0.0</td>\n",
              "    </tr>\n",
              "    <tr>\n",
              "      <th>17</th>\n",
              "      <td>18</td>\n",
              "      <td>Jiangxi</td>\n",
              "      <td>China</td>\n",
              "      <td>2020-01-22 12:00:00</td>\n",
              "      <td>2.0</td>\n",
              "      <td>0.0</td>\n",
              "      <td>0.0</td>\n",
              "    </tr>\n",
              "    <tr>\n",
              "      <th>16</th>\n",
              "      <td>17</td>\n",
              "      <td>Jiangsu</td>\n",
              "      <td>China</td>\n",
              "      <td>2020-01-22 12:00:00</td>\n",
              "      <td>1.0</td>\n",
              "      <td>0.0</td>\n",
              "      <td>0.0</td>\n",
              "    </tr>\n",
              "    <tr>\n",
              "      <th>15</th>\n",
              "      <td>16</td>\n",
              "      <td>Inner Mongolia</td>\n",
              "      <td>China</td>\n",
              "      <td>2020-01-22 12:00:00</td>\n",
              "      <td>0.0</td>\n",
              "      <td>0.0</td>\n",
              "      <td>0.0</td>\n",
              "    </tr>\n",
              "    <tr>\n",
              "      <th>1</th>\n",
              "      <td>2</td>\n",
              "      <td>Beijing</td>\n",
              "      <td>China</td>\n",
              "      <td>2020-01-22 12:00:00</td>\n",
              "      <td>14.0</td>\n",
              "      <td>0.0</td>\n",
              "      <td>0.0</td>\n",
              "    </tr>\n",
              "    <tr>\n",
              "      <th>2</th>\n",
              "      <td>3</td>\n",
              "      <td>Chongqing</td>\n",
              "      <td>China</td>\n",
              "      <td>2020-01-22 12:00:00</td>\n",
              "      <td>6.0</td>\n",
              "      <td>0.0</td>\n",
              "      <td>0.0</td>\n",
              "    </tr>\n",
              "    <tr>\n",
              "      <th>3</th>\n",
              "      <td>4</td>\n",
              "      <td>Fujian</td>\n",
              "      <td>China</td>\n",
              "      <td>2020-01-22 12:00:00</td>\n",
              "      <td>1.0</td>\n",
              "      <td>0.0</td>\n",
              "      <td>0.0</td>\n",
              "    </tr>\n",
              "    <tr>\n",
              "      <th>4</th>\n",
              "      <td>5</td>\n",
              "      <td>Gansu</td>\n",
              "      <td>China</td>\n",
              "      <td>2020-01-22 12:00:00</td>\n",
              "      <td>0.0</td>\n",
              "      <td>0.0</td>\n",
              "      <td>0.0</td>\n",
              "    </tr>\n",
              "    <tr>\n",
              "      <th>5</th>\n",
              "      <td>6</td>\n",
              "      <td>Guangdong</td>\n",
              "      <td>China</td>\n",
              "      <td>2020-01-22 12:00:00</td>\n",
              "      <td>26.0</td>\n",
              "      <td>0.0</td>\n",
              "      <td>0.0</td>\n",
              "    </tr>\n",
              "    <tr>\n",
              "      <th>6</th>\n",
              "      <td>7</td>\n",
              "      <td>Guangxi</td>\n",
              "      <td>China</td>\n",
              "      <td>2020-01-22 12:00:00</td>\n",
              "      <td>2.0</td>\n",
              "      <td>0.0</td>\n",
              "      <td>0.0</td>\n",
              "    </tr>\n",
              "    <tr>\n",
              "      <th>33</th>\n",
              "      <td>34</td>\n",
              "      <td>Yunnan</td>\n",
              "      <td>China</td>\n",
              "      <td>2020-01-22 12:00:00</td>\n",
              "      <td>1.0</td>\n",
              "      <td>0.0</td>\n",
              "      <td>0.0</td>\n",
              "    </tr>\n",
              "    <tr>\n",
              "      <th>7</th>\n",
              "      <td>8</td>\n",
              "      <td>Guizhou</td>\n",
              "      <td>China</td>\n",
              "      <td>2020-01-22 12:00:00</td>\n",
              "      <td>1.0</td>\n",
              "      <td>0.0</td>\n",
              "      <td>0.0</td>\n",
              "    </tr>\n",
              "    <tr>\n",
              "      <th>9</th>\n",
              "      <td>10</td>\n",
              "      <td>Hebei</td>\n",
              "      <td>China</td>\n",
              "      <td>2020-01-22 12:00:00</td>\n",
              "      <td>1.0</td>\n",
              "      <td>0.0</td>\n",
              "      <td>0.0</td>\n",
              "    </tr>\n",
              "    <tr>\n",
              "      <th>10</th>\n",
              "      <td>11</td>\n",
              "      <td>Heilongjiang</td>\n",
              "      <td>China</td>\n",
              "      <td>2020-01-22 12:00:00</td>\n",
              "      <td>0.0</td>\n",
              "      <td>0.0</td>\n",
              "      <td>0.0</td>\n",
              "    </tr>\n",
              "    <tr>\n",
              "      <th>11</th>\n",
              "      <td>12</td>\n",
              "      <td>Henan</td>\n",
              "      <td>China</td>\n",
              "      <td>2020-01-22 12:00:00</td>\n",
              "      <td>5.0</td>\n",
              "      <td>0.0</td>\n",
              "      <td>0.0</td>\n",
              "    </tr>\n",
              "    <tr>\n",
              "      <th>12</th>\n",
              "      <td>13</td>\n",
              "      <td>Hong Kong</td>\n",
              "      <td>China</td>\n",
              "      <td>2020-01-22 12:00:00</td>\n",
              "      <td>0.0</td>\n",
              "      <td>0.0</td>\n",
              "      <td>0.0</td>\n",
              "    </tr>\n",
              "    <tr>\n",
              "      <th>13</th>\n",
              "      <td>14</td>\n",
              "      <td>Hubei</td>\n",
              "      <td>China</td>\n",
              "      <td>2020-01-22 12:00:00</td>\n",
              "      <td>444.0</td>\n",
              "      <td>0.0</td>\n",
              "      <td>0.0</td>\n",
              "    </tr>\n",
              "    <tr>\n",
              "      <th>14</th>\n",
              "      <td>15</td>\n",
              "      <td>Hunan</td>\n",
              "      <td>China</td>\n",
              "      <td>2020-01-22 12:00:00</td>\n",
              "      <td>4.0</td>\n",
              "      <td>0.0</td>\n",
              "      <td>0.0</td>\n",
              "    </tr>\n",
              "    <tr>\n",
              "      <th>8</th>\n",
              "      <td>9</td>\n",
              "      <td>Hainan</td>\n",
              "      <td>China</td>\n",
              "      <td>2020-01-22 12:00:00</td>\n",
              "      <td>4.0</td>\n",
              "      <td>0.0</td>\n",
              "      <td>0.0</td>\n",
              "    </tr>\n",
              "    <tr>\n",
              "      <th>34</th>\n",
              "      <td>35</td>\n",
              "      <td>Zhejiang</td>\n",
              "      <td>China</td>\n",
              "      <td>2020-01-22 12:00:00</td>\n",
              "      <td>10.0</td>\n",
              "      <td>0.0</td>\n",
              "      <td>0.0</td>\n",
              "    </tr>\n",
              "  </tbody>\n",
              "</table>\n",
              "</div>"
            ],
            "text/plain": [
              "    Sno  Province/State Country  ... Confirmed  Deaths  Recovered\n",
              "0     1           Anhui   China  ...       1.0     0.0        0.0\n",
              "32   33        Xinjiang   China  ...       0.0     0.0        0.0\n",
              "30   31           Tibet   China  ...       0.0     0.0        0.0\n",
              "29   30         Tianjin   China  ...       4.0     0.0        0.0\n",
              "28   29          Taiwan   China  ...       1.0     0.0        0.0\n",
              "27   28         Sichuan   China  ...       5.0     0.0        0.0\n",
              "26   27          Shanxi   China  ...       1.0     0.0        0.0\n",
              "25   26        Shanghai   China  ...       9.0     0.0        0.0\n",
              "24   25        Shandong   China  ...       2.0     0.0        0.0\n",
              "23   24         Shaanxi   China  ...       0.0     0.0        0.0\n",
              "22   23         Qinghai   China  ...       0.0     0.0        0.0\n",
              "21   22         Ningxia   China  ...       1.0     0.0        0.0\n",
              "20   21           Macau   China  ...       1.0     0.0        0.0\n",
              "19   20        Liaoning   China  ...       2.0     0.0        0.0\n",
              "18   19           Jilin   China  ...       0.0     0.0        0.0\n",
              "17   18         Jiangxi   China  ...       2.0     0.0        0.0\n",
              "16   17         Jiangsu   China  ...       1.0     0.0        0.0\n",
              "15   16  Inner Mongolia   China  ...       0.0     0.0        0.0\n",
              "1     2         Beijing   China  ...      14.0     0.0        0.0\n",
              "2     3       Chongqing   China  ...       6.0     0.0        0.0\n",
              "3     4          Fujian   China  ...       1.0     0.0        0.0\n",
              "4     5           Gansu   China  ...       0.0     0.0        0.0\n",
              "5     6       Guangdong   China  ...      26.0     0.0        0.0\n",
              "6     7         Guangxi   China  ...       2.0     0.0        0.0\n",
              "33   34          Yunnan   China  ...       1.0     0.0        0.0\n",
              "7     8         Guizhou   China  ...       1.0     0.0        0.0\n",
              "9    10           Hebei   China  ...       1.0     0.0        0.0\n",
              "10   11    Heilongjiang   China  ...       0.0     0.0        0.0\n",
              "11   12           Henan   China  ...       5.0     0.0        0.0\n",
              "12   13       Hong Kong   China  ...       0.0     0.0        0.0\n",
              "13   14           Hubei   China  ...     444.0     0.0        0.0\n",
              "14   15           Hunan   China  ...       4.0     0.0        0.0\n",
              "8     9          Hainan   China  ...       4.0     0.0        0.0\n",
              "34   35        Zhejiang   China  ...      10.0     0.0        0.0\n",
              "\n",
              "[34 rows x 7 columns]"
            ]
          },
          "metadata": {
            "tags": []
          },
          "execution_count": 210
        }
      ]
    },
    {
      "cell_type": "code",
      "metadata": {
        "id": "jfkfieKK81eD",
        "colab_type": "code",
        "colab": {}
      },
      "source": [
        "hk=data[data['Country']=='Hong Kong']"
      ],
      "execution_count": 0,
      "outputs": []
    },
    {
      "cell_type": "code",
      "metadata": {
        "id": "bTSFBAt08-vm",
        "colab_type": "code",
        "outputId": "eaae4a4b-3a8d-4b96-c4e8-ad2c01929af0",
        "colab": {
          "base_uri": "https://localhost:8080/",
          "height": 282
        }
      },
      "source": [
        "hk"
      ],
      "execution_count": 0,
      "outputs": [
        {
          "output_type": "execute_result",
          "data": {
            "text/html": [
              "<div>\n",
              "<style scoped>\n",
              "    .dataframe tbody tr th:only-of-type {\n",
              "        vertical-align: middle;\n",
              "    }\n",
              "\n",
              "    .dataframe tbody tr th {\n",
              "        vertical-align: top;\n",
              "    }\n",
              "\n",
              "    .dataframe thead th {\n",
              "        text-align: right;\n",
              "    }\n",
              "</style>\n",
              "<table border=\"1\" class=\"dataframe\">\n",
              "  <thead>\n",
              "    <tr style=\"text-align: right;\">\n",
              "      <th></th>\n",
              "      <th>Sno</th>\n",
              "      <th>Province/State</th>\n",
              "      <th>Country</th>\n",
              "      <th>Last Update</th>\n",
              "      <th>Confirmed</th>\n",
              "      <th>Deaths</th>\n",
              "      <th>Recovered</th>\n",
              "    </tr>\n",
              "  </thead>\n",
              "  <tbody>\n",
              "    <tr>\n",
              "      <th>50</th>\n",
              "      <td>51</td>\n",
              "      <td>Hong Kong</td>\n",
              "      <td>Hong Kong</td>\n",
              "      <td>2020-01-23 12:00:00</td>\n",
              "      <td>2.0</td>\n",
              "      <td>0.0</td>\n",
              "      <td>0.0</td>\n",
              "    </tr>\n",
              "    <tr>\n",
              "      <th>108</th>\n",
              "      <td>109</td>\n",
              "      <td>Hong Kong</td>\n",
              "      <td>Hong Kong</td>\n",
              "      <td>2020-01-24 12:00:00</td>\n",
              "      <td>2.0</td>\n",
              "      <td>0.0</td>\n",
              "      <td>0.0</td>\n",
              "    </tr>\n",
              "    <tr>\n",
              "      <th>150</th>\n",
              "      <td>151</td>\n",
              "      <td>Hong Kong</td>\n",
              "      <td>Hong Kong</td>\n",
              "      <td>2020-01-25 12:00:00</td>\n",
              "      <td>5.0</td>\n",
              "      <td>0.0</td>\n",
              "      <td>0.0</td>\n",
              "    </tr>\n",
              "    <tr>\n",
              "      <th>193</th>\n",
              "      <td>194</td>\n",
              "      <td>Hong Kong</td>\n",
              "      <td>Hong Kong</td>\n",
              "      <td>2020-01-26 23:00:00</td>\n",
              "      <td>8.0</td>\n",
              "      <td>0.0</td>\n",
              "      <td>0.0</td>\n",
              "    </tr>\n",
              "    <tr>\n",
              "      <th>241</th>\n",
              "      <td>242</td>\n",
              "      <td>Hong Kong</td>\n",
              "      <td>Hong Kong</td>\n",
              "      <td>2020-01-27 20:30:00</td>\n",
              "      <td>8.0</td>\n",
              "      <td>0.0</td>\n",
              "      <td>0.0</td>\n",
              "    </tr>\n",
              "    <tr>\n",
              "      <th>296</th>\n",
              "      <td>297</td>\n",
              "      <td>Hong Kong</td>\n",
              "      <td>Hong Kong</td>\n",
              "      <td>2020-01-28 23:00:00</td>\n",
              "      <td>8.0</td>\n",
              "      <td>0.0</td>\n",
              "      <td>0.0</td>\n",
              "    </tr>\n",
              "    <tr>\n",
              "      <th>348</th>\n",
              "      <td>349</td>\n",
              "      <td>Hong Kong</td>\n",
              "      <td>Hong Kong</td>\n",
              "      <td>2020-01-29 21:00:00</td>\n",
              "      <td>10.0</td>\n",
              "      <td>0.0</td>\n",
              "      <td>0.0</td>\n",
              "    </tr>\n",
              "    <tr>\n",
              "      <th>404</th>\n",
              "      <td>405</td>\n",
              "      <td>Hong Kong</td>\n",
              "      <td>Hong Kong</td>\n",
              "      <td>2020-01-30 21:30:00</td>\n",
              "      <td>12.0</td>\n",
              "      <td>0.0</td>\n",
              "      <td>0.0</td>\n",
              "    </tr>\n",
              "  </tbody>\n",
              "</table>\n",
              "</div>"
            ],
            "text/plain": [
              "     Sno Province/State    Country  ... Confirmed  Deaths  Recovered\n",
              "50    51      Hong Kong  Hong Kong  ...       2.0     0.0        0.0\n",
              "108  109      Hong Kong  Hong Kong  ...       2.0     0.0        0.0\n",
              "150  151      Hong Kong  Hong Kong  ...       5.0     0.0        0.0\n",
              "193  194      Hong Kong  Hong Kong  ...       8.0     0.0        0.0\n",
              "241  242      Hong Kong  Hong Kong  ...       8.0     0.0        0.0\n",
              "296  297      Hong Kong  Hong Kong  ...       8.0     0.0        0.0\n",
              "348  349      Hong Kong  Hong Kong  ...      10.0     0.0        0.0\n",
              "404  405      Hong Kong  Hong Kong  ...      12.0     0.0        0.0\n",
              "\n",
              "[8 rows x 7 columns]"
            ]
          },
          "metadata": {
            "tags": []
          },
          "execution_count": 212
        }
      ]
    },
    {
      "cell_type": "code",
      "metadata": {
        "id": "jUlmQAwa9w2O",
        "colab_type": "code",
        "outputId": "e5e271de-2c61-427e-85ae-424bb282aa63",
        "colab": {
          "base_uri": "https://localhost:8080/",
          "height": 317
        }
      },
      "source": [
        "grouped_country=data.groupby(\"Country\")[['Last Update','Confirmed', 'Deaths', 'Recovered']]"
      ],
      "execution_count": 0,
      "outputs": [
        {
          "output_type": "error",
          "ename": "KeyError",
          "evalue": "ignored",
          "traceback": [
            "\u001b[0;31m---------------------------------------------------------------------------\u001b[0m",
            "\u001b[0;31mKeyError\u001b[0m                                  Traceback (most recent call last)",
            "\u001b[0;32m<ipython-input-541-ba52f192f5cb>\u001b[0m in \u001b[0;36m<module>\u001b[0;34m()\u001b[0m\n\u001b[0;32m----> 1\u001b[0;31m \u001b[0mgrouped_country\u001b[0m\u001b[0;34m=\u001b[0m\u001b[0mdata\u001b[0m\u001b[0;34m.\u001b[0m\u001b[0mgroupby\u001b[0m\u001b[0;34m(\u001b[0m\u001b[0;34m\"Country\"\u001b[0m\u001b[0;34m)\u001b[0m\u001b[0;34m[\u001b[0m\u001b[0;34m[\u001b[0m\u001b[0;34m'Last Update'\u001b[0m\u001b[0;34m,\u001b[0m\u001b[0;34m'Confirmed'\u001b[0m\u001b[0;34m,\u001b[0m \u001b[0;34m'Deaths'\u001b[0m\u001b[0;34m,\u001b[0m \u001b[0;34m'Recovered'\u001b[0m\u001b[0;34m]\u001b[0m\u001b[0;34m]\u001b[0m\u001b[0;34m\u001b[0m\u001b[0;34m\u001b[0m\u001b[0m\n\u001b[0m",
            "\u001b[0;32m/usr/local/lib/python3.6/dist-packages/pandas/core/generic.py\u001b[0m in \u001b[0;36mgroupby\u001b[0;34m(self, by, axis, level, as_index, sort, group_keys, squeeze, observed, **kwargs)\u001b[0m\n\u001b[1;32m   7892\u001b[0m             \u001b[0msqueeze\u001b[0m\u001b[0;34m=\u001b[0m\u001b[0msqueeze\u001b[0m\u001b[0;34m,\u001b[0m\u001b[0;34m\u001b[0m\u001b[0;34m\u001b[0m\u001b[0m\n\u001b[1;32m   7893\u001b[0m             \u001b[0mobserved\u001b[0m\u001b[0;34m=\u001b[0m\u001b[0mobserved\u001b[0m\u001b[0;34m,\u001b[0m\u001b[0;34m\u001b[0m\u001b[0;34m\u001b[0m\u001b[0m\n\u001b[0;32m-> 7894\u001b[0;31m             \u001b[0;34m**\u001b[0m\u001b[0mkwargs\u001b[0m\u001b[0;34m\u001b[0m\u001b[0;34m\u001b[0m\u001b[0m\n\u001b[0m\u001b[1;32m   7895\u001b[0m         )\n\u001b[1;32m   7896\u001b[0m \u001b[0;34m\u001b[0m\u001b[0m\n",
            "\u001b[0;32m/usr/local/lib/python3.6/dist-packages/pandas/core/groupby/groupby.py\u001b[0m in \u001b[0;36mgroupby\u001b[0;34m(obj, by, **kwds)\u001b[0m\n\u001b[1;32m   2520\u001b[0m         \u001b[0;32mraise\u001b[0m \u001b[0mTypeError\u001b[0m\u001b[0;34m(\u001b[0m\u001b[0;34m\"invalid type: {}\"\u001b[0m\u001b[0;34m.\u001b[0m\u001b[0mformat\u001b[0m\u001b[0;34m(\u001b[0m\u001b[0mobj\u001b[0m\u001b[0;34m)\u001b[0m\u001b[0;34m)\u001b[0m\u001b[0;34m\u001b[0m\u001b[0;34m\u001b[0m\u001b[0m\n\u001b[1;32m   2521\u001b[0m \u001b[0;34m\u001b[0m\u001b[0m\n\u001b[0;32m-> 2522\u001b[0;31m     \u001b[0;32mreturn\u001b[0m \u001b[0mklass\u001b[0m\u001b[0;34m(\u001b[0m\u001b[0mobj\u001b[0m\u001b[0;34m,\u001b[0m \u001b[0mby\u001b[0m\u001b[0;34m,\u001b[0m \u001b[0;34m**\u001b[0m\u001b[0mkwds\u001b[0m\u001b[0;34m)\u001b[0m\u001b[0;34m\u001b[0m\u001b[0;34m\u001b[0m\u001b[0m\n\u001b[0m",
            "\u001b[0;32m/usr/local/lib/python3.6/dist-packages/pandas/core/groupby/groupby.py\u001b[0m in \u001b[0;36m__init__\u001b[0;34m(self, obj, keys, axis, level, grouper, exclusions, selection, as_index, sort, group_keys, squeeze, observed, **kwargs)\u001b[0m\n\u001b[1;32m    389\u001b[0m                 \u001b[0msort\u001b[0m\u001b[0;34m=\u001b[0m\u001b[0msort\u001b[0m\u001b[0;34m,\u001b[0m\u001b[0;34m\u001b[0m\u001b[0;34m\u001b[0m\u001b[0m\n\u001b[1;32m    390\u001b[0m                 \u001b[0mobserved\u001b[0m\u001b[0;34m=\u001b[0m\u001b[0mobserved\u001b[0m\u001b[0;34m,\u001b[0m\u001b[0;34m\u001b[0m\u001b[0;34m\u001b[0m\u001b[0m\n\u001b[0;32m--> 391\u001b[0;31m                 \u001b[0mmutated\u001b[0m\u001b[0;34m=\u001b[0m\u001b[0mself\u001b[0m\u001b[0;34m.\u001b[0m\u001b[0mmutated\u001b[0m\u001b[0;34m,\u001b[0m\u001b[0;34m\u001b[0m\u001b[0;34m\u001b[0m\u001b[0m\n\u001b[0m\u001b[1;32m    392\u001b[0m             )\n\u001b[1;32m    393\u001b[0m \u001b[0;34m\u001b[0m\u001b[0m\n",
            "\u001b[0;32m/usr/local/lib/python3.6/dist-packages/pandas/core/groupby/grouper.py\u001b[0m in \u001b[0;36m_get_grouper\u001b[0;34m(obj, key, axis, level, sort, observed, mutated, validate)\u001b[0m\n\u001b[1;32m    619\u001b[0m                 \u001b[0min_axis\u001b[0m\u001b[0;34m,\u001b[0m \u001b[0mname\u001b[0m\u001b[0;34m,\u001b[0m \u001b[0mlevel\u001b[0m\u001b[0;34m,\u001b[0m \u001b[0mgpr\u001b[0m \u001b[0;34m=\u001b[0m \u001b[0;32mFalse\u001b[0m\u001b[0;34m,\u001b[0m \u001b[0;32mNone\u001b[0m\u001b[0;34m,\u001b[0m \u001b[0mgpr\u001b[0m\u001b[0;34m,\u001b[0m \u001b[0;32mNone\u001b[0m\u001b[0;34m\u001b[0m\u001b[0;34m\u001b[0m\u001b[0m\n\u001b[1;32m    620\u001b[0m             \u001b[0;32melse\u001b[0m\u001b[0;34m:\u001b[0m\u001b[0;34m\u001b[0m\u001b[0;34m\u001b[0m\u001b[0m\n\u001b[0;32m--> 621\u001b[0;31m                 \u001b[0;32mraise\u001b[0m \u001b[0mKeyError\u001b[0m\u001b[0;34m(\u001b[0m\u001b[0mgpr\u001b[0m\u001b[0;34m)\u001b[0m\u001b[0;34m\u001b[0m\u001b[0;34m\u001b[0m\u001b[0m\n\u001b[0m\u001b[1;32m    622\u001b[0m         \u001b[0;32melif\u001b[0m \u001b[0misinstance\u001b[0m\u001b[0;34m(\u001b[0m\u001b[0mgpr\u001b[0m\u001b[0;34m,\u001b[0m \u001b[0mGrouper\u001b[0m\u001b[0;34m)\u001b[0m \u001b[0;32mand\u001b[0m \u001b[0mgpr\u001b[0m\u001b[0;34m.\u001b[0m\u001b[0mkey\u001b[0m \u001b[0;32mis\u001b[0m \u001b[0;32mnot\u001b[0m \u001b[0;32mNone\u001b[0m\u001b[0;34m:\u001b[0m\u001b[0;34m\u001b[0m\u001b[0;34m\u001b[0m\u001b[0m\n\u001b[1;32m    623\u001b[0m             \u001b[0;31m# Add key to exclusions\u001b[0m\u001b[0;34m\u001b[0m\u001b[0;34m\u001b[0m\u001b[0;34m\u001b[0m\u001b[0m\n",
            "\u001b[0;31mKeyError\u001b[0m: 'Country'"
          ]
        }
      ]
    },
    {
      "cell_type": "code",
      "metadata": {
        "id": "3FoErvck3s4B",
        "colab_type": "code",
        "outputId": "4cf1a1dc-310a-4463-99de-220df7225644",
        "colab": {
          "base_uri": "https://localhost:8080/",
          "height": 293
        }
      },
      "source": [
        "grouped_country['Country'].reset_index()"
      ],
      "execution_count": 0,
      "outputs": [
        {
          "output_type": "error",
          "ename": "IndexError",
          "evalue": "ignored",
          "traceback": [
            "\u001b[0;31m---------------------------------------------------------------------------\u001b[0m",
            "\u001b[0;31mIndexError\u001b[0m                                Traceback (most recent call last)",
            "\u001b[0;32m<ipython-input-439-a4fe163c9dcf>\u001b[0m in \u001b[0;36m<module>\u001b[0;34m()\u001b[0m\n\u001b[0;32m----> 1\u001b[0;31m \u001b[0mgrouped_country\u001b[0m\u001b[0;34m[\u001b[0m\u001b[0;34m'Country'\u001b[0m\u001b[0;34m]\u001b[0m\u001b[0;34m.\u001b[0m\u001b[0mreset_index\u001b[0m\u001b[0;34m(\u001b[0m\u001b[0;34m)\u001b[0m\u001b[0;34m\u001b[0m\u001b[0;34m\u001b[0m\u001b[0m\n\u001b[0m",
            "\u001b[0;32m/usr/local/lib/python3.6/dist-packages/pandas/core/base.py\u001b[0m in \u001b[0;36m__getitem__\u001b[0;34m(self, key)\u001b[0m\n\u001b[1;32m    247\u001b[0m             raise IndexError(\n\u001b[1;32m    248\u001b[0m                 \"Column(s) {selection} already selected\".format(\n\u001b[0;32m--> 249\u001b[0;31m                     \u001b[0mselection\u001b[0m\u001b[0;34m=\u001b[0m\u001b[0mself\u001b[0m\u001b[0;34m.\u001b[0m\u001b[0m_selection\u001b[0m\u001b[0;34m\u001b[0m\u001b[0;34m\u001b[0m\u001b[0m\n\u001b[0m\u001b[1;32m    250\u001b[0m                 )\n\u001b[1;32m    251\u001b[0m             )\n",
            "\u001b[0;31mIndexError\u001b[0m: Column(s) ['Last Update', 'Country', 'Confirmed', 'Deaths', 'Recovered'] already selected"
          ]
        }
      ]
    },
    {
      "cell_type": "code",
      "metadata": {
        "id": "R1YNmdjZAtUI",
        "colab_type": "code",
        "colab": {}
      },
      "source": [
        "china=data[(data['Country']=='China') |( data['Country']=='Mainland China')|( data['Country']=='Hong Kong')]"
      ],
      "execution_count": 0,
      "outputs": []
    },
    {
      "cell_type": "code",
      "metadata": {
        "id": "HD_PjM8yBXJm",
        "colab_type": "code",
        "outputId": "dc970f37-0c00-4ef7-8b23-7a4670334637",
        "colab": {
          "base_uri": "https://localhost:8080/",
          "height": 106
        }
      },
      "source": [
        "china['Country'].replace('Mainland China','Chinese Sub',inplace=True)\n",
        "china['Country'].replace('Hong Kong','Chinese Sub',inplace=True)"
      ],
      "execution_count": 0,
      "outputs": [
        {
          "output_type": "stream",
          "text": [
            "/usr/local/lib/python3.6/dist-packages/pandas/core/generic.py:6786: SettingWithCopyWarning: \n",
            "A value is trying to be set on a copy of a slice from a DataFrame\n",
            "\n",
            "See the caveats in the documentation: http://pandas.pydata.org/pandas-docs/stable/user_guide/indexing.html#returning-a-view-versus-a-copy\n",
            "  self._update_inplace(new_data)\n"
          ],
          "name": "stderr"
        }
      ]
    },
    {
      "cell_type": "code",
      "metadata": {
        "id": "1EuKfLA4CCoR",
        "colab_type": "code",
        "colab": {}
      },
      "source": [
        "Chinese=china.groupby('Last Update')['Confirmed','Deaths','Recovered'].sum().reset_index()"
      ],
      "execution_count": 0,
      "outputs": []
    },
    {
      "cell_type": "code",
      "metadata": {
        "id": "fW8zUomUCTjA",
        "colab_type": "code",
        "colab": {}
      },
      "source": [
        "Chinese.to_csv('sample_data/coronokimaakiankh.csv',date_format='%Y-%m-%d %H:%M:%S')"
      ],
      "execution_count": 0,
      "outputs": []
    },
    {
      "cell_type": "code",
      "metadata": {
        "id": "7a4ST5lJC9_4",
        "colab_type": "code",
        "colab": {}
      },
      "source": [
        "x=Chinese[['Recovered','Deaths']]"
      ],
      "execution_count": 0,
      "outputs": []
    },
    {
      "cell_type": "code",
      "metadata": {
        "id": "D2QSkCxSERJ3",
        "colab_type": "code",
        "colab": {}
      },
      "source": [
        "y=Chinese[['Confirmed']]"
      ],
      "execution_count": 0,
      "outputs": []
    },
    {
      "cell_type": "code",
      "metadata": {
        "id": "qtHsS2TVEZSV",
        "colab_type": "code",
        "outputId": "02e579ad-1df1-4601-a4a8-4ec75e2d3f01",
        "colab": {
          "base_uri": "https://localhost:8080/",
          "height": 283
        }
      },
      "source": [
        "sns.regplot(np.arange(0,10,1),Chinese['Confirmed'],data=Chinese)"
      ],
      "execution_count": 0,
      "outputs": [
        {
          "output_type": "execute_result",
          "data": {
            "text/plain": [
              "<matplotlib.axes._subplots.AxesSubplot at 0x7f414e54e780>"
            ]
          },
          "metadata": {
            "tags": []
          },
          "execution_count": 220
        },
        {
          "output_type": "display_data",
          "data": {
            "image/png": "[encoded data removed]",
            "text/plain": [
              "<Figure size 432x288 with 1 Axes>"
            ]
          },
          "metadata": {
            "tags": []
          }
        }
      ]
    },
    {
      "cell_type": "code",
      "metadata": {
        "id": "IMA3qpxAEvlX",
        "colab_type": "code",
        "colab": {}
      },
      "source": [
        "import statsmodels.api as sm"
      ],
      "execution_count": 0,
      "outputs": []
    },
    {
      "cell_type": "code",
      "metadata": {
        "id": "EQjzlJIpHQ2a",
        "colab_type": "code",
        "colab": {}
      },
      "source": [
        "from sklearn.svm import SVR"
      ],
      "execution_count": 0,
      "outputs": []
    },
    {
      "cell_type": "code",
      "metadata": {
        "id": "NzFND07JLJsO",
        "colab_type": "code",
        "outputId": "cb3d8d79-86a7-4f08-c15c-cf8142bf742a",
        "colab": {
          "base_uri": "https://localhost:8080/",
          "height": 124
        }
      },
      "source": [
        "model=SVR(kernel='linear',C=0.5)\n",
        "model.fit(x.values,y.values)"
      ],
      "execution_count": 0,
      "outputs": [
        {
          "output_type": "stream",
          "text": [
            "/usr/local/lib/python3.6/dist-packages/sklearn/utils/validation.py:760: DataConversionWarning:\n",
            "\n",
            "A column-vector y was passed when a 1d array was expected. Please change the shape of y to (n_samples, ), for example using ravel().\n",
            "\n"
          ],
          "name": "stderr"
        },
        {
          "output_type": "execute_result",
          "data": {
            "text/plain": [
              "SVR(C=0.5, cache_size=200, coef0=0.0, degree=3, epsilon=0.1, gamma='scale',\n",
              "    kernel='linear', max_iter=-1, shrinking=True, tol=0.001, verbose=False)"
            ]
          },
          "metadata": {
            "tags": []
          },
          "execution_count": 378
        }
      ]
    },
    {
      "cell_type": "code",
      "metadata": {
        "id": "HEOeCQ-i0fTm",
        "colab_type": "code",
        "outputId": "bdf192b4-2c48-40db-fe69-20b6f71919e7",
        "colab": {
          "base_uri": "https://localhost:8080/",
          "height": 88
        }
      },
      "source": [
        "from sklearn.preprocessing import PolynomialFeatures\n",
        "from sklearn.svm import SVC\n",
        "svc=SVC()\n",
        "pf=PolynomialFeatures(degree=3,include_bias=True)\n",
        "x_poly=pf.fit_transform(x.values)\n",
        "svc.fit(x_poly, y.values)\n",
        "y_poly_pred = svc.predict(x_poly)\n"
      ],
      "execution_count": 0,
      "outputs": [
        {
          "output_type": "stream",
          "text": [
            "/usr/local/lib/python3.6/dist-packages/sklearn/utils/validation.py:760: DataConversionWarning:\n",
            "\n",
            "A column-vector y was passed when a 1d array was expected. Please change the shape of y to (n_samples, ), for example using ravel().\n",
            "\n"
          ],
          "name": "stderr"
        }
      ]
    },
    {
      "cell_type": "code",
      "metadata": {
        "id": "yxsEn6hw0EGZ",
        "colab_type": "code",
        "outputId": "77ef4e79-cc14-4244-c212-868c3d34f43a",
        "colab": {
          "base_uri": "https://localhost:8080/",
          "height": 70
        }
      },
      "source": [
        "res"
      ],
      "execution_count": 0,
      "outputs": [
        {
          "output_type": "execute_result",
          "data": {
            "text/plain": [
              "array([ 499.9666 ,  670.77313,  784.50525,  670.77313,  980.88434,\n",
              "       2319.6394 , 3888.8464 , 5365.3    , 6962.0835 , 7006.502  ],\n",
              "      dtype=float32)"
            ]
          },
          "metadata": {
            "tags": []
          },
          "execution_count": 423
        }
      ]
    },
    {
      "cell_type": "markdown",
      "metadata": {
        "id": "EiTOXh0cusnl",
        "colab_type": "text"
      },
      "source": [
        "Slight errors in prediction yet to be improved"
      ]
    },
    {
      "cell_type": "code",
      "metadata": {
        "id": "W-0X09N8s-Od",
        "colab_type": "code",
        "outputId": "dde7f173-eafc-486a-a78d-b8e64bdaedce",
        "colab": {
          "base_uri": "https://localhost:8080/",
          "height": 312
        }
      },
      "source": [
        "plt.suptitle(\"Predicted in red ,Actual in blue \")\n",
        "lines=plt.plot(np.arange(0,10,1),res,c=\"red\")\n",
        "sns.regplot(np.arange(0,10,1),Chinese['Confirmed'],data=Chinese)\n"
      ],
      "execution_count": 0,
      "outputs": [
        {
          "output_type": "execute_result",
          "data": {
            "text/plain": [
              "<matplotlib.axes._subplots.AxesSubplot at 0x7f41410d60b8>"
            ]
          },
          "metadata": {
            "tags": []
          },
          "execution_count": 425
        },
        {
          "output_type": "display_data",
          "data": {
            "image/png": "[encoded data removed]",
            "text/plain": [
              "<Figure size 432x288 with 1 Axes>"
            ]
          },
          "metadata": {
            "tags": []
          }
        }
      ]
    },
    {
      "cell_type": "code",
      "metadata": {
        "id": "G-0eWMFLLrJR",
        "colab_type": "code",
        "colab": {}
      },
      "source": [
        "y.values"
      ],
      "execution_count": 0,
      "outputs": []
    },
    {
      "cell_type": "code",
      "metadata": {
        "id": "JQpizrdgHrbv",
        "colab_type": "code",
        "colab": {}
      },
      "source": [
        "res = mod.fit(maxiter=1000, disp=False)\n",
        "print(res.summary())"
      ],
      "execution_count": 0,
      "outputs": []
    },
    {
      "cell_type": "code",
      "metadata": {
        "id": "hywL3MC5JLnn",
        "colab_type": "code",
        "colab": {}
      },
      "source": [
        "data"
      ],
      "execution_count": 0,
      "outputs": []
    },
    {
      "cell_type": "markdown",
      "metadata": {
        "id": "FTurKyHUu2JA",
        "colab_type": "text"
      },
      "source": [
        "No correlation between variables ,thus more feature engineering is required"
      ]
    },
    {
      "cell_type": "code",
      "metadata": {
        "id": "pJLl4a-UZ9Oy",
        "colab_type": "code",
        "colab": {}
      },
      "source": [
        "sns.heatmap(data.corr())"
      ],
      "execution_count": 0,
      "outputs": []
    },
    {
      "cell_type": "markdown",
      "metadata": {
        "id": "gUe6VTySoAuP",
        "colab_type": "text"
      },
      "source": [
        "# Features\n",
        "- Who Reports\n",
        "- Seafood wholesale market\n",
        "- Population Density\n",
        "- Stock Market Price\n",
        "- Geographical Conditions\n",
        "- Visits to Outbreak zone\n",
        "- Wild Animals in China\n",
        "- Base Reproduction Rate\n",
        "- Incubation Period \n",
        "- Medical Personal Deployed\n",
        "- Realtime Social Media Sentiment\n",
        "- Analyis of flights\n",
        "- Analysis of wuhan metro data\n",
        "- Highway Traffic using Google Sattelite API\n",
        "- Attendance in Schools\n",
        "- Medical/Army Personal Deployement\n",
        "# Note: Subject to change\n",
        "# *Investigating the possibility of Transfer Learning for prediction.\n"
      ]
    },
    {
      "cell_type": "code",
      "metadata": {
        "id": "MEzkN-lAPIQp",
        "colab_type": "code",
        "outputId": "2e0cb7eb-985a-48ce-c8d5-15af658f6501",
        "colab": {
          "base_uri": "https://localhost:8080/",
          "height": 266
        }
      },
      "source": [
        "!pip install prophet"
      ],
      "execution_count": 0,
      "outputs": [
        {
          "output_type": "stream",
          "text": [
            "Collecting prophet\n",
            "  Downloading https://files.pythonhosted.org/packages/1b/1c/61c969e76119a8257220869a6b3b57cd2ad4fbe0fd69b9b6845bfcf135aa/prophet-0.1.1.tar.gz\n",
            "Requirement already satisfied: pytz>=2014.9 in /usr/local/lib/python3.6/dist-packages (from prophet) (2018.9)\n",
            "Requirement already satisfied: pandas>=0.15.1 in /usr/local/lib/python3.6/dist-packages (from prophet) (0.25.3)\n",
            "Requirement already satisfied: six>=1.8.0 in /usr/local/lib/python3.6/dist-packages (from prophet) (1.12.0)\n",
            "Requirement already satisfied: python-dateutil>=2.6.1 in /usr/local/lib/python3.6/dist-packages (from pandas>=0.15.1->prophet) (2.6.1)\n",
            "Requirement already satisfied: numpy>=1.13.3 in /usr/local/lib/python3.6/dist-packages (from pandas>=0.15.1->prophet) (1.17.5)\n",
            "Building wheels for collected packages: prophet\n",
            "  Building wheel for prophet (setup.py) ... \u001b[?25l\u001b[?25hdone\n",
            "  Created wheel for prophet: filename=prophet-0.1.1-cp36-none-any.whl size=12168 sha256=f4a4ed8d375e2c67e05662c6049b433d46ff378f5610d0f8e9056993daa12c01\n",
            "  Stored in directory: /root/.cache/pip/wheels/77/3e/f3/1c536bf1f871f818686e7fbf31cab18d52787a72dea8640756\n",
            "Successfully built prophet\n",
            "Installing collected packages: prophet\n",
            "Successfully installed prophet-0.1.1\n"
          ],
          "name": "stdout"
        }
      ]
    },
    {
      "cell_type": "code",
      "metadata": {
        "id": "6kjcR7P8UOFM",
        "colab_type": "code",
        "colab": {}
      },
      "source": [
        "from fbprophet import Prophet\n"
      ],
      "execution_count": 0,
      "outputs": []
    },
    {
      "cell_type": "code",
      "metadata": {
        "id": "Aut9XklKkv8I",
        "colab_type": "code",
        "colab": {}
      },
      "source": [
        "Chinese.columns=['ds','y','Deaths','Recovered']"
      ],
      "execution_count": 0,
      "outputs": []
    },
    {
      "cell_type": "code",
      "metadata": {
        "id": "T3-tUovOmntr",
        "colab_type": "code",
        "colab": {}
      },
      "source": [
        "chinese=Chinese.drop(columns=['Recovered','Deaths'])"
      ],
      "execution_count": 0,
      "outputs": []
    },
    {
      "cell_type": "code",
      "metadata": {
        "id": "NtnfmNZUnAKR",
        "colab_type": "code",
        "outputId": "d92dcb79-f03b-41e6-92d3-c39f5d4998d7",
        "colab": {
          "base_uri": "https://localhost:8080/",
          "height": 88
        }
      },
      "source": [
        "m = Prophet()\n",
        "m.fit(chinese)\n"
      ],
      "execution_count": 0,
      "outputs": [
        {
          "output_type": "stream",
          "text": [
            "INFO:fbprophet:Disabling yearly seasonality. Run prophet with yearly_seasonality=True to override this.\n",
            "INFO:fbprophet:Disabling weekly seasonality. Run prophet with weekly_seasonality=True to override this.\n",
            "INFO:fbprophet:n_changepoints greater than number of observations.Using 7.\n"
          ],
          "name": "stderr"
        },
        {
          "output_type": "execute_result",
          "data": {
            "text/plain": [
              "<fbprophet.forecaster.Prophet at 0x7f414a4e0278>"
            ]
          },
          "metadata": {
            "tags": []
          },
          "execution_count": 340
        }
      ]
    },
    {
      "cell_type": "code",
      "metadata": {
        "id": "JxldK0gtnQQb",
        "colab_type": "code",
        "outputId": "b8a87a3c-8521-41c0-ab4f-0a15c1b1271d",
        "colab": {
          "base_uri": "https://localhost:8080/",
          "height": 194
        }
      },
      "source": [
        "future = m.make_future_dataframe(periods=7,include_history=True)\n",
        "future.tail()"
      ],
      "execution_count": 0,
      "outputs": [
        {
          "output_type": "execute_result",
          "data": {
            "text/html": [
              "<div>\n",
              "<style scoped>\n",
              "    .dataframe tbody tr th:only-of-type {\n",
              "        vertical-align: middle;\n",
              "    }\n",
              "\n",
              "    .dataframe tbody tr th {\n",
              "        vertical-align: top;\n",
              "    }\n",
              "\n",
              "    .dataframe thead th {\n",
              "        text-align: right;\n",
              "    }\n",
              "</style>\n",
              "<table border=\"1\" class=\"dataframe\">\n",
              "  <thead>\n",
              "    <tr style=\"text-align: right;\">\n",
              "      <th></th>\n",
              "      <th>ds</th>\n",
              "    </tr>\n",
              "  </thead>\n",
              "  <tbody>\n",
              "    <tr>\n",
              "      <th>12</th>\n",
              "      <td>2020-02-02 21:30:00</td>\n",
              "    </tr>\n",
              "    <tr>\n",
              "      <th>13</th>\n",
              "      <td>2020-02-03 21:30:00</td>\n",
              "    </tr>\n",
              "    <tr>\n",
              "      <th>14</th>\n",
              "      <td>2020-02-04 21:30:00</td>\n",
              "    </tr>\n",
              "    <tr>\n",
              "      <th>15</th>\n",
              "      <td>2020-02-05 21:30:00</td>\n",
              "    </tr>\n",
              "    <tr>\n",
              "      <th>16</th>\n",
              "      <td>2020-02-06 21:30:00</td>\n",
              "    </tr>\n",
              "  </tbody>\n",
              "</table>\n",
              "</div>"
            ],
            "text/plain": [
              "                    ds\n",
              "12 2020-02-02 21:30:00\n",
              "13 2020-02-03 21:30:00\n",
              "14 2020-02-04 21:30:00\n",
              "15 2020-02-05 21:30:00\n",
              "16 2020-02-06 21:30:00"
            ]
          },
          "metadata": {
            "tags": []
          },
          "execution_count": 362
        }
      ]
    },
    {
      "cell_type": "code",
      "metadata": {
        "id": "QBJEW6V9nd9S",
        "colab_type": "code",
        "outputId": "bdd45c86-55aa-4859-cf66-357afc28063f",
        "colab": {
          "base_uri": "https://localhost:8080/",
          "height": 194
        }
      },
      "source": [
        "forecast = m.predict(future)\n",
        "forecast[['ds', 'yhat', 'yhat_lower', 'yhat_upper']].tail()\n"
      ],
      "execution_count": 0,
      "outputs": [
        {
          "output_type": "execute_result",
          "data": {
            "text/html": [
              "<div>\n",
              "<style scoped>\n",
              "    .dataframe tbody tr th:only-of-type {\n",
              "        vertical-align: middle;\n",
              "    }\n",
              "\n",
              "    .dataframe tbody tr th {\n",
              "        vertical-align: top;\n",
              "    }\n",
              "\n",
              "    .dataframe thead th {\n",
              "        text-align: right;\n",
              "    }\n",
              "</style>\n",
              "<table border=\"1\" class=\"dataframe\">\n",
              "  <thead>\n",
              "    <tr style=\"text-align: right;\">\n",
              "      <th></th>\n",
              "      <th>ds</th>\n",
              "      <th>yhat</th>\n",
              "      <th>yhat_lower</th>\n",
              "      <th>yhat_upper</th>\n",
              "    </tr>\n",
              "  </thead>\n",
              "  <tbody>\n",
              "    <tr>\n",
              "      <th>12</th>\n",
              "      <td>2020-02-02 21:30:00</td>\n",
              "      <td>11388.767903</td>\n",
              "      <td>10358.962954</td>\n",
              "      <td>12466.034543</td>\n",
              "    </tr>\n",
              "    <tr>\n",
              "      <th>13</th>\n",
              "      <td>2020-02-03 21:30:00</td>\n",
              "      <td>12299.577751</td>\n",
              "      <td>11217.323964</td>\n",
              "      <td>13261.040391</td>\n",
              "    </tr>\n",
              "    <tr>\n",
              "      <th>14</th>\n",
              "      <td>2020-02-04 21:30:00</td>\n",
              "      <td>13210.387601</td>\n",
              "      <td>12194.150419</td>\n",
              "      <td>14266.787489</td>\n",
              "    </tr>\n",
              "    <tr>\n",
              "      <th>15</th>\n",
              "      <td>2020-02-05 21:30:00</td>\n",
              "      <td>14121.197450</td>\n",
              "      <td>13137.950937</td>\n",
              "      <td>15041.554091</td>\n",
              "    </tr>\n",
              "    <tr>\n",
              "      <th>16</th>\n",
              "      <td>2020-02-06 21:30:00</td>\n",
              "      <td>15032.007300</td>\n",
              "      <td>13956.748674</td>\n",
              "      <td>16023.241639</td>\n",
              "    </tr>\n",
              "  </tbody>\n",
              "</table>\n",
              "</div>"
            ],
            "text/plain": [
              "                    ds          yhat    yhat_lower    yhat_upper\n",
              "12 2020-02-02 21:30:00  11388.767903  10358.962954  12466.034543\n",
              "13 2020-02-03 21:30:00  12299.577751  11217.323964  13261.040391\n",
              "14 2020-02-04 21:30:00  13210.387601  12194.150419  14266.787489\n",
              "15 2020-02-05 21:30:00  14121.197450  13137.950937  15041.554091\n",
              "16 2020-02-06 21:30:00  15032.007300  13956.748674  16023.241639"
            ]
          },
          "metadata": {
            "tags": []
          },
          "execution_count": 363
        }
      ]
    },
    {
      "cell_type": "code",
      "metadata": {
        "id": "HaOKXhhHnhSK",
        "colab_type": "code",
        "outputId": "289e8f36-105e-4052-d12a-6a80a514963c",
        "colab": {
          "base_uri": "https://localhost:8080/",
          "height": 865
        }
      },
      "source": [
        "m.plot_components(forecast)"
      ],
      "execution_count": 0,
      "outputs": [
        {
          "output_type": "execute_result",
          "data": {
            "image/png": "[encoded data removed]",
            "text/plain": [
              "<Figure size 648x432 with 2 Axes>"
            ]
          },
          "metadata": {
            "tags": []
          },
          "execution_count": 364
        },
        {
          "output_type": "display_data",
          "data": {
            "image/png": "[encoded data removed]",
            "text/plain": [
              "<Figure size 648x432 with 2 Axes>"
            ]
          },
          "metadata": {
            "tags": []
          }
        }
      ]
    },
    {
      "cell_type": "code",
      "metadata": {
        "id": "c2DTEiZFnogI",
        "colab_type": "code",
        "colab": {}
      },
      "source": [
        "res=m.predict(future)"
      ],
      "execution_count": 0,
      "outputs": []
    },
    {
      "cell_type": "code",
      "metadata": {
        "id": "FTl6hKUPoUkJ",
        "colab_type": "code",
        "outputId": "3e13c94a-741c-4688-8dbc-297d44570997",
        "colab": {
          "base_uri": "https://localhost:8080/",
          "height": 1000
        }
      },
      "source": [
        "res"
      ],
      "execution_count": 0,
      "outputs": [
        {
          "output_type": "execute_result",
          "data": {
            "text/html": [
              "<div>\n",
              "<style scoped>\n",
              "    .dataframe tbody tr th:only-of-type {\n",
              "        vertical-align: middle;\n",
              "    }\n",
              "\n",
              "    .dataframe tbody tr th {\n",
              "        vertical-align: top;\n",
              "    }\n",
              "\n",
              "    .dataframe thead th {\n",
              "        text-align: right;\n",
              "    }\n",
              "</style>\n",
              "<table border=\"1\" class=\"dataframe\">\n",
              "  <thead>\n",
              "    <tr style=\"text-align: right;\">\n",
              "      <th></th>\n",
              "      <th>ds</th>\n",
              "      <th>trend</th>\n",
              "      <th>yhat_lower</th>\n",
              "      <th>yhat_upper</th>\n",
              "      <th>trend_lower</th>\n",
              "      <th>trend_upper</th>\n",
              "      <th>additive_terms</th>\n",
              "      <th>additive_terms_lower</th>\n",
              "      <th>additive_terms_upper</th>\n",
              "      <th>daily</th>\n",
              "      <th>daily_lower</th>\n",
              "      <th>daily_upper</th>\n",
              "      <th>multiplicative_terms</th>\n",
              "      <th>multiplicative_terms_lower</th>\n",
              "      <th>multiplicative_terms_upper</th>\n",
              "      <th>yhat</th>\n",
              "    </tr>\n",
              "  </thead>\n",
              "  <tbody>\n",
              "    <tr>\n",
              "      <th>0</th>\n",
              "      <td>2020-01-22 12:00:00</td>\n",
              "      <td>14016.811098</td>\n",
              "      <td>-1578.695342</td>\n",
              "      <td>376.259980</td>\n",
              "      <td>14016.811098</td>\n",
              "      <td>14016.811098</td>\n",
              "      <td>-14649.227535</td>\n",
              "      <td>-14649.227535</td>\n",
              "      <td>-14649.227535</td>\n",
              "      <td>-14649.227535</td>\n",
              "      <td>-14649.227535</td>\n",
              "      <td>-14649.227535</td>\n",
              "      <td>0.0</td>\n",
              "      <td>0.0</td>\n",
              "      <td>0.0</td>\n",
              "      <td>-632.416436</td>\n",
              "    </tr>\n",
              "    <tr>\n",
              "      <th>1</th>\n",
              "      <td>2020-01-23 12:00:00</td>\n",
              "      <td>14927.620666</td>\n",
              "      <td>-759.016567</td>\n",
              "      <td>1233.277838</td>\n",
              "      <td>14927.620666</td>\n",
              "      <td>14927.620666</td>\n",
              "      <td>-14649.227534</td>\n",
              "      <td>-14649.227534</td>\n",
              "      <td>-14649.227534</td>\n",
              "      <td>-14649.227534</td>\n",
              "      <td>-14649.227534</td>\n",
              "      <td>-14649.227534</td>\n",
              "      <td>0.0</td>\n",
              "      <td>0.0</td>\n",
              "      <td>0.0</td>\n",
              "      <td>278.393133</td>\n",
              "    </tr>\n",
              "    <tr>\n",
              "      <th>2</th>\n",
              "      <td>2020-01-24 12:00:00</td>\n",
              "      <td>15838.430235</td>\n",
              "      <td>212.288027</td>\n",
              "      <td>2282.089339</td>\n",
              "      <td>15838.430235</td>\n",
              "      <td>15838.430235</td>\n",
              "      <td>-14649.227534</td>\n",
              "      <td>-14649.227534</td>\n",
              "      <td>-14649.227534</td>\n",
              "      <td>-14649.227534</td>\n",
              "      <td>-14649.227534</td>\n",
              "      <td>-14649.227534</td>\n",
              "      <td>0.0</td>\n",
              "      <td>0.0</td>\n",
              "      <td>0.0</td>\n",
              "      <td>1189.202701</td>\n",
              "    </tr>\n",
              "    <tr>\n",
              "      <th>3</th>\n",
              "      <td>2020-01-25 12:00:00</td>\n",
              "      <td>16749.239804</td>\n",
              "      <td>1091.746470</td>\n",
              "      <td>3052.901176</td>\n",
              "      <td>16749.239804</td>\n",
              "      <td>16749.239804</td>\n",
              "      <td>-14649.227534</td>\n",
              "      <td>-14649.227534</td>\n",
              "      <td>-14649.227534</td>\n",
              "      <td>-14649.227534</td>\n",
              "      <td>-14649.227534</td>\n",
              "      <td>-14649.227534</td>\n",
              "      <td>0.0</td>\n",
              "      <td>0.0</td>\n",
              "      <td>0.0</td>\n",
              "      <td>2100.012271</td>\n",
              "    </tr>\n",
              "    <tr>\n",
              "      <th>4</th>\n",
              "      <td>2020-01-25 22:00:00</td>\n",
              "      <td>17128.743909</td>\n",
              "      <td>698.413147</td>\n",
              "      <td>2703.725442</td>\n",
              "      <td>17128.743909</td>\n",
              "      <td>17128.743909</td>\n",
              "      <td>-15440.539965</td>\n",
              "      <td>-15440.539965</td>\n",
              "      <td>-15440.539965</td>\n",
              "      <td>-15440.539965</td>\n",
              "      <td>-15440.539965</td>\n",
              "      <td>-15440.539965</td>\n",
              "      <td>0.0</td>\n",
              "      <td>0.0</td>\n",
              "      <td>0.0</td>\n",
              "      <td>1688.203943</td>\n",
              "    </tr>\n",
              "    <tr>\n",
              "      <th>5</th>\n",
              "      <td>2020-01-26 23:00:00</td>\n",
              "      <td>18077.504169</td>\n",
              "      <td>2501.485119</td>\n",
              "      <td>4446.280129</td>\n",
              "      <td>18077.504169</td>\n",
              "      <td>18077.504169</td>\n",
              "      <td>-14661.589542</td>\n",
              "      <td>-14661.589542</td>\n",
              "      <td>-14661.589542</td>\n",
              "      <td>-14661.589542</td>\n",
              "      <td>-14661.589542</td>\n",
              "      <td>-14661.589542</td>\n",
              "      <td>0.0</td>\n",
              "      <td>0.0</td>\n",
              "      <td>0.0</td>\n",
              "      <td>3415.914627</td>\n",
              "    </tr>\n",
              "    <tr>\n",
              "      <th>6</th>\n",
              "      <td>2020-01-27 20:30:00</td>\n",
              "      <td>18893.437993</td>\n",
              "      <td>3213.056281</td>\n",
              "      <td>5215.110020</td>\n",
              "      <td>18893.437993</td>\n",
              "      <td>18893.437993</td>\n",
              "      <td>-14685.302830</td>\n",
              "      <td>-14685.302830</td>\n",
              "      <td>-14685.302830</td>\n",
              "      <td>-14685.302830</td>\n",
              "      <td>-14685.302830</td>\n",
              "      <td>-14685.302830</td>\n",
              "      <td>0.0</td>\n",
              "      <td>0.0</td>\n",
              "      <td>0.0</td>\n",
              "      <td>4208.135163</td>\n",
              "    </tr>\n",
              "    <tr>\n",
              "      <th>7</th>\n",
              "      <td>2020-01-28 23:00:00</td>\n",
              "      <td>19899.123869</td>\n",
              "      <td>4235.275071</td>\n",
              "      <td>6220.373795</td>\n",
              "      <td>19899.123869</td>\n",
              "      <td>19899.123869</td>\n",
              "      <td>-14661.589542</td>\n",
              "      <td>-14661.589542</td>\n",
              "      <td>-14661.589542</td>\n",
              "      <td>-14661.589542</td>\n",
              "      <td>-14661.589542</td>\n",
              "      <td>-14661.589542</td>\n",
              "      <td>0.0</td>\n",
              "      <td>0.0</td>\n",
              "      <td>0.0</td>\n",
              "      <td>5237.534327</td>\n",
              "    </tr>\n",
              "    <tr>\n",
              "      <th>8</th>\n",
              "      <td>2020-01-29 21:00:00</td>\n",
              "      <td>20734.032898</td>\n",
              "      <td>7390.092176</td>\n",
              "      <td>9459.262255</td>\n",
              "      <td>20734.032898</td>\n",
              "      <td>20734.032898</td>\n",
              "      <td>-12294.903747</td>\n",
              "      <td>-12294.903747</td>\n",
              "      <td>-12294.903747</td>\n",
              "      <td>-12294.903747</td>\n",
              "      <td>-12294.903747</td>\n",
              "      <td>-12294.903747</td>\n",
              "      <td>0.0</td>\n",
              "      <td>0.0</td>\n",
              "      <td>0.0</td>\n",
              "      <td>8439.129150</td>\n",
              "    </tr>\n",
              "    <tr>\n",
              "      <th>9</th>\n",
              "      <td>2020-01-30 21:30:00</td>\n",
              "      <td>21663.817952</td>\n",
              "      <td>7640.869616</td>\n",
              "      <td>9610.126680</td>\n",
              "      <td>21663.817952</td>\n",
              "      <td>21663.817952</td>\n",
              "      <td>-13007.479598</td>\n",
              "      <td>-13007.479598</td>\n",
              "      <td>-13007.479598</td>\n",
              "      <td>-13007.479598</td>\n",
              "      <td>-13007.479598</td>\n",
              "      <td>-13007.479598</td>\n",
              "      <td>0.0</td>\n",
              "      <td>0.0</td>\n",
              "      <td>0.0</td>\n",
              "      <td>8656.338354</td>\n",
              "    </tr>\n",
              "    <tr>\n",
              "      <th>10</th>\n",
              "      <td>2020-01-31 21:30:00</td>\n",
              "      <td>22574.627802</td>\n",
              "      <td>8642.806186</td>\n",
              "      <td>10559.735026</td>\n",
              "      <td>22574.627767</td>\n",
              "      <td>22574.627824</td>\n",
              "      <td>-13007.479598</td>\n",
              "      <td>-13007.479598</td>\n",
              "      <td>-13007.479598</td>\n",
              "      <td>-13007.479598</td>\n",
              "      <td>-13007.479598</td>\n",
              "      <td>-13007.479598</td>\n",
              "      <td>0.0</td>\n",
              "      <td>0.0</td>\n",
              "      <td>0.0</td>\n",
              "      <td>9567.148204</td>\n",
              "    </tr>\n",
              "    <tr>\n",
              "      <th>11</th>\n",
              "      <td>2020-02-01 21:30:00</td>\n",
              "      <td>23485.437651</td>\n",
              "      <td>9484.886400</td>\n",
              "      <td>11448.369020</td>\n",
              "      <td>23485.437536</td>\n",
              "      <td>23485.437749</td>\n",
              "      <td>-13007.479598</td>\n",
              "      <td>-13007.479598</td>\n",
              "      <td>-13007.479598</td>\n",
              "      <td>-13007.479598</td>\n",
              "      <td>-13007.479598</td>\n",
              "      <td>-13007.479598</td>\n",
              "      <td>0.0</td>\n",
              "      <td>0.0</td>\n",
              "      <td>0.0</td>\n",
              "      <td>10477.958053</td>\n",
              "    </tr>\n",
              "    <tr>\n",
              "      <th>12</th>\n",
              "      <td>2020-02-02 21:30:00</td>\n",
              "      <td>24396.247500</td>\n",
              "      <td>10441.804014</td>\n",
              "      <td>12329.000628</td>\n",
              "      <td>24396.247274</td>\n",
              "      <td>24396.247700</td>\n",
              "      <td>-13007.479598</td>\n",
              "      <td>-13007.479598</td>\n",
              "      <td>-13007.479598</td>\n",
              "      <td>-13007.479598</td>\n",
              "      <td>-13007.479598</td>\n",
              "      <td>-13007.479598</td>\n",
              "      <td>0.0</td>\n",
              "      <td>0.0</td>\n",
              "      <td>0.0</td>\n",
              "      <td>11388.767903</td>\n",
              "    </tr>\n",
              "    <tr>\n",
              "      <th>13</th>\n",
              "      <td>2020-02-03 21:30:00</td>\n",
              "      <td>25307.057350</td>\n",
              "      <td>11286.669090</td>\n",
              "      <td>13319.370558</td>\n",
              "      <td>25307.057002</td>\n",
              "      <td>25307.057688</td>\n",
              "      <td>-13007.479598</td>\n",
              "      <td>-13007.479598</td>\n",
              "      <td>-13007.479598</td>\n",
              "      <td>-13007.479598</td>\n",
              "      <td>-13007.479598</td>\n",
              "      <td>-13007.479598</td>\n",
              "      <td>0.0</td>\n",
              "      <td>0.0</td>\n",
              "      <td>0.0</td>\n",
              "      <td>12299.577751</td>\n",
              "    </tr>\n",
              "    <tr>\n",
              "      <th>14</th>\n",
              "      <td>2020-02-04 21:30:00</td>\n",
              "      <td>26217.867199</td>\n",
              "      <td>12162.105321</td>\n",
              "      <td>14200.767196</td>\n",
              "      <td>26217.866706</td>\n",
              "      <td>26217.867684</td>\n",
              "      <td>-13007.479598</td>\n",
              "      <td>-13007.479598</td>\n",
              "      <td>-13007.479598</td>\n",
              "      <td>-13007.479598</td>\n",
              "      <td>-13007.479598</td>\n",
              "      <td>-13007.479598</td>\n",
              "      <td>0.0</td>\n",
              "      <td>0.0</td>\n",
              "      <td>0.0</td>\n",
              "      <td>13210.387601</td>\n",
              "    </tr>\n",
              "    <tr>\n",
              "      <th>15</th>\n",
              "      <td>2020-02-05 21:30:00</td>\n",
              "      <td>27128.677048</td>\n",
              "      <td>13140.471040</td>\n",
              "      <td>15140.364810</td>\n",
              "      <td>27128.676396</td>\n",
              "      <td>27128.677677</td>\n",
              "      <td>-13007.479598</td>\n",
              "      <td>-13007.479598</td>\n",
              "      <td>-13007.479598</td>\n",
              "      <td>-13007.479598</td>\n",
              "      <td>-13007.479598</td>\n",
              "      <td>-13007.479598</td>\n",
              "      <td>0.0</td>\n",
              "      <td>0.0</td>\n",
              "      <td>0.0</td>\n",
              "      <td>14121.197450</td>\n",
              "    </tr>\n",
              "    <tr>\n",
              "      <th>16</th>\n",
              "      <td>2020-02-06 21:30:00</td>\n",
              "      <td>28039.486898</td>\n",
              "      <td>14025.924885</td>\n",
              "      <td>16085.273264</td>\n",
              "      <td>28039.486078</td>\n",
              "      <td>28039.487700</td>\n",
              "      <td>-13007.479598</td>\n",
              "      <td>-13007.479598</td>\n",
              "      <td>-13007.479598</td>\n",
              "      <td>-13007.479598</td>\n",
              "      <td>-13007.479598</td>\n",
              "      <td>-13007.479598</td>\n",
              "      <td>0.0</td>\n",
              "      <td>0.0</td>\n",
              "      <td>0.0</td>\n",
              "      <td>15032.007300</td>\n",
              "    </tr>\n",
              "  </tbody>\n",
              "</table>\n",
              "</div>"
            ],
            "text/plain": [
              "                    ds         trend  ...  multiplicative_terms_upper          yhat\n",
              "0  2020-01-22 12:00:00  14016.811098  ...                         0.0   -632.416436\n",
              "1  2020-01-23 12:00:00  14927.620666  ...                         0.0    278.393133\n",
              "2  2020-01-24 12:00:00  15838.430235  ...                         0.0   1189.202701\n",
              "3  2020-01-25 12:00:00  16749.239804  ...                         0.0   2100.012271\n",
              "4  2020-01-25 22:00:00  17128.743909  ...                         0.0   1688.203943\n",
              "5  2020-01-26 23:00:00  18077.504169  ...                         0.0   3415.914627\n",
              "6  2020-01-27 20:30:00  18893.437993  ...                         0.0   4208.135163\n",
              "7  2020-01-28 23:00:00  19899.123869  ...                         0.0   5237.534327\n",
              "8  2020-01-29 21:00:00  20734.032898  ...                         0.0   8439.129150\n",
              "9  2020-01-30 21:30:00  21663.817952  ...                         0.0   8656.338354\n",
              "10 2020-01-31 21:30:00  22574.627802  ...                         0.0   9567.148204\n",
              "11 2020-02-01 21:30:00  23485.437651  ...                         0.0  10477.958053\n",
              "12 2020-02-02 21:30:00  24396.247500  ...                         0.0  11388.767903\n",
              "13 2020-02-03 21:30:00  25307.057350  ...                         0.0  12299.577751\n",
              "14 2020-02-04 21:30:00  26217.867199  ...                         0.0  13210.387601\n",
              "15 2020-02-05 21:30:00  27128.677048  ...                         0.0  14121.197450\n",
              "16 2020-02-06 21:30:00  28039.486898  ...                         0.0  15032.007300\n",
              "\n",
              "[17 rows x 16 columns]"
            ]
          },
          "metadata": {
            "tags": []
          },
          "execution_count": 366
        }
      ]
    },
    {
      "cell_type": "code",
      "metadata": {
        "id": "S6CCx5k-o-uq",
        "colab_type": "code",
        "outputId": "a23fbeac-9f8e-4478-f821-0ed67f376ab5",
        "colab": {
          "base_uri": "https://localhost:8080/",
          "height": 319
        }
      },
      "source": [
        "res.iloc[10]"
      ],
      "execution_count": 0,
      "outputs": [
        {
          "output_type": "execute_result",
          "data": {
            "text/plain": [
              "ds                            2020-01-31 21:30:00\n",
              "trend                                     22574.6\n",
              "yhat_lower                                8641.42\n",
              "yhat_upper                                10557.7\n",
              "trend_lower                               22574.6\n",
              "trend_upper                               22574.6\n",
              "additive_terms                           -13007.5\n",
              "additive_terms_lower                     -13007.5\n",
              "additive_terms_upper                     -13007.5\n",
              "daily                                    -13007.5\n",
              "daily_lower                              -13007.5\n",
              "daily_upper                              -13007.5\n",
              "multiplicative_terms                            0\n",
              "multiplicative_terms_lower                      0\n",
              "multiplicative_terms_upper                      0\n",
              "yhat                                      9567.15\n",
              "Name: 10, dtype: object"
            ]
          },
          "metadata": {
            "tags": []
          },
          "execution_count": 331
        }
      ]
    },
    {
      "cell_type": "code",
      "metadata": {
        "id": "1Sb_fVVWpE8Q",
        "colab_type": "code",
        "outputId": "a7f20384-a471-413f-8467-f2a890c3b9e6",
        "colab": {
          "base_uri": "https://localhost:8080/",
          "height": 865
        }
      },
      "source": [
        "m.plot(res)"
      ],
      "execution_count": 0,
      "outputs": [
        {
          "output_type": "execute_result",
          "data": {
            "image/png": "[encoded data removed]",
            "text/plain": [
              "<Figure size 720x432 with 1 Axes>"
            ]
          },
          "metadata": {
            "tags": []
          },
          "execution_count": 337
        },
        {
          "output_type": "display_data",
          "data": {
            "image/png": "[encoded data removed]",
            "text/plain": [
              "<Figure size 720x432 with 1 Axes>"
            ]
          },
          "metadata": {
            "tags": []
          }
        }
      ]
    },
    {
      "cell_type": "code",
      "metadata": {
        "id": "Ibx9Jo7rph-k",
        "colab_type": "code",
        "colab": {}
      },
      "source": [
        ""
      ],
      "execution_count": 0,
      "outputs": []
    },
    {
      "cell_type": "markdown",
      "metadata": {
        "id": "qjOL8yWR60jR",
        "colab_type": "text"
      },
      "source": [
        "# CLEANED NEW PART"
      ]
    },
    {
      "cell_type": "code",
      "metadata": {
        "id": "MA1Yt1fo62oj",
        "colab_type": "code",
        "colab": {}
      },
      "source": [
        "data=pd.read_csv(\"/content/china.csv\")"
      ],
      "execution_count": 0,
      "outputs": []
    },
    {
      "cell_type": "code",
      "metadata": {
        "id": "CRvt6V457Fta",
        "colab_type": "code",
        "colab": {}
      },
      "source": [
        "data.columns=['DROPPER','Provinces','Country','Last Update'\t,'Confirmed'\t,'Deaths'\t,'Recovered']"
      ],
      "execution_count": 0,
      "outputs": []
    },
    {
      "cell_type": "code",
      "metadata": {
        "id": "wGhchIxS7Ggj",
        "colab_type": "code",
        "colab": {}
      },
      "source": [
        "data=data.drop(columns=['DROPPER','Provinces','Country','Deaths','Recovered'])"
      ],
      "execution_count": 0,
      "outputs": []
    },
    {
      "cell_type": "code",
      "metadata": {
        "id": "rxKLA2rY7UZm",
        "colab_type": "code",
        "colab": {}
      },
      "source": [
        "data.columns=['ds','y']"
      ],
      "execution_count": 0,
      "outputs": []
    },
    {
      "cell_type": "code",
      "metadata": {
        "id": "sVwA8zm67tyR",
        "colab_type": "code",
        "outputId": "f489c0d9-9d0b-4d75-d432-11e7f0dae309",
        "colab": {
          "base_uri": "https://localhost:8080/",
          "height": 229
        }
      },
      "source": [
        "from fbprophet import Prophet\n",
        "m = Prophet()\n",
        "m.fit(naan)\n",
        "future = m.make_future_dataframe(periods=2,freq='d')\n",
        "future.tail()\n",
        "forecast = m.predict(future)\n",
        "forecast[['ds', 'yhat', 'yhat_lower', 'yhat_upper']].tail()"
      ],
      "execution_count": 0,
      "outputs": [
        {
          "output_type": "stream",
          "text": [
            "INFO:fbprophet:Disabling yearly seasonality. Run prophet with yearly_seasonality=True to override this.\n",
            "INFO:fbprophet:Disabling weekly seasonality. Run prophet with weekly_seasonality=True to override this.\n"
          ],
          "name": "stderr"
        },
        {
          "output_type": "execute_result",
          "data": {
            "text/html": [
              "<div>\n",
              "<style scoped>\n",
              "    .dataframe tbody tr th:only-of-type {\n",
              "        vertical-align: middle;\n",
              "    }\n",
              "\n",
              "    .dataframe tbody tr th {\n",
              "        vertical-align: top;\n",
              "    }\n",
              "\n",
              "    .dataframe thead th {\n",
              "        text-align: right;\n",
              "    }\n",
              "</style>\n",
              "<table border=\"1\" class=\"dataframe\">\n",
              "  <thead>\n",
              "    <tr style=\"text-align: right;\">\n",
              "      <th></th>\n",
              "      <th>ds</th>\n",
              "      <th>yhat</th>\n",
              "      <th>yhat_lower</th>\n",
              "      <th>yhat_upper</th>\n",
              "    </tr>\n",
              "  </thead>\n",
              "  <tbody>\n",
              "    <tr>\n",
              "      <th>401</th>\n",
              "      <td>2020-01-30 21:30:00</td>\n",
              "      <td>284.669331</td>\n",
              "      <td>-247.332107</td>\n",
              "      <td>817.933405</td>\n",
              "    </tr>\n",
              "    <tr>\n",
              "      <th>402</th>\n",
              "      <td>2020-01-30 21:30:00</td>\n",
              "      <td>284.669331</td>\n",
              "      <td>-262.057132</td>\n",
              "      <td>828.740476</td>\n",
              "    </tr>\n",
              "    <tr>\n",
              "      <th>403</th>\n",
              "      <td>2020-01-30 21:30:00</td>\n",
              "      <td>284.669331</td>\n",
              "      <td>-279.703899</td>\n",
              "      <td>834.699035</td>\n",
              "    </tr>\n",
              "    <tr>\n",
              "      <th>404</th>\n",
              "      <td>2020-01-31 21:30:00</td>\n",
              "      <td>291.022828</td>\n",
              "      <td>-236.213101</td>\n",
              "      <td>840.514340</td>\n",
              "    </tr>\n",
              "    <tr>\n",
              "      <th>405</th>\n",
              "      <td>2020-02-01 21:30:00</td>\n",
              "      <td>297.376325</td>\n",
              "      <td>-251.902110</td>\n",
              "      <td>797.270394</td>\n",
              "    </tr>\n",
              "  </tbody>\n",
              "</table>\n",
              "</div>"
            ],
            "text/plain": [
              "                     ds        yhat  yhat_lower  yhat_upper\n",
              "401 2020-01-30 21:30:00  284.669331 -247.332107  817.933405\n",
              "402 2020-01-30 21:30:00  284.669331 -262.057132  828.740476\n",
              "403 2020-01-30 21:30:00  284.669331 -279.703899  834.699035\n",
              "404 2020-01-31 21:30:00  291.022828 -236.213101  840.514340\n",
              "405 2020-02-01 21:30:00  297.376325 -251.902110  797.270394"
            ]
          },
          "metadata": {
            "tags": []
          },
          "execution_count": 528
        }
      ]
    },
    {
      "cell_type": "code",
      "metadata": {
        "id": "A-DXE2_I-uut",
        "colab_type": "code",
        "outputId": "8567c6c4-24c9-427b-f009-e201e1d695af",
        "colab": {
          "base_uri": "https://localhost:8080/",
          "height": 865
        }
      },
      "source": [
        "m.plot_components(forecast)"
      ],
      "execution_count": 0,
      "outputs": [
        {
          "output_type": "execute_result",
          "data": {
            "image/png": "[encoded data removed]",
            "text/plain": [
              "<Figure size 648x432 with 2 Axes>"
            ]
          },
          "metadata": {
            "tags": []
          },
          "execution_count": 529
        },
        {
          "output_type": "display_data",
          "data": {
            "image/png": "[encoded data removed]",
            "text/plain": [
              "<Figure size 648x432 with 2 Axes>"
            ]
          },
          "metadata": {
            "tags": []
          }
        }
      ]
    },
    {
      "cell_type": "code",
      "metadata": {
        "id": "nO-ci7pF8a8v",
        "colab_type": "code",
        "colab": {}
      },
      "source": [
        "res=m.predict(future)"
      ],
      "execution_count": 0,
      "outputs": []
    },
    {
      "cell_type": "code",
      "metadata": {
        "id": "aBunjw34_dvf",
        "colab_type": "code",
        "outputId": "2a835222-0329-4140-f4de-cfb9904a6b48",
        "colab": {
          "base_uri": "https://localhost:8080/",
          "height": 399
        }
      },
      "source": [
        "res.groupby('ds')['yhat'].sum().reset_index()"
      ],
      "execution_count": 0,
      "outputs": [
        {
          "output_type": "execute_result",
          "data": {
            "text/html": [
              "<div>\n",
              "<style scoped>\n",
              "    .dataframe tbody tr th:only-of-type {\n",
              "        vertical-align: middle;\n",
              "    }\n",
              "\n",
              "    .dataframe tbody tr th {\n",
              "        vertical-align: top;\n",
              "    }\n",
              "\n",
              "    .dataframe thead th {\n",
              "        text-align: right;\n",
              "    }\n",
              "</style>\n",
              "<table border=\"1\" class=\"dataframe\">\n",
              "  <thead>\n",
              "    <tr style=\"text-align: right;\">\n",
              "      <th></th>\n",
              "      <th>ds</th>\n",
              "      <th>yhat</th>\n",
              "    </tr>\n",
              "  </thead>\n",
              "  <tbody>\n",
              "    <tr>\n",
              "      <th>0</th>\n",
              "      <td>2020-01-22 12:00:00</td>\n",
              "      <td>473.242707</td>\n",
              "    </tr>\n",
              "    <tr>\n",
              "      <th>1</th>\n",
              "      <td>2020-01-23 12:00:00</td>\n",
              "      <td>670.160790</td>\n",
              "    </tr>\n",
              "    <tr>\n",
              "      <th>2</th>\n",
              "      <td>2020-01-24 12:00:00</td>\n",
              "      <td>854.300973</td>\n",
              "    </tr>\n",
              "    <tr>\n",
              "      <th>3</th>\n",
              "      <td>2020-01-25 12:00:00</td>\n",
              "      <td>925.411913</td>\n",
              "    </tr>\n",
              "    <tr>\n",
              "      <th>4</th>\n",
              "      <td>2020-01-25 22:00:00</td>\n",
              "      <td>545.427501</td>\n",
              "    </tr>\n",
              "    <tr>\n",
              "      <th>5</th>\n",
              "      <td>2020-01-26 23:00:00</td>\n",
              "      <td>3312.286877</td>\n",
              "    </tr>\n",
              "    <tr>\n",
              "      <th>6</th>\n",
              "      <td>2020-01-27 20:30:00</td>\n",
              "      <td>3636.721631</td>\n",
              "    </tr>\n",
              "    <tr>\n",
              "      <th>7</th>\n",
              "      <td>2020-01-28 23:00:00</td>\n",
              "      <td>6043.230856</td>\n",
              "    </tr>\n",
              "    <tr>\n",
              "      <th>8</th>\n",
              "      <td>2020-01-29 21:00:00</td>\n",
              "      <td>10489.585840</td>\n",
              "    </tr>\n",
              "    <tr>\n",
              "      <th>9</th>\n",
              "      <td>2020-01-30 21:30:00</td>\n",
              "      <td>8255.410605</td>\n",
              "    </tr>\n",
              "    <tr>\n",
              "      <th>10</th>\n",
              "      <td>2020-01-31 21:30:00</td>\n",
              "      <td>291.022828</td>\n",
              "    </tr>\n",
              "    <tr>\n",
              "      <th>11</th>\n",
              "      <td>2020-02-01 21:30:00</td>\n",
              "      <td>297.376325</td>\n",
              "    </tr>\n",
              "  </tbody>\n",
              "</table>\n",
              "</div>"
            ],
            "text/plain": [
              "                    ds          yhat\n",
              "0  2020-01-22 12:00:00    473.242707\n",
              "1  2020-01-23 12:00:00    670.160790\n",
              "2  2020-01-24 12:00:00    854.300973\n",
              "3  2020-01-25 12:00:00    925.411913\n",
              "4  2020-01-25 22:00:00    545.427501\n",
              "5  2020-01-26 23:00:00   3312.286877\n",
              "6  2020-01-27 20:30:00   3636.721631\n",
              "7  2020-01-28 23:00:00   6043.230856\n",
              "8  2020-01-29 21:00:00  10489.585840\n",
              "9  2020-01-30 21:30:00   8255.410605\n",
              "10 2020-01-31 21:30:00    291.022828\n",
              "11 2020-02-01 21:30:00    297.376325"
            ]
          },
          "metadata": {
            "tags": []
          },
          "execution_count": 534
        }
      ]
    },
    {
      "cell_type": "code",
      "metadata": {
        "id": "x-HcvKhH-6S8",
        "colab_type": "code",
        "outputId": "d8db3414-b168-4bbe-b19c-81181e8bdf08",
        "colab": {
          "base_uri": "https://localhost:8080/",
          "height": 865
        }
      },
      "source": [
        "m.plot(res)"
      ],
      "execution_count": 0,
      "outputs": [
        {
          "output_type": "execute_result",
          "data": {
            "image/png": "[encoded data removed]",
            "text/plain": [
              "<Figure size 720x432 with 1 Axes>"
            ]
          },
          "metadata": {
            "tags": []
          },
          "execution_count": 532
        },
        {
          "output_type": "display_data",
          "data": {
            "image/png": "[encoded data removed]",
            "text/plain": [
              "<Figure size 720x432 with 1 Axes>"
            ]
          },
          "metadata": {
            "tags": []
          }
        }
      ]
    }
  ]
}