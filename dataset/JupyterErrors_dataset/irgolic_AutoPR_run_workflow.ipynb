{
 "cells": [
  {
   "cell_type": "code",
   "execution_count": 2,
   "metadata": {},
   "outputs": [
    {
     "ename": "AttributeError",
     "evalue": "partially initialized module 'autopr.actions' has no attribute 'comment' (most likely due to a circular import)",
     "output_type": "error",
     "traceback": [
      "\u001B[0;31m---------------------------------------------------------------------------\u001B[0m",
      "\u001B[0;31mAttributeError\u001B[0m                            Traceback (most recent call last)",
      "Cell \u001B[0;32mIn[2], line 2\u001B[0m\n\u001B[1;32m      1\u001B[0m \u001B[39mfrom\u001B[39;00m \u001B[39mautopr\u001B[39;00m\u001B[39m.\u001B[39;00m\u001B[39mmodels\u001B[39;00m\u001B[39m.\u001B[39;00m\u001B[39mexecutable\u001B[39;00m \u001B[39mimport\u001B[39;00m ExecutableId, ContextDict\n\u001B[0;32m----> 2\u001B[0m \u001B[39mfrom\u001B[39;00m \u001B[39mautopr\u001B[39;00m\u001B[39m.\u001B[39;00m\u001B[39mtests\u001B[39;00m\u001B[39m.\u001B[39;00m\u001B[39mutils\u001B[39;00m \u001B[39mimport\u001B[39;00m run_workflow_manually\n\u001B[1;32m      5\u001B[0m \u001B[39m# ---\u001B[39;00m\n\u001B[1;32m      6\u001B[0m \n\u001B[1;32m      7\u001B[0m \n\u001B[1;32m      8\u001B[0m \u001B[39m# The repo you'd like to run the workflow on (see tests/repo_resources)\u001B[39;00m\n\u001B[1;32m      9\u001B[0m repo_resource \u001B[39m=\u001B[39m \u001B[39m\"\u001B[39m\u001B[39mexample_repo_1\u001B[39m\u001B[39m\"\u001B[39m\n",
      "File \u001B[0;32m~/Documents/AutoPR/AutoPR/autopr/tests/utils.py:10\u001B[0m\n\u001B[1;32m      6\u001B[0m \u001B[39mfrom\u001B[39;00m \u001B[39munittest\u001B[39;00m\u001B[39m.\u001B[39;00m\u001B[39mmock\u001B[39;00m \u001B[39mimport\u001B[39;00m patch\n\u001B[1;32m      8\u001B[0m \u001B[39mimport\u001B[39;00m \u001B[39mpydantic\u001B[39;00m\n\u001B[0;32m---> 10\u001B[0m \u001B[39mfrom\u001B[39;00m \u001B[39mautopr\u001B[39;00m\u001B[39m.\u001B[39;00m\u001B[39mmain\u001B[39;00m \u001B[39mimport\u001B[39;00m MainService\n\u001B[1;32m     11\u001B[0m \u001B[39mfrom\u001B[39;00m \u001B[39mautopr\u001B[39;00m\u001B[39m.\u001B[39;00m\u001B[39mmodels\u001B[39;00m\u001B[39m.\u001B[39;00m\u001B[39martifacts\u001B[39;00m \u001B[39mimport\u001B[39;00m Issue, Message\n\u001B[1;32m     12\u001B[0m \u001B[39mfrom\u001B[39;00m \u001B[39mautopr\u001B[39;00m\u001B[39m.\u001B[39;00m\u001B[39mmodels\u001B[39;00m\u001B[39m.\u001B[39;00m\u001B[39mconfig\u001B[39;00m\u001B[39m.\u001B[39;00m\u001B[39melements\u001B[39;00m \u001B[39mimport\u001B[39;00m ActionConfig, WorkflowDefinition\n",
      "File \u001B[0;32m~/Documents/AutoPR/AutoPR/autopr/main.py:13\u001B[0m\n\u001B[1;32m     11\u001B[0m \u001B[39mfrom\u001B[39;00m \u001B[39m.\u001B[39;00m\u001B[39mactions\u001B[39;00m\u001B[39m.\u001B[39;00m\u001B[39mbase\u001B[39;00m \u001B[39mimport\u001B[39;00m get_actions_dict\n\u001B[1;32m     12\u001B[0m \u001B[39mfrom\u001B[39;00m \u001B[39m.\u001B[39;00m\u001B[39mlog_config\u001B[39;00m \u001B[39mimport\u001B[39;00m get_logger\n\u001B[0;32m---> 13\u001B[0m \u001B[39mfrom\u001B[39;00m \u001B[39m.\u001B[39;00m\u001B[39mmodels\u001B[39;00m\u001B[39m.\u001B[39;00m\u001B[39mconfig\u001B[39;00m\u001B[39m.\u001B[39;00m\u001B[39melements\u001B[39;00m \u001B[39mimport\u001B[39;00m TopLevelWorkflowConfig\n\u001B[1;32m     14\u001B[0m \u001B[39mfrom\u001B[39;00m \u001B[39m.\u001B[39;00m\u001B[39mmodels\u001B[39;00m\u001B[39m.\u001B[39;00m\u001B[39mconfig\u001B[39;00m\u001B[39m.\u001B[39;00m\u001B[39mentrypoints\u001B[39;00m \u001B[39mimport\u001B[39;00m TopLevelTriggerConfig, Trigger\n\u001B[1;32m     15\u001B[0m \u001B[39mfrom\u001B[39;00m \u001B[39m.\u001B[39;00m\u001B[39mmodels\u001B[39;00m\u001B[39m.\u001B[39;00m\u001B[39mevents\u001B[39;00m \u001B[39mimport\u001B[39;00m EventUnion, IssueLabelEvent, PullRequestCommentEvent\n",
      "File \u001B[0;32m~/Documents/AutoPR/AutoPR/autopr/models/config/elements.py:258\u001B[0m\n\u001B[1;32m    254\u001B[0m         action_models\u001B[39m.\u001B[39mappend(iterable_action_basemodel)\n\u001B[1;32m    255\u001B[0m     \u001B[39mreturn\u001B[39;00m action_models\n\u001B[0;32m--> 258\u001B[0m ActionConfigs \u001B[39m=\u001B[39m Union[\u001B[39mtuple\u001B[39m(build_actions())]  \u001B[39m# pyright: ignore\u001B[39;00m\n\u001B[1;32m    260\u001B[0m \u001B[39m# Structures that require input values and return output values\u001B[39;00m\n\u001B[1;32m    261\u001B[0m \u001B[39m# (e.g. for invoking workflows, or making a choice)\u001B[39;00m\n\u001B[1;32m    264\u001B[0m \u001B[39mclass\u001B[39;00m \u001B[39mIOValuesModel\u001B[39;00m(ExecModel):\n\u001B[1;32m    265\u001B[0m     \u001B[39m#: Parses template string into the input, and passes it to the executable\u001B[39;00m\n",
      "File \u001B[0;32m~/Documents/AutoPR/AutoPR/autopr/models/config/elements.py:210\u001B[0m, in \u001B[0;36mbuild_actions\u001B[0;34m()\u001B[0m\n\u001B[1;32m    206\u001B[0m         default \u001B[39m=\u001B[39m {}\n\u001B[1;32m    208\u001B[0m     \u001B[39mreturn\u001B[39;00m inputs_template, default\n\u001B[0;32m--> 210\u001B[0m actions \u001B[39m=\u001B[39m get_actions_dict()\n\u001B[1;32m    211\u001B[0m action_models \u001B[39m=\u001B[39m []\n\u001B[1;32m    212\u001B[0m \u001B[39mfor\u001B[39;00m action \u001B[39min\u001B[39;00m actions\u001B[39m.\u001B[39mvalues():\n\u001B[1;32m    213\u001B[0m     \u001B[39m# build input fields\u001B[39;00m\n",
      "File \u001B[0;32m~/Documents/AutoPR/AutoPR/autopr/actions/base.py:117\u001B[0m, in \u001B[0;36mget_actions_dict\u001B[0;34m()\u001B[0m\n\u001B[1;32m    115\u001B[0m \u001B[39mdef\u001B[39;00m \u001B[39mget_actions_dict\u001B[39m() \u001B[39m-\u001B[39m\u001B[39m>\u001B[39m \u001B[39mdict\u001B[39m[ExecutableId, Type[Action[Any, Any]]]:\n\u001B[1;32m    116\u001B[0m     \u001B[39m# initialize all Action subclass declarations in the folder\u001B[39;00m\n\u001B[0;32m--> 117\u001B[0m     \u001B[39mimport\u001B[39;00m \u001B[39mautopr\u001B[39;00m\u001B[39m.\u001B[39;00m\u001B[39mactions\u001B[39;00m  \u001B[39m# pyright: ignore[reportUnusedImport]\u001B[39;00m\n\u001B[1;32m    119\u001B[0m     \u001B[39m# return all subclasses of Action as registered in the metaclass\u001B[39;00m\n\u001B[1;32m    120\u001B[0m     \u001B[39mreturn\u001B[39;00m ActionMeta\u001B[39m.\u001B[39mactions_registry\n",
      "File \u001B[0;32m~/Documents/AutoPR/AutoPR/autopr/actions/__init__.py:13\u001B[0m\n\u001B[1;32m     10\u001B[0m directory_module_basenames \u001B[39m=\u001B[39m [basename(f) \u001B[39mfor\u001B[39;00m f \u001B[39min\u001B[39;00m directory_modules]\n\u001B[1;32m     11\u001B[0m __all__ \u001B[39m=\u001B[39m file_basenames \u001B[39m+\u001B[39m directory_module_basenames  \u001B[39m# pyright: ignore[reportUnsupportedDunderAll]\u001B[39;00m\n\u001B[0;32m---> 13\u001B[0m \u001B[39mfrom\u001B[39;00m \u001B[39m.\u001B[39;00m \u001B[39mimport\u001B[39;00m \u001B[39m*\u001B[39m\n",
      "\u001B[0;31mAttributeError\u001B[0m: partially initialized module 'autopr.actions' has no attribute 'comment' (most likely due to a circular import)"
     ]
    }
   ],
   "source": [
    "from autopr.models.executable import ExecutableId, ContextDict\n",
    "from autopr.tests.utils import run_workflow_manually\n",
    "\n",
    "\n",
    "# ---\n",
    "\n",
    "\n",
    "# The repo you'd like to run the workflow on (see tests/repo_resources)\n",
    "repo_resource = \"example_repo_1\"\n",
    "\n",
    "# The filename of the config file you'd like to use (see tests/configs)\n",
    "workflows_filename = \"bash.yaml\"\n",
    "\n",
    "# The workflow you'd like to run (in the config file)\n",
    "workflow_id = \"bash_workflow\"\n",
    "\n",
    "# The inputs you'd like to pass to the workflow\n",
    "inputs = {\n",
    "    \"command\": \"echo 'Hello World!'\"\n",
    "}\n",
    "\n",
    "\n",
    "# ---\n",
    "\n",
    "\n",
    "out = await run_workflow_manually(\n",
    "    workflows_filename=workflows_filename,\n",
    "    workflow_id=ExecutableId(workflow_id),\n",
    "    inputs=ContextDict(inputs),\n",
    "    repo_resource=repo_resource,\n",
    ")\n",
    "\n",
    "out\n"
   ]
  },
  {
   "cell_type": "code",
   "execution_count": null,
   "metadata": {},
   "outputs": [],
   "source": []
  },
  {
   "cell_type": "code",
   "execution_count": null,
   "metadata": {},
   "outputs": [],
   "source": []
  }
 ],
 "metadata": {
  "kernelspec": {
   "display_name": "autopr_internal",
   "language": "python",
   "name": "python3"
  },
  "language_info": {
   "codemirror_mode": {
    "name": "ipython",
    "version": 3
   },
   "file_extension": ".py",
   "mimetype": "text/x-python",
   "name": "python",
   "nbconvert_exporter": "python",
   "pygments_lexer": "ipython3",
   "version": "3.11.3"
  },
  "orig_nbformat": 4
 },
 "nbformat": 4,
 "nbformat_minor": 2
}
