{
 "cells": [
  {
   "cell_type": "markdown",
   "metadata": {
    "ein.tags": [
     "worksheet-0"
    ],
    "slideshow": {
     "slide_type": "-"
    }
   },
   "source": [
    "# Hashing and mutation\n",
    "\n",
    "At the core of `provenance` is the ability to hash arbritary python data structures. `Artifact` ids are hashes of a function's metadata and the arguments for a given invocaiton. The `value_id` of an `Artifact` is the hash of the actual `value` object (the return value from the decorated function).\n",
    "\n",
    "The hashing approach (and implementaiton) was created in `joblib` and it leverages `pickle` to walk any python data structures and produces a message digest of the resulting pickle bytecode. Therefore, any argument or return value to a `provenance` function must be picklable."
   ]
  },
  {
   "cell_type": "markdown",
   "metadata": {
    "ein.tags": [
     "worksheet-0"
    ],
    "slideshow": {
     "slide_type": "-"
    }
   },
   "source": [
    "## Hashing Semantics: Reference vs Value\n",
    "\n",
    "`provenance` adopts value-based hashing semantics, which is in contrast to `joblib`'s referenced-based semantics. The best way to illustrate the difference is with some examples."
   ]
  },
  {
   "cell_type": "code",
   "execution_count": 1,
   "metadata": {
    "autoscroll": "json-false",
    "ein.tags": [
     "worksheet-0"
    ],
    "slideshow": {
     "slide_type": "-"
    }
   },
   "outputs": [],
   "source": [
    "a = [1, 2, 3]\n",
    "nested_references = [a, a]\n",
    "nested_values =  [[1, 2, 3], [1, 2, 3]]"
   ]
  },
  {
   "cell_type": "markdown",
   "metadata": {
    "ein.tags": [
     "worksheet-0"
    ],
    "slideshow": {
     "slide_type": "-"
    }
   },
   "source": [
    "Would you expect `hash(nested_references) == hash(nested_values)`? Lets take a look at the hashes with both appraoches."
   ]
  },
  {
   "cell_type": "code",
   "execution_count": 2,
   "metadata": {
    "autoscroll": "json-false",
    "ein.tags": [
     "worksheet-0"
    ],
    "slideshow": {
     "slide_type": "-"
    }
   },
   "outputs": [],
   "source": [
    "import joblib as jl\n",
    "import provenance as p"
   ]
  },
  {
   "cell_type": "code",
   "execution_count": 3,
   "metadata": {
    "collapsed": true,
    "nbsphinx": "hidden"
   },
   "outputs": [],
   "source": [
    "%load_ext yamlmagic"
   ]
  },
  {
   "cell_type": "code",
   "execution_count": 4,
   "metadata": {
    "nbsphinx": "hidden"
   },
   "outputs": [
    {
     "data": {
      "application/javascript": [
       "\n",
       "            require(\n",
       "                [\n",
       "                    \"notebook/js/codecell\",\n",
       "                    \"codemirror/mode/yaml/yaml\"\n",
       "                ],\n",
       "                function(cc){\n",
       "                    cc.CodeCell.options_default.highlight_modes.magic_yaml = {\n",
       "                        reg: [\"^%%yaml\"]\n",
       "                    }\n",
       "                }\n",
       "            );\n",
       "            "
      ],
      "text/plain": [
       "<IPython.core.display.Javascript object>"
      ]
     },
     "metadata": {},
     "output_type": "display_data"
    }
   ],
   "source": [
    "%%yaml basic_config\n",
    "blobstores:\n",
    "    disk:\n",
    "        type: disk\n",
    "        cachedir: /tmp/provenance-intro-artifacts\n",
    "        read: True\n",
    "        write: True\n",
    "        delete: True\n",
    "artifact_repos:\n",
    "    local:\n",
    "        type: postgres\n",
    "        db: postgresql://localhost/provenance-intro\n",
    "        store: 'disk'\n",
    "        read: True\n",
    "        write: True\n",
    "        delete: True\n",
    "        # this option will create the database if it doesn't exist\n",
    "        create_db: True\n",
    "default_repo: local"
   ]
  },
  {
   "cell_type": "code",
   "execution_count": 5,
   "metadata": {
    "nbsphinx": "hidden"
   },
   "outputs": [
    {
     "name": "stderr",
     "output_type": "stream",
     "text": [
      "INFO  [alembic.runtime.migration] Context impl PostgresqlImpl.\n",
      "INFO  [alembic.runtime.migration] Will assume transactional DDL.\n",
      "INFO  [alembic.runtime.migration] Running stamp_revision  -> e0317ab07ba4\n"
     ]
    },
    {
     "data": {
      "text/plain": [
       "<provenance.repos.Config at 0x111cc5198>"
      ]
     },
     "execution_count": 5,
     "metadata": {},
     "output_type": "execute_result"
    }
   ],
   "source": [
    "# skip this in the docs...\n",
    "#import provenance.repos as pr\n",
    "#p.set_default_repo(pr.MemoryRepo())\n",
    "\n",
    "# Load a more realisitc config in case people want to play around with it in Binder\n",
    "p.load_config(basic_config)"
   ]
  },
  {
   "cell_type": "code",
   "execution_count": 6,
   "metadata": {
    "autoscroll": "json-false",
    "ein.tags": [
     "worksheet-0"
    ],
    "slideshow": {
     "slide_type": "-"
    }
   },
   "outputs": [
    {
     "name": "stdout",
     "output_type": "stream",
     "text": [
      "Joblib Hashing\n",
      "nested_references  a9a5b8ad17431309cf00b14a45cedd7e\n",
      "nested_values      70dc9c81d27cc89b76d98bcd52de04d0\n"
     ]
    }
   ],
   "source": [
    "print('Joblib Hashing')\n",
    "print('nested_references ',jl.hash(nested_references))\n",
    "print('nested_values     ', jl.hash(nested_values))"
   ]
  },
  {
   "cell_type": "code",
   "execution_count": 7,
   "metadata": {
    "autoscroll": "json-false",
    "ein.tags": [
     "worksheet-0"
    ],
    "slideshow": {
     "slide_type": "-"
    }
   },
   "outputs": [
    {
     "name": "stdout",
     "output_type": "stream",
     "text": [
      "Provenance Hashing\n",
      "nested_references  ea971dde80510d0bd01ed7c9e246df52087ba7f4\n",
      "nested_values      ea971dde80510d0bd01ed7c9e246df52087ba7f4\n"
     ]
    }
   ],
   "source": [
    "print('Provenance Hashing')\n",
    "print('nested_references ', p.hash(nested_references))\n",
    "print('nested_values     ', p.hash(nested_values))"
   ]
  },
  {
   "cell_type": "markdown",
   "metadata": {
    "ein.tags": [
     "worksheet-0"
    ],
    "slideshow": {
     "slide_type": "-"
    }
   },
   "source": [
    "In the reference-based approach, as implemented by `joblib`, the references of nested objects are taken into account. With the value-based approach taken by `provenance` only the values of the datas strucrues involved are used to compute the hash. "
   ]
  },
  {
   "cell_type": "markdown",
   "metadata": {
    "ein.tags": [
     "worksheet-0"
    ],
    "slideshow": {
     "slide_type": "-"
    }
   },
   "source": [
    "## Mutation and function behavior\n",
    "\n",
    "While hahsing semantics may seem like an unimportant implementation detail choosing one or the other can result in stark differences in behavior. Consider the following:"
   ]
  },
  {
   "cell_type": "code",
   "execution_count": 8,
   "metadata": {
    "autoscroll": "json-false",
    "ein.tags": [
     "worksheet-0"
    ],
    "slideshow": {
     "slide_type": "-"
    }
   },
   "outputs": [
    {
     "data": {
      "text/plain": [
       "{'nested_values': 13, 'with_references': 14}"
      ]
     },
     "execution_count": 8,
     "metadata": {},
     "output_type": "execute_result"
    }
   ],
   "source": [
    "def mutating_nested(arrays):\n",
    "    arrays[0][0] += 1\n",
    "    return sum(map(sum, arrays))\n",
    "\n",
    "\n",
    "a = [1, 2, 3]\n",
    "nested_references = [a, a]\n",
    "nested_values =  [[1, 2, 3], [1, 2, 3]]\n",
    "\n",
    "{'with_references': mutating_nested(nested_references),\n",
    " 'nested_values': mutating_nested(nested_values)}\n"
   ]
  },
  {
   "cell_type": "markdown",
   "metadata": {
    "ein.tags": [
     "worksheet-0"
    ],
    "slideshow": {
     "slide_type": "-"
    }
   },
   "source": [
    "The output of the function is not only dependent on the values but also on the references! If value-based hashing were to be used when memoizing this function you would result in incorrect cache hits. This is why `joblib` takes the conservative approach of hashing based on references. That way you can memoize the above function just fine and don't have to worry about false cache hits.\n",
    "\n",
    "However, there are downsides in using reference-based hashing. In particular, you end up with more false cache misses resulting in needless recomputation. This was the original motivation for switching to use value-based semantics. Outside of that having functions that mutate state when caching is involved can lead to subtle bugs downstream (since a cache hit will prevent mutation of the inputs and potential downstream behavior). To avoid these types of issues and to allow for value-based hashing `provenance` only allows functions that do not mutate their inputs. In practice the majoirty of `provenance`ed functions end up being [pure functions](https://en.wikipedia.org/wiki/Pure_function) while a few functions that kick off the pipeline deterministicly fetch data from a data store.\n",
    "\n",
    "When a `provenance`ed function mutates its input an error is thrown so the user can fix the mutation (typically by doing a `copy` or `deepcopy`):"
   ]
  },
  {
   "cell_type": "code",
   "execution_count": 9,
   "metadata": {
    "autoscroll": "json-false",
    "ein.tags": [
     "worksheet-0"
    ],
    "slideshow": {
     "slide_type": "-"
    }
   },
   "outputs": [
    {
     "ename": "ImpureFunctionError",
     "evalue": "The __main__.mutating_nested function modified arguments: (arrays)",
     "output_type": "error",
     "traceback": [
      "\u001b[0;31m---------------------------------------------------------------------------\u001b[0m",
      "\u001b[0;31mImpureFunctionError\u001b[0m                       Traceback (most recent call last)",
      "\u001b[0;32m<ipython-input-9-5decafc47fd2>\u001b[0m in \u001b[0;36m<module>\u001b[0;34m()\u001b[0m\n\u001b[1;32m      8\u001b[0m \u001b[0mnested_references\u001b[0m \u001b[0;34m=\u001b[0m \u001b[0;34m[\u001b[0m\u001b[0ma\u001b[0m\u001b[0;34m,\u001b[0m \u001b[0ma\u001b[0m\u001b[0;34m]\u001b[0m\u001b[0;34m\u001b[0m\u001b[0m\n\u001b[1;32m      9\u001b[0m \u001b[0;34m\u001b[0m\u001b[0m\n\u001b[0;32m---> 10\u001b[0;31m \u001b[0mmutating_nested\u001b[0m\u001b[0;34m(\u001b[0m\u001b[0mnested_references\u001b[0m\u001b[0;34m)\u001b[0m\u001b[0;34m\u001b[0m\u001b[0m\n\u001b[0m",
      "\u001b[0;32m<boltons.funcutils.FunctionBuilder-0>\u001b[0m in \u001b[0;36mmutating_nested\u001b[0;34m(arrays)\u001b[0m\n",
      "\u001b[0;32m/Users/bmabey/anaconda/envs/provenance-dev/lib/python3.5/site-packages/provenance-0.9.4.2+36.g7e45e2c.dirty-py3.5.egg/provenance/core.py\u001b[0m in \u001b[0;36m_provenance_wrapper\u001b[0;34m(*args, **kargs)\u001b[0m\n\u001b[1;32m    293\u001b[0m                 msg = \"The {}.{} function modified arguments: ({})\".format(\n\u001b[1;32m    294\u001b[0m                     func_info['module'], func_info['name'], \",\".join(modified_inputs))\n\u001b[0;32m--> 295\u001b[0;31m                 \u001b[0;32mraise\u001b[0m \u001b[0mImpureFunctionError\u001b[0m\u001b[0;34m(\u001b[0m\u001b[0mmsg\u001b[0m\u001b[0;34m)\u001b[0m\u001b[0;34m\u001b[0m\u001b[0m\n\u001b[0m\u001b[1;32m    296\u001b[0m \u001b[0;34m\u001b[0m\u001b[0m\n\u001b[1;32m    297\u001b[0m             \u001b[0;32mif\u001b[0m \u001b[0martifact_info_\u001b[0m\u001b[0;34m[\u001b[0m\u001b[0;34m'composite'\u001b[0m\u001b[0;34m]\u001b[0m\u001b[0;34m:\u001b[0m\u001b[0;34m\u001b[0m\u001b[0m\n",
      "\u001b[0;31mImpureFunctionError\u001b[0m: The __main__.mutating_nested function modified arguments: (arrays)"
     ]
    }
   ],
   "source": [
    "@p.provenance()\n",
    "def mutating_nested(arrays):\n",
    "    arrays[0][0] += 1\n",
    "    return sum(map(sum, arrays))\n",
    "\n",
    "\n",
    "a = [1, 2, 3]\n",
    "nested_references = [a, a]\n",
    "\n",
    "mutating_nested(nested_references)"
   ]
  },
  {
   "cell_type": "markdown",
   "metadata": {
    "ein.tags": [
     "worksheet-0"
    ],
    "slideshow": {
     "slide_type": "-"
    }
   },
   "source": [
    "In this case you would avoid mutation like so:"
   ]
  },
  {
   "cell_type": "code",
   "execution_count": 10,
   "metadata": {
    "autoscroll": "json-false",
    "ein.tags": [
     "worksheet-0"
    ],
    "slideshow": {
     "slide_type": "-"
    }
   },
   "outputs": [
    {
     "data": {
      "text/plain": [
       "<provenance.ArtifactProxy(79e7a2510b6c796f510260816973f73178785384) 14 >"
      ]
     },
     "execution_count": 10,
     "metadata": {},
     "output_type": "execute_result"
    }
   ],
   "source": [
    "from copy import deepcopy\n",
    "\n",
    "@p.provenance()\n",
    "def nonmutating_nested(arrays):\n",
    "    arrays = deepcopy(arrays)\n",
    "    arrays[0][0] += 1\n",
    "    return sum(map(sum, arrays))\n",
    "\n",
    "\n",
    "a = [1, 2, 3]\n",
    "nested_references = [a, a]\n",
    "\n",
    "nonmutating_nested(nested_references)\n"
   ]
  },
  {
   "cell_type": "markdown",
   "metadata": {
    "ein.tags": [
     "worksheet-0"
    ],
    "slideshow": {
     "slide_type": "-"
    }
   },
   "source": [
    "This will cause you to write your pipelines a bit different. For example, instead of creating a `scikit-learn` model in function and then fitting it another you would have a single function that creates the model and fits it all at once. Or you would decorate a function higher up in the stack and write mutating functions that get called from it. What is important is that inputs to functions are not mutated."
   ]
  },
  {
   "cell_type": "markdown",
   "metadata": {
    "ein.tags": [
     "worksheet-0"
    ],
    "slideshow": {
     "slide_type": "-"
    }
   },
   "source": [
    "## Warning about `copy` mutating the original object\n",
    "\n",
    "In _rare_ cases the act of `copy`ing of an object may mutate the orginal object, at least from the perspective of `pickle`. What is usually happenig is that underlying libraries are doing some sort of operation lazily prior to the `copy` which causes the `pickle` bytecode to be different. The only way to workaround this is to do a copy of the object before it is passed into a funciton with `provenance`.\n"
   ]
  },
  {
   "cell_type": "markdown",
   "metadata": {
    "ein.tags": [
     "worksheet-0"
    ],
    "slideshow": {
     "slide_type": "-"
    }
   },
   "source": [
    "## Mutation of `ArtifactProxy`s\n",
    "\n",
    "Once a cached result, i.e. an `ArtifactProxy`, is returned from a decorated function you should not mutate it before sending it into another decoarated function. By doing so you would be misrepresenting the value of the input, corrupting the provenance of the resulting artifact. Here is an example of what NOT to do and why it is a bad idea to mutate `ArtifactProxy`s:"
   ]
  },
  {
   "cell_type": "code",
   "execution_count": 11,
   "metadata": {
    "autoscroll": "json-false",
    "ein.tags": [
     "worksheet-0"
    ],
    "slideshow": {
     "slide_type": "-"
    }
   },
   "outputs": [
    {
     "data": {
      "text/plain": [
       "<provenance.ArtifactProxy(41ab5b4b904648618493b48c3f764f7abb0eab3a) 13 >"
      ]
     },
     "execution_count": 11,
     "metadata": {},
     "output_type": "execute_result"
    }
   ],
   "source": [
    "@p.provenance()\n",
    "def repeat(element, how_many):\n",
    "    return [element] * how_many\n",
    "\n",
    "@p.provenance()\n",
    "def tracked_sum(array):\n",
    "    return sum(array)\n",
    "\n",
    "numbers = repeat(1, 3)\n",
    "numbers[0] += 10\n",
    "result_after_mutation = tracked_sum(numbers)\n",
    "result_after_mutation"
   ]
  },
  {
   "cell_type": "markdown",
   "metadata": {
    "ein.tags": [
     "worksheet-0"
    ],
    "slideshow": {
     "slide_type": "-"
    }
   },
   "source": [
    "The `result_after_mutation` is correct but the lineage does not capture the mutation making the provenance incorrect:"
   ]
  },
  {
   "cell_type": "code",
   "execution_count": 16,
   "metadata": {
    "autoscroll": "json-false",
    "ein.tags": [
     "worksheet-0"
    ],
    "slideshow": {
     "slide_type": "-"
    }
   },
   "outputs": [
    {
     "data": {
      "image/svg+xml": [
       "<?xml version=\"1.0\" encoding=\"UTF-8\" standalone=\"no\"?>\n",
       "<!DOCTYPE svg PUBLIC \"-//W3C//DTD SVG 1.1//EN\"\n",
       " \"http://www.w3.org/Graphics/SVG/1.1/DTD/svg11.dtd\">\n",
       "<!-- Generated by graphviz version 2.40.1 (20161225.0304)\n",
       " -->\n",
       "<!-- Title: %3 Pages: 1 -->\n",
       "<svg width=\"147pt\" height=\"466pt\"\n",
       " viewBox=\"0.00 0.00 147.31 465.99\" xmlns=\"http://www.w3.org/2000/svg\" xmlns:xlink=\"http://www.w3.org/1999/xlink\">\n",
       "<g id=\"graph0\" class=\"graph\" transform=\"scale(1 1) rotate(0) translate(4 461.9947)\">\n",
       "<title>%3</title>\n",
       "<polygon fill=\"#ffffff\" stroke=\"transparent\" points=\"-4,4 -4,-461.9947 143.3105,-461.9947 143.3105,4 -4,4\"/>\n",
       "<!-- 950970fbb2fd415674f14947091a8e7258082198|how_many -->\n",
       "<g id=\"node1\" class=\"node\">\n",
       "<title>950970fbb2fd415674f14947091a8e7258082198|how_many</title>\n",
       "<polygon fill=\"none\" stroke=\"#000000\" points=\"54,-457.9947 0,-457.9947 0,-421.9947 54,-421.9947 54,-457.9947\"/>\n",
       "<text text-anchor=\"middle\" x=\"27\" y=\"-435.7947\" font-family=\"Times,serif\" font-size=\"14.00\" fill=\"#000000\">3</text>\n",
       "</g>\n",
       "<!-- fn_950970fbb2fd415674f14947091a8e7258082198 -->\n",
       "<g id=\"node4\" class=\"node\">\n",
       "<title>fn_950970fbb2fd415674f14947091a8e7258082198</title>\n",
       "<g id=\"a_node4\"><a xlink:title=\"__main__.repeat(element,how_many)\">\n",
       "<ellipse fill=\"none\" stroke=\"#000000\" cx=\"69\" cy=\"-340.2888\" rx=\"31.9132\" ry=\"31.9132\"/>\n",
       "<text text-anchor=\"middle\" x=\"69\" y=\"-336.0888\" font-family=\"Times,serif\" font-size=\"14.00\" fill=\"#000000\">repeat</text>\n",
       "</a>\n",
       "</g>\n",
       "</g>\n",
       "<!-- 950970fbb2fd415674f14947091a8e7258082198|how_many&#45;&gt;fn_950970fbb2fd415674f14947091a8e7258082198 -->\n",
       "<g id=\"edge4\" class=\"edge\">\n",
       "<title>950970fbb2fd415674f14947091a8e7258082198|how_many&#45;&gt;fn_950970fbb2fd415674f14947091a8e7258082198</title>\n",
       "<path fill=\"none\" stroke=\"#000000\" d=\"M24.435,-421.8772C23.7533,-412.1389 24.0544,-400.0924 27.7861,-389.9947 30.4043,-382.9102 34.499,-376.1119 39.1118,-369.9398\"/>\n",
       "<polygon fill=\"#000000\" stroke=\"#000000\" points=\"42.0254,-371.9051 45.633,-361.9433 36.6006,-367.4811 42.0254,-371.9051\"/>\n",
       "<text text-anchor=\"middle\" x=\"59.1069\" y=\"-392.7947\" font-family=\"Times,serif\" font-size=\"14.00\" fill=\"#000000\">how_many</text>\n",
       "</g>\n",
       "<!-- 950970fbb2fd415674f14947091a8e7258082198|element -->\n",
       "<g id=\"node2\" class=\"node\">\n",
       "<title>950970fbb2fd415674f14947091a8e7258082198|element</title>\n",
       "<polygon fill=\"none\" stroke=\"#000000\" points=\"139,-457.9947 85,-457.9947 85,-421.9947 139,-421.9947 139,-457.9947\"/>\n",
       "<text text-anchor=\"middle\" x=\"112\" y=\"-435.7947\" font-family=\"Times,serif\" font-size=\"14.00\" fill=\"#000000\">1</text>\n",
       "</g>\n",
       "<!-- 950970fbb2fd415674f14947091a8e7258082198|element&#45;&gt;fn_950970fbb2fd415674f14947091a8e7258082198 -->\n",
       "<g id=\"edge5\" class=\"edge\">\n",
       "<title>950970fbb2fd415674f14947091a8e7258082198|element&#45;&gt;fn_950970fbb2fd415674f14947091a8e7258082198</title>\n",
       "<path fill=\"none\" stroke=\"#000000\" d=\"M104.1131,-421.7071C98.942,-409.7166 91.986,-393.5875 85.6296,-378.8485\"/>\n",
       "<polygon fill=\"#000000\" stroke=\"#000000\" points=\"88.7379,-377.2175 81.5638,-369.421 82.3101,-379.9896 88.7379,-377.2175\"/>\n",
       "<text text-anchor=\"middle\" x=\"117.1553\" y=\"-392.7947\" font-family=\"Times,serif\" font-size=\"14.00\" fill=\"#000000\">element</text>\n",
       "</g>\n",
       "<!-- 950970fbb2fd415674f14947091a8e7258082198 -->\n",
       "<g id=\"node3\" class=\"node\">\n",
       "<title>950970fbb2fd415674f14947091a8e7258082198</title>\n",
       "<g id=\"a_node3\"><a xlink:title=\"[1, 1, 1]\">\n",
       "<polygon fill=\"none\" stroke=\"#ff0000\" points=\"7.5068,-235.0828 7.5068,-271.0828 130.4932,-271.0828 130.4932,-235.0828 7.5068,-235.0828\"/>\n",
       "<text text-anchor=\"middle\" x=\"38.8379\" y=\"-248.8828\" font-family=\"Times,serif\" font-size=\"14.00\" fill=\"#000000\">950970f</text>\n",
       "<polyline fill=\"none\" stroke=\"#ff0000\" points=\"70.1689,-235.0828 70.1689,-271.0828 \"/>\n",
       "<text text-anchor=\"middle\" x=\"100.3311\" y=\"-248.8828\" font-family=\"Times,serif\" font-size=\"14.00\" fill=\"#000000\">[1, 1, 1]</text>\n",
       "</a>\n",
       "</g>\n",
       "</g>\n",
       "<!-- fn_41ab5b4b904648618493b48c3f764f7abb0eab3a -->\n",
       "<g id=\"node5\" class=\"node\">\n",
       "<title>fn_41ab5b4b904648618493b48c3f764f7abb0eab3a</title>\n",
       "<g id=\"a_node5\"><a xlink:title=\"__main__.tracked_sum(array)\">\n",
       "<ellipse fill=\"none\" stroke=\"#000000\" cx=\"69\" cy=\"-129.2914\" rx=\"55.0836\" ry=\"55.0836\"/>\n",
       "<text text-anchor=\"middle\" x=\"69\" y=\"-125.0914\" font-family=\"Times,serif\" font-size=\"14.00\" fill=\"#000000\">tracked_sum</text>\n",
       "</a>\n",
       "</g>\n",
       "</g>\n",
       "<!-- 950970fbb2fd415674f14947091a8e7258082198&#45;&gt;fn_41ab5b4b904648618493b48c3f764f7abb0eab3a -->\n",
       "<g id=\"edge2\" class=\"edge\">\n",
       "<title>950970fbb2fd415674f14947091a8e7258082198&#45;&gt;fn_41ab5b4b904648618493b48c3f764f7abb0eab3a</title>\n",
       "<path fill=\"none\" stroke=\"#000000\" d=\"M69,-235.0825C69,-224.2402 69,-209.6956 69,-194.8682\"/>\n",
       "<polygon fill=\"#000000\" stroke=\"#000000\" points=\"72.5001,-194.6 69,-184.6 65.5001,-194.6001 72.5001,-194.6\"/>\n",
       "<text text-anchor=\"middle\" x=\"83.376\" y=\"-205.3828\" font-family=\"Times,serif\" font-size=\"14.00\" fill=\"#000000\">array</text>\n",
       "</g>\n",
       "<!-- fn_950970fbb2fd415674f14947091a8e7258082198&#45;&gt;950970fbb2fd415674f14947091a8e7258082198 -->\n",
       "<g id=\"edge1\" class=\"edge\">\n",
       "<title>fn_950970fbb2fd415674f14947091a8e7258082198&#45;&gt;950970fbb2fd415674f14947091a8e7258082198</title>\n",
       "<path fill=\"none\" stroke=\"#000000\" d=\"M69,-308.3117C69,-299.5618 69,-290.1381 69,-281.5958\"/>\n",
       "<polygon fill=\"#000000\" stroke=\"#000000\" points=\"72.5001,-281.364 69,-271.364 65.5001,-281.3641 72.5001,-281.364\"/>\n",
       "</g>\n",
       "<!-- 41ab5b4b904648618493b48c3f764f7abb0eab3a -->\n",
       "<g id=\"node6\" class=\"node\">\n",
       "<title>41ab5b4b904648618493b48c3f764f7abb0eab3a</title>\n",
       "<g id=\"a_node6\"><a xlink:title=\"13\">\n",
       "<polygon fill=\"none\" stroke=\"#ff0000\" points=\"21.8931,-.5 21.8931,-36.5 116.1069,-36.5 116.1069,-.5 21.8931,-.5\"/>\n",
       "<text text-anchor=\"middle\" x=\"54\" y=\"-14.3\" font-family=\"Times,serif\" font-size=\"14.00\" fill=\"#000000\">41ab5b4</text>\n",
       "<polyline fill=\"none\" stroke=\"#ff0000\" points=\"86.1069,-.5 86.1069,-36.5 \"/>\n",
       "<text text-anchor=\"middle\" x=\"101.1069\" y=\"-14.3\" font-family=\"Times,serif\" font-size=\"14.00\" fill=\"#000000\">13</text>\n",
       "</a>\n",
       "</g>\n",
       "</g>\n",
       "<!-- fn_41ab5b4b904648618493b48c3f764f7abb0eab3a&#45;&gt;41ab5b4b904648618493b48c3f764f7abb0eab3a -->\n",
       "<g id=\"edge3\" class=\"edge\">\n",
       "<title>fn_41ab5b4b904648618493b48c3f764f7abb0eab3a&#45;&gt;41ab5b4b904648618493b48c3f764f7abb0eab3a</title>\n",
       "<path fill=\"none\" stroke=\"#000000\" d=\"M69,-73.8957C69,-64.5673 69,-55.2389 69,-46.9686\"/>\n",
       "<polygon fill=\"#000000\" stroke=\"#000000\" points=\"72.5001,-46.7949 69,-36.7949 65.5001,-46.795 72.5001,-46.7949\"/>\n",
       "</g>\n",
       "</g>\n",
       "</svg>\n"
      ],
      "text/plain": [
       "<provenance.vis.utils.DigraphDicts at 0x112103cf8>"
      ]
     },
     "execution_count": 16,
     "metadata": {},
     "output_type": "execute_result"
    }
   ],
   "source": [
    "import provenance.vis as vis\n",
    "reloaded_result = p.load_proxy(result_after_mutation.artifact.id)\n",
    "\n",
    "vis.visualize_lineage(reloaded_result)"
   ]
  },
  {
   "cell_type": "markdown",
   "metadata": {
    "ein.tags": [
     "worksheet-0"
    ],
    "slideshow": {
     "slide_type": "-"
    }
   },
   "source": [
    "If you don't trust yourself (or your team) to not mutate `ArtifactProxy`s then you can configure `provenance` to check that a proxy was not mutated prior to having it passed in. With this setting a `MutatedArtifactValueError` will be raised when the mutated artifact is passed to another decoarted function."
   ]
  },
  {
   "cell_type": "code",
   "execution_count": 14,
   "metadata": {
    "autoscroll": "json-false",
    "ein.tags": [
     "worksheet-0"
    ],
    "slideshow": {
     "slide_type": "-"
    }
   },
   "outputs": [
    {
     "ename": "MutatedArtifactValueError",
     "evalue": "Artifact 950970fbb2fd415674f14947091a8e7258082198, of type <class 'list'> was mutated before being passed to __main__.tracked_sum as arguments (array)",
     "output_type": "error",
     "traceback": [
      "\u001b[0;31m---------------------------------------------------------------------------\u001b[0m",
      "\u001b[0;31mMutatedArtifactValueError\u001b[0m                 Traceback (most recent call last)",
      "\u001b[0;32m<ipython-input-14-a720157edb12>\u001b[0m in \u001b[0;36m<module>\u001b[0;34m()\u001b[0m\n\u001b[1;32m      3\u001b[0m \u001b[0mnumbers\u001b[0m \u001b[0;34m=\u001b[0m \u001b[0mrepeat\u001b[0m\u001b[0;34m(\u001b[0m\u001b[0;36m1\u001b[0m\u001b[0;34m,\u001b[0m \u001b[0;36m3\u001b[0m\u001b[0;34m)\u001b[0m\u001b[0;34m\u001b[0m\u001b[0m\n\u001b[1;32m      4\u001b[0m \u001b[0mnumbers\u001b[0m\u001b[0;34m[\u001b[0m\u001b[0;36m0\u001b[0m\u001b[0;34m]\u001b[0m \u001b[0;34m+=\u001b[0m \u001b[0;36m10\u001b[0m\u001b[0;34m\u001b[0m\u001b[0m\n\u001b[0;32m----> 5\u001b[0;31m \u001b[0mtracked_sum\u001b[0m\u001b[0;34m(\u001b[0m\u001b[0mnumbers\u001b[0m\u001b[0;34m)\u001b[0m\u001b[0;34m\u001b[0m\u001b[0m\n\u001b[0m",
      "\u001b[0;32m<boltons.funcutils.FunctionBuilder-3>\u001b[0m in \u001b[0;36mtracked_sum\u001b[0;34m(array)\u001b[0m\n",
      "\u001b[0;32m/Users/bmabey/anaconda/envs/provenance-dev/lib/python3.5/site-packages/provenance-0.9.4.2+36.g7e45e2c.dirty-py3.5.egg/provenance/core.py\u001b[0m in \u001b[0;36m_provenance_wrapper\u001b[0;34m(*args, **kargs)\u001b[0m\n\u001b[1;32m    261\u001b[0m             \u001b[0minputs\u001b[0m\u001b[0;34m[\u001b[0m\u001b[0;34m'filehash'\u001b[0m\u001b[0;34m]\u001b[0m \u001b[0;34m=\u001b[0m \u001b[0mvalue_id\u001b[0m\u001b[0;34m\u001b[0m\u001b[0m\n\u001b[1;32m    262\u001b[0m \u001b[0;34m\u001b[0m\u001b[0m\n\u001b[0;32m--> 263\u001b[0;31m         \u001b[0minput_hashes\u001b[0m\u001b[0;34m,\u001b[0m \u001b[0minput_artifact_ids\u001b[0m \u001b[0;34m=\u001b[0m \u001b[0mhash_inputs\u001b[0m\u001b[0;34m(\u001b[0m\u001b[0minputs\u001b[0m\u001b[0;34m,\u001b[0m \u001b[0mrepos\u001b[0m\u001b[0;34m.\u001b[0m\u001b[0mget_check_mutations\u001b[0m\u001b[0;34m(\u001b[0m\u001b[0;34m)\u001b[0m\u001b[0;34m,\u001b[0m \u001b[0mfunc_info\u001b[0m\u001b[0;34m)\u001b[0m\u001b[0;34m\u001b[0m\u001b[0m\n\u001b[0m\u001b[1;32m    264\u001b[0m \u001b[0;34m\u001b[0m\u001b[0m\n\u001b[1;32m    265\u001b[0m         \u001b[0mid\u001b[0m \u001b[0;34m=\u001b[0m \u001b[0mcreate_id\u001b[0m\u001b[0;34m(\u001b[0m\u001b[0minput_hashes\u001b[0m\u001b[0;34m,\u001b[0m \u001b[0;34m**\u001b[0m\u001b[0mfunc_info\u001b[0m\u001b[0;34m[\u001b[0m\u001b[0;34m'identifiers'\u001b[0m\u001b[0;34m]\u001b[0m\u001b[0;34m)\u001b[0m\u001b[0;34m\u001b[0m\u001b[0m\n",
      "\u001b[0;32m/Users/bmabey/anaconda/envs/provenance-dev/lib/python3.5/site-packages/provenance-0.9.4.2+36.g7e45e2c.dirty-py3.5.egg/provenance/core.py\u001b[0m in \u001b[0;36mhash_inputs\u001b[0;34m(inputs, check_mutations, func_info)\u001b[0m\n\u001b[1;32m    127\u001b[0m                 msg = msg.format(a.id, type(a.value), func_info.get('module'),\n\u001b[1;32m    128\u001b[0m                                  func_info.get('name'), \",\".join(arg_names))\n\u001b[0;32m--> 129\u001b[0;31m                 \u001b[0;32mraise\u001b[0m \u001b[0mMutatedArtifactValueError\u001b[0m\u001b[0;34m(\u001b[0m\u001b[0mmsg\u001b[0m\u001b[0;34m)\u001b[0m\u001b[0;34m\u001b[0m\u001b[0m\n\u001b[0m\u001b[1;32m    130\u001b[0m \u001b[0;34m\u001b[0m\u001b[0m\n\u001b[1;32m    131\u001b[0m     \u001b[0minput_hashes\u001b[0m \u001b[0;34m=\u001b[0m \u001b[0;34m{\u001b[0m\u001b[0;34m'kargs'\u001b[0m\u001b[0;34m:\u001b[0m \u001b[0mkargs\u001b[0m\u001b[0;34m,\u001b[0m \u001b[0;34m'varargs'\u001b[0m\u001b[0;34m:\u001b[0m \u001b[0mtuple\u001b[0m\u001b[0;34m(\u001b[0m\u001b[0mvarargs\u001b[0m\u001b[0;34m)\u001b[0m\u001b[0;34m}\u001b[0m\u001b[0;34m\u001b[0m\u001b[0m\n",
      "\u001b[0;31mMutatedArtifactValueError\u001b[0m: Artifact 950970fbb2fd415674f14947091a8e7258082198, of type <class 'list'> was mutated before being passed to __main__.tracked_sum as arguments (array)"
     ]
    }
   ],
   "source": [
    "p.set_check_mutations(True)\n",
    "\n",
    "numbers = repeat(1, 3)\n",
    "numbers[0] += 10\n",
    "tracked_sum(numbers)\n"
   ]
  },
  {
   "cell_type": "markdown",
   "metadata": {
    "ein.tags": [
     "worksheet-0"
    ],
    "slideshow": {
     "slide_type": "-"
    }
   },
   "source": [
    "## Keep calm!\n",
    "\n",
    "All this talk of avoiding mutation may seem daunting and different from how you are used to writing functions in Python. It can take some time getting used to it but in the end most tasks in pipelines fit into the mold of a pure function and so it really isn't as bad as you might be thinking!\n",
    "\n",
    "![Keep calm and pipeline on](images/keep_calm_pipeline_on.png)"
   ]
  }
 ],
 "metadata": {
  "celltoolbar": "Edit Metadata",
  "kernelspec": {
   "display_name": "Python [conda env:provenance-dev]",
   "language": "python",
   "name": "conda-env-provenance-dev-py"
  },
  "language_info": {
   "codemirror_mode": {
    "name": "ipython",
    "version": 3
   },
   "file_extension": ".py",
   "mimetype": "text/x-python",
   "name": "python",
   "nbconvert_exporter": "python",
   "pygments_lexer": "ipython3",
   "version": "3.5.0"
  },
  "name": "hashing-and-mutation.ipynb"
 },
 "nbformat": 4,
 "nbformat_minor": 2
}
