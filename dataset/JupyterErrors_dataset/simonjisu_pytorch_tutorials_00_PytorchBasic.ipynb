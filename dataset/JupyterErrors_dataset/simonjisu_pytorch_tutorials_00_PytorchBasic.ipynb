{
 "cells": [
  {
   "cell_type": "markdown",
   "metadata": {},
   "source": [
    "Pytorch Basic\n",
    "==="
   ]
  },
  {
   "cell_type": "markdown",
   "metadata": {},
   "source": [
    "## What is PyTorch?\n",
    "\n",
    "> PyTorch is a deep learning framework for fast, flexible experimentation.\n",
    "\n",
    "* Articles that you can read:\n",
    "    - https://awni.github.io/pytorch-tensorflow/\n",
    "    - https://deepsense.ai/keras-or-pytorch/\n",
    "    \n",
    "I think there are many pytorch basic tutorials that you can follow. Let me introduce you some links in References, first."
   ]
  },
  {
   "cell_type": "markdown",
   "metadata": {},
   "source": [
    "## Reference\n",
    "\n",
    "* pytorch documentation: https://pytorch.org/docs/stable/index.html\n",
    "* pytorch tutorial documentaion: https://pytorch.org/tutorials/index.html\n",
    "* pytorch nlp tutorial documentaion: https://pytorch.org/tutorials/beginner/deep_learning_nlp_tutorial.html\n",
    "* PytorchZeroAll: https://github.com/hunkim/PyTorchZeroToAll\n",
    "* yunjey's pytorch tutorial: https://github.com/yunjey/pytorch-tutorial"
   ]
  },
  {
   "cell_type": "markdown",
   "metadata": {},
   "source": [
    "---"
   ]
  },
  {
   "cell_type": "markdown",
   "metadata": {},
   "source": [
    "## Tensor\n",
    "\n",
    "What is tensor? In mathematics, a tensor is an arbitrarily complex geometric object that maps in a (multi-)linear manner geometric vectors, scalars, and other tensors to a resulting tensor. \n",
    "\n",
    "https://youtu.be/rlpziTbJZk0\n",
    "\n",
    "real definition of tensor\n",
    "\n",
    "https://www.youtube.com/watch?v=TvxmkZmBa-k\n",
    "\n",
    "But in deep learning, a little bit different , first you can think tensor as a container that contatins numbers\n",
    "\n",
    "![](./figs/2_tensor.png)\n",
    "\n",
    "In Morden PyTorch, It is similar to numpy array."
   ]
  },
  {
   "cell_type": "markdown",
   "metadata": {},
   "source": [
    "### Create a Tensor\n",
    "\n",
    "* how to create a tensor\n",
    "* types of tensor"
   ]
  },
  {
   "cell_type": "markdown",
   "metadata": {},
   "source": [
    "#### how to create a tensor"
   ]
  },
  {
   "cell_type": "code",
   "execution_count": 1,
   "metadata": {
    "scrolled": true
   },
   "outputs": [
    {
     "name": "stdout",
     "output_type": "stream",
     "text": [
      " torch: 1.0.0 \n",
      " numpy: 1.15.4\n"
     ]
    }
   ],
   "source": [
    "import numpy as np\n",
    "import torch\n",
    "print(f\" torch: {torch.__version__} \\n numpy: {np.__version__}\")"
   ]
  },
  {
   "cell_type": "markdown",
   "metadata": {},
   "source": [
    "you can create tensors from lists or numpy array. or vice versa"
   ]
  },
  {
   "cell_type": "code",
   "execution_count": 2,
   "metadata": {},
   "outputs": [
    {
     "name": "stdout",
     "output_type": "stream",
     "text": [
      "tensor([[1., 2., 3.],\n",
      "        [4., 5., 6.]])\n",
      "tensor([[9., 6., 1.],\n",
      "        [5., 3., 2.]])\n"
     ]
    }
   ],
   "source": [
    "# create 2x3 matrix tensor from list / numpy array\n",
    "a = torch.Tensor([[1, 2, 3], [4, 5, 6]])\n",
    "b = torch.Tensor(np.array([[9, 6, 1], [5, 3, 2]]))\n",
    "print(a)\n",
    "print(b)"
   ]
  },
  {
   "cell_type": "code",
   "execution_count": 3,
   "metadata": {},
   "outputs": [
    {
     "name": "stdout",
     "output_type": "stream",
     "text": [
      "tensor --> list: \n",
      "[[1.0, 2.0, 3.0], [4.0, 5.0, 6.0]]\n",
      "tensor --> numpy: \n",
      "[[9. 6. 1.]\n",
      " [5. 3. 2.]]\n"
     ]
    }
   ],
   "source": [
    "# back to list / numpy array\n",
    "print(f\"tensor --> list: \\n{a.tolist()}\")\n",
    "print(f\"tensor --> numpy: \\n{b.numpy()}\")"
   ]
  },
  {
   "cell_type": "markdown",
   "metadata": {},
   "source": [
    "random init a tensor / zeros / ones"
   ]
  },
  {
   "cell_type": "code",
   "execution_count": 4,
   "metadata": {},
   "outputs": [
    {
     "name": "stdout",
     "output_type": "stream",
     "text": [
      "tensor([[[0.5588, 0.5245, 0.9022],\n",
      "         [0.9615, 0.2320, 0.2519]],\n",
      "\n",
      "        [[0.2189, 0.1801, 0.5956],\n",
      "         [0.7085, 0.4415, 0.9118]]])\n"
     ]
    }
   ],
   "source": [
    "# generate 2 x 2 x 3 tensor\n",
    "a = torch.rand(2, 2, 3)\n",
    "print(a)"
   ]
  },
  {
   "cell_type": "code",
   "execution_count": 5,
   "metadata": {},
   "outputs": [
    {
     "name": "stdout",
     "output_type": "stream",
     "text": [
      "tensor([[[0., 0., 0.],\n",
      "         [0., 0., 0.]],\n",
      "\n",
      "        [[0., 0., 0.],\n",
      "         [0., 0., 0.]]])\n",
      "------------------------------\n",
      "tensor([[[0., 0., 0.],\n",
      "         [0., 0., 0.]],\n",
      "\n",
      "        [[0., 0., 0.],\n",
      "         [0., 0., 0.]]])\n"
     ]
    }
   ],
   "source": [
    "# if you want to create a tensor like x you can do it by 2 ways\n",
    "b = torch.zeros(2, 2, 3)\n",
    "c = torch.zeros_like(a)\n",
    "print(b)\n",
    "print(\"-\"*30)\n",
    "print(c)"
   ]
  },
  {
   "cell_type": "code",
   "execution_count": 6,
   "metadata": {
    "scrolled": true
   },
   "outputs": [
    {
     "name": "stdout",
     "output_type": "stream",
     "text": [
      "tensor([[[1., 1., 1.],\n",
      "         [1., 1., 1.]],\n",
      "\n",
      "        [[1., 1., 1.],\n",
      "         [1., 1., 1.]]])\n"
     ]
    }
   ],
   "source": [
    "d = torch.ones_like(a)\n",
    "print(d)"
   ]
  },
  {
   "cell_type": "markdown",
   "metadata": {},
   "source": [
    "#### Type of Tensor"
   ]
  },
  {
   "cell_type": "markdown",
   "metadata": {},
   "source": [
    "`torch.Tensor` basically create tensor in float type tensor `torch.FloatTensor`, you can also create long type tensor by `torch.LongTensor`."
   ]
  },
  {
   "cell_type": "code",
   "execution_count": 7,
   "metadata": {},
   "outputs": [
    {
     "name": "stdout",
     "output_type": "stream",
     "text": [
      " b: torch.FloatTensor\n",
      " c: torch.FloatTensor\n",
      " d: torch.LongTensor\n"
     ]
    }
   ],
   "source": [
    "a = np.array([[9, 6, 1], [5, 3, 2]])\n",
    "b = torch.Tensor(a)\n",
    "c = torch.FloatTensor(a)\n",
    "d = torch.LongTensor(a)\n",
    "print(f\" b: {b.type()}\\n c: {c.type()}\\n d: {d.type()}\")"
   ]
  },
  {
   "cell_type": "markdown",
   "metadata": {},
   "source": [
    "`torch.ByteTensor` normally is used for a boolean types. If you use `torch.Tensor` for booleans, it will automatically change it to 1(True) or 0(False) float type tensor"
   ]
  },
  {
   "cell_type": "code",
   "execution_count": 8,
   "metadata": {},
   "outputs": [
    {
     "name": "stdout",
     "output_type": "stream",
     "text": [
      "tensor([1., 0., 0., 1.])\n",
      "tensor([1, 0, 0, 1], dtype=torch.uint8)\n",
      "------------------------------\n",
      " f: torch.FloatTensor\n",
      " g: torch.ByteTensor\n"
     ]
    }
   ],
   "source": [
    "e = [True, False, False, True]\n",
    "f = torch.Tensor(e)\n",
    "g = torch.ByteTensor(e)\n",
    "print(f)\n",
    "print(g)\n",
    "print(\"-\"*30)\n",
    "print(f\" f: {f.type()}\\n g: {g.type()}\")"
   ]
  },
  {
   "cell_type": "markdown",
   "metadata": {},
   "source": [
    "It is also easy to change types"
   ]
  },
  {
   "cell_type": "code",
   "execution_count": 9,
   "metadata": {},
   "outputs": [
    {
     "name": "stdout",
     "output_type": "stream",
     "text": [
      "change torch.FloatTensor to torch.LongTensor is 'c.long()' for instance\n",
      "tensor([[9, 6, 1],\n",
      "        [5, 3, 2]])\n"
     ]
    }
   ],
   "source": [
    "print(f\"change torch.FloatTensor to torch.LongTensor is 'c.long()' for instance\")\n",
    "print(c.long()) # if you want to change it eternally, don't forget to assign it to your computer memory"
   ]
  },
  {
   "cell_type": "code",
   "execution_count": 10,
   "metadata": {},
   "outputs": [
    {
     "name": "stdout",
     "output_type": "stream",
     "text": [
      "change torch.FloatTensor to torch.ByteTensor is 'f.byte()' for instance\n",
      "tensor([1, 0, 0, 1], dtype=torch.uint8)\n"
     ]
    }
   ],
   "source": [
    "print(f\"change torch.FloatTensor to torch.ByteTensor is 'f.byte()' for instance\")\n",
    "print(f.byte()) # if you want to change it eternally, don't forget to assign it to your computer memory"
   ]
  },
  {
   "cell_type": "markdown",
   "metadata": {},
   "source": [
    "### Tensor Manipulation"
   ]
  },
  {
   "cell_type": "markdown",
   "metadata": {},
   "source": [
    "* dim / size / shape \n",
    "* slicing / item\n",
    "* view(equal as reshape in numpy) / concat / stack / squeeze / unsqueeze\n",
    "* add(2types + inplace opteration) / multiplication: mul, dot, @, mm\n",
    "* sum / mean / max & argmax\n",
    "\n",
    "for more maths operation plz visit: [https://pytorch.org/docs/stable/torch.html#math-operations](https://pytorch.org/docs/stable/torch.html#math-operations)"
   ]
  },
  {
   "cell_type": "code",
   "execution_count": 11,
   "metadata": {},
   "outputs": [
    {
     "name": "stdout",
     "output_type": "stream",
     "text": [
      "tensor([[[5, 9, 1, 8],\n",
      "         [5, 7, 7, 7],\n",
      "         [3, 4, 1, 7]],\n",
      "\n",
      "        [[2, 0, 6, 3],\n",
      "         [2, 3, 0, 0],\n",
      "         [9, 5, 4, 2]]])\n"
     ]
    }
   ],
   "source": [
    "torch.manual_seed(777)\n",
    "x = torch.randint(0, 10, size=(2, 3, 4))\n",
    "print(x)"
   ]
  },
  {
   "cell_type": "markdown",
   "metadata": {},
   "source": [
    "this 3-dimensional tensor is looks like\n",
    "\n",
    "![](figs/2_tensorex.png)"
   ]
  },
  {
   "cell_type": "markdown",
   "metadata": {},
   "source": [
    "#### ndim / size / shape\n",
    "\n",
    "if you want to know what kind of a container (what size of a tensor) is, you can use `size` method or `shape` attribute"
   ]
  },
  {
   "cell_type": "code",
   "execution_count": 29,
   "metadata": {},
   "outputs": [
    {
     "name": "stdout",
     "output_type": "stream",
     "text": [
      "3\n",
      "torch.Size([2, 3, 4])\n",
      "torch.Size([2, 3, 4])\n"
     ]
    }
   ],
   "source": [
    "# what dimension?\n",
    "print(x.dim())\n",
    "# what size/shape?\n",
    "print(x.size())\n",
    "print(x.shape)"
   ]
  },
  {
   "cell_type": "markdown",
   "metadata": {},
   "source": [
    "#### slicing / item"
   ]
  },
  {
   "cell_type": "markdown",
   "metadata": {},
   "source": [
    "like numpy array, it's easy to select 1st dimension, 3rd row and 2nd column element of data x"
   ]
  },
  {
   "cell_type": "code",
   "execution_count": 1,
   "metadata": {
    "scrolled": false
   },
   "outputs": [
    {
     "ename": "NameError",
     "evalue": "name 'x' is not defined",
     "output_type": "error",
     "traceback": [
      "\u001b[0;31m---------------------------------------------------------------------------\u001b[0m",
      "\u001b[0;31mNameError\u001b[0m                                 Traceback (most recent call last)",
      "\u001b[0;32m<ipython-input-1-323f9f33a242>\u001b[0m in \u001b[0;36m<module>\u001b[0;34m\u001b[0m\n\u001b[0;32m----> 1\u001b[0;31m \u001b[0mprint\u001b[0m\u001b[0;34m(\u001b[0m\u001b[0mx\u001b[0m\u001b[0;34m[\u001b[0m\u001b[0;36m0\u001b[0m\u001b[0;34m,\u001b[0m \u001b[0;36m2\u001b[0m\u001b[0;34m,\u001b[0m \u001b[0;36m1\u001b[0m\u001b[0;34m]\u001b[0m\u001b[0;34m)\u001b[0m\u001b[0;34m\u001b[0m\u001b[0;34m\u001b[0m\u001b[0m\n\u001b[0m",
      "\u001b[0;31mNameError\u001b[0m: name 'x' is not defined"
     ]
    }
   ],
   "source": [
    "print(x[0, 2, 1])"
   ]
  },
  {
   "cell_type": "markdown",
   "metadata": {},
   "source": [
    "`index_select` returns a new tensor which indexes the input tensor along dimension `dim` using the entries in `index` which is a `torch.LongTensor`."
   ]
  },
  {
   "cell_type": "code",
   "execution_count": 14,
   "metadata": {},
   "outputs": [
    {
     "data": {
      "text/plain": [
       "torch.Size([2, 3, 4])"
      ]
     },
     "execution_count": 14,
     "metadata": {},
     "output_type": "execute_result"
    }
   ],
   "source": [
    "x.size()"
   ]
  },
  {
   "cell_type": "code",
   "execution_count": 15,
   "metadata": {
    "scrolled": false
   },
   "outputs": [
    {
     "name": "stdout",
     "output_type": "stream",
     "text": [
      "select dim=0, indices=[1]\n",
      "tensor([[[2, 0, 6, 3],\n",
      "         [2, 3, 0, 0],\n",
      "         [9, 5, 4, 2]]]) \n",
      "\n",
      "select dim=1, indices=[0 2]\n",
      "tensor([[[5, 9, 1, 8],\n",
      "         [3, 4, 1, 7]],\n",
      "\n",
      "        [[2, 0, 6, 3],\n",
      "         [9, 5, 4, 2]]]) \n",
      "\n",
      "select dim=2, indices=[1 2 3]\n",
      "tensor([[[9, 1, 8],\n",
      "         [7, 7, 7],\n",
      "         [4, 1, 7]],\n",
      "\n",
      "        [[0, 6, 3],\n",
      "         [3, 0, 0],\n",
      "         [5, 4, 2]]]) \n",
      "\n"
     ]
    }
   ],
   "source": [
    "index_1 = torch.LongTensor([1])\n",
    "index_2 = torch.LongTensor([0, 2])\n",
    "index_3 = torch.LongTensor([1, 2, 3])\n",
    "# select \n",
    "for i, index in enumerate([index_1, index_2, index_3]):\n",
    "    print(f\"select dim={i}, indices={index.numpy()}\")\n",
    "    print(x.index_select(i, index), \"\\n\")"
   ]
  },
  {
   "cell_type": "markdown",
   "metadata": {},
   "source": [
    "`masked_select` is also useful to select datas. if you want to select numbers are greater than 5, do following"
   ]
  },
  {
   "cell_type": "code",
   "execution_count": 16,
   "metadata": {},
   "outputs": [
    {
     "data": {
      "text/plain": [
       "tensor([5, 9, 8, 5, 7, 7, 7, 7, 6, 9, 5])"
      ]
     },
     "execution_count": 16,
     "metadata": {},
     "output_type": "execute_result"
    }
   ],
   "source": [
    "mask = x.ge(5)  # ge: greater or equal, returns torch.ByteTensor\n",
    "x.masked_select(mask)"
   ]
  },
  {
   "cell_type": "code",
   "execution_count": 17,
   "metadata": {},
   "outputs": [
    {
     "data": {
      "text/plain": [
       "tensor([[[5, 9, 0, 8],\n",
       "         [5, 7, 7, 7],\n",
       "         [0, 0, 0, 7]],\n",
       "\n",
       "        [[0, 0, 6, 0],\n",
       "         [0, 0, 0, 0],\n",
       "         [9, 5, 0, 0]]])"
      ]
     },
     "execution_count": 17,
     "metadata": {},
     "output_type": "execute_result"
    }
   ],
   "source": [
    "# if you want to keep shape of tensor x, just mutiplicate it.\n",
    "x * mask.type_as(x)"
   ]
  },
  {
   "cell_type": "markdown",
   "metadata": {},
   "source": [
    "if you have one element tensor(scalar) can use `item()` method to bring it out "
   ]
  },
  {
   "cell_type": "code",
   "execution_count": 18,
   "metadata": {
    "scrolled": true
   },
   "outputs": [
    {
     "name": "stdout",
     "output_type": "stream",
     "text": [
      "5.345099925994873\n"
     ]
    }
   ],
   "source": [
    "print(torch.FloatTensor([5.3451]).item())"
   ]
  },
  {
   "cell_type": "markdown",
   "metadata": {},
   "source": [
    "#### view / concat / stack / squeeze / unsqueeze"
   ]
  },
  {
   "cell_type": "markdown",
   "metadata": {},
   "source": [
    "`view` method is equal to `reshape` in numpy. The returned tensor shares the same data and must have the same number of elements, but may have a different size. "
   ]
  },
  {
   "cell_type": "code",
   "execution_count": 19,
   "metadata": {},
   "outputs": [
    {
     "data": {
      "text/plain": [
       "tensor([[[5, 9, 1, 8],\n",
       "         [5, 7, 7, 7],\n",
       "         [3, 4, 1, 7]],\n",
       "\n",
       "        [[2, 0, 6, 3],\n",
       "         [2, 3, 0, 0],\n",
       "         [9, 5, 4, 2]]])"
      ]
     },
     "execution_count": 19,
     "metadata": {},
     "output_type": "execute_result"
    }
   ],
   "source": [
    "x"
   ]
  },
  {
   "cell_type": "code",
   "execution_count": 113,
   "metadata": {},
   "outputs": [
    {
     "name": "stdout",
     "output_type": "stream",
     "text": [
      "change 'torch.Size([2, 3, 4])' to 'torch.Size([2, 2, 6])'\n",
      "tensor([[[5, 9, 1, 8, 5, 7],\n",
      "         [7, 7, 3, 4, 1, 7]],\n",
      "\n",
      "        [[2, 0, 6, 3, 2, 3],\n",
      "         [0, 0, 9, 5, 4, 2]]])\n"
     ]
    }
   ],
   "source": [
    "print(f\"change '{x.size()}' to '{x.view(2, 2, 6).size()}'\")\n",
    "print(x.view(2, 2, 6))"
   ]
  },
  {
   "cell_type": "markdown",
   "metadata": {},
   "source": [
    "* https://stackoverflow.com/questions/32034237/how-does-numpys-transpose-method-permute-the-axes-of-an-array?fbclid=IwAR0RmfglnUPFGt6x4fvTDXAccOSsHYxfkcuuAzVSgfBcgQAX6VzgXxvr8sc"
   ]
  },
  {
   "cell_type": "markdown",
   "metadata": {},
   "source": [
    "`concat` is "
   ]
  },
  {
   "cell_type": "markdown",
   "metadata": {},
   "source": [
    "### Frequently used opteration"
   ]
  },
  {
   "cell_type": "markdown",
   "metadata": {},
   "source": [
    "add, sum, mean"
   ]
  },
  {
   "cell_type": "code",
   "execution_count": null,
   "metadata": {},
   "outputs": [],
   "source": []
  },
  {
   "cell_type": "code",
   "execution_count": null,
   "metadata": {},
   "outputs": [],
   "source": []
  }
 ],
 "metadata": {
  "kernelspec": {
   "display_name": "Python(venv)",
   "language": "python",
   "name": "venv"
  },
  "language_info": {
   "codemirror_mode": {
    "name": "ipython",
    "version": 3
   },
   "file_extension": ".py",
   "mimetype": "text/x-python",
   "name": "python",
   "nbconvert_exporter": "python",
   "pygments_lexer": "ipython3",
   "version": "3.6.7"
  }
 },
 "nbformat": 4,
 "nbformat_minor": 2
}
