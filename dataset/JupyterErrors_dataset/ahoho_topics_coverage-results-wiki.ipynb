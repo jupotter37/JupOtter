{
 "cells": [
  {
   "cell_type": "code",
   "execution_count": 1,
   "metadata": {},
   "outputs": [],
   "source": [
    "import matplotlib.pyplot as plt"
   ]
  },
  {
   "cell_type": "code",
   "execution_count": 2,
   "metadata": {},
   "outputs": [],
   "source": [
    "import sys\n",
    "import re\n",
    "import pickle\n",
    "from pathlib import Path\n",
    "from collections import Counter\n",
    "from itertools import combinations\n",
    "from multiprocessing.sharedctypes import RawArray\n",
    "\n",
    "import torch\n",
    "import json\n",
    "import yaml\n",
    "import numpy as np\n",
    "import pandas as pd\n",
    "from tqdm.notebook import tqdm\n",
    "from pqdm.processes import pqdm\n",
    "from IPython.core.display import HTML\n",
    "from scipy.special import softmax\n",
    "from scipy.spatial.distance import jensenshannon, cdist\n",
    "from kneed import KneeLocator\n",
    "\n",
    "import matplotlib\n",
    "import matplotlib.cm as cm\n",
    "import matplotlib.colors as mcolors\n",
    "\n",
    "sys.path.append(\"../soup_nuts/models/dvae/\")\n",
    "\n",
    "from dvae import data_iterator, CollapsedMultinomial, DVAE\n",
    "from utils import load_sparse, compute_to"
   ]
  },
  {
   "cell_type": "code",
   "execution_count": 3,
   "metadata": {},
   "outputs": [],
   "source": [
    "def load_json(path):\n",
    "    with open(path) as infile:\n",
    "        return json.load(infile)\n",
    "\n",
    "def load_yaml(path):\n",
    "    with open(path) as infile:\n",
    "        return yaml.load(infile, Loader=yaml.FullLoader)\n",
    "\n",
    "def load_text(path):\n",
    "    with open(path) as infile:\n",
    "        return [text.strip().split(\" \") for text in infile]\n",
    "\n",
    "def save_json(obj, path):\n",
    "    with open(path, 'w') as outfile:\n",
    "        return json.dump(obj, outfile, indent=2)"
   ]
  },
  {
   "cell_type": "code",
   "execution_count": 4,
   "metadata": {},
   "outputs": [],
   "source": [
    "def topic_est_to_words(topic_words, inv_vocab, n=10):\n",
    "    return [inv_vocab[idx] for idx in (-topic_words).argsort()[:n]]"
   ]
  },
  {
   "cell_type": "markdown",
   "metadata": {},
   "source": [
    "### Estimate loading functions"
   ]
  },
  {
   "cell_type": "code",
   "execution_count": 5,
   "metadata": {},
   "outputs": [],
   "source": [
    "_CUDA_AVAILABLE = torch.cuda.is_available()\n",
    "_data_cache = {}\n",
    "\n",
    "def load_mallet_estimates(fpath):\n",
    "    \"\"\"\n",
    "    Load the doc-topic and topic-word estimates from our mallet output folder\n",
    "    \"\"\"\n",
    "    topic_word = np.load(fpath / \"beta.npy\")\n",
    "    #topic_word = None \n",
    "    # Load the standard mallet document-topic estimate as a numpy matrix\n",
    "    with open(fpath / \"doctopics.txt\") as infile:\n",
    "        doc_topic = np.array([\n",
    "            [float(x) for x in line.strip().split(\"\\t\")[2:]]\n",
    "            for line in infile\n",
    "        ])\n",
    "        \n",
    "        \n",
    "    return topic_word, doc_topic, None # TODO: is loss available in mallet?\n",
    "\n",
    "def load_dvae_estimates(fpath): \n",
    "    \"\"\"\n",
    "    Loads the dvae model and gets the topic word distribution, then instantiates\n",
    "    the encoder portion and does a forward pass to get the \n",
    "    \"\"\"\n",
    "    # get the topic word\n",
    "    device = torch.device(\"cuda\") if _CUDA_AVAILABLE else torch.device(\"cpu\")\n",
    "\n",
    "    state_dict = torch.load(fpath / \"model.pt\", map_location=device)\n",
    "    beta = state_dict[\"params\"][\"decoder$$$eta_layer.weight\"]\n",
    "    topic_word = torch.transpose(beta, 0, 1).cpu().detach().numpy()\n",
    "\n",
    "    # do a forward pass to get the document topics\n",
    "    # first instantiate the model and load in the params\n",
    "    config = load_yaml(fpath / \"config.yml\")\n",
    "    \n",
    "    dvae = DVAE(\n",
    "        vocab_size=topic_word.shape[1],\n",
    "        num_topics=config[\"num_topics\"],\n",
    "        alpha_prior=config[\"alpha_prior\"],\n",
    "        embeddings_dim=config[\"encoder_embeddings_dim\"],\n",
    "        hidden_dim=config[\"encoder_hidden_dim\"],\n",
    "        dropout=config[\"dropout\"],\n",
    "        cuda=_CUDA_AVAILABLE,\n",
    "    )\n",
    "    dvae_dict = {\n",
    "        k.replace(\"$$$\", \".\"): v\n",
    "        for k, v in state_dict['params'].items()\n",
    "    }\n",
    "    dvae.load_state_dict(dvae_dict, strict=False)\n",
    "    dvae.eval()\n",
    "    turn_off_bn = 1 * (config[\"epochs_to_anneal_bn\"] > 0) # 0 means use BN, > 0 means no BN\n",
    "\n",
    "    # then load the data for the forward pass\n",
    "    data_fpath = Path(config[\"input_dir\"], config[\"train_path\"])\n",
    "    if data_fpath not in _data_cache:\n",
    "        data = load_sparse(data_fpath).astype(np.float32)\n",
    "        _data_cache[data_fpath] = data\n",
    "    else:\n",
    "        data = _data_cache[data_fpath]\n",
    "    \n",
    "    batch_size = config[\"batch_size\"]\n",
    "    epochs = config[\"num_epochs\"]\n",
    "    n = data.shape[0]\n",
    "    train_batches = n // batch_size + 1\n",
    "\n",
    "    # do the forward pass and collect outputs in an array\n",
    "    doc_topic = np.zeros((n, config[\"num_topics\"]), dtype=np.float32)\n",
    "    losses = np.zeros(n, dtype=np.float32)\n",
    "    for i, x_batch in enumerate(data_iterator(data, batch_size, train_batches)):\n",
    "        x_batch = x_batch.to(device)\n",
    "        doc_topic_batch = dvae.encoder(x_batch)\n",
    "        doc_topic_batch = doc_topic_batch / doc_topic_batch.sum(1, keepdims=True)\n",
    "        x_recon = dvae.decoder(doc_topic_batch, bn_annealing_factor=turn_off_bn)\n",
    "        loss_batch = -CollapsedMultinomial(1, probs=x_recon).log_prob(x_batch)\n",
    "\n",
    "        doc_topic[i * batch_size:(i + 1) * batch_size] = doc_topic_batch.detach().cpu().numpy().astype(np.float32)\n",
    "        losses[i * batch_size:(i + 1) * batch_size] = loss_batch.detach().cpu().numpy().astype(np.float32)\n",
    "    return topic_word, doc_topic, losses\n",
    "\n",
    "\n",
    "def load_etm_estimates(fpath):\n",
    "    \"\"\"\n",
    "    Load the ETM estimates from a model\n",
    "    \"\"\"\n",
    "    pass\n",
    "\n",
    "\n",
    "def load_estimates(fpath, model_type):\n",
    "    if model_type == \"dvae\":\n",
    "        return load_dvae_estimates(fpath)\n",
    "    if model_type == \"mallet\":\n",
    "        return load_mallet_estimates(fpath)"
   ]
  },
  {
   "cell_type": "markdown",
   "metadata": {},
   "source": [
    "### collect the runs"
   ]
  },
  {
   "cell_type": "code",
   "execution_count": 6,
   "metadata": {},
   "outputs": [],
   "source": [
    "# roughly 7 GB RAM for k=100\n",
    "def get_estimates_over_runs(run_paths, overlap_words, exclude_dups=False):\n",
    "    doc_topics, topic_words, duplicates = [], [], [] # TODO: change to 3d tensors\n",
    "    for i, (p, model_type) in enumerate(tqdm(run_paths)):\n",
    "        t, d, l = load_estimates(p, model_type=model_type)\n",
    "        \n",
    "        # located duplicated topics\n",
    "        sorted_t = np.sort((-t).argsort(axis=1)[:, :overlap_words], axis=1)\n",
    "        counted_topics = Counter([tuple(t_) for t_ in sorted_t])\n",
    "        if exclude_dups and max(counted_topics.values()) > 1:\n",
    "            continue\n",
    "        doc_topics.append(d)\n",
    "        topic_words.append(t)\n",
    "        duplicates.append(sum(c > 1 for c in counted_topics.values()))\n",
    "\n",
    "    return doc_topics, topic_words, duplicates"
   ]
  },
  {
   "cell_type": "markdown",
   "metadata": {},
   "source": [
    "#### takes relatively longer to run $\\downarrow$"
   ]
  },
  {
   "cell_type": "code",
   "execution_count": 7,
   "metadata": {},
   "outputs": [],
   "source": [
    "#run_dir = \"../runs/outputs/url_partisanship_data\"\n",
    "run_dir = \"../runs/outputs/full-mindf_power_law-maxdf_0.9\"\n",
    "dataset = 'wiki' #'url_partisan'\n",
    "\n",
    "mallet_paths = [\n",
    "    (p.parent, \"mallet\")\n",
    "    for p in Path(run_dir).glob(\"**/mallet-with-beta/**/doctopics.txt\")\n",
    "    if dataset in str(p)\n",
    "]\n",
    "dvae_paths = [\n",
    "    (p.parent, \"dvae\") for p in Path(run_dir).glob(\"**/dvae/**/model.pt\")\n",
    "    if dataset in str(p)\n",
    "]\n",
    "\n",
    "# should be independent of the model\n",
    "config = load_yaml(dvae_paths[0][0] / \"config.yml\")\n",
    "data = load_sparse(Path(config[\"input_dir\"], \"train.dtm.npz\"))\n",
    "vocab = load_json(Path(config[\"input_dir\"], \"vocab.json\"))\n",
    "inv_vocab = {v: k for k, v in vocab.items()}\n"
   ]
  },
  {
   "cell_type": "code",
   "execution_count": 8,
   "metadata": {},
   "outputs": [
    {
     "data": {
      "text/plain": [
       "'/workspace/topic-preprocessing/data/wikitext/processed/full-mindf_power_law-maxdf_0.9'"
      ]
     },
     "execution_count": 8,
     "metadata": {},
     "output_type": "execute_result"
    }
   ],
   "source": [
    "config['input_dir']"
   ]
  },
  {
   "cell_type": "code",
   "execution_count": 96,
   "metadata": {},
   "outputs": [],
   "source": [
    "labels_coarse = np.load(Path(config[\"input_dir\"], \"train.labels.coarse.npy\"))\n",
    "labels_fine = np.load(Path(config[\"input_dir\"], \"train.labels.fine.npy\"))\n",
    "labels_medium = np.load(Path(config[\"input_dir\"], \"train.labels.medium.npy\"))"
   ]
  },
  {
   "cell_type": "code",
   "execution_count": 10,
   "metadata": {},
   "outputs": [],
   "source": [
    "# dvae_paths = dvae_paths\n",
    "# mallet_paths = mallet_paths"
   ]
  },
  {
   "cell_type": "code",
   "execution_count": 11,
   "metadata": {},
   "outputs": [
    {
     "data": {
      "text/plain": [
       "(83, 80)"
      ]
     },
     "execution_count": 11,
     "metadata": {},
     "output_type": "execute_result"
    }
   ],
   "source": [
    "len(dvae_paths), len(mallet_paths)"
   ]
  },
  {
   "cell_type": "code",
   "execution_count": 13,
   "metadata": {},
   "outputs": [
    {
     "ename": "AttributeError",
     "evalue": "'NoneType' object has no attribute 'group'",
     "output_type": "error",
     "traceback": [
      "\u001b[0;31m---------------------------------------------------------------------------\u001b[0m",
      "\u001b[0;31mAttributeError\u001b[0m                            Traceback (most recent call last)",
      "\u001b[0;32m/tmp/ipykernel_6050/1392607389.py\u001b[0m in \u001b[0;36m<module>\u001b[0;34m\u001b[0m\n\u001b[0;32m----> 1\u001b[0;31m \u001b[0mnum_topics\u001b[0m \u001b[0;34m=\u001b[0m \u001b[0msorted\u001b[0m\u001b[0;34m(\u001b[0m\u001b[0mset\u001b[0m\u001b[0;34m(\u001b[0m\u001b[0mint\u001b[0m\u001b[0;34m(\u001b[0m\u001b[0mre\u001b[0m\u001b[0;34m.\u001b[0m\u001b[0msearch\u001b[0m\u001b[0;34m(\u001b[0m\u001b[0;34m\"k-([0-9]+)\"\u001b[0m\u001b[0;34m,\u001b[0m \u001b[0mstr\u001b[0m\u001b[0;34m(\u001b[0m\u001b[0mp\u001b[0m\u001b[0;34m)\u001b[0m\u001b[0;34m)\u001b[0m\u001b[0;34m.\u001b[0m\u001b[0mgroup\u001b[0m\u001b[0;34m(\u001b[0m\u001b[0;36m1\u001b[0m\u001b[0;34m)\u001b[0m\u001b[0;34m)\u001b[0m \u001b[0;32mfor\u001b[0m \u001b[0mp\u001b[0m \u001b[0;32min\u001b[0m \u001b[0mdvae_paths\u001b[0m\u001b[0;34m)\u001b[0m\u001b[0;34m)\u001b[0m\u001b[0;34m\u001b[0m\u001b[0;34m\u001b[0m\u001b[0m\n\u001b[0m\u001b[1;32m      2\u001b[0m \u001b[0mnum_topics\u001b[0m\u001b[0;34m\u001b[0m\u001b[0;34m\u001b[0m\u001b[0m\n",
      "\u001b[0;32m/tmp/ipykernel_6050/1392607389.py\u001b[0m in \u001b[0;36m<genexpr>\u001b[0;34m(.0)\u001b[0m\n\u001b[0;32m----> 1\u001b[0;31m \u001b[0mnum_topics\u001b[0m \u001b[0;34m=\u001b[0m \u001b[0msorted\u001b[0m\u001b[0;34m(\u001b[0m\u001b[0mset\u001b[0m\u001b[0;34m(\u001b[0m\u001b[0mint\u001b[0m\u001b[0;34m(\u001b[0m\u001b[0mre\u001b[0m\u001b[0;34m.\u001b[0m\u001b[0msearch\u001b[0m\u001b[0;34m(\u001b[0m\u001b[0;34m\"k-([0-9]+)\"\u001b[0m\u001b[0;34m,\u001b[0m \u001b[0mstr\u001b[0m\u001b[0;34m(\u001b[0m\u001b[0mp\u001b[0m\u001b[0;34m)\u001b[0m\u001b[0;34m)\u001b[0m\u001b[0;34m.\u001b[0m\u001b[0mgroup\u001b[0m\u001b[0;34m(\u001b[0m\u001b[0;36m1\u001b[0m\u001b[0;34m)\u001b[0m\u001b[0;34m)\u001b[0m \u001b[0;32mfor\u001b[0m \u001b[0mp\u001b[0m \u001b[0;32min\u001b[0m \u001b[0mdvae_paths\u001b[0m\u001b[0;34m)\u001b[0m\u001b[0;34m)\u001b[0m\u001b[0;34m\u001b[0m\u001b[0;34m\u001b[0m\u001b[0m\n\u001b[0m\u001b[1;32m      2\u001b[0m \u001b[0mnum_topics\u001b[0m\u001b[0;34m\u001b[0m\u001b[0;34m\u001b[0m\u001b[0m\n",
      "\u001b[0;31mAttributeError\u001b[0m: 'NoneType' object has no attribute 'group'"
     ]
    }
   ],
   "source": [
    "num_topics = sorted(set(int(re.search(\"k-([0-9]+)\", str(p)).group(1)) for p in dvae_paths))\n",
    "num_topics"
   ]
  },
  {
   "cell_type": "code",
   "execution_count": 21,
   "metadata": {},
   "outputs": [],
   "source": [
    "num_topics = [50] "
   ]
  },
  {
   "cell_type": "code",
   "execution_count": 16,
   "metadata": {},
   "outputs": [
    {
     "data": {
      "text/plain": [
       "(PosixPath('../runs/outputs/full-mindf_power_law-maxdf_0.9/wikitext/k-50/mallet-with-beta/alpha_0.05-beta_0.05-iter_1000-opt_0/42'),\n",
       " 'mallet')"
      ]
     },
     "execution_count": 16,
     "metadata": {},
     "output_type": "execute_result"
    }
   ],
   "source": [
    "mallet_paths[0]"
   ]
  },
  {
   "cell_type": "code",
   "execution_count": 18,
   "metadata": {},
   "outputs": [],
   "source": [
    "n_topic_words = 15\n",
    "overlap_words = 5"
   ]
  },
  {
   "cell_type": "markdown",
   "metadata": {},
   "source": [
    "#### Gather the betas and thetas for all the mallet and numpy runs $\\downarrow$"
   ]
  },
  {
   "cell_type": "code",
   "execution_count": 22,
   "metadata": {
    "scrolled": true
   },
   "outputs": [
    {
     "name": "stdout",
     "output_type": "stream",
     "text": [
      "On k=50\n"
     ]
    },
    {
     "data": {
      "application/vnd.jupyter.widget-view+json": {
       "model_id": "bc591b04250b46259d909387526037f9",
       "version_major": 2,
       "version_minor": 0
      },
      "text/plain": [
       "  0%|          | 0/82 [00:00<?, ?it/s]"
      ]
     },
     "metadata": {},
     "output_type": "display_data"
    },
    {
     "data": {
      "application/vnd.jupyter.widget-view+json": {
       "model_id": "769dd3e314d048439c3fe7f8b448688d",
       "version_major": 2,
       "version_minor": 0
      },
      "text/plain": [
       "  0%|          | 0/80 [00:00<?, ?it/s]"
      ]
     },
     "metadata": {},
     "output_type": "display_data"
    }
   ],
   "source": [
    "estimates_dvae, estimates_mallet = {}, {}\n",
    "for k in num_topics:\n",
    "    print(f\"On k={k}\")\n",
    "\n",
    "    dvae_paths_k = [p for p in dvae_paths if f'k-{k}/' in str(p[0])]\n",
    "    runs = len(dvae_paths_k)\n",
    "    if dvae_paths_k:\n",
    "        doc_topics, topic_words, duplicates = get_estimates_over_runs(dvae_paths_k, overlap_words, exclude_dups=False)\n",
    "        estimates_dvae[k] = {\"doc_topics\": doc_topics, \"topic_words\": topic_words, \"duplicates\": duplicates}\n",
    "    \n",
    "    mallet_paths_k = [p for p in mallet_paths if f'k-{k}/' in str(p[0])]\n",
    "    if mallet_paths_k:\n",
    "        doc_topics, topic_words, duplicates = get_estimates_over_runs(mallet_paths_k, overlap_words, exclude_dups=False)\n",
    "        estimates_mallet[k] = {\"doc_topics\": doc_topics, \"topic_words\": topic_words, \"duplicates\": duplicates}\n",
    "\n",
    "with open(f\"dvae-{dataset}-estimates.pkl\", \"wb\") as outfile:\n",
    "    pickle.dump(estimates_dvae, outfile)"
   ]
  },
  {
   "cell_type": "markdown",
   "metadata": {},
   "source": [
    "### Find the \"user labels\" for the documents "
   ]
  },
  {
   "cell_type": "code",
   "execution_count": 23,
   "metadata": {},
   "outputs": [],
   "source": [
    "from collections import defaultdict, Counter"
   ]
  },
  {
   "cell_type": "code",
   "execution_count": 24,
   "metadata": {},
   "outputs": [],
   "source": [
    "doc_topics = estimates_dvae[50]['doc_topics']"
   ]
  },
  {
   "cell_type": "code",
   "execution_count": 30,
   "metadata": {},
   "outputs": [
    {
     "data": {
      "text/plain": [
       "array([454,  -1, 117, 415, 299, 420,  11, 275,  50, 508, 143, 419, 486,\n",
       "        -1,  -1,  -1, 486, 300,  -1, 324,  99, 112,  -1, 143, 351,  89,\n",
       "        -1,  18, 337, 390])"
      ]
     },
     "execution_count": 30,
     "metadata": {},
     "output_type": "execute_result"
    }
   ],
   "source": [
    "labels_fine[:30]"
   ]
  },
  {
   "cell_type": "code",
   "execution_count": 34,
   "metadata": {},
   "outputs": [
    {
     "data": {
      "text/plain": [
       "6151"
      ]
     },
     "execution_count": 34,
     "metadata": {},
     "output_type": "execute_result"
    }
   ],
   "source": [
    "len([i for i in labels_medium if i == -1])"
   ]
  },
  {
   "cell_type": "code",
   "execution_count": 58,
   "metadata": {},
   "outputs": [],
   "source": [
    "user_labels_dvae = {}\n",
    "for run in range(len(doc_topics)) : \n",
    "    user_labels = np.argmax(doc_topics[run], axis=1) \n",
    "    user_labels_dvae[run] = user_labels"
   ]
  },
  {
   "cell_type": "code",
   "execution_count": null,
   "metadata": {},
   "outputs": [],
   "source": [
    "gold_labels_coarse = {}\n",
    "for index, label in enumerate"
   ]
  },
  {
   "cell_type": "code",
   "execution_count": 59,
   "metadata": {
    "scrolled": true
   },
   "outputs": [
    {
     "data": {
      "text/plain": [
       "{0: array([27, 17, 12, ..., 20, 11, 27]),\n",
       " 1: array([ 1,  8,  6, ..., 35,  3,  4]),\n",
       " 2: array([15, 43,  3, ..., 40, 26, 15]),\n",
       " 3: array([15,  9, 43, ..., 40, 39, 15]),\n",
       " 4: array([15, 36, 25, ..., 40, 26, 24]),\n",
       " 5: array([45,  4,  7, ...,  1, 13, 45]),\n",
       " 6: array([38, 41,  1, ...,  7,  0, 38]),\n",
       " 7: array([38, 32, 37, ..., 43,  0, 38]),\n",
       " 8: array([49, 28, 46, ...,  5, 41,  9]),\n",
       " 9: array([47,  8, 23, ...,  9,  6, 29]),\n",
       " 10: array([49, 41, 46, ...,  5, 13,  9]),\n",
       " 11: array([49, 28, 46, ...,  5, 13,  9]),\n",
       " 12: array([15, 43, 23, ..., 40, 26, 24]),\n",
       " 13: array([17, 25, 42, ...,  7,  0, 38]),\n",
       " 14: array([19, 44, 46, ...,  3, 13, 19]),\n",
       " 15: array([27, 47, 12, ..., 48, 11, 27]),\n",
       " 16: array([49, 39, 14, ...,  3, 30, 49]),\n",
       " 17: array([49, 17, 12, ...,  3, 30, 49]),\n",
       " 18: array([49, 43, 46, ...,  5, 13, 49]),\n",
       " 19: array([26, 21,  9, ...,  7,  2, 26]),\n",
       " 20: array([23, 40, 29, ...,  0,  6, 23]),\n",
       " 21: array([49, 25,  1, ...,  3, 30, 49]),\n",
       " 22: array([24, 36,  3, ..., 40, 26, 24]),\n",
       " 23: array([37, 36, 17, ..., 31,  1, 37]),\n",
       " 24: array([49, 41, 46, ...,  5, 13, 49]),\n",
       " 25: array([17, 25, 11, ..., 43,  0, 38]),\n",
       " 26: array([15, 43, 43, ..., 40, 26, 15]),\n",
       " 27: array([ 4, 30,  1, ..., 49,  0,  4]),\n",
       " 28: array([22, 47, 22, ..., 45,  3, 22]),\n",
       " 29: array([ 8, 42, 23, ..., 32, 45,  8]),\n",
       " 30: array([32, 31, 19, ...,  7, 24, 35]),\n",
       " 31: array([15, 43, 43, ..., 40, 26, 24]),\n",
       " 32: array([ 3,  4, 43, ..., 40, 39,  3]),\n",
       " 33: array([22, 45, 13, ..., 31, 41, 22]),\n",
       " 34: array([38, 35, 42, ..., 43, 24, 38]),\n",
       " 35: array([ 8, 22, 23, ..., 32,  3,  4]),\n",
       " 36: array([17, 25, 42, ...,  7,  0, 17]),\n",
       " 37: array([44, 31, 32, ..., 43, 24, 44]),\n",
       " 38: array([ 3, 42, 12, ..., 40, 26,  3]),\n",
       " 39: array([49, 28, 14, ..., 15, 13, 49]),\n",
       " 40: array([19, 22,  6, ...,  1, 21, 49]),\n",
       " 41: array([49, 17, 45, ...,  5, 13, 49]),\n",
       " 42: array([44,  6, 32, ..., 43,  0, 44]),\n",
       " 43: array([19,  4, 45, ..., 18, 13, 49]),\n",
       " 44: array([49, 26,  6, ...,  1, 13, 49]),\n",
       " 45: array([44, 22,  6, ..., 16, 24, 35]),\n",
       " 46: array([26, 21,  9, ...,  7,  2, 26]),\n",
       " 47: array([27, 17,  9, ...,  7, 40, 27]),\n",
       " 48: array([30, 44, 12, ...,  5, 13, 30]),\n",
       " 49: array([ 8, 18, 23, ..., 32, 26,  3]),\n",
       " 50: array([17, 41, 11, ..., 43,  0, 38]),\n",
       " 51: array([19, 16,  6, ..., 18, 13, 19]),\n",
       " 52: array([44, 25, 32, ...,  6,  0, 44]),\n",
       " 53: array([49, 41, 46, ...,  5, 13,  9]),\n",
       " 54: array([38, 47, 13, ..., 16, 25, 38]),\n",
       " 55: array([ 8, 42, 23, ..., 40,  6,  8]),\n",
       " 56: array([38, 32, 11, ...,  6,  0, 38]),\n",
       " 57: array([ 8, 22, 23, ..., 32, 26,  3]),\n",
       " 58: array([49, 17, 12, ...,  3, 30, 49]),\n",
       " 59: array([38, 45,  1, ...,  7,  0, 38]),\n",
       " 60: array([49, 28, 14, ...,  5, 13,  9]),\n",
       " 61: array([ 4, 42, 23, ..., 32,  3,  4]),\n",
       " 62: array([38, 47, 32, ...,  6,  0, 44]),\n",
       " 63: array([38, 47, 13, ..., 43,  0, 38]),\n",
       " 64: array([ 1, 45,  5, ..., 40,  6,  4]),\n",
       " 65: array([46, 19, 25, ..., 43,  0, 44]),\n",
       " 66: array([49, 26, 45, ...,  1, 13,  9]),\n",
       " 67: array([29, 44, 12, ..., 40,  6, 29]),\n",
       " 68: array([ 1,  8, 12, ..., 40,  6,  1]),\n",
       " 69: array([ 4, 22, 23, ..., 32,  3,  4]),\n",
       " 70: array([38, 31, 32, ..., 16, 24, 38]),\n",
       " 71: array([32, 28, 22, ...,  7, 24, 35]),\n",
       " 72: array([49, 24, 46, ..., 15, 18, 49]),\n",
       " 73: array([44, 22, 43, ..., 14, 24, 44]),\n",
       " 74: array([49, 39, 14, ...,  3, 30, 49]),\n",
       " 75: array([38, 25, 42, ...,  7,  0, 38]),\n",
       " 76: array([35, 45,  2, ..., 31, 41, 35]),\n",
       " 77: array([ 3,  9, 12, ..., 40, 39,  3]),\n",
       " 78: array([49, 45, 14, ...,  5, 13,  9]),\n",
       " 79: array([38,  7, 11, ..., 43,  0, 44]),\n",
       " 80: array([15, 43, 12, ..., 40, 39,  8]),\n",
       " 81: array([ 8, 20, 23, ..., 32, 26,  8])}"
      ]
     },
     "execution_count": 59,
     "metadata": {},
     "output_type": "execute_result"
    }
   ],
   "source": [
    "user_labels_dvae"
   ]
  },
  {
   "cell_type": "code",
   "execution_count": 42,
   "metadata": {},
   "outputs": [],
   "source": [
    "doc_topics_mallet = estimates_mallet[50]['doc_topics']"
   ]
  },
  {
   "cell_type": "code",
   "execution_count": 56,
   "metadata": {},
   "outputs": [
    {
     "data": {
      "text/plain": [
       "80"
      ]
     },
     "execution_count": 56,
     "metadata": {},
     "output_type": "execute_result"
    }
   ],
   "source": [
    "len(doc_topics_mallet) "
   ]
  },
  {
   "cell_type": "code",
   "execution_count": 60,
   "metadata": {},
   "outputs": [
    {
     "data": {
      "text/plain": [
       "(28472, 50)"
      ]
     },
     "execution_count": 60,
     "metadata": {},
     "output_type": "execute_result"
    }
   ],
   "source": [
    "doc_topics_mallet[0].shape"
   ]
  },
  {
   "cell_type": "code",
   "execution_count": 61,
   "metadata": {},
   "outputs": [],
   "source": [
    "user_labels_mallet = {}\n",
    "for run in range(len(doc_topics_mallet)) : \n",
    "    user_labels = np.argmax(doc_topics_mallet[run], axis=1) \n",
    "    user_labels_mallet[run] = user_labels"
   ]
  },
  {
   "cell_type": "code",
   "execution_count": 62,
   "metadata": {
    "scrolled": true
   },
   "outputs": [
    {
     "data": {
      "text/plain": [
       "{0: array([46, 43,  0, ..., 36, 20, 23]),\n",
       " 1: array([11, 33, 28, ..., 14, 27, 11]),\n",
       " 2: array([34, 26,  5, ..., 30, 10, 34]),\n",
       " 3: array([24, 18, 28, ..., 19, 46, 24]),\n",
       " 4: array([37, 15, 48, ...,  5, 35, 37]),\n",
       " 5: array([11, 26, 17, ..., 13, 10, 11]),\n",
       " 6: array([44, 39, 46, ..., 29, 25, 44]),\n",
       " 7: array([ 9, 27, 41, ..., 26, 35,  9]),\n",
       " 8: array([29, 18,  2, ..., 26, 22, 29]),\n",
       " 9: array([37, 15, 48, ...,  5, 35, 37]),\n",
       " 10: array([45,  5,  9, ..., 10, 42, 21]),\n",
       " 11: array([ 7, 24, 32, ..., 40, 23,  2]),\n",
       " 12: array([43, 31, 48, ..., 11, 20, 43]),\n",
       " 13: array([44, 27, 18, ..., 38, 46, 44]),\n",
       " 14: array([36,  8, 28, ..., 38,  5, 36]),\n",
       " 15: array([13, 38, 32, ..., 10, 23, 12]),\n",
       " 16: array([ 8, 28,  1, ..., 39, 32,  8]),\n",
       " 17: array([43, 31, 48, ..., 11, 20, 43]),\n",
       " 18: array([34, 42, 43, ..., 30, 24, 34]),\n",
       " 19: array([41, 15, 38, ..., 42, 24, 41]),\n",
       " 20: array([22, 41, 11, ..., 40,  5, 22]),\n",
       " 21: array([ 2, 10,  1, ..., 16, 41,  2]),\n",
       " 22: array([ 1, 15, 27, ..., 11, 35, 27]),\n",
       " 23: array([21, 48, 34, ..., 42, 24, 21]),\n",
       " 24: array([12, 48, 47, ..., 36, 17, 12]),\n",
       " 25: array([13, 28, 34, ..., 48, 10, 13]),\n",
       " 26: array([29, 37, 24, ...,  8, 18, 29]),\n",
       " 27: array([29,  7, 15, ..., 26, 16, 29]),\n",
       " 28: array([ 7, 43, 18, ..., 36, 42,  7]),\n",
       " 29: array([ 9, 27, 41, ..., 26, 35,  9]),\n",
       " 30: array([11, 26, 17, ..., 13, 10, 34]),\n",
       " 31: array([32, 23,  1, ..., 31, 39, 32]),\n",
       " 32: array([37, 15, 48, ...,  5, 35, 37]),\n",
       " 33: array([29, 34, 27, ..., 24,  8, 29]),\n",
       " 34: array([ 2, 22, 27, ..., 41, 42,  2]),\n",
       " 35: array([22, 41, 11, ..., 40,  5, 22]),\n",
       " 36: array([21,  5,  9, ..., 10, 42, 21]),\n",
       " 37: array([34, 18, 41, ..., 26, 16, 34]),\n",
       " 38: array([28, 18, 11, ..., 26, 13, 28]),\n",
       " 39: array([34, 18, 41, ..., 26, 16, 34]),\n",
       " 40: array([27,  9, 24, ..., 40, 35, 27]),\n",
       " 41: array([ 1,  7, 45, ..., 42,  4,  1]),\n",
       " 42: array([36, 14, 24, ..., 40, 35, 27]),\n",
       " 43: array([27,  9, 24, ..., 40, 35, 27]),\n",
       " 44: array([27, 14, 24, ..., 40, 35, 27]),\n",
       " 45: array([ 7,  5, 20, ..., 36, 42,  7]),\n",
       " 46: array([29, 37, 27, ..., 24,  8, 29]),\n",
       " 47: array([ 1, 21, 11, ..., 31, 22,  1]),\n",
       " 48: array([ 9, 27, 41, ..., 26, 35,  9]),\n",
       " 49: array([ 2, 43,  9, ..., 30, 10,  2]),\n",
       " 50: array([21, 48, 34, ..., 42, 24, 21]),\n",
       " 51: array([34, 15, 28, ..., 26, 18, 34]),\n",
       " 52: array([29, 37, 24, ...,  8, 18, 29]),\n",
       " 53: array([18, 38,  8, ..., 40,  3, 31]),\n",
       " 54: array([29, 18,  2, ..., 26, 22, 29]),\n",
       " 55: array([11, 26, 17, ..., 13, 10, 34]),\n",
       " 56: array([ 7, 16, 34, ..., 40, 24, 44]),\n",
       " 57: array([44,  8, 46, ..., 38,  5, 11]),\n",
       " 58: array([21, 48, 34, ..., 42, 24, 21]),\n",
       " 59: array([37, 17, 15, ..., 26, 41, 37]),\n",
       " 60: array([12, 48, 32, ..., 36, 17, 12]),\n",
       " 61: array([13, 38, 32, ..., 10, 23, 12]),\n",
       " 62: array([30, 15, 28, ..., 26, 18, 30]),\n",
       " 63: array([18, 38, 37, ..., 40,  3, 31]),\n",
       " 64: array([29, 18,  4, ..., 43, 35, 29]),\n",
       " 65: array([13, 42, 21, ..., 27, 15,  1]),\n",
       " 66: array([36, 16, 24, ..., 40, 35, 27]),\n",
       " 67: array([13,  0,  1, ..., 27, 15, 13]),\n",
       " 68: array([43, 18,  6, ...,  5,  8, 43]),\n",
       " 69: array([ 1, 13, 11, ..., 31, 22,  1]),\n",
       " 70: array([41, 16, 34, ..., 40, 24, 41]),\n",
       " 71: array([11, 26, 17, ..., 13, 10, 11]),\n",
       " 72: array([23, 37,  9, ..., 36, 20, 23]),\n",
       " 73: array([44, 39, 46, ..., 29, 25, 44]),\n",
       " 74: array([ 9, 27, 41, ..., 26, 35,  9]),\n",
       " 75: array([46, 43,  0, ..., 36, 20, 23]),\n",
       " 76: array([43, 37, 24, ..., 26, 18, 29]),\n",
       " 77: array([34, 26, 41, ..., 12, 25, 34]),\n",
       " 78: array([29, 37, 27, ..., 24,  8, 29]),\n",
       " 79: array([44, 27, 18, ..., 38, 46, 44])}"
      ]
     },
     "execution_count": 62,
     "metadata": {},
     "output_type": "execute_result"
    }
   ],
   "source": [
    "user_labels_mallet"
   ]
  },
  {
   "cell_type": "code",
   "execution_count": 63,
   "metadata": {},
   "outputs": [
    {
     "data": {
      "text/plain": [
       "(array([ 0,  1,  2,  3,  4,  5,  6,  7,  8,  9, 10, 11, 12, 13, 14, 15, 16,\n",
       "        17, 18, 19, 20, 21, 22, 23, 24, 25, 26, 27, 28, 29, 30, 31, 32, 33,\n",
       "        34, 35, 36, 37, 38, 39, 40, 41, 42, 43, 44, 45, 46, 47, 48, 49]),\n",
       " array([ 560,  304,  974,  290,  477,  615,  665,  416, 1045,  288,  252,\n",
       "         391,  284,  379, 1644,  454,  987, 1205,  209,  255,  489,  465,\n",
       "        1024,  543,  841, 1119,  395,  322,  463,  400,  469,  420,  381,\n",
       "         272,  413, 1152,  362, 1025,  255,  374,  761,  621,  684,  706,\n",
       "         311,  503,  495,  299,  693,  521]))"
      ]
     },
     "execution_count": 63,
     "metadata": {},
     "output_type": "execute_result"
    }
   ],
   "source": [
    "np.unique(user_labels_mallet[4], return_counts=True)"
   ]
  },
  {
   "cell_type": "code",
   "execution_count": 73,
   "metadata": {},
   "outputs": [],
   "source": [
    "bad_labels = list(np.where(labels_coarse == -1)) [0]"
   ]
  },
  {
   "cell_type": "code",
   "execution_count": 88,
   "metadata": {
    "scrolled": true
   },
   "outputs": [
    {
     "data": {
      "text/plain": [
       "1"
      ]
     },
     "execution_count": 88,
     "metadata": {},
     "output_type": "execute_result"
    }
   ],
   "source": [
    "min(bad_labels)"
   ]
  },
  {
   "cell_type": "code",
   "execution_count": 75,
   "metadata": {},
   "outputs": [
    {
     "data": {
      "text/plain": [
       "False"
      ]
     },
     "execution_count": 75,
     "metadata": {},
     "output_type": "execute_result"
    }
   ],
   "source": [
    "1 not in bad_labels"
   ]
  },
  {
   "cell_type": "code",
   "execution_count": 76,
   "metadata": {},
   "outputs": [],
   "source": [
    "def purity(user_labels, gold_labels): \n",
    "    \"\"\"\n",
    "    Calculates the Purity metric as described in https://aclanthology.org/P16-1110/\n",
    "    \"ALTO: Active Learning with Topic Overviews for Speeding Label Induction and Document Labeling\"\n",
    "    \n",
    "    For sanity check - The purity of any two user labels should be 1\n",
    "    \"\"\"\n",
    "    assert len(user_labels) == len(gold_labels)\n",
    "    \n",
    "    user_label_clusters = defaultdict(list)\n",
    "    for doc_index, label in enumerate(user_labels): \n",
    "        if doc_index not in bad_labels: \n",
    "            user_label_clusters[label].append(doc_index) \n",
    "    \n",
    "    # main step : \n",
    "    purity_sum = 0 \n",
    "    for cluster_label, user_document_set in user_label_clusters.items(): \n",
    "        gold_label_distribution = Counter([gold_labels[i] for i in  user_document_set])\n",
    "        most_frequent_cluster_freq = sorted(gold_label_distribution.items(), key = lambda x:x[1], reverse=True)[0][1]\n",
    "        purity_sum += most_frequent_cluster_freq\n",
    "        \n",
    "    return purity_sum/len(user_labels) "
   ]
  },
  {
   "cell_type": "code",
   "execution_count": 77,
   "metadata": {},
   "outputs": [],
   "source": [
    "from sklearn.metrics import rand_score, normalized_mutual_info_score , adjusted_rand_score"
   ]
  },
  {
   "cell_type": "code",
   "execution_count": 78,
   "metadata": {},
   "outputs": [
    {
     "data": {
      "text/plain": [
       "0.6565748805844338"
      ]
     },
     "execution_count": 78,
     "metadata": {},
     "output_type": "execute_result"
    }
   ],
   "source": [
    "purity(user_labels_dvae[1], gold_labels=labels_coarse) "
   ]
  },
  {
   "cell_type": "code",
   "execution_count": 54,
   "metadata": {
    "scrolled": true
   },
   "outputs": [
    {
     "data": {
      "text/plain": [
       "0.42116032385797897"
      ]
     },
     "execution_count": 54,
     "metadata": {},
     "output_type": "execute_result"
    }
   ],
   "source": [
    "adjusted_rand_score(user_labels_dvae[], user_labels_dvae[])"
   ]
  },
  {
   "cell_type": "code",
   "execution_count": 202,
   "metadata": {},
   "outputs": [
    {
     "data": {
      "text/plain": [
       "0.6056388595988299"
      ]
     },
     "execution_count": 202,
     "metadata": {},
     "output_type": "execute_result"
    }
   ],
   "source": [
    "normalized_mutual_info_score(user_labels_dvae[1], user_labels_dvae[0])"
   ]
  },
  {
   "cell_type": "code",
   "execution_count": 203,
   "metadata": {},
   "outputs": [],
   "source": [
    "metrics = (purity, rand_score, normalized_mutual_info_score)"
   ]
  },
  {
   "cell_type": "code",
   "execution_count": 204,
   "metadata": {},
   "outputs": [
    {
     "data": {
      "text/plain": [
       "(2877, 31)"
      ]
     },
     "execution_count": 204,
     "metadata": {},
     "output_type": "execute_result"
    }
   ],
   "source": [
    "len(Counter(labels_fine)), len(Counter(labels_coarse))"
   ]
  },
  {
   "cell_type": "code",
   "execution_count": 205,
   "metadata": {},
   "outputs": [],
   "source": [
    "#user_labels_dvae"
   ]
  },
  {
   "cell_type": "code",
   "execution_count": 89,
   "metadata": {},
   "outputs": [
    {
     "data": {
      "text/plain": [
       "array([27, 17, 12, ..., 20, 11, 27])"
      ]
     },
     "execution_count": 89,
     "metadata": {},
     "output_type": "execute_result"
    }
   ],
   "source": [
    "user_labels_dvae[0]"
   ]
  },
  {
   "cell_type": "code",
   "execution_count": 83,
   "metadata": {},
   "outputs": [
    {
     "data": {
      "text/plain": [
       "array([11,  0, 17, ..., 24, 24, 30])"
      ]
     },
     "execution_count": 83,
     "metadata": {},
     "output_type": "execute_result"
    }
   ],
   "source": [
    "user_labels_dvae[0][~bad_labels]"
   ]
  },
  {
   "cell_type": "code",
   "execution_count": 86,
   "metadata": {},
   "outputs": [
    {
     "data": {
      "text/plain": [
       "array([ 49, 278, 469, ...,  -1, 497, 387])"
      ]
     },
     "execution_count": 86,
     "metadata": {},
     "output_type": "execute_result"
    }
   ],
   "source": [
    "labels_fine"
   ]
  },
  {
   "cell_type": "code",
   "execution_count": 90,
   "metadata": {},
   "outputs": [],
   "source": [
    "mask = np.ones(len(user_labels_dvae[0]), dtype=bool) # all elements included/True.\n",
    "mask[bad_labels] = False "
   ]
  },
  {
   "cell_type": "code",
   "execution_count": 91,
   "metadata": {},
   "outputs": [
    {
     "data": {
      "text/plain": [
       "array([27, 17, 12, ..., 20, 11, 27])"
      ]
     },
     "execution_count": 91,
     "metadata": {},
     "output_type": "execute_result"
    }
   ],
   "source": [
    "user_labels_dvae[0]"
   ]
  },
  {
   "cell_type": "code",
   "execution_count": 92,
   "metadata": {},
   "outputs": [
    {
     "data": {
      "text/plain": [
       "array([27, 12, 42, ..., 20, 11, 27])"
      ]
     },
     "execution_count": 92,
     "metadata": {},
     "output_type": "execute_result"
    }
   ],
   "source": [
    "user_labels_dvae[0][mask]"
   ]
  },
  {
   "cell_type": "code",
   "execution_count": 95,
   "metadata": {},
   "outputs": [
    {
     "data": {
      "text/plain": [
       "6151"
      ]
     },
     "execution_count": 95,
     "metadata": {},
     "output_type": "execute_result"
    }
   ],
   "source": [
    "len(labels_coarse)"
   ]
  },
  {
   "cell_type": "code",
   "execution_count": 97,
   "metadata": {},
   "outputs": [],
   "source": [
    "labels_fine = labels_fine[mask]\n",
    "labels_coarse = labels_coarse[mask]\n",
    "labels_medium = labels_medium[mask]"
   ]
  },
  {
   "cell_type": "code",
   "execution_count": 98,
   "metadata": {},
   "outputs": [],
   "source": [
    "def get_dataframe(user_labels_list, model) :\n",
    "    stuff = []\n",
    "    for index in range(len(user_labels_list)) : \n",
    "        user_labels = user_labels_list[index][mask]\n",
    "\n",
    "        d = {\n",
    "        \"model\": f\"{model}\",\n",
    "        \"index\": f\"{model}_{index}\",\n",
    "        \"rand_fine\" : adjusted_rand_score(user_labels, labels_fine), \n",
    "        \"rand_coarse\" : adjusted_rand_score(user_labels, labels_coarse), \n",
    "        \"nmi_fine\": normalized_mutual_info_score(user_labels, labels_fine),\n",
    "        \"nmi_coarse\": normalized_mutual_info_score(user_labels, labels_coarse),\n",
    "        \"purity_fine\": purity(user_labels, labels_fine),\n",
    "        \"purity_coarse\": purity(user_labels, labels_coarse)\n",
    "        }\n",
    "\n",
    "    #     print(f\"Model {index}\\n\\t Rand Scores: {rand_coarse:.3f},{rand_fine:.3f} \\\n",
    "    #              \\tNMI Scores: {nmi_coarse:.3f},{nmi_fine:.3f} \\\n",
    "    #              \\tPurity Scores: {purity_coarse:.3f},{purity_fine:.3f}\")\n",
    "\n",
    "        stuff.append(d)\n",
    "        \n",
    "    df = pd.DataFrame(stuff)\n",
    "\n",
    "    return df"
   ]
  },
  {
   "cell_type": "code",
   "execution_count": 99,
   "metadata": {},
   "outputs": [],
   "source": [
    "dvae = get_dataframe(user_labels_dvae, \"dvae\")"
   ]
  },
  {
   "cell_type": "code",
   "execution_count": 100,
   "metadata": {},
   "outputs": [
    {
     "data": {
      "text/html": [
       "<div>\n",
       "<style scoped>\n",
       "    .dataframe tbody tr th:only-of-type {\n",
       "        vertical-align: middle;\n",
       "    }\n",
       "\n",
       "    .dataframe tbody tr th {\n",
       "        vertical-align: top;\n",
       "    }\n",
       "\n",
       "    .dataframe thead th {\n",
       "        text-align: right;\n",
       "    }\n",
       "</style>\n",
       "<table border=\"1\" class=\"dataframe\">\n",
       "  <thead>\n",
       "    <tr style=\"text-align: right;\">\n",
       "      <th></th>\n",
       "      <th>model</th>\n",
       "      <th>index</th>\n",
       "      <th>rand_fine</th>\n",
       "      <th>rand_coarse</th>\n",
       "      <th>nmi_fine</th>\n",
       "      <th>nmi_coarse</th>\n",
       "      <th>purity_fine</th>\n",
       "      <th>purity_coarse</th>\n",
       "    </tr>\n",
       "  </thead>\n",
       "  <tbody>\n",
       "    <tr>\n",
       "      <th>0</th>\n",
       "      <td>dvae</td>\n",
       "      <td>dvae_0</td>\n",
       "      <td>0.126609</td>\n",
       "      <td>0.488711</td>\n",
       "      <td>0.581835</td>\n",
       "      <td>0.655661</td>\n",
       "      <td>0.138166</td>\n",
       "      <td>0.620985</td>\n",
       "    </tr>\n",
       "    <tr>\n",
       "      <th>1</th>\n",
       "      <td>dvae</td>\n",
       "      <td>dvae_1</td>\n",
       "      <td>0.232784</td>\n",
       "      <td>0.304770</td>\n",
       "      <td>0.665838</td>\n",
       "      <td>0.618177</td>\n",
       "      <td>0.222660</td>\n",
       "      <td>0.658259</td>\n",
       "    </tr>\n",
       "    <tr>\n",
       "      <th>2</th>\n",
       "      <td>dvae</td>\n",
       "      <td>dvae_2</td>\n",
       "      <td>0.234363</td>\n",
       "      <td>0.314916</td>\n",
       "      <td>0.660457</td>\n",
       "      <td>0.617792</td>\n",
       "      <td>0.214462</td>\n",
       "      <td>0.653152</td>\n",
       "    </tr>\n",
       "    <tr>\n",
       "      <th>3</th>\n",
       "      <td>dvae</td>\n",
       "      <td>dvae_3</td>\n",
       "      <td>0.240250</td>\n",
       "      <td>0.302758</td>\n",
       "      <td>0.670089</td>\n",
       "      <td>0.624500</td>\n",
       "      <td>0.223646</td>\n",
       "      <td>0.662605</td>\n",
       "    </tr>\n",
       "    <tr>\n",
       "      <th>4</th>\n",
       "      <td>dvae</td>\n",
       "      <td>dvae_4</td>\n",
       "      <td>0.220073</td>\n",
       "      <td>0.288681</td>\n",
       "      <td>0.640260</td>\n",
       "      <td>0.594534</td>\n",
       "      <td>0.206398</td>\n",
       "      <td>0.642624</td>\n",
       "    </tr>\n",
       "  </tbody>\n",
       "</table>\n",
       "</div>"
      ],
      "text/plain": [
       "  model   index  rand_fine  rand_coarse  nmi_fine  nmi_coarse  purity_fine  \\\n",
       "0  dvae  dvae_0   0.126609     0.488711  0.581835    0.655661     0.138166   \n",
       "1  dvae  dvae_1   0.232784     0.304770  0.665838    0.618177     0.222660   \n",
       "2  dvae  dvae_2   0.234363     0.314916  0.660457    0.617792     0.214462   \n",
       "3  dvae  dvae_3   0.240250     0.302758  0.670089    0.624500     0.223646   \n",
       "4  dvae  dvae_4   0.220073     0.288681  0.640260    0.594534     0.206398   \n",
       "\n",
       "   purity_coarse  \n",
       "0       0.620985  \n",
       "1       0.658259  \n",
       "2       0.653152  \n",
       "3       0.662605  \n",
       "4       0.642624  "
      ]
     },
     "execution_count": 100,
     "metadata": {},
     "output_type": "execute_result"
    }
   ],
   "source": [
    "dvae.head()"
   ]
  },
  {
   "cell_type": "code",
   "execution_count": 101,
   "metadata": {},
   "outputs": [],
   "source": [
    "mallet = get_dataframe(user_labels_mallet, \"mallet\")"
   ]
  },
  {
   "cell_type": "code",
   "execution_count": 102,
   "metadata": {},
   "outputs": [
    {
     "data": {
      "text/html": [
       "<div>\n",
       "<style scoped>\n",
       "    .dataframe tbody tr th:only-of-type {\n",
       "        vertical-align: middle;\n",
       "    }\n",
       "\n",
       "    .dataframe tbody tr th {\n",
       "        vertical-align: top;\n",
       "    }\n",
       "\n",
       "    .dataframe thead th {\n",
       "        text-align: right;\n",
       "    }\n",
       "</style>\n",
       "<table border=\"1\" class=\"dataframe\">\n",
       "  <thead>\n",
       "    <tr style=\"text-align: right;\">\n",
       "      <th></th>\n",
       "      <th>model</th>\n",
       "      <th>index</th>\n",
       "      <th>rand_fine</th>\n",
       "      <th>rand_coarse</th>\n",
       "      <th>nmi_fine</th>\n",
       "      <th>nmi_coarse</th>\n",
       "      <th>purity_fine</th>\n",
       "      <th>purity_coarse</th>\n",
       "    </tr>\n",
       "  </thead>\n",
       "  <tbody>\n",
       "    <tr>\n",
       "      <th>0</th>\n",
       "      <td>mallet</td>\n",
       "      <td>mallet_0</td>\n",
       "      <td>0.222347</td>\n",
       "      <td>0.305325</td>\n",
       "      <td>0.640946</td>\n",
       "      <td>0.601537</td>\n",
       "      <td>0.215582</td>\n",
       "      <td>0.646835</td>\n",
       "    </tr>\n",
       "    <tr>\n",
       "      <th>1</th>\n",
       "      <td>mallet</td>\n",
       "      <td>mallet_1</td>\n",
       "      <td>0.242516</td>\n",
       "      <td>0.311352</td>\n",
       "      <td>0.660462</td>\n",
       "      <td>0.611603</td>\n",
       "      <td>0.216612</td>\n",
       "      <td>0.650688</td>\n",
       "    </tr>\n",
       "    <tr>\n",
       "      <th>2</th>\n",
       "      <td>mallet</td>\n",
       "      <td>mallet_2</td>\n",
       "      <td>0.229226</td>\n",
       "      <td>0.310525</td>\n",
       "      <td>0.658138</td>\n",
       "      <td>0.613428</td>\n",
       "      <td>0.220241</td>\n",
       "      <td>0.656512</td>\n",
       "    </tr>\n",
       "    <tr>\n",
       "      <th>3</th>\n",
       "      <td>mallet</td>\n",
       "      <td>mallet_3</td>\n",
       "      <td>0.225675</td>\n",
       "      <td>0.341299</td>\n",
       "      <td>0.657734</td>\n",
       "      <td>0.614826</td>\n",
       "      <td>0.214910</td>\n",
       "      <td>0.651405</td>\n",
       "    </tr>\n",
       "    <tr>\n",
       "      <th>4</th>\n",
       "      <td>mallet</td>\n",
       "      <td>mallet_4</td>\n",
       "      <td>0.229480</td>\n",
       "      <td>0.329078</td>\n",
       "      <td>0.659023</td>\n",
       "      <td>0.610697</td>\n",
       "      <td>0.213879</td>\n",
       "      <td>0.653555</td>\n",
       "    </tr>\n",
       "  </tbody>\n",
       "</table>\n",
       "</div>"
      ],
      "text/plain": [
       "    model     index  rand_fine  rand_coarse  nmi_fine  nmi_coarse  \\\n",
       "0  mallet  mallet_0   0.222347     0.305325  0.640946    0.601537   \n",
       "1  mallet  mallet_1   0.242516     0.311352  0.660462    0.611603   \n",
       "2  mallet  mallet_2   0.229226     0.310525  0.658138    0.613428   \n",
       "3  mallet  mallet_3   0.225675     0.341299  0.657734    0.614826   \n",
       "4  mallet  mallet_4   0.229480     0.329078  0.659023    0.610697   \n",
       "\n",
       "   purity_fine  purity_coarse  \n",
       "0     0.215582       0.646835  \n",
       "1     0.216612       0.650688  \n",
       "2     0.220241       0.656512  \n",
       "3     0.214910       0.651405  \n",
       "4     0.213879       0.653555  "
      ]
     },
     "execution_count": 102,
     "metadata": {},
     "output_type": "execute_result"
    }
   ],
   "source": [
    "mallet.head()"
   ]
  },
  {
   "cell_type": "code",
   "execution_count": 103,
   "metadata": {},
   "outputs": [],
   "source": [
    "df = pd.concat([dvae, mallet], ignore_index=True)"
   ]
  },
  {
   "cell_type": "code",
   "execution_count": 104,
   "metadata": {},
   "outputs": [
    {
     "data": {
      "text/plain": [
       "(162, 8)"
      ]
     },
     "execution_count": 104,
     "metadata": {},
     "output_type": "execute_result"
    }
   ],
   "source": [
    "df.shape"
   ]
  },
  {
   "cell_type": "code",
   "execution_count": 105,
   "metadata": {},
   "outputs": [
    {
     "data": {
      "text/html": [
       "<div>\n",
       "<style scoped>\n",
       "    .dataframe tbody tr th:only-of-type {\n",
       "        vertical-align: middle;\n",
       "    }\n",
       "\n",
       "    .dataframe tbody tr th {\n",
       "        vertical-align: top;\n",
       "    }\n",
       "\n",
       "    .dataframe thead th {\n",
       "        text-align: right;\n",
       "    }\n",
       "</style>\n",
       "<table border=\"1\" class=\"dataframe\">\n",
       "  <thead>\n",
       "    <tr style=\"text-align: right;\">\n",
       "      <th></th>\n",
       "      <th>model</th>\n",
       "      <th>index</th>\n",
       "      <th>rand_fine</th>\n",
       "      <th>rand_coarse</th>\n",
       "      <th>nmi_fine</th>\n",
       "      <th>nmi_coarse</th>\n",
       "      <th>purity_fine</th>\n",
       "      <th>purity_coarse</th>\n",
       "    </tr>\n",
       "  </thead>\n",
       "  <tbody>\n",
       "    <tr>\n",
       "      <th>0</th>\n",
       "      <td>dvae</td>\n",
       "      <td>dvae_0</td>\n",
       "      <td>0.126609</td>\n",
       "      <td>0.488711</td>\n",
       "      <td>0.581835</td>\n",
       "      <td>0.655661</td>\n",
       "      <td>0.138166</td>\n",
       "      <td>0.620985</td>\n",
       "    </tr>\n",
       "    <tr>\n",
       "      <th>1</th>\n",
       "      <td>dvae</td>\n",
       "      <td>dvae_1</td>\n",
       "      <td>0.232784</td>\n",
       "      <td>0.304770</td>\n",
       "      <td>0.665838</td>\n",
       "      <td>0.618177</td>\n",
       "      <td>0.222660</td>\n",
       "      <td>0.658259</td>\n",
       "    </tr>\n",
       "    <tr>\n",
       "      <th>2</th>\n",
       "      <td>dvae</td>\n",
       "      <td>dvae_2</td>\n",
       "      <td>0.234363</td>\n",
       "      <td>0.314916</td>\n",
       "      <td>0.660457</td>\n",
       "      <td>0.617792</td>\n",
       "      <td>0.214462</td>\n",
       "      <td>0.653152</td>\n",
       "    </tr>\n",
       "    <tr>\n",
       "      <th>3</th>\n",
       "      <td>dvae</td>\n",
       "      <td>dvae_3</td>\n",
       "      <td>0.240250</td>\n",
       "      <td>0.302758</td>\n",
       "      <td>0.670089</td>\n",
       "      <td>0.624500</td>\n",
       "      <td>0.223646</td>\n",
       "      <td>0.662605</td>\n",
       "    </tr>\n",
       "    <tr>\n",
       "      <th>4</th>\n",
       "      <td>dvae</td>\n",
       "      <td>dvae_4</td>\n",
       "      <td>0.220073</td>\n",
       "      <td>0.288681</td>\n",
       "      <td>0.640260</td>\n",
       "      <td>0.594534</td>\n",
       "      <td>0.206398</td>\n",
       "      <td>0.642624</td>\n",
       "    </tr>\n",
       "  </tbody>\n",
       "</table>\n",
       "</div>"
      ],
      "text/plain": [
       "  model   index  rand_fine  rand_coarse  nmi_fine  nmi_coarse  purity_fine  \\\n",
       "0  dvae  dvae_0   0.126609     0.488711  0.581835    0.655661     0.138166   \n",
       "1  dvae  dvae_1   0.232784     0.304770  0.665838    0.618177     0.222660   \n",
       "2  dvae  dvae_2   0.234363     0.314916  0.660457    0.617792     0.214462   \n",
       "3  dvae  dvae_3   0.240250     0.302758  0.670089    0.624500     0.223646   \n",
       "4  dvae  dvae_4   0.220073     0.288681  0.640260    0.594534     0.206398   \n",
       "\n",
       "   purity_coarse  \n",
       "0       0.620985  \n",
       "1       0.658259  \n",
       "2       0.653152  \n",
       "3       0.662605  \n",
       "4       0.642624  "
      ]
     },
     "execution_count": 105,
     "metadata": {},
     "output_type": "execute_result"
    }
   ],
   "source": [
    "df.head()"
   ]
  },
  {
   "cell_type": "code",
   "execution_count": 107,
   "metadata": {},
   "outputs": [],
   "source": [
    "df.to_csv(\"coverage_results_for_viz_wiki.csv\", index=False) "
   ]
  },
  {
   "cell_type": "code",
   "execution_count": 106,
   "metadata": {},
   "outputs": [
    {
     "name": "stdout",
     "output_type": "stream",
     "text": [
      "/workspace/topic-preprocessing/analysis\r\n"
     ]
    }
   ],
   "source": [
    "!pwd"
   ]
  },
  {
   "cell_type": "code",
   "execution_count": null,
   "metadata": {},
   "outputs": [],
   "source": []
  },
  {
   "cell_type": "code",
   "execution_count": 157,
   "metadata": {},
   "outputs": [
    {
     "name": "stdout",
     "output_type": "stream",
     "text": [
      "Model 0\n",
      "\t Rand Scores: 0.156,0.317              \tNMI Scores: 0.365,0.447              \tPurity Scores: 0.516,0.322\n",
      "Model 1\n",
      "\t Rand Scores: 0.174,0.395              \tNMI Scores: 0.376,0.468              \tPurity Scores: 0.536,0.334\n",
      "Model 2\n",
      "\t Rand Scores: 0.143,0.257              \tNMI Scores: 0.387,0.466              \tPurity Scores: 0.550,0.353\n",
      "Model 3\n",
      "\t Rand Scores: 0.179,0.351              \tNMI Scores: 0.384,0.485              \tPurity Scores: 0.545,0.355\n",
      "Model 4\n",
      "\t Rand Scores: 0.144,0.282              \tNMI Scores: 0.322,0.393              \tPurity Scores: 0.508,0.312\n"
     ]
    }
   ],
   "source": [
    "dvae_stuff = []\n",
    "for index in range(len(user_labels_dvae)) : \n",
    "    user_labels = user_labels_dvae[index]\n",
    "    \n",
    "    d = {\n",
    "    \"rand_fine\" : adjusted_rand_score(user_labels, labels_fine), \n",
    "    \"rand_coarse\" : adjusted_rand_score(user_labels, labels_coarse), \n",
    "    \"nmi_fine\": normalized_mutual_info_score(user_labels, labels_fine),\n",
    "    \"nmi_coarse\": normalized_mutual_info_score(user_labels, labels_coarse),\n",
    "    \"purity_fine\": purity(user_labels, labels_fine),\n",
    "    \"purity_coarse\" = purity(user_labels, labels_coarse)\n",
    "    \"model\":\"dvae\",\n",
    "    \"index\":f\"dvae_{index}\"\n",
    "    }\n",
    "    \n",
    "#     print(f\"Model {index}\\n\\t Rand Scores: {rand_coarse:.3f},{rand_fine:.3f} \\\n",
    "#              \\tNMI Scores: {nmi_coarse:.3f},{nmi_fine:.3f} \\\n",
    "#              \\tPurity Scores: {purity_coarse:.3f},{purity_fine:.3f}\")\n",
    "\n",
    "    dvae_stuff.append(d)"
   ]
  },
  {
   "cell_type": "code",
   "execution_count": 231,
   "metadata": {
    "scrolled": true
   },
   "outputs": [
    {
     "name": "stdout",
     "output_type": "stream",
     "text": [
      "Model 0\n",
      "\t Rand Scores: 0.156,0.317              \tNMI Scores: 0.365,0.447              \tPurity Scores: 0.516,0.322\n",
      "Model 1\n",
      "\t Rand Scores: 0.174,0.395              \tNMI Scores: 0.376,0.468              \tPurity Scores: 0.536,0.334\n",
      "Model 2\n",
      "\t Rand Scores: 0.143,0.257              \tNMI Scores: 0.387,0.466              \tPurity Scores: 0.550,0.353\n",
      "Model 3\n",
      "\t Rand Scores: 0.179,0.351              \tNMI Scores: 0.384,0.485              \tPurity Scores: 0.545,0.355\n",
      "Model 4\n",
      "\t Rand Scores: 0.144,0.282              \tNMI Scores: 0.322,0.393              \tPurity Scores: 0.508,0.312\n",
      "Model 5\n",
      "\t Rand Scores: 0.203,0.404              \tNMI Scores: 0.380,0.481              \tPurity Scores: 0.546,0.361\n",
      "Model 6\n",
      "\t Rand Scores: 0.156,0.336              \tNMI Scores: 0.367,0.444              \tPurity Scores: 0.534,0.329\n",
      "Model 7\n",
      "\t Rand Scores: 0.148,0.252              \tNMI Scores: 0.364,0.436              \tPurity Scores: 0.521,0.308\n",
      "Model 8\n",
      "\t Rand Scores: 0.164,0.316              \tNMI Scores: 0.392,0.477              \tPurity Scores: 0.554,0.349\n",
      "Model 9\n",
      "\t Rand Scores: 0.172,0.344              \tNMI Scores: 0.377,0.473              \tPurity Scores: 0.540,0.341\n",
      "Model 10\n",
      "\t Rand Scores: 0.165,0.320              \tNMI Scores: 0.388,0.484              \tPurity Scores: 0.557,0.364\n",
      "Model 11\n",
      "\t Rand Scores: 0.160,0.306              \tNMI Scores: 0.383,0.479              \tPurity Scores: 0.541,0.356\n",
      "Model 12\n",
      "\t Rand Scores: 0.138,0.280              \tNMI Scores: 0.372,0.450              \tPurity Scores: 0.531,0.330\n",
      "Model 13\n",
      "\t Rand Scores: 0.158,0.290              \tNMI Scores: 0.384,0.458              \tPurity Scores: 0.535,0.323\n",
      "Model 14\n",
      "\t Rand Scores: 0.155,0.316              \tNMI Scores: 0.371,0.479              \tPurity Scores: 0.536,0.362\n",
      "Model 15\n",
      "\t Rand Scores: 0.143,0.285              \tNMI Scores: 0.390,0.469              \tPurity Scores: 0.559,0.356\n",
      "Model 16\n",
      "\t Rand Scores: 0.185,0.342              \tNMI Scores: 0.388,0.468              \tPurity Scores: 0.552,0.331\n",
      "Model 17\n",
      "\t Rand Scores: 0.163,0.334              \tNMI Scores: 0.370,0.457              \tPurity Scores: 0.534,0.340\n",
      "Model 18\n",
      "\t Rand Scores: 0.176,0.379              \tNMI Scores: 0.389,0.492              \tPurity Scores: 0.553,0.351\n",
      "Model 19\n",
      "\t Rand Scores: 0.168,0.354              \tNMI Scores: 0.383,0.491              \tPurity Scores: 0.547,0.350\n",
      "Model 20\n",
      "\t Rand Scores: 0.150,0.279              \tNMI Scores: 0.365,0.450              \tPurity Scores: 0.528,0.319\n",
      "Model 21\n",
      "\t Rand Scores: 0.155,0.255              \tNMI Scores: 0.387,0.460              \tPurity Scores: 0.544,0.331\n",
      "Model 22\n",
      "\t Rand Scores: 0.165,0.316              \tNMI Scores: 0.380,0.480              \tPurity Scores: 0.551,0.364\n",
      "Model 23\n",
      "\t Rand Scores: 0.122,0.277              \tNMI Scores: 0.365,0.478              \tPurity Scores: 0.540,0.361\n",
      "Model 24\n",
      "\t Rand Scores: 0.165,0.348              \tNMI Scores: 0.384,0.487              \tPurity Scores: 0.551,0.348\n",
      "Model 25\n",
      "\t Rand Scores: 0.175,0.269              \tNMI Scores: 0.393,0.457              \tPurity Scores: 0.557,0.333\n",
      "Model 26\n",
      "\t Rand Scores: 0.156,0.325              \tNMI Scores: 0.373,0.461              \tPurity Scores: 0.549,0.342\n",
      "Model 27\n",
      "\t Rand Scores: 0.133,0.251              \tNMI Scores: 0.362,0.441              \tPurity Scores: 0.520,0.309\n",
      "Model 28\n",
      "\t Rand Scores: 0.156,0.285              \tNMI Scores: 0.385,0.457              \tPurity Scores: 0.539,0.334\n",
      "Model 29\n",
      "\t Rand Scores: 0.143,0.292              \tNMI Scores: 0.382,0.479              \tPurity Scores: 0.553,0.362\n",
      "Model 30\n",
      "\t Rand Scores: 0.155,0.319              \tNMI Scores: 0.375,0.480              \tPurity Scores: 0.546,0.361\n",
      "Model 31\n",
      "\t Rand Scores: 0.187,0.365              \tNMI Scores: 0.381,0.471              \tPurity Scores: 0.540,0.342\n",
      "Model 32\n",
      "\t Rand Scores: 0.194,0.357              \tNMI Scores: 0.388,0.464              \tPurity Scores: 0.549,0.326\n",
      "Model 33\n",
      "\t Rand Scores: 0.176,0.343              \tNMI Scores: 0.385,0.469              \tPurity Scores: 0.547,0.341\n",
      "Model 34\n",
      "\t Rand Scores: 0.168,0.342              \tNMI Scores: 0.399,0.487              \tPurity Scores: 0.573,0.349\n",
      "Model 35\n",
      "\t Rand Scores: 0.176,0.350              \tNMI Scores: 0.406,0.476              \tPurity Scores: 0.575,0.351\n",
      "Model 36\n",
      "\t Rand Scores: 0.172,0.331              \tNMI Scores: 0.394,0.487              \tPurity Scores: 0.548,0.350\n",
      "Model 37\n",
      "\t Rand Scores: 0.159,0.297              \tNMI Scores: 0.381,0.471              \tPurity Scores: 0.545,0.346\n",
      "Model 38\n",
      "\t Rand Scores: 0.145,0.283              \tNMI Scores: 0.369,0.454              \tPurity Scores: 0.524,0.317\n",
      "Model 39\n",
      "\t Rand Scores: 0.155,0.280              \tNMI Scores: 0.386,0.473              \tPurity Scores: 0.558,0.344\n",
      "Model 40\n",
      "\t Rand Scores: 0.141,0.321              \tNMI Scores: 0.383,0.495              \tPurity Scores: 0.548,0.360\n",
      "Model 41\n",
      "\t Rand Scores: 0.152,0.288              \tNMI Scores: 0.358,0.434              \tPurity Scores: 0.523,0.310\n",
      "Model 42\n",
      "\t Rand Scores: 0.151,0.296              \tNMI Scores: 0.370,0.470              \tPurity Scores: 0.531,0.324\n",
      "Model 43\n",
      "\t Rand Scores: 0.135,0.250              \tNMI Scores: 0.347,0.418              \tPurity Scores: 0.511,0.300\n",
      "Model 44\n",
      "\t Rand Scores: 0.184,0.405              \tNMI Scores: 0.373,0.467              \tPurity Scores: 0.533,0.328\n",
      "Model 45\n",
      "\t Rand Scores: 0.176,0.311              \tNMI Scores: 0.397,0.474              \tPurity Scores: 0.555,0.350\n",
      "Model 46\n",
      "\t Rand Scores: 0.157,0.313              \tNMI Scores: 0.387,0.482              \tPurity Scores: 0.554,0.349\n",
      "Model 47\n",
      "\t Rand Scores: 0.149,0.284              \tNMI Scores: 0.362,0.451              \tPurity Scores: 0.528,0.313\n",
      "Model 48\n",
      "\t Rand Scores: 0.174,0.385              \tNMI Scores: 0.392,0.505              \tPurity Scores: 0.561,0.370\n",
      "Model 49\n",
      "\t Rand Scores: 0.173,0.333              \tNMI Scores: 0.390,0.478              \tPurity Scores: 0.557,0.356\n",
      "Model 50\n",
      "\t Rand Scores: 0.168,0.339              \tNMI Scores: 0.387,0.478              \tPurity Scores: 0.551,0.347\n",
      "Model 51\n",
      "\t Rand Scores: 0.150,0.256              \tNMI Scores: 0.379,0.446              \tPurity Scores: 0.532,0.312\n",
      "Model 52\n",
      "\t Rand Scores: 0.159,0.275              \tNMI Scores: 0.376,0.442              \tPurity Scores: 0.536,0.308\n",
      "Model 53\n",
      "\t Rand Scores: 0.187,0.402              \tNMI Scores: 0.369,0.461              \tPurity Scores: 0.522,0.330\n",
      "Model 54\n",
      "\t Rand Scores: 0.158,0.330              \tNMI Scores: 0.378,0.484              \tPurity Scores: 0.550,0.372\n",
      "Model 55\n",
      "\t Rand Scores: 0.151,0.304              \tNMI Scores: 0.383,0.473              \tPurity Scores: 0.545,0.344\n",
      "Model 56\n",
      "\t Rand Scores: 0.151,0.311              \tNMI Scores: 0.375,0.470              \tPurity Scores: 0.532,0.330\n",
      "Model 57\n",
      "\t Rand Scores: 0.165,0.276              \tNMI Scores: 0.395,0.468              \tPurity Scores: 0.564,0.342\n",
      "Model 58\n",
      "\t Rand Scores: 0.147,0.298              \tNMI Scores: 0.383,0.475              \tPurity Scores: 0.553,0.345\n",
      "Model 59\n",
      "\t Rand Scores: 0.152,0.251              \tNMI Scores: 0.369,0.435              \tPurity Scores: 0.523,0.301\n",
      "Model 60\n",
      "\t Rand Scores: 0.157,0.331              \tNMI Scores: 0.348,0.415              \tPurity Scores: 0.506,0.296\n",
      "Model 61\n",
      "\t Rand Scores: 0.121,0.241              \tNMI Scores: 0.342,0.432              \tPurity Scores: 0.512,0.349\n",
      "Model 62\n",
      "\t Rand Scores: 0.168,0.348              \tNMI Scores: 0.366,0.451              \tPurity Scores: 0.526,0.314\n",
      "Model 63\n",
      "\t Rand Scores: 0.191,0.392              \tNMI Scores: 0.371,0.454              \tPurity Scores: 0.524,0.308\n",
      "Model 64\n",
      "\t Rand Scores: 0.181,0.366              \tNMI Scores: 0.386,0.466              \tPurity Scores: 0.554,0.337\n",
      "Model 65\n",
      "\t Rand Scores: 0.184,0.395              \tNMI Scores: 0.375,0.474              \tPurity Scores: 0.545,0.341\n",
      "Model 66\n",
      "\t Rand Scores: 0.165,0.350              \tNMI Scores: 0.375,0.478              \tPurity Scores: 0.536,0.344\n",
      "Model 67\n",
      "\t Rand Scores: 0.160,0.330              \tNMI Scores: 0.397,0.484              \tPurity Scores: 0.563,0.358\n",
      "Model 68\n",
      "\t Rand Scores: 0.168,0.314              \tNMI Scores: 0.397,0.485              \tPurity Scores: 0.563,0.357\n",
      "Model 69\n",
      "\t Rand Scores: 0.165,0.345              \tNMI Scores: 0.361,0.437              \tPurity Scores: 0.524,0.315\n",
      "Model 70\n",
      "\t Rand Scores: 0.184,0.396              \tNMI Scores: 0.372,0.462              \tPurity Scores: 0.524,0.332\n",
      "Model 71\n",
      "\t Rand Scores: 0.201,0.423              \tNMI Scores: 0.383,0.489              \tPurity Scores: 0.551,0.366\n"
     ]
    },
    {
     "name": "stdout",
     "output_type": "stream",
     "text": [
      "Model 72\n",
      "\t Rand Scores: 0.142,0.292              \tNMI Scores: 0.373,0.478              \tPurity Scores: 0.539,0.352\n",
      "Model 73\n",
      "\t Rand Scores: 0.141,0.253              \tNMI Scores: 0.383,0.458              \tPurity Scores: 0.540,0.339\n",
      "Model 74\n",
      "\t Rand Scores: 0.194,0.380              \tNMI Scores: 0.393,0.474              \tPurity Scores: 0.552,0.336\n",
      "Model 75\n",
      "\t Rand Scores: 0.160,0.310              \tNMI Scores: 0.386,0.474              \tPurity Scores: 0.555,0.350\n",
      "Model 76\n",
      "\t Rand Scores: 0.166,0.337              \tNMI Scores: 0.381,0.476              \tPurity Scores: 0.547,0.348\n",
      "Model 77\n",
      "\t Rand Scores: 0.162,0.323              \tNMI Scores: 0.388,0.484              \tPurity Scores: 0.554,0.357\n",
      "Model 78\n",
      "\t Rand Scores: 0.171,0.355              \tNMI Scores: 0.391,0.493              \tPurity Scores: 0.557,0.365\n",
      "Model 79\n",
      "\t Rand Scores: 0.136,0.241              \tNMI Scores: 0.346,0.414              \tPurity Scores: 0.515,0.294\n",
      "Model 80\n",
      "\t Rand Scores: 0.151,0.292              \tNMI Scores: 0.358,0.443              \tPurity Scores: 0.518,0.325\n",
      "Model 81\n",
      "\t Rand Scores: 0.155,0.287              \tNMI Scores: 0.382,0.473              \tPurity Scores: 0.545,0.349\n"
     ]
    }
   ],
   "source": [
    "for index in range(len(user_labels_dvae)) : \n",
    "    user_labels = user_labels_dvae[index]\n",
    "    rand_fine = adjusted_rand_score(user_labels, labels_fine)\n",
    "    rand_coarse = adjusted_rand_score(user_labels, labels_coarse)\n",
    "    nmi_fine = normalized_mutual_info_score(user_labels, labels_fine)\n",
    "    nmi_coarse = normalized_mutual_info_score(user_labels, labels_coarse)\n",
    "    purity_fine = purity(user_labels, labels_fine)\n",
    "    purity_coarse = purity(user_labels, labels_coarse)\n",
    "    \n",
    "    print(f\"Model {index}\\n\\t Rand Scores: {rand_coarse:.3f},{rand_fine:.3f} \\\n",
    "             \\tNMI Scores: {nmi_coarse:.3f},{nmi_fine:.3f} \\\n",
    "             \\tPurity Scores: {purity_coarse:.3f},{purity_fine:.3f}\")"
   ]
  },
  {
   "cell_type": "code",
   "execution_count": 230,
   "metadata": {},
   "outputs": [
    {
     "name": "stdout",
     "output_type": "stream",
     "text": [
      "Model 0\n",
      "\t Rand Scores: 0.183,0.350              \tNMI Scores: 0.371,0.456              \tPurity Scores: 0.546,0.327\n",
      "Model 1\n",
      "\t Rand Scores: 0.178,0.343              \tNMI Scores: 0.371,0.460              \tPurity Scores: 0.543,0.333\n",
      "Model 2\n",
      "\t Rand Scores: 0.154,0.318              \tNMI Scores: 0.374,0.456              \tPurity Scores: 0.552,0.332\n",
      "Model 3\n",
      "\t Rand Scores: 0.190,0.408              \tNMI Scores: 0.378,0.468              \tPurity Scores: 0.552,0.343\n",
      "Model 4\n",
      "\t Rand Scores: 0.194,0.423              \tNMI Scores: 0.370,0.468              \tPurity Scores: 0.541,0.349\n",
      "Model 5\n",
      "\t Rand Scores: 0.167,0.352              \tNMI Scores: 0.371,0.467              \tPurity Scores: 0.552,0.353\n",
      "Model 6\n",
      "\t Rand Scores: 0.190,0.406              \tNMI Scores: 0.363,0.445              \tPurity Scores: 0.531,0.320\n",
      "Model 7\n",
      "\t Rand Scores: 0.199,0.430              \tNMI Scores: 0.372,0.466              \tPurity Scores: 0.548,0.341\n",
      "Model 8\n",
      "\t Rand Scores: 0.183,0.359              \tNMI Scores: 0.369,0.458              \tPurity Scores: 0.546,0.331\n",
      "Model 9\n",
      "\t Rand Scores: 0.198,0.419              \tNMI Scores: 0.373,0.467              \tPurity Scores: 0.546,0.341\n",
      "Model 10\n",
      "\t Rand Scores: 0.183,0.350              \tNMI Scores: 0.372,0.455              \tPurity Scores: 0.548,0.326\n",
      "Model 11\n",
      "\t Rand Scores: 0.122,0.223              \tNMI Scores: 0.316,0.370              \tPurity Scores: 0.486,0.251\n",
      "Model 12\n",
      "\t Rand Scores: 0.169,0.359              \tNMI Scores: 0.369,0.465              \tPurity Scores: 0.547,0.351\n",
      "Model 13\n",
      "\t Rand Scores: 0.128,0.270              \tNMI Scores: 0.350,0.422              \tPurity Scores: 0.527,0.304\n",
      "Model 14\n",
      "\t Rand Scores: 0.192,0.417              \tNMI Scores: 0.371,0.460              \tPurity Scores: 0.543,0.334\n",
      "Model 15\n",
      "\t Rand Scores: 0.174,0.371              \tNMI Scores: 0.369,0.458              \tPurity Scores: 0.543,0.331\n",
      "Model 16\n",
      "\t Rand Scores: 0.199,0.437              \tNMI Scores: 0.375,0.470              \tPurity Scores: 0.541,0.345\n",
      "Model 17\n",
      "\t Rand Scores: 0.171,0.340              \tNMI Scores: 0.373,0.459              \tPurity Scores: 0.545,0.328\n",
      "Model 18\n",
      "\t Rand Scores: 0.196,0.417              \tNMI Scores: 0.375,0.465              \tPurity Scores: 0.549,0.341\n",
      "Model 19\n",
      "\t Rand Scores: 0.169,0.356              \tNMI Scores: 0.372,0.464              \tPurity Scores: 0.544,0.342\n",
      "Model 20\n",
      "\t Rand Scores: 0.192,0.419              \tNMI Scores: 0.372,0.465              \tPurity Scores: 0.543,0.346\n",
      "Model 21\n",
      "\t Rand Scores: 0.196,0.408              \tNMI Scores: 0.380,0.471              \tPurity Scores: 0.552,0.351\n",
      "Model 22\n",
      "\t Rand Scores: 0.204,0.419              \tNMI Scores: 0.379,0.457              \tPurity Scores: 0.558,0.332\n",
      "Model 23\n",
      "\t Rand Scores: 0.103,0.183              \tNMI Scores: 0.303,0.353              \tPurity Scores: 0.476,0.240\n",
      "Model 24\n",
      "\t Rand Scores: 0.194,0.406              \tNMI Scores: 0.378,0.470              \tPurity Scores: 0.551,0.350\n",
      "Model 25\n",
      "\t Rand Scores: 0.192,0.405              \tNMI Scores: 0.379,0.465              \tPurity Scores: 0.553,0.335\n",
      "Model 26\n",
      "\t Rand Scores: 0.189,0.420              \tNMI Scores: 0.375,0.467              \tPurity Scores: 0.548,0.352\n",
      "Model 27\n",
      "\t Rand Scores: 0.199,0.438              \tNMI Scores: 0.375,0.470              \tPurity Scores: 0.548,0.348\n",
      "Model 28\n",
      "\t Rand Scores: 0.197,0.421              \tNMI Scores: 0.378,0.468              \tPurity Scores: 0.550,0.348\n",
      "Model 29\n",
      "\t Rand Scores: 0.196,0.425              \tNMI Scores: 0.377,0.470              \tPurity Scores: 0.554,0.353\n",
      "Model 30\n",
      "\t Rand Scores: 0.163,0.349              \tNMI Scores: 0.366,0.461              \tPurity Scores: 0.541,0.336\n",
      "Model 31\n",
      "\t Rand Scores: 0.196,0.428              \tNMI Scores: 0.368,0.465              \tPurity Scores: 0.542,0.344\n",
      "Model 32\n",
      "\t Rand Scores: 0.202,0.422              \tNMI Scores: 0.375,0.454              \tPurity Scores: 0.553,0.330\n",
      "Model 33\n",
      "\t Rand Scores: 0.193,0.421              \tNMI Scores: 0.376,0.462              \tPurity Scores: 0.548,0.343\n",
      "Model 34\n",
      "\t Rand Scores: 0.197,0.425              \tNMI Scores: 0.372,0.465              \tPurity Scores: 0.543,0.347\n",
      "Model 35\n",
      "\t Rand Scores: 0.195,0.425              \tNMI Scores: 0.369,0.464              \tPurity Scores: 0.545,0.343\n",
      "Model 36\n",
      "\t Rand Scores: 0.186,0.402              \tNMI Scores: 0.364,0.462              \tPurity Scores: 0.533,0.332\n",
      "Model 37\n",
      "\t Rand Scores: 0.196,0.410              \tNMI Scores: 0.379,0.471              \tPurity Scores: 0.551,0.352\n",
      "Model 38\n",
      "\t Rand Scores: 0.195,0.424              \tNMI Scores: 0.369,0.466              \tPurity Scores: 0.543,0.345\n",
      "Model 39\n",
      "\t Rand Scores: 0.195,0.422              \tNMI Scores: 0.371,0.466              \tPurity Scores: 0.543,0.345\n",
      "Model 40\n",
      "\t Rand Scores: 0.199,0.423              \tNMI Scores: 0.374,0.465              \tPurity Scores: 0.546,0.341\n",
      "Model 41\n",
      "\t Rand Scores: 0.196,0.419              \tNMI Scores: 0.377,0.467              \tPurity Scores: 0.549,0.348\n",
      "Model 42\n",
      "\t Rand Scores: 0.198,0.437              \tNMI Scores: 0.370,0.466              \tPurity Scores: 0.541,0.349\n",
      "Model 43\n",
      "\t Rand Scores: 0.198,0.438              \tNMI Scores: 0.376,0.466              \tPurity Scores: 0.550,0.350\n",
      "Model 44\n",
      "\t Rand Scores: 0.190,0.399              \tNMI Scores: 0.371,0.461              \tPurity Scores: 0.545,0.336\n",
      "Model 45\n",
      "\t Rand Scores: 0.166,0.332              \tNMI Scores: 0.366,0.444              \tPurity Scores: 0.542,0.323\n",
      "Model 46\n",
      "\t Rand Scores: 0.188,0.414              \tNMI Scores: 0.368,0.446              \tPurity Scores: 0.539,0.327\n",
      "Model 47\n",
      "\t Rand Scores: 0.195,0.422              \tNMI Scores: 0.371,0.466              \tPurity Scores: 0.543,0.345\n",
      "Model 48\n",
      "\t Rand Scores: 0.190,0.420              \tNMI Scores: 0.366,0.462              \tPurity Scores: 0.535,0.339\n",
      "Model 49\n",
      "\t Rand Scores: 0.193,0.420              \tNMI Scores: 0.376,0.462              \tPurity Scores: 0.548,0.343\n",
      "Model 50\n",
      "\t Rand Scores: 0.189,0.412              \tNMI Scores: 0.371,0.464              \tPurity Scores: 0.544,0.343\n",
      "Model 51\n",
      "\t Rand Scores: 0.194,0.420              \tNMI Scores: 0.370,0.464              \tPurity Scores: 0.540,0.337\n",
      "Model 52\n",
      "\t Rand Scores: 0.196,0.426              \tNMI Scores: 0.378,0.470              \tPurity Scores: 0.554,0.355\n",
      "Model 53\n",
      "\t Rand Scores: 0.201,0.415              \tNMI Scores: 0.368,0.456              \tPurity Scores: 0.539,0.330\n",
      "Model 54\n",
      "\t Rand Scores: 0.178,0.343              \tNMI Scores: 0.371,0.461              \tPurity Scores: 0.544,0.334\n",
      "Model 55\n",
      "\t Rand Scores: 0.190,0.427              \tNMI Scores: 0.377,0.469              \tPurity Scores: 0.548,0.351\n",
      "Model 56\n",
      "\t Rand Scores: 0.193,0.426              \tNMI Scores: 0.372,0.469              \tPurity Scores: 0.546,0.345\n",
      "Model 57\n",
      "\t Rand Scores: 0.139,0.308              \tNMI Scores: 0.369,0.450              \tPurity Scores: 0.545,0.329\n",
      "Model 58\n",
      "\t Rand Scores: 0.201,0.434              \tNMI Scores: 0.375,0.462              \tPurity Scores: 0.547,0.344\n",
      "Model 59\n",
      "\t Rand Scores: 0.195,0.429              \tNMI Scores: 0.372,0.465              \tPurity Scores: 0.541,0.343\n",
      "Model 60\n",
      "\t Rand Scores: 0.197,0.408              \tNMI Scores: 0.378,0.471              \tPurity Scores: 0.548,0.347\n",
      "Model 61\n",
      "\t Rand Scores: 0.167,0.329              \tNMI Scores: 0.365,0.447              \tPurity Scores: 0.542,0.323\n",
      "Model 62\n",
      "\t Rand Scores: 0.164,0.325              \tNMI Scores: 0.359,0.443              \tPurity Scores: 0.535,0.326\n",
      "Model 63\n",
      "\t Rand Scores: 0.171,0.343              \tNMI Scores: 0.368,0.461              \tPurity Scores: 0.543,0.342\n",
      "Model 64\n",
      "\t Rand Scores: 0.114,0.214              \tNMI Scores: 0.313,0.368              \tPurity Scores: 0.488,0.255\n",
      "Model 65\n",
      "\t Rand Scores: 0.185,0.408              \tNMI Scores: 0.371,0.455              \tPurity Scores: 0.544,0.337\n",
      "Model 66\n",
      "\t Rand Scores: 0.181,0.399              \tNMI Scores: 0.368,0.453              \tPurity Scores: 0.539,0.327\n",
      "Model 67\n",
      "\t Rand Scores: 0.174,0.346              \tNMI Scores: 0.369,0.457              \tPurity Scores: 0.546,0.336\n",
      "Model 68\n",
      "\t Rand Scores: 0.137,0.279              \tNMI Scores: 0.333,0.390              \tPurity Scores: 0.498,0.270\n",
      "Model 69\n",
      "\t Rand Scores: 0.193,0.418              \tNMI Scores: 0.377,0.462              \tPurity Scores: 0.549,0.341\n",
      "Model 70\n",
      "\t Rand Scores: 0.191,0.419              \tNMI Scores: 0.366,0.462              \tPurity Scores: 0.536,0.340\n",
      "Model 71\n",
      "\t Rand Scores: 0.173,0.347              \tNMI Scores: 0.380,0.471              \tPurity Scores: 0.555,0.355\n"
     ]
    },
    {
     "name": "stdout",
     "output_type": "stream",
     "text": [
      "Model 72\n",
      "\t Rand Scores: 0.193,0.408              \tNMI Scores: 0.372,0.457              \tPurity Scores: 0.544,0.329\n",
      "Model 73\n",
      "\t Rand Scores: 0.168,0.354              \tNMI Scores: 0.372,0.468              \tPurity Scores: 0.553,0.353\n",
      "Model 74\n",
      "\t Rand Scores: 0.173,0.345              \tNMI Scores: 0.380,0.470              \tPurity Scores: 0.555,0.354\n",
      "Model 75\n",
      "\t Rand Scores: 0.201,0.422              \tNMI Scores: 0.368,0.459              \tPurity Scores: 0.539,0.333\n",
      "Model 76\n",
      "\t Rand Scores: 0.195,0.427              \tNMI Scores: 0.371,0.467              \tPurity Scores: 0.543,0.345\n",
      "Model 77\n",
      "\t Rand Scores: 0.170,0.340              \tNMI Scores: 0.370,0.457              \tPurity Scores: 0.545,0.329\n",
      "Model 78\n",
      "\t Rand Scores: 0.197,0.433              \tNMI Scores: 0.380,0.472              \tPurity Scores: 0.552,0.359\n",
      "Model 79\n",
      "\t Rand Scores: 0.192,0.417              \tNMI Scores: 0.379,0.470              \tPurity Scores: 0.554,0.344\n",
      "Model 80\n",
      "\t Rand Scores: 0.197,0.431              \tNMI Scores: 0.370,0.465              \tPurity Scores: 0.541,0.348\n",
      "Model 81\n",
      "\t Rand Scores: 0.198,0.420              \tNMI Scores: 0.372,0.467              \tPurity Scores: 0.546,0.342\n",
      "Model 82\n",
      "\t Rand Scores: 0.193,0.427              \tNMI Scores: 0.370,0.462              \tPurity Scores: 0.544,0.337\n",
      "Model 83\n",
      "\t Rand Scores: 0.186,0.402              \tNMI Scores: 0.363,0.461              \tPurity Scores: 0.532,0.328\n"
     ]
    }
   ],
   "source": [
    "for index in range(len(user_labels_mallet)) : \n",
    "    user_labels = user_labels_mallet[index]\n",
    "    rand_fine = adjusted_rand_score(user_labels, labels_fine)\n",
    "    rand_coarse = adjusted_rand_score(user_labels, labels_coarse)\n",
    "    nmi_fine = normalized_mutual_info_score(user_labels, labels_fine)\n",
    "    nmi_coarse = normalized_mutual_info_score(user_labels, labels_coarse)\n",
    "    purity_fine = purity(user_labels, labels_fine)\n",
    "    purity_coarse = purity(user_labels, labels_coarse)\n",
    "    \n",
    "    print(f\"Model {index}\\n\\t Rand Scores: {rand_coarse:.3f},{rand_fine:.3f} \\\n",
    "             \\tNMI Scores: {nmi_coarse:.3f},{nmi_fine:.3f} \\\n",
    "             \\tPurity Scores: {purity_coarse:.3f},{purity_fine:.3f}\")"
   ]
  },
  {
   "cell_type": "code",
   "execution_count": null,
   "metadata": {},
   "outputs": [],
   "source": [
    "users"
   ]
  }
 ],
 "metadata": {
  "interpreter": {
   "hash": "cc6a37dc584c4a360ff3ecf424cce2628e732b1d4f3b37dd63babf9eae293401"
  },
  "kernelspec": {
   "display_name": "cluster_ranking",
   "language": "python",
   "name": "cluster_ranking"
  },
  "language_info": {
   "codemirror_mode": {
    "name": "ipython",
    "version": 3
   },
   "file_extension": ".py",
   "mimetype": "text/x-python",
   "name": "python",
   "nbconvert_exporter": "python",
   "pygments_lexer": "ipython3",
   "version": "3.9.7"
  }
 },
 "nbformat": 4,
 "nbformat_minor": 2
}
