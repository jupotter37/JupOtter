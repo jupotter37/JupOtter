{
 "cells": [
  {
   "cell_type": "code",
   "execution_count": 1,
   "id": "c2114f4c",
   "metadata": {},
   "outputs": [
    {
     "name": "stdout",
     "output_type": "stream",
     "text": [
      "2.3.3\n"
     ]
    }
   ],
   "source": [
    "\n",
    "import tensorflow as tf\n",
    "import pickle\n",
    "import os \n",
    "import cv2\n",
    "import numpy as np\n",
    "from sklearn.metrics import recall_score, precision_score, accuracy_score, f1_score\n",
    "print(tf.__version__)\n",
    "\n"
   ]
  },
  {
   "cell_type": "code",
   "execution_count": 2,
   "id": "b64c5bf2",
   "metadata": {},
   "outputs": [],
   "source": [
    "os.environ[\"TF_FORCE_GPU_ALLOW_GROWTH\"]=\"true\""
   ]
  },
  {
   "cell_type": "code",
   "execution_count": 3,
   "id": "fbee964a",
   "metadata": {},
   "outputs": [],
   "source": [
    "! export TF_FORCE_GPU_ALLOW_GROWTH=true"
   ]
  },
  {
   "cell_type": "code",
   "execution_count": null,
   "id": "2950880c",
   "metadata": {},
   "outputs": [],
   "source": []
  },
  {
   "cell_type": "code",
   "execution_count": 2,
   "id": "9266c114",
   "metadata": {},
   "outputs": [],
   "source": [
    "IMAGE_SIZE = (224,224,3)"
   ]
  },
  {
   "cell_type": "code",
   "execution_count": null,
   "id": "338df265",
   "metadata": {},
   "outputs": [],
   "source": []
  },
  {
   "cell_type": "code",
   "execution_count": 3,
   "id": "04ae8b88",
   "metadata": {},
   "outputs": [],
   "source": [
    "physical_devices = tf.config.list_physical_devices('GPU')\n",
    "for device in physical_devices:\n",
    "    tf.config.experimental.set_memory_growth(device, True)"
   ]
  },
  {
   "cell_type": "code",
   "execution_count": 4,
   "id": "7fb7472c",
   "metadata": {},
   "outputs": [
    {
     "name": "stdout",
     "output_type": "stream",
     "text": [
      "WARNING:tensorflow:There are non-GPU devices in `tf.distribute.Strategy`, not using nccl allreduce.\n",
      "INFO:tensorflow:Using MirroredStrategy with devices ('/job:localhost/replica:0/task:0/device:CPU:0',)\n",
      "\n",
      "\n",
      "\n",
      "Number of devices: 1\n"
     ]
    },
    {
     "name": "stderr",
     "output_type": "stream",
     "text": [
      "2021-11-12 15:28:45.693383: I tensorflow/core/platform/cpu_feature_guard.cc:142] This TensorFlow binary is optimized with oneAPI Deep Neural Network Library (oneDNN)to use the following CPU instructions in performance-critical operations:  AVX2 FMA\n",
      "To enable them in other operations, rebuild TensorFlow with the appropriate compiler flags.\n",
      "2021-11-12 15:28:45.713676: I tensorflow/compiler/xla/service/service.cc:168] XLA service 0x7f85af18c270 initialized for platform Host (this does not guarantee that XLA will be used). Devices:\n",
      "2021-11-12 15:28:45.713692: I tensorflow/compiler/xla/service/service.cc:176]   StreamExecutor device (0): Host, Default Version\n"
     ]
    }
   ],
   "source": [
    "###\n",
    "### Use all GPUs.\n",
    "###\n",
    "strategy = tf.distribute.MirroredStrategy()\n",
    "print()\n",
    "print()\n",
    "print()\n",
    "print('Number of devices: {}'.format(strategy.num_replicas_in_sync))"
   ]
  },
  {
   "cell_type": "code",
   "execution_count": null,
   "id": "de0c0ffd",
   "metadata": {},
   "outputs": [],
   "source": []
  },
  {
   "cell_type": "code",
   "execution_count": null,
   "id": "12388b75",
   "metadata": {},
   "outputs": [],
   "source": []
  },
  {
   "cell_type": "code",
   "execution_count": 5,
   "id": "8641950a",
   "metadata": {},
   "outputs": [],
   "source": [
    "def make_model_2():\n",
    "    def build_convnet(shape=None):\n",
    "        momentum = 0.9\n",
    "        model = tf.keras.Sequential()\n",
    "        model.add(tf.keras.layers.Conv2D(64, (3,3), input_shape=shape[1:], padding='same', activation='linear'))\n",
    "        model.add(tf.keras.layers.BatchNormalization(momentum=momentum))\n",
    "        model.add(tf.keras.layers.Activation('relu'))\n",
    "\n",
    "        model.add(tf.keras.layers.MaxPool2D())\n",
    "\n",
    "        model.add(tf.keras.layers.Conv2D(128, (3,3), padding='same', activation='linear'))\n",
    "        model.add(tf.keras.layers.BatchNormalization(momentum=momentum))\n",
    "        model.add(tf.keras.layers.Activation('relu'))\n",
    "\n",
    "        model.add(tf.keras.layers.MaxPool2D())\n",
    "\n",
    "        model.add(tf.keras.layers.Conv2D(256, (3,3), padding='same', activation='linear'))\n",
    "        model.add(tf.keras.layers.BatchNormalization(momentum=momentum))\n",
    "        model.add(tf.keras.layers.Activation('relu'))\n",
    "\n",
    "        # flatten\n",
    "        model.add(tf.keras.layers.GlobalMaxPool2D())\n",
    "        return model\n",
    "    shape = (90, IMAGE_SIZE[0], IMAGE_SIZE[1], IMAGE_SIZE[2])\n",
    "    print('Train data shape: ', shape)\n",
    "\n",
    "    convnet = build_convnet(shape)\n",
    "\n",
    "    model = tf.keras.Sequential()\n",
    "    model.add(tf.keras.layers.TimeDistributed(convnet, input_shape=shape))\n",
    "    model.add(tf.keras.layers.LSTM(64))\n",
    "\n",
    "    model.add(tf.keras.layers.Dense(256, activation='relu'))\n",
    "    model.add(tf.keras.layers.Dropout(.5))\n",
    "    model.add(tf.keras.layers.Dense(128, activation='relu'))\n",
    "    model.add(tf.keras.layers.Dropout(.5))\n",
    "    model.add(tf.keras.layers.Dense(64, activation='relu'))\n",
    "    model.add(tf.keras.layers.Dropout(.5))\n",
    "    model.add(tf.keras.layers.Dense(16, activation='relu'))\n",
    "\n",
    "    model.add(tf.keras.layers.Dense(1, activation='sigmoid'))\n",
    "    \n",
    "    return model\n",
    "        "
   ]
  },
  {
   "cell_type": "code",
   "execution_count": 6,
   "id": "ab7a3a57",
   "metadata": {},
   "outputs": [],
   "source": [
    "def make_model(): \n",
    "    inp =  tf.keras.layers.Input((None, IMAGE_SIZE[0], IMAGE_SIZE[1], IMAGE_SIZE[2])) # , ragged=True\n",
    "    \n",
    "    mobilenet_model = tf.keras.applications.mobilenet_v2.MobileNetV2(\n",
    "        include_top=False, weights='imagenet', pooling='max', classes=2, input_shape=(IMAGE_SIZE[0], IMAGE_SIZE[1], 3)\n",
    "    )\n",
    "    \n",
    "    for k,v in mobilenet_model._get_trainable_state().items():\n",
    "        k.trainable = False\n",
    "    \n",
    "#     mobilenet_model = tf.keras.models.Sequential()\n",
    "#     mobilenet_model.add(tf.keras.layers.Conv2D(16, (3, 3), activation='relu', input_shape=(IMAGE_SIZE[0], IMAGE_SIZE[1], 3)))\n",
    "#     mobilenet_model.add(tf.keras.layers.MaxPooling2D((2, 2)))\n",
    "#     mobilenet_model.add(tf.keras.layers.Conv2D(16, (3, 3), activation='relu'))\n",
    "# #     mobilenet_model.add(tf.keras.layers.MaxPooling2D((2, 2)))\n",
    "# #     mobilenet_model.add(tf.keras.layers.Conv2D(64, (3, 3), activation='relu'))\n",
    "#     mobilenet_model.add(tf.keras.layers.Flatten())\n",
    "    \n",
    "    x = tf.keras.layers.TimeDistributed(mobilenet_model)(inp)\n",
    "    x = tf.keras.layers.LSTM(64, return_sequences=False)(x)\n",
    "    x = tf.keras.layers.Dropout(0.3)(x)\n",
    "    out = tf.keras.layers.Dense(1, activation = 'sigmoid')(x)\n",
    "\n",
    "    model = tf.keras.Model(inp, out)\n",
    "\n",
    "    model.compile(loss = tf.keras.losses.BinaryCrossentropy(), optimizer = tf.keras.optimizers.Adam(learning_rate=0.01), metrics = ['accuracy', tf.keras.metrics.Precision(), tf.keras.metrics.Recall()])\n",
    "\n",
    "    return model"
   ]
  },
  {
   "cell_type": "code",
   "execution_count": 9,
   "id": "27c5234d",
   "metadata": {},
   "outputs": [],
   "source": [
    "# model = make_model()\n",
    "\n",
    "# model.build(input_shape=IMAGE_SIZE)\n",
    "# model.summary()"
   ]
  },
  {
   "cell_type": "code",
   "execution_count": null,
   "id": "9edc7d15",
   "metadata": {},
   "outputs": [],
   "source": []
  },
  {
   "cell_type": "code",
   "execution_count": null,
   "id": "fc3e412f",
   "metadata": {},
   "outputs": [],
   "source": []
  },
  {
   "cell_type": "code",
   "execution_count": null,
   "id": "d94e7524",
   "metadata": {},
   "outputs": [],
   "source": []
  },
  {
   "cell_type": "code",
   "execution_count": null,
   "id": "5c958dc3",
   "metadata": {},
   "outputs": [],
   "source": []
  },
  {
   "cell_type": "code",
   "execution_count": null,
   "id": "802b294a",
   "metadata": {},
   "outputs": [],
   "source": []
  },
  {
   "cell_type": "code",
   "execution_count": 10,
   "id": "1b1488b6",
   "metadata": {},
   "outputs": [],
   "source": [
    "all_accs = []\n",
    "all_pres = []\n",
    "all_recs = []\n",
    "all_f1s = []"
   ]
  },
  {
   "cell_type": "code",
   "execution_count": 7,
   "id": "639d4a7b",
   "metadata": {},
   "outputs": [],
   "source": [
    "###\n",
    "### CHANGE THIS TO THE CORRECT STARTING PLACE BEFORE RUNNING THE EXPERIMENT AGAIN!!!\n",
    "### This applies if the notebook connection was interrupted during the middle of\n",
    "### the training process..\n",
    "###\n",
    "STARTING_FOLD_INDEX = 319"
   ]
  },
  {
   "cell_type": "code",
   "execution_count": 8,
   "id": "7c94784d",
   "metadata": {},
   "outputs": [],
   "source": [
    "from scipy import interp \n",
    "import pickle, numpy as np\n",
    "from sklearn.metrics import roc_curve, roc_auc_score\n",
    "base_fpr = np.linspace(0, 1, 101)"
   ]
  },
  {
   "cell_type": "code",
   "execution_count": 9,
   "id": "b6cd5f47",
   "metadata": {},
   "outputs": [],
   "source": [
    "def get_means(TPRS, aurocs): \n",
    "    \n",
    "    mean_tpr = np.mean(TPRS, axis=0)\n",
    "\n",
    "    # plot the auroc curves \n",
    "    mean_auroc = sum(aurocs) / len(aurocs)\n",
    "\n",
    "    return mean_tpr, mean_auroc"
   ]
  },
  {
   "cell_type": "code",
   "execution_count": 10,
   "id": "d6765aea",
   "metadata": {},
   "outputs": [
    {
     "name": "stdout",
     "output_type": "stream",
     "text": [
      "FOLD:::  {'train': ['_113.mp4', '_75.mp4', '_88.mp4', '_61.mp4', '_76.mp4', '_49.mp4', '_17.mp4', '_101.mp4', '_14.mp4', '_65.mp4', '_100.mp4', '_89.mp4', '_99.mp4', '_29.mp4', '_98.mp4', '_2.mp4', '_102.mp4', '_105.mp4', '_114.mp4', '_110.mp4', '_0.mp4', '_72.mp4', '_107.mp4', '_60.mp4', '_10.mp4', '_63.mp4', '_48.mp4', '_115.mp4', '_11.mp4', '_38.mp4', '_1.mp4', '_3.mp4', '_77.mp4', '_39.mp4', '_104.mp4', '_106.mp4', '_112.mp4', '_5.mp4', '_28.mp4', '_111.mp4', '_127.mp4', '_167.mp4', '_171.mp4', '_173.mp4', '_164.mp4', '_172.mp4', '_130.mp4', '_140.mp4', '_120.mp4', '_163.mp4', '_181.mp4', '_165.mp4', '_160.mp4', '_122.mp4', '_161.mp4', '_126.mp4', '_186.mp4', '_118.mp4', '_142.mp4', '_128.mp4', '_132.mp4', '_174.mp4', '_137.mp4', '_158.mp4', '_144.mp4', '_175.mp4', '_166.mp4', '_169.mp4', '_178.mp4', '_151.mp4', '_116.mp4', '_153.mp4', '_159.mp4', '_187.mp4', '_129.mp4', '_134.mp4', '_152.mp4', '_156.mp4', '_136.mp4', '_124.mp4'], 'test': ['_7.mp4', '_12.mp4', '_71.mp4', '_74.mp4', '_64.mp4', '_13.mp4', '_66.mp4', '_6.mp4', '_16.mp4', '_4.mp4', '_179.mp4', '_157.mp4', '_138.mp4', '_170.mp4', '_176.mp4', '_143.mp4', '_162.mp4', '_154.mp4', '_119.mp4', '_180.mp4']}\n",
      "(80, 90, 224, 224, 3) (20, 90, 224, 224, 3) (80,) (20,)\n",
      "Epoch 1/60\n",
      "5/5 [==============================] - 94s 19s/step - loss: 0.7711 - accuracy: 0.4875 - precision: 0.4872 - recall: 0.4750 - val_loss: 0.6905 - val_accuracy: 0.5500 - val_precision: 0.5714 - val_recall: 0.4000\n",
      "Epoch 2/60\n",
      "5/5 [==============================] - 83s 17s/step - loss: 0.6136 - accuracy: 0.6875 - precision: 0.6596 - recall: 0.7750 - val_loss: 0.7069 - val_accuracy: 0.6500 - val_precision: 0.6667 - val_recall: 0.6000\n",
      "Epoch 3/60\n",
      "5/5 [==============================] - 82s 16s/step - loss: 0.5574 - accuracy: 0.7750 - precision: 0.7500 - recall: 0.8250 - val_loss: 0.6947 - val_accuracy: 0.6500 - val_precision: 0.6667 - val_recall: 0.6000\n",
      "Epoch 4/60\n",
      "5/5 [==============================] - 70s 14s/step - loss: 0.5132 - accuracy: 0.7625 - precision: 0.7143 - recall: 0.8750 - val_loss: 0.7105 - val_accuracy: 0.6500 - val_precision: 0.7143 - val_recall: 0.5000\n",
      "Epoch 5/60\n",
      "5/5 [==============================] - 79s 16s/step - loss: 0.4549 - accuracy: 0.8500 - precision: 0.8684 - recall: 0.8250 - val_loss: 0.6832 - val_accuracy: 0.7000 - val_precision: 0.7500 - val_recall: 0.6000\n",
      "Epoch 6/60\n",
      "5/5 [==============================] - 73s 15s/step - loss: 0.4261 - accuracy: 0.8125 - precision: 0.7907 - recall: 0.8500 - val_loss: 0.6739 - val_accuracy: 0.7000 - val_precision: 0.7500 - val_recall: 0.6000\n",
      "Epoch 7/60\n",
      "5/5 [==============================] - 86s 17s/step - loss: 0.3845 - accuracy: 0.8750 - precision: 0.8947 - recall: 0.8500 - val_loss: 0.6798 - val_accuracy: 0.7000 - val_precision: 0.7500 - val_recall: 0.6000\n",
      "Epoch 8/60\n",
      "5/5 [==============================] - 1992s 398s/step - loss: 0.3678 - accuracy: 0.9125 - precision: 0.9231 - recall: 0.9000 - val_loss: 0.6655 - val_accuracy: 0.7000 - val_precision: 0.7500 - val_recall: 0.6000\n",
      "Epoch 9/60\n",
      "5/5 [==============================] - 226s 45s/step - loss: 0.3511 - accuracy: 0.9125 - precision: 0.9231 - recall: 0.9000 - val_loss: 0.6600 - val_accuracy: 0.7000 - val_precision: 0.7500 - val_recall: 0.6000\n",
      "Epoch 10/60\n",
      "5/5 [==============================] - 229s 46s/step - loss: 0.3310 - accuracy: 0.9125 - precision: 0.9459 - recall: 0.8750 - val_loss: 0.6428 - val_accuracy: 0.7000 - val_precision: 0.7500 - val_recall: 0.6000\n",
      "Epoch 11/60\n",
      "5/5 [==============================] - 1234s 247s/step - loss: 0.3145 - accuracy: 0.9250 - precision: 0.9474 - recall: 0.9000 - val_loss: 0.6561 - val_accuracy: 0.7000 - val_precision: 0.7500 - val_recall: 0.6000\n",
      "Epoch 12/60\n",
      "5/5 [==============================] - 743s 149s/step - loss: 0.2976 - accuracy: 0.9125 - precision: 0.9459 - recall: 0.8750 - val_loss: 0.6821 - val_accuracy: 0.7000 - val_precision: 0.7500 - val_recall: 0.6000\n",
      "Epoch 13/60\n",
      "1/5 [=====>........................] - ETA: 0s - loss: 0.1722 - accuracy: 1.0000 - precision: 1.0000 - recall: 1.0000"
     ]
    }
   ],
   "source": [
    "\n",
    "FOLD_TPRS = [] # all the saved TPRS\n",
    "FOLD_AUROCS = [] # all the saved AUROCs\n",
    "META_RESULT_MATRIX = [] # all the saved results\n",
    "\n",
    "with open(\"file_names_folds.pkl\", 'rb') as f: \n",
    "    SEEDS, FOLD_FILES = pickle.load(f)\n",
    "\n",
    "index_to_start_at = STARTING_FOLD_INDEX\n",
    "\n",
    "TPRS, FPRS, local_aurocs = [],[], []\n",
    "for fold in FOLD_FILES[index_to_start_at:]:\n",
    "\n",
    "    print('FOLD::: ', fold)\n",
    "\n",
    "    train_files = [a.strip('_') for a in fold['train']]\n",
    "    test_files = [a.strip('_') for a in fold['test']]\n",
    "\n",
    "    X_train = []\n",
    "    X_test = []\n",
    "\n",
    "    y_train = []\n",
    "    y_test = []\n",
    "\n",
    "    for filename in train_files:\n",
    "        filename_int = int(filename.split('.mp4')[0])\n",
    "\n",
    "        if filename_int <= 115:\n",
    "            curr_y = 1\n",
    "            subdir_name = 'armflapping'\n",
    "        else:\n",
    "            curr_y = 0\n",
    "            subdir_name = 'control'\n",
    "\n",
    "        curr_x = []\n",
    "        for frame in os.listdir('behavior_data/' + subdir_name + '/' + filename):\n",
    "\n",
    "            frame_num = int(frame.split('.')[0])\n",
    "            if frame_num > 90:\n",
    "                continue\n",
    "\n",
    "            image = cv2.imread('behavior_data/' + subdir_name + '/' + filename + '/' + frame)\n",
    "            try:\n",
    "                image = image.reshape((image.shape[0], image.shape[1], image.shape[2]))\n",
    "            except:\n",
    "                continue\n",
    "\n",
    "            image = cv2.resize(image, (224, 224))\n",
    "            curr_x.append(image)\n",
    "\n",
    "        len_data = len(os.listdir('behavior_data/' + subdir_name + '/' + filename))\n",
    "        if len_data < 90:\n",
    "            for abc in range(len_data, 90):\n",
    "                curr_x.append(np.zeros((224, 224, 3)))\n",
    "\n",
    "        curr_x = np.array(curr_x)\n",
    "\n",
    "        X_train.append(curr_x)\n",
    "        y_train.append(curr_y)\n",
    "\n",
    "    for filename in test_files:\n",
    "        filename_int = int(filename.split('.mp4')[0])\n",
    "\n",
    "        if filename_int <= 115:\n",
    "            curr_y = 1\n",
    "            subdir_name = 'armflapping'\n",
    "        else:\n",
    "            curr_y = 0\n",
    "            subdir_name = 'control'\n",
    "\n",
    "        curr_x = []\n",
    "        for frame in os.listdir('behavior_data/' + subdir_name + '/' + filename):\n",
    "\n",
    "            frame_num = int(frame.split('.')[0])\n",
    "            if frame_num > 90:\n",
    "                continue\n",
    "\n",
    "            image = cv2.imread('behavior_data/' + subdir_name + '/' + filename + '/' + frame)\n",
    "            try:\n",
    "                image = image.reshape((image.shape[0], image.shape[1], image.shape[2]))\n",
    "            except:\n",
    "                continue\n",
    "\n",
    "            image = cv2.resize(image, (224, 224))\n",
    "            curr_x.append(image)\n",
    "\n",
    "        len_data = len(os.listdir('behavior_data/' + subdir_name + '/' + filename))\n",
    "        if len_data < 90:\n",
    "            for abc in range(len_data, 90):\n",
    "                curr_x.append(np.zeros((224, 224, 3)))\n",
    "\n",
    "        curr_x = np.array(curr_x)\n",
    "\n",
    "        X_test.append(curr_x)\n",
    "        y_test.append(curr_y)\n",
    "\n",
    "    X_train = np.array(X_train)\n",
    "    X_test = np.array(X_test)\n",
    "    y_train = np.array(y_train)\n",
    "    y_test = np.array(y_test)\n",
    "\n",
    "    print(X_train.shape, X_test.shape, y_train.shape, y_test.shape)\n",
    "\n",
    "    model = make_model()\n",
    "\n",
    "    model.compile(loss = tf.keras.losses.BinaryCrossentropy(), \n",
    "                    optimizer = tf.keras.optimizers.Adam(learning_rate=0.0001), \n",
    "                    metrics = [['accuracy', tf.keras.metrics.Precision(name=\"precision\"), tf.keras.metrics.Recall(name=\"recall\")]])\n",
    "\n",
    "    history = model.fit(X_train, \n",
    "                        y_train, \n",
    "                        #validation_data = (X_test, y_test),\n",
    "                        batch_size = 16,\n",
    "                        epochs = 60)\n",
    "\n",
    "\n",
    "    ###\n",
    "    ### EVALUATE HERE!!!!!\n",
    "    ###\n",
    "\n",
    "    predictions = []\n",
    "    trues = []\n",
    "    for i in range(X_test.shape[0]):\n",
    "        X_to_predict = np.array([X_test[i]])\n",
    "        pred = model(X_to_predict)\n",
    "        print(pred)\n",
    "        true = y_test[i]\n",
    "        if pred < 0.5:\n",
    "            predictions.append(0)\n",
    "        else:\n",
    "            predictions.append(1)\n",
    "        trues.append(true)\n",
    "\n",
    "    acc = accuracy_score(trues, predictions)\n",
    "    pre = precision_score(trues, predictions)\n",
    "    rec = recall_score(trues, predictions)\n",
    "    f1 = f1_score(trues, predictions)\n",
    "\n",
    "    print('\\n\\n\\n\\n\\n\\n\\n  ', acc, pre, rec, f1, ' \\n\\n\\n\\n\\n\\n\\n')\n",
    "\n",
    "    all_accs.append(acc)\n",
    "    all_pres.append(pre)\n",
    "    all_recs.append(rec)\n",
    "    all_f1s.append(f1)\n",
    "\n",
    "    # get the training scores \n",
    "    training_accuracy = history.history['accuracy'][-1]\n",
    "    training_precision = history.history['precision'][-1]\n",
    "    training_recall = history.history['recall'][-1]\n",
    "    training_f1 = 2 * training_precision * training_recall / (training_precision + training_recall + tf.keras.backend.epsilon())\n",
    "\n",
    "    with open('performances/' + str(STARTING_FOLD_INDEX) + '_results.txt', 'w') as f:\n",
    "        f.write('Training Accuracy: ' + str(training_accuracy) + '\\n')\n",
    "        f.write('Training Precision: ' + str(training_precision) + '\\n')\n",
    "        f.write('Training Recall: ' + str(training_recall) + '\\n')\n",
    "        f.write('Training F1: ' + str(training_f1) + '\\n')\n",
    "        f.write('Validation Accuracy: ' + str(acc) + '\\n')\n",
    "        f.write('Validation Precision: ' + str(pre) + '\\n')\n",
    "        f.write('Validation Recall: ' + str(rec) + '\\n')\n",
    "        f.write('Validation F1: ' + str(f1) + '\\n')\n",
    "        f.write('AUROC: ' + str(roc_auc_score(trues, predictions)) + '\\n')\n",
    "        f.close()\n",
    "        \n",
    "    STARTING_FOLD_INDEX += 1\n",
    "\n",
    "    fpr, tpr, _ = roc_curve(trues, predictions) \n",
    "    tpr = interp(base_fpr, fpr, tpr)\n",
    "    tpr[0] = 0.0 \n",
    "\n",
    "    with open(\"tprs/\" + str(STARTING_FOLD_INDEX) + \"_tprs.pickle\", \"wb\") as f:\n",
    "        pickle.dump(tpr, f)\n",
    "    "
   ]
  },
  {
   "cell_type": "code",
   "execution_count": null,
   "id": "18d3fb3e",
   "metadata": {},
   "outputs": [],
   "source": [
    "# put this in a pickle file to send to anish \n",
    "\"\"\"\n",
    "import pickle\n",
    "with open(\"mobile_net_results.pkl\", 'wb') as f: \n",
    "    pickle.dump((META_RESULT_MATRIX, FOLD_AUROCS, FOLD_TPRS), f)\n",
    "\"\"\""
   ]
  },
  {
   "cell_type": "code",
   "execution_count": null,
   "id": "5901cc6e",
   "metadata": {},
   "outputs": [],
   "source": []
  },
  {
   "cell_type": "markdown",
   "id": "f02a0f39",
   "metadata": {},
   "source": [
    "### Describe summary statistics for all 500 runs."
   ]
  },
  {
   "cell_type": "code",
   "execution_count": 18,
   "id": "165f8de1",
   "metadata": {},
   "outputs": [
    {
     "ename": "TypeError",
     "evalue": "cannot perform reduce with flexible type",
     "output_type": "error",
     "traceback": [
      "\u001b[0;31m---------------------------------------------------------------------------\u001b[0m",
      "\u001b[0;31mTypeError\u001b[0m                                 Traceback (most recent call last)",
      "\u001b[0;32m<ipython-input-18-5abdb896dd9b>\u001b[0m in \u001b[0;36m<module>\u001b[0;34m\u001b[0m\n\u001b[1;32m     20\u001b[0m \u001b[0;34m\u001b[0m\u001b[0m\n\u001b[1;32m     21\u001b[0m \u001b[0;32mfrom\u001b[0m \u001b[0mscipy\u001b[0m \u001b[0;32mimport\u001b[0m \u001b[0mstats\u001b[0m\u001b[0;34m\u001b[0m\u001b[0;34m\u001b[0m\u001b[0m\n\u001b[0;32m---> 22\u001b[0;31m \u001b[0mprint\u001b[0m\u001b[0;34m(\u001b[0m\u001b[0;34m'Acc: '\u001b[0m\u001b[0;34m,\u001b[0m \u001b[0mstats\u001b[0m\u001b[0;34m.\u001b[0m\u001b[0mdescribe\u001b[0m\u001b[0;34m(\u001b[0m\u001b[0mall_accs\u001b[0m\u001b[0;34m)\u001b[0m\u001b[0;34m)\u001b[0m\u001b[0;34m\u001b[0m\u001b[0;34m\u001b[0m\u001b[0m\n\u001b[0m\u001b[1;32m     23\u001b[0m \u001b[0mprint\u001b[0m\u001b[0;34m(\u001b[0m\u001b[0;34m'Pre: '\u001b[0m\u001b[0;34m,\u001b[0m \u001b[0mstats\u001b[0m\u001b[0;34m.\u001b[0m\u001b[0mdescribe\u001b[0m\u001b[0;34m(\u001b[0m\u001b[0mall_pres\u001b[0m\u001b[0;34m)\u001b[0m\u001b[0;34m)\u001b[0m\u001b[0;34m\u001b[0m\u001b[0;34m\u001b[0m\u001b[0m\n\u001b[1;32m     24\u001b[0m \u001b[0mprint\u001b[0m\u001b[0;34m(\u001b[0m\u001b[0;34m'Rec: '\u001b[0m\u001b[0;34m,\u001b[0m \u001b[0mstats\u001b[0m\u001b[0;34m.\u001b[0m\u001b[0mdescribe\u001b[0m\u001b[0;34m(\u001b[0m\u001b[0mall_recs\u001b[0m\u001b[0;34m)\u001b[0m\u001b[0;34m)\u001b[0m\u001b[0;34m\u001b[0m\u001b[0;34m\u001b[0m\u001b[0m\n",
      "\u001b[0;32m/opt/conda/lib/python3.7/site-packages/scipy/stats/stats.py\u001b[0m in \u001b[0;36mdescribe\u001b[0;34m(a, axis, ddof, bias, nan_policy)\u001b[0m\n\u001b[1;32m   1315\u001b[0m         \u001b[0;32mraise\u001b[0m \u001b[0mValueError\u001b[0m\u001b[0;34m(\u001b[0m\u001b[0;34m\"The input must not be empty.\"\u001b[0m\u001b[0;34m)\u001b[0m\u001b[0;34m\u001b[0m\u001b[0;34m\u001b[0m\u001b[0m\n\u001b[1;32m   1316\u001b[0m     \u001b[0mn\u001b[0m \u001b[0;34m=\u001b[0m \u001b[0ma\u001b[0m\u001b[0;34m.\u001b[0m\u001b[0mshape\u001b[0m\u001b[0;34m[\u001b[0m\u001b[0maxis\u001b[0m\u001b[0;34m]\u001b[0m\u001b[0;34m\u001b[0m\u001b[0;34m\u001b[0m\u001b[0m\n\u001b[0;32m-> 1317\u001b[0;31m     \u001b[0mmm\u001b[0m \u001b[0;34m=\u001b[0m \u001b[0;34m(\u001b[0m\u001b[0mnp\u001b[0m\u001b[0;34m.\u001b[0m\u001b[0mmin\u001b[0m\u001b[0;34m(\u001b[0m\u001b[0ma\u001b[0m\u001b[0;34m,\u001b[0m \u001b[0maxis\u001b[0m\u001b[0;34m=\u001b[0m\u001b[0maxis\u001b[0m\u001b[0;34m)\u001b[0m\u001b[0;34m,\u001b[0m \u001b[0mnp\u001b[0m\u001b[0;34m.\u001b[0m\u001b[0mmax\u001b[0m\u001b[0;34m(\u001b[0m\u001b[0ma\u001b[0m\u001b[0;34m,\u001b[0m \u001b[0maxis\u001b[0m\u001b[0;34m=\u001b[0m\u001b[0maxis\u001b[0m\u001b[0;34m)\u001b[0m\u001b[0;34m)\u001b[0m\u001b[0;34m\u001b[0m\u001b[0;34m\u001b[0m\u001b[0m\n\u001b[0m\u001b[1;32m   1318\u001b[0m     \u001b[0mm\u001b[0m \u001b[0;34m=\u001b[0m \u001b[0mnp\u001b[0m\u001b[0;34m.\u001b[0m\u001b[0mmean\u001b[0m\u001b[0;34m(\u001b[0m\u001b[0ma\u001b[0m\u001b[0;34m,\u001b[0m \u001b[0maxis\u001b[0m\u001b[0;34m=\u001b[0m\u001b[0maxis\u001b[0m\u001b[0;34m)\u001b[0m\u001b[0;34m\u001b[0m\u001b[0;34m\u001b[0m\u001b[0m\n\u001b[1;32m   1319\u001b[0m     \u001b[0mv\u001b[0m \u001b[0;34m=\u001b[0m \u001b[0mnp\u001b[0m\u001b[0;34m.\u001b[0m\u001b[0mvar\u001b[0m\u001b[0;34m(\u001b[0m\u001b[0ma\u001b[0m\u001b[0;34m,\u001b[0m \u001b[0maxis\u001b[0m\u001b[0;34m=\u001b[0m\u001b[0maxis\u001b[0m\u001b[0;34m,\u001b[0m \u001b[0mddof\u001b[0m\u001b[0;34m=\u001b[0m\u001b[0mddof\u001b[0m\u001b[0;34m)\u001b[0m\u001b[0;34m\u001b[0m\u001b[0;34m\u001b[0m\u001b[0m\n",
      "\u001b[0;32m<__array_function__ internals>\u001b[0m in \u001b[0;36mamin\u001b[0;34m(*args, **kwargs)\u001b[0m\n",
      "\u001b[0;32m/opt/conda/lib/python3.7/site-packages/numpy/core/fromnumeric.py\u001b[0m in \u001b[0;36mamin\u001b[0;34m(a, axis, out, keepdims, initial, where)\u001b[0m\n\u001b[1;32m   2829\u001b[0m     \"\"\"\n\u001b[1;32m   2830\u001b[0m     return _wrapreduction(a, np.minimum, 'min', axis, None, out,\n\u001b[0;32m-> 2831\u001b[0;31m                           keepdims=keepdims, initial=initial, where=where)\n\u001b[0m\u001b[1;32m   2832\u001b[0m \u001b[0;34m\u001b[0m\u001b[0m\n\u001b[1;32m   2833\u001b[0m \u001b[0;34m\u001b[0m\u001b[0m\n",
      "\u001b[0;32m/opt/conda/lib/python3.7/site-packages/numpy/core/fromnumeric.py\u001b[0m in \u001b[0;36m_wrapreduction\u001b[0;34m(obj, ufunc, method, axis, dtype, out, **kwargs)\u001b[0m\n\u001b[1;32m     85\u001b[0m                 \u001b[0;32mreturn\u001b[0m \u001b[0mreduction\u001b[0m\u001b[0;34m(\u001b[0m\u001b[0maxis\u001b[0m\u001b[0;34m=\u001b[0m\u001b[0maxis\u001b[0m\u001b[0;34m,\u001b[0m \u001b[0mout\u001b[0m\u001b[0;34m=\u001b[0m\u001b[0mout\u001b[0m\u001b[0;34m,\u001b[0m \u001b[0;34m**\u001b[0m\u001b[0mpasskwargs\u001b[0m\u001b[0;34m)\u001b[0m\u001b[0;34m\u001b[0m\u001b[0;34m\u001b[0m\u001b[0m\n\u001b[1;32m     86\u001b[0m \u001b[0;34m\u001b[0m\u001b[0m\n\u001b[0;32m---> 87\u001b[0;31m     \u001b[0;32mreturn\u001b[0m \u001b[0mufunc\u001b[0m\u001b[0;34m.\u001b[0m\u001b[0mreduce\u001b[0m\u001b[0;34m(\u001b[0m\u001b[0mobj\u001b[0m\u001b[0;34m,\u001b[0m \u001b[0maxis\u001b[0m\u001b[0;34m,\u001b[0m \u001b[0mdtype\u001b[0m\u001b[0;34m,\u001b[0m \u001b[0mout\u001b[0m\u001b[0;34m,\u001b[0m \u001b[0;34m**\u001b[0m\u001b[0mpasskwargs\u001b[0m\u001b[0;34m)\u001b[0m\u001b[0;34m\u001b[0m\u001b[0;34m\u001b[0m\u001b[0m\n\u001b[0m\u001b[1;32m     88\u001b[0m \u001b[0;34m\u001b[0m\u001b[0m\n\u001b[1;32m     89\u001b[0m \u001b[0;34m\u001b[0m\u001b[0m\n",
      "\u001b[0;31mTypeError\u001b[0m: cannot perform reduce with flexible type"
     ]
    }
   ],
   "source": [
    "all_accs = []\n",
    "all_pres = []\n",
    "all_recs = []\n",
    "all_f1s = []\n",
    "\n",
    "for file in os.listdir('performances/'):\n",
    "    with open('performances/' + file) as f:\n",
    "        lines = f.readlines()\n",
    "        \n",
    "        acc = float(lines[0].split(': ')[1].strip('\\n'))\n",
    "        pre = float(lines[1].split(': ')[1].strip('\\n'))\n",
    "        rec = float(lines[2].split(': ')[1].strip('\\n'))\n",
    "        f1 = float(lines[3].split(': ')[1].strip('\\n'))\n",
    "        \n",
    "        all_accs.append(acc)\n",
    "        all_pres.append(pre)\n",
    "        all_recs.append(rec)\n",
    "        all_f1s.append(f1)\n",
    "    \n",
    "\n",
    "from scipy import stats\n",
    "print('Acc: ', stats.describe(all_accs))\n",
    "print('Pre: ', stats.describe(all_pres))\n",
    "print('Rec: ', stats.describe(all_recs))\n",
    "print('F1: ', stats.describe(all_f1s))"
   ]
  },
  {
   "cell_type": "code",
   "execution_count": null,
   "id": "01220aaa",
   "metadata": {},
   "outputs": [],
   "source": []
  },
  {
   "cell_type": "code",
   "execution_count": null,
   "id": "44c9004c",
   "metadata": {},
   "outputs": [],
   "source": []
  },
  {
   "cell_type": "code",
   "execution_count": null,
   "id": "b1b90936",
   "metadata": {},
   "outputs": [],
   "source": []
  },
  {
   "cell_type": "code",
   "execution_count": null,
   "id": "351cc2d5",
   "metadata": {},
   "outputs": [],
   "source": []
  },
  {
   "cell_type": "code",
   "execution_count": null,
   "id": "f2e0d96c",
   "metadata": {},
   "outputs": [],
   "source": []
  },
  {
   "cell_type": "code",
   "execution_count": 27,
   "id": "9f32d8b9",
   "metadata": {},
   "outputs": [
    {
     "name": "stdout",
     "output_type": "stream",
     "text": [
      "tf.Tensor([[0.8247404]], shape=(1, 1), dtype=float32)\n",
      "tf.Tensor([[0.9714775]], shape=(1, 1), dtype=float32)\n",
      "tf.Tensor([[0.9940625]], shape=(1, 1), dtype=float32)\n",
      "tf.Tensor([[0.99450547]], shape=(1, 1), dtype=float32)\n",
      "tf.Tensor([[0.9829216]], shape=(1, 1), dtype=float32)\n",
      "tf.Tensor([[0.9581735]], shape=(1, 1), dtype=float32)\n",
      "tf.Tensor([[0.9916317]], shape=(1, 1), dtype=float32)\n",
      "tf.Tensor([[0.9885062]], shape=(1, 1), dtype=float32)\n",
      "tf.Tensor([[0.81362104]], shape=(1, 1), dtype=float32)\n",
      "tf.Tensor([[0.9727558]], shape=(1, 1), dtype=float32)\n",
      "tf.Tensor([[0.05049171]], shape=(1, 1), dtype=float32)\n",
      "tf.Tensor([[0.4205745]], shape=(1, 1), dtype=float32)\n",
      "tf.Tensor([[0.1080795]], shape=(1, 1), dtype=float32)\n",
      "tf.Tensor([[0.04499972]], shape=(1, 1), dtype=float32)\n",
      "tf.Tensor([[0.0348262]], shape=(1, 1), dtype=float32)\n",
      "tf.Tensor([[0.04339964]], shape=(1, 1), dtype=float32)\n",
      "tf.Tensor([[0.03726655]], shape=(1, 1), dtype=float32)\n",
      "tf.Tensor([[0.01246449]], shape=(1, 1), dtype=float32)\n",
      "tf.Tensor([[0.6749961]], shape=(1, 1), dtype=float32)\n",
      "tf.Tensor([[0.2332511]], shape=(1, 1), dtype=float32)\n",
      "Accuracy:  0.95\n",
      "Precision:  0.9090909090909091\n",
      "Recall:  1.0\n",
      "F1 Score:  0.9523809523809523\n"
     ]
    }
   ],
   "source": [
    "'''\n",
    "THIS IS HOW WE WILL HAVE TO EVALUATE PREDICTIONS!!!!!\n",
    "\n",
    "https://stackoverflow.com/questions/56711354/tensorflow-v2-cancellederror-opstatefulpartitionedcall\n",
    "'''\n",
    "\n",
    "from sklearn.metrics import recall_score, precision_score, accuracy_score, f1_score\n",
    "\n",
    "with strategy.scope():\n",
    "    predictions = []\n",
    "    trues = []\n",
    "    for i in range(X_test.shape[0]):\n",
    "        X_to_predict = np.array([X_test[i]])\n",
    "        pred = model(X_to_predict)\n",
    "        print(pred)\n",
    "        true = y_test[i]\n",
    "        if pred < 0.5:\n",
    "            predictions.append(0)\n",
    "        else:\n",
    "            predictions.append(1)\n",
    "        trues.append(true)\n",
    "        \n",
    "    print('Accuracy: ', accuracy_score(trues, predictions))\n",
    "    print('Precision: ', precision_score(trues, predictions))\n",
    "    print('Recall: ', recall_score(trues, predictions))\n",
    "    print('F1 Score: ', f1_score(trues, predictions))\n",
    "    "
   ]
  },
  {
   "cell_type": "code",
   "execution_count": null,
   "id": "5891c576",
   "metadata": {},
   "outputs": [],
   "source": []
  },
  {
   "cell_type": "code",
   "execution_count": null,
   "id": "4def2907",
   "metadata": {},
   "outputs": [],
   "source": []
  },
  {
   "cell_type": "code",
   "execution_count": null,
   "id": "dd04c67a",
   "metadata": {},
   "outputs": [],
   "source": []
  },
  {
   "cell_type": "code",
   "execution_count": null,
   "id": "0c7b02ee",
   "metadata": {},
   "outputs": [],
   "source": []
  },
  {
   "cell_type": "code",
   "execution_count": null,
   "id": "3f875743",
   "metadata": {},
   "outputs": [],
   "source": []
  },
  {
   "cell_type": "code",
   "execution_count": null,
   "id": "d2e01b7d",
   "metadata": {},
   "outputs": [],
   "source": []
  },
  {
   "cell_type": "code",
   "execution_count": null,
   "id": "efd78793",
   "metadata": {},
   "outputs": [],
   "source": []
  },
  {
   "cell_type": "code",
   "execution_count": null,
   "id": "9ba9e358",
   "metadata": {},
   "outputs": [],
   "source": []
  },
  {
   "cell_type": "code",
   "execution_count": null,
   "id": "312b3905",
   "metadata": {},
   "outputs": [],
   "source": []
  },
  {
   "cell_type": "code",
   "execution_count": null,
   "id": "46db1c77",
   "metadata": {},
   "outputs": [],
   "source": []
  },
  {
   "cell_type": "code",
   "execution_count": null,
   "id": "958ee41b",
   "metadata": {},
   "outputs": [],
   "source": []
  },
  {
   "cell_type": "code",
   "execution_count": null,
   "id": "0b4fa0f0",
   "metadata": {},
   "outputs": [],
   "source": []
  },
  {
   "cell_type": "code",
   "execution_count": null,
   "id": "b8489161",
   "metadata": {},
   "outputs": [],
   "source": []
  },
  {
   "cell_type": "code",
   "execution_count": null,
   "id": "93283551",
   "metadata": {},
   "outputs": [],
   "source": []
  },
  {
   "cell_type": "code",
   "execution_count": null,
   "id": "5c4bbc10",
   "metadata": {},
   "outputs": [],
   "source": []
  },
  {
   "cell_type": "code",
   "execution_count": null,
   "id": "de919384",
   "metadata": {},
   "outputs": [],
   "source": []
  },
  {
   "cell_type": "code",
   "execution_count": null,
   "id": "4350a74d",
   "metadata": {},
   "outputs": [],
   "source": []
  }
 ],
 "metadata": {
  "kernelspec": {
   "display_name": "Python 3",
   "language": "python",
   "name": "python3"
  },
  "language_info": {
   "codemirror_mode": {
    "name": "ipython",
    "version": 3
   },
   "file_extension": ".py",
   "mimetype": "text/x-python",
   "name": "python",
   "nbconvert_exporter": "python",
   "pygments_lexer": "ipython3",
   "version": "3.8.3"
  }
 },
 "nbformat": 4,
 "nbformat_minor": 5
}
