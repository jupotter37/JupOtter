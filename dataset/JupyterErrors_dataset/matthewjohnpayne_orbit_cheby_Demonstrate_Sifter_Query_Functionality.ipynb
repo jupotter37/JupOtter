{
 "cells": [
  {
   "cell_type": "markdown",
   "metadata": {},
   "source": [
    "# Demonstrations of Sifter Query Functionality\n",
    "\n",
    " - This notebook contains a mixture of demos of finished code, as well as WIP experimentation with ways to speed-up the code "
   ]
  },
  {
   "cell_type": "code",
   "execution_count": 1,
   "metadata": {},
   "outputs": [
    {
     "data": {
      "text/plain": [
       "<module 'cheby_checker.sifter_query' from '/home/mikea/GitHub/cheby_checker/cheby_checker/sifter_query.py'>"
      ]
     },
     "execution_count": 1,
     "metadata": {},
     "output_type": "execute_result"
    }
   ],
   "source": [
    "import time\n",
    "import numpy as np\n",
    "import scipy.stats as stats\n",
    "import math\n",
    "import random\n",
    "from collections import defaultdict\n",
    "import os\n",
    "import sys\n",
    "from collections import Counter\n",
    "import glob \n",
    "import warnings\n",
    "import warnings\n",
    "warnings.filterwarnings('ignore')\n",
    "import matplotlib.pyplot as plt\n",
    "import importlib\n",
    "from astropy.time import Time\n",
    "\n",
    "# -------------------------------------------------------------------------------------\n",
    "# Local imports\n",
    "# -------------------------------------------------------------------------------------\n",
    "sys.path.append(os.path.dirname(os.getcwd()))\n",
    "from cheby_checker import orbit_cheby\n",
    "from cheby_checker import sifter_query as query\n",
    "importlib.reload(orbit_cheby)\n",
    "importlib.reload(query)\n"
   ]
  },
  {
   "cell_type": "markdown",
   "metadata": {},
   "source": [
    "# BELOW IS OUTDATED; NEEDS UPDATING.\n",
    "(Above might be outdated too, but at least it still runs without errors.)"
   ]
  },
  {
   "cell_type": "markdown",
   "metadata": {},
   "source": [
    "### Input Orbit Cheby Dictionary\n",
    " - We need a 'multi-sector-cheby-dictionary' containing cheby coeffs to represent an orbit\n",
    " - We'll use one created as part of the 'orbit_cheby\" development work\n",
    " - The idea is that some earlier nbody integration produced output that was then approximated as chebyshev polynomials whose coefficients were saved in said dictionary\n",
    " \n",
    " ##### ORBIT_CHEBY HAS CHANGED; it doesn't work like this anymore."
   ]
  },
  {
   "cell_type": "code",
   "execution_count": 2,
   "metadata": {},
   "outputs": [
    {
     "ename": "AttributeError",
     "evalue": "module 'cheby_checker.orbit_cheby' has no attribute 'generate_multi_sector_cheby_dict_from_nbody_text'",
     "output_type": "error",
     "traceback": [
      "\u001b[0;31m---------------------------------------------------------------------------\u001b[0m",
      "\u001b[0;31mAttributeError\u001b[0m                            Traceback (most recent call last)",
      "\u001b[0;32m<timed exec>\u001b[0m in \u001b[0;36m<module>\u001b[0;34m\u001b[0m\n",
      "\u001b[0;31mAttributeError\u001b[0m: module 'cheby_checker.orbit_cheby' has no attribute 'generate_multi_sector_cheby_dict_from_nbody_text'"
     ]
    }
   ],
   "source": [
    "%%time \n",
    "### THIS IS NOT HOW IT WORKS ANYMORE!\n",
    "importlib.reload(orbit_cheby)\n",
    "\n",
    "# Set up a filepath (to file created as part of orbit_cheby development )\n",
    "text_filepath = os.path.join( os.path.dirname(os.path.dirname(os.getcwd()) ), 'orbit_cheby', 'dev_data', '2022AA_demo.txt')\n",
    "\n",
    "# Generate the dictionary by reading the (synthetic) nbody data from file and creating cheby-coeff-dict\n",
    "multi_sector_cheby_dict = orbit_cheby.generate_multi_sector_cheby_dict_from_nbody_text( \n",
    "                                    text_filepath ,\n",
    "                                    45000,\n",
    "                                    55000, \n",
    "                                    minorder=17,\n",
    "                                    CHECK = True )\n",
    "\n",
    "print ( 'Number of sectors = ' , len(multi_sector_cheby_dict['sectors']) )"
   ]
  },
  {
   "cell_type": "markdown",
   "metadata": {},
   "source": [
    "##### Observatory Positions \n",
    "- Some of these calculations require that the positions of the observatory are provided as inputs: I.e. I want to completely separate the obs-posn stuff from the cheby evaluation calculations\n",
    "- For the sake of these demonstrations, where possible I am going to generate a set of standardized input observatory-positions (using a silly ~circular approximation) and then provide those as inputs. \n",
    "     "
   ]
  },
  {
   "cell_type": "code",
   "execution_count": 3,
   "metadata": {},
   "outputs": [
    {
     "name": "stdout",
     "output_type": "stream",
     "text": [
      "(10000, 3)\n",
      "[-0.99885712 -0.04779594 -0.29965714]\n",
      "CPU times: user 10.2 ms, sys: 13 µs, total: 10.2 ms\n",
      "Wall time: 9.18 ms\n"
     ]
    }
   ],
   "source": [
    "%%time \n",
    "\n",
    "# Create a sample of observatory-positions as inputs \n",
    "# - Note the decision to generate the obs posns in the ecliptic\n",
    "# - The intent is to minimize the subsequent coordinate rotations \n",
    "#   (e..g not rotating from ecliptic-to-equatorial) \n",
    "#   when comparing the orbits to the observatory/observations\n",
    "nSample = 1e4 \n",
    "times = Time( 42000. + np.arange( nSample ) , format='mjd', scale='tdb')\n",
    "r = 1.0 \n",
    "XYZobservatory_heliocentric_ecliptic = np.array( [    r*np.cos(times.value), \n",
    "                                                      r*np.sin(times.value) , \n",
    "                                                  0.3*r*np.cos(times.value)]).T\n",
    "\n",
    "print(XYZobservatory_heliocentric_ecliptic.shape)\n",
    "print(XYZobservatory_heliocentric_ecliptic[0])"
   ]
  },
  {
   "cell_type": "markdown",
   "metadata": {},
   "source": [
    "## Demo toplevel \"query\" function\n",
    " - It is expected that a \"standard\" usage of the sifter routine will involve a single cal lto the \"query\" function\n",
    " - This will take an orbit_cheby_dictionaty as input\n",
    " - It will also require access to an observatory_position look-up function\n",
    " \n",
    "N.B. This top-level query calls a number of underlying functions. \n",
    " -  _check_query_inputs(  cheby_dict_for_orbit , param_dict )\n",
    " - _get_nightly_healpix( cheby_dict_for_orbit )   \n",
    " - _query_precalc(JD_list, HP_list)\n",
    " - _get_precise_matches( self.approx_dictionary , cheby_dict_for_orbit , param_dict )\n",
    " - get_results( list_of_tracklet_tuples_precise , param_dict )\n",
    "    \n",
    "These functions are examined in more detail lower-down in this notebook \n",
    " "
   ]
  },
  {
   "cell_type": "code",
   "execution_count": null,
   "metadata": {},
   "outputs": [],
   "source": []
  },
  {
   "cell_type": "markdown",
   "metadata": {},
   "source": [
    "## Evaluate main components used within \"query\" function\n",
    " - The above \"query\" function clals a number of key components \n",
    " - Here I examine/demonstrate/test some of those components "
   ]
  },
  {
   "cell_type": "markdown",
   "metadata": {},
   "source": [
    "######  _check _ query _ inputs\n",
    " - Simple routine to check whether the supplied inputs are correctly formatted / have the correct content "
   ]
  },
  {
   "cell_type": "code",
   "execution_count": 4,
   "metadata": {},
   "outputs": [
    {
     "ename": "NameError",
     "evalue": "name 'cheby_dict_for_orbit' is not defined",
     "output_type": "error",
     "traceback": [
      "\u001b[0;31m---------------------------------------------------------------------------\u001b[0m",
      "\u001b[0;31mNameError\u001b[0m                                 Traceback (most recent call last)",
      "\u001b[0;32m<ipython-input-4-94c36c22fc6d>\u001b[0m in \u001b[0;36m<module>\u001b[0;34m\u001b[0m\n\u001b[0;32m----> 1\u001b[0;31m \u001b[0mquery\u001b[0m\u001b[0;34m.\u001b[0m\u001b[0m_check_query_inputs\u001b[0m\u001b[0;34m(\u001b[0m  \u001b[0mcheby_dict_for_orbit\u001b[0m \u001b[0;34m,\u001b[0m \u001b[0mparam_dict\u001b[0m \u001b[0;34m)\u001b[0m\u001b[0;34m\u001b[0m\u001b[0;34m\u001b[0m\u001b[0m\n\u001b[0m",
      "\u001b[0;31mNameError\u001b[0m: name 'cheby_dict_for_orbit' is not defined"
     ]
    }
   ],
   "source": [
    "query._check_query_inputs(  cheby_dict_for_orbit , param_dict )"
   ]
  },
  {
   "cell_type": "markdown",
   "metadata": {},
   "source": [
    "###### _ get _ nightly _ healpix (evaluates orbital positions on integer days)\n",
    " - Essentially a wrapper around the \"cheby.generate_HP_from_cheby\" function \n",
    " - But note that in order to run automatically, I/we need to sort-out some means to provide access to the nightly positions of the observatories (don't need to worry about the positions at the times of hte tracklets as these will be saved within the sifter pre-calc structures) "
   ]
  },
  {
   "cell_type": "code",
   "execution_count": 5,
   "metadata": {},
   "outputs": [
    {
     "ename": "NameError",
     "evalue": "name 'multi_sector_cheby_dict' is not defined",
     "output_type": "error",
     "traceback": [
      "\u001b[0;31m---------------------------------------------------------------------------\u001b[0m",
      "\u001b[0;31mNameError\u001b[0m                                 Traceback (most recent call last)",
      "\u001b[0;32m<timed exec>\u001b[0m in \u001b[0;36m<module>\u001b[0;34m\u001b[0m\n",
      "\u001b[0;31mNameError\u001b[0m: name 'multi_sector_cheby_dict' is not defined"
     ]
    }
   ],
   "source": [
    "%%time \n",
    "importlib.reload(orbit_cheby)\n",
    "\n",
    "# Get Nightly Healpix (evaluates orbital positions on integer days)\n",
    "JD_list, HP_list = query._get_nightly_healpix( multi_sector_cheby_dict )\n",
    "JD_list, HP_list"
   ]
  },
  {
   "cell_type": "markdown",
   "metadata": {},
   "source": [
    "###### _ query _ precalc \n",
    " - Routine to quickly query an sqlite-db to understand whether there are any tracklets in a given set of (JD,HP) pairs  \n",
    " - It's job is to return approximate/possible matches for a given night, that will be subsequently refined by the \"Get_precise_matches\" function (see below) "
   ]
  },
  {
   "cell_type": "code",
   "execution_count": 6,
   "metadata": {},
   "outputs": [
    {
     "ename": "NameError",
     "evalue": "name '_query_precalc' is not defined",
     "output_type": "error",
     "traceback": [
      "\u001b[0;31m---------------------------------------------------------------------------\u001b[0m",
      "\u001b[0;31mNameError\u001b[0m                                 Traceback (most recent call last)",
      "\u001b[0;32m<ipython-input-6-7bd71f2e0b6c>\u001b[0m in \u001b[0;36m<module>\u001b[0;34m\u001b[0m\n\u001b[0;32m----> 1\u001b[0;31m \u001b[0m_query_precalc\u001b[0m\u001b[0;34m(\u001b[0m\u001b[0mJD_list\u001b[0m\u001b[0;34m,\u001b[0m \u001b[0mHP_list\u001b[0m\u001b[0;34m)\u001b[0m\u001b[0;34m\u001b[0m\u001b[0;34m\u001b[0m\u001b[0m\n\u001b[0m",
      "\u001b[0;31mNameError\u001b[0m: name '_query_precalc' is not defined"
     ]
    }
   ],
   "source": [
    "_query_precalc(JD_list, HP_list)"
   ]
  },
  {
   "cell_type": "markdown",
   "metadata": {},
   "source": [
    "###### _ get _ precise _ matches\n",
    " - Takes the approximate matches (from _query_precalc) and then does precise matching against tracklets\n",
    " - Note that the tracklets contain the pre-calculated observatory positions at the time of calculations\n",
    " \n",
    "### THIS TO BE WRITTEN BY MIKE ALEXANDERSEN ??? ***"
   ]
  },
  {
   "cell_type": "code",
   "execution_count": 7,
   "metadata": {},
   "outputs": [
    {
     "ename": "NameError",
     "evalue": "name '_get_precise_matches' is not defined",
     "output_type": "error",
     "traceback": [
      "\u001b[0;31m---------------------------------------------------------------------------\u001b[0m",
      "\u001b[0;31mNameError\u001b[0m                                 Traceback (most recent call last)",
      "\u001b[0;32m<ipython-input-7-58b35133e0ce>\u001b[0m in \u001b[0;36m<module>\u001b[0;34m\u001b[0m\n\u001b[0;32m----> 1\u001b[0;31m \u001b[0m_get_precise_matches\u001b[0m\u001b[0;34m\u001b[0m\u001b[0;34m\u001b[0m\u001b[0m\n\u001b[0m",
      "\u001b[0;31mNameError\u001b[0m: name '_get_precise_matches' is not defined"
     ]
    }
   ],
   "source": [
    "_get_precise_matches"
   ]
  },
  {
   "cell_type": "markdown",
   "metadata": {},
   "source": [
    "###### get _ results"
   ]
  },
  {
   "cell_type": "code",
   "execution_count": 8,
   "metadata": {},
   "outputs": [
    {
     "ename": "NameError",
     "evalue": "name 'get_results' is not defined",
     "output_type": "error",
     "traceback": [
      "\u001b[0;31m---------------------------------------------------------------------------\u001b[0m",
      "\u001b[0;31mNameError\u001b[0m                                 Traceback (most recent call last)",
      "\u001b[0;32m<ipython-input-8-1a2191fe4ac7>\u001b[0m in \u001b[0;36m<module>\u001b[0;34m\u001b[0m\n\u001b[0;32m----> 1\u001b[0;31m \u001b[0mget_results\u001b[0m\u001b[0;34m\u001b[0m\u001b[0;34m\u001b[0m\u001b[0m\n\u001b[0m",
      "\u001b[0;31mNameError\u001b[0m: name 'get_results' is not defined"
     ]
    }
   ],
   "source": [
    "get_results"
   ]
  }
 ],
 "metadata": {
  "kernelspec": {
   "display_name": "Python 3",
   "language": "python",
   "name": "python3"
  },
  "language_info": {
   "codemirror_mode": {
    "name": "ipython",
    "version": 3
   },
   "file_extension": ".py",
   "mimetype": "text/x-python",
   "name": "python",
   "nbconvert_exporter": "python",
   "pygments_lexer": "ipython3",
   "version": "3.7.7"
  }
 },
 "nbformat": 4,
 "nbformat_minor": 2
}
