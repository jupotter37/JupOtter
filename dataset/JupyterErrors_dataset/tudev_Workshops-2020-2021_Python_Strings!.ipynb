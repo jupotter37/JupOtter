{
  "nbformat": 4,
  "nbformat_minor": 0,
  "metadata": {
    "colab": {
      "name": "Python - Text Strings! (FULL).ipynb",
      "provenance": [],
      "collapsed_sections": []
    },
    "kernelspec": {
      "name": "python3",
      "display_name": "Python 3"
    }
  },
  "cells": [
    {
      "cell_type": "code",
      "metadata": {
        "id": "5ypCn-3cFvTz"
      },
      "source": [
        "import numpy as np"
      ],
      "execution_count": 1,
      "outputs": []
    },
    {
      "cell_type": "markdown",
      "metadata": {
        "id": "FZeFtH-sPD7u"
      },
      "source": [
        "# **Strings**\r\n",
        "**Strings are immutable sequences of Unicode code points. Text within Python can be represented by the string type (str).**\r\n",
        "\r\n",
        "**Because strings are a sequence type, they support indexing and slicing.**\r\n",
        "\r\n",
        "**Each character represents an element in the\r\n",
        "sequence.**\r\n",
        "\r\n",
        "<br/>\r\n",
        "\r\n",
        "<sup>Source: [Documentation for Python - Built-in Types](https://docs.python.org/3/library/stdtypes.html#textseq)</sup>\r\n",
        "\r\n",
        "<sup>Source: [Python Data Structures and Algorithms](https://www.amazon.com/Python-Data-Structures-Algorithms-application-ebook/dp/B01IF7NLM8)</sup>"
      ]
    },
    {
      "cell_type": "code",
      "metadata": {
        "id": "uwIFlKpariL_",
        "colab": {
          "base_uri": "https://localhost:8080/",
          "height": 209
        },
        "outputId": "09f8356c-707a-4150-ae57-61be2cb2f075"
      },
      "source": [
        "#since it's immutable, we can't change the string object\r\n",
        "\r\n",
        "our_planet = 'Earth'\r\n",
        "our_planet[0] = 'e'"
      ],
      "execution_count": 2,
      "outputs": [
        {
          "output_type": "error",
          "ename": "TypeError",
          "evalue": "ignored",
          "traceback": [
            "\u001b[0;31m---------------------------------------------------------------------------\u001b[0m",
            "\u001b[0;31mTypeError\u001b[0m                                 Traceback (most recent call last)",
            "\u001b[0;32m<ipython-input-2-4d664bb9d8cd>\u001b[0m in \u001b[0;36m<module>\u001b[0;34m()\u001b[0m\n\u001b[1;32m      2\u001b[0m \u001b[0;34m\u001b[0m\u001b[0m\n\u001b[1;32m      3\u001b[0m \u001b[0mour_planet\u001b[0m \u001b[0;34m=\u001b[0m \u001b[0;34m'Earth'\u001b[0m\u001b[0;34m\u001b[0m\u001b[0;34m\u001b[0m\u001b[0m\n\u001b[0;32m----> 4\u001b[0;31m \u001b[0mour_planet\u001b[0m\u001b[0;34m[\u001b[0m\u001b[0;36m0\u001b[0m\u001b[0;34m]\u001b[0m \u001b[0;34m=\u001b[0m \u001b[0;34m'e'\u001b[0m\u001b[0;34m\u001b[0m\u001b[0;34m\u001b[0m\u001b[0m\n\u001b[0m",
            "\u001b[0;31mTypeError\u001b[0m: 'str' object does not support item assignment"
          ]
        }
      ]
    },
    {
      "cell_type": "markdown",
      "metadata": {
        "id": "-CtvFk4T50pe"
      },
      "source": [
        "<sup>Source: [Mutability and Immutability in Python by Wendy Leung](https://medium.com/datadriveninvestor/mutable-and-immutable-python-2093deeac8d9)</sup>"
      ]
    },
    {
      "cell_type": "code",
      "metadata": {
        "colab": {
          "base_uri": "https://localhost:8080/"
        },
        "id": "LlT6wxiFs1Qb",
        "outputId": "aced56bd-8591-4e96-9411-dcfb695d19ea"
      },
      "source": [
        "list_ex = [0,1,1,1]\r\n",
        "list_ex[0]\r\n",
        "list_ex[0] = 1\r\n",
        "list_ex"
      ],
      "execution_count": 3,
      "outputs": [
        {
          "output_type": "execute_result",
          "data": {
            "text/plain": [
              "[1, 1, 1, 1]"
            ]
          },
          "metadata": {
            "tags": []
          },
          "execution_count": 3
        }
      ]
    },
    {
      "cell_type": "markdown",
      "metadata": {
        "id": "0VlCuu1zQ3Xf"
      },
      "source": [
        "## **Printing Text**"
      ]
    },
    {
      "cell_type": "code",
      "metadata": {
        "colab": {
          "base_uri": "https://localhost:8080/"
        },
        "id": "_ra_YB4SO7cB",
        "outputId": "3e3f5b02-9140-42fc-b41f-9acf56d1b76b"
      },
      "source": [
        "#can print with single quotes or double quotes\r\n",
        "\r\n",
        "print('Earth, Jupiter, Neptune, Mars, Saturn, Mercury, Venus, Uranus')\r\n",
        "print(\"Earth, Jupiter, Neptune, Mars, Saturn, Mercury, Venus, Uranus\")"
      ],
      "execution_count": 4,
      "outputs": [
        {
          "output_type": "stream",
          "text": [
            "Earth, Jupiter, Neptune, Mars, Saturn, Mercury, Venus, Uranus\n",
            "Earth, Jupiter, Neptune, Mars, Saturn, Mercury, Venus, Uranus\n"
          ],
          "name": "stdout"
        }
      ]
    },
    {
      "cell_type": "code",
      "metadata": {
        "colab": {
          "base_uri": "https://localhost:8080/"
        },
        "id": "4uO_6TZqPtz2",
        "outputId": "4c7360de-23c7-4913-bf59-1d12171af4c7"
      },
      "source": [
        "#multiple lines use triple quotation marks\r\n",
        "print('''Earth,\r\n",
        "Jupiter,\r\n",
        "Neptune,\r\n",
        "Mars,\r\n",
        "Saturn,\r\n",
        "Mercury,\r\n",
        "Venus,\r\n",
        "Uranus''')"
      ],
      "execution_count": 5,
      "outputs": [
        {
          "output_type": "stream",
          "text": [
            "Earth,\n",
            "Jupiter,\n",
            "Neptune,\n",
            "Mars,\n",
            "Saturn,\n",
            "Mercury,\n",
            "Venus,\n",
            "Uranus\n"
          ],
          "name": "stdout"
        }
      ]
    },
    {
      "cell_type": "code",
      "metadata": {
        "colab": {
          "base_uri": "https://localhost:8080/"
        },
        "id": "EUxl1OOePt2W",
        "outputId": "d37b5f34-4e76-4344-b40c-b80465a3ac7f"
      },
      "source": [
        "#we can all use line breaks with single quotes\r\n",
        "print(\"Earth,\\nJupiter\")"
      ],
      "execution_count": 6,
      "outputs": [
        {
          "output_type": "stream",
          "text": [
            "Earth,\n",
            "Jupiter\n"
          ],
          "name": "stdout"
        }
      ]
    },
    {
      "cell_type": "markdown",
      "metadata": {
        "id": "WQJGrcCmctDe"
      },
      "source": [
        "## **Print Formatting**"
      ]
    },
    {
      "cell_type": "code",
      "metadata": {
        "id": "Ioih6dQvPt42"
      },
      "source": [
        "planet_moon_nums = {'Earth':1, 'Jupiter':79, 'Neptune':14, 'Mars':2, 'Saturn':62, 'Mercury':0, 'Venus':0, 'Uranus':27}"
      ],
      "execution_count": 7,
      "outputs": []
    },
    {
      "cell_type": "markdown",
      "metadata": {
        "id": "UASCFXCzd9Oa"
      },
      "source": [
        "<sup>Source: [NASA -  How Many Moons Does Each Planet Have?](https://solarsystem.nasa.gov/moons/in-depth/)</sup>"
      ]
    },
    {
      "cell_type": "code",
      "metadata": {
        "colab": {
          "base_uri": "https://localhost:8080/"
        },
        "id": "t2DWEaJrPt7I",
        "outputId": "a3cee8e5-23d8-46e3-cc03-0db626cadd63"
      },
      "source": [
        "for key, value in planet_moon_nums.items():\r\n",
        "  print(f'{key} has {value} moon(s)')"
      ],
      "execution_count": 8,
      "outputs": [
        {
          "output_type": "stream",
          "text": [
            "Earth has 1 moon(s)\n",
            "Jupiter has 79 moon(s)\n",
            "Neptune has 14 moon(s)\n",
            "Mars has 2 moon(s)\n",
            "Saturn has 62 moon(s)\n",
            "Mercury has 0 moon(s)\n",
            "Venus has 0 moon(s)\n",
            "Uranus has 27 moon(s)\n"
          ],
          "name": "stdout"
        }
      ]
    },
    {
      "cell_type": "markdown",
      "metadata": {
        "id": "meE8Gqayf13W"
      },
      "source": [
        "# **Concatenating Strings**\r\n",
        "\r\n",
        "**String concatenation is when strings are combined together**"
      ]
    },
    {
      "cell_type": "code",
      "metadata": {
        "id": "hqpjDLpl-Seu"
      },
      "source": [
        "uranus_moons = ['Ariel','Umbriel','Titania','Oberon','Miranda','Cordelia','Ophelia','Bianca','Cressida','Desdemona','Juliet','Portia','Rosalind','Belinda','Puck',\r\n",
        "'Caliban','Sycorax','Prospero','Setebos','Stephano','Trinculo','Francisco','Margaret','Ferdinand','Perdita','Mab','Cupid']"
      ],
      "execution_count": 9,
      "outputs": []
    },
    {
      "cell_type": "code",
      "metadata": {
        "colab": {
          "base_uri": "https://localhost:8080/",
          "height": 36
        },
        "id": "LSafBsrz-2LQ",
        "outputId": "16323c87-424a-4e02-930f-89c6b0b75670"
      },
      "source": [
        "'Uranus - ' + 'Ariel'"
      ],
      "execution_count": 10,
      "outputs": [
        {
          "output_type": "execute_result",
          "data": {
            "application/vnd.google.colaboratory.intrinsic+json": {
              "type": "string"
            },
            "text/plain": [
              "'Uranus - Ariel'"
            ]
          },
          "metadata": {
            "tags": []
          },
          "execution_count": 10
        }
      ]
    },
    {
      "cell_type": "code",
      "metadata": {
        "colab": {
          "base_uri": "https://localhost:8080/"
        },
        "id": "TvmI51gyArKP",
        "outputId": "17640eaf-95cb-4412-ac9e-2919e2887573"
      },
      "source": [
        "['Uranus - ' + i for i in uranus_moons]"
      ],
      "execution_count": 11,
      "outputs": [
        {
          "output_type": "execute_result",
          "data": {
            "text/plain": [
              "['Uranus - Ariel',\n",
              " 'Uranus - Umbriel',\n",
              " 'Uranus - Titania',\n",
              " 'Uranus - Oberon',\n",
              " 'Uranus - Miranda',\n",
              " 'Uranus - Cordelia',\n",
              " 'Uranus - Ophelia',\n",
              " 'Uranus - Bianca',\n",
              " 'Uranus - Cressida',\n",
              " 'Uranus - Desdemona',\n",
              " 'Uranus - Juliet',\n",
              " 'Uranus - Portia',\n",
              " 'Uranus - Rosalind',\n",
              " 'Uranus - Belinda',\n",
              " 'Uranus - Puck',\n",
              " 'Uranus - Caliban',\n",
              " 'Uranus - Sycorax',\n",
              " 'Uranus - Prospero',\n",
              " 'Uranus - Setebos',\n",
              " 'Uranus - Stephano',\n",
              " 'Uranus - Trinculo',\n",
              " 'Uranus - Francisco',\n",
              " 'Uranus - Margaret',\n",
              " 'Uranus - Ferdinand',\n",
              " 'Uranus - Perdita',\n",
              " 'Uranus - Mab',\n",
              " 'Uranus - Cupid']"
            ]
          },
          "metadata": {
            "tags": []
          },
          "execution_count": 11
        }
      ]
    },
    {
      "cell_type": "markdown",
      "metadata": {
        "id": "1b8GPZWODMCN"
      },
      "source": [
        "# **Convert String to Integer or Float**"
      ]
    },
    {
      "cell_type": "code",
      "metadata": {
        "id": "dAS1ZOaXDRK2"
      },
      "source": [
        "avg_temp_planet_f = {'Mercury':'800', 'Venus':'880', 'Earth':'61', 'Mars':'-20', 'Jupiter':'-162', 'Saturn':'-218', 'Uranus': '-320', 'Neptune':'-331'}"
      ],
      "execution_count": 12,
      "outputs": []
    },
    {
      "cell_type": "markdown",
      "metadata": {
        "id": "vTNuMBhuNkuw"
      },
      "source": [
        "<sup>Source: [NASA -   Solar System Temperatures](https://solarsystem.nasa.gov/resources/681/solar-system-temperatures/)</sup>"
      ]
    },
    {
      "cell_type": "code",
      "metadata": {
        "id": "D_Jhr1WrFie8"
      },
      "source": [
        "a = {key : int(value) for i in avg_temp_planet_f}"
      ],
      "execution_count": 13,
      "outputs": []
    },
    {
      "cell_type": "code",
      "metadata": {
        "id": "RCSUhwSGG2Jq"
      },
      "source": [
        "avg_temp_planet_f = {key:int(value) for (key,value) in avg_temp_planet_f.items()}"
      ],
      "execution_count": 14,
      "outputs": []
    },
    {
      "cell_type": "code",
      "metadata": {
        "colab": {
          "base_uri": "https://localhost:8080/"
        },
        "id": "fOvgtwq1IeoJ",
        "outputId": "7d878a91-36b6-4a54-c013-3ab2db5609a0"
      },
      "source": [
        "#alt 2-4-8\r\n",
        "print(f'The median temperature within our solar system is: {np.median(list(avg_temp_planet_f.values()))} F°') "
      ],
      "execution_count": 15,
      "outputs": [
        {
          "output_type": "stream",
          "text": [
            "The median temperature within our solar system is: -91.0 F°\n"
          ],
          "name": "stdout"
        }
      ]
    },
    {
      "cell_type": "markdown",
      "metadata": {
        "id": "kM_zAMi6Smvz"
      },
      "source": [
        "# **String Functions**"
      ]
    },
    {
      "cell_type": "code",
      "metadata": {
        "colab": {
          "base_uri": "https://localhost:8080/"
        },
        "id": "QkKHWjqBSpPy",
        "outputId": "89d547ab-a747-4e28-ac6c-59dd871a9cbf"
      },
      "source": [
        "planets = ['earth', 'jupiter', 'neptune', 'mars', 'saturn', 'mercury', 'venus', 'uranus']\r\n",
        "planets"
      ],
      "execution_count": 16,
      "outputs": [
        {
          "output_type": "execute_result",
          "data": {
            "text/plain": [
              "['earth', 'jupiter', 'neptune', 'mars', 'saturn', 'mercury', 'venus', 'uranus']"
            ]
          },
          "metadata": {
            "tags": []
          },
          "execution_count": 16
        }
      ]
    },
    {
      "cell_type": "markdown",
      "metadata": {
        "id": "4LiAUqTdTEKk"
      },
      "source": [
        "## **Capitalize**\r\n",
        "\r\n",
        "**Return a copy of the string with its first character capitalized and the rest lowercased.**"
      ]
    },
    {
      "cell_type": "code",
      "metadata": {
        "colab": {
          "base_uri": "https://localhost:8080/"
        },
        "id": "Z9q264TITDko",
        "outputId": "b378a7de-b412-46da-ad95-5faf52952744"
      },
      "source": [
        "planets = [i.capitalize() for i in planets]\r\n",
        "planets"
      ],
      "execution_count": 17,
      "outputs": [
        {
          "output_type": "execute_result",
          "data": {
            "text/plain": [
              "['Earth', 'Jupiter', 'Neptune', 'Mars', 'Saturn', 'Mercury', 'Venus', 'Uranus']"
            ]
          },
          "metadata": {
            "tags": []
          },
          "execution_count": 17
        }
      ]
    },
    {
      "cell_type": "markdown",
      "metadata": {
        "id": "RVBU06mNTk1N"
      },
      "source": [
        "## **Lower**\r\n",
        "\r\n",
        "**Return a copy of the string with all the cased characters converted to lowercase.**"
      ]
    },
    {
      "cell_type": "code",
      "metadata": {
        "colab": {
          "base_uri": "https://localhost:8080/"
        },
        "id": "3HV5SN4PSpSg",
        "outputId": "6366d4af-1ff0-4260-995c-2138e6d39671"
      },
      "source": [
        "planets = [i.lower() for i in planets]\r\n",
        "planets"
      ],
      "execution_count": 18,
      "outputs": [
        {
          "output_type": "execute_result",
          "data": {
            "text/plain": [
              "['earth', 'jupiter', 'neptune', 'mars', 'saturn', 'mercury', 'venus', 'uranus']"
            ]
          },
          "metadata": {
            "tags": []
          },
          "execution_count": 18
        }
      ]
    },
    {
      "cell_type": "markdown",
      "metadata": {
        "id": "Uv7rEgtVcXtv"
      },
      "source": [
        "## **Upper**\r\n",
        "\r\n",
        "**Return a copy of the string with all the cased characters converted to uppercase.**"
      ]
    },
    {
      "cell_type": "code",
      "metadata": {
        "colab": {
          "base_uri": "https://localhost:8080/"
        },
        "id": "Q80LalcGcdrY",
        "outputId": "741b07c8-7854-4ba7-8d7a-b088dbf9414b"
      },
      "source": [
        "planets = [i.upper() for i in planets]\r\n",
        "planets"
      ],
      "execution_count": 19,
      "outputs": [
        {
          "output_type": "execute_result",
          "data": {
            "text/plain": [
              "['EARTH', 'JUPITER', 'NEPTUNE', 'MARS', 'SATURN', 'MERCURY', 'VENUS', 'URANUS']"
            ]
          },
          "metadata": {
            "tags": []
          },
          "execution_count": 19
        }
      ]
    },
    {
      "cell_type": "markdown",
      "metadata": {
        "id": "qhzkrWWKUOM_"
      },
      "source": [
        "## **Split**\r\n",
        "\r\n",
        "**Returns a list that seperates the string based on a passed in delimiter (sep).**"
      ]
    },
    {
      "cell_type": "code",
      "metadata": {
        "colab": {
          "base_uri": "https://localhost:8080/",
          "height": 36
        },
        "id": "QqzxFHdASpVF",
        "outputId": "9a77b3eb-3ca5-4ea9-9378-b10b87a36105"
      },
      "source": [
        "planets_str = 'Earth,Jupiter,Neptune,Mars,Saturn,Mercury,Venus,Uranus'\r\n",
        "planets_str"
      ],
      "execution_count": 20,
      "outputs": [
        {
          "output_type": "execute_result",
          "data": {
            "application/vnd.google.colaboratory.intrinsic+json": {
              "type": "string"
            },
            "text/plain": [
              "'Earth,Jupiter,Neptune,Mars,Saturn,Mercury,Venus,Uranus'"
            ]
          },
          "metadata": {
            "tags": []
          },
          "execution_count": 20
        }
      ]
    },
    {
      "cell_type": "code",
      "metadata": {
        "colab": {
          "base_uri": "https://localhost:8080/"
        },
        "id": "D5qLeUL1SpX1",
        "outputId": "c26db482-cd24-4c45-f209-b7dda93cb6fa"
      },
      "source": [
        "planets_str = planets_str.split(sep = \",\")\r\n",
        "planets_str"
      ],
      "execution_count": 21,
      "outputs": [
        {
          "output_type": "execute_result",
          "data": {
            "text/plain": [
              "['Earth', 'Jupiter', 'Neptune', 'Mars', 'Saturn', 'Mercury', 'Venus', 'Uranus']"
            ]
          },
          "metadata": {
            "tags": []
          },
          "execution_count": 21
        }
      ]
    },
    {
      "cell_type": "markdown",
      "metadata": {
        "id": "giH2tTe3o66U"
      },
      "source": [
        "## **Find**"
      ]
    },
    {
      "cell_type": "code",
      "metadata": {
        "id": "pNMpCs5Uo8wb"
      },
      "source": [
        "astronomy_article = '''The elusive axion particle is many times lighter than an electron, with properties that barely make an impression on ordinary matter. As such, the ghost-like particle is a leading contender as a component of dark matter — a hypothetical, invisible type of matter that is thought to make up 85 percent of the mass in the universe. Axions have so far evaded detection. Physicists predict that if they do exist, they must be produced within extreme environments, such as the cores of stars at the precipice of a supernova. When these stars spew axions out into the universe, the particles, on encountering any surrounding magnetic fields, should briefly morph into photons and potentially reveal themselves.\r\n",
        "Now, MIT physicists have searched for axions in Betelgeuse, a nearby star that is expected to burn out as a supernova soon, at least on astrophysical timescales. Given its imminent demise, Betelgeuse should be a natural factory of axions, constantly churning out the particles as the star burns away. However, when the team looked for expected signatures of axions, in the form of photons in the X-ray band, their search came up empty. Their results rule out the existence of ultralight axions that can interact with photons over a wide range of energies. The findings set new constraints on the particle’s properties that are three times stronger than any previous laboratory-based axion-detecting experiments. “What our results say is, if you want to look for these really light particles, which we looked for, they’re not going to talk very much to photons,” says Kerstin Perez, assistant professor of physics at MIT. “We’re basically making everyone’s lives harder because we’re saying, ‘you’re going to have to think of something else that would give you an axion signal.’” Perez and her colleagues have published their results today in Physical Review Letters. Her MIT co-authors include lead author Mengjiao Xiao, Brandon Roach, and Melania Nynka, along with Maurizio Giannotti of Barry University, Oscar Straniero of the Abruzzo Astronomical Observatory, Alessandro Mirizzi of the National Institute for Nuclear Physics in Italy, and Brian Grefenstette of Caltech. A hunt for coupling\r\n",
        "Many of the current experiments that search for axions are designed to look for them as a product of the Primakoff effect, a process that describes a theoretical “coupling” between axions and photons. Axions are not normally thought to interact with photons — hence their likelihood of being dark matter. However, the Primakoff effect predicts that, when photons are subjected to intense magnetic fields, such as in stellar cores, they could morph into axions. The center of many stars should therefore be natural axion factories. When a star explodes in a supernova, it should churn the axions out into the universe. If the invisible particles run into a magnetic field, for instance between the star and Earth, they should turn back into photons, presumably with some detectable energy. Scientists are hunting for axions through this process, for instance from our own sun. “But the sun also has flares and gives off X-rays all the time, and it’s hard to understand,” says Perez.\r\n",
        "She and her colleagues instead looked for axions from Betelgeuse, a star that normally does not emit X-rays. The star is among those nearest to Earth that are expected to explode soon. “Betelgeuse is at a temperature and lifestage where you don’t expect to see X-rays coming out of it, through standard stellar astrophysics,” Perez explains. “But if axions do exist, and are coming out, we might see an X-ray signature. So that’s why this star is a nice object: If you see X-rays, it’s a smoking gun signal that it’s got to be axions.” “Data are data” The researchers looked for X-ray signatures of axions from Betelgeuse, using data taken by NuSTAR, NASA’s space-based telescope that focuses high-energy X-rays from astrophysical sources. The team obtained 50 kiloseconds of data from NuSTAR during the time the telescope was trained on Betelgeuse. The researchers then modeled a range of X-ray emissions that they might see from Betelgeuse if the star was spewing out axions. They considered a range of masses that an axion might be, as well as a range of likelihoods that the axions would “couple” to and reconvert into a photon, depending on the magnetic field strength between the star and Earth.\r\n",
        "“Out of all that modeling, you get a range of what your X-ray signal of axions could possibly look like,” Perez says. When they searched for these signals in NuSTAR’s data, however, they found nothing above their expected background or outside of any ordinary astrophysical sources of X-rays. “Betelgeuse is probably in the late stages of evolution and in that case should have a big probability of converting into axions,” Xiao says. “But data are data.” Given the range of conditions they considered, the team’s null result rules out a large space of possibilities and sets an upper limit that is three times stronger than previous limits, from laboratory-based searches, for what an axion must be. In essence, this means that if axions are ultralight in mass, the team’s results show that the particles must be at least three times less likely to couple to photons and emit any detectable X-rays. “If axions have ultralight masses, we can definitely tell you their coupling has to be very small, otherwise we would have seen it,” Perez says. Ultimately, this means that scientists may have to look to other, less detectable energy bands for axion signals. However, Perez says the search for axions from Betelgeuse is not over. “What would be exciting would be if we see a supernova, which would ignite a huge amount of axions that wouldn’t be in X-rays, but in gamma rays,” Perez says. “If a star explodes and we don’t see axions, then we’ll get really stringent constraints on an axion’s coupling to photons. So everyone’s crossing their fingers for Betelgeuse to go off.” This research was supported, in part, by NASA.\r\n",
        "''' "
      ],
      "execution_count": 22,
      "outputs": []
    },
    {
      "cell_type": "code",
      "metadata": {
        "colab": {
          "base_uri": "https://localhost:8080/",
          "height": 36
        },
        "id": "obzAG_Z2p3A_",
        "outputId": "c5b8e602-8441-4cd6-bb87-e5432a412cfe"
      },
      "source": [
        "astronomy_article[0:3]"
      ],
      "execution_count": 23,
      "outputs": [
        {
          "output_type": "execute_result",
          "data": {
            "application/vnd.google.colaboratory.intrinsic+json": {
              "type": "string"
            },
            "text/plain": [
              "'The'"
            ]
          },
          "metadata": {
            "tags": []
          },
          "execution_count": 23
        }
      ]
    },
    {
      "cell_type": "code",
      "metadata": {
        "colab": {
          "base_uri": "https://localhost:8080/"
        },
        "id": "Swx2k_IDqGPt",
        "outputId": "f641e070-27ff-44fa-92b9-19ce4937a6eb"
      },
      "source": [
        "#returns index position of the first instance of \"supernova\"\r\n",
        "astronomy_article.find('supernova')"
      ],
      "execution_count": 24,
      "outputs": [
        {
          "output_type": "execute_result",
          "data": {
            "text/plain": [
              "509"
            ]
          },
          "metadata": {
            "tags": []
          },
          "execution_count": 24
        }
      ]
    },
    {
      "cell_type": "code",
      "metadata": {
        "colab": {
          "base_uri": "https://localhost:8080/",
          "height": 36
        },
        "id": "cFQ9eCnvqMnl",
        "outputId": "0e14f348-0b95-46ff-ad5b-6ad75afb899b"
      },
      "source": [
        "astronomy_article[509:(509 + len('supernova'))]"
      ],
      "execution_count": 25,
      "outputs": [
        {
          "output_type": "execute_result",
          "data": {
            "application/vnd.google.colaboratory.intrinsic+json": {
              "type": "string"
            },
            "text/plain": [
              "'supernova'"
            ]
          },
          "metadata": {
            "tags": []
          },
          "execution_count": 25
        }
      ]
    },
    {
      "cell_type": "markdown",
      "metadata": {
        "id": "SE2f2dfyPuRY"
      },
      "source": [
        "# **References and Additional Learning**"
      ]
    },
    {
      "cell_type": "markdown",
      "metadata": {
        "id": "7UIWl-WCq8t3"
      },
      "source": [
        "## **Websites**\r\n",
        "\r\n",
        "- **[Python Documentation - Text Sequence Type — str](https://docs.python.org/3/library/stdtypes.html#str)**\r\n",
        "\r\n",
        "- **[Mutability and Immutability in Python — Let’s Break It Down by Wendy Leung on Medium.com](https://medium.com/datadriveninvestor/mutable-and-immutable-python-2093deeac8d9)**"
      ]
    },
    {
      "cell_type": "markdown",
      "metadata": {
        "id": "CcDdGQ9eS5Zm"
      },
      "source": [
        "## **Textbook**\r\n",
        "\r\n",
        "- **[Python Data Structures and Algorithms](https://www.amazon.com/Python-Data-Structures-Algorithms-application-ebook/dp/B01IF7NLM8) by Benjamin Baka**"
      ]
    },
    {
      "cell_type": "markdown",
      "metadata": {
        "id": "NcwWe9IqPzp-"
      },
      "source": [
        "# **Connect**\r\n",
        "- **Feel free to connect with Adrian on [YouTube](https://www.youtube.com/channel/UCPuDxI3xb_ryUUMfkm0jsRA), [LinkedIn](https://www.linkedin.com/in/adrian-dolinay-frm-96a289106/), [Twitter](https://twitter.com/DolinayG) and [GitHub](https://github.com/ad17171717). Happy coding!**"
      ]
    }
  ]
}