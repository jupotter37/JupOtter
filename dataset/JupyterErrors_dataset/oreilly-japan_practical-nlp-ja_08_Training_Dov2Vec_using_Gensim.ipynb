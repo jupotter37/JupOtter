{
 "nbformat": 4,
 "nbformat_minor": 0,
 "metadata": {
  "colab": {
   "name": "08_Training_Dov2Vec_using_Gensim.ipynb",
   "provenance": [],
   "collapsed_sections": [],
   "machine_shape": "hm"
  },
  "kernelspec": {
   "display_name": "Python 3",
   "language": "python",
   "name": "python3"
  },
  "language_info": {
   "codemirror_mode": {
    "name": "ipython",
    "version": 3
   },
   "file_extension": ".py",
   "mimetype": "text/x-python",
   "name": "python",
   "nbconvert_exporter": "python",
   "pygments_lexer": "ipython3",
   "version": "3.6.10"
  }
 },
 "cells": [
  {
   "cell_type": "markdown",
   "metadata": {
    "id": "NP_Xq8p7WubK"
   },
   "source": [
    "## Doc2Vec\n",
    "\n",
    "このノートブックでは、gensimを用いて、Doc2vecのモデルを学習する方法を紹介します。"
   ]
  },
  {
   "cell_type": "markdown",
   "metadata": {
    "id": "VknWa34UcqA2"
   },
   "source": [
    "### パッケージのインポート\n",
    "\n",
    "gensimとNLTKはインストール済みとします。"
   ]
  },
  {
   "cell_type": "code",
   "metadata": {
    "colab": {
     "base_uri": "https://localhost:8080/"
    },
    "id": "jifk_HHmvVWf",
    "outputId": "9ff2552a-f66a-450d-b2d3-543d38b3c9ae"
   },
   "source": [
    "import warnings\n",
    "from pprint import pprint\n",
    "\n",
    "import nltk\n",
    "from gensim.models.doc2vec import Doc2Vec, TaggedDocument\n",
    "from nltk.tokenize import word_tokenize\n",
    "nltk.download('punkt')\n",
    "warnings.filterwarnings('ignore')"
   ],
   "execution_count": 1,
   "outputs": [
    {
     "output_type": "stream",
     "name": "stdout",
     "text": [
      "[nltk_data] Downloading package punkt to /root/nltk_data...\n",
      "[nltk_data]   Unzipping tokenizers/punkt.zip.\n"
     ]
    }
   ]
  },
  {
   "cell_type": "markdown",
   "metadata": {
    "id": "P6q94-dudSmC"
   },
   "source": [
    "### 学習データの準備\n",
    "\n",
    "まずは、gensimでDoc2Vecを学習するためのデータとして、[TaggedDocument](https://radimrehurek.com/gensim/models/doc2vec.html#gensim.models.doc2vec.TaggedDocument)を用意します。\n",
    "TaggedDocumentは、単語の系列とタグの系列から構成されます。タグは1つ以上の文字列を使えますが、メモリ効率の観点から一意な整数のIDを使うことがほとんどです。\n",
    "\n"
   ]
  },
  {
   "cell_type": "code",
   "metadata": {
    "id": "rLKY1nkIvluD"
   },
   "source": [
    "data = [\n",
    "    \"dog bites man\",\n",
    "    \"man bites dog\",\n",
    "    \"dog eats meat\",\n",
    "    \"man eats food\"\n",
    "]\n",
    "\n",
    "tagged_data = [\n",
    "    TaggedDocument(\n",
    "        words=word_tokenize(word),\n",
    "        tags=[str(i)]\n",
    "    ) for i, word in enumerate(data)\n",
    "]"
   ],
   "execution_count": 2,
   "outputs": []
  },
  {
   "cell_type": "code",
   "metadata": {
    "colab": {
     "base_uri": "https://localhost:8080/"
    },
    "id": "rPssbTNiwEd9",
    "outputId": "8d9b7a1f-79fb-421d-b9bc-b55e807d9bd1"
   },
   "source": [
    "tagged_data"
   ],
   "execution_count": 3,
   "outputs": [
    {
     "output_type": "execute_result",
     "data": {
      "text/plain": [
       "[TaggedDocument(words=['dog', 'bites', 'man'], tags=['0']),\n",
       " TaggedDocument(words=['man', 'bites', 'dog'], tags=['1']),\n",
       " TaggedDocument(words=['dog', 'eats', 'meat'], tags=['2']),\n",
       " TaggedDocument(words=['man', 'eats', 'food'], tags=['3'])]"
      ]
     },
     "metadata": {},
     "execution_count": 3
    }
   ]
  },
  {
   "cell_type": "markdown",
   "metadata": {
    "id": "mp7TyblceUa1"
   },
   "source": [
    "### モデルの学習\n",
    "\n",
    "学習データを用意したら、[Doc2Vec](https://radimrehurek.com/gensim/models/doc2vec.html#gensim.models.doc2vec.Doc2Vec)クラスに与えて、モデルを学習します。\n",
    "指定できるパラメータは様々ありますが、`dm`で学習アルゴリズムを指定できます。1を指定すると、分散メモリ、0を指定すると分散BoWになります。\n",
    "\n"
   ]
  },
  {
   "cell_type": "code",
   "metadata": {
    "id": "dcxU67TCwSd8"
   },
   "source": [
    "# 分散BoWの学習\n",
    "model_dbow = Doc2Vec(\n",
    "    tagged_data,\n",
    "    vector_size=20,\n",
    "    min_count=1,\n",
    "    epochs=2,\n",
    "    dm=0\n",
    ")"
   ],
   "execution_count": 4,
   "outputs": []
  },
  {
   "cell_type": "markdown",
   "metadata": {
    "id": "0Z2TjHZzfVPr"
   },
   "source": [
    "学習を終えたら、モデルの[inifer_vector](https://radimrehurek.com/gensim/models/doc2vec.html#gensim.models.doc2vec.Doc2Vec.infer_vector)メソッドに文書を与えて、ベクトルを取得します。"
   ]
  },
  {
   "cell_type": "code",
   "metadata": {
    "colab": {
     "base_uri": "https://localhost:8080/"
    },
    "id": "QLkpnvcTx6T9",
    "outputId": "2bb9b8fa-d6e4-46dc-a07a-2da9cc30c8d7"
   },
   "source": [
    "print(model_dbow.infer_vector(['man', 'eats', 'food']))"
   ],
   "execution_count": 5,
   "outputs": [
    {
     "output_type": "stream",
     "name": "stdout",
     "text": [
      "[-0.01564034  0.01738331 -0.0051671   0.00376444 -0.01813931 -0.00460707\n",
      " -0.01941582 -0.01952396 -0.0067725  -0.00411686  0.00786543  0.01587096\n",
      " -0.00982575 -0.02477862  0.00217828  0.02137299 -0.00618656  0.00858943\n",
      "  0.01089256 -0.01651034]\n"
     ]
    }
   ]
  },
  {
   "cell_type": "code",
   "metadata": {
    "colab": {
     "base_uri": "https://localhost:8080/"
    },
    "id": "1KzwAgUJzQLW",
    "outputId": "8c0298a8-d24e-46c9-9b14-e1a4bb3efb2a"
   },
   "source": [
    "model_dbow.wv.most_similar(\"man\", topn=5) # top 5 most simlar words."
   ],
   "execution_count": 6,
   "outputs": [
    {
     "output_type": "execute_result",
     "data": {
      "text/plain": [
       "[('dog', 0.3310743570327759),\n",
       " ('eats', 0.2360897958278656),\n",
       " ('meat', 0.052991606295108795),\n",
       " ('food', -0.0032464265823364258),\n",
       " ('bites', -0.41033852100372314)]"
      ]
     },
     "metadata": {},
     "execution_count": 6
    }
   ]
  },
  {
   "cell_type": "markdown",
   "metadata": {
    "id": "1QBq_ufUgQl8"
   },
   "source": [
    "`n_similarity`を使って、2つの単語集合間の類似度を計算します。"
   ]
  },
  {
   "cell_type": "code",
   "metadata": {
    "colab": {
     "base_uri": "https://localhost:8080/"
    },
    "id": "myGVWgudz9mW",
    "outputId": "948f6ba0-9e30-46ef-9cfd-d8574bde970d"
   },
   "source": [
    " model_dbow.wv.n_similarity([\"dog\"],[\"man\"])"
   ],
   "execution_count": 7,
   "outputs": [
    {
     "output_type": "execute_result",
     "data": {
      "text/plain": [
       "0.33107436"
      ]
     },
     "metadata": {},
     "execution_count": 7
    }
   ]
  },
  {
   "cell_type": "code",
   "metadata": {
    "colab": {
     "base_uri": "https://localhost:8080/"
    },
    "id": "1i2Vv2uY4kqg",
    "outputId": "71413614-8a58-4492-e0fa-a5eafbf286e0"
   },
   "source": [
    "# 分散メモリの学習\n",
    "model_dm = Doc2Vec(\n",
    "    tagged_data,\n",
    "    min_count=1,\n",
    "    vector_size=20,\n",
    "    epochs=2,\n",
    "    dm=1\n",
    ")\n",
    "\n",
    "print(\"Inference Vector of man eats food\")\n",
    "print(model_dm.infer_vector(['man', 'eats', 'food']))\n",
    "\n",
    "print(\"Most similar words to man in our corpus\")\n",
    "print(model_dm.wv.most_similar(\"man\",topn=5))\n",
    "\n",
    "print(\"Similarity between man and dog: \", model_dm.wv.n_similarity([\"dog\"],[\"man\"]))"
   ],
   "execution_count": 8,
   "outputs": [
    {
     "output_type": "stream",
     "name": "stdout",
     "text": [
      "Inference Vector of man eats food\n",
      "[-0.01564045  0.0173833  -0.00516716  0.0037643  -0.01813941 -0.00460716\n",
      " -0.01941588 -0.01952404 -0.00677244 -0.00411688  0.00786548  0.01587102\n",
      " -0.00982586 -0.02477862  0.00217828  0.02137304 -0.00618664  0.00858937\n",
      "  0.01089258 -0.01651028]\n",
      "Most similar words to man in our corpus\n",
      "[('dog', 0.3310743570327759), ('eats', 0.2360897958278656), ('meat', 0.052991606295108795), ('food', -0.0032464265823364258), ('bites', -0.41033852100372314)]\n",
      "Similarity between man and dog:  0.33107436\n"
     ]
    }
   ]
  },
  {
   "cell_type": "markdown",
   "metadata": {
    "id": "NmmM7yI31gMn"
   },
   "source": [
    "ボキャブラリに存在しない単語を類似度の比較に使うと何が起きるでしょうか？"
   ]
  },
  {
   "cell_type": "code",
   "metadata": {
    "colab": {
     "base_uri": "https://localhost:8080/",
     "height": 311
    },
    "id": "YS-mciDx0ZiA",
    "outputId": "98e0980f-a352-4264-fc86-b004552d930a"
   },
   "source": [
    "model_dm.wv.n_similarity(['covid'],['man'])"
   ],
   "execution_count": 9,
   "outputs": [
    {
     "output_type": "error",
     "ename": "KeyError",
     "evalue": "ignored",
     "traceback": [
      "\u001B[0;31m---------------------------------------------------------------------------\u001B[0m",
      "\u001B[0;31mKeyError\u001B[0m                                  Traceback (most recent call last)",
      "\u001B[0;32m<ipython-input-9-21897cb372b8>\u001B[0m in \u001B[0;36m<module>\u001B[0;34m()\u001B[0m\n\u001B[0;32m----> 1\u001B[0;31m \u001B[0mmodel_dm\u001B[0m\u001B[0;34m.\u001B[0m\u001B[0mwv\u001B[0m\u001B[0;34m.\u001B[0m\u001B[0mn_similarity\u001B[0m\u001B[0;34m(\u001B[0m\u001B[0;34m[\u001B[0m\u001B[0;34m'covid'\u001B[0m\u001B[0;34m]\u001B[0m\u001B[0;34m,\u001B[0m\u001B[0;34m[\u001B[0m\u001B[0;34m'man'\u001B[0m\u001B[0;34m]\u001B[0m\u001B[0;34m)\u001B[0m\u001B[0;34m\u001B[0m\u001B[0;34m\u001B[0m\u001B[0m\n\u001B[0m",
      "\u001B[0;32m/usr/local/lib/python3.7/dist-packages/gensim/models/keyedvectors.py\u001B[0m in \u001B[0;36mn_similarity\u001B[0;34m(self, ws1, ws2)\u001B[0m\n\u001B[1;32m   1010\u001B[0m         \u001B[0;32mif\u001B[0m \u001B[0;32mnot\u001B[0m\u001B[0;34m(\u001B[0m\u001B[0mlen\u001B[0m\u001B[0;34m(\u001B[0m\u001B[0mws1\u001B[0m\u001B[0;34m)\u001B[0m \u001B[0;32mand\u001B[0m \u001B[0mlen\u001B[0m\u001B[0;34m(\u001B[0m\u001B[0mws2\u001B[0m\u001B[0;34m)\u001B[0m\u001B[0;34m)\u001B[0m\u001B[0;34m:\u001B[0m\u001B[0;34m\u001B[0m\u001B[0;34m\u001B[0m\u001B[0m\n\u001B[1;32m   1011\u001B[0m             \u001B[0;32mraise\u001B[0m \u001B[0mZeroDivisionError\u001B[0m\u001B[0;34m(\u001B[0m\u001B[0;34m'At least one of the passed list is empty.'\u001B[0m\u001B[0;34m)\u001B[0m\u001B[0;34m\u001B[0m\u001B[0;34m\u001B[0m\u001B[0m\n\u001B[0;32m-> 1012\u001B[0;31m         \u001B[0mv1\u001B[0m \u001B[0;34m=\u001B[0m \u001B[0;34m[\u001B[0m\u001B[0mself\u001B[0m\u001B[0;34m[\u001B[0m\u001B[0mword\u001B[0m\u001B[0;34m]\u001B[0m \u001B[0;32mfor\u001B[0m \u001B[0mword\u001B[0m \u001B[0;32min\u001B[0m \u001B[0mws1\u001B[0m\u001B[0;34m]\u001B[0m\u001B[0;34m\u001B[0m\u001B[0;34m\u001B[0m\u001B[0m\n\u001B[0m\u001B[1;32m   1013\u001B[0m         \u001B[0mv2\u001B[0m \u001B[0;34m=\u001B[0m \u001B[0;34m[\u001B[0m\u001B[0mself\u001B[0m\u001B[0;34m[\u001B[0m\u001B[0mword\u001B[0m\u001B[0;34m]\u001B[0m \u001B[0;32mfor\u001B[0m \u001B[0mword\u001B[0m \u001B[0;32min\u001B[0m \u001B[0mws2\u001B[0m\u001B[0;34m]\u001B[0m\u001B[0;34m\u001B[0m\u001B[0;34m\u001B[0m\u001B[0m\n\u001B[1;32m   1014\u001B[0m         \u001B[0;32mreturn\u001B[0m \u001B[0mdot\u001B[0m\u001B[0;34m(\u001B[0m\u001B[0mmatutils\u001B[0m\u001B[0;34m.\u001B[0m\u001B[0munitvec\u001B[0m\u001B[0;34m(\u001B[0m\u001B[0marray\u001B[0m\u001B[0;34m(\u001B[0m\u001B[0mv1\u001B[0m\u001B[0;34m)\u001B[0m\u001B[0;34m.\u001B[0m\u001B[0mmean\u001B[0m\u001B[0;34m(\u001B[0m\u001B[0maxis\u001B[0m\u001B[0;34m=\u001B[0m\u001B[0;36m0\u001B[0m\u001B[0;34m)\u001B[0m\u001B[0;34m)\u001B[0m\u001B[0;34m,\u001B[0m \u001B[0mmatutils\u001B[0m\u001B[0;34m.\u001B[0m\u001B[0munitvec\u001B[0m\u001B[0;34m(\u001B[0m\u001B[0marray\u001B[0m\u001B[0;34m(\u001B[0m\u001B[0mv2\u001B[0m\u001B[0;34m)\u001B[0m\u001B[0;34m.\u001B[0m\u001B[0mmean\u001B[0m\u001B[0;34m(\u001B[0m\u001B[0maxis\u001B[0m\u001B[0;34m=\u001B[0m\u001B[0;36m0\u001B[0m\u001B[0;34m)\u001B[0m\u001B[0;34m)\u001B[0m\u001B[0;34m)\u001B[0m\u001B[0;34m\u001B[0m\u001B[0;34m\u001B[0m\u001B[0m\n",
      "\u001B[0;32m/usr/local/lib/python3.7/dist-packages/gensim/models/keyedvectors.py\u001B[0m in \u001B[0;36m<listcomp>\u001B[0;34m(.0)\u001B[0m\n\u001B[1;32m   1010\u001B[0m         \u001B[0;32mif\u001B[0m \u001B[0;32mnot\u001B[0m\u001B[0;34m(\u001B[0m\u001B[0mlen\u001B[0m\u001B[0;34m(\u001B[0m\u001B[0mws1\u001B[0m\u001B[0;34m)\u001B[0m \u001B[0;32mand\u001B[0m \u001B[0mlen\u001B[0m\u001B[0;34m(\u001B[0m\u001B[0mws2\u001B[0m\u001B[0;34m)\u001B[0m\u001B[0;34m)\u001B[0m\u001B[0;34m:\u001B[0m\u001B[0;34m\u001B[0m\u001B[0;34m\u001B[0m\u001B[0m\n\u001B[1;32m   1011\u001B[0m             \u001B[0;32mraise\u001B[0m \u001B[0mZeroDivisionError\u001B[0m\u001B[0;34m(\u001B[0m\u001B[0;34m'At least one of the passed list is empty.'\u001B[0m\u001B[0;34m)\u001B[0m\u001B[0;34m\u001B[0m\u001B[0;34m\u001B[0m\u001B[0m\n\u001B[0;32m-> 1012\u001B[0;31m         \u001B[0mv1\u001B[0m \u001B[0;34m=\u001B[0m \u001B[0;34m[\u001B[0m\u001B[0mself\u001B[0m\u001B[0;34m[\u001B[0m\u001B[0mword\u001B[0m\u001B[0;34m]\u001B[0m \u001B[0;32mfor\u001B[0m \u001B[0mword\u001B[0m \u001B[0;32min\u001B[0m \u001B[0mws1\u001B[0m\u001B[0;34m]\u001B[0m\u001B[0;34m\u001B[0m\u001B[0;34m\u001B[0m\u001B[0m\n\u001B[0m\u001B[1;32m   1013\u001B[0m         \u001B[0mv2\u001B[0m \u001B[0;34m=\u001B[0m \u001B[0;34m[\u001B[0m\u001B[0mself\u001B[0m\u001B[0;34m[\u001B[0m\u001B[0mword\u001B[0m\u001B[0;34m]\u001B[0m \u001B[0;32mfor\u001B[0m \u001B[0mword\u001B[0m \u001B[0;32min\u001B[0m \u001B[0mws2\u001B[0m\u001B[0;34m]\u001B[0m\u001B[0;34m\u001B[0m\u001B[0;34m\u001B[0m\u001B[0m\n\u001B[1;32m   1014\u001B[0m         \u001B[0;32mreturn\u001B[0m \u001B[0mdot\u001B[0m\u001B[0;34m(\u001B[0m\u001B[0mmatutils\u001B[0m\u001B[0;34m.\u001B[0m\u001B[0munitvec\u001B[0m\u001B[0;34m(\u001B[0m\u001B[0marray\u001B[0m\u001B[0;34m(\u001B[0m\u001B[0mv1\u001B[0m\u001B[0;34m)\u001B[0m\u001B[0;34m.\u001B[0m\u001B[0mmean\u001B[0m\u001B[0;34m(\u001B[0m\u001B[0maxis\u001B[0m\u001B[0;34m=\u001B[0m\u001B[0;36m0\u001B[0m\u001B[0;34m)\u001B[0m\u001B[0;34m)\u001B[0m\u001B[0;34m,\u001B[0m \u001B[0mmatutils\u001B[0m\u001B[0;34m.\u001B[0m\u001B[0munitvec\u001B[0m\u001B[0;34m(\u001B[0m\u001B[0marray\u001B[0m\u001B[0;34m(\u001B[0m\u001B[0mv2\u001B[0m\u001B[0;34m)\u001B[0m\u001B[0;34m.\u001B[0m\u001B[0mmean\u001B[0m\u001B[0;34m(\u001B[0m\u001B[0maxis\u001B[0m\u001B[0;34m=\u001B[0m\u001B[0;36m0\u001B[0m\u001B[0;34m)\u001B[0m\u001B[0;34m)\u001B[0m\u001B[0;34m)\u001B[0m\u001B[0;34m\u001B[0m\u001B[0;34m\u001B[0m\u001B[0m\n",
      "\u001B[0;32m/usr/local/lib/python3.7/dist-packages/gensim/models/keyedvectors.py\u001B[0m in \u001B[0;36m__getitem__\u001B[0;34m(self, entities)\u001B[0m\n\u001B[1;32m    335\u001B[0m         \u001B[0;32mif\u001B[0m \u001B[0misinstance\u001B[0m\u001B[0;34m(\u001B[0m\u001B[0mentities\u001B[0m\u001B[0;34m,\u001B[0m \u001B[0mstring_types\u001B[0m\u001B[0;34m)\u001B[0m\u001B[0;34m:\u001B[0m\u001B[0;34m\u001B[0m\u001B[0;34m\u001B[0m\u001B[0m\n\u001B[1;32m    336\u001B[0m             \u001B[0;31m# allow calls like trained_model['office'], as a shorthand for trained_model[['office']]\u001B[0m\u001B[0;34m\u001B[0m\u001B[0;34m\u001B[0m\u001B[0;34m\u001B[0m\u001B[0m\n\u001B[0;32m--> 337\u001B[0;31m             \u001B[0;32mreturn\u001B[0m \u001B[0mself\u001B[0m\u001B[0;34m.\u001B[0m\u001B[0mget_vector\u001B[0m\u001B[0;34m(\u001B[0m\u001B[0mentities\u001B[0m\u001B[0;34m)\u001B[0m\u001B[0;34m\u001B[0m\u001B[0;34m\u001B[0m\u001B[0m\n\u001B[0m\u001B[1;32m    338\u001B[0m \u001B[0;34m\u001B[0m\u001B[0m\n\u001B[1;32m    339\u001B[0m         \u001B[0;32mreturn\u001B[0m \u001B[0mvstack\u001B[0m\u001B[0;34m(\u001B[0m\u001B[0;34m[\u001B[0m\u001B[0mself\u001B[0m\u001B[0;34m.\u001B[0m\u001B[0mget_vector\u001B[0m\u001B[0;34m(\u001B[0m\u001B[0mentity\u001B[0m\u001B[0;34m)\u001B[0m \u001B[0;32mfor\u001B[0m \u001B[0mentity\u001B[0m \u001B[0;32min\u001B[0m \u001B[0mentities\u001B[0m\u001B[0;34m]\u001B[0m\u001B[0;34m)\u001B[0m\u001B[0;34m\u001B[0m\u001B[0;34m\u001B[0m\u001B[0m\n",
      "\u001B[0;32m/usr/local/lib/python3.7/dist-packages/gensim/models/keyedvectors.py\u001B[0m in \u001B[0;36mget_vector\u001B[0;34m(self, word)\u001B[0m\n\u001B[1;32m    453\u001B[0m \u001B[0;34m\u001B[0m\u001B[0m\n\u001B[1;32m    454\u001B[0m     \u001B[0;32mdef\u001B[0m \u001B[0mget_vector\u001B[0m\u001B[0;34m(\u001B[0m\u001B[0mself\u001B[0m\u001B[0;34m,\u001B[0m \u001B[0mword\u001B[0m\u001B[0;34m)\u001B[0m\u001B[0;34m:\u001B[0m\u001B[0;34m\u001B[0m\u001B[0;34m\u001B[0m\u001B[0m\n\u001B[0;32m--> 455\u001B[0;31m         \u001B[0;32mreturn\u001B[0m \u001B[0mself\u001B[0m\u001B[0;34m.\u001B[0m\u001B[0mword_vec\u001B[0m\u001B[0;34m(\u001B[0m\u001B[0mword\u001B[0m\u001B[0;34m)\u001B[0m\u001B[0;34m\u001B[0m\u001B[0;34m\u001B[0m\u001B[0m\n\u001B[0m\u001B[1;32m    456\u001B[0m \u001B[0;34m\u001B[0m\u001B[0m\n\u001B[1;32m    457\u001B[0m     \u001B[0;32mdef\u001B[0m \u001B[0mwords_closer_than\u001B[0m\u001B[0;34m(\u001B[0m\u001B[0mself\u001B[0m\u001B[0;34m,\u001B[0m \u001B[0mw1\u001B[0m\u001B[0;34m,\u001B[0m \u001B[0mw2\u001B[0m\u001B[0;34m)\u001B[0m\u001B[0;34m:\u001B[0m\u001B[0;34m\u001B[0m\u001B[0;34m\u001B[0m\u001B[0m\n",
      "\u001B[0;32m/usr/local/lib/python3.7/dist-packages/gensim/models/keyedvectors.py\u001B[0m in \u001B[0;36mword_vec\u001B[0;34m(self, word, use_norm)\u001B[0m\n\u001B[1;32m    450\u001B[0m             \u001B[0;32mreturn\u001B[0m \u001B[0mresult\u001B[0m\u001B[0;34m\u001B[0m\u001B[0;34m\u001B[0m\u001B[0m\n\u001B[1;32m    451\u001B[0m         \u001B[0;32melse\u001B[0m\u001B[0;34m:\u001B[0m\u001B[0;34m\u001B[0m\u001B[0;34m\u001B[0m\u001B[0m\n\u001B[0;32m--> 452\u001B[0;31m             \u001B[0;32mraise\u001B[0m \u001B[0mKeyError\u001B[0m\u001B[0;34m(\u001B[0m\u001B[0;34m\"word '%s' not in vocabulary\"\u001B[0m \u001B[0;34m%\u001B[0m \u001B[0mword\u001B[0m\u001B[0;34m)\u001B[0m\u001B[0;34m\u001B[0m\u001B[0;34m\u001B[0m\u001B[0m\n\u001B[0m\u001B[1;32m    453\u001B[0m \u001B[0;34m\u001B[0m\u001B[0m\n\u001B[1;32m    454\u001B[0m     \u001B[0;32mdef\u001B[0m \u001B[0mget_vector\u001B[0m\u001B[0;34m(\u001B[0m\u001B[0mself\u001B[0m\u001B[0;34m,\u001B[0m \u001B[0mword\u001B[0m\u001B[0;34m)\u001B[0m\u001B[0;34m:\u001B[0m\u001B[0;34m\u001B[0m\u001B[0;34m\u001B[0m\u001B[0m\n",
      "\u001B[0;31mKeyError\u001B[0m: \"word 'covid' not in vocabulary\""
     ]
    }
   ]
  },
  {
   "cell_type": "code",
   "metadata": {
    "id": "17qDsxIpGx5n"
   },
   "source": [
    ""
   ],
   "execution_count": null,
   "outputs": []
  }
 ]
}