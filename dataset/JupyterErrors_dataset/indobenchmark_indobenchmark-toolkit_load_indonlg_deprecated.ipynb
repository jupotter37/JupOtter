{
 "cells": [
  {
   "cell_type": "markdown",
   "metadata": {},
   "source": [
    "Try to load from: IndoNLG_finals_mBart_model_v2_checkpoint_105_640000.pt"
   ]
  },
  {
   "cell_type": "code",
   "execution_count": 1,
   "metadata": {},
   "outputs": [],
   "source": [
    "import os, sys\n",
    "sys.path.append('../')\n",
    "import torch\n",
    "from transformers import MBartModel, BartForConditionalGeneration, GPT2LMHeadModel, MBartForConditionalGeneration, BartConfig"
   ]
  },
  {
   "cell_type": "code",
   "execution_count": 36,
   "metadata": {},
   "outputs": [],
   "source": [
    "def prepare_input_for_generation(self, inputs, lang_token = '[indonesia]', decoder_lang_token = '[indonesia]', decoder_inputs=None, return_tensors='pt', continue_generation=False):\n",
    "\n",
    "    # Process encoder input\n",
    "    if lang_token not in self.special_tokens_to_ids:\n",
    "        raise ValueError(f\"Unknown lang_token `{lang_token}`, lang_token must be either `[javanese]`, `[sundanese]`, or `[indonesian]`\")  \n",
    "    elif type(inputs) == list:\n",
    "        if len(inputs) == 0 or type(inputs[0]) != str:\n",
    "            raise ValueError(IndoNLGTokenizer.input_error_message)\n",
    "    elif type(inputs) != str:\n",
    "        raise ValueError(IndoNLGTokenizer.input_error_message)\n",
    "        \n",
    "    default_eos_token = [self.mask_token_id, self.eos_token_id] if continue_generation else [self.eos_token_id]\n",
    "\n",
    "    lang_id = self.special_tokens_to_ids[lang_token]\n",
    "    input_batch = self(inputs, return_attention_mask=False)\n",
    "    input_batch['input_ids'][0] = input_batch['input_ids'][0][1:-1]\n",
    "    if type(inputs) == str:\n",
    "#         input_batch['input_ids'] = [self.bos_token_id] + input_batch['input_ids'] + [self.eos_token_id, lang_id]\n",
    "#         input_batch['input_ids'] = [self.bos_token_id] + input_batch['input_ids'] + [self.mask_token_id, self.eos_token_id, lang_id]\n",
    "        input_batch['input_ids'] = [self.bos_token_id] + input_batch['input_ids'] + default_eos_token + [lang_id]\n",
    "#         input_batch['input_ids'] = input_batch['input_ids'] + [self.mask_token_id, self.eos_token_id, lang_id]\n",
    "    else:\n",
    "        input_batch['input_ids'] = list(map(\n",
    "#             lambda input_ids: [self.bos_token_id] + input_ids + [self.eos_token_id, lang_id], \n",
    "#             lambda input_ids: [self.bos_token_id] + input_ids + [self.mask_token_id, self.eos_token_id, lang_id], \n",
    "            lambda input_ids: [self.bos_token_id] + input_ids + default_eos_token + [lang_id], \n",
    "#             lambda input_ids: input_ids + [self.mask_token_id, self.eos_token_id, lang_id], \n",
    "            input_batch['input_ids']))\n",
    "\n",
    "    if decoder_inputs is None:\n",
    "        # Return encoder input\n",
    "        return self.pad(input_batch, return_tensors=return_tensors)\n",
    "    else:\n",
    "        # Process decoder input\n",
    "        if decoder_lang_token not in self.special_tokens_to_ids:\n",
    "            raise ValueError(f\"Unknown decoder_lang_token `{decoder_lang_token}`, decoder_lang_token must be either `[javanese]`, `[sundanese]`, or `[indonesian]`\")  \n",
    "        elif type(decoder_inputs) == list:\n",
    "            if len(decoder_inputs) == 0:\n",
    "                raise ValueError(IndoNLGTokenizer.input_error_message)\n",
    "            elif type(decoder_inputs[0]) != str:\n",
    "                raise ValueError(IndoNLGTokenizer.input_error_message)\n",
    "        elif type(decoder_inputs) != str:\n",
    "            raise ValueError(IndoNLGTokenizer.input_error_message)\n",
    "\n",
    "        decoder_lang_id = self.special_tokens_to_ids[decoder_lang_token]\n",
    "        decoder_input_batch = self(decoder_inputs, return_attention_mask=False)\n",
    "        decoder_input_batch['input_ids'][0] = decoder_input_batch['input_ids'][0][1:-1]\n",
    "\n",
    "        if type(decoder_inputs) == str:\n",
    "#             decoder_input_batch['input_ids'] = [lang_id, self.bos_token_id] + decoder_input_batch['input_ids']  + [self.eos_token_id]\n",
    "            decoder_input_batch['input_ids'] = [lang_id, self.bos_token_id] + decoder_input_batch['input_ids']  + [self.mask_token_id, self.eos_token_id]\n",
    "            decoder_input_batch['input_ids'] = [lang_id, self.bos_token_id] + decoder_input_batch['input_ids']  + default_eos_token\n",
    "#             decoder_input_batch['input_ids'] = [lang_id] + decoder_input_batch['input_ids']  + [self.mask_token_id, self.eos_token_id]\n",
    "        else:\n",
    "#             decoder_input_batch['input_ids'] = list(map(lambda input_ids: [lang_id, self.bos_token_id] + input_ids + [self.eos_token_id], decoder_input_batch['input_ids']))\n",
    "            decoder_input_batch['input_ids'] = list(map(lambda input_ids: [lang_id, self.bos_token_id] + input_ids + [self.mask_token_id, self.eos_token_id], decoder_input_batch['input_ids']))\n",
    "            decoder_input_batch['input_ids'] = list(map(lambda input_ids: [lang_id, self.bos_token_id] + input_ids  + default_eos_token, decoder_input_batch['input_ids']))\n",
    "#             decoder_input_batch['input_ids'] = list(map(lambda input_ids: [lang_id] + input_ids + [self.mask_token_id, self.eos_token_id], decoder_input_batch['input_ids']))\n",
    "\n",
    "        # Padding\n",
    "        input_batch = self.pad(input_batch, return_tensors=return_tensors)\n",
    "        decoder_input_batch = self.pad(decoder_input_batch, return_tensors=return_tensors)\n",
    "\n",
    "        # Store into a single dict\n",
    "        input_batch['decoder_input_ids'] = decoder_input_batch['input_ids']\n",
    "        input_batch['decoder_attention_mask'] = decoder_input_batch['attention_mask']\n",
    "\n",
    "        return input_batch"
   ]
  },
  {
   "cell_type": "code",
   "execution_count": 3,
   "metadata": {},
   "outputs": [],
   "source": [
    "from transformers import MBartForConditionalGeneration\n",
    "# from tokenization_indonlg import IndoNLGTokenizer\n",
    "\n",
    "bart_model = MBartForConditionalGeneration.from_pretrained('indobenchmark/indobart')\n",
    "# tokenizer = IndoNLGTokenizer.from_pretrained('indobenchmark/indobart')\n",
    "\n",
    "# bart_model = MBartForConditionalGeneration.from_pretrained('indobenchmark/indobart-v2')\n",
    "# tokenizer = IndoNLGTokenizer.from_pretrained('indobenchmark/indobart-v2')"
   ]
  },
  {
   "cell_type": "code",
   "execution_count": 4,
   "metadata": {},
   "outputs": [],
   "source": [
    "# model_checkpoint = '/home/samuel/indonlg/checkpoints/IndoNLG_finals_mBart_model_v2_checkpoint_105_640000.pt'\n",
    "# vocab_path = 'IndoNLG_finals_vocab_model_indo4b_plus_spm_bpe_9995_wolangid_bos_pad_eos_unk.model'\n",
    "\n",
    "# # source_lang = \"id_ID\"\n",
    "# # target_lang = \"su_SU\"\n",
    "\n",
    "# config = BartConfig.from_pretrained('facebook/bart-base')\n",
    "# config.vocab_size = 40004\n",
    "# model = MBartForConditionalGeneration(config=config)\n",
    "\n",
    "# bart = MBartModel(config=config)\n",
    "\n",
    "# checkpoint = torch.load(model_checkpoint)['model']\n",
    "# bart.load_state_dict(checkpoint, strict=False)\n",
    "# bart.shared.weight = bart.encoder.embed_tokens.weight\n",
    "# model.model = bart\n",
    "# model.lm_head.weight.data = checkpoint['decoder.output_projection.weight']\n",
    "\n",
    "# bart_model = model"
   ]
  },
  {
   "cell_type": "code",
   "execution_count": 12,
   "metadata": {},
   "outputs": [],
   "source": [
    "bart_model = bart_models"
   ]
  },
  {
   "cell_type": "code",
   "execution_count": 42,
   "metadata": {},
   "outputs": [
    {
     "data": {
      "text/plain": [
       "{'input_ids': tensor([[    0,  4836,   652,  1726, 23248, 23716,  3103, 40003,     2, 40001]]), 'attention_mask': tensor([[1, 1, 1, 1, 1, 1, 1, 1, 1, 1]])}"
      ]
     },
     "execution_count": 42,
     "metadata": {},
     "output_type": "execute_result"
    }
   ],
   "source": [
    "from tokenization_indonlg import IndoNLGTokenizer\n",
    "\n",
    "tokenizer = IndoNLGTokenizer(vocab_file=vocab_path)\n",
    "\n",
    "inputs = ['aku pergi ke toko obat membeli']\n",
    "bart_input = prepare_input_for_generation(tokenizer, inputs, return_tensors='pt',\n",
    "                                         lang_token = '[indonesian]', decoder_lang_token='[indonesian]')\n",
    "\n",
    "# inputs = ['aku menyang pasar karo']\n",
    "# bart_input = prepare_input_for_generation(tokenizer, inputs, return_tensors='pt',\n",
    "#                                          lang_token = '[javanese]', decoder_lang_token='[javanese]')\n",
    "\n",
    "inputs = ['kuring ka pasar senen meuli daging']\n",
    "bart_input = prepare_input_for_generation(tokenizer, inputs, return_tensors='pt',\n",
    "                                         lang_token = '[sundanese]', decoder_lang_token='[sundanese]',\n",
    "                                         continue_generation=True)\n",
    "\n",
    "bart_input"
   ]
  },
  {
   "cell_type": "code",
   "execution_count": 43,
   "metadata": {},
   "outputs": [
    {
     "name": "stdout",
     "output_type": "stream",
     "text": [
      "<s> kuring ka pasar senen meuli daging<mask></s>[sundanese]\n",
      "<s> kuring ka pasar senen meuli daging sapi, kuring\n"
     ]
    }
   ],
   "source": [
    "bart.eval()\n",
    "bart_out = bart_model(**bart_input)\n",
    "print(tokenizer.decode(bart_input['input_ids'][0]))\n",
    "print(tokenizer.decode(bart_out.logits.topk(1).indices[:,:].squeeze()))"
   ]
  },
  {
   "cell_type": "code",
   "execution_count": null,
   "metadata": {},
   "outputs": [],
   "source": [
    "tokenizer.decode(bart_input['decoder_input_ids'][0])"
   ]
  },
  {
   "cell_type": "code",
   "execution_count": null,
   "metadata": {},
   "outputs": [],
   "source": [
    "# from src.indobenchmark import IndoNLGTokenizer\n",
    "\n",
    "# tokenizer = IndoNLGTokenizer.from_pretrained('indobenchmark/indobart')\n",
    "# bart_input = tokenizer.prepare_input_for_generation(['aku adalah <mask>'], model_type='indobart', return_tensors='pt')\n",
    "# bart_input"
   ]
  },
  {
   "cell_type": "code",
   "execution_count": 8,
   "metadata": {},
   "outputs": [
    {
     "ename": "AttributeError",
     "evalue": "'IndoNLGTokenizer' object has no attribute 'prepare_input_for_generation'",
     "output_type": "error",
     "traceback": [
      "\u001b[0;31m---------------------------------------------------------------------------\u001b[0m",
      "\u001b[0;31mAttributeError\u001b[0m                            Traceback (most recent call last)",
      "\u001b[0;32m/tmp/ipykernel_22212/490657806.py\u001b[0m in \u001b[0;36m<module>\u001b[0;34m\u001b[0m\n\u001b[0;32m----> 1\u001b[0;31m \u001b[0mbart_input\u001b[0m \u001b[0;34m=\u001b[0m \u001b[0mtokenizer\u001b[0m\u001b[0;34m.\u001b[0m\u001b[0mprepare_input_for_generation\u001b[0m\u001b[0;34m(\u001b[0m\u001b[0;34m[\u001b[0m\u001b[0;34m'aku adalah <mask>'\u001b[0m\u001b[0;34m]\u001b[0m\u001b[0;34m,\u001b[0m \u001b[0mmodel_type\u001b[0m\u001b[0;34m=\u001b[0m\u001b[0;34m'indobart'\u001b[0m\u001b[0;34m,\u001b[0m \u001b[0mreturn_tensors\u001b[0m\u001b[0;34m=\u001b[0m\u001b[0;34m'pt'\u001b[0m\u001b[0;34m)\u001b[0m\u001b[0;34m\u001b[0m\u001b[0;34m\u001b[0m\u001b[0m\n\u001b[0m",
      "\u001b[0;31mAttributeError\u001b[0m: 'IndoNLGTokenizer' object has no attribute 'prepare_input_for_generation'"
     ]
    }
   ],
   "source": [
    "bart_input = tokenizer.prepare_input_for_generation(['aku adalah <mask>'], model_type='indobart', return_tensors='pt', continue_generation=True)"
   ]
  },
  {
   "cell_type": "code",
   "execution_count": 6,
   "metadata": {},
   "outputs": [
    {
     "ename": "NameError",
     "evalue": "name 'tokenizer' is not defined",
     "output_type": "error",
     "traceback": [
      "\u001b[0;31m---------------------------------------------------------------------------\u001b[0m",
      "\u001b[0;31mNameError\u001b[0m                                 Traceback (most recent call last)",
      "\u001b[0;32m/tmp/ipykernel_22212/1999968642.py\u001b[0m in \u001b[0;36m<module>\u001b[0;34m\u001b[0m\n\u001b[0;32m----> 1\u001b[0;31m bart_input = tokenizer.prepare_input_for_generation(['abdi teh ayeuna','abdi teh ayeuna'], lang_token='[indonesian]',\n\u001b[0m\u001b[1;32m      2\u001b[0m     decoder_inputs=['abdi teh ayeuna','abdi teh ayeuna'], decoder_lang_token='[indonesian]', model_type='indobart', return_tensors='pt')\n\u001b[1;32m      3\u001b[0m \u001b[0mbart_out\u001b[0m \u001b[0;34m=\u001b[0m \u001b[0mbart_model\u001b[0m\u001b[0;34m(\u001b[0m\u001b[0;34m**\u001b[0m\u001b[0mbart_input\u001b[0m\u001b[0;34m)\u001b[0m\u001b[0;34m\u001b[0m\u001b[0;34m\u001b[0m\u001b[0m\n\u001b[1;32m      4\u001b[0m \u001b[0mtokenizer\u001b[0m\u001b[0;34m.\u001b[0m\u001b[0mdecode\u001b[0m\u001b[0;34m(\u001b[0m\u001b[0mbart_out\u001b[0m\u001b[0;34m.\u001b[0m\u001b[0mlogits\u001b[0m\u001b[0;34m.\u001b[0m\u001b[0mtopk\u001b[0m\u001b[0;34m(\u001b[0m\u001b[0;36m1\u001b[0m\u001b[0;34m)\u001b[0m\u001b[0;34m.\u001b[0m\u001b[0mindices\u001b[0m\u001b[0;34m[\u001b[0m\u001b[0;36m0\u001b[0m\u001b[0;34m,\u001b[0m\u001b[0;34m:\u001b[0m\u001b[0;34m,\u001b[0m\u001b[0;34m:\u001b[0m\u001b[0;34m]\u001b[0m\u001b[0;34m.\u001b[0m\u001b[0msqueeze\u001b[0m\u001b[0;34m(\u001b[0m\u001b[0;34m)\u001b[0m\u001b[0;34m)\u001b[0m\u001b[0;34m,\u001b[0m \u001b[0mtokenizer\u001b[0m\u001b[0;34m.\u001b[0m\u001b[0mdecode\u001b[0m\u001b[0;34m(\u001b[0m\u001b[0mbart_out\u001b[0m\u001b[0;34m.\u001b[0m\u001b[0mlogits\u001b[0m\u001b[0;34m.\u001b[0m\u001b[0mtopk\u001b[0m\u001b[0;34m(\u001b[0m\u001b[0;36m1\u001b[0m\u001b[0;34m)\u001b[0m\u001b[0;34m.\u001b[0m\u001b[0mindices\u001b[0m\u001b[0;34m[\u001b[0m\u001b[0;36m1\u001b[0m\u001b[0;34m,\u001b[0m\u001b[0;34m:\u001b[0m\u001b[0;34m,\u001b[0m\u001b[0;34m:\u001b[0m\u001b[0;34m]\u001b[0m\u001b[0;34m.\u001b[0m\u001b[0msqueeze\u001b[0m\u001b[0;34m(\u001b[0m\u001b[0;34m)\u001b[0m\u001b[0;34m)\u001b[0m\u001b[0;34m\u001b[0m\u001b[0;34m\u001b[0m\u001b[0m\n",
      "\u001b[0;31mNameError\u001b[0m: name 'tokenizer' is not defined"
     ]
    }
   ],
   "source": [
    "bart_input = tokenizer.prepare_input_for_generation(['abdi teh ayeuna','abdi teh ayeuna'], lang_token='[indonesian]',\n",
    "    decoder_inputs=['abdi teh ayeuna','abdi teh ayeuna'], decoder_lang_token='[indonesian]', model_type='indobart', return_tensors='pt')\n",
    "bart_out = bart_model(**bart_input)\n",
    "tokenizer.decode(bart_out.logits.topk(1).indices[0,:,:].squeeze()), tokenizer.decode(bart_out.logits.topk(1).indices[1,:,:].squeeze())"
   ]
  },
  {
   "cell_type": "code",
   "execution_count": null,
   "metadata": {},
   "outputs": [],
   "source": [
    "def count_param(module, trainable=False):\n",
    "    if trainable:\n",
    "        return sum(p.numel() for p in module.parameters() if p.requires_grad)\n",
    "    else:\n",
    "        return sum(p.numel() for p in module.parameters())"
   ]
  },
  {
   "cell_type": "markdown",
   "metadata": {
    "tags": []
   },
   "source": [
    "# Init Model"
   ]
  },
  {
   "cell_type": "code",
   "execution_count": null,
   "metadata": {
    "tags": []
   },
   "outputs": [],
   "source": [
    "bart_model = BartForConditionalGeneration.from_pretrained('indobenchmark/indobart')\n",
    "# gpt_model = GPT2LMHeadModel.from_pretrained('indobenchmark/indogpt')\n",
    "tokenizer = IndoNLGTokenizer.from_pretrained('indobenchmark/indobart')"
   ]
  },
  {
   "cell_type": "markdown",
   "metadata": {
    "tags": []
   },
   "source": [
    "# Test GPT Model"
   ]
  },
  {
   "cell_type": "code",
   "execution_count": null,
   "metadata": {},
   "outputs": [],
   "source": [
    "gpt_input = tokenizer.prepare_input_for_generation('aku adalah anak', model_type='indogpt', return_tensors='pt')\n",
    "gpt_out = gpt_model.generate(**gpt_input)\n",
    "tokenizer.decode(gpt_out[0])"
   ]
  },
  {
   "cell_type": "code",
   "execution_count": null,
   "metadata": {},
   "outputs": [],
   "source": [
    "gpt_input = tokenizer.prepare_input_for_generation('aku suka sekali makan', model_type='indogpt', return_tensors='pt')\n",
    "gpt_out = gpt_model.generate(**gpt_input)\n",
    "tokenizer.decode(gpt_out[0])"
   ]
  },
  {
   "cell_type": "code",
   "execution_count": null,
   "metadata": {},
   "outputs": [],
   "source": [
    "gpt_input = tokenizer.prepare_input_for_generation('hai, bagaimana kabar', model_type='indogpt', return_tensors='pt')\n",
    "gpt_out = gpt_model.generate(**gpt_input)\n",
    "tokenizer.decode(gpt_out[0])"
   ]
  },
  {
   "cell_type": "markdown",
   "metadata": {
    "tags": []
   },
   "source": [
    "# Test BART Model"
   ]
  },
  {
   "cell_type": "code",
   "execution_count": null,
   "metadata": {},
   "outputs": [],
   "source": [
    "bart_input = tokenizer.prepare_input_for_generation(['aku adalah <mask>'], model_type='indobart', return_tensors='pt')\n",
    "bart_out = bart_model(**bart_input)\n",
    "tokenizer.decode(bart_out.logits.topk(1).indices[:,:,:].squeeze())"
   ]
  },
  {
   "cell_type": "code",
   "execution_count": null,
   "metadata": {},
   "outputs": [],
   "source": [
    "bart_input = tokenizer.prepare_input_for_generation(['abdi teh ayeuna','abdi teh ayeuna'], lang_token='[indonesian]',\n",
    "    decoder_inputs=['abdi teh ayeuna','abdi teh ayeuna'], decoder_lang_token='[indonesian]', model_type='indobart', return_tensors='pt')\n",
    "bart_out = bart_model(**bart_input)\n",
    "tokenizer.decode(bart_out.logits.topk(1).indices[0,:,:].squeeze()), tokenizer.decode(bart_out.logits.topk(1).indices[1,:,:].squeeze())"
   ]
  },
  {
   "cell_type": "code",
   "execution_count": null,
   "metadata": {},
   "outputs": [],
   "source": []
  }
 ],
 "metadata": {
  "kernelspec": {
   "display_name": "Python (env_indonlg)",
   "language": "python",
   "name": "env_indonlg"
  },
  "language_info": {
   "codemirror_mode": {
    "name": "ipython",
    "version": 3
   },
   "file_extension": ".py",
   "mimetype": "text/x-python",
   "name": "python",
   "nbconvert_exporter": "python",
   "pygments_lexer": "ipython3",
   "version": "3.8.8"
  }
 },
 "nbformat": 4,
 "nbformat_minor": 4
}
