{
 "cells": [
  {
   "cell_type": "markdown",
   "metadata": {},
   "source": [
    "# Ionomy"
   ]
  },
  {
   "cell_type": "markdown",
   "metadata": {},
   "source": [
    "## Imports and Params"
   ]
  },
  {
   "cell_type": "code",
   "execution_count": 1,
   "metadata": {},
   "outputs": [],
   "source": [
    "from Ionomy import Ionomy\n",
    "from decouple import config\n",
    "\n",
    "MARKET = 'btc-hive'\n",
    "CURRENCY = 'hive'\n",
    "BASE = 'btc'\n",
    "TIME = 'day'\n",
    "BTC_QUANTITY = 0.001\n",
    "HIVE_QUANTITY = 100\n",
    "LOW_RATE=0.00003\n",
    "HIGH_RATE=0.00004\n",
    "ADDRESS = 'memehub'"
   ]
  },
  {
   "cell_type": "markdown",
   "metadata": {},
   "source": [
    "## Instantiation"
   ]
  },
  {
   "cell_type": "code",
   "execution_count": 2,
   "metadata": {},
   "outputs": [],
   "source": [
    "ion = Ionomy(config('IONOMY_KEY'), config('IONOMY_SECRET'))"
   ]
  },
  {
   "cell_type": "markdown",
   "metadata": {},
   "source": [
    "## Public Endpoint Methods"
   ]
  },
  {
   "cell_type": "markdown",
   "metadata": {},
   "source": [
    "#### Markets"
   ]
  },
  {
   "cell_type": "code",
   "execution_count": 3,
   "metadata": {},
   "outputs": [
    {
     "data": {
      "text/plain": [
       "{'market': 'btc-eth',\n",
       " 'title': 'Bitcoin:Ethereum',\n",
       " 'currencyBase': 'btc',\n",
       " 'currencyMarket': 'eth',\n",
       " 'orderMinSize': '0.00001000',\n",
       " 'buyFee': '0.20000000',\n",
       " 'sellFee': '0.20000000',\n",
       " 'inMaintenance': False}"
      ]
     },
     "execution_count": 3,
     "metadata": {},
     "output_type": "execute_result"
    }
   ],
   "source": [
    "markets = ion.markets()\n",
    "markets[0]"
   ]
  },
  {
   "cell_type": "markdown",
   "metadata": {},
   "source": [
    "#### Currencies"
   ]
  },
  {
   "cell_type": "code",
   "execution_count": 6,
   "metadata": {},
   "outputs": [
    {
     "data": {
      "text/plain": [
       "{'currency': 'dash',\n",
       " 'title': 'Dash',\n",
       " 'withdrawMinSize': '0.00100000',\n",
       " 'withdrawFee': '0.00200000',\n",
       " 'inMaintenance': False,\n",
       " 'canDeposit': 1,\n",
       " 'canWithdraw': 1}"
      ]
     },
     "execution_count": 6,
     "metadata": {},
     "output_type": "execute_result"
    }
   ],
   "source": [
    "currencies = ion.currencies()\n",
    "currencies[0]"
   ]
  },
  {
   "cell_type": "markdown",
   "metadata": {},
   "source": [
    "#### Order Book"
   ]
  },
  {
   "cell_type": "code",
   "execution_count": 11,
   "metadata": {},
   "outputs": [
    {
     "data": {
      "text/plain": [
       "{'size': '207.00000000', 'price': '0.00003301'}"
      ]
     },
     "execution_count": 11,
     "metadata": {},
     "output_type": "execute_result"
    }
   ],
   "source": [
    "order_book = ion.order_book(MARKET)\n",
    "order_book[\"bids\"][0]"
   ]
  },
  {
   "cell_type": "markdown",
   "metadata": {},
   "source": [
    "#### Market Summaries"
   ]
  },
  {
   "cell_type": "code",
   "execution_count": 12,
   "metadata": {},
   "outputs": [
    {
     "data": {
      "text/plain": [
       "{'market': 'btc-eth',\n",
       " 'high': '0.02150000',\n",
       " 'low': '0.01900001',\n",
       " 'volume': '0.31467562',\n",
       " 'price': '0.01900001',\n",
       " 'change': '-11.63',\n",
       " 'baseVolume': '0.00597884',\n",
       " 'bidsOpenOrders': '10',\n",
       " 'bidsLastPrice': '0.01900003',\n",
       " 'highestBid': '0.01900003',\n",
       " 'asksOpenOrders': '14',\n",
       " 'asksLastPrice': '0.02250000',\n",
       " 'lowestAsk': '0.02250000'}"
      ]
     },
     "execution_count": 12,
     "metadata": {},
     "output_type": "execute_result"
    }
   ],
   "source": [
    "market_summaries = ion.market_summaries()\n",
    "market_summaries[0]"
   ]
  },
  {
   "cell_type": "markdown",
   "metadata": {},
   "source": [
    "#### Market Summary"
   ]
  },
  {
   "cell_type": "code",
   "execution_count": 14,
   "metadata": {},
   "outputs": [
    {
     "data": {
      "text/plain": [
       "{'market': 'btc-hive',\n",
       " 'high': '0.00003538',\n",
       " 'low': '0.00003300',\n",
       " 'volume': '3856.61483680',\n",
       " 'price': '0.00003370',\n",
       " 'change': '2.06',\n",
       " 'baseVolume': '0.12996792',\n",
       " 'bidsOpenOrders': '39',\n",
       " 'bidsLastPrice': '0.00003301',\n",
       " 'highestBid': '0.00003301',\n",
       " 'asksOpenOrders': '47',\n",
       " 'asksLastPrice': '0.00003447',\n",
       " 'lowestAsk': '0.00003370'}"
      ]
     },
     "execution_count": 14,
     "metadata": {},
     "output_type": "execute_result"
    }
   ],
   "source": [
    "market_summary = ion.market_summary(MARKET)\n",
    "market_summary"
   ]
  },
  {
   "cell_type": "markdown",
   "metadata": {},
   "source": [
    "#### Market History"
   ]
  },
  {
   "cell_type": "code",
   "execution_count": 15,
   "metadata": {},
   "outputs": [
    {
     "data": {
      "text/plain": [
       "{'type': 'MARKET_BUY',\n",
       " 'amount': '140.93003798',\n",
       " 'price': '0.00003370',\n",
       " 'total': '0.00474934',\n",
       " 'createdAt': '2020-05-16T09:28:58Z'}"
      ]
     },
     "execution_count": 15,
     "metadata": {},
     "output_type": "execute_result"
    }
   ],
   "source": [
    "market_history = ion.market_history(MARKET)\n",
    "market_history[0]"
   ]
  },
  {
   "cell_type": "markdown",
   "metadata": {},
   "source": [
    "## Market Endpoint Methods"
   ]
  },
  {
   "cell_type": "markdown",
   "metadata": {},
   "source": [
    "#### Limit Buy/Sell Order"
   ]
  },
  {
   "cell_type": "code",
   "execution_count": 3,
   "metadata": {},
   "outputs": [
    {
     "ename": "Exception",
     "evalue": "40017",
     "output_type": "error",
     "traceback": [
      "\u001b[0;31m---------------------------------------------------------------------------\u001b[0m",
      "\u001b[0;31mException\u001b[0m                                 Traceback (most recent call last)",
      "\u001b[0;32m<ipython-input-3-8453aa1ba66a>\u001b[0m in \u001b[0;36m<module>\u001b[0;34m\u001b[0m\n\u001b[1;32m      1\u001b[0m \u001b[0morder\u001b[0m \u001b[0;34m=\u001b[0m \u001b[0mion\u001b[0m\u001b[0;34m.\u001b[0m\u001b[0mlimit_buy\u001b[0m\u001b[0;34m(\u001b[0m\u001b[0mHIVE_QUANTITY\u001b[0m\u001b[0;34m,\u001b[0m \u001b[0mLOW_RATE\u001b[0m\u001b[0;34m,\u001b[0m \u001b[0mMARKET\u001b[0m\u001b[0;34m)\u001b[0m\u001b[0;34m\u001b[0m\u001b[0;34m\u001b[0m\u001b[0m\n\u001b[0;32m----> 2\u001b[0;31m \u001b[0morder\u001b[0m \u001b[0;34m=\u001b[0m \u001b[0mion\u001b[0m\u001b[0;34m.\u001b[0m\u001b[0mlimit_sell\u001b[0m\u001b[0;34m(\u001b[0m\u001b[0mHIVE_QUANTITY\u001b[0m\u001b[0;34m,\u001b[0m \u001b[0mHIGH_RATE\u001b[0m\u001b[0;34m,\u001b[0m \u001b[0mMARKET\u001b[0m\u001b[0;34m)\u001b[0m\u001b[0;34m\u001b[0m\u001b[0;34m\u001b[0m\u001b[0m\n\u001b[0m",
      "\u001b[0;32m/notebooks/packages/Ionomy/ionomy.py\u001b[0m in \u001b[0;36mlimit_sell\u001b[0;34m(self, amount, price, market)\u001b[0m\n\u001b[1;32m     92\u001b[0m             \u001b[0;34m'price'\u001b[0m\u001b[0;34m:\u001b[0m \u001b[0;34mf'{price:.8f}'\u001b[0m\u001b[0;34m\u001b[0m\u001b[0;34m\u001b[0m\u001b[0m\n\u001b[1;32m     93\u001b[0m         }\n\u001b[0;32m---> 94\u001b[0;31m         \u001b[0;32mreturn\u001b[0m \u001b[0mself\u001b[0m\u001b[0;34m.\u001b[0m\u001b[0m_request\u001b[0m\u001b[0;34m(\u001b[0m\u001b[0;34m'market/sell-limit'\u001b[0m\u001b[0;34m,\u001b[0m \u001b[0mparams\u001b[0m\u001b[0;34m)\u001b[0m\u001b[0;34m\u001b[0m\u001b[0;34m\u001b[0m\u001b[0m\n\u001b[0m\u001b[1;32m     95\u001b[0m \u001b[0;34m\u001b[0m\u001b[0m\n\u001b[1;32m     96\u001b[0m     \u001b[0;32mdef\u001b[0m \u001b[0mcancel_order\u001b[0m\u001b[0;34m(\u001b[0m\u001b[0mself\u001b[0m\u001b[0;34m,\u001b[0m \u001b[0morderId\u001b[0m\u001b[0;34m:\u001b[0m \u001b[0mstr\u001b[0m\u001b[0;34m)\u001b[0m \u001b[0;34m->\u001b[0m \u001b[0mbool\u001b[0m\u001b[0;34m:\u001b[0m\u001b[0;34m\u001b[0m\u001b[0;34m\u001b[0m\u001b[0m\n",
      "\u001b[0;32m/notebooks/packages/Ionomy/ionomy.py\u001b[0m in \u001b[0;36m_request\u001b[0;34m(self, endpoint, params)\u001b[0m\n\u001b[1;32m     47\u001b[0m         \u001b[0mdata\u001b[0m \u001b[0;34m=\u001b[0m \u001b[0mjson\u001b[0m\u001b[0;34m.\u001b[0m\u001b[0mloads\u001b[0m\u001b[0;34m(\u001b[0m\u001b[0mresponse\u001b[0m\u001b[0;34m.\u001b[0m\u001b[0mcontent\u001b[0m\u001b[0;34m)\u001b[0m\u001b[0;34m\u001b[0m\u001b[0;34m\u001b[0m\u001b[0m\n\u001b[1;32m     48\u001b[0m         \u001b[0;32mif\u001b[0m \u001b[0;32mnot\u001b[0m \u001b[0mdata\u001b[0m\u001b[0;34m[\u001b[0m\u001b[0;34m'success'\u001b[0m\u001b[0;34m]\u001b[0m\u001b[0;34m:\u001b[0m\u001b[0;34m\u001b[0m\u001b[0;34m\u001b[0m\u001b[0m\n\u001b[0;32m---> 49\u001b[0;31m             \u001b[0;32mraise\u001b[0m \u001b[0mException\u001b[0m\u001b[0;34m(\u001b[0m\u001b[0mdata\u001b[0m\u001b[0;34m[\u001b[0m\u001b[0;34m'message'\u001b[0m\u001b[0;34m]\u001b[0m\u001b[0;34m)\u001b[0m\u001b[0;34m\u001b[0m\u001b[0;34m\u001b[0m\u001b[0m\n\u001b[0m\u001b[1;32m     50\u001b[0m         \u001b[0;32mreturn\u001b[0m \u001b[0mdata\u001b[0m\u001b[0;34m[\u001b[0m\u001b[0;34m'data'\u001b[0m\u001b[0;34m]\u001b[0m\u001b[0;34m\u001b[0m\u001b[0;34m\u001b[0m\u001b[0m\n\u001b[1;32m     51\u001b[0m \u001b[0;34m\u001b[0m\u001b[0m\n",
      "\u001b[0;31mException\u001b[0m: 40017"
     ]
    }
   ],
   "source": [
    "order = ion.limit_buy(HIVE_QUANTITY, LOW_RATE, MARKET)\n",
    "# order = ion.limit_sell(HIVE_QUANTITY, HIGH_RATE, MARKET)"
   ]
  },
  {
   "cell_type": "markdown",
   "metadata": {},
   "source": [
    "#### Cancel Order"
   ]
  },
  {
   "cell_type": "code",
   "execution_count": 9,
   "metadata": {},
   "outputs": [
    {
     "data": {
      "text/plain": [
       "True"
      ]
     },
     "execution_count": 9,
     "metadata": {},
     "output_type": "execute_result"
    }
   ],
   "source": [
    "success = ion.cancel_order(order['orderId'])\n",
    "success"
   ]
  },
  {
   "cell_type": "markdown",
   "metadata": {},
   "source": [
    "#### Order Status"
   ]
  },
  {
   "cell_type": "code",
   "execution_count": 8,
   "metadata": {},
   "outputs": [
    {
     "data": {
      "text/plain": [
       "{'orderId': '5ec1a9d18b196d3e336cf6d2',\n",
       " 'status': 'OPEN',\n",
       " 'market': 'btc-hive',\n",
       " 'type': 'LIMIT_BUY',\n",
       " 'amount': '100.00000000',\n",
       " 'price': '0.00003000',\n",
       " 'filled': '0.00000000',\n",
       " 'opened': '2020-05-17T21:17:05Z',\n",
       " 'closed': None}"
      ]
     },
     "execution_count": 8,
     "metadata": {},
     "output_type": "execute_result"
    }
   ],
   "source": [
    "order_status = ion.order_status(order['orderId'])\n",
    "order_status"
   ]
  },
  {
   "cell_type": "markdown",
   "metadata": {},
   "source": [
    "## Account Endpoint Methods"
   ]
  },
  {
   "cell_type": "markdown",
   "metadata": {},
   "source": [
    "#### Open Orders"
   ]
  },
  {
   "cell_type": "code",
   "execution_count": 4,
   "metadata": {},
   "outputs": [
    {
     "data": {
      "text/plain": [
       "[{'orderId': '5ec1a9d18b196d3e336cf6d2',\n",
       "  'market': 'btc-hive',\n",
       "  'type': 'LIMIT_BUY',\n",
       "  'amount': '100.00000000',\n",
       "  'price': '0.00003000',\n",
       "  'filled': '0.00000000',\n",
       "  'createdAt': '2020-05-17T21:17:05Z'}]"
      ]
     },
     "execution_count": 4,
     "metadata": {},
     "output_type": "execute_result"
    }
   ],
   "source": [
    "open_orders = ion.open_orders(MARKET)\n",
    "open_orders[0]"
   ]
  },
  {
   "cell_type": "markdown",
   "metadata": {},
   "source": [
    "#### Balances"
   ]
  },
  {
   "cell_type": "code",
   "execution_count": 18,
   "metadata": {},
   "outputs": [
    {
     "data": {
      "text/plain": [
       "{'currency': 'btc', 'available': '0.11574671', 'reserved': '0.00000001'}"
      ]
     },
     "execution_count": 18,
     "metadata": {},
     "output_type": "execute_result"
    }
   ],
   "source": [
    "balances = ion.balances()\n",
    "balances[0]"
   ]
  },
  {
   "cell_type": "markdown",
   "metadata": {},
   "source": [
    "#### Balance"
   ]
  },
  {
   "cell_type": "code",
   "execution_count": 19,
   "metadata": {},
   "outputs": [
    {
     "data": {
      "text/plain": [
       "{'currency': 'hive', 'available': '0.54814539', 'reserved': '0.00000000'}"
      ]
     },
     "execution_count": 19,
     "metadata": {},
     "output_type": "execute_result"
    }
   ],
   "source": [
    "balance = ion.balance(CURRENCY)\n",
    "balance"
   ]
  },
  {
   "cell_type": "markdown",
   "metadata": {},
   "source": [
    "#### Deposit Address"
   ]
  },
  {
   "cell_type": "code",
   "execution_count": 20,
   "metadata": {},
   "outputs": [
    {
     "data": {
      "text/plain": [
       "{'currency': 'hive', 'address': '5e8f6cd1a2a3e2080524eb42'}"
      ]
     },
     "execution_count": 20,
     "metadata": {},
     "output_type": "execute_result"
    }
   ],
   "source": [
    "deposit_address = ion.deposit_address(CURRENCY)\n",
    "deposit_address"
   ]
  },
  {
   "cell_type": "markdown",
   "metadata": {},
   "source": [
    "#### Deposit History"
   ]
  },
  {
   "cell_type": "code",
   "execution_count": 29,
   "metadata": {},
   "outputs": [
    {
     "data": {
      "text/plain": [
       "{'transactionId': '5e8f6db5149be70cd35ab8e2',\n",
       " 'state': 'PROCESSED',\n",
       " 'currency': 'steem',\n",
       " 'amount': '1.00000000',\n",
       " 'createdAt': '2020-04-09T18:47:17Z'}"
      ]
     },
     "execution_count": 29,
     "metadata": {},
     "output_type": "execute_result"
    }
   ],
   "source": [
    "deposit_history = ion.deposit_history(\"Steem\")\n",
    "deposit_history[\"deposits\"][0]"
   ]
  },
  {
   "cell_type": "markdown",
   "metadata": {},
   "source": [
    "#### Withdrawal History"
   ]
  },
  {
   "cell_type": "code",
   "execution_count": 25,
   "metadata": {},
   "outputs": [
    {
     "data": {
      "text/plain": [
       "{'transactionId': '5e8f726da2a3e220e6566b72',\n",
       " 'state': 'PROCESSED',\n",
       " 'currency': 'hive',\n",
       " 'amount': '7186.01000000',\n",
       " 'feeAmount': '0.01000000',\n",
       " 'createdAt': '2020-04-09T19:07:25Z'}"
      ]
     },
     "execution_count": 25,
     "metadata": {},
     "output_type": "execute_result"
    }
   ],
   "source": [
    "withdrawal_history = ion.withdrawal_history(CURRENCY)\n",
    "withdrawal_history[0]"
   ]
  }
 ],
 "metadata": {
  "kernelspec": {
   "display_name": "Python 3",
   "language": "python",
   "name": "python3"
  },
  "language_info": {
   "codemirror_mode": {
    "name": "ipython",
    "version": 3
   },
   "file_extension": ".py",
   "mimetype": "text/x-python",
   "name": "python",
   "nbconvert_exporter": "python",
   "pygments_lexer": "ipython3",
   "version": "3.7.6"
  }
 },
 "nbformat": 4,
 "nbformat_minor": 4
}
