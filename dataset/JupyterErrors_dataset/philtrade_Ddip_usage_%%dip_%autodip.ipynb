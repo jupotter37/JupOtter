{
 "cells": [
  {
   "cell_type": "markdown",
   "metadata": {},
   "source": [
    "## Ddip User Guide \n",
    "### `%%dip` and `%autodip` --- Controlling Where the Code Are Executed\n",
    "\n",
    "`%%dip` is a cell magic that says run the entire cell in either local, or remote DDP process group, or both namespaces.\n",
    "\n",
    "`%autodip on\" ` prepends `%%dip` to all subsequent cells, thus saving the repeated typing of `%%dip` in a stretch of cells all destined to be run in the DDP multiple processes.\n",
    "\n",
    "**Combining `%%dip` and `%autodip` offers a cell-by-cell control of execution destination, thus interactively switching between,say exploring/fixing up raw data in local notebook, and creating training dataset, and training on the DDP group.**"
   ]
  },
  {
   "cell_type": "code",
   "execution_count": 1,
   "metadata": {},
   "outputs": [],
   "source": [
    "%load_ext Ddip"
   ]
  },
  {
   "cell_type": "code",
   "execution_count": 2,
   "metadata": {},
   "outputs": [
    {
     "name": "stdout",
     "output_type": "stream",
     "text": [
      "Waiting for connection file: ~/.ipython/profile_default/security/ipcontroller-ippdpp_c-client.json\n"
     ]
    }
   ],
   "source": [
    "%makedip -g all --verbose False"
   ]
  },
  {
   "cell_type": "code",
   "execution_count": 3,
   "metadata": {},
   "outputs": [],
   "source": [
    "%%dip?"
   ]
  },
  {
   "cell_type": "raw",
   "metadata": {},
   "source": [
    "%%dip [-q] [-S SEE [SEE ...]] [{remote,local,everywhere}]\n",
    "\n",
    "%%dip - Parallel execution on cluster, allows transient output be displayed.\n",
    "\n",
    "positional arguments:\n",
    "  {remote,local,everywhere}\n",
    "                        Where to run the cell, default is remote.\n",
    "\n",
    "optional arguments:\n",
    "  -q, --quiet           Display any stdout only after task is finished, skip\n",
    "                        all the transient, real-time output.\n",
    "  -S <SEE [SEE ...]>, --see <SEE [SEE ...]>\n",
    "                        display outputs from process specified by a list of\n",
    "                        ranks, or 'all'. Default to 0."
   ]
  },
  {
   "cell_type": "markdown",
   "metadata": {},
   "source": [
    "**By Default, `%%dip` alone implies `%%dip remote` execution, and to do so, it requires a DDP group be already created via the `%makedip` above**\n",
    "\n",
    "To see outputs from all the processs, use `--see all`, otherwise, only Rank-0 output is displayed.\n",
    "\n",
    "The following is run **only in all three DDP processes**, but not in the local notebook.\n",
    "\n",
    "Try adding `-q` flag to see the difference in behavior --- it's only useful if user really does not need to see the transient output (e.g. progress bar when training?)"
   ]
  },
  {
   "cell_type": "code",
   "execution_count": 6,
   "metadata": {},
   "outputs": [
    {
     "name": "stdout",
     "output_type": "stream",
     "text": [
      "0 0 0 1 1 1 2 2 2 \n",
      "Process [17491]: a uniform random number: 1.330240122772942\n",
      "\n",
      "Process [17494]: a uniform random number: 3.2975983245233396\n",
      "\n",
      "Process [17487]: a uniform random number: 1.2217514639879559\n"
     ]
    }
   ],
   "source": [
    "%%dip --see all\n",
    "import time, random, os\n",
    "for i in (range(3)):\n",
    "    print(f\"{i} \", end='')\n",
    "    time.sleep(1)\n",
    "print()\n",
    "x = random.uniform(1,10)\n",
    "print(f\"Process [{os.getpid()}]: a uniform random number: {x}\")"
   ]
  },
  {
   "cell_type": "code",
   "execution_count": 7,
   "metadata": {},
   "outputs": [
    {
     "name": "stdout",
     "output_type": "stream",
     "text": [
      "Back in local process [17429], x is....\n"
     ]
    },
    {
     "ename": "NameError",
     "evalue": "name 'x' is not defined",
     "output_type": "error",
     "traceback": [
      "\u001b[0;31m---------------------------------------------------------------------------\u001b[0m",
      "\u001b[0;31mNameError\u001b[0m                                 Traceback (most recent call last)",
      "\u001b[0;32m<ipython-input-7-d20e2bfb9967>\u001b[0m in \u001b[0;36m<module>\u001b[0;34m\u001b[0m\n\u001b[1;32m      2\u001b[0m \u001b[0;32mimport\u001b[0m \u001b[0mos\u001b[0m\u001b[0;34m\u001b[0m\u001b[0;34m\u001b[0m\u001b[0m\n\u001b[1;32m      3\u001b[0m \u001b[0mprint\u001b[0m\u001b[0;34m(\u001b[0m\u001b[0;34mf\"Back in local process [{os.getpid()}], x is....\"\u001b[0m\u001b[0;34m)\u001b[0m\u001b[0;34m\u001b[0m\u001b[0;34m\u001b[0m\u001b[0m\n\u001b[0;32m----> 4\u001b[0;31m \u001b[0mx\u001b[0m\u001b[0;34m\u001b[0m\u001b[0;34m\u001b[0m\u001b[0m\n\u001b[0m",
      "\u001b[0;31mNameError\u001b[0m: name 'x' is not defined"
     ]
    }
   ],
   "source": [
    "# back in local notebook, i doesn't exist\n",
    "import os\n",
    "print(f\"Back in local process [{os.getpid()}], x is....\")\n",
    "x"
   ]
  },
  {
   "cell_type": "markdown",
   "metadata": {},
   "source": [
    "**To run a cell in both local and DDP processes (local first, then DDP) use `%%dip everywere`.**"
   ]
  },
  {
   "cell_type": "code",
   "execution_count": 8,
   "metadata": {},
   "outputs": [],
   "source": [
    "%%dip everywhere\n",
    "import os, random, time\n",
    "\n",
    "# The libraries are imported to all namespaces: local notebook and DDP process group."
   ]
  },
  {
   "cell_type": "markdown",
   "metadata": {},
   "source": [
    "As a second example, ***can you tell which output is the local notebook process?***"
   ]
  },
  {
   "cell_type": "code",
   "execution_count": 9,
   "metadata": {},
   "outputs": [
    {
     "name": "stdout",
     "output_type": "stream",
     "text": [
      "Process [17429]: a uniform random number: 7.1453557044632054\n"
     ]
    },
    {
     "data": {
      "text/plain": [
       "7.1453557044632054"
      ]
     },
     "execution_count": 9,
     "metadata": {},
     "output_type": "execute_result"
    },
    {
     "name": "stdout",
     "output_type": "stream",
     "text": [
      "Process [17487]: a uniform random number: 8.918987339531334\n",
      "Process [17491]: a uniform random number: 1.3302454733974796\n",
      "Process [17494]: a uniform random number: 6.535828163977395\n"
     ]
    },
    {
     "data": {
      "text/plain": [
       "\u001b[0;31mOut[0:5]: \u001b[0m8.918987339531334"
      ]
     },
     "metadata": {
      "after": [],
      "completed": "2020-01-30T17:12:27.893323",
      "data": {},
      "engine_id": 0,
      "engine_uuid": "28f90606-d241e56d0db8b699dd9ac528",
      "error": null,
      "execute_input": "\nimport os, random\ny = random.uniform(1,10)\nprint(f\"Process [{os.getpid()}]: a uniform random number: {y}\")\ny\n",
      "execute_result": {
       "data": {
        "text/plain": "8.918987339531334"
       },
       "execution_count": 5,
       "metadata": {}
      },
      "follow": [],
      "msg_id": "acce4f44-d7f4a05522a5e8004c720831",
      "outputs": [],
      "received": "2020-01-30T17:12:27.896950",
      "started": "2020-01-30T17:12:27.885977",
      "status": "ok",
      "stderr": "",
      "stdout": "Process [17487]: a uniform random number: 8.918987339531334\n",
      "submitted": "2020-01-30T17:12:27.881567"
     },
     "output_type": "display_data"
    },
    {
     "data": {
      "text/plain": [
       "\u001b[0;31mOut[1:5]: \u001b[0m1.3302454733974796"
      ]
     },
     "metadata": {
      "after": [],
      "completed": "2020-01-30T17:12:27.894455",
      "data": {},
      "engine_id": 1,
      "engine_uuid": "f4c8fbf7-24e40cf0c2018c4c7f5ed3f6",
      "error": null,
      "execute_input": "\nimport os, random\ny = random.uniform(1,10)\nprint(f\"Process [{os.getpid()}]: a uniform random number: {y}\")\ny\n",
      "execute_result": {
       "data": {
        "text/plain": "1.3302454733974796"
       },
       "execution_count": 5,
       "metadata": {}
      },
      "follow": [],
      "msg_id": "6fef9f8e-93e955fdb230829b0d0aa75d",
      "outputs": [],
      "received": "2020-01-30T17:12:27.898176",
      "started": "2020-01-30T17:12:27.885836",
      "status": "ok",
      "stderr": "",
      "stdout": "Process [17491]: a uniform random number: 1.3302454733974796\n",
      "submitted": "2020-01-30T17:12:27.881720"
     },
     "output_type": "display_data"
    },
    {
     "data": {
      "text/plain": [
       "\u001b[0;31mOut[2:5]: \u001b[0m6.535828163977395"
      ]
     },
     "metadata": {
      "after": [],
      "completed": "2020-01-30T17:12:27.889928",
      "data": {},
      "engine_id": 2,
      "engine_uuid": "213a8b76-3bef5420a1bb2cdf533d14d9",
      "error": null,
      "execute_input": "\nimport os, random\ny = random.uniform(1,10)\nprint(f\"Process [{os.getpid()}]: a uniform random number: {y}\")\ny\n",
      "execute_result": {
       "data": {
        "text/plain": "6.535828163977395"
       },
       "execution_count": 5,
       "metadata": {}
      },
      "follow": [],
      "msg_id": "322efe2c-250a65a145ea4b563d97289a",
      "outputs": [],
      "received": "2020-01-30T17:12:27.893528",
      "started": "2020-01-30T17:12:27.884936",
      "status": "ok",
      "stderr": "",
      "stdout": "Process [17494]: a uniform random number: 6.535828163977395\n",
      "submitted": "2020-01-30T17:12:27.881833"
     },
     "output_type": "display_data"
    }
   ],
   "source": [
    "%%dip everywhere --see all\n",
    "\n",
    "import os, random\n",
    "y = random.uniform(1,10)\n",
    "print(f\"Process [{os.getpid()}]: a uniform random number: {y}\")\n",
    "y"
   ]
  },
  {
   "cell_type": "markdown",
   "metadata": {},
   "source": [
    "### `%autodip`  **To run a series of cells under the same `%%dip` magic**\n"
   ]
  },
  {
   "cell_type": "code",
   "execution_count": 10,
   "metadata": {},
   "outputs": [],
   "source": [
    "%autodip?"
   ]
  },
  {
   "cell_type": "raw",
   "metadata": {},
   "source": [
    "  %autodip [-a ARGS] [{on,off}]\n",
    "\n",
    "Prepend %%dip to subsequent cells so that they will run on the distributed data parallel cluster.\n",
    "\n",
    "positional arguments:\n",
    "  {on,off}              Turn on auto-%dip for the cells after this one.\n",
    "\n",
    "optional arguments:\n",
    "  -a ARGS, --args ARGS  In '-one -quoted string', flags and arguments to pass to %dip."
   ]
  },
  {
   "cell_type": "code",
   "execution_count": 20,
   "metadata": {},
   "outputs": [
    {
     "name": "stdout",
     "output_type": "stream",
     "text": [
      "Auto Execution on DDP group: on, will run cell as %%dip\n"
     ]
    }
   ],
   "source": [
    "%autodip on"
   ]
  },
  {
   "cell_type": "markdown",
   "metadata": {},
   "source": [
    "Next cell onward, will run in remote DDP process group.  By default only rank-0 process output is displayed."
   ]
  },
  {
   "cell_type": "code",
   "execution_count": 23,
   "metadata": {},
   "outputs": [
    {
     "name": "stdout",
     "output_type": "stream",
     "text": [
      "Process [17487] dreaming 1 seconds....\n",
      ".\n",
      "Process [17487] woke up...\n"
     ]
    }
   ],
   "source": [
    "dream = int(random.uniform(1,4))\n",
    "print(f\"Process [{os.getpid()}] dreaming {dream} seconds....\")\n",
    "while dream > 0:\n",
    "    print(\".\", end='', flush=True)\n",
    "    time.sleep(1)\n",
    "    dream -= 1\n",
    "print(f\"\\nProcess [{os.getpid()}] woke up...\")"
   ]
  },
  {
   "cell_type": "markdown",
   "metadata": {},
   "source": [
    "**The default behavior of only streaming back output from rank 0 process** is useful when during distributed data parallel training, where rank 0 process aggregates and performs the all-reduce operation.  Often times only rank-0's output is of interest.\n",
    "\n",
    "To see all outputs, for only one cell, use `%%dip --see all`, it'll be applied only to this cell.  Afterwards, back to whatever %autodip on settings it was before."
   ]
  },
  {
   "cell_type": "code",
   "execution_count": 24,
   "metadata": {},
   "outputs": [
    {
     "name": "stdout",
     "output_type": "stream",
     "text": [
      "I am process [17487]\n",
      "I am process [17491]\n",
      "I am process [17494]\n"
     ]
    }
   ],
   "source": [
    "%%dip --see all\n",
    "print(f\"I am process [{os.getpid()}]\")"
   ]
  },
  {
   "cell_type": "code",
   "execution_count": 26,
   "metadata": {},
   "outputs": [
    {
     "name": "stdout",
     "output_type": "stream",
     "text": [
      "I am process [17487]\n"
     ]
    }
   ],
   "source": [
    "# Back to only display rank-0 output\n",
    "print(f\"I am process [{os.getpid()}]\")"
   ]
  },
  {
   "cell_type": "markdown",
   "metadata": {},
   "source": [
    "#### **If `%%dip --see all` is desired for a series of cells, use the -a \"args\" flag to `%autodip`:**"
   ]
  },
  {
   "cell_type": "code",
   "execution_count": 28,
   "metadata": {},
   "outputs": [
    {
     "name": "stdout",
     "output_type": "stream",
     "text": [
      "Auto Execution on DDP group: on, will run cell as %%dip --see all\n"
     ]
    }
   ],
   "source": [
    "%autodip -a \"--see all\" on"
   ]
  },
  {
   "cell_type": "code",
   "execution_count": 29,
   "metadata": {},
   "outputs": [
    {
     "name": "stdout",
     "output_type": "stream",
     "text": [
      "I am process [17487], we are in automatic parallel execution mode.\n",
      "I am process [17491], we are in automatic parallel execution mode.\n",
      "I am process [17494], we are in automatic parallel execution mode.\n"
     ]
    }
   ],
   "source": [
    "print(f\"I am process [{os.getpid()}], we are in automatic parallel execution mode.\")"
   ]
  },
  {
   "cell_type": "code",
   "execution_count": 30,
   "metadata": {},
   "outputs": [
    {
     "name": "stdout",
     "output_type": "stream",
     "text": [
      "The time now is 1580405158.89015\n",
      "The time now is 1580405158.8899994\n",
      "The time now is 1580405158.8889928\n"
     ]
    }
   ],
   "source": [
    "print(f\"The time now is {time.time()}\")"
   ]
  },
  {
   "cell_type": "markdown",
   "metadata": {},
   "source": [
    "#### While `%autodip` is `on`, a cell can ignore `%autodip` and change course to wherever, IF the first line begins with `%`.\n",
    "\n",
    "**Say in the middle of `%autodip on`, let us do something in the local notebook, and push the result to DDP:**"
   ]
  },
  {
   "cell_type": "code",
   "execution_count": 38,
   "metadata": {},
   "outputs": [],
   "source": [
    "%%dip local\n",
    "\n",
    "s = f\"Local process [{os.getpid()}] time was {time.time()}\"\n",
    "\n",
    "%dipush s"
   ]
  },
  {
   "cell_type": "markdown",
   "metadata": {},
   "source": [
    "*Last cell overrides `%autodip`, now back to the last `%autodip -a \"--see all\" on` setting:*"
   ]
  },
  {
   "cell_type": "code",
   "execution_count": 39,
   "metadata": {},
   "outputs": [
    {
     "name": "stdout",
     "output_type": "stream",
     "text": [
      "Process [17487] : 1580405470.7578192 vs Local process [17429] time was 1580405469.8281991\n",
      "Process [17491] : 1580405470.7588265 vs Local process [17429] time was 1580405469.8281991\n",
      "Process [17494] : 1580405470.7586706 vs Local process [17429] time was 1580405469.8281991\n"
     ]
    }
   ],
   "source": [
    "print(f\"Process [{os.getpid()}] : {time.time()} vs {s}\")"
   ]
  },
  {
   "cell_type": "markdown",
   "metadata": {},
   "source": [
    "Type `%autodip` alone in a cell shows its current on or off status"
   ]
  },
  {
   "cell_type": "code",
   "execution_count": 39,
   "metadata": {},
   "outputs": [
    {
     "name": "stdout",
     "output_type": "stream",
     "text": [
      "Auto Execution on DDP group: on, will run cell as %%dip --see all\n"
     ]
    }
   ],
   "source": [
    "%autodip"
   ]
  },
  {
   "cell_type": "markdown",
   "metadata": {},
   "source": [
    "### In typical DDP training, `%autodip on` is sufficient, as we don't usually care about the output of non-Rank 0 processes.\n",
    "\n",
    "#### To return to the local notebook namespaces for subsequent cells, turn off `%autodip`"
   ]
  },
  {
   "cell_type": "code",
   "execution_count": 42,
   "metadata": {},
   "outputs": [
    {
     "name": "stdout",
     "output_type": "stream",
     "text": [
      "Auto Execution on DDP group: Off\n"
     ]
    }
   ],
   "source": [
    "%autodip off"
   ]
  },
  {
   "cell_type": "code",
   "execution_count": null,
   "metadata": {},
   "outputs": [],
   "source": []
  }
 ],
 "metadata": {
  "kernelspec": {
   "display_name": "Python 3",
   "language": "python",
   "name": "python3"
  },
  "language_info": {
   "codemirror_mode": {
    "name": "ipython",
    "version": 3
   },
   "file_extension": ".py",
   "mimetype": "text/x-python",
   "name": "python",
   "nbconvert_exporter": "python",
   "pygments_lexer": "ipython3",
   "version": "3.7.4"
  }
 },
 "nbformat": 4,
 "nbformat_minor": 2
}
