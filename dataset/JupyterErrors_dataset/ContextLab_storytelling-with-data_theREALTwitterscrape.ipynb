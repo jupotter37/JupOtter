{
 "cells": [
  {
   "cell_type": "code",
<<<<<<< HEAD
   "execution_count": 7,
=======
   "execution_count": 109,
>>>>>>> d268004483caf2b76bf45f2d5f176dca6b453ea9
   "metadata": {
    "collapsed": true
   },
   "outputs": [],
   "source": [
    "import tweepy\n",
    "from selenium import webdriver\n",
    "from tweepy import OAuthHandler\n",
    "import csv\n",
    " \n",
    "consumer_key = '2dSyaPR8HQv3pal4tpfPaxEIZ'\n",
    "consumer_secret = 'JaB1nVrsc0TYWLOvzVkoM6feHqtBAruKCWn9erz9SJpYu71wNw'\n",
    "access_token = '2952993774-NHXUYXLgs4JKc3NvSTL6cUPwsLKoqgxCxTpKnho'\n",
    "access_secret = 'IOYodaEvwQplWPZboTJPX8cdBNuNux2IfVsdUXjuIkjcn'\n",
    " \n",
    "auth = OAuthHandler(consumer_key, consumer_secret)\n",
    "auth.set_access_token(access_token, access_secret)\n",
    " \n",
    "api = tweepy.API(auth)"
   ]
  },
  {
   "cell_type": "code",
<<<<<<< HEAD
   "execution_count": 8,
=======
   "execution_count": 110,
>>>>>>> d268004483caf2b76bf45f2d5f176dca6b453ea9
   "metadata": {},
   "outputs": [
    {
     "name": "stdout",
     "output_type": "stream",
     "text": [
      "[nltk_data] Downloading package brown to /root/nltk_data...\n",
      "[nltk_data]   Package brown is already up-to-date!\n",
      "[nltk_data] Downloading package punkt to /root/nltk_data...\n",
      "[nltk_data]   Package punkt is already up-to-date!\n"
     ]
    }
   ],
   "source": [
    "from twitterscraper import query_tweets\n",
    "from twitterscraper.query import query_tweets_once as query_tweets_advanced\n",
    "from sklearn.decomposition import LatentDirichletAllocation as LDA\n",
    "from sklearn.feature_extraction.text import CountVectorizer\n",
    "from scipy.sparse import csr_matrix\n",
    "import seaborn as sns\n",
    "import hypertools as hyp\n",
    "import numpy as np\n",
    "from textblob import TextBlob as tb\n",
    "import pandas as pd\n",
    "import numpy as np\n",
    "import datetime as dt\n",
    "import nltk\n",
    "nltk.download('brown')\n",
    "nltk.download('punkt')\n",
    "%matplotlib inline"
   ]
  },
  {
   "cell_type": "code",
<<<<<<< HEAD
   "execution_count": 9,
=======
   "execution_count": 111,
>>>>>>> d268004483caf2b76bf45f2d5f176dca6b453ea9
   "metadata": {
    "collapsed": true
   },
   "outputs": [],
   "source": [
    "n_tweets = 100\n",
    "tweets = []\n",
    "for tweet in query_tweets(\"Trump\", n_tweets)[:n_tweets]:\n",
    "    tweets.append(tweet)\n",
    "    \n",
    "tweet_trump = list(map(lambda x: x.text, tweets))\n",
    "\n",
    "def tweet_sentiment(tweet):\n",
    "    b = tb(tweet)\n",
    "    return np.sum(np.array(list(map(lambda x: x.sentiment.polarity, b.sentences))))\n",
    "\n",
    "sentiments = list(map(tweet_sentiment, tweet_trump))"
   ]
  },
  {
   "cell_type": "code",
   "execution_count": 112,
   "metadata": {
    "collapsed": true
   },
   "outputs": [],
   "source": [
    "n_tweets = 100\n",
    "tweets = []\n",
    "for tweet in query_tweets(\"Clinton\", n_tweets)[:n_tweets]:\n",
    "    tweets.append(tweet)\n",
    "    \n",
    "tweet_clinton = list(map(lambda x: x.text, tweets))\n",
    "\n",
    "def tweet_sentiment(tweet):\n",
    "    b = tb(tweet)\n",
    "    return np.sum(np.array(list(map(lambda x: x.sentiment.polarity, b.sentences))))\n",
    "\n",
    "sentiments = list(map(tweet_sentiment, tweet_clinton))"
   ]
  },
  {
   "cell_type": "code",
   "execution_count": 108,
   "metadata": {
    "scrolled": true
   },
   "outputs": [
    {
     "data": {
      "text/plain": [
       "'BBC News - Donald Trump: 24 things the next president believes http://www.bbc.com/news/world-us-canada-34903577\\xa0…'"
      ]
     },
     "execution_count": 108,
     "metadata": {},
     "output_type": "execute_result"
    }
   ],
   "source": [
    "#saddest trump tweet\n",
    "tweet_trump[np.where(sentiments == np.min(sentiments))[0][0]]"
   ]
  },
  {
   "cell_type": "code",
   "execution_count": 101,
   "metadata": {},
   "outputs": [
    {
     "data": {
      "text/plain": [
       "'What idiot said that? We know that Bill Clinton raped Juanita Broaddrick. We know Hillary was his bulldog. Raging Feminist . HARD PASS!'"
      ]
     },
     "execution_count": 101,
     "metadata": {},
     "output_type": "execute_result"
    }
   ],
   "source": [
    "#saddest clinton tweet\n",
    "tweet_clinton[np.where(sentiments == np.min(sentiments))[0][0]] "
   ]
  },
  {
   "cell_type": "code",
   "execution_count": 102,
   "metadata": {},
   "outputs": [
    {
     "data": {
      "text/plain": [
       "'Yeehhaa Howard! More cash to the Clinton Crime Family. Great idea.'"
      ]
     },
     "execution_count": 102,
     "metadata": {},
     "output_type": "execute_result"
    }
   ],
   "source": [
    "#happiest tweet\n",
    "tweet_clinton[np.where(sentiments == np.max(sentiments))[0][0]]"
   ]
  },
  {
   "cell_type": "code",
   "execution_count": 103,
   "metadata": {},
   "outputs": [],
   "source": [
    "# function for scraping twitter for one or more keywords and returning a dictionary with:\n",
    "# - tweets: the tweet text (list of length n_tweets)\n",
    "# - datetimes: the tweet date/time (as a DateTime object)\n",
    "# - topicvecs: the tweet topic vectors (numpy array with n_tweets rows and n_topics columns)\n",
    "# - topwords: the top n words from each topic (list of length n_topics, where each element is a list of n_words)\n",
    "# - sentiments: the sentiment valence of each tweet (numpy array of length n_tweets)\n",
    "\n",
    "def twitter_witch(keywords, n_tweets=500, n_topics=10, n_words=5, model=None, use_advanced=False):\n",
    "    \n",
    "    #get the tweets\n",
    "    tweets = []\n",
    "    tweets = query_tweets_advanced(keywords, num_tweets=n_tweets, limit=n_tweets)\n",
    "    \n",
    "    #get the tweet text\n",
    "    tweet_text = list(map(lambda x: x.text, tweets))\n",
    "    \n",
    "    return {'tweets': tweet_text}"
   ]
  },
  {
   "cell_type": "code",
   "execution_count": 10,
   "metadata": {
    "collapsed": true
   },
   "outputs": [],
   "source": [
    "def get_tweets(username= \"realDonaldTrump\", n_tweets=100):\n",
    "    \n",
    "    count = 1\n",
    "    twitter_data = []\n",
    "    trump_data = []\n",
    "    \n",
    "    print('Getting information for ')\n",
    "\n",
    "    # https://twitter.com/search?l=en&q=from%3Alilliannzhao&src=typd\n",
    "    # l=&q=from%3ArealDonaldTrump%20since%3A2017-10-03%20until%3A2017-10-10\n",
    "    \n",
    "    while count <= n_tweets:\n",
    "        search_string = 'l=en&q=from%3Alilliannzhao&src=typd'\n",
    "        \n",
    "        if len(twitter_data) == 0:\n",
    "            twitter_data.append(twitter_witch(search_string, n_tweets=n_tweets, use_advanced=True))\n",
    "        # else:\n",
    "            # twitter_data.append(twitter_witch(search_string, n_tweets=n_tweets, use_advanced=True, model=twitter_data[0]['model']))\n",
    "            # print('.', end='') \n",
    "            count = count + 1\n",
    "\n",
    "        print('done')\n",
    "    \n",
    "        return {'tweets': twitter_data, 'trump': trump_data}"
   ]
  },
  {
   "cell_type": "code",
   "execution_count": 11,
   "metadata": {
    "collapsed": true
   },
   "outputs": [],
   "source": [
    "    def __init__(self, rate_delay, error_delay=5):\n",
    "        \"\"\"\n",
    "        :param rate_delay: How long to pause between calls to Twitter\n",
    "        :param error_delay: How long to pause when an error occurs\n",
    "        \"\"\"\n",
    "        self.rate_delay = rate_delay\n",
    "        self.error_delay = error_delay\n",
    "\n",
    "    def search(self, query):\n",
    "        self.perform_search(query)\n",
    "\n",
    "    def perform_search(self, query):\n",
    "        \n",
    "        def __init__(self):\n",
    "            print (\"Hi\")\n",
    "        \"\"\"\n",
    "        Scrape items from twitter\n",
    "        :param query:   Query to search Twitter with. Takes form of queries constructed with using Twitters\n",
    "                        advanced search: https://twitter.com/search-advanced\n",
    "        \"\"\"\n",
    "        url = self.construct_url(query)\n",
    "        continue_search = True\n",
    "        min_tweet = None\n",
    "        response = self.execute_search(url)\n",
    "        while response is not None and continue_search and response['items_html'] is not None:\n",
    "            tweets = self.parse_tweets(response['items_html'])\n",
    "\n",
    "            # If we have no tweets, then we can break the loop early\n",
    "            if len(tweets) == 0:\n",
    "                break\n",
    "\n",
    "            # If we haven't set our min tweet yet, set it now\n",
    "            if min_tweet is None:\n",
    "                min_tweet = tweets[0]\n",
    "\n",
    "            continue_search = self.save_tweets(tweets)\n",
    "\n",
    "            # Our max tweet is the last tweet in the list\n",
    "            max_tweet = tweets[-1]\n",
    "            if min_tweet['tweet_id'] is not max_tweet['tweet_id']:\n",
    "                if \"min_position\" in response.keys():\n",
    "                    max_position = response['min_position']\n",
    "                else:\n",
    "                    max_position = \"TWEET-%s-%s\" % (max_tweet['tweet_id'], min_tweet['tweet_id'])\n",
    "                url = self.construct_url(query, max_position=max_position)\n",
    "                # Sleep for our rate_delay\n",
    "                sleep(self.rate_delay)\n",
    "                response = self.execute_search(url)"
   ]
  },
  {
   "cell_type": "code",
   "execution_count": 12,
   "metadata": {
    "collapsed": true
   },
   "outputs": [],
   "source": [
    "def perform_search(self, query):\n",
    "\n",
    "        # Scrape items from twitter\n",
    "        # :param query:   Query to search Twitter with. Takes form of queries constructed with using Twitters\n",
    "                        # advanced search: https://twitter.com/search-advanced\n",
    "            \n",
    "        url = self.construct_url(query)\n",
    "        continue_search = True\n",
    "        min_tweet = None\n",
    "        response = self.execute_search(url)\n",
    "        \n",
    "        while response is not None and continue_search and response['items_html'] is not None:\n",
    "            tweets = self.parse_tweets(response['items_html'])\n",
    "\n",
    "            # If we have no tweets, then we can break the loop early\n",
    "            if len(tweets) == 0:\n",
    "                break\n",
    "\n",
    "            # If we haven't set our min tweet yet, set it now\n",
    "            if min_tweet is None:\n",
    "                min_tweet = tweets[0]\n",
    "\n",
    "            continue_search = self.save_tweets(tweets)\n",
    "\n",
    "            # Our max tweet is the last tweet in the list\n",
    "            max_tweet = tweets[-1]\n",
    "            if min_tweet['tweet_id'] is not max_tweet['tweet_id']:\n",
    "                if \"min_position\" in response.keys():\n",
    "                    max_position = response['min_position']\n",
    "                else:\n",
    "                    max_position = \"TWEET-%s-%s\" % (max_tweet['tweet_id'], min_tweet['tweet_id'])\n",
    "                \n",
    "                url = self.construct_url(query, max_position=max_position)\n",
    "            \n",
    "                # Sleep for our rate_delay\n",
    "                sleep(self.rate_delay)\n",
    "                response = self.execute_search(url)"
   ]
  },
  {
   "cell_type": "code",
   "execution_count": 13,
   "metadata": {},
   "outputs": [
    {
     "name": "stdout",
     "output_type": "stream",
     "text": [
      "Getting information for \n",
      "done\n"
     ]
    }
   ],
   "source": [
    "info = get_tweets(n_tweets = 10)"
   ]
  },
  {
   "cell_type": "code",
   "execution_count": null,
   "metadata": {
    "collapsed": true
   },
   "outputs": [],
   "source": [
    "# method modified from \n",
    "# https://www.google.com/search?q=how+to+get+users+tweet+from+twitter+scraper&oq=how+to+get+user&aqs=chrome.0.69i59j69i57j0l4.2495j0j4&sourceid=chrome&ie=UTF-8\n",
    "def get_all_tweets(screen_name, res):\n",
    "\n",
    "    #authorize twitter, initialize tweepy\n",
    "    auth = tweepy.OAuthHandler(consumer_key, consumer_secret)\n",
    "    auth.set_access_token(access_token, access_secret)\n",
    "    api = tweepy.API(auth)\n",
    "\n",
    "    alltweets = []\t\n",
    "    new_tweets = api.user_timeline(screen_name = screen_name,count=200)\n",
    "\n",
    "    alltweets.extend(new_tweets)\n",
    "\n",
    "    oldest = alltweets[-1].id - 1\n",
    "\n",
    "    while len(new_tweets) > 0:\n",
    "        print ('getting tweets before %s' % (oldest))\n",
    "        new_tweets = api.user_timeline(screen_name = screen_name,count=200,max_id=oldest)\n",
    "        alltweets.extend(new_tweets)\n",
    "        oldest = alltweets[-1].id - 1\n",
    "\n",
    "    outtweets = [[tweet.id_str, tweet.created_at, tweet.text.encode(\"utf-8\")] for tweet in alltweets]\n",
    "    res.append(outtweets)\n",
    "    "
   ]
  },
  {
   "cell_type": "code",
<<<<<<< HEAD
   "execution_count": 118,
   "metadata": {},
   "outputs": [
    {
     "name": "stdout",
     "output_type": "stream",
     "text": [
      "getting tweets before 912079629648883711\n",
      "getting tweets before 903770196388831232\n",
      "getting tweets before 894878812063846399\n",
      "getting tweets before 885856351557210111\n",
      "getting tweets before 876951845880688643\n",
      "getting tweets before 862460991451344895\n",
      "getting tweets before 848521325480202239\n",
      "getting tweets before 831952535544070144\n",
      "getting tweets before 820789938887294976\n",
      "getting tweets before 807589280071684095\n",
      "getting tweets before 794574267878928383\n",
      "getting tweets before 788934601506889727\n",
      "getting tweets before 785323809062653951\n",
      "getting tweets before 780893126605037567\n",
      "getting tweets before 773836389943246847\n",
      "getting tweets before 765629939811020801\n",
      "getting tweets before 763477408909500415\n"
=======
   "execution_count": 3,
   "metadata": {},
   "outputs": [
    {
     "ename": "NameError",
     "evalue": "name 'get_tweets' is not defined",
     "output_type": "error",
     "traceback": [
      "\u001b[0;31m---------------------------------------------------------------------------\u001b[0m",
      "\u001b[0;31mNameError\u001b[0m                                 Traceback (most recent call last)",
      "\u001b[0;32m<ipython-input-3-9df7839da95f>\u001b[0m in \u001b[0;36m<module>\u001b[0;34m()\u001b[0m\n\u001b[0;32m----> 1\u001b[0;31m \u001b[0minfo\u001b[0m \u001b[0;34m=\u001b[0m \u001b[0mget_tweets\u001b[0m\u001b[0;34m(\u001b[0m\u001b[0mn_tweets\u001b[0m \u001b[0;34m=\u001b[0m \u001b[0;36m10\u001b[0m\u001b[0;34m)\u001b[0m\u001b[0;34m\u001b[0m\u001b[0m\n\u001b[0m",
      "\u001b[0;31mNameError\u001b[0m: name 'get_tweets' is not defined"
>>>>>>> d268004483caf2b76bf45f2d5f176dca6b453ea9
     ]
    }
   ],
   "source": [
    "res = []\n",
    "get_all_tweets(\"realDonaldTrump\", res)\n",
    "trump_text = []\n",
    "for i in range(0,50):\n",
    "    trump_text.append(str(res[0][i][2]))\n"
   ]
  },
  {
   "cell_type": "code",
   "execution_count": 119,
   "metadata": {},
   "outputs": [
    {
     "name": "stdout",
     "output_type": "stream",
     "text": [
      "getting tweets before 908432964643692543\n",
      "getting tweets before 894054096235364351\n",
      "getting tweets before 881376258432659455\n",
      "getting tweets before 867049908783775744\n",
      "getting tweets before 846786537648017407\n",
      "getting tweets before 831663837732564991\n",
      "getting tweets before 822521968465416191\n"
     ]
    }
   ],
   "source": [
    "res_p = []\n",
    "get_all_tweets(\"POTUS\", res_p)\n",
    "\n",
    "potus_text = []\n",
    "for i in range(0,50):\n",
    "    potus_text.append(str(res_p[0][i][2]))\n"
   ]
  },
  {
   "cell_type": "code",
   "execution_count": 120,
   "metadata": {},
   "outputs": [
    {
     "name": "stdout",
     "output_type": "stream",
     "text": [
      "b\"The wonderful people of Puerto Rico, with their unmatched spirit, know how bad things were before the H's. I will always be with them!\"\n",
      "b'RT @realDonaldTrump: It is time to take care of OUR COUNTRY, to rebuild OUR COMMUNITIES, and to protect our GREAT AMERICAN WORKERS! #TaxRef\\xe2\\x80\\xa6'\n"
     ]
    }
   ],
   "source": [
    "print(trump_text[0])\n",
    "print(potus_text[0])"
   ]
  },
  {
   "cell_type": "code",
   "execution_count": 121,
   "metadata": {},
   "outputs": [
    {
     "ename": "AttributeError",
     "evalue": "'Tweet' object has no attribute 'trump_text'",
     "output_type": "error",
     "traceback": [
      "\u001b[0;31m---------------------------------------------------------------------------\u001b[0m",
      "\u001b[0;31mAttributeError\u001b[0m                            Traceback (most recent call last)",
      "\u001b[0;32m<ipython-input-121-640743ca8d5d>\u001b[0m in \u001b[0;36m<module>\u001b[0;34m()\u001b[0m\n\u001b[1;32m      3\u001b[0m \u001b[0;32mfor\u001b[0m \u001b[0mtweet\u001b[0m \u001b[0;32min\u001b[0m \u001b[0mquery_tweets\u001b[0m\u001b[0;34m(\u001b[0m\u001b[0;34m\"election\"\u001b[0m\u001b[0;34m,\u001b[0m \u001b[0mn_tweets\u001b[0m\u001b[0;34m)\u001b[0m\u001b[0;34m[\u001b[0m\u001b[0;34m:\u001b[0m\u001b[0mn_tweets\u001b[0m\u001b[0;34m]\u001b[0m\u001b[0;34m:\u001b[0m\u001b[0;34m\u001b[0m\u001b[0m\n\u001b[1;32m      4\u001b[0m     \u001b[0mtweets\u001b[0m\u001b[0;34m.\u001b[0m\u001b[0mappend\u001b[0m\u001b[0;34m(\u001b[0m\u001b[0mtweet\u001b[0m\u001b[0;34m)\u001b[0m\u001b[0;34m\u001b[0m\u001b[0m\n\u001b[0;32m----> 5\u001b[0;31m \u001b[0mtweet_text\u001b[0m \u001b[0;34m=\u001b[0m \u001b[0mlist\u001b[0m\u001b[0;34m(\u001b[0m\u001b[0mmap\u001b[0m\u001b[0;34m(\u001b[0m\u001b[0;32mlambda\u001b[0m \u001b[0mx\u001b[0m\u001b[0;34m:\u001b[0m \u001b[0mx\u001b[0m\u001b[0;34m.\u001b[0m\u001b[0mtrump_text\u001b[0m\u001b[0;34m,\u001b[0m \u001b[0mtweets\u001b[0m\u001b[0;34m)\u001b[0m\u001b[0;34m)\u001b[0m\u001b[0;34m\u001b[0m\u001b[0m\n\u001b[0m",
      "\u001b[0;32m<ipython-input-121-640743ca8d5d>\u001b[0m in \u001b[0;36m<lambda>\u001b[0;34m(x)\u001b[0m\n\u001b[1;32m      3\u001b[0m \u001b[0;32mfor\u001b[0m \u001b[0mtweet\u001b[0m \u001b[0;32min\u001b[0m \u001b[0mquery_tweets\u001b[0m\u001b[0;34m(\u001b[0m\u001b[0;34m\"election\"\u001b[0m\u001b[0;34m,\u001b[0m \u001b[0mn_tweets\u001b[0m\u001b[0;34m)\u001b[0m\u001b[0;34m[\u001b[0m\u001b[0;34m:\u001b[0m\u001b[0mn_tweets\u001b[0m\u001b[0;34m]\u001b[0m\u001b[0;34m:\u001b[0m\u001b[0;34m\u001b[0m\u001b[0m\n\u001b[1;32m      4\u001b[0m     \u001b[0mtweets\u001b[0m\u001b[0;34m.\u001b[0m\u001b[0mappend\u001b[0m\u001b[0;34m(\u001b[0m\u001b[0mtweet\u001b[0m\u001b[0;34m)\u001b[0m\u001b[0;34m\u001b[0m\u001b[0m\n\u001b[0;32m----> 5\u001b[0;31m \u001b[0mtweet_text\u001b[0m \u001b[0;34m=\u001b[0m \u001b[0mlist\u001b[0m\u001b[0;34m(\u001b[0m\u001b[0mmap\u001b[0m\u001b[0;34m(\u001b[0m\u001b[0;32mlambda\u001b[0m \u001b[0mx\u001b[0m\u001b[0;34m:\u001b[0m \u001b[0mx\u001b[0m\u001b[0;34m.\u001b[0m\u001b[0mtrump_text\u001b[0m\u001b[0;34m,\u001b[0m \u001b[0mtweets\u001b[0m\u001b[0;34m)\u001b[0m\u001b[0;34m)\u001b[0m\u001b[0;34m\u001b[0m\u001b[0m\n\u001b[0m",
      "\u001b[0;31mAttributeError\u001b[0m: 'Tweet' object has no attribute 'trump_text'"
     ]
    }
   ],
   "source": [
    "n_tweets = 500\n",
    "tweets = []\n",
    "for tweet in query_tweets(\"election\", n_tweets)[:n_tweets]:\n",
    "    tweets.append(tweet)\n",
    "tweet_text = list(map(lambda x: x.trump_text, tweets))"
   ]
  },
  {
   "cell_type": "code",
   "execution_count": null,
   "metadata": {
    "collapsed": true
   },
   "outputs": [],
   "source": [
    "def tweet_sentiment(tweet):\n",
    "    b = tb(tweet)\n",
    "    return np.sum(np.array(list(map(lambda x: x.sentiment.polarity, b.sentences))))"
   ]
  },
  {
   "cell_type": "code",
   "execution_count": null,
   "metadata": {},
   "outputs": [],
   "source": [
    "tweet_text = list(map(lambda x: x.text, tweets))"
   ]
  },
  {
   "cell_type": "code",
   "execution_count": null,
   "metadata": {},
   "outputs": [],
   "source": [
    "n_features = 1000\n",
    "tf_vectorizer = CountVectorizer(max_df=0.95, min_df=2, max_features=n_features, stop_words='english')\n",
    "tf = tf_vectorizer.fit_transform(tweet_text)\n",
    "tf_feature_names = tf_vectorizer.get_feature_names()"
   ]
  },
  {
   "cell_type": "code",
   "execution_count": null,
   "metadata": {},
   "outputs": [],
   "source": [
    "n_topics = 10\n",
    "lda = LDA(n_topics=n_topics, max_iter=5, learning_method='online', learning_offset=50., random_state=0).fit(tf)\n",
    "tweet_def"
   ]
  },
  {
   "cell_type": "code",
   "execution_count": null,
   "metadata": {
    "collapsed": true
   },
   "outputs": [],
   "source": [
    "def twitter_magic(tweet_text, n_tweets=500, n_topics=10, n_words=5, model=None):\n",
    "    \n",
    "    #fit a topic model to the tweet text    \n",
    "    n_features = 1000\n",
    "    tf_vectorizer = CountVectorizer(max_df=0.95, min_df=2, max_features=n_features, stop_words='english')\n",
    "    tf = tf_vectorizer.fit_transform(tweet_text)    \n",
    "    vocab = tf_vectorizer.get_feature_names()\n",
    "    \n",
    "    if model == None:\n",
    "        lda = LDA(n_topics=n_topics, max_iter=5, learning_method='online', learning_offset=50., random_state=0).fit(tf)\n",
    "    else:\n",
    "        lda = model            \n",
    "    tweet_topics = lda.fit(tf)\n",
    "    \n",
    "    def get_top_words(model, vocab, n_words):\n",
    "        top_words = []\n",
    "        for topic_idx, topic in enumerate(model.components_):       \n",
    "            next = topic.argsort()[:-n_words - 1:-1]\n",
    "            top_words.append(list(map(lambda x: vocab[x], next)))\n",
    "        return top_words\n",
    "    \n",
    "    def tweet_sentiment(tweet):\n",
    "        b = tb(tweet)\n",
    "        return np.sum(np.array(list(map(lambda x: x.sentiment.polarity, b.sentences))))\n",
    "    \n",
    "    return{'tweets': tweet_text,\n",
    "           'topicvecs': lda.components_.T,\n",
    "           'topwords': get_top_words(lda, vocab, n_words),\n",
    "           'sentiments': np.array(list(map(tweet_sentiment, tweet_text))),\n",
    "           'model': lda}"
   ]
  },
  {
   "cell_type": "code",
   "execution_count": 122,
   "metadata": {},
   "outputs": [
    {
     "data": {
      "image/png": "iVBORw0KGgoAAAANSUhEUgAAAagAAAEYCAYAAAAJeGK1AAAABHNCSVQICAgIfAhkiAAAAAlwSFlz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\ncE4kRxOFcjQAAAAASUVORK5CYII=\n",
      "text/plain": [
       "<matplotlib.figure.Figure at 0x7fec532340b8>"
      ]
     },
     "metadata": {},
     "output_type": "display_data"
    },
    {
     "data": {
      "image/png": "iVBORw0KGgoAAAANSUhEUgAAAagAAAEYCAYAAAAJeGK1AAAABHNCSVQICAgIfAhkiAAAAAlwSFlz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\n",
      "text/plain": [
       "<matplotlib.figure.Figure at 0x7fec52b51b38>"
      ]
     },
     "metadata": {},
     "output_type": "display_data"
    }
   ],
   "source": [
    "hyp.plot(tweet_topics.components_.T, '.', group=sentiments,palette='RdBu_r', model='SpectralEmbedding');\n",
    "\n",
    "trump_topics = twitter_magic(trump_text, n_tweets = 50)\n",
    "potus_topics = twitter_magic(potus_text, n_tweets = 50)\n",
    "\n",
    "hyp.plot([trump_topics['topicvecs'], potus_topics['topicvecs']],\n",
    "         '.', model='SpectralEmbedding', legend=['realDonaldTrump', 'POTUS']);"
   ]
  },
  {
   "cell_type": "code",
   "execution_count": null,
   "metadata": {
    "collapsed": true
   },
   "outputs": [],
   "source": []
  },
  {
   "cell_type": "code",
   "execution_count": null,
   "metadata": {
    "collapsed": true
   },
   "outputs": [],
   "source": []
  }
 ],
 "metadata": {
  "kernelspec": {
   "display_name": "Python 3",
   "language": "python",
   "name": "python3"
  },
  "language_info": {
   "codemirror_mode": {
    "name": "ipython",
    "version": 3
   },
   "file_extension": ".py",
   "mimetype": "text/x-python",
   "name": "python",
   "nbconvert_exporter": "python",
   "pygments_lexer": "ipython3",
   "version": "3.6.1"
  }
 },
 "nbformat": 4,
 "nbformat_minor": 2
}
