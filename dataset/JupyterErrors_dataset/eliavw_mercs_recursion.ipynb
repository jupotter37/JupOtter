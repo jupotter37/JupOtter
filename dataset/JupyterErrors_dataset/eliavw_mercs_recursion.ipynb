{
 "cells": [
  {
   "cell_type": "markdown",
   "metadata": {},
   "source": [
    "# Random Walks \n",
    "\n",
    "Once again, a notebook dedicated to the ultimate Random Walks implementation."
   ]
  },
  {
   "cell_type": "markdown",
   "metadata": {},
   "source": [
    "# Preliminaries"
   ]
  },
  {
   "cell_type": "code",
   "execution_count": 1,
   "metadata": {},
   "outputs": [],
   "source": [
    "import numpy as np\n",
    "import networkx as nx"
   ]
  },
  {
   "cell_type": "code",
   "execution_count": 2,
   "metadata": {},
   "outputs": [],
   "source": [
    "from mercs import Mercs\n",
    "from mercs.tests.setup import default_dataset\n",
    "from mercs.composition import CompositeModel\n",
    "from mercs.graph import model_to_graph\n",
    "from mercs.graph import compose_all, add_merge_nodes\n",
    "from mercs.algo.inference import dask_inference_algorithm"
   ]
  },
  {
   "cell_type": "markdown",
   "metadata": {},
   "source": [
    "# Train"
   ]
  },
  {
   "cell_type": "code",
   "execution_count": 3,
   "metadata": {},
   "outputs": [],
   "source": [
    "m_small = Mercs(\n",
    "    random_state=100,\n",
    "    prediction_algorithm=\"it\",\n",
    "    clf_criterion=\"entropy\",\n",
    "    rgr_criterion=\"mae\",\n",
    "    selection_algorithm=\"random\",\n",
    "    nb_iterations=5,\n",
    "    fraction_missing=0.5,\n",
    "    max_depth=4,\n",
    "    regression_max_depth=4,\n",
    ")\n",
    "\n",
    "X_train, X_test = default_dataset()\n",
    "\n",
    "m_small.fit(X_train, nominal_attributes={7})"
   ]
  },
  {
   "cell_type": "markdown",
   "metadata": {},
   "source": [
    "## IT"
   ]
  },
  {
   "cell_type": "code",
   "execution_count": 4,
   "metadata": {},
   "outputs": [
    {
     "data": {
      "image/svg+xml": [
       "<svg height=\"824pt\" viewBox=\"0.00 0.00 419.49 824.48\" width=\"419pt\" xmlns=\"http://www.w3.org/2000/svg\" xmlns:xlink=\"http://www.w3.org/1999/xlink\">\n",
       "<g class=\"graph\" id=\"graph0\" transform=\"scale(1 1) rotate(0) translate(4 820.476)\">\n",
       "<title>G</title>\n",
       "<polygon fill=\"white\" points=\"-4,4 -4,-820.476 415.494,-820.476 415.494,4 -4,4\" stroke=\"none\"/>\n",
       "<!-- d&#45;00 -->\n",
       "<g class=\"node\" id=\"node1\"><title>d-00</title>\n",
       "<ellipse cx=\"224\" cy=\"-26.6476\" fill=\"none\" rx=\"26.7961\" ry=\"26.7961\" stroke=\"black\"/>\n",
       "<text font-family=\"Times,serif\" font-size=\"14.00\" text-anchor=\"middle\" x=\"224\" y=\"-22.9476\">d-00</text>\n",
       "</g>\n",
       "<!-- f&#45;20 -->\n",
       "<g class=\"node\" id=\"node4\"><title>f-20</title>\n",
       "<polygon fill=\"none\" points=\"176,-161.295 104,-161.295 104,-89.2953 176,-89.2953 176,-161.295\" stroke=\"black\"/>\n",
       "<text font-family=\"Times,serif\" font-size=\"14.00\" text-anchor=\"middle\" x=\"140\" y=\"-121.595\">f-20</text>\n",
       "</g>\n",
       "<!-- d&#45;00&#45;&gt;f&#45;20 -->\n",
       "<g class=\"edge\" id=\"edge1\"><title>d-00-&gt;f-20</title>\n",
       "<path d=\"M207.001,-47.2057C198.428,-57.0695 187.67,-69.4472 177.3,-81.3796\" fill=\"none\" stroke=\"black\"/>\n",
       "<polygon fill=\"black\" points=\"174.486,-79.2819 170.567,-89.1256 179.769,-83.8739 174.486,-79.2819\" stroke=\"black\"/>\n",
       "</g>\n",
       "<!-- f&#45;36 -->\n",
       "<g class=\"node\" id=\"node7\"><title>f-36</title>\n",
       "<polygon fill=\"none\" points=\"304,-161.295 232,-161.295 232,-89.2953 304,-89.2953 304,-161.295\" stroke=\"black\"/>\n",
       "<text font-family=\"Times,serif\" font-size=\"14.00\" text-anchor=\"middle\" x=\"268\" y=\"-121.595\">f-36</text>\n",
       "</g>\n",
       "<!-- d&#45;00&#45;&gt;f&#45;36 -->\n",
       "<g class=\"edge\" id=\"edge2\"><title>d-00-&gt;f-36</title>\n",
       "<path d=\"M234.876,-51.5381C238.772,-60.0949 243.299,-70.0389 247.732,-79.7755\" fill=\"none\" stroke=\"black\"/>\n",
       "<polygon fill=\"black\" points=\"244.6,-81.3442 251.929,-88.9951 250.971,-78.4437 244.6,-81.3442\" stroke=\"black\"/>\n",
       "</g>\n",
       "<!-- d&#45;02 -->\n",
       "<g class=\"node\" id=\"node2\"><title>d-02</title>\n",
       "<ellipse cx=\"38\" cy=\"-26.6476\" fill=\"none\" rx=\"26.7961\" ry=\"26.7961\" stroke=\"black\"/>\n",
       "<text font-family=\"Times,serif\" font-size=\"14.00\" text-anchor=\"middle\" x=\"38\" y=\"-22.9476\">d-02</text>\n",
       "</g>\n",
       "<!-- d&#45;02&#45;&gt;f&#45;20 -->\n",
       "<g class=\"edge\" id=\"edge3\"><title>d-02-&gt;f-20</title>\n",
       "<path d=\"M57.1854,-45.8263C68.2872,-56.3455 82.7377,-70.0377 96.4532,-83.0335\" fill=\"none\" stroke=\"black\"/>\n",
       "<polygon fill=\"black\" points=\"94.305,-85.8198 103.971,-90.1572 99.1197,-80.7385 94.305,-85.8198\" stroke=\"black\"/>\n",
       "</g>\n",
       "<!-- f&#45;07 -->\n",
       "<g class=\"node\" id=\"node10\"><title>f-07</title>\n",
       "<polygon fill=\"none\" points=\"176,-358.591 104,-358.591 104,-286.591 176,-286.591 176,-358.591\" stroke=\"black\"/>\n",
       "<text font-family=\"Times,serif\" font-size=\"14.00\" text-anchor=\"middle\" x=\"140\" y=\"-318.891\">f-07</text>\n",
       "</g>\n",
       "<!-- d&#45;02&#45;&gt;f&#45;07 -->\n",
       "<g class=\"edge\" id=\"edge4\"><title>d-02-&gt;f-07</title>\n",
       "<path d=\"M43.8816,-52.8902C53.9848,-94.7478 76.2528,-180.826 104,-250.591 107.525,-259.454 111.767,-268.7 116.082,-277.477\" fill=\"none\" stroke=\"black\"/>\n",
       "<polygon fill=\"black\" points=\"112.959,-279.057 120.578,-286.418 119.212,-275.912 112.959,-279.057\" stroke=\"black\"/>\n",
       "</g>\n",
       "<!-- f&#45;18 -->\n",
       "<g class=\"node\" id=\"node14\"><title>f-18</title>\n",
       "<polygon fill=\"none\" points=\"176,-555.886 104,-555.886 104,-483.886 176,-483.886 176,-555.886\" stroke=\"black\"/>\n",
       "<text font-family=\"Times,serif\" font-size=\"14.00\" text-anchor=\"middle\" x=\"140\" y=\"-516.186\">f-18</text>\n",
       "</g>\n",
       "<!-- d&#45;02&#45;&gt;f&#45;18 -->\n",
       "<g class=\"edge\" id=\"edge5\"><title>d-02-&gt;f-18</title>\n",
       "<path d=\"M30.034,-52.3193C18.8911,-89.0797 0,-160.596 0,-222.943 0,-222.943 0,-222.943 0,-323.591 0,-390.608 55.1303,-450.42 96.1996,-485.679\" fill=\"none\" stroke=\"black\"/>\n",
       "<polygon fill=\"black\" points=\"94.0381,-488.434 103.947,-492.186 98.5401,-483.074 94.0381,-488.434\" stroke=\"black\"/>\n",
       "</g>\n",
       "<!-- d&#45;03 -->\n",
       "<g class=\"node\" id=\"node3\"><title>d-03</title>\n",
       "<ellipse cx=\"140\" cy=\"-223.943\" fill=\"none\" rx=\"26.7961\" ry=\"26.7961\" stroke=\"black\"/>\n",
       "<text font-family=\"Times,serif\" font-size=\"14.00\" text-anchor=\"middle\" x=\"140\" y=\"-220.243\">d-03</text>\n",
       "</g>\n",
       "<!-- d&#45;03&#45;&gt;f&#45;07 -->\n",
       "<g class=\"edge\" id=\"edge6\"><title>d-03-&gt;f-07</title>\n",
       "<path d=\"M140,-250.843C140,-258.72 140,-267.618 140,-276.379\" fill=\"none\" stroke=\"black\"/>\n",
       "<polygon fill=\"black\" points=\"136.5,-276.532 140,-286.532 143.5,-276.532 136.5,-276.532\" stroke=\"black\"/>\n",
       "</g>\n",
       "<!-- f&#45;24 -->\n",
       "<g class=\"node\" id=\"node12\"><title>f-24</title>\n",
       "<polygon fill=\"none\" points=\"266,-358.591 194,-358.591 194,-286.591 266,-286.591 266,-358.591\" stroke=\"black\"/>\n",
       "<text font-family=\"Times,serif\" font-size=\"14.00\" text-anchor=\"middle\" x=\"230\" y=\"-318.891\">f-24</text>\n",
       "</g>\n",
       "<!-- d&#45;03&#45;&gt;f&#45;24 -->\n",
       "<g class=\"edge\" id=\"edge7\"><title>d-03-&gt;f-24</title>\n",
       "<path d=\"M157.781,-244.037C167.114,-254.06 178.949,-266.769 190.324,-278.984\" fill=\"none\" stroke=\"black\"/>\n",
       "<polygon fill=\"black\" points=\"187.945,-281.565 197.321,-286.498 193.067,-276.794 187.945,-281.565\" stroke=\"black\"/>\n",
       "</g>\n",
       "<!-- f&#45;20&#45;&gt;d&#45;03 -->\n",
       "<g class=\"edge\" id=\"edge8\"><title>f-20-&gt;d-03</title>\n",
       "<path d=\"M140,-161.461C140,-169.734 140,-178.564 140,-186.876\" fill=\"none\" stroke=\"black\"/>\n",
       "<polygon fill=\"black\" points=\"136.5,-187.046 140,-197.046 143.5,-187.046 136.5,-187.046\" stroke=\"black\"/>\n",
       "</g>\n",
       "<!-- d&#45;01 -->\n",
       "<g class=\"node\" id=\"node5\"><title>d-01</title>\n",
       "<ellipse cx=\"153\" cy=\"-26.6476\" fill=\"none\" rx=\"26.7961\" ry=\"26.7961\" stroke=\"black\"/>\n",
       "<text font-family=\"Times,serif\" font-size=\"14.00\" text-anchor=\"middle\" x=\"153\" y=\"-22.9476\">d-01</text>\n",
       "</g>\n",
       "<!-- d&#45;01&#45;&gt;f&#45;36 -->\n",
       "<g class=\"edge\" id=\"edge9\"><title>d-01-&gt;f-36</title>\n",
       "<path d=\"M173.031,-44.4824C187.094,-56.3011 206.454,-72.5707 224.026,-87.3388\" fill=\"none\" stroke=\"black\"/>\n",
       "<polygon fill=\"black\" points=\"222.041,-90.2427 231.949,-93.9971 226.545,-84.8838 222.041,-90.2427\" stroke=\"black\"/>\n",
       "</g>\n",
       "<!-- d&#45;01&#45;&gt;f&#45;24 -->\n",
       "<g class=\"edge\" id=\"edge10\"><title>d-01-&gt;f-24</title>\n",
       "<path d=\"M166.469,-49.787C172.913,-61.2298 180.242,-75.6296 185,-89.2953 206.96,-152.364 219.177,-229.01 225.169,-276.555\" fill=\"none\" stroke=\"black\"/>\n",
       "<polygon fill=\"black\" points=\"221.701,-277.032 226.389,-286.534 228.649,-276.183 221.701,-277.032\" stroke=\"black\"/>\n",
       "</g>\n",
       "<!-- d&#45;01&#45;&gt;f&#45;18 -->\n",
       "<g class=\"edge\" id=\"edge11\"><title>d-01-&gt;f-18</title>\n",
       "<path d=\"M132.422,-43.7121C119.486,-55.0101 103.658,-71.283 95,-89.2953 69.008,-143.369 76,-162.947 76,-222.943 76,-222.943 76,-222.943 76,-323.591 76,-380.217 84.8267,-394.604 104,-447.886 107.162,-456.672 111.162,-465.765 115.338,-474.392\" fill=\"none\" stroke=\"black\"/>\n",
       "<polygon fill=\"black\" points=\"112.305,-476.154 119.907,-483.534 118.567,-473.024 112.305,-476.154\" stroke=\"black\"/>\n",
       "</g>\n",
       "<!-- d&#45;06 -->\n",
       "<g class=\"node\" id=\"node6\"><title>d-06</title>\n",
       "<ellipse cx=\"263\" cy=\"-223.943\" fill=\"none\" rx=\"26.7961\" ry=\"26.7961\" stroke=\"black\"/>\n",
       "<text font-family=\"Times,serif\" font-size=\"14.00\" text-anchor=\"middle\" x=\"263\" y=\"-220.243\">d-06</text>\n",
       "</g>\n",
       "<!-- d&#45;06&#45;&gt;f&#45;07 -->\n",
       "<g class=\"edge\" id=\"edge12\"><title>d-06-&gt;f-07</title>\n",
       "<path d=\"M242.413,-241.12C226.544,-253.588 204.025,-271.283 184.143,-286.905\" fill=\"none\" stroke=\"black\"/>\n",
       "<polygon fill=\"black\" points=\"181.799,-284.295 176.099,-293.226 186.124,-289.799 181.799,-284.295\" stroke=\"black\"/>\n",
       "</g>\n",
       "<!-- d&#45;06&#45;&gt;f&#45;24 -->\n",
       "<g class=\"edge\" id=\"edge13\"><title>d-06-&gt;f-24</title>\n",
       "<path d=\"M254.673,-249.331C251.838,-257.632 248.574,-267.193 245.367,-276.586\" fill=\"none\" stroke=\"black\"/>\n",
       "<polygon fill=\"black\" points=\"241.985,-275.66 242.066,-286.254 248.609,-277.921 241.985,-275.66\" stroke=\"black\"/>\n",
       "</g>\n",
       "<!-- d&#45;06&#45;&gt;f&#45;18 -->\n",
       "<g class=\"edge\" id=\"edge14\"><title>d-06-&gt;f-18</title>\n",
       "<path d=\"M270.439,-249.752C282.102,-294.034 299.273,-387.677 257,-447.886 239.506,-472.802 210.214,-490.563 185.317,-502.089\" fill=\"none\" stroke=\"black\"/>\n",
       "<polygon fill=\"black\" points=\"183.751,-498.955 176.024,-506.203 186.584,-505.355 183.751,-498.955\" stroke=\"black\"/>\n",
       "</g>\n",
       "<!-- f&#45;36&#45;&gt;d&#45;06 -->\n",
       "<g class=\"edge\" id=\"edge15\"><title>f-36-&gt;d-06</title>\n",
       "<path d=\"M266.181,-161.461C265.753,-169.734 265.296,-178.564 264.866,-186.876\" fill=\"none\" stroke=\"black\"/>\n",
       "<polygon fill=\"black\" points=\"261.361,-186.879 264.34,-197.046 268.352,-187.24 261.361,-186.879\" stroke=\"black\"/>\n",
       "</g>\n",
       "<!-- I(d&#45;04) -->\n",
       "<g class=\"node\" id=\"node8\"><title>I(d-04)</title>\n",
       "<polygon fill=\"none\" points=\"340,-3.64764 411.487,-38.1476 268.513,-38.1476 340,-3.64764\" stroke=\"black\"/>\n",
       "<text font-family=\"Times,serif\" font-size=\"14.00\" text-anchor=\"middle\" x=\"340\" y=\"-22.9476\">I(d-04)</text>\n",
       "</g>\n",
       "<!-- I(d&#45;04)&#45;&gt;f&#45;36 -->\n",
       "<g class=\"edge\" id=\"edge16\"><title>I(d-04)-&gt;f-36</title>\n",
       "<path d=\"M332.02,-38.3599C324.287,-48.7392 312.042,-65.1768 300.322,-80.909\" fill=\"none\" stroke=\"black\"/>\n",
       "<polygon fill=\"black\" points=\"297.435,-78.9255 294.267,-89.0358 303.048,-83.1074 297.435,-78.9255\" stroke=\"black\"/>\n",
       "</g>\n",
       "<!-- d&#45;05 -->\n",
       "<g class=\"node\" id=\"node9\"><title>d-05</title>\n",
       "<ellipse cx=\"140\" cy=\"-421.238\" fill=\"none\" rx=\"26.7961\" ry=\"26.7961\" stroke=\"black\"/>\n",
       "<text font-family=\"Times,serif\" font-size=\"14.00\" text-anchor=\"middle\" x=\"140\" y=\"-417.538\">d-05</text>\n",
       "</g>\n",
       "<!-- d&#45;05&#45;&gt;f&#45;18 -->\n",
       "<g class=\"edge\" id=\"edge17\"><title>d-05-&gt;f-18</title>\n",
       "<path d=\"M140,-448.138C140,-456.015 140,-464.913 140,-473.675\" fill=\"none\" stroke=\"black\"/>\n",
       "<polygon fill=\"black\" points=\"136.5,-473.827 140,-483.827 143.5,-473.827 136.5,-473.827\" stroke=\"black\"/>\n",
       "</g>\n",
       "<!-- f&#45;07&#45;&gt;d&#45;05 -->\n",
       "<g class=\"edge\" id=\"edge18\"><title>f-07-&gt;d-05</title>\n",
       "<path d=\"M140,-358.756C140,-367.029 140,-375.859 140,-384.171\" fill=\"none\" stroke=\"black\"/>\n",
       "<polygon fill=\"black\" points=\"136.5,-384.341 140,-394.341 143.5,-384.341 136.5,-384.341\" stroke=\"black\"/>\n",
       "</g>\n",
       "<!-- d&#45;04 -->\n",
       "<g class=\"node\" id=\"node11\"><title>d-04</title>\n",
       "<ellipse cx=\"221\" cy=\"-421.238\" fill=\"none\" rx=\"26.7961\" ry=\"26.7961\" stroke=\"black\"/>\n",
       "<text font-family=\"Times,serif\" font-size=\"14.00\" text-anchor=\"middle\" x=\"221\" y=\"-417.538\">d-04</text>\n",
       "</g>\n",
       "<!-- d&#45;04&#45;&gt;f&#45;18 -->\n",
       "<g class=\"edge\" id=\"edge19\"><title>d-04-&gt;f-18</title>\n",
       "<path d=\"M204.217,-442.264C196.084,-451.967 185.982,-464.021 176.216,-475.674\" fill=\"none\" stroke=\"black\"/>\n",
       "<polygon fill=\"black\" points=\"173.277,-473.731 169.536,-483.643 178.642,-478.227 173.277,-473.731\" stroke=\"black\"/>\n",
       "</g>\n",
       "<!-- f&#45;24&#45;&gt;d&#45;04 -->\n",
       "<g class=\"edge\" id=\"edge20\"><title>f-24-&gt;d-04</title>\n",
       "<path d=\"M226.725,-358.756C225.939,-367.198 225.099,-376.219 224.311,-384.679\" fill=\"none\" stroke=\"black\"/>\n",
       "<polygon fill=\"black\" points=\"220.826,-384.36 223.384,-394.642 227.796,-385.009 220.826,-384.36\" stroke=\"black\"/>\n",
       "</g>\n",
       "<!-- d&#45;07 -->\n",
       "<g class=\"node\" id=\"node13\"><title>d-07</title>\n",
       "<ellipse cx=\"140\" cy=\"-789.829\" fill=\"none\" rx=\"26.7961\" ry=\"26.7961\" stroke=\"black\"/>\n",
       "<text font-family=\"Times,serif\" font-size=\"14.00\" text-anchor=\"middle\" x=\"140\" y=\"-786.129\">d-07</text>\n",
       "</g>\n",
       "<!-- p&#45;07 -->\n",
       "<g class=\"node\" id=\"node15\"><title>p-07</title>\n",
       "<ellipse cx=\"140\" cy=\"-618.533\" fill=\"none\" rx=\"26.7961\" ry=\"26.7961\" stroke=\"black\"/>\n",
       "<text font-family=\"Times,serif\" font-size=\"14.00\" text-anchor=\"middle\" x=\"140\" y=\"-614.833\">p-07</text>\n",
       "</g>\n",
       "<!-- f&#45;18&#45;&gt;p&#45;07 -->\n",
       "<g class=\"edge\" id=\"edge21\"><title>f-18-&gt;p-07</title>\n",
       "<path d=\"M140,-556.051C140,-564.324 140,-573.154 140,-581.466\" fill=\"none\" stroke=\"black\"/>\n",
       "<polygon fill=\"black\" points=\"136.5,-581.637 140,-591.637 143.5,-581.637 136.5,-581.637\" stroke=\"black\"/>\n",
       "</g>\n",
       "<!-- v&#45;07 -->\n",
       "<g class=\"node\" id=\"node16\"><title>v-07</title>\n",
       "<polygon fill=\"none\" points=\"140,-727.181 86.9087,-692.681 193.091,-692.681 140,-727.181\" stroke=\"black\"/>\n",
       "<text font-family=\"Times,serif\" font-size=\"14.00\" text-anchor=\"middle\" x=\"140\" y=\"-700.481\">v-07</text>\n",
       "</g>\n",
       "<!-- p&#45;07&#45;&gt;v&#45;07 -->\n",
       "<g class=\"edge\" id=\"edge22\"><title>p-07-&gt;v-07</title>\n",
       "<path d=\"M140,-645.542C140,-657.339 140,-671.106 140,-682.227\" fill=\"none\" stroke=\"black\"/>\n",
       "<polygon fill=\"black\" points=\"136.5,-682.294 140,-692.294 143.5,-682.294 136.5,-682.294\" stroke=\"black\"/>\n",
       "</g>\n",
       "<!-- v&#45;07&#45;&gt;d&#45;07 -->\n",
       "<g class=\"edge\" id=\"edge23\"><title>v-07-&gt;d-07</title>\n",
       "<path d=\"M140,-727.597C140,-735.373 140,-744.298 140,-752.886\" fill=\"none\" stroke=\"black\"/>\n",
       "<polygon fill=\"black\" points=\"136.5,-753.094 140,-763.094 143.5,-753.094 136.5,-753.094\" stroke=\"black\"/>\n",
       "</g>\n",
       "</g>\n",
       "</svg>"
      ],
      "text/plain": [
       "<IPython.core.display.SVG object>"
      ]
     },
     "metadata": {},
     "output_type": "display_data"
    }
   ],
   "source": [
    "q_code = np.array([0, 0, 0, -1, -1, -1, -1, 1])\n",
    "\n",
    "y_pred = m_small.predict(X_test, q_code=q_code, prediction_algorithm=\"it-new\")\n",
    "m_small.show_q_diagram()"
   ]
  },
  {
   "cell_type": "code",
   "execution_count": 5,
   "metadata": {},
   "outputs": [
    {
     "data": {
      "text/plain": [
       "array([0., 0., 0., 0., 0., 0., 1., 0., 1., 0., 0., 1., 0., 1., 0., 0., 1.,\n",
       "       0., 1., 0., 0., 1., 0., 0., 0., 0., 0., 0., 0., 1., 0., 1., 0., 0.,\n",
       "       0., 0., 0., 0., 0., 0., 0., 0., 0., 0., 0., 1., 0., 1., 0., 0., 1.,\n",
       "       0., 0., 0., 1., 0., 0., 0., 0., 1., 0., 0., 0., 1., 0., 0., 0., 1.,\n",
       "       0., 0., 0., 0., 0., 0., 0., 0., 1., 1., 0., 0., 0., 1., 0., 0., 0.,\n",
       "       0., 1., 0., 0., 0., 0., 0., 0., 0., 1., 0., 0., 0., 0., 0., 1., 1.,\n",
       "       0., 1., 0., 1., 1., 0., 0., 0., 1., 1., 0., 0., 0., 0., 0., 0., 0.,\n",
       "       0., 0., 0., 1., 0., 0., 0., 0., 1., 0., 1., 0., 0., 1., 0., 1., 0.,\n",
       "       0., 1., 0., 1., 0., 0., 0., 0., 1., 0., 0., 0., 0., 0., 0., 1., 0.,\n",
       "       0., 1., 0., 1., 0., 0., 0., 0., 0., 0., 0., 1., 0., 0., 0., 1., 0.,\n",
       "       0., 0., 0., 0., 0., 0., 0., 0., 0., 0., 0., 0., 0., 0., 0., 1., 1.,\n",
       "       0., 0., 0., 0., 0., 0., 0., 0., 0., 1., 0., 0., 1.])"
      ]
     },
     "execution_count": 5,
     "metadata": {},
     "output_type": "execute_result"
    }
   ],
   "source": [
    "y_pred"
   ]
  },
  {
   "cell_type": "markdown",
   "metadata": {},
   "source": [
    "## RW"
   ]
  },
  {
   "cell_type": "code",
   "execution_count": 15,
   "metadata": {},
   "outputs": [
    {
     "name": "stdout",
     "output_type": "stream",
     "text": [
      "['d-01', 'd-02', 'd-03', 'd-07', 'd-06', 'f-06']\n",
      "{1, 2, 3, 7} {6}\n",
      "['d-00', 'd-04', 'd-06', 'd-07', 'f-10', 'p-07', 'v-07']\n",
      "{0, 4, 6} {7}\n",
      "['d-00', 'd-01', 'd-04', 'd-06', 'd-07', 'd-03', 'f-33']\n",
      "{0, 1, 4, 6, 7} {3}\n",
      "['d-00', 'd-01', 'd-03', 'd-05', 'd-06', 'd-07', 'f-29', 'p-07', 'v-07']\n",
      "{0, 1, 3, 5, 6} {7}\n"
     ]
    },
    {
     "data": {
      "image/svg+xml": [
       "<svg height=\"430pt\" viewBox=\"0.00 0.00 170.00 429.89\" width=\"170pt\" xmlns=\"http://www.w3.org/2000/svg\" xmlns:xlink=\"http://www.w3.org/1999/xlink\">\n",
       "<g class=\"graph\" id=\"graph0\" transform=\"scale(1 1) rotate(0) translate(4 425.886)\">\n",
       "<title>G</title>\n",
       "<polygon fill=\"white\" points=\"-4,4 -4,-425.886 166,-425.886 166,4 -4,4\" stroke=\"none\"/>\n",
       "<!-- d&#45;00 -->\n",
       "<g class=\"node\" id=\"node1\"><title>d-00</title>\n",
       "<ellipse cx=\"116\" cy=\"-26.6476\" fill=\"none\" rx=\"26.7961\" ry=\"26.7961\" stroke=\"black\"/>\n",
       "<text font-family=\"Times,serif\" font-size=\"14.00\" text-anchor=\"middle\" x=\"116\" y=\"-22.9476\">d-00</text>\n",
       "</g>\n",
       "<!-- c&#45;00 -->\n",
       "<g class=\"node\" id=\"node4\"><title>c-00</title>\n",
       "<polygon fill=\"none\" points=\"72,-161.295 0,-161.295 0,-89.2953 72,-89.2953 72,-161.295\" stroke=\"black\"/>\n",
       "<text font-family=\"Times,serif\" font-size=\"14.00\" text-anchor=\"middle\" x=\"36\" y=\"-121.595\">c-00</text>\n",
       "</g>\n",
       "<!-- d&#45;00&#45;&gt;c&#45;00 -->\n",
       "<g class=\"edge\" id=\"edge1\"><title>d-00-&gt;c-00</title>\n",
       "<path d=\"M99.4239,-47.6731C91.3919,-57.3766 81.4143,-69.4305 71.7686,-81.0834\" fill=\"none\" stroke=\"black\"/>\n",
       "<polygon fill=\"black\" points=\"68.8521,-79.1178 65.1719,-89.0529 74.2445,-83.5813 68.8521,-79.1178\" stroke=\"black\"/>\n",
       "</g>\n",
       "<!-- c&#45;01 -->\n",
       "<g class=\"node\" id=\"node7\"><title>c-01</title>\n",
       "<polygon fill=\"none\" points=\"162,-161.295 90,-161.295 90,-89.2953 162,-89.2953 162,-161.295\" stroke=\"black\"/>\n",
       "<text font-family=\"Times,serif\" font-size=\"14.00\" text-anchor=\"middle\" x=\"126\" y=\"-121.595\">c-01</text>\n",
       "</g>\n",
       "<!-- d&#45;00&#45;&gt;c&#45;01 -->\n",
       "<g class=\"edge\" id=\"edge2\"><title>d-00-&gt;c-01</title>\n",
       "<path d=\"M118.654,-53.2937C119.469,-61.1718 120.391,-70.0898 121.301,-78.8791\" fill=\"none\" stroke=\"black\"/>\n",
       "<polygon fill=\"black\" points=\"117.844,-79.4812 122.355,-89.0679 124.807,-78.7607 117.844,-79.4812\" stroke=\"black\"/>\n",
       "</g>\n",
       "<!-- d&#45;02 -->\n",
       "<g class=\"node\" id=\"node2\"><title>d-02</title>\n",
       "<ellipse cx=\"36\" cy=\"-26.6476\" fill=\"none\" rx=\"26.7961\" ry=\"26.7961\" stroke=\"black\"/>\n",
       "<text font-family=\"Times,serif\" font-size=\"14.00\" text-anchor=\"middle\" x=\"36\" y=\"-22.9476\">d-02</text>\n",
       "</g>\n",
       "<!-- d&#45;02&#45;&gt;c&#45;00 -->\n",
       "<g class=\"edge\" id=\"edge3\"><title>d-02-&gt;c-00</title>\n",
       "<path d=\"M36,-53.5474C36,-61.4244 36,-70.3227 36,-79.084\" fill=\"none\" stroke=\"black\"/>\n",
       "<polygon fill=\"black\" points=\"32.5001,-79.2367 36,-89.2367 39.5001,-79.2367 32.5001,-79.2367\" stroke=\"black\"/>\n",
       "</g>\n",
       "<!-- d&#45;07 -->\n",
       "<g class=\"node\" id=\"node3\"><title>d-07</title>\n",
       "<ellipse cx=\"81\" cy=\"-395.238\" fill=\"none\" rx=\"26.7961\" ry=\"26.7961\" stroke=\"black\"/>\n",
       "<text font-family=\"Times,serif\" font-size=\"14.00\" text-anchor=\"middle\" x=\"81\" y=\"-391.538\">d-07</text>\n",
       "</g>\n",
       "<!-- p&#45;07 -->\n",
       "<g class=\"node\" id=\"node5\"><title>p-07</title>\n",
       "<ellipse cx=\"81\" cy=\"-223.943\" fill=\"none\" rx=\"26.7961\" ry=\"26.7961\" stroke=\"black\"/>\n",
       "<text font-family=\"Times,serif\" font-size=\"14.00\" text-anchor=\"middle\" x=\"81\" y=\"-220.243\">p-07</text>\n",
       "</g>\n",
       "<!-- c&#45;00&#45;&gt;p&#45;07 -->\n",
       "<g class=\"edge\" id=\"edge4\"><title>c-00-&gt;p-07</title>\n",
       "<path d=\"M52.3733,-161.461C56.7377,-170.834 61.435,-180.923 65.7372,-190.163\" fill=\"none\" stroke=\"black\"/>\n",
       "<polygon fill=\"black\" points=\"62.6531,-191.831 70.0471,-199.419 68.999,-188.876 62.6531,-191.831\" stroke=\"black\"/>\n",
       "</g>\n",
       "<!-- v&#45;07 -->\n",
       "<g class=\"node\" id=\"node6\"><title>v-07</title>\n",
       "<polygon fill=\"none\" points=\"81,-332.591 27.9087,-298.091 134.091,-298.091 81,-332.591\" stroke=\"black\"/>\n",
       "<text font-family=\"Times,serif\" font-size=\"14.00\" text-anchor=\"middle\" x=\"81\" y=\"-305.891\">v-07</text>\n",
       "</g>\n",
       "<!-- p&#45;07&#45;&gt;v&#45;07 -->\n",
       "<g class=\"edge\" id=\"edge5\"><title>p-07-&gt;v-07</title>\n",
       "<path d=\"M81,-250.951C81,-262.749 81,-276.516 81,-287.636\" fill=\"none\" stroke=\"black\"/>\n",
       "<polygon fill=\"black\" points=\"77.5001,-287.703 81,-297.703 84.5001,-287.703 77.5001,-287.703\" stroke=\"black\"/>\n",
       "</g>\n",
       "<!-- v&#45;07&#45;&gt;d&#45;07 -->\n",
       "<g class=\"edge\" id=\"edge6\"><title>v-07-&gt;d-07</title>\n",
       "<path d=\"M81,-333.007C81,-340.782 81,-349.707 81,-358.295\" fill=\"none\" stroke=\"black\"/>\n",
       "<polygon fill=\"black\" points=\"77.5001,-358.503 81,-368.503 84.5001,-358.503 77.5001,-358.503\" stroke=\"black\"/>\n",
       "</g>\n",
       "<!-- c&#45;01&#45;&gt;p&#45;07 -->\n",
       "<g class=\"edge\" id=\"edge7\"><title>c-01-&gt;p-07</title>\n",
       "<path d=\"M109.627,-161.461C105.262,-170.834 100.565,-180.923 96.2628,-190.163\" fill=\"none\" stroke=\"black\"/>\n",
       "<polygon fill=\"black\" points=\"93.001,-188.876 91.9529,-199.419 99.3469,-191.831 93.001,-188.876\" stroke=\"black\"/>\n",
       "</g>\n",
       "</g>\n",
       "</svg>"
      ],
      "text/plain": [
       "<IPython.core.display.SVG object>"
      ]
     },
     "metadata": {},
     "output_type": "display_data"
    }
   ],
   "source": [
    "q_code = np.array([0, -1, 0, -1, -1, -1, -1, 1])\n",
    "y_pred = m_small.predict(X_test, q_code=q_code, prediction_algorithm=\"rw-new\", max_steps=2, nb_walks=2, random_state=601)\n",
    "m_small.show_q_diagram()"
   ]
  },
  {
   "cell_type": "code",
   "execution_count": 18,
   "metadata": {},
   "outputs": [
    {
     "data": {
      "text/plain": [
       "NodeView(('d-02', 'd-06', 'f-06', 'I(d-01)', 'I(d-03)', 'I(d-07)', 'd-00', 'd-07', 'f-10', 'p-07', 'v-07', 'I(d-04)'))"
      ]
     },
     "execution_count": 18,
     "metadata": {},
     "output_type": "execute_result"
    }
   ],
   "source": [
    "m_small.q_diagrams[0].nodes()"
   ]
  },
  {
   "cell_type": "code",
   "execution_count": 20,
   "metadata": {},
   "outputs": [
    {
     "data": {
      "text/plain": [
       "NodeView(('d-00', 'd-03', 'f-33', 'I(d-06)', 'I(d-01)', 'I(d-07)', 'I(d-04)', 'd-07', 'f-29', 'p-07', 'v-07', 'I(d-05)'))"
      ]
     },
     "execution_count": 20,
     "metadata": {},
     "output_type": "execute_result"
    }
   ],
   "source": [
    "m_small.q_diagrams[1].nodes()"
   ]
  },
  {
   "cell_type": "code",
   "execution_count": 23,
   "metadata": {},
   "outputs": [
    {
     "data": {
      "text/plain": [
       "array([[0.25423729, 0.74576271],\n",
       "       [0.25423729, 0.74576271],\n",
       "       [0.25423729, 0.74576271],\n",
       "       [0.        , 1.        ],\n",
       "       [0.        , 1.        ],\n",
       "       [0.25423729, 0.74576271],\n",
       "       [0.        , 1.        ],\n",
       "       [0.        , 1.        ],\n",
       "       [0.25423729, 0.74576271],\n",
       "       [0.25423729, 0.74576271]])"
      ]
     },
     "execution_count": 23,
     "metadata": {},
     "output_type": "execute_result"
    }
   ],
   "source": [
    "m_small.q_models[0].predict_proba.compute()[:10]"
   ]
  },
  {
   "cell_type": "code",
   "execution_count": 24,
   "metadata": {},
   "outputs": [
    {
     "data": {
      "text/plain": [
       "array([[1.        , 0.        ],\n",
       "       [1.        , 0.        ],\n",
       "       [1.        , 0.        ],\n",
       "       [0.36904762, 0.63095238],\n",
       "       [0.36904762, 0.63095238],\n",
       "       [1.        , 0.        ],\n",
       "       [0.36904762, 0.63095238],\n",
       "       [0.36904762, 0.63095238],\n",
       "       [1.        , 0.        ],\n",
       "       [1.        , 0.        ]])"
      ]
     },
     "execution_count": 24,
     "metadata": {},
     "output_type": "execute_result"
    }
   ],
   "source": [
    "m_small.q_models[1].predict_proba.compute()[:10]"
   ]
  },
  {
   "cell_type": "code",
   "execution_count": 25,
   "metadata": {},
   "outputs": [
    {
     "data": {
      "text/plain": [
       "array([[1.25423729, 0.74576271],\n",
       "       [1.25423729, 0.74576271],\n",
       "       [1.25423729, 0.74576271],\n",
       "       [0.36904762, 1.63095238],\n",
       "       [0.36904762, 1.63095238],\n",
       "       [1.25423729, 0.74576271],\n",
       "       [0.36904762, 1.63095238],\n",
       "       [0.36904762, 1.63095238],\n",
       "       [1.25423729, 0.74576271],\n",
       "       [1.25423729, 0.74576271]])"
      ]
     },
     "execution_count": 25,
     "metadata": {},
     "output_type": "execute_result"
    }
   ],
   "source": [
    "m_small.q_model.predict_proba.compute()[:10]"
   ]
  },
  {
   "cell_type": "code",
   "execution_count": 7,
   "metadata": {},
   "outputs": [
    {
     "data": {
      "text/plain": [
       "array([0., 0., 0., 1., 1., 0., 1., 1., 0., 0., 1., 1., 1., 1., 1., 1., 1.,\n",
       "       1., 1., 1., 1., 1., 1., 1., 1., 1., 0., 1., 1., 1., 1., 1., 0., 1.,\n",
       "       1., 1., 0., 1., 1., 0., 0., 0., 0., 1., 1., 1., 1., 1., 1., 0., 1.,\n",
       "       1., 0., 1., 1., 0., 1., 0., 1., 1., 1., 1., 1., 1., 0., 1., 1., 0.,\n",
       "       0., 0., 1., 1., 1., 1., 1., 1., 0., 1., 1., 1., 1., 1., 1., 1., 1.,\n",
       "       0., 1., 0., 0., 1., 0., 1., 1., 0., 1., 1., 0., 1., 0., 0., 1., 1.,\n",
       "       1., 0., 1., 1., 1., 1., 1., 1., 1., 1., 1., 0., 1., 0., 1., 1., 0.,\n",
       "       1., 0., 1., 1., 1., 1., 0., 1., 0., 0., 1., 1., 0., 1., 0., 1., 0.,\n",
       "       0., 1., 1., 1., 1., 1., 1., 1., 1., 0., 1., 0., 0., 0., 0., 1., 1.,\n",
       "       1., 1., 1., 1., 1., 0., 1., 0., 0., 1., 1., 0., 1., 1., 0., 1., 1.,\n",
       "       1., 0., 1., 0., 1., 1., 1., 1., 0., 1., 1., 1., 1., 0., 1., 1., 1.,\n",
       "       1., 1., 1., 0., 1., 1., 1., 1., 0., 1., 1., 1., 1.])"
      ]
     },
     "execution_count": 7,
     "metadata": {},
     "output_type": "execute_result"
    }
   ],
   "source": [
    "y_pred"
   ]
  },
  {
   "cell_type": "markdown",
   "metadata": {},
   "source": [
    "# Recursion"
   ]
  },
  {
   "cell_type": "code",
   "execution_count": 8,
   "metadata": {},
   "outputs": [],
   "source": [
    "cm = CompositeModel(m_small.q_diagram)\n",
    "types = m_small._get_types(m_small.metadata)"
   ]
  },
  {
   "cell_type": "code",
   "execution_count": 9,
   "metadata": {},
   "outputs": [
    {
     "data": {
      "text/plain": [
       "array([0., 0., 0., 1., 1., 0., 1., 1., 0., 0., 1., 1., 1., 1., 1., 1., 1.,\n",
       "       1., 1., 1., 1., 1., 1., 1., 1., 1., 0., 1., 1., 1., 1., 1., 0., 1.,\n",
       "       1., 1., 0., 1., 1., 0., 0., 0., 0., 1., 1., 1., 1., 1., 1., 0., 1.,\n",
       "       1., 0., 1., 1., 0., 1., 0., 1., 1., 1., 1., 1., 1., 0., 1., 1., 0.,\n",
       "       0., 0., 1., 1., 1., 1., 1., 1., 0., 1., 1., 1., 1., 1., 1., 1., 1.,\n",
       "       0., 1., 0., 0., 1., 0., 1., 1., 0., 1., 1., 0., 1., 0., 0., 1., 1.,\n",
       "       1., 0., 1., 1., 1., 1., 1., 1., 1., 1., 1., 0., 1., 0., 1., 1., 0.,\n",
       "       1., 0., 1., 1., 1., 1., 0., 1., 0., 0., 1., 1., 0., 1., 0., 1., 0.,\n",
       "       0., 1., 1., 1., 1., 1., 1., 1., 1., 0., 1., 0., 0., 0., 0., 1., 1.,\n",
       "       1., 1., 1., 1., 1., 0., 1., 0., 0., 1., 1., 0., 1., 1., 0., 1., 1.,\n",
       "       1., 0., 1., 0., 1., 1., 1., 1., 0., 1., 1., 1., 1., 0., 1., 1., 1.,\n",
       "       1., 1., 1., 0., 1., 1., 1., 1., 0., 1., 1., 1., 1.])"
      ]
     },
     "execution_count": 9,
     "metadata": {},
     "output_type": "execute_result"
    }
   ],
   "source": [
    "cm.predict.compute()"
   ]
  },
  {
   "cell_type": "code",
   "execution_count": 10,
   "metadata": {},
   "outputs": [
    {
     "data": {
      "text/plain": [
       "{'kind': 'data',\n",
       " 'idx': 7,\n",
       " 'tgt': [7],\n",
       " 'type': 'nominal',\n",
       " 'shape': '\"circle\"',\n",
       " 'dask': Delayed('select-570b82a9-dca6-48a0-9034-186b3a60980e')}"
      ]
     },
     "execution_count": 10,
     "metadata": {},
     "output_type": "execute_result"
    }
   ],
   "source": [
    "m_small.q_diagram.nodes['d-07']"
   ]
  },
  {
   "cell_type": "code",
   "execution_count": 11,
   "metadata": {},
   "outputs": [],
   "source": [
    "g1 = model_to_graph(cm, types, idx=99, composition=True)\n",
    "g2 = model_to_graph(cm, types, idx=100, composition=True)"
   ]
  },
  {
   "cell_type": "code",
   "execution_count": 12,
   "metadata": {},
   "outputs": [],
   "source": [
    "def collapse_graph(g, types, idx=0):\n",
    "    dask_inference_algorithm(g, X=None, sorted_nodes=None)\n",
    "    cm = CompositeModel(g_walk)\n",
    "    return model_to_graph(cm, types, idx=idx, composition=True)\n",
    "\n",
    "def filter_nodes(g):\n",
    "    sorted_nodes = list(nx.topological_sort(g))\n",
    "    filtered_nodes = []\n",
    "    for n in reversed(sorted_nodes):\n",
    "        if g.nodes[n][\"kind\"] == 'model': break\n",
    "        filtered_nodes.append(n)\n",
    "    filtered_nodes = list(reversed(filtered_nodes))\n",
    "    return filtered_nodes"
   ]
  },
  {
   "cell_type": "code",
   "execution_count": 13,
   "metadata": {},
   "outputs": [],
   "source": [
    "def merge_walks(walks):\n",
    "    g = compose_all(walks)\n",
    "    filtered_nodes = filter_nodes(g)\n",
    "\n",
    "    dask_inference_algorithm(g, sorted_nodes=filtered_nodes)\n",
    "    return g"
   ]
  },
  {
   "cell_type": "code",
   "execution_count": 14,
   "metadata": {},
   "outputs": [
    {
     "ename": "NameError",
     "evalue": "name 'collapse_walk' is not defined",
     "output_type": "error",
     "traceback": [
      "\u001b[0;31m---------------------------------------------------------------------------\u001b[0m",
      "\u001b[0;31mNameError\u001b[0m                                 Traceback (most recent call last)",
      "\u001b[0;32m<ipython-input-14-e3706bfc2d16>\u001b[0m in \u001b[0;36m<module>\u001b[0;34m\u001b[0m\n\u001b[0;32m----> 1\u001b[0;31m \u001b[0mwalks\u001b[0m \u001b[0;34m=\u001b[0m \u001b[0;34m[\u001b[0m\u001b[0mcollapse_walk\u001b[0m\u001b[0;34m(\u001b[0m\u001b[0mg_walk\u001b[0m\u001b[0;34m,\u001b[0m \u001b[0mtypes\u001b[0m\u001b[0;34m,\u001b[0m \u001b[0midx\u001b[0m\u001b[0;34m=\u001b[0m\u001b[0midx\u001b[0m\u001b[0;34m+\u001b[0m\u001b[0;36m100\u001b[0m\u001b[0;34m)\u001b[0m \u001b[0;32mfor\u001b[0m \u001b[0midx\u001b[0m\u001b[0;34m,\u001b[0m \u001b[0mg_walk\u001b[0m \u001b[0;32min\u001b[0m \u001b[0menumerate\u001b[0m\u001b[0;34m(\u001b[0m\u001b[0;34m[\u001b[0m\u001b[0mm_small\u001b[0m\u001b[0;34m.\u001b[0m\u001b[0mq_diagram\u001b[0m\u001b[0;34m]\u001b[0m\u001b[0;34m*\u001b[0m\u001b[0;36m20\u001b[0m\u001b[0;34m)\u001b[0m\u001b[0;34m]\u001b[0m\u001b[0;34m\u001b[0m\u001b[0;34m\u001b[0m\u001b[0m\n\u001b[0m\u001b[1;32m      2\u001b[0m \u001b[0mg\u001b[0m \u001b[0;34m=\u001b[0m \u001b[0mmerge_walks\u001b[0m\u001b[0;34m(\u001b[0m\u001b[0mwalks\u001b[0m\u001b[0;34m)\u001b[0m\u001b[0;34m\u001b[0m\u001b[0;34m\u001b[0m\u001b[0m\n",
      "\u001b[0;32m<ipython-input-14-e3706bfc2d16>\u001b[0m in \u001b[0;36m<listcomp>\u001b[0;34m(.0)\u001b[0m\n\u001b[0;32m----> 1\u001b[0;31m \u001b[0mwalks\u001b[0m \u001b[0;34m=\u001b[0m \u001b[0;34m[\u001b[0m\u001b[0mcollapse_walk\u001b[0m\u001b[0;34m(\u001b[0m\u001b[0mg_walk\u001b[0m\u001b[0;34m,\u001b[0m \u001b[0mtypes\u001b[0m\u001b[0;34m,\u001b[0m \u001b[0midx\u001b[0m\u001b[0;34m=\u001b[0m\u001b[0midx\u001b[0m\u001b[0;34m+\u001b[0m\u001b[0;36m100\u001b[0m\u001b[0;34m)\u001b[0m \u001b[0;32mfor\u001b[0m \u001b[0midx\u001b[0m\u001b[0;34m,\u001b[0m \u001b[0mg_walk\u001b[0m \u001b[0;32min\u001b[0m \u001b[0menumerate\u001b[0m\u001b[0;34m(\u001b[0m\u001b[0;34m[\u001b[0m\u001b[0mm_small\u001b[0m\u001b[0;34m.\u001b[0m\u001b[0mq_diagram\u001b[0m\u001b[0;34m]\u001b[0m\u001b[0;34m*\u001b[0m\u001b[0;36m20\u001b[0m\u001b[0;34m)\u001b[0m\u001b[0;34m]\u001b[0m\u001b[0;34m\u001b[0m\u001b[0;34m\u001b[0m\u001b[0m\n\u001b[0m\u001b[1;32m      2\u001b[0m \u001b[0mg\u001b[0m \u001b[0;34m=\u001b[0m \u001b[0mmerge_walks\u001b[0m\u001b[0;34m(\u001b[0m\u001b[0mwalks\u001b[0m\u001b[0;34m)\u001b[0m\u001b[0;34m\u001b[0m\u001b[0;34m\u001b[0m\u001b[0m\n",
      "\u001b[0;31mNameError\u001b[0m: name 'collapse_walk' is not defined"
     ]
    }
   ],
   "source": [
    "walks = [collapse_walk(g_walk, types, idx=idx+100) for idx, g_walk in enumerate([m_small.q_diagram]*20)]\n",
    "g = merge_walks(walks)"
   ]
  },
  {
   "cell_type": "code",
   "execution_count": null,
   "metadata": {},
   "outputs": [],
   "source": [
    "g.nodes['p-07']['dask'].compute()"
   ]
  },
  {
   "cell_type": "code",
   "execution_count": null,
   "metadata": {},
   "outputs": [],
   "source": []
  },
  {
   "cell_type": "code",
   "execution_count": null,
   "metadata": {},
   "outputs": [],
   "source": []
  },
  {
   "cell_type": "code",
   "execution_count": null,
   "metadata": {},
   "outputs": [],
   "source": [
    "o = g1.nodes['c-99']\n",
    "o"
   ]
  },
  {
   "cell_type": "code",
   "execution_count": null,
   "metadata": {},
   "outputs": [],
   "source": [
    "for n,d in m_small.q_diagram.nodes(data=True):\n",
    "    if d.get(\"function\", None) is not None:\n",
    "        print(n)"
   ]
  },
  {
   "cell_type": "code",
   "execution_count": null,
   "metadata": {},
   "outputs": [],
   "source": [
    "g = compose_all([g1,g2])\n",
    "g.nodes"
   ]
  },
  {
   "cell_type": "code",
   "execution_count": null,
   "metadata": {},
   "outputs": [],
   "source": [
    "sorted_nodes = list(nx.topological_sort(g))\n",
    "sorted_nodes"
   ]
  },
  {
   "cell_type": "code",
   "execution_count": null,
   "metadata": {},
   "outputs": [],
   "source": [
    "g.nodes['c-99']"
   ]
  },
  {
   "cell_type": "code",
   "execution_count": null,
   "metadata": {},
   "outputs": [],
   "source": [
    "filtered_nodes = []\n",
    "for n in reversed(sorted_nodes):\n",
    "    if g.nodes[n][\"kind\"] == 'model': break\n",
    "    filtered_nodes.append(n)\n",
    "filtered_nodes = list(reversed(filtered_nodes))\n",
    "filtered_nodes"
   ]
  },
  {
   "cell_type": "code",
   "execution_count": null,
   "metadata": {},
   "outputs": [],
   "source": [
    "functions = dask_inference_algorithm(g, sorted_nodes=filtered_nodes)"
   ]
  },
  {
   "cell_type": "code",
   "execution_count": null,
   "metadata": {},
   "outputs": [],
   "source": [
    "g.nodes['p-07'][\"dask\"].compute()"
   ]
  },
  {
   "cell_type": "code",
   "execution_count": null,
   "metadata": {},
   "outputs": [],
   "source": [
    "functions['p-07'].compute()"
   ]
  },
  {
   "cell_type": "code",
   "execution_count": null,
   "metadata": {},
   "outputs": [],
   "source": []
  }
 ],
 "metadata": {
  "kernelspec": {
   "display_name": "mercs",
   "language": "python",
   "name": "mercs"
  },
  "language_info": {
   "codemirror_mode": {
    "name": "ipython",
    "version": 3
   },
   "file_extension": ".py",
   "mimetype": "text/x-python",
   "name": "python",
   "nbconvert_exporter": "python",
   "pygments_lexer": "ipython3",
   "version": "3.7.4"
  },
  "toc-autonumbering": true,
  "toc-showcode": false,
  "toc-showtags": false
 },
 "nbformat": 4,
 "nbformat_minor": 4
}
