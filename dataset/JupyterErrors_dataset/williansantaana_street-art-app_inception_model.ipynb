{
  "nbformat": 4,
  "nbformat_minor": 0,
  "metadata": {
    "colab": {
      "name": "inception_model",
      "provenance": [],
      "collapsed_sections": []
    },
    "kernelspec": {
      "name": "python3",
      "display_name": "Python 3"
    },
    "language_info": {
      "name": "python"
    }
  },
  "cells": [
    {
      "cell_type": "code",
      "execution_count": null,
      "metadata": {
        "id": "4oUrLFZGKlh3"
      },
      "outputs": [],
      "source": [
        "import os\n",
        "import random\n",
        "import numpy as np\n",
        "import matplotlib.pyplot as plt\n",
        "import matplotlib.image as mpimg\n",
        "import tensorflow as tf\n",
        "from tensorflow.keras import layers\n",
        "from tensorflow.keras import Model\n",
        "from tensorflow.keras.optimizers import RMSprop\n",
        "from tensorflow.keras.preprocessing.image import ImageDataGenerator, array_to_img, img_to_array, load_img\n",
        "# import the models for further classification experiments\n",
        "from tensorflow.keras.applications import (\n",
        "        vgg16,\n",
        "        resnet50,\n",
        "        mobilenet,\n",
        "        inception_v3\n",
        "    )\n"
      ]
    },
    {
      "cell_type": "code",
      "source": [
        "from google.colab import drive\n",
        "drive.mount('/content/drive')"
      ],
      "metadata": {
        "colab": {
          "base_uri": "https://localhost:8080/"
        },
        "id": "9gQZutyiPX7Y",
        "outputId": "1575aa02-f2ee-41ac-dcc4-8a340adad722"
      },
      "execution_count": null,
      "outputs": [
        {
          "output_type": "stream",
          "name": "stdout",
          "text": [
            "Mounted at /content/drive\n"
          ]
        }
      ]
    },
    {
      "cell_type": "code",
      "source": [
        "np.random.seed(1)\n",
        "tf.random.set_seed(2)\n",
        "# basic paths\n",
        "train_dir = \"/content/drive/MyDrive/Computer Science/6th semester/Projec Factory/model/dataset_v3/train\"\n",
        "test_dir = \"/content/drive/MyDrive/Computer Science/6th semester/Projec Factory/model/dataset_v3/test\"\n",
        "val_dir = \"/content/drive/MyDrive/Computer Science/6th semester/Projec Factory/model/dataset_v3/validation\"\n",
        "\n",
        "class_names = os.listdir(train_dir)\n",
        "num_classes = len(class_names)\n",
        "\n",
        "def get_dir_filenames(base_dir, name):\n",
        "    dir = os.path.join(base_dir, name)\n",
        "\n",
        "    return {\"dir\": dir, \"file_names\": os.listdir(dir)}\n",
        "\n",
        "\n",
        "train = {name: get_dir_filenames(train_dir, name) for name in class_names}\n",
        "val = {name: get_dir_filenames(val_dir, name) for name in class_names}"
      ],
      "metadata": {
        "id": "xAwngacNPbC4"
      },
      "execution_count": null,
      "outputs": []
    },
    {
      "cell_type": "code",
      "source": [
        "train_len = sum(map(lambda x: len(x['file_names']), train.values()))\n",
        "val_len = sum(map(lambda x: len(x['file_names']), val.values()))\n",
        "\n",
        "print(f\"Total training images: {train_len}\")\n",
        "print(f\"Total validation images: {val_len}\")"
      ],
      "metadata": {
        "colab": {
          "base_uri": "https://localhost:8080/"
        },
        "id": "sYW4xmGSPdUv",
        "outputId": "c1a4dfbd-6570-4737-9b67-4c563424ed7f"
      },
      "execution_count": null,
      "outputs": [
        {
          "output_type": "stream",
          "name": "stdout",
          "text": [
            "Total training images: 186\n",
            "Total validation images: 29\n"
          ]
        }
      ]
    },
    {
      "cell_type": "code",
      "source": [
        "# init the models\n",
        "# vgg_model = vgg16.VGG16(weights='imagenet')\n",
        "# inception_model = inception_v3.InceptionV3(weights='imagenet')\n",
        "# resnet_model = resnet50.ResNet50(weights='imagenet')\n",
        "# mobilenet_model = mobilenet.MobileNet(weights='imagenet')"
      ],
      "metadata": {
        "id": "BCJiZLcWNfCr"
      },
      "execution_count": null,
      "outputs": []
    },
    {
      "cell_type": "code",
      "source": [
        "# img_input = layers.Input(shape=(150, 150, 3))\n",
        "\n",
        "# define a new model with random weights and 10 classes\n",
        "# new_input = Input(shape=(640, 480, 3))\n",
        "# model = VGG16(weights=None, input_tensor=new_input, classes=10)\n",
        "\n",
        "model = inception_v3.InceptionV3(include_top=False, input_shape=(300, 300, 3), weights='imagenet')\n",
        "# add new classifier layers\n",
        "x = layers.Flatten()(model.layers[-1].output)\n",
        "x = layers.Dense(512, activation='relu')(x)\n",
        "output = layers.Dense(num_classes, activation='softmax')(x)\n",
        "# define new model\n",
        "model = Model(inputs=model.inputs, outputs=output)"
      ],
      "metadata": {
        "id": "PCaI1uDQO0Sa",
        "colab": {
          "base_uri": "https://localhost:8080/"
        },
        "outputId": "b21151ea-926a-475e-a490-bd5648417d75"
      },
      "execution_count": null,
      "outputs": [
        {
          "output_type": "stream",
          "name": "stdout",
          "text": [
            "Downloading data from https://storage.googleapis.com/tensorflow/keras-applications/inception_v3/inception_v3_weights_tf_dim_ordering_tf_kernels_notop.h5\n",
            "87916544/87910968 [==============================] - 1s 0us/step\n",
            "87924736/87910968 [==============================] - 1s 0us/step\n"
          ]
        }
      ]
    },
    {
      "cell_type": "code",
      "source": [
        "# adam optimizer\n",
        "model.compile(loss='categorical_crossentropy',\n",
        "    optimizer='adam',\n",
        "    metrics=['acc'])"
      ],
      "metadata": {
        "id": "Z8Kr_u4jR4md"
      },
      "execution_count": null,
      "outputs": []
    },
    {
      "cell_type": "code",
      "source": [
        "# rms prop optimizer\n",
        "# model.compile(loss='categorical_crossentropy',\n",
        "#     optimizer=RMSprop(learning_rate=0.001),\n",
        "#     metrics=['acc'])"
      ],
      "metadata": {
        "id": "wVCLbcXaWiwB"
      },
      "execution_count": null,
      "outputs": []
    },
    {
      "cell_type": "code",
      "source": [
        "# All images will be rescaled by 1./255\n",
        "train_datagen = ImageDataGenerator(\n",
        "    rescale=1./255,\n",
        "    rotation_range=40,\n",
        "    width_shift_range=0.2,\n",
        "    height_shift_range=0.2,\n",
        "    shear_range=0.2,\n",
        "    zoom_range=0.2,\n",
        "    horizontal_flip=True,\n",
        ")\n",
        "# train_datagen = ImageDataGenerator(rescale=1./255)\n",
        "val_datagen = ImageDataGenerator(rescale=1./255)\n",
        "\n",
        "# Flow training images in batches of 20 using train_datagen generator\n",
        "train_generator = train_datagen.flow_from_directory(\n",
        "        train_dir,  # This is the source directory for training images\n",
        "        target_size=(300, 300),  # All images will be resized to 150x150\n",
        "        batch_size=6,\n",
        "        class_mode='categorical',\n",
        "        subset='training')\n",
        "\n",
        "\n",
        "validation_generator = val_datagen.flow_from_directory(\n",
        "        val_dir,\n",
        "        target_size=(300, 300),\n",
        "        batch_size=2,\n",
        "        class_mode='categorical')"
      ],
      "metadata": {
        "colab": {
          "base_uri": "https://localhost:8080/"
        },
        "id": "t1eUs6PsQnGC",
        "outputId": "8f3dd136-aac6-49e6-8e8d-f78c9709ad21"
      },
      "execution_count": null,
      "outputs": [
        {
          "output_type": "stream",
          "name": "stdout",
          "text": [
            "Found 186 images belonging to 12 classes.\n",
            "Found 29 images belonging to 12 classes.\n"
          ]
        }
      ]
    },
    {
      "cell_type": "code",
      "source": [
        "# fit model on the augmented dataset\n",
        "model.fit_generator(train_generator, epochs=20, steps_per_epoch=31, validation_data=validation_generator)\n",
        "# history = model.fit(\n",
        "#       train_generator,\n",
        "#       epochs=20,\n",
        "#       validation_data=validation_generator)"
      ],
      "metadata": {
        "colab": {
          "base_uri": "https://localhost:8080/"
        },
        "id": "yFb5O2NjQpRs",
        "outputId": "acbc2cc3-577a-42d7-89af-6b97fce08a2d"
      },
      "execution_count": null,
      "outputs": [
        {
          "output_type": "stream",
          "name": "stderr",
          "text": [
            "/usr/local/lib/python3.7/dist-packages/ipykernel_launcher.py:2: UserWarning: `Model.fit_generator` is deprecated and will be removed in a future version. Please use `Model.fit`, which supports generators.\n",
            "  \n"
          ]
        },
        {
          "output_type": "stream",
          "name": "stdout",
          "text": [
            "Epoch 1/20\n",
            "31/31 [==============================] - 244s 7s/step - loss: 15.1332 - acc: 0.1022 - val_loss: 16102.5479 - val_acc: 0.1034\n",
            "Epoch 2/20\n",
            "31/31 [==============================] - 223s 7s/step - loss: 3.4909 - acc: 0.1505 - val_loss: 92.2293 - val_acc: 0.0690\n",
            "Epoch 3/20\n",
            "31/31 [==============================] - 222s 7s/step - loss: 2.8407 - acc: 0.1720 - val_loss: 268.0024 - val_acc: 0.1379\n",
            "Epoch 4/20\n",
            "31/31 [==============================] - 225s 7s/step - loss: 2.5751 - acc: 0.1720 - val_loss: 117.4932 - val_acc: 0.1379\n",
            "Epoch 5/20\n",
            "31/31 [==============================] - 231s 7s/step - loss: 2.4647 - acc: 0.2204 - val_loss: 2.8277 - val_acc: 0.1034\n",
            "Epoch 6/20\n",
            "31/31 [==============================] - 226s 7s/step - loss: 2.5565 - acc: 0.1935 - val_loss: 2.4917 - val_acc: 0.1379\n",
            "Epoch 7/20\n",
            "31/31 [==============================] - 226s 7s/step - loss: 2.4770 - acc: 0.1935 - val_loss: 2.4880 - val_acc: 0.1379\n",
            "Epoch 8/20\n",
            "31/31 [==============================] - 224s 7s/step - loss: 2.4411 - acc: 0.2258 - val_loss: 2.5094 - val_acc: 0.1379\n",
            "Epoch 9/20\n",
            "31/31 [==============================] - 224s 7s/step - loss: 2.4434 - acc: 0.1828 - val_loss: 2.4906 - val_acc: 0.1379\n",
            "Epoch 10/20\n",
            "31/31 [==============================] - 225s 7s/step - loss: 2.4674 - acc: 0.2258 - val_loss: 905.5858 - val_acc: 0.1379\n",
            "Epoch 11/20\n",
            "31/31 [==============================] - 227s 7s/step - loss: 2.5117 - acc: 0.2312 - val_loss: 286.5426 - val_acc: 0.0345\n",
            "Epoch 12/20\n",
            "31/31 [==============================] - 225s 7s/step - loss: 2.4221 - acc: 0.2097 - val_loss: 83.7318 - val_acc: 0.1379\n",
            "Epoch 13/20\n",
            "31/31 [==============================] - 229s 7s/step - loss: 2.3705 - acc: 0.2258 - val_loss: 42.5123 - val_acc: 0.0345\n",
            "Epoch 14/20\n",
            "31/31 [==============================] - 225s 7s/step - loss: 2.3963 - acc: 0.2366 - val_loss: 8.0306 - val_acc: 0.1379\n",
            "Epoch 15/20\n",
            "31/31 [==============================] - 225s 7s/step - loss: 2.3856 - acc: 0.2258 - val_loss: 8.7948 - val_acc: 0.1379\n",
            "Epoch 16/20\n",
            "31/31 [==============================] - 225s 7s/step - loss: 2.4006 - acc: 0.2097 - val_loss: 4.4299 - val_acc: 0.1379\n",
            "Epoch 17/20\n",
            "31/31 [==============================] - 225s 7s/step - loss: 2.3783 - acc: 0.2151 - val_loss: 6.3287 - val_acc: 0.1724\n",
            "Epoch 18/20\n",
            "31/31 [==============================] - 224s 7s/step - loss: 2.3553 - acc: 0.2366 - val_loss: 5.1777 - val_acc: 0.1379\n",
            "Epoch 19/20\n",
            "31/31 [==============================] - 225s 7s/step - loss: 2.3769 - acc: 0.2366 - val_loss: 23.4874 - val_acc: 0.1379\n",
            "Epoch 20/20\n",
            "31/31 [==============================] - 225s 7s/step - loss: 2.3658 - acc: 0.2366 - val_loss: 281.2233 - val_acc: 0.1379\n"
          ]
        },
        {
          "output_type": "execute_result",
          "data": {
            "text/plain": [
              "<keras.callbacks.History at 0x7feecedcd1d0>"
            ]
          },
          "metadata": {},
          "execution_count": 10
        }
      ]
    },
    {
      "cell_type": "code",
      "source": [
        "# Retrieve a list of accuracy results on training and validation data\n",
        "# sets for each training epoch\n",
        "acc = history.history['acc']\n",
        "val_acc = history.history['val_acc']\n",
        "\n",
        "# Retrieve a list of list results on training data\n",
        "# sets for each training epoch\n",
        "loss = history.history['loss']\n",
        "val_loss = history.history['val_loss']\n",
        "\n",
        "# Get number of epochs\n",
        "epochs = range(len(acc))\n",
        "\n",
        "# Plot training accuracy per epoch\n",
        "plt.plot(epochs, acc)\n",
        "plt.plot(epochs, val_acc)\n",
        "plt.title('Training and validation accuracy')\n",
        "\n",
        "plt.figure()\n",
        "\n",
        "# Plot training loss per epoch\n",
        "plt.plot(epochs, loss)\n",
        "plt.plot(epochs, val_loss)\n",
        "plt.title('Training and validation loss')"
      ],
      "metadata": {
        "id": "xVNJF-IaQsBV",
        "colab": {
          "base_uri": "https://localhost:8080/",
          "height": 241
        },
        "outputId": "46a3af0a-10de-4bca-c8ce-2bb195f1f961"
      },
      "execution_count": null,
      "outputs": [
        {
          "output_type": "error",
          "ename": "NameError",
          "evalue": "ignored",
          "traceback": [
            "\u001b[0;31m---------------------------------------------------------------------------\u001b[0m",
            "\u001b[0;31mNameError\u001b[0m                                 Traceback (most recent call last)",
            "\u001b[0;32m<ipython-input-11-c2ce1480977b>\u001b[0m in \u001b[0;36m<module>\u001b[0;34m()\u001b[0m\n\u001b[1;32m      1\u001b[0m \u001b[0;31m# Retrieve a list of accuracy results on training and validation data\u001b[0m\u001b[0;34m\u001b[0m\u001b[0;34m\u001b[0m\u001b[0;34m\u001b[0m\u001b[0m\n\u001b[1;32m      2\u001b[0m \u001b[0;31m# sets for each training epoch\u001b[0m\u001b[0;34m\u001b[0m\u001b[0;34m\u001b[0m\u001b[0;34m\u001b[0m\u001b[0m\n\u001b[0;32m----> 3\u001b[0;31m \u001b[0macc\u001b[0m \u001b[0;34m=\u001b[0m \u001b[0mhistory\u001b[0m\u001b[0;34m.\u001b[0m\u001b[0mhistory\u001b[0m\u001b[0;34m[\u001b[0m\u001b[0;34m'acc'\u001b[0m\u001b[0;34m]\u001b[0m\u001b[0;34m\u001b[0m\u001b[0;34m\u001b[0m\u001b[0m\n\u001b[0m\u001b[1;32m      4\u001b[0m \u001b[0mval_acc\u001b[0m \u001b[0;34m=\u001b[0m \u001b[0mhistory\u001b[0m\u001b[0;34m.\u001b[0m\u001b[0mhistory\u001b[0m\u001b[0;34m[\u001b[0m\u001b[0;34m'val_acc'\u001b[0m\u001b[0;34m]\u001b[0m\u001b[0;34m\u001b[0m\u001b[0;34m\u001b[0m\u001b[0m\n\u001b[1;32m      5\u001b[0m \u001b[0;34m\u001b[0m\u001b[0m\n",
            "\u001b[0;31mNameError\u001b[0m: name 'history' is not defined"
          ]
        }
      ]
    },
    {
      "cell_type": "code",
      "source": [
        "test_datagen = ImageDataGenerator(rescale=1./255)\n",
        "\n",
        "test_generator = test_datagen.flow_from_directory(\n",
        "        test_dir,\n",
        "        target_size=(300, 300),\n",
        "        class_mode='categorical',\n",
        "        batch_size=1)\n",
        "\n",
        "filenames = test_generator.filenames\n",
        "nb_samples = len(filenames)\n",
        "\n",
        "logits = model.predict(test_generator,steps=nb_samples)\n",
        "prediction = tf.nn.softmax(logits)\n",
        "print(prediction)"
      ],
      "metadata": {
        "colab": {
          "base_uri": "https://localhost:8080/"
        },
        "id": "_8HL5LiVvs3j",
        "outputId": "e63b19cc-a6d6-46c5-bad4-3058983e5ddc"
      },
      "execution_count": null,
      "outputs": [
        {
          "output_type": "stream",
          "name": "stdout",
          "text": [
            "Found 28 images belonging to 12 classes.\n",
            "tf.Tensor(\n",
            "[[0.0728964  0.19813186 0.0728964  0.07290405 0.07289641 0.0728964\n",
            "  0.07289648 0.07289641 0.0728964  0.0728964  0.0728964  0.0728964 ]\n",
            " [0.07289543 0.19815032 0.07289543 0.07289543 0.07289543 0.07289543\n",
            "  0.07289543 0.07289543 0.07289543 0.07289543 0.07289543 0.07289543]\n",
            " [0.07289543 0.19815032 0.07289543 0.07289543 0.07289543 0.07289543\n",
            "  0.07289543 0.07289543 0.07289543 0.07289543 0.07289543 0.07289543]\n",
            " [0.07289543 0.19815032 0.07289543 0.07289543 0.07289543 0.07289543\n",
            "  0.07289543 0.07289543 0.07289543 0.07289543 0.07289543 0.07289543]\n",
            " [0.0734852  0.18658228 0.07348502 0.07653432 0.07381904 0.07348505\n",
            "  0.0743377  0.07414541 0.07360886 0.0735452  0.07348567 0.07348631]\n",
            " [0.07289543 0.19815032 0.07289543 0.07289543 0.07289543 0.07289543\n",
            "  0.07289543 0.07289543 0.07289543 0.07289543 0.07289543 0.07289543]\n",
            " [0.08124015 0.09577233 0.07929728 0.08519217 0.08117463 0.08159412\n",
            "  0.0820834  0.08125321 0.08577837 0.08166364 0.08180981 0.08314088]\n",
            " [0.07889734 0.09682366 0.07786628 0.08884648 0.08418524 0.07831047\n",
            "  0.08629864 0.08473678 0.083041   0.08222946 0.07917601 0.07958861]\n",
            " [0.07289543 0.19815032 0.07289543 0.07289543 0.07289543 0.07289543\n",
            "  0.07289543 0.07289543 0.07289543 0.07289543 0.07289543 0.07289543]\n",
            " [0.07289543 0.19815032 0.07289543 0.07289543 0.07289543 0.07289543\n",
            "  0.07289543 0.07289543 0.07289543 0.07289543 0.07289543 0.07289543]\n",
            " [0.07289543 0.19815032 0.07289543 0.07289543 0.07289543 0.07289543\n",
            "  0.07289543 0.07289543 0.07289543 0.07289543 0.07289543 0.07289543]\n",
            " [0.07289543 0.19815032 0.07289543 0.07289543 0.07289543 0.07289543\n",
            "  0.07289543 0.07289543 0.07289543 0.07289543 0.07289543 0.07289543]\n",
            " [0.07289543 0.19815032 0.07289543 0.07289543 0.07289543 0.07289543\n",
            "  0.07289543 0.07289543 0.07289543 0.07289543 0.07289543 0.07289543]\n",
            " [0.07289543 0.19815032 0.07289543 0.07289543 0.07289543 0.07289543\n",
            "  0.07289543 0.07289543 0.07289543 0.07289543 0.07289543 0.07289543]\n",
            " [0.07289543 0.19815032 0.07289543 0.07289543 0.07289543 0.07289543\n",
            "  0.07289543 0.07289543 0.07289543 0.07289543 0.07289543 0.07289543]\n",
            " [0.07289543 0.19815032 0.07289543 0.07289543 0.07289543 0.07289543\n",
            "  0.07289543 0.07289543 0.07289543 0.07289543 0.07289543 0.07289543]\n",
            " [0.07289543 0.19815032 0.07289543 0.07289543 0.07289543 0.07289543\n",
            "  0.07289543 0.07289543 0.07289543 0.07289543 0.07289543 0.07289543]\n",
            " [0.07289543 0.19815032 0.07289543 0.07289543 0.07289543 0.07289543\n",
            "  0.07289543 0.07289543 0.07289543 0.07289543 0.07289543 0.07289543]\n",
            " [0.07289543 0.19815032 0.07289543 0.07289543 0.07289543 0.07289543\n",
            "  0.07289543 0.07289543 0.07289543 0.07289543 0.07289543 0.07289543]\n",
            " [0.07289543 0.19815032 0.07289543 0.07289543 0.07289543 0.07289543\n",
            "  0.07289543 0.07289543 0.07289543 0.07289543 0.07289543 0.07289543]\n",
            " [0.07408959 0.17377822 0.07408833 0.08072156 0.07503232 0.07408856\n",
            "  0.07613001 0.07532334 0.07431982 0.07424357 0.07409095 0.07409368]\n",
            " [0.07289543 0.19815032 0.07289543 0.07289543 0.07289543 0.07289543\n",
            "  0.07289543 0.07289543 0.07289543 0.07289543 0.07289543 0.07289543]\n",
            " [0.07289617 0.19813637 0.07289617 0.07290123 0.07289619 0.07289617\n",
            "  0.07289642 0.07289665 0.07289618 0.07289617 0.07289617 0.07289617]\n",
            " [0.07289543 0.19815032 0.07289543 0.07289543 0.07289543 0.07289543\n",
            "  0.07289543 0.07289543 0.07289543 0.07289543 0.07289543 0.07289543]\n",
            " [0.08123843 0.09578365 0.07929562 0.08519171 0.08117319 0.08159342\n",
            "  0.08208179 0.08125174 0.08577977 0.08166203 0.08180832 0.08314031]\n",
            " [0.07289543 0.19815032 0.07289543 0.07289543 0.07289543 0.07289543\n",
            "  0.07289543 0.07289543 0.07289543 0.07289543 0.07289543 0.07289543]\n",
            " [0.07439377 0.16691293 0.07439041 0.0828508  0.07581187 0.07439106\n",
            "  0.07697027 0.07601896 0.07477316 0.07468534 0.07439724 0.07440416]\n",
            " [0.07289543 0.19815032 0.07289543 0.07289543 0.07289543 0.07289543\n",
            "  0.07289543 0.07289543 0.07289543 0.07289543 0.07289543 0.07289543]], shape=(28, 12), dtype=float32)\n"
          ]
        }
      ]
    }
  ]
}