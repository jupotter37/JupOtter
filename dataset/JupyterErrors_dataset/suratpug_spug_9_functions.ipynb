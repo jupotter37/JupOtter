{
 "cells": [
  {
   "cell_type": "markdown",
   "metadata": {},
   "source": [
    "## functions\n",
    "- function is a sequence of statements that performs **specific** type of task\n",
    "- `def` statement indicates start of a function definition\n",
    "- name a function expressivley\n"
   ]
  },
  {
   "cell_type": "markdown",
   "metadata": {},
   "source": [
    "### how functions helps?\n",
    "- it helps eliminate code duplication\n",
    "- it encourages code reusability\n",
    "- it helps code organization"
   ]
  },
  {
   "cell_type": "code",
   "execution_count": 1,
   "metadata": {},
   "outputs": [
    {
     "data": {
      "text/plain": [
       "function"
      ]
     },
     "execution_count": 1,
     "metadata": {},
     "output_type": "execute_result"
    }
   ],
   "source": [
    "# defining a function\n",
    "\n",
    "def print_a_message(): # def keyword, name of function, parenthesis and colon\n",
    "    print(\"Hello world!\") # indentation and statement\n",
    "    \n",
    "type(print_a_message)"
   ]
  },
  {
   "cell_type": "code",
   "execution_count": 2,
   "metadata": {},
   "outputs": [
    {
     "name": "stdout",
     "output_type": "stream",
     "text": [
      "Hello world!\n"
     ]
    }
   ],
   "source": [
    "# calling a function\n",
    "\n",
    "print_a_message()"
   ]
  },
  {
   "cell_type": "code",
   "execution_count": 3,
   "metadata": {},
   "outputs": [
    {
     "name": "stdout",
     "output_type": "stream",
     "text": [
      "Hello world!\n"
     ]
    }
   ],
   "source": [
    "# functions are object in python\n",
    "# that means you can pass it around like a variable  <-- take a note here\n",
    "\n",
    "new_function = print_a_message\n",
    "new_function()"
   ]
  },
  {
   "cell_type": "code",
   "execution_count": 4,
   "metadata": {},
   "outputs": [
    {
     "name": "stdout",
     "output_type": "stream",
     "text": [
      "ola!\n"
     ]
    },
    {
     "data": {
      "text/plain": [
       "(3, 3, 4.0, '345')"
      ]
     },
     "execution_count": 4,
     "metadata": {},
     "output_type": "execute_result"
    }
   ],
   "source": [
    "# you are already aware of built-in functions\n",
    "\n",
    "print(\"ola!\")\n",
    "len([1, 2, 3]), int(3.567), float(4), str(345)"
   ]
  },
  {
   "cell_type": "markdown",
   "metadata": {},
   "source": [
    "### input parameter/s\n",
    "- A parameter is information a function needs to do its work\n",
    "- how many is too many? if you have more than 4-6 input paremeters, reconsider and if necessary, refactor"
   ]
  },
  {
   "cell_type": "code",
   "execution_count": 5,
   "metadata": {},
   "outputs": [],
   "source": [
    "# function parameter\n",
    "\n",
    "def print_a_message(message):  # message is a parameter\n",
    "    print(message)"
   ]
  },
  {
   "cell_type": "markdown",
   "metadata": {},
   "source": [
    "### call with argument/s\n",
    "- An argument is a value passed to a function\n",
    "- many times parameters and arguments are used interchangeably "
   ]
  },
  {
   "cell_type": "code",
   "execution_count": 6,
   "metadata": {},
   "outputs": [
    {
     "name": "stdout",
     "output_type": "stream",
     "text": [
      "Howdy!\n"
     ]
    }
   ],
   "source": [
    "# calling a function with an argument\n",
    "\n",
    "print_a_message('Howdy!')"
   ]
  },
  {
   "cell_type": "code",
   "execution_count": 7,
   "metadata": {},
   "outputs": [
    {
     "name": "stdout",
     "output_type": "stream",
     "text": [
      "8\n"
     ]
    }
   ],
   "source": [
    "# more than one parameters\n",
    "\n",
    "def print_sum(a, b):\n",
    "    print(a + b)\n",
    "\n",
    "# calling it with arguments\n",
    "\n",
    "print_sum(2, 6)"
   ]
  },
  {
   "cell_type": "code",
   "execution_count": 8,
   "metadata": {},
   "outputs": [
    {
     "ename": "TypeError",
     "evalue": "print_sum() missing 2 required positional arguments: 'a' and 'b'",
     "output_type": "error",
     "traceback": [
      "\u001b[0;31m---------------------------------------------------------------------------\u001b[0m",
      "\u001b[0;31mTypeError\u001b[0m                                 Traceback (most recent call last)",
      "\u001b[0;32m<ipython-input-8-71b9b93b2b41>\u001b[0m in \u001b[0;36m<module>\u001b[0;34m\u001b[0m\n\u001b[1;32m      1\u001b[0m \u001b[0;31m# calling it w/o arguments -> expect an error message\u001b[0m\u001b[0;34m\u001b[0m\u001b[0;34m\u001b[0m\u001b[0;34m\u001b[0m\u001b[0m\n\u001b[1;32m      2\u001b[0m \u001b[0;34m\u001b[0m\u001b[0m\n\u001b[0;32m----> 3\u001b[0;31m \u001b[0mprint_sum\u001b[0m\u001b[0;34m(\u001b[0m\u001b[0;34m)\u001b[0m\u001b[0;34m\u001b[0m\u001b[0;34m\u001b[0m\u001b[0m\n\u001b[0m",
      "\u001b[0;31mTypeError\u001b[0m: print_sum() missing 2 required positional arguments: 'a' and 'b'"
     ]
    }
   ],
   "source": [
    "# calling it w/o arguments -> expect an error message\n",
    "\n",
    "print_sum()"
   ]
  },
  {
   "cell_type": "markdown",
   "metadata": {},
   "source": [
    "### positional arguments\n",
    "- when function needs more than one parameter, it must match values it receive"
   ]
  },
  {
   "cell_type": "code",
   "execution_count": null,
   "metadata": {},
   "outputs": [],
   "source": [
    "# positional arguments example\n",
    "\n",
    "def post_msg(msg, user): \n",
    "    \"\"\"Post a message from a user.\"\"\"\n",
    "    print(f'{user}: {msg}')\n",
    "    \n",
    "post_msg(\"I love the internet!\", \"Sally\") # check the order of arguments\n",
    "post_msg(\"Me too!\", \"Silly\")"
   ]
  },
  {
   "cell_type": "markdown",
   "metadata": {},
   "source": [
    "### keyword arguments\n",
    "- assign parameter a value when passing arguments"
   ]
  },
  {
   "cell_type": "code",
   "execution_count": null,
   "metadata": {},
   "outputs": [],
   "source": [
    "# key word arduments\n",
    "\n",
    "post_msg(user=\"Wally\", msg=\"oh, i did not know this\")"
   ]
  },
  {
   "cell_type": "markdown",
   "metadata": {},
   "source": [
    "### default value\n"
   ]
  },
  {
   "cell_type": "code",
   "execution_count": null,
   "metadata": {},
   "outputs": [],
   "source": [
    "def serve_coffee(size=12): # notice the default value here\n",
    "    \"\"\"Serve a cup of coffee.\"\"\"\n",
    "    print(f\"Here's your {size} oz coffee!\")\n",
    "\n",
    "serve_coffee()\n",
    "serve_coffee(16)\n",
    "serve_coffee(size=24)"
   ]
  },
  {
   "cell_type": "markdown",
   "metadata": {},
   "source": [
    "### return values\n",
    "- also known as fruitful functions\n",
    "- functions are mostly used with return\n",
    "- when return is not present, by default, python returns `None`\n",
    "- super useful in storing return value to a variable for latter use\n",
    "- you can return more than one value, just put them in parenthesis, return tuples :)"
   ]
  },
  {
   "cell_type": "code",
   "execution_count": null,
   "metadata": {},
   "outputs": [],
   "source": [
    "# function with a return\n",
    "\n",
    "def area_rect(height, width):\n",
    "    \"\"\"Calculate the area of a rectangle.\"\"\"\n",
    "    area = height * width\n",
    "    return area # See return here"
   ]
  },
  {
   "cell_type": "code",
   "execution_count": null,
   "metadata": {},
   "outputs": [],
   "source": [
    "# let's store a return value\n",
    "\n",
    "cal_area = area_rect(50, 30)\n",
    "cal_area"
   ]
  },
  {
   "cell_type": "markdown",
   "metadata": {},
   "source": [
    "### function annotations aka type hints\n",
    "- still it is dynamically typed language :) <- light joke!\n"
   ]
  },
  {
   "cell_type": "code",
   "execution_count": null,
   "metadata": {},
   "outputs": [],
   "source": [
    "# let's annotate a function\n",
    "\n",
    "def cylinder_volume(radius:float, height:'int > 0'=1) -> float:\n",
    "    print(\"radius is:\", radius)\n",
    "    print(\"height is:\", height)\n",
    "    area = 3.14 * (radius ** 2) * height\n",
    "    return round(area, 2)"
   ]
  },
  {
   "cell_type": "code",
   "execution_count": null,
   "metadata": {},
   "outputs": [],
   "source": [
    "# annotation itself is not forcing in python, but some linters may help, like mypy\n",
    "\n",
    "cylinder_volume(4.4)"
   ]
  },
  {
   "cell_type": "code",
   "execution_count": null,
   "metadata": {},
   "outputs": [],
   "source": [
    "# list via `__annotations__` magic method\n",
    "\n",
    "cylinder_volume.__annotations__"
   ]
  },
  {
   "cell_type": "code",
   "execution_count": null,
   "metadata": {},
   "outputs": [],
   "source": [
    "# bit of a composition, pay attention!\n",
    "\n",
    "import math\n",
    "def distance(x1, y1, x2, y2):\n",
    "    dx = x2 - x1\n",
    "    dy = y2 - y1\n",
    "    dsquared = (dx ** 2) + (dy ** 2)\n",
    "    result = math.sqrt(dsquared)\n",
    "    return result\n",
    "\n",
    "def area(radius):\n",
    "    _area = math.pi * (radius ** 2)\n",
    "    return _area\n",
    "\n",
    "def circle_area(x_center, y_center, x_per, y_per):\n",
    "    return area(distance(x_center, y_center, x_per, y_per))\n"
   ]
  },
  {
   "cell_type": "code",
   "execution_count": null,
   "metadata": {},
   "outputs": [],
   "source": [
    "# calculating distance\n",
    "\n",
    "calculate_distance = distance(0, 0, 2, 2)\n",
    "calculate_distance"
   ]
  },
  {
   "cell_type": "code",
   "execution_count": null,
   "metadata": {},
   "outputs": [],
   "source": [
    "# calculating area\n",
    "\n",
    "calculate_circle_area = circle_area(0, 0, 2, 2)\n",
    "calculate_circle_area"
   ]
  },
  {
   "cell_type": "code",
   "execution_count": null,
   "metadata": {},
   "outputs": [],
   "source": []
  }
 ],
 "metadata": {
  "kernelspec": {
   "display_name": "Python 3",
   "language": "python",
   "name": "python3"
  },
  "language_info": {
   "codemirror_mode": {
    "name": "ipython",
    "version": 3
   },
   "file_extension": ".py",
   "mimetype": "text/x-python",
   "name": "python",
   "nbconvert_exporter": "python",
   "pygments_lexer": "ipython3",
   "version": "3.7.6"
  }
 },
 "nbformat": 4,
 "nbformat_minor": 4
}
