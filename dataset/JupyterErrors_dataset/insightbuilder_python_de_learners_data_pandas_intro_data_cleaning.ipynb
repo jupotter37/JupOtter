{
 "cells": [
  {
   "cell_type": "markdown",
   "id": "beeb8720",
   "metadata": {},
   "source": [
    "### This notebook is the intro of Pandas function.\n",
    "The youtube video link introducing pandas is https://youtu.be/CmREQtKEzqo"
   ]
  },
  {
   "cell_type": "code",
   "execution_count": 1,
   "id": "5943cc88",
   "metadata": {},
   "outputs": [],
   "source": [
    "import pandas as pd\n",
    "import shutil\n",
    "import warnings\n",
    "warnings.filterwarnings('ignore')"
   ]
  },
  {
   "cell_type": "code",
   "execution_count": 2,
   "id": "38575301",
   "metadata": {},
   "outputs": [],
   "source": [
    "#extracting the data\n",
    "shutil.unpack_archive('archive.zip')"
   ]
  },
  {
   "cell_type": "code",
   "execution_count": 3,
   "id": "255af0f3",
   "metadata": {},
   "outputs": [
    {
     "name": "stdout",
     "output_type": "stream",
     "text": [
      "archive.zip\t\t     pandas_intro_data_cleaning.ipynb\r\n",
      "AWS_Honeypot_marx-geo.csv    pandas_intro_to_analysis.ipynb\r\n",
      "cleaning_honeypot_script.py\r\n"
     ]
    }
   ],
   "source": [
    "!ls"
   ]
  },
  {
   "cell_type": "code",
   "execution_count": 4,
   "id": "93b6be56",
   "metadata": {
    "scrolled": true
   },
   "outputs": [
    {
     "name": "stdout",
     "output_type": "stream",
     "text": [
      "48854735\r\n"
     ]
    }
   ],
   "source": [
    "!cat AWS_Honeypot_marx-geo.csv | wc -c"
   ]
  },
  {
   "cell_type": "code",
   "execution_count": 3,
   "id": "38c38583",
   "metadata": {},
   "outputs": [],
   "source": [
    "#making a simple list\n",
    "\n",
    "simple_list = [1,56,79,862,57]"
   ]
  },
  {
   "cell_type": "code",
   "execution_count": 5,
   "id": "156682bb",
   "metadata": {},
   "outputs": [],
   "source": [
    "a = 5"
   ]
  },
  {
   "cell_type": "code",
   "execution_count": 6,
   "id": "702276af",
   "metadata": {},
   "outputs": [
    {
     "data": {
      "text/plain": [
       "int"
      ]
     },
     "execution_count": 6,
     "metadata": {},
     "output_type": "execute_result"
    }
   ],
   "source": [
    "type(a)"
   ]
  },
  {
   "cell_type": "code",
   "execution_count": 12,
   "id": "e4f1ccd4",
   "metadata": {},
   "outputs": [
    {
     "data": {
      "text/plain": [
       "72"
      ]
     },
     "execution_count": 12,
     "metadata": {},
     "output_type": "execute_result"
    }
   ],
   "source": [
    "len(dir(a))"
   ]
  },
  {
   "cell_type": "code",
   "execution_count": 4,
   "id": "dfcbd595",
   "metadata": {},
   "outputs": [
    {
     "data": {
      "text/plain": [
       "list"
      ]
     },
     "execution_count": 4,
     "metadata": {},
     "output_type": "execute_result"
    }
   ],
   "source": [
    "type(simple_list)"
   ]
  },
  {
   "cell_type": "code",
   "execution_count": 9,
   "id": "260a4f56",
   "metadata": {},
   "outputs": [
    {
     "data": {
      "text/plain": [
       "47"
      ]
     },
     "execution_count": 9,
     "metadata": {},
     "output_type": "execute_result"
    }
   ],
   "source": [
    "len(dir(simple_list))"
   ]
  },
  {
   "cell_type": "code",
   "execution_count": 7,
   "id": "23f62418",
   "metadata": {},
   "outputs": [
    {
     "ename": "AttributeError",
     "evalue": "'list' object has no attribute 'sort_values'",
     "output_type": "error",
     "traceback": [
      "\u001b[0;31m---------------------------------------------------------------------------\u001b[0m",
      "\u001b[0;31mAttributeError\u001b[0m                            Traceback (most recent call last)",
      "Cell \u001b[0;32mIn[7], line 1\u001b[0m\n\u001b[0;32m----> 1\u001b[0m \u001b[43msimple_list\u001b[49m\u001b[38;5;241;43m.\u001b[39;49m\u001b[43msort_values\u001b[49m()\n",
      "\u001b[0;31mAttributeError\u001b[0m: 'list' object has no attribute 'sort_values'"
     ]
    }
   ],
   "source": [
    "simple_list.sort_values()"
   ]
  },
  {
   "cell_type": "code",
   "execution_count": 8,
   "id": "b8677fb2",
   "metadata": {},
   "outputs": [
    {
     "data": {
      "text/plain": [
       "0      1\n",
       "1     56\n",
       "2     79\n",
       "3    862\n",
       "4     57\n",
       "dtype: int64"
      ]
     },
     "execution_count": 8,
     "metadata": {},
     "output_type": "execute_result"
    }
   ],
   "source": [
    "#making simple list into pandas series\n",
    "simple_series = pd.Series(simple_list)\n",
    "simple_series"
   ]
  },
  {
   "cell_type": "code",
   "execution_count": 11,
   "id": "9764e4e8",
   "metadata": {},
   "outputs": [
    {
     "data": {
      "text/plain": [
       "419"
      ]
     },
     "execution_count": 11,
     "metadata": {},
     "output_type": "execute_result"
    }
   ],
   "source": [
    "len(dir(simple_series))"
   ]
  },
  {
   "cell_type": "code",
   "execution_count": 10,
   "id": "2d9c8baa",
   "metadata": {},
   "outputs": [
    {
     "data": {
      "text/plain": [
       "3    862\n",
       "2     79\n",
       "4     57\n",
       "1     56\n",
       "0      1\n",
       "dtype: int64"
      ]
     },
     "execution_count": 10,
     "metadata": {},
     "output_type": "execute_result"
    }
   ],
   "source": [
    "simple_series.sort_values(ascending=False)"
   ]
  },
  {
   "cell_type": "code",
   "execution_count": 14,
   "id": "420ac856",
   "metadata": {},
   "outputs": [
    {
     "data": {
      "text/plain": [
       "DatetimeIndex(['2022-01-01 00:00:00', '2022-01-01 00:00:01',\n",
       "               '2022-01-01 00:00:02', '2022-01-01 00:00:03',\n",
       "               '2022-01-01 00:00:04'],\n",
       "              dtype='datetime64[ns]', freq='S')"
      ]
     },
     "execution_count": 14,
     "metadata": {},
     "output_type": "execute_result"
    }
   ],
   "source": [
    "dates = pd.date_range('20220101',periods=5,freq='S')\n",
    "dates"
   ]
  },
  {
   "cell_type": "code",
   "execution_count": 10,
   "id": "3386c709",
   "metadata": {},
   "outputs": [
    {
     "data": {
      "text/plain": [
       "pandas.core.indexes.datetimes.DatetimeIndex"
      ]
     },
     "execution_count": 10,
     "metadata": {},
     "output_type": "execute_result"
    }
   ],
   "source": [
    "type(dates)"
   ]
  },
  {
   "cell_type": "code",
   "execution_count": 15,
   "id": "4c5824da",
   "metadata": {},
   "outputs": [
    {
     "data": {
      "text/plain": [
       "dict"
      ]
     },
     "execution_count": 15,
     "metadata": {},
     "output_type": "execute_result"
    }
   ],
   "source": [
    "temp = {\"A\":simple_list,\"dates\":dates}\n",
    "type(temp)"
   ]
  },
  {
   "cell_type": "code",
   "execution_count": 16,
   "id": "d050dc4b",
   "metadata": {},
   "outputs": [
    {
     "data": {
      "text/html": [
       "<div>\n",
       "<style scoped>\n",
       "    .dataframe tbody tr th:only-of-type {\n",
       "        vertical-align: middle;\n",
       "    }\n",
       "\n",
       "    .dataframe tbody tr th {\n",
       "        vertical-align: top;\n",
       "    }\n",
       "\n",
       "    .dataframe thead th {\n",
       "        text-align: right;\n",
       "    }\n",
       "</style>\n",
       "<table border=\"1\" class=\"dataframe\">\n",
       "  <thead>\n",
       "    <tr style=\"text-align: right;\">\n",
       "      <th></th>\n",
       "      <th>A</th>\n",
       "      <th>dates</th>\n",
       "    </tr>\n",
       "  </thead>\n",
       "  <tbody>\n",
       "    <tr>\n",
       "      <th>0</th>\n",
       "      <td>1</td>\n",
       "      <td>2022-01-01 00:00:00</td>\n",
       "    </tr>\n",
       "    <tr>\n",
       "      <th>1</th>\n",
       "      <td>56</td>\n",
       "      <td>2022-01-01 00:00:01</td>\n",
       "    </tr>\n",
       "    <tr>\n",
       "      <th>2</th>\n",
       "      <td>79</td>\n",
       "      <td>2022-01-01 00:00:02</td>\n",
       "    </tr>\n",
       "    <tr>\n",
       "      <th>3</th>\n",
       "      <td>862</td>\n",
       "      <td>2022-01-01 00:00:03</td>\n",
       "    </tr>\n",
       "    <tr>\n",
       "      <th>4</th>\n",
       "      <td>57</td>\n",
       "      <td>2022-01-01 00:00:04</td>\n",
       "    </tr>\n",
       "  </tbody>\n",
       "</table>\n",
       "</div>"
      ],
      "text/plain": [
       "     A               dates\n",
       "0    1 2022-01-01 00:00:00\n",
       "1   56 2022-01-01 00:00:01\n",
       "2   79 2022-01-01 00:00:02\n",
       "3  862 2022-01-01 00:00:03\n",
       "4   57 2022-01-01 00:00:04"
      ]
     },
     "execution_count": 16,
     "metadata": {},
     "output_type": "execute_result"
    }
   ],
   "source": [
    "#making dataframe from series\n",
    "made_df = pd.DataFrame({\"A\":simple_list,\"dates\":dates})\n",
    "made_df"
   ]
  },
  {
   "cell_type": "code",
   "execution_count": 13,
   "id": "db37d585",
   "metadata": {},
   "outputs": [],
   "source": [
    "def trial(new_data):\n",
    "    \"this is a function\"\n",
    "    return new_data"
   ]
  },
  {
   "cell_type": "code",
   "execution_count": 14,
   "id": "4f0de47e",
   "metadata": {},
   "outputs": [
    {
     "data": {
      "text/html": [
       "<div>\n",
       "<style scoped>\n",
       "    .dataframe tbody tr th:only-of-type {\n",
       "        vertical-align: middle;\n",
       "    }\n",
       "\n",
       "    .dataframe tbody tr th {\n",
       "        vertical-align: top;\n",
       "    }\n",
       "\n",
       "    .dataframe thead th {\n",
       "        text-align: right;\n",
       "    }\n",
       "</style>\n",
       "<table border=\"1\" class=\"dataframe\">\n",
       "  <thead>\n",
       "    <tr style=\"text-align: right;\">\n",
       "      <th></th>\n",
       "      <th>0</th>\n",
       "    </tr>\n",
       "  </thead>\n",
       "  <tbody>\n",
       "    <tr>\n",
       "      <th>0</th>\n",
       "      <td>1</td>\n",
       "    </tr>\n",
       "    <tr>\n",
       "      <th>1</th>\n",
       "      <td>56</td>\n",
       "    </tr>\n",
       "    <tr>\n",
       "      <th>2</th>\n",
       "      <td>79</td>\n",
       "    </tr>\n",
       "    <tr>\n",
       "      <th>3</th>\n",
       "      <td>862</td>\n",
       "    </tr>\n",
       "    <tr>\n",
       "      <th>4</th>\n",
       "      <td>57</td>\n",
       "    </tr>\n",
       "  </tbody>\n",
       "</table>\n",
       "</div>"
      ],
      "text/plain": [
       "     0\n",
       "0    1\n",
       "1   56\n",
       "2   79\n",
       "3  862\n",
       "4   57"
      ]
     },
     "execution_count": 14,
     "metadata": {},
     "output_type": "execute_result"
    }
   ],
   "source": [
    "#making dataframe from series\n",
    "made_df = pd.DataFrame(simple_list)\n",
    "made_df"
   ]
  },
  {
   "cell_type": "code",
   "execution_count": 19,
   "id": "81ffd0b2",
   "metadata": {},
   "outputs": [
    {
     "data": {
      "text/plain": [
       "pandas.core.frame.DataFrame"
      ]
     },
     "execution_count": 19,
     "metadata": {},
     "output_type": "execute_result"
    }
   ],
   "source": [
    "type(made_df)"
   ]
  },
  {
   "cell_type": "code",
   "execution_count": 12,
   "id": "e581ab5f",
   "metadata": {},
   "outputs": [
    {
     "data": {
      "text/html": [
       "<div>\n",
       "<style scoped>\n",
       "    .dataframe tbody tr th:only-of-type {\n",
       "        vertical-align: middle;\n",
       "    }\n",
       "\n",
       "    .dataframe tbody tr th {\n",
       "        vertical-align: top;\n",
       "    }\n",
       "\n",
       "    .dataframe thead th {\n",
       "        text-align: right;\n",
       "    }\n",
       "</style>\n",
       "<table border=\"1\" class=\"dataframe\">\n",
       "  <thead>\n",
       "    <tr style=\"text-align: right;\">\n",
       "      <th></th>\n",
       "      <th>data</th>\n",
       "    </tr>\n",
       "  </thead>\n",
       "  <tbody>\n",
       "    <tr>\n",
       "      <th>2013-01-01</th>\n",
       "      <td>1</td>\n",
       "    </tr>\n",
       "    <tr>\n",
       "      <th>2013-01-02</th>\n",
       "      <td>56</td>\n",
       "    </tr>\n",
       "    <tr>\n",
       "      <th>2013-01-03</th>\n",
       "      <td>79</td>\n",
       "    </tr>\n",
       "    <tr>\n",
       "      <th>2013-01-04</th>\n",
       "      <td>862</td>\n",
       "    </tr>\n",
       "    <tr>\n",
       "      <th>2013-01-05</th>\n",
       "      <td>57</td>\n",
       "    </tr>\n",
       "  </tbody>\n",
       "</table>\n",
       "</div>"
      ],
      "text/plain": [
       "            data\n",
       "2013-01-01     1\n",
       "2013-01-02    56\n",
       "2013-01-03    79\n",
       "2013-01-04   862\n",
       "2013-01-05    57"
      ]
     },
     "execution_count": 12,
     "metadata": {},
     "output_type": "execute_result"
    }
   ],
   "source": [
    "#making dataframe from series\n",
    "newmade_df = pd.DataFrame(simple_list,index=dates,columns=['data'])\n",
    "newmade_df"
   ]
  },
  {
   "cell_type": "code",
   "execution_count": 13,
   "id": "2c79de4a",
   "metadata": {},
   "outputs": [
    {
     "data": {
      "text/html": [
       "<div>\n",
       "<style scoped>\n",
       "    .dataframe tbody tr th:only-of-type {\n",
       "        vertical-align: middle;\n",
       "    }\n",
       "\n",
       "    .dataframe tbody tr th {\n",
       "        vertical-align: top;\n",
       "    }\n",
       "\n",
       "    .dataframe thead th {\n",
       "        text-align: right;\n",
       "    }\n",
       "</style>\n",
       "<table border=\"1\" class=\"dataframe\">\n",
       "  <thead>\n",
       "    <tr style=\"text-align: right;\">\n",
       "      <th></th>\n",
       "      <th>data</th>\n",
       "    </tr>\n",
       "  </thead>\n",
       "  <tbody>\n",
       "    <tr>\n",
       "      <th>2013-01-01</th>\n",
       "      <td>1</td>\n",
       "    </tr>\n",
       "    <tr>\n",
       "      <th>2013-01-02</th>\n",
       "      <td>56</td>\n",
       "    </tr>\n",
       "    <tr>\n",
       "      <th>2013-01-03</th>\n",
       "      <td>79</td>\n",
       "    </tr>\n",
       "  </tbody>\n",
       "</table>\n",
       "</div>"
      ],
      "text/plain": [
       "            data\n",
       "2013-01-01     1\n",
       "2013-01-02    56\n",
       "2013-01-03    79"
      ]
     },
     "execution_count": 13,
     "metadata": {},
     "output_type": "execute_result"
    }
   ],
   "source": [
    "newmade_df.loc[dates[0:3]]"
   ]
  },
  {
   "cell_type": "code",
   "execution_count": 14,
   "id": "912035a3",
   "metadata": {},
   "outputs": [
    {
     "data": {
      "text/plain": [
       "pandas.core.frame.DataFrame"
      ]
     },
     "execution_count": 14,
     "metadata": {},
     "output_type": "execute_result"
    }
   ],
   "source": [
    "type(made_df)"
   ]
  },
  {
   "cell_type": "code",
   "execution_count": 15,
   "id": "2073eecc",
   "metadata": {},
   "outputs": [
    {
     "data": {
      "text/plain": [
       "439"
      ]
     },
     "execution_count": 15,
     "metadata": {},
     "output_type": "execute_result"
    }
   ],
   "source": [
    "len(dir(made_df))"
   ]
  },
  {
   "cell_type": "code",
   "execution_count": 16,
   "id": "ef57a3a7",
   "metadata": {},
   "outputs": [
    {
     "data": {
      "text/html": [
       "<div>\n",
       "<style scoped>\n",
       "    .dataframe tbody tr th:only-of-type {\n",
       "        vertical-align: middle;\n",
       "    }\n",
       "\n",
       "    .dataframe tbody tr th {\n",
       "        vertical-align: top;\n",
       "    }\n",
       "\n",
       "    .dataframe thead th {\n",
       "        text-align: right;\n",
       "    }\n",
       "</style>\n",
       "<table border=\"1\" class=\"dataframe\">\n",
       "  <thead>\n",
       "    <tr style=\"text-align: right;\">\n",
       "      <th></th>\n",
       "      <th>A</th>\n",
       "    </tr>\n",
       "    <tr>\n",
       "      <th>dates</th>\n",
       "      <th></th>\n",
       "    </tr>\n",
       "  </thead>\n",
       "  <tbody>\n",
       "    <tr>\n",
       "      <th>2013-01-01</th>\n",
       "      <td>1</td>\n",
       "    </tr>\n",
       "    <tr>\n",
       "      <th>2013-01-02</th>\n",
       "      <td>56</td>\n",
       "    </tr>\n",
       "    <tr>\n",
       "      <th>2013-01-03</th>\n",
       "      <td>79</td>\n",
       "    </tr>\n",
       "    <tr>\n",
       "      <th>2013-01-04</th>\n",
       "      <td>862</td>\n",
       "    </tr>\n",
       "    <tr>\n",
       "      <th>2013-01-05</th>\n",
       "      <td>57</td>\n",
       "    </tr>\n",
       "  </tbody>\n",
       "</table>\n",
       "</div>"
      ],
      "text/plain": [
       "              A\n",
       "dates          \n",
       "2013-01-01    1\n",
       "2013-01-02   56\n",
       "2013-01-03   79\n",
       "2013-01-04  862\n",
       "2013-01-05   57"
      ]
     },
     "execution_count": 16,
     "metadata": {},
     "output_type": "execute_result"
    }
   ],
   "source": [
    "made_df.set_index(\"dates\",inplace=True)\n",
    "made_df"
   ]
  },
  {
   "cell_type": "code",
   "execution_count": 17,
   "id": "83159b43",
   "metadata": {},
   "outputs": [
    {
     "data": {
      "text/plain": [
       "DatetimeIndex(['2013-01-01', '2013-01-02', '2013-01-03', '2013-01-04',\n",
       "               '2013-01-05'],\n",
       "              dtype='datetime64[ns]', name='dates', freq=None)"
      ]
     },
     "execution_count": 17,
     "metadata": {},
     "output_type": "execute_result"
    }
   ],
   "source": [
    "made_df.index"
   ]
  },
  {
   "cell_type": "code",
   "execution_count": 18,
   "id": "926663d0",
   "metadata": {},
   "outputs": [],
   "source": [
    "made_df.reset_index(inplace=True)"
   ]
  },
  {
   "cell_type": "code",
   "execution_count": 19,
   "id": "d95d48d4",
   "metadata": {},
   "outputs": [
    {
     "data": {
      "text/html": [
       "<div>\n",
       "<style scoped>\n",
       "    .dataframe tbody tr th:only-of-type {\n",
       "        vertical-align: middle;\n",
       "    }\n",
       "\n",
       "    .dataframe tbody tr th {\n",
       "        vertical-align: top;\n",
       "    }\n",
       "\n",
       "    .dataframe thead th {\n",
       "        text-align: right;\n",
       "    }\n",
       "</style>\n",
       "<table border=\"1\" class=\"dataframe\">\n",
       "  <thead>\n",
       "    <tr style=\"text-align: right;\">\n",
       "      <th></th>\n",
       "      <th>dates</th>\n",
       "      <th>A</th>\n",
       "    </tr>\n",
       "  </thead>\n",
       "  <tbody>\n",
       "    <tr>\n",
       "      <th>0</th>\n",
       "      <td>2013-01-01</td>\n",
       "      <td>1</td>\n",
       "    </tr>\n",
       "    <tr>\n",
       "      <th>1</th>\n",
       "      <td>2013-01-02</td>\n",
       "      <td>56</td>\n",
       "    </tr>\n",
       "    <tr>\n",
       "      <th>2</th>\n",
       "      <td>2013-01-03</td>\n",
       "      <td>79</td>\n",
       "    </tr>\n",
       "    <tr>\n",
       "      <th>3</th>\n",
       "      <td>2013-01-04</td>\n",
       "      <td>862</td>\n",
       "    </tr>\n",
       "    <tr>\n",
       "      <th>4</th>\n",
       "      <td>2013-01-05</td>\n",
       "      <td>57</td>\n",
       "    </tr>\n",
       "  </tbody>\n",
       "</table>\n",
       "</div>"
      ],
      "text/plain": [
       "       dates    A\n",
       "0 2013-01-01    1\n",
       "1 2013-01-02   56\n",
       "2 2013-01-03   79\n",
       "3 2013-01-04  862\n",
       "4 2013-01-05   57"
      ]
     },
     "execution_count": 19,
     "metadata": {},
     "output_type": "execute_result"
    }
   ],
   "source": [
    "made_df"
   ]
  },
  {
   "cell_type": "code",
   "execution_count": 20,
   "id": "e807e83a",
   "metadata": {},
   "outputs": [
    {
     "data": {
      "text/html": [
       "<div>\n",
       "<style scoped>\n",
       "    .dataframe tbody tr th:only-of-type {\n",
       "        vertical-align: middle;\n",
       "    }\n",
       "\n",
       "    .dataframe tbody tr th {\n",
       "        vertical-align: top;\n",
       "    }\n",
       "\n",
       "    .dataframe thead th {\n",
       "        text-align: right;\n",
       "    }\n",
       "</style>\n",
       "<table border=\"1\" class=\"dataframe\">\n",
       "  <thead>\n",
       "    <tr style=\"text-align: right;\">\n",
       "      <th></th>\n",
       "      <th>col1</th>\n",
       "      <th>c2</th>\n",
       "    </tr>\n",
       "  </thead>\n",
       "  <tbody>\n",
       "    <tr>\n",
       "      <th>0</th>\n",
       "      <td>1</td>\n",
       "      <td>7</td>\n",
       "    </tr>\n",
       "    <tr>\n",
       "      <th>1</th>\n",
       "      <td>2</td>\n",
       "      <td>8</td>\n",
       "    </tr>\n",
       "    <tr>\n",
       "      <th>2</th>\n",
       "      <td>3</td>\n",
       "      <td>9</td>\n",
       "    </tr>\n",
       "    <tr>\n",
       "      <th>3</th>\n",
       "      <td>4</td>\n",
       "      <td>2</td>\n",
       "    </tr>\n",
       "    <tr>\n",
       "      <th>4</th>\n",
       "      <td>5</td>\n",
       "      <td>3</td>\n",
       "    </tr>\n",
       "  </tbody>\n",
       "</table>\n",
       "</div>"
      ],
      "text/plain": [
       "   col1  c2\n",
       "0     1   7\n",
       "1     2   8\n",
       "2     3   9\n",
       "3     4   2\n",
       "4     5   3"
      ]
     },
     "execution_count": 20,
     "metadata": {},
     "output_type": "execute_result"
    }
   ],
   "source": [
    "#detour about making the dataframes\n",
    "dict_for_df = dict({'col1':[1,2,3,4,5],'c2':[7,8,9,2,3]})\n",
    "df_dict = pd.DataFrame(dict_for_df)\n",
    "df_dict"
   ]
  },
  {
   "cell_type": "code",
   "execution_count": 22,
   "id": "2720a332",
   "metadata": {},
   "outputs": [
    {
     "data": {
      "text/html": [
       "<div>\n",
       "<style scoped>\n",
       "    .dataframe tbody tr th:only-of-type {\n",
       "        vertical-align: middle;\n",
       "    }\n",
       "\n",
       "    .dataframe tbody tr th {\n",
       "        vertical-align: top;\n",
       "    }\n",
       "\n",
       "    .dataframe thead th {\n",
       "        text-align: right;\n",
       "    }\n",
       "</style>\n",
       "<table border=\"1\" class=\"dataframe\">\n",
       "  <thead>\n",
       "    <tr style=\"text-align: right;\">\n",
       "      <th></th>\n",
       "      <th>col1</th>\n",
       "      <th>c2</th>\n",
       "    </tr>\n",
       "  </thead>\n",
       "  <tbody>\n",
       "    <tr>\n",
       "      <th>0</th>\n",
       "      <td>1</td>\n",
       "      <td>7</td>\n",
       "    </tr>\n",
       "    <tr>\n",
       "      <th>1</th>\n",
       "      <td>2</td>\n",
       "      <td>8</td>\n",
       "    </tr>\n",
       "    <tr>\n",
       "      <th>2</th>\n",
       "      <td>3</td>\n",
       "      <td>9</td>\n",
       "    </tr>\n",
       "    <tr>\n",
       "      <th>3</th>\n",
       "      <td>4</td>\n",
       "      <td>2</td>\n",
       "    </tr>\n",
       "    <tr>\n",
       "      <th>4</th>\n",
       "      <td>5</td>\n",
       "      <td>3</td>\n",
       "    </tr>\n",
       "  </tbody>\n",
       "</table>\n",
       "</div>"
      ],
      "text/plain": [
       "   col1  c2\n",
       "0     1   7\n",
       "1     2   8\n",
       "2     3   9\n",
       "3     4   2\n",
       "4     5   3"
      ]
     },
     "execution_count": 22,
     "metadata": {},
     "output_type": "execute_result"
    }
   ],
   "source": [
    "direct_df = pd.DataFrame({'col1':[1,2,3,4,5],'c2':[7,8,9,2,3]})\n",
    "direct_df"
   ]
  },
  {
   "cell_type": "code",
   "execution_count": 23,
   "id": "8bcf6fb4",
   "metadata": {},
   "outputs": [
    {
     "data": {
      "text/plain": [
       "0    1\n",
       "1    2\n",
       "2    3\n",
       "3    4\n",
       "4    5\n",
       "Name: col1, dtype: int64"
      ]
     },
     "execution_count": 23,
     "metadata": {},
     "output_type": "execute_result"
    }
   ],
   "source": [
    "direct_df['col1']"
   ]
  },
  {
   "cell_type": "code",
   "execution_count": 25,
   "id": "158e03f8",
   "metadata": {},
   "outputs": [
    {
     "data": {
      "text/plain": [
       "0    1\n",
       "1    2\n",
       "2    3\n",
       "3    4\n",
       "Name: col1, dtype: int64"
      ]
     },
     "execution_count": 25,
     "metadata": {},
     "output_type": "execute_result"
    }
   ],
   "source": [
    "direct_df.loc[:3,'col1']"
   ]
  },
  {
   "cell_type": "code",
   "execution_count": 27,
   "id": "33a9fde6",
   "metadata": {},
   "outputs": [
    {
     "data": {
      "text/html": [
       "<div>\n",
       "<style scoped>\n",
       "    .dataframe tbody tr th:only-of-type {\n",
       "        vertical-align: middle;\n",
       "    }\n",
       "\n",
       "    .dataframe tbody tr th {\n",
       "        vertical-align: top;\n",
       "    }\n",
       "\n",
       "    .dataframe thead th {\n",
       "        text-align: right;\n",
       "    }\n",
       "</style>\n",
       "<table border=\"1\" class=\"dataframe\">\n",
       "  <thead>\n",
       "    <tr style=\"text-align: right;\">\n",
       "      <th></th>\n",
       "      <th>col1</th>\n",
       "      <th>c2</th>\n",
       "    </tr>\n",
       "  </thead>\n",
       "  <tbody>\n",
       "    <tr>\n",
       "      <th>0</th>\n",
       "      <td>58682</td>\n",
       "      <td>58688</td>\n",
       "    </tr>\n",
       "    <tr>\n",
       "      <th>1</th>\n",
       "      <td>58683</td>\n",
       "      <td>58689</td>\n",
       "    </tr>\n",
       "    <tr>\n",
       "      <th>2</th>\n",
       "      <td>58684</td>\n",
       "      <td>58690</td>\n",
       "    </tr>\n",
       "    <tr>\n",
       "      <th>3</th>\n",
       "      <td>58685</td>\n",
       "      <td>58683</td>\n",
       "    </tr>\n",
       "    <tr>\n",
       "      <th>4</th>\n",
       "      <td>58686</td>\n",
       "      <td>58684</td>\n",
       "    </tr>\n",
       "  </tbody>\n",
       "</table>\n",
       "</div>"
      ],
      "text/plain": [
       "    col1     c2\n",
       "0  58682  58688\n",
       "1  58683  58689\n",
       "2  58684  58690\n",
       "3  58685  58683\n",
       "4  58686  58684"
      ]
     },
     "execution_count": 27,
     "metadata": {},
     "output_type": "execute_result"
    }
   ],
   "source": [
    "direct_df.add(58681)"
   ]
  },
  {
   "cell_type": "code",
   "execution_count": 28,
   "id": "d7da1f18",
   "metadata": {},
   "outputs": [
    {
     "data": {
      "text/html": [
       "<div>\n",
       "<style scoped>\n",
       "    .dataframe tbody tr th:only-of-type {\n",
       "        vertical-align: middle;\n",
       "    }\n",
       "\n",
       "    .dataframe tbody tr th {\n",
       "        vertical-align: top;\n",
       "    }\n",
       "\n",
       "    .dataframe thead th {\n",
       "        text-align: right;\n",
       "    }\n",
       "</style>\n",
       "<table border=\"1\" class=\"dataframe\">\n",
       "  <thead>\n",
       "    <tr style=\"text-align: right;\">\n",
       "      <th></th>\n",
       "      <th>0</th>\n",
       "      <th>1</th>\n",
       "      <th>2</th>\n",
       "      <th>3</th>\n",
       "      <th>4</th>\n",
       "    </tr>\n",
       "  </thead>\n",
       "  <tbody>\n",
       "    <tr>\n",
       "      <th>col1</th>\n",
       "      <td>1</td>\n",
       "      <td>2</td>\n",
       "      <td>3</td>\n",
       "      <td>4</td>\n",
       "      <td>5</td>\n",
       "    </tr>\n",
       "    <tr>\n",
       "      <th>c2</th>\n",
       "      <td>7</td>\n",
       "      <td>8</td>\n",
       "      <td>9</td>\n",
       "      <td>2</td>\n",
       "      <td>3</td>\n",
       "    </tr>\n",
       "  </tbody>\n",
       "</table>\n",
       "</div>"
      ],
      "text/plain": [
       "      0  1  2  3  4\n",
       "col1  1  2  3  4  5\n",
       "c2    7  8  9  2  3"
      ]
     },
     "execution_count": 28,
     "metadata": {},
     "output_type": "execute_result"
    }
   ],
   "source": [
    "direct_df.T"
   ]
  },
  {
   "cell_type": "markdown",
   "id": "e74ccc04",
   "metadata": {},
   "source": [
    "The value 0 identifies the rows,and 1 identifies the columns."
   ]
  },
  {
   "cell_type": "code",
   "execution_count": 29,
   "id": "1dcb52a7",
   "metadata": {},
   "outputs": [
    {
     "data": {
      "text/html": [
       "<div>\n",
       "<style scoped>\n",
       "    .dataframe tbody tr th:only-of-type {\n",
       "        vertical-align: middle;\n",
       "    }\n",
       "\n",
       "    .dataframe tbody tr th {\n",
       "        vertical-align: top;\n",
       "    }\n",
       "\n",
       "    .dataframe thead th {\n",
       "        text-align: right;\n",
       "    }\n",
       "</style>\n",
       "<table border=\"1\" class=\"dataframe\">\n",
       "  <thead>\n",
       "    <tr style=\"text-align: right;\">\n",
       "      <th></th>\n",
       "      <th>col1</th>\n",
       "      <th>c2</th>\n",
       "    </tr>\n",
       "  </thead>\n",
       "  <tbody>\n",
       "    <tr>\n",
       "      <th>4</th>\n",
       "      <td>5</td>\n",
       "      <td>3</td>\n",
       "    </tr>\n",
       "    <tr>\n",
       "      <th>3</th>\n",
       "      <td>4</td>\n",
       "      <td>2</td>\n",
       "    </tr>\n",
       "    <tr>\n",
       "      <th>2</th>\n",
       "      <td>3</td>\n",
       "      <td>9</td>\n",
       "    </tr>\n",
       "    <tr>\n",
       "      <th>1</th>\n",
       "      <td>2</td>\n",
       "      <td>8</td>\n",
       "    </tr>\n",
       "    <tr>\n",
       "      <th>0</th>\n",
       "      <td>1</td>\n",
       "      <td>7</td>\n",
       "    </tr>\n",
       "  </tbody>\n",
       "</table>\n",
       "</div>"
      ],
      "text/plain": [
       "   col1  c2\n",
       "4     5   3\n",
       "3     4   2\n",
       "2     3   9\n",
       "1     2   8\n",
       "0     1   7"
      ]
     },
     "execution_count": 29,
     "metadata": {},
     "output_type": "execute_result"
    }
   ],
   "source": [
    "direct_df.sort_index(axis=0,ascending=False)"
   ]
  },
  {
   "cell_type": "code",
   "execution_count": 30,
   "id": "904061eb",
   "metadata": {},
   "outputs": [
    {
     "data": {
      "text/html": [
       "<div>\n",
       "<style scoped>\n",
       "    .dataframe tbody tr th:only-of-type {\n",
       "        vertical-align: middle;\n",
       "    }\n",
       "\n",
       "    .dataframe tbody tr th {\n",
       "        vertical-align: top;\n",
       "    }\n",
       "\n",
       "    .dataframe thead th {\n",
       "        text-align: right;\n",
       "    }\n",
       "</style>\n",
       "<table border=\"1\" class=\"dataframe\">\n",
       "  <thead>\n",
       "    <tr style=\"text-align: right;\">\n",
       "      <th></th>\n",
       "      <th>col1</th>\n",
       "      <th>c2</th>\n",
       "    </tr>\n",
       "  </thead>\n",
       "  <tbody>\n",
       "    <tr>\n",
       "      <th>3</th>\n",
       "      <td>4</td>\n",
       "      <td>2</td>\n",
       "    </tr>\n",
       "    <tr>\n",
       "      <th>4</th>\n",
       "      <td>5</td>\n",
       "      <td>3</td>\n",
       "    </tr>\n",
       "    <tr>\n",
       "      <th>0</th>\n",
       "      <td>1</td>\n",
       "      <td>7</td>\n",
       "    </tr>\n",
       "    <tr>\n",
       "      <th>1</th>\n",
       "      <td>2</td>\n",
       "      <td>8</td>\n",
       "    </tr>\n",
       "    <tr>\n",
       "      <th>2</th>\n",
       "      <td>3</td>\n",
       "      <td>9</td>\n",
       "    </tr>\n",
       "  </tbody>\n",
       "</table>\n",
       "</div>"
      ],
      "text/plain": [
       "   col1  c2\n",
       "3     4   2\n",
       "4     5   3\n",
       "0     1   7\n",
       "1     2   8\n",
       "2     3   9"
      ]
     },
     "execution_count": 30,
     "metadata": {},
     "output_type": "execute_result"
    }
   ],
   "source": [
    "direct_df.sort_values(by='c2',ascending=True)"
   ]
  },
  {
   "cell_type": "code",
   "execution_count": 27,
   "id": "61e41558",
   "metadata": {},
   "outputs": [],
   "source": [
    "honey_pot_data = pd.read_csv('AWS_Honeypot_marx-geo.csv')"
   ]
  },
  {
   "cell_type": "code",
   "execution_count": 16,
   "id": "9c9c72f4",
   "metadata": {},
   "outputs": [
    {
     "data": {
      "text/plain": [
       "pandas.core.frame.DataFrame"
      ]
     },
     "execution_count": 16,
     "metadata": {},
     "output_type": "execute_result"
    }
   ],
   "source": [
    "type(honey_pot_data)"
   ]
  },
  {
   "cell_type": "code",
   "execution_count": 19,
   "id": "19c06db7",
   "metadata": {},
   "outputs": [
    {
     "data": {
      "text/html": [
       "<div>\n",
       "<style scoped>\n",
       "    .dataframe tbody tr th:only-of-type {\n",
       "        vertical-align: middle;\n",
       "    }\n",
       "\n",
       "    .dataframe tbody tr th {\n",
       "        vertical-align: top;\n",
       "    }\n",
       "\n",
       "    .dataframe thead th {\n",
       "        text-align: right;\n",
       "    }\n",
       "</style>\n",
       "<table border=\"1\" class=\"dataframe\">\n",
       "  <thead>\n",
       "    <tr style=\"text-align: right;\">\n",
       "      <th></th>\n",
       "      <th>datetime</th>\n",
       "      <th>host</th>\n",
       "      <th>src</th>\n",
       "      <th>proto</th>\n",
       "      <th>type</th>\n",
       "      <th>spt</th>\n",
       "      <th>dpt</th>\n",
       "      <th>srcstr</th>\n",
       "      <th>cc</th>\n",
       "      <th>country</th>\n",
       "      <th>locale</th>\n",
       "      <th>localeabbr</th>\n",
       "      <th>postalcode</th>\n",
       "      <th>latitude</th>\n",
       "      <th>longitude</th>\n",
       "      <th>Unnamed: 15</th>\n",
       "    </tr>\n",
       "  </thead>\n",
       "  <tbody>\n",
       "    <tr>\n",
       "      <th>0</th>\n",
       "      <td>3/3/13 21:53</td>\n",
       "      <td>groucho-oregon</td>\n",
       "      <td>1032051418</td>\n",
       "      <td>TCP</td>\n",
       "      <td>NaN</td>\n",
       "      <td>6000.0</td>\n",
       "      <td>1433.0</td>\n",
       "      <td>61.131.218.218</td>\n",
       "      <td>CN</td>\n",
       "      <td>China</td>\n",
       "      <td>Jiangxi Sheng</td>\n",
       "      <td>36</td>\n",
       "      <td>NaN</td>\n",
       "      <td>28.55</td>\n",
       "      <td>115.9333</td>\n",
       "      <td>NaN</td>\n",
       "    </tr>\n",
       "    <tr>\n",
       "      <th>1</th>\n",
       "      <td>3/3/13 21:57</td>\n",
       "      <td>groucho-oregon</td>\n",
       "      <td>1347834426</td>\n",
       "      <td>UDP</td>\n",
       "      <td>NaN</td>\n",
       "      <td>5270.0</td>\n",
       "      <td>5060.0</td>\n",
       "      <td>80.86.82.58</td>\n",
       "      <td>DE</td>\n",
       "      <td>Germany</td>\n",
       "      <td>NaN</td>\n",
       "      <td>NaN</td>\n",
       "      <td>NaN</td>\n",
       "      <td>51.00</td>\n",
       "      <td>9.0000</td>\n",
       "      <td>NaN</td>\n",
       "    </tr>\n",
       "  </tbody>\n",
       "</table>\n",
       "</div>"
      ],
      "text/plain": [
       "       datetime            host         src proto  type     spt     dpt  \\\n",
       "0  3/3/13 21:53  groucho-oregon  1032051418   TCP   NaN  6000.0  1433.0   \n",
       "1  3/3/13 21:57  groucho-oregon  1347834426   UDP   NaN  5270.0  5060.0   \n",
       "\n",
       "           srcstr  cc  country         locale localeabbr postalcode  latitude  \\\n",
       "0  61.131.218.218  CN    China  Jiangxi Sheng         36        NaN     28.55   \n",
       "1     80.86.82.58  DE  Germany            NaN        NaN        NaN     51.00   \n",
       "\n",
       "   longitude  Unnamed: 15  \n",
       "0   115.9333          NaN  \n",
       "1     9.0000          NaN  "
      ]
     },
     "execution_count": 19,
     "metadata": {},
     "output_type": "execute_result"
    }
   ],
   "source": [
    "honey_pot_data.head(2)"
   ]
  },
  {
   "cell_type": "code",
   "execution_count": 21,
   "id": "cfbbbb0f",
   "metadata": {},
   "outputs": [
    {
     "data": {
      "text/plain": [
       "Index(['datetime', 'host', 'src', 'proto', 'type', 'spt', 'dpt', 'srcstr',\n",
       "       'cc', 'country', 'locale', 'localeabbr', 'postalcode', 'latitude',\n",
       "       'longitude', 'Unnamed: 15'],\n",
       "      dtype='object')"
      ]
     },
     "execution_count": 21,
     "metadata": {},
     "output_type": "execute_result"
    }
   ],
   "source": [
    "honey_pot_data.columns"
   ]
  },
  {
   "cell_type": "code",
   "execution_count": 24,
   "id": "0a3a5f06",
   "metadata": {},
   "outputs": [
    {
     "data": {
      "text/plain": [
       "pandas.core.indexes.base.Index"
      ]
     },
     "execution_count": 24,
     "metadata": {},
     "output_type": "execute_result"
    }
   ],
   "source": [
    "type(honey_pot_data.columns)"
   ]
  },
  {
   "cell_type": "markdown",
   "id": "b0fd310f",
   "metadata": {},
   "source": [
    "honey_pot_data.columns = ['datetime_new', 'host', 'src', 'proto', 'type', 'spt', 'dpt', 'srcstr',\n",
    "       'cc', 'country', 'location', 'locale_abbr', 'postalcode', 'latitude',\n",
    "       'longitude', 'unknown']"
   ]
  },
  {
   "cell_type": "code",
   "execution_count": 22,
   "id": "85b84580",
   "metadata": {},
   "outputs": [
    {
     "data": {
      "text/plain": [
       "(451581, 16)"
      ]
     },
     "execution_count": 22,
     "metadata": {},
     "output_type": "execute_result"
    }
   ],
   "source": [
    "honey_pot_data.shape"
   ]
  },
  {
   "cell_type": "code",
   "execution_count": 23,
   "id": "ab6c3079",
   "metadata": {},
   "outputs": [
    {
     "data": {
      "text/plain": [
       "tuple"
      ]
     },
     "execution_count": 23,
     "metadata": {},
     "output_type": "execute_result"
    }
   ],
   "source": [
    "type(honey_pot_data.shape)"
   ]
  },
  {
   "cell_type": "code",
   "execution_count": 28,
   "id": "14c085d7",
   "metadata": {},
   "outputs": [
    {
     "data": {
      "text/html": [
       "<div>\n",
       "<style scoped>\n",
       "    .dataframe tbody tr th:only-of-type {\n",
       "        vertical-align: middle;\n",
       "    }\n",
       "\n",
       "    .dataframe tbody tr th {\n",
       "        vertical-align: top;\n",
       "    }\n",
       "\n",
       "    .dataframe thead th {\n",
       "        text-align: right;\n",
       "    }\n",
       "</style>\n",
       "<table border=\"1\" class=\"dataframe\">\n",
       "  <thead>\n",
       "    <tr style=\"text-align: right;\">\n",
       "      <th></th>\n",
       "      <th>datetime</th>\n",
       "      <th>host</th>\n",
       "      <th>src</th>\n",
       "      <th>proto</th>\n",
       "      <th>type</th>\n",
       "      <th>spt</th>\n",
       "      <th>dpt</th>\n",
       "      <th>srcstr</th>\n",
       "      <th>cc</th>\n",
       "      <th>country</th>\n",
       "      <th>locale</th>\n",
       "      <th>localeabbr</th>\n",
       "      <th>postalcode</th>\n",
       "      <th>latitude</th>\n",
       "      <th>longitude</th>\n",
       "      <th>Unnamed: 15</th>\n",
       "    </tr>\n",
       "  </thead>\n",
       "  <tbody>\n",
       "    <tr>\n",
       "      <th>count</th>\n",
       "      <td>451581</td>\n",
       "      <td>451581</td>\n",
       "      <td>4.515810e+05</td>\n",
       "      <td>451581</td>\n",
       "      <td>44811.000000</td>\n",
       "      <td>406770.000000</td>\n",
       "      <td>406770.000000</td>\n",
       "      <td>451581</td>\n",
       "      <td>447985</td>\n",
       "      <td>447947</td>\n",
       "      <td>342112</td>\n",
       "      <td>331705</td>\n",
       "      <td>86478</td>\n",
       "      <td>448112.000000</td>\n",
       "      <td>448153.000000</td>\n",
       "      <td>83.000000</td>\n",
       "    </tr>\n",
       "    <tr>\n",
       "      <th>unique</th>\n",
       "      <td>185118</td>\n",
       "      <td>9</td>\n",
       "      <td>NaN</td>\n",
       "      <td>3</td>\n",
       "      <td>NaN</td>\n",
       "      <td>NaN</td>\n",
       "      <td>NaN</td>\n",
       "      <td>69602</td>\n",
       "      <td>176</td>\n",
       "      <td>177</td>\n",
       "      <td>1179</td>\n",
       "      <td>612</td>\n",
       "      <td>2777</td>\n",
       "      <td>NaN</td>\n",
       "      <td>NaN</td>\n",
       "      <td>NaN</td>\n",
       "    </tr>\n",
       "    <tr>\n",
       "      <th>top</th>\n",
       "      <td>7/24/13 7:47</td>\n",
       "      <td>groucho-tokyo</td>\n",
       "      <td>NaN</td>\n",
       "      <td>TCP</td>\n",
       "      <td>NaN</td>\n",
       "      <td>NaN</td>\n",
       "      <td>NaN</td>\n",
       "      <td>175.146.199.252</td>\n",
       "      <td>CN</td>\n",
       "      <td>China</td>\n",
       "      <td>California</td>\n",
       "      <td>CA</td>\n",
       "      <td>91789</td>\n",
       "      <td>NaN</td>\n",
       "      <td>NaN</td>\n",
       "      <td>NaN</td>\n",
       "    </tr>\n",
       "    <tr>\n",
       "      <th>freq</th>\n",
       "      <td>2314</td>\n",
       "      <td>126189</td>\n",
       "      <td>NaN</td>\n",
       "      <td>327991</td>\n",
       "      <td>NaN</td>\n",
       "      <td>NaN</td>\n",
       "      <td>NaN</td>\n",
       "      <td>18472</td>\n",
       "      <td>191394</td>\n",
       "      <td>191394</td>\n",
       "      <td>37266</td>\n",
       "      <td>37278</td>\n",
       "      <td>9305</td>\n",
       "      <td>NaN</td>\n",
       "      <td>NaN</td>\n",
       "      <td>NaN</td>\n",
       "    </tr>\n",
       "    <tr>\n",
       "      <th>mean</th>\n",
       "      <td>NaN</td>\n",
       "      <td>NaN</td>\n",
       "      <td>2.154902e+09</td>\n",
       "      <td>NaN</td>\n",
       "      <td>7.514896</td>\n",
       "      <td>18685.461494</td>\n",
       "      <td>6684.258212</td>\n",
       "      <td>NaN</td>\n",
       "      <td>NaN</td>\n",
       "      <td>NaN</td>\n",
       "      <td>NaN</td>\n",
       "      <td>NaN</td>\n",
       "      <td>NaN</td>\n",
       "      <td>36.214115</td>\n",
       "      <td>48.751751</td>\n",
       "      <td>-77.027536</td>\n",
       "    </tr>\n",
       "    <tr>\n",
       "      <th>std</th>\n",
       "      <td>NaN</td>\n",
       "      <td>NaN</td>\n",
       "      <td>1.081011e+09</td>\n",
       "      <td>NaN</td>\n",
       "      <td>1.799866</td>\n",
       "      <td>19290.141746</td>\n",
       "      <td>14032.839799</td>\n",
       "      <td>NaN</td>\n",
       "      <td>NaN</td>\n",
       "      <td>NaN</td>\n",
       "      <td>NaN</td>\n",
       "      <td>NaN</td>\n",
       "      <td>NaN</td>\n",
       "      <td>194.251441</td>\n",
       "      <td>91.774739</td>\n",
       "      <td>0.011942</td>\n",
       "    </tr>\n",
       "    <tr>\n",
       "      <th>min</th>\n",
       "      <td>NaN</td>\n",
       "      <td>NaN</td>\n",
       "      <td>1.677725e+07</td>\n",
       "      <td>NaN</td>\n",
       "      <td>0.000000</td>\n",
       "      <td>0.000000</td>\n",
       "      <td>0.000000</td>\n",
       "      <td>NaN</td>\n",
       "      <td>NaN</td>\n",
       "      <td>NaN</td>\n",
       "      <td>NaN</td>\n",
       "      <td>NaN</td>\n",
       "      <td>NaN</td>\n",
       "      <td>-43.533300</td>\n",
       "      <td>-175.000000</td>\n",
       "      <td>-77.059600</td>\n",
       "    </tr>\n",
       "    <tr>\n",
       "      <th>25%</th>\n",
       "      <td>NaN</td>\n",
       "      <td>NaN</td>\n",
       "      <td>1.169129e+09</td>\n",
       "      <td>NaN</td>\n",
       "      <td>8.000000</td>\n",
       "      <td>6000.000000</td>\n",
       "      <td>445.000000</td>\n",
       "      <td>NaN</td>\n",
       "      <td>NaN</td>\n",
       "      <td>NaN</td>\n",
       "      <td>NaN</td>\n",
       "      <td>NaN</td>\n",
       "      <td>NaN</td>\n",
       "      <td>30.666700</td>\n",
       "      <td>-4.000000</td>\n",
       "      <td>-77.036400</td>\n",
       "    </tr>\n",
       "    <tr>\n",
       "      <th>50%</th>\n",
       "      <td>NaN</td>\n",
       "      <td>NaN</td>\n",
       "      <td>2.031191e+09</td>\n",
       "      <td>NaN</td>\n",
       "      <td>8.000000</td>\n",
       "      <td>6000.000000</td>\n",
       "      <td>1433.000000</td>\n",
       "      <td>NaN</td>\n",
       "      <td>NaN</td>\n",
       "      <td>NaN</td>\n",
       "      <td>NaN</td>\n",
       "      <td>NaN</td>\n",
       "      <td>NaN</td>\n",
       "      <td>35.685000</td>\n",
       "      <td>106.000000</td>\n",
       "      <td>-77.036400</td>\n",
       "    </tr>\n",
       "    <tr>\n",
       "      <th>75%</th>\n",
       "      <td>NaN</td>\n",
       "      <td>NaN</td>\n",
       "      <td>3.164988e+09</td>\n",
       "      <td>NaN</td>\n",
       "      <td>8.000000</td>\n",
       "      <td>33461.000000</td>\n",
       "      <td>3389.000000</td>\n",
       "      <td>NaN</td>\n",
       "      <td>NaN</td>\n",
       "      <td>NaN</td>\n",
       "      <td>NaN</td>\n",
       "      <td>NaN</td>\n",
       "      <td>NaN</td>\n",
       "      <td>40.455500</td>\n",
       "      <td>118.777800</td>\n",
       "      <td>-77.014600</td>\n",
       "    </tr>\n",
       "    <tr>\n",
       "      <th>max</th>\n",
       "      <td>NaN</td>\n",
       "      <td>NaN</td>\n",
       "      <td>3.758094e+09</td>\n",
       "      <td>NaN</td>\n",
       "      <td>13.000000</td>\n",
       "      <td>65535.000000</td>\n",
       "      <td>65500.000000</td>\n",
       "      <td>NaN</td>\n",
       "      <td>NaN</td>\n",
       "      <td>NaN</td>\n",
       "      <td>NaN</td>\n",
       "      <td>NaN</td>\n",
       "      <td>NaN</td>\n",
       "      <td>20076.000000</td>\n",
       "      <td>178.416700</td>\n",
       "      <td>-77.014600</td>\n",
       "    </tr>\n",
       "  </tbody>\n",
       "</table>\n",
       "</div>"
      ],
      "text/plain": [
       "            datetime           host           src   proto          type  \\\n",
       "count         451581         451581  4.515810e+05  451581  44811.000000   \n",
       "unique        185118              9           NaN       3           NaN   \n",
       "top     7/24/13 7:47  groucho-tokyo           NaN     TCP           NaN   \n",
       "freq            2314         126189           NaN  327991           NaN   \n",
       "mean             NaN            NaN  2.154902e+09     NaN      7.514896   \n",
       "std              NaN            NaN  1.081011e+09     NaN      1.799866   \n",
       "min              NaN            NaN  1.677725e+07     NaN      0.000000   \n",
       "25%              NaN            NaN  1.169129e+09     NaN      8.000000   \n",
       "50%              NaN            NaN  2.031191e+09     NaN      8.000000   \n",
       "75%              NaN            NaN  3.164988e+09     NaN      8.000000   \n",
       "max              NaN            NaN  3.758094e+09     NaN     13.000000   \n",
       "\n",
       "                  spt            dpt           srcstr      cc country  \\\n",
       "count   406770.000000  406770.000000           451581  447985  447947   \n",
       "unique            NaN            NaN            69602     176     177   \n",
       "top               NaN            NaN  175.146.199.252      CN   China   \n",
       "freq              NaN            NaN            18472  191394  191394   \n",
       "mean     18685.461494    6684.258212              NaN     NaN     NaN   \n",
       "std      19290.141746   14032.839799              NaN     NaN     NaN   \n",
       "min          0.000000       0.000000              NaN     NaN     NaN   \n",
       "25%       6000.000000     445.000000              NaN     NaN     NaN   \n",
       "50%       6000.000000    1433.000000              NaN     NaN     NaN   \n",
       "75%      33461.000000    3389.000000              NaN     NaN     NaN   \n",
       "max      65535.000000   65500.000000              NaN     NaN     NaN   \n",
       "\n",
       "            locale localeabbr postalcode       latitude      longitude  \\\n",
       "count       342112     331705      86478  448112.000000  448153.000000   \n",
       "unique        1179        612       2777            NaN            NaN   \n",
       "top     California         CA      91789            NaN            NaN   \n",
       "freq         37266      37278       9305            NaN            NaN   \n",
       "mean           NaN        NaN        NaN      36.214115      48.751751   \n",
       "std            NaN        NaN        NaN     194.251441      91.774739   \n",
       "min            NaN        NaN        NaN     -43.533300    -175.000000   \n",
       "25%            NaN        NaN        NaN      30.666700      -4.000000   \n",
       "50%            NaN        NaN        NaN      35.685000     106.000000   \n",
       "75%            NaN        NaN        NaN      40.455500     118.777800   \n",
       "max            NaN        NaN        NaN   20076.000000     178.416700   \n",
       "\n",
       "        Unnamed: 15  \n",
       "count     83.000000  \n",
       "unique          NaN  \n",
       "top             NaN  \n",
       "freq            NaN  \n",
       "mean     -77.027536  \n",
       "std        0.011942  \n",
       "min      -77.059600  \n",
       "25%      -77.036400  \n",
       "50%      -77.036400  \n",
       "75%      -77.014600  \n",
       "max      -77.014600  "
      ]
     },
     "execution_count": 28,
     "metadata": {},
     "output_type": "execute_result"
    }
   ],
   "source": [
    "honey_pot_data.describe(include='all')"
   ]
  },
  {
   "cell_type": "code",
   "execution_count": 29,
   "id": "39539863",
   "metadata": {},
   "outputs": [
    {
     "name": "stdout",
     "output_type": "stream",
     "text": [
      "<class 'pandas.core.frame.DataFrame'>\n",
      "RangeIndex: 451581 entries, 0 to 451580\n",
      "Data columns (total 16 columns):\n",
      " #   Column       Non-Null Count   Dtype  \n",
      "---  ------       --------------   -----  \n",
      " 0   datetime     451581 non-null  object \n",
      " 1   host         451581 non-null  object \n",
      " 2   src          451581 non-null  int64  \n",
      " 3   proto        451581 non-null  object \n",
      " 4   type         44811 non-null   float64\n",
      " 5   spt          406770 non-null  float64\n",
      " 6   dpt          406770 non-null  float64\n",
      " 7   srcstr       451581 non-null  object \n",
      " 8   cc           447985 non-null  object \n",
      " 9   country      447947 non-null  object \n",
      " 10  locale       342112 non-null  object \n",
      " 11  localeabbr   331705 non-null  object \n",
      " 12  postalcode   86478 non-null   object \n",
      " 13  latitude     448112 non-null  float64\n",
      " 14  longitude    448153 non-null  float64\n",
      " 15  Unnamed: 15  83 non-null      float64\n",
      "dtypes: float64(6), int64(1), object(9)\n",
      "memory usage: 55.1+ MB\n"
     ]
    }
   ],
   "source": [
    "honey_pot_data.info()"
   ]
  },
  {
   "cell_type": "code",
   "execution_count": 30,
   "id": "52bdc147",
   "metadata": {},
   "outputs": [
    {
     "data": {
      "text/html": [
       "<div>\n",
       "<style scoped>\n",
       "    .dataframe tbody tr th:only-of-type {\n",
       "        vertical-align: middle;\n",
       "    }\n",
       "\n",
       "    .dataframe tbody tr th {\n",
       "        vertical-align: top;\n",
       "    }\n",
       "\n",
       "    .dataframe thead th {\n",
       "        text-align: right;\n",
       "    }\n",
       "</style>\n",
       "<table border=\"1\" class=\"dataframe\">\n",
       "  <thead>\n",
       "    <tr style=\"text-align: right;\">\n",
       "      <th></th>\n",
       "      <th>datetime</th>\n",
       "      <th>host</th>\n",
       "      <th>src</th>\n",
       "      <th>proto</th>\n",
       "      <th>type</th>\n",
       "      <th>spt</th>\n",
       "      <th>dpt</th>\n",
       "      <th>srcstr</th>\n",
       "      <th>cc</th>\n",
       "      <th>country</th>\n",
       "      <th>locale</th>\n",
       "      <th>localeabbr</th>\n",
       "      <th>postalcode</th>\n",
       "      <th>latitude</th>\n",
       "      <th>longitude</th>\n",
       "      <th>Unnamed: 15</th>\n",
       "    </tr>\n",
       "  </thead>\n",
       "  <tbody>\n",
       "    <tr>\n",
       "      <th>0</th>\n",
       "      <td>3/3/13 21:53</td>\n",
       "      <td>groucho-oregon</td>\n",
       "      <td>1032051418</td>\n",
       "      <td>TCP</td>\n",
       "      <td>NaN</td>\n",
       "      <td>6000.0</td>\n",
       "      <td>1433.0</td>\n",
       "      <td>61.131.218.218</td>\n",
       "      <td>CN</td>\n",
       "      <td>China</td>\n",
       "      <td>Jiangxi Sheng</td>\n",
       "      <td>36</td>\n",
       "      <td>NaN</td>\n",
       "      <td>28.55</td>\n",
       "      <td>115.9333</td>\n",
       "      <td>NaN</td>\n",
       "    </tr>\n",
       "    <tr>\n",
       "      <th>1</th>\n",
       "      <td>3/3/13 21:57</td>\n",
       "      <td>groucho-oregon</td>\n",
       "      <td>1347834426</td>\n",
       "      <td>UDP</td>\n",
       "      <td>NaN</td>\n",
       "      <td>5270.0</td>\n",
       "      <td>5060.0</td>\n",
       "      <td>80.86.82.58</td>\n",
       "      <td>DE</td>\n",
       "      <td>Germany</td>\n",
       "      <td>NaN</td>\n",
       "      <td>NaN</td>\n",
       "      <td>NaN</td>\n",
       "      <td>51.00</td>\n",
       "      <td>9.0000</td>\n",
       "      <td>NaN</td>\n",
       "    </tr>\n",
       "  </tbody>\n",
       "</table>\n",
       "</div>"
      ],
      "text/plain": [
       "       datetime            host         src proto  type     spt     dpt  \\\n",
       "0  3/3/13 21:53  groucho-oregon  1032051418   TCP   NaN  6000.0  1433.0   \n",
       "1  3/3/13 21:57  groucho-oregon  1347834426   UDP   NaN  5270.0  5060.0   \n",
       "\n",
       "           srcstr  cc  country         locale localeabbr postalcode  latitude  \\\n",
       "0  61.131.218.218  CN    China  Jiangxi Sheng         36        NaN     28.55   \n",
       "1     80.86.82.58  DE  Germany            NaN        NaN        NaN     51.00   \n",
       "\n",
       "   longitude  Unnamed: 15  \n",
       "0   115.9333          NaN  \n",
       "1     9.0000          NaN  "
      ]
     },
     "execution_count": 30,
     "metadata": {},
     "output_type": "execute_result"
    }
   ],
   "source": [
    "honey_pot_data.head(2)"
   ]
  },
  {
   "cell_type": "code",
   "execution_count": 31,
   "id": "67837576",
   "metadata": {},
   "outputs": [
    {
     "data": {
      "text/html": [
       "<div>\n",
       "<style scoped>\n",
       "    .dataframe tbody tr th:only-of-type {\n",
       "        vertical-align: middle;\n",
       "    }\n",
       "\n",
       "    .dataframe tbody tr th {\n",
       "        vertical-align: top;\n",
       "    }\n",
       "\n",
       "    .dataframe thead th {\n",
       "        text-align: right;\n",
       "    }\n",
       "</style>\n",
       "<table border=\"1\" class=\"dataframe\">\n",
       "  <thead>\n",
       "    <tr style=\"text-align: right;\">\n",
       "      <th></th>\n",
       "      <th>datetime</th>\n",
       "      <th>host</th>\n",
       "      <th>src</th>\n",
       "      <th>proto</th>\n",
       "      <th>type</th>\n",
       "      <th>spt</th>\n",
       "      <th>dpt</th>\n",
       "      <th>srcstr</th>\n",
       "      <th>cc</th>\n",
       "      <th>country</th>\n",
       "      <th>locale</th>\n",
       "      <th>localeabbr</th>\n",
       "      <th>postalcode</th>\n",
       "      <th>latitude</th>\n",
       "      <th>longitude</th>\n",
       "      <th>Unnamed: 15</th>\n",
       "    </tr>\n",
       "  </thead>\n",
       "  <tbody>\n",
       "    <tr>\n",
       "      <th>451579</th>\n",
       "      <td>9/8/13 5:55</td>\n",
       "      <td>groucho-tokyo</td>\n",
       "      <td>28142724</td>\n",
       "      <td>TCP</td>\n",
       "      <td>NaN</td>\n",
       "      <td>3555.0</td>\n",
       "      <td>445.0</td>\n",
       "      <td>1.173.108.132</td>\n",
       "      <td>TW</td>\n",
       "      <td>Taiwan</td>\n",
       "      <td>Taipei</td>\n",
       "      <td>NaN</td>\n",
       "      <td>NaN</td>\n",
       "      <td>25.0392</td>\n",
       "      <td>121.525</td>\n",
       "      <td>NaN</td>\n",
       "    </tr>\n",
       "    <tr>\n",
       "      <th>451580</th>\n",
       "      <td>9/8/13 5:55</td>\n",
       "      <td>groucho-tokyo</td>\n",
       "      <td>28142724</td>\n",
       "      <td>TCP</td>\n",
       "      <td>NaN</td>\n",
       "      <td>3555.0</td>\n",
       "      <td>445.0</td>\n",
       "      <td>1.173.108.132</td>\n",
       "      <td>TW</td>\n",
       "      <td>Taiwan</td>\n",
       "      <td>Taipei</td>\n",
       "      <td>NaN</td>\n",
       "      <td>NaN</td>\n",
       "      <td>25.0392</td>\n",
       "      <td>121.525</td>\n",
       "      <td>NaN</td>\n",
       "    </tr>\n",
       "  </tbody>\n",
       "</table>\n",
       "</div>"
      ],
      "text/plain": [
       "           datetime           host       src proto  type     spt    dpt  \\\n",
       "451579  9/8/13 5:55  groucho-tokyo  28142724   TCP   NaN  3555.0  445.0   \n",
       "451580  9/8/13 5:55  groucho-tokyo  28142724   TCP   NaN  3555.0  445.0   \n",
       "\n",
       "               srcstr  cc country  locale localeabbr postalcode  latitude  \\\n",
       "451579  1.173.108.132  TW  Taiwan  Taipei        NaN        NaN   25.0392   \n",
       "451580  1.173.108.132  TW  Taiwan  Taipei        NaN        NaN   25.0392   \n",
       "\n",
       "        longitude  Unnamed: 15  \n",
       "451579    121.525          NaN  \n",
       "451580    121.525          NaN  "
      ]
     },
     "execution_count": 31,
     "metadata": {},
     "output_type": "execute_result"
    }
   ],
   "source": [
    "honey_pot_data.tail(2)"
   ]
  },
  {
   "cell_type": "code",
   "execution_count": 28,
   "id": "ecdb2c77",
   "metadata": {},
   "outputs": [
    {
     "data": {
      "text/html": [
       "<div>\n",
       "<style scoped>\n",
       "    .dataframe tbody tr th:only-of-type {\n",
       "        vertical-align: middle;\n",
       "    }\n",
       "\n",
       "    .dataframe tbody tr th {\n",
       "        vertical-align: top;\n",
       "    }\n",
       "\n",
       "    .dataframe thead th {\n",
       "        text-align: right;\n",
       "    }\n",
       "</style>\n",
       "<table border=\"1\" class=\"dataframe\">\n",
       "  <thead>\n",
       "    <tr style=\"text-align: right;\">\n",
       "      <th></th>\n",
       "      <th>datetime</th>\n",
       "      <th>host</th>\n",
       "      <th>src</th>\n",
       "      <th>proto</th>\n",
       "      <th>type</th>\n",
       "      <th>spt</th>\n",
       "      <th>dpt</th>\n",
       "      <th>srcstr</th>\n",
       "      <th>cc</th>\n",
       "      <th>country</th>\n",
       "      <th>locale</th>\n",
       "      <th>localeabbr</th>\n",
       "      <th>postalcode</th>\n",
       "      <th>latitude</th>\n",
       "      <th>longitude</th>\n",
       "      <th>Unnamed: 15</th>\n",
       "    </tr>\n",
       "  </thead>\n",
       "  <tbody>\n",
       "    <tr>\n",
       "      <th>30</th>\n",
       "      <td>3/3/13 22:45</td>\n",
       "      <td>groucho-oregon</td>\n",
       "      <td>2073368071</td>\n",
       "      <td>TCP</td>\n",
       "      <td>NaN</td>\n",
       "      <td>6000.0</td>\n",
       "      <td>1433.0</td>\n",
       "      <td>123.149.22.7</td>\n",
       "      <td>CN</td>\n",
       "      <td>China</td>\n",
       "      <td>Henan Sheng</td>\n",
       "      <td>41</td>\n",
       "      <td>NaN</td>\n",
       "      <td>34.6836</td>\n",
       "      <td>113.5325</td>\n",
       "      <td>NaN</td>\n",
       "    </tr>\n",
       "    <tr>\n",
       "      <th>31</th>\n",
       "      <td>3/3/13 22:47</td>\n",
       "      <td>groucho-tokyo</td>\n",
       "      <td>1412364802</td>\n",
       "      <td>TCP</td>\n",
       "      <td>NaN</td>\n",
       "      <td>4042.0</td>\n",
       "      <td>445.0</td>\n",
       "      <td>84.46.250.2</td>\n",
       "      <td>LT</td>\n",
       "      <td>Lithuania</td>\n",
       "      <td>NaN</td>\n",
       "      <td>NaN</td>\n",
       "      <td>NaN</td>\n",
       "      <td>56.0000</td>\n",
       "      <td>24.0000</td>\n",
       "      <td>NaN</td>\n",
       "    </tr>\n",
       "    <tr>\n",
       "      <th>32</th>\n",
       "      <td>3/3/13 22:47</td>\n",
       "      <td>groucho-tokyo</td>\n",
       "      <td>1412364802</td>\n",
       "      <td>TCP</td>\n",
       "      <td>NaN</td>\n",
       "      <td>4042.0</td>\n",
       "      <td>445.0</td>\n",
       "      <td>84.46.250.2</td>\n",
       "      <td>LT</td>\n",
       "      <td>Lithuania</td>\n",
       "      <td>NaN</td>\n",
       "      <td>NaN</td>\n",
       "      <td>NaN</td>\n",
       "      <td>56.0000</td>\n",
       "      <td>24.0000</td>\n",
       "      <td>NaN</td>\n",
       "    </tr>\n",
       "    <tr>\n",
       "      <th>33</th>\n",
       "      <td>3/3/13 22:48</td>\n",
       "      <td>groucho-oregon</td>\n",
       "      <td>1989170793</td>\n",
       "      <td>TCP</td>\n",
       "      <td>NaN</td>\n",
       "      <td>6000.0</td>\n",
       "      <td>3306.0</td>\n",
       "      <td>118.144.86.105</td>\n",
       "      <td>CN</td>\n",
       "      <td>China</td>\n",
       "      <td>Beijing Shi</td>\n",
       "      <td>11</td>\n",
       "      <td>NaN</td>\n",
       "      <td>39.9289</td>\n",
       "      <td>116.3883</td>\n",
       "      <td>NaN</td>\n",
       "    </tr>\n",
       "    <tr>\n",
       "      <th>34</th>\n",
       "      <td>3/3/13 22:48</td>\n",
       "      <td>groucho-singapore</td>\n",
       "      <td>1033070424</td>\n",
       "      <td>TCP</td>\n",
       "      <td>NaN</td>\n",
       "      <td>6000.0</td>\n",
       "      <td>135.0</td>\n",
       "      <td>61.147.103.88</td>\n",
       "      <td>CN</td>\n",
       "      <td>China</td>\n",
       "      <td>Jiangsu Sheng</td>\n",
       "      <td>32</td>\n",
       "      <td>NaN</td>\n",
       "      <td>32.0617</td>\n",
       "      <td>118.7778</td>\n",
       "      <td>NaN</td>\n",
       "    </tr>\n",
       "  </tbody>\n",
       "</table>\n",
       "</div>"
      ],
      "text/plain": [
       "        datetime               host         src proto  type     spt     dpt  \\\n",
       "30  3/3/13 22:45     groucho-oregon  2073368071   TCP   NaN  6000.0  1433.0   \n",
       "31  3/3/13 22:47      groucho-tokyo  1412364802   TCP   NaN  4042.0   445.0   \n",
       "32  3/3/13 22:47      groucho-tokyo  1412364802   TCP   NaN  4042.0   445.0   \n",
       "33  3/3/13 22:48     groucho-oregon  1989170793   TCP   NaN  6000.0  3306.0   \n",
       "34  3/3/13 22:48  groucho-singapore  1033070424   TCP   NaN  6000.0   135.0   \n",
       "\n",
       "            srcstr  cc    country         locale localeabbr postalcode  \\\n",
       "30    123.149.22.7  CN      China    Henan Sheng         41        NaN   \n",
       "31     84.46.250.2  LT  Lithuania            NaN        NaN        NaN   \n",
       "32     84.46.250.2  LT  Lithuania            NaN        NaN        NaN   \n",
       "33  118.144.86.105  CN      China    Beijing Shi         11        NaN   \n",
       "34   61.147.103.88  CN      China  Jiangsu Sheng         32        NaN   \n",
       "\n",
       "    latitude  longitude  Unnamed: 15  \n",
       "30   34.6836   113.5325          NaN  \n",
       "31   56.0000    24.0000          NaN  \n",
       "32   56.0000    24.0000          NaN  \n",
       "33   39.9289   116.3883          NaN  \n",
       "34   32.0617   118.7778          NaN  "
      ]
     },
     "execution_count": 28,
     "metadata": {},
     "output_type": "execute_result"
    }
   ],
   "source": [
    "#selecting the rows\n",
    "honey_pot_data[30:35]"
   ]
  },
  {
   "cell_type": "code",
   "execution_count": 30,
   "id": "20da3880",
   "metadata": {},
   "outputs": [
    {
     "data": {
      "text/html": [
       "<div>\n",
       "<style scoped>\n",
       "    .dataframe tbody tr th:only-of-type {\n",
       "        vertical-align: middle;\n",
       "    }\n",
       "\n",
       "    .dataframe tbody tr th {\n",
       "        vertical-align: top;\n",
       "    }\n",
       "\n",
       "    .dataframe thead th {\n",
       "        text-align: right;\n",
       "    }\n",
       "</style>\n",
       "<table border=\"1\" class=\"dataframe\">\n",
       "  <thead>\n",
       "    <tr style=\"text-align: right;\">\n",
       "      <th></th>\n",
       "      <th>host</th>\n",
       "      <th>src</th>\n",
       "      <th>proto</th>\n",
       "    </tr>\n",
       "  </thead>\n",
       "  <tbody>\n",
       "    <tr>\n",
       "      <th>0</th>\n",
       "      <td>groucho-oregon</td>\n",
       "      <td>1032051418</td>\n",
       "      <td>TCP</td>\n",
       "    </tr>\n",
       "    <tr>\n",
       "      <th>1</th>\n",
       "      <td>groucho-oregon</td>\n",
       "      <td>1347834426</td>\n",
       "      <td>UDP</td>\n",
       "    </tr>\n",
       "  </tbody>\n",
       "</table>\n",
       "</div>"
      ],
      "text/plain": [
       "             host         src proto\n",
       "0  groucho-oregon  1032051418   TCP\n",
       "1  groucho-oregon  1347834426   UDP"
      ]
     },
     "execution_count": 30,
     "metadata": {},
     "output_type": "execute_result"
    }
   ],
   "source": [
    "#selecting the columns\n",
    "honey_pot_data[['host','src','proto']].head(2)"
   ]
  },
  {
   "cell_type": "code",
   "execution_count": 34,
   "id": "a5d80ec2",
   "metadata": {},
   "outputs": [
    {
     "data": {
      "text/html": [
       "<div>\n",
       "<style scoped>\n",
       "    .dataframe tbody tr th:only-of-type {\n",
       "        vertical-align: middle;\n",
       "    }\n",
       "\n",
       "    .dataframe tbody tr th {\n",
       "        vertical-align: top;\n",
       "    }\n",
       "\n",
       "    .dataframe thead th {\n",
       "        text-align: right;\n",
       "    }\n",
       "</style>\n",
       "<table border=\"1\" class=\"dataframe\">\n",
       "  <thead>\n",
       "    <tr style=\"text-align: right;\">\n",
       "      <th></th>\n",
       "      <th>host</th>\n",
       "      <th>src</th>\n",
       "      <th>proto</th>\n",
       "    </tr>\n",
       "  </thead>\n",
       "  <tbody>\n",
       "    <tr>\n",
       "      <th>5</th>\n",
       "      <td>groucho-tokyo</td>\n",
       "      <td>3323217250</td>\n",
       "      <td>TCP</td>\n",
       "    </tr>\n",
       "    <tr>\n",
       "      <th>6</th>\n",
       "      <td>groucho-oregon</td>\n",
       "      <td>3730416887</td>\n",
       "      <td>TCP</td>\n",
       "    </tr>\n",
       "    <tr>\n",
       "      <th>7</th>\n",
       "      <td>groucho-singapore</td>\n",
       "      <td>3738622573</td>\n",
       "      <td>TCP</td>\n",
       "    </tr>\n",
       "  </tbody>\n",
       "</table>\n",
       "</div>"
      ],
      "text/plain": [
       "                host         src proto\n",
       "5      groucho-tokyo  3323217250   TCP\n",
       "6     groucho-oregon  3730416887   TCP\n",
       "7  groucho-singapore  3738622573   TCP"
      ]
     },
     "execution_count": 34,
     "metadata": {},
     "output_type": "execute_result"
    }
   ],
   "source": [
    "#selecting using loc\n",
    "honey_pot_data.loc[5:7,['host','src','proto']]"
   ]
  },
  {
   "cell_type": "code",
   "execution_count": 35,
   "id": "b891e999",
   "metadata": {},
   "outputs": [
    {
     "data": {
      "text/html": [
       "<div>\n",
       "<style scoped>\n",
       "    .dataframe tbody tr th:only-of-type {\n",
       "        vertical-align: middle;\n",
       "    }\n",
       "\n",
       "    .dataframe tbody tr th {\n",
       "        vertical-align: top;\n",
       "    }\n",
       "\n",
       "    .dataframe thead th {\n",
       "        text-align: right;\n",
       "    }\n",
       "</style>\n",
       "<table border=\"1\" class=\"dataframe\">\n",
       "  <thead>\n",
       "    <tr style=\"text-align: right;\">\n",
       "      <th></th>\n",
       "      <th>host</th>\n",
       "      <th>src</th>\n",
       "      <th>proto</th>\n",
       "    </tr>\n",
       "  </thead>\n",
       "  <tbody>\n",
       "    <tr>\n",
       "      <th>5</th>\n",
       "      <td>groucho-tokyo</td>\n",
       "      <td>3323217250</td>\n",
       "      <td>TCP</td>\n",
       "    </tr>\n",
       "    <tr>\n",
       "      <th>6</th>\n",
       "      <td>groucho-oregon</td>\n",
       "      <td>3730416887</td>\n",
       "      <td>TCP</td>\n",
       "    </tr>\n",
       "  </tbody>\n",
       "</table>\n",
       "</div>"
      ],
      "text/plain": [
       "             host         src proto\n",
       "5   groucho-tokyo  3323217250   TCP\n",
       "6  groucho-oregon  3730416887   TCP"
      ]
     },
     "execution_count": 35,
     "metadata": {},
     "output_type": "execute_result"
    }
   ],
   "source": [
    "#selecting the rows\n",
    "honey_pot_data.iloc[5:7,[1,2,3]]"
   ]
  },
  {
   "cell_type": "code",
   "execution_count": 36,
   "id": "ba2a4f7e",
   "metadata": {},
   "outputs": [
    {
     "data": {
      "text/html": [
       "<div>\n",
       "<style scoped>\n",
       "    .dataframe tbody tr th:only-of-type {\n",
       "        vertical-align: middle;\n",
       "    }\n",
       "\n",
       "    .dataframe tbody tr th {\n",
       "        vertical-align: top;\n",
       "    }\n",
       "\n",
       "    .dataframe thead th {\n",
       "        text-align: right;\n",
       "    }\n",
       "</style>\n",
       "<table border=\"1\" class=\"dataframe\">\n",
       "  <thead>\n",
       "    <tr style=\"text-align: right;\">\n",
       "      <th></th>\n",
       "      <th>host</th>\n",
       "      <th>src</th>\n",
       "      <th>proto</th>\n",
       "    </tr>\n",
       "  </thead>\n",
       "  <tbody>\n",
       "    <tr>\n",
       "      <th>5</th>\n",
       "      <td>groucho-tokyo</td>\n",
       "      <td>3323217250</td>\n",
       "      <td>TCP</td>\n",
       "    </tr>\n",
       "    <tr>\n",
       "      <th>6</th>\n",
       "      <td>groucho-oregon</td>\n",
       "      <td>3730416887</td>\n",
       "      <td>TCP</td>\n",
       "    </tr>\n",
       "  </tbody>\n",
       "</table>\n",
       "</div>"
      ],
      "text/plain": [
       "             host         src proto\n",
       "5   groucho-tokyo  3323217250   TCP\n",
       "6  groucho-oregon  3730416887   TCP"
      ]
     },
     "execution_count": 36,
     "metadata": {},
     "output_type": "execute_result"
    }
   ],
   "source": [
    "#selecting the rows\n",
    "honey_pot_data.iloc[5:7,[1,2,3]]"
   ]
  },
  {
   "cell_type": "code",
   "execution_count": 31,
   "id": "96927096",
   "metadata": {},
   "outputs": [],
   "source": [
    "#setting the datetime column as index\n",
    "updated_hp_data = honey_pot_data.set_index(\"datetime\")"
   ]
  },
  {
   "cell_type": "code",
   "execution_count": 32,
   "id": "c474e39a",
   "metadata": {},
   "outputs": [
    {
     "data": {
      "text/plain": [
       "'3/3/13 21:53'"
      ]
     },
     "execution_count": 32,
     "metadata": {},
     "output_type": "execute_result"
    }
   ],
   "source": [
    "updated_hp_data.index[0]"
   ]
  },
  {
   "cell_type": "code",
   "execution_count": 39,
   "id": "2e474ff9",
   "metadata": {
    "scrolled": true
   },
   "outputs": [],
   "source": [
    "#updated_hp_data.loc['3/3/13 21:53':'4/3/13 00:00']"
   ]
  },
  {
   "cell_type": "code",
   "execution_count": 33,
   "id": "21bd395d",
   "metadata": {},
   "outputs": [
    {
     "data": {
      "text/plain": [
       "str"
      ]
     },
     "execution_count": 33,
     "metadata": {},
     "output_type": "execute_result"
    }
   ],
   "source": [
    "type(updated_hp_data.index[0])"
   ]
  },
  {
   "cell_type": "code",
   "execution_count": 41,
   "id": "828d81b0",
   "metadata": {},
   "outputs": [
    {
     "data": {
      "text/plain": [
       "datetime.datetime(2013, 3, 3, 21, 53)"
      ]
     },
     "execution_count": 41,
     "metadata": {},
     "output_type": "execute_result"
    }
   ],
   "source": [
    "#convert the string date time into real datetime values\n",
    "import datetime\n",
    "datetime.datetime.strptime('3/3/13 21:53','%m/%d/%y %H:%M')\n",
    "#we will use this in couple of cells"
   ]
  },
  {
   "cell_type": "code",
   "execution_count": 34,
   "id": "974a0040",
   "metadata": {},
   "outputs": [],
   "source": [
    "#dropping unwanted columns\n",
    "updated_hp_data.drop('Unnamed: 15',inplace=True,axis=1)"
   ]
  },
  {
   "cell_type": "code",
   "execution_count": 35,
   "id": "79acb6d6",
   "metadata": {},
   "outputs": [
    {
     "data": {
      "text/html": [
       "<div>\n",
       "<style scoped>\n",
       "    .dataframe tbody tr th:only-of-type {\n",
       "        vertical-align: middle;\n",
       "    }\n",
       "\n",
       "    .dataframe tbody tr th {\n",
       "        vertical-align: top;\n",
       "    }\n",
       "\n",
       "    .dataframe thead th {\n",
       "        text-align: right;\n",
       "    }\n",
       "</style>\n",
       "<table border=\"1\" class=\"dataframe\">\n",
       "  <thead>\n",
       "    <tr style=\"text-align: right;\">\n",
       "      <th></th>\n",
       "      <th>host</th>\n",
       "      <th>src</th>\n",
       "      <th>proto</th>\n",
       "      <th>type</th>\n",
       "      <th>spt</th>\n",
       "      <th>dpt</th>\n",
       "      <th>srcstr</th>\n",
       "      <th>cc</th>\n",
       "      <th>country</th>\n",
       "      <th>locale</th>\n",
       "      <th>localeabbr</th>\n",
       "      <th>postalcode</th>\n",
       "      <th>latitude</th>\n",
       "      <th>longitude</th>\n",
       "    </tr>\n",
       "    <tr>\n",
       "      <th>datetime</th>\n",
       "      <th></th>\n",
       "      <th></th>\n",
       "      <th></th>\n",
       "      <th></th>\n",
       "      <th></th>\n",
       "      <th></th>\n",
       "      <th></th>\n",
       "      <th></th>\n",
       "      <th></th>\n",
       "      <th></th>\n",
       "      <th></th>\n",
       "      <th></th>\n",
       "      <th></th>\n",
       "      <th></th>\n",
       "    </tr>\n",
       "  </thead>\n",
       "  <tbody>\n",
       "    <tr>\n",
       "      <th>3/3/13 21:53</th>\n",
       "      <td>groucho-oregon</td>\n",
       "      <td>1032051418</td>\n",
       "      <td>TCP</td>\n",
       "      <td>NaN</td>\n",
       "      <td>6000.0</td>\n",
       "      <td>1433.0</td>\n",
       "      <td>61.131.218.218</td>\n",
       "      <td>CN</td>\n",
       "      <td>China</td>\n",
       "      <td>Jiangxi Sheng</td>\n",
       "      <td>36</td>\n",
       "      <td>NaN</td>\n",
       "      <td>28.55</td>\n",
       "      <td>115.9333</td>\n",
       "    </tr>\n",
       "    <tr>\n",
       "      <th>3/3/13 21:57</th>\n",
       "      <td>groucho-oregon</td>\n",
       "      <td>1347834426</td>\n",
       "      <td>UDP</td>\n",
       "      <td>NaN</td>\n",
       "      <td>5270.0</td>\n",
       "      <td>5060.0</td>\n",
       "      <td>80.86.82.58</td>\n",
       "      <td>DE</td>\n",
       "      <td>Germany</td>\n",
       "      <td>NaN</td>\n",
       "      <td>NaN</td>\n",
       "      <td>NaN</td>\n",
       "      <td>51.00</td>\n",
       "      <td>9.0000</td>\n",
       "    </tr>\n",
       "  </tbody>\n",
       "</table>\n",
       "</div>"
      ],
      "text/plain": [
       "                        host         src proto  type     spt     dpt  \\\n",
       "datetime                                                               \n",
       "3/3/13 21:53  groucho-oregon  1032051418   TCP   NaN  6000.0  1433.0   \n",
       "3/3/13 21:57  groucho-oregon  1347834426   UDP   NaN  5270.0  5060.0   \n",
       "\n",
       "                      srcstr  cc  country         locale localeabbr  \\\n",
       "datetime                                                              \n",
       "3/3/13 21:53  61.131.218.218  CN    China  Jiangxi Sheng         36   \n",
       "3/3/13 21:57     80.86.82.58  DE  Germany            NaN        NaN   \n",
       "\n",
       "             postalcode  latitude  longitude  \n",
       "datetime                                      \n",
       "3/3/13 21:53        NaN     28.55   115.9333  \n",
       "3/3/13 21:57        NaN     51.00     9.0000  "
      ]
     },
     "execution_count": 35,
     "metadata": {},
     "output_type": "execute_result"
    }
   ],
   "source": [
    "updated_hp_data.head(2)"
   ]
  },
  {
   "cell_type": "code",
   "execution_count": 36,
   "id": "7da9801b",
   "metadata": {},
   "outputs": [
    {
     "data": {
      "text/plain": [
       "datetime\n",
       "3/3/13 21:53     True\n",
       "3/3/13 21:57     True\n",
       "3/3/13 21:58     True\n",
       "3/3/13 21:58    False\n",
       "3/3/13 21:58     True\n",
       "                ...  \n",
       "9/8/13 5:54      True\n",
       "9/8/13 5:50      True\n",
       "9/8/13 5:55     False\n",
       "9/8/13 5:55      True\n",
       "9/8/13 5:55      True\n",
       "Name: postalcode, Length: 451581, dtype: bool"
      ]
     },
     "execution_count": 36,
     "metadata": {},
     "output_type": "execute_result"
    }
   ],
   "source": [
    "updated_hp_data.postalcode.isna()"
   ]
  },
  {
   "cell_type": "code",
   "execution_count": 50,
   "id": "c495a366",
   "metadata": {},
   "outputs": [
    {
     "data": {
      "text/plain": [
       "datetime\n",
       "3/3/13 21:53    False\n",
       "3/3/13 21:57    False\n",
       "3/3/13 21:58    False\n",
       "3/3/13 21:58     True\n",
       "3/3/13 21:58    False\n",
       "                ...  \n",
       "9/8/13 5:54     False\n",
       "9/8/13 5:50     False\n",
       "9/8/13 5:55      True\n",
       "9/8/13 5:55     False\n",
       "9/8/13 5:55     False\n",
       "Name: postalcode, Length: 451581, dtype: bool"
      ]
     },
     "execution_count": 50,
     "metadata": {},
     "output_type": "execute_result"
    }
   ],
   "source": [
    "~updated_hp_data.postalcode.isna()"
   ]
  },
  {
   "cell_type": "code",
   "execution_count": 49,
   "id": "5440c379",
   "metadata": {},
   "outputs": [
    {
     "data": {
      "text/html": [
       "<div>\n",
       "<style scoped>\n",
       "    .dataframe tbody tr th:only-of-type {\n",
       "        vertical-align: middle;\n",
       "    }\n",
       "\n",
       "    .dataframe tbody tr th {\n",
       "        vertical-align: top;\n",
       "    }\n",
       "\n",
       "    .dataframe thead th {\n",
       "        text-align: right;\n",
       "    }\n",
       "</style>\n",
       "<table border=\"1\" class=\"dataframe\">\n",
       "  <thead>\n",
       "    <tr style=\"text-align: right;\">\n",
       "      <th></th>\n",
       "      <th>host</th>\n",
       "      <th>postalcode</th>\n",
       "    </tr>\n",
       "    <tr>\n",
       "      <th>datetime</th>\n",
       "      <th></th>\n",
       "      <th></th>\n",
       "    </tr>\n",
       "  </thead>\n",
       "  <tbody>\n",
       "    <tr>\n",
       "      <th>3/3/13 21:53</th>\n",
       "      <td>groucho-oregon</td>\n",
       "      <td>NaN</td>\n",
       "    </tr>\n",
       "    <tr>\n",
       "      <th>3/3/13 21:57</th>\n",
       "      <td>groucho-oregon</td>\n",
       "      <td>NaN</td>\n",
       "    </tr>\n",
       "    <tr>\n",
       "      <th>3/3/13 21:58</th>\n",
       "      <td>groucho-oregon</td>\n",
       "      <td>NaN</td>\n",
       "    </tr>\n",
       "    <tr>\n",
       "      <th>3/3/13 21:58</th>\n",
       "      <td>groucho-us-east</td>\n",
       "      <td>97124</td>\n",
       "    </tr>\n",
       "    <tr>\n",
       "      <th>3/3/13 21:58</th>\n",
       "      <td>groucho-singapore</td>\n",
       "      <td>NaN</td>\n",
       "    </tr>\n",
       "    <tr>\n",
       "      <th>...</th>\n",
       "      <td>...</td>\n",
       "      <td>...</td>\n",
       "    </tr>\n",
       "    <tr>\n",
       "      <th>9/8/13 5:54</th>\n",
       "      <td>groucho-oregon</td>\n",
       "      <td>NaN</td>\n",
       "    </tr>\n",
       "    <tr>\n",
       "      <th>9/8/13 5:50</th>\n",
       "      <td>groucho-eu</td>\n",
       "      <td>NaN</td>\n",
       "    </tr>\n",
       "    <tr>\n",
       "      <th>9/8/13 5:55</th>\n",
       "      <td>groucho-oregon</td>\n",
       "      <td>90017</td>\n",
       "    </tr>\n",
       "    <tr>\n",
       "      <th>9/8/13 5:55</th>\n",
       "      <td>groucho-tokyo</td>\n",
       "      <td>NaN</td>\n",
       "    </tr>\n",
       "    <tr>\n",
       "      <th>9/8/13 5:55</th>\n",
       "      <td>groucho-tokyo</td>\n",
       "      <td>NaN</td>\n",
       "    </tr>\n",
       "  </tbody>\n",
       "</table>\n",
       "<p>451581 rows × 2 columns</p>\n",
       "</div>"
      ],
      "text/plain": [
       "                           host postalcode\n",
       "datetime                                  \n",
       "3/3/13 21:53     groucho-oregon        NaN\n",
       "3/3/13 21:57     groucho-oregon        NaN\n",
       "3/3/13 21:58     groucho-oregon        NaN\n",
       "3/3/13 21:58    groucho-us-east      97124\n",
       "3/3/13 21:58  groucho-singapore        NaN\n",
       "...                         ...        ...\n",
       "9/8/13 5:54      groucho-oregon        NaN\n",
       "9/8/13 5:50          groucho-eu        NaN\n",
       "9/8/13 5:55      groucho-oregon      90017\n",
       "9/8/13 5:55       groucho-tokyo        NaN\n",
       "9/8/13 5:55       groucho-tokyo        NaN\n",
       "\n",
       "[451581 rows x 2 columns]"
      ]
     },
     "execution_count": 49,
     "metadata": {},
     "output_type": "execute_result"
    }
   ],
   "source": [
    "updated_hp_data.loc[:,['host','postalcode']]"
   ]
  },
  {
   "cell_type": "code",
   "execution_count": 52,
   "id": "a65a792d",
   "metadata": {},
   "outputs": [
    {
     "data": {
      "text/html": [
       "<div>\n",
       "<style scoped>\n",
       "    .dataframe tbody tr th:only-of-type {\n",
       "        vertical-align: middle;\n",
       "    }\n",
       "\n",
       "    .dataframe tbody tr th {\n",
       "        vertical-align: top;\n",
       "    }\n",
       "\n",
       "    .dataframe thead th {\n",
       "        text-align: right;\n",
       "    }\n",
       "</style>\n",
       "<table border=\"1\" class=\"dataframe\">\n",
       "  <thead>\n",
       "    <tr style=\"text-align: right;\">\n",
       "      <th></th>\n",
       "      <th>host</th>\n",
       "      <th>src</th>\n",
       "      <th>proto</th>\n",
       "      <th>type</th>\n",
       "      <th>spt</th>\n",
       "      <th>dpt</th>\n",
       "      <th>srcstr</th>\n",
       "      <th>cc</th>\n",
       "      <th>country</th>\n",
       "      <th>locale</th>\n",
       "      <th>localeabbr</th>\n",
       "      <th>postalcode</th>\n",
       "      <th>latitude</th>\n",
       "      <th>longitude</th>\n",
       "    </tr>\n",
       "    <tr>\n",
       "      <th>datetime</th>\n",
       "      <th></th>\n",
       "      <th></th>\n",
       "      <th></th>\n",
       "      <th></th>\n",
       "      <th></th>\n",
       "      <th></th>\n",
       "      <th></th>\n",
       "      <th></th>\n",
       "      <th></th>\n",
       "      <th></th>\n",
       "      <th></th>\n",
       "      <th></th>\n",
       "      <th></th>\n",
       "      <th></th>\n",
       "    </tr>\n",
       "  </thead>\n",
       "  <tbody>\n",
       "    <tr>\n",
       "      <th>3/3/13 21:58</th>\n",
       "      <td>groucho-us-east</td>\n",
       "      <td>841842716</td>\n",
       "      <td>UDP</td>\n",
       "      <td>NaN</td>\n",
       "      <td>43235.0</td>\n",
       "      <td>1900.0</td>\n",
       "      <td>50.45.128.28</td>\n",
       "      <td>US</td>\n",
       "      <td>United States</td>\n",
       "      <td>Oregon</td>\n",
       "      <td>OR</td>\n",
       "      <td>97124</td>\n",
       "      <td>45.5848</td>\n",
       "      <td>-122.9117</td>\n",
       "    </tr>\n",
       "    <tr>\n",
       "      <th>3/3/13 21:58</th>\n",
       "      <td>groucho-tokyo</td>\n",
       "      <td>3323217250</td>\n",
       "      <td>TCP</td>\n",
       "      <td>NaN</td>\n",
       "      <td>32628.0</td>\n",
       "      <td>2323.0</td>\n",
       "      <td>198.20.69.98</td>\n",
       "      <td>US</td>\n",
       "      <td>United States</td>\n",
       "      <td>Illinois</td>\n",
       "      <td>IL</td>\n",
       "      <td>60661</td>\n",
       "      <td>41.8825</td>\n",
       "      <td>-87.6441</td>\n",
       "    </tr>\n",
       "    <tr>\n",
       "      <th>3/3/13 22:14</th>\n",
       "      <td>groucho-tokyo</td>\n",
       "      <td>3639889826</td>\n",
       "      <td>TCP</td>\n",
       "      <td>NaN</td>\n",
       "      <td>6000.0</td>\n",
       "      <td>1433.0</td>\n",
       "      <td>216.244.79.162</td>\n",
       "      <td>US</td>\n",
       "      <td>United States</td>\n",
       "      <td>Washington</td>\n",
       "      <td>WA</td>\n",
       "      <td>98168</td>\n",
       "      <td>47.4891</td>\n",
       "      <td>-122.2908</td>\n",
       "    </tr>\n",
       "    <tr>\n",
       "      <th>3/3/13 22:23</th>\n",
       "      <td>groucho-oregon</td>\n",
       "      <td>2382398543</td>\n",
       "      <td>TCP</td>\n",
       "      <td>NaN</td>\n",
       "      <td>6000.0</td>\n",
       "      <td>1433.0</td>\n",
       "      <td>142.0.132.79</td>\n",
       "      <td>US</td>\n",
       "      <td>United States</td>\n",
       "      <td>California</td>\n",
       "      <td>CA</td>\n",
       "      <td>94024</td>\n",
       "      <td>37.3495</td>\n",
       "      <td>-122.1163</td>\n",
       "    </tr>\n",
       "    <tr>\n",
       "      <th>3/3/13 22:29</th>\n",
       "      <td>groucho-oregon</td>\n",
       "      <td>840591020</td>\n",
       "      <td>TCP</td>\n",
       "      <td>NaN</td>\n",
       "      <td>2712.0</td>\n",
       "      <td>23.0</td>\n",
       "      <td>50.26.102.172</td>\n",
       "      <td>US</td>\n",
       "      <td>United States</td>\n",
       "      <td>Texas</td>\n",
       "      <td>TX</td>\n",
       "      <td>79109</td>\n",
       "      <td>35.1613</td>\n",
       "      <td>-101.8790</td>\n",
       "    </tr>\n",
       "    <tr>\n",
       "      <th>3/3/13 22:45</th>\n",
       "      <td>groucho-oregon</td>\n",
       "      <td>2917802434</td>\n",
       "      <td>TCP</td>\n",
       "      <td>NaN</td>\n",
       "      <td>6000.0</td>\n",
       "      <td>3306.0</td>\n",
       "      <td>173.234.33.194</td>\n",
       "      <td>US</td>\n",
       "      <td>United States</td>\n",
       "      <td>Illinois</td>\n",
       "      <td>IL</td>\n",
       "      <td>60616</td>\n",
       "      <td>41.8471</td>\n",
       "      <td>-87.6248</td>\n",
       "    </tr>\n",
       "    <tr>\n",
       "      <th>3/3/13 22:55</th>\n",
       "      <td>groucho-norcal</td>\n",
       "      <td>3323217250</td>\n",
       "      <td>TCP</td>\n",
       "      <td>NaN</td>\n",
       "      <td>47660.0</td>\n",
       "      <td>80.0</td>\n",
       "      <td>198.20.69.98</td>\n",
       "      <td>US</td>\n",
       "      <td>United States</td>\n",
       "      <td>Illinois</td>\n",
       "      <td>IL</td>\n",
       "      <td>60661</td>\n",
       "      <td>41.8825</td>\n",
       "      <td>-87.6441</td>\n",
       "    </tr>\n",
       "    <tr>\n",
       "      <th>3/3/13 23:01</th>\n",
       "      <td>groucho-tokyo</td>\n",
       "      <td>1199028690</td>\n",
       "      <td>UDP</td>\n",
       "      <td>NaN</td>\n",
       "      <td>57520.0</td>\n",
       "      <td>20029.0</td>\n",
       "      <td>71.119.185.210</td>\n",
       "      <td>US</td>\n",
       "      <td>United States</td>\n",
       "      <td>California</td>\n",
       "      <td>CA</td>\n",
       "      <td>91786</td>\n",
       "      <td>34.1040</td>\n",
       "      <td>-117.6642</td>\n",
       "    </tr>\n",
       "    <tr>\n",
       "      <th>3/3/13 23:01</th>\n",
       "      <td>groucho-tokyo</td>\n",
       "      <td>1199028690</td>\n",
       "      <td>UDP</td>\n",
       "      <td>NaN</td>\n",
       "      <td>57520.0</td>\n",
       "      <td>20029.0</td>\n",
       "      <td>71.119.185.210</td>\n",
       "      <td>US</td>\n",
       "      <td>United States</td>\n",
       "      <td>California</td>\n",
       "      <td>CA</td>\n",
       "      <td>91786</td>\n",
       "      <td>34.1040</td>\n",
       "      <td>-117.6642</td>\n",
       "    </tr>\n",
       "    <tr>\n",
       "      <th>3/3/13 23:01</th>\n",
       "      <td>groucho-tokyo</td>\n",
       "      <td>1199028690</td>\n",
       "      <td>UDP</td>\n",
       "      <td>NaN</td>\n",
       "      <td>57520.0</td>\n",
       "      <td>20029.0</td>\n",
       "      <td>71.119.185.210</td>\n",
       "      <td>US</td>\n",
       "      <td>United States</td>\n",
       "      <td>California</td>\n",
       "      <td>CA</td>\n",
       "      <td>91786</td>\n",
       "      <td>34.1040</td>\n",
       "      <td>-117.6642</td>\n",
       "    </tr>\n",
       "  </tbody>\n",
       "</table>\n",
       "</div>"
      ],
      "text/plain": [
       "                         host         src proto  type      spt      dpt  \\\n",
       "datetime                                                                  \n",
       "3/3/13 21:58  groucho-us-east   841842716   UDP   NaN  43235.0   1900.0   \n",
       "3/3/13 21:58    groucho-tokyo  3323217250   TCP   NaN  32628.0   2323.0   \n",
       "3/3/13 22:14    groucho-tokyo  3639889826   TCP   NaN   6000.0   1433.0   \n",
       "3/3/13 22:23   groucho-oregon  2382398543   TCP   NaN   6000.0   1433.0   \n",
       "3/3/13 22:29   groucho-oregon   840591020   TCP   NaN   2712.0     23.0   \n",
       "3/3/13 22:45   groucho-oregon  2917802434   TCP   NaN   6000.0   3306.0   \n",
       "3/3/13 22:55   groucho-norcal  3323217250   TCP   NaN  47660.0     80.0   \n",
       "3/3/13 23:01    groucho-tokyo  1199028690   UDP   NaN  57520.0  20029.0   \n",
       "3/3/13 23:01    groucho-tokyo  1199028690   UDP   NaN  57520.0  20029.0   \n",
       "3/3/13 23:01    groucho-tokyo  1199028690   UDP   NaN  57520.0  20029.0   \n",
       "\n",
       "                      srcstr  cc        country      locale localeabbr  \\\n",
       "datetime                                                                 \n",
       "3/3/13 21:58    50.45.128.28  US  United States      Oregon         OR   \n",
       "3/3/13 21:58    198.20.69.98  US  United States    Illinois         IL   \n",
       "3/3/13 22:14  216.244.79.162  US  United States  Washington         WA   \n",
       "3/3/13 22:23    142.0.132.79  US  United States  California         CA   \n",
       "3/3/13 22:29   50.26.102.172  US  United States       Texas         TX   \n",
       "3/3/13 22:45  173.234.33.194  US  United States    Illinois         IL   \n",
       "3/3/13 22:55    198.20.69.98  US  United States    Illinois         IL   \n",
       "3/3/13 23:01  71.119.185.210  US  United States  California         CA   \n",
       "3/3/13 23:01  71.119.185.210  US  United States  California         CA   \n",
       "3/3/13 23:01  71.119.185.210  US  United States  California         CA   \n",
       "\n",
       "             postalcode  latitude  longitude  \n",
       "datetime                                      \n",
       "3/3/13 21:58      97124   45.5848  -122.9117  \n",
       "3/3/13 21:58      60661   41.8825   -87.6441  \n",
       "3/3/13 22:14      98168   47.4891  -122.2908  \n",
       "3/3/13 22:23      94024   37.3495  -122.1163  \n",
       "3/3/13 22:29      79109   35.1613  -101.8790  \n",
       "3/3/13 22:45      60616   41.8471   -87.6248  \n",
       "3/3/13 22:55      60661   41.8825   -87.6441  \n",
       "3/3/13 23:01      91786   34.1040  -117.6642  \n",
       "3/3/13 23:01      91786   34.1040  -117.6642  \n",
       "3/3/13 23:01      91786   34.1040  -117.6642  "
      ]
     },
     "execution_count": 52,
     "metadata": {},
     "output_type": "execute_result"
    }
   ],
   "source": [
    "#lets look at missing data\n",
    "updated_hp_data[~updated_hp_data.postalcode.isna()].head(10)"
   ]
  },
  {
   "cell_type": "code",
   "execution_count": 53,
   "id": "23ec6ad7",
   "metadata": {},
   "outputs": [
    {
     "data": {
      "text/plain": [
       "array([nan, '97124', '60661', ..., 'L17', '50557', '90670'], dtype=object)"
      ]
     },
     "execution_count": 53,
     "metadata": {},
     "output_type": "execute_result"
    }
   ],
   "source": [
    "#before filling the missing values, look at what is unique in those columns\n",
    "updated_hp_data.postalcode.unique()"
   ]
  },
  {
   "cell_type": "code",
   "execution_count": 54,
   "id": "1c4ae1c4",
   "metadata": {},
   "outputs": [
    {
     "data": {
      "text/plain": [
       "array([ 1433.,  5060.,  1080., ..., 63401.,   475.,  6697.])"
      ]
     },
     "execution_count": 54,
     "metadata": {},
     "output_type": "execute_result"
    }
   ],
   "source": [
    "#before filling the missing values, look at what is unique in those columns\n",
    "updated_hp_data.dpt.unique()"
   ]
  },
  {
   "cell_type": "code",
   "execution_count": 55,
   "id": "87bd68ed",
   "metadata": {},
   "outputs": [
    {
     "data": {
      "text/plain": [
       "4042"
      ]
     },
     "execution_count": 55,
     "metadata": {},
     "output_type": "execute_result"
    }
   ],
   "source": [
    "#before filling the missing values, look at what is unique in those columns\n",
    "len(updated_hp_data.dpt.unique())"
   ]
  },
  {
   "cell_type": "code",
   "execution_count": 56,
   "id": "88e87ec5",
   "metadata": {},
   "outputs": [],
   "source": [
    "#based on above values, we can safely fill unknown and it will be a category. \n",
    "updated_hp_data.postalcode.fillna(value='unknown',inplace=True,axis=0)"
   ]
  },
  {
   "cell_type": "code",
   "execution_count": 57,
   "id": "259a10cc",
   "metadata": {},
   "outputs": [
    {
     "data": {
      "text/html": [
       "<div>\n",
       "<style scoped>\n",
       "    .dataframe tbody tr th:only-of-type {\n",
       "        vertical-align: middle;\n",
       "    }\n",
       "\n",
       "    .dataframe tbody tr th {\n",
       "        vertical-align: top;\n",
       "    }\n",
       "\n",
       "    .dataframe thead th {\n",
       "        text-align: right;\n",
       "    }\n",
       "</style>\n",
       "<table border=\"1\" class=\"dataframe\">\n",
       "  <thead>\n",
       "    <tr style=\"text-align: right;\">\n",
       "      <th></th>\n",
       "      <th>host</th>\n",
       "      <th>src</th>\n",
       "      <th>proto</th>\n",
       "      <th>type</th>\n",
       "      <th>spt</th>\n",
       "      <th>dpt</th>\n",
       "      <th>srcstr</th>\n",
       "      <th>cc</th>\n",
       "      <th>country</th>\n",
       "      <th>locale</th>\n",
       "      <th>localeabbr</th>\n",
       "      <th>postalcode</th>\n",
       "      <th>latitude</th>\n",
       "      <th>longitude</th>\n",
       "    </tr>\n",
       "    <tr>\n",
       "      <th>datetime</th>\n",
       "      <th></th>\n",
       "      <th></th>\n",
       "      <th></th>\n",
       "      <th></th>\n",
       "      <th></th>\n",
       "      <th></th>\n",
       "      <th></th>\n",
       "      <th></th>\n",
       "      <th></th>\n",
       "      <th></th>\n",
       "      <th></th>\n",
       "      <th></th>\n",
       "      <th></th>\n",
       "      <th></th>\n",
       "    </tr>\n",
       "  </thead>\n",
       "  <tbody>\n",
       "    <tr>\n",
       "      <th>3/3/13 21:53</th>\n",
       "      <td>groucho-oregon</td>\n",
       "      <td>1032051418</td>\n",
       "      <td>TCP</td>\n",
       "      <td>NaN</td>\n",
       "      <td>6000.0</td>\n",
       "      <td>1433.0</td>\n",
       "      <td>61.131.218.218</td>\n",
       "      <td>CN</td>\n",
       "      <td>China</td>\n",
       "      <td>Jiangxi Sheng</td>\n",
       "      <td>36</td>\n",
       "      <td>unknown</td>\n",
       "      <td>28.55</td>\n",
       "      <td>115.9333</td>\n",
       "    </tr>\n",
       "    <tr>\n",
       "      <th>3/3/13 21:57</th>\n",
       "      <td>groucho-oregon</td>\n",
       "      <td>1347834426</td>\n",
       "      <td>UDP</td>\n",
       "      <td>NaN</td>\n",
       "      <td>5270.0</td>\n",
       "      <td>5060.0</td>\n",
       "      <td>80.86.82.58</td>\n",
       "      <td>DE</td>\n",
       "      <td>Germany</td>\n",
       "      <td>NaN</td>\n",
       "      <td>NaN</td>\n",
       "      <td>unknown</td>\n",
       "      <td>51.00</td>\n",
       "      <td>9.0000</td>\n",
       "    </tr>\n",
       "  </tbody>\n",
       "</table>\n",
       "</div>"
      ],
      "text/plain": [
       "                        host         src proto  type     spt     dpt  \\\n",
       "datetime                                                               \n",
       "3/3/13 21:53  groucho-oregon  1032051418   TCP   NaN  6000.0  1433.0   \n",
       "3/3/13 21:57  groucho-oregon  1347834426   UDP   NaN  5270.0  5060.0   \n",
       "\n",
       "                      srcstr  cc  country         locale localeabbr  \\\n",
       "datetime                                                              \n",
       "3/3/13 21:53  61.131.218.218  CN    China  Jiangxi Sheng         36   \n",
       "3/3/13 21:57     80.86.82.58  DE  Germany            NaN        NaN   \n",
       "\n",
       "             postalcode  latitude  longitude  \n",
       "datetime                                      \n",
       "3/3/13 21:53    unknown     28.55   115.9333  \n",
       "3/3/13 21:57    unknown     51.00     9.0000  "
      ]
     },
     "execution_count": 57,
     "metadata": {},
     "output_type": "execute_result"
    }
   ],
   "source": [
    "updated_hp_data.head(2)"
   ]
  },
  {
   "cell_type": "code",
   "execution_count": 58,
   "id": "e3ac508a",
   "metadata": {},
   "outputs": [
    {
     "data": {
      "text/html": [
       "<div>\n",
       "<style scoped>\n",
       "    .dataframe tbody tr th:only-of-type {\n",
       "        vertical-align: middle;\n",
       "    }\n",
       "\n",
       "    .dataframe tbody tr th {\n",
       "        vertical-align: top;\n",
       "    }\n",
       "\n",
       "    .dataframe thead th {\n",
       "        text-align: right;\n",
       "    }\n",
       "</style>\n",
       "<table border=\"1\" class=\"dataframe\">\n",
       "  <thead>\n",
       "    <tr style=\"text-align: right;\">\n",
       "      <th></th>\n",
       "      <th>host</th>\n",
       "      <th>src</th>\n",
       "      <th>proto</th>\n",
       "      <th>type</th>\n",
       "      <th>spt</th>\n",
       "      <th>dpt</th>\n",
       "      <th>srcstr</th>\n",
       "      <th>cc</th>\n",
       "      <th>country</th>\n",
       "      <th>locale</th>\n",
       "      <th>localeabbr</th>\n",
       "      <th>postalcode</th>\n",
       "      <th>latitude</th>\n",
       "      <th>longitude</th>\n",
       "    </tr>\n",
       "    <tr>\n",
       "      <th>datetime</th>\n",
       "      <th></th>\n",
       "      <th></th>\n",
       "      <th></th>\n",
       "      <th></th>\n",
       "      <th></th>\n",
       "      <th></th>\n",
       "      <th></th>\n",
       "      <th></th>\n",
       "      <th></th>\n",
       "      <th></th>\n",
       "      <th></th>\n",
       "      <th></th>\n",
       "      <th></th>\n",
       "      <th></th>\n",
       "    </tr>\n",
       "  </thead>\n",
       "  <tbody>\n",
       "    <tr>\n",
       "      <th>3/3/13 21:58</th>\n",
       "      <td>groucho-us-east</td>\n",
       "      <td>841842716</td>\n",
       "      <td>UDP</td>\n",
       "      <td>NaN</td>\n",
       "      <td>43235.0</td>\n",
       "      <td>1900.0</td>\n",
       "      <td>50.45.128.28</td>\n",
       "      <td>US</td>\n",
       "      <td>United States</td>\n",
       "      <td>Oregon</td>\n",
       "      <td>OR</td>\n",
       "      <td>97124</td>\n",
       "      <td>45.5848</td>\n",
       "      <td>-122.9117</td>\n",
       "    </tr>\n",
       "    <tr>\n",
       "      <th>3/3/13 21:58</th>\n",
       "      <td>groucho-tokyo</td>\n",
       "      <td>3323217250</td>\n",
       "      <td>TCP</td>\n",
       "      <td>NaN</td>\n",
       "      <td>32628.0</td>\n",
       "      <td>2323.0</td>\n",
       "      <td>198.20.69.98</td>\n",
       "      <td>US</td>\n",
       "      <td>United States</td>\n",
       "      <td>Illinois</td>\n",
       "      <td>IL</td>\n",
       "      <td>60661</td>\n",
       "      <td>41.8825</td>\n",
       "      <td>-87.6441</td>\n",
       "    </tr>\n",
       "  </tbody>\n",
       "</table>\n",
       "</div>"
      ],
      "text/plain": [
       "                         host         src proto  type      spt     dpt  \\\n",
       "datetime                                                                 \n",
       "3/3/13 21:58  groucho-us-east   841842716   UDP   NaN  43235.0  1900.0   \n",
       "3/3/13 21:58    groucho-tokyo  3323217250   TCP   NaN  32628.0  2323.0   \n",
       "\n",
       "                    srcstr  cc        country    locale localeabbr postalcode  \\\n",
       "datetime                                                                        \n",
       "3/3/13 21:58  50.45.128.28  US  United States    Oregon         OR      97124   \n",
       "3/3/13 21:58  198.20.69.98  US  United States  Illinois         IL      60661   \n",
       "\n",
       "              latitude  longitude  \n",
       "datetime                           \n",
       "3/3/13 21:58   45.5848  -122.9117  \n",
       "3/3/13 21:58   41.8825   -87.6441  "
      ]
     },
     "execution_count": 58,
     "metadata": {},
     "output_type": "execute_result"
    }
   ],
   "source": [
    "updated_hp_data[updated_hp_data.postalcode != 'unknown'].head(2)"
   ]
  },
  {
   "cell_type": "code",
   "execution_count": 59,
   "id": "60b9e144",
   "metadata": {},
   "outputs": [
    {
     "data": {
      "text/html": [
       "<div>\n",
       "<style scoped>\n",
       "    .dataframe tbody tr th:only-of-type {\n",
       "        vertical-align: middle;\n",
       "    }\n",
       "\n",
       "    .dataframe tbody tr th {\n",
       "        vertical-align: top;\n",
       "    }\n",
       "\n",
       "    .dataframe thead th {\n",
       "        text-align: right;\n",
       "    }\n",
       "</style>\n",
       "<table border=\"1\" class=\"dataframe\">\n",
       "  <thead>\n",
       "    <tr style=\"text-align: right;\">\n",
       "      <th></th>\n",
       "      <th>host</th>\n",
       "      <th>src</th>\n",
       "      <th>proto</th>\n",
       "      <th>srcstr</th>\n",
       "      <th>postalcode</th>\n",
       "    </tr>\n",
       "    <tr>\n",
       "      <th>datetime</th>\n",
       "      <th></th>\n",
       "      <th></th>\n",
       "      <th></th>\n",
       "      <th></th>\n",
       "      <th></th>\n",
       "    </tr>\n",
       "  </thead>\n",
       "  <tbody>\n",
       "    <tr>\n",
       "      <th>3/3/13 21:53</th>\n",
       "      <td>groucho-oregon</td>\n",
       "      <td>1032051418</td>\n",
       "      <td>TCP</td>\n",
       "      <td>61.131.218.218</td>\n",
       "      <td>unknown</td>\n",
       "    </tr>\n",
       "    <tr>\n",
       "      <th>3/3/13 21:57</th>\n",
       "      <td>groucho-oregon</td>\n",
       "      <td>1347834426</td>\n",
       "      <td>UDP</td>\n",
       "      <td>80.86.82.58</td>\n",
       "      <td>unknown</td>\n",
       "    </tr>\n",
       "    <tr>\n",
       "      <th>3/3/13 21:58</th>\n",
       "      <td>groucho-oregon</td>\n",
       "      <td>2947856490</td>\n",
       "      <td>TCP</td>\n",
       "      <td>175.180.184.106</td>\n",
       "      <td>unknown</td>\n",
       "    </tr>\n",
       "    <tr>\n",
       "      <th>3/3/13 21:58</th>\n",
       "      <td>groucho-us-east</td>\n",
       "      <td>841842716</td>\n",
       "      <td>UDP</td>\n",
       "      <td>50.45.128.28</td>\n",
       "      <td>97124</td>\n",
       "    </tr>\n",
       "    <tr>\n",
       "      <th>3/3/13 21:58</th>\n",
       "      <td>groucho-singapore</td>\n",
       "      <td>3587648279</td>\n",
       "      <td>TCP</td>\n",
       "      <td>213.215.43.23</td>\n",
       "      <td>unknown</td>\n",
       "    </tr>\n",
       "    <tr>\n",
       "      <th>...</th>\n",
       "      <td>...</td>\n",
       "      <td>...</td>\n",
       "      <td>...</td>\n",
       "      <td>...</td>\n",
       "      <td>...</td>\n",
       "    </tr>\n",
       "    <tr>\n",
       "      <th>9/8/13 5:54</th>\n",
       "      <td>groucho-oregon</td>\n",
       "      <td>1922977453</td>\n",
       "      <td>TCP</td>\n",
       "      <td>114.158.78.173</td>\n",
       "      <td>unknown</td>\n",
       "    </tr>\n",
       "    <tr>\n",
       "      <th>9/8/13 5:50</th>\n",
       "      <td>groucho-eu</td>\n",
       "      <td>1017974360</td>\n",
       "      <td>TCP</td>\n",
       "      <td>60.173.14.88</td>\n",
       "      <td>unknown</td>\n",
       "    </tr>\n",
       "    <tr>\n",
       "      <th>9/8/13 5:55</th>\n",
       "      <td>groucho-oregon</td>\n",
       "      <td>3234358955</td>\n",
       "      <td>TCP</td>\n",
       "      <td>192.200.102.171</td>\n",
       "      <td>90017</td>\n",
       "    </tr>\n",
       "    <tr>\n",
       "      <th>9/8/13 5:55</th>\n",
       "      <td>groucho-tokyo</td>\n",
       "      <td>28142724</td>\n",
       "      <td>TCP</td>\n",
       "      <td>1.173.108.132</td>\n",
       "      <td>unknown</td>\n",
       "    </tr>\n",
       "    <tr>\n",
       "      <th>9/8/13 5:55</th>\n",
       "      <td>groucho-tokyo</td>\n",
       "      <td>28142724</td>\n",
       "      <td>TCP</td>\n",
       "      <td>1.173.108.132</td>\n",
       "      <td>unknown</td>\n",
       "    </tr>\n",
       "  </tbody>\n",
       "</table>\n",
       "<p>451581 rows × 5 columns</p>\n",
       "</div>"
      ],
      "text/plain": [
       "                           host         src proto           srcstr postalcode\n",
       "datetime                                                                     \n",
       "3/3/13 21:53     groucho-oregon  1032051418   TCP   61.131.218.218    unknown\n",
       "3/3/13 21:57     groucho-oregon  1347834426   UDP      80.86.82.58    unknown\n",
       "3/3/13 21:58     groucho-oregon  2947856490   TCP  175.180.184.106    unknown\n",
       "3/3/13 21:58    groucho-us-east   841842716   UDP     50.45.128.28      97124\n",
       "3/3/13 21:58  groucho-singapore  3587648279   TCP    213.215.43.23    unknown\n",
       "...                         ...         ...   ...              ...        ...\n",
       "9/8/13 5:54      groucho-oregon  1922977453   TCP   114.158.78.173    unknown\n",
       "9/8/13 5:50          groucho-eu  1017974360   TCP     60.173.14.88    unknown\n",
       "9/8/13 5:55      groucho-oregon  3234358955   TCP  192.200.102.171      90017\n",
       "9/8/13 5:55       groucho-tokyo    28142724   TCP    1.173.108.132    unknown\n",
       "9/8/13 5:55       groucho-tokyo    28142724   TCP    1.173.108.132    unknown\n",
       "\n",
       "[451581 rows x 5 columns]"
      ]
     },
     "execution_count": 59,
     "metadata": {},
     "output_type": "execute_result"
    }
   ],
   "source": [
    "dropped_na_data = updated_hp_data.dropna(axis=1)\n",
    "dropped_na_data"
   ]
  },
  {
   "cell_type": "code",
   "execution_count": 60,
   "id": "733e4874",
   "metadata": {},
   "outputs": [
    {
     "data": {
      "text/html": [
       "<div>\n",
       "<style scoped>\n",
       "    .dataframe tbody tr th:only-of-type {\n",
       "        vertical-align: middle;\n",
       "    }\n",
       "\n",
       "    .dataframe tbody tr th {\n",
       "        vertical-align: top;\n",
       "    }\n",
       "\n",
       "    .dataframe thead th {\n",
       "        text-align: right;\n",
       "    }\n",
       "</style>\n",
       "<table border=\"1\" class=\"dataframe\">\n",
       "  <thead>\n",
       "    <tr style=\"text-align: right;\">\n",
       "      <th></th>\n",
       "      <th>host</th>\n",
       "      <th>src</th>\n",
       "      <th>proto</th>\n",
       "      <th>type</th>\n",
       "      <th>spt</th>\n",
       "      <th>dpt</th>\n",
       "      <th>srcstr</th>\n",
       "      <th>cc</th>\n",
       "      <th>country</th>\n",
       "      <th>locale</th>\n",
       "      <th>localeabbr</th>\n",
       "      <th>postalcode</th>\n",
       "      <th>latitude</th>\n",
       "      <th>longitude</th>\n",
       "    </tr>\n",
       "    <tr>\n",
       "      <th>datetime</th>\n",
       "      <th></th>\n",
       "      <th></th>\n",
       "      <th></th>\n",
       "      <th></th>\n",
       "      <th></th>\n",
       "      <th></th>\n",
       "      <th></th>\n",
       "      <th></th>\n",
       "      <th></th>\n",
       "      <th></th>\n",
       "      <th></th>\n",
       "      <th></th>\n",
       "      <th></th>\n",
       "      <th></th>\n",
       "    </tr>\n",
       "  </thead>\n",
       "  <tbody>\n",
       "  </tbody>\n",
       "</table>\n",
       "</div>"
      ],
      "text/plain": [
       "Empty DataFrame\n",
       "Columns: [host, src, proto, type, spt, dpt, srcstr, cc, country, locale, localeabbr, postalcode, latitude, longitude]\n",
       "Index: []"
      ]
     },
     "execution_count": 60,
     "metadata": {},
     "output_type": "execute_result"
    }
   ],
   "source": [
    "rowdrop_na_data = updated_hp_data.dropna(axis=0)\n",
    "rowdrop_na_data\n",
    "#Not ideal way to drop..."
   ]
  },
  {
   "cell_type": "code",
   "execution_count": 51,
   "id": "db3ce365",
   "metadata": {},
   "outputs": [
    {
     "name": "stdout",
     "output_type": "stream",
     "text": [
      "<class 'pandas.core.frame.DataFrame'>\n",
      "Index: 451581 entries, 3/3/13 21:53 to 9/8/13 5:55\n",
      "Data columns (total 14 columns):\n",
      " #   Column      Non-Null Count   Dtype \n",
      "---  ------      --------------   ----- \n",
      " 0   host        451581 non-null  object\n",
      " 1   src         451581 non-null  int64 \n",
      " 2   proto       451581 non-null  object\n",
      " 3   type        451581 non-null  object\n",
      " 4   spt         451581 non-null  object\n",
      " 5   dpt         451581 non-null  object\n",
      " 6   srcstr      451581 non-null  object\n",
      " 7   cc          451581 non-null  object\n",
      " 8   country     451581 non-null  object\n",
      " 9   locale      451581 non-null  object\n",
      " 10  localeabbr  451581 non-null  object\n",
      " 11  postalcode  451581 non-null  object\n",
      " 12  latitude    451581 non-null  object\n",
      " 13  longitude   451581 non-null  object\n",
      "dtypes: int64(1), object(13)\n",
      "memory usage: 51.7+ MB\n"
     ]
    }
   ],
   "source": [
    "#the columns with dtype objects can be filled with unknowns. Not the float64 columns\n",
    "updated_hp_data.fillna(value='unknown',axis=0,inplace=True)\n",
    "updated_hp_data.info()\n",
    "#See the data types are all strings.. why?"
   ]
  },
  {
   "cell_type": "code",
   "execution_count": 61,
   "id": "1a7c4f43",
   "metadata": {},
   "outputs": [],
   "source": [
    "#the columns with dtype objects can be filled with unknowns. Not the float64 columns\n",
    "null_filled_data = honey_pot_data.copy()\n",
    "for col in ['type','country','cc','locale','localeabbr','postalcode']:\n",
    "    null_filled_data[col].fillna('unknown',axis=0,inplace=True)"
   ]
  },
  {
   "cell_type": "code",
   "execution_count": 62,
   "id": "1997e4c9",
   "metadata": {},
   "outputs": [
    {
     "name": "stdout",
     "output_type": "stream",
     "text": [
      "<class 'pandas.core.frame.DataFrame'>\n",
      "RangeIndex: 451581 entries, 0 to 451580\n",
      "Data columns (total 16 columns):\n",
      " #   Column       Non-Null Count   Dtype  \n",
      "---  ------       --------------   -----  \n",
      " 0   datetime     451581 non-null  object \n",
      " 1   host         451581 non-null  object \n",
      " 2   src          451581 non-null  int64  \n",
      " 3   proto        451581 non-null  object \n",
      " 4   type         451581 non-null  object \n",
      " 5   spt          406770 non-null  float64\n",
      " 6   dpt          406770 non-null  float64\n",
      " 7   srcstr       451581 non-null  object \n",
      " 8   cc           451581 non-null  object \n",
      " 9   country      451581 non-null  object \n",
      " 10  locale       451581 non-null  object \n",
      " 11  localeabbr   451581 non-null  object \n",
      " 12  postalcode   451581 non-null  object \n",
      " 13  latitude     448112 non-null  float64\n",
      " 14  longitude    448153 non-null  float64\n",
      " 15  Unnamed: 15  83 non-null      float64\n",
      "dtypes: float64(5), int64(1), object(10)\n",
      "memory usage: 55.1+ MB\n"
     ]
    }
   ],
   "source": [
    "null_filled_data.info()"
   ]
  },
  {
   "cell_type": "code",
   "execution_count": 54,
   "id": "d1e8ca36",
   "metadata": {},
   "outputs": [
    {
     "data": {
      "text/plain": [
       "array([ 6000.,  5270.,  2489., ..., 22704., 46384., 59139.])"
      ]
     },
     "execution_count": 54,
     "metadata": {},
     "output_type": "execute_result"
    }
   ],
   "source": [
    "#Having domain knowledge helps... spt : source port, dpt : destination\n",
    "#We can make it as 0, since some application like ICMP wont hve port\n",
    "null_filled_data.spt.unique()"
   ]
  },
  {
   "cell_type": "code",
   "execution_count": 63,
   "id": "96d7b759",
   "metadata": {},
   "outputs": [],
   "source": [
    "for col_name in ['spt','dpt']:\n",
    "    #null_filled_data.fillna(0,inplace=True,axis=0)\n",
    "    null_filled_data[col_name].fillna(0,inplace=True,axis=0)"
   ]
  },
  {
   "cell_type": "code",
   "execution_count": 64,
   "id": "7c1c1c93",
   "metadata": {},
   "outputs": [
    {
     "name": "stdout",
     "output_type": "stream",
     "text": [
      "<class 'pandas.core.frame.DataFrame'>\n",
      "RangeIndex: 451581 entries, 0 to 451580\n",
      "Data columns (total 16 columns):\n",
      " #   Column       Non-Null Count   Dtype  \n",
      "---  ------       --------------   -----  \n",
      " 0   datetime     451581 non-null  object \n",
      " 1   host         451581 non-null  object \n",
      " 2   src          451581 non-null  int64  \n",
      " 3   proto        451581 non-null  object \n",
      " 4   type         451581 non-null  object \n",
      " 5   spt          451581 non-null  float64\n",
      " 6   dpt          451581 non-null  float64\n",
      " 7   srcstr       451581 non-null  object \n",
      " 8   cc           451581 non-null  object \n",
      " 9   country      451581 non-null  object \n",
      " 10  locale       451581 non-null  object \n",
      " 11  localeabbr   451581 non-null  object \n",
      " 12  postalcode   451581 non-null  object \n",
      " 13  latitude     448112 non-null  float64\n",
      " 14  longitude    448153 non-null  float64\n",
      " 15  Unnamed: 15  83 non-null      float64\n",
      "dtypes: float64(5), int64(1), object(10)\n",
      "memory usage: 55.1+ MB\n"
     ]
    }
   ],
   "source": [
    "null_filled_data.info()"
   ]
  },
  {
   "cell_type": "code",
   "execution_count": 65,
   "id": "a1e73559",
   "metadata": {},
   "outputs": [],
   "source": [
    "null_filled_data.drop('Unnamed: 15',inplace=True,axis=1)"
   ]
  },
  {
   "cell_type": "code",
   "execution_count": 66,
   "id": "187b5921",
   "metadata": {},
   "outputs": [
    {
     "data": {
      "text/html": [
       "<div>\n",
       "<style scoped>\n",
       "    .dataframe tbody tr th:only-of-type {\n",
       "        vertical-align: middle;\n",
       "    }\n",
       "\n",
       "    .dataframe tbody tr th {\n",
       "        vertical-align: top;\n",
       "    }\n",
       "\n",
       "    .dataframe thead th {\n",
       "        text-align: right;\n",
       "    }\n",
       "</style>\n",
       "<table border=\"1\" class=\"dataframe\">\n",
       "  <thead>\n",
       "    <tr style=\"text-align: right;\">\n",
       "      <th></th>\n",
       "      <th>datetime</th>\n",
       "      <th>host</th>\n",
       "      <th>src</th>\n",
       "      <th>proto</th>\n",
       "      <th>type</th>\n",
       "      <th>spt</th>\n",
       "      <th>dpt</th>\n",
       "      <th>srcstr</th>\n",
       "      <th>cc</th>\n",
       "      <th>country</th>\n",
       "      <th>locale</th>\n",
       "      <th>localeabbr</th>\n",
       "      <th>postalcode</th>\n",
       "      <th>latitude</th>\n",
       "      <th>longitude</th>\n",
       "    </tr>\n",
       "  </thead>\n",
       "  <tbody>\n",
       "    <tr>\n",
       "      <th>0</th>\n",
       "      <td>3/3/13 21:53</td>\n",
       "      <td>groucho-oregon</td>\n",
       "      <td>1032051418</td>\n",
       "      <td>TCP</td>\n",
       "      <td>unknown</td>\n",
       "      <td>6000.0</td>\n",
       "      <td>1433.0</td>\n",
       "      <td>61.131.218.218</td>\n",
       "      <td>CN</td>\n",
       "      <td>China</td>\n",
       "      <td>Jiangxi Sheng</td>\n",
       "      <td>36</td>\n",
       "      <td>unknown</td>\n",
       "      <td>28.55</td>\n",
       "      <td>115.9333</td>\n",
       "    </tr>\n",
       "    <tr>\n",
       "      <th>1</th>\n",
       "      <td>3/3/13 21:57</td>\n",
       "      <td>groucho-oregon</td>\n",
       "      <td>1347834426</td>\n",
       "      <td>UDP</td>\n",
       "      <td>unknown</td>\n",
       "      <td>5270.0</td>\n",
       "      <td>5060.0</td>\n",
       "      <td>80.86.82.58</td>\n",
       "      <td>DE</td>\n",
       "      <td>Germany</td>\n",
       "      <td>unknown</td>\n",
       "      <td>unknown</td>\n",
       "      <td>unknown</td>\n",
       "      <td>51.00</td>\n",
       "      <td>9.0000</td>\n",
       "    </tr>\n",
       "  </tbody>\n",
       "</table>\n",
       "</div>"
      ],
      "text/plain": [
       "       datetime            host         src proto     type     spt     dpt  \\\n",
       "0  3/3/13 21:53  groucho-oregon  1032051418   TCP  unknown  6000.0  1433.0   \n",
       "1  3/3/13 21:57  groucho-oregon  1347834426   UDP  unknown  5270.0  5060.0   \n",
       "\n",
       "           srcstr  cc  country         locale localeabbr postalcode  latitude  \\\n",
       "0  61.131.218.218  CN    China  Jiangxi Sheng         36    unknown     28.55   \n",
       "1     80.86.82.58  DE  Germany        unknown    unknown    unknown     51.00   \n",
       "\n",
       "   longitude  \n",
       "0   115.9333  \n",
       "1     9.0000  "
      ]
     },
     "execution_count": 66,
     "metadata": {},
     "output_type": "execute_result"
    }
   ],
   "source": [
    "#We can safely drop the remaining rows with null values... \n",
    "null_filled_data.dropna(axis=0).head(2)"
   ]
  },
  {
   "cell_type": "code",
   "execution_count": 67,
   "id": "c48c87ac",
   "metadata": {},
   "outputs": [],
   "source": [
    "null_filled_data.dropna(axis=0,inplace=True)"
   ]
  },
  {
   "cell_type": "code",
   "execution_count": 68,
   "id": "07f59f4a",
   "metadata": {},
   "outputs": [
    {
     "name": "stdout",
     "output_type": "stream",
     "text": [
      "<class 'pandas.core.frame.DataFrame'>\n",
      "Int64Index: 448112 entries, 0 to 451580\n",
      "Data columns (total 15 columns):\n",
      " #   Column      Non-Null Count   Dtype  \n",
      "---  ------      --------------   -----  \n",
      " 0   datetime    448112 non-null  object \n",
      " 1   host        448112 non-null  object \n",
      " 2   src         448112 non-null  int64  \n",
      " 3   proto       448112 non-null  object \n",
      " 4   type        448112 non-null  object \n",
      " 5   spt         448112 non-null  float64\n",
      " 6   dpt         448112 non-null  float64\n",
      " 7   srcstr      448112 non-null  object \n",
      " 8   cc          448112 non-null  object \n",
      " 9   country     448112 non-null  object \n",
      " 10  locale      448112 non-null  object \n",
      " 11  localeabbr  448112 non-null  object \n",
      " 12  postalcode  448112 non-null  object \n",
      " 13  latitude    448112 non-null  float64\n",
      " 14  longitude   448112 non-null  float64\n",
      "dtypes: float64(4), int64(1), object(10)\n",
      "memory usage: 54.7+ MB\n"
     ]
    }
   ],
   "source": [
    "null_filled_data.info()"
   ]
  },
  {
   "cell_type": "code",
   "execution_count": 69,
   "id": "4e2301b3",
   "metadata": {},
   "outputs": [],
   "source": [
    "#writing the dataframe to the file\n",
    "null_filled_data.to_csv(\"Cleaned_data_forAnalysis.csv\",index=False)"
   ]
  },
  {
   "cell_type": "markdown",
   "id": "b326fe2d",
   "metadata": {},
   "source": [
    "### This dataframe can now be used for further analysis. \n",
    "### Also it is best the above cells can be reviewed, and the command\n",
    "### tht transforms the data is converted to a python script. \n",
    "\n",
    "The script is called cleaning_honeypot_script.py. The script can be easily converted in to functions"
   ]
  },
  {
   "cell_type": "code",
   "execution_count": 70,
   "id": "70326001",
   "metadata": {},
   "outputs": [
    {
     "name": "stdout",
     "output_type": "stream",
     "text": [
      "archive.zip\t\t      cleaning_honeypot_script.py\r\n",
      "AWS_Honeypot_marx-geo.csv     pandas_intro_data_cleaning.ipynb\r\n",
      "Cleaned_data_forAnalysis.csv  pandas_intro_to_analysis.ipynb\r\n"
     ]
    }
   ],
   "source": [
    "!ls"
   ]
  },
  {
   "cell_type": "code",
   "execution_count": 66,
   "id": "0b372a05",
   "metadata": {},
   "outputs": [
    {
     "name": "stdout",
     "output_type": "stream",
     "text": [
      "6.2M\tarchive.zip\r\n",
      "47M\tAWS_Honeypot_marx-geo.csv\r\n",
      "55M\tcleaned_data.csv\r\n",
      "4.0K\tcleaning_honeypot_script.py\r\n",
      "104K\tpandas_intro_dataanalysis.ipynb\r\n"
     ]
    }
   ],
   "source": [
    "!du -h *"
   ]
  },
  {
   "cell_type": "code",
   "execution_count": null,
   "id": "afc0dae3",
   "metadata": {},
   "outputs": [],
   "source": []
  },
  {
   "cell_type": "code",
   "execution_count": null,
   "id": "0ae06064",
   "metadata": {},
   "outputs": [],
   "source": []
  }
 ],
 "metadata": {
  "kernelspec": {
   "display_name": "Python 3 (ipykernel)",
   "language": "python",
   "name": "python3"
  },
  "language_info": {
   "codemirror_mode": {
    "name": "ipython",
    "version": 3
   },
   "file_extension": ".py",
   "mimetype": "text/x-python",
   "name": "python",
   "nbconvert_exporter": "python",
   "pygments_lexer": "ipython3",
   "version": "3.10.9"
  }
 },
 "nbformat": 4,
 "nbformat_minor": 5
}
