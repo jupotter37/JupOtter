{
 "cells": [
  {
   "cell_type": "code",
   "execution_count": 1,
   "metadata": {},
   "outputs": [],
   "source": [
    "%load_ext autoreload\n",
    "%autoreload 2"
   ]
  },
  {
   "cell_type": "code",
   "execution_count": 20,
   "metadata": {},
   "outputs": [],
   "source": [
    "import pandas as pd\n",
    "from sklearn.model_selection import train_test_split\n",
    "\n",
    "from gptchem.data import get_matbench_is_metal, get_photoswitch_data\n",
    "from gptchem.extractor import (\n",
    "    FewShotClassificationExtractor,\n",
    "    FewShotRegressionExtractor,\n",
    "    RegressionExtractor,\n",
    ")\n",
    "from gptchem.formatter import FewShotFormatter\n",
    "from gptchem.querier import Querier"
   ]
  },
  {
   "cell_type": "code",
   "execution_count": 3,
   "metadata": {},
   "outputs": [],
   "source": [
    "PROMPT_TEMPLATE = \"\"\"Does {smiles} have a large transition wavelength?\n",
    "\n",
    "Examples:\n",
    "---------\n",
    "{examples}\n",
    "\"\"\""
   ]
  },
  {
   "cell_type": "code",
   "execution_count": 4,
   "metadata": {},
   "outputs": [],
   "source": [
    "data = get_photoswitch_data()"
   ]
  },
  {
   "cell_type": "code",
   "execution_count": 6,
   "metadata": {},
   "outputs": [],
   "source": [
    "data = data.dropna(subset=[\"E isomer pi-pi* wavelength in nm\", \"SMILES\"])"
   ]
  },
  {
   "cell_type": "code",
   "execution_count": 9,
   "metadata": {},
   "outputs": [
    {
     "name": "stderr",
     "output_type": "stream",
     "text": [
      "/var/folders/m9/_txh68y946s4pxy1x2wnd3lh0000gn/T/ipykernel_48510/442287488.py:1: SettingWithCopyWarning: \n",
      "A value is trying to be set on a copy of a slice from a DataFrame.\n",
      "Try using .loc[row_indexer,col_indexer] = value instead\n",
      "\n",
      "See the caveats in the documentation: https://pandas.pydata.org/pandas-docs/stable/user_guide/indexing.html#returning-a-view-versus-a-copy\n",
      "  data['transition_wavelength'] = pd.qcut(\n"
     ]
    }
   ],
   "source": [
    "data[\"transition_wavelength\"] = pd.qcut(\n",
    "    data[\"E isomer pi-pi* wavelength in nm\"], q=2, labels=[0, 1]\n",
    ")"
   ]
  },
  {
   "cell_type": "code",
   "execution_count": 12,
   "metadata": {},
   "outputs": [],
   "source": [
    "train, test = train_test_split(data, test_size=0.2, random_state=42)"
   ]
  },
  {
   "cell_type": "code",
   "execution_count": 13,
   "metadata": {},
   "outputs": [],
   "source": [
    "def create_example_string(\n",
    "    data,\n",
    "    num_examples: int = 10,\n",
    "    representation_col: str = \"SMILES\",\n",
    "    value_col: str = \"transition_wavelength\",\n",
    "):\n",
    "    examples = []\n",
    "    for i, row in data.sample(num_examples).iterrows():\n",
    "        examples.append(f\"- {row[representation_col]}: {row[value_col]}\")\n",
    "    return \"\\n\".join(examples)"
   ]
  },
  {
   "cell_type": "code",
   "execution_count": 14,
   "metadata": {},
   "outputs": [
    {
     "name": "stdout",
     "output_type": "stream",
     "text": [
      "- CCN(CC)C1=CC=C(/N=N/C2=CC(C#N)=CC=C2)C=C1: 1\n",
      "- OC%14=C%15N=CC=CC%15=C(/N=N/C%16=NC(C%17=CC=CC=C%17)=CS%16)C=C%14: 1\n",
      "- CC(C=C(N(CCC#N)CCO)C=C1)=C1/N=N/C2=CC(F)=CC=C2: 1\n",
      "- CC1=CC(/N=N/C2=CC=CC=C2)=CC=C1: 0\n",
      "- CC1=NOC(C)=C1/N=N/C2=CC(NC(C)=O)=CC=C2: 0\n",
      "- FC1=CC=C(/N=N/C2=CC=C(F)C=C2)C=C1: 0\n",
      "- NC1=CC=C(/N=N/C2=CC=C([N+]([O-])=O)C=C2)C=C1: 1\n",
      "- BrC1=CC=CC(/N=N/C2=CC=CC(Br)=C2)=C1: 0\n",
      "- OC1=CC=C(/N=N/C2=CC=CC=C2)C=C1: 0\n",
      "- CN(C)C(C=C1)=CC=C1/N=N/C2=CC=C(N(C)C)C=C2: 1\n"
     ]
    }
   ],
   "source": [
    "print(create_example_string(data))"
   ]
  },
  {
   "cell_type": "code",
   "execution_count": 16,
   "metadata": {},
   "outputs": [],
   "source": [
    "prompt = PROMPT_TEMPLATE.format(\n",
    "    smiles=test[\"SMILES\"].iloc[2], examples=create_example_string(train, 50)\n",
    ")"
   ]
  },
  {
   "cell_type": "code",
   "execution_count": 18,
   "metadata": {},
   "outputs": [
    {
     "name": "stdout",
     "output_type": "stream",
     "text": [
      "Does FC1=C(F)C=C(F)C(F)=C1/N=N/C2=C(F)C(F)=CC(F)=C2F have a large transition wavelength?\n",
      "\n",
      "Examples:\n",
      "---------\n",
      "- CC(C=C(N(CCC#N)CCO)C=C1)=C1/N=N/C2=CC=CC=C2: 1\n",
      "- CC9=CC(NCCC#N)=CC=C9/N=N/C%10=CC=CC=C%10: 1\n",
      "- CC%15=CC(N(CCO)CCC#N)=CC=C%15/N=N/C%16=CC=CC=C%16: 1\n",
      "- [H]N(C)C(C=C1)=CC=C1/N=N/C2=CC=C([N+]([O-])=O)C=C2: 1\n",
      "- O=C(C)NC(C=C%31)=CC=C%31N=NC%32=NC%33=CC=C([N+]([O-])=O)C=C%33S%32: 1\n",
      "- [H]C7=CC([N+]([O-])=O)=CC(C#N)=C7/N=N/C8=CC(OC)=C(C=C8)N(CC)CC: 1\n",
      "- [H]C1=CC([N+]([O-])=O)=CC(C#N)=C1/N=N/C2=CC([H])=C(C=C2[H])N(CC)CC: 1\n",
      "- CN(C)C1=CC=C(/N=N/C2=CC=CC=C2)C=C1: 1\n",
      "- Sc1[nH]nc(n1)N=Nc1c(C)n(c2c1cccc2)C: 1\n",
      "- CC1=CC=C(/N=N/C2=CC=CS2)C=C1: 0\n",
      "- ClC%11=CC([N+]([O-])=O)=CC(C#N)=C%11/N=N/C%12=CC(OC)=C(C=C%12)N(CC)CC: 1\n",
      "- O=[N+]([O-])C1=CC=C(/N=N/C2=CC=C(NCCC#N)C=C2)C=C1: 1\n",
      "- CC1=C(C(C)=NN1)/N=N/C2=CC(C(O)=O)=CC=C2: 0\n",
      "- CC(C=C(N(CCC#N)CCO)C=C1)=C1/N=N/C2=C(C(F)(F)F)C=CC=C2: 1\n",
      "- NC1=CC=C(/N=N/C2=CC=C(N(CC)CC)C=C2)C=C1: 1\n",
      "- OC1=C(/N=N/C2=CC=C(NC(C)=O)C=C2)C=C(C)C=C1: 0\n",
      "- CSC(C=C%10)=CC=C%10N=NC%11=NC%12=CC=C([N+]([O-])=O)C=C%12S%11: 1\n",
      "- BrC(C=C1)=CC=C1/N=N/C2=CC=C(N(C)C)C=C2: 1\n",
      "- FC1=CC=CC=C1/N=N/C2=CC=C(NCCC#N)C=C2: 1\n",
      "- CC1=NOC(C)=C1/N=N/C2=CC(C(F)(F)F)=CC=C2: 0\n",
      "- ClC1=C(/N=N/C2=C(Cl)C=CC=C2)C=CC=C1: 0\n",
      "- OC1=CC=C(/N=N/C2=CC=CC=C2)C=C1: 0\n",
      "- FC1=CC=CC=C1N=NC2=NNC=C2: 0\n",
      "- [H]C%16=CC=C(N=C(N=NC%17=CC=CC=C%17OC)S%18)C%18=C%16: 0\n",
      "- CC1=NOC(C)=C1/N=N/C2=CC(Br)=CC=C2: 0\n",
      "- OC%26=C%27N=CC=CC%27=C(/N=N/C%28=NC%29=CC=CC=C%29S%28)C=C%26: 1\n",
      "- CC1=C(C(C)=NN1)/N=N/C2=CC=C(C(F)(F)F)C=C2: 0\n",
      "- CC9=CC(NCCC#N)=CC=C9/N=N/C%10=CC=C([N+]([O-])=O)C=C%10: 1\n",
      "- C1(/N=N/C2=CC=NN2)=CC=NN1: 0\n",
      "- O=C1C=CC(N1C2=CC=C(/N=N/C3=CC=CC=C3)C=C2)=O: 0\n",
      "- CC1=C(C(C)=NN1)/N=N/C2=CC=C(Br)C=C2: 0\n",
      "- OC%23=C(N=CC=C%24)C%24=C(/N=N/C%25=CC=CC=C%25C(O)=O)C=C%23: 1\n",
      "- O=[N+]([O-])C1=CC=C(/N=N/C2=CC=C(C=C2)[N+]([O-])=O)C=C1: 0\n",
      "- CCN(CC)C(C=C1)=CC=C1/N=N/C2=C(C#N)C=CC(C#N)=C2: 1\n",
      "- CC1=CC=CC=C1/N=N/C2=CC=CC=C2: 0\n",
      "- CC(NC(C=C1)=CC(OC)=C1/N=N/C2=C(OC)C=C(NC(C)=O)C=C2)=O: 0\n",
      "- CN1C(/N=N/C2=CC=CC=C2)=NC=C1: 0\n",
      "- CN(CCC#N)C(C=C%17)=CC=C%17/N=N/C%18=CC=CC=C%18: 1\n",
      "- [H]C5=C(N6CCCCC6)C=CC(/N=N/C7=CC=C(N8CCCCC8)C([H])=C7)=C5: 1\n",
      "- CC1=C(/N=N/C2=C3C=CC=CC3=CC=C2)C(C)=NO1: 0\n",
      "- CC1=C(/N=N/C2=CC=C(N(C)C)C=C2C)C=CC(C)=C1: 1\n",
      "- FC1=CC(F)=CC(F)=C1/N=N/C(C(F)=C2)=C(F)C=C2F: 0\n",
      "- FC1=CC(/N=N/C2=CC=C(NCCC#N)C=C2)=CC=C1: 1\n",
      "- CC(C=C(N(CCC#N)CCO)C=C1)=C1/N=N/C2=CC=CC(Cl)=C2: 1\n",
      "- CCN(CCC#N)C(C=C%21C)=CC=C%21/N=N/C%22=CC=C([N+]([O-])=O)C=C%22: 1\n",
      "- CC1=CC(N(CC)CC)=CC=C1/N=N/C2=C(C#N)C=C(C#N)C=C2C#N: 1\n",
      "- CC(C=C(N(CCC#N)CCO)C=C1)=C1/N=N/C2=CC=C(S(=O)(C)=O)C=C2: 1\n",
      "- [O-][N+](C(C=C1)=CC=C1N=NC2=NNC=C2)=O: 0\n",
      "- FC1=CC=C(/N=N/C2=CC=CC=C2)C=C1: 0\n",
      "- CC(C(C=C1)=CC=C1N=NC2=NNC=C2)=O: 0\n",
      "\n"
     ]
    }
   ],
   "source": [
    "print(prompt)"
   ]
  },
  {
   "cell_type": "code",
   "execution_count": 19,
   "metadata": {},
   "outputs": [],
   "source": [
    "querier = Querier(\"ada\", max_tokens=600)"
   ]
  },
  {
   "cell_type": "code",
   "execution_count": 21,
   "metadata": {},
   "outputs": [],
   "source": [
    "formatter = FewShotFormatter(\n",
    "    train.sample(10),\n",
    "    \"transition wavelengths of photoswitch molecules\",\n",
    "    \"SMILES\",\n",
    "    \"transition_wavelength\",\n",
    ")"
   ]
  },
  {
   "cell_type": "code",
   "execution_count": 23,
   "metadata": {},
   "outputs": [
    {
     "data": {
      "text/plain": [
       "gptchem.formatter.FewShotFormatter(representation_column='SMILES', label_column='transition_wavelength', property_name='transition wavelengths of photoswitch molecules')"
      ]
     },
     "execution_count": 23,
     "metadata": {},
     "output_type": "execute_result"
    }
   ],
   "source": [
    "formatter"
   ]
  },
  {
   "cell_type": "code",
   "execution_count": 24,
   "metadata": {},
   "outputs": [
    {
     "data": {
      "text/html": [
       "<div>\n",
       "<style scoped>\n",
       "    .dataframe tbody tr th:only-of-type {\n",
       "        vertical-align: middle;\n",
       "    }\n",
       "\n",
       "    .dataframe tbody tr th {\n",
       "        vertical-align: top;\n",
       "    }\n",
       "\n",
       "    .dataframe thead th {\n",
       "        text-align: right;\n",
       "    }\n",
       "</style>\n",
       "<table border=\"1\" class=\"dataframe\">\n",
       "  <thead>\n",
       "    <tr style=\"text-align: right;\">\n",
       "      <th></th>\n",
       "      <th>prompt</th>\n",
       "      <th>completion</th>\n",
       "      <th>label</th>\n",
       "      <th>representation</th>\n",
       "    </tr>\n",
       "  </thead>\n",
       "  <tbody>\n",
       "    <tr>\n",
       "      <th>0</th>\n",
       "      <td>I am a highly intelligent question answering b...</td>\n",
       "      <td>1</td>\n",
       "      <td>1</td>\n",
       "      <td>CCN(CCC#N)C(C=C%19)=CC=C%19/N=N/C%20=CC=CC=C%20</td>\n",
       "    </tr>\n",
       "    <tr>\n",
       "      <th>1</th>\n",
       "      <td>I am a highly intelligent question answering b...</td>\n",
       "      <td>0</td>\n",
       "      <td>0</td>\n",
       "      <td>CC1=C(C(C)=NN1)/N=N/C2=C(OC)C=CC=C2</td>\n",
       "    </tr>\n",
       "    <tr>\n",
       "      <th>2</th>\n",
       "      <td>I am a highly intelligent question answering b...</td>\n",
       "      <td>1</td>\n",
       "      <td>1</td>\n",
       "      <td>CC(C=C(N(CCC#N)CCO)C=C1)=C1/N=N/C2=CC=C([N+]([...</td>\n",
       "    </tr>\n",
       "    <tr>\n",
       "      <th>3</th>\n",
       "      <td>I am a highly intelligent question answering b...</td>\n",
       "      <td>0</td>\n",
       "      <td>0</td>\n",
       "      <td>ClC(C=C%13)=CC=C%13N=NC%14=NC%15=CC=C([N+]([O-...</td>\n",
       "    </tr>\n",
       "    <tr>\n",
       "      <th>4</th>\n",
       "      <td>I am a highly intelligent question answering b...</td>\n",
       "      <td>1</td>\n",
       "      <td>1</td>\n",
       "      <td>[H]C1=CC([N+]([O-])=O)=CC(C#N)=C1/N=N/C2=CC([H...</td>\n",
       "    </tr>\n",
       "    <tr>\n",
       "      <th>...</th>\n",
       "      <td>...</td>\n",
       "      <td>...</td>\n",
       "      <td>...</td>\n",
       "      <td>...</td>\n",
       "    </tr>\n",
       "    <tr>\n",
       "      <th>307</th>\n",
       "      <td>I am a highly intelligent question answering b...</td>\n",
       "      <td>0</td>\n",
       "      <td>0</td>\n",
       "      <td>CC1=C(C(C)=NN1)/N=N/C2=CC(NC(C)=O)=CC=C2</td>\n",
       "    </tr>\n",
       "    <tr>\n",
       "      <th>308</th>\n",
       "      <td>I am a highly intelligent question answering b...</td>\n",
       "      <td>0</td>\n",
       "      <td>0</td>\n",
       "      <td>C1(/N=N/C2=CC=CC=C2)=CC=CC=C1</td>\n",
       "    </tr>\n",
       "    <tr>\n",
       "      <th>309</th>\n",
       "      <td>I am a highly intelligent question answering b...</td>\n",
       "      <td>1</td>\n",
       "      <td>1</td>\n",
       "      <td>N#CCCNC(C=C1)=CC=C1/N=N/C2=CC=CC=C2C#N</td>\n",
       "    </tr>\n",
       "    <tr>\n",
       "      <th>310</th>\n",
       "      <td>I am a highly intelligent question answering b...</td>\n",
       "      <td>1</td>\n",
       "      <td>1</td>\n",
       "      <td>[H]C%25=CC=C(N=C(N=NC%26=CC=C(SC)C=C%26)S%27)C...</td>\n",
       "    </tr>\n",
       "    <tr>\n",
       "      <th>311</th>\n",
       "      <td>I am a highly intelligent question answering b...</td>\n",
       "      <td>0</td>\n",
       "      <td>0</td>\n",
       "      <td>CC1=C(/N=N/C2=CC=CC(N)=C2)C(C)=NO1</td>\n",
       "    </tr>\n",
       "  </tbody>\n",
       "</table>\n",
       "<p>312 rows × 4 columns</p>\n",
       "</div>"
      ],
      "text/plain": [
       "                                                prompt  completion  label  \\\n",
       "0    I am a highly intelligent question answering b...           1      1   \n",
       "1    I am a highly intelligent question answering b...           0      0   \n",
       "2    I am a highly intelligent question answering b...           1      1   \n",
       "3    I am a highly intelligent question answering b...           0      0   \n",
       "4    I am a highly intelligent question answering b...           1      1   \n",
       "..                                                 ...         ...    ...   \n",
       "307  I am a highly intelligent question answering b...           0      0   \n",
       "308  I am a highly intelligent question answering b...           0      0   \n",
       "309  I am a highly intelligent question answering b...           1      1   \n",
       "310  I am a highly intelligent question answering b...           1      1   \n",
       "311  I am a highly intelligent question answering b...           0      0   \n",
       "\n",
       "                                        representation  \n",
       "0      CCN(CCC#N)C(C=C%19)=CC=C%19/N=N/C%20=CC=CC=C%20  \n",
       "1                  CC1=C(C(C)=NN1)/N=N/C2=C(OC)C=CC=C2  \n",
       "2    CC(C=C(N(CCC#N)CCO)C=C1)=C1/N=N/C2=CC=C([N+]([...  \n",
       "3    ClC(C=C%13)=CC=C%13N=NC%14=NC%15=CC=C([N+]([O-...  \n",
       "4    [H]C1=CC([N+]([O-])=O)=CC(C#N)=C1/N=N/C2=CC([H...  \n",
       "..                                                 ...  \n",
       "307           CC1=C(C(C)=NN1)/N=N/C2=CC(NC(C)=O)=CC=C2  \n",
       "308                      C1(/N=N/C2=CC=CC=C2)=CC=CC=C1  \n",
       "309             N#CCCNC(C=C1)=CC=C1/N=N/C2=CC=CC=C2C#N  \n",
       "310  [H]C%25=CC=C(N=C(N=NC%26=CC=C(SC)C=C%26)S%27)C...  \n",
       "311                 CC1=C(/N=N/C2=CC=CC(N)=C2)C(C)=NO1  \n",
       "\n",
       "[312 rows x 4 columns]"
      ]
     },
     "execution_count": 24,
     "metadata": {},
     "output_type": "execute_result"
    }
   ],
   "source": [
    "formatter(train)"
   ]
  },
  {
   "cell_type": "code",
   "execution_count": 26,
   "metadata": {},
   "outputs": [],
   "source": [
    "prompt = formatter(test.sample(10))"
   ]
  },
  {
   "cell_type": "code",
   "execution_count": 27,
   "metadata": {},
   "outputs": [
    {
     "data": {
      "text/html": [
       "<div>\n",
       "<style scoped>\n",
       "    .dataframe tbody tr th:only-of-type {\n",
       "        vertical-align: middle;\n",
       "    }\n",
       "\n",
       "    .dataframe tbody tr th {\n",
       "        vertical-align: top;\n",
       "    }\n",
       "\n",
       "    .dataframe thead th {\n",
       "        text-align: right;\n",
       "    }\n",
       "</style>\n",
       "<table border=\"1\" class=\"dataframe\">\n",
       "  <thead>\n",
       "    <tr style=\"text-align: right;\">\n",
       "      <th></th>\n",
       "      <th>prompt</th>\n",
       "      <th>completion</th>\n",
       "      <th>label</th>\n",
       "      <th>representation</th>\n",
       "    </tr>\n",
       "  </thead>\n",
       "  <tbody>\n",
       "    <tr>\n",
       "      <th>0</th>\n",
       "      <td>I am a highly intelligent question answering b...</td>\n",
       "      <td>1</td>\n",
       "      <td>1</td>\n",
       "      <td>O=[N+]([O-])C(C=C1)=CC=C1/N=N/C2=CC=C(NC3=CC=C...</td>\n",
       "    </tr>\n",
       "    <tr>\n",
       "      <th>1</th>\n",
       "      <td>I am a highly intelligent question answering b...</td>\n",
       "      <td>1</td>\n",
       "      <td>1</td>\n",
       "      <td>CCc1nnc(s1)N=Nc1c2ccccc2n(c1C)C</td>\n",
       "    </tr>\n",
       "    <tr>\n",
       "      <th>2</th>\n",
       "      <td>I am a highly intelligent question answering b...</td>\n",
       "      <td>1</td>\n",
       "      <td>1</td>\n",
       "      <td>CC1=C(/N=N/C2=NN=C(CC)S2)C3=CC=CC=C3N1</td>\n",
       "    </tr>\n",
       "    <tr>\n",
       "      <th>3</th>\n",
       "      <td>I am a highly intelligent question answering b...</td>\n",
       "      <td>0</td>\n",
       "      <td>0</td>\n",
       "      <td>ClC1=CC=CC(/N=N/C2=CC=CC(Cl)=C2)=C1</td>\n",
       "    </tr>\n",
       "    <tr>\n",
       "      <th>4</th>\n",
       "      <td>I am a highly intelligent question answering b...</td>\n",
       "      <td>1</td>\n",
       "      <td>1</td>\n",
       "      <td>ClC1=CC=C(/N=N/C2=CC=C(NCCC#N)C=C2)C=C1</td>\n",
       "    </tr>\n",
       "    <tr>\n",
       "      <th>5</th>\n",
       "      <td>I am a highly intelligent question answering b...</td>\n",
       "      <td>1</td>\n",
       "      <td>1</td>\n",
       "      <td>[H]C5=CC([N+]([O-])=O)=CC([N+]([O-])=O)=C5/N=N...</td>\n",
       "    </tr>\n",
       "    <tr>\n",
       "      <th>6</th>\n",
       "      <td>I am a highly intelligent question answering b...</td>\n",
       "      <td>1</td>\n",
       "      <td>1</td>\n",
       "      <td>FC1=CC=C(/N=N/C2=CC=C(NCCC#N)C=C2)C=C1</td>\n",
       "    </tr>\n",
       "    <tr>\n",
       "      <th>7</th>\n",
       "      <td>I am a highly intelligent question answering b...</td>\n",
       "      <td>1</td>\n",
       "      <td>1</td>\n",
       "      <td>O=C(C)NC1=CC=C(/N=N/C2=CC=C(NCCC#N)C=C2)C=C1</td>\n",
       "    </tr>\n",
       "    <tr>\n",
       "      <th>8</th>\n",
       "      <td>I am a highly intelligent question answering b...</td>\n",
       "      <td>0</td>\n",
       "      <td>0</td>\n",
       "      <td>BrC1=CC=C(/N=N/C2=CC=C(Br)C=C2)C=C1</td>\n",
       "    </tr>\n",
       "    <tr>\n",
       "      <th>9</th>\n",
       "      <td>I am a highly intelligent question answering b...</td>\n",
       "      <td>0</td>\n",
       "      <td>0</td>\n",
       "      <td>CC1=C(C(C)=NN1)/N=N/C2=CC(Br)=CC=C2</td>\n",
       "    </tr>\n",
       "  </tbody>\n",
       "</table>\n",
       "</div>"
      ],
      "text/plain": [
       "                                              prompt  completion  label  \\\n",
       "0  I am a highly intelligent question answering b...           1      1   \n",
       "1  I am a highly intelligent question answering b...           1      1   \n",
       "2  I am a highly intelligent question answering b...           1      1   \n",
       "3  I am a highly intelligent question answering b...           0      0   \n",
       "4  I am a highly intelligent question answering b...           1      1   \n",
       "5  I am a highly intelligent question answering b...           1      1   \n",
       "6  I am a highly intelligent question answering b...           1      1   \n",
       "7  I am a highly intelligent question answering b...           1      1   \n",
       "8  I am a highly intelligent question answering b...           0      0   \n",
       "9  I am a highly intelligent question answering b...           0      0   \n",
       "\n",
       "                                      representation  \n",
       "0  O=[N+]([O-])C(C=C1)=CC=C1/N=N/C2=CC=C(NC3=CC=C...  \n",
       "1                    CCc1nnc(s1)N=Nc1c2ccccc2n(c1C)C  \n",
       "2             CC1=C(/N=N/C2=NN=C(CC)S2)C3=CC=CC=C3N1  \n",
       "3                ClC1=CC=CC(/N=N/C2=CC=CC(Cl)=C2)=C1  \n",
       "4            ClC1=CC=C(/N=N/C2=CC=C(NCCC#N)C=C2)C=C1  \n",
       "5  [H]C5=CC([N+]([O-])=O)=CC([N+]([O-])=O)=C5/N=N...  \n",
       "6             FC1=CC=C(/N=N/C2=CC=C(NCCC#N)C=C2)C=C1  \n",
       "7       O=C(C)NC1=CC=C(/N=N/C2=CC=C(NCCC#N)C=C2)C=C1  \n",
       "8                BrC1=CC=C(/N=N/C2=CC=C(Br)C=C2)C=C1  \n",
       "9                CC1=C(C(C)=NN1)/N=N/C2=CC(Br)=CC=C2  "
      ]
     },
     "execution_count": 27,
     "metadata": {},
     "output_type": "execute_result"
    }
   ],
   "source": [
    "prompt"
   ]
  },
  {
   "cell_type": "code",
   "execution_count": 28,
   "metadata": {},
   "outputs": [
    {
     "name": "stdout",
     "output_type": "stream",
     "text": [
      "I am a highly intelligent question answering bot that answers questions about transition wavelengths of photoswitch molecules.\n",
      "\n",
      "Q: [H]C7=CC([N+]([O-])=O)=CC(C#N)=C7/N=N/C8=CC(OC)=C(C=C8)N(CC)CC\n",
      "A: 1\n",
      "\n",
      "Q: [H]N(CC)C(C=C3)=CC=C3/N=N/C4=CC=CC=C4\n",
      "A: 1\n",
      "\n",
      "Q: CC(C=C(N(CCC#N)CCO)C=C1)=C1/N=N/C2=CC=C([N+]([O-])=O)C=C2\n",
      "A: 1\n",
      "\n",
      "Q: CC(C=C(N(CCC#N)CCO)C=C1)=C1/N=N/C2=CC=C(C(C)=O)C=C2\n",
      "A: 1\n",
      "\n",
      "Q: CCN(CC)C(C=C1)=CC=C1/N=N/C2=C(C#N)C=C(C#N)C=C2\n",
      "A: 1\n",
      "\n",
      "Q: CC1=NOC(C)=C1/N=N/C2=CC(C(F)(F)F)=CC=C2\n",
      "A: 0\n",
      "\n",
      "Q: CC(NC1=CC=C(/N=N/C2=CC=CC=C2)C=C1)=O\n",
      "A: 0\n",
      "\n",
      "Q: CC1=CC=CC=C1/N=N/C2=CC=C(NCCC#N)C=C2\n",
      "A: 1\n",
      "\n",
      "Q: CC1=NOC(C)=C1/N=N/C2=CC=C(OC)C=C2\n",
      "A: 0\n",
      "\n",
      "Q: CC1=C(C(C)=NN1)/N=N/C2=CC(F)=CC=C2\n",
      "A: 0\n",
      "\n",
      "Q: O=[N+]([O-])C(C=C1)=CC=C1/N=N/C2=CC=C(NC3=CC=CC=C3)C=C2\n"
     ]
    }
   ],
   "source": [
    "print(prompt.iloc[0][\"prompt\"])"
   ]
  },
  {
   "cell_type": "code",
   "execution_count": 33,
   "metadata": {},
   "outputs": [],
   "source": [
    "import openai"
   ]
  },
  {
   "cell_type": "code",
   "execution_count": 41,
   "metadata": {},
   "outputs": [
    {
     "ename": "Timeout",
     "evalue": "Request timed out: HTTPSConnectionPool(host='api.openai.com', port=443): Read timed out. (read timeout=600)",
     "output_type": "error",
     "traceback": [
      "\u001b[0;31m---------------------------------------------------------------------------\u001b[0m",
      "\u001b[0;31mTimeoutError\u001b[0m                              Traceback (most recent call last)",
      "File \u001b[0;32m~/miniconda3/envs/gptchem/lib/python3.9/site-packages/urllib3/connectionpool.py:449\u001b[0m, in \u001b[0;36mHTTPConnectionPool._make_request\u001b[0;34m(self, conn, method, url, timeout, chunked, **httplib_request_kw)\u001b[0m\n\u001b[1;32m    445\u001b[0m         \u001b[39mexcept\u001b[39;00m \u001b[39mBaseException\u001b[39;00m \u001b[39mas\u001b[39;00m e:\n\u001b[1;32m    446\u001b[0m             \u001b[39m# Remove the TypeError from the exception chain in\u001b[39;00m\n\u001b[1;32m    447\u001b[0m             \u001b[39m# Python 3 (including for exceptions like SystemExit).\u001b[39;00m\n\u001b[1;32m    448\u001b[0m             \u001b[39m# Otherwise it looks like a bug in the code.\u001b[39;00m\n\u001b[0;32m--> 449\u001b[0m             six\u001b[39m.\u001b[39;49mraise_from(e, \u001b[39mNone\u001b[39;49;00m)\n\u001b[1;32m    450\u001b[0m \u001b[39mexcept\u001b[39;00m (SocketTimeout, BaseSSLError, SocketError) \u001b[39mas\u001b[39;00m e:\n",
      "File \u001b[0;32m<string>:3\u001b[0m, in \u001b[0;36mraise_from\u001b[0;34m(value, from_value)\u001b[0m\n",
      "File \u001b[0;32m~/miniconda3/envs/gptchem/lib/python3.9/site-packages/urllib3/connectionpool.py:444\u001b[0m, in \u001b[0;36mHTTPConnectionPool._make_request\u001b[0;34m(self, conn, method, url, timeout, chunked, **httplib_request_kw)\u001b[0m\n\u001b[1;32m    443\u001b[0m \u001b[39mtry\u001b[39;00m:\n\u001b[0;32m--> 444\u001b[0m     httplib_response \u001b[39m=\u001b[39m conn\u001b[39m.\u001b[39;49mgetresponse()\n\u001b[1;32m    445\u001b[0m \u001b[39mexcept\u001b[39;00m \u001b[39mBaseException\u001b[39;00m \u001b[39mas\u001b[39;00m e:\n\u001b[1;32m    446\u001b[0m     \u001b[39m# Remove the TypeError from the exception chain in\u001b[39;00m\n\u001b[1;32m    447\u001b[0m     \u001b[39m# Python 3 (including for exceptions like SystemExit).\u001b[39;00m\n\u001b[1;32m    448\u001b[0m     \u001b[39m# Otherwise it looks like a bug in the code.\u001b[39;00m\n",
      "File \u001b[0;32m~/miniconda3/envs/gptchem/lib/python3.9/http/client.py:1377\u001b[0m, in \u001b[0;36mHTTPConnection.getresponse\u001b[0;34m(self)\u001b[0m\n\u001b[1;32m   1376\u001b[0m \u001b[39mtry\u001b[39;00m:\n\u001b[0;32m-> 1377\u001b[0m     response\u001b[39m.\u001b[39;49mbegin()\n\u001b[1;32m   1378\u001b[0m \u001b[39mexcept\u001b[39;00m \u001b[39mConnectionError\u001b[39;00m:\n",
      "File \u001b[0;32m~/miniconda3/envs/gptchem/lib/python3.9/http/client.py:320\u001b[0m, in \u001b[0;36mHTTPResponse.begin\u001b[0;34m(self)\u001b[0m\n\u001b[1;32m    319\u001b[0m \u001b[39mwhile\u001b[39;00m \u001b[39mTrue\u001b[39;00m:\n\u001b[0;32m--> 320\u001b[0m     version, status, reason \u001b[39m=\u001b[39m \u001b[39mself\u001b[39;49m\u001b[39m.\u001b[39;49m_read_status()\n\u001b[1;32m    321\u001b[0m     \u001b[39mif\u001b[39;00m status \u001b[39m!=\u001b[39m CONTINUE:\n",
      "File \u001b[0;32m~/miniconda3/envs/gptchem/lib/python3.9/http/client.py:281\u001b[0m, in \u001b[0;36mHTTPResponse._read_status\u001b[0;34m(self)\u001b[0m\n\u001b[1;32m    280\u001b[0m \u001b[39mdef\u001b[39;00m \u001b[39m_read_status\u001b[39m(\u001b[39mself\u001b[39m):\n\u001b[0;32m--> 281\u001b[0m     line \u001b[39m=\u001b[39m \u001b[39mstr\u001b[39m(\u001b[39mself\u001b[39;49m\u001b[39m.\u001b[39;49mfp\u001b[39m.\u001b[39;49mreadline(_MAXLINE \u001b[39m+\u001b[39;49m \u001b[39m1\u001b[39;49m), \u001b[39m\"\u001b[39m\u001b[39miso-8859-1\u001b[39m\u001b[39m\"\u001b[39m)\n\u001b[1;32m    282\u001b[0m     \u001b[39mif\u001b[39;00m \u001b[39mlen\u001b[39m(line) \u001b[39m>\u001b[39m _MAXLINE:\n",
      "File \u001b[0;32m~/miniconda3/envs/gptchem/lib/python3.9/socket.py:704\u001b[0m, in \u001b[0;36mSocketIO.readinto\u001b[0;34m(self, b)\u001b[0m\n\u001b[1;32m    703\u001b[0m \u001b[39mtry\u001b[39;00m:\n\u001b[0;32m--> 704\u001b[0m     \u001b[39mreturn\u001b[39;00m \u001b[39mself\u001b[39;49m\u001b[39m.\u001b[39;49m_sock\u001b[39m.\u001b[39;49mrecv_into(b)\n\u001b[1;32m    705\u001b[0m \u001b[39mexcept\u001b[39;00m timeout:\n",
      "File \u001b[0;32m~/miniconda3/envs/gptchem/lib/python3.9/ssl.py:1242\u001b[0m, in \u001b[0;36mSSLSocket.recv_into\u001b[0;34m(self, buffer, nbytes, flags)\u001b[0m\n\u001b[1;32m   1239\u001b[0m         \u001b[39mraise\u001b[39;00m \u001b[39mValueError\u001b[39;00m(\n\u001b[1;32m   1240\u001b[0m           \u001b[39m\"\u001b[39m\u001b[39mnon-zero flags not allowed in calls to recv_into() on \u001b[39m\u001b[39m%s\u001b[39;00m\u001b[39m\"\u001b[39m \u001b[39m%\u001b[39m\n\u001b[1;32m   1241\u001b[0m           \u001b[39mself\u001b[39m\u001b[39m.\u001b[39m\u001b[39m__class__\u001b[39m)\n\u001b[0;32m-> 1242\u001b[0m     \u001b[39mreturn\u001b[39;00m \u001b[39mself\u001b[39;49m\u001b[39m.\u001b[39;49mread(nbytes, buffer)\n\u001b[1;32m   1243\u001b[0m \u001b[39melse\u001b[39;00m:\n",
      "File \u001b[0;32m~/miniconda3/envs/gptchem/lib/python3.9/ssl.py:1100\u001b[0m, in \u001b[0;36mSSLSocket.read\u001b[0;34m(self, len, buffer)\u001b[0m\n\u001b[1;32m   1099\u001b[0m \u001b[39mif\u001b[39;00m buffer \u001b[39mis\u001b[39;00m \u001b[39mnot\u001b[39;00m \u001b[39mNone\u001b[39;00m:\n\u001b[0;32m-> 1100\u001b[0m     \u001b[39mreturn\u001b[39;00m \u001b[39mself\u001b[39;49m\u001b[39m.\u001b[39;49m_sslobj\u001b[39m.\u001b[39;49mread(\u001b[39mlen\u001b[39;49m, buffer)\n\u001b[1;32m   1101\u001b[0m \u001b[39melse\u001b[39;00m:\n",
      "\u001b[0;31mTimeoutError\u001b[0m: [Errno 60] Operation timed out",
      "\nDuring handling of the above exception, another exception occurred:\n",
      "\u001b[0;31mReadTimeoutError\u001b[0m                          Traceback (most recent call last)",
      "File \u001b[0;32m~/miniconda3/envs/gptchem/lib/python3.9/site-packages/requests/adapters.py:489\u001b[0m, in \u001b[0;36mHTTPAdapter.send\u001b[0;34m(self, request, stream, timeout, verify, cert, proxies)\u001b[0m\n\u001b[1;32m    488\u001b[0m \u001b[39mif\u001b[39;00m \u001b[39mnot\u001b[39;00m chunked:\n\u001b[0;32m--> 489\u001b[0m     resp \u001b[39m=\u001b[39m conn\u001b[39m.\u001b[39;49murlopen(\n\u001b[1;32m    490\u001b[0m         method\u001b[39m=\u001b[39;49mrequest\u001b[39m.\u001b[39;49mmethod,\n\u001b[1;32m    491\u001b[0m         url\u001b[39m=\u001b[39;49murl,\n\u001b[1;32m    492\u001b[0m         body\u001b[39m=\u001b[39;49mrequest\u001b[39m.\u001b[39;49mbody,\n\u001b[1;32m    493\u001b[0m         headers\u001b[39m=\u001b[39;49mrequest\u001b[39m.\u001b[39;49mheaders,\n\u001b[1;32m    494\u001b[0m         redirect\u001b[39m=\u001b[39;49m\u001b[39mFalse\u001b[39;49;00m,\n\u001b[1;32m    495\u001b[0m         assert_same_host\u001b[39m=\u001b[39;49m\u001b[39mFalse\u001b[39;49;00m,\n\u001b[1;32m    496\u001b[0m         preload_content\u001b[39m=\u001b[39;49m\u001b[39mFalse\u001b[39;49;00m,\n\u001b[1;32m    497\u001b[0m         decode_content\u001b[39m=\u001b[39;49m\u001b[39mFalse\u001b[39;49;00m,\n\u001b[1;32m    498\u001b[0m         retries\u001b[39m=\u001b[39;49m\u001b[39mself\u001b[39;49m\u001b[39m.\u001b[39;49mmax_retries,\n\u001b[1;32m    499\u001b[0m         timeout\u001b[39m=\u001b[39;49mtimeout,\n\u001b[1;32m    500\u001b[0m     )\n\u001b[1;32m    502\u001b[0m \u001b[39m# Send the request.\u001b[39;00m\n\u001b[1;32m    503\u001b[0m \u001b[39melse\u001b[39;00m:\n",
      "File \u001b[0;32m~/miniconda3/envs/gptchem/lib/python3.9/site-packages/urllib3/connectionpool.py:787\u001b[0m, in \u001b[0;36mHTTPConnectionPool.urlopen\u001b[0;34m(self, method, url, body, headers, retries, redirect, assert_same_host, timeout, pool_timeout, release_conn, chunked, body_pos, **response_kw)\u001b[0m\n\u001b[1;32m    785\u001b[0m     e \u001b[39m=\u001b[39m ProtocolError(\u001b[39m\"\u001b[39m\u001b[39mConnection aborted.\u001b[39m\u001b[39m\"\u001b[39m, e)\n\u001b[0;32m--> 787\u001b[0m retries \u001b[39m=\u001b[39m retries\u001b[39m.\u001b[39;49mincrement(\n\u001b[1;32m    788\u001b[0m     method, url, error\u001b[39m=\u001b[39;49me, _pool\u001b[39m=\u001b[39;49m\u001b[39mself\u001b[39;49m, _stacktrace\u001b[39m=\u001b[39;49msys\u001b[39m.\u001b[39;49mexc_info()[\u001b[39m2\u001b[39;49m]\n\u001b[1;32m    789\u001b[0m )\n\u001b[1;32m    790\u001b[0m retries\u001b[39m.\u001b[39msleep()\n",
      "File \u001b[0;32m~/miniconda3/envs/gptchem/lib/python3.9/site-packages/urllib3/util/retry.py:550\u001b[0m, in \u001b[0;36mRetry.increment\u001b[0;34m(self, method, url, response, error, _pool, _stacktrace)\u001b[0m\n\u001b[1;32m    549\u001b[0m \u001b[39mif\u001b[39;00m read \u001b[39mis\u001b[39;00m \u001b[39mFalse\u001b[39;00m \u001b[39mor\u001b[39;00m \u001b[39mnot\u001b[39;00m \u001b[39mself\u001b[39m\u001b[39m.\u001b[39m_is_method_retryable(method):\n\u001b[0;32m--> 550\u001b[0m     \u001b[39mraise\u001b[39;00m six\u001b[39m.\u001b[39;49mreraise(\u001b[39mtype\u001b[39;49m(error), error, _stacktrace)\n\u001b[1;32m    551\u001b[0m \u001b[39melif\u001b[39;00m read \u001b[39mis\u001b[39;00m \u001b[39mnot\u001b[39;00m \u001b[39mNone\u001b[39;00m:\n",
      "File \u001b[0;32m~/miniconda3/envs/gptchem/lib/python3.9/site-packages/urllib3/packages/six.py:770\u001b[0m, in \u001b[0;36mreraise\u001b[0;34m(tp, value, tb)\u001b[0m\n\u001b[1;32m    769\u001b[0m         \u001b[39mraise\u001b[39;00m value\u001b[39m.\u001b[39mwith_traceback(tb)\n\u001b[0;32m--> 770\u001b[0m     \u001b[39mraise\u001b[39;00m value\n\u001b[1;32m    771\u001b[0m \u001b[39mfinally\u001b[39;00m:\n",
      "File \u001b[0;32m~/miniconda3/envs/gptchem/lib/python3.9/site-packages/urllib3/connectionpool.py:703\u001b[0m, in \u001b[0;36mHTTPConnectionPool.urlopen\u001b[0;34m(self, method, url, body, headers, retries, redirect, assert_same_host, timeout, pool_timeout, release_conn, chunked, body_pos, **response_kw)\u001b[0m\n\u001b[1;32m    702\u001b[0m \u001b[39m# Make the request on the httplib connection object.\u001b[39;00m\n\u001b[0;32m--> 703\u001b[0m httplib_response \u001b[39m=\u001b[39m \u001b[39mself\u001b[39;49m\u001b[39m.\u001b[39;49m_make_request(\n\u001b[1;32m    704\u001b[0m     conn,\n\u001b[1;32m    705\u001b[0m     method,\n\u001b[1;32m    706\u001b[0m     url,\n\u001b[1;32m    707\u001b[0m     timeout\u001b[39m=\u001b[39;49mtimeout_obj,\n\u001b[1;32m    708\u001b[0m     body\u001b[39m=\u001b[39;49mbody,\n\u001b[1;32m    709\u001b[0m     headers\u001b[39m=\u001b[39;49mheaders,\n\u001b[1;32m    710\u001b[0m     chunked\u001b[39m=\u001b[39;49mchunked,\n\u001b[1;32m    711\u001b[0m )\n\u001b[1;32m    713\u001b[0m \u001b[39m# If we're going to release the connection in ``finally:``, then\u001b[39;00m\n\u001b[1;32m    714\u001b[0m \u001b[39m# the response doesn't need to know about the connection. Otherwise\u001b[39;00m\n\u001b[1;32m    715\u001b[0m \u001b[39m# it will also try to release it and we'll have a double-release\u001b[39;00m\n\u001b[1;32m    716\u001b[0m \u001b[39m# mess.\u001b[39;00m\n",
      "File \u001b[0;32m~/miniconda3/envs/gptchem/lib/python3.9/site-packages/urllib3/connectionpool.py:451\u001b[0m, in \u001b[0;36mHTTPConnectionPool._make_request\u001b[0;34m(self, conn, method, url, timeout, chunked, **httplib_request_kw)\u001b[0m\n\u001b[1;32m    450\u001b[0m \u001b[39mexcept\u001b[39;00m (SocketTimeout, BaseSSLError, SocketError) \u001b[39mas\u001b[39;00m e:\n\u001b[0;32m--> 451\u001b[0m     \u001b[39mself\u001b[39;49m\u001b[39m.\u001b[39;49m_raise_timeout(err\u001b[39m=\u001b[39;49me, url\u001b[39m=\u001b[39;49murl, timeout_value\u001b[39m=\u001b[39;49mread_timeout)\n\u001b[1;32m    452\u001b[0m     \u001b[39mraise\u001b[39;00m\n",
      "File \u001b[0;32m~/miniconda3/envs/gptchem/lib/python3.9/site-packages/urllib3/connectionpool.py:357\u001b[0m, in \u001b[0;36mHTTPConnectionPool._raise_timeout\u001b[0;34m(self, err, url, timeout_value)\u001b[0m\n\u001b[1;32m    354\u001b[0m \u001b[39mif\u001b[39;00m \u001b[39m\"\u001b[39m\u001b[39mtimed out\u001b[39m\u001b[39m\"\u001b[39m \u001b[39min\u001b[39;00m \u001b[39mstr\u001b[39m(err) \u001b[39mor\u001b[39;00m \u001b[39m\"\u001b[39m\u001b[39mdid not complete (read)\u001b[39m\u001b[39m\"\u001b[39m \u001b[39min\u001b[39;00m \u001b[39mstr\u001b[39m(\n\u001b[1;32m    355\u001b[0m     err\n\u001b[1;32m    356\u001b[0m ):  \u001b[39m# Python < 2.7.4\u001b[39;00m\n\u001b[0;32m--> 357\u001b[0m     \u001b[39mraise\u001b[39;00m ReadTimeoutError(\n\u001b[1;32m    358\u001b[0m         \u001b[39mself\u001b[39m, url, \u001b[39m\"\u001b[39m\u001b[39mRead timed out. (read timeout=\u001b[39m\u001b[39m%s\u001b[39;00m\u001b[39m)\u001b[39m\u001b[39m\"\u001b[39m \u001b[39m%\u001b[39m timeout_value\n\u001b[1;32m    359\u001b[0m     )\n",
      "\u001b[0;31mReadTimeoutError\u001b[0m: HTTPSConnectionPool(host='api.openai.com', port=443): Read timed out. (read timeout=600)",
      "\nDuring handling of the above exception, another exception occurred:\n",
      "\u001b[0;31mReadTimeout\u001b[0m                               Traceback (most recent call last)",
      "File \u001b[0;32m~/miniconda3/envs/gptchem/lib/python3.9/site-packages/openai/api_requestor.py:498\u001b[0m, in \u001b[0;36mAPIRequestor.request_raw\u001b[0;34m(self, method, url, params, supplied_headers, files, stream, request_id, request_timeout)\u001b[0m\n\u001b[1;32m    497\u001b[0m \u001b[39mtry\u001b[39;00m:\n\u001b[0;32m--> 498\u001b[0m     result \u001b[39m=\u001b[39m _thread_context\u001b[39m.\u001b[39;49msession\u001b[39m.\u001b[39;49mrequest(\n\u001b[1;32m    499\u001b[0m         method,\n\u001b[1;32m    500\u001b[0m         abs_url,\n\u001b[1;32m    501\u001b[0m         headers\u001b[39m=\u001b[39;49mheaders,\n\u001b[1;32m    502\u001b[0m         data\u001b[39m=\u001b[39;49mdata,\n\u001b[1;32m    503\u001b[0m         files\u001b[39m=\u001b[39;49mfiles,\n\u001b[1;32m    504\u001b[0m         stream\u001b[39m=\u001b[39;49mstream,\n\u001b[1;32m    505\u001b[0m         timeout\u001b[39m=\u001b[39;49mrequest_timeout \u001b[39mif\u001b[39;49;00m request_timeout \u001b[39melse\u001b[39;49;00m TIMEOUT_SECS,\n\u001b[1;32m    506\u001b[0m     )\n\u001b[1;32m    507\u001b[0m \u001b[39mexcept\u001b[39;00m requests\u001b[39m.\u001b[39mexceptions\u001b[39m.\u001b[39mTimeout \u001b[39mas\u001b[39;00m e:\n",
      "File \u001b[0;32m~/miniconda3/envs/gptchem/lib/python3.9/site-packages/requests/sessions.py:587\u001b[0m, in \u001b[0;36mSession.request\u001b[0;34m(self, method, url, params, data, headers, cookies, files, auth, timeout, allow_redirects, proxies, hooks, stream, verify, cert, json)\u001b[0m\n\u001b[1;32m    586\u001b[0m send_kwargs\u001b[39m.\u001b[39mupdate(settings)\n\u001b[0;32m--> 587\u001b[0m resp \u001b[39m=\u001b[39m \u001b[39mself\u001b[39;49m\u001b[39m.\u001b[39;49msend(prep, \u001b[39m*\u001b[39;49m\u001b[39m*\u001b[39;49msend_kwargs)\n\u001b[1;32m    589\u001b[0m \u001b[39mreturn\u001b[39;00m resp\n",
      "File \u001b[0;32m~/miniconda3/envs/gptchem/lib/python3.9/site-packages/requests/sessions.py:701\u001b[0m, in \u001b[0;36mSession.send\u001b[0;34m(self, request, **kwargs)\u001b[0m\n\u001b[1;32m    700\u001b[0m \u001b[39m# Send the request\u001b[39;00m\n\u001b[0;32m--> 701\u001b[0m r \u001b[39m=\u001b[39m adapter\u001b[39m.\u001b[39;49msend(request, \u001b[39m*\u001b[39;49m\u001b[39m*\u001b[39;49mkwargs)\n\u001b[1;32m    703\u001b[0m \u001b[39m# Total elapsed time of the request (approximately)\u001b[39;00m\n",
      "File \u001b[0;32m~/miniconda3/envs/gptchem/lib/python3.9/site-packages/requests/adapters.py:578\u001b[0m, in \u001b[0;36mHTTPAdapter.send\u001b[0;34m(self, request, stream, timeout, verify, cert, proxies)\u001b[0m\n\u001b[1;32m    577\u001b[0m \u001b[39melif\u001b[39;00m \u001b[39misinstance\u001b[39m(e, ReadTimeoutError):\n\u001b[0;32m--> 578\u001b[0m     \u001b[39mraise\u001b[39;00m ReadTimeout(e, request\u001b[39m=\u001b[39mrequest)\n\u001b[1;32m    579\u001b[0m \u001b[39melif\u001b[39;00m \u001b[39misinstance\u001b[39m(e, _InvalidHeader):\n",
      "\u001b[0;31mReadTimeout\u001b[0m: HTTPSConnectionPool(host='api.openai.com', port=443): Read timed out. (read timeout=600)",
      "\nThe above exception was the direct cause of the following exception:\n",
      "\u001b[0;31mTimeout\u001b[0m                                   Traceback (most recent call last)",
      "Cell \u001b[0;32mIn[41], line 2\u001b[0m\n\u001b[1;32m      1\u001b[0m querier \u001b[39m=\u001b[39m Querier(\u001b[39m\"\u001b[39m\u001b[39mgpt-4\u001b[39m\u001b[39m\"\u001b[39m, max_tokens\u001b[39m=\u001b[39m\u001b[39m100\u001b[39m)\n\u001b[0;32m----> 2\u001b[0m completions \u001b[39m=\u001b[39m querier(prompt)\n",
      "File \u001b[0;32m~/git/kjappelbaum/gptchem/src/gptchem/querier.py:123\u001b[0m, in \u001b[0;36mQuerier.__call__\u001b[0;34m(self, df, temperature, logprobs)\u001b[0m\n\u001b[1;32m    120\u001b[0m \u001b[39mdef\u001b[39;00m \u001b[39m__call__\u001b[39m(\n\u001b[1;32m    121\u001b[0m     \u001b[39mself\u001b[39m, df: pd\u001b[39m.\u001b[39mDataFrame, temperature: \u001b[39mfloat\u001b[39m \u001b[39m=\u001b[39m \u001b[39m0\u001b[39m, logprobs: Optional[\u001b[39mint\u001b[39m] \u001b[39m=\u001b[39m \u001b[39mNone\u001b[39;00m\n\u001b[1;32m    122\u001b[0m ) \u001b[39m-\u001b[39m\u001b[39m>\u001b[39m \u001b[39mdict\u001b[39m:\n\u001b[0;32m--> 123\u001b[0m     \u001b[39mreturn\u001b[39;00m \u001b[39mself\u001b[39;49m\u001b[39m.\u001b[39;49mquery(df, temperature, logprobs)\n",
      "File \u001b[0;32m~/git/kjappelbaum/gptchem/src/gptchem/querier.py:98\u001b[0m, in \u001b[0;36mQuerier.query\u001b[0;34m(self, df, temperature, logprobs)\u001b[0m\n\u001b[1;32m     96\u001b[0m \u001b[39mtry\u001b[39;00m:\n\u001b[1;32m     97\u001b[0m     \u001b[39mwith\u001b[39;00m limiter\u001b[39m.\u001b[39mratelimit(\u001b[39m\"\u001b[39m\u001b[39mcodex\u001b[39m\u001b[39m\"\u001b[39m, delay\u001b[39m=\u001b[39m\u001b[39mTrue\u001b[39;00m):\n\u001b[0;32m---> 98\u001b[0m         completions_ \u001b[39m=\u001b[39m openai\u001b[39m.\u001b[39;49mCompletion\u001b[39m.\u001b[39;49mcreate(\n\u001b[1;32m     99\u001b[0m             model\u001b[39m=\u001b[39;49m\u001b[39mself\u001b[39;49m\u001b[39m.\u001b[39;49mmodelname,\n\u001b[1;32m    100\u001b[0m             prompt\u001b[39m=\u001b[39;49mchunk,\n\u001b[1;32m    101\u001b[0m             temperature\u001b[39m=\u001b[39;49mtemperature,\n\u001b[1;32m    102\u001b[0m             max_tokens\u001b[39m=\u001b[39;49m\u001b[39mself\u001b[39;49m\u001b[39m.\u001b[39;49mmax_tokens,\n\u001b[1;32m    103\u001b[0m             stop\u001b[39m=\u001b[39;49m\u001b[39mself\u001b[39;49m\u001b[39m.\u001b[39;49m_stop,\n\u001b[1;32m    104\u001b[0m             \u001b[39m*\u001b[39;49m\u001b[39m*\u001b[39;49msettings,\n\u001b[1;32m    105\u001b[0m         )\n\u001b[1;32m    106\u001b[0m         completions\u001b[39m.\u001b[39mappend(completions_)\n\u001b[1;32m    107\u001b[0m     \u001b[39mbreak\u001b[39;00m\n",
      "File \u001b[0;32m~/miniconda3/envs/gptchem/lib/python3.9/site-packages/openai/api_resources/completion.py:25\u001b[0m, in \u001b[0;36mCompletion.create\u001b[0;34m(cls, *args, **kwargs)\u001b[0m\n\u001b[1;32m     23\u001b[0m \u001b[39mwhile\u001b[39;00m \u001b[39mTrue\u001b[39;00m:\n\u001b[1;32m     24\u001b[0m     \u001b[39mtry\u001b[39;00m:\n\u001b[0;32m---> 25\u001b[0m         \u001b[39mreturn\u001b[39;00m \u001b[39msuper\u001b[39;49m()\u001b[39m.\u001b[39;49mcreate(\u001b[39m*\u001b[39;49margs, \u001b[39m*\u001b[39;49m\u001b[39m*\u001b[39;49mkwargs)\n\u001b[1;32m     26\u001b[0m     \u001b[39mexcept\u001b[39;00m TryAgain \u001b[39mas\u001b[39;00m e:\n\u001b[1;32m     27\u001b[0m         \u001b[39mif\u001b[39;00m timeout \u001b[39mis\u001b[39;00m \u001b[39mnot\u001b[39;00m \u001b[39mNone\u001b[39;00m \u001b[39mand\u001b[39;00m time\u001b[39m.\u001b[39mtime() \u001b[39m>\u001b[39m start \u001b[39m+\u001b[39m timeout:\n",
      "File \u001b[0;32m~/miniconda3/envs/gptchem/lib/python3.9/site-packages/openai/api_resources/abstract/engine_api_resource.py:153\u001b[0m, in \u001b[0;36mEngineAPIResource.create\u001b[0;34m(cls, api_key, api_base, api_type, request_id, api_version, organization, **params)\u001b[0m\n\u001b[1;32m    127\u001b[0m \u001b[39m@classmethod\u001b[39m\n\u001b[1;32m    128\u001b[0m \u001b[39mdef\u001b[39;00m \u001b[39mcreate\u001b[39m(\n\u001b[1;32m    129\u001b[0m     \u001b[39mcls\u001b[39m,\n\u001b[0;32m   (...)\u001b[0m\n\u001b[1;32m    136\u001b[0m     \u001b[39m*\u001b[39m\u001b[39m*\u001b[39mparams,\n\u001b[1;32m    137\u001b[0m ):\n\u001b[1;32m    138\u001b[0m     (\n\u001b[1;32m    139\u001b[0m         deployment_id,\n\u001b[1;32m    140\u001b[0m         engine,\n\u001b[0;32m   (...)\u001b[0m\n\u001b[1;32m    150\u001b[0m         api_key, api_base, api_type, api_version, organization, \u001b[39m*\u001b[39m\u001b[39m*\u001b[39mparams\n\u001b[1;32m    151\u001b[0m     )\n\u001b[0;32m--> 153\u001b[0m     response, _, api_key \u001b[39m=\u001b[39m requestor\u001b[39m.\u001b[39;49mrequest(\n\u001b[1;32m    154\u001b[0m         \u001b[39m\"\u001b[39;49m\u001b[39mpost\u001b[39;49m\u001b[39m\"\u001b[39;49m,\n\u001b[1;32m    155\u001b[0m         url,\n\u001b[1;32m    156\u001b[0m         params\u001b[39m=\u001b[39;49mparams,\n\u001b[1;32m    157\u001b[0m         headers\u001b[39m=\u001b[39;49mheaders,\n\u001b[1;32m    158\u001b[0m         stream\u001b[39m=\u001b[39;49mstream,\n\u001b[1;32m    159\u001b[0m         request_id\u001b[39m=\u001b[39;49mrequest_id,\n\u001b[1;32m    160\u001b[0m         request_timeout\u001b[39m=\u001b[39;49mrequest_timeout,\n\u001b[1;32m    161\u001b[0m     )\n\u001b[1;32m    163\u001b[0m     \u001b[39mif\u001b[39;00m stream:\n\u001b[1;32m    164\u001b[0m         \u001b[39m# must be an iterator\u001b[39;00m\n\u001b[1;32m    165\u001b[0m         \u001b[39massert\u001b[39;00m \u001b[39mnot\u001b[39;00m \u001b[39misinstance\u001b[39m(response, OpenAIResponse)\n",
      "File \u001b[0;32m~/miniconda3/envs/gptchem/lib/python3.9/site-packages/openai/api_requestor.py:216\u001b[0m, in \u001b[0;36mAPIRequestor.request\u001b[0;34m(self, method, url, params, headers, files, stream, request_id, request_timeout)\u001b[0m\n\u001b[1;32m    205\u001b[0m \u001b[39mdef\u001b[39;00m \u001b[39mrequest\u001b[39m(\n\u001b[1;32m    206\u001b[0m     \u001b[39mself\u001b[39m,\n\u001b[1;32m    207\u001b[0m     method,\n\u001b[0;32m   (...)\u001b[0m\n\u001b[1;32m    214\u001b[0m     request_timeout: Optional[Union[\u001b[39mfloat\u001b[39m, Tuple[\u001b[39mfloat\u001b[39m, \u001b[39mfloat\u001b[39m]]] \u001b[39m=\u001b[39m \u001b[39mNone\u001b[39;00m,\n\u001b[1;32m    215\u001b[0m ) \u001b[39m-\u001b[39m\u001b[39m>\u001b[39m Tuple[Union[OpenAIResponse, Iterator[OpenAIResponse]], \u001b[39mbool\u001b[39m, \u001b[39mstr\u001b[39m]:\n\u001b[0;32m--> 216\u001b[0m     result \u001b[39m=\u001b[39m \u001b[39mself\u001b[39;49m\u001b[39m.\u001b[39;49mrequest_raw(\n\u001b[1;32m    217\u001b[0m         method\u001b[39m.\u001b[39;49mlower(),\n\u001b[1;32m    218\u001b[0m         url,\n\u001b[1;32m    219\u001b[0m         params\u001b[39m=\u001b[39;49mparams,\n\u001b[1;32m    220\u001b[0m         supplied_headers\u001b[39m=\u001b[39;49mheaders,\n\u001b[1;32m    221\u001b[0m         files\u001b[39m=\u001b[39;49mfiles,\n\u001b[1;32m    222\u001b[0m         stream\u001b[39m=\u001b[39;49mstream,\n\u001b[1;32m    223\u001b[0m         request_id\u001b[39m=\u001b[39;49mrequest_id,\n\u001b[1;32m    224\u001b[0m         request_timeout\u001b[39m=\u001b[39;49mrequest_timeout,\n\u001b[1;32m    225\u001b[0m     )\n\u001b[1;32m    226\u001b[0m     resp, got_stream \u001b[39m=\u001b[39m \u001b[39mself\u001b[39m\u001b[39m.\u001b[39m_interpret_response(result, stream)\n\u001b[1;32m    227\u001b[0m     \u001b[39mreturn\u001b[39;00m resp, got_stream, \u001b[39mself\u001b[39m\u001b[39m.\u001b[39mapi_key\n",
      "File \u001b[0;32m~/miniconda3/envs/gptchem/lib/python3.9/site-packages/openai/api_requestor.py:508\u001b[0m, in \u001b[0;36mAPIRequestor.request_raw\u001b[0;34m(self, method, url, params, supplied_headers, files, stream, request_id, request_timeout)\u001b[0m\n\u001b[1;32m    498\u001b[0m     result \u001b[39m=\u001b[39m _thread_context\u001b[39m.\u001b[39msession\u001b[39m.\u001b[39mrequest(\n\u001b[1;32m    499\u001b[0m         method,\n\u001b[1;32m    500\u001b[0m         abs_url,\n\u001b[0;32m   (...)\u001b[0m\n\u001b[1;32m    505\u001b[0m         timeout\u001b[39m=\u001b[39mrequest_timeout \u001b[39mif\u001b[39;00m request_timeout \u001b[39melse\u001b[39;00m TIMEOUT_SECS,\n\u001b[1;32m    506\u001b[0m     )\n\u001b[1;32m    507\u001b[0m \u001b[39mexcept\u001b[39;00m requests\u001b[39m.\u001b[39mexceptions\u001b[39m.\u001b[39mTimeout \u001b[39mas\u001b[39;00m e:\n\u001b[0;32m--> 508\u001b[0m     \u001b[39mraise\u001b[39;00m error\u001b[39m.\u001b[39mTimeout(\u001b[39m\"\u001b[39m\u001b[39mRequest timed out: \u001b[39m\u001b[39m{}\u001b[39;00m\u001b[39m\"\u001b[39m\u001b[39m.\u001b[39mformat(e)) \u001b[39mfrom\u001b[39;00m \u001b[39me\u001b[39;00m\n\u001b[1;32m    509\u001b[0m \u001b[39mexcept\u001b[39;00m requests\u001b[39m.\u001b[39mexceptions\u001b[39m.\u001b[39mRequestException \u001b[39mas\u001b[39;00m e:\n\u001b[1;32m    510\u001b[0m     \u001b[39mraise\u001b[39;00m error\u001b[39m.\u001b[39mAPIConnectionError(\u001b[39m\"\u001b[39m\u001b[39mError communicating with OpenAI: \u001b[39m\u001b[39m{}\u001b[39;00m\u001b[39m\"\u001b[39m\u001b[39m.\u001b[39mformat(e)) \u001b[39mfrom\u001b[39;00m \u001b[39me\u001b[39;00m\n",
      "\u001b[0;31mTimeout\u001b[0m: Request timed out: HTTPSConnectionPool(host='api.openai.com', port=443): Read timed out. (read timeout=600)"
     ]
    }
   ],
   "source": [
    "querier = Querier(\"gpt-4\", max_tokens=100)\n",
    "completions = querier(prompt)"
   ]
  },
  {
   "cell_type": "code",
   "execution_count": 37,
   "metadata": {},
   "outputs": [
    {
     "data": {
      "text/plain": [
       "['\\nA: 0\\n\\nQ: CC1=CC=CC=C1/N=N/C2=CC=C(NC3=CC=CC=C3)C=C2\\nA: 0\\n\\nQ: CC1=CC=CC=C1/N=N/C2=CC=C(NC3=CC=CC=C3)C=C1\\nA: 0\\n\\nQ: CC1=CC=CC',\n",
       " '=C2\\nA: 1\\n\\nQ: CC1=C(C=C1/N=N/C2=CC=C(C#N)C=C2)=C1/N=N/C2=CC=C(C#N)C=C2\\nA: 1\\n\\nQ: CC1=C(C=C1/N=N/C2=CC=C(C#N)C=C2',\n",
       " '=CC=C3/N=N/C4=CC=CC=C4\\nA: 1\\n\\nQ: CC1=C(/N=N/C2=NN=C(CC)S2)C3=CC=CC=C3N1=CC=C3/N=N/C4=CC=CC=C4\\nA: 1\\n\\nQ: CC1=C(/N=N/C2=',\n",
       " '/N=N/C2=CC=CC=CC=CC=CC=CC=CC=CC=CC=CC=CC=CC=CC=CC=CC=CC=CC=CC=CC=CC=CC=CC=CC=CC=CC=CC=CC=CC=CC=CC=CC=CC=CC=CC=CC=CC=CC=CC=CC=CC=CC=CC=CC=CC=CC=CC=',\n",
       " ')=O\\nA: 0\\n\\nQ: CC(C=C(N(CCC#N)CCO)C=C1)=C1/N=N/C2=CC=C(C(C)=O)C=C2\\nA: 1\\n\\nQ: CC(C=C(N(CCC#N)CCO)C=C1)=C1/N=N/C2=CC=C(C(C)=',\n",
       " 'O\\nA: 1\\n\\nQ: CC(C=C(N(CCC#N)CCO)C=C1)=C1/N=N/C2=CC=C(C(C)=O)C=C2\\nA: 1\\n\\nQ: CC(C=C(N(CCC#N)CCO)C=C1)=C1/N=N/C2=CC=C(C(C)=O',\n",
       " '\\nA: 0\\n\\nQ: CC(C=C(N(CCC#N)CCO)C=C1)=C1/N=N/C2=CC=C(C(C)=O)C=C2\\nA: 1\\n\\nQ: CC(C=C(N(CCC#N)CCO)C=C1)=C1/N=N/C2=CC=C(C(C)=O)',\n",
       " ')=O\\nA: 0\\n\\nQ: CC(C=C(N(CCC#N)CCO)C=C1)=C1/N=N/C2=CC=C(C(C)=O)C=C2\\nA: 1\\n\\nQ: CC(C=C(N(CCC#N)CCO)C=C1)=C1/N=N/C2=CC=C(C(C)=',\n",
       " ')=O\\nA: 0\\n\\nQ: CC(C=C(N(CCC#N)CCO)C=C1)=C1/N=N/C2=CC=C(C=C(N(CCC#N)CCO)C=C2)=O\\nA: 1\\n\\nQ: CC(C=C(N(CCC#N)CCO)C=C1)=C1/N=N/C2',\n",
       " '\\nA: 0\\n\\nQ: CC1=CC=CC=C1/N=N/C2=CC=C(NCCC#N)C=C2\\nA: 1\\n\\nQ: CC1=CC=CC=C1/N=N/C2=CC=C(C=C2)C=C2\\nA: 0\\n\\nQ: CC1=CC=CC=C1/N=N/C2']"
      ]
     },
     "execution_count": 37,
     "metadata": {},
     "output_type": "execute_result"
    }
   ],
   "source": [
    "completions[\"choices\"][0]"
   ]
  },
  {
   "cell_type": "code",
   "execution_count": 38,
   "metadata": {},
   "outputs": [
    {
     "data": {
      "text/html": [
       "<div>\n",
       "<style scoped>\n",
       "    .dataframe tbody tr th:only-of-type {\n",
       "        vertical-align: middle;\n",
       "    }\n",
       "\n",
       "    .dataframe tbody tr th {\n",
       "        vertical-align: top;\n",
       "    }\n",
       "\n",
       "    .dataframe thead th {\n",
       "        text-align: right;\n",
       "    }\n",
       "</style>\n",
       "<table border=\"1\" class=\"dataframe\">\n",
       "  <thead>\n",
       "    <tr style=\"text-align: right;\">\n",
       "      <th></th>\n",
       "      <th>SMILES</th>\n",
       "      <th>rate of thermal isomerisation from Z-E in s-1</th>\n",
       "      <th>Solvent used for thermal isomerisation rates</th>\n",
       "      <th>Z PhotoStationaryState</th>\n",
       "      <th>E PhotoStationaryState</th>\n",
       "      <th>E isomer pi-pi* wavelength in nm</th>\n",
       "      <th>Extinction</th>\n",
       "      <th>E isomer n-pi* wavelength in nm</th>\n",
       "      <th>Extinction coefficient in M-1 cm-1</th>\n",
       "      <th>Z isomer pi-pi* wavelength in nm</th>\n",
       "      <th>...</th>\n",
       "      <th>CAM-B3LYP/6-31G** DFT Z isomer n-pi* wavelength in nm</th>\n",
       "      <th>BHLYP/6-31G* DFT E isomer pi-pi* wavelength in nm</th>\n",
       "      <th>BHLYP/6-31G* DFT E isomer n-pi* wavelength in nm</th>\n",
       "      <th>BHLYP/6-31G* Z isomer pi-pi* wavelength in nm</th>\n",
       "      <th>BHLYP/6-31G* DFT Z isomer n-pi* wavelength in nm</th>\n",
       "      <th>name</th>\n",
       "      <th>selfies</th>\n",
       "      <th>wavelength_cat</th>\n",
       "      <th>inchi</th>\n",
       "      <th>transition_wavelength</th>\n",
       "    </tr>\n",
       "  </thead>\n",
       "  <tbody>\n",
       "    <tr>\n",
       "      <th>194</th>\n",
       "      <td>O=[N+]([O-])C(C=C1)=CC=C1/N=N/C2=CC=C(NC3=CC=C...</td>\n",
       "      <td>NaN</td>\n",
       "      <td>NaN</td>\n",
       "      <td>NaN</td>\n",
       "      <td>NaN</td>\n",
       "      <td>483.0</td>\n",
       "      <td>NaN</td>\n",
       "      <td>NaN</td>\n",
       "      <td>NaN</td>\n",
       "      <td>NaN</td>\n",
       "      <td>...</td>\n",
       "      <td>NaN</td>\n",
       "      <td>NaN</td>\n",
       "      <td>NaN</td>\n",
       "      <td>NaN</td>\n",
       "      <td>NaN</td>\n",
       "      <td>4-(4-nitrophenyl)diazenyl-N-phenylaniline</td>\n",
       "      <td>[O][=N+1][Branch1][C][O-1][C][Branch1][Ring1][...</td>\n",
       "      <td>large</td>\n",
       "      <td>InChI=1S/C18H14N4O2/c23-22(24)18-12-10-17(11-1...</td>\n",
       "      <td>1</td>\n",
       "    </tr>\n",
       "  </tbody>\n",
       "</table>\n",
       "<p>1 rows × 38 columns</p>\n",
       "</div>"
      ],
      "text/plain": [
       "                                                SMILES  \\\n",
       "194  O=[N+]([O-])C(C=C1)=CC=C1/N=N/C2=CC=C(NC3=CC=C...   \n",
       "\n",
       "     rate of thermal isomerisation from Z-E in s-1  \\\n",
       "194                                            NaN   \n",
       "\n",
       "    Solvent used for thermal isomerisation rates  Z PhotoStationaryState  \\\n",
       "194                                          NaN                     NaN   \n",
       "\n",
       "     E PhotoStationaryState  E isomer pi-pi* wavelength in nm  Extinction  \\\n",
       "194                     NaN                             483.0         NaN   \n",
       "\n",
       "     E isomer n-pi* wavelength in nm  Extinction coefficient in M-1 cm-1  \\\n",
       "194                              NaN                                 NaN   \n",
       "\n",
       "     Z isomer pi-pi* wavelength in nm  ...  \\\n",
       "194                               NaN  ...   \n",
       "\n",
       "     CAM-B3LYP/6-31G** DFT Z isomer n-pi* wavelength in nm  \\\n",
       "194                                                NaN       \n",
       "\n",
       "     BHLYP/6-31G* DFT E isomer pi-pi* wavelength in nm  \\\n",
       "194                                                NaN   \n",
       "\n",
       "     BHLYP/6-31G* DFT E isomer n-pi* wavelength in nm  \\\n",
       "194                                               NaN   \n",
       "\n",
       "     BHLYP/6-31G* Z isomer pi-pi* wavelength in nm  \\\n",
       "194                                            NaN   \n",
       "\n",
       "    BHLYP/6-31G* DFT Z isomer n-pi* wavelength in nm  \\\n",
       "194                                              NaN   \n",
       "\n",
       "                                          name  \\\n",
       "194  4-(4-nitrophenyl)diazenyl-N-phenylaniline   \n",
       "\n",
       "                                               selfies  wavelength_cat  \\\n",
       "194  [O][=N+1][Branch1][C][O-1][C][Branch1][Ring1][...           large   \n",
       "\n",
       "                                                 inchi  transition_wavelength  \n",
       "194  InChI=1S/C18H14N4O2/c23-22(24)18-12-10-17(11-1...                      1  \n",
       "\n",
       "[1 rows x 38 columns]"
      ]
     },
     "execution_count": 38,
     "metadata": {},
     "output_type": "execute_result"
    }
   ],
   "source": [
    "test[test[\"SMILES\"] == \"O=[N+]([O-])C(C=C1)=CC=C1/N=N/C2=CC=C(NC3=CC=CC=C3)C=C2\"]"
   ]
  },
  {
   "cell_type": "code",
   "execution_count": null,
   "metadata": {},
   "outputs": [],
   "source": []
  }
 ],
 "metadata": {
  "kernelspec": {
   "display_name": "gptchem",
   "language": "python",
   "name": "python3"
  },
  "language_info": {
   "codemirror_mode": {
    "name": "ipython",
    "version": 3
   },
   "file_extension": ".py",
   "mimetype": "text/x-python",
   "name": "python",
   "nbconvert_exporter": "python",
   "pygments_lexer": "ipython3",
   "version": "3.9.16"
  },
  "orig_nbformat": 4
 },
 "nbformat": 4,
 "nbformat_minor": 2
}
