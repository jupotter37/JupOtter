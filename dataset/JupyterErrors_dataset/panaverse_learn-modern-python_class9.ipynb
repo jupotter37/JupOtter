{
 "cells": [
  {
   "cell_type": "markdown",
   "metadata": {},
   "source": [
    "# Loop and input from user\n",
    "* while\n",
    "* for\n",
    "* controls\n",
    "    * break\n",
    "    * continue\n",
    "    * pass\n",
    "* input with input function\n",
    "* input from console\n",
    "\n",
    "# Loop working on iterative data types\n",
    "* list\n",
    "* dictionary\n",
    "* tuple\n",
    "* string"
   ]
  },
  {
   "cell_type": "code",
   "execution_count": 1,
   "metadata": {},
   "outputs": [
    {
     "name": "stdout",
     "output_type": "stream",
     "text": [
      "[1, 2, 3, 4, 5, 6]\n"
     ]
    }
   ],
   "source": [
    "#                 0 1 2 3 4 5\n",
    "l1 : list[int] = [1,2,3,4,5,6]\n",
    "print(l1)\n",
    "\n",
    "\n"
   ]
  },
  {
   "cell_type": "code",
   "execution_count": 2,
   "metadata": {},
   "outputs": [
    {
     "name": "stdout",
     "output_type": "stream",
     "text": [
      "1\n",
      "2\n",
      "3\n",
      "4\n",
      "5\n",
      "6\n"
     ]
    }
   ],
   "source": [
    "#                 0 1 2 3 4 5\n",
    "l1 : list[int] = [1,2,3,4,5,6]\n",
    "\n",
    "for n in l1:\n",
    "    print(n)"
   ]
  },
  {
   "cell_type": "code",
   "execution_count": 3,
   "metadata": {},
   "outputs": [
    {
     "name": "stdout",
     "output_type": "stream",
     "text": [
      "current number :1\n",
      "current number :2\n",
      "current number :3\n",
      "current number :4\n",
      "current number :5\n",
      "current number :6\n"
     ]
    }
   ],
   "source": [
    "#                 0 1 2 3 4 5\n",
    "l1 : list[int] = [1,2,3,4,5,6]\n",
    "\n",
    "for n in l1:\n",
    "    print(f\"current number :{n}\")\n"
   ]
  },
  {
   "cell_type": "code",
   "execution_count": 4,
   "metadata": {},
   "outputs": [
    {
     "name": "stdout",
     "output_type": "stream",
     "text": [
      "current number :1\n",
      "current number :2\n",
      "current number :3\n",
      "current number :4\n",
      "current number :5\n",
      "current number :6\n"
     ]
    }
   ],
   "source": [
    "#                 0 1 2 3 4 5\n",
    "l1 : tuple[int] = (1,2,3,4,5,6)\n",
    "\n",
    "for n in l1:\n",
    "    print(f\"current number :{n}\")"
   ]
  },
  {
   "cell_type": "code",
   "execution_count": 5,
   "metadata": {},
   "outputs": [
    {
     "name": "stdout",
     "output_type": "stream",
     "text": [
      "current character :P\n",
      "current character :a\n",
      "current character :k\n",
      "current character :i\n",
      "current character :s\n",
      "current character :t\n",
      "current character :a\n",
      "current character :n\n"
     ]
    }
   ],
   "source": [
    "#           01234567\n",
    "l1 : str = \"Pakistan\"\n",
    "\n",
    "for c in l1:\n",
    "    print(f\"current character :{c}\")"
   ]
  },
  {
   "cell_type": "code",
   "execution_count": 9,
   "metadata": {},
   "outputs": [
    {
     "name": "stdout",
     "output_type": "stream",
     "text": [
      "dictionary key name and value is Muhammad Qasim\n",
      "dictionary key fname and value is Muhammad Aslam\n"
     ]
    }
   ],
   "source": [
    "#           iteration perform on keys\n",
    "l1 : dict[str,str] = {\"name\":\"Muhammad Qasim\",\"fname\":\"Muhammad Aslam\"}\n",
    "\n",
    "for k in l1:\n",
    "    print(f\"dictionary key {k} and value is {l1[k]}\")"
   ]
  },
  {
   "cell_type": "markdown",
   "metadata": {},
   "source": [
    "### We can directly perform iteration on set data type"
   ]
  },
  {
   "cell_type": "code",
   "execution_count": 17,
   "metadata": {},
   "outputs": [
    {
     "name": "stdout",
     "output_type": "stream",
     "text": [
      "set item is  1 \n",
      "set item is  2 \n",
      "set item is  3 \n",
      "set item is  4 \n"
     ]
    }
   ],
   "source": [
    "#           iteration perform on keys\n",
    "l1 : set[int] = {1,2,3,4,1,1,1,1}\n",
    "\n",
    "for k in l1:\n",
    "    print(f\"set item is  {k} \")"
   ]
  },
  {
   "cell_type": "markdown",
   "metadata": {},
   "source": [
    "### Also apply iteration on set with type casting in list"
   ]
  },
  {
   "cell_type": "code",
   "execution_count": 14,
   "metadata": {},
   "outputs": [
    {
     "name": "stdout",
     "output_type": "stream",
     "text": [
      "value from list of set : 1 \n",
      "value from list of set : 2 \n",
      "value from list of set : 3 \n",
      "value from list of set : 4 \n"
     ]
    }
   ],
   "source": [
    "#                     \n",
    "l1 : list[set[int]] = list({1,2,3,4,1,1,1,1})\n",
    "\n",
    "for k in l1:\n",
    "    print(f\"value from list of set : {k} \")"
   ]
  },
  {
   "cell_type": "markdown",
   "metadata": {},
   "source": [
    "# input from user\n",
    "* input function\n",
    "    * defualt type = string\n",
    "* sys.argv (for console input in abc.py file) \n",
    "    * defualt type = str"
   ]
  },
  {
   "cell_type": "code",
   "execution_count": 25,
   "metadata": {},
   "outputs": [
    {
     "name": "stdout",
     "output_type": "stream",
     "text": [
      "<class 'str'>\n",
      "Welecom dear User Mr/Miss Zia khan!\n"
     ]
    }
   ],
   "source": [
    "name : str = input(\"What is your name? : \\t\")\n",
    "\n",
    "print(type(name))\n",
    "\n",
    "print(f\"Welecom dear User Mr/Miss {name}!\")"
   ]
  },
  {
   "cell_type": "code",
   "execution_count": 22,
   "metadata": {},
   "outputs": [
    {
     "data": {
      "text/plain": [
       "<zip at 0x1208b1100>"
      ]
     },
     "execution_count": 22,
     "metadata": {},
     "output_type": "execute_result"
    }
   ],
   "source": [
    "names : list[str] = ['a','b','c']\n",
    "fname : list[str] = ['x','y','z']\n",
    "age : list[int] = [1,2,3]\n",
    "\n",
    "zip(names,fname,age)"
   ]
  },
  {
   "cell_type": "code",
   "execution_count": 24,
   "metadata": {},
   "outputs": [
    {
     "name": "stdout",
     "output_type": "stream",
     "text": [
      "Welcome dear a, s/o x!\n",
      "Welcome dear b, s/o y!\n",
      "Welcome dear c, s/o z!\n"
     ]
    }
   ],
   "source": [
    "names : list[str] = ['a','b','c']\n",
    "fname : list[str] = ['x','y','z']\n",
    "age : list[int] = [1,2,3]\n",
    "\n",
    "list(zip(names,fname,age))\n",
    "\n",
    "for name,fn, ag in zip(names,fname,age):\n",
    "    print(f\"Welcome dear {name}, s/o {fn}!\")"
   ]
  },
  {
   "cell_type": "markdown",
   "metadata": {},
   "source": [
    "# While loop\n",
    "```\n",
    "while logic: # True/False\n",
    "    loop_body\n",
    "```"
   ]
  },
  {
   "cell_type": "code",
   "execution_count": 28,
   "metadata": {},
   "outputs": [
    {
     "name": "stdout",
     "output_type": "stream",
     "text": [
      "current number is :0\n",
      "current number is :1\n",
      "current number is :2\n",
      "current number is :3\n",
      "current number is :4\n",
      "current number is :5\n",
      "current number is :6\n",
      "current number is :7\n",
      "current number is :8\n",
      "current number is :9\n"
     ]
    }
   ],
   "source": [
    "flag : bool = True #flag\n",
    "\n",
    "current_number : int = 0 #\n",
    "\n",
    "while flag:\n",
    "    print(f\"current number is :{current_number}\")\n",
    "    current_number += 1\n",
    "\n",
    "    if current_number == 10: # flag false at some point\n",
    "        break"
   ]
  },
  {
   "cell_type": "code",
   "execution_count": 31,
   "metadata": {},
   "outputs": [
    {
     "name": "stdout",
     "output_type": "stream",
     "text": [
      "current index is :0 and list value is 100\n",
      "current index is :1 and list value is 200\n",
      "current index is :2 and list value is 300\n"
     ]
    }
   ],
   "source": [
    "l1: list[int] = [100,200,300]\n",
    "\n",
    "index : int = 0 #\n",
    "\n",
    "while index < len(l1):\n",
    "    print(f\"current index is :{index} and list value is {l1[index]}\")\n",
    "    index += 1\n",
    "\n",
    "   "
   ]
  },
  {
   "cell_type": "code",
   "execution_count": 33,
   "metadata": {},
   "outputs": [
    {
     "name": "stdout",
     "output_type": "stream",
     "text": [
      "write quite or exit to stop this program\n",
      "write quite or exit to stop this program\n",
      "write quite or exit to stop this program\n",
      "write quite or exit to stop this program\n",
      "write quite or exit to stop this program\n"
     ]
    },
    {
     "data": {
      "text/plain": [
       "[{'name': 'a', 'education': 'a'},\n",
       " {'name': 'b', 'education': 'b'},\n",
       " {'name': 'c', 'education': 'c'},\n",
       " {'name': 'd', 'education': 'd'}]"
      ]
     },
     "metadata": {},
     "output_type": "display_data"
    }
   ],
   "source": [
    "data : list[dict[str,str]] = []\n",
    "\n",
    "flag : bool = True\n",
    "\n",
    "while flag:\n",
    "    print(\"write quite or exit to stop this program\")\n",
    "    name : str = input (\"Your good name ? \\t:\")\n",
    "    eduction: str = input(\"Your last education? \\t\")\n",
    "\n",
    "    if name in ['exit','quite','close','stop'] or eduction  in ['exit','quite','close','stop']:\n",
    "        flag=False\n",
    "        break\n",
    "    data.append({\"name\":name,\n",
    "                 \"education\": eduction})\n",
    "\n",
    "display(data)    "
   ]
  },
  {
   "cell_type": "markdown",
   "metadata": {},
   "source": [
    "# controls \n",
    "* break\n",
    "* continue\n",
    "    * skip\n",
    "* pass"
   ]
  },
  {
   "cell_type": "code",
   "execution_count": 34,
   "metadata": {},
   "outputs": [
    {
     "name": "stdout",
     "output_type": "stream",
     "text": [
      "1\n",
      "2\n",
      "3\n",
      "4\n",
      "5\n"
     ]
    }
   ],
   "source": [
    "for i in range(1,11):\n",
    "    print(i)\n",
    "    if i == 5:\n",
    "        break"
   ]
  },
  {
   "cell_type": "code",
   "execution_count": 35,
   "metadata": {},
   "outputs": [
    {
     "name": "stdout",
     "output_type": "stream",
     "text": [
      "2 X 1 = 2\n"
     ]
    }
   ],
   "source": [
    "for i in range(1,11):\n",
    "    print(f\"2 X {i} = {i*2}\")\n",
    "    break"
   ]
  },
  {
   "cell_type": "code",
   "execution_count": 36,
   "metadata": {},
   "outputs": [
    {
     "name": "stdout",
     "output_type": "stream",
     "text": [
      "2 X 1 = 2\n",
      "2 X 2 = 4\n",
      "2 X 3 = 6\n",
      "2 X 4 = 8\n",
      "2 X 5 = 10\n",
      "2 X 6 = 12\n",
      "2 X 7 = 14\n",
      "2 X 8 = 16\n",
      "2 X 9 = 18\n",
      "2 X 10 = 20\n"
     ]
    }
   ],
   "source": [
    "for i in range(1,11):\n",
    "    print(f\"2 X {i} = {i*2}\")\n"
   ]
  },
  {
   "cell_type": "code",
   "execution_count": 37,
   "metadata": {},
   "outputs": [
    {
     "name": "stdout",
     "output_type": "stream",
     "text": [
      "1\n",
      "2\n",
      "3\n",
      "4\n",
      "6\n",
      "7\n",
      "8\n",
      "9\n",
      "10\n"
     ]
    }
   ],
   "source": [
    "for i in range(1, 11):  # Creating a range from 1 to 10\n",
    "    if i == 5:\n",
    "        continue  # Skipping the iteration when i is 5\n",
    "    print(i)"
   ]
  },
  {
   "cell_type": "markdown",
   "metadata": {},
   "source": [
    "* pass"
   ]
  },
  {
   "cell_type": "code",
   "execution_count": 38,
   "metadata": {},
   "outputs": [
    {
     "ename": "SyntaxError",
     "evalue": "incomplete input (595619927.py, line 2)",
     "output_type": "error",
     "traceback": [
      "\u001b[0;36m  Cell \u001b[0;32mIn[38], line 2\u001b[0;36m\u001b[0m\n\u001b[0;31m    \u001b[0m\n\u001b[0m    ^\u001b[0m\n\u001b[0;31mSyntaxError\u001b[0m\u001b[0;31m:\u001b[0m incomplete input\n"
     ]
    }
   ],
   "source": [
    "for i in range(1,1000):\n",
    "    "
   ]
  },
  {
   "cell_type": "code",
   "execution_count": 39,
   "metadata": {},
   "outputs": [],
   "source": [
    "for i in range(1,1000):\n",
    "    pass"
   ]
  },
  {
   "cell_type": "code",
   "execution_count": null,
   "metadata": {},
   "outputs": [],
   "source": [
    "while True:\n",
    "    pass"
   ]
  },
  {
   "cell_type": "code",
   "execution_count": 40,
   "metadata": {},
   "outputs": [],
   "source": [
    "def abc(a :int , b:int ) -> int :\n",
    "    pass"
   ]
  },
  {
   "cell_type": "code",
   "execution_count": 43,
   "metadata": {},
   "outputs": [
    {
     "name": "stdout",
     "output_type": "stream",
     "text": [
      "pakistan\n",
      "Second\n"
     ]
    }
   ],
   "source": [
    "if True:\n",
    "    pass\n",
    "\n",
    "print(\"pakistan\")\n",
    "print(\"Second\")"
   ]
  },
  {
   "cell_type": "code",
   "execution_count": 44,
   "metadata": {},
   "outputs": [
    {
     "name": "stdout",
     "output_type": "stream",
     "text": [
      "qasim\n"
     ]
    }
   ],
   "source": [
    "if True:\n",
    "    name : str = input(\"Your name?\")\n",
    "    print(name)"
   ]
  },
  {
   "cell_type": "code",
   "execution_count": 45,
   "metadata": {},
   "outputs": [],
   "source": [
    "if False:\n",
    "    name : str = input(\"Your name?\")\n",
    "    print(name)"
   ]
  },
  {
   "cell_type": "code",
   "execution_count": 47,
   "metadata": {},
   "outputs": [
    {
     "name": "stdout",
     "output_type": "stream",
     "text": [
      "15\n"
     ]
    }
   ],
   "source": [
    "print(1 + 7 + 3 + 4)"
   ]
  },
  {
   "cell_type": "code",
   "execution_count": 48,
   "metadata": {},
   "outputs": [
    {
     "name": "stdout",
     "output_type": "stream",
     "text": [
      "15\n"
     ]
    }
   ],
   "source": [
    "print(1 + 7 \\\n",
    "      + 3\\\n",
    "         + 4)"
   ]
  },
  {
   "cell_type": "code",
   "execution_count": 50,
   "metadata": {},
   "outputs": [
    {
     "name": "stdout",
     "output_type": "stream",
     "text": [
      "\n",
      "Hello, qasim!\n"
     ]
    }
   ],
   "source": [
    "prompt = \"\"\"If you share your name, we can personalize the messages you see.\\\n",
    "What is your first name? \"\"\"\n",
    "\n",
    "\n",
    "name = input(prompt)\n",
    "print(f\"\\nHello, {name}!\")"
   ]
  },
  {
   "cell_type": "code",
   "execution_count": 51,
   "metadata": {},
   "outputs": [
    {
     "ename": "TypeError",
     "evalue": "'>=' not supported between instances of 'str' and 'int'",
     "output_type": "error",
     "traceback": [
      "\u001b[0;31m---------------------------------------------------------------------------\u001b[0m",
      "\u001b[0;31mTypeError\u001b[0m                                 Traceback (most recent call last)",
      "Cell \u001b[0;32mIn[51], line 2\u001b[0m\n\u001b[1;32m      1\u001b[0m age:\u001b[39mstr\u001b[39m \u001b[39m=\u001b[39m \u001b[39minput\u001b[39m(\u001b[39m\"\u001b[39m\u001b[39mHow old are you? \u001b[39m\u001b[39m\"\u001b[39m)\n\u001b[0;32m----> 2\u001b[0m age \u001b[39m>\u001b[39;49m\u001b[39m=\u001b[39;49m \u001b[39m18\u001b[39;49m\n",
      "\u001b[0;31mTypeError\u001b[0m: '>=' not supported between instances of 'str' and 'int'"
     ]
    }
   ],
   "source": [
    "age:str = input(\"How old are you? \")\n",
    "age >= 18"
   ]
  },
  {
   "cell_type": "code",
   "execution_count": 52,
   "metadata": {},
   "outputs": [
    {
     "data": {
      "text/plain": [
       "True"
      ]
     },
     "execution_count": 52,
     "metadata": {},
     "output_type": "execute_result"
    }
   ],
   "source": [
    "age:int = int(input(\"How old are you? \"))\n",
    "age >= 18"
   ]
  },
  {
   "cell_type": "code",
   "execution_count": 53,
   "metadata": {},
   "outputs": [
    {
     "data": {
      "text/plain": [
       "[6, 18]"
      ]
     },
     "execution_count": 53,
     "metadata": {},
     "output_type": "execute_result"
    }
   ],
   "source": [
    "data : list[int] = [1,3,5,6,3,15,18]\n",
    "\n",
    "# extract even numbers from this list\n",
    "\n",
    "[i  for i in data if i%2==0]"
   ]
  },
  {
   "cell_type": "code",
   "execution_count": 58,
   "metadata": {},
   "outputs": [
    {
     "name": "stdout",
     "output_type": "stream",
     "text": [
      "2\n",
      "4\n",
      "6\n",
      "8\n",
      "10\n"
     ]
    }
   ],
   "source": [
    "current_number = 0\n",
    "while current_number < 10:\n",
    "    current_number += 1\n",
    "    if current_number % 2 != 0:\n",
    "        continue\n",
    "    print(current_number)"
   ]
  },
  {
   "cell_type": "code",
   "execution_count": 54,
   "metadata": {},
   "outputs": [
    {
     "data": {
      "text/plain": [
       "[1, 3, 5, 3, 15]"
      ]
     },
     "execution_count": 54,
     "metadata": {},
     "output_type": "execute_result"
    }
   ],
   "source": [
    "data : list[int] = [1,3,5,6,3,15,18]\n",
    "\n",
    "# extract even numbers from this list\n",
    "\n",
    "[i  for i in data if i%2!=0]"
   ]
  },
  {
   "cell_type": "code",
   "execution_count": 57,
   "metadata": {},
   "outputs": [
    {
     "name": "stdout",
     "output_type": "stream",
     "text": [
      "1\n",
      "3\n",
      "5\n",
      "7\n",
      "9\n"
     ]
    }
   ],
   "source": [
    "current_number = 0\n",
    "while current_number < 10:\n",
    "    current_number += 1\n",
    "    if current_number % 2 == 0:\n",
    "        continue\n",
    "    print(current_number)"
   ]
  },
  {
   "cell_type": "code",
   "execution_count": 55,
   "metadata": {},
   "outputs": [
    {
     "name": "stdout",
     "output_type": "stream",
     "text": [
      "1\n",
      "b\n",
      "c\n",
      "quit\n"
     ]
    }
   ],
   "source": [
    "prompt = \"\\nTell me something, and I will repeat it back to you:\"\n",
    "prompt += \"\\nEnter 'quit' to end the program. \"\n",
    "message = \"\"\n",
    "while message != 'quit':\n",
    "    message = input(prompt)\n",
    "    print(message)"
   ]
  },
  {
   "cell_type": "code",
   "execution_count": 56,
   "metadata": {},
   "outputs": [
    {
     "name": "stdout",
     "output_type": "stream",
     "text": [
      "q\n",
      "b\n",
      "c\n"
     ]
    }
   ],
   "source": [
    "prompt:str = \"\\nTell me something, and I will repeat it back to you:\"\n",
    "prompt += \"\\nEnter 'quit' to end the program. \"\n",
    "\n",
    "\n",
    "active = True \n",
    "\n",
    "while active:\n",
    "    message = input(prompt)\n",
    "    if message == 'quit':\n",
    "        active = False\n",
    "    else:\n",
    "        print(message)\n"
   ]
  },
  {
   "cell_type": "code",
   "execution_count": 59,
   "metadata": {},
   "outputs": [
    {
     "name": "stdout",
     "output_type": "stream",
     "text": [
      "Verifying user: Candace\n",
      "Verifying user: Brian\n",
      "Verifying user: Alice\n",
      "\n",
      "The following users have been confirmed:\n",
      "Candace\n",
      "Brian\n",
      "Alice\n"
     ]
    }
   ],
   "source": [
    "# Start with users that need to be verified,\n",
    "# and an empty list to hold confirmed users.\n",
    "unconfirmed_users : list[str] = ['alice', 'brian', 'candace']\n",
    "confirmed_users : list[str] = []\n",
    "  # Verify each user until there are no more unconfirmed users.\n",
    "# Move each verified user into the list of confirmed users. 2 \n",
    "while unconfirmed_users:\n",
    "    current_user = unconfirmed_users.pop()\n",
    "    print(f\"Verifying user: {current_user.title()}\")\n",
    "    confirmed_users.append(current_user)\n",
    "# Display all confirmed users.\n",
    "print(\"\\nThe following users have been confirmed:\")\n",
    "for confirmed_user in confirmed_users:\n",
    "    print(confirmed_user.title())"
   ]
  },
  {
   "cell_type": "code",
   "execution_count": 62,
   "metadata": {},
   "outputs": [],
   "source": [
    "a = 10\n",
    "\n",
    "while a:\n",
    "    print(\"abc\")\n",
    "    break"
   ]
  },
  {
   "cell_type": "code",
   "execution_count": 63,
   "metadata": {},
   "outputs": [
    {
     "name": "stdout",
     "output_type": "stream",
     "text": [
      "3\n",
      "2\n",
      "1\n"
     ]
    }
   ],
   "source": [
    "data : list[int] = [1,2,3]\n",
    "\n",
    "while data:\n",
    "    n : int = data.pop()\n",
    "    print(n)"
   ]
  },
  {
   "cell_type": "code",
   "execution_count": 64,
   "metadata": {},
   "outputs": [
    {
     "name": "stdout",
     "output_type": "stream",
     "text": [
      "['dog', 'cat', 'dog', 'goldfish', 'cat', 'rabbit', 'cat']\n",
      "['dog', 'dog', 'goldfish', 'rabbit']\n"
     ]
    }
   ],
   "source": [
    "pets = ['dog', 'cat', 'dog', 'goldfish', 'cat', 'rabbit', 'cat'] \n",
    "print(pets)\n",
    "\n",
    "while 'cat' in pets:\n",
    "    pets.remove('cat')\n",
    "print(pets)"
   ]
  },
  {
   "cell_type": "code",
   "execution_count": null,
   "metadata": {},
   "outputs": [],
   "source": []
  }
 ],
 "metadata": {
  "kernelspec": {
   "display_name": "python12",
   "language": "python",
   "name": "python3"
  },
  "language_info": {
   "codemirror_mode": {
    "name": "ipython",
    "version": 3
   },
   "file_extension": ".py",
   "mimetype": "text/x-python",
   "name": "python",
   "nbconvert_exporter": "python",
   "pygments_lexer": "ipython3",
   "version": "3.12.0"
  },
  "orig_nbformat": 4
 },
 "nbformat": 4,
 "nbformat_minor": 2
}
