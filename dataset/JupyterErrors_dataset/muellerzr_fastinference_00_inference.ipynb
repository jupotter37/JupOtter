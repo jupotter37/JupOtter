{
 "cells": [
  {
   "cell_type": "code",
   "execution_count": null,
   "metadata": {},
   "outputs": [],
   "source": [
    "# default_exp inference.inference"
   ]
  },
  {
   "cell_type": "markdown",
   "metadata": {},
   "source": [
    "# Inference\n",
    "\n",
    "> Provides faster inference scripts"
   ]
  },
  {
   "cell_type": "code",
   "execution_count": null,
   "metadata": {},
   "outputs": [],
   "source": [
    "#hide\n",
    "from nbdev.showdoc import *"
   ]
  },
  {
   "cell_type": "code",
   "execution_count": null,
   "metadata": {},
   "outputs": [
    {
     "ename": "ModuleNotFoundError",
     "evalue": "No module named 'fastinference.soft_dependencies'",
     "output_type": "error",
     "traceback": [
      "\u001b[0;31m---------------------------------------------------------------------------\u001b[0m",
      "\u001b[0;31mModuleNotFoundError\u001b[0m                       Traceback (most recent call last)",
      "\u001b[0;32m<ipython-input-2-420727396d7c>\u001b[0m in \u001b[0;36m<module>\u001b[0;34m\u001b[0m\n\u001b[1;32m      1\u001b[0m \u001b[0;31m#export\u001b[0m\u001b[0;34m\u001b[0m\u001b[0;34m\u001b[0m\u001b[0;34m\u001b[0m\u001b[0m\n\u001b[0;32m----> 2\u001b[0;31m \u001b[0;32mfrom\u001b[0m \u001b[0mfastinference\u001b[0m\u001b[0;34m.\u001b[0m\u001b[0msoft_dependencies\u001b[0m \u001b[0;32mimport\u001b[0m \u001b[0mSoftDependencies\u001b[0m\u001b[0;34m\u001b[0m\u001b[0;34m\u001b[0m\u001b[0m\n\u001b[0m\u001b[1;32m      3\u001b[0m \u001b[0;32mif\u001b[0m \u001b[0;32mnot\u001b[0m \u001b[0mSoftDependencies\u001b[0m\u001b[0;34m.\u001b[0m\u001b[0mcheck\u001b[0m\u001b[0;34m(\u001b[0m\u001b[0;34m)\u001b[0m\u001b[0;34m[\u001b[0m\u001b[0;34m'light'\u001b[0m\u001b[0;34m]\u001b[0m\u001b[0;34m:\u001b[0m\u001b[0;34m\u001b[0m\u001b[0;34m\u001b[0m\u001b[0m\n\u001b[1;32m      4\u001b[0m     \u001b[0;32mraise\u001b[0m \u001b[0mImportError\u001b[0m\u001b[0;34m(\u001b[0m\u001b[0;34m\"The fastai module is not installed.\"\u001b[0m\u001b[0;34m)\u001b[0m\u001b[0;34m\u001b[0m\u001b[0;34m\u001b[0m\u001b[0m\n",
      "\u001b[0;31mModuleNotFoundError\u001b[0m: No module named 'fastinference.soft_dependencies'"
     ]
    }
   ],
   "source": [
    "#export\n",
    "from fastinference.soft_dependencies import SoftDependencies\n",
    "if not SoftDependencies.check()['light']:\n",
    "    raise ImportError(\"The fastai module is not installed.\")"
   ]
  },
  {
   "cell_type": "code",
   "execution_count": null,
   "metadata": {},
   "outputs": [],
   "source": [
    "#export\n",
    "from fastai.learner import _ConstantFunc\n",
    "from fastai.vision.all import *\n",
    "from fastai.tabular.all import *"
   ]
  },
  {
   "cell_type": "code",
   "execution_count": null,
   "metadata": {},
   "outputs": [],
   "source": [
    "#export\n",
    "@typedispatch\n",
    "def _fully_decode(dl:TfmdDL, inps, outs):\n",
    "    \"Attempt to fully decode the `inp\"\n",
    "    inps = dl.decode(inps)\n",
    "    dec = []\n",
    "    for d in inps:\n",
    "        for e in d:\n",
    "            e = retain_type(e, typ=type(d))\n",
    "            dec.append(e)\n",
    "    outs.insert(len(outs), dec)\n",
    "    return outs\n",
    "\n",
    "@typedispatch\n",
    "def _fully_decode(dl:TabDataLoader, inps, outs):\n",
    "    \"Attempt to fully decode the `inp\"\n",
    "    for i in range(dl.n_inp):\n",
    "        inps[i] = torch.cat(inps[i], dim=0)\n",
    "    dec = dl.decode(inps)\n",
    "    outs.insert(len(outs), dec)\n",
    "    return outs\n",
    "\n",
    "def _decode_loss(vocab, dec_out, outs):\n",
    "    i2c, dec2c = {}, []\n",
    "    try:\n",
    "        for i, vocab in enumerate(list(vocab)):\n",
    "                i2c[i] = vocab\n",
    "        for i, item in enumerate(dec_out):\n",
    "            dec2c.append(i2c[int(item)])\n",
    "        dec_out = dec2c\n",
    "        outs.insert(0, dec_out)\n",
    "    except:\n",
    "        outs.insert(0, dec_out)\n",
    "    return outs"
   ]
  },
  {
   "cell_type": "code",
   "execution_count": null,
   "metadata": {},
   "outputs": [],
   "source": [
    "#export\n",
    "@patch\n",
    "@delegates(GatherPredsCallback.__init__)\n",
    "def get_preds(self:Learner, ds_idx=1, dl=None, with_input=False, with_decoded=False, with_loss=False, raw=False, act=None,\n",
    "                inner=False, reorder=True, cbs=None, **kwargs):\n",
    "    if dl is None: dl = self.dls[ds_idx].new(shuffled=False, drop_last=False)\n",
    "    if reorder and hasattr(dl, 'get_idxs'):\n",
    "        idxs = dl.get_idxs()\n",
    "        dl = dl.new(get_idxs = _ConstantFunc(idxs))\n",
    "    cb = GatherPredsCallback(with_input=with_input, with_loss=with_loss, **kwargs)\n",
    "    ctx_mgrs = self.validation_context(cbs=L(cbs)+[cb], inner=inner)\n",
    "    if with_loss: ctx_mgrs.append(self.loss_not_reduced())\n",
    "    with ContextManagers(ctx_mgrs):\n",
    "        self._do_epoch_validate(dl=dl)\n",
    "        if act is None: act = getattr(self.loss_func, 'activation', noop)\n",
    "        res = cb.all_tensors()\n",
    "        pred_i = 1 if with_input else 0\n",
    "        if res[pred_i] is not None:\n",
    "            res[pred_i] = act(res[pred_i]) if not raw else res[pred_i]\n",
    "            if with_decoded:\n",
    "                res.insert(pred_i+2, getattr(self.loss_func, 'decodes', noop)(res[pred_i]))\n",
    "        if reorder and hasattr(dl, 'get_idxs'): res = nested_reorder(res, tensor(idxs).argsort())\n",
    "        if with_decoded:\n",
    "            if hasattr(self.dls, 'categorize'): res[pred_i+1] = apply(getattr(self.dls, 'categorize', noop).decode, [*res[pred_i+2]])\n",
    "            if hasattr(self.dls, 'multi_categorize'): res[pred_i+1] = apply(getattr(self.dls, 'multi_categorize', noop).decode, [*res[pred_i+2]])\n",
    "        return tuple(res)\n",
    "    self._end_cleanup()"
   ]
  },
  {
   "cell_type": "code",
   "execution_count": null,
   "metadata": {},
   "outputs": [
    {
     "data": {
      "text/markdown": [
       "<h4 id=\"Learner.get_preds\" class=\"doc_header\"><code>Learner.get_preds</code><a href=\"__main__.py#L2\" class=\"source_link\" style=\"float:right\">[source]</a></h4>\n",
       "\n",
       "> <code>Learner.get_preds</code>(**`ds_idx`**=*`1`*, **`dl`**=*`None`*, **`with_input`**=*`False`*, **`with_decoded`**=*`False`*, **`with_loss`**=*`False`*, **`raw`**=*`False`*, **`act`**=*`None`*, **`inner`**=*`False`*, **`reorder`**=*`True`*, **`cbs`**=*`None`*, **\\*\\*`kwargs`**)\n",
       "\n"
      ],
      "text/plain": [
       "<IPython.core.display.Markdown object>"
      ]
     },
     "metadata": {},
     "output_type": "display_data"
    }
   ],
   "source": [
    "show_doc(Learner.get_preds)"
   ]
  },
  {
   "cell_type": "markdown",
   "metadata": {},
   "source": [
    "This function is *almost* the exact same as `fastai`'s. The big difference is we can return our raw outputs or our class names.\n",
    "\n",
    "> Note: to speed up inference, multi-processing *will* slow you down. In production use `num_workers=0` unless you have a large amount of vision data being passed at one time"
   ]
  },
  {
   "cell_type": "code",
   "execution_count": null,
   "metadata": {},
   "outputs": [],
   "source": [
    "#export\n",
    "@patch\n",
    "def predict(x:Learner, item, with_input=False, rm_type_tfms=None):\n",
    "        dl = x.dls.test_dl([item], rm_type_tfms=rm_type_tfms, num_workers=0)\n",
    "        res = x.get_preds(dl=dl, with_input=with_input, with_decoded=True)\n",
    "        return res"
   ]
  },
  {
   "cell_type": "code",
   "execution_count": null,
   "metadata": {},
   "outputs": [],
   "source": [
    "#export\n",
    "@patch\n",
    "def predict(x:TabularLearner, row, with_input=False, rm_type_tfms=None):\n",
    "        dl = x.dls.test_dl(row.to_frame().T)\n",
    "        dl.dataset.conts = dl.dataset.conts.astype(np.float32)\n",
    "        res = x.get_preds(dl=dl, with_decoded=True, with_input=with_input)\n",
    "        return res"
   ]
  },
  {
   "cell_type": "markdown",
   "metadata": {},
   "source": [
    "## Examples\n",
    "\n",
    "Below is examples with `Vision`, `Tabular`, and `Text`:"
   ]
  },
  {
   "cell_type": "markdown",
   "metadata": {},
   "source": [
    "### Vision\n",
    "\n",
    "We'll use the `PETs` dataset:"
   ]
  },
  {
   "cell_type": "code",
   "execution_count": null,
   "metadata": {},
   "outputs": [],
   "source": [
    "path = untar_data(URLs.PETS)\n",
    "fnames = get_image_files(path/'images')\n",
    "pat = r'(.+)_\\d+.jpg$'\n",
    "batch_tfms = [*aug_transforms(size=224, max_warp=0), Normalize.from_stats(*imagenet_stats)]\n",
    "item_tfms = RandomResizedCrop(460, min_scale=0.75, ratio=(1.,1.))\n",
    "bs=64"
   ]
  },
  {
   "cell_type": "code",
   "execution_count": null,
   "metadata": {},
   "outputs": [],
   "source": [
    "dls = ImageDataLoaders.from_name_re(path, fnames, pat, batch_tfms=batch_tfms, \n",
    "                                   item_tfms=item_tfms, bs=bs)"
   ]
  },
  {
   "cell_type": "code",
   "execution_count": null,
   "metadata": {},
   "outputs": [],
   "source": [
    "learn = cnn_learner(dls, resnet18, metrics=accuracy)"
   ]
  },
  {
   "cell_type": "code",
   "execution_count": null,
   "metadata": {},
   "outputs": [
    {
     "data": {
      "text/html": [],
      "text/plain": [
       "<IPython.core.display.HTML object>"
      ]
     },
     "metadata": {},
     "output_type": "display_data"
    }
   ],
   "source": [
    "o = learn.predict(fnames[0], with_input=False)"
   ]
  },
  {
   "cell_type": "code",
   "execution_count": null,
   "metadata": {},
   "outputs": [
    {
     "data": {
      "text/plain": [
       "(tensor([[1.4304e-08, 2.5611e-05, 1.6173e-05, 5.7103e-02, 5.6983e-06, 4.3949e-03,\n",
       "          1.1635e-09, 1.9718e-04, 3.6130e-07, 5.3789e-08, 2.8925e-06, 9.1773e-01,\n",
       "          6.7786e-05, 1.2413e-05, 2.5257e-06, 8.6121e-05, 9.6604e-06, 1.1303e-02,\n",
       "          7.5059e-03, 5.4293e-08, 2.4380e-09, 8.4304e-05, 3.3945e-05, 3.7062e-08,\n",
       "          7.4087e-08, 8.1876e-04, 1.1356e-05, 6.7219e-06, 1.9465e-06, 4.0787e-07,\n",
       "          2.3148e-07, 5.4692e-04, 3.0157e-08, 2.4145e-06, 5.2035e-08, 1.5288e-05,\n",
       "          9.8272e-06]]),\n",
       " ['Sphynx'],\n",
       " tensor([11]))"
      ]
     },
     "execution_count": null,
     "metadata": {},
     "output_type": "execute_result"
    }
   ],
   "source": [
    "o"
   ]
  },
  {
   "cell_type": "code",
   "execution_count": null,
   "metadata": {},
   "outputs": [
    {
     "data": {
      "text/html": [],
      "text/plain": [
       "<IPython.core.display.HTML object>"
      ]
     },
     "metadata": {},
     "output_type": "display_data"
    }
   ],
   "source": [
    "imgs, probs, classes, clas_idx = learn.get_preds(dl=learn.dls.test_dl(fnames[:3]), with_input=True, with_decoded=True)"
   ]
  },
  {
   "cell_type": "markdown",
   "metadata": {},
   "source": [
    "The first index will contain our **raw** transformed images:"
   ]
  },
  {
   "cell_type": "code",
   "execution_count": null,
   "metadata": {},
   "outputs": [
    {
     "name": "stderr",
     "output_type": "stream",
     "text": [
      "Clipping input data to the valid range for imshow with RGB data ([0..1] for floats or [0..255] for integers).\n"
     ]
    },
    {
     "data": {
      "text/plain": [
       "<matplotlib.axes._subplots.AxesSubplot at 0x7f9dc6056e50>"
      ]
     },
     "execution_count": null,
     "metadata": {},
     "output_type": "execute_result"
    },
    {
     "data": {
      "image/png": "[encoded data removed]",
      "text/plain": [
       "<Figure size 360x360 with 1 Axes>"
      ]
     },
     "metadata": {
      "needs_background": "light"
     },
     "output_type": "display_data"
    }
   ],
   "source": [
    "TensorImage(imgs[0]).show()"
   ]
  },
  {
   "cell_type": "markdown",
   "metadata": {},
   "source": [
    "Second the probabilities"
   ]
  },
  {
   "cell_type": "code",
   "execution_count": null,
   "metadata": {},
   "outputs": [
    {
     "data": {
      "text/plain": [
       "tensor([1.4304e-08, 2.5611e-05, 1.6173e-05, 5.7103e-02, 5.6983e-06, 4.3949e-03,\n",
       "        1.1635e-09, 1.9718e-04, 3.6130e-07, 5.3789e-08, 2.8925e-06, 9.1773e-01,\n",
       "        6.7786e-05, 1.2413e-05, 2.5257e-06, 8.6121e-05, 9.6605e-06, 1.1303e-02,\n",
       "        7.5060e-03, 5.4293e-08, 2.4380e-09, 8.4304e-05, 3.3945e-05, 3.7062e-08,\n",
       "        7.4088e-08, 8.1876e-04, 1.1356e-05, 6.7219e-06, 1.9465e-06, 4.0787e-07,\n",
       "        2.3148e-07, 5.4693e-04, 3.0157e-08, 2.4144e-06, 5.2035e-08, 1.5288e-05,\n",
       "        9.8272e-06])"
      ]
     },
     "execution_count": null,
     "metadata": {},
     "output_type": "execute_result"
    }
   ],
   "source": [
    "probs[0]"
   ]
  },
  {
   "cell_type": "markdown",
   "metadata": {},
   "source": [
    "And third our class names:"
   ]
  },
  {
   "cell_type": "code",
   "execution_count": null,
   "metadata": {},
   "outputs": [
    {
     "data": {
      "text/plain": [
       "'Sphynx'"
      ]
     },
     "execution_count": null,
     "metadata": {},
     "output_type": "execute_result"
    }
   ],
   "source": [
    "classes[0]"
   ]
  },
  {
   "cell_type": "markdown",
   "metadata": {},
   "source": [
    "### Tabular\n",
    "\n",
    "We'll use the `ADULT_SAMPLE` dataset:"
   ]
  },
  {
   "cell_type": "code",
   "execution_count": null,
   "metadata": {},
   "outputs": [],
   "source": [
    "from fastai.tabular.all import *"
   ]
  },
  {
   "cell_type": "code",
   "execution_count": null,
   "metadata": {},
   "outputs": [],
   "source": [
    "path = untar_data(URLs.ADULT_SAMPLE)"
   ]
  },
  {
   "cell_type": "code",
   "execution_count": null,
   "metadata": {},
   "outputs": [],
   "source": [
    "df = pd.read_csv(path/'adult.csv')\n",
    "splits = RandomSplitter()(range_of(df))\n",
    "cat_names = ['workclass', 'education', 'marital-status', 'occupation', 'relationship', 'race']\n",
    "cont_names = ['age', 'fnlwgt', 'education-num']\n",
    "procs = [Categorify, FillMissing, Normalize]\n",
    "y_names = 'salary'"
   ]
  },
  {
   "cell_type": "code",
   "execution_count": null,
   "metadata": {},
   "outputs": [],
   "source": [
    "to = TabularPandas(df, procs=procs, cat_names=cat_names, cont_names=cont_names,\n",
    "                   y_names=y_names, splits=splits)"
   ]
  },
  {
   "cell_type": "code",
   "execution_count": null,
   "metadata": {},
   "outputs": [],
   "source": [
    "dls = to.dataloaders()"
   ]
  },
  {
   "cell_type": "code",
   "execution_count": null,
   "metadata": {},
   "outputs": [],
   "source": [
    "learn = tabular_learner(dls, layers=[200,100])"
   ]
  },
  {
   "cell_type": "code",
   "execution_count": null,
   "metadata": {},
   "outputs": [
    {
     "data": {
      "text/html": [],
      "text/plain": [
       "<IPython.core.display.HTML object>"
      ]
     },
     "metadata": {},
     "output_type": "display_data"
    }
   ],
   "source": [
    "inp, probs, name, cat_idx = learn.predict(df.iloc[0], with_input=True)"
   ]
  },
  {
   "cell_type": "code",
   "execution_count": null,
   "metadata": {},
   "outputs": [
    {
     "data": {
      "text/plain": [
       "(tensor([[5, 8, 3, 0, 6, 5, 1]]), tensor([[ 0.7608, -0.8399,  0.7488]]))"
      ]
     },
     "execution_count": null,
     "metadata": {},
     "output_type": "execute_result"
    }
   ],
   "source": [
    "inp"
   ]
  },
  {
   "cell_type": "markdown",
   "metadata": {},
   "source": [
    "For tabular, our input is a `TabularPandas` row. We can decode that row utilizing the `DataLoaders` `decode` function to generate it, and show it:"
   ]
  },
  {
   "cell_type": "code",
   "execution_count": null,
   "metadata": {},
   "outputs": [
    {
     "data": {
      "text/html": [
       "<table border=\"1\" class=\"dataframe\">\n",
       "  <thead>\n",
       "    <tr style=\"text-align: right;\">\n",
       "      <th></th>\n",
       "      <th>workclass</th>\n",
       "      <th>education</th>\n",
       "      <th>marital-status</th>\n",
       "      <th>occupation</th>\n",
       "      <th>relationship</th>\n",
       "      <th>race</th>\n",
       "      <th>education-num_na</th>\n",
       "      <th>age</th>\n",
       "      <th>fnlwgt</th>\n",
       "      <th>education-num</th>\n",
       "    </tr>\n",
       "  </thead>\n",
       "  <tbody>\n",
       "    <tr>\n",
       "      <th>0</th>\n",
       "      <td>Private</td>\n",
       "      <td>Assoc-acdm</td>\n",
       "      <td>Married-civ-spouse</td>\n",
       "      <td>#na#</td>\n",
       "      <td>Wife</td>\n",
       "      <td>White</td>\n",
       "      <td>False</td>\n",
       "      <td>49.0</td>\n",
       "      <td>101319.999368</td>\n",
       "      <td>12.0</td>\n",
       "    </tr>\n",
       "  </tbody>\n",
       "</table>"
      ],
      "text/plain": [
       "<IPython.core.display.HTML object>"
      ]
     },
     "metadata": {},
     "output_type": "display_data"
    }
   ],
   "source": [
    "learn.dls.decode(inp).show()"
   ]
  },
  {
   "cell_type": "code",
   "execution_count": null,
   "metadata": {},
   "outputs": [],
   "source": []
  }
 ],
 "metadata": {
  "kernelspec": {
   "display_name": "Python 3",
   "language": "python",
   "name": "python3"
  }
 },
 "nbformat": 4,
 "nbformat_minor": 2
}
