{
 "cells": [
  {
   "cell_type": "markdown",
   "metadata": {},
   "source": [
    "### Python 字符串\n",
    "\n",
    "所有用过 Python (2&3)的人应该都看过下面两行错误信息：\n",
    "\n",
    "> `UnicodeEncodeError: 'ascii' codec can't encode characters in position 0-1: ordinal not in range(128)`\n",
    "\n",
    "> `UnicodeDecodeError: 'utf-8' codec can't decode bytes in position 0-1: invalid continuation byte`\n",
    "\n",
    "这就是 Python 界的\"锟斤拷\"！\n",
    "\n",
    "今天和接下来几期的内容将主要关注 Python 中的字符串（`str`）、字节（`bytes`）及两者之间的相互转换（`encode`/`decode`）。也许不能让你突然间解决所有乱码问题，但希望可以帮助你迅速找到问题所在。\n",
    "\n",
    "### 定义\n",
    "\n",
    "Python 中对字符串的定义如下：\n",
    "\n",
    "> Textual data in Python is handled with `str` objects, or strings. Strings are immutable sequences of Unicode code points.\n",
    "\n",
    "Python 3.5 中字符串是由一系列 Unicode 码位（code point）所组成的**不可变序列**："
   ]
  },
  {
   "cell_type": "code",
   "execution_count": 1,
   "metadata": {
    "collapsed": false
   },
   "outputs": [
    {
     "data": {
      "text/plain": [
       "'STRING'"
      ]
     },
     "execution_count": 1,
     "metadata": {},
     "output_type": "execute_result"
    }
   ],
   "source": [
    "('S' 'T' 'R' 'I' 'N' 'G')"
   ]
  },
  {
   "cell_type": "markdown",
   "metadata": {},
   "source": [
    "**不可变**是指无法对字符串本身进行更改操作："
   ]
  },
  {
   "cell_type": "code",
   "execution_count": 2,
   "metadata": {
    "collapsed": false
   },
   "outputs": [
    {
     "name": "stdout",
     "output_type": "stream",
     "text": [
      "l\n"
     ]
    },
    {
     "ename": "TypeError",
     "evalue": "'str' object does not support item assignment",
     "output_type": "error",
     "traceback": [
      "\u001b[0;31m---------------------------------------------------------------------------\u001b[0m",
      "\u001b[0;31mTypeError\u001b[0m                                 Traceback (most recent call last)",
      "\u001b[0;32m<ipython-input-2-ce8cf24852f9>\u001b[0m in \u001b[0;36m<module>\u001b[0;34m()\u001b[0m\n\u001b[1;32m      1\u001b[0m \u001b[0ms\u001b[0m \u001b[0;34m=\u001b[0m \u001b[0;34m'Hello'\u001b[0m\u001b[0;34m\u001b[0m\u001b[0m\n\u001b[1;32m      2\u001b[0m \u001b[0mprint\u001b[0m\u001b[0;34m(\u001b[0m\u001b[0ms\u001b[0m\u001b[0;34m[\u001b[0m\u001b[0;36m3\u001b[0m\u001b[0;34m]\u001b[0m\u001b[0;34m)\u001b[0m\u001b[0;34m\u001b[0m\u001b[0m\n\u001b[0;32m----> 3\u001b[0;31m \u001b[0ms\u001b[0m\u001b[0;34m[\u001b[0m\u001b[0;36m3\u001b[0m\u001b[0;34m]\u001b[0m \u001b[0;34m=\u001b[0m \u001b[0;34m'o'\u001b[0m\u001b[0;34m\u001b[0m\u001b[0m\n\u001b[0m",
      "\u001b[0;31mTypeError\u001b[0m: 'str' object does not support item assignment"
     ]
    }
   ],
   "source": [
    "s = 'Hello'\n",
    "print(s[3])\n",
    "s[3] = 'o'"
   ]
  },
  {
   "cell_type": "markdown",
   "metadata": {},
   "source": [
    "而**序列（sequence）**则是指字符串继承序列类型（`list/tuple/range`）的通用操作："
   ]
  },
  {
   "cell_type": "code",
   "execution_count": 3,
   "metadata": {
    "collapsed": false
   },
   "outputs": [
    {
     "data": {
      "text/plain": [
       "['H', 'E', 'L', 'L', 'O']"
      ]
     },
     "execution_count": 3,
     "metadata": {},
     "output_type": "execute_result"
    }
   ],
   "source": [
    "[i.upper() for i in \"hello\"]"
   ]
  },
  {
   "cell_type": "markdown",
   "metadata": {},
   "source": [
    "至于 Unicode 暂时可以看作一张非常大的地图，这张地图里面记录了世界上所有的符号，而码位则是每个符号所对应的坐标（具体内容将在后面的几期介绍）。"
   ]
  },
  {
   "cell_type": "code",
   "execution_count": 4,
   "metadata": {
    "collapsed": false
   },
   "outputs": [
    {
     "name": "stdout",
     "output_type": "stream",
     "text": [
      "雨\n",
      "1\n",
      "b'\\xe9\\x9b\\xa8'\n"
     ]
    }
   ],
   "source": [
    "s = '雨'\n",
    "print(s)\n",
    "print(len(s))\n",
    "print(s.encode())"
   ]
  },
  {
   "cell_type": "markdown",
   "metadata": {},
   "source": [
    "### 常用操作\n",
    "\n",
    "- **`len`**：字符串长度；\n",
    "- **`split` & `join`**\n",
    "- **`find` & `index`**\n",
    "- **`strip`**\n",
    "- **`upper` & `lower` & `swapcase` & `title` & `capitalize`**\n",
    "- **`endswith` & `startswith` & `is*`**\n",
    "- **`zfill`**"
   ]
  },
  {
   "cell_type": "code",
   "execution_count": 5,
   "metadata": {
    "collapsed": false
   },
   "outputs": [
    {
     "name": "stdout",
     "output_type": "stream",
     "text": [
      "Hello,world!\n"
     ]
    },
    {
     "data": {
      "text/plain": [
       "['https:', '', 'github.com/rainyear/pytips']"
      ]
     },
     "execution_count": 5,
     "metadata": {},
     "output_type": "execute_result"
    }
   ],
   "source": [
    "# split & join\n",
    "s = \"Hello world!\"\n",
    "print(\",\".join(s.split())) # 常用的切分 & 重组操作\n",
    "\n",
    "\"https://github.com/rainyear/pytips\".split(\"/\", 2) # 限定切分次数"
   ]
  },
  {
   "cell_type": "code",
   "execution_count": 6,
   "metadata": {
    "collapsed": false
   },
   "outputs": [
    {
     "name": "stdout",
     "output_type": "stream",
     "text": [
      "2\n",
      "3\n",
      "-1\n"
     ]
    },
    {
     "ename": "ValueError",
     "evalue": "substring not found",
     "output_type": "error",
     "traceback": [
      "\u001b[0;31m---------------------------------------------------------------------------\u001b[0m",
      "\u001b[0;31mValueError\u001b[0m                                Traceback (most recent call last)",
      "\u001b[0;32m<ipython-input-6-59556fd9319f>\u001b[0m in \u001b[0;36m<module>\u001b[0;34m()\u001b[0m\n\u001b[1;32m      4\u001b[0m \u001b[0;34m\u001b[0m\u001b[0m\n\u001b[1;32m      5\u001b[0m \u001b[0mprint\u001b[0m\u001b[0;34m(\u001b[0m\u001b[0ms\u001b[0m\u001b[0;34m.\u001b[0m\u001b[0mfind\u001b[0m\u001b[0;34m(\u001b[0m\u001b[0;34m'a'\u001b[0m\u001b[0;34m)\u001b[0m\u001b[0;34m)\u001b[0m    \u001b[0;31m# 若不存在则返回 -1\u001b[0m\u001b[0;34m\u001b[0m\u001b[0m\n\u001b[0;32m----> 6\u001b[0;31m \u001b[0mprint\u001b[0m\u001b[0;34m(\u001b[0m\u001b[0ms\u001b[0m\u001b[0;34m.\u001b[0m\u001b[0mindex\u001b[0m\u001b[0;34m(\u001b[0m\u001b[0;34m'a'\u001b[0m\u001b[0;34m)\u001b[0m\u001b[0;34m)\u001b[0m   \u001b[0;31m# 若不存在则抛出 ValueError，其余与 find 相同\u001b[0m\u001b[0;34m\u001b[0m\u001b[0m\n\u001b[0m",
      "\u001b[0;31mValueError\u001b[0m: substring not found"
     ]
    }
   ],
   "source": [
    "s = \"coffee\"\n",
    "print(s.find('f'))    # 从左至右搜索，返回第一个下标\n",
    "print(s.rfind('f'))   # 从右至左搜索，返回第一个下表\n",
    "\n",
    "print(s.find('a'))    # 若不存在则返回 -1\n",
    "print(s.index('a'))   # 若不存在则抛出 ValueError，其余与 find 相同"
   ]
  },
  {
   "cell_type": "code",
   "execution_count": 7,
   "metadata": {
    "collapsed": false
   },
   "outputs": [
    {
     "name": "stdout",
     "output_type": "stream",
     "text": [
      "hello world\n",
      "lloworld\n",
      "[i         ]\n",
      "[          i]\n"
     ]
    }
   ],
   "source": [
    "print(\" hello world    \".strip())\n",
    "print(\"helloworld\".strip(\"heo\"))\n",
    "print(\"[\"+\"          i         \".lstrip() +\"]\")\n",
    "print(\"[\"+\"          i         \".rstrip() +\"]\")"
   ]
  },
  {
   "cell_type": "code",
   "execution_count": 8,
   "metadata": {
    "collapsed": false
   },
   "outputs": [
    {
     "name": "stdout",
     "output_type": "stream",
     "text": [
      "HELLO, WORLD\n",
      "hello, world\n",
      "HELLO, world\n",
      "Hello, world\n",
      "Hello, World\n"
     ]
    }
   ],
   "source": [
    "print(\"{}\\n{}\\n{}\\n{}\\n{}\".format(\n",
    "    \"hello, WORLD\".upper(),\n",
    "    \"hello, WORLD\".lower(),\n",
    "    \"hello, WORLD\".swapcase(),\n",
    "    \"hello, WORLD\".capitalize(),\n",
    "    \"hello, WORLD\".title()))"
   ]
  },
  {
   "cell_type": "code",
   "execution_count": 9,
   "metadata": {
    "collapsed": false
   },
   "outputs": [
    {
     "name": "stdout",
     "output_type": "stream",
     "text": [
      "\n",
      "True|False\n",
      "True|False\n",
      "True|False\n",
      "True|False\n",
      "True|False\n",
      "True|False\n",
      "\n"
     ]
    }
   ],
   "source": [
    "print(\"\"\"\n",
    "{}|{}\n",
    "{}|{}\n",
    "{}|{}\n",
    "{}|{}\n",
    "{}|{}\n",
    "{}|{}\n",
    "\"\"\".format(\n",
    "    \"Python\".startswith(\"P\"),\"Python\".startswith(\"y\"),\n",
    "    \"Python\".endswith(\"n\"),\"Python\".endswith(\"o\"),\n",
    "    \"i23o6\".isalnum(),\"1 2 3 0 6\".isalnum(),\n",
    "    \"isalpha\".isalpha(),\"isa1pha\".isalpha(),\n",
    "    \"python\".islower(),\"Python\".islower(),\n",
    "    \"PYTHON\".isupper(),\"Python\".isupper(),\n",
    "))"
   ]
  },
  {
   "cell_type": "code",
   "execution_count": 10,
   "metadata": {
    "collapsed": false
   },
   "outputs": [
    {
     "data": {
      "text/plain": [
       "'00000101'"
      ]
     },
     "execution_count": 10,
     "metadata": {},
     "output_type": "execute_result"
    }
   ],
   "source": [
    "\"101\".zfill(8)"
   ]
  },
  {
   "cell_type": "markdown",
   "metadata": {},
   "source": [
    "**`format` / `encode`**\n",
    "\n",
    "格式化输出 `format` 是非常有用的工具，将会单独进行介绍；`encode` 会在 `bytes-decode-Unicode-encode-bytes` 中详细介绍。"
   ]
  }
 ],
 "metadata": {
  "kernelspec": {
   "display_name": "Python 3",
   "language": "python",
   "name": "python3"
  },
  "language_info": {
   "codemirror_mode": {
    "name": "ipython",
    "version": 3
   },
   "file_extension": ".py",
   "mimetype": "text/x-python",
   "name": "python",
   "nbconvert_exporter": "python",
   "pygments_lexer": "ipython3",
   "version": "3.5.0"
  }
 },
 "nbformat": 4,
 "nbformat_minor": 0
}
