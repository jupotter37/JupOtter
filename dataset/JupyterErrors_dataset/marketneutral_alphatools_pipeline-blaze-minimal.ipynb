{
 "cells": [
  {
   "cell_type": "code",
   "execution_count": 1,
   "metadata": {},
   "outputs": [],
   "source": [
    "import blaze as bz\n",
    "import numpy as np\n",
    "import pandas as pd\n",
    "import sqlite3\n",
    "import itertools\n",
    "\n",
    "from zipline.data import bundles\n",
    "from zipline.utils.calendars import get_calendar\n",
    "\n",
    "from zipline.pipeline import Pipeline\n",
    "from zipline.pipeline.data import USEquityPricing\n",
    "from zipline.pipeline.data import DataSet\n",
    "from zipline.pipeline.engine import SimplePipelineEngine\n",
    "from zipline.pipeline.filters import StaticAssets\n",
    "from zipline.pipeline.loaders import USEquityPricingLoader\n",
    "from zipline.pipeline.loaders.blaze import BlazeLoader, from_blaze\n",
    "\n",
    "\n",
    "trading_calendar = get_calendar('NYSE')\n",
    "bundle_data = bundles.load('quandl')\n",
    "\n",
    "# spoof some data\n",
    "\n",
    "np.random.seed(100)\n",
    "\n",
    "start = trading_calendar.closes.index.get_loc('2016-01-04 00:00:00+00:00')\n",
    "end = trading_calendar.closes.index.get_loc('2018-08-06 00:00:00+00:00')\n",
    "\n",
    "#dates = list(trading_calendar.closes.index)[start:end]\n",
    "dates = trading_calendar.closes.index[start:end]\n",
    "sids = bundle_data.asset_finder.sids\n",
    "\n",
    "df = pd.DataFrame(\n",
    "    data={'value': np.random.random(size=len(dates)*len(sids))},\n",
    "    index = pd.MultiIndex.from_tuples(list(itertools.product(dates,sids)), names=('asof_date', 'sid'))\n",
    ")"
   ]
  },
  {
   "cell_type": "code",
   "execution_count": 2,
   "metadata": {},
   "outputs": [],
   "source": [
    "df = df.reset_index()"
   ]
  },
  {
   "cell_type": "code",
   "execution_count": 3,
   "metadata": {},
   "outputs": [],
   "source": [
    "# this is necessary because sqlite3 doesn't like it if we have the time\n",
    "df.asof_date = df.asof_date.dt.date"
   ]
  },
  {
   "cell_type": "code",
   "execution_count": 4,
   "metadata": {},
   "outputs": [
    {
     "data": {
      "text/html": [
       "<div>\n",
       "<table border=\"1\" class=\"dataframe\">\n",
       "  <thead>\n",
       "    <tr style=\"text-align: right;\">\n",
       "      <th></th>\n",
       "      <th>asof_date</th>\n",
       "      <th>sid</th>\n",
       "      <th>value</th>\n",
       "    </tr>\n",
       "  </thead>\n",
       "  <tbody>\n",
       "    <tr>\n",
       "      <th>0</th>\n",
       "      <td>2016-01-04</td>\n",
       "      <td>0</td>\n",
       "      <td>0.543405</td>\n",
       "    </tr>\n",
       "    <tr>\n",
       "      <th>1</th>\n",
       "      <td>2016-01-04</td>\n",
       "      <td>1</td>\n",
       "      <td>0.278369</td>\n",
       "    </tr>\n",
       "    <tr>\n",
       "      <th>2</th>\n",
       "      <td>2016-01-04</td>\n",
       "      <td>2</td>\n",
       "      <td>0.424518</td>\n",
       "    </tr>\n",
       "    <tr>\n",
       "      <th>3</th>\n",
       "      <td>2016-01-04</td>\n",
       "      <td>3</td>\n",
       "      <td>0.844776</td>\n",
       "    </tr>\n",
       "    <tr>\n",
       "      <th>4</th>\n",
       "      <td>2016-01-04</td>\n",
       "      <td>4</td>\n",
       "      <td>0.004719</td>\n",
       "    </tr>\n",
       "  </tbody>\n",
       "</table>\n",
       "</div>"
      ],
      "text/plain": [
       "    asof_date  sid     value\n",
       "0  2016-01-04    0  0.543405\n",
       "1  2016-01-04    1  0.278369\n",
       "2  2016-01-04    2  0.424518\n",
       "3  2016-01-04    3  0.844776\n",
       "4  2016-01-04    4  0.004719"
      ]
     },
     "execution_count": 4,
     "metadata": {},
     "output_type": "execute_result"
    }
   ],
   "source": [
    "df.head()"
   ]
  },
  {
   "cell_type": "code",
   "execution_count": 5,
   "metadata": {},
   "outputs": [],
   "source": [
    "# put into sqlite db\n",
    "df.to_sql('ds_table', con=sqlite3.connect('temp.db'), if_exists='replace', index=False)"
   ]
  },
  {
   "cell_type": "code",
   "execution_count": 6,
   "metadata": {},
   "outputs": [
    {
     "name": "stdout",
     "output_type": "stream",
     "text": [
      "[('2016-01-04', 0, 0.5434049417909654), ('2016-01-04', 1, 0.27836938509379616), ('2016-01-04', 2, 0.4245175907491331), ('2016-01-04', 3, 0.8447761323199037), ('2016-01-04', 4, 0.004718856190972565), ('2016-01-04', 5, 0.12156912078311422), ('2016-01-04', 6, 0.6707490847267786), ('2016-01-04', 7, 0.8258527551050476), ('2016-01-04', 8, 0.13670658968495297), ('2016-01-04', 9, 0.57509332942725)]\n"
     ]
    }
   ],
   "source": [
    "con = sqlite3.connect('temp.db')\n",
    "cursor = con.cursor()\n",
    "cursor.execute(\"SELECT * FROM ds_table LIMIT 10\")\n",
    "print(cursor.fetchall())"
   ]
  },
  {
   "cell_type": "code",
   "execution_count": 7,
   "metadata": {},
   "outputs": [],
   "source": [
    "from datashape import dshape"
   ]
  },
  {
   "cell_type": "code",
   "execution_count": 8,
   "metadata": {},
   "outputs": [],
   "source": [
    "ds_dshape = dshape(\"var*{asof_date: datetime, sid: int64, value: float64}\")"
   ]
  },
  {
   "cell_type": "code",
   "execution_count": 9,
   "metadata": {},
   "outputs": [
    {
     "data": {
      "text/plain": [
       "dshape(\"var * {asof_date: datetime, sid: int64, value: float64}\")"
      ]
     },
     "execution_count": 9,
     "metadata": {},
     "output_type": "execute_result"
    }
   ],
   "source": [
    "ds_dshape"
   ]
  },
  {
   "cell_type": "code",
   "execution_count": 10,
   "metadata": {},
   "outputs": [],
   "source": [
    "# create the blaze expr\n",
    "\n",
    "expr = bz.Data(\n",
    "    'sqlite:///temp.db::ds_table',\n",
    "    dshape=ds_dshape\n",
    ")"
   ]
  },
  {
   "cell_type": "code",
   "execution_count": 11,
   "metadata": {},
   "outputs": [
    {
     "data": {
      "text/plain": [
       "dshape(\"var * {asof_date: datetime, sid: int64, value: float64}\")"
      ]
     },
     "execution_count": 11,
     "metadata": {},
     "output_type": "execute_result"
    }
   ],
   "source": [
    "expr.dshape"
   ]
  },
  {
   "cell_type": "code",
   "execution_count": 12,
   "metadata": {},
   "outputs": [
    {
     "data": {
      "text/html": [
       "<div>\n",
       "<table border=\"1\" class=\"dataframe\">\n",
       "  <thead>\n",
       "    <tr style=\"text-align: right;\">\n",
       "      <th></th>\n",
       "      <th>asof_date</th>\n",
       "      <th>sid</th>\n",
       "      <th>value</th>\n",
       "    </tr>\n",
       "  </thead>\n",
       "  <tbody>\n",
       "    <tr>\n",
       "      <th>0</th>\n",
       "      <td>2016-01-04</td>\n",
       "      <td>0</td>\n",
       "      <td>0.543405</td>\n",
       "    </tr>\n",
       "    <tr>\n",
       "      <th>1</th>\n",
       "      <td>2016-01-04</td>\n",
       "      <td>1</td>\n",
       "      <td>0.278369</td>\n",
       "    </tr>\n",
       "    <tr>\n",
       "      <th>2</th>\n",
       "      <td>2016-01-04</td>\n",
       "      <td>2</td>\n",
       "      <td>0.424518</td>\n",
       "    </tr>\n",
       "    <tr>\n",
       "      <th>3</th>\n",
       "      <td>2016-01-04</td>\n",
       "      <td>3</td>\n",
       "      <td>0.844776</td>\n",
       "    </tr>\n",
       "    <tr>\n",
       "      <th>4</th>\n",
       "      <td>2016-01-04</td>\n",
       "      <td>4</td>\n",
       "      <td>0.004719</td>\n",
       "    </tr>\n",
       "    <tr>\n",
       "      <th>5</th>\n",
       "      <td>2016-01-04</td>\n",
       "      <td>5</td>\n",
       "      <td>0.121569</td>\n",
       "    </tr>\n",
       "    <tr>\n",
       "      <th>6</th>\n",
       "      <td>2016-01-04</td>\n",
       "      <td>6</td>\n",
       "      <td>0.670749</td>\n",
       "    </tr>\n",
       "    <tr>\n",
       "      <th>7</th>\n",
       "      <td>2016-01-04</td>\n",
       "      <td>7</td>\n",
       "      <td>0.825853</td>\n",
       "    </tr>\n",
       "    <tr>\n",
       "      <th>8</th>\n",
       "      <td>2016-01-04</td>\n",
       "      <td>8</td>\n",
       "      <td>0.136707</td>\n",
       "    </tr>\n",
       "    <tr>\n",
       "      <th>9</th>\n",
       "      <td>2016-01-04</td>\n",
       "      <td>9</td>\n",
       "      <td>0.575093</td>\n",
       "    </tr>\n",
       "    <tr>\n",
       "      <th>10</th>\n",
       "      <td>2016-01-04</td>\n",
       "      <td>10</td>\n",
       "      <td>0.891322</td>\n",
       "    </tr>\n",
       "  </tbody>\n",
       "</table>\n",
       "</div>"
      ],
      "text/plain": [
       "     asof_date  sid     value\n",
       "0   2016-01-04    0  0.543405\n",
       "1   2016-01-04    1  0.278369\n",
       "2   2016-01-04    2  0.424518\n",
       "3   2016-01-04    3  0.844776\n",
       "4   2016-01-04    4  0.004719\n",
       "5   2016-01-04    5  0.121569\n",
       "6   2016-01-04    6  0.670749\n",
       "7   2016-01-04    7  0.825853\n",
       "8   2016-01-04    8  0.136707\n",
       "9   2016-01-04    9  0.575093\n",
       "10  2016-01-04   10  0.891322"
      ]
     },
     "execution_count": 12,
     "metadata": {},
     "output_type": "execute_result"
    }
   ],
   "source": [
    "expr.peek()"
   ]
  },
  {
   "cell_type": "code",
   "execution_count": 13,
   "metadata": {},
   "outputs": [
    {
     "data": {
      "text/plain": [
       "dshape(\"{asof_date: datetime, sid: int64, value: float64}\")"
      ]
     },
     "execution_count": 13,
     "metadata": {},
     "output_type": "execute_result"
    }
   ],
   "source": [
    "expr.schema"
   ]
  },
  {
   "cell_type": "code",
   "execution_count": 14,
   "metadata": {},
   "outputs": [],
   "source": [
    "# create and empty BlazeLoader\n",
    "my_blaze_loader = BlazeLoader()\n",
    "\n",
    "# create the DataSet\n",
    "ds = from_blaze(\n",
    "    expr,\n",
    "    no_deltas_rule='ignore',\n",
    "    no_checkpoints_rule='ignore',\n",
    "    loader=my_blaze_loader,\n",
    "    missing_values={'index':-1}\n",
    ")"
   ]
  },
  {
   "cell_type": "code",
   "execution_count": 15,
   "metadata": {},
   "outputs": [
    {
     "data": {
      "text/plain": [
       "True"
      ]
     },
     "execution_count": 15,
     "metadata": {},
     "output_type": "execute_result"
    }
   ],
   "source": [
    "issubclass(ds, DataSet)"
   ]
  },
  {
   "cell_type": "code",
   "execution_count": 16,
   "metadata": {},
   "outputs": [
    {
     "data": {
      "text/plain": [
       "<zipline.pipeline.loaders.blaze.core.BlazeLoader at 0x113bd5cc0>"
      ]
     },
     "execution_count": 16,
     "metadata": {},
     "output_type": "execute_result"
    }
   ],
   "source": [
    "my_blaze_loader"
   ]
  },
  {
   "cell_type": "code",
   "execution_count": 17,
   "metadata": {},
   "outputs": [],
   "source": [
    "pipeline_loader = USEquityPricingLoader(\n",
    "    bundle_data.equity_daily_bar_reader,\n",
    "    bundle_data.adjustment_reader,\n",
    ")"
   ]
  },
  {
   "cell_type": "code",
   "execution_count": 18,
   "metadata": {},
   "outputs": [],
   "source": [
    "def choose_loader(column):\n",
    "    if column in USEquityPricing.columns:\n",
    "        return pipeline_loader\n",
    "    else:\n",
    "        return my_blaze_loader"
   ]
  },
  {
   "cell_type": "code",
   "execution_count": 19,
   "metadata": {},
   "outputs": [],
   "source": [
    "engine = SimplePipelineEngine(\n",
    "    get_loader=choose_loader,\n",
    "    calendar=trading_calendar.all_sessions,\n",
    "    asset_finder=bundle_data.asset_finder,\n",
    ")"
   ]
  },
  {
   "cell_type": "code",
   "execution_count": 20,
   "metadata": {},
   "outputs": [],
   "source": [
    "assets = bundle_data.asset_finder.lookup_symbols(['A', 'AAL'], as_of_date=None)"
   ]
  },
  {
   "cell_type": "code",
   "execution_count": 21,
   "metadata": {},
   "outputs": [],
   "source": [
    "p = Pipeline(\n",
    "    columns={\n",
    "        'price': USEquityPricing.close.latest,\n",
    "        'col_A': ds.value.latest,\n",
    "    },\n",
    "    screen=StaticAssets(assets)\n",
    ")"
   ]
  },
  {
   "cell_type": "code",
   "execution_count": 22,
   "metadata": {},
   "outputs": [
    {
     "data": {
      "image/svg+xml": [
       "<svg height=\"206pt\" viewBox=\"0.00 0.00 388.00 206.00\" width=\"388pt\" xmlns=\"http://www.w3.org/2000/svg\" xmlns:xlink=\"http://www.w3.org/1999/xlink\">\n",
       "<g class=\"graph\" id=\"graph0\" transform=\"scale(1 1) rotate(0) translate(4 202)\">\n",
       "<title>G</title>\n",
       "<polygon fill=\"#ffffff\" points=\"-4,4 -4,-202 384,-202 384,4 -4,4\" stroke=\"transparent\"/>\n",
       "<g class=\"cluster\" id=\"clust1\">\n",
       "<title>cluster_Output</title>\n",
       "<polygon fill=\"#ffec8b\" points=\"95,-8 95,-82 339,-82 339,-8 95,-8\" stroke=\"#ffec8b\"/>\n",
       "<text fill=\"#000000\" font-family=\"Times,serif\" font-size=\"14.00\" text-anchor=\"middle\" x=\"217\" y=\"-14.8\">Output</text>\n",
       "</g>\n",
       "<g class=\"cluster\" id=\"clust2\">\n",
       "<title>cluster_Input</title>\n",
       "<polygon fill=\"#ffec8b\" points=\"8,-102 8,-190 372,-190 372,-102 8,-102\" stroke=\"#ffec8b\"/>\n",
       "<text fill=\"#000000\" font-family=\"Times,serif\" font-size=\"14.00\" text-anchor=\"middle\" x=\"190\" y=\"-174.8\">Input</text>\n",
       "</g>\n",
       "<!-- 5004224496 -->\n",
       "<g class=\"node\" id=\"node1\">\n",
       "<title>5004224496</title>\n",
       "<polygon fill=\"#ccebc5\" points=\"331.4426,-74 246.5574,-74 246.5574,-38 331.4426,-38 331.4426,-74\" stroke=\"#000000\"/>\n",
       "<text fill=\"#000000\" font-family=\"Times,serif\" font-size=\"14.00\" text-anchor=\"middle\" x=\"289\" y=\"-51.8\">StaticAssets</text>\n",
       "</g>\n",
       "<!-- 5004224048 -->\n",
       "<g class=\"node\" id=\"node2\">\n",
       "<title>5004224048</title>\n",
       "<polygon fill=\"#b3cde3\" points=\"229,-74 175,-74 175,-38 229,-38 229,-74\" stroke=\"#000000\"/>\n",
       "<text fill=\"#000000\" font-family=\"Times,serif\" font-size=\"14.00\" text-anchor=\"middle\" x=\"202\" y=\"-51.8\">Latest</text>\n",
       "</g>\n",
       "<!-- 5004223264 -->\n",
       "<g class=\"node\" id=\"node3\">\n",
       "<title>5004223264</title>\n",
       "<polygon fill=\"#b3cde3\" points=\"157,-74 103,-74 103,-38 157,-38 157,-74\" stroke=\"#000000\"/>\n",
       "<text fill=\"#000000\" font-family=\"Times,serif\" font-size=\"14.00\" text-anchor=\"middle\" x=\"130\" y=\"-51.8\">Latest</text>\n",
       "</g>\n",
       "<!-- 4623743016 -->\n",
       "<g class=\"node\" id=\"node4\">\n",
       "<title>4623743016</title>\n",
       "<polygon fill=\"#fbb4ae\" points=\"364.0381,-160 195.9619,-160 195.9619,-110 364.0381,-110 364.0381,-160\" stroke=\"#000000\"/>\n",
       "<text fill=\"#000000\" font-family=\"Times,serif\" font-size=\"14.00\" text-anchor=\"start\" x=\"203.981\" y=\"-144.8\">BoundColumn:</text>\n",
       "<text fill=\"#000000\" font-family=\"Times,serif\" font-size=\"14.00\" text-anchor=\"start\" x=\"203.981\" y=\"-130.8\">  Dataset: USEquityPricing</text>\n",
       "<text fill=\"#000000\" font-family=\"Times,serif\" font-size=\"14.00\" text-anchor=\"start\" x=\"203.981\" y=\"-116.8\">  Column: close</text>\n",
       "</g>\n",
       "<!-- 4623743016&#45;&gt;5004224048 -->\n",
       "<g class=\"edge\" id=\"edge1\">\n",
       "<title>4623743016-&gt;5004224048</title>\n",
       "<path d=\"M212.4905,-109.5691C212.4905,-109.5691 212.4905,-84.1242 212.4905,-84.1242\" fill=\"none\" stroke=\"#000000\"/>\n",
       "<polygon fill=\"#000000\" points=\"215.9906,-84.1242 212.4905,-74.1242 208.9906,-84.1242 215.9906,-84.1242\" stroke=\"#000000\"/>\n",
       "</g>\n",
       "<!-- 4626226368 -->\n",
       "<g class=\"node\" id=\"node5\">\n",
       "<title>4626226368</title>\n",
       "<polygon fill=\"#fbb4ae\" points=\"178.0563,-160 15.9437,-160 15.9437,-110 178.0563,-110 178.0563,-160\" stroke=\"#000000\"/>\n",
       "<text fill=\"#000000\" font-family=\"Times,serif\" font-size=\"14.00\" text-anchor=\"start\" x=\"23.7222\" y=\"-144.8\">BoundColumn:</text>\n",
       "<text fill=\"#000000\" font-family=\"Times,serif\" font-size=\"14.00\" text-anchor=\"start\" x=\"23.7222\" y=\"-130.8\">  Dataset: BlazeDataSet_0</text>\n",
       "<text fill=\"#000000\" font-family=\"Times,serif\" font-size=\"14.00\" text-anchor=\"start\" x=\"23.7222\" y=\"-116.8\">  Column: value</text>\n",
       "</g>\n",
       "<!-- 4626226368&#45;&gt;5004223264 -->\n",
       "<g class=\"edge\" id=\"edge2\">\n",
       "<title>4626226368-&gt;5004223264</title>\n",
       "<path d=\"M130,-109.5691C130,-109.5691 130,-84.1242 130,-84.1242\" fill=\"none\" stroke=\"#000000\"/>\n",
       "<polygon fill=\"#000000\" points=\"133.5001,-84.1242 130,-74.1242 126.5001,-84.1242 133.5001,-84.1242\" stroke=\"#000000\"/>\n",
       "</g>\n",
       "</g>\n",
       "</svg>"
      ],
      "text/plain": [
       "<IPython.core.display.SVG object>"
      ]
     },
     "execution_count": 22,
     "metadata": {},
     "output_type": "execute_result"
    }
   ],
   "source": [
    "p.show_graph()"
   ]
  },
  {
   "cell_type": "code",
   "execution_count": 23,
   "metadata": {},
   "outputs": [
    {
     "ename": "TypeError",
     "evalue": "Cannot change data-type for object array.",
     "output_type": "error",
     "traceback": [
      "\u001b[0;31m---------------------------------------------------------------------------\u001b[0m",
      "\u001b[0;31mTypeError\u001b[0m                                 Traceback (most recent call last)",
      "\u001b[0;32m<ipython-input-23-ddd795584d2e>\u001b[0m in \u001b[0;36m<module>\u001b[0;34m\u001b[0m\n\u001b[1;32m      2\u001b[0m     \u001b[0mp\u001b[0m\u001b[0;34m,\u001b[0m\u001b[0;34m\u001b[0m\u001b[0m\n\u001b[1;32m      3\u001b[0m     \u001b[0mpd\u001b[0m\u001b[0;34m.\u001b[0m\u001b[0mTimestamp\u001b[0m\u001b[0;34m(\u001b[0m\u001b[0;34m'2016-01-05'\u001b[0m\u001b[0;34m,\u001b[0m \u001b[0mtz\u001b[0m\u001b[0;34m=\u001b[0m\u001b[0;34m'utc'\u001b[0m\u001b[0;34m)\u001b[0m\u001b[0;34m,\u001b[0m\u001b[0;34m\u001b[0m\u001b[0m\n\u001b[0;32m----> 4\u001b[0;31m     \u001b[0mpd\u001b[0m\u001b[0;34m.\u001b[0m\u001b[0mTimestamp\u001b[0m\u001b[0;34m(\u001b[0m\u001b[0;34m'2018-01-04'\u001b[0m\u001b[0;34m,\u001b[0m \u001b[0mtz\u001b[0m\u001b[0;34m=\u001b[0m\u001b[0;34m'utc'\u001b[0m\u001b[0;34m)\u001b[0m\u001b[0;34m\u001b[0m\u001b[0m\n\u001b[0m\u001b[1;32m      5\u001b[0m )\n",
      "\u001b[0;32m/anaconda3/envs/testenv/lib/python3.5/site-packages/zipline/pipeline/engine.py\u001b[0m in \u001b[0;36mrun_pipeline\u001b[0;34m(self, pipeline, start_date, end_date)\u001b[0m\n\u001b[1;32m    309\u001b[0m             \u001b[0mdates\u001b[0m\u001b[0;34m,\u001b[0m\u001b[0;34m\u001b[0m\u001b[0m\n\u001b[1;32m    310\u001b[0m             \u001b[0massets\u001b[0m\u001b[0;34m,\u001b[0m\u001b[0;34m\u001b[0m\u001b[0m\n\u001b[0;32m--> 311\u001b[0;31m             \u001b[0minitial_workspace\u001b[0m\u001b[0;34m,\u001b[0m\u001b[0;34m\u001b[0m\u001b[0m\n\u001b[0m\u001b[1;32m    312\u001b[0m         )\n\u001b[1;32m    313\u001b[0m \u001b[0;34m\u001b[0m\u001b[0m\n",
      "\u001b[0;32m/anaconda3/envs/testenv/lib/python3.5/site-packages/zipline/pipeline/engine.py\u001b[0m in \u001b[0;36mcompute_chunk\u001b[0;34m(self, graph, dates, assets, initial_workspace)\u001b[0m\n\u001b[1;32m    522\u001b[0m                 \u001b[0mloader\u001b[0m \u001b[0;34m=\u001b[0m \u001b[0mget_loader\u001b[0m\u001b[0;34m(\u001b[0m\u001b[0mterm\u001b[0m\u001b[0;34m)\u001b[0m\u001b[0;34m\u001b[0m\u001b[0m\n\u001b[1;32m    523\u001b[0m                 loaded = loader.load_adjusted_array(\n\u001b[0;32m--> 524\u001b[0;31m                     \u001b[0mto_load\u001b[0m\u001b[0;34m,\u001b[0m \u001b[0mmask_dates\u001b[0m\u001b[0;34m,\u001b[0m \u001b[0massets\u001b[0m\u001b[0;34m,\u001b[0m \u001b[0mmask\u001b[0m\u001b[0;34m,\u001b[0m\u001b[0;34m\u001b[0m\u001b[0m\n\u001b[0m\u001b[1;32m    525\u001b[0m                 )\n\u001b[1;32m    526\u001b[0m                 assert set(loaded) == set(to_load), (\n",
      "\u001b[0;32m/anaconda3/envs/testenv/lib/python3.5/site-packages/zipline/pipeline/loaders/blaze/core.py\u001b[0m in \u001b[0;36mload_adjusted_array\u001b[0;34m(self, columns, dates, assets, mask)\u001b[0m\n\u001b[1;32m    891\u001b[0m             self.pool.imap_unordered(\n\u001b[1;32m    892\u001b[0m                 \u001b[0mpartial\u001b[0m\u001b[0;34m(\u001b[0m\u001b[0mself\u001b[0m\u001b[0;34m.\u001b[0m\u001b[0m_load_dataset\u001b[0m\u001b[0;34m,\u001b[0m \u001b[0mdates\u001b[0m\u001b[0;34m,\u001b[0m \u001b[0massets\u001b[0m\u001b[0;34m,\u001b[0m \u001b[0mmask\u001b[0m\u001b[0;34m)\u001b[0m\u001b[0;34m,\u001b[0m\u001b[0;34m\u001b[0m\u001b[0m\n\u001b[0;32m--> 893\u001b[0;31m                 \u001b[0mitervalues\u001b[0m\u001b[0;34m(\u001b[0m\u001b[0mgroupby\u001b[0m\u001b[0;34m(\u001b[0m\u001b[0mgetitem\u001b[0m\u001b[0;34m(\u001b[0m\u001b[0mself\u001b[0m\u001b[0;34m.\u001b[0m\u001b[0m_table_expressions\u001b[0m\u001b[0;34m)\u001b[0m\u001b[0;34m,\u001b[0m \u001b[0mcolumns\u001b[0m\u001b[0;34m)\u001b[0m\u001b[0;34m)\u001b[0m\u001b[0;34m,\u001b[0m\u001b[0;34m\u001b[0m\u001b[0m\n\u001b[0m\u001b[1;32m    894\u001b[0m             ),\n\u001b[1;32m    895\u001b[0m         )\n",
      "\u001b[0;32m/anaconda3/envs/testenv/lib/python3.5/site-packages/toolz/dicttoolz.py\u001b[0m in \u001b[0;36mmerge\u001b[0;34m(*dicts, **kwargs)\u001b[0m\n\u001b[1;32m     36\u001b[0m \u001b[0;34m\u001b[0m\u001b[0m\n\u001b[1;32m     37\u001b[0m     \u001b[0mrv\u001b[0m \u001b[0;34m=\u001b[0m \u001b[0mfactory\u001b[0m\u001b[0;34m(\u001b[0m\u001b[0;34m)\u001b[0m\u001b[0;34m\u001b[0m\u001b[0m\n\u001b[0;32m---> 38\u001b[0;31m     \u001b[0;32mfor\u001b[0m \u001b[0md\u001b[0m \u001b[0;32min\u001b[0m \u001b[0mdicts\u001b[0m\u001b[0;34m:\u001b[0m\u001b[0;34m\u001b[0m\u001b[0m\n\u001b[0m\u001b[1;32m     39\u001b[0m         \u001b[0mrv\u001b[0m\u001b[0;34m.\u001b[0m\u001b[0mupdate\u001b[0m\u001b[0;34m(\u001b[0m\u001b[0md\u001b[0m\u001b[0;34m)\u001b[0m\u001b[0;34m\u001b[0m\u001b[0m\n\u001b[1;32m     40\u001b[0m     \u001b[0;32mreturn\u001b[0m \u001b[0mrv\u001b[0m\u001b[0;34m\u001b[0m\u001b[0m\n",
      "\u001b[0;32m/anaconda3/envs/testenv/lib/python3.5/site-packages/zipline/pipeline/loaders/blaze/core.py\u001b[0m in \u001b[0;36m_load_dataset\u001b[0;34m(self, dates, assets, mask, columns)\u001b[0m\n\u001b[1;32m    985\u001b[0m                 \u001b[0massets\u001b[0m\u001b[0;34m,\u001b[0m\u001b[0;34m\u001b[0m\u001b[0m\n\u001b[1;32m    986\u001b[0m                 \u001b[0mcolumns\u001b[0m\u001b[0;34m,\u001b[0m\u001b[0;34m\u001b[0m\u001b[0m\n\u001b[0;32m--> 987\u001b[0;31m                 \u001b[0mall_rows\u001b[0m\u001b[0;34m,\u001b[0m\u001b[0;34m\u001b[0m\u001b[0m\n\u001b[0m\u001b[1;32m    988\u001b[0m             )\n\u001b[1;32m    989\u001b[0m         \u001b[0;32melse\u001b[0m\u001b[0;34m:\u001b[0m\u001b[0;34m\u001b[0m\u001b[0m\n",
      "\u001b[0;32m/anaconda3/envs/testenv/lib/python3.5/site-packages/zipline/pipeline/loaders/blaze/_core.pyx\u001b[0m in \u001b[0;36mzipline.pipeline.loaders.blaze._core.adjusted_arrays_from_rows_with_assets\u001b[0;34m()\u001b[0m\n",
      "\u001b[0;32m/anaconda3/envs/testenv/lib/python3.5/site-packages/zipline/pipeline/loaders/blaze/_core.pyx\u001b[0m in \u001b[0;36mzipline.pipeline.loaders.blaze._core.adjusted_arrays_from_rows_with_assets\u001b[0;34m()\u001b[0m\n",
      "\u001b[0;32m/anaconda3/envs/testenv/lib/python3.5/site-packages/zipline/pipeline/loaders/blaze/_core.pyx\u001b[0m in \u001b[0;36mzipline.pipeline.loaders.blaze._core.arrays_from_rows_with_assets\u001b[0;34m()\u001b[0m\n",
      "\u001b[0;32m/anaconda3/envs/testenv/lib/python3.5/site-packages/zipline/pipeline/loaders/blaze/_core.pyx\u001b[0m in \u001b[0;36mzipline.pipeline.loaders.blaze._core.arrays_from_rows\u001b[0;34m()\u001b[0m\n",
      "\u001b[0;32m/anaconda3/envs/testenv/lib/python3.5/site-packages/numpy/core/_internal.py\u001b[0m in \u001b[0;36m_view_is_safe\u001b[0;34m(oldtype, newtype)\u001b[0m\n\u001b[1;32m    365\u001b[0m \u001b[0;34m\u001b[0m\u001b[0m\n\u001b[1;32m    366\u001b[0m     \u001b[0;32mif\u001b[0m \u001b[0mnewtype\u001b[0m\u001b[0;34m.\u001b[0m\u001b[0mhasobject\u001b[0m \u001b[0;32mor\u001b[0m \u001b[0moldtype\u001b[0m\u001b[0;34m.\u001b[0m\u001b[0mhasobject\u001b[0m\u001b[0;34m:\u001b[0m\u001b[0;34m\u001b[0m\u001b[0m\n\u001b[0;32m--> 367\u001b[0;31m         \u001b[0;32mraise\u001b[0m \u001b[0mTypeError\u001b[0m\u001b[0;34m(\u001b[0m\u001b[0;34m\"Cannot change data-type for object array.\"\u001b[0m\u001b[0;34m)\u001b[0m\u001b[0;34m\u001b[0m\u001b[0m\n\u001b[0m\u001b[1;32m    368\u001b[0m     \u001b[0;32mreturn\u001b[0m\u001b[0;34m\u001b[0m\u001b[0m\n\u001b[1;32m    369\u001b[0m \u001b[0;34m\u001b[0m\u001b[0m\n",
      "\u001b[0;31mTypeError\u001b[0m: Cannot change data-type for object array."
     ]
    }
   ],
   "source": [
    "df = engine.run_pipeline(\n",
    "    p,\n",
    "    pd.Timestamp('2016-01-05', tz='utc'),\n",
    "    pd.Timestamp('2018-01-04', tz='utc')\n",
    ")"
   ]
  },
  {
   "cell_type": "code",
   "execution_count": null,
   "metadata": {},
   "outputs": [],
   "source": [
    "df.head()"
   ]
  },
  {
   "cell_type": "code",
   "execution_count": null,
   "metadata": {},
   "outputs": [],
   "source": []
  },
  {
   "cell_type": "code",
   "execution_count": null,
   "metadata": {},
   "outputs": [],
   "source": []
  },
  {
   "cell_type": "code",
   "execution_count": null,
   "metadata": {},
   "outputs": [],
   "source": []
  }
 ],
 "metadata": {
  "kernelspec": {
   "display_name": "Python 3.5 (env_alphatools)",
   "language": "python",
   "name": "env_alphatools"
  },
  "language_info": {
   "codemirror_mode": {
    "name": "ipython",
    "version": 3
   },
   "file_extension": ".py",
   "mimetype": "text/x-python",
   "name": "python",
   "nbconvert_exporter": "python",
   "pygments_lexer": "ipython3",
   "version": "3.5.5"
  }
 },
 "nbformat": 4,
 "nbformat_minor": 2
}
