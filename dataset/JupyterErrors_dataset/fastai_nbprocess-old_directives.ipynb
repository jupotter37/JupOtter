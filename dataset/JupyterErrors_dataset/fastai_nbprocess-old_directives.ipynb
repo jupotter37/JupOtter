{
 "cells": [
  {
   "cell_type": "code",
   "execution_count": 1,
   "id": "23fe7353-8bac-4ac3-a7df-d80ff3186e0f",
   "metadata": {},
   "outputs": [],
   "source": [
    "#|hide\n",
    " #| export"
   ]
  },
  {
   "cell_type": "code",
   "execution_count": 11,
   "id": "82d2db47-24d7-43ba-9a5a-d61af1a06b12",
   "metadata": {},
   "outputs": [],
   "source": [
    "a = 'no directives'"
   ]
  },
  {
   "cell_type": "markdown",
   "id": "183e982d-7f38-417b-b774-ccadd6b76e2e",
   "metadata": {},
   "source": [
    "some md"
   ]
  },
  {
   "cell_type": "code",
   "execution_count": 8,
   "id": "20b94777-1b99-4a0f-bf76-766343470047",
   "metadata": {},
   "outputs": [
    {
     "ename": "AssertionError",
     "evalue": "",
     "output_type": "error",
     "traceback": [
      "\u001b[0;31m---------------------------------------------------------------------------\u001b[0m",
      "\u001b[0;31mAssertionError\u001b[0m                            Traceback (most recent call last)",
      "\u001b[0;32m/var/folders/jj/xl1rktcs6mn7ms6b8vvx8k4r0000gn/T/ipykernel_38804/2756147105.py\u001b[0m in \u001b[0;36m<module>\u001b[0;34m\u001b[0m\n\u001b[1;32m      1\u001b[0m \u001b[0;31m#|eval: false\u001b[0m\u001b[0;34m\u001b[0m\u001b[0;34m\u001b[0m\u001b[0m\n\u001b[0;32m----> 2\u001b[0;31m \u001b[0;32massert\u001b[0m \u001b[0;36m1\u001b[0m \u001b[0;34m==\u001b[0m \u001b[0;36m2\u001b[0m\u001b[0;34m\u001b[0m\u001b[0;34m\u001b[0m\u001b[0m\n\u001b[0m",
      "\u001b[0;31mAssertionError\u001b[0m: "
     ]
    }
   ],
   "source": [
    "#|eval: false\n",
    "assert 1 == 2"
   ]
  },
  {
   "cell_type": "code",
   "execution_count": 12,
   "id": "d4b7b3db-6831-46b7-aa3f-4e6cc0bc0a24",
   "metadata": {},
   "outputs": [
    {
     "ename": "AssertionError",
     "evalue": "",
     "output_type": "error",
     "traceback": [
      "\u001b[0;31m---------------------------------------------------------------------------\u001b[0m",
      "\u001b[0;31mAssertionError\u001b[0m                            Traceback (most recent call last)",
      "\u001b[0;32m/var/folders/jj/xl1rktcs6mn7ms6b8vvx8k4r0000gn/T/ipykernel_38804/441260613.py\u001b[0m in \u001b[0;36m<module>\u001b[0;34m\u001b[0m\n\u001b[1;32m      1\u001b[0m \u001b[0;31m#| notest\u001b[0m\u001b[0;34m\u001b[0m\u001b[0;34m\u001b[0m\u001b[0m\n\u001b[0;32m----> 2\u001b[0;31m \u001b[0;32massert\u001b[0m \u001b[0;36m1\u001b[0m \u001b[0;34m==\u001b[0m \u001b[0;36m2\u001b[0m\u001b[0;34m\u001b[0m\u001b[0;34m\u001b[0m\u001b[0m\n\u001b[0m",
      "\u001b[0;31mAssertionError\u001b[0m: "
     ]
    }
   ],
   "source": [
    "#| notest\n",
    "assert 1 == 2"
   ]
  },
  {
   "cell_type": "markdown",
   "id": "be48928b-20cf-4c18-be86-a6350a80e443",
   "metadata": {},
   "source": [
    "- more md"
   ]
  },
  {
   "cell_type": "code",
   "execution_count": null,
   "id": "c87f288d-b021-4104-b436-1b7aab1a9e42",
   "metadata": {},
   "outputs": [],
   "source": []
  }
 ],
 "metadata": {
  "kernelspec": {
   "display_name": "Python 3 (ipykernel)",
   "language": "python",
   "name": "python3"
  },
  "language_info": {
   "codemirror_mode": {
    "name": "ipython",
    "version": 3
   },
   "file_extension": ".py",
   "mimetype": "text/x-python",
   "name": "python",
   "nbconvert_exporter": "python",
   "pygments_lexer": "ipython3",
   "version": "3.9.7"
  }
 },
 "nbformat": 4,
 "nbformat_minor": 5
}
