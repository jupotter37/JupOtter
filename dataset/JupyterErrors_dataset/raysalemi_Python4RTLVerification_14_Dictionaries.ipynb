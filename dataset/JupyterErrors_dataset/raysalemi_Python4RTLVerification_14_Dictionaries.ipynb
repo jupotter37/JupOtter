{
 "cells": [
  {
   "cell_type": "markdown",
   "metadata": {},
   "source": [
    "# Dictionaries"
   ]
  },
  {
   "cell_type": "code",
   "execution_count": 9,
   "metadata": {},
   "outputs": [
    {
     "name": "stdout",
     "output_type": "stream",
     "text": [
      "Messi's number: 10\n"
     ]
    }
   ],
   "source": [
    "# Figure 1: Matching keys and values\n",
    " \n",
    "players = {}\n",
    "players[\"Messi\"] = 10\n",
    "players[\"Beckham\"] = 7\n",
    "players[\"Salah\"] = 11\n",
    "print(\"Messi's number:\", players[\"Messi\"])"
   ]
  },
  {
   "cell_type": "markdown",
   "metadata": {},
   "source": [
    "## Creating a dictionary\n",
    "### Create and fill an empty dictionary"
   ]
  },
  {
   "cell_type": "code",
   "execution_count": 10,
   "metadata": {},
   "outputs": [
    {
     "name": "stdout",
     "output_type": "stream",
     "text": [
      "example:  {1: 'one', 'two': 2}\n"
     ]
    }
   ],
   "source": [
    "# Figure 2: Creating an empty directory and filling it\n",
    "\n",
    "example = {}\n",
    "example[1] = \"one\"\n",
    "example[\"two\"] = 2\n",
    "print(\"example: \", example)"
   ]
  },
  {
   "cell_type": "markdown",
   "metadata": {},
   "source": [
    "### Create a dictionary using the data that will fill it"
   ]
  },
  {
   "cell_type": "code",
   "execution_count": 11,
   "metadata": {},
   "outputs": [
    {
     "name": "stdout",
     "output_type": "stream",
     "text": [
      "example:  {1: 'one', 'two': 2}\n"
     ]
    }
   ],
   "source": [
    "# Figure 3: Storing keys and values together\n",
    "\n",
    "example = {1:\"one\", \"two\":2}\n",
    "print(\"example: \", example)"
   ]
  },
  {
   "cell_type": "markdown",
   "metadata": {},
   "source": [
    "### Use a dictionary comprehension"
   ]
  },
  {
   "cell_type": "code",
   "execution_count": 12,
   "metadata": {},
   "outputs": [
    {
     "name": "stdout",
     "output_type": "stream",
     "text": [
      "cubes: {0: 0, 1: 1, 2: 8, 3: 27}\n"
     ]
    }
   ],
   "source": [
    "# Figure 4: Filling a dictionary using a for loop\n",
    "\n",
    "cubes = {}\n",
    "for ii in range(4):\n",
    "    cubes[ii] = ii**3\n",
    "print (\"cubes:\", cubes)"
   ]
  },
  {
   "cell_type": "code",
   "execution_count": 13,
   "metadata": {},
   "outputs": [
    {
     "name": "stdout",
     "output_type": "stream",
     "text": [
      "cubes: {0: 0, 1: 1, 2: 8, 3: 27}\n"
     ]
    }
   ],
   "source": [
    "# Figure 5: Using a dictionary comprehension\n",
    "\n",
    "cubes = {ii : ii**3 for ii in range(4)}\n",
    "print(\"cubes:\", cubes)"
   ]
  },
  {
   "cell_type": "markdown",
   "metadata": {},
   "source": [
    "## Handling missing keys"
   ]
  },
  {
   "cell_type": "code",
   "execution_count": 14,
   "metadata": {},
   "outputs": [
    {
     "ename": "KeyError",
     "evalue": "4",
     "output_type": "error",
     "traceback": [
      "\u001b[0;31m---------------------------------------------------------------------------\u001b[0m",
      "\u001b[0;31mKeyError\u001b[0m                                  Traceback (most recent call last)",
      "\u001b[0;32m/var/folders/hr/j_1xqjnd33q_dphptrdck2y00000gn/T/ipykernel_97297/866659820.py\u001b[0m in \u001b[0;36m<module>\u001b[0;34m\u001b[0m\n\u001b[1;32m      2\u001b[0m \u001b[0;34m\u001b[0m\u001b[0m\n\u001b[1;32m      3\u001b[0m \u001b[0mplayers\u001b[0m \u001b[0;34m=\u001b[0m \u001b[0;34m{\u001b[0m\u001b[0;36m7\u001b[0m\u001b[0;34m:\u001b[0m\u001b[0;34m\"Beckham\"\u001b[0m\u001b[0;34m,\u001b[0m \u001b[0;36m10\u001b[0m\u001b[0;34m:\u001b[0m\u001b[0;34m\"Messi\"\u001b[0m\u001b[0;34m,\u001b[0m\u001b[0;36m11\u001b[0m\u001b[0;34m:\u001b[0m\u001b[0;34m\"Salah\"\u001b[0m\u001b[0;34m}\u001b[0m\u001b[0;34m\u001b[0m\u001b[0;34m\u001b[0m\u001b[0m\n\u001b[0;32m----> 4\u001b[0;31m \u001b[0mprint\u001b[0m\u001b[0;34m(\u001b[0m\u001b[0;34m\"Number 4?\"\u001b[0m\u001b[0;34m,\u001b[0m \u001b[0mplayers\u001b[0m\u001b[0;34m[\u001b[0m\u001b[0;36m4\u001b[0m\u001b[0;34m]\u001b[0m\u001b[0;34m)\u001b[0m\u001b[0;34m\u001b[0m\u001b[0;34m\u001b[0m\u001b[0m\n\u001b[0m",
      "\u001b[0;31mKeyError\u001b[0m: 4"
     ]
    }
   ],
   "source": [
    "# Figure 6: Raising KeyError\n",
    "\n",
    "players = {7:\"Beckham\", 10:\"Messi\",11:\"Salah\"}\n",
    "print(\"Number 4?\", players[4])"
   ]
  },
  {
   "cell_type": "code",
   "execution_count": 15,
   "metadata": {},
   "outputs": [
    {
     "name": "stdout",
     "output_type": "stream",
     "text": [
      "Number 4? None\n"
     ]
    }
   ],
   "source": [
    "# Figure 7: Recovering from a KeyError\n",
    " \n",
    "players = {7:\"Beckham\", 10:\"Messi\",11:\"Salah\"}\n",
    "try:\n",
    "    player = players[4]\n",
    "except KeyError:\n",
    "    player = None\n",
    "\n",
    "print(\"Number 4?\", player)"
   ]
  },
  {
   "cell_type": "code",
   "execution_count": 16,
   "metadata": {},
   "outputs": [
    {
     "name": "stdout",
     "output_type": "stream",
     "text": [
      "M 1\n",
      "i 4\n",
      "s 4\n",
      "p 2\n"
     ]
    }
   ],
   "source": [
    "# Figure 8: Counting characters using a dictionary\n",
    "\n",
    "count = {}\n",
    "for cc in \"Mississippi\":\n",
    "    try:\n",
    "        count[cc] += 1\n",
    "    except KeyError:\n",
    "        count[cc] = 1\n",
    "for cc in count:\n",
    "    print(cc, count[cc])"
   ]
  },
  {
   "cell_type": "markdown",
   "metadata": {},
   "source": [
    "### The `get()` method"
   ]
  },
  {
   "cell_type": "code",
   "execution_count": 17,
   "metadata": {},
   "outputs": [
    {
     "name": "stdout",
     "output_type": "stream",
     "text": [
      "Number 4? None\n"
     ]
    }
   ],
   "source": [
    "# Figure 9: Using the get() method to retrieve a value\n",
    "\n",
    "players = {7:\"Beckham\", 10:\"Messi\",11:\"Salah\"}\n",
    "player = players.get(4)\n",
    "print(\"Number 4?\", player)"
   ]
  },
  {
   "cell_type": "code",
   "execution_count": 18,
   "metadata": {},
   "outputs": [
    {
     "name": "stdout",
     "output_type": "stream",
     "text": [
      "Number 4? Not in database\n"
     ]
    }
   ],
   "source": [
    "# Figure 10: Supplying get() with a default\n",
    "\n",
    "players = {7:\"Beckham\", 10:\"Messi\",11:\"Salah\"}\n",
    "player = players.get(4, \"Not in database\")\n",
    "print(\"Number 4?\", player)"
   ]
  },
  {
   "cell_type": "markdown",
   "metadata": {},
   "source": [
    "### The `setdefault()` method"
   ]
  },
  {
   "cell_type": "code",
   "execution_count": 19,
   "metadata": {},
   "outputs": [
    {
     "name": "stdout",
     "output_type": "stream",
     "text": [
      "M 1\n",
      "i 4\n",
      "s 4\n",
      "p 2\n"
     ]
    }
   ],
   "source": [
    "# Figure 11: setdefault() stores the supplied default at the key\n",
    "\n",
    "count = {}\n",
    "for cc in \"Mississippi\":\n",
    "    count[cc] = count.setdefault(cc, 0) + 1\n",
    "\n",
    "# Figure 12: Printing dictionary keys and values\n",
    "\n",
    "for cc in count:\n",
    "    print(cc, count[cc])"
   ]
  },
  {
   "cell_type": "markdown",
   "metadata": {},
   "source": [
    "## Dictionaries and `for` loops"
   ]
  },
  {
   "cell_type": "code",
   "execution_count": 20,
   "metadata": {},
   "outputs": [
    {
     "name": "stdout",
     "output_type": "stream",
     "text": [
      "M i s p "
     ]
    }
   ],
   "source": [
    "\n",
    "count = {}\n",
    "for cc in \"Mississippi\":\n",
    "    count[cc] = count.setdefault(cc, 0) + 1\n",
    "\n",
    "# Figure 13: Iterating over dictionary keys\n",
    "\n",
    "\n",
    "for letter in count.keys():\n",
    "    print(letter, end=\" \")"
   ]
  },
  {
   "cell_type": "code",
   "execution_count": 21,
   "metadata": {},
   "outputs": [
    {
     "name": "stdout",
     "output_type": "stream",
     "text": [
      "1 4 4 2 "
     ]
    }
   ],
   "source": [
    "count = {}\n",
    "for cc in \"Mississippi\":\n",
    "    count[cc] = count.setdefault(cc, 0) + 1\n",
    "    \n",
    "# Figure 14: Iterating over values\n",
    "\n",
    "for number in count.values():\n",
    "    print(number, end=\" \")"
   ]
  },
  {
   "cell_type": "code",
   "execution_count": 22,
   "metadata": {},
   "outputs": [
    {
     "name": "stdout",
     "output_type": "stream",
     "text": [
      "('M', 1) ('i', 4) ('s', 4) ('p', 2) "
     ]
    }
   ],
   "source": [
    "count = {}\n",
    "for cc in \"Mississippi\":\n",
    "    count[cc] = count.setdefault(cc, 0) + 1\n",
    "    \n",
    "# Figure 15: Iterating over key/value tuples\n",
    "\n",
    "for item in count.items():\n",
    "    print(item, end=\" \")"
   ]
  },
  {
   "cell_type": "code",
   "execution_count": 23,
   "metadata": {},
   "outputs": [
    {
     "name": "stdout",
     "output_type": "stream",
     "text": [
      "M 1\n",
      "i 4\n",
      "s 4\n",
      "p 2\n"
     ]
    }
   ],
   "source": [
    "count = {}\n",
    "for cc in \"Mississippi\":\n",
    "    count[cc] = count.setdefault(cc, 0) + 1\n",
    "    \n",
    "# Figure 16: Populating the key and value variables in a for loop\n",
    "\n",
    "for number, item in count.items():\n",
    "    print(number, item)"
   ]
  },
  {
   "cell_type": "markdown",
   "metadata": {},
   "source": [
    "## Removing items from a dictionary"
   ]
  },
  {
   "cell_type": "code",
   "execution_count": 24,
   "metadata": {},
   "outputs": [
    {
     "name": "stdout",
     "output_type": "stream",
     "text": [
      "players: {7: 'Beckham', 10: 'Messi', 11: 'Salah'}\n",
      "players: {}\n"
     ]
    }
   ],
   "source": [
    "# Figure 17: Clearing all data from a dictionary\n",
    "\n",
    "players = {7:\"Beckham\", 10:\"Messi\",11:\"Salah\"}\n",
    "print(\"players:\", players)\n",
    "players.clear()\n",
    "print(\"players:\", players)"
   ]
  },
  {
   "cell_type": "code",
   "execution_count": 25,
   "metadata": {},
   "outputs": [
    {
     "name": "stdout",
     "output_type": "stream",
     "text": [
      "players: {7: 'Beckham', 10: 'Messi', 11: 'Salah'}\n",
      "players: {10: 'Messi', 11: 'Salah'}\n"
     ]
    }
   ],
   "source": [
    "# Figure 18: Using the del statement with a dictionary\n",
    "\n",
    "players = {7:\"Beckham\", 10:\"Messi\",11:\"Salah\"}\n",
    "print(\"players:\", players)\n",
    "del players[7]   # retired\n",
    "print(\"players:\", players)"
   ]
  },
  {
   "cell_type": "code",
   "execution_count": 26,
   "metadata": {},
   "outputs": [
    {
     "name": "stdout",
     "output_type": "stream",
     "text": [
      "players: {7: 'Beckham', 10: 'Messi', 11: 'Salah'}\n",
      "Beckham has retired.\n",
      "players: {10: 'Messi', 11: 'Salah'}\n"
     ]
    }
   ],
   "source": [
    "# Figure 19: Popping data using a key\n",
    "\n",
    "players = {7:\"Beckham\", 10:\"Messi\",11:\"Salah\"}\n",
    "print(\"players:\", players)\n",
    "print(players.pop(7), \"has retired.\")\n",
    "print(\"players:\", players)"
   ]
  }
 ],
 "metadata": {
  "kernelspec": {
   "display_name": "Python 3 (ipykernel)",
   "language": "python",
   "name": "python3"
  },
  "language_info": {
   "codemirror_mode": {
    "name": "ipython",
    "version": 3
   },
   "file_extension": ".py",
   "mimetype": "text/x-python",
   "name": "python",
   "nbconvert_exporter": "python",
   "pygments_lexer": "ipython3",
   "version": "3.8.12"
  }
 },
 "nbformat": 4,
 "nbformat_minor": 4
}
