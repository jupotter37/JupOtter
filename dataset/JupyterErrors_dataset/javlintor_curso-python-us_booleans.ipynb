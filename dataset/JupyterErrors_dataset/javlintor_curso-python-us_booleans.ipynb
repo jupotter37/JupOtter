{
 "cells": [
  {
   "cell_type": "markdown",
   "metadata": {
    "id": "fBDjXAEVw6sA"
   },
   "source": [
    "# Booleanos\n",
    "\n",
    "Existen dos objetos de **tipo booleano** `bool`\n",
    "- `True`\n",
    "- `False`\n",
    "\n",
    "ya hemos visto anteriormente funciones que devuelven valores booleanos como `isinstance` o los operadores `is` o `==`."
   ]
  },
  {
   "cell_type": "code",
   "execution_count": null,
   "metadata": {
    "colab": {
     "base_uri": "https://localhost:8080/"
    },
    "id": "QpOJEADNw6sB",
    "outputId": "225861c8-43f3-4c97-cf78-be3ada6a5f6f"
   },
   "outputs": [
    {
     "data": {
      "text/plain": [
       "bool"
      ]
     },
     "execution_count": 82,
     "metadata": {},
     "output_type": "execute_result"
    }
   ],
   "source": [
    "type(True)"
   ]
  },
  {
   "cell_type": "code",
   "execution_count": null,
   "metadata": {
    "colab": {
     "base_uri": "https://localhost:8080/"
    },
    "id": "-Yt08il5xb0r",
    "outputId": "84756214-3c4a-4f7c-b89e-3a41004e4e1f"
   },
   "outputs": [
    {
     "data": {
      "text/plain": [
       "True"
      ]
     },
     "execution_count": 83,
     "metadata": {},
     "output_type": "execute_result"
    }
   ],
   "source": [
    "isinstance(False, bool)"
   ]
  },
  {
   "cell_type": "markdown",
   "metadata": {
    "id": "Aoni59FuyA-c"
   },
   "source": [
    "---\n",
    "## Operaciones lógicas\n",
    "Python incluye operadores estándar para realizar **operaciones lógicas** básicas \n",
    "\n",
    "| Operador Lógico | Operador Simbólico |\n",
    "|:---------------:|:------------------:|\n",
    "| and             | &                  |\n",
    "| or              | \\|                 |\n",
    "| not             |                    |"
   ]
  },
  {
   "cell_type": "code",
   "execution_count": null,
   "metadata": {
    "colab": {
     "base_uri": "https://localhost:8080/"
    },
    "id": "rAuaCXhu35E8",
    "outputId": "82f2824f-52a9-4a94-e639-285bc91d29b3"
   },
   "outputs": [
    {
     "data": {
      "text/plain": [
       "True"
      ]
     },
     "execution_count": 84,
     "metadata": {},
     "output_type": "execute_result"
    }
   ],
   "source": [
    "True or False"
   ]
  },
  {
   "cell_type": "code",
   "execution_count": null,
   "metadata": {
    "colab": {
     "base_uri": "https://localhost:8080/"
    },
    "id": "MXeOwA0M4XGa",
    "outputId": "f84e8ccb-9c07-4f87-80c0-5c6e154eadfe"
   },
   "outputs": [
    {
     "data": {
      "text/plain": [
       "False"
      ]
     },
     "execution_count": 85,
     "metadata": {},
     "output_type": "execute_result"
    }
   ],
   "source": [
    "True and False"
   ]
  },
  {
   "cell_type": "code",
   "execution_count": null,
   "metadata": {
    "colab": {
     "base_uri": "https://localhost:8080/"
    },
    "id": "rO8UPrjJ4YHh",
    "outputId": "3a7f745c-f988-4497-e928-6c02e506e7bf"
   },
   "outputs": [
    {
     "data": {
      "text/plain": [
       "True"
      ]
     },
     "execution_count": 86,
     "metadata": {},
     "output_type": "execute_result"
    }
   ],
   "source": [
    "not False"
   ]
  },
  {
   "cell_type": "markdown",
   "metadata": {
    "id": "2CkmyxyrSFOm"
   },
   "source": [
    "A la hora de evaluar un operador lógico, Python hace los cálculos necesarios para computar el argumento izquierdo y, en caso de ser necesario, evalúa el argumento derecho. "
   ]
  },
  {
   "cell_type": "markdown",
   "metadata": {
    "id": "Lq6ankXv7O6U"
   },
   "source": [
    "Los **operadores simbólicos** se comportan igual que su correspondiente operador lógico cuando los utilizamos con booleanos. Sin embargo, estos operadores también se emplean para representar [*operaciones a nivel de bits*](https://en.wikipedia.org/wiki/Bitwise_operation). Por ejemplo, el `&` representa el *bitwise-and*"
   ]
  },
  {
   "cell_type": "code",
   "execution_count": null,
   "metadata": {
    "colab": {
     "base_uri": "https://localhost:8080/"
    },
    "id": "bO_on31v8VsJ",
    "outputId": "aadb5fc7-7506-46e4-cfcf-a44a306f4514"
   },
   "outputs": [
    {
     "data": {
      "text/plain": [
       "0"
      ]
     },
     "execution_count": 87,
     "metadata": {},
     "output_type": "execute_result"
    }
   ],
   "source": [
    "2 & 1"
   ]
  },
  {
   "cell_type": "markdown",
   "metadata": {
    "id": "7SkQ5ELE8XFn"
   },
   "source": [
    "es bastante común encontarse con resultados inesperados cuando se utilizan estos operadores, ya que por ejemplo tienen un orden de evaluación distinto. Por ello, siempre que sea posible, intentaremos usar los operadores lógicos, lo que se considera un estilo más *pythónico*. Sin embargo, no se puede definir un comportamiento especial para los operadores lógicos `and` y `or` cuando definamos nuestras clases, de ahí que sea necesario usar los operadores `&` y `|` en paquetes como `numpy` o `pandas`."
   ]
  },
  {
   "cell_type": "markdown",
   "metadata": {
    "id": "i1iPysSBAAd0"
   },
   "source": [
    "El orden de preferencia con los operadores lógicos es el siguiente: `not` > `and` > `or`"
   ]
  },
  {
   "cell_type": "code",
   "execution_count": null,
   "metadata": {
    "colab": {
     "base_uri": "https://localhost:8080/"
    },
    "id": "fHPt1SPrFxjn",
    "outputId": "a6d7ec2a-1732-4b70-9172-67423d07df59"
   },
   "outputs": [
    {
     "data": {
      "text/plain": [
       "True"
      ]
     },
     "execution_count": 88,
     "metadata": {},
     "output_type": "execute_result"
    }
   ],
   "source": [
    "False and True or True"
   ]
  },
  {
   "cell_type": "markdown",
   "metadata": {
    "id": "3piOcO7wH3d8"
   },
   "source": [
    "Para alterar el orden de preferencia en Python podemos utilizar parétesis"
   ]
  },
  {
   "cell_type": "code",
   "execution_count": null,
   "metadata": {
    "colab": {
     "base_uri": "https://localhost:8080/"
    },
    "id": "dLyOHK4VG8cB",
    "outputId": "f6c3bb8c-9a91-487e-a8fb-2ad622c2e2cc"
   },
   "outputs": [
    {
     "data": {
      "text/plain": [
       "False"
      ]
     },
     "execution_count": 89,
     "metadata": {},
     "output_type": "execute_result"
    }
   ],
   "source": [
    "False and (True or True)"
   ]
  },
  {
   "cell_type": "markdown",
   "metadata": {
    "id": "zCXvi8wuH2lk"
   },
   "source": [
    "Los **operadores de comparación** usuales también devuelven booleanos y tienen preferencia frente a los operadores lógicos. No está mal añadir paréntesis redundantes si ayuda a legibilidad de la expresión"
   ]
  },
  {
   "cell_type": "code",
   "execution_count": null,
   "metadata": {
    "colab": {
     "base_uri": "https://localhost:8080/"
    },
    "id": "Wo38Xc4wIEKY",
    "outputId": "9d236b48-9acb-4a79-9887-270735a94513"
   },
   "outputs": [
    {
     "data": {
      "text/plain": [
       "True"
      ]
     },
     "execution_count": 90,
     "metadata": {},
     "output_type": "execute_result"
    }
   ],
   "source": [
    "2 < 3"
   ]
  },
  {
   "cell_type": "code",
   "execution_count": null,
   "metadata": {
    "colab": {
     "base_uri": "https://localhost:8080/"
    },
    "id": "8arns2-HIHdy",
    "outputId": "6b77473f-cc6e-4c7c-81b1-c24634ecc088"
   },
   "outputs": [
    {
     "data": {
      "text/plain": [
       "True"
      ]
     },
     "execution_count": 91,
     "metadata": {},
     "output_type": "execute_result"
    }
   ],
   "source": [
    "10.5 >= 4.7"
   ]
  },
  {
   "cell_type": "code",
   "execution_count": null,
   "metadata": {
    "colab": {
     "base_uri": "https://localhost:8080/"
    },
    "id": "jXv-Wa4VIKes",
    "outputId": "de5a69b7-3c53-4796-ba9b-7278c4b2a695"
   },
   "outputs": [
    {
     "data": {
      "text/plain": [
       "False"
      ]
     },
     "execution_count": 92,
     "metadata": {},
     "output_type": "execute_result"
    }
   ],
   "source": [
    "(2 < 4) and not (4 != -1)"
   ]
  },
  {
   "cell_type": "markdown",
   "metadata": {
    "id": "yvEPOdvWIaZu"
   },
   "source": [
    "---\n",
    "## Los booleanos son enteros\n",
    "\n",
    "En realidad el tipo booleano es un caso particular de entero, o más precisamente es una subclase. "
   ]
  },
  {
   "cell_type": "code",
   "execution_count": null,
   "metadata": {
    "colab": {
     "base_uri": "https://localhost:8080/"
    },
    "id": "OjTAO3TGIzLQ",
    "outputId": "debdac37-bafe-4255-babf-c2f1c360cc31"
   },
   "outputs": [
    {
     "data": {
      "text/plain": [
       "True"
      ]
     },
     "execution_count": 93,
     "metadata": {},
     "output_type": "execute_result"
    }
   ],
   "source": [
    "isinstance(True, int)"
   ]
  },
  {
   "cell_type": "code",
   "execution_count": null,
   "metadata": {
    "colab": {
     "base_uri": "https://localhost:8080/"
    },
    "id": "9v81PmRKJWUT",
    "outputId": "79837d80-93aa-4adc-bac4-f572360b64f5"
   },
   "outputs": [
    {
     "data": {
      "text/plain": [
       "1"
      ]
     },
     "execution_count": 94,
     "metadata": {},
     "output_type": "execute_result"
    }
   ],
   "source": [
    "int(True)"
   ]
  },
  {
   "cell_type": "code",
   "execution_count": null,
   "metadata": {
    "colab": {
     "base_uri": "https://localhost:8080/"
    },
    "id": "ZDasyUNvJXPp",
    "outputId": "40851068-b105-4509-c30b-9762bdbc3420"
   },
   "outputs": [
    {
     "data": {
      "text/plain": [
       "0"
      ]
     },
     "execution_count": 95,
     "metadata": {},
     "output_type": "execute_result"
    }
   ],
   "source": [
    "int(False)"
   ]
  },
  {
   "cell_type": "markdown",
   "metadata": {
    "id": "4ZGRJG7fJZAX"
   },
   "source": [
    "Como tales, podemos usarlos en operaciones matemáticas de forma totalmente intercambiable por los enteros 0 y 1. "
   ]
  },
  {
   "cell_type": "code",
   "execution_count": null,
   "metadata": {
    "colab": {
     "base_uri": "https://localhost:8080/"
    },
    "id": "UgTMxJw7JhxK",
    "outputId": "e66f36fe-032b-44ae-e8b1-e123f2f666a2"
   },
   "outputs": [
    {
     "data": {
      "text/plain": [
       "3"
      ]
     },
     "execution_count": 96,
     "metadata": {},
     "output_type": "execute_result"
    }
   ],
   "source": [
    "3*True - False"
   ]
  },
  {
   "cell_type": "code",
   "execution_count": null,
   "metadata": {
    "colab": {
     "base_uri": "https://localhost:8080/",
     "height": 171
    },
    "id": "XzIe4J2eJjgp",
    "outputId": "92d15838-f9a6-4c4b-b1c6-50588806455a"
   },
   "outputs": [
    {
     "ename": "ZeroDivisionError",
     "evalue": "ignored",
     "output_type": "error",
     "traceback": [
      "\u001b[0;31m---------------------------------------------------------------------------\u001b[0m",
      "\u001b[0;31mZeroDivisionError\u001b[0m                         Traceback (most recent call last)",
      "\u001b[0;32m<ipython-input-97-f8487d9d0863>\u001b[0m in \u001b[0;36m<module>\u001b[0;34m\u001b[0m\n\u001b[0;32m----> 1\u001b[0;31m \u001b[0;32mTrue\u001b[0m \u001b[0;34m/\u001b[0m \u001b[0;32mFalse\u001b[0m\u001b[0;34m\u001b[0m\u001b[0;34m\u001b[0m\u001b[0m\n\u001b[0m",
      "\u001b[0;31mZeroDivisionError\u001b[0m: division by zero"
     ]
    }
   ],
   "source": [
    "True / False"
   ]
  },
  {
   "cell_type": "markdown",
   "metadata": {
    "id": "G1EqCZ3uJlP0"
   },
   "source": [
    ":::{exercise}\n",
    ":label: booleans-expression\n",
    "\n",
    "- Suponiendo que `x` es de tipo `int`, escribe una expresión que devuelva `True` si el resto de dividir `x` entre 7 es par o `False` en caso contrario. \n",
    "\n",
    "- Escribe una expresión que evalúe si una variable `x` es booleana o un flotante. \n",
    "\n",
    ":::"
   ]
  },
  {
   "cell_type": "markdown",
   "metadata": {
    "id": "NYXyqgehKa0M"
   },
   "source": [
    ":::{exercise}\n",
    ":label: booleans-expression-2\n",
    "\n",
    "Dado `a = 10`, considera la siguiente expresión \n",
    "\n",
    "```\n",
    ">>> a <= 10 & 1 < a\n",
    "False\n",
    "```\n",
    "\n",
    "¿Por qué no devuelve `True`? ¿Cómo podemos arreglarlo?\n",
    ":::"
   ]
  },
  {
   "cell_type": "markdown",
   "metadata": {
    "id": "9jfOC1nnNxxr"
   },
   "source": [
    "---\n",
    "## El tipo `None`\n",
    "\n",
    "Existe otro tipo que suele ser utilizado junto con booleanos, el `NoneType`. Este tipo tiene solo un objeto, `None`, que se suele utilizar para representar que un dato es vacío o desconocido. "
   ]
  },
  {
   "cell_type": "code",
   "execution_count": 1,
   "metadata": {
    "colab": {
     "base_uri": "https://localhost:8080/"
    },
    "id": "D-AntHf5OLM6",
    "outputId": "5baf9c64-1cc9-4955-d132-76302eb02c62"
   },
   "outputs": [
    {
     "data": {
      "text/plain": [
       "NoneType"
      ]
     },
     "execution_count": 1,
     "metadata": {},
     "output_type": "execute_result"
    }
   ],
   "source": [
    "type(None)"
   ]
  },
  {
   "cell_type": "markdown",
   "metadata": {
    "id": "VZb9k839OYkf"
   },
   "source": [
    "Dado que `NoneType` contiene solo un tipo, lo que se suele hacer para comprobar si un objeto pertenece a esta clase es verificar si dicho objeto es `None`. Recordemos que el operador para ver si dos objetos son *idénticos* es `is`, mientras que usamos `==` para comparar valores o estados. "
   ]
  },
  {
   "cell_type": "code",
   "execution_count": 2,
   "metadata": {
    "colab": {
     "base_uri": "https://localhost:8080/"
    },
    "id": "tWyQeTVGOMAx",
    "outputId": "6a10f7bc-0266-4ac9-9148-aed97377ba8f"
   },
   "outputs": [
    {
     "data": {
      "text/plain": [
       "False"
      ]
     },
     "execution_count": 2,
     "metadata": {},
     "output_type": "execute_result"
    }
   ],
   "source": [
    "x = 22\n",
    "x is None"
   ]
  },
  {
   "cell_type": "code",
   "execution_count": 3,
   "metadata": {
    "colab": {
     "base_uri": "https://localhost:8080/"
    },
    "id": "7GstKgRLO0Lc",
    "outputId": "b588af63-3186-4b82-8e04-7cacdd50ab0b"
   },
   "outputs": [
    {
     "data": {
      "text/plain": [
       "True"
      ]
     },
     "execution_count": 3,
     "metadata": {},
     "output_type": "execute_result"
    }
   ],
   "source": [
    "x is not None"
   ]
  },
  {
   "cell_type": "markdown",
   "metadata": {
    "id": "somB-p-MQYZz"
   },
   "source": [
    "Por ahora es suficiente que sepamos que existe, ya veremos cómo utilizarlo cuando hablemos de **flujos de control**."
   ]
  }
 ],
 "metadata": {
  "colab": {
   "provenance": []
  },
  "kernelspec": {
   "display_name": "Python 3.9.1 64-bit",
   "language": "python",
   "name": "python3"
  },
  "language_info": {
   "name": "python",
   "version": "3.9.1"
  },
  "vscode": {
   "interpreter": {
    "hash": "397704579725e15f5c7cb49fe5f0341eb7531c82d19f2c29d197e8b64ab5776b"
   }
  }
 },
 "nbformat": 4,
 "nbformat_minor": 0
}