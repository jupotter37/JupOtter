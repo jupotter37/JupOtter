{
 "cells": [
  {
   "cell_type": "markdown",
   "metadata": {},
   "source": [
    "# Imports"
   ]
  },
  {
   "cell_type": "code",
   "execution_count": 1,
   "metadata": {},
   "outputs": [],
   "source": [
    "# Import standard libraries\n",
    "import csv\n",
    "import OmicsIntegrator as oi\n",
    "import pandas as pd\n",
    "import numpy as np\n",
    "import scipy.stats as ss\n",
    "import networkx as nx\n",
    "import matplotlib.pyplot as plt\n",
    "from matplotlib_venn import venn2, venn3\n",
    "import pickle\n",
    "import tqdm\n",
    "import time\n",
    "\n",
    "# Import custom libraries\n",
    "import drugs2\n",
    "import prizes\n",
    "import sensitivity_analysis as sensitivity\n",
    "import sensitivity_sarspartners as svp\n",
    "import neighborhoods as nbh"
   ]
  },
  {
   "cell_type": "markdown",
   "metadata": {},
   "source": [
    "# Create prized list"
   ]
  },
  {
   "cell_type": "markdown",
   "metadata": {},
   "source": [
    "## Selected aging genes"
   ]
  },
  {
   "cell_type": "code",
   "execution_count": 2,
   "metadata": {},
   "outputs": [
    {
     "data": {
      "text/html": [
       "<div>\n",
       "<style scoped>\n",
       "    .dataframe tbody tr th:only-of-type {\n",
       "        vertical-align: middle;\n",
       "    }\n",
       "\n",
       "    .dataframe tbody tr th {\n",
       "        vertical-align: top;\n",
       "    }\n",
       "\n",
       "    .dataframe thead th {\n",
       "        text-align: right;\n",
       "    }\n",
       "</style>\n",
       "<table border=\"1\" class=\"dataframe\">\n",
       "  <thead>\n",
       "    <tr style=\"text-align: right;\">\n",
       "      <th></th>\n",
       "      <th>name</th>\n",
       "      <th>mean_treatment</th>\n",
       "      <th>mean_control</th>\n",
       "      <th>log2FC</th>\n",
       "      <th>abslog2FC</th>\n",
       "    </tr>\n",
       "  </thead>\n",
       "  <tbody>\n",
       "    <tr>\n",
       "      <th>1639</th>\n",
       "      <td>ROS1</td>\n",
       "      <td>3.483151</td>\n",
       "      <td>13.566431</td>\n",
       "      <td>-1.700063</td>\n",
       "      <td>1.700063</td>\n",
       "    </tr>\n",
       "    <tr>\n",
       "      <th>2385</th>\n",
       "      <td>F8</td>\n",
       "      <td>8.505311</td>\n",
       "      <td>2.139793</td>\n",
       "      <td>1.598064</td>\n",
       "      <td>1.598064</td>\n",
       "    </tr>\n",
       "    <tr>\n",
       "      <th>4922</th>\n",
       "      <td>NTRK2</td>\n",
       "      <td>2.866247</td>\n",
       "      <td>0.303249</td>\n",
       "      <td>1.568821</td>\n",
       "      <td>1.568821</td>\n",
       "    </tr>\n",
       "    <tr>\n",
       "      <th>11846</th>\n",
       "      <td>HBQ1</td>\n",
       "      <td>2.723305</td>\n",
       "      <td>0.322290</td>\n",
       "      <td>1.493545</td>\n",
       "      <td>1.493545</td>\n",
       "    </tr>\n",
       "    <tr>\n",
       "      <th>5321</th>\n",
       "      <td>FRZB</td>\n",
       "      <td>9.709402</td>\n",
       "      <td>2.959846</td>\n",
       "      <td>1.435362</td>\n",
       "      <td>1.435362</td>\n",
       "    </tr>\n",
       "  </tbody>\n",
       "</table>\n",
       "</div>"
      ],
      "text/plain": [
       "        name  mean_treatment  mean_control    log2FC  abslog2FC\n",
       "1639    ROS1        3.483151     13.566431 -1.700063   1.700063\n",
       "2385      F8        8.505311      2.139793  1.598064   1.598064\n",
       "4922   NTRK2        2.866247      0.303249  1.568821   1.568821\n",
       "11846   HBQ1        2.723305      0.322290  1.493545   1.493545\n",
       "5321    FRZB        9.709402      2.959846  1.435362   1.435362"
      ]
     },
     "execution_count": 2,
     "metadata": {},
     "output_type": "execute_result"
    }
   ],
   "source": [
    "aging_rnaseq_data_file_name = '../Data/GTEX_log2_RPKMquantile.csv'\n",
    "metadata_file_name = '../Data/metadata.csv.gz'\n",
    "protein_coding_genes_file_name = '../Data/protein_coding_ensembl_gene_id_hgnc_hg19.txt'\n",
    "gtex_rpkm_selected_df = prizes.load_selected_aging_rnaseq_data(aging_rnaseq_data_file_name,\n",
    "                                                               metadata_file_name,\n",
    "                                                               protein_coding_genes_file_name)\n",
    "gtex_rpkm_selected_df.head()"
   ]
  },
  {
   "cell_type": "markdown",
   "metadata": {},
   "source": [
    "## Selected Blanco et al. genes"
   ]
  },
  {
   "cell_type": "code",
   "execution_count": 3,
   "metadata": {},
   "outputs": [],
   "source": [
    "# First load and process data from Blanco et al.\n",
    "blanco_data_file_name = '../Data/GSE147507_log2_RPKMquantile.csv'\n",
    "blanco1_rpkm, blanco2_rpkm, blanco3_rpkm = prizes.load_and_process_blanco_data(blanco_data_file_name, \n",
    "                                                                               protein_coding_genes_file_name)\n",
    "all_blanco_gene_names = blanco1_rpkm['name']"
   ]
  },
  {
   "cell_type": "code",
   "execution_count": 4,
   "metadata": {},
   "outputs": [
    {
     "data": {
      "text/html": [
       "<div>\n",
       "<style scoped>\n",
       "    .dataframe tbody tr th:only-of-type {\n",
       "        vertical-align: middle;\n",
       "    }\n",
       "\n",
       "    .dataframe tbody tr th {\n",
       "        vertical-align: top;\n",
       "    }\n",
       "\n",
       "    .dataframe thead th {\n",
       "        text-align: right;\n",
       "    }\n",
       "</style>\n",
       "<table border=\"1\" class=\"dataframe\">\n",
       "  <thead>\n",
       "    <tr style=\"text-align: right;\">\n",
       "      <th></th>\n",
       "      <th>name</th>\n",
       "      <th>Series16_A549.ACE2_Mock_1</th>\n",
       "      <th>Series16_A549.ACE2_Mock_2</th>\n",
       "      <th>Series16_A549.ACE2_Mock_3</th>\n",
       "      <th>Series16_A549.ACE2_SARS.CoV.2_1</th>\n",
       "      <th>Series16_A549.ACE2_SARS.CoV.2_2</th>\n",
       "      <th>Series16_A549.ACE2_SARS.CoV.2_3</th>\n",
       "      <th>mean_treatment</th>\n",
       "      <th>mean_control</th>\n",
       "      <th>log2FC</th>\n",
       "      <th>abslog2FC</th>\n",
       "    </tr>\n",
       "  </thead>\n",
       "  <tbody>\n",
       "    <tr>\n",
       "      <th>16</th>\n",
       "      <td>MRPL20</td>\n",
       "      <td>23.476467</td>\n",
       "      <td>21.996085</td>\n",
       "      <td>22.725973</td>\n",
       "      <td>10.491229</td>\n",
       "      <td>10.301154</td>\n",
       "      <td>9.132030</td>\n",
       "      <td>9.974804</td>\n",
       "      <td>22.732841</td>\n",
       "      <td>-1.112690</td>\n",
       "      <td>1.112690</td>\n",
       "    </tr>\n",
       "    <tr>\n",
       "      <th>31</th>\n",
       "      <td>FAM213B</td>\n",
       "      <td>5.360438</td>\n",
       "      <td>3.903674</td>\n",
       "      <td>3.700970</td>\n",
       "      <td>1.084121</td>\n",
       "      <td>0.474477</td>\n",
       "      <td>1.628909</td>\n",
       "      <td>1.062502</td>\n",
       "      <td>4.321694</td>\n",
       "      <td>-1.367490</td>\n",
       "      <td>1.367490</td>\n",
       "    </tr>\n",
       "    <tr>\n",
       "      <th>34</th>\n",
       "      <td>TPRG1L</td>\n",
       "      <td>20.528304</td>\n",
       "      <td>19.654982</td>\n",
       "      <td>21.892141</td>\n",
       "      <td>8.881052</td>\n",
       "      <td>8.683763</td>\n",
       "      <td>7.923967</td>\n",
       "      <td>8.496260</td>\n",
       "      <td>20.691809</td>\n",
       "      <td>-1.191719</td>\n",
       "      <td>1.191719</td>\n",
       "    </tr>\n",
       "    <tr>\n",
       "      <th>41</th>\n",
       "      <td>KCNAB2</td>\n",
       "      <td>3.732427</td>\n",
       "      <td>2.494125</td>\n",
       "      <td>2.801351</td>\n",
       "      <td>0.308315</td>\n",
       "      <td>0.553297</td>\n",
       "      <td>0.147803</td>\n",
       "      <td>0.336471</td>\n",
       "      <td>3.009301</td>\n",
       "      <td>-1.584922</td>\n",
       "      <td>1.584922</td>\n",
       "    </tr>\n",
       "    <tr>\n",
       "      <th>44</th>\n",
       "      <td>ICMT</td>\n",
       "      <td>21.144779</td>\n",
       "      <td>22.122032</td>\n",
       "      <td>20.299840</td>\n",
       "      <td>8.961928</td>\n",
       "      <td>6.999973</td>\n",
       "      <td>9.068861</td>\n",
       "      <td>8.343587</td>\n",
       "      <td>21.188884</td>\n",
       "      <td>-1.247789</td>\n",
       "      <td>1.247789</td>\n",
       "    </tr>\n",
       "  </tbody>\n",
       "</table>\n",
       "</div>"
      ],
      "text/plain": [
       "       name  Series16_A549.ACE2_Mock_1  Series16_A549.ACE2_Mock_2  \\\n",
       "16   MRPL20                  23.476467                  21.996085   \n",
       "31  FAM213B                   5.360438                   3.903674   \n",
       "34   TPRG1L                  20.528304                  19.654982   \n",
       "41   KCNAB2                   3.732427                   2.494125   \n",
       "44     ICMT                  21.144779                  22.122032   \n",
       "\n",
       "    Series16_A549.ACE2_Mock_3  Series16_A549.ACE2_SARS.CoV.2_1  \\\n",
       "16                  22.725973                        10.491229   \n",
       "31                   3.700970                         1.084121   \n",
       "34                  21.892141                         8.881052   \n",
       "41                   2.801351                         0.308315   \n",
       "44                  20.299840                         8.961928   \n",
       "\n",
       "    Series16_A549.ACE2_SARS.CoV.2_2  Series16_A549.ACE2_SARS.CoV.2_3  \\\n",
       "16                        10.301154                         9.132030   \n",
       "31                         0.474477                         1.628909   \n",
       "34                         8.683763                         7.923967   \n",
       "41                         0.553297                         0.147803   \n",
       "44                         6.999973                         9.068861   \n",
       "\n",
       "    mean_treatment  mean_control    log2FC  abslog2FC  \n",
       "16        9.974804     22.732841 -1.112690   1.112690  \n",
       "31        1.062502      4.321694 -1.367490   1.367490  \n",
       "34        8.496260     20.691809 -1.191719   1.191719  \n",
       "41        0.336471      3.009301 -1.584922   1.584922  \n",
       "44        8.343587     21.188884 -1.247789   1.247789  "
      ]
     },
     "execution_count": 4,
     "metadata": {},
     "output_type": "execute_result"
    }
   ],
   "source": [
    "# Then compute selected genes from Blanco et al.\n",
    "blanco_rpkm_selected_true = prizes.load_selected_blanco_genes( blanco1_rpkm,\n",
    "                                                               blanco2_rpkm,\n",
    "                                                               blanco3_rpkm,\n",
    "                                                               protein_coding_genes_file_name,\n",
    "                                                               plot_venn_diagrams=False)\n",
    "blanco_rpkm_selected_true.head()"
   ]
  },
  {
   "cell_type": "code",
   "execution_count": 5,
   "metadata": {},
   "outputs": [
    {
     "data": {
      "text/html": [
       "<div>\n",
       "<style scoped>\n",
       "    .dataframe tbody tr th:only-of-type {\n",
       "        vertical-align: middle;\n",
       "    }\n",
       "\n",
       "    .dataframe tbody tr th {\n",
       "        vertical-align: top;\n",
       "    }\n",
       "\n",
       "    .dataframe thead th {\n",
       "        text-align: right;\n",
       "    }\n",
       "</style>\n",
       "<table border=\"1\" class=\"dataframe\">\n",
       "  <thead>\n",
       "    <tr style=\"text-align: right;\">\n",
       "      <th></th>\n",
       "      <th>name</th>\n",
       "      <th>Series16_A549.ACE2_Mock_1</th>\n",
       "      <th>Series16_A549.ACE2_Mock_2</th>\n",
       "      <th>Series16_A549.ACE2_Mock_3</th>\n",
       "      <th>Series16_A549.ACE2_SARS.CoV.2_1</th>\n",
       "      <th>Series16_A549.ACE2_SARS.CoV.2_2</th>\n",
       "      <th>Series16_A549.ACE2_SARS.CoV.2_3</th>\n",
       "      <th>mean_treatment</th>\n",
       "      <th>mean_control</th>\n",
       "      <th>log2FC</th>\n",
       "      <th>abslog2FC</th>\n",
       "    </tr>\n",
       "  </thead>\n",
       "  <tbody>\n",
       "    <tr>\n",
       "      <th>16</th>\n",
       "      <td>GSKIP</td>\n",
       "      <td>23.476467</td>\n",
       "      <td>21.996085</td>\n",
       "      <td>22.725973</td>\n",
       "      <td>10.491229</td>\n",
       "      <td>10.301154</td>\n",
       "      <td>9.132030</td>\n",
       "      <td>9.974804</td>\n",
       "      <td>22.732841</td>\n",
       "      <td>-1.112690</td>\n",
       "      <td>1.112690</td>\n",
       "    </tr>\n",
       "    <tr>\n",
       "      <th>31</th>\n",
       "      <td>LAT2</td>\n",
       "      <td>5.360438</td>\n",
       "      <td>3.903674</td>\n",
       "      <td>3.700970</td>\n",
       "      <td>1.084121</td>\n",
       "      <td>0.474477</td>\n",
       "      <td>1.628909</td>\n",
       "      <td>1.062502</td>\n",
       "      <td>4.321694</td>\n",
       "      <td>-1.367490</td>\n",
       "      <td>1.367490</td>\n",
       "    </tr>\n",
       "    <tr>\n",
       "      <th>34</th>\n",
       "      <td>CAPN5</td>\n",
       "      <td>20.528304</td>\n",
       "      <td>19.654982</td>\n",
       "      <td>21.892141</td>\n",
       "      <td>8.881052</td>\n",
       "      <td>8.683763</td>\n",
       "      <td>7.923967</td>\n",
       "      <td>8.496260</td>\n",
       "      <td>20.691809</td>\n",
       "      <td>-1.191719</td>\n",
       "      <td>1.191719</td>\n",
       "    </tr>\n",
       "    <tr>\n",
       "      <th>41</th>\n",
       "      <td>CFP</td>\n",
       "      <td>3.732427</td>\n",
       "      <td>2.494125</td>\n",
       "      <td>2.801351</td>\n",
       "      <td>0.308315</td>\n",
       "      <td>0.553297</td>\n",
       "      <td>0.147803</td>\n",
       "      <td>0.336471</td>\n",
       "      <td>3.009301</td>\n",
       "      <td>-1.584922</td>\n",
       "      <td>1.584922</td>\n",
       "    </tr>\n",
       "    <tr>\n",
       "      <th>44</th>\n",
       "      <td>MAGOH</td>\n",
       "      <td>21.144779</td>\n",
       "      <td>22.122032</td>\n",
       "      <td>20.299840</td>\n",
       "      <td>8.961928</td>\n",
       "      <td>6.999973</td>\n",
       "      <td>9.068861</td>\n",
       "      <td>8.343587</td>\n",
       "      <td>21.188884</td>\n",
       "      <td>-1.247789</td>\n",
       "      <td>1.247789</td>\n",
       "    </tr>\n",
       "  </tbody>\n",
       "</table>\n",
       "</div>"
      ],
      "text/plain": [
       "     name  Series16_A549.ACE2_Mock_1  Series16_A549.ACE2_Mock_2  \\\n",
       "16  GSKIP                  23.476467                  21.996085   \n",
       "31   LAT2                   5.360438                   3.903674   \n",
       "34  CAPN5                  20.528304                  19.654982   \n",
       "41    CFP                   3.732427                   2.494125   \n",
       "44  MAGOH                  21.144779                  22.122032   \n",
       "\n",
       "    Series16_A549.ACE2_Mock_3  Series16_A549.ACE2_SARS.CoV.2_1  \\\n",
       "16                  22.725973                        10.491229   \n",
       "31                   3.700970                         1.084121   \n",
       "34                  21.892141                         8.881052   \n",
       "41                   2.801351                         0.308315   \n",
       "44                  20.299840                         8.961928   \n",
       "\n",
       "    Series16_A549.ACE2_SARS.CoV.2_2  Series16_A549.ACE2_SARS.CoV.2_3  \\\n",
       "16                        10.301154                         9.132030   \n",
       "31                         0.474477                         1.628909   \n",
       "34                         8.683763                         7.923967   \n",
       "41                         0.553297                         0.147803   \n",
       "44                         6.999973                         9.068861   \n",
       "\n",
       "    mean_treatment  mean_control    log2FC  abslog2FC  \n",
       "16        9.974804     22.732841 -1.112690   1.112690  \n",
       "31        1.062502      4.321694 -1.367490   1.367490  \n",
       "34        8.496260     20.691809 -1.191719   1.191719  \n",
       "41        0.336471      3.009301 -1.584922   1.584922  \n",
       "44        8.343587     21.188884 -1.247789   1.247789  "
      ]
     },
     "execution_count": 5,
     "metadata": {},
     "output_type": "execute_result"
    }
   ],
   "source": [
    "# Randomly change the gene names of selected Blanco genes\n",
    "blanco_rpkm_selected = blanco_rpkm_selected_true.copy()\n",
    "np.random.seed(13)\n",
    "blanco_rpkm_selected['name'] = np.random.choice(all_blanco_gene_names, size=len(blanco_rpkm_selected['name']), replace=False)\n",
    "blanco_rpkm_selected.head()"
   ]
  },
  {
   "cell_type": "markdown",
   "metadata": {},
   "source": [
    "## Create final prized list"
   ]
  },
  {
   "cell_type": "code",
   "execution_count": 6,
   "metadata": {},
   "outputs": [],
   "source": [
    "# Load L1000 gene list\n",
    "lincs_genes_file_name = '../Data/GSE92742_Broad_LINCS_gene_info.txt'\n",
    "l1000_genes = prizes.load_lincs_genes(lincs_genes_file_name)\n",
    "\n",
    "# Load proteins in ppi list\n",
    "ppi_data_file_name = '../Data/iRefIndex_v14_MIScore_interactome_C9.costs.allcaps.txt'\n",
    "proteins_in_ppi = prizes.load_iref_genes(ppi_data_file_name)"
   ]
  },
  {
   "cell_type": "code",
   "execution_count": 7,
   "metadata": {},
   "outputs": [
    {
     "name": "stdout",
     "output_type": "stream",
     "text": [
      "140\n"
     ]
    },
    {
     "data": {
      "text/html": [
       "<div>\n",
       "<style scoped>\n",
       "    .dataframe tbody tr th:only-of-type {\n",
       "        vertical-align: middle;\n",
       "    }\n",
       "\n",
       "    .dataframe tbody tr th {\n",
       "        vertical-align: top;\n",
       "    }\n",
       "\n",
       "    .dataframe thead th {\n",
       "        text-align: right;\n",
       "    }\n",
       "</style>\n",
       "<table border=\"1\" class=\"dataframe\">\n",
       "  <thead>\n",
       "    <tr style=\"text-align: right;\">\n",
       "      <th></th>\n",
       "      <th>name</th>\n",
       "      <th>prize</th>\n",
       "      <th>log2FC_blanco</th>\n",
       "      <th>log2FC_ageing</th>\n",
       "    </tr>\n",
       "  </thead>\n",
       "  <tbody>\n",
       "    <tr>\n",
       "      <th>1</th>\n",
       "      <td>AIMP2</td>\n",
       "      <td>1.391304</td>\n",
       "      <td>-1.391304</td>\n",
       "      <td>-0.579292</td>\n",
       "    </tr>\n",
       "    <tr>\n",
       "      <th>3</th>\n",
       "      <td>AKT3</td>\n",
       "      <td>0.707902</td>\n",
       "      <td>0.707902</td>\n",
       "      <td>0.630358</td>\n",
       "    </tr>\n",
       "    <tr>\n",
       "      <th>4</th>\n",
       "      <td>ALDH3B1</td>\n",
       "      <td>1.425633</td>\n",
       "      <td>-1.425633</td>\n",
       "      <td>-0.509448</td>\n",
       "    </tr>\n",
       "    <tr>\n",
       "      <th>5</th>\n",
       "      <td>ALDH5A1</td>\n",
       "      <td>0.832817</td>\n",
       "      <td>-0.832817</td>\n",
       "      <td>-0.481125</td>\n",
       "    </tr>\n",
       "    <tr>\n",
       "      <th>8</th>\n",
       "      <td>ARHGEF16</td>\n",
       "      <td>0.389237</td>\n",
       "      <td>-0.389237</td>\n",
       "      <td>-0.381126</td>\n",
       "    </tr>\n",
       "    <tr>\n",
       "      <th>9</th>\n",
       "      <td>ARHGEF25</td>\n",
       "      <td>0.583416</td>\n",
       "      <td>0.583416</td>\n",
       "      <td>0.631933</td>\n",
       "    </tr>\n",
       "    <tr>\n",
       "      <th>10</th>\n",
       "      <td>ARRB1</td>\n",
       "      <td>0.419571</td>\n",
       "      <td>-0.419571</td>\n",
       "      <td>-0.444246</td>\n",
       "    </tr>\n",
       "    <tr>\n",
       "      <th>11</th>\n",
       "      <td>ARRDC4</td>\n",
       "      <td>0.452238</td>\n",
       "      <td>0.452238</td>\n",
       "      <td>0.818451</td>\n",
       "    </tr>\n",
       "    <tr>\n",
       "      <th>14</th>\n",
       "      <td>AURKB</td>\n",
       "      <td>0.579210</td>\n",
       "      <td>-0.579210</td>\n",
       "      <td>-0.931754</td>\n",
       "    </tr>\n",
       "    <tr>\n",
       "      <th>15</th>\n",
       "      <td>BACH1</td>\n",
       "      <td>0.215393</td>\n",
       "      <td>0.215393</td>\n",
       "      <td>0.421954</td>\n",
       "    </tr>\n",
       "  </tbody>\n",
       "</table>\n",
       "</div>"
      ],
      "text/plain": [
       "        name     prize  log2FC_blanco  log2FC_ageing\n",
       "1      AIMP2  1.391304      -1.391304      -0.579292\n",
       "3       AKT3  0.707902       0.707902       0.630358\n",
       "4    ALDH3B1  1.425633      -1.425633      -0.509448\n",
       "5    ALDH5A1  0.832817      -0.832817      -0.481125\n",
       "8   ARHGEF16  0.389237      -0.389237      -0.381126\n",
       "9   ARHGEF25  0.583416       0.583416       0.631933\n",
       "10     ARRB1  0.419571      -0.419571      -0.444246\n",
       "11    ARRDC4  0.452238       0.452238       0.818451\n",
       "14     AURKB  0.579210      -0.579210      -0.931754\n",
       "15     BACH1  0.215393       0.215393       0.421954"
      ]
     },
     "execution_count": 7,
     "metadata": {},
     "output_type": "execute_result"
    }
   ],
   "source": [
    "terminal_df = prizes.create_prized_genes_list(blanco2_rpkm,\n",
    "                                     blanco_rpkm_selected,\n",
    "                                     gtex_rpkm_selected_df,\n",
    "                                     l1000_genes,\n",
    "                                     proteins_in_ppi,\n",
    "                                     plot_venn_diagrams=False)\n",
    "print(len(terminal_df))\n",
    "terminal_df.head(10)"
   ]
  },
  {
   "cell_type": "code",
   "execution_count": 8,
   "metadata": {},
   "outputs": [],
   "source": [
    "# Save terminal df to tsv\n",
    "terminal_df.to_csv(r'../Save_RandomizeGeneLabels/terminals_ppi_analysis.tsv', header=True, index=None, sep='\\t', quoting = csv.QUOTE_NONE, escapechar = '\\t')"
   ]
  },
  {
   "cell_type": "markdown",
   "metadata": {},
   "source": [
    "# Prepare the sentivity analysis for Stein tree parameters"
   ]
  },
  {
   "cell_type": "markdown",
   "metadata": {},
   "source": [
    "## W range"
   ]
  },
  {
   "cell_type": "code",
   "execution_count": 9,
   "metadata": {},
   "outputs": [],
   "source": [
    "# Load prizes data\n",
    "prizes_data = terminal_df\n",
    "terminals = list(prizes_data['name'])\n",
    "n_terminals = len(terminals)"
   ]
  },
  {
   "cell_type": "code",
   "execution_count": 10,
   "metadata": {},
   "outputs": [],
   "source": [
    "# Load IREF interactome\n",
    "interactome_file = \"../Data/iRefIndex_v14_MIScore_interactome_C9.costs.allcaps.txt\"\n",
    "graph = oi.Graph(interactome_file)"
   ]
  },
  {
   "cell_type": "code",
   "execution_count": null,
   "metadata": {},
   "outputs": [
    {
     "name": "stderr",
     "output_type": "stream",
     "text": [
      " 19%|█▊        | 30/162 [12:04<48:37, 22.10s/it]  "
     ]
    }
   ],
   "source": [
    "# Distribution of cheapest path between any two terminals without penalty (g=-\\infty)\n",
    "network = graph.interactome_graph\n",
    "shortest_dist_mat = np.zeros(shape = (n_terminals,n_terminals))\n",
    "for ix_prot1 in tqdm.tqdm(np.arange(n_terminals)):\n",
    "    time.sleep(0.01)\n",
    "    for ix_prot2 in np.arange(ix_prot1+1, n_terminals, 1):\n",
    "        shortest_dist_mat[ix_prot1,ix_prot2] = nx.dijkstra_path_length(network,\n",
    "                                                                       source = terminals[ix_prot1],\n",
    "                                                                       target = terminals[ix_prot2],\n",
    "                                                                       weight = 'cost')\n",
    "        shortest_dist_mat[ix_prot2,ix_prot2] = shortest_dist_mat[ix_prot1,ix_prot2]"
   ]
  },
  {
   "cell_type": "code",
   "execution_count": 10,
   "metadata": {},
   "outputs": [
    {
     "ename": "NameError",
     "evalue": "name 'shortest_dist_mat' is not defined",
     "output_type": "error",
     "traceback": [
      "\u001b[0;31m--------------------------------------------------------------------------\u001b[0m",
      "\u001b[0;31mNameError\u001b[0m                                Traceback (most recent call last)",
      "\u001b[0;32m<ipython-input-10-09dad86625da>\u001b[0m in \u001b[0;36m<module>\u001b[0;34m\u001b[0m\n\u001b[1;32m      1\u001b[0m \u001b[0;31m# Plot heatmap of cheapest path\u001b[0m\u001b[0;34m\u001b[0m\u001b[0;34m\u001b[0m\u001b[0;34m\u001b[0m\u001b[0m\n\u001b[0;32m----> 2\u001b[0;31m \u001b[0mplt\u001b[0m\u001b[0;34m.\u001b[0m\u001b[0mmatshow\u001b[0m\u001b[0;34m(\u001b[0m\u001b[0mnp\u001b[0m\u001b[0;34m.\u001b[0m\u001b[0mtranspose\u001b[0m\u001b[0;34m(\u001b[0m\u001b[0mshortest_dist_mat\u001b[0m\u001b[0;34m)\u001b[0m\u001b[0;34m)\u001b[0m\u001b[0;34m\u001b[0m\u001b[0;34m\u001b[0m\u001b[0m\n\u001b[0m\u001b[1;32m      3\u001b[0m \u001b[0mplt\u001b[0m\u001b[0;34m.\u001b[0m\u001b[0mxlabel\u001b[0m\u001b[0;34m(\u001b[0m\u001b[0;34m'terminals'\u001b[0m\u001b[0;34m)\u001b[0m\u001b[0;34m\u001b[0m\u001b[0;34m\u001b[0m\u001b[0m\n\u001b[1;32m      4\u001b[0m \u001b[0mplt\u001b[0m\u001b[0;34m.\u001b[0m\u001b[0mylabel\u001b[0m\u001b[0;34m(\u001b[0m\u001b[0;34m'terminals'\u001b[0m\u001b[0;34m)\u001b[0m\u001b[0;34m\u001b[0m\u001b[0;34m\u001b[0m\u001b[0m\n\u001b[1;32m      5\u001b[0m \u001b[0mplt\u001b[0m\u001b[0;34m.\u001b[0m\u001b[0mcolorbar\u001b[0m\u001b[0;34m(\u001b[0m\u001b[0;34m)\u001b[0m\u001b[0;34m\u001b[0m\u001b[0;34m\u001b[0m\u001b[0m\n",
      "\u001b[0;31mNameError\u001b[0m: name 'shortest_dist_mat' is not defined"
     ]
    }
   ],
   "source": [
    "# Plot heatmap of cheapest path\n",
    "plt.matshow(np.transpose(shortest_dist_mat))\n",
    "plt.xlabel('terminals')\n",
    "plt.ylabel('terminals')\n",
    "plt.colorbar()"
   ]
  },
  {
   "cell_type": "code",
   "execution_count": null,
   "metadata": {},
   "outputs": [],
   "source": [
    "# Plot histogram of cheapest path\n",
    "plt.subplot(1,2,1)\n",
    "flat_mat = shortest_dist_mat[np.triu_indices(n_terminals, k=1)]\n",
    "plt.hist(flat_mat,40)\n",
    "plt.xlabel('Cost of shortest path between two terminals')\n",
    "plt.ylabel('Number of pairs of terminals')"
   ]
  },
  {
   "cell_type": "markdown",
   "metadata": {},
   "source": [
    "## G range"
   ]
  },
  {
   "cell_type": "code",
   "execution_count": 11,
   "metadata": {},
   "outputs": [],
   "source": [
    "# Create a dictionary containing edge costs under several choices of g\n",
    "g_range = [0,1,2,3,4,5]\n",
    "edge_costs_dict={'g = -Inf': graph.edge_costs}\n",
    "for g in g_range:\n",
    "    params = {\"w\": 0, \"b\": 1, \"g\": g, \"edge_noise\": 0, \"dummy_mode\": \"terminals\", \"seed\": 0, \"skip_checks\": False}\n",
    "    graph._reset_hyperparameters(params)\n",
    "    edge_costs_dict['g='+str(g)] = graph.costs\n",
    "edge_costs_df = pd.DataFrame(data = edge_costs_dict)"
   ]
  },
  {
   "cell_type": "code",
   "execution_count": 12,
   "metadata": {},
   "outputs": [
    {
     "data": {
      "image/png": "[encoded data removed]",
      "text/plain": [
       "<Figure size 432x288 with 1 Axes>"
      ]
     },
     "metadata": {
      "needs_background": "light"
     },
     "output_type": "display_data"
    }
   ],
   "source": [
    "# Boxplot of edge costs under several choices of g\n",
    "plt.figure()\n",
    "edge_costs_df.boxplot()\n",
    "plt.yscale('log')\n",
    "plt.ylabel('penalized edge cost')\n",
    "plt.title('Boxplots of penalized edge costs in IREF for different values of g')\n",
    "plt.show()"
   ]
  },
  {
   "cell_type": "markdown",
   "metadata": {},
   "source": [
    "## B range"
   ]
  },
  {
   "cell_type": "code",
   "execution_count": 13,
   "metadata": {
    "scrolled": true
   },
   "outputs": [
    {
     "data": {
      "text/html": [
       "<div>\n",
       "<style scoped>\n",
       "    .dataframe tbody tr th:only-of-type {\n",
       "        vertical-align: middle;\n",
       "    }\n",
       "\n",
       "    .dataframe tbody tr th {\n",
       "        vertical-align: top;\n",
       "    }\n",
       "\n",
       "    .dataframe thead th {\n",
       "        text-align: right;\n",
       "    }\n",
       "</style>\n",
       "<table border=\"1\" class=\"dataframe\">\n",
       "  <thead>\n",
       "    <tr style=\"text-align: right;\">\n",
       "      <th></th>\n",
       "      <th>max_penalized_edge_cost</th>\n",
       "    </tr>\n",
       "  </thead>\n",
       "  <tbody>\n",
       "    <tr>\n",
       "      <th>g = -Inf</th>\n",
       "      <td>0.859220</td>\n",
       "    </tr>\n",
       "    <tr>\n",
       "      <th>g=0</th>\n",
       "      <td>0.860892</td>\n",
       "    </tr>\n",
       "    <tr>\n",
       "      <th>g=1</th>\n",
       "      <td>2.015303</td>\n",
       "    </tr>\n",
       "    <tr>\n",
       "      <th>g=2</th>\n",
       "      <td>19.487738</td>\n",
       "    </tr>\n",
       "    <tr>\n",
       "      <th>g=3</th>\n",
       "      <td>194.212079</td>\n",
       "    </tr>\n",
       "    <tr>\n",
       "      <th>g=4</th>\n",
       "      <td>1941.455488</td>\n",
       "    </tr>\n",
       "    <tr>\n",
       "      <th>g=5</th>\n",
       "      <td>19413.889586</td>\n",
       "    </tr>\n",
       "  </tbody>\n",
       "</table>\n",
       "</div>"
      ],
      "text/plain": [
       "          max_penalized_edge_cost\n",
       "g = -Inf                 0.859220\n",
       "g=0                      0.860892\n",
       "g=1                      2.015303\n",
       "g=2                     19.487738\n",
       "g=3                    194.212079\n",
       "g=4                   1941.455488\n",
       "g=5                  19413.889586"
      ]
     },
     "execution_count": 13,
     "metadata": {},
     "output_type": "execute_result"
    }
   ],
   "source": [
    "# For a range of g, compute the maximum penalized edge cost\n",
    "g_range = [0,1,2,3,4,5]\n",
    "max_penalized_edge_cost = pd.DataFrame(edge_costs_df.max())\n",
    "max_penalized_edge_cost.columns=['max_penalized_edge_cost']\n",
    "max_penalized_edge_cost"
   ]
  },
  {
   "cell_type": "markdown",
   "metadata": {},
   "source": [
    "# Sensitivity analysis for Steiner tree parameters"
   ]
  },
  {
   "cell_type": "markdown",
   "metadata": {},
   "source": [
    "## Run sensitivity analysis"
   ]
  },
  {
   "cell_type": "code",
   "execution_count": 14,
   "metadata": {},
   "outputs": [],
   "source": [
    "# Load set of virus interacting genes from Gordon et al.\n",
    "virus_partners_file_name = \"../Data/SARSCov_targets_df.tsv\"\n",
    "virus_interacting_genes = sensitivity.import_virus_partners(virus_partners_file_name)"
   ]
  },
  {
   "cell_type": "code",
   "execution_count": 15,
   "metadata": {},
   "outputs": [],
   "source": [
    "# Parameters for sensitivity analysis\n",
    "interactome_file_name = \"../Data/iRefIndex_v14_MIScore_interactome_C9.costs.allcaps.txt\"\n",
    "prize_file_name = \"../Save_RandomizeGeneLabels/terminals_ppi_analysis.tsv\"\n",
    "# Graph hyperparameters\n",
    "graph_params =  {\n",
    "                \"noise\": 0.0, \n",
    "                \"dummy_mode\": \"terminals\", \n",
    "                \"exclude_terminals\": False, \n",
    "                \"seed\": 1,\n",
    "                \"pruning\": 'strong',\n",
    "                \"verbosity_level\": 0\n",
    "                }\n",
    "# Set sweeping parameters, i.e. configurations (w,b,g)\n",
    "W_list = np.linspace(start = 0.2, stop = 2, num = 10)\n",
    "B_list = np.array([5., 10., 15., 20., 25., 30., 35., 40., 45., 50.])"
   ]
  },
  {
   "cell_type": "code",
   "execution_count": 24,
   "metadata": {
    "scrolled": true
   },
   "outputs": [
    {
     "name": "stderr",
     "output_type": "stream",
     "text": [
      "10:43:14 - OI2: INFO - Duplicated gene symbols in the prize file (we'll keep the max prize):\n",
      "10:43:14 - OI2: INFO - []\n",
      "10:43:14 - OI2: INFO - Members of the prize file not present in the interactome:\n",
      "10:43:14 - OI2: INFO - []\n"
     ]
    },
    {
     "name": "stdout",
     "output_type": "stream",
     "text": [
      "Progress= 0.01\n"
     ]
    },
    {
     "name": "stderr",
     "output_type": "stream",
     "text": [
      "10:43:15 - OI2: INFO - Duplicated gene symbols in the prize file (we'll keep the max prize):\n",
      "10:43:15 - OI2: INFO - []\n",
      "10:43:15 - OI2: INFO - Members of the prize file not present in the interactome:\n",
      "10:43:15 - OI2: INFO - []\n"
     ]
    },
    {
     "name": "stdout",
     "output_type": "stream",
     "text": [
      "Progress= 0.02\n"
     ]
    },
    {
     "name": "stderr",
     "output_type": "stream",
     "text": [
      "10:43:16 - OI2: INFO - Duplicated gene symbols in the prize file (we'll keep the max prize):\n",
      "10:43:16 - OI2: INFO - []\n",
      "10:43:16 - OI2: INFO - Members of the prize file not present in the interactome:\n",
      "10:43:16 - OI2: INFO - []\n"
     ]
    },
    {
     "name": "stdout",
     "output_type": "stream",
     "text": [
      "Progress= 0.03\n"
     ]
    },
    {
     "name": "stderr",
     "output_type": "stream",
     "text": [
      "10:43:17 - OI2: INFO - Duplicated gene symbols in the prize file (we'll keep the max prize):\n",
      "10:43:17 - OI2: INFO - []\n",
      "10:43:17 - OI2: INFO - Members of the prize file not present in the interactome:\n",
      "10:43:17 - OI2: INFO - []\n"
     ]
    },
    {
     "name": "stdout",
     "output_type": "stream",
     "text": [
      "Progress= 0.04\n"
     ]
    },
    {
     "name": "stderr",
     "output_type": "stream",
     "text": [
      "10:43:18 - OI2: INFO - Duplicated gene symbols in the prize file (we'll keep the max prize):\n",
      "10:43:18 - OI2: INFO - []\n",
      "10:43:18 - OI2: INFO - Members of the prize file not present in the interactome:\n",
      "10:43:18 - OI2: INFO - []\n"
     ]
    },
    {
     "name": "stdout",
     "output_type": "stream",
     "text": [
      "Progress= 0.05\n"
     ]
    },
    {
     "name": "stderr",
     "output_type": "stream",
     "text": [
      "10:43:19 - OI2: INFO - Duplicated gene symbols in the prize file (we'll keep the max prize):\n",
      "10:43:19 - OI2: INFO - []\n",
      "10:43:19 - OI2: INFO - Members of the prize file not present in the interactome:\n",
      "10:43:19 - OI2: INFO - []\n"
     ]
    },
    {
     "name": "stdout",
     "output_type": "stream",
     "text": [
      "Progress= 0.06\n"
     ]
    },
    {
     "name": "stderr",
     "output_type": "stream",
     "text": [
      "10:43:20 - OI2: INFO - Duplicated gene symbols in the prize file (we'll keep the max prize):\n",
      "10:43:20 - OI2: INFO - []\n",
      "10:43:20 - OI2: INFO - Members of the prize file not present in the interactome:\n",
      "10:43:20 - OI2: INFO - []\n"
     ]
    },
    {
     "name": "stdout",
     "output_type": "stream",
     "text": [
      "Progress= 0.07\n"
     ]
    },
    {
     "name": "stderr",
     "output_type": "stream",
     "text": [
      "10:43:21 - OI2: INFO - Duplicated gene symbols in the prize file (we'll keep the max prize):\n",
      "10:43:21 - OI2: INFO - []\n",
      "10:43:21 - OI2: INFO - Members of the prize file not present in the interactome:\n",
      "10:43:21 - OI2: INFO - []\n"
     ]
    },
    {
     "name": "stdout",
     "output_type": "stream",
     "text": [
      "Progress= 0.08\n"
     ]
    },
    {
     "name": "stderr",
     "output_type": "stream",
     "text": [
      "10:43:21 - OI2: INFO - Duplicated gene symbols in the prize file (we'll keep the max prize):\n",
      "10:43:21 - OI2: INFO - []\n",
      "10:43:21 - OI2: INFO - Members of the prize file not present in the interactome:\n",
      "10:43:21 - OI2: INFO - []\n"
     ]
    },
    {
     "name": "stdout",
     "output_type": "stream",
     "text": [
      "Progress= 0.09\n"
     ]
    },
    {
     "name": "stderr",
     "output_type": "stream",
     "text": [
      "10:43:22 - OI2: INFO - Duplicated gene symbols in the prize file (we'll keep the max prize):\n",
      "10:43:22 - OI2: INFO - []\n",
      "10:43:22 - OI2: INFO - Members of the prize file not present in the interactome:\n",
      "10:43:22 - OI2: INFO - []\n"
     ]
    },
    {
     "name": "stdout",
     "output_type": "stream",
     "text": [
      "Progress= 0.1\n"
     ]
    },
    {
     "name": "stderr",
     "output_type": "stream",
     "text": [
      "10:43:23 - OI2: INFO - Duplicated gene symbols in the prize file (we'll keep the max prize):\n",
      "10:43:23 - OI2: INFO - []\n",
      "10:43:23 - OI2: INFO - Members of the prize file not present in the interactome:\n",
      "10:43:23 - OI2: INFO - []\n"
     ]
    },
    {
     "name": "stdout",
     "output_type": "stream",
     "text": [
      "Progress= 0.11\n"
     ]
    },
    {
     "name": "stderr",
     "output_type": "stream",
     "text": [
      "10:43:24 - OI2: INFO - Duplicated gene symbols in the prize file (we'll keep the max prize):\n",
      "10:43:24 - OI2: INFO - []\n",
      "10:43:24 - OI2: INFO - Members of the prize file not present in the interactome:\n",
      "10:43:24 - OI2: INFO - []\n"
     ]
    },
    {
     "name": "stdout",
     "output_type": "stream",
     "text": [
      "Progress= 0.12\n"
     ]
    },
    {
     "name": "stderr",
     "output_type": "stream",
     "text": [
      "10:43:25 - OI2: INFO - Duplicated gene symbols in the prize file (we'll keep the max prize):\n",
      "10:43:25 - OI2: INFO - []\n",
      "10:43:25 - OI2: INFO - Members of the prize file not present in the interactome:\n",
      "10:43:25 - OI2: INFO - []\n"
     ]
    },
    {
     "name": "stdout",
     "output_type": "stream",
     "text": [
      "Progress= 0.13\n"
     ]
    },
    {
     "name": "stderr",
     "output_type": "stream",
     "text": [
      "10:43:26 - OI2: INFO - Duplicated gene symbols in the prize file (we'll keep the max prize):\n",
      "10:43:26 - OI2: INFO - []\n",
      "10:43:26 - OI2: INFO - Members of the prize file not present in the interactome:\n",
      "10:43:26 - OI2: INFO - []\n"
     ]
    },
    {
     "name": "stdout",
     "output_type": "stream",
     "text": [
      "Progress= 0.14\n"
     ]
    },
    {
     "name": "stderr",
     "output_type": "stream",
     "text": [
      "10:43:27 - OI2: INFO - Duplicated gene symbols in the prize file (we'll keep the max prize):\n",
      "10:43:27 - OI2: INFO - []\n",
      "10:43:27 - OI2: INFO - Members of the prize file not present in the interactome:\n",
      "10:43:27 - OI2: INFO - []\n"
     ]
    },
    {
     "name": "stdout",
     "output_type": "stream",
     "text": [
      "Progress= 0.15\n"
     ]
    },
    {
     "name": "stderr",
     "output_type": "stream",
     "text": [
      "10:43:28 - OI2: INFO - Duplicated gene symbols in the prize file (we'll keep the max prize):\n",
      "10:43:28 - OI2: INFO - []\n",
      "10:43:28 - OI2: INFO - Members of the prize file not present in the interactome:\n",
      "10:43:28 - OI2: INFO - []\n"
     ]
    },
    {
     "name": "stdout",
     "output_type": "stream",
     "text": [
      "Progress= 0.16\n"
     ]
    },
    {
     "name": "stderr",
     "output_type": "stream",
     "text": [
      "10:43:29 - OI2: INFO - Duplicated gene symbols in the prize file (we'll keep the max prize):\n",
      "10:43:29 - OI2: INFO - []\n",
      "10:43:29 - OI2: INFO - Members of the prize file not present in the interactome:\n",
      "10:43:29 - OI2: INFO - []\n"
     ]
    },
    {
     "name": "stdout",
     "output_type": "stream",
     "text": [
      "Progress= 0.17\n"
     ]
    },
    {
     "name": "stderr",
     "output_type": "stream",
     "text": [
      "10:43:30 - OI2: INFO - Duplicated gene symbols in the prize file (we'll keep the max prize):\n",
      "10:43:30 - OI2: INFO - []\n",
      "10:43:30 - OI2: INFO - Members of the prize file not present in the interactome:\n",
      "10:43:30 - OI2: INFO - []\n"
     ]
    },
    {
     "name": "stdout",
     "output_type": "stream",
     "text": [
      "Progress= 0.18\n"
     ]
    },
    {
     "name": "stderr",
     "output_type": "stream",
     "text": [
      "10:43:31 - OI2: INFO - Duplicated gene symbols in the prize file (we'll keep the max prize):\n",
      "10:43:31 - OI2: INFO - []\n",
      "10:43:31 - OI2: INFO - Members of the prize file not present in the interactome:\n",
      "10:43:31 - OI2: INFO - []\n"
     ]
    },
    {
     "name": "stdout",
     "output_type": "stream",
     "text": [
      "Progress= 0.19\n"
     ]
    },
    {
     "name": "stderr",
     "output_type": "stream",
     "text": [
      "10:43:32 - OI2: INFO - Duplicated gene symbols in the prize file (we'll keep the max prize):\n",
      "10:43:32 - OI2: INFO - []\n",
      "10:43:32 - OI2: INFO - Members of the prize file not present in the interactome:\n",
      "10:43:32 - OI2: INFO - []\n"
     ]
    },
    {
     "name": "stdout",
     "output_type": "stream",
     "text": [
      "Progress= 0.2\n"
     ]
    },
    {
     "name": "stderr",
     "output_type": "stream",
     "text": [
      "10:43:34 - OI2: INFO - Duplicated gene symbols in the prize file (we'll keep the max prize):\n",
      "10:43:34 - OI2: INFO - []\n",
      "10:43:34 - OI2: INFO - Members of the prize file not present in the interactome:\n",
      "10:43:34 - OI2: INFO - []\n"
     ]
    },
    {
     "name": "stdout",
     "output_type": "stream",
     "text": [
      "Progress= 0.21\n"
     ]
    },
    {
     "name": "stderr",
     "output_type": "stream",
     "text": [
      "10:43:35 - OI2: INFO - Duplicated gene symbols in the prize file (we'll keep the max prize):\n",
      "10:43:35 - OI2: INFO - []\n",
      "10:43:35 - OI2: INFO - Members of the prize file not present in the interactome:\n",
      "10:43:35 - OI2: INFO - []\n"
     ]
    },
    {
     "name": "stdout",
     "output_type": "stream",
     "text": [
      "Progress= 0.22\n"
     ]
    },
    {
     "name": "stderr",
     "output_type": "stream",
     "text": [
      "10:43:36 - OI2: INFO - Duplicated gene symbols in the prize file (we'll keep the max prize):\n",
      "10:43:36 - OI2: INFO - []\n",
      "10:43:36 - OI2: INFO - Members of the prize file not present in the interactome:\n",
      "10:43:36 - OI2: INFO - []\n"
     ]
    },
    {
     "name": "stdout",
     "output_type": "stream",
     "text": [
      "Progress= 0.23\n"
     ]
    },
    {
     "name": "stderr",
     "output_type": "stream",
     "text": [
      "10:43:37 - OI2: INFO - Duplicated gene symbols in the prize file (we'll keep the max prize):\n",
      "10:43:37 - OI2: INFO - []\n",
      "10:43:37 - OI2: INFO - Members of the prize file not present in the interactome:\n",
      "10:43:37 - OI2: INFO - []\n"
     ]
    },
    {
     "name": "stdout",
     "output_type": "stream",
     "text": [
      "Progress= 0.24\n"
     ]
    },
    {
     "name": "stderr",
     "output_type": "stream",
     "text": [
      "10:43:38 - OI2: INFO - Duplicated gene symbols in the prize file (we'll keep the max prize):\n",
      "10:43:38 - OI2: INFO - []\n",
      "10:43:38 - OI2: INFO - Members of the prize file not present in the interactome:\n",
      "10:43:38 - OI2: INFO - []\n"
     ]
    },
    {
     "name": "stdout",
     "output_type": "stream",
     "text": [
      "Progress= 0.25\n"
     ]
    },
    {
     "name": "stderr",
     "output_type": "stream",
     "text": [
      "10:43:39 - OI2: INFO - Duplicated gene symbols in the prize file (we'll keep the max prize):\n",
      "10:43:39 - OI2: INFO - []\n",
      "10:43:39 - OI2: INFO - Members of the prize file not present in the interactome:\n",
      "10:43:39 - OI2: INFO - []\n"
     ]
    },
    {
     "name": "stdout",
     "output_type": "stream",
     "text": [
      "Progress= 0.26\n"
     ]
    },
    {
     "name": "stderr",
     "output_type": "stream",
     "text": [
      "10:43:40 - OI2: INFO - Duplicated gene symbols in the prize file (we'll keep the max prize):\n",
      "10:43:40 - OI2: INFO - []\n",
      "10:43:40 - OI2: INFO - Members of the prize file not present in the interactome:\n",
      "10:43:40 - OI2: INFO - []\n"
     ]
    },
    {
     "name": "stdout",
     "output_type": "stream",
     "text": [
      "Progress= 0.27\n"
     ]
    },
    {
     "name": "stderr",
     "output_type": "stream",
     "text": [
      "10:43:42 - OI2: INFO - Duplicated gene symbols in the prize file (we'll keep the max prize):\n",
      "10:43:42 - OI2: INFO - []\n",
      "10:43:42 - OI2: INFO - Members of the prize file not present in the interactome:\n",
      "10:43:42 - OI2: INFO - []\n"
     ]
    },
    {
     "name": "stdout",
     "output_type": "stream",
     "text": [
      "Progress= 0.28\n"
     ]
    },
    {
     "name": "stderr",
     "output_type": "stream",
     "text": [
      "10:43:43 - OI2: INFO - Duplicated gene symbols in the prize file (we'll keep the max prize):\n",
      "10:43:43 - OI2: INFO - []\n",
      "10:43:43 - OI2: INFO - Members of the prize file not present in the interactome:\n",
      "10:43:43 - OI2: INFO - []\n"
     ]
    },
    {
     "name": "stdout",
     "output_type": "stream",
     "text": [
      "Progress= 0.29\n"
     ]
    },
    {
     "name": "stderr",
     "output_type": "stream",
     "text": [
      "10:43:44 - OI2: INFO - Duplicated gene symbols in the prize file (we'll keep the max prize):\n",
      "10:43:44 - OI2: INFO - []\n",
      "10:43:44 - OI2: INFO - Members of the prize file not present in the interactome:\n",
      "10:43:44 - OI2: INFO - []\n"
     ]
    },
    {
     "name": "stdout",
     "output_type": "stream",
     "text": [
      "Progress= 0.3\n"
     ]
    },
    {
     "name": "stderr",
     "output_type": "stream",
     "text": [
      "10:43:45 - OI2: INFO - Duplicated gene symbols in the prize file (we'll keep the max prize):\n",
      "10:43:45 - OI2: INFO - []\n",
      "10:43:45 - OI2: INFO - Members of the prize file not present in the interactome:\n",
      "10:43:45 - OI2: INFO - []\n"
     ]
    },
    {
     "name": "stdout",
     "output_type": "stream",
     "text": [
      "Progress= 0.31\n"
     ]
    },
    {
     "name": "stderr",
     "output_type": "stream",
     "text": [
      "10:43:46 - OI2: INFO - Duplicated gene symbols in the prize file (we'll keep the max prize):\n",
      "10:43:46 - OI2: INFO - []\n",
      "10:43:46 - OI2: INFO - Members of the prize file not present in the interactome:\n",
      "10:43:46 - OI2: INFO - []\n"
     ]
    },
    {
     "name": "stdout",
     "output_type": "stream",
     "text": [
      "Progress= 0.32\n"
     ]
    },
    {
     "name": "stderr",
     "output_type": "stream",
     "text": [
      "10:43:48 - OI2: INFO - Duplicated gene symbols in the prize file (we'll keep the max prize):\n",
      "10:43:48 - OI2: INFO - []\n",
      "10:43:48 - OI2: INFO - Members of the prize file not present in the interactome:\n",
      "10:43:48 - OI2: INFO - []\n"
     ]
    },
    {
     "name": "stdout",
     "output_type": "stream",
     "text": [
      "Progress= 0.33\n"
     ]
    },
    {
     "name": "stderr",
     "output_type": "stream",
     "text": [
      "10:43:49 - OI2: INFO - Duplicated gene symbols in the prize file (we'll keep the max prize):\n",
      "10:43:49 - OI2: INFO - []\n",
      "10:43:49 - OI2: INFO - Members of the prize file not present in the interactome:\n",
      "10:43:49 - OI2: INFO - []\n"
     ]
    },
    {
     "name": "stdout",
     "output_type": "stream",
     "text": [
      "Progress= 0.34\n"
     ]
    },
    {
     "name": "stderr",
     "output_type": "stream",
     "text": [
      "10:43:50 - OI2: INFO - Duplicated gene symbols in the prize file (we'll keep the max prize):\n",
      "10:43:50 - OI2: INFO - []\n",
      "10:43:50 - OI2: INFO - Members of the prize file not present in the interactome:\n",
      "10:43:50 - OI2: INFO - []\n"
     ]
    },
    {
     "name": "stdout",
     "output_type": "stream",
     "text": [
      "Progress= 0.35\n"
     ]
    },
    {
     "name": "stderr",
     "output_type": "stream",
     "text": [
      "10:43:51 - OI2: INFO - Duplicated gene symbols in the prize file (we'll keep the max prize):\n",
      "10:43:51 - OI2: INFO - []\n",
      "10:43:51 - OI2: INFO - Members of the prize file not present in the interactome:\n",
      "10:43:51 - OI2: INFO - []\n"
     ]
    },
    {
     "name": "stdout",
     "output_type": "stream",
     "text": [
      "Progress= 0.36\n"
     ]
    },
    {
     "name": "stderr",
     "output_type": "stream",
     "text": [
      "10:43:53 - OI2: INFO - Duplicated gene symbols in the prize file (we'll keep the max prize):\n",
      "10:43:53 - OI2: INFO - []\n",
      "10:43:53 - OI2: INFO - Members of the prize file not present in the interactome:\n",
      "10:43:53 - OI2: INFO - []\n"
     ]
    },
    {
     "name": "stdout",
     "output_type": "stream",
     "text": [
      "Progress= 0.37\n"
     ]
    },
    {
     "name": "stderr",
     "output_type": "stream",
     "text": [
      "10:43:54 - OI2: INFO - Duplicated gene symbols in the prize file (we'll keep the max prize):\n",
      "10:43:54 - OI2: INFO - []\n",
      "10:43:54 - OI2: INFO - Members of the prize file not present in the interactome:\n",
      "10:43:54 - OI2: INFO - []\n"
     ]
    },
    {
     "name": "stdout",
     "output_type": "stream",
     "text": [
      "Progress= 0.38\n"
     ]
    },
    {
     "name": "stderr",
     "output_type": "stream",
     "text": [
      "10:43:55 - OI2: INFO - Duplicated gene symbols in the prize file (we'll keep the max prize):\n",
      "10:43:55 - OI2: INFO - []\n",
      "10:43:55 - OI2: INFO - Members of the prize file not present in the interactome:\n",
      "10:43:55 - OI2: INFO - []\n"
     ]
    },
    {
     "name": "stdout",
     "output_type": "stream",
     "text": [
      "Progress= 0.39\n"
     ]
    },
    {
     "name": "stderr",
     "output_type": "stream",
     "text": [
      "10:43:56 - OI2: INFO - Duplicated gene symbols in the prize file (we'll keep the max prize):\n",
      "10:43:56 - OI2: INFO - []\n",
      "10:43:56 - OI2: INFO - Members of the prize file not present in the interactome:\n",
      "10:43:56 - OI2: INFO - []\n"
     ]
    },
    {
     "name": "stdout",
     "output_type": "stream",
     "text": [
      "Progress= 0.4\n"
     ]
    },
    {
     "name": "stderr",
     "output_type": "stream",
     "text": [
      "10:43:58 - OI2: INFO - Duplicated gene symbols in the prize file (we'll keep the max prize):\n",
      "10:43:58 - OI2: INFO - []\n",
      "10:43:58 - OI2: INFO - Members of the prize file not present in the interactome:\n",
      "10:43:58 - OI2: INFO - []\n"
     ]
    },
    {
     "name": "stdout",
     "output_type": "stream",
     "text": [
      "Progress= 0.41\n"
     ]
    },
    {
     "name": "stderr",
     "output_type": "stream",
     "text": [
      "10:43:59 - OI2: INFO - Duplicated gene symbols in the prize file (we'll keep the max prize):\n",
      "10:43:59 - OI2: INFO - []\n",
      "10:43:59 - OI2: INFO - Members of the prize file not present in the interactome:\n",
      "10:43:59 - OI2: INFO - []\n"
     ]
    },
    {
     "name": "stdout",
     "output_type": "stream",
     "text": [
      "Progress= 0.42\n"
     ]
    },
    {
     "name": "stderr",
     "output_type": "stream",
     "text": [
      "10:44:00 - OI2: INFO - Duplicated gene symbols in the prize file (we'll keep the max prize):\n",
      "10:44:00 - OI2: INFO - []\n",
      "10:44:00 - OI2: INFO - Members of the prize file not present in the interactome:\n",
      "10:44:00 - OI2: INFO - []\n"
     ]
    },
    {
     "name": "stdout",
     "output_type": "stream",
     "text": [
      "Progress= 0.43\n"
     ]
    },
    {
     "name": "stderr",
     "output_type": "stream",
     "text": [
      "10:44:01 - OI2: INFO - Duplicated gene symbols in the prize file (we'll keep the max prize):\n",
      "10:44:01 - OI2: INFO - []\n",
      "10:44:01 - OI2: INFO - Members of the prize file not present in the interactome:\n",
      "10:44:01 - OI2: INFO - []\n"
     ]
    },
    {
     "name": "stdout",
     "output_type": "stream",
     "text": [
      "Progress= 0.44\n"
     ]
    },
    {
     "name": "stderr",
     "output_type": "stream",
     "text": [
      "10:44:03 - OI2: INFO - Duplicated gene symbols in the prize file (we'll keep the max prize):\n",
      "10:44:03 - OI2: INFO - []\n",
      "10:44:03 - OI2: INFO - Members of the prize file not present in the interactome:\n",
      "10:44:03 - OI2: INFO - []\n"
     ]
    },
    {
     "name": "stdout",
     "output_type": "stream",
     "text": [
      "Progress= 0.45\n"
     ]
    },
    {
     "name": "stderr",
     "output_type": "stream",
     "text": [
      "10:44:04 - OI2: INFO - Duplicated gene symbols in the prize file (we'll keep the max prize):\n",
      "10:44:04 - OI2: INFO - []\n",
      "10:44:04 - OI2: INFO - Members of the prize file not present in the interactome:\n",
      "10:44:04 - OI2: INFO - []\n"
     ]
    },
    {
     "name": "stdout",
     "output_type": "stream",
     "text": [
      "Progress= 0.46\n"
     ]
    },
    {
     "name": "stderr",
     "output_type": "stream",
     "text": [
      "10:44:05 - OI2: INFO - Duplicated gene symbols in the prize file (we'll keep the max prize):\n",
      "10:44:05 - OI2: INFO - []\n",
      "10:44:05 - OI2: INFO - Members of the prize file not present in the interactome:\n",
      "10:44:05 - OI2: INFO - []\n"
     ]
    },
    {
     "name": "stdout",
     "output_type": "stream",
     "text": [
      "Progress= 0.47\n"
     ]
    },
    {
     "name": "stderr",
     "output_type": "stream",
     "text": [
      "10:44:06 - OI2: INFO - Duplicated gene symbols in the prize file (we'll keep the max prize):\n",
      "10:44:06 - OI2: INFO - []\n",
      "10:44:06 - OI2: INFO - Members of the prize file not present in the interactome:\n",
      "10:44:06 - OI2: INFO - []\n"
     ]
    },
    {
     "name": "stdout",
     "output_type": "stream",
     "text": [
      "Progress= 0.48\n"
     ]
    },
    {
     "name": "stderr",
     "output_type": "stream",
     "text": [
      "10:44:07 - OI2: INFO - Duplicated gene symbols in the prize file (we'll keep the max prize):\n",
      "10:44:07 - OI2: INFO - []\n",
      "10:44:07 - OI2: INFO - Members of the prize file not present in the interactome:\n",
      "10:44:07 - OI2: INFO - []\n"
     ]
    },
    {
     "name": "stdout",
     "output_type": "stream",
     "text": [
      "Progress= 0.49\n"
     ]
    },
    {
     "name": "stderr",
     "output_type": "stream",
     "text": [
      "10:44:09 - OI2: INFO - Duplicated gene symbols in the prize file (we'll keep the max prize):\n",
      "10:44:09 - OI2: INFO - []\n",
      "10:44:09 - OI2: INFO - Members of the prize file not present in the interactome:\n",
      "10:44:09 - OI2: INFO - []\n"
     ]
    },
    {
     "name": "stdout",
     "output_type": "stream",
     "text": [
      "Progress= 0.5\n"
     ]
    },
    {
     "name": "stderr",
     "output_type": "stream",
     "text": [
      "10:44:10 - OI2: INFO - Duplicated gene symbols in the prize file (we'll keep the max prize):\n",
      "10:44:10 - OI2: INFO - []\n",
      "10:44:10 - OI2: INFO - Members of the prize file not present in the interactome:\n",
      "10:44:10 - OI2: INFO - []\n"
     ]
    },
    {
     "name": "stdout",
     "output_type": "stream",
     "text": [
      "Progress= 0.51\n"
     ]
    },
    {
     "name": "stderr",
     "output_type": "stream",
     "text": [
      "10:44:11 - OI2: INFO - Duplicated gene symbols in the prize file (we'll keep the max prize):\n",
      "10:44:11 - OI2: INFO - []\n",
      "10:44:11 - OI2: INFO - Members of the prize file not present in the interactome:\n",
      "10:44:11 - OI2: INFO - []\n"
     ]
    },
    {
     "name": "stdout",
     "output_type": "stream",
     "text": [
      "Progress= 0.52\n"
     ]
    },
    {
     "name": "stderr",
     "output_type": "stream",
     "text": [
      "10:44:12 - OI2: INFO - Duplicated gene symbols in the prize file (we'll keep the max prize):\n",
      "10:44:12 - OI2: INFO - []\n",
      "10:44:12 - OI2: INFO - Members of the prize file not present in the interactome:\n",
      "10:44:12 - OI2: INFO - []\n"
     ]
    },
    {
     "name": "stdout",
     "output_type": "stream",
     "text": [
      "Progress= 0.53\n"
     ]
    },
    {
     "name": "stderr",
     "output_type": "stream",
     "text": [
      "10:44:14 - OI2: INFO - Duplicated gene symbols in the prize file (we'll keep the max prize):\n",
      "10:44:14 - OI2: INFO - []\n",
      "10:44:14 - OI2: INFO - Members of the prize file not present in the interactome:\n",
      "10:44:14 - OI2: INFO - []\n"
     ]
    },
    {
     "name": "stdout",
     "output_type": "stream",
     "text": [
      "Progress= 0.54\n"
     ]
    },
    {
     "name": "stderr",
     "output_type": "stream",
     "text": [
      "10:44:15 - OI2: INFO - Duplicated gene symbols in the prize file (we'll keep the max prize):\n",
      "10:44:15 - OI2: INFO - []\n",
      "10:44:15 - OI2: INFO - Members of the prize file not present in the interactome:\n",
      "10:44:15 - OI2: INFO - []\n"
     ]
    },
    {
     "name": "stdout",
     "output_type": "stream",
     "text": [
      "Progress= 0.55\n"
     ]
    },
    {
     "name": "stderr",
     "output_type": "stream",
     "text": [
      "10:44:16 - OI2: INFO - Duplicated gene symbols in the prize file (we'll keep the max prize):\n",
      "10:44:16 - OI2: INFO - []\n",
      "10:44:16 - OI2: INFO - Members of the prize file not present in the interactome:\n",
      "10:44:16 - OI2: INFO - []\n"
     ]
    },
    {
     "name": "stdout",
     "output_type": "stream",
     "text": [
      "Progress= 0.56\n"
     ]
    },
    {
     "name": "stderr",
     "output_type": "stream",
     "text": [
      "10:44:17 - OI2: INFO - Duplicated gene symbols in the prize file (we'll keep the max prize):\n",
      "10:44:17 - OI2: INFO - []\n",
      "10:44:17 - OI2: INFO - Members of the prize file not present in the interactome:\n",
      "10:44:17 - OI2: INFO - []\n"
     ]
    },
    {
     "name": "stdout",
     "output_type": "stream",
     "text": [
      "Progress= 0.57\n"
     ]
    },
    {
     "name": "stderr",
     "output_type": "stream",
     "text": [
      "10:44:19 - OI2: INFO - Duplicated gene symbols in the prize file (we'll keep the max prize):\n",
      "10:44:19 - OI2: INFO - []\n",
      "10:44:19 - OI2: INFO - Members of the prize file not present in the interactome:\n",
      "10:44:19 - OI2: INFO - []\n"
     ]
    },
    {
     "name": "stdout",
     "output_type": "stream",
     "text": [
      "Progress= 0.58\n"
     ]
    },
    {
     "name": "stderr",
     "output_type": "stream",
     "text": [
      "10:44:20 - OI2: INFO - Duplicated gene symbols in the prize file (we'll keep the max prize):\n",
      "10:44:20 - OI2: INFO - []\n",
      "10:44:20 - OI2: INFO - Members of the prize file not present in the interactome:\n",
      "10:44:20 - OI2: INFO - []\n"
     ]
    },
    {
     "name": "stdout",
     "output_type": "stream",
     "text": [
      "Progress= 0.59\n"
     ]
    },
    {
     "name": "stderr",
     "output_type": "stream",
     "text": [
      "10:44:21 - OI2: INFO - Duplicated gene symbols in the prize file (we'll keep the max prize):\n",
      "10:44:21 - OI2: INFO - []\n",
      "10:44:21 - OI2: INFO - Members of the prize file not present in the interactome:\n",
      "10:44:21 - OI2: INFO - []\n"
     ]
    },
    {
     "name": "stdout",
     "output_type": "stream",
     "text": [
      "Progress= 0.6\n"
     ]
    },
    {
     "name": "stderr",
     "output_type": "stream",
     "text": [
      "10:44:22 - OI2: INFO - Duplicated gene symbols in the prize file (we'll keep the max prize):\n",
      "10:44:22 - OI2: INFO - []\n",
      "10:44:22 - OI2: INFO - Members of the prize file not present in the interactome:\n",
      "10:44:22 - OI2: INFO - []\n"
     ]
    },
    {
     "name": "stdout",
     "output_type": "stream",
     "text": [
      "Progress= 0.61\n"
     ]
    },
    {
     "name": "stderr",
     "output_type": "stream",
     "text": [
      "10:44:24 - OI2: INFO - Duplicated gene symbols in the prize file (we'll keep the max prize):\n",
      "10:44:24 - OI2: INFO - []\n",
      "10:44:24 - OI2: INFO - Members of the prize file not present in the interactome:\n",
      "10:44:24 - OI2: INFO - []\n"
     ]
    },
    {
     "name": "stdout",
     "output_type": "stream",
     "text": [
      "Progress= 0.62\n"
     ]
    },
    {
     "name": "stderr",
     "output_type": "stream",
     "text": [
      "10:44:25 - OI2: INFO - Duplicated gene symbols in the prize file (we'll keep the max prize):\n",
      "10:44:25 - OI2: INFO - []\n",
      "10:44:25 - OI2: INFO - Members of the prize file not present in the interactome:\n",
      "10:44:25 - OI2: INFO - []\n"
     ]
    },
    {
     "name": "stdout",
     "output_type": "stream",
     "text": [
      "Progress= 0.63\n"
     ]
    },
    {
     "name": "stderr",
     "output_type": "stream",
     "text": [
      "10:44:26 - OI2: INFO - Duplicated gene symbols in the prize file (we'll keep the max prize):\n",
      "10:44:26 - OI2: INFO - []\n",
      "10:44:26 - OI2: INFO - Members of the prize file not present in the interactome:\n",
      "10:44:26 - OI2: INFO - []\n"
     ]
    },
    {
     "name": "stdout",
     "output_type": "stream",
     "text": [
      "Progress= 0.64\n"
     ]
    },
    {
     "name": "stderr",
     "output_type": "stream",
     "text": [
      "10:44:27 - OI2: INFO - Duplicated gene symbols in the prize file (we'll keep the max prize):\n",
      "10:44:27 - OI2: INFO - []\n",
      "10:44:27 - OI2: INFO - Members of the prize file not present in the interactome:\n",
      "10:44:27 - OI2: INFO - []\n"
     ]
    },
    {
     "name": "stdout",
     "output_type": "stream",
     "text": [
      "Progress= 0.65\n"
     ]
    },
    {
     "name": "stderr",
     "output_type": "stream",
     "text": [
      "10:44:28 - OI2: INFO - Duplicated gene symbols in the prize file (we'll keep the max prize):\n",
      "10:44:28 - OI2: INFO - []\n",
      "10:44:29 - OI2: INFO - Members of the prize file not present in the interactome:\n",
      "10:44:29 - OI2: INFO - []\n"
     ]
    },
    {
     "name": "stdout",
     "output_type": "stream",
     "text": [
      "Progress= 0.66\n"
     ]
    },
    {
     "name": "stderr",
     "output_type": "stream",
     "text": [
      "10:44:30 - OI2: INFO - Duplicated gene symbols in the prize file (we'll keep the max prize):\n",
      "10:44:30 - OI2: INFO - []\n",
      "10:44:30 - OI2: INFO - Members of the prize file not present in the interactome:\n",
      "10:44:30 - OI2: INFO - []\n"
     ]
    },
    {
     "name": "stdout",
     "output_type": "stream",
     "text": [
      "Progress= 0.67\n"
     ]
    },
    {
     "name": "stderr",
     "output_type": "stream",
     "text": [
      "10:44:31 - OI2: INFO - Duplicated gene symbols in the prize file (we'll keep the max prize):\n",
      "10:44:31 - OI2: INFO - []\n",
      "10:44:31 - OI2: INFO - Members of the prize file not present in the interactome:\n",
      "10:44:31 - OI2: INFO - []\n"
     ]
    },
    {
     "name": "stdout",
     "output_type": "stream",
     "text": [
      "Progress= 0.68\n"
     ]
    },
    {
     "name": "stderr",
     "output_type": "stream",
     "text": [
      "10:44:32 - OI2: INFO - Duplicated gene symbols in the prize file (we'll keep the max prize):\n",
      "10:44:32 - OI2: INFO - []\n",
      "10:44:32 - OI2: INFO - Members of the prize file not present in the interactome:\n",
      "10:44:32 - OI2: INFO - []\n"
     ]
    },
    {
     "name": "stdout",
     "output_type": "stream",
     "text": [
      "Progress= 0.69\n"
     ]
    },
    {
     "name": "stderr",
     "output_type": "stream",
     "text": [
      "10:44:34 - OI2: INFO - Duplicated gene symbols in the prize file (we'll keep the max prize):\n",
      "10:44:34 - OI2: INFO - []\n",
      "10:44:34 - OI2: INFO - Members of the prize file not present in the interactome:\n",
      "10:44:34 - OI2: INFO - []\n"
     ]
    },
    {
     "name": "stdout",
     "output_type": "stream",
     "text": [
      "Progress= 0.7\n"
     ]
    },
    {
     "name": "stderr",
     "output_type": "stream",
     "text": [
      "10:44:35 - OI2: INFO - Duplicated gene symbols in the prize file (we'll keep the max prize):\n",
      "10:44:35 - OI2: INFO - []\n",
      "10:44:35 - OI2: INFO - Members of the prize file not present in the interactome:\n",
      "10:44:35 - OI2: INFO - []\n"
     ]
    },
    {
     "name": "stdout",
     "output_type": "stream",
     "text": [
      "Progress= 0.71\n"
     ]
    },
    {
     "name": "stderr",
     "output_type": "stream",
     "text": [
      "10:44:36 - OI2: INFO - Duplicated gene symbols in the prize file (we'll keep the max prize):\n",
      "10:44:36 - OI2: INFO - []\n",
      "10:44:36 - OI2: INFO - Members of the prize file not present in the interactome:\n",
      "10:44:36 - OI2: INFO - []\n"
     ]
    },
    {
     "name": "stdout",
     "output_type": "stream",
     "text": [
      "Progress= 0.72\n"
     ]
    },
    {
     "name": "stderr",
     "output_type": "stream",
     "text": [
      "10:44:37 - OI2: INFO - Duplicated gene symbols in the prize file (we'll keep the max prize):\n",
      "10:44:37 - OI2: INFO - []\n",
      "10:44:37 - OI2: INFO - Members of the prize file not present in the interactome:\n",
      "10:44:37 - OI2: INFO - []\n"
     ]
    },
    {
     "name": "stdout",
     "output_type": "stream",
     "text": [
      "Progress= 0.73\n"
     ]
    },
    {
     "name": "stderr",
     "output_type": "stream",
     "text": [
      "10:44:38 - OI2: INFO - Duplicated gene symbols in the prize file (we'll keep the max prize):\n",
      "10:44:38 - OI2: INFO - []\n",
      "10:44:38 - OI2: INFO - Members of the prize file not present in the interactome:\n",
      "10:44:38 - OI2: INFO - []\n"
     ]
    },
    {
     "name": "stdout",
     "output_type": "stream",
     "text": [
      "Progress= 0.74\n"
     ]
    },
    {
     "name": "stderr",
     "output_type": "stream",
     "text": [
      "10:44:40 - OI2: INFO - Duplicated gene symbols in the prize file (we'll keep the max prize):\n",
      "10:44:40 - OI2: INFO - []\n",
      "10:44:40 - OI2: INFO - Members of the prize file not present in the interactome:\n",
      "10:44:40 - OI2: INFO - []\n"
     ]
    },
    {
     "name": "stdout",
     "output_type": "stream",
     "text": [
      "Progress= 0.75\n"
     ]
    },
    {
     "name": "stderr",
     "output_type": "stream",
     "text": [
      "10:44:41 - OI2: INFO - Duplicated gene symbols in the prize file (we'll keep the max prize):\n",
      "10:44:41 - OI2: INFO - []\n",
      "10:44:41 - OI2: INFO - Members of the prize file not present in the interactome:\n",
      "10:44:41 - OI2: INFO - []\n"
     ]
    },
    {
     "name": "stdout",
     "output_type": "stream",
     "text": [
      "Progress= 0.76\n"
     ]
    },
    {
     "name": "stderr",
     "output_type": "stream",
     "text": [
      "10:44:42 - OI2: INFO - Duplicated gene symbols in the prize file (we'll keep the max prize):\n",
      "10:44:42 - OI2: INFO - []\n",
      "10:44:42 - OI2: INFO - Members of the prize file not present in the interactome:\n",
      "10:44:42 - OI2: INFO - []\n"
     ]
    },
    {
     "name": "stdout",
     "output_type": "stream",
     "text": [
      "Progress= 0.77\n"
     ]
    },
    {
     "name": "stderr",
     "output_type": "stream",
     "text": [
      "10:44:43 - OI2: INFO - Duplicated gene symbols in the prize file (we'll keep the max prize):\n",
      "10:44:43 - OI2: INFO - []\n",
      "10:44:43 - OI2: INFO - Members of the prize file not present in the interactome:\n",
      "10:44:43 - OI2: INFO - []\n"
     ]
    },
    {
     "name": "stdout",
     "output_type": "stream",
     "text": [
      "Progress= 0.78\n"
     ]
    },
    {
     "name": "stderr",
     "output_type": "stream",
     "text": [
      "10:44:45 - OI2: INFO - Duplicated gene symbols in the prize file (we'll keep the max prize):\n",
      "10:44:45 - OI2: INFO - []\n",
      "10:44:45 - OI2: INFO - Members of the prize file not present in the interactome:\n",
      "10:44:45 - OI2: INFO - []\n"
     ]
    },
    {
     "name": "stdout",
     "output_type": "stream",
     "text": [
      "Progress= 0.79\n"
     ]
    },
    {
     "name": "stderr",
     "output_type": "stream",
     "text": [
      "10:44:46 - OI2: INFO - Duplicated gene symbols in the prize file (we'll keep the max prize):\n",
      "10:44:46 - OI2: INFO - []\n",
      "10:44:46 - OI2: INFO - Members of the prize file not present in the interactome:\n",
      "10:44:46 - OI2: INFO - []\n"
     ]
    },
    {
     "name": "stdout",
     "output_type": "stream",
     "text": [
      "Progress= 0.8\n"
     ]
    },
    {
     "name": "stderr",
     "output_type": "stream",
     "text": [
      "10:44:47 - OI2: INFO - Duplicated gene symbols in the prize file (we'll keep the max prize):\n",
      "10:44:47 - OI2: INFO - []\n",
      "10:44:47 - OI2: INFO - Members of the prize file not present in the interactome:\n",
      "10:44:47 - OI2: INFO - []\n"
     ]
    },
    {
     "name": "stdout",
     "output_type": "stream",
     "text": [
      "Progress= 0.81\n"
     ]
    },
    {
     "name": "stderr",
     "output_type": "stream",
     "text": [
      "10:44:48 - OI2: INFO - Duplicated gene symbols in the prize file (we'll keep the max prize):\n",
      "10:44:48 - OI2: INFO - []\n",
      "10:44:48 - OI2: INFO - Members of the prize file not present in the interactome:\n",
      "10:44:48 - OI2: INFO - []\n"
     ]
    },
    {
     "name": "stdout",
     "output_type": "stream",
     "text": [
      "Progress= 0.82\n"
     ]
    },
    {
     "name": "stderr",
     "output_type": "stream",
     "text": [
      "10:44:50 - OI2: INFO - Duplicated gene symbols in the prize file (we'll keep the max prize):\n",
      "10:44:50 - OI2: INFO - []\n",
      "10:44:50 - OI2: INFO - Members of the prize file not present in the interactome:\n",
      "10:44:50 - OI2: INFO - []\n"
     ]
    },
    {
     "name": "stdout",
     "output_type": "stream",
     "text": [
      "Progress= 0.83\n"
     ]
    },
    {
     "name": "stderr",
     "output_type": "stream",
     "text": [
      "10:44:51 - OI2: INFO - Duplicated gene symbols in the prize file (we'll keep the max prize):\n",
      "10:44:51 - OI2: INFO - []\n",
      "10:44:51 - OI2: INFO - Members of the prize file not present in the interactome:\n",
      "10:44:51 - OI2: INFO - []\n"
     ]
    },
    {
     "name": "stdout",
     "output_type": "stream",
     "text": [
      "Progress= 0.84\n"
     ]
    },
    {
     "name": "stderr",
     "output_type": "stream",
     "text": [
      "10:44:52 - OI2: INFO - Duplicated gene symbols in the prize file (we'll keep the max prize):\n",
      "10:44:52 - OI2: INFO - []\n",
      "10:44:52 - OI2: INFO - Members of the prize file not present in the interactome:\n",
      "10:44:52 - OI2: INFO - []\n"
     ]
    },
    {
     "name": "stdout",
     "output_type": "stream",
     "text": [
      "Progress= 0.85\n"
     ]
    },
    {
     "name": "stderr",
     "output_type": "stream",
     "text": [
      "10:44:53 - OI2: INFO - Duplicated gene symbols in the prize file (we'll keep the max prize):\n",
      "10:44:53 - OI2: INFO - []\n",
      "10:44:53 - OI2: INFO - Members of the prize file not present in the interactome:\n",
      "10:44:53 - OI2: INFO - []\n"
     ]
    },
    {
     "name": "stdout",
     "output_type": "stream",
     "text": [
      "Progress= 0.86\n"
     ]
    },
    {
     "name": "stderr",
     "output_type": "stream",
     "text": [
      "10:44:55 - OI2: INFO - Duplicated gene symbols in the prize file (we'll keep the max prize):\n",
      "10:44:55 - OI2: INFO - []\n",
      "10:44:55 - OI2: INFO - Members of the prize file not present in the interactome:\n",
      "10:44:55 - OI2: INFO - []\n"
     ]
    },
    {
     "name": "stdout",
     "output_type": "stream",
     "text": [
      "Progress= 0.87\n"
     ]
    },
    {
     "name": "stderr",
     "output_type": "stream",
     "text": [
      "10:44:56 - OI2: INFO - Duplicated gene symbols in the prize file (we'll keep the max prize):\n",
      "10:44:56 - OI2: INFO - []\n",
      "10:44:56 - OI2: INFO - Members of the prize file not present in the interactome:\n",
      "10:44:56 - OI2: INFO - []\n"
     ]
    },
    {
     "name": "stdout",
     "output_type": "stream",
     "text": [
      "Progress= 0.88\n"
     ]
    },
    {
     "name": "stderr",
     "output_type": "stream",
     "text": [
      "10:44:57 - OI2: INFO - Duplicated gene symbols in the prize file (we'll keep the max prize):\n",
      "10:44:57 - OI2: INFO - []\n",
      "10:44:57 - OI2: INFO - Members of the prize file not present in the interactome:\n",
      "10:44:57 - OI2: INFO - []\n"
     ]
    },
    {
     "name": "stdout",
     "output_type": "stream",
     "text": [
      "Progress= 0.89\n"
     ]
    },
    {
     "name": "stderr",
     "output_type": "stream",
     "text": [
      "10:44:58 - OI2: INFO - Duplicated gene symbols in the prize file (we'll keep the max prize):\n",
      "10:44:58 - OI2: INFO - []\n",
      "10:44:58 - OI2: INFO - Members of the prize file not present in the interactome:\n",
      "10:44:58 - OI2: INFO - []\n"
     ]
    },
    {
     "name": "stdout",
     "output_type": "stream",
     "text": [
      "Progress= 0.9\n"
     ]
    },
    {
     "name": "stderr",
     "output_type": "stream",
     "text": [
      "10:45:00 - OI2: INFO - Duplicated gene symbols in the prize file (we'll keep the max prize):\n",
      "10:45:00 - OI2: INFO - []\n",
      "10:45:00 - OI2: INFO - Members of the prize file not present in the interactome:\n",
      "10:45:00 - OI2: INFO - []\n"
     ]
    },
    {
     "name": "stdout",
     "output_type": "stream",
     "text": [
      "Progress= 0.91\n"
     ]
    },
    {
     "name": "stderr",
     "output_type": "stream",
     "text": [
      "10:45:01 - OI2: INFO - Duplicated gene symbols in the prize file (we'll keep the max prize):\n",
      "10:45:01 - OI2: INFO - []\n",
      "10:45:01 - OI2: INFO - Members of the prize file not present in the interactome:\n",
      "10:45:01 - OI2: INFO - []\n"
     ]
    },
    {
     "name": "stdout",
     "output_type": "stream",
     "text": [
      "Progress= 0.92\n"
     ]
    },
    {
     "name": "stderr",
     "output_type": "stream",
     "text": [
      "10:45:02 - OI2: INFO - Duplicated gene symbols in the prize file (we'll keep the max prize):\n",
      "10:45:02 - OI2: INFO - []\n",
      "10:45:02 - OI2: INFO - Members of the prize file not present in the interactome:\n",
      "10:45:02 - OI2: INFO - []\n"
     ]
    },
    {
     "name": "stdout",
     "output_type": "stream",
     "text": [
      "Progress= 0.93\n"
     ]
    },
    {
     "name": "stderr",
     "output_type": "stream",
     "text": [
      "10:45:03 - OI2: INFO - Duplicated gene symbols in the prize file (we'll keep the max prize):\n",
      "10:45:03 - OI2: INFO - []\n",
      "10:45:03 - OI2: INFO - Members of the prize file not present in the interactome:\n",
      "10:45:03 - OI2: INFO - []\n"
     ]
    },
    {
     "name": "stdout",
     "output_type": "stream",
     "text": [
      "Progress= 0.94\n"
     ]
    },
    {
     "name": "stderr",
     "output_type": "stream",
     "text": [
      "10:45:04 - OI2: INFO - Duplicated gene symbols in the prize file (we'll keep the max prize):\n",
      "10:45:04 - OI2: INFO - []\n",
      "10:45:04 - OI2: INFO - Members of the prize file not present in the interactome:\n",
      "10:45:04 - OI2: INFO - []\n"
     ]
    },
    {
     "name": "stdout",
     "output_type": "stream",
     "text": [
      "Progress= 0.95\n"
     ]
    },
    {
     "name": "stderr",
     "output_type": "stream",
     "text": [
      "10:45:06 - OI2: INFO - Duplicated gene symbols in the prize file (we'll keep the max prize):\n",
      "10:45:06 - OI2: INFO - []\n",
      "10:45:06 - OI2: INFO - Members of the prize file not present in the interactome:\n",
      "10:45:06 - OI2: INFO - []\n"
     ]
    },
    {
     "name": "stdout",
     "output_type": "stream",
     "text": [
      "Progress= 0.96\n"
     ]
    },
    {
     "name": "stderr",
     "output_type": "stream",
     "text": [
      "10:45:07 - OI2: INFO - Duplicated gene symbols in the prize file (we'll keep the max prize):\n",
      "10:45:07 - OI2: INFO - []\n",
      "10:45:07 - OI2: INFO - Members of the prize file not present in the interactome:\n",
      "10:45:07 - OI2: INFO - []\n"
     ]
    },
    {
     "name": "stdout",
     "output_type": "stream",
     "text": [
      "Progress= 0.97\n"
     ]
    },
    {
     "name": "stderr",
     "output_type": "stream",
     "text": [
      "10:45:08 - OI2: INFO - Duplicated gene symbols in the prize file (we'll keep the max prize):\n",
      "10:45:08 - OI2: INFO - []\n",
      "10:45:08 - OI2: INFO - Members of the prize file not present in the interactome:\n",
      "10:45:08 - OI2: INFO - []\n"
     ]
    },
    {
     "name": "stdout",
     "output_type": "stream",
     "text": [
      "Progress= 0.98\n"
     ]
    },
    {
     "name": "stderr",
     "output_type": "stream",
     "text": [
      "10:45:09 - OI2: INFO - Duplicated gene symbols in the prize file (we'll keep the max prize):\n",
      "10:45:09 - OI2: INFO - []\n",
      "10:45:09 - OI2: INFO - Members of the prize file not present in the interactome:\n",
      "10:45:09 - OI2: INFO - []\n"
     ]
    },
    {
     "name": "stdout",
     "output_type": "stream",
     "text": [
      "Progress= 0.99\n"
     ]
    },
    {
     "name": "stderr",
     "output_type": "stream",
     "text": [
      "10:45:10 - OI2: INFO - Duplicated gene symbols in the prize file (we'll keep the max prize):\n",
      "10:45:10 - OI2: INFO - []\n",
      "10:45:10 - OI2: INFO - Members of the prize file not present in the interactome:\n",
      "10:45:10 - OI2: INFO - []\n"
     ]
    },
    {
     "name": "stdout",
     "output_type": "stream",
     "text": [
      "Progress= 1.0\n"
     ]
    }
   ],
   "source": [
    "# Run sensitivity analysis\n",
    "networks_dict = sensitivity.run_sensitivity_analysis(interactome_file_name, \n",
    "                                                     prize_file_name, \n",
    "                                                     graph_params, \n",
    "                                                     W_list, \n",
    "                                                     B_list, \n",
    "                                                     G=0)"
   ]
  },
  {
   "cell_type": "code",
   "execution_count": 25,
   "metadata": {},
   "outputs": [],
   "source": [
    "# Save as pickle\n",
    "with open(\"../Save_RandomizeGeneLabels/networks_dict.pkl\", \"wb\") as f: \n",
    "    pickle.dump(networks_dict, f)"
   ]
  },
  {
   "cell_type": "code",
   "execution_count": 16,
   "metadata": {},
   "outputs": [],
   "source": [
    "# Add metatadata\n",
    "networks_dict = pickle.load(open(\"../Save_RandomizeGeneLabels/networks_dict.pkl\", \"rb\"))\n",
    "networks_dict = sensitivity.add_metadata(networks_dict, virus_interacting_genes)"
   ]
  },
  {
   "cell_type": "code",
   "execution_count": 17,
   "metadata": {},
   "outputs": [
    {
     "data": {
      "text/html": [
       "<div>\n",
       "<style scoped>\n",
       "    .dataframe tbody tr th:only-of-type {\n",
       "        vertical-align: middle;\n",
       "    }\n",
       "\n",
       "    .dataframe tbody tr th {\n",
       "        vertical-align: top;\n",
       "    }\n",
       "\n",
       "    .dataframe thead th {\n",
       "        text-align: right;\n",
       "    }\n",
       "</style>\n",
       "<table border=\"1\" class=\"dataframe\">\n",
       "  <thead>\n",
       "    <tr style=\"text-align: right;\">\n",
       "      <th></th>\n",
       "      <th>index</th>\n",
       "      <th>w</th>\n",
       "      <th>b</th>\n",
       "      <th>g</th>\n",
       "      <th>nodes</th>\n",
       "      <th>edges</th>\n",
       "      <th>number_components</th>\n",
       "      <th>size_components</th>\n",
       "      <th>percentage_terminals</th>\n",
       "      <th>upregulated_terminals</th>\n",
       "      <th>downregulated_terminals</th>\n",
       "      <th>number_transcription_regulators</th>\n",
       "      <th>transcription_regulators</th>\n",
       "      <th>number_of_proteins_interacting_sars</th>\n",
       "      <th>proteins_interacting_sars</th>\n",
       "    </tr>\n",
       "  </thead>\n",
       "  <tbody>\n",
       "    <tr>\n",
       "      <th>w_0.2_b_10.0</th>\n",
       "      <td>1</td>\n",
       "      <td>0.2</td>\n",
       "      <td>10.0</td>\n",
       "      <td>0</td>\n",
       "      <td>161</td>\n",
       "      <td>313</td>\n",
       "      <td>37</td>\n",
       "      <td>[125, 1, 1, 1, 1, 1, 1, 1, 1, 1, 1, 1, 1, 1, 1...</td>\n",
       "      <td>1.0</td>\n",
       "      <td>68</td>\n",
       "      <td>72</td>\n",
       "      <td>8</td>\n",
       "      <td>[BACH1, EHF, ETV6, FOXS1, HOXA2, IRF2, MSX1, M...</td>\n",
       "      <td>1</td>\n",
       "      <td>[EXOSC5]</td>\n",
       "    </tr>\n",
       "    <tr>\n",
       "      <th>w_0.2_b_15.0</th>\n",
       "      <td>2</td>\n",
       "      <td>0.2</td>\n",
       "      <td>15.0</td>\n",
       "      <td>0</td>\n",
       "      <td>161</td>\n",
       "      <td>313</td>\n",
       "      <td>37</td>\n",
       "      <td>[125, 1, 1, 1, 1, 1, 1, 1, 1, 1, 1, 1, 1, 1, 1...</td>\n",
       "      <td>1.0</td>\n",
       "      <td>68</td>\n",
       "      <td>72</td>\n",
       "      <td>8</td>\n",
       "      <td>[BACH1, EHF, ETV6, FOXS1, HOXA2, IRF2, MSX1, M...</td>\n",
       "      <td>1</td>\n",
       "      <td>[EXOSC5]</td>\n",
       "    </tr>\n",
       "    <tr>\n",
       "      <th>w_0.2_b_20.0</th>\n",
       "      <td>3</td>\n",
       "      <td>0.2</td>\n",
       "      <td>20.0</td>\n",
       "      <td>0</td>\n",
       "      <td>161</td>\n",
       "      <td>313</td>\n",
       "      <td>37</td>\n",
       "      <td>[125, 1, 1, 1, 1, 1, 1, 1, 1, 1, 1, 1, 1, 1, 1...</td>\n",
       "      <td>1.0</td>\n",
       "      <td>68</td>\n",
       "      <td>72</td>\n",
       "      <td>8</td>\n",
       "      <td>[BACH1, EHF, ETV6, FOXS1, HOXA2, IRF2, MSX1, M...</td>\n",
       "      <td>1</td>\n",
       "      <td>[EXOSC5]</td>\n",
       "    </tr>\n",
       "    <tr>\n",
       "      <th>w_0.2_b_25.0</th>\n",
       "      <td>4</td>\n",
       "      <td>0.2</td>\n",
       "      <td>25.0</td>\n",
       "      <td>0</td>\n",
       "      <td>161</td>\n",
       "      <td>313</td>\n",
       "      <td>37</td>\n",
       "      <td>[125, 1, 1, 1, 1, 1, 1, 1, 1, 1, 1, 1, 1, 1, 1...</td>\n",
       "      <td>1.0</td>\n",
       "      <td>68</td>\n",
       "      <td>72</td>\n",
       "      <td>8</td>\n",
       "      <td>[BACH1, EHF, ETV6, FOXS1, HOXA2, IRF2, MSX1, M...</td>\n",
       "      <td>1</td>\n",
       "      <td>[EXOSC5]</td>\n",
       "    </tr>\n",
       "    <tr>\n",
       "      <th>w_0.2_b_30.0</th>\n",
       "      <td>5</td>\n",
       "      <td>0.2</td>\n",
       "      <td>30.0</td>\n",
       "      <td>0</td>\n",
       "      <td>161</td>\n",
       "      <td>313</td>\n",
       "      <td>37</td>\n",
       "      <td>[125, 1, 1, 1, 1, 1, 1, 1, 1, 1, 1, 1, 1, 1, 1...</td>\n",
       "      <td>1.0</td>\n",
       "      <td>68</td>\n",
       "      <td>72</td>\n",
       "      <td>8</td>\n",
       "      <td>[BACH1, EHF, ETV6, FOXS1, HOXA2, IRF2, MSX1, M...</td>\n",
       "      <td>1</td>\n",
       "      <td>[EXOSC5]</td>\n",
       "    </tr>\n",
       "  </tbody>\n",
       "</table>\n",
       "</div>"
      ],
      "text/plain": [
       "              index    w     b  g  nodes  edges  number_components  \\\n",
       "w_0.2_b_10.0      1  0.2  10.0  0    161    313                 37   \n",
       "w_0.2_b_15.0      2  0.2  15.0  0    161    313                 37   \n",
       "w_0.2_b_20.0      3  0.2  20.0  0    161    313                 37   \n",
       "w_0.2_b_25.0      4  0.2  25.0  0    161    313                 37   \n",
       "w_0.2_b_30.0      5  0.2  30.0  0    161    313                 37   \n",
       "\n",
       "                                                size_components  \\\n",
       "w_0.2_b_10.0  [125, 1, 1, 1, 1, 1, 1, 1, 1, 1, 1, 1, 1, 1, 1...   \n",
       "w_0.2_b_15.0  [125, 1, 1, 1, 1, 1, 1, 1, 1, 1, 1, 1, 1, 1, 1...   \n",
       "w_0.2_b_20.0  [125, 1, 1, 1, 1, 1, 1, 1, 1, 1, 1, 1, 1, 1, 1...   \n",
       "w_0.2_b_25.0  [125, 1, 1, 1, 1, 1, 1, 1, 1, 1, 1, 1, 1, 1, 1...   \n",
       "w_0.2_b_30.0  [125, 1, 1, 1, 1, 1, 1, 1, 1, 1, 1, 1, 1, 1, 1...   \n",
       "\n",
       "              percentage_terminals  upregulated_terminals  \\\n",
       "w_0.2_b_10.0                   1.0                     68   \n",
       "w_0.2_b_15.0                   1.0                     68   \n",
       "w_0.2_b_20.0                   1.0                     68   \n",
       "w_0.2_b_25.0                   1.0                     68   \n",
       "w_0.2_b_30.0                   1.0                     68   \n",
       "\n",
       "              downregulated_terminals  number_transcription_regulators  \\\n",
       "w_0.2_b_10.0                       72                                8   \n",
       "w_0.2_b_15.0                       72                                8   \n",
       "w_0.2_b_20.0                       72                                8   \n",
       "w_0.2_b_25.0                       72                                8   \n",
       "w_0.2_b_30.0                       72                                8   \n",
       "\n",
       "                                       transcription_regulators  \\\n",
       "w_0.2_b_10.0  [BACH1, EHF, ETV6, FOXS1, HOXA2, IRF2, MSX1, M...   \n",
       "w_0.2_b_15.0  [BACH1, EHF, ETV6, FOXS1, HOXA2, IRF2, MSX1, M...   \n",
       "w_0.2_b_20.0  [BACH1, EHF, ETV6, FOXS1, HOXA2, IRF2, MSX1, M...   \n",
       "w_0.2_b_25.0  [BACH1, EHF, ETV6, FOXS1, HOXA2, IRF2, MSX1, M...   \n",
       "w_0.2_b_30.0  [BACH1, EHF, ETV6, FOXS1, HOXA2, IRF2, MSX1, M...   \n",
       "\n",
       "              number_of_proteins_interacting_sars proteins_interacting_sars  \n",
       "w_0.2_b_10.0                                    1                  [EXOSC5]  \n",
       "w_0.2_b_15.0                                    1                  [EXOSC5]  \n",
       "w_0.2_b_20.0                                    1                  [EXOSC5]  \n",
       "w_0.2_b_25.0                                    1                  [EXOSC5]  \n",
       "w_0.2_b_30.0                                    1                  [EXOSC5]  "
      ]
     },
     "execution_count": 17,
     "metadata": {},
     "output_type": "execute_result"
    }
   ],
   "source": [
    "# Make summary\n",
    "networks_summary_df = sensitivity.make_summary(networks_dict, n_terminals, g=0)\n",
    "networks_summary_df.head()"
   ]
  },
  {
   "cell_type": "markdown",
   "metadata": {},
   "source": [
    "## Plot node stability heatmaps"
   ]
  },
  {
   "cell_type": "code",
   "execution_count": 28,
   "metadata": {},
   "outputs": [
    {
     "data": {
      "text/plain": [
       "<Figure size 432x288 with 0 Axes>"
      ]
     },
     "metadata": {},
     "output_type": "display_data"
    },
    {
     "data": {
      "image/png": "[encoded data removed]",
      "text/plain": [
       "<Figure size 288x288 with 2 Axes>"
      ]
     },
     "metadata": {
      "needs_background": "light"
     },
     "output_type": "display_data"
    }
   ],
   "source": [
    "# Stability of selected nodes\n",
    "mat_allnodes = sensitivity.create_matrix_gene_overlap_between_networks(networks_summary_df, networks_dict)\n",
    "plt.figure()\n",
    "plt.matshow(mat_allnodes)\n",
    "plt.xlabel('networks')\n",
    "plt.ylabel('networks')\n",
    "plt.title('Nodes stability')\n",
    "plt.colorbar()\n",
    "plt.show()"
   ]
  },
  {
   "cell_type": "code",
   "execution_count": 29,
   "metadata": {},
   "outputs": [
    {
     "data": {
      "text/plain": [
       "<Figure size 432x288 with 0 Axes>"
      ]
     },
     "metadata": {},
     "output_type": "display_data"
    },
    {
     "data": {
      "image/png": "[encoded data removed]",
      "text/plain": [
       "<Figure size 288x288 with 2 Axes>"
      ]
     },
     "metadata": {
      "needs_background": "light"
     },
     "output_type": "display_data"
    }
   ],
   "source": [
    "# Stability of selected terminals\n",
    "mat_terminals = sensitivity.create_matrix_terminal_overlap_between_networks(networks_summary_df, networks_dict)\n",
    "plt.figure()\n",
    "plt.matshow(mat_terminals)\n",
    "plt.xlabel('networks')\n",
    "plt.ylabel('networks')\n",
    "plt.title('Terminals stability')\n",
    "plt.colorbar()\n",
    "plt.show()"
   ]
  },
  {
   "cell_type": "code",
   "execution_count": 30,
   "metadata": {},
   "outputs": [
    {
     "data": {
      "text/plain": [
       "<Figure size 432x288 with 0 Axes>"
      ]
     },
     "metadata": {},
     "output_type": "display_data"
    },
    {
     "data": {
      "image/png": "[encoded data removed]",
      "text/plain": [
       "<Figure size 288x288 with 2 Axes>"
      ]
     },
     "metadata": {
      "needs_background": "light"
     },
     "output_type": "display_data"
    }
   ],
   "source": [
    "# Stability of selected SARS-Cov-2 partners\n",
    "mat_sars = sensitivity.create_matrix_sars_overlap_between_networks(networks_summary_df, networks_dict)\n",
    "plt.figure()\n",
    "plt.matshow(mat_sars)\n",
    "plt.xlabel('networks')\n",
    "plt.ylabel('networks')\n",
    "plt.title('SARS-Cov-2 partners stability')\n",
    "plt.colorbar()\n",
    "plt.show()"
   ]
  },
  {
   "cell_type": "markdown",
   "metadata": {},
   "source": [
    "## Select robust parameters"
   ]
  },
  {
   "cell_type": "code",
   "execution_count": 18,
   "metadata": {},
   "outputs": [],
   "source": [
    "# Select network corresponding to g=0, w=1.4 and b=40\n",
    "index_selected = 67\n",
    "paramstring_selected = networks_summary_df[networks_summary_df['index']==index_selected].index[0]\n",
    "network_selected = networks_dict[paramstring_selected]"
   ]
  },
  {
   "cell_type": "code",
   "execution_count": 19,
   "metadata": {},
   "outputs": [
    {
     "data": {
      "text/plain": [
       "PosixPath('/home/louiscam/projects/sars_cov_2/Save_RandomizeGeneLabels/network_selected.pickle')"
      ]
     },
     "execution_count": 19,
     "metadata": {},
     "output_type": "execute_result"
    }
   ],
   "source": [
    "# Save selected network to file\n",
    "oi.output_networkx_graph_as_interactive_html(network_selected, filename=\"../Save_RandomizeGeneLabels/network_selected.html\")\n",
    "oi.output_networkx_graph_as_pickle(network_selected, filename= '../Save_RandomizeGeneLabels/network_selected.pickle')\n",
    "#oi.output_networkx_graph_as_graphml_for_cytoscape(robust_network, filename= '../Save_RandomizeGeneLabels/network_selected.graphml')"
   ]
  },
  {
   "cell_type": "markdown",
   "metadata": {},
   "source": [
    "# Sensitivity analysis for virus partners prize"
   ]
  },
  {
   "cell_type": "markdown",
   "metadata": {},
   "source": [
    "## Run sensitivity analysis"
   ]
  },
  {
   "cell_type": "code",
   "execution_count": 33,
   "metadata": {},
   "outputs": [
    {
     "name": "stdout",
     "output_type": "stream",
     "text": [
      "{'EXOSC5'}\n"
     ]
    }
   ],
   "source": [
    "# Identify which SARS-Cov-2 partners are in the terminal list\n",
    "terminal_partners = set(terminals).intersection(virus_interacting_genes)\n",
    "print(terminal_partners)"
   ]
  },
  {
   "cell_type": "code",
   "execution_count": 34,
   "metadata": {
    "scrolled": true
   },
   "outputs": [
    {
     "name": "stderr",
     "output_type": "stream",
     "text": [
      "10:47:23 - OI2: INFO - Duplicated gene symbols in the prize file (we'll keep the max prize):\n",
      "10:47:23 - OI2: INFO - []\n",
      "10:47:23 - OI2: INFO - Members of the prize file not present in the interactome:\n",
      "10:47:23 - OI2: INFO - ['ATP5MG', 'CEP43', 'COQ8B', 'ELOB', 'ELOC', 'ERO1B', 'HS2ST1', 'HS6ST2', 'MTARC1', 'NARS2', 'NSD2', 'NUP58', 'POGLUT2', 'POGLUT3', 'RETREG3', 'SELENOS', 'SPART', 'TIMM29', 'TLE5', 'TOMM70', 'WASHC4']\n"
     ]
    },
    {
     "name": "stdout",
     "output_type": "stream",
     "text": [
      "Progress= 0.0625\n"
     ]
    },
    {
     "name": "stderr",
     "output_type": "stream",
     "text": [
      "10:47:25 - OI2: INFO - Duplicated gene symbols in the prize file (we'll keep the max prize):\n",
      "10:47:25 - OI2: INFO - []\n",
      "10:47:25 - OI2: INFO - Members of the prize file not present in the interactome:\n",
      "10:47:25 - OI2: INFO - ['ATP5MG', 'CEP43', 'COQ8B', 'ELOB', 'ELOC', 'ERO1B', 'HS2ST1', 'HS6ST2', 'MTARC1', 'NARS2', 'NSD2', 'NUP58', 'POGLUT2', 'POGLUT3', 'RETREG3', 'SELENOS', 'SPART', 'TIMM29', 'TLE5', 'TOMM70', 'WASHC4']\n"
     ]
    },
    {
     "name": "stdout",
     "output_type": "stream",
     "text": [
      "Progress= 0.125\n"
     ]
    },
    {
     "name": "stderr",
     "output_type": "stream",
     "text": [
      "10:47:26 - OI2: INFO - Duplicated gene symbols in the prize file (we'll keep the max prize):\n",
      "10:47:26 - OI2: INFO - []\n",
      "10:47:26 - OI2: INFO - Members of the prize file not present in the interactome:\n",
      "10:47:26 - OI2: INFO - ['ATP5MG', 'CEP43', 'COQ8B', 'ELOB', 'ELOC', 'ERO1B', 'HS2ST1', 'HS6ST2', 'MTARC1', 'NARS2', 'NSD2', 'NUP58', 'POGLUT2', 'POGLUT3', 'RETREG3', 'SELENOS', 'SPART', 'TIMM29', 'TLE5', 'TOMM70', 'WASHC4']\n"
     ]
    },
    {
     "name": "stdout",
     "output_type": "stream",
     "text": [
      "Progress= 0.1875\n"
     ]
    },
    {
     "name": "stderr",
     "output_type": "stream",
     "text": [
      "10:47:28 - OI2: INFO - Duplicated gene symbols in the prize file (we'll keep the max prize):\n",
      "10:47:28 - OI2: INFO - []\n",
      "10:47:28 - OI2: INFO - Members of the prize file not present in the interactome:\n",
      "10:47:28 - OI2: INFO - ['ATP5MG', 'CEP43', 'COQ8B', 'ELOB', 'ELOC', 'ERO1B', 'HS2ST1', 'HS6ST2', 'MTARC1', 'NARS2', 'NSD2', 'NUP58', 'POGLUT2', 'POGLUT3', 'RETREG3', 'SELENOS', 'SPART', 'TIMM29', 'TLE5', 'TOMM70', 'WASHC4']\n"
     ]
    },
    {
     "name": "stdout",
     "output_type": "stream",
     "text": [
      "Progress= 0.25\n"
     ]
    },
    {
     "name": "stderr",
     "output_type": "stream",
     "text": [
      "10:47:30 - OI2: INFO - Duplicated gene symbols in the prize file (we'll keep the max prize):\n",
      "10:47:30 - OI2: INFO - []\n",
      "10:47:30 - OI2: INFO - Members of the prize file not present in the interactome:\n",
      "10:47:30 - OI2: INFO - ['ATP5MG', 'CEP43', 'COQ8B', 'ELOB', 'ELOC', 'ERO1B', 'HS2ST1', 'HS6ST2', 'MTARC1', 'NARS2', 'NSD2', 'NUP58', 'POGLUT2', 'POGLUT3', 'RETREG3', 'SELENOS', 'SPART', 'TIMM29', 'TLE5', 'TOMM70', 'WASHC4']\n"
     ]
    },
    {
     "name": "stdout",
     "output_type": "stream",
     "text": [
      "Progress= 0.3125\n"
     ]
    },
    {
     "name": "stderr",
     "output_type": "stream",
     "text": [
      "10:47:32 - OI2: INFO - Duplicated gene symbols in the prize file (we'll keep the max prize):\n",
      "10:47:32 - OI2: INFO - []\n",
      "10:47:32 - OI2: INFO - Members of the prize file not present in the interactome:\n",
      "10:47:32 - OI2: INFO - ['ATP5MG', 'CEP43', 'COQ8B', 'ELOB', 'ELOC', 'ERO1B', 'HS2ST1', 'HS6ST2', 'MTARC1', 'NARS2', 'NSD2', 'NUP58', 'POGLUT2', 'POGLUT3', 'RETREG3', 'SELENOS', 'SPART', 'TIMM29', 'TLE5', 'TOMM70', 'WASHC4']\n"
     ]
    },
    {
     "name": "stdout",
     "output_type": "stream",
     "text": [
      "Progress= 0.375\n"
     ]
    },
    {
     "name": "stderr",
     "output_type": "stream",
     "text": [
      "10:47:34 - OI2: INFO - Duplicated gene symbols in the prize file (we'll keep the max prize):\n",
      "10:47:34 - OI2: INFO - []\n",
      "10:47:34 - OI2: INFO - Members of the prize file not present in the interactome:\n",
      "10:47:34 - OI2: INFO - ['ATP5MG', 'CEP43', 'COQ8B', 'ELOB', 'ELOC', 'ERO1B', 'HS2ST1', 'HS6ST2', 'MTARC1', 'NARS2', 'NSD2', 'NUP58', 'POGLUT2', 'POGLUT3', 'RETREG3', 'SELENOS', 'SPART', 'TIMM29', 'TLE5', 'TOMM70', 'WASHC4']\n"
     ]
    },
    {
     "name": "stdout",
     "output_type": "stream",
     "text": [
      "Progress= 0.4375\n"
     ]
    },
    {
     "name": "stderr",
     "output_type": "stream",
     "text": [
      "10:47:36 - OI2: INFO - Duplicated gene symbols in the prize file (we'll keep the max prize):\n",
      "10:47:36 - OI2: INFO - []\n",
      "10:47:36 - OI2: INFO - Members of the prize file not present in the interactome:\n",
      "10:47:36 - OI2: INFO - ['ATP5MG', 'CEP43', 'COQ8B', 'ELOB', 'ELOC', 'ERO1B', 'HS2ST1', 'HS6ST2', 'MTARC1', 'NARS2', 'NSD2', 'NUP58', 'POGLUT2', 'POGLUT3', 'RETREG3', 'SELENOS', 'SPART', 'TIMM29', 'TLE5', 'TOMM70', 'WASHC4']\n"
     ]
    },
    {
     "name": "stdout",
     "output_type": "stream",
     "text": [
      "Progress= 0.5\n"
     ]
    },
    {
     "name": "stderr",
     "output_type": "stream",
     "text": [
      "10:47:37 - OI2: INFO - Duplicated gene symbols in the prize file (we'll keep the max prize):\n",
      "10:47:37 - OI2: INFO - []\n",
      "10:47:37 - OI2: INFO - Members of the prize file not present in the interactome:\n",
      "10:47:37 - OI2: INFO - ['ATP5MG', 'CEP43', 'COQ8B', 'ELOB', 'ELOC', 'ERO1B', 'HS2ST1', 'HS6ST2', 'MTARC1', 'NARS2', 'NSD2', 'NUP58', 'POGLUT2', 'POGLUT3', 'RETREG3', 'SELENOS', 'SPART', 'TIMM29', 'TLE5', 'TOMM70', 'WASHC4']\n"
     ]
    },
    {
     "name": "stdout",
     "output_type": "stream",
     "text": [
      "Progress= 0.5625\n"
     ]
    },
    {
     "name": "stderr",
     "output_type": "stream",
     "text": [
      "10:47:39 - OI2: INFO - Duplicated gene symbols in the prize file (we'll keep the max prize):\n",
      "10:47:39 - OI2: INFO - []\n",
      "10:47:39 - OI2: INFO - Members of the prize file not present in the interactome:\n",
      "10:47:39 - OI2: INFO - ['ATP5MG', 'CEP43', 'COQ8B', 'ELOB', 'ELOC', 'ERO1B', 'HS2ST1', 'HS6ST2', 'MTARC1', 'NARS2', 'NSD2', 'NUP58', 'POGLUT2', 'POGLUT3', 'RETREG3', 'SELENOS', 'SPART', 'TIMM29', 'TLE5', 'TOMM70', 'WASHC4']\n"
     ]
    },
    {
     "name": "stdout",
     "output_type": "stream",
     "text": [
      "Progress= 0.625\n"
     ]
    },
    {
     "name": "stderr",
     "output_type": "stream",
     "text": [
      "10:47:41 - OI2: INFO - Duplicated gene symbols in the prize file (we'll keep the max prize):\n",
      "10:47:41 - OI2: INFO - []\n",
      "10:47:41 - OI2: INFO - Members of the prize file not present in the interactome:\n",
      "10:47:41 - OI2: INFO - ['ATP5MG', 'CEP43', 'COQ8B', 'ELOB', 'ELOC', 'ERO1B', 'HS2ST1', 'HS6ST2', 'MTARC1', 'NARS2', 'NSD2', 'NUP58', 'POGLUT2', 'POGLUT3', 'RETREG3', 'SELENOS', 'SPART', 'TIMM29', 'TLE5', 'TOMM70', 'WASHC4']\n"
     ]
    },
    {
     "name": "stdout",
     "output_type": "stream",
     "text": [
      "Progress= 0.6875\n"
     ]
    },
    {
     "name": "stderr",
     "output_type": "stream",
     "text": [
      "10:47:43 - OI2: INFO - Duplicated gene symbols in the prize file (we'll keep the max prize):\n",
      "10:47:43 - OI2: INFO - []\n",
      "10:47:43 - OI2: INFO - Members of the prize file not present in the interactome:\n",
      "10:47:43 - OI2: INFO - ['ATP5MG', 'CEP43', 'COQ8B', 'ELOB', 'ELOC', 'ERO1B', 'HS2ST1', 'HS6ST2', 'MTARC1', 'NARS2', 'NSD2', 'NUP58', 'POGLUT2', 'POGLUT3', 'RETREG3', 'SELENOS', 'SPART', 'TIMM29', 'TLE5', 'TOMM70', 'WASHC4']\n"
     ]
    },
    {
     "name": "stdout",
     "output_type": "stream",
     "text": [
      "Progress= 0.75\n"
     ]
    },
    {
     "name": "stderr",
     "output_type": "stream",
     "text": [
      "10:47:45 - OI2: INFO - Duplicated gene symbols in the prize file (we'll keep the max prize):\n",
      "10:47:45 - OI2: INFO - []\n",
      "10:47:45 - OI2: INFO - Members of the prize file not present in the interactome:\n",
      "10:47:45 - OI2: INFO - ['ATP5MG', 'CEP43', 'COQ8B', 'ELOB', 'ELOC', 'ERO1B', 'HS2ST1', 'HS6ST2', 'MTARC1', 'NARS2', 'NSD2', 'NUP58', 'POGLUT2', 'POGLUT3', 'RETREG3', 'SELENOS', 'SPART', 'TIMM29', 'TLE5', 'TOMM70', 'WASHC4']\n"
     ]
    },
    {
     "name": "stdout",
     "output_type": "stream",
     "text": [
      "Progress= 0.8125\n"
     ]
    },
    {
     "name": "stderr",
     "output_type": "stream",
     "text": [
      "10:47:46 - OI2: INFO - Duplicated gene symbols in the prize file (we'll keep the max prize):\n",
      "10:47:46 - OI2: INFO - []\n",
      "10:47:46 - OI2: INFO - Members of the prize file not present in the interactome:\n",
      "10:47:46 - OI2: INFO - ['ATP5MG', 'CEP43', 'COQ8B', 'ELOB', 'ELOC', 'ERO1B', 'HS2ST1', 'HS6ST2', 'MTARC1', 'NARS2', 'NSD2', 'NUP58', 'POGLUT2', 'POGLUT3', 'RETREG3', 'SELENOS', 'SPART', 'TIMM29', 'TLE5', 'TOMM70', 'WASHC4']\n"
     ]
    },
    {
     "name": "stdout",
     "output_type": "stream",
     "text": [
      "Progress= 0.875\n"
     ]
    },
    {
     "name": "stderr",
     "output_type": "stream",
     "text": [
      "10:47:48 - OI2: INFO - Duplicated gene symbols in the prize file (we'll keep the max prize):\n",
      "10:47:48 - OI2: INFO - []\n",
      "10:47:48 - OI2: INFO - Members of the prize file not present in the interactome:\n",
      "10:47:48 - OI2: INFO - ['ATP5MG', 'CEP43', 'COQ8B', 'ELOB', 'ELOC', 'ERO1B', 'HS2ST1', 'HS6ST2', 'MTARC1', 'NARS2', 'NSD2', 'NUP58', 'POGLUT2', 'POGLUT3', 'RETREG3', 'SELENOS', 'SPART', 'TIMM29', 'TLE5', 'TOMM70', 'WASHC4']\n"
     ]
    },
    {
     "name": "stdout",
     "output_type": "stream",
     "text": [
      "Progress= 0.9375\n"
     ]
    },
    {
     "name": "stderr",
     "output_type": "stream",
     "text": [
      "10:47:50 - OI2: INFO - Duplicated gene symbols in the prize file (we'll keep the max prize):\n",
      "10:47:50 - OI2: INFO - []\n",
      "10:47:50 - OI2: INFO - Members of the prize file not present in the interactome:\n",
      "10:47:50 - OI2: INFO - ['ATP5MG', 'CEP43', 'COQ8B', 'ELOB', 'ELOC', 'ERO1B', 'HS2ST1', 'HS6ST2', 'MTARC1', 'NARS2', 'NSD2', 'NUP58', 'POGLUT2', 'POGLUT3', 'RETREG3', 'SELENOS', 'SPART', 'TIMM29', 'TLE5', 'TOMM70', 'WASHC4']\n"
     ]
    },
    {
     "name": "stdout",
     "output_type": "stream",
     "text": [
      "Progress= 1.0\n"
     ]
    }
   ],
   "source": [
    "# Run sensitivity analysis\n",
    "interactome_file_name = \"../Data/iRefIndex_v14_MIScore_interactome_C9.costs.allcaps.txt\"\n",
    "prize_file_name = \"../Save_RandomizeGeneLabels/terminals_ppi_analysis.tsv\"\n",
    "# Graph hyperparameters\n",
    "graph_params =  {\n",
    "                \"noise\": 0.0, \n",
    "                \"dummy_mode\": \"terminals\", \n",
    "                \"exclude_terminals\": False, \n",
    "                \"seed\": 1,\n",
    "                \"pruning\": 'strong',\n",
    "                \"verbosity_level\": 0,\n",
    "                \"w\": 1.4,\n",
    "                \"b\": 40,\n",
    "                \"g\": 0\n",
    "                }\n",
    "# List of values of P\n",
    "P_list = np.arange(0,0.0016,0.0001)\n",
    "\n",
    "networks_dict = svp.run_prize_sensitivity_analysis(interactome_file_name, \n",
    "                                                   prize_file_name, \n",
    "                                                   graph_params, \n",
    "                                                   virus_interacting_genes, \n",
    "                                                   terminal_partners, \n",
    "                                                   P_list)"
   ]
  },
  {
   "cell_type": "code",
   "execution_count": 35,
   "metadata": {},
   "outputs": [],
   "source": [
    "# Save as pickle\n",
    "with open(\"../Save_RandomizeGeneLabels/networks_dict_sarspartners.pkl\", \"wb\") as f: \n",
    "    pickle.dump(networks_dict, f)"
   ]
  },
  {
   "cell_type": "code",
   "execution_count": 36,
   "metadata": {},
   "outputs": [],
   "source": [
    "# Add metadata\n",
    "networks_dict = pickle.load(open(\"../Save_RandomizeGeneLabels/networks_dict_sarspartners.pkl\", \"rb\"))\n",
    "networks_dict = svp.add_metadata(networks_dict, virus_interacting_genes)"
   ]
  },
  {
   "cell_type": "code",
   "execution_count": 37,
   "metadata": {},
   "outputs": [
    {
     "data": {
      "text/html": [
       "<div>\n",
       "<style scoped>\n",
       "    .dataframe tbody tr th:only-of-type {\n",
       "        vertical-align: middle;\n",
       "    }\n",
       "\n",
       "    .dataframe tbody tr th {\n",
       "        vertical-align: top;\n",
       "    }\n",
       "\n",
       "    .dataframe thead th {\n",
       "        text-align: right;\n",
       "    }\n",
       "</style>\n",
       "<table border=\"1\" class=\"dataframe\">\n",
       "  <thead>\n",
       "    <tr style=\"text-align: right;\">\n",
       "      <th></th>\n",
       "      <th>index</th>\n",
       "      <th>p</th>\n",
       "      <th>nodes</th>\n",
       "      <th>edges</th>\n",
       "      <th>number_components</th>\n",
       "      <th>size_components</th>\n",
       "      <th>percentage_terminals</th>\n",
       "      <th>transcription_regulators</th>\n",
       "      <th>number_of_proteins_interacting_sars</th>\n",
       "      <th>proteins_interacting_sars</th>\n",
       "    </tr>\n",
       "  </thead>\n",
       "  <tbody>\n",
       "    <tr>\n",
       "      <th>p_0.0</th>\n",
       "      <td>0</td>\n",
       "      <td>0.0</td>\n",
       "      <td>238</td>\n",
       "      <td>1059</td>\n",
       "      <td>1</td>\n",
       "      <td>[238]</td>\n",
       "      <td>1.0</td>\n",
       "      <td>[BACH1, CREB3, EHF, ETV6, FOXS1, GRHL3, HOXA2,...</td>\n",
       "      <td>4</td>\n",
       "      <td>[CUL2, EXOSC5, RBX1, RHOA]</td>\n",
       "    </tr>\n",
       "    <tr>\n",
       "      <th>p_0.0001</th>\n",
       "      <td>1</td>\n",
       "      <td>0.0001</td>\n",
       "      <td>238</td>\n",
       "      <td>1053</td>\n",
       "      <td>1</td>\n",
       "      <td>[238]</td>\n",
       "      <td>1.0</td>\n",
       "      <td>[BACH1, CREB3, EHF, ETV6, FOXS1, GRHL3, HOXA2,...</td>\n",
       "      <td>5</td>\n",
       "      <td>[CUL2, EXOSC5, RBX1, RHOA, RIPK1]</td>\n",
       "    </tr>\n",
       "    <tr>\n",
       "      <th>p_0.0002</th>\n",
       "      <td>2</td>\n",
       "      <td>0.0002</td>\n",
       "      <td>240</td>\n",
       "      <td>1114</td>\n",
       "      <td>1</td>\n",
       "      <td>[240]</td>\n",
       "      <td>1.0</td>\n",
       "      <td>[BACH1, CREB3, EHF, ETV6, FOXS1, GRHL3, HOXA2,...</td>\n",
       "      <td>5</td>\n",
       "      <td>[CUL2, EXOSC5, RBX1, RHOA, RIPK1]</td>\n",
       "    </tr>\n",
       "    <tr>\n",
       "      <th>p_0.00030000000000000003</th>\n",
       "      <td>3</td>\n",
       "      <td>0.00030000000000000003</td>\n",
       "      <td>239</td>\n",
       "      <td>1091</td>\n",
       "      <td>1</td>\n",
       "      <td>[239]</td>\n",
       "      <td>1.0</td>\n",
       "      <td>[BACH1, CREB3, EHF, ETV6, FOXS1, GRHL3, HOXA2,...</td>\n",
       "      <td>5</td>\n",
       "      <td>[CUL2, EXOSC5, RBX1, RHOA, RIPK1]</td>\n",
       "    </tr>\n",
       "    <tr>\n",
       "      <th>p_0.0004</th>\n",
       "      <td>4</td>\n",
       "      <td>0.0004</td>\n",
       "      <td>238</td>\n",
       "      <td>1044</td>\n",
       "      <td>1</td>\n",
       "      <td>[238]</td>\n",
       "      <td>1.0</td>\n",
       "      <td>[BACH1, CREB3, EHF, ETV6, FOXS1, GRHL3, HOXA2,...</td>\n",
       "      <td>7</td>\n",
       "      <td>[CUL2, EXOSC5, HDAC2, RBX1, RHOA, RIPK1, TUBGCP2]</td>\n",
       "    </tr>\n",
       "  </tbody>\n",
       "</table>\n",
       "</div>"
      ],
      "text/plain": [
       "                          index                       p  nodes  edges  \\\n",
       "p_0.0                         0                     0.0    238   1059   \n",
       "p_0.0001                      1                  0.0001    238   1053   \n",
       "p_0.0002                      2                  0.0002    240   1114   \n",
       "p_0.00030000000000000003      3  0.00030000000000000003    239   1091   \n",
       "p_0.0004                      4                  0.0004    238   1044   \n",
       "\n",
       "                          number_components size_components  \\\n",
       "p_0.0                                     1           [238]   \n",
       "p_0.0001                                  1           [238]   \n",
       "p_0.0002                                  1           [240]   \n",
       "p_0.00030000000000000003                  1           [239]   \n",
       "p_0.0004                                  1           [238]   \n",
       "\n",
       "                          percentage_terminals  \\\n",
       "p_0.0                                      1.0   \n",
       "p_0.0001                                   1.0   \n",
       "p_0.0002                                   1.0   \n",
       "p_0.00030000000000000003                   1.0   \n",
       "p_0.0004                                   1.0   \n",
       "\n",
       "                                                   transcription_regulators  \\\n",
       "p_0.0                     [BACH1, CREB3, EHF, ETV6, FOXS1, GRHL3, HOXA2,...   \n",
       "p_0.0001                  [BACH1, CREB3, EHF, ETV6, FOXS1, GRHL3, HOXA2,...   \n",
       "p_0.0002                  [BACH1, CREB3, EHF, ETV6, FOXS1, GRHL3, HOXA2,...   \n",
       "p_0.00030000000000000003  [BACH1, CREB3, EHF, ETV6, FOXS1, GRHL3, HOXA2,...   \n",
       "p_0.0004                  [BACH1, CREB3, EHF, ETV6, FOXS1, GRHL3, HOXA2,...   \n",
       "\n",
       "                          number_of_proteins_interacting_sars  \\\n",
       "p_0.0                                                       4   \n",
       "p_0.0001                                                    5   \n",
       "p_0.0002                                                    5   \n",
       "p_0.00030000000000000003                                    5   \n",
       "p_0.0004                                                    7   \n",
       "\n",
       "                                                  proteins_interacting_sars  \n",
       "p_0.0                                            [CUL2, EXOSC5, RBX1, RHOA]  \n",
       "p_0.0001                                  [CUL2, EXOSC5, RBX1, RHOA, RIPK1]  \n",
       "p_0.0002                                  [CUL2, EXOSC5, RBX1, RHOA, RIPK1]  \n",
       "p_0.00030000000000000003                  [CUL2, EXOSC5, RBX1, RHOA, RIPK1]  \n",
       "p_0.0004                  [CUL2, EXOSC5, HDAC2, RBX1, RHOA, RIPK1, TUBGCP2]  "
      ]
     },
     "execution_count": 37,
     "metadata": {},
     "output_type": "execute_result"
    }
   ],
   "source": [
    "# Make summary\n",
    "networks_summary_df = svp.make_summary(networks_dict, n_terminals)\n",
    "networks_summary_df.head()"
   ]
  },
  {
   "cell_type": "markdown",
   "metadata": {},
   "source": [
    "## Plot number of SARS-Cov-2 partners picked up versus p"
   ]
  },
  {
   "cell_type": "code",
   "execution_count": 38,
   "metadata": {},
   "outputs": [
    {
     "data": {
      "image/png": "[encoded data removed]",
      "text/plain": [
       "<Figure size 432x288 with 1 Axes>"
      ]
     },
     "metadata": {
      "needs_background": "light"
     },
     "output_type": "display_data"
    }
   ],
   "source": [
    "plt.figure()\n",
    "plt.scatter(x = networks_summary_df['p'], \n",
    "            y = networks_summary_df['number_of_proteins_interacting_sars'],\n",
    "            s = 0.1*networks_summary_df['nodes'])\n",
    "plt.xlabel('p (1e-4)')\n",
    "plt.ylabel('Number of SARS-Cov-2 partners in solution')\n",
    "plt.xticks(np.arange(0,17,4),['0','4','8','12','16'])\n",
    "plt.yticks(np.arange(0,25,5))\n",
    "plt.show()"
   ]
  },
  {
   "cell_type": "markdown",
   "metadata": {},
   "source": [
    "## Plot node stability heatmaps"
   ]
  },
  {
   "cell_type": "code",
   "execution_count": 39,
   "metadata": {},
   "outputs": [
    {
     "data": {
      "text/plain": [
       "<Figure size 432x288 with 0 Axes>"
      ]
     },
     "metadata": {},
     "output_type": "display_data"
    },
    {
     "data": {
      "image/png": "[encoded data removed]",
      "text/plain": [
       "<Figure size 288x288 with 2 Axes>"
      ]
     },
     "metadata": {
      "needs_background": "light"
     },
     "output_type": "display_data"
    }
   ],
   "source": [
    "# Stability of selected nodes\n",
    "mat_allnodes = svp.create_matrix_gene_overlap_between_networks(networks_summary_df, networks_dict)\n",
    "plt.figure()\n",
    "plt.matshow(mat_allnodes)\n",
    "plt.xlabel('networks')\n",
    "plt.ylabel('networks')\n",
    "plt.title('Nodes stability')\n",
    "plt.colorbar()\n",
    "plt.show()"
   ]
  },
  {
   "cell_type": "code",
   "execution_count": 40,
   "metadata": {},
   "outputs": [
    {
     "data": {
      "text/plain": [
       "<Figure size 432x288 with 0 Axes>"
      ]
     },
     "metadata": {},
     "output_type": "display_data"
    },
    {
     "data": {
      "image/png": "[encoded data removed]",
      "text/plain": [
       "<Figure size 288x288 with 2 Axes>"
      ]
     },
     "metadata": {
      "needs_background": "light"
     },
     "output_type": "display_data"
    }
   ],
   "source": [
    "# Stability of selected terminals\n",
    "mat_terminals = svp.create_matrix_terminal_overlap_between_networks(networks_summary_df, networks_dict)\n",
    "plt.figure()\n",
    "plt.matshow(mat_terminals)\n",
    "plt.xlabel('networks')\n",
    "plt.ylabel('networks')\n",
    "plt.title('Terminals stability')\n",
    "plt.colorbar()\n",
    "plt.show()"
   ]
  },
  {
   "cell_type": "code",
   "execution_count": 41,
   "metadata": {},
   "outputs": [
    {
     "data": {
      "text/plain": [
       "<Figure size 432x288 with 0 Axes>"
      ]
     },
     "metadata": {},
     "output_type": "display_data"
    },
    {
     "data": {
      "image/png": "[encoded data removed]",
      "text/plain": [
       "<Figure size 288x288 with 2 Axes>"
      ]
     },
     "metadata": {
      "needs_background": "light"
     },
     "output_type": "display_data"
    }
   ],
   "source": [
    "# Stability of selected SARS-Cov-2 partners\n",
    "mat_sars = svp.create_matrix_sars_overlap_between_networks(networks_summary_df, networks_dict)\n",
    "plt.figure()\n",
    "plt.matshow(mat_sars)\n",
    "plt.xlabel('networks')\n",
    "plt.ylabel('networks')\n",
    "plt.title('SARS-Cov-2 partners stability')\n",
    "plt.colorbar()\n",
    "plt.show()"
   ]
  },
  {
   "cell_type": "markdown",
   "metadata": {},
   "source": [
    "## Select robust parameters"
   ]
  },
  {
   "cell_type": "code",
   "execution_count": 42,
   "metadata": {},
   "outputs": [],
   "source": [
    "# Save network\n",
    "index_selected = 8\n",
    "paramstring_selected = networks_summary_df[networks_summary_df['index']==index_selected].index[0]\n",
    "network_selected2 = networks_dict[paramstring_selected]"
   ]
  },
  {
   "cell_type": "code",
   "execution_count": 43,
   "metadata": {},
   "outputs": [
    {
     "data": {
      "text/plain": [
       "PosixPath('/home/louiscam/projects/sars_cov_2/Save_RandomizeGeneLabels/network_selected_sarspartners.pickle')"
      ]
     },
     "execution_count": 43,
     "metadata": {},
     "output_type": "execute_result"
    }
   ],
   "source": [
    "# Save selected network to file\n",
    "oi.output_networkx_graph_as_interactive_html(network_selected2, filename=\"../Save_RandomizeGeneLabels/network_selected_sarspartners.html\")\n",
    "oi.output_networkx_graph_as_pickle(network_selected2, filename= '../Save_RandomizeGeneLabels/network_selected_sarspartners.pickle')\n",
    "#oi.output_networkx_graph_as_graphml_for_cytoscape(network_selected, filename= r'../Save_RandomizeGeneLabels/network_selected_sarspartners.graphml')"
   ]
  },
  {
   "cell_type": "markdown",
   "metadata": {},
   "source": [
    "# Add drug targets to selected network"
   ]
  },
  {
   "cell_type": "markdown",
   "metadata": {},
   "source": [
    "## Construct drug/target data"
   ]
  },
  {
   "cell_type": "code",
   "execution_count": 20,
   "metadata": {},
   "outputs": [],
   "source": [
    "# Compute degree centrality for all nodes in the interactome\n",
    "graph = oi.Graph(interactome_file_name)\n",
    "centrality_dic = nx.degree_centrality(graph.interactome_graph)"
   ]
  },
  {
   "cell_type": "code",
   "execution_count": 21,
   "metadata": {},
   "outputs": [
    {
     "data": {
      "text/html": [
       "<div>\n",
       "<style scoped>\n",
       "    .dataframe tbody tr th:only-of-type {\n",
       "        vertical-align: middle;\n",
       "    }\n",
       "\n",
       "    .dataframe tbody tr th {\n",
       "        vertical-align: top;\n",
       "    }\n",
       "\n",
       "    .dataframe thead th {\n",
       "        text-align: right;\n",
       "    }\n",
       "</style>\n",
       "<table border=\"1\" class=\"dataframe\">\n",
       "  <thead>\n",
       "    <tr style=\"text-align: right;\">\n",
       "      <th></th>\n",
       "      <th>gene</th>\n",
       "      <th>drug</th>\n",
       "      <th>protein_target</th>\n",
       "      <th>affinity_constant</th>\n",
       "      <th>affinity_constant_type</th>\n",
       "      <th>degree_centrality</th>\n",
       "    </tr>\n",
       "  </thead>\n",
       "  <tbody>\n",
       "    <tr>\n",
       "      <th>1</th>\n",
       "      <td>CYP2D6</td>\n",
       "      <td>levobupivacaine</td>\n",
       "      <td>Cytochrome P450 2D6</td>\n",
       "      <td>6.706859</td>\n",
       "      <td>IC50</td>\n",
       "      <td>NaN</td>\n",
       "    </tr>\n",
       "    <tr>\n",
       "      <th>5</th>\n",
       "      <td>SCN1A</td>\n",
       "      <td>levobupivacaine</td>\n",
       "      <td>Sodium channel protein type 1 subunit alpha</td>\n",
       "      <td>5.790000</td>\n",
       "      <td>IC50</td>\n",
       "      <td>0.000254</td>\n",
       "    </tr>\n",
       "    <tr>\n",
       "      <th>9</th>\n",
       "      <td>KCNN4</td>\n",
       "      <td>(s)-nitrendipine</td>\n",
       "      <td>Intermediate conductance calcium-activated pot...</td>\n",
       "      <td>7.600000</td>\n",
       "      <td>IC50</td>\n",
       "      <td>0.000444</td>\n",
       "    </tr>\n",
       "    <tr>\n",
       "      <th>10</th>\n",
       "      <td>CACNA1F</td>\n",
       "      <td>(s)-nitrendipine</td>\n",
       "      <td>Voltage-dependent L-type calcium channel subun...</td>\n",
       "      <td>6.000000</td>\n",
       "      <td>IC50</td>\n",
       "      <td>0.000127</td>\n",
       "    </tr>\n",
       "    <tr>\n",
       "      <th>13</th>\n",
       "      <td>CACNA1D</td>\n",
       "      <td>(s)-nitrendipine</td>\n",
       "      <td>Voltage-dependent L-type calcium channel subun...</td>\n",
       "      <td>8.400000</td>\n",
       "      <td>IC50</td>\n",
       "      <td>0.000254</td>\n",
       "    </tr>\n",
       "  </tbody>\n",
       "</table>\n",
       "</div>"
      ],
      "text/plain": [
       "       gene              drug  \\\n",
       "1    CYP2D6   levobupivacaine   \n",
       "5     SCN1A   levobupivacaine   \n",
       "9     KCNN4  (s)-nitrendipine   \n",
       "10  CACNA1F  (s)-nitrendipine   \n",
       "13  CACNA1D  (s)-nitrendipine   \n",
       "\n",
       "                                       protein_target  affinity_constant  \\\n",
       "1                                 Cytochrome P450 2D6           6.706859   \n",
       "5         Sodium channel protein type 1 subunit alpha           5.790000   \n",
       "9   Intermediate conductance calcium-activated pot...           7.600000   \n",
       "10  Voltage-dependent L-type calcium channel subun...           6.000000   \n",
       "13  Voltage-dependent L-type calcium channel subun...           8.400000   \n",
       "\n",
       "   affinity_constant_type  degree_centrality  \n",
       "1                    IC50                NaN  \n",
       "5                    IC50           0.000254  \n",
       "9                    IC50           0.000444  \n",
       "10                   IC50           0.000127  \n",
       "13                   IC50           0.000254  "
      ]
     },
     "execution_count": 21,
     "metadata": {},
     "output_type": "execute_result"
    }
   ],
   "source": [
    "# Load drug/target data from DrugCentral\n",
    "drug_target_file_name = '../Data/drug.target.interaction.tsv'\n",
    "drugcentral_df = drugs2.load_drug_target_data(drug_target_file_name, aff_cst_thresh=5)\n",
    "# Add degree centrality of gene target and drop drug/target pairs with no affinity constant information\n",
    "drugcentral_df['degree_centrality'] = [centrality_dic[gene] if (gene in list(centrality_dic.keys())) else None for gene in drugcentral_df['gene']]\n",
    "drugcentral_df.dropna(axis=0, subset=['affinity_constant'], inplace=True)\n",
    "drugcentral_df.head()"
   ]
  },
  {
   "cell_type": "code",
   "execution_count": 22,
   "metadata": {},
   "outputs": [
    {
     "data": {
      "text/plain": [
       "47"
      ]
     },
     "execution_count": 22,
     "metadata": {},
     "output_type": "execute_result"
    }
   ],
   "source": [
    "# Compute total number of tyrosine kinase inhibitors (tinib suffix)\n",
    "tinib_drugs = np.unique(drugcentral_df.set_index('drug').filter(like='tinib', axis=0).index)\n",
    "len(tinib_drugs)"
   ]
  },
  {
   "cell_type": "code",
   "execution_count": 23,
   "metadata": {},
   "outputs": [
    {
     "data": {
      "text/html": [
       "<div>\n",
       "<style scoped>\n",
       "    .dataframe tbody tr th:only-of-type {\n",
       "        vertical-align: middle;\n",
       "    }\n",
       "\n",
       "    .dataframe tbody tr th {\n",
       "        vertical-align: top;\n",
       "    }\n",
       "\n",
       "    .dataframe thead th {\n",
       "        text-align: right;\n",
       "    }\n",
       "</style>\n",
       "<table border=\"1\" class=\"dataframe\">\n",
       "  <thead>\n",
       "    <tr style=\"text-align: right;\">\n",
       "      <th></th>\n",
       "      <th>drug</th>\n",
       "      <th>num_targets</th>\n",
       "      <th>num_terminal_targets</th>\n",
       "      <th>max_target_centrality</th>\n",
       "    </tr>\n",
       "  </thead>\n",
       "  <tbody>\n",
       "    <tr>\n",
       "      <th>1399</th>\n",
       "      <td>sunitinib</td>\n",
       "      <td>260</td>\n",
       "      <td>1</td>\n",
       "      <td>0.055718</td>\n",
       "    </tr>\n",
       "    <tr>\n",
       "      <th>1039</th>\n",
       "      <td>nintedanib</td>\n",
       "      <td>218</td>\n",
       "      <td>1</td>\n",
       "      <td>0.037187</td>\n",
       "    </tr>\n",
       "    <tr>\n",
       "      <th>951</th>\n",
       "      <td>midostaurin</td>\n",
       "      <td>204</td>\n",
       "      <td>2</td>\n",
       "      <td>0.055718</td>\n",
       "    </tr>\n",
       "    <tr>\n",
       "      <th>189</th>\n",
       "      <td>bosutinib</td>\n",
       "      <td>203</td>\n",
       "      <td>0</td>\n",
       "      <td>0.055718</td>\n",
       "    </tr>\n",
       "    <tr>\n",
       "      <th>363</th>\n",
       "      <td>crizotinib</td>\n",
       "      <td>148</td>\n",
       "      <td>1</td>\n",
       "      <td>0.055718</td>\n",
       "    </tr>\n",
       "    <tr>\n",
       "      <th>1319</th>\n",
       "      <td>ruxolitinib</td>\n",
       "      <td>132</td>\n",
       "      <td>0</td>\n",
       "      <td>0.027224</td>\n",
       "    </tr>\n",
       "    <tr>\n",
       "      <th>393</th>\n",
       "      <td>dasatinib</td>\n",
       "      <td>128</td>\n",
       "      <td>1</td>\n",
       "      <td>0.055718</td>\n",
       "    </tr>\n",
       "    <tr>\n",
       "      <th>1315</th>\n",
       "      <td>ruboxistaurin</td>\n",
       "      <td>121</td>\n",
       "      <td>1</td>\n",
       "      <td>0.055718</td>\n",
       "    </tr>\n",
       "    <tr>\n",
       "      <th>1368</th>\n",
       "      <td>sorafenib</td>\n",
       "      <td>116</td>\n",
       "      <td>1</td>\n",
       "      <td>0.037187</td>\n",
       "    </tr>\n",
       "    <tr>\n",
       "      <th>1562</th>\n",
       "      <td>vandetanib</td>\n",
       "      <td>109</td>\n",
       "      <td>0</td>\n",
       "      <td>0.055718</td>\n",
       "    </tr>\n",
       "  </tbody>\n",
       "</table>\n",
       "</div>"
      ],
      "text/plain": [
       "               drug  num_targets  num_terminal_targets  max_target_centrality\n",
       "1399      sunitinib          260                     1               0.055718\n",
       "1039     nintedanib          218                     1               0.037187\n",
       "951     midostaurin          204                     2               0.055718\n",
       "189       bosutinib          203                     0               0.055718\n",
       "363      crizotinib          148                     1               0.055718\n",
       "1319    ruxolitinib          132                     0               0.027224\n",
       "393       dasatinib          128                     1               0.055718\n",
       "1315  ruboxistaurin          121                     1               0.055718\n",
       "1368      sorafenib          116                     1               0.037187\n",
       "1562     vandetanib          109                     0               0.055718"
      ]
     },
     "execution_count": 23,
     "metadata": {},
     "output_type": "execute_result"
    }
   ],
   "source": [
    "# Construct table that gives the number of targets per drug\n",
    "num_targets_df0 = drugcentral_df.groupby('drug', as_index=False)[['gene']].agg({\n",
    "    ('num_targets','count'),\n",
    "    ('num_terminal_targets',lambda gs: len(set(gs).intersection(set(terminals))))\n",
    "})\n",
    "max_centrality_df0 = drugcentral_df.groupby('drug', as_index=False)[['degree_centrality']].agg({\n",
    "    ('max_degree_centrality',max)\n",
    "})\n",
    "num_targets_df = pd.DataFrame({'drug': num_targets_df0.index,\n",
    "                               'num_targets': num_targets_df0['gene']['num_targets'],\n",
    "                               'num_terminal_targets': num_targets_df0['gene']['num_terminal_targets'],\n",
    "                               'max_target_centrality': max_centrality_df0['degree_centrality']['max_degree_centrality']}).reset_index(drop=True)\n",
    "num_targets_df = num_targets_df.sort_values(by='num_targets', ascending=False, inplace=False)\n",
    "num_targets_df.head(10)"
   ]
  },
  {
   "cell_type": "code",
   "execution_count": 24,
   "metadata": {},
   "outputs": [
    {
     "data": {
      "text/html": [
       "<div>\n",
       "<style scoped>\n",
       "    .dataframe tbody tr th:only-of-type {\n",
       "        vertical-align: middle;\n",
       "    }\n",
       "\n",
       "    .dataframe tbody tr th {\n",
       "        vertical-align: top;\n",
       "    }\n",
       "\n",
       "    .dataframe thead th {\n",
       "        text-align: right;\n",
       "    }\n",
       "</style>\n",
       "<table border=\"1\" class=\"dataframe\">\n",
       "  <thead>\n",
       "    <tr style=\"text-align: right;\">\n",
       "      <th></th>\n",
       "      <th>drug</th>\n",
       "      <th>corr</th>\n",
       "    </tr>\n",
       "  </thead>\n",
       "  <tbody>\n",
       "    <tr>\n",
       "      <th>0</th>\n",
       "      <td>doxapram</td>\n",
       "      <td>0.882798</td>\n",
       "    </tr>\n",
       "    <tr>\n",
       "      <th>1</th>\n",
       "      <td>dasatinib</td>\n",
       "      <td>0.882561</td>\n",
       "    </tr>\n",
       "    <tr>\n",
       "      <th>2</th>\n",
       "      <td>cyproheptadine</td>\n",
       "      <td>0.882541</td>\n",
       "    </tr>\n",
       "    <tr>\n",
       "      <th>3</th>\n",
       "      <td>ribavirin</td>\n",
       "      <td>0.881823</td>\n",
       "    </tr>\n",
       "    <tr>\n",
       "      <th>4</th>\n",
       "      <td>ethambutol</td>\n",
       "      <td>0.881799</td>\n",
       "    </tr>\n",
       "  </tbody>\n",
       "</table>\n",
       "</div>"
      ],
      "text/plain": [
       "             drug      corr\n",
       "0        doxapram  0.882798\n",
       "1       dasatinib  0.882561\n",
       "2  cyproheptadine  0.882541\n",
       "3       ribavirin  0.881823\n",
       "4      ethambutol  0.881799"
      ]
     },
     "execution_count": 24,
     "metadata": {},
     "output_type": "execute_result"
    }
   ],
   "source": [
    "# Load L1000 drugs with correlations\n",
    "embedded_drugs_file_name = '../Data/final_A549_drug_correlations.csv'\n",
    "bestdrugs_df = drugs2.load_embedded_drugs(embedded_drugs_file_name, lower_corr_thresh=0.86)\n",
    "bestdrugs_df.head()"
   ]
  },
  {
   "cell_type": "code",
   "execution_count": 25,
   "metadata": {},
   "outputs": [
    {
     "data": {
      "text/html": [
       "<div>\n",
       "<style scoped>\n",
       "    .dataframe tbody tr th:only-of-type {\n",
       "        vertical-align: middle;\n",
       "    }\n",
       "\n",
       "    .dataframe tbody tr th {\n",
       "        vertical-align: top;\n",
       "    }\n",
       "\n",
       "    .dataframe thead th {\n",
       "        text-align: right;\n",
       "    }\n",
       "</style>\n",
       "<table border=\"1\" class=\"dataframe\">\n",
       "  <thead>\n",
       "    <tr style=\"text-align: right;\">\n",
       "      <th></th>\n",
       "      <th>gene</th>\n",
       "      <th>drug</th>\n",
       "      <th>protein_target</th>\n",
       "      <th>affinity_constant</th>\n",
       "      <th>affinity_constant_type</th>\n",
       "      <th>degree_centrality</th>\n",
       "      <th>corr</th>\n",
       "    </tr>\n",
       "  </thead>\n",
       "  <tbody>\n",
       "    <tr>\n",
       "      <th>0</th>\n",
       "      <td>CYP19A1</td>\n",
       "      <td>aminoglutethimide</td>\n",
       "      <td>Aromatase</td>\n",
       "      <td>5.110000</td>\n",
       "      <td>IC50</td>\n",
       "      <td>0.000063</td>\n",
       "      <td>0.860848</td>\n",
       "    </tr>\n",
       "    <tr>\n",
       "      <th>1</th>\n",
       "      <td>ADRA2A</td>\n",
       "      <td>amitriptyline</td>\n",
       "      <td>Alpha-2A adrenergic receptor</td>\n",
       "      <td>6.879426</td>\n",
       "      <td>Ki</td>\n",
       "      <td>0.000762</td>\n",
       "      <td>0.872172</td>\n",
       "    </tr>\n",
       "    <tr>\n",
       "      <th>2</th>\n",
       "      <td>ADRA2C</td>\n",
       "      <td>amitriptyline</td>\n",
       "      <td>Alpha-2C adrenergic receptor</td>\n",
       "      <td>8.065502</td>\n",
       "      <td>Ki</td>\n",
       "      <td>0.000254</td>\n",
       "      <td>0.872172</td>\n",
       "    </tr>\n",
       "    <tr>\n",
       "      <th>3</th>\n",
       "      <td>ADRA1D</td>\n",
       "      <td>amitriptyline</td>\n",
       "      <td>Alpha-1D adrenergic receptor</td>\n",
       "      <td>8.251812</td>\n",
       "      <td>Ki</td>\n",
       "      <td>0.001015</td>\n",
       "      <td>0.872172</td>\n",
       "    </tr>\n",
       "    <tr>\n",
       "      <th>4</th>\n",
       "      <td>SCN5A</td>\n",
       "      <td>amitriptyline</td>\n",
       "      <td>Sodium channel protein type 5 subunit alpha</td>\n",
       "      <td>5.800000</td>\n",
       "      <td>IC50</td>\n",
       "      <td>0.001777</td>\n",
       "      <td>0.872172</td>\n",
       "    </tr>\n",
       "  </tbody>\n",
       "</table>\n",
       "</div>"
      ],
      "text/plain": [
       "      gene               drug                               protein_target  \\\n",
       "0  CYP19A1  aminoglutethimide                                    Aromatase   \n",
       "1   ADRA2A      amitriptyline                 Alpha-2A adrenergic receptor   \n",
       "2   ADRA2C      amitriptyline                 Alpha-2C adrenergic receptor   \n",
       "3   ADRA1D      amitriptyline                 Alpha-1D adrenergic receptor   \n",
       "4    SCN5A      amitriptyline  Sodium channel protein type 5 subunit alpha   \n",
       "\n",
       "   affinity_constant affinity_constant_type  degree_centrality      corr  \n",
       "0           5.110000                   IC50           0.000063  0.860848  \n",
       "1           6.879426                     Ki           0.000762  0.872172  \n",
       "2           8.065502                     Ki           0.000254  0.872172  \n",
       "3           8.251812                     Ki           0.001015  0.872172  \n",
       "4           5.800000                   IC50           0.001777  0.872172  "
      ]
     },
     "execution_count": 25,
     "metadata": {},
     "output_type": "execute_result"
    }
   ],
   "source": [
    "# Merge L1000 drugs with DrugCentral drug/target dataset\n",
    "targets_and_drugs_df = drugcentral_df.merge(bestdrugs_df, on = 'drug', how = 'inner')\n",
    "targets_and_drugs_df.head()"
   ]
  },
  {
   "cell_type": "markdown",
   "metadata": {},
   "source": [
    "## Add drug target information to selected network"
   ]
  },
  {
   "cell_type": "code",
   "execution_count": 26,
   "metadata": {},
   "outputs": [
    {
     "data": {
      "text/plain": [
       "PosixPath('/home/louiscam/projects/sars_cov_2/Save_RandomizeGeneLabels/network_selected_with_drug_info.pickle')"
      ]
     },
     "execution_count": 26,
     "metadata": {},
     "output_type": "execute_result"
    }
   ],
   "source": [
    "network_selected = pickle.load(open('../Save_RandomizeGeneLabels/network_selected.pickle', \"rb\"))\n",
    "network_selected = drugs2.add_drug_info_to_selected_network(network_selected, targets_and_drugs_df)\n",
    "# Save enriched network as pickle\n",
    "oi.output_networkx_graph_as_pickle(network_selected, filename= '../Save_RandomizeGeneLabels/network_selected_with_drug_info.pickle')"
   ]
  },
  {
   "cell_type": "code",
   "execution_count": 27,
   "metadata": {
    "scrolled": true
   },
   "outputs": [
    {
     "data": {
      "text/html": [
       "<div>\n",
       "<style scoped>\n",
       "    .dataframe tbody tr th:only-of-type {\n",
       "        vertical-align: middle;\n",
       "    }\n",
       "\n",
       "    .dataframe tbody tr th {\n",
       "        vertical-align: top;\n",
       "    }\n",
       "\n",
       "    .dataframe thead th {\n",
       "        text-align: right;\n",
       "    }\n",
       "</style>\n",
       "<table border=\"1\" class=\"dataframe\">\n",
       "  <thead>\n",
       "    <tr style=\"text-align: right;\">\n",
       "      <th></th>\n",
       "      <th>name</th>\n",
       "      <th>protein_target</th>\n",
       "      <th>drug</th>\n",
       "      <th>corr</th>\n",
       "      <th>affinity</th>\n",
       "    </tr>\n",
       "  </thead>\n",
       "  <tbody>\n",
       "    <tr>\n",
       "      <th>AURKB</th>\n",
       "      <td>AURKB</td>\n",
       "      <td>{Aurora kinase B}</td>\n",
       "      <td>dasatinib</td>\n",
       "      <td>0.88256145</td>\n",
       "      <td>5.190000</td>\n",
       "    </tr>\n",
       "    <tr>\n",
       "      <th>AURKB</th>\n",
       "      <td>AURKB</td>\n",
       "      <td>{Aurora kinase B}</td>\n",
       "      <td>erlotinib</td>\n",
       "      <td>0.8737799</td>\n",
       "      <td>5.850000</td>\n",
       "    </tr>\n",
       "    <tr>\n",
       "      <th>AURKB</th>\n",
       "      <td>AURKB</td>\n",
       "      <td>{Aurora kinase B}</td>\n",
       "      <td>sorafenib</td>\n",
       "      <td>0.86517066</td>\n",
       "      <td>6.360000</td>\n",
       "    </tr>\n",
       "    <tr>\n",
       "      <th>AURKB</th>\n",
       "      <td>AURKB</td>\n",
       "      <td>{Aurora kinase B}</td>\n",
       "      <td>sunitinib</td>\n",
       "      <td>0.8685898</td>\n",
       "      <td>6.420000</td>\n",
       "    </tr>\n",
       "    <tr>\n",
       "      <th>AURKB</th>\n",
       "      <td>AURKB</td>\n",
       "      <td>{Aurora kinase B}</td>\n",
       "      <td>axitinib</td>\n",
       "      <td>0.8779775</td>\n",
       "      <td>7.960000</td>\n",
       "    </tr>\n",
       "    <tr>\n",
       "      <th>BMPR1A</th>\n",
       "      <td>BMPR1A</td>\n",
       "      <td>{Bone morphogenetic protein receptor type-1A}</td>\n",
       "      <td>dasatinib</td>\n",
       "      <td>0.88256145</td>\n",
       "      <td>5.150000</td>\n",
       "    </tr>\n",
       "    <tr>\n",
       "      <th>BMPR2</th>\n",
       "      <td>BMPR2</td>\n",
       "      <td>{Bone morphogenetic protein receptor type-2}</td>\n",
       "      <td>sunitinib</td>\n",
       "      <td>0.8685898</td>\n",
       "      <td>6.240000</td>\n",
       "    </tr>\n",
       "    <tr>\n",
       "      <th>BMPR2</th>\n",
       "      <td>BMPR2</td>\n",
       "      <td>{Bone morphogenetic protein receptor type-2}</td>\n",
       "      <td>ruxolitinib</td>\n",
       "      <td>0.87487674</td>\n",
       "      <td>6.030000</td>\n",
       "    </tr>\n",
       "    <tr>\n",
       "      <th>BMPR2</th>\n",
       "      <td>BMPR2</td>\n",
       "      <td>{Bone morphogenetic protein receptor type-2}</td>\n",
       "      <td>bosutinib</td>\n",
       "      <td>0.86295736</td>\n",
       "      <td>6.240000</td>\n",
       "    </tr>\n",
       "    <tr>\n",
       "      <th>CDK2</th>\n",
       "      <td>CDK2</td>\n",
       "      <td>{CDK2/Cyclin A, Cyclin-dependent kinase 2}</td>\n",
       "      <td>sorafenib</td>\n",
       "      <td>0.86517066</td>\n",
       "      <td>5.060000</td>\n",
       "    </tr>\n",
       "    <tr>\n",
       "      <th>CDK2</th>\n",
       "      <td>CDK2</td>\n",
       "      <td>{CDK2/Cyclin A, Cyclin-dependent kinase 2}</td>\n",
       "      <td>palbociclib</td>\n",
       "      <td>0.86293995</td>\n",
       "      <td>6.640000</td>\n",
       "    </tr>\n",
       "    <tr>\n",
       "      <th>DPP4</th>\n",
       "      <td>DPP4</td>\n",
       "      <td>{Dipeptidyl peptidase 4}</td>\n",
       "      <td>sitagliptin</td>\n",
       "      <td>0.87657654</td>\n",
       "      <td>7.774000</td>\n",
       "    </tr>\n",
       "    <tr>\n",
       "      <th>FGFR1</th>\n",
       "      <td>FGFR1</td>\n",
       "      <td>{Fibroblast growth factor receptor 1}</td>\n",
       "      <td>dasatinib</td>\n",
       "      <td>0.88256145</td>\n",
       "      <td>5.430000</td>\n",
       "    </tr>\n",
       "    <tr>\n",
       "      <th>FGFR1</th>\n",
       "      <td>FGFR1</td>\n",
       "      <td>{Fibroblast growth factor receptor 1}</td>\n",
       "      <td>imatinib</td>\n",
       "      <td>0.8705536</td>\n",
       "      <td>5.000000</td>\n",
       "    </tr>\n",
       "    <tr>\n",
       "      <th>FGFR1</th>\n",
       "      <td>FGFR1</td>\n",
       "      <td>{Fibroblast growth factor receptor 1}</td>\n",
       "      <td>sorafenib</td>\n",
       "      <td>0.86517066</td>\n",
       "      <td>5.600000</td>\n",
       "    </tr>\n",
       "    <tr>\n",
       "      <th>FGFR1</th>\n",
       "      <td>FGFR1</td>\n",
       "      <td>{Fibroblast growth factor receptor 1}</td>\n",
       "      <td>sunitinib</td>\n",
       "      <td>0.8685898</td>\n",
       "      <td>6.280000</td>\n",
       "    </tr>\n",
       "    <tr>\n",
       "      <th>FGFR1</th>\n",
       "      <td>FGFR1</td>\n",
       "      <td>{Fibroblast growth factor receptor 1}</td>\n",
       "      <td>pazopanib</td>\n",
       "      <td>0.86695886</td>\n",
       "      <td>6.000000</td>\n",
       "    </tr>\n",
       "    <tr>\n",
       "      <th>FGFR1</th>\n",
       "      <td>FGFR1</td>\n",
       "      <td>{Fibroblast growth factor receptor 1}</td>\n",
       "      <td>axitinib</td>\n",
       "      <td>0.8779775</td>\n",
       "      <td>6.420000</td>\n",
       "    </tr>\n",
       "    <tr>\n",
       "      <th>HDAC1</th>\n",
       "      <td>HDAC1</td>\n",
       "      <td>{Histone deacetylase 1, Histone deacetylase (H...</td>\n",
       "      <td>vorinostat</td>\n",
       "      <td>0.8664847</td>\n",
       "      <td>8.000000</td>\n",
       "    </tr>\n",
       "    <tr>\n",
       "      <th>HDAC1</th>\n",
       "      <td>HDAC1</td>\n",
       "      <td>{Histone deacetylase 1, Histone deacetylase (H...</td>\n",
       "      <td>vorinostat</td>\n",
       "      <td>0.8664847</td>\n",
       "      <td>6.960000</td>\n",
       "    </tr>\n",
       "    <tr>\n",
       "      <th>HDAC1</th>\n",
       "      <td>HDAC1</td>\n",
       "      <td>{Histone deacetylase 1, Histone deacetylase (H...</td>\n",
       "      <td>vorinostat</td>\n",
       "      <td>0.8664847</td>\n",
       "      <td>8.890000</td>\n",
       "    </tr>\n",
       "    <tr>\n",
       "      <th>HDAC1</th>\n",
       "      <td>HDAC1</td>\n",
       "      <td>{Histone deacetylase 1, Histone deacetylase (H...</td>\n",
       "      <td>vorinostat</td>\n",
       "      <td>0.8664847</td>\n",
       "      <td>8.000000</td>\n",
       "    </tr>\n",
       "    <tr>\n",
       "      <th>HDAC1</th>\n",
       "      <td>HDAC1</td>\n",
       "      <td>{Histone deacetylase 1, Histone deacetylase (H...</td>\n",
       "      <td>belinostat</td>\n",
       "      <td>0.8728371</td>\n",
       "      <td>9.070000</td>\n",
       "    </tr>\n",
       "    <tr>\n",
       "      <th>HSP90AA1</th>\n",
       "      <td>HSP90AA1</td>\n",
       "      <td>{Heat shock protein HSP 90-alpha}</td>\n",
       "      <td>formoterol</td>\n",
       "      <td>0.87072</td>\n",
       "      <td>8.522900</td>\n",
       "    </tr>\n",
       "    <tr>\n",
       "      <th>HSP90AA1</th>\n",
       "      <td>HSP90AA1</td>\n",
       "      <td>{Heat shock protein HSP 90-alpha}</td>\n",
       "      <td>primaquine</td>\n",
       "      <td>0.8719989</td>\n",
       "      <td>8.221800</td>\n",
       "    </tr>\n",
       "    <tr>\n",
       "      <th>IKBKB</th>\n",
       "      <td>IKBKB</td>\n",
       "      <td>{Inhibitor of nuclear factor kappa-B kinase su...</td>\n",
       "      <td>ruxolitinib</td>\n",
       "      <td>0.87487674</td>\n",
       "      <td>5.640000</td>\n",
       "    </tr>\n",
       "    <tr>\n",
       "      <th>IRAK1</th>\n",
       "      <td>IRAK1</td>\n",
       "      <td>{Interleukin-1 receptor-associated kinase 1}</td>\n",
       "      <td>imatinib</td>\n",
       "      <td>0.8705536</td>\n",
       "      <td>5.920000</td>\n",
       "    </tr>\n",
       "    <tr>\n",
       "      <th>IRAK1</th>\n",
       "      <td>IRAK1</td>\n",
       "      <td>{Interleukin-1 receptor-associated kinase 1}</td>\n",
       "      <td>sunitinib</td>\n",
       "      <td>0.8685898</td>\n",
       "      <td>7.850000</td>\n",
       "    </tr>\n",
       "    <tr>\n",
       "      <th>IRAK1</th>\n",
       "      <td>IRAK1</td>\n",
       "      <td>{Interleukin-1 receptor-associated kinase 1}</td>\n",
       "      <td>pazopanib</td>\n",
       "      <td>0.86695886</td>\n",
       "      <td>5.230000</td>\n",
       "    </tr>\n",
       "    <tr>\n",
       "      <th>IRAK1</th>\n",
       "      <td>IRAK1</td>\n",
       "      <td>{Interleukin-1 receptor-associated kinase 1}</td>\n",
       "      <td>ruxolitinib</td>\n",
       "      <td>0.87487674</td>\n",
       "      <td>6.540000</td>\n",
       "    </tr>\n",
       "    <tr>\n",
       "      <th>IRAK1</th>\n",
       "      <td>IRAK1</td>\n",
       "      <td>{Interleukin-1 receptor-associated kinase 1}</td>\n",
       "      <td>axitinib</td>\n",
       "      <td>0.8779775</td>\n",
       "      <td>5.510000</td>\n",
       "    </tr>\n",
       "    <tr>\n",
       "      <th>IRAK1</th>\n",
       "      <td>IRAK1</td>\n",
       "      <td>{Interleukin-1 receptor-associated kinase 1}</td>\n",
       "      <td>afatinib</td>\n",
       "      <td>0.8623272</td>\n",
       "      <td>6.620000</td>\n",
       "    </tr>\n",
       "    <tr>\n",
       "      <th>IRAK1</th>\n",
       "      <td>IRAK1</td>\n",
       "      <td>{Interleukin-1 receptor-associated kinase 1}</td>\n",
       "      <td>bosutinib</td>\n",
       "      <td>0.86295736</td>\n",
       "      <td>6.220000</td>\n",
       "    </tr>\n",
       "    <tr>\n",
       "      <th>MAPK10</th>\n",
       "      <td>MAPK10</td>\n",
       "      <td>{Mitogen-activated protein kinase 10}</td>\n",
       "      <td>erlotinib</td>\n",
       "      <td>0.8737799</td>\n",
       "      <td>5.370000</td>\n",
       "    </tr>\n",
       "    <tr>\n",
       "      <th>MAPK10</th>\n",
       "      <td>MAPK10</td>\n",
       "      <td>{Mitogen-activated protein kinase 10}</td>\n",
       "      <td>imatinib</td>\n",
       "      <td>0.8705536</td>\n",
       "      <td>5.510000</td>\n",
       "    </tr>\n",
       "    <tr>\n",
       "      <th>MAPK10</th>\n",
       "      <td>MAPK10</td>\n",
       "      <td>{Mitogen-activated protein kinase 10}</td>\n",
       "      <td>sunitinib</td>\n",
       "      <td>0.8685898</td>\n",
       "      <td>5.370000</td>\n",
       "    </tr>\n",
       "    <tr>\n",
       "      <th>MAPK10</th>\n",
       "      <td>MAPK10</td>\n",
       "      <td>{Mitogen-activated protein kinase 10}</td>\n",
       "      <td>pazopanib</td>\n",
       "      <td>0.86695886</td>\n",
       "      <td>5.720000</td>\n",
       "    </tr>\n",
       "    <tr>\n",
       "      <th>MAPK10</th>\n",
       "      <td>MAPK10</td>\n",
       "      <td>{Mitogen-activated protein kinase 10}</td>\n",
       "      <td>axitinib</td>\n",
       "      <td>0.8779775</td>\n",
       "      <td>5.960000</td>\n",
       "    </tr>\n",
       "    <tr>\n",
       "      <th>MAPK10</th>\n",
       "      <td>MAPK10</td>\n",
       "      <td>{Mitogen-activated protein kinase 10}</td>\n",
       "      <td>afatinib</td>\n",
       "      <td>0.8623272</td>\n",
       "      <td>5.700000</td>\n",
       "    </tr>\n",
       "    <tr>\n",
       "      <th>NCOR2</th>\n",
       "      <td>NCOR2</td>\n",
       "      <td>{Histone deacetylase 3/Nuclear receptor corepr...</td>\n",
       "      <td>vorinostat</td>\n",
       "      <td>0.8664847</td>\n",
       "      <td>8.700000</td>\n",
       "    </tr>\n",
       "    <tr>\n",
       "      <th>NR3C1</th>\n",
       "      <td>NR3C1</td>\n",
       "      <td>{Glucocorticoid receptor}</td>\n",
       "      <td>danazol</td>\n",
       "      <td>0.87374556</td>\n",
       "      <td>5.707522</td>\n",
       "    </tr>\n",
       "    <tr>\n",
       "      <th>NR3C1</th>\n",
       "      <td>NR3C1</td>\n",
       "      <td>{Glucocorticoid receptor}</td>\n",
       "      <td>desoximetasone</td>\n",
       "      <td>0.87649244</td>\n",
       "      <td>8.931814</td>\n",
       "    </tr>\n",
       "    <tr>\n",
       "      <th>NR3C1</th>\n",
       "      <td>NR3C1</td>\n",
       "      <td>{Glucocorticoid receptor}</td>\n",
       "      <td>flunisolide</td>\n",
       "      <td>0.87618375</td>\n",
       "      <td>9.100000</td>\n",
       "    </tr>\n",
       "    <tr>\n",
       "      <th>NR3C1</th>\n",
       "      <td>NR3C1</td>\n",
       "      <td>{Glucocorticoid receptor}</td>\n",
       "      <td>mifepristone</td>\n",
       "      <td>0.8636598</td>\n",
       "      <td>9.000000</td>\n",
       "    </tr>\n",
       "    <tr>\n",
       "      <th>NR3C1</th>\n",
       "      <td>NR3C1</td>\n",
       "      <td>{Glucocorticoid receptor}</td>\n",
       "      <td>prednisone</td>\n",
       "      <td>0.8780083</td>\n",
       "      <td>8.000000</td>\n",
       "    </tr>\n",
       "    <tr>\n",
       "      <th>NR3C1</th>\n",
       "      <td>NR3C1</td>\n",
       "      <td>{Glucocorticoid receptor}</td>\n",
       "      <td>halcinonide</td>\n",
       "      <td>0.8741297</td>\n",
       "      <td>9.135489</td>\n",
       "    </tr>\n",
       "    <tr>\n",
       "      <th>PTGER4</th>\n",
       "      <td>PTGER4</td>\n",
       "      <td>{Prostaglandin E2 receptor EP4 subtype}</td>\n",
       "      <td>iloprost</td>\n",
       "      <td>0.8687097</td>\n",
       "      <td>6.680000</td>\n",
       "    </tr>\n",
       "    <tr>\n",
       "      <th>PTGER4</th>\n",
       "      <td>PTGER4</td>\n",
       "      <td>{Prostaglandin E2 receptor EP4 subtype}</td>\n",
       "      <td>treprostinil</td>\n",
       "      <td>0.8761932</td>\n",
       "      <td>6.700000</td>\n",
       "    </tr>\n",
       "    <tr>\n",
       "      <th>RAF1</th>\n",
       "      <td>RAF1</td>\n",
       "      <td>{RAF proto-oncogene serine/threonine-protein k...</td>\n",
       "      <td>dasatinib</td>\n",
       "      <td>0.88256145</td>\n",
       "      <td>6.240000</td>\n",
       "    </tr>\n",
       "    <tr>\n",
       "      <th>RAF1</th>\n",
       "      <td>RAF1</td>\n",
       "      <td>{RAF proto-oncogene serine/threonine-protein k...</td>\n",
       "      <td>imatinib</td>\n",
       "      <td>0.8705536</td>\n",
       "      <td>5.770000</td>\n",
       "    </tr>\n",
       "    <tr>\n",
       "      <th>RAF1</th>\n",
       "      <td>RAF1</td>\n",
       "      <td>{RAF proto-oncogene serine/threonine-protein k...</td>\n",
       "      <td>sorafenib</td>\n",
       "      <td>0.86517066</td>\n",
       "      <td>8.220000</td>\n",
       "    </tr>\n",
       "    <tr>\n",
       "      <th>RAF1</th>\n",
       "      <td>RAF1</td>\n",
       "      <td>{RAF proto-oncogene serine/threonine-protein k...</td>\n",
       "      <td>pazopanib</td>\n",
       "      <td>0.86695886</td>\n",
       "      <td>6.050000</td>\n",
       "    </tr>\n",
       "    <tr>\n",
       "      <th>RAF1</th>\n",
       "      <td>RAF1</td>\n",
       "      <td>{RAF proto-oncogene serine/threonine-protein k...</td>\n",
       "      <td>vemurafenib</td>\n",
       "      <td>0.87177634</td>\n",
       "      <td>7.320000</td>\n",
       "    </tr>\n",
       "    <tr>\n",
       "      <th>RRM2</th>\n",
       "      <td>RRM2</td>\n",
       "      <td>{Ribonucleoside-diphosphate reductase subunit M2}</td>\n",
       "      <td>clofarabine</td>\n",
       "      <td>0.8775934</td>\n",
       "      <td>8.300000</td>\n",
       "    </tr>\n",
       "    <tr>\n",
       "      <th>SRPK2</th>\n",
       "      <td>SRPK2</td>\n",
       "      <td>{SRSF protein kinase 2}</td>\n",
       "      <td>sunitinib</td>\n",
       "      <td>0.8685898</td>\n",
       "      <td>6.720000</td>\n",
       "    </tr>\n",
       "  </tbody>\n",
       "</table>\n",
       "</div>"
      ],
      "text/plain": [
       "              name                                     protein_target  \\\n",
       "AURKB        AURKB                                  {Aurora kinase B}   \n",
       "AURKB        AURKB                                  {Aurora kinase B}   \n",
       "AURKB        AURKB                                  {Aurora kinase B}   \n",
       "AURKB        AURKB                                  {Aurora kinase B}   \n",
       "AURKB        AURKB                                  {Aurora kinase B}   \n",
       "BMPR1A      BMPR1A      {Bone morphogenetic protein receptor type-1A}   \n",
       "BMPR2        BMPR2       {Bone morphogenetic protein receptor type-2}   \n",
       "BMPR2        BMPR2       {Bone morphogenetic protein receptor type-2}   \n",
       "BMPR2        BMPR2       {Bone morphogenetic protein receptor type-2}   \n",
       "CDK2          CDK2         {CDK2/Cyclin A, Cyclin-dependent kinase 2}   \n",
       "CDK2          CDK2         {CDK2/Cyclin A, Cyclin-dependent kinase 2}   \n",
       "DPP4          DPP4                           {Dipeptidyl peptidase 4}   \n",
       "FGFR1        FGFR1              {Fibroblast growth factor receptor 1}   \n",
       "FGFR1        FGFR1              {Fibroblast growth factor receptor 1}   \n",
       "FGFR1        FGFR1              {Fibroblast growth factor receptor 1}   \n",
       "FGFR1        FGFR1              {Fibroblast growth factor receptor 1}   \n",
       "FGFR1        FGFR1              {Fibroblast growth factor receptor 1}   \n",
       "FGFR1        FGFR1              {Fibroblast growth factor receptor 1}   \n",
       "HDAC1        HDAC1  {Histone deacetylase 1, Histone deacetylase (H...   \n",
       "HDAC1        HDAC1  {Histone deacetylase 1, Histone deacetylase (H...   \n",
       "HDAC1        HDAC1  {Histone deacetylase 1, Histone deacetylase (H...   \n",
       "HDAC1        HDAC1  {Histone deacetylase 1, Histone deacetylase (H...   \n",
       "HDAC1        HDAC1  {Histone deacetylase 1, Histone deacetylase (H...   \n",
       "HSP90AA1  HSP90AA1                  {Heat shock protein HSP 90-alpha}   \n",
       "HSP90AA1  HSP90AA1                  {Heat shock protein HSP 90-alpha}   \n",
       "IKBKB        IKBKB  {Inhibitor of nuclear factor kappa-B kinase su...   \n",
       "IRAK1        IRAK1       {Interleukin-1 receptor-associated kinase 1}   \n",
       "IRAK1        IRAK1       {Interleukin-1 receptor-associated kinase 1}   \n",
       "IRAK1        IRAK1       {Interleukin-1 receptor-associated kinase 1}   \n",
       "IRAK1        IRAK1       {Interleukin-1 receptor-associated kinase 1}   \n",
       "IRAK1        IRAK1       {Interleukin-1 receptor-associated kinase 1}   \n",
       "IRAK1        IRAK1       {Interleukin-1 receptor-associated kinase 1}   \n",
       "IRAK1        IRAK1       {Interleukin-1 receptor-associated kinase 1}   \n",
       "MAPK10      MAPK10              {Mitogen-activated protein kinase 10}   \n",
       "MAPK10      MAPK10              {Mitogen-activated protein kinase 10}   \n",
       "MAPK10      MAPK10              {Mitogen-activated protein kinase 10}   \n",
       "MAPK10      MAPK10              {Mitogen-activated protein kinase 10}   \n",
       "MAPK10      MAPK10              {Mitogen-activated protein kinase 10}   \n",
       "MAPK10      MAPK10              {Mitogen-activated protein kinase 10}   \n",
       "NCOR2        NCOR2  {Histone deacetylase 3/Nuclear receptor corepr...   \n",
       "NR3C1        NR3C1                          {Glucocorticoid receptor}   \n",
       "NR3C1        NR3C1                          {Glucocorticoid receptor}   \n",
       "NR3C1        NR3C1                          {Glucocorticoid receptor}   \n",
       "NR3C1        NR3C1                          {Glucocorticoid receptor}   \n",
       "NR3C1        NR3C1                          {Glucocorticoid receptor}   \n",
       "NR3C1        NR3C1                          {Glucocorticoid receptor}   \n",
       "PTGER4      PTGER4            {Prostaglandin E2 receptor EP4 subtype}   \n",
       "PTGER4      PTGER4            {Prostaglandin E2 receptor EP4 subtype}   \n",
       "RAF1          RAF1  {RAF proto-oncogene serine/threonine-protein k...   \n",
       "RAF1          RAF1  {RAF proto-oncogene serine/threonine-protein k...   \n",
       "RAF1          RAF1  {RAF proto-oncogene serine/threonine-protein k...   \n",
       "RAF1          RAF1  {RAF proto-oncogene serine/threonine-protein k...   \n",
       "RAF1          RAF1  {RAF proto-oncogene serine/threonine-protein k...   \n",
       "RRM2          RRM2  {Ribonucleoside-diphosphate reductase subunit M2}   \n",
       "SRPK2        SRPK2                            {SRSF protein kinase 2}   \n",
       "\n",
       "                    drug        corr  affinity  \n",
       "AURKB          dasatinib  0.88256145  5.190000  \n",
       "AURKB          erlotinib   0.8737799  5.850000  \n",
       "AURKB          sorafenib  0.86517066  6.360000  \n",
       "AURKB          sunitinib   0.8685898  6.420000  \n",
       "AURKB           axitinib   0.8779775  7.960000  \n",
       "BMPR1A         dasatinib  0.88256145  5.150000  \n",
       "BMPR2          sunitinib   0.8685898  6.240000  \n",
       "BMPR2        ruxolitinib  0.87487674  6.030000  \n",
       "BMPR2          bosutinib  0.86295736  6.240000  \n",
       "CDK2           sorafenib  0.86517066  5.060000  \n",
       "CDK2         palbociclib  0.86293995  6.640000  \n",
       "DPP4         sitagliptin  0.87657654  7.774000  \n",
       "FGFR1          dasatinib  0.88256145  5.430000  \n",
       "FGFR1           imatinib   0.8705536  5.000000  \n",
       "FGFR1          sorafenib  0.86517066  5.600000  \n",
       "FGFR1          sunitinib   0.8685898  6.280000  \n",
       "FGFR1          pazopanib  0.86695886  6.000000  \n",
       "FGFR1           axitinib   0.8779775  6.420000  \n",
       "HDAC1         vorinostat   0.8664847  8.000000  \n",
       "HDAC1         vorinostat   0.8664847  6.960000  \n",
       "HDAC1         vorinostat   0.8664847  8.890000  \n",
       "HDAC1         vorinostat   0.8664847  8.000000  \n",
       "HDAC1         belinostat   0.8728371  9.070000  \n",
       "HSP90AA1      formoterol     0.87072  8.522900  \n",
       "HSP90AA1      primaquine   0.8719989  8.221800  \n",
       "IKBKB        ruxolitinib  0.87487674  5.640000  \n",
       "IRAK1           imatinib   0.8705536  5.920000  \n",
       "IRAK1          sunitinib   0.8685898  7.850000  \n",
       "IRAK1          pazopanib  0.86695886  5.230000  \n",
       "IRAK1        ruxolitinib  0.87487674  6.540000  \n",
       "IRAK1           axitinib   0.8779775  5.510000  \n",
       "IRAK1           afatinib   0.8623272  6.620000  \n",
       "IRAK1          bosutinib  0.86295736  6.220000  \n",
       "MAPK10         erlotinib   0.8737799  5.370000  \n",
       "MAPK10          imatinib   0.8705536  5.510000  \n",
       "MAPK10         sunitinib   0.8685898  5.370000  \n",
       "MAPK10         pazopanib  0.86695886  5.720000  \n",
       "MAPK10          axitinib   0.8779775  5.960000  \n",
       "MAPK10          afatinib   0.8623272  5.700000  \n",
       "NCOR2         vorinostat   0.8664847  8.700000  \n",
       "NR3C1            danazol  0.87374556  5.707522  \n",
       "NR3C1     desoximetasone  0.87649244  8.931814  \n",
       "NR3C1        flunisolide  0.87618375  9.100000  \n",
       "NR3C1       mifepristone   0.8636598  9.000000  \n",
       "NR3C1         prednisone   0.8780083  8.000000  \n",
       "NR3C1        halcinonide   0.8741297  9.135489  \n",
       "PTGER4          iloprost   0.8687097  6.680000  \n",
       "PTGER4      treprostinil   0.8761932  6.700000  \n",
       "RAF1           dasatinib  0.88256145  6.240000  \n",
       "RAF1            imatinib   0.8705536  5.770000  \n",
       "RAF1           sorafenib  0.86517066  8.220000  \n",
       "RAF1           pazopanib  0.86695886  6.050000  \n",
       "RAF1         vemurafenib  0.87177634  7.320000  \n",
       "RRM2         clofarabine   0.8775934  8.300000  \n",
       "SRPK2          sunitinib   0.8685898  6.720000  "
      ]
     },
     "execution_count": 27,
     "metadata": {},
     "output_type": "execute_result"
    }
   ],
   "source": [
    "# Construct table of drug targets in the network\n",
    "drug_targets_df = drugs2.drug_targets_in_selected_network(network_selected)\n",
    "drug_targets_df.to_csv(r'../Save_RandomizeGeneLabels/drug_targets_in_network.tsv', header=True, index=None, sep='\\t', quoting = csv.QUOTE_NONE, escapechar = '\\t')\n",
    "drug_targets_df['affinity'] = pd.to_numeric(drug_targets_df['affinity'], errors='coerce')\n",
    "drug_targets_df.dropna(subset=['affinity'], inplace=True)\n",
    "drug_targets_df"
   ]
  },
  {
   "cell_type": "code",
   "execution_count": 28,
   "metadata": {},
   "outputs": [],
   "source": [
    "# Save drug/target dataframe to csv\n",
    "drug_targets_df.to_csv(r'../Save_RandomizeGeneLabels/final_drug_target_table.tsv', header=True, index=None, sep='\\t', quoting = csv.QUOTE_NONE, escapechar = '\\t')"
   ]
  },
  {
   "cell_type": "markdown",
   "metadata": {},
   "source": [
    "# Compare to non-randomized analysis"
   ]
  },
  {
   "cell_type": "code",
   "execution_count": 29,
   "metadata": {},
   "outputs": [
    {
     "data": {
      "text/html": [
       "<div>\n",
       "<style scoped>\n",
       "    .dataframe tbody tr th:only-of-type {\n",
       "        vertical-align: middle;\n",
       "    }\n",
       "\n",
       "    .dataframe tbody tr th {\n",
       "        vertical-align: top;\n",
       "    }\n",
       "\n",
       "    .dataframe thead th {\n",
       "        text-align: right;\n",
       "    }\n",
       "</style>\n",
       "<table border=\"1\" class=\"dataframe\">\n",
       "  <thead>\n",
       "    <tr style=\"text-align: right;\">\n",
       "      <th></th>\n",
       "      <th>name</th>\n",
       "      <th>protein_target</th>\n",
       "      <th>drug</th>\n",
       "      <th>corr</th>\n",
       "      <th>affinity</th>\n",
       "    </tr>\n",
       "  </thead>\n",
       "  <tbody>\n",
       "    <tr>\n",
       "      <th>0</th>\n",
       "      <td>ACVR2A</td>\n",
       "      <td>{'Activin receptor type-2A'}</td>\n",
       "      <td>dasatinib</td>\n",
       "      <td>0.882561</td>\n",
       "      <td>6.6800</td>\n",
       "    </tr>\n",
       "    <tr>\n",
       "      <th>1</th>\n",
       "      <td>AURKC</td>\n",
       "      <td>{'Aurora kinase C'}</td>\n",
       "      <td>erlotinib</td>\n",
       "      <td>0.873780</td>\n",
       "      <td>6.2200</td>\n",
       "    </tr>\n",
       "    <tr>\n",
       "      <th>2</th>\n",
       "      <td>AURKC</td>\n",
       "      <td>{'Aurora kinase C'}</td>\n",
       "      <td>sorafenib</td>\n",
       "      <td>0.865171</td>\n",
       "      <td>6.6800</td>\n",
       "    </tr>\n",
       "    <tr>\n",
       "      <th>3</th>\n",
       "      <td>AURKC</td>\n",
       "      <td>{'Aurora kinase C'}</td>\n",
       "      <td>sunitinib</td>\n",
       "      <td>0.868590</td>\n",
       "      <td>6.6600</td>\n",
       "    </tr>\n",
       "    <tr>\n",
       "      <th>4</th>\n",
       "      <td>AURKC</td>\n",
       "      <td>{'Aurora kinase C'}</td>\n",
       "      <td>pazopanib</td>\n",
       "      <td>0.866959</td>\n",
       "      <td>6.1200</td>\n",
       "    </tr>\n",
       "    <tr>\n",
       "      <th>5</th>\n",
       "      <td>AURKC</td>\n",
       "      <td>{'Aurora kinase C'}</td>\n",
       "      <td>ruxolitinib</td>\n",
       "      <td>0.874877</td>\n",
       "      <td>5.0600</td>\n",
       "    </tr>\n",
       "    <tr>\n",
       "      <th>6</th>\n",
       "      <td>AURKC</td>\n",
       "      <td>{'Aurora kinase C'}</td>\n",
       "      <td>axitinib</td>\n",
       "      <td>0.877977</td>\n",
       "      <td>8.8900</td>\n",
       "    </tr>\n",
       "    <tr>\n",
       "      <th>7</th>\n",
       "      <td>BRSK1</td>\n",
       "      <td>{'Serine/threonine-protein kinase BRSK1'}</td>\n",
       "      <td>sunitinib</td>\n",
       "      <td>0.868590</td>\n",
       "      <td>5.4600</td>\n",
       "    </tr>\n",
       "    <tr>\n",
       "      <th>8</th>\n",
       "      <td>CDK17</td>\n",
       "      <td>{'Cyclin-dependent kinase 17'}</td>\n",
       "      <td>sorafenib</td>\n",
       "      <td>0.865171</td>\n",
       "      <td>5.8000</td>\n",
       "    </tr>\n",
       "    <tr>\n",
       "      <th>9</th>\n",
       "      <td>CDK17</td>\n",
       "      <td>{'Cyclin-dependent kinase 17'}</td>\n",
       "      <td>sunitinib</td>\n",
       "      <td>0.868590</td>\n",
       "      <td>5.9200</td>\n",
       "    </tr>\n",
       "    <tr>\n",
       "      <th>10</th>\n",
       "      <td>EGFR</td>\n",
       "      <td>{'Epidermal growth factor receptor'}</td>\n",
       "      <td>dasatinib</td>\n",
       "      <td>0.882561</td>\n",
       "      <td>7.1000</td>\n",
       "    </tr>\n",
       "    <tr>\n",
       "      <th>11</th>\n",
       "      <td>EGFR</td>\n",
       "      <td>{'Epidermal growth factor receptor'}</td>\n",
       "      <td>docetaxel</td>\n",
       "      <td>0.865823</td>\n",
       "      <td>9.0862</td>\n",
       "    </tr>\n",
       "    <tr>\n",
       "      <th>12</th>\n",
       "      <td>EGFR</td>\n",
       "      <td>{'Epidermal growth factor receptor'}</td>\n",
       "      <td>erlotinib</td>\n",
       "      <td>0.873780</td>\n",
       "      <td>9.2200</td>\n",
       "    </tr>\n",
       "    <tr>\n",
       "      <th>13</th>\n",
       "      <td>EGFR</td>\n",
       "      <td>{'Epidermal growth factor receptor'}</td>\n",
       "      <td>imatinib</td>\n",
       "      <td>0.870554</td>\n",
       "      <td>5.1200</td>\n",
       "    </tr>\n",
       "    <tr>\n",
       "      <th>14</th>\n",
       "      <td>EGFR</td>\n",
       "      <td>{'Epidermal growth factor receptor'}</td>\n",
       "      <td>sunitinib</td>\n",
       "      <td>0.868590</td>\n",
       "      <td>6.0700</td>\n",
       "    </tr>\n",
       "    <tr>\n",
       "      <th>15</th>\n",
       "      <td>EGFR</td>\n",
       "      <td>{'Epidermal growth factor receptor'}</td>\n",
       "      <td>axitinib</td>\n",
       "      <td>0.877977</td>\n",
       "      <td>5.6400</td>\n",
       "    </tr>\n",
       "    <tr>\n",
       "      <th>16</th>\n",
       "      <td>EGFR</td>\n",
       "      <td>{'Epidermal growth factor receptor'}</td>\n",
       "      <td>afatinib</td>\n",
       "      <td>0.862327</td>\n",
       "      <td>10.0000</td>\n",
       "    </tr>\n",
       "    <tr>\n",
       "      <th>17</th>\n",
       "      <td>EGFR</td>\n",
       "      <td>{'Epidermal growth factor receptor'}</td>\n",
       "      <td>bosutinib</td>\n",
       "      <td>0.862957</td>\n",
       "      <td>7.7400</td>\n",
       "    </tr>\n",
       "    <tr>\n",
       "      <th>18</th>\n",
       "      <td>FGFR1</td>\n",
       "      <td>{'Fibroblast growth factor receptor 1'}</td>\n",
       "      <td>dasatinib</td>\n",
       "      <td>0.882561</td>\n",
       "      <td>5.4300</td>\n",
       "    </tr>\n",
       "    <tr>\n",
       "      <th>19</th>\n",
       "      <td>FGFR1</td>\n",
       "      <td>{'Fibroblast growth factor receptor 1'}</td>\n",
       "      <td>imatinib</td>\n",
       "      <td>0.870554</td>\n",
       "      <td>5.0000</td>\n",
       "    </tr>\n",
       "    <tr>\n",
       "      <th>20</th>\n",
       "      <td>FGFR1</td>\n",
       "      <td>{'Fibroblast growth factor receptor 1'}</td>\n",
       "      <td>sorafenib</td>\n",
       "      <td>0.865171</td>\n",
       "      <td>5.6000</td>\n",
       "    </tr>\n",
       "    <tr>\n",
       "      <th>21</th>\n",
       "      <td>FGFR1</td>\n",
       "      <td>{'Fibroblast growth factor receptor 1'}</td>\n",
       "      <td>sunitinib</td>\n",
       "      <td>0.868590</td>\n",
       "      <td>6.2800</td>\n",
       "    </tr>\n",
       "    <tr>\n",
       "      <th>22</th>\n",
       "      <td>FGFR1</td>\n",
       "      <td>{'Fibroblast growth factor receptor 1'}</td>\n",
       "      <td>pazopanib</td>\n",
       "      <td>0.866959</td>\n",
       "      <td>6.0000</td>\n",
       "    </tr>\n",
       "    <tr>\n",
       "      <th>23</th>\n",
       "      <td>FGFR1</td>\n",
       "      <td>{'Fibroblast growth factor receptor 1'}</td>\n",
       "      <td>axitinib</td>\n",
       "      <td>0.877977</td>\n",
       "      <td>6.4200</td>\n",
       "    </tr>\n",
       "    <tr>\n",
       "      <th>24</th>\n",
       "      <td>FGFR3</td>\n",
       "      <td>{'Fibroblast growth factor receptor 3'}</td>\n",
       "      <td>dasatinib</td>\n",
       "      <td>0.882561</td>\n",
       "      <td>5.4100</td>\n",
       "    </tr>\n",
       "    <tr>\n",
       "      <th>25</th>\n",
       "      <td>FGFR3</td>\n",
       "      <td>{'Fibroblast growth factor receptor 3'}</td>\n",
       "      <td>sorafenib</td>\n",
       "      <td>0.865171</td>\n",
       "      <td>5.3800</td>\n",
       "    </tr>\n",
       "    <tr>\n",
       "      <th>26</th>\n",
       "      <td>FGFR3</td>\n",
       "      <td>{'Fibroblast growth factor receptor 3'}</td>\n",
       "      <td>sunitinib</td>\n",
       "      <td>0.868590</td>\n",
       "      <td>6.5400</td>\n",
       "    </tr>\n",
       "    <tr>\n",
       "      <th>27</th>\n",
       "      <td>FGFR3</td>\n",
       "      <td>{'Fibroblast growth factor receptor 3'}</td>\n",
       "      <td>pazopanib</td>\n",
       "      <td>0.866959</td>\n",
       "      <td>6.2100</td>\n",
       "    </tr>\n",
       "    <tr>\n",
       "      <th>28</th>\n",
       "      <td>FGFR3</td>\n",
       "      <td>{'Fibroblast growth factor receptor 3'}</td>\n",
       "      <td>axitinib</td>\n",
       "      <td>0.877977</td>\n",
       "      <td>6.6800</td>\n",
       "    </tr>\n",
       "    <tr>\n",
       "      <th>29</th>\n",
       "      <td>HDAC1</td>\n",
       "      <td>{'Histone deacetylase', 'Histone deacetylase 1...</td>\n",
       "      <td>vorinostat</td>\n",
       "      <td>0.866485</td>\n",
       "      <td>8.0000</td>\n",
       "    </tr>\n",
       "    <tr>\n",
       "      <th>30</th>\n",
       "      <td>HDAC1</td>\n",
       "      <td>{'Histone deacetylase', 'Histone deacetylase 1...</td>\n",
       "      <td>vorinostat</td>\n",
       "      <td>0.866485</td>\n",
       "      <td>6.9600</td>\n",
       "    </tr>\n",
       "    <tr>\n",
       "      <th>31</th>\n",
       "      <td>HDAC1</td>\n",
       "      <td>{'Histone deacetylase', 'Histone deacetylase 1...</td>\n",
       "      <td>vorinostat</td>\n",
       "      <td>0.866485</td>\n",
       "      <td>8.8900</td>\n",
       "    </tr>\n",
       "    <tr>\n",
       "      <th>32</th>\n",
       "      <td>HDAC1</td>\n",
       "      <td>{'Histone deacetylase', 'Histone deacetylase 1...</td>\n",
       "      <td>vorinostat</td>\n",
       "      <td>0.866485</td>\n",
       "      <td>8.0000</td>\n",
       "    </tr>\n",
       "    <tr>\n",
       "      <th>33</th>\n",
       "      <td>HDAC1</td>\n",
       "      <td>{'Histone deacetylase', 'Histone deacetylase 1...</td>\n",
       "      <td>belinostat</td>\n",
       "      <td>0.872837</td>\n",
       "      <td>9.0700</td>\n",
       "    </tr>\n",
       "    <tr>\n",
       "      <th>34</th>\n",
       "      <td>HSP90AA1</td>\n",
       "      <td>{'Heat shock protein HSP 90-alpha'}</td>\n",
       "      <td>formoterol</td>\n",
       "      <td>0.870720</td>\n",
       "      <td>8.5229</td>\n",
       "    </tr>\n",
       "    <tr>\n",
       "      <th>35</th>\n",
       "      <td>HSP90AA1</td>\n",
       "      <td>{'Heat shock protein HSP 90-alpha'}</td>\n",
       "      <td>primaquine</td>\n",
       "      <td>0.871999</td>\n",
       "      <td>8.2218</td>\n",
       "    </tr>\n",
       "    <tr>\n",
       "      <th>36</th>\n",
       "      <td>IRAK1</td>\n",
       "      <td>{'Interleukin-1 receptor-associated kinase 1'}</td>\n",
       "      <td>imatinib</td>\n",
       "      <td>0.870554</td>\n",
       "      <td>5.9200</td>\n",
       "    </tr>\n",
       "    <tr>\n",
       "      <th>37</th>\n",
       "      <td>IRAK1</td>\n",
       "      <td>{'Interleukin-1 receptor-associated kinase 1'}</td>\n",
       "      <td>sunitinib</td>\n",
       "      <td>0.868590</td>\n",
       "      <td>7.8500</td>\n",
       "    </tr>\n",
       "    <tr>\n",
       "      <th>38</th>\n",
       "      <td>IRAK1</td>\n",
       "      <td>{'Interleukin-1 receptor-associated kinase 1'}</td>\n",
       "      <td>pazopanib</td>\n",
       "      <td>0.866959</td>\n",
       "      <td>5.2300</td>\n",
       "    </tr>\n",
       "    <tr>\n",
       "      <th>39</th>\n",
       "      <td>IRAK1</td>\n",
       "      <td>{'Interleukin-1 receptor-associated kinase 1'}</td>\n",
       "      <td>ruxolitinib</td>\n",
       "      <td>0.874877</td>\n",
       "      <td>6.5400</td>\n",
       "    </tr>\n",
       "    <tr>\n",
       "      <th>40</th>\n",
       "      <td>IRAK1</td>\n",
       "      <td>{'Interleukin-1 receptor-associated kinase 1'}</td>\n",
       "      <td>axitinib</td>\n",
       "      <td>0.877977</td>\n",
       "      <td>5.5100</td>\n",
       "    </tr>\n",
       "    <tr>\n",
       "      <th>41</th>\n",
       "      <td>IRAK1</td>\n",
       "      <td>{'Interleukin-1 receptor-associated kinase 1'}</td>\n",
       "      <td>afatinib</td>\n",
       "      <td>0.862327</td>\n",
       "      <td>6.6200</td>\n",
       "    </tr>\n",
       "    <tr>\n",
       "      <th>42</th>\n",
       "      <td>IRAK1</td>\n",
       "      <td>{'Interleukin-1 receptor-associated kinase 1'}</td>\n",
       "      <td>bosutinib</td>\n",
       "      <td>0.862957</td>\n",
       "      <td>6.2200</td>\n",
       "    </tr>\n",
       "    <tr>\n",
       "      <th>43</th>\n",
       "      <td>PAK1</td>\n",
       "      <td>{'Serine/threonine-protein kinase PAK 1'}</td>\n",
       "      <td>bosutinib</td>\n",
       "      <td>0.862957</td>\n",
       "      <td>5.6400</td>\n",
       "    </tr>\n",
       "    <tr>\n",
       "      <th>44</th>\n",
       "      <td>PDE4B</td>\n",
       "      <td>{'Phosphodiesterase 4'}</td>\n",
       "      <td>milrinone</td>\n",
       "      <td>0.860716</td>\n",
       "      <td>5.2200</td>\n",
       "    </tr>\n",
       "    <tr>\n",
       "      <th>45</th>\n",
       "      <td>PDE4B</td>\n",
       "      <td>{'Phosphodiesterase 4'}</td>\n",
       "      <td>vardenafil</td>\n",
       "      <td>0.863456</td>\n",
       "      <td>5.3500</td>\n",
       "    </tr>\n",
       "    <tr>\n",
       "      <th>46</th>\n",
       "      <td>RIPK1</td>\n",
       "      <td>{'Receptor-interacting serine/threonine-protei...</td>\n",
       "      <td>sunitinib</td>\n",
       "      <td>0.868590</td>\n",
       "      <td>6.4300</td>\n",
       "    </tr>\n",
       "    <tr>\n",
       "      <th>47</th>\n",
       "      <td>RIPK1</td>\n",
       "      <td>{'Receptor-interacting serine/threonine-protei...</td>\n",
       "      <td>pazopanib</td>\n",
       "      <td>0.866959</td>\n",
       "      <td>6.5900</td>\n",
       "    </tr>\n",
       "    <tr>\n",
       "      <th>48</th>\n",
       "      <td>RIPK1</td>\n",
       "      <td>{'Receptor-interacting serine/threonine-protei...</td>\n",
       "      <td>axitinib</td>\n",
       "      <td>0.877977</td>\n",
       "      <td>5.6000</td>\n",
       "    </tr>\n",
       "    <tr>\n",
       "      <th>49</th>\n",
       "      <td>RIPK2</td>\n",
       "      <td>{'Receptor-interacting serine/threonine-protei...</td>\n",
       "      <td>dasatinib</td>\n",
       "      <td>0.882561</td>\n",
       "      <td>7.5100</td>\n",
       "    </tr>\n",
       "    <tr>\n",
       "      <th>50</th>\n",
       "      <td>RIPK2</td>\n",
       "      <td>{'Receptor-interacting serine/threonine-protei...</td>\n",
       "      <td>erlotinib</td>\n",
       "      <td>0.873780</td>\n",
       "      <td>6.3900</td>\n",
       "    </tr>\n",
       "    <tr>\n",
       "      <th>51</th>\n",
       "      <td>RIPK2</td>\n",
       "      <td>{'Receptor-interacting serine/threonine-protei...</td>\n",
       "      <td>sorafenib</td>\n",
       "      <td>0.865171</td>\n",
       "      <td>5.8900</td>\n",
       "    </tr>\n",
       "    <tr>\n",
       "      <th>52</th>\n",
       "      <td>RIPK2</td>\n",
       "      <td>{'Receptor-interacting serine/threonine-protei...</td>\n",
       "      <td>pazopanib</td>\n",
       "      <td>0.866959</td>\n",
       "      <td>6.2400</td>\n",
       "    </tr>\n",
       "    <tr>\n",
       "      <th>53</th>\n",
       "      <td>RIPK2</td>\n",
       "      <td>{'Receptor-interacting serine/threonine-protei...</td>\n",
       "      <td>axitinib</td>\n",
       "      <td>0.877977</td>\n",
       "      <td>5.0000</td>\n",
       "    </tr>\n",
       "    <tr>\n",
       "      <th>54</th>\n",
       "      <td>RIPK2</td>\n",
       "      <td>{'Receptor-interacting serine/threonine-protei...</td>\n",
       "      <td>afatinib</td>\n",
       "      <td>0.862327</td>\n",
       "      <td>5.5700</td>\n",
       "    </tr>\n",
       "    <tr>\n",
       "      <th>55</th>\n",
       "      <td>RIPK2</td>\n",
       "      <td>{'Receptor-interacting serine/threonine-protei...</td>\n",
       "      <td>bosutinib</td>\n",
       "      <td>0.862957</td>\n",
       "      <td>5.4300</td>\n",
       "    </tr>\n",
       "    <tr>\n",
       "      <th>56</th>\n",
       "      <td>STK3</td>\n",
       "      <td>{'Serine/threonine-protein kinase 3'}</td>\n",
       "      <td>sunitinib</td>\n",
       "      <td>0.868590</td>\n",
       "      <td>7.2500</td>\n",
       "    </tr>\n",
       "    <tr>\n",
       "      <th>57</th>\n",
       "      <td>STK3</td>\n",
       "      <td>{'Serine/threonine-protein kinase 3'}</td>\n",
       "      <td>axitinib</td>\n",
       "      <td>0.877977</td>\n",
       "      <td>5.6600</td>\n",
       "    </tr>\n",
       "    <tr>\n",
       "      <th>58</th>\n",
       "      <td>STK3</td>\n",
       "      <td>{'Serine/threonine-protein kinase 3'}</td>\n",
       "      <td>bosutinib</td>\n",
       "      <td>0.862957</td>\n",
       "      <td>6.4300</td>\n",
       "    </tr>\n",
       "    <tr>\n",
       "      <th>59</th>\n",
       "      <td>STK3</td>\n",
       "      <td>{'Serine/threonine-protein kinase 3'}</td>\n",
       "      <td>tofacitinib</td>\n",
       "      <td>0.877944</td>\n",
       "      <td>5.3700</td>\n",
       "    </tr>\n",
       "  </tbody>\n",
       "</table>\n",
       "</div>"
      ],
      "text/plain": [
       "        name                                     protein_target         drug  \\\n",
       "0     ACVR2A                       {'Activin receptor type-2A'}    dasatinib   \n",
       "1      AURKC                                {'Aurora kinase C'}    erlotinib   \n",
       "2      AURKC                                {'Aurora kinase C'}    sorafenib   \n",
       "3      AURKC                                {'Aurora kinase C'}    sunitinib   \n",
       "4      AURKC                                {'Aurora kinase C'}    pazopanib   \n",
       "5      AURKC                                {'Aurora kinase C'}  ruxolitinib   \n",
       "6      AURKC                                {'Aurora kinase C'}     axitinib   \n",
       "7      BRSK1          {'Serine/threonine-protein kinase BRSK1'}    sunitinib   \n",
       "8      CDK17                     {'Cyclin-dependent kinase 17'}    sorafenib   \n",
       "9      CDK17                     {'Cyclin-dependent kinase 17'}    sunitinib   \n",
       "10      EGFR               {'Epidermal growth factor receptor'}    dasatinib   \n",
       "11      EGFR               {'Epidermal growth factor receptor'}    docetaxel   \n",
       "12      EGFR               {'Epidermal growth factor receptor'}    erlotinib   \n",
       "13      EGFR               {'Epidermal growth factor receptor'}     imatinib   \n",
       "14      EGFR               {'Epidermal growth factor receptor'}    sunitinib   \n",
       "15      EGFR               {'Epidermal growth factor receptor'}     axitinib   \n",
       "16      EGFR               {'Epidermal growth factor receptor'}     afatinib   \n",
       "17      EGFR               {'Epidermal growth factor receptor'}    bosutinib   \n",
       "18     FGFR1            {'Fibroblast growth factor receptor 1'}    dasatinib   \n",
       "19     FGFR1            {'Fibroblast growth factor receptor 1'}     imatinib   \n",
       "20     FGFR1            {'Fibroblast growth factor receptor 1'}    sorafenib   \n",
       "21     FGFR1            {'Fibroblast growth factor receptor 1'}    sunitinib   \n",
       "22     FGFR1            {'Fibroblast growth factor receptor 1'}    pazopanib   \n",
       "23     FGFR1            {'Fibroblast growth factor receptor 1'}     axitinib   \n",
       "24     FGFR3            {'Fibroblast growth factor receptor 3'}    dasatinib   \n",
       "25     FGFR3            {'Fibroblast growth factor receptor 3'}    sorafenib   \n",
       "26     FGFR3            {'Fibroblast growth factor receptor 3'}    sunitinib   \n",
       "27     FGFR3            {'Fibroblast growth factor receptor 3'}    pazopanib   \n",
       "28     FGFR3            {'Fibroblast growth factor receptor 3'}     axitinib   \n",
       "29     HDAC1  {'Histone deacetylase', 'Histone deacetylase 1...   vorinostat   \n",
       "30     HDAC1  {'Histone deacetylase', 'Histone deacetylase 1...   vorinostat   \n",
       "31     HDAC1  {'Histone deacetylase', 'Histone deacetylase 1...   vorinostat   \n",
       "32     HDAC1  {'Histone deacetylase', 'Histone deacetylase 1...   vorinostat   \n",
       "33     HDAC1  {'Histone deacetylase', 'Histone deacetylase 1...   belinostat   \n",
       "34  HSP90AA1                {'Heat shock protein HSP 90-alpha'}   formoterol   \n",
       "35  HSP90AA1                {'Heat shock protein HSP 90-alpha'}   primaquine   \n",
       "36     IRAK1     {'Interleukin-1 receptor-associated kinase 1'}     imatinib   \n",
       "37     IRAK1     {'Interleukin-1 receptor-associated kinase 1'}    sunitinib   \n",
       "38     IRAK1     {'Interleukin-1 receptor-associated kinase 1'}    pazopanib   \n",
       "39     IRAK1     {'Interleukin-1 receptor-associated kinase 1'}  ruxolitinib   \n",
       "40     IRAK1     {'Interleukin-1 receptor-associated kinase 1'}     axitinib   \n",
       "41     IRAK1     {'Interleukin-1 receptor-associated kinase 1'}     afatinib   \n",
       "42     IRAK1     {'Interleukin-1 receptor-associated kinase 1'}    bosutinib   \n",
       "43      PAK1          {'Serine/threonine-protein kinase PAK 1'}    bosutinib   \n",
       "44     PDE4B                            {'Phosphodiesterase 4'}    milrinone   \n",
       "45     PDE4B                            {'Phosphodiesterase 4'}   vardenafil   \n",
       "46     RIPK1  {'Receptor-interacting serine/threonine-protei...    sunitinib   \n",
       "47     RIPK1  {'Receptor-interacting serine/threonine-protei...    pazopanib   \n",
       "48     RIPK1  {'Receptor-interacting serine/threonine-protei...     axitinib   \n",
       "49     RIPK2  {'Receptor-interacting serine/threonine-protei...    dasatinib   \n",
       "50     RIPK2  {'Receptor-interacting serine/threonine-protei...    erlotinib   \n",
       "51     RIPK2  {'Receptor-interacting serine/threonine-protei...    sorafenib   \n",
       "52     RIPK2  {'Receptor-interacting serine/threonine-protei...    pazopanib   \n",
       "53     RIPK2  {'Receptor-interacting serine/threonine-protei...     axitinib   \n",
       "54     RIPK2  {'Receptor-interacting serine/threonine-protei...     afatinib   \n",
       "55     RIPK2  {'Receptor-interacting serine/threonine-protei...    bosutinib   \n",
       "56      STK3              {'Serine/threonine-protein kinase 3'}    sunitinib   \n",
       "57      STK3              {'Serine/threonine-protein kinase 3'}     axitinib   \n",
       "58      STK3              {'Serine/threonine-protein kinase 3'}    bosutinib   \n",
       "59      STK3              {'Serine/threonine-protein kinase 3'}  tofacitinib   \n",
       "\n",
       "        corr  affinity  \n",
       "0   0.882561    6.6800  \n",
       "1   0.873780    6.2200  \n",
       "2   0.865171    6.6800  \n",
       "3   0.868590    6.6600  \n",
       "4   0.866959    6.1200  \n",
       "5   0.874877    5.0600  \n",
       "6   0.877977    8.8900  \n",
       "7   0.868590    5.4600  \n",
       "8   0.865171    5.8000  \n",
       "9   0.868590    5.9200  \n",
       "10  0.882561    7.1000  \n",
       "11  0.865823    9.0862  \n",
       "12  0.873780    9.2200  \n",
       "13  0.870554    5.1200  \n",
       "14  0.868590    6.0700  \n",
       "15  0.877977    5.6400  \n",
       "16  0.862327   10.0000  \n",
       "17  0.862957    7.7400  \n",
       "18  0.882561    5.4300  \n",
       "19  0.870554    5.0000  \n",
       "20  0.865171    5.6000  \n",
       "21  0.868590    6.2800  \n",
       "22  0.866959    6.0000  \n",
       "23  0.877977    6.4200  \n",
       "24  0.882561    5.4100  \n",
       "25  0.865171    5.3800  \n",
       "26  0.868590    6.5400  \n",
       "27  0.866959    6.2100  \n",
       "28  0.877977    6.6800  \n",
       "29  0.866485    8.0000  \n",
       "30  0.866485    6.9600  \n",
       "31  0.866485    8.8900  \n",
       "32  0.866485    8.0000  \n",
       "33  0.872837    9.0700  \n",
       "34  0.870720    8.5229  \n",
       "35  0.871999    8.2218  \n",
       "36  0.870554    5.9200  \n",
       "37  0.868590    7.8500  \n",
       "38  0.866959    5.2300  \n",
       "39  0.874877    6.5400  \n",
       "40  0.877977    5.5100  \n",
       "41  0.862327    6.6200  \n",
       "42  0.862957    6.2200  \n",
       "43  0.862957    5.6400  \n",
       "44  0.860716    5.2200  \n",
       "45  0.863456    5.3500  \n",
       "46  0.868590    6.4300  \n",
       "47  0.866959    6.5900  \n",
       "48  0.877977    5.6000  \n",
       "49  0.882561    7.5100  \n",
       "50  0.873780    6.3900  \n",
       "51  0.865171    5.8900  \n",
       "52  0.866959    6.2400  \n",
       "53  0.877977    5.0000  \n",
       "54  0.862327    5.5700  \n",
       "55  0.862957    5.4300  \n",
       "56  0.868590    7.2500  \n",
       "57  0.877977    5.6600  \n",
       "58  0.862957    6.4300  \n",
       "59  0.877944    5.3700  "
      ]
     },
     "execution_count": 29,
     "metadata": {},
     "output_type": "execute_result"
    }
   ],
   "source": [
    "# Drug/target dataframe in the non-randomized case\n",
    "drug_targets_df_norandom_file_name = '../Save/final_drug_target_table.tsv'\n",
    "drug_targets_df_norandom = pd.read_csv(drug_targets_df_norandom_file_name, sep = '\\t')\n",
    "drug_targets_df_norandom"
   ]
  },
  {
   "cell_type": "code",
   "execution_count": 30,
   "metadata": {},
   "outputs": [
    {
     "data": {
      "text/plain": [
       "<matplotlib_venn._common.VennDiagram at 0x7f04d1094150>"
      ]
     },
     "execution_count": 30,
     "metadata": {},
     "output_type": "execute_result"
    },
    {
     "data": {
      "image/png": "[encoded data removed]",
      "text/plain": [
       "<Figure size 432x288 with 1 Axes>"
      ]
     },
     "metadata": {},
     "output_type": "display_data"
    }
   ],
   "source": [
    "# Common gene targets\n",
    "targets_random = set(drug_targets_df['name'])\n",
    "targets_norandom = set(drug_targets_df_norandom['name'])\n",
    "venn2(subsets = [targets_random,targets_norandom],set_labels = ('Randomized gene labels','Original analysis'))"
   ]
  },
  {
   "cell_type": "code",
   "execution_count": 31,
   "metadata": {},
   "outputs": [
    {
     "name": "stdout",
     "output_type": "stream",
     "text": [
      "             drug  num_targets  num_terminal_targets  max_target_centrality\n",
      "1485  tofacitinib           43                     0               0.020434\n",
      "469     docetaxel           13                     0               0.055718\n",
      "1563   vardenafil           13                     0               0.002538\n",
      "957     milrinone            9                     0               0.002538\n",
      "                drug  num_targets  num_terminal_targets  max_target_centrality\n",
      "384          danazol           16                     0               0.040043\n",
      "1106     palbociclib           13                     0               0.037187\n",
      "952     mifepristone           10                     0               0.040043\n",
      "746         iloprost            8                     1               0.002158\n",
      "1516    treprostinil            6                     1               0.001523\n",
      "1569     vemurafenib            4                     0               0.011169\n",
      "1356     sitagliptin            2                     1               0.001904\n",
      "1207      prednisone            2                     0               0.012819\n",
      "333      clofarabine            2                     1               0.002031\n",
      "701      halcinonide            1                     0               0.012819\n",
      "410   desoximetasone            1                     0               0.012819\n",
      "626      flunisolide            1                     0               0.012819\n",
      "             drug  num_targets  num_terminal_targets  max_target_centrality\n",
      "1399    sunitinib          260                     1               0.055718\n",
      "189     bosutinib          203                     0               0.055718\n",
      "1319  ruxolitinib          132                     0               0.027224\n",
      "393     dasatinib          128                     1               0.055718\n",
      "1368    sorafenib          116                     1               0.037187\n",
      "1125    pazopanib          103                     0               0.028430\n",
      "127      axitinib           99                     1               0.055718\n",
      "545     erlotinib           96                     1               0.055718\n",
      "747      imatinib           69                     0               0.055718\n",
      "31       afatinib           38                     0               0.055718\n",
      "1590   vorinostat           32                     0               0.030334\n",
      "140    belinostat           11                     0               0.030334\n",
      "652    formoterol            5                     0               0.049054\n",
      "1213   primaquine            5                     0               0.049054\n"
     ]
    },
    {
     "data": {
      "image/png": "[encoded data removed]",
      "text/plain": [
       "<Figure size 432x288 with 1 Axes>"
      ]
     },
     "metadata": {},
     "output_type": "display_data"
    }
   ],
   "source": [
    "# Common drugs\n",
    "drugs_random = set(drug_targets_df['drug'])\n",
    "drugs_norandom = set(drug_targets_df_norandom['drug'])\n",
    "venn2(subsets = [drugs_random,drugs_norandom],set_labels = ('Randomized gene labels','Original analysis'))\n",
    "original_minus_random = num_targets_df.loc[num_targets_df['drug'].isin(drugs_norandom.difference(drugs_random))]\n",
    "random_minus_original = num_targets_df.loc[num_targets_df['drug'].isin(drugs_random.difference(drugs_norandom))]\n",
    "original_inter_random = num_targets_df.loc[num_targets_df['drug'].isin(drugs_norandom.intersection(drugs_random))]\n",
    "print(original_minus_random)\n",
    "print(random_minus_original)\n",
    "print(original_inter_random)"
   ]
  },
  {
   "cell_type": "markdown",
   "metadata": {},
   "source": [
    "# Repeat randomization and measure robustness of selected drugs"
   ]
  },
  {
   "cell_type": "code",
   "execution_count": 32,
   "metadata": {},
   "outputs": [],
   "source": [
    "# Number of repetitions\n",
    "N = 1000\n",
    "\n",
    "# Steiner tree parameter\n",
    "hyperparams = {\"w\": 1.4, \n",
    "               \"b\": 40, \n",
    "               \"g\": 0,\n",
    "               \"pruning\": 'strong',\n",
    "               \"edge_noise\": 0, \n",
    "               \"dummy_mode\": \"terminals\", \n",
    "               \"seed\": 0, \n",
    "               \"skip_checks\": False,\n",
    "               \"verbosity_level\": 0}\n",
    "\n",
    "# Table of selected drugs in the original study\n",
    "original_drugs = num_targets_df.copy()\n",
    "original_drugs = original_drugs[num_targets_df['drug'].isin(drugs_norandom)]\n",
    "original_drugs.insert(3,\"num_appearance\",np.zeros(len(original_drugs['drug'])))\n",
    "\n",
    "# Table of drugs that were not selected in the original study\n",
    "non_original_drugs = num_targets_df.copy()\n",
    "non_original_drugs = non_original_drugs[~num_targets_df['drug'].isin(drugs_norandom)]\n",
    "non_original_drugs.insert(3,\"num_appearance\",np.zeros(len(non_original_drugs['drug'])))"
   ]
  },
  {
   "cell_type": "code",
   "execution_count": 33,
   "metadata": {},
   "outputs": [
    {
     "name": "stderr",
     "output_type": "stream",
     "text": [
      "01:18:36 - OI2: INFO - Duplicated gene symbols in the prize file (we'll keep the max prize):\n",
      "01:18:36 - OI2: INFO - []\n",
      "01:18:36 - OI2: INFO - Members of the prize file not present in the interactome:\n",
      "01:18:36 - OI2: INFO - []\n"
     ]
    },
    {
     "name": "stdout",
     "output_type": "stream",
     "text": [
      "progress = 0.0%\n"
     ]
    },
    {
     "name": "stderr",
     "output_type": "stream",
     "text": [
      "01:18:38 - OI2: INFO - Duplicated gene symbols in the prize file (we'll keep the max prize):\n",
      "01:18:38 - OI2: INFO - []\n",
      "01:18:38 - OI2: INFO - Members of the prize file not present in the interactome:\n",
      "01:18:38 - OI2: INFO - []\n"
     ]
    },
    {
     "name": "stdout",
     "output_type": "stream",
     "text": [
      "progress = 0.1%\n"
     ]
    },
    {
     "name": "stderr",
     "output_type": "stream",
     "text": [
      "01:18:41 - OI2: INFO - Duplicated gene symbols in the prize file (we'll keep the max prize):\n",
      "01:18:41 - OI2: INFO - []\n",
      "01:18:41 - OI2: INFO - Members of the prize file not present in the interactome:\n",
      "01:18:41 - OI2: INFO - []\n"
     ]
    },
    {
     "name": "stdout",
     "output_type": "stream",
     "text": [
      "progress = 0.2%\n"
     ]
    },
    {
     "name": "stderr",
     "output_type": "stream",
     "text": [
      "01:18:44 - OI2: INFO - Duplicated gene symbols in the prize file (we'll keep the max prize):\n",
      "01:18:44 - OI2: INFO - []\n",
      "01:18:44 - OI2: INFO - Members of the prize file not present in the interactome:\n",
      "01:18:44 - OI2: INFO - []\n"
     ]
    },
    {
     "name": "stdout",
     "output_type": "stream",
     "text": [
      "progress = 0.3%\n"
     ]
    },
    {
     "name": "stderr",
     "output_type": "stream",
     "text": [
      "01:18:47 - OI2: INFO - Duplicated gene symbols in the prize file (we'll keep the max prize):\n",
      "01:18:47 - OI2: INFO - []\n",
      "01:18:47 - OI2: INFO - Members of the prize file not present in the interactome:\n",
      "01:18:47 - OI2: INFO - []\n"
     ]
    },
    {
     "name": "stdout",
     "output_type": "stream",
     "text": [
      "progress = 0.4%\n"
     ]
    },
    {
     "name": "stderr",
     "output_type": "stream",
     "text": [
      "01:18:49 - OI2: INFO - Duplicated gene symbols in the prize file (we'll keep the max prize):\n",
      "01:18:49 - OI2: INFO - []\n",
      "01:18:49 - OI2: INFO - Members of the prize file not present in the interactome:\n",
      "01:18:49 - OI2: INFO - []\n"
     ]
    },
    {
     "name": "stdout",
     "output_type": "stream",
     "text": [
      "progress = 0.5%\n"
     ]
    },
    {
     "name": "stderr",
     "output_type": "stream",
     "text": [
      "01:18:52 - OI2: INFO - Duplicated gene symbols in the prize file (we'll keep the max prize):\n",
      "01:18:52 - OI2: INFO - []\n",
      "01:18:52 - OI2: INFO - Members of the prize file not present in the interactome:\n",
      "01:18:52 - OI2: INFO - []\n"
     ]
    },
    {
     "name": "stdout",
     "output_type": "stream",
     "text": [
      "progress = 0.6%\n"
     ]
    },
    {
     "name": "stderr",
     "output_type": "stream",
     "text": [
      "01:18:55 - OI2: INFO - Duplicated gene symbols in the prize file (we'll keep the max prize):\n",
      "01:18:55 - OI2: INFO - []\n",
      "01:18:55 - OI2: INFO - Members of the prize file not present in the interactome:\n",
      "01:18:55 - OI2: INFO - []\n"
     ]
    },
    {
     "name": "stdout",
     "output_type": "stream",
     "text": [
      "progress = 0.7000000000000001%\n"
     ]
    },
    {
     "name": "stderr",
     "output_type": "stream",
     "text": [
      "01:18:57 - OI2: INFO - Duplicated gene symbols in the prize file (we'll keep the max prize):\n",
      "01:18:57 - OI2: INFO - []\n",
      "01:18:57 - OI2: INFO - Members of the prize file not present in the interactome:\n",
      "01:18:57 - OI2: INFO - []\n"
     ]
    },
    {
     "name": "stdout",
     "output_type": "stream",
     "text": [
      "progress = 0.8%\n"
     ]
    },
    {
     "name": "stderr",
     "output_type": "stream",
     "text": [
      "01:19:00 - OI2: INFO - Duplicated gene symbols in the prize file (we'll keep the max prize):\n",
      "01:19:00 - OI2: INFO - []\n",
      "01:19:00 - OI2: INFO - Members of the prize file not present in the interactome:\n",
      "01:19:00 - OI2: INFO - []\n"
     ]
    },
    {
     "name": "stdout",
     "output_type": "stream",
     "text": [
      "progress = 0.8999999999999999%\n"
     ]
    },
    {
     "name": "stderr",
     "output_type": "stream",
     "text": [
      "01:19:03 - OI2: INFO - Duplicated gene symbols in the prize file (we'll keep the max prize):\n",
      "01:19:03 - OI2: INFO - []\n",
      "01:19:03 - OI2: INFO - Members of the prize file not present in the interactome:\n",
      "01:19:03 - OI2: INFO - []\n"
     ]
    },
    {
     "name": "stdout",
     "output_type": "stream",
     "text": [
      "progress = 1.0%\n"
     ]
    },
    {
     "name": "stderr",
     "output_type": "stream",
     "text": [
      "01:19:05 - OI2: INFO - Duplicated gene symbols in the prize file (we'll keep the max prize):\n",
      "01:19:05 - OI2: INFO - []\n",
      "01:19:05 - OI2: INFO - Members of the prize file not present in the interactome:\n",
      "01:19:05 - OI2: INFO - []\n"
     ]
    },
    {
     "name": "stdout",
     "output_type": "stream",
     "text": [
      "progress = 1.0999999999999999%\n"
     ]
    },
    {
     "name": "stderr",
     "output_type": "stream",
     "text": [
      "01:19:08 - OI2: INFO - Duplicated gene symbols in the prize file (we'll keep the max prize):\n",
      "01:19:08 - OI2: INFO - []\n",
      "01:19:08 - OI2: INFO - Members of the prize file not present in the interactome:\n",
      "01:19:08 - OI2: INFO - []\n"
     ]
    },
    {
     "name": "stdout",
     "output_type": "stream",
     "text": [
      "progress = 1.2%\n"
     ]
    },
    {
     "name": "stderr",
     "output_type": "stream",
     "text": [
      "01:19:11 - OI2: INFO - Duplicated gene symbols in the prize file (we'll keep the max prize):\n",
      "01:19:11 - OI2: INFO - []\n",
      "01:19:11 - OI2: INFO - Members of the prize file not present in the interactome:\n",
      "01:19:11 - OI2: INFO - []\n"
     ]
    },
    {
     "name": "stdout",
     "output_type": "stream",
     "text": [
      "progress = 1.3%\n"
     ]
    },
    {
     "name": "stderr",
     "output_type": "stream",
     "text": [
      "01:19:13 - OI2: INFO - Duplicated gene symbols in the prize file (we'll keep the max prize):\n",
      "01:19:13 - OI2: INFO - []\n",
      "01:19:13 - OI2: INFO - Members of the prize file not present in the interactome:\n",
      "01:19:13 - OI2: INFO - []\n"
     ]
    },
    {
     "name": "stdout",
     "output_type": "stream",
     "text": [
      "progress = 1.4000000000000001%\n"
     ]
    },
    {
     "name": "stderr",
     "output_type": "stream",
     "text": [
      "01:19:16 - OI2: INFO - Duplicated gene symbols in the prize file (we'll keep the max prize):\n",
      "01:19:16 - OI2: INFO - []\n",
      "01:19:16 - OI2: INFO - Members of the prize file not present in the interactome:\n",
      "01:19:16 - OI2: INFO - []\n"
     ]
    },
    {
     "name": "stdout",
     "output_type": "stream",
     "text": [
      "progress = 1.5%\n"
     ]
    },
    {
     "name": "stderr",
     "output_type": "stream",
     "text": [
      "01:19:19 - OI2: INFO - Duplicated gene symbols in the prize file (we'll keep the max prize):\n",
      "01:19:19 - OI2: INFO - []\n",
      "01:19:19 - OI2: INFO - Members of the prize file not present in the interactome:\n",
      "01:19:19 - OI2: INFO - []\n"
     ]
    },
    {
     "name": "stdout",
     "output_type": "stream",
     "text": [
      "progress = 1.6%\n"
     ]
    },
    {
     "name": "stderr",
     "output_type": "stream",
     "text": [
      "01:19:22 - OI2: INFO - Duplicated gene symbols in the prize file (we'll keep the max prize):\n",
      "01:19:22 - OI2: INFO - []\n",
      "01:19:22 - OI2: INFO - Members of the prize file not present in the interactome:\n",
      "01:19:22 - OI2: INFO - []\n"
     ]
    },
    {
     "name": "stdout",
     "output_type": "stream",
     "text": [
      "progress = 1.7000000000000002%\n"
     ]
    },
    {
     "name": "stderr",
     "output_type": "stream",
     "text": [
      "01:19:24 - OI2: INFO - Duplicated gene symbols in the prize file (we'll keep the max prize):\n",
      "01:19:24 - OI2: INFO - []\n",
      "01:19:24 - OI2: INFO - Members of the prize file not present in the interactome:\n",
      "01:19:24 - OI2: INFO - []\n"
     ]
    },
    {
     "name": "stdout",
     "output_type": "stream",
     "text": [
      "progress = 1.7999999999999998%\n"
     ]
    },
    {
     "name": "stderr",
     "output_type": "stream",
     "text": [
      "01:19:27 - OI2: INFO - Duplicated gene symbols in the prize file (we'll keep the max prize):\n",
      "01:19:27 - OI2: INFO - []\n",
      "01:19:27 - OI2: INFO - Members of the prize file not present in the interactome:\n",
      "01:19:27 - OI2: INFO - []\n"
     ]
    },
    {
     "name": "stdout",
     "output_type": "stream",
     "text": [
      "progress = 1.9%\n"
     ]
    },
    {
     "name": "stderr",
     "output_type": "stream",
     "text": [
      "01:19:29 - OI2: INFO - Duplicated gene symbols in the prize file (we'll keep the max prize):\n",
      "01:19:29 - OI2: INFO - []\n",
      "01:19:30 - OI2: INFO - Members of the prize file not present in the interactome:\n",
      "01:19:30 - OI2: INFO - []\n"
     ]
    },
    {
     "name": "stdout",
     "output_type": "stream",
     "text": [
      "progress = 2.0%\n"
     ]
    },
    {
     "name": "stderr",
     "output_type": "stream",
     "text": [
      "01:19:32 - OI2: INFO - Duplicated gene symbols in the prize file (we'll keep the max prize):\n",
      "01:19:32 - OI2: INFO - []\n",
      "01:19:32 - OI2: INFO - Members of the prize file not present in the interactome:\n",
      "01:19:32 - OI2: INFO - []\n"
     ]
    },
    {
     "name": "stdout",
     "output_type": "stream",
     "text": [
      "progress = 2.1%\n"
     ]
    },
    {
     "name": "stderr",
     "output_type": "stream",
     "text": [
      "01:19:35 - OI2: INFO - Duplicated gene symbols in the prize file (we'll keep the max prize):\n",
      "01:19:35 - OI2: INFO - []\n",
      "01:19:35 - OI2: INFO - Members of the prize file not present in the interactome:\n",
      "01:19:35 - OI2: INFO - []\n"
     ]
    },
    {
     "name": "stdout",
     "output_type": "stream",
     "text": [
      "progress = 2.1999999999999997%\n"
     ]
    },
    {
     "name": "stderr",
     "output_type": "stream",
     "text": [
      "01:19:38 - OI2: INFO - Duplicated gene symbols in the prize file (we'll keep the max prize):\n",
      "01:19:38 - OI2: INFO - []\n",
      "01:19:38 - OI2: INFO - Members of the prize file not present in the interactome:\n",
      "01:19:38 - OI2: INFO - []\n"
     ]
    },
    {
     "name": "stdout",
     "output_type": "stream",
     "text": [
      "progress = 2.3%\n"
     ]
    },
    {
     "name": "stderr",
     "output_type": "stream",
     "text": [
      "01:19:40 - OI2: INFO - Duplicated gene symbols in the prize file (we'll keep the max prize):\n",
      "01:19:40 - OI2: INFO - []\n",
      "01:19:40 - OI2: INFO - Members of the prize file not present in the interactome:\n",
      "01:19:40 - OI2: INFO - []\n"
     ]
    },
    {
     "name": "stdout",
     "output_type": "stream",
     "text": [
      "progress = 2.4%\n"
     ]
    },
    {
     "name": "stderr",
     "output_type": "stream",
     "text": [
      "01:19:43 - OI2: INFO - Duplicated gene symbols in the prize file (we'll keep the max prize):\n",
      "01:19:43 - OI2: INFO - []\n",
      "01:19:43 - OI2: INFO - Members of the prize file not present in the interactome:\n",
      "01:19:43 - OI2: INFO - []\n"
     ]
    },
    {
     "name": "stdout",
     "output_type": "stream",
     "text": [
      "progress = 2.5%\n"
     ]
    },
    {
     "name": "stderr",
     "output_type": "stream",
     "text": [
      "01:19:46 - OI2: INFO - Duplicated gene symbols in the prize file (we'll keep the max prize):\n",
      "01:19:46 - OI2: INFO - []\n",
      "01:19:46 - OI2: INFO - Members of the prize file not present in the interactome:\n",
      "01:19:46 - OI2: INFO - []\n"
     ]
    },
    {
     "name": "stdout",
     "output_type": "stream",
     "text": [
      "progress = 2.6%\n"
     ]
    },
    {
     "name": "stderr",
     "output_type": "stream",
     "text": [
      "01:19:48 - OI2: INFO - Duplicated gene symbols in the prize file (we'll keep the max prize):\n",
      "01:19:48 - OI2: INFO - []\n",
      "01:19:48 - OI2: INFO - Members of the prize file not present in the interactome:\n",
      "01:19:48 - OI2: INFO - []\n"
     ]
    },
    {
     "name": "stdout",
     "output_type": "stream",
     "text": [
      "progress = 2.7%\n"
     ]
    },
    {
     "name": "stderr",
     "output_type": "stream",
     "text": [
      "01:19:51 - OI2: INFO - Duplicated gene symbols in the prize file (we'll keep the max prize):\n",
      "01:19:51 - OI2: INFO - []\n",
      "01:19:51 - OI2: INFO - Members of the prize file not present in the interactome:\n",
      "01:19:51 - OI2: INFO - []\n"
     ]
    },
    {
     "name": "stdout",
     "output_type": "stream",
     "text": [
      "progress = 2.8000000000000003%\n"
     ]
    },
    {
     "name": "stderr",
     "output_type": "stream",
     "text": [
      "01:19:54 - OI2: INFO - Duplicated gene symbols in the prize file (we'll keep the max prize):\n",
      "01:19:54 - OI2: INFO - []\n",
      "01:19:54 - OI2: INFO - Members of the prize file not present in the interactome:\n",
      "01:19:54 - OI2: INFO - []\n"
     ]
    },
    {
     "name": "stdout",
     "output_type": "stream",
     "text": [
      "progress = 2.9000000000000004%\n"
     ]
    },
    {
     "name": "stderr",
     "output_type": "stream",
     "text": [
      "01:19:56 - OI2: INFO - Duplicated gene symbols in the prize file (we'll keep the max prize):\n",
      "01:19:56 - OI2: INFO - []\n",
      "01:19:56 - OI2: INFO - Members of the prize file not present in the interactome:\n",
      "01:19:56 - OI2: INFO - []\n"
     ]
    },
    {
     "name": "stdout",
     "output_type": "stream",
     "text": [
      "progress = 3.0%\n"
     ]
    },
    {
     "name": "stderr",
     "output_type": "stream",
     "text": [
      "01:19:59 - OI2: INFO - Duplicated gene symbols in the prize file (we'll keep the max prize):\n",
      "01:19:59 - OI2: INFO - []\n",
      "01:19:59 - OI2: INFO - Members of the prize file not present in the interactome:\n",
      "01:19:59 - OI2: INFO - []\n"
     ]
    },
    {
     "name": "stdout",
     "output_type": "stream",
     "text": [
      "progress = 3.1%\n"
     ]
    },
    {
     "name": "stderr",
     "output_type": "stream",
     "text": [
      "01:20:02 - OI2: INFO - Duplicated gene symbols in the prize file (we'll keep the max prize):\n",
      "01:20:02 - OI2: INFO - []\n",
      "01:20:02 - OI2: INFO - Members of the prize file not present in the interactome:\n",
      "01:20:02 - OI2: INFO - []\n"
     ]
    },
    {
     "name": "stdout",
     "output_type": "stream",
     "text": [
      "progress = 3.2%\n"
     ]
    },
    {
     "name": "stderr",
     "output_type": "stream",
     "text": [
      "01:20:04 - OI2: INFO - Duplicated gene symbols in the prize file (we'll keep the max prize):\n",
      "01:20:04 - OI2: INFO - []\n",
      "01:20:04 - OI2: INFO - Members of the prize file not present in the interactome:\n",
      "01:20:04 - OI2: INFO - []\n"
     ]
    },
    {
     "name": "stdout",
     "output_type": "stream",
     "text": [
      "progress = 3.3000000000000003%\n"
     ]
    },
    {
     "name": "stderr",
     "output_type": "stream",
     "text": [
      "01:20:07 - OI2: INFO - Duplicated gene symbols in the prize file (we'll keep the max prize):\n",
      "01:20:07 - OI2: INFO - []\n",
      "01:20:07 - OI2: INFO - Members of the prize file not present in the interactome:\n",
      "01:20:07 - OI2: INFO - []\n"
     ]
    },
    {
     "name": "stdout",
     "output_type": "stream",
     "text": [
      "progress = 3.4000000000000004%\n"
     ]
    },
    {
     "name": "stderr",
     "output_type": "stream",
     "text": [
      "01:20:10 - OI2: INFO - Duplicated gene symbols in the prize file (we'll keep the max prize):\n",
      "01:20:10 - OI2: INFO - []\n",
      "01:20:10 - OI2: INFO - Members of the prize file not present in the interactome:\n",
      "01:20:10 - OI2: INFO - []\n"
     ]
    },
    {
     "name": "stdout",
     "output_type": "stream",
     "text": [
      "progress = 3.5000000000000004%\n"
     ]
    },
    {
     "name": "stderr",
     "output_type": "stream",
     "text": [
      "01:20:13 - OI2: INFO - Duplicated gene symbols in the prize file (we'll keep the max prize):\n",
      "01:20:13 - OI2: INFO - []\n",
      "01:20:13 - OI2: INFO - Members of the prize file not present in the interactome:\n",
      "01:20:13 - OI2: INFO - []\n"
     ]
    },
    {
     "name": "stdout",
     "output_type": "stream",
     "text": [
      "progress = 3.5999999999999996%\n"
     ]
    },
    {
     "name": "stderr",
     "output_type": "stream",
     "text": [
      "01:20:15 - OI2: INFO - Duplicated gene symbols in the prize file (we'll keep the max prize):\n",
      "01:20:15 - OI2: INFO - []\n",
      "01:20:15 - OI2: INFO - Members of the prize file not present in the interactome:\n",
      "01:20:15 - OI2: INFO - []\n"
     ]
    },
    {
     "name": "stdout",
     "output_type": "stream",
     "text": [
      "progress = 3.6999999999999997%\n"
     ]
    },
    {
     "name": "stderr",
     "output_type": "stream",
     "text": [
      "01:20:18 - OI2: INFO - Duplicated gene symbols in the prize file (we'll keep the max prize):\n",
      "01:20:18 - OI2: INFO - []\n",
      "01:20:18 - OI2: INFO - Members of the prize file not present in the interactome:\n",
      "01:20:18 - OI2: INFO - []\n"
     ]
    },
    {
     "name": "stdout",
     "output_type": "stream",
     "text": [
      "progress = 3.8%\n"
     ]
    },
    {
     "name": "stderr",
     "output_type": "stream",
     "text": [
      "01:20:21 - OI2: INFO - Duplicated gene symbols in the prize file (we'll keep the max prize):\n",
      "01:20:21 - OI2: INFO - []\n",
      "01:20:21 - OI2: INFO - Members of the prize file not present in the interactome:\n",
      "01:20:21 - OI2: INFO - []\n"
     ]
    },
    {
     "name": "stdout",
     "output_type": "stream",
     "text": [
      "progress = 3.9%\n"
     ]
    },
    {
     "name": "stderr",
     "output_type": "stream",
     "text": [
      "01:20:23 - OI2: INFO - Duplicated gene symbols in the prize file (we'll keep the max prize):\n",
      "01:20:23 - OI2: INFO - []\n",
      "01:20:23 - OI2: INFO - Members of the prize file not present in the interactome:\n",
      "01:20:23 - OI2: INFO - []\n"
     ]
    },
    {
     "name": "stdout",
     "output_type": "stream",
     "text": [
      "progress = 4.0%\n"
     ]
    },
    {
     "name": "stderr",
     "output_type": "stream",
     "text": [
      "01:20:26 - OI2: INFO - Duplicated gene symbols in the prize file (we'll keep the max prize):\n",
      "01:20:26 - OI2: INFO - []\n",
      "01:20:26 - OI2: INFO - Members of the prize file not present in the interactome:\n",
      "01:20:26 - OI2: INFO - []\n"
     ]
    },
    {
     "name": "stdout",
     "output_type": "stream",
     "text": [
      "progress = 4.1000000000000005%\n"
     ]
    },
    {
     "name": "stderr",
     "output_type": "stream",
     "text": [
      "01:20:28 - OI2: INFO - Duplicated gene symbols in the prize file (we'll keep the max prize):\n",
      "01:20:28 - OI2: INFO - []\n",
      "01:20:28 - OI2: INFO - Members of the prize file not present in the interactome:\n",
      "01:20:28 - OI2: INFO - []\n"
     ]
    },
    {
     "name": "stdout",
     "output_type": "stream",
     "text": [
      "progress = 4.2%\n"
     ]
    },
    {
     "name": "stderr",
     "output_type": "stream",
     "text": [
      "01:20:31 - OI2: INFO - Duplicated gene symbols in the prize file (we'll keep the max prize):\n",
      "01:20:31 - OI2: INFO - []\n",
      "01:20:31 - OI2: INFO - Members of the prize file not present in the interactome:\n",
      "01:20:31 - OI2: INFO - []\n"
     ]
    },
    {
     "name": "stdout",
     "output_type": "stream",
     "text": [
      "progress = 4.3%\n"
     ]
    },
    {
     "name": "stderr",
     "output_type": "stream",
     "text": [
      "01:20:34 - OI2: INFO - Duplicated gene symbols in the prize file (we'll keep the max prize):\n",
      "01:20:34 - OI2: INFO - []\n",
      "01:20:34 - OI2: INFO - Members of the prize file not present in the interactome:\n",
      "01:20:34 - OI2: INFO - []\n"
     ]
    },
    {
     "name": "stdout",
     "output_type": "stream",
     "text": [
      "progress = 4.3999999999999995%\n"
     ]
    },
    {
     "name": "stderr",
     "output_type": "stream",
     "text": [
      "01:20:36 - OI2: INFO - Duplicated gene symbols in the prize file (we'll keep the max prize):\n",
      "01:20:36 - OI2: INFO - []\n",
      "01:20:36 - OI2: INFO - Members of the prize file not present in the interactome:\n",
      "01:20:36 - OI2: INFO - []\n"
     ]
    },
    {
     "name": "stdout",
     "output_type": "stream",
     "text": [
      "progress = 4.5%\n"
     ]
    },
    {
     "name": "stderr",
     "output_type": "stream",
     "text": [
      "01:20:39 - OI2: INFO - Duplicated gene symbols in the prize file (we'll keep the max prize):\n",
      "01:20:39 - OI2: INFO - []\n",
      "01:20:39 - OI2: INFO - Members of the prize file not present in the interactome:\n",
      "01:20:39 - OI2: INFO - []\n"
     ]
    },
    {
     "name": "stdout",
     "output_type": "stream",
     "text": [
      "progress = 4.6%\n"
     ]
    },
    {
     "name": "stderr",
     "output_type": "stream",
     "text": [
      "01:20:42 - OI2: INFO - Duplicated gene symbols in the prize file (we'll keep the max prize):\n",
      "01:20:42 - OI2: INFO - []\n",
      "01:20:42 - OI2: INFO - Members of the prize file not present in the interactome:\n",
      "01:20:42 - OI2: INFO - []\n"
     ]
    },
    {
     "name": "stdout",
     "output_type": "stream",
     "text": [
      "progress = 4.7%\n"
     ]
    },
    {
     "name": "stderr",
     "output_type": "stream",
     "text": [
      "01:20:44 - OI2: INFO - Duplicated gene symbols in the prize file (we'll keep the max prize):\n",
      "01:20:44 - OI2: INFO - []\n",
      "01:20:44 - OI2: INFO - Members of the prize file not present in the interactome:\n",
      "01:20:44 - OI2: INFO - []\n"
     ]
    },
    {
     "name": "stdout",
     "output_type": "stream",
     "text": [
      "progress = 4.8%\n"
     ]
    },
    {
     "name": "stderr",
     "output_type": "stream",
     "text": [
      "01:20:47 - OI2: INFO - Duplicated gene symbols in the prize file (we'll keep the max prize):\n",
      "01:20:47 - OI2: INFO - []\n",
      "01:20:47 - OI2: INFO - Members of the prize file not present in the interactome:\n",
      "01:20:47 - OI2: INFO - []\n"
     ]
    },
    {
     "name": "stdout",
     "output_type": "stream",
     "text": [
      "progress = 4.9%\n"
     ]
    },
    {
     "name": "stderr",
     "output_type": "stream",
     "text": [
      "01:20:50 - OI2: INFO - Duplicated gene symbols in the prize file (we'll keep the max prize):\n",
      "01:20:50 - OI2: INFO - []\n",
      "01:20:50 - OI2: INFO - Members of the prize file not present in the interactome:\n",
      "01:20:50 - OI2: INFO - []\n"
     ]
    },
    {
     "name": "stdout",
     "output_type": "stream",
     "text": [
      "progress = 5.0%\n"
     ]
    },
    {
     "name": "stderr",
     "output_type": "stream",
     "text": [
      "01:20:53 - OI2: INFO - Duplicated gene symbols in the prize file (we'll keep the max prize):\n",
      "01:20:53 - OI2: INFO - []\n",
      "01:20:53 - OI2: INFO - Members of the prize file not present in the interactome:\n",
      "01:20:53 - OI2: INFO - []\n"
     ]
    },
    {
     "name": "stdout",
     "output_type": "stream",
     "text": [
      "progress = 5.1%\n"
     ]
    },
    {
     "name": "stderr",
     "output_type": "stream",
     "text": [
      "01:20:55 - OI2: INFO - Duplicated gene symbols in the prize file (we'll keep the max prize):\n",
      "01:20:55 - OI2: INFO - []\n",
      "01:20:55 - OI2: INFO - Members of the prize file not present in the interactome:\n",
      "01:20:55 - OI2: INFO - []\n"
     ]
    },
    {
     "name": "stdout",
     "output_type": "stream",
     "text": [
      "progress = 5.2%\n"
     ]
    },
    {
     "name": "stderr",
     "output_type": "stream",
     "text": [
      "01:20:58 - OI2: INFO - Duplicated gene symbols in the prize file (we'll keep the max prize):\n",
      "01:20:58 - OI2: INFO - []\n",
      "01:20:58 - OI2: INFO - Members of the prize file not present in the interactome:\n",
      "01:20:58 - OI2: INFO - []\n"
     ]
    },
    {
     "name": "stdout",
     "output_type": "stream",
     "text": [
      "progress = 5.3%\n"
     ]
    },
    {
     "name": "stderr",
     "output_type": "stream",
     "text": [
      "01:21:01 - OI2: INFO - Duplicated gene symbols in the prize file (we'll keep the max prize):\n",
      "01:21:01 - OI2: INFO - []\n",
      "01:21:01 - OI2: INFO - Members of the prize file not present in the interactome:\n",
      "01:21:01 - OI2: INFO - []\n"
     ]
    },
    {
     "name": "stdout",
     "output_type": "stream",
     "text": [
      "progress = 5.4%\n"
     ]
    },
    {
     "name": "stderr",
     "output_type": "stream",
     "text": [
      "01:21:03 - OI2: INFO - Duplicated gene symbols in the prize file (we'll keep the max prize):\n",
      "01:21:03 - OI2: INFO - []\n",
      "01:21:03 - OI2: INFO - Members of the prize file not present in the interactome:\n",
      "01:21:03 - OI2: INFO - []\n"
     ]
    },
    {
     "name": "stdout",
     "output_type": "stream",
     "text": [
      "progress = 5.5%\n"
     ]
    },
    {
     "name": "stderr",
     "output_type": "stream",
     "text": [
      "01:21:06 - OI2: INFO - Duplicated gene symbols in the prize file (we'll keep the max prize):\n",
      "01:21:06 - OI2: INFO - []\n",
      "01:21:06 - OI2: INFO - Members of the prize file not present in the interactome:\n",
      "01:21:06 - OI2: INFO - []\n"
     ]
    },
    {
     "name": "stdout",
     "output_type": "stream",
     "text": [
      "progress = 5.6000000000000005%\n"
     ]
    },
    {
     "name": "stderr",
     "output_type": "stream",
     "text": [
      "01:21:09 - OI2: INFO - Duplicated gene symbols in the prize file (we'll keep the max prize):\n",
      "01:21:09 - OI2: INFO - []\n",
      "01:21:09 - OI2: INFO - Members of the prize file not present in the interactome:\n",
      "01:21:09 - OI2: INFO - []\n"
     ]
    },
    {
     "name": "stdout",
     "output_type": "stream",
     "text": [
      "progress = 5.7%\n"
     ]
    },
    {
     "name": "stderr",
     "output_type": "stream",
     "text": [
      "01:21:11 - OI2: INFO - Duplicated gene symbols in the prize file (we'll keep the max prize):\n",
      "01:21:11 - OI2: INFO - []\n",
      "01:21:11 - OI2: INFO - Members of the prize file not present in the interactome:\n",
      "01:21:11 - OI2: INFO - []\n"
     ]
    },
    {
     "name": "stdout",
     "output_type": "stream",
     "text": [
      "progress = 5.800000000000001%\n"
     ]
    },
    {
     "name": "stderr",
     "output_type": "stream",
     "text": [
      "01:21:14 - OI2: INFO - Duplicated gene symbols in the prize file (we'll keep the max prize):\n",
      "01:21:14 - OI2: INFO - []\n",
      "01:21:14 - OI2: INFO - Members of the prize file not present in the interactome:\n",
      "01:21:14 - OI2: INFO - []\n"
     ]
    },
    {
     "name": "stdout",
     "output_type": "stream",
     "text": [
      "progress = 5.8999999999999995%\n"
     ]
    },
    {
     "name": "stderr",
     "output_type": "stream",
     "text": [
      "01:21:16 - OI2: INFO - Duplicated gene symbols in the prize file (we'll keep the max prize):\n",
      "01:21:16 - OI2: INFO - []\n",
      "01:21:16 - OI2: INFO - Members of the prize file not present in the interactome:\n",
      "01:21:17 - OI2: INFO - []\n"
     ]
    },
    {
     "name": "stdout",
     "output_type": "stream",
     "text": [
      "progress = 6.0%\n"
     ]
    },
    {
     "name": "stderr",
     "output_type": "stream",
     "text": [
      "01:21:19 - OI2: INFO - Duplicated gene symbols in the prize file (we'll keep the max prize):\n",
      "01:21:19 - OI2: INFO - []\n",
      "01:21:19 - OI2: INFO - Members of the prize file not present in the interactome:\n",
      "01:21:19 - OI2: INFO - []\n"
     ]
    },
    {
     "name": "stdout",
     "output_type": "stream",
     "text": [
      "progress = 6.1%\n"
     ]
    },
    {
     "name": "stderr",
     "output_type": "stream",
     "text": [
      "01:21:22 - OI2: INFO - Duplicated gene symbols in the prize file (we'll keep the max prize):\n",
      "01:21:22 - OI2: INFO - []\n",
      "01:21:22 - OI2: INFO - Members of the prize file not present in the interactome:\n",
      "01:21:22 - OI2: INFO - []\n"
     ]
    },
    {
     "name": "stdout",
     "output_type": "stream",
     "text": [
      "progress = 6.2%\n"
     ]
    },
    {
     "name": "stderr",
     "output_type": "stream",
     "text": [
      "01:21:25 - OI2: INFO - Duplicated gene symbols in the prize file (we'll keep the max prize):\n",
      "01:21:25 - OI2: INFO - []\n",
      "01:21:25 - OI2: INFO - Members of the prize file not present in the interactome:\n",
      "01:21:25 - OI2: INFO - []\n"
     ]
    },
    {
     "name": "stdout",
     "output_type": "stream",
     "text": [
      "progress = 6.3%\n"
     ]
    },
    {
     "name": "stderr",
     "output_type": "stream",
     "text": [
      "01:21:27 - OI2: INFO - Duplicated gene symbols in the prize file (we'll keep the max prize):\n",
      "01:21:27 - OI2: INFO - []\n",
      "01:21:27 - OI2: INFO - Members of the prize file not present in the interactome:\n",
      "01:21:27 - OI2: INFO - []\n"
     ]
    },
    {
     "name": "stdout",
     "output_type": "stream",
     "text": [
      "progress = 6.4%\n"
     ]
    },
    {
     "name": "stderr",
     "output_type": "stream",
     "text": [
      "01:21:30 - OI2: INFO - Duplicated gene symbols in the prize file (we'll keep the max prize):\n",
      "01:21:30 - OI2: INFO - []\n",
      "01:21:30 - OI2: INFO - Members of the prize file not present in the interactome:\n",
      "01:21:30 - OI2: INFO - []\n"
     ]
    },
    {
     "name": "stdout",
     "output_type": "stream",
     "text": [
      "progress = 6.5%\n"
     ]
    },
    {
     "name": "stderr",
     "output_type": "stream",
     "text": [
      "01:21:33 - OI2: INFO - Duplicated gene symbols in the prize file (we'll keep the max prize):\n",
      "01:21:33 - OI2: INFO - []\n",
      "01:21:33 - OI2: INFO - Members of the prize file not present in the interactome:\n",
      "01:21:33 - OI2: INFO - []\n"
     ]
    },
    {
     "name": "stdout",
     "output_type": "stream",
     "text": [
      "progress = 6.6000000000000005%\n"
     ]
    },
    {
     "name": "stderr",
     "output_type": "stream",
     "text": [
      "01:21:35 - OI2: INFO - Duplicated gene symbols in the prize file (we'll keep the max prize):\n",
      "01:21:35 - OI2: INFO - []\n",
      "01:21:35 - OI2: INFO - Members of the prize file not present in the interactome:\n",
      "01:21:35 - OI2: INFO - []\n"
     ]
    },
    {
     "name": "stdout",
     "output_type": "stream",
     "text": [
      "progress = 6.7%\n"
     ]
    },
    {
     "name": "stderr",
     "output_type": "stream",
     "text": [
      "01:21:38 - OI2: INFO - Duplicated gene symbols in the prize file (we'll keep the max prize):\n",
      "01:21:38 - OI2: INFO - []\n",
      "01:21:38 - OI2: INFO - Members of the prize file not present in the interactome:\n",
      "01:21:38 - OI2: INFO - []\n"
     ]
    },
    {
     "name": "stdout",
     "output_type": "stream",
     "text": [
      "progress = 6.800000000000001%\n"
     ]
    },
    {
     "name": "stderr",
     "output_type": "stream",
     "text": [
      "01:21:41 - OI2: INFO - Duplicated gene symbols in the prize file (we'll keep the max prize):\n",
      "01:21:41 - OI2: INFO - []\n",
      "01:21:41 - OI2: INFO - Members of the prize file not present in the interactome:\n",
      "01:21:41 - OI2: INFO - []\n"
     ]
    },
    {
     "name": "stdout",
     "output_type": "stream",
     "text": [
      "progress = 6.9%\n"
     ]
    },
    {
     "name": "stderr",
     "output_type": "stream",
     "text": [
      "01:21:43 - OI2: INFO - Duplicated gene symbols in the prize file (we'll keep the max prize):\n",
      "01:21:43 - OI2: INFO - []\n",
      "01:21:43 - OI2: INFO - Members of the prize file not present in the interactome:\n",
      "01:21:43 - OI2: INFO - []\n"
     ]
    },
    {
     "name": "stdout",
     "output_type": "stream",
     "text": [
      "progress = 7.000000000000001%\n"
     ]
    },
    {
     "name": "stderr",
     "output_type": "stream",
     "text": [
      "01:21:46 - OI2: INFO - Duplicated gene symbols in the prize file (we'll keep the max prize):\n",
      "01:21:46 - OI2: INFO - []\n",
      "01:21:46 - OI2: INFO - Members of the prize file not present in the interactome:\n",
      "01:21:46 - OI2: INFO - []\n"
     ]
    },
    {
     "name": "stdout",
     "output_type": "stream",
     "text": [
      "progress = 7.1%\n"
     ]
    },
    {
     "name": "stderr",
     "output_type": "stream",
     "text": [
      "01:21:49 - OI2: INFO - Duplicated gene symbols in the prize file (we'll keep the max prize):\n",
      "01:21:49 - OI2: INFO - []\n",
      "01:21:49 - OI2: INFO - Members of the prize file not present in the interactome:\n",
      "01:21:49 - OI2: INFO - []\n"
     ]
    },
    {
     "name": "stdout",
     "output_type": "stream",
     "text": [
      "progress = 7.199999999999999%\n"
     ]
    },
    {
     "name": "stderr",
     "output_type": "stream",
     "text": [
      "01:21:51 - OI2: INFO - Duplicated gene symbols in the prize file (we'll keep the max prize):\n",
      "01:21:51 - OI2: INFO - []\n",
      "01:21:51 - OI2: INFO - Members of the prize file not present in the interactome:\n",
      "01:21:51 - OI2: INFO - []\n"
     ]
    },
    {
     "name": "stdout",
     "output_type": "stream",
     "text": [
      "progress = 7.3%\n"
     ]
    },
    {
     "name": "stderr",
     "output_type": "stream",
     "text": [
      "01:21:54 - OI2: INFO - Duplicated gene symbols in the prize file (we'll keep the max prize):\n",
      "01:21:54 - OI2: INFO - []\n",
      "01:21:54 - OI2: INFO - Members of the prize file not present in the interactome:\n",
      "01:21:54 - OI2: INFO - []\n"
     ]
    },
    {
     "name": "stdout",
     "output_type": "stream",
     "text": [
      "progress = 7.3999999999999995%\n"
     ]
    },
    {
     "name": "stderr",
     "output_type": "stream",
     "text": [
      "01:21:57 - OI2: INFO - Duplicated gene symbols in the prize file (we'll keep the max prize):\n",
      "01:21:57 - OI2: INFO - []\n",
      "01:21:57 - OI2: INFO - Members of the prize file not present in the interactome:\n",
      "01:21:57 - OI2: INFO - []\n"
     ]
    },
    {
     "name": "stdout",
     "output_type": "stream",
     "text": [
      "progress = 7.5%\n"
     ]
    },
    {
     "name": "stderr",
     "output_type": "stream",
     "text": [
      "01:22:00 - OI2: INFO - Duplicated gene symbols in the prize file (we'll keep the max prize):\n",
      "01:22:00 - OI2: INFO - []\n",
      "01:22:00 - OI2: INFO - Members of the prize file not present in the interactome:\n",
      "01:22:00 - OI2: INFO - []\n"
     ]
    },
    {
     "name": "stdout",
     "output_type": "stream",
     "text": [
      "progress = 7.6%\n"
     ]
    },
    {
     "name": "stderr",
     "output_type": "stream",
     "text": [
      "01:22:03 - OI2: INFO - Duplicated gene symbols in the prize file (we'll keep the max prize):\n",
      "01:22:03 - OI2: INFO - []\n",
      "01:22:03 - OI2: INFO - Members of the prize file not present in the interactome:\n",
      "01:22:03 - OI2: INFO - []\n"
     ]
    },
    {
     "name": "stdout",
     "output_type": "stream",
     "text": [
      "progress = 7.7%\n"
     ]
    },
    {
     "name": "stderr",
     "output_type": "stream",
     "text": [
      "01:22:05 - OI2: INFO - Duplicated gene symbols in the prize file (we'll keep the max prize):\n",
      "01:22:05 - OI2: INFO - []\n",
      "01:22:05 - OI2: INFO - Members of the prize file not present in the interactome:\n",
      "01:22:05 - OI2: INFO - []\n"
     ]
    },
    {
     "name": "stdout",
     "output_type": "stream",
     "text": [
      "progress = 7.8%\n"
     ]
    },
    {
     "name": "stderr",
     "output_type": "stream",
     "text": [
      "01:22:08 - OI2: INFO - Duplicated gene symbols in the prize file (we'll keep the max prize):\n",
      "01:22:08 - OI2: INFO - []\n",
      "01:22:08 - OI2: INFO - Members of the prize file not present in the interactome:\n",
      "01:22:08 - OI2: INFO - []\n"
     ]
    },
    {
     "name": "stdout",
     "output_type": "stream",
     "text": [
      "progress = 7.9%\n"
     ]
    },
    {
     "name": "stderr",
     "output_type": "stream",
     "text": [
      "01:22:11 - OI2: INFO - Duplicated gene symbols in the prize file (we'll keep the max prize):\n",
      "01:22:11 - OI2: INFO - []\n",
      "01:22:11 - OI2: INFO - Members of the prize file not present in the interactome:\n",
      "01:22:11 - OI2: INFO - []\n"
     ]
    },
    {
     "name": "stdout",
     "output_type": "stream",
     "text": [
      "progress = 8.0%\n"
     ]
    },
    {
     "name": "stderr",
     "output_type": "stream",
     "text": [
      "01:22:13 - OI2: INFO - Duplicated gene symbols in the prize file (we'll keep the max prize):\n",
      "01:22:13 - OI2: INFO - []\n",
      "01:22:13 - OI2: INFO - Members of the prize file not present in the interactome:\n",
      "01:22:13 - OI2: INFO - []\n"
     ]
    },
    {
     "name": "stdout",
     "output_type": "stream",
     "text": [
      "progress = 8.1%\n"
     ]
    },
    {
     "name": "stderr",
     "output_type": "stream",
     "text": [
      "01:22:16 - OI2: INFO - Duplicated gene symbols in the prize file (we'll keep the max prize):\n",
      "01:22:16 - OI2: INFO - []\n",
      "01:22:16 - OI2: INFO - Members of the prize file not present in the interactome:\n",
      "01:22:16 - OI2: INFO - []\n"
     ]
    },
    {
     "name": "stdout",
     "output_type": "stream",
     "text": [
      "progress = 8.200000000000001%\n"
     ]
    },
    {
     "name": "stderr",
     "output_type": "stream",
     "text": [
      "01:22:19 - OI2: INFO - Duplicated gene symbols in the prize file (we'll keep the max prize):\n",
      "01:22:19 - OI2: INFO - []\n",
      "01:22:19 - OI2: INFO - Members of the prize file not present in the interactome:\n",
      "01:22:19 - OI2: INFO - []\n"
     ]
    },
    {
     "name": "stdout",
     "output_type": "stream",
     "text": [
      "progress = 8.3%\n"
     ]
    },
    {
     "name": "stderr",
     "output_type": "stream",
     "text": [
      "01:22:21 - OI2: INFO - Duplicated gene symbols in the prize file (we'll keep the max prize):\n",
      "01:22:21 - OI2: INFO - []\n",
      "01:22:21 - OI2: INFO - Members of the prize file not present in the interactome:\n",
      "01:22:21 - OI2: INFO - []\n"
     ]
    },
    {
     "name": "stdout",
     "output_type": "stream",
     "text": [
      "progress = 8.4%\n"
     ]
    },
    {
     "name": "stderr",
     "output_type": "stream",
     "text": [
      "01:22:24 - OI2: INFO - Duplicated gene symbols in the prize file (we'll keep the max prize):\n",
      "01:22:24 - OI2: INFO - []\n",
      "01:22:24 - OI2: INFO - Members of the prize file not present in the interactome:\n",
      "01:22:24 - OI2: INFO - []\n"
     ]
    },
    {
     "name": "stdout",
     "output_type": "stream",
     "text": [
      "progress = 8.5%\n"
     ]
    },
    {
     "name": "stderr",
     "output_type": "stream",
     "text": [
      "01:22:27 - OI2: INFO - Duplicated gene symbols in the prize file (we'll keep the max prize):\n",
      "01:22:27 - OI2: INFO - []\n",
      "01:22:27 - OI2: INFO - Members of the prize file not present in the interactome:\n",
      "01:22:27 - OI2: INFO - []\n"
     ]
    },
    {
     "name": "stdout",
     "output_type": "stream",
     "text": [
      "progress = 8.6%\n"
     ]
    },
    {
     "name": "stderr",
     "output_type": "stream",
     "text": [
      "01:22:29 - OI2: INFO - Duplicated gene symbols in the prize file (we'll keep the max prize):\n",
      "01:22:29 - OI2: INFO - []\n",
      "01:22:29 - OI2: INFO - Members of the prize file not present in the interactome:\n",
      "01:22:29 - OI2: INFO - []\n"
     ]
    },
    {
     "name": "stdout",
     "output_type": "stream",
     "text": [
      "progress = 8.7%\n"
     ]
    },
    {
     "name": "stderr",
     "output_type": "stream",
     "text": [
      "01:22:32 - OI2: INFO - Duplicated gene symbols in the prize file (we'll keep the max prize):\n",
      "01:22:32 - OI2: INFO - []\n",
      "01:22:32 - OI2: INFO - Members of the prize file not present in the interactome:\n",
      "01:22:32 - OI2: INFO - []\n"
     ]
    },
    {
     "name": "stdout",
     "output_type": "stream",
     "text": [
      "progress = 8.799999999999999%\n"
     ]
    },
    {
     "name": "stderr",
     "output_type": "stream",
     "text": [
      "01:22:35 - OI2: INFO - Duplicated gene symbols in the prize file (we'll keep the max prize):\n",
      "01:22:35 - OI2: INFO - []\n",
      "01:22:35 - OI2: INFO - Members of the prize file not present in the interactome:\n",
      "01:22:35 - OI2: INFO - []\n"
     ]
    },
    {
     "name": "stdout",
     "output_type": "stream",
     "text": [
      "progress = 8.9%\n"
     ]
    },
    {
     "name": "stderr",
     "output_type": "stream",
     "text": [
      "01:22:38 - OI2: INFO - Duplicated gene symbols in the prize file (we'll keep the max prize):\n",
      "01:22:38 - OI2: INFO - []\n",
      "01:22:38 - OI2: INFO - Members of the prize file not present in the interactome:\n",
      "01:22:38 - OI2: INFO - []\n"
     ]
    },
    {
     "name": "stdout",
     "output_type": "stream",
     "text": [
      "progress = 9.0%\n"
     ]
    },
    {
     "name": "stderr",
     "output_type": "stream",
     "text": [
      "01:22:40 - OI2: INFO - Duplicated gene symbols in the prize file (we'll keep the max prize):\n",
      "01:22:40 - OI2: INFO - []\n",
      "01:22:40 - OI2: INFO - Members of the prize file not present in the interactome:\n",
      "01:22:40 - OI2: INFO - []\n"
     ]
    },
    {
     "name": "stdout",
     "output_type": "stream",
     "text": [
      "progress = 9.1%\n"
     ]
    },
    {
     "name": "stderr",
     "output_type": "stream",
     "text": [
      "01:22:43 - OI2: INFO - Duplicated gene symbols in the prize file (we'll keep the max prize):\n",
      "01:22:43 - OI2: INFO - []\n",
      "01:22:43 - OI2: INFO - Members of the prize file not present in the interactome:\n",
      "01:22:43 - OI2: INFO - []\n"
     ]
    },
    {
     "name": "stdout",
     "output_type": "stream",
     "text": [
      "progress = 9.2%\n"
     ]
    },
    {
     "name": "stderr",
     "output_type": "stream",
     "text": [
      "01:22:46 - OI2: INFO - Duplicated gene symbols in the prize file (we'll keep the max prize):\n",
      "01:22:46 - OI2: INFO - []\n",
      "01:22:46 - OI2: INFO - Members of the prize file not present in the interactome:\n",
      "01:22:46 - OI2: INFO - []\n"
     ]
    },
    {
     "name": "stdout",
     "output_type": "stream",
     "text": [
      "progress = 9.3%\n"
     ]
    },
    {
     "name": "stderr",
     "output_type": "stream",
     "text": [
      "01:22:48 - OI2: INFO - Duplicated gene symbols in the prize file (we'll keep the max prize):\n",
      "01:22:48 - OI2: INFO - []\n",
      "01:22:48 - OI2: INFO - Members of the prize file not present in the interactome:\n",
      "01:22:48 - OI2: INFO - []\n"
     ]
    },
    {
     "name": "stdout",
     "output_type": "stream",
     "text": [
      "progress = 9.4%\n"
     ]
    },
    {
     "name": "stderr",
     "output_type": "stream",
     "text": [
      "01:22:51 - OI2: INFO - Duplicated gene symbols in the prize file (we'll keep the max prize):\n",
      "01:22:51 - OI2: INFO - []\n",
      "01:22:51 - OI2: INFO - Members of the prize file not present in the interactome:\n",
      "01:22:51 - OI2: INFO - []\n"
     ]
    },
    {
     "name": "stdout",
     "output_type": "stream",
     "text": [
      "progress = 9.5%\n"
     ]
    },
    {
     "name": "stderr",
     "output_type": "stream",
     "text": [
      "01:22:53 - OI2: INFO - Duplicated gene symbols in the prize file (we'll keep the max prize):\n",
      "01:22:53 - OI2: INFO - []\n",
      "01:22:53 - OI2: INFO - Members of the prize file not present in the interactome:\n",
      "01:22:53 - OI2: INFO - []\n"
     ]
    },
    {
     "name": "stdout",
     "output_type": "stream",
     "text": [
      "progress = 9.6%\n"
     ]
    },
    {
     "name": "stderr",
     "output_type": "stream",
     "text": [
      "01:22:56 - OI2: INFO - Duplicated gene symbols in the prize file (we'll keep the max prize):\n",
      "01:22:56 - OI2: INFO - []\n",
      "01:22:56 - OI2: INFO - Members of the prize file not present in the interactome:\n",
      "01:22:56 - OI2: INFO - []\n"
     ]
    },
    {
     "name": "stdout",
     "output_type": "stream",
     "text": [
      "progress = 9.700000000000001%\n"
     ]
    },
    {
     "name": "stderr",
     "output_type": "stream",
     "text": [
      "01:22:59 - OI2: INFO - Duplicated gene symbols in the prize file (we'll keep the max prize):\n",
      "01:22:59 - OI2: INFO - []\n",
      "01:22:59 - OI2: INFO - Members of the prize file not present in the interactome:\n",
      "01:22:59 - OI2: INFO - []\n"
     ]
    },
    {
     "name": "stdout",
     "output_type": "stream",
     "text": [
      "progress = 9.8%\n"
     ]
    },
    {
     "name": "stderr",
     "output_type": "stream",
     "text": [
      "01:23:01 - OI2: INFO - Duplicated gene symbols in the prize file (we'll keep the max prize):\n",
      "01:23:01 - OI2: INFO - []\n",
      "01:23:01 - OI2: INFO - Members of the prize file not present in the interactome:\n",
      "01:23:01 - OI2: INFO - []\n"
     ]
    },
    {
     "name": "stdout",
     "output_type": "stream",
     "text": [
      "progress = 9.9%\n"
     ]
    },
    {
     "name": "stderr",
     "output_type": "stream",
     "text": [
      "01:23:04 - OI2: INFO - Duplicated gene symbols in the prize file (we'll keep the max prize):\n",
      "01:23:04 - OI2: INFO - []\n",
      "01:23:04 - OI2: INFO - Members of the prize file not present in the interactome:\n",
      "01:23:04 - OI2: INFO - []\n"
     ]
    },
    {
     "name": "stdout",
     "output_type": "stream",
     "text": [
      "progress = 10.0%\n"
     ]
    },
    {
     "name": "stderr",
     "output_type": "stream",
     "text": [
      "01:23:07 - OI2: INFO - Duplicated gene symbols in the prize file (we'll keep the max prize):\n",
      "01:23:07 - OI2: INFO - []\n",
      "01:23:07 - OI2: INFO - Members of the prize file not present in the interactome:\n",
      "01:23:07 - OI2: INFO - []\n"
     ]
    },
    {
     "name": "stdout",
     "output_type": "stream",
     "text": [
      "progress = 10.100000000000001%\n"
     ]
    },
    {
     "name": "stderr",
     "output_type": "stream",
     "text": [
      "01:23:09 - OI2: INFO - Duplicated gene symbols in the prize file (we'll keep the max prize):\n",
      "01:23:09 - OI2: INFO - []\n",
      "01:23:09 - OI2: INFO - Members of the prize file not present in the interactome:\n",
      "01:23:09 - OI2: INFO - []\n"
     ]
    },
    {
     "name": "stdout",
     "output_type": "stream",
     "text": [
      "progress = 10.2%\n"
     ]
    },
    {
     "name": "stderr",
     "output_type": "stream",
     "text": [
      "01:23:12 - OI2: INFO - Duplicated gene symbols in the prize file (we'll keep the max prize):\n",
      "01:23:12 - OI2: INFO - []\n",
      "01:23:12 - OI2: INFO - Members of the prize file not present in the interactome:\n",
      "01:23:12 - OI2: INFO - []\n"
     ]
    },
    {
     "name": "stdout",
     "output_type": "stream",
     "text": [
      "progress = 10.299999999999999%\n"
     ]
    },
    {
     "name": "stderr",
     "output_type": "stream",
     "text": [
      "01:23:15 - OI2: INFO - Duplicated gene symbols in the prize file (we'll keep the max prize):\n",
      "01:23:15 - OI2: INFO - []\n",
      "01:23:15 - OI2: INFO - Members of the prize file not present in the interactome:\n",
      "01:23:15 - OI2: INFO - []\n"
     ]
    },
    {
     "name": "stdout",
     "output_type": "stream",
     "text": [
      "progress = 10.4%\n"
     ]
    },
    {
     "name": "stderr",
     "output_type": "stream",
     "text": [
      "01:23:17 - OI2: INFO - Duplicated gene symbols in the prize file (we'll keep the max prize):\n",
      "01:23:17 - OI2: INFO - []\n",
      "01:23:17 - OI2: INFO - Members of the prize file not present in the interactome:\n",
      "01:23:17 - OI2: INFO - []\n"
     ]
    },
    {
     "name": "stdout",
     "output_type": "stream",
     "text": [
      "progress = 10.5%\n"
     ]
    },
    {
     "name": "stderr",
     "output_type": "stream",
     "text": [
      "01:23:20 - OI2: INFO - Duplicated gene symbols in the prize file (we'll keep the max prize):\n",
      "01:23:20 - OI2: INFO - []\n",
      "01:23:20 - OI2: INFO - Members of the prize file not present in the interactome:\n",
      "01:23:20 - OI2: INFO - []\n"
     ]
    },
    {
     "name": "stdout",
     "output_type": "stream",
     "text": [
      "progress = 10.6%\n"
     ]
    },
    {
     "name": "stderr",
     "output_type": "stream",
     "text": [
      "01:23:22 - OI2: INFO - Duplicated gene symbols in the prize file (we'll keep the max prize):\n",
      "01:23:22 - OI2: INFO - []\n",
      "01:23:22 - OI2: INFO - Members of the prize file not present in the interactome:\n",
      "01:23:22 - OI2: INFO - []\n"
     ]
    },
    {
     "name": "stdout",
     "output_type": "stream",
     "text": [
      "progress = 10.7%\n"
     ]
    },
    {
     "name": "stderr",
     "output_type": "stream",
     "text": [
      "01:23:25 - OI2: INFO - Duplicated gene symbols in the prize file (we'll keep the max prize):\n",
      "01:23:25 - OI2: INFO - []\n",
      "01:23:25 - OI2: INFO - Members of the prize file not present in the interactome:\n",
      "01:23:25 - OI2: INFO - []\n"
     ]
    },
    {
     "name": "stdout",
     "output_type": "stream",
     "text": [
      "progress = 10.8%\n"
     ]
    },
    {
     "name": "stderr",
     "output_type": "stream",
     "text": [
      "01:23:28 - OI2: INFO - Duplicated gene symbols in the prize file (we'll keep the max prize):\n",
      "01:23:28 - OI2: INFO - []\n",
      "01:23:28 - OI2: INFO - Members of the prize file not present in the interactome:\n",
      "01:23:28 - OI2: INFO - []\n"
     ]
    },
    {
     "name": "stdout",
     "output_type": "stream",
     "text": [
      "progress = 10.9%\n"
     ]
    },
    {
     "name": "stderr",
     "output_type": "stream",
     "text": [
      "01:23:30 - OI2: INFO - Duplicated gene symbols in the prize file (we'll keep the max prize):\n",
      "01:23:30 - OI2: INFO - []\n",
      "01:23:30 - OI2: INFO - Members of the prize file not present in the interactome:\n",
      "01:23:30 - OI2: INFO - []\n"
     ]
    },
    {
     "name": "stdout",
     "output_type": "stream",
     "text": [
      "progress = 11.0%\n"
     ]
    },
    {
     "name": "stderr",
     "output_type": "stream",
     "text": [
      "01:23:33 - OI2: INFO - Duplicated gene symbols in the prize file (we'll keep the max prize):\n",
      "01:23:33 - OI2: INFO - []\n",
      "01:23:33 - OI2: INFO - Members of the prize file not present in the interactome:\n",
      "01:23:33 - OI2: INFO - []\n"
     ]
    },
    {
     "name": "stdout",
     "output_type": "stream",
     "text": [
      "progress = 11.1%\n"
     ]
    },
    {
     "name": "stderr",
     "output_type": "stream",
     "text": [
      "01:23:36 - OI2: INFO - Duplicated gene symbols in the prize file (we'll keep the max prize):\n",
      "01:23:36 - OI2: INFO - []\n",
      "01:23:36 - OI2: INFO - Members of the prize file not present in the interactome:\n",
      "01:23:36 - OI2: INFO - []\n"
     ]
    },
    {
     "name": "stdout",
     "output_type": "stream",
     "text": [
      "progress = 11.200000000000001%\n"
     ]
    },
    {
     "name": "stderr",
     "output_type": "stream",
     "text": [
      "01:23:38 - OI2: INFO - Duplicated gene symbols in the prize file (we'll keep the max prize):\n",
      "01:23:38 - OI2: INFO - []\n",
      "01:23:38 - OI2: INFO - Members of the prize file not present in the interactome:\n",
      "01:23:38 - OI2: INFO - []\n"
     ]
    },
    {
     "name": "stdout",
     "output_type": "stream",
     "text": [
      "progress = 11.3%\n"
     ]
    },
    {
     "name": "stderr",
     "output_type": "stream",
     "text": [
      "01:23:41 - OI2: INFO - Duplicated gene symbols in the prize file (we'll keep the max prize):\n",
      "01:23:41 - OI2: INFO - []\n",
      "01:23:41 - OI2: INFO - Members of the prize file not present in the interactome:\n",
      "01:23:41 - OI2: INFO - []\n"
     ]
    },
    {
     "name": "stdout",
     "output_type": "stream",
     "text": [
      "progress = 11.4%\n"
     ]
    },
    {
     "name": "stderr",
     "output_type": "stream",
     "text": [
      "01:23:44 - OI2: INFO - Duplicated gene symbols in the prize file (we'll keep the max prize):\n",
      "01:23:44 - OI2: INFO - []\n",
      "01:23:44 - OI2: INFO - Members of the prize file not present in the interactome:\n",
      "01:23:44 - OI2: INFO - []\n"
     ]
    },
    {
     "name": "stdout",
     "output_type": "stream",
     "text": [
      "progress = 11.5%\n"
     ]
    },
    {
     "name": "stderr",
     "output_type": "stream",
     "text": [
      "01:23:46 - OI2: INFO - Duplicated gene symbols in the prize file (we'll keep the max prize):\n",
      "01:23:46 - OI2: INFO - []\n",
      "01:23:46 - OI2: INFO - Members of the prize file not present in the interactome:\n",
      "01:23:46 - OI2: INFO - []\n"
     ]
    },
    {
     "name": "stdout",
     "output_type": "stream",
     "text": [
      "progress = 11.600000000000001%\n"
     ]
    },
    {
     "name": "stderr",
     "output_type": "stream",
     "text": [
      "01:23:49 - OI2: INFO - Duplicated gene symbols in the prize file (we'll keep the max prize):\n",
      "01:23:49 - OI2: INFO - []\n",
      "01:23:49 - OI2: INFO - Members of the prize file not present in the interactome:\n",
      "01:23:49 - OI2: INFO - []\n"
     ]
    },
    {
     "name": "stdout",
     "output_type": "stream",
     "text": [
      "progress = 11.700000000000001%\n"
     ]
    },
    {
     "name": "stderr",
     "output_type": "stream",
     "text": [
      "01:23:52 - OI2: INFO - Duplicated gene symbols in the prize file (we'll keep the max prize):\n",
      "01:23:52 - OI2: INFO - []\n",
      "01:23:52 - OI2: INFO - Members of the prize file not present in the interactome:\n",
      "01:23:52 - OI2: INFO - []\n"
     ]
    },
    {
     "name": "stdout",
     "output_type": "stream",
     "text": [
      "progress = 11.799999999999999%\n"
     ]
    },
    {
     "name": "stderr",
     "output_type": "stream",
     "text": [
      "01:23:54 - OI2: INFO - Duplicated gene symbols in the prize file (we'll keep the max prize):\n",
      "01:23:54 - OI2: INFO - []\n",
      "01:23:54 - OI2: INFO - Members of the prize file not present in the interactome:\n",
      "01:23:54 - OI2: INFO - []\n"
     ]
    },
    {
     "name": "stdout",
     "output_type": "stream",
     "text": [
      "progress = 11.899999999999999%\n"
     ]
    },
    {
     "name": "stderr",
     "output_type": "stream",
     "text": [
      "01:23:57 - OI2: INFO - Duplicated gene symbols in the prize file (we'll keep the max prize):\n",
      "01:23:57 - OI2: INFO - []\n",
      "01:23:57 - OI2: INFO - Members of the prize file not present in the interactome:\n",
      "01:23:57 - OI2: INFO - []\n"
     ]
    },
    {
     "name": "stdout",
     "output_type": "stream",
     "text": [
      "progress = 12.0%\n"
     ]
    },
    {
     "name": "stderr",
     "output_type": "stream",
     "text": [
      "01:24:00 - OI2: INFO - Duplicated gene symbols in the prize file (we'll keep the max prize):\n",
      "01:24:00 - OI2: INFO - []\n",
      "01:24:00 - OI2: INFO - Members of the prize file not present in the interactome:\n",
      "01:24:00 - OI2: INFO - []\n"
     ]
    },
    {
     "name": "stdout",
     "output_type": "stream",
     "text": [
      "progress = 12.1%\n"
     ]
    },
    {
     "name": "stderr",
     "output_type": "stream",
     "text": [
      "01:24:02 - OI2: INFO - Duplicated gene symbols in the prize file (we'll keep the max prize):\n",
      "01:24:02 - OI2: INFO - []\n",
      "01:24:02 - OI2: INFO - Members of the prize file not present in the interactome:\n",
      "01:24:02 - OI2: INFO - []\n"
     ]
    },
    {
     "name": "stdout",
     "output_type": "stream",
     "text": [
      "progress = 12.2%\n"
     ]
    },
    {
     "name": "stderr",
     "output_type": "stream",
     "text": [
      "01:24:05 - OI2: INFO - Duplicated gene symbols in the prize file (we'll keep the max prize):\n",
      "01:24:05 - OI2: INFO - []\n",
      "01:24:05 - OI2: INFO - Members of the prize file not present in the interactome:\n",
      "01:24:05 - OI2: INFO - []\n"
     ]
    },
    {
     "name": "stdout",
     "output_type": "stream",
     "text": [
      "progress = 12.3%\n"
     ]
    },
    {
     "name": "stderr",
     "output_type": "stream",
     "text": [
      "01:24:08 - OI2: INFO - Duplicated gene symbols in the prize file (we'll keep the max prize):\n",
      "01:24:08 - OI2: INFO - []\n",
      "01:24:08 - OI2: INFO - Members of the prize file not present in the interactome:\n",
      "01:24:08 - OI2: INFO - []\n"
     ]
    },
    {
     "name": "stdout",
     "output_type": "stream",
     "text": [
      "progress = 12.4%\n"
     ]
    },
    {
     "name": "stderr",
     "output_type": "stream",
     "text": [
      "01:24:10 - OI2: INFO - Duplicated gene symbols in the prize file (we'll keep the max prize):\n",
      "01:24:10 - OI2: INFO - []\n",
      "01:24:10 - OI2: INFO - Members of the prize file not present in the interactome:\n",
      "01:24:10 - OI2: INFO - []\n"
     ]
    },
    {
     "name": "stdout",
     "output_type": "stream",
     "text": [
      "progress = 12.5%\n"
     ]
    },
    {
     "name": "stderr",
     "output_type": "stream",
     "text": [
      "01:24:13 - OI2: INFO - Duplicated gene symbols in the prize file (we'll keep the max prize):\n",
      "01:24:13 - OI2: INFO - []\n",
      "01:24:13 - OI2: INFO - Members of the prize file not present in the interactome:\n",
      "01:24:13 - OI2: INFO - []\n"
     ]
    },
    {
     "name": "stdout",
     "output_type": "stream",
     "text": [
      "progress = 12.6%\n"
     ]
    },
    {
     "name": "stderr",
     "output_type": "stream",
     "text": [
      "01:24:16 - OI2: INFO - Duplicated gene symbols in the prize file (we'll keep the max prize):\n",
      "01:24:16 - OI2: INFO - []\n",
      "01:24:16 - OI2: INFO - Members of the prize file not present in the interactome:\n",
      "01:24:16 - OI2: INFO - []\n"
     ]
    },
    {
     "name": "stdout",
     "output_type": "stream",
     "text": [
      "progress = 12.7%\n"
     ]
    },
    {
     "name": "stderr",
     "output_type": "stream",
     "text": [
      "01:24:19 - OI2: INFO - Duplicated gene symbols in the prize file (we'll keep the max prize):\n",
      "01:24:19 - OI2: INFO - []\n",
      "01:24:19 - OI2: INFO - Members of the prize file not present in the interactome:\n",
      "01:24:19 - OI2: INFO - []\n"
     ]
    },
    {
     "name": "stdout",
     "output_type": "stream",
     "text": [
      "progress = 12.8%\n"
     ]
    },
    {
     "name": "stderr",
     "output_type": "stream",
     "text": [
      "01:24:21 - OI2: INFO - Duplicated gene symbols in the prize file (we'll keep the max prize):\n",
      "01:24:21 - OI2: INFO - []\n",
      "01:24:21 - OI2: INFO - Members of the prize file not present in the interactome:\n",
      "01:24:21 - OI2: INFO - []\n"
     ]
    },
    {
     "name": "stdout",
     "output_type": "stream",
     "text": [
      "progress = 12.9%\n"
     ]
    },
    {
     "name": "stderr",
     "output_type": "stream",
     "text": [
      "01:24:24 - OI2: INFO - Duplicated gene symbols in the prize file (we'll keep the max prize):\n",
      "01:24:24 - OI2: INFO - []\n",
      "01:24:24 - OI2: INFO - Members of the prize file not present in the interactome:\n",
      "01:24:24 - OI2: INFO - []\n"
     ]
    },
    {
     "name": "stdout",
     "output_type": "stream",
     "text": [
      "progress = 13.0%\n"
     ]
    },
    {
     "name": "stderr",
     "output_type": "stream",
     "text": [
      "01:24:27 - OI2: INFO - Duplicated gene symbols in the prize file (we'll keep the max prize):\n",
      "01:24:27 - OI2: INFO - []\n",
      "01:24:27 - OI2: INFO - Members of the prize file not present in the interactome:\n",
      "01:24:27 - OI2: INFO - []\n"
     ]
    },
    {
     "name": "stdout",
     "output_type": "stream",
     "text": [
      "progress = 13.100000000000001%\n"
     ]
    },
    {
     "name": "stderr",
     "output_type": "stream",
     "text": [
      "01:24:29 - OI2: INFO - Duplicated gene symbols in the prize file (we'll keep the max prize):\n",
      "01:24:29 - OI2: INFO - []\n",
      "01:24:29 - OI2: INFO - Members of the prize file not present in the interactome:\n",
      "01:24:29 - OI2: INFO - []\n"
     ]
    },
    {
     "name": "stdout",
     "output_type": "stream",
     "text": [
      "progress = 13.200000000000001%\n"
     ]
    },
    {
     "name": "stderr",
     "output_type": "stream",
     "text": [
      "01:24:32 - OI2: INFO - Duplicated gene symbols in the prize file (we'll keep the max prize):\n",
      "01:24:32 - OI2: INFO - []\n",
      "01:24:32 - OI2: INFO - Members of the prize file not present in the interactome:\n",
      "01:24:32 - OI2: INFO - []\n"
     ]
    },
    {
     "name": "stdout",
     "output_type": "stream",
     "text": [
      "progress = 13.3%\n"
     ]
    },
    {
     "name": "stderr",
     "output_type": "stream",
     "text": [
      "01:24:34 - OI2: INFO - Duplicated gene symbols in the prize file (we'll keep the max prize):\n",
      "01:24:34 - OI2: INFO - []\n",
      "01:24:35 - OI2: INFO - Members of the prize file not present in the interactome:\n",
      "01:24:35 - OI2: INFO - []\n"
     ]
    },
    {
     "name": "stdout",
     "output_type": "stream",
     "text": [
      "progress = 13.4%\n"
     ]
    },
    {
     "name": "stderr",
     "output_type": "stream",
     "text": [
      "01:24:37 - OI2: INFO - Duplicated gene symbols in the prize file (we'll keep the max prize):\n",
      "01:24:37 - OI2: INFO - []\n",
      "01:24:37 - OI2: INFO - Members of the prize file not present in the interactome:\n",
      "01:24:37 - OI2: INFO - []\n"
     ]
    },
    {
     "name": "stdout",
     "output_type": "stream",
     "text": [
      "progress = 13.5%\n"
     ]
    },
    {
     "name": "stderr",
     "output_type": "stream",
     "text": [
      "01:24:40 - OI2: INFO - Duplicated gene symbols in the prize file (we'll keep the max prize):\n",
      "01:24:40 - OI2: INFO - []\n",
      "01:24:40 - OI2: INFO - Members of the prize file not present in the interactome:\n",
      "01:24:40 - OI2: INFO - []\n"
     ]
    },
    {
     "name": "stdout",
     "output_type": "stream",
     "text": [
      "progress = 13.600000000000001%\n"
     ]
    },
    {
     "name": "stderr",
     "output_type": "stream",
     "text": [
      "01:24:42 - OI2: INFO - Duplicated gene symbols in the prize file (we'll keep the max prize):\n",
      "01:24:42 - OI2: INFO - []\n",
      "01:24:42 - OI2: INFO - Members of the prize file not present in the interactome:\n",
      "01:24:42 - OI2: INFO - []\n"
     ]
    },
    {
     "name": "stdout",
     "output_type": "stream",
     "text": [
      "progress = 13.700000000000001%\n"
     ]
    },
    {
     "name": "stderr",
     "output_type": "stream",
     "text": [
      "01:24:45 - OI2: INFO - Duplicated gene symbols in the prize file (we'll keep the max prize):\n",
      "01:24:45 - OI2: INFO - []\n",
      "01:24:45 - OI2: INFO - Members of the prize file not present in the interactome:\n",
      "01:24:45 - OI2: INFO - []\n"
     ]
    },
    {
     "name": "stdout",
     "output_type": "stream",
     "text": [
      "progress = 13.8%\n"
     ]
    },
    {
     "name": "stderr",
     "output_type": "stream",
     "text": [
      "01:24:48 - OI2: INFO - Duplicated gene symbols in the prize file (we'll keep the max prize):\n",
      "01:24:48 - OI2: INFO - []\n",
      "01:24:48 - OI2: INFO - Members of the prize file not present in the interactome:\n",
      "01:24:48 - OI2: INFO - []\n"
     ]
    },
    {
     "name": "stdout",
     "output_type": "stream",
     "text": [
      "progress = 13.900000000000002%\n"
     ]
    },
    {
     "name": "stderr",
     "output_type": "stream",
     "text": [
      "01:24:51 - OI2: INFO - Duplicated gene symbols in the prize file (we'll keep the max prize):\n",
      "01:24:51 - OI2: INFO - []\n",
      "01:24:51 - OI2: INFO - Members of the prize file not present in the interactome:\n",
      "01:24:51 - OI2: INFO - []\n"
     ]
    },
    {
     "name": "stdout",
     "output_type": "stream",
     "text": [
      "progress = 14.000000000000002%\n"
     ]
    },
    {
     "name": "stderr",
     "output_type": "stream",
     "text": [
      "01:24:53 - OI2: INFO - Duplicated gene symbols in the prize file (we'll keep the max prize):\n",
      "01:24:53 - OI2: INFO - []\n",
      "01:24:53 - OI2: INFO - Members of the prize file not present in the interactome:\n",
      "01:24:53 - OI2: INFO - []\n"
     ]
    },
    {
     "name": "stdout",
     "output_type": "stream",
     "text": [
      "progress = 14.099999999999998%\n"
     ]
    },
    {
     "name": "stderr",
     "output_type": "stream",
     "text": [
      "01:24:56 - OI2: INFO - Duplicated gene symbols in the prize file (we'll keep the max prize):\n",
      "01:24:56 - OI2: INFO - []\n",
      "01:24:56 - OI2: INFO - Members of the prize file not present in the interactome:\n",
      "01:24:56 - OI2: INFO - []\n"
     ]
    },
    {
     "name": "stdout",
     "output_type": "stream",
     "text": [
      "progress = 14.2%\n"
     ]
    },
    {
     "name": "stderr",
     "output_type": "stream",
     "text": [
      "01:24:59 - OI2: INFO - Duplicated gene symbols in the prize file (we'll keep the max prize):\n",
      "01:24:59 - OI2: INFO - []\n",
      "01:24:59 - OI2: INFO - Members of the prize file not present in the interactome:\n",
      "01:24:59 - OI2: INFO - []\n"
     ]
    },
    {
     "name": "stdout",
     "output_type": "stream",
     "text": [
      "progress = 14.299999999999999%\n"
     ]
    },
    {
     "name": "stderr",
     "output_type": "stream",
     "text": [
      "01:25:01 - OI2: INFO - Duplicated gene symbols in the prize file (we'll keep the max prize):\n",
      "01:25:01 - OI2: INFO - []\n",
      "01:25:01 - OI2: INFO - Members of the prize file not present in the interactome:\n",
      "01:25:01 - OI2: INFO - []\n"
     ]
    },
    {
     "name": "stdout",
     "output_type": "stream",
     "text": [
      "progress = 14.399999999999999%\n"
     ]
    },
    {
     "name": "stderr",
     "output_type": "stream",
     "text": [
      "01:25:04 - OI2: INFO - Duplicated gene symbols in the prize file (we'll keep the max prize):\n",
      "01:25:04 - OI2: INFO - []\n",
      "01:25:04 - OI2: INFO - Members of the prize file not present in the interactome:\n",
      "01:25:04 - OI2: INFO - []\n"
     ]
    },
    {
     "name": "stdout",
     "output_type": "stream",
     "text": [
      "progress = 14.499999999999998%\n"
     ]
    },
    {
     "name": "stderr",
     "output_type": "stream",
     "text": [
      "01:25:07 - OI2: INFO - Duplicated gene symbols in the prize file (we'll keep the max prize):\n",
      "01:25:07 - OI2: INFO - []\n",
      "01:25:07 - OI2: INFO - Members of the prize file not present in the interactome:\n",
      "01:25:07 - OI2: INFO - []\n"
     ]
    },
    {
     "name": "stdout",
     "output_type": "stream",
     "text": [
      "progress = 14.6%\n"
     ]
    },
    {
     "name": "stderr",
     "output_type": "stream",
     "text": [
      "01:25:09 - OI2: INFO - Duplicated gene symbols in the prize file (we'll keep the max prize):\n",
      "01:25:09 - OI2: INFO - []\n",
      "01:25:09 - OI2: INFO - Members of the prize file not present in the interactome:\n",
      "01:25:09 - OI2: INFO - []\n"
     ]
    },
    {
     "name": "stdout",
     "output_type": "stream",
     "text": [
      "progress = 14.7%\n"
     ]
    },
    {
     "name": "stderr",
     "output_type": "stream",
     "text": [
      "01:25:12 - OI2: INFO - Duplicated gene symbols in the prize file (we'll keep the max prize):\n",
      "01:25:12 - OI2: INFO - []\n",
      "01:25:12 - OI2: INFO - Members of the prize file not present in the interactome:\n",
      "01:25:12 - OI2: INFO - []\n"
     ]
    },
    {
     "name": "stdout",
     "output_type": "stream",
     "text": [
      "progress = 14.799999999999999%\n"
     ]
    },
    {
     "name": "stderr",
     "output_type": "stream",
     "text": [
      "01:25:15 - OI2: INFO - Duplicated gene symbols in the prize file (we'll keep the max prize):\n",
      "01:25:15 - OI2: INFO - []\n",
      "01:25:15 - OI2: INFO - Members of the prize file not present in the interactome:\n",
      "01:25:15 - OI2: INFO - []\n"
     ]
    },
    {
     "name": "stdout",
     "output_type": "stream",
     "text": [
      "progress = 14.899999999999999%\n"
     ]
    },
    {
     "name": "stderr",
     "output_type": "stream",
     "text": [
      "01:25:17 - OI2: INFO - Duplicated gene symbols in the prize file (we'll keep the max prize):\n",
      "01:25:17 - OI2: INFO - []\n",
      "01:25:17 - OI2: INFO - Members of the prize file not present in the interactome:\n",
      "01:25:17 - OI2: INFO - []\n"
     ]
    },
    {
     "name": "stdout",
     "output_type": "stream",
     "text": [
      "progress = 15.0%\n"
     ]
    },
    {
     "name": "stderr",
     "output_type": "stream",
     "text": [
      "01:25:20 - OI2: INFO - Duplicated gene symbols in the prize file (we'll keep the max prize):\n",
      "01:25:20 - OI2: INFO - []\n",
      "01:25:20 - OI2: INFO - Members of the prize file not present in the interactome:\n",
      "01:25:20 - OI2: INFO - []\n"
     ]
    },
    {
     "name": "stdout",
     "output_type": "stream",
     "text": [
      "progress = 15.1%\n"
     ]
    },
    {
     "name": "stderr",
     "output_type": "stream",
     "text": [
      "01:25:22 - OI2: INFO - Duplicated gene symbols in the prize file (we'll keep the max prize):\n",
      "01:25:22 - OI2: INFO - []\n",
      "01:25:22 - OI2: INFO - Members of the prize file not present in the interactome:\n",
      "01:25:22 - OI2: INFO - []\n"
     ]
    },
    {
     "name": "stdout",
     "output_type": "stream",
     "text": [
      "progress = 15.2%\n"
     ]
    },
    {
     "name": "stderr",
     "output_type": "stream",
     "text": [
      "01:25:25 - OI2: INFO - Duplicated gene symbols in the prize file (we'll keep the max prize):\n",
      "01:25:25 - OI2: INFO - []\n",
      "01:25:25 - OI2: INFO - Members of the prize file not present in the interactome:\n",
      "01:25:25 - OI2: INFO - []\n"
     ]
    },
    {
     "name": "stdout",
     "output_type": "stream",
     "text": [
      "progress = 15.299999999999999%\n"
     ]
    },
    {
     "name": "stderr",
     "output_type": "stream",
     "text": [
      "01:25:28 - OI2: INFO - Duplicated gene symbols in the prize file (we'll keep the max prize):\n",
      "01:25:28 - OI2: INFO - []\n",
      "01:25:28 - OI2: INFO - Members of the prize file not present in the interactome:\n",
      "01:25:28 - OI2: INFO - []\n"
     ]
    },
    {
     "name": "stdout",
     "output_type": "stream",
     "text": [
      "progress = 15.4%\n"
     ]
    },
    {
     "name": "stderr",
     "output_type": "stream",
     "text": [
      "01:25:30 - OI2: INFO - Duplicated gene symbols in the prize file (we'll keep the max prize):\n",
      "01:25:30 - OI2: INFO - []\n",
      "01:25:30 - OI2: INFO - Members of the prize file not present in the interactome:\n",
      "01:25:30 - OI2: INFO - []\n"
     ]
    },
    {
     "name": "stdout",
     "output_type": "stream",
     "text": [
      "progress = 15.5%\n"
     ]
    },
    {
     "name": "stderr",
     "output_type": "stream",
     "text": [
      "01:25:33 - OI2: INFO - Duplicated gene symbols in the prize file (we'll keep the max prize):\n",
      "01:25:33 - OI2: INFO - []\n",
      "01:25:33 - OI2: INFO - Members of the prize file not present in the interactome:\n",
      "01:25:33 - OI2: INFO - []\n"
     ]
    },
    {
     "name": "stdout",
     "output_type": "stream",
     "text": [
      "progress = 15.6%\n"
     ]
    },
    {
     "name": "stderr",
     "output_type": "stream",
     "text": [
      "01:25:36 - OI2: INFO - Duplicated gene symbols in the prize file (we'll keep the max prize):\n",
      "01:25:36 - OI2: INFO - []\n",
      "01:25:36 - OI2: INFO - Members of the prize file not present in the interactome:\n",
      "01:25:36 - OI2: INFO - []\n"
     ]
    },
    {
     "name": "stdout",
     "output_type": "stream",
     "text": [
      "progress = 15.7%\n"
     ]
    },
    {
     "name": "stderr",
     "output_type": "stream",
     "text": [
      "01:25:39 - OI2: INFO - Duplicated gene symbols in the prize file (we'll keep the max prize):\n",
      "01:25:39 - OI2: INFO - []\n",
      "01:25:39 - OI2: INFO - Members of the prize file not present in the interactome:\n",
      "01:25:39 - OI2: INFO - []\n"
     ]
    },
    {
     "name": "stdout",
     "output_type": "stream",
     "text": [
      "progress = 15.8%\n"
     ]
    },
    {
     "name": "stderr",
     "output_type": "stream",
     "text": [
      "01:25:41 - OI2: INFO - Duplicated gene symbols in the prize file (we'll keep the max prize):\n",
      "01:25:41 - OI2: INFO - []\n",
      "01:25:41 - OI2: INFO - Members of the prize file not present in the interactome:\n",
      "01:25:41 - OI2: INFO - []\n"
     ]
    },
    {
     "name": "stdout",
     "output_type": "stream",
     "text": [
      "progress = 15.9%\n"
     ]
    },
    {
     "name": "stderr",
     "output_type": "stream",
     "text": [
      "01:25:44 - OI2: INFO - Duplicated gene symbols in the prize file (we'll keep the max prize):\n",
      "01:25:44 - OI2: INFO - []\n",
      "01:25:44 - OI2: INFO - Members of the prize file not present in the interactome:\n",
      "01:25:44 - OI2: INFO - []\n"
     ]
    },
    {
     "name": "stdout",
     "output_type": "stream",
     "text": [
      "progress = 16.0%\n"
     ]
    },
    {
     "name": "stderr",
     "output_type": "stream",
     "text": [
      "01:25:46 - OI2: INFO - Duplicated gene symbols in the prize file (we'll keep the max prize):\n",
      "01:25:46 - OI2: INFO - []\n",
      "01:25:46 - OI2: INFO - Members of the prize file not present in the interactome:\n",
      "01:25:46 - OI2: INFO - []\n"
     ]
    },
    {
     "name": "stdout",
     "output_type": "stream",
     "text": [
      "progress = 16.1%\n"
     ]
    },
    {
     "name": "stderr",
     "output_type": "stream",
     "text": [
      "01:25:49 - OI2: INFO - Duplicated gene symbols in the prize file (we'll keep the max prize):\n",
      "01:25:49 - OI2: INFO - []\n",
      "01:25:49 - OI2: INFO - Members of the prize file not present in the interactome:\n",
      "01:25:49 - OI2: INFO - []\n"
     ]
    },
    {
     "name": "stdout",
     "output_type": "stream",
     "text": [
      "progress = 16.2%\n"
     ]
    },
    {
     "name": "stderr",
     "output_type": "stream",
     "text": [
      "01:25:52 - OI2: INFO - Duplicated gene symbols in the prize file (we'll keep the max prize):\n",
      "01:25:52 - OI2: INFO - []\n",
      "01:25:52 - OI2: INFO - Members of the prize file not present in the interactome:\n",
      "01:25:52 - OI2: INFO - []\n"
     ]
    },
    {
     "name": "stdout",
     "output_type": "stream",
     "text": [
      "progress = 16.3%\n"
     ]
    },
    {
     "name": "stderr",
     "output_type": "stream",
     "text": [
      "01:25:55 - OI2: INFO - Duplicated gene symbols in the prize file (we'll keep the max prize):\n",
      "01:25:55 - OI2: INFO - []\n",
      "01:25:55 - OI2: INFO - Members of the prize file not present in the interactome:\n",
      "01:25:55 - OI2: INFO - []\n"
     ]
    },
    {
     "name": "stdout",
     "output_type": "stream",
     "text": [
      "progress = 16.400000000000002%\n"
     ]
    },
    {
     "name": "stderr",
     "output_type": "stream",
     "text": [
      "01:25:57 - OI2: INFO - Duplicated gene symbols in the prize file (we'll keep the max prize):\n",
      "01:25:57 - OI2: INFO - []\n",
      "01:25:57 - OI2: INFO - Members of the prize file not present in the interactome:\n",
      "01:25:57 - OI2: INFO - []\n"
     ]
    },
    {
     "name": "stdout",
     "output_type": "stream",
     "text": [
      "progress = 16.5%\n"
     ]
    },
    {
     "name": "stderr",
     "output_type": "stream",
     "text": [
      "01:26:00 - OI2: INFO - Duplicated gene symbols in the prize file (we'll keep the max prize):\n",
      "01:26:00 - OI2: INFO - []\n",
      "01:26:00 - OI2: INFO - Members of the prize file not present in the interactome:\n",
      "01:26:00 - OI2: INFO - []\n"
     ]
    },
    {
     "name": "stdout",
     "output_type": "stream",
     "text": [
      "progress = 16.6%\n"
     ]
    },
    {
     "name": "stderr",
     "output_type": "stream",
     "text": [
      "01:26:03 - OI2: INFO - Duplicated gene symbols in the prize file (we'll keep the max prize):\n",
      "01:26:03 - OI2: INFO - []\n",
      "01:26:03 - OI2: INFO - Members of the prize file not present in the interactome:\n",
      "01:26:03 - OI2: INFO - []\n"
     ]
    },
    {
     "name": "stdout",
     "output_type": "stream",
     "text": [
      "progress = 16.7%\n"
     ]
    },
    {
     "name": "stderr",
     "output_type": "stream",
     "text": [
      "01:26:05 - OI2: INFO - Duplicated gene symbols in the prize file (we'll keep the max prize):\n",
      "01:26:05 - OI2: INFO - []\n",
      "01:26:05 - OI2: INFO - Members of the prize file not present in the interactome:\n",
      "01:26:05 - OI2: INFO - []\n"
     ]
    },
    {
     "name": "stdout",
     "output_type": "stream",
     "text": [
      "progress = 16.8%\n"
     ]
    },
    {
     "name": "stderr",
     "output_type": "stream",
     "text": [
      "01:26:08 - OI2: INFO - Duplicated gene symbols in the prize file (we'll keep the max prize):\n",
      "01:26:08 - OI2: INFO - []\n",
      "01:26:08 - OI2: INFO - Members of the prize file not present in the interactome:\n",
      "01:26:08 - OI2: INFO - []\n"
     ]
    },
    {
     "name": "stdout",
     "output_type": "stream",
     "text": [
      "progress = 16.900000000000002%\n"
     ]
    },
    {
     "name": "stderr",
     "output_type": "stream",
     "text": [
      "01:26:11 - OI2: INFO - Duplicated gene symbols in the prize file (we'll keep the max prize):\n",
      "01:26:11 - OI2: INFO - []\n",
      "01:26:11 - OI2: INFO - Members of the prize file not present in the interactome:\n",
      "01:26:11 - OI2: INFO - []\n"
     ]
    },
    {
     "name": "stdout",
     "output_type": "stream",
     "text": [
      "progress = 17.0%\n"
     ]
    },
    {
     "name": "stderr",
     "output_type": "stream",
     "text": [
      "01:26:13 - OI2: INFO - Duplicated gene symbols in the prize file (we'll keep the max prize):\n",
      "01:26:13 - OI2: INFO - []\n",
      "01:26:13 - OI2: INFO - Members of the prize file not present in the interactome:\n",
      "01:26:13 - OI2: INFO - []\n"
     ]
    },
    {
     "name": "stdout",
     "output_type": "stream",
     "text": [
      "progress = 17.1%\n"
     ]
    },
    {
     "name": "stderr",
     "output_type": "stream",
     "text": [
      "01:26:16 - OI2: INFO - Duplicated gene symbols in the prize file (we'll keep the max prize):\n",
      "01:26:16 - OI2: INFO - []\n",
      "01:26:16 - OI2: INFO - Members of the prize file not present in the interactome:\n",
      "01:26:16 - OI2: INFO - []\n"
     ]
    },
    {
     "name": "stdout",
     "output_type": "stream",
     "text": [
      "progress = 17.2%\n"
     ]
    },
    {
     "name": "stderr",
     "output_type": "stream",
     "text": [
      "01:26:19 - OI2: INFO - Duplicated gene symbols in the prize file (we'll keep the max prize):\n",
      "01:26:19 - OI2: INFO - []\n",
      "01:26:19 - OI2: INFO - Members of the prize file not present in the interactome:\n",
      "01:26:19 - OI2: INFO - []\n"
     ]
    },
    {
     "name": "stdout",
     "output_type": "stream",
     "text": [
      "progress = 17.299999999999997%\n"
     ]
    },
    {
     "name": "stderr",
     "output_type": "stream",
     "text": [
      "01:26:21 - OI2: INFO - Duplicated gene symbols in the prize file (we'll keep the max prize):\n",
      "01:26:21 - OI2: INFO - []\n",
      "01:26:21 - OI2: INFO - Members of the prize file not present in the interactome:\n",
      "01:26:21 - OI2: INFO - []\n"
     ]
    },
    {
     "name": "stdout",
     "output_type": "stream",
     "text": [
      "progress = 17.4%\n"
     ]
    },
    {
     "name": "stderr",
     "output_type": "stream",
     "text": [
      "01:26:24 - OI2: INFO - Duplicated gene symbols in the prize file (we'll keep the max prize):\n",
      "01:26:24 - OI2: INFO - []\n",
      "01:26:24 - OI2: INFO - Members of the prize file not present in the interactome:\n",
      "01:26:24 - OI2: INFO - []\n"
     ]
    },
    {
     "name": "stdout",
     "output_type": "stream",
     "text": [
      "progress = 17.5%\n"
     ]
    },
    {
     "name": "stderr",
     "output_type": "stream",
     "text": [
      "01:26:27 - OI2: INFO - Duplicated gene symbols in the prize file (we'll keep the max prize):\n",
      "01:26:27 - OI2: INFO - []\n",
      "01:26:27 - OI2: INFO - Members of the prize file not present in the interactome:\n",
      "01:26:27 - OI2: INFO - []\n"
     ]
    },
    {
     "name": "stdout",
     "output_type": "stream",
     "text": [
      "progress = 17.599999999999998%\n"
     ]
    },
    {
     "name": "stderr",
     "output_type": "stream",
     "text": [
      "01:26:29 - OI2: INFO - Duplicated gene symbols in the prize file (we'll keep the max prize):\n",
      "01:26:29 - OI2: INFO - []\n",
      "01:26:29 - OI2: INFO - Members of the prize file not present in the interactome:\n",
      "01:26:29 - OI2: INFO - []\n"
     ]
    },
    {
     "name": "stdout",
     "output_type": "stream",
     "text": [
      "progress = 17.7%\n"
     ]
    },
    {
     "name": "stderr",
     "output_type": "stream",
     "text": [
      "01:26:32 - OI2: INFO - Duplicated gene symbols in the prize file (we'll keep the max prize):\n",
      "01:26:32 - OI2: INFO - []\n",
      "01:26:32 - OI2: INFO - Members of the prize file not present in the interactome:\n",
      "01:26:32 - OI2: INFO - []\n"
     ]
    },
    {
     "name": "stdout",
     "output_type": "stream",
     "text": [
      "progress = 17.8%\n"
     ]
    },
    {
     "name": "stderr",
     "output_type": "stream",
     "text": [
      "01:26:35 - OI2: INFO - Duplicated gene symbols in the prize file (we'll keep the max prize):\n",
      "01:26:35 - OI2: INFO - []\n",
      "01:26:35 - OI2: INFO - Members of the prize file not present in the interactome:\n",
      "01:26:35 - OI2: INFO - []\n"
     ]
    },
    {
     "name": "stdout",
     "output_type": "stream",
     "text": [
      "progress = 17.9%\n"
     ]
    },
    {
     "name": "stderr",
     "output_type": "stream",
     "text": [
      "01:26:38 - OI2: INFO - Duplicated gene symbols in the prize file (we'll keep the max prize):\n",
      "01:26:38 - OI2: INFO - []\n",
      "01:26:38 - OI2: INFO - Members of the prize file not present in the interactome:\n",
      "01:26:38 - OI2: INFO - []\n"
     ]
    },
    {
     "name": "stdout",
     "output_type": "stream",
     "text": [
      "progress = 18.0%\n"
     ]
    },
    {
     "name": "stderr",
     "output_type": "stream",
     "text": [
      "01:26:40 - OI2: INFO - Duplicated gene symbols in the prize file (we'll keep the max prize):\n",
      "01:26:40 - OI2: INFO - []\n",
      "01:26:40 - OI2: INFO - Members of the prize file not present in the interactome:\n",
      "01:26:40 - OI2: INFO - []\n"
     ]
    },
    {
     "name": "stdout",
     "output_type": "stream",
     "text": [
      "progress = 18.099999999999998%\n"
     ]
    },
    {
     "name": "stderr",
     "output_type": "stream",
     "text": [
      "01:26:43 - OI2: INFO - Duplicated gene symbols in the prize file (we'll keep the max prize):\n",
      "01:26:43 - OI2: INFO - []\n",
      "01:26:43 - OI2: INFO - Members of the prize file not present in the interactome:\n",
      "01:26:43 - OI2: INFO - []\n"
     ]
    },
    {
     "name": "stdout",
     "output_type": "stream",
     "text": [
      "progress = 18.2%\n"
     ]
    },
    {
     "name": "stderr",
     "output_type": "stream",
     "text": [
      "01:26:46 - OI2: INFO - Duplicated gene symbols in the prize file (we'll keep the max prize):\n",
      "01:26:46 - OI2: INFO - []\n",
      "01:26:46 - OI2: INFO - Members of the prize file not present in the interactome:\n",
      "01:26:46 - OI2: INFO - []\n"
     ]
    },
    {
     "name": "stdout",
     "output_type": "stream",
     "text": [
      "progress = 18.3%\n"
     ]
    },
    {
     "name": "stderr",
     "output_type": "stream",
     "text": [
      "01:26:49 - OI2: INFO - Duplicated gene symbols in the prize file (we'll keep the max prize):\n",
      "01:26:49 - OI2: INFO - []\n",
      "01:26:49 - OI2: INFO - Members of the prize file not present in the interactome:\n",
      "01:26:49 - OI2: INFO - []\n"
     ]
    },
    {
     "name": "stdout",
     "output_type": "stream",
     "text": [
      "progress = 18.4%\n"
     ]
    },
    {
     "name": "stderr",
     "output_type": "stream",
     "text": [
      "01:26:51 - OI2: INFO - Duplicated gene symbols in the prize file (we'll keep the max prize):\n",
      "01:26:51 - OI2: INFO - []\n",
      "01:26:51 - OI2: INFO - Members of the prize file not present in the interactome:\n",
      "01:26:51 - OI2: INFO - []\n"
     ]
    },
    {
     "name": "stdout",
     "output_type": "stream",
     "text": [
      "progress = 18.5%\n"
     ]
    },
    {
     "name": "stderr",
     "output_type": "stream",
     "text": [
      "01:26:54 - OI2: INFO - Duplicated gene symbols in the prize file (we'll keep the max prize):\n",
      "01:26:54 - OI2: INFO - []\n",
      "01:26:54 - OI2: INFO - Members of the prize file not present in the interactome:\n",
      "01:26:54 - OI2: INFO - []\n"
     ]
    },
    {
     "name": "stdout",
     "output_type": "stream",
     "text": [
      "progress = 18.6%\n"
     ]
    },
    {
     "name": "stderr",
     "output_type": "stream",
     "text": [
      "01:26:57 - OI2: INFO - Duplicated gene symbols in the prize file (we'll keep the max prize):\n",
      "01:26:57 - OI2: INFO - []\n",
      "01:26:57 - OI2: INFO - Members of the prize file not present in the interactome:\n",
      "01:26:57 - OI2: INFO - []\n"
     ]
    },
    {
     "name": "stdout",
     "output_type": "stream",
     "text": [
      "progress = 18.7%\n"
     ]
    },
    {
     "name": "stderr",
     "output_type": "stream",
     "text": [
      "01:27:00 - OI2: INFO - Duplicated gene symbols in the prize file (we'll keep the max prize):\n",
      "01:27:00 - OI2: INFO - []\n",
      "01:27:00 - OI2: INFO - Members of the prize file not present in the interactome:\n",
      "01:27:00 - OI2: INFO - []\n"
     ]
    },
    {
     "name": "stdout",
     "output_type": "stream",
     "text": [
      "progress = 18.8%\n"
     ]
    },
    {
     "name": "stderr",
     "output_type": "stream",
     "text": [
      "01:27:02 - OI2: INFO - Duplicated gene symbols in the prize file (we'll keep the max prize):\n",
      "01:27:02 - OI2: INFO - []\n",
      "01:27:02 - OI2: INFO - Members of the prize file not present in the interactome:\n",
      "01:27:02 - OI2: INFO - []\n"
     ]
    },
    {
     "name": "stdout",
     "output_type": "stream",
     "text": [
      "progress = 18.9%\n"
     ]
    },
    {
     "name": "stderr",
     "output_type": "stream",
     "text": [
      "01:27:05 - OI2: INFO - Duplicated gene symbols in the prize file (we'll keep the max prize):\n",
      "01:27:05 - OI2: INFO - []\n",
      "01:27:05 - OI2: INFO - Members of the prize file not present in the interactome:\n",
      "01:27:05 - OI2: INFO - []\n"
     ]
    },
    {
     "name": "stdout",
     "output_type": "stream",
     "text": [
      "progress = 19.0%\n"
     ]
    },
    {
     "name": "stderr",
     "output_type": "stream",
     "text": [
      "01:27:08 - OI2: INFO - Duplicated gene symbols in the prize file (we'll keep the max prize):\n",
      "01:27:08 - OI2: INFO - []\n",
      "01:27:08 - OI2: INFO - Members of the prize file not present in the interactome:\n",
      "01:27:08 - OI2: INFO - []\n"
     ]
    },
    {
     "name": "stdout",
     "output_type": "stream",
     "text": [
      "progress = 19.1%\n"
     ]
    },
    {
     "name": "stderr",
     "output_type": "stream",
     "text": [
      "01:27:11 - OI2: INFO - Duplicated gene symbols in the prize file (we'll keep the max prize):\n",
      "01:27:11 - OI2: INFO - []\n",
      "01:27:11 - OI2: INFO - Members of the prize file not present in the interactome:\n",
      "01:27:11 - OI2: INFO - []\n"
     ]
    },
    {
     "name": "stdout",
     "output_type": "stream",
     "text": [
      "progress = 19.2%\n"
     ]
    },
    {
     "name": "stderr",
     "output_type": "stream",
     "text": [
      "01:27:13 - OI2: INFO - Duplicated gene symbols in the prize file (we'll keep the max prize):\n",
      "01:27:13 - OI2: INFO - []\n",
      "01:27:13 - OI2: INFO - Members of the prize file not present in the interactome:\n",
      "01:27:13 - OI2: INFO - []\n"
     ]
    },
    {
     "name": "stdout",
     "output_type": "stream",
     "text": [
      "progress = 19.3%\n"
     ]
    },
    {
     "name": "stderr",
     "output_type": "stream",
     "text": [
      "01:27:16 - OI2: INFO - Duplicated gene symbols in the prize file (we'll keep the max prize):\n",
      "01:27:16 - OI2: INFO - []\n",
      "01:27:16 - OI2: INFO - Members of the prize file not present in the interactome:\n",
      "01:27:16 - OI2: INFO - []\n"
     ]
    },
    {
     "name": "stdout",
     "output_type": "stream",
     "text": [
      "progress = 19.400000000000002%\n"
     ]
    },
    {
     "name": "stderr",
     "output_type": "stream",
     "text": [
      "01:27:19 - OI2: INFO - Duplicated gene symbols in the prize file (we'll keep the max prize):\n",
      "01:27:19 - OI2: INFO - []\n",
      "01:27:19 - OI2: INFO - Members of the prize file not present in the interactome:\n",
      "01:27:19 - OI2: INFO - []\n"
     ]
    },
    {
     "name": "stdout",
     "output_type": "stream",
     "text": [
      "progress = 19.5%\n"
     ]
    },
    {
     "name": "stderr",
     "output_type": "stream",
     "text": [
      "01:27:21 - OI2: INFO - Duplicated gene symbols in the prize file (we'll keep the max prize):\n",
      "01:27:21 - OI2: INFO - []\n",
      "01:27:21 - OI2: INFO - Members of the prize file not present in the interactome:\n",
      "01:27:21 - OI2: INFO - []\n"
     ]
    },
    {
     "name": "stdout",
     "output_type": "stream",
     "text": [
      "progress = 19.6%\n"
     ]
    },
    {
     "name": "stderr",
     "output_type": "stream",
     "text": [
      "01:27:24 - OI2: INFO - Duplicated gene symbols in the prize file (we'll keep the max prize):\n",
      "01:27:24 - OI2: INFO - []\n",
      "01:27:24 - OI2: INFO - Members of the prize file not present in the interactome:\n",
      "01:27:24 - OI2: INFO - []\n"
     ]
    },
    {
     "name": "stdout",
     "output_type": "stream",
     "text": [
      "progress = 19.7%\n"
     ]
    },
    {
     "name": "stderr",
     "output_type": "stream",
     "text": [
      "01:27:27 - OI2: INFO - Duplicated gene symbols in the prize file (we'll keep the max prize):\n",
      "01:27:27 - OI2: INFO - []\n",
      "01:27:27 - OI2: INFO - Members of the prize file not present in the interactome:\n",
      "01:27:27 - OI2: INFO - []\n"
     ]
    },
    {
     "name": "stdout",
     "output_type": "stream",
     "text": [
      "progress = 19.8%\n"
     ]
    },
    {
     "name": "stderr",
     "output_type": "stream",
     "text": [
      "01:27:29 - OI2: INFO - Duplicated gene symbols in the prize file (we'll keep the max prize):\n",
      "01:27:29 - OI2: INFO - []\n",
      "01:27:29 - OI2: INFO - Members of the prize file not present in the interactome:\n",
      "01:27:29 - OI2: INFO - []\n"
     ]
    },
    {
     "name": "stdout",
     "output_type": "stream",
     "text": [
      "progress = 19.900000000000002%\n"
     ]
    },
    {
     "name": "stderr",
     "output_type": "stream",
     "text": [
      "01:27:32 - OI2: INFO - Duplicated gene symbols in the prize file (we'll keep the max prize):\n",
      "01:27:32 - OI2: INFO - []\n",
      "01:27:32 - OI2: INFO - Members of the prize file not present in the interactome:\n",
      "01:27:32 - OI2: INFO - []\n"
     ]
    },
    {
     "name": "stdout",
     "output_type": "stream",
     "text": [
      "progress = 20.0%\n"
     ]
    },
    {
     "name": "stderr",
     "output_type": "stream",
     "text": [
      "01:27:35 - OI2: INFO - Duplicated gene symbols in the prize file (we'll keep the max prize):\n",
      "01:27:35 - OI2: INFO - []\n",
      "01:27:35 - OI2: INFO - Members of the prize file not present in the interactome:\n",
      "01:27:35 - OI2: INFO - []\n"
     ]
    },
    {
     "name": "stdout",
     "output_type": "stream",
     "text": [
      "progress = 20.1%\n"
     ]
    },
    {
     "name": "stderr",
     "output_type": "stream",
     "text": [
      "01:27:37 - OI2: INFO - Duplicated gene symbols in the prize file (we'll keep the max prize):\n",
      "01:27:37 - OI2: INFO - []\n",
      "01:27:37 - OI2: INFO - Members of the prize file not present in the interactome:\n",
      "01:27:37 - OI2: INFO - []\n"
     ]
    },
    {
     "name": "stdout",
     "output_type": "stream",
     "text": [
      "progress = 20.200000000000003%\n"
     ]
    },
    {
     "name": "stderr",
     "output_type": "stream",
     "text": [
      "01:27:40 - OI2: INFO - Duplicated gene symbols in the prize file (we'll keep the max prize):\n",
      "01:27:40 - OI2: INFO - []\n",
      "01:27:40 - OI2: INFO - Members of the prize file not present in the interactome:\n",
      "01:27:40 - OI2: INFO - []\n"
     ]
    },
    {
     "name": "stdout",
     "output_type": "stream",
     "text": [
      "progress = 20.3%\n"
     ]
    },
    {
     "name": "stderr",
     "output_type": "stream",
     "text": [
      "01:27:43 - OI2: INFO - Duplicated gene symbols in the prize file (we'll keep the max prize):\n",
      "01:27:43 - OI2: INFO - []\n",
      "01:27:43 - OI2: INFO - Members of the prize file not present in the interactome:\n",
      "01:27:43 - OI2: INFO - []\n"
     ]
    },
    {
     "name": "stdout",
     "output_type": "stream",
     "text": [
      "progress = 20.4%\n"
     ]
    },
    {
     "name": "stderr",
     "output_type": "stream",
     "text": [
      "01:27:45 - OI2: INFO - Duplicated gene symbols in the prize file (we'll keep the max prize):\n",
      "01:27:45 - OI2: INFO - []\n",
      "01:27:45 - OI2: INFO - Members of the prize file not present in the interactome:\n",
      "01:27:45 - OI2: INFO - []\n"
     ]
    },
    {
     "name": "stdout",
     "output_type": "stream",
     "text": [
      "progress = 20.5%\n"
     ]
    },
    {
     "name": "stderr",
     "output_type": "stream",
     "text": [
      "01:27:48 - OI2: INFO - Duplicated gene symbols in the prize file (we'll keep the max prize):\n",
      "01:27:48 - OI2: INFO - []\n",
      "01:27:48 - OI2: INFO - Members of the prize file not present in the interactome:\n",
      "01:27:48 - OI2: INFO - []\n"
     ]
    },
    {
     "name": "stdout",
     "output_type": "stream",
     "text": [
      "progress = 20.599999999999998%\n"
     ]
    },
    {
     "name": "stderr",
     "output_type": "stream",
     "text": [
      "01:27:51 - OI2: INFO - Duplicated gene symbols in the prize file (we'll keep the max prize):\n",
      "01:27:51 - OI2: INFO - []\n",
      "01:27:51 - OI2: INFO - Members of the prize file not present in the interactome:\n",
      "01:27:51 - OI2: INFO - []\n"
     ]
    },
    {
     "name": "stdout",
     "output_type": "stream",
     "text": [
      "progress = 20.7%\n"
     ]
    },
    {
     "name": "stderr",
     "output_type": "stream",
     "text": [
      "01:27:53 - OI2: INFO - Duplicated gene symbols in the prize file (we'll keep the max prize):\n",
      "01:27:53 - OI2: INFO - []\n",
      "01:27:53 - OI2: INFO - Members of the prize file not present in the interactome:\n",
      "01:27:53 - OI2: INFO - []\n"
     ]
    },
    {
     "name": "stdout",
     "output_type": "stream",
     "text": [
      "progress = 20.8%\n"
     ]
    },
    {
     "name": "stderr",
     "output_type": "stream",
     "text": [
      "01:27:56 - OI2: INFO - Duplicated gene symbols in the prize file (we'll keep the max prize):\n",
      "01:27:56 - OI2: INFO - []\n",
      "01:27:56 - OI2: INFO - Members of the prize file not present in the interactome:\n",
      "01:27:56 - OI2: INFO - []\n"
     ]
    },
    {
     "name": "stdout",
     "output_type": "stream",
     "text": [
      "progress = 20.9%\n"
     ]
    },
    {
     "name": "stderr",
     "output_type": "stream",
     "text": [
      "01:27:59 - OI2: INFO - Duplicated gene symbols in the prize file (we'll keep the max prize):\n",
      "01:27:59 - OI2: INFO - []\n",
      "01:27:59 - OI2: INFO - Members of the prize file not present in the interactome:\n",
      "01:27:59 - OI2: INFO - []\n"
     ]
    },
    {
     "name": "stdout",
     "output_type": "stream",
     "text": [
      "progress = 21.0%\n"
     ]
    },
    {
     "name": "stderr",
     "output_type": "stream",
     "text": [
      "01:28:01 - OI2: INFO - Duplicated gene symbols in the prize file (we'll keep the max prize):\n",
      "01:28:01 - OI2: INFO - []\n",
      "01:28:01 - OI2: INFO - Members of the prize file not present in the interactome:\n",
      "01:28:01 - OI2: INFO - []\n"
     ]
    },
    {
     "name": "stdout",
     "output_type": "stream",
     "text": [
      "progress = 21.099999999999998%\n"
     ]
    },
    {
     "name": "stderr",
     "output_type": "stream",
     "text": [
      "01:28:04 - OI2: INFO - Duplicated gene symbols in the prize file (we'll keep the max prize):\n",
      "01:28:04 - OI2: INFO - []\n",
      "01:28:04 - OI2: INFO - Members of the prize file not present in the interactome:\n",
      "01:28:04 - OI2: INFO - []\n"
     ]
    },
    {
     "name": "stdout",
     "output_type": "stream",
     "text": [
      "progress = 21.2%\n"
     ]
    },
    {
     "name": "stderr",
     "output_type": "stream",
     "text": [
      "01:28:07 - OI2: INFO - Duplicated gene symbols in the prize file (we'll keep the max prize):\n",
      "01:28:07 - OI2: INFO - []\n",
      "01:28:07 - OI2: INFO - Members of the prize file not present in the interactome:\n",
      "01:28:07 - OI2: INFO - []\n"
     ]
    },
    {
     "name": "stdout",
     "output_type": "stream",
     "text": [
      "progress = 21.3%\n"
     ]
    },
    {
     "name": "stderr",
     "output_type": "stream",
     "text": [
      "01:28:09 - OI2: INFO - Duplicated gene symbols in the prize file (we'll keep the max prize):\n",
      "01:28:09 - OI2: INFO - []\n",
      "01:28:09 - OI2: INFO - Members of the prize file not present in the interactome:\n",
      "01:28:09 - OI2: INFO - []\n"
     ]
    },
    {
     "name": "stdout",
     "output_type": "stream",
     "text": [
      "progress = 21.4%\n"
     ]
    },
    {
     "name": "stderr",
     "output_type": "stream",
     "text": [
      "01:28:12 - OI2: INFO - Duplicated gene symbols in the prize file (we'll keep the max prize):\n",
      "01:28:12 - OI2: INFO - []\n",
      "01:28:12 - OI2: INFO - Members of the prize file not present in the interactome:\n",
      "01:28:12 - OI2: INFO - []\n"
     ]
    },
    {
     "name": "stdout",
     "output_type": "stream",
     "text": [
      "progress = 21.5%\n"
     ]
    },
    {
     "name": "stderr",
     "output_type": "stream",
     "text": [
      "01:28:15 - OI2: INFO - Duplicated gene symbols in the prize file (we'll keep the max prize):\n",
      "01:28:15 - OI2: INFO - []\n",
      "01:28:15 - OI2: INFO - Members of the prize file not present in the interactome:\n",
      "01:28:15 - OI2: INFO - []\n"
     ]
    },
    {
     "name": "stdout",
     "output_type": "stream",
     "text": [
      "progress = 21.6%\n"
     ]
    },
    {
     "name": "stderr",
     "output_type": "stream",
     "text": [
      "01:28:17 - OI2: INFO - Duplicated gene symbols in the prize file (we'll keep the max prize):\n",
      "01:28:17 - OI2: INFO - []\n",
      "01:28:17 - OI2: INFO - Members of the prize file not present in the interactome:\n",
      "01:28:17 - OI2: INFO - []\n"
     ]
    },
    {
     "name": "stdout",
     "output_type": "stream",
     "text": [
      "progress = 21.7%\n"
     ]
    },
    {
     "name": "stderr",
     "output_type": "stream",
     "text": [
      "01:28:20 - OI2: INFO - Duplicated gene symbols in the prize file (we'll keep the max prize):\n",
      "01:28:20 - OI2: INFO - []\n",
      "01:28:20 - OI2: INFO - Members of the prize file not present in the interactome:\n",
      "01:28:20 - OI2: INFO - []\n"
     ]
    },
    {
     "name": "stdout",
     "output_type": "stream",
     "text": [
      "progress = 21.8%\n"
     ]
    },
    {
     "name": "stderr",
     "output_type": "stream",
     "text": [
      "01:28:23 - OI2: INFO - Duplicated gene symbols in the prize file (we'll keep the max prize):\n",
      "01:28:23 - OI2: INFO - []\n",
      "01:28:23 - OI2: INFO - Members of the prize file not present in the interactome:\n",
      "01:28:23 - OI2: INFO - []\n"
     ]
    },
    {
     "name": "stdout",
     "output_type": "stream",
     "text": [
      "progress = 21.9%\n"
     ]
    },
    {
     "name": "stderr",
     "output_type": "stream",
     "text": [
      "01:28:25 - OI2: INFO - Duplicated gene symbols in the prize file (we'll keep the max prize):\n",
      "01:28:25 - OI2: INFO - []\n",
      "01:28:25 - OI2: INFO - Members of the prize file not present in the interactome:\n",
      "01:28:25 - OI2: INFO - []\n"
     ]
    },
    {
     "name": "stdout",
     "output_type": "stream",
     "text": [
      "progress = 22.0%\n"
     ]
    },
    {
     "name": "stderr",
     "output_type": "stream",
     "text": [
      "01:28:28 - OI2: INFO - Duplicated gene symbols in the prize file (we'll keep the max prize):\n",
      "01:28:28 - OI2: INFO - []\n",
      "01:28:28 - OI2: INFO - Members of the prize file not present in the interactome:\n",
      "01:28:28 - OI2: INFO - []\n"
     ]
    },
    {
     "name": "stdout",
     "output_type": "stream",
     "text": [
      "progress = 22.1%\n"
     ]
    },
    {
     "name": "stderr",
     "output_type": "stream",
     "text": [
      "01:28:31 - OI2: INFO - Duplicated gene symbols in the prize file (we'll keep the max prize):\n",
      "01:28:31 - OI2: INFO - []\n",
      "01:28:31 - OI2: INFO - Members of the prize file not present in the interactome:\n",
      "01:28:31 - OI2: INFO - []\n"
     ]
    },
    {
     "name": "stdout",
     "output_type": "stream",
     "text": [
      "progress = 22.2%\n"
     ]
    },
    {
     "name": "stderr",
     "output_type": "stream",
     "text": [
      "01:28:33 - OI2: INFO - Duplicated gene symbols in the prize file (we'll keep the max prize):\n",
      "01:28:33 - OI2: INFO - []\n",
      "01:28:33 - OI2: INFO - Members of the prize file not present in the interactome:\n",
      "01:28:33 - OI2: INFO - []\n"
     ]
    },
    {
     "name": "stdout",
     "output_type": "stream",
     "text": [
      "progress = 22.3%\n"
     ]
    },
    {
     "name": "stderr",
     "output_type": "stream",
     "text": [
      "01:28:36 - OI2: INFO - Duplicated gene symbols in the prize file (we'll keep the max prize):\n",
      "01:28:36 - OI2: INFO - []\n",
      "01:28:36 - OI2: INFO - Members of the prize file not present in the interactome:\n",
      "01:28:36 - OI2: INFO - []\n"
     ]
    },
    {
     "name": "stdout",
     "output_type": "stream",
     "text": [
      "progress = 22.400000000000002%\n"
     ]
    },
    {
     "name": "stderr",
     "output_type": "stream",
     "text": [
      "01:28:39 - OI2: INFO - Duplicated gene symbols in the prize file (we'll keep the max prize):\n",
      "01:28:39 - OI2: INFO - []\n",
      "01:28:39 - OI2: INFO - Members of the prize file not present in the interactome:\n",
      "01:28:39 - OI2: INFO - []\n"
     ]
    },
    {
     "name": "stdout",
     "output_type": "stream",
     "text": [
      "progress = 22.5%\n"
     ]
    },
    {
     "name": "stderr",
     "output_type": "stream",
     "text": [
      "01:28:41 - OI2: INFO - Duplicated gene symbols in the prize file (we'll keep the max prize):\n",
      "01:28:41 - OI2: INFO - []\n",
      "01:28:41 - OI2: INFO - Members of the prize file not present in the interactome:\n",
      "01:28:41 - OI2: INFO - []\n"
     ]
    },
    {
     "name": "stdout",
     "output_type": "stream",
     "text": [
      "progress = 22.6%\n"
     ]
    },
    {
     "name": "stderr",
     "output_type": "stream",
     "text": [
      "01:28:44 - OI2: INFO - Duplicated gene symbols in the prize file (we'll keep the max prize):\n",
      "01:28:44 - OI2: INFO - []\n",
      "01:28:44 - OI2: INFO - Members of the prize file not present in the interactome:\n",
      "01:28:44 - OI2: INFO - []\n"
     ]
    },
    {
     "name": "stdout",
     "output_type": "stream",
     "text": [
      "progress = 22.7%\n"
     ]
    },
    {
     "name": "stderr",
     "output_type": "stream",
     "text": [
      "01:28:47 - OI2: INFO - Duplicated gene symbols in the prize file (we'll keep the max prize):\n",
      "01:28:47 - OI2: INFO - []\n",
      "01:28:47 - OI2: INFO - Members of the prize file not present in the interactome:\n",
      "01:28:47 - OI2: INFO - []\n"
     ]
    },
    {
     "name": "stdout",
     "output_type": "stream",
     "text": [
      "progress = 22.8%\n"
     ]
    },
    {
     "name": "stderr",
     "output_type": "stream",
     "text": [
      "01:28:49 - OI2: INFO - Duplicated gene symbols in the prize file (we'll keep the max prize):\n",
      "01:28:49 - OI2: INFO - []\n",
      "01:28:49 - OI2: INFO - Members of the prize file not present in the interactome:\n",
      "01:28:49 - OI2: INFO - []\n"
     ]
    },
    {
     "name": "stdout",
     "output_type": "stream",
     "text": [
      "progress = 22.900000000000002%\n"
     ]
    },
    {
     "name": "stderr",
     "output_type": "stream",
     "text": [
      "01:28:52 - OI2: INFO - Duplicated gene symbols in the prize file (we'll keep the max prize):\n",
      "01:28:52 - OI2: INFO - []\n",
      "01:28:52 - OI2: INFO - Members of the prize file not present in the interactome:\n",
      "01:28:52 - OI2: INFO - []\n"
     ]
    },
    {
     "name": "stdout",
     "output_type": "stream",
     "text": [
      "progress = 23.0%\n"
     ]
    },
    {
     "name": "stderr",
     "output_type": "stream",
     "text": [
      "01:28:55 - OI2: INFO - Duplicated gene symbols in the prize file (we'll keep the max prize):\n",
      "01:28:55 - OI2: INFO - []\n",
      "01:28:55 - OI2: INFO - Members of the prize file not present in the interactome:\n",
      "01:28:55 - OI2: INFO - []\n"
     ]
    },
    {
     "name": "stdout",
     "output_type": "stream",
     "text": [
      "progress = 23.1%\n"
     ]
    },
    {
     "name": "stderr",
     "output_type": "stream",
     "text": [
      "01:28:57 - OI2: INFO - Duplicated gene symbols in the prize file (we'll keep the max prize):\n",
      "01:28:57 - OI2: INFO - []\n",
      "01:28:57 - OI2: INFO - Members of the prize file not present in the interactome:\n",
      "01:28:57 - OI2: INFO - []\n"
     ]
    },
    {
     "name": "stdout",
     "output_type": "stream",
     "text": [
      "progress = 23.200000000000003%\n"
     ]
    },
    {
     "name": "stderr",
     "output_type": "stream",
     "text": [
      "01:29:00 - OI2: INFO - Duplicated gene symbols in the prize file (we'll keep the max prize):\n",
      "01:29:00 - OI2: INFO - []\n",
      "01:29:00 - OI2: INFO - Members of the prize file not present in the interactome:\n",
      "01:29:00 - OI2: INFO - []\n"
     ]
    },
    {
     "name": "stdout",
     "output_type": "stream",
     "text": [
      "progress = 23.3%\n"
     ]
    },
    {
     "name": "stderr",
     "output_type": "stream",
     "text": [
      "01:29:03 - OI2: INFO - Duplicated gene symbols in the prize file (we'll keep the max prize):\n",
      "01:29:03 - OI2: INFO - []\n",
      "01:29:03 - OI2: INFO - Members of the prize file not present in the interactome:\n",
      "01:29:03 - OI2: INFO - []\n"
     ]
    },
    {
     "name": "stdout",
     "output_type": "stream",
     "text": [
      "progress = 23.400000000000002%\n"
     ]
    },
    {
     "name": "stderr",
     "output_type": "stream",
     "text": [
      "01:29:05 - OI2: INFO - Duplicated gene symbols in the prize file (we'll keep the max prize):\n",
      "01:29:05 - OI2: INFO - []\n",
      "01:29:05 - OI2: INFO - Members of the prize file not present in the interactome:\n",
      "01:29:05 - OI2: INFO - []\n"
     ]
    },
    {
     "name": "stdout",
     "output_type": "stream",
     "text": [
      "progress = 23.5%\n"
     ]
    },
    {
     "name": "stderr",
     "output_type": "stream",
     "text": [
      "01:29:08 - OI2: INFO - Duplicated gene symbols in the prize file (we'll keep the max prize):\n",
      "01:29:08 - OI2: INFO - []\n",
      "01:29:08 - OI2: INFO - Members of the prize file not present in the interactome:\n",
      "01:29:08 - OI2: INFO - []\n"
     ]
    },
    {
     "name": "stdout",
     "output_type": "stream",
     "text": [
      "progress = 23.599999999999998%\n"
     ]
    },
    {
     "name": "stderr",
     "output_type": "stream",
     "text": [
      "01:29:11 - OI2: INFO - Duplicated gene symbols in the prize file (we'll keep the max prize):\n",
      "01:29:11 - OI2: INFO - []\n",
      "01:29:11 - OI2: INFO - Members of the prize file not present in the interactome:\n",
      "01:29:11 - OI2: INFO - []\n"
     ]
    },
    {
     "name": "stdout",
     "output_type": "stream",
     "text": [
      "progress = 23.7%\n"
     ]
    },
    {
     "name": "stderr",
     "output_type": "stream",
     "text": [
      "01:29:14 - OI2: INFO - Duplicated gene symbols in the prize file (we'll keep the max prize):\n",
      "01:29:14 - OI2: INFO - []\n",
      "01:29:14 - OI2: INFO - Members of the prize file not present in the interactome:\n",
      "01:29:14 - OI2: INFO - []\n"
     ]
    },
    {
     "name": "stdout",
     "output_type": "stream",
     "text": [
      "progress = 23.799999999999997%\n"
     ]
    },
    {
     "name": "stderr",
     "output_type": "stream",
     "text": [
      "01:29:16 - OI2: INFO - Duplicated gene symbols in the prize file (we'll keep the max prize):\n",
      "01:29:16 - OI2: INFO - []\n",
      "01:29:16 - OI2: INFO - Members of the prize file not present in the interactome:\n",
      "01:29:16 - OI2: INFO - []\n"
     ]
    },
    {
     "name": "stdout",
     "output_type": "stream",
     "text": [
      "progress = 23.9%\n"
     ]
    },
    {
     "name": "stderr",
     "output_type": "stream",
     "text": [
      "01:29:19 - OI2: INFO - Duplicated gene symbols in the prize file (we'll keep the max prize):\n",
      "01:29:19 - OI2: INFO - []\n",
      "01:29:19 - OI2: INFO - Members of the prize file not present in the interactome:\n",
      "01:29:19 - OI2: INFO - []\n"
     ]
    },
    {
     "name": "stdout",
     "output_type": "stream",
     "text": [
      "progress = 24.0%\n"
     ]
    },
    {
     "name": "stderr",
     "output_type": "stream",
     "text": [
      "01:29:21 - OI2: INFO - Duplicated gene symbols in the prize file (we'll keep the max prize):\n",
      "01:29:21 - OI2: INFO - []\n",
      "01:29:21 - OI2: INFO - Members of the prize file not present in the interactome:\n",
      "01:29:21 - OI2: INFO - []\n"
     ]
    },
    {
     "name": "stdout",
     "output_type": "stream",
     "text": [
      "progress = 24.099999999999998%\n"
     ]
    },
    {
     "name": "stderr",
     "output_type": "stream",
     "text": [
      "01:29:24 - OI2: INFO - Duplicated gene symbols in the prize file (we'll keep the max prize):\n",
      "01:29:24 - OI2: INFO - []\n",
      "01:29:24 - OI2: INFO - Members of the prize file not present in the interactome:\n",
      "01:29:24 - OI2: INFO - []\n"
     ]
    },
    {
     "name": "stdout",
     "output_type": "stream",
     "text": [
      "progress = 24.2%\n"
     ]
    },
    {
     "name": "stderr",
     "output_type": "stream",
     "text": [
      "01:29:27 - OI2: INFO - Duplicated gene symbols in the prize file (we'll keep the max prize):\n",
      "01:29:27 - OI2: INFO - []\n",
      "01:29:27 - OI2: INFO - Members of the prize file not present in the interactome:\n",
      "01:29:27 - OI2: INFO - []\n"
     ]
    },
    {
     "name": "stdout",
     "output_type": "stream",
     "text": [
      "progress = 24.3%\n"
     ]
    },
    {
     "name": "stderr",
     "output_type": "stream",
     "text": [
      "01:29:29 - OI2: INFO - Duplicated gene symbols in the prize file (we'll keep the max prize):\n",
      "01:29:29 - OI2: INFO - []\n",
      "01:29:29 - OI2: INFO - Members of the prize file not present in the interactome:\n",
      "01:29:29 - OI2: INFO - []\n"
     ]
    },
    {
     "name": "stdout",
     "output_type": "stream",
     "text": [
      "progress = 24.4%\n"
     ]
    },
    {
     "name": "stderr",
     "output_type": "stream",
     "text": [
      "01:29:32 - OI2: INFO - Duplicated gene symbols in the prize file (we'll keep the max prize):\n",
      "01:29:32 - OI2: INFO - []\n",
      "01:29:32 - OI2: INFO - Members of the prize file not present in the interactome:\n",
      "01:29:32 - OI2: INFO - []\n"
     ]
    },
    {
     "name": "stdout",
     "output_type": "stream",
     "text": [
      "progress = 24.5%\n"
     ]
    },
    {
     "name": "stderr",
     "output_type": "stream",
     "text": [
      "01:29:35 - OI2: INFO - Duplicated gene symbols in the prize file (we'll keep the max prize):\n",
      "01:29:35 - OI2: INFO - []\n",
      "01:29:35 - OI2: INFO - Members of the prize file not present in the interactome:\n",
      "01:29:35 - OI2: INFO - []\n"
     ]
    },
    {
     "name": "stdout",
     "output_type": "stream",
     "text": [
      "progress = 24.6%\n"
     ]
    },
    {
     "name": "stderr",
     "output_type": "stream",
     "text": [
      "01:29:37 - OI2: INFO - Duplicated gene symbols in the prize file (we'll keep the max prize):\n",
      "01:29:37 - OI2: INFO - []\n",
      "01:29:37 - OI2: INFO - Members of the prize file not present in the interactome:\n",
      "01:29:37 - OI2: INFO - []\n"
     ]
    },
    {
     "name": "stdout",
     "output_type": "stream",
     "text": [
      "progress = 24.7%\n"
     ]
    },
    {
     "name": "stderr",
     "output_type": "stream",
     "text": [
      "01:29:40 - OI2: INFO - Duplicated gene symbols in the prize file (we'll keep the max prize):\n",
      "01:29:40 - OI2: INFO - []\n",
      "01:29:40 - OI2: INFO - Members of the prize file not present in the interactome:\n",
      "01:29:40 - OI2: INFO - []\n"
     ]
    },
    {
     "name": "stdout",
     "output_type": "stream",
     "text": [
      "progress = 24.8%\n"
     ]
    },
    {
     "name": "stderr",
     "output_type": "stream",
     "text": [
      "01:29:43 - OI2: INFO - Duplicated gene symbols in the prize file (we'll keep the max prize):\n",
      "01:29:43 - OI2: INFO - []\n",
      "01:29:43 - OI2: INFO - Members of the prize file not present in the interactome:\n",
      "01:29:43 - OI2: INFO - []\n"
     ]
    },
    {
     "name": "stdout",
     "output_type": "stream",
     "text": [
      "progress = 24.9%\n"
     ]
    },
    {
     "name": "stderr",
     "output_type": "stream",
     "text": [
      "01:29:45 - OI2: INFO - Duplicated gene symbols in the prize file (we'll keep the max prize):\n",
      "01:29:45 - OI2: INFO - []\n",
      "01:29:45 - OI2: INFO - Members of the prize file not present in the interactome:\n",
      "01:29:45 - OI2: INFO - []\n"
     ]
    },
    {
     "name": "stdout",
     "output_type": "stream",
     "text": [
      "progress = 25.0%\n"
     ]
    },
    {
     "name": "stderr",
     "output_type": "stream",
     "text": [
      "01:29:48 - OI2: INFO - Duplicated gene symbols in the prize file (we'll keep the max prize):\n",
      "01:29:48 - OI2: INFO - []\n",
      "01:29:48 - OI2: INFO - Members of the prize file not present in the interactome:\n",
      "01:29:48 - OI2: INFO - []\n"
     ]
    },
    {
     "name": "stdout",
     "output_type": "stream",
     "text": [
      "progress = 25.1%\n"
     ]
    },
    {
     "name": "stderr",
     "output_type": "stream",
     "text": [
      "01:29:51 - OI2: INFO - Duplicated gene symbols in the prize file (we'll keep the max prize):\n",
      "01:29:51 - OI2: INFO - []\n",
      "01:29:51 - OI2: INFO - Members of the prize file not present in the interactome:\n",
      "01:29:51 - OI2: INFO - []\n"
     ]
    },
    {
     "name": "stdout",
     "output_type": "stream",
     "text": [
      "progress = 25.2%\n"
     ]
    },
    {
     "name": "stderr",
     "output_type": "stream",
     "text": [
      "01:29:53 - OI2: INFO - Duplicated gene symbols in the prize file (we'll keep the max prize):\n",
      "01:29:53 - OI2: INFO - []\n",
      "01:29:53 - OI2: INFO - Members of the prize file not present in the interactome:\n",
      "01:29:53 - OI2: INFO - []\n"
     ]
    },
    {
     "name": "stdout",
     "output_type": "stream",
     "text": [
      "progress = 25.3%\n"
     ]
    },
    {
     "name": "stderr",
     "output_type": "stream",
     "text": [
      "01:29:56 - OI2: INFO - Duplicated gene symbols in the prize file (we'll keep the max prize):\n",
      "01:29:56 - OI2: INFO - []\n",
      "01:29:56 - OI2: INFO - Members of the prize file not present in the interactome:\n",
      "01:29:56 - OI2: INFO - []\n"
     ]
    },
    {
     "name": "stdout",
     "output_type": "stream",
     "text": [
      "progress = 25.4%\n"
     ]
    },
    {
     "name": "stderr",
     "output_type": "stream",
     "text": [
      "01:29:59 - OI2: INFO - Duplicated gene symbols in the prize file (we'll keep the max prize):\n",
      "01:29:59 - OI2: INFO - []\n",
      "01:29:59 - OI2: INFO - Members of the prize file not present in the interactome:\n",
      "01:29:59 - OI2: INFO - []\n"
     ]
    },
    {
     "name": "stdout",
     "output_type": "stream",
     "text": [
      "progress = 25.5%\n"
     ]
    },
    {
     "name": "stderr",
     "output_type": "stream",
     "text": [
      "01:30:02 - OI2: INFO - Duplicated gene symbols in the prize file (we'll keep the max prize):\n",
      "01:30:02 - OI2: INFO - []\n",
      "01:30:02 - OI2: INFO - Members of the prize file not present in the interactome:\n",
      "01:30:02 - OI2: INFO - []\n"
     ]
    },
    {
     "name": "stdout",
     "output_type": "stream",
     "text": [
      "progress = 25.6%\n"
     ]
    },
    {
     "name": "stderr",
     "output_type": "stream",
     "text": [
      "01:30:04 - OI2: INFO - Duplicated gene symbols in the prize file (we'll keep the max prize):\n",
      "01:30:04 - OI2: INFO - []\n",
      "01:30:04 - OI2: INFO - Members of the prize file not present in the interactome:\n",
      "01:30:04 - OI2: INFO - []\n"
     ]
    },
    {
     "name": "stdout",
     "output_type": "stream",
     "text": [
      "progress = 25.7%\n"
     ]
    },
    {
     "name": "stderr",
     "output_type": "stream",
     "text": [
      "01:30:07 - OI2: INFO - Duplicated gene symbols in the prize file (we'll keep the max prize):\n",
      "01:30:07 - OI2: INFO - []\n",
      "01:30:07 - OI2: INFO - Members of the prize file not present in the interactome:\n",
      "01:30:07 - OI2: INFO - []\n"
     ]
    },
    {
     "name": "stdout",
     "output_type": "stream",
     "text": [
      "progress = 25.8%\n"
     ]
    },
    {
     "name": "stderr",
     "output_type": "stream",
     "text": [
      "01:30:10 - OI2: INFO - Duplicated gene symbols in the prize file (we'll keep the max prize):\n",
      "01:30:10 - OI2: INFO - []\n",
      "01:30:10 - OI2: INFO - Members of the prize file not present in the interactome:\n",
      "01:30:10 - OI2: INFO - []\n"
     ]
    },
    {
     "name": "stdout",
     "output_type": "stream",
     "text": [
      "progress = 25.900000000000002%\n"
     ]
    },
    {
     "name": "stderr",
     "output_type": "stream",
     "text": [
      "01:30:12 - OI2: INFO - Duplicated gene symbols in the prize file (we'll keep the max prize):\n",
      "01:30:12 - OI2: INFO - []\n",
      "01:30:12 - OI2: INFO - Members of the prize file not present in the interactome:\n",
      "01:30:12 - OI2: INFO - []\n"
     ]
    },
    {
     "name": "stdout",
     "output_type": "stream",
     "text": [
      "progress = 26.0%\n"
     ]
    },
    {
     "name": "stderr",
     "output_type": "stream",
     "text": [
      "01:30:15 - OI2: INFO - Duplicated gene symbols in the prize file (we'll keep the max prize):\n",
      "01:30:15 - OI2: INFO - []\n",
      "01:30:15 - OI2: INFO - Members of the prize file not present in the interactome:\n",
      "01:30:15 - OI2: INFO - []\n"
     ]
    },
    {
     "name": "stdout",
     "output_type": "stream",
     "text": [
      "progress = 26.1%\n"
     ]
    },
    {
     "name": "stderr",
     "output_type": "stream",
     "text": [
      "01:30:17 - OI2: INFO - Duplicated gene symbols in the prize file (we'll keep the max prize):\n",
      "01:30:17 - OI2: INFO - []\n",
      "01:30:18 - OI2: INFO - Members of the prize file not present in the interactome:\n",
      "01:30:18 - OI2: INFO - []\n"
     ]
    },
    {
     "name": "stdout",
     "output_type": "stream",
     "text": [
      "progress = 26.200000000000003%\n"
     ]
    },
    {
     "name": "stderr",
     "output_type": "stream",
     "text": [
      "01:30:20 - OI2: INFO - Duplicated gene symbols in the prize file (we'll keep the max prize):\n",
      "01:30:20 - OI2: INFO - []\n",
      "01:30:20 - OI2: INFO - Members of the prize file not present in the interactome:\n",
      "01:30:20 - OI2: INFO - []\n"
     ]
    },
    {
     "name": "stdout",
     "output_type": "stream",
     "text": [
      "progress = 26.3%\n"
     ]
    },
    {
     "name": "stderr",
     "output_type": "stream",
     "text": [
      "01:30:23 - OI2: INFO - Duplicated gene symbols in the prize file (we'll keep the max prize):\n",
      "01:30:23 - OI2: INFO - []\n",
      "01:30:23 - OI2: INFO - Members of the prize file not present in the interactome:\n",
      "01:30:23 - OI2: INFO - []\n"
     ]
    },
    {
     "name": "stdout",
     "output_type": "stream",
     "text": [
      "progress = 26.400000000000002%\n"
     ]
    },
    {
     "name": "stderr",
     "output_type": "stream",
     "text": [
      "01:30:26 - OI2: INFO - Duplicated gene symbols in the prize file (we'll keep the max prize):\n",
      "01:30:26 - OI2: INFO - []\n",
      "01:30:26 - OI2: INFO - Members of the prize file not present in the interactome:\n",
      "01:30:26 - OI2: INFO - []\n"
     ]
    },
    {
     "name": "stdout",
     "output_type": "stream",
     "text": [
      "progress = 26.5%\n"
     ]
    },
    {
     "name": "stderr",
     "output_type": "stream",
     "text": [
      "01:30:28 - OI2: INFO - Duplicated gene symbols in the prize file (we'll keep the max prize):\n",
      "01:30:28 - OI2: INFO - []\n",
      "01:30:28 - OI2: INFO - Members of the prize file not present in the interactome:\n",
      "01:30:28 - OI2: INFO - []\n"
     ]
    },
    {
     "name": "stdout",
     "output_type": "stream",
     "text": [
      "progress = 26.6%\n"
     ]
    },
    {
     "name": "stderr",
     "output_type": "stream",
     "text": [
      "01:30:31 - OI2: INFO - Duplicated gene symbols in the prize file (we'll keep the max prize):\n",
      "01:30:31 - OI2: INFO - []\n",
      "01:30:31 - OI2: INFO - Members of the prize file not present in the interactome:\n",
      "01:30:31 - OI2: INFO - []\n"
     ]
    },
    {
     "name": "stdout",
     "output_type": "stream",
     "text": [
      "progress = 26.700000000000003%\n"
     ]
    },
    {
     "name": "stderr",
     "output_type": "stream",
     "text": [
      "01:30:33 - OI2: INFO - Duplicated gene symbols in the prize file (we'll keep the max prize):\n",
      "01:30:33 - OI2: INFO - []\n",
      "01:30:33 - OI2: INFO - Members of the prize file not present in the interactome:\n",
      "01:30:33 - OI2: INFO - []\n"
     ]
    },
    {
     "name": "stdout",
     "output_type": "stream",
     "text": [
      "progress = 26.8%\n"
     ]
    },
    {
     "name": "stderr",
     "output_type": "stream",
     "text": [
      "01:30:36 - OI2: INFO - Duplicated gene symbols in the prize file (we'll keep the max prize):\n",
      "01:30:36 - OI2: INFO - []\n",
      "01:30:36 - OI2: INFO - Members of the prize file not present in the interactome:\n",
      "01:30:36 - OI2: INFO - []\n"
     ]
    },
    {
     "name": "stdout",
     "output_type": "stream",
     "text": [
      "progress = 26.900000000000002%\n"
     ]
    },
    {
     "name": "stderr",
     "output_type": "stream",
     "text": [
      "01:30:39 - OI2: INFO - Duplicated gene symbols in the prize file (we'll keep the max prize):\n",
      "01:30:39 - OI2: INFO - []\n",
      "01:30:39 - OI2: INFO - Members of the prize file not present in the interactome:\n",
      "01:30:39 - OI2: INFO - []\n"
     ]
    },
    {
     "name": "stdout",
     "output_type": "stream",
     "text": [
      "progress = 27.0%\n"
     ]
    },
    {
     "name": "stderr",
     "output_type": "stream",
     "text": [
      "01:30:41 - OI2: INFO - Duplicated gene symbols in the prize file (we'll keep the max prize):\n",
      "01:30:41 - OI2: INFO - []\n",
      "01:30:41 - OI2: INFO - Members of the prize file not present in the interactome:\n",
      "01:30:41 - OI2: INFO - []\n"
     ]
    },
    {
     "name": "stdout",
     "output_type": "stream",
     "text": [
      "progress = 27.1%\n"
     ]
    },
    {
     "name": "stderr",
     "output_type": "stream",
     "text": [
      "01:30:44 - OI2: INFO - Duplicated gene symbols in the prize file (we'll keep the max prize):\n",
      "01:30:44 - OI2: INFO - []\n",
      "01:30:44 - OI2: INFO - Members of the prize file not present in the interactome:\n",
      "01:30:44 - OI2: INFO - []\n"
     ]
    },
    {
     "name": "stdout",
     "output_type": "stream",
     "text": [
      "progress = 27.200000000000003%\n"
     ]
    },
    {
     "name": "stderr",
     "output_type": "stream",
     "text": [
      "01:30:46 - OI2: INFO - Duplicated gene symbols in the prize file (we'll keep the max prize):\n",
      "01:30:46 - OI2: INFO - []\n",
      "01:30:46 - OI2: INFO - Members of the prize file not present in the interactome:\n",
      "01:30:46 - OI2: INFO - []\n"
     ]
    },
    {
     "name": "stdout",
     "output_type": "stream",
     "text": [
      "progress = 27.3%\n"
     ]
    },
    {
     "name": "stderr",
     "output_type": "stream",
     "text": [
      "01:30:49 - OI2: INFO - Duplicated gene symbols in the prize file (we'll keep the max prize):\n",
      "01:30:49 - OI2: INFO - []\n",
      "01:30:49 - OI2: INFO - Members of the prize file not present in the interactome:\n",
      "01:30:49 - OI2: INFO - []\n"
     ]
    },
    {
     "name": "stdout",
     "output_type": "stream",
     "text": [
      "progress = 27.400000000000002%\n"
     ]
    },
    {
     "name": "stderr",
     "output_type": "stream",
     "text": [
      "01:30:52 - OI2: INFO - Duplicated gene symbols in the prize file (we'll keep the max prize):\n",
      "01:30:52 - OI2: INFO - []\n",
      "01:30:52 - OI2: INFO - Members of the prize file not present in the interactome:\n",
      "01:30:52 - OI2: INFO - []\n"
     ]
    },
    {
     "name": "stdout",
     "output_type": "stream",
     "text": [
      "progress = 27.500000000000004%\n"
     ]
    },
    {
     "name": "stderr",
     "output_type": "stream",
     "text": [
      "01:30:55 - OI2: INFO - Duplicated gene symbols in the prize file (we'll keep the max prize):\n",
      "01:30:55 - OI2: INFO - []\n",
      "01:30:55 - OI2: INFO - Members of the prize file not present in the interactome:\n",
      "01:30:55 - OI2: INFO - []\n"
     ]
    },
    {
     "name": "stdout",
     "output_type": "stream",
     "text": [
      "progress = 27.6%\n"
     ]
    },
    {
     "name": "stderr",
     "output_type": "stream",
     "text": [
      "01:30:57 - OI2: INFO - Duplicated gene symbols in the prize file (we'll keep the max prize):\n",
      "01:30:57 - OI2: INFO - []\n",
      "01:30:57 - OI2: INFO - Members of the prize file not present in the interactome:\n",
      "01:30:57 - OI2: INFO - []\n"
     ]
    },
    {
     "name": "stdout",
     "output_type": "stream",
     "text": [
      "progress = 27.700000000000003%\n"
     ]
    },
    {
     "name": "stderr",
     "output_type": "stream",
     "text": [
      "01:31:00 - OI2: INFO - Duplicated gene symbols in the prize file (we'll keep the max prize):\n",
      "01:31:00 - OI2: INFO - []\n",
      "01:31:00 - OI2: INFO - Members of the prize file not present in the interactome:\n",
      "01:31:00 - OI2: INFO - []\n"
     ]
    },
    {
     "name": "stdout",
     "output_type": "stream",
     "text": [
      "progress = 27.800000000000004%\n"
     ]
    },
    {
     "name": "stderr",
     "output_type": "stream",
     "text": [
      "01:31:03 - OI2: INFO - Duplicated gene symbols in the prize file (we'll keep the max prize):\n",
      "01:31:03 - OI2: INFO - []\n",
      "01:31:03 - OI2: INFO - Members of the prize file not present in the interactome:\n",
      "01:31:03 - OI2: INFO - []\n"
     ]
    },
    {
     "name": "stdout",
     "output_type": "stream",
     "text": [
      "progress = 27.900000000000002%\n"
     ]
    },
    {
     "name": "stderr",
     "output_type": "stream",
     "text": [
      "01:31:05 - OI2: INFO - Duplicated gene symbols in the prize file (we'll keep the max prize):\n",
      "01:31:05 - OI2: INFO - []\n",
      "01:31:05 - OI2: INFO - Members of the prize file not present in the interactome:\n",
      "01:31:05 - OI2: INFO - []\n"
     ]
    },
    {
     "name": "stdout",
     "output_type": "stream",
     "text": [
      "progress = 28.000000000000004%\n"
     ]
    },
    {
     "name": "stderr",
     "output_type": "stream",
     "text": [
      "01:31:08 - OI2: INFO - Duplicated gene symbols in the prize file (we'll keep the max prize):\n",
      "01:31:08 - OI2: INFO - []\n",
      "01:31:08 - OI2: INFO - Members of the prize file not present in the interactome:\n",
      "01:31:08 - OI2: INFO - []\n"
     ]
    },
    {
     "name": "stdout",
     "output_type": "stream",
     "text": [
      "progress = 28.1%\n"
     ]
    },
    {
     "name": "stderr",
     "output_type": "stream",
     "text": [
      "01:31:11 - OI2: INFO - Duplicated gene symbols in the prize file (we'll keep the max prize):\n",
      "01:31:11 - OI2: INFO - []\n",
      "01:31:11 - OI2: INFO - Members of the prize file not present in the interactome:\n",
      "01:31:11 - OI2: INFO - []\n"
     ]
    },
    {
     "name": "stdout",
     "output_type": "stream",
     "text": [
      "progress = 28.199999999999996%\n"
     ]
    },
    {
     "name": "stderr",
     "output_type": "stream",
     "text": [
      "01:31:13 - OI2: INFO - Duplicated gene symbols in the prize file (we'll keep the max prize):\n",
      "01:31:13 - OI2: INFO - []\n",
      "01:31:13 - OI2: INFO - Members of the prize file not present in the interactome:\n",
      "01:31:13 - OI2: INFO - []\n"
     ]
    },
    {
     "name": "stdout",
     "output_type": "stream",
     "text": [
      "progress = 28.299999999999997%\n"
     ]
    },
    {
     "name": "stderr",
     "output_type": "stream",
     "text": [
      "01:31:16 - OI2: INFO - Duplicated gene symbols in the prize file (we'll keep the max prize):\n",
      "01:31:16 - OI2: INFO - []\n",
      "01:31:16 - OI2: INFO - Members of the prize file not present in the interactome:\n",
      "01:31:16 - OI2: INFO - []\n"
     ]
    },
    {
     "name": "stdout",
     "output_type": "stream",
     "text": [
      "progress = 28.4%\n"
     ]
    },
    {
     "name": "stderr",
     "output_type": "stream",
     "text": [
      "01:31:19 - OI2: INFO - Duplicated gene symbols in the prize file (we'll keep the max prize):\n",
      "01:31:19 - OI2: INFO - []\n",
      "01:31:19 - OI2: INFO - Members of the prize file not present in the interactome:\n",
      "01:31:19 - OI2: INFO - []\n"
     ]
    },
    {
     "name": "stdout",
     "output_type": "stream",
     "text": [
      "progress = 28.499999999999996%\n"
     ]
    },
    {
     "name": "stderr",
     "output_type": "stream",
     "text": [
      "01:31:21 - OI2: INFO - Duplicated gene symbols in the prize file (we'll keep the max prize):\n",
      "01:31:21 - OI2: INFO - []\n",
      "01:31:21 - OI2: INFO - Members of the prize file not present in the interactome:\n",
      "01:31:21 - OI2: INFO - []\n"
     ]
    },
    {
     "name": "stdout",
     "output_type": "stream",
     "text": [
      "progress = 28.599999999999998%\n"
     ]
    },
    {
     "name": "stderr",
     "output_type": "stream",
     "text": [
      "01:31:24 - OI2: INFO - Duplicated gene symbols in the prize file (we'll keep the max prize):\n",
      "01:31:24 - OI2: INFO - []\n",
      "01:31:24 - OI2: INFO - Members of the prize file not present in the interactome:\n",
      "01:31:24 - OI2: INFO - []\n"
     ]
    },
    {
     "name": "stdout",
     "output_type": "stream",
     "text": [
      "progress = 28.7%\n"
     ]
    },
    {
     "name": "stderr",
     "output_type": "stream",
     "text": [
      "01:31:27 - OI2: INFO - Duplicated gene symbols in the prize file (we'll keep the max prize):\n",
      "01:31:27 - OI2: INFO - []\n",
      "01:31:27 - OI2: INFO - Members of the prize file not present in the interactome:\n",
      "01:31:27 - OI2: INFO - []\n"
     ]
    },
    {
     "name": "stdout",
     "output_type": "stream",
     "text": [
      "progress = 28.799999999999997%\n"
     ]
    },
    {
     "name": "stderr",
     "output_type": "stream",
     "text": [
      "01:31:29 - OI2: INFO - Duplicated gene symbols in the prize file (we'll keep the max prize):\n",
      "01:31:29 - OI2: INFO - []\n",
      "01:31:29 - OI2: INFO - Members of the prize file not present in the interactome:\n",
      "01:31:29 - OI2: INFO - []\n"
     ]
    },
    {
     "name": "stdout",
     "output_type": "stream",
     "text": [
      "progress = 28.9%\n"
     ]
    },
    {
     "name": "stderr",
     "output_type": "stream",
     "text": [
      "01:31:32 - OI2: INFO - Duplicated gene symbols in the prize file (we'll keep the max prize):\n",
      "01:31:32 - OI2: INFO - []\n",
      "01:31:32 - OI2: INFO - Members of the prize file not present in the interactome:\n",
      "01:31:32 - OI2: INFO - []\n"
     ]
    },
    {
     "name": "stdout",
     "output_type": "stream",
     "text": [
      "progress = 28.999999999999996%\n"
     ]
    },
    {
     "name": "stderr",
     "output_type": "stream",
     "text": [
      "01:31:35 - OI2: INFO - Duplicated gene symbols in the prize file (we'll keep the max prize):\n",
      "01:31:35 - OI2: INFO - []\n",
      "01:31:35 - OI2: INFO - Members of the prize file not present in the interactome:\n",
      "01:31:35 - OI2: INFO - []\n"
     ]
    },
    {
     "name": "stdout",
     "output_type": "stream",
     "text": [
      "progress = 29.099999999999998%\n"
     ]
    },
    {
     "name": "stderr",
     "output_type": "stream",
     "text": [
      "01:31:37 - OI2: INFO - Duplicated gene symbols in the prize file (we'll keep the max prize):\n",
      "01:31:37 - OI2: INFO - []\n",
      "01:31:37 - OI2: INFO - Members of the prize file not present in the interactome:\n",
      "01:31:37 - OI2: INFO - []\n"
     ]
    },
    {
     "name": "stdout",
     "output_type": "stream",
     "text": [
      "progress = 29.2%\n"
     ]
    },
    {
     "name": "stderr",
     "output_type": "stream",
     "text": [
      "01:31:40 - OI2: INFO - Duplicated gene symbols in the prize file (we'll keep the max prize):\n",
      "01:31:40 - OI2: INFO - []\n",
      "01:31:40 - OI2: INFO - Members of the prize file not present in the interactome:\n",
      "01:31:40 - OI2: INFO - []\n"
     ]
    },
    {
     "name": "stdout",
     "output_type": "stream",
     "text": [
      "progress = 29.299999999999997%\n"
     ]
    },
    {
     "name": "stderr",
     "output_type": "stream",
     "text": [
      "01:31:43 - OI2: INFO - Duplicated gene symbols in the prize file (we'll keep the max prize):\n",
      "01:31:43 - OI2: INFO - []\n",
      "01:31:43 - OI2: INFO - Members of the prize file not present in the interactome:\n",
      "01:31:43 - OI2: INFO - []\n"
     ]
    },
    {
     "name": "stdout",
     "output_type": "stream",
     "text": [
      "progress = 29.4%\n"
     ]
    },
    {
     "name": "stderr",
     "output_type": "stream",
     "text": [
      "01:31:45 - OI2: INFO - Duplicated gene symbols in the prize file (we'll keep the max prize):\n",
      "01:31:45 - OI2: INFO - []\n",
      "01:31:45 - OI2: INFO - Members of the prize file not present in the interactome:\n",
      "01:31:45 - OI2: INFO - []\n"
     ]
    },
    {
     "name": "stdout",
     "output_type": "stream",
     "text": [
      "progress = 29.5%\n"
     ]
    },
    {
     "name": "stderr",
     "output_type": "stream",
     "text": [
      "01:31:48 - OI2: INFO - Duplicated gene symbols in the prize file (we'll keep the max prize):\n",
      "01:31:48 - OI2: INFO - []\n",
      "01:31:48 - OI2: INFO - Members of the prize file not present in the interactome:\n",
      "01:31:48 - OI2: INFO - []\n"
     ]
    },
    {
     "name": "stdout",
     "output_type": "stream",
     "text": [
      "progress = 29.599999999999998%\n"
     ]
    },
    {
     "name": "stderr",
     "output_type": "stream",
     "text": [
      "01:31:51 - OI2: INFO - Duplicated gene symbols in the prize file (we'll keep the max prize):\n",
      "01:31:51 - OI2: INFO - []\n",
      "01:31:51 - OI2: INFO - Members of the prize file not present in the interactome:\n",
      "01:31:51 - OI2: INFO - []\n"
     ]
    },
    {
     "name": "stdout",
     "output_type": "stream",
     "text": [
      "progress = 29.7%\n"
     ]
    },
    {
     "name": "stderr",
     "output_type": "stream",
     "text": [
      "01:31:53 - OI2: INFO - Duplicated gene symbols in the prize file (we'll keep the max prize):\n",
      "01:31:53 - OI2: INFO - []\n",
      "01:31:53 - OI2: INFO - Members of the prize file not present in the interactome:\n",
      "01:31:53 - OI2: INFO - []\n"
     ]
    },
    {
     "name": "stdout",
     "output_type": "stream",
     "text": [
      "progress = 29.799999999999997%\n"
     ]
    },
    {
     "name": "stderr",
     "output_type": "stream",
     "text": [
      "01:31:56 - OI2: INFO - Duplicated gene symbols in the prize file (we'll keep the max prize):\n",
      "01:31:56 - OI2: INFO - []\n",
      "01:31:56 - OI2: INFO - Members of the prize file not present in the interactome:\n",
      "01:31:56 - OI2: INFO - []\n"
     ]
    },
    {
     "name": "stdout",
     "output_type": "stream",
     "text": [
      "progress = 29.9%\n"
     ]
    },
    {
     "name": "stderr",
     "output_type": "stream",
     "text": [
      "01:31:59 - OI2: INFO - Duplicated gene symbols in the prize file (we'll keep the max prize):\n",
      "01:31:59 - OI2: INFO - []\n",
      "01:31:59 - OI2: INFO - Members of the prize file not present in the interactome:\n",
      "01:31:59 - OI2: INFO - []\n"
     ]
    },
    {
     "name": "stdout",
     "output_type": "stream",
     "text": [
      "progress = 30.0%\n"
     ]
    },
    {
     "name": "stderr",
     "output_type": "stream",
     "text": [
      "01:32:02 - OI2: INFO - Duplicated gene symbols in the prize file (we'll keep the max prize):\n",
      "01:32:02 - OI2: INFO - []\n",
      "01:32:02 - OI2: INFO - Members of the prize file not present in the interactome:\n",
      "01:32:02 - OI2: INFO - []\n"
     ]
    },
    {
     "name": "stdout",
     "output_type": "stream",
     "text": [
      "progress = 30.099999999999998%\n"
     ]
    },
    {
     "name": "stderr",
     "output_type": "stream",
     "text": [
      "01:32:04 - OI2: INFO - Duplicated gene symbols in the prize file (we'll keep the max prize):\n",
      "01:32:04 - OI2: INFO - []\n",
      "01:32:04 - OI2: INFO - Members of the prize file not present in the interactome:\n",
      "01:32:04 - OI2: INFO - []\n"
     ]
    },
    {
     "name": "stdout",
     "output_type": "stream",
     "text": [
      "progress = 30.2%\n"
     ]
    },
    {
     "name": "stderr",
     "output_type": "stream",
     "text": [
      "01:32:07 - OI2: INFO - Duplicated gene symbols in the prize file (we'll keep the max prize):\n",
      "01:32:07 - OI2: INFO - []\n",
      "01:32:07 - OI2: INFO - Members of the prize file not present in the interactome:\n",
      "01:32:07 - OI2: INFO - []\n"
     ]
    },
    {
     "name": "stdout",
     "output_type": "stream",
     "text": [
      "progress = 30.3%\n"
     ]
    },
    {
     "name": "stderr",
     "output_type": "stream",
     "text": [
      "01:32:10 - OI2: INFO - Duplicated gene symbols in the prize file (we'll keep the max prize):\n",
      "01:32:10 - OI2: INFO - []\n",
      "01:32:10 - OI2: INFO - Members of the prize file not present in the interactome:\n",
      "01:32:10 - OI2: INFO - []\n"
     ]
    },
    {
     "name": "stdout",
     "output_type": "stream",
     "text": [
      "progress = 30.4%\n"
     ]
    },
    {
     "name": "stderr",
     "output_type": "stream",
     "text": [
      "01:32:13 - OI2: INFO - Duplicated gene symbols in the prize file (we'll keep the max prize):\n",
      "01:32:13 - OI2: INFO - []\n",
      "01:32:13 - OI2: INFO - Members of the prize file not present in the interactome:\n",
      "01:32:13 - OI2: INFO - []\n"
     ]
    },
    {
     "name": "stdout",
     "output_type": "stream",
     "text": [
      "progress = 30.5%\n"
     ]
    },
    {
     "name": "stderr",
     "output_type": "stream",
     "text": [
      "01:32:15 - OI2: INFO - Duplicated gene symbols in the prize file (we'll keep the max prize):\n",
      "01:32:15 - OI2: INFO - []\n",
      "01:32:15 - OI2: INFO - Members of the prize file not present in the interactome:\n",
      "01:32:15 - OI2: INFO - []\n"
     ]
    },
    {
     "name": "stdout",
     "output_type": "stream",
     "text": [
      "progress = 30.599999999999998%\n"
     ]
    },
    {
     "name": "stderr",
     "output_type": "stream",
     "text": [
      "01:32:18 - OI2: INFO - Duplicated gene symbols in the prize file (we'll keep the max prize):\n",
      "01:32:18 - OI2: INFO - []\n",
      "01:32:18 - OI2: INFO - Members of the prize file not present in the interactome:\n",
      "01:32:18 - OI2: INFO - []\n"
     ]
    },
    {
     "name": "stdout",
     "output_type": "stream",
     "text": [
      "progress = 30.7%\n"
     ]
    },
    {
     "name": "stderr",
     "output_type": "stream",
     "text": [
      "01:32:21 - OI2: INFO - Duplicated gene symbols in the prize file (we'll keep the max prize):\n",
      "01:32:21 - OI2: INFO - []\n",
      "01:32:21 - OI2: INFO - Members of the prize file not present in the interactome:\n",
      "01:32:21 - OI2: INFO - []\n"
     ]
    },
    {
     "name": "stdout",
     "output_type": "stream",
     "text": [
      "progress = 30.8%\n"
     ]
    },
    {
     "name": "stderr",
     "output_type": "stream",
     "text": [
      "01:32:24 - OI2: INFO - Duplicated gene symbols in the prize file (we'll keep the max prize):\n",
      "01:32:24 - OI2: INFO - []\n",
      "01:32:24 - OI2: INFO - Members of the prize file not present in the interactome:\n",
      "01:32:24 - OI2: INFO - []\n"
     ]
    },
    {
     "name": "stdout",
     "output_type": "stream",
     "text": [
      "progress = 30.9%\n"
     ]
    },
    {
     "name": "stderr",
     "output_type": "stream",
     "text": [
      "01:32:26 - OI2: INFO - Duplicated gene symbols in the prize file (we'll keep the max prize):\n",
      "01:32:26 - OI2: INFO - []\n",
      "01:32:26 - OI2: INFO - Members of the prize file not present in the interactome:\n",
      "01:32:26 - OI2: INFO - []\n"
     ]
    },
    {
     "name": "stdout",
     "output_type": "stream",
     "text": [
      "progress = 31.0%\n"
     ]
    },
    {
     "name": "stderr",
     "output_type": "stream",
     "text": [
      "01:32:29 - OI2: INFO - Duplicated gene symbols in the prize file (we'll keep the max prize):\n",
      "01:32:29 - OI2: INFO - []\n",
      "01:32:29 - OI2: INFO - Members of the prize file not present in the interactome:\n",
      "01:32:29 - OI2: INFO - []\n"
     ]
    },
    {
     "name": "stdout",
     "output_type": "stream",
     "text": [
      "progress = 31.1%\n"
     ]
    },
    {
     "name": "stderr",
     "output_type": "stream",
     "text": [
      "01:32:31 - OI2: INFO - Duplicated gene symbols in the prize file (we'll keep the max prize):\n",
      "01:32:31 - OI2: INFO - []\n",
      "01:32:31 - OI2: INFO - Members of the prize file not present in the interactome:\n",
      "01:32:31 - OI2: INFO - []\n"
     ]
    },
    {
     "name": "stdout",
     "output_type": "stream",
     "text": [
      "progress = 31.2%\n"
     ]
    },
    {
     "name": "stderr",
     "output_type": "stream",
     "text": [
      "01:32:34 - OI2: INFO - Duplicated gene symbols in the prize file (we'll keep the max prize):\n",
      "01:32:34 - OI2: INFO - []\n",
      "01:32:34 - OI2: INFO - Members of the prize file not present in the interactome:\n",
      "01:32:34 - OI2: INFO - []\n"
     ]
    },
    {
     "name": "stdout",
     "output_type": "stream",
     "text": [
      "progress = 31.3%\n"
     ]
    },
    {
     "name": "stderr",
     "output_type": "stream",
     "text": [
      "01:32:37 - OI2: INFO - Duplicated gene symbols in the prize file (we'll keep the max prize):\n",
      "01:32:37 - OI2: INFO - []\n",
      "01:32:37 - OI2: INFO - Members of the prize file not present in the interactome:\n",
      "01:32:37 - OI2: INFO - []\n"
     ]
    },
    {
     "name": "stdout",
     "output_type": "stream",
     "text": [
      "progress = 31.4%\n"
     ]
    },
    {
     "name": "stderr",
     "output_type": "stream",
     "text": [
      "01:32:39 - OI2: INFO - Duplicated gene symbols in the prize file (we'll keep the max prize):\n",
      "01:32:39 - OI2: INFO - []\n",
      "01:32:39 - OI2: INFO - Members of the prize file not present in the interactome:\n",
      "01:32:39 - OI2: INFO - []\n"
     ]
    },
    {
     "name": "stdout",
     "output_type": "stream",
     "text": [
      "progress = 31.5%\n"
     ]
    },
    {
     "name": "stderr",
     "output_type": "stream",
     "text": [
      "01:32:42 - OI2: INFO - Duplicated gene symbols in the prize file (we'll keep the max prize):\n",
      "01:32:42 - OI2: INFO - []\n",
      "01:32:42 - OI2: INFO - Members of the prize file not present in the interactome:\n",
      "01:32:42 - OI2: INFO - []\n"
     ]
    },
    {
     "name": "stdout",
     "output_type": "stream",
     "text": [
      "progress = 31.6%\n"
     ]
    },
    {
     "name": "stderr",
     "output_type": "stream",
     "text": [
      "01:32:45 - OI2: INFO - Duplicated gene symbols in the prize file (we'll keep the max prize):\n",
      "01:32:45 - OI2: INFO - []\n",
      "01:32:45 - OI2: INFO - Members of the prize file not present in the interactome:\n",
      "01:32:45 - OI2: INFO - []\n"
     ]
    },
    {
     "name": "stdout",
     "output_type": "stream",
     "text": [
      "progress = 31.7%\n"
     ]
    },
    {
     "name": "stderr",
     "output_type": "stream",
     "text": [
      "01:32:47 - OI2: INFO - Duplicated gene symbols in the prize file (we'll keep the max prize):\n",
      "01:32:47 - OI2: INFO - []\n",
      "01:32:47 - OI2: INFO - Members of the prize file not present in the interactome:\n",
      "01:32:47 - OI2: INFO - []\n"
     ]
    },
    {
     "name": "stdout",
     "output_type": "stream",
     "text": [
      "progress = 31.8%\n"
     ]
    },
    {
     "name": "stderr",
     "output_type": "stream",
     "text": [
      "01:32:50 - OI2: INFO - Duplicated gene symbols in the prize file (we'll keep the max prize):\n",
      "01:32:50 - OI2: INFO - []\n",
      "01:32:50 - OI2: INFO - Members of the prize file not present in the interactome:\n",
      "01:32:50 - OI2: INFO - []\n"
     ]
    },
    {
     "name": "stdout",
     "output_type": "stream",
     "text": [
      "progress = 31.900000000000002%\n"
     ]
    },
    {
     "name": "stderr",
     "output_type": "stream",
     "text": [
      "01:32:53 - OI2: INFO - Duplicated gene symbols in the prize file (we'll keep the max prize):\n",
      "01:32:53 - OI2: INFO - []\n",
      "01:32:53 - OI2: INFO - Members of the prize file not present in the interactome:\n",
      "01:32:53 - OI2: INFO - []\n"
     ]
    },
    {
     "name": "stdout",
     "output_type": "stream",
     "text": [
      "progress = 32.0%\n"
     ]
    },
    {
     "name": "stderr",
     "output_type": "stream",
     "text": [
      "01:32:56 - OI2: INFO - Duplicated gene symbols in the prize file (we'll keep the max prize):\n",
      "01:32:56 - OI2: INFO - []\n",
      "01:32:56 - OI2: INFO - Members of the prize file not present in the interactome:\n",
      "01:32:56 - OI2: INFO - []\n"
     ]
    },
    {
     "name": "stdout",
     "output_type": "stream",
     "text": [
      "progress = 32.1%\n"
     ]
    },
    {
     "name": "stderr",
     "output_type": "stream",
     "text": [
      "01:32:58 - OI2: INFO - Duplicated gene symbols in the prize file (we'll keep the max prize):\n",
      "01:32:58 - OI2: INFO - []\n",
      "01:32:58 - OI2: INFO - Members of the prize file not present in the interactome:\n",
      "01:32:58 - OI2: INFO - []\n"
     ]
    },
    {
     "name": "stdout",
     "output_type": "stream",
     "text": [
      "progress = 32.2%\n"
     ]
    },
    {
     "name": "stderr",
     "output_type": "stream",
     "text": [
      "01:33:01 - OI2: INFO - Duplicated gene symbols in the prize file (we'll keep the max prize):\n",
      "01:33:01 - OI2: INFO - []\n",
      "01:33:01 - OI2: INFO - Members of the prize file not present in the interactome:\n",
      "01:33:01 - OI2: INFO - []\n"
     ]
    },
    {
     "name": "stdout",
     "output_type": "stream",
     "text": [
      "progress = 32.300000000000004%\n"
     ]
    },
    {
     "name": "stderr",
     "output_type": "stream",
     "text": [
      "01:33:04 - OI2: INFO - Duplicated gene symbols in the prize file (we'll keep the max prize):\n",
      "01:33:04 - OI2: INFO - []\n",
      "01:33:04 - OI2: INFO - Members of the prize file not present in the interactome:\n",
      "01:33:04 - OI2: INFO - []\n"
     ]
    },
    {
     "name": "stdout",
     "output_type": "stream",
     "text": [
      "progress = 32.4%\n"
     ]
    },
    {
     "name": "stderr",
     "output_type": "stream",
     "text": [
      "01:33:06 - OI2: INFO - Duplicated gene symbols in the prize file (we'll keep the max prize):\n",
      "01:33:06 - OI2: INFO - []\n",
      "01:33:06 - OI2: INFO - Members of the prize file not present in the interactome:\n",
      "01:33:06 - OI2: INFO - []\n"
     ]
    },
    {
     "name": "stdout",
     "output_type": "stream",
     "text": [
      "progress = 32.5%\n"
     ]
    },
    {
     "name": "stderr",
     "output_type": "stream",
     "text": [
      "01:33:09 - OI2: INFO - Duplicated gene symbols in the prize file (we'll keep the max prize):\n",
      "01:33:09 - OI2: INFO - []\n",
      "01:33:09 - OI2: INFO - Members of the prize file not present in the interactome:\n",
      "01:33:09 - OI2: INFO - []\n"
     ]
    },
    {
     "name": "stdout",
     "output_type": "stream",
     "text": [
      "progress = 32.6%\n"
     ]
    },
    {
     "name": "stderr",
     "output_type": "stream",
     "text": [
      "01:33:12 - OI2: INFO - Duplicated gene symbols in the prize file (we'll keep the max prize):\n",
      "01:33:12 - OI2: INFO - []\n",
      "01:33:12 - OI2: INFO - Members of the prize file not present in the interactome:\n",
      "01:33:12 - OI2: INFO - []\n"
     ]
    },
    {
     "name": "stdout",
     "output_type": "stream",
     "text": [
      "progress = 32.7%\n"
     ]
    },
    {
     "name": "stderr",
     "output_type": "stream",
     "text": [
      "01:33:14 - OI2: INFO - Duplicated gene symbols in the prize file (we'll keep the max prize):\n",
      "01:33:14 - OI2: INFO - []\n",
      "01:33:14 - OI2: INFO - Members of the prize file not present in the interactome:\n",
      "01:33:14 - OI2: INFO - []\n"
     ]
    },
    {
     "name": "stdout",
     "output_type": "stream",
     "text": [
      "progress = 32.800000000000004%\n"
     ]
    },
    {
     "name": "stderr",
     "output_type": "stream",
     "text": [
      "01:33:17 - OI2: INFO - Duplicated gene symbols in the prize file (we'll keep the max prize):\n",
      "01:33:17 - OI2: INFO - []\n",
      "01:33:17 - OI2: INFO - Members of the prize file not present in the interactome:\n",
      "01:33:17 - OI2: INFO - []\n"
     ]
    },
    {
     "name": "stdout",
     "output_type": "stream",
     "text": [
      "progress = 32.9%\n"
     ]
    },
    {
     "name": "stderr",
     "output_type": "stream",
     "text": [
      "01:33:19 - OI2: INFO - Duplicated gene symbols in the prize file (we'll keep the max prize):\n",
      "01:33:19 - OI2: INFO - []\n",
      "01:33:19 - OI2: INFO - Members of the prize file not present in the interactome:\n",
      "01:33:19 - OI2: INFO - []\n"
     ]
    },
    {
     "name": "stdout",
     "output_type": "stream",
     "text": [
      "progress = 33.0%\n"
     ]
    },
    {
     "name": "stderr",
     "output_type": "stream",
     "text": [
      "01:33:22 - OI2: INFO - Duplicated gene symbols in the prize file (we'll keep the max prize):\n",
      "01:33:22 - OI2: INFO - []\n",
      "01:33:22 - OI2: INFO - Members of the prize file not present in the interactome:\n",
      "01:33:22 - OI2: INFO - []\n"
     ]
    },
    {
     "name": "stdout",
     "output_type": "stream",
     "text": [
      "progress = 33.1%\n"
     ]
    },
    {
     "name": "stderr",
     "output_type": "stream",
     "text": [
      "01:33:25 - OI2: INFO - Duplicated gene symbols in the prize file (we'll keep the max prize):\n",
      "01:33:25 - OI2: INFO - []\n",
      "01:33:25 - OI2: INFO - Members of the prize file not present in the interactome:\n",
      "01:33:25 - OI2: INFO - []\n"
     ]
    },
    {
     "name": "stdout",
     "output_type": "stream",
     "text": [
      "progress = 33.2%\n"
     ]
    },
    {
     "name": "stderr",
     "output_type": "stream",
     "text": [
      "01:33:27 - OI2: INFO - Duplicated gene symbols in the prize file (we'll keep the max prize):\n",
      "01:33:27 - OI2: INFO - []\n",
      "01:33:27 - OI2: INFO - Members of the prize file not present in the interactome:\n",
      "01:33:27 - OI2: INFO - []\n"
     ]
    },
    {
     "name": "stdout",
     "output_type": "stream",
     "text": [
      "progress = 33.300000000000004%\n"
     ]
    },
    {
     "name": "stderr",
     "output_type": "stream",
     "text": [
      "01:33:30 - OI2: INFO - Duplicated gene symbols in the prize file (we'll keep the max prize):\n",
      "01:33:30 - OI2: INFO - []\n",
      "01:33:30 - OI2: INFO - Members of the prize file not present in the interactome:\n",
      "01:33:30 - OI2: INFO - []\n"
     ]
    },
    {
     "name": "stdout",
     "output_type": "stream",
     "text": [
      "progress = 33.4%\n"
     ]
    },
    {
     "name": "stderr",
     "output_type": "stream",
     "text": [
      "01:33:33 - OI2: INFO - Duplicated gene symbols in the prize file (we'll keep the max prize):\n",
      "01:33:33 - OI2: INFO - []\n",
      "01:33:33 - OI2: INFO - Members of the prize file not present in the interactome:\n",
      "01:33:33 - OI2: INFO - []\n"
     ]
    },
    {
     "name": "stdout",
     "output_type": "stream",
     "text": [
      "progress = 33.5%\n"
     ]
    },
    {
     "name": "stderr",
     "output_type": "stream",
     "text": [
      "01:33:35 - OI2: INFO - Duplicated gene symbols in the prize file (we'll keep the max prize):\n",
      "01:33:35 - OI2: INFO - []\n",
      "01:33:35 - OI2: INFO - Members of the prize file not present in the interactome:\n",
      "01:33:35 - OI2: INFO - []\n"
     ]
    },
    {
     "name": "stdout",
     "output_type": "stream",
     "text": [
      "progress = 33.6%\n"
     ]
    },
    {
     "name": "stderr",
     "output_type": "stream",
     "text": [
      "01:33:38 - OI2: INFO - Duplicated gene symbols in the prize file (we'll keep the max prize):\n",
      "01:33:38 - OI2: INFO - []\n",
      "01:33:38 - OI2: INFO - Members of the prize file not present in the interactome:\n",
      "01:33:38 - OI2: INFO - []\n"
     ]
    },
    {
     "name": "stdout",
     "output_type": "stream",
     "text": [
      "progress = 33.7%\n"
     ]
    },
    {
     "name": "stderr",
     "output_type": "stream",
     "text": [
      "01:33:41 - OI2: INFO - Duplicated gene symbols in the prize file (we'll keep the max prize):\n",
      "01:33:41 - OI2: INFO - []\n",
      "01:33:41 - OI2: INFO - Members of the prize file not present in the interactome:\n",
      "01:33:41 - OI2: INFO - []\n"
     ]
    },
    {
     "name": "stdout",
     "output_type": "stream",
     "text": [
      "progress = 33.800000000000004%\n"
     ]
    },
    {
     "name": "stderr",
     "output_type": "stream",
     "text": [
      "01:33:43 - OI2: INFO - Duplicated gene symbols in the prize file (we'll keep the max prize):\n",
      "01:33:43 - OI2: INFO - []\n",
      "01:33:43 - OI2: INFO - Members of the prize file not present in the interactome:\n",
      "01:33:43 - OI2: INFO - []\n"
     ]
    },
    {
     "name": "stdout",
     "output_type": "stream",
     "text": [
      "progress = 33.900000000000006%\n"
     ]
    },
    {
     "name": "stderr",
     "output_type": "stream",
     "text": [
      "01:33:46 - OI2: INFO - Duplicated gene symbols in the prize file (we'll keep the max prize):\n",
      "01:33:46 - OI2: INFO - []\n",
      "01:33:46 - OI2: INFO - Members of the prize file not present in the interactome:\n",
      "01:33:46 - OI2: INFO - []\n"
     ]
    },
    {
     "name": "stdout",
     "output_type": "stream",
     "text": [
      "progress = 34.0%\n"
     ]
    },
    {
     "name": "stderr",
     "output_type": "stream",
     "text": [
      "01:33:48 - OI2: INFO - Duplicated gene symbols in the prize file (we'll keep the max prize):\n",
      "01:33:48 - OI2: INFO - []\n",
      "01:33:48 - OI2: INFO - Members of the prize file not present in the interactome:\n",
      "01:33:48 - OI2: INFO - []\n"
     ]
    },
    {
     "name": "stdout",
     "output_type": "stream",
     "text": [
      "progress = 34.1%\n"
     ]
    },
    {
     "name": "stderr",
     "output_type": "stream",
     "text": [
      "01:33:51 - OI2: INFO - Duplicated gene symbols in the prize file (we'll keep the max prize):\n",
      "01:33:51 - OI2: INFO - []\n",
      "01:33:51 - OI2: INFO - Members of the prize file not present in the interactome:\n",
      "01:33:51 - OI2: INFO - []\n"
     ]
    },
    {
     "name": "stdout",
     "output_type": "stream",
     "text": [
      "progress = 34.2%\n"
     ]
    },
    {
     "name": "stderr",
     "output_type": "stream",
     "text": [
      "01:33:54 - OI2: INFO - Duplicated gene symbols in the prize file (we'll keep the max prize):\n",
      "01:33:54 - OI2: INFO - []\n",
      "01:33:54 - OI2: INFO - Members of the prize file not present in the interactome:\n",
      "01:33:54 - OI2: INFO - []\n"
     ]
    },
    {
     "name": "stdout",
     "output_type": "stream",
     "text": [
      "progress = 34.300000000000004%\n"
     ]
    },
    {
     "name": "stderr",
     "output_type": "stream",
     "text": [
      "01:33:56 - OI2: INFO - Duplicated gene symbols in the prize file (we'll keep the max prize):\n",
      "01:33:56 - OI2: INFO - []\n",
      "01:33:56 - OI2: INFO - Members of the prize file not present in the interactome:\n",
      "01:33:56 - OI2: INFO - []\n"
     ]
    },
    {
     "name": "stdout",
     "output_type": "stream",
     "text": [
      "progress = 34.4%\n"
     ]
    },
    {
     "name": "stderr",
     "output_type": "stream",
     "text": [
      "01:33:59 - OI2: INFO - Duplicated gene symbols in the prize file (we'll keep the max prize):\n",
      "01:33:59 - OI2: INFO - []\n",
      "01:33:59 - OI2: INFO - Members of the prize file not present in the interactome:\n",
      "01:33:59 - OI2: INFO - []\n"
     ]
    },
    {
     "name": "stdout",
     "output_type": "stream",
     "text": [
      "progress = 34.5%\n"
     ]
    },
    {
     "name": "stderr",
     "output_type": "stream",
     "text": [
      "01:34:02 - OI2: INFO - Duplicated gene symbols in the prize file (we'll keep the max prize):\n",
      "01:34:02 - OI2: INFO - []\n",
      "01:34:02 - OI2: INFO - Members of the prize file not present in the interactome:\n",
      "01:34:02 - OI2: INFO - []\n"
     ]
    },
    {
     "name": "stdout",
     "output_type": "stream",
     "text": [
      "progress = 34.599999999999994%\n"
     ]
    },
    {
     "name": "stderr",
     "output_type": "stream",
     "text": [
      "01:34:04 - OI2: INFO - Duplicated gene symbols in the prize file (we'll keep the max prize):\n",
      "01:34:04 - OI2: INFO - []\n",
      "01:34:04 - OI2: INFO - Members of the prize file not present in the interactome:\n",
      "01:34:04 - OI2: INFO - []\n"
     ]
    },
    {
     "name": "stdout",
     "output_type": "stream",
     "text": [
      "progress = 34.699999999999996%\n"
     ]
    },
    {
     "name": "stderr",
     "output_type": "stream",
     "text": [
      "01:34:07 - OI2: INFO - Duplicated gene symbols in the prize file (we'll keep the max prize):\n",
      "01:34:07 - OI2: INFO - []\n",
      "01:34:07 - OI2: INFO - Members of the prize file not present in the interactome:\n",
      "01:34:07 - OI2: INFO - []\n"
     ]
    },
    {
     "name": "stdout",
     "output_type": "stream",
     "text": [
      "progress = 34.8%\n"
     ]
    },
    {
     "name": "stderr",
     "output_type": "stream",
     "text": [
      "01:34:10 - OI2: INFO - Duplicated gene symbols in the prize file (we'll keep the max prize):\n",
      "01:34:10 - OI2: INFO - []\n",
      "01:34:10 - OI2: INFO - Members of the prize file not present in the interactome:\n",
      "01:34:10 - OI2: INFO - []\n"
     ]
    },
    {
     "name": "stdout",
     "output_type": "stream",
     "text": [
      "progress = 34.9%\n"
     ]
    },
    {
     "name": "stderr",
     "output_type": "stream",
     "text": [
      "01:34:12 - OI2: INFO - Duplicated gene symbols in the prize file (we'll keep the max prize):\n",
      "01:34:12 - OI2: INFO - []\n",
      "01:34:12 - OI2: INFO - Members of the prize file not present in the interactome:\n",
      "01:34:12 - OI2: INFO - []\n"
     ]
    },
    {
     "name": "stdout",
     "output_type": "stream",
     "text": [
      "progress = 35.0%\n"
     ]
    },
    {
     "name": "stderr",
     "output_type": "stream",
     "text": [
      "01:34:15 - OI2: INFO - Duplicated gene symbols in the prize file (we'll keep the max prize):\n",
      "01:34:15 - OI2: INFO - []\n",
      "01:34:15 - OI2: INFO - Members of the prize file not present in the interactome:\n",
      "01:34:15 - OI2: INFO - []\n"
     ]
    },
    {
     "name": "stdout",
     "output_type": "stream",
     "text": [
      "progress = 35.099999999999994%\n"
     ]
    },
    {
     "name": "stderr",
     "output_type": "stream",
     "text": [
      "01:34:18 - OI2: INFO - Duplicated gene symbols in the prize file (we'll keep the max prize):\n",
      "01:34:18 - OI2: INFO - []\n",
      "01:34:18 - OI2: INFO - Members of the prize file not present in the interactome:\n",
      "01:34:18 - OI2: INFO - []\n"
     ]
    },
    {
     "name": "stdout",
     "output_type": "stream",
     "text": [
      "progress = 35.199999999999996%\n"
     ]
    },
    {
     "name": "stderr",
     "output_type": "stream",
     "text": [
      "01:34:20 - OI2: INFO - Duplicated gene symbols in the prize file (we'll keep the max prize):\n",
      "01:34:20 - OI2: INFO - []\n",
      "01:34:20 - OI2: INFO - Members of the prize file not present in the interactome:\n",
      "01:34:20 - OI2: INFO - []\n"
     ]
    },
    {
     "name": "stdout",
     "output_type": "stream",
     "text": [
      "progress = 35.3%\n"
     ]
    },
    {
     "name": "stderr",
     "output_type": "stream",
     "text": [
      "01:34:23 - OI2: INFO - Duplicated gene symbols in the prize file (we'll keep the max prize):\n",
      "01:34:23 - OI2: INFO - []\n",
      "01:34:23 - OI2: INFO - Members of the prize file not present in the interactome:\n",
      "01:34:23 - OI2: INFO - []\n"
     ]
    },
    {
     "name": "stdout",
     "output_type": "stream",
     "text": [
      "progress = 35.4%\n"
     ]
    },
    {
     "name": "stderr",
     "output_type": "stream",
     "text": [
      "01:34:26 - OI2: INFO - Duplicated gene symbols in the prize file (we'll keep the max prize):\n",
      "01:34:26 - OI2: INFO - []\n",
      "01:34:26 - OI2: INFO - Members of the prize file not present in the interactome:\n",
      "01:34:26 - OI2: INFO - []\n"
     ]
    },
    {
     "name": "stdout",
     "output_type": "stream",
     "text": [
      "progress = 35.5%\n"
     ]
    },
    {
     "name": "stderr",
     "output_type": "stream",
     "text": [
      "01:34:28 - OI2: INFO - Duplicated gene symbols in the prize file (we'll keep the max prize):\n",
      "01:34:28 - OI2: INFO - []\n",
      "01:34:28 - OI2: INFO - Members of the prize file not present in the interactome:\n",
      "01:34:28 - OI2: INFO - []\n"
     ]
    },
    {
     "name": "stdout",
     "output_type": "stream",
     "text": [
      "progress = 35.6%\n"
     ]
    },
    {
     "name": "stderr",
     "output_type": "stream",
     "text": [
      "01:34:31 - OI2: INFO - Duplicated gene symbols in the prize file (we'll keep the max prize):\n",
      "01:34:31 - OI2: INFO - []\n",
      "01:34:31 - OI2: INFO - Members of the prize file not present in the interactome:\n",
      "01:34:31 - OI2: INFO - []\n"
     ]
    },
    {
     "name": "stdout",
     "output_type": "stream",
     "text": [
      "progress = 35.699999999999996%\n"
     ]
    },
    {
     "name": "stderr",
     "output_type": "stream",
     "text": [
      "01:34:34 - OI2: INFO - Duplicated gene symbols in the prize file (we'll keep the max prize):\n",
      "01:34:34 - OI2: INFO - []\n",
      "01:34:34 - OI2: INFO - Members of the prize file not present in the interactome:\n",
      "01:34:34 - OI2: INFO - []\n"
     ]
    },
    {
     "name": "stdout",
     "output_type": "stream",
     "text": [
      "progress = 35.8%\n"
     ]
    },
    {
     "name": "stderr",
     "output_type": "stream",
     "text": [
      "01:34:37 - OI2: INFO - Duplicated gene symbols in the prize file (we'll keep the max prize):\n",
      "01:34:37 - OI2: INFO - []\n",
      "01:34:37 - OI2: INFO - Members of the prize file not present in the interactome:\n",
      "01:34:37 - OI2: INFO - []\n"
     ]
    },
    {
     "name": "stdout",
     "output_type": "stream",
     "text": [
      "progress = 35.9%\n"
     ]
    },
    {
     "name": "stderr",
     "output_type": "stream",
     "text": [
      "01:34:39 - OI2: INFO - Duplicated gene symbols in the prize file (we'll keep the max prize):\n",
      "01:34:39 - OI2: INFO - []\n",
      "01:34:39 - OI2: INFO - Members of the prize file not present in the interactome:\n",
      "01:34:39 - OI2: INFO - []\n"
     ]
    },
    {
     "name": "stdout",
     "output_type": "stream",
     "text": [
      "progress = 36.0%\n"
     ]
    },
    {
     "name": "stderr",
     "output_type": "stream",
     "text": [
      "01:34:42 - OI2: INFO - Duplicated gene symbols in the prize file (we'll keep the max prize):\n",
      "01:34:42 - OI2: INFO - []\n",
      "01:34:42 - OI2: INFO - Members of the prize file not present in the interactome:\n",
      "01:34:42 - OI2: INFO - []\n"
     ]
    },
    {
     "name": "stdout",
     "output_type": "stream",
     "text": [
      "progress = 36.1%\n"
     ]
    },
    {
     "name": "stderr",
     "output_type": "stream",
     "text": [
      "01:34:44 - OI2: INFO - Duplicated gene symbols in the prize file (we'll keep the max prize):\n",
      "01:34:44 - OI2: INFO - []\n",
      "01:34:44 - OI2: INFO - Members of the prize file not present in the interactome:\n",
      "01:34:44 - OI2: INFO - []\n"
     ]
    },
    {
     "name": "stdout",
     "output_type": "stream",
     "text": [
      "progress = 36.199999999999996%\n"
     ]
    },
    {
     "name": "stderr",
     "output_type": "stream",
     "text": [
      "01:34:47 - OI2: INFO - Duplicated gene symbols in the prize file (we'll keep the max prize):\n",
      "01:34:47 - OI2: INFO - []\n",
      "01:34:47 - OI2: INFO - Members of the prize file not present in the interactome:\n",
      "01:34:47 - OI2: INFO - []\n"
     ]
    },
    {
     "name": "stdout",
     "output_type": "stream",
     "text": [
      "progress = 36.3%\n"
     ]
    },
    {
     "name": "stderr",
     "output_type": "stream",
     "text": [
      "01:34:50 - OI2: INFO - Duplicated gene symbols in the prize file (we'll keep the max prize):\n",
      "01:34:50 - OI2: INFO - []\n",
      "01:34:50 - OI2: INFO - Members of the prize file not present in the interactome:\n",
      "01:34:50 - OI2: INFO - []\n"
     ]
    },
    {
     "name": "stdout",
     "output_type": "stream",
     "text": [
      "progress = 36.4%\n"
     ]
    },
    {
     "name": "stderr",
     "output_type": "stream",
     "text": [
      "01:34:53 - OI2: INFO - Duplicated gene symbols in the prize file (we'll keep the max prize):\n",
      "01:34:53 - OI2: INFO - []\n",
      "01:34:53 - OI2: INFO - Members of the prize file not present in the interactome:\n",
      "01:34:53 - OI2: INFO - []\n"
     ]
    },
    {
     "name": "stdout",
     "output_type": "stream",
     "text": [
      "progress = 36.5%\n"
     ]
    },
    {
     "name": "stderr",
     "output_type": "stream",
     "text": [
      "01:34:55 - OI2: INFO - Duplicated gene symbols in the prize file (we'll keep the max prize):\n",
      "01:34:55 - OI2: INFO - []\n",
      "01:34:55 - OI2: INFO - Members of the prize file not present in the interactome:\n",
      "01:34:55 - OI2: INFO - []\n"
     ]
    },
    {
     "name": "stdout",
     "output_type": "stream",
     "text": [
      "progress = 36.6%\n"
     ]
    },
    {
     "name": "stderr",
     "output_type": "stream",
     "text": [
      "01:34:58 - OI2: INFO - Duplicated gene symbols in the prize file (we'll keep the max prize):\n",
      "01:34:58 - OI2: INFO - []\n",
      "01:34:58 - OI2: INFO - Members of the prize file not present in the interactome:\n",
      "01:34:58 - OI2: INFO - []\n"
     ]
    },
    {
     "name": "stdout",
     "output_type": "stream",
     "text": [
      "progress = 36.7%\n"
     ]
    },
    {
     "name": "stderr",
     "output_type": "stream",
     "text": [
      "01:35:01 - OI2: INFO - Duplicated gene symbols in the prize file (we'll keep the max prize):\n",
      "01:35:01 - OI2: INFO - []\n",
      "01:35:01 - OI2: INFO - Members of the prize file not present in the interactome:\n",
      "01:35:01 - OI2: INFO - []\n"
     ]
    },
    {
     "name": "stdout",
     "output_type": "stream",
     "text": [
      "progress = 36.8%\n"
     ]
    },
    {
     "name": "stderr",
     "output_type": "stream",
     "text": [
      "01:35:03 - OI2: INFO - Duplicated gene symbols in the prize file (we'll keep the max prize):\n",
      "01:35:03 - OI2: INFO - []\n",
      "01:35:03 - OI2: INFO - Members of the prize file not present in the interactome:\n",
      "01:35:03 - OI2: INFO - []\n"
     ]
    },
    {
     "name": "stdout",
     "output_type": "stream",
     "text": [
      "progress = 36.9%\n"
     ]
    },
    {
     "name": "stderr",
     "output_type": "stream",
     "text": [
      "01:35:06 - OI2: INFO - Duplicated gene symbols in the prize file (we'll keep the max prize):\n",
      "01:35:06 - OI2: INFO - []\n",
      "01:35:06 - OI2: INFO - Members of the prize file not present in the interactome:\n",
      "01:35:06 - OI2: INFO - []\n"
     ]
    },
    {
     "name": "stdout",
     "output_type": "stream",
     "text": [
      "progress = 37.0%\n"
     ]
    },
    {
     "name": "stderr",
     "output_type": "stream",
     "text": [
      "01:35:09 - OI2: INFO - Duplicated gene symbols in the prize file (we'll keep the max prize):\n",
      "01:35:09 - OI2: INFO - []\n",
      "01:35:09 - OI2: INFO - Members of the prize file not present in the interactome:\n",
      "01:35:09 - OI2: INFO - []\n"
     ]
    },
    {
     "name": "stdout",
     "output_type": "stream",
     "text": [
      "progress = 37.1%\n"
     ]
    },
    {
     "name": "stderr",
     "output_type": "stream",
     "text": [
      "01:35:12 - OI2: INFO - Duplicated gene symbols in the prize file (we'll keep the max prize):\n",
      "01:35:12 - OI2: INFO - []\n",
      "01:35:12 - OI2: INFO - Members of the prize file not present in the interactome:\n",
      "01:35:12 - OI2: INFO - []\n"
     ]
    },
    {
     "name": "stdout",
     "output_type": "stream",
     "text": [
      "progress = 37.2%\n"
     ]
    },
    {
     "name": "stderr",
     "output_type": "stream",
     "text": [
      "01:35:14 - OI2: INFO - Duplicated gene symbols in the prize file (we'll keep the max prize):\n",
      "01:35:14 - OI2: INFO - []\n",
      "01:35:14 - OI2: INFO - Members of the prize file not present in the interactome:\n",
      "01:35:14 - OI2: INFO - []\n"
     ]
    },
    {
     "name": "stdout",
     "output_type": "stream",
     "text": [
      "progress = 37.3%\n"
     ]
    },
    {
     "name": "stderr",
     "output_type": "stream",
     "text": [
      "01:35:17 - OI2: INFO - Duplicated gene symbols in the prize file (we'll keep the max prize):\n",
      "01:35:17 - OI2: INFO - []\n",
      "01:35:17 - OI2: INFO - Members of the prize file not present in the interactome:\n",
      "01:35:17 - OI2: INFO - []\n"
     ]
    },
    {
     "name": "stdout",
     "output_type": "stream",
     "text": [
      "progress = 37.4%\n"
     ]
    },
    {
     "name": "stderr",
     "output_type": "stream",
     "text": [
      "01:35:20 - OI2: INFO - Duplicated gene symbols in the prize file (we'll keep the max prize):\n",
      "01:35:20 - OI2: INFO - []\n",
      "01:35:20 - OI2: INFO - Members of the prize file not present in the interactome:\n",
      "01:35:20 - OI2: INFO - []\n"
     ]
    },
    {
     "name": "stdout",
     "output_type": "stream",
     "text": [
      "progress = 37.5%\n"
     ]
    },
    {
     "name": "stderr",
     "output_type": "stream",
     "text": [
      "01:35:22 - OI2: INFO - Duplicated gene symbols in the prize file (we'll keep the max prize):\n",
      "01:35:22 - OI2: INFO - []\n",
      "01:35:22 - OI2: INFO - Members of the prize file not present in the interactome:\n",
      "01:35:22 - OI2: INFO - []\n"
     ]
    },
    {
     "name": "stdout",
     "output_type": "stream",
     "text": [
      "progress = 37.6%\n"
     ]
    },
    {
     "name": "stderr",
     "output_type": "stream",
     "text": [
      "01:35:25 - OI2: INFO - Duplicated gene symbols in the prize file (we'll keep the max prize):\n",
      "01:35:25 - OI2: INFO - []\n",
      "01:35:25 - OI2: INFO - Members of the prize file not present in the interactome:\n",
      "01:35:25 - OI2: INFO - []\n"
     ]
    },
    {
     "name": "stdout",
     "output_type": "stream",
     "text": [
      "progress = 37.7%\n"
     ]
    },
    {
     "name": "stderr",
     "output_type": "stream",
     "text": [
      "01:35:28 - OI2: INFO - Duplicated gene symbols in the prize file (we'll keep the max prize):\n",
      "01:35:28 - OI2: INFO - []\n",
      "01:35:28 - OI2: INFO - Members of the prize file not present in the interactome:\n",
      "01:35:28 - OI2: INFO - []\n"
     ]
    },
    {
     "name": "stdout",
     "output_type": "stream",
     "text": [
      "progress = 37.8%\n"
     ]
    },
    {
     "name": "stderr",
     "output_type": "stream",
     "text": [
      "01:35:30 - OI2: INFO - Duplicated gene symbols in the prize file (we'll keep the max prize):\n",
      "01:35:30 - OI2: INFO - []\n",
      "01:35:30 - OI2: INFO - Members of the prize file not present in the interactome:\n",
      "01:35:30 - OI2: INFO - []\n"
     ]
    },
    {
     "name": "stdout",
     "output_type": "stream",
     "text": [
      "progress = 37.9%\n"
     ]
    },
    {
     "name": "stderr",
     "output_type": "stream",
     "text": [
      "01:35:33 - OI2: INFO - Duplicated gene symbols in the prize file (we'll keep the max prize):\n",
      "01:35:33 - OI2: INFO - []\n",
      "01:35:33 - OI2: INFO - Members of the prize file not present in the interactome:\n",
      "01:35:33 - OI2: INFO - []\n"
     ]
    },
    {
     "name": "stdout",
     "output_type": "stream",
     "text": [
      "progress = 38.0%\n"
     ]
    },
    {
     "name": "stderr",
     "output_type": "stream",
     "text": [
      "01:35:36 - OI2: INFO - Duplicated gene symbols in the prize file (we'll keep the max prize):\n",
      "01:35:36 - OI2: INFO - []\n",
      "01:35:36 - OI2: INFO - Members of the prize file not present in the interactome:\n",
      "01:35:36 - OI2: INFO - []\n"
     ]
    },
    {
     "name": "stdout",
     "output_type": "stream",
     "text": [
      "progress = 38.1%\n"
     ]
    },
    {
     "name": "stderr",
     "output_type": "stream",
     "text": [
      "01:35:38 - OI2: INFO - Duplicated gene symbols in the prize file (we'll keep the max prize):\n",
      "01:35:38 - OI2: INFO - []\n",
      "01:35:38 - OI2: INFO - Members of the prize file not present in the interactome:\n",
      "01:35:38 - OI2: INFO - []\n"
     ]
    },
    {
     "name": "stdout",
     "output_type": "stream",
     "text": [
      "progress = 38.2%\n"
     ]
    },
    {
     "name": "stderr",
     "output_type": "stream",
     "text": [
      "01:35:41 - OI2: INFO - Duplicated gene symbols in the prize file (we'll keep the max prize):\n",
      "01:35:41 - OI2: INFO - []\n",
      "01:35:41 - OI2: INFO - Members of the prize file not present in the interactome:\n",
      "01:35:41 - OI2: INFO - []\n"
     ]
    },
    {
     "name": "stdout",
     "output_type": "stream",
     "text": [
      "progress = 38.3%\n"
     ]
    },
    {
     "name": "stderr",
     "output_type": "stream",
     "text": [
      "01:35:44 - OI2: INFO - Duplicated gene symbols in the prize file (we'll keep the max prize):\n",
      "01:35:44 - OI2: INFO - []\n",
      "01:35:44 - OI2: INFO - Members of the prize file not present in the interactome:\n",
      "01:35:44 - OI2: INFO - []\n"
     ]
    },
    {
     "name": "stdout",
     "output_type": "stream",
     "text": [
      "progress = 38.4%\n"
     ]
    },
    {
     "name": "stderr",
     "output_type": "stream",
     "text": [
      "01:35:46 - OI2: INFO - Duplicated gene symbols in the prize file (we'll keep the max prize):\n",
      "01:35:46 - OI2: INFO - []\n",
      "01:35:46 - OI2: INFO - Members of the prize file not present in the interactome:\n",
      "01:35:46 - OI2: INFO - []\n"
     ]
    },
    {
     "name": "stdout",
     "output_type": "stream",
     "text": [
      "progress = 38.5%\n"
     ]
    },
    {
     "name": "stderr",
     "output_type": "stream",
     "text": [
      "01:35:49 - OI2: INFO - Duplicated gene symbols in the prize file (we'll keep the max prize):\n",
      "01:35:49 - OI2: INFO - []\n",
      "01:35:49 - OI2: INFO - Members of the prize file not present in the interactome:\n",
      "01:35:49 - OI2: INFO - []\n"
     ]
    },
    {
     "name": "stdout",
     "output_type": "stream",
     "text": [
      "progress = 38.6%\n"
     ]
    },
    {
     "name": "stderr",
     "output_type": "stream",
     "text": [
      "01:35:52 - OI2: INFO - Duplicated gene symbols in the prize file (we'll keep the max prize):\n",
      "01:35:52 - OI2: INFO - []\n",
      "01:35:52 - OI2: INFO - Members of the prize file not present in the interactome:\n",
      "01:35:52 - OI2: INFO - []\n"
     ]
    },
    {
     "name": "stdout",
     "output_type": "stream",
     "text": [
      "progress = 38.7%\n"
     ]
    },
    {
     "name": "stderr",
     "output_type": "stream",
     "text": [
      "01:35:54 - OI2: INFO - Duplicated gene symbols in the prize file (we'll keep the max prize):\n",
      "01:35:54 - OI2: INFO - []\n",
      "01:35:54 - OI2: INFO - Members of the prize file not present in the interactome:\n",
      "01:35:54 - OI2: INFO - []\n"
     ]
    },
    {
     "name": "stdout",
     "output_type": "stream",
     "text": [
      "progress = 38.800000000000004%\n"
     ]
    },
    {
     "name": "stderr",
     "output_type": "stream",
     "text": [
      "01:35:57 - OI2: INFO - Duplicated gene symbols in the prize file (we'll keep the max prize):\n",
      "01:35:57 - OI2: INFO - []\n",
      "01:35:57 - OI2: INFO - Members of the prize file not present in the interactome:\n",
      "01:35:57 - OI2: INFO - []\n"
     ]
    },
    {
     "name": "stdout",
     "output_type": "stream",
     "text": [
      "progress = 38.9%\n"
     ]
    },
    {
     "name": "stderr",
     "output_type": "stream",
     "text": [
      "01:36:00 - OI2: INFO - Duplicated gene symbols in the prize file (we'll keep the max prize):\n",
      "01:36:00 - OI2: INFO - []\n",
      "01:36:00 - OI2: INFO - Members of the prize file not present in the interactome:\n",
      "01:36:00 - OI2: INFO - []\n"
     ]
    },
    {
     "name": "stdout",
     "output_type": "stream",
     "text": [
      "progress = 39.0%\n"
     ]
    },
    {
     "name": "stderr",
     "output_type": "stream",
     "text": [
      "01:36:02 - OI2: INFO - Duplicated gene symbols in the prize file (we'll keep the max prize):\n",
      "01:36:02 - OI2: INFO - []\n",
      "01:36:02 - OI2: INFO - Members of the prize file not present in the interactome:\n",
      "01:36:02 - OI2: INFO - []\n"
     ]
    },
    {
     "name": "stdout",
     "output_type": "stream",
     "text": [
      "progress = 39.1%\n"
     ]
    },
    {
     "name": "stderr",
     "output_type": "stream",
     "text": [
      "01:36:05 - OI2: INFO - Duplicated gene symbols in the prize file (we'll keep the max prize):\n",
      "01:36:05 - OI2: INFO - []\n",
      "01:36:05 - OI2: INFO - Members of the prize file not present in the interactome:\n",
      "01:36:05 - OI2: INFO - []\n"
     ]
    },
    {
     "name": "stdout",
     "output_type": "stream",
     "text": [
      "progress = 39.2%\n"
     ]
    },
    {
     "name": "stderr",
     "output_type": "stream",
     "text": [
      "01:36:08 - OI2: INFO - Duplicated gene symbols in the prize file (we'll keep the max prize):\n",
      "01:36:08 - OI2: INFO - []\n",
      "01:36:08 - OI2: INFO - Members of the prize file not present in the interactome:\n",
      "01:36:08 - OI2: INFO - []\n"
     ]
    },
    {
     "name": "stdout",
     "output_type": "stream",
     "text": [
      "progress = 39.300000000000004%\n"
     ]
    },
    {
     "name": "stderr",
     "output_type": "stream",
     "text": [
      "01:36:10 - OI2: INFO - Duplicated gene symbols in the prize file (we'll keep the max prize):\n",
      "01:36:10 - OI2: INFO - []\n",
      "01:36:10 - OI2: INFO - Members of the prize file not present in the interactome:\n",
      "01:36:10 - OI2: INFO - []\n"
     ]
    },
    {
     "name": "stdout",
     "output_type": "stream",
     "text": [
      "progress = 39.4%\n"
     ]
    },
    {
     "name": "stderr",
     "output_type": "stream",
     "text": [
      "01:36:13 - OI2: INFO - Duplicated gene symbols in the prize file (we'll keep the max prize):\n",
      "01:36:13 - OI2: INFO - []\n",
      "01:36:13 - OI2: INFO - Members of the prize file not present in the interactome:\n",
      "01:36:13 - OI2: INFO - []\n"
     ]
    },
    {
     "name": "stdout",
     "output_type": "stream",
     "text": [
      "progress = 39.5%\n"
     ]
    },
    {
     "name": "stderr",
     "output_type": "stream",
     "text": [
      "01:36:16 - OI2: INFO - Duplicated gene symbols in the prize file (we'll keep the max prize):\n",
      "01:36:16 - OI2: INFO - []\n",
      "01:36:16 - OI2: INFO - Members of the prize file not present in the interactome:\n",
      "01:36:16 - OI2: INFO - []\n"
     ]
    },
    {
     "name": "stdout",
     "output_type": "stream",
     "text": [
      "progress = 39.6%\n"
     ]
    },
    {
     "name": "stderr",
     "output_type": "stream",
     "text": [
      "01:36:18 - OI2: INFO - Duplicated gene symbols in the prize file (we'll keep the max prize):\n",
      "01:36:18 - OI2: INFO - []\n",
      "01:36:18 - OI2: INFO - Members of the prize file not present in the interactome:\n",
      "01:36:18 - OI2: INFO - []\n"
     ]
    },
    {
     "name": "stdout",
     "output_type": "stream",
     "text": [
      "progress = 39.7%\n"
     ]
    },
    {
     "name": "stderr",
     "output_type": "stream",
     "text": [
      "01:36:21 - OI2: INFO - Duplicated gene symbols in the prize file (we'll keep the max prize):\n",
      "01:36:21 - OI2: INFO - []\n",
      "01:36:21 - OI2: INFO - Members of the prize file not present in the interactome:\n",
      "01:36:21 - OI2: INFO - []\n"
     ]
    },
    {
     "name": "stdout",
     "output_type": "stream",
     "text": [
      "progress = 39.800000000000004%\n"
     ]
    },
    {
     "name": "stderr",
     "output_type": "stream",
     "text": [
      "01:36:23 - OI2: INFO - Duplicated gene symbols in the prize file (we'll keep the max prize):\n",
      "01:36:23 - OI2: INFO - []\n",
      "01:36:24 - OI2: INFO - Members of the prize file not present in the interactome:\n",
      "01:36:24 - OI2: INFO - []\n"
     ]
    },
    {
     "name": "stdout",
     "output_type": "stream",
     "text": [
      "progress = 39.900000000000006%\n"
     ]
    },
    {
     "name": "stderr",
     "output_type": "stream",
     "text": [
      "01:36:26 - OI2: INFO - Duplicated gene symbols in the prize file (we'll keep the max prize):\n",
      "01:36:26 - OI2: INFO - []\n",
      "01:36:26 - OI2: INFO - Members of the prize file not present in the interactome:\n",
      "01:36:26 - OI2: INFO - []\n"
     ]
    },
    {
     "name": "stdout",
     "output_type": "stream",
     "text": [
      "progress = 40.0%\n"
     ]
    },
    {
     "name": "stderr",
     "output_type": "stream",
     "text": [
      "01:36:29 - OI2: INFO - Duplicated gene symbols in the prize file (we'll keep the max prize):\n",
      "01:36:29 - OI2: INFO - []\n",
      "01:36:29 - OI2: INFO - Members of the prize file not present in the interactome:\n",
      "01:36:29 - OI2: INFO - []\n"
     ]
    },
    {
     "name": "stdout",
     "output_type": "stream",
     "text": [
      "progress = 40.1%\n"
     ]
    },
    {
     "name": "stderr",
     "output_type": "stream",
     "text": [
      "01:36:31 - OI2: INFO - Duplicated gene symbols in the prize file (we'll keep the max prize):\n",
      "01:36:31 - OI2: INFO - []\n",
      "01:36:31 - OI2: INFO - Members of the prize file not present in the interactome:\n",
      "01:36:31 - OI2: INFO - []\n"
     ]
    },
    {
     "name": "stdout",
     "output_type": "stream",
     "text": [
      "progress = 40.2%\n"
     ]
    },
    {
     "name": "stderr",
     "output_type": "stream",
     "text": [
      "01:36:34 - OI2: INFO - Duplicated gene symbols in the prize file (we'll keep the max prize):\n",
      "01:36:34 - OI2: INFO - []\n",
      "01:36:34 - OI2: INFO - Members of the prize file not present in the interactome:\n",
      "01:36:34 - OI2: INFO - []\n"
     ]
    },
    {
     "name": "stdout",
     "output_type": "stream",
     "text": [
      "progress = 40.300000000000004%\n"
     ]
    },
    {
     "name": "stderr",
     "output_type": "stream",
     "text": [
      "01:36:37 - OI2: INFO - Duplicated gene symbols in the prize file (we'll keep the max prize):\n",
      "01:36:37 - OI2: INFO - []\n",
      "01:36:37 - OI2: INFO - Members of the prize file not present in the interactome:\n",
      "01:36:37 - OI2: INFO - []\n"
     ]
    },
    {
     "name": "stdout",
     "output_type": "stream",
     "text": [
      "progress = 40.400000000000006%\n"
     ]
    },
    {
     "name": "stderr",
     "output_type": "stream",
     "text": [
      "01:36:39 - OI2: INFO - Duplicated gene symbols in the prize file (we'll keep the max prize):\n",
      "01:36:39 - OI2: INFO - []\n",
      "01:36:39 - OI2: INFO - Members of the prize file not present in the interactome:\n",
      "01:36:39 - OI2: INFO - []\n"
     ]
    },
    {
     "name": "stdout",
     "output_type": "stream",
     "text": [
      "progress = 40.5%\n"
     ]
    },
    {
     "name": "stderr",
     "output_type": "stream",
     "text": [
      "01:36:42 - OI2: INFO - Duplicated gene symbols in the prize file (we'll keep the max prize):\n",
      "01:36:42 - OI2: INFO - []\n",
      "01:36:42 - OI2: INFO - Members of the prize file not present in the interactome:\n",
      "01:36:42 - OI2: INFO - []\n"
     ]
    },
    {
     "name": "stdout",
     "output_type": "stream",
     "text": [
      "progress = 40.6%\n"
     ]
    },
    {
     "name": "stderr",
     "output_type": "stream",
     "text": [
      "01:36:45 - OI2: INFO - Duplicated gene symbols in the prize file (we'll keep the max prize):\n",
      "01:36:45 - OI2: INFO - []\n",
      "01:36:45 - OI2: INFO - Members of the prize file not present in the interactome:\n",
      "01:36:45 - OI2: INFO - []\n"
     ]
    },
    {
     "name": "stdout",
     "output_type": "stream",
     "text": [
      "progress = 40.699999999999996%\n"
     ]
    },
    {
     "name": "stderr",
     "output_type": "stream",
     "text": [
      "01:36:47 - OI2: INFO - Duplicated gene symbols in the prize file (we'll keep the max prize):\n",
      "01:36:47 - OI2: INFO - []\n",
      "01:36:47 - OI2: INFO - Members of the prize file not present in the interactome:\n",
      "01:36:47 - OI2: INFO - []\n"
     ]
    },
    {
     "name": "stdout",
     "output_type": "stream",
     "text": [
      "progress = 40.8%\n"
     ]
    },
    {
     "name": "stderr",
     "output_type": "stream",
     "text": [
      "01:36:50 - OI2: INFO - Duplicated gene symbols in the prize file (we'll keep the max prize):\n",
      "01:36:50 - OI2: INFO - []\n",
      "01:36:50 - OI2: INFO - Members of the prize file not present in the interactome:\n",
      "01:36:50 - OI2: INFO - []\n"
     ]
    },
    {
     "name": "stdout",
     "output_type": "stream",
     "text": [
      "progress = 40.9%\n"
     ]
    },
    {
     "name": "stderr",
     "output_type": "stream",
     "text": [
      "01:36:53 - OI2: INFO - Duplicated gene symbols in the prize file (we'll keep the max prize):\n",
      "01:36:53 - OI2: INFO - []\n",
      "01:36:53 - OI2: INFO - Members of the prize file not present in the interactome:\n",
      "01:36:53 - OI2: INFO - []\n"
     ]
    },
    {
     "name": "stdout",
     "output_type": "stream",
     "text": [
      "progress = 41.0%\n"
     ]
    },
    {
     "name": "stderr",
     "output_type": "stream",
     "text": [
      "01:36:55 - OI2: INFO - Duplicated gene symbols in the prize file (we'll keep the max prize):\n",
      "01:36:55 - OI2: INFO - []\n",
      "01:36:55 - OI2: INFO - Members of the prize file not present in the interactome:\n",
      "01:36:55 - OI2: INFO - []\n"
     ]
    },
    {
     "name": "stdout",
     "output_type": "stream",
     "text": [
      "progress = 41.099999999999994%\n"
     ]
    },
    {
     "name": "stderr",
     "output_type": "stream",
     "text": [
      "01:36:58 - OI2: INFO - Duplicated gene symbols in the prize file (we'll keep the max prize):\n",
      "01:36:58 - OI2: INFO - []\n",
      "01:36:58 - OI2: INFO - Members of the prize file not present in the interactome:\n",
      "01:36:58 - OI2: INFO - []\n"
     ]
    },
    {
     "name": "stdout",
     "output_type": "stream",
     "text": [
      "progress = 41.199999999999996%\n"
     ]
    },
    {
     "name": "stderr",
     "output_type": "stream",
     "text": [
      "01:37:01 - OI2: INFO - Duplicated gene symbols in the prize file (we'll keep the max prize):\n",
      "01:37:01 - OI2: INFO - []\n",
      "01:37:01 - OI2: INFO - Members of the prize file not present in the interactome:\n",
      "01:37:01 - OI2: INFO - []\n"
     ]
    },
    {
     "name": "stdout",
     "output_type": "stream",
     "text": [
      "progress = 41.3%\n"
     ]
    },
    {
     "name": "stderr",
     "output_type": "stream",
     "text": [
      "01:37:03 - OI2: INFO - Duplicated gene symbols in the prize file (we'll keep the max prize):\n",
      "01:37:03 - OI2: INFO - []\n",
      "01:37:03 - OI2: INFO - Members of the prize file not present in the interactome:\n",
      "01:37:03 - OI2: INFO - []\n"
     ]
    },
    {
     "name": "stdout",
     "output_type": "stream",
     "text": [
      "progress = 41.4%\n"
     ]
    },
    {
     "name": "stderr",
     "output_type": "stream",
     "text": [
      "01:37:06 - OI2: INFO - Duplicated gene symbols in the prize file (we'll keep the max prize):\n",
      "01:37:06 - OI2: INFO - []\n",
      "01:37:06 - OI2: INFO - Members of the prize file not present in the interactome:\n",
      "01:37:06 - OI2: INFO - []\n"
     ]
    },
    {
     "name": "stdout",
     "output_type": "stream",
     "text": [
      "progress = 41.5%\n"
     ]
    },
    {
     "name": "stderr",
     "output_type": "stream",
     "text": [
      "01:37:09 - OI2: INFO - Duplicated gene symbols in the prize file (we'll keep the max prize):\n",
      "01:37:09 - OI2: INFO - []\n",
      "01:37:09 - OI2: INFO - Members of the prize file not present in the interactome:\n",
      "01:37:09 - OI2: INFO - []\n"
     ]
    },
    {
     "name": "stdout",
     "output_type": "stream",
     "text": [
      "progress = 41.6%\n"
     ]
    },
    {
     "name": "stderr",
     "output_type": "stream",
     "text": [
      "01:37:11 - OI2: INFO - Duplicated gene symbols in the prize file (we'll keep the max prize):\n",
      "01:37:11 - OI2: INFO - []\n",
      "01:37:11 - OI2: INFO - Members of the prize file not present in the interactome:\n",
      "01:37:11 - OI2: INFO - []\n"
     ]
    },
    {
     "name": "stdout",
     "output_type": "stream",
     "text": [
      "progress = 41.699999999999996%\n"
     ]
    },
    {
     "name": "stderr",
     "output_type": "stream",
     "text": [
      "01:37:14 - OI2: INFO - Duplicated gene symbols in the prize file (we'll keep the max prize):\n",
      "01:37:14 - OI2: INFO - []\n",
      "01:37:14 - OI2: INFO - Members of the prize file not present in the interactome:\n",
      "01:37:14 - OI2: INFO - []\n"
     ]
    },
    {
     "name": "stdout",
     "output_type": "stream",
     "text": [
      "progress = 41.8%\n"
     ]
    },
    {
     "name": "stderr",
     "output_type": "stream",
     "text": [
      "01:37:17 - OI2: INFO - Duplicated gene symbols in the prize file (we'll keep the max prize):\n",
      "01:37:17 - OI2: INFO - []\n",
      "01:37:17 - OI2: INFO - Members of the prize file not present in the interactome:\n",
      "01:37:17 - OI2: INFO - []\n"
     ]
    },
    {
     "name": "stdout",
     "output_type": "stream",
     "text": [
      "progress = 41.9%\n"
     ]
    },
    {
     "name": "stderr",
     "output_type": "stream",
     "text": [
      "01:37:19 - OI2: INFO - Duplicated gene symbols in the prize file (we'll keep the max prize):\n",
      "01:37:19 - OI2: INFO - []\n",
      "01:37:19 - OI2: INFO - Members of the prize file not present in the interactome:\n",
      "01:37:19 - OI2: INFO - []\n"
     ]
    },
    {
     "name": "stdout",
     "output_type": "stream",
     "text": [
      "progress = 42.0%\n"
     ]
    },
    {
     "name": "stderr",
     "output_type": "stream",
     "text": [
      "01:37:22 - OI2: INFO - Duplicated gene symbols in the prize file (we'll keep the max prize):\n",
      "01:37:22 - OI2: INFO - []\n",
      "01:37:22 - OI2: INFO - Members of the prize file not present in the interactome:\n",
      "01:37:22 - OI2: INFO - []\n"
     ]
    },
    {
     "name": "stdout",
     "output_type": "stream",
     "text": [
      "progress = 42.1%\n"
     ]
    },
    {
     "name": "stderr",
     "output_type": "stream",
     "text": [
      "01:37:25 - OI2: INFO - Duplicated gene symbols in the prize file (we'll keep the max prize):\n",
      "01:37:25 - OI2: INFO - []\n",
      "01:37:25 - OI2: INFO - Members of the prize file not present in the interactome:\n",
      "01:37:25 - OI2: INFO - []\n"
     ]
    },
    {
     "name": "stdout",
     "output_type": "stream",
     "text": [
      "progress = 42.199999999999996%\n"
     ]
    },
    {
     "name": "stderr",
     "output_type": "stream",
     "text": [
      "01:37:28 - OI2: INFO - Duplicated gene symbols in the prize file (we'll keep the max prize):\n",
      "01:37:28 - OI2: INFO - []\n",
      "01:37:28 - OI2: INFO - Members of the prize file not present in the interactome:\n",
      "01:37:28 - OI2: INFO - []\n"
     ]
    },
    {
     "name": "stdout",
     "output_type": "stream",
     "text": [
      "progress = 42.3%\n"
     ]
    },
    {
     "name": "stderr",
     "output_type": "stream",
     "text": [
      "01:37:30 - OI2: INFO - Duplicated gene symbols in the prize file (we'll keep the max prize):\n",
      "01:37:30 - OI2: INFO - []\n",
      "01:37:30 - OI2: INFO - Members of the prize file not present in the interactome:\n",
      "01:37:30 - OI2: INFO - []\n"
     ]
    },
    {
     "name": "stdout",
     "output_type": "stream",
     "text": [
      "progress = 42.4%\n"
     ]
    },
    {
     "name": "stderr",
     "output_type": "stream",
     "text": [
      "01:37:33 - OI2: INFO - Duplicated gene symbols in the prize file (we'll keep the max prize):\n",
      "01:37:33 - OI2: INFO - []\n",
      "01:37:33 - OI2: INFO - Members of the prize file not present in the interactome:\n",
      "01:37:33 - OI2: INFO - []\n"
     ]
    },
    {
     "name": "stdout",
     "output_type": "stream",
     "text": [
      "progress = 42.5%\n"
     ]
    },
    {
     "name": "stderr",
     "output_type": "stream",
     "text": [
      "01:37:35 - OI2: INFO - Duplicated gene symbols in the prize file (we'll keep the max prize):\n",
      "01:37:35 - OI2: INFO - []\n",
      "01:37:35 - OI2: INFO - Members of the prize file not present in the interactome:\n",
      "01:37:35 - OI2: INFO - []\n"
     ]
    },
    {
     "name": "stdout",
     "output_type": "stream",
     "text": [
      "progress = 42.6%\n"
     ]
    },
    {
     "name": "stderr",
     "output_type": "stream",
     "text": [
      "01:37:38 - OI2: INFO - Duplicated gene symbols in the prize file (we'll keep the max prize):\n",
      "01:37:38 - OI2: INFO - []\n",
      "01:37:38 - OI2: INFO - Members of the prize file not present in the interactome:\n",
      "01:37:38 - OI2: INFO - []\n"
     ]
    },
    {
     "name": "stdout",
     "output_type": "stream",
     "text": [
      "progress = 42.699999999999996%\n"
     ]
    },
    {
     "name": "stderr",
     "output_type": "stream",
     "text": [
      "01:37:41 - OI2: INFO - Duplicated gene symbols in the prize file (we'll keep the max prize):\n",
      "01:37:41 - OI2: INFO - []\n",
      "01:37:41 - OI2: INFO - Members of the prize file not present in the interactome:\n",
      "01:37:41 - OI2: INFO - []\n"
     ]
    },
    {
     "name": "stdout",
     "output_type": "stream",
     "text": [
      "progress = 42.8%\n"
     ]
    },
    {
     "name": "stderr",
     "output_type": "stream",
     "text": [
      "01:37:43 - OI2: INFO - Duplicated gene symbols in the prize file (we'll keep the max prize):\n",
      "01:37:43 - OI2: INFO - []\n",
      "01:37:43 - OI2: INFO - Members of the prize file not present in the interactome:\n",
      "01:37:43 - OI2: INFO - []\n"
     ]
    },
    {
     "name": "stdout",
     "output_type": "stream",
     "text": [
      "progress = 42.9%\n"
     ]
    },
    {
     "name": "stderr",
     "output_type": "stream",
     "text": [
      "01:37:46 - OI2: INFO - Duplicated gene symbols in the prize file (we'll keep the max prize):\n",
      "01:37:46 - OI2: INFO - []\n",
      "01:37:46 - OI2: INFO - Members of the prize file not present in the interactome:\n",
      "01:37:46 - OI2: INFO - []\n"
     ]
    },
    {
     "name": "stdout",
     "output_type": "stream",
     "text": [
      "progress = 43.0%\n"
     ]
    },
    {
     "name": "stderr",
     "output_type": "stream",
     "text": [
      "01:37:49 - OI2: INFO - Duplicated gene symbols in the prize file (we'll keep the max prize):\n",
      "01:37:49 - OI2: INFO - []\n",
      "01:37:49 - OI2: INFO - Members of the prize file not present in the interactome:\n",
      "01:37:49 - OI2: INFO - []\n"
     ]
    },
    {
     "name": "stdout",
     "output_type": "stream",
     "text": [
      "progress = 43.1%\n"
     ]
    },
    {
     "name": "stderr",
     "output_type": "stream",
     "text": [
      "01:37:51 - OI2: INFO - Duplicated gene symbols in the prize file (we'll keep the max prize):\n",
      "01:37:51 - OI2: INFO - []\n",
      "01:37:51 - OI2: INFO - Members of the prize file not present in the interactome:\n",
      "01:37:51 - OI2: INFO - []\n"
     ]
    },
    {
     "name": "stdout",
     "output_type": "stream",
     "text": [
      "progress = 43.2%\n"
     ]
    },
    {
     "name": "stderr",
     "output_type": "stream",
     "text": [
      "01:37:54 - OI2: INFO - Duplicated gene symbols in the prize file (we'll keep the max prize):\n",
      "01:37:54 - OI2: INFO - []\n",
      "01:37:54 - OI2: INFO - Members of the prize file not present in the interactome:\n",
      "01:37:54 - OI2: INFO - []\n"
     ]
    },
    {
     "name": "stdout",
     "output_type": "stream",
     "text": [
      "progress = 43.3%\n"
     ]
    },
    {
     "name": "stderr",
     "output_type": "stream",
     "text": [
      "01:37:57 - OI2: INFO - Duplicated gene symbols in the prize file (we'll keep the max prize):\n",
      "01:37:57 - OI2: INFO - []\n",
      "01:37:57 - OI2: INFO - Members of the prize file not present in the interactome:\n",
      "01:37:57 - OI2: INFO - []\n"
     ]
    },
    {
     "name": "stdout",
     "output_type": "stream",
     "text": [
      "progress = 43.4%\n"
     ]
    },
    {
     "name": "stderr",
     "output_type": "stream",
     "text": [
      "01:37:59 - OI2: INFO - Duplicated gene symbols in the prize file (we'll keep the max prize):\n",
      "01:37:59 - OI2: INFO - []\n",
      "01:37:59 - OI2: INFO - Members of the prize file not present in the interactome:\n",
      "01:37:59 - OI2: INFO - []\n"
     ]
    },
    {
     "name": "stdout",
     "output_type": "stream",
     "text": [
      "progress = 43.5%\n"
     ]
    },
    {
     "name": "stderr",
     "output_type": "stream",
     "text": [
      "01:38:02 - OI2: INFO - Duplicated gene symbols in the prize file (we'll keep the max prize):\n",
      "01:38:02 - OI2: INFO - []\n",
      "01:38:02 - OI2: INFO - Members of the prize file not present in the interactome:\n",
      "01:38:02 - OI2: INFO - []\n"
     ]
    },
    {
     "name": "stdout",
     "output_type": "stream",
     "text": [
      "progress = 43.6%\n"
     ]
    },
    {
     "name": "stderr",
     "output_type": "stream",
     "text": [
      "01:38:05 - OI2: INFO - Duplicated gene symbols in the prize file (we'll keep the max prize):\n",
      "01:38:05 - OI2: INFO - []\n",
      "01:38:05 - OI2: INFO - Members of the prize file not present in the interactome:\n",
      "01:38:05 - OI2: INFO - []\n"
     ]
    },
    {
     "name": "stdout",
     "output_type": "stream",
     "text": [
      "progress = 43.7%\n"
     ]
    },
    {
     "name": "stderr",
     "output_type": "stream",
     "text": [
      "01:38:07 - OI2: INFO - Duplicated gene symbols in the prize file (we'll keep the max prize):\n",
      "01:38:07 - OI2: INFO - []\n",
      "01:38:07 - OI2: INFO - Members of the prize file not present in the interactome:\n",
      "01:38:07 - OI2: INFO - []\n"
     ]
    },
    {
     "name": "stdout",
     "output_type": "stream",
     "text": [
      "progress = 43.8%\n"
     ]
    },
    {
     "name": "stderr",
     "output_type": "stream",
     "text": [
      "01:38:10 - OI2: INFO - Duplicated gene symbols in the prize file (we'll keep the max prize):\n",
      "01:38:10 - OI2: INFO - []\n",
      "01:38:10 - OI2: INFO - Members of the prize file not present in the interactome:\n",
      "01:38:10 - OI2: INFO - []\n"
     ]
    },
    {
     "name": "stdout",
     "output_type": "stream",
     "text": [
      "progress = 43.9%\n"
     ]
    },
    {
     "name": "stderr",
     "output_type": "stream",
     "text": [
      "01:38:13 - OI2: INFO - Duplicated gene symbols in the prize file (we'll keep the max prize):\n",
      "01:38:13 - OI2: INFO - []\n",
      "01:38:13 - OI2: INFO - Members of the prize file not present in the interactome:\n",
      "01:38:13 - OI2: INFO - []\n"
     ]
    },
    {
     "name": "stdout",
     "output_type": "stream",
     "text": [
      "progress = 44.0%\n"
     ]
    },
    {
     "name": "stderr",
     "output_type": "stream",
     "text": [
      "01:38:16 - OI2: INFO - Duplicated gene symbols in the prize file (we'll keep the max prize):\n",
      "01:38:16 - OI2: INFO - []\n",
      "01:38:16 - OI2: INFO - Members of the prize file not present in the interactome:\n",
      "01:38:16 - OI2: INFO - []\n"
     ]
    },
    {
     "name": "stdout",
     "output_type": "stream",
     "text": [
      "progress = 44.1%\n"
     ]
    },
    {
     "name": "stderr",
     "output_type": "stream",
     "text": [
      "01:38:18 - OI2: INFO - Duplicated gene symbols in the prize file (we'll keep the max prize):\n",
      "01:38:18 - OI2: INFO - []\n",
      "01:38:18 - OI2: INFO - Members of the prize file not present in the interactome:\n",
      "01:38:18 - OI2: INFO - []\n"
     ]
    },
    {
     "name": "stdout",
     "output_type": "stream",
     "text": [
      "progress = 44.2%\n"
     ]
    },
    {
     "name": "stderr",
     "output_type": "stream",
     "text": [
      "01:38:21 - OI2: INFO - Duplicated gene symbols in the prize file (we'll keep the max prize):\n",
      "01:38:21 - OI2: INFO - []\n",
      "01:38:21 - OI2: INFO - Members of the prize file not present in the interactome:\n",
      "01:38:21 - OI2: INFO - []\n"
     ]
    },
    {
     "name": "stdout",
     "output_type": "stream",
     "text": [
      "progress = 44.3%\n"
     ]
    },
    {
     "name": "stderr",
     "output_type": "stream",
     "text": [
      "01:38:23 - OI2: INFO - Duplicated gene symbols in the prize file (we'll keep the max prize):\n",
      "01:38:23 - OI2: INFO - []\n",
      "01:38:23 - OI2: INFO - Members of the prize file not present in the interactome:\n",
      "01:38:23 - OI2: INFO - []\n"
     ]
    },
    {
     "name": "stdout",
     "output_type": "stream",
     "text": [
      "progress = 44.4%\n"
     ]
    },
    {
     "name": "stderr",
     "output_type": "stream",
     "text": [
      "01:38:26 - OI2: INFO - Duplicated gene symbols in the prize file (we'll keep the max prize):\n",
      "01:38:26 - OI2: INFO - []\n",
      "01:38:26 - OI2: INFO - Members of the prize file not present in the interactome:\n",
      "01:38:26 - OI2: INFO - []\n"
     ]
    },
    {
     "name": "stdout",
     "output_type": "stream",
     "text": [
      "progress = 44.5%\n"
     ]
    },
    {
     "name": "stderr",
     "output_type": "stream",
     "text": [
      "01:38:29 - OI2: INFO - Duplicated gene symbols in the prize file (we'll keep the max prize):\n",
      "01:38:29 - OI2: INFO - []\n",
      "01:38:29 - OI2: INFO - Members of the prize file not present in the interactome:\n",
      "01:38:29 - OI2: INFO - []\n"
     ]
    },
    {
     "name": "stdout",
     "output_type": "stream",
     "text": [
      "progress = 44.6%\n"
     ]
    },
    {
     "name": "stderr",
     "output_type": "stream",
     "text": [
      "01:38:31 - OI2: INFO - Duplicated gene symbols in the prize file (we'll keep the max prize):\n",
      "01:38:31 - OI2: INFO - []\n",
      "01:38:31 - OI2: INFO - Members of the prize file not present in the interactome:\n",
      "01:38:31 - OI2: INFO - []\n"
     ]
    },
    {
     "name": "stdout",
     "output_type": "stream",
     "text": [
      "progress = 44.7%\n"
     ]
    },
    {
     "name": "stderr",
     "output_type": "stream",
     "text": [
      "01:38:34 - OI2: INFO - Duplicated gene symbols in the prize file (we'll keep the max prize):\n",
      "01:38:34 - OI2: INFO - []\n",
      "01:38:34 - OI2: INFO - Members of the prize file not present in the interactome:\n",
      "01:38:34 - OI2: INFO - []\n"
     ]
    },
    {
     "name": "stdout",
     "output_type": "stream",
     "text": [
      "progress = 44.800000000000004%\n"
     ]
    },
    {
     "name": "stderr",
     "output_type": "stream",
     "text": [
      "01:38:37 - OI2: INFO - Duplicated gene symbols in the prize file (we'll keep the max prize):\n",
      "01:38:37 - OI2: INFO - []\n",
      "01:38:37 - OI2: INFO - Members of the prize file not present in the interactome:\n",
      "01:38:37 - OI2: INFO - []\n"
     ]
    },
    {
     "name": "stdout",
     "output_type": "stream",
     "text": [
      "progress = 44.9%\n"
     ]
    },
    {
     "name": "stderr",
     "output_type": "stream",
     "text": [
      "01:38:39 - OI2: INFO - Duplicated gene symbols in the prize file (we'll keep the max prize):\n",
      "01:38:39 - OI2: INFO - []\n",
      "01:38:39 - OI2: INFO - Members of the prize file not present in the interactome:\n",
      "01:38:39 - OI2: INFO - []\n"
     ]
    },
    {
     "name": "stdout",
     "output_type": "stream",
     "text": [
      "progress = 45.0%\n"
     ]
    },
    {
     "name": "stderr",
     "output_type": "stream",
     "text": [
      "01:38:42 - OI2: INFO - Duplicated gene symbols in the prize file (we'll keep the max prize):\n",
      "01:38:42 - OI2: INFO - []\n",
      "01:38:42 - OI2: INFO - Members of the prize file not present in the interactome:\n",
      "01:38:42 - OI2: INFO - []\n"
     ]
    },
    {
     "name": "stdout",
     "output_type": "stream",
     "text": [
      "progress = 45.1%\n"
     ]
    },
    {
     "name": "stderr",
     "output_type": "stream",
     "text": [
      "01:38:45 - OI2: INFO - Duplicated gene symbols in the prize file (we'll keep the max prize):\n",
      "01:38:45 - OI2: INFO - []\n",
      "01:38:45 - OI2: INFO - Members of the prize file not present in the interactome:\n",
      "01:38:45 - OI2: INFO - []\n"
     ]
    },
    {
     "name": "stdout",
     "output_type": "stream",
     "text": [
      "progress = 45.2%\n"
     ]
    },
    {
     "name": "stderr",
     "output_type": "stream",
     "text": [
      "01:38:47 - OI2: INFO - Duplicated gene symbols in the prize file (we'll keep the max prize):\n",
      "01:38:47 - OI2: INFO - []\n",
      "01:38:47 - OI2: INFO - Members of the prize file not present in the interactome:\n",
      "01:38:47 - OI2: INFO - []\n"
     ]
    },
    {
     "name": "stdout",
     "output_type": "stream",
     "text": [
      "progress = 45.300000000000004%\n"
     ]
    },
    {
     "name": "stderr",
     "output_type": "stream",
     "text": [
      "01:38:50 - OI2: INFO - Duplicated gene symbols in the prize file (we'll keep the max prize):\n",
      "01:38:50 - OI2: INFO - []\n",
      "01:38:50 - OI2: INFO - Members of the prize file not present in the interactome:\n",
      "01:38:50 - OI2: INFO - []\n"
     ]
    },
    {
     "name": "stdout",
     "output_type": "stream",
     "text": [
      "progress = 45.4%\n"
     ]
    },
    {
     "name": "stderr",
     "output_type": "stream",
     "text": [
      "01:38:53 - OI2: INFO - Duplicated gene symbols in the prize file (we'll keep the max prize):\n",
      "01:38:53 - OI2: INFO - []\n",
      "01:38:53 - OI2: INFO - Members of the prize file not present in the interactome:\n",
      "01:38:53 - OI2: INFO - []\n"
     ]
    },
    {
     "name": "stdout",
     "output_type": "stream",
     "text": [
      "progress = 45.5%\n"
     ]
    },
    {
     "name": "stderr",
     "output_type": "stream",
     "text": [
      "01:38:55 - OI2: INFO - Duplicated gene symbols in the prize file (we'll keep the max prize):\n",
      "01:38:55 - OI2: INFO - []\n",
      "01:38:55 - OI2: INFO - Members of the prize file not present in the interactome:\n",
      "01:38:55 - OI2: INFO - []\n"
     ]
    },
    {
     "name": "stdout",
     "output_type": "stream",
     "text": [
      "progress = 45.6%\n"
     ]
    },
    {
     "name": "stderr",
     "output_type": "stream",
     "text": [
      "01:38:58 - OI2: INFO - Duplicated gene symbols in the prize file (we'll keep the max prize):\n",
      "01:38:58 - OI2: INFO - []\n",
      "01:38:58 - OI2: INFO - Members of the prize file not present in the interactome:\n",
      "01:38:58 - OI2: INFO - []\n"
     ]
    },
    {
     "name": "stdout",
     "output_type": "stream",
     "text": [
      "progress = 45.7%\n"
     ]
    },
    {
     "name": "stderr",
     "output_type": "stream",
     "text": [
      "01:39:00 - OI2: INFO - Duplicated gene symbols in the prize file (we'll keep the max prize):\n",
      "01:39:00 - OI2: INFO - []\n",
      "01:39:00 - OI2: INFO - Members of the prize file not present in the interactome:\n",
      "01:39:00 - OI2: INFO - []\n"
     ]
    },
    {
     "name": "stdout",
     "output_type": "stream",
     "text": [
      "progress = 45.800000000000004%\n"
     ]
    },
    {
     "name": "stderr",
     "output_type": "stream",
     "text": [
      "01:39:03 - OI2: INFO - Duplicated gene symbols in the prize file (we'll keep the max prize):\n",
      "01:39:03 - OI2: INFO - []\n",
      "01:39:03 - OI2: INFO - Members of the prize file not present in the interactome:\n",
      "01:39:03 - OI2: INFO - []\n"
     ]
    },
    {
     "name": "stdout",
     "output_type": "stream",
     "text": [
      "progress = 45.9%\n"
     ]
    },
    {
     "name": "stderr",
     "output_type": "stream",
     "text": [
      "01:39:06 - OI2: INFO - Duplicated gene symbols in the prize file (we'll keep the max prize):\n",
      "01:39:06 - OI2: INFO - []\n",
      "01:39:06 - OI2: INFO - Members of the prize file not present in the interactome:\n",
      "01:39:06 - OI2: INFO - []\n"
     ]
    },
    {
     "name": "stdout",
     "output_type": "stream",
     "text": [
      "progress = 46.0%\n"
     ]
    },
    {
     "name": "stderr",
     "output_type": "stream",
     "text": [
      "01:39:08 - OI2: INFO - Duplicated gene symbols in the prize file (we'll keep the max prize):\n",
      "01:39:08 - OI2: INFO - []\n",
      "01:39:08 - OI2: INFO - Members of the prize file not present in the interactome:\n",
      "01:39:08 - OI2: INFO - []\n"
     ]
    },
    {
     "name": "stdout",
     "output_type": "stream",
     "text": [
      "progress = 46.1%\n"
     ]
    },
    {
     "name": "stderr",
     "output_type": "stream",
     "text": [
      "01:39:11 - OI2: INFO - Duplicated gene symbols in the prize file (we'll keep the max prize):\n",
      "01:39:11 - OI2: INFO - []\n",
      "01:39:11 - OI2: INFO - Members of the prize file not present in the interactome:\n",
      "01:39:11 - OI2: INFO - []\n"
     ]
    },
    {
     "name": "stdout",
     "output_type": "stream",
     "text": [
      "progress = 46.2%\n"
     ]
    },
    {
     "name": "stderr",
     "output_type": "stream",
     "text": [
      "01:39:14 - OI2: INFO - Duplicated gene symbols in the prize file (we'll keep the max prize):\n",
      "01:39:14 - OI2: INFO - []\n",
      "01:39:14 - OI2: INFO - Members of the prize file not present in the interactome:\n",
      "01:39:14 - OI2: INFO - []\n"
     ]
    },
    {
     "name": "stdout",
     "output_type": "stream",
     "text": [
      "progress = 46.300000000000004%\n"
     ]
    },
    {
     "name": "stderr",
     "output_type": "stream",
     "text": [
      "01:39:16 - OI2: INFO - Duplicated gene symbols in the prize file (we'll keep the max prize):\n",
      "01:39:16 - OI2: INFO - []\n",
      "01:39:16 - OI2: INFO - Members of the prize file not present in the interactome:\n",
      "01:39:16 - OI2: INFO - []\n"
     ]
    },
    {
     "name": "stdout",
     "output_type": "stream",
     "text": [
      "progress = 46.400000000000006%\n"
     ]
    },
    {
     "name": "stderr",
     "output_type": "stream",
     "text": [
      "01:39:19 - OI2: INFO - Duplicated gene symbols in the prize file (we'll keep the max prize):\n",
      "01:39:19 - OI2: INFO - []\n",
      "01:39:19 - OI2: INFO - Members of the prize file not present in the interactome:\n",
      "01:39:19 - OI2: INFO - []\n"
     ]
    },
    {
     "name": "stdout",
     "output_type": "stream",
     "text": [
      "progress = 46.5%\n"
     ]
    },
    {
     "name": "stderr",
     "output_type": "stream",
     "text": [
      "01:39:22 - OI2: INFO - Duplicated gene symbols in the prize file (we'll keep the max prize):\n",
      "01:39:22 - OI2: INFO - []\n",
      "01:39:22 - OI2: INFO - Members of the prize file not present in the interactome:\n",
      "01:39:22 - OI2: INFO - []\n"
     ]
    },
    {
     "name": "stdout",
     "output_type": "stream",
     "text": [
      "progress = 46.6%\n"
     ]
    },
    {
     "name": "stderr",
     "output_type": "stream",
     "text": [
      "01:39:24 - OI2: INFO - Duplicated gene symbols in the prize file (we'll keep the max prize):\n",
      "01:39:24 - OI2: INFO - []\n",
      "01:39:24 - OI2: INFO - Members of the prize file not present in the interactome:\n",
      "01:39:24 - OI2: INFO - []\n"
     ]
    },
    {
     "name": "stdout",
     "output_type": "stream",
     "text": [
      "progress = 46.7%\n"
     ]
    },
    {
     "name": "stderr",
     "output_type": "stream",
     "text": [
      "01:39:27 - OI2: INFO - Duplicated gene symbols in the prize file (we'll keep the max prize):\n",
      "01:39:27 - OI2: INFO - []\n",
      "01:39:27 - OI2: INFO - Members of the prize file not present in the interactome:\n",
      "01:39:27 - OI2: INFO - []\n"
     ]
    },
    {
     "name": "stdout",
     "output_type": "stream",
     "text": [
      "progress = 46.800000000000004%\n"
     ]
    },
    {
     "name": "stderr",
     "output_type": "stream",
     "text": [
      "01:39:30 - OI2: INFO - Duplicated gene symbols in the prize file (we'll keep the max prize):\n",
      "01:39:30 - OI2: INFO - []\n",
      "01:39:30 - OI2: INFO - Members of the prize file not present in the interactome:\n",
      "01:39:30 - OI2: INFO - []\n"
     ]
    },
    {
     "name": "stdout",
     "output_type": "stream",
     "text": [
      "progress = 46.9%\n"
     ]
    },
    {
     "name": "stderr",
     "output_type": "stream",
     "text": [
      "01:39:32 - OI2: INFO - Duplicated gene symbols in the prize file (we'll keep the max prize):\n",
      "01:39:32 - OI2: INFO - []\n",
      "01:39:32 - OI2: INFO - Members of the prize file not present in the interactome:\n",
      "01:39:32 - OI2: INFO - []\n"
     ]
    },
    {
     "name": "stdout",
     "output_type": "stream",
     "text": [
      "progress = 47.0%\n"
     ]
    },
    {
     "name": "stderr",
     "output_type": "stream",
     "text": [
      "01:39:35 - OI2: INFO - Duplicated gene symbols in the prize file (we'll keep the max prize):\n",
      "01:39:35 - OI2: INFO - []\n",
      "01:39:35 - OI2: INFO - Members of the prize file not present in the interactome:\n",
      "01:39:35 - OI2: INFO - []\n"
     ]
    },
    {
     "name": "stdout",
     "output_type": "stream",
     "text": [
      "progress = 47.099999999999994%\n"
     ]
    },
    {
     "name": "stderr",
     "output_type": "stream",
     "text": [
      "01:39:38 - OI2: INFO - Duplicated gene symbols in the prize file (we'll keep the max prize):\n",
      "01:39:38 - OI2: INFO - []\n",
      "01:39:38 - OI2: INFO - Members of the prize file not present in the interactome:\n",
      "01:39:38 - OI2: INFO - []\n"
     ]
    },
    {
     "name": "stdout",
     "output_type": "stream",
     "text": [
      "progress = 47.199999999999996%\n"
     ]
    },
    {
     "name": "stderr",
     "output_type": "stream",
     "text": [
      "01:39:40 - OI2: INFO - Duplicated gene symbols in the prize file (we'll keep the max prize):\n",
      "01:39:40 - OI2: INFO - []\n",
      "01:39:40 - OI2: INFO - Members of the prize file not present in the interactome:\n",
      "01:39:40 - OI2: INFO - []\n"
     ]
    },
    {
     "name": "stdout",
     "output_type": "stream",
     "text": [
      "progress = 47.3%\n"
     ]
    },
    {
     "name": "stderr",
     "output_type": "stream",
     "text": [
      "01:39:43 - OI2: INFO - Duplicated gene symbols in the prize file (we'll keep the max prize):\n",
      "01:39:43 - OI2: INFO - []\n",
      "01:39:43 - OI2: INFO - Members of the prize file not present in the interactome:\n",
      "01:39:43 - OI2: INFO - []\n"
     ]
    },
    {
     "name": "stdout",
     "output_type": "stream",
     "text": [
      "progress = 47.4%\n"
     ]
    },
    {
     "name": "stderr",
     "output_type": "stream",
     "text": [
      "01:39:46 - OI2: INFO - Duplicated gene symbols in the prize file (we'll keep the max prize):\n",
      "01:39:46 - OI2: INFO - []\n",
      "01:39:46 - OI2: INFO - Members of the prize file not present in the interactome:\n",
      "01:39:46 - OI2: INFO - []\n"
     ]
    },
    {
     "name": "stdout",
     "output_type": "stream",
     "text": [
      "progress = 47.5%\n"
     ]
    },
    {
     "name": "stderr",
     "output_type": "stream",
     "text": [
      "01:39:49 - OI2: INFO - Duplicated gene symbols in the prize file (we'll keep the max prize):\n",
      "01:39:49 - OI2: INFO - []\n",
      "01:39:49 - OI2: INFO - Members of the prize file not present in the interactome:\n",
      "01:39:49 - OI2: INFO - []\n"
     ]
    },
    {
     "name": "stdout",
     "output_type": "stream",
     "text": [
      "progress = 47.599999999999994%\n"
     ]
    },
    {
     "name": "stderr",
     "output_type": "stream",
     "text": [
      "01:39:51 - OI2: INFO - Duplicated gene symbols in the prize file (we'll keep the max prize):\n",
      "01:39:51 - OI2: INFO - []\n",
      "01:39:51 - OI2: INFO - Members of the prize file not present in the interactome:\n",
      "01:39:51 - OI2: INFO - []\n"
     ]
    },
    {
     "name": "stdout",
     "output_type": "stream",
     "text": [
      "progress = 47.699999999999996%\n"
     ]
    },
    {
     "name": "stderr",
     "output_type": "stream",
     "text": [
      "01:39:54 - OI2: INFO - Duplicated gene symbols in the prize file (we'll keep the max prize):\n",
      "01:39:54 - OI2: INFO - []\n",
      "01:39:54 - OI2: INFO - Members of the prize file not present in the interactome:\n",
      "01:39:54 - OI2: INFO - []\n"
     ]
    },
    {
     "name": "stdout",
     "output_type": "stream",
     "text": [
      "progress = 47.8%\n"
     ]
    },
    {
     "name": "stderr",
     "output_type": "stream",
     "text": [
      "01:39:56 - OI2: INFO - Duplicated gene symbols in the prize file (we'll keep the max prize):\n",
      "01:39:56 - OI2: INFO - []\n",
      "01:39:56 - OI2: INFO - Members of the prize file not present in the interactome:\n",
      "01:39:56 - OI2: INFO - []\n"
     ]
    },
    {
     "name": "stdout",
     "output_type": "stream",
     "text": [
      "progress = 47.9%\n"
     ]
    },
    {
     "name": "stderr",
     "output_type": "stream",
     "text": [
      "01:39:59 - OI2: INFO - Duplicated gene symbols in the prize file (we'll keep the max prize):\n",
      "01:39:59 - OI2: INFO - []\n",
      "01:39:59 - OI2: INFO - Members of the prize file not present in the interactome:\n",
      "01:39:59 - OI2: INFO - []\n"
     ]
    },
    {
     "name": "stdout",
     "output_type": "stream",
     "text": [
      "progress = 48.0%\n"
     ]
    },
    {
     "name": "stderr",
     "output_type": "stream",
     "text": [
      "01:40:02 - OI2: INFO - Duplicated gene symbols in the prize file (we'll keep the max prize):\n",
      "01:40:02 - OI2: INFO - []\n",
      "01:40:02 - OI2: INFO - Members of the prize file not present in the interactome:\n",
      "01:40:02 - OI2: INFO - []\n"
     ]
    },
    {
     "name": "stdout",
     "output_type": "stream",
     "text": [
      "progress = 48.1%\n"
     ]
    },
    {
     "name": "stderr",
     "output_type": "stream",
     "text": [
      "01:40:05 - OI2: INFO - Duplicated gene symbols in the prize file (we'll keep the max prize):\n",
      "01:40:05 - OI2: INFO - []\n",
      "01:40:05 - OI2: INFO - Members of the prize file not present in the interactome:\n",
      "01:40:05 - OI2: INFO - []\n"
     ]
    },
    {
     "name": "stdout",
     "output_type": "stream",
     "text": [
      "progress = 48.199999999999996%\n"
     ]
    },
    {
     "name": "stderr",
     "output_type": "stream",
     "text": [
      "01:40:07 - OI2: INFO - Duplicated gene symbols in the prize file (we'll keep the max prize):\n",
      "01:40:07 - OI2: INFO - []\n",
      "01:40:07 - OI2: INFO - Members of the prize file not present in the interactome:\n",
      "01:40:07 - OI2: INFO - []\n"
     ]
    },
    {
     "name": "stdout",
     "output_type": "stream",
     "text": [
      "progress = 48.3%\n"
     ]
    },
    {
     "name": "stderr",
     "output_type": "stream",
     "text": [
      "01:40:10 - OI2: INFO - Duplicated gene symbols in the prize file (we'll keep the max prize):\n",
      "01:40:10 - OI2: INFO - []\n",
      "01:40:10 - OI2: INFO - Members of the prize file not present in the interactome:\n",
      "01:40:10 - OI2: INFO - []\n"
     ]
    },
    {
     "name": "stdout",
     "output_type": "stream",
     "text": [
      "progress = 48.4%\n"
     ]
    },
    {
     "name": "stderr",
     "output_type": "stream",
     "text": [
      "01:40:13 - OI2: INFO - Duplicated gene symbols in the prize file (we'll keep the max prize):\n",
      "01:40:13 - OI2: INFO - []\n",
      "01:40:13 - OI2: INFO - Members of the prize file not present in the interactome:\n",
      "01:40:13 - OI2: INFO - []\n"
     ]
    },
    {
     "name": "stdout",
     "output_type": "stream",
     "text": [
      "progress = 48.5%\n"
     ]
    },
    {
     "name": "stderr",
     "output_type": "stream",
     "text": [
      "01:40:15 - OI2: INFO - Duplicated gene symbols in the prize file (we'll keep the max prize):\n",
      "01:40:15 - OI2: INFO - []\n",
      "01:40:15 - OI2: INFO - Members of the prize file not present in the interactome:\n",
      "01:40:15 - OI2: INFO - []\n"
     ]
    },
    {
     "name": "stdout",
     "output_type": "stream",
     "text": [
      "progress = 48.6%\n"
     ]
    },
    {
     "name": "stderr",
     "output_type": "stream",
     "text": [
      "01:40:18 - OI2: INFO - Duplicated gene symbols in the prize file (we'll keep the max prize):\n",
      "01:40:18 - OI2: INFO - []\n",
      "01:40:18 - OI2: INFO - Members of the prize file not present in the interactome:\n",
      "01:40:18 - OI2: INFO - []\n"
     ]
    },
    {
     "name": "stdout",
     "output_type": "stream",
     "text": [
      "progress = 48.699999999999996%\n"
     ]
    },
    {
     "name": "stderr",
     "output_type": "stream",
     "text": [
      "01:40:21 - OI2: INFO - Duplicated gene symbols in the prize file (we'll keep the max prize):\n",
      "01:40:21 - OI2: INFO - []\n",
      "01:40:21 - OI2: INFO - Members of the prize file not present in the interactome:\n",
      "01:40:21 - OI2: INFO - []\n"
     ]
    },
    {
     "name": "stdout",
     "output_type": "stream",
     "text": [
      "progress = 48.8%\n"
     ]
    },
    {
     "name": "stderr",
     "output_type": "stream",
     "text": [
      "01:40:24 - OI2: INFO - Duplicated gene symbols in the prize file (we'll keep the max prize):\n",
      "01:40:24 - OI2: INFO - []\n",
      "01:40:24 - OI2: INFO - Members of the prize file not present in the interactome:\n",
      "01:40:24 - OI2: INFO - []\n"
     ]
    },
    {
     "name": "stdout",
     "output_type": "stream",
     "text": [
      "progress = 48.9%\n"
     ]
    },
    {
     "name": "stderr",
     "output_type": "stream",
     "text": [
      "01:40:26 - OI2: INFO - Duplicated gene symbols in the prize file (we'll keep the max prize):\n",
      "01:40:26 - OI2: INFO - []\n",
      "01:40:26 - OI2: INFO - Members of the prize file not present in the interactome:\n",
      "01:40:26 - OI2: INFO - []\n"
     ]
    },
    {
     "name": "stdout",
     "output_type": "stream",
     "text": [
      "progress = 49.0%\n"
     ]
    },
    {
     "name": "stderr",
     "output_type": "stream",
     "text": [
      "01:40:29 - OI2: INFO - Duplicated gene symbols in the prize file (we'll keep the max prize):\n",
      "01:40:29 - OI2: INFO - []\n",
      "01:40:29 - OI2: INFO - Members of the prize file not present in the interactome:\n",
      "01:40:29 - OI2: INFO - []\n"
     ]
    },
    {
     "name": "stdout",
     "output_type": "stream",
     "text": [
      "progress = 49.1%\n"
     ]
    },
    {
     "name": "stderr",
     "output_type": "stream",
     "text": [
      "01:40:32 - OI2: INFO - Duplicated gene symbols in the prize file (we'll keep the max prize):\n",
      "01:40:32 - OI2: INFO - []\n",
      "01:40:32 - OI2: INFO - Members of the prize file not present in the interactome:\n",
      "01:40:32 - OI2: INFO - []\n"
     ]
    },
    {
     "name": "stdout",
     "output_type": "stream",
     "text": [
      "progress = 49.2%\n"
     ]
    },
    {
     "name": "stderr",
     "output_type": "stream",
     "text": [
      "01:40:34 - OI2: INFO - Duplicated gene symbols in the prize file (we'll keep the max prize):\n",
      "01:40:34 - OI2: INFO - []\n",
      "01:40:34 - OI2: INFO - Members of the prize file not present in the interactome:\n",
      "01:40:34 - OI2: INFO - []\n"
     ]
    },
    {
     "name": "stdout",
     "output_type": "stream",
     "text": [
      "progress = 49.3%\n"
     ]
    },
    {
     "name": "stderr",
     "output_type": "stream",
     "text": [
      "01:40:37 - OI2: INFO - Duplicated gene symbols in the prize file (we'll keep the max prize):\n",
      "01:40:37 - OI2: INFO - []\n",
      "01:40:37 - OI2: INFO - Members of the prize file not present in the interactome:\n",
      "01:40:37 - OI2: INFO - []\n"
     ]
    },
    {
     "name": "stdout",
     "output_type": "stream",
     "text": [
      "progress = 49.4%\n"
     ]
    },
    {
     "name": "stderr",
     "output_type": "stream",
     "text": [
      "01:40:40 - OI2: INFO - Duplicated gene symbols in the prize file (we'll keep the max prize):\n",
      "01:40:40 - OI2: INFO - []\n",
      "01:40:40 - OI2: INFO - Members of the prize file not present in the interactome:\n",
      "01:40:40 - OI2: INFO - []\n"
     ]
    },
    {
     "name": "stdout",
     "output_type": "stream",
     "text": [
      "progress = 49.5%\n"
     ]
    },
    {
     "name": "stderr",
     "output_type": "stream",
     "text": [
      "01:40:42 - OI2: INFO - Duplicated gene symbols in the prize file (we'll keep the max prize):\n",
      "01:40:42 - OI2: INFO - []\n",
      "01:40:42 - OI2: INFO - Members of the prize file not present in the interactome:\n",
      "01:40:42 - OI2: INFO - []\n"
     ]
    },
    {
     "name": "stdout",
     "output_type": "stream",
     "text": [
      "progress = 49.6%\n"
     ]
    },
    {
     "name": "stderr",
     "output_type": "stream",
     "text": [
      "01:40:45 - OI2: INFO - Duplicated gene symbols in the prize file (we'll keep the max prize):\n",
      "01:40:45 - OI2: INFO - []\n",
      "01:40:45 - OI2: INFO - Members of the prize file not present in the interactome:\n",
      "01:40:45 - OI2: INFO - []\n"
     ]
    },
    {
     "name": "stdout",
     "output_type": "stream",
     "text": [
      "progress = 49.7%\n"
     ]
    },
    {
     "name": "stderr",
     "output_type": "stream",
     "text": [
      "01:40:48 - OI2: INFO - Duplicated gene symbols in the prize file (we'll keep the max prize):\n",
      "01:40:48 - OI2: INFO - []\n",
      "01:40:48 - OI2: INFO - Members of the prize file not present in the interactome:\n",
      "01:40:48 - OI2: INFO - []\n"
     ]
    },
    {
     "name": "stdout",
     "output_type": "stream",
     "text": [
      "progress = 49.8%\n"
     ]
    },
    {
     "name": "stderr",
     "output_type": "stream",
     "text": [
      "01:40:50 - OI2: INFO - Duplicated gene symbols in the prize file (we'll keep the max prize):\n",
      "01:40:50 - OI2: INFO - []\n",
      "01:40:50 - OI2: INFO - Members of the prize file not present in the interactome:\n",
      "01:40:50 - OI2: INFO - []\n"
     ]
    },
    {
     "name": "stdout",
     "output_type": "stream",
     "text": [
      "progress = 49.9%\n"
     ]
    },
    {
     "name": "stderr",
     "output_type": "stream",
     "text": [
      "01:40:53 - OI2: INFO - Duplicated gene symbols in the prize file (we'll keep the max prize):\n",
      "01:40:53 - OI2: INFO - []\n",
      "01:40:53 - OI2: INFO - Members of the prize file not present in the interactome:\n",
      "01:40:53 - OI2: INFO - []\n"
     ]
    },
    {
     "name": "stdout",
     "output_type": "stream",
     "text": [
      "progress = 50.0%\n"
     ]
    },
    {
     "name": "stderr",
     "output_type": "stream",
     "text": [
      "01:40:56 - OI2: INFO - Duplicated gene symbols in the prize file (we'll keep the max prize):\n",
      "01:40:56 - OI2: INFO - []\n",
      "01:40:56 - OI2: INFO - Members of the prize file not present in the interactome:\n",
      "01:40:56 - OI2: INFO - []\n"
     ]
    },
    {
     "name": "stdout",
     "output_type": "stream",
     "text": [
      "progress = 50.1%\n"
     ]
    },
    {
     "name": "stderr",
     "output_type": "stream",
     "text": [
      "01:40:58 - OI2: INFO - Duplicated gene symbols in the prize file (we'll keep the max prize):\n",
      "01:40:58 - OI2: INFO - []\n",
      "01:40:58 - OI2: INFO - Members of the prize file not present in the interactome:\n",
      "01:40:58 - OI2: INFO - []\n"
     ]
    },
    {
     "name": "stdout",
     "output_type": "stream",
     "text": [
      "progress = 50.2%\n"
     ]
    },
    {
     "name": "stderr",
     "output_type": "stream",
     "text": [
      "01:41:01 - OI2: INFO - Duplicated gene symbols in the prize file (we'll keep the max prize):\n",
      "01:41:01 - OI2: INFO - []\n",
      "01:41:01 - OI2: INFO - Members of the prize file not present in the interactome:\n",
      "01:41:01 - OI2: INFO - []\n"
     ]
    },
    {
     "name": "stdout",
     "output_type": "stream",
     "text": [
      "progress = 50.3%\n"
     ]
    },
    {
     "name": "stderr",
     "output_type": "stream",
     "text": [
      "01:41:04 - OI2: INFO - Duplicated gene symbols in the prize file (we'll keep the max prize):\n",
      "01:41:04 - OI2: INFO - []\n",
      "01:41:04 - OI2: INFO - Members of the prize file not present in the interactome:\n",
      "01:41:04 - OI2: INFO - []\n"
     ]
    },
    {
     "name": "stdout",
     "output_type": "stream",
     "text": [
      "progress = 50.4%\n"
     ]
    },
    {
     "name": "stderr",
     "output_type": "stream",
     "text": [
      "01:41:06 - OI2: INFO - Duplicated gene symbols in the prize file (we'll keep the max prize):\n",
      "01:41:06 - OI2: INFO - []\n",
      "01:41:06 - OI2: INFO - Members of the prize file not present in the interactome:\n",
      "01:41:06 - OI2: INFO - []\n"
     ]
    },
    {
     "name": "stdout",
     "output_type": "stream",
     "text": [
      "progress = 50.5%\n"
     ]
    },
    {
     "name": "stderr",
     "output_type": "stream",
     "text": [
      "01:41:09 - OI2: INFO - Duplicated gene symbols in the prize file (we'll keep the max prize):\n",
      "01:41:09 - OI2: INFO - []\n",
      "01:41:09 - OI2: INFO - Members of the prize file not present in the interactome:\n",
      "01:41:09 - OI2: INFO - []\n"
     ]
    },
    {
     "name": "stdout",
     "output_type": "stream",
     "text": [
      "progress = 50.6%\n"
     ]
    },
    {
     "name": "stderr",
     "output_type": "stream",
     "text": [
      "01:41:12 - OI2: INFO - Duplicated gene symbols in the prize file (we'll keep the max prize):\n",
      "01:41:12 - OI2: INFO - []\n",
      "01:41:12 - OI2: INFO - Members of the prize file not present in the interactome:\n",
      "01:41:12 - OI2: INFO - []\n"
     ]
    },
    {
     "name": "stdout",
     "output_type": "stream",
     "text": [
      "progress = 50.7%\n"
     ]
    },
    {
     "name": "stderr",
     "output_type": "stream",
     "text": [
      "01:41:14 - OI2: INFO - Duplicated gene symbols in the prize file (we'll keep the max prize):\n",
      "01:41:14 - OI2: INFO - []\n",
      "01:41:14 - OI2: INFO - Members of the prize file not present in the interactome:\n",
      "01:41:14 - OI2: INFO - []\n"
     ]
    },
    {
     "name": "stdout",
     "output_type": "stream",
     "text": [
      "progress = 50.8%\n"
     ]
    },
    {
     "name": "stderr",
     "output_type": "stream",
     "text": [
      "01:41:17 - OI2: INFO - Duplicated gene symbols in the prize file (we'll keep the max prize):\n",
      "01:41:17 - OI2: INFO - []\n",
      "01:41:17 - OI2: INFO - Members of the prize file not present in the interactome:\n",
      "01:41:17 - OI2: INFO - []\n"
     ]
    },
    {
     "name": "stdout",
     "output_type": "stream",
     "text": [
      "progress = 50.9%\n"
     ]
    },
    {
     "name": "stderr",
     "output_type": "stream",
     "text": [
      "01:41:20 - OI2: INFO - Duplicated gene symbols in the prize file (we'll keep the max prize):\n",
      "01:41:20 - OI2: INFO - []\n",
      "01:41:20 - OI2: INFO - Members of the prize file not present in the interactome:\n",
      "01:41:20 - OI2: INFO - []\n"
     ]
    },
    {
     "name": "stdout",
     "output_type": "stream",
     "text": [
      "progress = 51.0%\n"
     ]
    },
    {
     "name": "stderr",
     "output_type": "stream",
     "text": [
      "01:41:22 - OI2: INFO - Duplicated gene symbols in the prize file (we'll keep the max prize):\n",
      "01:41:22 - OI2: INFO - []\n",
      "01:41:22 - OI2: INFO - Members of the prize file not present in the interactome:\n",
      "01:41:22 - OI2: INFO - []\n"
     ]
    },
    {
     "name": "stdout",
     "output_type": "stream",
     "text": [
      "progress = 51.1%\n"
     ]
    },
    {
     "name": "stderr",
     "output_type": "stream",
     "text": [
      "01:41:25 - OI2: INFO - Duplicated gene symbols in the prize file (we'll keep the max prize):\n",
      "01:41:25 - OI2: INFO - []\n",
      "01:41:25 - OI2: INFO - Members of the prize file not present in the interactome:\n",
      "01:41:25 - OI2: INFO - []\n"
     ]
    },
    {
     "name": "stdout",
     "output_type": "stream",
     "text": [
      "progress = 51.2%\n"
     ]
    },
    {
     "name": "stderr",
     "output_type": "stream",
     "text": [
      "01:41:28 - OI2: INFO - Duplicated gene symbols in the prize file (we'll keep the max prize):\n",
      "01:41:28 - OI2: INFO - []\n",
      "01:41:28 - OI2: INFO - Members of the prize file not present in the interactome:\n",
      "01:41:28 - OI2: INFO - []\n"
     ]
    },
    {
     "name": "stdout",
     "output_type": "stream",
     "text": [
      "progress = 51.300000000000004%\n"
     ]
    },
    {
     "name": "stderr",
     "output_type": "stream",
     "text": [
      "01:41:30 - OI2: INFO - Duplicated gene symbols in the prize file (we'll keep the max prize):\n",
      "01:41:30 - OI2: INFO - []\n",
      "01:41:30 - OI2: INFO - Members of the prize file not present in the interactome:\n",
      "01:41:30 - OI2: INFO - []\n"
     ]
    },
    {
     "name": "stdout",
     "output_type": "stream",
     "text": [
      "progress = 51.4%\n"
     ]
    },
    {
     "name": "stderr",
     "output_type": "stream",
     "text": [
      "01:41:33 - OI2: INFO - Duplicated gene symbols in the prize file (we'll keep the max prize):\n",
      "01:41:33 - OI2: INFO - []\n",
      "01:41:33 - OI2: INFO - Members of the prize file not present in the interactome:\n",
      "01:41:33 - OI2: INFO - []\n"
     ]
    },
    {
     "name": "stdout",
     "output_type": "stream",
     "text": [
      "progress = 51.5%\n"
     ]
    },
    {
     "name": "stderr",
     "output_type": "stream",
     "text": [
      "01:41:36 - OI2: INFO - Duplicated gene symbols in the prize file (we'll keep the max prize):\n",
      "01:41:36 - OI2: INFO - []\n",
      "01:41:36 - OI2: INFO - Members of the prize file not present in the interactome:\n",
      "01:41:36 - OI2: INFO - []\n"
     ]
    },
    {
     "name": "stdout",
     "output_type": "stream",
     "text": [
      "progress = 51.6%\n"
     ]
    },
    {
     "name": "stderr",
     "output_type": "stream",
     "text": [
      "01:41:38 - OI2: INFO - Duplicated gene symbols in the prize file (we'll keep the max prize):\n",
      "01:41:38 - OI2: INFO - []\n",
      "01:41:38 - OI2: INFO - Members of the prize file not present in the interactome:\n",
      "01:41:38 - OI2: INFO - []\n"
     ]
    },
    {
     "name": "stdout",
     "output_type": "stream",
     "text": [
      "progress = 51.7%\n"
     ]
    },
    {
     "name": "stderr",
     "output_type": "stream",
     "text": [
      "01:41:41 - OI2: INFO - Duplicated gene symbols in the prize file (we'll keep the max prize):\n",
      "01:41:41 - OI2: INFO - []\n",
      "01:41:41 - OI2: INFO - Members of the prize file not present in the interactome:\n",
      "01:41:41 - OI2: INFO - []\n"
     ]
    },
    {
     "name": "stdout",
     "output_type": "stream",
     "text": [
      "progress = 51.800000000000004%\n"
     ]
    },
    {
     "name": "stderr",
     "output_type": "stream",
     "text": [
      "01:41:44 - OI2: INFO - Duplicated gene symbols in the prize file (we'll keep the max prize):\n",
      "01:41:44 - OI2: INFO - []\n",
      "01:41:44 - OI2: INFO - Members of the prize file not present in the interactome:\n",
      "01:41:44 - OI2: INFO - []\n"
     ]
    },
    {
     "name": "stdout",
     "output_type": "stream",
     "text": [
      "progress = 51.9%\n"
     ]
    },
    {
     "name": "stderr",
     "output_type": "stream",
     "text": [
      "01:41:46 - OI2: INFO - Duplicated gene symbols in the prize file (we'll keep the max prize):\n",
      "01:41:46 - OI2: INFO - []\n",
      "01:41:46 - OI2: INFO - Members of the prize file not present in the interactome:\n",
      "01:41:46 - OI2: INFO - []\n"
     ]
    },
    {
     "name": "stdout",
     "output_type": "stream",
     "text": [
      "progress = 52.0%\n"
     ]
    },
    {
     "name": "stderr",
     "output_type": "stream",
     "text": [
      "01:41:49 - OI2: INFO - Duplicated gene symbols in the prize file (we'll keep the max prize):\n",
      "01:41:49 - OI2: INFO - []\n",
      "01:41:49 - OI2: INFO - Members of the prize file not present in the interactome:\n",
      "01:41:49 - OI2: INFO - []\n"
     ]
    },
    {
     "name": "stdout",
     "output_type": "stream",
     "text": [
      "progress = 52.1%\n"
     ]
    },
    {
     "name": "stderr",
     "output_type": "stream",
     "text": [
      "01:41:52 - OI2: INFO - Duplicated gene symbols in the prize file (we'll keep the max prize):\n",
      "01:41:52 - OI2: INFO - []\n",
      "01:41:52 - OI2: INFO - Members of the prize file not present in the interactome:\n",
      "01:41:52 - OI2: INFO - []\n"
     ]
    },
    {
     "name": "stdout",
     "output_type": "stream",
     "text": [
      "progress = 52.2%\n"
     ]
    },
    {
     "name": "stderr",
     "output_type": "stream",
     "text": [
      "01:41:54 - OI2: INFO - Duplicated gene symbols in the prize file (we'll keep the max prize):\n",
      "01:41:54 - OI2: INFO - []\n",
      "01:41:54 - OI2: INFO - Members of the prize file not present in the interactome:\n",
      "01:41:54 - OI2: INFO - []\n"
     ]
    },
    {
     "name": "stdout",
     "output_type": "stream",
     "text": [
      "progress = 52.300000000000004%\n"
     ]
    },
    {
     "name": "stderr",
     "output_type": "stream",
     "text": [
      "01:41:57 - OI2: INFO - Duplicated gene symbols in the prize file (we'll keep the max prize):\n",
      "01:41:57 - OI2: INFO - []\n",
      "01:41:57 - OI2: INFO - Members of the prize file not present in the interactome:\n",
      "01:41:57 - OI2: INFO - []\n"
     ]
    },
    {
     "name": "stdout",
     "output_type": "stream",
     "text": [
      "progress = 52.400000000000006%\n"
     ]
    },
    {
     "name": "stderr",
     "output_type": "stream",
     "text": [
      "01:42:00 - OI2: INFO - Duplicated gene symbols in the prize file (we'll keep the max prize):\n",
      "01:42:00 - OI2: INFO - []\n",
      "01:42:00 - OI2: INFO - Members of the prize file not present in the interactome:\n",
      "01:42:00 - OI2: INFO - []\n"
     ]
    },
    {
     "name": "stdout",
     "output_type": "stream",
     "text": [
      "progress = 52.5%\n"
     ]
    },
    {
     "name": "stderr",
     "output_type": "stream",
     "text": [
      "01:42:02 - OI2: INFO - Duplicated gene symbols in the prize file (we'll keep the max prize):\n",
      "01:42:02 - OI2: INFO - []\n",
      "01:42:02 - OI2: INFO - Members of the prize file not present in the interactome:\n",
      "01:42:02 - OI2: INFO - []\n"
     ]
    },
    {
     "name": "stdout",
     "output_type": "stream",
     "text": [
      "progress = 52.6%\n"
     ]
    },
    {
     "name": "stderr",
     "output_type": "stream",
     "text": [
      "01:42:05 - OI2: INFO - Duplicated gene symbols in the prize file (we'll keep the max prize):\n",
      "01:42:05 - OI2: INFO - []\n",
      "01:42:05 - OI2: INFO - Members of the prize file not present in the interactome:\n",
      "01:42:05 - OI2: INFO - []\n"
     ]
    },
    {
     "name": "stdout",
     "output_type": "stream",
     "text": [
      "progress = 52.7%\n"
     ]
    },
    {
     "name": "stderr",
     "output_type": "stream",
     "text": [
      "01:42:08 - OI2: INFO - Duplicated gene symbols in the prize file (we'll keep the max prize):\n",
      "01:42:08 - OI2: INFO - []\n",
      "01:42:08 - OI2: INFO - Members of the prize file not present in the interactome:\n",
      "01:42:08 - OI2: INFO - []\n"
     ]
    },
    {
     "name": "stdout",
     "output_type": "stream",
     "text": [
      "progress = 52.800000000000004%\n"
     ]
    },
    {
     "name": "stderr",
     "output_type": "stream",
     "text": [
      "01:42:10 - OI2: INFO - Duplicated gene symbols in the prize file (we'll keep the max prize):\n",
      "01:42:10 - OI2: INFO - []\n",
      "01:42:10 - OI2: INFO - Members of the prize file not present in the interactome:\n",
      "01:42:10 - OI2: INFO - []\n"
     ]
    },
    {
     "name": "stdout",
     "output_type": "stream",
     "text": [
      "progress = 52.900000000000006%\n"
     ]
    },
    {
     "name": "stderr",
     "output_type": "stream",
     "text": [
      "01:42:13 - OI2: INFO - Duplicated gene symbols in the prize file (we'll keep the max prize):\n",
      "01:42:13 - OI2: INFO - []\n",
      "01:42:13 - OI2: INFO - Members of the prize file not present in the interactome:\n",
      "01:42:13 - OI2: INFO - []\n"
     ]
    },
    {
     "name": "stdout",
     "output_type": "stream",
     "text": [
      "progress = 53.0%\n"
     ]
    },
    {
     "name": "stderr",
     "output_type": "stream",
     "text": [
      "01:42:16 - OI2: INFO - Duplicated gene symbols in the prize file (we'll keep the max prize):\n",
      "01:42:16 - OI2: INFO - []\n",
      "01:42:16 - OI2: INFO - Members of the prize file not present in the interactome:\n",
      "01:42:16 - OI2: INFO - []\n"
     ]
    },
    {
     "name": "stdout",
     "output_type": "stream",
     "text": [
      "progress = 53.1%\n"
     ]
    },
    {
     "name": "stderr",
     "output_type": "stream",
     "text": [
      "01:42:19 - OI2: INFO - Duplicated gene symbols in the prize file (we'll keep the max prize):\n",
      "01:42:19 - OI2: INFO - []\n",
      "01:42:19 - OI2: INFO - Members of the prize file not present in the interactome:\n",
      "01:42:19 - OI2: INFO - []\n"
     ]
    },
    {
     "name": "stdout",
     "output_type": "stream",
     "text": [
      "progress = 53.2%\n"
     ]
    },
    {
     "name": "stderr",
     "output_type": "stream",
     "text": [
      "01:42:21 - OI2: INFO - Duplicated gene symbols in the prize file (we'll keep the max prize):\n",
      "01:42:21 - OI2: INFO - []\n",
      "01:42:21 - OI2: INFO - Members of the prize file not present in the interactome:\n",
      "01:42:21 - OI2: INFO - []\n"
     ]
    },
    {
     "name": "stdout",
     "output_type": "stream",
     "text": [
      "progress = 53.300000000000004%\n"
     ]
    },
    {
     "name": "stderr",
     "output_type": "stream",
     "text": [
      "01:42:24 - OI2: INFO - Duplicated gene symbols in the prize file (we'll keep the max prize):\n",
      "01:42:24 - OI2: INFO - []\n",
      "01:42:24 - OI2: INFO - Members of the prize file not present in the interactome:\n",
      "01:42:24 - OI2: INFO - []\n"
     ]
    },
    {
     "name": "stdout",
     "output_type": "stream",
     "text": [
      "progress = 53.400000000000006%\n"
     ]
    },
    {
     "name": "stderr",
     "output_type": "stream",
     "text": [
      "01:42:27 - OI2: INFO - Duplicated gene symbols in the prize file (we'll keep the max prize):\n",
      "01:42:27 - OI2: INFO - []\n",
      "01:42:27 - OI2: INFO - Members of the prize file not present in the interactome:\n",
      "01:42:27 - OI2: INFO - []\n"
     ]
    },
    {
     "name": "stdout",
     "output_type": "stream",
     "text": [
      "progress = 53.5%\n"
     ]
    },
    {
     "name": "stderr",
     "output_type": "stream",
     "text": [
      "01:42:29 - OI2: INFO - Duplicated gene symbols in the prize file (we'll keep the max prize):\n",
      "01:42:29 - OI2: INFO - []\n",
      "01:42:29 - OI2: INFO - Members of the prize file not present in the interactome:\n",
      "01:42:29 - OI2: INFO - []\n"
     ]
    },
    {
     "name": "stdout",
     "output_type": "stream",
     "text": [
      "progress = 53.6%\n"
     ]
    },
    {
     "name": "stderr",
     "output_type": "stream",
     "text": [
      "01:42:32 - OI2: INFO - Duplicated gene symbols in the prize file (we'll keep the max prize):\n",
      "01:42:32 - OI2: INFO - []\n",
      "01:42:32 - OI2: INFO - Members of the prize file not present in the interactome:\n",
      "01:42:32 - OI2: INFO - []\n"
     ]
    },
    {
     "name": "stdout",
     "output_type": "stream",
     "text": [
      "progress = 53.7%\n"
     ]
    },
    {
     "name": "stderr",
     "output_type": "stream",
     "text": [
      "01:42:34 - OI2: INFO - Duplicated gene symbols in the prize file (we'll keep the max prize):\n",
      "01:42:34 - OI2: INFO - []\n",
      "01:42:34 - OI2: INFO - Members of the prize file not present in the interactome:\n",
      "01:42:34 - OI2: INFO - []\n"
     ]
    },
    {
     "name": "stdout",
     "output_type": "stream",
     "text": [
      "progress = 53.800000000000004%\n"
     ]
    },
    {
     "name": "stderr",
     "output_type": "stream",
     "text": [
      "01:42:37 - OI2: INFO - Duplicated gene symbols in the prize file (we'll keep the max prize):\n",
      "01:42:37 - OI2: INFO - []\n",
      "01:42:37 - OI2: INFO - Members of the prize file not present in the interactome:\n",
      "01:42:37 - OI2: INFO - []\n"
     ]
    },
    {
     "name": "stdout",
     "output_type": "stream",
     "text": [
      "progress = 53.900000000000006%\n"
     ]
    },
    {
     "name": "stderr",
     "output_type": "stream",
     "text": [
      "01:42:40 - OI2: INFO - Duplicated gene symbols in the prize file (we'll keep the max prize):\n",
      "01:42:40 - OI2: INFO - []\n",
      "01:42:40 - OI2: INFO - Members of the prize file not present in the interactome:\n",
      "01:42:40 - OI2: INFO - []\n"
     ]
    },
    {
     "name": "stdout",
     "output_type": "stream",
     "text": [
      "progress = 54.0%\n"
     ]
    },
    {
     "name": "stderr",
     "output_type": "stream",
     "text": [
      "01:42:43 - OI2: INFO - Duplicated gene symbols in the prize file (we'll keep the max prize):\n",
      "01:42:43 - OI2: INFO - []\n",
      "01:42:43 - OI2: INFO - Members of the prize file not present in the interactome:\n",
      "01:42:43 - OI2: INFO - []\n"
     ]
    },
    {
     "name": "stdout",
     "output_type": "stream",
     "text": [
      "progress = 54.1%\n"
     ]
    },
    {
     "name": "stderr",
     "output_type": "stream",
     "text": [
      "01:42:45 - OI2: INFO - Duplicated gene symbols in the prize file (we'll keep the max prize):\n",
      "01:42:45 - OI2: INFO - []\n",
      "01:42:45 - OI2: INFO - Members of the prize file not present in the interactome:\n",
      "01:42:45 - OI2: INFO - []\n"
     ]
    },
    {
     "name": "stdout",
     "output_type": "stream",
     "text": [
      "progress = 54.2%\n"
     ]
    },
    {
     "name": "stderr",
     "output_type": "stream",
     "text": [
      "01:42:48 - OI2: INFO - Duplicated gene symbols in the prize file (we'll keep the max prize):\n",
      "01:42:48 - OI2: INFO - []\n",
      "01:42:48 - OI2: INFO - Members of the prize file not present in the interactome:\n",
      "01:42:48 - OI2: INFO - []\n"
     ]
    },
    {
     "name": "stdout",
     "output_type": "stream",
     "text": [
      "progress = 54.300000000000004%\n"
     ]
    },
    {
     "name": "stderr",
     "output_type": "stream",
     "text": [
      "01:42:50 - OI2: INFO - Duplicated gene symbols in the prize file (we'll keep the max prize):\n",
      "01:42:50 - OI2: INFO - []\n",
      "01:42:51 - OI2: INFO - Members of the prize file not present in the interactome:\n",
      "01:42:51 - OI2: INFO - []\n"
     ]
    },
    {
     "name": "stdout",
     "output_type": "stream",
     "text": [
      "progress = 54.400000000000006%\n"
     ]
    },
    {
     "name": "stderr",
     "output_type": "stream",
     "text": [
      "01:42:53 - OI2: INFO - Duplicated gene symbols in the prize file (we'll keep the max prize):\n",
      "01:42:53 - OI2: INFO - []\n",
      "01:42:53 - OI2: INFO - Members of the prize file not present in the interactome:\n",
      "01:42:53 - OI2: INFO - []\n"
     ]
    },
    {
     "name": "stdout",
     "output_type": "stream",
     "text": [
      "progress = 54.50000000000001%\n"
     ]
    },
    {
     "name": "stderr",
     "output_type": "stream",
     "text": [
      "01:42:56 - OI2: INFO - Duplicated gene symbols in the prize file (we'll keep the max prize):\n",
      "01:42:56 - OI2: INFO - []\n",
      "01:42:56 - OI2: INFO - Members of the prize file not present in the interactome:\n",
      "01:42:56 - OI2: INFO - []\n"
     ]
    },
    {
     "name": "stdout",
     "output_type": "stream",
     "text": [
      "progress = 54.6%\n"
     ]
    },
    {
     "name": "stderr",
     "output_type": "stream",
     "text": [
      "01:42:58 - OI2: INFO - Duplicated gene symbols in the prize file (we'll keep the max prize):\n",
      "01:42:58 - OI2: INFO - []\n",
      "01:42:58 - OI2: INFO - Members of the prize file not present in the interactome:\n",
      "01:42:58 - OI2: INFO - []\n"
     ]
    },
    {
     "name": "stdout",
     "output_type": "stream",
     "text": [
      "progress = 54.7%\n"
     ]
    },
    {
     "name": "stderr",
     "output_type": "stream",
     "text": [
      "01:43:01 - OI2: INFO - Duplicated gene symbols in the prize file (we'll keep the max prize):\n",
      "01:43:01 - OI2: INFO - []\n",
      "01:43:01 - OI2: INFO - Members of the prize file not present in the interactome:\n",
      "01:43:01 - OI2: INFO - []\n"
     ]
    },
    {
     "name": "stdout",
     "output_type": "stream",
     "text": [
      "progress = 54.800000000000004%\n"
     ]
    },
    {
     "name": "stderr",
     "output_type": "stream",
     "text": [
      "01:43:04 - OI2: INFO - Duplicated gene symbols in the prize file (we'll keep the max prize):\n",
      "01:43:04 - OI2: INFO - []\n",
      "01:43:04 - OI2: INFO - Members of the prize file not present in the interactome:\n",
      "01:43:04 - OI2: INFO - []\n"
     ]
    },
    {
     "name": "stdout",
     "output_type": "stream",
     "text": [
      "progress = 54.900000000000006%\n"
     ]
    },
    {
     "name": "stderr",
     "output_type": "stream",
     "text": [
      "01:43:06 - OI2: INFO - Duplicated gene symbols in the prize file (we'll keep the max prize):\n",
      "01:43:06 - OI2: INFO - []\n",
      "01:43:06 - OI2: INFO - Members of the prize file not present in the interactome:\n",
      "01:43:06 - OI2: INFO - []\n"
     ]
    },
    {
     "name": "stdout",
     "output_type": "stream",
     "text": [
      "progress = 55.00000000000001%\n"
     ]
    },
    {
     "name": "stderr",
     "output_type": "stream",
     "text": [
      "01:43:09 - OI2: INFO - Duplicated gene symbols in the prize file (we'll keep the max prize):\n",
      "01:43:09 - OI2: INFO - []\n",
      "01:43:09 - OI2: INFO - Members of the prize file not present in the interactome:\n",
      "01:43:09 - OI2: INFO - []\n"
     ]
    },
    {
     "name": "stdout",
     "output_type": "stream",
     "text": [
      "progress = 55.1%\n"
     ]
    },
    {
     "name": "stderr",
     "output_type": "stream",
     "text": [
      "01:43:12 - OI2: INFO - Duplicated gene symbols in the prize file (we'll keep the max prize):\n",
      "01:43:12 - OI2: INFO - []\n",
      "01:43:12 - OI2: INFO - Members of the prize file not present in the interactome:\n",
      "01:43:12 - OI2: INFO - []\n"
     ]
    },
    {
     "name": "stdout",
     "output_type": "stream",
     "text": [
      "progress = 55.2%\n"
     ]
    },
    {
     "name": "stderr",
     "output_type": "stream",
     "text": [
      "01:43:14 - OI2: INFO - Duplicated gene symbols in the prize file (we'll keep the max prize):\n",
      "01:43:14 - OI2: INFO - []\n",
      "01:43:14 - OI2: INFO - Members of the prize file not present in the interactome:\n",
      "01:43:14 - OI2: INFO - []\n"
     ]
    },
    {
     "name": "stdout",
     "output_type": "stream",
     "text": [
      "progress = 55.300000000000004%\n"
     ]
    },
    {
     "name": "stderr",
     "output_type": "stream",
     "text": [
      "01:43:17 - OI2: INFO - Duplicated gene symbols in the prize file (we'll keep the max prize):\n",
      "01:43:17 - OI2: INFO - []\n",
      "01:43:17 - OI2: INFO - Members of the prize file not present in the interactome:\n",
      "01:43:17 - OI2: INFO - []\n"
     ]
    },
    {
     "name": "stdout",
     "output_type": "stream",
     "text": [
      "progress = 55.400000000000006%\n"
     ]
    },
    {
     "name": "stderr",
     "output_type": "stream",
     "text": [
      "01:43:20 - OI2: INFO - Duplicated gene symbols in the prize file (we'll keep the max prize):\n",
      "01:43:20 - OI2: INFO - []\n",
      "01:43:20 - OI2: INFO - Members of the prize file not present in the interactome:\n",
      "01:43:20 - OI2: INFO - []\n"
     ]
    },
    {
     "name": "stdout",
     "output_type": "stream",
     "text": [
      "progress = 55.50000000000001%\n"
     ]
    },
    {
     "name": "stderr",
     "output_type": "stream",
     "text": [
      "01:43:22 - OI2: INFO - Duplicated gene symbols in the prize file (we'll keep the max prize):\n",
      "01:43:22 - OI2: INFO - []\n",
      "01:43:22 - OI2: INFO - Members of the prize file not present in the interactome:\n",
      "01:43:22 - OI2: INFO - []\n"
     ]
    },
    {
     "name": "stdout",
     "output_type": "stream",
     "text": [
      "progress = 55.60000000000001%\n"
     ]
    },
    {
     "name": "stderr",
     "output_type": "stream",
     "text": [
      "01:43:25 - OI2: INFO - Duplicated gene symbols in the prize file (we'll keep the max prize):\n",
      "01:43:25 - OI2: INFO - []\n",
      "01:43:25 - OI2: INFO - Members of the prize file not present in the interactome:\n",
      "01:43:25 - OI2: INFO - []\n"
     ]
    },
    {
     "name": "stdout",
     "output_type": "stream",
     "text": [
      "progress = 55.7%\n"
     ]
    },
    {
     "name": "stderr",
     "output_type": "stream",
     "text": [
      "01:43:28 - OI2: INFO - Duplicated gene symbols in the prize file (we'll keep the max prize):\n",
      "01:43:28 - OI2: INFO - []\n",
      "01:43:28 - OI2: INFO - Members of the prize file not present in the interactome:\n",
      "01:43:28 - OI2: INFO - []\n"
     ]
    },
    {
     "name": "stdout",
     "output_type": "stream",
     "text": [
      "progress = 55.800000000000004%\n"
     ]
    },
    {
     "name": "stderr",
     "output_type": "stream",
     "text": [
      "01:43:30 - OI2: INFO - Duplicated gene symbols in the prize file (we'll keep the max prize):\n",
      "01:43:30 - OI2: INFO - []\n",
      "01:43:30 - OI2: INFO - Members of the prize file not present in the interactome:\n",
      "01:43:30 - OI2: INFO - []\n"
     ]
    },
    {
     "name": "stdout",
     "output_type": "stream",
     "text": [
      "progress = 55.900000000000006%\n"
     ]
    },
    {
     "name": "stderr",
     "output_type": "stream",
     "text": [
      "01:43:33 - OI2: INFO - Duplicated gene symbols in the prize file (we'll keep the max prize):\n",
      "01:43:33 - OI2: INFO - []\n",
      "01:43:33 - OI2: INFO - Members of the prize file not present in the interactome:\n",
      "01:43:33 - OI2: INFO - []\n"
     ]
    },
    {
     "name": "stdout",
     "output_type": "stream",
     "text": [
      "progress = 56.00000000000001%\n"
     ]
    },
    {
     "name": "stderr",
     "output_type": "stream",
     "text": [
      "01:43:36 - OI2: INFO - Duplicated gene symbols in the prize file (we'll keep the max prize):\n",
      "01:43:36 - OI2: INFO - []\n",
      "01:43:36 - OI2: INFO - Members of the prize file not present in the interactome:\n",
      "01:43:36 - OI2: INFO - []\n"
     ]
    },
    {
     "name": "stdout",
     "output_type": "stream",
     "text": [
      "progress = 56.10000000000001%\n"
     ]
    },
    {
     "name": "stderr",
     "output_type": "stream",
     "text": [
      "01:43:39 - OI2: INFO - Duplicated gene symbols in the prize file (we'll keep the max prize):\n",
      "01:43:39 - OI2: INFO - []\n",
      "01:43:39 - OI2: INFO - Members of the prize file not present in the interactome:\n",
      "01:43:39 - OI2: INFO - []\n"
     ]
    },
    {
     "name": "stdout",
     "output_type": "stream",
     "text": [
      "progress = 56.2%\n"
     ]
    },
    {
     "name": "stderr",
     "output_type": "stream",
     "text": [
      "01:43:41 - OI2: INFO - Duplicated gene symbols in the prize file (we'll keep the max prize):\n",
      "01:43:41 - OI2: INFO - []\n",
      "01:43:41 - OI2: INFO - Members of the prize file not present in the interactome:\n",
      "01:43:41 - OI2: INFO - []\n"
     ]
    },
    {
     "name": "stdout",
     "output_type": "stream",
     "text": [
      "progress = 56.3%\n"
     ]
    },
    {
     "name": "stderr",
     "output_type": "stream",
     "text": [
      "01:43:44 - OI2: INFO - Duplicated gene symbols in the prize file (we'll keep the max prize):\n",
      "01:43:44 - OI2: INFO - []\n",
      "01:43:44 - OI2: INFO - Members of the prize file not present in the interactome:\n",
      "01:43:44 - OI2: INFO - []\n"
     ]
    },
    {
     "name": "stdout",
     "output_type": "stream",
     "text": [
      "progress = 56.39999999999999%\n"
     ]
    },
    {
     "name": "stderr",
     "output_type": "stream",
     "text": [
      "01:43:47 - OI2: INFO - Duplicated gene symbols in the prize file (we'll keep the max prize):\n",
      "01:43:47 - OI2: INFO - []\n",
      "01:43:47 - OI2: INFO - Members of the prize file not present in the interactome:\n",
      "01:43:47 - OI2: INFO - []\n"
     ]
    },
    {
     "name": "stdout",
     "output_type": "stream",
     "text": [
      "progress = 56.49999999999999%\n"
     ]
    },
    {
     "name": "stderr",
     "output_type": "stream",
     "text": [
      "01:43:49 - OI2: INFO - Duplicated gene symbols in the prize file (we'll keep the max prize):\n",
      "01:43:49 - OI2: INFO - []\n",
      "01:43:49 - OI2: INFO - Members of the prize file not present in the interactome:\n",
      "01:43:49 - OI2: INFO - []\n"
     ]
    },
    {
     "name": "stdout",
     "output_type": "stream",
     "text": [
      "progress = 56.599999999999994%\n"
     ]
    },
    {
     "name": "stderr",
     "output_type": "stream",
     "text": [
      "01:43:52 - OI2: INFO - Duplicated gene symbols in the prize file (we'll keep the max prize):\n",
      "01:43:52 - OI2: INFO - []\n",
      "01:43:52 - OI2: INFO - Members of the prize file not present in the interactome:\n",
      "01:43:52 - OI2: INFO - []\n"
     ]
    },
    {
     "name": "stdout",
     "output_type": "stream",
     "text": [
      "progress = 56.699999999999996%\n"
     ]
    },
    {
     "name": "stderr",
     "output_type": "stream",
     "text": [
      "01:43:55 - OI2: INFO - Duplicated gene symbols in the prize file (we'll keep the max prize):\n",
      "01:43:55 - OI2: INFO - []\n",
      "01:43:55 - OI2: INFO - Members of the prize file not present in the interactome:\n",
      "01:43:55 - OI2: INFO - []\n"
     ]
    },
    {
     "name": "stdout",
     "output_type": "stream",
     "text": [
      "progress = 56.8%\n"
     ]
    },
    {
     "name": "stderr",
     "output_type": "stream",
     "text": [
      "01:43:57 - OI2: INFO - Duplicated gene symbols in the prize file (we'll keep the max prize):\n",
      "01:43:57 - OI2: INFO - []\n",
      "01:43:57 - OI2: INFO - Members of the prize file not present in the interactome:\n",
      "01:43:57 - OI2: INFO - []\n"
     ]
    },
    {
     "name": "stdout",
     "output_type": "stream",
     "text": [
      "progress = 56.89999999999999%\n"
     ]
    },
    {
     "name": "stderr",
     "output_type": "stream",
     "text": [
      "01:44:00 - OI2: INFO - Duplicated gene symbols in the prize file (we'll keep the max prize):\n",
      "01:44:00 - OI2: INFO - []\n",
      "01:44:00 - OI2: INFO - Members of the prize file not present in the interactome:\n",
      "01:44:00 - OI2: INFO - []\n"
     ]
    },
    {
     "name": "stdout",
     "output_type": "stream",
     "text": [
      "progress = 56.99999999999999%\n"
     ]
    },
    {
     "name": "stderr",
     "output_type": "stream",
     "text": [
      "01:44:03 - OI2: INFO - Duplicated gene symbols in the prize file (we'll keep the max prize):\n",
      "01:44:03 - OI2: INFO - []\n",
      "01:44:03 - OI2: INFO - Members of the prize file not present in the interactome:\n",
      "01:44:03 - OI2: INFO - []\n"
     ]
    },
    {
     "name": "stdout",
     "output_type": "stream",
     "text": [
      "progress = 57.099999999999994%\n"
     ]
    },
    {
     "name": "stderr",
     "output_type": "stream",
     "text": [
      "01:44:05 - OI2: INFO - Duplicated gene symbols in the prize file (we'll keep the max prize):\n",
      "01:44:05 - OI2: INFO - []\n",
      "01:44:05 - OI2: INFO - Members of the prize file not present in the interactome:\n",
      "01:44:05 - OI2: INFO - []\n"
     ]
    },
    {
     "name": "stdout",
     "output_type": "stream",
     "text": [
      "progress = 57.199999999999996%\n"
     ]
    },
    {
     "name": "stderr",
     "output_type": "stream",
     "text": [
      "01:44:08 - OI2: INFO - Duplicated gene symbols in the prize file (we'll keep the max prize):\n",
      "01:44:08 - OI2: INFO - []\n",
      "01:44:08 - OI2: INFO - Members of the prize file not present in the interactome:\n",
      "01:44:08 - OI2: INFO - []\n"
     ]
    },
    {
     "name": "stdout",
     "output_type": "stream",
     "text": [
      "progress = 57.3%\n"
     ]
    },
    {
     "name": "stderr",
     "output_type": "stream",
     "text": [
      "01:44:11 - OI2: INFO - Duplicated gene symbols in the prize file (we'll keep the max prize):\n",
      "01:44:11 - OI2: INFO - []\n",
      "01:44:11 - OI2: INFO - Members of the prize file not present in the interactome:\n",
      "01:44:11 - OI2: INFO - []\n"
     ]
    },
    {
     "name": "stdout",
     "output_type": "stream",
     "text": [
      "progress = 57.4%\n"
     ]
    },
    {
     "name": "stderr",
     "output_type": "stream",
     "text": [
      "01:44:13 - OI2: INFO - Duplicated gene symbols in the prize file (we'll keep the max prize):\n",
      "01:44:13 - OI2: INFO - []\n",
      "01:44:13 - OI2: INFO - Members of the prize file not present in the interactome:\n",
      "01:44:13 - OI2: INFO - []\n"
     ]
    },
    {
     "name": "stdout",
     "output_type": "stream",
     "text": [
      "progress = 57.49999999999999%\n"
     ]
    },
    {
     "name": "stderr",
     "output_type": "stream",
     "text": [
      "01:44:16 - OI2: INFO - Duplicated gene symbols in the prize file (we'll keep the max prize):\n",
      "01:44:16 - OI2: INFO - []\n",
      "01:44:16 - OI2: INFO - Members of the prize file not present in the interactome:\n",
      "01:44:16 - OI2: INFO - []\n"
     ]
    },
    {
     "name": "stdout",
     "output_type": "stream",
     "text": [
      "progress = 57.599999999999994%\n"
     ]
    },
    {
     "name": "stderr",
     "output_type": "stream",
     "text": [
      "01:44:19 - OI2: INFO - Duplicated gene symbols in the prize file (we'll keep the max prize):\n",
      "01:44:19 - OI2: INFO - []\n",
      "01:44:19 - OI2: INFO - Members of the prize file not present in the interactome:\n",
      "01:44:19 - OI2: INFO - []\n"
     ]
    },
    {
     "name": "stdout",
     "output_type": "stream",
     "text": [
      "progress = 57.699999999999996%\n"
     ]
    },
    {
     "name": "stderr",
     "output_type": "stream",
     "text": [
      "01:44:21 - OI2: INFO - Duplicated gene symbols in the prize file (we'll keep the max prize):\n",
      "01:44:21 - OI2: INFO - []\n",
      "01:44:21 - OI2: INFO - Members of the prize file not present in the interactome:\n",
      "01:44:21 - OI2: INFO - []\n"
     ]
    },
    {
     "name": "stdout",
     "output_type": "stream",
     "text": [
      "progress = 57.8%\n"
     ]
    },
    {
     "name": "stderr",
     "output_type": "stream",
     "text": [
      "01:44:24 - OI2: INFO - Duplicated gene symbols in the prize file (we'll keep the max prize):\n",
      "01:44:24 - OI2: INFO - []\n",
      "01:44:24 - OI2: INFO - Members of the prize file not present in the interactome:\n",
      "01:44:24 - OI2: INFO - []\n"
     ]
    },
    {
     "name": "stdout",
     "output_type": "stream",
     "text": [
      "progress = 57.9%\n"
     ]
    },
    {
     "name": "stderr",
     "output_type": "stream",
     "text": [
      "01:44:27 - OI2: INFO - Duplicated gene symbols in the prize file (we'll keep the max prize):\n",
      "01:44:27 - OI2: INFO - []\n",
      "01:44:27 - OI2: INFO - Members of the prize file not present in the interactome:\n",
      "01:44:27 - OI2: INFO - []\n"
     ]
    },
    {
     "name": "stdout",
     "output_type": "stream",
     "text": [
      "progress = 57.99999999999999%\n"
     ]
    },
    {
     "name": "stderr",
     "output_type": "stream",
     "text": [
      "01:44:29 - OI2: INFO - Duplicated gene symbols in the prize file (we'll keep the max prize):\n",
      "01:44:29 - OI2: INFO - []\n",
      "01:44:29 - OI2: INFO - Members of the prize file not present in the interactome:\n",
      "01:44:29 - OI2: INFO - []\n"
     ]
    },
    {
     "name": "stdout",
     "output_type": "stream",
     "text": [
      "progress = 58.099999999999994%\n"
     ]
    },
    {
     "name": "stderr",
     "output_type": "stream",
     "text": [
      "01:44:32 - OI2: INFO - Duplicated gene symbols in the prize file (we'll keep the max prize):\n",
      "01:44:32 - OI2: INFO - []\n",
      "01:44:32 - OI2: INFO - Members of the prize file not present in the interactome:\n",
      "01:44:32 - OI2: INFO - []\n"
     ]
    },
    {
     "name": "stdout",
     "output_type": "stream",
     "text": [
      "progress = 58.199999999999996%\n"
     ]
    },
    {
     "name": "stderr",
     "output_type": "stream",
     "text": [
      "01:44:34 - OI2: INFO - Duplicated gene symbols in the prize file (we'll keep the max prize):\n",
      "01:44:34 - OI2: INFO - []\n",
      "01:44:34 - OI2: INFO - Members of the prize file not present in the interactome:\n",
      "01:44:34 - OI2: INFO - []\n"
     ]
    },
    {
     "name": "stdout",
     "output_type": "stream",
     "text": [
      "progress = 58.3%\n"
     ]
    },
    {
     "name": "stderr",
     "output_type": "stream",
     "text": [
      "01:44:37 - OI2: INFO - Duplicated gene symbols in the prize file (we'll keep the max prize):\n",
      "01:44:37 - OI2: INFO - []\n",
      "01:44:37 - OI2: INFO - Members of the prize file not present in the interactome:\n",
      "01:44:37 - OI2: INFO - []\n"
     ]
    },
    {
     "name": "stdout",
     "output_type": "stream",
     "text": [
      "progress = 58.4%\n"
     ]
    },
    {
     "name": "stderr",
     "output_type": "stream",
     "text": [
      "01:44:40 - OI2: INFO - Duplicated gene symbols in the prize file (we'll keep the max prize):\n",
      "01:44:40 - OI2: INFO - []\n",
      "01:44:40 - OI2: INFO - Members of the prize file not present in the interactome:\n",
      "01:44:40 - OI2: INFO - []\n"
     ]
    },
    {
     "name": "stdout",
     "output_type": "stream",
     "text": [
      "progress = 58.5%\n"
     ]
    },
    {
     "name": "stderr",
     "output_type": "stream",
     "text": [
      "01:44:42 - OI2: INFO - Duplicated gene symbols in the prize file (we'll keep the max prize):\n",
      "01:44:42 - OI2: INFO - []\n",
      "01:44:42 - OI2: INFO - Members of the prize file not present in the interactome:\n",
      "01:44:42 - OI2: INFO - []\n"
     ]
    },
    {
     "name": "stdout",
     "output_type": "stream",
     "text": [
      "progress = 58.599999999999994%\n"
     ]
    },
    {
     "name": "stderr",
     "output_type": "stream",
     "text": [
      "01:44:45 - OI2: INFO - Duplicated gene symbols in the prize file (we'll keep the max prize):\n",
      "01:44:45 - OI2: INFO - []\n",
      "01:44:45 - OI2: INFO - Members of the prize file not present in the interactome:\n",
      "01:44:45 - OI2: INFO - []\n"
     ]
    },
    {
     "name": "stdout",
     "output_type": "stream",
     "text": [
      "progress = 58.699999999999996%\n"
     ]
    },
    {
     "name": "stderr",
     "output_type": "stream",
     "text": [
      "01:44:48 - OI2: INFO - Duplicated gene symbols in the prize file (we'll keep the max prize):\n",
      "01:44:48 - OI2: INFO - []\n",
      "01:44:48 - OI2: INFO - Members of the prize file not present in the interactome:\n",
      "01:44:48 - OI2: INFO - []\n"
     ]
    },
    {
     "name": "stdout",
     "output_type": "stream",
     "text": [
      "progress = 58.8%\n"
     ]
    },
    {
     "name": "stderr",
     "output_type": "stream",
     "text": [
      "01:44:51 - OI2: INFO - Duplicated gene symbols in the prize file (we'll keep the max prize):\n",
      "01:44:51 - OI2: INFO - []\n",
      "01:44:51 - OI2: INFO - Members of the prize file not present in the interactome:\n",
      "01:44:51 - OI2: INFO - []\n"
     ]
    },
    {
     "name": "stdout",
     "output_type": "stream",
     "text": [
      "progress = 58.9%\n"
     ]
    },
    {
     "name": "stderr",
     "output_type": "stream",
     "text": [
      "01:44:53 - OI2: INFO - Duplicated gene symbols in the prize file (we'll keep the max prize):\n",
      "01:44:53 - OI2: INFO - []\n",
      "01:44:53 - OI2: INFO - Members of the prize file not present in the interactome:\n",
      "01:44:53 - OI2: INFO - []\n"
     ]
    },
    {
     "name": "stdout",
     "output_type": "stream",
     "text": [
      "progress = 59.0%\n"
     ]
    },
    {
     "name": "stderr",
     "output_type": "stream",
     "text": [
      "01:44:56 - OI2: INFO - Duplicated gene symbols in the prize file (we'll keep the max prize):\n",
      "01:44:56 - OI2: INFO - []\n",
      "01:44:56 - OI2: INFO - Members of the prize file not present in the interactome:\n",
      "01:44:56 - OI2: INFO - []\n"
     ]
    },
    {
     "name": "stdout",
     "output_type": "stream",
     "text": [
      "progress = 59.099999999999994%\n"
     ]
    },
    {
     "name": "stderr",
     "output_type": "stream",
     "text": [
      "01:44:59 - OI2: INFO - Duplicated gene symbols in the prize file (we'll keep the max prize):\n",
      "01:44:59 - OI2: INFO - []\n",
      "01:44:59 - OI2: INFO - Members of the prize file not present in the interactome:\n",
      "01:44:59 - OI2: INFO - []\n"
     ]
    },
    {
     "name": "stdout",
     "output_type": "stream",
     "text": [
      "progress = 59.199999999999996%\n"
     ]
    },
    {
     "name": "stderr",
     "output_type": "stream",
     "text": [
      "01:45:01 - OI2: INFO - Duplicated gene symbols in the prize file (we'll keep the max prize):\n",
      "01:45:01 - OI2: INFO - []\n",
      "01:45:01 - OI2: INFO - Members of the prize file not present in the interactome:\n",
      "01:45:01 - OI2: INFO - []\n"
     ]
    },
    {
     "name": "stdout",
     "output_type": "stream",
     "text": [
      "progress = 59.3%\n"
     ]
    },
    {
     "name": "stderr",
     "output_type": "stream",
     "text": [
      "01:45:04 - OI2: INFO - Duplicated gene symbols in the prize file (we'll keep the max prize):\n",
      "01:45:04 - OI2: INFO - []\n",
      "01:45:04 - OI2: INFO - Members of the prize file not present in the interactome:\n",
      "01:45:04 - OI2: INFO - []\n"
     ]
    },
    {
     "name": "stdout",
     "output_type": "stream",
     "text": [
      "progress = 59.4%\n"
     ]
    },
    {
     "name": "stderr",
     "output_type": "stream",
     "text": [
      "01:45:07 - OI2: INFO - Duplicated gene symbols in the prize file (we'll keep the max prize):\n",
      "01:45:07 - OI2: INFO - []\n",
      "01:45:07 - OI2: INFO - Members of the prize file not present in the interactome:\n",
      "01:45:07 - OI2: INFO - []\n"
     ]
    },
    {
     "name": "stdout",
     "output_type": "stream",
     "text": [
      "progress = 59.5%\n"
     ]
    },
    {
     "name": "stderr",
     "output_type": "stream",
     "text": [
      "01:45:09 - OI2: INFO - Duplicated gene symbols in the prize file (we'll keep the max prize):\n",
      "01:45:09 - OI2: INFO - []\n",
      "01:45:09 - OI2: INFO - Members of the prize file not present in the interactome:\n",
      "01:45:09 - OI2: INFO - []\n"
     ]
    },
    {
     "name": "stdout",
     "output_type": "stream",
     "text": [
      "progress = 59.599999999999994%\n"
     ]
    },
    {
     "name": "stderr",
     "output_type": "stream",
     "text": [
      "01:45:12 - OI2: INFO - Duplicated gene symbols in the prize file (we'll keep the max prize):\n",
      "01:45:12 - OI2: INFO - []\n",
      "01:45:12 - OI2: INFO - Members of the prize file not present in the interactome:\n",
      "01:45:12 - OI2: INFO - []\n"
     ]
    },
    {
     "name": "stdout",
     "output_type": "stream",
     "text": [
      "progress = 59.699999999999996%\n"
     ]
    },
    {
     "name": "stderr",
     "output_type": "stream",
     "text": [
      "01:45:14 - OI2: INFO - Duplicated gene symbols in the prize file (we'll keep the max prize):\n",
      "01:45:14 - OI2: INFO - []\n",
      "01:45:14 - OI2: INFO - Members of the prize file not present in the interactome:\n",
      "01:45:14 - OI2: INFO - []\n"
     ]
    },
    {
     "name": "stdout",
     "output_type": "stream",
     "text": [
      "progress = 59.8%\n"
     ]
    },
    {
     "name": "stderr",
     "output_type": "stream",
     "text": [
      "01:45:17 - OI2: INFO - Duplicated gene symbols in the prize file (we'll keep the max prize):\n",
      "01:45:17 - OI2: INFO - []\n",
      "01:45:17 - OI2: INFO - Members of the prize file not present in the interactome:\n",
      "01:45:17 - OI2: INFO - []\n"
     ]
    },
    {
     "name": "stdout",
     "output_type": "stream",
     "text": [
      "progress = 59.9%\n"
     ]
    },
    {
     "name": "stderr",
     "output_type": "stream",
     "text": [
      "01:45:20 - OI2: INFO - Duplicated gene symbols in the prize file (we'll keep the max prize):\n",
      "01:45:20 - OI2: INFO - []\n",
      "01:45:20 - OI2: INFO - Members of the prize file not present in the interactome:\n",
      "01:45:20 - OI2: INFO - []\n"
     ]
    },
    {
     "name": "stdout",
     "output_type": "stream",
     "text": [
      "progress = 60.0%\n"
     ]
    },
    {
     "name": "stderr",
     "output_type": "stream",
     "text": [
      "01:45:23 - OI2: INFO - Duplicated gene symbols in the prize file (we'll keep the max prize):\n",
      "01:45:23 - OI2: INFO - []\n",
      "01:45:23 - OI2: INFO - Members of the prize file not present in the interactome:\n",
      "01:45:23 - OI2: INFO - []\n"
     ]
    },
    {
     "name": "stdout",
     "output_type": "stream",
     "text": [
      "progress = 60.099999999999994%\n"
     ]
    },
    {
     "name": "stderr",
     "output_type": "stream",
     "text": [
      "01:45:25 - OI2: INFO - Duplicated gene symbols in the prize file (we'll keep the max prize):\n",
      "01:45:25 - OI2: INFO - []\n",
      "01:45:25 - OI2: INFO - Members of the prize file not present in the interactome:\n",
      "01:45:25 - OI2: INFO - []\n"
     ]
    },
    {
     "name": "stdout",
     "output_type": "stream",
     "text": [
      "progress = 60.199999999999996%\n"
     ]
    },
    {
     "name": "stderr",
     "output_type": "stream",
     "text": [
      "01:45:28 - OI2: INFO - Duplicated gene symbols in the prize file (we'll keep the max prize):\n",
      "01:45:28 - OI2: INFO - []\n",
      "01:45:28 - OI2: INFO - Members of the prize file not present in the interactome:\n",
      "01:45:28 - OI2: INFO - []\n"
     ]
    },
    {
     "name": "stdout",
     "output_type": "stream",
     "text": [
      "progress = 60.3%\n"
     ]
    },
    {
     "name": "stderr",
     "output_type": "stream",
     "text": [
      "01:45:31 - OI2: INFO - Duplicated gene symbols in the prize file (we'll keep the max prize):\n",
      "01:45:31 - OI2: INFO - []\n",
      "01:45:31 - OI2: INFO - Members of the prize file not present in the interactome:\n",
      "01:45:31 - OI2: INFO - []\n"
     ]
    },
    {
     "name": "stdout",
     "output_type": "stream",
     "text": [
      "progress = 60.4%\n"
     ]
    },
    {
     "name": "stderr",
     "output_type": "stream",
     "text": [
      "01:45:33 - OI2: INFO - Duplicated gene symbols in the prize file (we'll keep the max prize):\n",
      "01:45:33 - OI2: INFO - []\n",
      "01:45:33 - OI2: INFO - Members of the prize file not present in the interactome:\n",
      "01:45:33 - OI2: INFO - []\n"
     ]
    },
    {
     "name": "stdout",
     "output_type": "stream",
     "text": [
      "progress = 60.5%\n"
     ]
    },
    {
     "name": "stderr",
     "output_type": "stream",
     "text": [
      "01:45:36 - OI2: INFO - Duplicated gene symbols in the prize file (we'll keep the max prize):\n",
      "01:45:36 - OI2: INFO - []\n",
      "01:45:36 - OI2: INFO - Members of the prize file not present in the interactome:\n",
      "01:45:36 - OI2: INFO - []\n"
     ]
    },
    {
     "name": "stdout",
     "output_type": "stream",
     "text": [
      "progress = 60.6%\n"
     ]
    },
    {
     "name": "stderr",
     "output_type": "stream",
     "text": [
      "01:45:39 - OI2: INFO - Duplicated gene symbols in the prize file (we'll keep the max prize):\n",
      "01:45:39 - OI2: INFO - []\n",
      "01:45:39 - OI2: INFO - Members of the prize file not present in the interactome:\n",
      "01:45:39 - OI2: INFO - []\n"
     ]
    },
    {
     "name": "stdout",
     "output_type": "stream",
     "text": [
      "progress = 60.699999999999996%\n"
     ]
    },
    {
     "name": "stderr",
     "output_type": "stream",
     "text": [
      "01:45:41 - OI2: INFO - Duplicated gene symbols in the prize file (we'll keep the max prize):\n",
      "01:45:41 - OI2: INFO - []\n",
      "01:45:41 - OI2: INFO - Members of the prize file not present in the interactome:\n",
      "01:45:41 - OI2: INFO - []\n"
     ]
    },
    {
     "name": "stdout",
     "output_type": "stream",
     "text": [
      "progress = 60.8%\n"
     ]
    },
    {
     "name": "stderr",
     "output_type": "stream",
     "text": [
      "01:45:44 - OI2: INFO - Duplicated gene symbols in the prize file (we'll keep the max prize):\n",
      "01:45:44 - OI2: INFO - []\n",
      "01:45:44 - OI2: INFO - Members of the prize file not present in the interactome:\n",
      "01:45:44 - OI2: INFO - []\n"
     ]
    },
    {
     "name": "stdout",
     "output_type": "stream",
     "text": [
      "progress = 60.9%\n"
     ]
    },
    {
     "name": "stderr",
     "output_type": "stream",
     "text": [
      "01:45:47 - OI2: INFO - Duplicated gene symbols in the prize file (we'll keep the max prize):\n",
      "01:45:47 - OI2: INFO - []\n",
      "01:45:47 - OI2: INFO - Members of the prize file not present in the interactome:\n",
      "01:45:47 - OI2: INFO - []\n"
     ]
    },
    {
     "name": "stdout",
     "output_type": "stream",
     "text": [
      "progress = 61.0%\n"
     ]
    },
    {
     "name": "stderr",
     "output_type": "stream",
     "text": [
      "01:45:49 - OI2: INFO - Duplicated gene symbols in the prize file (we'll keep the max prize):\n",
      "01:45:49 - OI2: INFO - []\n",
      "01:45:49 - OI2: INFO - Members of the prize file not present in the interactome:\n",
      "01:45:49 - OI2: INFO - []\n"
     ]
    },
    {
     "name": "stdout",
     "output_type": "stream",
     "text": [
      "progress = 61.1%\n"
     ]
    },
    {
     "name": "stderr",
     "output_type": "stream",
     "text": [
      "01:45:52 - OI2: INFO - Duplicated gene symbols in the prize file (we'll keep the max prize):\n",
      "01:45:52 - OI2: INFO - []\n",
      "01:45:52 - OI2: INFO - Members of the prize file not present in the interactome:\n",
      "01:45:52 - OI2: INFO - []\n"
     ]
    },
    {
     "name": "stdout",
     "output_type": "stream",
     "text": [
      "progress = 61.199999999999996%\n"
     ]
    },
    {
     "name": "stderr",
     "output_type": "stream",
     "text": [
      "01:45:54 - OI2: INFO - Duplicated gene symbols in the prize file (we'll keep the max prize):\n",
      "01:45:54 - OI2: INFO - []\n",
      "01:45:54 - OI2: INFO - Members of the prize file not present in the interactome:\n",
      "01:45:54 - OI2: INFO - []\n"
     ]
    },
    {
     "name": "stdout",
     "output_type": "stream",
     "text": [
      "progress = 61.3%\n"
     ]
    },
    {
     "name": "stderr",
     "output_type": "stream",
     "text": [
      "01:45:57 - OI2: INFO - Duplicated gene symbols in the prize file (we'll keep the max prize):\n",
      "01:45:57 - OI2: INFO - []\n",
      "01:45:57 - OI2: INFO - Members of the prize file not present in the interactome:\n",
      "01:45:57 - OI2: INFO - []\n"
     ]
    },
    {
     "name": "stdout",
     "output_type": "stream",
     "text": [
      "progress = 61.4%\n"
     ]
    },
    {
     "name": "stderr",
     "output_type": "stream",
     "text": [
      "01:46:00 - OI2: INFO - Duplicated gene symbols in the prize file (we'll keep the max prize):\n",
      "01:46:00 - OI2: INFO - []\n",
      "01:46:00 - OI2: INFO - Members of the prize file not present in the interactome:\n",
      "01:46:00 - OI2: INFO - []\n"
     ]
    },
    {
     "name": "stdout",
     "output_type": "stream",
     "text": [
      "progress = 61.5%\n"
     ]
    },
    {
     "name": "stderr",
     "output_type": "stream",
     "text": [
      "01:46:02 - OI2: INFO - Duplicated gene symbols in the prize file (we'll keep the max prize):\n",
      "01:46:02 - OI2: INFO - []\n",
      "01:46:02 - OI2: INFO - Members of the prize file not present in the interactome:\n",
      "01:46:02 - OI2: INFO - []\n"
     ]
    },
    {
     "name": "stdout",
     "output_type": "stream",
     "text": [
      "progress = 61.6%\n"
     ]
    },
    {
     "name": "stderr",
     "output_type": "stream",
     "text": [
      "01:46:05 - OI2: INFO - Duplicated gene symbols in the prize file (we'll keep the max prize):\n",
      "01:46:05 - OI2: INFO - []\n",
      "01:46:05 - OI2: INFO - Members of the prize file not present in the interactome:\n",
      "01:46:05 - OI2: INFO - []\n"
     ]
    },
    {
     "name": "stdout",
     "output_type": "stream",
     "text": [
      "progress = 61.7%\n"
     ]
    },
    {
     "name": "stderr",
     "output_type": "stream",
     "text": [
      "01:46:08 - OI2: INFO - Duplicated gene symbols in the prize file (we'll keep the max prize):\n",
      "01:46:08 - OI2: INFO - []\n",
      "01:46:08 - OI2: INFO - Members of the prize file not present in the interactome:\n",
      "01:46:08 - OI2: INFO - []\n"
     ]
    },
    {
     "name": "stdout",
     "output_type": "stream",
     "text": [
      "progress = 61.8%\n"
     ]
    },
    {
     "name": "stderr",
     "output_type": "stream",
     "text": [
      "01:46:10 - OI2: INFO - Duplicated gene symbols in the prize file (we'll keep the max prize):\n",
      "01:46:10 - OI2: INFO - []\n",
      "01:46:10 - OI2: INFO - Members of the prize file not present in the interactome:\n",
      "01:46:10 - OI2: INFO - []\n"
     ]
    },
    {
     "name": "stdout",
     "output_type": "stream",
     "text": [
      "progress = 61.9%\n"
     ]
    },
    {
     "name": "stderr",
     "output_type": "stream",
     "text": [
      "01:46:13 - OI2: INFO - Duplicated gene symbols in the prize file (we'll keep the max prize):\n",
      "01:46:13 - OI2: INFO - []\n",
      "01:46:13 - OI2: INFO - Members of the prize file not present in the interactome:\n",
      "01:46:13 - OI2: INFO - []\n"
     ]
    },
    {
     "name": "stdout",
     "output_type": "stream",
     "text": [
      "progress = 62.0%\n"
     ]
    },
    {
     "name": "stderr",
     "output_type": "stream",
     "text": [
      "01:46:16 - OI2: INFO - Duplicated gene symbols in the prize file (we'll keep the max prize):\n",
      "01:46:16 - OI2: INFO - []\n",
      "01:46:16 - OI2: INFO - Members of the prize file not present in the interactome:\n",
      "01:46:16 - OI2: INFO - []\n"
     ]
    },
    {
     "name": "stdout",
     "output_type": "stream",
     "text": [
      "progress = 62.1%\n"
     ]
    },
    {
     "name": "stderr",
     "output_type": "stream",
     "text": [
      "01:46:18 - OI2: INFO - Duplicated gene symbols in the prize file (we'll keep the max prize):\n",
      "01:46:18 - OI2: INFO - []\n",
      "01:46:18 - OI2: INFO - Members of the prize file not present in the interactome:\n",
      "01:46:18 - OI2: INFO - []\n"
     ]
    },
    {
     "name": "stdout",
     "output_type": "stream",
     "text": [
      "progress = 62.2%\n"
     ]
    },
    {
     "name": "stderr",
     "output_type": "stream",
     "text": [
      "01:46:21 - OI2: INFO - Duplicated gene symbols in the prize file (we'll keep the max prize):\n",
      "01:46:21 - OI2: INFO - []\n",
      "01:46:21 - OI2: INFO - Members of the prize file not present in the interactome:\n",
      "01:46:21 - OI2: INFO - []\n"
     ]
    },
    {
     "name": "stdout",
     "output_type": "stream",
     "text": [
      "progress = 62.3%\n"
     ]
    },
    {
     "name": "stderr",
     "output_type": "stream",
     "text": [
      "01:46:24 - OI2: INFO - Duplicated gene symbols in the prize file (we'll keep the max prize):\n",
      "01:46:24 - OI2: INFO - []\n",
      "01:46:24 - OI2: INFO - Members of the prize file not present in the interactome:\n",
      "01:46:24 - OI2: INFO - []\n"
     ]
    },
    {
     "name": "stdout",
     "output_type": "stream",
     "text": [
      "progress = 62.4%\n"
     ]
    },
    {
     "name": "stderr",
     "output_type": "stream",
     "text": [
      "01:46:27 - OI2: INFO - Duplicated gene symbols in the prize file (we'll keep the max prize):\n",
      "01:46:27 - OI2: INFO - []\n",
      "01:46:27 - OI2: INFO - Members of the prize file not present in the interactome:\n",
      "01:46:27 - OI2: INFO - []\n"
     ]
    },
    {
     "name": "stdout",
     "output_type": "stream",
     "text": [
      "progress = 62.5%\n"
     ]
    },
    {
     "name": "stderr",
     "output_type": "stream",
     "text": [
      "01:46:29 - OI2: INFO - Duplicated gene symbols in the prize file (we'll keep the max prize):\n",
      "01:46:29 - OI2: INFO - []\n",
      "01:46:29 - OI2: INFO - Members of the prize file not present in the interactome:\n",
      "01:46:29 - OI2: INFO - []\n"
     ]
    },
    {
     "name": "stdout",
     "output_type": "stream",
     "text": [
      "progress = 62.6%\n"
     ]
    },
    {
     "name": "stderr",
     "output_type": "stream",
     "text": [
      "01:46:32 - OI2: INFO - Duplicated gene symbols in the prize file (we'll keep the max prize):\n",
      "01:46:32 - OI2: INFO - []\n",
      "01:46:32 - OI2: INFO - Members of the prize file not present in the interactome:\n",
      "01:46:32 - OI2: INFO - []\n"
     ]
    },
    {
     "name": "stdout",
     "output_type": "stream",
     "text": [
      "progress = 62.7%\n"
     ]
    },
    {
     "name": "stderr",
     "output_type": "stream",
     "text": [
      "01:46:35 - OI2: INFO - Duplicated gene symbols in the prize file (we'll keep the max prize):\n",
      "01:46:35 - OI2: INFO - []\n",
      "01:46:35 - OI2: INFO - Members of the prize file not present in the interactome:\n",
      "01:46:35 - OI2: INFO - []\n"
     ]
    },
    {
     "name": "stdout",
     "output_type": "stream",
     "text": [
      "progress = 62.8%\n"
     ]
    },
    {
     "name": "stderr",
     "output_type": "stream",
     "text": [
      "01:46:37 - OI2: INFO - Duplicated gene symbols in the prize file (we'll keep the max prize):\n",
      "01:46:37 - OI2: INFO - []\n",
      "01:46:37 - OI2: INFO - Members of the prize file not present in the interactome:\n",
      "01:46:37 - OI2: INFO - []\n"
     ]
    },
    {
     "name": "stdout",
     "output_type": "stream",
     "text": [
      "progress = 62.9%\n"
     ]
    },
    {
     "name": "stderr",
     "output_type": "stream",
     "text": [
      "01:46:40 - OI2: INFO - Duplicated gene symbols in the prize file (we'll keep the max prize):\n",
      "01:46:40 - OI2: INFO - []\n",
      "01:46:40 - OI2: INFO - Members of the prize file not present in the interactome:\n",
      "01:46:40 - OI2: INFO - []\n"
     ]
    },
    {
     "name": "stdout",
     "output_type": "stream",
     "text": [
      "progress = 63.0%\n"
     ]
    },
    {
     "name": "stderr",
     "output_type": "stream",
     "text": [
      "01:46:43 - OI2: INFO - Duplicated gene symbols in the prize file (we'll keep the max prize):\n",
      "01:46:43 - OI2: INFO - []\n",
      "01:46:43 - OI2: INFO - Members of the prize file not present in the interactome:\n",
      "01:46:43 - OI2: INFO - []\n"
     ]
    },
    {
     "name": "stdout",
     "output_type": "stream",
     "text": [
      "progress = 63.1%\n"
     ]
    },
    {
     "name": "stderr",
     "output_type": "stream",
     "text": [
      "01:46:45 - OI2: INFO - Duplicated gene symbols in the prize file (we'll keep the max prize):\n",
      "01:46:45 - OI2: INFO - []\n",
      "01:46:45 - OI2: INFO - Members of the prize file not present in the interactome:\n",
      "01:46:45 - OI2: INFO - []\n"
     ]
    },
    {
     "name": "stdout",
     "output_type": "stream",
     "text": [
      "progress = 63.2%\n"
     ]
    },
    {
     "name": "stderr",
     "output_type": "stream",
     "text": [
      "01:46:48 - OI2: INFO - Duplicated gene symbols in the prize file (we'll keep the max prize):\n",
      "01:46:48 - OI2: INFO - []\n",
      "01:46:48 - OI2: INFO - Members of the prize file not present in the interactome:\n",
      "01:46:48 - OI2: INFO - []\n"
     ]
    },
    {
     "name": "stdout",
     "output_type": "stream",
     "text": [
      "progress = 63.3%\n"
     ]
    },
    {
     "name": "stderr",
     "output_type": "stream",
     "text": [
      "01:46:51 - OI2: INFO - Duplicated gene symbols in the prize file (we'll keep the max prize):\n",
      "01:46:51 - OI2: INFO - []\n",
      "01:46:51 - OI2: INFO - Members of the prize file not present in the interactome:\n",
      "01:46:51 - OI2: INFO - []\n"
     ]
    },
    {
     "name": "stdout",
     "output_type": "stream",
     "text": [
      "progress = 63.4%\n"
     ]
    },
    {
     "name": "stderr",
     "output_type": "stream",
     "text": [
      "01:46:54 - OI2: INFO - Duplicated gene symbols in the prize file (we'll keep the max prize):\n",
      "01:46:54 - OI2: INFO - []\n",
      "01:46:54 - OI2: INFO - Members of the prize file not present in the interactome:\n",
      "01:46:54 - OI2: INFO - []\n"
     ]
    },
    {
     "name": "stdout",
     "output_type": "stream",
     "text": [
      "progress = 63.5%\n"
     ]
    },
    {
     "name": "stderr",
     "output_type": "stream",
     "text": [
      "01:46:56 - OI2: INFO - Duplicated gene symbols in the prize file (we'll keep the max prize):\n",
      "01:46:56 - OI2: INFO - []\n",
      "01:46:56 - OI2: INFO - Members of the prize file not present in the interactome:\n",
      "01:46:56 - OI2: INFO - []\n"
     ]
    },
    {
     "name": "stdout",
     "output_type": "stream",
     "text": [
      "progress = 63.6%\n"
     ]
    },
    {
     "name": "stderr",
     "output_type": "stream",
     "text": [
      "01:46:59 - OI2: INFO - Duplicated gene symbols in the prize file (we'll keep the max prize):\n",
      "01:46:59 - OI2: INFO - []\n",
      "01:46:59 - OI2: INFO - Members of the prize file not present in the interactome:\n",
      "01:46:59 - OI2: INFO - []\n"
     ]
    },
    {
     "name": "stdout",
     "output_type": "stream",
     "text": [
      "progress = 63.7%\n"
     ]
    },
    {
     "name": "stderr",
     "output_type": "stream",
     "text": [
      "01:47:02 - OI2: INFO - Duplicated gene symbols in the prize file (we'll keep the max prize):\n",
      "01:47:02 - OI2: INFO - []\n",
      "01:47:02 - OI2: INFO - Members of the prize file not present in the interactome:\n",
      "01:47:02 - OI2: INFO - []\n"
     ]
    },
    {
     "name": "stdout",
     "output_type": "stream",
     "text": [
      "progress = 63.800000000000004%\n"
     ]
    },
    {
     "name": "stderr",
     "output_type": "stream",
     "text": [
      "01:47:04 - OI2: INFO - Duplicated gene symbols in the prize file (we'll keep the max prize):\n",
      "01:47:04 - OI2: INFO - []\n",
      "01:47:04 - OI2: INFO - Members of the prize file not present in the interactome:\n",
      "01:47:04 - OI2: INFO - []\n"
     ]
    },
    {
     "name": "stdout",
     "output_type": "stream",
     "text": [
      "progress = 63.9%\n"
     ]
    },
    {
     "name": "stderr",
     "output_type": "stream",
     "text": [
      "01:47:07 - OI2: INFO - Duplicated gene symbols in the prize file (we'll keep the max prize):\n",
      "01:47:07 - OI2: INFO - []\n",
      "01:47:07 - OI2: INFO - Members of the prize file not present in the interactome:\n",
      "01:47:07 - OI2: INFO - []\n"
     ]
    },
    {
     "name": "stdout",
     "output_type": "stream",
     "text": [
      "progress = 64.0%\n"
     ]
    },
    {
     "name": "stderr",
     "output_type": "stream",
     "text": [
      "01:47:10 - OI2: INFO - Duplicated gene symbols in the prize file (we'll keep the max prize):\n",
      "01:47:10 - OI2: INFO - []\n",
      "01:47:10 - OI2: INFO - Members of the prize file not present in the interactome:\n",
      "01:47:10 - OI2: INFO - []\n"
     ]
    },
    {
     "name": "stdout",
     "output_type": "stream",
     "text": [
      "progress = 64.1%\n"
     ]
    },
    {
     "name": "stderr",
     "output_type": "stream",
     "text": [
      "01:47:12 - OI2: INFO - Duplicated gene symbols in the prize file (we'll keep the max prize):\n",
      "01:47:12 - OI2: INFO - []\n",
      "01:47:12 - OI2: INFO - Members of the prize file not present in the interactome:\n",
      "01:47:12 - OI2: INFO - []\n"
     ]
    },
    {
     "name": "stdout",
     "output_type": "stream",
     "text": [
      "progress = 64.2%\n"
     ]
    },
    {
     "name": "stderr",
     "output_type": "stream",
     "text": [
      "01:47:15 - OI2: INFO - Duplicated gene symbols in the prize file (we'll keep the max prize):\n",
      "01:47:15 - OI2: INFO - []\n",
      "01:47:15 - OI2: INFO - Members of the prize file not present in the interactome:\n",
      "01:47:15 - OI2: INFO - []\n"
     ]
    },
    {
     "name": "stdout",
     "output_type": "stream",
     "text": [
      "progress = 64.3%\n"
     ]
    },
    {
     "name": "stderr",
     "output_type": "stream",
     "text": [
      "01:47:18 - OI2: INFO - Duplicated gene symbols in the prize file (we'll keep the max prize):\n",
      "01:47:18 - OI2: INFO - []\n",
      "01:47:18 - OI2: INFO - Members of the prize file not present in the interactome:\n",
      "01:47:18 - OI2: INFO - []\n"
     ]
    },
    {
     "name": "stdout",
     "output_type": "stream",
     "text": [
      "progress = 64.4%\n"
     ]
    },
    {
     "name": "stderr",
     "output_type": "stream",
     "text": [
      "01:47:20 - OI2: INFO - Duplicated gene symbols in the prize file (we'll keep the max prize):\n",
      "01:47:20 - OI2: INFO - []\n",
      "01:47:20 - OI2: INFO - Members of the prize file not present in the interactome:\n",
      "01:47:20 - OI2: INFO - []\n"
     ]
    },
    {
     "name": "stdout",
     "output_type": "stream",
     "text": [
      "progress = 64.5%\n"
     ]
    },
    {
     "name": "stderr",
     "output_type": "stream",
     "text": [
      "01:47:23 - OI2: INFO - Duplicated gene symbols in the prize file (we'll keep the max prize):\n",
      "01:47:23 - OI2: INFO - []\n",
      "01:47:23 - OI2: INFO - Members of the prize file not present in the interactome:\n",
      "01:47:23 - OI2: INFO - []\n"
     ]
    },
    {
     "name": "stdout",
     "output_type": "stream",
     "text": [
      "progress = 64.60000000000001%\n"
     ]
    },
    {
     "name": "stderr",
     "output_type": "stream",
     "text": [
      "01:47:26 - OI2: INFO - Duplicated gene symbols in the prize file (we'll keep the max prize):\n",
      "01:47:26 - OI2: INFO - []\n",
      "01:47:26 - OI2: INFO - Members of the prize file not present in the interactome:\n",
      "01:47:26 - OI2: INFO - []\n"
     ]
    },
    {
     "name": "stdout",
     "output_type": "stream",
     "text": [
      "progress = 64.7%\n"
     ]
    },
    {
     "name": "stderr",
     "output_type": "stream",
     "text": [
      "01:47:28 - OI2: INFO - Duplicated gene symbols in the prize file (we'll keep the max prize):\n",
      "01:47:28 - OI2: INFO - []\n",
      "01:47:28 - OI2: INFO - Members of the prize file not present in the interactome:\n",
      "01:47:28 - OI2: INFO - []\n"
     ]
    },
    {
     "name": "stdout",
     "output_type": "stream",
     "text": [
      "progress = 64.8%\n"
     ]
    },
    {
     "name": "stderr",
     "output_type": "stream",
     "text": [
      "01:47:31 - OI2: INFO - Duplicated gene symbols in the prize file (we'll keep the max prize):\n",
      "01:47:31 - OI2: INFO - []\n",
      "01:47:31 - OI2: INFO - Members of the prize file not present in the interactome:\n",
      "01:47:31 - OI2: INFO - []\n"
     ]
    },
    {
     "name": "stdout",
     "output_type": "stream",
     "text": [
      "progress = 64.9%\n"
     ]
    },
    {
     "name": "stderr",
     "output_type": "stream",
     "text": [
      "01:47:34 - OI2: INFO - Duplicated gene symbols in the prize file (we'll keep the max prize):\n",
      "01:47:34 - OI2: INFO - []\n",
      "01:47:34 - OI2: INFO - Members of the prize file not present in the interactome:\n",
      "01:47:34 - OI2: INFO - []\n"
     ]
    },
    {
     "name": "stdout",
     "output_type": "stream",
     "text": [
      "progress = 65.0%\n"
     ]
    },
    {
     "name": "stderr",
     "output_type": "stream",
     "text": [
      "01:47:36 - OI2: INFO - Duplicated gene symbols in the prize file (we'll keep the max prize):\n",
      "01:47:36 - OI2: INFO - []\n",
      "01:47:36 - OI2: INFO - Members of the prize file not present in the interactome:\n",
      "01:47:36 - OI2: INFO - []\n"
     ]
    },
    {
     "name": "stdout",
     "output_type": "stream",
     "text": [
      "progress = 65.10000000000001%\n"
     ]
    },
    {
     "name": "stderr",
     "output_type": "stream",
     "text": [
      "01:47:39 - OI2: INFO - Duplicated gene symbols in the prize file (we'll keep the max prize):\n",
      "01:47:39 - OI2: INFO - []\n",
      "01:47:39 - OI2: INFO - Members of the prize file not present in the interactome:\n",
      "01:47:39 - OI2: INFO - []\n"
     ]
    },
    {
     "name": "stdout",
     "output_type": "stream",
     "text": [
      "progress = 65.2%\n"
     ]
    },
    {
     "name": "stderr",
     "output_type": "stream",
     "text": [
      "01:47:42 - OI2: INFO - Duplicated gene symbols in the prize file (we'll keep the max prize):\n",
      "01:47:42 - OI2: INFO - []\n",
      "01:47:42 - OI2: INFO - Members of the prize file not present in the interactome:\n",
      "01:47:42 - OI2: INFO - []\n"
     ]
    },
    {
     "name": "stdout",
     "output_type": "stream",
     "text": [
      "progress = 65.3%\n"
     ]
    },
    {
     "name": "stderr",
     "output_type": "stream",
     "text": [
      "01:47:44 - OI2: INFO - Duplicated gene symbols in the prize file (we'll keep the max prize):\n",
      "01:47:44 - OI2: INFO - []\n",
      "01:47:44 - OI2: INFO - Members of the prize file not present in the interactome:\n",
      "01:47:44 - OI2: INFO - []\n"
     ]
    },
    {
     "name": "stdout",
     "output_type": "stream",
     "text": [
      "progress = 65.4%\n"
     ]
    },
    {
     "name": "stderr",
     "output_type": "stream",
     "text": [
      "01:47:47 - OI2: INFO - Duplicated gene symbols in the prize file (we'll keep the max prize):\n",
      "01:47:47 - OI2: INFO - []\n",
      "01:47:47 - OI2: INFO - Members of the prize file not present in the interactome:\n",
      "01:47:47 - OI2: INFO - []\n"
     ]
    },
    {
     "name": "stdout",
     "output_type": "stream",
     "text": [
      "progress = 65.5%\n"
     ]
    },
    {
     "name": "stderr",
     "output_type": "stream",
     "text": [
      "01:47:50 - OI2: INFO - Duplicated gene symbols in the prize file (we'll keep the max prize):\n",
      "01:47:50 - OI2: INFO - []\n",
      "01:47:50 - OI2: INFO - Members of the prize file not present in the interactome:\n",
      "01:47:50 - OI2: INFO - []\n"
     ]
    },
    {
     "name": "stdout",
     "output_type": "stream",
     "text": [
      "progress = 65.60000000000001%\n"
     ]
    },
    {
     "name": "stderr",
     "output_type": "stream",
     "text": [
      "01:47:52 - OI2: INFO - Duplicated gene symbols in the prize file (we'll keep the max prize):\n",
      "01:47:52 - OI2: INFO - []\n",
      "01:47:52 - OI2: INFO - Members of the prize file not present in the interactome:\n",
      "01:47:52 - OI2: INFO - []\n"
     ]
    },
    {
     "name": "stdout",
     "output_type": "stream",
     "text": [
      "progress = 65.7%\n"
     ]
    },
    {
     "name": "stderr",
     "output_type": "stream",
     "text": [
      "01:47:55 - OI2: INFO - Duplicated gene symbols in the prize file (we'll keep the max prize):\n",
      "01:47:55 - OI2: INFO - []\n",
      "01:47:55 - OI2: INFO - Members of the prize file not present in the interactome:\n",
      "01:47:55 - OI2: INFO - []\n"
     ]
    },
    {
     "name": "stdout",
     "output_type": "stream",
     "text": [
      "progress = 65.8%\n"
     ]
    },
    {
     "name": "stderr",
     "output_type": "stream",
     "text": [
      "01:47:58 - OI2: INFO - Duplicated gene symbols in the prize file (we'll keep the max prize):\n",
      "01:47:58 - OI2: INFO - []\n",
      "01:47:58 - OI2: INFO - Members of the prize file not present in the interactome:\n",
      "01:47:58 - OI2: INFO - []\n"
     ]
    },
    {
     "name": "stdout",
     "output_type": "stream",
     "text": [
      "progress = 65.9%\n"
     ]
    },
    {
     "name": "stderr",
     "output_type": "stream",
     "text": [
      "01:48:01 - OI2: INFO - Duplicated gene symbols in the prize file (we'll keep the max prize):\n",
      "01:48:01 - OI2: INFO - []\n",
      "01:48:01 - OI2: INFO - Members of the prize file not present in the interactome:\n",
      "01:48:01 - OI2: INFO - []\n"
     ]
    },
    {
     "name": "stdout",
     "output_type": "stream",
     "text": [
      "progress = 66.0%\n"
     ]
    },
    {
     "name": "stderr",
     "output_type": "stream",
     "text": [
      "01:48:03 - OI2: INFO - Duplicated gene symbols in the prize file (we'll keep the max prize):\n",
      "01:48:03 - OI2: INFO - []\n",
      "01:48:03 - OI2: INFO - Members of the prize file not present in the interactome:\n",
      "01:48:03 - OI2: INFO - []\n"
     ]
    },
    {
     "name": "stdout",
     "output_type": "stream",
     "text": [
      "progress = 66.10000000000001%\n"
     ]
    },
    {
     "name": "stderr",
     "output_type": "stream",
     "text": [
      "01:48:06 - OI2: INFO - Duplicated gene symbols in the prize file (we'll keep the max prize):\n",
      "01:48:06 - OI2: INFO - []\n",
      "01:48:06 - OI2: INFO - Members of the prize file not present in the interactome:\n",
      "01:48:06 - OI2: INFO - []\n"
     ]
    },
    {
     "name": "stdout",
     "output_type": "stream",
     "text": [
      "progress = 66.2%\n"
     ]
    },
    {
     "name": "stderr",
     "output_type": "stream",
     "text": [
      "01:48:09 - OI2: INFO - Duplicated gene symbols in the prize file (we'll keep the max prize):\n",
      "01:48:09 - OI2: INFO - []\n",
      "01:48:09 - OI2: INFO - Members of the prize file not present in the interactome:\n",
      "01:48:09 - OI2: INFO - []\n"
     ]
    },
    {
     "name": "stdout",
     "output_type": "stream",
     "text": [
      "progress = 66.3%\n"
     ]
    },
    {
     "name": "stderr",
     "output_type": "stream",
     "text": [
      "01:48:12 - OI2: INFO - Duplicated gene symbols in the prize file (we'll keep the max prize):\n",
      "01:48:12 - OI2: INFO - []\n",
      "01:48:12 - OI2: INFO - Members of the prize file not present in the interactome:\n",
      "01:48:12 - OI2: INFO - []\n"
     ]
    },
    {
     "name": "stdout",
     "output_type": "stream",
     "text": [
      "progress = 66.4%\n"
     ]
    },
    {
     "name": "stderr",
     "output_type": "stream",
     "text": [
      "01:48:14 - OI2: INFO - Duplicated gene symbols in the prize file (we'll keep the max prize):\n",
      "01:48:14 - OI2: INFO - []\n",
      "01:48:14 - OI2: INFO - Members of the prize file not present in the interactome:\n",
      "01:48:14 - OI2: INFO - []\n"
     ]
    },
    {
     "name": "stdout",
     "output_type": "stream",
     "text": [
      "progress = 66.5%\n"
     ]
    },
    {
     "name": "stderr",
     "output_type": "stream",
     "text": [
      "01:48:17 - OI2: INFO - Duplicated gene symbols in the prize file (we'll keep the max prize):\n",
      "01:48:17 - OI2: INFO - []\n",
      "01:48:17 - OI2: INFO - Members of the prize file not present in the interactome:\n",
      "01:48:17 - OI2: INFO - []\n"
     ]
    },
    {
     "name": "stdout",
     "output_type": "stream",
     "text": [
      "progress = 66.60000000000001%\n"
     ]
    },
    {
     "name": "stderr",
     "output_type": "stream",
     "text": [
      "01:48:20 - OI2: INFO - Duplicated gene symbols in the prize file (we'll keep the max prize):\n",
      "01:48:20 - OI2: INFO - []\n",
      "01:48:20 - OI2: INFO - Members of the prize file not present in the interactome:\n",
      "01:48:20 - OI2: INFO - []\n"
     ]
    },
    {
     "name": "stdout",
     "output_type": "stream",
     "text": [
      "progress = 66.7%\n"
     ]
    },
    {
     "name": "stderr",
     "output_type": "stream",
     "text": [
      "01:48:22 - OI2: INFO - Duplicated gene symbols in the prize file (we'll keep the max prize):\n",
      "01:48:22 - OI2: INFO - []\n",
      "01:48:22 - OI2: INFO - Members of the prize file not present in the interactome:\n",
      "01:48:22 - OI2: INFO - []\n"
     ]
    },
    {
     "name": "stdout",
     "output_type": "stream",
     "text": [
      "progress = 66.8%\n"
     ]
    },
    {
     "name": "stderr",
     "output_type": "stream",
     "text": [
      "01:48:25 - OI2: INFO - Duplicated gene symbols in the prize file (we'll keep the max prize):\n",
      "01:48:25 - OI2: INFO - []\n",
      "01:48:25 - OI2: INFO - Members of the prize file not present in the interactome:\n",
      "01:48:25 - OI2: INFO - []\n"
     ]
    },
    {
     "name": "stdout",
     "output_type": "stream",
     "text": [
      "progress = 66.9%\n"
     ]
    },
    {
     "name": "stderr",
     "output_type": "stream",
     "text": [
      "01:48:28 - OI2: INFO - Duplicated gene symbols in the prize file (we'll keep the max prize):\n",
      "01:48:28 - OI2: INFO - []\n",
      "01:48:28 - OI2: INFO - Members of the prize file not present in the interactome:\n",
      "01:48:28 - OI2: INFO - []\n"
     ]
    },
    {
     "name": "stdout",
     "output_type": "stream",
     "text": [
      "progress = 67.0%\n"
     ]
    },
    {
     "name": "stderr",
     "output_type": "stream",
     "text": [
      "01:48:30 - OI2: INFO - Duplicated gene symbols in the prize file (we'll keep the max prize):\n",
      "01:48:30 - OI2: INFO - []\n",
      "01:48:30 - OI2: INFO - Members of the prize file not present in the interactome:\n",
      "01:48:30 - OI2: INFO - []\n"
     ]
    },
    {
     "name": "stdout",
     "output_type": "stream",
     "text": [
      "progress = 67.10000000000001%\n"
     ]
    },
    {
     "name": "stderr",
     "output_type": "stream",
     "text": [
      "01:48:33 - OI2: INFO - Duplicated gene symbols in the prize file (we'll keep the max prize):\n",
      "01:48:33 - OI2: INFO - []\n",
      "01:48:33 - OI2: INFO - Members of the prize file not present in the interactome:\n",
      "01:48:33 - OI2: INFO - []\n"
     ]
    },
    {
     "name": "stdout",
     "output_type": "stream",
     "text": [
      "progress = 67.2%\n"
     ]
    },
    {
     "name": "stderr",
     "output_type": "stream",
     "text": [
      "01:48:36 - OI2: INFO - Duplicated gene symbols in the prize file (we'll keep the max prize):\n",
      "01:48:36 - OI2: INFO - []\n",
      "01:48:36 - OI2: INFO - Members of the prize file not present in the interactome:\n",
      "01:48:36 - OI2: INFO - []\n"
     ]
    },
    {
     "name": "stdout",
     "output_type": "stream",
     "text": [
      "progress = 67.30000000000001%\n"
     ]
    },
    {
     "name": "stderr",
     "output_type": "stream",
     "text": [
      "01:48:39 - OI2: INFO - Duplicated gene symbols in the prize file (we'll keep the max prize):\n",
      "01:48:39 - OI2: INFO - []\n",
      "01:48:39 - OI2: INFO - Members of the prize file not present in the interactome:\n",
      "01:48:39 - OI2: INFO - []\n"
     ]
    },
    {
     "name": "stdout",
     "output_type": "stream",
     "text": [
      "progress = 67.4%\n"
     ]
    },
    {
     "name": "stderr",
     "output_type": "stream",
     "text": [
      "01:48:41 - OI2: INFO - Duplicated gene symbols in the prize file (we'll keep the max prize):\n",
      "01:48:41 - OI2: INFO - []\n",
      "01:48:41 - OI2: INFO - Members of the prize file not present in the interactome:\n",
      "01:48:41 - OI2: INFO - []\n"
     ]
    },
    {
     "name": "stdout",
     "output_type": "stream",
     "text": [
      "progress = 67.5%\n"
     ]
    },
    {
     "name": "stderr",
     "output_type": "stream",
     "text": [
      "01:48:44 - OI2: INFO - Duplicated gene symbols in the prize file (we'll keep the max prize):\n",
      "01:48:44 - OI2: INFO - []\n",
      "01:48:44 - OI2: INFO - Members of the prize file not present in the interactome:\n",
      "01:48:44 - OI2: INFO - []\n"
     ]
    },
    {
     "name": "stdout",
     "output_type": "stream",
     "text": [
      "progress = 67.60000000000001%\n"
     ]
    },
    {
     "name": "stderr",
     "output_type": "stream",
     "text": [
      "01:48:46 - OI2: INFO - Duplicated gene symbols in the prize file (we'll keep the max prize):\n",
      "01:48:46 - OI2: INFO - []\n",
      "01:48:47 - OI2: INFO - Members of the prize file not present in the interactome:\n",
      "01:48:47 - OI2: INFO - []\n"
     ]
    },
    {
     "name": "stdout",
     "output_type": "stream",
     "text": [
      "progress = 67.7%\n"
     ]
    },
    {
     "name": "stderr",
     "output_type": "stream",
     "text": [
      "01:48:49 - OI2: INFO - Duplicated gene symbols in the prize file (we'll keep the max prize):\n",
      "01:48:49 - OI2: INFO - []\n",
      "01:48:49 - OI2: INFO - Members of the prize file not present in the interactome:\n",
      "01:48:49 - OI2: INFO - []\n"
     ]
    },
    {
     "name": "stdout",
     "output_type": "stream",
     "text": [
      "progress = 67.80000000000001%\n"
     ]
    },
    {
     "name": "stderr",
     "output_type": "stream",
     "text": [
      "01:48:52 - OI2: INFO - Duplicated gene symbols in the prize file (we'll keep the max prize):\n",
      "01:48:52 - OI2: INFO - []\n",
      "01:48:52 - OI2: INFO - Members of the prize file not present in the interactome:\n",
      "01:48:52 - OI2: INFO - []\n"
     ]
    },
    {
     "name": "stdout",
     "output_type": "stream",
     "text": [
      "progress = 67.9%\n"
     ]
    },
    {
     "name": "stderr",
     "output_type": "stream",
     "text": [
      "01:48:54 - OI2: INFO - Duplicated gene symbols in the prize file (we'll keep the max prize):\n",
      "01:48:54 - OI2: INFO - []\n",
      "01:48:54 - OI2: INFO - Members of the prize file not present in the interactome:\n",
      "01:48:54 - OI2: INFO - []\n"
     ]
    },
    {
     "name": "stdout",
     "output_type": "stream",
     "text": [
      "progress = 68.0%\n"
     ]
    },
    {
     "name": "stderr",
     "output_type": "stream",
     "text": [
      "01:48:57 - OI2: INFO - Duplicated gene symbols in the prize file (we'll keep the max prize):\n",
      "01:48:57 - OI2: INFO - []\n",
      "01:48:57 - OI2: INFO - Members of the prize file not present in the interactome:\n",
      "01:48:57 - OI2: INFO - []\n"
     ]
    },
    {
     "name": "stdout",
     "output_type": "stream",
     "text": [
      "progress = 68.10000000000001%\n"
     ]
    },
    {
     "name": "stderr",
     "output_type": "stream",
     "text": [
      "01:49:00 - OI2: INFO - Duplicated gene symbols in the prize file (we'll keep the max prize):\n",
      "01:49:00 - OI2: INFO - []\n",
      "01:49:00 - OI2: INFO - Members of the prize file not present in the interactome:\n",
      "01:49:00 - OI2: INFO - []\n"
     ]
    },
    {
     "name": "stdout",
     "output_type": "stream",
     "text": [
      "progress = 68.2%\n"
     ]
    },
    {
     "name": "stderr",
     "output_type": "stream",
     "text": [
      "01:49:02 - OI2: INFO - Duplicated gene symbols in the prize file (we'll keep the max prize):\n",
      "01:49:02 - OI2: INFO - []\n",
      "01:49:02 - OI2: INFO - Members of the prize file not present in the interactome:\n",
      "01:49:02 - OI2: INFO - []\n"
     ]
    },
    {
     "name": "stdout",
     "output_type": "stream",
     "text": [
      "progress = 68.30000000000001%\n"
     ]
    },
    {
     "name": "stderr",
     "output_type": "stream",
     "text": [
      "01:49:05 - OI2: INFO - Duplicated gene symbols in the prize file (we'll keep the max prize):\n",
      "01:49:05 - OI2: INFO - []\n",
      "01:49:05 - OI2: INFO - Members of the prize file not present in the interactome:\n",
      "01:49:05 - OI2: INFO - []\n"
     ]
    },
    {
     "name": "stdout",
     "output_type": "stream",
     "text": [
      "progress = 68.4%\n"
     ]
    },
    {
     "name": "stderr",
     "output_type": "stream",
     "text": [
      "01:49:08 - OI2: INFO - Duplicated gene symbols in the prize file (we'll keep the max prize):\n",
      "01:49:08 - OI2: INFO - []\n",
      "01:49:08 - OI2: INFO - Members of the prize file not present in the interactome:\n",
      "01:49:08 - OI2: INFO - []\n"
     ]
    },
    {
     "name": "stdout",
     "output_type": "stream",
     "text": [
      "progress = 68.5%\n"
     ]
    },
    {
     "name": "stderr",
     "output_type": "stream",
     "text": [
      "01:49:10 - OI2: INFO - Duplicated gene symbols in the prize file (we'll keep the max prize):\n",
      "01:49:10 - OI2: INFO - []\n",
      "01:49:10 - OI2: INFO - Members of the prize file not present in the interactome:\n",
      "01:49:10 - OI2: INFO - []\n"
     ]
    },
    {
     "name": "stdout",
     "output_type": "stream",
     "text": [
      "progress = 68.60000000000001%\n"
     ]
    },
    {
     "name": "stderr",
     "output_type": "stream",
     "text": [
      "01:49:13 - OI2: INFO - Duplicated gene symbols in the prize file (we'll keep the max prize):\n",
      "01:49:13 - OI2: INFO - []\n",
      "01:49:13 - OI2: INFO - Members of the prize file not present in the interactome:\n",
      "01:49:13 - OI2: INFO - []\n"
     ]
    },
    {
     "name": "stdout",
     "output_type": "stream",
     "text": [
      "progress = 68.7%\n"
     ]
    },
    {
     "name": "stderr",
     "output_type": "stream",
     "text": [
      "01:49:16 - OI2: INFO - Duplicated gene symbols in the prize file (we'll keep the max prize):\n",
      "01:49:16 - OI2: INFO - []\n",
      "01:49:16 - OI2: INFO - Members of the prize file not present in the interactome:\n",
      "01:49:16 - OI2: INFO - []\n"
     ]
    },
    {
     "name": "stdout",
     "output_type": "stream",
     "text": [
      "progress = 68.8%\n"
     ]
    },
    {
     "name": "stderr",
     "output_type": "stream",
     "text": [
      "01:49:19 - OI2: INFO - Duplicated gene symbols in the prize file (we'll keep the max prize):\n",
      "01:49:19 - OI2: INFO - []\n",
      "01:49:19 - OI2: INFO - Members of the prize file not present in the interactome:\n",
      "01:49:19 - OI2: INFO - []\n"
     ]
    },
    {
     "name": "stdout",
     "output_type": "stream",
     "text": [
      "progress = 68.89999999999999%\n"
     ]
    },
    {
     "name": "stderr",
     "output_type": "stream",
     "text": [
      "01:49:21 - OI2: INFO - Duplicated gene symbols in the prize file (we'll keep the max prize):\n",
      "01:49:21 - OI2: INFO - []\n",
      "01:49:21 - OI2: INFO - Members of the prize file not present in the interactome:\n",
      "01:49:21 - OI2: INFO - []\n"
     ]
    },
    {
     "name": "stdout",
     "output_type": "stream",
     "text": [
      "progress = 69.0%\n"
     ]
    },
    {
     "name": "stderr",
     "output_type": "stream",
     "text": [
      "01:49:24 - OI2: INFO - Duplicated gene symbols in the prize file (we'll keep the max prize):\n",
      "01:49:24 - OI2: INFO - []\n",
      "01:49:24 - OI2: INFO - Members of the prize file not present in the interactome:\n",
      "01:49:24 - OI2: INFO - []\n"
     ]
    },
    {
     "name": "stdout",
     "output_type": "stream",
     "text": [
      "progress = 69.1%\n"
     ]
    },
    {
     "name": "stderr",
     "output_type": "stream",
     "text": [
      "01:49:27 - OI2: INFO - Duplicated gene symbols in the prize file (we'll keep the max prize):\n",
      "01:49:27 - OI2: INFO - []\n",
      "01:49:27 - OI2: INFO - Members of the prize file not present in the interactome:\n",
      "01:49:27 - OI2: INFO - []\n"
     ]
    },
    {
     "name": "stdout",
     "output_type": "stream",
     "text": [
      "progress = 69.19999999999999%\n"
     ]
    },
    {
     "name": "stderr",
     "output_type": "stream",
     "text": [
      "01:49:29 - OI2: INFO - Duplicated gene symbols in the prize file (we'll keep the max prize):\n",
      "01:49:29 - OI2: INFO - []\n",
      "01:49:29 - OI2: INFO - Members of the prize file not present in the interactome:\n",
      "01:49:29 - OI2: INFO - []\n"
     ]
    },
    {
     "name": "stdout",
     "output_type": "stream",
     "text": [
      "progress = 69.3%\n"
     ]
    },
    {
     "name": "stderr",
     "output_type": "stream",
     "text": [
      "01:49:32 - OI2: INFO - Duplicated gene symbols in the prize file (we'll keep the max prize):\n",
      "01:49:32 - OI2: INFO - []\n",
      "01:49:32 - OI2: INFO - Members of the prize file not present in the interactome:\n",
      "01:49:32 - OI2: INFO - []\n"
     ]
    },
    {
     "name": "stdout",
     "output_type": "stream",
     "text": [
      "progress = 69.39999999999999%\n"
     ]
    },
    {
     "name": "stderr",
     "output_type": "stream",
     "text": [
      "01:49:35 - OI2: INFO - Duplicated gene symbols in the prize file (we'll keep the max prize):\n",
      "01:49:35 - OI2: INFO - []\n",
      "01:49:35 - OI2: INFO - Members of the prize file not present in the interactome:\n",
      "01:49:35 - OI2: INFO - []\n"
     ]
    },
    {
     "name": "stdout",
     "output_type": "stream",
     "text": [
      "progress = 69.5%\n"
     ]
    },
    {
     "name": "stderr",
     "output_type": "stream",
     "text": [
      "01:49:38 - OI2: INFO - Duplicated gene symbols in the prize file (we'll keep the max prize):\n",
      "01:49:38 - OI2: INFO - []\n",
      "01:49:38 - OI2: INFO - Members of the prize file not present in the interactome:\n",
      "01:49:38 - OI2: INFO - []\n"
     ]
    },
    {
     "name": "stdout",
     "output_type": "stream",
     "text": [
      "progress = 69.6%\n"
     ]
    },
    {
     "name": "stderr",
     "output_type": "stream",
     "text": [
      "01:49:41 - OI2: INFO - Duplicated gene symbols in the prize file (we'll keep the max prize):\n",
      "01:49:41 - OI2: INFO - []\n",
      "01:49:41 - OI2: INFO - Members of the prize file not present in the interactome:\n",
      "01:49:41 - OI2: INFO - []\n"
     ]
    },
    {
     "name": "stdout",
     "output_type": "stream",
     "text": [
      "progress = 69.69999999999999%\n"
     ]
    },
    {
     "name": "stderr",
     "output_type": "stream",
     "text": [
      "01:49:43 - OI2: INFO - Duplicated gene symbols in the prize file (we'll keep the max prize):\n",
      "01:49:43 - OI2: INFO - []\n",
      "01:49:43 - OI2: INFO - Members of the prize file not present in the interactome:\n",
      "01:49:43 - OI2: INFO - []\n"
     ]
    },
    {
     "name": "stdout",
     "output_type": "stream",
     "text": [
      "progress = 69.8%\n"
     ]
    },
    {
     "name": "stderr",
     "output_type": "stream",
     "text": [
      "01:49:46 - OI2: INFO - Duplicated gene symbols in the prize file (we'll keep the max prize):\n",
      "01:49:46 - OI2: INFO - []\n",
      "01:49:46 - OI2: INFO - Members of the prize file not present in the interactome:\n",
      "01:49:46 - OI2: INFO - []\n"
     ]
    },
    {
     "name": "stdout",
     "output_type": "stream",
     "text": [
      "progress = 69.89999999999999%\n"
     ]
    },
    {
     "name": "stderr",
     "output_type": "stream",
     "text": [
      "01:49:49 - OI2: INFO - Duplicated gene symbols in the prize file (we'll keep the max prize):\n",
      "01:49:49 - OI2: INFO - []\n",
      "01:49:49 - OI2: INFO - Members of the prize file not present in the interactome:\n",
      "01:49:49 - OI2: INFO - []\n"
     ]
    },
    {
     "name": "stdout",
     "output_type": "stream",
     "text": [
      "progress = 70.0%\n"
     ]
    },
    {
     "name": "stderr",
     "output_type": "stream",
     "text": [
      "01:49:51 - OI2: INFO - Duplicated gene symbols in the prize file (we'll keep the max prize):\n",
      "01:49:51 - OI2: INFO - []\n",
      "01:49:51 - OI2: INFO - Members of the prize file not present in the interactome:\n",
      "01:49:51 - OI2: INFO - []\n"
     ]
    },
    {
     "name": "stdout",
     "output_type": "stream",
     "text": [
      "progress = 70.1%\n"
     ]
    },
    {
     "name": "stderr",
     "output_type": "stream",
     "text": [
      "01:49:54 - OI2: INFO - Duplicated gene symbols in the prize file (we'll keep the max prize):\n",
      "01:49:54 - OI2: INFO - []\n",
      "01:49:54 - OI2: INFO - Members of the prize file not present in the interactome:\n",
      "01:49:54 - OI2: INFO - []\n"
     ]
    },
    {
     "name": "stdout",
     "output_type": "stream",
     "text": [
      "progress = 70.19999999999999%\n"
     ]
    },
    {
     "name": "stderr",
     "output_type": "stream",
     "text": [
      "01:49:57 - OI2: INFO - Duplicated gene symbols in the prize file (we'll keep the max prize):\n",
      "01:49:57 - OI2: INFO - []\n",
      "01:49:57 - OI2: INFO - Members of the prize file not present in the interactome:\n",
      "01:49:57 - OI2: INFO - []\n"
     ]
    },
    {
     "name": "stdout",
     "output_type": "stream",
     "text": [
      "progress = 70.3%\n"
     ]
    },
    {
     "name": "stderr",
     "output_type": "stream",
     "text": [
      "01:49:59 - OI2: INFO - Duplicated gene symbols in the prize file (we'll keep the max prize):\n",
      "01:49:59 - OI2: INFO - []\n",
      "01:49:59 - OI2: INFO - Members of the prize file not present in the interactome:\n",
      "01:49:59 - OI2: INFO - []\n"
     ]
    },
    {
     "name": "stdout",
     "output_type": "stream",
     "text": [
      "progress = 70.39999999999999%\n"
     ]
    },
    {
     "name": "stderr",
     "output_type": "stream",
     "text": [
      "01:50:02 - OI2: INFO - Duplicated gene symbols in the prize file (we'll keep the max prize):\n",
      "01:50:02 - OI2: INFO - []\n",
      "01:50:02 - OI2: INFO - Members of the prize file not present in the interactome:\n",
      "01:50:02 - OI2: INFO - []\n"
     ]
    },
    {
     "name": "stdout",
     "output_type": "stream",
     "text": [
      "progress = 70.5%\n"
     ]
    },
    {
     "name": "stderr",
     "output_type": "stream",
     "text": [
      "01:50:04 - OI2: INFO - Duplicated gene symbols in the prize file (we'll keep the max prize):\n",
      "01:50:04 - OI2: INFO - []\n",
      "01:50:04 - OI2: INFO - Members of the prize file not present in the interactome:\n",
      "01:50:04 - OI2: INFO - []\n"
     ]
    },
    {
     "name": "stdout",
     "output_type": "stream",
     "text": [
      "progress = 70.6%\n"
     ]
    },
    {
     "name": "stderr",
     "output_type": "stream",
     "text": [
      "01:50:07 - OI2: INFO - Duplicated gene symbols in the prize file (we'll keep the max prize):\n",
      "01:50:07 - OI2: INFO - []\n",
      "01:50:07 - OI2: INFO - Members of the prize file not present in the interactome:\n",
      "01:50:07 - OI2: INFO - []\n"
     ]
    },
    {
     "name": "stdout",
     "output_type": "stream",
     "text": [
      "progress = 70.7%\n"
     ]
    },
    {
     "name": "stderr",
     "output_type": "stream",
     "text": [
      "01:50:10 - OI2: INFO - Duplicated gene symbols in the prize file (we'll keep the max prize):\n",
      "01:50:10 - OI2: INFO - []\n",
      "01:50:10 - OI2: INFO - Members of the prize file not present in the interactome:\n",
      "01:50:10 - OI2: INFO - []\n"
     ]
    },
    {
     "name": "stdout",
     "output_type": "stream",
     "text": [
      "progress = 70.8%\n"
     ]
    },
    {
     "name": "stderr",
     "output_type": "stream",
     "text": [
      "01:50:12 - OI2: INFO - Duplicated gene symbols in the prize file (we'll keep the max prize):\n",
      "01:50:12 - OI2: INFO - []\n",
      "01:50:12 - OI2: INFO - Members of the prize file not present in the interactome:\n",
      "01:50:12 - OI2: INFO - []\n"
     ]
    },
    {
     "name": "stdout",
     "output_type": "stream",
     "text": [
      "progress = 70.89999999999999%\n"
     ]
    },
    {
     "name": "stderr",
     "output_type": "stream",
     "text": [
      "01:50:15 - OI2: INFO - Duplicated gene symbols in the prize file (we'll keep the max prize):\n",
      "01:50:15 - OI2: INFO - []\n",
      "01:50:15 - OI2: INFO - Members of the prize file not present in the interactome:\n",
      "01:50:15 - OI2: INFO - []\n"
     ]
    },
    {
     "name": "stdout",
     "output_type": "stream",
     "text": [
      "progress = 71.0%\n"
     ]
    },
    {
     "name": "stderr",
     "output_type": "stream",
     "text": [
      "01:50:18 - OI2: INFO - Duplicated gene symbols in the prize file (we'll keep the max prize):\n",
      "01:50:18 - OI2: INFO - []\n",
      "01:50:18 - OI2: INFO - Members of the prize file not present in the interactome:\n",
      "01:50:18 - OI2: INFO - []\n"
     ]
    },
    {
     "name": "stdout",
     "output_type": "stream",
     "text": [
      "progress = 71.1%\n"
     ]
    },
    {
     "name": "stderr",
     "output_type": "stream",
     "text": [
      "01:50:20 - OI2: INFO - Duplicated gene symbols in the prize file (we'll keep the max prize):\n",
      "01:50:20 - OI2: INFO - []\n",
      "01:50:20 - OI2: INFO - Members of the prize file not present in the interactome:\n",
      "01:50:20 - OI2: INFO - []\n"
     ]
    },
    {
     "name": "stdout",
     "output_type": "stream",
     "text": [
      "progress = 71.2%\n"
     ]
    },
    {
     "name": "stderr",
     "output_type": "stream",
     "text": [
      "01:50:23 - OI2: INFO - Duplicated gene symbols in the prize file (we'll keep the max prize):\n",
      "01:50:23 - OI2: INFO - []\n",
      "01:50:23 - OI2: INFO - Members of the prize file not present in the interactome:\n",
      "01:50:23 - OI2: INFO - []\n"
     ]
    },
    {
     "name": "stdout",
     "output_type": "stream",
     "text": [
      "progress = 71.3%\n"
     ]
    },
    {
     "name": "stderr",
     "output_type": "stream",
     "text": [
      "01:50:26 - OI2: INFO - Duplicated gene symbols in the prize file (we'll keep the max prize):\n",
      "01:50:26 - OI2: INFO - []\n",
      "01:50:26 - OI2: INFO - Members of the prize file not present in the interactome:\n",
      "01:50:26 - OI2: INFO - []\n"
     ]
    },
    {
     "name": "stdout",
     "output_type": "stream",
     "text": [
      "progress = 71.39999999999999%\n"
     ]
    },
    {
     "name": "stderr",
     "output_type": "stream",
     "text": [
      "01:50:29 - OI2: INFO - Duplicated gene symbols in the prize file (we'll keep the max prize):\n",
      "01:50:29 - OI2: INFO - []\n",
      "01:50:29 - OI2: INFO - Members of the prize file not present in the interactome:\n",
      "01:50:29 - OI2: INFO - []\n"
     ]
    },
    {
     "name": "stdout",
     "output_type": "stream",
     "text": [
      "progress = 71.5%\n"
     ]
    },
    {
     "name": "stderr",
     "output_type": "stream",
     "text": [
      "01:50:31 - OI2: INFO - Duplicated gene symbols in the prize file (we'll keep the max prize):\n",
      "01:50:31 - OI2: INFO - []\n",
      "01:50:31 - OI2: INFO - Members of the prize file not present in the interactome:\n",
      "01:50:31 - OI2: INFO - []\n"
     ]
    },
    {
     "name": "stdout",
     "output_type": "stream",
     "text": [
      "progress = 71.6%\n"
     ]
    },
    {
     "name": "stderr",
     "output_type": "stream",
     "text": [
      "01:50:34 - OI2: INFO - Duplicated gene symbols in the prize file (we'll keep the max prize):\n",
      "01:50:34 - OI2: INFO - []\n",
      "01:50:34 - OI2: INFO - Members of the prize file not present in the interactome:\n",
      "01:50:34 - OI2: INFO - []\n"
     ]
    },
    {
     "name": "stdout",
     "output_type": "stream",
     "text": [
      "progress = 71.7%\n"
     ]
    },
    {
     "name": "stderr",
     "output_type": "stream",
     "text": [
      "01:50:37 - OI2: INFO - Duplicated gene symbols in the prize file (we'll keep the max prize):\n",
      "01:50:37 - OI2: INFO - []\n",
      "01:50:37 - OI2: INFO - Members of the prize file not present in the interactome:\n",
      "01:50:37 - OI2: INFO - []\n"
     ]
    },
    {
     "name": "stdout",
     "output_type": "stream",
     "text": [
      "progress = 71.8%\n"
     ]
    },
    {
     "name": "stderr",
     "output_type": "stream",
     "text": [
      "01:50:39 - OI2: INFO - Duplicated gene symbols in the prize file (we'll keep the max prize):\n",
      "01:50:39 - OI2: INFO - []\n",
      "01:50:39 - OI2: INFO - Members of the prize file not present in the interactome:\n",
      "01:50:39 - OI2: INFO - []\n"
     ]
    },
    {
     "name": "stdout",
     "output_type": "stream",
     "text": [
      "progress = 71.89999999999999%\n"
     ]
    },
    {
     "name": "stderr",
     "output_type": "stream",
     "text": [
      "01:50:42 - OI2: INFO - Duplicated gene symbols in the prize file (we'll keep the max prize):\n",
      "01:50:42 - OI2: INFO - []\n",
      "01:50:42 - OI2: INFO - Members of the prize file not present in the interactome:\n",
      "01:50:42 - OI2: INFO - []\n"
     ]
    },
    {
     "name": "stdout",
     "output_type": "stream",
     "text": [
      "progress = 72.0%\n"
     ]
    },
    {
     "name": "stderr",
     "output_type": "stream",
     "text": [
      "01:50:45 - OI2: INFO - Duplicated gene symbols in the prize file (we'll keep the max prize):\n",
      "01:50:45 - OI2: INFO - []\n",
      "01:50:45 - OI2: INFO - Members of the prize file not present in the interactome:\n",
      "01:50:45 - OI2: INFO - []\n"
     ]
    },
    {
     "name": "stdout",
     "output_type": "stream",
     "text": [
      "progress = 72.1%\n"
     ]
    },
    {
     "name": "stderr",
     "output_type": "stream",
     "text": [
      "01:50:48 - OI2: INFO - Duplicated gene symbols in the prize file (we'll keep the max prize):\n",
      "01:50:48 - OI2: INFO - []\n",
      "01:50:48 - OI2: INFO - Members of the prize file not present in the interactome:\n",
      "01:50:48 - OI2: INFO - []\n"
     ]
    },
    {
     "name": "stdout",
     "output_type": "stream",
     "text": [
      "progress = 72.2%\n"
     ]
    },
    {
     "name": "stderr",
     "output_type": "stream",
     "text": [
      "01:50:50 - OI2: INFO - Duplicated gene symbols in the prize file (we'll keep the max prize):\n",
      "01:50:50 - OI2: INFO - []\n",
      "01:50:50 - OI2: INFO - Members of the prize file not present in the interactome:\n",
      "01:50:50 - OI2: INFO - []\n"
     ]
    },
    {
     "name": "stdout",
     "output_type": "stream",
     "text": [
      "progress = 72.3%\n"
     ]
    },
    {
     "name": "stderr",
     "output_type": "stream",
     "text": [
      "01:50:53 - OI2: INFO - Duplicated gene symbols in the prize file (we'll keep the max prize):\n",
      "01:50:53 - OI2: INFO - []\n",
      "01:50:53 - OI2: INFO - Members of the prize file not present in the interactome:\n",
      "01:50:53 - OI2: INFO - []\n"
     ]
    },
    {
     "name": "stdout",
     "output_type": "stream",
     "text": [
      "progress = 72.39999999999999%\n"
     ]
    },
    {
     "name": "stderr",
     "output_type": "stream",
     "text": [
      "01:50:55 - OI2: INFO - Duplicated gene symbols in the prize file (we'll keep the max prize):\n",
      "01:50:55 - OI2: INFO - []\n",
      "01:50:55 - OI2: INFO - Members of the prize file not present in the interactome:\n",
      "01:50:55 - OI2: INFO - []\n"
     ]
    },
    {
     "name": "stdout",
     "output_type": "stream",
     "text": [
      "progress = 72.5%\n"
     ]
    },
    {
     "name": "stderr",
     "output_type": "stream",
     "text": [
      "01:50:58 - OI2: INFO - Duplicated gene symbols in the prize file (we'll keep the max prize):\n",
      "01:50:58 - OI2: INFO - []\n",
      "01:50:58 - OI2: INFO - Members of the prize file not present in the interactome:\n",
      "01:50:58 - OI2: INFO - []\n"
     ]
    },
    {
     "name": "stdout",
     "output_type": "stream",
     "text": [
      "progress = 72.6%\n"
     ]
    },
    {
     "name": "stderr",
     "output_type": "stream",
     "text": [
      "01:51:01 - OI2: INFO - Duplicated gene symbols in the prize file (we'll keep the max prize):\n",
      "01:51:01 - OI2: INFO - []\n",
      "01:51:01 - OI2: INFO - Members of the prize file not present in the interactome:\n",
      "01:51:01 - OI2: INFO - []\n"
     ]
    },
    {
     "name": "stdout",
     "output_type": "stream",
     "text": [
      "progress = 72.7%\n"
     ]
    },
    {
     "name": "stderr",
     "output_type": "stream",
     "text": [
      "01:51:04 - OI2: INFO - Duplicated gene symbols in the prize file (we'll keep the max prize):\n",
      "01:51:04 - OI2: INFO - []\n",
      "01:51:04 - OI2: INFO - Members of the prize file not present in the interactome:\n",
      "01:51:04 - OI2: INFO - []\n"
     ]
    },
    {
     "name": "stdout",
     "output_type": "stream",
     "text": [
      "progress = 72.8%\n"
     ]
    },
    {
     "name": "stderr",
     "output_type": "stream",
     "text": [
      "01:51:06 - OI2: INFO - Duplicated gene symbols in the prize file (we'll keep the max prize):\n",
      "01:51:06 - OI2: INFO - []\n",
      "01:51:06 - OI2: INFO - Members of the prize file not present in the interactome:\n",
      "01:51:06 - OI2: INFO - []\n"
     ]
    },
    {
     "name": "stdout",
     "output_type": "stream",
     "text": [
      "progress = 72.89999999999999%\n"
     ]
    },
    {
     "name": "stderr",
     "output_type": "stream",
     "text": [
      "01:51:09 - OI2: INFO - Duplicated gene symbols in the prize file (we'll keep the max prize):\n",
      "01:51:09 - OI2: INFO - []\n",
      "01:51:09 - OI2: INFO - Members of the prize file not present in the interactome:\n",
      "01:51:09 - OI2: INFO - []\n"
     ]
    },
    {
     "name": "stdout",
     "output_type": "stream",
     "text": [
      "progress = 73.0%\n"
     ]
    },
    {
     "name": "stderr",
     "output_type": "stream",
     "text": [
      "01:51:12 - OI2: INFO - Duplicated gene symbols in the prize file (we'll keep the max prize):\n",
      "01:51:12 - OI2: INFO - []\n",
      "01:51:12 - OI2: INFO - Members of the prize file not present in the interactome:\n",
      "01:51:12 - OI2: INFO - []\n"
     ]
    },
    {
     "name": "stdout",
     "output_type": "stream",
     "text": [
      "progress = 73.1%\n"
     ]
    },
    {
     "name": "stderr",
     "output_type": "stream",
     "text": [
      "01:51:14 - OI2: INFO - Duplicated gene symbols in the prize file (we'll keep the max prize):\n",
      "01:51:14 - OI2: INFO - []\n",
      "01:51:14 - OI2: INFO - Members of the prize file not present in the interactome:\n",
      "01:51:14 - OI2: INFO - []\n"
     ]
    },
    {
     "name": "stdout",
     "output_type": "stream",
     "text": [
      "progress = 73.2%\n"
     ]
    },
    {
     "name": "stderr",
     "output_type": "stream",
     "text": [
      "01:51:17 - OI2: INFO - Duplicated gene symbols in the prize file (we'll keep the max prize):\n",
      "01:51:17 - OI2: INFO - []\n",
      "01:51:17 - OI2: INFO - Members of the prize file not present in the interactome:\n",
      "01:51:17 - OI2: INFO - []\n"
     ]
    },
    {
     "name": "stdout",
     "output_type": "stream",
     "text": [
      "progress = 73.3%\n"
     ]
    },
    {
     "name": "stderr",
     "output_type": "stream",
     "text": [
      "01:51:20 - OI2: INFO - Duplicated gene symbols in the prize file (we'll keep the max prize):\n",
      "01:51:20 - OI2: INFO - []\n",
      "01:51:20 - OI2: INFO - Members of the prize file not present in the interactome:\n",
      "01:51:20 - OI2: INFO - []\n"
     ]
    },
    {
     "name": "stdout",
     "output_type": "stream",
     "text": [
      "progress = 73.4%\n"
     ]
    },
    {
     "name": "stderr",
     "output_type": "stream",
     "text": [
      "01:51:22 - OI2: INFO - Duplicated gene symbols in the prize file (we'll keep the max prize):\n",
      "01:51:22 - OI2: INFO - []\n",
      "01:51:22 - OI2: INFO - Members of the prize file not present in the interactome:\n",
      "01:51:22 - OI2: INFO - []\n"
     ]
    },
    {
     "name": "stdout",
     "output_type": "stream",
     "text": [
      "progress = 73.5%\n"
     ]
    },
    {
     "name": "stderr",
     "output_type": "stream",
     "text": [
      "01:51:25 - OI2: INFO - Duplicated gene symbols in the prize file (we'll keep the max prize):\n",
      "01:51:25 - OI2: INFO - []\n",
      "01:51:25 - OI2: INFO - Members of the prize file not present in the interactome:\n",
      "01:51:25 - OI2: INFO - []\n"
     ]
    },
    {
     "name": "stdout",
     "output_type": "stream",
     "text": [
      "progress = 73.6%\n"
     ]
    },
    {
     "name": "stderr",
     "output_type": "stream",
     "text": [
      "01:51:28 - OI2: INFO - Duplicated gene symbols in the prize file (we'll keep the max prize):\n",
      "01:51:28 - OI2: INFO - []\n",
      "01:51:28 - OI2: INFO - Members of the prize file not present in the interactome:\n",
      "01:51:28 - OI2: INFO - []\n"
     ]
    },
    {
     "name": "stdout",
     "output_type": "stream",
     "text": [
      "progress = 73.7%\n"
     ]
    },
    {
     "name": "stderr",
     "output_type": "stream",
     "text": [
      "01:51:30 - OI2: INFO - Duplicated gene symbols in the prize file (we'll keep the max prize):\n",
      "01:51:30 - OI2: INFO - []\n",
      "01:51:30 - OI2: INFO - Members of the prize file not present in the interactome:\n",
      "01:51:30 - OI2: INFO - []\n"
     ]
    },
    {
     "name": "stdout",
     "output_type": "stream",
     "text": [
      "progress = 73.8%\n"
     ]
    },
    {
     "name": "stderr",
     "output_type": "stream",
     "text": [
      "01:51:33 - OI2: INFO - Duplicated gene symbols in the prize file (we'll keep the max prize):\n",
      "01:51:33 - OI2: INFO - []\n",
      "01:51:33 - OI2: INFO - Members of the prize file not present in the interactome:\n",
      "01:51:33 - OI2: INFO - []\n"
     ]
    },
    {
     "name": "stdout",
     "output_type": "stream",
     "text": [
      "progress = 73.9%\n"
     ]
    },
    {
     "name": "stderr",
     "output_type": "stream",
     "text": [
      "01:51:36 - OI2: INFO - Duplicated gene symbols in the prize file (we'll keep the max prize):\n",
      "01:51:36 - OI2: INFO - []\n",
      "01:51:36 - OI2: INFO - Members of the prize file not present in the interactome:\n",
      "01:51:36 - OI2: INFO - []\n"
     ]
    },
    {
     "name": "stdout",
     "output_type": "stream",
     "text": [
      "progress = 74.0%\n"
     ]
    },
    {
     "name": "stderr",
     "output_type": "stream",
     "text": [
      "01:51:38 - OI2: INFO - Duplicated gene symbols in the prize file (we'll keep the max prize):\n",
      "01:51:38 - OI2: INFO - []\n",
      "01:51:38 - OI2: INFO - Members of the prize file not present in the interactome:\n",
      "01:51:38 - OI2: INFO - []\n"
     ]
    },
    {
     "name": "stdout",
     "output_type": "stream",
     "text": [
      "progress = 74.1%\n"
     ]
    },
    {
     "name": "stderr",
     "output_type": "stream",
     "text": [
      "01:51:41 - OI2: INFO - Duplicated gene symbols in the prize file (we'll keep the max prize):\n",
      "01:51:41 - OI2: INFO - []\n",
      "01:51:41 - OI2: INFO - Members of the prize file not present in the interactome:\n",
      "01:51:41 - OI2: INFO - []\n"
     ]
    },
    {
     "name": "stdout",
     "output_type": "stream",
     "text": [
      "progress = 74.2%\n"
     ]
    },
    {
     "name": "stderr",
     "output_type": "stream",
     "text": [
      "01:51:44 - OI2: INFO - Duplicated gene symbols in the prize file (we'll keep the max prize):\n",
      "01:51:44 - OI2: INFO - []\n",
      "01:51:44 - OI2: INFO - Members of the prize file not present in the interactome:\n",
      "01:51:44 - OI2: INFO - []\n"
     ]
    },
    {
     "name": "stdout",
     "output_type": "stream",
     "text": [
      "progress = 74.3%\n"
     ]
    },
    {
     "name": "stderr",
     "output_type": "stream",
     "text": [
      "01:51:46 - OI2: INFO - Duplicated gene symbols in the prize file (we'll keep the max prize):\n",
      "01:51:46 - OI2: INFO - []\n",
      "01:51:46 - OI2: INFO - Members of the prize file not present in the interactome:\n",
      "01:51:46 - OI2: INFO - []\n"
     ]
    },
    {
     "name": "stdout",
     "output_type": "stream",
     "text": [
      "progress = 74.4%\n"
     ]
    },
    {
     "name": "stderr",
     "output_type": "stream",
     "text": [
      "01:51:49 - OI2: INFO - Duplicated gene symbols in the prize file (we'll keep the max prize):\n",
      "01:51:49 - OI2: INFO - []\n",
      "01:51:49 - OI2: INFO - Members of the prize file not present in the interactome:\n",
      "01:51:49 - OI2: INFO - []\n"
     ]
    },
    {
     "name": "stdout",
     "output_type": "stream",
     "text": [
      "progress = 74.5%\n"
     ]
    },
    {
     "name": "stderr",
     "output_type": "stream",
     "text": [
      "01:51:52 - OI2: INFO - Duplicated gene symbols in the prize file (we'll keep the max prize):\n",
      "01:51:52 - OI2: INFO - []\n",
      "01:51:52 - OI2: INFO - Members of the prize file not present in the interactome:\n",
      "01:51:52 - OI2: INFO - []\n"
     ]
    },
    {
     "name": "stdout",
     "output_type": "stream",
     "text": [
      "progress = 74.6%\n"
     ]
    },
    {
     "name": "stderr",
     "output_type": "stream",
     "text": [
      "01:51:54 - OI2: INFO - Duplicated gene symbols in the prize file (we'll keep the max prize):\n",
      "01:51:54 - OI2: INFO - []\n",
      "01:51:54 - OI2: INFO - Members of the prize file not present in the interactome:\n",
      "01:51:54 - OI2: INFO - []\n"
     ]
    },
    {
     "name": "stdout",
     "output_type": "stream",
     "text": [
      "progress = 74.7%\n"
     ]
    },
    {
     "name": "stderr",
     "output_type": "stream",
     "text": [
      "01:51:57 - OI2: INFO - Duplicated gene symbols in the prize file (we'll keep the max prize):\n",
      "01:51:57 - OI2: INFO - []\n",
      "01:51:57 - OI2: INFO - Members of the prize file not present in the interactome:\n",
      "01:51:57 - OI2: INFO - []\n"
     ]
    },
    {
     "name": "stdout",
     "output_type": "stream",
     "text": [
      "progress = 74.8%\n"
     ]
    },
    {
     "name": "stderr",
     "output_type": "stream",
     "text": [
      "01:52:00 - OI2: INFO - Duplicated gene symbols in the prize file (we'll keep the max prize):\n",
      "01:52:00 - OI2: INFO - []\n",
      "01:52:00 - OI2: INFO - Members of the prize file not present in the interactome:\n",
      "01:52:00 - OI2: INFO - []\n"
     ]
    },
    {
     "name": "stdout",
     "output_type": "stream",
     "text": [
      "progress = 74.9%\n"
     ]
    },
    {
     "name": "stderr",
     "output_type": "stream",
     "text": [
      "01:52:02 - OI2: INFO - Duplicated gene symbols in the prize file (we'll keep the max prize):\n",
      "01:52:02 - OI2: INFO - []\n",
      "01:52:02 - OI2: INFO - Members of the prize file not present in the interactome:\n",
      "01:52:02 - OI2: INFO - []\n"
     ]
    },
    {
     "name": "stdout",
     "output_type": "stream",
     "text": [
      "progress = 75.0%\n"
     ]
    },
    {
     "name": "stderr",
     "output_type": "stream",
     "text": [
      "01:52:05 - OI2: INFO - Duplicated gene symbols in the prize file (we'll keep the max prize):\n",
      "01:52:05 - OI2: INFO - []\n",
      "01:52:05 - OI2: INFO - Members of the prize file not present in the interactome:\n",
      "01:52:05 - OI2: INFO - []\n"
     ]
    },
    {
     "name": "stdout",
     "output_type": "stream",
     "text": [
      "progress = 75.1%\n"
     ]
    },
    {
     "name": "stderr",
     "output_type": "stream",
     "text": [
      "01:52:08 - OI2: INFO - Duplicated gene symbols in the prize file (we'll keep the max prize):\n",
      "01:52:08 - OI2: INFO - []\n",
      "01:52:08 - OI2: INFO - Members of the prize file not present in the interactome:\n",
      "01:52:08 - OI2: INFO - []\n"
     ]
    },
    {
     "name": "stdout",
     "output_type": "stream",
     "text": [
      "progress = 75.2%\n"
     ]
    },
    {
     "name": "stderr",
     "output_type": "stream",
     "text": [
      "01:52:11 - OI2: INFO - Duplicated gene symbols in the prize file (we'll keep the max prize):\n",
      "01:52:11 - OI2: INFO - []\n",
      "01:52:11 - OI2: INFO - Members of the prize file not present in the interactome:\n",
      "01:52:11 - OI2: INFO - []\n"
     ]
    },
    {
     "name": "stdout",
     "output_type": "stream",
     "text": [
      "progress = 75.3%\n"
     ]
    },
    {
     "name": "stderr",
     "output_type": "stream",
     "text": [
      "01:52:13 - OI2: INFO - Duplicated gene symbols in the prize file (we'll keep the max prize):\n",
      "01:52:13 - OI2: INFO - []\n",
      "01:52:13 - OI2: INFO - Members of the prize file not present in the interactome:\n",
      "01:52:13 - OI2: INFO - []\n"
     ]
    },
    {
     "name": "stdout",
     "output_type": "stream",
     "text": [
      "progress = 75.4%\n"
     ]
    },
    {
     "name": "stderr",
     "output_type": "stream",
     "text": [
      "01:52:16 - OI2: INFO - Duplicated gene symbols in the prize file (we'll keep the max prize):\n",
      "01:52:16 - OI2: INFO - []\n",
      "01:52:16 - OI2: INFO - Members of the prize file not present in the interactome:\n",
      "01:52:16 - OI2: INFO - []\n"
     ]
    },
    {
     "name": "stdout",
     "output_type": "stream",
     "text": [
      "progress = 75.5%\n"
     ]
    },
    {
     "name": "stderr",
     "output_type": "stream",
     "text": [
      "01:52:19 - OI2: INFO - Duplicated gene symbols in the prize file (we'll keep the max prize):\n",
      "01:52:19 - OI2: INFO - []\n",
      "01:52:19 - OI2: INFO - Members of the prize file not present in the interactome:\n",
      "01:52:19 - OI2: INFO - []\n"
     ]
    },
    {
     "name": "stdout",
     "output_type": "stream",
     "text": [
      "progress = 75.6%\n"
     ]
    },
    {
     "name": "stderr",
     "output_type": "stream",
     "text": [
      "01:52:21 - OI2: INFO - Duplicated gene symbols in the prize file (we'll keep the max prize):\n",
      "01:52:21 - OI2: INFO - []\n",
      "01:52:21 - OI2: INFO - Members of the prize file not present in the interactome:\n",
      "01:52:21 - OI2: INFO - []\n"
     ]
    },
    {
     "name": "stdout",
     "output_type": "stream",
     "text": [
      "progress = 75.7%\n"
     ]
    },
    {
     "name": "stderr",
     "output_type": "stream",
     "text": [
      "01:52:24 - OI2: INFO - Duplicated gene symbols in the prize file (we'll keep the max prize):\n",
      "01:52:24 - OI2: INFO - []\n",
      "01:52:24 - OI2: INFO - Members of the prize file not present in the interactome:\n",
      "01:52:24 - OI2: INFO - []\n"
     ]
    },
    {
     "name": "stdout",
     "output_type": "stream",
     "text": [
      "progress = 75.8%\n"
     ]
    },
    {
     "name": "stderr",
     "output_type": "stream",
     "text": [
      "01:52:26 - OI2: INFO - Duplicated gene symbols in the prize file (we'll keep the max prize):\n",
      "01:52:26 - OI2: INFO - []\n",
      "01:52:26 - OI2: INFO - Members of the prize file not present in the interactome:\n",
      "01:52:26 - OI2: INFO - []\n"
     ]
    },
    {
     "name": "stdout",
     "output_type": "stream",
     "text": [
      "progress = 75.9%\n"
     ]
    },
    {
     "name": "stderr",
     "output_type": "stream",
     "text": [
      "01:52:29 - OI2: INFO - Duplicated gene symbols in the prize file (we'll keep the max prize):\n",
      "01:52:29 - OI2: INFO - []\n",
      "01:52:29 - OI2: INFO - Members of the prize file not present in the interactome:\n",
      "01:52:29 - OI2: INFO - []\n"
     ]
    },
    {
     "name": "stdout",
     "output_type": "stream",
     "text": [
      "progress = 76.0%\n"
     ]
    },
    {
     "name": "stderr",
     "output_type": "stream",
     "text": [
      "01:52:32 - OI2: INFO - Duplicated gene symbols in the prize file (we'll keep the max prize):\n",
      "01:52:32 - OI2: INFO - []\n",
      "01:52:32 - OI2: INFO - Members of the prize file not present in the interactome:\n",
      "01:52:32 - OI2: INFO - []\n"
     ]
    },
    {
     "name": "stdout",
     "output_type": "stream",
     "text": [
      "progress = 76.1%\n"
     ]
    },
    {
     "name": "stderr",
     "output_type": "stream",
     "text": [
      "01:52:35 - OI2: INFO - Duplicated gene symbols in the prize file (we'll keep the max prize):\n",
      "01:52:35 - OI2: INFO - []\n",
      "01:52:35 - OI2: INFO - Members of the prize file not present in the interactome:\n",
      "01:52:35 - OI2: INFO - []\n"
     ]
    },
    {
     "name": "stdout",
     "output_type": "stream",
     "text": [
      "progress = 76.2%\n"
     ]
    },
    {
     "name": "stderr",
     "output_type": "stream",
     "text": [
      "01:52:37 - OI2: INFO - Duplicated gene symbols in the prize file (we'll keep the max prize):\n",
      "01:52:37 - OI2: INFO - []\n",
      "01:52:37 - OI2: INFO - Members of the prize file not present in the interactome:\n",
      "01:52:37 - OI2: INFO - []\n"
     ]
    },
    {
     "name": "stdout",
     "output_type": "stream",
     "text": [
      "progress = 76.3%\n"
     ]
    },
    {
     "name": "stderr",
     "output_type": "stream",
     "text": [
      "01:52:40 - OI2: INFO - Duplicated gene symbols in the prize file (we'll keep the max prize):\n",
      "01:52:40 - OI2: INFO - []\n",
      "01:52:40 - OI2: INFO - Members of the prize file not present in the interactome:\n",
      "01:52:40 - OI2: INFO - []\n"
     ]
    },
    {
     "name": "stdout",
     "output_type": "stream",
     "text": [
      "progress = 76.4%\n"
     ]
    },
    {
     "name": "stderr",
     "output_type": "stream",
     "text": [
      "01:52:43 - OI2: INFO - Duplicated gene symbols in the prize file (we'll keep the max prize):\n",
      "01:52:43 - OI2: INFO - []\n",
      "01:52:43 - OI2: INFO - Members of the prize file not present in the interactome:\n",
      "01:52:43 - OI2: INFO - []\n"
     ]
    },
    {
     "name": "stdout",
     "output_type": "stream",
     "text": [
      "progress = 76.5%\n"
     ]
    },
    {
     "name": "stderr",
     "output_type": "stream",
     "text": [
      "01:52:45 - OI2: INFO - Duplicated gene symbols in the prize file (we'll keep the max prize):\n",
      "01:52:45 - OI2: INFO - []\n",
      "01:52:45 - OI2: INFO - Members of the prize file not present in the interactome:\n",
      "01:52:45 - OI2: INFO - []\n"
     ]
    },
    {
     "name": "stdout",
     "output_type": "stream",
     "text": [
      "progress = 76.6%\n"
     ]
    },
    {
     "name": "stderr",
     "output_type": "stream",
     "text": [
      "01:52:48 - OI2: INFO - Duplicated gene symbols in the prize file (we'll keep the max prize):\n",
      "01:52:48 - OI2: INFO - []\n",
      "01:52:48 - OI2: INFO - Members of the prize file not present in the interactome:\n",
      "01:52:48 - OI2: INFO - []\n"
     ]
    },
    {
     "name": "stdout",
     "output_type": "stream",
     "text": [
      "progress = 76.7%\n"
     ]
    },
    {
     "name": "stderr",
     "output_type": "stream",
     "text": [
      "01:52:51 - OI2: INFO - Duplicated gene symbols in the prize file (we'll keep the max prize):\n",
      "01:52:51 - OI2: INFO - []\n",
      "01:52:51 - OI2: INFO - Members of the prize file not present in the interactome:\n",
      "01:52:51 - OI2: INFO - []\n"
     ]
    },
    {
     "name": "stdout",
     "output_type": "stream",
     "text": [
      "progress = 76.8%\n"
     ]
    },
    {
     "name": "stderr",
     "output_type": "stream",
     "text": [
      "01:52:53 - OI2: INFO - Duplicated gene symbols in the prize file (we'll keep the max prize):\n",
      "01:52:53 - OI2: INFO - []\n",
      "01:52:53 - OI2: INFO - Members of the prize file not present in the interactome:\n",
      "01:52:53 - OI2: INFO - []\n"
     ]
    },
    {
     "name": "stdout",
     "output_type": "stream",
     "text": [
      "progress = 76.9%\n"
     ]
    },
    {
     "name": "stderr",
     "output_type": "stream",
     "text": [
      "01:52:56 - OI2: INFO - Duplicated gene symbols in the prize file (we'll keep the max prize):\n",
      "01:52:56 - OI2: INFO - []\n",
      "01:52:56 - OI2: INFO - Members of the prize file not present in the interactome:\n",
      "01:52:56 - OI2: INFO - []\n"
     ]
    },
    {
     "name": "stdout",
     "output_type": "stream",
     "text": [
      "progress = 77.0%\n"
     ]
    },
    {
     "name": "stderr",
     "output_type": "stream",
     "text": [
      "01:52:59 - OI2: INFO - Duplicated gene symbols in the prize file (we'll keep the max prize):\n",
      "01:52:59 - OI2: INFO - []\n",
      "01:52:59 - OI2: INFO - Members of the prize file not present in the interactome:\n",
      "01:52:59 - OI2: INFO - []\n"
     ]
    },
    {
     "name": "stdout",
     "output_type": "stream",
     "text": [
      "progress = 77.10000000000001%\n"
     ]
    },
    {
     "name": "stderr",
     "output_type": "stream",
     "text": [
      "01:53:01 - OI2: INFO - Duplicated gene symbols in the prize file (we'll keep the max prize):\n",
      "01:53:01 - OI2: INFO - []\n",
      "01:53:01 - OI2: INFO - Members of the prize file not present in the interactome:\n",
      "01:53:01 - OI2: INFO - []\n"
     ]
    },
    {
     "name": "stdout",
     "output_type": "stream",
     "text": [
      "progress = 77.2%\n"
     ]
    },
    {
     "name": "stderr",
     "output_type": "stream",
     "text": [
      "01:53:04 - OI2: INFO - Duplicated gene symbols in the prize file (we'll keep the max prize):\n",
      "01:53:04 - OI2: INFO - []\n",
      "01:53:04 - OI2: INFO - Members of the prize file not present in the interactome:\n",
      "01:53:04 - OI2: INFO - []\n"
     ]
    },
    {
     "name": "stdout",
     "output_type": "stream",
     "text": [
      "progress = 77.3%\n"
     ]
    },
    {
     "name": "stderr",
     "output_type": "stream",
     "text": [
      "01:53:07 - OI2: INFO - Duplicated gene symbols in the prize file (we'll keep the max prize):\n",
      "01:53:07 - OI2: INFO - []\n",
      "01:53:07 - OI2: INFO - Members of the prize file not present in the interactome:\n",
      "01:53:07 - OI2: INFO - []\n"
     ]
    },
    {
     "name": "stdout",
     "output_type": "stream",
     "text": [
      "progress = 77.4%\n"
     ]
    },
    {
     "name": "stderr",
     "output_type": "stream",
     "text": [
      "01:53:09 - OI2: INFO - Duplicated gene symbols in the prize file (we'll keep the max prize):\n",
      "01:53:09 - OI2: INFO - []\n",
      "01:53:09 - OI2: INFO - Members of the prize file not present in the interactome:\n",
      "01:53:09 - OI2: INFO - []\n"
     ]
    },
    {
     "name": "stdout",
     "output_type": "stream",
     "text": [
      "progress = 77.5%\n"
     ]
    },
    {
     "name": "stderr",
     "output_type": "stream",
     "text": [
      "01:53:12 - OI2: INFO - Duplicated gene symbols in the prize file (we'll keep the max prize):\n",
      "01:53:12 - OI2: INFO - []\n",
      "01:53:12 - OI2: INFO - Members of the prize file not present in the interactome:\n",
      "01:53:12 - OI2: INFO - []\n"
     ]
    },
    {
     "name": "stdout",
     "output_type": "stream",
     "text": [
      "progress = 77.60000000000001%\n"
     ]
    },
    {
     "name": "stderr",
     "output_type": "stream",
     "text": [
      "01:53:15 - OI2: INFO - Duplicated gene symbols in the prize file (we'll keep the max prize):\n",
      "01:53:15 - OI2: INFO - []\n",
      "01:53:15 - OI2: INFO - Members of the prize file not present in the interactome:\n",
      "01:53:15 - OI2: INFO - []\n"
     ]
    },
    {
     "name": "stdout",
     "output_type": "stream",
     "text": [
      "progress = 77.7%\n"
     ]
    },
    {
     "name": "stderr",
     "output_type": "stream",
     "text": [
      "01:53:17 - OI2: INFO - Duplicated gene symbols in the prize file (we'll keep the max prize):\n",
      "01:53:17 - OI2: INFO - []\n",
      "01:53:17 - OI2: INFO - Members of the prize file not present in the interactome:\n",
      "01:53:17 - OI2: INFO - []\n"
     ]
    },
    {
     "name": "stdout",
     "output_type": "stream",
     "text": [
      "progress = 77.8%\n"
     ]
    },
    {
     "name": "stderr",
     "output_type": "stream",
     "text": [
      "01:53:20 - OI2: INFO - Duplicated gene symbols in the prize file (we'll keep the max prize):\n",
      "01:53:20 - OI2: INFO - []\n",
      "01:53:20 - OI2: INFO - Members of the prize file not present in the interactome:\n",
      "01:53:20 - OI2: INFO - []\n"
     ]
    },
    {
     "name": "stdout",
     "output_type": "stream",
     "text": [
      "progress = 77.9%\n"
     ]
    },
    {
     "name": "stderr",
     "output_type": "stream",
     "text": [
      "01:53:22 - OI2: INFO - Duplicated gene symbols in the prize file (we'll keep the max prize):\n",
      "01:53:22 - OI2: INFO - []\n",
      "01:53:22 - OI2: INFO - Members of the prize file not present in the interactome:\n",
      "01:53:22 - OI2: INFO - []\n"
     ]
    },
    {
     "name": "stdout",
     "output_type": "stream",
     "text": [
      "progress = 78.0%\n"
     ]
    },
    {
     "name": "stderr",
     "output_type": "stream",
     "text": [
      "01:53:25 - OI2: INFO - Duplicated gene symbols in the prize file (we'll keep the max prize):\n",
      "01:53:25 - OI2: INFO - []\n",
      "01:53:25 - OI2: INFO - Members of the prize file not present in the interactome:\n",
      "01:53:25 - OI2: INFO - []\n"
     ]
    },
    {
     "name": "stdout",
     "output_type": "stream",
     "text": [
      "progress = 78.10000000000001%\n"
     ]
    },
    {
     "name": "stderr",
     "output_type": "stream",
     "text": [
      "01:53:28 - OI2: INFO - Duplicated gene symbols in the prize file (we'll keep the max prize):\n",
      "01:53:28 - OI2: INFO - []\n",
      "01:53:28 - OI2: INFO - Members of the prize file not present in the interactome:\n",
      "01:53:28 - OI2: INFO - []\n"
     ]
    },
    {
     "name": "stdout",
     "output_type": "stream",
     "text": [
      "progress = 78.2%\n"
     ]
    },
    {
     "name": "stderr",
     "output_type": "stream",
     "text": [
      "01:53:30 - OI2: INFO - Duplicated gene symbols in the prize file (we'll keep the max prize):\n",
      "01:53:30 - OI2: INFO - []\n",
      "01:53:30 - OI2: INFO - Members of the prize file not present in the interactome:\n",
      "01:53:30 - OI2: INFO - []\n"
     ]
    },
    {
     "name": "stdout",
     "output_type": "stream",
     "text": [
      "progress = 78.3%\n"
     ]
    },
    {
     "name": "stderr",
     "output_type": "stream",
     "text": [
      "01:53:33 - OI2: INFO - Duplicated gene symbols in the prize file (we'll keep the max prize):\n",
      "01:53:33 - OI2: INFO - []\n",
      "01:53:33 - OI2: INFO - Members of the prize file not present in the interactome:\n",
      "01:53:33 - OI2: INFO - []\n"
     ]
    },
    {
     "name": "stdout",
     "output_type": "stream",
     "text": [
      "progress = 78.4%\n"
     ]
    },
    {
     "name": "stderr",
     "output_type": "stream",
     "text": [
      "01:53:36 - OI2: INFO - Duplicated gene symbols in the prize file (we'll keep the max prize):\n",
      "01:53:36 - OI2: INFO - []\n",
      "01:53:36 - OI2: INFO - Members of the prize file not present in the interactome:\n",
      "01:53:36 - OI2: INFO - []\n"
     ]
    },
    {
     "name": "stdout",
     "output_type": "stream",
     "text": [
      "progress = 78.5%\n"
     ]
    },
    {
     "name": "stderr",
     "output_type": "stream",
     "text": [
      "01:53:38 - OI2: INFO - Duplicated gene symbols in the prize file (we'll keep the max prize):\n",
      "01:53:38 - OI2: INFO - []\n",
      "01:53:38 - OI2: INFO - Members of the prize file not present in the interactome:\n",
      "01:53:38 - OI2: INFO - []\n"
     ]
    },
    {
     "name": "stdout",
     "output_type": "stream",
     "text": [
      "progress = 78.60000000000001%\n"
     ]
    },
    {
     "name": "stderr",
     "output_type": "stream",
     "text": [
      "01:53:41 - OI2: INFO - Duplicated gene symbols in the prize file (we'll keep the max prize):\n",
      "01:53:41 - OI2: INFO - []\n",
      "01:53:41 - OI2: INFO - Members of the prize file not present in the interactome:\n",
      "01:53:41 - OI2: INFO - []\n"
     ]
    },
    {
     "name": "stdout",
     "output_type": "stream",
     "text": [
      "progress = 78.7%\n"
     ]
    },
    {
     "name": "stderr",
     "output_type": "stream",
     "text": [
      "01:53:44 - OI2: INFO - Duplicated gene symbols in the prize file (we'll keep the max prize):\n",
      "01:53:44 - OI2: INFO - []\n",
      "01:53:44 - OI2: INFO - Members of the prize file not present in the interactome:\n",
      "01:53:44 - OI2: INFO - []\n"
     ]
    },
    {
     "name": "stdout",
     "output_type": "stream",
     "text": [
      "progress = 78.8%\n"
     ]
    },
    {
     "name": "stderr",
     "output_type": "stream",
     "text": [
      "01:53:46 - OI2: INFO - Duplicated gene symbols in the prize file (we'll keep the max prize):\n",
      "01:53:46 - OI2: INFO - []\n",
      "01:53:46 - OI2: INFO - Members of the prize file not present in the interactome:\n",
      "01:53:46 - OI2: INFO - []\n"
     ]
    },
    {
     "name": "stdout",
     "output_type": "stream",
     "text": [
      "progress = 78.9%\n"
     ]
    },
    {
     "name": "stderr",
     "output_type": "stream",
     "text": [
      "01:53:49 - OI2: INFO - Duplicated gene symbols in the prize file (we'll keep the max prize):\n",
      "01:53:49 - OI2: INFO - []\n",
      "01:53:49 - OI2: INFO - Members of the prize file not present in the interactome:\n",
      "01:53:49 - OI2: INFO - []\n"
     ]
    },
    {
     "name": "stdout",
     "output_type": "stream",
     "text": [
      "progress = 79.0%\n"
     ]
    },
    {
     "name": "stderr",
     "output_type": "stream",
     "text": [
      "01:53:52 - OI2: INFO - Duplicated gene symbols in the prize file (we'll keep the max prize):\n",
      "01:53:52 - OI2: INFO - []\n",
      "01:53:52 - OI2: INFO - Members of the prize file not present in the interactome:\n",
      "01:53:52 - OI2: INFO - []\n"
     ]
    },
    {
     "name": "stdout",
     "output_type": "stream",
     "text": [
      "progress = 79.10000000000001%\n"
     ]
    },
    {
     "name": "stderr",
     "output_type": "stream",
     "text": [
      "01:53:54 - OI2: INFO - Duplicated gene symbols in the prize file (we'll keep the max prize):\n",
      "01:53:54 - OI2: INFO - []\n",
      "01:53:54 - OI2: INFO - Members of the prize file not present in the interactome:\n",
      "01:53:54 - OI2: INFO - []\n"
     ]
    },
    {
     "name": "stdout",
     "output_type": "stream",
     "text": [
      "progress = 79.2%\n"
     ]
    },
    {
     "name": "stderr",
     "output_type": "stream",
     "text": [
      "01:53:57 - OI2: INFO - Duplicated gene symbols in the prize file (we'll keep the max prize):\n",
      "01:53:57 - OI2: INFO - []\n",
      "01:53:57 - OI2: INFO - Members of the prize file not present in the interactome:\n",
      "01:53:57 - OI2: INFO - []\n"
     ]
    },
    {
     "name": "stdout",
     "output_type": "stream",
     "text": [
      "progress = 79.3%\n"
     ]
    },
    {
     "name": "stderr",
     "output_type": "stream",
     "text": [
      "01:54:00 - OI2: INFO - Duplicated gene symbols in the prize file (we'll keep the max prize):\n",
      "01:54:00 - OI2: INFO - []\n",
      "01:54:00 - OI2: INFO - Members of the prize file not present in the interactome:\n",
      "01:54:00 - OI2: INFO - []\n"
     ]
    },
    {
     "name": "stdout",
     "output_type": "stream",
     "text": [
      "progress = 79.4%\n"
     ]
    },
    {
     "name": "stderr",
     "output_type": "stream",
     "text": [
      "01:54:02 - OI2: INFO - Duplicated gene symbols in the prize file (we'll keep the max prize):\n",
      "01:54:02 - OI2: INFO - []\n",
      "01:54:02 - OI2: INFO - Members of the prize file not present in the interactome:\n",
      "01:54:02 - OI2: INFO - []\n"
     ]
    },
    {
     "name": "stdout",
     "output_type": "stream",
     "text": [
      "progress = 79.5%\n"
     ]
    },
    {
     "name": "stderr",
     "output_type": "stream",
     "text": [
      "01:54:05 - OI2: INFO - Duplicated gene symbols in the prize file (we'll keep the max prize):\n",
      "01:54:05 - OI2: INFO - []\n",
      "01:54:05 - OI2: INFO - Members of the prize file not present in the interactome:\n",
      "01:54:05 - OI2: INFO - []\n"
     ]
    },
    {
     "name": "stdout",
     "output_type": "stream",
     "text": [
      "progress = 79.60000000000001%\n"
     ]
    },
    {
     "name": "stderr",
     "output_type": "stream",
     "text": [
      "01:54:08 - OI2: INFO - Duplicated gene symbols in the prize file (we'll keep the max prize):\n",
      "01:54:08 - OI2: INFO - []\n",
      "01:54:08 - OI2: INFO - Members of the prize file not present in the interactome:\n",
      "01:54:08 - OI2: INFO - []\n"
     ]
    },
    {
     "name": "stdout",
     "output_type": "stream",
     "text": [
      "progress = 79.7%\n"
     ]
    },
    {
     "name": "stderr",
     "output_type": "stream",
     "text": [
      "01:54:10 - OI2: INFO - Duplicated gene symbols in the prize file (we'll keep the max prize):\n",
      "01:54:10 - OI2: INFO - []\n",
      "01:54:10 - OI2: INFO - Members of the prize file not present in the interactome:\n",
      "01:54:10 - OI2: INFO - []\n"
     ]
    },
    {
     "name": "stdout",
     "output_type": "stream",
     "text": [
      "progress = 79.80000000000001%\n"
     ]
    },
    {
     "name": "stderr",
     "output_type": "stream",
     "text": [
      "01:54:13 - OI2: INFO - Duplicated gene symbols in the prize file (we'll keep the max prize):\n",
      "01:54:13 - OI2: INFO - []\n",
      "01:54:13 - OI2: INFO - Members of the prize file not present in the interactome:\n",
      "01:54:13 - OI2: INFO - []\n"
     ]
    },
    {
     "name": "stdout",
     "output_type": "stream",
     "text": [
      "progress = 79.9%\n"
     ]
    },
    {
     "name": "stderr",
     "output_type": "stream",
     "text": [
      "01:54:16 - OI2: INFO - Duplicated gene symbols in the prize file (we'll keep the max prize):\n",
      "01:54:16 - OI2: INFO - []\n",
      "01:54:16 - OI2: INFO - Members of the prize file not present in the interactome:\n",
      "01:54:16 - OI2: INFO - []\n"
     ]
    },
    {
     "name": "stdout",
     "output_type": "stream",
     "text": [
      "progress = 80.0%\n"
     ]
    },
    {
     "name": "stderr",
     "output_type": "stream",
     "text": [
      "01:54:18 - OI2: INFO - Duplicated gene symbols in the prize file (we'll keep the max prize):\n",
      "01:54:18 - OI2: INFO - []\n",
      "01:54:18 - OI2: INFO - Members of the prize file not present in the interactome:\n",
      "01:54:18 - OI2: INFO - []\n"
     ]
    },
    {
     "name": "stdout",
     "output_type": "stream",
     "text": [
      "progress = 80.10000000000001%\n"
     ]
    },
    {
     "name": "stderr",
     "output_type": "stream",
     "text": [
      "01:54:21 - OI2: INFO - Duplicated gene symbols in the prize file (we'll keep the max prize):\n",
      "01:54:21 - OI2: INFO - []\n",
      "01:54:21 - OI2: INFO - Members of the prize file not present in the interactome:\n",
      "01:54:21 - OI2: INFO - []\n"
     ]
    },
    {
     "name": "stdout",
     "output_type": "stream",
     "text": [
      "progress = 80.2%\n"
     ]
    },
    {
     "name": "stderr",
     "output_type": "stream",
     "text": [
      "01:54:24 - OI2: INFO - Duplicated gene symbols in the prize file (we'll keep the max prize):\n",
      "01:54:24 - OI2: INFO - []\n",
      "01:54:24 - OI2: INFO - Members of the prize file not present in the interactome:\n",
      "01:54:24 - OI2: INFO - []\n"
     ]
    },
    {
     "name": "stdout",
     "output_type": "stream",
     "text": [
      "progress = 80.30000000000001%\n"
     ]
    },
    {
     "name": "stderr",
     "output_type": "stream",
     "text": [
      "01:54:26 - OI2: INFO - Duplicated gene symbols in the prize file (we'll keep the max prize):\n",
      "01:54:26 - OI2: INFO - []\n",
      "01:54:26 - OI2: INFO - Members of the prize file not present in the interactome:\n",
      "01:54:26 - OI2: INFO - []\n"
     ]
    },
    {
     "name": "stdout",
     "output_type": "stream",
     "text": [
      "progress = 80.4%\n"
     ]
    },
    {
     "name": "stderr",
     "output_type": "stream",
     "text": [
      "01:54:29 - OI2: INFO - Duplicated gene symbols in the prize file (we'll keep the max prize):\n",
      "01:54:29 - OI2: INFO - []\n",
      "01:54:29 - OI2: INFO - Members of the prize file not present in the interactome:\n",
      "01:54:29 - OI2: INFO - []\n"
     ]
    },
    {
     "name": "stdout",
     "output_type": "stream",
     "text": [
      "progress = 80.5%\n"
     ]
    },
    {
     "name": "stderr",
     "output_type": "stream",
     "text": [
      "01:54:32 - OI2: INFO - Duplicated gene symbols in the prize file (we'll keep the max prize):\n",
      "01:54:32 - OI2: INFO - []\n",
      "01:54:32 - OI2: INFO - Members of the prize file not present in the interactome:\n",
      "01:54:32 - OI2: INFO - []\n"
     ]
    },
    {
     "name": "stdout",
     "output_type": "stream",
     "text": [
      "progress = 80.60000000000001%\n"
     ]
    },
    {
     "name": "stderr",
     "output_type": "stream",
     "text": [
      "01:54:34 - OI2: INFO - Duplicated gene symbols in the prize file (we'll keep the max prize):\n",
      "01:54:34 - OI2: INFO - []\n",
      "01:54:34 - OI2: INFO - Members of the prize file not present in the interactome:\n",
      "01:54:34 - OI2: INFO - []\n"
     ]
    },
    {
     "name": "stdout",
     "output_type": "stream",
     "text": [
      "progress = 80.7%\n"
     ]
    },
    {
     "name": "stderr",
     "output_type": "stream",
     "text": [
      "01:54:37 - OI2: INFO - Duplicated gene symbols in the prize file (we'll keep the max prize):\n",
      "01:54:37 - OI2: INFO - []\n",
      "01:54:37 - OI2: INFO - Members of the prize file not present in the interactome:\n",
      "01:54:37 - OI2: INFO - []\n"
     ]
    },
    {
     "name": "stdout",
     "output_type": "stream",
     "text": [
      "progress = 80.80000000000001%\n"
     ]
    },
    {
     "name": "stderr",
     "output_type": "stream",
     "text": [
      "01:54:40 - OI2: INFO - Duplicated gene symbols in the prize file (we'll keep the max prize):\n",
      "01:54:40 - OI2: INFO - []\n",
      "01:54:40 - OI2: INFO - Members of the prize file not present in the interactome:\n",
      "01:54:40 - OI2: INFO - []\n"
     ]
    },
    {
     "name": "stdout",
     "output_type": "stream",
     "text": [
      "progress = 80.9%\n"
     ]
    },
    {
     "name": "stderr",
     "output_type": "stream",
     "text": [
      "01:54:42 - OI2: INFO - Duplicated gene symbols in the prize file (we'll keep the max prize):\n",
      "01:54:42 - OI2: INFO - []\n",
      "01:54:42 - OI2: INFO - Members of the prize file not present in the interactome:\n",
      "01:54:42 - OI2: INFO - []\n"
     ]
    },
    {
     "name": "stdout",
     "output_type": "stream",
     "text": [
      "progress = 81.0%\n"
     ]
    },
    {
     "name": "stderr",
     "output_type": "stream",
     "text": [
      "01:54:45 - OI2: INFO - Duplicated gene symbols in the prize file (we'll keep the max prize):\n",
      "01:54:45 - OI2: INFO - []\n",
      "01:54:45 - OI2: INFO - Members of the prize file not present in the interactome:\n",
      "01:54:45 - OI2: INFO - []\n"
     ]
    },
    {
     "name": "stdout",
     "output_type": "stream",
     "text": [
      "progress = 81.10000000000001%\n"
     ]
    },
    {
     "name": "stderr",
     "output_type": "stream",
     "text": [
      "01:54:48 - OI2: INFO - Duplicated gene symbols in the prize file (we'll keep the max prize):\n",
      "01:54:48 - OI2: INFO - []\n",
      "01:54:48 - OI2: INFO - Members of the prize file not present in the interactome:\n",
      "01:54:48 - OI2: INFO - []\n"
     ]
    },
    {
     "name": "stdout",
     "output_type": "stream",
     "text": [
      "progress = 81.2%\n"
     ]
    },
    {
     "name": "stderr",
     "output_type": "stream",
     "text": [
      "01:54:51 - OI2: INFO - Duplicated gene symbols in the prize file (we'll keep the max prize):\n",
      "01:54:51 - OI2: INFO - []\n",
      "01:54:51 - OI2: INFO - Members of the prize file not present in the interactome:\n",
      "01:54:51 - OI2: INFO - []\n"
     ]
    },
    {
     "name": "stdout",
     "output_type": "stream",
     "text": [
      "progress = 81.3%\n"
     ]
    },
    {
     "name": "stderr",
     "output_type": "stream",
     "text": [
      "01:54:53 - OI2: INFO - Duplicated gene symbols in the prize file (we'll keep the max prize):\n",
      "01:54:53 - OI2: INFO - []\n",
      "01:54:53 - OI2: INFO - Members of the prize file not present in the interactome:\n",
      "01:54:53 - OI2: INFO - []\n"
     ]
    },
    {
     "name": "stdout",
     "output_type": "stream",
     "text": [
      "progress = 81.39999999999999%\n"
     ]
    },
    {
     "name": "stderr",
     "output_type": "stream",
     "text": [
      "01:54:56 - OI2: INFO - Duplicated gene symbols in the prize file (we'll keep the max prize):\n",
      "01:54:56 - OI2: INFO - []\n",
      "01:54:56 - OI2: INFO - Members of the prize file not present in the interactome:\n",
      "01:54:56 - OI2: INFO - []\n"
     ]
    },
    {
     "name": "stdout",
     "output_type": "stream",
     "text": [
      "progress = 81.5%\n"
     ]
    },
    {
     "name": "stderr",
     "output_type": "stream",
     "text": [
      "01:54:59 - OI2: INFO - Duplicated gene symbols in the prize file (we'll keep the max prize):\n",
      "01:54:59 - OI2: INFO - []\n",
      "01:54:59 - OI2: INFO - Members of the prize file not present in the interactome:\n",
      "01:54:59 - OI2: INFO - []\n"
     ]
    },
    {
     "name": "stdout",
     "output_type": "stream",
     "text": [
      "progress = 81.6%\n"
     ]
    },
    {
     "name": "stderr",
     "output_type": "stream",
     "text": [
      "01:55:02 - OI2: INFO - Duplicated gene symbols in the prize file (we'll keep the max prize):\n",
      "01:55:02 - OI2: INFO - []\n",
      "01:55:02 - OI2: INFO - Members of the prize file not present in the interactome:\n",
      "01:55:02 - OI2: INFO - []\n"
     ]
    },
    {
     "name": "stdout",
     "output_type": "stream",
     "text": [
      "progress = 81.69999999999999%\n"
     ]
    },
    {
     "name": "stderr",
     "output_type": "stream",
     "text": [
      "01:55:04 - OI2: INFO - Duplicated gene symbols in the prize file (we'll keep the max prize):\n",
      "01:55:04 - OI2: INFO - []\n",
      "01:55:04 - OI2: INFO - Members of the prize file not present in the interactome:\n",
      "01:55:04 - OI2: INFO - []\n"
     ]
    },
    {
     "name": "stdout",
     "output_type": "stream",
     "text": [
      "progress = 81.8%\n"
     ]
    },
    {
     "name": "stderr",
     "output_type": "stream",
     "text": [
      "01:55:07 - OI2: INFO - Duplicated gene symbols in the prize file (we'll keep the max prize):\n",
      "01:55:07 - OI2: INFO - []\n",
      "01:55:07 - OI2: INFO - Members of the prize file not present in the interactome:\n",
      "01:55:07 - OI2: INFO - []\n"
     ]
    },
    {
     "name": "stdout",
     "output_type": "stream",
     "text": [
      "progress = 81.89999999999999%\n"
     ]
    },
    {
     "name": "stderr",
     "output_type": "stream",
     "text": [
      "01:55:09 - OI2: INFO - Duplicated gene symbols in the prize file (we'll keep the max prize):\n",
      "01:55:09 - OI2: INFO - []\n",
      "01:55:09 - OI2: INFO - Members of the prize file not present in the interactome:\n",
      "01:55:09 - OI2: INFO - []\n"
     ]
    },
    {
     "name": "stdout",
     "output_type": "stream",
     "text": [
      "progress = 82.0%\n"
     ]
    },
    {
     "name": "stderr",
     "output_type": "stream",
     "text": [
      "01:55:12 - OI2: INFO - Duplicated gene symbols in the prize file (we'll keep the max prize):\n",
      "01:55:12 - OI2: INFO - []\n",
      "01:55:12 - OI2: INFO - Members of the prize file not present in the interactome:\n",
      "01:55:12 - OI2: INFO - []\n"
     ]
    },
    {
     "name": "stdout",
     "output_type": "stream",
     "text": [
      "progress = 82.1%\n"
     ]
    },
    {
     "name": "stderr",
     "output_type": "stream",
     "text": [
      "01:55:15 - OI2: INFO - Duplicated gene symbols in the prize file (we'll keep the max prize):\n",
      "01:55:15 - OI2: INFO - []\n",
      "01:55:15 - OI2: INFO - Members of the prize file not present in the interactome:\n",
      "01:55:15 - OI2: INFO - []\n"
     ]
    },
    {
     "name": "stdout",
     "output_type": "stream",
     "text": [
      "progress = 82.19999999999999%\n"
     ]
    },
    {
     "name": "stderr",
     "output_type": "stream",
     "text": [
      "01:55:18 - OI2: INFO - Duplicated gene symbols in the prize file (we'll keep the max prize):\n",
      "01:55:18 - OI2: INFO - []\n",
      "01:55:18 - OI2: INFO - Members of the prize file not present in the interactome:\n",
      "01:55:18 - OI2: INFO - []\n"
     ]
    },
    {
     "name": "stdout",
     "output_type": "stream",
     "text": [
      "progress = 82.3%\n"
     ]
    },
    {
     "name": "stderr",
     "output_type": "stream",
     "text": [
      "01:55:20 - OI2: INFO - Duplicated gene symbols in the prize file (we'll keep the max prize):\n",
      "01:55:20 - OI2: INFO - []\n",
      "01:55:20 - OI2: INFO - Members of the prize file not present in the interactome:\n",
      "01:55:20 - OI2: INFO - []\n"
     ]
    },
    {
     "name": "stdout",
     "output_type": "stream",
     "text": [
      "progress = 82.39999999999999%\n"
     ]
    },
    {
     "name": "stderr",
     "output_type": "stream",
     "text": [
      "01:55:23 - OI2: INFO - Duplicated gene symbols in the prize file (we'll keep the max prize):\n",
      "01:55:23 - OI2: INFO - []\n",
      "01:55:23 - OI2: INFO - Members of the prize file not present in the interactome:\n",
      "01:55:23 - OI2: INFO - []\n"
     ]
    },
    {
     "name": "stdout",
     "output_type": "stream",
     "text": [
      "progress = 82.5%\n"
     ]
    },
    {
     "name": "stderr",
     "output_type": "stream",
     "text": [
      "01:55:26 - OI2: INFO - Duplicated gene symbols in the prize file (we'll keep the max prize):\n",
      "01:55:26 - OI2: INFO - []\n",
      "01:55:26 - OI2: INFO - Members of the prize file not present in the interactome:\n",
      "01:55:26 - OI2: INFO - []\n"
     ]
    },
    {
     "name": "stdout",
     "output_type": "stream",
     "text": [
      "progress = 82.6%\n"
     ]
    },
    {
     "name": "stderr",
     "output_type": "stream",
     "text": [
      "01:55:28 - OI2: INFO - Duplicated gene symbols in the prize file (we'll keep the max prize):\n",
      "01:55:28 - OI2: INFO - []\n",
      "01:55:28 - OI2: INFO - Members of the prize file not present in the interactome:\n",
      "01:55:28 - OI2: INFO - []\n"
     ]
    },
    {
     "name": "stdout",
     "output_type": "stream",
     "text": [
      "progress = 82.69999999999999%\n"
     ]
    },
    {
     "name": "stderr",
     "output_type": "stream",
     "text": [
      "01:55:31 - OI2: INFO - Duplicated gene symbols in the prize file (we'll keep the max prize):\n",
      "01:55:31 - OI2: INFO - []\n",
      "01:55:31 - OI2: INFO - Members of the prize file not present in the interactome:\n",
      "01:55:31 - OI2: INFO - []\n"
     ]
    },
    {
     "name": "stdout",
     "output_type": "stream",
     "text": [
      "progress = 82.8%\n"
     ]
    },
    {
     "name": "stderr",
     "output_type": "stream",
     "text": [
      "01:55:34 - OI2: INFO - Duplicated gene symbols in the prize file (we'll keep the max prize):\n",
      "01:55:34 - OI2: INFO - []\n",
      "01:55:34 - OI2: INFO - Members of the prize file not present in the interactome:\n",
      "01:55:34 - OI2: INFO - []\n"
     ]
    },
    {
     "name": "stdout",
     "output_type": "stream",
     "text": [
      "progress = 82.89999999999999%\n"
     ]
    },
    {
     "name": "stderr",
     "output_type": "stream",
     "text": [
      "01:55:36 - OI2: INFO - Duplicated gene symbols in the prize file (we'll keep the max prize):\n",
      "01:55:36 - OI2: INFO - []\n",
      "01:55:36 - OI2: INFO - Members of the prize file not present in the interactome:\n",
      "01:55:36 - OI2: INFO - []\n"
     ]
    },
    {
     "name": "stdout",
     "output_type": "stream",
     "text": [
      "progress = 83.0%\n"
     ]
    },
    {
     "name": "stderr",
     "output_type": "stream",
     "text": [
      "01:55:39 - OI2: INFO - Duplicated gene symbols in the prize file (we'll keep the max prize):\n",
      "01:55:39 - OI2: INFO - []\n",
      "01:55:39 - OI2: INFO - Members of the prize file not present in the interactome:\n",
      "01:55:39 - OI2: INFO - []\n"
     ]
    },
    {
     "name": "stdout",
     "output_type": "stream",
     "text": [
      "progress = 83.1%\n"
     ]
    },
    {
     "name": "stderr",
     "output_type": "stream",
     "text": [
      "01:55:42 - OI2: INFO - Duplicated gene symbols in the prize file (we'll keep the max prize):\n",
      "01:55:42 - OI2: INFO - []\n",
      "01:55:42 - OI2: INFO - Members of the prize file not present in the interactome:\n",
      "01:55:42 - OI2: INFO - []\n"
     ]
    },
    {
     "name": "stdout",
     "output_type": "stream",
     "text": [
      "progress = 83.2%\n"
     ]
    },
    {
     "name": "stderr",
     "output_type": "stream",
     "text": [
      "01:55:44 - OI2: INFO - Duplicated gene symbols in the prize file (we'll keep the max prize):\n",
      "01:55:44 - OI2: INFO - []\n",
      "01:55:44 - OI2: INFO - Members of the prize file not present in the interactome:\n",
      "01:55:44 - OI2: INFO - []\n"
     ]
    },
    {
     "name": "stdout",
     "output_type": "stream",
     "text": [
      "progress = 83.3%\n"
     ]
    },
    {
     "name": "stderr",
     "output_type": "stream",
     "text": [
      "01:55:47 - OI2: INFO - Duplicated gene symbols in the prize file (we'll keep the max prize):\n",
      "01:55:47 - OI2: INFO - []\n",
      "01:55:47 - OI2: INFO - Members of the prize file not present in the interactome:\n",
      "01:55:47 - OI2: INFO - []\n"
     ]
    },
    {
     "name": "stdout",
     "output_type": "stream",
     "text": [
      "progress = 83.39999999999999%\n"
     ]
    },
    {
     "name": "stderr",
     "output_type": "stream",
     "text": [
      "01:55:50 - OI2: INFO - Duplicated gene symbols in the prize file (we'll keep the max prize):\n",
      "01:55:50 - OI2: INFO - []\n",
      "01:55:50 - OI2: INFO - Members of the prize file not present in the interactome:\n",
      "01:55:50 - OI2: INFO - []\n"
     ]
    },
    {
     "name": "stdout",
     "output_type": "stream",
     "text": [
      "progress = 83.5%\n"
     ]
    },
    {
     "name": "stderr",
     "output_type": "stream",
     "text": [
      "01:55:53 - OI2: INFO - Duplicated gene symbols in the prize file (we'll keep the max prize):\n",
      "01:55:53 - OI2: INFO - []\n",
      "01:55:53 - OI2: INFO - Members of the prize file not present in the interactome:\n",
      "01:55:53 - OI2: INFO - []\n"
     ]
    },
    {
     "name": "stdout",
     "output_type": "stream",
     "text": [
      "progress = 83.6%\n"
     ]
    },
    {
     "name": "stderr",
     "output_type": "stream",
     "text": [
      "01:55:55 - OI2: INFO - Duplicated gene symbols in the prize file (we'll keep the max prize):\n",
      "01:55:55 - OI2: INFO - []\n",
      "01:55:55 - OI2: INFO - Members of the prize file not present in the interactome:\n",
      "01:55:55 - OI2: INFO - []\n"
     ]
    },
    {
     "name": "stdout",
     "output_type": "stream",
     "text": [
      "progress = 83.7%\n"
     ]
    },
    {
     "name": "stderr",
     "output_type": "stream",
     "text": [
      "01:55:58 - OI2: INFO - Duplicated gene symbols in the prize file (we'll keep the max prize):\n",
      "01:55:58 - OI2: INFO - []\n",
      "01:55:58 - OI2: INFO - Members of the prize file not present in the interactome:\n",
      "01:55:58 - OI2: INFO - []\n"
     ]
    },
    {
     "name": "stdout",
     "output_type": "stream",
     "text": [
      "progress = 83.8%\n"
     ]
    },
    {
     "name": "stderr",
     "output_type": "stream",
     "text": [
      "01:56:00 - OI2: INFO - Duplicated gene symbols in the prize file (we'll keep the max prize):\n",
      "01:56:00 - OI2: INFO - []\n",
      "01:56:00 - OI2: INFO - Members of the prize file not present in the interactome:\n",
      "01:56:00 - OI2: INFO - []\n"
     ]
    },
    {
     "name": "stdout",
     "output_type": "stream",
     "text": [
      "progress = 83.89999999999999%\n"
     ]
    },
    {
     "name": "stderr",
     "output_type": "stream",
     "text": [
      "01:56:03 - OI2: INFO - Duplicated gene symbols in the prize file (we'll keep the max prize):\n",
      "01:56:03 - OI2: INFO - []\n",
      "01:56:03 - OI2: INFO - Members of the prize file not present in the interactome:\n",
      "01:56:03 - OI2: INFO - []\n"
     ]
    },
    {
     "name": "stdout",
     "output_type": "stream",
     "text": [
      "progress = 84.0%\n"
     ]
    },
    {
     "name": "stderr",
     "output_type": "stream",
     "text": [
      "01:56:06 - OI2: INFO - Duplicated gene symbols in the prize file (we'll keep the max prize):\n",
      "01:56:06 - OI2: INFO - []\n",
      "01:56:06 - OI2: INFO - Members of the prize file not present in the interactome:\n",
      "01:56:06 - OI2: INFO - []\n"
     ]
    },
    {
     "name": "stdout",
     "output_type": "stream",
     "text": [
      "progress = 84.1%\n"
     ]
    },
    {
     "name": "stderr",
     "output_type": "stream",
     "text": [
      "01:56:08 - OI2: INFO - Duplicated gene symbols in the prize file (we'll keep the max prize):\n",
      "01:56:08 - OI2: INFO - []\n",
      "01:56:08 - OI2: INFO - Members of the prize file not present in the interactome:\n",
      "01:56:08 - OI2: INFO - []\n"
     ]
    },
    {
     "name": "stdout",
     "output_type": "stream",
     "text": [
      "progress = 84.2%\n"
     ]
    },
    {
     "name": "stderr",
     "output_type": "stream",
     "text": [
      "01:56:11 - OI2: INFO - Duplicated gene symbols in the prize file (we'll keep the max prize):\n",
      "01:56:11 - OI2: INFO - []\n",
      "01:56:11 - OI2: INFO - Members of the prize file not present in the interactome:\n",
      "01:56:11 - OI2: INFO - []\n"
     ]
    },
    {
     "name": "stdout",
     "output_type": "stream",
     "text": [
      "progress = 84.3%\n"
     ]
    },
    {
     "name": "stderr",
     "output_type": "stream",
     "text": [
      "01:56:14 - OI2: INFO - Duplicated gene symbols in the prize file (we'll keep the max prize):\n",
      "01:56:14 - OI2: INFO - []\n",
      "01:56:14 - OI2: INFO - Members of the prize file not present in the interactome:\n",
      "01:56:14 - OI2: INFO - []\n"
     ]
    },
    {
     "name": "stdout",
     "output_type": "stream",
     "text": [
      "progress = 84.39999999999999%\n"
     ]
    },
    {
     "name": "stderr",
     "output_type": "stream",
     "text": [
      "01:56:16 - OI2: INFO - Duplicated gene symbols in the prize file (we'll keep the max prize):\n",
      "01:56:16 - OI2: INFO - []\n",
      "01:56:16 - OI2: INFO - Members of the prize file not present in the interactome:\n",
      "01:56:16 - OI2: INFO - []\n"
     ]
    },
    {
     "name": "stdout",
     "output_type": "stream",
     "text": [
      "progress = 84.5%\n"
     ]
    },
    {
     "name": "stderr",
     "output_type": "stream",
     "text": [
      "01:56:19 - OI2: INFO - Duplicated gene symbols in the prize file (we'll keep the max prize):\n",
      "01:56:19 - OI2: INFO - []\n",
      "01:56:19 - OI2: INFO - Members of the prize file not present in the interactome:\n",
      "01:56:19 - OI2: INFO - []\n"
     ]
    },
    {
     "name": "stdout",
     "output_type": "stream",
     "text": [
      "progress = 84.6%\n"
     ]
    },
    {
     "name": "stderr",
     "output_type": "stream",
     "text": [
      "01:56:22 - OI2: INFO - Duplicated gene symbols in the prize file (we'll keep the max prize):\n",
      "01:56:22 - OI2: INFO - []\n",
      "01:56:22 - OI2: INFO - Members of the prize file not present in the interactome:\n",
      "01:56:22 - OI2: INFO - []\n"
     ]
    },
    {
     "name": "stdout",
     "output_type": "stream",
     "text": [
      "progress = 84.7%\n"
     ]
    },
    {
     "name": "stderr",
     "output_type": "stream",
     "text": [
      "01:56:25 - OI2: INFO - Duplicated gene symbols in the prize file (we'll keep the max prize):\n",
      "01:56:25 - OI2: INFO - []\n",
      "01:56:25 - OI2: INFO - Members of the prize file not present in the interactome:\n",
      "01:56:25 - OI2: INFO - []\n"
     ]
    },
    {
     "name": "stdout",
     "output_type": "stream",
     "text": [
      "progress = 84.8%\n"
     ]
    },
    {
     "name": "stderr",
     "output_type": "stream",
     "text": [
      "01:56:27 - OI2: INFO - Duplicated gene symbols in the prize file (we'll keep the max prize):\n",
      "01:56:27 - OI2: INFO - []\n",
      "01:56:27 - OI2: INFO - Members of the prize file not present in the interactome:\n",
      "01:56:27 - OI2: INFO - []\n"
     ]
    },
    {
     "name": "stdout",
     "output_type": "stream",
     "text": [
      "progress = 84.89999999999999%\n"
     ]
    },
    {
     "name": "stderr",
     "output_type": "stream",
     "text": [
      "01:56:30 - OI2: INFO - Duplicated gene symbols in the prize file (we'll keep the max prize):\n",
      "01:56:30 - OI2: INFO - []\n",
      "01:56:30 - OI2: INFO - Members of the prize file not present in the interactome:\n",
      "01:56:30 - OI2: INFO - []\n"
     ]
    },
    {
     "name": "stdout",
     "output_type": "stream",
     "text": [
      "progress = 85.0%\n"
     ]
    },
    {
     "name": "stderr",
     "output_type": "stream",
     "text": [
      "01:56:33 - OI2: INFO - Duplicated gene symbols in the prize file (we'll keep the max prize):\n",
      "01:56:33 - OI2: INFO - []\n",
      "01:56:33 - OI2: INFO - Members of the prize file not present in the interactome:\n",
      "01:56:33 - OI2: INFO - []\n"
     ]
    },
    {
     "name": "stdout",
     "output_type": "stream",
     "text": [
      "progress = 85.1%\n"
     ]
    },
    {
     "name": "stderr",
     "output_type": "stream",
     "text": [
      "01:56:35 - OI2: INFO - Duplicated gene symbols in the prize file (we'll keep the max prize):\n",
      "01:56:35 - OI2: INFO - []\n",
      "01:56:35 - OI2: INFO - Members of the prize file not present in the interactome:\n",
      "01:56:35 - OI2: INFO - []\n"
     ]
    },
    {
     "name": "stdout",
     "output_type": "stream",
     "text": [
      "progress = 85.2%\n"
     ]
    },
    {
     "name": "stderr",
     "output_type": "stream",
     "text": [
      "01:56:38 - OI2: INFO - Duplicated gene symbols in the prize file (we'll keep the max prize):\n",
      "01:56:38 - OI2: INFO - []\n",
      "01:56:38 - OI2: INFO - Members of the prize file not present in the interactome:\n",
      "01:56:38 - OI2: INFO - []\n"
     ]
    },
    {
     "name": "stdout",
     "output_type": "stream",
     "text": [
      "progress = 85.3%\n"
     ]
    },
    {
     "name": "stderr",
     "output_type": "stream",
     "text": [
      "01:56:41 - OI2: INFO - Duplicated gene symbols in the prize file (we'll keep the max prize):\n",
      "01:56:41 - OI2: INFO - []\n",
      "01:56:41 - OI2: INFO - Members of the prize file not present in the interactome:\n",
      "01:56:41 - OI2: INFO - []\n"
     ]
    },
    {
     "name": "stdout",
     "output_type": "stream",
     "text": [
      "progress = 85.39999999999999%\n"
     ]
    },
    {
     "name": "stderr",
     "output_type": "stream",
     "text": [
      "01:56:43 - OI2: INFO - Duplicated gene symbols in the prize file (we'll keep the max prize):\n",
      "01:56:43 - OI2: INFO - []\n",
      "01:56:43 - OI2: INFO - Members of the prize file not present in the interactome:\n",
      "01:56:43 - OI2: INFO - []\n"
     ]
    },
    {
     "name": "stdout",
     "output_type": "stream",
     "text": [
      "progress = 85.5%\n"
     ]
    },
    {
     "name": "stderr",
     "output_type": "stream",
     "text": [
      "01:56:46 - OI2: INFO - Duplicated gene symbols in the prize file (we'll keep the max prize):\n",
      "01:56:46 - OI2: INFO - []\n",
      "01:56:46 - OI2: INFO - Members of the prize file not present in the interactome:\n",
      "01:56:46 - OI2: INFO - []\n"
     ]
    },
    {
     "name": "stdout",
     "output_type": "stream",
     "text": [
      "progress = 85.6%\n"
     ]
    },
    {
     "name": "stderr",
     "output_type": "stream",
     "text": [
      "01:56:49 - OI2: INFO - Duplicated gene symbols in the prize file (we'll keep the max prize):\n",
      "01:56:49 - OI2: INFO - []\n",
      "01:56:49 - OI2: INFO - Members of the prize file not present in the interactome:\n",
      "01:56:49 - OI2: INFO - []\n"
     ]
    },
    {
     "name": "stdout",
     "output_type": "stream",
     "text": [
      "progress = 85.7%\n"
     ]
    },
    {
     "name": "stderr",
     "output_type": "stream",
     "text": [
      "01:56:51 - OI2: INFO - Duplicated gene symbols in the prize file (we'll keep the max prize):\n",
      "01:56:51 - OI2: INFO - []\n",
      "01:56:51 - OI2: INFO - Members of the prize file not present in the interactome:\n",
      "01:56:51 - OI2: INFO - []\n"
     ]
    },
    {
     "name": "stdout",
     "output_type": "stream",
     "text": [
      "progress = 85.8%\n"
     ]
    },
    {
     "name": "stderr",
     "output_type": "stream",
     "text": [
      "01:56:54 - OI2: INFO - Duplicated gene symbols in the prize file (we'll keep the max prize):\n",
      "01:56:54 - OI2: INFO - []\n",
      "01:56:54 - OI2: INFO - Members of the prize file not present in the interactome:\n",
      "01:56:54 - OI2: INFO - []\n"
     ]
    },
    {
     "name": "stdout",
     "output_type": "stream",
     "text": [
      "progress = 85.9%\n"
     ]
    },
    {
     "name": "stderr",
     "output_type": "stream",
     "text": [
      "01:56:57 - OI2: INFO - Duplicated gene symbols in the prize file (we'll keep the max prize):\n",
      "01:56:57 - OI2: INFO - []\n",
      "01:56:57 - OI2: INFO - Members of the prize file not present in the interactome:\n",
      "01:56:57 - OI2: INFO - []\n"
     ]
    },
    {
     "name": "stdout",
     "output_type": "stream",
     "text": [
      "progress = 86.0%\n"
     ]
    },
    {
     "name": "stderr",
     "output_type": "stream",
     "text": [
      "01:56:59 - OI2: INFO - Duplicated gene symbols in the prize file (we'll keep the max prize):\n",
      "01:56:59 - OI2: INFO - []\n",
      "01:56:59 - OI2: INFO - Members of the prize file not present in the interactome:\n",
      "01:56:59 - OI2: INFO - []\n"
     ]
    },
    {
     "name": "stdout",
     "output_type": "stream",
     "text": [
      "progress = 86.1%\n"
     ]
    },
    {
     "name": "stderr",
     "output_type": "stream",
     "text": [
      "01:57:02 - OI2: INFO - Duplicated gene symbols in the prize file (we'll keep the max prize):\n",
      "01:57:02 - OI2: INFO - []\n",
      "01:57:02 - OI2: INFO - Members of the prize file not present in the interactome:\n",
      "01:57:02 - OI2: INFO - []\n"
     ]
    },
    {
     "name": "stdout",
     "output_type": "stream",
     "text": [
      "progress = 86.2%\n"
     ]
    },
    {
     "name": "stderr",
     "output_type": "stream",
     "text": [
      "01:57:05 - OI2: INFO - Duplicated gene symbols in the prize file (we'll keep the max prize):\n",
      "01:57:05 - OI2: INFO - []\n",
      "01:57:05 - OI2: INFO - Members of the prize file not present in the interactome:\n",
      "01:57:05 - OI2: INFO - []\n"
     ]
    },
    {
     "name": "stdout",
     "output_type": "stream",
     "text": [
      "progress = 86.3%\n"
     ]
    },
    {
     "name": "stderr",
     "output_type": "stream",
     "text": [
      "01:57:07 - OI2: INFO - Duplicated gene symbols in the prize file (we'll keep the max prize):\n",
      "01:57:07 - OI2: INFO - []\n",
      "01:57:07 - OI2: INFO - Members of the prize file not present in the interactome:\n",
      "01:57:07 - OI2: INFO - []\n"
     ]
    },
    {
     "name": "stdout",
     "output_type": "stream",
     "text": [
      "progress = 86.4%\n"
     ]
    },
    {
     "name": "stderr",
     "output_type": "stream",
     "text": [
      "01:57:10 - OI2: INFO - Duplicated gene symbols in the prize file (we'll keep the max prize):\n",
      "01:57:10 - OI2: INFO - []\n",
      "01:57:10 - OI2: INFO - Members of the prize file not present in the interactome:\n",
      "01:57:10 - OI2: INFO - []\n"
     ]
    },
    {
     "name": "stdout",
     "output_type": "stream",
     "text": [
      "progress = 86.5%\n"
     ]
    },
    {
     "name": "stderr",
     "output_type": "stream",
     "text": [
      "01:57:13 - OI2: INFO - Duplicated gene symbols in the prize file (we'll keep the max prize):\n",
      "01:57:13 - OI2: INFO - []\n",
      "01:57:13 - OI2: INFO - Members of the prize file not present in the interactome:\n",
      "01:57:13 - OI2: INFO - []\n"
     ]
    },
    {
     "name": "stdout",
     "output_type": "stream",
     "text": [
      "progress = 86.6%\n"
     ]
    },
    {
     "name": "stderr",
     "output_type": "stream",
     "text": [
      "01:57:15 - OI2: INFO - Duplicated gene symbols in the prize file (we'll keep the max prize):\n",
      "01:57:15 - OI2: INFO - []\n",
      "01:57:15 - OI2: INFO - Members of the prize file not present in the interactome:\n",
      "01:57:15 - OI2: INFO - []\n"
     ]
    },
    {
     "name": "stdout",
     "output_type": "stream",
     "text": [
      "progress = 86.7%\n"
     ]
    },
    {
     "name": "stderr",
     "output_type": "stream",
     "text": [
      "01:57:18 - OI2: INFO - Duplicated gene symbols in the prize file (we'll keep the max prize):\n",
      "01:57:18 - OI2: INFO - []\n",
      "01:57:18 - OI2: INFO - Members of the prize file not present in the interactome:\n",
      "01:57:18 - OI2: INFO - []\n"
     ]
    },
    {
     "name": "stdout",
     "output_type": "stream",
     "text": [
      "progress = 86.8%\n"
     ]
    },
    {
     "name": "stderr",
     "output_type": "stream",
     "text": [
      "01:57:21 - OI2: INFO - Duplicated gene symbols in the prize file (we'll keep the max prize):\n",
      "01:57:21 - OI2: INFO - []\n",
      "01:57:21 - OI2: INFO - Members of the prize file not present in the interactome:\n",
      "01:57:21 - OI2: INFO - []\n"
     ]
    },
    {
     "name": "stdout",
     "output_type": "stream",
     "text": [
      "progress = 86.9%\n"
     ]
    },
    {
     "name": "stderr",
     "output_type": "stream",
     "text": [
      "01:57:23 - OI2: INFO - Duplicated gene symbols in the prize file (we'll keep the max prize):\n",
      "01:57:23 - OI2: INFO - []\n",
      "01:57:23 - OI2: INFO - Members of the prize file not present in the interactome:\n",
      "01:57:23 - OI2: INFO - []\n"
     ]
    },
    {
     "name": "stdout",
     "output_type": "stream",
     "text": [
      "progress = 87.0%\n"
     ]
    },
    {
     "name": "stderr",
     "output_type": "stream",
     "text": [
      "01:57:26 - OI2: INFO - Duplicated gene symbols in the prize file (we'll keep the max prize):\n",
      "01:57:26 - OI2: INFO - []\n",
      "01:57:26 - OI2: INFO - Members of the prize file not present in the interactome:\n",
      "01:57:26 - OI2: INFO - []\n"
     ]
    },
    {
     "name": "stdout",
     "output_type": "stream",
     "text": [
      "progress = 87.1%\n"
     ]
    },
    {
     "name": "stderr",
     "output_type": "stream",
     "text": [
      "01:57:29 - OI2: INFO - Duplicated gene symbols in the prize file (we'll keep the max prize):\n",
      "01:57:29 - OI2: INFO - []\n",
      "01:57:29 - OI2: INFO - Members of the prize file not present in the interactome:\n",
      "01:57:29 - OI2: INFO - []\n"
     ]
    },
    {
     "name": "stdout",
     "output_type": "stream",
     "text": [
      "progress = 87.2%\n"
     ]
    },
    {
     "name": "stderr",
     "output_type": "stream",
     "text": [
      "01:57:31 - OI2: INFO - Duplicated gene symbols in the prize file (we'll keep the max prize):\n",
      "01:57:31 - OI2: INFO - []\n",
      "01:57:31 - OI2: INFO - Members of the prize file not present in the interactome:\n",
      "01:57:31 - OI2: INFO - []\n"
     ]
    },
    {
     "name": "stdout",
     "output_type": "stream",
     "text": [
      "progress = 87.3%\n"
     ]
    },
    {
     "name": "stderr",
     "output_type": "stream",
     "text": [
      "01:57:34 - OI2: INFO - Duplicated gene symbols in the prize file (we'll keep the max prize):\n",
      "01:57:34 - OI2: INFO - []\n",
      "01:57:34 - OI2: INFO - Members of the prize file not present in the interactome:\n",
      "01:57:34 - OI2: INFO - []\n"
     ]
    },
    {
     "name": "stdout",
     "output_type": "stream",
     "text": [
      "progress = 87.4%\n"
     ]
    },
    {
     "name": "stderr",
     "output_type": "stream",
     "text": [
      "01:57:37 - OI2: INFO - Duplicated gene symbols in the prize file (we'll keep the max prize):\n",
      "01:57:37 - OI2: INFO - []\n",
      "01:57:37 - OI2: INFO - Members of the prize file not present in the interactome:\n",
      "01:57:37 - OI2: INFO - []\n"
     ]
    },
    {
     "name": "stdout",
     "output_type": "stream",
     "text": [
      "progress = 87.5%\n"
     ]
    },
    {
     "name": "stderr",
     "output_type": "stream",
     "text": [
      "01:57:39 - OI2: INFO - Duplicated gene symbols in the prize file (we'll keep the max prize):\n",
      "01:57:39 - OI2: INFO - []\n",
      "01:57:39 - OI2: INFO - Members of the prize file not present in the interactome:\n",
      "01:57:39 - OI2: INFO - []\n"
     ]
    },
    {
     "name": "stdout",
     "output_type": "stream",
     "text": [
      "progress = 87.6%\n"
     ]
    },
    {
     "name": "stderr",
     "output_type": "stream",
     "text": [
      "01:57:42 - OI2: INFO - Duplicated gene symbols in the prize file (we'll keep the max prize):\n",
      "01:57:42 - OI2: INFO - []\n",
      "01:57:42 - OI2: INFO - Members of the prize file not present in the interactome:\n",
      "01:57:42 - OI2: INFO - []\n"
     ]
    },
    {
     "name": "stdout",
     "output_type": "stream",
     "text": [
      "progress = 87.7%\n"
     ]
    },
    {
     "name": "stderr",
     "output_type": "stream",
     "text": [
      "01:57:45 - OI2: INFO - Duplicated gene symbols in the prize file (we'll keep the max prize):\n",
      "01:57:45 - OI2: INFO - []\n",
      "01:57:45 - OI2: INFO - Members of the prize file not present in the interactome:\n",
      "01:57:45 - OI2: INFO - []\n"
     ]
    },
    {
     "name": "stdout",
     "output_type": "stream",
     "text": [
      "progress = 87.8%\n"
     ]
    },
    {
     "name": "stderr",
     "output_type": "stream",
     "text": [
      "01:57:47 - OI2: INFO - Duplicated gene symbols in the prize file (we'll keep the max prize):\n",
      "01:57:47 - OI2: INFO - []\n",
      "01:57:47 - OI2: INFO - Members of the prize file not present in the interactome:\n",
      "01:57:47 - OI2: INFO - []\n"
     ]
    },
    {
     "name": "stdout",
     "output_type": "stream",
     "text": [
      "progress = 87.9%\n"
     ]
    },
    {
     "name": "stderr",
     "output_type": "stream",
     "text": [
      "01:57:50 - OI2: INFO - Duplicated gene symbols in the prize file (we'll keep the max prize):\n",
      "01:57:50 - OI2: INFO - []\n",
      "01:57:50 - OI2: INFO - Members of the prize file not present in the interactome:\n",
      "01:57:50 - OI2: INFO - []\n"
     ]
    },
    {
     "name": "stdout",
     "output_type": "stream",
     "text": [
      "progress = 88.0%\n"
     ]
    },
    {
     "name": "stderr",
     "output_type": "stream",
     "text": [
      "01:57:53 - OI2: INFO - Duplicated gene symbols in the prize file (we'll keep the max prize):\n",
      "01:57:53 - OI2: INFO - []\n",
      "01:57:53 - OI2: INFO - Members of the prize file not present in the interactome:\n",
      "01:57:53 - OI2: INFO - []\n"
     ]
    },
    {
     "name": "stdout",
     "output_type": "stream",
     "text": [
      "progress = 88.1%\n"
     ]
    },
    {
     "name": "stderr",
     "output_type": "stream",
     "text": [
      "01:57:55 - OI2: INFO - Duplicated gene symbols in the prize file (we'll keep the max prize):\n",
      "01:57:55 - OI2: INFO - []\n",
      "01:57:55 - OI2: INFO - Members of the prize file not present in the interactome:\n",
      "01:57:55 - OI2: INFO - []\n"
     ]
    },
    {
     "name": "stdout",
     "output_type": "stream",
     "text": [
      "progress = 88.2%\n"
     ]
    },
    {
     "name": "stderr",
     "output_type": "stream",
     "text": [
      "01:57:58 - OI2: INFO - Duplicated gene symbols in the prize file (we'll keep the max prize):\n",
      "01:57:58 - OI2: INFO - []\n",
      "01:57:58 - OI2: INFO - Members of the prize file not present in the interactome:\n",
      "01:57:58 - OI2: INFO - []\n"
     ]
    },
    {
     "name": "stdout",
     "output_type": "stream",
     "text": [
      "progress = 88.3%\n"
     ]
    },
    {
     "name": "stderr",
     "output_type": "stream",
     "text": [
      "01:58:01 - OI2: INFO - Duplicated gene symbols in the prize file (we'll keep the max prize):\n",
      "01:58:01 - OI2: INFO - []\n",
      "01:58:01 - OI2: INFO - Members of the prize file not present in the interactome:\n",
      "01:58:01 - OI2: INFO - []\n"
     ]
    },
    {
     "name": "stdout",
     "output_type": "stream",
     "text": [
      "progress = 88.4%\n"
     ]
    },
    {
     "name": "stderr",
     "output_type": "stream",
     "text": [
      "01:58:03 - OI2: INFO - Duplicated gene symbols in the prize file (we'll keep the max prize):\n",
      "01:58:03 - OI2: INFO - []\n",
      "01:58:03 - OI2: INFO - Members of the prize file not present in the interactome:\n",
      "01:58:03 - OI2: INFO - []\n"
     ]
    },
    {
     "name": "stdout",
     "output_type": "stream",
     "text": [
      "progress = 88.5%\n"
     ]
    },
    {
     "name": "stderr",
     "output_type": "stream",
     "text": [
      "01:58:06 - OI2: INFO - Duplicated gene symbols in the prize file (we'll keep the max prize):\n",
      "01:58:06 - OI2: INFO - []\n",
      "01:58:06 - OI2: INFO - Members of the prize file not present in the interactome:\n",
      "01:58:06 - OI2: INFO - []\n"
     ]
    },
    {
     "name": "stdout",
     "output_type": "stream",
     "text": [
      "progress = 88.6%\n"
     ]
    },
    {
     "name": "stderr",
     "output_type": "stream",
     "text": [
      "01:58:09 - OI2: INFO - Duplicated gene symbols in the prize file (we'll keep the max prize):\n",
      "01:58:09 - OI2: INFO - []\n",
      "01:58:09 - OI2: INFO - Members of the prize file not present in the interactome:\n",
      "01:58:09 - OI2: INFO - []\n"
     ]
    },
    {
     "name": "stdout",
     "output_type": "stream",
     "text": [
      "progress = 88.7%\n"
     ]
    },
    {
     "name": "stderr",
     "output_type": "stream",
     "text": [
      "01:58:11 - OI2: INFO - Duplicated gene symbols in the prize file (we'll keep the max prize):\n",
      "01:58:11 - OI2: INFO - []\n",
      "01:58:11 - OI2: INFO - Members of the prize file not present in the interactome:\n",
      "01:58:11 - OI2: INFO - []\n"
     ]
    },
    {
     "name": "stdout",
     "output_type": "stream",
     "text": [
      "progress = 88.8%\n"
     ]
    },
    {
     "name": "stderr",
     "output_type": "stream",
     "text": [
      "01:58:14 - OI2: INFO - Duplicated gene symbols in the prize file (we'll keep the max prize):\n",
      "01:58:14 - OI2: INFO - []\n",
      "01:58:14 - OI2: INFO - Members of the prize file not present in the interactome:\n",
      "01:58:14 - OI2: INFO - []\n"
     ]
    },
    {
     "name": "stdout",
     "output_type": "stream",
     "text": [
      "progress = 88.9%\n"
     ]
    },
    {
     "name": "stderr",
     "output_type": "stream",
     "text": [
      "01:58:17 - OI2: INFO - Duplicated gene symbols in the prize file (we'll keep the max prize):\n",
      "01:58:17 - OI2: INFO - []\n",
      "01:58:17 - OI2: INFO - Members of the prize file not present in the interactome:\n",
      "01:58:17 - OI2: INFO - []\n"
     ]
    },
    {
     "name": "stdout",
     "output_type": "stream",
     "text": [
      "progress = 89.0%\n"
     ]
    },
    {
     "name": "stderr",
     "output_type": "stream",
     "text": [
      "01:58:19 - OI2: INFO - Duplicated gene symbols in the prize file (we'll keep the max prize):\n",
      "01:58:19 - OI2: INFO - []\n",
      "01:58:19 - OI2: INFO - Members of the prize file not present in the interactome:\n",
      "01:58:19 - OI2: INFO - []\n"
     ]
    },
    {
     "name": "stdout",
     "output_type": "stream",
     "text": [
      "progress = 89.1%\n"
     ]
    },
    {
     "name": "stderr",
     "output_type": "stream",
     "text": [
      "01:58:22 - OI2: INFO - Duplicated gene symbols in the prize file (we'll keep the max prize):\n",
      "01:58:22 - OI2: INFO - []\n",
      "01:58:22 - OI2: INFO - Members of the prize file not present in the interactome:\n",
      "01:58:22 - OI2: INFO - []\n"
     ]
    },
    {
     "name": "stdout",
     "output_type": "stream",
     "text": [
      "progress = 89.2%\n"
     ]
    },
    {
     "name": "stderr",
     "output_type": "stream",
     "text": [
      "01:58:25 - OI2: INFO - Duplicated gene symbols in the prize file (we'll keep the max prize):\n",
      "01:58:25 - OI2: INFO - []\n",
      "01:58:25 - OI2: INFO - Members of the prize file not present in the interactome:\n",
      "01:58:25 - OI2: INFO - []\n"
     ]
    },
    {
     "name": "stdout",
     "output_type": "stream",
     "text": [
      "progress = 89.3%\n"
     ]
    },
    {
     "name": "stderr",
     "output_type": "stream",
     "text": [
      "01:58:27 - OI2: INFO - Duplicated gene symbols in the prize file (we'll keep the max prize):\n",
      "01:58:27 - OI2: INFO - []\n",
      "01:58:27 - OI2: INFO - Members of the prize file not present in the interactome:\n",
      "01:58:27 - OI2: INFO - []\n"
     ]
    },
    {
     "name": "stdout",
     "output_type": "stream",
     "text": [
      "progress = 89.4%\n"
     ]
    },
    {
     "name": "stderr",
     "output_type": "stream",
     "text": [
      "01:58:30 - OI2: INFO - Duplicated gene symbols in the prize file (we'll keep the max prize):\n",
      "01:58:30 - OI2: INFO - []\n",
      "01:58:30 - OI2: INFO - Members of the prize file not present in the interactome:\n",
      "01:58:30 - OI2: INFO - []\n"
     ]
    },
    {
     "name": "stdout",
     "output_type": "stream",
     "text": [
      "progress = 89.5%\n"
     ]
    },
    {
     "name": "stderr",
     "output_type": "stream",
     "text": [
      "01:58:33 - OI2: INFO - Duplicated gene symbols in the prize file (we'll keep the max prize):\n",
      "01:58:33 - OI2: INFO - []\n",
      "01:58:33 - OI2: INFO - Members of the prize file not present in the interactome:\n",
      "01:58:33 - OI2: INFO - []\n"
     ]
    },
    {
     "name": "stdout",
     "output_type": "stream",
     "text": [
      "progress = 89.60000000000001%\n"
     ]
    },
    {
     "name": "stderr",
     "output_type": "stream",
     "text": [
      "01:58:35 - OI2: INFO - Duplicated gene symbols in the prize file (we'll keep the max prize):\n",
      "01:58:35 - OI2: INFO - []\n",
      "01:58:35 - OI2: INFO - Members of the prize file not present in the interactome:\n",
      "01:58:35 - OI2: INFO - []\n"
     ]
    },
    {
     "name": "stdout",
     "output_type": "stream",
     "text": [
      "progress = 89.7%\n"
     ]
    },
    {
     "name": "stderr",
     "output_type": "stream",
     "text": [
      "01:58:38 - OI2: INFO - Duplicated gene symbols in the prize file (we'll keep the max prize):\n",
      "01:58:38 - OI2: INFO - []\n",
      "01:58:38 - OI2: INFO - Members of the prize file not present in the interactome:\n",
      "01:58:38 - OI2: INFO - []\n"
     ]
    },
    {
     "name": "stdout",
     "output_type": "stream",
     "text": [
      "progress = 89.8%\n"
     ]
    },
    {
     "name": "stderr",
     "output_type": "stream",
     "text": [
      "01:58:41 - OI2: INFO - Duplicated gene symbols in the prize file (we'll keep the max prize):\n",
      "01:58:41 - OI2: INFO - []\n",
      "01:58:41 - OI2: INFO - Members of the prize file not present in the interactome:\n",
      "01:58:41 - OI2: INFO - []\n"
     ]
    },
    {
     "name": "stdout",
     "output_type": "stream",
     "text": [
      "progress = 89.9%\n"
     ]
    },
    {
     "name": "stderr",
     "output_type": "stream",
     "text": [
      "01:58:43 - OI2: INFO - Duplicated gene symbols in the prize file (we'll keep the max prize):\n",
      "01:58:43 - OI2: INFO - []\n",
      "01:58:43 - OI2: INFO - Members of the prize file not present in the interactome:\n",
      "01:58:43 - OI2: INFO - []\n"
     ]
    },
    {
     "name": "stdout",
     "output_type": "stream",
     "text": [
      "progress = 90.0%\n"
     ]
    },
    {
     "name": "stderr",
     "output_type": "stream",
     "text": [
      "01:58:46 - OI2: INFO - Duplicated gene symbols in the prize file (we'll keep the max prize):\n",
      "01:58:46 - OI2: INFO - []\n",
      "01:58:46 - OI2: INFO - Members of the prize file not present in the interactome:\n",
      "01:58:46 - OI2: INFO - []\n"
     ]
    },
    {
     "name": "stdout",
     "output_type": "stream",
     "text": [
      "progress = 90.10000000000001%\n"
     ]
    },
    {
     "name": "stderr",
     "output_type": "stream",
     "text": [
      "01:58:49 - OI2: INFO - Duplicated gene symbols in the prize file (we'll keep the max prize):\n",
      "01:58:49 - OI2: INFO - []\n",
      "01:58:49 - OI2: INFO - Members of the prize file not present in the interactome:\n",
      "01:58:49 - OI2: INFO - []\n"
     ]
    },
    {
     "name": "stdout",
     "output_type": "stream",
     "text": [
      "progress = 90.2%\n"
     ]
    },
    {
     "name": "stderr",
     "output_type": "stream",
     "text": [
      "01:58:51 - OI2: INFO - Duplicated gene symbols in the prize file (we'll keep the max prize):\n",
      "01:58:51 - OI2: INFO - []\n",
      "01:58:51 - OI2: INFO - Members of the prize file not present in the interactome:\n",
      "01:58:51 - OI2: INFO - []\n"
     ]
    },
    {
     "name": "stdout",
     "output_type": "stream",
     "text": [
      "progress = 90.3%\n"
     ]
    },
    {
     "name": "stderr",
     "output_type": "stream",
     "text": [
      "01:58:54 - OI2: INFO - Duplicated gene symbols in the prize file (we'll keep the max prize):\n",
      "01:58:54 - OI2: INFO - []\n",
      "01:58:54 - OI2: INFO - Members of the prize file not present in the interactome:\n",
      "01:58:54 - OI2: INFO - []\n"
     ]
    },
    {
     "name": "stdout",
     "output_type": "stream",
     "text": [
      "progress = 90.4%\n"
     ]
    },
    {
     "name": "stderr",
     "output_type": "stream",
     "text": [
      "01:58:57 - OI2: INFO - Duplicated gene symbols in the prize file (we'll keep the max prize):\n",
      "01:58:57 - OI2: INFO - []\n",
      "01:58:57 - OI2: INFO - Members of the prize file not present in the interactome:\n",
      "01:58:57 - OI2: INFO - []\n"
     ]
    },
    {
     "name": "stdout",
     "output_type": "stream",
     "text": [
      "progress = 90.5%\n"
     ]
    },
    {
     "name": "stderr",
     "output_type": "stream",
     "text": [
      "01:59:00 - OI2: INFO - Duplicated gene symbols in the prize file (we'll keep the max prize):\n",
      "01:59:00 - OI2: INFO - []\n",
      "01:59:00 - OI2: INFO - Members of the prize file not present in the interactome:\n",
      "01:59:00 - OI2: INFO - []\n"
     ]
    },
    {
     "name": "stdout",
     "output_type": "stream",
     "text": [
      "progress = 90.60000000000001%\n"
     ]
    },
    {
     "name": "stderr",
     "output_type": "stream",
     "text": [
      "01:59:02 - OI2: INFO - Duplicated gene symbols in the prize file (we'll keep the max prize):\n",
      "01:59:02 - OI2: INFO - []\n",
      "01:59:02 - OI2: INFO - Members of the prize file not present in the interactome:\n",
      "01:59:02 - OI2: INFO - []\n"
     ]
    },
    {
     "name": "stdout",
     "output_type": "stream",
     "text": [
      "progress = 90.7%\n"
     ]
    },
    {
     "name": "stderr",
     "output_type": "stream",
     "text": [
      "01:59:05 - OI2: INFO - Duplicated gene symbols in the prize file (we'll keep the max prize):\n",
      "01:59:05 - OI2: INFO - []\n",
      "01:59:05 - OI2: INFO - Members of the prize file not present in the interactome:\n",
      "01:59:05 - OI2: INFO - []\n"
     ]
    },
    {
     "name": "stdout",
     "output_type": "stream",
     "text": [
      "progress = 90.8%\n"
     ]
    },
    {
     "name": "stderr",
     "output_type": "stream",
     "text": [
      "01:59:07 - OI2: INFO - Duplicated gene symbols in the prize file (we'll keep the max prize):\n",
      "01:59:07 - OI2: INFO - []\n",
      "01:59:07 - OI2: INFO - Members of the prize file not present in the interactome:\n",
      "01:59:07 - OI2: INFO - []\n"
     ]
    },
    {
     "name": "stdout",
     "output_type": "stream",
     "text": [
      "progress = 90.9%\n"
     ]
    },
    {
     "name": "stderr",
     "output_type": "stream",
     "text": [
      "01:59:10 - OI2: INFO - Duplicated gene symbols in the prize file (we'll keep the max prize):\n",
      "01:59:10 - OI2: INFO - []\n",
      "01:59:10 - OI2: INFO - Members of the prize file not present in the interactome:\n",
      "01:59:10 - OI2: INFO - []\n"
     ]
    },
    {
     "name": "stdout",
     "output_type": "stream",
     "text": [
      "progress = 91.0%\n"
     ]
    },
    {
     "name": "stderr",
     "output_type": "stream",
     "text": [
      "01:59:13 - OI2: INFO - Duplicated gene symbols in the prize file (we'll keep the max prize):\n",
      "01:59:13 - OI2: INFO - []\n",
      "01:59:13 - OI2: INFO - Members of the prize file not present in the interactome:\n",
      "01:59:13 - OI2: INFO - []\n"
     ]
    },
    {
     "name": "stdout",
     "output_type": "stream",
     "text": [
      "progress = 91.10000000000001%\n"
     ]
    },
    {
     "name": "stderr",
     "output_type": "stream",
     "text": [
      "01:59:16 - OI2: INFO - Duplicated gene symbols in the prize file (we'll keep the max prize):\n",
      "01:59:16 - OI2: INFO - []\n",
      "01:59:16 - OI2: INFO - Members of the prize file not present in the interactome:\n",
      "01:59:16 - OI2: INFO - []\n"
     ]
    },
    {
     "name": "stdout",
     "output_type": "stream",
     "text": [
      "progress = 91.2%\n"
     ]
    },
    {
     "name": "stderr",
     "output_type": "stream",
     "text": [
      "01:59:18 - OI2: INFO - Duplicated gene symbols in the prize file (we'll keep the max prize):\n",
      "01:59:18 - OI2: INFO - []\n",
      "01:59:18 - OI2: INFO - Members of the prize file not present in the interactome:\n",
      "01:59:18 - OI2: INFO - []\n"
     ]
    },
    {
     "name": "stdout",
     "output_type": "stream",
     "text": [
      "progress = 91.3%\n"
     ]
    },
    {
     "name": "stderr",
     "output_type": "stream",
     "text": [
      "01:59:21 - OI2: INFO - Duplicated gene symbols in the prize file (we'll keep the max prize):\n",
      "01:59:21 - OI2: INFO - []\n",
      "01:59:21 - OI2: INFO - Members of the prize file not present in the interactome:\n",
      "01:59:21 - OI2: INFO - []\n"
     ]
    },
    {
     "name": "stdout",
     "output_type": "stream",
     "text": [
      "progress = 91.4%\n"
     ]
    },
    {
     "name": "stderr",
     "output_type": "stream",
     "text": [
      "01:59:24 - OI2: INFO - Duplicated gene symbols in the prize file (we'll keep the max prize):\n",
      "01:59:24 - OI2: INFO - []\n",
      "01:59:24 - OI2: INFO - Members of the prize file not present in the interactome:\n",
      "01:59:24 - OI2: INFO - []\n"
     ]
    },
    {
     "name": "stdout",
     "output_type": "stream",
     "text": [
      "progress = 91.5%\n"
     ]
    },
    {
     "name": "stderr",
     "output_type": "stream",
     "text": [
      "01:59:26 - OI2: INFO - Duplicated gene symbols in the prize file (we'll keep the max prize):\n",
      "01:59:26 - OI2: INFO - []\n",
      "01:59:26 - OI2: INFO - Members of the prize file not present in the interactome:\n",
      "01:59:26 - OI2: INFO - []\n"
     ]
    },
    {
     "name": "stdout",
     "output_type": "stream",
     "text": [
      "progress = 91.60000000000001%\n"
     ]
    },
    {
     "name": "stderr",
     "output_type": "stream",
     "text": [
      "01:59:29 - OI2: INFO - Duplicated gene symbols in the prize file (we'll keep the max prize):\n",
      "01:59:29 - OI2: INFO - []\n",
      "01:59:29 - OI2: INFO - Members of the prize file not present in the interactome:\n",
      "01:59:29 - OI2: INFO - []\n"
     ]
    },
    {
     "name": "stdout",
     "output_type": "stream",
     "text": [
      "progress = 91.7%\n"
     ]
    },
    {
     "name": "stderr",
     "output_type": "stream",
     "text": [
      "01:59:31 - OI2: INFO - Duplicated gene symbols in the prize file (we'll keep the max prize):\n",
      "01:59:31 - OI2: INFO - []\n",
      "01:59:31 - OI2: INFO - Members of the prize file not present in the interactome:\n",
      "01:59:31 - OI2: INFO - []\n"
     ]
    },
    {
     "name": "stdout",
     "output_type": "stream",
     "text": [
      "progress = 91.8%\n"
     ]
    },
    {
     "name": "stderr",
     "output_type": "stream",
     "text": [
      "01:59:34 - OI2: INFO - Duplicated gene symbols in the prize file (we'll keep the max prize):\n",
      "01:59:34 - OI2: INFO - []\n",
      "01:59:34 - OI2: INFO - Members of the prize file not present in the interactome:\n",
      "01:59:34 - OI2: INFO - []\n"
     ]
    },
    {
     "name": "stdout",
     "output_type": "stream",
     "text": [
      "progress = 91.9%\n"
     ]
    },
    {
     "name": "stderr",
     "output_type": "stream",
     "text": [
      "01:59:37 - OI2: INFO - Duplicated gene symbols in the prize file (we'll keep the max prize):\n",
      "01:59:37 - OI2: INFO - []\n",
      "01:59:37 - OI2: INFO - Members of the prize file not present in the interactome:\n",
      "01:59:37 - OI2: INFO - []\n"
     ]
    },
    {
     "name": "stdout",
     "output_type": "stream",
     "text": [
      "progress = 92.0%\n"
     ]
    },
    {
     "name": "stderr",
     "output_type": "stream",
     "text": [
      "01:59:40 - OI2: INFO - Duplicated gene symbols in the prize file (we'll keep the max prize):\n",
      "01:59:40 - OI2: INFO - []\n",
      "01:59:40 - OI2: INFO - Members of the prize file not present in the interactome:\n",
      "01:59:40 - OI2: INFO - []\n"
     ]
    },
    {
     "name": "stdout",
     "output_type": "stream",
     "text": [
      "progress = 92.10000000000001%\n"
     ]
    },
    {
     "name": "stderr",
     "output_type": "stream",
     "text": [
      "01:59:42 - OI2: INFO - Duplicated gene symbols in the prize file (we'll keep the max prize):\n",
      "01:59:42 - OI2: INFO - []\n",
      "01:59:42 - OI2: INFO - Members of the prize file not present in the interactome:\n",
      "01:59:42 - OI2: INFO - []\n"
     ]
    },
    {
     "name": "stdout",
     "output_type": "stream",
     "text": [
      "progress = 92.2%\n"
     ]
    },
    {
     "name": "stderr",
     "output_type": "stream",
     "text": [
      "01:59:45 - OI2: INFO - Duplicated gene symbols in the prize file (we'll keep the max prize):\n",
      "01:59:45 - OI2: INFO - []\n",
      "01:59:45 - OI2: INFO - Members of the prize file not present in the interactome:\n",
      "01:59:45 - OI2: INFO - []\n"
     ]
    },
    {
     "name": "stdout",
     "output_type": "stream",
     "text": [
      "progress = 92.30000000000001%\n"
     ]
    },
    {
     "name": "stderr",
     "output_type": "stream",
     "text": [
      "01:59:48 - OI2: INFO - Duplicated gene symbols in the prize file (we'll keep the max prize):\n",
      "01:59:48 - OI2: INFO - []\n",
      "01:59:48 - OI2: INFO - Members of the prize file not present in the interactome:\n",
      "01:59:48 - OI2: INFO - []\n"
     ]
    },
    {
     "name": "stdout",
     "output_type": "stream",
     "text": [
      "progress = 92.4%\n"
     ]
    },
    {
     "name": "stderr",
     "output_type": "stream",
     "text": [
      "01:59:50 - OI2: INFO - Duplicated gene symbols in the prize file (we'll keep the max prize):\n",
      "01:59:50 - OI2: INFO - []\n",
      "01:59:50 - OI2: INFO - Members of the prize file not present in the interactome:\n",
      "01:59:50 - OI2: INFO - []\n"
     ]
    },
    {
     "name": "stdout",
     "output_type": "stream",
     "text": [
      "progress = 92.5%\n"
     ]
    },
    {
     "name": "stderr",
     "output_type": "stream",
     "text": [
      "01:59:53 - OI2: INFO - Duplicated gene symbols in the prize file (we'll keep the max prize):\n",
      "01:59:53 - OI2: INFO - []\n",
      "01:59:53 - OI2: INFO - Members of the prize file not present in the interactome:\n",
      "01:59:53 - OI2: INFO - []\n"
     ]
    },
    {
     "name": "stdout",
     "output_type": "stream",
     "text": [
      "progress = 92.60000000000001%\n"
     ]
    },
    {
     "name": "stderr",
     "output_type": "stream",
     "text": [
      "01:59:56 - OI2: INFO - Duplicated gene symbols in the prize file (we'll keep the max prize):\n",
      "01:59:56 - OI2: INFO - []\n",
      "01:59:56 - OI2: INFO - Members of the prize file not present in the interactome:\n",
      "01:59:56 - OI2: INFO - []\n"
     ]
    },
    {
     "name": "stdout",
     "output_type": "stream",
     "text": [
      "progress = 92.7%\n"
     ]
    },
    {
     "name": "stderr",
     "output_type": "stream",
     "text": [
      "01:59:58 - OI2: INFO - Duplicated gene symbols in the prize file (we'll keep the max prize):\n",
      "01:59:58 - OI2: INFO - []\n",
      "01:59:58 - OI2: INFO - Members of the prize file not present in the interactome:\n",
      "01:59:58 - OI2: INFO - []\n"
     ]
    },
    {
     "name": "stdout",
     "output_type": "stream",
     "text": [
      "progress = 92.80000000000001%\n"
     ]
    },
    {
     "name": "stderr",
     "output_type": "stream",
     "text": [
      "02:00:01 - OI2: INFO - Duplicated gene symbols in the prize file (we'll keep the max prize):\n",
      "02:00:01 - OI2: INFO - []\n",
      "02:00:01 - OI2: INFO - Members of the prize file not present in the interactome:\n",
      "02:00:01 - OI2: INFO - []\n"
     ]
    },
    {
     "name": "stdout",
     "output_type": "stream",
     "text": [
      "progress = 92.9%\n"
     ]
    },
    {
     "name": "stderr",
     "output_type": "stream",
     "text": [
      "02:00:04 - OI2: INFO - Duplicated gene symbols in the prize file (we'll keep the max prize):\n",
      "02:00:04 - OI2: INFO - []\n",
      "02:00:04 - OI2: INFO - Members of the prize file not present in the interactome:\n",
      "02:00:04 - OI2: INFO - []\n"
     ]
    },
    {
     "name": "stdout",
     "output_type": "stream",
     "text": [
      "progress = 93.0%\n"
     ]
    },
    {
     "name": "stderr",
     "output_type": "stream",
     "text": [
      "02:00:06 - OI2: INFO - Duplicated gene symbols in the prize file (we'll keep the max prize):\n",
      "02:00:06 - OI2: INFO - []\n",
      "02:00:06 - OI2: INFO - Members of the prize file not present in the interactome:\n",
      "02:00:06 - OI2: INFO - []\n"
     ]
    },
    {
     "name": "stdout",
     "output_type": "stream",
     "text": [
      "progress = 93.10000000000001%\n"
     ]
    },
    {
     "name": "stderr",
     "output_type": "stream",
     "text": [
      "02:00:09 - OI2: INFO - Duplicated gene symbols in the prize file (we'll keep the max prize):\n",
      "02:00:09 - OI2: INFO - []\n",
      "02:00:09 - OI2: INFO - Members of the prize file not present in the interactome:\n",
      "02:00:09 - OI2: INFO - []\n"
     ]
    },
    {
     "name": "stdout",
     "output_type": "stream",
     "text": [
      "progress = 93.2%\n"
     ]
    },
    {
     "name": "stderr",
     "output_type": "stream",
     "text": [
      "02:00:12 - OI2: INFO - Duplicated gene symbols in the prize file (we'll keep the max prize):\n",
      "02:00:12 - OI2: INFO - []\n",
      "02:00:12 - OI2: INFO - Members of the prize file not present in the interactome:\n",
      "02:00:12 - OI2: INFO - []\n"
     ]
    },
    {
     "name": "stdout",
     "output_type": "stream",
     "text": [
      "progress = 93.30000000000001%\n"
     ]
    },
    {
     "name": "stderr",
     "output_type": "stream",
     "text": [
      "02:00:14 - OI2: INFO - Duplicated gene symbols in the prize file (we'll keep the max prize):\n",
      "02:00:14 - OI2: INFO - []\n",
      "02:00:14 - OI2: INFO - Members of the prize file not present in the interactome:\n",
      "02:00:14 - OI2: INFO - []\n"
     ]
    },
    {
     "name": "stdout",
     "output_type": "stream",
     "text": [
      "progress = 93.4%\n"
     ]
    },
    {
     "name": "stderr",
     "output_type": "stream",
     "text": [
      "02:00:17 - OI2: INFO - Duplicated gene symbols in the prize file (we'll keep the max prize):\n",
      "02:00:17 - OI2: INFO - []\n",
      "02:00:17 - OI2: INFO - Members of the prize file not present in the interactome:\n",
      "02:00:17 - OI2: INFO - []\n"
     ]
    },
    {
     "name": "stdout",
     "output_type": "stream",
     "text": [
      "progress = 93.5%\n"
     ]
    },
    {
     "name": "stderr",
     "output_type": "stream",
     "text": [
      "02:00:20 - OI2: INFO - Duplicated gene symbols in the prize file (we'll keep the max prize):\n",
      "02:00:20 - OI2: INFO - []\n",
      "02:00:20 - OI2: INFO - Members of the prize file not present in the interactome:\n",
      "02:00:20 - OI2: INFO - []\n"
     ]
    },
    {
     "name": "stdout",
     "output_type": "stream",
     "text": [
      "progress = 93.60000000000001%\n"
     ]
    },
    {
     "name": "stderr",
     "output_type": "stream",
     "text": [
      "02:00:22 - OI2: INFO - Duplicated gene symbols in the prize file (we'll keep the max prize):\n",
      "02:00:22 - OI2: INFO - []\n",
      "02:00:22 - OI2: INFO - Members of the prize file not present in the interactome:\n",
      "02:00:22 - OI2: INFO - []\n"
     ]
    },
    {
     "name": "stdout",
     "output_type": "stream",
     "text": [
      "progress = 93.7%\n"
     ]
    },
    {
     "name": "stderr",
     "output_type": "stream",
     "text": [
      "02:00:25 - OI2: INFO - Duplicated gene symbols in the prize file (we'll keep the max prize):\n",
      "02:00:25 - OI2: INFO - []\n",
      "02:00:25 - OI2: INFO - Members of the prize file not present in the interactome:\n",
      "02:00:25 - OI2: INFO - []\n"
     ]
    },
    {
     "name": "stdout",
     "output_type": "stream",
     "text": [
      "progress = 93.8%\n"
     ]
    },
    {
     "name": "stderr",
     "output_type": "stream",
     "text": [
      "02:00:28 - OI2: INFO - Duplicated gene symbols in the prize file (we'll keep the max prize):\n",
      "02:00:28 - OI2: INFO - []\n",
      "02:00:28 - OI2: INFO - Members of the prize file not present in the interactome:\n",
      "02:00:28 - OI2: INFO - []\n"
     ]
    },
    {
     "name": "stdout",
     "output_type": "stream",
     "text": [
      "progress = 93.89999999999999%\n"
     ]
    },
    {
     "name": "stderr",
     "output_type": "stream",
     "text": [
      "02:00:31 - OI2: INFO - Duplicated gene symbols in the prize file (we'll keep the max prize):\n",
      "02:00:31 - OI2: INFO - []\n",
      "02:00:31 - OI2: INFO - Members of the prize file not present in the interactome:\n",
      "02:00:31 - OI2: INFO - []\n"
     ]
    },
    {
     "name": "stdout",
     "output_type": "stream",
     "text": [
      "progress = 94.0%\n"
     ]
    },
    {
     "name": "stderr",
     "output_type": "stream",
     "text": [
      "02:00:33 - OI2: INFO - Duplicated gene symbols in the prize file (we'll keep the max prize):\n",
      "02:00:33 - OI2: INFO - []\n",
      "02:00:33 - OI2: INFO - Members of the prize file not present in the interactome:\n",
      "02:00:33 - OI2: INFO - []\n"
     ]
    },
    {
     "name": "stdout",
     "output_type": "stream",
     "text": [
      "progress = 94.1%\n"
     ]
    },
    {
     "name": "stderr",
     "output_type": "stream",
     "text": [
      "02:00:36 - OI2: INFO - Duplicated gene symbols in the prize file (we'll keep the max prize):\n",
      "02:00:36 - OI2: INFO - []\n",
      "02:00:36 - OI2: INFO - Members of the prize file not present in the interactome:\n",
      "02:00:36 - OI2: INFO - []\n"
     ]
    },
    {
     "name": "stdout",
     "output_type": "stream",
     "text": [
      "progress = 94.19999999999999%\n"
     ]
    },
    {
     "name": "stderr",
     "output_type": "stream",
     "text": [
      "02:00:39 - OI2: INFO - Duplicated gene symbols in the prize file (we'll keep the max prize):\n",
      "02:00:39 - OI2: INFO - []\n",
      "02:00:39 - OI2: INFO - Members of the prize file not present in the interactome:\n",
      "02:00:39 - OI2: INFO - []\n"
     ]
    },
    {
     "name": "stdout",
     "output_type": "stream",
     "text": [
      "progress = 94.3%\n"
     ]
    },
    {
     "name": "stderr",
     "output_type": "stream",
     "text": [
      "02:00:41 - OI2: INFO - Duplicated gene symbols in the prize file (we'll keep the max prize):\n",
      "02:00:41 - OI2: INFO - []\n",
      "02:00:41 - OI2: INFO - Members of the prize file not present in the interactome:\n",
      "02:00:41 - OI2: INFO - []\n"
     ]
    },
    {
     "name": "stdout",
     "output_type": "stream",
     "text": [
      "progress = 94.39999999999999%\n"
     ]
    },
    {
     "name": "stderr",
     "output_type": "stream",
     "text": [
      "02:00:44 - OI2: INFO - Duplicated gene symbols in the prize file (we'll keep the max prize):\n",
      "02:00:44 - OI2: INFO - []\n",
      "02:00:44 - OI2: INFO - Members of the prize file not present in the interactome:\n",
      "02:00:44 - OI2: INFO - []\n"
     ]
    },
    {
     "name": "stdout",
     "output_type": "stream",
     "text": [
      "progress = 94.5%\n"
     ]
    },
    {
     "name": "stderr",
     "output_type": "stream",
     "text": [
      "02:00:46 - OI2: INFO - Duplicated gene symbols in the prize file (we'll keep the max prize):\n",
      "02:00:46 - OI2: INFO - []\n",
      "02:00:46 - OI2: INFO - Members of the prize file not present in the interactome:\n",
      "02:00:46 - OI2: INFO - []\n"
     ]
    },
    {
     "name": "stdout",
     "output_type": "stream",
     "text": [
      "progress = 94.6%\n"
     ]
    },
    {
     "name": "stderr",
     "output_type": "stream",
     "text": [
      "02:00:49 - OI2: INFO - Duplicated gene symbols in the prize file (we'll keep the max prize):\n",
      "02:00:49 - OI2: INFO - []\n",
      "02:00:49 - OI2: INFO - Members of the prize file not present in the interactome:\n",
      "02:00:49 - OI2: INFO - []\n"
     ]
    },
    {
     "name": "stdout",
     "output_type": "stream",
     "text": [
      "progress = 94.69999999999999%\n"
     ]
    },
    {
     "name": "stderr",
     "output_type": "stream",
     "text": [
      "02:00:52 - OI2: INFO - Duplicated gene symbols in the prize file (we'll keep the max prize):\n",
      "02:00:52 - OI2: INFO - []\n",
      "02:00:52 - OI2: INFO - Members of the prize file not present in the interactome:\n",
      "02:00:52 - OI2: INFO - []\n"
     ]
    },
    {
     "name": "stdout",
     "output_type": "stream",
     "text": [
      "progress = 94.8%\n"
     ]
    },
    {
     "name": "stderr",
     "output_type": "stream",
     "text": [
      "02:00:54 - OI2: INFO - Duplicated gene symbols in the prize file (we'll keep the max prize):\n",
      "02:00:54 - OI2: INFO - []\n",
      "02:00:54 - OI2: INFO - Members of the prize file not present in the interactome:\n",
      "02:00:54 - OI2: INFO - []\n"
     ]
    },
    {
     "name": "stdout",
     "output_type": "stream",
     "text": [
      "progress = 94.89999999999999%\n"
     ]
    },
    {
     "name": "stderr",
     "output_type": "stream",
     "text": [
      "02:00:57 - OI2: INFO - Duplicated gene symbols in the prize file (we'll keep the max prize):\n",
      "02:00:57 - OI2: INFO - []\n",
      "02:00:57 - OI2: INFO - Members of the prize file not present in the interactome:\n",
      "02:00:57 - OI2: INFO - []\n"
     ]
    },
    {
     "name": "stdout",
     "output_type": "stream",
     "text": [
      "progress = 95.0%\n"
     ]
    },
    {
     "name": "stderr",
     "output_type": "stream",
     "text": [
      "02:01:00 - OI2: INFO - Duplicated gene symbols in the prize file (we'll keep the max prize):\n",
      "02:01:00 - OI2: INFO - []\n",
      "02:01:00 - OI2: INFO - Members of the prize file not present in the interactome:\n",
      "02:01:00 - OI2: INFO - []\n"
     ]
    },
    {
     "name": "stdout",
     "output_type": "stream",
     "text": [
      "progress = 95.1%\n"
     ]
    },
    {
     "name": "stderr",
     "output_type": "stream",
     "text": [
      "02:01:02 - OI2: INFO - Duplicated gene symbols in the prize file (we'll keep the max prize):\n",
      "02:01:02 - OI2: INFO - []\n",
      "02:01:02 - OI2: INFO - Members of the prize file not present in the interactome:\n",
      "02:01:02 - OI2: INFO - []\n"
     ]
    },
    {
     "name": "stdout",
     "output_type": "stream",
     "text": [
      "progress = 95.19999999999999%\n"
     ]
    },
    {
     "name": "stderr",
     "output_type": "stream",
     "text": [
      "02:01:05 - OI2: INFO - Duplicated gene symbols in the prize file (we'll keep the max prize):\n",
      "02:01:05 - OI2: INFO - []\n",
      "02:01:05 - OI2: INFO - Members of the prize file not present in the interactome:\n",
      "02:01:05 - OI2: INFO - []\n"
     ]
    },
    {
     "name": "stdout",
     "output_type": "stream",
     "text": [
      "progress = 95.3%\n"
     ]
    },
    {
     "name": "stderr",
     "output_type": "stream",
     "text": [
      "02:01:08 - OI2: INFO - Duplicated gene symbols in the prize file (we'll keep the max prize):\n",
      "02:01:08 - OI2: INFO - []\n",
      "02:01:08 - OI2: INFO - Members of the prize file not present in the interactome:\n",
      "02:01:08 - OI2: INFO - []\n"
     ]
    },
    {
     "name": "stdout",
     "output_type": "stream",
     "text": [
      "progress = 95.39999999999999%\n"
     ]
    },
    {
     "name": "stderr",
     "output_type": "stream",
     "text": [
      "02:01:10 - OI2: INFO - Duplicated gene symbols in the prize file (we'll keep the max prize):\n",
      "02:01:10 - OI2: INFO - []\n",
      "02:01:10 - OI2: INFO - Members of the prize file not present in the interactome:\n",
      "02:01:10 - OI2: INFO - []\n"
     ]
    },
    {
     "name": "stdout",
     "output_type": "stream",
     "text": [
      "progress = 95.5%\n"
     ]
    },
    {
     "name": "stderr",
     "output_type": "stream",
     "text": [
      "02:01:13 - OI2: INFO - Duplicated gene symbols in the prize file (we'll keep the max prize):\n",
      "02:01:13 - OI2: INFO - []\n",
      "02:01:13 - OI2: INFO - Members of the prize file not present in the interactome:\n",
      "02:01:13 - OI2: INFO - []\n"
     ]
    },
    {
     "name": "stdout",
     "output_type": "stream",
     "text": [
      "progress = 95.6%\n"
     ]
    },
    {
     "name": "stderr",
     "output_type": "stream",
     "text": [
      "02:01:16 - OI2: INFO - Duplicated gene symbols in the prize file (we'll keep the max prize):\n",
      "02:01:16 - OI2: INFO - []\n",
      "02:01:16 - OI2: INFO - Members of the prize file not present in the interactome:\n",
      "02:01:16 - OI2: INFO - []\n"
     ]
    },
    {
     "name": "stdout",
     "output_type": "stream",
     "text": [
      "progress = 95.7%\n"
     ]
    },
    {
     "name": "stderr",
     "output_type": "stream",
     "text": [
      "02:01:19 - OI2: INFO - Duplicated gene symbols in the prize file (we'll keep the max prize):\n",
      "02:01:19 - OI2: INFO - []\n",
      "02:01:19 - OI2: INFO - Members of the prize file not present in the interactome:\n",
      "02:01:19 - OI2: INFO - []\n"
     ]
    },
    {
     "name": "stdout",
     "output_type": "stream",
     "text": [
      "progress = 95.8%\n"
     ]
    },
    {
     "name": "stderr",
     "output_type": "stream",
     "text": [
      "02:01:21 - OI2: INFO - Duplicated gene symbols in the prize file (we'll keep the max prize):\n",
      "02:01:21 - OI2: INFO - []\n",
      "02:01:21 - OI2: INFO - Members of the prize file not present in the interactome:\n",
      "02:01:21 - OI2: INFO - []\n"
     ]
    },
    {
     "name": "stdout",
     "output_type": "stream",
     "text": [
      "progress = 95.89999999999999%\n"
     ]
    },
    {
     "name": "stderr",
     "output_type": "stream",
     "text": [
      "02:01:24 - OI2: INFO - Duplicated gene symbols in the prize file (we'll keep the max prize):\n",
      "02:01:24 - OI2: INFO - []\n",
      "02:01:24 - OI2: INFO - Members of the prize file not present in the interactome:\n",
      "02:01:24 - OI2: INFO - []\n"
     ]
    },
    {
     "name": "stdout",
     "output_type": "stream",
     "text": [
      "progress = 96.0%\n"
     ]
    },
    {
     "name": "stderr",
     "output_type": "stream",
     "text": [
      "02:01:27 - OI2: INFO - Duplicated gene symbols in the prize file (we'll keep the max prize):\n",
      "02:01:27 - OI2: INFO - []\n",
      "02:01:27 - OI2: INFO - Members of the prize file not present in the interactome:\n",
      "02:01:27 - OI2: INFO - []\n"
     ]
    },
    {
     "name": "stdout",
     "output_type": "stream",
     "text": [
      "progress = 96.1%\n"
     ]
    },
    {
     "name": "stderr",
     "output_type": "stream",
     "text": [
      "02:01:29 - OI2: INFO - Duplicated gene symbols in the prize file (we'll keep the max prize):\n",
      "02:01:29 - OI2: INFO - []\n",
      "02:01:29 - OI2: INFO - Members of the prize file not present in the interactome:\n",
      "02:01:29 - OI2: INFO - []\n"
     ]
    },
    {
     "name": "stdout",
     "output_type": "stream",
     "text": [
      "progress = 96.2%\n"
     ]
    },
    {
     "name": "stderr",
     "output_type": "stream",
     "text": [
      "02:01:32 - OI2: INFO - Duplicated gene symbols in the prize file (we'll keep the max prize):\n",
      "02:01:32 - OI2: INFO - []\n",
      "02:01:32 - OI2: INFO - Members of the prize file not present in the interactome:\n",
      "02:01:32 - OI2: INFO - []\n"
     ]
    },
    {
     "name": "stdout",
     "output_type": "stream",
     "text": [
      "progress = 96.3%\n"
     ]
    },
    {
     "name": "stderr",
     "output_type": "stream",
     "text": [
      "02:01:35 - OI2: INFO - Duplicated gene symbols in the prize file (we'll keep the max prize):\n",
      "02:01:35 - OI2: INFO - []\n",
      "02:01:35 - OI2: INFO - Members of the prize file not present in the interactome:\n",
      "02:01:35 - OI2: INFO - []\n"
     ]
    },
    {
     "name": "stdout",
     "output_type": "stream",
     "text": [
      "progress = 96.39999999999999%\n"
     ]
    },
    {
     "name": "stderr",
     "output_type": "stream",
     "text": [
      "02:01:37 - OI2: INFO - Duplicated gene symbols in the prize file (we'll keep the max prize):\n",
      "02:01:37 - OI2: INFO - []\n",
      "02:01:37 - OI2: INFO - Members of the prize file not present in the interactome:\n",
      "02:01:37 - OI2: INFO - []\n"
     ]
    },
    {
     "name": "stdout",
     "output_type": "stream",
     "text": [
      "progress = 96.5%\n"
     ]
    },
    {
     "name": "stderr",
     "output_type": "stream",
     "text": [
      "02:01:40 - OI2: INFO - Duplicated gene symbols in the prize file (we'll keep the max prize):\n",
      "02:01:40 - OI2: INFO - []\n",
      "02:01:40 - OI2: INFO - Members of the prize file not present in the interactome:\n",
      "02:01:40 - OI2: INFO - []\n"
     ]
    },
    {
     "name": "stdout",
     "output_type": "stream",
     "text": [
      "progress = 96.6%\n"
     ]
    },
    {
     "name": "stderr",
     "output_type": "stream",
     "text": [
      "02:01:43 - OI2: INFO - Duplicated gene symbols in the prize file (we'll keep the max prize):\n",
      "02:01:43 - OI2: INFO - []\n",
      "02:01:43 - OI2: INFO - Members of the prize file not present in the interactome:\n",
      "02:01:43 - OI2: INFO - []\n"
     ]
    },
    {
     "name": "stdout",
     "output_type": "stream",
     "text": [
      "progress = 96.7%\n"
     ]
    },
    {
     "name": "stderr",
     "output_type": "stream",
     "text": [
      "02:01:45 - OI2: INFO - Duplicated gene symbols in the prize file (we'll keep the max prize):\n",
      "02:01:45 - OI2: INFO - []\n",
      "02:01:45 - OI2: INFO - Members of the prize file not present in the interactome:\n",
      "02:01:45 - OI2: INFO - []\n"
     ]
    },
    {
     "name": "stdout",
     "output_type": "stream",
     "text": [
      "progress = 96.8%\n"
     ]
    },
    {
     "name": "stderr",
     "output_type": "stream",
     "text": [
      "02:01:48 - OI2: INFO - Duplicated gene symbols in the prize file (we'll keep the max prize):\n",
      "02:01:48 - OI2: INFO - []\n",
      "02:01:48 - OI2: INFO - Members of the prize file not present in the interactome:\n",
      "02:01:48 - OI2: INFO - []\n"
     ]
    },
    {
     "name": "stdout",
     "output_type": "stream",
     "text": [
      "progress = 96.89999999999999%\n"
     ]
    },
    {
     "name": "stderr",
     "output_type": "stream",
     "text": [
      "02:01:51 - OI2: INFO - Duplicated gene symbols in the prize file (we'll keep the max prize):\n",
      "02:01:51 - OI2: INFO - []\n",
      "02:01:51 - OI2: INFO - Members of the prize file not present in the interactome:\n",
      "02:01:51 - OI2: INFO - []\n"
     ]
    },
    {
     "name": "stdout",
     "output_type": "stream",
     "text": [
      "progress = 97.0%\n"
     ]
    },
    {
     "name": "stderr",
     "output_type": "stream",
     "text": [
      "02:01:53 - OI2: INFO - Duplicated gene symbols in the prize file (we'll keep the max prize):\n",
      "02:01:53 - OI2: INFO - []\n",
      "02:01:53 - OI2: INFO - Members of the prize file not present in the interactome:\n",
      "02:01:53 - OI2: INFO - []\n"
     ]
    },
    {
     "name": "stdout",
     "output_type": "stream",
     "text": [
      "progress = 97.1%\n"
     ]
    },
    {
     "name": "stderr",
     "output_type": "stream",
     "text": [
      "02:01:56 - OI2: INFO - Duplicated gene symbols in the prize file (we'll keep the max prize):\n",
      "02:01:56 - OI2: INFO - []\n",
      "02:01:56 - OI2: INFO - Members of the prize file not present in the interactome:\n",
      "02:01:56 - OI2: INFO - []\n"
     ]
    },
    {
     "name": "stdout",
     "output_type": "stream",
     "text": [
      "progress = 97.2%\n"
     ]
    },
    {
     "name": "stderr",
     "output_type": "stream",
     "text": [
      "02:01:59 - OI2: INFO - Duplicated gene symbols in the prize file (we'll keep the max prize):\n",
      "02:01:59 - OI2: INFO - []\n",
      "02:01:59 - OI2: INFO - Members of the prize file not present in the interactome:\n",
      "02:01:59 - OI2: INFO - []\n"
     ]
    },
    {
     "name": "stdout",
     "output_type": "stream",
     "text": [
      "progress = 97.3%\n"
     ]
    },
    {
     "name": "stderr",
     "output_type": "stream",
     "text": [
      "02:02:02 - OI2: INFO - Duplicated gene symbols in the prize file (we'll keep the max prize):\n",
      "02:02:02 - OI2: INFO - []\n",
      "02:02:02 - OI2: INFO - Members of the prize file not present in the interactome:\n",
      "02:02:02 - OI2: INFO - []\n"
     ]
    },
    {
     "name": "stdout",
     "output_type": "stream",
     "text": [
      "progress = 97.39999999999999%\n"
     ]
    },
    {
     "name": "stderr",
     "output_type": "stream",
     "text": [
      "02:02:04 - OI2: INFO - Duplicated gene symbols in the prize file (we'll keep the max prize):\n",
      "02:02:04 - OI2: INFO - []\n",
      "02:02:04 - OI2: INFO - Members of the prize file not present in the interactome:\n",
      "02:02:04 - OI2: INFO - []\n"
     ]
    },
    {
     "name": "stdout",
     "output_type": "stream",
     "text": [
      "progress = 97.5%\n"
     ]
    },
    {
     "name": "stderr",
     "output_type": "stream",
     "text": [
      "02:02:07 - OI2: INFO - Duplicated gene symbols in the prize file (we'll keep the max prize):\n",
      "02:02:07 - OI2: INFO - []\n",
      "02:02:07 - OI2: INFO - Members of the prize file not present in the interactome:\n",
      "02:02:07 - OI2: INFO - []\n"
     ]
    },
    {
     "name": "stdout",
     "output_type": "stream",
     "text": [
      "progress = 97.6%\n"
     ]
    },
    {
     "name": "stderr",
     "output_type": "stream",
     "text": [
      "02:02:10 - OI2: INFO - Duplicated gene symbols in the prize file (we'll keep the max prize):\n",
      "02:02:10 - OI2: INFO - []\n",
      "02:02:10 - OI2: INFO - Members of the prize file not present in the interactome:\n",
      "02:02:10 - OI2: INFO - []\n"
     ]
    },
    {
     "name": "stdout",
     "output_type": "stream",
     "text": [
      "progress = 97.7%\n"
     ]
    },
    {
     "name": "stderr",
     "output_type": "stream",
     "text": [
      "02:02:12 - OI2: INFO - Duplicated gene symbols in the prize file (we'll keep the max prize):\n",
      "02:02:12 - OI2: INFO - []\n",
      "02:02:12 - OI2: INFO - Members of the prize file not present in the interactome:\n",
      "02:02:12 - OI2: INFO - []\n"
     ]
    },
    {
     "name": "stdout",
     "output_type": "stream",
     "text": [
      "progress = 97.8%\n"
     ]
    },
    {
     "name": "stderr",
     "output_type": "stream",
     "text": [
      "02:02:15 - OI2: INFO - Duplicated gene symbols in the prize file (we'll keep the max prize):\n",
      "02:02:15 - OI2: INFO - []\n",
      "02:02:15 - OI2: INFO - Members of the prize file not present in the interactome:\n",
      "02:02:15 - OI2: INFO - []\n"
     ]
    },
    {
     "name": "stdout",
     "output_type": "stream",
     "text": [
      "progress = 97.89999999999999%\n"
     ]
    },
    {
     "name": "stderr",
     "output_type": "stream",
     "text": [
      "02:02:18 - OI2: INFO - Duplicated gene symbols in the prize file (we'll keep the max prize):\n",
      "02:02:18 - OI2: INFO - []\n",
      "02:02:18 - OI2: INFO - Members of the prize file not present in the interactome:\n",
      "02:02:18 - OI2: INFO - []\n"
     ]
    },
    {
     "name": "stdout",
     "output_type": "stream",
     "text": [
      "progress = 98.0%\n"
     ]
    },
    {
     "name": "stderr",
     "output_type": "stream",
     "text": [
      "02:02:20 - OI2: INFO - Duplicated gene symbols in the prize file (we'll keep the max prize):\n",
      "02:02:20 - OI2: INFO - []\n",
      "02:02:20 - OI2: INFO - Members of the prize file not present in the interactome:\n",
      "02:02:20 - OI2: INFO - []\n"
     ]
    },
    {
     "name": "stdout",
     "output_type": "stream",
     "text": [
      "progress = 98.1%\n"
     ]
    },
    {
     "name": "stderr",
     "output_type": "stream",
     "text": [
      "02:02:23 - OI2: INFO - Duplicated gene symbols in the prize file (we'll keep the max prize):\n",
      "02:02:23 - OI2: INFO - []\n",
      "02:02:23 - OI2: INFO - Members of the prize file not present in the interactome:\n",
      "02:02:23 - OI2: INFO - []\n"
     ]
    },
    {
     "name": "stdout",
     "output_type": "stream",
     "text": [
      "progress = 98.2%\n"
     ]
    },
    {
     "name": "stderr",
     "output_type": "stream",
     "text": [
      "02:02:26 - OI2: INFO - Duplicated gene symbols in the prize file (we'll keep the max prize):\n",
      "02:02:26 - OI2: INFO - []\n",
      "02:02:26 - OI2: INFO - Members of the prize file not present in the interactome:\n",
      "02:02:26 - OI2: INFO - []\n"
     ]
    },
    {
     "name": "stdout",
     "output_type": "stream",
     "text": [
      "progress = 98.3%\n"
     ]
    },
    {
     "name": "stderr",
     "output_type": "stream",
     "text": [
      "02:02:28 - OI2: INFO - Duplicated gene symbols in the prize file (we'll keep the max prize):\n",
      "02:02:28 - OI2: INFO - []\n",
      "02:02:28 - OI2: INFO - Members of the prize file not present in the interactome:\n",
      "02:02:28 - OI2: INFO - []\n"
     ]
    },
    {
     "name": "stdout",
     "output_type": "stream",
     "text": [
      "progress = 98.4%\n"
     ]
    },
    {
     "name": "stderr",
     "output_type": "stream",
     "text": [
      "02:02:31 - OI2: INFO - Duplicated gene symbols in the prize file (we'll keep the max prize):\n",
      "02:02:31 - OI2: INFO - []\n",
      "02:02:31 - OI2: INFO - Members of the prize file not present in the interactome:\n",
      "02:02:31 - OI2: INFO - []\n"
     ]
    },
    {
     "name": "stdout",
     "output_type": "stream",
     "text": [
      "progress = 98.5%\n"
     ]
    },
    {
     "name": "stderr",
     "output_type": "stream",
     "text": [
      "02:02:33 - OI2: INFO - Duplicated gene symbols in the prize file (we'll keep the max prize):\n",
      "02:02:33 - OI2: INFO - []\n",
      "02:02:33 - OI2: INFO - Members of the prize file not present in the interactome:\n",
      "02:02:33 - OI2: INFO - []\n"
     ]
    },
    {
     "name": "stdout",
     "output_type": "stream",
     "text": [
      "progress = 98.6%\n"
     ]
    },
    {
     "name": "stderr",
     "output_type": "stream",
     "text": [
      "02:02:36 - OI2: INFO - Duplicated gene symbols in the prize file (we'll keep the max prize):\n",
      "02:02:36 - OI2: INFO - []\n",
      "02:02:36 - OI2: INFO - Members of the prize file not present in the interactome:\n",
      "02:02:36 - OI2: INFO - []\n"
     ]
    },
    {
     "name": "stdout",
     "output_type": "stream",
     "text": [
      "progress = 98.7%\n"
     ]
    },
    {
     "name": "stderr",
     "output_type": "stream",
     "text": [
      "02:02:39 - OI2: INFO - Duplicated gene symbols in the prize file (we'll keep the max prize):\n",
      "02:02:39 - OI2: INFO - []\n",
      "02:02:39 - OI2: INFO - Members of the prize file not present in the interactome:\n",
      "02:02:39 - OI2: INFO - []\n"
     ]
    },
    {
     "name": "stdout",
     "output_type": "stream",
     "text": [
      "progress = 98.8%\n"
     ]
    },
    {
     "name": "stderr",
     "output_type": "stream",
     "text": [
      "02:02:41 - OI2: INFO - Duplicated gene symbols in the prize file (we'll keep the max prize):\n",
      "02:02:41 - OI2: INFO - []\n",
      "02:02:41 - OI2: INFO - Members of the prize file not present in the interactome:\n",
      "02:02:41 - OI2: INFO - []\n"
     ]
    },
    {
     "name": "stdout",
     "output_type": "stream",
     "text": [
      "progress = 98.9%\n"
     ]
    },
    {
     "name": "stderr",
     "output_type": "stream",
     "text": [
      "02:02:44 - OI2: INFO - Duplicated gene symbols in the prize file (we'll keep the max prize):\n",
      "02:02:44 - OI2: INFO - []\n",
      "02:02:44 - OI2: INFO - Members of the prize file not present in the interactome:\n",
      "02:02:44 - OI2: INFO - []\n"
     ]
    },
    {
     "name": "stdout",
     "output_type": "stream",
     "text": [
      "progress = 99.0%\n"
     ]
    },
    {
     "name": "stderr",
     "output_type": "stream",
     "text": [
      "02:02:47 - OI2: INFO - Duplicated gene symbols in the prize file (we'll keep the max prize):\n",
      "02:02:47 - OI2: INFO - []\n",
      "02:02:47 - OI2: INFO - Members of the prize file not present in the interactome:\n",
      "02:02:47 - OI2: INFO - []\n"
     ]
    },
    {
     "name": "stdout",
     "output_type": "stream",
     "text": [
      "progress = 99.1%\n"
     ]
    },
    {
     "name": "stderr",
     "output_type": "stream",
     "text": [
      "02:02:49 - OI2: INFO - Duplicated gene symbols in the prize file (we'll keep the max prize):\n",
      "02:02:49 - OI2: INFO - []\n",
      "02:02:49 - OI2: INFO - Members of the prize file not present in the interactome:\n",
      "02:02:49 - OI2: INFO - []\n"
     ]
    },
    {
     "name": "stdout",
     "output_type": "stream",
     "text": [
      "progress = 99.2%\n"
     ]
    },
    {
     "name": "stderr",
     "output_type": "stream",
     "text": [
      "02:02:52 - OI2: INFO - Duplicated gene symbols in the prize file (we'll keep the max prize):\n",
      "02:02:52 - OI2: INFO - []\n",
      "02:02:52 - OI2: INFO - Members of the prize file not present in the interactome:\n",
      "02:02:52 - OI2: INFO - []\n"
     ]
    },
    {
     "name": "stdout",
     "output_type": "stream",
     "text": [
      "progress = 99.3%\n"
     ]
    },
    {
     "name": "stderr",
     "output_type": "stream",
     "text": [
      "02:02:54 - OI2: INFO - Duplicated gene symbols in the prize file (we'll keep the max prize):\n",
      "02:02:54 - OI2: INFO - []\n",
      "02:02:54 - OI2: INFO - Members of the prize file not present in the interactome:\n",
      "02:02:54 - OI2: INFO - []\n"
     ]
    },
    {
     "name": "stdout",
     "output_type": "stream",
     "text": [
      "progress = 99.4%\n"
     ]
    },
    {
     "name": "stderr",
     "output_type": "stream",
     "text": [
      "02:02:57 - OI2: INFO - Duplicated gene symbols in the prize file (we'll keep the max prize):\n",
      "02:02:57 - OI2: INFO - []\n",
      "02:02:57 - OI2: INFO - Members of the prize file not present in the interactome:\n",
      "02:02:57 - OI2: INFO - []\n"
     ]
    },
    {
     "name": "stdout",
     "output_type": "stream",
     "text": [
      "progress = 99.5%\n"
     ]
    },
    {
     "name": "stderr",
     "output_type": "stream",
     "text": [
      "02:03:00 - OI2: INFO - Duplicated gene symbols in the prize file (we'll keep the max prize):\n",
      "02:03:00 - OI2: INFO - []\n",
      "02:03:00 - OI2: INFO - Members of the prize file not present in the interactome:\n",
      "02:03:00 - OI2: INFO - []\n"
     ]
    },
    {
     "name": "stdout",
     "output_type": "stream",
     "text": [
      "progress = 99.6%\n"
     ]
    },
    {
     "name": "stderr",
     "output_type": "stream",
     "text": [
      "02:03:02 - OI2: INFO - Duplicated gene symbols in the prize file (we'll keep the max prize):\n",
      "02:03:02 - OI2: INFO - []\n",
      "02:03:02 - OI2: INFO - Members of the prize file not present in the interactome:\n",
      "02:03:02 - OI2: INFO - []\n"
     ]
    },
    {
     "name": "stdout",
     "output_type": "stream",
     "text": [
      "progress = 99.7%\n"
     ]
    },
    {
     "name": "stderr",
     "output_type": "stream",
     "text": [
      "02:03:05 - OI2: INFO - Duplicated gene symbols in the prize file (we'll keep the max prize):\n",
      "02:03:05 - OI2: INFO - []\n",
      "02:03:05 - OI2: INFO - Members of the prize file not present in the interactome:\n",
      "02:03:05 - OI2: INFO - []\n"
     ]
    },
    {
     "name": "stdout",
     "output_type": "stream",
     "text": [
      "progress = 99.8%\n"
     ]
    },
    {
     "name": "stderr",
     "output_type": "stream",
     "text": [
      "02:03:07 - OI2: INFO - Duplicated gene symbols in the prize file (we'll keep the max prize):\n",
      "02:03:07 - OI2: INFO - []\n",
      "02:03:07 - OI2: INFO - Members of the prize file not present in the interactome:\n",
      "02:03:07 - OI2: INFO - []\n"
     ]
    },
    {
     "name": "stdout",
     "output_type": "stream",
     "text": [
      "progress = 99.9%\n"
     ]
    }
   ],
   "source": [
    "# Set seed\n",
    "np.random.seed(13)\n",
    "\n",
    "for i in range(N):\n",
    "    \n",
    "    # Define seed\n",
    "    seed = i\n",
    "    np.random.seed(seed)\n",
    "\n",
    "    # Randomly change the gene names of selected Blanco genes\n",
    "    blanco_rpkm_selected = blanco_rpkm_selected_true.copy()\n",
    "    blanco_rpkm_selected['name'] = np.random.choice(all_blanco_gene_names, size=len(blanco_rpkm_selected['name']), replace=False)\n",
    "\n",
    "    # Create prized list\n",
    "    terminal_df = prizes.create_prized_genes_list(blanco2_rpkm,\n",
    "                                                 blanco_rpkm_selected,\n",
    "                                                 gtex_rpkm_selected_df,\n",
    "                                                 l1000_genes,\n",
    "                                                 proteins_in_ppi,\n",
    "                                                 plot_venn_diagrams=False)\n",
    "    # Save terminal df to tsv\n",
    "    terminal_df.to_csv(r'../Save_RandomizeGeneLabels/terminals_ppi_analysis_repeat.tsv', header=True, index=None, sep='\\t', quoting = csv.QUOTE_NONE, escapechar = '\\t')\n",
    "    prize_file_name = \"../Save_RandomizeGeneLabels/terminals_ppi_analysis_repeat.tsv\"\n",
    "\n",
    "    # Obtain Steiner Tree\n",
    "    graph = oi.Graph(interactome_file_name, hyperparams)\n",
    "    graph.prepare_prizes(prize_file_name)\n",
    "    vertex_indices, edge_indices = graph.pcsf()\n",
    "    _, network_selected = graph.output_forest_as_networkx(vertex_indices, edge_indices)\n",
    "\n",
    "    # Add following attribute for each gene: is gene druggable, what drug \n",
    "    drugs = {gene:list(targets_and_drugs_df.loc[targets_and_drugs_df['gene']==gene]['drug']) for gene in list(network_selected.nodes())}\n",
    "    drugs_with_corr_aff = {gene:[targets_and_drugs_df['drug'][i]+'%'+str(targets_and_drugs_df['corr'][i])+'%'+str(targets_and_drugs_df['affinity_constant'][i])\n",
    "                             for i in targets_and_drugs_df.index[targets_and_drugs_df['gene']==gene]]\n",
    "                             for gene in list(network_selected.nodes())}\n",
    "    druggable_boolean = {gene:drugs[gene]!=[] for gene in list(network_selected.nodes())}\n",
    "    protein_target = {gene:list(targets_and_drugs_df.loc[targets_and_drugs_df['gene']==gene]['protein_target']) for gene in list(network_selected.nodes())}\n",
    "    nx.set_node_attributes(network_selected, druggable_boolean, name='druggable')\n",
    "    nx.set_node_attributes(network_selected, drugs, name='drug')\n",
    "    nx.set_node_attributes(network_selected, drugs_with_corr_aff, name='drug_with_corr_aff')\n",
    "    nx.set_node_attributes(network_selected, protein_target, name='protein_target')\n",
    "\n",
    "    # Get selected network as dataframe of node\n",
    "    network_enriched_df = oi.get_networkx_graph_as_dataframe_of_nodes(network_selected)\n",
    "\n",
    "    # Drug targets in network dataframe\n",
    "    drug_targets_df = network_enriched_df.copy()\n",
    "    drug_targets_df = drug_targets_df.loc[drug_targets_df['druggable']==True]\n",
    "    drug_targets_df['name'] = drug_targets_df.index\n",
    "    wanted_columns = ['name','drug_with_corr_aff','protein_target']\n",
    "    drug_targets_df = drug_targets_df[wanted_columns]\n",
    "    drug_targets_df['protein_target'] = [set(drug_targets_df['protein_target'][i]) for i in np.arange(len(drug_targets_df))]\n",
    "\n",
    "    # Explode\n",
    "    drug_targets_df = drugs2.unnesting(drug_targets_df, ['drug_with_corr_aff'])\n",
    "    drug_targets_df[['drug','corr','affinity']] = drug_targets_df['drug_with_corr_aff'].str.split('%',expand = True)\n",
    "    wanted_columns2 = ['name','protein_target','drug','corr','affinity']\n",
    "    drug_targets_df = drug_targets_df[wanted_columns2]\n",
    "\n",
    "    # Increment number of appearances of original drugs\n",
    "    final_drug_list = np.unique(drug_targets_df['drug'])\n",
    "    original_drugs.loc[original_drugs['drug'].isin(set(final_drug_list)),'num_appearance'] += 1\n",
    "    non_original_drugs.loc[non_original_drugs['drug'].isin(set(final_drug_list)),'num_appearance'] += 1\n",
    "    print('progress = '+str(i/N*100) + '%')\n",
    "    \n",
    "original_drugs.loc[:,'num_appearance'] /= N\n",
    "non_original_drugs.loc[:,'num_appearance'] /= N\n",
    "\n",
    "# Save as pickle\n",
    "with open(\"../Save_RandomizeGeneLabels/original_drugs.pkl\", \"wb\") as f: \n",
    "    pickle.dump(original_drugs, f)\n",
    "with open(\"../Save_RandomizeGeneLabels/non_original_drugs.pkl\", \"wb\") as f: \n",
    "    pickle.dump(non_original_drugs, f)"
   ]
  },
  {
   "cell_type": "code",
   "execution_count": 34,
   "metadata": {},
   "outputs": [
    {
     "data": {
      "text/html": [
       "<div>\n",
       "<style scoped>\n",
       "    .dataframe tbody tr th:only-of-type {\n",
       "        vertical-align: middle;\n",
       "    }\n",
       "\n",
       "    .dataframe tbody tr th {\n",
       "        vertical-align: top;\n",
       "    }\n",
       "\n",
       "    .dataframe thead th {\n",
       "        text-align: right;\n",
       "    }\n",
       "</style>\n",
       "<table border=\"1\" class=\"dataframe\">\n",
       "  <thead>\n",
       "    <tr style=\"text-align: right;\">\n",
       "      <th></th>\n",
       "      <th>drug</th>\n",
       "      <th>num_targets</th>\n",
       "      <th>num_terminal_targets</th>\n",
       "      <th>num_appearance</th>\n",
       "      <th>max_target_centrality</th>\n",
       "    </tr>\n",
       "  </thead>\n",
       "  <tbody>\n",
       "    <tr>\n",
       "      <th>957</th>\n",
       "      <td>milrinone</td>\n",
       "      <td>9</td>\n",
       "      <td>0</td>\n",
       "      <td>0.178</td>\n",
       "      <td>0.002538</td>\n",
       "    </tr>\n",
       "    <tr>\n",
       "      <th>652</th>\n",
       "      <td>formoterol</td>\n",
       "      <td>5</td>\n",
       "      <td>0</td>\n",
       "      <td>0.326</td>\n",
       "      <td>0.049054</td>\n",
       "    </tr>\n",
       "    <tr>\n",
       "      <th>1213</th>\n",
       "      <td>primaquine</td>\n",
       "      <td>5</td>\n",
       "      <td>0</td>\n",
       "      <td>0.344</td>\n",
       "      <td>0.049054</td>\n",
       "    </tr>\n",
       "    <tr>\n",
       "      <th>1563</th>\n",
       "      <td>vardenafil</td>\n",
       "      <td>13</td>\n",
       "      <td>0</td>\n",
       "      <td>0.348</td>\n",
       "      <td>0.002538</td>\n",
       "    </tr>\n",
       "    <tr>\n",
       "      <th>469</th>\n",
       "      <td>docetaxel</td>\n",
       "      <td>13</td>\n",
       "      <td>0</td>\n",
       "      <td>0.422</td>\n",
       "      <td>0.055718</td>\n",
       "    </tr>\n",
       "    <tr>\n",
       "      <th>1485</th>\n",
       "      <td>tofacitinib</td>\n",
       "      <td>43</td>\n",
       "      <td>0</td>\n",
       "      <td>0.481</td>\n",
       "      <td>0.020434</td>\n",
       "    </tr>\n",
       "    <tr>\n",
       "      <th>140</th>\n",
       "      <td>belinostat</td>\n",
       "      <td>11</td>\n",
       "      <td>0</td>\n",
       "      <td>0.743</td>\n",
       "      <td>0.030334</td>\n",
       "    </tr>\n",
       "    <tr>\n",
       "      <th>1590</th>\n",
       "      <td>vorinostat</td>\n",
       "      <td>32</td>\n",
       "      <td>0</td>\n",
       "      <td>0.790</td>\n",
       "      <td>0.030334</td>\n",
       "    </tr>\n",
       "    <tr>\n",
       "      <th>31</th>\n",
       "      <td>afatinib</td>\n",
       "      <td>38</td>\n",
       "      <td>0</td>\n",
       "      <td>0.940</td>\n",
       "      <td>0.055718</td>\n",
       "    </tr>\n",
       "    <tr>\n",
       "      <th>747</th>\n",
       "      <td>imatinib</td>\n",
       "      <td>69</td>\n",
       "      <td>0</td>\n",
       "      <td>0.947</td>\n",
       "      <td>0.055718</td>\n",
       "    </tr>\n",
       "    <tr>\n",
       "      <th>545</th>\n",
       "      <td>erlotinib</td>\n",
       "      <td>96</td>\n",
       "      <td>1</td>\n",
       "      <td>0.967</td>\n",
       "      <td>0.055718</td>\n",
       "    </tr>\n",
       "    <tr>\n",
       "      <th>393</th>\n",
       "      <td>dasatinib</td>\n",
       "      <td>128</td>\n",
       "      <td>1</td>\n",
       "      <td>0.980</td>\n",
       "      <td>0.055718</td>\n",
       "    </tr>\n",
       "    <tr>\n",
       "      <th>1319</th>\n",
       "      <td>ruxolitinib</td>\n",
       "      <td>132</td>\n",
       "      <td>0</td>\n",
       "      <td>0.988</td>\n",
       "      <td>0.027224</td>\n",
       "    </tr>\n",
       "    <tr>\n",
       "      <th>1125</th>\n",
       "      <td>pazopanib</td>\n",
       "      <td>103</td>\n",
       "      <td>0</td>\n",
       "      <td>0.991</td>\n",
       "      <td>0.028430</td>\n",
       "    </tr>\n",
       "    <tr>\n",
       "      <th>127</th>\n",
       "      <td>axitinib</td>\n",
       "      <td>99</td>\n",
       "      <td>1</td>\n",
       "      <td>0.997</td>\n",
       "      <td>0.055718</td>\n",
       "    </tr>\n",
       "    <tr>\n",
       "      <th>189</th>\n",
       "      <td>bosutinib</td>\n",
       "      <td>203</td>\n",
       "      <td>0</td>\n",
       "      <td>0.998</td>\n",
       "      <td>0.055718</td>\n",
       "    </tr>\n",
       "    <tr>\n",
       "      <th>1368</th>\n",
       "      <td>sorafenib</td>\n",
       "      <td>116</td>\n",
       "      <td>1</td>\n",
       "      <td>0.998</td>\n",
       "      <td>0.037187</td>\n",
       "    </tr>\n",
       "    <tr>\n",
       "      <th>1399</th>\n",
       "      <td>sunitinib</td>\n",
       "      <td>260</td>\n",
       "      <td>1</td>\n",
       "      <td>1.000</td>\n",
       "      <td>0.055718</td>\n",
       "    </tr>\n",
       "  </tbody>\n",
       "</table>\n",
       "</div>"
      ],
      "text/plain": [
       "             drug  num_targets  num_terminal_targets  num_appearance  \\\n",
       "957     milrinone            9                     0           0.178   \n",
       "652    formoterol            5                     0           0.326   \n",
       "1213   primaquine            5                     0           0.344   \n",
       "1563   vardenafil           13                     0           0.348   \n",
       "469     docetaxel           13                     0           0.422   \n",
       "1485  tofacitinib           43                     0           0.481   \n",
       "140    belinostat           11                     0           0.743   \n",
       "1590   vorinostat           32                     0           0.790   \n",
       "31       afatinib           38                     0           0.940   \n",
       "747      imatinib           69                     0           0.947   \n",
       "545     erlotinib           96                     1           0.967   \n",
       "393     dasatinib          128                     1           0.980   \n",
       "1319  ruxolitinib          132                     0           0.988   \n",
       "1125    pazopanib          103                     0           0.991   \n",
       "127      axitinib           99                     1           0.997   \n",
       "189     bosutinib          203                     0           0.998   \n",
       "1368    sorafenib          116                     1           0.998   \n",
       "1399    sunitinib          260                     1           1.000   \n",
       "\n",
       "      max_target_centrality  \n",
       "957                0.002538  \n",
       "652                0.049054  \n",
       "1213               0.049054  \n",
       "1563               0.002538  \n",
       "469                0.055718  \n",
       "1485               0.020434  \n",
       "140                0.030334  \n",
       "1590               0.030334  \n",
       "31                 0.055718  \n",
       "747                0.055718  \n",
       "545                0.055718  \n",
       "393                0.055718  \n",
       "1319               0.027224  \n",
       "1125               0.028430  \n",
       "127                0.055718  \n",
       "189                0.055718  \n",
       "1368               0.037187  \n",
       "1399               0.055718  "
      ]
     },
     "execution_count": 34,
     "metadata": {},
     "output_type": "execute_result"
    }
   ],
   "source": [
    "# Display table of original drugs with frequency of appearance after randomization\n",
    "# in increasing order of frequency of appearance\n",
    "# This table shows how specific each selected drug is in the original analysis. If a drug has a low frequency\n",
    "# of appearance, it means that it is highly specific to the original terminal list\n",
    "original_drugs = pickle.load(open(\"../Save_RandomizeGeneLabels/original_drugs.pkl\", \"rb\"))\n",
    "original_drugs = original_drugs.sort_values(by=['num_appearance','num_terminal_targets'], ascending=True, inplace=False)\n",
    "original_drugs"
   ]
  },
  {
   "cell_type": "code",
   "execution_count": 37,
   "metadata": {},
   "outputs": [
    {
     "data": {
      "image/png": "[encoded data removed]",
      "text/plain": [
       "<Figure size 432x288 with 1 Axes>"
      ]
     },
     "metadata": {
      "needs_background": "light"
     },
     "output_type": "display_data"
    }
   ],
   "source": [
    "# Plot frequency of appearance versus number of targets in PPI network\n",
    "plt.figure()\n",
    "plt.scatter(x=original_drugs['num_targets'], y=original_drugs['num_appearance'])\n",
    "plt.xlabel('number of targets in PPI network')\n",
    "plt.ylabel('Frequency of appearance')\n",
    "plt.show()"
   ]
  },
  {
   "cell_type": "code",
   "execution_count": 35,
   "metadata": {},
   "outputs": [
    {
     "data": {
      "text/html": [
       "<div>\n",
       "<style scoped>\n",
       "    .dataframe tbody tr th:only-of-type {\n",
       "        vertical-align: middle;\n",
       "    }\n",
       "\n",
       "    .dataframe tbody tr th {\n",
       "        vertical-align: top;\n",
       "    }\n",
       "\n",
       "    .dataframe thead th {\n",
       "        text-align: right;\n",
       "    }\n",
       "</style>\n",
       "<table border=\"1\" class=\"dataframe\">\n",
       "  <thead>\n",
       "    <tr style=\"text-align: right;\">\n",
       "      <th></th>\n",
       "      <th>drug</th>\n",
       "      <th>num_targets</th>\n",
       "      <th>num_terminal_targets</th>\n",
       "      <th>num_appearance</th>\n",
       "      <th>max_target_centrality</th>\n",
       "    </tr>\n",
       "  </thead>\n",
       "  <tbody>\n",
       "    <tr>\n",
       "      <th>1106</th>\n",
       "      <td>palbociclib</td>\n",
       "      <td>13</td>\n",
       "      <td>0</td>\n",
       "      <td>0.924</td>\n",
       "      <td>0.037187</td>\n",
       "    </tr>\n",
       "    <tr>\n",
       "      <th>952</th>\n",
       "      <td>mifepristone</td>\n",
       "      <td>10</td>\n",
       "      <td>0</td>\n",
       "      <td>0.634</td>\n",
       "      <td>0.040043</td>\n",
       "    </tr>\n",
       "    <tr>\n",
       "      <th>384</th>\n",
       "      <td>danazol</td>\n",
       "      <td>16</td>\n",
       "      <td>0</td>\n",
       "      <td>0.501</td>\n",
       "      <td>0.040043</td>\n",
       "    </tr>\n",
       "    <tr>\n",
       "      <th>495</th>\n",
       "      <td>econazole</td>\n",
       "      <td>41</td>\n",
       "      <td>0</td>\n",
       "      <td>0.439</td>\n",
       "      <td>0.002602</td>\n",
       "    </tr>\n",
       "    <tr>\n",
       "      <th>1405</th>\n",
       "      <td>tacrolimus</td>\n",
       "      <td>13</td>\n",
       "      <td>0</td>\n",
       "      <td>0.418</td>\n",
       "      <td>0.008884</td>\n",
       "    </tr>\n",
       "    <tr>\n",
       "      <th>463</th>\n",
       "      <td>dipyridamole</td>\n",
       "      <td>19</td>\n",
       "      <td>0</td>\n",
       "      <td>0.353</td>\n",
       "      <td>0.001460</td>\n",
       "    </tr>\n",
       "    <tr>\n",
       "      <th>232</th>\n",
       "      <td>caffeine</td>\n",
       "      <td>3</td>\n",
       "      <td>0</td>\n",
       "      <td>0.324</td>\n",
       "      <td>0.001713</td>\n",
       "    </tr>\n",
       "    <tr>\n",
       "      <th>170</th>\n",
       "      <td>bicalutamide</td>\n",
       "      <td>2</td>\n",
       "      <td>0</td>\n",
       "      <td>0.278</td>\n",
       "      <td>0.021005</td>\n",
       "    </tr>\n",
       "    <tr>\n",
       "      <th>1569</th>\n",
       "      <td>vemurafenib</td>\n",
       "      <td>4</td>\n",
       "      <td>0</td>\n",
       "      <td>0.246</td>\n",
       "      <td>0.011169</td>\n",
       "    </tr>\n",
       "    <tr>\n",
       "      <th>333</th>\n",
       "      <td>clofarabine</td>\n",
       "      <td>2</td>\n",
       "      <td>1</td>\n",
       "      <td>0.216</td>\n",
       "      <td>0.002031</td>\n",
       "    </tr>\n",
       "    <tr>\n",
       "      <th>746</th>\n",
       "      <td>iloprost</td>\n",
       "      <td>8</td>\n",
       "      <td>1</td>\n",
       "      <td>0.206</td>\n",
       "      <td>0.002158</td>\n",
       "    </tr>\n",
       "    <tr>\n",
       "      <th>1516</th>\n",
       "      <td>treprostinil</td>\n",
       "      <td>6</td>\n",
       "      <td>1</td>\n",
       "      <td>0.206</td>\n",
       "      <td>0.001523</td>\n",
       "    </tr>\n",
       "    <tr>\n",
       "      <th>1436</th>\n",
       "      <td>terconazole</td>\n",
       "      <td>17</td>\n",
       "      <td>0</td>\n",
       "      <td>0.198</td>\n",
       "      <td>0.001206</td>\n",
       "    </tr>\n",
       "    <tr>\n",
       "      <th>1356</th>\n",
       "      <td>sitagliptin</td>\n",
       "      <td>2</td>\n",
       "      <td>1</td>\n",
       "      <td>0.183</td>\n",
       "      <td>0.001904</td>\n",
       "    </tr>\n",
       "    <tr>\n",
       "      <th>1488</th>\n",
       "      <td>tolbutamide</td>\n",
       "      <td>2</td>\n",
       "      <td>0</td>\n",
       "      <td>0.180</td>\n",
       "      <td>0.000698</td>\n",
       "    </tr>\n",
       "    <tr>\n",
       "      <th>685</th>\n",
       "      <td>glimepiride</td>\n",
       "      <td>4</td>\n",
       "      <td>0</td>\n",
       "      <td>0.180</td>\n",
       "      <td>0.000698</td>\n",
       "    </tr>\n",
       "  </tbody>\n",
       "</table>\n",
       "</div>"
      ],
      "text/plain": [
       "              drug  num_targets  num_terminal_targets  num_appearance  \\\n",
       "1106   palbociclib           13                     0           0.924   \n",
       "952   mifepristone           10                     0           0.634   \n",
       "384        danazol           16                     0           0.501   \n",
       "495      econazole           41                     0           0.439   \n",
       "1405    tacrolimus           13                     0           0.418   \n",
       "463   dipyridamole           19                     0           0.353   \n",
       "232       caffeine            3                     0           0.324   \n",
       "170   bicalutamide            2                     0           0.278   \n",
       "1569   vemurafenib            4                     0           0.246   \n",
       "333    clofarabine            2                     1           0.216   \n",
       "746       iloprost            8                     1           0.206   \n",
       "1516  treprostinil            6                     1           0.206   \n",
       "1436   terconazole           17                     0           0.198   \n",
       "1356   sitagliptin            2                     1           0.183   \n",
       "1488   tolbutamide            2                     0           0.180   \n",
       "685    glimepiride            4                     0           0.180   \n",
       "\n",
       "      max_target_centrality  \n",
       "1106               0.037187  \n",
       "952                0.040043  \n",
       "384                0.040043  \n",
       "495                0.002602  \n",
       "1405               0.008884  \n",
       "463                0.001460  \n",
       "232                0.001713  \n",
       "170                0.021005  \n",
       "1569               0.011169  \n",
       "333                0.002031  \n",
       "746                0.002158  \n",
       "1516               0.001523  \n",
       "1436               0.001206  \n",
       "1356               0.001904  \n",
       "1488               0.000698  \n",
       "685                0.000698  "
      ]
     },
     "execution_count": 35,
     "metadata": {},
     "output_type": "execute_result"
    }
   ],
   "source": [
    "# Display table of non original drugs with frequency of appearance after randomization\n",
    "# in increasing order of frequency of appearance\n",
    "# This table provides information on the specificity of the original drug list. If a non original drug has high \n",
    "# frequency of appearance, it means that the fact that the original analysis did not select that drug is meaningful.\n",
    "# Otherwise, it does not provide more information than the fact that the givn drug is specific to a limited number of\n",
    "# terminal configurations\n",
    "non_original_drugs = pickle.load(open(\"../Save_RandomizeGeneLabels/non_original_drugs.pkl\", \"rb\"))\n",
    "non_original_drugs = non_original_drugs.sort_values(by='num_appearance', ascending=False, inplace=False)\n",
    "min_num_appearance_original_drugs = min(original_drugs['num_appearance'])\n",
    "non_original_drugs.loc[non_original_drugs['num_appearance'] >= min_num_appearance_original_drugs]"
   ]
  },
  {
   "cell_type": "code",
   "execution_count": 38,
   "metadata": {},
   "outputs": [
    {
     "data": {
      "image/png": "[encoded data removed]",
      "text/plain": [
       "<Figure size 432x288 with 1 Axes>"
      ]
     },
     "metadata": {
      "needs_background": "light"
     },
     "output_type": "display_data"
    }
   ],
   "source": [
    "# Plot frequency of appearance versus number of targets in PPI network\n",
    "plt.figure()\n",
    "plt.scatter(x=non_original_drugs['num_targets'], y=non_original_drugs['num_appearance'])\n",
    "plt.xlabel('number of targets in PPI network')\n",
    "plt.ylabel('Frequency of appearance')\n",
    "plt.show()"
   ]
  },
  {
   "cell_type": "code",
   "execution_count": 36,
   "metadata": {},
   "outputs": [
    {
     "name": "stdout",
     "output_type": "stream",
     "text": [
      "16\n",
      "0.009987515605493134\n"
     ]
    }
   ],
   "source": [
    "# Number of non selected drugs that appear at least as frequently as the least frequent selected drug \n",
    "print(len(non_original_drugs.loc[non_original_drugs['num_appearance'] >= min_num_appearance_original_drugs]))\n",
    "# Compute percentage of non selected drugs that appear at least as frequently as the least frequent selected drug\n",
    "print(len(non_original_drugs.loc[non_original_drugs['num_appearance'] >= min_num_appearance_original_drugs])/len(non_original_drugs))"
   ]
  },
  {
   "cell_type": "code",
   "execution_count": 37,
   "metadata": {},
   "outputs": [
    {
     "data": {
      "image/png": "[encoded data removed]",
      "text/plain": [
       "<Figure size 432x288 with 1 Axes>"
      ]
     },
     "metadata": {
      "needs_background": "light"
     },
     "output_type": "display_data"
    },
    {
     "data": {
      "text/plain": [
       "DescribeResult(nobs=15759, minmax=(6.345982992765579e-05, 0.6216524939713162), mean=0.0014658056940787115, variance=3.5573591503608185e-05, skewness=73.34915319443462, kurtosis=7441.827114495687)"
      ]
     },
     "execution_count": 37,
     "metadata": {},
     "output_type": "execute_result"
    }
   ],
   "source": [
    "# Plot distribution of degree centralities in the network\n",
    "plt.figure()\n",
    "plt.hist(centrality_dic.values(), bins=50)\n",
    "plt.yscale('log')\n",
    "plt.xlabel('degree centrality')\n",
    "plt.ylabel('count')\n",
    "plt.show()\n",
    "ss.describe(list(centrality_dic.values()))"
   ]
  },
  {
   "cell_type": "code",
   "execution_count": null,
   "metadata": {},
   "outputs": [],
   "source": []
  }
 ],
 "metadata": {
  "kernelspec": {
   "display_name": "Python 3",
   "language": "python",
   "name": "python3"
  },
  "language_info": {
   "codemirror_mode": {
    "name": "ipython",
    "version": 3
   },
   "file_extension": ".py",
   "mimetype": "text/x-python",
   "name": "python",
   "nbconvert_exporter": "python",
   "pygments_lexer": "ipython3",
   "version": "3.7.4"
  }
 },
 "nbformat": 4,
 "nbformat_minor": 2
}
