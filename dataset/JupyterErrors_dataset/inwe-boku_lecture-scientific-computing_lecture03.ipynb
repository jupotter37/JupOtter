{
 "cells": [
  {
   "cell_type": "markdown",
   "metadata": {},
   "source": [
    "# Review test\n"
   ]
  },
  {
   "cell_type": "markdown",
   "metadata": {},
   "source": [
    "## Review exercise 1"
   ]
  },
  {
   "cell_type": "markdown",
   "metadata": {},
   "source": [
    "menti.com 52 00 21"
   ]
  },
  {
   "cell_type": "markdown",
   "metadata": {},
   "source": [
    "## Review exercise 2"
   ]
  },
  {
   "cell_type": "markdown",
   "metadata": {},
   "source": [
    "menti.com 74 95 17"
   ]
  },
  {
   "cell_type": "markdown",
   "metadata": {},
   "source": [
    "## Review exercise 3"
   ]
  },
  {
   "cell_type": "code",
   "execution_count": 1,
   "metadata": {},
   "outputs": [],
   "source": [
    "def squared(x):\n",
    "    return x**2"
   ]
  },
  {
   "cell_type": "markdown",
   "metadata": {},
   "source": [
    "Write a function \n",
    "```python\n",
    "derivative(x, h, f)\n",
    "```\n",
    "which calculates the first numerical derivative of an arbitrary function $f(x)$. Use the formula $\\frac{f(x + h) -f(x - h)}{2 h}$.\n",
    "\n",
    "Note: in Python you can pass a function as an argument of another function!\n",
    "\n",
    "\n",
    "Test it using parameters $x = 4$, $h = 0.0001$ and the function \n",
    "```\n",
    "squared\n",
    "```\n",
    "defined above."
   ]
  },
  {
   "cell_type": "markdown",
   "metadata": {},
   "source": [
    "# Lecture 3 - continuing the introduction to Python"
   ]
  },
  {
   "cell_type": "markdown",
   "metadata": {},
   "source": [
    "## Data types in Python"
   ]
  },
  {
   "cell_type": "code",
   "execution_count": 2,
   "metadata": {},
   "outputs": [
    {
     "data": {
      "text/plain": [
       "int"
      ]
     },
     "execution_count": 2,
     "metadata": {},
     "output_type": "execute_result"
    }
   ],
   "source": [
    "type(1)"
   ]
  },
  {
   "cell_type": "code",
   "execution_count": 3,
   "metadata": {},
   "outputs": [
    {
     "data": {
      "text/plain": [
       "float"
      ]
     },
     "execution_count": 3,
     "metadata": {},
     "output_type": "execute_result"
    }
   ],
   "source": [
    "type(1.1)"
   ]
  },
  {
   "cell_type": "code",
   "execution_count": 4,
   "metadata": {},
   "outputs": [
    {
     "data": {
      "text/plain": [
       "complex"
      ]
     },
     "execution_count": 4,
     "metadata": {},
     "output_type": "execute_result"
    }
   ],
   "source": [
    "type(1 + 2j)"
   ]
  },
  {
   "cell_type": "code",
   "execution_count": 5,
   "metadata": {},
   "outputs": [
    {
     "data": {
      "text/plain": [
       "bool"
      ]
     },
     "execution_count": 5,
     "metadata": {},
     "output_type": "execute_result"
    }
   ],
   "source": [
    "type(True)"
   ]
  },
  {
   "cell_type": "code",
   "execution_count": 6,
   "metadata": {},
   "outputs": [
    {
     "data": {
      "text/plain": [
       "str"
      ]
     },
     "execution_count": 6,
     "metadata": {},
     "output_type": "execute_result"
    }
   ],
   "source": [
    "type(\"Hello World\")"
   ]
  },
  {
   "cell_type": "code",
   "execution_count": 7,
   "metadata": {},
   "outputs": [
    {
     "data": {
      "text/plain": [
       "int"
      ]
     },
     "execution_count": 7,
     "metadata": {},
     "output_type": "execute_result"
    }
   ],
   "source": [
    "a = 1\n",
    "type(a)"
   ]
  },
  {
   "cell_type": "code",
   "execution_count": 8,
   "metadata": {},
   "outputs": [
    {
     "data": {
      "text/plain": [
       "float"
      ]
     },
     "execution_count": 8,
     "metadata": {},
     "output_type": "execute_result"
    }
   ],
   "source": [
    "b = 1.1\n",
    "type(b)"
   ]
  },
  {
   "cell_type": "code",
   "execution_count": 9,
   "metadata": {},
   "outputs": [],
   "source": [
    "c = a + b"
   ]
  },
  {
   "cell_type": "markdown",
   "metadata": {},
   "source": [
    "What is the type of c?"
   ]
  },
  {
   "cell_type": "code",
   "execution_count": 10,
   "metadata": {},
   "outputs": [
    {
     "data": {
      "text/plain": [
       "float"
      ]
     },
     "execution_count": 10,
     "metadata": {},
     "output_type": "execute_result"
    }
   ],
   "source": [
    "type(c)"
   ]
  },
  {
   "cell_type": "code",
   "execution_count": 11,
   "metadata": {},
   "outputs": [
    {
     "data": {
      "text/plain": [
       "int"
      ]
     },
     "execution_count": 11,
     "metadata": {},
     "output_type": "execute_result"
    }
   ],
   "source": [
    "d = 2\n",
    "type(d)"
   ]
  },
  {
   "cell_type": "code",
   "execution_count": 12,
   "metadata": {},
   "outputs": [],
   "source": [
    "e = a + d"
   ]
  },
  {
   "cell_type": "markdown",
   "metadata": {},
   "source": [
    "What is the type of e?"
   ]
  },
  {
   "cell_type": "code",
   "execution_count": 13,
   "metadata": {},
   "outputs": [
    {
     "data": {
      "text/plain": [
       "int"
      ]
     },
     "execution_count": 13,
     "metadata": {},
     "output_type": "execute_result"
    }
   ],
   "source": [
    "type(e)"
   ]
  },
  {
   "cell_type": "code",
   "execution_count": 14,
   "metadata": {},
   "outputs": [],
   "source": [
    "f = a / d"
   ]
  },
  {
   "cell_type": "markdown",
   "metadata": {},
   "source": [
    "_Warning: Python 2 behaves differently here, but Python 2 is not relevant anylonger (unsupported since 1.1.2020)._"
   ]
  },
  {
   "cell_type": "markdown",
   "metadata": {},
   "source": [
    "What is the type of f?"
   ]
  },
  {
   "cell_type": "code",
   "execution_count": 15,
   "metadata": {},
   "outputs": [
    {
     "data": {
      "text/plain": [
       "float"
      ]
     },
     "execution_count": 15,
     "metadata": {},
     "output_type": "execute_result"
    }
   ],
   "source": [
    "type(f)"
   ]
  },
  {
   "cell_type": "markdown",
   "metadata": {},
   "source": [
    "#### Hints\n"
   ]
  },
  {
   "cell_type": "markdown",
   "metadata": {},
   "source": [
    "##### Integer overflows\n",
    "Integer variables cannot overflow in Python, i.e. you can have an arbitrarily high Integer number. This is different to other programming languages such as C, where the size of an Integer number is fixed. If you do not know, what any of this means, it will be explained later when talking about numpy as numpy integers can overflow."
   ]
  },
  {
   "cell_type": "markdown",
   "metadata": {},
   "source": [
    "##### Floating point precision\n",
    "\n",
    "Floating point numbers have limited precision (53 bits or 16 digits). A number can become arbitrarily high, but it has limited precisions. This is due to how internally, floating points are stored in memory. More details on [wikipedia](https://en.wikipedia.org/wiki/Floating-point_arithmetic) and a tutorial can be found [here](http://cstl-csm.semo.edu/xzhang/Class%20Folder/CS280/Workbook_HTML/FLOATING_tut.htm)\n",
    "\n",
    "![Floating point precision](https://upload.wikimedia.org/wikipedia/commons/9/98/A_number_line_representing_single-precision_floating_point%27s_numbers_and_numbers_that_it_cannot_display.png)\n",
    "Attribution: Joeleoj123 / CC BY-SA (https://creativecommons.org/licenses/by-sa/4.0)"
   ]
  },
  {
   "cell_type": "markdown",
   "metadata": {},
   "source": [
    "Why is this relevant?"
   ]
  },
  {
   "cell_type": "code",
   "execution_count": 16,
   "metadata": {},
   "outputs": [
    {
     "data": {
      "text/plain": [
       "1000000000000.1"
      ]
     },
     "execution_count": 16,
     "metadata": {},
     "output_type": "execute_result"
    }
   ],
   "source": [
    "a_large_number = 10**12 + 0.1\n",
    "\n",
    "a_large_number"
   ]
  },
  {
   "cell_type": "code",
   "execution_count": 17,
   "metadata": {},
   "outputs": [
    {
     "data": {
      "text/plain": [
       "1000000000000.1"
      ]
     },
     "execution_count": 17,
     "metadata": {},
     "output_type": "execute_result"
    }
   ],
   "source": [
    "a_small_number = 0.0000001\n",
    "\n",
    "many_times = 10000000\n",
    "\n",
    "for i in range(0, many_times):\n",
    "    a_large_number = a_large_number + a_small_number\n",
    "\n",
    "    \n",
    "a_large_number"
   ]
  },
  {
   "cell_type": "code",
   "execution_count": 18,
   "metadata": {},
   "outputs": [
    {
     "data": {
      "text/plain": [
       "1000000000001.1"
      ]
     },
     "execution_count": 18,
     "metadata": {},
     "output_type": "execute_result"
    }
   ],
   "source": [
    "a_large_number = a_large_number + many_times * a_small_number\n",
    "\n",
    "a_large_number"
   ]
  },
  {
   "cell_type": "markdown",
   "metadata": {},
   "source": [
    "Whaaaaaaaaat?\n",
    "\n",
    "Well - limited precisions.\n",
    "```python\n",
    "a_large_number + a_small_number\n",
    "```\n",
    "\n",
    "is, due to limited precision, calculated to be\n",
    "```python\n",
    "a_large_number + a_small_number\n",
    "```\n"
   ]
  },
  {
   "cell_type": "markdown",
   "metadata": {},
   "source": [
    "### String operations"
   ]
  },
  {
   "cell_type": "markdown",
   "metadata": {},
   "source": [
    "String is text. A new string is simply started by enclosing text in \""
   ]
  },
  {
   "cell_type": "code",
   "execution_count": 19,
   "metadata": {},
   "outputs": [
    {
     "data": {
      "text/plain": [
       "'This is a string'"
      ]
     },
     "execution_count": 19,
     "metadata": {},
     "output_type": "execute_result"
    }
   ],
   "source": [
    "'This is a string'"
   ]
  },
  {
   "cell_type": "markdown",
   "metadata": {},
   "source": [
    "Double quotes \" and single  quotes ' are equivalent Python, there is no syntactic difference. [A very popular convention](https://stackoverflow.com/a/56190/859591) is to use single quotes for constants and double quotes for human readable text or sentances. A different popular convention is to use only [only double quotes](https://black.readthedocs.io/en/stable/the_black_code_style.html#strings)."
   ]
  },
  {
   "cell_type": "code",
   "execution_count": 20,
   "metadata": {},
   "outputs": [
    {
     "data": {
      "text/plain": [
       "'The value of x is 7'"
      ]
     },
     "execution_count": 20,
     "metadata": {},
     "output_type": "execute_result"
    }
   ],
   "source": [
    "x = 7\n",
    "\n",
    "f'The value of x is {x}'"
   ]
  },
  {
   "cell_type": "code",
   "execution_count": 21,
   "metadata": {},
   "outputs": [
    {
     "data": {
      "text/plain": [
       "'The value of y is 7'"
      ]
     },
     "execution_count": 21,
     "metadata": {},
     "output_type": "execute_result"
    }
   ],
   "source": [
    "import math\n",
    "\n",
    "y = 6.589309493\n",
    "\n",
    "f'The value of y is {round(y)}'"
   ]
  },
  {
   "cell_type": "code",
   "execution_count": 22,
   "metadata": {},
   "outputs": [
    {
     "data": {
      "text/plain": [
       "'line1line2line3'"
      ]
     },
     "execution_count": 22,
     "metadata": {},
     "output_type": "execute_result"
    }
   ],
   "source": [
    "a_lot_of_text = (\n",
    "    'line1'\n",
    "    'line2'\n",
    "    'line3')\n",
    "\n",
    "a_lot_of_text"
   ]
  },
  {
   "cell_type": "markdown",
   "metadata": {},
   "source": [
    "But..."
   ]
  },
  {
   "cell_type": "code",
   "execution_count": 23,
   "metadata": {},
   "outputs": [
    {
     "data": {
      "text/plain": [
       "'\\n    line1\\n    line2\\n    line3'"
      ]
     },
     "execution_count": 23,
     "metadata": {},
     "output_type": "execute_result"
    }
   ],
   "source": [
    "a_lot_of_text = \"\"\"\n",
    "    line1\n",
    "    line2\n",
    "    line3\"\"\"\n",
    "\n",
    "a_lot_of_text"
   ]
  },
  {
   "cell_type": "markdown",
   "metadata": {},
   "source": [
    "Why is there a \\n?"
   ]
  },
  {
   "cell_type": "markdown",
   "metadata": {},
   "source": [
    "#### Exercise 1\n",
    "\n",
    "Write code which shows the following text 'PI is <...>'. Substitute <...> by the value of PI. Hint: \n",
    "```Python\n",
    "math.pi\n",
    "```\n",
    "returns pi "
   ]
  },
  {
   "cell_type": "markdown",
   "metadata": {},
   "source": [
    "## Multiple assignments and return values"
   ]
  },
  {
   "cell_type": "code",
   "execution_count": 24,
   "metadata": {},
   "outputs": [],
   "source": [
    "a, b = 1, 2"
   ]
  },
  {
   "cell_type": "code",
   "execution_count": 25,
   "metadata": {},
   "outputs": [
    {
     "data": {
      "text/plain": [
       "1"
      ]
     },
     "execution_count": 25,
     "metadata": {},
     "output_type": "execute_result"
    }
   ],
   "source": [
    "a"
   ]
  },
  {
   "cell_type": "code",
   "execution_count": 26,
   "metadata": {},
   "outputs": [
    {
     "data": {
      "text/plain": [
       "2"
      ]
     },
     "execution_count": 26,
     "metadata": {},
     "output_type": "execute_result"
    }
   ],
   "source": [
    "b"
   ]
  },
  {
   "cell_type": "markdown",
   "metadata": {},
   "source": [
    "#### Functions with multiple return values\n"
   ]
  },
  {
   "cell_type": "code",
   "execution_count": 27,
   "metadata": {},
   "outputs": [],
   "source": [
    "import math\n",
    "\n",
    "def calculate_growth_doubling_time(value_t1, value_t2, time_diff):\n",
    "    growth_rate = (value_t2 / value_t1)**(1 / time_diff) - 1\n",
    "    \n",
    "    doubling_time = math.log(2) / math.log(growth_rate + 1)\n",
    "    \n",
    "    return growth_rate, doubling_time"
   ]
  },
  {
   "cell_type": "code",
   "execution_count": 28,
   "metadata": {},
   "outputs": [
    {
     "name": "stdout",
     "output_type": "stream",
     "text": [
      "0.19999999999999996\n",
      "3.8017840169239308\n"
     ]
    }
   ],
   "source": [
    "growth_rate, doubling_time = calculate_growth_doubling_time(1, 1.2, 1)\n",
    "\n",
    "print(growth_rate)\n",
    "print(doubling_time)"
   ]
  },
  {
   "cell_type": "markdown",
   "metadata": {},
   "source": [
    "#### Exercise 2\n",
    "\n",
    "Write a function that calculates the growth_rate, the doubling time, and the relative growth_rate given by $\\frac{\\textrm{value_t2} - \\textrm{value_t1}}{\\textrm{value_t1}}$. Use the upper function calculate_growth_doubling_time for that purpose. Return all three values. The function should be called \n",
    "\n",
    "```python\n",
    "growth_parameters(value_t1, value_t2, time_diff)\n",
    "```"
   ]
  },
  {
   "cell_type": "markdown",
   "metadata": {},
   "source": [
    "## Some basic data structures in Python"
   ]
  },
  {
   "cell_type": "markdown",
   "metadata": {},
   "source": [
    "### Lists\n"
   ]
  },
  {
   "cell_type": "code",
   "execution_count": 29,
   "metadata": {},
   "outputs": [],
   "source": [
    "l = [1, 2, 3]"
   ]
  },
  {
   "cell_type": "code",
   "execution_count": 30,
   "metadata": {},
   "outputs": [
    {
     "data": {
      "text/plain": [
       "[1, 2, 3]"
      ]
     },
     "execution_count": 30,
     "metadata": {},
     "output_type": "execute_result"
    }
   ],
   "source": [
    "l"
   ]
  },
  {
   "cell_type": "code",
   "execution_count": 31,
   "metadata": {},
   "outputs": [
    {
     "data": {
      "text/plain": [
       "2"
      ]
     },
     "execution_count": 31,
     "metadata": {},
     "output_type": "execute_result"
    }
   ],
   "source": [
    "l[1]"
   ]
  },
  {
   "cell_type": "markdown",
   "metadata": {},
   "source": [
    "Important: different to R, an index in Python starts with 0, not with 1. So the first element of a list is 0!"
   ]
  },
  {
   "cell_type": "code",
   "execution_count": 32,
   "metadata": {},
   "outputs": [
    {
     "data": {
      "text/plain": [
       "1"
      ]
     },
     "execution_count": 32,
     "metadata": {},
     "output_type": "execute_result"
    }
   ],
   "source": [
    "l[0]"
   ]
  },
  {
   "cell_type": "markdown",
   "metadata": {},
   "source": [
    "What will happen here?"
   ]
  },
  {
   "cell_type": "code",
   "execution_count": 33,
   "metadata": {},
   "outputs": [
    {
     "ename": "IndexError",
     "evalue": "list index out of range",
     "output_type": "error",
     "traceback": [
      "\u001b[0;31m---------------------------------------------------------------------------\u001b[0m",
      "\u001b[0;31mIndexError\u001b[0m                                Traceback (most recent call last)",
      "\u001b[0;32m<ipython-input-33-bb49eeb9f0db>\u001b[0m in \u001b[0;36m<module>\u001b[0;34m\u001b[0m\n\u001b[0;32m----> 1\u001b[0;31m \u001b[0ml\u001b[0m\u001b[0;34m[\u001b[0m\u001b[0;36m3\u001b[0m\u001b[0;34m]\u001b[0m\u001b[0;34m\u001b[0m\u001b[0;34m\u001b[0m\u001b[0m\n\u001b[0m",
      "\u001b[0;31mIndexError\u001b[0m: list index out of range"
     ]
    }
   ],
   "source": [
    "l[3]"
   ]
  },
  {
   "cell_type": "code",
   "execution_count": 34,
   "metadata": {},
   "outputs": [
    {
     "data": {
      "text/plain": [
       "[1, 2]"
      ]
     },
     "execution_count": 34,
     "metadata": {},
     "output_type": "execute_result"
    }
   ],
   "source": [
    "l[0:2]"
   ]
  },
  {
   "cell_type": "code",
   "execution_count": 35,
   "metadata": {},
   "outputs": [],
   "source": [
    "l = [1, 2, 3, 4, 5, 6]"
   ]
  },
  {
   "cell_type": "code",
   "execution_count": 36,
   "metadata": {},
   "outputs": [
    {
     "data": {
      "text/plain": [
       "[2, 3, 4, 5]"
      ]
     },
     "execution_count": 36,
     "metadata": {},
     "output_type": "execute_result"
    }
   ],
   "source": [
    "l[1:5]"
   ]
  },
  {
   "cell_type": "code",
   "execution_count": 37,
   "metadata": {},
   "outputs": [
    {
     "data": {
      "text/plain": [
       "6"
      ]
     },
     "execution_count": 37,
     "metadata": {},
     "output_type": "execute_result"
    }
   ],
   "source": [
    "len(l)"
   ]
  },
  {
   "cell_type": "markdown",
   "metadata": {},
   "source": [
    "#### Exercise 3\n",
    "\n",
    "Write a function named \n",
    "```python\n",
    "list_info(l)\n",
    "```\n",
    "that takes a list and returns the length of the list, the first element and the last element. Test the code with the list\n",
    "\n",
    "```python\n",
    "[7, 14, 21, 43]\n",
    "```\n",
    "\n"
   ]
  },
  {
   "cell_type": "markdown",
   "metadata": {},
   "source": [
    "#### Operators on lists"
   ]
  },
  {
   "cell_type": "code",
   "execution_count": 38,
   "metadata": {},
   "outputs": [
    {
     "data": {
      "text/plain": [
       "[1, 2, 1, 2]"
      ]
     },
     "execution_count": 38,
     "metadata": {},
     "output_type": "execute_result"
    }
   ],
   "source": [
    "[1, 2] * 2"
   ]
  },
  {
   "cell_type": "code",
   "execution_count": 39,
   "metadata": {},
   "outputs": [
    {
     "data": {
      "text/plain": [
       "[1, 2, 2]"
      ]
     },
     "execution_count": 39,
     "metadata": {},
     "output_type": "execute_result"
    }
   ],
   "source": [
    "[1, 2] + [2]"
   ]
  },
  {
   "cell_type": "code",
   "execution_count": 40,
   "metadata": {},
   "outputs": [
    {
     "ename": "TypeError",
     "evalue": "can only concatenate list (not \"int\") to list",
     "output_type": "error",
     "traceback": [
      "\u001b[0;31m---------------------------------------------------------------------------\u001b[0m",
      "\u001b[0;31mTypeError\u001b[0m                                 Traceback (most recent call last)",
      "\u001b[0;32m<ipython-input-40-33075c4f01e1>\u001b[0m in \u001b[0;36m<module>\u001b[0;34m\u001b[0m\n\u001b[0;32m----> 1\u001b[0;31m \u001b[0;34m[\u001b[0m\u001b[0;36m1\u001b[0m\u001b[0;34m,\u001b[0m \u001b[0;36m2\u001b[0m\u001b[0;34m]\u001b[0m \u001b[0;34m+\u001b[0m \u001b[0;36m2\u001b[0m\u001b[0;34m\u001b[0m\u001b[0;34m\u001b[0m\u001b[0m\n\u001b[0m",
      "\u001b[0;31mTypeError\u001b[0m: can only concatenate list (not \"int\") to list"
     ]
    }
   ],
   "source": [
    "[1, 2] + 2"
   ]
  },
  {
   "cell_type": "markdown",
   "metadata": {},
   "source": [
    "## Control structures: loops\n",
    "\n",
    "Loops allow to repeat things. We will see that they become obsolete in many cases, when working with the scientific packages in Python (such as numpy), but we still introduce them."
   ]
  },
  {
   "cell_type": "code",
   "execution_count": 42,
   "metadata": {},
   "outputs": [
    {
     "name": "stdout",
     "output_type": "stream",
     "text": [
      "0\n",
      "1\n",
      "2\n"
     ]
    }
   ],
   "source": [
    "for x in range(3):\n",
    "    print(x)"
   ]
  },
  {
   "cell_type": "code",
   "execution_count": 43,
   "metadata": {},
   "outputs": [
    {
     "name": "stdout",
     "output_type": "stream",
     "text": [
      "17\n",
      "18\n"
     ]
    }
   ],
   "source": [
    "for x in range(17, 19):\n",
    "    print(x)"
   ]
  },
  {
   "cell_type": "markdown",
   "metadata": {},
   "source": [
    "What will happen here?"
   ]
  },
  {
   "cell_type": "code",
   "execution_count": 44,
   "metadata": {},
   "outputs": [],
   "source": [
    "for x in range(19, 17):\n",
    "    print(x)"
   ]
  },
  {
   "cell_type": "code",
   "execution_count": 45,
   "metadata": {},
   "outputs": [
    {
     "name": "stdout",
     "output_type": "stream",
     "text": [
      "1\n",
      "2\n",
      "3\n"
     ]
    }
   ],
   "source": [
    "l = [1, 2, 3]\n",
    "\n",
    "for v in l:\n",
    "    print(v)"
   ]
  },
  {
   "cell_type": "code",
   "execution_count": 46,
   "metadata": {},
   "outputs": [
    {
     "name": "stdout",
     "output_type": "stream",
     "text": [
      "1\n",
      "2\n",
      "3\n"
     ]
    }
   ],
   "source": [
    "# other programing languages do it like this, in Python you never need this!\n",
    "for k in range(0, len(l)):\n",
    "    print(l[k])"
   ]
  },
  {
   "cell_type": "markdown",
   "metadata": {},
   "source": [
    "#### Pro: this may become important - if you do not understand it now, don't worry.\n",
    "\n",
    "Lists are passed by reference - whatever you do to a list in function, will also affect the list outside of the function. Watch!"
   ]
  },
  {
   "cell_type": "code",
   "execution_count": 47,
   "metadata": {},
   "outputs": [],
   "source": [
    "def change_list(l):\n",
    "    l1 = l  \n",
    "    l1[0] = 43\n",
    "    \n",
    "    return l1"
   ]
  },
  {
   "cell_type": "code",
   "execution_count": 48,
   "metadata": {},
   "outputs": [
    {
     "name": "stdout",
     "output_type": "stream",
     "text": [
      "[43, 2, 3]\n",
      "[43, 2, 3]\n"
     ]
    }
   ],
   "source": [
    "l = [1, 2, 3]\n",
    "result = change_list(l)\n",
    "print(l)\n",
    "print(result)"
   ]
  },
  {
   "cell_type": "code",
   "execution_count": 49,
   "metadata": {},
   "outputs": [],
   "source": [
    "def do_not_change_list(l):\n",
    "    l1 = l.copy()\n",
    "    l1[0] = 43\n",
    "    \n",
    "    return l1"
   ]
  },
  {
   "cell_type": "code",
   "execution_count": 50,
   "metadata": {},
   "outputs": [
    {
     "name": "stdout",
     "output_type": "stream",
     "text": [
      "[1, 2, 3]\n",
      "[43, 2, 3]\n"
     ]
    }
   ],
   "source": [
    "l = [1, 2, 3]\n",
    "result = do_not_change_list(l)\n",
    "print(l)\n",
    "print(result)"
   ]
  },
  {
   "cell_type": "markdown",
   "metadata": {},
   "source": [
    "### List comprehensions\n",
    "\n",
    "To work with lists and for loops is not very Pythonic. In many cases list comprehensions are much more convenient:"
   ]
  },
  {
   "cell_type": "code",
   "execution_count": 51,
   "metadata": {},
   "outputs": [
    {
     "data": {
      "text/plain": [
       "[0.0, 1.0, 2.0]"
      ]
     },
     "execution_count": 51,
     "metadata": {},
     "output_type": "execute_result"
    }
   ],
   "source": [
    "l = [1, 10, 100]\n",
    "\n",
    "# Take log10 of all list elements:\n",
    "[math.log(i, 10) for i in l]"
   ]
  },
  {
   "cell_type": "markdown",
   "metadata": {},
   "source": [
    "#### Exercise 4\n",
    "\n",
    "Write a function \n",
    "\n",
    "```python\n",
    "log10_list(l)\n",
    "```\n",
    "\n",
    "which calculates the logarithmus with basis 10 of all elements in that list and returns the resulting list. Test it on the list\n",
    "\n",
    "```python\n",
    "l = [1, 10, 100, 1000]\n",
    "```\n",
    "\n",
    "Print \n",
    "\n",
    "```python\n",
    "l\n",
    "```\n",
    "\n",
    "before and after calling your function."
   ]
  },
  {
   "cell_type": "markdown",
   "metadata": {},
   "source": [
    "## Reading data\n",
    "\n",
    "We will read data from disk. This is just to make things more interesting. Do not worry about the details now."
   ]
  },
  {
   "cell_type": "code",
   "execution_count": 52,
   "metadata": {},
   "outputs": [
    {
     "data": {
      "text/plain": [
       "[['Date', 'Infected'],\n",
       " ['2020-03-04T17:00:00Z', '29'],\n",
       " ['2020-03-05T14:00:00Z', '41'],\n",
       " ['2020-03-06T14:00:00Z', '55'],\n",
       " ['2020-03-07T14:00:00Z', '79'],\n",
       " ['2020-03-08T10:45:00Z', '99'],\n",
       " ['2020-03-09T14:00:00Z', '131'],\n",
       " ['2020-03-10T14:00:00Z', '182'],\n",
       " ['2020-03-11T14:00:00Z', '246'],\n",
       " ['2020-03-12T14:00:00Z', '361'],\n",
       " ['2020-03-13T14:00:00Z', '504'],\n",
       " ['2020-03-14T14:00:00Z', '655'],\n",
       " ['2020-03-15T14:00:00Z', '860'],\n",
       " ['2020-03-16T14:00:00Z', '1016'],\n",
       " ['2020-03-17T14:00:00Z', '1332'],\n",
       " ['2020-03-18T14:00:00Z', '1646'],\n",
       " ['2020-03-19T13:30:00Z', '2013'],\n",
       " ['2020-03-20T14:00:00Z', '2388'],\n",
       " ['2020-03-21T14:00:00Z', '2814'],\n",
       " ['2020-03-22T14:00:00Z', '3244'],\n",
       " ['2020-03-23T14:00:00Z', '3924'],\n",
       " ['2020-03-24T14:00:00Z', '4876'],\n",
       " ['2020-03-25T14:00:00Z', '5560'],\n",
       " ['2020-03-26T14:00:00Z', '6398'],\n",
       " ['2020-03-27T14:00:00Z', '7399'],\n",
       " ['2020-03-29T13:00:00Z', '8536'],\n",
       " ['2020-03-30T13:00:00Z', '9377'],\n",
       " ['2020-03-31T13:00:00Z', '9974'],\n",
       " ['2020-04-01T13:00:00Z', '10482']]"
      ]
     },
     "execution_count": 52,
     "metadata": {},
     "output_type": "execute_result"
    }
   ],
   "source": [
    "import csv\n",
    "\n",
    "with open('austria_covid_19_data.csv', 'r') as read_obj:\n",
    "    # pass the file object to reader() to get the reader object\n",
    "    csv_reader = csv.reader(read_obj)\n",
    "    # Pass reader object to list() to get a list of lists\n",
    "    list_of_rows = list(csv_reader)\n",
    "    \n",
    "    \n",
    "list_of_rows"
   ]
  },
  {
   "cell_type": "code",
   "execution_count": 53,
   "metadata": {},
   "outputs": [
    {
     "data": {
      "text/plain": [
       "['Infected',\n",
       " '29',\n",
       " '41',\n",
       " '55',\n",
       " '79',\n",
       " '99',\n",
       " '131',\n",
       " '182',\n",
       " '246',\n",
       " '361',\n",
       " '504',\n",
       " '655',\n",
       " '860',\n",
       " '1016',\n",
       " '1332',\n",
       " '1646',\n",
       " '2013',\n",
       " '2388',\n",
       " '2814',\n",
       " '3244',\n",
       " '3924',\n",
       " '4876',\n",
       " '5560',\n",
       " '6398',\n",
       " '7399',\n",
       " '8536',\n",
       " '9377',\n",
       " '9974',\n",
       " '10482']"
      ]
     },
     "execution_count": 53,
     "metadata": {},
     "output_type": "execute_result"
    }
   ],
   "source": [
    "### get second column\n",
    "infected_cases = [i[1] for i in list_of_rows]\n",
    "\n",
    "infected_cases"
   ]
  },
  {
   "cell_type": "code",
   "execution_count": 54,
   "metadata": {},
   "outputs": [
    {
     "data": {
      "text/plain": [
       "['29',\n",
       " '41',\n",
       " '55',\n",
       " '79',\n",
       " '99',\n",
       " '131',\n",
       " '182',\n",
       " '246',\n",
       " '361',\n",
       " '504',\n",
       " '655',\n",
       " '860',\n",
       " '1016',\n",
       " '1332',\n",
       " '1646',\n",
       " '2013',\n",
       " '2388',\n",
       " '2814',\n",
       " '3244',\n",
       " '3924',\n",
       " '4876',\n",
       " '5560',\n",
       " '6398',\n",
       " '7399',\n",
       " '8536',\n",
       " '9377',\n",
       " '9974',\n",
       " '10482']"
      ]
     },
     "execution_count": 54,
     "metadata": {},
     "output_type": "execute_result"
    }
   ],
   "source": [
    "### remove first line, as it contains header\n",
    "infected_cases = infected_cases[1:]\n",
    "\n",
    "infected_cases"
   ]
  },
  {
   "cell_type": "code",
   "execution_count": 55,
   "metadata": {},
   "outputs": [
    {
     "data": {
      "text/plain": [
       "[29,\n",
       " 41,\n",
       " 55,\n",
       " 79,\n",
       " 99,\n",
       " 131,\n",
       " 182,\n",
       " 246,\n",
       " 361,\n",
       " 504,\n",
       " 655,\n",
       " 860,\n",
       " 1016,\n",
       " 1332,\n",
       " 1646,\n",
       " 2013,\n",
       " 2388,\n",
       " 2814,\n",
       " 3244,\n",
       " 3924,\n",
       " 4876,\n",
       " 5560,\n",
       " 6398,\n",
       " 7399,\n",
       " 8536,\n",
       " 9377,\n",
       " 9974,\n",
       " 10482]"
      ]
     },
     "execution_count": 55,
     "metadata": {},
     "output_type": "execute_result"
    }
   ],
   "source": [
    "### convert to integer, as it is string\n",
    "infected_cases = [int(i) for i in infected_cases]\n",
    "\n",
    "infected_cases"
   ]
  },
  {
   "cell_type": "markdown",
   "metadata": {},
   "source": [
    "## Plotting data with matplotlib"
   ]
  },
  {
   "cell_type": "code",
   "execution_count": 56,
   "metadata": {},
   "outputs": [
    {
     "data": {
      "image/png": "[encoded data removed]",
      "text/plain": [
       "<Figure size 432x288 with 1 Axes>"
      ]
     },
     "metadata": {
      "needs_background": "light"
     },
     "output_type": "display_data"
    }
   ],
   "source": [
    "import math\n",
    "\n",
    "import matplotlib.pyplot as plt\n",
    "\n",
    "plt.plot(infected_cases, label = 'infections')\n",
    "plt.plot([math.log(i, 10) for i in infected_cases], label = 'log(infections)')\n",
    "plt.plot([infected_cases[0] * 1.28**i for i in range(len(infected_cases))], label = 'exponential with growth rate 28%')\n",
    "\n",
    "plt.xlabel('Time')\n",
    "plt.ylabel('Infections')\n",
    "\n",
    "plt.title('Infections')\n",
    "\n",
    "plt.legend()\n",
    "plt.show()"
   ]
  },
  {
   "cell_type": "code",
   "execution_count": 57,
   "metadata": {},
   "outputs": [
    {
     "data": {
      "image/png": "[encoded data removed]",
      "text/plain": [
       "<Figure size 432x288 with 1 Axes>"
      ]
     },
     "metadata": {
      "needs_background": "light"
     },
     "output_type": "display_data"
    }
   ],
   "source": [
    "import matplotlib.pyplot as plt\n",
    "import math\n",
    "\n",
    "plt.plot([math.log(i, 10) for i in infected_cases], label = 'log(infections)')\n",
    "\n",
    "plt.xlabel('Time')\n",
    "plt.ylabel('log(infections)')\n",
    "\n",
    "plt.title('Log(infections)')\n",
    "\n",
    "plt.legend()\n",
    "plt.show()"
   ]
  },
  {
   "cell_type": "markdown",
   "metadata": {},
   "source": [
    "#### Exercise 5\n",
    "\n",
    "Calculate the daily growth rate for all time steps and the doubling time for all time steps and plot both in one extra figure, i.e. one figure showing the growth rate, the other one showing the doubling time. For that purpose you can use the function\n",
    "\n",
    "```\n",
    "calculate_growth_doubling_time(value_t1, value_t2, time_diff)\n",
    "```\n",
    "\n",
    "defined above.\n",
    "\n",
    "Note: A very Pythonic way to achieve this involes zusing `zip()` and parameter unpacking using `*`. This a bit beyond scope of this excercise, a non-Pythonic way is perfectly fine for now. "
   ]
  },
  {
   "cell_type": "markdown",
   "metadata": {},
   "source": [
    "#### Exercise 6\n",
    "\n",
    "Write a function which calculates the growth rate and doubling time for all time steps, i.e. similar to the code in Exercise 5. The function is defined as\n",
    "\n",
    "```\n",
    "growth_rate_doubling_time(l, interval)\n",
    "```\n",
    "\n",
    "Interval defines how many days are between the start and the end value (i.e. value_t1 and value_t2 in calculate_growth_doubling_time). Test the function by applying it to the infection data with an interval time of 7 and plotting the growth rate and the doubling time.\n",
    "\n"
   ]
  }
 ],
 "metadata": {
  "kernelspec": {
   "display_name": "Python 3",
   "language": "python",
   "name": "python3"
  },
  "language_info": {
   "codemirror_mode": {
    "name": "ipython",
    "version": 3
   },
   "file_extension": ".py",
   "mimetype": "text/x-python",
   "name": "python",
   "nbconvert_exporter": "python",
   "pygments_lexer": "ipython3",
   "version": "3.7.7"
  }
 },
 "nbformat": 4,
 "nbformat_minor": 4
}
