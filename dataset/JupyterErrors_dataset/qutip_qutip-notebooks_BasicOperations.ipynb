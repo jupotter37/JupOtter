{
 "cells": [
  {
   "cell_type": "markdown",
   "metadata": {},
   "source": [
    "#Basic Operations on Quantum Objects\n",
    "\n",
    "###Contents\n",
    "- [First Things First](#first)\n",
    "- [The Qobj Class](#qobj)\n",
    "- [Functions Acting on the Qobj Class](#functions)"
   ]
  },
  {
   "cell_type": "markdown",
   "metadata": {},
   "source": [
    "<a id='first'></a>"
   ]
  },
  {
   "cell_type": "markdown",
   "metadata": {},
   "source": [
    "## First Things First\n",
    "<br>\n",
    "<div class=\"warn\">\n",
    "**Warning**: Do not run QuTiP from the installation directory.\n",
    "</div>\n",
    "\n",
    "In order to load the QuTiP library we must first call the import statement:"
   ]
  },
  {
   "cell_type": "code",
   "execution_count": 13,
   "metadata": {
    "collapsed": true
   },
   "outputs": [],
   "source": [
    "from qutip import *"
   ]
  },
  {
   "cell_type": "markdown",
   "metadata": {},
   "source": [
    "In addition, it is often necessary to load addition mathematical functions and plotting features from the NumPy and Matplotlib libraries, respectively:"
   ]
  },
  {
   "cell_type": "code",
   "execution_count": 15,
   "metadata": {
    "collapsed": true
   },
   "outputs": [],
   "source": [
    "import numpy as np\n",
    "import pylab as plt"
   ]
  },
  {
   "cell_type": "markdown",
   "metadata": {},
   "source": [
    "Here we have imported the Numpy package as \"np\" so that the functions included in this module can be called using the `np.func()` syntax.  In addition, the plotting functions from Pylab can be called via e.g. `plt.plot()`.\n",
    "\n",
    "It is important to note that if we choose to import all of the functions directly from the modules using\n",
    "```python\n",
    "from numpy import *\n",
    "from pylab import *\n",
    "```\n",
    "then the order in which we import QuTiP and these additional libraries is important.  In general, if using this import style, you must import QuTiP **last**:\n",
    "\n",
    "```python\n",
    "from numpy import *\n",
    "from pylab import *\n",
    "from qutip import *\n",
    "```"
   ]
  },
  {
   "cell_type": "markdown",
   "metadata": {},
   "source": [
    "<a id='qobj'></a>"
   ]
  },
  {
   "cell_type": "markdown",
   "metadata": {},
   "source": [
    "##The Quantum Object Class\n",
    "\n",
    "###Introduction\n",
    "The key difference between classical and quantum mechanics lies in the use of operators instead of numbers as variables. Moreover, we need to specify state vectors and their properties. Therefore, in computing the dynamics of quantum systems we need a data structure that is capable of encapsulating the properties of a quantum operator and ket/bra vectors. The quantum object class, ``Qobj``, accomplishes this using a sparse matrix representation.\n",
    "\n",
    "To begin, let us create a blank ``Qobj``:"
   ]
  },
  {
   "cell_type": "code",
   "execution_count": 16,
   "metadata": {
    "collapsed": false
   },
   "outputs": [
    {
     "data": {
      "text/latex": [
       "Quantum object: dims = [[1], [1]], shape = [1, 1], type = oper, isherm = True\\begin{equation*}\\left(\\begin{array}{*{11}c}0.0\\\\\\end{array}\\right)\\end{equation*}"
      ],
      "text/plain": [
       "Quantum object: dims = [[1], [1]], shape = [1, 1], type = oper, isherm = True\n",
       "Qobj data =\n",
       "[[ 0.]]"
      ]
     },
     "execution_count": 16,
     "metadata": {},
     "output_type": "execute_result"
    }
   ],
   "source": [
    "Qobj()"
   ]
  },
  {
   "cell_type": "markdown",
   "metadata": {},
   "source": [
    "where we see the blank ``Qobj`` object with dimensions, shape, and data. Here the data corresponds to a 1x1-dimensional sparse matrix consisting of a single zero entry. "
   ]
  },
  {
   "cell_type": "markdown",
   "metadata": {},
   "source": [
    "<div class=\"info\">\n",
    "**Hint**: By convention, Class objects in Python such as ``Qobj()`` differ from functions in the use of a beginning capital letter.\n",
    "</div>\n",
    "\n",
    "We can create a ``Qobj`` with a user defined data set by passing a list or array of data into the ``Qobj``:"
   ]
  },
  {
   "cell_type": "code",
   "execution_count": 22,
   "metadata": {
    "collapsed": false
   },
   "outputs": [
    {
     "data": {
      "text/latex": [
       "Quantum object: dims = [[1], [5]], shape = [1, 5], type = bra\\begin{equation*}\\left(\\begin{array}{*{11}c}1.0 & 2.0 & 3.0 & 4.0 & 5.0\\\\\\end{array}\\right)\\end{equation*}"
      ],
      "text/plain": [
       "Quantum object: dims = [[1], [5]], shape = [1, 5], type = bra\n",
       "Qobj data =\n",
       "[[ 1.  2.  3.  4.  5.]]"
      ]
     },
     "execution_count": 22,
     "metadata": {},
     "output_type": "execute_result"
    }
   ],
   "source": [
    "x = np.array([[1, 2, 3, 4, 5]])\n",
    "Qobj(x)"
   ]
  },
  {
   "cell_type": "code",
   "execution_count": 23,
   "metadata": {
    "collapsed": false
   },
   "outputs": [
    {
     "data": {
      "text/latex": [
       "Quantum object: dims = [[4], [4]], shape = [4, 4], type = oper, isherm = False\\begin{equation*}\\left(\\begin{array}{*{11}c}0.608 & 0.125 & 0.985 & 0.867\\\\0.450 & 0.957 & 0.770 & 0.077\\\\0.079 & 0.740 & 0.749 & 0.806\\\\0.506 & 0.441 & 0.156 & 0.049\\\\\\end{array}\\right)\\end{equation*}"
      ],
      "text/plain": [
       "Quantum object: dims = [[4], [4]], shape = [4, 4], type = oper, isherm = False\n",
       "Qobj data =\n",
       "[[ 0.60770407  0.12497888  0.9854267   0.86655998]\n",
       " [ 0.45037026  0.95719325  0.77046957  0.07683816]\n",
       " [ 0.07916973  0.7402108   0.74914042  0.80612293]\n",
       " [ 0.50564147  0.44107239  0.15614676  0.04891502]]"
      ]
     },
     "execution_count": 23,
     "metadata": {},
     "output_type": "execute_result"
    }
   ],
   "source": [
    "r = np.random.rand(4, 4)\n",
    "Qobj(r)"
   ]
  },
  {
   "cell_type": "markdown",
   "metadata": {},
   "source": [
    "Notice how both the dims and shape change according to the input data.  Although dims and shape appear to have the same function, the difference will become quite clear in the section on tensor products and partial traces.\n",
    "\n",
    "<div class=\"info\">\n",
    "**Hint**: If you are running QuTiP from a python script you must use the `print` function to view the Qobj attributes.\n",
    "</div>"
   ]
  },
  {
   "cell_type": "markdown",
   "metadata": {},
   "source": [
    "##States and Operators\n",
    "\n",
    "Manually specifying the data for each quantum object is inefficient. Even more so when most objects correspond to commonly used types such as the ladder operators of a harmonic oscillator, the Pauli spin operators for a two-level system, or state vectors such as Fock states. Therefore, QuTiP includes predefined objects for a variety of states:\n",
    "\n",
    "<table>\n",
    "  <tr>\n",
    "    <th>States</th>\n",
    "    <th>Command (# = optional)</th>\n",
    "    <th>Inputs</th>\n",
    "  </tr>\n",
    "  <tr>\n",
    "    <td>Fock State</td>\n",
    "    <td>`basis(N, #m)` or `fock(N, #m)`</td>\n",
    "    <td>N = # of levels in Hilbert space, m = level containing excitation (0 if m not given).</td>\n",
    "  </tr>\n",
    "  <tr>\n",
    "    <td>Fock State Density Matrix</td>\n",
    "    <td>`fock_dm(N, #m)`</td>\n",
    "    <td>Same as above.</td>\n",
    "  </tr>\n",
    "  <tr>\n",
    "    <td>Coherent State</td>\n",
    "    <td>`coherent(N, alpha)`</td>\n",
    "    <td>alpha = complex number (eigenvalue) defining coherent state.</td>\n",
    "  </tr>\n",
    "  <tr>\n",
    "    <td>Coherent State Density Matrix</td>\n",
    "    <td>`coherent_dm(N, alpha)`</td>\n",
    "    <td>Same as above.</td>\n",
    "  </tr>\n",
    "  <tr>\n",
    "    <td>Thermal State Density Matrix</td>\n",
    "    <td>`thermal_dm(N, n)`</td>\n",
    "    <td>n = particle number expectation value.</td>\n",
    "  </tr>\n",
    "</table>\n",
    "\n",
    "and operators:\n",
    "\n",
    "<table>\n",
    "  <tr>\n",
    "    <th>Operator</th>\n",
    "    <th>Command (# = optional)</th>\n",
    "    <th>Inputs</th>\n",
    "  </tr>\n",
    "  <tr>\n",
    "    <td>Identity</td>\n",
    "    <td>`qeye(N)` or `identity(N)`</td>\n",
    "    <td>N = # of levels in Hilbert space.</td>\n",
    "  </tr>\n",
    "  <tr>\n",
    "    <td>Lowering (destruction) Operator</td>\n",
    "    <td>`destroy(N)`</td>\n",
    "    <td></td>\n",
    "  </tr>\n",
    "  <tr>\n",
    "    <td>Raising (creation) Operator</td>\n",
    "    <td>`create(N)`</td>\n",
    "    <td></td>\n",
    "  </tr>\n",
    "  <tr>\n",
    "    <td>Number Operator</td>\n",
    "    <td>`num(N)`</td>\n",
    "    <td></td>\n",
    "  </tr>\n",
    "  <tr>\n",
    "    <td>Single-Mode Displacement Operator</td>\n",
    "    <td>`displace(N, alpha)`</td>\n",
    "    <td>alpha = Complex displacement amplitude.</td>\n",
    "  </tr>\n",
    "  <tr>\n",
    "    <td>Single-Mode Squeezing Operator</td>\n",
    "    <td>`squeeze(N, sp)`</td>\n",
    "    <td>sp = Squeezing parameter.</td>\n",
    "  </tr>\n",
    "  <tr>\n",
    "    <td>Pauli Pauli X-Operator (sigma-x)</td>\n",
    "    <td>`sigmax()`</td>\n",
    "    <td></td>\n",
    "  </tr>\n",
    "  <tr>\n",
    "    <td>Pauli Spin Y-Operator (sigma-y)</td>\n",
    "    <td>`sigmay()`</td>\n",
    "    <td></td>\n",
    "  </tr>\n",
    "  <tr>\n",
    "    <td>Pauli Spin Z-Operator (sigma-z)</td>\n",
    "    <td>`sigmaz()`</td>\n",
    "    <td></td>\n",
    "  </tr>\n",
    "  <tr>\n",
    "    <td>Spin Raising Operator (sigma-plus)</td>\n",
    "    <td>`sigmap()`</td>\n",
    "    <td></td>\n",
    "  </tr>\n",
    "  <tr>\n",
    "    <td>Spin Lowering Operator (sigma-minus)</td>\n",
    "    <td>`sigmam()`</td>\n",
    "    <td><br></td>\n",
    "  </tr>\n",
    "  <tr>\n",
    "    <td>Higher-Spin Operators</td>\n",
    "    <td>`jmat(j, #s)`</td>\n",
    "    <td>j = int or half-int representing spin. s= 'x', 'y', 'z', '+', or '-'.</td>\n",
    "  </tr>\n",
    "</table>\n",
    "\n",
    "\n",
    "As an example, we give the output for a few of these functions:"
   ]
  },
  {
   "cell_type": "code",
   "execution_count": 24,
   "metadata": {
    "collapsed": false
   },
   "outputs": [
    {
     "data": {
      "text/latex": [
       "Quantum object: dims = [[5], [1]], shape = [5, 1], type = ket\\begin{equation*}\\left(\\begin{array}{*{11}c}0.0\\\\0.0\\\\0.0\\\\1.0\\\\0.0\\\\\\end{array}\\right)\\end{equation*}"
      ],
      "text/plain": [
       "Quantum object: dims = [[5], [1]], shape = [5, 1], type = ket\n",
       "Qobj data =\n",
       "[[ 0.]\n",
       " [ 0.]\n",
       " [ 0.]\n",
       " [ 1.]\n",
       " [ 0.]]"
      ]
     },
     "execution_count": 24,
     "metadata": {},
     "output_type": "execute_result"
    }
   ],
   "source": [
    "basis(5,3)"
   ]
  },
  {
   "cell_type": "code",
   "execution_count": 25,
   "metadata": {
    "collapsed": false
   },
   "outputs": [
    {
     "data": {
      "text/latex": [
       "Quantum object: dims = [[5], [1]], shape = [5, 1], type = ket\\begin{equation*}\\left(\\begin{array}{*{11}c}0.779\\\\(0.389-0.389j)\\\\-0.275j\\\\(-0.079-0.079j)\\\\-0.043\\\\\\end{array}\\right)\\end{equation*}"
      ],
      "text/plain": [
       "Quantum object: dims = [[5], [1]], shape = [5, 1], type = ket\n",
       "Qobj data =\n",
       "[[ 0.77880170+0.j        ]\n",
       " [ 0.38939142-0.38939142j]\n",
       " [ 0.00000000-0.27545895j]\n",
       " [-0.07898617-0.07898617j]\n",
       " [-0.04314271+0.j        ]]"
      ]
     },
     "execution_count": 25,
     "metadata": {},
     "output_type": "execute_result"
    }
   ],
   "source": [
    "coherent(5,0.5-0.5j)"
   ]
  },
  {
   "cell_type": "code",
   "execution_count": 26,
   "metadata": {
    "collapsed": false
   },
   "outputs": [
    {
     "data": {
      "text/latex": [
       "Quantum object: dims = [[4], [4]], shape = [4, 4], type = oper, isherm = False\\begin{equation*}\\left(\\begin{array}{*{11}c}0.0 & 1.0 & 0.0 & 0.0\\\\0.0 & 0.0 & 1.414 & 0.0\\\\0.0 & 0.0 & 0.0 & 1.732\\\\0.0 & 0.0 & 0.0 & 0.0\\\\\\end{array}\\right)\\end{equation*}"
      ],
      "text/plain": [
       "Quantum object: dims = [[4], [4]], shape = [4, 4], type = oper, isherm = False\n",
       "Qobj data =\n",
       "[[ 0.          1.          0.          0.        ]\n",
       " [ 0.          0.          1.41421356  0.        ]\n",
       " [ 0.          0.          0.          1.73205081]\n",
       " [ 0.          0.          0.          0.        ]]"
      ]
     },
     "execution_count": 26,
     "metadata": {},
     "output_type": "execute_result"
    }
   ],
   "source": [
    " destroy(4)"
   ]
  },
  {
   "cell_type": "code",
   "execution_count": 27,
   "metadata": {
    "collapsed": false
   },
   "outputs": [
    {
     "data": {
      "text/latex": [
       "Quantum object: dims = [[2], [2]], shape = [2, 2], type = oper, isherm = True\\begin{equation*}\\left(\\begin{array}{*{11}c}1.0 & 0.0\\\\0.0 & -1.0\\\\\\end{array}\\right)\\end{equation*}"
      ],
      "text/plain": [
       "Quantum object: dims = [[2], [2]], shape = [2, 2], type = oper, isherm = True\n",
       "Qobj data =\n",
       "[[ 1.  0.]\n",
       " [ 0. -1.]]"
      ]
     },
     "execution_count": 27,
     "metadata": {},
     "output_type": "execute_result"
    }
   ],
   "source": [
    "sigmaz()"
   ]
  },
  {
   "cell_type": "code",
   "execution_count": 28,
   "metadata": {
    "collapsed": false
   },
   "outputs": [
    {
     "data": {
      "text/latex": [
       "Quantum object: dims = [[6], [6]], shape = [6, 6], type = oper, isherm = False\\begin{equation*}\\left(\\begin{array}{*{11}c}0.0 & 2.236 & 0.0 & 0.0 & 0.0 & 0.0\\\\0.0 & 0.0 & 2.828 & 0.0 & 0.0 & 0.0\\\\0.0 & 0.0 & 0.0 & 3.0 & 0.0 & 0.0\\\\0.0 & 0.0 & 0.0 & 0.0 & 2.828 & 0.0\\\\0.0 & 0.0 & 0.0 & 0.0 & 0.0 & 2.236\\\\0.0 & 0.0 & 0.0 & 0.0 & 0.0 & 0.0\\\\\\end{array}\\right)\\end{equation*}"
      ],
      "text/plain": [
       "Quantum object: dims = [[6], [6]], shape = [6, 6], type = oper, isherm = False\n",
       "Qobj data =\n",
       "[[ 0.          2.23606798  0.          0.          0.          0.        ]\n",
       " [ 0.          0.          2.82842712  0.          0.          0.        ]\n",
       " [ 0.          0.          0.          3.          0.          0.        ]\n",
       " [ 0.          0.          0.          0.          2.82842712  0.        ]\n",
       " [ 0.          0.          0.          0.          0.          2.23606798]\n",
       " [ 0.          0.          0.          0.          0.          0.        ]]"
      ]
     },
     "execution_count": 28,
     "metadata": {},
     "output_type": "execute_result"
    }
   ],
   "source": [
    "jmat(5/2.0,'+')"
   ]
  },
  {
   "cell_type": "markdown",
   "metadata": {},
   "source": [
    "###Qobj Attributes\n",
    "\n",
    "We have seen that a quantum object has several internal attributes, such as data, dims, and shape.  These can be accessed in the following way:"
   ]
  },
  {
   "cell_type": "code",
   "execution_count": 30,
   "metadata": {
    "collapsed": false
   },
   "outputs": [
    {
     "data": {
      "text/plain": [
       "[[4], [4]]"
      ]
     },
     "execution_count": 30,
     "metadata": {},
     "output_type": "execute_result"
    }
   ],
   "source": [
    "q = destroy(4)\n",
    "q.dims"
   ]
  },
  {
   "cell_type": "code",
   "execution_count": 31,
   "metadata": {
    "collapsed": false
   },
   "outputs": [
    {
     "data": {
      "text/plain": [
       "[4, 4]"
      ]
     },
     "execution_count": 31,
     "metadata": {},
     "output_type": "execute_result"
    }
   ],
   "source": [
    "q.shape "
   ]
  },
  {
   "cell_type": "markdown",
   "metadata": {},
   "source": [
    "In general, the attributes (properties) of a `Qobj` object (or any Python class) can be retrieved using the `Q.attribute` notation.  In addition to the attributes shown with the `print` function, the `Qobj` class also has the following:\n",
    "\n",
    "<table>\n",
    "  <tr>\n",
    "    <th>Property</th>\n",
    "    <th>Attribute</th>\n",
    "    <th>Description</th>\n",
    "  </tr>\n",
    "  <tr>\n",
    "    <td>Data</td>\n",
    "    <td>Q.data</td>\n",
    "    <td>Sparse matrix representing quantum state or operator.</td>\n",
    "  </tr>\n",
    "  <tr>\n",
    "    <td>Dimensions</td>\n",
    "    <td>Q.dims</td>\n",
    "    <td>List keeping track of shapes for individual components of a multipartite system (for tensor products and partial traces).</td>\n",
    "  </tr>\n",
    "  <tr>\n",
    "    <td>Shape</td>\n",
    "    <td>Q.shape</td>\n",
    "    <td>Dimensions of underlying data matrix.</td>\n",
    "  </tr>\n",
    "  <tr>\n",
    "    <td>is Hermitian?</td>\n",
    "    <td>Q.isherm</td>\n",
    "    <td>Is operator Hermitian or not?</td>\n",
    "  </tr>\n",
    "  <tr>\n",
    "    <td>Type</td>\n",
    "    <td>Q.type</td>\n",
    "    <td></td>\n",
    "  </tr>\n",
    "</table>\n",
    "\n",
    "<center>\n",
    "<img src='images/BasicOperations/quide-basics-qobj-box.png'>\n",
    "<p>The `Qobj` class viwed as a container for the properties needed to characterize a quantum operator or state vector.</p>\n",
    "</center>"
   ]
  },
  {
   "cell_type": "markdown",
   "metadata": {},
   "source": [
    "For the destruction operator above:"
   ]
  },
  {
   "cell_type": "code",
   "execution_count": 32,
   "metadata": {
    "collapsed": false
   },
   "outputs": [
    {
     "data": {
      "text/plain": [
       "'oper'"
      ]
     },
     "execution_count": 32,
     "metadata": {},
     "output_type": "execute_result"
    }
   ],
   "source": [
    "q.type"
   ]
  },
  {
   "cell_type": "code",
   "execution_count": 33,
   "metadata": {
    "collapsed": false
   },
   "outputs": [
    {
     "data": {
      "text/plain": [
       "False"
      ]
     },
     "execution_count": 33,
     "metadata": {},
     "output_type": "execute_result"
    }
   ],
   "source": [
    "q.isherm"
   ]
  },
  {
   "cell_type": "code",
   "execution_count": 34,
   "metadata": {
    "collapsed": false
   },
   "outputs": [
    {
     "data": {
      "text/plain": [
       "<4x4 sparse matrix of type '<class 'numpy.complex128'>'\n",
       "\twith 3 stored elements in Compressed Sparse Row format>"
      ]
     },
     "execution_count": 34,
     "metadata": {},
     "output_type": "execute_result"
    }
   ],
   "source": [
    " q.data"
   ]
  },
  {
   "cell_type": "markdown",
   "metadata": {},
   "source": [
    "The data attribute returns a message stating that the data is a sparse matrix. All `Qobj` instances store their data as a sparse matrix to save memory. To access the underlying dense matrix one needs to use the `Q.full()` function as described below."
   ]
  },
  {
   "cell_type": "markdown",
   "metadata": {},
   "source": [
    "###Qobj Math\n",
    "\n",
    "The rules for mathematical operations on ``Qobj`` instances are similar to standard matrix arithmetic:"
   ]
  },
  {
   "cell_type": "code",
   "execution_count": 36,
   "metadata": {
    "collapsed": false
   },
   "outputs": [
    {
     "data": {
      "text/latex": [
       "Quantum object: dims = [[4], [4]], shape = [4, 4], type = oper, isherm = False\\begin{equation*}\\left(\\begin{array}{*{11}c}5.0 & 1.0 & 0.0 & 0.0\\\\0.0 & 5.0 & 1.414 & 0.0\\\\0.0 & 0.0 & 5.0 & 1.732\\\\0.0 & 0.0 & 0.0 & 5.0\\\\\\end{array}\\right)\\end{equation*}"
      ],
      "text/plain": [
       "Quantum object: dims = [[4], [4]], shape = [4, 4], type = oper, isherm = False\n",
       "Qobj data =\n",
       "[[ 5.          1.          0.          0.        ]\n",
       " [ 0.          5.          1.41421356  0.        ]\n",
       " [ 0.          0.          5.          1.73205081]\n",
       " [ 0.          0.          0.          5.        ]]"
      ]
     },
     "execution_count": 36,
     "metadata": {},
     "output_type": "execute_result"
    }
   ],
   "source": [
    "q = destroy(4)\n",
    "x = sigmax()\n",
    "q + 5"
   ]
  },
  {
   "cell_type": "code",
   "execution_count": 37,
   "metadata": {
    "collapsed": false
   },
   "outputs": [
    {
     "data": {
      "text/latex": [
       "Quantum object: dims = [[2], [2]], shape = [2, 2], type = oper, isherm = True\\begin{equation*}\\left(\\begin{array}{*{11}c}1.0 & 0.0\\\\0.0 & 1.0\\\\\\end{array}\\right)\\end{equation*}"
      ],
      "text/plain": [
       "Quantum object: dims = [[2], [2]], shape = [2, 2], type = oper, isherm = True\n",
       "Qobj data =\n",
       "[[ 1.  0.]\n",
       " [ 0.  1.]]"
      ]
     },
     "execution_count": 37,
     "metadata": {},
     "output_type": "execute_result"
    }
   ],
   "source": [
    "x * x"
   ]
  },
  {
   "cell_type": "code",
   "execution_count": 38,
   "metadata": {
    "collapsed": false
   },
   "outputs": [
    {
     "data": {
      "text/latex": [
       "Quantum object: dims = [[4], [4]], shape = [4, 4], type = oper, isherm = False\\begin{equation*}\\left(\\begin{array}{*{11}c}0.0 & 0.0 & 0.0 & 2.449\\\\0.0 & 0.0 & 0.0 & 0.0\\\\0.0 & 0.0 & 0.0 & 0.0\\\\0.0 & 0.0 & 0.0 & 0.0\\\\\\end{array}\\right)\\end{equation*}"
      ],
      "text/plain": [
       "Quantum object: dims = [[4], [4]], shape = [4, 4], type = oper, isherm = False\n",
       "Qobj data =\n",
       "[[ 0.          0.          0.          2.44948974]\n",
       " [ 0.          0.          0.          0.        ]\n",
       " [ 0.          0.          0.          0.        ]\n",
       " [ 0.          0.          0.          0.        ]]"
      ]
     },
     "execution_count": 38,
     "metadata": {},
     "output_type": "execute_result"
    }
   ],
   "source": [
    "q ** 3 "
   ]
  },
  {
   "cell_type": "code",
   "execution_count": 39,
   "metadata": {
    "collapsed": false
   },
   "outputs": [
    {
     "data": {
      "text/latex": [
       "Quantum object: dims = [[2], [2]], shape = [2, 2], type = oper, isherm = True\\begin{equation*}\\left(\\begin{array}{*{11}c}0.0 & 0.707\\\\0.707 & 0.0\\\\\\end{array}\\right)\\end{equation*}"
      ],
      "text/plain": [
       "Quantum object: dims = [[2], [2]], shape = [2, 2], type = oper, isherm = True\n",
       "Qobj data =\n",
       "[[ 0.          0.70710678]\n",
       " [ 0.70710678  0.        ]]"
      ]
     },
     "execution_count": 39,
     "metadata": {},
     "output_type": "execute_result"
    }
   ],
   "source": [
    "x / np.sqrt(2)"
   ]
  },
  {
   "cell_type": "markdown",
   "metadata": {},
   "source": [
    "Of course, like matrices, multiplying two objects of incompatible shape throws an error:"
   ]
  },
  {
   "cell_type": "code",
   "execution_count": 40,
   "metadata": {
    "collapsed": false
   },
   "outputs": [
    {
     "ename": "TypeError",
     "evalue": "Incompatible Qobj shapes",
     "output_type": "error",
     "traceback": [
      "\u001b[0;31m---------------------------------------------------------------------------\u001b[0m",
      "\u001b[0;31mTypeError\u001b[0m                                 Traceback (most recent call last)",
      "\u001b[0;32m<ipython-input-40-c5138e004127>\u001b[0m in \u001b[0;36m<module>\u001b[0;34m()\u001b[0m\n\u001b[0;32m----> 1\u001b[0;31m \u001b[0mq\u001b[0m \u001b[0;34m*\u001b[0m \u001b[0mx\u001b[0m\u001b[0;34m\u001b[0m\u001b[0m\n\u001b[0m",
      "\u001b[0;32m/opt/local/Library/Frameworks/Python.framework/Versions/3.4/lib/python3.4/site-packages/qutip-3.2.0.dev_0ba1b6a-py3.4-macosx-10.10-x86_64.egg/qutip/qobj.py\u001b[0m in \u001b[0;36m__mul__\u001b[0;34m(self, other)\u001b[0m\n\u001b[1;32m    451\u001b[0m \u001b[0;34m\u001b[0m\u001b[0m\n\u001b[1;32m    452\u001b[0m             \u001b[0;32melse\u001b[0m\u001b[0;34m:\u001b[0m\u001b[0;34m\u001b[0m\u001b[0m\n\u001b[0;32m--> 453\u001b[0;31m                 \u001b[0;32mraise\u001b[0m \u001b[0mTypeError\u001b[0m\u001b[0;34m(\u001b[0m\u001b[0;34m\"Incompatible Qobj shapes\"\u001b[0m\u001b[0;34m)\u001b[0m\u001b[0;34m\u001b[0m\u001b[0m\n\u001b[0m\u001b[1;32m    454\u001b[0m \u001b[0;34m\u001b[0m\u001b[0m\n\u001b[1;32m    455\u001b[0m         \u001b[0;32melif\u001b[0m \u001b[0misinstance\u001b[0m\u001b[0;34m(\u001b[0m\u001b[0mother\u001b[0m\u001b[0;34m,\u001b[0m \u001b[0;34m(\u001b[0m\u001b[0mlist\u001b[0m\u001b[0;34m,\u001b[0m \u001b[0mnp\u001b[0m\u001b[0;34m.\u001b[0m\u001b[0mndarray\u001b[0m\u001b[0;34m)\u001b[0m\u001b[0;34m)\u001b[0m\u001b[0;34m:\u001b[0m\u001b[0;34m\u001b[0m\u001b[0m\n",
      "\u001b[0;31mTypeError\u001b[0m: Incompatible Qobj shapes"
     ]
    }
   ],
   "source": [
    "q * x"
   ]
  },
  {
   "cell_type": "markdown",
   "metadata": {},
   "source": [
    "In addition, the logic operators is equal `==` and is not equal `!=` are also supported."
   ]
  },
  {
   "cell_type": "markdown",
   "metadata": {},
   "source": [
    "<a id='functions'></a>"
   ]
  },
  {
   "cell_type": "markdown",
   "metadata": {},
   "source": [
    "##Functions Acting on the Qobj Class\n",
    "\n",
    "Like attributes, the quantum object class has defined functions (methods) that operate on ``Qobj`` class instances. For a general quantum object ``Q``:\n",
    "\n",
    "<table>\n",
    "  <tr>\n",
    "    <th>Function</th>\n",
    "    <th>Command</th>\n",
    "    <th>Description</th>\n",
    "  </tr>\n",
    "  <tr>\n",
    "    <td>Hermicity Check</td>\n",
    "    <td>`Q.check_herm()`</td>\n",
    "    <td>Check if Qobj is Hermitian.</td>\n",
    "  </tr>\n",
    "  <tr>\n",
    "    <td>Conjugate</td>\n",
    "    <td>`Q.conj()`</td>\n",
    "    <td>Conjugate of Qobj.</td>\n",
    "  </tr>\n",
    "  <tr>\n",
    "    <td>Dagger (adjoint)</td>\n",
    "    <td>`Q.dag()`</td>\n",
    "    <td>Adjoint of Qobj.</td>\n",
    "  </tr>\n",
    "  <tr>\n",
    "    <td>Diagonal</td>\n",
    "    <td>`Q.diag()`</td>\n",
    "    <td>Returns array of diagonal elements.</td>\n",
    "  </tr>\n",
    "  <tr>\n",
    "    <td>Eigenenergies</td>\n",
    "    <td>`Q.eigenenergies()`</td>\n",
    "    <td>Eigenenergies (values) of a Qobj.</td>\n",
    "  </tr>\n",
    "  <tr>\n",
    "    <td>Eliminate States</td>\n",
    "    <td>`Q.eliminate_states(inds)`</td>\n",
    "    <td>Qobj with states is list 'inds' removed.</td>\n",
    "  </tr>\n",
    "  <tr>\n",
    "    <td>Exponential</td>\n",
    "    <td>`Q.expm()`</td>\n",
    "    <td>Matrix exponential of Qobj.</td>\n",
    "  </tr>\n",
    "  <tr>\n",
    "    <td>Extract States</td>\n",
    "    <td>`Q.extract_states(inds)`</td>\n",
    "    <td>Qobj with only states listed in 'inds'.</td>\n",
    "  </tr>\n",
    "  <tr>\n",
    "    <td>Full</td>\n",
    "    <td>`Q.full()`</td>\n",
    "    <td>Returns full (dense) array of Qobj data.</td>\n",
    "  </tr>\n",
    "  <tr>\n",
    "    <td>Groundstate</td>\n",
    "    <td>`Q.groundstate()`</td>\n",
    "    <td>Eigenvalue &amp; vector of Qobj ground state.</td>\n",
    "  </tr>\n",
    "  <tr>\n",
    "    <td>Matrix Element</td>\n",
    "    <td>`Q.matrix_element(bra,ket)`</td>\n",
    "    <td>Matrix element &lt;bra|Q|ket&gt;.</td>\n",
    "  </tr>\n",
    "  <tr>\n",
    "    <td>Norm</td>\n",
    "    <td>`Q.norm()`</td>\n",
    "    <td>Returns L2-norm for states and trace norm for operators.</td>\n",
    "  </tr>\n",
    "  <tr>\n",
    "    <td>Overlap</td>\n",
    "    <td>`Q.overlap(state)`</td>\n",
    "    <td>Overlap between Qobj and a given state.</td>\n",
    "  </tr>\n",
    "  <tr>\n",
    "    <td>Partial Trace</td>\n",
    "    <td>`Q.ptrace(sel)`</td>\n",
    "    <td>Partial trace returning components selected using 'sel'.</td>\n",
    "  </tr>\n",
    "  <tr>\n",
    "    <td>Permute</td>\n",
    "    <td>`Q.permute(order)`</td>\n",
    "    <td>Permutes tensor structure of Qobj in a given order.</td>\n",
    "  </tr>\n",
    "  <tr>\n",
    "    <td>Sqrt</td>\n",
    "    <td>`Q.sqrt()`</td>\n",
    "    <td>Matrix sqrt of Qobj,</td>\n",
    "  </tr>\n",
    "  <tr>\n",
    "    <td>Tidyup</td>\n",
    "    <td>`Q.tidyup()`</td>\n",
    "    <td>Removes small elements from Qobj.</td>\n",
    "  </tr>\n",
    "  <tr>\n",
    "    <td>Trace</td>\n",
    "    <td>`Q.trace()`</td>\n",
    "    <td>Trace of Qobj.</td>\n",
    "  </tr>\n",
    "  <tr>\n",
    "    <td>Transform</td>\n",
    "    <td>`Q.transform(inpt)`</td>\n",
    "    <td>Basis transformation defined by matrix or list of kets given by 'inpt'.</td>\n",
    "  </tr>\n",
    "  <tr>\n",
    "    <td>Transpose</td>\n",
    "    <td>`Q.transpose()`</td>\n",
    "    <td>Transpose of Qobj.</td>\n",
    "  </tr>\n",
    "  <tr>\n",
    "    <td>Unit</td>\n",
    "    <td>`Q.unit()`</td>\n",
    "    <td>Returns normalized Qobj.</td>\n",
    "  </tr>\n",
    "</table>"
   ]
  },
  {
   "cell_type": "code",
   "execution_count": 41,
   "metadata": {
    "collapsed": false
   },
   "outputs": [
    {
     "data": {
      "text/latex": [
       "Quantum object: dims = [[5], [1]], shape = [5, 1], type = ket\\begin{equation*}\\left(\\begin{array}{*{11}c}0.0\\\\0.0\\\\0.0\\\\1.0\\\\0.0\\\\\\end{array}\\right)\\end{equation*}"
      ],
      "text/plain": [
       "Quantum object: dims = [[5], [1]], shape = [5, 1], type = ket\n",
       "Qobj data =\n",
       "[[ 0.]\n",
       " [ 0.]\n",
       " [ 0.]\n",
       " [ 1.]\n",
       " [ 0.]]"
      ]
     },
     "execution_count": 41,
     "metadata": {},
     "output_type": "execute_result"
    }
   ],
   "source": [
    "basis(5, 3)"
   ]
  },
  {
   "cell_type": "code",
   "execution_count": 42,
   "metadata": {
    "collapsed": false
   },
   "outputs": [
    {
     "data": {
      "text/latex": [
       "Quantum object: dims = [[1], [5]], shape = [1, 5], type = bra\\begin{equation*}\\left(\\begin{array}{*{11}c}0.0 & 0.0 & 0.0 & 1.0 & 0.0\\\\\\end{array}\\right)\\end{equation*}"
      ],
      "text/plain": [
       "Quantum object: dims = [[1], [5]], shape = [1, 5], type = bra\n",
       "Qobj data =\n",
       "[[ 0.  0.  0.  1.  0.]]"
      ]
     },
     "execution_count": 42,
     "metadata": {},
     "output_type": "execute_result"
    }
   ],
   "source": [
    "basis(5, 3).dag()"
   ]
  },
  {
   "cell_type": "code",
   "execution_count": 43,
   "metadata": {
    "collapsed": false
   },
   "outputs": [
    {
     "data": {
      "text/latex": [
       "Quantum object: dims = [[5], [5]], shape = [5, 5], type = oper, isherm = True\\begin{equation*}\\left(\\begin{array}{*{11}c}0.368 & 0.368 & 0.261 & 0.146 & 0.088\\\\0.368 & 0.368 & 0.261 & 0.146 & 0.088\\\\0.261 & 0.261 & 0.185 & 0.104 & 0.063\\\\0.146 & 0.146 & 0.104 & 0.058 & 0.035\\\\0.088 & 0.088 & 0.063 & 0.035 & 0.021\\\\\\end{array}\\right)\\end{equation*}"
      ],
      "text/plain": [
       "Quantum object: dims = [[5], [5]], shape = [5, 5], type = oper, isherm = True\n",
       "Qobj data =\n",
       "[[ 0.36791117  0.36774407  0.26105441  0.14620658  0.08826704]\n",
       " [ 0.36774407  0.36757705  0.26093584  0.14614018  0.08822695]\n",
       " [ 0.26105441  0.26093584  0.18523331  0.10374209  0.06263061]\n",
       " [ 0.14620658  0.14614018  0.10374209  0.05810197  0.035077  ]\n",
       " [ 0.08826704  0.08822695  0.06263061  0.035077    0.0211765 ]]"
      ]
     },
     "execution_count": 43,
     "metadata": {},
     "output_type": "execute_result"
    }
   ],
   "source": [
    "coherent_dm(5, 1)"
   ]
  },
  {
   "cell_type": "code",
   "execution_count": 44,
   "metadata": {
    "collapsed": false
   },
   "outputs": [
    {
     "data": {
      "text/plain": [
       "array([ 0.36791117,  0.36757705,  0.18523331,  0.05810197,  0.0211765 ])"
      ]
     },
     "execution_count": 44,
     "metadata": {},
     "output_type": "execute_result"
    }
   ],
   "source": [
    "coherent_dm(5, 1).diag()"
   ]
  },
  {
   "cell_type": "code",
   "execution_count": 45,
   "metadata": {
    "collapsed": false
   },
   "outputs": [
    {
     "data": {
      "text/plain": [
       "array([[ 0.36791117+0.j,  0.36774407+0.j,  0.26105441+0.j,  0.14620658+0.j,\n",
       "         0.08826704+0.j],\n",
       "       [ 0.36774407+0.j,  0.36757705+0.j,  0.26093584+0.j,  0.14614018+0.j,\n",
       "         0.08822695+0.j],\n",
       "       [ 0.26105441+0.j,  0.26093584+0.j,  0.18523331+0.j,  0.10374209+0.j,\n",
       "         0.06263061+0.j],\n",
       "       [ 0.14620658+0.j,  0.14614018+0.j,  0.10374209+0.j,  0.05810197+0.j,\n",
       "         0.03507700+0.j],\n",
       "       [ 0.08826704+0.j,  0.08822695+0.j,  0.06263061+0.j,  0.03507700+0.j,\n",
       "         0.02117650+0.j]])"
      ]
     },
     "execution_count": 45,
     "metadata": {},
     "output_type": "execute_result"
    }
   ],
   "source": [
    "coherent_dm(5, 1).full()"
   ]
  },
  {
   "cell_type": "code",
   "execution_count": 46,
   "metadata": {
    "collapsed": false
   },
   "outputs": [
    {
     "data": {
      "text/plain": [
       "1.0"
      ]
     },
     "execution_count": 46,
     "metadata": {},
     "output_type": "execute_result"
    }
   ],
   "source": [
    " coherent_dm(5, 1).norm()"
   ]
  },
  {
   "cell_type": "code",
   "execution_count": 47,
   "metadata": {
    "collapsed": false
   },
   "outputs": [
    {
     "data": {
      "text/latex": [
       "Quantum object: dims = [[5], [5]], shape = [5, 5], type = oper, isherm = True\\begin{equation*}\\left(\\begin{array}{*{11}c}0.368 & 0.368 & 0.261 & 0.146 & 0.088\\\\0.368 & 0.368 & 0.261 & 0.146 & 0.088\\\\0.261 & 0.261 & 0.185 & 0.104 & 0.063\\\\0.146 & 0.146 & 0.104 & 0.058 & 0.035\\\\0.088 & 0.088 & 0.063 & 0.035 & 0.021\\\\\\end{array}\\right)\\end{equation*}"
      ],
      "text/plain": [
       "Quantum object: dims = [[5], [5]], shape = [5, 5], type = oper, isherm = True\n",
       "Qobj data =\n",
       "[[ 0.36791118  0.36774407  0.26105441  0.14620658  0.08826704]\n",
       " [ 0.36774407  0.36757705  0.26093584  0.14614018  0.08822695]\n",
       " [ 0.26105441  0.26093584  0.18523331  0.10374209  0.06263061]\n",
       " [ 0.14620658  0.14614018  0.10374209  0.05810197  0.035077  ]\n",
       " [ 0.08826704  0.08822695  0.06263061  0.035077    0.0211765 ]]"
      ]
     },
     "execution_count": 47,
     "metadata": {},
     "output_type": "execute_result"
    }
   ],
   "source": [
    "coherent_dm(5, 1).sqrtm()"
   ]
  },
  {
   "cell_type": "code",
   "execution_count": 48,
   "metadata": {
    "collapsed": false
   },
   "outputs": [
    {
     "data": {
      "text/plain": [
       "1.0"
      ]
     },
     "execution_count": 48,
     "metadata": {},
     "output_type": "execute_result"
    }
   ],
   "source": [
    "coherent_dm(5, 1).tr()"
   ]
  },
  {
   "cell_type": "code",
   "execution_count": 49,
   "metadata": {
    "collapsed": false
   },
   "outputs": [
    {
     "data": {
      "text/latex": [
       "Quantum object: dims = [[4], [1]], shape = [4, 1], type = ket\\begin{equation*}\\left(\\begin{array}{*{11}c}0.0\\\\0.707\\\\0.707\\\\0.0\\\\\\end{array}\\right)\\end{equation*}"
      ],
      "text/plain": [
       "Quantum object: dims = [[4], [1]], shape = [4, 1], type = ket\n",
       "Qobj data =\n",
       "[[ 0.        ]\n",
       " [ 0.70710678]\n",
       " [ 0.70710678]\n",
       " [ 0.        ]]"
      ]
     },
     "execution_count": 49,
     "metadata": {},
     "output_type": "execute_result"
    }
   ],
   "source": [
    "(basis(4, 2) + basis(4, 1)).unit()"
   ]
  },
  {
   "cell_type": "code",
   "execution_count": 1,
   "metadata": {
    "collapsed": false
   },
   "outputs": [
    {
     "data": {
      "text/html": [
       "<style>\n",
       "@import url('http://fonts.googleapis.com/css?family=Source+Sans+Pro');\n",
       "@import url('http://fonts.googleapis.com/css?family=Source+Code+Pro');\n",
       "\n",
       "body {\n",
       "    -webkit-font-smoothing: antialiased;\n",
       "    font-family: \"Source Sans Pro\", Helvetica, Arial, Verdana, sans-serif;\n",
       "}\n",
       "\n",
       "\n",
       "div.cell{\n",
       "    width:768px;\n",
       "    margin-left:10% !important;\n",
       "    margin-right:auto;\n",
       "}\n",
       "h1 {\n",
       "    font-family: \"Source Sans Pro\", ,Helvetica, Arial, serif;\n",
       "\n",
       "}\n",
       "\n",
       "h4{\n",
       "    font-family: \"Source Sans Pro\", Helvetica, Arial, serif;\n",
       "\tmargin-top:12px;\n",
       "    margin-bottom: 3px;\n",
       "   }\n",
       "\n",
       "\n",
       "div.text_cell_render{\n",
       "    font-family: \"Source Sans Pro\", Helvetica, Arial, sans-serif;\n",
       "    line-height: 125%;\n",
       "    font-size: 110%;\n",
       "    width:768px;\n",
       "    margin-left:auto;\n",
       "    margin-right:auto;\n",
       "}\n",
       "\n",
       "div.cell.code_cell { /* area that contains code + output */\n",
       "    background: #fff;\n",
       "    border: none;\n",
       "    border-radius: 10px;\n",
       "    padding-top: 1ex;\n",
       "}\n",
       "\n",
       "div.input_area { /* box around box with code */\n",
       "    border: none;\n",
       "    background: #f5f5f5;\n",
       "    border: 1px solid #ccc;\n",
       "    border-radius: 10px;\n",
       "    padding-top: 0.5ex;\n",
       "    padding-bottom: 0.5ex;\n",
       "    padding-left: 0.5em;\n",
       "}\n",
       "\n",
       "div.prompt { /* remove In/Out prompt */\n",
       "    display: none;\n",
       "}\n",
       "\n",
       "div.cell.border-box-sizing.code_cell.running { \n",
       "    /* draw border around running cells */\n",
       "    border: 3px dotted #f33;\n",
       "}\n",
       "\n",
       ".CodeMirror{\n",
       "        font-family: \"Source Code Pro\", Consolas, monospace;\n",
       "}\n",
       ".prompt{\n",
       "    display: None;\n",
       "}\n",
       ".text_cell_render h5 {\n",
       "    font-family: \"Source Sans Pro\", Helvetica, Arial, serif;\n",
       "    font-size: 20pt;\n",
       "    color: #0001E0;\n",
       "    margin-bottom: .5em;\n",
       "    margin-top: 0.5em;\n",
       "    display: block;\n",
       "}\n",
       "\n",
       ".warning{\n",
       "    color: rgb( 240, 20, 20 )\n",
       "    }  \n",
       "\n",
       "a {\n",
       "    color: #0080FF;\n",
       "    text-decoration: none;\n",
       "    -webkit-transition: color 0.2s ease-in-out;\n",
       "    -moz-transition: color 0.2s ease-in-out;\n",
       "    -o-transition: color 0.2s ease-in-out;\n",
       "    -ms-transition: color 0.2s ease-in-out;\n",
       "    transition: color 0.2s ease-in-out;\n",
       "}\n",
       "a:hover {\n",
       "    color: #8C0028;\n",
       "}\n",
       "\n",
       "li li{\n",
       "    font-size:14px;\n",
       "}\n",
       "\n",
       "div.danger {    \n",
       "    background-color: #F7A7AA;\n",
       "    border-color: #F1595F;\n",
       "    border: 2px solid #F1595F;\n",
       "    border-radius: 5px;\n",
       "    padding-top: 0.5ex;\n",
       "    padding-bottom: 0.5ex;\n",
       "    padding-left: 0.5em;\n",
       "    }\n",
       "\n",
       "div.warn {    \n",
       "background-color: #FBD1A7;\n",
       "border-color: #F9A65A;\n",
       "border: 2px solid #F9A65A;\n",
       "border-radius: 5px;\n",
       "padding-top: 0.5ex;\n",
       "padding-bottom: 0.5ex;\n",
       "padding-left: 0.5em;\n",
       "}\n",
       "\n",
       "div.info {    \n",
       "background-color: #A6CBE9;\n",
       "border-color: #599AD3;\n",
       "border: 2px solid #599AD3;\n",
       "border-radius: 5px;\n",
       "padding-top: 0.5ex;\n",
       "padding-bottom: 0.5ex;\n",
       "padding-left: 0.5em;\n",
       "}\n",
       "\n",
       "div.success {    \n",
       "background-color: #B9E0B0;\n",
       "border-color: #79C36A;\n",
       "border: 2px solid #79C36A;\n",
       "border-radius: 5px;\n",
       "padding-top: 0.5ex;\n",
       "padding-bottom: 0.5ex;\n",
       "padding-left: 0.5em;\n",
       "}\n",
       "\n",
       "table a:link {\n",
       "    color: #666;\n",
       "    font-weight: bold;\n",
       "    text-decoration:none;\n",
       "}\n",
       "table a:visited {\n",
       "    color: #999999;\n",
       "    font-weight:bold;\n",
       "    text-decoration:none;\n",
       "}\n",
       "table a:active,\n",
       "table a:hover {\n",
       "    color: #bd5a35;\n",
       "    text-decoration:underline;\n",
       "}\n",
       "table {\n",
       "    font-family:\"Source Sans Pro\", Helvetica, Arial, serif;\n",
       "    color:#666;\n",
       "    font-size:14px;\n",
       "    text-shadow: 1px 1px 0px #fff;\n",
       "    background:#eaebec;\n",
       "    margin:20px;\n",
       "    border:#ccc 1px solid;\n",
       "    border-spacing: 0;\n",
       "    -moz-border-radius:3px;\n",
       "    -webkit-border-radius:3px;\n",
       "    border-radius:3px;\n",
       "\n",
       "    -moz-box-shadow: 0 1px 2px #d1d1d1;\n",
       "    -webkit-box-shadow: 0 1px 2px #d1d1d1;\n",
       "    box-shadow: 0 1px 2px #d1d1d1;\n",
       "}\n",
       "table th {\n",
       "    padding:21px 25px 22px 25px;\n",
       "    border-top:1px solid #fafafa;\n",
       "    border-bottom:1px solid #e0e0e0;\n",
       "\n",
       "    background: #ededed;\n",
       "    background: -webkit-gradient(linear, left top, left bottom, from(#ededed), to(#ebebeb));\n",
       "    background: -moz-linear-gradient(top,  #ededed,  #ebebeb);\n",
       "}\n",
       "table th:first-child{\n",
       "    text-align: left;\n",
       "    padding-left:20px;\n",
       "}\n",
       "table tr:first-child th:first-child{\n",
       "    -moz-border-radius-topleft:3px;\n",
       "    -webkit-border-top-left-radius:3px;\n",
       "    border-top-left-radius:3px;\n",
       "}\n",
       "table tr:first-child th:last-child{\n",
       "    -moz-border-radius-topright:3px;\n",
       "    -webkit-border-top-right-radius:3px;\n",
       "    border-top-right-radius:3px;\n",
       "}\n",
       "table tr{\n",
       "    text-align: center;\n",
       "    padding-left:20px;\n",
       "}\n",
       "table tr td:first-child{\n",
       "    text-align: left;\n",
       "    padding-left:20px;\n",
       "    border-left: 0;\n",
       "}\n",
       "table tr td {\n",
       "    padding:18px;\n",
       "    border-top: 1px solid #ffffff;\n",
       "    border-bottom:1px solid #e0e0e0;\n",
       "    border-left: 1px solid #e0e0e0;\n",
       "\n",
       "    background: #fafafa;\n",
       "    background: -webkit-gradient(linear, left top, left bottom, from(#fbfbfb), to(#fafafa));\n",
       "    background: -moz-linear-gradient(top,  #fbfbfb,  #fafafa);\n",
       "}\n",
       "\n",
       "table tr:nth-child(2n) td {\n",
       "    background: #f6f6f6;\n",
       "    background: -webkit-gradient(linear, left top, left bottom, from(#f8f8f8), to(#f6f6f6));\n",
       "    background: -moz-linear-gradient(top, #f8f8f8, #f6f6f6);\n",
       "}\n",
       "\n",
       "table tr:last-child td{\n",
       "    border-bottom:0;\n",
       "}\n",
       "table tr:last-child td:first-child{\n",
       "    -moz-border-radius-bottomleft:3px;\n",
       "    -webkit-border-bottom-left-radius:3px;\n",
       "    border-bottom-left-radius:3px;\n",
       "}\n",
       "table tr:last-child td:last-child{\n",
       "    -moz-border-radius-bottomright:3px;\n",
       "    -webkit-border-bottom-right-radius:3px;\n",
       "    border-bottom-right-radius:3px;\n",
       "}\n",
       "table tr:hover td{\n",
       "    background: #f2f2f2;\n",
       "    background: -webkit-gradient(linear, left top, left bottom, from(#f2f2f2), to(#f0f0f0));\n",
       "    background: -moz-linear-gradient(top,  #f2f2f2,  #f0f0f0);\t\n",
       "}\n",
       "\n",
       "\n",
       "caption {\n",
       "    display: table-caption;\n",
       "    font-weight: 700;\n",
       "}\n",
       "\n",
       "figure {\n",
       "    display: inline-block;\n",
       "    position: relative;\n",
       "    margin: 1em 0 2em;\n",
       "}\n",
       "figcaption {\n",
       "    font-style: italic;\n",
       "    text-align: center;\n",
       "    background: white;\n",
       "    color: #666;\n",
       "    position: absolute;\n",
       "    left: 0;\n",
       "    bottom: -24px;\n",
       "    width: 98%;\n",
       "    padding: 1%;\n",
       "    -webkit-transition: all 0.2s ease-in-out;\n",
       "    -moz-transition: all 0.2s ease-in-out;\n",
       "    -o-transition: all 0.2s ease-in-out;\n",
       "    -ms-transition: all 0.2s ease-in-out;\n",
       "    transition: all 0.2s ease-in-out;\n",
       "}\n",
       "\n",
       ".prompt.input_prompt {\n",
       "    color: rgba(0,0,0,0.5);\n",
       "}\n",
       "\n",
       ".cell.command_mode.selected {\n",
       "    border-color: rgba(0,0,0,0.1);\n",
       "}\n",
       "\n",
       ".cell.edit_mode.selected {\n",
       "    border-color: rgba(0,0,0,0.15);\n",
       "    box-shadow: 0px 0px 5px #f0f0f0;\n",
       "    -webkit-box-shadow: 0px 0px 5px #f0f0f0;\n",
       "}\n",
       "\n",
       "div.output_scroll {\n",
       "    -webkit-box-shadow: inset 0 2px 8px rgba(0,0,0,0.1);\n",
       "    box-shadow: inset 0 2px 8px rgba(0,0,0,0.1);\n",
       "    border-radious: 2px;\n",
       "}\n",
       "\n",
       "#menubar .navbar-inner {\n",
       "    background: #fff;\n",
       "    -webkit-box-shadow: none;\n",
       "    box-shadow: none;\n",
       "    border-radius: 0;\n",
       "    border: none;\n",
       "    font-family: \"Source Sans Pro\", Helvetica, Arial, serif;\n",
       "    font-weight: 400;\n",
       "}\n",
       "\n",
       ".navbar-fixed-top .navbar-inner,\n",
       ".navbar-static-top .navbar-inner {\n",
       "    box-shadow: none;\n",
       "    -webkit-box-shadow: none;\n",
       "    border: none;\n",
       "}\n",
       "\n",
       "div#notebook_panel {\n",
       "    box-shadow: none;\n",
       "    -webkit-box-shadow: none;\n",
       "    border-top: none;\n",
       "}\n",
       "\n",
       "div#notebook {\n",
       "    border-top: 1px solid rgba(0,0,0,0.15);\n",
       "}\n",
       "\n",
       "#menubar .navbar .navbar-inner,\n",
       ".toolbar-inner {\n",
       "    padding-left: 0;\n",
       "    padding-right: 0;\n",
       "}\n",
       "\n",
       "#checkpoint_status,\n",
       "#autosave_status {\n",
       "    color: rgba(0,0,0,0.5);\n",
       "}\n",
       "\n",
       "#header {\n",
       "    font-family: \"Source Sans Pro\", Helvetica, Arial, serif;\n",
       "}\n",
       "\n",
       "#notebook_name {\n",
       "    font-weight: 200;\n",
       "}\n",
       "\n",
       "/* \n",
       "    This is a lazy fix, we *should* fix the \n",
       "    background for each Bootstrap button type\n",
       "*/\n",
       "#site * .btn {\n",
       "    background: #fafafa;\n",
       "    -webkit-box-shadow: none;\n",
       "    box-shadow: none;\n",
       "}\n",
       "\n",
       "</style>\n",
       "\n",
       "<script>\n",
       "    MathJax.Hub.Config({\n",
       "                        TeX: {equationNumbers: { autoNumber: \"AMS\" },  \n",
       "                           extensions: [\"AMSmath.js\"]\n",
       "                           },\n",
       "                tex2jax: {\n",
       "                    inlineMath: [ ['$','$'], [\"\\\\(\",\"\\\\)\"] ],\n",
       "                    displayMath: [ ['$$','$$'], [\"\\\\[\",\"\\\\]\"] ]\n",
       "                },\n",
       "                displayAlign: 'center', // Change this to 'center' to center equations.\n",
       "                \"HTML-CSS\": {\n",
       "                    styles: {'.MathJax_Display': {\"margin\": 4}}\n",
       "                }\n",
       "        });\n",
       "</script>\n"
      ],
      "text/plain": [
       "<IPython.core.display.HTML object>"
      ]
     },
     "execution_count": 1,
     "metadata": {},
     "output_type": "execute_result"
    }
   ],
   "source": [
    "from IPython.core.display import HTML\n",
    "def css_styling():\n",
    "    styles = open(\"../styles/guide.css\", \"r\").read()\n",
    "    return HTML(styles)\n",
    "css_styling()"
   ]
  }
 ],
 "metadata": {
  "kernelspec": {
   "display_name": "Python 3",
   "language": "python",
   "name": "python3"
  },
  "language_info": {
   "codemirror_mode": {
    "name": "ipython",
    "version": 3
   },
   "file_extension": ".py",
   "mimetype": "text/x-python",
   "name": "python",
   "nbconvert_exporter": "python",
   "pygments_lexer": "ipython3",
   "version": "3.4.3"
  }
 },
 "nbformat": 4,
 "nbformat_minor": 0
}
