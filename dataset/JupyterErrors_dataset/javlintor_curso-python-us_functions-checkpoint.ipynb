{
 "cells": [
  {
   "cell_type": "markdown",
   "metadata": {
    "id": "ZC4U5fcR58M1"
   },
   "source": [
    "# Funciones"
   ]
  },
  {
   "cell_type": "markdown",
   "metadata": {
    "id": "qeFUhv8c58M3"
   },
   "source": [
    "Las funciones son bloques fundamentales de los programas de Python que nos permiten reutilizar trozos de código. Para definirlas utilizamos `def`"
   ]
  },
  {
   "cell_type": "code",
   "execution_count": 1,
   "metadata": {
    "id": "SQKHPx8q8BV0"
   },
   "outputs": [],
   "source": [
    "def add(x, y):\n",
    "    return x + y"
   ]
  },
  {
   "cell_type": "markdown",
   "metadata": {
    "id": "wO0TF4ZI8DUV"
   },
   "source": [
    "En la cabecera de la función (lo que definimos entre `def` y `:`) especificamos el nombre de la función y de los parámetros. El cuerpo de la función es una secuencia de declaraciones que se ejecutan cuando se llama a la función. Para ello, simplemente escribimos el nombre de la función seguido de los argumentos incluidos entre paréntesis "
   ]
  },
  {
   "cell_type": "code",
   "execution_count": 2,
   "metadata": {
    "id": "89jk4ORn8g_8"
   },
   "outputs": [],
   "source": [
    "a = add(2, 3)"
   ]
  },
  {
   "cell_type": "markdown",
   "metadata": {
    "id": "6DtTKkQ7W614"
   },
   "source": [
    "Si queremos que nuestra función devuelva un valor, utilizamos el comando `return`, que puede aparecer varias veces en el cuerpo de una función. Para devolver varios valores, podemos utilizar tuplas. "
   ]
  },
  {
   "cell_type": "code",
   "execution_count": 82,
   "metadata": {
    "id": "moSqoBmuXbYT"
   },
   "outputs": [],
   "source": [
    "def foo():\n",
    "    return \"bar\", \"baz\""
   ]
  },
  {
   "cell_type": "code",
   "execution_count": 83,
   "metadata": {
    "colab": {
     "base_uri": "https://localhost:8080/"
    },
    "id": "YzeOeM9DXnM4",
    "outputId": "c44abf02-5bbc-4382-b0d4-fc2c56ddd5b5"
   },
   "outputs": [
    {
     "name": "stdout",
     "output_type": "stream",
     "text": [
      "bar baz\n"
     ]
    }
   ],
   "source": [
    "a, b = foo()\n",
    "print(a, b)"
   ]
  },
  {
   "cell_type": "markdown",
   "metadata": {
    "id": "FdO-7Az1Xbwg"
   },
   "source": [
    "Cuando la ejecución de una función termina sin encontrar ningún return, ésta devuelve `None`. "
   ]
  },
  {
   "cell_type": "markdown",
   "metadata": {
    "id": "otl55wDzbFo6"
   },
   "source": [
    ":::{exercise}\n",
    ":label: functions-def\n",
    "\n",
    "Escribe una función `count_even` que acepte un argumento llamado `numbers`,  que será un iterable que contenga enteros, y devuelva cúantos son pares.  \n",
    "\n",
    ":::"
   ]
  },
  {
   "cell_type": "markdown",
   "metadata": {
    "id": "Os-Dl_JR8rSR"
   },
   "source": [
    "--- \n",
    "## Argumentos por defecto\n",
    "\n",
    "Podemos incluir valores por defecto en los parámetros de nuestras funciones mediante asignaciones que se realizan en la cabecera de la misma. "
   ]
  },
  {
   "cell_type": "code",
   "execution_count": 3,
   "metadata": {
    "id": "57we44Xm8wCm"
   },
   "outputs": [],
   "source": [
    "def f(a, b=3):\n",
    "    print(a)\n",
    "    print(b)"
   ]
  },
  {
   "cell_type": "code",
   "execution_count": 4,
   "metadata": {
    "colab": {
     "base_uri": "https://localhost:8080/"
    },
    "id": "pLMDPtCtH3Ys",
    "outputId": "57e87005-a490-49b3-db7f-f38cc52b5b6d"
   },
   "outputs": [
    {
     "name": "stdout",
     "output_type": "stream",
     "text": [
      "2\n",
      "3\n"
     ]
    }
   ],
   "source": [
    "f(a=2)"
   ]
  },
  {
   "cell_type": "code",
   "execution_count": 5,
   "metadata": {
    "colab": {
     "base_uri": "https://localhost:8080/"
    },
    "id": "5WIyA0GgH6MR",
    "outputId": "be6011c5-01ee-4232-b2b7-3e65bfe937c8"
   },
   "outputs": [
    {
     "name": "stdout",
     "output_type": "stream",
     "text": [
      "2\n",
      "1\n"
     ]
    }
   ],
   "source": [
    "f(a=2, b=1)"
   ]
  },
  {
   "cell_type": "markdown",
   "metadata": {
    "id": "Wy9emIklH8oZ"
   },
   "source": [
    "Cuando en una función definimos un parámetro con un valor por defecto, ese parámetro y todos los que le siguen son opcionales. De este modo, **es un error de sintaxis especificar un parámetro sin valor por defecto después de un parámetro con uno**. Por ejemplo, "
   ]
  },
  {
   "cell_type": "code",
   "execution_count": 6,
   "metadata": {
    "colab": {
     "base_uri": "https://localhost:8080/",
     "height": 134
    },
    "id": "PjfMYiclIgJG",
    "outputId": "c1457fc5-3ded-43d6-b978-b1ccc2167f05"
   },
   "outputs": [
    {
     "ename": "SyntaxError",
     "evalue": "ignored",
     "output_type": "error",
     "traceback": [
      "\u001b[0;36m  File \u001b[0;32m\"<ipython-input-6-6eed9b32205d>\"\u001b[0;36m, line \u001b[0;32m1\u001b[0m\n\u001b[0;31m    def f(a, b, c=1, d):\u001b[0m\n\u001b[0m         ^\u001b[0m\n\u001b[0;31mSyntaxError\u001b[0m\u001b[0;31m:\u001b[0m non-default argument follows default argument\n"
     ]
    }
   ],
   "source": [
    "def f(a, b, c=1, d):\n",
    "    pass"
   ]
  },
  {
   "cell_type": "markdown",
   "metadata": {
    "id": "AmbhRhLAIidB"
   },
   "source": [
    "Otra cosa importante es que **los valores por defecto se evalúan cuando se define la función, no cuando la función se llama**. Mira este ejemplo "
   ]
  },
  {
   "cell_type": "code",
   "execution_count": 7,
   "metadata": {
    "colab": {
     "base_uri": "https://localhost:8080/"
    },
    "id": "sXLSTv4DI-Fe",
    "outputId": "e88f2d82-d098-4caf-f7d3-68437e6dc730"
   },
   "outputs": [
    {
     "name": "stdout",
     "output_type": "stream",
     "text": [
      "[1, 2, 3]\n"
     ]
    }
   ],
   "source": [
    "def f(x, items=[]):\n",
    "    items.append(x)\n",
    "    return items\n",
    "\n",
    "a = f(1)\n",
    "b = f(2)\n",
    "c = f(3)\n",
    "print(c)"
   ]
  },
  {
   "cell_type": "code",
   "execution_count": 1,
   "metadata": {},
   "outputs": [
    {
     "name": "stdout",
     "output_type": "stream",
     "text": [
      "[1, 2, 3]\n"
     ]
    }
   ],
   "source": [
    "def f(x, items=[]):\n",
    "    items.append(x)\n",
    "    return items\n",
    "\n",
    "a = f(1)\n",
    "b = f(2)\n",
    "items = []\n",
    "c = f(3)\n",
    "print(c)"
   ]
  },
  {
   "cell_type": "markdown",
   "metadata": {
    "id": "cHNVWZLbJGbn"
   },
   "source": [
    "Por ello, es altamente recomendable usar *None* en los parámetros *vacíos o desconocidos* de nuestras funciones e incluir una comprobación.  "
   ]
  },
  {
   "cell_type": "code",
   "execution_count": 8,
   "metadata": {
    "colab": {
     "base_uri": "https://localhost:8080/"
    },
    "id": "nL5EUtdbJV07",
    "outputId": "6d9f8a2b-3c7c-4110-e911-a7b877e00504"
   },
   "outputs": [
    {
     "name": "stdout",
     "output_type": "stream",
     "text": [
      "[3]\n"
     ]
    }
   ],
   "source": [
    "def f(x, items=None):\n",
    "    if items is None:\n",
    "        items = []\n",
    "    items.append(x)\n",
    "    return items\n",
    "\n",
    "a = f(1)\n",
    "b = f(2)\n",
    "c = f(3)\n",
    "print(c)"
   ]
  },
  {
   "cell_type": "markdown",
   "metadata": {
    "id": "2SRSV1QMJeBw"
   },
   "source": [
    "---\n",
    "## Argumentos variacionales \n",
    "\n",
    "Una función en Python puede aceptar **un número variable** de argumentos si un asterisco `*` se utiliza antes del nombre de una variable, que por convenio suele denominarse `*args`. Por ejemplo "
   ]
  },
  {
   "cell_type": "code",
   "execution_count": 9,
   "metadata": {
    "id": "QhS_QFgK8pGT"
   },
   "outputs": [],
   "source": [
    "def product(first, *args):\n",
    "    result = first\n",
    "    for x in args:\n",
    "        result = result * x\n",
    "    return result"
   ]
  },
  {
   "cell_type": "code",
   "execution_count": 10,
   "metadata": {
    "colab": {
     "base_uri": "https://localhost:8080/"
    },
    "id": "v8iHgO2a8yBs",
    "outputId": "573371bf-708b-44e4-c6c9-ddb2e5388a5d"
   },
   "outputs": [
    {
     "data": {
      "text/plain": [
       "200"
      ]
     },
     "execution_count": 10,
     "metadata": {},
     "output_type": "execute_result"
    }
   ],
   "source": [
    "product(10, 20)"
   ]
  },
  {
   "cell_type": "code",
   "execution_count": 11,
   "metadata": {
    "colab": {
     "base_uri": "https://localhost:8080/"
    },
    "id": "c0A-xxXO872c",
    "outputId": "8aee3f85-13ed-429f-845a-1f320fa10967"
   },
   "outputs": [
    {
     "data": {
      "text/plain": [
       "1000"
      ]
     },
     "execution_count": 11,
     "metadata": {},
     "output_type": "execute_result"
    }
   ],
   "source": [
    "product(10, 20, 5)"
   ]
  },
  {
   "cell_type": "markdown",
   "metadata": {
    "id": "3akJA4bp89Sj"
   },
   "source": [
    "En este caso, todos los argumentos extra se localizan en la variable `args` como una tupla. Podemos por lo tanto trabajar con los argumentos utilizando las operaciones estándar de secuencias: iteración, slicing, desempaquetado etc. "
   ]
  },
  {
   "cell_type": "markdown",
   "metadata": {
    "id": "gP8QRmvk9ufh"
   },
   "source": [
    "---\n",
    "## Argumentos nombrados y posicionales\n",
    "\n",
    "Los argumentos de las funciones también pueden nombrarse explícitamente para cada parámetro cuando son invocadas, además en ese caso el orden de los argumentos no importa siempre que cada uno tome **un único valor**"
   ]
  },
  {
   "cell_type": "code",
   "execution_count": 12,
   "metadata": {
    "id": "kCG7x19U-YrW"
   },
   "outputs": [],
   "source": [
    "def f(w, x, y, z):\n",
    "    pass"
   ]
  },
  {
   "cell_type": "markdown",
   "metadata": {
    "id": "RM1oyfWv-bna"
   },
   "source": [
    "Podemos llamarla como `f(x=3, y=22, w=\"foo\", z=[1, 2])` y alterar el orden. Los argumentos en los que explicitamos el nombre son denominados **argumentos nombrados** y el resto **argumentos posicionales**. Si combinamos ambos, tendremos que tener en cuenta que los posicionales deben ir siempre primero y que ningún argumento reciba más de un valor. Por ejemplo"
   ]
  },
  {
   "cell_type": "code",
   "execution_count": 13,
   "metadata": {
    "id": "UiTSwCzN_Lyv"
   },
   "outputs": [],
   "source": [
    "# ✅\n",
    "f(\"foo\", 3, z=[1, 2], y=22)"
   ]
  },
  {
   "cell_type": "code",
   "execution_count": 14,
   "metadata": {
    "colab": {
     "base_uri": "https://localhost:8080/",
     "height": 190
    },
    "id": "8oAPcGjq_LJT",
    "outputId": "7fe5e4ee-4d00-47b6-9e1a-1e74f7e4ef61"
   },
   "outputs": [
    {
     "ename": "TypeError",
     "evalue": "ignored",
     "output_type": "error",
     "traceback": [
      "\u001b[0;31m---------------------------------------------------------------------------\u001b[0m",
      "\u001b[0;31mTypeError\u001b[0m                                 Traceback (most recent call last)",
      "\u001b[0;32m<ipython-input-14-79c55e15d211>\u001b[0m in \u001b[0;36m<module>\u001b[0;34m\u001b[0m\n\u001b[1;32m      1\u001b[0m \u001b[0;31m# ❌\u001b[0m\u001b[0;34m\u001b[0m\u001b[0;34m\u001b[0m\u001b[0;34m\u001b[0m\u001b[0m\n\u001b[0;32m----> 2\u001b[0;31m \u001b[0mf\u001b[0m\u001b[0;34m(\u001b[0m\u001b[0;36m3\u001b[0m\u001b[0;34m,\u001b[0m \u001b[0;36m22\u001b[0m\u001b[0;34m,\u001b[0m \u001b[0mw\u001b[0m\u001b[0;34m=\u001b[0m\u001b[0;34m\"foo\"\u001b[0m\u001b[0;34m,\u001b[0m \u001b[0mz\u001b[0m\u001b[0;34m=\u001b[0m\u001b[0;34m[\u001b[0m\u001b[0;36m1\u001b[0m\u001b[0;34m,\u001b[0m \u001b[0;36m2\u001b[0m\u001b[0;34m]\u001b[0m\u001b[0;34m)\u001b[0m\u001b[0;34m\u001b[0m\u001b[0;34m\u001b[0m\u001b[0m\n\u001b[0m",
      "\u001b[0;31mTypeError\u001b[0m: f() got multiple values for argument 'w'"
     ]
    }
   ],
   "source": [
    "# ❌\n",
    "f(3, 22, w=\"foo\", z=[1, 2])"
   ]
  },
  {
   "cell_type": "markdown",
   "metadata": {
    "id": "V26t47LW_mMW"
   },
   "source": [
    "Podemos obligar al uso de argumentos nombrados en nuestras funciones añadiendo argumentos tras un asterisco `*`. Por ejemplo"
   ]
  },
  {
   "cell_type": "code",
   "execution_count": 15,
   "metadata": {
    "id": "TUgpICtoALtp"
   },
   "outputs": [],
   "source": [
    "def product(first, *args, scale=1):\n",
    "    result = first * scale\n",
    "    for x in args:\n",
    "        result = result * x\n",
    "    return result"
   ]
  },
  {
   "cell_type": "code",
   "execution_count": 16,
   "metadata": {
    "id": "oqyjsqKwAPno"
   },
   "outputs": [],
   "source": [
    "def read_data(filename, *, debug=False):\n",
    "    pass"
   ]
  },
  {
   "cell_type": "code",
   "execution_count": 17,
   "metadata": {
    "colab": {
     "base_uri": "https://localhost:8080/",
     "height": 171
    },
    "id": "suy0IhLSA3JI",
    "outputId": "77c81740-5276-4dca-bcdd-2f6741559c5b"
   },
   "outputs": [
    {
     "ename": "TypeError",
     "evalue": "ignored",
     "output_type": "error",
     "traceback": [
      "\u001b[0;31m---------------------------------------------------------------------------\u001b[0m",
      "\u001b[0;31mTypeError\u001b[0m                                 Traceback (most recent call last)",
      "\u001b[0;32m<ipython-input-17-875c77499821>\u001b[0m in \u001b[0;36m<module>\u001b[0;34m\u001b[0m\n\u001b[0;32m----> 1\u001b[0;31m \u001b[0mdata\u001b[0m \u001b[0;34m=\u001b[0m \u001b[0mread_data\u001b[0m\u001b[0;34m(\u001b[0m\u001b[0;34m\"Data.csv\"\u001b[0m\u001b[0;34m,\u001b[0m \u001b[0;32mTrue\u001b[0m\u001b[0;34m)\u001b[0m\u001b[0;34m\u001b[0m\u001b[0;34m\u001b[0m\u001b[0m\n\u001b[0m",
      "\u001b[0;31mTypeError\u001b[0m: read_data() takes 1 positional argument but 2 were given"
     ]
    }
   ],
   "source": [
    "data = read_data(\"Data.csv\", True)"
   ]
  },
  {
   "cell_type": "code",
   "execution_count": 18,
   "metadata": {
    "id": "Msp9fh-OA8Xn"
   },
   "outputs": [],
   "source": [
    "data = read_data(\"Data.csv\", debug=True)"
   ]
  },
  {
   "cell_type": "markdown",
   "metadata": {
    "id": "l2jVuGReA_UJ"
   },
   "source": [
    "---\n",
    "## Argumentos variacionales nombrados\n",
    "Si el último argumento de una función tiene el prefijo `**`, todos los argumentos nombrados que no coincidan con los anteriormente definidos se guardarán en un diccionario que se pasa a la función, que por convenio suele llamarse `kwargs`. "
   ]
  },
  {
   "cell_type": "code",
   "execution_count": 19,
   "metadata": {
    "id": "cdrTzSPKGUUM"
   },
   "outputs": [],
   "source": [
    "def make_table(data, **kwargs):\n",
    "\n",
    "    font_color = kwargs.pop(\"font_color\", \"black\")\n",
    "    bg_color = kwargs.pop(\"bg_color\", \"white\")\n",
    "    width = kwargs.pop(\"width\", None)\n",
    "    # otros argumentos...\n",
    "    if kwargs:\n",
    "        # lanza un error si hay otras configuraciones \n",
    "        pass"
   ]
  },
  {
   "cell_type": "markdown",
   "metadata": {
    "id": "4tdw76h9Hc9E"
   },
   "source": [
    "Combinando el uso de `*` y `**` podemos escribir funciones que aceptan cualquier combinatión de argumentos. Los argumentos posicionales son pasado como una tupla y los nombrados como un diccionario "
   ]
  },
  {
   "cell_type": "code",
   "execution_count": 20,
   "metadata": {
    "id": "C8aWZaZfH7_-"
   },
   "outputs": [],
   "source": [
    "def f(*args, **kwargs):\n",
    "    print(args)\n",
    "    print(kwargs)"
   ]
  },
  {
   "cell_type": "code",
   "execution_count": 21,
   "metadata": {
    "colab": {
     "base_uri": "https://localhost:8080/"
    },
    "id": "63fgBOaEID-k",
    "outputId": "a2956d6d-4e14-4e3e-e8b3-3ea01109972d"
   },
   "outputs": [
    {
     "name": "stdout",
     "output_type": "stream",
     "text": [
      "(3, 2)\n",
      "{'a': 'foo', 'debug': False}\n"
     ]
    }
   ],
   "source": [
    "f(3, 2, a=\"foo\", debug=False)"
   ]
  },
  {
   "cell_type": "markdown",
   "metadata": {
    "id": "4hikfr-3KBBm"
   },
   "source": [
    "Es posible pasar los argumentos a una función en formato de tupla o diccionario usando `*` y `**` respectivamente"
   ]
  },
  {
   "cell_type": "code",
   "execution_count": 52,
   "metadata": {
    "id": "bW8gird3KEYE"
   },
   "outputs": [],
   "source": [
    "def f(x, y, z):\n",
    "    pass\n",
    "\n",
    "s = (1, \"foo\", [0, 1])\n",
    "\n",
    "d = {\n",
    "    \"x\": 1,\n",
    "    \"y\": \"foo\", \n",
    "    \"z\": [0, 1]\n",
    "}\n",
    "\n",
    "f(*s)\n",
    "f(**d)"
   ]
  },
  {
   "cell_type": "markdown",
   "metadata": {
    "id": "bQKFhxM0cfvf"
   },
   "source": [
    ":::{exercise}\n",
    ":label: functions-recursive\n",
    "\n",
    "Dado un entero positivo $n$, consideremos la siguiente función \n",
    "\n",
    "$$\n",
    "f(n) =  \\begin{cases}\n",
    "      n / 2, & \\text{si }\\ n\\text{ es par} \\\\\n",
    "      3n + 1, & \\text{en caso contrario.}\n",
    "\\end{cases}\n",
    "$$\n",
    "\n",
    "Definimos **la órbita de $n$** como el conjunto de enteros que se obtienen al aplicar reiteradamente $f$ hasta obtener 1. Escribe una función `collatz` que acepte un número arbitrario de enteros y devuelva un diccionario donde las claves sean los enteros y los valores listas con sus correspondientes órbitas.\n",
    "\n",
    "> La [Conjetura de Collatz](https://en.wikipedia.org/wiki/Collatz_conjecture) propone que todo entero tiene una órbita finita. \n",
    "\n",
    ":::"
   ]
  },
  {
   "cell_type": "markdown",
   "metadata": {
    "id": "xFtZd4TLqLz3"
   },
   "source": [
    "---\n",
    "## Nombres, Documentación e indicaciones de tipado\n",
    "\n",
    "La convención estándar para nombrar funciones es utilizar *snake_case*, al igual que en las variables. Si se pretende que una función no sea utilizada directamente, si no que implementa algún tipo de detalle interno en nuestro programa, se suele empezar el nombre de la variable por un guión bajo."
   ]
  },
  {
   "cell_type": "markdown",
   "metadata": {
    "id": "VKG4kIcosAZB"
   },
   "source": [
    "Como todo lo que definimos en Python, **las funciones también son objetos**, y tienen una serie de atributos que es importante conocer. "
   ]
  },
  {
   "cell_type": "code",
   "execution_count": 22,
   "metadata": {
    "id": "2oxXZmynsOhw"
   },
   "outputs": [],
   "source": [
    "def square(x):\n",
    "    return x * x"
   ]
  },
  {
   "cell_type": "markdown",
   "metadata": {
    "id": "4wR1gbOdzxXw"
   },
   "source": [
    "El nombre de la función queda guardado en el atributo `__name__`."
   ]
  },
  {
   "cell_type": "code",
   "execution_count": 23,
   "metadata": {
    "colab": {
     "base_uri": "https://localhost:8080/",
     "height": 36
    },
    "id": "9zHWfGQOz7qS",
    "outputId": "ff9fc481-cda0-4879-f716-ffb270afa33d"
   },
   "outputs": [
    {
     "data": {
      "application/vnd.google.colaboratory.intrinsic+json": {
       "type": "string"
      },
      "text/plain": [
       "'square'"
      ]
     },
     "execution_count": 23,
     "metadata": {},
     "output_type": "execute_result"
    }
   ],
   "source": [
    "square.__name__"
   ]
  },
  {
   "cell_type": "markdown",
   "metadata": {
    "id": "xAezX3RGz9aR"
   },
   "source": [
    "Es común que la primera expresión que aparece en una función sea una cadena describiendo su uso. Por ejemplo,"
   ]
  },
  {
   "cell_type": "code",
   "execution_count": 24,
   "metadata": {
    "id": "kCTd00Jg0HyY"
   },
   "outputs": [],
   "source": [
    "def factorial(n):\n",
    "    \"\"\"\n",
    "    Calcula el factorial de n. Por ejemplo, \n",
    "\n",
    "    >>> factorial(6)\n",
    "    120\n",
    "    \"\"\"\n",
    "    if n <= 1:\n",
    "        return 1\n",
    "    else: \n",
    "        return n*factorial(n-1)"
   ]
  },
  {
   "cell_type": "markdown",
   "metadata": {
    "id": "X84g3Ed60b56"
   },
   "source": [
    "La variable de tipo `str` que guarda la documentación está en el atributo `__doc__` de la función. A menudo es consultado por jupyter o IDEs para mostrarla al usuario. "
   ]
  },
  {
   "cell_type": "code",
   "execution_count": 25,
   "metadata": {
    "colab": {
     "base_uri": "https://localhost:8080/"
    },
    "id": "a3lSjmY606eJ",
    "outputId": "3a31a09c-9f6b-48d7-eafb-8d9a6a26f967"
   },
   "outputs": [
    {
     "name": "stdout",
     "output_type": "stream",
     "text": [
      "\n",
      "    Calcula el factorial de n. Por ejemplo, \n",
      "\n",
      "    >>> factorial(6)\n",
      "    120\n",
      "    \n"
     ]
    }
   ],
   "source": [
    "print(factorial.__doc__)"
   ]
  },
  {
   "cell_type": "markdown",
   "metadata": {
    "id": "4PViDUrkYXDc"
   },
   "source": [
    "> Python soporta **funciones recursivas**, es decir, funciones que se llaman a sí mismas. `factorial` es un ejemplo de función recursiva. "
   ]
  },
  {
   "cell_type": "markdown",
   "metadata": {
    "id": "t1jyEZfU076n"
   },
   "source": [
    "También se pueden realizar anotaciones sobre el tipado de los argumentos y del valor a devolver por la función. Como ya vimos, este tipo de indicaciones **son totalmente ignoradas por el intérprete de Python**, solo sirven para herramientas como [pylint](https://pylint.pycqa.org/en/latest/) que comprueban la consistencia de nuestro código sin ejecutarlo. "
   ]
  },
  {
   "cell_type": "code",
   "execution_count": 31,
   "metadata": {
    "id": "i45MorIb2uIu"
   },
   "outputs": [],
   "source": [
    "def factorial(n: int) -> int:\n",
    "    if n <= 1:\n",
    "        return 1\n",
    "    else: \n",
    "        return n * factorial(n - 1)"
   ]
  },
  {
   "cell_type": "markdown",
   "metadata": {
    "id": "EcUdqcCI25Xh"
   },
   "source": [
    "Esta información queda guardada en forma de diccionario en el atributo `__annotations__`."
   ]
  },
  {
   "cell_type": "code",
   "execution_count": 32,
   "metadata": {
    "colab": {
     "base_uri": "https://localhost:8080/"
    },
    "id": "ePKtYEbl-krz",
    "outputId": "e5c5c78c-239f-4f34-bd3e-8bd79dff7eee"
   },
   "outputs": [
    {
     "data": {
      "text/plain": [
       "{'n': int, 'return': int}"
      ]
     },
     "execution_count": 32,
     "metadata": {},
     "output_type": "execute_result"
    }
   ],
   "source": [
    "factorial.__annotations__"
   ]
  },
  {
   "cell_type": "markdown",
   "metadata": {
    "id": "j-I1Jk3v-nY4"
   },
   "source": [
    "---\n",
    "## Llamadas a la función y alcance\n",
    "\n",
    "Cuando definimos una función, Python crea los objetos definidos en los parámetros por defecto y las respectivas variables en el espacio de nombres local de la función que apuntan a los mismos. "
   ]
  },
  {
   "cell_type": "code",
   "execution_count": 75,
   "metadata": {
    "id": "uRACiovsHCvf"
   },
   "outputs": [],
   "source": [
    "def init_foo():\n",
    "    print(\"foo\")\n",
    "    return 0"
   ]
  },
  {
   "cell_type": "code",
   "execution_count": 44,
   "metadata": {
    "colab": {
     "base_uri": "https://localhost:8080/"
    },
    "id": "rsqPCr3OHOkM",
    "outputId": "5022c78e-1cd6-4662-fa81-c631f7740678"
   },
   "outputs": [
    {
     "name": "stdout",
     "output_type": "stream",
     "text": [
      "foo\n"
     ]
    }
   ],
   "source": [
    "def f(arg1=1, arg2=init_foo()):\n",
    "    print(a, b)"
   ]
  },
  {
   "cell_type": "code",
   "execution_count": 45,
   "metadata": {
    "colab": {
     "base_uri": "https://localhost:8080/",
     "height": 171
    },
    "id": "4xt9UIhJHpqh",
    "outputId": "446715fb-b88b-45da-dce8-a33f4f284abd"
   },
   "outputs": [
    {
     "ename": "NameError",
     "evalue": "ignored",
     "output_type": "error",
     "traceback": [
      "\u001b[0;31m---------------------------------------------------------------------------\u001b[0m",
      "\u001b[0;31mNameError\u001b[0m                                 Traceback (most recent call last)",
      "\u001b[0;32m<ipython-input-45-42cd4c5c2b13>\u001b[0m in \u001b[0;36m<module>\u001b[0;34m\u001b[0m\n\u001b[0;32m----> 1\u001b[0;31m \u001b[0marg1\u001b[0m\u001b[0;34m\u001b[0m\u001b[0;34m\u001b[0m\u001b[0m\n\u001b[0m",
      "\u001b[0;31mNameError\u001b[0m: name 'arg1' is not defined"
     ]
    }
   ],
   "source": [
    "arg1"
   ]
  },
  {
   "cell_type": "markdown",
   "metadata": {
    "id": "BnMzzhVkIO7p"
   },
   "source": [
    "Cuando se realiza una llamada a una función, los parámetros (por defecto o no) pasan a ser variables que apuntan a los objetos de entrada de la función. Python crea estas referencias directamente, **sin realizar ningún tipo de copiado**, por ello hay que tener especial precaución con los objetos mutables que se pasan en la llamada de una función.  "
   ]
  },
  {
   "cell_type": "code",
   "execution_count": 49,
   "metadata": {
    "id": "war4c9_gI8-6"
   },
   "outputs": [],
   "source": [
    "def square(items):\n",
    "    for i, x in enumerate(items):\n",
    "        items[i] = x * x\n",
    "    return items"
   ]
  },
  {
   "cell_type": "code",
   "execution_count": 50,
   "metadata": {
    "colab": {
     "base_uri": "https://localhost:8080/"
    },
    "id": "5GtKhCn3JBkm",
    "outputId": "061635f7-ddb5-4108-f55f-3321b04ec9f3"
   },
   "outputs": [
    {
     "data": {
      "text/plain": [
       "[1, 4, 9, 16, 25]"
      ]
     },
     "execution_count": 50,
     "metadata": {},
     "output_type": "execute_result"
    }
   ],
   "source": [
    "a = [1, 2, 3, 4, 5]\n",
    "square(a)"
   ]
  },
  {
   "cell_type": "code",
   "execution_count": 51,
   "metadata": {
    "colab": {
     "base_uri": "https://localhost:8080/"
    },
    "id": "w3sG20IEJLLz",
    "outputId": "5d6d4fcc-8363-4c29-cb5c-db921e5f9d64"
   },
   "outputs": [
    {
     "data": {
      "text/plain": [
       "[1, 4, 9, 16, 25]"
      ]
     },
     "execution_count": 51,
     "metadata": {},
     "output_type": "execute_result"
    }
   ],
   "source": [
    "a"
   ]
  },
  {
   "cell_type": "markdown",
   "metadata": {
    "id": "6HBMkvBUJLhD"
   },
   "source": [
    "Las funciones que mutan los objetos de entrada o que cambian el estado de otras partes del programa, se dice que tienen *side effects*. Un indicardor importante para identificarlas es que normalmente estas funciones no devuelven ningún valor. Se puede evitar este tipo de comportamiento en las funciones reasignando el nombre de la variable local. "
   ]
  },
  {
   "cell_type": "code",
   "execution_count": 56,
   "metadata": {
    "id": "NcD3SA2eLIvG"
   },
   "outputs": [],
   "source": [
    "def square_nse(items):\n",
    "    # Nada de side-effects\n",
    "    items = [x * x for x in items]\n",
    "    return items"
   ]
  },
  {
   "cell_type": "code",
   "execution_count": 57,
   "metadata": {
    "colab": {
     "base_uri": "https://localhost:8080/"
    },
    "id": "e5SQOLtiLZdT",
    "outputId": "2250a523-9ab7-4f1a-fb0f-19065c66a68d"
   },
   "outputs": [
    {
     "data": {
      "text/plain": [
       "[1, 4, 9, 16, 25]"
      ]
     },
     "execution_count": 57,
     "metadata": {},
     "output_type": "execute_result"
    }
   ],
   "source": [
    "a = [1, 2, 3, 4, 5]\n",
    "square(a)"
   ]
  },
  {
   "cell_type": "code",
   "execution_count": 58,
   "metadata": {
    "colab": {
     "base_uri": "https://localhost:8080/"
    },
    "id": "hDgm2GxrLbMh",
    "outputId": "81027158-9cda-4dc5-b391-68c468fe21a7"
   },
   "outputs": [
    {
     "data": {
      "text/plain": [
       "[1, 2, 3, 4, 5]"
      ]
     },
     "execution_count": 58,
     "metadata": {},
     "output_type": "execute_result"
    }
   ],
   "source": [
    "a"
   ]
  },
  {
   "cell_type": "markdown",
   "metadata": {
    "id": "PIWuAV9BMOu8"
   },
   "source": [
    "Cada vez que ejecutamos una función se crea **un espacio de nombres local**, que es un entorno que contiene el nombre y los valores de los parámetros de la fucnión así como variables que son asignadas dentro de la función. Las variables no definidas en el espacio local de una función son buscadas de forma dinámica (es decir, durante la ejecución de la función cuando es llamada) en el espacio global de nombres. \n",
    "\n",
    "En este contexto son dos los tipos de errores que nos podemos encontrar \n",
    "- `UnboundedLocalError`: variable local que todavía no ha sido asignada. \n",
    "- `NameError`: se menciona una variable que no está ni el espacio de nombres local ni global.\n",
    "\n",
    "\n",
    "Considera los siguientes ejemplos"
   ]
  },
  {
   "cell_type": "code",
   "execution_count": 70,
   "metadata": {
    "colab": {
     "base_uri": "https://localhost:8080/",
     "height": 318
    },
    "id": "YbrdTBZmSPh-",
    "outputId": "18e918af-d990-474c-a2b1-094893324137"
   },
   "outputs": [
    {
     "ename": "UnboundLocalError",
     "evalue": "ignored",
     "output_type": "error",
     "traceback": [
      "\u001b[0;31m---------------------------------------------------------------------------\u001b[0m",
      "\u001b[0;31mUnboundLocalError\u001b[0m                         Traceback (most recent call last)",
      "\u001b[0;32m<ipython-input-70-d227933f6b14>\u001b[0m in \u001b[0;36m<module>\u001b[0;34m\u001b[0m\n\u001b[1;32m      2\u001b[0m     \u001b[0mn\u001b[0m \u001b[0;34m=\u001b[0m \u001b[0mn\u001b[0m \u001b[0;34m+\u001b[0m \u001b[0;36m1\u001b[0m\u001b[0;34m\u001b[0m\u001b[0;34m\u001b[0m\u001b[0m\n\u001b[1;32m      3\u001b[0m \u001b[0;34m\u001b[0m\u001b[0m\n\u001b[0;32m----> 4\u001b[0;31m \u001b[0mf\u001b[0m\u001b[0;34m(\u001b[0m\u001b[0;34m)\u001b[0m\u001b[0;34m\u001b[0m\u001b[0;34m\u001b[0m\u001b[0m\n\u001b[0m",
      "\u001b[0;32m<ipython-input-70-d227933f6b14>\u001b[0m in \u001b[0;36mf\u001b[0;34m()\u001b[0m\n\u001b[1;32m      1\u001b[0m \u001b[0;32mdef\u001b[0m \u001b[0mf\u001b[0m\u001b[0;34m(\u001b[0m\u001b[0;34m)\u001b[0m\u001b[0;34m:\u001b[0m\u001b[0;34m\u001b[0m\u001b[0;34m\u001b[0m\u001b[0m\n\u001b[0;32m----> 2\u001b[0;31m     \u001b[0mn\u001b[0m \u001b[0;34m=\u001b[0m \u001b[0mn\u001b[0m \u001b[0;34m+\u001b[0m \u001b[0;36m1\u001b[0m\u001b[0;34m\u001b[0m\u001b[0;34m\u001b[0m\u001b[0m\n\u001b[0m\u001b[1;32m      3\u001b[0m \u001b[0;34m\u001b[0m\u001b[0m\n\u001b[1;32m      4\u001b[0m \u001b[0mf\u001b[0m\u001b[0;34m(\u001b[0m\u001b[0;34m)\u001b[0m\u001b[0;34m\u001b[0m\u001b[0;34m\u001b[0m\u001b[0m\n",
      "\u001b[0;31mUnboundLocalError\u001b[0m: local variable 'n' referenced before assignment"
     ]
    }
   ],
   "source": [
    "def f():\n",
    "    n = n + 1\n",
    "\n",
    "f()"
   ]
  },
  {
   "cell_type": "code",
   "execution_count": 69,
   "metadata": {
    "colab": {
     "base_uri": "https://localhost:8080/",
     "height": 318
    },
    "id": "MK849dBWSdvl",
    "outputId": "44f6f1bc-c3d3-483e-dd9a-8d632af65d2a"
   },
   "outputs": [
    {
     "ename": "NameError",
     "evalue": "ignored",
     "output_type": "error",
     "traceback": [
      "\u001b[0;31m---------------------------------------------------------------------------\u001b[0m",
      "\u001b[0;31mNameError\u001b[0m                                 Traceback (most recent call last)",
      "\u001b[0;32m<ipython-input-69-9a9aa7a53d93>\u001b[0m in \u001b[0;36m<module>\u001b[0;34m\u001b[0m\n\u001b[1;32m      2\u001b[0m     \u001b[0mprint\u001b[0m\u001b[0;34m(\u001b[0m\u001b[0mnon_defined_var\u001b[0m\u001b[0;34m)\u001b[0m\u001b[0;34m\u001b[0m\u001b[0;34m\u001b[0m\u001b[0m\n\u001b[1;32m      3\u001b[0m \u001b[0;34m\u001b[0m\u001b[0m\n\u001b[0;32m----> 4\u001b[0;31m \u001b[0mg\u001b[0m\u001b[0;34m(\u001b[0m\u001b[0;34m)\u001b[0m\u001b[0;34m\u001b[0m\u001b[0;34m\u001b[0m\u001b[0m\n\u001b[0m",
      "\u001b[0;32m<ipython-input-69-9a9aa7a53d93>\u001b[0m in \u001b[0;36mg\u001b[0;34m()\u001b[0m\n\u001b[1;32m      1\u001b[0m \u001b[0;32mdef\u001b[0m \u001b[0mg\u001b[0m\u001b[0;34m(\u001b[0m\u001b[0;34m)\u001b[0m\u001b[0;34m:\u001b[0m\u001b[0;34m\u001b[0m\u001b[0;34m\u001b[0m\u001b[0m\n\u001b[0;32m----> 2\u001b[0;31m     \u001b[0mprint\u001b[0m\u001b[0;34m(\u001b[0m\u001b[0mnon_defined_var\u001b[0m\u001b[0;34m)\u001b[0m\u001b[0;34m\u001b[0m\u001b[0;34m\u001b[0m\u001b[0m\n\u001b[0m\u001b[1;32m      3\u001b[0m \u001b[0;34m\u001b[0m\u001b[0m\n\u001b[1;32m      4\u001b[0m \u001b[0mg\u001b[0m\u001b[0;34m(\u001b[0m\u001b[0;34m)\u001b[0m\u001b[0;34m\u001b[0m\u001b[0;34m\u001b[0m\u001b[0m\n",
      "\u001b[0;31mNameError\u001b[0m: name 'non_defined_var' is not defined"
     ]
    }
   ],
   "source": [
    "def g():\n",
    "    print(non_defined_var)\n",
    "\n",
    "g()"
   ]
  },
  {
   "cell_type": "code",
   "execution_count": 72,
   "metadata": {
    "colab": {
     "base_uri": "https://localhost:8080/"
    },
    "id": "45CSkYgJTmWP",
    "outputId": "77fcc808-5ebb-4bca-dffa-44b6f5dcc03c"
   },
   "outputs": [
    {
     "name": "stdout",
     "output_type": "stream",
     "text": [
      "foo\n"
     ]
    }
   ],
   "source": [
    "global_var = \"foo\"\n",
    "def h():\n",
    "    print(global_var)\n",
    "\n",
    "h()"
   ]
  },
  {
   "cell_type": "markdown",
   "metadata": {
    "id": "Pe8o6INGUAF6"
   },
   "source": [
    "Las variables definidas dentro de las funciones (incluidos los parámetros) tienen un *scope* o alcance que restringe su acceso a la definición de la función. Por ello cuando un nombre aparece tanto en el espacio de nombres local como global, su valor depende del *scope* del mismo. "
   ]
  },
  {
   "cell_type": "code",
   "execution_count": 73,
   "metadata": {
    "colab": {
     "base_uri": "https://localhost:8080/"
    },
    "id": "tKaXXrOMUlFB",
    "outputId": "b348325c-47af-4ee0-8661-5991f9244906"
   },
   "outputs": [
    {
     "name": "stdout",
     "output_type": "stream",
     "text": [
      "13\n",
      "42\n"
     ]
    }
   ],
   "source": [
    "x = 42\n",
    "def f():\n",
    "    x = 13\n",
    "    print(x)\n",
    "\n",
    "f()\n",
    "print(x)"
   ]
  },
  {
   "cell_type": "markdown",
   "metadata": {
    "id": "5T9Hoss8Uu6d"
   },
   "source": [
    "Si dentro de una función queremos acceder al valor global de una variable utilizamos `global`"
   ]
  },
  {
   "cell_type": "code",
   "execution_count": 74,
   "metadata": {
    "colab": {
     "base_uri": "https://localhost:8080/"
    },
    "id": "8CzyzbycU2uB",
    "outputId": "d9149aeb-e43f-48a8-b52e-4141d03bedaa"
   },
   "outputs": [
    {
     "name": "stdout",
     "output_type": "stream",
     "text": [
      "13\n",
      "13\n"
     ]
    }
   ],
   "source": [
    "x = 42\n",
    "def f():\n",
    "    global x\n",
    "    x = 13\n",
    "    print(x)\n",
    "\n",
    "f()\n",
    "print(x)"
   ]
  },
  {
   "cell_type": "markdown",
   "metadata": {
    "id": "Z0-ogxs1Dd1K"
   },
   "source": [
    "---\n",
    "## Funciones lambda\n"
   ]
  },
  {
   "cell_type": "markdown",
   "metadata": {
    "id": "kPtQQxFlEBK5"
   },
   "source": [
    "Se puden definir funciones **anónimas**, es decir, no tienen un nombre asignado, mediante las denominadas **expresiones lambda**, que tienen la siguiente sintaxis\n",
    "\n",
    "```\n",
    "lambda args: expression\n",
    "```\n",
    "\n",
    "donde `args` son parámetros separados por comas y `expression` es una expresión (una concatenación de operadores; no se realizan bucles, ni asignaciones etc). Por ejemplo"
   ]
  },
  {
   "cell_type": "code",
   "execution_count": 1,
   "metadata": {
    "colab": {
     "base_uri": "https://localhost:8080/"
    },
    "id": "aqOGx1mQFJBm",
    "outputId": "daa2625f-384c-4ffa-e3b1-8f4dc9704ad0"
   },
   "outputs": [
    {
     "data": {
      "text/plain": [
       "5"
      ]
     },
     "execution_count": 1,
     "metadata": {},
     "output_type": "execute_result"
    }
   ],
   "source": [
    "a = lambda x, y: x + y\n",
    "\n",
    "a(2, 3)"
   ]
  },
  {
   "cell_type": "markdown",
   "metadata": {
    "id": "LX7cJwcqFeSM"
   },
   "source": [
    "Las expresiones lambda son útiles cuando por ejemplo pasemos una función como parámetro a una función de orden superior. "
   ]
  },
  {
   "cell_type": "markdown",
   "metadata": {
    "id": "iQiYlZmjFqpG"
   },
   "source": [
    ":::{exercise}\n",
    ":label: functions-lambda\n",
    "\n",
    "Pasa una función lambda al parámetro `key` [del método `sort`](https://docs.python.org/3/library/stdtypes.html#list) para ordenar una lista (de menor a mayor) de cadenas por order alfabético pero empezando por el último elemento de la cadena. Por ejemplo\n",
    "\n",
    "```\n",
    "[\"foo\", \"bar\", \"baz\"] -> [\"baz\", \"bar\", \"foo\"]\n",
    "```\n",
    "\n",
    ":::"
   ]
  },
  {
   "cell_type": "markdown",
   "metadata": {
    "id": "6wWqT4enaJM1"
   },
   "source": [
    "---\n",
    "## Map, Filter, Reduce\n",
    "\n",
    "Python soporta lo que se denomina el concepto de **funciones de orden superior**. Esto significa que podemos usar funciones como argumentos de otras funciones, almacenarlas en estructuras de datos, devolver una función en una función etc. Considera el siguiente ejemplo"
   ]
  },
  {
   "cell_type": "code",
   "execution_count": 85,
   "metadata": {
    "colab": {
     "base_uri": "https://localhost:8080/"
    },
    "id": "EnkBozKcaVJ-",
    "outputId": "730ad857-5c6c-47fa-f5b9-bc62eb436a7a"
   },
   "outputs": [
    {
     "name": "stdout",
     "output_type": "stream",
     "text": [
      "Foo!\n"
     ]
    }
   ],
   "source": [
    "import time\n",
    "\n",
    "def after(seconds, f):\n",
    "    time.sleep(seconds)\n",
    "    f()\n",
    "\n",
    "def foo():\n",
    "    print(\"Foo!\")\n",
    "\n",
    "after(10, foo)"
   ]
  },
  {
   "cell_type": "markdown",
   "metadata": {
    "id": "kFc5D83qe9-o"
   },
   "source": [
    "En este contexto, Python incorporta algunas funciones que nos permiten trabajar con funciones y que son la base de las expresiones de comprensión. Por un lado tenemos `filter` para filtrar según una función que devuelva un booleano y `map` para aplicar una función a un iterable. "
   ]
  },
  {
   "cell_type": "code",
   "execution_count": 17,
   "metadata": {
    "id": "GrFyaElfJke6"
   },
   "outputs": [],
   "source": [
    "nums = list(range(11))\n",
    "filt = filter(lambda x: x%3 == 0, nums)\n",
    "squares = map(lambda x: x*x, nums)"
   ]
  },
  {
   "cell_type": "code",
   "execution_count": 13,
   "metadata": {
    "colab": {
     "base_uri": "https://localhost:8080/"
    },
    "id": "xPQSZ63gJvTv",
    "outputId": "447693cc-0007-4b68-8cfb-323640e9a5bf"
   },
   "outputs": [
    {
     "data": {
      "text/plain": [
       "filter"
      ]
     },
     "execution_count": 13,
     "metadata": {},
     "output_type": "execute_result"
    }
   ],
   "source": [
    "type(filt)"
   ]
  },
  {
   "cell_type": "code",
   "execution_count": 14,
   "metadata": {
    "colab": {
     "base_uri": "https://localhost:8080/"
    },
    "id": "4J2uyJUIKXl2",
    "outputId": "9a2488c2-9b6d-4224-ccd0-1de58cd19c99"
   },
   "outputs": [
    {
     "data": {
      "text/plain": [
       "map"
      ]
     },
     "execution_count": 14,
     "metadata": {},
     "output_type": "execute_result"
    }
   ],
   "source": [
    "type(squares)"
   ]
  },
  {
   "cell_type": "markdown",
   "metadata": {
    "id": "JUr7oHTcLBIb"
   },
   "source": [
    "Tanto `filter` como `map` devuelven **generadores**. "
   ]
  },
  {
   "cell_type": "markdown",
   "metadata": {
    "id": "l76ojkEgMAid"
   },
   "source": [
    "Finalmente, existe la función `reduce` del módulo `itertools` para aplicar una función de dos parámetros a los objetos de un iterable de forma reiterada."
   ]
  },
  {
   "cell_type": "code",
   "execution_count": 20,
   "metadata": {
    "colab": {
     "base_uri": "https://localhost:8080/"
    },
    "id": "VPqTmVAiMQRa",
    "outputId": "b9da6caa-15a4-413e-88b0-1b410d921b10"
   },
   "outputs": [
    {
     "name": "stdout",
     "output_type": "stream",
     "text": [
      "55\n"
     ]
    }
   ],
   "source": [
    "from functools import reduce \n",
    "nums = range(11)\n",
    "total = reduce(lambda x, y: x + y, nums)\n",
    "print(total)"
   ]
  },
  {
   "cell_type": "markdown",
   "metadata": {
    "id": "dHSKllxwNJqV"
   },
   "source": [
    "La función reduce tiene un parámetro opcional `initial` por si queremos añadirlo al principio del iterable antes de ejecutar las evaluaciones de la función. "
   ]
  },
  {
   "cell_type": "markdown",
   "metadata": {
    "id": "0fPC6XAWM91c"
   },
   "source": [
    ":::{exercise}\n",
    ":label: functions-reduce\n",
    "\n",
    "Utiliza `reduce` sobre un iterable para obtener\n",
    "\n",
    "```\n",
    "(((((None, 1), 2), 3), 4), 5)\n",
    "```\n",
    "\n",
    ":::"
   ]
  },
  {
   "cell_type": "markdown",
   "metadata": {
    "id": "I0a7DeNmOMKc"
   },
   "source": [
    ":::{exercise}\n",
    ":label: functions-reduce-2\n",
    "\n",
    "Implementa la función `reduce` por ti mismo.\n",
    "\n",
    ":::"
   ]
  }
 ],
 "metadata": {
  "colab": {
   "provenance": []
  },
  "kernelspec": {
   "display_name": "Python 3",
   "language": "python",
   "name": "python3"
  },
  "language_info": {
   "codemirror_mode": {
    "name": "ipython",
    "version": 3
   },
   "file_extension": ".py",
   "mimetype": "text/x-python",
   "name": "python",
   "nbconvert_exporter": "python",
   "pygments_lexer": "ipython3",
   "version": "3.9.1"
  },
  "vscode": {
   "interpreter": {
    "hash": "397704579725e15f5c7cb49fe5f0341eb7531c82d19f2c29d197e8b64ab5776b"
   }
  }
 },
 "nbformat": 4,
 "nbformat_minor": 1
}
