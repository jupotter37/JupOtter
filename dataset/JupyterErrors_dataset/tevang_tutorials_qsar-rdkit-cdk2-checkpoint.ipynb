{
 "cells": [
  {
   "cell_type": "markdown",
   "metadata": {
    "collapsed": true
   },
   "source": [
    "### Advanced in silico drug design workshop. Olomouc, 23-26 January, 2017.\n",
    "### QSAR tutorial.\n",
    "Dr. Pavel Polishchuk  \n",
    "   \n",
    "Institute of Molecular and Translational Medicine, Faculty of Medicine and Dentistry, Palacký University and University Hospital in Olomouc, Hněvotínská 1333/5, 779 00 Olomouc, Czech Republic  \n",
    "http://imtm.cz  \n",
    "http://qsar4u.com  \n",
    "pavel_polishchuk@ukr.net  \n",
    "pavlo.polishchuk@upol.cz"
   ]
  },
  {
   "cell_type": "code",
   "execution_count": 1,
   "metadata": {
    "collapsed": true
   },
   "outputs": [],
   "source": [
    "from rdkit import Chem, DataStructs\n",
    "from rdkit.Chem import AllChem, Descriptors"
   ]
  },
  {
   "cell_type": "code",
   "execution_count": 2,
   "metadata": {
    "collapsed": true
   },
   "outputs": [],
   "source": [
    "# from rdkit.Chem.Draw import IPythonConsole\n",
    "# from rdkit.Chem import Draw\n",
    "# IPythonConsole.ipython_useSVG=True"
   ]
  },
  {
   "cell_type": "code",
   "execution_count": 3,
   "metadata": {
    "collapsed": true
   },
   "outputs": [],
   "source": [
    "import numpy as np\n",
    "from sklearn.svm import SVC, SVR\n",
    "from sklearn.ensemble import RandomForestRegressor, GradientBoostingRegressor\n",
    "from sklearn.model_selection import train_test_split, KFold, GridSearchCV, cross_val_predict\n",
    "from sklearn.preprocessing import StandardScaler\n",
    "from sklearn.metrics import accuracy_score, cohen_kappa_score, matthews_corrcoef, r2_score, mean_squared_error\n",
    "from sklearn.externals import joblib\n"
   ]
  },
  {
   "cell_type": "markdown",
   "metadata": {},
   "source": [
    "#### Reading molecules and activity from SDF"
   ]
  },
  {
   "cell_type": "code",
   "execution_count": 4,
   "metadata": {
    "collapsed": true
   },
   "outputs": [],
   "source": [
    "fname = \"data/cdk2.sdf\"\n",
    "\n",
    "mols = []\n",
    "y = []\n",
    "for mol in Chem.SDMolSupplier(fname):\n",
    "    if mol is not None:\n",
    "        mols.append(mol)\n",
    "        y.append(float(mol.GetProp(\"pIC50\")))"
   ]
  },
  {
   "cell_type": "markdown",
   "metadata": {},
   "source": [
    "#### Calculate descriptors (fingerprints) and convert them into numpy array"
   ]
  },
  {
   "cell_type": "code",
   "execution_count": 5,
   "metadata": {
    "collapsed": true
   },
   "outputs": [],
   "source": [
    "# generate binary Morgan fingerprint with radius 2\n",
    "fp = [AllChem.GetMorganFingerprintAsBitVect(m, 2) for m in mols]"
   ]
  },
  {
   "cell_type": "code",
   "execution_count": 6,
   "metadata": {
    "collapsed": true
   },
   "outputs": [],
   "source": [
    "def rdkit_numpy_convert(fp):\n",
    "    output = []\n",
    "    for f in fp:\n",
    "        arr = np.zeros((1,))\n",
    "        DataStructs.ConvertToNumpyArray(f, arr)\n",
    "        output.append(arr)\n",
    "    return np.asarray(output)"
   ]
  },
  {
   "cell_type": "code",
   "execution_count": 7,
   "metadata": {
    "collapsed": true
   },
   "outputs": [],
   "source": [
    "x = rdkit_numpy_convert(fp)"
   ]
  },
  {
   "cell_type": "code",
   "execution_count": 8,
   "metadata": {},
   "outputs": [
    {
     "data": {
      "text/plain": [
       "(436, 2048)"
      ]
     },
     "execution_count": 8,
     "metadata": {},
     "output_type": "execute_result"
    }
   ],
   "source": [
    "x.shape"
   ]
  },
  {
   "cell_type": "code",
   "execution_count": 9,
   "metadata": {},
   "outputs": [
    {
     "data": {
      "image/png": "[encoded data removed]",
      "text/plain": [
       "<matplotlib.figure.Figure at 0x7fc68f3e4208>"
      ]
     },
     "metadata": {},
     "output_type": "display_data"
    }
   ],
   "source": [
    "# check wether the data set is balanced\n",
    "import matplotlib.pyplot as plt\n",
    "\n",
    "fig = plt.figure()\n",
    "ax = fig.add_subplot(111)\n",
    "ax.xaxis.label.set_color('white')\n",
    "ax.tick_params(axis='x', colors='white')\n",
    "ax.yaxis.label.set_color('white')\n",
    "ax.tick_params(axis='y', colors='white')\n",
    "ax.hist(y, bins=[3,4,5,6,7,8,9,10], rwidth=0.8)\n",
    "plt.show()"
   ]
  },
  {
   "cell_type": "markdown",
   "metadata": {},
   "source": [
    "#### Set random seed to make all further calculations reproducible"
   ]
  },
  {
   "cell_type": "code",
   "execution_count": 10,
   "metadata": {
    "collapsed": true
   },
   "outputs": [],
   "source": [
    "seed = 42"
   ]
  },
  {
   "cell_type": "markdown",
   "metadata": {},
   "source": [
    "#### Split the whole set on training and test sets"
   ]
  },
  {
   "cell_type": "code",
   "execution_count": 11,
   "metadata": {
    "collapsed": true
   },
   "outputs": [],
   "source": [
    "# randomly select 20% of compounds as test set\n",
    "x_tr, x_ts, y_tr, y_ts = train_test_split(x, y, test_size=0.20, random_state=seed)"
   ]
  },
  {
   "cell_type": "code",
   "execution_count": 12,
   "metadata": {},
   "outputs": [
    {
     "name": "stdout",
     "output_type": "stream",
     "text": [
      "[5.0, 5.3, 6.77, 5.99, 3.51, 5.4, 7.29, 4.35, 6.7, 3.54, 5.47, 4.38, 7.85, 5.76, 4.85, 5.0, 5.62, 7.68, 4.35, 6.24, 7.96, 5.92, 4.02, 3.01, 7.52, 7.22, 5.96, 5.44, 3.15, 8.47, 3.02, 7.4, 5.55, 6.44, 3.09, 4.68, 7.31, 7.54, 5.13, 4.96, 7.88, 8.0, 7.74, 4.47, 4.91, 5.16, 5.7, 6.41, 4.77, 8.4, 3.1, 7.37, 9.52, 7.92, 5.64, 6.0, 5.82, 8.39, 5.0, 7.38, 3.18, 7.38, 4.6, 6.39, 6.93, 7.0, 7.05, 3.7, 3.39, 4.04, 4.59, 4.77, 3.21, 2.94, 5.82, 6.98, 6.87, 5.96, 4.54, 7.33, 8.7, 4.87, 3.02, 5.8, 6.3, 7.15, 6.66, 6.8]\n"
     ]
    }
   ],
   "source": [
    "print(y_ts)"
   ]
  },
  {
   "cell_type": "markdown",
   "metadata": {},
   "source": [
    "#### Create folds for cross-validation"
   ]
  },
  {
   "cell_type": "code",
   "execution_count": 13,
   "metadata": {
    "collapsed": true
   },
   "outputs": [],
   "source": [
    "cv = KFold(n_splits=5, shuffle=True, random_state=seed)"
   ]
  },
  {
   "cell_type": "code",
   "execution_count": 14,
   "metadata": {},
   "outputs": [
    {
     "name": "stdout",
     "output_type": "stream",
     "text": [
      "\n",
      "Fold_1\n",
      "TRAIN: [  0   1   2   4   6   7   8  10  11  12  13  14  15  16  17  18  19  20\n",
      "  21  23  24  26  27  28  29  31  32  34  35  36  37  38  40  41  43  44\n",
      "  47  48  49  50  51  52  53  54  58  59  60  61  62  64  65  66  67  68\n",
      "  69  70  71  74  78  79  80  81  83  85  86  87  88  89  90  91  92  94\n",
      "  95  96  97  98  99 100 101 102 103 104 105 106 107 111 112 115 117 120\n",
      " 121 122 123 125 126 127 128 129 130 131 132 133 134 135 136 137 138 141\n",
      " 142 143 144 146 147 148 149 150 151 152 154 156 157 159 160 161 162 164\n",
      " 165 166 168 169 170 171 173 174 175 177 178 179 181 182 184 185 186 187\n",
      " 188 189 190 191 192 194 195 196 198 200 201 202 204 205 206 207 208 209\n",
      " 211 212 213 214 215 216 217 218 219 220 221 222 223 226 227 228 229 230\n",
      " 232 233 234 235 236 238 239 240 241 242 243 245 246 247 248 249 250 251\n",
      " 252 253 254 256 257 259 260 261 263 264 265 266 267 269 270 272 273 274\n",
      " 275 276 278 279 280 282 283 285 286 288 289 290 291 292 293 294 295 297\n",
      " 298 299 300 301 302 303 304 305 306 307 308 309 310 311 312 313 315 316\n",
      " 317 318 319 320 321 323 324 327 328 329 330 331 332 333 334 335 338 339\n",
      " 340 341 342 343 344 345 346 347]\n",
      "TEST: [  3   5   9  22  25  30  33  39  42  45  46  55  56  57  63  72  73  75\n",
      "  76  77  82  84  93 108 109 110 113 114 116 118 119 124 139 140 145 153\n",
      " 155 158 163 167 172 176 180 183 193 197 199 203 210 224 225 231 237 244\n",
      " 255 258 262 268 271 277 281 284 287 296 314 322 325 326 336 337]\n",
      "\n",
      "Fold_2\n",
      "TRAIN: [  0   1   2   3   4   5   8   9  11  12  13  14  20  21  22  23  25  26\n",
      "  27  28  29  30  32  33  34  35  36  37  38  39  40  41  42  43  44  45\n",
      "  46  47  48  49  50  51  52  53  54  55  56  57  58  61  62  63  64  65\n",
      "  67  68  69  70  71  72  73  74  75  76  77  80  82  83  84  85  86  87\n",
      "  88  89  91  93  95  96  97  98  99 100 102 103 105 106 107 108 109 110\n",
      " 112 113 114 115 116 117 118 119 120 121 122 123 124 125 127 128 129 130\n",
      " 131 133 134 135 136 138 139 140 141 142 143 144 145 146 149 150 151 153\n",
      " 154 155 156 158 159 160 161 162 163 164 166 167 168 169 170 171 172 173\n",
      " 174 176 178 180 181 182 183 184 186 187 188 189 190 191 192 193 196 197\n",
      " 199 200 201 202 203 204 205 206 207 209 210 212 213 214 215 216 217 218\n",
      " 221 222 223 224 225 226 227 230 231 232 233 234 235 236 237 239 240 241\n",
      " 242 243 244 246 247 249 251 252 253 254 255 257 258 259 260 262 263 264\n",
      " 265 266 267 268 269 270 271 272 273 274 275 276 277 278 281 282 283 284\n",
      " 286 287 289 290 291 293 294 295 296 297 298 299 300 301 302 306 308 310\n",
      " 312 313 314 315 316 317 318 319 320 321 322 325 326 327 329 330 332 334\n",
      " 335 336 337 339 341 342 346 347]\n",
      "TEST: [  6   7  10  15  16  17  18  19  24  31  59  60  66  78  79  81  90  92\n",
      "  94 101 104 111 126 132 137 147 148 152 157 165 175 177 179 185 194 195\n",
      " 198 208 211 219 220 228 229 238 245 248 250 256 261 279 280 285 288 292\n",
      " 303 304 305 307 309 311 323 324 328 331 333 338 340 343 344 345]\n",
      "\n",
      "Fold_3\n",
      "TRAIN: [  0   1   3   4   5   6   7   8   9  10  12  13  14  15  16  17  18  19\n",
      "  20  21  22  24  25  26  27  28  30  31  32  33  34  35  36  39  40  41\n",
      "  42  43  45  46  47  48  49  50  51  52  53  54  55  56  57  58  59  60\n",
      "  61  62  63  64  66  70  71  72  73  75  76  77  78  79  80  81  82  84\n",
      "  85  87  88  89  90  91  92  93  94  95  98  99 100 101 102 103 104 105\n",
      " 106 108 109 110 111 113 114 116 118 119 121 123 124 126 128 130 131 132\n",
      " 134 135 136 137 138 139 140 141 142 145 147 148 149 150 151 152 153 155\n",
      " 156 157 158 159 160 161 162 163 165 166 167 169 170 171 172 174 175 176\n",
      " 177 178 179 180 183 185 186 187 188 189 190 191 192 193 194 195 197 198\n",
      " 199 200 201 203 204 205 206 207 208 210 211 212 213 214 215 216 217 218\n",
      " 219 220 223 224 225 226 228 229 230 231 235 236 237 238 241 243 244 245\n",
      " 246 248 250 251 252 254 255 256 257 258 259 260 261 262 263 264 267 268\n",
      " 269 270 271 272 273 274 276 277 279 280 281 283 284 285 287 288 290 292\n",
      " 293 296 297 298 299 302 303 304 305 306 307 308 309 310 311 312 313 314\n",
      " 316 317 318 319 322 323 324 325 326 328 330 331 333 334 336 337 338 339\n",
      " 340 341 342 343 344 345 346 347]\n",
      "TEST: [  2  11  23  29  37  38  44  65  67  68  69  74  83  86  96  97 107 112\n",
      " 115 117 120 122 125 127 129 133 143 144 146 154 164 168 173 181 182 184\n",
      " 196 202 209 221 222 227 232 233 234 239 240 242 247 249 253 265 266 275\n",
      " 278 282 286 289 291 294 295 300 301 315 320 321 327 329 332 335]\n",
      "\n",
      "Fold_4\n",
      "TRAIN: [  1   2   3   5   6   7   9  10  11  13  15  16  17  18  19  20  21  22\n",
      "  23  24  25  29  30  31  33  34  37  38  39  42  43  44  45  46  48  49\n",
      "  50  52  53  54  55  56  57  58  59  60  63  65  66  67  68  69  71  72\n",
      "  73  74  75  76  77  78  79  80  81  82  83  84  86  87  88  90  91  92\n",
      "  93  94  96  97  99 101 102 104 105 106 107 108 109 110 111 112 113 114\n",
      " 115 116 117 118 119 120 121 122 124 125 126 127 129 130 132 133 134 137\n",
      " 139 140 143 144 145 146 147 148 149 151 152 153 154 155 157 158 160 161\n",
      " 163 164 165 166 167 168 169 172 173 174 175 176 177 179 180 181 182 183\n",
      " 184 185 187 188 189 190 191 193 194 195 196 197 198 199 201 202 203 205\n",
      " 207 208 209 210 211 212 214 217 219 220 221 222 224 225 227 228 229 231\n",
      " 232 233 234 235 236 237 238 239 240 241 242 243 244 245 247 248 249 250\n",
      " 251 252 253 255 256 257 258 259 261 262 263 264 265 266 268 269 270 271\n",
      " 273 275 276 277 278 279 280 281 282 284 285 286 287 288 289 291 292 293\n",
      " 294 295 296 300 301 303 304 305 306 307 308 309 311 313 314 315 317 318\n",
      " 320 321 322 323 324 325 326 327 328 329 330 331 332 333 334 335 336 337\n",
      " 338 339 340 342 343 344 345 346 347]\n",
      "TEST: [  0   4   8  12  14  26  27  28  32  35  36  40  41  47  51  61  62  64\n",
      "  70  85  89  95  98 100 103 123 128 131 135 136 138 141 142 150 156 159\n",
      " 162 170 171 178 186 192 200 204 206 213 215 216 218 223 226 230 246 254\n",
      " 260 267 272 274 283 290 297 298 299 302 310 312 316 319 341]\n",
      "\n",
      "Fold_5\n",
      "TRAIN: [  0   2   3   4   5   6   7   8   9  10  11  12  14  15  16  17  18  19\n",
      "  22  23  24  25  26  27  28  29  30  31  32  33  35  36  37  38  39  40\n",
      "  41  42  44  45  46  47  51  55  56  57  59  60  61  62  63  64  65  66\n",
      "  67  68  69  70  72  73  74  75  76  77  78  79  81  82  83  84  85  86\n",
      "  89  90  92  93  94  95  96  97  98 100 101 103 104 107 108 109 110 111\n",
      " 112 113 114 115 116 117 118 119 120 122 123 124 125 126 127 128 129 131\n",
      " 132 133 135 136 137 138 139 140 141 142 143 144 145 146 147 148 150 152\n",
      " 153 154 155 156 157 158 159 162 163 164 165 167 168 170 171 172 173 175\n",
      " 176 177 178 179 180 181 182 183 184 185 186 192 193 194 195 196 197 198\n",
      " 199 200 202 203 204 206 208 209 210 211 213 215 216 218 219 220 221 222\n",
      " 223 224 225 226 227 228 229 230 231 232 233 234 237 238 239 240 242 244\n",
      " 245 246 247 248 249 250 253 254 255 256 258 260 261 262 265 266 267 268\n",
      " 271 272 274 275 277 278 279 280 281 282 283 284 285 286 287 288 289 290\n",
      " 291 292 294 295 296 297 298 299 300 301 302 303 304 305 307 309 310 311\n",
      " 312 314 315 316 319 320 321 322 323 324 325 326 327 328 329 331 332 333\n",
      " 335 336 337 338 340 341 343 344 345]\n",
      "TEST: [  1  13  20  21  34  43  48  49  50  52  53  54  58  71  80  87  88  91\n",
      "  99 102 105 106 121 130 134 149 151 160 161 166 169 174 187 188 189 190\n",
      " 191 201 205 207 212 214 217 235 236 241 243 251 252 257 259 263 264 269\n",
      " 270 273 276 293 306 308 313 317 318 330 334 339 342 346 347]\n"
     ]
    }
   ],
   "source": [
    "# print out ids of folds\n",
    "for i, (train_index, test_index) in enumerate(cv.split(y_tr)):\n",
    "    print(\"\\nFold_\" + str(i+1))\n",
    "    print(\"TRAIN:\", train_index)\n",
    "    print(\"TEST:\", test_index)"
   ]
  },
  {
   "cell_type": "code",
   "execution_count": 15,
   "metadata": {},
   "outputs": [
    {
     "data": {
      "image/png": "[encoded data removed]",
      "text/plain": [
       "<matplotlib.figure.Figure at 0x7fc6848f1a20>"
      ]
     },
     "metadata": {},
     "output_type": "display_data"
    }
   ],
   "source": [
    "# look at distribution of activity in folds\n",
    "fig = plt.figure()\n",
    "ax = fig.add_subplot(111)\n",
    "ax.xaxis.label.set_color('white')\n",
    "ax.tick_params(axis='x', colors='white')\n",
    "ax.yaxis.label.set_color('white')\n",
    "ax.tick_params(axis='y', colors='white')\n",
    "ax.hist([np.array(y)[ids[1]] for ids in cv.split(y)], bins=[3,4,5,6,7,8,9,10], rwidth=0.8)\n",
    "plt.show()"
   ]
  },
  {
   "cell_type": "markdown",
   "metadata": {},
   "source": [
    "#### Scale X"
   ]
  },
  {
   "cell_type": "markdown",
   "metadata": {},
   "source": [
    "This step may be crucial for certain modeling approaches lke SVM.\n",
    "In the case of binary fingerprints it may be less useful."
   ]
  },
  {
   "cell_type": "code",
   "execution_count": 16,
   "metadata": {
    "collapsed": true
   },
   "outputs": [],
   "source": [
    "# obtain scale object which can be further applied to scale any data to fit the training set\n",
    "scale = StandardScaler().fit(x_tr)\n",
    "x_tr = scale.transform(x_tr)"
   ]
  },
  {
   "cell_type": "code",
   "execution_count": 17,
   "metadata": {},
   "outputs": [
    {
     "data": {
      "text/plain": [
       "['data/cdk2_scale.pkl']"
      ]
     },
     "execution_count": 17,
     "metadata": {},
     "output_type": "execute_result"
    }
   ],
   "source": [
    "# it is a good idea to save it for future use\n",
    "joblib.dump(scale, \"data/cdk2_scale.pkl\", compress=3)"
   ]
  },
  {
   "cell_type": "markdown",
   "metadata": {},
   "source": [
    "#### Search for optimal tuning parameters and build the model"
   ]
  },
  {
   "cell_type": "code",
   "execution_count": 18,
   "metadata": {
    "collapsed": true
   },
   "outputs": [],
   "source": [
    "# create grid search dictionary\n",
    "param_grid = {\"max_features\": [x_tr.shape[1] // 10, x_tr.shape[1] // 7, x_tr.shape[1] // 5, x_tr.shape[1] // 3], \n",
    "              \"n_estimators\": [100, 250, 500]}"
   ]
  },
  {
   "cell_type": "code",
   "execution_count": 19,
   "metadata": {
    "collapsed": true
   },
   "outputs": [],
   "source": [
    "# setup model building\n",
    "m = GridSearchCV(RandomForestRegressor(random_state=seed), param_grid, n_jobs=2, cv=cv, verbose=1)"
   ]
  },
  {
   "cell_type": "code",
   "execution_count": 20,
   "metadata": {},
   "outputs": [
    {
     "name": "stdout",
     "output_type": "stream",
     "text": [
      "Fitting 5 folds for each of 12 candidates, totalling 60 fits\n"
     ]
    },
    {
     "name": "stderr",
     "output_type": "stream",
     "text": [
      "[Parallel(n_jobs=2)]: Done  46 tasks      | elapsed:   33.8s\n",
      "[Parallel(n_jobs=2)]: Done  60 out of  60 | elapsed:   50.8s finished\n"
     ]
    },
    {
     "data": {
      "text/plain": [
       "GridSearchCV(cv=KFold(n_splits=5, random_state=42, shuffle=True),\n",
       "       error_score='raise',\n",
       "       estimator=RandomForestRegressor(bootstrap=True, criterion='mse', max_depth=None,\n",
       "           max_features='auto', max_leaf_nodes=None,\n",
       "           min_impurity_decrease=0.0, min_impurity_split=None,\n",
       "           min_samples_leaf=1, min_samples_split=2,\n",
       "           min_weight_fraction_leaf=0.0, n_estimators=10, n_jobs=1,\n",
       "           oob_score=False, random_state=42, verbose=0, warm_start=False),\n",
       "       fit_params=None, iid=True, n_jobs=2,\n",
       "       param_grid={'max_features': [204, 292, 409, 682], 'n_estimators': [100, 250, 500]},\n",
       "       pre_dispatch='2*n_jobs', refit=True, return_train_score='warn',\n",
       "       scoring=None, verbose=1)"
      ]
     },
     "execution_count": 20,
     "metadata": {},
     "output_type": "execute_result"
    }
   ],
   "source": [
    "# run model building\n",
    "m.fit(x_tr, y_tr)"
   ]
  },
  {
   "cell_type": "code",
   "execution_count": 21,
   "metadata": {},
   "outputs": [
    {
     "data": {
      "text/plain": [
       "{'max_features': 292, 'n_estimators': 100}"
      ]
     },
     "execution_count": 21,
     "metadata": {},
     "output_type": "execute_result"
    }
   ],
   "source": [
    "m.best_params_"
   ]
  },
  {
   "cell_type": "code",
   "execution_count": 22,
   "metadata": {},
   "outputs": [
    {
     "data": {
      "text/plain": [
       "0.82595275282267411"
      ]
     },
     "execution_count": 22,
     "metadata": {},
     "output_type": "execute_result"
    }
   ],
   "source": [
    "m.best_score_"
   ]
  },
  {
   "cell_type": "code",
   "execution_count": 23,
   "metadata": {},
   "outputs": [
    {
     "name": "stderr",
     "output_type": "stream",
     "text": [
      "/home/pavel/anaconda3/envs/rdkit_1709/lib/python3.6/site-packages/sklearn/utils/deprecation.py:122: FutureWarning: You are accessing a training score ('mean_train_score'), which will not be available by default any more in 0.21. If you need training scores, please set return_train_score=True\n",
      "  warnings.warn(*warn_args, **warn_kwargs)\n",
      "/home/pavel/anaconda3/envs/rdkit_1709/lib/python3.6/site-packages/sklearn/utils/deprecation.py:122: FutureWarning: You are accessing a training score ('split0_train_score'), which will not be available by default any more in 0.21. If you need training scores, please set return_train_score=True\n",
      "  warnings.warn(*warn_args, **warn_kwargs)\n",
      "/home/pavel/anaconda3/envs/rdkit_1709/lib/python3.6/site-packages/sklearn/utils/deprecation.py:122: FutureWarning: You are accessing a training score ('split1_train_score'), which will not be available by default any more in 0.21. If you need training scores, please set return_train_score=True\n",
      "  warnings.warn(*warn_args, **warn_kwargs)\n",
      "/home/pavel/anaconda3/envs/rdkit_1709/lib/python3.6/site-packages/sklearn/utils/deprecation.py:122: FutureWarning: You are accessing a training score ('split2_train_score'), which will not be available by default any more in 0.21. If you need training scores, please set return_train_score=True\n",
      "  warnings.warn(*warn_args, **warn_kwargs)\n",
      "/home/pavel/anaconda3/envs/rdkit_1709/lib/python3.6/site-packages/sklearn/utils/deprecation.py:122: FutureWarning: You are accessing a training score ('split3_train_score'), which will not be available by default any more in 0.21. If you need training scores, please set return_train_score=True\n",
      "  warnings.warn(*warn_args, **warn_kwargs)\n",
      "/home/pavel/anaconda3/envs/rdkit_1709/lib/python3.6/site-packages/sklearn/utils/deprecation.py:122: FutureWarning: You are accessing a training score ('split4_train_score'), which will not be available by default any more in 0.21. If you need training scores, please set return_train_score=True\n",
      "  warnings.warn(*warn_args, **warn_kwargs)\n",
      "/home/pavel/anaconda3/envs/rdkit_1709/lib/python3.6/site-packages/sklearn/utils/deprecation.py:122: FutureWarning: You are accessing a training score ('std_train_score'), which will not be available by default any more in 0.21. If you need training scores, please set return_train_score=True\n",
      "  warnings.warn(*warn_args, **warn_kwargs)\n"
     ]
    },
    {
     "data": {
      "text/plain": [
       "{'mean_fit_time': array([ 0.43974266,  1.063236  ,  2.11319742,  0.50585008,  1.25326114,\n",
       "         2.50318117,  0.59313149,  1.46330037,  2.93135314,  0.77811685,\n",
       "         1.90513   ,  3.78337145]),\n",
       " 'mean_score_time': array([ 0.0058208 ,  0.01242886,  0.02454729,  0.00563025,  0.01228652,\n",
       "         0.02575684,  0.00623732,  0.01312051,  0.02400742,  0.00559726,\n",
       "         0.01271892,  0.02478085]),\n",
       " 'mean_test_score': array([ 0.82244788,  0.82429482,  0.82431274,  0.82595275,  0.82462201,\n",
       "         0.82400823,  0.82087411,  0.81995622,  0.82149084,  0.81660408,\n",
       "         0.81711913,  0.81820547]),\n",
       " 'mean_train_score': array([ 0.9744597 ,  0.97517995,  0.97540006,  0.97461553,  0.97513537,\n",
       "         0.97544694,  0.97432496,  0.97474317,  0.97520041,  0.9737482 ,\n",
       "         0.97424006,  0.97449761]),\n",
       " 'param_max_features': masked_array(data = [204 204 204 292 292 292 409 409 409 682 682 682],\n",
       "              mask = [False False False False False False False False False False False False],\n",
       "        fill_value = ?),\n",
       " 'param_n_estimators': masked_array(data = [100 250 500 100 250 500 100 250 500 100 250 500],\n",
       "              mask = [False False False False False False False False False False False False],\n",
       "        fill_value = ?),\n",
       " 'params': [{'max_features': 204, 'n_estimators': 100},\n",
       "  {'max_features': 204, 'n_estimators': 250},\n",
       "  {'max_features': 204, 'n_estimators': 500},\n",
       "  {'max_features': 292, 'n_estimators': 100},\n",
       "  {'max_features': 292, 'n_estimators': 250},\n",
       "  {'max_features': 292, 'n_estimators': 500},\n",
       "  {'max_features': 409, 'n_estimators': 100},\n",
       "  {'max_features': 409, 'n_estimators': 250},\n",
       "  {'max_features': 409, 'n_estimators': 500},\n",
       "  {'max_features': 682, 'n_estimators': 100},\n",
       "  {'max_features': 682, 'n_estimators': 250},\n",
       "  {'max_features': 682, 'n_estimators': 500}],\n",
       " 'rank_test_score': array([ 6,  4,  3,  1,  2,  5,  8,  9,  7, 12, 11, 10], dtype=int32),\n",
       " 'split0_test_score': array([ 0.84370865,  0.84642365,  0.84661735,  0.85270962,  0.85289722,\n",
       "         0.84835962,  0.84566122,  0.84215856,  0.84440252,  0.83164857,\n",
       "         0.84277637,  0.84698453]),\n",
       " 'split0_train_score': array([ 0.97527912,  0.97594876,  0.97543419,  0.9756341 ,  0.97602713,\n",
       "         0.97502736,  0.97393862,  0.97492282,  0.97459294,  0.97292636,\n",
       "         0.97411235,  0.97371241]),\n",
       " 'split1_test_score': array([ 0.79871743,  0.80604815,  0.80449065,  0.79846265,  0.79923991,\n",
       "         0.80087878,  0.79207837,  0.79743451,  0.80095472,  0.80005867,\n",
       "         0.79425955,  0.7971225 ]),\n",
       " 'split1_train_score': array([ 0.97524794,  0.97586572,  0.97672574,  0.97500329,  0.97587678,\n",
       "         0.97675469,  0.97642022,  0.97627226,  0.97697877,  0.9762504 ,\n",
       "         0.97552909,  0.97652604]),\n",
       " 'split2_test_score': array([ 0.76750532,  0.76778647,  0.76530467,  0.76423303,  0.75787466,\n",
       "         0.7608862 ,  0.76613589,  0.75918057,  0.75741067,  0.74396271,\n",
       "         0.74560148,  0.74133633]),\n",
       " 'split2_train_score': array([ 0.97644106,  0.97652041,  0.97662173,  0.97699131,  0.97671086,\n",
       "         0.9767329 ,  0.97756583,  0.9762678 ,  0.97647959,  0.97568219,\n",
       "         0.9759728 ,  0.9760833 ]),\n",
       " 'split3_test_score': array([ 0.83639123,  0.83586808,  0.83600831,  0.83793325,  0.83476697,\n",
       "         0.83408433,  0.82481411,  0.82694727,  0.83099494,  0.83349893,\n",
       "         0.82831251,  0.83095214]),\n",
       " 'split3_train_score': array([ 0.97297171,  0.97462872,  0.97511049,  0.97414833,  0.97492069,\n",
       "         0.97544899,  0.97272184,  0.97372826,  0.97474042,  0.97230103,\n",
       "         0.97370807,  0.97409555]),\n",
       " 'split4_test_score': array([ 0.86674882,  0.86611047,  0.86996194,  0.87733033,  0.87925669,\n",
       "         0.87672929,  0.87653237,  0.87494562,  0.87458564,  0.87492605,\n",
       "         0.87564169,  0.87563436]),\n",
       " 'split4_train_score': array([ 0.97235866,  0.97293615,  0.97310818,  0.97130062,  0.97214137,\n",
       "         0.97327074,  0.97097828,  0.97252471,  0.97321035,  0.97158103,\n",
       "         0.97187802,  0.97207076]),\n",
       " 'std_fit_time': array([ 0.00861522,  0.00838198,  0.01906991,  0.00916419,  0.01088126,\n",
       "         0.0240728 ,  0.01061312,  0.0067967 ,  0.0175873 ,  0.00806313,\n",
       "         0.01732519,  0.07429817]),\n",
       " 'std_score_time': array([ 0.0004733 ,  0.00064617,  0.00085728,  0.00022251,  0.00038008,\n",
       "         0.00191718,  0.00146684,  0.00068835,  0.00057449,  0.0003503 ,\n",
       "         0.0003627 ,  0.00072929]),\n",
       " 'std_test_score': array([ 0.03520062,  0.03436615,  0.03632901,  0.04017588,  0.04241249,\n",
       "         0.03999484,  0.03886363,  0.03941331,  0.03991564,  0.04350899,\n",
       "         0.04438781,  0.04615969]),\n",
       " 'std_train_score': array([ 0.00153929,  0.00128036,  0.00131054,  0.00189942,  0.00160232,\n",
       "         0.00128653,  0.00240054,  0.00145921,  0.00136674,  0.0018691 ,\n",
       "         0.00145207,  0.00163075])}"
      ]
     },
     "execution_count": 23,
     "metadata": {},
     "output_type": "execute_result"
    }
   ],
   "source": [
    "m.cv_results_"
   ]
  },
  {
   "cell_type": "code",
   "execution_count": 24,
   "metadata": {},
   "outputs": [
    {
     "data": {
      "text/plain": [
       "array([ 0.82244788,  0.82429482,  0.82431274,  0.82595275,  0.82462201,\n",
       "        0.82400823,  0.82087411,  0.81995622,  0.82149084,  0.81660408,\n",
       "        0.81711913,  0.81820547])"
      ]
     },
     "execution_count": 24,
     "metadata": {},
     "output_type": "execute_result"
    }
   ],
   "source": [
    "m.cv_results_['mean_test_score']"
   ]
  },
  {
   "cell_type": "code",
   "execution_count": 25,
   "metadata": {},
   "outputs": [
    {
     "data": {
      "text/plain": [
       "[{'max_features': 204, 'n_estimators': 100},\n",
       " {'max_features': 204, 'n_estimators': 250},\n",
       " {'max_features': 204, 'n_estimators': 500},\n",
       " {'max_features': 292, 'n_estimators': 100},\n",
       " {'max_features': 292, 'n_estimators': 250},\n",
       " {'max_features': 292, 'n_estimators': 500},\n",
       " {'max_features': 409, 'n_estimators': 100},\n",
       " {'max_features': 409, 'n_estimators': 250},\n",
       " {'max_features': 409, 'n_estimators': 500},\n",
       " {'max_features': 682, 'n_estimators': 100},\n",
       " {'max_features': 682, 'n_estimators': 250},\n",
       " {'max_features': 682, 'n_estimators': 500}]"
      ]
     },
     "execution_count": 25,
     "metadata": {},
     "output_type": "execute_result"
    }
   ],
   "source": [
    "m.cv_results_['params']"
   ]
  },
  {
   "cell_type": "markdown",
   "metadata": {},
   "source": [
    "#### Save model"
   ]
  },
  {
   "cell_type": "code",
   "execution_count": 26,
   "metadata": {},
   "outputs": [
    {
     "data": {
      "text/plain": [
       "['data/cdk2_rf_morgan.pkl']"
      ]
     },
     "execution_count": 26,
     "metadata": {},
     "output_type": "execute_result"
    }
   ],
   "source": [
    "joblib.dump(m, \"data/cdk2_rf_morgan.pkl\", compress=3)"
   ]
  },
  {
   "cell_type": "markdown",
   "metadata": {
    "collapsed": true
   },
   "source": [
    "#### Predict test set compounds"
   ]
  },
  {
   "cell_type": "code",
   "execution_count": 27,
   "metadata": {
    "collapsed": true
   },
   "outputs": [],
   "source": [
    "# load scale if necessary\n",
    "scale = joblib.load(\"data/cdk2_scale.pkl\")"
   ]
  },
  {
   "cell_type": "code",
   "execution_count": 28,
   "metadata": {
    "collapsed": true
   },
   "outputs": [],
   "source": [
    "# scale descriptors of the test set compounds\n",
    "x_ts = scale.transform(x_ts)"
   ]
  },
  {
   "cell_type": "code",
   "execution_count": 29,
   "metadata": {
    "collapsed": true
   },
   "outputs": [],
   "source": [
    "# predict logBB class\n",
    "pred_rf = m.predict(x_ts)"
   ]
  },
  {
   "cell_type": "code",
   "execution_count": 30,
   "metadata": {},
   "outputs": [
    {
     "data": {
      "text/plain": [
       "array([ 5.1242    ,  5.0938    ,  6.0336    ,  6.0663    ,  3.406     ,\n",
       "        5.5094    ,  7.91364667,  4.8825    ,  6.1639    ,  3.49841429,\n",
       "        5.7479    ,  5.2743    ,  7.7339    ,  5.6839    ,  5.3614    ,\n",
       "        4.8932    ,  6.44295   ,  7.673     ,  5.2463    ,  5.969     ,\n",
       "        7.8057    ,  6.6925    ,  5.904     ,  3.1482    ,  7.40329167,\n",
       "        6.30645   ,  6.6641    ,  5.1085    ,  3.1579    ,  4.9138    ,\n",
       "        3.2461    ,  6.7047    ,  5.5022    ,  6.4876    ,  3.1818    ,\n",
       "        5.3699    ,  7.4821    ,  7.480475  ,  6.3039    ,  5.4793    ,\n",
       "        5.678     ,  7.7891    ,  7.8667    ,  4.9742    ,  5.4033    ,\n",
       "        3.788     ,  5.5545    ,  6.6088    ,  4.9536    ,  8.2435    ,\n",
       "        3.1851    ,  6.84835   ,  8.0315    ,  7.6852    ,  6.1304    ,\n",
       "        6.5793    ,  5.8147    ,  5.716     ,  5.6002    ,  7.91295   ,\n",
       "        3.3677    ,  7.22131667,  5.5326    ,  5.854     ,  6.6594    ,\n",
       "        7.4208    ,  7.2851    ,  3.1957    ,  3.3707    ,  5.8195    ,\n",
       "        6.091     ,  5.113     ,  3.4487    ,  3.1658    ,  6.0856    ,\n",
       "        7.57945   ,  6.6713    ,  6.4166    ,  6.3082    ,  7.480475  ,\n",
       "        7.9443    ,  5.8656    ,  2.99      ,  5.8666    ,  6.6299    ,\n",
       "        6.6621    ,  6.9419    ,  6.6095    ])"
      ]
     },
     "execution_count": 30,
     "metadata": {},
     "output_type": "execute_result"
    }
   ],
   "source": [
    "pred_rf"
   ]
  },
  {
   "cell_type": "markdown",
   "metadata": {},
   "source": [
    "#### calc statistics for test set preditions"
   ]
  },
  {
   "cell_type": "code",
   "execution_count": 31,
   "metadata": {},
   "outputs": [
    {
     "data": {
      "text/plain": [
       "0.74986729188656931"
      ]
     },
     "execution_count": 31,
     "metadata": {},
     "output_type": "execute_result"
    }
   ],
   "source": [
    "r2_score(y_ts, pred_rf)"
   ]
  },
  {
   "cell_type": "code",
   "execution_count": 32,
   "metadata": {},
   "outputs": [
    {
     "data": {
      "text/plain": [
       "0.64678320494970787"
      ]
     },
     "execution_count": 32,
     "metadata": {},
     "output_type": "execute_result"
    }
   ],
   "source": [
    "mean_squared_error(y_ts, pred_rf)"
   ]
  },
  {
   "cell_type": "markdown",
   "metadata": {},
   "source": [
    "#### Build SVM model"
   ]
  },
  {
   "cell_type": "code",
   "execution_count": 33,
   "metadata": {
    "collapsed": true
   },
   "outputs": [],
   "source": [
    "# create grid search dictionary\n",
    "param_grid = {\"C\": [10 ** i for i in range(0, 5)],\n",
    "              \"epsilon\": [10 ** i for i in range(-6, 0)]}"
   ]
  },
  {
   "cell_type": "code",
   "execution_count": 34,
   "metadata": {
    "collapsed": true
   },
   "outputs": [],
   "source": [
    "# setup model building\n",
    "svm = GridSearchCV(SVR(kernel='rbf'), param_grid, n_jobs=2, cv=cv, verbose=1)"
   ]
  },
  {
   "cell_type": "code",
   "execution_count": 35,
   "metadata": {},
   "outputs": [
    {
     "name": "stdout",
     "output_type": "stream",
     "text": [
      "Fitting 5 folds for each of 30 candidates, totalling 150 fits\n"
     ]
    },
    {
     "name": "stderr",
     "output_type": "stream",
     "text": [
      "[Parallel(n_jobs=2)]: Done  46 tasks      | elapsed:   10.9s\n",
      "[Parallel(n_jobs=2)]: Done 150 out of 150 | elapsed:   37.2s finished\n"
     ]
    },
    {
     "data": {
      "text/plain": [
       "GridSearchCV(cv=KFold(n_splits=5, random_state=42, shuffle=True),\n",
       "       error_score='raise',\n",
       "       estimator=SVR(C=1.0, cache_size=200, coef0=0.0, degree=3, epsilon=0.1, gamma='auto',\n",
       "  kernel='rbf', max_iter=-1, shrinking=True, tol=0.001, verbose=False),\n",
       "       fit_params=None, iid=True, n_jobs=2,\n",
       "       param_grid={'C': [1, 10, 100, 1000, 10000], 'epsilon': [1e-06, 1e-05, 0.0001, 0.001, 0.01, 0.1]},\n",
       "       pre_dispatch='2*n_jobs', refit=True, return_train_score='warn',\n",
       "       scoring=None, verbose=1)"
      ]
     },
     "execution_count": 35,
     "metadata": {},
     "output_type": "execute_result"
    }
   ],
   "source": [
    "# run model building\n",
    "svm.fit(x_tr, y_tr)"
   ]
  },
  {
   "cell_type": "code",
   "execution_count": 36,
   "metadata": {},
   "outputs": [
    {
     "data": {
      "text/plain": [
       "0.80950415195815384"
      ]
     },
     "execution_count": 36,
     "metadata": {},
     "output_type": "execute_result"
    }
   ],
   "source": [
    "svm.best_score_"
   ]
  },
  {
   "cell_type": "code",
   "execution_count": 37,
   "metadata": {},
   "outputs": [
    {
     "data": {
      "text/plain": [
       "{'C': 10000, 'epsilon': 0.01}"
      ]
     },
     "execution_count": 37,
     "metadata": {},
     "output_type": "execute_result"
    }
   ],
   "source": [
    "svm.best_params_"
   ]
  },
  {
   "cell_type": "code",
   "execution_count": 38,
   "metadata": {},
   "outputs": [
    {
     "data": {
      "text/plain": [
       "['data/cdk2_svm_morgan.pkl']"
      ]
     },
     "execution_count": 38,
     "metadata": {},
     "output_type": "execute_result"
    }
   ],
   "source": [
    "# save model\n",
    "joblib.dump(svm, \"data/cdk2_svm_morgan.pkl\", compress=3)"
   ]
  },
  {
   "cell_type": "code",
   "execution_count": 39,
   "metadata": {
    "collapsed": true
   },
   "outputs": [],
   "source": [
    "# predict logBB for the test set compounds\n",
    "pred_svm = svm.predict(x_ts)"
   ]
  },
  {
   "cell_type": "code",
   "execution_count": 40,
   "metadata": {},
   "outputs": [
    {
     "data": {
      "text/plain": [
       "array([ 5.66802323,  5.45302966,  5.74827794,  6.28231306,  3.68217307,\n",
       "        5.03338535,  7.83410666,  5.32160787,  6.08069032,  3.49003741,\n",
       "        5.96242928,  5.24754324,  7.78562762,  6.08794196,  4.97492053,\n",
       "        5.10118795,  6.10038827,  7.44904963,  5.29397858,  5.35692823,\n",
       "        7.37436845,  6.20550578,  6.00895689,  3.07772578,  7.44000131,\n",
       "        6.13632873,  6.41863175,  5.50961674,  3.16104808,  6.04522979,\n",
       "        3.62739271,  6.53114345,  5.45642348,  6.55647625,  3.42924382,\n",
       "        5.3390879 ,  7.41013647,  7.52135196,  6.26538145,  5.58193324,\n",
       "        5.83806774,  7.77169065,  8.06264414,  4.88824675,  4.93601489,\n",
       "        4.54626245,  5.71808958,  6.69016971,  5.06625741,  8.38953374,\n",
       "        3.45494682,  6.35058824,  8.07294886,  7.79224245,  5.93900653,\n",
       "        6.42044934,  5.91928604,  5.87856618,  6.14475884,  7.87171552,\n",
       "        3.29705807,  7.20011964,  5.85968408,  6.12916142,  6.44170482,\n",
       "        7.73845643,  7.51029075,  2.73784354,  3.38348522,  6.08945167,\n",
       "        5.17504084,  5.23424118,  3.5605228 ,  3.02120241,  5.94955583,\n",
       "        7.56432845,  6.85484426,  6.17000549,  6.0167161 ,  7.52135196,\n",
       "        7.71011509,  5.87799205,  2.92962015,  6.16770894,  6.54872472,\n",
       "        6.71027894,  6.94997525,  6.60356334])"
      ]
     },
     "execution_count": 40,
     "metadata": {},
     "output_type": "execute_result"
    }
   ],
   "source": [
    "pred_svm"
   ]
  },
  {
   "cell_type": "code",
   "execution_count": 41,
   "metadata": {},
   "outputs": [
    {
     "name": "stdout",
     "output_type": "stream",
     "text": [
      "R2 =  0.773136944715\n",
      "MSE =  0.586613462463\n"
     ]
    }
   ],
   "source": [
    "# calc statistics\n",
    "print(\"R2 = \", r2_score(y_ts, pred_svm))\n",
    "print(\"MSE = \", mean_squared_error(y_ts, pred_svm))"
   ]
  },
  {
   "cell_type": "markdown",
   "metadata": {},
   "source": [
    "### build the third model (GBM)"
   ]
  },
  {
   "cell_type": "code",
   "execution_count": 42,
   "metadata": {
    "collapsed": true
   },
   "outputs": [],
   "source": [
    "# setup model building\n",
    "param_grid = {\"n_estimators\": [100, 200, 300, 400, 500]}\n",
    "gbm = GridSearchCV(GradientBoostingRegressor(subsample=0.5, max_features=0.5), \n",
    "                   param_grid, n_jobs=2, cv=cv, verbose=1)"
   ]
  },
  {
   "cell_type": "code",
   "execution_count": 43,
   "metadata": {},
   "outputs": [
    {
     "name": "stdout",
     "output_type": "stream",
     "text": [
      "Fitting 5 folds for each of 5 candidates, totalling 25 fits\n"
     ]
    },
    {
     "name": "stderr",
     "output_type": "stream",
     "text": [
      "[Parallel(n_jobs=2)]: Done  25 out of  25 | elapsed:   21.0s finished\n"
     ]
    },
    {
     "data": {
      "text/plain": [
       "GridSearchCV(cv=KFold(n_splits=5, random_state=42, shuffle=True),\n",
       "       error_score='raise',\n",
       "       estimator=GradientBoostingRegressor(alpha=0.9, criterion='friedman_mse', init=None,\n",
       "             learning_rate=0.1, loss='ls', max_depth=3, max_features=0.5,\n",
       "             max_leaf_nodes=None, min_impurity_decrease=0.0,\n",
       "             min_impurity_split=None, min_samples_leaf=1,\n",
       "             min_samples_split=2, min_weight_fraction_leaf=0.0,\n",
       "             n_estimators=100, presort='auto', random_state=None,\n",
       "             subsample=0.5, verbose=0, warm_start=False),\n",
       "       fit_params=None, iid=True, n_jobs=2,\n",
       "       param_grid={'n_estimators': [100, 200, 300, 400, 500]},\n",
       "       pre_dispatch='2*n_jobs', refit=True, return_train_score='warn',\n",
       "       scoring=None, verbose=1)"
      ]
     },
     "execution_count": 43,
     "metadata": {},
     "output_type": "execute_result"
    }
   ],
   "source": [
    "# run model building\n",
    "gbm.fit(x_tr, y_tr)"
   ]
  },
  {
   "cell_type": "code",
   "execution_count": 44,
   "metadata": {},
   "outputs": [
    {
     "data": {
      "text/plain": [
       "0.82742753830274574"
      ]
     },
     "execution_count": 44,
     "metadata": {},
     "output_type": "execute_result"
    }
   ],
   "source": [
    "gbm.best_score_"
   ]
  },
  {
   "cell_type": "code",
   "execution_count": 45,
   "metadata": {},
   "outputs": [
    {
     "data": {
      "text/plain": [
       "{'n_estimators': 500}"
      ]
     },
     "execution_count": 45,
     "metadata": {},
     "output_type": "execute_result"
    }
   ],
   "source": [
    "gbm.best_params_"
   ]
  },
  {
   "cell_type": "code",
   "execution_count": 46,
   "metadata": {
    "collapsed": true
   },
   "outputs": [],
   "source": [
    "pred_gbm = gbm.predict(x_ts)"
   ]
  },
  {
   "cell_type": "code",
   "execution_count": 47,
   "metadata": {},
   "outputs": [
    {
     "name": "stdout",
     "output_type": "stream",
     "text": [
      "R2 =  0.759896549998\n",
      "MSE =  0.620849948345\n"
     ]
    }
   ],
   "source": [
    "# calc statistics\n",
    "print(\"R2 = \", r2_score(y_ts, pred_gbm))\n",
    "print(\"MSE = \", mean_squared_error(y_ts, pred_gbm))"
   ]
  },
  {
   "cell_type": "markdown",
   "metadata": {},
   "source": [
    "### compute consensus predictions from RF, SVM and GBM models"
   ]
  },
  {
   "cell_type": "code",
   "execution_count": 48,
   "metadata": {
    "collapsed": true
   },
   "outputs": [],
   "source": [
    "pred_c = (pred_rf + pred_svm + pred_gbm) / 3"
   ]
  },
  {
   "cell_type": "code",
   "execution_count": 49,
   "metadata": {},
   "outputs": [
    {
     "data": {
      "text/plain": [
       "array([ 5.20242097,  5.5620629 ,  5.76670732,  6.2705815 ,  3.53865542,\n",
       "        5.32982032,  7.9469266 ,  4.95884111,  6.08913478,  3.48341023,\n",
       "        5.84672999,  5.17799862,  7.64595922,  5.9805871 ,  5.15474565,\n",
       "        4.95505229,  6.28877498,  7.55133906,  5.11733335,  5.62243285,\n",
       "        7.65186533,  6.41110407,  5.86699892,  3.07435794,  7.43644808,\n",
       "        6.41972364,  6.44277429,  5.30059041,  3.21177904,  5.38918283,\n",
       "        3.41885219,  6.53448342,  5.40790131,  6.57577037,  3.27159537,\n",
       "        5.31099099,  7.46218756,  7.48158385,  6.44761867,  5.46724339,\n",
       "        5.94332709,  7.78434749,  8.0339859 ,  4.92387383,  5.14461168,\n",
       "        3.92629588,  5.5909081 ,  6.65146421,  4.82041171,  8.25864596,\n",
       "        3.26821405,  7.02354249,  8.20230716,  7.71929047,  5.78674582,\n",
       "        6.55482927,  5.86439425,  5.78428058,  5.86514906,  7.96963443,\n",
       "        3.28229227,  7.2606603 ,  5.51848371,  5.81793297,  6.59341902,\n",
       "        7.63256975,  7.35482264,  2.95992492,  3.42695274,  5.93352699,\n",
       "        5.64420035,  5.22919124,  3.46383657,  3.06515201,  6.05628816,\n",
       "        7.46996139,  6.7642772 ,  6.29966121,  6.28458428,  7.48158385,\n",
       "        7.91387864,  5.73913877,  2.95445093,  6.28676255,  6.69718067,\n",
       "        6.71268545,  6.90846767,  6.67579826])"
      ]
     },
     "execution_count": 49,
     "metadata": {},
     "output_type": "execute_result"
    }
   ],
   "source": [
    "pred_c"
   ]
  },
  {
   "cell_type": "code",
   "execution_count": 50,
   "metadata": {},
   "outputs": [
    {
     "name": "stdout",
     "output_type": "stream",
     "text": [
      "R2 =  0.775465310526\n",
      "MSE =  0.580592866785\n"
     ]
    }
   ],
   "source": [
    "# calc statistics\n",
    "print(\"R2 = \", r2_score(y_ts, pred_c))\n",
    "print(\"MSE = \", mean_squared_error(y_ts, pred_c))"
   ]
  },
  {
   "cell_type": "code",
   "execution_count": 51,
   "metadata": {},
   "outputs": [
    {
     "data": {
      "image/png": "[encoded data removed]",
      "text/plain": [
       "<matplotlib.figure.Figure at 0x7fc6848f1ba8>"
      ]
     },
     "metadata": {},
     "output_type": "display_data"
    }
   ],
   "source": [
    "fig = plt.figure()\n",
    "ax = fig.add_subplot(111)\n",
    "ax.xaxis.label.set_color('white')\n",
    "ax.tick_params(axis='x', colors='white')\n",
    "ax.yaxis.label.set_color('white')\n",
    "ax.tick_params(axis='y', colors='white')\n",
    "plt.scatter(y_ts, pred_c)\n",
    "plt.xlabel('observed')\n",
    "plt.ylabel('predicted')\n",
    "plt.show()"
   ]
  },
  {
   "cell_type": "markdown",
   "metadata": {},
   "source": [
    "### Apply applicability domain based on deviation of predition among several models"
   ]
  },
  {
   "cell_type": "code",
   "execution_count": 52,
   "metadata": {},
   "outputs": [
    {
     "data": {
      "text/plain": [
       "(88, 3)"
      ]
     },
     "execution_count": 52,
     "metadata": {},
     "output_type": "execute_result"
    }
   ],
   "source": [
    "pred_all = np.column_stack((pred_rf, pred_svm, pred_gbm))\n",
    "pred_all.shape"
   ]
  },
  {
   "cell_type": "code",
   "execution_count": 53,
   "metadata": {
    "collapsed": true
   },
   "outputs": [],
   "source": [
    "std = np.std(pred_all, 1)"
   ]
  },
  {
   "cell_type": "code",
   "execution_count": 54,
   "metadata": {
    "collapsed": true
   },
   "outputs": [],
   "source": [
    "# ids for std < 0.5\n",
    "ids_05 = std < 0.5"
   ]
  },
  {
   "cell_type": "code",
   "execution_count": 55,
   "metadata": {
    "collapsed": true
   },
   "outputs": [],
   "source": [
    "pred_all_05 = np.mean(pred_all[ids_05], 1)"
   ]
  },
  {
   "cell_type": "code",
   "execution_count": 56,
   "metadata": {},
   "outputs": [
    {
     "name": "stdout",
     "output_type": "stream",
     "text": [
      "R2 =  0.773510816466\n",
      "MSE =  0.585886660577\n"
     ]
    }
   ],
   "source": [
    "print(\"R2 = \", r2_score(np.array(y_ts)[ids_05], pred_all_05))\n",
    "print(\"MSE = \", mean_squared_error(np.array(y_ts)[ids_05], pred_all_05))"
   ]
  },
  {
   "cell_type": "code",
   "execution_count": 57,
   "metadata": {},
   "outputs": [],
   "source": [
    "# ids for std < 0.4\n",
    "ids_025 = std < 0.25"
   ]
  },
  {
   "cell_type": "code",
   "execution_count": 58,
   "metadata": {
    "collapsed": true
   },
   "outputs": [],
   "source": [
    "pred_all_025 = np.mean(pred_all[ids_025], 1)"
   ]
  },
  {
   "cell_type": "code",
   "execution_count": 59,
   "metadata": {},
   "outputs": [
    {
     "name": "stdout",
     "output_type": "stream",
     "text": [
      "R2 =  0.842055369793\n",
      "MSE =  0.440583318309\n"
     ]
    }
   ],
   "source": [
    "print(\"R2 = \", r2_score(np.array(y_ts)[ids_025], pred_all_025))\n",
    "print(\"MSE = \", mean_squared_error(np.array(y_ts)[ids_025], pred_all_025))"
   ]
  },
  {
   "cell_type": "code",
   "execution_count": 86,
   "metadata": {},
   "outputs": [
    {
     "name": "stdout",
     "output_type": "stream",
     "text": [
      "Coverage at std = 0.5:  0.989\n"
     ]
    }
   ],
   "source": [
    "print(\"Coverage at std = 0.5: \", round(pred_all_05.shape[0] / len(y_ts), 3))"
   ]
  },
  {
   "cell_type": "code",
   "execution_count": 87,
   "metadata": {},
   "outputs": [
    {
     "name": "stdout",
     "output_type": "stream",
     "text": [
      "Coverage at std = 0.25:  0.83\n"
     ]
    }
   ],
   "source": [
    "print(\"Coverage at std = 0.25: \", round(pred_all_025.shape[0] / len(y_ts), 3))"
   ]
  },
  {
   "cell_type": "markdown",
   "metadata": {
    "collapsed": true
   },
   "source": [
    "### Add to Morgan fingerprints some other descriptors and look at the model performance"
   ]
  },
  {
   "cell_type": "code",
   "execution_count": 62,
   "metadata": {
    "collapsed": true
   },
   "outputs": [],
   "source": [
    "# calc some descriptors\n",
    "descr = []\n",
    "for m in mols:\n",
    "    descr.append([Descriptors.MolLogP(m),\n",
    "                  Descriptors.TPSA(m),\n",
    "                  Descriptors.NHOHCount(m),\n",
    "                  Descriptors.NOCount(m),\n",
    "                  Descriptors.NumHAcceptors(m),\n",
    "                  Descriptors.NumHDonors(m),\n",
    "                  Descriptors.NumRotatableBonds(m),\n",
    "                  Descriptors.NumHeteroatoms(m),\n",
    "                  Descriptors.FractionCSP3(m)])\n",
    "descr = np.asarray(descr)"
   ]
  },
  {
   "cell_type": "code",
   "execution_count": 63,
   "metadata": {},
   "outputs": [
    {
     "data": {
      "text/plain": [
       "(436, 9)"
      ]
     },
     "execution_count": 63,
     "metadata": {},
     "output_type": "execute_result"
    }
   ],
   "source": [
    "descr.shape"
   ]
  },
  {
   "cell_type": "code",
   "execution_count": 64,
   "metadata": {
    "collapsed": true
   },
   "outputs": [],
   "source": [
    "# add them to morgan fingerprints\n",
    "x = np.concatenate((x, descr), axis=1)"
   ]
  },
  {
   "cell_type": "code",
   "execution_count": 65,
   "metadata": {},
   "outputs": [
    {
     "data": {
      "text/plain": [
       "(436, 2057)"
      ]
     },
     "execution_count": 65,
     "metadata": {},
     "output_type": "execute_result"
    }
   ],
   "source": [
    "x.shape"
   ]
  },
  {
   "cell_type": "code",
   "execution_count": 66,
   "metadata": {
    "collapsed": true
   },
   "outputs": [],
   "source": [
    "# randomly select 20% of compounds as test set\n",
    "x_tr, x_ts, y_tr, y_ts = train_test_split(x, y, test_size=0.20, random_state=seed)"
   ]
  },
  {
   "cell_type": "code",
   "execution_count": 67,
   "metadata": {
    "collapsed": true
   },
   "outputs": [],
   "source": [
    "scale = StandardScaler().fit(x_tr)\n",
    "x_tr = scale.transform(x_tr)"
   ]
  },
  {
   "cell_type": "code",
   "execution_count": 68,
   "metadata": {
    "collapsed": true
   },
   "outputs": [],
   "source": [
    "# create grid search dictionary\n",
    "param_grid = {\"max_features\": [x_tr.shape[1] // 10, x_tr.shape[1] // 7, x_tr.shape[1] // 5, x_tr.shape[1] // 3], \n",
    "              \"n_estimators\": [100, 250, 500]}"
   ]
  },
  {
   "cell_type": "code",
   "execution_count": 69,
   "metadata": {
    "collapsed": true
   },
   "outputs": [],
   "source": [
    "# setup model building\n",
    "m = GridSearchCV(RandomForestRegressor(), param_grid, n_jobs=2, cv=cv, verbose=1)"
   ]
  },
  {
   "cell_type": "code",
   "execution_count": 70,
   "metadata": {},
   "outputs": [
    {
     "name": "stdout",
     "output_type": "stream",
     "text": [
      "Fitting 5 folds for each of 12 candidates, totalling 60 fits\n"
     ]
    },
    {
     "name": "stderr",
     "output_type": "stream",
     "text": [
      "[Parallel(n_jobs=2)]: Done  46 tasks      | elapsed:   37.1s\n",
      "[Parallel(n_jobs=2)]: Done  60 out of  60 | elapsed:   54.5s finished\n"
     ]
    },
    {
     "data": {
      "text/plain": [
       "GridSearchCV(cv=KFold(n_splits=5, random_state=42, shuffle=True),\n",
       "       error_score='raise',\n",
       "       estimator=RandomForestRegressor(bootstrap=True, criterion='mse', max_depth=None,\n",
       "           max_features='auto', max_leaf_nodes=None,\n",
       "           min_impurity_decrease=0.0, min_impurity_split=None,\n",
       "           min_samples_leaf=1, min_samples_split=2,\n",
       "           min_weight_fraction_leaf=0.0, n_estimators=10, n_jobs=1,\n",
       "           oob_score=False, random_state=None, verbose=0, warm_start=False),\n",
       "       fit_params=None, iid=True, n_jobs=2,\n",
       "       param_grid={'max_features': [205, 293, 411, 685], 'n_estimators': [100, 250, 500]},\n",
       "       pre_dispatch='2*n_jobs', refit=True, return_train_score='warn',\n",
       "       scoring=None, verbose=1)"
      ]
     },
     "execution_count": 70,
     "metadata": {},
     "output_type": "execute_result"
    }
   ],
   "source": [
    "# run model building\n",
    "m.fit(x_tr, y_tr)"
   ]
  },
  {
   "cell_type": "code",
   "execution_count": 71,
   "metadata": {},
   "outputs": [
    {
     "data": {
      "text/plain": [
       "0.83362564807259021"
      ]
     },
     "execution_count": 71,
     "metadata": {},
     "output_type": "execute_result"
    }
   ],
   "source": [
    "m.best_score_"
   ]
  },
  {
   "cell_type": "code",
   "execution_count": 72,
   "metadata": {
    "collapsed": true
   },
   "outputs": [],
   "source": [
    "# scale descriptors of the test set compounds\n",
    "x_ts = scale.transform(x_ts)"
   ]
  },
  {
   "cell_type": "code",
   "execution_count": 73,
   "metadata": {
    "collapsed": true
   },
   "outputs": [],
   "source": [
    "# predict logBB for the test set compounds\n",
    "pred = m.predict(x_ts)"
   ]
  },
  {
   "cell_type": "code",
   "execution_count": 74,
   "metadata": {},
   "outputs": [
    {
     "data": {
      "text/plain": [
       "array([ 5.14418   ,  5.3156    ,  6.05116667,  5.95838   ,  3.4197    ,\n",
       "        5.66184   ,  7.73360762,  4.66506   ,  6.20112   ,  3.5164    ,\n",
       "        5.7916    ,  5.28232   ,  7.82451667,  5.59804   ,  5.42686   ,\n",
       "        4.81124   ,  6.40748   ,  7.65818   ,  5.492     ,  5.91272   ,\n",
       "        7.60072   ,  6.63948   ,  6.17572   ,  3.1167    ,  7.39970524,\n",
       "        6.30514   ,  6.6666    ,  5.4077    ,  3.12656   ,  5.6066    ,\n",
       "        3.30808   ,  6.78292   ,  5.46836   ,  6.51642   ,  3.23868   ,\n",
       "        5.39086   ,  7.43366   ,  7.38657714,  6.50136   ,  5.7179    ,\n",
       "        5.61342   ,  7.75628   ,  7.88177067,  5.06352   ,  5.49858   ,\n",
       "        4.82192   ,  5.5465    ,  6.58276   ,  5.07664   ,  8.1994    ,\n",
       "        3.29916   ,  6.66872   ,  8.0659    ,  7.68304   ,  6.27838   ,\n",
       "        6.56528   ,  5.772     ,  5.6983    ,  5.94948   ,  7.87393333,\n",
       "        3.36376   ,  7.22028924,  5.35406   ,  6.02034   ,  6.74066   ,\n",
       "        7.5242    ,  7.25038   ,  3.20878   ,  3.33528   ,  5.61692   ,\n",
       "        6.011845  ,  5.62624   ,  3.45158   ,  3.15362   ,  6.1223    ,\n",
       "        7.51986   ,  6.75974   ,  6.43052   ,  6.36597667,  7.38657714,\n",
       "        7.96420229,  5.9425    ,  3.00645   ,  5.99926667,  6.52936   ,\n",
       "        6.66694   ,  6.86838   ,  6.65692   ])"
      ]
     },
     "execution_count": 74,
     "metadata": {},
     "output_type": "execute_result"
    }
   ],
   "source": [
    "pred"
   ]
  },
  {
   "cell_type": "code",
   "execution_count": 75,
   "metadata": {},
   "outputs": [
    {
     "name": "stdout",
     "output_type": "stream",
     "text": [
      "R2 =  0.764269125926\n",
      "MSE =  0.609543515476\n"
     ]
    }
   ],
   "source": [
    "# calc statistics\n",
    "print(\"R2 = \", r2_score(y_ts, pred))\n",
    "print(\"MSE = \", mean_squared_error(y_ts, pred))"
   ]
  },
  {
   "cell_type": "markdown",
   "metadata": {},
   "source": [
    "The model has a better accuracy. Added descritors improved the model predictivity."
   ]
  },
  {
   "cell_type": "markdown",
   "metadata": {
    "collapsed": true
   },
   "source": [
    "#### Let's try to analyse which variables are the most important in the model"
   ]
  },
  {
   "cell_type": "code",
   "execution_count": 76,
   "metadata": {},
   "outputs": [
    {
     "data": {
      "text/plain": [
       "RandomForestRegressor(bootstrap=True, criterion='mse', max_depth=None,\n",
       "           max_features=205, max_leaf_nodes=None,\n",
       "           min_impurity_decrease=0.0, min_impurity_split=None,\n",
       "           min_samples_leaf=1, min_samples_split=2,\n",
       "           min_weight_fraction_leaf=0.0, n_estimators=500, n_jobs=1,\n",
       "           oob_score=False, random_state=42, verbose=0, warm_start=False)"
      ]
     },
     "execution_count": 76,
     "metadata": {},
     "output_type": "execute_result"
    }
   ],
   "source": [
    "# rebuild RF model manually using best parameters to be able to extract additional information from the model\n",
    "rf = RandomForestRegressor(n_estimators=m.best_params_[\"n_estimators\"], \n",
    "                           max_features=m.best_params_[\"max_features\"],\n",
    "                           random_state=seed)\n",
    "rf.fit(x_tr, y_tr)"
   ]
  },
  {
   "cell_type": "code",
   "execution_count": 77,
   "metadata": {
    "collapsed": true
   },
   "outputs": [],
   "source": [
    "imp = rf.feature_importances_"
   ]
  },
  {
   "cell_type": "code",
   "execution_count": 78,
   "metadata": {},
   "outputs": [
    {
     "data": {
      "text/plain": [
       "array([ 0.        ,  0.00710574,  0.00059793, ...,  0.00484631,\n",
       "        0.05665707,  0.01171848])"
      ]
     },
     "execution_count": 78,
     "metadata": {},
     "output_type": "execute_result"
    }
   ],
   "source": [
    "imp"
   ]
  },
  {
   "cell_type": "code",
   "execution_count": 79,
   "metadata": {},
   "outputs": [
    {
     "name": "stdout",
     "output_type": "stream",
     "text": [
      "Feature ranking:\n",
      "1. feature 2051 (0.073766)\n",
      "2. feature 2049 (0.071657)\n",
      "3. feature 2052 (0.069803)\n",
      "4. feature 2055 (0.056657)\n",
      "5. feature 378 (0.039313)\n",
      "6. feature 1357 (0.035197)\n",
      "7. feature 1573 (0.027207)\n",
      "8. feature 191 (0.027054)\n",
      "9. feature 1783 (0.023748)\n",
      "10. feature 1535 (0.021051)\n"
     ]
    }
   ],
   "source": [
    "indices = np.argsort(imp)[::-1]\n",
    "\n",
    "print(\"Feature ranking:\")\n",
    "\n",
    "# print top 10 features\n",
    "for i in range(10):\n",
    "    print(\"%d. feature %d (%f)\" % (i + 1, indices[i], imp[indices[i]]))"
   ]
  },
  {
   "cell_type": "markdown",
   "metadata": {},
   "source": [
    "2049 - MolLogP  \n",
    "2050 - TPSA(m)  \n",
    "2051 - NHOHCount  \n",
    "2052 - NOCount \n",
    "2053 - NumHAcceptors  \n",
    "2054 - NumHDonors  \n",
    "2055 - NumRotatableBonds  \n",
    "2056 - NumHeteroatoms  \n",
    "2057 - FractionCSP3\n",
    "\n",
    "features with numbers 1-2048 are different Morgan fingerprints  "
   ]
  },
  {
   "cell_type": "code",
   "execution_count": null,
   "metadata": {
    "collapsed": true
   },
   "outputs": [],
   "source": []
  },
  {
   "cell_type": "code",
   "execution_count": null,
   "metadata": {
    "collapsed": true
   },
   "outputs": [],
   "source": []
  },
  {
   "cell_type": "code",
   "execution_count": null,
   "metadata": {},
   "outputs": [],
   "source": []
  },
  {
   "cell_type": "code",
   "execution_count": 83,
   "metadata": {},
   "outputs": [
    {
     "ename": "ValueError",
     "evalue": "Number of features of the model must match the input. Model n_features is 2057 and input n_features is 2048 ",
     "output_type": "error",
     "traceback": [
      "\u001b[0;31m---------------------------------------------------------------------------\u001b[0m",
      "\u001b[0;31mValueError\u001b[0m                                Traceback (most recent call last)",
      "\u001b[0;32m<ipython-input-83-d3024aa8e960>\u001b[0m in \u001b[0;36m<module>\u001b[0;34m()\u001b[0m\n\u001b[1;32m      6\u001b[0m \u001b[0;34m\u001b[0m\u001b[0m\n\u001b[1;32m      7\u001b[0m \u001b[0mm5\u001b[0m \u001b[0;34m=\u001b[0m \u001b[0mChem\u001b[0m\u001b[0;34m.\u001b[0m\u001b[0mMolFromSmiles\u001b[0m\u001b[0;34m(\u001b[0m\u001b[0;34m'c1ccccc1O'\u001b[0m\u001b[0;34m)\u001b[0m\u001b[0;34m\u001b[0m\u001b[0m\n\u001b[0;32m----> 8\u001b[0;31m \u001b[0mfig\u001b[0m\u001b[0;34m,\u001b[0m \u001b[0mmaxweight\u001b[0m \u001b[0;34m=\u001b[0m \u001b[0mSimilarityMaps\u001b[0m\u001b[0;34m.\u001b[0m\u001b[0mGetSimilarityMapForModel\u001b[0m\u001b[0;34m(\u001b[0m\u001b[0mm5\u001b[0m\u001b[0;34m,\u001b[0m \u001b[0mSimilarityMaps\u001b[0m\u001b[0;34m.\u001b[0m\u001b[0mGetMorganFingerprint\u001b[0m\u001b[0;34m,\u001b[0m \u001b[0;32mlambda\u001b[0m \u001b[0mi\u001b[0m\u001b[0;34m:\u001b[0m \u001b[0mgetProba\u001b[0m\u001b[0;34m(\u001b[0m\u001b[0mi\u001b[0m\u001b[0;34m,\u001b[0m \u001b[0mm\u001b[0m\u001b[0;34m.\u001b[0m\u001b[0mpredict\u001b[0m\u001b[0;34m)\u001b[0m\u001b[0;34m)\u001b[0m\u001b[0;34m\u001b[0m\u001b[0m\n\u001b[0m",
      "\u001b[0;32m~/anaconda3/envs/rdkit_1709/lib/python3.6/site-packages/rdkit/Chem/Draw/SimilarityMaps.py\u001b[0m in \u001b[0;36mGetSimilarityMapForModel\u001b[0;34m(probeMol, fpFunction, predictionFunction, **kwargs)\u001b[0m\n\u001b[1;32m    210\u001b[0m     \u001b[0mkwargs\u001b[0m \u001b[0;34m-\u001b[0m\u001b[0;34m-\u001b[0m \u001b[0madditional\u001b[0m \u001b[0marguments\u001b[0m \u001b[0;32mfor\u001b[0m \u001b[0mdrawing\u001b[0m\u001b[0;34m\u001b[0m\u001b[0m\n\u001b[1;32m    211\u001b[0m   \"\"\"\n\u001b[0;32m--> 212\u001b[0;31m   \u001b[0mweights\u001b[0m \u001b[0;34m=\u001b[0m \u001b[0mGetAtomicWeightsForModel\u001b[0m\u001b[0;34m(\u001b[0m\u001b[0mprobeMol\u001b[0m\u001b[0;34m,\u001b[0m \u001b[0mfpFunction\u001b[0m\u001b[0;34m,\u001b[0m \u001b[0mpredictionFunction\u001b[0m\u001b[0;34m)\u001b[0m\u001b[0;34m\u001b[0m\u001b[0m\n\u001b[0m\u001b[1;32m    213\u001b[0m   \u001b[0mweights\u001b[0m\u001b[0;34m,\u001b[0m \u001b[0mmaxWeight\u001b[0m \u001b[0;34m=\u001b[0m \u001b[0mGetStandardizedWeights\u001b[0m\u001b[0;34m(\u001b[0m\u001b[0mweights\u001b[0m\u001b[0;34m)\u001b[0m\u001b[0;34m\u001b[0m\u001b[0m\n\u001b[1;32m    214\u001b[0m   \u001b[0mfig\u001b[0m \u001b[0;34m=\u001b[0m \u001b[0mGetSimilarityMapFromWeights\u001b[0m\u001b[0;34m(\u001b[0m\u001b[0mprobeMol\u001b[0m\u001b[0;34m,\u001b[0m \u001b[0mweights\u001b[0m\u001b[0;34m,\u001b[0m \u001b[0;34m**\u001b[0m\u001b[0mkwargs\u001b[0m\u001b[0;34m)\u001b[0m\u001b[0;34m\u001b[0m\u001b[0m\n",
      "\u001b[0;32m~/anaconda3/envs/rdkit_1709/lib/python3.6/site-packages/rdkit/Chem/Draw/SimilarityMaps.py\u001b[0m in \u001b[0;36mGetAtomicWeightsForModel\u001b[0;34m(probeMol, fpFunction, predictionFunction)\u001b[0m\n\u001b[1;32m     92\u001b[0m     \u001b[0mdelattr\u001b[0m\u001b[0;34m(\u001b[0m\u001b[0mprobeMol\u001b[0m\u001b[0;34m,\u001b[0m \u001b[0;34m'_fpInfo'\u001b[0m\u001b[0;34m)\u001b[0m\u001b[0;34m\u001b[0m\u001b[0m\n\u001b[1;32m     93\u001b[0m   \u001b[0mprobeFP\u001b[0m \u001b[0;34m=\u001b[0m \u001b[0mfpFunction\u001b[0m\u001b[0;34m(\u001b[0m\u001b[0mprobeMol\u001b[0m\u001b[0;34m,\u001b[0m \u001b[0;34m-\u001b[0m\u001b[0;36m1\u001b[0m\u001b[0;34m)\u001b[0m\u001b[0;34m\u001b[0m\u001b[0m\n\u001b[0;32m---> 94\u001b[0;31m   \u001b[0mbaseProba\u001b[0m \u001b[0;34m=\u001b[0m \u001b[0mpredictionFunction\u001b[0m\u001b[0;34m(\u001b[0m\u001b[0mprobeFP\u001b[0m\u001b[0;34m)\u001b[0m\u001b[0;34m\u001b[0m\u001b[0m\n\u001b[0m\u001b[1;32m     95\u001b[0m   \u001b[0;31m# loop over atoms\u001b[0m\u001b[0;34m\u001b[0m\u001b[0;34m\u001b[0m\u001b[0m\n\u001b[1;32m     96\u001b[0m   \u001b[0mweights\u001b[0m \u001b[0;34m=\u001b[0m \u001b[0;34m[\u001b[0m\u001b[0;34m]\u001b[0m\u001b[0;34m\u001b[0m\u001b[0m\n",
      "\u001b[0;32m<ipython-input-83-d3024aa8e960>\u001b[0m in \u001b[0;36m<lambda>\u001b[0;34m(i)\u001b[0m\n\u001b[1;32m      6\u001b[0m \u001b[0;34m\u001b[0m\u001b[0m\n\u001b[1;32m      7\u001b[0m \u001b[0mm5\u001b[0m \u001b[0;34m=\u001b[0m \u001b[0mChem\u001b[0m\u001b[0;34m.\u001b[0m\u001b[0mMolFromSmiles\u001b[0m\u001b[0;34m(\u001b[0m\u001b[0;34m'c1ccccc1O'\u001b[0m\u001b[0;34m)\u001b[0m\u001b[0;34m\u001b[0m\u001b[0m\n\u001b[0;32m----> 8\u001b[0;31m \u001b[0mfig\u001b[0m\u001b[0;34m,\u001b[0m \u001b[0mmaxweight\u001b[0m \u001b[0;34m=\u001b[0m \u001b[0mSimilarityMaps\u001b[0m\u001b[0;34m.\u001b[0m\u001b[0mGetSimilarityMapForModel\u001b[0m\u001b[0;34m(\u001b[0m\u001b[0mm5\u001b[0m\u001b[0;34m,\u001b[0m \u001b[0mSimilarityMaps\u001b[0m\u001b[0;34m.\u001b[0m\u001b[0mGetMorganFingerprint\u001b[0m\u001b[0;34m,\u001b[0m \u001b[0;32mlambda\u001b[0m \u001b[0mi\u001b[0m\u001b[0;34m:\u001b[0m \u001b[0mgetProba\u001b[0m\u001b[0;34m(\u001b[0m\u001b[0mi\u001b[0m\u001b[0;34m,\u001b[0m \u001b[0mm\u001b[0m\u001b[0;34m.\u001b[0m\u001b[0mpredict\u001b[0m\u001b[0;34m)\u001b[0m\u001b[0;34m)\u001b[0m\u001b[0;34m\u001b[0m\u001b[0m\n\u001b[0m",
      "\u001b[0;32m<ipython-input-83-d3024aa8e960>\u001b[0m in \u001b[0;36mgetProba\u001b[0;34m(fp, predictionFunction)\u001b[0m\n\u001b[1;32m      3\u001b[0m \u001b[0;31m# helper function\u001b[0m\u001b[0;34m\u001b[0m\u001b[0;34m\u001b[0m\u001b[0m\n\u001b[1;32m      4\u001b[0m \u001b[0;32mdef\u001b[0m \u001b[0mgetProba\u001b[0m\u001b[0;34m(\u001b[0m\u001b[0mfp\u001b[0m\u001b[0;34m,\u001b[0m \u001b[0mpredictionFunction\u001b[0m\u001b[0;34m)\u001b[0m\u001b[0;34m:\u001b[0m\u001b[0;34m\u001b[0m\u001b[0m\n\u001b[0;32m----> 5\u001b[0;31m     \u001b[0;32mreturn\u001b[0m \u001b[0mpredictionFunction\u001b[0m\u001b[0;34m(\u001b[0m\u001b[0;34m(\u001b[0m\u001b[0mfp\u001b[0m\u001b[0;34m,\u001b[0m\u001b[0;34m)\u001b[0m\u001b[0;34m)\u001b[0m\u001b[0;34m[\u001b[0m\u001b[0;36m0\u001b[0m\u001b[0;34m]\u001b[0m\u001b[0;34m\u001b[0m\u001b[0m\n\u001b[0m\u001b[1;32m      6\u001b[0m \u001b[0;34m\u001b[0m\u001b[0m\n\u001b[1;32m      7\u001b[0m \u001b[0mm5\u001b[0m \u001b[0;34m=\u001b[0m \u001b[0mChem\u001b[0m\u001b[0;34m.\u001b[0m\u001b[0mMolFromSmiles\u001b[0m\u001b[0;34m(\u001b[0m\u001b[0;34m'c1ccccc1O'\u001b[0m\u001b[0;34m)\u001b[0m\u001b[0;34m\u001b[0m\u001b[0m\n",
      "\u001b[0;32m~/anaconda3/envs/rdkit_1709/lib/python3.6/site-packages/sklearn/utils/metaestimators.py\u001b[0m in \u001b[0;36m<lambda>\u001b[0;34m(*args, **kwargs)\u001b[0m\n\u001b[1;32m    113\u001b[0m \u001b[0;34m\u001b[0m\u001b[0m\n\u001b[1;32m    114\u001b[0m         \u001b[0;31m# lambda, but not partial, allows help() to work with update_wrapper\u001b[0m\u001b[0;34m\u001b[0m\u001b[0;34m\u001b[0m\u001b[0m\n\u001b[0;32m--> 115\u001b[0;31m         \u001b[0mout\u001b[0m \u001b[0;34m=\u001b[0m \u001b[0;32mlambda\u001b[0m \u001b[0;34m*\u001b[0m\u001b[0margs\u001b[0m\u001b[0;34m,\u001b[0m \u001b[0;34m**\u001b[0m\u001b[0mkwargs\u001b[0m\u001b[0;34m:\u001b[0m \u001b[0mself\u001b[0m\u001b[0;34m.\u001b[0m\u001b[0mfn\u001b[0m\u001b[0;34m(\u001b[0m\u001b[0mobj\u001b[0m\u001b[0;34m,\u001b[0m \u001b[0;34m*\u001b[0m\u001b[0margs\u001b[0m\u001b[0;34m,\u001b[0m \u001b[0;34m**\u001b[0m\u001b[0mkwargs\u001b[0m\u001b[0;34m)\u001b[0m\u001b[0;34m\u001b[0m\u001b[0m\n\u001b[0m\u001b[1;32m    116\u001b[0m         \u001b[0;31m# update the docstring of the returned function\u001b[0m\u001b[0;34m\u001b[0m\u001b[0;34m\u001b[0m\u001b[0m\n\u001b[1;32m    117\u001b[0m         \u001b[0mupdate_wrapper\u001b[0m\u001b[0;34m(\u001b[0m\u001b[0mout\u001b[0m\u001b[0;34m,\u001b[0m \u001b[0mself\u001b[0m\u001b[0;34m.\u001b[0m\u001b[0mfn\u001b[0m\u001b[0;34m)\u001b[0m\u001b[0;34m\u001b[0m\u001b[0m\n",
      "\u001b[0;32m~/anaconda3/envs/rdkit_1709/lib/python3.6/site-packages/sklearn/model_selection/_search.py\u001b[0m in \u001b[0;36mpredict\u001b[0;34m(self, X)\u001b[0m\n\u001b[1;32m    465\u001b[0m         \"\"\"\n\u001b[1;32m    466\u001b[0m         \u001b[0mself\u001b[0m\u001b[0;34m.\u001b[0m\u001b[0m_check_is_fitted\u001b[0m\u001b[0;34m(\u001b[0m\u001b[0;34m'predict'\u001b[0m\u001b[0;34m)\u001b[0m\u001b[0;34m\u001b[0m\u001b[0m\n\u001b[0;32m--> 467\u001b[0;31m         \u001b[0;32mreturn\u001b[0m \u001b[0mself\u001b[0m\u001b[0;34m.\u001b[0m\u001b[0mbest_estimator_\u001b[0m\u001b[0;34m.\u001b[0m\u001b[0mpredict\u001b[0m\u001b[0;34m(\u001b[0m\u001b[0mX\u001b[0m\u001b[0;34m)\u001b[0m\u001b[0;34m\u001b[0m\u001b[0m\n\u001b[0m\u001b[1;32m    468\u001b[0m \u001b[0;34m\u001b[0m\u001b[0m\n\u001b[1;32m    469\u001b[0m     \u001b[0;34m@\u001b[0m\u001b[0mif_delegate_has_method\u001b[0m\u001b[0;34m(\u001b[0m\u001b[0mdelegate\u001b[0m\u001b[0;34m=\u001b[0m\u001b[0;34m(\u001b[0m\u001b[0;34m'best_estimator_'\u001b[0m\u001b[0;34m,\u001b[0m \u001b[0;34m'estimator'\u001b[0m\u001b[0;34m)\u001b[0m\u001b[0;34m)\u001b[0m\u001b[0;34m\u001b[0m\u001b[0m\n",
      "\u001b[0;32m~/anaconda3/envs/rdkit_1709/lib/python3.6/site-packages/sklearn/ensemble/forest.py\u001b[0m in \u001b[0;36mpredict\u001b[0;34m(self, X)\u001b[0m\n\u001b[1;32m    679\u001b[0m         \u001b[0mcheck_is_fitted\u001b[0m\u001b[0;34m(\u001b[0m\u001b[0mself\u001b[0m\u001b[0;34m,\u001b[0m \u001b[0;34m'estimators_'\u001b[0m\u001b[0;34m)\u001b[0m\u001b[0;34m\u001b[0m\u001b[0m\n\u001b[1;32m    680\u001b[0m         \u001b[0;31m# Check data\u001b[0m\u001b[0;34m\u001b[0m\u001b[0;34m\u001b[0m\u001b[0m\n\u001b[0;32m--> 681\u001b[0;31m         \u001b[0mX\u001b[0m \u001b[0;34m=\u001b[0m \u001b[0mself\u001b[0m\u001b[0;34m.\u001b[0m\u001b[0m_validate_X_predict\u001b[0m\u001b[0;34m(\u001b[0m\u001b[0mX\u001b[0m\u001b[0;34m)\u001b[0m\u001b[0;34m\u001b[0m\u001b[0m\n\u001b[0m\u001b[1;32m    682\u001b[0m \u001b[0;34m\u001b[0m\u001b[0m\n\u001b[1;32m    683\u001b[0m         \u001b[0;31m# Assign chunk of trees to jobs\u001b[0m\u001b[0;34m\u001b[0m\u001b[0;34m\u001b[0m\u001b[0m\n",
      "\u001b[0;32m~/anaconda3/envs/rdkit_1709/lib/python3.6/site-packages/sklearn/ensemble/forest.py\u001b[0m in \u001b[0;36m_validate_X_predict\u001b[0;34m(self, X)\u001b[0m\n\u001b[1;32m    355\u001b[0m                                  \"call `fit` before exploiting the model.\")\n\u001b[1;32m    356\u001b[0m \u001b[0;34m\u001b[0m\u001b[0m\n\u001b[0;32m--> 357\u001b[0;31m         \u001b[0;32mreturn\u001b[0m \u001b[0mself\u001b[0m\u001b[0;34m.\u001b[0m\u001b[0mestimators_\u001b[0m\u001b[0;34m[\u001b[0m\u001b[0;36m0\u001b[0m\u001b[0;34m]\u001b[0m\u001b[0;34m.\u001b[0m\u001b[0m_validate_X_predict\u001b[0m\u001b[0;34m(\u001b[0m\u001b[0mX\u001b[0m\u001b[0;34m,\u001b[0m \u001b[0mcheck_input\u001b[0m\u001b[0;34m=\u001b[0m\u001b[0;32mTrue\u001b[0m\u001b[0;34m)\u001b[0m\u001b[0;34m\u001b[0m\u001b[0m\n\u001b[0m\u001b[1;32m    358\u001b[0m \u001b[0;34m\u001b[0m\u001b[0m\n\u001b[1;32m    359\u001b[0m     \u001b[0;34m@\u001b[0m\u001b[0mproperty\u001b[0m\u001b[0;34m\u001b[0m\u001b[0m\n",
      "\u001b[0;32m~/anaconda3/envs/rdkit_1709/lib/python3.6/site-packages/sklearn/tree/tree.py\u001b[0m in \u001b[0;36m_validate_X_predict\u001b[0;34m(self, X, check_input)\u001b[0m\n\u001b[1;32m    382\u001b[0m                              \u001b[0;34m\"match the input. Model n_features is %s and \"\u001b[0m\u001b[0;34m\u001b[0m\u001b[0m\n\u001b[1;32m    383\u001b[0m                              \u001b[0;34m\"input n_features is %s \"\u001b[0m\u001b[0;34m\u001b[0m\u001b[0m\n\u001b[0;32m--> 384\u001b[0;31m                              % (self.n_features_, n_features))\n\u001b[0m\u001b[1;32m    385\u001b[0m \u001b[0;34m\u001b[0m\u001b[0m\n\u001b[1;32m    386\u001b[0m         \u001b[0;32mreturn\u001b[0m \u001b[0mX\u001b[0m\u001b[0;34m\u001b[0m\u001b[0m\n",
      "\u001b[0;31mValueError\u001b[0m: Number of features of the model must match the input. Model n_features is 2057 and input n_features is 2048 "
     ]
    }
   ],
   "source": [
    "from rdkit.Chem.Draw import SimilarityMaps\n",
    "\n",
    "# helper function\n",
    "def getProba(fp, predictionFunction):\n",
    "    return predictionFunction((fp,))[0]\n",
    "\n",
    "m5 = Chem.MolFromSmiles('c1ccccc1O')\n",
    "fig, maxweight = SimilarityMaps.GetSimilarityMapForModel(m5, SimilarityMaps.GetMorganFingerprint, lambda i: getProba(i, m.predict))\n"
   ]
  }
 ],
 "metadata": {
  "kernelspec": {
   "display_name": "Python 3",
   "language": "python",
   "name": "python3"
  },
  "language_info": {
   "codemirror_mode": {
    "name": "ipython",
    "version": 3
   },
   "file_extension": ".py",
   "mimetype": "text/x-python",
   "name": "python",
   "nbconvert_exporter": "python",
   "pygments_lexer": "ipython3",
   "version": "3.6.3"
  }
 },
 "nbformat": 4,
 "nbformat_minor": 1
}
