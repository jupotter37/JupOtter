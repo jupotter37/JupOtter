{
 "cells": [
  {
   "cell_type": "markdown",
   "metadata": {},
   "source": [
    "# CUHK [STAT3009](https://www.bendai.org/STAT3009/) Notebook7: Real Application"
   ]
  },
  {
   "cell_type": "markdown",
   "metadata": {},
   "source": [
    "## load the developed methods"
   ]
  },
  {
   "cell_type": "code",
   "execution_count": 2,
   "metadata": {},
   "outputs": [
    {
     "ename": "ModuleNotFoundError",
     "evalue": "No module named 'seaborn'",
     "output_type": "error",
     "traceback": [
      "\u001b[0;31m---------------------------------------------------------------------------\u001b[0m",
      "\u001b[0;31mModuleNotFoundError\u001b[0m                       Traceback (most recent call last)",
      "\u001b[0;32m/tmp/ipykernel_16950/1419055787.py\u001b[0m in \u001b[0;36m<module>\u001b[0;34m\u001b[0m\n\u001b[1;32m    141\u001b[0m \u001b[0;32mimport\u001b[0m \u001b[0mitertools\u001b[0m\u001b[0;34m\u001b[0m\u001b[0;34m\u001b[0m\u001b[0m\n\u001b[1;32m    142\u001b[0m \u001b[0;32mimport\u001b[0m \u001b[0mpandas\u001b[0m \u001b[0;32mas\u001b[0m \u001b[0mpd\u001b[0m\u001b[0;34m\u001b[0m\u001b[0;34m\u001b[0m\u001b[0m\n\u001b[0;32m--> 143\u001b[0;31m \u001b[0;32mimport\u001b[0m \u001b[0mseaborn\u001b[0m \u001b[0;32mas\u001b[0m \u001b[0msns\u001b[0m\u001b[0;34m\u001b[0m\u001b[0;34m\u001b[0m\u001b[0m\n\u001b[0m\u001b[1;32m    144\u001b[0m \u001b[0;32mimport\u001b[0m \u001b[0mmatplotlib\u001b[0m\u001b[0;34m.\u001b[0m\u001b[0mpyplot\u001b[0m \u001b[0;32mas\u001b[0m \u001b[0mplt\u001b[0m\u001b[0;34m\u001b[0m\u001b[0;34m\u001b[0m\u001b[0m\n\u001b[1;32m    145\u001b[0m \u001b[0;34m\u001b[0m\u001b[0m\n",
      "\u001b[0;31mModuleNotFoundError\u001b[0m: No module named 'seaborn'"
     ]
    }
   ],
   "source": [
    "def rmse(true, pred):\n",
    "\treturn np.sqrt(np.mean((pred - true)**2))\n",
    "\n",
    "# baseline methods\n",
    "class glb_mean(object):\n",
    "\tdef __init__(self):\n",
    "\t\tself.glb_mean = 0\n",
    "\t\n",
    "\tdef fit(self, train_ratings):\n",
    "\t\tself.glb_mean = np.mean(train_ratings)\n",
    "\t\n",
    "\tdef predict(self, test_pair):\n",
    "\t\tpred = np.ones(len(test_pair))\n",
    "\t\tpred = pred*self.glb_mean\n",
    "\t\treturn pred\n",
    "\n",
    "class user_mean(object):\n",
    "\tdef __init__(self, n_user):\n",
    "\t\tself.n_user = n_user\n",
    "\t\tself.glb_mean = 0.\n",
    "\t\tself.user_mean = np.zeros(n_user)\n",
    "\t\n",
    "\tdef fit(self, train_pair, train_ratings):\n",
    "\t\tself.glb_mean = train_ratings.mean()\n",
    "\t\tfor u in range(self.n_user):\n",
    "\t\t\tind_train = np.where(train_pair[:,0] == u)[0]\n",
    "\t\t\tif len(ind_train) == 0:\n",
    "\t\t\t\tself.user_mean[u] = self.glb_mean\n",
    "\t\t\telse:\n",
    "\t\t\t\tself.user_mean[u] = train_ratings[ind_train].mean()\n",
    "\t\n",
    "\tdef predict(self, test_pair):\n",
    "\t\tpred = np.ones(len(test_pair))*self.glb_mean\n",
    "\t\tj = 0\n",
    "\t\tfor row in test_pair:\n",
    "\t\t\tuser_tmp, item_tmp = row[0], row[1]\n",
    "\t\t\tpred[j] = self.user_mean[user_tmp]\n",
    "\t\t\tj = j + 1\n",
    "\t\treturn pred\n",
    "\n",
    "class item_mean(object):\n",
    "\tdef __init__(self, n_item):\n",
    "\t\tself.n_item = n_item\n",
    "\t\tself.glb_mean = 0.\n",
    "\t\tself.item_mean = np.zeros(n_item)\n",
    "\t\n",
    "\tdef fit(self, train_pair, train_ratings):\n",
    "\t\tself.glb_mean = train_ratings.mean()\n",
    "\t\tfor i in range(self.n_item):\n",
    "\t\t\tind_train = np.where(train_pair[:,1] == i)[0]\n",
    "\t\t\tif len(ind_train) == 0:\n",
    "\t\t\t\tself.item_mean[i] = self.glb_mean\n",
    "\t\t\telse:\n",
    "\t\t\t\tself.item_mean[i] = train_ratings[ind_train].mean()\n",
    "\t\n",
    "\tdef predict(self, test_pair):\n",
    "\t\tpred = np.ones(len(test_pair))*self.glb_mean\n",
    "\t\tj = 0\n",
    "\t\tfor row in test_pair:\n",
    "\t\t\tuser_tmp, item_tmp = row[0], row[1]\n",
    "\t\t\tpred[j] = self.item_mean[item_tmp]\n",
    "\t\t\tj = j + 1\n",
    "\t\treturn pred\n",
    "\n",
    "\n",
    "class LFM(object):\n",
    "\n",
    "    def __init__(self, n_user, n_item, lam=.001, K=10, iterNum=10, tol=1e-4, verbose=1):\n",
    "        self.P = np.random.randn(n_user, K)\n",
    "        self.Q = np.random.randn(n_item, K)\n",
    "        # self.index_item = []\n",
    "        # self.index_user = []\n",
    "        self.n_user = n_user\n",
    "        self.n_item = n_item\n",
    "        self.lam = lam\n",
    "        self.K = K\n",
    "        self.iterNum = iterNum\n",
    "        self.tol = tol\n",
    "        self.verbose = verbose\n",
    "\n",
    "    def fit(self, train_pair, train_rating):\n",
    "        diff, tol = 1., self.tol\n",
    "        n_user, n_item, n_obs = self.n_user, self.n_item, len(train_pair)\n",
    "        K, iterNum, lam = self.K, self.iterNum, self.lam\n",
    "        ## store user/item index set\n",
    "        self.index_item = [np.where(train_pair[:,1] == i)[0] for i in range(n_item)]\n",
    "        self.index_user = [np.where(train_pair[:,0] == u)[0] for u in range(n_user)]\n",
    "        if self.verbose:\n",
    "            print('Fitting Reg-LFM: K: %d, lam: %.5f' %(K, lam))\n",
    "        for i in range(iterNum):\n",
    "            ## item update\n",
    "            score_old = self.rmse(test_pair=train_pair, test_rating=train_rating)\n",
    "            for item_id in range(n_item):\n",
    "                index_item_tmp = self.index_item[item_id]\n",
    "                if len(index_item_tmp) == 0:\n",
    "                    self.Q[item_id,:] = 0.\n",
    "                    continue\n",
    "                sum_pu, sum_matrix = np.zeros((K)), np.zeros((K, K))\n",
    "                for record_ind in index_item_tmp:\n",
    "                    ## double-check\n",
    "                    if item_id != train_pair[record_ind][1]:\n",
    "                        raise ValueError('the item_id is waring in updating Q!')\n",
    "                    user_id, rating_tmp = train_pair[record_ind][0], train_rating[record_ind]\n",
    "                    sum_matrix = sum_matrix + np.outer(self.P[user_id,:], self.P[user_id,:])\n",
    "                    sum_pu = sum_pu + rating_tmp * self.P[user_id,:]                    \n",
    "                self.Q[item_id,:] = np.dot(np.linalg.inv(sum_matrix + lam*n_obs*np.identity(K)), sum_pu)\n",
    "            \n",
    "            for user_id in range(n_user):\n",
    "                index_user_tmp = self.index_user[user_id]\n",
    "                if len(index_user_tmp) == 0:\n",
    "                    self.P[user_id,:] = 0.\n",
    "                    continue\n",
    "                sum_pu, sum_matrix = np.zeros((K)), np.zeros((K, K))\n",
    "                for record_ind in index_user_tmp:\n",
    "                    ## double-check\n",
    "                    if user_id != train_pair[record_ind][0]:\n",
    "                        raise ValueError('the user_id is waring in updating P!')\n",
    "                    item_id, rating_tmp = train_pair[record_ind][1], train_rating[record_ind]\n",
    "                    sum_matrix = sum_matrix + np.outer(self.Q[item_id,:], self.Q[item_id,:])\n",
    "                    sum_pu = sum_pu + rating_tmp * self.Q[item_id,:]                    \n",
    "                self.P[user_id,:] = np.dot(np.linalg.inv(sum_matrix + lam*n_obs*np.identity(K)), sum_pu)\n",
    "            # compute the new rmse score\n",
    "            score_new = self.rmse(test_pair=train_pair, test_rating=train_rating)\n",
    "            diff = abs(score_new - score_old) / score_old\n",
    "            if self.verbose:\n",
    "                print(\"Reg-LFM: ite: %d; diff: %.3f RMSE: %.3f\" %(i, diff, score_new))\n",
    "            if(diff < tol):\n",
    "                break\n",
    "\n",
    "    def predict(self, test_pair):\n",
    "        # predict ratings for user-item pairs\n",
    "        pred_rating = [np.dot(self.P[line[0]], self.Q[line[1]]) for line in test_pair]\n",
    "        return np.array(pred_rating)\n",
    "    \n",
    "    def rmse(self, test_pair, test_rating):\n",
    "        # report the rmse for the fitted `LFM`\n",
    "        pred_rating = self.predict(test_pair=test_pair)\n",
    "        return np.sqrt( np.mean( (pred_rating - test_rating)**2) )\n",
    "\n",
    "from sklearn.model_selection import KFold\n",
    "import itertools\n",
    "import pandas as pd\n",
    "import seaborn as sns\n",
    "import matplotlib.pyplot as plt\n",
    "\n",
    "class LFM_CV(object):\n",
    "\n",
    "\tdef __init__(self, n_user, n_item, cv=5,\n",
    "\t\t\t\tlams=[.000001,.0001,.001,.01], \n",
    "\t\t\t\tKs=[3,5,10,20], \n",
    "\t\t\t\titerNum=10, tol=1e-4):\n",
    "\t\t# self.index_item = []\n",
    "\t\t# self.index_user = []\n",
    "\t\tself.n_user = n_user\n",
    "\t\tself.n_item = n_item\n",
    "\t\tself.cv = cv\n",
    "\t\tself.lams = lams\n",
    "\t\tself.Ks = Ks\n",
    "\t\tself.iterNum = iterNum\n",
    "\t\tself.tol = tol\n",
    "\t\tself.best_model = {}\n",
    "\t\tself.cv_result = {'K': [], 'lam': [], 'train_rmse': [], 'valid_rmse': []}\n",
    "\n",
    "\tdef grid_search(self, train_pair, train_rating):\n",
    "\t\t## generate all comb of `K` and `lam`\n",
    "\t\tkf = KFold(n_splits=self.cv, shuffle=True)\n",
    "\t\tfor (K,lam) in itertools.product(self.Ks, self.lams):\n",
    "\t\t\ttrain_rmse_tmp, valid_rmse_tmp = 0., 0.\n",
    "\t\t\tfor train_index, valid_index in kf.split(train_pair):\n",
    "\t\t\t\t# produce training/validation sets\n",
    "\t\t\t\ttrain_pair_cv, train_rating_cv = train_pair[train_index], train_rating[train_index]\n",
    "\t\t\t\tvalid_pair_cv, valid_rating_cv = train_pair[valid_index], train_rating[valid_index]\n",
    "\t\t\t\t# fit the model based on CV data\n",
    "\t\t\t\tmodel_tmp = LFM(self.n_user, self.n_item, K=K, lam=lam, verbose=0)\n",
    "\t\t\t\tmodel_tmp.fit(train_pair=train_pair_cv, train_rating=train_rating_cv)\n",
    "\t\t\t\ttrain_rmse_tmp_cv = model_tmp.rmse(test_pair=train_pair_cv, test_rating=train_rating_cv)\n",
    "\t\t\t\tvalid_rmse_tmp_cv = model_tmp.rmse(test_pair=valid_pair_cv, test_rating=valid_rating_cv)\n",
    "\t\t\t\ttrain_rmse_tmp = train_rmse_tmp + train_rmse_tmp_cv / self.cv\n",
    "\t\t\t\tvalid_rmse_tmp = valid_rmse_tmp + valid_rmse_tmp_cv / self.cv\n",
    "\t\t\t\tprint('%d-Fold CV for K: %d; lam: %.5f: train_rmse: %.3f, valid_rmse: %.3f' \n",
    "\t\t\t\t\t\t%(self.cv, K, lam, train_rmse_tmp_cv, valid_rmse_tmp_cv))\n",
    "\t\t\tself.cv_result['K'].append(K)\n",
    "\t\t\tself.cv_result['lam'].append(lam)\n",
    "\t\t\tself.cv_result['train_rmse'].append(train_rmse_tmp)\n",
    "\t\t\tself.cv_result['valid_rmse'].append(valid_rmse_tmp)\n",
    "\t\tself.cv_result = pd.DataFrame.from_dict(self.cv_result)\n",
    "\t\tbest_ind = self.cv_result['valid_rmse'].argmin()\n",
    "\t\tself.best_model = self.cv_result.loc[best_ind]\n",
    "\t\n",
    "\tdef plot_grid(self, data_source='valid'):\n",
    "\t\tsns.set_theme()\n",
    "\t\tif data_source == 'train':\n",
    "\t\t\tcv_pivot = self.cv_result.pivot(\"K\", \"lam\", \"train_rmse\")\n",
    "\t\telif data_source == 'valid':\n",
    "\t\t\tcv_pivot = self.cv_result.pivot(\"K\", \"lam\", \"valid_rmse\")\n",
    "\t\telse:\n",
    "\t\t\traise ValueError('data_source must be train or valid!')\n",
    "\t\tsns.heatmap(cv_pivot, annot=True, fmt=\".3f\", linewidths=.5, cmap=\"YlGnBu\")\n",
    "\t\tplt.show()"
   ]
  },
  {
   "cell_type": "markdown",
   "metadata": {},
   "source": [
    "## Pre-process the ML-100K raw data\n",
    "- check the `user_id` and `item_id`: mapping `item_id` to a continuous sequence based on `sklean.preprocessing`\n",
    "- use `sklearn.model_selection.train_test_split` to generate `train` and `test` dataset\n",
    "- create `train_pair`,`train_rating`, `test_pair`"
   ]
  },
  {
   "cell_type": "code",
   "execution_count": 3,
   "metadata": {},
   "outputs": [],
   "source": [
    "import numpy as np\n",
    "import pandas as pd\n",
    "\n",
    "df = pd.read_csv('./dataset/ml-latest-small/ratings.csv')\n",
    "del df['timestamp']\n",
    "## mapping \n",
    "from sklearn import preprocessing\n",
    "le = preprocessing.LabelEncoder()\n",
    "df['movieId'] = le.fit_transform(df['movieId'])\n",
    "df['userId'] = le.fit_transform(df['userId'])\n",
    "## generate train / test dataset\n",
    "from sklearn.model_selection import train_test_split\n",
    "dtrain, dtest = train_test_split(df, test_size=0.33, random_state=42)\n",
    "## save real ratings for test set for evaluation.\n",
    "test_rating = np.array(dtest['rating'])\n",
    "## remove the ratings in the test set to simulate prediction\n",
    "dtest = dtest.drop(columns='rating')"
   ]
  },
  {
   "cell_type": "markdown",
   "metadata": {},
   "source": [
    "## Exploratory data analysis (EDA)\n",
    "- User rating of the movie"
   ]
  },
  {
   "cell_type": "code",
   "execution_count": 4,
   "metadata": {},
   "outputs": [
    {
     "data": {
      "image/png": "[encoded data removed]",
      "text/plain": [
       "<Figure size 432x288 with 1 Axes>"
      ]
     },
     "metadata": {},
     "output_type": "display_data"
    }
   ],
   "source": [
    "import seaborn as sns\n",
    "import matplotlib.pyplot as plt\n",
    "sns.set_theme()\n",
    "## histograms of rating \n",
    "sns.histplot(data=dtrain, x=\"rating\")\n",
    "plt.show()"
   ]
  },
  {
   "cell_type": "code",
   "execution_count": 5,
   "metadata": {},
   "outputs": [
    {
     "data": {
      "image/png": "[encoded data removed]",
      "text/plain": [
       "<Figure size 432x288 with 1 Axes>"
      ]
     },
     "metadata": {},
     "output_type": "display_data"
    },
    {
     "data": {
      "image/png": "[encoded data removed]",
      "text/plain": [
       "<Figure size 432x288 with 1 Axes>"
      ]
     },
     "metadata": {},
     "output_type": "display_data"
    }
   ],
   "source": [
    "## histograms of user \n",
    "sns.histplot(data=dtrain, x=\"userId\")\n",
    "plt.show()\n",
    "## histograms of item \n",
    "sns.histplot(data=dtrain, x=\"movieId\")\n",
    "plt.show()"
   ]
  },
  {
   "cell_type": "code",
   "execution_count": 6,
   "metadata": {},
   "outputs": [
    {
     "data": {
      "image/png": "[encoded data removed]",
      "text/plain": [
       "<Figure size 432x288 with 1 Axes>"
      ]
     },
     "metadata": {},
     "output_type": "display_data"
    },
    {
     "data": {
      "image/png": "[encoded data removed]",
      "text/plain": [
       "<Figure size 432x288 with 1 Axes>"
      ]
     },
     "metadata": {},
     "output_type": "display_data"
    }
   ],
   "source": [
    "# histgrams for averaged ratings for users/items\n",
    "sns.histplot(dtrain.groupby('userId')['rating'].mean())\n",
    "plt.show()\n",
    "sns.histplot(dtrain.groupby('movieId')['rating'].mean())\n",
    "plt.show()"
   ]
  },
  {
   "cell_type": "code",
   "execution_count": 7,
   "metadata": {},
   "outputs": [
    {
     "data": {
      "text/plain": [
       "movieId\n",
       "7561    5.0\n",
       "9132    5.0\n",
       "6309    5.0\n",
       "7383    5.0\n",
       "9122    5.0\n",
       "9123    5.0\n",
       "9124    5.0\n",
       "9126    5.0\n",
       "9134    5.0\n",
       "3686    5.0\n",
       "7030    5.0\n",
       "8258    5.0\n",
       "8709    5.0\n",
       "1036    5.0\n",
       "2327    5.0\n",
       "3729    5.0\n",
       "5277    5.0\n",
       "7534    5.0\n",
       "7117    5.0\n",
       "6478    5.0\n",
       "Name: rating, dtype: float64"
      ]
     },
     "execution_count": 7,
     "metadata": {},
     "output_type": "execute_result"
    }
   ],
   "source": [
    "## Find Top-20 highest rating movies \n",
    "dtrain.groupby('movieId')['rating'].mean().sort_values(ascending = False)[:20]"
   ]
  },
  {
   "cell_type": "code",
   "execution_count": 8,
   "metadata": {},
   "outputs": [
    {
     "data": {
      "image/png": "[encoded data removed]",
      "text/plain": [
       "<Figure size 432x288 with 1 Axes>"
      ]
     },
     "metadata": {},
     "output_type": "display_data"
    }
   ],
   "source": [
    "## Find Top-20 most popular movies \n",
    "dtmp = dtrain.groupby('movieId')['rating'].count().sort_values(ascending = False)[:20]\n",
    "sns.barplot(x=dtmp.index, y=dtmp, order=dtmp.index)\n",
    "plt.show()"
   ]
  },
  {
   "cell_type": "code",
   "execution_count": 9,
   "metadata": {},
   "outputs": [],
   "source": [
    "# tran_pair, train_rating\n",
    "train_pair = dtrain[['userId', 'movieId']].values\n",
    "train_rating = dtrain['rating'].values\n",
    "# test_pair\n",
    "test_pair = dtest[['userId', 'movieId']].values\n",
    "n_user, n_item = max(train_pair[:,0].max(), test_pair[:,0].max())+1, max(train_pair[:,1].max(), test_pair[:,1].max())+1"
   ]
  },
  {
   "cell_type": "markdown",
   "metadata": {},
   "source": [
    "## Use the developed methods to predict ratings"
   ]
  },
  {
   "cell_type": "code",
   "execution_count": 14,
   "metadata": {},
   "outputs": [
    {
     "name": "stdout",
     "output_type": "stream",
     "text": [
      "RSME for gbl mean: 1.045\n"
     ]
    }
   ],
   "source": [
    "## Baseline\n",
    "glb_ave = glb_mean()\n",
    "glb_ave.fit(train_rating)\n",
    "pred_glb = glb_ave.predict(test_pair)\n",
    "print('RSME for gbl mean: %.3f' %rmse(test_rating, pred_glb))"
   ]
  },
  {
   "cell_type": "code",
   "execution_count": 17,
   "metadata": {},
   "outputs": [
    {
     "name": "stdout",
     "output_type": "stream",
     "text": [
      "RSME for user-mean: 0.946\n"
     ]
    }
   ],
   "source": [
    "# user_mean\n",
    "train_rating_cm = train_rating - glb_ave.predict(train_pair)\n",
    "user_ave = user_mean(n_user=n_user)\n",
    "user_ave.fit(train_pair=train_pair, train_ratings=train_rating_cm)\n",
    "pred_user_mean = pred_glb + user_ave.predict(test_pair)\n",
    "print('RSME for user-mean: %.3f' %rmse(test_rating, pred_user_mean))"
   ]
  },
  {
   "cell_type": "code",
   "execution_count": 18,
   "metadata": {},
   "outputs": [
    {
     "name": "stdout",
     "output_type": "stream",
     "text": [
      "RSME for item-mean: 0.987\n"
     ]
    }
   ],
   "source": [
    "## item mean\n",
    "item_ave = item_mean(n_item=n_item)\n",
    "item_ave.fit(train_pair=train_pair, train_ratings=train_rating_cm)\n",
    "pred_item_mean = pred_glb + item_ave.predict(test_pair)\n",
    "print('RSME for item-mean: %.3f' %rmse(test_rating, pred_item_mean))"
   ]
  },
  {
   "cell_type": "code",
   "execution_count": 21,
   "metadata": {},
   "outputs": [
    {
     "name": "stdout",
     "output_type": "stream",
     "text": [
      "3-Fold CV for K: 2; lam: 0.00000: train_rmse: 0.706, valid_rmse: 1.157\n",
      "3-Fold CV for K: 2; lam: 0.00000: train_rmse: 0.696, valid_rmse: 1.163\n",
      "3-Fold CV for K: 2; lam: 0.00000: train_rmse: 0.720, valid_rmse: 1.233\n",
      "3-Fold CV for K: 2; lam: 0.00000: train_rmse: 0.691, valid_rmse: 1.027\n",
      "3-Fold CV for K: 2; lam: 0.00000: train_rmse: 0.678, valid_rmse: 1.028\n",
      "3-Fold CV for K: 2; lam: 0.00000: train_rmse: 0.733, valid_rmse: 1.152\n",
      "3-Fold CV for K: 2; lam: 0.00001: train_rmse: 0.685, valid_rmse: 0.968\n",
      "3-Fold CV for K: 2; lam: 0.00001: train_rmse: 0.675, valid_rmse: 0.960\n",
      "3-Fold CV for K: 2; lam: 0.00001: train_rmse: 0.677, valid_rmse: 0.957\n",
      "3-Fold CV for K: 2; lam: 0.00003: train_rmse: 0.697, valid_rmse: 0.930\n",
      "3-Fold CV for K: 2; lam: 0.00003: train_rmse: 0.694, valid_rmse: 0.930\n",
      "3-Fold CV for K: 2; lam: 0.00003: train_rmse: 0.696, valid_rmse: 0.925\n",
      "3-Fold CV for K: 2; lam: 0.00010: train_rmse: 0.744, valid_rmse: 0.887\n",
      "3-Fold CV for K: 2; lam: 0.00010: train_rmse: 0.739, valid_rmse: 0.896\n",
      "3-Fold CV for K: 2; lam: 0.00010: train_rmse: 0.740, valid_rmse: 0.894\n",
      "3-Fold CV for K: 2; lam: 0.00032: train_rmse: 0.827, valid_rmse: 0.893\n",
      "3-Fold CV for K: 2; lam: 0.00032: train_rmse: 0.834, valid_rmse: 0.884\n",
      "3-Fold CV for K: 2; lam: 0.00032: train_rmse: 0.830, valid_rmse: 0.883\n",
      "3-Fold CV for K: 2; lam: 0.00100: train_rmse: 0.933, valid_rmse: 0.928\n",
      "3-Fold CV for K: 2; lam: 0.00100: train_rmse: 0.927, valid_rmse: 0.941\n",
      "3-Fold CV for K: 2; lam: 0.00100: train_rmse: 0.934, valid_rmse: 0.925\n",
      "3-Fold CV for K: 2; lam: 0.00316: train_rmse: 0.928, valid_rmse: 0.938\n",
      "3-Fold CV for K: 2; lam: 0.00316: train_rmse: 0.936, valid_rmse: 0.921\n",
      "3-Fold CV for K: 2; lam: 0.00316: train_rmse: 0.930, valid_rmse: 0.935\n",
      "3-Fold CV for K: 3; lam: 0.00000: train_rmse: 0.634, valid_rmse: 1.218\n",
      "3-Fold CV for K: 3; lam: 0.00000: train_rmse: 0.640, valid_rmse: 1.259\n",
      "3-Fold CV for K: 3; lam: 0.00000: train_rmse: 0.631, valid_rmse: 1.201\n",
      "3-Fold CV for K: 3; lam: 0.00000: train_rmse: 0.621, valid_rmse: 1.065\n",
      "3-Fold CV for K: 3; lam: 0.00000: train_rmse: 0.614, valid_rmse: 1.086\n",
      "3-Fold CV for K: 3; lam: 0.00000: train_rmse: 0.619, valid_rmse: 1.069\n",
      "3-Fold CV for K: 3; lam: 0.00001: train_rmse: 0.618, valid_rmse: 0.993\n",
      "3-Fold CV for K: 3; lam: 0.00001: train_rmse: 0.625, valid_rmse: 1.012\n",
      "3-Fold CV for K: 3; lam: 0.00001: train_rmse: 0.621, valid_rmse: 1.002\n",
      "3-Fold CV for K: 3; lam: 0.00003: train_rmse: 0.647, valid_rmse: 0.947\n",
      "3-Fold CV for K: 3; lam: 0.00003: train_rmse: 0.643, valid_rmse: 0.959\n",
      "3-Fold CV for K: 3; lam: 0.00003: train_rmse: 0.645, valid_rmse: 0.952\n",
      "3-Fold CV for K: 3; lam: 0.00010: train_rmse: 0.704, valid_rmse: 0.893\n",
      "3-Fold CV for K: 3; lam: 0.00010: train_rmse: 0.703, valid_rmse: 0.908\n",
      "3-Fold CV for K: 3; lam: 0.00010: train_rmse: 0.702, valid_rmse: 0.908\n",
      "3-Fold CV for K: 3; lam: 0.00032: train_rmse: 0.821, valid_rmse: 0.886\n",
      "3-Fold CV for K: 3; lam: 0.00032: train_rmse: 0.819, valid_rmse: 0.886\n",
      "3-Fold CV for K: 3; lam: 0.00032: train_rmse: 0.818, valid_rmse: 0.888\n",
      "3-Fold CV for K: 3; lam: 0.00100: train_rmse: 0.930, valid_rmse: 0.934\n",
      "3-Fold CV for K: 3; lam: 0.00100: train_rmse: 0.929, valid_rmse: 0.935\n",
      "3-Fold CV for K: 3; lam: 0.00100: train_rmse: 0.934, valid_rmse: 0.925\n",
      "3-Fold CV for K: 3; lam: 0.00316: train_rmse: 0.931, valid_rmse: 0.932\n",
      "3-Fold CV for K: 3; lam: 0.00316: train_rmse: 0.933, valid_rmse: 0.929\n",
      "3-Fold CV for K: 3; lam: 0.00316: train_rmse: 0.930, valid_rmse: 0.933\n",
      "3-Fold CV for K: 5; lam: 0.00000: train_rmse: 0.527, valid_rmse: 1.316\n",
      "3-Fold CV for K: 5; lam: 0.00000: train_rmse: 0.537, valid_rmse: 1.306\n",
      "3-Fold CV for K: 5; lam: 0.00000: train_rmse: 0.526, valid_rmse: 1.325\n",
      "3-Fold CV for K: 5; lam: 0.00000: train_rmse: 0.530, valid_rmse: 1.162\n",
      "3-Fold CV for K: 5; lam: 0.00000: train_rmse: 0.522, valid_rmse: 1.163\n",
      "3-Fold CV for K: 5; lam: 0.00000: train_rmse: 0.521, valid_rmse: 1.166\n",
      "3-Fold CV for K: 5; lam: 0.00001: train_rmse: 0.526, valid_rmse: 1.079\n",
      "3-Fold CV for K: 5; lam: 0.00001: train_rmse: 0.532, valid_rmse: 1.045\n",
      "3-Fold CV for K: 5; lam: 0.00001: train_rmse: 0.531, valid_rmse: 1.070\n",
      "3-Fold CV for K: 5; lam: 0.00003: train_rmse: 0.561, valid_rmse: 0.998\n",
      "3-Fold CV for K: 5; lam: 0.00003: train_rmse: 0.558, valid_rmse: 0.992\n",
      "3-Fold CV for K: 5; lam: 0.00003: train_rmse: 0.561, valid_rmse: 0.999\n",
      "3-Fold CV for K: 5; lam: 0.00010: train_rmse: 0.641, valid_rmse: 0.919\n",
      "3-Fold CV for K: 5; lam: 0.00010: train_rmse: 0.646, valid_rmse: 0.925\n",
      "3-Fold CV for K: 5; lam: 0.00010: train_rmse: 0.642, valid_rmse: 0.925\n",
      "3-Fold CV for K: 5; lam: 0.00032: train_rmse: 0.805, valid_rmse: 0.889\n",
      "3-Fold CV for K: 5; lam: 0.00032: train_rmse: 0.806, valid_rmse: 0.882\n",
      "3-Fold CV for K: 5; lam: 0.00032: train_rmse: 0.804, valid_rmse: 0.883\n",
      "3-Fold CV for K: 5; lam: 0.00100: train_rmse: 0.931, valid_rmse: 0.932\n",
      "3-Fold CV for K: 5; lam: 0.00100: train_rmse: 0.931, valid_rmse: 0.931\n",
      "3-Fold CV for K: 5; lam: 0.00100: train_rmse: 0.932, valid_rmse: 0.930\n",
      "3-Fold CV for K: 5; lam: 0.00316: train_rmse: 0.928, valid_rmse: 0.938\n",
      "3-Fold CV for K: 5; lam: 0.00316: train_rmse: 0.931, valid_rmse: 0.932\n",
      "3-Fold CV for K: 5; lam: 0.00316: train_rmse: 0.935, valid_rmse: 0.924\n",
      "3-Fold CV for K: 10; lam: 0.00000: train_rmse: 0.360, valid_rmse: 1.460\n",
      "3-Fold CV for K: 10; lam: 0.00000: train_rmse: 0.361, valid_rmse: 1.466\n",
      "3-Fold CV for K: 10; lam: 0.00000: train_rmse: 0.367, valid_rmse: 1.483\n",
      "3-Fold CV for K: 10; lam: 0.00000: train_rmse: 0.357, valid_rmse: 1.307\n",
      "3-Fold CV for K: 10; lam: 0.00000: train_rmse: 0.359, valid_rmse: 1.305\n",
      "3-Fold CV for K: 10; lam: 0.00000: train_rmse: 0.359, valid_rmse: 1.316\n",
      "3-Fold CV for K: 10; lam: 0.00001: train_rmse: 0.368, valid_rmse: 1.170\n",
      "3-Fold CV for K: 10; lam: 0.00001: train_rmse: 0.365, valid_rmse: 1.149\n",
      "3-Fold CV for K: 10; lam: 0.00001: train_rmse: 0.366, valid_rmse: 1.160\n",
      "3-Fold CV for K: 10; lam: 0.00003: train_rmse: 0.405, valid_rmse: 1.072\n",
      "3-Fold CV for K: 10; lam: 0.00003: train_rmse: 0.407, valid_rmse: 1.044\n",
      "3-Fold CV for K: 10; lam: 0.00003: train_rmse: 0.403, valid_rmse: 1.070\n",
      "3-Fold CV for K: 10; lam: 0.00010: train_rmse: 0.538, valid_rmse: 0.939\n",
      "3-Fold CV for K: 10; lam: 0.00010: train_rmse: 0.540, valid_rmse: 0.947\n",
      "3-Fold CV for K: 10; lam: 0.00010: train_rmse: 0.540, valid_rmse: 0.939\n",
      "3-Fold CV for K: 10; lam: 0.00032: train_rmse: 0.791, valid_rmse: 0.884\n",
      "3-Fold CV for K: 10; lam: 0.00032: train_rmse: 0.790, valid_rmse: 0.885\n",
      "3-Fold CV for K: 10; lam: 0.00032: train_rmse: 0.786, valid_rmse: 0.883\n",
      "3-Fold CV for K: 10; lam: 0.00100: train_rmse: 0.931, valid_rmse: 0.932\n",
      "3-Fold CV for K: 10; lam: 0.00100: train_rmse: 0.930, valid_rmse: 0.935\n",
      "3-Fold CV for K: 10; lam: 0.00100: train_rmse: 0.933, valid_rmse: 0.927\n",
      "3-Fold CV for K: 10; lam: 0.00316: train_rmse: 0.932, valid_rmse: 0.929\n",
      "3-Fold CV for K: 10; lam: 0.00316: train_rmse: 0.927, valid_rmse: 0.939\n",
      "3-Fold CV for K: 10; lam: 0.00316: train_rmse: 0.934, valid_rmse: 0.926\n"
     ]
    },
    {
     "data": {
      "image/png": "[encoded data removed]",
      "text/plain": [
       "<Figure size 432x288 with 2 Axes>"
      ]
     },
     "metadata": {},
     "output_type": "display_data"
    },
    {
     "data": {
      "image/png": "[encoded data removed]",
      "text/plain": [
       "<Figure size 432x288 with 2 Axes>"
      ]
     },
     "metadata": {},
     "output_type": "display_data"
    }
   ],
   "source": [
    "# fit user_mean + LFM_CV by residual ratings \n",
    "train_rating_res = train_rating_cm - user_ave.predict(train_pair)\n",
    "\n",
    "Ks, lams = [2, 3, 5, 10], 10**np.arange(-6, -2, .5)\n",
    "shiing_cv = LFM_CV(n_user, n_item, cv=3, Ks=Ks, lams=lams)\n",
    "shiing_cv.grid_search(train_pair, train_rating_res)\n",
    "shiing_cv.plot_grid('valid')\n",
    "shiing_cv.plot_grid('train')"
   ]
  },
  {
   "cell_type": "code",
   "execution_count": 31,
   "metadata": {},
   "outputs": [
    {
     "name": "stdout",
     "output_type": "stream",
     "text": [
      "K             10.000000\n",
      "lam            0.000316\n",
      "train_rmse     0.788936\n",
      "valid_rmse     0.884190\n",
      "Name: 29, dtype: float64\n",
      "Fitting Reg-LFM: K: 10, lam: 0.00032\n",
      "Reg-LFM: ite: 0; diff: 0.736 RMSE: 0.875\n",
      "Reg-LFM: ite: 1; diff: 0.027 RMSE: 0.851\n",
      "Reg-LFM: ite: 2; diff: 0.018 RMSE: 0.836\n",
      "Reg-LFM: ite: 3; diff: 0.003 RMSE: 0.833\n",
      "Reg-LFM: ite: 4; diff: 0.001 RMSE: 0.832\n",
      "Reg-LFM: ite: 5; diff: 0.001 RMSE: 0.831\n",
      "Reg-LFM: ite: 6; diff: 0.001 RMSE: 0.831\n",
      "Reg-LFM: ite: 7; diff: 0.001 RMSE: 0.830\n",
      "Reg-LFM: ite: 8; diff: 0.001 RMSE: 0.829\n",
      "Reg-LFM: ite: 9; diff: 0.001 RMSE: 0.829\n",
      "RMSE for user_mean + LFM: 0.894\n"
     ]
    }
   ],
   "source": [
    "## refit the best model with the full dataset\n",
    "print(shiing_cv.best_model)\n",
    "best_K, best_lam = int(shiing_cv.best_model['K']), shiing_cv.best_model['lam']\n",
    "shiing_best = LFM(n_user, n_item, K=best_K, lam=best_lam)\n",
    "shiing_best.fit(train_pair, train_rating_res)\n",
    "pred_LFM = pred_user_mean + shiing_best.predict(test_pair)\n",
    "print('RMSE for user_mean + LFM: %.3f' %rmse(test_rating, pred_LFM))"
   ]
  },
  {
   "cell_type": "markdown",
   "metadata": {},
   "source": [
    "## How to use the existing Python package ([Surprise](http://surpriselib.com/)) to make prediction in recommender systems\n",
    "\n",
    "### Installation via `pip`\n",
    "```console\n",
    "$ pip install scikit-surprise\n",
    "```\n",
    "### Installation via `conda`\n",
    "```console\n",
    "$ conda install -c conda-forge scikit-surprise\n",
    "```\n",
    "### Implementation\n",
    "\t- Load package and data\n",
    "\t- Convert the data to be type that `suprise` could understand\n",
    "\t- Determine which method you want to use"
   ]
  },
  {
   "cell_type": "code",
   "execution_count": 1,
   "metadata": {},
   "outputs": [
    {
     "name": "stderr",
     "output_type": "stream",
     "text": [
      "<frozen importlib._bootstrap>:219: RuntimeWarning: numpy.ufunc size changed, may indicate binary incompatibility. Expected 192 from C header, got 216 from PyObject\n",
      "<frozen importlib._bootstrap>:219: RuntimeWarning: numpy.ufunc size changed, may indicate binary incompatibility. Expected 192 from C header, got 216 from PyObject\n"
     ]
    }
   ],
   "source": [
    "## Step 1: Load package and data\n",
    "import numpy as np\n",
    "import pandas as pd\n",
    "\n",
    "df = pd.read_csv('./dataset/ml-latest-small/ratings.csv')\n",
    "del df['timestamp']\n",
    "## mapping \n",
    "from sklearn import preprocessing\n",
    "le = preprocessing.LabelEncoder()\n",
    "df['movieId'] = le.fit_transform(df['movieId'])\n",
    "df['userId'] = le.fit_transform(df['userId'])\n",
    "## generate train / test dataset\n",
    "from sklearn.model_selection import train_test_split\n",
    "dtrain, dtest = train_test_split(df, test_size=0.33, random_state=42)\n",
    "## save real ratings for test set for evaluation.\n",
    "test_rating = np.array(dtest['rating'])\n",
    "## remove the ratings in the test set to simulate prediction\n",
    "dtest = dtest.drop(columns='rating')\n",
    "\n",
    "## Step 2: Convert the data to be type that `suprise` could understand\n",
    "# via `reader` in `surprise`\n",
    "from surprise import Reader\n",
    "from surprise import Dataset\n",
    "# rating_scale is required\n",
    "reader = Reader(rating_scale=(0.5, 5.0))\n",
    "## this auto-folds dataset\n",
    "surp_train_AF = Dataset.load_from_df(dtrain[['userId', 'movieId', 'rating']], reader)\n",
    "## this is trainset dataset\n",
    "surp_train = surp_train_AF.build_full_trainset()"
   ]
  },
  {
   "cell_type": "code",
   "execution_count": 11,
   "metadata": {},
   "outputs": [],
   "source": [
    "## `surprise` has an issue to cold-start problem when make prediction\n",
    "# define a prediction function to exclude the cold-start users/items\n",
    "def surp_pred(dtest, dtrain, method, cold_start=True):\n",
    "\tgbl_mean = dtrain['rating'].mean()\n",
    "\tuser_lst, item_lst = list(set(dtrain['userId'])), list(set(dtrain['movieId']))\n",
    "\tsurp_pred_lst = []\n",
    "\tfor _, row in dtest.iterrows():\n",
    "\t\tuser_id, item_id = row['userId'], row['movieId']\n",
    "\t\tif cold_start:\n",
    "\t\t\trating_tmp = method.estimate(user_id, item_id)\n",
    "\t\telse:\n",
    "\t\t\tif ((row['userId'] in user_lst) and (row['movieId'] in item_lst)):\n",
    "\t\t\t\trating_tmp = method.estimate(user_id, item_id)\n",
    "\t\t\telse:\n",
    "\t\t\t\trating_tmp = gbl_mean\n",
    "\t\tsurp_pred_lst.append(rating_tmp)\n",
    "\tsurp_pred_lst = np.array(surp_pred_lst)\n",
    "\treturn surp_pred_lst"
   ]
  },
  {
   "cell_type": "code",
   "execution_count": 5,
   "metadata": {},
   "outputs": [
    {
     "name": "stdout",
     "output_type": "stream",
     "text": [
      "Estimating biases using als...\n",
      "RSME for surprise-baseline: 1.114\n"
     ]
    }
   ],
   "source": [
    "## Step 3: determine the method you want to use\n",
    "# algo 1: baseline\n",
    "from surprise.prediction_algorithms.baseline_only import BaselineOnly\n",
    "from surprise.model_selection import cross_validate\n",
    "algo1 = BaselineOnly()\n",
    "# fit model\n",
    "algo1.fit(surp_train)\n",
    "pred_baseline = surp_pred(dtest, dtrain, algo1)\n",
    "print('RSME for surprise-baseline: %.3f' %rmse(test_rating, pred_baseline))"
   ]
  },
  {
   "cell_type": "code",
   "execution_count": 8,
   "metadata": {},
   "outputs": [
    {
     "name": "stdout",
     "output_type": "stream",
     "text": [
      "    split0_test_rmse  split1_test_rmse  split2_test_rmse  mean_test_rmse  \\\n",
      "0           0.885570          0.879980          0.881535        0.882362   \n",
      "1           0.885386          0.880053          0.881267        0.882236   \n",
      "2           0.886351          0.881808          0.883732        0.883964   \n",
      "3           0.888501          0.881690          0.884495        0.884895   \n",
      "4           0.886044          0.879276          0.881215        0.882179   \n",
      "5           0.886668          0.880120          0.882028        0.882939   \n",
      "6           0.886257          0.880413          0.883666        0.883445   \n",
      "7           0.887919          0.882667          0.883158        0.884581   \n",
      "8           0.885738          0.879481          0.881751        0.882323   \n",
      "9           0.885912          0.880183          0.882080        0.882725   \n",
      "10          0.886640          0.881612          0.882524        0.883592   \n",
      "11          0.888035          0.882238          0.882387        0.884220   \n",
      "12          0.885583          0.879673          0.881941        0.882399   \n",
      "13          0.885354          0.880331          0.881839        0.882508   \n",
      "14          0.886249          0.879977          0.881334        0.882520   \n",
      "15          0.887679          0.881021          0.884592        0.884431   \n",
      "\n",
      "    std_test_rmse  rank_test_rmse  mean_fit_time  std_fit_time  \\\n",
      "0        0.002356               4       0.445200      0.000970   \n",
      "1        0.002282               2       0.449169      0.000850   \n",
      "2        0.001862              12       0.482579      0.002626   \n",
      "3        0.002795              16       0.589027      0.007131   \n",
      "4        0.002846               1       0.435837      0.005340   \n",
      "5        0.002749               9       0.446406      0.000338   \n",
      "6        0.002391              10       0.482039      0.001486   \n",
      "7        0.002368              15       0.589506      0.001983   \n",
      "8        0.002586               3       0.432324      0.003720   \n",
      "9        0.002383               8       0.445352      0.001089   \n",
      "10       0.002187              11       0.486243      0.003818   \n",
      "11       0.002698              13       0.616234      0.010166   \n",
      "12       0.002435               5       0.449335      0.008251   \n",
      "13       0.002104               6       0.455968      0.000941   \n",
      "14       0.002695               7       0.491282      0.004655   \n",
      "15       0.002721              14       0.612707      0.018788   \n",
      "\n",
      "    mean_test_time  std_test_time  \\\n",
      "0         0.109392       0.043115   \n",
      "1         0.106715       0.040278   \n",
      "2         0.106471       0.039805   \n",
      "3         0.077221       0.000410   \n",
      "4         0.111263       0.042005   \n",
      "5         0.106073       0.039937   \n",
      "6         0.077920       0.000318   \n",
      "7         0.107472       0.041205   \n",
      "8         0.106949       0.041627   \n",
      "9         0.077355       0.000353   \n",
      "10        0.105830       0.039590   \n",
      "11        0.114172       0.047480   \n",
      "12        0.078815       0.000509   \n",
      "13        0.108812       0.043436   \n",
      "14        0.107248       0.040125   \n",
      "15        0.107698       0.040286   \n",
      "\n",
      "                                               params  param_reg_all  \\\n",
      "0                 {'reg_all': 0.0001, 'n_factors': 2}       0.000100   \n",
      "1                 {'reg_all': 0.0001, 'n_factors': 3}       0.000100   \n",
      "2                 {'reg_all': 0.0001, 'n_factors': 5}       0.000100   \n",
      "3                {'reg_all': 0.0001, 'n_factors': 10}       0.000100   \n",
      "4   {'reg_all': 0.00031622776601683794, 'n_factors...       0.000316   \n",
      "5   {'reg_all': 0.00031622776601683794, 'n_factors...       0.000316   \n",
      "6   {'reg_all': 0.00031622776601683794, 'n_factors...       0.000316   \n",
      "7   {'reg_all': 0.00031622776601683794, 'n_factors...       0.000316   \n",
      "8                  {'reg_all': 0.001, 'n_factors': 2}       0.001000   \n",
      "9                  {'reg_all': 0.001, 'n_factors': 3}       0.001000   \n",
      "10                 {'reg_all': 0.001, 'n_factors': 5}       0.001000   \n",
      "11                {'reg_all': 0.001, 'n_factors': 10}       0.001000   \n",
      "12  {'reg_all': 0.0031622776601683794, 'n_factors'...       0.003162   \n",
      "13  {'reg_all': 0.0031622776601683794, 'n_factors'...       0.003162   \n",
      "14  {'reg_all': 0.0031622776601683794, 'n_factors'...       0.003162   \n",
      "15  {'reg_all': 0.0031622776601683794, 'n_factors'...       0.003162   \n",
      "\n",
      "    param_n_factors  \n",
      "0                 2  \n",
      "1                 3  \n",
      "2                 5  \n",
      "3                10  \n",
      "4                 2  \n",
      "5                 3  \n",
      "6                 5  \n",
      "7                10  \n",
      "8                 2  \n",
      "9                 3  \n",
      "10                5  \n",
      "11               10  \n",
      "12                2  \n",
      "13                3  \n",
      "14                5  \n",
      "15               10  \n",
      "best RMSE score: 0.882\n",
      "best hyperparam: {'reg_all': 0.00031622776601683794, 'n_factors': 2}\n",
      "RSME for surprise-svd-best: 1.152\n"
     ]
    }
   ],
   "source": [
    "# algo 2: SVD model\n",
    "from surprise.prediction_algorithms.matrix_factorization import SVD\n",
    "from surprise.model_selection import GridSearchCV\n",
    "## GS based on CV\n",
    "param_grid = {'reg_all': 10**np.arange(-4, -2, .5), 'n_factors': [2, 3, 5, 10]}\n",
    "gs = GridSearchCV(SVD, param_grid, measures=['rmse'], cv=3)\n",
    "gs.fit(surp_train_AF)\n",
    "# cv result \n",
    "results_df = pd.DataFrame.from_dict(gs.cv_results)\n",
    "print(results_df)\n",
    "# best RMSE score\n",
    "print('best RMSE score: %.3f' %gs.best_score['rmse'])\n",
    "# combination of parameters that gave the best RMSE score\n",
    "print('best hyperparam: %s' %gs.best_params['rmse'])\n",
    "# We can now use the algorithm that yields the best rmse:\n",
    "algo2_best = gs.best_estimator['rmse']\n",
    "algo2_best.fit(surp_train)\n",
    "# make prediction\n",
    "pred_svd = surp_pred(dtest, dtrain, algo2_best)\n",
    "print('RSME for surprise-svd-best: %.3f' %rmse(test_rating, pred_svd))"
   ]
  },
  {
   "cell_type": "markdown",
   "metadata": {},
   "source": [
    "## More models: `CoClustering` and `SVDpp`(Homework)"
   ]
  },
  {
   "cell_type": "code",
   "execution_count": 12,
   "metadata": {},
   "outputs": [
    {
     "name": "stdout",
     "output_type": "stream",
     "text": [
      "    split0_test_rmse  split1_test_rmse  split2_test_rmse  mean_test_rmse  \\\n",
      "0           0.958307          0.971918          0.966453        0.965559   \n",
      "1           0.958515          0.972774          0.966407        0.965899   \n",
      "2           0.962125          0.972931          0.966154        0.967070   \n",
      "3           0.960948          0.974925          0.969479        0.968451   \n",
      "4           0.961703          0.973350          0.967765        0.967606   \n",
      "5           0.967434          0.976966          0.971585        0.971995   \n",
      "6           0.970436          0.980488          0.975335        0.975419   \n",
      "7           0.968342          0.983130          0.978493        0.976655   \n",
      "8           0.960703          0.972776          0.965958        0.966479   \n",
      "9           0.967258          0.977812          0.973544        0.972871   \n",
      "10          0.972650          0.985578          0.978612        0.978947   \n",
      "11          0.980898          0.991958          0.985166        0.986007   \n",
      "12          0.959000          0.977398          0.970023        0.968807   \n",
      "13          0.964619          0.983819          0.978088        0.975509   \n",
      "14          0.978343          0.994945          0.986251        0.986513   \n",
      "15          0.990508          0.999305          0.994814        0.994875   \n",
      "\n",
      "    std_test_rmse  rank_test_rmse  mean_fit_time  std_fit_time  \\\n",
      "0        0.005592               1       0.738356      0.006106   \n",
      "1        0.005832               2       0.728860      0.010279   \n",
      "2        0.004459               4       0.795607      0.006532   \n",
      "3        0.005752               6       0.978880      0.003867   \n",
      "4        0.004756               5       0.715065      0.005124   \n",
      "5        0.003902               8       0.758395      0.014080   \n",
      "6        0.004104              10       0.826097      0.004409   \n",
      "7        0.006176              12       1.028474      0.000908   \n",
      "8        0.004943               3       0.780946      0.008305   \n",
      "9        0.004335               9       0.833985      0.003243   \n",
      "10       0.005283              13       0.920769      0.000651   \n",
      "11       0.004554              14       1.102845      0.014520   \n",
      "12       0.007560               7       0.924397      0.013864   \n",
      "13       0.008048              11       0.985677      0.003766   \n",
      "14       0.006780              15       1.082388      0.026024   \n",
      "15       0.003592              16       1.246148      0.028583   \n",
      "\n",
      "    mean_test_time  std_test_time                            params  \\\n",
      "0         0.089571       0.040681    {'n_cltr_u': 2, 'n_cltr_i': 2}   \n",
      "1         0.089247       0.041963    {'n_cltr_u': 2, 'n_cltr_i': 3}   \n",
      "2         0.088591       0.042106    {'n_cltr_u': 2, 'n_cltr_i': 5}   \n",
      "3         0.059161       0.000227   {'n_cltr_u': 2, 'n_cltr_i': 10}   \n",
      "4         0.089200       0.043039    {'n_cltr_u': 3, 'n_cltr_i': 2}   \n",
      "5         0.088937       0.041798    {'n_cltr_u': 3, 'n_cltr_i': 3}   \n",
      "6         0.059198       0.000237    {'n_cltr_u': 3, 'n_cltr_i': 5}   \n",
      "7         0.088577       0.040673   {'n_cltr_u': 3, 'n_cltr_i': 10}   \n",
      "8         0.059422       0.000112    {'n_cltr_u': 5, 'n_cltr_i': 2}   \n",
      "9         0.089209       0.041762    {'n_cltr_u': 5, 'n_cltr_i': 3}   \n",
      "10        0.088711       0.040900    {'n_cltr_u': 5, 'n_cltr_i': 5}   \n",
      "11        0.088614       0.042345   {'n_cltr_u': 5, 'n_cltr_i': 10}   \n",
      "12        0.059275       0.000748   {'n_cltr_u': 10, 'n_cltr_i': 2}   \n",
      "13        0.089423       0.040877   {'n_cltr_u': 10, 'n_cltr_i': 3}   \n",
      "14        0.059088       0.000921   {'n_cltr_u': 10, 'n_cltr_i': 5}   \n",
      "15        0.088197       0.041664  {'n_cltr_u': 10, 'n_cltr_i': 10}   \n",
      "\n",
      "    param_n_cltr_u  param_n_cltr_i  \n",
      "0                2               2  \n",
      "1                2               3  \n",
      "2                2               5  \n",
      "3                2              10  \n",
      "4                3               2  \n",
      "5                3               3  \n",
      "6                3               5  \n",
      "7                3              10  \n",
      "8                5               2  \n",
      "9                5               3  \n",
      "10               5               5  \n",
      "11               5              10  \n",
      "12              10               2  \n",
      "13              10               3  \n",
      "14              10               5  \n",
      "15              10              10  \n",
      "best RMSE score: 0.966\n",
      "best hyperparam: {'n_cltr_u': 2, 'n_cltr_i': 2}\n"
     ]
    },
    {
     "name": "stderr",
     "output_type": "stream",
     "text": [
      "<ipython-input-12-f4c4bf03bb93>:17: DeprecationWarning: `np.int` is a deprecated alias for the builtin `int`. To silence this warning, use `int` by itself. Doing this will not modify any behavior and is safe. When replacing `np.int`, you may wish to use e.g. `np.int64` or `np.int32` to specify the precision. If you wish to review your current use, check the release note link for additional information.\n",
      "Deprecated in NumPy 1.20; for more details and guidance: https://numpy.org/devdocs/release/1.20.0-notes.html#deprecations\n",
      "  algo3_best.fit(surp_train)\n"
     ]
    },
    {
     "name": "stdout",
     "output_type": "stream",
     "text": [
      "RSME for surprise-svd: 1.431\n"
     ]
    }
   ],
   "source": [
    "# algo 3: Co-clustering model\n",
    "from surprise.prediction_algorithms.matrix_factorization import SVD, SVDpp\n",
    "from surprise.prediction_algorithms.co_clustering import CoClustering\n",
    "## GS based on CV\n",
    "param_grid = {'n_cltr_u': [2, 3, 5, 10], 'n_cltr_i': [2, 3, 5, 10]}\n",
    "gs = GridSearchCV(CoClustering, param_grid, measures=['rmse'], cv=3)\n",
    "gs.fit(surp_train_AF)\n",
    "# cv result \n",
    "results_df = pd.DataFrame.from_dict(gs.cv_results)\n",
    "print(results_df)\n",
    "# best RMSE score\n",
    "print('best RMSE score: %.3f' %gs.best_score['rmse'])\n",
    "# combination of parameters that gave the best RMSE score\n",
    "print('best hyperparam: %s' %gs.best_params['rmse'])\n",
    "# We can now use the algorithm that yields the best rmse:\n",
    "algo3_best = gs.best_estimator['rmse']\n",
    "algo3_best.fit(surp_train)\n",
    "# make prediction\n",
    "pred_coc = surp_pred(dtest, dtrain, algo3_best)\n",
    "print('RSME for surprise-svd: %.3f' %rmse(test_rating, pred_coc))"
   ]
  },
  {
   "cell_type": "markdown",
   "metadata": {},
   "source": [
    "## We still suffer from cold-start issue, in the following lectures we will provide more methods to solve this issue."
   ]
  }
 ],
 "metadata": {
  "interpreter": {
   "hash": "414c3711fdd48b2f544ed65b2d7540fc36858fd70ee4f390e2b75c8d3b465c57"
  },
  "kernelspec": {
   "display_name": "Python 3 (ipykernel)",
   "language": "python",
   "name": "python3"
  },
  "language_info": {
   "codemirror_mode": {
    "name": "ipython",
    "version": 3
   },
   "file_extension": ".py",
   "mimetype": "text/x-python",
   "name": "python",
   "nbconvert_exporter": "python",
   "pygments_lexer": "ipython3",
   "version": "3.9.5"
  }
 },
 "nbformat": 4,
 "nbformat_minor": 2
}
