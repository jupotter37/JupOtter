{
  "nbformat": 4,
  "nbformat_minor": 0,
  "metadata": {
    "kernelspec": {
      "display_name": "Python 3",
      "language": "python",
      "name": "python3"
    },
    "language_info": {
      "codemirror_mode": {
        "name": "ipython",
        "version": 3
      },
      "file_extension": ".py",
      "mimetype": "text/x-python",
      "name": "python",
      "nbconvert_exporter": "python",
      "pygments_lexer": "ipython3",
      "version": "3.7.9"
    },
    "colab": {
      "name": "W1T2 Two Lines.ipynb",
      "provenance": [],
      "toc_visible": true,
      "include_colab_link": true
    }
  },
  "cells": [
    {
      "cell_type": "markdown",
      "metadata": {
        "id": "view-in-github",
        "colab_type": "text"
      },
      "source": [
        "<a href=\"https://colab.research.google.com/github/john-s-butler-dit/Basic-Introduction-to-Python/blob/master/W1T2%20Two%20Lines.ipynb\" target=\"_parent\"><img src=\"https://colab.research.google.com/assets/colab-badge.svg\" alt=\"Open In Colab\"/></a>"
      ]
    },
    {
      "cell_type": "markdown",
      "metadata": {
        "id": "mlTL0CmO9ZSe"
      },
      "source": [
        "# Two lines Week 1, Tutorial 2"
      ]
    },
    {
      "cell_type": "markdown",
      "metadata": {
        "id": "MEBTjrue9ZSp"
      },
      "source": [
        "In this notebook we will show some of the basics of plotting multiple lines."
      ]
    },
    {
      "cell_type": "markdown",
      "metadata": {
        "id": "ffjzr2nJ9ZSq"
      },
      "source": [
        "### Libraries"
      ]
    },
    {
      "cell_type": "code",
      "metadata": {
        "id": "8z3T5SYD9ZSq"
      },
      "source": [
        "# LIBRARY\n",
        "\n",
        "import numpy as np # vector manipulation\n",
        "\n",
        "# THIS IS FOR PLOTTING\n",
        "%matplotlib inline\n",
        "import matplotlib.pyplot as plt # side-stepping mpl backend\n",
        "import warnings\n",
        "warnings.filterwarnings(\"ignore\")"
      ],
      "execution_count": 1,
      "outputs": []
    },
    {
      "cell_type": "markdown",
      "metadata": {
        "id": "3X3AEVMc9ZSr"
      },
      "source": [
        "## A plot with two lines\n",
        "\n",
        "The code below will plot two lines from 20 to 70 on the x axis.\n",
        "The first line will have a slope of $m=0.3$ and an intercept of $c=30$.\n",
        "The formula for the first line is\n",
        "$$ y1=0.3x+30.$$\n",
        "The second line will have a slope of $m=0.5$ and an intercept of $c=10$.\n",
        "The formula for the second line is\n",
        "$$ y2=0.5x+10.$$\n",
        "\n",
        "\n",
        "We first assign the values:"
      ]
    },
    {
      "cell_type": "code",
      "metadata": {
        "id": "5lUhCrMW9ZSr"
      },
      "source": [
        "m1=0.3\n",
        "c1=30\n",
        "m2=0.5\n",
        "c2=10"
      ],
      "execution_count": 2,
      "outputs": []
    },
    {
      "cell_type": "markdown",
      "metadata": {
        "id": "mDOXqVWK9ZSr"
      },
      "source": [
        "Now we define a range of x values starting at 20 and ending at 69 in unit steps. To do this we use the __numpy__ library function __arange__."
      ]
    },
    {
      "cell_type": "code",
      "metadata": {
        "id": "pteMyJUp9ZSs"
      },
      "source": [
        "x=np.arange(20,70,1)"
      ],
      "execution_count": 3,
      "outputs": []
    },
    {
      "cell_type": "markdown",
      "metadata": {
        "id": "jMMllwVk9ZSs"
      },
      "source": [
        "We now write the formula for the lines\n",
        "$$ y1=m1x+c1$$\n",
        "and\n",
        "$$ y2=m2x+c2$$."
      ]
    },
    {
      "cell_type": "code",
      "metadata": {
        "id": "oVYlGsVq9ZSs"
      },
      "source": [
        "y1= m1*x+c1\n",
        "y2= m2*x+c2"
      ],
      "execution_count": 4,
      "outputs": []
    },
    {
      "cell_type": "markdown",
      "metadata": {
        "id": "JGk-hiiI9ZSs"
      },
      "source": [
        "To plot the result we use the __matplotlib__ library function __plt__."
      ]
    },
    {
      "cell_type": "code",
      "metadata": {
        "id": "wYA7668p9ZSt",
        "outputId": "071d64ef-5613-49ca-f500-89a1cfad2522",
        "colab": {
          "base_uri": "https://localhost:8080/",
          "height": 374
        }
      },
      "source": [
        "fig = plt.figure(figsize=(6,6)) # This setups the size of the figure\n",
        "plt.plot(x,y1,'-',color='red')\n",
        "plt.plot(x,y2,'-',color='blue')\n",
        "\n",
        "plt.show() # This plots the figure"
      ],
      "execution_count": 5,
      "outputs": [
        {
          "output_type": "display_data",
          "data": {
            "image/png": "[encoded data removed]",
            "text/plain": [
              "<Figure size 432x432 with 1 Axes>"
            ]
          },
          "metadata": {
            "needs_background": "light"
          }
        }
      ]
    },
    {
      "cell_type": "markdown",
      "metadata": {
        "id": "ylsFZPmK9ZSu"
      },
      "source": [
        "# Problems \n"
      ]
    },
    {
      "cell_type": "markdown",
      "source": [
        "## Problem 1\n",
        "Re-do the plot with two new lines:\n",
        "1. the first with a slope of 0.05 and an intercept of 50.\n",
        "2. the second with a slope of 1 and an intercept of 5."
      ],
      "metadata": {
        "id": "yyqBf8c8DIzO"
      }
    },
    {
      "cell_type": "code",
      "metadata": {
        "id": "tJom6OfH9ZSu",
        "outputId": "a9041aad-9046-47b1-81ea-c29af9133204",
        "colab": {
          "base_uri": "https://localhost:8080/",
          "height": 374
        }
      },
      "source": [
        "##############################################################################\n",
        "## INSERT: Update the lines \n",
        "##############################################################################\n",
        "\n",
        "\n",
        "##############################################################################\n",
        "#######################ANSWER#################################\n",
        "\n",
        "\n",
        "y1= m1*x+c1\n",
        "y2= m2*x+c2\n",
        "##############################################################################\n",
        "\n",
        "fig = plt.figure(figsize=(6,6))\n",
        "plt.plot(x,y1,'-',color='red')\n",
        "plt.plot(x,y2,'-',color='blue')\n",
        "plt.show()"
      ],
      "execution_count": 6,
      "outputs": [
        {
          "output_type": "display_data",
          "data": {
            "image/png": "[encoded data removed]",
            "text/plain": [
              "<Figure size 432x432 with 1 Axes>"
            ]
          },
          "metadata": {
            "needs_background": "light"
          }
        }
      ]
    },
    {
      "cell_type": "markdown",
      "metadata": {
        "id": "8bMV5tT39ZSu"
      },
      "source": [
        "## Problem 2\n",
        "Add in the label age on the x axis and TDT(ms) on the y axis"
      ]
    },
    {
      "cell_type": "code",
      "metadata": {
        "id": "cFyaM7RE9ZSv",
        "outputId": "d333d3b0-396d-4cd5-a84f-9c59d7026691",
        "colab": {
          "base_uri": "https://localhost:8080/",
          "height": 374
        }
      },
      "source": [
        "##############################################################################\n",
        "## TO DO: change the labels\n",
        "##############################################################################\n",
        "fig = plt.figure(figsize=(6,6)) # This setups the size of the figure\n",
        "plt.plot(x,y1,'-',color='red')\n",
        "plt.plot(x,y2,'-',color='blue')\n",
        "\n",
        "#######################ANSWER#################################\n",
        "\n",
        "\n",
        "#######################ANSWER#################################\n",
        "\n",
        "plt.show() # This plots the figure"
      ],
      "execution_count": 7,
      "outputs": [
        {
          "output_type": "display_data",
          "data": {
            "image/png": "[encoded data removed]",
            "text/plain": [
              "<Figure size 432x432 with 1 Axes>"
            ]
          },
          "metadata": {
            "needs_background": "light"
          }
        }
      ]
    },
    {
      "cell_type": "markdown",
      "metadata": {
        "id": "vTdPLOY59ZSv"
      },
      "source": [
        "## Problem 3\n",
        "What is the value of the 5th element of the y1 vector and the 10th element of the y2 vector."
      ]
    },
    {
      "cell_type": "code",
      "metadata": {
        "id": "Tg2n3Ghy9ZSw"
      },
      "source": [
        "#######################ANSWER#################################\n",
        "\n",
        "\n",
        "\n",
        "#######################ANSWER#################################"
      ],
      "execution_count": 8,
      "outputs": []
    },
    {
      "cell_type": "markdown",
      "metadata": {
        "id": "jyS4tdQQ9ZSw"
      },
      "source": [
        "## Problem 4\n",
        "Why does the code below not work?\n",
        "How would you fix it?"
      ]
    },
    {
      "cell_type": "code",
      "metadata": {
        "id": "xW115Xn19ZSx",
        "outputId": "083b44bf-fd0f-4cc1-b8a7-7725cdf5c28e",
        "colab": {
          "base_uri": "https://localhost:8080/",
          "height": 183
        }
      },
      "source": [
        "y= m*x+c\n",
        "print(y)"
      ],
      "execution_count": 9,
      "outputs": [
        {
          "output_type": "error",
          "ename": "NameError",
          "evalue": "ignored",
          "traceback": [
            "\u001b[0;31m---------------------------------------------------------------------------\u001b[0m",
            "\u001b[0;31mNameError\u001b[0m                                 Traceback (most recent call last)",
            "\u001b[0;32m<ipython-input-9-18c9897835a4>\u001b[0m in \u001b[0;36m<module>\u001b[0;34m()\u001b[0m\n\u001b[0;32m----> 1\u001b[0;31m \u001b[0my\u001b[0m\u001b[0;34m=\u001b[0m \u001b[0mm\u001b[0m\u001b[0;34m*\u001b[0m\u001b[0mx\u001b[0m\u001b[0;34m+\u001b[0m\u001b[0mc\u001b[0m\u001b[0;34m\u001b[0m\u001b[0;34m\u001b[0m\u001b[0m\n\u001b[0m\u001b[1;32m      2\u001b[0m \u001b[0mprint\u001b[0m\u001b[0;34m(\u001b[0m\u001b[0my\u001b[0m\u001b[0;34m)\u001b[0m\u001b[0;34m\u001b[0m\u001b[0;34m\u001b[0m\u001b[0m\n",
            "\u001b[0;31mNameError\u001b[0m: name 'm' is not defined"
          ]
        }
      ]
    },
    {
      "cell_type": "markdown",
      "metadata": {
        "id": "0xYPdSvY9ZSx"
      },
      "source": [
        "---\n",
        "# Summary\n",
        "\n",
        "In this tutorial, we learned:\n",
        "\n",
        "* To plot multiple lines.\n",
        "* To add infromation to a plot.\n",
        "* To not worry if the code does not work."
      ]
    },
    {
      "cell_type": "code",
      "metadata": {
        "id": "uz6ISSJ59ZSx"
      },
      "source": [
        ""
      ],
      "execution_count": null,
      "outputs": []
    }
  ]
}