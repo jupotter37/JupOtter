{
 "cells": [
  {
   "cell_type": "code",
   "execution_count": 1,
   "metadata": {},
   "outputs": [],
   "source": [
    "%load_ext autoreload\n",
    "%autoreload 2"
   ]
  },
  {
   "cell_type": "code",
   "execution_count": 2,
   "metadata": {},
   "outputs": [],
   "source": [
    "from sklearn.model_selection import train_test_split\n",
    "\n",
    "from gptchem.data import get_mof_solvent_data\n",
    "from gptchem.formatter import MOFSolventRecommenderFormatter\n",
    "from gptchem.querier import Querier\n",
    "from gptchem.tuner import Tuner"
   ]
  },
  {
   "cell_type": "code",
   "execution_count": 3,
   "metadata": {},
   "outputs": [],
   "source": [
    "data = get_mof_solvent_data()"
   ]
  },
  {
   "cell_type": "code",
   "execution_count": 4,
   "metadata": {},
   "outputs": [],
   "source": [
    "solvent_columns = [\"solvent1\", \"solvent2\", \"solvent3\", \"solvent4\", \"solvent5\"]\n",
    "solvent_molrations = [\n",
    "    \"sol_molratio1\",\n",
    "    \"sol_molratio2\",\n",
    "    \"sol_molratio3\",\n",
    "    \"sol_molratio4\",\n",
    "    \"sol_molratio5\",\n",
    "]\n",
    "metal = [\"core_All_Metals\"]\n",
    "counter_ions = [\"counterions1\"]\n",
    "linkers = [\"linker_1\", \"linker_2\"]"
   ]
  },
  {
   "cell_type": "code",
   "execution_count": 5,
   "metadata": {},
   "outputs": [],
   "source": [
    "recommender = MOFSolventRecommenderFormatter(\n",
    "    linker_columns=[\"linker_1\", \"linker_2\"],\n",
    "    node_columns=[\"core_All_Metals\"],\n",
    "    counter_ion_columns=[\"counterions1\"],\n",
    "    solvent_columns=[\"solvent1\", \"solvent2\", \"solvent3\", \"solvent4\", \"solvent5\"],\n",
    "    solvent_mol_ratio_columns=[\n",
    "        \"sol_molratio1\",\n",
    "        \"sol_molratio2\",\n",
    "        \"sol_molratio3\",\n",
    "        \"sol_molratio4\",\n",
    "        \"sol_molratio5\",\n",
    "    ],\n",
    ")"
   ]
  },
  {
   "cell_type": "code",
   "execution_count": 12,
   "metadata": {},
   "outputs": [],
   "source": [
    "formatted = recommender(data)"
   ]
  },
  {
   "cell_type": "code",
   "execution_count": 13,
   "metadata": {},
   "outputs": [
    {
     "data": {
      "text/html": [
       "<div>\n",
       "<style scoped>\n",
       "    .dataframe tbody tr th:only-of-type {\n",
       "        vertical-align: middle;\n",
       "    }\n",
       "\n",
       "    .dataframe tbody tr th {\n",
       "        vertical-align: top;\n",
       "    }\n",
       "\n",
       "    .dataframe thead th {\n",
       "        text-align: right;\n",
       "    }\n",
       "</style>\n",
       "<table border=\"1\" class=\"dataframe\">\n",
       "  <thead>\n",
       "    <tr style=\"text-align: right;\">\n",
       "      <th></th>\n",
       "      <th>prompt</th>\n",
       "      <th>completion</th>\n",
       "      <th>label</th>\n",
       "      <th>representation</th>\n",
       "      <th>solvents</th>\n",
       "      <th>solvent_mol_ratios</th>\n",
       "    </tr>\n",
       "  </thead>\n",
       "  <tbody>\n",
       "    <tr>\n",
       "      <th>0</th>\n",
       "      <td>In what solvent will [O-]C(=O)c1cc([N][N]c2cc(...</td>\n",
       "      <td>0.53 CN(C)C=O and 0.18 C(CO)O and 0.28 O@@@</td>\n",
       "      <td>0.53 CN(C)C=O and 0.18 C(CO)O and 0.28 O</td>\n",
       "      <td>[[[O-]C(=O)c1cc([N][N]c2cc(cc(c2)C(=O)O)C(=O)O...</td>\n",
       "      <td>[CN(C)C=O, C(CO)O, O, nan, nan]</td>\n",
       "      <td>[0.532, 0.184, 0.284, nan, nan]</td>\n",
       "    </tr>\n",
       "    <tr>\n",
       "      <th>1</th>\n",
       "      <td>In what solvent will O=C(c1cncc(c1)C(=O)Nc1ccc...</td>\n",
       "      <td>0.54 CN(C)C=O and 0.46 O@@@</td>\n",
       "      <td>0.54 CN(C)C=O and 0.46 O</td>\n",
       "      <td>[[O=C(c1cncc(c1)C(=O)Nc1ccc2c(c1)ccc(c2)C(=O)[...</td>\n",
       "      <td>[CN(C)C=O, O, nan, nan, nan]</td>\n",
       "      <td>[0.539, 0.461, nan, nan, nan]</td>\n",
       "    </tr>\n",
       "    <tr>\n",
       "      <th>2</th>\n",
       "      <td>In what solvent will [N]1C=NN=C1 and ZnF react...</td>\n",
       "      <td>1.0 O@@@</td>\n",
       "      <td>1.0 O</td>\n",
       "      <td>[[[N]1C=NN=C1, nan], [Zn], [F], [O, nan, nan, ...</td>\n",
       "      <td>[O, nan, nan, nan, nan]</td>\n",
       "      <td>[1.0, nan, nan, nan, nan]</td>\n",
       "    </tr>\n",
       "    <tr>\n",
       "      <th>3</th>\n",
       "      <td>In what solvent will [O-]C(=O)c1ccc(cc1)c1cccc...</td>\n",
       "      <td>0.56 CN(C)C=O and 0.34 O and 0.1 CCO@@@</td>\n",
       "      <td>0.56 CN(C)C=O and 0.34 O and 0.1 CCO</td>\n",
       "      <td>[[[O-]C(=O)c1ccc(cc1)c1cccc(c1)C(=O)[O-], nan]...</td>\n",
       "      <td>[CN(C)C=O, O, CCO, nan, nan]</td>\n",
       "      <td>[0.556, 0.339, 0.105, nan, nan]</td>\n",
       "    </tr>\n",
       "    <tr>\n",
       "      <th>4</th>\n",
       "      <td>In what solvent will [O-]C(=O)c1cc([N][N]c2cc(...</td>\n",
       "      <td>0.38 CN(C)C=O and 0.3 CCO and 0.32 O@@@</td>\n",
       "      <td>0.38 CN(C)C=O and 0.3 CCO and 0.32 O</td>\n",
       "      <td>[[[O-]C(=O)c1cc([N][N]c2cc(cc(c2)C(=O)[O-])C(=...</td>\n",
       "      <td>[CN(C)C=O, CCO, O, nan, nan]</td>\n",
       "      <td>[0.377, 0.3, 0.323, nan, nan]</td>\n",
       "    </tr>\n",
       "    <tr>\n",
       "      <th>...</th>\n",
       "      <td>...</td>\n",
       "      <td>...</td>\n",
       "      <td>...</td>\n",
       "      <td>...</td>\n",
       "      <td>...</td>\n",
       "      <td>...</td>\n",
       "    </tr>\n",
       "    <tr>\n",
       "      <th>431</th>\n",
       "      <td>In what solvent will Cc1c(c2c(C)c(c3ccncc3)c(c...</td>\n",
       "      <td>1.0 CO@@@</td>\n",
       "      <td>1.0 CO</td>\n",
       "      <td>[[Cc1c(c2c(C)c(c3ccncc3)c(c(c2C)c2ccncc2)C)c(C...</td>\n",
       "      <td>[CO, nan, nan, nan, nan]</td>\n",
       "      <td>[1.0, nan, nan, nan, nan]</td>\n",
       "    </tr>\n",
       "    <tr>\n",
       "      <th>432</th>\n",
       "      <td>In what solvent will [O-]C(=O)C1C(C(=O)[O-])C(...</td>\n",
       "      <td>1.0 O@@@</td>\n",
       "      <td>1.0 O</td>\n",
       "      <td>[[[O-]C(=O)C1C(C(=O)[O-])C(C1C(=O)[O-])C(=O)[O...</td>\n",
       "      <td>[O, nan, nan, nan, nan]</td>\n",
       "      <td>[1.0, nan, nan, nan, nan]</td>\n",
       "    </tr>\n",
       "    <tr>\n",
       "      <th>433</th>\n",
       "      <td>In what solvent will [O]P(=O)(C(P(=O)([O])[O])...</td>\n",
       "      <td>1.0 O@@@</td>\n",
       "      <td>1.0 O</td>\n",
       "      <td>[[[O]P(=O)(C(P(=O)([O])[O])(Cc1cccnc1)O)[O], n...</td>\n",
       "      <td>[O, nan, nan, nan, nan]</td>\n",
       "      <td>[1.0, nan, nan, nan, nan]</td>\n",
       "    </tr>\n",
       "    <tr>\n",
       "      <th>434</th>\n",
       "      <td>In what solvent will [O-]C(=O)c1cccc(c1)C(=O)[...</td>\n",
       "      <td>1.0 O@@@</td>\n",
       "      <td>1.0 O</td>\n",
       "      <td>[[[O-]C(=O)c1cccc(c1)C(=O)[O-], c1ccc(nc1)c1cc...</td>\n",
       "      <td>[O, nan, nan, nan, nan]</td>\n",
       "      <td>[1.0, nan, nan, nan, nan]</td>\n",
       "    </tr>\n",
       "    <tr>\n",
       "      <th>435</th>\n",
       "      <td>In what solvent will [O-]C(=O)c1ccc2c(c1)ccc(c...</td>\n",
       "      <td>1.0 CC(=O)N(C)C@@@</td>\n",
       "      <td>1.0 CC(=O)N(C)C</td>\n",
       "      <td>[[[O-]C(=O)c1ccc2c(c1)ccc(c2)N(c1ccc2c(c1)ccc(...</td>\n",
       "      <td>[CC(=O)N(C)C, nan, nan, nan, nan]</td>\n",
       "      <td>[1.0, nan, nan, nan, nan]</td>\n",
       "    </tr>\n",
       "  </tbody>\n",
       "</table>\n",
       "<p>436 rows × 6 columns</p>\n",
       "</div>"
      ],
      "text/plain": [
       "                                                prompt  \\\n",
       "0    In what solvent will [O-]C(=O)c1cc([N][N]c2cc(...   \n",
       "1    In what solvent will O=C(c1cncc(c1)C(=O)Nc1ccc...   \n",
       "2    In what solvent will [N]1C=NN=C1 and ZnF react...   \n",
       "3    In what solvent will [O-]C(=O)c1ccc(cc1)c1cccc...   \n",
       "4    In what solvent will [O-]C(=O)c1cc([N][N]c2cc(...   \n",
       "..                                                 ...   \n",
       "431  In what solvent will Cc1c(c2c(C)c(c3ccncc3)c(c...   \n",
       "432  In what solvent will [O-]C(=O)C1C(C(=O)[O-])C(...   \n",
       "433  In what solvent will [O]P(=O)(C(P(=O)([O])[O])...   \n",
       "434  In what solvent will [O-]C(=O)c1cccc(c1)C(=O)[...   \n",
       "435  In what solvent will [O-]C(=O)c1ccc2c(c1)ccc(c...   \n",
       "\n",
       "                                       completion  \\\n",
       "0     0.53 CN(C)C=O and 0.18 C(CO)O and 0.28 O@@@   \n",
       "1                     0.54 CN(C)C=O and 0.46 O@@@   \n",
       "2                                        1.0 O@@@   \n",
       "3         0.56 CN(C)C=O and 0.34 O and 0.1 CCO@@@   \n",
       "4         0.38 CN(C)C=O and 0.3 CCO and 0.32 O@@@   \n",
       "..                                            ...   \n",
       "431                                     1.0 CO@@@   \n",
       "432                                      1.0 O@@@   \n",
       "433                                      1.0 O@@@   \n",
       "434                                      1.0 O@@@   \n",
       "435                            1.0 CC(=O)N(C)C@@@   \n",
       "\n",
       "                                        label  \\\n",
       "0    0.53 CN(C)C=O and 0.18 C(CO)O and 0.28 O   \n",
       "1                    0.54 CN(C)C=O and 0.46 O   \n",
       "2                                       1.0 O   \n",
       "3        0.56 CN(C)C=O and 0.34 O and 0.1 CCO   \n",
       "4        0.38 CN(C)C=O and 0.3 CCO and 0.32 O   \n",
       "..                                        ...   \n",
       "431                                    1.0 CO   \n",
       "432                                     1.0 O   \n",
       "433                                     1.0 O   \n",
       "434                                     1.0 O   \n",
       "435                           1.0 CC(=O)N(C)C   \n",
       "\n",
       "                                        representation  \\\n",
       "0    [[[O-]C(=O)c1cc([N][N]c2cc(cc(c2)C(=O)O)C(=O)O...   \n",
       "1    [[O=C(c1cncc(c1)C(=O)Nc1ccc2c(c1)ccc(c2)C(=O)[...   \n",
       "2    [[[N]1C=NN=C1, nan], [Zn], [F], [O, nan, nan, ...   \n",
       "3    [[[O-]C(=O)c1ccc(cc1)c1cccc(c1)C(=O)[O-], nan]...   \n",
       "4    [[[O-]C(=O)c1cc([N][N]c2cc(cc(c2)C(=O)[O-])C(=...   \n",
       "..                                                 ...   \n",
       "431  [[Cc1c(c2c(C)c(c3ccncc3)c(c(c2C)c2ccncc2)C)c(C...   \n",
       "432  [[[O-]C(=O)C1C(C(=O)[O-])C(C1C(=O)[O-])C(=O)[O...   \n",
       "433  [[[O]P(=O)(C(P(=O)([O])[O])(Cc1cccnc1)O)[O], n...   \n",
       "434  [[[O-]C(=O)c1cccc(c1)C(=O)[O-], c1ccc(nc1)c1cc...   \n",
       "435  [[[O-]C(=O)c1ccc2c(c1)ccc(c2)N(c1ccc2c(c1)ccc(...   \n",
       "\n",
       "                              solvents               solvent_mol_ratios  \n",
       "0      [CN(C)C=O, C(CO)O, O, nan, nan]  [0.532, 0.184, 0.284, nan, nan]  \n",
       "1         [CN(C)C=O, O, nan, nan, nan]    [0.539, 0.461, nan, nan, nan]  \n",
       "2              [O, nan, nan, nan, nan]        [1.0, nan, nan, nan, nan]  \n",
       "3         [CN(C)C=O, O, CCO, nan, nan]  [0.556, 0.339, 0.105, nan, nan]  \n",
       "4         [CN(C)C=O, CCO, O, nan, nan]    [0.377, 0.3, 0.323, nan, nan]  \n",
       "..                                 ...                              ...  \n",
       "431           [CO, nan, nan, nan, nan]        [1.0, nan, nan, nan, nan]  \n",
       "432            [O, nan, nan, nan, nan]        [1.0, nan, nan, nan, nan]  \n",
       "433            [O, nan, nan, nan, nan]        [1.0, nan, nan, nan, nan]  \n",
       "434            [O, nan, nan, nan, nan]        [1.0, nan, nan, nan, nan]  \n",
       "435  [CC(=O)N(C)C, nan, nan, nan, nan]        [1.0, nan, nan, nan, nan]  \n",
       "\n",
       "[436 rows x 6 columns]"
      ]
     },
     "execution_count": 13,
     "metadata": {},
     "output_type": "execute_result"
    }
   ],
   "source": [
    "formatted"
   ]
  },
  {
   "cell_type": "code",
   "execution_count": 14,
   "metadata": {},
   "outputs": [],
   "source": [
    "train, test = train_test_split(formatted, train_size=100, test_size=50, random_state=546)"
   ]
  },
  {
   "cell_type": "code",
   "execution_count": 15,
   "metadata": {},
   "outputs": [
    {
     "data": {
      "text/html": [
       "<div>\n",
       "<style scoped>\n",
       "    .dataframe tbody tr th:only-of-type {\n",
       "        vertical-align: middle;\n",
       "    }\n",
       "\n",
       "    .dataframe tbody tr th {\n",
       "        vertical-align: top;\n",
       "    }\n",
       "\n",
       "    .dataframe thead th {\n",
       "        text-align: right;\n",
       "    }\n",
       "</style>\n",
       "<table border=\"1\" class=\"dataframe\">\n",
       "  <thead>\n",
       "    <tr style=\"text-align: right;\">\n",
       "      <th></th>\n",
       "      <th>prompt</th>\n",
       "      <th>completion</th>\n",
       "      <th>label</th>\n",
       "      <th>representation</th>\n",
       "      <th>solvents</th>\n",
       "      <th>solvent_mol_ratios</th>\n",
       "    </tr>\n",
       "  </thead>\n",
       "  <tbody>\n",
       "    <tr>\n",
       "      <th>67</th>\n",
       "      <td>In what solvent will Nn1c(nnc1c1cccc(c1)c1ccnc...</td>\n",
       "      <td>0.4 CO and 0.6 O@@@</td>\n",
       "      <td>0.4 CO and 0.6 O</td>\n",
       "      <td>[[Nn1c(nnc1c1cccc(c1)c1ccncc1)c1cccc(c1)c1ccnc...</td>\n",
       "      <td>[CO, O, nan, nan, nan]</td>\n",
       "      <td>[0.4, 0.6, nan, nan, nan]</td>\n",
       "    </tr>\n",
       "    <tr>\n",
       "      <th>433</th>\n",
       "      <td>In what solvent will [O]P(=O)(C(P(=O)([O])[O])...</td>\n",
       "      <td>1.0 O@@@</td>\n",
       "      <td>1.0 O</td>\n",
       "      <td>[[[O]P(=O)(C(P(=O)([O])[O])(Cc1cccnc1)O)[O], n...</td>\n",
       "      <td>[O, nan, nan, nan, nan]</td>\n",
       "      <td>[1.0, nan, nan, nan, nan]</td>\n",
       "    </tr>\n",
       "    <tr>\n",
       "      <th>329</th>\n",
       "      <td>In what solvent will C(Cc1ccncc1)Cc1ccncc1%2C ...</td>\n",
       "      <td>1.0 O@@@</td>\n",
       "      <td>1.0 O</td>\n",
       "      <td>[[C(Cc1ccncc1)Cc1ccncc1, Oc1cc(cc(c1)C(=O)[O-]...</td>\n",
       "      <td>[O, nan, nan, nan, nan]</td>\n",
       "      <td>[1.0, nan, nan, nan, nan]</td>\n",
       "    </tr>\n",
       "    <tr>\n",
       "      <th>301</th>\n",
       "      <td>In what solvent will [O-]C(=O)c1cc(cc(c1)n1cnc...</td>\n",
       "      <td>0.45 O and 0.55 CCO@@@</td>\n",
       "      <td>0.45 O and 0.55 CCO</td>\n",
       "      <td>[[[O-]C(=O)c1cc(cc(c1)n1cncc1)n1cncc1, nan], [...</td>\n",
       "      <td>[O, CCO, nan, nan, nan]</td>\n",
       "      <td>[0.446, 0.554, nan, nan, nan]</td>\n",
       "    </tr>\n",
       "    <tr>\n",
       "      <th>218</th>\n",
       "      <td>In what solvent will C1=N[CH]N([N]1)Cc1ccc(cc1...</td>\n",
       "      <td>1.0 O@@@</td>\n",
       "      <td>1.0 O</td>\n",
       "      <td>[[C1=N[CH]N([N]1)Cc1ccc(cc1)c1ccc(cc1)Cn1cncn1...</td>\n",
       "      <td>[O, nan, nan, nan, nan]</td>\n",
       "      <td>[1.0, nan, nan, nan, nan]</td>\n",
       "    </tr>\n",
       "    <tr>\n",
       "      <th>...</th>\n",
       "      <td>...</td>\n",
       "      <td>...</td>\n",
       "      <td>...</td>\n",
       "      <td>...</td>\n",
       "      <td>...</td>\n",
       "      <td>...</td>\n",
       "    </tr>\n",
       "    <tr>\n",
       "      <th>17</th>\n",
       "      <td>In what solvent will Cl[Mn]123(Cl)[N]4=C5C=CC4...</td>\n",
       "      <td>0.27 CCN(CC)C=O and 0.73 CO@@@</td>\n",
       "      <td>0.27 CCN(CC)C=O and 0.73 CO</td>\n",
       "      <td>[[Cl[Mn]123(Cl)[N]4=C5C=CC4=C(c4n2c(C(=C2[N]1=...</td>\n",
       "      <td>[CCN(CC)C=O, CO, nan, nan, nan]</td>\n",
       "      <td>[0.268, 0.732, nan, nan, nan]</td>\n",
       "    </tr>\n",
       "    <tr>\n",
       "      <th>394</th>\n",
       "      <td>In what solvent will O=C(c1ccncc1)Nc1cc(cc(c1)...</td>\n",
       "      <td>1.0 CN(C)C=O@@@</td>\n",
       "      <td>1.0 CN(C)C=O</td>\n",
       "      <td>[[O=C(c1ccncc1)Nc1cc(cc(c1)C(=O)[O-])C(=O)[O-]...</td>\n",
       "      <td>[CN(C)C=O, nan, nan, nan, nan]</td>\n",
       "      <td>[1.0, nan, nan, nan, nan]</td>\n",
       "    </tr>\n",
       "    <tr>\n",
       "      <th>165</th>\n",
       "      <td>In what solvent will [O-]C(=O)CN(C1=N[C](=O)=[...</td>\n",
       "      <td>1.0 O@@@</td>\n",
       "      <td>1.0 O</td>\n",
       "      <td>[[[O-]C(=O)CN(C1=N[C](=O)=[N]=C([N]1)N(CP(=O)(...</td>\n",
       "      <td>[O, nan, nan, nan, nan]</td>\n",
       "      <td>[1.0, nan, nan, nan, nan]</td>\n",
       "    </tr>\n",
       "    <tr>\n",
       "      <th>189</th>\n",
       "      <td>In what solvent will [O-]C(=O)c1ccc(cc1)C(=O)[...</td>\n",
       "      <td>1.0 O@@@</td>\n",
       "      <td>1.0 O</td>\n",
       "      <td>[[[O-]C(=O)c1ccc(cc1)C(=O)[O-], n1ccc(cc1)CCc1...</td>\n",
       "      <td>[O, nan, nan, nan, nan]</td>\n",
       "      <td>[1.0, nan, nan, nan, nan]</td>\n",
       "    </tr>\n",
       "    <tr>\n",
       "      <th>83</th>\n",
       "      <td>In what solvent will [O-]C(=O)c1cc(C(=O)[O-])c...</td>\n",
       "      <td>1.0 CN(C)C=O@@@</td>\n",
       "      <td>1.0 CN(C)C=O</td>\n",
       "      <td>[[[O-]C(=O)c1cc(C(=O)[O-])c(cc1C(=O)[O-])C(=O)...</td>\n",
       "      <td>[CN(C)C=O, nan, nan, nan, nan]</td>\n",
       "      <td>[1.0, nan, nan, nan, nan]</td>\n",
       "    </tr>\n",
       "  </tbody>\n",
       "</table>\n",
       "<p>100 rows × 6 columns</p>\n",
       "</div>"
      ],
      "text/plain": [
       "                                                prompt  \\\n",
       "67   In what solvent will Nn1c(nnc1c1cccc(c1)c1ccnc...   \n",
       "433  In what solvent will [O]P(=O)(C(P(=O)([O])[O])...   \n",
       "329  In what solvent will C(Cc1ccncc1)Cc1ccncc1%2C ...   \n",
       "301  In what solvent will [O-]C(=O)c1cc(cc(c1)n1cnc...   \n",
       "218  In what solvent will C1=N[CH]N([N]1)Cc1ccc(cc1...   \n",
       "..                                                 ...   \n",
       "17   In what solvent will Cl[Mn]123(Cl)[N]4=C5C=CC4...   \n",
       "394  In what solvent will O=C(c1ccncc1)Nc1cc(cc(c1)...   \n",
       "165  In what solvent will [O-]C(=O)CN(C1=N[C](=O)=[...   \n",
       "189  In what solvent will [O-]C(=O)c1ccc(cc1)C(=O)[...   \n",
       "83   In what solvent will [O-]C(=O)c1cc(C(=O)[O-])c...   \n",
       "\n",
       "                          completion                        label  \\\n",
       "67               0.4 CO and 0.6 O@@@             0.4 CO and 0.6 O   \n",
       "433                         1.0 O@@@                        1.0 O   \n",
       "329                         1.0 O@@@                        1.0 O   \n",
       "301           0.45 O and 0.55 CCO@@@          0.45 O and 0.55 CCO   \n",
       "218                         1.0 O@@@                        1.0 O   \n",
       "..                               ...                          ...   \n",
       "17    0.27 CCN(CC)C=O and 0.73 CO@@@  0.27 CCN(CC)C=O and 0.73 CO   \n",
       "394                  1.0 CN(C)C=O@@@                 1.0 CN(C)C=O   \n",
       "165                         1.0 O@@@                        1.0 O   \n",
       "189                         1.0 O@@@                        1.0 O   \n",
       "83                   1.0 CN(C)C=O@@@                 1.0 CN(C)C=O   \n",
       "\n",
       "                                        representation  \\\n",
       "67   [[Nn1c(nnc1c1cccc(c1)c1ccncc1)c1cccc(c1)c1ccnc...   \n",
       "433  [[[O]P(=O)(C(P(=O)([O])[O])(Cc1cccnc1)O)[O], n...   \n",
       "329  [[C(Cc1ccncc1)Cc1ccncc1, Oc1cc(cc(c1)C(=O)[O-]...   \n",
       "301  [[[O-]C(=O)c1cc(cc(c1)n1cncc1)n1cncc1, nan], [...   \n",
       "218  [[C1=N[CH]N([N]1)Cc1ccc(cc1)c1ccc(cc1)Cn1cncn1...   \n",
       "..                                                 ...   \n",
       "17   [[Cl[Mn]123(Cl)[N]4=C5C=CC4=C(c4n2c(C(=C2[N]1=...   \n",
       "394  [[O=C(c1ccncc1)Nc1cc(cc(c1)C(=O)[O-])C(=O)[O-]...   \n",
       "165  [[[O-]C(=O)CN(C1=N[C](=O)=[N]=C([N]1)N(CP(=O)(...   \n",
       "189  [[[O-]C(=O)c1ccc(cc1)C(=O)[O-], n1ccc(cc1)CCc1...   \n",
       "83   [[[O-]C(=O)c1cc(C(=O)[O-])c(cc1C(=O)[O-])C(=O)...   \n",
       "\n",
       "                            solvents             solvent_mol_ratios  \n",
       "67            [CO, O, nan, nan, nan]      [0.4, 0.6, nan, nan, nan]  \n",
       "433          [O, nan, nan, nan, nan]      [1.0, nan, nan, nan, nan]  \n",
       "329          [O, nan, nan, nan, nan]      [1.0, nan, nan, nan, nan]  \n",
       "301          [O, CCO, nan, nan, nan]  [0.446, 0.554, nan, nan, nan]  \n",
       "218          [O, nan, nan, nan, nan]      [1.0, nan, nan, nan, nan]  \n",
       "..                               ...                            ...  \n",
       "17   [CCN(CC)C=O, CO, nan, nan, nan]  [0.268, 0.732, nan, nan, nan]  \n",
       "394   [CN(C)C=O, nan, nan, nan, nan]      [1.0, nan, nan, nan, nan]  \n",
       "165          [O, nan, nan, nan, nan]      [1.0, nan, nan, nan, nan]  \n",
       "189          [O, nan, nan, nan, nan]      [1.0, nan, nan, nan, nan]  \n",
       "83    [CN(C)C=O, nan, nan, nan, nan]      [1.0, nan, nan, nan, nan]  \n",
       "\n",
       "[100 rows x 6 columns]"
      ]
     },
     "execution_count": 15,
     "metadata": {},
     "output_type": "execute_result"
    }
   ],
   "source": [
    "train"
   ]
  },
  {
   "cell_type": "code",
   "execution_count": 16,
   "metadata": {},
   "outputs": [
    {
     "data": {
      "text/plain": [
       "'In what solvent will Nn1c(nnc1c1cccc(c1)c1ccncc1)c1cccc(c1)c1ccncc1 and CdBF4 react?###'"
      ]
     },
     "execution_count": 16,
     "metadata": {},
     "output_type": "execute_result"
    }
   ],
   "source": [
    "train.iloc[0][\"prompt\"]"
   ]
  },
  {
   "cell_type": "code",
   "execution_count": 17,
   "metadata": {},
   "outputs": [],
   "source": [
    "tuner = Tuner(n_epochs=8, learning_rate_multiplier=0.02, wandb_sync=False)"
   ]
  },
  {
   "cell_type": "code",
   "execution_count": 18,
   "metadata": {},
   "outputs": [
    {
     "name": "stderr",
     "output_type": "stream",
     "text": [
      "Upload progress: 100%|██████████| 43.4k/43.4k [00:00<00:00, 34.0Mit/s]\n"
     ]
    },
    {
     "name": "stdout",
     "output_type": "stream",
     "text": [
      "Uploaded file from /Users/kevinmaikjablonka/git/kjappelbaum/gptchem/experiments/03_classification/mof_solvent/out/20230130_104520/train.jsonl: file-c98F86tR5PzXUjwcxhOgMEi1\n"
     ]
    },
    {
     "ename": "ValueError",
     "evalue": "Fine tuning failed. Result: {\n  \"created_at\": 1675071926,\n  \"events\": [\n    {\n      \"created_at\": 1675071926,\n      \"level\": \"info\",\n      \"message\": \"Created fine-tune: ft-5ZXxmaNT8bEtrjgifRvFwX2H\",\n      \"object\": \"fine-tune-event\"\n    }\n  ],\n  \"fine_tuned_model\": null,\n  \"hyperparams\": {\n    \"batch_size\": null,\n    \"learning_rate_multiplier\": 0.02,\n    \"n_epochs\": 8,\n    \"prompt_loss_weight\": 0.01\n  },\n  \"id\": \"ft-5ZXxmaNT8bEtrjgifRvFwX2H\",\n  \"model\": \"ada\",\n  \"object\": \"fine-tune\",\n  \"organization_id\": \"org-TFRJXw3PPQocOWbu71eI2t9U\",\n  \"result_files\": [],\n  \"status\": \"pending\",\n  \"training_files\": [\n    {\n      \"bytes\": 43437,\n      \"created_at\": 1675071924,\n      \"filename\": \"/Users/kevinmaikjablonka/git/kjappelbaum/gptchem/experiments/03_classification/mof_solvent/out/20230130_104520/train.jsonl\",\n      \"id\": \"file-c98F86tR5PzXUjwcxhOgMEi1\",\n      \"object\": \"file\",\n      \"purpose\": \"fine-tune\",\n      \"status\": \"uploaded\",\n      \"status_details\": null\n    }\n  ],\n  \"updated_at\": 1675071926,\n  \"validation_files\": []\n}.",
     "output_type": "error",
     "traceback": [
      "\u001b[0;31m---------------------------------------------------------------------------\u001b[0m",
      "\u001b[0;31mValueError\u001b[0m                                Traceback (most recent call last)",
      "Cell \u001b[0;32mIn[18], line 1\u001b[0m\n\u001b[0;32m----> 1\u001b[0m tuner(train)\n",
      "File \u001b[0;32m~/git/kjappelbaum/gptchem/src/gptchem/tuner.py:213\u001b[0m, in \u001b[0;36mTuner.__call__\u001b[0;34m(self, train_df, validation_df)\u001b[0m\n\u001b[1;32m    210\u001b[0m \u001b[39mdef\u001b[39;00m \u001b[39m__call__\u001b[39m(\n\u001b[1;32m    211\u001b[0m     \u001b[39mself\u001b[39m, train_df: pd\u001b[39m.\u001b[39mDataFrame, validation_df: Optional[pd\u001b[39m.\u001b[39mDataFrame] \u001b[39m=\u001b[39m \u001b[39mNone\u001b[39;00m\n\u001b[1;32m    212\u001b[0m ) \u001b[39m-\u001b[39m\u001b[39m>\u001b[39m \u001b[39mdict\u001b[39m:\n\u001b[0;32m--> 213\u001b[0m     \u001b[39mreturn\u001b[39;00m \u001b[39mself\u001b[39;49m\u001b[39m.\u001b[39;49mtune(train_df, validation_df)\n",
      "File \u001b[0;32m~/git/kjappelbaum/gptchem/src/gptchem/tuner.py:200\u001b[0m, in \u001b[0;36mTuner.tune\u001b[0;34m(self, train_df, validation_df)\u001b[0m\n\u001b[1;32m    197\u001b[0m     logger\u001b[39m.\u001b[39mexception(\u001b[39m\"\u001b[39m\u001b[39mFine tuning failed.\u001b[39m\u001b[39m\"\u001b[39m)\n\u001b[1;32m    199\u001b[0m \u001b[39mif\u001b[39;00m modelname \u001b[39mis\u001b[39;00m \u001b[39mNone\u001b[39;00m:\n\u001b[0;32m--> 200\u001b[0m     \u001b[39mraise\u001b[39;00m \u001b[39mValueError\u001b[39;00m(\u001b[39mf\u001b[39m\u001b[39m\"\u001b[39m\u001b[39mFine tuning failed. Result: \u001b[39m\u001b[39m{\u001b[39;00mresult\u001b[39m}\u001b[39;00m\u001b[39m.\u001b[39m\u001b[39m\"\u001b[39m)\n\u001b[1;32m    201\u001b[0m \u001b[39mself\u001b[39m\u001b[39m.\u001b[39m_modelname \u001b[39m=\u001b[39m modelname\n\u001b[1;32m    202\u001b[0m \u001b[39mself\u001b[39m\u001b[39m.\u001b[39m_ft_id \u001b[39m=\u001b[39m ft_id\n",
      "\u001b[0;31mValueError\u001b[0m: Fine tuning failed. Result: {\n  \"created_at\": 1675071926,\n  \"events\": [\n    {\n      \"created_at\": 1675071926,\n      \"level\": \"info\",\n      \"message\": \"Created fine-tune: ft-5ZXxmaNT8bEtrjgifRvFwX2H\",\n      \"object\": \"fine-tune-event\"\n    }\n  ],\n  \"fine_tuned_model\": null,\n  \"hyperparams\": {\n    \"batch_size\": null,\n    \"learning_rate_multiplier\": 0.02,\n    \"n_epochs\": 8,\n    \"prompt_loss_weight\": 0.01\n  },\n  \"id\": \"ft-5ZXxmaNT8bEtrjgifRvFwX2H\",\n  \"model\": \"ada\",\n  \"object\": \"fine-tune\",\n  \"organization_id\": \"org-TFRJXw3PPQocOWbu71eI2t9U\",\n  \"result_files\": [],\n  \"status\": \"pending\",\n  \"training_files\": [\n    {\n      \"bytes\": 43437,\n      \"created_at\": 1675071924,\n      \"filename\": \"/Users/kevinmaikjablonka/git/kjappelbaum/gptchem/experiments/03_classification/mof_solvent/out/20230130_104520/train.jsonl\",\n      \"id\": \"file-c98F86tR5PzXUjwcxhOgMEi1\",\n      \"object\": \"file\",\n      \"purpose\": \"fine-tune\",\n      \"status\": \"uploaded\",\n      \"status_details\": null\n    }\n  ],\n  \"updated_at\": 1675071926,\n  \"validation_files\": []\n}."
     ]
    }
   ],
   "source": [
    "tuner(train)"
   ]
  },
  {
   "cell_type": "code",
   "execution_count": null,
   "metadata": {},
   "outputs": [
    {
     "ename": "NameError",
     "evalue": "name 'tune_res' is not defined",
     "output_type": "error",
     "traceback": [
      "\u001b[0;31m---------------------------------------------------------------------------\u001b[0m",
      "\u001b[0;31mNameError\u001b[0m                                 Traceback (most recent call last)",
      "Cell \u001b[0;32mIn[21], line 1\u001b[0m\n\u001b[0;32m----> 1\u001b[0m tune_res\n",
      "\u001b[0;31mNameError\u001b[0m: name 'tune_res' is not defined"
     ]
    }
   ],
   "source": [
    "querier = Querier.from_preset(tune_res[\"model_name\"])\n",
    "completions = querier(test)"
   ]
  },
  {
   "cell_type": "code",
   "execution_count": null,
   "metadata": {},
   "outputs": [],
   "source": [
    "import re"
   ]
  },
  {
   "cell_type": "code",
   "execution_count": null,
   "metadata": {},
   "outputs": [],
   "source": [
    "s = \"0.53 CN(C)C=O and 0.18 C(CO)O and 0.28 O@@@\""
   ]
  },
  {
   "cell_type": "code",
   "execution_count": null,
   "metadata": {},
   "outputs": [],
   "source": [
    "find_solvents = re.compile(r\"(\\d+\\.\\d+)(\\s[\\w\\(\\)=\\@]+)\")"
   ]
  },
  {
   "cell_type": "code",
   "execution_count": 18,
   "metadata": {},
   "outputs": [
    {
     "data": {
      "text/plain": [
       "[('0.53', ' CN(C)C=O'), ('0.18', ' C(CO)O'), ('0.28', ' O@@@')]"
      ]
     },
     "execution_count": 18,
     "metadata": {},
     "output_type": "execute_result"
    }
   ],
   "source": [
    "find_solvents.findall(s)"
   ]
  },
  {
   "cell_type": "code",
   "execution_count": null,
   "metadata": {},
   "outputs": [],
   "source": []
  }
 ],
 "metadata": {
  "kernelspec": {
   "display_name": "gptchem",
   "language": "python",
   "name": "python3"
  },
  "language_info": {
   "codemirror_mode": {
    "name": "ipython",
    "version": 3
   },
   "file_extension": ".py",
   "mimetype": "text/x-python",
   "name": "python",
   "nbconvert_exporter": "python",
   "pygments_lexer": "ipython3",
   "version": "3.9.15"
  },
  "orig_nbformat": 4,
  "vscode": {
   "interpreter": {
    "hash": "2f3b9074e5baa1438c27e2ea813f7f53b7516c83bd70840b6d64eae6820ee5df"
   }
  }
 },
 "nbformat": 4,
 "nbformat_minor": 2
}
