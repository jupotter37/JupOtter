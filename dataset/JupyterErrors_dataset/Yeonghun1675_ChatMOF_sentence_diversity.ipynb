{
 "cells": [
  {
   "cell_type": "code",
   "execution_count": 5,
   "metadata": {},
   "outputs": [],
   "source": [
    "import pandas as pd\n",
    "import nltk\n",
    "from nltk.tokenize import word_tokenize\n",
    "nltk.download('punkt')"
   ]
  },
  {
   "cell_type": "code",
   "execution_count": 4,
   "metadata": {},
   "outputs": [],
   "source": [
    "\n",
    "def read_sentences_from_csv(file_path):\n",
    "    #df = pd.read_csv(file_path, header=None)\n",
    "    with open(file_path) as f:\n",
    "        questions = [line.strip() for line in f]\n",
    "    return questions  # Assuming sentences are in the first column\n",
    "\n",
    "def calculate_ttr(sentences):\n",
    "    tokens = [word.lower() for sentence in sentences for word in word_tokenize(sentence)]\n",
    "    types = set(tokens)\n",
    "    return len(types) / len(tokens) if tokens else 0\n",
    "\n",
    "def main():\n",
    "    datasets = {\n",
    "        \"A\": \"./predictor2.txt\",\n",
    "        \"B\": \"./predictor_3question.txt\",\n",
    "        \"C\": \"./predictor_tp_question.txt\",\n",
    "        \"D\": \"./predictor_tp_question_revise.txt\"\n",
    "    }\n",
    "\n",
    "    for name, path in datasets.items():\n",
    "        sentences = read_sentences_from_csv(path)\n",
    "        ttr = calculate_ttr(sentences)\n",
    "        print(f\"Lexical Diversity (TTR) of Dataset {name}: {ttr:.4f}\")"
   ]
  },
  {
   "cell_type": "code",
   "execution_count": 7,
   "metadata": {},
   "outputs": [
    {
     "name": "stdout",
     "output_type": "stream",
     "text": [
      "Lexical Diversity (TTR) of Dataset A: 0.1149\n",
      "Lexical Diversity (TTR) of Dataset B: 0.0782\n",
      "Lexical Diversity (TTR) of Dataset C: 0.0756\n",
      "Lexical Diversity (TTR) of Dataset D: 0.1125\n"
     ]
    }
   ],
   "source": [
    "main()"
   ]
  },
  {
   "cell_type": "markdown",
   "metadata": {},
   "source": [
    "# Question generation"
   ]
  },
  {
   "cell_type": "code",
   "execution_count": 60,
   "metadata": {},
   "outputs": [],
   "source": [
    "gpt_3_question = \"\"\"What is the hydrogen diffusivity of [material] at 298K and 1 bar?\n",
    "Which materials exhibit the highest hydrogen uptake at 298K and 1 bar?\n",
    "Can you provide a list of materials with a high thermal stability at 298K and 1 bar?\n",
    "What is the nitrogen diffusivity of [material] under conditions of 298K and 1 bar?\n",
    "Which materials have the lowest O2 diffusivity at 298K and 1 bar?\n",
    "What is the CO2 Henry coefficient for [material] at 298K and 1 bar?\n",
    "Which materials have a high N2 uptake at 298K and 1 bar?\n",
    "Can you list the top 10 materials with the lowest O2 uptake at 298K, 1 bar?\n",
    "What is the bandgap of [material] at 298K and 1 bar?\n",
    "Provide a list of materials with a hydrogen diffusivity greater than [value] at 298K, 1 bar.\n",
    "Which materials have the highest thermal stability at 298K and 1 bar?\n",
    "What is the bandgap range for materials at 298K and 1 bar?\n",
    "Can you recommend materials with a high O2 diffusivity at 298K and 1 bar?\n",
    "Which materials exhibit a significant increase in hydrogen uptake under 298K, 1 bar conditions?\n",
    "What are the materials with the lowest CO2 Henry coefficient at 298K and 1 bar?\n",
    "Which materials show a notable increase in nitrogen diffusivity at 298K and 1 bar?\n",
    "Provide a list of materials with exceptionally low N2 uptake at 298K, 1 bar.\n",
    "What is the hydrogen diffusivity trend across different materials at 298K and 1 bar?\n",
    "Can you list materials with a unique combination of properties, such as high thermal stability and low O2 uptake at 298K, 1 bar?\n",
    "Which materials demonstrate a substantial increase in CO2 Henry coefficient at 298K and 1 bar?\n",
    "What is the O2 uptake behavior of [material] at 298K and 1 bar?\n",
    "Which materials exhibit exceptional hydrogen diffusivity at 298K, 1 bar?\n",
    "Can you provide materials with a high N2 diffusivity at 298K and 1 bar?\n",
    "What are the top 5 materials with the lowest CO2 Henry coefficient at 298K, 1 bar?\n",
    "Which materials have the highest bandgap in the presence of hydrogen at 298K and 1 bar?\n",
    "Can you compare the thermal stability of different materials at 298K and 1 bar?\n",
    "What is the relationship between bandgap and temperature for [material] at 298K and 1 bar?\n",
    "Which materials are known for their low hydrogen diffusivity at 298K, 1 bar?\n",
    "Provide a list of materials with a high O2 uptake and low CO2 Henry coefficient at 298K, 1 bar.\n",
    "What is the impact of pressure on hydrogen uptake for [material] at 298K?\n",
    "What are the top 10 materials with the highest bandgap?\n",
    "What is the bandgap of [material]?\n",
    "Can you show the materials with a hydrogen uptake greater than [value] at 298K, 1 bar?\n",
    "What is the hydrogen diffusivity of [material] at 298K and 1 bar?\n",
    "Which materials exhibit the highest hydrogen uptake at 298K and 1 bar?\n",
    "Can you provide a list of materials with a high thermal stability at 298K and 1 bar?\n",
    "What is the nitrogen diffusivity of [material] under conditions of 298K and 1 bar?\n",
    "Which materials have the lowest O2 diffusivity at 298K and 1 bar?\n",
    "What is the CO2 Henry coefficient for [material] at 298K and 1 bar?\n",
    "Which materials have a high N2 uptake at 298K and 1 bar?\n",
    "Can you list the top 10 materials with the lowest O2 uptake at 298K, 1 bar?\n",
    "What is the bandgap of [material] at 298K and 1 bar?\n",
    "Provide a list of materials with a hydrogen diffusivity greater than [value] at 298K, 1 bar.\n",
    "Which materials have the highest thermal stability at 298K and 1 bar?\n",
    "What is the bandgap range for materials at 298K and 1 bar?\n",
    "Can you recommend materials with a high O2 diffusivity at 298K and 1 bar?\n",
    "Which materials exhibit a significant increase in hydrogen uptake under 298K, 1 bar conditions?\n",
    "What are the materials with the lowest CO2 Henry coefficient at 298K and 1 bar?\n",
    "Which materials show a notable increase in nitrogen diffusivity at 298K and 1 bar?\n",
    "Provide a list of materials with exceptionally low N2 uptake at 298K, 1 bar.\n",
    "What is the hydrogen diffusivity trend across different materials at 298K and 1 bar?\n",
    "Can you list materials with a unique combination of properties, such as high thermal stability and low O2 uptake at 298K, 1 bar?\n",
    "Which materials demonstrate a substantial increase in CO2 Henry coefficient at 298K and 1 bar?\n",
    "What is the O2 uptake behavior of [material] at 298K and 1 bar?\n",
    "Which materials exhibit exceptional hydrogen diffusivity at 298K, 1 bar?\n",
    "Can you provide materials with a high N2 diffusivity at 298K and 1 bar?\n",
    "What are the top 5 materials with the lowest CO2 Henry coefficient at 298K, 1 bar?\n",
    "Which materials have the highest bandgap in the presence of hydrogen at 298K and 1 bar?\n",
    "Can you compare the thermal stability of different materials at 298K and 1 bar?\n",
    "What is the relationship between bandgap and temperature for [material] at 298K and 1 bar?\n",
    "Which materials are known for their low hydrogen diffusivity at 298K, 1 bar?\n",
    "Provide a list of materials with a high O2 uptake and low CO2 Henry coefficient at 298K, 1 bar.\n",
    "What is the impact of pressure on hydrogen uptake for [material] at 298K?\n",
    "Can you identify materials with exceptional thermal stability at 298K and 1 bar?\n",
    "What is the hydrogen diffusivity trend with varying temperatures for [material] at 1 bar?\n",
    "Which materials have the highest N2 diffusivity at 298K and 1 bar?\n",
    "Can you list materials with both high O2 uptake and N2 uptake at 298K and 1 bar?\n",
    "What is the bandgap behavior under different pressure conditions for [material] at 298K?\n",
    "Which materials demonstrate an increase in thermal stability with increasing pressure at 298K?\n",
    "What is the relationship between hydrogen diffusivity and temperature for [material] at 1 bar?\n",
    "Can you recommend materials with a high CO2 Henry coefficient at 298K and 1 bar?\n",
    "Which materials show a decrease in O2 diffusivity with increasing temperature at 1 bar?\n",
    "Provide a list of materials with a significant increase in N2 uptake at 298K, 1 bar.\n",
    "What is the bandgap variation with respect to temperature and pressure for [material]?\n",
    "Which materials exhibit a decrease in hydrogen uptake at higher temperatures and pressures?\n",
    "Can you identify materials with both high N2 diffusivity and low CO2 Henry coefficient at 298K, 1 bar?\n",
    "What is the hydrogen diffusivity behavior under varying pressure conditions for [material] at 298K?\n",
    "Which materials have the highest O2 uptake at 298K and 1 bar?\n",
    "Can you provide materials with a high thermal stability and low CO2 Henry coefficient at 298K?\n",
    "What is the bandgap trend with temperature for [material] at 1 bar?\n",
    "Which materials demonstrate a decrease in N2 diffusivity with increasing pressure at 298K?\n",
    "Can you list materials with high hydrogen diffusivity and high O2 diffusivity at 298K, 1 bar?\n",
    "What is the behavior of CO2 Henry coefficient with temperature for [material] at 1 bar?\n",
    "Which materials exhibit a decrease in thermal stability with increasing pressure at 298K?\n",
    "Can you recommend materials with a high N2 uptake and low O2 uptake at 298K, 1 bar?\n",
    "What is the impact of temperature on hydrogen uptake for [material] at 1 bar?\n",
    "Which materials have the lowest N2 diffusivity at 298K and 1 bar?\n",
    "Can you provide materials with a high CO2 Henry coefficient and low bandgap at 298K?\n",
    "What is the hydrogen diffusivity trend with varying pressure and temperature for [material]?\n",
    "Which materials exhibit a decrease in O2 uptake with increasing pressure at 298K?\n",
    "Can you list materials with a high thermal stability and low hydrogen diffusivity at 298K, 1 bar?\n",
    "What is the behavior of bandgap with pressure for [material] at 298K?\n",
    "Which materials demonstrate an increase in hydrogen uptake with increasing temperature and pressure?\n",
    "Can you recommend materials with a high O2 diffusivity and low N2 diffusivity at 298K, 1 bar?\n",
    "What is the CO2 Henry coefficient trend with temperature and pressure for [material]?\n",
    "Which materials exhibit a decrease in thermal stability with increasing temperature and pressure at 1 bar?\n",
    "Can you identify materials with high N2 uptake and low CO2 Henry coefficient at 298K, 1 bar?\n",
    "What is the hydrogen diffusivity variation with pressure and temperature for [material] at 298K?\n",
    "Which materials have the highest CO2 Henry coefficient at 298K and 1 bar?\n",
    "What is the thermal stability of [material] at 298K and 1 bar?\"\"\""
   ]
  },
  {
   "cell_type": "code",
   "execution_count": 8,
   "metadata": {},
   "outputs": [],
   "source": [
    "import pandas as pd\n",
    "import random"
   ]
  },
  {
   "cell_type": "code",
   "execution_count": 10,
   "metadata": {},
   "outputs": [],
   "source": [
    "df = pd.read_excel('../../chatmof/database/tables/coremof.xlsx')\n",
    "refcode = list(df['name'])"
   ]
  },
  {
   "cell_type": "code",
   "execution_count": 11,
   "metadata": {},
   "outputs": [
    {
     "ename": "NameError",
     "evalue": "name 'gpt_3_question' is not defined",
     "output_type": "error",
     "traceback": [
      "\u001b[0;31m---------------------------------------------------------------------------\u001b[0m",
      "\u001b[0;31mNameError\u001b[0m                                 Traceback (most recent call last)",
      "Cell \u001b[0;32mIn[11], line 2\u001b[0m\n\u001b[1;32m      1\u001b[0m new_line \u001b[38;5;241m=\u001b[39m []\n\u001b[0;32m----> 2\u001b[0m \u001b[38;5;28;01mfor\u001b[39;00m line \u001b[38;5;129;01min\u001b[39;00m \u001b[43mgpt_3_question\u001b[49m\u001b[38;5;241m.\u001b[39msplit(\u001b[38;5;124m\"\u001b[39m\u001b[38;5;130;01m\\n\u001b[39;00m\u001b[38;5;124m\"\u001b[39m):\n\u001b[1;32m      3\u001b[0m     mat \u001b[38;5;241m=\u001b[39m random\u001b[38;5;241m.\u001b[39mchoice(refcode)\n\u001b[1;32m      4\u001b[0m     value \u001b[38;5;241m=\u001b[39m \u001b[38;5;28mstr\u001b[39m(random\u001b[38;5;241m.\u001b[39mrandom() \u001b[38;5;241m*\u001b[39m \u001b[38;5;241m100\u001b[39m)[:\u001b[38;5;241m4\u001b[39m]\n",
      "\u001b[0;31mNameError\u001b[0m: name 'gpt_3_question' is not defined"
     ]
    }
   ],
   "source": [
    "new_line = []\n",
    "for line in gpt_3_question.split(\"\\n\"):\n",
    "    mat = random.choice(refcode)\n",
    "    value = str(random.random() * 100)[:4]\n",
    "    line = line.replace('[material]', mat)\n",
    "    line = line.replace('[value]', value)\n",
    "    new_line.append(line)"
   ]
  },
  {
   "cell_type": "code",
   "execution_count": 65,
   "metadata": {},
   "outputs": [],
   "source": [
    "with open('test/predictor_3question.txt', 'w') as f:\n",
    "    for line in new_line:\n",
    "        f.write(line + \"\\n\")"
   ]
  },
  {
   "cell_type": "code",
   "execution_count": 78,
   "metadata": {},
   "outputs": [],
   "source": [
    "template = \"\"\"What is the [property] of [material]?\n",
    "Which material has the highest [property]?\n",
    "Give me a list of materials that have a density lower than [value]\n",
    "What are the top 3 materials with the lowest [property]?\n",
    "Which material has the lowest [property]?\n",
    "Tell me the top 5 materials with the highest [property]\n",
    "Which material has a [property] that is nearly equal to [value]?\n",
    "What are the materials that have a [property] between [value] and [value2]?\n",
    "Which material's [property] is most similar to [value]?\n",
    "Which material has a [property] that is almost the same as [value]?\n",
    "\"\"\"\n",
    "\n",
    "template = template * 13"
   ]
  },
  {
   "cell_type": "code",
   "execution_count": 79,
   "metadata": {},
   "outputs": [
    {
     "name": "stdout",
     "output_type": "stream",
     "text": [
      "['bandgap', 'hydrogen uptake', 'hydrogen diffusivity', 'O2 diffusivity', 'N2 diffusivity', 'O2 uptake', 'N2 uptake', 'thermal stability', 'CO2 henry coefficient']\n"
     ]
    }
   ],
   "source": [
    "properties = \"bandgap, hydrogen uptake, hydrogen diffusivity, O2 diffusivity, N2 diffusivity, O2 uptake, N2 uptake, thermal stability, CO2 henry coefficient\".split(\", \")\n",
    "print (properties)"
   ]
  },
  {
   "cell_type": "code",
   "execution_count": 80,
   "metadata": {},
   "outputs": [],
   "source": [
    "tmp_line = []\n",
    "for line in template.split(\"\\n\"):\n",
    "    mat = random.choice(refcode)\n",
    "    mat2 = random.choice(refcode)\n",
    "    value = str(random.random() * 100)[:4]\n",
    "    value2 = str(float(value) + 1)\n",
    "    prop = random.choice(properties)\n",
    "    line = line.replace('[material]', mat)\n",
    "    line = line.replace('[material2]', mat)\n",
    "    line = line.replace('[value]', value)\n",
    "    line = line.replace('[value2]', value2)\n",
    "    line = line.replace('[property]', prop)\n",
    "    tmp_line.append(line)"
   ]
  },
  {
   "cell_type": "code",
   "execution_count": 82,
   "metadata": {},
   "outputs": [],
   "source": [
    "with open('./predictor_tp_question_revise.txt', 'w') as f:\n",
    "    for line in list(set(tmp_line))[:100]:\n",
    "        f.write(line + \"\\n\")"
   ]
  },
  {
   "cell_type": "markdown",
   "metadata": {},
   "source": [
    "# Embedding"
   ]
  },
  {
   "cell_type": "code",
   "execution_count": 1,
   "metadata": {},
   "outputs": [],
   "source": [
    "from openai import Embedding\n",
    "import numpy as np"
   ]
  },
  {
   "cell_type": "code",
   "execution_count": 2,
   "metadata": {},
   "outputs": [],
   "source": [
    "\n",
    "#client = OpenAI()\n",
    "\n",
    "def get_embedding(text, model=\"text-embedding-3-small\"):\n",
    "   text = text.replace(\"\\n\", \" \")\n",
    "   return Embedding.create(input = [text], model=model).data[0].embedding\n",
    "\n",
    "#df['ada_embedding'] = df.combined.apply(lambda x: get_embedding(x, model='text-embedding-3-small'))\n",
    "#df.to_csv('output/embedded_1k_reviews.csv', index=False)"
   ]
  },
  {
   "cell_type": "code",
   "execution_count": 10,
   "metadata": {},
   "outputs": [],
   "source": [
    "datasets = {\n",
    "    \"A\": \"./predictor2.txt\",\n",
    "    \"B\": \"./predictor_3question.txt\",\n",
    "    \"D\": \"./predictor_tp_question_revise.txt\"\n",
    "}\n",
    "\n",
    "embed_dict = dict()\n",
    "for name, path in datasets.items():\n",
    "    sentences = read_sentences_from_csv(path)\n",
    "\n",
    "    embed = np.array([get_embedding(sent) for sent in sentences])\n",
    "    embed_dict[name] = embed\n",
    "    #ttr = calculate_ttr(sentences)\n",
    "    #print(f\"Lexical Diversity (TTR) of Dataset {name}: {ttr:.4f}\")"
   ]
  },
  {
   "cell_type": "code",
   "execution_count": 11,
   "metadata": {},
   "outputs": [
    {
     "name": "stdout",
     "output_type": "stream",
     "text": [
      "A (100, 1536)\n",
      "B (100, 1536)\n",
      "D (99, 1536)\n"
     ]
    }
   ],
   "source": [
    "for name, embed in embed_dict.items():\n",
    "    print (name, embed.shape)"
   ]
  },
  {
   "cell_type": "code",
   "execution_count": 12,
   "metadata": {},
   "outputs": [],
   "source": [
    "import numpy as np\n",
    "from sklearn.decomposition import PCA\n",
    "\n",
    "# Assuming embedding_dict is your original dictionary\n",
    "#embedding_dict = {}  # Replace this with your actual dictionary\n",
    "\n",
    "# Step 1: Flatten and combine embeddings\n",
    "all_embeddings = np.vstack([embeddings for embeddings in embed_dict.values()])\n",
    "\n",
    "# Step 2: Apply PCA\n",
    "pca = PCA(n_components=2)\n",
    "pca.fit(all_embeddings)\n",
    "\n",
    "# Step 3: Transform the embeddings and Step 4: Reconstruct the dictionary\n",
    "reduced_embedding_dict = {key: pca.transform(embed_dict[key]) for key in embed_dict}"
   ]
  },
  {
   "cell_type": "code",
   "execution_count": 16,
   "metadata": {},
   "outputs": [],
   "source": [
    "from matplotlib import pyplot as plt"
   ]
  },
  {
   "cell_type": "code",
   "execution_count": 17,
   "metadata": {},
   "outputs": [],
   "source": [
    "import seaborn as sns\n",
    "sns.set_palette('colorblind')"
   ]
  },
  {
   "cell_type": "code",
   "execution_count": 32,
   "metadata": {},
   "outputs": [
    {
     "data": {
      "text/plain": [
       "Text(0, 0.5, 'PCA Component 2')"
      ]
     },
     "execution_count": 32,
     "metadata": {},
     "output_type": "execute_result"
    },
    {
     "data": {
      "image/png": "[encoded data removed]",
      "text/plain": [
       "<Figure size 640x480 with 1 Axes>"
      ]
     },
     "metadata": {},
     "output_type": "display_data"
    }
   ],
   "source": [
    "plt.rcParams['font.family'] = 'arial'\n",
    "#for key, value in reduced_embedding_dict.items():\n",
    "color=  [(170/256,170/256,170/256), (228/256,140/256,139/256), (120/256, 182/256, 177/256)]\n",
    "for i, key in enumerate(['D', 'B', 'A']):\n",
    "    value = reduced_embedding_dict[key]\n",
    "    plt.plot(value[:, 0], value[:, 1], 'o', c=color[i])\n",
    "\n",
    "plt.legend(['Template-based', 'GPT-3.5',  'GPT-4'])\n",
    "plt.xticks([])\n",
    "plt.yticks([])\n",
    "plt.xlabel('PCA Component 1', fontsize=15)\n",
    "plt.ylabel('PCA Component 2', fontsize= 15)"
   ]
  },
  {
   "cell_type": "code",
   "execution_count": 25,
   "metadata": {},
   "outputs": [],
   "source": [
    "from scipy.spatial.distance import pdist, squareform\n",
    "\n",
    "def calculate_diversity(embeddings):\n",
    "    # Calculate pairwise Euclidean distances\n",
    "    pairwise_distances = pdist(embeddings, 'euclidean')\n",
    "    # Convert to square form and compute the mean\n",
    "    mean_distance = np.mean(squareform(pairwise_distances))\n",
    "    return mean_distance\n",
    "\n",
    "diversity_scores = {key: calculate_diversity(value) for key, value in embed_dict.items()}"
   ]
  },
  {
   "cell_type": "code",
   "execution_count": 26,
   "metadata": {},
   "outputs": [
    {
     "data": {
      "text/plain": [
       "{'A': 1.0222769244428658, 'B': 0.8971757755464032, 'D': 0.9628839555901296}"
      ]
     },
     "execution_count": 26,
     "metadata": {},
     "output_type": "execute_result"
    }
   ],
   "source": [
    "diversity_scores"
   ]
  }
 ],
 "metadata": {
  "kernelspec": {
   "display_name": "chatmof",
   "language": "python",
   "name": "python3"
  },
  "language_info": {
   "codemirror_mode": {
    "name": "ipython",
    "version": 3
   },
   "file_extension": ".py",
   "mimetype": "text/x-python",
   "name": "python",
   "nbconvert_exporter": "python",
   "pygments_lexer": "ipython3",
   "version": "3.9.17"
  }
 },
 "nbformat": 4,
 "nbformat_minor": 2
}
