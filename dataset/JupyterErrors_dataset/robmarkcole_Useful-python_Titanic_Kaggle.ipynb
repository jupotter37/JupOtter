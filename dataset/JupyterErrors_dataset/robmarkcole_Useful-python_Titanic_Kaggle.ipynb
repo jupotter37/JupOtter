{
 "cells": [
  {
   "cell_type": "markdown",
   "metadata": {},
   "source": [
    "https://epistasislab.github.io/tpot/"
   ]
  },
  {
   "cell_type": "markdown",
   "metadata": {},
   "source": [
    "# TPOT tutorial on the Titanic dataset "
   ]
  },
  {
   "cell_type": "markdown",
   "metadata": {},
   "source": [
    "The Titanic machine learning competition on [Kaggle](https://www.kaggle.com/c/titanic) is one of the most popular beginner's competitions on the platform. We will use that competition here to demonstrate the implementation of TPOT. "
   ]
  },
  {
   "cell_type": "code",
   "execution_count": 1,
   "metadata": {},
   "outputs": [],
   "source": [
    "# Import required libraries\n",
    "from tpot import TPOTClassifier\n",
    "from sklearn.model_selection import train_test_split\n",
    "import pandas as pd \n",
    "import numpy as np"
   ]
  },
  {
   "cell_type": "code",
   "execution_count": 2,
   "metadata": {},
   "outputs": [
    {
     "data": {
      "text/html": [
       "<div>\n",
       "<style scoped>\n",
       "    .dataframe tbody tr th:only-of-type {\n",
       "        vertical-align: middle;\n",
       "    }\n",
       "\n",
       "    .dataframe tbody tr th {\n",
       "        vertical-align: top;\n",
       "    }\n",
       "\n",
       "    .dataframe thead th {\n",
       "        text-align: right;\n",
       "    }\n",
       "</style>\n",
       "<table border=\"1\" class=\"dataframe\">\n",
       "  <thead>\n",
       "    <tr style=\"text-align: right;\">\n",
       "      <th></th>\n",
       "      <th>PassengerId</th>\n",
       "      <th>Survived</th>\n",
       "      <th>Pclass</th>\n",
       "      <th>Name</th>\n",
       "      <th>Sex</th>\n",
       "      <th>Age</th>\n",
       "      <th>SibSp</th>\n",
       "      <th>Parch</th>\n",
       "      <th>Ticket</th>\n",
       "      <th>Fare</th>\n",
       "      <th>Cabin</th>\n",
       "      <th>Embarked</th>\n",
       "    </tr>\n",
       "  </thead>\n",
       "  <tbody>\n",
       "    <tr>\n",
       "      <th>0</th>\n",
       "      <td>1</td>\n",
       "      <td>0</td>\n",
       "      <td>3</td>\n",
       "      <td>Braund, Mr. Owen Harris</td>\n",
       "      <td>male</td>\n",
       "      <td>22.0</td>\n",
       "      <td>1</td>\n",
       "      <td>0</td>\n",
       "      <td>A/5 21171</td>\n",
       "      <td>7.2500</td>\n",
       "      <td>NaN</td>\n",
       "      <td>S</td>\n",
       "    </tr>\n",
       "    <tr>\n",
       "      <th>1</th>\n",
       "      <td>2</td>\n",
       "      <td>1</td>\n",
       "      <td>1</td>\n",
       "      <td>Cumings, Mrs. John Bradley (Florence Briggs Th...</td>\n",
       "      <td>female</td>\n",
       "      <td>38.0</td>\n",
       "      <td>1</td>\n",
       "      <td>0</td>\n",
       "      <td>PC 17599</td>\n",
       "      <td>71.2833</td>\n",
       "      <td>C85</td>\n",
       "      <td>C</td>\n",
       "    </tr>\n",
       "    <tr>\n",
       "      <th>2</th>\n",
       "      <td>3</td>\n",
       "      <td>1</td>\n",
       "      <td>3</td>\n",
       "      <td>Heikkinen, Miss. Laina</td>\n",
       "      <td>female</td>\n",
       "      <td>26.0</td>\n",
       "      <td>0</td>\n",
       "      <td>0</td>\n",
       "      <td>STON/O2. 3101282</td>\n",
       "      <td>7.9250</td>\n",
       "      <td>NaN</td>\n",
       "      <td>S</td>\n",
       "    </tr>\n",
       "    <tr>\n",
       "      <th>3</th>\n",
       "      <td>4</td>\n",
       "      <td>1</td>\n",
       "      <td>1</td>\n",
       "      <td>Futrelle, Mrs. Jacques Heath (Lily May Peel)</td>\n",
       "      <td>female</td>\n",
       "      <td>35.0</td>\n",
       "      <td>1</td>\n",
       "      <td>0</td>\n",
       "      <td>113803</td>\n",
       "      <td>53.1000</td>\n",
       "      <td>C123</td>\n",
       "      <td>S</td>\n",
       "    </tr>\n",
       "    <tr>\n",
       "      <th>4</th>\n",
       "      <td>5</td>\n",
       "      <td>0</td>\n",
       "      <td>3</td>\n",
       "      <td>Allen, Mr. William Henry</td>\n",
       "      <td>male</td>\n",
       "      <td>35.0</td>\n",
       "      <td>0</td>\n",
       "      <td>0</td>\n",
       "      <td>373450</td>\n",
       "      <td>8.0500</td>\n",
       "      <td>NaN</td>\n",
       "      <td>S</td>\n",
       "    </tr>\n",
       "  </tbody>\n",
       "</table>\n",
       "</div>"
      ],
      "text/plain": [
       "   PassengerId  Survived  Pclass  \\\n",
       "0            1         0       3   \n",
       "1            2         1       1   \n",
       "2            3         1       3   \n",
       "3            4         1       1   \n",
       "4            5         0       3   \n",
       "\n",
       "                                                Name     Sex   Age  SibSp  \\\n",
       "0                            Braund, Mr. Owen Harris    male  22.0      1   \n",
       "1  Cumings, Mrs. John Bradley (Florence Briggs Th...  female  38.0      1   \n",
       "2                             Heikkinen, Miss. Laina  female  26.0      0   \n",
       "3       Futrelle, Mrs. Jacques Heath (Lily May Peel)  female  35.0      1   \n",
       "4                           Allen, Mr. William Henry    male  35.0      0   \n",
       "\n",
       "   Parch            Ticket     Fare Cabin Embarked  \n",
       "0      0         A/5 21171   7.2500   NaN        S  \n",
       "1      0          PC 17599  71.2833   C85        C  \n",
       "2      0  STON/O2. 3101282   7.9250   NaN        S  \n",
       "3      0            113803  53.1000  C123        S  \n",
       "4      0            373450   8.0500   NaN        S  "
      ]
     },
     "execution_count": 2,
     "metadata": {},
     "output_type": "execute_result"
    }
   ],
   "source": [
    "# Load the data\n",
    "titanic = pd.read_csv('data/titanic_train.csv')\n",
    "titanic.head(5)"
   ]
  },
  {
   "cell_type": "markdown",
   "metadata": {},
   "source": [
    "## Data Exploration "
   ]
  },
  {
   "cell_type": "code",
   "execution_count": 3,
   "metadata": {},
   "outputs": [
    {
     "data": {
      "text/plain": [
       "Sex     Survived\n",
       "female  1           233\n",
       "        0            81\n",
       "male    0           468\n",
       "        1           109\n",
       "Name: Survived, dtype: int64"
      ]
     },
     "execution_count": 3,
     "metadata": {},
     "output_type": "execute_result"
    }
   ],
   "source": [
    "titanic.groupby('Sex').Survived.value_counts()"
   ]
  },
  {
   "cell_type": "code",
   "execution_count": 4,
   "metadata": {},
   "outputs": [
    {
     "data": {
      "text/plain": [
       "Pclass  Sex     Survived\n",
       "1       female  1            91\n",
       "                0             3\n",
       "        male    0            77\n",
       "                1            45\n",
       "2       female  1            70\n",
       "                0             6\n",
       "        male    0            91\n",
       "                1            17\n",
       "3       female  0            72\n",
       "                1            72\n",
       "        male    0           300\n",
       "                1            47\n",
       "Name: Survived, dtype: int64"
      ]
     },
     "execution_count": 4,
     "metadata": {},
     "output_type": "execute_result"
    }
   ],
   "source": [
    "titanic.groupby(['Pclass','Sex']).Survived.value_counts()"
   ]
  },
  {
   "cell_type": "code",
   "execution_count": 5,
   "metadata": {},
   "outputs": [
    {
     "data": {
      "text/html": [
       "<div>\n",
       "<style scoped>\n",
       "    .dataframe tbody tr th:only-of-type {\n",
       "        vertical-align: middle;\n",
       "    }\n",
       "\n",
       "    .dataframe tbody tr th {\n",
       "        vertical-align: top;\n",
       "    }\n",
       "\n",
       "    .dataframe thead th {\n",
       "        text-align: right;\n",
       "    }\n",
       "</style>\n",
       "<table border=\"1\" class=\"dataframe\">\n",
       "  <thead>\n",
       "    <tr style=\"text-align: right;\">\n",
       "      <th></th>\n",
       "      <th>Survived</th>\n",
       "      <th>0.0</th>\n",
       "      <th>1.0</th>\n",
       "    </tr>\n",
       "    <tr>\n",
       "      <th>Pclass</th>\n",
       "      <th>Sex</th>\n",
       "      <th></th>\n",
       "      <th></th>\n",
       "    </tr>\n",
       "  </thead>\n",
       "  <tbody>\n",
       "    <tr>\n",
       "      <th rowspan=\"2\" valign=\"top\">1</th>\n",
       "      <th>female</th>\n",
       "      <td>0.031915</td>\n",
       "      <td>0.968085</td>\n",
       "    </tr>\n",
       "    <tr>\n",
       "      <th>male</th>\n",
       "      <td>0.631148</td>\n",
       "      <td>0.368852</td>\n",
       "    </tr>\n",
       "    <tr>\n",
       "      <th rowspan=\"2\" valign=\"top\">2</th>\n",
       "      <th>female</th>\n",
       "      <td>0.078947</td>\n",
       "      <td>0.921053</td>\n",
       "    </tr>\n",
       "    <tr>\n",
       "      <th>male</th>\n",
       "      <td>0.842593</td>\n",
       "      <td>0.157407</td>\n",
       "    </tr>\n",
       "    <tr>\n",
       "      <th rowspan=\"2\" valign=\"top\">3</th>\n",
       "      <th>female</th>\n",
       "      <td>0.500000</td>\n",
       "      <td>0.500000</td>\n",
       "    </tr>\n",
       "    <tr>\n",
       "      <th>male</th>\n",
       "      <td>0.864553</td>\n",
       "      <td>0.135447</td>\n",
       "    </tr>\n",
       "  </tbody>\n",
       "</table>\n",
       "</div>"
      ],
      "text/plain": [
       "Survived            0.0       1.0\n",
       "Pclass Sex                       \n",
       "1      female  0.031915  0.968085\n",
       "       male    0.631148  0.368852\n",
       "2      female  0.078947  0.921053\n",
       "       male    0.842593  0.157407\n",
       "3      female  0.500000  0.500000\n",
       "       male    0.864553  0.135447"
      ]
     },
     "execution_count": 5,
     "metadata": {},
     "output_type": "execute_result"
    }
   ],
   "source": [
    "id = pd.crosstab([titanic.Pclass, titanic.Sex], titanic.Survived.astype(float))\n",
    "id.div(id.sum(1).astype(float), 0)"
   ]
  },
  {
   "cell_type": "markdown",
   "metadata": {},
   "source": [
    "## Data Munging "
   ]
  },
  {
   "cell_type": "markdown",
   "metadata": {},
   "source": [
    "The first and most important step in using TPOT on any data set is to rename the target class/response variable to `class`."
   ]
  },
  {
   "cell_type": "code",
   "execution_count": 6,
   "metadata": {},
   "outputs": [],
   "source": [
    "titanic.rename(columns={'Survived': 'class'}, inplace=True)"
   ]
  },
  {
   "cell_type": "markdown",
   "metadata": {},
   "source": [
    "At present, TPOT requires all the data to be in numerical format. As we can see below, our data set has 5 categorical variables which contain non-numerical values: `Name`, `Sex`, `Ticket`, `Cabin` and `Embarked`."
   ]
  },
  {
   "cell_type": "code",
   "execution_count": 7,
   "metadata": {},
   "outputs": [
    {
     "data": {
      "text/plain": [
       "PassengerId      int64\n",
       "class            int64\n",
       "Pclass           int64\n",
       "Name            object\n",
       "Sex             object\n",
       "Age            float64\n",
       "SibSp            int64\n",
       "Parch            int64\n",
       "Ticket          object\n",
       "Fare           float64\n",
       "Cabin           object\n",
       "Embarked        object\n",
       "dtype: object"
      ]
     },
     "execution_count": 7,
     "metadata": {},
     "output_type": "execute_result"
    }
   ],
   "source": [
    "titanic.dtypes"
   ]
  },
  {
   "cell_type": "markdown",
   "metadata": {},
   "source": [
    "We then check the number of levels that each of the five categorical variables have. "
   ]
  },
  {
   "cell_type": "code",
   "execution_count": 8,
   "metadata": {},
   "outputs": [
    {
     "name": "stdout",
     "output_type": "stream",
     "text": [
      "Number of levels in category 'Name': \b 891.00 \n",
      "Number of levels in category 'Sex': \b 2.00 \n",
      "Number of levels in category 'Ticket': \b 681.00 \n",
      "Number of levels in category 'Cabin': \b 148.00 \n",
      "Number of levels in category 'Embarked': \b 4.00 \n"
     ]
    }
   ],
   "source": [
    "for cat in ['Name', 'Sex', 'Ticket', 'Cabin', 'Embarked']:\n",
    "    print(\"Number of levels in category '{0}': \\b {1:2.2f} \".format(cat, titanic[cat].unique().size))"
   ]
  },
  {
   "cell_type": "markdown",
   "metadata": {},
   "source": [
    "As we can see, `Sex` and `Embarked` have few levels. Let's find out what they are."
   ]
  },
  {
   "cell_type": "code",
   "execution_count": 9,
   "metadata": {},
   "outputs": [
    {
     "name": "stdout",
     "output_type": "stream",
     "text": [
      "Levels for catgeory 'Sex': ['male' 'female']\n",
      "Levels for catgeory 'Embarked': ['S' 'C' 'Q' nan]\n"
     ]
    }
   ],
   "source": [
    "for cat in ['Sex', 'Embarked']:\n",
    "    print(\"Levels for catgeory '{0}': {1}\".format(cat, titanic[cat].unique()))"
   ]
  },
  {
   "cell_type": "markdown",
   "metadata": {},
   "source": [
    "We then code these levels manually into numerical values. For `nan` i.e. the missing values, we simply replace them with a placeholder value (-999). In fact, we perform this replacement for the entire data set."
   ]
  },
  {
   "cell_type": "code",
   "execution_count": 10,
   "metadata": {},
   "outputs": [],
   "source": [
    "titanic['Sex'] = titanic['Sex'].map({'male':0,'female':1})\n",
    "titanic['Embarked'] = titanic['Embarked'].map({'S':0,'C':1,'Q':2})"
   ]
  },
  {
   "cell_type": "code",
   "execution_count": 11,
   "metadata": {},
   "outputs": [
    {
     "data": {
      "text/plain": [
       "PassengerId    False\n",
       "class          False\n",
       "Pclass         False\n",
       "Name           False\n",
       "Sex            False\n",
       "Age            False\n",
       "SibSp          False\n",
       "Parch          False\n",
       "Ticket         False\n",
       "Fare           False\n",
       "Cabin          False\n",
       "Embarked       False\n",
       "dtype: bool"
      ]
     },
     "execution_count": 11,
     "metadata": {},
     "output_type": "execute_result"
    }
   ],
   "source": [
    "titanic = titanic.fillna(-999)\n",
    "pd.isnull(titanic).any()"
   ]
  },
  {
   "cell_type": "markdown",
   "metadata": {},
   "source": [
    "Since `Name` and `Ticket` have so many levels, we drop them from our analysis for the sake of simplicity. For `Cabin`, we encode the levels as digits using Scikit-learn's [`MultiLabelBinarizer`](http://scikit-learn.org/stable/modules/generated/sklearn.preprocessing.MultiLabelBinarizer.html) and treat them as new features. "
   ]
  },
  {
   "cell_type": "code",
   "execution_count": 12,
   "metadata": {},
   "outputs": [],
   "source": [
    "from sklearn.preprocessing import MultiLabelBinarizer\n",
    "mlb = MultiLabelBinarizer()\n",
    "CabinTrans = mlb.fit_transform([{str(val)} for val in titanic['Cabin'].values])"
   ]
  },
  {
   "cell_type": "code",
   "execution_count": 13,
   "metadata": {},
   "outputs": [
    {
     "data": {
      "text/plain": [
       "array([[1, 0, 0, ..., 0, 0, 0],\n",
       "       [0, 0, 0, ..., 0, 0, 0],\n",
       "       [1, 0, 0, ..., 0, 0, 0],\n",
       "       ...,\n",
       "       [1, 0, 0, ..., 0, 0, 0],\n",
       "       [0, 0, 0, ..., 0, 0, 0],\n",
       "       [1, 0, 0, ..., 0, 0, 0]])"
      ]
     },
     "execution_count": 13,
     "metadata": {},
     "output_type": "execute_result"
    }
   ],
   "source": [
    "CabinTrans"
   ]
  },
  {
   "cell_type": "markdown",
   "metadata": {},
   "source": [
    "Drop the unused features from the dataset. "
   ]
  },
  {
   "cell_type": "code",
   "execution_count": 14,
   "metadata": {},
   "outputs": [],
   "source": [
    "titanic_new = titanic.drop(['Name','Ticket','Cabin','class'], axis=1)"
   ]
  },
  {
   "cell_type": "code",
   "execution_count": 15,
   "metadata": {},
   "outputs": [],
   "source": [
    "assert (len(titanic['Cabin'].unique()) == len(mlb.classes_)), \"Not Equal\" #check correct encoding done"
   ]
  },
  {
   "cell_type": "markdown",
   "metadata": {},
   "source": [
    "We then add the encoded features to form the final dataset to be used with TPOT. "
   ]
  },
  {
   "cell_type": "code",
   "execution_count": 16,
   "metadata": {},
   "outputs": [],
   "source": [
    "titanic_new = np.hstack((titanic_new.values,CabinTrans))"
   ]
  },
  {
   "cell_type": "code",
   "execution_count": 17,
   "metadata": {},
   "outputs": [
    {
     "data": {
      "text/plain": [
       "False"
      ]
     },
     "execution_count": 17,
     "metadata": {},
     "output_type": "execute_result"
    }
   ],
   "source": [
    "np.isnan(titanic_new).any()"
   ]
  },
  {
   "cell_type": "markdown",
   "metadata": {},
   "source": [
    "Keeping in mind that the final dataset is in the form of a numpy array, we can check the number of features in the final dataset as follows."
   ]
  },
  {
   "cell_type": "code",
   "execution_count": 18,
   "metadata": {},
   "outputs": [
    {
     "data": {
      "text/plain": [
       "156"
      ]
     },
     "execution_count": 18,
     "metadata": {},
     "output_type": "execute_result"
    }
   ],
   "source": [
    "titanic_new[0].size"
   ]
  },
  {
   "cell_type": "markdown",
   "metadata": {},
   "source": [
    "Finally we store the class labels, which we need to predict, in a separate variable. "
   ]
  },
  {
   "cell_type": "code",
   "execution_count": 19,
   "metadata": {},
   "outputs": [],
   "source": [
    "titanic_class = titanic['class'].values"
   ]
  },
  {
   "cell_type": "markdown",
   "metadata": {},
   "source": [
    "## Data Analysis using TPOT"
   ]
  },
  {
   "cell_type": "markdown",
   "metadata": {},
   "source": [
    "To begin our analysis, we need to divide our training data into training and validation sets. The validation set is just to give us an idea of the test set error. The model selection and tuning is entirely taken care of by TPOT, so if we want to, we can skip creating this validation set."
   ]
  },
  {
   "cell_type": "code",
   "execution_count": 20,
   "metadata": {},
   "outputs": [
    {
     "data": {
      "text/plain": [
       "(668, 223)"
      ]
     },
     "execution_count": 20,
     "metadata": {},
     "output_type": "execute_result"
    }
   ],
   "source": [
    "training_indices, validation_indices = training_indices, testing_indices = train_test_split(titanic.index, stratify = titanic_class, train_size=0.75, test_size=0.25)\n",
    "training_indices.size, validation_indices.size"
   ]
  },
  {
   "cell_type": "markdown",
   "metadata": {},
   "source": [
    "After that, we proceed to calling the `fit`, `score` and `export` functions on our training dataset. To get a better idea of how these functions work, refer the TPOT documentation [here](http://epistasislab.github.io/tpot/api/).\n",
    "\n",
    "An important TPOT parameter to set is the number of generations. Since our aim is to just illustrate the use of TPOT, we have set it to 5. On a standard laptop with 4GB RAM, it roughly takes 5 minutes per generation to run. For each added generation, it should take 5 mins more. Thus, for the default value of 100, total run time could be roughly around 8 hours.  "
   ]
  },
  {
   "cell_type": "code",
   "execution_count": 21,
   "metadata": {},
   "outputs": [
    {
     "name": "stderr",
     "output_type": "stream",
     "text": [
      "Optimization Progress: 82pipeline [00:41,  1.45pipeline/s]                  "
     ]
    },
    {
     "name": "stdout",
     "output_type": "stream",
     "text": [
      "Generation 1 - Current best internal CV score: 0.8190162803359975\n"
     ]
    },
    {
     "name": "stderr",
     "output_type": "stream",
     "text": [
      "Optimization Progress: 124pipeline [01:12,  1.38pipeline/s]                   "
     ]
    },
    {
     "name": "stdout",
     "output_type": "stream",
     "text": [
      "Generation 2 - Current best internal CV score: 0.8190162803359975\n"
     ]
    },
    {
     "name": "stderr",
     "output_type": "stream",
     "text": [
      "Optimization Progress: 165pipeline [01:42,  1.33pipeline/s]                   "
     ]
    },
    {
     "name": "stdout",
     "output_type": "stream",
     "text": [
      "Generation 3 - Current best internal CV score: 0.8219678549607851\n"
     ]
    },
    {
     "name": "stderr",
     "output_type": "stream",
     "text": [
      "                                                                              \r"
     ]
    },
    {
     "name": "stdout",
     "output_type": "stream",
     "text": [
      "\n",
      "2.021685016666667 minutes have elapsed. TPOT will close down.\n",
      "TPOT closed prematurely. Will use the current best pipeline.\n",
      "\n",
      "Best pipeline: ExtraTreesClassifier(input_matrix, bootstrap=False, criterion=entropy, max_features=0.8, min_samples_leaf=19, min_samples_split=20, n_estimators=100)\n"
     ]
    },
    {
     "data": {
      "text/plain": [
       "TPOTClassifier(config_dict={'sklearn.naive_bayes.GaussianNB': {}, 'sklearn.naive_bayes.BernoulliNB': {'alpha': [0.001, 0.01, 0.1, 1.0, 10.0, 100.0], 'fit_prior': [True, False]}, 'sklearn.naive_bayes.MultinomialNB': {'alpha': [0.001, 0.01, 0.1, 1.0, 10.0, 100.0], 'fit_prior': [True, False]}, 'sklearn.tree.DecisionT....3 , 0.35, 0.4 , 0.45, 0.5 , 0.55,\n",
       "       0.6 , 0.65, 0.7 , 0.75, 0.8 , 0.85, 0.9 , 0.95, 1.  ])}}}},\n",
       "        crossover_rate=0.1, cv=5, disable_update_check=False,\n",
       "        early_stop=None, generations=1000000, max_eval_time_mins=0.04,\n",
       "        max_time_mins=2, memory=None, mutation_rate=0.9, n_jobs=1,\n",
       "        offspring_size=40, periodic_checkpoint_folder=None,\n",
       "        population_size=40, random_state=None, scoring=None, subsample=1.0,\n",
       "        verbosity=2, warm_start=False)"
      ]
     },
     "execution_count": 21,
     "metadata": {},
     "output_type": "execute_result"
    }
   ],
   "source": [
    "tpot = TPOTClassifier(verbosity=2, max_time_mins=2, max_eval_time_mins=0.04, population_size=40)\n",
    "tpot.fit(titanic_new[training_indices], titanic_class[training_indices])"
   ]
  },
  {
   "cell_type": "code",
   "execution_count": 22,
   "metadata": {},
   "outputs": [
    {
     "data": {
      "text/plain": [
       "0.7847533632286996"
      ]
     },
     "execution_count": 22,
     "metadata": {},
     "output_type": "execute_result"
    }
   ],
   "source": [
    "tpot.score(titanic_new[validation_indices], titanic.loc[validation_indices, 'class'].values)"
   ]
  },
  {
   "cell_type": "code",
   "execution_count": 23,
   "metadata": {},
   "outputs": [
    {
     "data": {
      "text/plain": [
       "True"
      ]
     },
     "execution_count": 23,
     "metadata": {},
     "output_type": "execute_result"
    }
   ],
   "source": [
    "tpot.export('tpot_titanic_pipeline.py')"
   ]
  },
  {
   "cell_type": "markdown",
   "metadata": {},
   "source": [
    "Let's have a look at the generated code. As we can see, the random forest classifier performed the best on the given dataset out of all the other models that TPOT currently evaluates on. If we ran TPOT for more generations, then the score should improve further."
   ]
  },
  {
   "cell_type": "code",
   "execution_count": 38,
   "metadata": {},
   "outputs": [
    {
     "ename": "ValueError",
     "evalue": "Some errors were detected !\n    Line #2 (got 13 columns instead of 12)\n    Line #3 (got 13 columns instead of 12)\n    Line #4 (got 13 columns instead of 12)\n    Line #5 (got 13 columns instead of 12)\n    Line #6 (got 13 columns instead of 12)\n    Line #7 (got 13 columns instead of 12)\n    Line #8 (got 13 columns instead of 12)\n    Line #9 (got 13 columns instead of 12)\n    Line #10 (got 13 columns instead of 12)\n    Line #11 (got 13 columns instead of 12)\n    Line #12 (got 13 columns instead of 12)\n    Line #13 (got 13 columns instead of 12)\n    Line #14 (got 13 columns instead of 12)\n    Line #15 (got 13 columns instead of 12)\n    Line #16 (got 13 columns instead of 12)\n    Line #17 (got 13 columns instead of 12)\n    Line #18 (got 13 columns instead of 12)\n    Line #19 (got 13 columns instead of 12)\n    Line #20 (got 13 columns instead of 12)\n    Line #21 (got 13 columns instead of 12)\n    Line #22 (got 13 columns instead of 12)\n    Line #23 (got 13 columns instead of 12)\n    Line #24 (got 13 columns instead of 12)\n    Line #25 (got 13 columns instead of 12)\n    Line #26 (got 13 columns instead of 12)\n    Line #27 (got 13 columns instead of 12)\n    Line #28 (got 13 columns instead of 12)\n    Line #29 (got 13 columns instead of 12)\n    Line #30 (got 13 columns instead of 12)\n    Line #31 (got 13 columns instead of 12)\n    Line #32 (got 13 columns instead of 12)\n    Line #33 (got 13 columns instead of 12)\n    Line #34 (got 13 columns instead of 12)\n    Line #35 (got 13 columns instead of 12)\n    Line #36 (got 13 columns instead of 12)\n    Line #37 (got 13 columns instead of 12)\n    Line #38 (got 13 columns instead of 12)\n    Line #39 (got 13 columns instead of 12)\n    Line #40 (got 13 columns instead of 12)\n    Line #41 (got 13 columns instead of 12)\n    Line #42 (got 13 columns instead of 12)\n    Line #43 (got 13 columns instead of 12)\n    Line #44 (got 13 columns instead of 12)\n    Line #45 (got 13 columns instead of 12)\n    Line #46 (got 13 columns instead of 12)\n    Line #47 (got 13 columns instead of 12)\n    Line #48 (got 13 columns instead of 12)\n    Line #49 (got 13 columns instead of 12)\n    Line #50 (got 13 columns instead of 12)\n    Line #51 (got 13 columns instead of 12)\n    Line #52 (got 13 columns instead of 12)\n    Line #53 (got 13 columns instead of 12)\n    Line #54 (got 13 columns instead of 12)\n    Line #55 (got 13 columns instead of 12)\n    Line #56 (got 13 columns instead of 12)\n    Line #57 (got 13 columns instead of 12)\n    Line #58 (got 13 columns instead of 12)\n    Line #59 (got 13 columns instead of 12)\n    Line #60 (got 13 columns instead of 12)\n    Line #61 (got 13 columns instead of 12)\n    Line #62 (got 13 columns instead of 12)\n    Line #63 (got 13 columns instead of 12)\n    Line #64 (got 13 columns instead of 12)\n    Line #65 (got 13 columns instead of 12)\n    Line #66 (got 13 columns instead of 12)\n    Line #67 (got 13 columns instead of 12)\n    Line #68 (got 13 columns instead of 12)\n    Line #69 (got 13 columns instead of 12)\n    Line #70 (got 13 columns instead of 12)\n    Line #71 (got 13 columns instead of 12)\n    Line #72 (got 13 columns instead of 12)\n    Line #73 (got 13 columns instead of 12)\n    Line #74 (got 13 columns instead of 12)\n    Line #75 (got 13 columns instead of 12)\n    Line #76 (got 13 columns instead of 12)\n    Line #77 (got 13 columns instead of 12)\n    Line #78 (got 13 columns instead of 12)\n    Line #79 (got 13 columns instead of 12)\n    Line #80 (got 13 columns instead of 12)\n    Line #81 (got 13 columns instead of 12)\n    Line #82 (got 13 columns instead of 12)\n    Line #83 (got 13 columns instead of 12)\n    Line #84 (got 13 columns instead of 12)\n    Line #85 (got 13 columns instead of 12)\n    Line #86 (got 13 columns instead of 12)\n    Line #87 (got 13 columns instead of 12)\n    Line #88 (got 13 columns instead of 12)\n    Line #89 (got 13 columns instead of 12)\n    Line #90 (got 13 columns instead of 12)\n    Line #91 (got 13 columns instead of 12)\n    Line #92 (got 13 columns instead of 12)\n    Line #93 (got 13 columns instead of 12)\n    Line #94 (got 13 columns instead of 12)\n    Line #95 (got 13 columns instead of 12)\n    Line #96 (got 13 columns instead of 12)\n    Line #97 (got 13 columns instead of 12)\n    Line #98 (got 13 columns instead of 12)\n    Line #99 (got 13 columns instead of 12)\n    Line #100 (got 13 columns instead of 12)\n    Line #101 (got 13 columns instead of 12)\n    Line #102 (got 13 columns instead of 12)\n    Line #103 (got 13 columns instead of 12)\n    Line #104 (got 13 columns instead of 12)\n    Line #105 (got 13 columns instead of 12)\n    Line #106 (got 13 columns instead of 12)\n    Line #107 (got 13 columns instead of 12)\n    Line #108 (got 13 columns instead of 12)\n    Line #109 (got 13 columns instead of 12)\n    Line #110 (got 13 columns instead of 12)\n    Line #111 (got 13 columns instead of 12)\n    Line #112 (got 13 columns instead of 12)\n    Line #113 (got 13 columns instead of 12)\n    Line #114 (got 13 columns instead of 12)\n    Line #115 (got 13 columns instead of 12)\n    Line #116 (got 13 columns instead of 12)\n    Line #117 (got 13 columns instead of 12)\n    Line #118 (got 13 columns instead of 12)\n    Line #119 (got 13 columns instead of 12)\n    Line #120 (got 13 columns instead of 12)\n    Line #121 (got 13 columns instead of 12)\n    Line #122 (got 13 columns instead of 12)\n    Line #123 (got 13 columns instead of 12)\n    Line #124 (got 13 columns instead of 12)\n    Line #125 (got 13 columns instead of 12)\n    Line #126 (got 13 columns instead of 12)\n    Line #127 (got 13 columns instead of 12)\n    Line #128 (got 13 columns instead of 12)\n    Line #129 (got 13 columns instead of 12)\n    Line #130 (got 13 columns instead of 12)\n    Line #131 (got 13 columns instead of 12)\n    Line #132 (got 13 columns instead of 12)\n    Line #133 (got 13 columns instead of 12)\n    Line #134 (got 13 columns instead of 12)\n    Line #135 (got 13 columns instead of 12)\n    Line #136 (got 13 columns instead of 12)\n    Line #137 (got 13 columns instead of 12)\n    Line #138 (got 13 columns instead of 12)\n    Line #139 (got 13 columns instead of 12)\n    Line #140 (got 13 columns instead of 12)\n    Line #141 (got 13 columns instead of 12)\n    Line #142 (got 13 columns instead of 12)\n    Line #143 (got 13 columns instead of 12)\n    Line #144 (got 13 columns instead of 12)\n    Line #145 (got 13 columns instead of 12)\n    Line #146 (got 13 columns instead of 12)\n    Line #147 (got 13 columns instead of 12)\n    Line #148 (got 13 columns instead of 12)\n    Line #149 (got 13 columns instead of 12)\n    Line #150 (got 13 columns instead of 12)\n    Line #151 (got 13 columns instead of 12)\n    Line #152 (got 13 columns instead of 12)\n    Line #153 (got 13 columns instead of 12)\n    Line #154 (got 13 columns instead of 12)\n    Line #155 (got 13 columns instead of 12)\n    Line #156 (got 13 columns instead of 12)\n    Line #157 (got 13 columns instead of 12)\n    Line #158 (got 13 columns instead of 12)\n    Line #159 (got 13 columns instead of 12)\n    Line #160 (got 13 columns instead of 12)\n    Line #161 (got 13 columns instead of 12)\n    Line #162 (got 13 columns instead of 12)\n    Line #163 (got 13 columns instead of 12)\n    Line #164 (got 13 columns instead of 12)\n    Line #165 (got 13 columns instead of 12)\n    Line #166 (got 13 columns instead of 12)\n    Line #167 (got 13 columns instead of 12)\n    Line #168 (got 13 columns instead of 12)\n    Line #169 (got 13 columns instead of 12)\n    Line #170 (got 13 columns instead of 12)\n    Line #171 (got 13 columns instead of 12)\n    Line #172 (got 13 columns instead of 12)\n    Line #173 (got 13 columns instead of 12)\n    Line #174 (got 13 columns instead of 12)\n    Line #175 (got 13 columns instead of 12)\n    Line #176 (got 13 columns instead of 12)\n    Line #177 (got 13 columns instead of 12)\n    Line #178 (got 13 columns instead of 12)\n    Line #179 (got 13 columns instead of 12)\n    Line #180 (got 13 columns instead of 12)\n    Line #181 (got 13 columns instead of 12)\n    Line #182 (got 13 columns instead of 12)\n    Line #183 (got 13 columns instead of 12)\n    Line #184 (got 13 columns instead of 12)\n    Line #185 (got 13 columns instead of 12)\n    Line #186 (got 13 columns instead of 12)\n    Line #187 (got 13 columns instead of 12)\n    Line #188 (got 13 columns instead of 12)\n    Line #189 (got 13 columns instead of 12)\n    Line #190 (got 13 columns instead of 12)\n    Line #191 (got 13 columns instead of 12)\n    Line #192 (got 13 columns instead of 12)\n    Line #193 (got 13 columns instead of 12)\n    Line #194 (got 13 columns instead of 12)\n    Line #195 (got 13 columns instead of 12)\n    Line #196 (got 13 columns instead of 12)\n    Line #197 (got 13 columns instead of 12)\n    Line #198 (got 13 columns instead of 12)\n    Line #199 (got 13 columns instead of 12)\n    Line #200 (got 13 columns instead of 12)\n    Line #201 (got 13 columns instead of 12)\n    Line #202 (got 13 columns instead of 12)\n    Line #203 (got 13 columns instead of 12)\n    Line #204 (got 13 columns instead of 12)\n    Line #205 (got 13 columns instead of 12)\n    Line #206 (got 13 columns instead of 12)\n    Line #207 (got 13 columns instead of 12)\n    Line #208 (got 13 columns instead of 12)\n    Line #209 (got 13 columns instead of 12)\n    Line #210 (got 13 columns instead of 12)\n    Line #211 (got 13 columns instead of 12)\n    Line #212 (got 13 columns instead of 12)\n    Line #213 (got 13 columns instead of 12)\n    Line #214 (got 13 columns instead of 12)\n    Line #215 (got 13 columns instead of 12)\n    Line #216 (got 13 columns instead of 12)\n    Line #217 (got 13 columns instead of 12)\n    Line #218 (got 13 columns instead of 12)\n    Line #219 (got 13 columns instead of 12)\n    Line #220 (got 13 columns instead of 12)\n    Line #221 (got 13 columns instead of 12)\n    Line #222 (got 13 columns instead of 12)\n    Line #223 (got 13 columns instead of 12)\n    Line #224 (got 13 columns instead of 12)\n    Line #225 (got 13 columns instead of 12)\n    Line #226 (got 13 columns instead of 12)\n    Line #227 (got 13 columns instead of 12)\n    Line #228 (got 13 columns instead of 12)\n    Line #229 (got 13 columns instead of 12)\n    Line #230 (got 13 columns instead of 12)\n    Line #231 (got 13 columns instead of 12)\n    Line #232 (got 13 columns instead of 12)\n    Line #233 (got 13 columns instead of 12)\n    Line #234 (got 13 columns instead of 12)\n    Line #235 (got 13 columns instead of 12)\n    Line #236 (got 13 columns instead of 12)\n    Line #237 (got 13 columns instead of 12)\n    Line #238 (got 13 columns instead of 12)\n    Line #239 (got 13 columns instead of 12)\n    Line #240 (got 13 columns instead of 12)\n    Line #241 (got 13 columns instead of 12)\n    Line #242 (got 13 columns instead of 12)\n    Line #243 (got 13 columns instead of 12)\n    Line #244 (got 13 columns instead of 12)\n    Line #245 (got 13 columns instead of 12)\n    Line #246 (got 13 columns instead of 12)\n    Line #247 (got 13 columns instead of 12)\n    Line #248 (got 13 columns instead of 12)\n    Line #249 (got 13 columns instead of 12)\n    Line #250 (got 13 columns instead of 12)\n    Line #251 (got 13 columns instead of 12)\n    Line #252 (got 13 columns instead of 12)\n    Line #253 (got 13 columns instead of 12)\n    Line #254 (got 13 columns instead of 12)\n    Line #255 (got 13 columns instead of 12)\n    Line #256 (got 13 columns instead of 12)\n    Line #257 (got 13 columns instead of 12)\n    Line #258 (got 13 columns instead of 12)\n    Line #259 (got 13 columns instead of 12)\n    Line #260 (got 13 columns instead of 12)\n    Line #261 (got 13 columns instead of 12)\n    Line #262 (got 13 columns instead of 12)\n    Line #263 (got 13 columns instead of 12)\n    Line #264 (got 13 columns instead of 12)\n    Line #265 (got 13 columns instead of 12)\n    Line #266 (got 13 columns instead of 12)\n    Line #267 (got 13 columns instead of 12)\n    Line #268 (got 13 columns instead of 12)\n    Line #269 (got 13 columns instead of 12)\n    Line #270 (got 13 columns instead of 12)\n    Line #271 (got 13 columns instead of 12)\n    Line #272 (got 13 columns instead of 12)\n    Line #273 (got 13 columns instead of 12)\n    Line #274 (got 13 columns instead of 12)\n    Line #275 (got 13 columns instead of 12)\n    Line #276 (got 13 columns instead of 12)\n    Line #277 (got 13 columns instead of 12)\n    Line #278 (got 13 columns instead of 12)\n    Line #279 (got 13 columns instead of 12)\n    Line #280 (got 13 columns instead of 12)\n    Line #281 (got 13 columns instead of 12)\n    Line #282 (got 13 columns instead of 12)\n    Line #283 (got 13 columns instead of 12)\n    Line #284 (got 13 columns instead of 12)\n    Line #285 (got 13 columns instead of 12)\n    Line #286 (got 13 columns instead of 12)\n    Line #287 (got 13 columns instead of 12)\n    Line #288 (got 13 columns instead of 12)\n    Line #289 (got 13 columns instead of 12)\n    Line #290 (got 13 columns instead of 12)\n    Line #291 (got 13 columns instead of 12)\n    Line #292 (got 13 columns instead of 12)\n    Line #293 (got 13 columns instead of 12)\n    Line #294 (got 13 columns instead of 12)\n    Line #295 (got 13 columns instead of 12)\n    Line #296 (got 13 columns instead of 12)\n    Line #297 (got 13 columns instead of 12)\n    Line #298 (got 13 columns instead of 12)\n    Line #299 (got 13 columns instead of 12)\n    Line #300 (got 13 columns instead of 12)\n    Line #301 (got 13 columns instead of 12)\n    Line #302 (got 13 columns instead of 12)\n    Line #303 (got 13 columns instead of 12)\n    Line #304 (got 13 columns instead of 12)\n    Line #305 (got 13 columns instead of 12)\n    Line #306 (got 13 columns instead of 12)\n    Line #307 (got 13 columns instead of 12)\n    Line #308 (got 13 columns instead of 12)\n    Line #309 (got 13 columns instead of 12)\n    Line #310 (got 13 columns instead of 12)\n    Line #311 (got 13 columns instead of 12)\n    Line #312 (got 13 columns instead of 12)\n    Line #313 (got 13 columns instead of 12)\n    Line #314 (got 13 columns instead of 12)\n    Line #315 (got 13 columns instead of 12)\n    Line #316 (got 13 columns instead of 12)\n    Line #317 (got 13 columns instead of 12)\n    Line #318 (got 13 columns instead of 12)\n    Line #319 (got 13 columns instead of 12)\n    Line #320 (got 13 columns instead of 12)\n    Line #321 (got 13 columns instead of 12)\n    Line #322 (got 13 columns instead of 12)\n    Line #323 (got 13 columns instead of 12)\n    Line #324 (got 13 columns instead of 12)\n    Line #325 (got 13 columns instead of 12)\n    Line #326 (got 13 columns instead of 12)\n    Line #327 (got 13 columns instead of 12)\n    Line #328 (got 13 columns instead of 12)\n    Line #329 (got 13 columns instead of 12)\n    Line #330 (got 13 columns instead of 12)\n    Line #331 (got 13 columns instead of 12)\n    Line #332 (got 13 columns instead of 12)\n    Line #333 (got 13 columns instead of 12)\n    Line #334 (got 13 columns instead of 12)\n    Line #335 (got 13 columns instead of 12)\n    Line #336 (got 13 columns instead of 12)\n    Line #337 (got 13 columns instead of 12)\n    Line #338 (got 13 columns instead of 12)\n    Line #339 (got 13 columns instead of 12)\n    Line #340 (got 13 columns instead of 12)\n    Line #341 (got 13 columns instead of 12)\n    Line #342 (got 13 columns instead of 12)\n    Line #343 (got 13 columns instead of 12)\n    Line #344 (got 13 columns instead of 12)\n    Line #345 (got 13 columns instead of 12)\n    Line #346 (got 13 columns instead of 12)\n    Line #347 (got 13 columns instead of 12)\n    Line #348 (got 13 columns instead of 12)\n    Line #349 (got 13 columns instead of 12)\n    Line #350 (got 13 columns instead of 12)\n    Line #351 (got 13 columns instead of 12)\n    Line #352 (got 13 columns instead of 12)\n    Line #353 (got 13 columns instead of 12)\n    Line #354 (got 13 columns instead of 12)\n    Line #355 (got 13 columns instead of 12)\n    Line #356 (got 13 columns instead of 12)\n    Line #357 (got 13 columns instead of 12)\n    Line #358 (got 13 columns instead of 12)\n    Line #359 (got 13 columns instead of 12)\n    Line #360 (got 13 columns instead of 12)\n    Line #361 (got 13 columns instead of 12)\n    Line #362 (got 13 columns instead of 12)\n    Line #363 (got 13 columns instead of 12)\n    Line #364 (got 13 columns instead of 12)\n    Line #365 (got 13 columns instead of 12)\n    Line #366 (got 13 columns instead of 12)\n    Line #367 (got 13 columns instead of 12)\n    Line #368 (got 13 columns instead of 12)\n    Line #369 (got 13 columns instead of 12)\n    Line #370 (got 13 columns instead of 12)\n    Line #371 (got 13 columns instead of 12)\n    Line #372 (got 13 columns instead of 12)\n    Line #373 (got 13 columns instead of 12)\n    Line #374 (got 13 columns instead of 12)\n    Line #375 (got 13 columns instead of 12)\n    Line #376 (got 13 columns instead of 12)\n    Line #377 (got 13 columns instead of 12)\n    Line #378 (got 13 columns instead of 12)\n    Line #379 (got 13 columns instead of 12)\n    Line #380 (got 13 columns instead of 12)\n    Line #381 (got 13 columns instead of 12)\n    Line #382 (got 13 columns instead of 12)\n    Line #383 (got 13 columns instead of 12)\n    Line #384 (got 13 columns instead of 12)\n    Line #385 (got 13 columns instead of 12)\n    Line #386 (got 13 columns instead of 12)\n    Line #387 (got 13 columns instead of 12)\n    Line #388 (got 13 columns instead of 12)\n    Line #389 (got 13 columns instead of 12)\n    Line #390 (got 13 columns instead of 12)\n    Line #391 (got 13 columns instead of 12)\n    Line #392 (got 13 columns instead of 12)\n    Line #393 (got 13 columns instead of 12)\n    Line #394 (got 13 columns instead of 12)\n    Line #395 (got 13 columns instead of 12)\n    Line #396 (got 13 columns instead of 12)\n    Line #397 (got 13 columns instead of 12)\n    Line #398 (got 13 columns instead of 12)\n    Line #399 (got 13 columns instead of 12)\n    Line #400 (got 13 columns instead of 12)\n    Line #401 (got 13 columns instead of 12)\n    Line #402 (got 13 columns instead of 12)\n    Line #403 (got 13 columns instead of 12)\n    Line #404 (got 13 columns instead of 12)\n    Line #405 (got 13 columns instead of 12)\n    Line #406 (got 13 columns instead of 12)\n    Line #407 (got 13 columns instead of 12)\n    Line #408 (got 13 columns instead of 12)\n    Line #409 (got 13 columns instead of 12)\n    Line #410 (got 13 columns instead of 12)\n    Line #411 (got 13 columns instead of 12)\n    Line #412 (got 13 columns instead of 12)\n    Line #413 (got 13 columns instead of 12)\n    Line #414 (got 13 columns instead of 12)\n    Line #415 (got 13 columns instead of 12)\n    Line #416 (got 13 columns instead of 12)\n    Line #417 (got 13 columns instead of 12)\n    Line #418 (got 13 columns instead of 12)\n    Line #419 (got 13 columns instead of 12)\n    Line #420 (got 13 columns instead of 12)\n    Line #421 (got 13 columns instead of 12)\n    Line #422 (got 13 columns instead of 12)\n    Line #423 (got 13 columns instead of 12)\n    Line #424 (got 13 columns instead of 12)\n    Line #425 (got 13 columns instead of 12)\n    Line #426 (got 13 columns instead of 12)\n    Line #427 (got 13 columns instead of 12)\n    Line #428 (got 13 columns instead of 12)\n    Line #429 (got 13 columns instead of 12)\n    Line #430 (got 13 columns instead of 12)\n    Line #431 (got 13 columns instead of 12)\n    Line #432 (got 13 columns instead of 12)\n    Line #433 (got 13 columns instead of 12)\n    Line #434 (got 13 columns instead of 12)\n    Line #435 (got 13 columns instead of 12)\n    Line #436 (got 13 columns instead of 12)\n    Line #437 (got 13 columns instead of 12)\n    Line #438 (got 13 columns instead of 12)\n    Line #439 (got 13 columns instead of 12)\n    Line #440 (got 13 columns instead of 12)\n    Line #441 (got 13 columns instead of 12)\n    Line #442 (got 13 columns instead of 12)\n    Line #443 (got 13 columns instead of 12)\n    Line #444 (got 13 columns instead of 12)\n    Line #445 (got 13 columns instead of 12)\n    Line #446 (got 13 columns instead of 12)\n    Line #447 (got 13 columns instead of 12)\n    Line #448 (got 13 columns instead of 12)\n    Line #449 (got 13 columns instead of 12)\n    Line #450 (got 13 columns instead of 12)\n    Line #451 (got 13 columns instead of 12)\n    Line #452 (got 13 columns instead of 12)\n    Line #453 (got 13 columns instead of 12)\n    Line #454 (got 13 columns instead of 12)\n    Line #455 (got 13 columns instead of 12)\n    Line #456 (got 13 columns instead of 12)\n    Line #457 (got 13 columns instead of 12)\n    Line #458 (got 13 columns instead of 12)\n    Line #459 (got 13 columns instead of 12)\n    Line #460 (got 13 columns instead of 12)\n    Line #461 (got 13 columns instead of 12)\n    Line #462 (got 13 columns instead of 12)\n    Line #463 (got 13 columns instead of 12)\n    Line #464 (got 13 columns instead of 12)\n    Line #465 (got 13 columns instead of 12)\n    Line #466 (got 13 columns instead of 12)\n    Line #467 (got 13 columns instead of 12)\n    Line #468 (got 13 columns instead of 12)\n    Line #469 (got 13 columns instead of 12)\n    Line #470 (got 13 columns instead of 12)\n    Line #471 (got 13 columns instead of 12)\n    Line #472 (got 13 columns instead of 12)\n    Line #473 (got 13 columns instead of 12)\n    Line #474 (got 13 columns instead of 12)\n    Line #475 (got 13 columns instead of 12)\n    Line #476 (got 13 columns instead of 12)\n    Line #477 (got 13 columns instead of 12)\n    Line #478 (got 13 columns instead of 12)\n    Line #479 (got 13 columns instead of 12)\n    Line #480 (got 13 columns instead of 12)\n    Line #481 (got 13 columns instead of 12)\n    Line #482 (got 13 columns instead of 12)\n    Line #483 (got 13 columns instead of 12)\n    Line #484 (got 13 columns instead of 12)\n    Line #485 (got 13 columns instead of 12)\n    Line #486 (got 13 columns instead of 12)\n    Line #487 (got 13 columns instead of 12)\n    Line #488 (got 13 columns instead of 12)\n    Line #489 (got 13 columns instead of 12)\n    Line #490 (got 13 columns instead of 12)\n    Line #491 (got 13 columns instead of 12)\n    Line #492 (got 13 columns instead of 12)\n    Line #493 (got 13 columns instead of 12)\n    Line #494 (got 13 columns instead of 12)\n    Line #495 (got 13 columns instead of 12)\n    Line #496 (got 13 columns instead of 12)\n    Line #497 (got 13 columns instead of 12)\n    Line #498 (got 13 columns instead of 12)\n    Line #499 (got 13 columns instead of 12)\n    Line #500 (got 13 columns instead of 12)\n    Line #501 (got 13 columns instead of 12)\n    Line #502 (got 13 columns instead of 12)\n    Line #503 (got 13 columns instead of 12)\n    Line #504 (got 13 columns instead of 12)\n    Line #505 (got 13 columns instead of 12)\n    Line #506 (got 13 columns instead of 12)\n    Line #507 (got 13 columns instead of 12)\n    Line #508 (got 13 columns instead of 12)\n    Line #509 (got 13 columns instead of 12)\n    Line #510 (got 13 columns instead of 12)\n    Line #511 (got 13 columns instead of 12)\n    Line #512 (got 13 columns instead of 12)\n    Line #513 (got 13 columns instead of 12)\n    Line #514 (got 13 columns instead of 12)\n    Line #515 (got 13 columns instead of 12)\n    Line #516 (got 13 columns instead of 12)\n    Line #517 (got 13 columns instead of 12)\n    Line #518 (got 13 columns instead of 12)\n    Line #519 (got 13 columns instead of 12)\n    Line #520 (got 13 columns instead of 12)\n    Line #521 (got 13 columns instead of 12)\n    Line #522 (got 13 columns instead of 12)\n    Line #523 (got 13 columns instead of 12)\n    Line #524 (got 13 columns instead of 12)\n    Line #525 (got 13 columns instead of 12)\n    Line #526 (got 13 columns instead of 12)\n    Line #527 (got 13 columns instead of 12)\n    Line #528 (got 13 columns instead of 12)\n    Line #529 (got 13 columns instead of 12)\n    Line #530 (got 13 columns instead of 12)\n    Line #531 (got 13 columns instead of 12)\n    Line #532 (got 13 columns instead of 12)\n    Line #533 (got 13 columns instead of 12)\n    Line #534 (got 13 columns instead of 12)\n    Line #535 (got 13 columns instead of 12)\n    Line #536 (got 13 columns instead of 12)\n    Line #537 (got 13 columns instead of 12)\n    Line #538 (got 13 columns instead of 12)\n    Line #539 (got 13 columns instead of 12)\n    Line #540 (got 13 columns instead of 12)\n    Line #541 (got 13 columns instead of 12)\n    Line #542 (got 13 columns instead of 12)\n    Line #543 (got 13 columns instead of 12)\n    Line #544 (got 13 columns instead of 12)\n    Line #545 (got 13 columns instead of 12)\n    Line #546 (got 13 columns instead of 12)\n    Line #547 (got 13 columns instead of 12)\n    Line #548 (got 13 columns instead of 12)\n    Line #549 (got 13 columns instead of 12)\n    Line #550 (got 13 columns instead of 12)\n    Line #551 (got 13 columns instead of 12)\n    Line #552 (got 13 columns instead of 12)\n    Line #553 (got 13 columns instead of 12)\n    Line #554 (got 13 columns instead of 12)\n    Line #555 (got 13 columns instead of 12)\n    Line #556 (got 13 columns instead of 12)\n    Line #557 (got 13 columns instead of 12)\n    Line #558 (got 13 columns instead of 12)\n    Line #559 (got 13 columns instead of 12)\n    Line #560 (got 13 columns instead of 12)\n    Line #561 (got 13 columns instead of 12)\n    Line #562 (got 13 columns instead of 12)\n    Line #563 (got 13 columns instead of 12)\n    Line #564 (got 13 columns instead of 12)\n    Line #565 (got 13 columns instead of 12)\n    Line #566 (got 13 columns instead of 12)\n    Line #567 (got 13 columns instead of 12)\n    Line #568 (got 13 columns instead of 12)\n    Line #569 (got 13 columns instead of 12)\n    Line #570 (got 13 columns instead of 12)\n    Line #571 (got 13 columns instead of 12)\n    Line #572 (got 13 columns instead of 12)\n    Line #573 (got 13 columns instead of 12)\n    Line #574 (got 13 columns instead of 12)\n    Line #575 (got 13 columns instead of 12)\n    Line #576 (got 13 columns instead of 12)\n    Line #577 (got 13 columns instead of 12)\n    Line #578 (got 13 columns instead of 12)\n    Line #579 (got 13 columns instead of 12)\n    Line #580 (got 13 columns instead of 12)\n    Line #581 (got 13 columns instead of 12)\n    Line #582 (got 13 columns instead of 12)\n    Line #583 (got 13 columns instead of 12)\n    Line #584 (got 13 columns instead of 12)\n    Line #585 (got 13 columns instead of 12)\n    Line #586 (got 13 columns instead of 12)\n    Line #587 (got 13 columns instead of 12)\n    Line #588 (got 13 columns instead of 12)\n    Line #589 (got 13 columns instead of 12)\n    Line #590 (got 13 columns instead of 12)\n    Line #591 (got 13 columns instead of 12)\n    Line #592 (got 13 columns instead of 12)\n    Line #593 (got 13 columns instead of 12)\n    Line #594 (got 13 columns instead of 12)\n    Line #595 (got 13 columns instead of 12)\n    Line #596 (got 13 columns instead of 12)\n    Line #597 (got 13 columns instead of 12)\n    Line #598 (got 13 columns instead of 12)\n    Line #599 (got 13 columns instead of 12)\n    Line #600 (got 13 columns instead of 12)\n    Line #601 (got 13 columns instead of 12)\n    Line #602 (got 13 columns instead of 12)\n    Line #603 (got 13 columns instead of 12)\n    Line #604 (got 13 columns instead of 12)\n    Line #605 (got 13 columns instead of 12)\n    Line #606 (got 13 columns instead of 12)\n    Line #607 (got 13 columns instead of 12)\n    Line #608 (got 13 columns instead of 12)\n    Line #609 (got 13 columns instead of 12)\n    Line #610 (got 13 columns instead of 12)\n    Line #611 (got 13 columns instead of 12)\n    Line #612 (got 13 columns instead of 12)\n    Line #613 (got 13 columns instead of 12)\n    Line #614 (got 13 columns instead of 12)\n    Line #615 (got 13 columns instead of 12)\n    Line #616 (got 13 columns instead of 12)\n    Line #617 (got 13 columns instead of 12)\n    Line #618 (got 13 columns instead of 12)\n    Line #619 (got 13 columns instead of 12)\n    Line #620 (got 13 columns instead of 12)\n    Line #621 (got 13 columns instead of 12)\n    Line #622 (got 13 columns instead of 12)\n    Line #623 (got 13 columns instead of 12)\n    Line #624 (got 13 columns instead of 12)\n    Line #625 (got 13 columns instead of 12)\n    Line #626 (got 13 columns instead of 12)\n    Line #627 (got 13 columns instead of 12)\n    Line #628 (got 13 columns instead of 12)\n    Line #629 (got 13 columns instead of 12)\n    Line #630 (got 13 columns instead of 12)\n    Line #631 (got 13 columns instead of 12)\n    Line #632 (got 13 columns instead of 12)\n    Line #633 (got 13 columns instead of 12)\n    Line #634 (got 13 columns instead of 12)\n    Line #635 (got 13 columns instead of 12)\n    Line #636 (got 13 columns instead of 12)\n    Line #637 (got 13 columns instead of 12)\n    Line #638 (got 13 columns instead of 12)\n    Line #639 (got 13 columns instead of 12)\n    Line #640 (got 13 columns instead of 12)\n    Line #641 (got 13 columns instead of 12)\n    Line #642 (got 13 columns instead of 12)\n    Line #643 (got 13 columns instead of 12)\n    Line #644 (got 13 columns instead of 12)\n    Line #645 (got 13 columns instead of 12)\n    Line #646 (got 13 columns instead of 12)\n    Line #647 (got 13 columns instead of 12)\n    Line #648 (got 13 columns instead of 12)\n    Line #649 (got 13 columns instead of 12)\n    Line #650 (got 13 columns instead of 12)\n    Line #651 (got 13 columns instead of 12)\n    Line #652 (got 13 columns instead of 12)\n    Line #653 (got 13 columns instead of 12)\n    Line #654 (got 13 columns instead of 12)\n    Line #655 (got 13 columns instead of 12)\n    Line #656 (got 13 columns instead of 12)\n    Line #657 (got 13 columns instead of 12)\n    Line #658 (got 13 columns instead of 12)\n    Line #659 (got 13 columns instead of 12)\n    Line #660 (got 13 columns instead of 12)\n    Line #661 (got 13 columns instead of 12)\n    Line #662 (got 13 columns instead of 12)\n    Line #663 (got 13 columns instead of 12)\n    Line #664 (got 13 columns instead of 12)\n    Line #665 (got 13 columns instead of 12)\n    Line #666 (got 13 columns instead of 12)\n    Line #667 (got 13 columns instead of 12)\n    Line #668 (got 13 columns instead of 12)\n    Line #669 (got 13 columns instead of 12)\n    Line #670 (got 13 columns instead of 12)\n    Line #671 (got 13 columns instead of 12)\n    Line #672 (got 13 columns instead of 12)\n    Line #673 (got 13 columns instead of 12)\n    Line #674 (got 13 columns instead of 12)\n    Line #675 (got 13 columns instead of 12)\n    Line #676 (got 13 columns instead of 12)\n    Line #677 (got 13 columns instead of 12)\n    Line #678 (got 13 columns instead of 12)\n    Line #679 (got 13 columns instead of 12)\n    Line #680 (got 13 columns instead of 12)\n    Line #681 (got 13 columns instead of 12)\n    Line #682 (got 13 columns instead of 12)\n    Line #683 (got 13 columns instead of 12)\n    Line #684 (got 13 columns instead of 12)\n    Line #685 (got 13 columns instead of 12)\n    Line #686 (got 13 columns instead of 12)\n    Line #687 (got 13 columns instead of 12)\n    Line #688 (got 13 columns instead of 12)\n    Line #689 (got 13 columns instead of 12)\n    Line #690 (got 13 columns instead of 12)\n    Line #691 (got 13 columns instead of 12)\n    Line #692 (got 13 columns instead of 12)\n    Line #693 (got 13 columns instead of 12)\n    Line #694 (got 13 columns instead of 12)\n    Line #695 (got 13 columns instead of 12)\n    Line #696 (got 13 columns instead of 12)\n    Line #697 (got 13 columns instead of 12)\n    Line #698 (got 13 columns instead of 12)\n    Line #699 (got 13 columns instead of 12)\n    Line #700 (got 13 columns instead of 12)\n    Line #701 (got 13 columns instead of 12)\n    Line #702 (got 13 columns instead of 12)\n    Line #703 (got 13 columns instead of 12)\n    Line #704 (got 13 columns instead of 12)\n    Line #705 (got 13 columns instead of 12)\n    Line #706 (got 13 columns instead of 12)\n    Line #707 (got 13 columns instead of 12)\n    Line #708 (got 13 columns instead of 12)\n    Line #709 (got 13 columns instead of 12)\n    Line #710 (got 13 columns instead of 12)\n    Line #711 (got 13 columns instead of 12)\n    Line #712 (got 13 columns instead of 12)\n    Line #713 (got 13 columns instead of 12)\n    Line #714 (got 13 columns instead of 12)\n    Line #715 (got 13 columns instead of 12)\n    Line #716 (got 13 columns instead of 12)\n    Line #717 (got 13 columns instead of 12)\n    Line #718 (got 13 columns instead of 12)\n    Line #719 (got 13 columns instead of 12)\n    Line #720 (got 13 columns instead of 12)\n    Line #721 (got 13 columns instead of 12)\n    Line #722 (got 13 columns instead of 12)\n    Line #723 (got 13 columns instead of 12)\n    Line #724 (got 13 columns instead of 12)\n    Line #725 (got 13 columns instead of 12)\n    Line #726 (got 13 columns instead of 12)\n    Line #727 (got 13 columns instead of 12)\n    Line #728 (got 13 columns instead of 12)\n    Line #729 (got 13 columns instead of 12)\n    Line #730 (got 13 columns instead of 12)\n    Line #731 (got 13 columns instead of 12)\n    Line #732 (got 13 columns instead of 12)\n    Line #733 (got 13 columns instead of 12)\n    Line #734 (got 13 columns instead of 12)\n    Line #735 (got 13 columns instead of 12)\n    Line #736 (got 13 columns instead of 12)\n    Line #737 (got 13 columns instead of 12)\n    Line #738 (got 13 columns instead of 12)\n    Line #739 (got 13 columns instead of 12)\n    Line #740 (got 13 columns instead of 12)\n    Line #741 (got 13 columns instead of 12)\n    Line #742 (got 13 columns instead of 12)\n    Line #743 (got 13 columns instead of 12)\n    Line #744 (got 13 columns instead of 12)\n    Line #745 (got 13 columns instead of 12)\n    Line #746 (got 13 columns instead of 12)\n    Line #747 (got 13 columns instead of 12)\n    Line #748 (got 13 columns instead of 12)\n    Line #749 (got 13 columns instead of 12)\n    Line #750 (got 13 columns instead of 12)\n    Line #751 (got 13 columns instead of 12)\n    Line #752 (got 13 columns instead of 12)\n    Line #753 (got 13 columns instead of 12)\n    Line #754 (got 13 columns instead of 12)\n    Line #755 (got 13 columns instead of 12)\n    Line #756 (got 13 columns instead of 12)\n    Line #757 (got 13 columns instead of 12)\n    Line #758 (got 13 columns instead of 12)\n    Line #759 (got 13 columns instead of 12)\n    Line #760 (got 13 columns instead of 12)\n    Line #761 (got 13 columns instead of 12)\n    Line #762 (got 13 columns instead of 12)\n    Line #763 (got 13 columns instead of 12)\n    Line #764 (got 13 columns instead of 12)\n    Line #765 (got 13 columns instead of 12)\n    Line #766 (got 13 columns instead of 12)\n    Line #767 (got 13 columns instead of 12)\n    Line #768 (got 13 columns instead of 12)\n    Line #769 (got 13 columns instead of 12)\n    Line #770 (got 13 columns instead of 12)\n    Line #771 (got 13 columns instead of 12)\n    Line #772 (got 13 columns instead of 12)\n    Line #773 (got 13 columns instead of 12)\n    Line #774 (got 13 columns instead of 12)\n    Line #775 (got 13 columns instead of 12)\n    Line #776 (got 13 columns instead of 12)\n    Line #777 (got 13 columns instead of 12)\n    Line #778 (got 13 columns instead of 12)\n    Line #779 (got 13 columns instead of 12)\n    Line #780 (got 13 columns instead of 12)\n    Line #781 (got 13 columns instead of 12)\n    Line #782 (got 13 columns instead of 12)\n    Line #783 (got 13 columns instead of 12)\n    Line #784 (got 13 columns instead of 12)\n    Line #785 (got 13 columns instead of 12)\n    Line #786 (got 13 columns instead of 12)\n    Line #787 (got 13 columns instead of 12)\n    Line #788 (got 13 columns instead of 12)\n    Line #789 (got 13 columns instead of 12)\n    Line #790 (got 13 columns instead of 12)\n    Line #791 (got 13 columns instead of 12)\n    Line #792 (got 13 columns instead of 12)\n    Line #793 (got 13 columns instead of 12)\n    Line #794 (got 13 columns instead of 12)\n    Line #795 (got 13 columns instead of 12)\n    Line #796 (got 13 columns instead of 12)\n    Line #797 (got 13 columns instead of 12)\n    Line #798 (got 13 columns instead of 12)\n    Line #799 (got 13 columns instead of 12)\n    Line #800 (got 13 columns instead of 12)\n    Line #801 (got 13 columns instead of 12)\n    Line #802 (got 13 columns instead of 12)\n    Line #803 (got 13 columns instead of 12)\n    Line #804 (got 13 columns instead of 12)\n    Line #805 (got 13 columns instead of 12)\n    Line #806 (got 13 columns instead of 12)\n    Line #807 (got 13 columns instead of 12)\n    Line #808 (got 13 columns instead of 12)\n    Line #809 (got 13 columns instead of 12)\n    Line #810 (got 13 columns instead of 12)\n    Line #811 (got 13 columns instead of 12)\n    Line #812 (got 13 columns instead of 12)\n    Line #813 (got 13 columns instead of 12)\n    Line #814 (got 13 columns instead of 12)\n    Line #815 (got 13 columns instead of 12)\n    Line #816 (got 13 columns instead of 12)\n    Line #817 (got 13 columns instead of 12)\n    Line #818 (got 13 columns instead of 12)\n    Line #819 (got 13 columns instead of 12)\n    Line #820 (got 13 columns instead of 12)\n    Line #821 (got 13 columns instead of 12)\n    Line #822 (got 13 columns instead of 12)\n    Line #823 (got 13 columns instead of 12)\n    Line #824 (got 13 columns instead of 12)\n    Line #825 (got 13 columns instead of 12)\n    Line #826 (got 13 columns instead of 12)\n    Line #827 (got 13 columns instead of 12)\n    Line #828 (got 13 columns instead of 12)\n    Line #829 (got 13 columns instead of 12)\n    Line #830 (got 13 columns instead of 12)\n    Line #831 (got 13 columns instead of 12)\n    Line #832 (got 13 columns instead of 12)\n    Line #833 (got 13 columns instead of 12)\n    Line #834 (got 13 columns instead of 12)\n    Line #835 (got 13 columns instead of 12)\n    Line #836 (got 13 columns instead of 12)\n    Line #837 (got 13 columns instead of 12)\n    Line #838 (got 13 columns instead of 12)\n    Line #839 (got 13 columns instead of 12)\n    Line #840 (got 13 columns instead of 12)\n    Line #841 (got 13 columns instead of 12)\n    Line #842 (got 13 columns instead of 12)\n    Line #843 (got 13 columns instead of 12)\n    Line #844 (got 13 columns instead of 12)\n    Line #845 (got 13 columns instead of 12)\n    Line #846 (got 13 columns instead of 12)\n    Line #847 (got 13 columns instead of 12)\n    Line #848 (got 13 columns instead of 12)\n    Line #849 (got 13 columns instead of 12)\n    Line #850 (got 13 columns instead of 12)\n    Line #851 (got 13 columns instead of 12)\n    Line #852 (got 13 columns instead of 12)\n    Line #853 (got 13 columns instead of 12)\n    Line #854 (got 13 columns instead of 12)\n    Line #855 (got 13 columns instead of 12)\n    Line #856 (got 13 columns instead of 12)\n    Line #857 (got 13 columns instead of 12)\n    Line #858 (got 13 columns instead of 12)\n    Line #859 (got 13 columns instead of 12)\n    Line #860 (got 13 columns instead of 12)\n    Line #861 (got 13 columns instead of 12)\n    Line #862 (got 13 columns instead of 12)\n    Line #863 (got 13 columns instead of 12)\n    Line #864 (got 13 columns instead of 12)\n    Line #865 (got 13 columns instead of 12)\n    Line #866 (got 13 columns instead of 12)\n    Line #867 (got 13 columns instead of 12)\n    Line #868 (got 13 columns instead of 12)\n    Line #869 (got 13 columns instead of 12)\n    Line #870 (got 13 columns instead of 12)\n    Line #871 (got 13 columns instead of 12)\n    Line #872 (got 13 columns instead of 12)\n    Line #873 (got 13 columns instead of 12)\n    Line #874 (got 13 columns instead of 12)\n    Line #875 (got 13 columns instead of 12)\n    Line #876 (got 13 columns instead of 12)\n    Line #877 (got 13 columns instead of 12)\n    Line #878 (got 13 columns instead of 12)\n    Line #879 (got 13 columns instead of 12)\n    Line #880 (got 13 columns instead of 12)\n    Line #881 (got 13 columns instead of 12)\n    Line #882 (got 13 columns instead of 12)\n    Line #883 (got 13 columns instead of 12)\n    Line #884 (got 13 columns instead of 12)\n    Line #885 (got 13 columns instead of 12)\n    Line #886 (got 13 columns instead of 12)\n    Line #887 (got 13 columns instead of 12)\n    Line #888 (got 13 columns instead of 12)\n    Line #889 (got 13 columns instead of 12)\n    Line #890 (got 13 columns instead of 12)\n    Line #891 (got 13 columns instead of 12)\n    Line #892 (got 13 columns instead of 12)",
     "output_type": "error",
     "traceback": [
      "\u001b[0;31m---------------------------------------------------------------------------\u001b[0m",
      "\u001b[0;31mValueError\u001b[0m                                Traceback (most recent call last)",
      "\u001b[0;32m<ipython-input-38-b3f879e5b3de>\u001b[0m in \u001b[0;36m<module>\u001b[0;34m()\u001b[0m\n\u001b[1;32m      6\u001b[0m \u001b[0;34m\u001b[0m\u001b[0m\n\u001b[1;32m      7\u001b[0m \u001b[0;31m# NOTE: Make sure that the class is labeled 'class' in the data file\u001b[0m\u001b[0;34m\u001b[0m\u001b[0;34m\u001b[0m\u001b[0m\n\u001b[0;32m----> 8\u001b[0;31m \u001b[0mtpot_data\u001b[0m \u001b[0;34m=\u001b[0m \u001b[0mnp\u001b[0m\u001b[0;34m.\u001b[0m\u001b[0mrecfromcsv\u001b[0m\u001b[0;34m(\u001b[0m\u001b[0;34m'data/titanic_train.csv'\u001b[0m\u001b[0;34m,\u001b[0m \u001b[0mdtype\u001b[0m\u001b[0;34m=\u001b[0m\u001b[0mnp\u001b[0m\u001b[0;34m.\u001b[0m\u001b[0mfloat64\u001b[0m\u001b[0;34m)\u001b[0m \u001b[0;31m# delimiter=',',\u001b[0m\u001b[0;34m\u001b[0m\u001b[0m\n\u001b[0m\u001b[1;32m      9\u001b[0m \u001b[0mfeatures\u001b[0m \u001b[0;34m=\u001b[0m \u001b[0mnp\u001b[0m\u001b[0;34m.\u001b[0m\u001b[0mdelete\u001b[0m\u001b[0;34m(\u001b[0m\u001b[0mtpot_data\u001b[0m\u001b[0;34m.\u001b[0m\u001b[0mview\u001b[0m\u001b[0;34m(\u001b[0m\u001b[0mnp\u001b[0m\u001b[0;34m.\u001b[0m\u001b[0mfloat64\u001b[0m\u001b[0;34m)\u001b[0m\u001b[0;34m.\u001b[0m\u001b[0mreshape\u001b[0m\u001b[0;34m(\u001b[0m\u001b[0mtpot_data\u001b[0m\u001b[0;34m.\u001b[0m\u001b[0msize\u001b[0m\u001b[0;34m,\u001b[0m \u001b[0;34m-\u001b[0m\u001b[0;36m1\u001b[0m\u001b[0;34m)\u001b[0m\u001b[0;34m,\u001b[0m \u001b[0mtpot_data\u001b[0m\u001b[0;34m.\u001b[0m\u001b[0mdtype\u001b[0m\u001b[0;34m.\u001b[0m\u001b[0mnames\u001b[0m\u001b[0;34m.\u001b[0m\u001b[0mindex\u001b[0m\u001b[0;34m(\u001b[0m\u001b[0;34m'class'\u001b[0m\u001b[0;34m)\u001b[0m\u001b[0;34m,\u001b[0m \u001b[0maxis\u001b[0m\u001b[0;34m=\u001b[0m\u001b[0;36m1\u001b[0m\u001b[0;34m)\u001b[0m\u001b[0;34m\u001b[0m\u001b[0m\n\u001b[1;32m     10\u001b[0m \u001b[0mtraining_features\u001b[0m\u001b[0;34m,\u001b[0m \u001b[0mtesting_features\u001b[0m\u001b[0;34m,\u001b[0m \u001b[0mtraining_classes\u001b[0m\u001b[0;34m,\u001b[0m \u001b[0mtesting_classes\u001b[0m \u001b[0;34m=\u001b[0m     \u001b[0mtrain_test_split\u001b[0m\u001b[0;34m(\u001b[0m\u001b[0mfeatures\u001b[0m\u001b[0;34m,\u001b[0m \u001b[0mtpot_data\u001b[0m\u001b[0;34m[\u001b[0m\u001b[0;34m'class'\u001b[0m\u001b[0;34m]\u001b[0m\u001b[0;34m,\u001b[0m \u001b[0mrandom_state\u001b[0m\u001b[0;34m=\u001b[0m\u001b[0;36m42\u001b[0m\u001b[0;34m)\u001b[0m\u001b[0;34m\u001b[0m\u001b[0m\n",
      "\u001b[0;32m~/anaconda3/lib/python3.6/site-packages/numpy/lib/npyio.py\u001b[0m in \u001b[0;36mrecfromcsv\u001b[0;34m(fname, **kwargs)\u001b[0m\n\u001b[1;32m   2264\u001b[0m     \u001b[0mkwargs\u001b[0m\u001b[0;34m.\u001b[0m\u001b[0msetdefault\u001b[0m\u001b[0;34m(\u001b[0m\u001b[0;34m\"delimiter\"\u001b[0m\u001b[0;34m,\u001b[0m \u001b[0;34m\",\"\u001b[0m\u001b[0;34m)\u001b[0m\u001b[0;34m\u001b[0m\u001b[0m\n\u001b[1;32m   2265\u001b[0m     \u001b[0mkwargs\u001b[0m\u001b[0;34m.\u001b[0m\u001b[0msetdefault\u001b[0m\u001b[0;34m(\u001b[0m\u001b[0;34m\"dtype\"\u001b[0m\u001b[0;34m,\u001b[0m \u001b[0;32mNone\u001b[0m\u001b[0;34m)\u001b[0m\u001b[0;34m\u001b[0m\u001b[0m\n\u001b[0;32m-> 2266\u001b[0;31m     \u001b[0moutput\u001b[0m \u001b[0;34m=\u001b[0m \u001b[0mgenfromtxt\u001b[0m\u001b[0;34m(\u001b[0m\u001b[0mfname\u001b[0m\u001b[0;34m,\u001b[0m \u001b[0;34m**\u001b[0m\u001b[0mkwargs\u001b[0m\u001b[0;34m)\u001b[0m\u001b[0;34m\u001b[0m\u001b[0m\n\u001b[0m\u001b[1;32m   2267\u001b[0m \u001b[0;34m\u001b[0m\u001b[0m\n\u001b[1;32m   2268\u001b[0m     \u001b[0musemask\u001b[0m \u001b[0;34m=\u001b[0m \u001b[0mkwargs\u001b[0m\u001b[0;34m.\u001b[0m\u001b[0mget\u001b[0m\u001b[0;34m(\u001b[0m\u001b[0;34m\"usemask\"\u001b[0m\u001b[0;34m,\u001b[0m \u001b[0;32mFalse\u001b[0m\u001b[0;34m)\u001b[0m\u001b[0;34m\u001b[0m\u001b[0m\n",
      "\u001b[0;32m~/anaconda3/lib/python3.6/site-packages/numpy/lib/npyio.py\u001b[0m in \u001b[0;36mgenfromtxt\u001b[0;34m(fname, dtype, comments, delimiter, skip_header, skip_footer, converters, missing_values, filling_values, usecols, names, excludelist, deletechars, replace_space, autostrip, case_sensitive, defaultfmt, unpack, usemask, loose, invalid_raise, max_rows, encoding)\u001b[0m\n\u001b[1;32m   2017\u001b[0m             \u001b[0;31m# Raise an exception ?\u001b[0m\u001b[0;34m\u001b[0m\u001b[0;34m\u001b[0m\u001b[0m\n\u001b[1;32m   2018\u001b[0m             \u001b[0;32mif\u001b[0m \u001b[0minvalid_raise\u001b[0m\u001b[0;34m:\u001b[0m\u001b[0;34m\u001b[0m\u001b[0m\n\u001b[0;32m-> 2019\u001b[0;31m                 \u001b[0;32mraise\u001b[0m \u001b[0mValueError\u001b[0m\u001b[0;34m(\u001b[0m\u001b[0merrmsg\u001b[0m\u001b[0;34m)\u001b[0m\u001b[0;34m\u001b[0m\u001b[0m\n\u001b[0m\u001b[1;32m   2020\u001b[0m             \u001b[0;31m# Issue a warning ?\u001b[0m\u001b[0;34m\u001b[0m\u001b[0;34m\u001b[0m\u001b[0m\n\u001b[1;32m   2021\u001b[0m             \u001b[0;32melse\u001b[0m\u001b[0;34m:\u001b[0m\u001b[0;34m\u001b[0m\u001b[0m\n",
      "\u001b[0;31mValueError\u001b[0m: Some errors were detected !\n    Line #2 (got 13 columns instead of 12)\n    Line #3 (got 13 columns instead of 12)\n    Line #4 (got 13 columns instead of 12)\n    Line #5 (got 13 columns instead of 12)\n    Line #6 (got 13 columns instead of 12)\n    Line #7 (got 13 columns instead of 12)\n    Line #8 (got 13 columns instead of 12)\n    Line #9 (got 13 columns instead of 12)\n    Line #10 (got 13 columns instead of 12)\n    Line #11 (got 13 columns instead of 12)\n    Line #12 (got 13 columns instead of 12)\n    Line #13 (got 13 columns instead of 12)\n    Line #14 (got 13 columns instead of 12)\n    Line #15 (got 13 columns instead of 12)\n    Line #16 (got 13 columns instead of 12)\n    Line #17 (got 13 columns instead of 12)\n    Line #18 (got 13 columns instead of 12)\n    Line #19 (got 13 columns instead of 12)\n    Line #20 (got 13 columns instead of 12)\n    Line #21 (got 13 columns instead of 12)\n    Line #22 (got 13 columns instead of 12)\n    Line #23 (got 13 columns instead of 12)\n    Line #24 (got 13 columns instead of 12)\n    Line #25 (got 13 columns instead of 12)\n    Line #26 (got 13 columns instead of 12)\n    Line #27 (got 13 columns instead of 12)\n    Line #28 (got 13 columns instead of 12)\n    Line #29 (got 13 columns instead of 12)\n    Line #30 (got 13 columns instead of 12)\n    Line #31 (got 13 columns instead of 12)\n    Line #32 (got 13 columns instead of 12)\n    Line #33 (got 13 columns instead of 12)\n    Line #34 (got 13 columns instead of 12)\n    Line #35 (got 13 columns instead of 12)\n    Line #36 (got 13 columns instead of 12)\n    Line #37 (got 13 columns instead of 12)\n    Line #38 (got 13 columns instead of 12)\n    Line #39 (got 13 columns instead of 12)\n    Line #40 (got 13 columns instead of 12)\n    Line #41 (got 13 columns instead of 12)\n    Line #42 (got 13 columns instead of 12)\n    Line #43 (got 13 columns instead of 12)\n    Line #44 (got 13 columns instead of 12)\n    Line #45 (got 13 columns instead of 12)\n    Line #46 (got 13 columns instead of 12)\n    Line #47 (got 13 columns instead of 12)\n    Line #48 (got 13 columns instead of 12)\n    Line #49 (got 13 columns instead of 12)\n    Line #50 (got 13 columns instead of 12)\n    Line #51 (got 13 columns instead of 12)\n    Line #52 (got 13 columns instead of 12)\n    Line #53 (got 13 columns instead of 12)\n    Line #54 (got 13 columns instead of 12)\n    Line #55 (got 13 columns instead of 12)\n    Line #56 (got 13 columns instead of 12)\n    Line #57 (got 13 columns instead of 12)\n    Line #58 (got 13 columns instead of 12)\n    Line #59 (got 13 columns instead of 12)\n    Line #60 (got 13 columns instead of 12)\n    Line #61 (got 13 columns instead of 12)\n    Line #62 (got 13 columns instead of 12)\n    Line #63 (got 13 columns instead of 12)\n    Line #64 (got 13 columns instead of 12)\n    Line #65 (got 13 columns instead of 12)\n    Line #66 (got 13 columns instead of 12)\n    Line #67 (got 13 columns instead of 12)\n    Line #68 (got 13 columns instead of 12)\n    Line #69 (got 13 columns instead of 12)\n    Line #70 (got 13 columns instead of 12)\n    Line #71 (got 13 columns instead of 12)\n    Line #72 (got 13 columns instead of 12)\n    Line #73 (got 13 columns instead of 12)\n    Line #74 (got 13 columns instead of 12)\n    Line #75 (got 13 columns instead of 12)\n    Line #76 (got 13 columns instead of 12)\n    Line #77 (got 13 columns instead of 12)\n    Line #78 (got 13 columns instead of 12)\n    Line #79 (got 13 columns instead of 12)\n    Line #80 (got 13 columns instead of 12)\n    Line #81 (got 13 columns instead of 12)\n    Line #82 (got 13 columns instead of 12)\n    Line #83 (got 13 columns instead of 12)\n    Line #84 (got 13 columns instead of 12)\n    Line #85 (got 13 columns instead of 12)\n    Line #86 (got 13 columns instead of 12)\n    Line #87 (got 13 columns instead of 12)\n    Line #88 (got 13 columns instead of 12)\n    Line #89 (got 13 columns instead of 12)\n    Line #90 (got 13 columns instead of 12)\n    Line #91 (got 13 columns instead of 12)\n    Line #92 (got 13 columns instead of 12)\n    Line #93 (got 13 columns instead of 12)\n    Line #94 (got 13 columns instead of 12)\n    Line #95 (got 13 columns instead of 12)\n    Line #96 (got 13 columns instead of 12)\n    Line #97 (got 13 columns instead of 12)\n    Line #98 (got 13 columns instead of 12)\n    Line #99 (got 13 columns instead of 12)\n    Line #100 (got 13 columns instead of 12)\n    Line #101 (got 13 columns instead of 12)\n    Line #102 (got 13 columns instead of 12)\n    Line #103 (got 13 columns instead of 12)\n    Line #104 (got 13 columns instead of 12)\n    Line #105 (got 13 columns instead of 12)\n    Line #106 (got 13 columns instead of 12)\n    Line #107 (got 13 columns instead of 12)\n    Line #108 (got 13 columns instead of 12)\n    Line #109 (got 13 columns instead of 12)\n    Line #110 (got 13 columns instead of 12)\n    Line #111 (got 13 columns instead of 12)\n    Line #112 (got 13 columns instead of 12)\n    Line #113 (got 13 columns instead of 12)\n    Line #114 (got 13 columns instead of 12)\n    Line #115 (got 13 columns instead of 12)\n    Line #116 (got 13 columns instead of 12)\n    Line #117 (got 13 columns instead of 12)\n    Line #118 (got 13 columns instead of 12)\n    Line #119 (got 13 columns instead of 12)\n    Line #120 (got 13 columns instead of 12)\n    Line #121 (got 13 columns instead of 12)\n    Line #122 (got 13 columns instead of 12)\n    Line #123 (got 13 columns instead of 12)\n    Line #124 (got 13 columns instead of 12)\n    Line #125 (got 13 columns instead of 12)\n    Line #126 (got 13 columns instead of 12)\n    Line #127 (got 13 columns instead of 12)\n    Line #128 (got 13 columns instead of 12)\n    Line #129 (got 13 columns instead of 12)\n    Line #130 (got 13 columns instead of 12)\n    Line #131 (got 13 columns instead of 12)\n    Line #132 (got 13 columns instead of 12)\n    Line #133 (got 13 columns instead of 12)\n    Line #134 (got 13 columns instead of 12)\n    Line #135 (got 13 columns instead of 12)\n    Line #136 (got 13 columns instead of 12)\n    Line #137 (got 13 columns instead of 12)\n    Line #138 (got 13 columns instead of 12)\n    Line #139 (got 13 columns instead of 12)\n    Line #140 (got 13 columns instead of 12)\n    Line #141 (got 13 columns instead of 12)\n    Line #142 (got 13 columns instead of 12)\n    Line #143 (got 13 columns instead of 12)\n    Line #144 (got 13 columns instead of 12)\n    Line #145 (got 13 columns instead of 12)\n    Line #146 (got 13 columns instead of 12)\n    Line #147 (got 13 columns instead of 12)\n    Line #148 (got 13 columns instead of 12)\n    Line #149 (got 13 columns instead of 12)\n    Line #150 (got 13 columns instead of 12)\n    Line #151 (got 13 columns instead of 12)\n    Line #152 (got 13 columns instead of 12)\n    Line #153 (got 13 columns instead of 12)\n    Line #154 (got 13 columns instead of 12)\n    Line #155 (got 13 columns instead of 12)\n    Line #156 (got 13 columns instead of 12)\n    Line #157 (got 13 columns instead of 12)\n    Line #158 (got 13 columns instead of 12)\n    Line #159 (got 13 columns instead of 12)\n    Line #160 (got 13 columns instead of 12)\n    Line #161 (got 13 columns instead of 12)\n    Line #162 (got 13 columns instead of 12)\n    Line #163 (got 13 columns instead of 12)\n    Line #164 (got 13 columns instead of 12)\n    Line #165 (got 13 columns instead of 12)\n    Line #166 (got 13 columns instead of 12)\n    Line #167 (got 13 columns instead of 12)\n    Line #168 (got 13 columns instead of 12)\n    Line #169 (got 13 columns instead of 12)\n    Line #170 (got 13 columns instead of 12)\n    Line #171 (got 13 columns instead of 12)\n    Line #172 (got 13 columns instead of 12)\n    Line #173 (got 13 columns instead of 12)\n    Line #174 (got 13 columns instead of 12)\n    Line #175 (got 13 columns instead of 12)\n    Line #176 (got 13 columns instead of 12)\n    Line #177 (got 13 columns instead of 12)\n    Line #178 (got 13 columns instead of 12)\n    Line #179 (got 13 columns instead of 12)\n    Line #180 (got 13 columns instead of 12)\n    Line #181 (got 13 columns instead of 12)\n    Line #182 (got 13 columns instead of 12)\n    Line #183 (got 13 columns instead of 12)\n    Line #184 (got 13 columns instead of 12)\n    Line #185 (got 13 columns instead of 12)\n    Line #186 (got 13 columns instead of 12)\n    Line #187 (got 13 columns instead of 12)\n    Line #188 (got 13 columns instead of 12)\n    Line #189 (got 13 columns instead of 12)\n    Line #190 (got 13 columns instead of 12)\n    Line #191 (got 13 columns instead of 12)\n    Line #192 (got 13 columns instead of 12)\n    Line #193 (got 13 columns instead of 12)\n    Line #194 (got 13 columns instead of 12)\n    Line #195 (got 13 columns instead of 12)\n    Line #196 (got 13 columns instead of 12)\n    Line #197 (got 13 columns instead of 12)\n    Line #198 (got 13 columns instead of 12)\n    Line #199 (got 13 columns instead of 12)\n    Line #200 (got 13 columns instead of 12)\n    Line #201 (got 13 columns instead of 12)\n    Line #202 (got 13 columns instead of 12)\n    Line #203 (got 13 columns instead of 12)\n    Line #204 (got 13 columns instead of 12)\n    Line #205 (got 13 columns instead of 12)\n    Line #206 (got 13 columns instead of 12)\n    Line #207 (got 13 columns instead of 12)\n    Line #208 (got 13 columns instead of 12)\n    Line #209 (got 13 columns instead of 12)\n    Line #210 (got 13 columns instead of 12)\n    Line #211 (got 13 columns instead of 12)\n    Line #212 (got 13 columns instead of 12)\n    Line #213 (got 13 columns instead of 12)\n    Line #214 (got 13 columns instead of 12)\n    Line #215 (got 13 columns instead of 12)\n    Line #216 (got 13 columns instead of 12)\n    Line #217 (got 13 columns instead of 12)\n    Line #218 (got 13 columns instead of 12)\n    Line #219 (got 13 columns instead of 12)\n    Line #220 (got 13 columns instead of 12)\n    Line #221 (got 13 columns instead of 12)\n    Line #222 (got 13 columns instead of 12)\n    Line #223 (got 13 columns instead of 12)\n    Line #224 (got 13 columns instead of 12)\n    Line #225 (got 13 columns instead of 12)\n    Line #226 (got 13 columns instead of 12)\n    Line #227 (got 13 columns instead of 12)\n    Line #228 (got 13 columns instead of 12)\n    Line #229 (got 13 columns instead of 12)\n    Line #230 (got 13 columns instead of 12)\n    Line #231 (got 13 columns instead of 12)\n    Line #232 (got 13 columns instead of 12)\n    Line #233 (got 13 columns instead of 12)\n    Line #234 (got 13 columns instead of 12)\n    Line #235 (got 13 columns instead of 12)\n    Line #236 (got 13 columns instead of 12)\n    Line #237 (got 13 columns instead of 12)\n    Line #238 (got 13 columns instead of 12)\n    Line #239 (got 13 columns instead of 12)\n    Line #240 (got 13 columns instead of 12)\n    Line #241 (got 13 columns instead of 12)\n    Line #242 (got 13 columns instead of 12)\n    Line #243 (got 13 columns instead of 12)\n    Line #244 (got 13 columns instead of 12)\n    Line #245 (got 13 columns instead of 12)\n    Line #246 (got 13 columns instead of 12)\n    Line #247 (got 13 columns instead of 12)\n    Line #248 (got 13 columns instead of 12)\n    Line #249 (got 13 columns instead of 12)\n    Line #250 (got 13 columns instead of 12)\n    Line #251 (got 13 columns instead of 12)\n    Line #252 (got 13 columns instead of 12)\n    Line #253 (got 13 columns instead of 12)\n    Line #254 (got 13 columns instead of 12)\n    Line #255 (got 13 columns instead of 12)\n    Line #256 (got 13 columns instead of 12)\n    Line #257 (got 13 columns instead of 12)\n    Line #258 (got 13 columns instead of 12)\n    Line #259 (got 13 columns instead of 12)\n    Line #260 (got 13 columns instead of 12)\n    Line #261 (got 13 columns instead of 12)\n    Line #262 (got 13 columns instead of 12)\n    Line #263 (got 13 columns instead of 12)\n    Line #264 (got 13 columns instead of 12)\n    Line #265 (got 13 columns instead of 12)\n    Line #266 (got 13 columns instead of 12)\n    Line #267 (got 13 columns instead of 12)\n    Line #268 (got 13 columns instead of 12)\n    Line #269 (got 13 columns instead of 12)\n    Line #270 (got 13 columns instead of 12)\n    Line #271 (got 13 columns instead of 12)\n    Line #272 (got 13 columns instead of 12)\n    Line #273 (got 13 columns instead of 12)\n    Line #274 (got 13 columns instead of 12)\n    Line #275 (got 13 columns instead of 12)\n    Line #276 (got 13 columns instead of 12)\n    Line #277 (got 13 columns instead of 12)\n    Line #278 (got 13 columns instead of 12)\n    Line #279 (got 13 columns instead of 12)\n    Line #280 (got 13 columns instead of 12)\n    Line #281 (got 13 columns instead of 12)\n    Line #282 (got 13 columns instead of 12)\n    Line #283 (got 13 columns instead of 12)\n    Line #284 (got 13 columns instead of 12)\n    Line #285 (got 13 columns instead of 12)\n    Line #286 (got 13 columns instead of 12)\n    Line #287 (got 13 columns instead of 12)\n    Line #288 (got 13 columns instead of 12)\n    Line #289 (got 13 columns instead of 12)\n    Line #290 (got 13 columns instead of 12)\n    Line #291 (got 13 columns instead of 12)\n    Line #292 (got 13 columns instead of 12)\n    Line #293 (got 13 columns instead of 12)\n    Line #294 (got 13 columns instead of 12)\n    Line #295 (got 13 columns instead of 12)\n    Line #296 (got 13 columns instead of 12)\n    Line #297 (got 13 columns instead of 12)\n    Line #298 (got 13 columns instead of 12)\n    Line #299 (got 13 columns instead of 12)\n    Line #300 (got 13 columns instead of 12)\n    Line #301 (got 13 columns instead of 12)\n    Line #302 (got 13 columns instead of 12)\n    Line #303 (got 13 columns instead of 12)\n    Line #304 (got 13 columns instead of 12)\n    Line #305 (got 13 columns instead of 12)\n    Line #306 (got 13 columns instead of 12)\n    Line #307 (got 13 columns instead of 12)\n    Line #308 (got 13 columns instead of 12)\n    Line #309 (got 13 columns instead of 12)\n    Line #310 (got 13 columns instead of 12)\n    Line #311 (got 13 columns instead of 12)\n    Line #312 (got 13 columns instead of 12)\n    Line #313 (got 13 columns instead of 12)\n    Line #314 (got 13 columns instead of 12)\n    Line #315 (got 13 columns instead of 12)\n    Line #316 (got 13 columns instead of 12)\n    Line #317 (got 13 columns instead of 12)\n    Line #318 (got 13 columns instead of 12)\n    Line #319 (got 13 columns instead of 12)\n    Line #320 (got 13 columns instead of 12)\n    Line #321 (got 13 columns instead of 12)\n    Line #322 (got 13 columns instead of 12)\n    Line #323 (got 13 columns instead of 12)\n    Line #324 (got 13 columns instead of 12)\n    Line #325 (got 13 columns instead of 12)\n    Line #326 (got 13 columns instead of 12)\n    Line #327 (got 13 columns instead of 12)\n    Line #328 (got 13 columns instead of 12)\n    Line #329 (got 13 columns instead of 12)\n    Line #330 (got 13 columns instead of 12)\n    Line #331 (got 13 columns instead of 12)\n    Line #332 (got 13 columns instead of 12)\n    Line #333 (got 13 columns instead of 12)\n    Line #334 (got 13 columns instead of 12)\n    Line #335 (got 13 columns instead of 12)\n    Line #336 (got 13 columns instead of 12)\n    Line #337 (got 13 columns instead of 12)\n    Line #338 (got 13 columns instead of 12)\n    Line #339 (got 13 columns instead of 12)\n    Line #340 (got 13 columns instead of 12)\n    Line #341 (got 13 columns instead of 12)\n    Line #342 (got 13 columns instead of 12)\n    Line #343 (got 13 columns instead of 12)\n    Line #344 (got 13 columns instead of 12)\n    Line #345 (got 13 columns instead of 12)\n    Line #346 (got 13 columns instead of 12)\n    Line #347 (got 13 columns instead of 12)\n    Line #348 (got 13 columns instead of 12)\n    Line #349 (got 13 columns instead of 12)\n    Line #350 (got 13 columns instead of 12)\n    Line #351 (got 13 columns instead of 12)\n    Line #352 (got 13 columns instead of 12)\n    Line #353 (got 13 columns instead of 12)\n    Line #354 (got 13 columns instead of 12)\n    Line #355 (got 13 columns instead of 12)\n    Line #356 (got 13 columns instead of 12)\n    Line #357 (got 13 columns instead of 12)\n    Line #358 (got 13 columns instead of 12)\n    Line #359 (got 13 columns instead of 12)\n    Line #360 (got 13 columns instead of 12)\n    Line #361 (got 13 columns instead of 12)\n    Line #362 (got 13 columns instead of 12)\n    Line #363 (got 13 columns instead of 12)\n    Line #364 (got 13 columns instead of 12)\n    Line #365 (got 13 columns instead of 12)\n    Line #366 (got 13 columns instead of 12)\n    Line #367 (got 13 columns instead of 12)\n    Line #368 (got 13 columns instead of 12)\n    Line #369 (got 13 columns instead of 12)\n    Line #370 (got 13 columns instead of 12)\n    Line #371 (got 13 columns instead of 12)\n    Line #372 (got 13 columns instead of 12)\n    Line #373 (got 13 columns instead of 12)\n    Line #374 (got 13 columns instead of 12)\n    Line #375 (got 13 columns instead of 12)\n    Line #376 (got 13 columns instead of 12)\n    Line #377 (got 13 columns instead of 12)\n    Line #378 (got 13 columns instead of 12)\n    Line #379 (got 13 columns instead of 12)\n    Line #380 (got 13 columns instead of 12)\n    Line #381 (got 13 columns instead of 12)\n    Line #382 (got 13 columns instead of 12)\n    Line #383 (got 13 columns instead of 12)\n    Line #384 (got 13 columns instead of 12)\n    Line #385 (got 13 columns instead of 12)\n    Line #386 (got 13 columns instead of 12)\n    Line #387 (got 13 columns instead of 12)\n    Line #388 (got 13 columns instead of 12)\n    Line #389 (got 13 columns instead of 12)\n    Line #390 (got 13 columns instead of 12)\n    Line #391 (got 13 columns instead of 12)\n    Line #392 (got 13 columns instead of 12)\n    Line #393 (got 13 columns instead of 12)\n    Line #394 (got 13 columns instead of 12)\n    Line #395 (got 13 columns instead of 12)\n    Line #396 (got 13 columns instead of 12)\n    Line #397 (got 13 columns instead of 12)\n    Line #398 (got 13 columns instead of 12)\n    Line #399 (got 13 columns instead of 12)\n    Line #400 (got 13 columns instead of 12)\n    Line #401 (got 13 columns instead of 12)\n    Line #402 (got 13 columns instead of 12)\n    Line #403 (got 13 columns instead of 12)\n    Line #404 (got 13 columns instead of 12)\n    Line #405 (got 13 columns instead of 12)\n    Line #406 (got 13 columns instead of 12)\n    Line #407 (got 13 columns instead of 12)\n    Line #408 (got 13 columns instead of 12)\n    Line #409 (got 13 columns instead of 12)\n    Line #410 (got 13 columns instead of 12)\n    Line #411 (got 13 columns instead of 12)\n    Line #412 (got 13 columns instead of 12)\n    Line #413 (got 13 columns instead of 12)\n    Line #414 (got 13 columns instead of 12)\n    Line #415 (got 13 columns instead of 12)\n    Line #416 (got 13 columns instead of 12)\n    Line #417 (got 13 columns instead of 12)\n    Line #418 (got 13 columns instead of 12)\n    Line #419 (got 13 columns instead of 12)\n    Line #420 (got 13 columns instead of 12)\n    Line #421 (got 13 columns instead of 12)\n    Line #422 (got 13 columns instead of 12)\n    Line #423 (got 13 columns instead of 12)\n    Line #424 (got 13 columns instead of 12)\n    Line #425 (got 13 columns instead of 12)\n    Line #426 (got 13 columns instead of 12)\n    Line #427 (got 13 columns instead of 12)\n    Line #428 (got 13 columns instead of 12)\n    Line #429 (got 13 columns instead of 12)\n    Line #430 (got 13 columns instead of 12)\n    Line #431 (got 13 columns instead of 12)\n    Line #432 (got 13 columns instead of 12)\n    Line #433 (got 13 columns instead of 12)\n    Line #434 (got 13 columns instead of 12)\n    Line #435 (got 13 columns instead of 12)\n    Line #436 (got 13 columns instead of 12)\n    Line #437 (got 13 columns instead of 12)\n    Line #438 (got 13 columns instead of 12)\n    Line #439 (got 13 columns instead of 12)\n    Line #440 (got 13 columns instead of 12)\n    Line #441 (got 13 columns instead of 12)\n    Line #442 (got 13 columns instead of 12)\n    Line #443 (got 13 columns instead of 12)\n    Line #444 (got 13 columns instead of 12)\n    Line #445 (got 13 columns instead of 12)\n    Line #446 (got 13 columns instead of 12)\n    Line #447 (got 13 columns instead of 12)\n    Line #448 (got 13 columns instead of 12)\n    Line #449 (got 13 columns instead of 12)\n    Line #450 (got 13 columns instead of 12)\n    Line #451 (got 13 columns instead of 12)\n    Line #452 (got 13 columns instead of 12)\n    Line #453 (got 13 columns instead of 12)\n    Line #454 (got 13 columns instead of 12)\n    Line #455 (got 13 columns instead of 12)\n    Line #456 (got 13 columns instead of 12)\n    Line #457 (got 13 columns instead of 12)\n    Line #458 (got 13 columns instead of 12)\n    Line #459 (got 13 columns instead of 12)\n    Line #460 (got 13 columns instead of 12)\n    Line #461 (got 13 columns instead of 12)\n    Line #462 (got 13 columns instead of 12)\n    Line #463 (got 13 columns instead of 12)\n    Line #464 (got 13 columns instead of 12)\n    Line #465 (got 13 columns instead of 12)\n    Line #466 (got 13 columns instead of 12)\n    Line #467 (got 13 columns instead of 12)\n    Line #468 (got 13 columns instead of 12)\n    Line #469 (got 13 columns instead of 12)\n    Line #470 (got 13 columns instead of 12)\n    Line #471 (got 13 columns instead of 12)\n    Line #472 (got 13 columns instead of 12)\n    Line #473 (got 13 columns instead of 12)\n    Line #474 (got 13 columns instead of 12)\n    Line #475 (got 13 columns instead of 12)\n    Line #476 (got 13 columns instead of 12)\n    Line #477 (got 13 columns instead of 12)\n    Line #478 (got 13 columns instead of 12)\n    Line #479 (got 13 columns instead of 12)\n    Line #480 (got 13 columns instead of 12)\n    Line #481 (got 13 columns instead of 12)\n    Line #482 (got 13 columns instead of 12)\n    Line #483 (got 13 columns instead of 12)\n    Line #484 (got 13 columns instead of 12)\n    Line #485 (got 13 columns instead of 12)\n    Line #486 (got 13 columns instead of 12)\n    Line #487 (got 13 columns instead of 12)\n    Line #488 (got 13 columns instead of 12)\n    Line #489 (got 13 columns instead of 12)\n    Line #490 (got 13 columns instead of 12)\n    Line #491 (got 13 columns instead of 12)\n    Line #492 (got 13 columns instead of 12)\n    Line #493 (got 13 columns instead of 12)\n    Line #494 (got 13 columns instead of 12)\n    Line #495 (got 13 columns instead of 12)\n    Line #496 (got 13 columns instead of 12)\n    Line #497 (got 13 columns instead of 12)\n    Line #498 (got 13 columns instead of 12)\n    Line #499 (got 13 columns instead of 12)\n    Line #500 (got 13 columns instead of 12)\n    Line #501 (got 13 columns instead of 12)\n    Line #502 (got 13 columns instead of 12)\n    Line #503 (got 13 columns instead of 12)\n    Line #504 (got 13 columns instead of 12)\n    Line #505 (got 13 columns instead of 12)\n    Line #506 (got 13 columns instead of 12)\n    Line #507 (got 13 columns instead of 12)\n    Line #508 (got 13 columns instead of 12)\n    Line #509 (got 13 columns instead of 12)\n    Line #510 (got 13 columns instead of 12)\n    Line #511 (got 13 columns instead of 12)\n    Line #512 (got 13 columns instead of 12)\n    Line #513 (got 13 columns instead of 12)\n    Line #514 (got 13 columns instead of 12)\n    Line #515 (got 13 columns instead of 12)\n    Line #516 (got 13 columns instead of 12)\n    Line #517 (got 13 columns instead of 12)\n    Line #518 (got 13 columns instead of 12)\n    Line #519 (got 13 columns instead of 12)\n    Line #520 (got 13 columns instead of 12)\n    Line #521 (got 13 columns instead of 12)\n    Line #522 (got 13 columns instead of 12)\n    Line #523 (got 13 columns instead of 12)\n    Line #524 (got 13 columns instead of 12)\n    Line #525 (got 13 columns instead of 12)\n    Line #526 (got 13 columns instead of 12)\n    Line #527 (got 13 columns instead of 12)\n    Line #528 (got 13 columns instead of 12)\n    Line #529 (got 13 columns instead of 12)\n    Line #530 (got 13 columns instead of 12)\n    Line #531 (got 13 columns instead of 12)\n    Line #532 (got 13 columns instead of 12)\n    Line #533 (got 13 columns instead of 12)\n    Line #534 (got 13 columns instead of 12)\n    Line #535 (got 13 columns instead of 12)\n    Line #536 (got 13 columns instead of 12)\n    Line #537 (got 13 columns instead of 12)\n    Line #538 (got 13 columns instead of 12)\n    Line #539 (got 13 columns instead of 12)\n    Line #540 (got 13 columns instead of 12)\n    Line #541 (got 13 columns instead of 12)\n    Line #542 (got 13 columns instead of 12)\n    Line #543 (got 13 columns instead of 12)\n    Line #544 (got 13 columns instead of 12)\n    Line #545 (got 13 columns instead of 12)\n    Line #546 (got 13 columns instead of 12)\n    Line #547 (got 13 columns instead of 12)\n    Line #548 (got 13 columns instead of 12)\n    Line #549 (got 13 columns instead of 12)\n    Line #550 (got 13 columns instead of 12)\n    Line #551 (got 13 columns instead of 12)\n    Line #552 (got 13 columns instead of 12)\n    Line #553 (got 13 columns instead of 12)\n    Line #554 (got 13 columns instead of 12)\n    Line #555 (got 13 columns instead of 12)\n    Line #556 (got 13 columns instead of 12)\n    Line #557 (got 13 columns instead of 12)\n    Line #558 (got 13 columns instead of 12)\n    Line #559 (got 13 columns instead of 12)\n    Line #560 (got 13 columns instead of 12)\n    Line #561 (got 13 columns instead of 12)\n    Line #562 (got 13 columns instead of 12)\n    Line #563 (got 13 columns instead of 12)\n    Line #564 (got 13 columns instead of 12)\n    Line #565 (got 13 columns instead of 12)\n    Line #566 (got 13 columns instead of 12)\n    Line #567 (got 13 columns instead of 12)\n    Line #568 (got 13 columns instead of 12)\n    Line #569 (got 13 columns instead of 12)\n    Line #570 (got 13 columns instead of 12)\n    Line #571 (got 13 columns instead of 12)\n    Line #572 (got 13 columns instead of 12)\n    Line #573 (got 13 columns instead of 12)\n    Line #574 (got 13 columns instead of 12)\n    Line #575 (got 13 columns instead of 12)\n    Line #576 (got 13 columns instead of 12)\n    Line #577 (got 13 columns instead of 12)\n    Line #578 (got 13 columns instead of 12)\n    Line #579 (got 13 columns instead of 12)\n    Line #580 (got 13 columns instead of 12)\n    Line #581 (got 13 columns instead of 12)\n    Line #582 (got 13 columns instead of 12)\n    Line #583 (got 13 columns instead of 12)\n    Line #584 (got 13 columns instead of 12)\n    Line #585 (got 13 columns instead of 12)\n    Line #586 (got 13 columns instead of 12)\n    Line #587 (got 13 columns instead of 12)\n    Line #588 (got 13 columns instead of 12)\n    Line #589 (got 13 columns instead of 12)\n    Line #590 (got 13 columns instead of 12)\n    Line #591 (got 13 columns instead of 12)\n    Line #592 (got 13 columns instead of 12)\n    Line #593 (got 13 columns instead of 12)\n    Line #594 (got 13 columns instead of 12)\n    Line #595 (got 13 columns instead of 12)\n    Line #596 (got 13 columns instead of 12)\n    Line #597 (got 13 columns instead of 12)\n    Line #598 (got 13 columns instead of 12)\n    Line #599 (got 13 columns instead of 12)\n    Line #600 (got 13 columns instead of 12)\n    Line #601 (got 13 columns instead of 12)\n    Line #602 (got 13 columns instead of 12)\n    Line #603 (got 13 columns instead of 12)\n    Line #604 (got 13 columns instead of 12)\n    Line #605 (got 13 columns instead of 12)\n    Line #606 (got 13 columns instead of 12)\n    Line #607 (got 13 columns instead of 12)\n    Line #608 (got 13 columns instead of 12)\n    Line #609 (got 13 columns instead of 12)\n    Line #610 (got 13 columns instead of 12)\n    Line #611 (got 13 columns instead of 12)\n    Line #612 (got 13 columns instead of 12)\n    Line #613 (got 13 columns instead of 12)\n    Line #614 (got 13 columns instead of 12)\n    Line #615 (got 13 columns instead of 12)\n    Line #616 (got 13 columns instead of 12)\n    Line #617 (got 13 columns instead of 12)\n    Line #618 (got 13 columns instead of 12)\n    Line #619 (got 13 columns instead of 12)\n    Line #620 (got 13 columns instead of 12)\n    Line #621 (got 13 columns instead of 12)\n    Line #622 (got 13 columns instead of 12)\n    Line #623 (got 13 columns instead of 12)\n    Line #624 (got 13 columns instead of 12)\n    Line #625 (got 13 columns instead of 12)\n    Line #626 (got 13 columns instead of 12)\n    Line #627 (got 13 columns instead of 12)\n    Line #628 (got 13 columns instead of 12)\n    Line #629 (got 13 columns instead of 12)\n    Line #630 (got 13 columns instead of 12)\n    Line #631 (got 13 columns instead of 12)\n    Line #632 (got 13 columns instead of 12)\n    Line #633 (got 13 columns instead of 12)\n    Line #634 (got 13 columns instead of 12)\n    Line #635 (got 13 columns instead of 12)\n    Line #636 (got 13 columns instead of 12)\n    Line #637 (got 13 columns instead of 12)\n    Line #638 (got 13 columns instead of 12)\n    Line #639 (got 13 columns instead of 12)\n    Line #640 (got 13 columns instead of 12)\n    Line #641 (got 13 columns instead of 12)\n    Line #642 (got 13 columns instead of 12)\n    Line #643 (got 13 columns instead of 12)\n    Line #644 (got 13 columns instead of 12)\n    Line #645 (got 13 columns instead of 12)\n    Line #646 (got 13 columns instead of 12)\n    Line #647 (got 13 columns instead of 12)\n    Line #648 (got 13 columns instead of 12)\n    Line #649 (got 13 columns instead of 12)\n    Line #650 (got 13 columns instead of 12)\n    Line #651 (got 13 columns instead of 12)\n    Line #652 (got 13 columns instead of 12)\n    Line #653 (got 13 columns instead of 12)\n    Line #654 (got 13 columns instead of 12)\n    Line #655 (got 13 columns instead of 12)\n    Line #656 (got 13 columns instead of 12)\n    Line #657 (got 13 columns instead of 12)\n    Line #658 (got 13 columns instead of 12)\n    Line #659 (got 13 columns instead of 12)\n    Line #660 (got 13 columns instead of 12)\n    Line #661 (got 13 columns instead of 12)\n    Line #662 (got 13 columns instead of 12)\n    Line #663 (got 13 columns instead of 12)\n    Line #664 (got 13 columns instead of 12)\n    Line #665 (got 13 columns instead of 12)\n    Line #666 (got 13 columns instead of 12)\n    Line #667 (got 13 columns instead of 12)\n    Line #668 (got 13 columns instead of 12)\n    Line #669 (got 13 columns instead of 12)\n    Line #670 (got 13 columns instead of 12)\n    Line #671 (got 13 columns instead of 12)\n    Line #672 (got 13 columns instead of 12)\n    Line #673 (got 13 columns instead of 12)\n    Line #674 (got 13 columns instead of 12)\n    Line #675 (got 13 columns instead of 12)\n    Line #676 (got 13 columns instead of 12)\n    Line #677 (got 13 columns instead of 12)\n    Line #678 (got 13 columns instead of 12)\n    Line #679 (got 13 columns instead of 12)\n    Line #680 (got 13 columns instead of 12)\n    Line #681 (got 13 columns instead of 12)\n    Line #682 (got 13 columns instead of 12)\n    Line #683 (got 13 columns instead of 12)\n    Line #684 (got 13 columns instead of 12)\n    Line #685 (got 13 columns instead of 12)\n    Line #686 (got 13 columns instead of 12)\n    Line #687 (got 13 columns instead of 12)\n    Line #688 (got 13 columns instead of 12)\n    Line #689 (got 13 columns instead of 12)\n    Line #690 (got 13 columns instead of 12)\n    Line #691 (got 13 columns instead of 12)\n    Line #692 (got 13 columns instead of 12)\n    Line #693 (got 13 columns instead of 12)\n    Line #694 (got 13 columns instead of 12)\n    Line #695 (got 13 columns instead of 12)\n    Line #696 (got 13 columns instead of 12)\n    Line #697 (got 13 columns instead of 12)\n    Line #698 (got 13 columns instead of 12)\n    Line #699 (got 13 columns instead of 12)\n    Line #700 (got 13 columns instead of 12)\n    Line #701 (got 13 columns instead of 12)\n    Line #702 (got 13 columns instead of 12)\n    Line #703 (got 13 columns instead of 12)\n    Line #704 (got 13 columns instead of 12)\n    Line #705 (got 13 columns instead of 12)\n    Line #706 (got 13 columns instead of 12)\n    Line #707 (got 13 columns instead of 12)\n    Line #708 (got 13 columns instead of 12)\n    Line #709 (got 13 columns instead of 12)\n    Line #710 (got 13 columns instead of 12)\n    Line #711 (got 13 columns instead of 12)\n    Line #712 (got 13 columns instead of 12)\n    Line #713 (got 13 columns instead of 12)\n    Line #714 (got 13 columns instead of 12)\n    Line #715 (got 13 columns instead of 12)\n    Line #716 (got 13 columns instead of 12)\n    Line #717 (got 13 columns instead of 12)\n    Line #718 (got 13 columns instead of 12)\n    Line #719 (got 13 columns instead of 12)\n    Line #720 (got 13 columns instead of 12)\n    Line #721 (got 13 columns instead of 12)\n    Line #722 (got 13 columns instead of 12)\n    Line #723 (got 13 columns instead of 12)\n    Line #724 (got 13 columns instead of 12)\n    Line #725 (got 13 columns instead of 12)\n    Line #726 (got 13 columns instead of 12)\n    Line #727 (got 13 columns instead of 12)\n    Line #728 (got 13 columns instead of 12)\n    Line #729 (got 13 columns instead of 12)\n    Line #730 (got 13 columns instead of 12)\n    Line #731 (got 13 columns instead of 12)\n    Line #732 (got 13 columns instead of 12)\n    Line #733 (got 13 columns instead of 12)\n    Line #734 (got 13 columns instead of 12)\n    Line #735 (got 13 columns instead of 12)\n    Line #736 (got 13 columns instead of 12)\n    Line #737 (got 13 columns instead of 12)\n    Line #738 (got 13 columns instead of 12)\n    Line #739 (got 13 columns instead of 12)\n    Line #740 (got 13 columns instead of 12)\n    Line #741 (got 13 columns instead of 12)\n    Line #742 (got 13 columns instead of 12)\n    Line #743 (got 13 columns instead of 12)\n    Line #744 (got 13 columns instead of 12)\n    Line #745 (got 13 columns instead of 12)\n    Line #746 (got 13 columns instead of 12)\n    Line #747 (got 13 columns instead of 12)\n    Line #748 (got 13 columns instead of 12)\n    Line #749 (got 13 columns instead of 12)\n    Line #750 (got 13 columns instead of 12)\n    Line #751 (got 13 columns instead of 12)\n    Line #752 (got 13 columns instead of 12)\n    Line #753 (got 13 columns instead of 12)\n    Line #754 (got 13 columns instead of 12)\n    Line #755 (got 13 columns instead of 12)\n    Line #756 (got 13 columns instead of 12)\n    Line #757 (got 13 columns instead of 12)\n    Line #758 (got 13 columns instead of 12)\n    Line #759 (got 13 columns instead of 12)\n    Line #760 (got 13 columns instead of 12)\n    Line #761 (got 13 columns instead of 12)\n    Line #762 (got 13 columns instead of 12)\n    Line #763 (got 13 columns instead of 12)\n    Line #764 (got 13 columns instead of 12)\n    Line #765 (got 13 columns instead of 12)\n    Line #766 (got 13 columns instead of 12)\n    Line #767 (got 13 columns instead of 12)\n    Line #768 (got 13 columns instead of 12)\n    Line #769 (got 13 columns instead of 12)\n    Line #770 (got 13 columns instead of 12)\n    Line #771 (got 13 columns instead of 12)\n    Line #772 (got 13 columns instead of 12)\n    Line #773 (got 13 columns instead of 12)\n    Line #774 (got 13 columns instead of 12)\n    Line #775 (got 13 columns instead of 12)\n    Line #776 (got 13 columns instead of 12)\n    Line #777 (got 13 columns instead of 12)\n    Line #778 (got 13 columns instead of 12)\n    Line #779 (got 13 columns instead of 12)\n    Line #780 (got 13 columns instead of 12)\n    Line #781 (got 13 columns instead of 12)\n    Line #782 (got 13 columns instead of 12)\n    Line #783 (got 13 columns instead of 12)\n    Line #784 (got 13 columns instead of 12)\n    Line #785 (got 13 columns instead of 12)\n    Line #786 (got 13 columns instead of 12)\n    Line #787 (got 13 columns instead of 12)\n    Line #788 (got 13 columns instead of 12)\n    Line #789 (got 13 columns instead of 12)\n    Line #790 (got 13 columns instead of 12)\n    Line #791 (got 13 columns instead of 12)\n    Line #792 (got 13 columns instead of 12)\n    Line #793 (got 13 columns instead of 12)\n    Line #794 (got 13 columns instead of 12)\n    Line #795 (got 13 columns instead of 12)\n    Line #796 (got 13 columns instead of 12)\n    Line #797 (got 13 columns instead of 12)\n    Line #798 (got 13 columns instead of 12)\n    Line #799 (got 13 columns instead of 12)\n    Line #800 (got 13 columns instead of 12)\n    Line #801 (got 13 columns instead of 12)\n    Line #802 (got 13 columns instead of 12)\n    Line #803 (got 13 columns instead of 12)\n    Line #804 (got 13 columns instead of 12)\n    Line #805 (got 13 columns instead of 12)\n    Line #806 (got 13 columns instead of 12)\n    Line #807 (got 13 columns instead of 12)\n    Line #808 (got 13 columns instead of 12)\n    Line #809 (got 13 columns instead of 12)\n    Line #810 (got 13 columns instead of 12)\n    Line #811 (got 13 columns instead of 12)\n    Line #812 (got 13 columns instead of 12)\n    Line #813 (got 13 columns instead of 12)\n    Line #814 (got 13 columns instead of 12)\n    Line #815 (got 13 columns instead of 12)\n    Line #816 (got 13 columns instead of 12)\n    Line #817 (got 13 columns instead of 12)\n    Line #818 (got 13 columns instead of 12)\n    Line #819 (got 13 columns instead of 12)\n    Line #820 (got 13 columns instead of 12)\n    Line #821 (got 13 columns instead of 12)\n    Line #822 (got 13 columns instead of 12)\n    Line #823 (got 13 columns instead of 12)\n    Line #824 (got 13 columns instead of 12)\n    Line #825 (got 13 columns instead of 12)\n    Line #826 (got 13 columns instead of 12)\n    Line #827 (got 13 columns instead of 12)\n    Line #828 (got 13 columns instead of 12)\n    Line #829 (got 13 columns instead of 12)\n    Line #830 (got 13 columns instead of 12)\n    Line #831 (got 13 columns instead of 12)\n    Line #832 (got 13 columns instead of 12)\n    Line #833 (got 13 columns instead of 12)\n    Line #834 (got 13 columns instead of 12)\n    Line #835 (got 13 columns instead of 12)\n    Line #836 (got 13 columns instead of 12)\n    Line #837 (got 13 columns instead of 12)\n    Line #838 (got 13 columns instead of 12)\n    Line #839 (got 13 columns instead of 12)\n    Line #840 (got 13 columns instead of 12)\n    Line #841 (got 13 columns instead of 12)\n    Line #842 (got 13 columns instead of 12)\n    Line #843 (got 13 columns instead of 12)\n    Line #844 (got 13 columns instead of 12)\n    Line #845 (got 13 columns instead of 12)\n    Line #846 (got 13 columns instead of 12)\n    Line #847 (got 13 columns instead of 12)\n    Line #848 (got 13 columns instead of 12)\n    Line #849 (got 13 columns instead of 12)\n    Line #850 (got 13 columns instead of 12)\n    Line #851 (got 13 columns instead of 12)\n    Line #852 (got 13 columns instead of 12)\n    Line #853 (got 13 columns instead of 12)\n    Line #854 (got 13 columns instead of 12)\n    Line #855 (got 13 columns instead of 12)\n    Line #856 (got 13 columns instead of 12)\n    Line #857 (got 13 columns instead of 12)\n    Line #858 (got 13 columns instead of 12)\n    Line #859 (got 13 columns instead of 12)\n    Line #860 (got 13 columns instead of 12)\n    Line #861 (got 13 columns instead of 12)\n    Line #862 (got 13 columns instead of 12)\n    Line #863 (got 13 columns instead of 12)\n    Line #864 (got 13 columns instead of 12)\n    Line #865 (got 13 columns instead of 12)\n    Line #866 (got 13 columns instead of 12)\n    Line #867 (got 13 columns instead of 12)\n    Line #868 (got 13 columns instead of 12)\n    Line #869 (got 13 columns instead of 12)\n    Line #870 (got 13 columns instead of 12)\n    Line #871 (got 13 columns instead of 12)\n    Line #872 (got 13 columns instead of 12)\n    Line #873 (got 13 columns instead of 12)\n    Line #874 (got 13 columns instead of 12)\n    Line #875 (got 13 columns instead of 12)\n    Line #876 (got 13 columns instead of 12)\n    Line #877 (got 13 columns instead of 12)\n    Line #878 (got 13 columns instead of 12)\n    Line #879 (got 13 columns instead of 12)\n    Line #880 (got 13 columns instead of 12)\n    Line #881 (got 13 columns instead of 12)\n    Line #882 (got 13 columns instead of 12)\n    Line #883 (got 13 columns instead of 12)\n    Line #884 (got 13 columns instead of 12)\n    Line #885 (got 13 columns instead of 12)\n    Line #886 (got 13 columns instead of 12)\n    Line #887 (got 13 columns instead of 12)\n    Line #888 (got 13 columns instead of 12)\n    Line #889 (got 13 columns instead of 12)\n    Line #890 (got 13 columns instead of 12)\n    Line #891 (got 13 columns instead of 12)\n    Line #892 (got 13 columns instead of 12)"
     ]
    }
   ],
   "source": [
    "# %load tpot_titanic_pipeline.py\n",
    "import numpy as np\n",
    "\n",
    "from sklearn.ensemble import RandomForestClassifier\n",
    "from sklearn.model_selection import train_test_split\n",
    "\n",
    "# NOTE: Make sure that the class is labeled 'class' in the data file\n",
    "tpot_data = np.recfromcsv('data/titanic_train.csv', dtype=np.float64) # delimiter=',', \n",
    "features = np.delete(tpot_data.view(np.float64).reshape(tpot_data.size, -1), tpot_data.dtype.names.index('class'), axis=1)\n",
    "training_features, testing_features, training_classes, testing_classes = \\\n",
    "    train_test_split(features, tpot_data['class'], random_state=42)\n",
    "\n",
    "exported_pipeline = RandomForestClassifier(bootstrap=False, max_features=0.4, min_samples_leaf=1, min_samples_split=9)\n",
    "\n",
    "exported_pipeline.fit(training_features, training_classes)\n",
    "results = exported_pipeline.predict(testing_features)\n"
   ]
  },
  {
   "cell_type": "markdown",
   "metadata": {
    "collapsed": true
   },
   "source": [
    "### Make predictions on the submission data "
   ]
  },
  {
   "cell_type": "code",
   "execution_count": 26,
   "metadata": {},
   "outputs": [
    {
     "data": {
      "text/html": [
       "<div>\n",
       "<style scoped>\n",
       "    .dataframe tbody tr th:only-of-type {\n",
       "        vertical-align: middle;\n",
       "    }\n",
       "\n",
       "    .dataframe tbody tr th {\n",
       "        vertical-align: top;\n",
       "    }\n",
       "\n",
       "    .dataframe thead th {\n",
       "        text-align: right;\n",
       "    }\n",
       "</style>\n",
       "<table border=\"1\" class=\"dataframe\">\n",
       "  <thead>\n",
       "    <tr style=\"text-align: right;\">\n",
       "      <th></th>\n",
       "      <th>PassengerId</th>\n",
       "      <th>Pclass</th>\n",
       "      <th>Age</th>\n",
       "      <th>SibSp</th>\n",
       "      <th>Parch</th>\n",
       "      <th>Fare</th>\n",
       "    </tr>\n",
       "  </thead>\n",
       "  <tbody>\n",
       "    <tr>\n",
       "      <th>count</th>\n",
       "      <td>418.000000</td>\n",
       "      <td>418.000000</td>\n",
       "      <td>332.000000</td>\n",
       "      <td>418.000000</td>\n",
       "      <td>418.000000</td>\n",
       "      <td>417.000000</td>\n",
       "    </tr>\n",
       "    <tr>\n",
       "      <th>mean</th>\n",
       "      <td>1100.500000</td>\n",
       "      <td>2.265550</td>\n",
       "      <td>30.272590</td>\n",
       "      <td>0.447368</td>\n",
       "      <td>0.392344</td>\n",
       "      <td>35.627188</td>\n",
       "    </tr>\n",
       "    <tr>\n",
       "      <th>std</th>\n",
       "      <td>120.810458</td>\n",
       "      <td>0.841838</td>\n",
       "      <td>14.181209</td>\n",
       "      <td>0.896760</td>\n",
       "      <td>0.981429</td>\n",
       "      <td>55.907576</td>\n",
       "    </tr>\n",
       "    <tr>\n",
       "      <th>min</th>\n",
       "      <td>892.000000</td>\n",
       "      <td>1.000000</td>\n",
       "      <td>0.170000</td>\n",
       "      <td>0.000000</td>\n",
       "      <td>0.000000</td>\n",
       "      <td>0.000000</td>\n",
       "    </tr>\n",
       "    <tr>\n",
       "      <th>25%</th>\n",
       "      <td>996.250000</td>\n",
       "      <td>1.000000</td>\n",
       "      <td>21.000000</td>\n",
       "      <td>0.000000</td>\n",
       "      <td>0.000000</td>\n",
       "      <td>7.895800</td>\n",
       "    </tr>\n",
       "    <tr>\n",
       "      <th>50%</th>\n",
       "      <td>1100.500000</td>\n",
       "      <td>3.000000</td>\n",
       "      <td>27.000000</td>\n",
       "      <td>0.000000</td>\n",
       "      <td>0.000000</td>\n",
       "      <td>14.454200</td>\n",
       "    </tr>\n",
       "    <tr>\n",
       "      <th>75%</th>\n",
       "      <td>1204.750000</td>\n",
       "      <td>3.000000</td>\n",
       "      <td>39.000000</td>\n",
       "      <td>1.000000</td>\n",
       "      <td>0.000000</td>\n",
       "      <td>31.500000</td>\n",
       "    </tr>\n",
       "    <tr>\n",
       "      <th>max</th>\n",
       "      <td>1309.000000</td>\n",
       "      <td>3.000000</td>\n",
       "      <td>76.000000</td>\n",
       "      <td>8.000000</td>\n",
       "      <td>9.000000</td>\n",
       "      <td>512.329200</td>\n",
       "    </tr>\n",
       "  </tbody>\n",
       "</table>\n",
       "</div>"
      ],
      "text/plain": [
       "       PassengerId      Pclass         Age       SibSp       Parch        Fare\n",
       "count   418.000000  418.000000  332.000000  418.000000  418.000000  417.000000\n",
       "mean   1100.500000    2.265550   30.272590    0.447368    0.392344   35.627188\n",
       "std     120.810458    0.841838   14.181209    0.896760    0.981429   55.907576\n",
       "min     892.000000    1.000000    0.170000    0.000000    0.000000    0.000000\n",
       "25%     996.250000    1.000000   21.000000    0.000000    0.000000    7.895800\n",
       "50%    1100.500000    3.000000   27.000000    0.000000    0.000000   14.454200\n",
       "75%    1204.750000    3.000000   39.000000    1.000000    0.000000   31.500000\n",
       "max    1309.000000    3.000000   76.000000    8.000000    9.000000  512.329200"
      ]
     },
     "execution_count": 26,
     "metadata": {},
     "output_type": "execute_result"
    }
   ],
   "source": [
    "# Read in the submission dataset\n",
    "titanic_sub = pd.read_csv('data/titanic_test.csv')\n",
    "titanic_sub.describe()"
   ]
  },
  {
   "cell_type": "markdown",
   "metadata": {},
   "source": [
    "The most important step here is to check for new levels in the categorical variables of the submission dataset that are absent in the training set. We identify them and set them to our placeholder value of '-999', i.e., we treat them as missing values. This ensures training consistency, as otherwise the model does not know what to do with the new levels in  the submission dataset. "
   ]
  },
  {
   "cell_type": "code",
   "execution_count": 27,
   "metadata": {},
   "outputs": [
    {
     "name": "stderr",
     "output_type": "stream",
     "text": [
      "/Users/robincole/anaconda3/lib/python3.6/site-packages/ipykernel_launcher.py:3: DeprecationWarning: \n",
      ".ix is deprecated. Please use\n",
      ".loc for label based indexing or\n",
      ".iloc for positional indexing\n",
      "\n",
      "See the documentation here:\n",
      "http://pandas.pydata.org/pandas-docs/stable/indexing.html#ix-indexer-is-deprecated\n",
      "  This is separate from the ipykernel package so we can avoid doing imports until\n"
     ]
    }
   ],
   "source": [
    "for var in ['Cabin']: #,'Name','Ticket']:\n",
    "    new = list(set(titanic_sub[var]) - set(titanic[var]))\n",
    "    titanic_sub.ix[titanic_sub[var].isin(new), var] = -999"
   ]
  },
  {
   "cell_type": "markdown",
   "metadata": {},
   "source": [
    "We then carry out the data munging steps as done earlier for the training dataset."
   ]
  },
  {
   "cell_type": "code",
   "execution_count": 28,
   "metadata": {},
   "outputs": [],
   "source": [
    "titanic_sub['Sex'] = titanic_sub['Sex'].map({'male':0,'female':1})\n",
    "titanic_sub['Embarked'] = titanic_sub['Embarked'].map({'S':0,'C':1,'Q':2})"
   ]
  },
  {
   "cell_type": "code",
   "execution_count": 29,
   "metadata": {},
   "outputs": [
    {
     "data": {
      "text/plain": [
       "PassengerId    False\n",
       "Pclass         False\n",
       "Name           False\n",
       "Sex            False\n",
       "Age            False\n",
       "SibSp          False\n",
       "Parch          False\n",
       "Ticket         False\n",
       "Fare           False\n",
       "Cabin          False\n",
       "Embarked       False\n",
       "dtype: bool"
      ]
     },
     "execution_count": 29,
     "metadata": {},
     "output_type": "execute_result"
    }
   ],
   "source": [
    "titanic_sub = titanic_sub.fillna(-999)\n",
    "pd.isnull(titanic_sub).any()"
   ]
  },
  {
   "cell_type": "markdown",
   "metadata": {},
   "source": [
    "While calling `MultiLabelBinarizer` for the submission data set, we first fit on the training set again to learn the levels and then transform the submission dataset values. This further ensures that only those levels that were present in the training dataset are transformed. If new levels are still found in the submission dataset then it will return an error and we need to go back and check our earlier step of replacing new levels with the placeholder value. "
   ]
  },
  {
   "cell_type": "code",
   "execution_count": 30,
   "metadata": {},
   "outputs": [],
   "source": [
    "from sklearn.preprocessing import MultiLabelBinarizer\n",
    "mlb = MultiLabelBinarizer()\n",
    "SubCabinTrans = mlb.fit([{str(val)} for val in titanic['Cabin'].values]).transform([{str(val)} for val in titanic_sub['Cabin'].values])\n",
    "titanic_sub = titanic_sub.drop(['Name','Ticket','Cabin'], axis=1)"
   ]
  },
  {
   "cell_type": "code",
   "execution_count": 31,
   "metadata": {},
   "outputs": [],
   "source": [
    "# Form the new submission data set\n",
    "titanic_sub_new = np.hstack((titanic_sub.values,SubCabinTrans))"
   ]
  },
  {
   "cell_type": "code",
   "execution_count": 32,
   "metadata": {},
   "outputs": [
    {
     "data": {
      "text/plain": [
       "False"
      ]
     },
     "execution_count": 32,
     "metadata": {},
     "output_type": "execute_result"
    }
   ],
   "source": [
    "np.any(np.isnan(titanic_sub_new))"
   ]
  },
  {
   "cell_type": "code",
   "execution_count": 33,
   "metadata": {},
   "outputs": [],
   "source": [
    "# Ensure equal number of features in both the final training and submission dataset\n",
    "assert (titanic_new.shape[1] == titanic_sub_new.shape[1]), \"Not Equal\" "
   ]
  },
  {
   "cell_type": "code",
   "execution_count": 34,
   "metadata": {},
   "outputs": [],
   "source": [
    "# Generate the predictions\n",
    "submission = tpot.predict(titanic_sub_new)"
   ]
  },
  {
   "cell_type": "code",
   "execution_count": 35,
   "metadata": {},
   "outputs": [],
   "source": [
    "# Create the submission file\n",
    "final = pd.DataFrame({'PassengerId': titanic_sub['PassengerId'], 'Survived': submission})\n",
    "final.to_csv('data/submission.csv', index = False)"
   ]
  },
  {
   "cell_type": "code",
   "execution_count": 36,
   "metadata": {},
   "outputs": [
    {
     "data": {
      "text/plain": [
       "(418, 2)"
      ]
     },
     "execution_count": 36,
     "metadata": {},
     "output_type": "execute_result"
    }
   ],
   "source": [
    "final.shape"
   ]
  },
  {
   "cell_type": "markdown",
   "metadata": {},
   "source": [
    "There we go! We have successfully generated the predictions for the 418 data points in the submission dataset, and we're good to go ahead to submit these predictions on Kaggle. "
   ]
  }
 ],
 "metadata": {
  "anaconda-cloud": {},
  "kernelspec": {
   "display_name": "Python 3",
   "language": "python",
   "name": "python3"
  },
  "language_info": {
   "codemirror_mode": {
    "name": "ipython",
    "version": 3
   },
   "file_extension": ".py",
   "mimetype": "text/x-python",
   "name": "python",
   "nbconvert_exporter": "python",
   "pygments_lexer": "ipython3",
   "version": "3.6.5"
  }
 },
 "nbformat": 4,
 "nbformat_minor": 1
}
