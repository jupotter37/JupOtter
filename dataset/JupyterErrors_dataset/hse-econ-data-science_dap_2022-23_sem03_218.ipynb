{
  "nbformat": 4,
  "nbformat_minor": 0,
  "metadata": {
    "colab": {
      "name": "Untitled37.ipynb",
      "provenance": [],
      "collapsed_sections": []
    },
    "kernelspec": {
      "name": "python3",
      "display_name": "Python 3"
    },
    "language_info": {
      "name": "python"
    }
  },
  "cells": [
    {
      "cell_type": "markdown",
      "source": [
        "# Семенар 3 с группой 218 \n",
        "\n",
        "## Вопросы"
      ],
      "metadata": {
        "id": "3VUKwoT477dF"
      }
    },
    {
      "cell_type": "markdown",
      "source": [
        "### R. Складирование ноутбуков\n",
        "\n",
        "Реши задачу плиз."
      ],
      "metadata": {
        "id": "AtY4urK48qmh"
      }
    },
    {
      "cell_type": "code",
      "source": [
        "w = 100\n",
        "d = 200\n",
        "h = 300\n",
        "\n",
        "w1 = 1\n",
        "d1 = 2\n",
        "h1 = 3\n",
        "\n",
        "v = w * d * h\n",
        "v1 =  w1 * d1 * h1\n",
        "\n",
        "if (w1 > w) or (d1 > d) or (h1 > h):\n",
        "   print(0)\n",
        "else:\n",
        "   print(v // v1)"
      ],
      "metadata": {
        "colab": {
          "base_uri": "https://localhost:8080/"
        },
        "id": "C2FjQoX98m_h",
        "outputId": "53ae2bfe-d280-4ed0-c030-e12d0608d0e1"
      },
      "execution_count": null,
      "outputs": [
        {
          "output_type": "stream",
          "name": "stdout",
          "text": [
            "1000000\n"
          ]
        }
      ]
    },
    {
      "cell_type": "code",
      "source": [
        "w = int(input())\n",
        "d = int(input())\n",
        "h = int(input())\n",
        "\n",
        "w1 = int(input())\n",
        "d1 = int(input())\n",
        "h1 = int(input())\n",
        "\n",
        "d = d1 * (d // d1)\n",
        "w = w1 * (w // w1)\n",
        "h = h1 * (h // h1)\n",
        "\n",
        "v = w * d * h\n",
        "v1 =  w1 * d1 * h1\n",
        "\n",
        "if (w1 > w) or (d1 > d) or (h1 > h):\n",
        "   print(0)\n",
        "else:\n",
        "   print(v // v1)"
      ],
      "metadata": {
        "colab": {
          "base_uri": "https://localhost:8080/"
        },
        "id": "NUcKCLQG78a5",
        "outputId": "693f98f2-f8e4-474d-b913-d39527d8b7a9"
      },
      "execution_count": null,
      "outputs": [
        {
          "output_type": "execute_result",
          "data": {
            "text/plain": [
              "(6, 6, 6)"
            ]
          },
          "metadata": {},
          "execution_count": 13
        }
      ]
    },
    {
      "cell_type": "code",
      "source": [
        "# Коробки же можно вертеть! Давайте напишем N условий с тем что ширины/длины и тд можно менять местами\n",
        "\n",
        "# 300\n",
        "# 3\n",
        "\n",
        "# Ленивая альтернатива: давайте не будем думать а тупо фиганем перебор всех вариантов \n",
        "# Алгоритмы когда фигачат перебор всех вариантов называются жадными"
      ],
      "metadata": {
        "id": "4IrYbi00B3S2"
      },
      "execution_count": null,
      "outputs": []
    },
    {
      "cell_type": "code",
      "source": [
        "from itertools import permutations\n",
        "\n",
        "# Для питона есть два удобных модуля: collections и itertools\n",
        "# в которых лежат всякие вспомогательные ништяки\n",
        "\n",
        "list(permutations([1, 2, 3])) # генерирует все возможные перестанвоки"
      ],
      "metadata": {
        "colab": {
          "base_uri": "https://localhost:8080/"
        },
        "id": "e2JzHs_lCcuJ",
        "outputId": "6e4d24f1-6715-4100-9a77-084dd7b25965"
      },
      "execution_count": null,
      "outputs": [
        {
          "output_type": "execute_result",
          "data": {
            "text/plain": [
              "[(1, 2, 3), (1, 3, 2), (2, 1, 3), (2, 3, 1), (3, 1, 2), (3, 2, 1)]"
            ]
          },
          "metadata": {},
          "execution_count": 32
        }
      ]
    },
    {
      "cell_type": "code",
      "source": [
        "permutations([1, 2, 3]) # тоже генератор как range - обещание выдать нам по очереди все перестановки"
      ],
      "metadata": {
        "colab": {
          "base_uri": "https://localhost:8080/"
        },
        "id": "FIPNRc_3DEVt",
        "outputId": "1027706b-c284-4e6e-c711-4bddeb2af45d"
      },
      "execution_count": null,
      "outputs": [
        {
          "output_type": "execute_result",
          "data": {
            "text/plain": [
              "<itertools.permutations at 0x7fac885cea70>"
            ]
          },
          "metadata": {},
          "execution_count": 33
        }
      ]
    },
    {
      "cell_type": "code",
      "source": [
        "w = int(input())\n",
        "d = int(input())\n",
        "h = int(input())\n",
        "\n",
        "w1 = int(input())\n",
        "d1 = int(input())\n",
        "h1 = int(input())\n",
        "\n",
        "ans = []\n",
        "\n",
        "for w1, d1, h1 in permutations([w1, d1, h1]):\n",
        "    d_cur = d1 * (d // d1)\n",
        "    w_cur = w1 * (w // w1)\n",
        "    h_cur = h1 * (h // h1)\n",
        "\n",
        "    v = w_cur * d_cur * h_cur\n",
        "    v1 =  w1 * d1 * h1\n",
        "    ans.append(v // v1)\n",
        "\n",
        "print(max(ans))"
      ],
      "metadata": {
        "colab": {
          "base_uri": "https://localhost:8080/"
        },
        "id": "3CcvPTNICzf7",
        "outputId": "9d8c3225-9390-445e-f953-5dc6bc5ffb9d"
      },
      "execution_count": null,
      "outputs": [
        {
          "output_type": "stream",
          "name": "stdout",
          "text": [
            "1000000\n"
          ]
        }
      ]
    },
    {
      "cell_type": "markdown",
      "source": [
        "Если хочется сделать оптимально, тогда можно придумать какую-то мудрую систему из условий, которая сделает это без перебора всех вариантов. \n",
        "\n",
        "Автор нефига не придумал и сделал то же самое, что и мы, но только без цикла. "
      ],
      "metadata": {
        "id": "dE7KEbSrEetr"
      }
    },
    {
      "cell_type": "code",
      "source": [
        "a1 = (int)(input())\n",
        "a2 = int(input())\n",
        "a3 = int(input())\n",
        " \n",
        "b1 = int(input())\n",
        "b2 = int(input())\n",
        "b3 = int(input())\n",
        " \n",
        "r1 = (a1//b1)*(a2//b2)*(a3//b3)\n",
        "r2 = (a1//b1)*(a2//b3)*(a3//b2)\n",
        " \n",
        "r3 = (a1//b2)*(a2//b1)*(a3//b3)\n",
        "r4 = (a1//b2)*(a2//b3)*(a3//b1)\n",
        " \n",
        "r5 = (a1//b3)*(a2//b1)*(a3//b2)\n",
        "r6 = (a1//b3)*(a2//b2)*(a3//b1)\n",
        " \n",
        "if (r1>=r2):\n",
        "    m = r1\n",
        "else:\n",
        "    m = r2\n",
        " \n",
        "if (r3>=r4):\n",
        "    m1 = r3\n",
        "else:\n",
        "    m1 = r4\n",
        " \n",
        "if (m>=m1):\n",
        "    m2 = m\n",
        "else:\n",
        "    m2 = m1\n",
        " \n",
        "if (r5>=r6):\n",
        "    m3 = r5\n",
        "else:\n",
        "    m3 = r6\n",
        " \n",
        "if (m2>=m3):\n",
        "    print(m2)\n",
        "else:\n",
        "    print(m3)"
      ],
      "metadata": {
        "colab": {
          "base_uri": "https://localhost:8080/"
        },
        "id": "NU2ureLb_OgL",
        "outputId": "6f56a610-ef41-44a1-e168-898194f6c0fe"
      },
      "execution_count": null,
      "outputs": [
        {
          "output_type": "execute_result",
          "data": {
            "text/plain": [
              "0"
            ]
          },
          "metadata": {},
          "execution_count": 14
        }
      ]
    },
    {
      "cell_type": "markdown",
      "source": [
        "Если хочется начать пользоваться прикольными структурами данных, можно почитать про `itertools` и `collections`\n",
        "\n",
        "- https://docs.python.org/3/library/itertools.html\n",
        "- https://pythonworld.ru/moduli/modul-collections.html"
      ],
      "metadata": {
        "id": "BxN5bt6iFHqc"
      }
    },
    {
      "cell_type": "markdown",
      "source": [
        "# Кортежи и списки\n",
        "\n",
        "Список - изменяемый объект! Я могу применять к нему разные операции, какие мне захочется. "
      ],
      "metadata": {
        "id": "lIhpd9C28HNR"
      }
    },
    {
      "cell_type": "code",
      "source": [
        "a = [1, 2, 3, 4]\n",
        "a[1] = 42\n",
        "a"
      ],
      "metadata": {
        "colab": {
          "base_uri": "https://localhost:8080/"
        },
        "id": "qB7CNOm378gx",
        "outputId": "c4dbb3e6-e8e0-4122-ffdb-099b413adfc6"
      },
      "execution_count": null,
      "outputs": [
        {
          "output_type": "execute_result",
          "data": {
            "text/plain": [
              "[1, 42, 3, 4]"
            ]
          },
          "metadata": {},
          "execution_count": 23
        }
      ]
    },
    {
      "cell_type": "code",
      "source": [
        "a.append(-20)\n",
        "a"
      ],
      "metadata": {
        "colab": {
          "base_uri": "https://localhost:8080/"
        },
        "id": "zVNB0SRSBTOg",
        "outputId": "45ed941b-7294-4669-f316-58ea054ef25b"
      },
      "execution_count": null,
      "outputs": [
        {
          "output_type": "execute_result",
          "data": {
            "text/plain": [
              "[1, 42, 3, 4, -20]"
            ]
          },
          "metadata": {},
          "execution_count": 24
        }
      ]
    },
    {
      "cell_type": "code",
      "source": [
        "a.sort()\n",
        "a"
      ],
      "metadata": {
        "colab": {
          "base_uri": "https://localhost:8080/"
        },
        "id": "kq5Vvsb0Bc5Q",
        "outputId": "0612c1b9-3609-405f-bd45-e79667bc1599"
      },
      "execution_count": null,
      "outputs": [
        {
          "output_type": "execute_result",
          "data": {
            "text/plain": [
              "[-20, 1, 3, 4, 42]"
            ]
          },
          "metadata": {},
          "execution_count": 25
        }
      ]
    },
    {
      "cell_type": "markdown",
      "source": [
        "Кортеж - неизменяемые аналоги списков"
      ],
      "metadata": {
        "id": "qR5KHucTBktI"
      }
    },
    {
      "cell_type": "code",
      "source": [
        "a = (1, 2, 3, 4)\n",
        "a[1] = 42"
      ],
      "metadata": {
        "colab": {
          "base_uri": "https://localhost:8080/",
          "height": 193
        },
        "id": "JIEDGPNuBkBw",
        "outputId": "3d3ca0ca-3738-460d-957a-90b5383aa74a"
      },
      "execution_count": null,
      "outputs": [
        {
          "output_type": "error",
          "ename": "TypeError",
          "evalue": "ignored",
          "traceback": [
            "\u001b[0;31m---------------------------------------------------------------------------\u001b[0m",
            "\u001b[0;31mTypeError\u001b[0m                                 Traceback (most recent call last)",
            "\u001b[0;32m<ipython-input-26-3ae04b41f0d3>\u001b[0m in \u001b[0;36m<module>\u001b[0;34m()\u001b[0m\n\u001b[1;32m      1\u001b[0m \u001b[0ma\u001b[0m \u001b[0;34m=\u001b[0m \u001b[0;34m(\u001b[0m\u001b[0;36m1\u001b[0m\u001b[0;34m,\u001b[0m \u001b[0;36m2\u001b[0m\u001b[0;34m,\u001b[0m \u001b[0;36m3\u001b[0m\u001b[0;34m,\u001b[0m \u001b[0;36m4\u001b[0m\u001b[0;34m)\u001b[0m\u001b[0;34m\u001b[0m\u001b[0;34m\u001b[0m\u001b[0m\n\u001b[0;32m----> 2\u001b[0;31m \u001b[0ma\u001b[0m\u001b[0;34m[\u001b[0m\u001b[0;36m1\u001b[0m\u001b[0;34m]\u001b[0m \u001b[0;34m=\u001b[0m \u001b[0;36m42\u001b[0m\u001b[0;34m\u001b[0m\u001b[0;34m\u001b[0m\u001b[0m\n\u001b[0m",
            "\u001b[0;31mTypeError\u001b[0m: 'tuple' object does not support item assignment"
          ]
        }
      ]
    },
    {
      "cell_type": "markdown",
      "source": [
        "# Как работает память в питоне?"
      ],
      "metadata": {
        "id": "pNSCuj9oFdwK"
      }
    },
    {
      "cell_type": "code",
      "source": [
        "x = 5"
      ],
      "metadata": {
        "id": "9FDEWntKFjmu"
      },
      "execution_count": null,
      "outputs": []
    },
    {
      "cell_type": "code",
      "source": [
        "id(x) # питон укажи мне номер ячейки в паяти где лежит переменная"
      ],
      "metadata": {
        "colab": {
          "base_uri": "https://localhost:8080/"
        },
        "id": "dDzpcRpKFjtS",
        "outputId": "1162f38c-7055-4b20-c021-afdab50d8d49"
      },
      "execution_count": null,
      "outputs": [
        {
          "output_type": "execute_result",
          "data": {
            "text/plain": [
              "94117507811968"
            ]
          },
          "metadata": {},
          "execution_count": 40
        }
      ]
    },
    {
      "cell_type": "code",
      "source": [
        "b = x\n",
        "b"
      ],
      "metadata": {
        "colab": {
          "base_uri": "https://localhost:8080/"
        },
        "id": "CrltfNSqBWL_",
        "outputId": "f8ef9075-910f-4deb-c700-fbb8a9185354"
      },
      "execution_count": null,
      "outputs": [
        {
          "output_type": "execute_result",
          "data": {
            "text/plain": [
              "5"
            ]
          },
          "metadata": {},
          "execution_count": 41
        }
      ]
    },
    {
      "cell_type": "code",
      "source": [
        "# Внимание вопрос: что выведет следующий код? \n",
        "b = 42\n",
        "print(x)"
      ],
      "metadata": {
        "colab": {
          "base_uri": "https://localhost:8080/"
        },
        "id": "idRJ_lm1Frfh",
        "outputId": "e6db4cdf-0d34-4e5e-a623-0a3dfa1e43c4"
      },
      "execution_count": null,
      "outputs": [
        {
          "output_type": "stream",
          "name": "stdout",
          "text": [
            "5\n"
          ]
        }
      ]
    },
    {
      "cell_type": "code",
      "source": [
        "# Так произошло потому что число неизменяемый объект\n",
        "\n",
        "id(b) # тут питон скопировал x в b"
      ],
      "metadata": {
        "colab": {
          "base_uri": "https://localhost:8080/"
        },
        "id": "52V1GgakF0xL",
        "outputId": "6afcc109-485e-48ae-bf99-c9acf1e1e342"
      },
      "execution_count": null,
      "outputs": [
        {
          "output_type": "execute_result",
          "data": {
            "text/plain": [
              "94117507813152"
            ]
          },
          "metadata": {},
          "execution_count": 43
        }
      ]
    },
    {
      "cell_type": "code",
      "source": [
        "x = [1, 2, 3]\n",
        "id(x)"
      ],
      "metadata": {
        "colab": {
          "base_uri": "https://localhost:8080/"
        },
        "id": "7O5279JWF6M5",
        "outputId": "694c2ac1-745d-401a-bab3-7e977f015845"
      },
      "execution_count": null,
      "outputs": [
        {
          "output_type": "execute_result",
          "data": {
            "text/plain": [
              "140378998200032"
            ]
          },
          "metadata": {},
          "execution_count": 44
        }
      ]
    },
    {
      "cell_type": "code",
      "source": [
        "b = x\n",
        "b[1] = 42\n",
        "x"
      ],
      "metadata": {
        "colab": {
          "base_uri": "https://localhost:8080/"
        },
        "id": "Hy24ir42F-AT",
        "outputId": "167dcde8-c78e-4271-a817-75ab351a5ab4"
      },
      "execution_count": null,
      "outputs": [
        {
          "output_type": "execute_result",
          "data": {
            "text/plain": [
              "[1, 42, 3]"
            ]
          },
          "metadata": {},
          "execution_count": 45
        }
      ]
    },
    {
      "cell_type": "code",
      "source": [
        "# Если объект в питоне изменяемый, то он не скопируется сам\n",
        "# У нас создастся сноска на ячейку в памяти где лежит этот объект\n",
        "# И по обеим переменным мы будем получать доступ к одной и той же ячейке\n",
        "\n",
        "id(b)"
      ],
      "metadata": {
        "colab": {
          "base_uri": "https://localhost:8080/"
        },
        "id": "xPRZPitcF-Dd",
        "outputId": "c1d493d4-1284-4594-e01b-61985594c10a"
      },
      "execution_count": null,
      "outputs": [
        {
          "output_type": "execute_result",
          "data": {
            "text/plain": [
              "140378998200032"
            ]
          },
          "metadata": {},
          "execution_count": 46
        }
      ]
    },
    {
      "cell_type": "code",
      "source": [
        "del b"
      ],
      "metadata": {
        "id": "MV5St7jcGNAp"
      },
      "execution_count": null,
      "outputs": []
    },
    {
      "cell_type": "code",
      "source": [
        "id(b)"
      ],
      "metadata": {
        "colab": {
          "base_uri": "https://localhost:8080/",
          "height": 174
        },
        "id": "2JkT_kAyGuk_",
        "outputId": "87c5ca1a-547a-4420-cbc4-5fe708163376"
      },
      "execution_count": null,
      "outputs": [
        {
          "output_type": "error",
          "ename": "NameError",
          "evalue": "ignored",
          "traceback": [
            "\u001b[0;31m---------------------------------------------------------------------------\u001b[0m",
            "\u001b[0;31mNameError\u001b[0m                                 Traceback (most recent call last)",
            "\u001b[0;32m<ipython-input-48-29e839ce9351>\u001b[0m in \u001b[0;36m<module>\u001b[0;34m()\u001b[0m\n\u001b[0;32m----> 1\u001b[0;31m \u001b[0mid\u001b[0m\u001b[0;34m(\u001b[0m\u001b[0mb\u001b[0m\u001b[0;34m)\u001b[0m\u001b[0;34m\u001b[0m\u001b[0;34m\u001b[0m\u001b[0m\n\u001b[0m",
            "\u001b[0;31mNameError\u001b[0m: name 'b' is not defined"
          ]
        }
      ]
    },
    {
      "cell_type": "code",
      "source": [
        "id(x)"
      ],
      "metadata": {
        "colab": {
          "base_uri": "https://localhost:8080/"
        },
        "id": "230kOig-G1Fe",
        "outputId": "896b420b-9344-4bae-8546-5cf6a23804fa"
      },
      "execution_count": null,
      "outputs": [
        {
          "output_type": "execute_result",
          "data": {
            "text/plain": [
              "140378998200032"
            ]
          },
          "metadata": {},
          "execution_count": 49
        }
      ]
    },
    {
      "cell_type": "code",
      "source": [
        "x = 55\n",
        "id(x)"
      ],
      "metadata": {
        "colab": {
          "base_uri": "https://localhost:8080/"
        },
        "id": "c3guzgCLGv7t",
        "outputId": "91f36f6e-baf9-403c-80d6-ac8aeb7ad89b"
      },
      "execution_count": null,
      "outputs": [
        {
          "output_type": "execute_result",
          "data": {
            "text/plain": [
              "94117507813568"
            ]
          },
          "metadata": {},
          "execution_count": 50
        }
      ]
    },
    {
      "cell_type": "markdown",
      "source": [
        "А что делать, если я хочу скопировать лист, а не создать еще одну переменную которая ведет туда же, куда и исходная? "
      ],
      "metadata": {
        "id": "_H1lf7wDHj6T"
      }
    },
    {
      "cell_type": "code",
      "source": [
        "x = [4, 3, 2, 41]\n",
        "id(x)"
      ],
      "metadata": {
        "colab": {
          "base_uri": "https://localhost:8080/"
        },
        "id": "YLGSqRzsHsTC",
        "outputId": "e32f56cf-460d-4587-e886-266fc22125c5"
      },
      "execution_count": null,
      "outputs": [
        {
          "output_type": "execute_result",
          "data": {
            "text/plain": [
              "140378998821904"
            ]
          },
          "metadata": {},
          "execution_count": 51
        }
      ]
    },
    {
      "cell_type": "code",
      "source": [
        "b = x\n",
        "id(b)"
      ],
      "metadata": {
        "colab": {
          "base_uri": "https://localhost:8080/"
        },
        "id": "i4dXmfR7HsVg",
        "outputId": "f07e2bb7-d898-49c2-bbf2-02438bc589cc"
      },
      "execution_count": null,
      "outputs": [
        {
          "output_type": "execute_result",
          "data": {
            "text/plain": [
              "140378998821904"
            ]
          },
          "metadata": {},
          "execution_count": 52
        }
      ]
    },
    {
      "cell_type": "code",
      "source": [
        "a = x.copy()\n",
        "id(a)"
      ],
      "metadata": {
        "colab": {
          "base_uri": "https://localhost:8080/"
        },
        "id": "YNi0Kx78HyJg",
        "outputId": "5f021eb2-f170-4b06-890a-53a02ffa5c96"
      },
      "execution_count": null,
      "outputs": [
        {
          "output_type": "execute_result",
          "data": {
            "text/plain": [
              "140378998834912"
            ]
          },
          "metadata": {},
          "execution_count": 53
        }
      ]
    },
    {
      "cell_type": "code",
      "source": [
        "a[1] = 5555\n",
        "a"
      ],
      "metadata": {
        "colab": {
          "base_uri": "https://localhost:8080/"
        },
        "id": "LtktkBSeHyM1",
        "outputId": "98de7823-e628-453b-f843-3f51a2ddce6b"
      },
      "execution_count": null,
      "outputs": [
        {
          "output_type": "execute_result",
          "data": {
            "text/plain": [
              "[4, 5555, 2, 41]"
            ]
          },
          "metadata": {},
          "execution_count": 54
        }
      ]
    },
    {
      "cell_type": "code",
      "source": [
        "x"
      ],
      "metadata": {
        "colab": {
          "base_uri": "https://localhost:8080/"
        },
        "id": "ewnhiUfKH3dT",
        "outputId": "d37363e9-69ed-4b92-e67a-943669f0a4b5"
      },
      "execution_count": null,
      "outputs": [
        {
          "output_type": "execute_result",
          "data": {
            "text/plain": [
              "[4, 3, 2, 41]"
            ]
          },
          "metadata": {},
          "execution_count": 55
        }
      ]
    },
    {
      "cell_type": "markdown",
      "source": [
        "Разгадаем ещё один ребус!"
      ],
      "metadata": {
        "id": "xyV1kVXZH6gZ"
      }
    },
    {
      "cell_type": "code",
      "source": [
        "x = [1, 42, 555, [34, 8, 21], 77, 33]\n",
        "x"
      ],
      "metadata": {
        "colab": {
          "base_uri": "https://localhost:8080/"
        },
        "id": "6AF-bkPEH5-E",
        "outputId": "5a02585f-0702-4b04-ca89-e86968a207bc"
      },
      "execution_count": null,
      "outputs": [
        {
          "output_type": "execute_result",
          "data": {
            "text/plain": [
              "[1, 42, 555, [34, 8, 21], 77, 33]"
            ]
          },
          "metadata": {},
          "execution_count": 71
        }
      ]
    },
    {
      "cell_type": "code",
      "source": [
        "b = x.copy()\n",
        "b[3][1] = 'ахаххахахаха'\n",
        "b"
      ],
      "metadata": {
        "colab": {
          "base_uri": "https://localhost:8080/"
        },
        "id": "QBXbMwq-IBlV",
        "outputId": "f7369740-e4ea-4a28-a2b7-eba068264efa"
      },
      "execution_count": null,
      "outputs": [
        {
          "output_type": "execute_result",
          "data": {
            "text/plain": [
              "[1, 42, 555, [34, 'ахаххахахаха', 21], 77, 33]"
            ]
          },
          "metadata": {},
          "execution_count": 72
        }
      ]
    },
    {
      "cell_type": "code",
      "source": [
        "x"
      ],
      "metadata": {
        "colab": {
          "base_uri": "https://localhost:8080/"
        },
        "id": "cIpa4Q5FIBny",
        "outputId": "cab0a576-327e-4f6a-f1ac-22b04f864a3e"
      },
      "execution_count": null,
      "outputs": [
        {
          "output_type": "execute_result",
          "data": {
            "text/plain": [
              "[1, 42, 555, [34, 'ахаххахахаха', 21], 77, 33]"
            ]
          },
          "metadata": {},
          "execution_count": 73
        }
      ]
    },
    {
      "cell_type": "code",
      "source": [
        "id(b)"
      ],
      "metadata": {
        "colab": {
          "base_uri": "https://localhost:8080/"
        },
        "id": "-6x_BWS0IBp7",
        "outputId": "86d312bc-8549-4f52-8c50-a8c3f0611afd"
      },
      "execution_count": null,
      "outputs": [
        {
          "output_type": "execute_result",
          "data": {
            "text/plain": [
              "140378998389728"
            ]
          },
          "metadata": {},
          "execution_count": 74
        }
      ]
    },
    {
      "cell_type": "code",
      "source": [
        "id(x)"
      ],
      "metadata": {
        "colab": {
          "base_uri": "https://localhost:8080/"
        },
        "id": "xgbSiGkYILEr",
        "outputId": "a8590509-6b54-4885-8441-f9f86fe6121e"
      },
      "execution_count": null,
      "outputs": [
        {
          "output_type": "execute_result",
          "data": {
            "text/plain": [
              "140378998212720"
            ]
          },
          "metadata": {},
          "execution_count": 75
        }
      ]
    },
    {
      "cell_type": "markdown",
      "source": [
        "Какого чёрта так случилось?! "
      ],
      "metadata": {
        "id": "uURp9CESINn4"
      }
    },
    {
      "cell_type": "code",
      "source": [
        "zip(x, b) # сшивает массивы вместе"
      ],
      "metadata": {
        "colab": {
          "base_uri": "https://localhost:8080/"
        },
        "id": "lbVQlERcIdbh",
        "outputId": "b1429a14-ef48-4c5c-877b-9cdb67ae8d04"
      },
      "execution_count": null,
      "outputs": [
        {
          "output_type": "execute_result",
          "data": {
            "text/plain": [
              "<zip at 0x7fac8852fbe0>"
            ]
          },
          "metadata": {},
          "execution_count": 76
        }
      ]
    },
    {
      "cell_type": "code",
      "source": [
        "# Получается что zip делает список из кортежей\n",
        "# На первом месте в каждом кортеже стоит элемент первого массива\n",
        "# А на втором месте элемент второго массива\n",
        "\n",
        "list(zip(x, b))"
      ],
      "metadata": {
        "colab": {
          "base_uri": "https://localhost:8080/"
        },
        "id": "0kYjulUeIhUr",
        "outputId": "d0e8841d-a562-4de1-98d9-078a31ac998a"
      },
      "execution_count": null,
      "outputs": [
        {
          "output_type": "execute_result",
          "data": {
            "text/plain": [
              "[(1, 1),\n",
              " (42, 42),\n",
              " (555, 555),\n",
              " ([34, 'ахаххахахаха', 21], [34, 'ахаххахахаха', 21]),\n",
              " (77, 77),\n",
              " (33, 33)]"
            ]
          },
          "metadata": {},
          "execution_count": 77
        }
      ]
    },
    {
      "cell_type": "code",
      "source": [
        "for i,j in zip(x, b):\n",
        "    print(id(i) == id(j))"
      ],
      "metadata": {
        "colab": {
          "base_uri": "https://localhost:8080/"
        },
        "id": "t1iGHZS7ILHC",
        "outputId": "fd3e878d-e2a8-44bb-d6ca-f0b09433ade9"
      },
      "execution_count": null,
      "outputs": [
        {
          "output_type": "stream",
          "name": "stdout",
          "text": [
            "True\n",
            "True\n",
            "True\n",
            "True\n",
            "True\n",
            "True\n"
          ]
        }
      ]
    },
    {
      "cell_type": "markdown",
      "source": [
        "Все id одинаковые! Получается, что массив который живет внутри x и внутри b -- это один и тот же массив :( "
      ],
      "metadata": {
        "id": "wpBzfNOdI13c"
      }
    },
    {
      "cell_type": "code",
      "source": [
        "from copy import deepcopy\n",
        "\n",
        "# Пакет позволяет снять глубокую копию \n",
        "# с нашего объекта на всех уровнях :) \n",
        "\n",
        "x = [1, 42, 555, [34, 8, 21], 77, 33]\n",
        "b = deepcopy(x)"
      ],
      "metadata": {
        "id": "YMZopwN_I1bW"
      },
      "execution_count": null,
      "outputs": []
    },
    {
      "cell_type": "code",
      "source": [
        "b[3][1] = 'ахаххахахаха'\n",
        "b"
      ],
      "metadata": {
        "colab": {
          "base_uri": "https://localhost:8080/"
        },
        "id": "7trQ73I1IQUv",
        "outputId": "86bb7587-049c-4355-d4ee-1c2adb974306"
      },
      "execution_count": null,
      "outputs": [
        {
          "output_type": "execute_result",
          "data": {
            "text/plain": [
              "[1, 42, 555, [34, 'ахаххахахаха', 21], 77, 33]"
            ]
          },
          "metadata": {},
          "execution_count": 66
        }
      ]
    },
    {
      "cell_type": "code",
      "source": [
        "x"
      ],
      "metadata": {
        "colab": {
          "base_uri": "https://localhost:8080/"
        },
        "id": "PbXKsZPBIQXP",
        "outputId": "229e6e19-8f24-40d0-a928-f6beff34230a"
      },
      "execution_count": null,
      "outputs": [
        {
          "output_type": "execute_result",
          "data": {
            "text/plain": [
              "[1, 42, 555, [34, 8, 21], 77, 33]"
            ]
          },
          "metadata": {},
          "execution_count": 67
        }
      ]
    },
    {
      "cell_type": "code",
      "source": [
        "for i,j in zip(x, b):\n",
        "    print(id(i) == id(j))"
      ],
      "metadata": {
        "colab": {
          "base_uri": "https://localhost:8080/"
        },
        "id": "EgwJ_jACIQZU",
        "outputId": "0c2a8b3a-0868-4fc7-dbe4-a96ae7614671"
      },
      "execution_count": null,
      "outputs": [
        {
          "output_type": "stream",
          "name": "stdout",
          "text": [
            "True\n",
            "True\n",
            "True\n",
            "False\n",
            "True\n",
            "True\n"
          ]
        }
      ]
    },
    {
      "cell_type": "markdown",
      "source": [
        "# Пара задачек на строки\n",
        "\n",
        "__Задача №1: Строка-палиндром__\n",
        "\n",
        "Дана строка, нужно проверить является ли она палиндромом. Строка является палиндромом, если одинаково читается в обоих направлениях (слева направо и справа налево). Для простоты будем считать, что знаков препинания в строке нет.\n",
        "\n",
        "Пример палиндрома: `'Murder for a jar of red rum'`"
      ],
      "metadata": {
        "id": "29LdhkzPJz6L"
      }
    },
    {
      "cell_type": "code",
      "source": [
        "x = 'Murder for a jar of red rum'\n",
        "x = x.lower()\n",
        "\n",
        "#x = ''.join(x.split(' '))\n",
        "x = x.replace(' ', '')\n",
        "x"
      ],
      "metadata": {
        "colab": {
          "base_uri": "https://localhost:8080/",
          "height": 36
        },
        "id": "yBZwWXEiHV_l",
        "outputId": "02b891c7-3302-44f9-d587-45933a9ed04a"
      },
      "execution_count": null,
      "outputs": [
        {
          "output_type": "execute_result",
          "data": {
            "text/plain": [
              "'murderforajarofredrum'"
            ],
            "application/vnd.google.colaboratory.intrinsic+json": {
              "type": "string"
            }
          },
          "metadata": {},
          "execution_count": 98
        }
      ]
    },
    {
      "cell_type": "code",
      "source": [
        "x[::-1]"
      ],
      "metadata": {
        "colab": {
          "base_uri": "https://localhost:8080/",
          "height": 36
        },
        "id": "Mrz4EQShKF7J",
        "outputId": "aaf7271c-2d92-4257-8926-12bfd66b4142"
      },
      "execution_count": null,
      "outputs": [
        {
          "output_type": "execute_result",
          "data": {
            "text/plain": [
              "'murderforajarofredrum'"
            ],
            "application/vnd.google.colaboratory.intrinsic+json": {
              "type": "string"
            }
          },
          "metadata": {},
          "execution_count": 99
        }
      ]
    },
    {
      "cell_type": "code",
      "source": [
        "x[::-1] == x"
      ],
      "metadata": {
        "colab": {
          "base_uri": "https://localhost:8080/"
        },
        "id": "iwajM2oCKhKu",
        "outputId": "09c900cd-ec8b-4c66-e748-bafb653a44aa"
      },
      "execution_count": null,
      "outputs": [
        {
          "output_type": "execute_result",
          "data": {
            "text/plain": [
              "True"
            ]
          },
          "metadata": {},
          "execution_count": 100
        }
      ]
    },
    {
      "cell_type": "markdown",
      "source": [
        "__Вопрос на засыпку:__ что в этом коде неоптимально и как это исправить? "
      ],
      "metadata": {
        "id": "1buXBA2KK75A"
      }
    },
    {
      "cell_type": "code",
      "source": [
        "# Неоптимально то что мы сравниваем в строке все элементы, а могли бы сравнивать только до серидины до 1 совпадения\n",
        "\n",
        "x = 'Murder for a jar of red rum'\n",
        "x = x.lower()\n",
        "x = x.replace(' ', '')\n",
        "n = len(x)\n",
        "\n",
        "for i in range(n//2):\n",
        "    ..."
      ],
      "metadata": {
        "id": "KHVW1m71LDBs"
      },
      "execution_count": null,
      "outputs": []
    },
    {
      "cell_type": "markdown",
      "source": [
        "__Задача №2: Середина предложения__\n",
        "\n",
        "Дано предложение, нужно найти слово посередине. Для простоты будем считать, что знаков препинания в строке нет.\n",
        "\n",
        "Пример: `'Luke I am your father'  am`"
      ],
      "metadata": {
        "id": "W3xyZOFqJ86_"
      }
    },
    {
      "cell_type": "code",
      "source": [
        ""
      ],
      "metadata": {
        "id": "Sm8-eRaFHWHp"
      },
      "execution_count": null,
      "outputs": []
    },
    {
      "cell_type": "markdown",
      "source": [
        "__Задача №3: Удаление гласных__\n",
        "\n",
        "Дана строка, нужно удалить все гласные из этой строки"
      ],
      "metadata": {
        "id": "hnmIX6ahKCNX"
      }
    },
    {
      "cell_type": "code",
      "source": [
        ""
      ],
      "metadata": {
        "id": "jEcNM1N5HWLA"
      },
      "execution_count": null,
      "outputs": []
    },
    {
      "cell_type": "code",
      "source": [
        ""
      ],
      "metadata": {
        "id": "rFElGycPHWOU"
      },
      "execution_count": null,
      "outputs": []
    },
    {
      "cell_type": "code",
      "source": [
        ""
      ],
      "metadata": {
        "id": "MtTq9ce0G2F0"
      },
      "execution_count": null,
      "outputs": []
    }
  ]
}