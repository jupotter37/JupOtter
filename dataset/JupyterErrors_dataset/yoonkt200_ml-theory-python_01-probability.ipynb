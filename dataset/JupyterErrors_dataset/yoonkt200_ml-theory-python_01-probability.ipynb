{
 "cells": [
  {
   "cell_type": "markdown",
   "metadata": {
    "collapsed": true,
    "pycharm": {
     "is_executing": false,
     "name": "#%% md\n"
    }
   },
   "source": [
    "# Probability\n",
    "----\n",
    "\n",
    "### Set (집합)\n",
    "- Set is a group of distinguishable objects like in python.\n",
    "- The relationship between element x and set A containing that element is generally expressed as below.\n",
    "\n",
    "$$ x \\in A $$\n",
    "\n",
    "- Note : Python's set is mutable variable, frozenset is immutable variable."
   ]
  },
  {
   "cell_type": "code",
   "execution_count": 2,
   "metadata": {
    "pycharm": {
     "is_executing": false,
     "name": "#%%\n"
    }
   },
   "outputs": [],
   "source": [
    "A1 = set([1,2,3,4])\n",
    "A2 = set([2,3,4,5])\n",
    "A3 = set([5,6,7,8])"
   ]
  },
  {
   "cell_type": "code",
   "execution_count": 3,
   "metadata": {
    "pycharm": {
     "is_executing": false,
     "name": "#%%\n"
    }
   },
   "outputs": [
    {
     "data": {
      "text/plain": [
       "{1, 2, 3, 4, 5}"
      ]
     },
     "execution_count": 3,
     "metadata": {},
     "output_type": "execute_result"
    }
   ],
   "source": [
    "A1.union(A2)"
   ]
  },
  {
   "cell_type": "code",
   "execution_count": 5,
   "metadata": {
    "pycharm": {
     "is_executing": false,
     "name": "#%%\n"
    }
   },
   "outputs": [
    {
     "data": {
      "text/plain": [
       "{2, 3, 4}"
      ]
     },
     "execution_count": 5,
     "metadata": {},
     "output_type": "execute_result"
    }
   ],
   "source": [
    "A1.intersection(A2)"
   ]
  },
  {
   "cell_type": "markdown",
   "metadata": {
    "pycharm": {
     "name": "#%% md\n"
    }
   },
   "source": [
    "----\n",
    "### Immutable vs Mutable\n",
    "- Mutable variable can't be use hashable (key of dictionary or element of set)"
   ]
  },
  {
   "cell_type": "code",
   "execution_count": 6,
   "metadata": {
    "pycharm": {
     "is_executing": false,
     "name": "#%%\n"
    }
   },
   "outputs": [],
   "source": [
    "A1 = set([1,2,3,4])\n",
    "A2 = frozenset([3,4,5,6])"
   ]
  },
  {
   "cell_type": "code",
   "execution_count": 10,
   "metadata": {
    "pycharm": {
     "is_executing": false,
     "name": "#%%\n"
    }
   },
   "outputs": [
    {
     "ename": "TypeError",
     "evalue": "unhashable type: 'set'",
     "output_type": "error",
     "traceback": [
      "\u001b[0;31m---------------------------------------------------------------------------\u001b[0m",
      "\u001b[0;31mTypeError\u001b[0m                                 Traceback (most recent call last)",
      "\u001b[0;32m<ipython-input-10-a8f3919e0359>\u001b[0m in \u001b[0;36m<module>\u001b[0;34m\u001b[0m\n\u001b[0;32m----> 1\u001b[0;31m \u001b[0mpython_dict\u001b[0m \u001b[0;34m=\u001b[0m \u001b[0;34m{\u001b[0m\u001b[0mA1\u001b[0m\u001b[0;34m:\u001b[0m \u001b[0mA2\u001b[0m\u001b[0;34m}\u001b[0m\u001b[0;34m\u001b[0m\u001b[0;34m\u001b[0m\u001b[0m\n\u001b[0m",
      "\u001b[0;31mTypeError\u001b[0m: unhashable type: 'set'"
     ]
    }
   ],
   "source": [
    "python_dict = {A1: A2}"
   ]
  },
  {
   "cell_type": "code",
   "execution_count": 11,
   "metadata": {
    "pycharm": {
     "is_executing": false,
     "name": "#%%\n"
    }
   },
   "outputs": [],
   "source": [
    "python_dict = {A2: A1}"
   ]
  },
  {
   "cell_type": "code",
   "execution_count": 13,
   "metadata": {
    "pycharm": {
     "is_executing": false,
     "name": "#%% \n"
    }
   },
   "outputs": [
    {
     "data": {
      "text/plain": [
       "{1, 2, 3, 4}"
      ]
     },
     "execution_count": 13,
     "metadata": {},
     "output_type": "execute_result"
    }
   ],
   "source": [
    "python_dict[frozenset([3,4,5,6])]"
   ]
  },
  {
   "cell_type": "markdown",
   "metadata": {
    "pycharm": {
     "name": "#%% md\n"
    }
   },
   "source": [
    "----\n",
    "### Components of Probability\n",
    "- `Probabilistic Sample (=Random Sample) or Sample` : One case or phenomenon realize in probabilistical problem. \n",
    "- `Sample Space` : Set of all possible samples. Usually expressed as below.\n",
    "\n",
    "$$ Sample Space : \\Omega $$\n",
    "\n",
    "- `Random Variable` : A function that maps outcomes to numerical quantities. \n",
    "    - e.g. dice game : There is a sample space of dice game, S = {1,2,3,4,5,6}. Then `random variable` is `The number that appears when you roll a dice` like below.\n",
    "\n",
    "$$ P(X=1) = 1/6, P(X=2) = 1/6... $$\n",
    "\n",
    "$$ f(x=n) \\to numerical output $$  \n",
    "\n",
    "- So, {1,2,3,4,5,6} is `Random Variable`.\n",
    "- Defining the sample space is determine which samples are possible or not to the range we consider.\n",
    "- For example, when we playing the coin toss game, the sample space is below.\n",
    "\n",
    " $$ \\Omega = \\{H, T\\}$$\n",
    " "
   ]
  },
  {
   "cell_type": "code",
   "execution_count": 14,
   "metadata": {
    "pycharm": {
     "is_executing": false,
     "name": "#%% \n"
    }
   },
   "outputs": [
    {
     "data": {
      "text/plain": [
       "{frozenset(), frozenset({'H'}), frozenset({'T'}), frozenset({'H', 'T'})}"
      ]
     },
     "execution_count": 14,
     "metadata": {},
     "output_type": "execute_result"
    }
   ],
   "source": [
    "# the set of subset in coin toss game\n",
    "A = frozenset([])\n",
    "B = frozenset(['H'])\n",
    "C = frozenset(['T'])\n",
    "D = frozenset(['H', 'T'])\n",
    "set([A,B,C,D])"
   ]
  },
  {
   "cell_type": "markdown",
   "metadata": {
    "pycharm": {
     "name": "#%% md\n"
    }
   },
   "source": [
    "----\n",
    "### Probability\n",
    "- A likelihood of an event of random variable to be occured.\n",
    "- Sum of p for all possible disjoint events are 1.\n",
    "- Probability is a function. And this function has 3 rules : \n",
    "    - def(input: event or subset), return (output: likelihood of an event)\n",
    "    - 3 rules\n",
    "\n",
    "$$ P(subset) = P(A) >= 0 $$\n",
    "\n",
    "$$ P(\\Omega) = 1 $$\n",
    "\n",
    "$$ A \\cap\\ B = \\Phi  \\to  P(A \\cup\\ B) = P(A) + P(B) $$\n",
    "\n",
    "----"
   ]
  },
  {
   "cell_type": "markdown",
   "metadata": {
    "pycharm": {
     "name": "#%% md\n"
    }
   },
   "source": [
    "### PDF (Probability Distribution Function)\n",
    "\n",
    "- `Probability Distribution`\n",
    "    - Information describing the degree of probability assigned to an event(or subset)\n",
    "- `probability mass function`\n",
    "    - If the event has finite case, defining probability of each simple event is `probability mass function`. Commonly express as lower case of p.\n",
    "    - So, we can calculate probability of every events.\n",
    "\n",
    "$$ p(a) = P(\\{a\\}) $$\n",
    "\n",
    "- `When the number of samples is infinite`\n",
    "    - On the other hand, If the event has infinite case, we must have to assign probability to events.\n",
    "    \n",
    "- `Section`\n",
    "    - Generally, express as $P(a,b)$. \n",
    "\n",
    "$$ A = \\{a<x<=b\\} $$\n",
    "\n",
    "$$ P(A) = P(\\{a<x<=b\\}) = P(a,b) $$\n",
    "\n",
    "- `Cumulative Distribution Function`\n",
    "    - To use only one number to express probability, set the point of section's start to infinite.\n",
    "    - It calls CDF.\n",
    "- `Probability Density Function`\n",
    "    - Intuitive understanding of probability, Divide the probability of a specific section by a small width (Concept of Derivative)\n",
    "    - However, it (f`($x_i$)) does not mean the actual probability.\n",
    "    - Generally, PDF written as p(x). And there are some equations (F(x) is CDF, and u is not a probability).\n",
    "    \n",
    "$$ p(x) = \\frac{dF(x)}{dx} $$  \n",
    "\n",
    "$$ F(x) = \\int_{-\\inf}^{x} p(u) du $$\n",
    "\n",
    "$$ \\int_{-\\inf}^{\\inf} p(u) du = 1 $$\n",
    "\n",
    "----\n",
    "### Joint Probability, Conditional Probability\n",
    "\n",
    "- Joint Probability : Probability of a and b occurring simultaneously.\n",
    "    - $ P(A \\cap B) or P(A,B)$\n",
    "- Marginal Probability : Probability of individual events not combined.\n",
    "    - $ P(A), P(B)...$\n",
    "- Conditional Probability : Probability of event A if event B is true.\n",
    "    - $ P(A|B) $\n",
    "    - $ P(A|B) = \\frac{P(A,B)}{P(B)} $\n",
    "    - If A and B are independent, $ P(A,B) = P(A)*P(B) $\n",
    "    \n",
    "----\n",
    "### Bayes' theorem\n",
    "\n",
    "Bayes' theorem is the formula of getting A's conditional probability when we have data B.\n",
    "\n",
    "- Probability value before data is given, updated by new data.\n",
    "- It is very useful if we already have predictive probability of A, or data is too small to analysis.\n",
    "\n",
    "$$ bayes' theorem : P(A|B) = \\frac{P(B|A)P(A)}{P(B)} $$\n",
    "\n",
    "- P(A) : `prior probability` (Normally calls prior). Probability of event A before occur B.\n",
    "- If B is occurs, P(A) transform to P(A|B). P(A|B) calls `posterior`.\n",
    "- posterior derive from $ prior * \\frac{P(B|A)}{P(B)} $\n",
    "- P(B|A) calls `likelihood` and P(B) calls `evidence`\n",
    "\n",
    "----\n",
    "### Transform Random Variable\n",
    "\n",
    "Data analysis using probability, random variable is follow this steps\n",
    "\n",
    "- 1. Data sampling\n",
    "- 2. Assume the data is some population's (or some function's) random variable output(=sampled data).\n",
    "- 3. Define the pdf of random variable.\n",
    "- 4. Analysis or Predict some problem by defined pdf and defined random variable.\n",
    "\n",
    "In normal situation, The first thing we have to do is getting descriptive statistics. and then we find pdf and random variable based on descriptive statistics.\n",
    "\n",
    "#### Expectation\n",
    "\n",
    "Expectation of $ p * x $ is written as $ E(X) $. Expectation is same as mean. \n",
    "\n",
    "$$ \\mu_X = E(X) = \\sum x_i*p(x_i) $$\n",
    "\n",
    "- For example, expectation of dice game's random variable is like below.\n",
    "\n",
    "$$ \\mu_X = E(X) = 1*p(1) + 2*p(2) + ... + 6*(p) $$\n",
    "\n",
    "$$ = 1*\\frac{1}{6} + 2*\\frac{1}{6} + ... + 6*\\frac{1}{6} = \\frac{7}{2} $$\n"
   ]
  },
  {
   "cell_type": "markdown",
   "metadata": {},
   "source": [
    "----\n",
    "### Covariance and Correlation\n",
    "\n",
    "Correlation between multi-variable random variables is covariance and correlation coefficient.\n",
    "\n",
    "- `(Sample) Covariance` : sample covariance's define is below.\n",
    "\n",
    "$$ Cov(X,Y) = s_{xy} = \\frac{1}{N} \\sum_{i=1}^{N}(x_i-\\bar{x}) (y_i-\\bar{y}) $$\n",
    "\n",
    "- This means : If $ Cov(X,Y) > 0 $, When X increases, Y also increases. So, It means whether they increase together or decrease together\n",
    "- But, this method has a disadvantage. Because each variable's absolute size are different, we need to standardize this.\n",
    "- `Correlation Coefficient` : $ r_{xy} = \\frac{s_{xy}}{\\sqrt{s_x^2 * s_y^2}} $,  $-1 < r_{xy} < 1$\n",
    "- Normally it calls `Pearson` coefficient.\n",
    "- But pearson coefficient can't analyze the non-linear correlation (e.g. 'W' shape correlation)"
   ]
  },
  {
   "cell_type": "markdown",
   "metadata": {},
   "source": [
    "#### Multi-variable Random Variable's Sample Covariance\n",
    "\n",
    "- If there are each random variables $ X_1, X_2, ... X_m $\n",
    "- In this situation, we can define `Sample Covariance Matrix` like this.\n",
    "\n",
    "![Covariance Matrix](img/cov_matrix.png)\n",
    "\n",
    "- The diagonal component means `variance of each random variable`.\n",
    "- Covariance Matrix can be calculated by below equation.\n",
    "\n",
    "$$ S = \\frac{1}{N} \\sum_{i=1}^{N} (x_i - \\bar{x})(x_i - \\bar{x})^T $$"
   ]
  }
 ],
 "metadata": {
  "kernelspec": {
   "display_name": "Python 3",
   "language": "python",
   "name": "python3"
  },
  "language_info": {
   "codemirror_mode": {
    "name": "ipython",
    "version": 3
   },
   "file_extension": ".py",
   "mimetype": "text/x-python",
   "name": "python",
   "nbconvert_exporter": "python",
   "pygments_lexer": "ipython3",
   "version": "3.7.3"
  },
  "pycharm": {
   "stem_cell": {
    "cell_type": "raw",
    "metadata": {
     "collapsed": false
    },
    "source": []
   }
  }
 },
 "nbformat": 4,
 "nbformat_minor": 1
}
