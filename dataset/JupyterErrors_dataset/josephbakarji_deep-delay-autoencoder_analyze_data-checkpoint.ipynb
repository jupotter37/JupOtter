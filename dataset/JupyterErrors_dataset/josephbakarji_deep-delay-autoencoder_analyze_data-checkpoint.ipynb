{
 "cells": [
  {
   "cell_type": "code",
   "execution_count": 4,
   "metadata": {},
   "outputs": [],
   "source": [
    "import sys\n",
    "sys.path.append(\"../src\")\n",
    "sys.path.append(\"../\")\n",
    "import os\n",
    "\n",
    "\n",
    "os.environ[\"CUDA_DEVICE_ORDER\"] = \"PCI_BUS_ID\"\n",
    "os.environ[\"CUDA_VISIBLE_DEVICES\"] = \"0\"\n",
    "\n",
    "import datetime\n",
    "import numpy as np\n",
    "import tensorflow as tf\n",
    "import matplotlib.pyplot as plt\n",
    "import pickle\n",
    "\n",
    "import pdb\n",
    "\n",
    "import matplotlib.pyplot as plt\n",
    "from mpl_toolkits.mplot3d import Axes3D\n",
    "%matplotlib inline\n",
    "\n",
    "from analyze import get_names, read_results, delete_results, get_cases\n",
    "from training import load_model, TrainModel\n",
    "\n",
    "from os import listdir\n",
    "\n",
    "import pandas as pd\n",
    "# from IPython.display import display\n"
   ]
  },
  {
   "cell_type": "markdown",
   "metadata": {},
   "source": [
    "### Print available cases"
   ]
  },
  {
   "cell_type": "code",
   "execution_count": 5,
   "metadata": {},
   "outputs": [
    {
     "ename": "NameError",
     "evalue": "name 'path' is not defined",
     "output_type": "error",
     "traceback": [
      "\u001b[0;31m---------------------------------------------------------------------------\u001b[0m",
      "\u001b[0;31mNameError\u001b[0m                                 Traceback (most recent call last)",
      "\u001b[0;32m/tmp/ipykernel_6723/4245455444.py\u001b[0m in \u001b[0;36m<module>\u001b[0;34m\u001b[0m\n\u001b[0;32m----> 1\u001b[0;31m \u001b[0mcases\u001b[0m \u001b[0;34m=\u001b[0m \u001b[0mget_cases\u001b[0m\u001b[0;34m(\u001b[0m\u001b[0mpath\u001b[0m\u001b[0;34m,\u001b[0m \u001b[0mcase_list\u001b[0m\u001b[0;34m,\u001b[0m \u001b[0mfilter_case\u001b[0m\u001b[0;34m=\u001b[0m\u001b[0;32mNone\u001b[0m\u001b[0;34m,\u001b[0m \u001b[0mprint_cases\u001b[0m\u001b[0;34m=\u001b[0m\u001b[0;32mTrue\u001b[0m\u001b[0;34m)\u001b[0m\u001b[0;34m\u001b[0m\u001b[0;34m\u001b[0m\u001b[0m\n\u001b[0m",
      "\u001b[0;31mNameError\u001b[0m: name 'path' is not defined"
     ]
    }
   ],
   "source": [
    "path='../testcases/results/'\n",
    "case_list = []\n",
    "cases = get_cases(path, filter_case=None, print_cases=True)\n"
   ]
  },
  {
   "cell_type": "code",
   "execution_count": 5,
   "metadata": {},
   "outputs": [],
   "source": [
    "my_params = ['loss_weight_integral', 'sindy_pert', 'svd_dim', 'model']\n",
    "\n",
    "primary_params = ['case', 'coefficient_initialization', 'exact_features', 'fix_coefs', 'input_dim', 'latent_dim', \n",
    "                 'loss_weight_integral', 'loss_weight_rec', 'loss_weight_sindy_regularization', 'loss_weight_sindy_x', \n",
    "                 'loss_weight_sindy_z', 'loss_weight_x0', 'model', 'n_ics', 'widths_ratios', 'svd_dim']\n",
    "secondary_params = ['activation', 'actual_coefficients', 'coefficient_threshold', 'dt', 'fixed_coefficient_mask', 'library_dim',\n",
    "                   'max_epochs', 'model_order', 'noise', 'option', 'patience', 'poly_order', 'print_frequency', \n",
    "                    'save_checkpoints', 'save_freq', 'scale', 'sindy_pert']\n",
    "tertiary_params = ['batch_size', 'data_path', 'include_sine', 'learning_rate', 'learning_rate_sched', 'print_progress']"
   ]
  },
  {
   "cell_type": "markdown",
   "metadata": {},
   "source": [
    "### Get names for a given case"
   ]
  },
  {
   "cell_type": "code",
   "execution_count": 6,
   "metadata": {},
   "outputs": [],
   "source": [
    "name_list = get_names(cases, path)\n",
    "for idx, name in enumerate(name_list): print(idx, name) "
   ]
  },
  {
   "cell_type": "code",
   "execution_count": null,
   "metadata": {},
   "outputs": [],
   "source": [
    "end_time = 100\n",
    "end_time_plot = 100\n",
    "display_params = my_params #primary_params + secondary_params + tertiary_params\n",
    "t0_frac = 0.2\n",
    "query_remove = False\n",
    "\n",
    "non_existing_files, remove_files = read_results(name_list[:], \n",
    "                                                path, \n",
    "                                                end_time=end_time, \n",
    "                                                display_params=display_params, \n",
    "                                                t0_frac=t0_frac, \n",
    "                                                end_time_plot=end_time_plot,\n",
    "                                                query_remove=query_remove)"
   ]
  },
  {
   "cell_type": "code",
   "execution_count": null,
   "metadata": {},
   "outputs": [],
   "source": [
    "print(non_existing_files)\n",
    "print(remove_files)\n",
    "\n",
    "# delete_results(non_existing_files+remove_files, '../data/')"
   ]
  }
 ],
 "metadata": {
  "kernelspec": {
   "display_name": "Python 3 (ipykernel)",
   "language": "python",
   "name": "python3"
  },
  "language_info": {
   "codemirror_mode": {
    "name": "ipython",
    "version": 3
   },
   "file_extension": ".py",
   "mimetype": "text/x-python",
   "name": "python",
   "nbconvert_exporter": "python",
   "pygments_lexer": "ipython3",
   "version": "3.10.4"
  }
 },
 "nbformat": 4,
 "nbformat_minor": 4
}
