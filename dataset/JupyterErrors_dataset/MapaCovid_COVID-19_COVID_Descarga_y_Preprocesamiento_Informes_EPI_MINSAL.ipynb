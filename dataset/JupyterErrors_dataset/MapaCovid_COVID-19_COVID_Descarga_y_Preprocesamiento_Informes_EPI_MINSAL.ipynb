{
 "cells": [
  {
   "cell_type": "code",
   "execution_count": 1,
   "metadata": {
    "colab": {},
    "colab_type": "code",
    "id": "axaR9kUn1JsT"
   },
   "outputs": [],
   "source": [
    "#Documento creado por https://github.com/Stepp1\n",
    "#Modificado por esteban\n",
    "\n",
    "import subprocess\n",
    "import shlex\n",
    "import requests"
   ]
  },
  {
   "cell_type": "code",
   "execution_count": 2,
   "metadata": {
    "colab": {
     "base_uri": "https://localhost:8080/",
     "height": 139
    },
    "colab_type": "code",
    "id": "KSrxIdU-1Jse",
    "outputId": "1d2dfc50-5f6d-41b4-b530-cba81f25a76b"
   },
   "outputs": [
    {
     "name": "stdout",
     "output_type": "stream",
     "text": [
      "Collecting tabula-py\n",
      "  Downloading tabula_py-2.1.0-py3-none-any.whl (10.4 MB)\n",
      "\u001b[K     |████████████████████████████████| 10.4 MB 787 kB/s eta 0:00:01    |████████████████▊               | 5.4 MB 734 kB/s eta 0:00:07     |█████████████████               | 5.6 MB 734 kB/s eta 0:00:07\n",
      "\u001b[?25hCollecting distro\n",
      "  Downloading distro-1.5.0-py2.py3-none-any.whl (18 kB)\n",
      "Requirement already satisfied: numpy in /opt/anaconda3/lib/python3.7/site-packages (from tabula-py) (1.18.1)\n",
      "Requirement already satisfied: pandas>=0.25.3 in /opt/anaconda3/lib/python3.7/site-packages (from tabula-py) (1.0.1)\n",
      "Requirement already satisfied: pytz>=2017.2 in /opt/anaconda3/lib/python3.7/site-packages (from pandas>=0.25.3->tabula-py) (2019.3)\n",
      "Requirement already satisfied: python-dateutil>=2.6.1 in /opt/anaconda3/lib/python3.7/site-packages (from pandas>=0.25.3->tabula-py) (2.8.1)\n",
      "Requirement already satisfied: six>=1.5 in /opt/anaconda3/lib/python3.7/site-packages (from python-dateutil>=2.6.1->pandas>=0.25.3->tabula-py) (1.14.0)\n",
      "Installing collected packages: distro, tabula-py\n",
      "Successfully installed distro-1.5.0 tabula-py-2.1.0\n"
     ]
    }
   ],
   "source": [
    "#!pip install tabula-py \n",
    "#Sólo una vez"
   ]
  },
  {
   "cell_type": "markdown",
   "metadata": {
    "colab_type": "text",
    "id": "2VvbUqfD1Jso"
   },
   "source": [
    "### Eliminamos descargas anteriores"
   ]
  },
  {
   "cell_type": "code",
   "execution_count": 3,
   "metadata": {
    "colab": {},
    "colab_type": "code",
    "id": "YFCxsryX1Jsp"
   },
   "outputs": [
    {
     "name": "stdout",
     "output_type": "stream",
     "text": [
      "rm: *pdf: No such file or directory\r\n"
     ]
    }
   ],
   "source": [
    "!rm *pdf"
   ]
  },
  {
   "cell_type": "markdown",
   "metadata": {
    "colab_type": "text",
    "id": "9U-6lYT51Jsx"
   },
   "source": [
    "### Obtenemos las urls de los informes (EPI y Generales)"
   ]
  },
  {
   "cell_type": "code",
   "execution_count": 14,
   "metadata": {
    "colab": {},
    "colab_type": "code",
    "id": "QUQYguv71Jsy",
    "scrolled": false
   },
   "outputs": [],
   "source": [
    "response = subprocess.check_output(shlex.split('curl --request GET https://www.gob.cl/coronavirus/cifrasoficiales/'))\n",
    "\n",
    "\n",
    "url_reporte = []\n",
    "url_informe_epi = []\n",
    "for line in response.decode().splitlines():\n",
    "    if \"Reporte_Covid19.pdf\" in line:\n",
    "        url = line.strip().split('https://')[1].split(\"\\\"\")[0]\n",
    "        \n",
    "        url_reporte.append(url)\n",
    "        \n",
    "    #El informe a veces está en minúsculas    \n",
    "    elif \"INFORME_EPI\" in line:\n",
    "        \n",
    "        test = line.strip()\n",
    "        test = test.split('https://')[1].split(\"\\\"\")[0]\n",
    "        url_informe_epi.append(test)\n",
    "        \n",
    "        "
   ]
  },
  {
   "cell_type": "code",
   "execution_count": 6,
   "metadata": {},
   "outputs": [
    {
     "data": {
      "text/plain": [
       "['www.minsal.cl/wp-content/uploads/2020/04/Informe_EPI_03_04_2020.pdf',\n",
       " 'cdn.digital.gob.cl/public_files/Campa%C3%B1as/Corona-Virus/Reportes/INFORME_EPI_COVID19_20200401v2.pdf',\n",
       " 'cdn.digital.gob.cl/public_files/Campa%C3%B1as/Corona-Virus/Reportes/INFORME_EPI_COVID19_20200330.pdf']"
      ]
     },
     "execution_count": 6,
     "metadata": {},
     "output_type": "execute_result"
    }
   ],
   "source": [
    "url_informe_epi"
   ]
  },
  {
   "cell_type": "markdown",
   "metadata": {
    "colab_type": "text",
    "id": "i3FOkesv1Js4"
   },
   "source": [
    "#### Double Check"
   ]
  },
  {
   "cell_type": "code",
   "execution_count": 7,
   "metadata": {
    "colab": {
     "base_uri": "https://localhost:8080/",
     "height": 121
    },
    "colab_type": "code",
    "id": "WcxOyl_21Js5",
    "outputId": "5a994739-d722-451d-c8fc-3e678f3e0022"
   },
   "outputs": [
    {
     "data": {
      "text/plain": [
       "['cdn.digital.gob.cl/public_files/Campa%C3%B1as/Corona-Virus/Reportes/02.04.2020_Reporte_Covid19.pdf',\n",
       " 'cdn.digital.gob.cl/public_files/Campa%C3%B1as/Corona-Virus/Reportes/05.04.2020_Reporte_Covid19.pdf',\n",
       " 'cdn.digital.gob.cl/public_files/Campa%C3%B1as/Corona-Virus/Reportes/04.04.2020_Reporte_Covid19.pdf',\n",
       " 'cdn.digital.gob.cl/public_files/Campa%C3%B1as/Corona-Virus/Reportes/03.04.2020_Reporte_Covid19.pdf',\n",
       " 'cdn.digital.gob.cl/public_files/Campa%C3%B1as/Corona-Virus/Reportes/02.04.2020_Reporte_Covid19.pdf',\n",
       " 'cdn.digital.gob.cl/public_files/Campa%C3%B1as/Corona-Virus/Reportes/01.04.2020_Reporte_Covid19.pdf']"
      ]
     },
     "execution_count": 7,
     "metadata": {},
     "output_type": "execute_result"
    }
   ],
   "source": [
    "url_reporte"
   ]
  },
  {
   "cell_type": "code",
   "execution_count": 8,
   "metadata": {
    "colab": {
     "base_uri": "https://localhost:8080/",
     "height": 52
    },
    "colab_type": "code",
    "id": "6lHUgKgX1JtB",
    "outputId": "4fea3818-be0b-4e06-fe03-718a9ab286a0"
   },
   "outputs": [
    {
     "data": {
      "text/plain": [
       "['www.minsal.cl/wp-content/uploads/2020/04/Informe_EPI_03_04_2020.pdf',\n",
       " 'cdn.digital.gob.cl/public_files/Campa%C3%B1as/Corona-Virus/Reportes/INFORME_EPI_COVID19_20200401v2.pdf',\n",
       " 'cdn.digital.gob.cl/public_files/Campa%C3%B1as/Corona-Virus/Reportes/INFORME_EPI_COVID19_20200330.pdf']"
      ]
     },
     "execution_count": 8,
     "metadata": {},
     "output_type": "execute_result"
    }
   ],
   "source": [
    "url_informe_epi"
   ]
  },
  {
   "cell_type": "markdown",
   "metadata": {
    "colab_type": "text",
    "id": "n1ERe-V91JtH"
   },
   "source": [
    "# Descarga Informes"
   ]
  },
  {
   "cell_type": "code",
   "execution_count": null,
   "metadata": {},
   "outputs": [],
   "source": []
  },
  {
   "cell_type": "code",
   "execution_count": 0,
   "metadata": {
    "colab": {},
    "colab_type": "code",
    "id": "ybDpazU11JtI"
   },
   "outputs": [],
   "source": [
    "#for url in set(url_reporte):\n",
    "#    subprocess.check_output(shlex.split(\"wget \"+ url))"
   ]
  },
  {
   "cell_type": "code",
   "execution_count": 10,
   "metadata": {
    "colab": {},
    "colab_type": "code",
    "id": "cQDbiH2e1JtM"
   },
   "outputs": [
    {
     "ename": "CalledProcessError",
     "evalue": "Command '['wget', 'www.minsal.cl/wp-content/uploads/2020/04/Informe_EPI_03_04_2020.pdf']' returned non-zero exit status 5.",
     "output_type": "error",
     "traceback": [
      "\u001b[0;31m---------------------------------------------------------------------------\u001b[0m",
      "\u001b[0;31mCalledProcessError\u001b[0m                        Traceback (most recent call last)",
      "\u001b[0;32m<ipython-input-10-d2b6b0fc3ebf>\u001b[0m in \u001b[0;36m<module>\u001b[0;34m\u001b[0m\n\u001b[1;32m      1\u001b[0m \u001b[0;32mfor\u001b[0m \u001b[0murl\u001b[0m \u001b[0;32min\u001b[0m \u001b[0mset\u001b[0m\u001b[0;34m(\u001b[0m\u001b[0murl_informe_epi\u001b[0m\u001b[0;34m)\u001b[0m\u001b[0;34m:\u001b[0m\u001b[0;34m\u001b[0m\u001b[0;34m\u001b[0m\u001b[0m\n\u001b[0;32m----> 2\u001b[0;31m     \u001b[0msubprocess\u001b[0m\u001b[0;34m.\u001b[0m\u001b[0mcheck_output\u001b[0m\u001b[0;34m(\u001b[0m\u001b[0mshlex\u001b[0m\u001b[0;34m.\u001b[0m\u001b[0msplit\u001b[0m\u001b[0;34m(\u001b[0m\u001b[0;34m\"wget \"\u001b[0m\u001b[0;34m+\u001b[0m \u001b[0murl\u001b[0m\u001b[0;34m)\u001b[0m\u001b[0;34m)\u001b[0m\u001b[0;34m\u001b[0m\u001b[0;34m\u001b[0m\u001b[0m\n\u001b[0m",
      "\u001b[0;32m/opt/anaconda3/lib/python3.7/subprocess.py\u001b[0m in \u001b[0;36mcheck_output\u001b[0;34m(timeout, *popenargs, **kwargs)\u001b[0m\n\u001b[1;32m    409\u001b[0m \u001b[0;34m\u001b[0m\u001b[0m\n\u001b[1;32m    410\u001b[0m     return run(*popenargs, stdout=PIPE, timeout=timeout, check=True,\n\u001b[0;32m--> 411\u001b[0;31m                **kwargs).stdout\n\u001b[0m\u001b[1;32m    412\u001b[0m \u001b[0;34m\u001b[0m\u001b[0m\n\u001b[1;32m    413\u001b[0m \u001b[0;34m\u001b[0m\u001b[0m\n",
      "\u001b[0;32m/opt/anaconda3/lib/python3.7/subprocess.py\u001b[0m in \u001b[0;36mrun\u001b[0;34m(input, capture_output, timeout, check, *popenargs, **kwargs)\u001b[0m\n\u001b[1;32m    510\u001b[0m         \u001b[0;32mif\u001b[0m \u001b[0mcheck\u001b[0m \u001b[0;32mand\u001b[0m \u001b[0mretcode\u001b[0m\u001b[0;34m:\u001b[0m\u001b[0;34m\u001b[0m\u001b[0;34m\u001b[0m\u001b[0m\n\u001b[1;32m    511\u001b[0m             raise CalledProcessError(retcode, process.args,\n\u001b[0;32m--> 512\u001b[0;31m                                      output=stdout, stderr=stderr)\n\u001b[0m\u001b[1;32m    513\u001b[0m     \u001b[0;32mreturn\u001b[0m \u001b[0mCompletedProcess\u001b[0m\u001b[0;34m(\u001b[0m\u001b[0mprocess\u001b[0m\u001b[0;34m.\u001b[0m\u001b[0margs\u001b[0m\u001b[0;34m,\u001b[0m \u001b[0mretcode\u001b[0m\u001b[0;34m,\u001b[0m \u001b[0mstdout\u001b[0m\u001b[0;34m,\u001b[0m \u001b[0mstderr\u001b[0m\u001b[0;34m)\u001b[0m\u001b[0;34m\u001b[0m\u001b[0;34m\u001b[0m\u001b[0m\n\u001b[1;32m    514\u001b[0m \u001b[0;34m\u001b[0m\u001b[0m\n",
      "\u001b[0;31mCalledProcessError\u001b[0m: Command '['wget', 'www.minsal.cl/wp-content/uploads/2020/04/Informe_EPI_03_04_2020.pdf']' returned non-zero exit status 5."
     ]
    }
   ],
   "source": [
    "for url in set(url_informe_epi):\n",
    "    subprocess.check_output(shlex.split(\"wget \"+ url))"
   ]
  },
  {
   "cell_type": "code",
   "execution_count": 13,
   "metadata": {},
   "outputs": [
    {
     "data": {
      "text/plain": [
       "'WWW.MINSAL.CL/WP-CONTENT/UPLOADS/2020/04/INFORME_EPI_03_04_2020.PDF'"
      ]
     },
     "execution_count": 13,
     "metadata": {},
     "output_type": "execute_result"
    }
   ],
   "source": []
  },
  {
   "cell_type": "code",
   "execution_count": null,
   "metadata": {
    "colab": {
     "base_uri": "https://localhost:8080/",
     "height": 86
    },
    "colab_type": "code",
    "id": "DdNpSunC1JtR",
    "outputId": "6bd5f434-0c3c-4870-c925-8ae5e74ecee2"
   },
   "outputs": [],
   "source": [
    "!ls"
   ]
  },
  {
   "cell_type": "code",
   "execution_count": 0,
   "metadata": {
    "colab": {},
    "colab_type": "code",
    "id": "0jzUypNc1JtW"
   },
   "outputs": [],
   "source": []
  },
  {
   "cell_type": "markdown",
   "metadata": {
    "colab_type": "text",
    "id": "99e7rSXN1Jtb"
   },
   "source": [
    "# Preprocesamiento\n",
    "\n",
    "Usamos tabula-py: wrapper de Tabula App (escrita en Java). A library for extracting tables from PDF files \n",
    "https://github.com/chezou/tabula-py"
   ]
  },
  {
   "cell_type": "code",
   "execution_count": 4,
   "metadata": {
    "colab": {
     "base_uri": "https://localhost:8080/",
     "height": 173
    },
    "colab_type": "code",
    "id": "JZgeTj9M1Jtc",
    "outputId": "f5c449d6-1781-4d9e-cfc2-07831d324ca3"
   },
   "outputs": [
    {
     "ename": "NameError",
     "evalue": "name 'url_informe_epi' is not defined",
     "output_type": "error",
     "traceback": [
      "\u001b[0;31m---------------------------------------------------------------------------\u001b[0m",
      "\u001b[0;31mNameError\u001b[0m                                 Traceback (most recent call last)",
      "\u001b[0;32m<ipython-input-4-3187c3aa5859>\u001b[0m in \u001b[0;36m<module>\u001b[0;34m\u001b[0m\n\u001b[1;32m      2\u001b[0m \u001b[0;34m\u001b[0m\u001b[0m\n\u001b[1;32m      3\u001b[0m \u001b[0mdfs_files\u001b[0m \u001b[0;34m=\u001b[0m \u001b[0;34m{\u001b[0m\u001b[0;34m}\u001b[0m\u001b[0;34m\u001b[0m\u001b[0;34m\u001b[0m\u001b[0m\n\u001b[0;32m----> 4\u001b[0;31m \u001b[0;32mfor\u001b[0m \u001b[0murl\u001b[0m \u001b[0;32min\u001b[0m \u001b[0murl_informe_epi\u001b[0m\u001b[0;34m:\u001b[0m\u001b[0;34m\u001b[0m\u001b[0;34m\u001b[0m\u001b[0m\n\u001b[0m\u001b[1;32m      5\u001b[0m     \u001b[0mpdf_file\u001b[0m \u001b[0;34m=\u001b[0m \u001b[0murl\u001b[0m\u001b[0;34m.\u001b[0m\u001b[0msplit\u001b[0m\u001b[0;34m(\u001b[0m\u001b[0;34m'/'\u001b[0m\u001b[0;34m)\u001b[0m\u001b[0;34m[\u001b[0m\u001b[0;34m-\u001b[0m\u001b[0;36m1\u001b[0m\u001b[0;34m]\u001b[0m\u001b[0;34m\u001b[0m\u001b[0;34m\u001b[0m\u001b[0m\n\u001b[1;32m      6\u001b[0m     \u001b[0mdf\u001b[0m \u001b[0;34m=\u001b[0m \u001b[0mtabula\u001b[0m\u001b[0;34m.\u001b[0m\u001b[0mread_pdf\u001b[0m\u001b[0;34m(\u001b[0m\u001b[0mpdf_file\u001b[0m\u001b[0;34m,\u001b[0m \u001b[0mpages\u001b[0m\u001b[0;34m=\u001b[0m\u001b[0;34m'all'\u001b[0m\u001b[0;34m,\u001b[0m \u001b[0mmultiple_tables\u001b[0m\u001b[0;34m=\u001b[0m\u001b[0;32mTrue\u001b[0m\u001b[0;34m)\u001b[0m\u001b[0;34m\u001b[0m\u001b[0;34m\u001b[0m\u001b[0m\n",
      "\u001b[0;31mNameError\u001b[0m: name 'url_informe_epi' is not defined"
     ]
    }
   ],
   "source": [
    "import tabula\n",
    "\n",
    "dfs_files = {}\n",
    "for url in url_informe_epi:\n",
    "    pdf_file = url.split('/')[-1]\n",
    "    df = tabula.read_pdf(pdf_file, pages='all', multiple_tables=True)\n",
    "    \n",
    "    fecha = pdf_file.split('_')[-1].split('.')[0]\n",
    "    print(fecha)\n",
    "    dfs_files['tablas_' + fecha] = df\n",
    "              \n",
    "              "
   ]
  },
  {
   "cell_type": "markdown",
   "metadata": {
    "colab_type": "text",
    "id": "5uGt3giW1Jti"
   },
   "source": [
    "Verificamos algunas tablas"
   ]
  },
  {
   "cell_type": "code",
   "execution_count": 0,
   "metadata": {
    "colab": {},
    "colab_type": "code",
    "id": "rbGyoGLQ1Jti"
   },
   "outputs": [],
   "source": [
    "tablas_20200401 = dfs_files['tablas_20200401v2']\n",
    "tablas_20200330 = dfs_files['tablas_20200330']"
   ]
  },
  {
   "cell_type": "code",
   "execution_count": 0,
   "metadata": {
    "colab": {
     "base_uri": "https://localhost:8080/",
     "height": 278
    },
    "colab_type": "code",
    "id": "CbjuTFLE1Jtn",
    "outputId": "9eb945bd-7834-423e-ab4e-c7e79231b3d7"
   },
   "outputs": [
    {
     "name": "stdout",
     "output_type": "stream",
     "text": [
      "tabla_6\n",
      "tabla_7\n",
      "tabla_8\n",
      "tabla_9\n",
      "tabla_10\n",
      "tabla_11\n",
      "tabla_14\n",
      "tabla_15\n",
      "tabla_16\n",
      "tabla_17\n",
      "tabla_18\n",
      "tabla_19\n",
      "tabla_20\n",
      "tabla_21\n",
      "tabla_22\n"
     ]
    }
   ],
   "source": [
    "df_comunas_20200401 = {}\n",
    "unnamed_primeraCol = {}\n",
    "for idx, df in enumerate(tablas_20200401):\n",
    "\n",
    "    if 'Comuna' in df.columns:\n",
    "        \n",
    "        key= 'tabla_' + str(idx + 1)\n",
    "        print(key)\n",
    "        df_comunas_20200401[key] = df"
   ]
  },
  {
   "cell_type": "code",
   "execution_count": 0,
   "metadata": {
    "colab": {
     "base_uri": "https://localhost:8080/",
     "height": 206
    },
    "colab_type": "code",
    "id": "k3nfzxXH1Jtr",
    "outputId": "e9f924e2-b934-4972-8d43-a3c6d0fcf430"
   },
   "outputs": [
    {
     "data": {
      "text/html": [
       "<div>\n",
       "<style scoped>\n",
       "    .dataframe tbody tr th:only-of-type {\n",
       "        vertical-align: middle;\n",
       "    }\n",
       "\n",
       "    .dataframe tbody tr th {\n",
       "        vertical-align: top;\n",
       "    }\n",
       "\n",
       "    .dataframe thead th {\n",
       "        text-align: right;\n",
       "    }\n",
       "</style>\n",
       "<table border=\"1\" class=\"dataframe\">\n",
       "  <thead>\n",
       "    <tr style=\"text-align: right;\">\n",
       "      <th></th>\n",
       "      <th>Unnamed: 0</th>\n",
       "      <th>Comuna</th>\n",
       "      <th>N°</th>\n",
       "      <th>Unnamed: 1</th>\n",
       "      <th>Población</th>\n",
       "      <th>Tasa</th>\n",
       "      <th>Unnamed: 2</th>\n",
       "    </tr>\n",
       "  </thead>\n",
       "  <tbody>\n",
       "    <tr>\n",
       "      <th>0</th>\n",
       "      <td>Arica</td>\n",
       "      <td>NaN</td>\n",
       "      <td>NaN</td>\n",
       "      <td>6</td>\n",
       "      <td>247552</td>\n",
       "      <td>NaN</td>\n",
       "      <td>2,4</td>\n",
       "    </tr>\n",
       "    <tr>\n",
       "      <th>1</th>\n",
       "      <td>Camarones</td>\n",
       "      <td>NaN</td>\n",
       "      <td>NaN</td>\n",
       "      <td>-</td>\n",
       "      <td>1233</td>\n",
       "      <td>NaN</td>\n",
       "      <td>0</td>\n",
       "    </tr>\n",
       "    <tr>\n",
       "      <th>2</th>\n",
       "      <td>General Lagos</td>\n",
       "      <td>NaN</td>\n",
       "      <td>NaN</td>\n",
       "      <td>-</td>\n",
       "      <td>810</td>\n",
       "      <td>NaN</td>\n",
       "      <td>0</td>\n",
       "    </tr>\n",
       "    <tr>\n",
       "      <th>3</th>\n",
       "      <td>Putre</td>\n",
       "      <td>NaN</td>\n",
       "      <td>NaN</td>\n",
       "      <td>-</td>\n",
       "      <td>2515</td>\n",
       "      <td>NaN</td>\n",
       "      <td>0</td>\n",
       "    </tr>\n",
       "    <tr>\n",
       "      <th>4</th>\n",
       "      <td>Total</td>\n",
       "      <td>NaN</td>\n",
       "      <td>NaN</td>\n",
       "      <td>6</td>\n",
       "      <td>252110</td>\n",
       "      <td>NaN</td>\n",
       "      <td>2,4</td>\n",
       "    </tr>\n",
       "  </tbody>\n",
       "</table>\n",
       "</div>"
      ],
      "text/plain": [
       "      Unnamed: 0  Comuna  N° Unnamed: 1  Población  Tasa Unnamed: 2\n",
       "0          Arica     NaN NaN          6     247552   NaN        2,4\n",
       "1      Camarones     NaN NaN          -       1233   NaN          0\n",
       "2  General Lagos     NaN NaN          -        810   NaN          0\n",
       "3          Putre     NaN NaN          -       2515   NaN          0\n",
       "4          Total     NaN NaN          6     252110   NaN        2,4"
      ]
     },
     "execution_count": 65,
     "metadata": {
      "tags": []
     },
     "output_type": "execute_result"
    }
   ],
   "source": [
    "df_comunas_20200401['tabla_6'].head()"
   ]
  },
  {
   "cell_type": "markdown",
   "metadata": {
    "colab_type": "text",
    "id": "3sddHtsH1Jtv"
   },
   "source": [
    "Tabla empieza con un *Unnamed: 0*"
   ]
  },
  {
   "cell_type": "code",
   "execution_count": 0,
   "metadata": {
    "colab": {
     "base_uri": "https://localhost:8080/",
     "height": 206
    },
    "colab_type": "code",
    "id": "UGLKkH5a1Jtw",
    "outputId": "83925621-8539-431f-9503-0f01bc9e4f1c"
   },
   "outputs": [
    {
     "data": {
      "text/html": [
       "<div>\n",
       "<style scoped>\n",
       "    .dataframe tbody tr th:only-of-type {\n",
       "        vertical-align: middle;\n",
       "    }\n",
       "\n",
       "    .dataframe tbody tr th {\n",
       "        vertical-align: top;\n",
       "    }\n",
       "\n",
       "    .dataframe thead th {\n",
       "        text-align: right;\n",
       "    }\n",
       "</style>\n",
       "<table border=\"1\" class=\"dataframe\">\n",
       "  <thead>\n",
       "    <tr style=\"text-align: right;\">\n",
       "      <th></th>\n",
       "      <th>Comuna</th>\n",
       "      <th>N°</th>\n",
       "      <th>Unnamed: 0</th>\n",
       "      <th>Población</th>\n",
       "      <th>Unnamed: 1</th>\n",
       "      <th>Tasa</th>\n",
       "      <th>Unnamed: 2</th>\n",
       "    </tr>\n",
       "  </thead>\n",
       "  <tbody>\n",
       "    <tr>\n",
       "      <th>0</th>\n",
       "      <td>Antártica</td>\n",
       "      <td>NaN</td>\n",
       "      <td>-</td>\n",
       "      <td>137</td>\n",
       "      <td>NaN</td>\n",
       "      <td>NaN</td>\n",
       "      <td>0,0</td>\n",
       "    </tr>\n",
       "    <tr>\n",
       "      <th>1</th>\n",
       "      <td>Cabo de Hornos</td>\n",
       "      <td>NaN</td>\n",
       "      <td>6</td>\n",
       "      <td>1983</td>\n",
       "      <td>NaN</td>\n",
       "      <td>NaN</td>\n",
       "      <td>302,6</td>\n",
       "    </tr>\n",
       "    <tr>\n",
       "      <th>2</th>\n",
       "      <td>Laguna Blanca</td>\n",
       "      <td>NaN</td>\n",
       "      <td>-</td>\n",
       "      <td>264</td>\n",
       "      <td>NaN</td>\n",
       "      <td>NaN</td>\n",
       "      <td>0,0</td>\n",
       "    </tr>\n",
       "    <tr>\n",
       "      <th>3</th>\n",
       "      <td>Natales</td>\n",
       "      <td>NaN</td>\n",
       "      <td>4</td>\n",
       "      <td>23782</td>\n",
       "      <td>NaN</td>\n",
       "      <td>NaN</td>\n",
       "      <td>16,8</td>\n",
       "    </tr>\n",
       "    <tr>\n",
       "      <th>4</th>\n",
       "      <td>Porvenir</td>\n",
       "      <td>NaN</td>\n",
       "      <td>-</td>\n",
       "      <td>7323</td>\n",
       "      <td>NaN</td>\n",
       "      <td>NaN</td>\n",
       "      <td>27,3</td>\n",
       "    </tr>\n",
       "  </tbody>\n",
       "</table>\n",
       "</div>"
      ],
      "text/plain": [
       "           Comuna  N° Unnamed: 0  Población  Unnamed: 1  Tasa Unnamed: 2\n",
       "0       Antártica NaN          -        137         NaN   NaN        0,0\n",
       "1  Cabo de Hornos NaN          6       1983         NaN   NaN      302,6\n",
       "2   Laguna Blanca NaN          -        264         NaN   NaN        0,0\n",
       "3         Natales NaN          4      23782         NaN   NaN       16,8\n",
       "4        Porvenir NaN          -       7323         NaN   NaN       27,3"
      ]
     },
     "execution_count": 66,
     "metadata": {
      "tags": []
     },
     "output_type": "execute_result"
    }
   ],
   "source": [
    "df_comunas_20200401['tabla_22'].head()"
   ]
  },
  {
   "cell_type": "markdown",
   "metadata": {
    "colab_type": "text",
    "id": "AQaDmXcW1Jt0"
   },
   "source": [
    "Tabla **no** empieza con un *Unnamed: 0*"
   ]
  },
  {
   "cell_type": "code",
   "execution_count": 0,
   "metadata": {
    "colab": {
     "base_uri": "https://localhost:8080/",
     "height": 295
    },
    "colab_type": "code",
    "id": "-DG5PDRp1Jt1",
    "outputId": "e87d640b-cdca-4585-84cb-cf9016f2b657"
   },
   "outputs": [
    {
     "name": "stdout",
     "output_type": "stream",
     "text": [
      "tabla_7\n",
      "tabla_8\n",
      "tabla_9\n",
      "tabla_10\n",
      "tabla_11\n",
      "tabla_12\n",
      "tabla_13\n",
      "tabla_15\n",
      "tabla_16\n",
      "tabla_17\n",
      "tabla_18\n",
      "tabla_19\n",
      "tabla_20\n",
      "tabla_21\n",
      "tabla_22\n",
      "tabla_23\n"
     ]
    }
   ],
   "source": [
    "df_comunas_20200330 = {}\n",
    "unnamed_primeraCol = {}\n",
    "for idx, df in enumerate(tablas_20200330):\n",
    "\n",
    "    if 'Comuna' in df.columns:\n",
    "        \n",
    "        key= 'tabla_' + str(idx + 1)\n",
    "        print(key)\n",
    "        df_comunas_20200330[key] = df"
   ]
  },
  {
   "cell_type": "code",
   "execution_count": 0,
   "metadata": {
    "colab": {
     "base_uri": "https://localhost:8080/",
     "height": 206
    },
    "colab_type": "code",
    "id": "VzVcWOI_1Jt9",
    "outputId": "8b9c2873-4707-447e-8119-ee59b2f62de7"
   },
   "outputs": [
    {
     "data": {
      "text/html": [
       "<div>\n",
       "<style scoped>\n",
       "    .dataframe tbody tr th:only-of-type {\n",
       "        vertical-align: middle;\n",
       "    }\n",
       "\n",
       "    .dataframe tbody tr th {\n",
       "        vertical-align: top;\n",
       "    }\n",
       "\n",
       "    .dataframe thead th {\n",
       "        text-align: right;\n",
       "    }\n",
       "</style>\n",
       "<table border=\"1\" class=\"dataframe\">\n",
       "  <thead>\n",
       "    <tr style=\"text-align: right;\">\n",
       "      <th></th>\n",
       "      <th>Unnamed: 0</th>\n",
       "      <th>Comuna</th>\n",
       "      <th>N°</th>\n",
       "      <th>Unnamed: 1</th>\n",
       "      <th>Población</th>\n",
       "      <th>Tasa</th>\n",
       "      <th>Unnamed: 2</th>\n",
       "    </tr>\n",
       "  </thead>\n",
       "  <tbody>\n",
       "    <tr>\n",
       "      <th>0</th>\n",
       "      <td>Arica</td>\n",
       "      <td>NaN</td>\n",
       "      <td>NaN</td>\n",
       "      <td>6</td>\n",
       "      <td>247552</td>\n",
       "      <td>NaN</td>\n",
       "      <td>2,4</td>\n",
       "    </tr>\n",
       "    <tr>\n",
       "      <th>1</th>\n",
       "      <td>Camarones</td>\n",
       "      <td>NaN</td>\n",
       "      <td>NaN</td>\n",
       "      <td>-</td>\n",
       "      <td>1233</td>\n",
       "      <td>NaN</td>\n",
       "      <td>0,0</td>\n",
       "    </tr>\n",
       "    <tr>\n",
       "      <th>2</th>\n",
       "      <td>General Lagos</td>\n",
       "      <td>NaN</td>\n",
       "      <td>NaN</td>\n",
       "      <td>-</td>\n",
       "      <td>810</td>\n",
       "      <td>NaN</td>\n",
       "      <td>0,0</td>\n",
       "    </tr>\n",
       "    <tr>\n",
       "      <th>3</th>\n",
       "      <td>Putre</td>\n",
       "      <td>NaN</td>\n",
       "      <td>NaN</td>\n",
       "      <td>-</td>\n",
       "      <td>2515</td>\n",
       "      <td>NaN</td>\n",
       "      <td>0,0</td>\n",
       "    </tr>\n",
       "    <tr>\n",
       "      <th>4</th>\n",
       "      <td>Total</td>\n",
       "      <td>NaN</td>\n",
       "      <td>NaN</td>\n",
       "      <td>6</td>\n",
       "      <td>252110</td>\n",
       "      <td>NaN</td>\n",
       "      <td>2,4</td>\n",
       "    </tr>\n",
       "  </tbody>\n",
       "</table>\n",
       "</div>"
      ],
      "text/plain": [
       "      Unnamed: 0  Comuna  N° Unnamed: 1  Población  Tasa Unnamed: 2\n",
       "0          Arica     NaN NaN          6     247552   NaN        2,4\n",
       "1      Camarones     NaN NaN          -       1233   NaN        0,0\n",
       "2  General Lagos     NaN NaN          -        810   NaN        0,0\n",
       "3          Putre     NaN NaN          -       2515   NaN        0,0\n",
       "4          Total     NaN NaN          6     252110   NaN        2,4"
      ]
     },
     "execution_count": 68,
     "metadata": {
      "tags": []
     },
     "output_type": "execute_result"
    }
   ],
   "source": [
    "df_comunas_20200330['tabla_7'].head()"
   ]
  },
  {
   "cell_type": "markdown",
   "metadata": {
    "colab_type": "text",
    "id": "7IoRvxzJ1JuB"
   },
   "source": [
    "Misma tabla empieza con un *Unnamed: 0*"
   ]
  },
  {
   "cell_type": "code",
   "execution_count": 0,
   "metadata": {
    "colab": {
     "base_uri": "https://localhost:8080/",
     "height": 206
    },
    "colab_type": "code",
    "id": "qoijBP6m1JuB",
    "outputId": "c4295074-29b6-40da-fccb-8407ff02f02b"
   },
   "outputs": [
    {
     "data": {
      "text/html": [
       "<div>\n",
       "<style scoped>\n",
       "    .dataframe tbody tr th:only-of-type {\n",
       "        vertical-align: middle;\n",
       "    }\n",
       "\n",
       "    .dataframe tbody tr th {\n",
       "        vertical-align: top;\n",
       "    }\n",
       "\n",
       "    .dataframe thead th {\n",
       "        text-align: right;\n",
       "    }\n",
       "</style>\n",
       "<table border=\"1\" class=\"dataframe\">\n",
       "  <thead>\n",
       "    <tr style=\"text-align: right;\">\n",
       "      <th></th>\n",
       "      <th>Comuna</th>\n",
       "      <th>N°</th>\n",
       "      <th>Unnamed: 0</th>\n",
       "      <th>Población</th>\n",
       "      <th>Unnamed: 1</th>\n",
       "      <th>Tasa</th>\n",
       "      <th>Unnamed: 2</th>\n",
       "    </tr>\n",
       "  </thead>\n",
       "  <tbody>\n",
       "    <tr>\n",
       "      <th>0</th>\n",
       "      <td>Antártica</td>\n",
       "      <td>NaN</td>\n",
       "      <td>-</td>\n",
       "      <td>137</td>\n",
       "      <td>NaN</td>\n",
       "      <td>NaN</td>\n",
       "      <td>0,0</td>\n",
       "    </tr>\n",
       "    <tr>\n",
       "      <th>1</th>\n",
       "      <td>Cabo de Hornos</td>\n",
       "      <td>NaN</td>\n",
       "      <td>5</td>\n",
       "      <td>1983</td>\n",
       "      <td>NaN</td>\n",
       "      <td>NaN</td>\n",
       "      <td>252,1</td>\n",
       "    </tr>\n",
       "    <tr>\n",
       "      <th>2</th>\n",
       "      <td>Laguna Blanca</td>\n",
       "      <td>NaN</td>\n",
       "      <td>-</td>\n",
       "      <td>264</td>\n",
       "      <td>NaN</td>\n",
       "      <td>NaN</td>\n",
       "      <td>0,0</td>\n",
       "    </tr>\n",
       "    <tr>\n",
       "      <th>3</th>\n",
       "      <td>Natales</td>\n",
       "      <td>NaN</td>\n",
       "      <td>-</td>\n",
       "      <td>23782</td>\n",
       "      <td>NaN</td>\n",
       "      <td>NaN</td>\n",
       "      <td>4,2</td>\n",
       "    </tr>\n",
       "    <tr>\n",
       "      <th>4</th>\n",
       "      <td>Porvenir</td>\n",
       "      <td>NaN</td>\n",
       "      <td>-</td>\n",
       "      <td>7323</td>\n",
       "      <td>NaN</td>\n",
       "      <td>NaN</td>\n",
       "      <td>0,0</td>\n",
       "    </tr>\n",
       "  </tbody>\n",
       "</table>\n",
       "</div>"
      ],
      "text/plain": [
       "           Comuna  N° Unnamed: 0  Población  Unnamed: 1  Tasa Unnamed: 2\n",
       "0       Antártica NaN          -        137         NaN   NaN        0,0\n",
       "1  Cabo de Hornos NaN          5       1983         NaN   NaN      252,1\n",
       "2   Laguna Blanca NaN          -        264         NaN   NaN        0,0\n",
       "3         Natales NaN          -      23782         NaN   NaN        4,2\n",
       "4        Porvenir NaN          -       7323         NaN   NaN        0,0"
      ]
     },
     "execution_count": 69,
     "metadata": {
      "tags": []
     },
     "output_type": "execute_result"
    }
   ],
   "source": [
    "df_comunas_20200330['tabla_23'].head()"
   ]
  },
  {
   "cell_type": "markdown",
   "metadata": {
    "colab_type": "text",
    "id": "qLhY2PZ01JuI"
   },
   "source": [
    "Misma tabla **no** empieza con un *Unnamed: 0*"
   ]
  },
  {
   "cell_type": "markdown",
   "metadata": {
    "colab_type": "text",
    "id": "xJ3pEB521JuJ"
   },
   "source": [
    "# Separamos estas dos categorias:"
   ]
  },
  {
   "cell_type": "code",
   "execution_count": 0,
   "metadata": {
    "colab": {
     "base_uri": "https://localhost:8080/",
     "height": 86
    },
    "colab_type": "code",
    "id": "XU3_2rUq1JuK",
    "outputId": "1d4c217b-ea79-44f0-d525-20b79de23120",
    "scrolled": false
   },
   "outputs": [
    {
     "name": "stdout",
     "output_type": "stream",
     "text": [
      "tabla_6\n",
      "tabla_17\n",
      "tabla_18\n",
      "tabla_21\n"
     ]
    }
   ],
   "source": [
    "df_comunas_20200401 = {}\n",
    "unnamed_primeraCol_20200401 = {}\n",
    "\n",
    "for idx, df in enumerate(tablas_20200401):\n",
    "    if 'Comuna' in df.columns:\n",
    "        \n",
    "        key = 'tabla_' + str(idx + 1)\n",
    "        df_comunas_20200401[key] = df\n",
    "        \n",
    "        if 'Unnamed' in df.columns[0]: \n",
    "            print(key)\n",
    "            unnamed_primeraCol_20200401[key] = df"
   ]
  },
  {
   "cell_type": "code",
   "execution_count": 0,
   "metadata": {
    "colab": {
     "base_uri": "https://localhost:8080/",
     "height": 104
    },
    "colab_type": "code",
    "id": "6EOFqqWR1JuM",
    "outputId": "461f23a8-62b1-4c8f-d15e-967afdc78a0b"
   },
   "outputs": [
    {
     "name": "stdout",
     "output_type": "stream",
     "text": [
      "tabla_7\n",
      "tabla_13\n",
      "tabla_18\n",
      "tabla_19\n",
      "tabla_22\n"
     ]
    }
   ],
   "source": [
    "df_comunas_20200330 = {}\n",
    "unnamed_primeraCol_20200330 = {}\n",
    "\n",
    "for idx, df in enumerate(tablas_20200330):\n",
    "    if 'Comuna' in df.columns:\n",
    "        \n",
    "        key= 'tabla_' + str(idx + 1)\n",
    "        df_comunas_20200330[key] = df\n",
    "        \n",
    "        if 'Unnamed' in df.columns[0]:\n",
    "            print(key)            \n",
    "            unnamed_primeraCol_20200330[key] = df"
   ]
  },
  {
   "cell_type": "markdown",
   "metadata": {
    "colab_type": "text",
    "id": "mLXJmcP31JuR"
   },
   "source": [
    "# Resumen"
   ]
  },
  {
   "cell_type": "markdown",
   "metadata": {
    "colab_type": "text",
    "id": "PR2PPcNf1JuS"
   },
   "source": [
    "* El informe 20200330 tiene una tabla más al parecer (en realidad esto no es así y parecer que un cambio en el gráfico dejo la kgá).\n",
    "\n",
    "* La extracción de tablas parece tener los mismos errores en las mismas tablas."
   ]
  },
  {
   "cell_type": "code",
   "execution_count": 0,
   "metadata": {
    "colab": {},
    "colab_type": "code",
    "id": "4qzm3Qbe1JuS"
   },
   "outputs": [],
   "source": [
    "%%capture\n",
    "\"\"\"\n",
    "\n",
    "for tup_1, tup_2 in zip(df_comunas.items(), df_comunas_2.items()):\n",
    "    key_1, df_1 = tup_1\n",
    "    key_2, df_2 = tup_2\n",
    "    \n",
    "    if (key_1 or key_2) in unnamed_primeraCol:\n",
    "        if (df_1.columns == df_2.columns).all: \n",
    "            print(\"LAS COLUMNAS DE LAS TABLAS *diferentes* coinciden!\", key_1, key_2)\n",
    "            \n",
    "\"\"\""
   ]
  },
  {
   "cell_type": "markdown",
   "metadata": {
    "colab_type": "text",
    "id": "Jhl-4l7T1JuX"
   },
   "source": [
    "## Estandarizamos las tablas"
   ]
  },
  {
   "cell_type": "code",
   "execution_count": 0,
   "metadata": {
    "colab": {},
    "colab_type": "code",
    "id": "zzncxA4G1JuX"
   },
   "outputs": [],
   "source": [
    "for key in df_comunas_20200401.keys():\n",
    "    df = df_comunas_20200401[key]\n",
    "    \n",
    "    if key in unnamed_primeraCol_20200401.keys():\n",
    "        df['Comuna'] = df['Unnamed: 0']\n",
    "        df['N°'] = df['Unnamed: 1']\n",
    "        df['Tasa'] = df['Unnamed: 2']\n",
    "        \n",
    "        df_comunas_20200401[key] = df.drop(labels='Unnamed: 0', \n",
    "                                  axis=1).drop(labels='Unnamed: 1',\n",
    "                                               axis=1).drop(labels='Unnamed: 2', axis=1)\n",
    "        \n",
    "    else:\n",
    "        if key == 'tabla_22': continue  \n",
    "        \n",
    "        df_comunas_20200401[key] = df.drop(labels='Unnamed: 0', \n",
    "                          axis=1).drop(labels='Unnamed: 1', axis=1)"
   ]
  },
  {
   "cell_type": "code",
   "execution_count": 0,
   "metadata": {
    "colab": {},
    "colab_type": "code",
    "id": "nKKdjLDT1Jua"
   },
   "outputs": [],
   "source": [
    "for key in df_comunas_20200330.keys():\n",
    "    df = df_comunas_20200330[key]\n",
    "    \n",
    "    if key in unnamed_primeraCol_20200330.keys():\n",
    "        df['Comuna'] = df['Unnamed: 0']\n",
    "        df['N°'] = df['Unnamed: 1']\n",
    "        df['Tasa'] = df['Unnamed: 2']\n",
    "        \n",
    "        df_comunas_20200330[key] = df.drop(labels='Unnamed: 0', \n",
    "                                  axis=1).drop(labels='Unnamed: 1',\n",
    "                                               axis=1).drop(labels='Unnamed: 2', axis=1)\n",
    "    else:\n",
    "        if key == 'tabla_22': continue  \n",
    "        \n",
    "        df_comunas_20200330[key] = df.drop(labels='Unnamed: 0', \n",
    "                          axis=1).drop(labels='Unnamed: 1',axis=1)"
   ]
  },
  {
   "cell_type": "code",
   "execution_count": 0,
   "metadata": {
    "colab": {
     "base_uri": "https://localhost:8080/",
     "height": 312
    },
    "colab_type": "code",
    "id": "uJ1sTOfc1Jud",
    "outputId": "19f6c881-b691-42d8-ea8f-9d3f199c0232"
   },
   "outputs": [
    {
     "name": "stdout",
     "output_type": "stream",
     "text": [
      "tabla_6 Index(['Comuna', 'N°', 'Población', 'Tasa'], dtype='object')\n",
      "tabla_7 Index(['Comuna', 'N°', 'Población', 'Tasa'], dtype='object')\n",
      "tabla_8 Index(['Comuna', 'N°', 'Población', 'Tasa'], dtype='object')\n",
      "tabla_9 Index(['Comuna', 'N°', 'Población', 'Tasa'], dtype='object')\n",
      "tabla_10 Index(['Comuna', 'N°', 'Población', 'Tasa'], dtype='object')\n",
      "tabla_11 Index(['Comuna', 'N°', 'Población', 'Tasa'], dtype='object')\n",
      "tabla_14 Index(['Comuna', 'N°', 'Población', 'Tasa'], dtype='object')\n",
      "tabla_15 Index(['Comuna', 'N°', 'Población', 'Tasa'], dtype='object')\n",
      "tabla_16 Index(['Comuna', 'N°', 'Población', 'Tasa'], dtype='object')\n",
      "tabla_17 Index(['Comuna', 'N°', 'Población', 'Tasa'], dtype='object')\n",
      "tabla_18 Index(['Comuna', 'N°', 'Población', 'Tasa'], dtype='object')\n",
      "tabla_19 Index(['Comuna', 'N°', 'Población', 'Tasa'], dtype='object')\n",
      "tabla_20 Index(['Comuna', 'N°', 'Población', 'Tasa'], dtype='object')\n",
      "tabla_21 Index(['Comuna', 'N°', 'Población', 'Tasa'], dtype='object')\n",
      "tabla_22 Index(['Comuna', 'N°', 'Unnamed: 0', 'Población', 'Unnamed: 1', 'Tasa',\n",
      "       'Unnamed: 2'],\n",
      "      dtype='object')\n"
     ]
    }
   ],
   "source": [
    "for key, region in df_comunas_20200401.items():\n",
    "    print(key, region.columns)"
   ]
  },
  {
   "cell_type": "code",
   "execution_count": 0,
   "metadata": {
    "colab": {
     "base_uri": "https://localhost:8080/",
     "height": 295
    },
    "colab_type": "code",
    "id": "XcRKFnqQ1Jug",
    "outputId": "0a960d8b-7c64-492b-9857-49b7971cf122",
    "scrolled": true
   },
   "outputs": [
    {
     "name": "stdout",
     "output_type": "stream",
     "text": [
      "tabla_7 Index(['Comuna', 'N°', 'Población', 'Tasa'], dtype='object')\n",
      "tabla_8 Index(['Comuna', 'N°', 'Población', 'Tasa'], dtype='object')\n",
      "tabla_9 Index(['Comuna', 'N°', 'Población', 'Tasa'], dtype='object')\n",
      "tabla_10 Index(['Comuna', 'N°', 'Población', 'Tasa'], dtype='object')\n",
      "tabla_11 Index(['Comuna', 'N°', 'Población', 'Tasa'], dtype='object')\n",
      "tabla_12 Index(['Comuna', 'N°', 'Población', 'Tasa'], dtype='object')\n",
      "tabla_13 Index(['Comuna', 'N°', 'Población', 'Tasa'], dtype='object')\n",
      "tabla_15 Index(['Comuna', 'N°', 'Población', 'Tasa'], dtype='object')\n",
      "tabla_16 Index(['Comuna', 'N°', 'Población', 'Tasa'], dtype='object')\n",
      "tabla_17 Index(['Comuna', 'N°', 'Población', 'Tasa'], dtype='object')\n",
      "tabla_18 Index(['Comuna', 'N°', 'Población', 'Tasa'], dtype='object')\n",
      "tabla_19 Index(['Comuna', 'N°', 'Población', 'Tasa'], dtype='object')\n",
      "tabla_20 Index(['Comuna', 'N°', 'Población', 'Tasa'], dtype='object')\n",
      "tabla_21 Index(['Comuna', 'N°', 'Población', 'Tasa'], dtype='object')\n",
      "tabla_22 Index(['Comuna', 'N°', 'Población', 'Tasa'], dtype='object')\n",
      "tabla_23 Index(['Comuna', 'N°', 'Población', 'Tasa', 'Unnamed: 2'], dtype='object')\n"
     ]
    }
   ],
   "source": [
    "for key, region in df_comunas_20200330.items():\n",
    "    print(key, region.columns)"
   ]
  },
  {
   "cell_type": "markdown",
   "metadata": {
    "colab_type": "text",
    "id": "FZgsUqaC1Juk"
   },
   "source": [
    "## Ultima tabla tiene *Unnamed: 2*"
   ]
  },
  {
   "cell_type": "code",
   "execution_count": 0,
   "metadata": {
    "colab": {
     "base_uri": "https://localhost:8080/",
     "height": 394
    },
    "colab_type": "code",
    "id": "TkEOtdvU1Jum",
    "outputId": "703c1ac0-674c-44db-d308-254b7ebb21a2"
   },
   "outputs": [
    {
     "data": {
      "text/html": [
       "<div>\n",
       "<style scoped>\n",
       "    .dataframe tbody tr th:only-of-type {\n",
       "        vertical-align: middle;\n",
       "    }\n",
       "\n",
       "    .dataframe tbody tr th {\n",
       "        vertical-align: top;\n",
       "    }\n",
       "\n",
       "    .dataframe thead th {\n",
       "        text-align: right;\n",
       "    }\n",
       "</style>\n",
       "<table border=\"1\" class=\"dataframe\">\n",
       "  <thead>\n",
       "    <tr style=\"text-align: right;\">\n",
       "      <th></th>\n",
       "      <th>Comuna</th>\n",
       "      <th>N°</th>\n",
       "      <th>Población</th>\n",
       "      <th>Tasa</th>\n",
       "    </tr>\n",
       "  </thead>\n",
       "  <tbody>\n",
       "    <tr>\n",
       "      <th>0</th>\n",
       "      <td>Aysén</td>\n",
       "      <td>-</td>\n",
       "      <td>25002</td>\n",
       "      <td>4,0</td>\n",
       "    </tr>\n",
       "    <tr>\n",
       "      <th>1</th>\n",
       "      <td>Chile Chico</td>\n",
       "      <td>-</td>\n",
       "      <td>5121</td>\n",
       "      <td>0,0</td>\n",
       "    </tr>\n",
       "    <tr>\n",
       "      <th>2</th>\n",
       "      <td>Cisnes</td>\n",
       "      <td>-</td>\n",
       "      <td>5828</td>\n",
       "      <td>0,0</td>\n",
       "    </tr>\n",
       "    <tr>\n",
       "      <th>3</th>\n",
       "      <td>Cochrane</td>\n",
       "      <td>-</td>\n",
       "      <td>3685</td>\n",
       "      <td>0,0</td>\n",
       "    </tr>\n",
       "    <tr>\n",
       "      <th>4</th>\n",
       "      <td>Coyhaique</td>\n",
       "      <td>-</td>\n",
       "      <td>61210</td>\n",
       "      <td>3,3</td>\n",
       "    </tr>\n",
       "    <tr>\n",
       "      <th>5</th>\n",
       "      <td>Guaitecas</td>\n",
       "      <td>-</td>\n",
       "      <td>1599</td>\n",
       "      <td>0,0</td>\n",
       "    </tr>\n",
       "    <tr>\n",
       "      <th>6</th>\n",
       "      <td>Lago Verde</td>\n",
       "      <td>-</td>\n",
       "      <td>920</td>\n",
       "      <td>0,0</td>\n",
       "    </tr>\n",
       "    <tr>\n",
       "      <th>7</th>\n",
       "      <td>O'Higgins</td>\n",
       "      <td>-</td>\n",
       "      <td>661</td>\n",
       "      <td>0,0</td>\n",
       "    </tr>\n",
       "    <tr>\n",
       "      <th>8</th>\n",
       "      <td>Río Ibáñez</td>\n",
       "      <td>-</td>\n",
       "      <td>2699</td>\n",
       "      <td>0,0</td>\n",
       "    </tr>\n",
       "    <tr>\n",
       "      <th>9</th>\n",
       "      <td>Tortel</td>\n",
       "      <td>-</td>\n",
       "      <td>572</td>\n",
       "      <td>0,0</td>\n",
       "    </tr>\n",
       "    <tr>\n",
       "      <th>10</th>\n",
       "      <td>Total</td>\n",
       "      <td>3</td>\n",
       "      <td>107297</td>\n",
       "      <td>2,8</td>\n",
       "    </tr>\n",
       "  </tbody>\n",
       "</table>\n",
       "</div>"
      ],
      "text/plain": [
       "         Comuna N°  Población Tasa\n",
       "0         Aysén  -      25002  4,0\n",
       "1   Chile Chico  -       5121  0,0\n",
       "2        Cisnes  -       5828  0,0\n",
       "3      Cochrane  -       3685  0,0\n",
       "4     Coyhaique  -      61210  3,3\n",
       "5     Guaitecas  -       1599  0,0\n",
       "6    Lago Verde  -        920  0,0\n",
       "7     O'Higgins  -        661  0,0\n",
       "8    Río Ibáñez  -       2699  0,0\n",
       "9        Tortel  -        572  0,0\n",
       "10        Total  3     107297  2,8"
      ]
     },
     "execution_count": 77,
     "metadata": {
      "tags": []
     },
     "output_type": "execute_result"
    }
   ],
   "source": [
    "df_comunas_20200401['tabla_21']"
   ]
  },
  {
   "cell_type": "code",
   "execution_count": 0,
   "metadata": {
    "colab": {
     "base_uri": "https://localhost:8080/",
     "height": 426
    },
    "colab_type": "code",
    "id": "iplrVbZh1Juo",
    "outputId": "36b9e0f4-ec55-48c2-87d3-62ae5ce08b18"
   },
   "outputs": [
    {
     "data": {
      "text/html": [
       "<div>\n",
       "<style scoped>\n",
       "    .dataframe tbody tr th:only-of-type {\n",
       "        vertical-align: middle;\n",
       "    }\n",
       "\n",
       "    .dataframe tbody tr th {\n",
       "        vertical-align: top;\n",
       "    }\n",
       "\n",
       "    .dataframe thead th {\n",
       "        text-align: right;\n",
       "    }\n",
       "</style>\n",
       "<table border=\"1\" class=\"dataframe\">\n",
       "  <thead>\n",
       "    <tr style=\"text-align: right;\">\n",
       "      <th></th>\n",
       "      <th>Comuna</th>\n",
       "      <th>N°</th>\n",
       "      <th>Población</th>\n",
       "      <th>Tasa</th>\n",
       "      <th>Unnamed: 2</th>\n",
       "    </tr>\n",
       "  </thead>\n",
       "  <tbody>\n",
       "    <tr>\n",
       "      <th>0</th>\n",
       "      <td>Antártica</td>\n",
       "      <td>NaN</td>\n",
       "      <td>137</td>\n",
       "      <td>NaN</td>\n",
       "      <td>0,0</td>\n",
       "    </tr>\n",
       "    <tr>\n",
       "      <th>1</th>\n",
       "      <td>Cabo de Hornos</td>\n",
       "      <td>NaN</td>\n",
       "      <td>1983</td>\n",
       "      <td>NaN</td>\n",
       "      <td>252,1</td>\n",
       "    </tr>\n",
       "    <tr>\n",
       "      <th>2</th>\n",
       "      <td>Laguna Blanca</td>\n",
       "      <td>NaN</td>\n",
       "      <td>264</td>\n",
       "      <td>NaN</td>\n",
       "      <td>0,0</td>\n",
       "    </tr>\n",
       "    <tr>\n",
       "      <th>3</th>\n",
       "      <td>Natales</td>\n",
       "      <td>NaN</td>\n",
       "      <td>23782</td>\n",
       "      <td>NaN</td>\n",
       "      <td>4,2</td>\n",
       "    </tr>\n",
       "    <tr>\n",
       "      <th>4</th>\n",
       "      <td>Porvenir</td>\n",
       "      <td>NaN</td>\n",
       "      <td>7323</td>\n",
       "      <td>NaN</td>\n",
       "      <td>0,0</td>\n",
       "    </tr>\n",
       "    <tr>\n",
       "      <th>5</th>\n",
       "      <td>Primavera</td>\n",
       "      <td>NaN</td>\n",
       "      <td>694</td>\n",
       "      <td>NaN</td>\n",
       "      <td>0,0</td>\n",
       "    </tr>\n",
       "    <tr>\n",
       "      <th>6</th>\n",
       "      <td>Punta Arenas</td>\n",
       "      <td>NaN</td>\n",
       "      <td>141984</td>\n",
       "      <td>NaN</td>\n",
       "      <td>20,4</td>\n",
       "    </tr>\n",
       "    <tr>\n",
       "      <th>7</th>\n",
       "      <td>Río Verde</td>\n",
       "      <td>NaN</td>\n",
       "      <td>211</td>\n",
       "      <td>NaN</td>\n",
       "      <td>0,0</td>\n",
       "    </tr>\n",
       "    <tr>\n",
       "      <th>8</th>\n",
       "      <td>San Gregorio</td>\n",
       "      <td>NaN</td>\n",
       "      <td>681</td>\n",
       "      <td>NaN</td>\n",
       "      <td>0,0</td>\n",
       "    </tr>\n",
       "    <tr>\n",
       "      <th>9</th>\n",
       "      <td>Timaukel</td>\n",
       "      <td>NaN</td>\n",
       "      <td>282</td>\n",
       "      <td>NaN</td>\n",
       "      <td>0,0</td>\n",
       "    </tr>\n",
       "    <tr>\n",
       "      <th>10</th>\n",
       "      <td>Torres del Paine</td>\n",
       "      <td>NaN</td>\n",
       "      <td>1021</td>\n",
       "      <td>NaN</td>\n",
       "      <td>0,0</td>\n",
       "    </tr>\n",
       "    <tr>\n",
       "      <th>11</th>\n",
       "      <td>Total</td>\n",
       "      <td>NaN</td>\n",
       "      <td>178362</td>\n",
       "      <td>NaN</td>\n",
       "      <td>19,6</td>\n",
       "    </tr>\n",
       "  </tbody>\n",
       "</table>\n",
       "</div>"
      ],
      "text/plain": [
       "              Comuna  N°  Población  Tasa Unnamed: 2\n",
       "0          Antártica NaN        137   NaN        0,0\n",
       "1     Cabo de Hornos NaN       1983   NaN      252,1\n",
       "2      Laguna Blanca NaN        264   NaN        0,0\n",
       "3            Natales NaN      23782   NaN        4,2\n",
       "4           Porvenir NaN       7323   NaN        0,0\n",
       "5          Primavera NaN        694   NaN        0,0\n",
       "6       Punta Arenas NaN     141984   NaN       20,4\n",
       "7          Río Verde NaN        211   NaN        0,0\n",
       "8       San Gregorio NaN        681   NaN        0,0\n",
       "9           Timaukel NaN        282   NaN        0,0\n",
       "10  Torres del Paine NaN       1021   NaN        0,0\n",
       "11             Total NaN     178362   NaN       19,6"
      ]
     },
     "execution_count": 78,
     "metadata": {
      "tags": []
     },
     "output_type": "execute_result"
    }
   ],
   "source": [
    "df_comunas_20200330['tabla_23']"
   ]
  },
  {
   "cell_type": "code",
   "execution_count": 0,
   "metadata": {
    "colab": {},
    "colab_type": "code",
    "id": "j4JOMof71Jus"
   },
   "outputs": [],
   "source": []
  }
 ],
 "metadata": {
  "colab": {
   "collapsed_sections": [],
   "name": "COVID - Descarga y Preprocesamiento Informes EPI MINSAL.ipynb",
   "provenance": [],
   "toc_visible": true
  },
  "kernelspec": {
   "display_name": "Python 3",
   "language": "python",
   "name": "python3"
  },
  "language_info": {
   "codemirror_mode": {
    "name": "ipython",
    "version": 3
   },
   "file_extension": ".py",
   "mimetype": "text/x-python",
   "name": "python",
   "nbconvert_exporter": "python",
   "pygments_lexer": "ipython3",
   "version": "3.7.6"
  }
 },
 "nbformat": 4,
 "nbformat_minor": 1
}
