{
 "cells": [
  {
   "cell_type": "markdown",
   "metadata": {},
   "source": [
    "# Unrestricted Hartree-Fock\n",
    "\n",
    "**This assignment is due on Friday, January 31 at 5PM by email.**\n",
    "\n",
    "In carrying out the implementation of the closed-shell Hartree-Fock method we have, in fact, had to solve most of the design problems associated with open-shell Hartree-Fock.\n",
    "\n",
    "\\begin{align}\n",
    "E_{elec}^{UHF} =&\\ \\sum_i^{n_\\alpha} \\ h_{ii}^{\\alpha} + \\sum_i^{n_\\beta} \\ h_{ii}^{\\beta} \\\\\n",
    "               &+ \\sum_{i<j}^{n_\\alpha} \\biggl\\{ (i^\\alpha i^\\alpha | j^\\alpha j^\\alpha) - (i^\\alpha j^\\alpha | i^\\alpha j^\\alpha) \\biggr\\} + \\sum_{i<j}^{n_\\beta} \\biggl\\{ (i^\\beta i^\\beta | j^\\beta j^\\beta) - (i^\\beta j^\\beta | i^\\beta j^\\beta) \\biggr\\} \\\\\n",
    "               &+ \\sum_i^{n_\\alpha} \\sum_j^{n_\\beta} (i^\\alpha i^\\alpha | j^\\beta j^\\beta)\\\\\n",
    "               =&\\ \\sum_i^{n_\\alpha} \\ h_{ii}^{\\alpha} + \\sum_i^{n_\\beta} \\ h_{ii}^{\\beta} \\\\\n",
    "               & + \\sum_{i<j}^{n_\\alpha} \\biggl\\{ J_{ij}^{\\alpha} - K_{ij}^{\\alpha} \\biggr\\} + \\sum_{i<j}^{n_\\beta} \\biggl\\{ J_{ij}^{\\beta} - K_{ij}^{\\beta} \\biggr\\} \\\\\n",
    "               & + \\sum_i^{n_\\alpha} \\sum_j^{n_\\beta} J_{ij}^{\\alpha\\beta} \\\\\n",
    "\\end{align}"
   ]
  },
  {
   "cell_type": "markdown",
   "metadata": {},
   "source": [
    "The density matrix\n",
    "\\begin{align}\n",
    "D_{\\mu\\nu}^\\alpha =&\\ \\sum_i^{n_{\\alpha}} C_{\\mu i}^\\alpha C_{\\nu i}^\\alpha \\\\\n",
    "D_{\\mu\\nu}^\\beta =&\\ \\sum_i^{n_{\\beta}} C_{\\mu i}^\\beta C_{\\nu i}^\\beta\n",
    "\\end{align}"
   ]
  },
  {
   "cell_type": "markdown",
   "metadata": {},
   "source": [
    "### One-electron energy\n",
    "\\begin{align}\n",
    "E_{one} =&\\ \\sum_i^{n_\\alpha} h_{ii}^\\alpha + \\sum_i^{n_\\beta} h_{ii}^\\beta \\\\\n",
    "        =&\\ \\sum_i^{n_\\alpha} \\biggl\\{ \\sum_{\\mu \\nu}^{AO} C_{\\mu i}^\\alpha C_{\\nu i}^\\alpha h_{\\mu \\nu} \\biggr\\} + \\sum_i^{n_\\beta} \\biggl\\{ \\sum_{\\mu \\nu}^{AO} C_{\\mu i}^\\beta C_{\\nu i}^\\beta h_{\\mu \\nu} \\biggr\\} \\\\\n",
    "        =&\\ \\sum_{\\mu \\nu}^{AO} \\biggl\\{ \\sum_i^{n_\\alpha} C_{\\mu i}^\\alpha C_{\\nu i}^\\alpha + C_{\\mu i}^\\beta C_{\\nu i}^\\beta \\biggr\\} h_{\\mu \\nu} \\\\\n",
    "        =&\\ \\sum_{\\mu \\nu}^{AO} \\biggl\\{ D_{\\mu \\nu}^\\alpha + D_{\\mu \\nu}^\\beta \\biggr\\} h_{\\mu \\nu}\n",
    "\\end{align}\n",
    "Notice that the one-electron energy is composed of an $\\alpha$ and $\\beta$ energy."
   ]
  },
  {
   "cell_type": "markdown",
   "metadata": {},
   "source": [
    "### Two-electron energy\n",
    "\\begin{align}\n",
    "E_{two} =&\\ \\sum_{i<j}^{n_\\alpha} \\biggl\\{ J_{ij}^{\\alpha} - K_{ij}^{\\alpha} \\biggr\\} + \\sum_{i<j}^{n_\\beta} \\biggl\\{ J_{ij}^{\\beta} - K_{ij}^{\\beta} \\biggr\\} + \\sum_i^{n_\\alpha} \\sum_j^{n_\\beta} J_{ij}^{\\alpha\\beta} + \\sum_i^{n_\\beta} \\sum_j^{n_\\alpha} J_{ij}^{\\beta\\alpha}  \\\\\n",
    "\\\\\n",
    "        =&\\ \\sum_{i<j}^{n_\\alpha} \\Biggl[ \\sum_{\\mu\\nu\\rho\\sigma}^{AO} \\biggl\\{ C_{\\mu i}^\\alpha C_{\\nu i}^\\alpha C_{\\rho j}^\\alpha C_{\\sigma j}^\\alpha (\\mu\\nu | \\rho\\sigma) - C_{\\mu i}^\\alpha C_{\\rho j}^\\alpha C_{\\nu i}^\\alpha C_{\\sigma j}^\\alpha (\\mu\\rho | \\nu\\sigma)\\biggr\\} \\Biggr] \\\\\n",
    "        +&\\ \\sum_{i<j}^{n_\\beta} \\Biggl[ \\sum_{\\mu\\nu\\rho\\sigma}^{AO} \\biggl\\{ C_{\\mu i}^\\beta C_{\\nu i}^\\beta C_{\\rho j}^\\beta C_{\\sigma j}^\\beta (\\mu\\nu | \\rho\\sigma) - C_{\\mu i}^\\beta C_{\\rho j}^\\beta C_{\\nu i}^\\beta C_{\\sigma j}^\\beta (\\mu\\rho | \\nu\\sigma)\\biggr\\} \\Biggr] \\\\\n",
    "        +&\\ \\sum_i^{n_\\alpha} \\sum_j^{n_\\beta} \\Biggl[ \\sum_{\\mu\\nu\\rho\\sigma}^{AO} \\biggl\\{ C_{\\mu i}^\\alpha C_{\\nu i}^\\alpha C_{\\rho j}^\\beta C_{\\sigma j}^\\beta (\\mu\\nu | \\rho\\sigma) \\biggr\\} \\Biggr] \\\\\n",
    "        +&\\ \\sum_i^{n_\\beta} \\sum_j^{n_\\alpha} \\Biggl[ \\sum_{\\mu\\nu\\rho\\sigma}^{AO} \\biggl\\{ C_{\\mu i}^\\beta C_{\\nu i}^\\beta C_{\\rho j}^\\alpha C_{\\sigma j}^\\alpha (\\mu\\nu | \\rho\\sigma) \\biggr\\} \\Biggr] \\\\\n",
    "\\\\\n",
    "        =&\\ \\sum_{\\mu\\nu\\rho\\sigma}^{AO} \\Biggl[ \\biggl\\{ \\sum_i^{n_\\alpha} C_{\\mu i}^\\alpha C_{\\nu i}^\\alpha \\biggr\\} \\biggl\\{ \\sum_j^{n_\\alpha} C_{\\rho j}^\\alpha C_{\\sigma j}^\\alpha \\biggr\\} \\biggl\\{ (\\mu\\nu|\\rho\\sigma) - (\\mu\\rho|\\nu\\sigma) \\biggr\\} \\Biggr] \\\\\n",
    "        +&\\ \\sum_{\\mu\\nu\\rho\\sigma}^{AO} \\Biggl[ \\biggl\\{ \\sum_i^{n_\\beta} C_{\\mu i}^\\beta C_{\\nu i}^\\beta \\biggr\\} \\biggl\\{ \\sum_j^{n_\\beta} C_{\\rho j}^\\beta C_{\\sigma j}^\\beta \\biggr\\} \\biggl\\{ (\\mu\\nu|\\rho\\sigma) - (\\mu\\rho|\\nu\\sigma) \\biggr\\} \\Biggr] \\\\\n",
    "        +&\\ \\sum_{\\mu\\nu\\rho\\sigma}^{AO} \\Biggl[ \\biggl\\{ \\sum_i^{n_\\alpha} C_{\\mu i}^\\alpha C_{\\nu i}^\\alpha \\biggr\\} \\biggl\\{ \\sum_j^{n_\\beta} C_{\\rho j}^\\beta C_{\\sigma j}^\\beta \\biggr\\} (\\mu\\nu|\\rho\\sigma) \\Biggr] \\\\\n",
    "        +&\\ \\sum_{\\mu\\nu\\rho\\sigma}^{AO} \\Biggl[ \\biggl\\{ \\sum_i^{n_\\beta} C_{\\mu i}^\\beta C_{\\nu i}^\\beta \\biggr\\} \\biggl\\{ \\sum_j^{n_\\alpha} C_{\\rho j}^\\alpha C_{\\sigma j}^\\alpha \\biggr\\} (\\mu\\nu|\\rho\\sigma) \\Biggr] \\\\\n",
    "\\\\\n",
    "        =&\\ \\sum_{\\mu\\nu\\rho\\sigma}^{AO} D_{\\mu\\nu}^\\alpha D_{\\rho\\sigma}^\\alpha \\biggl\\{ (\\mu\\nu|\\rho\\sigma) - (\\mu\\rho|\\nu\\sigma) \\biggr\\} \\\\\n",
    "        +&\\ \\sum_{\\mu\\nu\\rho\\sigma}^{AO} D_{\\mu\\nu}^\\beta D_{\\rho\\sigma}^\\beta \\biggl\\{ (\\mu\\nu|\\rho\\sigma) - (\\mu\\rho|\\nu\\sigma) \\biggr\\} \\\\\n",
    "        +&\\ \\sum_{\\mu\\nu\\rho\\sigma}^{AO} D_{\\mu\\nu}^\\alpha D_{\\rho\\sigma}^\\beta (\\mu\\nu|\\rho\\sigma) \\\\\n",
    "        +&\\ \\sum_{\\mu\\nu\\rho\\sigma}^{AO} D_{\\mu\\nu}^\\beta D_{\\rho\\sigma}^\\alpha (\\mu\\nu|\\rho\\sigma) \\\\\n",
    "\\end{align}"
   ]
  },
  {
   "cell_type": "markdown",
   "metadata": {},
   "source": [
    "### Fock Matrix\n",
    "\\begin{align}\n",
    "F_{\\mu\\nu}^{\\alpha} =&\\ h_{\\mu\\nu}^\\alpha + \\sum_{\\rho\\sigma}^{AO} D_{\\rho\\sigma}^\\alpha \\biggl\\{ (\\mu\\nu|\\rho\\sigma) - (\\mu\\rho|\\nu\\sigma) \\biggr\\}  + D_{\\rho\\sigma}^\\beta (\\mu\\nu|\\rho\\sigma) \\\\\n",
    "F_{\\mu\\nu}^{\\alpha} =&\\ h_{\\mu\\nu}^\\alpha + J_{\\mu\\nu}^{\\alpha} - K_{\\mu\\nu}^\\alpha + J_{\\mu\\nu}^\\beta\\\\\n",
    "\\\\\n",
    "F_{\\mu\\nu}^{\\beta} =&\\ h_{\\mu\\nu}^\\beta + \\sum_{\\rho\\sigma}^{AO} D_{\\rho\\sigma}^\\beta \\biggl\\{ (\\mu\\nu|\\rho\\sigma) - (\\mu\\rho|\\nu\\sigma) \\biggr\\}  + D_{\\rho\\sigma}^\\alpha (\\mu\\nu|\\rho\\sigma) \\\\\n",
    "F_{\\mu\\nu}^{\\beta} =&\\ h_{\\mu\\nu}^\\beta + J_{\\mu\\nu}^{\\beta} - K_{\\mu\\nu}^\\beta + J_{\\mu\\nu}^\\alpha\n",
    "\\end{align}\n",
    "\n",
    "### Electronic Energy\n",
    "\\begin{align}\n",
    "E_{elec} = \\frac{1}{2}\\Biggl[ \\sum_{\\mu \\nu}^{AO} \\biggl\\{ D_{\\mu\\nu}^\\alpha + D_{\\mu\\nu}^\\beta \\biggr\\} h_{\\mu\\nu} + \\sum_{\\mu \\nu}^{AO} D_{\\mu\\nu}^\\alpha F_{\\mu\\nu}^\\alpha + \\sum_{\\mu\\nu}^{AO} D_{\\mu\\nu}^\\beta F_{\\mu\\nu}^{\\beta} \\Biggr]\n",
    "\\end{align}\n",
    "The $\\tfrac{1}{2}$ is to correct for double counting.\n",
    "\n",
    "Additional insights into UHF can be found in Modern Quantum Chemistry by Szabo and Ostlund at Chapter 3 Section 8.\n",
    "\n",
    "### Spin Contamination Metric\n",
    "\n",
    "\\begin{align}\n",
    "S_{i j}^{\\mathrm{metric}} =& C_{\\mu i}^{\\alpha} S_{\\mu \\nu} C_{\\nu j}^\\beta \\\\\n",
    "S^{\\mathrm{contamination}} =& \\mathrm{min}(n_{\\alpha}, n_{\\beta}) - (S^{\\mathrm{metric}} \\cdot S^{\\mathrm{metric}})\n",
    "\\end{align}"
   ]
  },
  {
   "cell_type": "markdown",
   "metadata": {},
   "source": [
    "### Procedure\n",
    "For this assignment, please create a separate `.py` file as this will form the base for the remaining assignments.\n",
    "\n",
    "1. Load Psi4 and NumPy\n",
    "2. Setup your initial conditions\n",
    "   * Construct a new molecule in C1 symmetry\n",
    "   * Load in the basis set\n",
    "   * Create a `MintsHelper` object to compute the integrals.\n",
    "3. Compute needed integrals\n",
    "4. Form the one-electron Hamiltonian.\n",
    "5. Construct the orthogonalizer $S^{-1/2}$\n",
    "6. Construct the initial density matrices $D^\\alpha$ and $D^\\beta$\n",
    "   * Form the initial (transformed) Fock matrices using a core Hamiltonian guess\n",
    "   * Diagonalize the Fock matrices\n",
    "   * Form the SCF eigenvectors $C^\\alpha$ and $C^\\beta$\n",
    "   * Form the initial density matrices $D^\\alpha$ and $D^\\beta$\n",
    "7. Perform SCF iterations until convergence is achieved\n",
    "   * Construct new Fock matrices\n",
    "   * Calculate this iteration's electronic and total energies\n",
    "   * Transform the Fock matrices to the orthonormal basis\n",
    "   * Diagonalize the Fock matrices\n",
    "   * Construct the new SCF eigenvector matrices\n",
    "   * Form the new density matrices\n",
    "   * Test convergency of the density matrices and energy\n",
    "8. Compute and print the spin-contamination."
   ]
  },
  {
   "cell_type": "markdown",
   "metadata": {},
   "source": [
    "My output:\n",
    "\n",
    "    UHF iteration   1: energy   -73.50799290557293  dE -7.35080E+01\n",
    "    UHF iteration   2: energy   -74.66361368523238  dE -1.15562E+00\n",
    "    UHF iteration   3: energy   -74.66614383044545  dE -2.53015E-03\n",
    "    UHF iteration   4: energy   -74.66638263555237  dE -2.38805E-04\n",
    "    UHF iteration   5: energy   -74.66644299107340  dE -6.03555E-05\n",
    "    UHF iteration   6: energy   -74.66646469386085  dE -2.17028E-05\n",
    "    UHF iteration   7: energy   -74.66647352191376  dE -8.82805E-06\n",
    "    UHF iteration   8: energy   -74.66647726970710  dE -3.74779E-06\n",
    "    UHF iteration   9: energy   -74.66647888623531  dE -1.61653E-06\n",
    "    UHF iteration  10: energy   -74.66647958779794  dE -7.01563E-07\n",
    "    UHF iteration  11: energy   -74.66647989301480  dE -3.05217E-07\n",
    "    UHF iteration  12: energy   -74.66648002592984  dE -1.32915E-07\n",
    "    UHF iteration  13: energy   -74.66648008383399  dE -5.79041E-08\n",
    "    UHF iteration  14: energy   -74.66648010906377  dE -2.52298E-08\n",
    "    UHF iteration  15: energy   -74.66648012005750  dE -1.09937E-08\n",
    "    UHF iteration  16: energy   -74.66648012484804  dE -4.79054E-09\n",
    "    UHF iteration  17: energy   -74.66648012693554  dE -2.08750E-09\n",
    "    UHF iteration  18: energy   -74.66648012784520  dE -9.09665E-10\n",
    "    UHF iteration  19: energy   -74.66648012824157  dE -3.96369E-10\n",
    "    UHF iteration  20: energy   -74.66648012841434  dE -1.72761E-10\n",
    "    UHF iteration  21: energy   -74.66648012848960  dE -7.52607E-11\n",
    "    \n",
    "    Spin Contamination Metric: 6.40288E-03\n",
    "    \n",
    "### Testing against Psi4"
   ]
  },
  {
   "cell_type": "code",
   "execution_count": 1,
   "metadata": {},
   "outputs": [
    {
     "ename": "AttributeError",
     "evalue": "'NoneType' object has no attribute 'update_geometry'",
     "output_type": "error",
     "traceback": [
      "\u001b[0;31m---------------------------------------------------------------------------\u001b[0m",
      "\u001b[0;31mAttributeError\u001b[0m                            Traceback (most recent call last)",
      "\u001b[0;32m<ipython-input-1-b32deeda79ec>\u001b[0m in \u001b[0;36m<module>\u001b[0;34m\u001b[0m\n\u001b[1;32m      5\u001b[0m                  \u001b[0;34m'e_convergence'\u001b[0m\u001b[0;34m:\u001b[0m \u001b[0;36m1e-10\u001b[0m\u001b[0;34m,\u001b[0m\u001b[0;34m\u001b[0m\u001b[0;34m\u001b[0m\u001b[0m\n\u001b[1;32m      6\u001b[0m                  'reference': 'uhf'})\n\u001b[0;32m----> 7\u001b[0;31m \u001b[0mpsi4\u001b[0m\u001b[0;34m.\u001b[0m\u001b[0menergy\u001b[0m\u001b[0;34m(\u001b[0m\u001b[0;34m'scf'\u001b[0m\u001b[0;34m)\u001b[0m\u001b[0;34m\u001b[0m\u001b[0;34m\u001b[0m\u001b[0m\n\u001b[0m",
      "\u001b[0;32m/opt/python/anaconda/3/envs/hub/lib/python3.7/site-packages/psi4/driver/driver.py\u001b[0m in \u001b[0;36menergy\u001b[0;34m(name, **kwargs)\u001b[0m\n\u001b[1;32m    514\u001b[0m     \u001b[0;31m# Make sure the molecule the user provided is the active one\u001b[0m\u001b[0;34m\u001b[0m\u001b[0;34m\u001b[0m\u001b[0;34m\u001b[0m\u001b[0m\n\u001b[1;32m    515\u001b[0m     \u001b[0mmolecule\u001b[0m \u001b[0;34m=\u001b[0m \u001b[0mkwargs\u001b[0m\u001b[0;34m.\u001b[0m\u001b[0mpop\u001b[0m\u001b[0;34m(\u001b[0m\u001b[0;34m'molecule'\u001b[0m\u001b[0;34m,\u001b[0m \u001b[0mcore\u001b[0m\u001b[0;34m.\u001b[0m\u001b[0mget_active_molecule\u001b[0m\u001b[0;34m(\u001b[0m\u001b[0;34m)\u001b[0m\u001b[0;34m)\u001b[0m\u001b[0;34m\u001b[0m\u001b[0;34m\u001b[0m\u001b[0m\n\u001b[0;32m--> 516\u001b[0;31m     \u001b[0mmolecule\u001b[0m\u001b[0;34m.\u001b[0m\u001b[0mupdate_geometry\u001b[0m\u001b[0;34m(\u001b[0m\u001b[0;34m)\u001b[0m\u001b[0;34m\u001b[0m\u001b[0;34m\u001b[0m\u001b[0m\n\u001b[0m\u001b[1;32m    517\u001b[0m \u001b[0;34m\u001b[0m\u001b[0m\n\u001b[1;32m    518\u001b[0m     \u001b[0;31m#for precallback in hooks['energy']['pre']:\u001b[0m\u001b[0;34m\u001b[0m\u001b[0;34m\u001b[0m\u001b[0;34m\u001b[0m\u001b[0m\n",
      "\u001b[0;31mAttributeError\u001b[0m: 'NoneType' object has no attribute 'update_geometry'"
     ]
    }
   ],
   "source": [
    "import psi4\n",
    "\n",
    "psi4.set_options({'basis': 'sto-3g',\n",
    "                 'scf_type': 'pk',\n",
    "                 'e_convergence': 1e-10,\n",
    "                 'reference': 'uhf'})\n",
    "psi4.energy('scf')"
   ]
  },
  {
   "cell_type": "code",
   "execution_count": 2,
   "metadata": {},
   "outputs": [],
   "source": [
    "import numpy as np\n",
    "from openshell import Settings\n",
    "\n",
    "np.set_printoptions(suppress=True, linewidth=200)"
   ]
  },
  {
   "cell_type": "code",
   "execution_count": 3,
   "metadata": {},
   "outputs": [],
   "source": [
    "molecule = psi4.geometry(Settings['molecule'])\n",
    "molecule.update_geometry()"
   ]
  },
  {
   "cell_type": "code",
   "execution_count": 4,
   "metadata": {},
   "outputs": [],
   "source": [
    "nalpha = Settings['nalpha']\n",
    "nbeta = Settings['nbeta']\n",
    "\n",
    "scf_max_iter = Settings['scf_max_iter']\n",
    "\n",
    "basis = psi4.core.BasisSet.build(molecule, 'BASIS', Settings['basis'])\n",
    "mints = psi4.core.MintsHelper(basis)"
   ]
  },
  {
   "cell_type": "code",
   "execution_count": 5,
   "metadata": {},
   "outputs": [
    {
     "name": "stdout",
     "output_type": "stream",
     "text": [
      "[[-32.67360938  -7.60160704  -0.01741536   0.           0.          -1.57818038  -1.57818038]\n",
      " [ -7.60160704  -9.2914758   -0.20781331   0.          -0.          -3.47334591  -3.47334591]\n",
      " [ -0.01741536  -0.20781331  -7.50695983   0.           0.          -1.55452724  -1.55452724]\n",
      " [  0.           0.           0.          -7.42214005   0.           0.           0.        ]\n",
      " [  0.          -0.           0.           0.          -7.56362101   1.92474988  -1.92474988]\n",
      " [ -1.57818038  -3.47334591  -1.55452724   0.           1.92474988  -4.90357867  -1.42265626]\n",
      " [ -1.57818038  -3.47334591  -1.55452724   0.          -1.92474988  -1.42265626  -4.90357867]]\n"
     ]
    }
   ],
   "source": [
    "S = mints.ao_overlap().np\n",
    "T = mints.ao_kinetic().np\n",
    "V = mints.ao_potential().np\n",
    "I = mints.ao_eri().np\n",
    "\n",
    "H = T + V\n",
    "print(H)"
   ]
  },
  {
   "cell_type": "code",
   "execution_count": 6,
   "metadata": {},
   "outputs": [
    {
     "name": "stdout",
     "output_type": "stream",
     "text": [
      "[[ 1.02403592 -0.14128825 -0.00938732  0.          0.          0.02117023  0.02117023]\n",
      " [-0.14128825  1.21591378  0.09833518  0.          0.         -0.27163956 -0.27163956]\n",
      " [-0.00938732  0.09833518  1.04984867  0.         -0.         -0.1381764  -0.1381764 ]\n",
      " [ 0.          0.          0.          1.          0.          0.          0.        ]\n",
      " [-0.         -0.          0.          0.          1.10025748  0.2134062  -0.2134062 ]\n",
      " [ 0.02117023 -0.27163956 -0.1381764   0.          0.2134062   1.1823526  -0.08078394]\n",
      " [ 0.02117023 -0.27163956 -0.1381764   0.         -0.2134062  -0.08078394  1.1823526 ]]\n"
     ]
    }
   ],
   "source": [
    "from scipy.linalg import fractional_matrix_power\n",
    "\n",
    "A = fractional_matrix_power(S, -0.5)\n",
    "print(A)"
   ]
  },
  {
   "cell_type": "code",
   "execution_count": 7,
   "metadata": {},
   "outputs": [
    {
     "name": "stdout",
     "output_type": "stream",
     "text": [
      "[[ 1.06661727 -0.29755998 -0.02536219 -0.         -0.          0.04007352  0.04007352]\n",
      " [-0.29755998  1.32589965  0.15348429  0.          0.         -0.17684186 -0.17684186]\n",
      " [-0.02536219  0.15348429  1.08573619  0.          0.         -0.11682694 -0.11682694]\n",
      " [-0.          0.          0.          1.         -0.         -0.          0.        ]\n",
      " [-0.          0.          0.         -0.          1.17091368  0.1776736  -0.1776736 ]\n",
      " [ 0.04007352 -0.17684186 -0.11682694 -0.          0.1776736   0.05924138  0.00532125]\n",
      " [ 0.04007352 -0.17684186 -0.11682694  0.         -0.1776736   0.00532125  0.05924138]]\n",
      "[[ 1.06661727 -0.29755998 -0.02536219 -0.         -0.          0.04007352  0.04007352]\n",
      " [-0.29755998  1.32589965  0.15348429  0.          0.         -0.17684186 -0.17684186]\n",
      " [-0.02536219  0.15348429  1.08573619 -0.          0.         -0.11682694 -0.11682694]\n",
      " [-0.          0.         -0.          0.         -0.         -0.          0.        ]\n",
      " [-0.          0.          0.         -0.          1.17091368  0.1776736  -0.1776736 ]\n",
      " [ 0.04007352 -0.17684186 -0.11682694 -0.          0.1776736   0.05924138  0.00532125]\n",
      " [ 0.04007352 -0.17684186 -0.11682694  0.         -0.1776736   0.00532125  0.05924138]]\n"
     ]
    }
   ],
   "source": [
    "Fa = A.dot(H).dot(A)\n",
    "Fb = A.dot(H).dot(A)\n",
    "\n",
    "_, Ca = np.linalg.eigh(Fa)\n",
    "_, Cb = np.linalg.eigh(Fb)\n",
    "\n",
    "Ca = A.dot(Ca)\n",
    "Cb = A.dot(Cb)\n",
    "\n",
    "Cocca = Ca[:, :nalpha]\n",
    "Coccb = Cb[:, :nbeta]\n",
    "\n",
    "Da = np.einsum('pi,qi->pq', Cocca, Cocca)\n",
    "Db = np.einsum('pi,qi->pq', Coccb, Coccb)\n",
    "\n",
    "print(Da)\n",
    "print(Db)"
   ]
  },
  {
   "cell_type": "code",
   "execution_count": null,
   "metadata": {},
   "outputs": [],
   "source": []
  }
 ],
 "metadata": {
  "kernelspec": {
   "display_name": "Python 3",
   "language": "python",
   "name": "python3"
  },
  "language_info": {
   "codemirror_mode": {
    "name": "ipython",
    "version": 3
   },
   "file_extension": ".py",
   "mimetype": "text/x-python",
   "name": "python",
   "nbconvert_exporter": "python",
   "pygments_lexer": "ipython3",
   "version": "3.7.6"
  }
 },
 "nbformat": 4,
 "nbformat_minor": 4
}
