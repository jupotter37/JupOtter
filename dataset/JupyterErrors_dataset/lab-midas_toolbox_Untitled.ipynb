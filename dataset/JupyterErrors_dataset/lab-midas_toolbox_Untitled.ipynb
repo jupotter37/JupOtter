{
 "cells": [
  {
   "cell_type": "code",
   "execution_count": 1,
   "metadata": {},
   "outputs": [],
   "source": [
    "%load_ext autoreload\n",
    "%autoreload 2"
   ]
  },
  {
   "cell_type": "code",
   "execution_count": 15,
   "metadata": {},
   "outputs": [],
   "source": [
    "from midastools.misc.nako import flair"
   ]
  },
  {
   "cell_type": "code",
   "execution_count": 23,
   "metadata": {},
   "outputs": [
    {
     "name": "stdout",
     "output_type": "stream",
     "text": [
      "/mnt/data/rawdata/NAKO_195/NAKO-195_MRT-Dateien/FLAIR_2D_TRA/100000_30_FLAIR_2D_TRA.zip\n",
      "/tmp/tmp0y_yca4p\n"
     ]
    },
    {
     "ename": "KeyError",
     "evalue": "\"There is no item named '/tmp/tmp0y_yca4p' in the archive\"",
     "output_type": "error",
     "traceback": [
      "\u001b[0;31m---------------------------------------------------------------------------\u001b[0m",
      "\u001b[0;31mKeyError\u001b[0m                                  Traceback (most recent call last)",
      "\u001b[0;32m<ipython-input-23-e542a82c78f0>\u001b[0m in \u001b[0;36m<module>\u001b[0;34m\u001b[0m\n\u001b[0;32m----> 1\u001b[0;31m \u001b[0mflair\u001b[0m\u001b[0;34m.\u001b[0m\u001b[0mtest\u001b[0m\u001b[0;34m(\u001b[0m\u001b[0;34m)\u001b[0m\u001b[0;34m\u001b[0m\u001b[0;34m\u001b[0m\u001b[0m\n\u001b[0m",
      "\u001b[0;32m~/projects/toolbox/midastools/misc/nako/flair.py\u001b[0m in \u001b[0;36mtest\u001b[0;34m()\u001b[0m\n\u001b[1;32m     13\u001b[0m     \u001b[0mprint\u001b[0m\u001b[0;34m(\u001b[0m\u001b[0mtmp\u001b[0m\u001b[0;34m.\u001b[0m\u001b[0mname\u001b[0m\u001b[0;34m)\u001b[0m\u001b[0;34m\u001b[0m\u001b[0;34m\u001b[0m\u001b[0m\n\u001b[1;32m     14\u001b[0m     \u001b[0;32mwith\u001b[0m \u001b[0mZipFile\u001b[0m\u001b[0;34m(\u001b[0m\u001b[0mstr\u001b[0m\u001b[0;34m(\u001b[0m\u001b[0mf\u001b[0m\u001b[0;34m)\u001b[0m\u001b[0;34m)\u001b[0m \u001b[0;32mas\u001b[0m \u001b[0mzip_f\u001b[0m\u001b[0;34m:\u001b[0m\u001b[0;34m\u001b[0m\u001b[0;34m\u001b[0m\u001b[0m\n\u001b[0;32m---> 15\u001b[0;31m         \u001b[0mzip_f\u001b[0m\u001b[0;34m.\u001b[0m\u001b[0mextract\u001b[0m\u001b[0;34m(\u001b[0m\u001b[0mtmp\u001b[0m\u001b[0;34m.\u001b[0m\u001b[0mname\u001b[0m\u001b[0;34m)\u001b[0m\u001b[0;34m\u001b[0m\u001b[0;34m\u001b[0m\u001b[0m\n\u001b[0m\u001b[1;32m     16\u001b[0m     \u001b[0mtmp\u001b[0m\u001b[0;34m.\u001b[0m\u001b[0mcleanup\u001b[0m\u001b[0;34m(\u001b[0m\u001b[0;34m)\u001b[0m\u001b[0;34m\u001b[0m\u001b[0;34m\u001b[0m\u001b[0m\n",
      "\u001b[0;32m~/.pyenv/versions/3.7.4/lib/python3.7/zipfile.py\u001b[0m in \u001b[0;36mextract\u001b[0;34m(self, member, path, pwd)\u001b[0m\n\u001b[1;32m   1600\u001b[0m             \u001b[0mpath\u001b[0m \u001b[0;34m=\u001b[0m \u001b[0mos\u001b[0m\u001b[0;34m.\u001b[0m\u001b[0mfspath\u001b[0m\u001b[0;34m(\u001b[0m\u001b[0mpath\u001b[0m\u001b[0;34m)\u001b[0m\u001b[0;34m\u001b[0m\u001b[0;34m\u001b[0m\u001b[0m\n\u001b[1;32m   1601\u001b[0m \u001b[0;34m\u001b[0m\u001b[0m\n\u001b[0;32m-> 1602\u001b[0;31m         \u001b[0;32mreturn\u001b[0m \u001b[0mself\u001b[0m\u001b[0;34m.\u001b[0m\u001b[0m_extract_member\u001b[0m\u001b[0;34m(\u001b[0m\u001b[0mmember\u001b[0m\u001b[0;34m,\u001b[0m \u001b[0mpath\u001b[0m\u001b[0;34m,\u001b[0m \u001b[0mpwd\u001b[0m\u001b[0;34m)\u001b[0m\u001b[0;34m\u001b[0m\u001b[0;34m\u001b[0m\u001b[0m\n\u001b[0m\u001b[1;32m   1603\u001b[0m \u001b[0;34m\u001b[0m\u001b[0m\n\u001b[1;32m   1604\u001b[0m     \u001b[0;32mdef\u001b[0m \u001b[0mextractall\u001b[0m\u001b[0;34m(\u001b[0m\u001b[0mself\u001b[0m\u001b[0;34m,\u001b[0m \u001b[0mpath\u001b[0m\u001b[0;34m=\u001b[0m\u001b[0;32mNone\u001b[0m\u001b[0;34m,\u001b[0m \u001b[0mmembers\u001b[0m\u001b[0;34m=\u001b[0m\u001b[0;32mNone\u001b[0m\u001b[0;34m,\u001b[0m \u001b[0mpwd\u001b[0m\u001b[0;34m=\u001b[0m\u001b[0;32mNone\u001b[0m\u001b[0;34m)\u001b[0m\u001b[0;34m:\u001b[0m\u001b[0;34m\u001b[0m\u001b[0;34m\u001b[0m\u001b[0m\n",
      "\u001b[0;32m~/.pyenv/versions/3.7.4/lib/python3.7/zipfile.py\u001b[0m in \u001b[0;36m_extract_member\u001b[0;34m(self, member, targetpath, pwd)\u001b[0m\n\u001b[1;32m   1639\u001b[0m         \"\"\"\n\u001b[1;32m   1640\u001b[0m         \u001b[0;32mif\u001b[0m \u001b[0;32mnot\u001b[0m \u001b[0misinstance\u001b[0m\u001b[0;34m(\u001b[0m\u001b[0mmember\u001b[0m\u001b[0;34m,\u001b[0m \u001b[0mZipInfo\u001b[0m\u001b[0;34m)\u001b[0m\u001b[0;34m:\u001b[0m\u001b[0;34m\u001b[0m\u001b[0;34m\u001b[0m\u001b[0m\n\u001b[0;32m-> 1641\u001b[0;31m             \u001b[0mmember\u001b[0m \u001b[0;34m=\u001b[0m \u001b[0mself\u001b[0m\u001b[0;34m.\u001b[0m\u001b[0mgetinfo\u001b[0m\u001b[0;34m(\u001b[0m\u001b[0mmember\u001b[0m\u001b[0;34m)\u001b[0m\u001b[0;34m\u001b[0m\u001b[0;34m\u001b[0m\u001b[0m\n\u001b[0m\u001b[1;32m   1642\u001b[0m \u001b[0;34m\u001b[0m\u001b[0m\n\u001b[1;32m   1643\u001b[0m         \u001b[0;31m# build the destination pathname, replacing\u001b[0m\u001b[0;34m\u001b[0m\u001b[0;34m\u001b[0m\u001b[0;34m\u001b[0m\u001b[0m\n",
      "\u001b[0;32m~/.pyenv/versions/3.7.4/lib/python3.7/zipfile.py\u001b[0m in \u001b[0;36mgetinfo\u001b[0;34m(self, name)\u001b[0m\n\u001b[1;32m   1396\u001b[0m         \u001b[0;32mif\u001b[0m \u001b[0minfo\u001b[0m \u001b[0;32mis\u001b[0m \u001b[0;32mNone\u001b[0m\u001b[0;34m:\u001b[0m\u001b[0;34m\u001b[0m\u001b[0;34m\u001b[0m\u001b[0m\n\u001b[1;32m   1397\u001b[0m             raise KeyError(\n\u001b[0;32m-> 1398\u001b[0;31m                 'There is no item named %r in the archive' % name)\n\u001b[0m\u001b[1;32m   1399\u001b[0m \u001b[0;34m\u001b[0m\u001b[0m\n\u001b[1;32m   1400\u001b[0m         \u001b[0;32mreturn\u001b[0m \u001b[0minfo\u001b[0m\u001b[0;34m\u001b[0m\u001b[0;34m\u001b[0m\u001b[0m\n",
      "\u001b[0;31mKeyError\u001b[0m: \"There is no item named '/tmp/tmp0y_yca4p' in the archive\""
     ]
    }
   ],
   "source": [
    "flair.test()"
   ]
  },
  {
   "cell_type": "code",
   "execution_count": 24,
   "metadata": {},
   "outputs": [],
   "source": [
    "from pathlib import Path\n"
   ]
  },
  {
   "cell_type": "code",
   "execution_count": 30,
   "metadata": {},
   "outputs": [],
   "source": [
    "test = Path('~/test.txt')"
   ]
  },
  {
   "cell_type": "code",
   "execution_count": 34,
   "metadata": {},
   "outputs": [
    {
     "ename": "AttributeError",
     "evalue": "can't set attribute",
     "output_type": "error",
     "traceback": [
      "\u001b[0;31m---------------------------------------------------------------------------\u001b[0m",
      "\u001b[0;31mAttributeError\u001b[0m                            Traceback (most recent call last)",
      "\u001b[0;32m<ipython-input-34-ed5f483e0d36>\u001b[0m in \u001b[0;36m<module>\u001b[0;34m\u001b[0m\n\u001b[0;32m----> 1\u001b[0;31m \u001b[0mtest\u001b[0m\u001b[0;34m.\u001b[0m\u001b[0mname\u001b[0m \u001b[0;34m=\u001b[0m \u001b[0;34m'Hallo.txt'\u001b[0m\u001b[0;34m\u001b[0m\u001b[0;34m\u001b[0m\u001b[0m\n\u001b[0m",
      "\u001b[0;31mAttributeError\u001b[0m: can't set attribute"
     ]
    }
   ],
   "source": [
    "test.name = 'Hallo.txt'"
   ]
  },
  {
   "cell_type": "code",
   "execution_count": 29,
   "metadata": {},
   "outputs": [
    {
     "data": {
      "text/plain": [
       "PosixPath('/mnt/share')"
      ]
     },
     "execution_count": 29,
     "metadata": {},
     "output_type": "execute_result"
    }
   ],
   "source": []
  },
  {
   "cell_type": "code",
   "execution_count": 28,
   "metadata": {},
   "outputs": [],
   "source": [
    "from pathlib import Path\n",
    "import re\n",
    "import shutil"
   ]
  },
  {
   "cell_type": "code",
   "execution_count": 29,
   "metadata": {},
   "outputs": [],
   "source": []
  },
  {
   "cell_type": "code",
   "execution_count": 32,
   "metadata": {},
   "outputs": [
    {
     "name": "stdout",
     "output_type": "stream",
     "text": [
      "/mnt/share/nora/imgdata/NAKO1002AORTH/noname_noname_0093/study0093_20200101/annotations/ta.ano.json\n",
      "/mnt/share/raheppt1/data/aortath/raw/landmarks/093_ta.ano.json\n",
      "/mnt/share/nora/imgdata/NAKO1002AORTH/noname_noname_0095/study0095_20200101/annotations/ta.ano.json\n",
      "/mnt/share/raheppt1/data/aortath/raw/landmarks/095_ta.ano.json\n",
      "/mnt/share/nora/imgdata/NAKO1002AORTH/noname_noname_0097/study0097_20200101/annotations/ta.ano.json\n",
      "/mnt/share/raheppt1/data/aortath/raw/landmarks/097_ta.ano.json\n",
      "/mnt/share/nora/imgdata/NAKO1002AORTH/noname_noname_0098/study0098_20200101/annotations/ta.ano.json\n",
      "/mnt/share/raheppt1/data/aortath/raw/landmarks/098_ta.ano.json\n",
      "/mnt/share/nora/imgdata/NAKO1002AORTH/noname_noname_0000/study0000_20200101/annotations/ta.ano.json\n",
      "/mnt/share/raheppt1/data/aortath/raw/landmarks/000_ta.ano.json\n",
      "/mnt/share/nora/imgdata/NAKO1002AORTH/noname_noname_0001/study0001_20200101/annotations/ta.ano.json\n",
      "/mnt/share/raheppt1/data/aortath/raw/landmarks/001_ta.ano.json\n",
      "/mnt/share/nora/imgdata/NAKO1002AORTH/noname_noname_0003/study0003_20200101/annotations/ta.ano.json\n",
      "/mnt/share/raheppt1/data/aortath/raw/landmarks/003_ta.ano.json\n",
      "/mnt/share/nora/imgdata/NAKO1002AORTH/noname_noname_0005/study0005_20200101/annotations/ta.ano.json\n",
      "/mnt/share/raheppt1/data/aortath/raw/landmarks/005_ta.ano.json\n",
      "/mnt/share/nora/imgdata/NAKO1002AORTH/noname_noname_0006/study0006_20200101/annotations/ta.ano.json\n",
      "/mnt/share/raheppt1/data/aortath/raw/landmarks/006_ta.ano.json\n",
      "/mnt/share/nora/imgdata/NAKO1002AORTH/noname_noname_0008/study0008_20200101/annotations/ta.ano.json\n",
      "/mnt/share/raheppt1/data/aortath/raw/landmarks/008_ta.ano.json\n",
      "/mnt/share/nora/imgdata/NAKO1002AORTH/noname_noname_0009/study0009_20200101/annotations/ta.ano.json\n",
      "/mnt/share/raheppt1/data/aortath/raw/landmarks/009_ta.ano.json\n",
      "/mnt/share/nora/imgdata/NAKO1002AORTH/noname_noname_0011/study0011_20200101/annotations/ta.ano.json\n",
      "/mnt/share/raheppt1/data/aortath/raw/landmarks/011_ta.ano.json\n",
      "/mnt/share/nora/imgdata/NAKO1002AORTH/noname_noname_0012/study0012_20200101/annotations/ta.ano.json\n",
      "/mnt/share/raheppt1/data/aortath/raw/landmarks/012_ta.ano.json\n",
      "/mnt/share/nora/imgdata/NAKO1002AORTH/noname_noname_0013/study0013_20200101/annotations/ta.ano.json\n",
      "/mnt/share/raheppt1/data/aortath/raw/landmarks/013_ta.ano.json\n",
      "/mnt/share/nora/imgdata/NAKO1002AORTH/noname_noname_0014/study0014_20200101/annotations/ta.ano.json\n",
      "/mnt/share/raheppt1/data/aortath/raw/landmarks/014_ta.ano.json\n",
      "/mnt/share/nora/imgdata/NAKO1002AORTH/noname_noname_0015/study0015_20200101/annotations/ta.ano.json\n",
      "/mnt/share/raheppt1/data/aortath/raw/landmarks/015_ta.ano.json\n",
      "/mnt/share/nora/imgdata/NAKO1002AORTH/noname_noname_0016/study0016_20200101/annotations/ta.ano.json\n",
      "/mnt/share/raheppt1/data/aortath/raw/landmarks/016_ta.ano.json\n",
      "/mnt/share/nora/imgdata/NAKO1002AORTH/noname_noname_0017/study0017_20200101/annotations/ta.ano.json\n",
      "/mnt/share/raheppt1/data/aortath/raw/landmarks/017_ta.ano.json\n",
      "/mnt/share/nora/imgdata/NAKO1002AORTH/noname_noname_0018/study0018_20200101/annotations/ta.ano.json\n",
      "/mnt/share/raheppt1/data/aortath/raw/landmarks/018_ta.ano.json\n",
      "/mnt/share/nora/imgdata/NAKO1002AORTH/noname_noname_0019/study0019_20200101/annotations/ta.ano.json\n",
      "/mnt/share/raheppt1/data/aortath/raw/landmarks/019_ta.ano.json\n",
      "/mnt/share/nora/imgdata/NAKO1002AORTH/noname_noname_0020/study0020_20200101/annotations/ta.ano.json\n",
      "/mnt/share/raheppt1/data/aortath/raw/landmarks/020_ta.ano.json\n",
      "/mnt/share/nora/imgdata/NAKO1002AORTH/noname_noname_0021/study0021_20200101/annotations/ta.ano.json\n",
      "/mnt/share/raheppt1/data/aortath/raw/landmarks/021_ta.ano.json\n",
      "/mnt/share/nora/imgdata/NAKO1002AORTH/noname_noname_0022/study0022_20200101/annotations/ta.ano.json\n",
      "/mnt/share/raheppt1/data/aortath/raw/landmarks/022_ta.ano.json\n",
      "/mnt/share/nora/imgdata/NAKO1002AORTH/noname_noname_0023/study0023_20200101/annotations/ta.ano.json\n",
      "/mnt/share/raheppt1/data/aortath/raw/landmarks/023_ta.ano.json\n",
      "/mnt/share/nora/imgdata/NAKO1002AORTH/noname_noname_0024/study0024_20200101/annotations/ta.ano.json\n",
      "/mnt/share/raheppt1/data/aortath/raw/landmarks/024_ta.ano.json\n",
      "/mnt/share/nora/imgdata/NAKO1002AORTH/noname_noname_0025/study0025_20200101/annotations/ta.ano.json\n",
      "/mnt/share/raheppt1/data/aortath/raw/landmarks/025_ta.ano.json\n",
      "/mnt/share/nora/imgdata/NAKO1002AORTH/noname_noname_0026/study0026_20200101/annotations/ta.ano.json\n",
      "/mnt/share/raheppt1/data/aortath/raw/landmarks/026_ta.ano.json\n",
      "/mnt/share/nora/imgdata/NAKO1002AORTH/noname_noname_0027/study0027_20200101/annotations/ta.ano.json\n",
      "/mnt/share/raheppt1/data/aortath/raw/landmarks/027_ta.ano.json\n",
      "/mnt/share/nora/imgdata/NAKO1002AORTH/noname_noname_0028/study0028_20200101/annotations/ta.ano.json\n",
      "/mnt/share/raheppt1/data/aortath/raw/landmarks/028_ta.ano.json\n",
      "/mnt/share/nora/imgdata/NAKO1002AORTH/noname_noname_0029/study0029_20200101/annotations/ta.ano.json\n",
      "/mnt/share/raheppt1/data/aortath/raw/landmarks/029_ta.ano.json\n",
      "/mnt/share/nora/imgdata/NAKO1002AORTH/noname_noname_0030/study0030_20200101/annotations/ta.ano.json\n",
      "/mnt/share/raheppt1/data/aortath/raw/landmarks/030_ta.ano.json\n",
      "/mnt/share/nora/imgdata/NAKO1002AORTH/noname_noname_0031/study0031_20200101/annotations/ta.ano.json\n",
      "/mnt/share/raheppt1/data/aortath/raw/landmarks/031_ta.ano.json\n",
      "/mnt/share/nora/imgdata/NAKO1002AORTH/noname_noname_0032/study0032_20200101/annotations/ta.ano.json\n",
      "/mnt/share/raheppt1/data/aortath/raw/landmarks/032_ta.ano.json\n",
      "/mnt/share/nora/imgdata/NAKO1002AORTH/noname_noname_0033/study0033_20200101/annotations/ta.ano.json\n",
      "/mnt/share/raheppt1/data/aortath/raw/landmarks/033_ta.ano.json\n",
      "/mnt/share/nora/imgdata/NAKO1002AORTH/noname_noname_0034/study0034_20200101/annotations/ta.ano.json\n",
      "/mnt/share/raheppt1/data/aortath/raw/landmarks/034_ta.ano.json\n",
      "/mnt/share/nora/imgdata/NAKO1002AORTH/noname_noname_0035/study0035_20200101/annotations/ta.ano.json\n",
      "/mnt/share/raheppt1/data/aortath/raw/landmarks/035_ta.ano.json\n",
      "/mnt/share/nora/imgdata/NAKO1002AORTH/noname_noname_0036/study0036_20200101/annotations/ta.ano.json\n",
      "/mnt/share/raheppt1/data/aortath/raw/landmarks/036_ta.ano.json\n",
      "/mnt/share/nora/imgdata/NAKO1002AORTH/noname_noname_0037/study0037_20200101/annotations/ta.ano.json\n",
      "/mnt/share/raheppt1/data/aortath/raw/landmarks/037_ta.ano.json\n",
      "/mnt/share/nora/imgdata/NAKO1002AORTH/noname_noname_0038/study0038_20200101/annotations/ta.ano.json\n",
      "/mnt/share/raheppt1/data/aortath/raw/landmarks/038_ta.ano.json\n",
      "/mnt/share/nora/imgdata/NAKO1002AORTH/noname_noname_0039/study0039_20200101/annotations/ta.ano.json\n",
      "/mnt/share/raheppt1/data/aortath/raw/landmarks/039_ta.ano.json\n",
      "/mnt/share/nora/imgdata/NAKO1002AORTH/noname_noname_0040/study0040_20200101/annotations/ta.ano.json\n",
      "/mnt/share/raheppt1/data/aortath/raw/landmarks/040_ta.ano.json\n",
      "/mnt/share/nora/imgdata/NAKO1002AORTH/noname_noname_0041/study0041_20200101/annotations/ta.ano.json\n",
      "/mnt/share/raheppt1/data/aortath/raw/landmarks/041_ta.ano.json\n",
      "/mnt/share/nora/imgdata/NAKO1002AORTH/noname_noname_0042/study0042_20200101/annotations/ta.ano.json\n",
      "/mnt/share/raheppt1/data/aortath/raw/landmarks/042_ta.ano.json\n",
      "/mnt/share/nora/imgdata/NAKO1002AORTH/noname_noname_0043/study0043_20200101/annotations/ta.ano.json\n",
      "/mnt/share/raheppt1/data/aortath/raw/landmarks/043_ta.ano.json\n",
      "/mnt/share/nora/imgdata/NAKO1002AORTH/noname_noname_0044/study0044_20200101/annotations/ta.ano.json\n",
      "/mnt/share/raheppt1/data/aortath/raw/landmarks/044_ta.ano.json\n",
      "/mnt/share/nora/imgdata/NAKO1002AORTH/noname_noname_0045/study0045_20200101/annotations/ta.ano.json\n",
      "/mnt/share/raheppt1/data/aortath/raw/landmarks/045_ta.ano.json\n",
      "/mnt/share/nora/imgdata/NAKO1002AORTH/noname_noname_0051/study0051_20200101/annotations/ta.ano.json\n",
      "/mnt/share/raheppt1/data/aortath/raw/landmarks/051_ta.ano.json\n",
      "/mnt/share/nora/imgdata/NAKO1002AORTH/noname_noname_0052/study0052_20200101/annotations/ta.ano.json\n",
      "/mnt/share/raheppt1/data/aortath/raw/landmarks/052_ta.ano.json\n",
      "/mnt/share/nora/imgdata/NAKO1002AORTH/noname_noname_0053/study0053_20200101/annotations/ta.ano.json\n",
      "/mnt/share/raheppt1/data/aortath/raw/landmarks/053_ta.ano.json\n",
      "/mnt/share/nora/imgdata/NAKO1002AORTH/noname_noname_0054/study0054_20200101/annotations/ta.ano.json\n",
      "/mnt/share/raheppt1/data/aortath/raw/landmarks/054_ta.ano.json\n",
      "/mnt/share/nora/imgdata/NAKO1002AORTH/noname_noname_0055/study0055_20200101/annotations/ta.ano.json\n",
      "/mnt/share/raheppt1/data/aortath/raw/landmarks/055_ta.ano.json\n",
      "/mnt/share/nora/imgdata/NAKO1002AORTH/noname_noname_0056/study0056_20200101/annotations/ta.ano.json\n",
      "/mnt/share/raheppt1/data/aortath/raw/landmarks/056_ta.ano.json\n",
      "/mnt/share/nora/imgdata/NAKO1002AORTH/noname_noname_0057/study0057_20200101/annotations/ta.ano.json\n",
      "/mnt/share/raheppt1/data/aortath/raw/landmarks/057_ta.ano.json\n",
      "/mnt/share/nora/imgdata/NAKO1002AORTH/noname_noname_0058/study0058_20200101/annotations/ta.ano.json\n",
      "/mnt/share/raheppt1/data/aortath/raw/landmarks/058_ta.ano.json\n",
      "/mnt/share/nora/imgdata/NAKO1002AORTH/noname_noname_0059/study0059_20200101/annotations/ta.ano.json\n",
      "/mnt/share/raheppt1/data/aortath/raw/landmarks/059_ta.ano.json\n",
      "/mnt/share/nora/imgdata/NAKO1002AORTH/noname_noname_0060/study0060_20200101/annotations/ta.ano.json\n",
      "/mnt/share/raheppt1/data/aortath/raw/landmarks/060_ta.ano.json\n"
     ]
    },
    {
     "name": "stdout",
     "output_type": "stream",
     "text": [
      "/mnt/share/nora/imgdata/NAKO1002AORTH/noname_noname_0061/study0061_20200101/annotations/ta.ano.json\n",
      "/mnt/share/raheppt1/data/aortath/raw/landmarks/061_ta.ano.json\n",
      "/mnt/share/nora/imgdata/NAKO1002AORTH/noname_noname_0062/study0062_20200101/annotations/ta.ano.json\n",
      "/mnt/share/raheppt1/data/aortath/raw/landmarks/062_ta.ano.json\n",
      "/mnt/share/nora/imgdata/NAKO1002AORTH/noname_noname_0063/study0063_20200101/annotations/ta.ano.json\n",
      "/mnt/share/raheppt1/data/aortath/raw/landmarks/063_ta.ano.json\n",
      "/mnt/share/nora/imgdata/NAKO1002AORTH/noname_noname_0064/study0064_20200101/annotations/ta.ano.json\n",
      "/mnt/share/raheppt1/data/aortath/raw/landmarks/064_ta.ano.json\n",
      "/mnt/share/nora/imgdata/NAKO1002AORTH/noname_noname_0065/study0065_20200101/annotations/ta.ano.json\n",
      "/mnt/share/raheppt1/data/aortath/raw/landmarks/065_ta.ano.json\n",
      "/mnt/share/nora/imgdata/NAKO1002AORTH/noname_noname_0066/study0066_20200101/annotations/ta.ano.json\n",
      "/mnt/share/raheppt1/data/aortath/raw/landmarks/066_ta.ano.json\n",
      "/mnt/share/nora/imgdata/NAKO1002AORTH/noname_noname_0067/study0067_20200101/annotations/ta.ano.json\n",
      "/mnt/share/raheppt1/data/aortath/raw/landmarks/067_ta.ano.json\n",
      "/mnt/share/nora/imgdata/NAKO1002AORTH/noname_noname_0068/study0068_20200101/annotations/ta.ano.json\n",
      "/mnt/share/raheppt1/data/aortath/raw/landmarks/068_ta.ano.json\n",
      "/mnt/share/nora/imgdata/NAKO1002AORTH/noname_noname_0069/study0069_20200101/annotations/ta.ano.json\n",
      "/mnt/share/raheppt1/data/aortath/raw/landmarks/069_ta.ano.json\n",
      "/mnt/share/nora/imgdata/NAKO1002AORTH/noname_noname_0070/study0070_20200101/annotations/ta.ano.json\n",
      "/mnt/share/raheppt1/data/aortath/raw/landmarks/070_ta.ano.json\n",
      "/mnt/share/nora/imgdata/NAKO1002AORTH/noname_noname_0071/study0071_20200101/annotations/ta.ano.json\n",
      "/mnt/share/raheppt1/data/aortath/raw/landmarks/071_ta.ano.json\n",
      "/mnt/share/nora/imgdata/NAKO1002AORTH/noname_noname_0072/study0072_20200101/annotations/ta.ano.json\n",
      "/mnt/share/raheppt1/data/aortath/raw/landmarks/072_ta.ano.json\n",
      "/mnt/share/nora/imgdata/NAKO1002AORTH/noname_noname_0073/study0073_20200101/annotations/ta.ano.json\n",
      "/mnt/share/raheppt1/data/aortath/raw/landmarks/073_ta.ano.json\n",
      "/mnt/share/nora/imgdata/NAKO1002AORTH/noname_noname_0074/study0074_20200101/annotations/ta.ano.json\n",
      "/mnt/share/raheppt1/data/aortath/raw/landmarks/074_ta.ano.json\n",
      "/mnt/share/nora/imgdata/NAKO1002AORTH/noname_noname_0075/study0075_20200101/annotations/ta.ano.json\n",
      "/mnt/share/raheppt1/data/aortath/raw/landmarks/075_ta.ano.json\n",
      "/mnt/share/nora/imgdata/NAKO1002AORTH/noname_noname_0076/study0076_20200101/annotations/ta.ano.json\n",
      "/mnt/share/raheppt1/data/aortath/raw/landmarks/076_ta.ano.json\n",
      "/mnt/share/nora/imgdata/NAKO1002AORTH/noname_noname_0077/study0077_20200101/annotations/ta.ano.json\n",
      "/mnt/share/raheppt1/data/aortath/raw/landmarks/077_ta.ano.json\n",
      "/mnt/share/nora/imgdata/NAKO1002AORTH/noname_noname_0078/study0078_20200101/annotations/ta.ano.json\n",
      "/mnt/share/raheppt1/data/aortath/raw/landmarks/078_ta.ano.json\n",
      "/mnt/share/nora/imgdata/NAKO1002AORTH/noname_noname_0079/study0079_20200101/annotations/ta.ano.json\n",
      "/mnt/share/raheppt1/data/aortath/raw/landmarks/079_ta.ano.json\n",
      "/mnt/share/nora/imgdata/NAKO1002AORTH/noname_noname_0080/study0080_20200101/annotations/ta.ano.json\n",
      "/mnt/share/raheppt1/data/aortath/raw/landmarks/080_ta.ano.json\n",
      "/mnt/share/nora/imgdata/NAKO1002AORTH/noname_noname_0081/study0081_20200101/annotations/ta.ano.json\n",
      "/mnt/share/raheppt1/data/aortath/raw/landmarks/081_ta.ano.json\n",
      "/mnt/share/nora/imgdata/NAKO1002AORTH/noname_noname_0082/study0082_20200101/annotations/ta.ano.json\n",
      "/mnt/share/raheppt1/data/aortath/raw/landmarks/082_ta.ano.json\n",
      "/mnt/share/nora/imgdata/NAKO1002AORTH/noname_noname_0083/study0083_20200101/annotations/ta.ano.json\n",
      "/mnt/share/raheppt1/data/aortath/raw/landmarks/083_ta.ano.json\n",
      "/mnt/share/nora/imgdata/NAKO1002AORTH/noname_noname_0084/study0084_20200101/annotations/ta.ano.json\n",
      "/mnt/share/raheppt1/data/aortath/raw/landmarks/084_ta.ano.json\n",
      "/mnt/share/nora/imgdata/NAKO1002AORTH/noname_noname_0085/study0085_20200101/annotations/ta.ano.json\n",
      "/mnt/share/raheppt1/data/aortath/raw/landmarks/085_ta.ano.json\n",
      "/mnt/share/nora/imgdata/NAKO1002AORTH/noname_noname_0086/study0086_20200101/annotations/ta.ano.json\n",
      "/mnt/share/raheppt1/data/aortath/raw/landmarks/086_ta.ano.json\n",
      "/mnt/share/nora/imgdata/NAKO1002AORTH/noname_noname_0087/study0087_20200101/annotations/ta.ano.json\n",
      "/mnt/share/raheppt1/data/aortath/raw/landmarks/087_ta.ano.json\n",
      "/mnt/share/nora/imgdata/NAKO1002AORTH/noname_noname_0088/study0088_20200101/annotations/ta.ano.json\n",
      "/mnt/share/raheppt1/data/aortath/raw/landmarks/088_ta.ano.json\n",
      "/mnt/share/nora/imgdata/NAKO1002AORTH/noname_noname_0089/study0089_20200101/annotations/ta.ano.json\n",
      "/mnt/share/raheppt1/data/aortath/raw/landmarks/089_ta.ano.json\n",
      "/mnt/share/nora/imgdata/NAKO1002AORTH/noname_noname_0090/study0090_20200101/annotations/ta.ano.json\n",
      "/mnt/share/raheppt1/data/aortath/raw/landmarks/090_ta.ano.json\n",
      "/mnt/share/nora/imgdata/NAKO1002AORTH/noname_noname_0091/study0091_20200101/annotations/ta.ano.json\n",
      "/mnt/share/raheppt1/data/aortath/raw/landmarks/091_ta.ano.json\n",
      "/mnt/share/nora/imgdata/NAKO1002AORTH/noname_noname_0092/study0092_20200101/annotations/ta.ano.json\n",
      "/mnt/share/raheppt1/data/aortath/raw/landmarks/092_ta.ano.json\n",
      "/mnt/share/nora/imgdata/NAKO1002AORTH/noname_noname_0094/study0094_20200101/annotations/ta.ano.json\n",
      "/mnt/share/raheppt1/data/aortath/raw/landmarks/094_ta.ano.json\n",
      "/mnt/share/nora/imgdata/NAKO1002AORTH/noname_noname_0096/study0096_20200101/annotations/ta.ano.json\n",
      "/mnt/share/raheppt1/data/aortath/raw/landmarks/096_ta.ano.json\n",
      "/mnt/share/nora/imgdata/NAKO1002AORTH/noname_noname_0099/study0099_20200101/annotations/ta.ano.json\n",
      "/mnt/share/raheppt1/data/aortath/raw/landmarks/099_ta.ano.json\n",
      "/mnt/share/nora/imgdata/NAKO1002AORTH/noname_noname_0002/study0002_20200101/annotations/ta.ano.json\n",
      "/mnt/share/raheppt1/data/aortath/raw/landmarks/002_ta.ano.json\n",
      "/mnt/share/nora/imgdata/NAKO1002AORTH/noname_noname_0004/study0004_20200101/annotations/ta.ano.json\n",
      "/mnt/share/raheppt1/data/aortath/raw/landmarks/004_ta.ano.json\n",
      "/mnt/share/nora/imgdata/NAKO1002AORTH/noname_noname_0007/study0007_20200101/annotations/ta.ano.json\n",
      "/mnt/share/raheppt1/data/aortath/raw/landmarks/007_ta.ano.json\n",
      "/mnt/share/nora/imgdata/NAKO1002AORTH/noname_noname_0010/study0010_20200101/annotations/ta.ano.json\n",
      "/mnt/share/raheppt1/data/aortath/raw/landmarks/010_ta.ano.json\n"
     ]
    }
   ],
   "source": [
    "src_dir = Path('/mnt/share/nora/imgdata/NAKO1002AORTH/')\n",
    "dest_dir = Path('/mnt/share/raheppt1/data/aortath/raw/landmarks')\n",
    "\n",
    "for f in src_dir.glob('**/ta.ano.json'):\n",
    "    print(f)\n",
    "    subj_id = re.match('study0([0-9]{3}).*', f.parent.parent.name).group(1)\n",
    "    dest_path = dest_dir.joinpath(subj_id+'_'+f.name)\n",
    "    print(dest_path)\n",
    "    shutil.copy(f, dest_path)\n",
    "    "
   ]
  },
  {
   "cell_type": "code",
   "execution_count": null,
   "metadata": {},
   "outputs": [],
   "source": []
  }
 ],
 "metadata": {
  "kernelspec": {
   "display_name": "Python 3",
   "language": "python",
   "name": "python3"
  },
  "language_info": {
   "codemirror_mode": {
    "name": "ipython",
    "version": 3
   },
   "file_extension": ".py",
   "mimetype": "text/x-python",
   "name": "python",
   "nbconvert_exporter": "python",
   "pygments_lexer": "ipython3",
   "version": "3.7.4"
  }
 },
 "nbformat": 4,
 "nbformat_minor": 4
}
