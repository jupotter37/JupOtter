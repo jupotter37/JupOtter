{
 "cells": [
  {
   "cell_type": "code",
   "execution_count": 8,
   "metadata": {},
   "outputs": [],
   "source": [
    "import tensorflow as tf\n",
    "import numpy as np\n",
    "import pandas as pd\n",
    "from matplotlib import pyplot as plt"
   ]
  },
  {
   "cell_type": "code",
   "execution_count": 20,
   "metadata": {},
   "outputs": [
    {
     "ename": "ImportError",
     "evalue": "cannot import name 'set_random_seed' from 'tensorflow' (/home/ilya/Programming_Bureau/Repositories/Python_course/.venv/lib/python3.8/site-packages/tensorflow/__init__.py)",
     "output_type": "error",
     "traceback": [
      "\u001b[0;31m---------------------------------------------------------------------------\u001b[0m",
      "\u001b[0;31mImportError\u001b[0m                               Traceback (most recent call last)",
      "Input \u001b[0;32mIn [20]\u001b[0m, in \u001b[0;36m<cell line: 1>\u001b[0;34m()\u001b[0m\n\u001b[0;32m----> 1\u001b[0m \u001b[38;5;28;01mfrom\u001b[39;00m \u001b[38;5;21;01mtensorflow\u001b[39;00m \u001b[38;5;28;01mimport\u001b[39;00m set_random_seed\n\u001b[1;32m      2\u001b[0m set_random_seed(\u001b[38;5;241m42\u001b[39m)\n\u001b[1;32m      3\u001b[0m np\u001b[38;5;241m.\u001b[39mrandom\u001b[38;5;241m.\u001b[39mseed(\u001b[38;5;241m42\u001b[39m)\n",
      "\u001b[0;31mImportError\u001b[0m: cannot import name 'set_random_seed' from 'tensorflow' (/home/ilya/Programming_Bureau/Repositories/Python_course/.venv/lib/python3.8/site-packages/tensorflow/__init__.py)"
     ]
    }
   ],
   "source": [
    "from tensorflow import set_random_seed\n",
    "set_random_seed(42)\n",
    "np.random.seed(42)"
   ]
  },
  {
   "cell_type": "code",
   "execution_count": 21,
   "metadata": {},
   "outputs": [],
   "source": [
    "from sklearn.model_selection import train_test_split\n",
    "from tensorflow.python import keras\n",
    "from tensorflow.python.keras.models import Sequential\n",
    "from tensorflow.python.keras.layers import Dense, Flatten, Conv2D, Dropout\n",
    "from tensorflow.python.keras.callbacks import ModelCheckpoint"
   ]
  },
  {
   "cell_type": "code",
   "execution_count": 22,
   "metadata": {},
   "outputs": [],
   "source": [
    "train = pd.read_csv('fashion-mnist_train.csv')"
   ]
  },
  {
   "cell_type": "code",
   "execution_count": 23,
   "metadata": {},
   "outputs": [],
   "source": [
    "test = pd.read_csv('fashion-mnist_test.csv')"
   ]
  },
  {
   "cell_type": "code",
   "execution_count": 24,
   "metadata": {},
   "outputs": [
    {
     "data": {
      "text/plain": [
       "((60000, 785), (10000, 785))"
      ]
     },
     "execution_count": 24,
     "metadata": {},
     "output_type": "execute_result"
    }
   ],
   "source": [
    "train.shape, test.shape"
   ]
  },
  {
   "cell_type": "code",
   "execution_count": 25,
   "metadata": {},
   "outputs": [],
   "source": [
    "x_train = train.drop('label', axis=1)/255\n",
    "y_train = train.label\n",
    "x_test = test.drop('label', axis=1)/255\n",
    "y_test = test.label"
   ]
  },
  {
   "cell_type": "code",
   "execution_count": 26,
   "metadata": {},
   "outputs": [],
   "source": [
    "from sklearn.preprocessing import OneHotEncoder\n",
    "enc = OneHotEncoder()"
   ]
  },
  {
   "cell_type": "code",
   "execution_count": 27,
   "metadata": {},
   "outputs": [],
   "source": [
    "y_train_labels = enc.fit_transform(np.reshape(np.array(y_train), (-1,1))).toarray()\n",
    "y_test_labels = enc.transform(np.reshape(np.array(y_test), (-1,1))).toarray()"
   ]
  },
  {
   "cell_type": "markdown",
   "metadata": {},
   "source": [
    "### Разделим нашу выборку на тестовую и валидационную"
   ]
  },
  {
   "cell_type": "code",
   "execution_count": 28,
   "metadata": {},
   "outputs": [],
   "source": [
    "x_TRAIN, x_VALID, y_TRAIN, y_VALID = train_test_split(x_train, y_train_labels, test_size = 0.2, random_state=42)"
   ]
  },
  {
   "cell_type": "markdown",
   "metadata": {},
   "source": [
    "__1. Логистическая регрессия__"
   ]
  },
  {
   "cell_type": "code",
   "execution_count": 18,
   "metadata": {},
   "outputs": [
    {
     "name": "stderr",
     "output_type": "stream",
     "text": [
      "2022-06-03 14:41:30.324746: E tensorflow/stream_executor/cuda/cuda_driver.cc:271] failed call to cuInit: CUDA_ERROR_NO_DEVICE: no CUDA-capable device is detected\n",
      "2022-06-03 14:41:30.324790: I tensorflow/stream_executor/cuda/cuda_diagnostics.cc:156] kernel driver does not appear to be running on this host (ilya-Vostro-14-5410): /proc/driver/nvidia/version does not exist\n",
      "2022-06-03 14:41:30.325533: I tensorflow/core/platform/cpu_feature_guard.cc:193] This TensorFlow binary is optimized with oneAPI Deep Neural Network Library (oneDNN) to use the following CPU instructions in performance-critical operations:  AVX2 AVX512F AVX512_VNNI FMA\n",
      "To enable them in other operations, rebuild TensorFlow with the appropriate compiler flags.\n"
     ]
    },
    {
     "name": "stdout",
     "output_type": "stream",
     "text": [
      "Epoch 1/10\n",
      "192/192 [==============================] - 1s 2ms/step - loss: 1.4907 - accuracy: 0.5602 - val_loss: 1.0954 - val_accuracy: 0.6833\n",
      "WARNING:tensorflow:Can save best model only with val_acc available, skipping.\n",
      "Epoch 2/10\n",
      "192/192 [==============================] - 0s 747us/step - loss: 0.9839 - accuracy: 0.7024 - val_loss: 0.9006 - val_accuracy: 0.7210\n",
      "WARNING:tensorflow:Can save best model only with val_acc available, skipping.\n",
      "Epoch 3/10\n",
      "192/192 [==============================] - 0s 756us/step - loss: 0.8559 - accuracy: 0.7309 - val_loss: 0.8161 - val_accuracy: 0.7423\n",
      "WARNING:tensorflow:Can save best model only with val_acc available, skipping.\n",
      "Epoch 4/10\n",
      "192/192 [==============================] - 0s 750us/step - loss: 0.7891 - accuracy: 0.7506 - val_loss: 0.7645 - val_accuracy: 0.7564\n",
      "WARNING:tensorflow:Can save best model only with val_acc available, skipping.\n",
      "Epoch 5/10\n",
      "192/192 [==============================] - 0s 765us/step - loss: 0.7454 - accuracy: 0.7640 - val_loss: 0.7277 - val_accuracy: 0.7692\n",
      "WARNING:tensorflow:Can save best model only with val_acc available, skipping.\n",
      "Epoch 6/10\n",
      "192/192 [==============================] - 0s 751us/step - loss: 0.7135 - accuracy: 0.7719 - val_loss: 0.7002 - val_accuracy: 0.7767\n",
      "WARNING:tensorflow:Can save best model only with val_acc available, skipping.\n",
      "Epoch 7/10\n",
      "192/192 [==============================] - 0s 764us/step - loss: 0.6887 - accuracy: 0.7795 - val_loss: 0.6794 - val_accuracy: 0.7827\n",
      "WARNING:tensorflow:Can save best model only with val_acc available, skipping.\n",
      "Epoch 8/10\n",
      "192/192 [==============================] - 0s 771us/step - loss: 0.6688 - accuracy: 0.7854 - val_loss: 0.6613 - val_accuracy: 0.7857\n",
      "WARNING:tensorflow:Can save best model only with val_acc available, skipping.\n",
      "Epoch 9/10\n",
      "192/192 [==============================] - 0s 771us/step - loss: 0.6521 - accuracy: 0.7899 - val_loss: 0.6465 - val_accuracy: 0.7892\n",
      "WARNING:tensorflow:Can save best model only with val_acc available, skipping.\n",
      "Epoch 10/10\n",
      "192/192 [==============================] - 0s 738us/step - loss: 0.6382 - accuracy: 0.7938 - val_loss: 0.6342 - val_accuracy: 0.7922\n",
      "WARNING:tensorflow:Can save best model only with val_acc available, skipping.\n"
     ]
    }
   ],
   "source": [
    "log_checkpoint = ModelCheckpoint('log_model.h5', save_best_only=True, save_weights_only=True, mode='max', monitor='val_acc')\n",
    "model_log = Sequential()\n",
    "model_log.add(Dense(10, input_shape=(784,), activation='softmax'))\n",
    "model_log.compile(loss='categorical_crossentropy', optimizer='sgd', metrics=['accuracy'])        \n",
    "history = model_log.fit(x_TRAIN.values, y_TRAIN, batch_size=250, validation_data=(x_VALID.values, y_VALID),\n",
    "                       callbacks=[log_checkpoint], epochs=10)"
   ]
  },
  {
   "cell_type": "markdown",
   "metadata": {},
   "source": [
    "#### Визуализация зависимости accuracy от количества эпох."
   ]
  },
  {
   "cell_type": "code",
   "execution_count": 29,
   "metadata": {},
   "outputs": [
    {
     "data": {
      "text/plain": [
       "<matplotlib.legend.Legend at 0x7fe9040bacd0>"
      ]
     },
     "execution_count": 29,
     "metadata": {},
     "output_type": "execute_result"
    },
    {
     "data": {
      "image/png": "[encoded data removed]",
      "text/plain": [
       "<Figure size 432x288 with 1 Axes>"
      ]
     },
     "metadata": {
      "needs_background": "light"
     },
     "output_type": "display_data"
    }
   ],
   "source": [
    "plt.plot(history.history['accuracy'])\n",
    "plt.plot(history.history['val_accuracy'])\n",
    "plt.ylabel('Accuracy')\n",
    "plt.xlabel('Epoch')\n",
    "plt.legend(['Train', 'Validation'], loc='upper left')"
   ]
  },
  {
   "cell_type": "code",
   "execution_count": 30,
   "metadata": {},
   "outputs": [
    {
     "name": "stdout",
     "output_type": "stream",
     "text": [
      "313/313 [==============================] - 0s 379us/step - loss: 0.6359 - accuracy: 0.8000\n",
      "Логистическая регрессия   accuracy: 0.800\n"
     ]
    }
   ],
   "source": [
    "model_log.load_weights('log_model.h5')\n",
    "_, score = model_log.evaluate(x_test.values, y_test_labels)\n",
    "print(\"Логистическая регрессия   accuracy: {0:.3f}\".format(score))"
   ]
  },
  {
   "cell_type": "markdown",
   "metadata": {},
   "source": [
    "__2. Полносвязная нейронная сеть__"
   ]
  },
  {
   "cell_type": "code",
   "execution_count": 31,
   "metadata": {},
   "outputs": [
    {
     "name": "stdout",
     "output_type": "stream",
     "text": [
      "Epoch 1/20\n",
      "96/96 [==============================] - 1s 11ms/step - loss: 2.3301 - accuracy: 0.1077 - val_loss: 2.2575 - val_accuracy: 0.1408\n",
      "WARNING:tensorflow:Can save best model only with val_acc available, skipping.\n",
      "Epoch 2/20\n",
      "96/96 [==============================] - 1s 10ms/step - loss: 2.2605 - accuracy: 0.1436 - val_loss: 2.1846 - val_accuracy: 0.1982\n",
      "WARNING:tensorflow:Can save best model only with val_acc available, skipping.\n",
      "Epoch 3/20\n",
      "96/96 [==============================] - 1s 10ms/step - loss: 2.1923 - accuracy: 0.1898 - val_loss: 2.1147 - val_accuracy: 0.3017\n",
      "WARNING:tensorflow:Can save best model only with val_acc available, skipping.\n",
      "Epoch 4/20\n",
      "96/96 [==============================] - 1s 10ms/step - loss: 2.1295 - accuracy: 0.2400 - val_loss: 2.0467 - val_accuracy: 0.4287\n",
      "WARNING:tensorflow:Can save best model only with val_acc available, skipping.\n",
      "Epoch 5/20\n",
      "96/96 [==============================] - 1s 11ms/step - loss: 2.0672 - accuracy: 0.2957 - val_loss: 1.9799 - val_accuracy: 0.5329\n",
      "WARNING:tensorflow:Can save best model only with val_acc available, skipping.\n",
      "Epoch 6/20\n",
      "96/96 [==============================] - 1s 10ms/step - loss: 2.0033 - accuracy: 0.3610 - val_loss: 1.9142 - val_accuracy: 0.5889\n",
      "WARNING:tensorflow:Can save best model only with val_acc available, skipping.\n",
      "Epoch 7/20\n",
      "96/96 [==============================] - 1s 10ms/step - loss: 1.9436 - accuracy: 0.4089 - val_loss: 1.8501 - val_accuracy: 0.6184\n",
      "WARNING:tensorflow:Can save best model only with val_acc available, skipping.\n",
      "Epoch 8/20\n",
      "96/96 [==============================] - 1s 11ms/step - loss: 1.8850 - accuracy: 0.4533 - val_loss: 1.7876 - val_accuracy: 0.6311\n",
      "WARNING:tensorflow:Can save best model only with val_acc available, skipping.\n",
      "Epoch 9/20\n",
      "96/96 [==============================] - 1s 10ms/step - loss: 1.8230 - accuracy: 0.4900 - val_loss: 1.7269 - val_accuracy: 0.6387\n",
      "WARNING:tensorflow:Can save best model only with val_acc available, skipping.\n",
      "Epoch 10/20\n",
      "96/96 [==============================] - 1s 10ms/step - loss: 1.7669 - accuracy: 0.5140 - val_loss: 1.6681 - val_accuracy: 0.6448\n",
      "WARNING:tensorflow:Can save best model only with val_acc available, skipping.\n",
      "Epoch 11/20\n",
      "96/96 [==============================] - 1s 10ms/step - loss: 1.7132 - accuracy: 0.5345 - val_loss: 1.6118 - val_accuracy: 0.6492\n",
      "WARNING:tensorflow:Can save best model only with val_acc available, skipping.\n",
      "Epoch 12/20\n",
      "96/96 [==============================] - 1s 11ms/step - loss: 1.6609 - accuracy: 0.5496 - val_loss: 1.5583 - val_accuracy: 0.6525\n",
      "WARNING:tensorflow:Can save best model only with val_acc available, skipping.\n",
      "Epoch 13/20\n",
      "96/96 [==============================] - 1s 11ms/step - loss: 1.6102 - accuracy: 0.5633 - val_loss: 1.5077 - val_accuracy: 0.6549\n",
      "WARNING:tensorflow:Can save best model only with val_acc available, skipping.\n",
      "Epoch 14/20\n",
      "96/96 [==============================] - 1s 10ms/step - loss: 1.5650 - accuracy: 0.5713 - val_loss: 1.4599 - val_accuracy: 0.6582\n",
      "WARNING:tensorflow:Can save best model only with val_acc available, skipping.\n",
      "Epoch 15/20\n",
      "96/96 [==============================] - 1s 11ms/step - loss: 1.5176 - accuracy: 0.5820 - val_loss: 1.4150 - val_accuracy: 0.6593\n",
      "WARNING:tensorflow:Can save best model only with val_acc available, skipping.\n",
      "Epoch 16/20\n",
      "96/96 [==============================] - 1s 11ms/step - loss: 1.4768 - accuracy: 0.5919 - val_loss: 1.3730 - val_accuracy: 0.6614\n",
      "WARNING:tensorflow:Can save best model only with val_acc available, skipping.\n",
      "Epoch 17/20\n",
      "96/96 [==============================] - 1s 10ms/step - loss: 1.4364 - accuracy: 0.5967 - val_loss: 1.3338 - val_accuracy: 0.6628\n",
      "WARNING:tensorflow:Can save best model only with val_acc available, skipping.\n",
      "Epoch 18/20\n",
      "96/96 [==============================] - 1s 11ms/step - loss: 1.4009 - accuracy: 0.6022 - val_loss: 1.2972 - val_accuracy: 0.6637\n",
      "WARNING:tensorflow:Can save best model only with val_acc available, skipping.\n",
      "Epoch 19/20\n",
      "96/96 [==============================] - 1s 11ms/step - loss: 1.3648 - accuracy: 0.6103 - val_loss: 1.2631 - val_accuracy: 0.6662\n",
      "WARNING:tensorflow:Can save best model only with val_acc available, skipping.\n",
      "Epoch 20/20\n",
      "96/96 [==============================] - 1s 11ms/step - loss: 1.3339 - accuracy: 0.6123 - val_loss: 1.2315 - val_accuracy: 0.6678\n",
      "WARNING:tensorflow:Can save best model only with val_acc available, skipping.\n"
     ]
    }
   ],
   "source": [
    "nn_checkpoint = ModelCheckpoint('nn_model.h5', save_best_only=True, save_weights_only=True, mode='max', monitor='val_acc')\n",
    "model_nn = Sequential()\n",
    "model_nn.add(Dense(512, activation='relu', input_shape=(784,)))\n",
    "model_nn.add(Dropout(0.2))\n",
    "model_nn.add(Dense(512, activation='relu'))\n",
    "model_nn.add(Dropout(0.2))\n",
    "model_nn.add(Dense(10, activation='softmax'))\n",
    "\n",
    "model_nn.compile(optimizer='adadelta', loss='categorical_crossentropy', metrics=['accuracy'])\n",
    "\n",
    "history_nn = model_nn.fit(x_TRAIN.values, y_TRAIN, batch_size=500, validation_data=(x_VALID.values, y_VALID),\n",
    "                       callbacks=[nn_checkpoint], epochs=20)\n"
   ]
  },
  {
   "cell_type": "markdown",
   "metadata": {},
   "source": [
    "#### Визуализация зависимости accuracy от количества эпох."
   ]
  },
  {
   "cell_type": "code",
   "execution_count": 32,
   "metadata": {},
   "outputs": [
    {
     "data": {
      "text/plain": [
       "<matplotlib.legend.Legend at 0x7fe8ec3e2340>"
      ]
     },
     "execution_count": 32,
     "metadata": {},
     "output_type": "execute_result"
    },
    {
     "data": {
      "image/png": "[encoded data removed]",
      "text/plain": [
       "<Figure size 432x288 with 1 Axes>"
      ]
     },
     "metadata": {
      "needs_background": "light"
     },
     "output_type": "display_data"
    }
   ],
   "source": [
    "plt.plot(history_nn.history['accuracy'])\n",
    "plt.plot(history_nn.history['val_accuracy'])\n",
    "plt.ylabel('Accuracy')\n",
    "plt.xlabel('Epoch')\n",
    "plt.legend(['Train', 'Validation'], loc='upper left')"
   ]
  },
  {
   "cell_type": "code",
   "execution_count": 33,
   "metadata": {},
   "outputs": [
    {
     "name": "stdout",
     "output_type": "stream",
     "text": [
      "313/313 [==============================] - 0s 761us/step - loss: 0.2878 - accuracy: 0.8951\n",
      "Полносвязная нейронная сеть   accuracy: 0.895\n"
     ]
    }
   ],
   "source": [
    "model_nn.load_weights('nn_model.h5')\n",
    "_, score = model_nn.evaluate(x_test.values, y_test_labels)\n",
    "print(\"Полносвязная нейронная сеть   accuracy: {0:.3f}\".format(score))"
   ]
  },
  {
   "cell_type": "markdown",
   "metadata": {},
   "source": [
    "#### По результатам оценок двух моделей видно что полносвязная нейронная сеть в силу своей сложности по отношению к логистической регрессии показала лучший Score"
   ]
  },
  {
   "cell_type": "markdown",
   "metadata": {},
   "source": [
    "__3. Сверточная нейронная сеть__"
   ]
  },
  {
   "cell_type": "code",
   "execution_count": 34,
   "metadata": {},
   "outputs": [],
   "source": [
    "x_TRAIN_reshaped = x_TRAIN.values.reshape(48000, 28, 28, 1)\n",
    "x_VALID_reshaped = x_VALID.values.reshape(12000, 28, 28, 1)\n",
    "x_TEST_reshaped = x_test.values.reshape(10000, 28, 28, 1)"
   ]
  },
  {
   "cell_type": "code",
   "execution_count": 35,
   "metadata": {},
   "outputs": [
    {
     "name": "stdout",
     "output_type": "stream",
     "text": [
      "Epoch 1/10\n",
      "96/96 [==============================] - ETA: 0s - loss: 2.2897 - accuracy: 0.1401WARNING:tensorflow:Can save best model only with val_acc available, skipping.\n",
      "96/96 [==============================] - 5s 52ms/step - loss: 2.2897 - accuracy: 0.1401 - val_loss: 2.2868 - val_accuracy: 0.1519\n",
      "Epoch 2/10\n",
      "96/96 [==============================] - ETA: 0s - loss: 2.2852 - accuracy: 0.1504WARNING:tensorflow:Can save best model only with val_acc available, skipping.\n",
      "96/96 [==============================] - 5s 56ms/step - loss: 2.2852 - accuracy: 0.1504 - val_loss: 2.2822 - val_accuracy: 0.1612\n",
      "Epoch 3/10\n",
      "96/96 [==============================] - ETA: 0s - loss: 2.2803 - accuracy: 0.1585WARNING:tensorflow:Can save best model only with val_acc available, skipping.\n",
      "96/96 [==============================] - 5s 53ms/step - loss: 2.2803 - accuracy: 0.1585 - val_loss: 2.2772 - val_accuracy: 0.1678\n",
      "Epoch 4/10\n",
      "96/96 [==============================] - ETA: 0s - loss: 2.2752 - accuracy: 0.1665WARNING:tensorflow:Can save best model only with val_acc available, skipping.\n",
      "96/96 [==============================] - 5s 53ms/step - loss: 2.2752 - accuracy: 0.1665 - val_loss: 2.2718 - val_accuracy: 0.1741\n",
      "Epoch 5/10\n",
      "96/96 [==============================] - ETA: 0s - loss: 2.2697 - accuracy: 0.1743WARNING:tensorflow:Can save best model only with val_acc available, skipping.\n",
      "96/96 [==============================] - 5s 54ms/step - loss: 2.2697 - accuracy: 0.1743 - val_loss: 2.2663 - val_accuracy: 0.1818\n",
      "Epoch 6/10\n",
      "96/96 [==============================] - ETA: 0s - loss: 2.2642 - accuracy: 0.1830WARNING:tensorflow:Can save best model only with val_acc available, skipping.\n",
      "96/96 [==============================] - 5s 56ms/step - loss: 2.2642 - accuracy: 0.1830 - val_loss: 2.2607 - val_accuracy: 0.1960\n",
      "Epoch 7/10\n",
      "96/96 [==============================] - ETA: 0s - loss: 2.2584 - accuracy: 0.1964WARNING:tensorflow:Can save best model only with val_acc available, skipping.\n",
      "96/96 [==============================] - 5s 56ms/step - loss: 2.2584 - accuracy: 0.1964 - val_loss: 2.2548 - val_accuracy: 0.2079\n",
      "Epoch 8/10\n",
      "96/96 [==============================] - ETA: 0s - loss: 2.2524 - accuracy: 0.2108WARNING:tensorflow:Can save best model only with val_acc available, skipping.\n",
      "96/96 [==============================] - 5s 55ms/step - loss: 2.2524 - accuracy: 0.2108 - val_loss: 2.2487 - val_accuracy: 0.2203\n",
      "Epoch 9/10\n",
      "95/96 [============================>.] - ETA: 0s - loss: 2.2461 - accuracy: 0.2248WARNING:tensorflow:Can save best model only with val_acc available, skipping.\n",
      "96/96 [==============================] - 5s 54ms/step - loss: 2.2462 - accuracy: 0.2246 - val_loss: 2.2423 - val_accuracy: 0.2309\n",
      "Epoch 10/10\n",
      "95/96 [============================>.] - ETA: 0s - loss: 2.2397 - accuracy: 0.2332WARNING:tensorflow:Can save best model only with val_acc available, skipping.\n",
      "96/96 [==============================] - 5s 55ms/step - loss: 2.2397 - accuracy: 0.2334 - val_loss: 2.2356 - val_accuracy: 0.2375\n"
     ]
    }
   ],
   "source": [
    "cnn_1_checkpoint = ModelCheckpoint('cnn1_model.h5', save_best_only=True, save_weights_only=True, mode='max', monitor='val_acc')\n",
    "model_cnn_1 = tf.keras.models.Sequential()\n",
    "model_cnn_1.add(tf.keras.layers.Convolution2D(32, (3,3), input_shape=(28, 28, 1), activation='relu'))\n",
    "model_cnn_1.add(tf.keras.layers.MaxPooling2D((2,2)))\n",
    "model_cnn_1.add(tf.keras.layers.Convolution2D(64, (3,3), activation='relu'))\n",
    "model_cnn_1.add(tf.keras.layers.MaxPooling2D((2,2)))\n",
    "model_cnn_1.add(tf.keras.layers.Flatten())\n",
    "model_cnn_1.add(tf.keras.layers.Dense(64, activation='relu'))\n",
    "model_cnn_1.add(tf.keras.layers.Dense(10, activation='softmax'))\n",
    "\n",
    "model_cnn_1.compile(optimizer='adadelta', loss='categorical_crossentropy', metrics=['accuracy'])\n",
    "\n",
    "history_cnn1 = model_cnn_1.fit(x_TRAIN_reshaped, y_TRAIN, batch_size=500, validation_data=(x_VALID_reshaped, y_VALID),\n",
    "                       callbacks=[cnn_1_checkpoint], epochs=10)"
   ]
  },
  {
   "cell_type": "code",
   "execution_count": 37,
   "metadata": {},
   "outputs": [
    {
     "data": {
      "text/plain": [
       "<matplotlib.legend.Legend at 0x7fe933d4ff70>"
      ]
     },
     "execution_count": 37,
     "metadata": {},
     "output_type": "execute_result"
    },
    {
     "data": {
      "image/png": "[encoded data removed]",
      "text/plain": [
       "<Figure size 432x288 with 1 Axes>"
      ]
     },
     "metadata": {
      "needs_background": "light"
     },
     "output_type": "display_data"
    }
   ],
   "source": [
    "plt.plot(history_cnn1.history['accuracy'])\n",
    "plt.plot(history_cnn1.history['val_accuracy'])\n",
    "plt.ylabel('Accuracy')\n",
    "plt.xlabel('Epoch')\n",
    "plt.legend(['Train', 'Validation'], loc='upper left')"
   ]
  },
  {
   "cell_type": "code",
   "execution_count": 38,
   "metadata": {},
   "outputs": [
    {
     "name": "stdout",
     "output_type": "stream",
     "text": [
      "313/313 [==============================] - 1s 2ms/step - loss: 0.3086 - accuracy: 0.8918\n",
      "Сверточная нейронная сеть-1   accuracy: 0.892\n"
     ]
    }
   ],
   "source": [
    "model_cnn_1.load_weights('cnn1_model.h5')\n",
    "_, score = model_cnn_1.evaluate(x_TEST_reshaped, y_test_labels)\n",
    "print(\"Сверточная нейронная сеть-1   accuracy: {0:.3f}\".format(score))"
   ]
  },
  {
   "cell_type": "markdown",
   "metadata": {},
   "source": [
    "#### Тут уже сверточная нейронная сеть проявила себя лучше с помощью 10-ти эпох!"
   ]
  },
  {
   "cell_type": "code",
   "execution_count": 39,
   "metadata": {},
   "outputs": [
    {
     "name": "stdout",
     "output_type": "stream",
     "text": [
      "Epoch 1/10\n",
      "96/96 [==============================] - ETA: 0s - loss: 2.3055 - accuracy: 0.0856WARNING:tensorflow:Can save best model only with val_acc available, skipping.\n",
      "96/96 [==============================] - 14s 144ms/step - loss: 2.3055 - accuracy: 0.0856 - val_loss: 2.3031 - val_accuracy: 0.0942\n",
      "Epoch 2/10\n",
      "96/96 [==============================] - ETA: 0s - loss: 2.3005 - accuracy: 0.1006WARNING:tensorflow:Can save best model only with val_acc available, skipping.\n",
      "96/96 [==============================] - 14s 147ms/step - loss: 2.3005 - accuracy: 0.1006 - val_loss: 2.2984 - val_accuracy: 0.0956\n",
      "Epoch 3/10\n",
      "96/96 [==============================] - ETA: 0s - loss: 2.2960 - accuracy: 0.1010WARNING:tensorflow:Can save best model only with val_acc available, skipping.\n",
      "96/96 [==============================] - 14s 151ms/step - loss: 2.2960 - accuracy: 0.1010 - val_loss: 2.2944 - val_accuracy: 0.0957\n",
      "Epoch 4/10\n",
      "96/96 [==============================] - ETA: 0s - loss: 2.2924 - accuracy: 0.1010WARNING:tensorflow:Can save best model only with val_acc available, skipping.\n",
      "96/96 [==============================] - 15s 153ms/step - loss: 2.2924 - accuracy: 0.1010 - val_loss: 2.2911 - val_accuracy: 0.0959\n",
      "Epoch 5/10\n",
      "96/96 [==============================] - ETA: 0s - loss: 2.2891 - accuracy: 0.1011WARNING:tensorflow:Can save best model only with val_acc available, skipping.\n",
      "96/96 [==============================] - 15s 154ms/step - loss: 2.2891 - accuracy: 0.1011 - val_loss: 2.2878 - val_accuracy: 0.0960\n",
      "Epoch 6/10\n",
      "96/96 [==============================] - ETA: 0s - loss: 2.2858 - accuracy: 0.1014WARNING:tensorflow:Can save best model only with val_acc available, skipping.\n",
      "96/96 [==============================] - 16s 162ms/step - loss: 2.2858 - accuracy: 0.1014 - val_loss: 2.2844 - val_accuracy: 0.0964\n",
      "Epoch 7/10\n",
      "96/96 [==============================] - ETA: 0s - loss: 2.2822 - accuracy: 0.1026WARNING:tensorflow:Can save best model only with val_acc available, skipping.\n",
      "96/96 [==============================] - 15s 158ms/step - loss: 2.2822 - accuracy: 0.1026 - val_loss: 2.2808 - val_accuracy: 0.0987\n",
      "Epoch 8/10\n",
      "96/96 [==============================] - ETA: 0s - loss: 2.2784 - accuracy: 0.1060WARNING:tensorflow:Can save best model only with val_acc available, skipping.\n",
      "96/96 [==============================] - 15s 161ms/step - loss: 2.2784 - accuracy: 0.1060 - val_loss: 2.2768 - val_accuracy: 0.1038\n",
      "Epoch 9/10\n",
      "96/96 [==============================] - ETA: 0s - loss: 2.2741 - accuracy: 0.1145WARNING:tensorflow:Can save best model only with val_acc available, skipping.\n",
      "96/96 [==============================] - 15s 162ms/step - loss: 2.2741 - accuracy: 0.1145 - val_loss: 2.2723 - val_accuracy: 0.1156\n",
      "Epoch 10/10\n",
      "96/96 [==============================] - ETA: 0s - loss: 2.2693 - accuracy: 0.1306WARNING:tensorflow:Can save best model only with val_acc available, skipping.\n",
      "96/96 [==============================] - 16s 163ms/step - loss: 2.2693 - accuracy: 0.1306 - val_loss: 2.2672 - val_accuracy: 0.1390\n"
     ]
    }
   ],
   "source": [
    "cnn_2_checkpoint = ModelCheckpoint('cnn2_model.h5', save_best_only=True, save_weights_only=True, mode='max', monitor='val_acc')\n",
    "model_cnn_2 = tf.keras.models.Sequential()\n",
    "model_cnn_2.add(tf.keras.layers.Convolution2D(32, (3,3), input_shape=(28, 28, 1), activation='relu'))\n",
    "model_cnn_2.add(tf.keras.layers.Convolution2D(32, (3,3), activation='relu'))\n",
    "model_cnn_2.add(tf.keras.layers.MaxPooling2D((2,2)))\n",
    "model_cnn_2.add(tf.keras.layers.Convolution2D(64, (3,3), activation='relu'))\n",
    "model_cnn_2.add(tf.keras.layers.Convolution2D(64, (3,3), activation='relu'))\n",
    "model_cnn_2.add(tf.keras.layers.MaxPooling2D((2,2)))\n",
    "model_cnn_2.add(tf.keras.layers.Flatten())\n",
    "model_cnn_2.add(tf.keras.layers.Dense(128, activation='relu'))\n",
    "model_cnn_2.add(tf.keras.layers.Dense(64, activation='relu'))\n",
    "model_cnn_2.add(tf.keras.layers.Dense(10, activation='softmax'))\n",
    "\n",
    "model_cnn_2.compile(optimizer='adadelta',loss='categorical_crossentropy', metrics=['accuracy'])\n",
    "    \n",
    "history_cnn2 = model_cnn_2.fit(x_TRAIN_reshaped, y_TRAIN, batch_size=500, validation_data=(x_VALID_reshaped, y_VALID),\n",
    "                       callbacks=[cnn_2_checkpoint], epochs=10)"
   ]
  },
  {
   "cell_type": "code",
   "execution_count": 41,
   "metadata": {},
   "outputs": [
    {
     "data": {
      "text/plain": [
       "<matplotlib.legend.Legend at 0x7fe933ca0c70>"
      ]
     },
     "execution_count": 41,
     "metadata": {},
     "output_type": "execute_result"
    },
    {
     "data": {
      "image/png": "[encoded data removed]",
      "text/plain": [
       "<Figure size 432x288 with 1 Axes>"
      ]
     },
     "metadata": {
      "needs_background": "light"
     },
     "output_type": "display_data"
    }
   ],
   "source": [
    "plt.plot(history_cnn2.history['accuracy'])\n",
    "plt.plot(history_cnn2.history['val_accuracy'])\n",
    "plt.ylabel('Accuracy')\n",
    "plt.xlabel('Epoch')\n",
    "plt.legend(['Train', 'Test'], loc='upper left')"
   ]
  },
  {
   "cell_type": "code",
   "execution_count": 42,
   "metadata": {},
   "outputs": [
    {
     "name": "stdout",
     "output_type": "stream",
     "text": [
      "313/313 [==============================] - 1s 4ms/step - loss: 0.2714 - accuracy: 0.8972\n",
      "Сверточная нейронная сеть-2   accuracy: 0.897\n"
     ]
    }
   ],
   "source": [
    "model_cnn_2.load_weights('cnn2_model.h5')\n",
    "_, score = model_cnn_2.evaluate(x_TEST_reshaped, y_test_labels)\n",
    "print(\"Сверточная нейронная сеть-2   accuracy: {0:.3f}\".format(score))"
   ]
  },
  {
   "cell_type": "markdown",
   "metadata": {},
   "source": [
    "### Добавление Batch Normalization слоев"
   ]
  },
  {
   "cell_type": "code",
   "execution_count": 43,
   "metadata": {},
   "outputs": [
    {
     "name": "stdout",
     "output_type": "stream",
     "text": [
      "Epoch 1/5\n",
      "96/96 [==============================] - ETA: 0s - loss: 0.5542 - accuracy: 0.8084WARNING:tensorflow:Can save best model only with val_acc available, skipping.\n",
      "96/96 [==============================] - 17s 175ms/step - loss: 0.5542 - accuracy: 0.8084 - val_loss: 2.4308 - val_accuracy: 0.1613\n",
      "Epoch 2/5\n",
      "96/96 [==============================] - ETA: 0s - loss: 0.2954 - accuracy: 0.8939WARNING:tensorflow:Can save best model only with val_acc available, skipping.\n",
      "96/96 [==============================] - 17s 180ms/step - loss: 0.2954 - accuracy: 0.8939 - val_loss: 2.6063 - val_accuracy: 0.1338\n",
      "Epoch 3/5\n",
      "96/96 [==============================] - ETA: 0s - loss: 0.2391 - accuracy: 0.9131WARNING:tensorflow:Can save best model only with val_acc available, skipping.\n",
      "96/96 [==============================] - 17s 181ms/step - loss: 0.2391 - accuracy: 0.9131 - val_loss: 3.0476 - val_accuracy: 0.2573\n",
      "Epoch 4/5\n",
      "96/96 [==============================] - ETA: 0s - loss: 0.2065 - accuracy: 0.9257WARNING:tensorflow:Can save best model only with val_acc available, skipping.\n",
      "96/96 [==============================] - 18s 186ms/step - loss: 0.2065 - accuracy: 0.9257 - val_loss: 1.8577 - val_accuracy: 0.5172\n",
      "Epoch 5/5\n",
      "96/96 [==============================] - ETA: 0s - loss: 0.1720 - accuracy: 0.9388WARNING:tensorflow:Can save best model only with val_acc available, skipping.\n",
      "96/96 [==============================] - 18s 188ms/step - loss: 0.1720 - accuracy: 0.9388 - val_loss: 0.9590 - val_accuracy: 0.7103\n"
     ]
    }
   ],
   "source": [
    "cnn_3_checkpoint = ModelCheckpoint('cnn3_model.h5', save_best_only=True, save_weights_only=True, mode='max', monitor='val_acc')\n",
    "model_cnn_3b = tf.keras.models.Sequential()\n",
    "model_cnn_3b.add(tf.keras.layers.Convolution2D(32, (3,3), input_shape=(28, 28, 1), activation='relu'))\n",
    "model_cnn_3b.add(tf.keras.layers.BatchNormalization())\n",
    "model_cnn_3b.add(tf.keras.layers.Convolution2D(32, (3,3), activation='relu'))\n",
    "model_cnn_3b.add(tf.keras.layers.BatchNormalization())\n",
    "model_cnn_3b.add(tf.keras.layers.MaxPooling2D((2,2)))\n",
    "model_cnn_3b.add(tf.keras.layers.Convolution2D(64, (3,3), activation='relu'))\n",
    "model_cnn_3b.add(tf.keras.layers.BatchNormalization())\n",
    "model_cnn_3b.add(tf.keras.layers.Convolution2D(64, (3,3), activation='relu'))\n",
    "model_cnn_3b.add(tf.keras.layers.BatchNormalization())\n",
    "model_cnn_3b.add(tf.keras.layers.MaxPooling2D((2,2)))\n",
    "model_cnn_3b.add(tf.keras.layers.Flatten())\n",
    "model_cnn_3b.add(tf.keras.layers.Dense(128, activation='relu'))\n",
    "model_cnn_3b.add(tf.keras.layers.Dense(32, activation='relu'))\n",
    "model_cnn_3b.add(tf.keras.layers.Dense(10, activation='softmax'))\n",
    "\n",
    "model_cnn_3b.compile(optimizer='adam',loss='categorical_crossentropy', metrics=['accuracy'])\n",
    "    \n",
    "history_cnn3 = model_cnn_3b.fit(x_TRAIN_reshaped, y_TRAIN, batch_size=500, validation_data=(x_VALID_reshaped, y_VALID),\n",
    "                       callbacks=[cnn_3_checkpoint], epochs=5)\n"
   ]
  },
  {
   "cell_type": "code",
   "execution_count": 50,
   "metadata": {},
   "outputs": [
    {
     "name": "stdout",
     "output_type": "stream",
     "text": [
      "<keras.callbacks.History object at 0x7f0ff4093820>\n"
     ]
    }
   ],
   "source": [
    "print(history_cnn3)"
   ]
  },
  {
   "cell_type": "code",
   "execution_count": 45,
   "metadata": {},
   "outputs": [
    {
     "data": {
      "text/plain": [
       "<matplotlib.legend.Legend at 0x7fe9334608e0>"
      ]
     },
     "execution_count": 45,
     "metadata": {},
     "output_type": "execute_result"
    },
    {
     "data": {
      "image/png": "[encoded data removed]",
      "text/plain": [
       "<Figure size 432x288 with 1 Axes>"
      ]
     },
     "metadata": {
      "needs_background": "light"
     },
     "output_type": "display_data"
    }
   ],
   "source": [
    "plt.plot(history_cnn3.history['accuracy'])\n",
    "plt.plot(history_cnn3.history['val_accuracy'])\n",
    "plt.ylabel('Accuracy')\n",
    "plt.xlabel('Epoch')\n",
    "plt.legend(['Train', 'Test'], loc='upper left')"
   ]
  },
  {
   "cell_type": "code",
   "execution_count": 46,
   "metadata": {},
   "outputs": [
    {
     "name": "stdout",
     "output_type": "stream",
     "text": [
      "313/313 [==============================] - 2s 5ms/step - loss: 0.2890 - accuracy: 0.9121\n",
      "Сверточная нейронная сеть-3   accuracy: 0.912\n"
     ]
    }
   ],
   "source": [
    "model_cnn_3b.load_weights('cnn3_model.h5')\n",
    "_, score = model_cnn_3b.evaluate(x_TEST_reshaped, y_test_labels)\n",
    "print(\"Сверточная нейронная сеть-3   accuracy: {0:.3f}\".format(score))"
   ]
  },
  {
   "cell_type": "code",
   "execution_count": null,
   "metadata": {},
   "outputs": [],
   "source": []
  }
 ],
 "metadata": {
  "kernelspec": {
   "display_name": "Python 3 (ipykernel)",
   "language": "python",
   "name": "python3"
  },
  "language_info": {
   "codemirror_mode": {
    "name": "ipython",
    "version": 3
   },
   "file_extension": ".py",
   "mimetype": "text/x-python",
   "name": "python",
   "nbconvert_exporter": "python",
   "pygments_lexer": "ipython3",
   "version": "3.8.10"
  }
 },
 "nbformat": 4,
 "nbformat_minor": 2
}
