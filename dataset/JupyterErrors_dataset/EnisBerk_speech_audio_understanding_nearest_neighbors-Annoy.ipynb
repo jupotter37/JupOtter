{
 "cells": [
  {
   "cell_type": "code",
   "execution_count": null,
   "metadata": {},
   "outputs": [],
   "source": [
    "import os\n",
    "import sys\n",
    "\n",
    "module_path = os.path.abspath(os.path.join('../../src'))\n",
    "print(module_path)\n",
    "if module_path not in sys.path:\n",
    "    sys.path.append(module_path)"
   ]
  },
  {
   "cell_type": "code",
   "execution_count": null,
   "metadata": {},
   "outputs": [],
   "source": []
  },
  {
   "cell_type": "code",
   "execution_count": 1,
   "metadata": {},
   "outputs": [
    {
     "ename": "ModuleNotFoundError",
     "evalue": "No module named 'fileUtils'",
     "output_type": "error",
     "traceback": [
      "\u001b[0;31m---------------------------------------------------------------------------\u001b[0m",
      "\u001b[0;31mModuleNotFoundError\u001b[0m                       Traceback (most recent call last)",
      "\u001b[0;32m<ipython-input-1-51f2d047800e>\u001b[0m in \u001b[0;36m<module>\u001b[0;34m\u001b[0m\n\u001b[1;32m      4\u001b[0m \u001b[0;34m\u001b[0m\u001b[0m\n\u001b[1;32m      5\u001b[0m \u001b[0;34m\u001b[0m\u001b[0m\n\u001b[0;32m----> 6\u001b[0;31m \u001b[0;32mfrom\u001b[0m \u001b[0mfileUtils\u001b[0m \u001b[0;32mimport\u001b[0m \u001b[0mread_file_properties_v2\u001b[0m\u001b[0;34m,\u001b[0m\u001b[0mfind_filesv2\u001b[0m\u001b[0;34m,\u001b[0m\u001b[0mlist_files\u001b[0m\u001b[0;34m,\u001b[0m\u001b[0mget_labeled_exif\u001b[0m\u001b[0;34m\u001b[0m\u001b[0;34m\u001b[0m\u001b[0m\n\u001b[0m\u001b[1;32m      7\u001b[0m \u001b[0;32mfrom\u001b[0m \u001b[0mfileUtils\u001b[0m \u001b[0;32mimport\u001b[0m \u001b[0mget_audio\u001b[0m\u001b[0;34m,\u001b[0m\u001b[0mstr2timestamp\u001b[0m\u001b[0;34m,\u001b[0m\u001b[0mquery_audio\u001b[0m\u001b[0;34m\u001b[0m\u001b[0;34m\u001b[0m\u001b[0m\n\u001b[1;32m      8\u001b[0m \u001b[0;32mfrom\u001b[0m \u001b[0mlabeling_utils\u001b[0m \u001b[0;32mimport\u001b[0m \u001b[0msplitmp3\u001b[0m\u001b[0;34m\u001b[0m\u001b[0;34m\u001b[0m\u001b[0m\n",
      "\u001b[0;31mModuleNotFoundError\u001b[0m: No module named 'fileUtils'"
     ]
    }
   ],
   "source": [
    "from datetime import timedelta\n",
    "import datetime \n",
    "import os\n",
    "\n",
    "\n",
    "from fileUtils import read_file_properties_v2,find_filesv2,list_files,get_labeled_exif\n",
    "from fileUtils import get_audio,str2timestamp,query_audio\n",
    "from labeling_utils import splitmp3\n",
    "\n",
    "import pandas as pd\n",
    "from pathlib import Path\n",
    "\n",
    "# from sklearn.neighbors import KDTree\n",
    "import numpy as np\n",
    "\n",
    "from pydub import AudioSegment\n"
   ]
  },
  {
   "cell_type": "code",
   "execution_count": null,
   "metadata": {},
   "outputs": [],
   "source": [
    "from annoy import AnnoyIndex\n"
   ]
  },
  {
   "cell_type": "code",
   "execution_count": null,
   "metadata": {},
   "outputs": [],
   "source": [
    "# from sklearn.metrics.pairwise import paired_distances\n",
    "# from sklearn.metrics import pairwise_distances\n",
    "\n",
    "\n",
    "# def paired_distances_broadcast(X,Y):\n",
    "#     return paired_distances(np.repeat(X,Y.shape[0],axis=0), Y)\n",
    "\n",
    "\n",
    "# def sigmoid(X):\n",
    "#     return 1/(1+np.exp(-X))\n",
    "\n",
    "# def sigmoidT(X,t):\n",
    "#     return 1/(1+np.exp(-X*t))\n",
    "\n",
    "# # from fileUtils import save_to_csv\n",
    "\n",
    "# # import csv\n",
    "# # def save_to_csv(file_name,lines):\n",
    "# #     file_name=Path(file_name).with_suffix('.csv')\n",
    "# #     with open(file_name, mode='a') as labels_file:\n",
    "# #         label_writer = csv.writer(labels_file, delimiter=',', quotechar='\"', quoting=csv.QUOTE_MINIMAL)\n",
    "# #         for line in lines:\n",
    "# #             label_writer.writerow(line)"
   ]
  },
  {
   "cell_type": "code",
   "execution_count": 2,
   "metadata": {},
   "outputs": [],
   "source": [
    "# output = find_filesv2(location,start_time,end_time,length,0,file_properties_df)\n",
    "# sorted_filtered,start_time,end_time,start_time_org,end_time_org = output"
   ]
  },
  {
   "cell_type": "code",
   "execution_count": null,
   "metadata": {},
   "outputs": [],
   "source": []
  },
  {
   "cell_type": "markdown",
   "metadata": {},
   "source": [
    "#### find the embedding for a given image"
   ]
  },
  {
   "cell_type": "code",
   "execution_count": 6,
   "metadata": {},
   "outputs": [],
   "source": [
    "# p_path=\"/home/enis/projects/nna/data/cameraTraps/test.txt\"\n",
    "\n",
    "# with open(p_path) as p_file:\n",
    "#     photo_paths=p_file.readlines()\n",
    "#     photo_paths = [i.strip() for i in photo_paths]\n",
    "\n",
    "# other_folder=[\"anwr_35_2019_101RECNX_RCNX3373.JPG\",\n",
    "# \"anwr_42_2019_100RECNX_RCNX3574.JPG\",\n",
    "# \"ivvavik_SINP03_2019_100RECNX_IMG_3219.JPG\",\n",
    "# \"ivvavik_SINP05_2019_100RECNX_IMG_2867.JPG\",\n",
    "# \"ivvavik_SINP06_2019_100RECNX_IMG_1884.JPG\",\n",
    "# \"ivvavik_SINP09_2019_100RECNX_IMG_2743.JPG\",\n",
    "# \"prudhoe_17_2019_100RECNX_RCNX3916.JPG\",]\n",
    "\n",
    "# parent_path1=\"/tank/data/nna/examples/randomPhotos10k/\"\n",
    "# parent_path2=\"/tank/data/nna/examples/randomPhotos1k/\"\n",
    "\n",
    "# # photo with Caribou\n",
    "# photo_paths=['anwr_37_2019_100RECNX_RCNX9317.jpg']\n",
    "\n",
    "# given image paths finds files, code is at:\n",
    "# notebooks/explore/get_audio4photos.ipynb"
   ]
  },
  {
   "cell_type": "code",
   "execution_count": null,
   "metadata": {},
   "outputs": [],
   "source": [
    "file_properties_df=pd.read_pickle(\"../../data/realdata_v2No_stinchcomb.pkl\")"
   ]
  },
  {
   "cell_type": "markdown",
   "metadata": {},
   "source": [
    "### 1. pick a sound to use for queries"
   ]
  },
  {
   "cell_type": "code",
   "execution_count": 9,
   "metadata": {},
   "outputs": [
    {
     "name": "stdout",
     "output_type": "stream",
     "text": [
      "/scratch/enis/data/nna/real/anwr/37/2019/S4A10279_20190605_091602_FCmodel\n",
      "/scratch/enis/data/nna/real/anwr/37/2019/S4A10279_20190605_091602_FCmodel/S4A10279_20190605_091602_FCmodel000.npy\n",
      "/scratch/enis/data/nna/real/anwr/37/2019/S4A10279_20190605_091602_vgg\n",
      "/scratch/enis/data/nna/real/anwr/37/2019/S4A10279_20190605_091602_vgg/S4A10279_20190605_091602_rawembeddings000.npy\n",
      "/scratch/enis/data/nna/real/anwr/37/2019/S4A10279_20190605_091602_vgg/S4A10279_20190605_091602_embeddings000.npy\n"
     ]
    }
   ],
   "source": [
    "# sound with Caribou\n",
    "\n",
    "!find /scratch/enis/data/nna/real/ -iname \"S4A10279_20190605_091602*\""
   ]
  },
  {
   "cell_type": "code",
   "execution_count": 4,
   "metadata": {},
   "outputs": [
    {
     "name": "stdout",
     "output_type": "stream",
     "text": [
      "^C\n"
     ]
    }
   ],
   "source": [
    "# aircraft sound\n",
    "\n",
    "!find /scratch/enis/data/nna/real/ -iname \"S4A10255_20190507_073000*\"\n"
   ]
  },
  {
   "cell_type": "markdown",
   "metadata": {},
   "source": [
    "### 1.1 find similar embeddings for given embeddings in the same location "
   ]
  },
  {
   "cell_type": "code",
   "execution_count": 31,
   "metadata": {},
   "outputs": [],
   "source": [
    "# sound with Caribou\n",
    "\n",
    "raw_embed_name=\"/scratch/enis/data/nna/real/anwr/37/2019/S4A10279_20190605_091602_vgg/S4A10279_20190605_091602_rawembeddings000.npy\"\n",
    "raw_embed=np.load(raw_embed_name)\n"
   ]
  },
  {
   "cell_type": "code",
   "execution_count": null,
   "metadata": {},
   "outputs": [],
   "source": [
    "# aircraft sound\n",
    "# raw_embed_name=\"/scratch/enis/data/nna/real/prudhoe/26/2019/S4A10255_20190507_073000_vgg/S4A10255_20190507_073000_rawembeddings000.npy\"\n",
    "raw_embed_name=\"/scratch/enis/data/nna/real/prudhoe/26/2019/S4A10255_20190507_073000_vgg/S4A10255_20190507_073000_embeddings000.npy\"\n",
    "\n",
    "raw_embed=np.load(raw_embed_name)\n",
    "raw_embed=raw_embed.astype(np.float32)\n"
   ]
  },
  {
   "cell_type": "code",
   "execution_count": 240,
   "metadata": {},
   "outputs": [
    {
     "data": {
      "text/plain": [
       "1808"
      ]
     },
     "execution_count": 240,
     "metadata": {},
     "output_type": "execute_result"
    }
   ],
   "source": [
    "# S4A10255_20190507_073000-1808second\n",
    "(30*60)+8"
   ]
  },
  {
   "cell_type": "markdown",
   "metadata": {},
   "source": [
    "### 1.2 Slice embedding for exact time of interest from a big file"
   ]
  },
  {
   "cell_type": "code",
   "execution_count": 32,
   "metadata": {},
   "outputs": [],
   "source": [
    "# aircraft sound\n",
    "start_seconds=(30*60)+8\n",
    "raw_embed_audio=raw_embed[int(start_seconds):int(start_seconds)+60]"
   ]
  },
  {
   "cell_type": "code",
   "execution_count": 33,
   "metadata": {},
   "outputs": [],
   "source": [
    "\n",
    "# # sound with Caribou\n",
    "# start_seconds=(start_time-sorted_filtered[\"timestamp\"])[0].total_seconds()\n",
    "# raw_embed_audio=raw_embed[int(start_seconds):int(start_seconds)+60]"
   ]
  },
  {
   "cell_type": "code",
   "execution_count": 34,
   "metadata": {},
   "outputs": [
    {
     "data": {
      "text/plain": [
       "(60, 128)"
      ]
     },
     "execution_count": 34,
     "metadata": {},
     "output_type": "execute_result"
    }
   ],
   "source": [
    "raw_embed_audio.shape"
   ]
  },
  {
   "cell_type": "code",
   "execution_count": 3,
   "metadata": {},
   "outputs": [
    {
     "ename": "NameError",
     "evalue": "name 'metadata' is not defined",
     "output_type": "error",
     "traceback": [
      "\u001b[0;31m---------------------------------------------------------------------------\u001b[0m",
      "\u001b[0;31mNameError\u001b[0m                                 Traceback (most recent call last)",
      "\u001b[0;32m<ipython-input-3-3fd8fcacb64d>\u001b[0m in \u001b[0;36m<module>\u001b[0;34m\u001b[0m\n\u001b[0;32m----> 1\u001b[0;31m \u001b[0mmetadata\u001b[0m\u001b[0;34m\u001b[0m\u001b[0;34m\u001b[0m\u001b[0m\n\u001b[0m",
      "\u001b[0;31mNameError\u001b[0m: name 'metadata' is not defined"
     ]
    }
   ],
   "source": []
  },
  {
   "cell_type": "markdown",
   "metadata": {},
   "source": [
    "### 2.1 load embeddings to search from "
   ]
  },
  {
   "cell_type": "code",
   "execution_count": 37,
   "metadata": {},
   "outputs": [
    {
     "name": "stdout",
     "output_type": "stream",
     "text": [
      "CPU times: user 536 ms, sys: 760 ms, total: 1.3 s\n",
      "Wall time: 7.16 s\n"
     ]
    }
   ],
   "source": [
    "%%time\n",
    "# find all files\n",
    "import glob\n",
    "search_path=\"/scratch/enis/data/nna/real/prudhoe/26/\"\n",
    "filenamePattern=\"*_embeddings*.npy\"\n",
    "\n",
    "# all_embeddings=list_files(\"/scratch/enis/data/nna/real/anwr/37/\",filenamePattern)\n",
    "# aircraft sound\n",
    "all_embeddings=list_files(search_path,filename=filenamePattern)\n",
    "# remove original embedding from the list\n",
    "# del all_embeddings[all_embeddings.index(raw_embed_name)]"
   ]
  },
  {
   "cell_type": "code",
   "execution_count": 44,
   "metadata": {},
   "outputs": [],
   "source": [
    "# # len(all_embeddings)\n",
    "# all_embeddings=[e for e in all_embeddings if \"_embeddings\" in e]\n"
   ]
  },
  {
   "cell_type": "markdown",
   "metadata": {},
   "source": [
    "### 2.1.1 this is for calculating distances ourself "
   ]
  },
  {
   "cell_type": "code",
   "execution_count": 45,
   "metadata": {},
   "outputs": [
    {
     "name": "stdout",
     "output_type": "stream",
     "text": [
      "CPU times: user 996 ms, sys: 1 s, total: 2 s\n",
      "Wall time: 4 s\n"
     ]
    }
   ],
   "source": [
    "%%time\n",
    "# load and merge embedding files\n",
    "#LOAD:\n",
    "embeds=[None]*len(all_embeddings)\n",
    "index=0\n",
    "for i,embed_file in enumerate(all_embeddings):\n",
    "    embed=np.load(embed_file)\n",
    "    index+=embed.shape[0]\n",
    "    embeds[i]=(embed)\n",
    "#MERGE:\n",
    "# Faster then np.concatenate\n",
    "concat_embeds=np.zeros([index,128],dtype=np.float32)\n",
    "index=0\n",
    "for i,embed in enumerate(embeds):\n",
    "    concat_embeds[index:(index+embed.shape[0]),:]=embed[:]\n",
    "    index+=embed.shape[0]"
   ]
  },
  {
   "cell_type": "code",
   "execution_count": 117,
   "metadata": {},
   "outputs": [
    {
     "data": {
      "text/plain": [
       "(1736614, 128)"
      ]
     },
     "execution_count": 117,
     "metadata": {},
     "output_type": "execute_result"
    }
   ],
   "source": [
    "concat_embeds.shape"
   ]
  },
  {
   "cell_type": "markdown",
   "metadata": {},
   "source": [
    "### 2.1.2 create an ANNOY index for files at all_path on disk"
   ]
  },
  {
   "cell_type": "code",
   "execution_count": 48,
   "metadata": {},
   "outputs": [
    {
     "name": "stdout",
     "output_type": "stream",
     "text": [
      "0 1.1046090126037598\n",
      "CPU times: user 47.7 s, sys: 424 ms, total: 48.1 s\n",
      "Wall time: 1min 18s\n"
     ]
    }
   ],
   "source": [
    "%%time\n",
    "import time\n",
    "# vector size\n",
    "f=128\n",
    "t = AnnoyIndex(f, 'euclidean')  # Length of item vector that will be indexed\n",
    "# for i in range(concat_embeds.shape[0]):\n",
    "#     t.add_item(i, concat_embeds[i,:])\n",
    "#prepares annoy to build the index in the specified file instead of RAM \n",
    "#(execute before adding items, no need to save after build)\n",
    "fn=\"/scratch/enis/data/nna/realMerged/prudhoe26_V11.ann\"\n",
    "t.on_disk_build(fn)\n",
    "index=0\n",
    "start=time.time()\n",
    "for i,embed_file in enumerate(all_embeddings):\n",
    "    embed=np.load(embed_file)\n",
    "    for ii in range(embed.shape[0]):\n",
    "        t.add_item(index, embed[ii,:])\n",
    "        index+=1\n",
    "    if i%1000==0:\n",
    "        end=time.time()\n",
    "        print(i//1000,end-start)\n",
    "        start=end\n"
   ]
  },
  {
   "cell_type": "code",
   "execution_count": 59,
   "metadata": {},
   "outputs": [
    {
     "data": {
      "text/plain": [
       "True"
      ]
     },
     "execution_count": 59,
     "metadata": {},
     "output_type": "execute_result"
    }
   ],
   "source": [
    "t.set_seed(42)\n",
    "t.build(16)"
   ]
  },
  {
   "cell_type": "markdown",
   "metadata": {},
   "source": [
    "### 3.1 Use Annoy NNs to approximate "
   ]
  },
  {
   "cell_type": "code",
   "execution_count": 115,
   "metadata": {},
   "outputs": [],
   "source": [
    "queries=[i for i in range(100,110,1)]\n",
    "# QNNs=[[],[]]\n",
    "Qmatrix=np.empty((len(queries),len(queries)))\n",
    "sizeOfDataset=t.get_n_items()\n",
    "for i,q in enumerate(queries):\n",
    "    IDs,Distances=t.get_nns_by_item(q, 2,include_distances=True)\n",
    "    IDs,Distances=IDs[1:],Distances[1:]\n",
    "    Qmatrix[i,i]=Distances[0]\n",
    "    for i2,q2 in enumerate(queries):\n",
    "        if i==i2:\n",
    "            continue\n",
    "        else:\n",
    "            alingedID=(IDs[0]+(i2-i))\n",
    "            alingedID=0 if (alingedID)<0 else alingedID\n",
    "            alingedID = alingedID if alingedID<sizeOfDataset else sizeOfDataset-1\n",
    "            Qmatrix[i,i2]=t.get_distance(IDs[0],alingedID)\n",
    "\n",
    "\n",
    "averageNNs_approx=np.average(Qmatrix,axis=1)"
   ]
  },
  {
   "cell_type": "code",
   "execution_count": 116,
   "metadata": {},
   "outputs": [
    {
     "data": {
      "text/plain": [
       "array([385.7430603 , 455.30080719, 523.78172455, 457.99221039,\n",
       "       477.69957275, 471.13549347, 629.50522156, 490.55732727,\n",
       "       593.18796997, 553.32683716])"
      ]
     },
     "execution_count": 116,
     "metadata": {},
     "output_type": "execute_result"
    }
   ],
   "source": [
    "averageNNs_approx"
   ]
  },
  {
   "cell_type": "code",
   "execution_count": null,
   "metadata": {},
   "outputs": [],
   "source": []
  },
  {
   "cell_type": "code",
   "execution_count": null,
   "metadata": {},
   "outputs": [],
   "source": []
  },
  {
   "cell_type": "code",
   "execution_count": 217,
   "metadata": {},
   "outputs": [
    {
     "data": {
      "text/plain": [
       "(63965, 385)"
      ]
     },
     "execution_count": 217,
     "metadata": {},
     "output_type": "execute_result"
    }
   ],
   "source": [
    "# t.get_n_items()\n",
    "len(all_path),len(all_embeddings)"
   ]
  },
  {
   "cell_type": "code",
   "execution_count": 13,
   "metadata": {},
   "outputs": [
    {
     "name": "stdout",
     "output_type": "stream",
     "text": [
      "total 102G\n",
      "drwxrwxr-x 2 enis enis    5 Apr  9 12:44 .\n",
      "drwxrwxr-x 9 enis enis    9 Apr 21 12:47 ..\n",
      "-rw------- 1 enis enis 132G Apr  9 21:59 allEmbeddings.ann\n",
      "-rw------- 1 enis enis 6.2K Apr  9 12:49 prudhoe26_1.ann\n",
      "-rw------- 1 enis enis 1.1G Apr  9 12:42 prudhoe26.ann\n"
     ]
    }
   ],
   "source": [
    "!ls -alh /scratch/enis/data/nna/realMerged/allEmbeddings.ann"
   ]
  },
  {
   "cell_type": "code",
   "execution_count": 13,
   "metadata": {},
   "outputs": [
    {
     "data": {
      "text/plain": [
       "(1732054, 128)"
      ]
     },
     "execution_count": 13,
     "metadata": {},
     "output_type": "execute_result"
    }
   ],
   "source": [
    "# concat_embeds.shape"
   ]
  },
  {
   "cell_type": "code",
   "execution_count": 14,
   "metadata": {},
   "outputs": [],
   "source": [
    "# make sure it multiples of 10 to make things easy\n",
    "concat_embeds=concat_embeds[:(concat_embeds.shape[0]//10)*10,:]"
   ]
  },
  {
   "cell_type": "markdown",
   "metadata": {},
   "source": [
    "### there are three methods for creating vectors:"
   ]
  },
  {
   "cell_type": "code",
   "execution_count": 15,
   "metadata": {},
   "outputs": [],
   "source": [
    "# # Method 1   1 second \n",
    "excerptLen=1\n",
    "exp_name=\"1second\"\n",
    "concat_embeds2=concat_embeds[:]\n",
    "raw_embed_audio2=raw_embed_audio[:]\n",
    "raw_embed_audio2=raw_embed_audio2[20:21,:]\n",
    "rowN=100000\n",
    "\n",
    "#Method 2    mean 10 second\n",
    "# excerptLen=10\n",
    "# exp_name=\"Mean10Second\"\n",
    "# concat_embeds2=concat_embeds.reshape(-1,10,128).mean(axis=1)\n",
    "# raw_embed_audio2=raw_embed_audio.reshape(-1,10,128).mean(axis=1)\n",
    "# raw_embed_audio2=raw_embed_audio2[2:3,:]\n",
    "# rowN=10000\n",
    "\n",
    "# #Method 3    concat 10 second\n",
    "# excerptLen=10\n",
    "# exp_name=\"Concat10Second\"\n",
    "# concat_embeds2=concat_embeds.reshape(-1,1280)\n",
    "# raw_embed_audio2=raw_embed_audio.reshape(-1,1280)\n",
    "# raw_embed_audio2=raw_embed_audio2[2:3,:]\n",
    "# rowN=10000\n",
    "\n"
   ]
  },
  {
   "cell_type": "code",
   "execution_count": 118,
   "metadata": {},
   "outputs": [
    {
     "data": {
      "text/plain": [
       "(1736614, 128)"
      ]
     },
     "execution_count": 118,
     "metadata": {},
     "output_type": "execute_result"
    }
   ],
   "source": [
    "concat_embeds.shape"
   ]
  },
  {
   "cell_type": "code",
   "execution_count": 17,
   "metadata": {},
   "outputs": [],
   "source": [
    "# concat_embeds3=concat_embeds[:,:]"
   ]
  },
  {
   "cell_type": "markdown",
   "metadata": {},
   "source": [
    "* we are trying to create a matrix, rows are queries and columns are data points in database\n",
    "* values are similarity, \n",
    "* then \n"
   ]
  },
  {
   "cell_type": "code",
   "execution_count": 18,
   "metadata": {},
   "outputs": [
    {
     "data": {
      "text/plain": [
       "(60, 128)"
      ]
     },
     "execution_count": 18,
     "metadata": {},
     "output_type": "execute_result"
    }
   ],
   "source": [
    "raw_embed_audio.shape"
   ]
  },
  {
   "cell_type": "code",
   "execution_count": 18,
   "metadata": {},
   "outputs": [],
   "source": [
    "\n",
    "# paired_distances(raw_embed_audio, raw_embed_audio)\n",
    "t.load()"
   ]
  },
  {
   "cell_type": "code",
   "execution_count": 174,
   "metadata": {},
   "outputs": [
    {
     "name": "stdout",
     "output_type": "stream",
     "text": [
      "CPU times: user 0 ns, sys: 0 ns, total: 0 ns\n",
      "Wall time: 738 µs\n"
     ]
    }
   ],
   "source": [
    "# %%time\n",
    "# t.build(10) # 10 trees\n",
    "\n",
    "u = AnnoyIndex(f, \"euclidian\")\n",
    "t.load(fn) # super fast, will just mmap the file\n",
    "queryIndex=1000\n",
    "a=(t.get_nns_by_item(queryIndex, 100)) # will find the 100 nearest neighbors\n",
    "b=(t.get_nns_by_item(queryIndex+1, 100))\n",
    "\n",
    "a=np.array(a)\n",
    "b=np.array(b)\n",
    "\n",
    "numbers=set()\n",
    "for i in range(10):\n",
    "    numbers=numbers.union(set(a).intersection(set(b+i)))\n",
    "    numbers=numbers.union(set(a).intersection(set(b-i)))\n",
    "len(numbers)"
   ]
  },
  {
   "cell_type": "code",
   "execution_count": 3,
   "metadata": {},
   "outputs": [
    {
     "name": "stdout",
     "output_type": "stream",
     "text": [
      "test\n"
     ]
    }
   ],
   "source": []
  },
  {
   "cell_type": "code",
   "execution_count": 19,
   "metadata": {},
   "outputs": [
    {
     "data": {
      "text/plain": [
       "True"
      ]
     },
     "execution_count": 19,
     "metadata": {},
     "output_type": "execute_result"
    }
   ],
   "source": [
    "f=128\n",
    "u = AnnoyIndex(f, 'euclidean')\n",
    "u.load('/scratch/enis/data/nna/realMerged/prudhoe26.ann') # super fast, will just mmap the file\n"
   ]
  },
  {
   "cell_type": "code",
   "execution_count": 24,
   "metadata": {},
   "outputs": [
    {
     "data": {
      "text/plain": [
       "[1, 1517910, 479113, 1144822]"
      ]
     },
     "execution_count": 24,
     "metadata": {},
     "output_type": "execute_result"
    }
   ],
   "source": [
    "u.get_nns_by_item(1, 4)\n"
   ]
  },
  {
   "cell_type": "code",
   "execution_count": 40,
   "metadata": {},
   "outputs": [
    {
     "data": {
      "text/plain": [
       "1736614"
      ]
     },
     "execution_count": 40,
     "metadata": {},
     "output_type": "execute_result"
    }
   ],
   "source": [
    "u.get_n_items()"
   ]
  },
  {
   "cell_type": "code",
   "execution_count": null,
   "metadata": {},
   "outputs": [],
   "source": [
    "    allA=[None]*numberItems\n",
    "\n",
    "    for i in range(numberItems):\n",
    "        a=u.get_distance(i, index)"
   ]
  },
  {
   "cell_type": "code",
   "execution_count": 68,
   "metadata": {},
   "outputs": [
    {
     "name": "stdout",
     "output_type": "stream",
     "text": [
      "CPU times: user 8.36 s, sys: 52 ms, total: 8.41 s\n",
      "Wall time: 8.42 s\n"
     ]
    }
   ],
   "source": [
    "%%time\n",
    "for m in range(10):\n",
    "#     allA=[None]*concat_embeds.shape[0]\n",
    "    for i in range(concat_embeds.shape[0]):\n",
    "        a=u.get_distance(i, 0)"
   ]
  },
  {
   "cell_type": "code",
   "execution_count": 69,
   "metadata": {},
   "outputs": [
    {
     "name": "stdout",
     "output_type": "stream",
     "text": [
      "CPU times: user 52 ms, sys: 788 ms, total: 840 ms\n",
      "Wall time: 2.08 s\n"
     ]
    }
   ],
   "source": [
    "%%time\n",
    "import multiprocessing\n",
    "\n",
    "def worker(index,numberItems):\n",
    "    allA=[None]*numberItems\n",
    "\n",
    "    for i in range(numberItems):\n",
    "        a=u.get_distance(i, index)\n",
    "    return None\n",
    "\n",
    "jobs = []\n",
    "for index in range(10):\n",
    "    numberItems=u.get_n_items()\n",
    "    p = multiprocessing.Process(target=worker,args=(index,numberItems))\n",
    "    jobs.append(p)\n",
    "    p.start()\n",
    "\n",
    "for p in jobs:\n",
    "    p.join()"
   ]
  },
  {
   "cell_type": "code",
   "execution_count": 51,
   "metadata": {},
   "outputs": [
    {
     "data": {
      "text/plain": [
       "745.1812133789062"
      ]
     },
     "execution_count": 51,
     "metadata": {},
     "output_type": "execute_result"
    }
   ],
   "source": [
    "allA[4]"
   ]
  },
  {
   "cell_type": "code",
   "execution_count": 55,
   "metadata": {},
   "outputs": [
    {
     "data": {
      "text/plain": [
       "array([1224.9686, 1126.4288, 1097.2521, ..., 1204.9872, 1104.8918,\n",
       "       1191.6367], dtype=float32)"
      ]
     },
     "execution_count": 55,
     "metadata": {},
     "output_type": "execute_result"
    }
   ],
   "source": [
    "results[0]"
   ]
  },
  {
   "cell_type": "code",
   "execution_count": 119,
   "metadata": {},
   "outputs": [
    {
     "name": "stdout",
     "output_type": "stream",
     "text": [
      "CPU times: user 2min 55s, sys: 17.2 s, total: 3min 12s\n",
      "Wall time: 5.09 s\n"
     ]
    }
   ],
   "source": [
    "%%time\n",
    "# one sample/query\n",
    "# res=paired_distances_broadcast(raw_embed_audio2,concat_embeds2)\n",
    "# res.shape\n",
    "\n",
    "#\n",
    "# 10 queries\n",
    "queryCount=10\n",
    "startSecond=0\n",
    "excerptLen=1\n",
    "\n",
    "gamma=1/512\n",
    "startIndex=int(startSecond/excerptLen)\n",
    "endIndex=startIndex+queryCount\n",
    "\n",
    "\n",
    "results = pairwise_distances(raw_embed_audio[startIndex:10,:], concat_embeds)\n",
    "\n",
    "# results=np.exp(-results*gamma)\n",
    "\n"
   ]
  },
  {
   "cell_type": "code",
   "execution_count": 120,
   "metadata": {},
   "outputs": [
    {
     "name": "stdout",
     "output_type": "stream",
     "text": [
      "CPU times: user 72 ms, sys: 1.7 s, total: 1.78 s\n",
      "Wall time: 1.78 s\n"
     ]
    }
   ],
   "source": [
    "%%time\n",
    "results=np.exp(-results*gamma)"
   ]
  },
  {
   "cell_type": "code",
   "execution_count": null,
   "metadata": {},
   "outputs": [],
   "source": []
  },
  {
   "cell_type": "code",
   "execution_count": 32,
   "metadata": {},
   "outputs": [
    {
     "name": "stdout",
     "output_type": "stream",
     "text": [
      "CPU times: user 29.9 s, sys: 960 ms, total: 30.8 s\n",
      "Wall time: 29.8 s\n"
     ]
    }
   ],
   "source": [
    "# I might have to use this method, if I want to get maximum without replacement\n",
    "\n",
    "# %%time\n",
    "# stepSize=1\n",
    "# windowSize=10\n",
    "# resultsMax=[]\n",
    "# resultsAvg=[]\n",
    "\n",
    "# windowMax=np.max(results2,axis=0)\n",
    "\n",
    "# for i in range(0,results2.shape[1],stepSize):\n",
    "# #     windowElements=(results2[:,i:(i+windowSize+1)])\n",
    "# #     colMax=np.max(windowElements,axis=0)\n",
    "\n",
    "#     resultAvg=np.average(colMax)\n",
    "#     resultsAvg.append(resultAvg)\n",
    "# #     resultsMax.append(windowMax)\n"
   ]
  },
  {
   "cell_type": "markdown",
   "metadata": {},
   "source": [
    "### Run sliding window over the Matrix"
   ]
  },
  {
   "cell_type": "code",
   "execution_count": 491,
   "metadata": {},
   "outputs": [
    {
     "name": "stdout",
     "output_type": "stream",
     "text": [
      "CPU times: user 2.31 s, sys: 1min 3s, total: 1min 5s\n",
      "Wall time: 1min 5s\n"
     ]
    }
   ],
   "source": [
    "%%time\n",
    "windowSize=10\n",
    "windowMax=np.max(results,axis=0)\n",
    "windowMean=pd.Series(windowMax).rolling(window=windowSize).mean().iloc[windowSize-1:].values\n"
   ]
  },
  {
   "cell_type": "code",
   "execution_count": null,
   "metadata": {},
   "outputs": [],
   "source": [
    "%%time\n",
    "windowSize=10\n",
    "windowMax=np.max(resultMatrix,axis=0)\n",
    "windowMean=pd.Series(windowMax).rolling(window=windowSize).mean().iloc[windowSize-1:].values\n"
   ]
  },
  {
   "cell_type": "markdown",
   "metadata": {},
   "source": [
    "### Look into stats of results"
   ]
  },
  {
   "cell_type": "code",
   "execution_count": 203,
   "metadata": {},
   "outputs": [
    {
     "data": {
      "text/plain": [
       "DescribeResult(nobs=1732041, minmax=(0.05875636413693428, 0.3321208477020264), mean=0.12500929506519953, variance=0.00040337682893698085, skewness=1.7658461475250447, kurtosis=8.105885715994328)"
      ]
     },
     "execution_count": 203,
     "metadata": {},
     "output_type": "execute_result"
    }
   ],
   "source": [
    "from scipy import stats\n",
    "\n",
    "stats.describe(res)"
   ]
  },
  {
   "cell_type": "code",
   "execution_count": 201,
   "metadata": {},
   "outputs": [],
   "source": [
    "res=windowMean[:]"
   ]
  },
  {
   "cell_type": "markdown",
   "metadata": {},
   "source": [
    "### find kth highest scores (similarity of queries)"
   ]
  },
  {
   "cell_type": "code",
   "execution_count": 334,
   "metadata": {},
   "outputs": [],
   "source": [
    "# arr = np.array([1, 3, 2, 4, 5,6,7,8,8,1,1,9])\n",
    "kth=250\n",
    "ind = np.argpartition(res, -kth)[-kth:]\n",
    "sortedbyScore=sorted(list(zip(res[ind],ind)),reverse=True)"
   ]
  },
  {
   "cell_type": "markdown",
   "metadata": {},
   "source": [
    "#### Highest scores might be consequtive, merging these as one result helps decrease amount of files to listen"
   ]
  },
  {
   "cell_type": "code",
   "execution_count": 12,
   "metadata": {},
   "outputs": [
    {
     "ename": "NameError",
     "evalue": "name 'res' is not defined",
     "output_type": "error",
     "traceback": [
      "\u001b[0;31m---------------------------------------------------------------------------\u001b[0m",
      "\u001b[0;31mNameError\u001b[0m                                 Traceback (most recent call last)",
      "\u001b[0;32m<ipython-input-12-5d01079cecc3>\u001b[0m in \u001b[0;36m<module>\u001b[0;34m\u001b[0m\n\u001b[1;32m      2\u001b[0m \u001b[0;34m\u001b[0m\u001b[0m\n\u001b[1;32m      3\u001b[0m \u001b[0mtheta\u001b[0m\u001b[0;34m=\u001b[0m\u001b[0;36m5\u001b[0m\u001b[0;34m\u001b[0m\u001b[0;34m\u001b[0m\u001b[0m\n\u001b[0;32m----> 4\u001b[0;31m \u001b[0msortedbyInd\u001b[0m\u001b[0;34m=\u001b[0m\u001b[0msorted\u001b[0m\u001b[0;34m(\u001b[0m\u001b[0mlist\u001b[0m\u001b[0;34m(\u001b[0m\u001b[0mzip\u001b[0m\u001b[0;34m(\u001b[0m\u001b[0mres\u001b[0m\u001b[0;34m[\u001b[0m\u001b[0mind\u001b[0m\u001b[0;34m]\u001b[0m\u001b[0;34m,\u001b[0m\u001b[0mind\u001b[0m\u001b[0;34m)\u001b[0m\u001b[0;34m)\u001b[0m\u001b[0;34m,\u001b[0m\u001b[0mkey\u001b[0m\u001b[0;34m=\u001b[0m\u001b[0;32mlambda\u001b[0m \u001b[0mx\u001b[0m\u001b[0;34m:\u001b[0m\u001b[0mx\u001b[0m\u001b[0;34m[\u001b[0m\u001b[0;36m1\u001b[0m\u001b[0;34m]\u001b[0m\u001b[0;34m)\u001b[0m\u001b[0;34m\u001b[0m\u001b[0;34m\u001b[0m\u001b[0m\n\u001b[0m\u001b[1;32m      5\u001b[0m \u001b[0mprevious\u001b[0m\u001b[0;34m=\u001b[0m\u001b[0msortedbyInd\u001b[0m\u001b[0;34m[\u001b[0m\u001b[0;36m0\u001b[0m\u001b[0;34m]\u001b[0m\u001b[0;34m[\u001b[0m\u001b[0;36m1\u001b[0m\u001b[0;34m]\u001b[0m\u001b[0;34m\u001b[0m\u001b[0;34m\u001b[0m\u001b[0m\n\u001b[1;32m      6\u001b[0m \u001b[0mcount\u001b[0m\u001b[0;34m=\u001b[0m\u001b[0;36m0\u001b[0m\u001b[0;34m\u001b[0m\u001b[0;34m\u001b[0m\u001b[0m\n",
      "\u001b[0;31mNameError\u001b[0m: name 'res' is not defined"
     ]
    }
   ],
   "source": [
    "# find consequtive points that has high value \n",
    "\n",
    "theta=5\n",
    "sortedbyInd=sorted(list(zip(res[ind],ind)),key=lambda x:x[1])\n",
    "previous=sortedbyInd[0][1]\n",
    "count=0\n",
    "series=[]\n",
    "starts=[]\n",
    "for score,index in sortedbyInd:\n",
    "    if index<=previous+theta:\n",
    "        series.append((score,index))\n",
    "    else:\n",
    "        starts.append(series)\n",
    "        series=[]\n",
    "        series.append((score,index))\n",
    "    previous=index\n",
    "\n",
    "# sorted(starts,key=lambda x:x[1],reverse=True)\n",
    "print(\"total periods\",len(starts))\n",
    "previous=0\n",
    "print(\"short distances\")\n",
    "for score_indexes in starts:\n",
    "    if (score_indexes[-1][1]-score_indexes[0][1])>30:\n",
    "        print(score_indexes[0][1],score_indexes[-1][1])\n"
   ]
  },
  {
   "cell_type": "markdown",
   "metadata": {},
   "source": [
    "### generating figures for similarity scores"
   ]
  },
  {
   "cell_type": "code",
   "execution_count": 152,
   "metadata": {},
   "outputs": [
    {
     "data": {
      "text/plain": [
       "((1732041,), 100000, 17.32041)"
      ]
     },
     "execution_count": 152,
     "metadata": {},
     "output_type": "execute_result"
    }
   ],
   "source": [
    "res.shape,rowN,res.shape[0]/rowN"
   ]
  },
  {
   "cell_type": "code",
   "execution_count": 153,
   "metadata": {},
   "outputs": [
    {
     "name": "stdout",
     "output_type": "stream",
     "text": [
      "17\n"
     ]
    }
   ],
   "source": [
    "import matplotlib.pyplot as plt\n",
    "import matplotlib.ticker as plticker\n",
    "\n",
    "minY,maxY=min(res),max(res)\n",
    "exp_name=\"slidingWindow_AverageOfMax_short20k\"\n",
    "name=f\"Euclidian Similarity {exp_name}\"\n",
    "nrows=res.shape[0]//rowN\n",
    "print(nrows)\n",
    "fig, ax = plt.subplots(nrows=nrows,figsize=(200, 20*nrows))\n",
    "for i,axes in enumerate(ax):\n",
    "    axes.plot(res[i*(rowN):(i+1)*(rowN)])\n",
    "    axes.set_ylim(minY,maxY)\n",
    "    axes.grid(True)\n",
    "\n",
    "ax[0].set_ylabel(f\"{name}\",fontsize=32)\n",
    "\n",
    "# plt.grid(True)\n",
    "\n",
    "# loc = plticker.MultipleLocator(base=5000) # this locator puts ticks at regular intervals\n",
    "# ax.xaxis.set_major_locator(loc)\n",
    "\n",
    "plt.tight_layout()\n",
    "fig.show()\n",
    "filename=name.replace(\" \",\"_\")\n",
    "fig.savefig(f\"/home/enis/projects/nna/results/vis/nearestNeighbour/{filename}.png\")\n"
   ]
  },
  {
   "cell_type": "code",
   "execution_count": 169,
   "metadata": {},
   "outputs": [],
   "source": [
    "excerptLen=10\n",
    "exp_name=\"Concat10Second\"\n",
    "concat_embeds2=concat_embeds.reshape(-1,1280)\n",
    "raw_embed_audio2=raw_embed_audio.reshape(-1,1280)\n",
    "raw_embed_audio2=raw_embed_audio2[2:3,:]\n",
    "rowN=10000\n",
    "\n",
    "res=paired_distances_broadcast(raw_embed_audio2,concat_embeds2)\n",
    "res.shape\n",
    "\n",
    "import matplotlib.pyplot as plt\n",
    "import matplotlib.ticker as plticker\n",
    "\n",
    "name=f\"Euclidian Distance {exp_name}\"\n",
    "nrows=res.shape[0]//rowN\n",
    "\n",
    "fig, ax = plt.subplots(nrows=nrows,figsize=(200, 20*nrows))\n",
    "for i,axes in enumerate(ax):\n",
    "    axes.plot(res[i*(rowN):(i+1)*(rowN)])\n",
    "\n",
    "ax[0].set_ylabel(f\"{name}\",fontsize=32)\n",
    "\n",
    "plt.grid(True)\n",
    "\n",
    "# loc = plticker.MultipleLocator(base=5000) # this locator puts ticks at regular intervals\n",
    "# ax.xaxis.set_major_locator(loc)\n",
    "\n",
    "plt.tight_layout()\n",
    "# fig.show()\n",
    "filename=name.replace(\" \",\"_\")\n",
    "fig.savefig(f\"/home/enis/projects/nna/results/vis/nearestNeighbour/{filename}.png\")\n"
   ]
  },
  {
   "cell_type": "code",
   "execution_count": 232,
   "metadata": {},
   "outputs": [
    {
     "data": {
      "text/plain": [
       "(385, 10)"
      ]
     },
     "execution_count": 232,
     "metadata": {},
     "output_type": "execute_result"
    }
   ],
   "source": [
    "len(all_embeddings),excerptLen"
   ]
  },
  {
   "cell_type": "code",
   "execution_count": 310,
   "metadata": {},
   "outputs": [],
   "source": [
    "# sorted([sorted(start) for start in starts])"
   ]
  },
  {
   "cell_type": "code",
   "execution_count": null,
   "metadata": {},
   "outputs": [],
   "source": [
    "split_folder=\"/home/enis/projects/nna/data/nearestNeighbours/S4A10255_20190507_073000-1808seconds/slidingWindow_AverageOfMax/\"\n",
    "excerptLen=1\n",
    "# for indexes in (starts):\n",
    "#     score,index=(indexes[len(indexes)//2])\n",
    "#     print(score)\n",
    "#     print(embedIndex2fileSecond(index,embeds,all_embeddings,excerptLen=1))\n",
    "    \n",
    "for score,index in (sortedbyScore):\n",
    "#     score,index=(indexes[len(indexes)//2])\n",
    "    print(score)\n",
    "    print(embedIndex2fileSecond(index,embeds,all_embeddings,excerptLen=1))\n",
    "\n",
    "# indexes=[indexes[len(indexes)//2] for indexes,count in (starts)]\n",
    "# # # indexes\n",
    "# clipAddBip(indexes,exp_name,split_folder,embeds,all_embeddings,excerptLen=10,reductionLen=1)\n",
    "    \n"
   ]
  },
  {
   "cell_type": "code",
   "execution_count": null,
   "metadata": {},
   "outputs": [],
   "source": []
  },
  {
   "cell_type": "code",
   "execution_count": null,
   "metadata": {},
   "outputs": [],
   "source": []
  },
  {
   "cell_type": "code",
   "execution_count": 50,
   "metadata": {},
   "outputs": [],
   "source": [
    "kdt = KDTree(concat_embeds2, leaf_size=30, metric='euclidean')\n",
    "distances,indexes=kdt.query(raw_embed_audio2, k=10, return_distance=True)\n",
    "allResults=[ (distance,index) for index,distance in (zip(indexes.flatten(),distances.flatten()))]\n",
    "allResults.sort()\n",
    "# distances,indexes=allResults"
   ]
  },
  {
   "cell_type": "code",
   "execution_count": 51,
   "metadata": {},
   "outputs": [],
   "source": [
    "# distances"
   ]
  },
  {
   "cell_type": "code",
   "execution_count": 8,
   "metadata": {},
   "outputs": [],
   "source": [
    "def embedIndex2fileSecond(index,embeds,all_embeddings,excerptLen=1):\n",
    "    alist=[]\n",
    "    countStart=0\n",
    "    embed_count=index*excerptLen\n",
    "    for i,em in enumerate(embeds):\n",
    "        countEnd=countStart+(em.shape[0])\n",
    "        if countStart<=embed_count and embed_count<=countEnd:\n",
    "            startSecond=embed_count-countStart\n",
    "    #             print(i,countStart,countEnd,\"start second:\",startSecond)\n",
    "            filename=(\"/tank/\"+\"/\".join(all_embeddings[i].split(\"/\")[3:-2])+\"/\"+all_embeddings[i].split(\"/\")[-2][:-4]+\".flac\")\n",
    "#             alist.append((filename,startSecond))\n",
    "            return((filename,startSecond))\n",
    "#             break\n",
    "        countStart=countEnd\n",
    "\n",
    "    "
   ]
  },
  {
   "cell_type": "code",
   "execution_count": 9,
   "metadata": {},
   "outputs": [],
   "source": [
    "split_folder=\"/home/enis/projects/nna/data/nearestNeighbours/\"\n",
    "def clipAddBip(allIndexes,exp_name,split_folder,embeds,all_embeddings,excerptLen,reductionLen):\n",
    "    # embed_count=823804\n",
    "    beep_wav=\"/home/enis/projects/nna/data/beep.wav\"\n",
    "    beep_wav = AudioSegment.from_file(beep_wav)\n",
    "    beep_wav=beep_wav-30\n",
    "\n",
    "    split_folder=(split_folder+exp_name)\n",
    "    Path(split_folder).mkdir(parents=True, exist_ok=True)\n",
    "\n",
    "    for index in allIndexes[:]:\n",
    "        (filename,startSecond)=embedIndex2fileSecond(index,embeds,all_embeddings,excerptLen=reductionLen)\n",
    "        endSecond=startSecond+excerptLen\n",
    "        print(filename,startSecond)\n",
    "        input_file=filename\n",
    "        buffer=10\n",
    "        start_time=\"{}.{}\".format((startSecond-buffer)//60,(startSecond-buffer)%60)\n",
    "        end_time=\"{}.{}\".format((endSecond+buffer)//60,(endSecond+buffer)%60)\n",
    "        outputSuffix=\".wav\"\n",
    "        output_file = splitmp3(input_file,split_folder,start_time,end_time,depth=1,backend=\"ffmpeg\",outputSuffix=outputSuffix)\n",
    "\n",
    "        other_wav=AudioSegment.from_file(output_file)\n",
    "        start,end=(buffer*1000),((buffer+excerptLen)*1000)\n",
    "        result_wav=other_wav[:start]+(beep_wav)+other_wav[start:end]+beep_wav+other_wav[end:]\n",
    "        o_file=result_wav.export(output_file)\n",
    "\n"
   ]
  },
  {
   "cell_type": "code",
   "execution_count": 37,
   "metadata": {},
   "outputs": [],
   "source": [
    "# o_file=result_wav.export(output_file)"
   ]
  },
  {
   "cell_type": "code",
   "execution_count": 8,
   "metadata": {},
   "outputs": [
    {
     "data": {
      "text/plain": [
       "(60000, 2)"
      ]
     },
     "execution_count": 8,
     "metadata": {},
     "output_type": "execute_result"
    }
   ],
   "source": [
    "# len(other_wav)"
   ]
  },
  {
   "cell_type": "code",
   "execution_count": 5,
   "metadata": {},
   "outputs": [],
   "source": [
    "# beep_wav=\"/home/enis/projects/nna/data/beep.wav\"\n",
    "# other_wav=\"./S4A10279_20190507_033000_4008-4068.wav\"\n",
    "# beep_wav = AudioSegment.from_file(beep_wav)\n",
    "# beep_wav=beep_wav-30\n",
    "# other_wav=AudioSegment.from_file(other_wav)"
   ]
  },
  {
   "cell_type": "code",
   "execution_count": null,
   "metadata": {},
   "outputs": [],
   "source": [
    "# other_wav[:start]+(beep_wav-30)+other_wav[start:end]+"
   ]
  },
  {
   "cell_type": "code",
   "execution_count": 43,
   "metadata": {},
   "outputs": [
    {
     "data": {
      "text/plain": [
       "<_io.BufferedRandom name='mashup.wav'>"
      ]
     },
     "execution_count": 43,
     "metadata": {},
     "output_type": "execute_result"
    }
   ],
   "source": [
    "# res=(beep_wav-30)+other_wav[:1000]\n"
   ]
  },
  {
   "cell_type": "code",
   "execution_count": 4,
   "metadata": {},
   "outputs": [
    {
     "name": "stdout",
     "output_type": "stream",
     "text": [
      "S4A10279_20190605_091602_2m_12s__3m_12s.wav\n"
     ]
    }
   ],
   "source": [
    "# input_file='/tank/data/nna/real/anwr/37/2019/S4A10279_20190605_091602.flac'\n",
    "# split_folder=\"./\"\n",
    "# start_time=\"2.12\"\n",
    "# end_time=\"3.12\"\n",
    "# outputSuffix=\".wav\"\n",
    "# a=splitmp3(input_file,split_folder,start_time,end_time,depth=1,backend=\"ffmpeg\",outputSuffix=outputSuffix)\n",
    "\n"
   ]
  },
  {
   "cell_type": "code",
   "execution_count": null,
   "metadata": {},
   "outputs": [],
   "source": [
    "# !ffmpeg -i '/tank/data/nna/real/anwr/37/2019/S4A10279_20190605_091602.flac' -ss 304 -to 364 -c copy S4A10279_20190605_091602_304-364.wav\n",
    "\n",
    "\n",
    "# !ffmpeg -i '/tank/data/nna/real/anwr/37/2019/S4A10279_20190604_234602.flac' -ss 650 -to 700 -c copy S4A10279_20190604_234602_650-700.wav\n",
    "\n",
    "\n",
    "# !ffmpeg -i '/tank/data/nna/real/anwr/37/2019/S4A10279_20190509_073000.flac' -ss 4149 -to 4209 -c copy S4A10279_20190509_073000_4149-4209.wav\n",
    "\n",
    "# !ffmpeg -i '/tank/data/nna/real/anwr/37/2019/S4A10279_20190530_214602.flac' -ss 3260 -to 3320 -c copy S4A10279_20190530_214602_3260-3320.wav\n",
    "\n",
    "# !ffmpeg -i '/tank/data/nna/real/anwr/37/2019/S4A10279_20190507_033000.flac' -ss 4008 -to 4068 -c copy S4A10279_20190507_033000_4008-4068.wav\n",
    "\n",
    "# !ffmpeg -i '/tank/data/nna/real/anwr/37/2019/S4A10279_20190507_033000.flac' -ss 320 -to 380 -c copy segment8.wav\n",
    "\n",
    "# !ffmpeg -i '/tank/data/nna/real/anwr/37/2019/S4A10279_20190608_020000.flac' -ss 222 -to 282 -c copy S4A10279_20190608_020000_222-282.wav\n",
    "\n",
    "\n"
   ]
  },
  {
   "cell_type": "code",
   "execution_count": null,
   "metadata": {},
   "outputs": [],
   "source": [
    "# !mp3splt -d \"./\" -f -D /tank/data/nna/real/anwr/37/2019/S4A10279_20190517_130000.flac 15.27 16.27\n",
    "\n"
   ]
  },
  {
   "cell_type": "code",
   "execution_count": null,
   "metadata": {},
   "outputs": [],
   "source": [
    "# ffmpeg -i '/tank/data/nna/real/anwr/37/2019/S4A10279_20190605_091602.flac' -ss 304 -to 364 -c copy S4A10279_20190605_091602_304-364.wav\n",
    "\n"
   ]
  },
  {
   "cell_type": "code",
   "execution_count": 68,
   "metadata": {},
   "outputs": [
    {
     "name": "stdout",
     "output_type": "stream",
     "text": [
      "books_read.png\t\t\tget_audio4photos.ipynb\n",
      "cum_hist_1000bins_025limit.svg\tlisten_photos.ipynb\n",
      "cum_hist_1000bins.png\t\tlisten_segments_backup.ipynb\n",
      "cum_hist_1000bins.svg\t\tlisten_segments.ipynb\n",
      "cumulative_histogram2.svg\tnearest_neighbors.ipynb\n",
      "cumulative_histogram.jpg\tUntitled1.ipynb\n",
      "cumulative_histogram.png\tUntitled.ipynb\n"
     ]
    }
   ],
   "source": [
    "# !ls/tank/data/nna/real/anwr/37/2019/S4A10279_20190603_194602.flac"
   ]
  },
  {
   "cell_type": "code",
   "execution_count": null,
   "metadata": {},
   "outputs": [],
   "source": []
  },
  {
   "cell_type": "code",
   "execution_count": null,
   "metadata": {},
   "outputs": [],
   "source": []
  },
  {
   "cell_type": "code",
   "execution_count": null,
   "metadata": {},
   "outputs": [],
   "source": []
  }
 ],
 "metadata": {
  "kernelspec": {
   "display_name": "speechEnv",
   "language": "python",
   "name": "speechenv"
  },
  "language_info": {
   "codemirror_mode": {
    "name": "ipython",
    "version": 3
   },
   "file_extension": ".py",
   "mimetype": "text/x-python",
   "name": "python",
   "nbconvert_exporter": "python",
   "pygments_lexer": "ipython3",
   "version": "3.7.2"
  }
 },
 "nbformat": 4,
 "nbformat_minor": 4
}
