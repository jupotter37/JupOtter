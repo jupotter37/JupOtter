{
 "cells": [
  {
   "cell_type": "markdown",
   "metadata": {},
   "source": [
    "# import_hook\n",
    "\n",
    "所谓`import hook`就是指直接自定义finder和loader,并将finder放入导入过程,以实现一些特殊的运行时行为的技巧.\n",
    "\n",
    "利用这个可以做到很多非常神奇的事情,比如\n",
    "\n",
    "+ import某个特定模块时触发某个回调函数来通知我们\n",
    "+ import一个远程服务器上的模块\n",
    "+ 直接import其他语言的模块来使用\n",
    "\n",
    "本节需要的先验知识包括:\n",
    "\n",
    "+ [模块的导入方式](/语法篇/模块/模块的加载流程.html)\n",
    "+ [动态编译](/语法篇/元编程/动态编译.html)\n",
    "+ [使用f2py为python嵌入fortran代码](/嵌入与扩展篇/使用f2py用fortain给python写扩展.html)"
   ]
  },
  {
   "cell_type": "markdown",
   "metadata": {},
   "source": [
    "## import hook的基本形式\n",
    "\n",
    "import hook通常是以一个单文件模块的形式出现的,其中的过程说白了就是自定义finder和loader,因此自定义这两个类都是必须的,然后就是将定义的finder实例化,并将这个实例加入`sys.meta_path`.下面是模板代码.\n",
    "\n",
    "```python\n",
    "import importlib\n",
    "from importlib.abc import (\n",
    "    MetaPathFinder, \n",
    "    PathEntryFinder,\n",
    "    Loader\n",
    ")\n",
    "from importlib.machinery import ModuleSpec\n",
    "import sys\n",
    "from collections import defaultdict\n",
    "\n",
    "\n",
    "class ClientImportLoader(Loader):\n",
    "    @classmethod\n",
    "    def create_module(clz,spec):\n",
    "        \"\"\"用于创建模块的.\"\"\"\n",
    "        module = __create_module_from_spec(spec)\n",
    "        return module or None\n",
    "\n",
    "    @classmethod\n",
    "    def exec_module (clz, module):\n",
    "        \"\"\"每次执行引入模块或者重载模块时会执行的操作\"\"\"\n",
    "        pass\n",
    "\n",
    "loader= ClientImportLoader()\n",
    "    \n",
    "\n",
    "class ClientImportFinder(MetaPathFinder):\n",
    "\n",
    "    @classmethod\n",
    "    def find_spec (klass, full_name, paths=None, target=None):\n",
    "        \"\"\"查找模块的逻辑\"\"\"\n",
    "        pass\n",
    "        return ModuleSpec(full_name, loader, origin=module_full_path)\n",
    "    \n",
    "\n",
    "sys.meta_path.insert(0, ClientImportFinder())\n",
    "\n",
    "```\n",
    "\n",
    "\n",
    "当这个定义import hook的模块被加载后,他就可以正常的执行自己的功能了,因此通常这个import hook的模块需要优先加载.\n"
   ]
  },
  {
   "cell_type": "markdown",
   "metadata": {},
   "source": [
    "## import某个特定模块时触发某个回调函数来通知我们\n",
    "\n",
    "这个例子来自python cookbook,不过上面的代码已经比较过时了,这边给出python3.5+推荐的写法"
   ]
  },
  {
   "cell_type": "code",
   "execution_count": 3,
   "metadata": {},
   "outputs": [],
   "source": [
    "import importlib\n",
    "from importlib.abc import (\n",
    "    MetaPathFinder, \n",
    "    PathEntryFinder,\n",
    "    Loader\n",
    ")\n",
    "from importlib.machinery import ModuleSpec\n",
    "import sys\n",
    "from collections import defaultdict\n",
    "\n",
    "_post_import_hooks = defaultdict(list)\n",
    "\n",
    "class ClientImportLoader(Loader):\n",
    "    def __init__(self, finder):\n",
    "        self._finder = finder\n",
    "        \n",
    "\n",
    "    def create_module(self,spec):\n",
    "        \"\"\"这边只要调用父类的实现即可.\"\"\"\n",
    "        return super().create_module(spec)\n",
    "\n",
    "    def exec_module (self, module):\n",
    "        \"\"\"在_post_import_hooks中查找对应模块中的回调函数并执行.\"\"\"\n",
    "        for func in _post_import_hooks[module.__name__]:\n",
    "            func(module)\n",
    "        self._finder._skip.remove(module.__name__)\n",
    "        \n",
    "class ClientImportFinder(MetaPathFinder):\n",
    "    \n",
    "    def __init__(self):\n",
    "        self._skip = set()\n",
    "\n",
    "    def find_spec(self, full_name, paths=None, target=None):\n",
    "        if full_name in self._skip:\n",
    "            return None\n",
    "        self._skip.add(full_name)\n",
    "        loader = ClientImportLoader(self)\n",
    "        return ModuleSpec(full_name, loader, origin=paths)\n",
    "        \n",
    "        \n",
    "def when_imported(fullname):\n",
    "    def decorate(func):\n",
    "        if fullname in sys.modules:\n",
    "            func(sys.modules[fullname])\n",
    "        else:\n",
    "            _post_import_hooks[fullname].append(func)\n",
    "        return func\n",
    "    return decorate\n",
    "\n",
    "finder = ClientImportFinder()\n",
    "sys.meta_path.insert(0, finder)"
   ]
  },
  {
   "cell_type": "code",
   "execution_count": 2,
   "metadata": {},
   "outputs": [],
   "source": [
    "@when_imported('numpy')\n",
    "def warn_numpy(mod):\n",
    "    print('numpy? Are you crazy?')\n"
   ]
  },
  {
   "cell_type": "code",
   "execution_count": 2,
   "metadata": {},
   "outputs": [
    {
     "name": "stdout",
     "output_type": "stream",
     "text": [
      "********None\n",
      "['__abstractmethods__', '__class__', '__delattr__', '__dict__', '__dir__', '__doc__', '__eq__', '__format__', '__ge__', '__getattribute__', '__gt__', '__hash__', '__init__', '__init_subclass__', '__le__', '__lt__', '__module__', '__ne__', '__new__', '__reduce__', '__reduce_ex__', '__repr__', '__setattr__', '__sizeof__', '__str__', '__subclasshook__', '__weakref__', '_abc_cache', '_abc_negative_cache', '_abc_negative_cache_version', '_abc_registry', '_finder', 'create_module', 'exec_module', 'load_module', 'module_repr']\n"
     ]
    }
   ],
   "source": [
    "import numpy"
   ]
  },
  {
   "cell_type": "code",
   "execution_count": 4,
   "metadata": {},
   "outputs": [
    {
     "name": "stdout",
     "output_type": "stream",
     "text": [
      "********None\n"
     ]
    }
   ],
   "source": [
    "import a"
   ]
  },
  {
   "cell_type": "code",
   "execution_count": 4,
   "metadata": {},
   "outputs": [
    {
     "data": {
      "text/plain": [
       "set()"
      ]
     },
     "execution_count": 4,
     "metadata": {},
     "output_type": "execute_result"
    }
   ],
   "source": [
    "finder._skip"
   ]
  },
  {
   "cell_type": "markdown",
   "metadata": {},
   "source": [
    "为了避免陷入无线循环,ClientImportFinder维护了一个所有被加载过的模块集合`_skip`,如果一个模块在加载过程中又有另一个地方来加载,那么就会跳过这个加载器"
   ]
  },
  {
   "cell_type": "markdown",
   "metadata": {},
   "source": [
    "## import一个远程服务器上的模块\n",
    "\n",
    "\n",
    "这个例子主要是复写finder以可以查找到目标服务器上的模块文件.同时复写loader的create_module方法用远端的代码生成服务.\n",
    "\n",
    "我们的远程代码以http服务的形式放在静态服务器上\n",
    "```shell\n",
    "testcode-|\n",
    "         |-spam.py\n",
    "         |-fib.py\n",
    "         |-grok-|\n",
    "                |-__init__.py\n",
    "                |-blah.py\n",
    "```\n",
    "\n",
    "`spam.py`\n",
    "```python\n",
    "print(\"I'm spam\")\n",
    "\n",
    "def hello(name):\n",
    "    print('Hello %s' % name)\n",
    "```\n",
    "\n",
    "`fib.py`\n",
    "```python\n",
    "print(\"I'm fib\")\n",
    "\n",
    "def fib(n):\n",
    "    if n < 2:\n",
    "        return 1\n",
    "    else:\n",
    "        return fib(n-1) + fib(n-2)\n",
    "```\n",
    "\n",
    "`grok/__init__.py`\n",
    "\n",
    "```python\n",
    "print(\"I'm grok.__init__\")\n",
    "```\n",
    "`grok/blah.py`\n",
    "\n",
    "```python\n",
    "print(\"I'm grok.blah\")\n",
    "```\n",
    "使用python自带的http服务启动:\n",
    "\n",
    "```shell\n",
    "cd source/testcode\n",
    "python3 -m http.server 15000\n",
    "```"
   ]
  },
  {
   "cell_type": "code",
   "execution_count": 8,
   "metadata": {},
   "outputs": [
    {
     "name": "stdout",
     "output_type": "stream",
     "text": [
      "print(\"I'm fib\")\n",
      "\n",
      "def fib(n):\n",
      "    if n < 2:\n",
      "        return 1\n",
      "    else:\n",
      "        return fib(n-1) + fib(n-2)\n"
     ]
    }
   ],
   "source": [
    "import requests\n",
    "n = requests.get(\"http://localhost:15000/fib.py\")\n",
    "print(n.content.decode(\"utf-8\"))"
   ]
  },
  {
   "cell_type": "markdown",
   "metadata": {},
   "source": [
    "### 最简单的方法\n",
    "\n",
    "这个流程也描述了最通用的模块导入流程.我们可以使用`imp.new_module`新建一个空的模块对象,再使用内置方法`compile()`将源码编译到一个代码对象中,然后在模块对象的字典中来执行它.\n",
    "\n",
    "\n",
    "这种方式没有嵌入到通常的import语句中,如果要支持更高级的结构比如包就需要更多的工作了.\n",
    "\n",
    "下面是使用这个函数的方式:"
   ]
  },
  {
   "cell_type": "code",
   "execution_count": 10,
   "metadata": {},
   "outputs": [],
   "source": [
    "import imp\n",
    "import urllib.request\n",
    "import sys\n",
    "\n",
    "def load_module(url):\n",
    "    u = urllib.request.urlopen(url)\n",
    "    source = u.read().decode('utf-8')\n",
    "    mod = sys.modules.setdefault(url, imp.new_module(url))\n",
    "    code = compile(source, url, 'exec')\n",
    "    mod.__file__ = url\n",
    "    mod.__package__ = ''\n",
    "    exec(code, mod.__dict__)\n",
    "    return mod"
   ]
  },
  {
   "cell_type": "code",
   "execution_count": 11,
   "metadata": {},
   "outputs": [
    {
     "name": "stdout",
     "output_type": "stream",
     "text": [
      "I'm fib\n"
     ]
    }
   ],
   "source": [
    "fib = load_module('http://localhost:15000/fib.py')"
   ]
  },
  {
   "cell_type": "code",
   "execution_count": 12,
   "metadata": {},
   "outputs": [
    {
     "data": {
      "text/plain": [
       "89"
      ]
     },
     "execution_count": 12,
     "metadata": {},
     "output_type": "execute_result"
    }
   ],
   "source": [
    "fib.fib(10)"
   ]
  },
  {
   "cell_type": "code",
   "execution_count": 13,
   "metadata": {},
   "outputs": [
    {
     "data": {
      "text/plain": [
       "<module 'http://localhost:15000/fib.py' from 'http://localhost:15000/fib.py'>"
      ]
     },
     "execution_count": 13,
     "metadata": {},
     "output_type": "execute_result"
    }
   ],
   "source": [
    "fib"
   ]
  },
  {
   "cell_type": "markdown",
   "metadata": {},
   "source": [
    "### 使用 import hook实现隐式调用远端模块\n",
    "\n",
    "如果我们想要导入文件系统中某个文件作为模块,我们会这样写以确保文件目录Python解释器可以找到.\n",
    "\n",
    "```python\n",
    "import sys\n",
    "\n",
    "sys.path.append('<path>')\n",
    "```\n",
    "\n",
    "我们希望远端的也可以实现这种与标准流程统一的方式,这时候就需要使用import hook了.\n",
    "\n",
    "因为访问的地址和文件系统不同,因此可以使用`sys.path_hooks`为这个特定的地址设置一个finder\n",
    "\n",
    "此处我们需要\n",
    "\n",
    "+ 定义finder\n",
    "+ 定义loader\n",
    "+ 定义handle_url()函数作为钩子\n",
    "\n",
    "    `sys.path_hooks.append(handle_url)`变量中注册着查找`sys.path`的钩子,当`sys.path`的实体被处理时会调用`sys.path_hooks`中的函数.如果任何一个函数返回了一个finder,那么这个对象就被用来为`sys.path`实体加载模块.\n",
    "    \n",
    "    \n",
    "这个例子完全使用标准库实现\n"
   ]
  },
  {
   "cell_type": "code",
   "execution_count": 1,
   "metadata": {},
   "outputs": [
    {
     "name": "stdout",
     "output_type": "stream",
     "text": [
      "Overwriting urlimport.py\n"
     ]
    }
   ],
   "source": [
    "%%writefile urlimport.py\n",
    "import warnings\n",
    "import sys\n",
    "import importlib.abc\n",
    "from importlib.machinery import ModuleSpec\n",
    "import imp\n",
    "from urllib.request import urlopen\n",
    "from urllib.error import HTTPError, URLError\n",
    "from html.parser import HTMLParser\n",
    "\n",
    "# Get links from a given URL\n",
    "def _get_links(url):\n",
    "    \"\"\"在指定url查找包含的其他url\"\"\"\n",
    "    class LinkParser(HTMLParser):\n",
    "        \"\"\"解析html文件,从中获取a标签中的url\"\"\"\n",
    "        def handle_starttag(self, tag, attrs):\n",
    "            if tag == 'a':\n",
    "                attrs = dict(attrs)\n",
    "                links.add(attrs.get('href').rstrip('/'))\n",
    "    links = set()\n",
    "    try:\n",
    "        warnings.warn(f'Getting links from {url}',UserWarning)\n",
    "        u = urlopen(url)\n",
    "        parser = LinkParser()\n",
    "        parser.feed(u.read().decode('utf-8'))\n",
    "    except Exception as e:\n",
    "        warnings.warn(f'Could not get links. {e}',UserWarning)\n",
    "    warnings.warn(f'links: {links}',UserWarning)\n",
    "    return links\n",
    "\n",
    "class UrlPathFinder(importlib.abc.PathEntryFinder):\n",
    "    \"\"\"查找url及其中a标签中指向的url中的模块.\"\"\"\n",
    "    def __init__(self, baseurl):\n",
    "        self._links = None # 保存一个baseurl中指定的可用url路径\n",
    "        #self._loader = UrlModuleLoader(baseurl) # 指定默认的loader\n",
    "        self._baseurl = baseurl # \n",
    "    def find_spec(self, fullname, paths=None, target=None):\n",
    "        warnings.warn(f'find_loader: {fullname}', UserWarning)\n",
    "        parts = fullname.split('.')\n",
    "        basename = parts[-1]\n",
    "        # 查看links和初始化links\n",
    "        if self._links is None:\n",
    "            self._links = [] \n",
    "            self._links = _get_links(self._baseurl)\n",
    "        spec = None\n",
    "        \n",
    "        # 检查links是不是package,判断的标准是有没有.py\n",
    "        if basename in self._links:\n",
    "            warnings.warn(f'find_loader: trying package {fullname}', UserWarning)\n",
    "            fullurl = self._baseurl + '/' + basename\n",
    "            try:\n",
    "                loader = UrlPackageLoader(fullurl)\n",
    "                loader.load_module(fullname)#\n",
    "                warnings.warn(f'find_loader: package {fullname} loaded', UserWarning)\n",
    "                spec = ModuleSpec(fullname, loader, origin=paths)\n",
    "            except ImportError as ie:\n",
    "                warnings.warn(f'find_loader: {fullname} is a namespace package', UserWarning)\n",
    "                spec = None\n",
    "            except Exception as e:\n",
    "                raise e\n",
    "            \n",
    "\n",
    "        elif (basename + '.py') in self._links:\n",
    "            # 正常module的处理\n",
    "            warnings.warn(f'find_loader: module {fullname} found', UserWarning)\n",
    "            loader = UrlModuleLoader(self._baseurl)\n",
    "            spec = ModuleSpec(fullname, loader, origin=paths)\n",
    "        else:\n",
    "            warnings.warn(f'find_loader: module {fullname} not found', UserWarning)\n",
    "            \n",
    "        return spec\n",
    "\n",
    "    def invalidate_caches(self):\n",
    "        warnings.warn(\"invalidating link cache\", UserWarning)\n",
    "        self._links = None\n",
    "\n",
    "\n",
    "# Module Loader for a URL\n",
    "class UrlModuleLoader(importlib.abc.SourceLoader):\n",
    "    def __init__(self, baseurl):\n",
    "        self._baseurl = baseurl\n",
    "        self._source_cache = {}\n",
    "\n",
    "    def create_module(self,spec):\n",
    "        \"\"\"这边只要调用父类的实现即可.\"\"\"\n",
    "        \n",
    "        mod = sys.modules.setdefault(spec.name, imp.new_module(spec.name))\n",
    "        mod.__file__ = self.get_filename(spec.name)\n",
    "        mod.__loader__ = self\n",
    "        mod.__package__ = spec.name.rpartition('.')[0]\n",
    "        return mod\n",
    "        \n",
    "\n",
    "    def exec_module (self, module):\n",
    "        \"\"\"在_post_import_hooks中查找对应模块中的回调函数并执行.\"\"\"\n",
    "        code = self.get_code(module.__name__)\n",
    "        exec(code, module.__dict__)\n",
    "\n",
    "    # Optional extensions\n",
    "    def get_code(self, fullname):\n",
    "        src = self.get_source(fullname)\n",
    "        return compile(src, self.get_filename(fullname), 'exec')\n",
    "\n",
    "    def get_data(self, path):\n",
    "        pass\n",
    "\n",
    "    def get_filename(self, fullname):\n",
    "        return self._baseurl + '/' + fullname.split('.')[-1] + '.py'\n",
    "\n",
    "    def get_source(self, fullname):\n",
    "        filename = self.get_filename(fullname)\n",
    "        warnings.warn(f'loader: reading {filename}', UserWarning)\n",
    "        if filename in self._source_cache:\n",
    "            warnings.warn(f'loader: cached {fullname} not found', UserWarning)\n",
    "            return self._source_cache[filename]\n",
    "        try:\n",
    "            u = urlopen(filename)\n",
    "            source = u.read().decode('utf-8')\n",
    "            warnings.warn(f'loader: {filename} loaded', UserWarning)\n",
    "            self._source_cache[filename] = source\n",
    "            return source\n",
    "        except (HTTPError, URLError) as e:\n",
    "            warnings.warn(f'loader: {filename} failed. {e}', UserWarning)\n",
    "            raise ImportError(\"Can't load %s\" % filename)\n",
    "\n",
    "    def is_package(self, fullname):\n",
    "        return False\n",
    "\n",
    "# Package loader for a URL\n",
    "class UrlPackageLoader(UrlModuleLoader):\n",
    "    def create_module(self, spec):\n",
    "        mod = super().create_module(spec)\n",
    "        mod.__path__ = [ self._baseurl ]\n",
    "        mod.__package__ = spec.name\n",
    "        return mod\n",
    "\n",
    "    def get_filename(self, fullname):\n",
    "        return self._baseurl + '/' + '__init__.py'\n",
    "\n",
    "    def is_package(self, fullname):\n",
    "        return True\n",
    "\n",
    "        \n",
    "\n",
    "\n",
    "# Check path to see if it looks like a URL\n",
    "_url_path_cache = {}\n",
    "def handle_url(path):\n",
    "    if path.startswith(('http://', 'https://')):\n",
    "        warnings.warn(f'Handle path? {path}. [Yes]', UserWarning)\n",
    "        if path in _url_path_cache:\n",
    "            finder = _url_path_cache[path]\n",
    "        else:\n",
    "            finder = UrlPathFinder(path)\n",
    "            _url_path_cache[path] = finder\n",
    "        return finder\n",
    "    else:\n",
    "        warnings.warn(f'Handle path? {path}. [No]', UserWarning)\n",
    "\n",
    "def install_path_hook():\n",
    "    sys.path_hooks.append(handle_url)\n",
    "    sys.path_importer_cache.clear()\n",
    "    warnings.warn('Installing handle_url', UserWarning)\n",
    "\n",
    "def remove_path_hook():\n",
    "    sys.path_hooks.remove(handle_url)\n",
    "    sys.path_importer_cache.clear()\n",
    "    warnings.warn('Removing handle_url', UserWarning)\n",
    "    \n",
    "install_path_hook()"
   ]
  },
  {
   "cell_type": "code",
   "execution_count": 2,
   "metadata": {},
   "outputs": [
    {
     "ename": "ModuleNotFoundError",
     "evalue": "No module named 'fib'",
     "output_type": "error",
     "traceback": [
      "\u001b[0;31m---------------------------------------------------------------------------\u001b[0m",
      "\u001b[0;31mModuleNotFoundError\u001b[0m                       Traceback (most recent call last)",
      "\u001b[0;32m<ipython-input-2-7d018bf75fbf>\u001b[0m in \u001b[0;36m<module>\u001b[0;34m()\u001b[0m\n\u001b[0;32m----> 1\u001b[0;31m \u001b[0;32mimport\u001b[0m \u001b[0mfib\u001b[0m\u001b[0;34m\u001b[0m\u001b[0m\n\u001b[0m",
      "\u001b[0;31mModuleNotFoundError\u001b[0m: No module named 'fib'"
     ]
    }
   ],
   "source": [
    "import fib"
   ]
  },
  {
   "cell_type": "code",
   "execution_count": 3,
   "metadata": {},
   "outputs": [
    {
     "name": "stderr",
     "output_type": "stream",
     "text": [
      "/Users/huangsizhe/WORKSPACE/github/hsz1273327/TutorialForPython/ipynbs/语法篇/元编程/urlimport.py:162: UserWarning: Installing handle_url\n",
      "  warnings.warn('Installing handle_url', UserWarning)\n"
     ]
    }
   ],
   "source": [
    "import urlimport"
   ]
  },
  {
   "cell_type": "code",
   "execution_count": 4,
   "metadata": {
    "scrolled": true
   },
   "outputs": [
    {
     "name": "stderr",
     "output_type": "stream",
     "text": [
      "/Users/huangsizhe/WORKSPACE/github/hsz1273327/TutorialForPython/ipynbs/语法篇/元编程/urlimport.py:157: UserWarning: Handle path? /Users/huangsizhe/anaconda3/lib/python36.zip. [No]\n",
      "  warnings.warn(f'Handle path? {path}. [No]', UserWarning)\n"
     ]
    },
    {
     "ename": "ModuleNotFoundError",
     "evalue": "No module named 'fib'",
     "output_type": "error",
     "traceback": [
      "\u001b[0;31m---------------------------------------------------------------------------\u001b[0m",
      "\u001b[0;31mModuleNotFoundError\u001b[0m                       Traceback (most recent call last)",
      "\u001b[0;32m<ipython-input-4-7d018bf75fbf>\u001b[0m in \u001b[0;36m<module>\u001b[0;34m()\u001b[0m\n\u001b[0;32m----> 1\u001b[0;31m \u001b[0;32mimport\u001b[0m \u001b[0mfib\u001b[0m\u001b[0;34m\u001b[0m\u001b[0m\n\u001b[0m",
      "\u001b[0;31mModuleNotFoundError\u001b[0m: No module named 'fib'"
     ]
    }
   ],
   "source": [
    "import fib"
   ]
  },
  {
   "cell_type": "code",
   "execution_count": 5,
   "metadata": {},
   "outputs": [],
   "source": [
    "import sys\n",
    "sys.path.append('http://localhost:15000')"
   ]
  },
  {
   "cell_type": "code",
   "execution_count": 10,
   "metadata": {},
   "outputs": [],
   "source": [
    "import fib"
   ]
  },
  {
   "cell_type": "code",
   "execution_count": 11,
   "metadata": {},
   "outputs": [
    {
     "data": {
      "text/plain": [
       "8"
      ]
     },
     "execution_count": 11,
     "metadata": {},
     "output_type": "execute_result"
    }
   ],
   "source": [
    "fib.fib(5)"
   ]
  },
  {
   "cell_type": "markdown",
   "metadata": {},
   "source": [
    "## 直接import其他语言的模块来使用\n",
    "\n",
    "一个更加酷的用法是直接导入别的语言的代码成为模块.这有两种途径\n",
    "\n",
    "+ 通过一个自定义的编译器将源码编译为python可以直接import的动态链接库,之后再导入这个动态链接库\n",
    "+ 通过一个自定义的语法解释器将特定源码转化为python对象"
   ]
  },
  {
   "cell_type": "markdown",
   "metadata": {},
   "source": [
    "### 导入Fortran代码作为模块\n",
    "\n",
    "这个例子我们来尝试第一种方法,其基本流程是:\n",
    "\n",
    "1. 定义一个finder用于找到以`.f`,`.f90`或者`.f95`位后缀的文件作为源文件\n",
    "    \n",
    "    需要注意的这个需求依然会用到文件系统,Fortran的源码很大的可能性与python的原生源文件共存,因此不适合使用`sys.path_hook`.\n",
    "\n",
    "2. 使用numpy中自带的工具`f2py`来实现Fortran代码的编译工作\n",
    "    \n",
    "    `f2py`无法指定输出的动态链接库位置,需要进一步的文件系统操作.这边可以利用标准库`Pathlib`和`shutil`\n",
    "\n",
    "\n",
    "3. 将编译成功后的动态链接库导入到程序中.\n",
    "\n",
    "    需要注意引入动态链接库时不能使用`import`或者`__import__`或者`importlib.import_module`这些直接生成完整模块对象的方式,否则会递归调用.\n",
    "    此处应该使用如下的方式借由生成spec来生成模块.\n",
    "    ```python\n",
    "    wrap_spec = importlib.util.spec_from_file_location(\n",
    "            spec.name,\n",
    "            str(target_path)\n",
    "        )\n",
    "    mod = importlib.util.module_from_spec(wrap_spec)\n",
    "    ```\n",
    "    再借由这个spec的loader来执行模块\n",
    "    ```python\n",
    "    wrap_spec.loader.exec_module(mod)\n",
    "    ```\n",
    "\n",
    "\n",
    "\n",
    "\n",
    "当然了这个例子并没有考虑fortain本身的语法和多文件编译的问题,可能还会有些问题."
   ]
  },
  {
   "cell_type": "code",
   "execution_count": 1,
   "metadata": {},
   "outputs": [],
   "source": [
    "import sys"
   ]
  },
  {
   "cell_type": "code",
   "execution_count": 5,
   "metadata": {},
   "outputs": [
    {
     "data": {
      "text/plain": [
       "[zipimport.zipimporter,\n",
       " <function _frozen_importlib_external.FileFinder.path_hook.<locals>.path_hook_for_FileFinder>]"
      ]
     },
     "execution_count": 5,
     "metadata": {},
     "output_type": "execute_result"
    }
   ],
   "source": [
    "sys.path_hooks"
   ]
  },
  {
   "cell_type": "code",
   "execution_count": 6,
   "metadata": {},
   "outputs": [
    {
     "name": "stdout",
     "output_type": "stream",
     "text": [
      "Overwriting fortranimport.py\n"
     ]
    }
   ],
   "source": [
    "%%writefile fortranimport.py\n",
    "import os\n",
    "import sys\n",
    "import hashlib\n",
    "import shutil\n",
    "import warnings\n",
    "from pathlib import Path\n",
    "import importlib\n",
    "from importlib.abc import (\n",
    "    MetaPathFinder,\n",
    "    PathEntryFinder,\n",
    "    Loader\n",
    ")\n",
    "from importlib.machinery import ModuleSpec\n",
    "\n",
    "from numpy import f2py\n",
    "\n",
    "\n",
    "class FortranImportLoader(Loader):\n",
    "    def __init__(self, source_path):\n",
    "        self._source_path = source_path\n",
    "        with open(str(self._source_path), \"rb\") as f:\n",
    "            self.source = f.read()\n",
    "        self.source_hash = hashlib.md5(self.source)\n",
    "        self.wrap_spec = None\n",
    "\n",
    "    def _check_source(self):\n",
    "        with open(str(self._source_path), \"rb\") as f:\n",
    "            source = f.read()\n",
    "        source_hash = hashlib.md5(source)\n",
    "        if self.source_hash == source_hash:\n",
    "            return False\n",
    "        else:\n",
    "            self.source_hash = source_hash\n",
    "            self.source = source\n",
    "            return True\n",
    "\n",
    "    def _compile(self):\n",
    "        modulename = self._source_path.stem\n",
    "        suffix = self._source_path.suffix\n",
    "        complie_result = f2py.compile(\n",
    "            self.source,\n",
    "            modulename=modulename,\n",
    "            verbose=False,\n",
    "            extra_args=\"--quiet\", \n",
    "            extension=suffix\n",
    "        )\n",
    "        if complie_result != 0:\n",
    "            raise ImportError(\"complie failed\")\n",
    "        else:\n",
    "            root = Path(\".\").resolve()\n",
    "            find_files = [\n",
    "                i for i in root.iterdir() if i.match(f\"{modulename}*.pyd\") or i.match(f\"{modulename}*.so\")\n",
    "            ]\n",
    "            if len(find_files) != 1:\n",
    "                raise ImportError(f\"find {len(find_files)} Dynamic Link Library\")\n",
    "            file = find_files[0]\n",
    "            target_path = self._source_path.with_name(file.name)\n",
    "            if file != target_path:\n",
    "                try:\n",
    "                    shutil.move(str(file), str(target_path))\n",
    "                except shutil.SameFileError as sfe:\n",
    "                    pass\n",
    "                except Exception as e:\n",
    "                    raise e\n",
    "            del_target = [i for i in root.iterdir() if i.match(str(file)+\".*\")]\n",
    "            for i in del_target:\n",
    "                try:\n",
    "                    i.chmod(0o777)\n",
    "                    i.unlink()\n",
    "                except Exception as e:\n",
    "                    warnings.warn(f'can not delete file {i}:{type(e)}--{e}', UserWarning)\n",
    "            return target_path\n",
    "\n",
    "    def create_module(self, spec):\n",
    "        self._check_source()\n",
    "        target_path = self._compile()\n",
    "        self.wrap_spec = importlib.util.spec_from_file_location(\n",
    "            spec.name,\n",
    "            str(target_path)\n",
    "        )\n",
    "        mod = importlib.util.module_from_spec(self.wrap_spec)\n",
    "        mod = sys.modules.setdefault(spec.name, mod)\n",
    "        return mod\n",
    "\n",
    "    def exec_module(self, module):\n",
    "        \"\"\"在_post_import_hooks中查找对应模块中的回调函数并执行.\"\"\"\n",
    "        self.wrap_spec.loader.exec_module(module)\n",
    "        \n",
    "\n",
    "\n",
    "class FortranImportFinder(MetaPathFinder):\n",
    "\n",
    "    def find_spec(self, fullname, paths=None, target=None):\n",
    "        relative_path = fullname.replace(\".\", \"/\")\n",
    "        base_path = None\n",
    "        full_path = None\n",
    "\n",
    "        for path in sys.path:\n",
    "            base_path = Path(path).resolve()\n",
    "            abs_path = base_path.joinpath(relative_path)\n",
    "            if abs_path.with_suffix(\".f\").exists():\n",
    "                full_path = abs_path.with_suffix(\".f\")\n",
    "                break\n",
    "            elif abs_path.with_suffix(\".f90\").exists():\n",
    "                full_path = abs_path.with_suffix(\".f90\")\n",
    "                break\n",
    "            elif abs_path.with_suffix(\".f95\").exists():\n",
    "                full_path = abs_path.with_suffix(\".f95\")\n",
    "                break\n",
    "        else:\n",
    "            return None\n",
    "        warnings.warn(f'FortranImportFinder find_spec: {fullname}', UserWarning)\n",
    "        loader = FortranImportLoader(full_path)\n",
    "        spec = ModuleSpec(fullname, loader, origin=paths)\n",
    "        return spec\n",
    "\n",
    "\n",
    "finder = FortranImportFinder()\n",
    "sys.meta_path.insert(0, finder)\n",
    "warnings.warn('now you can import a fortain file', UserWarning)\n"
   ]
  },
  {
   "cell_type": "code",
   "execution_count": 1,
   "metadata": {},
   "outputs": [
    {
     "name": "stderr",
     "output_type": "stream",
     "text": [
      "/Users/huangsizhe/WORKSPACE/github/hsz1273327/TutorialForPython/ipynbs/语法篇/元编程/fortranimport.py:122: UserWarning: now you can import a fortain file\n",
      "  warnings.warn('now you can import a fortain file', UserWarning)\n"
     ]
    }
   ],
   "source": [
    "import fortranimport"
   ]
  },
  {
   "cell_type": "code",
   "execution_count": 2,
   "metadata": {},
   "outputs": [
    {
     "name": "stderr",
     "output_type": "stream",
     "text": [
      "/Users/huangsizhe/WORKSPACE/github/hsz1273327/TutorialForPython/ipynbs/语法篇/元编程/fortranimport.py:114: UserWarning: FortranImportFinder find_spec: demo\n",
      "  warnings.warn(f'FortranImportFinder find_spec: {fullname}', UserWarning)\n"
     ]
    },
    {
     "name": "stdout",
     "output_type": "stream",
     "text": [
      "In file included from /var/folders/62/pwdyzlx51_j_3_0lr8zxzbx00000gn/T/tmpg1hdbzxv/src.macosx-10.7-x86_64-3.6/demomodule.c:16:\n",
      "In file included from /var/folders/62/pwdyzlx51_j_3_0lr8zxzbx00000gn/T/tmpg1hdbzxv/src.macosx-10.7-x86_64-3.6/fortranobject.h:13:\n",
      "In file included from /Users/huangsizhe/anaconda3/lib/python3.6/site-packages/numpy/core/include/numpy/arrayobject.h:4:\n",
      "In file included from /Users/huangsizhe/anaconda3/lib/python3.6/site-packages/numpy/core/include/numpy/ndarrayobject.h:18:\n",
      "In file included from /Users/huangsizhe/anaconda3/lib/python3.6/site-packages/numpy/core/include/numpy/ndarraytypes.h:1816:\n",
      "/Users/huangsizhe/anaconda3/lib/python3.6/site-packages/numpy/core/include/numpy/npy_1_7_deprecated_api.h:15:2: warning: \"Using deprecated NumPy API, disable it by \"          \"#defining NPY_NO_DEPRECATED_API NPY_1_7_API_VERSION\" [-W#warnings]\n",
      "#warning \"Using deprecated NumPy API, disable it by \" \\\n",
      " ^\n",
      "/var/folders/62/pwdyzlx51_j_3_0lr8zxzbx00000gn/T/tmpg1hdbzxv/src.macosx-10.7-x86_64-3.6/demomodule.c:109:12: warning: unused function 'f2py_size' [-Wunused-function]\n",
      "static int f2py_size(PyArrayObject* var, ...)\n",
      "           ^\n",
      "2 warnings generated.\n",
      "In file included from /var/folders/62/pwdyzlx51_j_3_0lr8zxzbx00000gn/T/tmpg1hdbzxv/src.macosx-10.7-x86_64-3.6/fortranobject.c:2:\n",
      "In file included from /var/folders/62/pwdyzlx51_j_3_0lr8zxzbx00000gn/T/tmpg1hdbzxv/src.macosx-10.7-x86_64-3.6/fortranobject.h:13:\n",
      "In file included from /Users/huangsizhe/anaconda3/lib/python3.6/site-packages/numpy/core/include/numpy/arrayobject.h:4:\n",
      "In file included from /Users/huangsizhe/anaconda3/lib/python3.6/site-packages/numpy/core/include/numpy/ndarrayobject.h:18:\n",
      "In file included from /Users/huangsizhe/anaconda3/lib/python3.6/site-packages/numpy/core/include/numpy/ndarraytypes.h:1816:\n",
      "/Users/huangsizhe/anaconda3/lib/python3.6/site-packages/numpy/core/include/numpy/npy_1_7_deprecated_api.h:15:2: warning: \"Using deprecated NumPy API, disable it by \"          \"#defining NPY_NO_DEPRECATED_API NPY_1_7_API_VERSION\" [-W#warnings]\n",
      "#warning \"Using deprecated NumPy API, disable it by \" \\\n",
      " ^\n",
      "/var/folders/62/pwdyzlx51_j_3_0lr8zxzbx00000gn/T/tmpg1hdbzxv/src.macosx-10.7-x86_64-3.6/fortranobject.c:138:18: warning: comparison of integers of different signs: 'Py_ssize_t' (aka 'long') and 'unsigned long' [-Wsign-compare]\n",
      "        if (size < sizeof(notalloc)) {\n",
      "            ~~~~ ^ ~~~~~~~~~~~~~~~~\n",
      "2 warnings generated.\n"
     ]
    },
    {
     "name": "stderr",
     "output_type": "stream",
     "text": [
      "/Users/huangsizhe/WORKSPACE/github/hsz1273327/TutorialForPython/ipynbs/语法篇/元编程/fortranimport.py:71: UserWarning: can not delete file /Users/huangsizhe/WORKSPACE/github/hsz1273327/TutorialForPython/ipynbs/语法篇/元编程/demo.cpython-36m-darwin.so.dSYM:<class 'PermissionError'>--[Errno 1] Operation not permitted: '/Users/huangsizhe/WORKSPACE/github/hsz1273327/TutorialForPython/ipynbs/语法篇/元编程/demo.cpython-36m-darwin.so.dSYM'\n",
      "  warnings.warn(f'can not delete file {i}:{type(e)}--{e}', UserWarning)\n"
     ]
    }
   ],
   "source": [
    "import demo"
   ]
  },
  {
   "cell_type": "code",
   "execution_count": 3,
   "metadata": {},
   "outputs": [
    {
     "data": {
      "text/plain": [
       "55.0"
      ]
     },
     "execution_count": 3,
     "metadata": {},
     "output_type": "execute_result"
    }
   ],
   "source": [
    "demo.sum_of_square([1,2,3,4,5])"
   ]
  },
  {
   "cell_type": "code",
   "execution_count": 4,
   "metadata": {},
   "outputs": [
    {
     "name": "stderr",
     "output_type": "stream",
     "text": [
      "/Users/huangsizhe/WORKSPACE/github/hsz1273327/TutorialForPython/ipynbs/语法篇/元编程/fortranimport.py:114: UserWarning: FortranImportFinder find_spec: demopackage.demo1\n",
      "  warnings.warn(f'FortranImportFinder find_spec: {fullname}', UserWarning)\n"
     ]
    },
    {
     "name": "stdout",
     "output_type": "stream",
     "text": [
      "In file included from /var/folders/62/pwdyzlx51_j_3_0lr8zxzbx00000gn/T/tmponoxb1eb/src.macosx-10.7-x86_64-3.6/demo1module.c:16:\n",
      "In file included from /var/folders/62/pwdyzlx51_j_3_0lr8zxzbx00000gn/T/tmponoxb1eb/src.macosx-10.7-x86_64-3.6/fortranobject.h:13:\n",
      "In file included from /Users/huangsizhe/anaconda3/lib/python3.6/site-packages/numpy/core/include/numpy/arrayobject.h:4:\n",
      "In file included from /Users/huangsizhe/anaconda3/lib/python3.6/site-packages/numpy/core/include/numpy/ndarrayobject.h:18:\n",
      "In file included from /Users/huangsizhe/anaconda3/lib/python3.6/site-packages/numpy/core/include/numpy/ndarraytypes.h:1816:\n",
      "/Users/huangsizhe/anaconda3/lib/python3.6/site-packages/numpy/core/include/numpy/npy_1_7_deprecated_api.h:15:2: warning: \"Using deprecated NumPy API, disable it by \"          \"#defining NPY_NO_DEPRECATED_API NPY_1_7_API_VERSION\" [-W#warnings]\n",
      "#warning \"Using deprecated NumPy API, disable it by \" \\\n",
      " ^\n",
      "/var/folders/62/pwdyzlx51_j_3_0lr8zxzbx00000gn/T/tmponoxb1eb/src.macosx-10.7-x86_64-3.6/demo1module.c:109:12: warning: unused function 'f2py_size' [-Wunused-function]\n",
      "static int f2py_size(PyArrayObject* var, ...)\n",
      "           ^\n",
      "2 warnings generated.\n",
      "In file included from /var/folders/62/pwdyzlx51_j_3_0lr8zxzbx00000gn/T/tmponoxb1eb/src.macosx-10.7-x86_64-3.6/fortranobject.c:2:\n",
      "In file included from /var/folders/62/pwdyzlx51_j_3_0lr8zxzbx00000gn/T/tmponoxb1eb/src.macosx-10.7-x86_64-3.6/fortranobject.h:13:\n",
      "In file included from /Users/huangsizhe/anaconda3/lib/python3.6/site-packages/numpy/core/include/numpy/arrayobject.h:4:\n",
      "In file included from /Users/huangsizhe/anaconda3/lib/python3.6/site-packages/numpy/core/include/numpy/ndarrayobject.h:18:\n",
      "In file included from /Users/huangsizhe/anaconda3/lib/python3.6/site-packages/numpy/core/include/numpy/ndarraytypes.h:1816:\n",
      "/Users/huangsizhe/anaconda3/lib/python3.6/site-packages/numpy/core/include/numpy/npy_1_7_deprecated_api.h:15:2: warning: \"Using deprecated NumPy API, disable it by \"          \"#defining NPY_NO_DEPRECATED_API NPY_1_7_API_VERSION\" [-W#warnings]\n",
      "#warning \"Using deprecated NumPy API, disable it by \" \\\n",
      " ^\n",
      "/var/folders/62/pwdyzlx51_j_3_0lr8zxzbx00000gn/T/tmponoxb1eb/src.macosx-10.7-x86_64-3.6/fortranobject.c:138:18: warning: comparison of integers of different signs: 'Py_ssize_t' (aka 'long') and 'unsigned long' [-Wsign-compare]\n",
      "        if (size < sizeof(notalloc)) {\n",
      "            ~~~~ ^ ~~~~~~~~~~~~~~~~\n",
      "2 warnings generated.\n"
     ]
    },
    {
     "name": "stderr",
     "output_type": "stream",
     "text": [
      "/Users/huangsizhe/WORKSPACE/github/hsz1273327/TutorialForPython/ipynbs/语法篇/元编程/fortranimport.py:71: UserWarning: can not delete file /Users/huangsizhe/WORKSPACE/github/hsz1273327/TutorialForPython/ipynbs/语法篇/元编程/demo1.cpython-36m-darwin.so.dSYM:<class 'PermissionError'>--[Errno 1] Operation not permitted: '/Users/huangsizhe/WORKSPACE/github/hsz1273327/TutorialForPython/ipynbs/语法篇/元编程/demo1.cpython-36m-darwin.so.dSYM'\n",
      "  warnings.warn(f'can not delete file {i}:{type(e)}--{e}', UserWarning)\n"
     ]
    }
   ],
   "source": [
    "import demopackage.demo1"
   ]
  },
  {
   "cell_type": "code",
   "execution_count": 5,
   "metadata": {},
   "outputs": [
    {
     "data": {
      "text/plain": [
       "55.0"
      ]
     },
     "execution_count": 5,
     "metadata": {},
     "output_type": "execute_result"
    }
   ],
   "source": [
    "demopackage.demo1.sum_of_square([1,2,3,4,5])"
   ]
  },
  {
   "cell_type": "markdown",
   "metadata": {},
   "source": [
    "## 使用警告\n",
    "\n",
    "import hook是python中非常高级的语言技巧,并不提倡用户使用,如果非要使用,请使用`warnning`在导入时提醒用户"
   ]
  }
 ],
 "metadata": {
  "kernelspec": {
   "display_name": "Python 3",
   "language": "python",
   "name": "python3"
  },
  "language_info": {
   "codemirror_mode": {
    "name": "ipython",
    "version": 3
   },
   "file_extension": ".py",
   "mimetype": "text/x-python",
   "name": "python",
   "nbconvert_exporter": "python",
   "pygments_lexer": "ipython3",
   "version": "3.6.4"
  }
 },
 "nbformat": 4,
 "nbformat_minor": 2
}
