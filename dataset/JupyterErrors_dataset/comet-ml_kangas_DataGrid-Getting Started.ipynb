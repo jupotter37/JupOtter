{
 "cells": [
  {
   "cell_type": "markdown",
   "id": "ed8bfdfe-a07b-4ea5-a9eb-290b2e475eb8",
   "metadata": {},
   "source": [
    "# Kangas DataGrid - Getting Started\n",
    "\n",
    "Before using Kangas DataGrid, you'll need to install it. We can do that in a notebook\n",
    "with the `%pip install kangas` command:"
   ]
  },
  {
   "cell_type": "code",
   "execution_count": null,
   "id": "0d447985-3569-49e9-a767-d5591b2ced9e",
   "metadata": {},
   "outputs": [],
   "source": [
    "%pip install kangas --quiet"
   ]
  },
  {
   "cell_type": "markdown",
   "id": "be0064e9-bd8c-4099-acfb-aad3254179dd",
   "metadata": {},
   "source": [
    "Once installed, we can import it. We'll just import the top-level `kangas` module as `kg` and use that throughout this demo."
   ]
  },
  {
   "cell_type": "code",
   "execution_count": 1,
   "id": "334b8a24-4a3e-44d3-82cd-cc0c167e74d0",
   "metadata": {},
   "outputs": [
    {
     "data": {
      "text/plain": [
       "'1.1.26'"
      ]
     },
     "execution_count": 1,
     "metadata": {},
     "output_type": "execute_result"
    }
   ],
   "source": [
    "import kangas as kg\n",
    "kg.__version__"
   ]
  },
  {
   "cell_type": "markdown",
   "id": "6f5c1b05-daf8-49a8-8a9c-96dab0d35b65",
   "metadata": {},
   "source": [
    "## Quick Overview\n",
    "\n",
    "The easiest way to create a Kangas DataGrid is to read one that someone has already created.\n",
    "\n",
    "This line will download, unzip, and read a zip file containing a datagrid of the same name:"
   ]
  },
  {
   "cell_type": "code",
   "execution_count": 24,
   "id": "32b2c599-efd5-4f25-b563-6a34475a7d1c",
   "metadata": {},
   "outputs": [],
   "source": [
    "dg = kg.read_datagrid(\"https://github.com/dsblank/examples/raw/main/mnist-60000-after-5-epochs.datagrid.zip\")"
   ]
  },
  {
   "cell_type": "markdown",
   "id": "fe07169e-529d-4645-9408-a6ce495bd5ca",
   "metadata": {},
   "source": [
    "To get a quick look at the first few, and last few rows, you just evaluate the DataGrid:"
   ]
  },
  {
   "cell_type": "code",
   "execution_count": 25,
   "id": "a2b0578f-d71e-4b11-9248-ee873ca9d38f",
   "metadata": {},
   "outputs": [
    {
     "data": {
      "text/html": [
       "<table><th colspan='1' >          row-id </th> <th colspan='1' >              ID </th> <th colspan='1' >           Image </th> <th colspan='1' >           guess </th> <th colspan='1' >           truth </th> <th colspan='1' >         score_0 </th> <th colspan='1' >         score_1 </th> <th colspan='1' >         score_2 </th> <th colspan='1' >         score_3 </th> <th colspan='1' >         score_4 </th> <th colspan='1' >         score_5 </th> <th colspan='1' >         score_6 </th> <th colspan='1' >         score_7 </th> <th colspan='1' >         score_8 </th> <th colspan='1' >         score_9 </th> <tr>\n",
       "<td colspan='1' >               1 </td> <td colspan='1' >             0_0 </td> <td colspan='1' > &lt;Image, asse </td> <td colspan='1' >               5 </td> <td colspan='1' >               5 </td> <td colspan='1' > 0.0003801159327 </td> <td colspan='1' > 0.0001277869014 </td> <td colspan='1' > 0.0002037321683 </td> <td colspan='1' > 0.0735469013452 </td> <td colspan='1' > 9.9519216746557 </td> <td colspan='1' > 0.9205805659294 </td> <td colspan='1' > 0.0001330216473 </td> <td colspan='1' > 0.0012975619174 </td> <td colspan='1' > 0.0017528240568 </td> <td colspan='1' > 0.0018781156977 </td> <tr>\n",
       "<td colspan='1' >               2 </td> <td colspan='1' >             1_0 </td> <td colspan='1' > &lt;Image, asse </td> <td colspan='1' >               0 </td> <td colspan='1' >               0 </td> <td colspan='1' > 0.9992853999137 </td> <td colspan='1' > 7.9931724030757 </td> <td colspan='1' > 8.1648780906107 </td> <td colspan='1' > 0.0001033976732 </td> <td colspan='1' > 1.2082227840437 </td> <td colspan='1' > 0.0003204728418 </td> <td colspan='1' > 1.9551858713384 </td> <td colspan='1' > 0.0001656513777 </td> <td colspan='1' > 1.2528664228739 </td> <td colspan='1' > 3.2318600915459 </td> <tr>\n",
       "<td colspan='1' >               3 </td> <td colspan='1' >             2_0 </td> <td colspan='1' > &lt;Image, asse </td> <td colspan='1' >               4 </td> <td colspan='1' >               4 </td> <td colspan='1' > 1.2911040414564 </td> <td colspan='1' > 2.5293978978879 </td> <td colspan='1' > 0.0013196486979 </td> <td colspan='1' > 4.2376654164399 </td> <td colspan='1' > 0.9972282052040 </td> <td colspan='1' > 5.7346933317603 </td> <td colspan='1' > 5.9833600971614 </td> <td colspan='1' > 0.0006686503184 </td> <td colspan='1' > 1.1407437341404 </td> <td colspan='1' > 0.0005871452158 </td> <tr>\n",
       "<td colspan='1' >               4 </td> <td colspan='1' >             3_0 </td> <td colspan='1' > &lt;Image, asse </td> <td colspan='1' >               1 </td> <td colspan='1' >               1 </td> <td colspan='1' > 1.7145330275525 </td> <td colspan='1' > 0.9984493255615 </td> <td colspan='1' > 0.0002102825528 </td> <td colspan='1' > 3.8886493712197 </td> <td colspan='1' > 6.9065579737070 </td> <td colspan='1' > 4.0109098335960 </td> <td colspan='1' > 0.0001045667522 </td> <td colspan='1' > 0.0001345542550 </td> <td colspan='1' > 0.0008927863673 </td> <td colspan='1' > 4.3187377741560 </td> <tr>\n",
       "<td colspan='1' >               5 </td> <td colspan='1' >             4_0 </td> <td colspan='1' > &lt;Image, asse </td> <td colspan='1' >               9 </td> <td colspan='1' >               9 </td> <td colspan='1' > 1.5619488635820 </td> <td colspan='1' > 4.1327712096972 </td> <td colspan='1' > 2.2574981812795 </td> <td colspan='1' > 0.0002893423661 </td> <td colspan='1' > 0.0010175879579 </td> <td colspan='1' > 6.5922569774556 </td> <td colspan='1' > 1.3011796795581 </td> <td colspan='1' > 0.0003477171703 </td> <td colspan='1' > 0.0005523857544 </td> <td colspan='1' > 0.9976830482482 </td> <tr>\n",
       "<tr><td colspan='15' style='text-align: left;'>...</td></tr><td colspan='1' >           59996 </td> <td colspan='1' >         59995_0 </td> <td colspan='1' > &lt;Image, asse </td> <td colspan='1' >               8 </td> <td colspan='1' >               8 </td> <td colspan='1' > 3.2505617127753 </td> <td colspan='1' > 2.5870547688100 </td> <td colspan='1' > 0.0002041866682 </td> <td colspan='1' > 0.0028061096090 </td> <td colspan='1' > 4.3806480789498 </td> <td colspan='1' > 0.0002726390375 </td> <td colspan='1' > 1.5543423614872 </td> <td colspan='1' > 3.1183614623842 </td> <td colspan='1' > 0.9965282082557 </td> <td colspan='1' > 0.0001243160804 </td> <tr>\n",
       "<td colspan='1' >           59997 </td> <td colspan='1' >         59996_0 </td> <td colspan='1' > &lt;Image, asse </td> <td colspan='1' >               3 </td> <td colspan='1' >               3 </td> <td colspan='1' > 1.1184209142811 </td> <td colspan='1' > 1.5324691048590 </td> <td colspan='1' > 0.0004596766957 </td> <td colspan='1' > 0.9982267022132 </td> <td colspan='1' > 1.2172682772870 </td> <td colspan='1' > 3.3583441108930 </td> <td colspan='1' > 6.3583303067105 </td> <td colspan='1' > 0.0001746603957 </td> <td colspan='1' > 0.0005389639409 </td> <td colspan='1' > 0.0005386720877 </td> <tr>\n",
       "<td colspan='1' >           59998 </td> <td colspan='1' >         59997_0 </td> <td colspan='1' > &lt;Image, asse </td> <td colspan='1' >               5 </td> <td colspan='1' >               5 </td> <td colspan='1' > 2.4464738089591 </td> <td colspan='1' > 8.7551825345144 </td> <td colspan='1' > 2.1635760276694 </td> <td colspan='1' > 0.0001473767042 </td> <td colspan='1' > 7.5291827670298 </td> <td colspan='1' > 0.9989750385284 </td> <td colspan='1' > 8.9653323811944 </td> <td colspan='1' > 1.9890239855158 </td> <td colspan='1' > 0.0004213855136 </td> <td colspan='1' > 0.0002358685160 </td> <tr>\n",
       "<td colspan='1' >           59999 </td> <td colspan='1' >         59998_0 </td> <td colspan='1' > &lt;Image, asse </td> <td colspan='1' >               6 </td> <td colspan='1' >               6 </td> <td colspan='1' > 2.3057298676576 </td> <td colspan='1' > 0.0001034079032 </td> <td colspan='1' > 0.0001432461285 </td> <td colspan='1' > 3.6937350955668 </td> <td colspan='1' > 0.0005181649466 </td> <td colspan='1' > 0.0003082071198 </td> <td colspan='1' > 0.9988954067230 </td> <td colspan='1' > 2.3212633095681 </td> <td colspan='1' > 4.3824447857332 </td> <td colspan='1' > 1.4624255300077 </td> <tr>\n",
       "<td colspan='1' >           60000 </td> <td colspan='1' >         59999_0 </td> <td colspan='1' > &lt;Image, asse </td> <td colspan='1' >               8 </td> <td colspan='1' >               8 </td> <td colspan='1' > 0.0001333609689 </td> <td colspan='1' > 1.6963807865977 </td> <td colspan='1' > 3.2436306355521 </td> <td colspan='1' > 0.0004209050675 </td> <td colspan='1' > 1.5265825368260 </td> <td colspan='1' > 0.0010179193923 </td> <td colspan='1' > 7.9014253060449 </td> <td colspan='1' > 1.0736092548313 </td> <td colspan='1' > 0.9981248974800 </td> <td colspan='1' > 0.0002439306845 </td> <tr>\n",
       "<tr>\n",
       "<td colspan='15' style=\"text-align: left;\"> [60000 rows x 14 columns] </td> <tr>\n",
       "<tr><td colspan='15' style='text-align: left;'></td></tr><tr><td colspan='15' style='text-align: left;'>*  Use DataGrid.show() to start user interface</td></tr></table>"
      ],
      "text/plain": [
       "<th colspan='1' >          row-id </th> <th colspan='1' >              ID </th> <th colspan='1' >           Image </th> <th colspan='1' >           guess </th> <th colspan='1' >           truth </th> <th colspan='1' >         score_0 </th> <th colspan='1' >         score_1 </th> <th colspan='1' >         score_2 </th> <th colspan='1' >         score_3 </th> <th colspan='1' >         score_4 </th> <th colspan='1' >         score_5 </th> <th colspan='1' >         score_6 </th> <th colspan='1' >         score_7 </th> <th colspan='1' >         score_8 </th> <th colspan='1' >         score_9 </th> <tr>\n",
       "<td colspan='1' >               1 </td> <td colspan='1' >             0_0 </td> <td colspan='1' > &lt;Image, asse </td> <td colspan='1' >               5 </td> <td colspan='1' >               5 </td> <td colspan='1' > 0.0003801159327 </td> <td colspan='1' > 0.0001277869014 </td> <td colspan='1' > 0.0002037321683 </td> <td colspan='1' > 0.0735469013452 </td> <td colspan='1' > 9.9519216746557 </td> <td colspan='1' > 0.9205805659294 </td> <td colspan='1' > 0.0001330216473 </td> <td colspan='1' > 0.0012975619174 </td> <td colspan='1' > 0.0017528240568 </td> <td colspan='1' > 0.0018781156977 </td> <tr>\n",
       "<td colspan='1' >               2 </td> <td colspan='1' >             1_0 </td> <td colspan='1' > &lt;Image, asse </td> <td colspan='1' >               0 </td> <td colspan='1' >               0 </td> <td colspan='1' > 0.9992853999137 </td> <td colspan='1' > 7.9931724030757 </td> <td colspan='1' > 8.1648780906107 </td> <td colspan='1' > 0.0001033976732 </td> <td colspan='1' > 1.2082227840437 </td> <td colspan='1' > 0.0003204728418 </td> <td colspan='1' > 1.9551858713384 </td> <td colspan='1' > 0.0001656513777 </td> <td colspan='1' > 1.2528664228739 </td> <td colspan='1' > 3.2318600915459 </td> <tr>\n",
       "<td colspan='1' >               3 </td> <td colspan='1' >             2_0 </td> <td colspan='1' > &lt;Image, asse </td> <td colspan='1' >               4 </td> <td colspan='1' >               4 </td> <td colspan='1' > 1.2911040414564 </td> <td colspan='1' > 2.5293978978879 </td> <td colspan='1' > 0.0013196486979 </td> <td colspan='1' > 4.2376654164399 </td> <td colspan='1' > 0.9972282052040 </td> <td colspan='1' > 5.7346933317603 </td> <td colspan='1' > 5.9833600971614 </td> <td colspan='1' > 0.0006686503184 </td> <td colspan='1' > 1.1407437341404 </td> <td colspan='1' > 0.0005871452158 </td> <tr>\n",
       "<td colspan='1' >               4 </td> <td colspan='1' >             3_0 </td> <td colspan='1' > &lt;Image, asse </td> <td colspan='1' >               1 </td> <td colspan='1' >               1 </td> <td colspan='1' > 1.7145330275525 </td> <td colspan='1' > 0.9984493255615 </td> <td colspan='1' > 0.0002102825528 </td> <td colspan='1' > 3.8886493712197 </td> <td colspan='1' > 6.9065579737070 </td> <td colspan='1' > 4.0109098335960 </td> <td colspan='1' > 0.0001045667522 </td> <td colspan='1' > 0.0001345542550 </td> <td colspan='1' > 0.0008927863673 </td> <td colspan='1' > 4.3187377741560 </td> <tr>\n",
       "<td colspan='1' >               5 </td> <td colspan='1' >             4_0 </td> <td colspan='1' > &lt;Image, asse </td> <td colspan='1' >               9 </td> <td colspan='1' >               9 </td> <td colspan='1' > 1.5619488635820 </td> <td colspan='1' > 4.1327712096972 </td> <td colspan='1' > 2.2574981812795 </td> <td colspan='1' > 0.0002893423661 </td> <td colspan='1' > 0.0010175879579 </td> <td colspan='1' > 6.5922569774556 </td> <td colspan='1' > 1.3011796795581 </td> <td colspan='1' > 0.0003477171703 </td> <td colspan='1' > 0.0005523857544 </td> <td colspan='1' > 0.9976830482482 </td> <tr>\n",
       "...\n",
       "<td colspan='1' >           59996 </td> <td colspan='1' >         59995_0 </td> <td colspan='1' > &lt;Image, asse </td> <td colspan='1' >               8 </td> <td colspan='1' >               8 </td> <td colspan='1' > 3.2505617127753 </td> <td colspan='1' > 2.5870547688100 </td> <td colspan='1' > 0.0002041866682 </td> <td colspan='1' > 0.0028061096090 </td> <td colspan='1' > 4.3806480789498 </td> <td colspan='1' > 0.0002726390375 </td> <td colspan='1' > 1.5543423614872 </td> <td colspan='1' > 3.1183614623842 </td> <td colspan='1' > 0.9965282082557 </td> <td colspan='1' > 0.0001243160804 </td> <tr>\n",
       "<td colspan='1' >           59997 </td> <td colspan='1' >         59996_0 </td> <td colspan='1' > &lt;Image, asse </td> <td colspan='1' >               3 </td> <td colspan='1' >               3 </td> <td colspan='1' > 1.1184209142811 </td> <td colspan='1' > 1.5324691048590 </td> <td colspan='1' > 0.0004596766957 </td> <td colspan='1' > 0.9982267022132 </td> <td colspan='1' > 1.2172682772870 </td> <td colspan='1' > 3.3583441108930 </td> <td colspan='1' > 6.3583303067105 </td> <td colspan='1' > 0.0001746603957 </td> <td colspan='1' > 0.0005389639409 </td> <td colspan='1' > 0.0005386720877 </td> <tr>\n",
       "<td colspan='1' >           59998 </td> <td colspan='1' >         59997_0 </td> <td colspan='1' > &lt;Image, asse </td> <td colspan='1' >               5 </td> <td colspan='1' >               5 </td> <td colspan='1' > 2.4464738089591 </td> <td colspan='1' > 8.7551825345144 </td> <td colspan='1' > 2.1635760276694 </td> <td colspan='1' > 0.0001473767042 </td> <td colspan='1' > 7.5291827670298 </td> <td colspan='1' > 0.9989750385284 </td> <td colspan='1' > 8.9653323811944 </td> <td colspan='1' > 1.9890239855158 </td> <td colspan='1' > 0.0004213855136 </td> <td colspan='1' > 0.0002358685160 </td> <tr>\n",
       "<td colspan='1' >           59999 </td> <td colspan='1' >         59998_0 </td> <td colspan='1' > &lt;Image, asse </td> <td colspan='1' >               6 </td> <td colspan='1' >               6 </td> <td colspan='1' > 2.3057298676576 </td> <td colspan='1' > 0.0001034079032 </td> <td colspan='1' > 0.0001432461285 </td> <td colspan='1' > 3.6937350955668 </td> <td colspan='1' > 0.0005181649466 </td> <td colspan='1' > 0.0003082071198 </td> <td colspan='1' > 0.9988954067230 </td> <td colspan='1' > 2.3212633095681 </td> <td colspan='1' > 4.3824447857332 </td> <td colspan='1' > 1.4624255300077 </td> <tr>\n",
       "<td colspan='1' >           60000 </td> <td colspan='1' >         59999_0 </td> <td colspan='1' > &lt;Image, asse </td> <td colspan='1' >               8 </td> <td colspan='1' >               8 </td> <td colspan='1' > 0.0001333609689 </td> <td colspan='1' > 1.6963807865977 </td> <td colspan='1' > 3.2436306355521 </td> <td colspan='1' > 0.0004209050675 </td> <td colspan='1' > 1.5265825368260 </td> <td colspan='1' > 0.0010179193923 </td> <td colspan='1' > 7.9014253060449 </td> <td colspan='1' > 1.0736092548313 </td> <td colspan='1' > 0.9981248974800 </td> <td colspan='1' > 0.0002439306845 </td> <tr>\n",
       "<tr>\n",
       "<td colspan='15' style=\"text-align: left;\"> [60000 rows x 14 columns] </td> <tr>\n",
       "\n",
       "*  Use DataGrid.show() to start user interface"
      ]
     },
     "execution_count": 25,
     "metadata": {},
     "output_type": "execute_result"
    }
   ],
   "source": [
    "dg"
   ]
  },
  {
   "cell_type": "markdown",
   "id": "c7b0413a-4eba-4459-95e2-0660d317826a",
   "metadata": {},
   "source": [
    "You can also use `dg.head()` and `dg.tail()` respectively for the first and last rows."
   ]
  },
  {
   "cell_type": "markdown",
   "id": "5652469e-9cfd-45df-8e84-3c977fa502a7",
   "metadata": {},
   "source": [
    "The most powerful feature of datagrid is the ability to visualize the data through a powerful UX.\n",
    "\n",
    "To start the UX, simply:"
   ]
  },
  {
   "cell_type": "code",
   "execution_count": 26,
   "id": "e3a73b3d-8159-434c-b118-8b035dab85ea",
   "metadata": {},
   "outputs": [
    {
     "data": {
      "text/html": [
       "\n",
       "        <iframe\n",
       "            width=\"100%\"\n",
       "            height=\"750px\"\n",
       "            src=\"http://127.0.1.1:4000/?datagrid=mnist-60000-after-5-epochs.datagrid\"\n",
       "            frameborder=\"0\"\n",
       "            allowfullscreen\n",
       "            \n",
       "        ></iframe>\n",
       "        "
      ],
      "text/plain": [
       "<IPython.lib.display.IFrame at 0x7efdc16d0b80>"
      ]
     },
     "metadata": {},
     "output_type": "display_data"
    }
   ],
   "source": [
    "dg.show()"
   ]
  },
  {
   "cell_type": "markdown",
   "id": "fe8ad2e2-9f4e-48e9-85ac-adbbfd49a9f3",
   "metadata": {},
   "source": [
    "What are you seeing? And what can you do?\n",
    "\n",
    "First, you are looking at a spreadsheet-like view of the data. You might recognize the `Image` column as members of the MNIST dataset. \n",
    "\n",
    "This particular DataGrid has the following columns:"
   ]
  },
  {
   "cell_type": "code",
   "execution_count": 27,
   "id": "91e59ae4-5dab-44f6-b303-a1acac794cfb",
   "metadata": {},
   "outputs": [
    {
     "name": "stdout",
     "output_type": "stream",
     "text": [
      "DataGrid (on disk)\n",
      "    Name   : MNIST-60000-after-5-epochs\n",
      "    Rows   : 60,000\n",
      "    Columns: 14\n",
      "#   Column                Non-Null Count DataGrid Type       \n",
      "--- -------------------- --------------- --------------------\n",
      "1   ID                            60,000 TEXT                \n",
      "2   Image                         60,000 IMAGE-ASSET         \n",
      "3   guess                         60,000 INTEGER             \n",
      "4   truth                         60,000 INTEGER             \n",
      "5   score_0                       60,000 FLOAT               \n",
      "6   score_1                       60,000 FLOAT               \n",
      "7   score_2                       60,000 FLOAT               \n",
      "8   score_3                       60,000 FLOAT               \n",
      "9   score_4                       60,000 FLOAT               \n",
      "10  score_5                       60,000 FLOAT               \n",
      "11  score_6                       60,000 FLOAT               \n",
      "12  score_7                       60,000 FLOAT               \n",
      "13  score_8                       60,000 FLOAT               \n",
      "14  score_9                       60,000 FLOAT               \n"
     ]
    }
   ],
   "source": [
    "dg.info()"
   ]
  },
  {
   "cell_type": "markdown",
   "id": "5b765aa5-6a66-4f71-9b12-919e4f4b1be9",
   "metadata": {},
   "source": [
    "Each column represents the following information:\n",
    "1. ID - the data scientist's unique ID for each row\n",
    "2. Image - a representation of the input to a deep learning neural network\n",
    "3. guess - what the neural network 'thinks' the input is a picture of\n",
    "4. truth - the actual category of what the picture is of\n",
    "5. score_N - the values of the 10 output units of the neural network"
   ]
  },
  {
   "cell_type": "markdown",
   "id": "d02b73d3-b6fc-4e55-8ae8-9d1e2f73446c",
   "metadata": {},
   "source": [
    "Some things you can do:\n",
    "\n",
    "* Group the DataGrid by the column `truth`. That will show all of the pictures of ones together, twos together, etc. There should be exactly 10 rows, one for each kind of digit pictured.\n",
    "* Then change the filter to be: `{\"epoch\"} == 0` That will show the results before training.\n",
    "* Then change the filter to be: `{\"epoch\"} == 5` That will show the results after 5 epochs of training.\n",
    "* Then change the filter to be: `{\"epoch\"} == 5 and {\"guess\"} == {\"truth\"}` That will show the results after 5 epochs of training for all of the inputs that it got correct.\n",
    "* Then change the filter to be: `{\"epoch\"} == 5 and {\"guess\"} != {\"truth\"}` That will show the results after 5 epochs of training for all of the inputs that it got wrong."
   ]
  },
  {
   "cell_type": "markdown",
   "id": "d5d6eaf2-a6f7-4c61-a6c4-7aa083fd418c",
   "metadata": {},
   "source": [
    "Things to note:\n",
    "\n",
    "* Use the form `{\"column name\"}` to refer to a column\n",
    "* Use Python syntax to construct filter expressions that evaluate to either True or False\n",
    "\n",
    "For more information on filters, see: https://github.com/comet-ml/kangas/wiki/Filter-Expressions"
   ]
  },
  {
   "cell_type": "markdown",
   "id": "8e2c1ba9-76f4-44f0-88f6-c5dcdfc56ed4",
   "metadata": {},
   "source": [
    "## Constructing a DataGrid"
   ]
  },
  {
   "cell_type": "markdown",
   "id": "66288e00-a082-4ab8-bd21-2437ac0d0a90",
   "metadata": {},
   "source": [
    "The second easiest way to create a Kangas DataGrid is to use the class `DataGrid` from the `kangas` package and create one:"
   ]
  },
  {
   "cell_type": "code",
   "execution_count": 28,
   "id": "136367ae-d4cd-432f-8b08-b9a807e64e0e",
   "metadata": {},
   "outputs": [],
   "source": [
    "dg = kg.DataGrid()"
   ]
  },
  {
   "cell_type": "markdown",
   "id": "95781044-ca0e-418e-bea7-0bb2f1673bcc",
   "metadata": {},
   "source": [
    "That's it! Now you can beging to add rows to the DataGrid, either one at a time with `DataGrid.append()` or multiple rows with `DataGrid.extend()`:"
   ]
  },
  {
   "cell_type": "code",
   "execution_count": 29,
   "id": "54debf21-8918-431c-bb6e-ba1adbd96086",
   "metadata": {},
   "outputs": [],
   "source": [
    "dg.append([None, 2.0, \"hello, world\", True, \"2023/12/01\"])"
   ]
  },
  {
   "cell_type": "markdown",
   "id": "1e5c46e1-0c67-4ca2-b65c-3f06f63c0d8e",
   "metadata": {},
   "source": [
    "Here we append a row with five values: a null value, a float, a string, a boolean, and a string in the YYYY/MM/DD date format. \n",
    "\n",
    "We can ask to see the first few rows of the DataGrid with the `DataGrid.head()`:"
   ]
  },
  {
   "cell_type": "code",
   "execution_count": 30,
   "id": "3025e07f-03a2-4d77-bffc-4f47196f24e3",
   "metadata": {},
   "outputs": [
    {
     "data": {
      "text/html": [
       "<table><th colspan='1' >          row-id </th> <th colspan='1' >               A </th> <th colspan='1' >               B </th> <th colspan='1' >               C </th> <th colspan='1' >               D </th> <th colspan='1' >               E </th> <tr>\n",
       "<td colspan='1' >               1 </td> <td colspan='1' >            None </td> <td colspan='1' >             2.0 </td> <td colspan='1' >    hello, world </td> <td colspan='1' >            True </td> <td colspan='1' > 2023-12-01 00:0 </td> <tr>\n",
       "<tr>\n",
       "<td colspan='6' style=\"text-align: left;\"> [1 rows x 5 columns] </td> <tr>\n",
       "</table>"
      ],
      "text/plain": [
       "<IPython.core.display.HTML object>"
      ]
     },
     "metadata": {},
     "output_type": "display_data"
    }
   ],
   "source": [
    "dg.head()"
   ]
  },
  {
   "cell_type": "markdown",
   "id": "cbd131a0-bd74-41fe-ae0b-f1cb8eec2403",
   "metadata": {},
   "source": [
    "Note that an additional column, `row-id` was added automatically. This is column is always added and contains the row number, starting at 1.\n",
    "\n",
    "In addition, you can see what DataGrid has inferred about the data so far:"
   ]
  },
  {
   "cell_type": "code",
   "execution_count": 31,
   "id": "de36ccb5-448b-45da-8211-6f49d9565e23",
   "metadata": {},
   "outputs": [
    {
     "name": "stdout",
     "output_type": "stream",
     "text": [
      "DataGrid (in memory)\n",
      "    Name   : Untitled\n",
      "    Rows   : 1\n",
      "    Columns: 5\n",
      "#   Column                Non-Null Count DataGrid Type       \n",
      "--- -------------------- --------------- --------------------\n",
      "1   A                                  0 None                \n",
      "2   B                                  1 FLOAT               \n",
      "3   C                                  1 TEXT                \n",
      "4   D                                  1 BOOLEAN             \n",
      "5   E                                  1 DATETIME            \n"
     ]
    }
   ],
   "source": [
    "dg.info()"
   ]
  },
  {
   "cell_type": "markdown",
   "id": "f3f03af7-a6e6-4ee5-bafb-17f847291ac2",
   "metadata": {},
   "source": [
    "Some things to take note of so far:\n",
    "\n",
    "First, you may recognize that some of these methods replicate those in pandas DataFrame. These have similar functionality as to those in a DataFrame. However, most of the things you can do in a DataFrame are not supported in a DataGrid. We'll see examples of uses of DataGrid below.\n",
    "\n",
    "Also note that `dg.info()` shows that this is an \"in memory\" DataGrid. That is, it hasn't been saved to disk yet. At this stage in the DataGrid construction, it is attempting to infer the types of each column of data. As we appended a None in column A, we see that the `DataGrid Type` is None for column A.\n",
    "\n",
    "Let's append another row, and check out the info:"
   ]
  },
  {
   "cell_type": "code",
   "execution_count": 32,
   "id": "7a490879-92ac-4c3a-a9a2-33d8165b8280",
   "metadata": {},
   "outputs": [],
   "source": [
    "dg.append([5, 6, \"another string\", False, \"2023/12/02\"])"
   ]
  },
  {
   "cell_type": "code",
   "execution_count": 33,
   "id": "790890b4-ce99-479f-9556-ea7c96ae2137",
   "metadata": {},
   "outputs": [
    {
     "name": "stdout",
     "output_type": "stream",
     "text": [
      "DataGrid (in memory)\n",
      "    Name   : Untitled\n",
      "    Rows   : 2\n",
      "    Columns: 5\n",
      "#   Column                Non-Null Count DataGrid Type       \n",
      "--- -------------------- --------------- --------------------\n",
      "1   A                                  1 INTEGER             \n",
      "2   B                                  2 FLOAT               \n",
      "3   C                                  2 TEXT                \n",
      "4   D                                  2 BOOLEAN             \n",
      "5   E                                  2 DATETIME            \n"
     ]
    }
   ],
   "source": [
    "dg.info()"
   ]
  },
  {
   "cell_type": "markdown",
   "id": "4c45992f-c275-41ca-934c-a43c3d72f238",
   "metadata": {},
   "source": [
    "We see that the DataGrid is still in memory, but the DataGrid Type of column A is now INTEGER. \n",
    "\n",
    "Let's add another row:"
   ]
  },
  {
   "cell_type": "code",
   "execution_count": 34,
   "id": "b7ba9574-79b2-4a91-b4f1-1d2d99cb907f",
   "metadata": {},
   "outputs": [],
   "source": [
    "dg.append([4.0, 6, \"another string\", False, \"2023/12/02\"])"
   ]
  },
  {
   "cell_type": "code",
   "execution_count": 35,
   "id": "1f87a76a-f6e0-48c2-910c-6b51d6478e45",
   "metadata": {},
   "outputs": [
    {
     "name": "stdout",
     "output_type": "stream",
     "text": [
      "DataGrid (in memory)\n",
      "    Name   : Untitled\n",
      "    Rows   : 3\n",
      "    Columns: 5\n",
      "#   Column                Non-Null Count DataGrid Type       \n",
      "--- -------------------- --------------- --------------------\n",
      "1   A                                  2 FLOAT               \n",
      "2   B                                  3 FLOAT               \n",
      "3   C                                  3 TEXT                \n",
      "4   D                                  3 BOOLEAN             \n",
      "5   E                                  3 DATETIME            \n"
     ]
    }
   ],
   "source": [
    "dg.info()"
   ]
  },
  {
   "cell_type": "markdown",
   "id": "1831713f-f961-4e38-b2d9-8a7ad981d29a",
   "metadata": {},
   "source": [
    "After appending a float to column A, the Type has become FLOAT. DataGrid attempts to identify specific types of the data, but allows the types to become more general with additional rows.\n",
    "\n",
    "Now, let's save the DataGrid to disk:"
   ]
  },
  {
   "cell_type": "code",
   "execution_count": 36,
   "id": "ab6d853a-b79c-445c-8cfa-b640147d81a5",
   "metadata": {},
   "outputs": [
    {
     "name": "stdout",
     "output_type": "stream",
     "text": [
      "Saving data...\n"
     ]
    },
    {
     "name": "stderr",
     "output_type": "stream",
     "text": [
      "100%|█████████████████████████████████████████████████████████████████████████████████████████████████████████████████████████████████████████████████████████████████████████████| 3/3 [00:00<00:00, 15630.95it/s]\n"
     ]
    },
    {
     "name": "stdout",
     "output_type": "stream",
     "text": [
      "Saving datagrid to '/tmp/tmpetn8ma0g/untitled.datagrid'...\n",
      "Extending data...\n"
     ]
    },
    {
     "name": "stderr",
     "output_type": "stream",
     "text": [
      "100%|██████████████████████████████████████████████████████████████████████████████████████████████████████████████████████████████████████████████████████████████████████████████| 3/3 [00:00<00:00, 2401.32it/s]\n"
     ]
    },
    {
     "name": "stdout",
     "output_type": "stream",
     "text": [
      "Computing statistics...\n"
     ]
    },
    {
     "name": "stderr",
     "output_type": "stream",
     "text": [
      "100%|██████████████████████████████████████████████████████████████████████████████████████████████████████████████████████████████████████████████████████████████████████████████| 6/6 [00:00<00:00, 4442.33it/s]\n"
     ]
    }
   ],
   "source": [
    "dg.save()"
   ]
  },
  {
   "cell_type": "markdown",
   "id": "40b4ff6a-f3e0-42e5-9c5b-2cbb16f0e083",
   "metadata": {},
   "source": [
    "At this point, the DataGrid is now operating in a different mode. All data is now stored on disk, and Types are no longer allowed to change.\n",
    "\n",
    "Let's add a new row, using the value 87 for the boolean column D:"
   ]
  },
  {
   "cell_type": "code",
   "execution_count": 37,
   "id": "3f2c7f77-3cc7-4f48-8b6d-4c3ad309c6c6",
   "metadata": {},
   "outputs": [
    {
     "name": "stdout",
     "output_type": "stream",
     "text": [
      "Extending data...\n"
     ]
    },
    {
     "name": "stderr",
     "output_type": "stream",
     "text": [
      "100%|██████████████████████████████████████████████████████████████████████████████████████████████████████████████████████████████████████████████████████████████████████████████| 1/1 [00:00<00:00, 1056.23it/s]\n"
     ]
    },
    {
     "name": "stdout",
     "output_type": "stream",
     "text": [
      "Computing statistics...\n"
     ]
    },
    {
     "name": "stderr",
     "output_type": "stream",
     "text": [
      "100%|██████████████████████████████████████████████████████████████████████████████████████████████████████████████████████████████████████████████████████████████████████████████| 6/6 [00:00<00:00, 6454.43it/s]\n"
     ]
    }
   ],
   "source": [
    "dg.extend([[5.0, 6, \"another string\", 87, \"2023/12/02\"]])"
   ]
  },
  {
   "cell_type": "code",
   "execution_count": 38,
   "id": "eee9b562-0bd8-438c-8c53-5207d641ce5a",
   "metadata": {},
   "outputs": [
    {
     "name": "stdout",
     "output_type": "stream",
     "text": [
      "DataGrid (on disk)\n",
      "    Name   : Untitled\n",
      "    Rows   : 4\n",
      "    Columns: 5\n",
      "#   Column                Non-Null Count DataGrid Type       \n",
      "--- -------------------- --------------- --------------------\n",
      "1   A                                  3 FLOAT               \n",
      "2   B                                  4 FLOAT               \n",
      "3   C                                  4 TEXT                \n",
      "4   D                                  4 BOOLEAN             \n",
      "5   E                                  4 DATETIME            \n"
     ]
    }
   ],
   "source": [
    "dg.info()"
   ]
  },
  {
   "cell_type": "markdown",
   "id": "500a7353-1dfe-4414-9e4e-dfa349bbc7d8",
   "metadata": {},
   "source": [
    "Now the DataGrid Type of column D cannot change, and remains a \"BOOLEAN\". If we had appended this row before saving, the DataGrid type would have become \"TEXT\", the highest encompasing type.\n",
    "\n",
    "What does DataGrid do with an 87 in a boolean column?"
   ]
  },
  {
   "cell_type": "code",
   "execution_count": 39,
   "id": "faa2beb1-1fc0-4a09-bbd8-5d79e64214ff",
   "metadata": {},
   "outputs": [
    {
     "data": {
      "text/html": [
       "<table><th colspan='1' >          row-id </th> <th colspan='1' >               A </th> <th colspan='1' >               B </th> <th colspan='1' >               C </th> <th colspan='1' >               D </th> <th colspan='1' >               E </th> <tr>\n",
       "<td colspan='1' >               1 </td> <td colspan='1' >            None </td> <td colspan='1' >             2.0 </td> <td colspan='1' >    hello, world </td> <td colspan='1' >            True </td> <td colspan='1' > 2023-12-01 00:0 </td> <tr>\n",
       "<td colspan='1' >               2 </td> <td colspan='1' >             5.0 </td> <td colspan='1' >             6.0 </td> <td colspan='1' >  another string </td> <td colspan='1' >           False </td> <td colspan='1' > 2023-12-02 00:0 </td> <tr>\n",
       "<td colspan='1' >               3 </td> <td colspan='1' >             4.0 </td> <td colspan='1' >             6.0 </td> <td colspan='1' >  another string </td> <td colspan='1' >           False </td> <td colspan='1' > 2023-12-02 00:0 </td> <tr>\n",
       "<td colspan='1' >               4 </td> <td colspan='1' >             5.0 </td> <td colspan='1' >             6.0 </td> <td colspan='1' >  another string </td> <td colspan='1' >            True </td> <td colspan='1' > 2023-12-02 00:0 </td> <tr>\n",
       "<tr>\n",
       "<td colspan='6' style=\"text-align: left;\"> [4 rows x 5 columns] </td> <tr>\n",
       "</table>"
      ],
      "text/plain": [
       "<IPython.core.display.HTML object>"
      ]
     },
     "metadata": {},
     "output_type": "display_data"
    }
   ],
   "source": [
    "dg.head()"
   ]
  },
  {
   "cell_type": "markdown",
   "id": "511308a9-8ac2-4a06-aa3f-6598319cad6f",
   "metadata": {},
   "source": [
    "It is able to convert it to a boolean, True."
   ]
  },
  {
   "cell_type": "markdown",
   "id": "bf953c7f-9939-433f-a039-d0284e20efe2",
   "metadata": {},
   "source": [
    "But that doesn't mean it can convert any value to any type. Let's try to append the value \"Nope!\" to a float column:"
   ]
  },
  {
   "cell_type": "code",
   "execution_count": 40,
   "id": "e041ef32-a6fc-47e4-9be7-e916678fc8e3",
   "metadata": {},
   "outputs": [
    {
     "ename": "Exception",
     "evalue": "Appending to a DataGrid on disk is slow: use DataGrid.extend([row, row, ...]) instead",
     "output_type": "error",
     "traceback": [
      "\u001b[0;31m---------------------------------------------------------------------------\u001b[0m",
      "\u001b[0;31mException\u001b[0m                                 Traceback (most recent call last)",
      "Input \u001b[0;32mIn [40]\u001b[0m, in \u001b[0;36m<cell line: 1>\u001b[0;34m()\u001b[0m\n\u001b[0;32m----> 1\u001b[0m \u001b[43mdg\u001b[49m\u001b[38;5;241;43m.\u001b[39;49m\u001b[43mappend\u001b[49m\u001b[43m(\u001b[49m\u001b[43m[\u001b[49m\u001b[38;5;124;43m\"\u001b[39;49m\u001b[38;5;124;43mNope!\u001b[39;49m\u001b[38;5;124;43m\"\u001b[39;49m\u001b[43m,\u001b[49m\u001b[43m \u001b[49m\u001b[38;5;241;43m6\u001b[39;49m\u001b[43m,\u001b[49m\u001b[43m \u001b[49m\u001b[38;5;124;43m\"\u001b[39;49m\u001b[38;5;124;43manother string\u001b[39;49m\u001b[38;5;124;43m\"\u001b[39;49m\u001b[43m,\u001b[49m\u001b[43m \u001b[49m\u001b[38;5;241;43m87\u001b[39;49m\u001b[43m,\u001b[49m\u001b[43m \u001b[49m\u001b[38;5;124;43m\"\u001b[39;49m\u001b[38;5;124;43m2023/12/02\u001b[39;49m\u001b[38;5;124;43m\"\u001b[39;49m\u001b[43m]\u001b[49m\u001b[43m)\u001b[49m\n",
      "File \u001b[0;32m~/comet/kangas/backend/kangas/datatypes/datagrid.py:1123\u001b[0m, in \u001b[0;36mDataGrid.append\u001b[0;34m(self, row)\u001b[0m\n\u001b[1;32m   1114\u001b[0m \u001b[38;5;124;03m\"\"\"\u001b[39;00m\n\u001b[1;32m   1115\u001b[0m \u001b[38;5;124;03mAppend this row onto the datagrid data.\u001b[39;00m\n\u001b[1;32m   1116\u001b[0m \n\u001b[0;32m   (...)\u001b[0m\n\u001b[1;32m   1120\u001b[0m \u001b[38;5;124;03m```\u001b[39;00m\n\u001b[1;32m   1121\u001b[0m \u001b[38;5;124;03m\"\"\"\u001b[39;00m\n\u001b[1;32m   1122\u001b[0m \u001b[38;5;28;01mif\u001b[39;00m \u001b[38;5;28mself\u001b[39m\u001b[38;5;241m.\u001b[39m_on_disk:\n\u001b[0;32m-> 1123\u001b[0m     \u001b[38;5;28;01mraise\u001b[39;00m \u001b[38;5;167;01mException\u001b[39;00m(\n\u001b[1;32m   1124\u001b[0m         \u001b[38;5;124m\"\u001b[39m\u001b[38;5;124mAppending to a DataGrid on disk is slow: use DataGrid.extend([row, row, ...]) instead\u001b[39m\u001b[38;5;124m\"\u001b[39m\n\u001b[1;32m   1125\u001b[0m     )\n\u001b[1;32m   1127\u001b[0m \u001b[38;5;28mself\u001b[39m\u001b[38;5;241m.\u001b[39mextend([row])\n",
      "\u001b[0;31mException\u001b[0m: Appending to a DataGrid on disk is slow: use DataGrid.extend([row, row, ...]) instead"
     ]
    }
   ],
   "source": [
    "dg.extend([[\"Nope!\", 6, \"another string\", 87, \"2023/12/02\"]])"
   ]
  },
  {
   "cell_type": "markdown",
   "id": "84a65179-8767-4133-ae27-1d346897b91e",
   "metadata": {},
   "source": [
    "And indeed, nope that doesn't work."
   ]
  },
  {
   "cell_type": "markdown",
   "id": "94f20034-ebcd-4c31-bf3f-975b10341eea",
   "metadata": {},
   "source": [
    "## Specifying Columns\n",
    "\n",
    "If you would like, you can name the columns when you first create a DataGrid:"
   ]
  },
  {
   "cell_type": "code",
   "execution_count": 41,
   "id": "5ae4c885-9520-4022-9876-bccc316b3ff2",
   "metadata": {},
   "outputs": [],
   "source": [
    "dg = kg.DataGrid(name=\"Example 1\", columns=[\"Category\", \"Loss\", \"Fitness\", \"Timestamp\"])"
   ]
  },
  {
   "cell_type": "markdown",
   "id": "4cddb2fe-42c2-49dd-b64e-cb94b8982a9f",
   "metadata": {},
   "source": [
    "## Making Large DataGrids\n",
    "\n",
    "If you can create your DataGrid in memory, that is much faster. However, if you need to create larger datagrids, you can save the DataGrid first, and then append or extend after it is on disk."
   ]
  },
  {
   "cell_type": "code",
   "execution_count": 42,
   "id": "47e10148-b064-492e-834f-81d30aae461f",
   "metadata": {},
   "outputs": [],
   "source": [
    "import random\n",
    "import datetime"
   ]
  },
  {
   "cell_type": "code",
   "execution_count": 43,
   "id": "0c1fdaf1-0df9-494e-ae42-40f3444358f3",
   "metadata": {},
   "outputs": [],
   "source": [
    "for i in range(10000):\n",
    "    dg.append([\n",
    "        random.choice([\"dog\", \"cat\", \"mouse\", \"duck\"]), \n",
    "        random.random() - 2.0, \n",
    "        random.random() * 10, \n",
    "        datetime.datetime.now()\n",
    "    ])"
   ]
  },
  {
   "cell_type": "code",
   "execution_count": 44,
   "id": "3ae2bcb6-e4be-4131-86c2-a217e90147c4",
   "metadata": {},
   "outputs": [
    {
     "name": "stdout",
     "output_type": "stream",
     "text": [
      "Saving data...\n"
     ]
    },
    {
     "name": "stderr",
     "output_type": "stream",
     "text": [
      "100%|█████████████████████████████████████████████████████████████████████████████████████████████████████████████████████████████████████████████████████████████████████| 10000/10000 [00:00<00:00, 50670.29it/s]\n"
     ]
    },
    {
     "name": "stdout",
     "output_type": "stream",
     "text": [
      "Saving datagrid to 'example-1.datagrid'...\n",
      "Extending data...\n"
     ]
    },
    {
     "name": "stderr",
     "output_type": "stream",
     "text": [
      "100%|█████████████████████████████████████████████████████████████████████████████████████████████████████████████████████████████████████████████████████████████████████| 10000/10000 [00:00<00:00, 15379.24it/s]\n"
     ]
    },
    {
     "name": "stdout",
     "output_type": "stream",
     "text": [
      "Computing statistics...\n"
     ]
    },
    {
     "name": "stderr",
     "output_type": "stream",
     "text": [
      "100%|████████████████████████████████████████████████████████████████████████████████████████████████████████████████████████████████████████████████████████████████████████████████| 5/5 [00:00<00:00, 87.72it/s]\n"
     ]
    }
   ],
   "source": [
    "dg.save()"
   ]
  },
  {
   "cell_type": "code",
   "execution_count": 45,
   "id": "6eca88e2-968c-4c58-81f0-57af2886ee95",
   "metadata": {},
   "outputs": [
    {
     "data": {
      "text/html": [
       "\n",
       "        <iframe\n",
       "            width=\"100%\"\n",
       "            height=\"750px\"\n",
       "            src=\"http://127.0.1.1:4000/?datagrid=example-1.datagrid\"\n",
       "            frameborder=\"0\"\n",
       "            allowfullscreen\n",
       "            \n",
       "        ></iframe>\n",
       "        "
      ],
      "text/plain": [
       "<IPython.lib.display.IFrame at 0x7efdc15cd1c0>"
      ]
     },
     "metadata": {},
     "output_type": "display_data"
    }
   ],
   "source": [
    "dg.show()"
   ]
  },
  {
   "cell_type": "markdown",
   "id": "42f2c688-392b-48f9-9097-712fbb3dde76",
   "metadata": {},
   "source": [
    "Try grouping the above DataGrid on category. \n",
    "\n",
    "1. Is this a balanced dataset?\n",
    "2. What is the average fitness for dogs? For ducks? Which is doing better?"
   ]
  }
 ],
 "metadata": {
  "kernelspec": {
   "display_name": "Python 3 (ipykernel)",
   "language": "python",
   "name": "python3"
  },
  "language_info": {
   "codemirror_mode": {
    "name": "ipython",
    "version": 3
   },
   "file_extension": ".py",
   "mimetype": "text/x-python",
   "name": "python",
   "nbconvert_exporter": "python",
   "pygments_lexer": "ipython3",
   "version": "3.8.5"
  },
  "widgets": {
   "application/vnd.jupyter.widget-state+json": {
    "state": {},
    "version_major": 2,
    "version_minor": 0
   }
  }
 },
 "nbformat": 4,
 "nbformat_minor": 5
}
