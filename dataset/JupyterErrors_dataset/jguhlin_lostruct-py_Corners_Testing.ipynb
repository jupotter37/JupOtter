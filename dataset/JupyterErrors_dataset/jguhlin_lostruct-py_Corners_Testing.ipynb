{
 "cells": [
  {
   "cell_type": "code",
   "execution_count": 8,
   "id": "79d2c6c2-1a9c-43dd-8821-d8c5e71ddeb8",
   "metadata": {},
   "outputs": [
    {
     "name": "stdout",
     "output_type": "stream",
     "text": [
      "lostruct\n"
     ]
    }
   ],
   "source": [
    "import os\n",
    "print(os.environ['CONDA_DEFAULT_ENV'])\n",
    "\n",
    "import numpy as np\n",
    "import numpy.random as rand\n",
    "import lostruct\n",
    "import matplotlib.pyplot as plt"
   ]
  },
  {
   "cell_type": "code",
   "execution_count": 33,
   "id": "7ca56952-38a6-4c07-ba14-21885951a375",
   "metadata": {},
   "outputs": [],
   "source": [
    "rng = rand.SFC64(seed=42)\n",
    "gen = rand.Generator(rng)"
   ]
  },
  {
   "cell_type": "code",
   "execution_count": 35,
   "id": "113f0754-400b-4a1d-9b55-e352e5676c60",
   "metadata": {},
   "outputs": [],
   "source": [
    "rand_data = gen.random((100, 2))"
   ]
  },
  {
   "cell_type": "code",
   "execution_count": 39,
   "id": "bea3ba0a-ab92-4c3e-801b-1533ff4550a5",
   "metadata": {},
   "outputs": [
    {
     "data": {
      "text/plain": [
       "array([56, 63, 49])"
      ]
     },
     "execution_count": 39,
     "metadata": {},
     "output_type": "execute_result"
    }
   ],
   "source": [
    "outliers = lostruct.corners(rand_data, prop=0.05)\n",
    "outliers[2]"
   ]
  },
  {
   "cell_type": "code",
   "execution_count": 12,
   "id": "02236846-1da6-4429-8d90-ed8fefd75be0",
   "metadata": {},
   "outputs": [
    {
     "data": {
      "image/png": "[encoded data removed]",
      "text/plain": [
       "<Figure size 432x288 with 1 Axes>"
      ]
     },
     "metadata": {
      "needs_background": "light"
     },
     "output_type": "display_data"
    }
   ],
   "source": [
    "plt.scatter(x=rand_data[:, 0], y=rand_data[:, 1])\n",
    "\n",
    "for i in outliers:\n",
    "    plt.scatter(x=rand_data[i, 0], y=rand_data[i, 1], color=\"coral\")\n",
    "    \n",
    "plt.show()"
   ]
  },
  {
   "cell_type": "code",
   "execution_count": null,
   "id": "4bdf8625-c50c-441d-98c2-2013589722b2",
   "metadata": {},
   "outputs": [],
   "source": []
  },
  {
   "cell_type": "code",
   "execution_count": 41,
   "id": "5db3dc5c-5b3a-464c-b9c4-e85cb78f1b2c",
   "metadata": {},
   "outputs": [],
   "source": [
    "JAX_BACKEND=None"
   ]
  },
  {
   "cell_type": "code",
   "execution_count": 43,
   "id": "f4aa69c9-3a43-4401-a974-2d017a16e087",
   "metadata": {},
   "outputs": [
    {
     "name": "stdout",
     "output_type": "stream",
     "text": [
      "None\n"
     ]
    }
   ],
   "source": [
    "print(JAX_BACKEND)"
   ]
  },
  {
   "cell_type": "code",
   "execution_count": 44,
   "id": "23816424-a6bb-41c6-8275-4b07994db7ce",
   "metadata": {},
   "outputs": [
    {
     "ename": "NameError",
     "evalue": "name 'BLAHBLAH' is not defined",
     "output_type": "error",
     "traceback": [
      "\u001b[0;31m-------------------------------------------------------------\u001b[0m",
      "\u001b[0;31mNameError\u001b[0m                   Traceback (most recent call last)",
      "\u001b[0;32m<ipython-input-44-7a38aa0a8f89>\u001b[0m in \u001b[0;36m<module>\u001b[0;34m\u001b[0m\n\u001b[0;32m----> 1\u001b[0;31m \u001b[0;32mif\u001b[0m \u001b[0mBLAHBLAH\u001b[0m \u001b[0;34m==\u001b[0m \u001b[0;32mNone\u001b[0m\u001b[0;34m:\u001b[0m\u001b[0;34m\u001b[0m\u001b[0;34m\u001b[0m\u001b[0m\n\u001b[0m\u001b[1;32m      2\u001b[0m     \u001b[0mprint\u001b[0m\u001b[0;34m(\u001b[0m\u001b[0;34m\"yep\"\u001b[0m\u001b[0;34m)\u001b[0m\u001b[0;34m\u001b[0m\u001b[0;34m\u001b[0m\u001b[0m\n",
      "\u001b[0;31mNameError\u001b[0m: name 'BLAHBLAH' is not defined"
     ]
    }
   ],
   "source": [
    "if BLAHBLAH == None:\n",
    "    print(\"yep\")"
   ]
  },
  {
   "cell_type": "code",
   "execution_count": null,
   "id": "bcf65cf2-e2f6-46a7-8423-aef26b04d04f",
   "metadata": {},
   "outputs": [],
   "source": []
  }
 ],
 "metadata": {
  "kernelspec": {
   "display_name": "Python 3",
   "language": "python",
   "name": "python3"
  },
  "language_info": {
   "codemirror_mode": {
    "name": "ipython",
    "version": 3
   },
   "file_extension": ".py",
   "mimetype": "text/x-python",
   "name": "python",
   "nbconvert_exporter": "python",
   "pygments_lexer": "ipython3",
   "version": "3.9.7"
  }
 },
 "nbformat": 4,
 "nbformat_minor": 5
}
