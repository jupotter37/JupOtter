{
 "cells": [
  {
   "cell_type": "code",
   "execution_count": 1,
   "metadata": {
    "collapsed": true
   },
   "outputs": [],
   "source": [
    "import socket\n",
    "import struct\n",
    "import binascii\n",
    "import time\n",
    "import json\n",
    "import urllib2\n",
    "import datetime"
   ]
  },
  {
   "cell_type": "code",
   "execution_count": 2,
   "metadata": {
    "collapsed": false
   },
   "outputs": [
    {
     "ename": "AttributeError",
     "evalue": "'module' object has no attribute 'AF_PACKET'",
     "output_type": "error",
     "traceback": [
      "\u001b[0;31m---------------------------------------------------------------------------\u001b[0m",
      "\u001b[0;31mAttributeError\u001b[0m                            Traceback (most recent call last)",
      "\u001b[0;32m<ipython-input-2-36ab310d5703>\u001b[0m in \u001b[0;36m<module>\u001b[0;34m()\u001b[0m\n\u001b[1;32m     62\u001b[0m \u001b[0;34m\u001b[0m\u001b[0m\n\u001b[1;32m     63\u001b[0m \u001b[0;34m\u001b[0m\u001b[0m\n\u001b[0;32m---> 64\u001b[0;31m \u001b[0mrawSocket\u001b[0m \u001b[0;34m=\u001b[0m \u001b[0msocket\u001b[0m\u001b[0;34m.\u001b[0m\u001b[0msocket\u001b[0m\u001b[0;34m(\u001b[0m\u001b[0msocket\u001b[0m\u001b[0;34m.\u001b[0m\u001b[0mAF_PACKET\u001b[0m\u001b[0;34m,\u001b[0m \u001b[0msocket\u001b[0m\u001b[0;34m.\u001b[0m\u001b[0mSOCK_RAW\u001b[0m\u001b[0;34m,\u001b[0m \u001b[0msocket\u001b[0m\u001b[0;34m.\u001b[0m\u001b[0mhtons\u001b[0m\u001b[0;34m(\u001b[0m\u001b[0;36m0x0003\u001b[0m\u001b[0;34m)\u001b[0m\u001b[0;34m)\u001b[0m\u001b[0;34m\u001b[0m\u001b[0m\n\u001b[0m\u001b[1;32m     65\u001b[0m \u001b[0;34m\u001b[0m\u001b[0m\n\u001b[1;32m     66\u001b[0m \u001b[0;32mwhile\u001b[0m \u001b[0mTrue\u001b[0m\u001b[0;34m:\u001b[0m\u001b[0;34m\u001b[0m\u001b[0m\n",
      "\u001b[0;31mAttributeError\u001b[0m: 'module' object has no attribute 'AF_PACKET'"
     ]
    }
   ],
   "source": [
    "# The following script is an adjusted version of Aaron Bell's script\n",
    "# http://www.aaronbell.com/how-to-hack-amazons-wifi-button/\n",
    "\n",
    "# improvement from original script:\n",
    "# - New dash buttons can be added by just adding a new nickname to the macs dictionary\n",
    "# - Will not trigger multiple events for one press (see trigger_timeout below)\n",
    "\n",
    "# if you want to run this script as an ubuntu service, check out\n",
    "# http://askubuntu.com/questions/175751/how-do-i-run-a-python-script-in-the-background-and-restart-it-after-a-crash\n",
    "\n",
    "\n",
    "\n",
    "# Use your own IFTTT key, not this fake one\n",
    "ifttt_key = 'fakekey'\n",
    "# the number of seconds after a dash button is pressed that it will not trigger another event\n",
    "# the reason is that dash buttons may try to send ARP onto the network during several seconds\n",
    "# before giving up\n",
    "trigger_timeout = 5\n",
    "\n",
    "# Replace these fake MAC addresses and nicknames with your own\n",
    "# the nickname of the dash buttons is what will be used as the event name\n",
    "# when triggering the IFTTT maker channel, e.g. https://maker.ifttt.com/trigger/<nickname>/with/key/<ifttt_key>\n",
    "macs = {\n",
    "    '747500000001' : 'dash_gerber',\n",
    "    '747500000002' : 'dash_elements1',\n",
    "    '747500000003' : 'dash_elements2',\n",
    "    '747500000004' : 'dash_cottonelle',\n",
    "    '747500000005' : 'dash_huggies'\n",
    "}\n",
    "\n",
    "# for recording the last time the event was triggered to avoid multiple events fired\n",
    "# for one press on the dash button\n",
    "trigger_time = {}\n",
    "\n",
    "# Trigger a IFTTT URL where the event is the same as the strings in macs (e.g. dash_gerber)\n",
    "# Body includes JSON with timestamp values.\n",
    "def trigger_url_generic(trigger):\n",
    "    data = '{ \"value1\" : \"' + time.strftime(\"%Y-%m-%d\") + '\", \"value2\" : \"' + time.strftime(\"%H:%M\") + '\" }'\n",
    "    req = urllib2.Request( 'https://maker.ifttt.com/trigger/'+trigger+'/with/key/'+ifttt_key , data, {'Content-Type': 'application/json'})\n",
    "    f = urllib2.urlopen(req)\n",
    "    response = f.read()\n",
    "    f.close()\n",
    "    return response\n",
    "\n",
    "def record_trigger(trigger):\n",
    "    print 'triggering '+ trigger +' event, response: ' + trigger_url_generic(trigger)\n",
    "\n",
    "def is_within_secs(last_time, diff):\n",
    "    return (datetime.datetime.now() - last_time).total_seconds() < (diff +1)\n",
    "\n",
    "# check if event has triggered within the timeout already\n",
    "def has_already_triggered(trigger):\n",
    "    global trigger_time\n",
    "    \n",
    "    if trigger in trigger_time:\n",
    "        if (is_within_secs(trigger_time[trigger], trigger_timeout)):\n",
    "            return True\n",
    "\n",
    "    trigger_time[trigger] = datetime.datetime.now()\n",
    "    return False\n",
    "\n",
    "\n",
    "\n",
    "rawSocket = socket.socket(socket.AF_PACKET, socket.SOCK_RAW, socket.htons(0x0003))\n",
    "\n",
    "while True:\n",
    "    packet = rawSocket.recvfrom(2048)\n",
    "    ethernet_header = packet[0][0:14]\n",
    "    ethernet_detailed = struct.unpack(\"!6s6s2s\", ethernet_header)\n",
    "    # skip non-ARP packets\n",
    "    ethertype = ethernet_detailed[2]\n",
    "    if ethertype != '\\x08\\x06':\n",
    "        continue\n",
    "    arp_header = packet[0][14:42]\n",
    "    arp_detailed = struct.unpack(\"2s2s1s1s2s6s4s6s4s\", arp_header)\n",
    "    source_mac = binascii.hexlify(arp_detailed[5])\n",
    "    source_ip = socket.inet_ntoa(arp_detailed[6])\n",
    "    dest_ip = socket.inet_ntoa(arp_detailed[8])\n",
    "    if source_mac in macs:\n",
    "        \n",
    "        if has_already_triggered(macs[source_mac]):\n",
    "            print \"Culled duplicate trigger \" + macs[source_mac]\n",
    "        else:\n",
    "            record_trigger(macs[source_mac])\n",
    "\n",
    "    elif source_ip == '0.0.0.0':\n",
    "        print \"Unknown dash button detected with MAC \" + source_mac\n"
   ]
  },
  {
   "cell_type": "code",
   "execution_count": 3,
   "metadata": {
    "collapsed": true
   },
   "outputs": [],
   "source": [
    "?socket.socket"
   ]
  },
  {
   "cell_type": "code",
   "execution_count": null,
   "metadata": {
    "collapsed": true
   },
   "outputs": [],
   "source": []
  }
 ],
 "metadata": {
  "kernelspec": {
   "display_name": "Python [conda env:2_7_env]",
   "language": "python",
   "name": "conda-env-2_7_env-py"
  },
  "language_info": {
   "codemirror_mode": {
    "name": "ipython",
    "version": 2
   },
   "file_extension": ".py",
   "mimetype": "text/x-python",
   "name": "python",
   "nbconvert_exporter": "python",
   "pygments_lexer": "ipython2",
   "version": "2.7.12"
  }
 },
 "nbformat": 4,
 "nbformat_minor": 1
}
