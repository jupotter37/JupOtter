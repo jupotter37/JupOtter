{
 "cells": [
  {
   "cell_type": "code",
   "execution_count": 1,
   "metadata": {},
   "outputs": [
    {
     "ename": "ModuleNotFoundError",
     "evalue": "No module named 'CQHDimensionalPhenotyper'",
     "output_type": "error",
     "traceback": [
      "\u001b[0;31m---------------------------------------------------------------------------\u001b[0m",
      "\u001b[0;31mModuleNotFoundError\u001b[0m                       Traceback (most recent call last)",
      "\u001b[0;32m<ipython-input-1-a987f0bd0593>\u001b[0m in \u001b[0;36m<module>\u001b[0;34m\u001b[0m\n\u001b[1;32m      1\u001b[0m \u001b[0;32mimport\u001b[0m \u001b[0mos\u001b[0m\u001b[0;34m\u001b[0m\u001b[0;34m\u001b[0m\u001b[0m\n\u001b[1;32m      2\u001b[0m \u001b[0;32mimport\u001b[0m \u001b[0mpandas\u001b[0m \u001b[0;32mas\u001b[0m \u001b[0mpd\u001b[0m\u001b[0;34m\u001b[0m\u001b[0;34m\u001b[0m\u001b[0m\n\u001b[0;32m----> 3\u001b[0;31m \u001b[0;32mimport\u001b[0m \u001b[0mCQHDimensionalPhenotyper\u001b[0m \u001b[0;32mas\u001b[0m \u001b[0mcqh\u001b[0m\u001b[0;34m\u001b[0m\u001b[0;34m\u001b[0m\u001b[0m\n\u001b[0m",
      "\u001b[0;31mModuleNotFoundError\u001b[0m: No module named 'CQHDimensionalPhenotyper'"
     ]
    }
   ],
   "source": [
    "import os\n",
    "import pandas as pd\n",
    "import CQHDimensionalPhenotyper as cqh"
   ]
  },
  {
   "cell_type": "markdown",
   "metadata": {},
   "source": [
    "# Score the corpus"
   ]
  },
  {
   "cell_type": "code",
   "execution_count": null,
   "metadata": {},
   "outputs": [],
   "source": [
    "pmids = pd.read_csv(\"../data/metadata.csv\", encoding=\"latin-1\", index_col=None)\n",
    "pmids = pmids[\"PMID\"].dropna().astype(int).values\n",
    "pmids.shape"
   ]
  },
  {
   "cell_type": "code",
   "execution_count": null,
   "metadata": {},
   "outputs": [],
   "source": [
    "domains = [\"negative\", \"positive\", \"cognitive\", \"social\", \"arousal_regulatory\"]\n",
    "scores = {domain: [] for domain in domains}\n",
    "for pmid in pmids:\n",
    "    raw_text = open(\"../../nlp/corpus/{}.txt\".format(pmid), \"r\").read()\n",
    "    results = cqh.count_document(raw_text)\n",
    "    results = cqh.reduce_counts(results)\n",
    "    for domain in domains:\n",
    "        scores[domain].append(results[domain])"
   ]
  },
  {
   "cell_type": "code",
   "execution_count": null,
   "metadata": {},
   "outputs": [],
   "source": [
    "df = pd.DataFrame(scores, index=pmids)\n",
    "df.to_csv(\"data/scores_cqh.csv\", columns=domains)"
   ]
  },
  {
   "cell_type": "markdown",
   "metadata": {},
   "source": [
    "# Format the term lists"
   ]
  },
  {
   "cell_type": "code",
   "execution_count": null,
   "metadata": {},
   "outputs": [],
   "source": [
    "doms, tkns = [], []\n",
    "labels = [\"NEGATIVE_VALENCE\", \"POSITIVE_VALENCE\", \"COGNITIVE_SYSTEMS\", \"SOCIAL_PROCESSES\", \"AROUSAL_REGULATION\"]\n",
    "for i, domain in enumerate(domains):\n",
    "    dom_tkns = cqh.DOMAIN_TOKEN_MAP[domain]\n",
    "    tkns += dom_tkns\n",
    "    doms += [labels[i]] * len(dom_tkns)\n",
    "seed_df = pd.DataFrame({\"DOMAIN\": doms, \"TOKEN\": tkns})\n",
    "seed_df.to_csv(\"lists/lists_cqh.csv\", index=None)"
   ]
  },
  {
   "cell_type": "code",
   "execution_count": null,
   "metadata": {},
   "outputs": [],
   "source": []
  }
 ],
 "metadata": {
  "kernelspec": {
   "display_name": "Python [conda env:ontol]",
   "language": "python",
   "name": "conda-env-ontol-py"
  },
  "language_info": {
   "codemirror_mode": {
    "name": "ipython",
    "version": 3
   },
   "file_extension": ".py",
   "mimetype": "text/x-python",
   "name": "python",
   "nbconvert_exporter": "python",
   "pygments_lexer": "ipython3",
   "version": "3.6.8"
  }
 },
 "nbformat": 4,
 "nbformat_minor": 2
}
