{
 "cells": [
  {
   "cell_type": "markdown",
   "metadata": {},
   "source": [
    "## Calculating Codon Adaptation Index according (CAI) according to Sharp et al. 1987\n",
    "\n",
    "The codon adaptation index (CAI) measures the level of adaptation of a gene to a certain organism. \n",
    "\n",
    "It was first introduced by [Sharp 1987](https://www.ncbi.nlm.nih.gov/pubmed/3547335). CAI measures the deviation of the codons in a given protein coding gene sequence with respect to the codons used in a reference set of genes. See the [wikipedia](https://en.wikipedia.org/wiki/Codon_Adaptation_Index) article on CAI.\n",
    "\n",
    "There are at least two python implementations for calculating CAI.\n",
    "\n",
    "[Biopython](http://biopython.org) has a module called [CodonUsage](http://biopython.org/DIST/docs/api/Bio.SeqUtils.CodonUsage.CodonAdaptationIndex-class.html). This module does not contain any of the necessary reference data in order to calculate CAI for yeast. \n",
    "Worse, the fidelity of the Biopython module had been questioned in this exchange on [Biostars](https://www.biostars.org/p/290485/).\n",
    "\n",
    "The python module [CAI](https://pypi.org/project/CAI/) is an alternative implementation.\n",
    "\n",
    "The purpose of this notebook is to test the fidelity of both the Biopython and CAI modules using the original data from Sharp 1987.\n",
    "\n",
    "Codon adaptation data was tabulated in Table 1 [Sharp 1987](https://www.ncbi.nlm.nih.gov/pubmed/3547335).\n",
    "\n",
    "![Sharp Table 1](sharp_table_1.png)"
   ]
  },
  {
   "cell_type": "markdown",
   "metadata": {},
   "source": [
    "The Sharp Table 1 was copied and edited from the pdf version of the publication. \n",
    "\n",
    "The order of the columns remains the same.\n",
    "\n",
    "RSCU and weights (w) are tabulated for 61 of the 64 codons (missing are the stop codons TAA, TAG and TGA).\n",
    "\n",
    "\n",
    "\n",
    "\n"
   ]
  },
  {
   "cell_type": "code",
   "execution_count": 1,
   "metadata": {},
   "outputs": [],
   "source": [
    "sharp_table_1 = \"\"\"\n",
    "AA Tri RSCUe we RSCUy wy\n",
    "Phe TTT 0.456 0.296 0.203 0.113\n",
    "Phe TTC 1.544 1.000 1.797 1.000\n",
    "Leu TTA 0.106 0.020 0.601 0.117\n",
    "Leu TTG 0.106 0.020 5.141 1.000\n",
    "Leu CTT 0.225 0.042 0.029 0.006\n",
    "Leu CTC 0.198 0.037 0.014 0.003\n",
    "Leu CTA 0.040 0.007 0.200 0.039\n",
    "Leu CTG 5.326 1.000 0.014 0.003\n",
    "Ile ATT 0.466 0.185 1.352 0.823\n",
    "Ile ATC 2.525 1.000 1.643 1.000\n",
    "Ile ATA 0.008 0.003 0.005 0.003\n",
    "Met ATG 1.000 1.000 1.000 1.000\n",
    "Val GTT 2.244 1.000 2.161 1.000\n",
    "Val GTC 0.148 0.066 1.796 0.831\n",
    "Val GTA 1.111 0.495 0.004 0.002\n",
    "Val GTG 0.496 0.221 0.039 0.018\n",
    "Ser TCT 2.571 1.000 3.359 1.000\n",
    "Ser TCC 1.912 0.744 2.327 0.693\n",
    "Ser TCA 0.198 0.077 0.122 0.036\n",
    "Ser TCG 0.044 0.017 0.017 0.005\n",
    "Pro CCT 0.231 0.070 0.179 0.047\n",
    "Pro CCC 0.038 0.012 0.036 0.009\n",
    "Pro CCA 0.442 0.135 3.776 1.000\n",
    "Pro CCG 3.288 1.000 0.009 0.002\n",
    "Thr ACT 1.804 0.965 1.899 0.921\n",
    "Thr ACC 1.870 1.000 2.063 1.000\n",
    "Thr ACA 0.141 0.076 0.025 0.012\n",
    "Thr ACG 0.185 0.099 0.013 0.006\n",
    "Ala GCT 1.877 1.000 3.005 1.000\n",
    "Ala GCC 0.228 0.122 0.948 0.316\n",
    "Ala GCA 1.099 0.586 0.044 0.015\n",
    "Ala GCG 0.796 0.424 0.004 0.001\n",
    "Tyr TAT 0.386 0.239 0.132 0.071\n",
    "Tyr TAC 1.614 1.000 1.868 1.000\n",
    "His CAT 0.451 0.291 0.394 0.245\n",
    "His CAC 1.549 1.000 1.606 1.000\n",
    "Gln CAA 0.220 0.124 1.987 1.000\n",
    "Gln CAG 1.780 1.000 0.013 0.007\n",
    "Asn AAT 0.097 0.051 0.100 0.053\n",
    "Asn AAC 1.903 1.000 1.900 1.000\n",
    "Lys AAA 1.596 1.000 0.237 0.135\n",
    "Lys AAG 0.404 0.253 1.763 1.000\n",
    "Asp GAT 0.605 0.434 0.713 0.554\n",
    "Asp GAC 1.395 1.000 1.287 1.000\n",
    "Glu GAA 1.589 1.000 1.968 1.000\n",
    "Glu GAG 0.411 0.259 0.032 0.016\n",
    "Cys TGT 0.667 0.500 1.857 1.000\n",
    "Cys TGC 1.333 1.000 0.143 0.077\n",
    "Trp TGG 1.000 1.000 1.000 1.000\n",
    "Arg CGT 4.380 1.000 0.718 0.137\n",
    "Arg CGC 1.561 0.356 0.008 0.002\n",
    "Arg CGA 0.017 0.004 0.008 0.002\n",
    "Arg CGG 0.017 0.004 0.008 0.002\n",
    "Ser AGT 0.220 0.085 0.070 0.021\n",
    "Ser AGC 1.055 0.410 0.105 0.031\n",
    "Arg AGA 0.017 0.004 5.241 1.000\n",
    "Arg AGG 0.008 0.002 0.017 0.003\n",
    "Gly GGT 2.283 1.000 3.898 1.000\n",
    "Gly GGC 1.652 0.724 0.077 0.020\n",
    "Gly GGA 0.022 0.010 0.009 0.002\n",
    "Gly GGG 0.043 0.019 0.017 0.004\"\"\""
   ]
  },
  {
   "cell_type": "markdown",
   "metadata": {},
   "source": [
    "Pandas can turn this text table into a dataframe"
   ]
  },
  {
   "cell_type": "code",
   "execution_count": 2,
   "metadata": {},
   "outputs": [],
   "source": [
    "import pandas as pd\n",
    "from io import StringIO"
   ]
  },
  {
   "cell_type": "code",
   "execution_count": 3,
   "metadata": {},
   "outputs": [],
   "source": [
    "sharp_df = pd.read_csv(StringIO(sharp_table_1.strip()), sep=\" \")"
   ]
  },
  {
   "cell_type": "markdown",
   "metadata": {},
   "source": [
    "The resulting dataframe seems to reflect the original table above."
   ]
  },
  {
   "cell_type": "code",
   "execution_count": 4,
   "metadata": {},
   "outputs": [
    {
     "data": {
      "text/html": [
       "<div>\n",
       "<style scoped>\n",
       "    .dataframe tbody tr th:only-of-type {\n",
       "        vertical-align: middle;\n",
       "    }\n",
       "\n",
       "    .dataframe tbody tr th {\n",
       "        vertical-align: top;\n",
       "    }\n",
       "\n",
       "    .dataframe thead th {\n",
       "        text-align: right;\n",
       "    }\n",
       "</style>\n",
       "<table border=\"1\" class=\"dataframe\">\n",
       "  <thead>\n",
       "    <tr style=\"text-align: right;\">\n",
       "      <th></th>\n",
       "      <th>AA</th>\n",
       "      <th>Tri</th>\n",
       "      <th>RSCUe</th>\n",
       "      <th>we</th>\n",
       "      <th>RSCUy</th>\n",
       "      <th>wy</th>\n",
       "    </tr>\n",
       "  </thead>\n",
       "  <tbody>\n",
       "    <tr>\n",
       "      <th>0</th>\n",
       "      <td>Phe</td>\n",
       "      <td>TTT</td>\n",
       "      <td>0.456</td>\n",
       "      <td>0.296</td>\n",
       "      <td>0.203</td>\n",
       "      <td>0.113</td>\n",
       "    </tr>\n",
       "    <tr>\n",
       "      <th>1</th>\n",
       "      <td>Phe</td>\n",
       "      <td>TTC</td>\n",
       "      <td>1.544</td>\n",
       "      <td>1.000</td>\n",
       "      <td>1.797</td>\n",
       "      <td>1.000</td>\n",
       "    </tr>\n",
       "    <tr>\n",
       "      <th>2</th>\n",
       "      <td>Leu</td>\n",
       "      <td>TTA</td>\n",
       "      <td>0.106</td>\n",
       "      <td>0.020</td>\n",
       "      <td>0.601</td>\n",
       "      <td>0.117</td>\n",
       "    </tr>\n",
       "    <tr>\n",
       "      <th>3</th>\n",
       "      <td>Leu</td>\n",
       "      <td>TTG</td>\n",
       "      <td>0.106</td>\n",
       "      <td>0.020</td>\n",
       "      <td>5.141</td>\n",
       "      <td>1.000</td>\n",
       "    </tr>\n",
       "    <tr>\n",
       "      <th>4</th>\n",
       "      <td>Leu</td>\n",
       "      <td>CTT</td>\n",
       "      <td>0.225</td>\n",
       "      <td>0.042</td>\n",
       "      <td>0.029</td>\n",
       "      <td>0.006</td>\n",
       "    </tr>\n",
       "    <tr>\n",
       "      <th>...</th>\n",
       "      <td>...</td>\n",
       "      <td>...</td>\n",
       "      <td>...</td>\n",
       "      <td>...</td>\n",
       "      <td>...</td>\n",
       "      <td>...</td>\n",
       "    </tr>\n",
       "    <tr>\n",
       "      <th>56</th>\n",
       "      <td>Arg</td>\n",
       "      <td>AGG</td>\n",
       "      <td>0.008</td>\n",
       "      <td>0.002</td>\n",
       "      <td>0.017</td>\n",
       "      <td>0.003</td>\n",
       "    </tr>\n",
       "    <tr>\n",
       "      <th>57</th>\n",
       "      <td>Gly</td>\n",
       "      <td>GGT</td>\n",
       "      <td>2.283</td>\n",
       "      <td>1.000</td>\n",
       "      <td>3.898</td>\n",
       "      <td>1.000</td>\n",
       "    </tr>\n",
       "    <tr>\n",
       "      <th>58</th>\n",
       "      <td>Gly</td>\n",
       "      <td>GGC</td>\n",
       "      <td>1.652</td>\n",
       "      <td>0.724</td>\n",
       "      <td>0.077</td>\n",
       "      <td>0.020</td>\n",
       "    </tr>\n",
       "    <tr>\n",
       "      <th>59</th>\n",
       "      <td>Gly</td>\n",
       "      <td>GGA</td>\n",
       "      <td>0.022</td>\n",
       "      <td>0.010</td>\n",
       "      <td>0.009</td>\n",
       "      <td>0.002</td>\n",
       "    </tr>\n",
       "    <tr>\n",
       "      <th>60</th>\n",
       "      <td>Gly</td>\n",
       "      <td>GGG</td>\n",
       "      <td>0.043</td>\n",
       "      <td>0.019</td>\n",
       "      <td>0.017</td>\n",
       "      <td>0.004</td>\n",
       "    </tr>\n",
       "  </tbody>\n",
       "</table>\n",
       "<p>61 rows × 6 columns</p>\n",
       "</div>"
      ],
      "text/plain": [
       "     AA  Tri  RSCUe     we  RSCUy     wy\n",
       "0   Phe  TTT  0.456  0.296  0.203  0.113\n",
       "1   Phe  TTC  1.544  1.000  1.797  1.000\n",
       "2   Leu  TTA  0.106  0.020  0.601  0.117\n",
       "3   Leu  TTG  0.106  0.020  5.141  1.000\n",
       "4   Leu  CTT  0.225  0.042  0.029  0.006\n",
       "..  ...  ...    ...    ...    ...    ...\n",
       "56  Arg  AGG  0.008  0.002  0.017  0.003\n",
       "57  Gly  GGT  2.283  1.000  3.898  1.000\n",
       "58  Gly  GGC  1.652  0.724  0.077  0.020\n",
       "59  Gly  GGA  0.022  0.010  0.009  0.002\n",
       "60  Gly  GGG  0.043  0.019  0.017  0.004\n",
       "\n",
       "[61 rows x 6 columns]"
      ]
     },
     "execution_count": 4,
     "metadata": {},
     "output_type": "execute_result"
    }
   ],
   "source": [
    "sharp_df"
   ]
  },
  {
   "cell_type": "markdown",
   "metadata": {},
   "source": [
    "Each row is combined into a dict"
   ]
  },
  {
   "cell_type": "code",
   "execution_count": 5,
   "metadata": {},
   "outputs": [],
   "source": [
    "RSCUe = dict(zip(sharp_df[\"Tri\"],round(sharp_df[\"RSCUe\"],3)))\n",
    "we = dict(zip(sharp_df[\"Tri\"],round(sharp_df[\"we\"],3)))\n",
    "RSCUy = dict(zip(sharp_df[\"Tri\"],round(sharp_df[\"RSCUy\"],3)))\n",
    "wy = dict(zip(sharp_df[\"Tri\"],round(sharp_df[\"wy\"],3)))"
   ]
  },
  {
   "cell_type": "code",
   "execution_count": 6,
   "metadata": {},
   "outputs": [
    {
     "data": {
      "text/plain": [
       "(0.456, 0.296, 0.203, 0.113)"
      ]
     },
     "execution_count": 6,
     "metadata": {},
     "output_type": "execute_result"
    }
   ],
   "source": [
    "RSCUe[\"TTT\"], we[\"TTT\"], RSCUy[\"TTT\"], wy[\"TTT\"]"
   ]
  },
  {
   "cell_type": "markdown",
   "metadata": {},
   "source": [
    "The `we` dict should be the same as the `SharpEcoliIndex` from biopython"
   ]
  },
  {
   "cell_type": "code",
   "execution_count": 7,
   "metadata": {},
   "outputs": [],
   "source": [
    "from Bio.SeqUtils.CodonUsageIndices import SharpEcoliIndex"
   ]
  },
  {
   "cell_type": "markdown",
   "metadata": {},
   "source": [
    "This is actually so:"
   ]
  },
  {
   "cell_type": "code",
   "execution_count": 8,
   "metadata": {},
   "outputs": [
    {
     "data": {
      "text/plain": [
       "True"
      ]
     },
     "execution_count": 8,
     "metadata": {},
     "output_type": "execute_result"
    }
   ],
   "source": [
    "SharpEcoliIndex == we"
   ]
  },
  {
   "cell_type": "markdown",
   "metadata": {},
   "source": [
    "The CAI is calculated for the _E. coli_ rpsU gene given as an example on page 1285 in Sharp 1987. \n",
    "This sequence is available from Genbank (NC_000913 REGION: 3210781..3210996).\n",
    "\n",
    "    atg ccg gta att aaa gta cgtgaaaacgagccgttcgacgtagctctgcgtcgctt\n",
    "        ||| ||| ||| ||| |||\n",
    "       .CCG.GTA.ATT.AAA.GTA.\n",
    "\n",
    "    caagcgttcctgcgaaaaagcaggtgttctggcggaagttcgtcgtcgtgagttctatgaaaaaccgactaccgaacgtaagcg\n",
    "    cgctaaagcttctgcagtgaaacgtcacgcgaagaaactggctcgcgaaaacgcacgccgcactcgtctgtactaa"
   ]
  },
  {
   "cell_type": "code",
   "execution_count": 9,
   "metadata": {},
   "outputs": [],
   "source": [
    "from pydna.genbank import genbank"
   ]
  },
  {
   "cell_type": "code",
   "execution_count": 10,
   "metadata": {},
   "outputs": [
    {
     "name": "stdout",
     "output_type": "stream",
     "text": [
      "ATGCCGGTAATTAAAGTACGTGAAAACGAGCCGTTCGACGTAGCTCTGCGTCGCTTCAAGCGTTCCTGCGAAAAAGCAGGTGTTCTGGCGGAAGTTCGTCGTCGTGAGTTCTATGAAAAACCGACTACCGAACGTAAGCGCGCTAAAGCTTCTGCAGTGAAACGTCACGCGAAGAAACTGGCTCGCGAAAACGCACGCCGCACTCGTCTGTACTAA\n"
     ]
    }
   ],
   "source": [
    "rpsU = str(genbank(\"NC_000913 REGION: 3210781..3210996\").seq)\n",
    "print(rpsU)"
   ]
  },
  {
   "cell_type": "markdown",
   "metadata": {},
   "source": [
    "The data can be used to test the prediction of the biopython module."
   ]
  },
  {
   "cell_type": "code",
   "execution_count": 11,
   "metadata": {},
   "outputs": [],
   "source": [
    "from Bio.SeqUtils.CodonUsage import CodonAdaptationIndex"
   ]
  },
  {
   "cell_type": "code",
   "execution_count": 12,
   "metadata": {},
   "outputs": [],
   "source": [
    "cai = CodonAdaptationIndex()"
   ]
  },
  {
   "cell_type": "code",
   "execution_count": 13,
   "metadata": {},
   "outputs": [],
   "source": [
    "cai.set_cai_index(we)"
   ]
  },
  {
   "cell_type": "code",
   "execution_count": 14,
   "metadata": {},
   "outputs": [
    {
     "data": {
      "text/plain": [
       "0.723"
      ]
     },
     "execution_count": 14,
     "metadata": {},
     "output_type": "execute_result"
    }
   ],
   "source": [
    "round(cai.cai_for_gene(rpsU), 3)"
   ]
  },
  {
   "cell_type": "markdown",
   "metadata": {},
   "source": [
    "The biopython module show a small difference, 0.723 instead of 0.726"
   ]
  },
  {
   "cell_type": "code",
   "execution_count": 15,
   "metadata": {},
   "outputs": [],
   "source": [
    "from CAI import CAI"
   ]
  },
  {
   "cell_type": "code",
   "execution_count": 16,
   "metadata": {},
   "outputs": [
    {
     "data": {
      "text/plain": [
       "0.726"
      ]
     },
     "execution_count": 16,
     "metadata": {},
     "output_type": "execute_result"
    }
   ],
   "source": [
    "round(CAI(rpsU, weights=we),3)"
   ]
  },
  {
   "cell_type": "markdown",
   "metadata": {},
   "source": [
    "The CAI module calculates exactly the same value for rpsU as the one given in the paper.\n",
    "\n",
    "Some other examples of CAI values were calculated for some genes from _E. coli_ and _S. cerevisiae_.\n",
    "\n",
    "These were listed in table 2 of Sharp 1987.\n",
    "\n",
    "[![Sharp Table 2](sharp_table_2.png)](sharp_table_2.png)\n",
    "\n",
    "The table was transferred to text format:\n",
    "\n",
    "| E.coli | E.coli      | yeast      | yeast       |\n",
    "|--------|-------------|------------|-------------|\n",
    "| gene   | CAI         | gene       | CAI         |\n",
    "| 17 RPs | 0.467-0.813 | 16 RPs     | 0.529-0.915 |\n",
    "| rpsU   | 0.726       | histones   | 0.529-0.915 |\n",
    "| rpoD   | 0.582       | 2u plasmid | 0.099-0.106 |\n",
    "| dnaG   | 0.271       | *GAL4*     | 0.116       |\n",
    "| lacI   | 0.296       | *PPR1*     | 0.114       |\n",
    "| trpR   | 0.267       | *GPD1*     | 0.929       |\n",
    "| lpp    | 0.849       | matA2      | 0.098       |\n",
    "| hsdS   | 0.218       |            |             |\n",
    "\n",
    "\n",
    "The yeast genes GAL4, PPR1 and GPD1 genes are easy to identify:\n",
    "\n",
    "- [GAL4](https://www.yeastgenome.org/locus/GAL4)\n",
    "- [PPR1](https://www.yeastgenome.org/locus/PPR1)\n",
    "- [TDH3](https://www.yeastgenome.org/locus/TDH3)\n",
    "\n",
    "Seguences for these are available from pygenome."
   ]
  },
  {
   "cell_type": "code",
   "execution_count": 17,
   "metadata": {},
   "outputs": [],
   "source": [
    "from pygenome import saccharomyces_cerevisiae as sg"
   ]
  },
  {
   "cell_type": "code",
   "execution_count": 18,
   "metadata": {},
   "outputs": [
    {
     "ename": "AttributeError",
     "evalue": "module 'pygenome.saccharomyces_cerevisiae' has no attribute 'stdgenes'",
     "output_type": "error",
     "traceback": [
      "\u001b[0;31m---------------------------------------------------------------------------\u001b[0m",
      "\u001b[0;31mAttributeError\u001b[0m                            Traceback (most recent call last)",
      "\u001b[0;32m/tmp/ipykernel_29939/4194794444.py\u001b[0m in \u001b[0;36m<module>\u001b[0;34m\u001b[0m\n\u001b[0;32m----> 1\u001b[0;31m \u001b[0mGAL4\u001b[0m \u001b[0;34m=\u001b[0m \u001b[0mstr\u001b[0m\u001b[0;34m(\u001b[0m\u001b[0msg\u001b[0m\u001b[0;34m.\u001b[0m\u001b[0mstdgenes\u001b[0m\u001b[0;34m[\u001b[0m\u001b[0;34m\"GAL4\"\u001b[0m\u001b[0;34m]\u001b[0m\u001b[0;34m.\u001b[0m\u001b[0mcds\u001b[0m\u001b[0;34m(\u001b[0m\u001b[0;34m)\u001b[0m\u001b[0;34m.\u001b[0m\u001b[0mseq\u001b[0m\u001b[0;34m)\u001b[0m\u001b[0;34m\u001b[0m\u001b[0;34m\u001b[0m\u001b[0m\n\u001b[0m\u001b[1;32m      2\u001b[0m \u001b[0mPPR1\u001b[0m \u001b[0;34m=\u001b[0m \u001b[0mstr\u001b[0m\u001b[0;34m(\u001b[0m\u001b[0msg\u001b[0m\u001b[0;34m.\u001b[0m\u001b[0mstdgenes\u001b[0m\u001b[0;34m[\u001b[0m\u001b[0;34m\"PPR1\"\u001b[0m\u001b[0;34m]\u001b[0m\u001b[0;34m.\u001b[0m\u001b[0mcds\u001b[0m\u001b[0;34m(\u001b[0m\u001b[0;34m)\u001b[0m\u001b[0;34m.\u001b[0m\u001b[0mseq\u001b[0m\u001b[0;34m)\u001b[0m\u001b[0;34m\u001b[0m\u001b[0;34m\u001b[0m\u001b[0m\n\u001b[1;32m      3\u001b[0m \u001b[0mGPD1\u001b[0m \u001b[0;34m=\u001b[0m \u001b[0mstr\u001b[0m\u001b[0;34m(\u001b[0m\u001b[0msg\u001b[0m\u001b[0;34m.\u001b[0m\u001b[0mstdgenes\u001b[0m\u001b[0;34m[\u001b[0m\u001b[0;34m\"TDH3\"\u001b[0m\u001b[0;34m]\u001b[0m\u001b[0;34m.\u001b[0m\u001b[0mcds\u001b[0m\u001b[0;34m(\u001b[0m\u001b[0;34m)\u001b[0m\u001b[0;34m.\u001b[0m\u001b[0mseq\u001b[0m\u001b[0;34m)\u001b[0m\u001b[0;34m\u001b[0m\u001b[0;34m\u001b[0m\u001b[0m\n",
      "\u001b[0;31mAttributeError\u001b[0m: module 'pygenome.saccharomyces_cerevisiae' has no attribute 'stdgenes'"
     ]
    }
   ],
   "source": [
    "GAL4 = str(sg.stdgenes[\"GAL4\"].cds().seq)\n",
    "PPR1 = str(sg.stdgenes[\"PPR1\"].cds().seq)\n",
    "GPD1 = str(sg.stdgenes[\"TDH3\"].cds().seq)"
   ]
  },
  {
   "cell_type": "markdown",
   "metadata": {},
   "source": [
    "The biopython cai index is changed for the wy dict:"
   ]
  },
  {
   "cell_type": "code",
   "execution_count": 19,
   "metadata": {},
   "outputs": [],
   "source": [
    "cai.set_cai_index(wy)"
   ]
  },
  {
   "cell_type": "code",
   "execution_count": 20,
   "metadata": {},
   "outputs": [
    {
     "name": "stdout",
     "output_type": "stream",
     "text": [
      "0.116\n",
      "0.114\n",
      "0.924\n"
     ]
    }
   ],
   "source": [
    "print(round(cai.cai_for_gene(GAL4),3))\n",
    "print(round(cai.cai_for_gene(PPR1),3))\n",
    "print(round(cai.cai_for_gene(GPD1),3))"
   ]
  },
  {
   "cell_type": "markdown",
   "metadata": {},
   "source": [
    "The same genes and the same data produce almost the same result using the CAI module"
   ]
  },
  {
   "cell_type": "code",
   "execution_count": 21,
   "metadata": {},
   "outputs": [
    {
     "name": "stdout",
     "output_type": "stream",
     "text": [
      "0.116\n",
      "0.115\n",
      "0.924\n"
     ]
    }
   ],
   "source": [
    "print(round(CAI(GAL4, weights=wy),3))\n",
    "print(round(CAI(PPR1, weights=wy),3)) \n",
    "print(round(CAI(GPD1, weights=wy),3)) "
   ]
  },
  {
   "cell_type": "markdown",
   "metadata": {},
   "source": [
    "The cai mudule can alternatively accept RSCUs, which produce the same result."
   ]
  },
  {
   "cell_type": "code",
   "execution_count": 22,
   "metadata": {},
   "outputs": [
    {
     "name": "stdout",
     "output_type": "stream",
     "text": [
      "0.116\n",
      "0.115\n",
      "0.924\n"
     ]
    }
   ],
   "source": [
    "print(round(CAI(GAL4, RSCUs=RSCUy),3))\n",
    "print(round(CAI(PPR1, RSCUs=RSCUy),3)) \n",
    "print(round(CAI(GPD1, RSCUs=RSCUy),3)) "
   ]
  },
  {
   "cell_type": "markdown",
   "metadata": {},
   "source": [
    "There was a small differences for PPR1 (<1% for the CAI module) and a lower value for GDP/TDH3 (0.5%) between the data given in the paper and the result of the CAI and biopython modules.\n",
    "\n",
    "| Gene  | Sharp | CAI(wy)| Biopython(wy)|\n",
    "| ----- | ----- | -----  | ------------ |\n",
    "| GAL4  | 0.116 | 0.116  | 0.116        |\n",
    "| PPR1  | 0.114 | 0.115  | 0.115        |\n",
    "| GPD1  | 0.929 | 0.924  | 0.924        |\n",
    "\n",
    "\n",
    "\n",
    "\n",
    "\n",
    "\n",
    "\n",
    "\n",
    "Some companies such as [Genscript](https://www.genscript.com)\n",
    "offer services to optimize a gene for a specific host (for example [here](https://www.genscript.com/tools/rare-codon-analysis)). \n",
    "\n",
    "A part of this analysis usually involves calculating CAI.to see if a gene needs to be codon optimized for expression.\n",
    "The Genscript website implies that a CAI of 0.8-1.0 is desirable.\n",
    "\n",
    "| gene  | CAI(wy) | Genscript |\n",
    "|-------| ------- |-----------|\n",
    "| GAL4  |  0.116  | 0.71      |\n",
    "| PPR1  |  0.115  | 0.73      |\n",
    "| GPD1  |  0.924  | 0.82      |\n",
    "\n",
    "The Genscript website gave very different values (2021-03-17) for the genes, the lower values are much higher.\n",
    "The most probable cause for this is the use of a different reference dataset.\n",
    "This tool does not reveal which reference data was used.\n",
    "\n",
    "A popular resource for codon usage data is the \"Codon Usage Database\" hosted by the Kazusa DNA Research Institute. \n",
    "CAI reference data for _S. cerevisiae_ can be found [here](https://www.kazusa.or.jp/codon/cgi-bin/showcodon.cgi?species=4932).\n",
    "\n",
    "The CAI reference data in \"Kazusa\" format:\n",
    "\n",
    "    Saccharomyces cerevisiae [gbpln]: 14411 CDS's (6534504 codons)\n",
    "    fields: [triplet] [amino acid] [fraction] [frequency: per thousand] ([number])\n",
    "    \n",
    "    UUU F 0.59 26.1 (170666)  UCU S 0.26 23.5 (153557)  UAU Y 0.56 18.8 (122728)  UGU C 0.63  8.1 ( 52903)\n",
    "    UUC F 0.41 18.4 (120510)  UCC S 0.16 14.2 ( 92923)  UAC Y 0.44 14.8 ( 96596)  UGC C 0.37  4.8 ( 31095)\n",
    "    UUA L 0.28 26.2 (170884)  UCA S 0.21 18.7 (122028)  UAA * 0.47  1.1 (  6913)  UGA * 0.30  0.7 (  4447)\n",
    "    UUG L 0.29 27.2 (177573)  UCG S 0.10  8.6 ( 55951)  UAG * 0.23  0.5 (  3312)  UGG W 1.00 10.4 ( 67789)\n",
    "\n",
    "    CUU L 0.13 12.3 ( 80076)  CCU P 0.31 13.5 ( 88263)  CAU H 0.64 13.6 ( 89007)  CGU R 0.14  6.4 ( 41791)\n",
    "    CUC L 0.06  5.4 ( 35545)  CCC P 0.15  6.8 ( 44309)  CAC H 0.36  7.8 ( 50785)  CGC R 0.06  2.6 ( 16993)\n",
    "    CUA L 0.14 13.4 ( 87619)  CCA P 0.42 18.3 (119641)  CAA Q 0.69 27.3 (178251)  CGA R 0.07  3.0 ( 19562)\n",
    "    CUG L 0.11 10.5 ( 68494)  CCG P 0.12  5.3 ( 34597)  CAG Q 0.31 12.1 ( 79121)  CGG R 0.04  1.7 ( 11351)\n",
    "\n",
    "    AUU I 0.46 30.1 (196893)  ACU T 0.35 20.3 (132522)  AAU N 0.59 35.7 (233124)  AGU S 0.16 14.2 ( 92466)\n",
    "    AUC I 0.26 17.2 (112176)  ACC T 0.22 12.7 ( 83207)  AAC N 0.41 24.8 (162199)  AGC S 0.11  9.8 ( 63726)\n",
    "    AUA I 0.27 17.8 (116254)  ACA T 0.30 17.8 (116084)  AAA K 0.58 41.9 (273618)  AGA R 0.48 21.3 (139081)\n",
    "    AUG M 1.00 20.9 (136805)  ACG T 0.14  8.0 ( 52045)  AAG K 0.42 30.8 (201361)  AGG R 0.21  9.2 ( 60289)\n",
    "\n",
    "    GUU V 0.39 22.1 (144243)  GCU A 0.38 21.2 (138358)  GAU D 0.65 37.6 (245641)  GGU G 0.47 23.9 (156109)\n",
    "    GUC V 0.21 11.8 ( 76947)  GCC A 0.22 12.6 ( 82357)  GAC D 0.35 20.2 (132048)  GGC G 0.19  9.8 ( 63903)\n",
    "    GUA V 0.21 11.8 ( 76927)  GCA A 0.29 16.2 (105910)  GAA E 0.70 45.6 (297944)  GGA G 0.22 10.9 ( 71216)\n",
    "    GUG V 0.19 10.8 ( 70337)  GCG A 0.11  6.2 ( 40358)  GAG E 0.30 19.2 (125717)  GGG G 0.12  6.0 ( 39359)\n",
    "\n",
    "The setuptools package [python-codon-tables](https://pypi.org/project/python-codon-tables/) \n",
    "claims that it can access this data directly:"
   ]
  },
  {
   "cell_type": "code",
   "execution_count": 19,
   "metadata": {},
   "outputs": [],
   "source": [
    "# uncomment below to run pip in jupyter notebook\n",
    "#     %pip install python-codon-tables"
   ]
  },
  {
   "cell_type": "code",
   "execution_count": 20,
   "metadata": {},
   "outputs": [
    {
     "ename": "ModuleNotFoundError",
     "evalue": "No module named 'python_codon_tables'",
     "output_type": "error",
     "traceback": [
      "\u001b[0;31m---------------------------------------------------------------------------\u001b[0m",
      "\u001b[0;31mModuleNotFoundError\u001b[0m                       Traceback (most recent call last)",
      "\u001b[0;32m/tmp/ipykernel_29939/2000812769.py\u001b[0m in \u001b[0;36m<module>\u001b[0;34m\u001b[0m\n\u001b[0;32m----> 1\u001b[0;31m \u001b[0;32mimport\u001b[0m \u001b[0mpython_codon_tables\u001b[0m \u001b[0;32mas\u001b[0m \u001b[0mpct\u001b[0m\u001b[0;34m\u001b[0m\u001b[0;34m\u001b[0m\u001b[0m\n\u001b[0m",
      "\u001b[0;31mModuleNotFoundError\u001b[0m: No module named 'python_codon_tables'"
     ]
    }
   ],
   "source": [
    "import python_codon_tables as pct"
   ]
  },
  {
   "cell_type": "code",
   "execution_count": 25,
   "metadata": {},
   "outputs": [],
   "source": [
    "table = pct.get_codons_table('s_cerevisiae_4932')"
   ]
  },
  {
   "cell_type": "code",
   "execution_count": 26,
   "metadata": {},
   "outputs": [
    {
     "data": {
      "text/plain": [
       "{'*': {'TAA': 0.47, 'TAG': 0.23, 'TGA': 0.3},\n",
       " 'A': {'GCA': 0.29, 'GCC': 0.22, 'GCG': 0.11, 'GCT': 0.38},\n",
       " 'C': {'TGC': 0.37, 'TGT': 0.63},\n",
       " 'D': {'GAC': 0.35, 'GAT': 0.65},\n",
       " 'E': {'GAA': 0.7, 'GAG': 0.3},\n",
       " 'F': {'TTC': 0.41, 'TTT': 0.59},\n",
       " 'G': {'GGA': 0.22, 'GGC': 0.19, 'GGG': 0.12, 'GGT': 0.47},\n",
       " 'H': {'CAC': 0.36, 'CAT': 0.64},\n",
       " 'I': {'ATA': 0.27, 'ATC': 0.26, 'ATT': 0.46},\n",
       " 'K': {'AAA': 0.58, 'AAG': 0.42},\n",
       " 'L': {'CTA': 0.14,\n",
       "  'CTC': 0.06,\n",
       "  'CTG': 0.11,\n",
       "  'CTT': 0.13,\n",
       "  'TTA': 0.28,\n",
       "  'TTG': 0.29},\n",
       " 'M': {'ATG': 1.0},\n",
       " 'N': {'AAC': 0.41, 'AAT': 0.59},\n",
       " 'P': {'CCA': 0.42, 'CCC': 0.15, 'CCG': 0.12, 'CCT': 0.31},\n",
       " 'Q': {'CAA': 0.69, 'CAG': 0.31},\n",
       " 'R': {'AGA': 0.48,\n",
       "  'AGG': 0.21,\n",
       "  'CGA': 0.07,\n",
       "  'CGC': 0.06,\n",
       "  'CGG': 0.04,\n",
       "  'CGT': 0.14},\n",
       " 'S': {'AGC': 0.11,\n",
       "  'AGT': 0.16,\n",
       "  'TCA': 0.21,\n",
       "  'TCC': 0.16,\n",
       "  'TCG': 0.1,\n",
       "  'TCT': 0.26},\n",
       " 'T': {'ACA': 0.3, 'ACC': 0.22, 'ACG': 0.14, 'ACT': 0.35},\n",
       " 'V': {'GTA': 0.21, 'GTC': 0.21, 'GTG': 0.19, 'GTT': 0.39},\n",
       " 'W': {'TGG': 1.0},\n",
       " 'Y': {'TAC': 0.44, 'TAT': 0.56}}"
      ]
     },
     "execution_count": 26,
     "metadata": {},
     "output_type": "execute_result"
    }
   ],
   "source": [
    "table"
   ]
  },
  {
   "cell_type": "markdown",
   "metadata": {},
   "source": [
    "This format does not seem to be directly compatible with CAI or biopython modules.\n",
    "\n",
    "It needs to be a dict with the string triplet as key.\n",
    "\n",
    "Further, the values seem to be the fractions in the kazusa table above.\n",
    "\n",
    "We can fix this forming a dict with the triplets as keys and values that are fractions scaled to 1 for the largest fraction."
   ]
  },
  {
   "cell_type": "code",
   "execution_count": 27,
   "metadata": {},
   "outputs": [],
   "source": [
    "codon_tables_w = {}\n",
    "for dct in table.values():\n",
    "    m = max(dct.values())\n",
    "    for trip, w in dct.items():\n",
    "        codon_tables_w[trip] = w/m"
   ]
  },
  {
   "cell_type": "markdown",
   "metadata": {},
   "source": [
    "The resulting dict weights has the correct format for the CAI and biopython modules. "
   ]
  },
  {
   "cell_type": "code",
   "execution_count": 28,
   "metadata": {},
   "outputs": [
    {
     "name": "stdout",
     "output_type": "stream",
     "text": [
      "{'TAA': 1.0, 'TAG': 0.4893617021276596, 'TGA': 0.6382978723404256, 'GCA': 0.763157894736842, 'GCC': 0.5789473684210527, 'GCG': 0.2894736842105263, 'GCT': 1.0, 'TGC': 0.5873015873015873, 'TGT': 1.0, 'GAC': 0.5384615384615384, 'GAT': 1.0, 'GAA': 1.0, 'GAG': 0.4285714285714286, 'TTC': 0.6949152542372882, 'TTT': 1.0, 'GGA': 0.46808510638297873, 'GGC': 0.4042553191489362, 'GGG': 0.2553191489361702, 'GGT': 1.0, 'CAC': 0.5625, 'CAT': 1.0, 'ATA': 0.5869565217391305, 'ATC': 0.5652173913043478, 'ATT': 1.0, 'AAA': 1.0, 'AAG': 0.7241379310344828, 'CTA': 0.48275862068965525, 'CTC': 0.20689655172413793, 'CTG': 0.37931034482758624, 'CTT': 0.4482758620689656, 'TTA': 0.9655172413793105, 'TTG': 1.0, 'ATG': 1.0, 'AAC': 0.6949152542372882, 'AAT': 1.0, 'CCA': 1.0, 'CCC': 0.35714285714285715, 'CCG': 0.2857142857142857, 'CCT': 0.7380952380952381, 'CAA': 1.0, 'CAG': 0.44927536231884063, 'AGA': 1.0, 'AGG': 0.4375, 'CGA': 0.14583333333333334, 'CGC': 0.125, 'CGG': 0.08333333333333334, 'CGT': 0.2916666666666667, 'AGC': 0.4230769230769231, 'AGT': 0.6153846153846154, 'TCA': 0.8076923076923076, 'TCC': 0.6153846153846154, 'TCG': 0.38461538461538464, 'TCT': 1.0, 'ACA': 0.8571428571428572, 'ACC': 0.6285714285714287, 'ACG': 0.4000000000000001, 'ACT': 1.0, 'GTA': 0.5384615384615384, 'GTC': 0.5384615384615384, 'GTG': 0.48717948717948717, 'GTT': 1.0, 'TGG': 1.0, 'TAC': 0.7857142857142857, 'TAT': 1.0}\n"
     ]
    }
   ],
   "source": [
    "print(codon_tables_w)"
   ]
  },
  {
   "cell_type": "code",
   "execution_count": 29,
   "metadata": {},
   "outputs": [],
   "source": [
    "cai.set_cai_index(codon_tables_w)"
   ]
  },
  {
   "cell_type": "code",
   "execution_count": 30,
   "metadata": {},
   "outputs": [
    {
     "name": "stdout",
     "output_type": "stream",
     "text": [
      "0.701\n",
      "0.718\n",
      "0.812\n"
     ]
    }
   ],
   "source": [
    "print(round(cai.cai_for_gene(GAL4),3))\n",
    "print(round(cai.cai_for_gene(PPR1),3))\n",
    "print(round(cai.cai_for_gene(GPD1),3))"
   ]
  },
  {
   "cell_type": "code",
   "execution_count": 31,
   "metadata": {},
   "outputs": [
    {
     "name": "stdout",
     "output_type": "stream",
     "text": [
      "0.701\n",
      "0.719\n",
      "0.813\n"
     ]
    }
   ],
   "source": [
    "print(round(CAI(GAL4, weights=codon_tables_w),3))\n",
    "print(round(CAI(PPR1, weights=codon_tables_w),3)) \n",
    "print(round(CAI(GPD1, weights=codon_tables_w),3)) "
   ]
  },
  {
   "cell_type": "markdown",
   "metadata": {},
   "source": [
    "Results are rather close, but Genscript values are systematically higher.\n",
    "\n",
    "| Gene \t| Genscript | CAI(codon_tables_w)|Biopython(codon_tables_w)|\n",
    "|------\t|-----------|--------------------|-------------------------|\n",
    "| GAL4 \t| 0.71      | 0.701              | 0.701                   | \n",
    "| PPR1 \t| 0.73      | 0.719              | 0.718                   |\n",
    "| GPD1 \t| 0.82      | 0.813              | 0.812                   |\n",
    "\n",
    "The difference is surprising. Either, the datasets used are not identical or the implementation is different.\n",
    "\n",
    "\n",
    "Some other tools were tested as well:\n",
    "\n",
    "\n",
    "### CAIcal SERVER\n",
    "This is a fairly recent tool. \"using the recent computer implementation proposed by Xia\"\n",
    "accepts codon usage table in \"codon usage database format\".\n",
    "\n",
    "http://genomes.urv.es/CAIcal. If you set the reference data to the \"kazusa\" matrix above your get this result:\n",
    "\n",
    "| Gene \t| Genscript | CAI(codon_tables_w)|Biopython(codon_tables_w)|CAIcal  |\n",
    "|------\t|-----------|--------------------|-------------------------|--------|\n",
    "| GAL4 \t| 0.71      | 0.701              | 0.701                   | 0.761  |\n",
    "| PPR1 \t| 0.73      | 0.719              | 0.718                   | 0.770  |\n",
    "| GPD1 \t| 0.82      | 0.813              | 0.812                   | 0.813  |\n",
    "\n",
    "The lower value is higher than the ones produced by the other tools.\n",
    "\n",
    "### COUSIN (COdon Usage Similarity INdex)\n",
    "yet another tool is the the COUSIN server.\n",
    "It accepts codon usage table in \"kazusa\" format\n",
    "http://cousin.ird.fr/calculation.php\n",
    "\n",
    "This tool produces two results CAI 18 and 59. The relevant measure here appears\n",
    "to be CAI 59. This tool could have better documentation.\n",
    "\n",
    "| Gene | Genscript | CAI(codon_tables_w)|Biopython(codon_tables_w)|CAIcal  | COUSIN |\n",
    "|------|-----------|--------------------|-------------------------|--------| ------ |\n",
    "| GAL4 | 0.71      | 0.701              | 0.701                   | 0.761  | 0.701  |\n",
    "| PPR1 | 0.73      | 0.719              | 0.718                   | 0.770  | 0.718  |\n",
    "| GPD1 | 0.82      | 0.813              | 0.812                   | 0.813  | 0.814  |\n",
    "\n",
    "The COUSIN server gives a result close to the one of CAI and Biopython.\n",
    "\n",
    "### Codon Adaptation Index Calculator (CAICalculator)\n",
    "Another tool available online is the [Codon Adaptation Index Calculator](https://www.biologicscorp.com/tools/CAICalculator). \n",
    "This tool has a \"codon usage table of Saccharomyces cerevisiae (Yeast)\" option.\n",
    "\n",
    "\n",
    "| Gene | Genscript | CAI(codon_tables_w)|Biopython(codon_tables_w)|CAIcal  | COUSIN | CAICalculator |\n",
    "|------|-----------|--------------------|-------------------------|--------| ------ | ------------- |\n",
    "| GAL4 | 0.71      | 0.701              | 0.701                   | 0.761  | 0.701  | 0.71          |\n",
    "| PPR1 | 0.73      | 0.719              | 0.718                   | 0.770  | 0.718  | 0.73          |\n",
    "| GPD1 | 0.82      | 0.813              | 0.812                   | 0.813  | 0.814  | 0.82          |\n",
    "\n",
    "\n",
    "This tool produce the exact same result as Genscript does. This tool belongs to a company that I do not think have\n",
    "any affiliations with Genscript. This means that both companies most likely use the same data and software.\n",
    "\n",
    "This tool displays the reference data as opposed to the Genscript tool (see the cell below). \n",
    "\n",
    "Tha data used is in fact the same data as in the kazusa matrix above.\n",
    "\n",
    "The differences between the python modules and Genscript/CAICalculator must be in the implementation."
   ]
  },
  {
   "cell_type": "code",
   "execution_count": 32,
   "metadata": {},
   "outputs": [],
   "source": [
    "t = \"\"\"\\\n",
    "triplet aa fraction rscu weight freq number\n",
    "TTT F 0.59 1.17 1.000 26.1 170666\n",
    "TTG L 0.29 1.72 1.000 27.2 177573\n",
    "TAT Y 0.56 1.12 1.000 18.8 122728\n",
    "TAG * 0.23 0.68 0.479 0.5 3312\n",
    "TGT C 0.63 1.26 1.000 8.1 52903\n",
    "TGG W 1.00 1.00 1.000 10.4 67789\n",
    "TCT S 0.26 1.58 1.000 23.5 153557\n",
    "TCG S 0.10 0.58 0.364 8.6 55951\n",
    "ATT I 0.46 1.39 1.000 30.1 196893\n",
    "ATG M 1.00 1.00 1.000 20.9 136805\n",
    "AAT N 0.59 1.18 1.000 35.7 233124\n",
    "AAG K 0.42 0.85 0.736 30.8 201361\n",
    "AGT S 0.16 0.95 0.602 14.2 92466\n",
    "AGG R 0.21 1.25 0.433 9.2 60289\n",
    "ACT T 0.34 1.38 1.000 20.3 132522\n",
    "ACG T 0.14 0.54 0.393 8.0 52045\n",
    "GTT V 0.39 1.56 1.000 22.1 144243\n",
    "GTG V 0.19 0.76 0.488 10.8 70337\n",
    "GAT D 0.65 1.30 1.000 37.6 245641\n",
    "GAG E 0.30 0.59 0.422 19.2 125717\n",
    "GGT G 0.47 1.89 1.000 23.9 156109\n",
    "GGG G 0.12 0.48 0.252 6.0 39359\n",
    "GCT A 0.38 1.51 1.000 21.2 138358\n",
    "GCG A 0.11 0.44 0.292 6.2 40358\n",
    "CTT L 0.13 0.77 0.451 12.3 80076\n",
    "CTG L 0.11 0.66 0.386 10.5 68494\n",
    "CAT H 0.64 1.27 1.000 13.6 89007\n",
    "CAG Q 0.31 0.61 0.444 12.1 79121\n",
    "CGT R 0.14 0.87 0.300 6.4 41791\n",
    "CGG R 0.04 0.24 0.082 1.7 11351\n",
    "CCT P 0.31 1.23 0.738 13.5 88263\n",
    "CCG P 0.12 0.48 0.289 5.3 34597\n",
    "TTA L 0.28 1.66 0.962 26.2 170884\n",
    "TTC F 0.41 0.83 0.706 18.4 120510\n",
    "TAA * 0.47 1.41 1.000 1.1 6913\n",
    "TAC Y 0.44 0.88 0.787 14.8 96596\n",
    "TGA * 0.30 0.91 0.643 0.7 4447\n",
    "TGC C 0.37 0.74 0.588 4.8 31095\n",
    "TCA S 0.21 1.26 0.795 18.7 122028\n",
    "TCC S 0.16 0.96 0.605 14.2 92923\n",
    "ATA I 0.27 0.82 0.590 17.8 116254\n",
    "ATC I 0.26 0.79 0.570 17.2 112176\n",
    "AAA K 0.58 1.15 1.000 41.9 273618\n",
    "AAC N 0.41 0.82 0.696 24.8 162199\n",
    "AGA R 0.48 2.89 1.000 21.3 139081\n",
    "AGC S 0.11 0.66 0.415 9.8 63726\n",
    "ACA T 0.30 1.21 0.876 17.8 116084\n",
    "ACC T 0.22 0.87 0.628 12.7 83207\n",
    "GTA V 0.21 0.84 0.533 11.8 76927\n",
    "GTC V 0.21 0.84 0.533 11.8 76947\n",
    "GAA E 0.70 1.41 1.000 45.6 297944\n",
    "GAC D 0.35 0.70 0.538 20.2 132048\n",
    "GGA G 0.21 0.86 0.456 10.9 71216\n",
    "GGC G 0.19 0.77 0.409 9.8 63903\n",
    "GCA A 0.29 1.16 0.765 16.2 105910\n",
    "GCC A 0.22 0.90 0.595 12.6 82357\n",
    "CTA L 0.14 0.85 0.493 13.4 87619\n",
    "CTC L 0.06 0.34 0.200 5.4 35545\n",
    "CAA Q 0.69 1.39 1.000 27.3 178251\n",
    "CAC H 0.36 0.73 0.571 7.8 50785\n",
    "CGA R 0.07 0.41 0.141 3.0 19562\n",
    "CGC R 0.06 0.35 0.122 2.6 16993\n",
    "CCA P 0.42 1.67 1.000 18.3 119641\n",
    "CCC P 0.15 0.62 0.370 6.8 44309\"\"\""
   ]
  },
  {
   "cell_type": "markdown",
   "metadata": {},
   "source": [
    "The CAICalculator data was read into a dataframe and some dicts:"
   ]
  },
  {
   "cell_type": "code",
   "execution_count": 33,
   "metadata": {},
   "outputs": [],
   "source": [
    "gbpln = pd.read_csv(StringIO(t.strip()), sep=\" \")"
   ]
  },
  {
   "cell_type": "code",
   "execution_count": 34,
   "metadata": {},
   "outputs": [],
   "source": [
    "CAICalculator_w = dict(zip(gbpln[\"triplet\"],round(gbpln[\"weight\"],3)))\n",
    "CAICalculator_RSCU = dict(zip(gbpln[\"triplet\"],round(gbpln[\"rscu\"],3)))\n",
    "CAICalculator_number = dict(zip(gbpln[\"triplet\"],round(gbpln[\"number\"],3)))"
   ]
  },
  {
   "cell_type": "code",
   "execution_count": 35,
   "metadata": {},
   "outputs": [],
   "source": [
    "lst = []\n",
    "for key in codon_tables_w:\n",
    "    lst.append((key, round(codon_tables_w[key],3), round(CAICalculator_w[key],3) ))"
   ]
  },
  {
   "cell_type": "code",
   "execution_count": 36,
   "metadata": {},
   "outputs": [
    {
     "data": {
      "text/html": [
       "<div>\n",
       "<style scoped>\n",
       "    .dataframe tbody tr th:only-of-type {\n",
       "        vertical-align: middle;\n",
       "    }\n",
       "\n",
       "    .dataframe tbody tr th {\n",
       "        vertical-align: top;\n",
       "    }\n",
       "\n",
       "    .dataframe thead th {\n",
       "        text-align: right;\n",
       "    }\n",
       "</style>\n",
       "<table border=\"1\" class=\"dataframe\">\n",
       "  <thead>\n",
       "    <tr style=\"text-align: right;\">\n",
       "      <th></th>\n",
       "      <th>Triplet</th>\n",
       "      <th>codon_tables_w</th>\n",
       "      <th>CAICalculator</th>\n",
       "    </tr>\n",
       "  </thead>\n",
       "  <tbody>\n",
       "    <tr>\n",
       "      <th>0</th>\n",
       "      <td>TAA</td>\n",
       "      <td>1.000</td>\n",
       "      <td>1.000</td>\n",
       "    </tr>\n",
       "    <tr>\n",
       "      <th>1</th>\n",
       "      <td>TAG</td>\n",
       "      <td>0.489</td>\n",
       "      <td>0.479</td>\n",
       "    </tr>\n",
       "    <tr>\n",
       "      <th>2</th>\n",
       "      <td>TGA</td>\n",
       "      <td>0.638</td>\n",
       "      <td>0.643</td>\n",
       "    </tr>\n",
       "    <tr>\n",
       "      <th>3</th>\n",
       "      <td>GCA</td>\n",
       "      <td>0.763</td>\n",
       "      <td>0.765</td>\n",
       "    </tr>\n",
       "    <tr>\n",
       "      <th>4</th>\n",
       "      <td>GCC</td>\n",
       "      <td>0.579</td>\n",
       "      <td>0.595</td>\n",
       "    </tr>\n",
       "    <tr>\n",
       "      <th>...</th>\n",
       "      <td>...</td>\n",
       "      <td>...</td>\n",
       "      <td>...</td>\n",
       "    </tr>\n",
       "    <tr>\n",
       "      <th>59</th>\n",
       "      <td>GTG</td>\n",
       "      <td>0.487</td>\n",
       "      <td>0.488</td>\n",
       "    </tr>\n",
       "    <tr>\n",
       "      <th>60</th>\n",
       "      <td>GTT</td>\n",
       "      <td>1.000</td>\n",
       "      <td>1.000</td>\n",
       "    </tr>\n",
       "    <tr>\n",
       "      <th>61</th>\n",
       "      <td>TGG</td>\n",
       "      <td>1.000</td>\n",
       "      <td>1.000</td>\n",
       "    </tr>\n",
       "    <tr>\n",
       "      <th>62</th>\n",
       "      <td>TAC</td>\n",
       "      <td>0.786</td>\n",
       "      <td>0.787</td>\n",
       "    </tr>\n",
       "    <tr>\n",
       "      <th>63</th>\n",
       "      <td>TAT</td>\n",
       "      <td>1.000</td>\n",
       "      <td>1.000</td>\n",
       "    </tr>\n",
       "  </tbody>\n",
       "</table>\n",
       "<p>64 rows × 3 columns</p>\n",
       "</div>"
      ],
      "text/plain": [
       "   Triplet  codon_tables_w  CAICalculator\n",
       "0      TAA           1.000          1.000\n",
       "1      TAG           0.489          0.479\n",
       "2      TGA           0.638          0.643\n",
       "3      GCA           0.763          0.765\n",
       "4      GCC           0.579          0.595\n",
       "..     ...             ...            ...\n",
       "59     GTG           0.487          0.488\n",
       "60     GTT           1.000          1.000\n",
       "61     TGG           1.000          1.000\n",
       "62     TAC           0.786          0.787\n",
       "63     TAT           1.000          1.000\n",
       "\n",
       "[64 rows x 3 columns]"
      ]
     },
     "execution_count": 36,
     "metadata": {},
     "output_type": "execute_result"
    }
   ],
   "source": [
    "pd.DataFrame(lst, columns=['Triplet', 'codon_tables_w', 'CAICalculator'])"
   ]
  },
  {
   "cell_type": "code",
   "execution_count": 37,
   "metadata": {},
   "outputs": [
    {
     "name": "stdout",
     "output_type": "stream",
     "text": [
      "0.701\n",
      "0.718\n",
      "0.814\n"
     ]
    }
   ],
   "source": [
    "print(round(CAI(GAL4, weights=CAICalculator_w),3))\n",
    "print(round(CAI(PPR1, weights=CAICalculator_w),3)) \n",
    "print(round(CAI(GPD1, weights=CAICalculator_w),3)) "
   ]
  },
  {
   "cell_type": "code",
   "execution_count": 38,
   "metadata": {},
   "outputs": [],
   "source": [
    "del CAICalculator_RSCU[\"TAG\"]\n",
    "del CAICalculator_RSCU[\"TAA\"]\n",
    "del CAICalculator_RSCU[\"TGA\"]"
   ]
  },
  {
   "cell_type": "code",
   "execution_count": 39,
   "metadata": {},
   "outputs": [
    {
     "name": "stdout",
     "output_type": "stream",
     "text": [
      "0.701\n",
      "0.718\n",
      "0.815\n"
     ]
    }
   ],
   "source": [
    "print(round(CAI(GAL4[3:-3], RSCUs=CAICalculator_RSCU),3))\n",
    "print(round(CAI(PPR1[3:-3], RSCUs=CAICalculator_RSCU),3)) \n",
    "print(round(CAI(GPD1[3:-3], RSCUs=CAICalculator_RSCU),3)) "
   ]
  },
  {
   "cell_type": "code",
   "execution_count": 40,
   "metadata": {},
   "outputs": [],
   "source": [
    "cai.set_cai_index(CAICalculator_w)"
   ]
  },
  {
   "cell_type": "code",
   "execution_count": 41,
   "metadata": {},
   "outputs": [
    {
     "name": "stdout",
     "output_type": "stream",
     "text": [
      "0.701\n",
      "0.717\n",
      "0.813\n"
     ]
    }
   ],
   "source": [
    "print(round(cai.cai_for_gene(GAL4),3))\n",
    "print(round(cai.cai_for_gene(PPR1),3))\n",
    "print(round(cai.cai_for_gene(GPD1),3))"
   ]
  },
  {
   "cell_type": "markdown",
   "metadata": {},
   "source": [
    "The result for CAI and Biopython with the new reference data (CAICalculator_w) is again similar to the COUSIN results.\n",
    "\n",
    "| Gene | Genscript | CAI(CAICalculator_w)|Biopython(CAICalculator_w)|CAIcal  | COUSIN | CAICalculator |\n",
    "|------|-----------|---------------------|--------------------------|--------| ------ | ------------- |\n",
    "| GAL4 | 0.71      | 0.701               | 0.701                    | 0.761  | 0.701  | 0.71          |\n",
    "| PPR1 | 0.73      | 0.718               | 0.717                    | 0.770  | 0.718  | 0.73          |\n",
    "| GPD1 | 0.82      | 0.814               | 0.813                    | 0.813  | 0.814  | 0.82          |\n",
    "\n",
    "We can note a small difference between the CAICalculator_w and codon_tables_w. Perhaps this is due to rounding errors.\n",
    "\n",
    "This could be tested by generating the reference data by using the counts of each codon."
   ]
  },
  {
   "cell_type": "code",
   "execution_count": 42,
   "metadata": {},
   "outputs": [],
   "source": [
    "gencode = {'*': ('TAA', 'TAG', 'TGA'),\n",
    " 'A': ('GCA', 'GCC', 'GCG', 'GCT'),\n",
    " 'C': ('TGC', 'TGT'),\n",
    " 'D': ('GAC', 'GAT'),\n",
    " 'E': ('GAA', 'GAG'),\n",
    " 'F': ('TTC', 'TTT'),\n",
    " 'G': ('GGA', 'GGC', 'GGG', 'GGT'),\n",
    " 'H': ('CAC', 'CAT'),\n",
    " 'I': ('ATA', 'ATC', 'ATT'),\n",
    " 'K': ('AAA', 'AAG'),\n",
    " 'L': ('CTA', 'CTC', 'CTG', 'CTT', 'TTA', 'TTG'),\n",
    " 'M': ('ATG',),\n",
    " 'N': ('AAC', 'AAT'),\n",
    " 'P': ('CCA', 'CCC', 'CCG', 'CCT'),\n",
    " 'Q': ('CAA', 'CAG'),\n",
    " 'R': ('AGA', 'AGG', 'CGA', 'CGC', 'CGG', 'CGT'),\n",
    " 'S': ('AGC', 'AGT', 'TCA', 'TCC', 'TCG', 'TCT'),\n",
    " 'T': ('ACA', 'ACC', 'ACG', 'ACT'),\n",
    " 'V': ('GTA', 'GTC', 'GTG', 'GTT'),\n",
    " 'W': ('TGG',),\n",
    " 'Y': ('TAC', 'TAT')}"
   ]
  },
  {
   "cell_type": "code",
   "execution_count": 43,
   "metadata": {},
   "outputs": [],
   "source": [
    "kazusa_w_from_counts = {}\n",
    "for aa, triplets in gencode.items():\n",
    "    counts = [CAICalculator_number[cdn] for cdn in triplets]\n",
    "    maxm = max(counts)\n",
    "    for cdn in triplets:\n",
    "        kazusa_w_from_counts[cdn] = CAICalculator_number[cdn]/maxm"
   ]
  },
  {
   "cell_type": "code",
   "execution_count": 44,
   "metadata": {},
   "outputs": [
    {
     "name": "stdout",
     "output_type": "stream",
     "text": [
      "0.701\n",
      "0.718\n",
      "0.814\n"
     ]
    }
   ],
   "source": [
    "print(round(CAI(GAL4, weights=kazusa_w_from_counts),3))\n",
    "print(round(CAI(PPR1, weights=kazusa_w_from_counts),3)) \n",
    "print(round(CAI(GPD1, weights=kazusa_w_from_counts),3)) "
   ]
  },
  {
   "cell_type": "markdown",
   "metadata": {},
   "source": [
    "It seems that the new data did not make any difference."
   ]
  },
  {
   "cell_type": "code",
   "execution_count": 45,
   "metadata": {},
   "outputs": [
    {
     "data": {
      "text/plain": [
       "{'TTT': 1.0,\n",
       " 'TTG': 1.0,\n",
       " 'TAT': 1.0,\n",
       " 'TAG': 0.479,\n",
       " 'TGT': 1.0,\n",
       " 'TGG': 1.0,\n",
       " 'TCT': 1.0,\n",
       " 'TCG': 0.364,\n",
       " 'ATT': 1.0,\n",
       " 'ATG': 1.0,\n",
       " 'AAT': 1.0,\n",
       " 'AAG': 0.736,\n",
       " 'AGT': 0.602,\n",
       " 'AGG': 0.433,\n",
       " 'ACT': 1.0,\n",
       " 'ACG': 0.393,\n",
       " 'GTT': 1.0,\n",
       " 'GTG': 0.488,\n",
       " 'GAT': 1.0,\n",
       " 'GAG': 0.422,\n",
       " 'GGT': 1.0,\n",
       " 'GGG': 0.252,\n",
       " 'GCT': 1.0,\n",
       " 'GCG': 0.292,\n",
       " 'CTT': 0.451,\n",
       " 'CTG': 0.386,\n",
       " 'CAT': 1.0,\n",
       " 'CAG': 0.444,\n",
       " 'CGT': 0.3,\n",
       " 'CGG': 0.082,\n",
       " 'CCT': 0.738,\n",
       " 'CCG': 0.289,\n",
       " 'TTA': 0.962,\n",
       " 'TTC': 0.706,\n",
       " 'TAA': 1.0,\n",
       " 'TAC': 0.787,\n",
       " 'TGA': 0.643,\n",
       " 'TGC': 0.588,\n",
       " 'TCA': 0.795,\n",
       " 'TCC': 0.605,\n",
       " 'ATA': 0.59,\n",
       " 'ATC': 0.57,\n",
       " 'AAA': 1.0,\n",
       " 'AAC': 0.696,\n",
       " 'AGA': 1.0,\n",
       " 'AGC': 0.415,\n",
       " 'ACA': 0.876,\n",
       " 'ACC': 0.628,\n",
       " 'GTA': 0.533,\n",
       " 'GTC': 0.533,\n",
       " 'GAA': 1.0,\n",
       " 'GAC': 0.538,\n",
       " 'GGA': 0.456,\n",
       " 'GGC': 0.409,\n",
       " 'GCA': 0.765,\n",
       " 'GCC': 0.595,\n",
       " 'CTA': 0.493,\n",
       " 'CTC': 0.2,\n",
       " 'CAA': 1.0,\n",
       " 'CAC': 0.571,\n",
       " 'CGA': 0.141,\n",
       " 'CGC': 0.122,\n",
       " 'CCA': 1.0,\n",
       " 'CCC': 0.37}"
      ]
     },
     "execution_count": 45,
     "metadata": {},
     "output_type": "execute_result"
    }
   ],
   "source": [
    "CAICalculator_w"
   ]
  },
  {
   "cell_type": "code",
   "execution_count": null,
   "metadata": {},
   "outputs": [],
   "source": []
  }
 ],
 "metadata": {
  "kernelspec": {
   "display_name": "Python [conda env:bjorn39]",
   "language": "python",
   "name": "conda-env-bjorn39-py"
  },
  "language_info": {
   "codemirror_mode": {
    "name": "ipython",
    "version": 3
   },
   "file_extension": ".py",
   "mimetype": "text/x-python",
   "name": "python",
   "nbconvert_exporter": "python",
   "pygments_lexer": "ipython3",
   "version": "3.9.7"
  },
  "toc-showcode": false,
  "toc-showtags": false
 },
 "nbformat": 4,
 "nbformat_minor": 4
}
