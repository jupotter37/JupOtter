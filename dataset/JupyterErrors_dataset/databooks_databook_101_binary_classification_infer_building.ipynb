{
 "cells": [
  {
   "cell_type": "markdown",
   "metadata": {},
   "source": [
    "# 建筑物提取"
   ]
  },
  {
   "cell_type": "code",
   "execution_count": null,
   "metadata": {},
   "outputs": [],
   "source": [
    "!pip install rasterio dotmap albumentations keras easydict"
   ]
  },
  {
   "cell_type": "code",
   "execution_count": 9,
   "metadata": {},
   "outputs": [],
   "source": [
    "#!/usr/bin/env python3\n",
    "# coding=utf-8\n",
    "import os\n",
    "import time\n",
    "from iobjectspy import open_datasource\n",
    "from iobjectspy.ml.vision import Inference"
   ]
  },
  {
   "cell_type": "markdown",
   "metadata": {},
   "source": [
    "## 设置输入数据路径"
   ]
  },
  {
   "cell_type": "code",
   "execution_count": 10,
   "metadata": {},
   "outputs": [],
   "source": [
    "curr_dir = ''\n",
    "data_dir = os.path.join(curr_dir, '..','..','example_data')\n",
    "inference_dir = os.path.join(data_dir, 'inference')"
   ]
  },
  {
   "cell_type": "markdown",
   "metadata": {},
   "source": [
    "## 设置输出数据路径"
   ]
  },
  {
   "cell_type": "code",
   "execution_count": 11,
   "metadata": {},
   "outputs": [],
   "source": [
    "out_dir = os.path.join(curr_dir, '..','..','out')\n",
    "if not os.path.exists(out_dir):\n",
    "    os.makedirs(out_dir)"
   ]
  },
  {
   "cell_type": "markdown",
   "metadata": {},
   "source": [
    "## 设置模型路径路径"
   ]
  },
  {
   "cell_type": "code",
   "execution_count": 12,
   "metadata": {},
   "outputs": [],
   "source": [
    "model_path = os.path.join(curr_dir, '..','..','model')\n",
    "building_dom_model = os.path.join(model_path, 'bin_cls_building', 'bin_cls_building.sdm')"
   ]
  },
  {
   "cell_type": "markdown",
   "metadata": {},
   "source": [
    "# 基于DOM数据集进行建筑物提取"
   ]
  },
  {
   "cell_type": "code",
   "execution_count": 13,
   "metadata": {},
   "outputs": [
    {
     "ename": "NameError",
     "evalue": "name 'ds' is not defined",
     "output_type": "error",
     "traceback": [
      "\u001b[0;31m---------------------------------------------------------------------------\u001b[0m",
      "\u001b[0;31mObjectDisposedError\u001b[0m                       Traceback (most recent call last)",
      "\u001b[0;32m<ipython-input-13-0cb8ae8ff30c>\u001b[0m in \u001b[0;36m<module>\u001b[0;34m\u001b[0m\n\u001b[1;32m      1\u001b[0m \u001b[0;32mtry\u001b[0m\u001b[0;34m:\u001b[0m\u001b[0;34m\u001b[0m\u001b[0;34m\u001b[0m\u001b[0m\n\u001b[0;32m----> 2\u001b[0;31m     \u001b[0mds\u001b[0m \u001b[0;34m=\u001b[0m \u001b[0mopen_datasource\u001b[0m\u001b[0;34m(\u001b[0m\u001b[0mos\u001b[0m\u001b[0;34m.\u001b[0m\u001b[0mpath\u001b[0m\u001b[0;34m.\u001b[0m\u001b[0mjoin\u001b[0m\u001b[0;34m(\u001b[0m\u001b[0minference_dir\u001b[0m\u001b[0;34m,\u001b[0m \u001b[0;34m'building.udb'\u001b[0m\u001b[0;34m)\u001b[0m\u001b[0;34m)\u001b[0m\u001b[0;34m\u001b[0m\u001b[0;34m\u001b[0m\u001b[0m\n\u001b[0m\u001b[1;32m      3\u001b[0m \u001b[0;34m\u001b[0m\u001b[0m\n",
      "\u001b[0;32m~/anaconda3/lib/python3.6/site-packages/iobjectspy/_jsuperpy/data/ws.pyc\u001b[0m in \u001b[0;36mopen_datasource\u001b[0;34m(conn_info, is_get_existed)\u001b[0m\n",
      "\u001b[0;32m~/anaconda3/lib/python3.6/site-packages/iobjectspy/_jsuperpy/data/ws.pyc\u001b[0m in \u001b[0;36mopen_datasource\u001b[0;34m(self, conn_info, is_get_existed)\u001b[0m\n",
      "\u001b[0;31mObjectDisposedError\u001b[0m: Workspace has been disposed.",
      "\nDuring handling of the above exception, another exception occurred:\n",
      "\u001b[0;31mNameError\u001b[0m                                 Traceback (most recent call last)",
      "\u001b[0;32m<ipython-input-13-0cb8ae8ff30c>\u001b[0m in \u001b[0;36m<module>\u001b[0;34m\u001b[0m\n\u001b[1;32m     11\u001b[0m \u001b[0;34m\u001b[0m\u001b[0m\n\u001b[1;32m     12\u001b[0m \u001b[0;32mfinally\u001b[0m\u001b[0;34m:\u001b[0m\u001b[0;34m\u001b[0m\u001b[0;34m\u001b[0m\u001b[0m\n\u001b[0;32m---> 13\u001b[0;31m     \u001b[0mds\u001b[0m\u001b[0;34m.\u001b[0m\u001b[0mclose\u001b[0m\u001b[0;34m(\u001b[0m\u001b[0;34m)\u001b[0m\u001b[0;34m\u001b[0m\u001b[0;34m\u001b[0m\u001b[0m\n\u001b[0m",
      "\u001b[0;31mNameError\u001b[0m: name 'ds' is not defined"
     ]
    }
   ],
   "source": [
    "try:\n",
    "    ds = open_datasource(os.path.join(inference_dir, 'building.udb'))\n",
    "\n",
    "    start_time = time.time()\n",
    "    result = Inference(input_data=ds['building_infer'], model_path=building_dom_model,\n",
    "                       out_data=os.path.join(out_dir, 'out_building.udb'),\n",
    "                       out_dataset_name='dataset_dom', ).binary_classify_infer(offset=0, result_type='region')\n",
    "    end_time = time.time()\n",
    "    print('提取完成，共耗时{}s，结果数据保存在 {} 数据源下 {} 数据集中'.format(\n",
    "        end_time - start_time, os.path.join(out_dir, 'out_building.udb'), result))\n",
    "\n",
    "finally:\n",
    "    ds.close()"
   ]
  },
  {
   "cell_type": "markdown",
   "metadata": {},
   "source": [
    "# 基于DOM影像文件进行建筑物提取"
   ]
  },
  {
   "cell_type": "code",
   "execution_count": 6,
   "metadata": {},
   "outputs": [
    {
     "ename": "RuntimeError",
     "evalue": "SuperMap_licensefile_7C_featrue_not_found",
     "output_type": "error",
     "traceback": [
      "\u001b[0;31m---------------------------------------------------------------------------\u001b[0m",
      "\u001b[0;31mRuntimeError\u001b[0m                              Traceback (most recent call last)",
      "\u001b[0;32m<ipython-input-6-3a240b950ff7>\u001b[0m in \u001b[0;36m<module>\u001b[0;34m\u001b[0m\n\u001b[1;32m      4\u001b[0m result = Inference(input_data=dom_path, model_path=building_dom_model,\n\u001b[1;32m      5\u001b[0m                    \u001b[0mout_data\u001b[0m\u001b[0;34m=\u001b[0m\u001b[0mos\u001b[0m\u001b[0;34m.\u001b[0m\u001b[0mpath\u001b[0m\u001b[0;34m.\u001b[0m\u001b[0mjoin\u001b[0m\u001b[0;34m(\u001b[0m\u001b[0mout_dir\u001b[0m\u001b[0;34m,\u001b[0m \u001b[0;34m'out_building.udb'\u001b[0m\u001b[0;34m)\u001b[0m\u001b[0;34m,\u001b[0m\u001b[0;34m\u001b[0m\u001b[0;34m\u001b[0m\u001b[0m\n\u001b[0;32m----> 6\u001b[0;31m                    out_dataset_name='file_dom').binary_classify_infer(offset=0, result_type='region')\n\u001b[0m\u001b[1;32m      7\u001b[0m \u001b[0;34m\u001b[0m\u001b[0m\n\u001b[1;32m      8\u001b[0m \u001b[0mend_time\u001b[0m \u001b[0;34m=\u001b[0m \u001b[0mtime\u001b[0m\u001b[0;34m.\u001b[0m\u001b[0mtime\u001b[0m\u001b[0;34m(\u001b[0m\u001b[0;34m)\u001b[0m\u001b[0;34m\u001b[0m\u001b[0;34m\u001b[0m\u001b[0m\n",
      "\u001b[0;32m~/anaconda3/lib/python3.6/site-packages/iobjectspy/ml/vision/_inference.pyc\u001b[0m in \u001b[0;36m__init__\u001b[0;34m(self, input_data, model_path, out_data, out_dataset_name)\u001b[0m\n",
      "\u001b[0;32m~/anaconda3/lib/python3.6/site-packages/iobjectspy/_jsuperpy/_utils.pyc\u001b[0m in \u001b[0;36mcheck_lic\u001b[0;34m()\u001b[0m\n",
      "\u001b[0;31mRuntimeError\u001b[0m: SuperMap_licensefile_7C_featrue_not_found"
     ]
    }
   ],
   "source": [
    "dom_path = os.path.join(inference_dir, 'building_infer.tif')\n",
    "\n",
    "start_time = time.time()\n",
    "result = Inference(input_data=dom_path, model_path=building_dom_model,\n",
    "                   out_data=os.path.join(out_dir, 'out_building.udb'),\n",
    "                   out_dataset_name='file_dom').binary_classify_infer(offset=0, result_type='region')\n",
    "\n",
    "end_time = time.time()\n",
    "print('提取完成，共耗时{}s，结果数据保存在 {} 数据源下 {} 数据集中'.format(\n",
    "    end_time - start_time, os.path.join(out_dir, 'out_building.udb'), result))\n"
   ]
  },
  {
   "cell_type": "markdown",
   "metadata": {},
   "source": [
    "# 输入输出都为numpy数组的建筑物提取"
   ]
  },
  {
   "cell_type": "code",
   "execution_count": 7,
   "metadata": {},
   "outputs": [
    {
     "name": "stdout",
     "output_type": "stream",
     "text": [
      "[[False False False ... False False False]\n",
      " [False False False ... False False False]\n",
      " [False False False ... False False False]\n",
      " ...\n",
      " [False False False ...  True  True  True]\n",
      " [False False False ...  True  True  True]\n",
      " [False False False ...  True  True  True]]\n",
      "提取完成，共耗时22.05914330482483s\n"
     ]
    }
   ],
   "source": [
    "\"\"\"\n",
    "support any numpy size\n",
    ":return:\n",
    "\"\"\"\n",
    "\n",
    "dom_path = os.path.join(inference_dir, 'building_infer.tif')\n",
    "import rasterio\n",
    "import numpy as np\n",
    "from iobjectspy.ml.vision._inference_collector import BinaryClassificationWithNumpy\n",
    "dom_array = np.transpose(rasterio.open(dom_path).read(), (1, 2, 0))\n",
    "start_time = time.time()\n",
    "\n",
    "# 加载模型是一个耗时操作,预测前初始化对象会自动加载,所有预测结束后,关闭模型\n",
    "extraction = BinaryClassificationWithNumpy(\n",
    "    model_path=building_dom_model)\n",
    "for i in range(5):\n",
    "    result_numpy = extraction.infer(image_data=dom_array, offset=0)\n",
    "extraction.close_model()\n",
    "print(result_numpy)\n",
    "end_time = time.time()\n",
    "print('提取完成，共耗时{}s'.format(\n",
    "    end_time - start_time))"
   ]
  },
  {
   "cell_type": "markdown",
   "metadata": {},
   "source": [
    "# 输入输出都为numpy数组的建筑物提取,且numpy数组为底层预测的最小tile尺寸"
   ]
  },
  {
   "cell_type": "code",
   "execution_count": 8,
   "metadata": {},
   "outputs": [
    {
     "name": "stdout",
     "output_type": "stream",
     "text": [
      "[[0 0 0 ... 0 0 0]\n",
      " [0 0 0 ... 0 0 0]\n",
      " [0 0 0 ... 0 0 0]\n",
      " ...\n",
      " [1 1 1 ... 0 0 0]\n",
      " [1 1 1 ... 0 0 0]\n",
      " [1 1 1 ... 0 0 0]]\n",
      "提取完成，共耗时3.6827621459960938s\n"
     ]
    }
   ],
   "source": [
    "\"\"\"\n",
    "only support the model default size\n",
    ":return:\n",
    "\"\"\"\n",
    "\n",
    "dom_path = os.path.join(inference_dir, 'building_infer.tif')\n",
    "import rasterio\n",
    "import numpy as np\n",
    "from iobjectspy.ml.vision._inference_collector import BinaryClassificationWithTile\n",
    "dom_array = np.transpose(rasterio.open(dom_path).read(), (1, 2, 0))\n",
    "dom_array = dom_array[:640, :640, :]\n",
    "start_time = time.time()\n",
    "\n",
    "# 加载模型是一个耗时操作,预测前初始化对象会自动加载,所有预测结束后,关闭模型\n",
    "extraction = BinaryClassificationWithTile(\n",
    "    model_path=building_dom_model)\n",
    "result_numpy = extraction.infer_tile(image_data=dom_array)\n",
    "extraction.close_model()\n",
    "print(result_numpy)\n",
    "end_time = time.time()\n",
    "print('提取完成，共耗时{}s'.format(\n",
    "    end_time - start_time))"
   ]
  },
  {
   "cell_type": "code",
   "execution_count": null,
   "metadata": {},
   "outputs": [],
   "source": []
  }
 ],
 "metadata": {
  "kernelspec": {
   "display_name": "Python 3",
   "language": "python",
   "name": "python3"
  },
  "language_info": {
   "codemirror_mode": {
    "name": "ipython",
    "version": 3
   },
   "file_extension": ".py",
   "mimetype": "text/x-python",
   "name": "python",
   "nbconvert_exporter": "python",
   "pygments_lexer": "ipython3",
   "version": "3.6.9"
  }
 },
 "nbformat": 4,
 "nbformat_minor": 4
}
