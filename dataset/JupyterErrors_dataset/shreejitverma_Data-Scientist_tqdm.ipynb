{
 "cells": [
  {
   "cell_type": "code",
   "execution_count": 15,
   "metadata": {},
   "outputs": [
    {
     "data": {
      "text/plain": [
       "'# !type -a python\\n# !type -a pip\\n# import numpy\\n# numpy.__path__\\n# !jupyter kernelspec list\\nimport sys\\n!{sys.executable} -m pip install tqdm'"
      ]
     },
     "execution_count": 15,
     "metadata": {},
     "output_type": "execute_result"
    }
   ],
   "source": [
    "'''# !type -a python\n",
    "# !type -a pip\n",
    "# import numpy\n",
    "# numpy.__path__\n",
    "# !jupyter kernelspec list\n",
    "import sys\n",
    "!{sys.executable} -m pip install tqdm'''"
   ]
  },
  {
   "cell_type": "code",
   "execution_count": 6,
   "metadata": {},
   "outputs": [
    {
     "name": "stdout",
     "output_type": "stream",
     "text": [
      "Requirement already satisfied: nbconvert in /Users/shreejitverma/Library/Python/3.11/lib/python/site-packages (7.2.6)\n",
      "Requirement already satisfied: beautifulsoup4 in /Users/shreejitverma/Library/Python/3.11/lib/python/site-packages (from nbconvert) (4.11.1)\n",
      "Requirement already satisfied: bleach in /Users/shreejitverma/Library/Python/3.11/lib/python/site-packages (from nbconvert) (5.0.1)\n",
      "Requirement already satisfied: defusedxml in /Users/shreejitverma/Library/Python/3.11/lib/python/site-packages (from nbconvert) (0.7.1)\n",
      "Requirement already satisfied: jinja2>=3.0 in /Users/shreejitverma/Library/Python/3.11/lib/python/site-packages (from nbconvert) (3.1.2)\n",
      "Requirement already satisfied: jupyter-core>=4.7 in /Users/shreejitverma/Library/Python/3.11/lib/python/site-packages (from nbconvert) (5.2.0)\n",
      "Requirement already satisfied: jupyterlab-pygments in /Users/shreejitverma/Library/Python/3.11/lib/python/site-packages (from nbconvert) (0.2.2)\n",
      "Requirement already satisfied: markupsafe>=2.0 in /Users/shreejitverma/Library/Python/3.11/lib/python/site-packages (from nbconvert) (2.1.1)\n",
      "Requirement already satisfied: mistune<3,>=2.0.3 in /Users/shreejitverma/Library/Python/3.11/lib/python/site-packages (from nbconvert) (2.0.4)\n",
      "Requirement already satisfied: nbclient>=0.5.0 in /Users/shreejitverma/Library/Python/3.11/lib/python/site-packages (from nbconvert) (0.7.2)\n",
      "Requirement already satisfied: nbformat>=5.1 in /Users/shreejitverma/Library/Python/3.11/lib/python/site-packages (from nbconvert) (5.7.0)\n",
      "Requirement already satisfied: packaging in /Users/shreejitverma/Library/Python/3.11/lib/python/site-packages (from nbconvert) (23.0)\n",
      "Requirement already satisfied: pandocfilters>=1.4.1 in /Users/shreejitverma/Library/Python/3.11/lib/python/site-packages (from nbconvert) (1.5.0)\n",
      "Requirement already satisfied: pygments>=2.4.1 in /Users/shreejitverma/Library/Python/3.11/lib/python/site-packages (from nbconvert) (2.14.0)\n",
      "Requirement already satisfied: tinycss2 in /Users/shreejitverma/Library/Python/3.11/lib/python/site-packages (from nbconvert) (1.2.1)\n",
      "Requirement already satisfied: traitlets>=5.0 in /Users/shreejitverma/Library/Python/3.11/lib/python/site-packages (from nbconvert) (5.9.0)\n",
      "Requirement already satisfied: platformdirs>=2.5 in /Users/shreejitverma/Library/Python/3.11/lib/python/site-packages (from jupyter-core>=4.7->nbconvert) (2.6.2)\n",
      "Requirement already satisfied: jupyter-client>=6.1.12 in /Users/shreejitverma/Library/Python/3.11/lib/python/site-packages (from nbclient>=0.5.0->nbconvert) (8.0.2)\n",
      "Requirement already satisfied: fastjsonschema in /Users/shreejitverma/Library/Python/3.11/lib/python/site-packages (from nbformat>=5.1->nbconvert) (2.16.2)\n",
      "Requirement already satisfied: jsonschema>=2.6 in /Users/shreejitverma/Library/Python/3.11/lib/python/site-packages (from nbformat>=5.1->nbconvert) (4.17.3)\n",
      "Requirement already satisfied: soupsieve>1.2 in /Users/shreejitverma/Library/Python/3.11/lib/python/site-packages (from beautifulsoup4->nbconvert) (2.3.2.post1)\n",
      "Requirement already satisfied: six>=1.9.0 in /Users/shreejitverma/Library/Python/3.11/lib/python/site-packages (from bleach->nbconvert) (1.16.0)\n",
      "Requirement already satisfied: webencodings in /Users/shreejitverma/Library/Python/3.11/lib/python/site-packages (from bleach->nbconvert) (0.5.1)\n",
      "Requirement already satisfied: attrs>=17.4.0 in /Users/shreejitverma/Library/Python/3.11/lib/python/site-packages (from jsonschema>=2.6->nbformat>=5.1->nbconvert) (22.1.0)\n",
      "Requirement already satisfied: pyrsistent!=0.17.0,!=0.17.1,!=0.17.2,>=0.14.0 in /Users/shreejitverma/Library/Python/3.11/lib/python/site-packages (from jsonschema>=2.6->nbformat>=5.1->nbconvert) (0.19.2)\n",
      "Requirement already satisfied: python-dateutil>=2.8.2 in /Users/shreejitverma/Library/Python/3.11/lib/python/site-packages (from jupyter-client>=6.1.12->nbclient>=0.5.0->nbconvert) (2.8.2)\n",
      "Requirement already satisfied: pyzmq>=23.0 in /Users/shreejitverma/Library/Python/3.11/lib/python/site-packages (from jupyter-client>=6.1.12->nbclient>=0.5.0->nbconvert) (25.0.0)\n",
      "Requirement already satisfied: tornado>=6.2 in /Users/shreejitverma/Library/Python/3.11/lib/python/site-packages (from jupyter-client>=6.1.12->nbclient>=0.5.0->nbconvert) (6.2)\n"
     ]
    }
   ],
   "source": [
    "import sys\n",
    "!{sys.executable} -m pip install "
   ]
  },
  {
   "cell_type": "code",
   "execution_count": 16,
   "metadata": {},
   "outputs": [],
   "source": [
    "from tqdm.auto import tqdm\n",
    "from tqdm.notebook import tqdm\n",
    "import pandas as pd\n",
    "import numpy as np\n",
    "from time import sleep\n",
    "from tqdm import tqdm, trange"
   ]
  },
  {
   "cell_type": "code",
   "execution_count": 17,
   "metadata": {},
   "outputs": [],
   "source": [
    "import importlib.util\n",
    "\n",
    "# For illustrative purposes.\n",
    "package_name = 'tqdm'\n",
    "\n",
    "spec = importlib.util.find_spec(package_name)\n",
    "if spec is None:\n",
    "    print(package_name +\" is not installed\")"
   ]
  },
  {
   "cell_type": "code",
   "execution_count": 18,
   "metadata": {},
   "outputs": [],
   "source": [
    "# Create Fake Data\n",
    "dogs = np.random.choice(['labradoodle', 'beagle', 'mutt'], size=50_000)\n",
    "smell = np.random.randint(0, 100, size=50_000)\n",
    "df = pd.DataFrame(data=np.array([dogs, smell]).T,\n",
    "                  columns=['dog', 'smell'])"
   ]
  },
  {
   "cell_type": "code",
   "execution_count": 19,
   "metadata": {},
   "outputs": [
    {
     "name": "stderr",
     "output_type": "stream",
     "text": [
      "  0%|          | 0/50000 [00:00<?, ?it/s]"
     ]
    },
    {
     "name": "stdout",
     "output_type": "stream",
     "text": [
      "done\n"
     ]
    },
    {
     "name": "stderr",
     "output_type": "stream",
     "text": [
      "\n"
     ]
    }
   ],
   "source": [
    "# Basics\n",
    "for dog in tqdm(dogs):\n",
    "    sleep(0.000001)\n",
    "    break\n",
    "print('done')\n"
   ]
  },
  {
   "cell_type": "code",
   "execution_count": 20,
   "metadata": {},
   "outputs": [
    {
     "name": "stderr",
     "output_type": "stream",
     "text": [
      "100%|██████████████████| 50/50 [00:05<00:00,  9.53it/s]\n"
     ]
    },
    {
     "name": "stdout",
     "output_type": "stream",
     "text": [
      "done\n"
     ]
    },
    {
     "name": "stderr",
     "output_type": "stream",
     "text": [
      "100%|█████████▉| 50000/50001 [00:00<00:00, 55311.15it/s]\n",
      "100%|██████████| 50000/50000 [00:00<00:00, 63707.03it/s]\n",
      "dog counter: 100%|██████████| 50000/50000 [00:00<00:00, 63477.22barks/s]\n",
      "smell counter: 100%|██████████| 2/2 [00:00<00:00,  9.41it/s]\n",
      "smell counter: 100%|██████████| 2/2 [00:00<00:00,  9.42it/s]\n",
      "smell counter: 100%|██████████| 2/2 [00:00<00:00,  9.26it/s]\n",
      "smell counter: 100%|██████████| 2/2 [00:00<00:00,  9.38it/s]\n",
      "smell counter: 100%|██████████| 2/2 [00:00<00:00,  9.48it/s]\n",
      "dog counter: 100%|██████████| 5/5 [00:01<00:00,  4.63it/s]\n",
      "Procressing mutt: 100%|██████████| 10/10 [00:05<00:00,  1.98it/s]      \n",
      "100%|██| 9999999/9999999 [00:00<00:00, 11434673.94it/s]\n",
      "100%|█| 9999999/9999\n",
      "100%\n",
      "100%|██████████| 50000/50000 [00:00<00:00, 65666.94it/s]\n",
      "100%|██████████| 50000/50000 [00:00<00:00, 59589.56it/s]\n",
      "dog bar:   0%|          | 1/50000 [00:00<00:51, 977.69it/s]\n"
     ]
    },
    {
     "ename": "TypeError",
     "evalue": "unsupported operand type(s) for ** or pow(): 'str' and 'int'",
     "output_type": "error",
     "traceback": [
      "\u001b[0;31m---------------------------------------------------------------------------\u001b[0m",
      "\u001b[0;31mTypeError\u001b[0m                                 Traceback (most recent call last)",
      "Cell \u001b[0;32mIn[20], line 58\u001b[0m\n\u001b[1;32m     56\u001b[0m \u001b[39m# TQDM and Pandas\u001b[39;00m\n\u001b[1;32m     57\u001b[0m tqdm\u001b[39m.\u001b[39mpandas(desc\u001b[39m=\u001b[39m\u001b[39m'\u001b[39m\u001b[39mdog bar\u001b[39m\u001b[39m'\u001b[39m)\n\u001b[0;32m---> 58\u001b[0m out \u001b[39m=\u001b[39m df\u001b[39m.\u001b[39;49mprogress_apply(\u001b[39mlambda\u001b[39;49;00m row: row[\u001b[39m'\u001b[39;49m\u001b[39msmell\u001b[39;49m\u001b[39m'\u001b[39;49m]\u001b[39m*\u001b[39;49m\u001b[39m*\u001b[39;49m\u001b[39m2\u001b[39;49m, axis\u001b[39m=\u001b[39;49m\u001b[39m1\u001b[39;49m)\n\u001b[1;32m     60\u001b[0m \u001b[39m# TQDM Notebook\u001b[39;00m\n\u001b[1;32m     61\u001b[0m \u001b[39mfor\u001b[39;00m dog \u001b[39min\u001b[39;00m tqdm(dogs):\n",
      "File \u001b[0;32m/Library/Frameworks/Python.framework/Versions/3.11/lib/python3.11/site-packages/tqdm/std.py:814\u001b[0m, in \u001b[0;36mtqdm.pandas.<locals>.inner_generator.<locals>.inner\u001b[0;34m(df, func, *args, **kwargs)\u001b[0m\n\u001b[1;32m    811\u001b[0m \u001b[39m# Apply the provided function (in **kwargs)\u001b[39;00m\n\u001b[1;32m    812\u001b[0m \u001b[39m# on the df using our wrapper (which provides bar updating)\u001b[39;00m\n\u001b[1;32m    813\u001b[0m \u001b[39mtry\u001b[39;00m:\n\u001b[0;32m--> 814\u001b[0m     \u001b[39mreturn\u001b[39;00m \u001b[39mgetattr\u001b[39;49m(df, df_function)(wrapper, \u001b[39m*\u001b[39;49m\u001b[39m*\u001b[39;49mkwargs)\n\u001b[1;32m    815\u001b[0m \u001b[39mfinally\u001b[39;00m:\n\u001b[1;32m    816\u001b[0m     t\u001b[39m.\u001b[39mclose()\n",
      "File \u001b[0;32m/Library/Frameworks/Python.framework/Versions/3.11/lib/python3.11/site-packages/pandas/core/frame.py:9565\u001b[0m, in \u001b[0;36mDataFrame.apply\u001b[0;34m(self, func, axis, raw, result_type, args, **kwargs)\u001b[0m\n\u001b[1;32m   9554\u001b[0m \u001b[39mfrom\u001b[39;00m \u001b[39mpandas\u001b[39;00m\u001b[39m.\u001b[39;00m\u001b[39mcore\u001b[39;00m\u001b[39m.\u001b[39;00m\u001b[39mapply\u001b[39;00m \u001b[39mimport\u001b[39;00m frame_apply\n\u001b[1;32m   9556\u001b[0m op \u001b[39m=\u001b[39m frame_apply(\n\u001b[1;32m   9557\u001b[0m     \u001b[39mself\u001b[39m,\n\u001b[1;32m   9558\u001b[0m     func\u001b[39m=\u001b[39mfunc,\n\u001b[0;32m   (...)\u001b[0m\n\u001b[1;32m   9563\u001b[0m     kwargs\u001b[39m=\u001b[39mkwargs,\n\u001b[1;32m   9564\u001b[0m )\n\u001b[0;32m-> 9565\u001b[0m \u001b[39mreturn\u001b[39;00m op\u001b[39m.\u001b[39;49mapply()\u001b[39m.\u001b[39m__finalize__(\u001b[39mself\u001b[39m, method\u001b[39m=\u001b[39m\u001b[39m\"\u001b[39m\u001b[39mapply\u001b[39m\u001b[39m\"\u001b[39m)\n",
      "File \u001b[0;32m/Library/Frameworks/Python.framework/Versions/3.11/lib/python3.11/site-packages/pandas/core/apply.py:746\u001b[0m, in \u001b[0;36mFrameApply.apply\u001b[0;34m(self)\u001b[0m\n\u001b[1;32m    743\u001b[0m \u001b[39melif\u001b[39;00m \u001b[39mself\u001b[39m\u001b[39m.\u001b[39mraw:\n\u001b[1;32m    744\u001b[0m     \u001b[39mreturn\u001b[39;00m \u001b[39mself\u001b[39m\u001b[39m.\u001b[39mapply_raw()\n\u001b[0;32m--> 746\u001b[0m \u001b[39mreturn\u001b[39;00m \u001b[39mself\u001b[39;49m\u001b[39m.\u001b[39;49mapply_standard()\n",
      "File \u001b[0;32m/Library/Frameworks/Python.framework/Versions/3.11/lib/python3.11/site-packages/pandas/core/apply.py:873\u001b[0m, in \u001b[0;36mFrameApply.apply_standard\u001b[0;34m(self)\u001b[0m\n\u001b[1;32m    872\u001b[0m \u001b[39mdef\u001b[39;00m \u001b[39mapply_standard\u001b[39m(\u001b[39mself\u001b[39m):\n\u001b[0;32m--> 873\u001b[0m     results, res_index \u001b[39m=\u001b[39m \u001b[39mself\u001b[39;49m\u001b[39m.\u001b[39;49mapply_series_generator()\n\u001b[1;32m    875\u001b[0m     \u001b[39m# wrap results\u001b[39;00m\n\u001b[1;32m    876\u001b[0m     \u001b[39mreturn\u001b[39;00m \u001b[39mself\u001b[39m\u001b[39m.\u001b[39mwrap_results(results, res_index)\n",
      "File \u001b[0;32m/Library/Frameworks/Python.framework/Versions/3.11/lib/python3.11/site-packages/pandas/core/apply.py:889\u001b[0m, in \u001b[0;36mFrameApply.apply_series_generator\u001b[0;34m(self)\u001b[0m\n\u001b[1;32m    886\u001b[0m \u001b[39mwith\u001b[39;00m option_context(\u001b[39m\"\u001b[39m\u001b[39mmode.chained_assignment\u001b[39m\u001b[39m\"\u001b[39m, \u001b[39mNone\u001b[39;00m):\n\u001b[1;32m    887\u001b[0m     \u001b[39mfor\u001b[39;00m i, v \u001b[39min\u001b[39;00m \u001b[39menumerate\u001b[39m(series_gen):\n\u001b[1;32m    888\u001b[0m         \u001b[39m# ignore SettingWithCopy here in case the user mutates\u001b[39;00m\n\u001b[0;32m--> 889\u001b[0m         results[i] \u001b[39m=\u001b[39m \u001b[39mself\u001b[39;49m\u001b[39m.\u001b[39;49mf(v)\n\u001b[1;32m    890\u001b[0m         \u001b[39mif\u001b[39;00m \u001b[39misinstance\u001b[39m(results[i], ABCSeries):\n\u001b[1;32m    891\u001b[0m             \u001b[39m# If we have a view on v, we need to make a copy because\u001b[39;00m\n\u001b[1;32m    892\u001b[0m             \u001b[39m#  series_generator will swap out the underlying data\u001b[39;00m\n\u001b[1;32m    893\u001b[0m             results[i] \u001b[39m=\u001b[39m results[i]\u001b[39m.\u001b[39mcopy(deep\u001b[39m=\u001b[39m\u001b[39mFalse\u001b[39;00m)\n",
      "File \u001b[0;32m/Library/Frameworks/Python.framework/Versions/3.11/lib/python3.11/site-packages/tqdm/std.py:809\u001b[0m, in \u001b[0;36mtqdm.pandas.<locals>.inner_generator.<locals>.inner.<locals>.wrapper\u001b[0;34m(*args, **kwargs)\u001b[0m\n\u001b[1;32m    803\u001b[0m \u001b[39mdef\u001b[39;00m \u001b[39mwrapper\u001b[39m(\u001b[39m*\u001b[39margs, \u001b[39m*\u001b[39m\u001b[39m*\u001b[39mkwargs):\n\u001b[1;32m    804\u001b[0m     \u001b[39m# update tbar correctly\u001b[39;00m\n\u001b[1;32m    805\u001b[0m     \u001b[39m# it seems `pandas apply` calls `func` twice\u001b[39;00m\n\u001b[1;32m    806\u001b[0m     \u001b[39m# on the first column/row to decide whether it can\u001b[39;00m\n\u001b[1;32m    807\u001b[0m     \u001b[39m# take a fast or slow code path; so stop when t.total==t.n\u001b[39;00m\n\u001b[1;32m    808\u001b[0m     t\u001b[39m.\u001b[39mupdate(n\u001b[39m=\u001b[39m\u001b[39m1\u001b[39m \u001b[39mif\u001b[39;00m \u001b[39mnot\u001b[39;00m t\u001b[39m.\u001b[39mtotal \u001b[39mor\u001b[39;00m t\u001b[39m.\u001b[39mn \u001b[39m<\u001b[39m t\u001b[39m.\u001b[39mtotal \u001b[39melse\u001b[39;00m \u001b[39m0\u001b[39m)\n\u001b[0;32m--> 809\u001b[0m     \u001b[39mreturn\u001b[39;00m func(\u001b[39m*\u001b[39;49margs, \u001b[39m*\u001b[39;49m\u001b[39m*\u001b[39;49mkwargs)\n",
      "Cell \u001b[0;32mIn[20], line 58\u001b[0m, in \u001b[0;36m<lambda>\u001b[0;34m(row)\u001b[0m\n\u001b[1;32m     56\u001b[0m \u001b[39m# TQDM and Pandas\u001b[39;00m\n\u001b[1;32m     57\u001b[0m tqdm\u001b[39m.\u001b[39mpandas(desc\u001b[39m=\u001b[39m\u001b[39m'\u001b[39m\u001b[39mdog bar\u001b[39m\u001b[39m'\u001b[39m)\n\u001b[0;32m---> 58\u001b[0m out \u001b[39m=\u001b[39m df\u001b[39m.\u001b[39mprogress_apply(\u001b[39mlambda\u001b[39;00m row: row[\u001b[39m'\u001b[39;49m\u001b[39msmell\u001b[39;49m\u001b[39m'\u001b[39;49m]\u001b[39m*\u001b[39;49m\u001b[39m*\u001b[39;49m\u001b[39m2\u001b[39;49m, axis\u001b[39m=\u001b[39m\u001b[39m1\u001b[39m)\n\u001b[1;32m     60\u001b[0m \u001b[39m# TQDM Notebook\u001b[39;00m\n\u001b[1;32m     61\u001b[0m \u001b[39mfor\u001b[39;00m dog \u001b[39min\u001b[39;00m tqdm(dogs):\n",
      "\u001b[0;31mTypeError\u001b[0m: unsupported operand type(s) for ** or pow(): 'str' and 'int'"
     ]
    }
   ],
   "source": [
    "\n",
    "# trange example\n",
    "for i in trange(50, ncols=55):\n",
    "    sleep(0.1)\n",
    "print('done')\n",
    "\n",
    "# Manually entering total length\n",
    "for dog in tqdm(dogs, total=50_001):\n",
    "    sleep(0.00001)\n",
    "\n",
    "# Create a pbar\n",
    "pbar = tqdm(total=50_000)\n",
    "for s in smell:\n",
    "    pbar.update(1)\n",
    "    sleep(0.00001)\n",
    "pbar.close()\n",
    "\n",
    "# Setting description and unit\n",
    "for dog in tqdm(dogs, desc='dog counter', unit='barks'):\n",
    "    sleep(0.00001)\n",
    "\n",
    "# Nested progress bars\n",
    "for dog in tqdm(dogs[:5], desc='dog counter', total=5):\n",
    "    for s in tqdm(smell[:2], desc='smell counter', total=2):\n",
    "        sleep(0.1)\n",
    "\n",
    "# Dynamic description\n",
    "pbar = tqdm(dogs[:10])\n",
    "for dog in pbar:\n",
    "    sleep(0.5)\n",
    "    pbar.set_description(f'Procressing {dog}')\n",
    "\n",
    "# Control the Bar Size\n",
    "for i in tqdm(range(9999999), ncols=55):\n",
    "    pass\n",
    "\n",
    "# Remove the time stats\n",
    "for i in tqdm(range(9999999), ncols=20):\n",
    "    pass\n",
    "\n",
    "# Only show %\n",
    "for i in tqdm(range(9999999), ncols=4):\n",
    "    pass\n",
    "\n",
    "# Setting the interval\n",
    "for dog in tqdm(dogs, mininterval=1):\n",
    "    sleep(0.00001)\n",
    "\n",
    "for dog in tqdm(dogs, maxinterval=100):\n",
    "    sleep(0.00001)\n",
    "\n",
    "# Disabiling tqdm\n",
    "debug = False\n",
    "for s in tqdm(smell, disable=not debug):\n",
    "    sleep(0.00001)\n",
    "\n",
    "# TQDM and Pandas\n",
    "tqdm.pandas(desc='dog bar')\n",
    "out = df.progress_apply(lambda row: row['smell']**2, axis=1)\n",
    "\n",
    "# TQDM Notebook\n",
    "for dog in tqdm(dogs):\n",
    "    sleep(0.000001)\n",
    "\n",
    "# Notebook bar turns red if breaks\n",
    "counter = 0\n",
    "for dog in tqdm(dogs):\n",
    "    if dog == \"beagle\":\n",
    "        counter += 1\n",
    "    if counter == 10_000:\n",
    "        break\n",
    "\n",
    "# Tqdm auto (selects tqdm or tqdm.notebook version)\n",
    "\n",
    "# Tqdm in the command line\n",
    "!seq 9999999 | python3 - m tqdm - -bytes | wc - l\n",
    "\n",
    "# Read the docs:\n",
    "help(tqdm)\n"
   ]
  },
  {
   "cell_type": "code",
   "execution_count": 22,
   "metadata": {},
   "outputs": [
    {
     "name": "stdout",
     "output_type": "stream",
     "text": [
      "Collecting seaborn\n",
      "  Downloading seaborn-0.12.2-py3-none-any.whl (293 kB)\n",
      "\u001b[2K     \u001b[90m━━━━━━━━━━━━━━━━━━━━━━━━━━━━━━━━━━━━━━━\u001b[0m \u001b[32m293.3/293.3 kB\u001b[0m \u001b[31m5.1 MB/s\u001b[0m eta \u001b[36m0:00:00\u001b[0ma \u001b[36m0:00:01\u001b[0m\n",
      "\u001b[?25hRequirement already satisfied: numpy!=1.24.0,>=1.17 in /Library/Frameworks/Python.framework/Versions/3.11/lib/python3.11/site-packages (from seaborn) (1.23.5)\n",
      "Requirement already satisfied: pandas>=0.25 in /Library/Frameworks/Python.framework/Versions/3.11/lib/python3.11/site-packages (from seaborn) (1.5.2)\n",
      "Requirement already satisfied: matplotlib!=3.6.1,>=3.1 in /Library/Frameworks/Python.framework/Versions/3.11/lib/python3.11/site-packages (from seaborn) (3.7.0)\n",
      "Requirement already satisfied: contourpy>=1.0.1 in /Library/Frameworks/Python.framework/Versions/3.11/lib/python3.11/site-packages (from matplotlib!=3.6.1,>=3.1->seaborn) (1.0.7)\n",
      "Requirement already satisfied: cycler>=0.10 in /Library/Frameworks/Python.framework/Versions/3.11/lib/python3.11/site-packages (from matplotlib!=3.6.1,>=3.1->seaborn) (0.11.0)\n",
      "Requirement already satisfied: fonttools>=4.22.0 in /Library/Frameworks/Python.framework/Versions/3.11/lib/python3.11/site-packages (from matplotlib!=3.6.1,>=3.1->seaborn) (4.38.0)\n",
      "Requirement already satisfied: kiwisolver>=1.0.1 in /Library/Frameworks/Python.framework/Versions/3.11/lib/python3.11/site-packages (from matplotlib!=3.6.1,>=3.1->seaborn) (1.4.4)\n",
      "Requirement already satisfied: packaging>=20.0 in /Users/shreejitverma/Library/Python/3.11/lib/python/site-packages (from matplotlib!=3.6.1,>=3.1->seaborn) (23.0)\n",
      "Requirement already satisfied: pillow>=6.2.0 in /Library/Frameworks/Python.framework/Versions/3.11/lib/python3.11/site-packages (from matplotlib!=3.6.1,>=3.1->seaborn) (9.4.0)\n",
      "Requirement already satisfied: pyparsing>=2.3.1 in /Users/shreejitverma/Library/Python/3.11/lib/python/site-packages (from matplotlib!=3.6.1,>=3.1->seaborn) (3.0.9)\n",
      "Requirement already satisfied: python-dateutil>=2.7 in /Users/shreejitverma/Library/Python/3.11/lib/python/site-packages (from matplotlib!=3.6.1,>=3.1->seaborn) (2.8.2)\n",
      "Requirement already satisfied: pytz>=2020.1 in /Library/Frameworks/Python.framework/Versions/3.11/lib/python3.11/site-packages (from pandas>=0.25->seaborn) (2022.6)\n",
      "Requirement already satisfied: six>=1.5 in /Users/shreejitverma/Library/Python/3.11/lib/python/site-packages (from python-dateutil>=2.7->matplotlib!=3.6.1,>=3.1->seaborn) (1.16.0)\n",
      "Installing collected packages: seaborn\n",
      "Successfully installed seaborn-0.12.2\n",
      "\n",
      "\u001b[1m[\u001b[0m\u001b[34;49mnotice\u001b[0m\u001b[1;39;49m]\u001b[0m\u001b[39;49m A new release of pip available: \u001b[0m\u001b[31;49m22.3.1\u001b[0m\u001b[39;49m -> \u001b[0m\u001b[32;49m23.0.1\u001b[0m\n",
      "\u001b[1m[\u001b[0m\u001b[34;49mnotice\u001b[0m\u001b[1;39;49m]\u001b[0m\u001b[39;49m To update, run: \u001b[0m\u001b[32;49mpython3.11 -m pip install --upgrade pip\u001b[0m\n"
     ]
    }
   ],
   "source": [
    "import sys\n",
    "!{sys.executable} -m pip install seaborn"
   ]
  },
  {
   "cell_type": "code",
   "execution_count": null,
   "metadata": {},
   "outputs": [],
   "source": []
  }
 ],
 "metadata": {
  "kernelspec": {
   "display_name": "Python 3",
   "language": "python",
   "name": "python3"
  },
  "language_info": {
   "codemirror_mode": {
    "name": "ipython",
    "version": 3
   },
   "file_extension": ".py",
   "mimetype": "text/x-python",
   "name": "python",
   "nbconvert_exporter": "python",
   "pygments_lexer": "ipython3",
   "version": "3.11.1"
  },
  "orig_nbformat": 4,
  "vscode": {
   "interpreter": {
    "hash": "1a1af0ee75eeea9e2e1ee996c87e7a2b11a0bebd85af04bb136d915cefc0abce"
   }
  }
 },
 "nbformat": 4,
 "nbformat_minor": 2
}
