{
 "cells": [
  {
   "cell_type": "code",
   "execution_count": 3,
   "metadata": {
    "colab": {
     "base_uri": "https://localhost:8080/",
     "height": 34
    },
    "colab_type": "code",
    "id": "QctwEeqJ8XmR",
    "outputId": "0c0a5144-3d9d-448f-fe73-8381babe8e40"
   },
   "outputs": [
    {
     "name": "stdout",
     "output_type": "stream",
     "text": [
      "Looking in indexes: https://pypi.org/simple, https://packagecloud.io/github/git-lfs/pypi/simple\n",
      "Collecting numpy==1.16.1\n",
      "  Downloading numpy-1.16.1-cp37-cp37m-manylinux1_x86_64.whl (17.3 MB)\n",
      "\u001b[K     |█████████████████▉              | 9.6 MB 17 kB/s eta 0:07:233     |█▊                              | 931 kB 223 kB/s eta 0:01:14\u001b[31mERROR: Exception:\n",
      "Traceback (most recent call last):\n",
      "  File \"/home/ashwin/anaconda3/lib/python3.7/site-packages/pip/_vendor/urllib3/contrib/pyopenssl.py\", line 313, in recv_into\n",
      "    return self.connection.recv_into(*args, **kwargs)\n",
      "  File \"/home/ashwin/anaconda3/lib/python3.7/site-packages/OpenSSL/SSL.py\", line 1840, in recv_into\n",
      "    self._raise_ssl_error(self._ssl, result)\n",
      "  File \"/home/ashwin/anaconda3/lib/python3.7/site-packages/OpenSSL/SSL.py\", line 1646, in _raise_ssl_error\n",
      "    raise WantReadError()\n",
      "OpenSSL.SSL.WantReadError\n",
      "\n",
      "During handling of the above exception, another exception occurred:\n",
      "\n",
      "Traceback (most recent call last):\n",
      "  File \"/home/ashwin/anaconda3/lib/python3.7/site-packages/pip/_vendor/urllib3/contrib/pyopenssl.py\", line 313, in recv_into\n",
      "    return self.connection.recv_into(*args, **kwargs)\n",
      "  File \"/home/ashwin/anaconda3/lib/python3.7/site-packages/OpenSSL/SSL.py\", line 1840, in recv_into\n",
      "    self._raise_ssl_error(self._ssl, result)\n",
      "  File \"/home/ashwin/anaconda3/lib/python3.7/site-packages/OpenSSL/SSL.py\", line 1646, in _raise_ssl_error\n",
      "    raise WantReadError()\n",
      "OpenSSL.SSL.WantReadError\n",
      "\n",
      "During handling of the above exception, another exception occurred:\n",
      "\n",
      "Traceback (most recent call last):\n",
      "  File \"/home/ashwin/anaconda3/lib/python3.7/site-packages/pip/_vendor/urllib3/response.py\", line 425, in _error_catcher\n",
      "    yield\n",
      "  File \"/home/ashwin/anaconda3/lib/python3.7/site-packages/pip/_vendor/urllib3/response.py\", line 507, in read\n",
      "    data = self._fp.read(amt) if not fp_closed else b\"\"\n",
      "  File \"/home/ashwin/anaconda3/lib/python3.7/site-packages/pip/_vendor/cachecontrol/filewrapper.py\", line 62, in read\n",
      "    data = self.__fp.read(amt)\n",
      "  File \"/home/ashwin/anaconda3/lib/python3.7/http/client.py\", line 447, in read\n",
      "    n = self.readinto(b)\n",
      "  File \"/home/ashwin/anaconda3/lib/python3.7/http/client.py\", line 491, in readinto\n",
      "    n = self.fp.readinto(b)\n",
      "  File \"/home/ashwin/anaconda3/lib/python3.7/socket.py\", line 589, in readinto\n",
      "    return self._sock.recv_into(b)\n",
      "  File \"/home/ashwin/anaconda3/lib/python3.7/site-packages/pip/_vendor/urllib3/contrib/pyopenssl.py\", line 328, in recv_into\n",
      "    return self.recv_into(*args, **kwargs)\n",
      "  File \"/home/ashwin/anaconda3/lib/python3.7/site-packages/pip/_vendor/urllib3/contrib/pyopenssl.py\", line 326, in recv_into\n",
      "    raise timeout(\"The read operation timed out\")\n",
      "socket.timeout: The read operation timed out\n",
      "\n",
      "During handling of the above exception, another exception occurred:\n",
      "\n",
      "Traceback (most recent call last):\n",
      "  File \"/home/ashwin/anaconda3/lib/python3.7/site-packages/pip/_internal/cli/base_command.py\", line 186, in _main\n",
      "    status = self.run(options, args)\n",
      "  File \"/home/ashwin/anaconda3/lib/python3.7/site-packages/pip/_internal/commands/install.py\", line 331, in run\n",
      "    resolver.resolve(requirement_set)\n",
      "  File \"/home/ashwin/anaconda3/lib/python3.7/site-packages/pip/_internal/legacy_resolve.py\", line 177, in resolve\n",
      "    discovered_reqs.extend(self._resolve_one(requirement_set, req))\n",
      "  File \"/home/ashwin/anaconda3/lib/python3.7/site-packages/pip/_internal/legacy_resolve.py\", line 333, in _resolve_one\n",
      "    abstract_dist = self._get_abstract_dist_for(req_to_install)\n",
      "  File \"/home/ashwin/anaconda3/lib/python3.7/site-packages/pip/_internal/legacy_resolve.py\", line 282, in _get_abstract_dist_for\n",
      "    abstract_dist = self.preparer.prepare_linked_requirement(req)\n",
      "  File \"/home/ashwin/anaconda3/lib/python3.7/site-packages/pip/_internal/operations/prepare.py\", line 482, in prepare_linked_requirement\n",
      "    hashes=hashes,\n",
      "  File \"/home/ashwin/anaconda3/lib/python3.7/site-packages/pip/_internal/operations/prepare.py\", line 287, in unpack_url\n",
      "    hashes=hashes,\n",
      "  File \"/home/ashwin/anaconda3/lib/python3.7/site-packages/pip/_internal/operations/prepare.py\", line 159, in unpack_http_url\n",
      "    link, downloader, temp_dir.path, hashes\n",
      "  File \"/home/ashwin/anaconda3/lib/python3.7/site-packages/pip/_internal/operations/prepare.py\", line 303, in _download_http_url\n",
      "    for chunk in download.chunks:\n",
      "  File \"/home/ashwin/anaconda3/lib/python3.7/site-packages/pip/_internal/utils/ui.py\", line 160, in iter\n",
      "    for x in it:\n",
      "  File \"/home/ashwin/anaconda3/lib/python3.7/site-packages/pip/_internal/network/utils.py\", line 39, in response_chunks\n",
      "    decode_content=False,\n",
      "  File \"/home/ashwin/anaconda3/lib/python3.7/site-packages/pip/_vendor/urllib3/response.py\", line 564, in stream\n",
      "    data = self.read(amt=amt, decode_content=decode_content)\n",
      "  File \"/home/ashwin/anaconda3/lib/python3.7/site-packages/pip/_vendor/urllib3/response.py\", line 529, in read\n",
      "    raise IncompleteRead(self._fp_bytes_read, self.length_remaining)\n",
      "  File \"/home/ashwin/anaconda3/lib/python3.7/contextlib.py\", line 130, in __exit__\n",
      "    self.gen.throw(type, value, traceback)\n",
      "  File \"/home/ashwin/anaconda3/lib/python3.7/site-packages/pip/_vendor/urllib3/response.py\", line 430, in _error_catcher\n",
      "    raise ReadTimeoutError(self._pool, None, \"Read timed out.\")\n",
      "pip._vendor.urllib3.exceptions.ReadTimeoutError: HTTPSConnectionPool(host='files.pythonhosted.org', port=443): Read timed out.\u001b[0m\n"
     ]
    }
   ],
   "source": [
    "  !pip install numpy==1.16.1"
   ]
  },
  {
   "cell_type": "code",
   "execution_count": 4,
   "metadata": {
    "colab": {
     "base_uri": "https://localhost:8080/",
     "height": 34
    },
    "colab_type": "code",
    "id": "RxEFd5r07aIw",
    "outputId": "da0353d8-b510-4ea3-cf04-6abdbec3b41f"
   },
   "outputs": [],
   "source": [
    "import numpy as np\n",
    "from sklearn.model_selection import train_test_split\n",
    "from sklearn.metrics import mean_squared_error\n",
    "import matplotlib.pyplot as plt\n",
    "\n",
    "\n",
    "import keras\n",
    "from keras.models import Model, Sequential\n",
    "from keras.layers import Dense, GlobalAveragePooling2D, Input, Embedding, Bidirectional, LSTM, Flatten, concatenate, Dropout, Conv1D, MaxPool1D, BatchNormalization, LeakyReLU, GRU, UpSampling1D, BatchNormalization\n",
    "from keras import optimizers\n",
    "from keras.callbacks import LearningRateScheduler, ModelCheckpoint\n",
    "from keras import  regularizers\n",
    "\n",
    "from keras.losses import mean_squared_error\n",
    "\n",
    "import tensorflow as tf\n"
   ]
  },
  {
   "cell_type": "markdown",
   "metadata": {
    "colab_type": "text",
    "id": "RXWJTHD-5Nw_"
   },
   "source": [
    "# Loading dataset"
   ]
  },
  {
   "cell_type": "code",
   "execution_count": 2,
   "metadata": {
    "colab": {},
    "colab_type": "code",
    "id": "MbJaJXzD8CLL"
   },
   "outputs": [
    {
     "ename": "ValueError",
     "evalue": "Object arrays cannot be loaded when allow_pickle=False",
     "output_type": "error",
     "traceback": [
      "\u001b[0;31m---------------------------------------------------------------------------\u001b[0m",
      "\u001b[0;31mValueError\u001b[0m                                Traceback (most recent call last)",
      "\u001b[0;32m<ipython-input-2-bad0f06252ec>\u001b[0m in \u001b[0;36m<module>\u001b[0;34m\u001b[0m\n\u001b[0;32m----> 1\u001b[0;31m \u001b[0mmatches_X\u001b[0m \u001b[0;34m=\u001b[0m \u001b[0mnp\u001b[0m\u001b[0;34m.\u001b[0m\u001b[0mload\u001b[0m\u001b[0;34m(\u001b[0m\u001b[0;34m\"matches_X_final.npy\"\u001b[0m\u001b[0;34m)\u001b[0m\u001b[0;34m\u001b[0m\u001b[0;34m\u001b[0m\u001b[0m\n\u001b[0m\u001b[1;32m      2\u001b[0m \u001b[0mplayers_X\u001b[0m \u001b[0;34m=\u001b[0m \u001b[0mnp\u001b[0m\u001b[0;34m.\u001b[0m\u001b[0mload\u001b[0m\u001b[0;34m(\u001b[0m\u001b[0;34m\"players_X_final.npy\"\u001b[0m\u001b[0;34m)\u001b[0m\u001b[0;34m\u001b[0m\u001b[0;34m\u001b[0m\u001b[0m\n\u001b[1;32m      3\u001b[0m \u001b[0;31m#Y = np.load(\"Y_final.npy\")\u001b[0m\u001b[0;34m\u001b[0m\u001b[0;34m\u001b[0m\u001b[0;34m\u001b[0m\u001b[0m\n",
      "\u001b[0;32m~/anaconda3/lib/python3.7/site-packages/numpy/lib/npyio.py\u001b[0m in \u001b[0;36mload\u001b[0;34m(file, mmap_mode, allow_pickle, fix_imports, encoding)\u001b[0m\n\u001b[1;32m    451\u001b[0m             \u001b[0;32melse\u001b[0m\u001b[0;34m:\u001b[0m\u001b[0;34m\u001b[0m\u001b[0;34m\u001b[0m\u001b[0m\n\u001b[1;32m    452\u001b[0m                 return format.read_array(fid, allow_pickle=allow_pickle,\n\u001b[0;32m--> 453\u001b[0;31m                                          pickle_kwargs=pickle_kwargs)\n\u001b[0m\u001b[1;32m    454\u001b[0m         \u001b[0;32melse\u001b[0m\u001b[0;34m:\u001b[0m\u001b[0;34m\u001b[0m\u001b[0;34m\u001b[0m\u001b[0m\n\u001b[1;32m    455\u001b[0m             \u001b[0;31m# Try a pickle\u001b[0m\u001b[0;34m\u001b[0m\u001b[0;34m\u001b[0m\u001b[0;34m\u001b[0m\u001b[0m\n",
      "\u001b[0;32m~/anaconda3/lib/python3.7/site-packages/numpy/lib/format.py\u001b[0m in \u001b[0;36mread_array\u001b[0;34m(fp, allow_pickle, pickle_kwargs)\u001b[0m\n\u001b[1;32m    737\u001b[0m         \u001b[0;31m# The array contained Python objects. We need to unpickle the data.\u001b[0m\u001b[0;34m\u001b[0m\u001b[0;34m\u001b[0m\u001b[0;34m\u001b[0m\u001b[0m\n\u001b[1;32m    738\u001b[0m         \u001b[0;32mif\u001b[0m \u001b[0;32mnot\u001b[0m \u001b[0mallow_pickle\u001b[0m\u001b[0;34m:\u001b[0m\u001b[0;34m\u001b[0m\u001b[0;34m\u001b[0m\u001b[0m\n\u001b[0;32m--> 739\u001b[0;31m             raise ValueError(\"Object arrays cannot be loaded when \"\n\u001b[0m\u001b[1;32m    740\u001b[0m                              \"allow_pickle=False\")\n\u001b[1;32m    741\u001b[0m         \u001b[0;32mif\u001b[0m \u001b[0mpickle_kwargs\u001b[0m \u001b[0;32mis\u001b[0m \u001b[0;32mNone\u001b[0m\u001b[0;34m:\u001b[0m\u001b[0;34m\u001b[0m\u001b[0;34m\u001b[0m\u001b[0m\n",
      "\u001b[0;31mValueError\u001b[0m: Object arrays cannot be loaded when allow_pickle=False"
     ]
    }
   ],
   "source": [
    "matches_X = np.load(\"matches_X_final.npy\")\n",
    "players_X = np.load(\"players_X_final.npy\")\n",
    "#Y = np.load(\"Y_final.npy\")"
   ]
  },
  {
   "cell_type": "code",
   "execution_count": null,
   "metadata": {
    "colab": {
     "base_uri": "https://localhost:8080/",
     "height": 51
    },
    "colab_type": "code",
    "id": "etByhqmG8Qcm",
    "outputId": "51655c3c-b9a3-42ba-b944-d9b4f9909ce0"
   },
   "outputs": [],
   "source": [
    "print(matches_X.shape)\n",
    "print(players_X.shape)\n",
    "#print(Y.shape)"
   ]
  },
  {
   "cell_type": "code",
   "execution_count": 0,
   "metadata": {
    "colab": {},
    "colab_type": "code",
    "id": "E-XAUmCCFX4Z"
   },
   "outputs": [],
   "source": [
    "matches_X_new = np.reshape(matches_X, (matches_X.shape[0], matches_X.shape[1]*matches_X.shape[2]))\n",
    "players_X_new = np.reshape(players_X, (players_X.shape[0], players_X.shape[1]*players_X.shape[2]))"
   ]
  },
  {
   "cell_type": "code",
   "execution_count": 0,
   "metadata": {
    "colab": {},
    "colab_type": "code",
    "id": "rP-2uFYAenbx"
   },
   "outputs": [],
   "source": [
    "matches_X_new_1 = np.reshape(matches_X, (matches_X.shape[0], matches_X.shape[1]*matches_X.shape[2], 1))\n",
    "players_X_new_1 = np.reshape(players_X, (players_X.shape[0], players_X.shape[1]*players_X.shape[2], 1))"
   ]
  },
  {
   "cell_type": "code",
   "execution_count": 0,
   "metadata": {
    "colab": {
     "base_uri": "https://localhost:8080/",
     "height": 85
    },
    "colab_type": "code",
    "id": "feqQpXXVFsWn",
    "outputId": "607b1299-9b37-462c-a319-6fcbf8c1a93c"
   },
   "outputs": [
    {
     "name": "stdout",
     "output_type": "stream",
     "text": [
      "(157, 46)\n",
      "(157, 360)\n",
      "(157, 46, 1)\n",
      "(157, 360, 1)\n"
     ]
    }
   ],
   "source": [
    "print(matches_X_new.shape)\n",
    "print(players_X_new.shape)\n",
    "print(matches_X_new_1.shape)\n",
    "print(players_X_new_1.shape)"
   ]
  },
  {
   "cell_type": "code",
   "execution_count": 0,
   "metadata": {
    "colab": {},
    "colab_type": "code",
    "id": "ud1qRf4y_hpk"
   },
   "outputs": [],
   "source": [
    "matches_X_train, matches_X_val, players_X_train, players_X_val = train_test_split(matches_X_new, players_X_new, shuffle=True, test_size=0.1)"
   ]
  },
  {
   "cell_type": "code",
   "execution_count": 0,
   "metadata": {
    "colab": {
     "base_uri": "https://localhost:8080/",
     "height": 51
    },
    "colab_type": "code",
    "id": "98OSmqPt_0u-",
    "outputId": "27362a87-97d2-476d-e8cb-016db8733505"
   },
   "outputs": [
    {
     "name": "stdout",
     "output_type": "stream",
     "text": [
      "(141, 46)\n",
      "(141, 360)\n"
     ]
    }
   ],
   "source": [
    "print(matches_X_train.shape)\n",
    "print(players_X_train.shape)\n",
    "#print(Y_train.shape)"
   ]
  },
  {
   "cell_type": "markdown",
   "metadata": {
    "colab_type": "text",
    "id": "uHNeOOkU2dko"
   },
   "source": [
    "# Original Model"
   ]
  },
  {
   "cell_type": "code",
   "execution_count": 0,
   "metadata": {
    "colab": {},
    "colab_type": "code",
    "id": "njCVAnfs9Hfr"
   },
   "outputs": [],
   "source": [
    "input_1 = Input(shape=(124, 1))\n",
    "input_2 = Input(shape=(360, 1))\n",
    "\n",
    "match = Conv1D(216, 3, activation='relu')(input_1)\n",
    "match = Dropout(0.5)(match)\n",
    "match = Flatten()(match)\n",
    "match = Dense(216, activation='relu', kernel_initializer='normal')(match)\n",
    "match = Dropout(0.5)(match)\n",
    "match = Dense(128, activation='relu')(match)\n",
    "match = Dropout(0.5)(match)\n",
    "\n",
    "player = Conv1D(216, 3, activation='relu')(input_2)\n",
    "player = Dropout(0.5)(player)\n",
    "player = Flatten()(player)\n",
    "player = Dense(216, activation='relu', kernel_initializer='normal')(player)\n",
    "player = Dropout(0.5)(player)\n",
    "player = Dense(128, activation='relu')(player)\n",
    "player = Dropout(0.5)(player)\n",
    "\n",
    "concat = concatenate([match, player])\n",
    "concat = Dense(128, activation='relu')(concat)\n",
    "concat = Dropout(0.5)(concat)\n",
    "\n",
    "out = Dense(297, activation='relu')(concat)\n",
    "\n",
    "model = Model(inputs=[input_1, input_2], outputs=[out])\n",
    "model.compile(optimizer='adam', loss='mse', metrics=[tf.keras.metrics.RootMeanSquaredError()])"
   ]
  },
  {
   "cell_type": "code",
   "execution_count": 0,
   "metadata": {
    "colab": {},
    "colab_type": "code",
    "id": "ZH-kFZ4pEvIx"
   },
   "outputs": [],
   "source": [
    "model.summary()"
   ]
  },
  {
   "cell_type": "code",
   "execution_count": 0,
   "metadata": {
    "colab": {},
    "colab_type": "code",
    "id": "0eK-aQZaEypX"
   },
   "outputs": [],
   "source": [
    "history = model.fit(x=[matches_X_new_1, players_X_new_1], y=Y, validation_split=0.1, batch_size=10, epochs=100)\n",
    "# history = model.fit(x=[matches_X_train, players_X_train],y=Y_train,  batch_size= 10,epochs=20)"
   ]
  },
  {
   "cell_type": "markdown",
   "metadata": {
    "colab_type": "text",
    "id": "ilpQ2nsb2jre"
   },
   "source": [
    "# Autoencoder Model\n",
    "Not being used"
   ]
  },
  {
   "cell_type": "code",
   "execution_count": 0,
   "metadata": {
    "colab": {},
    "colab_type": "code",
    "id": "cg-y01w_UE8k"
   },
   "outputs": [],
   "source": [
    "input_m = Input(shape=(124,1))\n",
    "x = Conv1D(216, 3, activation='relu', padding='same')(input_m)\n",
    "x = Dropout(0.5)(x)\n",
    "x = MaxPool1D(2, padding='same')(x)\n",
    "x = Conv1D(128, 3, activation='relu', padding='same')(x)\n",
    "x = Dropout(0.5)(x)\n",
    "x = MaxPool1D(2, padding='same')(x)\n",
    "x = Conv1D(64, 3, activation='relu', padding='same')(x)\n",
    "encoded = MaxPool1D(2, padding='same')(x)\n",
    "\n",
    "\n",
    "\n",
    "x = Conv1D(64, 3, activation='relu', padding='same')(encoded)\n",
    "x = UpSampling1D(2)(x)\n",
    "x = Conv1D(128, 2, activation='relu')(x)\n",
    "x = Dropout(0.5)(x)\n",
    "x = UpSampling1D(2)(x)\n",
    "x = Conv1D(216, 3, activation='relu', padding='same')(x)\n",
    "x = Dropout(0.5)(x)\n",
    "x = UpSampling1D(2)(x)\n",
    "decoded = Conv1D(1, 3, activation='relu',padding='same')(x)\n",
    "\n",
    "autoencoder_matches = Model(input_m, decoded)\n",
    "autoencoder_matches.compile(optimizer='adam', loss='mse',metrics=[tf.keras.metrics.RootMeanSquaredError()])"
   ]
  },
  {
   "cell_type": "code",
   "execution_count": 0,
   "metadata": {
    "colab": {
     "base_uri": "https://localhost:8080/",
     "height": 765
    },
    "colab_type": "code",
    "id": "JjgkKbf0wnKP",
    "outputId": "f04f65f5-7f8d-4d58-a79b-1c6c952223a1"
   },
   "outputs": [
    {
     "name": "stdout",
     "output_type": "stream",
     "text": [
      "Model: \"model_1\"\n",
      "_________________________________________________________________\n",
      "Layer (type)                 Output Shape              Param #   \n",
      "=================================================================\n",
      "input_1 (InputLayer)         (None, 124, 1)            0         \n",
      "_________________________________________________________________\n",
      "conv1d_1 (Conv1D)            (None, 124, 216)          864       \n",
      "_________________________________________________________________\n",
      "dropout_1 (Dropout)          (None, 124, 216)          0         \n",
      "_________________________________________________________________\n",
      "max_pooling1d_1 (MaxPooling1 (None, 62, 216)           0         \n",
      "_________________________________________________________________\n",
      "conv1d_2 (Conv1D)            (None, 62, 128)           83072     \n",
      "_________________________________________________________________\n",
      "dropout_2 (Dropout)          (None, 62, 128)           0         \n",
      "_________________________________________________________________\n",
      "max_pooling1d_2 (MaxPooling1 (None, 31, 128)           0         \n",
      "_________________________________________________________________\n",
      "conv1d_3 (Conv1D)            (None, 31, 64)            24640     \n",
      "_________________________________________________________________\n",
      "max_pooling1d_3 (MaxPooling1 (None, 16, 64)            0         \n",
      "_________________________________________________________________\n",
      "conv1d_4 (Conv1D)            (None, 16, 64)            12352     \n",
      "_________________________________________________________________\n",
      "up_sampling1d_1 (UpSampling1 (None, 32, 64)            0         \n",
      "_________________________________________________________________\n",
      "conv1d_5 (Conv1D)            (None, 31, 128)           16512     \n",
      "_________________________________________________________________\n",
      "dropout_3 (Dropout)          (None, 31, 128)           0         \n",
      "_________________________________________________________________\n",
      "up_sampling1d_2 (UpSampling1 (None, 62, 128)           0         \n",
      "_________________________________________________________________\n",
      "conv1d_6 (Conv1D)            (None, 62, 216)           83160     \n",
      "_________________________________________________________________\n",
      "dropout_4 (Dropout)          (None, 62, 216)           0         \n",
      "_________________________________________________________________\n",
      "up_sampling1d_3 (UpSampling1 (None, 124, 216)          0         \n",
      "_________________________________________________________________\n",
      "conv1d_7 (Conv1D)            (None, 124, 1)            649       \n",
      "=================================================================\n",
      "Total params: 221,249\n",
      "Trainable params: 221,249\n",
      "Non-trainable params: 0\n",
      "_________________________________________________________________\n"
     ]
    }
   ],
   "source": [
    "autoencoder_matches.summary()"
   ]
  },
  {
   "cell_type": "code",
   "execution_count": 0,
   "metadata": {
    "colab": {},
    "colab_type": "code",
    "id": "InjX9eiEuwJV"
   },
   "outputs": [],
   "source": [
    "input_m = Input(shape=(360,1))\n",
    "x = Conv1D(216, 3, activation='relu', padding='same')(input_m)\n",
    "x = Dropout(0.5)(x)\n",
    "x = MaxPool1D(2, padding='same')(x)\n",
    "x = Conv1D(128, 3, activation='relu', padding='same')(x)\n",
    "x = Dropout(0.5)(x)\n",
    "x = MaxPool1D(2, padding='same')(x)\n",
    "x = Conv1D(64, 3, activation='relu', padding='same')(x)\n",
    "encoded = MaxPool1D(2, padding='same')(x)\n",
    "\n",
    "\n",
    "\n",
    "x = Conv1D(64, 3, activation='relu', padding='same')(encoded)\n",
    "x = UpSampling1D(2)(x)\n",
    "x = Conv1D(128, 3, activation='relu', padding='same')(x)\n",
    "x = Dropout(0.5)(x)\n",
    "x = UpSampling1D(2)(x)\n",
    "x = Conv1D(216, 3, activation='relu', padding='same')(x)\n",
    "x = Dropout(0.5)(x)\n",
    "x = UpSampling1D(2)(x)\n",
    "decoded = Conv1D(1, 3, activation='relu', padding='same')(x)\n",
    "\n",
    "autoencoder_player = Model(input_m, decoded)\n",
    "autoencoder_player.compile(optimizer='adam', loss='mse',metrics=[tf.keras.metrics.RootMeanSquaredError()])"
   ]
  },
  {
   "cell_type": "code",
   "execution_count": 0,
   "metadata": {
    "colab": {
     "base_uri": "https://localhost:8080/",
     "height": 765
    },
    "colab_type": "code",
    "id": "x883lhZG3v8L",
    "outputId": "050ff330-63a6-43df-8430-66e5b56f5f07"
   },
   "outputs": [
    {
     "name": "stdout",
     "output_type": "stream",
     "text": [
      "Model: \"model_2\"\n",
      "_________________________________________________________________\n",
      "Layer (type)                 Output Shape              Param #   \n",
      "=================================================================\n",
      "input_2 (InputLayer)         (None, 360, 1)            0         \n",
      "_________________________________________________________________\n",
      "conv1d_8 (Conv1D)            (None, 360, 216)          864       \n",
      "_________________________________________________________________\n",
      "dropout_5 (Dropout)          (None, 360, 216)          0         \n",
      "_________________________________________________________________\n",
      "max_pooling1d_4 (MaxPooling1 (None, 180, 216)          0         \n",
      "_________________________________________________________________\n",
      "conv1d_9 (Conv1D)            (None, 180, 128)          83072     \n",
      "_________________________________________________________________\n",
      "dropout_6 (Dropout)          (None, 180, 128)          0         \n",
      "_________________________________________________________________\n",
      "max_pooling1d_5 (MaxPooling1 (None, 90, 128)           0         \n",
      "_________________________________________________________________\n",
      "conv1d_10 (Conv1D)           (None, 90, 64)            24640     \n",
      "_________________________________________________________________\n",
      "max_pooling1d_6 (MaxPooling1 (None, 45, 64)            0         \n",
      "_________________________________________________________________\n",
      "conv1d_11 (Conv1D)           (None, 45, 64)            12352     \n",
      "_________________________________________________________________\n",
      "up_sampling1d_4 (UpSampling1 (None, 90, 64)            0         \n",
      "_________________________________________________________________\n",
      "conv1d_12 (Conv1D)           (None, 90, 128)           24704     \n",
      "_________________________________________________________________\n",
      "dropout_7 (Dropout)          (None, 90, 128)           0         \n",
      "_________________________________________________________________\n",
      "up_sampling1d_5 (UpSampling1 (None, 180, 128)          0         \n",
      "_________________________________________________________________\n",
      "conv1d_13 (Conv1D)           (None, 180, 216)          83160     \n",
      "_________________________________________________________________\n",
      "dropout_8 (Dropout)          (None, 180, 216)          0         \n",
      "_________________________________________________________________\n",
      "up_sampling1d_6 (UpSampling1 (None, 360, 216)          0         \n",
      "_________________________________________________________________\n",
      "conv1d_14 (Conv1D)           (None, 360, 1)            649       \n",
      "=================================================================\n",
      "Total params: 229,441\n",
      "Trainable params: 229,441\n",
      "Non-trainable params: 0\n",
      "_________________________________________________________________\n"
     ]
    }
   ],
   "source": [
    "autoencoder_player.summary()"
   ]
  },
  {
   "cell_type": "code",
   "execution_count": 0,
   "metadata": {
    "colab": {
     "base_uri": "https://localhost:8080/",
     "height": 1000
    },
    "colab_type": "code",
    "id": "8eVhDYFgV7DD",
    "outputId": "c3817a95-2b30-4448-e4ad-895f25e4105d"
   },
   "outputs": [
    {
     "name": "stdout",
     "output_type": "stream",
     "text": [
      "Train on 141 samples, validate on 16 samples\n",
      "Epoch 1/100\n",
      "141/141 [==============================] - 1s 10ms/step - loss: 0.0417 - root_mean_squared_error: 0.2157 - val_loss: 0.0482 - val_root_mean_squared_error: 0.2057\n",
      "Epoch 2/100\n",
      "141/141 [==============================] - 1s 4ms/step - loss: 0.0290 - root_mean_squared_error: 0.1962 - val_loss: 0.0435 - val_root_mean_squared_error: 0.1908\n",
      "Epoch 3/100\n",
      "141/141 [==============================] - 1s 4ms/step - loss: 0.0267 - root_mean_squared_error: 0.1860 - val_loss: 0.0414 - val_root_mean_squared_error: 0.1835\n",
      "Epoch 4/100\n",
      "141/141 [==============================] - 1s 4ms/step - loss: 0.0251 - root_mean_squared_error: 0.1803 - val_loss: 0.0372 - val_root_mean_squared_error: 0.1784\n",
      "Epoch 5/100\n",
      "141/141 [==============================] - 1s 4ms/step - loss: 0.0227 - root_mean_squared_error: 0.1758 - val_loss: 0.0337 - val_root_mean_squared_error: 0.1739\n",
      "Epoch 6/100\n",
      "141/141 [==============================] - 1s 4ms/step - loss: 0.0199 - root_mean_squared_error: 0.1713 - val_loss: 0.0304 - val_root_mean_squared_error: 0.1694\n",
      "Epoch 7/100\n",
      "141/141 [==============================] - 1s 4ms/step - loss: 0.0182 - root_mean_squared_error: 0.1671 - val_loss: 0.0262 - val_root_mean_squared_error: 0.1653\n",
      "Epoch 8/100\n",
      "141/141 [==============================] - 1s 4ms/step - loss: 0.0165 - root_mean_squared_error: 0.1632 - val_loss: 0.0249 - val_root_mean_squared_error: 0.1615\n",
      "Epoch 9/100\n",
      "141/141 [==============================] - 1s 4ms/step - loss: 0.0156 - root_mean_squared_error: 0.1595 - val_loss: 0.0249 - val_root_mean_squared_error: 0.1582\n",
      "Epoch 10/100\n",
      "141/141 [==============================] - 1s 4ms/step - loss: 0.0149 - root_mean_squared_error: 0.1565 - val_loss: 0.0259 - val_root_mean_squared_error: 0.1553\n",
      "Epoch 11/100\n",
      "141/141 [==============================] - 1s 4ms/step - loss: 0.0147 - root_mean_squared_error: 0.1538 - val_loss: 0.0267 - val_root_mean_squared_error: 0.1529\n",
      "Epoch 12/100\n",
      "141/141 [==============================] - 1s 4ms/step - loss: 0.0150 - root_mean_squared_error: 0.1517 - val_loss: 0.0219 - val_root_mean_squared_error: 0.1508\n",
      "Epoch 13/100\n",
      "141/141 [==============================] - 1s 4ms/step - loss: 0.0137 - root_mean_squared_error: 0.1496 - val_loss: 0.0233 - val_root_mean_squared_error: 0.1487\n",
      "Epoch 14/100\n",
      "141/141 [==============================] - 1s 4ms/step - loss: 0.0133 - root_mean_squared_error: 0.1476 - val_loss: 0.0212 - val_root_mean_squared_error: 0.1468\n",
      "Epoch 15/100\n",
      "141/141 [==============================] - 1s 4ms/step - loss: 0.0127 - root_mean_squared_error: 0.1457 - val_loss: 0.0221 - val_root_mean_squared_error: 0.1450\n",
      "Epoch 16/100\n",
      "141/141 [==============================] - 1s 4ms/step - loss: 0.0124 - root_mean_squared_error: 0.1440 - val_loss: 0.0210 - val_root_mean_squared_error: 0.1433\n",
      "Epoch 17/100\n",
      "141/141 [==============================] - 1s 4ms/step - loss: 0.0123 - root_mean_squared_error: 0.1424 - val_loss: 0.0195 - val_root_mean_squared_error: 0.1417\n",
      "Epoch 18/100\n",
      "141/141 [==============================] - 1s 4ms/step - loss: 0.0117 - root_mean_squared_error: 0.1409 - val_loss: 0.0201 - val_root_mean_squared_error: 0.1402\n",
      "Epoch 19/100\n",
      "141/141 [==============================] - 1s 4ms/step - loss: 0.0112 - root_mean_squared_error: 0.1394 - val_loss: 0.0183 - val_root_mean_squared_error: 0.1388\n",
      "Epoch 20/100\n",
      "141/141 [==============================] - 1s 4ms/step - loss: 0.0112 - root_mean_squared_error: 0.1380 - val_loss: 0.0176 - val_root_mean_squared_error: 0.1374\n",
      "Epoch 21/100\n",
      "141/141 [==============================] - 1s 4ms/step - loss: 0.0109 - root_mean_squared_error: 0.1367 - val_loss: 0.0192 - val_root_mean_squared_error: 0.1362\n",
      "Epoch 22/100\n",
      "141/141 [==============================] - 1s 4ms/step - loss: 0.0107 - root_mean_squared_error: 0.1355 - val_loss: 0.0168 - val_root_mean_squared_error: 0.1350\n",
      "Epoch 23/100\n",
      "141/141 [==============================] - 1s 4ms/step - loss: 0.0100 - root_mean_squared_error: 0.1343 - val_loss: 0.0157 - val_root_mean_squared_error: 0.1338\n",
      "Epoch 24/100\n",
      "141/141 [==============================] - 1s 4ms/step - loss: 0.0098 - root_mean_squared_error: 0.1331 - val_loss: 0.0164 - val_root_mean_squared_error: 0.1326\n",
      "Epoch 25/100\n",
      "141/141 [==============================] - 1s 4ms/step - loss: 0.0092 - root_mean_squared_error: 0.1319 - val_loss: 0.0151 - val_root_mean_squared_error: 0.1314\n",
      "Epoch 26/100\n",
      "141/141 [==============================] - 1s 4ms/step - loss: 0.0094 - root_mean_squared_error: 0.1308 - val_loss: 0.0154 - val_root_mean_squared_error: 0.1303\n",
      "Epoch 27/100\n",
      "141/141 [==============================] - 1s 4ms/step - loss: 0.0091 - root_mean_squared_error: 0.1298 - val_loss: 0.0134 - val_root_mean_squared_error: 0.1293\n",
      "Epoch 28/100\n",
      "141/141 [==============================] - 1s 4ms/step - loss: 0.0090 - root_mean_squared_error: 0.1287 - val_loss: 0.0136 - val_root_mean_squared_error: 0.1283\n",
      "Epoch 29/100\n",
      "141/141 [==============================] - 1s 4ms/step - loss: 0.0085 - root_mean_squared_error: 0.1277 - val_loss: 0.0134 - val_root_mean_squared_error: 0.1273\n",
      "Epoch 30/100\n",
      "141/141 [==============================] - 1s 4ms/step - loss: 0.0085 - root_mean_squared_error: 0.1267 - val_loss: 0.0127 - val_root_mean_squared_error: 0.1263\n",
      "Epoch 31/100\n",
      "141/141 [==============================] - 1s 4ms/step - loss: 0.0080 - root_mean_squared_error: 0.1258 - val_loss: 0.0125 - val_root_mean_squared_error: 0.1254\n",
      "Epoch 32/100\n",
      "141/141 [==============================] - 1s 4ms/step - loss: 0.0078 - root_mean_squared_error: 0.1248 - val_loss: 0.0125 - val_root_mean_squared_error: 0.1244\n",
      "Epoch 33/100\n",
      "141/141 [==============================] - 1s 4ms/step - loss: 0.0078 - root_mean_squared_error: 0.1239 - val_loss: 0.0129 - val_root_mean_squared_error: 0.1236\n",
      "Epoch 34/100\n",
      "141/141 [==============================] - 1s 4ms/step - loss: 0.0079 - root_mean_squared_error: 0.1231 - val_loss: 0.0104 - val_root_mean_squared_error: 0.1227\n",
      "Epoch 35/100\n",
      "141/141 [==============================] - 1s 4ms/step - loss: 0.0076 - root_mean_squared_error: 0.1222 - val_loss: 0.0133 - val_root_mean_squared_error: 0.1219\n",
      "Epoch 36/100\n",
      "141/141 [==============================] - 1s 4ms/step - loss: 0.0078 - root_mean_squared_error: 0.1215 - val_loss: 0.0103 - val_root_mean_squared_error: 0.1211\n",
      "Epoch 37/100\n",
      "141/141 [==============================] - 1s 4ms/step - loss: 0.0076 - root_mean_squared_error: 0.1207 - val_loss: 0.0129 - val_root_mean_squared_error: 0.1204\n",
      "Epoch 38/100\n",
      "141/141 [==============================] - 1s 4ms/step - loss: 0.0074 - root_mean_squared_error: 0.1200 - val_loss: 0.0107 - val_root_mean_squared_error: 0.1197\n",
      "Epoch 39/100\n",
      "141/141 [==============================] - 1s 4ms/step - loss: 0.0073 - root_mean_squared_error: 0.1193 - val_loss: 0.0110 - val_root_mean_squared_error: 0.1189\n",
      "Epoch 40/100\n",
      "141/141 [==============================] - 1s 4ms/step - loss: 0.0069 - root_mean_squared_error: 0.1185 - val_loss: 0.0112 - val_root_mean_squared_error: 0.1182\n",
      "Epoch 41/100\n",
      "141/141 [==============================] - 1s 4ms/step - loss: 0.0070 - root_mean_squared_error: 0.1178 - val_loss: 0.0114 - val_root_mean_squared_error: 0.1175\n",
      "Epoch 42/100\n",
      "141/141 [==============================] - 1s 4ms/step - loss: 0.0071 - root_mean_squared_error: 0.1172 - val_loss: 0.0102 - val_root_mean_squared_error: 0.1169\n",
      "Epoch 43/100\n",
      "141/141 [==============================] - 1s 4ms/step - loss: 0.0069 - root_mean_squared_error: 0.1165 - val_loss: 0.0111 - val_root_mean_squared_error: 0.1163\n",
      "Epoch 44/100\n",
      "141/141 [==============================] - 1s 4ms/step - loss: 0.0068 - root_mean_squared_error: 0.1159 - val_loss: 0.0102 - val_root_mean_squared_error: 0.1156\n",
      "Epoch 45/100\n",
      "141/141 [==============================] - 1s 4ms/step - loss: 0.0069 - root_mean_squared_error: 0.1153 - val_loss: 0.0104 - val_root_mean_squared_error: 0.1151\n",
      "Epoch 46/100\n",
      "141/141 [==============================] - 1s 4ms/step - loss: 0.0066 - root_mean_squared_error: 0.1147 - val_loss: 0.0092 - val_root_mean_squared_error: 0.1145\n",
      "Epoch 47/100\n",
      "141/141 [==============================] - 1s 4ms/step - loss: 0.0067 - root_mean_squared_error: 0.1141 - val_loss: 0.0102 - val_root_mean_squared_error: 0.1139\n",
      "Epoch 48/100\n",
      "141/141 [==============================] - 1s 4ms/step - loss: 0.0065 - root_mean_squared_error: 0.1136 - val_loss: 0.0107 - val_root_mean_squared_error: 0.1133\n",
      "Epoch 49/100\n",
      "141/141 [==============================] - 1s 4ms/step - loss: 0.0063 - root_mean_squared_error: 0.1130 - val_loss: 0.0106 - val_root_mean_squared_error: 0.1128\n",
      "Epoch 50/100\n",
      "141/141 [==============================] - 1s 4ms/step - loss: 0.0063 - root_mean_squared_error: 0.1125 - val_loss: 0.0096 - val_root_mean_squared_error: 0.1122\n",
      "Epoch 51/100\n",
      "141/141 [==============================] - 1s 4ms/step - loss: 0.0063 - root_mean_squared_error: 0.1119 - val_loss: 0.0093 - val_root_mean_squared_error: 0.1117\n",
      "Epoch 52/100\n",
      "141/141 [==============================] - 1s 4ms/step - loss: 0.0062 - root_mean_squared_error: 0.1114 - val_loss: 0.0097 - val_root_mean_squared_error: 0.1112\n",
      "Epoch 53/100\n",
      "141/141 [==============================] - 1s 4ms/step - loss: 0.0063 - root_mean_squared_error: 0.1109 - val_loss: 0.0094 - val_root_mean_squared_error: 0.1107\n",
      "Epoch 54/100\n",
      "141/141 [==============================] - 1s 4ms/step - loss: 0.0063 - root_mean_squared_error: 0.1105 - val_loss: 0.0104 - val_root_mean_squared_error: 0.1102\n",
      "Epoch 55/100\n",
      "141/141 [==============================] - 1s 4ms/step - loss: 0.0063 - root_mean_squared_error: 0.1100 - val_loss: 0.0095 - val_root_mean_squared_error: 0.1098\n",
      "Epoch 56/100\n",
      "141/141 [==============================] - 1s 4ms/step - loss: 0.0060 - root_mean_squared_error: 0.1095 - val_loss: 0.0093 - val_root_mean_squared_error: 0.1093\n",
      "Epoch 57/100\n",
      "141/141 [==============================] - 1s 4ms/step - loss: 0.0060 - root_mean_squared_error: 0.1091 - val_loss: 0.0093 - val_root_mean_squared_error: 0.1089\n",
      "Epoch 58/100\n",
      "141/141 [==============================] - 1s 4ms/step - loss: 0.0061 - root_mean_squared_error: 0.1086 - val_loss: 0.0093 - val_root_mean_squared_error: 0.1084\n",
      "Epoch 59/100\n",
      "141/141 [==============================] - 1s 4ms/step - loss: 0.0060 - root_mean_squared_error: 0.1082 - val_loss: 0.0094 - val_root_mean_squared_error: 0.1080\n",
      "Epoch 60/100\n",
      "141/141 [==============================] - 1s 4ms/step - loss: 0.0059 - root_mean_squared_error: 0.1078 - val_loss: 0.0094 - val_root_mean_squared_error: 0.1076\n",
      "Epoch 61/100\n",
      "141/141 [==============================] - 1s 4ms/step - loss: 0.0059 - root_mean_squared_error: 0.1074 - val_loss: 0.0092 - val_root_mean_squared_error: 0.1072\n",
      "Epoch 62/100\n",
      "141/141 [==============================] - 1s 4ms/step - loss: 0.0057 - root_mean_squared_error: 0.1070 - val_loss: 0.0090 - val_root_mean_squared_error: 0.1068\n",
      "Epoch 63/100\n",
      "141/141 [==============================] - 1s 4ms/step - loss: 0.0058 - root_mean_squared_error: 0.1066 - val_loss: 0.0078 - val_root_mean_squared_error: 0.1064\n",
      "Epoch 64/100\n",
      "141/141 [==============================] - 1s 4ms/step - loss: 0.0059 - root_mean_squared_error: 0.1062 - val_loss: 0.0101 - val_root_mean_squared_error: 0.1060\n",
      "Epoch 65/100\n",
      "141/141 [==============================] - 1s 4ms/step - loss: 0.0057 - root_mean_squared_error: 0.1058 - val_loss: 0.0083 - val_root_mean_squared_error: 0.1056\n",
      "Epoch 66/100\n",
      "141/141 [==============================] - 1s 4ms/step - loss: 0.0057 - root_mean_squared_error: 0.1054 - val_loss: 0.0090 - val_root_mean_squared_error: 0.1053\n",
      "Epoch 67/100\n",
      "141/141 [==============================] - 1s 4ms/step - loss: 0.0056 - root_mean_squared_error: 0.1051 - val_loss: 0.0089 - val_root_mean_squared_error: 0.1049\n",
      "Epoch 68/100\n",
      "141/141 [==============================] - 1s 4ms/step - loss: 0.0057 - root_mean_squared_error: 0.1047 - val_loss: 0.0089 - val_root_mean_squared_error: 0.1045\n",
      "Epoch 69/100\n",
      "141/141 [==============================] - 1s 4ms/step - loss: 0.0054 - root_mean_squared_error: 0.1043 - val_loss: 0.0092 - val_root_mean_squared_error: 0.1042\n",
      "Epoch 70/100\n",
      "141/141 [==============================] - 1s 4ms/step - loss: 0.0055 - root_mean_squared_error: 0.1040 - val_loss: 0.0083 - val_root_mean_squared_error: 0.1038\n",
      "Epoch 71/100\n",
      "141/141 [==============================] - 1s 4ms/step - loss: 0.0054 - root_mean_squared_error: 0.1037 - val_loss: 0.0086 - val_root_mean_squared_error: 0.1035\n",
      "Epoch 72/100\n",
      "141/141 [==============================] - 1s 4ms/step - loss: 0.0053 - root_mean_squared_error: 0.1033 - val_loss: 0.0084 - val_root_mean_squared_error: 0.1032\n",
      "Epoch 73/100\n",
      "141/141 [==============================] - 1s 4ms/step - loss: 0.0053 - root_mean_squared_error: 0.1030 - val_loss: 0.0084 - val_root_mean_squared_error: 0.1028\n",
      "Epoch 74/100\n",
      "141/141 [==============================] - 1s 4ms/step - loss: 0.0053 - root_mean_squared_error: 0.1026 - val_loss: 0.0084 - val_root_mean_squared_error: 0.1025\n",
      "Epoch 75/100\n",
      "141/141 [==============================] - 1s 4ms/step - loss: 0.0054 - root_mean_squared_error: 0.1023 - val_loss: 0.0079 - val_root_mean_squared_error: 0.1022\n",
      "Epoch 76/100\n",
      "141/141 [==============================] - 1s 4ms/step - loss: 0.0054 - root_mean_squared_error: 0.1020 - val_loss: 0.0083 - val_root_mean_squared_error: 0.1019\n",
      "Epoch 77/100\n",
      "141/141 [==============================] - 1s 4ms/step - loss: 0.0055 - root_mean_squared_error: 0.1017 - val_loss: 0.0078 - val_root_mean_squared_error: 0.1016\n",
      "Epoch 78/100\n",
      "141/141 [==============================] - 1s 4ms/step - loss: 0.0052 - root_mean_squared_error: 0.1014 - val_loss: 0.0083 - val_root_mean_squared_error: 0.1013\n",
      "Epoch 79/100\n",
      "141/141 [==============================] - 1s 4ms/step - loss: 0.0054 - root_mean_squared_error: 0.1011 - val_loss: 0.0083 - val_root_mean_squared_error: 0.1010\n",
      "Epoch 80/100\n",
      "141/141 [==============================] - 1s 4ms/step - loss: 0.0053 - root_mean_squared_error: 0.1008 - val_loss: 0.0083 - val_root_mean_squared_error: 0.1007\n",
      "Epoch 81/100\n",
      "141/141 [==============================] - 1s 4ms/step - loss: 0.0052 - root_mean_squared_error: 0.1006 - val_loss: 0.0083 - val_root_mean_squared_error: 0.1004\n",
      "Epoch 82/100\n",
      "141/141 [==============================] - 1s 4ms/step - loss: 0.0053 - root_mean_squared_error: 0.1003 - val_loss: 0.0085 - val_root_mean_squared_error: 0.1002\n",
      "Epoch 83/100\n",
      "141/141 [==============================] - 1s 4ms/step - loss: 0.0052 - root_mean_squared_error: 0.1000 - val_loss: 0.0071 - val_root_mean_squared_error: 0.0999\n",
      "Epoch 84/100\n",
      "141/141 [==============================] - 1s 4ms/step - loss: 0.0052 - root_mean_squared_error: 0.0997 - val_loss: 0.0080 - val_root_mean_squared_error: 0.0996\n",
      "Epoch 85/100\n",
      "141/141 [==============================] - 1s 4ms/step - loss: 0.0054 - root_mean_squared_error: 0.0995 - val_loss: 0.0081 - val_root_mean_squared_error: 0.0994\n",
      "Epoch 86/100\n",
      "141/141 [==============================] - 1s 4ms/step - loss: 0.0055 - root_mean_squared_error: 0.0992 - val_loss: 0.0077 - val_root_mean_squared_error: 0.0991\n",
      "Epoch 87/100\n",
      "141/141 [==============================] - 1s 4ms/step - loss: 0.0051 - root_mean_squared_error: 0.0990 - val_loss: 0.0084 - val_root_mean_squared_error: 0.0989\n",
      "Epoch 88/100\n",
      "141/141 [==============================] - 1s 4ms/step - loss: 0.0054 - root_mean_squared_error: 0.0987 - val_loss: 0.0086 - val_root_mean_squared_error: 0.0986\n",
      "Epoch 89/100\n",
      "141/141 [==============================] - 1s 4ms/step - loss: 0.0051 - root_mean_squared_error: 0.0985 - val_loss: 0.0070 - val_root_mean_squared_error: 0.0984\n",
      "Epoch 90/100\n",
      "141/141 [==============================] - 1s 4ms/step - loss: 0.0051 - root_mean_squared_error: 0.0982 - val_loss: 0.0073 - val_root_mean_squared_error: 0.0981\n",
      "Epoch 91/100\n",
      "141/141 [==============================] - 1s 4ms/step - loss: 0.0049 - root_mean_squared_error: 0.0980 - val_loss: 0.0073 - val_root_mean_squared_error: 0.0979\n",
      "Epoch 92/100\n",
      "141/141 [==============================] - 1s 4ms/step - loss: 0.0050 - root_mean_squared_error: 0.0977 - val_loss: 0.0076 - val_root_mean_squared_error: 0.0976\n",
      "Epoch 93/100\n",
      "141/141 [==============================] - 1s 4ms/step - loss: 0.0050 - root_mean_squared_error: 0.0975 - val_loss: 0.0071 - val_root_mean_squared_error: 0.0974\n",
      "Epoch 94/100\n",
      "141/141 [==============================] - 1s 4ms/step - loss: 0.0050 - root_mean_squared_error: 0.0973 - val_loss: 0.0077 - val_root_mean_squared_error: 0.0972\n",
      "Epoch 95/100\n",
      "141/141 [==============================] - 1s 4ms/step - loss: 0.0048 - root_mean_squared_error: 0.0970 - val_loss: 0.0080 - val_root_mean_squared_error: 0.0969\n",
      "Epoch 96/100\n",
      "141/141 [==============================] - 1s 4ms/step - loss: 0.0050 - root_mean_squared_error: 0.0968 - val_loss: 0.0071 - val_root_mean_squared_error: 0.0967\n",
      "Epoch 97/100\n",
      "141/141 [==============================] - 1s 4ms/step - loss: 0.0048 - root_mean_squared_error: 0.0966 - val_loss: 0.0074 - val_root_mean_squared_error: 0.0965\n",
      "Epoch 98/100\n",
      "141/141 [==============================] - 1s 4ms/step - loss: 0.0048 - root_mean_squared_error: 0.0964 - val_loss: 0.0072 - val_root_mean_squared_error: 0.0963\n",
      "Epoch 99/100\n",
      "141/141 [==============================] - 1s 4ms/step - loss: 0.0047 - root_mean_squared_error: 0.0961 - val_loss: 0.0068 - val_root_mean_squared_error: 0.0960\n",
      "Epoch 100/100\n",
      "141/141 [==============================] - 1s 4ms/step - loss: 0.0047 - root_mean_squared_error: 0.0959 - val_loss: 0.0064 - val_root_mean_squared_error: 0.0958\n"
     ]
    }
   ],
   "source": [
    "history = autoencoder_matches.fit(x=matches_X_train, y=matches_X_train, validation_data=(matches_X_val,matches_X_val), batch_size=10, epochs=100)"
   ]
  },
  {
   "cell_type": "code",
   "execution_count": 0,
   "metadata": {
    "colab": {
     "base_uri": "https://localhost:8080/",
     "height": 1000
    },
    "colab_type": "code",
    "id": "tfRX0hUt8kA1",
    "outputId": "9fdc0533-aa7b-419d-ba2d-267ecfd87a7c"
   },
   "outputs": [
    {
     "name": "stdout",
     "output_type": "stream",
     "text": [
      "Train on 141 samples, validate on 16 samples\n",
      "Epoch 1/100\n",
      "141/141 [==============================] - 2s 15ms/step - loss: 0.0716 - root_mean_squared_error: 0.2728 - val_loss: 0.0739 - val_root_mean_squared_error: 0.2680\n",
      "Epoch 2/100\n",
      "141/141 [==============================] - 1s 10ms/step - loss: 0.0674 - root_mean_squared_error: 0.2654 - val_loss: 0.0693 - val_root_mean_squared_error: 0.2641\n",
      "Epoch 3/100\n",
      "141/141 [==============================] - 1s 10ms/step - loss: 0.0660 - root_mean_squared_error: 0.2629 - val_loss: 0.0696 - val_root_mean_squared_error: 0.2619\n",
      "Epoch 4/100\n",
      "141/141 [==============================] - 1s 10ms/step - loss: 0.0623 - root_mean_squared_error: 0.2605 - val_loss: 0.0564 - val_root_mean_squared_error: 0.2587\n",
      "Epoch 5/100\n",
      "141/141 [==============================] - 1s 10ms/step - loss: 0.0464 - root_mean_squared_error: 0.2550 - val_loss: 0.0335 - val_root_mean_squared_error: 0.2503\n",
      "Epoch 6/100\n",
      "141/141 [==============================] - 1s 10ms/step - loss: 0.0297 - root_mean_squared_error: 0.2442 - val_loss: 0.0266 - val_root_mean_squared_error: 0.2390\n",
      "Epoch 7/100\n",
      "141/141 [==============================] - 1s 10ms/step - loss: 0.0248 - root_mean_squared_error: 0.2336 - val_loss: 0.0253 - val_root_mean_squared_error: 0.2291\n",
      "Epoch 8/100\n",
      "141/141 [==============================] - 1s 10ms/step - loss: 0.0218 - root_mean_squared_error: 0.2245 - val_loss: 0.0234 - val_root_mean_squared_error: 0.2206\n",
      "Epoch 9/100\n",
      "141/141 [==============================] - 1s 10ms/step - loss: 0.0191 - root_mean_squared_error: 0.2166 - val_loss: 0.0211 - val_root_mean_squared_error: 0.2131\n",
      "Epoch 10/100\n",
      "141/141 [==============================] - 1s 10ms/step - loss: 0.0163 - root_mean_squared_error: 0.2094 - val_loss: 0.0177 - val_root_mean_squared_error: 0.2062\n",
      "Epoch 11/100\n",
      "141/141 [==============================] - 1s 10ms/step - loss: 0.0145 - root_mean_squared_error: 0.2028 - val_loss: 0.0163 - val_root_mean_squared_error: 0.1999\n",
      "Epoch 12/100\n",
      "141/141 [==============================] - 1s 10ms/step - loss: 0.0131 - root_mean_squared_error: 0.1969 - val_loss: 0.0129 - val_root_mean_squared_error: 0.1943\n",
      "Epoch 13/100\n",
      "141/141 [==============================] - 1s 10ms/step - loss: 0.0123 - root_mean_squared_error: 0.1915 - val_loss: 0.0145 - val_root_mean_squared_error: 0.1892\n",
      "Epoch 14/100\n",
      "141/141 [==============================] - 1s 10ms/step - loss: 0.0112 - root_mean_squared_error: 0.1867 - val_loss: 0.0145 - val_root_mean_squared_error: 0.1846\n",
      "Epoch 15/100\n",
      "141/141 [==============================] - 1s 10ms/step - loss: 0.0107 - root_mean_squared_error: 0.1823 - val_loss: 0.0149 - val_root_mean_squared_error: 0.1804\n",
      "Epoch 16/100\n",
      "141/141 [==============================] - 1s 10ms/step - loss: 0.0104 - root_mean_squared_error: 0.1783 - val_loss: 0.0132 - val_root_mean_squared_error: 0.1765\n",
      "Epoch 17/100\n",
      "141/141 [==============================] - 1s 10ms/step - loss: 0.0100 - root_mean_squared_error: 0.1746 - val_loss: 0.0130 - val_root_mean_squared_error: 0.1730\n",
      "Epoch 18/100\n",
      "141/141 [==============================] - 1s 10ms/step - loss: 0.0097 - root_mean_squared_error: 0.1713 - val_loss: 0.0120 - val_root_mean_squared_error: 0.1698\n",
      "Epoch 19/100\n",
      "141/141 [==============================] - 1s 10ms/step - loss: 0.0093 - root_mean_squared_error: 0.1682 - val_loss: 0.0121 - val_root_mean_squared_error: 0.1668\n",
      "Epoch 20/100\n",
      "141/141 [==============================] - 1s 10ms/step - loss: 0.0090 - root_mean_squared_error: 0.1653 - val_loss: 0.0120 - val_root_mean_squared_error: 0.1640\n",
      "Epoch 21/100\n",
      "141/141 [==============================] - 1s 10ms/step - loss: 0.0087 - root_mean_squared_error: 0.1626 - val_loss: 0.0112 - val_root_mean_squared_error: 0.1614\n",
      "Epoch 22/100\n",
      "141/141 [==============================] - 1s 10ms/step - loss: 0.0083 - root_mean_squared_error: 0.1600 - val_loss: 0.0111 - val_root_mean_squared_error: 0.1589\n",
      "Epoch 23/100\n",
      "141/141 [==============================] - 1s 10ms/step - loss: 0.0082 - root_mean_squared_error: 0.1576 - val_loss: 0.0117 - val_root_mean_squared_error: 0.1566\n",
      "Epoch 24/100\n",
      "141/141 [==============================] - 1s 10ms/step - loss: 0.0083 - root_mean_squared_error: 0.1554 - val_loss: 0.0100 - val_root_mean_squared_error: 0.1544\n",
      "Epoch 25/100\n",
      "141/141 [==============================] - 1s 11ms/step - loss: 0.0079 - root_mean_squared_error: 0.1533 - val_loss: 0.0096 - val_root_mean_squared_error: 0.1524\n",
      "Epoch 26/100\n",
      "141/141 [==============================] - 1s 10ms/step - loss: 0.0079 - root_mean_squared_error: 0.1513 - val_loss: 0.0096 - val_root_mean_squared_error: 0.1504\n",
      "Epoch 27/100\n",
      "141/141 [==============================] - 1s 11ms/step - loss: 0.0076 - root_mean_squared_error: 0.1495 - val_loss: 0.0094 - val_root_mean_squared_error: 0.1486\n",
      "Epoch 28/100\n",
      "141/141 [==============================] - 1s 10ms/step - loss: 0.0075 - root_mean_squared_error: 0.1477 - val_loss: 0.0091 - val_root_mean_squared_error: 0.1469\n",
      "Epoch 29/100\n",
      "141/141 [==============================] - 2s 11ms/step - loss: 0.0072 - root_mean_squared_error: 0.1460 - val_loss: 0.0091 - val_root_mean_squared_error: 0.1452\n",
      "Epoch 30/100\n",
      "141/141 [==============================] - 1s 11ms/step - loss: 0.0072 - root_mean_squared_error: 0.1443 - val_loss: 0.0095 - val_root_mean_squared_error: 0.1436\n",
      "Epoch 31/100\n",
      "141/141 [==============================] - 1s 10ms/step - loss: 0.0071 - root_mean_squared_error: 0.1428 - val_loss: 0.0095 - val_root_mean_squared_error: 0.1421\n",
      "Epoch 32/100\n",
      "141/141 [==============================] - 1s 10ms/step - loss: 0.0069 - root_mean_squared_error: 0.1413 - val_loss: 0.0088 - val_root_mean_squared_error: 0.1407\n",
      "Epoch 33/100\n",
      "141/141 [==============================] - 1s 10ms/step - loss: 0.0067 - root_mean_squared_error: 0.1399 - val_loss: 0.0081 - val_root_mean_squared_error: 0.1393\n",
      "Epoch 34/100\n",
      "141/141 [==============================] - 1s 10ms/step - loss: 0.0066 - root_mean_squared_error: 0.1385 - val_loss: 0.0082 - val_root_mean_squared_error: 0.1379\n",
      "Epoch 35/100\n",
      "141/141 [==============================] - 1s 10ms/step - loss: 0.0066 - root_mean_squared_error: 0.1372 - val_loss: 0.0077 - val_root_mean_squared_error: 0.1366\n",
      "Epoch 36/100\n",
      "141/141 [==============================] - 1s 10ms/step - loss: 0.0065 - root_mean_squared_error: 0.1360 - val_loss: 0.0081 - val_root_mean_squared_error: 0.1354\n",
      "Epoch 37/100\n",
      "141/141 [==============================] - 1s 10ms/step - loss: 0.0064 - root_mean_squared_error: 0.1348 - val_loss: 0.0078 - val_root_mean_squared_error: 0.1342\n",
      "Epoch 38/100\n",
      "141/141 [==============================] - 1s 10ms/step - loss: 0.0062 - root_mean_squared_error: 0.1336 - val_loss: 0.0078 - val_root_mean_squared_error: 0.1331\n",
      "Epoch 39/100\n",
      "141/141 [==============================] - 1s 10ms/step - loss: 0.0063 - root_mean_squared_error: 0.1325 - val_loss: 0.0075 - val_root_mean_squared_error: 0.1320\n",
      "Epoch 40/100\n",
      "141/141 [==============================] - 1s 10ms/step - loss: 0.0059 - root_mean_squared_error: 0.1314 - val_loss: 0.0066 - val_root_mean_squared_error: 0.1309\n",
      "Epoch 41/100\n",
      "141/141 [==============================] - 1s 10ms/step - loss: 0.0060 - root_mean_squared_error: 0.1304 - val_loss: 0.0068 - val_root_mean_squared_error: 0.1299\n",
      "Epoch 42/100\n",
      "141/141 [==============================] - 1s 10ms/step - loss: 0.0060 - root_mean_squared_error: 0.1293 - val_loss: 0.0076 - val_root_mean_squared_error: 0.1289\n",
      "Epoch 43/100\n",
      "141/141 [==============================] - 1s 10ms/step - loss: 0.0059 - root_mean_squared_error: 0.1284 - val_loss: 0.0070 - val_root_mean_squared_error: 0.1279\n",
      "Epoch 44/100\n",
      "141/141 [==============================] - 1s 10ms/step - loss: 0.0057 - root_mean_squared_error: 0.1274 - val_loss: 0.0073 - val_root_mean_squared_error: 0.1270\n",
      "Epoch 45/100\n",
      "141/141 [==============================] - 1s 10ms/step - loss: 0.0058 - root_mean_squared_error: 0.1265 - val_loss: 0.0067 - val_root_mean_squared_error: 0.1261\n",
      "Epoch 46/100\n",
      "141/141 [==============================] - 1s 10ms/step - loss: 0.0057 - root_mean_squared_error: 0.1256 - val_loss: 0.0066 - val_root_mean_squared_error: 0.1252\n",
      "Epoch 47/100\n",
      "141/141 [==============================] - 1s 10ms/step - loss: 0.0056 - root_mean_squared_error: 0.1247 - val_loss: 0.0065 - val_root_mean_squared_error: 0.1243\n",
      "Epoch 48/100\n",
      "141/141 [==============================] - 1s 10ms/step - loss: 0.0055 - root_mean_squared_error: 0.1239 - val_loss: 0.0062 - val_root_mean_squared_error: 0.1235\n",
      "Epoch 49/100\n",
      "141/141 [==============================] - 1s 10ms/step - loss: 0.0055 - root_mean_squared_error: 0.1231 - val_loss: 0.0068 - val_root_mean_squared_error: 0.1227\n",
      "Epoch 50/100\n",
      "141/141 [==============================] - 1s 10ms/step - loss: 0.0055 - root_mean_squared_error: 0.1223 - val_loss: 0.0057 - val_root_mean_squared_error: 0.1219\n",
      "Epoch 51/100\n",
      "141/141 [==============================] - 1s 10ms/step - loss: 0.0054 - root_mean_squared_error: 0.1215 - val_loss: 0.0056 - val_root_mean_squared_error: 0.1212\n",
      "Epoch 52/100\n",
      "141/141 [==============================] - 1s 10ms/step - loss: 0.0054 - root_mean_squared_error: 0.1208 - val_loss: 0.0057 - val_root_mean_squared_error: 0.1204\n",
      "Epoch 53/100\n",
      "141/141 [==============================] - 1s 10ms/step - loss: 0.0053 - root_mean_squared_error: 0.1201 - val_loss: 0.0058 - val_root_mean_squared_error: 0.1197\n",
      "Epoch 54/100\n",
      "141/141 [==============================] - 1s 10ms/step - loss: 0.0053 - root_mean_squared_error: 0.1193 - val_loss: 0.0056 - val_root_mean_squared_error: 0.1190\n",
      "Epoch 55/100\n",
      "141/141 [==============================] - 1s 10ms/step - loss: 0.0052 - root_mean_squared_error: 0.1187 - val_loss: 0.0056 - val_root_mean_squared_error: 0.1183\n",
      "Epoch 56/100\n",
      "141/141 [==============================] - 1s 10ms/step - loss: 0.0052 - root_mean_squared_error: 0.1180 - val_loss: 0.0055 - val_root_mean_squared_error: 0.1177\n",
      "Epoch 57/100\n",
      "141/141 [==============================] - 1s 10ms/step - loss: 0.0052 - root_mean_squared_error: 0.1173 - val_loss: 0.0060 - val_root_mean_squared_error: 0.1170\n",
      "Epoch 58/100\n",
      "141/141 [==============================] - 1s 10ms/step - loss: 0.0052 - root_mean_squared_error: 0.1167 - val_loss: 0.0052 - val_root_mean_squared_error: 0.1164\n",
      "Epoch 59/100\n",
      "141/141 [==============================] - 1s 10ms/step - loss: 0.0051 - root_mean_squared_error: 0.1161 - val_loss: 0.0050 - val_root_mean_squared_error: 0.1158\n",
      "Epoch 60/100\n",
      "141/141 [==============================] - 1s 10ms/step - loss: 0.0051 - root_mean_squared_error: 0.1155 - val_loss: 0.0047 - val_root_mean_squared_error: 0.1152\n",
      "Epoch 61/100\n",
      "141/141 [==============================] - 1s 10ms/step - loss: 0.0051 - root_mean_squared_error: 0.1149 - val_loss: 0.0049 - val_root_mean_squared_error: 0.1146\n",
      "Epoch 62/100\n",
      "141/141 [==============================] - 1s 10ms/step - loss: 0.0050 - root_mean_squared_error: 0.1143 - val_loss: 0.0050 - val_root_mean_squared_error: 0.1140\n",
      "Epoch 63/100\n",
      "141/141 [==============================] - 1s 10ms/step - loss: 0.0048 - root_mean_squared_error: 0.1137 - val_loss: 0.0052 - val_root_mean_squared_error: 0.1134\n",
      "Epoch 64/100\n",
      "141/141 [==============================] - 1s 10ms/step - loss: 0.0049 - root_mean_squared_error: 0.1132 - val_loss: 0.0047 - val_root_mean_squared_error: 0.1129\n",
      "Epoch 65/100\n",
      "141/141 [==============================] - 1s 10ms/step - loss: 0.0048 - root_mean_squared_error: 0.1126 - val_loss: 0.0046 - val_root_mean_squared_error: 0.1124\n",
      "Epoch 66/100\n",
      "141/141 [==============================] - 1s 10ms/step - loss: 0.0048 - root_mean_squared_error: 0.1121 - val_loss: 0.0047 - val_root_mean_squared_error: 0.1118\n",
      "Epoch 67/100\n",
      "141/141 [==============================] - 1s 10ms/step - loss: 0.0048 - root_mean_squared_error: 0.1116 - val_loss: 0.0046 - val_root_mean_squared_error: 0.1113\n",
      "Epoch 68/100\n",
      "141/141 [==============================] - 1s 10ms/step - loss: 0.0047 - root_mean_squared_error: 0.1110 - val_loss: 0.0047 - val_root_mean_squared_error: 0.1108\n",
      "Epoch 69/100\n",
      "141/141 [==============================] - 1s 10ms/step - loss: 0.0047 - root_mean_squared_error: 0.1105 - val_loss: 0.0048 - val_root_mean_squared_error: 0.1103\n",
      "Epoch 70/100\n",
      "141/141 [==============================] - 1s 10ms/step - loss: 0.0047 - root_mean_squared_error: 0.1100 - val_loss: 0.0046 - val_root_mean_squared_error: 0.1098\n",
      "Epoch 71/100\n",
      "141/141 [==============================] - 1s 10ms/step - loss: 0.0047 - root_mean_squared_error: 0.1096 - val_loss: 0.0046 - val_root_mean_squared_error: 0.1093\n",
      "Epoch 72/100\n",
      "141/141 [==============================] - 1s 10ms/step - loss: 0.0047 - root_mean_squared_error: 0.1091 - val_loss: 0.0045 - val_root_mean_squared_error: 0.1089\n",
      "Epoch 73/100\n",
      "141/141 [==============================] - 1s 10ms/step - loss: 0.0046 - root_mean_squared_error: 0.1086 - val_loss: 0.0043 - val_root_mean_squared_error: 0.1084\n",
      "Epoch 74/100\n",
      "141/141 [==============================] - 1s 10ms/step - loss: 0.0046 - root_mean_squared_error: 0.1082 - val_loss: 0.0045 - val_root_mean_squared_error: 0.1080\n",
      "Epoch 75/100\n",
      "141/141 [==============================] - 1s 10ms/step - loss: 0.0046 - root_mean_squared_error: 0.1077 - val_loss: 0.0043 - val_root_mean_squared_error: 0.1075\n",
      "Epoch 76/100\n",
      "141/141 [==============================] - 1s 10ms/step - loss: 0.0046 - root_mean_squared_error: 0.1073 - val_loss: 0.0040 - val_root_mean_squared_error: 0.1071\n",
      "Epoch 77/100\n",
      "141/141 [==============================] - 1s 10ms/step - loss: 0.0045 - root_mean_squared_error: 0.1069 - val_loss: 0.0041 - val_root_mean_squared_error: 0.1067\n",
      "Epoch 78/100\n",
      "141/141 [==============================] - 1s 10ms/step - loss: 0.0046 - root_mean_squared_error: 0.1065 - val_loss: 0.0045 - val_root_mean_squared_error: 0.1063\n",
      "Epoch 79/100\n",
      "141/141 [==============================] - 1s 10ms/step - loss: 0.0045 - root_mean_squared_error: 0.1061 - val_loss: 0.0043 - val_root_mean_squared_error: 0.1059\n",
      "Epoch 80/100\n",
      "141/141 [==============================] - 1s 10ms/step - loss: 0.0045 - root_mean_squared_error: 0.1057 - val_loss: 0.0041 - val_root_mean_squared_error: 0.1055\n",
      "Epoch 81/100\n",
      "141/141 [==============================] - 1s 10ms/step - loss: 0.0044 - root_mean_squared_error: 0.1053 - val_loss: 0.0040 - val_root_mean_squared_error: 0.1051\n",
      "Epoch 82/100\n",
      "141/141 [==============================] - 1s 10ms/step - loss: 0.0045 - root_mean_squared_error: 0.1049 - val_loss: 0.0046 - val_root_mean_squared_error: 0.1047\n",
      "Epoch 83/100\n",
      "141/141 [==============================] - 1s 10ms/step - loss: 0.0045 - root_mean_squared_error: 0.1045 - val_loss: 0.0041 - val_root_mean_squared_error: 0.1043\n",
      "Epoch 84/100\n",
      "141/141 [==============================] - 1s 10ms/step - loss: 0.0044 - root_mean_squared_error: 0.1041 - val_loss: 0.0041 - val_root_mean_squared_error: 0.1039\n",
      "Epoch 85/100\n",
      "141/141 [==============================] - 1s 10ms/step - loss: 0.0044 - root_mean_squared_error: 0.1037 - val_loss: 0.0043 - val_root_mean_squared_error: 0.1036\n",
      "Epoch 86/100\n",
      "141/141 [==============================] - 1s 10ms/step - loss: 0.0043 - root_mean_squared_error: 0.1034 - val_loss: 0.0041 - val_root_mean_squared_error: 0.1032\n",
      "Epoch 87/100\n",
      "141/141 [==============================] - 1s 10ms/step - loss: 0.0044 - root_mean_squared_error: 0.1030 - val_loss: 0.0040 - val_root_mean_squared_error: 0.1029\n",
      "Epoch 88/100\n",
      "141/141 [==============================] - 1s 10ms/step - loss: 0.0043 - root_mean_squared_error: 0.1027 - val_loss: 0.0039 - val_root_mean_squared_error: 0.1025\n",
      "Epoch 89/100\n",
      "141/141 [==============================] - 1s 10ms/step - loss: 0.0042 - root_mean_squared_error: 0.1023 - val_loss: 0.0037 - val_root_mean_squared_error: 0.1022\n",
      "Epoch 90/100\n",
      "141/141 [==============================] - 1s 10ms/step - loss: 0.0043 - root_mean_squared_error: 0.1020 - val_loss: 0.0038 - val_root_mean_squared_error: 0.1018\n",
      "Epoch 91/100\n",
      "141/141 [==============================] - 1s 10ms/step - loss: 0.0043 - root_mean_squared_error: 0.1017 - val_loss: 0.0038 - val_root_mean_squared_error: 0.1015\n",
      "Epoch 92/100\n",
      "141/141 [==============================] - 1s 10ms/step - loss: 0.0043 - root_mean_squared_error: 0.1013 - val_loss: 0.0039 - val_root_mean_squared_error: 0.1012\n",
      "Epoch 93/100\n",
      "141/141 [==============================] - 1s 10ms/step - loss: 0.0042 - root_mean_squared_error: 0.1010 - val_loss: 0.0036 - val_root_mean_squared_error: 0.1008\n",
      "Epoch 94/100\n",
      "141/141 [==============================] - 1s 10ms/step - loss: 0.0042 - root_mean_squared_error: 0.1007 - val_loss: 0.0035 - val_root_mean_squared_error: 0.1005\n",
      "Epoch 95/100\n",
      "141/141 [==============================] - 1s 10ms/step - loss: 0.0041 - root_mean_squared_error: 0.1004 - val_loss: 0.0037 - val_root_mean_squared_error: 0.1002\n",
      "Epoch 96/100\n",
      "141/141 [==============================] - 1s 10ms/step - loss: 0.0042 - root_mean_squared_error: 0.1000 - val_loss: 0.0038 - val_root_mean_squared_error: 0.0999\n",
      "Epoch 97/100\n",
      "141/141 [==============================] - 1s 10ms/step - loss: 0.0042 - root_mean_squared_error: 0.0997 - val_loss: 0.0037 - val_root_mean_squared_error: 0.0996\n",
      "Epoch 98/100\n",
      "141/141 [==============================] - 1s 10ms/step - loss: 0.0042 - root_mean_squared_error: 0.0994 - val_loss: 0.0039 - val_root_mean_squared_error: 0.0993\n",
      "Epoch 99/100\n",
      "141/141 [==============================] - 1s 10ms/step - loss: 0.0042 - root_mean_squared_error: 0.0992 - val_loss: 0.0036 - val_root_mean_squared_error: 0.0990\n",
      "Epoch 100/100\n",
      "141/141 [==============================] - 1s 10ms/step - loss: 0.0041 - root_mean_squared_error: 0.0989 - val_loss: 0.0034 - val_root_mean_squared_error: 0.0987\n"
     ]
    }
   ],
   "source": [
    "history_players = autoencoder_player.fit(x=players_X_train, y=players_X_train, validation_data=(players_X_val,players_X_val), batch_size=10, epochs=100)"
   ]
  },
  {
   "cell_type": "code",
   "execution_count": 0,
   "metadata": {
    "colab": {},
    "colab_type": "code",
    "id": "r2CcXcus4eTd"
   },
   "outputs": [],
   "source": [
    "autoencoder_matches.save(\"autoencoder_matches.h5\")\n",
    "autoencoder_player.save(\"autoencoder_player.h5\")"
   ]
  },
  {
   "cell_type": "code",
   "execution_count": 0,
   "metadata": {
    "colab": {
     "base_uri": "https://localhost:8080/",
     "height": 295
    },
    "colab_type": "code",
    "id": "lgqPDgzwKRQ8",
    "outputId": "6c080bb7-974b-4c7d-8d80-85fffa8408fa"
   },
   "outputs": [
    {
     "data": {
      "image/png": "[encoded data removed]",
      "text/plain": [
       "<Figure size 432x288 with 1 Axes>"
      ]
     },
     "metadata": {
      "needs_background": "light",
      "tags": []
     },
     "output_type": "display_data"
    }
   ],
   "source": [
    "\n",
    "plt.plot(history.history['val_root_mean_squared_error'])\n",
    "plt.title('team model RMSE')\n",
    "plt.ylabel('RMSE')\n",
    "plt.xlabel('epoch')\n",
    "plt.legend(['val'], loc='upper left')\n",
    "plt.show()"
   ]
  },
  {
   "cell_type": "code",
   "execution_count": 0,
   "metadata": {
    "colab": {},
    "colab_type": "code",
    "id": "uMpTWlDSUE1F"
   },
   "outputs": [],
   "source": [
    "plt.plot(history.history['loss'])\n",
    "plt.plot(history.history['val_loss'])\n",
    "plt.title('model loss')\n",
    "plt.ylabel('loss')\n",
    "plt.xlabel('epoch')\n",
    "plt.legend(['train', 'val'], loc='upper left')\n",
    "plt.show()"
   ]
  },
  {
   "cell_type": "code",
   "execution_count": 0,
   "metadata": {
    "colab": {},
    "colab_type": "code",
    "id": "qjn5MJghZhr6"
   },
   "outputs": [],
   "source": [
    "pred = model.predict(x=[matches_X_val, players_X_val])"
   ]
  },
  {
   "cell_type": "markdown",
   "metadata": {
    "colab_type": "text",
    "id": "1xhU4gdQX6YF"
   },
   "source": [
    "# Deep Autoencoder\n",
    "Current model"
   ]
  },
  {
   "cell_type": "code",
   "execution_count": 0,
   "metadata": {
    "colab": {
     "base_uri": "https://localhost:8080/",
     "height": 391
    },
    "colab_type": "code",
    "id": "FSzamE2yA_F2",
    "outputId": "d500c30b-4256-4b94-a5a5-09721c4771ee"
   },
   "outputs": [
    {
     "name": "stdout",
     "output_type": "stream",
     "text": [
      "Model: \"model_1\"\n",
      "_________________________________________________________________\n",
      "Layer (type)                 Output Shape              Param #   \n",
      "=================================================================\n",
      "input_1 (InputLayer)         (None, 46)                0         \n",
      "_________________________________________________________________\n",
      "dense_1 (Dense)              (None, 128)               6016      \n",
      "_________________________________________________________________\n",
      "dense_2 (Dense)              (None, 64)                8256      \n",
      "_________________________________________________________________\n",
      "dense_3 (Dense)              (None, 32)                2080      \n",
      "_________________________________________________________________\n",
      "dense_4 (Dense)              (None, 64)                2112      \n",
      "_________________________________________________________________\n",
      "dense_5 (Dense)              (None, 128)               8320      \n",
      "_________________________________________________________________\n",
      "dense_6 (Dense)              (None, 46)                5934      \n",
      "=================================================================\n",
      "Total params: 32,718\n",
      "Trainable params: 32,718\n",
      "Non-trainable params: 0\n",
      "_________________________________________________________________\n"
     ]
    }
   ],
   "source": [
    "input_m = Input(shape=(46,))\n",
    "encoded = Dense(128, activation='relu')(input_m)\n",
    "encoded = Dropout(0.3)(encoded)\n",
    "encoded = Dense(64, activation='relu')(encoded)\n",
    "encoded = Dense(32, activation='relu')(encoded)\n",
    "\n",
    "decoded = Dense(64, activation='relu')(encoded)\n",
    "decoded = Dropout(0.3)(decoded)\n",
    "decoded = Dense(128, activation='relu')(decoded)\n",
    "decoded = Dense(46, activation='relu')(decoded)\n",
    "\n",
    "autoencoder_matches = Model(input_m, decoded)\n",
    "autoencoder_matches.compile(optimizer='adam', loss='mse',metrics=[tf.keras.metrics.RootMeanSquaredError()])\n",
    "autoencoder_matches.summary()"
   ]
  },
  {
   "cell_type": "code",
   "execution_count": 0,
   "metadata": {
    "colab": {
     "base_uri": "https://localhost:8080/",
     "height": 527
    },
    "colab_type": "code",
    "id": "YSOcQkj5ZRVv",
    "outputId": "9d11bd40-bec5-4a74-a034-a27976cb1505"
   },
   "outputs": [
    {
     "name": "stdout",
     "output_type": "stream",
     "text": [
      "Model: \"model_2\"\n",
      "_________________________________________________________________\n",
      "Layer (type)                 Output Shape              Param #   \n",
      "=================================================================\n",
      "input_2 (InputLayer)         (None, 360)               0         \n",
      "_________________________________________________________________\n",
      "dense_7 (Dense)              (None, 128)               46208     \n",
      "_________________________________________________________________\n",
      "dropout_1 (Dropout)          (None, 128)               0         \n",
      "_________________________________________________________________\n",
      "dense_8 (Dense)              (None, 64)                8256      \n",
      "_________________________________________________________________\n",
      "dense_9 (Dense)              (None, 32)                2080      \n",
      "_________________________________________________________________\n",
      "dense_10 (Dense)             (None, 16)                528       \n",
      "_________________________________________________________________\n",
      "dense_11 (Dense)             (None, 32)                544       \n",
      "_________________________________________________________________\n",
      "dense_12 (Dense)             (None, 64)                2112      \n",
      "_________________________________________________________________\n",
      "dense_13 (Dense)             (None, 128)               8320      \n",
      "_________________________________________________________________\n",
      "dropout_2 (Dropout)          (None, 128)               0         \n",
      "_________________________________________________________________\n",
      "dense_14 (Dense)             (None, 360)               46440     \n",
      "=================================================================\n",
      "Total params: 114,488\n",
      "Trainable params: 114,488\n",
      "Non-trainable params: 0\n",
      "_________________________________________________________________\n"
     ]
    }
   ],
   "source": [
    "input_m = Input(shape=(360,))\n",
    "encoded = Dense(128, activation='relu')(input_m)\n",
    "encoded = Dropout(0.3)(encoded)\n",
    "encoded = Dense(64, activation='relu')(encoded)\n",
    "encoded = Dropout(0.3)(encoded)\n",
    "encoded = Dense(32, activation='relu')(encoded)\n",
    "encoded = Dense(16, activation='relu')(encoded)\n",
    "\n",
    "decoded = Dense(32, activation='relu')(encoded)\n",
    "decoded = Dropout(0.3)(decoded)\n",
    "decoded = Dense(64, activation='relu')(decoded)\n",
    "decoded = Dense(128, activation='relu')(decoded)\n",
    "decoded = Dropout(0.3)(decoded)\n",
    "decoded = Dense(360, activation='relu')(decoded)\n",
    "\n",
    "autoencoder_players = Model(input_m, decoded)\n",
    "autoencoder_players.compile(optimizer='adam', loss='mse',metrics=[tf.keras.metrics.RootMeanSquaredError()])\n",
    "autoencoder_players.summary()"
   ]
  },
  {
   "cell_type": "code",
   "execution_count": 0,
   "metadata": {
    "colab": {},
    "colab_type": "code",
    "id": "mT_CY68gfc-E"
   },
   "outputs": [],
   "source": []
  },
  {
   "cell_type": "code",
   "execution_count": 0,
   "metadata": {
    "colab": {},
    "colab_type": "code",
    "id": "cdvBg5Vetzdy"
   },
   "outputs": [],
   "source": [
    "import random\n",
    "noisy_match_x = np.zeros((141,46))\n",
    "for i in range(141):\n",
    "    for j in range(46):\n",
    "        if j % 100 == 0:\n",
    "            noisy_match_x[i][j] = matches_X_train[i][j] + random.random()\n",
    "        else:\n",
    "            noisy_match_x[i][j] = matches_X_train[i][j]\n",
    "\n",
    "noisy_player_x = np.zeros((141,360))\n",
    "for i in range(141):\n",
    "    for j in range(360):\n",
    "        if j % 300 == 0:\n",
    "            noisy_player_x[i][j] = players_X_train[i][j] + random.random()\n",
    "        else:\n",
    "            noisy_player_x[i][j] = players_X_train[i][j]"
   ]
  },
  {
   "cell_type": "code",
   "execution_count": 0,
   "metadata": {
    "colab": {},
    "colab_type": "code",
    "id": "5uhJEMevf-VH"
   },
   "outputs": [],
   "source": []
  },
  {
   "cell_type": "code",
   "execution_count": 0,
   "metadata": {
    "colab": {},
    "colab_type": "code",
    "id": "th7yObOAumU8"
   },
   "outputs": [],
   "source": [
    "noisy_val_match_x = np.zeros((16,46))\n",
    "for i in range(16):\n",
    "    for j in range(46):\n",
    "        if j % 100 == 0:\n",
    "            noisy_val_match_x[i][j] = matches_X_val[i][j] + random.random()\n",
    "        else:\n",
    "            noisy_val_match_x[i][j] = matches_X_val[i][j]\n",
    "\n",
    "noisy_val_player_x = np.zeros((16,360))\n",
    "for i in range(16):\n",
    "    for j in range(360):\n",
    "        if j % 300 == 0:\n",
    "            noisy_val_player_x[i][j] = players_X_val[i][j] + random.random()\n",
    "        else:\n",
    "            noisy_val_player_x[i][j] = players_X_val[i][j]"
   ]
  },
  {
   "cell_type": "code",
   "execution_count": 0,
   "metadata": {
    "colab": {
     "base_uri": "https://localhost:8080/",
     "height": 1000
    },
    "colab_type": "code",
    "id": "Sgqp6XI6Y3VI",
    "outputId": "2647fd36-3542-49e8-b6bd-7763c27e0aeb"
   },
   "outputs": [
    {
     "name": "stdout",
     "output_type": "stream",
     "text": [
      "Train on 141 samples, validate on 16 samples\n",
      "Epoch 1/100\n",
      "141/141 [==============================] - 0s 3ms/step - loss: 0.0854 - root_mean_squared_error: 0.3303 - val_loss: 0.0613 - val_root_mean_squared_error: 0.2890\n",
      "Epoch 2/100\n",
      "141/141 [==============================] - 0s 336us/step - loss: 0.0590 - root_mean_squared_error: 0.2749 - val_loss: 0.0570 - val_root_mean_squared_error: 0.2665\n",
      "Epoch 3/100\n",
      "141/141 [==============================] - 0s 310us/step - loss: 0.0580 - root_mean_squared_error: 0.2618 - val_loss: 0.0567 - val_root_mean_squared_error: 0.2581\n",
      "Epoch 4/100\n",
      "141/141 [==============================] - 0s 350us/step - loss: 0.0574 - root_mean_squared_error: 0.2557 - val_loss: 0.0548 - val_root_mean_squared_error: 0.2535\n",
      "Epoch 5/100\n",
      "141/141 [==============================] - 0s 306us/step - loss: 0.0544 - root_mean_squared_error: 0.2515 - val_loss: 0.0533 - val_root_mean_squared_error: 0.2495\n",
      "Epoch 6/100\n",
      "141/141 [==============================] - 0s 321us/step - loss: 0.0533 - root_mean_squared_error: 0.2479 - val_loss: 0.0520 - val_root_mean_squared_error: 0.2465\n",
      "Epoch 7/100\n",
      "141/141 [==============================] - 0s 313us/step - loss: 0.0410 - root_mean_squared_error: 0.2441 - val_loss: 0.0350 - val_root_mean_squared_error: 0.2406\n",
      "Epoch 8/100\n",
      "141/141 [==============================] - 0s 359us/step - loss: 0.0310 - root_mean_squared_error: 0.2370 - val_loss: 0.0315 - val_root_mean_squared_error: 0.2335\n",
      "Epoch 9/100\n",
      "141/141 [==============================] - 0s 310us/step - loss: 0.0297 - root_mean_squared_error: 0.2305 - val_loss: 0.0306 - val_root_mean_squared_error: 0.2275\n",
      "Epoch 10/100\n",
      "141/141 [==============================] - 0s 308us/step - loss: 0.0277 - root_mean_squared_error: 0.2248 - val_loss: 0.0271 - val_root_mean_squared_error: 0.2222\n",
      "Epoch 11/100\n",
      "141/141 [==============================] - 0s 298us/step - loss: 0.0248 - root_mean_squared_error: 0.2196 - val_loss: 0.0262 - val_root_mean_squared_error: 0.2171\n",
      "Epoch 12/100\n",
      "141/141 [==============================] - 0s 317us/step - loss: 0.0239 - root_mean_squared_error: 0.2148 - val_loss: 0.0261 - val_root_mean_squared_error: 0.2127\n",
      "Epoch 13/100\n",
      "141/141 [==============================] - 0s 307us/step - loss: 0.0234 - root_mean_squared_error: 0.2106 - val_loss: 0.0259 - val_root_mean_squared_error: 0.2087\n",
      "Epoch 14/100\n",
      "141/141 [==============================] - 0s 334us/step - loss: 0.0229 - root_mean_squared_error: 0.2069 - val_loss: 0.0254 - val_root_mean_squared_error: 0.2052\n",
      "Epoch 15/100\n",
      "141/141 [==============================] - 0s 345us/step - loss: 0.0225 - root_mean_squared_error: 0.2036 - val_loss: 0.0254 - val_root_mean_squared_error: 0.2020\n",
      "Epoch 16/100\n",
      "141/141 [==============================] - 0s 321us/step - loss: 0.0222 - root_mean_squared_error: 0.2005 - val_loss: 0.0249 - val_root_mean_squared_error: 0.1992\n",
      "Epoch 17/100\n",
      "141/141 [==============================] - 0s 309us/step - loss: 0.0216 - root_mean_squared_error: 0.1978 - val_loss: 0.0248 - val_root_mean_squared_error: 0.1965\n",
      "Epoch 18/100\n",
      "141/141 [==============================] - 0s 304us/step - loss: 0.0204 - root_mean_squared_error: 0.1953 - val_loss: 0.0227 - val_root_mean_squared_error: 0.1940\n",
      "Epoch 19/100\n",
      "141/141 [==============================] - 0s 315us/step - loss: 0.0193 - root_mean_squared_error: 0.1927 - val_loss: 0.0216 - val_root_mean_squared_error: 0.1915\n",
      "Epoch 20/100\n",
      "141/141 [==============================] - 0s 318us/step - loss: 0.0191 - root_mean_squared_error: 0.1903 - val_loss: 0.0220 - val_root_mean_squared_error: 0.1892\n",
      "Epoch 21/100\n",
      "141/141 [==============================] - 0s 317us/step - loss: 0.0189 - root_mean_squared_error: 0.1881 - val_loss: 0.0215 - val_root_mean_squared_error: 0.1871\n",
      "Epoch 22/100\n",
      "141/141 [==============================] - 0s 301us/step - loss: 0.0186 - root_mean_squared_error: 0.1861 - val_loss: 0.0213 - val_root_mean_squared_error: 0.1851\n",
      "Epoch 23/100\n",
      "141/141 [==============================] - 0s 337us/step - loss: 0.0185 - root_mean_squared_error: 0.1842 - val_loss: 0.0215 - val_root_mean_squared_error: 0.1833\n",
      "Epoch 24/100\n",
      "141/141 [==============================] - 0s 304us/step - loss: 0.0181 - root_mean_squared_error: 0.1824 - val_loss: 0.0212 - val_root_mean_squared_error: 0.1816\n",
      "Epoch 25/100\n",
      "141/141 [==============================] - 0s 318us/step - loss: 0.0181 - root_mean_squared_error: 0.1808 - val_loss: 0.0208 - val_root_mean_squared_error: 0.1800\n",
      "Epoch 26/100\n",
      "141/141 [==============================] - 0s 331us/step - loss: 0.0165 - root_mean_squared_error: 0.1791 - val_loss: 0.0189 - val_root_mean_squared_error: 0.1783\n",
      "Epoch 27/100\n",
      "141/141 [==============================] - 0s 312us/step - loss: 0.0159 - root_mean_squared_error: 0.1775 - val_loss: 0.0183 - val_root_mean_squared_error: 0.1767\n",
      "Epoch 28/100\n",
      "141/141 [==============================] - 0s 340us/step - loss: 0.0158 - root_mean_squared_error: 0.1759 - val_loss: 0.0178 - val_root_mean_squared_error: 0.1751\n",
      "Epoch 29/100\n",
      "141/141 [==============================] - 0s 321us/step - loss: 0.0156 - root_mean_squared_error: 0.1744 - val_loss: 0.0180 - val_root_mean_squared_error: 0.1737\n",
      "Epoch 30/100\n",
      "141/141 [==============================] - 0s 346us/step - loss: 0.0156 - root_mean_squared_error: 0.1729 - val_loss: 0.0179 - val_root_mean_squared_error: 0.1723\n",
      "Epoch 31/100\n",
      "141/141 [==============================] - 0s 317us/step - loss: 0.0154 - root_mean_squared_error: 0.1716 - val_loss: 0.0172 - val_root_mean_squared_error: 0.1709\n",
      "Epoch 32/100\n",
      "141/141 [==============================] - 0s 305us/step - loss: 0.0152 - root_mean_squared_error: 0.1703 - val_loss: 0.0170 - val_root_mean_squared_error: 0.1697\n",
      "Epoch 33/100\n",
      "141/141 [==============================] - 0s 312us/step - loss: 0.0152 - root_mean_squared_error: 0.1691 - val_loss: 0.0172 - val_root_mean_squared_error: 0.1685\n",
      "Epoch 34/100\n",
      "141/141 [==============================] - 0s 317us/step - loss: 0.0151 - root_mean_squared_error: 0.1679 - val_loss: 0.0171 - val_root_mean_squared_error: 0.1673\n",
      "Epoch 35/100\n",
      "141/141 [==============================] - 0s 308us/step - loss: 0.0150 - root_mean_squared_error: 0.1668 - val_loss: 0.0173 - val_root_mean_squared_error: 0.1662\n",
      "Epoch 36/100\n",
      "141/141 [==============================] - 0s 312us/step - loss: 0.0149 - root_mean_squared_error: 0.1657 - val_loss: 0.0167 - val_root_mean_squared_error: 0.1652\n",
      "Epoch 37/100\n",
      "141/141 [==============================] - 0s 304us/step - loss: 0.0147 - root_mean_squared_error: 0.1647 - val_loss: 0.0168 - val_root_mean_squared_error: 0.1642\n",
      "Epoch 38/100\n",
      "141/141 [==============================] - 0s 318us/step - loss: 0.0146 - root_mean_squared_error: 0.1637 - val_loss: 0.0169 - val_root_mean_squared_error: 0.1632\n",
      "Epoch 39/100\n",
      "141/141 [==============================] - 0s 325us/step - loss: 0.0145 - root_mean_squared_error: 0.1627 - val_loss: 0.0166 - val_root_mean_squared_error: 0.1623\n",
      "Epoch 40/100\n",
      "141/141 [==============================] - 0s 307us/step - loss: 0.0136 - root_mean_squared_error: 0.1618 - val_loss: 0.0156 - val_root_mean_squared_error: 0.1613\n",
      "Epoch 41/100\n",
      "141/141 [==============================] - 0s 363us/step - loss: 0.0133 - root_mean_squared_error: 0.1608 - val_loss: 0.0157 - val_root_mean_squared_error: 0.1603\n",
      "Epoch 42/100\n",
      "141/141 [==============================] - 0s 327us/step - loss: 0.0130 - root_mean_squared_error: 0.1599 - val_loss: 0.0161 - val_root_mean_squared_error: 0.1594\n",
      "Epoch 43/100\n",
      "141/141 [==============================] - 0s 313us/step - loss: 0.0129 - root_mean_squared_error: 0.1590 - val_loss: 0.0156 - val_root_mean_squared_error: 0.1585\n",
      "Epoch 44/100\n",
      "141/141 [==============================] - 0s 317us/step - loss: 0.0129 - root_mean_squared_error: 0.1581 - val_loss: 0.0154 - val_root_mean_squared_error: 0.1577\n",
      "Epoch 45/100\n",
      "141/141 [==============================] - 0s 315us/step - loss: 0.0126 - root_mean_squared_error: 0.1572 - val_loss: 0.0151 - val_root_mean_squared_error: 0.1568\n",
      "Epoch 46/100\n",
      "141/141 [==============================] - 0s 323us/step - loss: 0.0129 - root_mean_squared_error: 0.1564 - val_loss: 0.0150 - val_root_mean_squared_error: 0.1560\n",
      "Epoch 47/100\n",
      "141/141 [==============================] - 0s 321us/step - loss: 0.0125 - root_mean_squared_error: 0.1556 - val_loss: 0.0152 - val_root_mean_squared_error: 0.1552\n",
      "Epoch 48/100\n",
      "141/141 [==============================] - 0s 300us/step - loss: 0.0124 - root_mean_squared_error: 0.1548 - val_loss: 0.0150 - val_root_mean_squared_error: 0.1545\n",
      "Epoch 49/100\n",
      "141/141 [==============================] - 0s 302us/step - loss: 0.0123 - root_mean_squared_error: 0.1541 - val_loss: 0.0148 - val_root_mean_squared_error: 0.1537\n",
      "Epoch 50/100\n",
      "141/141 [==============================] - 0s 305us/step - loss: 0.0122 - root_mean_squared_error: 0.1533 - val_loss: 0.0149 - val_root_mean_squared_error: 0.1530\n",
      "Epoch 51/100\n",
      "141/141 [==============================] - 0s 314us/step - loss: 0.0123 - root_mean_squared_error: 0.1526 - val_loss: 0.0148 - val_root_mean_squared_error: 0.1523\n",
      "Epoch 52/100\n",
      "141/141 [==============================] - 0s 353us/step - loss: 0.0121 - root_mean_squared_error: 0.1519 - val_loss: 0.0151 - val_root_mean_squared_error: 0.1516\n",
      "Epoch 53/100\n",
      "141/141 [==============================] - 0s 317us/step - loss: 0.0121 - root_mean_squared_error: 0.1513 - val_loss: 0.0150 - val_root_mean_squared_error: 0.1509\n",
      "Epoch 54/100\n",
      "141/141 [==============================] - 0s 327us/step - loss: 0.0119 - root_mean_squared_error: 0.1506 - val_loss: 0.0147 - val_root_mean_squared_error: 0.1503\n",
      "Epoch 55/100\n",
      "141/141 [==============================] - 0s 304us/step - loss: 0.0119 - root_mean_squared_error: 0.1500 - val_loss: 0.0146 - val_root_mean_squared_error: 0.1497\n",
      "Epoch 56/100\n",
      "141/141 [==============================] - 0s 325us/step - loss: 0.0118 - root_mean_squared_error: 0.1493 - val_loss: 0.0148 - val_root_mean_squared_error: 0.1490\n",
      "Epoch 57/100\n",
      "141/141 [==============================] - 0s 301us/step - loss: 0.0117 - root_mean_squared_error: 0.1487 - val_loss: 0.0145 - val_root_mean_squared_error: 0.1484\n",
      "Epoch 58/100\n",
      "141/141 [==============================] - 0s 326us/step - loss: 0.0118 - root_mean_squared_error: 0.1481 - val_loss: 0.0148 - val_root_mean_squared_error: 0.1479\n",
      "Epoch 59/100\n",
      "141/141 [==============================] - 0s 338us/step - loss: 0.0117 - root_mean_squared_error: 0.1476 - val_loss: 0.0144 - val_root_mean_squared_error: 0.1473\n",
      "Epoch 60/100\n",
      "141/141 [==============================] - 0s 329us/step - loss: 0.0115 - root_mean_squared_error: 0.1470 - val_loss: 0.0144 - val_root_mean_squared_error: 0.1467\n",
      "Epoch 61/100\n",
      "141/141 [==============================] - 0s 312us/step - loss: 0.0115 - root_mean_squared_error: 0.1465 - val_loss: 0.0141 - val_root_mean_squared_error: 0.1462\n",
      "Epoch 62/100\n",
      "141/141 [==============================] - 0s 307us/step - loss: 0.0116 - root_mean_squared_error: 0.1459 - val_loss: 0.0144 - val_root_mean_squared_error: 0.1457\n",
      "Epoch 63/100\n",
      "141/141 [==============================] - 0s 304us/step - loss: 0.0116 - root_mean_squared_error: 0.1454 - val_loss: 0.0145 - val_root_mean_squared_error: 0.1452\n",
      "Epoch 64/100\n",
      "141/141 [==============================] - 0s 323us/step - loss: 0.0116 - root_mean_squared_error: 0.1449 - val_loss: 0.0144 - val_root_mean_squared_error: 0.1447\n",
      "Epoch 65/100\n",
      "141/141 [==============================] - 0s 305us/step - loss: 0.0114 - root_mean_squared_error: 0.1444 - val_loss: 0.0141 - val_root_mean_squared_error: 0.1442\n",
      "Epoch 66/100\n",
      "141/141 [==============================] - 0s 323us/step - loss: 0.0114 - root_mean_squared_error: 0.1439 - val_loss: 0.0142 - val_root_mean_squared_error: 0.1437\n",
      "Epoch 67/100\n",
      "141/141 [==============================] - 0s 302us/step - loss: 0.0114 - root_mean_squared_error: 0.1435 - val_loss: 0.0140 - val_root_mean_squared_error: 0.1432\n",
      "Epoch 68/100\n",
      "141/141 [==============================] - 0s 315us/step - loss: 0.0114 - root_mean_squared_error: 0.1430 - val_loss: 0.0143 - val_root_mean_squared_error: 0.1428\n",
      "Epoch 69/100\n",
      "141/141 [==============================] - 0s 335us/step - loss: 0.0113 - root_mean_squared_error: 0.1425 - val_loss: 0.0141 - val_root_mean_squared_error: 0.1423\n",
      "Epoch 70/100\n",
      "141/141 [==============================] - 0s 318us/step - loss: 0.0113 - root_mean_squared_error: 0.1421 - val_loss: 0.0143 - val_root_mean_squared_error: 0.1419\n",
      "Epoch 71/100\n",
      "141/141 [==============================] - 0s 330us/step - loss: 0.0112 - root_mean_squared_error: 0.1417 - val_loss: 0.0142 - val_root_mean_squared_error: 0.1415\n",
      "Epoch 72/100\n",
      "141/141 [==============================] - 0s 302us/step - loss: 0.0112 - root_mean_squared_error: 0.1412 - val_loss: 0.0147 - val_root_mean_squared_error: 0.1410\n",
      "Epoch 73/100\n",
      "141/141 [==============================] - 0s 311us/step - loss: 0.0113 - root_mean_squared_error: 0.1408 - val_loss: 0.0141 - val_root_mean_squared_error: 0.1406\n",
      "Epoch 74/100\n",
      "141/141 [==============================] - 0s 338us/step - loss: 0.0112 - root_mean_squared_error: 0.1404 - val_loss: 0.0140 - val_root_mean_squared_error: 0.1402\n",
      "Epoch 75/100\n",
      "141/141 [==============================] - 0s 305us/step - loss: 0.0112 - root_mean_squared_error: 0.1400 - val_loss: 0.0140 - val_root_mean_squared_error: 0.1398\n",
      "Epoch 76/100\n",
      "141/141 [==============================] - 0s 312us/step - loss: 0.0112 - root_mean_squared_error: 0.1397 - val_loss: 0.0143 - val_root_mean_squared_error: 0.1395\n",
      "Epoch 77/100\n",
      "141/141 [==============================] - 0s 303us/step - loss: 0.0113 - root_mean_squared_error: 0.1393 - val_loss: 0.0141 - val_root_mean_squared_error: 0.1391\n",
      "Epoch 78/100\n",
      "141/141 [==============================] - 0s 321us/step - loss: 0.0112 - root_mean_squared_error: 0.1389 - val_loss: 0.0143 - val_root_mean_squared_error: 0.1387\n",
      "Epoch 79/100\n",
      "141/141 [==============================] - 0s 303us/step - loss: 0.0110 - root_mean_squared_error: 0.1386 - val_loss: 0.0140 - val_root_mean_squared_error: 0.1384\n",
      "Epoch 80/100\n",
      "141/141 [==============================] - 0s 305us/step - loss: 0.0110 - root_mean_squared_error: 0.1382 - val_loss: 0.0141 - val_root_mean_squared_error: 0.1380\n",
      "Epoch 81/100\n",
      "141/141 [==============================] - 0s 307us/step - loss: 0.0110 - root_mean_squared_error: 0.1378 - val_loss: 0.0141 - val_root_mean_squared_error: 0.1377\n",
      "Epoch 82/100\n",
      "141/141 [==============================] - 0s 304us/step - loss: 0.0109 - root_mean_squared_error: 0.1375 - val_loss: 0.0140 - val_root_mean_squared_error: 0.1373\n",
      "Epoch 83/100\n",
      "141/141 [==============================] - 0s 312us/step - loss: 0.0110 - root_mean_squared_error: 0.1372 - val_loss: 0.0138 - val_root_mean_squared_error: 0.1370\n",
      "Epoch 84/100\n",
      "141/141 [==============================] - 0s 311us/step - loss: 0.0109 - root_mean_squared_error: 0.1368 - val_loss: 0.0140 - val_root_mean_squared_error: 0.1367\n",
      "Epoch 85/100\n",
      "141/141 [==============================] - 0s 313us/step - loss: 0.0109 - root_mean_squared_error: 0.1365 - val_loss: 0.0141 - val_root_mean_squared_error: 0.1363\n",
      "Epoch 86/100\n",
      "141/141 [==============================] - 0s 346us/step - loss: 0.0109 - root_mean_squared_error: 0.1362 - val_loss: 0.0140 - val_root_mean_squared_error: 0.1360\n",
      "Epoch 87/100\n",
      "141/141 [==============================] - 0s 316us/step - loss: 0.0108 - root_mean_squared_error: 0.1359 - val_loss: 0.0140 - val_root_mean_squared_error: 0.1357\n",
      "Epoch 88/100\n",
      "141/141 [==============================] - 0s 315us/step - loss: 0.0109 - root_mean_squared_error: 0.1356 - val_loss: 0.0141 - val_root_mean_squared_error: 0.1354\n",
      "Epoch 89/100\n",
      "141/141 [==============================] - 0s 319us/step - loss: 0.0108 - root_mean_squared_error: 0.1353 - val_loss: 0.0142 - val_root_mean_squared_error: 0.1351\n",
      "Epoch 90/100\n",
      "141/141 [==============================] - 0s 312us/step - loss: 0.0109 - root_mean_squared_error: 0.1350 - val_loss: 0.0141 - val_root_mean_squared_error: 0.1348\n",
      "Epoch 91/100\n",
      "141/141 [==============================] - 0s 312us/step - loss: 0.0108 - root_mean_squared_error: 0.1347 - val_loss: 0.0141 - val_root_mean_squared_error: 0.1345\n",
      "Epoch 92/100\n",
      "141/141 [==============================] - 0s 307us/step - loss: 0.0107 - root_mean_squared_error: 0.1344 - val_loss: 0.0141 - val_root_mean_squared_error: 0.1343\n",
      "Epoch 93/100\n",
      "141/141 [==============================] - 0s 308us/step - loss: 0.0107 - root_mean_squared_error: 0.1341 - val_loss: 0.0139 - val_root_mean_squared_error: 0.1340\n",
      "Epoch 94/100\n",
      "141/141 [==============================] - 0s 324us/step - loss: 0.0075 - root_mean_squared_error: 0.1338 - val_loss: 0.0112 - val_root_mean_squared_error: 0.1336\n",
      "Epoch 95/100\n",
      "141/141 [==============================] - 0s 311us/step - loss: 0.0055 - root_mean_squared_error: 0.1333 - val_loss: 0.0103 - val_root_mean_squared_error: 0.1331\n",
      "Epoch 96/100\n",
      "141/141 [==============================] - 0s 429us/step - loss: 0.0052 - root_mean_squared_error: 0.1329 - val_loss: 0.0100 - val_root_mean_squared_error: 0.1326\n",
      "Epoch 97/100\n",
      "141/141 [==============================] - 0s 379us/step - loss: 0.0051 - root_mean_squared_error: 0.1324 - val_loss: 0.0103 - val_root_mean_squared_error: 0.1322\n",
      "Epoch 98/100\n",
      "141/141 [==============================] - 0s 318us/step - loss: 0.0050 - root_mean_squared_error: 0.1319 - val_loss: 0.0101 - val_root_mean_squared_error: 0.1317\n",
      "Epoch 99/100\n",
      "141/141 [==============================] - 0s 307us/step - loss: 0.0050 - root_mean_squared_error: 0.1315 - val_loss: 0.0099 - val_root_mean_squared_error: 0.1313\n",
      "Epoch 100/100\n",
      "141/141 [==============================] - 0s 341us/step - loss: 0.0048 - root_mean_squared_error: 0.1310 - val_loss: 0.0099 - val_root_mean_squared_error: 0.1308\n"
     ]
    }
   ],
   "source": [
    "history = autoencoder_matches.fit(x=noisy_match_x, y=matches_X_train, validation_data=(noisy_val_match_x,matches_X_val), batch_size=5, epochs=100)"
   ]
  },
  {
   "cell_type": "code",
   "execution_count": 0,
   "metadata": {
    "colab": {
     "base_uri": "https://localhost:8080/",
     "height": 282
    },
    "colab_type": "code",
    "id": "WLD14m8zxC-_",
    "outputId": "daa9aead-12b6-4bb6-df66-5916f8d25554"
   },
   "outputs": [
    {
     "data": {
      "text/plain": [
       "[<matplotlib.lines.Line2D at 0x7fc193f86fd0>]"
      ]
     },
     "execution_count": 15,
     "metadata": {
      "tags": []
     },
     "output_type": "execute_result"
    },
    {
     "data": {
      "image/png": "[encoded data removed]",
      "text/plain": [
       "<Figure size 432x288 with 1 Axes>"
      ]
     },
     "metadata": {
      "needs_background": "light",
      "tags": []
     },
     "output_type": "display_data"
    }
   ],
   "source": [
    "plt.plot(history.history[\"val_root_mean_squared_error\"])\n",
    "plt.plot(history.history[\"root_mean_squared_error\"])"
   ]
  },
  {
   "cell_type": "code",
   "execution_count": 0,
   "metadata": {
    "colab": {
     "base_uri": "https://localhost:8080/",
     "height": 1000
    },
    "colab_type": "code",
    "id": "f1ZJt0MWZEnL",
    "outputId": "363e61d9-a094-4509-b17c-8f16f8e9d3a1"
   },
   "outputs": [
    {
     "name": "stdout",
     "output_type": "stream",
     "text": [
      "Train on 141 samples, validate on 16 samples\n",
      "Epoch 1/100\n",
      "141/141 [==============================] - 0s 2ms/step - loss: 0.0622 - root_mean_squared_error: 0.2733 - val_loss: 0.0216 - val_root_mean_squared_error: 0.2431\n",
      "Epoch 2/100\n",
      "141/141 [==============================] - 0s 495us/step - loss: 0.0234 - root_mean_squared_error: 0.2195 - val_loss: 0.0148 - val_root_mean_squared_error: 0.2015\n",
      "Epoch 3/100\n",
      "141/141 [==============================] - 0s 510us/step - loss: 0.0195 - root_mean_squared_error: 0.1911 - val_loss: 0.0200 - val_root_mean_squared_error: 0.1830\n",
      "Epoch 4/100\n",
      "141/141 [==============================] - 0s 487us/step - loss: 0.0180 - root_mean_squared_error: 0.1768 - val_loss: 0.0162 - val_root_mean_squared_error: 0.1719\n",
      "Epoch 5/100\n",
      "141/141 [==============================] - 0s 480us/step - loss: 0.0173 - root_mean_squared_error: 0.1681 - val_loss: 0.0154 - val_root_mean_squared_error: 0.1645\n",
      "Epoch 6/100\n",
      "141/141 [==============================] - 0s 482us/step - loss: 0.0165 - root_mean_squared_error: 0.1616 - val_loss: 0.0145 - val_root_mean_squared_error: 0.1589\n",
      "Epoch 7/100\n",
      "141/141 [==============================] - 0s 475us/step - loss: 0.0164 - root_mean_squared_error: 0.1567 - val_loss: 0.0153 - val_root_mean_squared_error: 0.1548\n",
      "Epoch 8/100\n",
      "141/141 [==============================] - 0s 487us/step - loss: 0.0150 - root_mean_squared_error: 0.1528 - val_loss: 0.0141 - val_root_mean_squared_error: 0.1511\n",
      "Epoch 9/100\n",
      "141/141 [==============================] - 0s 480us/step - loss: 0.0150 - root_mean_squared_error: 0.1496 - val_loss: 0.0144 - val_root_mean_squared_error: 0.1482\n",
      "Epoch 10/100\n",
      "141/141 [==============================] - 0s 485us/step - loss: 0.0151 - root_mean_squared_error: 0.1470 - val_loss: 0.0126 - val_root_mean_squared_error: 0.1458\n",
      "Epoch 11/100\n",
      "141/141 [==============================] - 0s 483us/step - loss: 0.0153 - root_mean_squared_error: 0.1448 - val_loss: 0.0162 - val_root_mean_squared_error: 0.1439\n",
      "Epoch 12/100\n",
      "141/141 [==============================] - 0s 482us/step - loss: 0.0147 - root_mean_squared_error: 0.1431 - val_loss: 0.0145 - val_root_mean_squared_error: 0.1422\n",
      "Epoch 13/100\n",
      "141/141 [==============================] - 0s 530us/step - loss: 0.0142 - root_mean_squared_error: 0.1413 - val_loss: 0.0139 - val_root_mean_squared_error: 0.1405\n",
      "Epoch 14/100\n",
      "141/141 [==============================] - 0s 473us/step - loss: 0.0136 - root_mean_squared_error: 0.1397 - val_loss: 0.0134 - val_root_mean_squared_error: 0.1389\n",
      "Epoch 15/100\n",
      "141/141 [==============================] - 0s 510us/step - loss: 0.0135 - root_mean_squared_error: 0.1382 - val_loss: 0.0123 - val_root_mean_squared_error: 0.1375\n",
      "Epoch 16/100\n",
      "141/141 [==============================] - 0s 538us/step - loss: 0.0130 - root_mean_squared_error: 0.1368 - val_loss: 0.0112 - val_root_mean_squared_error: 0.1361\n",
      "Epoch 17/100\n",
      "141/141 [==============================] - 0s 476us/step - loss: 0.0128 - root_mean_squared_error: 0.1355 - val_loss: 0.0123 - val_root_mean_squared_error: 0.1349\n",
      "Epoch 18/100\n",
      "141/141 [==============================] - 0s 485us/step - loss: 0.0126 - root_mean_squared_error: 0.1343 - val_loss: 0.0112 - val_root_mean_squared_error: 0.1337\n",
      "Epoch 19/100\n",
      "141/141 [==============================] - 0s 498us/step - loss: 0.0127 - root_mean_squared_error: 0.1332 - val_loss: 0.0109 - val_root_mean_squared_error: 0.1326\n",
      "Epoch 20/100\n",
      "141/141 [==============================] - 0s 512us/step - loss: 0.0123 - root_mean_squared_error: 0.1321 - val_loss: 0.0107 - val_root_mean_squared_error: 0.1316\n",
      "Epoch 21/100\n",
      "141/141 [==============================] - 0s 486us/step - loss: 0.0124 - root_mean_squared_error: 0.1311 - val_loss: 0.0110 - val_root_mean_squared_error: 0.1307\n",
      "Epoch 22/100\n",
      "141/141 [==============================] - 0s 481us/step - loss: 0.0120 - root_mean_squared_error: 0.1302 - val_loss: 0.0107 - val_root_mean_squared_error: 0.1298\n",
      "Epoch 23/100\n",
      "141/141 [==============================] - 0s 482us/step - loss: 0.0119 - root_mean_squared_error: 0.1293 - val_loss: 0.0109 - val_root_mean_squared_error: 0.1289\n",
      "Epoch 24/100\n",
      "141/141 [==============================] - 0s 476us/step - loss: 0.0121 - root_mean_squared_error: 0.1285 - val_loss: 0.0104 - val_root_mean_squared_error: 0.1281\n",
      "Epoch 25/100\n",
      "141/141 [==============================] - 0s 485us/step - loss: 0.0121 - root_mean_squared_error: 0.1278 - val_loss: 0.0104 - val_root_mean_squared_error: 0.1274\n",
      "Epoch 26/100\n",
      "141/141 [==============================] - 0s 489us/step - loss: 0.0121 - root_mean_squared_error: 0.1271 - val_loss: 0.0109 - val_root_mean_squared_error: 0.1268\n",
      "Epoch 27/100\n",
      "141/141 [==============================] - 0s 517us/step - loss: 0.0118 - root_mean_squared_error: 0.1264 - val_loss: 0.0105 - val_root_mean_squared_error: 0.1261\n",
      "Epoch 28/100\n",
      "141/141 [==============================] - 0s 517us/step - loss: 0.0119 - root_mean_squared_error: 0.1259 - val_loss: 0.0102 - val_root_mean_squared_error: 0.1255\n",
      "Epoch 29/100\n",
      "141/141 [==============================] - 0s 543us/step - loss: 0.0116 - root_mean_squared_error: 0.1253 - val_loss: 0.0101 - val_root_mean_squared_error: 0.1250\n",
      "Epoch 30/100\n",
      "141/141 [==============================] - 0s 471us/step - loss: 0.0118 - root_mean_squared_error: 0.1247 - val_loss: 0.0103 - val_root_mean_squared_error: 0.1244\n",
      "Epoch 31/100\n",
      "141/141 [==============================] - 0s 469us/step - loss: 0.0116 - root_mean_squared_error: 0.1242 - val_loss: 0.0106 - val_root_mean_squared_error: 0.1239\n",
      "Epoch 32/100\n",
      "141/141 [==============================] - 0s 481us/step - loss: 0.0115 - root_mean_squared_error: 0.1236 - val_loss: 0.0101 - val_root_mean_squared_error: 0.1234\n",
      "Epoch 33/100\n",
      "141/141 [==============================] - 0s 480us/step - loss: 0.0113 - root_mean_squared_error: 0.1232 - val_loss: 0.0101 - val_root_mean_squared_error: 0.1229\n",
      "Epoch 34/100\n",
      "141/141 [==============================] - 0s 486us/step - loss: 0.0113 - root_mean_squared_error: 0.1227 - val_loss: 0.0103 - val_root_mean_squared_error: 0.1224\n",
      "Epoch 35/100\n",
      "141/141 [==============================] - 0s 483us/step - loss: 0.0117 - root_mean_squared_error: 0.1222 - val_loss: 0.0101 - val_root_mean_squared_error: 0.1220\n",
      "Epoch 36/100\n",
      "141/141 [==============================] - 0s 492us/step - loss: 0.0112 - root_mean_squared_error: 0.1218 - val_loss: 0.0101 - val_root_mean_squared_error: 0.1216\n",
      "Epoch 37/100\n",
      "141/141 [==============================] - 0s 485us/step - loss: 0.0113 - root_mean_squared_error: 0.1214 - val_loss: 0.0104 - val_root_mean_squared_error: 0.1212\n",
      "Epoch 38/100\n",
      "141/141 [==============================] - 0s 487us/step - loss: 0.0111 - root_mean_squared_error: 0.1210 - val_loss: 0.0105 - val_root_mean_squared_error: 0.1208\n",
      "Epoch 39/100\n",
      "141/141 [==============================] - 0s 494us/step - loss: 0.0113 - root_mean_squared_error: 0.1206 - val_loss: 0.0101 - val_root_mean_squared_error: 0.1204\n",
      "Epoch 40/100\n",
      "141/141 [==============================] - 0s 485us/step - loss: 0.0113 - root_mean_squared_error: 0.1203 - val_loss: 0.0100 - val_root_mean_squared_error: 0.1201\n",
      "Epoch 41/100\n",
      "141/141 [==============================] - 0s 486us/step - loss: 0.0112 - root_mean_squared_error: 0.1199 - val_loss: 0.0100 - val_root_mean_squared_error: 0.1198\n",
      "Epoch 42/100\n",
      "141/141 [==============================] - 0s 519us/step - loss: 0.0111 - root_mean_squared_error: 0.1196 - val_loss: 0.0101 - val_root_mean_squared_error: 0.1194\n",
      "Epoch 43/100\n",
      "141/141 [==============================] - 0s 478us/step - loss: 0.0112 - root_mean_squared_error: 0.1193 - val_loss: 0.0101 - val_root_mean_squared_error: 0.1191\n",
      "Epoch 44/100\n",
      "141/141 [==============================] - 0s 479us/step - loss: 0.0111 - root_mean_squared_error: 0.1190 - val_loss: 0.0102 - val_root_mean_squared_error: 0.1188\n",
      "Epoch 45/100\n",
      "141/141 [==============================] - 0s 476us/step - loss: 0.0112 - root_mean_squared_error: 0.1187 - val_loss: 0.0100 - val_root_mean_squared_error: 0.1185\n",
      "Epoch 46/100\n",
      "141/141 [==============================] - 0s 478us/step - loss: 0.0112 - root_mean_squared_error: 0.1184 - val_loss: 0.0101 - val_root_mean_squared_error: 0.1182\n",
      "Epoch 47/100\n",
      "141/141 [==============================] - 0s 475us/step - loss: 0.0110 - root_mean_squared_error: 0.1181 - val_loss: 0.0100 - val_root_mean_squared_error: 0.1180\n",
      "Epoch 48/100\n",
      "141/141 [==============================] - 0s 458us/step - loss: 0.0110 - root_mean_squared_error: 0.1178 - val_loss: 0.0099 - val_root_mean_squared_error: 0.1177\n",
      "Epoch 49/100\n",
      "141/141 [==============================] - 0s 487us/step - loss: 0.0109 - root_mean_squared_error: 0.1176 - val_loss: 0.0099 - val_root_mean_squared_error: 0.1174\n",
      "Epoch 50/100\n",
      "141/141 [==============================] - 0s 502us/step - loss: 0.0111 - root_mean_squared_error: 0.1173 - val_loss: 0.0101 - val_root_mean_squared_error: 0.1172\n",
      "Epoch 51/100\n",
      "141/141 [==============================] - 0s 476us/step - loss: 0.0111 - root_mean_squared_error: 0.1171 - val_loss: 0.0101 - val_root_mean_squared_error: 0.1170\n",
      "Epoch 52/100\n",
      "141/141 [==============================] - 0s 477us/step - loss: 0.0109 - root_mean_squared_error: 0.1169 - val_loss: 0.0100 - val_root_mean_squared_error: 0.1167\n",
      "Epoch 53/100\n",
      "141/141 [==============================] - 0s 477us/step - loss: 0.0109 - root_mean_squared_error: 0.1166 - val_loss: 0.0100 - val_root_mean_squared_error: 0.1165\n",
      "Epoch 54/100\n",
      "141/141 [==============================] - 0s 475us/step - loss: 0.0107 - root_mean_squared_error: 0.1164 - val_loss: 0.0102 - val_root_mean_squared_error: 0.1163\n",
      "Epoch 55/100\n",
      "141/141 [==============================] - 0s 481us/step - loss: 0.0109 - root_mean_squared_error: 0.1162 - val_loss: 0.0101 - val_root_mean_squared_error: 0.1161\n",
      "Epoch 56/100\n",
      "141/141 [==============================] - 0s 525us/step - loss: 0.0109 - root_mean_squared_error: 0.1160 - val_loss: 0.0101 - val_root_mean_squared_error: 0.1159\n",
      "Epoch 57/100\n",
      "141/141 [==============================] - 0s 485us/step - loss: 0.0108 - root_mean_squared_error: 0.1158 - val_loss: 0.0099 - val_root_mean_squared_error: 0.1157\n",
      "Epoch 58/100\n",
      "141/141 [==============================] - 0s 476us/step - loss: 0.0108 - root_mean_squared_error: 0.1156 - val_loss: 0.0099 - val_root_mean_squared_error: 0.1155\n",
      "Epoch 59/100\n",
      "141/141 [==============================] - 0s 553us/step - loss: 0.0108 - root_mean_squared_error: 0.1154 - val_loss: 0.0099 - val_root_mean_squared_error: 0.1153\n",
      "Epoch 60/100\n",
      "141/141 [==============================] - 0s 483us/step - loss: 0.0109 - root_mean_squared_error: 0.1152 - val_loss: 0.0102 - val_root_mean_squared_error: 0.1151\n",
      "Epoch 61/100\n",
      "141/141 [==============================] - 0s 472us/step - loss: 0.0109 - root_mean_squared_error: 0.1150 - val_loss: 0.0103 - val_root_mean_squared_error: 0.1149\n",
      "Epoch 62/100\n",
      "141/141 [==============================] - 0s 472us/step - loss: 0.0107 - root_mean_squared_error: 0.1148 - val_loss: 0.0100 - val_root_mean_squared_error: 0.1147\n",
      "Epoch 63/100\n",
      "141/141 [==============================] - 0s 489us/step - loss: 0.0106 - root_mean_squared_error: 0.1146 - val_loss: 0.0099 - val_root_mean_squared_error: 0.1145\n",
      "Epoch 64/100\n",
      "141/141 [==============================] - 0s 478us/step - loss: 0.0106 - root_mean_squared_error: 0.1145 - val_loss: 0.0099 - val_root_mean_squared_error: 0.1144\n",
      "Epoch 65/100\n",
      "141/141 [==============================] - 0s 477us/step - loss: 0.0108 - root_mean_squared_error: 0.1143 - val_loss: 0.0101 - val_root_mean_squared_error: 0.1142\n",
      "Epoch 66/100\n",
      "141/141 [==============================] - 0s 480us/step - loss: 0.0109 - root_mean_squared_error: 0.1141 - val_loss: 0.0101 - val_root_mean_squared_error: 0.1141\n",
      "Epoch 67/100\n",
      "141/141 [==============================] - 0s 482us/step - loss: 0.0106 - root_mean_squared_error: 0.1140 - val_loss: 0.0099 - val_root_mean_squared_error: 0.1139\n",
      "Epoch 68/100\n",
      "141/141 [==============================] - 0s 499us/step - loss: 0.0106 - root_mean_squared_error: 0.1138 - val_loss: 0.0099 - val_root_mean_squared_error: 0.1137\n",
      "Epoch 69/100\n",
      "141/141 [==============================] - 0s 507us/step - loss: 0.0106 - root_mean_squared_error: 0.1137 - val_loss: 0.0099 - val_root_mean_squared_error: 0.1136\n",
      "Epoch 70/100\n",
      "141/141 [==============================] - 0s 482us/step - loss: 0.0107 - root_mean_squared_error: 0.1135 - val_loss: 0.0098 - val_root_mean_squared_error: 0.1134\n",
      "Epoch 71/100\n",
      "141/141 [==============================] - 0s 539us/step - loss: 0.0106 - root_mean_squared_error: 0.1134 - val_loss: 0.0098 - val_root_mean_squared_error: 0.1133\n",
      "Epoch 72/100\n",
      "141/141 [==============================] - 0s 479us/step - loss: 0.0108 - root_mean_squared_error: 0.1132 - val_loss: 0.0099 - val_root_mean_squared_error: 0.1132\n",
      "Epoch 73/100\n",
      "141/141 [==============================] - 0s 479us/step - loss: 0.0105 - root_mean_squared_error: 0.1131 - val_loss: 0.0100 - val_root_mean_squared_error: 0.1130\n",
      "Epoch 74/100\n",
      "141/141 [==============================] - 0s 473us/step - loss: 0.0107 - root_mean_squared_error: 0.1130 - val_loss: 0.0099 - val_root_mean_squared_error: 0.1129\n",
      "Epoch 75/100\n",
      "141/141 [==============================] - 0s 470us/step - loss: 0.0105 - root_mean_squared_error: 0.1128 - val_loss: 0.0098 - val_root_mean_squared_error: 0.1127\n",
      "Epoch 76/100\n",
      "141/141 [==============================] - 0s 470us/step - loss: 0.0105 - root_mean_squared_error: 0.1127 - val_loss: 0.0099 - val_root_mean_squared_error: 0.1126\n",
      "Epoch 77/100\n",
      "141/141 [==============================] - 0s 473us/step - loss: 0.0105 - root_mean_squared_error: 0.1126 - val_loss: 0.0098 - val_root_mean_squared_error: 0.1125\n",
      "Epoch 78/100\n",
      "141/141 [==============================] - 0s 478us/step - loss: 0.0107 - root_mean_squared_error: 0.1124 - val_loss: 0.0099 - val_root_mean_squared_error: 0.1124\n",
      "Epoch 79/100\n",
      "141/141 [==============================] - 0s 479us/step - loss: 0.0105 - root_mean_squared_error: 0.1123 - val_loss: 0.0098 - val_root_mean_squared_error: 0.1122\n",
      "Epoch 80/100\n",
      "141/141 [==============================] - 0s 473us/step - loss: 0.0106 - root_mean_squared_error: 0.1122 - val_loss: 0.0098 - val_root_mean_squared_error: 0.1121\n",
      "Epoch 81/100\n",
      "141/141 [==============================] - 0s 489us/step - loss: 0.0106 - root_mean_squared_error: 0.1121 - val_loss: 0.0099 - val_root_mean_squared_error: 0.1120\n",
      "Epoch 82/100\n",
      "141/141 [==============================] - 0s 491us/step - loss: 0.0104 - root_mean_squared_error: 0.1120 - val_loss: 0.0099 - val_root_mean_squared_error: 0.1119\n",
      "Epoch 83/100\n",
      "141/141 [==============================] - 0s 468us/step - loss: 0.0104 - root_mean_squared_error: 0.1118 - val_loss: 0.0099 - val_root_mean_squared_error: 0.1118\n",
      "Epoch 84/100\n",
      "141/141 [==============================] - 0s 481us/step - loss: 0.0104 - root_mean_squared_error: 0.1117 - val_loss: 0.0098 - val_root_mean_squared_error: 0.1117\n",
      "Epoch 85/100\n",
      "141/141 [==============================] - 0s 494us/step - loss: 0.0105 - root_mean_squared_error: 0.1116 - val_loss: 0.0099 - val_root_mean_squared_error: 0.1116\n",
      "Epoch 86/100\n",
      "141/141 [==============================] - 0s 474us/step - loss: 0.0105 - root_mean_squared_error: 0.1115 - val_loss: 0.0098 - val_root_mean_squared_error: 0.1115\n",
      "Epoch 87/100\n",
      "141/141 [==============================] - 0s 460us/step - loss: 0.0105 - root_mean_squared_error: 0.1114 - val_loss: 0.0098 - val_root_mean_squared_error: 0.1114\n",
      "Epoch 88/100\n",
      "141/141 [==============================] - 0s 473us/step - loss: 0.0105 - root_mean_squared_error: 0.1113 - val_loss: 0.0099 - val_root_mean_squared_error: 0.1113\n",
      "Epoch 89/100\n",
      "141/141 [==============================] - 0s 493us/step - loss: 0.0105 - root_mean_squared_error: 0.1112 - val_loss: 0.0099 - val_root_mean_squared_error: 0.1112\n",
      "Epoch 90/100\n",
      "141/141 [==============================] - 0s 475us/step - loss: 0.0103 - root_mean_squared_error: 0.1111 - val_loss: 0.0100 - val_root_mean_squared_error: 0.1110\n",
      "Epoch 91/100\n",
      "141/141 [==============================] - 0s 515us/step - loss: 0.0105 - root_mean_squared_error: 0.1110 - val_loss: 0.0099 - val_root_mean_squared_error: 0.1110\n",
      "Epoch 92/100\n",
      "141/141 [==============================] - 0s 527us/step - loss: 0.0104 - root_mean_squared_error: 0.1109 - val_loss: 0.0098 - val_root_mean_squared_error: 0.1109\n",
      "Epoch 93/100\n",
      "141/141 [==============================] - 0s 477us/step - loss: 0.0104 - root_mean_squared_error: 0.1108 - val_loss: 0.0098 - val_root_mean_squared_error: 0.1108\n",
      "Epoch 94/100\n",
      "141/141 [==============================] - 0s 476us/step - loss: 0.0103 - root_mean_squared_error: 0.1107 - val_loss: 0.0099 - val_root_mean_squared_error: 0.1107\n",
      "Epoch 95/100\n",
      "141/141 [==============================] - 0s 482us/step - loss: 0.0105 - root_mean_squared_error: 0.1106 - val_loss: 0.0099 - val_root_mean_squared_error: 0.1106\n",
      "Epoch 96/100\n",
      "141/141 [==============================] - 0s 483us/step - loss: 0.0104 - root_mean_squared_error: 0.1105 - val_loss: 0.0098 - val_root_mean_squared_error: 0.1105\n",
      "Epoch 97/100\n",
      "141/141 [==============================] - 0s 480us/step - loss: 0.0103 - root_mean_squared_error: 0.1104 - val_loss: 0.0099 - val_root_mean_squared_error: 0.1104\n",
      "Epoch 98/100\n",
      "141/141 [==============================] - 0s 496us/step - loss: 0.0102 - root_mean_squared_error: 0.1103 - val_loss: 0.0098 - val_root_mean_squared_error: 0.1103\n",
      "Epoch 99/100\n",
      "141/141 [==============================] - 0s 491us/step - loss: 0.0103 - root_mean_squared_error: 0.1103 - val_loss: 0.0098 - val_root_mean_squared_error: 0.1102\n",
      "Epoch 100/100\n",
      "141/141 [==============================] - 0s 509us/step - loss: 0.0103 - root_mean_squared_error: 0.1102 - val_loss: 0.0099 - val_root_mean_squared_error: 0.1101\n"
     ]
    }
   ],
   "source": [
    "history_players = autoencoder_players.fit(x=noisy_player_x, y=players_X_train, validation_data=(noisy_val_player_x,players_X_val), batch_size=5, epochs=100)"
   ]
  },
  {
   "cell_type": "code",
   "execution_count": 0,
   "metadata": {
    "colab": {},
    "colab_type": "code",
    "id": "ilcF8BeuZfp5"
   },
   "outputs": [],
   "source": [
    "autoencoder_matches.save(\"auto_matches_dense.h5\")\n",
    "autoencoder_players.save(\"auto_players_dense.h5\")"
   ]
  },
  {
   "cell_type": "markdown",
   "metadata": {
    "colab_type": "text",
    "id": "9ow7MxRN5Ugl"
   },
   "source": [
    "# Test Data"
   ]
  },
  {
   "cell_type": "code",
   "execution_count": 0,
   "metadata": {
    "colab": {},
    "colab_type": "code",
    "id": "6matPFhCO_Aa"
   },
   "outputs": [],
   "source": [
    "def test_data(match,players):\n",
    "  matches_X = np.load(match)\n",
    "  players_X = np.load(players)\n",
    "  matches_X = np.expand_dims(matches_X, axis=0)\n",
    "  players_X = np.expand_dims(players_X, axis=0)\n",
    "  matches_X = np.reshape(matches_X, (matches_X.shape[0], matches_X.shape[1]*matches_X.shape[2]))\n",
    "  players_X = np.reshape(players_X, (players_X.shape[0], players_X.shape[1]*players_X.shape[2]*players_X.shape[3]))\n",
    "  print(matches_X.shape,players_X.shape)\n",
    "  return matches_X,players_X\n"
   ]
  },
  {
   "cell_type": "code",
   "execution_count": 0,
   "metadata": {
    "colab": {},
    "colab_type": "code",
    "id": "A1HXcglc-YgS"
   },
   "outputs": [],
   "source": [
    "\n",
    "def test_pred(fixtures,autoencoder_matches,autoencoder_players):\n",
    "  pred_all_matches = []\n",
    "  pred_all_players = []\n",
    "  teams = []\n",
    "  player_teams = []\n",
    "  for fix in fixtures:\n",
    "    print(fix[0].split('_')[:2])\n",
    "    teams.extend(fix[0].split('_')[:2])\n",
    "\n",
    "    matches_X,players_X = test_data(fix[0],fix[1])\n",
    "    pred_match = autoencoder_matches.predict(matches_X)\n",
    "    pred_players = autoencoder_players.predict(players_X)\n",
    "    pred_all_matches.append(pred_match)\n",
    "    pred_all_players.append(pred_players)\n",
    "\n",
    "  pred_all_matches = np.vstack(pred_all_matches)\n",
    "  pred_all_players = np.vstack(pred_all_players)\n",
    "\n",
    "  temp = [[team]*18 for team in teams]\n",
    "  for i in range(len(teams)):\n",
    "    player_teams += temp[i]\n",
    "\n",
    "  print(pred_all_matches.shape,pred_all_players.shape)\n",
    "  return pred_all_matches,pred_all_players,teams,player_teams\n",
    " "
   ]
  },
  {
   "cell_type": "markdown",
   "metadata": {
    "colab_type": "text",
    "id": "CsYBZ8t7C8Oq"
   },
   "source": [
    "## Matches from sim 1 and 2"
   ]
  },
  {
   "cell_type": "markdown",
   "metadata": {
    "colab_type": "text",
    "id": "Ae7MnxnliDMI"
   },
   "source": [
    "### FINALS"
   ]
  },
  {
   "cell_type": "code",
   "execution_count": 0,
   "metadata": {
    "colab": {},
    "colab_type": "code",
    "id": "Jqm1AjugiEvg"
   },
   "outputs": [],
   "source": [
    "matches_X_final,players_X_final = test_data(\"Juventus_Atalanta_teams.npy\",\"Juventus_Atalanta_players.npy\")\n",
    "\n",
    "pred_finals_match = autoencoder_matches.predict(matches_X_final)\n",
    "pred_finals_players = autoencoder_players.predict(players_X_final)\n",
    "\n",
    "pred_all_matches_final = pred_finals_match\n",
    "pred_all_players_final = pred_finals_players\n",
    "pred_all_matches_final.shape,pred_all_players_final.shape"
   ]
  },
  {
   "cell_type": "markdown",
   "metadata": {
    "colab_type": "text",
    "id": "Q4iH3gsudJl2"
   },
   "source": [
    "### Semi finals"
   ]
  },
  {
   "cell_type": "code",
   "execution_count": 0,
   "metadata": {
    "colab": {
     "base_uri": "https://localhost:8080/",
     "height": 68
    },
    "colab_type": "code",
    "id": "OMbQRqjYdMG8",
    "outputId": "ba0de2df-94d1-47ce-eedd-30a274f9d365"
   },
   "outputs": [
    {
     "name": "stdout",
     "output_type": "stream",
     "text": [
      "(1, 124) (1, 360)\n",
      "(1, 124) (1, 360)\n"
     ]
    },
    {
     "data": {
      "text/plain": [
       "((2, 124), (2, 360))"
      ]
     },
     "execution_count": 39,
     "metadata": {
      "tags": []
     },
     "output_type": "execute_result"
    }
   ],
   "source": [
    "matches_X_bayern2,players_X_bayern2 = test_data(\"Atalanta_Barcelona_teams.npy\",\"Atalanta_Barcelona_players.npy\")\n",
    "matches_X_barca2,players_X_barca2 = test_data(\"Paris_Juventus_teams.npy\",\"Paris_Juventus_players.npy\")\n",
    "\n",
    "pred_bayern2_match = autoencoder_matches.predict(matches_X_bayern2)\n",
    "pred_bayern2_players = autoencoder_players.predict(players_X_bayern2)\n",
    "\n",
    "pred_barca2_match = autoencoder_matches.predict(matches_X_barca2)\n",
    "pred_barca2_players = autoencoder_players.predict(players_X_barca2)\n",
    "\n",
    "\n",
    "pred_all_matches_s = np.vstack((pred_bayern2_match,pred_barca2_match))\n",
    "pred_all_players_s = np.vstack((pred_bayern2_players,pred_barca2_players))\n",
    "pred_all_matches_s.shape,pred_all_players_s.shape"
   ]
  },
  {
   "cell_type": "markdown",
   "metadata": {
    "colab_type": "text",
    "id": "f8JC_jvsdGf2"
   },
   "source": [
    "### Q finals"
   ]
  },
  {
   "cell_type": "code",
   "execution_count": 0,
   "metadata": {
    "colab": {
     "base_uri": "https://localhost:8080/",
     "height": 102
    },
    "colab_type": "code",
    "id": "bNhS6yzeQBH4",
    "outputId": "3c4bba5b-f598-436d-de0a-5485536071fc"
   },
   "outputs": [
    {
     "name": "stdout",
     "output_type": "stream",
     "text": [
      "(1, 124) (1, 360)\n",
      "(1, 124) (1, 360)\n",
      "(1, 124) (1, 360)\n",
      "(1, 124) (1, 360)\n"
     ]
    },
    {
     "data": {
      "text/plain": [
       "((4, 124), (4, 360))"
      ]
     },
     "execution_count": 380,
     "metadata": {
      "tags": []
     },
     "output_type": "execute_result"
    }
   ],
   "source": [
    "matches_X_atlanta,players_X_atlanta = test_data(\"Juventus_Atlético_teams.npy\",\"Juventus_Atlético_players.npy\")\n",
    "matches_X_barca2,players_X_barca2 = test_data(\"Atalanta_Bayern_teams.npy\",\"Atalanta_Bayern_players.npy\")\n",
    "matches_X_juve2,players_X_juve2 = test_data(\"Barcelona_Leipzig_teams.npy\",\"Barcelona_Leipzig_players.npy\")\n",
    "matches_X_leip,players_X_leip = test_data(\"Paris_Man. City_teams.npy\",\"Paris_Man. City_players.npy\")\n",
    "\n",
    "pred_atlanta_match = autoencoder_matches.predict(matches_X_atlanta)\n",
    "pred_atlanta_players = autoencoder_players.predict(players_X_atlanta)\n",
    "\n",
    "pred_barca2_match = autoencoder_matches.predict(matches_X_barca2)\n",
    "pred_barca2_players = autoencoder_players.predict(players_X_barca2)\n",
    "\n",
    "pred_juve2_match = autoencoder_matches.predict(matches_X_juve2)\n",
    "pred_juve2_players = autoencoder_players.predict(players_X_juve2)\n",
    "\n",
    "pred_leip_match = autoencoder_matches.predict(matches_X_leip)\n",
    "pred_leip_players = autoencoder_players.predict(players_X_leip)\n",
    "\n",
    "pred_all_matches_q = np.vstack((pred_atlanta_match,pred_barca2_match,pred_juve2_match,pred_leip_match))\n",
    "pred_all_players_q = np.vstack((pred_atlanta_players,pred_barca2_players,pred_juve2_players,pred_leip_players))\n",
    "pred_all_matches_q.shape,pred_all_players_q.shape"
   ]
  },
  {
   "cell_type": "markdown",
   "metadata": {
    "colab_type": "text",
    "id": "I_JpBe1jcOnw"
   },
   "source": [
    "### Round of 16"
   ]
  },
  {
   "cell_type": "code",
   "execution_count": 0,
   "metadata": {
    "colab": {},
    "colab_type": "code",
    "id": "5j-zK3xiNkk0"
   },
   "outputs": [],
   "source": [
    "matches_X_barca = np.load(\"Barca_Napoli_teams.npy\")\n",
    "players_X_barca = np.load(\"Barca_Napoli_players.npy\")\n",
    "matches_X_barca = np.expand_dims(matches_X_barca, axis=0)\n",
    "matches_X_barca = np.reshape(matches_X_barca, (matches_X_barca.shape[0], matches_X_barca.shape[1]*matches_X_barca.shape[2], 1))\n",
    "players_X_barca = np.expand_dims(players_X_barca, axis=0)\n",
    "players_X_barca = np.reshape(players_X_barca, (players_X_barca.shape[0], players_X_barca.shape[1]*players_X_barca.shape[2]*players_X_barca.shape[3], 1))"
   ]
  },
  {
   "cell_type": "code",
   "execution_count": 0,
   "metadata": {
    "colab": {
     "base_uri": "https://localhost:8080/",
     "height": 34
    },
    "colab_type": "code",
    "id": "1H_sUdG8OHFj",
    "outputId": "853501ea-b924-46d7-baac-ce94b4726340"
   },
   "outputs": [
    {
     "data": {
      "text/plain": [
       "((1, 124), (1, 360))"
      ]
     },
     "execution_count": 105,
     "metadata": {
      "tags": []
     },
     "output_type": "execute_result"
    }
   ],
   "source": [
    "matches_X_barca.shape,players_X_barca.shape"
   ]
  },
  {
   "cell_type": "code",
   "execution_count": 0,
   "metadata": {
    "colab": {},
    "colab_type": "code",
    "id": "xr5VRtPlPGh7"
   },
   "outputs": [],
   "source": [
    "#pred_barca = model.predict(x=[matches_X_barca, players_X_barca])\n",
    "pred_barca_match = autoencoder_matches.predict(matches_X_barca)\n",
    "pred_barca_players = autoencoder_players.predict(players_X_barca)"
   ]
  },
  {
   "cell_type": "code",
   "execution_count": 0,
   "metadata": {
    "colab": {},
    "colab_type": "code",
    "id": "Pf7tQbw0QJZ6"
   },
   "outputs": [],
   "source": [
    "matches_X_bayern = np.load(\"Bayern_Chelsea_teams.npy\")\n",
    "players_X_bayern = np.load(\"Bayern_Chelsea_players.npy\")\n",
    "matches_X_bayern = np.expand_dims(matches_X_bayern, axis=0)\n",
    "matches_X_bayern = np.reshape(matches_X_bayern, (matches_X_bayern.shape[0], matches_X_bayern.shape[1]*matches_X_bayern.shape[2], 1))\n",
    "players_X_bayern = np.expand_dims(players_X_bayern, axis=0)\n",
    "players_X_bayern = np.reshape(players_X_bayern, (players_X_bayern.shape[0], players_X_bayern.shape[1]*players_X_bayern.shape[2]*players_X_bayern.shape[3], 1))"
   ]
  },
  {
   "cell_type": "code",
   "execution_count": 0,
   "metadata": {
    "colab": {
     "base_uri": "https://localhost:8080/",
     "height": 34
    },
    "colab_type": "code",
    "id": "RCM0kxgTQhwE",
    "outputId": "051a65f1-2a9d-4b67-a9a6-655d02733b49"
   },
   "outputs": [
    {
     "data": {
      "text/plain": [
       "(1, 124)"
      ]
     },
     "execution_count": 107,
     "metadata": {
      "tags": []
     },
     "output_type": "execute_result"
    }
   ],
   "source": [
    "matches_X_bayern.shape"
   ]
  },
  {
   "cell_type": "code",
   "execution_count": 0,
   "metadata": {
    "colab": {},
    "colab_type": "code",
    "id": "AbK7m0yQjaF0"
   },
   "outputs": [],
   "source": [
    "#pred_bayern = model.predict(x=[matches_X_bayern, players_X_bayern])\n",
    "pred_bayern_match = autoencoder_matches.predict(matches_X_bayern)\n",
    "pred_bayern_players = autoencoder_players.predict(players_X_bayern)"
   ]
  },
  {
   "cell_type": "code",
   "execution_count": 0,
   "metadata": {
    "colab": {},
    "colab_type": "code",
    "id": "NFwbf4_njfYv"
   },
   "outputs": [],
   "source": [
    "matches_X_city = np.load(\"City_Madrid_teams.npy\")\n",
    "players_X_city = np.load(\"City_Madrid_players.npy\")\n",
    "matches_X_city = np.expand_dims(matches_X_city, axis=0)\n",
    "matches_X_city = np.reshape(matches_X_city, (matches_X_city.shape[0], matches_X_city.shape[1]*matches_X_city.shape[2], 1))\n",
    "players_X_city = np.expand_dims(players_X_city, axis=0)\n",
    "players_X_city = np.reshape(players_X_city, (players_X_city.shape[0], players_X_city.shape[1]*players_X_city.shape[2]*players_X_city.shape[3], 1))"
   ]
  },
  {
   "cell_type": "code",
   "execution_count": 0,
   "metadata": {
    "colab": {},
    "colab_type": "code",
    "id": "kPkaue-5j7tO"
   },
   "outputs": [],
   "source": [
    "#pred_city = model.predict(x=[matches_X_city, players_X_city])\n",
    "pred_city_match = autoencoder_matches.predict(matches_X_city)\n",
    "pred_city_players = autoencoder_players.predict(players_X_city)"
   ]
  },
  {
   "cell_type": "code",
   "execution_count": 0,
   "metadata": {
    "colab": {},
    "colab_type": "code",
    "id": "U2MNWn4ekBsG"
   },
   "outputs": [],
   "source": [
    "matches_X_juve = np.load(\"Juventus_Lyon_teams.npy\")\n",
    "players_X_juve = np.load(\"Juventus_Lyon_players.npy\")\n",
    "matches_X_juve = np.expand_dims(matches_X_juve, axis=0)\n",
    "matches_X_juve = np.reshape(matches_X_juve, (matches_X_juve.shape[0], matches_X_juve.shape[1]*matches_X_juve.shape[2], 1))\n",
    "players_X_juve = np.expand_dims(players_X_juve, axis=0)\n",
    "players_X_juve = np.reshape(players_X_juve, (players_X_juve.shape[0], players_X_juve.shape[1]*players_X_juve.shape[2]*players_X_juve.shape[3], 1))"
   ]
  },
  {
   "cell_type": "code",
   "execution_count": 0,
   "metadata": {
    "colab": {},
    "colab_type": "code",
    "id": "yk-EpDk-kUyg"
   },
   "outputs": [],
   "source": [
    "#pred_juve = model.predict(x=[matches_X_juve, players_X_juve])\n",
    "pred_juve_match = autoencoder_matches.predict(matches_X_juve)\n",
    "pred_juve_players = autoencoder_players.predict(players_X_juve)"
   ]
  },
  {
   "cell_type": "code",
   "execution_count": 0,
   "metadata": {
    "colab": {
     "base_uri": "https://localhost:8080/",
     "height": 34
    },
    "colab_type": "code",
    "id": "vPeGDuC0-poV",
    "outputId": "dc21765b-301d-484e-cf30-e71f0c0ae16d"
   },
   "outputs": [
    {
     "data": {
      "text/plain": [
       "((4, 124), (4, 360))"
      ]
     },
     "execution_count": 331,
     "metadata": {
      "tags": []
     },
     "output_type": "execute_result"
    }
   ],
   "source": [
    "pred_all_matches = np.vstack((pred_barca_match,pred_bayern_match,pred_city_match,pred_juve_match))\n",
    "pred_all_players = np.vstack((pred_barca_players,pred_bayern_players,pred_city_players,pred_juve_players))\n",
    "pred_all_matches.shape,pred_all_players.shape"
   ]
  },
  {
   "cell_type": "markdown",
   "metadata": {
    "colab_type": "text",
    "id": "x_8Xd4RAWP2Z"
   },
   "source": [
    "# Autoencoder prediction test"
   ]
  },
  {
   "cell_type": "markdown",
   "metadata": {
    "colab_type": "text",
    "id": "JtUYH0VDCl-8"
   },
   "source": [
    "## Loading complete CSVs"
   ]
  },
  {
   "cell_type": "code",
   "execution_count": 0,
   "metadata": {
    "colab": {
     "base_uri": "https://localhost:8080/",
     "height": 224
    },
    "colab_type": "code",
    "id": "miFXw2EFKsP0",
    "outputId": "ae3dd85b-d9a5-438f-9c58-ce6535d94498"
   },
   "outputs": [
    {
     "name": "stdout",
     "output_type": "stream",
     "text": [
      "--2020-06-09 13:54:10--  https://raw.githubusercontent.com/ashwinvaswani/whatif/master/Data/match_info_merged.csv?token=AFQLSH25YZ26AGJ7YERX42K64OB2W\n",
      "Resolving raw.githubusercontent.com (raw.githubusercontent.com)... 151.101.0.133, 151.101.64.133, 151.101.128.133, ...\n",
      "Connecting to raw.githubusercontent.com (raw.githubusercontent.com)|151.101.0.133|:443... connected.\n",
      "HTTP request sent, awaiting response... 200 OK\n",
      "Length: 51672 (50K) [text/plain]\n",
      "Saving to: ‘match_info_merged.csv?token=AFQLSH25YZ26AGJ7YERX42K64OB2W’\n",
      "\n",
      "match_info_merged.c 100%[===================>]  50.46K  --.-KB/s    in 0.03s   \n",
      "\n",
      "2020-06-09 13:54:11 (1.96 MB/s) - ‘match_info_merged.csv?token=AFQLSH25YZ26AGJ7YERX42K64OB2W’ saved [51672/51672]\n",
      "\n"
     ]
    }
   ],
   "source": [
    "!wget https://raw.githubusercontent.com/ashwinvaswani/whatif/master/Data/match_info_merged.csv?token=AFQLSH25YZ26AGJ7YERX42K64OB2W"
   ]
  },
  {
   "cell_type": "code",
   "execution_count": 0,
   "metadata": {
    "colab": {
     "base_uri": "https://localhost:8080/",
     "height": 224
    },
    "colab_type": "code",
    "id": "2H3lUDV_Kt5u",
    "outputId": "8064ff04-bfff-48c8-fe42-3fb40b84e701"
   },
   "outputs": [
    {
     "name": "stdout",
     "output_type": "stream",
     "text": [
      "--2020-06-09 13:54:14--  https://raw.githubusercontent.com/ashwinvaswani/whatif/master/Data/player_info_merged.csv?token=AFQLSH7MUPSHOSUGPZ73X5S64OB6S\n",
      "Resolving raw.githubusercontent.com (raw.githubusercontent.com)... 151.101.0.133, 151.101.64.133, 151.101.128.133, ...\n",
      "Connecting to raw.githubusercontent.com (raw.githubusercontent.com)|151.101.0.133|:443... connected.\n",
      "HTTP request sent, awaiting response... 200 OK\n",
      "Length: 226664 (221K) [text/plain]\n",
      "Saving to: ‘player_info_merged.csv?token=AFQLSH7MUPSHOSUGPZ73X5S64OB6S’\n",
      "\n",
      "\r",
      "          player_in   0%[                    ]       0  --.-KB/s               \r",
      "player_info_merged. 100%[===================>] 221.35K  --.-KB/s    in 0.05s   \n",
      "\n",
      "2020-06-09 13:54:15 (4.00 MB/s) - ‘player_info_merged.csv?token=AFQLSH7MUPSHOSUGPZ73X5S64OB6S’ saved [226664/226664]\n",
      "\n"
     ]
    }
   ],
   "source": [
    "!wget https://raw.githubusercontent.com/ashwinvaswani/whatif/master/Data/player_info_merged.csv?token=AFQLSH7MUPSHOSUGPZ73X5S64OB6S"
   ]
  },
  {
   "cell_type": "code",
   "execution_count": 0,
   "metadata": {
    "colab": {},
    "colab_type": "code",
    "id": "h-DPjLttkd3M"
   },
   "outputs": [],
   "source": [
    "import pandas as pd\n",
    "player_csv = pd.read_csv(\"player_info_merged.csv?token=AFQLSH7MUPSHOSUGPZ73X5S64OB6S\")\n",
    "team_csv = pd.read_csv(\"match_info_merged.csv?token=AFQLSH25YZ26AGJ7YERX42K64OB2W\")"
   ]
  },
  {
   "cell_type": "markdown",
   "metadata": {
    "colab_type": "text",
    "id": "r3f-pPkmCryQ"
   },
   "source": [
    "## Prediction results"
   ]
  },
  {
   "cell_type": "code",
   "execution_count": 0,
   "metadata": {
    "colab": {},
    "colab_type": "code",
    "id": "amQzo8nUcRdC"
   },
   "outputs": [],
   "source": [
    "val_pred_matches = autoencoder_matches.predict(noisy_val_match_x)\n",
    "val_pred_players = autoencoder_players.predict(noisy_val_player_x)"
   ]
  },
  {
   "cell_type": "code",
   "execution_count": 0,
   "metadata": {
    "colab": {},
    "colab_type": "code",
    "id": "rcCLHwLPkla8"
   },
   "outputs": [],
   "source": [
    "def denorm(val, maxim, minim):\n",
    "    f = val*(maxim-minim) +minim\n",
    "    return f"
   ]
  },
  {
   "cell_type": "code",
   "execution_count": 0,
   "metadata": {
    "colab": {},
    "colab_type": "code",
    "id": "9v6LdTTB13R0"
   },
   "outputs": [],
   "source": [
    "def auto_pl_denorm(arr,pl_csv,is_deep=False):\n",
    "    goals_max = pl_csv[\"Goals scored\"].max()\n",
    "    goals_min = pl_csv[\"Goals scored\"].min()\n",
    "    assists_max = pl_csv[\"Assists\"].max()\n",
    "    assists_min = pl_csv[\"Assists\"].min()\n",
    "    fouls_max = pl_csv[\"Fouls committed\"].max()\n",
    "    fouls_min = pl_csv[\"Fouls committed\"].min()\n",
    "    total_shots_max = pl_csv[\"Total shots\"].max()\n",
    "    total_shots_min = pl_csv[\"Total shots\"].min()\n",
    "    shots_target_max = pl_csv[\"Shots on Target\"].max()\n",
    "    shots_target_min = pl_csv[\"Shots on Target\"].min()\n",
    "    interceptions_max = pl_csv[\"Interceptions\"].max()\n",
    "    interceptions_min = pl_csv[\"Interceptions\"].min()\n",
    "    crosses_max = pl_csv[\"Crosses\"].max()\n",
    "    crosses_min = pl_csv[\"Crosses\"].min()\n",
    "    time_played_max = pl_csv[\"Time Played\"].max()\n",
    "    time_played_min = pl_csv[\"Time Played\"].min()\n",
    "    #print(goals_max,goals_min,total_shots_max,total_shots_min,time_played_max,time_played_min)\n",
    "    goals = []\n",
    "    total_shots = []\n",
    "    shots_target=[]\n",
    "    assists=[]\n",
    "    fouls=[]\n",
    "    interceptions=[]\n",
    "    crosses=[]\n",
    "    time = []\n",
    "    if is_deep:\n",
    "      for i in np.arange(0,360,10):\n",
    "        if arr[i] > 0:\n",
    "          print(arr[i])\n",
    "        goals.append(denorm(arr[i],goals_max,goals_min))\n",
    "        total_shots.append(denorm(arr[i+1],total_shots_max,total_shots_min))\n",
    "        shots_target.append(denorm(arr[i+2],shots_target_max,shots_target_min))\n",
    "        assists.append(denorm(arr[i+3],assists_max,assists_min))\n",
    "        fouls.append(denorm(arr[i+6],fouls_max,fouls_min))\n",
    "        interceptions.append(denorm(arr[i+4],interceptions_max,interceptions_min))\n",
    "        crosses.append(denorm(arr[i+5],crosses_max,crosses_min))\n",
    "        time.append(denorm(arr[i+8],time_played_max,time_played_min))\n",
    "    \n",
    "    \n",
    "    else:\n",
    "      for i in np.arange(0,360,10):\n",
    "        if arr[i][0] > 0:\n",
    "          print(arr[i][0])\n",
    "        goals.append(denorm(arr[i][0],goals_max,goals_min))\n",
    "        total_shots.append(denorm(arr[i+1][0],total_shots_max,total_shots_min))\n",
    "        shots_target.append(denorm(arr[i+2][0],shots_target_max,shots_target_min))\n",
    "        assists.append(denorm(arr[i+3][0],assists_max,assists_min))\n",
    "        fouls.append(denorm(arr[i+6][0],fouls_max,fouls_min))\n",
    "        interceptions.append(denorm(arr[i+4][0],interceptions_max,interceptions_min))\n",
    "        crosses.append(denorm(arr[i+5][0],crosses_max,crosses_min))\n",
    "        time.append(denorm(arr[i+8][0],time_played_max,time_played_min))\n",
    "\n",
    "    return goals,total_shots,shots_target,assists,fouls,interceptions,crosses,time\n",
    "  \n",
    "def auto_mat_denorm(arr,match_csv,is_deep=False):\n",
    "    Goals_max = match_csv[\"Goals\"].max()\n",
    "    Goals_min = match_csv[\"Goals\"].min()    \n",
    "    Block_max = match_csv[\"Blocks\"].max()\n",
    "    Block_min = match_csv[\"Blocks\"].min()\n",
    "    Possession_max = match_csv[\"Possession\"].max()\n",
    "    Possession_min = match_csv[\"Possession\"].min()\n",
    "    Passes_max = match_csv[\"Passes\"].max()\n",
    "    Passes_min = match_csv[\"Passes\"].min()\n",
    "    passing_acc_max = match_csv[\"Passing Accuracy\"].max()\n",
    "    passing_acc_min = match_csv[\"Passing Accuracy\"].min()\n",
    "    corners_max = match_csv[\"Corners\"].max()\n",
    "    corners_min = match_csv[\"Corners\"].min()\n",
    "    #print(Block_max,Block_min,Possession_max,Possession_min,Passes_max,Passes_min,passing_acc_max,passing_acc_min,corners_max,corners_min)\n",
    "    if is_deep:\n",
    "      print(\"goals pred:\",arr[0],arr[0+23])\n",
    "      print(\"Shotarget pred:\",arr[2],arr[2+23])\n",
    "      goals = [denorm(arr[0],Goals_max,Goals_min),denorm(arr[0+23],Goals_max,Goals_min)]\n",
    "      blocks = [denorm(arr[4],Block_max,Block_min),denorm(arr[4+23],Block_max,Block_min)]\n",
    "      poss = [denorm(arr[8],Possession_max,Possession_min),denorm(arr[8+23],Possession_max,Possession_min)]\n",
    "      passes = [denorm(arr[9],Passes_max,Passes_min),denorm(arr[9+23],Passes_max,Passes_min)]\n",
    "      pass_acc = [denorm(arr[10],passing_acc_max,passing_acc_min),denorm(arr[10+23],passing_acc_max,passing_acc_min)]\n",
    "      corners = [denorm(arr[6],corners_max,corners_min),denorm(arr[6+23],corners_max,corners_min)]\n",
    "    else:\n",
    "      print(\"goals pred:\",arr[0][0],arr[0+23][0])\n",
    "      print(\"Shotarget pred:\",arr[2][0],arr[2+23][0])\n",
    "      goals = [denorm(arr[0][0],Goals_max,Goals_min),denorm(arr[0+23][0],Goals_max,Goals_min)]\n",
    "      blocks = [denorm(arr[4][0],Block_max,Block_min),denorm(arr[4+23][0],Block_max,Block_min)]\n",
    "      poss = [denorm(arr[8][0],Possession_max,Possession_min),denorm(arr[8+23][0],Possession_max,Possession_min)]\n",
    "      passes = [denorm(arr[9][0],Passes_max,Passes_min),denorm(arr[9+23][0],Passes_max,Passes_min)]\n",
    "      pass_acc = [denorm(arr[10][0],passing_acc_max,passing_acc_min),denorm(arr[10+23][0],passing_acc_max,passing_acc_min)]\n",
    "      corners = [denorm(arr[6][0],corners_max,corners_min),denorm(arr[6+23][0],corners_max,corners_min)]\n",
    "\n",
    "    return goals,blocks,poss,passes,pass_acc,corners\n",
    "\n",
    "  # teams = [\"Barca\",\"Napoli\",\"Bayern\",\"Chelsea\",\"City\",\"Madrid\",\"Juventus\",\"Lyon\"]\n",
    "  # teams_q = [\"Atlético\",\"Juventus\",\"Bayern\",\"Atalanta\",\"Leipzig\",\"Barca\",\"City\",\"Paris\"]\n",
    "  # teams_q2 = [\"Juventus\",\"Atlético\",\"Atalanta\",\"Bayern\",\"Barca\",\"Leipzig\",\"Paris\",\"City\",]\n",
    "  # teams_s1 = [\"Barca\",\"Atalanta\",\"Juventus\",\"Paris\"]\n",
    "  # teams_s2 = [\"Atalanta\",\"Barca\",\"Paris\",\"Juventus\"]\n",
    "  # teams_finals = [\"Juventus\",\"Atalanta\"]\n",
    "  \n",
    "def fixture_prediction(pred_all_matches,pred_all_players,teams,player_teams,team_csv,player_csv,csv_file_name): \n",
    "    goals_match = []\n",
    "    blocks = []\n",
    "    poss = []\n",
    "    passes = []\n",
    "    pass_acc = []\n",
    "    corners = []\n",
    "\n",
    "    for p in pred_all_matches:\n",
    "      g,b,po,pa,pacc,cor = auto_mat_denorm(p,team_csv,is_deep=1)\n",
    "      goals_match.extend(g)\n",
    "      blocks.extend(b)\n",
    "      poss.extend(po)\n",
    "      passes.extend(pa)\n",
    "      pass_acc.extend(pacc)\n",
    "      corners.extend(cor)\n",
    "\n",
    "    goals = []\n",
    "    total_shots = []\n",
    "    shots_target=[]\n",
    "    assists=[]\n",
    "    fouls=[]\n",
    "    interceptions=[]\n",
    "    crosses=[]\n",
    "    time = []\n",
    "    players = []\n",
    "\n",
    "    for i in range(18):\n",
    "      players.append(\"Player {}\".format(i+1))\n",
    "    players = players*8\n",
    "    players = players[:len(player_teams)]\n",
    "    #players_finals = players[:36]\n",
    "    # players_teams = ['Barca']*18+['Napoli']*18+['Bayern']*18+['Chelsea']*18+['City']*18+['Madrid']*18+['Juventus']*18+['Lyon']*18\n",
    "    # players_teams_q = ['Atlético']*18+['Juventus']*18+['Bayern']*18+['Atalanta']*18+['Leipzig']*18+['Barca']*18+['City']*18+['Paris']*18\n",
    "    # players_teams_q2 = ['Juventus']*18+['Atlético']*18+['Atalanta']*18+['Bayern']*18+['Barca']*18+['Leipzig']*18+['Paris']*18+['City']*18\n",
    "    # players_teams_s1 = ['Barca']*18+['Atalanta']*18+['Juventus']*18+['Paris']*18\n",
    "    # players_teams_s2 = ['Atalanta']*18+['Barca']*18+['Paris']*18+['Juventus']*18\n",
    "    # players_teams_finals = ['Juventus']*18+['Atalanta']*18\n",
    "\n",
    "    for m in pred_all_players:\n",
    "      g,t,tar,ass,f,intr,crs,ti = auto_pl_denorm(m,player_csv,is_deep=1)\n",
    "      goals.extend(g)\n",
    "      total_shots.extend(t)\n",
    "      shots_target.extend(tar)\n",
    "      assists.extend(ass)\n",
    "      fouls.extend(f)\n",
    "      interceptions.extend(intr)\n",
    "      crosses.extend(crs)\n",
    "      time.extend(ti)\n",
    "\n",
    "    matches_auto_df = pd.DataFrame(columns=[\"Teams\",\"Goals\",\"Blocks\",\"Possession\",\"Passes\",\"Passing Accuracy\",\"Corners\"])\n",
    "    matches_auto_df[\"Teams\"] = teams\n",
    "    matches_auto_df[\"Goals\"] = [round(g) for g in goals_match]\n",
    "    matches_auto_df[\"Blocks\"] = [round(g) for g in blocks]\n",
    "    matches_auto_df[\"Possession\"] = [round(g) for g in poss]\n",
    "    matches_auto_df[\"Passes\"] = [round(g) for g in passes]\n",
    "    matches_auto_df[\"Passing Accuracy\"] = [round(g) for g in pass_acc]\n",
    "    matches_auto_df[\"Corners\"] = [round(g) for g in corners]\n",
    "\n",
    "    #print(matches_auto_df)\n",
    "\n",
    "    players_auto_df = pd.DataFrame(columns=[\"Player\",\"Team\",\"Goals\",\"Shots\",\"Shots_Target\",\"Assists\",\"Fouls\",\"Interceptions\",\"Crosses\",\"Time\"])\n",
    "    players_auto_df[\"Player\"] = players\n",
    "    players_auto_df[\"Team\"] = player_teams\n",
    "    players_auto_df[\"Goals\"] = goals\n",
    "    players_auto_df[\"Shots\"] = total_shots\n",
    "    players_auto_df[\"Shots_Target\"] = shots_target\n",
    "    players_auto_df[\"Assists\"] = assists\n",
    "    players_auto_df[\"Fouls\"] = fouls\n",
    "    players_auto_df[\"Interceptions\"] = interceptions\n",
    "    players_auto_df[\"Crosses\"] = crosses\n",
    "    players_auto_df[\"Time\"] = time\n",
    "\n",
    "    print(players_auto_df.head())\n",
    "\n",
    "    matches_auto_df.to_csv(\"CSV/matches_\"+csv_file_name+\".csv\",index=False)\n",
    "    players_auto_df.to_csv(\"CSV/players_\"+csv_file_name+\".csv\",index=False)\n",
    "    print(\"CSVs saved...\")\n",
    "    \n",
    "    return matches_auto_df\n"
   ]
  },
  {
   "cell_type": "code",
   "execution_count": 0,
   "metadata": {
    "colab": {
     "base_uri": "https://localhost:8080/",
     "height": 451
    },
    "colab_type": "code",
    "id": "ypbeIyYmKeRk",
    "outputId": "a8a1fd76-e957-40ef-a500-9ab3ef21caa3"
   },
   "outputs": [
    {
     "name": "stdout",
     "output_type": "stream",
     "text": [
      "['Bayern', 'Atalanta']\n",
      "(1, 46) (1, 360)\n",
      "(1, 46) (1, 360)\n",
      "goals pred: 0.2706793 0.46206635\n",
      "Shotarget pred: 0.46923137 0.5410193\n",
      "0.10041359\n",
      "0.036299217\n",
      "0.027803883\n",
      "0.057226144\n",
      "0.11919099\n",
      "0.016827028\n",
      "     Player    Team     Goals  ...  Interceptions   Crosses       Time\n",
      "0  Player 1  Bayern  0.000000  ...       0.000000  0.000000  59.453062\n",
      "1  Player 2  Bayern  0.000000  ...       0.631731  0.000000  60.821036\n",
      "2  Player 3  Bayern  0.000000  ...       1.570489  0.000000  57.952769\n",
      "3  Player 4  Bayern  0.401654  ...       0.990904  0.074684  74.252865\n",
      "4  Player 5  Bayern  0.145197  ...       0.811284  1.336748  81.567256\n",
      "\n",
      "[5 rows x 10 columns]\n",
      "CSVs saved...\n"
     ]
    },
    {
     "data": {
      "text/html": [
       "<div>\n",
       "<style scoped>\n",
       "    .dataframe tbody tr th:only-of-type {\n",
       "        vertical-align: middle;\n",
       "    }\n",
       "\n",
       "    .dataframe tbody tr th {\n",
       "        vertical-align: top;\n",
       "    }\n",
       "\n",
       "    .dataframe thead th {\n",
       "        text-align: right;\n",
       "    }\n",
       "</style>\n",
       "<table border=\"1\" class=\"dataframe\">\n",
       "  <thead>\n",
       "    <tr style=\"text-align: right;\">\n",
       "      <th></th>\n",
       "      <th>Teams</th>\n",
       "      <th>Goals</th>\n",
       "      <th>Blocks</th>\n",
       "      <th>Possession</th>\n",
       "      <th>Passes</th>\n",
       "      <th>Passing Accuracy</th>\n",
       "      <th>Corners</th>\n",
       "    </tr>\n",
       "  </thead>\n",
       "  <tbody>\n",
       "    <tr>\n",
       "      <th>0</th>\n",
       "      <td>Bayern</td>\n",
       "      <td>2.0</td>\n",
       "      <td>4.0</td>\n",
       "      <td>58.0</td>\n",
       "      <td>612.0</td>\n",
       "      <td>92.0</td>\n",
       "      <td>7.0</td>\n",
       "    </tr>\n",
       "    <tr>\n",
       "      <th>1</th>\n",
       "      <td>Atalanta</td>\n",
       "      <td>3.0</td>\n",
       "      <td>3.0</td>\n",
       "      <td>45.0</td>\n",
       "      <td>446.0</td>\n",
       "      <td>84.0</td>\n",
       "      <td>5.0</td>\n",
       "    </tr>\n",
       "  </tbody>\n",
       "</table>\n",
       "</div>"
      ],
      "text/plain": [
       "      Teams  Goals  Blocks  Possession  Passes  Passing Accuracy  Corners\n",
       "0    Bayern    2.0     4.0        58.0   612.0              92.0      7.0\n",
       "1  Atalanta    3.0     3.0        45.0   446.0              84.0      5.0"
      ]
     },
     "execution_count": 56,
     "metadata": {
      "tags": []
     },
     "output_type": "execute_result"
    }
   ],
   "source": [
    "fixtures = [(\"Bayern_Atalanta_teams.npy\",\"Bayern_Atalanta_players.npy\")\n",
    "            ]\n",
    "\n",
    "pred_all_matches,pred_all_players,teams,player_teams = test_pred(fixtures,autoencoder_matches,autoencoder_players)\n",
    "fixture_prediction(pred_all_matches,pred_all_players,teams,player_teams,team_csv,player_csv,\"final\")"
   ]
  },
  {
   "cell_type": "markdown",
   "metadata": {
    "colab_type": "text",
    "id": "JYRf609d5O8O"
   },
   "source": [
    "# Denorm Validation Original"
   ]
  },
  {
   "cell_type": "code",
   "execution_count": 0,
   "metadata": {
    "colab": {},
    "colab_type": "code",
    "id": "S6Y5Y-sbCYKo"
   },
   "outputs": [],
   "source": [
    "blocks_home = []\n",
    "blocks_away = []\n",
    "poss = []\n",
    "pass_home = []\n",
    "pass_away = []\n",
    "pass_acc_home = []\n",
    "pass_acc_away = []\n",
    "corners_home = []\n",
    "corners_away = []\n",
    "#\"Possession\",\"Passes Home\",\"Passes Away\", \"Passing Accuracy Home\", \"Passing Accuracy Away\",\"Corners Home\", \"Corners Away\"\n",
    "for val in pred:\n",
    "  val = np.reshape(val,(1,val.shape[0]))\n",
    "  denorm_match,denorm_player = return_denormed(val,player_csv,team_csv)\n",
    "  blocks_home.append(denorm_match[0][0])\n",
    "  blocks_away.append(denorm_match[0][1])\n",
    "  poss.append(denorm_match[0][2])\n",
    "  pass_home.append(denorm_match[0][3])\n",
    "  pass_away.append(denorm_match[0][4])\n",
    "  pass_acc_home.append(denorm_match[0][5])\n",
    "  pass_acc_away.append(denorm_match[0][6])\n",
    "  corners_home.append(denorm_match[0][7])\n",
    "  corners_away.append(denorm_match[0][8])"
   ]
  },
  {
   "cell_type": "code",
   "execution_count": 0,
   "metadata": {
    "colab": {},
    "colab_type": "code",
    "id": "gncsPQ6HCYH7"
   },
   "outputs": [],
   "source": [
    "val_matches_df = pd.DataFrame(columns = [\"Blocks Home\", \"Blocks Away\", \"Possession\",\n",
    "                                         \"Passes Home\",\"Passes Away\", \"Passing Accuracy Home\",\n",
    "                                         \"Passing Accuracy Away\",\"Corners Home\", \"Corners Away\"])\n",
    "val_matches_df[\"Blocks Home\"] = blocks_home\n",
    "val_matches_df[\"Blocks Away\"] = blocks_away\n",
    "val_matches_df[\"Possession\"] = poss\n",
    "val_matches_df[\"Passes Home\"] = pass_home\n",
    "val_matches_df[\"Passes Away\"] = pass_away\n",
    "val_matches_df[\"Passing Accuracy Home\"] = pass_acc_home\n",
    "val_matches_df[\"Passing Accuracy Away\"] = pass_acc_away\n",
    "val_matches_df[\"Corners Home\"] = corners_home\n",
    "val_matches_df[\"Corners Away\"] = corners_away"
   ]
  },
  {
   "cell_type": "code",
   "execution_count": 0,
   "metadata": {
    "colab": {
     "base_uri": "https://localhost:8080/",
     "height": 204
    },
    "colab_type": "code",
    "id": "mAnT02FRCYFY",
    "outputId": "52487f6e-df2e-4a61-aa1f-ee5560ab8e4e"
   },
   "outputs": [
    {
     "data": {
      "text/html": [
       "<div>\n",
       "<style scoped>\n",
       "    .dataframe tbody tr th:only-of-type {\n",
       "        vertical-align: middle;\n",
       "    }\n",
       "\n",
       "    .dataframe tbody tr th {\n",
       "        vertical-align: top;\n",
       "    }\n",
       "\n",
       "    .dataframe thead th {\n",
       "        text-align: right;\n",
       "    }\n",
       "</style>\n",
       "<table border=\"1\" class=\"dataframe\">\n",
       "  <thead>\n",
       "    <tr style=\"text-align: right;\">\n",
       "      <th></th>\n",
       "      <th>Blocks Home</th>\n",
       "      <th>Blocks Away</th>\n",
       "      <th>Possession</th>\n",
       "      <th>Passes Home</th>\n",
       "      <th>Passes Away</th>\n",
       "      <th>Passing Accuracy Home</th>\n",
       "      <th>Passing Accuracy Away</th>\n",
       "      <th>Corners Home</th>\n",
       "      <th>Corners Away</th>\n",
       "    </tr>\n",
       "  </thead>\n",
       "  <tbody>\n",
       "    <tr>\n",
       "      <th>0</th>\n",
       "      <td>2.758388</td>\n",
       "      <td>3.401162</td>\n",
       "      <td>49.243153</td>\n",
       "      <td>476.520599</td>\n",
       "      <td>498.531264</td>\n",
       "      <td>83.328362</td>\n",
       "      <td>83.597319</td>\n",
       "      <td>4.733133</td>\n",
       "      <td>4.778216</td>\n",
       "    </tr>\n",
       "    <tr>\n",
       "      <th>1</th>\n",
       "      <td>3.012884</td>\n",
       "      <td>3.312162</td>\n",
       "      <td>49.465730</td>\n",
       "      <td>474.242857</td>\n",
       "      <td>525.806655</td>\n",
       "      <td>83.479425</td>\n",
       "      <td>84.512349</td>\n",
       "      <td>4.807790</td>\n",
       "      <td>4.782295</td>\n",
       "    </tr>\n",
       "    <tr>\n",
       "      <th>2</th>\n",
       "      <td>2.847533</td>\n",
       "      <td>3.766728</td>\n",
       "      <td>49.704665</td>\n",
       "      <td>532.963924</td>\n",
       "      <td>457.313121</td>\n",
       "      <td>84.941652</td>\n",
       "      <td>82.969168</td>\n",
       "      <td>5.752123</td>\n",
       "      <td>5.863378</td>\n",
       "    </tr>\n",
       "    <tr>\n",
       "      <th>3</th>\n",
       "      <td>3.038331</td>\n",
       "      <td>3.315956</td>\n",
       "      <td>49.850042</td>\n",
       "      <td>475.347425</td>\n",
       "      <td>532.872027</td>\n",
       "      <td>83.688719</td>\n",
       "      <td>84.762113</td>\n",
       "      <td>4.856563</td>\n",
       "      <td>4.820636</td>\n",
       "    </tr>\n",
       "    <tr>\n",
       "      <th>4</th>\n",
       "      <td>2.880126</td>\n",
       "      <td>3.391312</td>\n",
       "      <td>49.619422</td>\n",
       "      <td>478.835155</td>\n",
       "      <td>514.401774</td>\n",
       "      <td>83.651205</td>\n",
       "      <td>84.085025</td>\n",
       "      <td>4.887405</td>\n",
       "      <td>4.859749</td>\n",
       "    </tr>\n",
       "  </tbody>\n",
       "</table>\n",
       "</div>"
      ],
      "text/plain": [
       "   Blocks Home  Blocks Away  ...  Corners Home  Corners Away\n",
       "0     2.758388     3.401162  ...      4.733133      4.778216\n",
       "1     3.012884     3.312162  ...      4.807790      4.782295\n",
       "2     2.847533     3.766728  ...      5.752123      5.863378\n",
       "3     3.038331     3.315956  ...      4.856563      4.820636\n",
       "4     2.880126     3.391312  ...      4.887405      4.859749\n",
       "\n",
       "[5 rows x 9 columns]"
      ]
     },
     "execution_count": 129,
     "metadata": {
      "tags": []
     },
     "output_type": "execute_result"
    }
   ],
   "source": [
    "val_matches_df.head()"
   ]
  },
  {
   "cell_type": "code",
   "execution_count": 0,
   "metadata": {
    "colab": {
     "base_uri": "https://localhost:8080/",
     "height": 204
    },
    "colab_type": "code",
    "id": "4dsC-YjLSLG2",
    "outputId": "3f9c0efb-26d3-4e67-c758-d6792106dcba"
   },
   "outputs": [
    {
     "data": {
      "text/html": [
       "<div>\n",
       "<style scoped>\n",
       "    .dataframe tbody tr th:only-of-type {\n",
       "        vertical-align: middle;\n",
       "    }\n",
       "\n",
       "    .dataframe tbody tr th {\n",
       "        vertical-align: top;\n",
       "    }\n",
       "\n",
       "    .dataframe thead th {\n",
       "        text-align: right;\n",
       "    }\n",
       "</style>\n",
       "<table border=\"1\" class=\"dataframe\">\n",
       "  <thead>\n",
       "    <tr style=\"text-align: right;\">\n",
       "      <th></th>\n",
       "      <th>Blocks Home</th>\n",
       "      <th>Blocks Away</th>\n",
       "      <th>Possession</th>\n",
       "      <th>Passes Home</th>\n",
       "      <th>Passes Away</th>\n",
       "      <th>Passing Accuracy Home</th>\n",
       "      <th>Passing Accuracy Away</th>\n",
       "      <th>Corners Home</th>\n",
       "      <th>Corners Away</th>\n",
       "    </tr>\n",
       "  </thead>\n",
       "  <tbody>\n",
       "    <tr>\n",
       "      <th>0</th>\n",
       "      <td>2.0</td>\n",
       "      <td>1.0</td>\n",
       "      <td>54.0</td>\n",
       "      <td>430.0</td>\n",
       "      <td>818.0</td>\n",
       "      <td>85.000000</td>\n",
       "      <td>91.000000</td>\n",
       "      <td>2.0</td>\n",
       "      <td>2.0</td>\n",
       "    </tr>\n",
       "    <tr>\n",
       "      <th>1</th>\n",
       "      <td>5.0</td>\n",
       "      <td>2.0</td>\n",
       "      <td>47.0</td>\n",
       "      <td>665.0</td>\n",
       "      <td>287.0</td>\n",
       "      <td>88.872180</td>\n",
       "      <td>76.306620</td>\n",
       "      <td>5.0</td>\n",
       "      <td>5.0</td>\n",
       "    </tr>\n",
       "    <tr>\n",
       "      <th>2</th>\n",
       "      <td>3.0</td>\n",
       "      <td>3.0</td>\n",
       "      <td>61.0</td>\n",
       "      <td>809.0</td>\n",
       "      <td>415.0</td>\n",
       "      <td>92.336218</td>\n",
       "      <td>88.192771</td>\n",
       "      <td>8.0</td>\n",
       "      <td>8.0</td>\n",
       "    </tr>\n",
       "    <tr>\n",
       "      <th>3</th>\n",
       "      <td>3.0</td>\n",
       "      <td>0.0</td>\n",
       "      <td>68.0</td>\n",
       "      <td>416.0</td>\n",
       "      <td>730.0</td>\n",
       "      <td>82.000000</td>\n",
       "      <td>88.000000</td>\n",
       "      <td>3.0</td>\n",
       "      <td>5.0</td>\n",
       "    </tr>\n",
       "    <tr>\n",
       "      <th>4</th>\n",
       "      <td>3.0</td>\n",
       "      <td>0.0</td>\n",
       "      <td>36.0</td>\n",
       "      <td>423.0</td>\n",
       "      <td>577.0</td>\n",
       "      <td>84.397163</td>\n",
       "      <td>89.948007</td>\n",
       "      <td>5.0</td>\n",
       "      <td>5.0</td>\n",
       "    </tr>\n",
       "  </tbody>\n",
       "</table>\n",
       "</div>"
      ],
      "text/plain": [
       "   Blocks Home  Blocks Away  ...  Corners Home  Corners Away\n",
       "0          2.0          1.0  ...           2.0           2.0\n",
       "1          5.0          2.0  ...           5.0           5.0\n",
       "2          3.0          3.0  ...           8.0           8.0\n",
       "3          3.0          0.0  ...           3.0           5.0\n",
       "4          3.0          0.0  ...           5.0           5.0\n",
       "\n",
       "[5 rows x 9 columns]"
      ]
     },
     "execution_count": 58,
     "metadata": {
      "tags": []
     },
     "output_type": "execute_result"
    }
   ],
   "source": [
    "blocks_home = []\n",
    "blocks_away = []\n",
    "poss = []\n",
    "pass_home = []\n",
    "pass_away = []\n",
    "pass_acc_home = []\n",
    "pass_acc_away = []\n",
    "corners_home = []\n",
    "corners_away = []\n",
    "#\"Possession\",\"Passes Home\",\"Passes Away\", \"Passing Accuracy Home\", \"Passing Accuracy Away\",\"Corners Home\", \"Corners Away\"\n",
    "for val in Y_val:\n",
    "  val = np.reshape(val,(1,val.shape[0]))\n",
    "  denorm_match,denorm_player = return_denormed(val,player_csv,team_csv)\n",
    "  blocks_home.append(denorm_match[0][0])\n",
    "  blocks_away.append(denorm_match[0][1])\n",
    "  poss.append(denorm_match[0][2])\n",
    "  pass_home.append(denorm_match[0][3])\n",
    "  pass_away.append(denorm_match[0][4])\n",
    "  pass_acc_home.append(denorm_match[0][5])\n",
    "  pass_acc_away.append(denorm_match[0][6])\n",
    "  corners_home.append(denorm_match[0][7])\n",
    "  corners_away.append(denorm_match[0][8])\n",
    "\n",
    "val_matches_df = pd.DataFrame(columns = [\"Blocks Home\", \"Blocks Away\", \"Possession\",\n",
    "                                         \"Passes Home\",\"Passes Away\", \"Passing Accuracy Home\",\n",
    "                                         \"Passing Accuracy Away\",\"Corners Home\", \"Corners Away\"])\n",
    "val_matches_df[\"Blocks Home\"] = blocks_home\n",
    "val_matches_df[\"Blocks Away\"] = blocks_away\n",
    "val_matches_df[\"Possession\"] = poss\n",
    "val_matches_df[\"Passes Home\"] = pass_home\n",
    "val_matches_df[\"Passes Away\"] = pass_away\n",
    "val_matches_df[\"Passing Accuracy Home\"] = pass_acc_home\n",
    "val_matches_df[\"Passing Accuracy Away\"] = pass_acc_away\n",
    "val_matches_df[\"Corners Home\"] = corners_home\n",
    "val_matches_df[\"Corners Away\"] = corners_away\n",
    "\n",
    "val_matches_df.head()"
   ]
  },
  {
   "cell_type": "code",
   "execution_count": 0,
   "metadata": {
    "colab": {},
    "colab_type": "code",
    "id": "MIr6bRxNC-Yh"
   },
   "outputs": [],
   "source": [
    "val_matches_df.to_csv(\"val_matches.csv\",index=False)"
   ]
  },
  {
   "cell_type": "markdown",
   "metadata": {
    "colab_type": "text",
    "id": "b41hfAzJYIuf"
   },
   "source": [
    "# Denorm Function for original"
   ]
  },
  {
   "cell_type": "code",
   "execution_count": 0,
   "metadata": {
    "colab": {},
    "colab_type": "code",
    "id": "9OGEJPbGknIk"
   },
   "outputs": [],
   "source": [
    "def return_denormed(arr, pl_csv, match_csv):\n",
    "\n",
    "    Block_max = match_csv[\"Blocks\"].max()\n",
    "    Block_min = match_csv[\"Blocks\"].min()\n",
    "    Possession_max = match_csv[\"Possession\"].max()\n",
    "    Possession_min = match_csv[\"Possession\"].min()\n",
    "    Passes_max = match_csv[\"Passes\"].max()\n",
    "    Passes_min = match_csv[\"Passes\"].min()\n",
    "    passing_acc_max = match_csv[\"Passing Accuracy\"].max()\n",
    "    passing_acc_min = match_csv[\"Passing Accuracy\"].min()\n",
    "    corners_max = match_csv[\"Corners\"].max()\n",
    "    corners_min = match_csv[\"Corners\"].min()\n",
    "\n",
    "    goals_max = pl_csv[\"Goals scored\"].max()\n",
    "    goals_min = pl_csv[\"Goals scored\"].min()\n",
    "    assists_max = pl_csv[\"Assists\"].max()\n",
    "    assists_min = pl_csv[\"Assists\"].min()\n",
    "    fouls_max = pl_csv[\"Fouls committed\"].max()\n",
    "    fouls_min = pl_csv[\"Fouls committed\"].min()\n",
    "    total_shots_max = pl_csv[\"Total shots\"].max()\n",
    "    total_shots_min = pl_csv[\"Total shots\"].min()\n",
    "    shots_target_max = pl_csv[\"Shots on Target\"].max()\n",
    "    shots_target_min = pl_csv[\"Shots on Target\"].min()\n",
    "    interceptions_max = pl_csv[\"Interceptions\"].max()\n",
    "    interceptions_min = pl_csv[\"Interceptions\"].min()\n",
    "    crosses_max = pl_csv[\"Crosses\"].max()\n",
    "    crosses_min = pl_csv[\"Crosses\"].min()\n",
    "    time_played_max = pl_csv[\"Time Played\"].max()\n",
    "    time_played_min = pl_csv[\"Time Played\"].min()\n",
    "\n",
    "    y_unnormalized = []\n",
    "    y_unnormalized_individual = []\n",
    "    for e,i in enumerate(arr):\n",
    "        temp = []\n",
    "        temp.append(denorm(arr[e][0], Block_max, Block_min))\n",
    "        temp.append(denorm(arr[e][1], Block_max, Block_min))\n",
    "        temp.append(denorm(arr[e][2], Possession_max, Possession_min))\n",
    "        temp.append(denorm(arr[e][3], Passes_max, Passes_min))\n",
    "        temp.append(denorm(arr[e][4], Passes_max, Passes_min))\n",
    "        temp.append(denorm(arr[e][5], passing_acc_max, passing_acc_min))\n",
    "        temp.append(denorm(arr[e][6], passing_acc_max, passing_acc_min))\n",
    "        temp.append(denorm(arr[e][7], corners_max, corners_min))\n",
    "        temp.append(denorm(arr[e][8], corners_max, corners_min))\n",
    "        y_unnormalized.append(temp)\n",
    "\n",
    "        temp_players = []\n",
    "        for m in range(36):\n",
    "            temp_players.append(denorm(arr[e][m+9], goals_max, goals_min))\n",
    "            temp_players.append(denorm(arr[e][m+10], assists_max, assists_min))\n",
    "            temp_players.append(denorm(arr[e][m+11], fouls_max, fouls_min))\n",
    "            temp_players.append(denorm(arr[e][m+12], total_shots_max, total_shots_min))\n",
    "            temp_players.append(denorm(arr[e][m+13], shots_target_max, shots_target_min))\n",
    "            temp_players.append(denorm(arr[e][m+14], interceptions_max, interceptions_min))\n",
    "            temp_players.append(denorm(arr[e][m+15], crosses_max, crosses_min))\n",
    "            temp_players.append(denorm(arr[e][m+16], int(time_played_max), int(time_played_min)))\n",
    "\n",
    "        y_unnormalized_individual.append(temp_players)\n",
    "    return y_unnormalized, y_unnormalized_individual"
   ]
  },
  {
   "cell_type": "code",
   "execution_count": 0,
   "metadata": {
    "colab": {},
    "colab_type": "code",
    "id": "cCm9QoY5RFKL"
   },
   "outputs": [],
   "source": [
    "gt_norm, gt_pl_norm = return_denormed(Y,player_csv,team_csv)"
   ]
  },
  {
   "cell_type": "markdown",
   "metadata": {
    "colab_type": "text",
    "id": "LDdvgwXO6-7h"
   },
   "source": [
    "# Denorm Original Test"
   ]
  },
  {
   "cell_type": "code",
   "execution_count": 0,
   "metadata": {
    "colab": {},
    "colab_type": "code",
    "id": "OwEZKUX6mJqb"
   },
   "outputs": [],
   "source": [
    "barca_norm, barca_norm_pl = return_denormed(pred_barca, player_csv, team_csv)\n",
    "bayern_norm, bayern_norm_pl = return_denormed(pred_bayern, player_csv, team_csv)\n",
    "city_norm, city_norm_pl = return_denormed(pred_city, player_csv, team_csv)\n",
    "juve_norm, juve_norm_pl = return_denormed(pred_juve, player_csv, team_csv)"
   ]
  },
  {
   "cell_type": "code",
   "execution_count": 0,
   "metadata": {
    "colab": {},
    "colab_type": "code",
    "id": "Ic2YnbiQmLqK"
   },
   "outputs": [],
   "source": [
    "matches_df = pd.DataFrame(columns = [\"Game\", \"Blocks Home\", \"Blocks Away\", \"Possession\",\"Passes Home\",\"Passes Away\", \"Passing Accuracy Home\", \"Passing Accuracy Away\",\"Corners Home\", \"Corners Away\"])\n",
    "matches_df[\"Game\"] = [\"Barca vs Napoli\", \"Bayern vs Chelsea\",\"City vs Madrid\", \"Juventus vs Lyon\"]\n",
    "matches_df[\"Blocks Home\"] = [barca_norm[0][0], bayern_norm[0][0], city_norm[0][0], juve_norm[0][0]]\n",
    "matches_df[\"Blocks Away\"] = [barca_norm[0][1], bayern_norm[0][1], city_norm[0][1], juve_norm[0][1]]\n",
    "matches_df[\"Possession\"] = [barca_norm[0][2], bayern_norm[0][2], city_norm[0][2], juve_norm[0][2]]\n",
    "matches_df[\"Passes Home\"] = [barca_norm[0][3], bayern_norm[0][3], city_norm[0][3], juve_norm[0][3]]\n",
    "matches_df[\"Passes Away\"] = [barca_norm[0][4], bayern_norm[0][4], city_norm[0][4], juve_norm[0][4]]\n",
    "matches_df[\"Passing Accuracy Home\"] = [barca_norm[0][5], bayern_norm[0][5], city_norm[0][5], juve_norm[0][5]]\n",
    "matches_df[\"Passing Accuracy Away\"] = [barca_norm[0][6], bayern_norm[0][6], city_norm[0][6], juve_norm[0][6]]\n",
    "matches_df[\"Corners Home\"] = [barca_norm[0][7], bayern_norm[0][7], city_norm[0][7], juve_norm[0][7]]\n",
    "matches_df[\"Corners Away\"] = [barca_norm[0][8], bayern_norm[0][8], city_norm[0][8], juve_norm[0][8]]"
   ]
  },
  {
   "cell_type": "code",
   "execution_count": 0,
   "metadata": {
    "colab": {
     "base_uri": "https://localhost:8080/",
     "height": 207
    },
    "colab_type": "code",
    "id": "d2bwbdGbnDTd",
    "outputId": "d433aaf9-e9bd-4bf0-b5e5-65b90d3baec0"
   },
   "outputs": [
    {
     "data": {
      "text/html": [
       "<div>\n",
       "<style scoped>\n",
       "    .dataframe tbody tr th:only-of-type {\n",
       "        vertical-align: middle;\n",
       "    }\n",
       "\n",
       "    .dataframe tbody tr th {\n",
       "        vertical-align: top;\n",
       "    }\n",
       "\n",
       "    .dataframe thead th {\n",
       "        text-align: right;\n",
       "    }\n",
       "</style>\n",
       "<table border=\"1\" class=\"dataframe\">\n",
       "  <thead>\n",
       "    <tr style=\"text-align: right;\">\n",
       "      <th></th>\n",
       "      <th>Game</th>\n",
       "      <th>Blocks Home</th>\n",
       "      <th>Blocks Away</th>\n",
       "      <th>Possession</th>\n",
       "      <th>Passes Home</th>\n",
       "      <th>Passes Away</th>\n",
       "      <th>Passing Accuracy Home</th>\n",
       "      <th>Passing Accuracy Away</th>\n",
       "      <th>Corners Home</th>\n",
       "      <th>Corners Away</th>\n",
       "    </tr>\n",
       "  </thead>\n",
       "  <tbody>\n",
       "    <tr>\n",
       "      <th>0</th>\n",
       "      <td>Barca vs Napoli</td>\n",
       "      <td>2.951298</td>\n",
       "      <td>3.534071</td>\n",
       "      <td>50.096381</td>\n",
       "      <td>503.828333</td>\n",
       "      <td>502.575487</td>\n",
       "      <td>84.425804</td>\n",
       "      <td>84.037761</td>\n",
       "      <td>5.300258</td>\n",
       "      <td>5.333009</td>\n",
       "    </tr>\n",
       "    <tr>\n",
       "      <th>1</th>\n",
       "      <td>Bayern vs Chelsea</td>\n",
       "      <td>2.804998</td>\n",
       "      <td>3.708394</td>\n",
       "      <td>50.094860</td>\n",
       "      <td>534.382352</td>\n",
       "      <td>464.935013</td>\n",
       "      <td>85.083207</td>\n",
       "      <td>83.236974</td>\n",
       "      <td>5.737007</td>\n",
       "      <td>5.819698</td>\n",
       "    </tr>\n",
       "    <tr>\n",
       "      <th>2</th>\n",
       "      <td>City vs Madrid</td>\n",
       "      <td>2.968196</td>\n",
       "      <td>3.444929</td>\n",
       "      <td>49.794409</td>\n",
       "      <td>491.347806</td>\n",
       "      <td>511.007929</td>\n",
       "      <td>84.030613</td>\n",
       "      <td>84.083719</td>\n",
       "      <td>5.120891</td>\n",
       "      <td>5.123733</td>\n",
       "    </tr>\n",
       "    <tr>\n",
       "      <th>3</th>\n",
       "      <td>Juventus vs Lyon</td>\n",
       "      <td>2.944528</td>\n",
       "      <td>3.417252</td>\n",
       "      <td>49.852615</td>\n",
       "      <td>490.925876</td>\n",
       "      <td>510.002323</td>\n",
       "      <td>84.003403</td>\n",
       "      <td>84.195359</td>\n",
       "      <td>5.057341</td>\n",
       "      <td>5.048476</td>\n",
       "    </tr>\n",
       "  </tbody>\n",
       "</table>\n",
       "</div>"
      ],
      "text/plain": [
       "                Game  Blocks Home  ...  Corners Home  Corners Away\n",
       "0    Barca vs Napoli     2.951298  ...      5.300258      5.333009\n",
       "1  Bayern vs Chelsea     2.804998  ...      5.737007      5.819698\n",
       "2     City vs Madrid     2.968196  ...      5.120891      5.123733\n",
       "3   Juventus vs Lyon     2.944528  ...      5.057341      5.048476\n",
       "\n",
       "[4 rows x 10 columns]"
      ]
     },
     "execution_count": 84,
     "metadata": {
      "tags": []
     },
     "output_type": "execute_result"
    }
   ],
   "source": [
    "matches_df.head()"
   ]
  },
  {
   "cell_type": "code",
   "execution_count": 0,
   "metadata": {
    "colab": {},
    "colab_type": "code",
    "id": "wpsXDvwNp_a8"
   },
   "outputs": [],
   "source": [
    "matches_df.to_csv(\"Match_data.csv\",index=False)"
   ]
  },
  {
   "cell_type": "code",
   "execution_count": 0,
   "metadata": {
    "colab": {},
    "colab_type": "code",
    "id": "d3AuyDpGnEy7"
   },
   "outputs": [],
   "source": [
    "players_df = pd.DataFrame(columns = [\"Player\", \"Team\", \"Goals\", \"Assists\",\"Fouls\",\"Total shots\", \"Shots on target\", \"Interceptions\",\"Crosses\", \"Time played\"])\n"
   ]
  },
  {
   "cell_type": "code",
   "execution_count": 0,
   "metadata": {
    "colab": {},
    "colab_type": "code",
    "id": "gVkDiivNtGsy"
   },
   "outputs": [],
   "source": [
    "players = []\n",
    "for i in range(18):\n",
    "  players.append(\"Player {}\".format(i+1))\n",
    "players = players*8\n",
    "players_teams = ['Barca']*18+['Napoli']*18+['Bayern']*18+['Chelsea']*18+['City']*18+['Madrid']*18+['Juventus']*18+['Lyon']*18\n",
    "players_df[\"Player\"] = players\n",
    "players_df[\"Team\"] = players_teams"
   ]
  },
  {
   "cell_type": "code",
   "execution_count": 0,
   "metadata": {
    "colab": {
     "base_uri": "https://localhost:8080/",
     "height": 34
    },
    "colab_type": "code",
    "id": "qItpGGFY-qIV",
    "outputId": "9d961dd2-fc6c-4946-de1e-28471d07fae7"
   },
   "outputs": [
    {
     "data": {
      "text/plain": [
       "1152"
      ]
     },
     "execution_count": 88,
     "metadata": {
      "tags": []
     },
     "output_type": "execute_result"
    }
   ],
   "source": [
    "all_norm_pl = barca_norm_pl[0]+bayern_norm_pl[0]+city_norm_pl[0]+juve_norm_pl[0]\n",
    "len(all_norm_pl)"
   ]
  },
  {
   "cell_type": "code",
   "execution_count": 0,
   "metadata": {
    "colab": {},
    "colab_type": "code",
    "id": "GJvsNNO7UH0l"
   },
   "outputs": [],
   "source": [
    "gt_mat_norm,gt_pl_norm = return_denormed(np.reshape(Y_val[0],(1,Y_val[0].shape[0])),player_csv,team_csv)"
   ]
  },
  {
   "cell_type": "code",
   "execution_count": 0,
   "metadata": {
    "colab": {
     "base_uri": "https://localhost:8080/",
     "height": 34
    },
    "colab_type": "code",
    "id": "zeYkhS7kFm7Q",
    "outputId": "e1c6a176-eef4-4b8e-afbb-f6f171f396ec"
   },
   "outputs": [
    {
     "data": {
      "text/plain": [
       "(297,)"
      ]
     },
     "execution_count": 63,
     "metadata": {
      "tags": []
     },
     "output_type": "execute_result"
    }
   ],
   "source": [
    "Y_val[0].shape"
   ]
  },
  {
   "cell_type": "code",
   "execution_count": 0,
   "metadata": {
    "colab": {},
    "colab_type": "code",
    "id": "oXTWuetjGMcP"
   },
   "outputs": [],
   "source": [
    "gt_pl_norm = gt_pl_norm[0]"
   ]
  },
  {
   "cell_type": "code",
   "execution_count": 0,
   "metadata": {
    "colab": {
     "base_uri": "https://localhost:8080/",
     "height": 34
    },
    "colab_type": "code",
    "id": "AnviJohL9eS-",
    "outputId": "995a2c31-5dc5-47e0-b9e4-e350f740ff06"
   },
   "outputs": [
    {
     "name": "stdout",
     "output_type": "stream",
     "text": [
      "36 36 36 36 36 36 36 36\n"
     ]
    }
   ],
   "source": [
    "goals = []\n",
    "assists = []\n",
    "fouls = []\n",
    "total_shots = []\n",
    "shot_target = []\n",
    "inter = []\n",
    "crosses = []\n",
    "time = []\n",
    "for i in np.arange(0,len(gt_pl_norm),8):\n",
    "  goals.append(gt_pl_norm[i])\n",
    "  assists.append(gt_pl_norm[i+1])\n",
    "  fouls.append(gt_pl_norm[i+2])\n",
    "  total_shots.append(gt_pl_norm[i+3])\n",
    "  shot_target.append(gt_pl_norm[i+4])\n",
    "  inter.append(gt_pl_norm[i+5])\n",
    "  crosses.append(gt_pl_norm[i+6])\n",
    "  time.append(gt_pl_norm[i+7])\n",
    "\n",
    "print(len(goals),len(assists),len(fouls),len(total_shots),len(shot_target),len(inter),len(crosses),len(time))"
   ]
  },
  {
   "cell_type": "code",
   "execution_count": 0,
   "metadata": {
    "colab": {},
    "colab_type": "code",
    "id": "7o_xwttQ-RYC"
   },
   "outputs": [],
   "source": [
    "players_df[\"Goals\"] = goals\n",
    "players_df[\"Assists\"] = assists\n",
    "players_df[\"Fouls\"] = fouls\n",
    "players_df[\"Total shots\"] = total_shots\n",
    "players_df[\"Shots on target\"] = shot_target\n",
    "players_df[\"Interceptions\"] = inter\n",
    "players_df[\"Crosses\"] = crosses\n",
    "players_df[\"Time played\"] = time"
   ]
  },
  {
   "cell_type": "code",
   "execution_count": 0,
   "metadata": {
    "colab": {
     "base_uri": "https://localhost:8080/",
     "height": 204
    },
    "colab_type": "code",
    "id": "7afeunpXAq4i",
    "outputId": "09c7b169-6049-4096-d481-1705e73423f4"
   },
   "outputs": [
    {
     "data": {
      "text/html": [
       "<div>\n",
       "<style scoped>\n",
       "    .dataframe tbody tr th:only-of-type {\n",
       "        vertical-align: middle;\n",
       "    }\n",
       "\n",
       "    .dataframe tbody tr th {\n",
       "        vertical-align: top;\n",
       "    }\n",
       "\n",
       "    .dataframe thead th {\n",
       "        text-align: right;\n",
       "    }\n",
       "</style>\n",
       "<table border=\"1\" class=\"dataframe\">\n",
       "  <thead>\n",
       "    <tr style=\"text-align: right;\">\n",
       "      <th></th>\n",
       "      <th>Player</th>\n",
       "      <th>Team</th>\n",
       "      <th>Goals</th>\n",
       "      <th>Assists</th>\n",
       "      <th>Fouls</th>\n",
       "      <th>Total shots</th>\n",
       "      <th>Shots on target</th>\n",
       "      <th>Interceptions</th>\n",
       "      <th>Crosses</th>\n",
       "      <th>Time played</th>\n",
       "    </tr>\n",
       "  </thead>\n",
       "  <tbody>\n",
       "    <tr>\n",
       "      <th>0</th>\n",
       "      <td>NaN</td>\n",
       "      <td>NaN</td>\n",
       "      <td>0.0</td>\n",
       "      <td>0.0</td>\n",
       "      <td>0.0</td>\n",
       "      <td>0.000000</td>\n",
       "      <td>0.000000</td>\n",
       "      <td>0.000000</td>\n",
       "      <td>0.000000</td>\n",
       "      <td>90.000000</td>\n",
       "    </tr>\n",
       "    <tr>\n",
       "      <th>1</th>\n",
       "      <td>NaN</td>\n",
       "      <td>NaN</td>\n",
       "      <td>0.0</td>\n",
       "      <td>0.0</td>\n",
       "      <td>0.0</td>\n",
       "      <td>0.000000</td>\n",
       "      <td>0.000000</td>\n",
       "      <td>0.000000</td>\n",
       "      <td>19.565217</td>\n",
       "      <td>0.000000</td>\n",
       "    </tr>\n",
       "    <tr>\n",
       "      <th>2</th>\n",
       "      <td>NaN</td>\n",
       "      <td>NaN</td>\n",
       "      <td>0.0</td>\n",
       "      <td>0.0</td>\n",
       "      <td>0.0</td>\n",
       "      <td>0.000000</td>\n",
       "      <td>0.000000</td>\n",
       "      <td>8.608696</td>\n",
       "      <td>0.000000</td>\n",
       "      <td>0.000000</td>\n",
       "    </tr>\n",
       "    <tr>\n",
       "      <th>3</th>\n",
       "      <td>NaN</td>\n",
       "      <td>NaN</td>\n",
       "      <td>0.0</td>\n",
       "      <td>0.0</td>\n",
       "      <td>0.0</td>\n",
       "      <td>0.000000</td>\n",
       "      <td>3.130435</td>\n",
       "      <td>0.000000</td>\n",
       "      <td>0.000000</td>\n",
       "      <td>16.428571</td>\n",
       "    </tr>\n",
       "    <tr>\n",
       "      <th>4</th>\n",
       "      <td>NaN</td>\n",
       "      <td>NaN</td>\n",
       "      <td>0.0</td>\n",
       "      <td>0.0</td>\n",
       "      <td>0.0</td>\n",
       "      <td>10.956522</td>\n",
       "      <td>0.000000</td>\n",
       "      <td>0.000000</td>\n",
       "      <td>3.571429</td>\n",
       "      <td>0.000000</td>\n",
       "    </tr>\n",
       "  </tbody>\n",
       "</table>\n",
       "</div>"
      ],
      "text/plain": [
       "  Player Team  Goals  ...  Interceptions    Crosses  Time played\n",
       "0    NaN  NaN    0.0  ...       0.000000   0.000000    90.000000\n",
       "1    NaN  NaN    0.0  ...       0.000000  19.565217     0.000000\n",
       "2    NaN  NaN    0.0  ...       8.608696   0.000000     0.000000\n",
       "3    NaN  NaN    0.0  ...       0.000000   0.000000    16.428571\n",
       "4    NaN  NaN    0.0  ...       0.000000   3.571429     0.000000\n",
       "\n",
       "[5 rows x 10 columns]"
      ]
     },
     "execution_count": 75,
     "metadata": {
      "tags": []
     },
     "output_type": "execute_result"
    }
   ],
   "source": [
    "players_df.head()"
   ]
  },
  {
   "cell_type": "code",
   "execution_count": 0,
   "metadata": {
    "colab": {},
    "colab_type": "code",
    "id": "TJKIKqfYAtCX"
   },
   "outputs": [],
   "source": [
    "players_df.to_csv(\"Player_data.csv\",index=False)"
   ]
  },
  {
   "cell_type": "code",
   "execution_count": 0,
   "metadata": {
    "colab": {
     "base_uri": "https://localhost:8080/",
     "height": 111
    },
    "colab_type": "code",
    "id": "0KVmzHlYy2iO",
    "outputId": "b63b94ce-d888-494d-9c15-531949059990"
   },
   "outputs": [
    {
     "data": {
      "text/html": [
       "<div>\n",
       "<style scoped>\n",
       "    .dataframe tbody tr th:only-of-type {\n",
       "        vertical-align: middle;\n",
       "    }\n",
       "\n",
       "    .dataframe tbody tr th {\n",
       "        vertical-align: top;\n",
       "    }\n",
       "\n",
       "    .dataframe thead th {\n",
       "        text-align: right;\n",
       "    }\n",
       "</style>\n",
       "<table border=\"1\" class=\"dataframe\">\n",
       "  <thead>\n",
       "    <tr style=\"text-align: right;\">\n",
       "      <th></th>\n",
       "      <th>Team</th>\n",
       "      <th>Blocks</th>\n",
       "      <th>Possession</th>\n",
       "      <th>Passes</th>\n",
       "      <th>Passing Accuracy</th>\n",
       "      <th>Corners</th>\n",
       "      <th>Goals</th>\n",
       "    </tr>\n",
       "  </thead>\n",
       "  <tbody>\n",
       "    <tr>\n",
       "      <th>0</th>\n",
       "      <td>Bayern</td>\n",
       "      <td>4.124680</td>\n",
       "      <td>59.332737</td>\n",
       "      <td>624.022132</td>\n",
       "      <td>88.450876</td>\n",
       "      <td>5.374558</td>\n",
       "      <td>2.291466</td>\n",
       "    </tr>\n",
       "    <tr>\n",
       "      <th>1</th>\n",
       "      <td>Chelsea</td>\n",
       "      <td>3.333216</td>\n",
       "      <td>42.832125</td>\n",
       "      <td>441.473769</td>\n",
       "      <td>85.905445</td>\n",
       "      <td>5.832948</td>\n",
       "      <td>0.999982</td>\n",
       "    </tr>\n",
       "  </tbody>\n",
       "</table>\n",
       "</div>"
      ],
      "text/plain": [
       "      Team    Blocks  Possession  ...  Passing Accuracy   Corners     Goals\n",
       "0   Bayern  4.124680   59.332737  ...         88.450876  5.374558  2.291466\n",
       "1  Chelsea  3.333216   42.832125  ...         85.905445  5.832948  0.999982\n",
       "\n",
       "[2 rows x 7 columns]"
      ]
     },
     "execution_count": 57,
     "metadata": {
      "tags": []
     },
     "output_type": "execute_result"
    }
   ],
   "source": [
    "Goals_max = team_csv[\"Goals\"].max()\n",
    "Goals_min = team_csv[\"Goals\"].min()\n",
    "Block_max = team_csv[\"Blocks\"].max()\n",
    "Block_min = team_csv[\"Blocks\"].min()\n",
    "Possession_max = team_csv[\"Possession\"].max()\n",
    "Possession_min = team_csv[\"Possession\"].min()\n",
    "Passes_max = team_csv[\"Passes\"].max()\n",
    "Passes_min = team_csv[\"Passes\"].min()\n",
    "passing_acc_max = team_csv[\"Passing Accuracy\"].max()\n",
    "passing_acc_min = team_csv[\"Passing Accuracy\"].min()\n",
    "corners_max = team_csv[\"Corners\"].max()\n",
    "corners_min = team_csv[\"Corners\"].min()\n",
    "\n",
    "def auto_denorm(pred_arr):\n",
    "  goals = [denorm(pred_arr[0][0][0],Goals_max,Goals_min),denorm(pred_arr[0][62][0],Goals_max,Goals_min)]\n",
    "  blocks = [denorm(pred_arr[0][4][0],Block_max,Block_min),denorm(pred_arr[0][4+62][0],Block_max,Block_min)]\n",
    "  possession = [denorm(pred_arr[0][8][0],Possession_max,Possession_min),denorm(pred_arr[0][8+62][0],Possession_max,Possession_min)]\n",
    "  passes = [denorm(pred_arr[0][9][0],Passes_max,Passes_min),denorm(pred_arr[0][9+62][0],Passes_max,Passes_min)]\n",
    "  pass_acc = [denorm(pred_arr[0][10][0],passing_acc_max,passing_acc_min),denorm(pred_arr[0][10+62][0],passing_acc_max,passing_acc_min)]\n",
    "  corners = [denorm(pred_arr[0][6][0],corners_max,corners_min),denorm(pred_arr[0][6+62][0],corners_max,corners_min)]\n",
    "\n",
    "  return goals,blocks,possession,passes,pass_acc,corners\n",
    "\n",
    "goals,blocks,possession,passes,pass_acc,corners = auto_denorm(pred_bayern)\n",
    "matches_df = pd.DataFrame(columns = [\"Team\", \"Blocks\",\"Possession\",\"Passes\",\"Passing Accuracy\", \"Corners\"])\n",
    "matches_df[\"Team\"] = [\"Bayern\",\"Chelsea\"]\n",
    "matches_df[\"Goals\"] = goals\n",
    "matches_df[\"Blocks\"] = blocks\n",
    "matches_df[\"Possession\"] = possession\n",
    "matches_df[\"Passes\"] = passes\n",
    "matches_df[\"Passing Accuracy\"] = pass_acc\n",
    "matches_df[\"Corners\"] = corners\n",
    "\n",
    "matches_df.head()                     "
   ]
  }
 ],
 "metadata": {
  "colab": {
   "collapsed_sections": [
    "RXWJTHD-5Nw_",
    "uHNeOOkU2dko",
    "ilpQ2nsb2jre",
    "CsYBZ8t7C8Oq",
    "Ae7MnxnliDMI",
    "Q4iH3gsudJl2",
    "f8JC_jvsdGf2",
    "I_JpBe1jcOnw",
    "JtUYH0VDCl-8",
    "JYRf609d5O8O",
    "b41hfAzJYIuf"
   ],
   "name": "Copy of whatif_model.ipynb",
   "provenance": []
  },
  "kernelspec": {
   "display_name": "Python 3",
   "language": "python",
   "name": "python3"
  },
  "language_info": {
   "codemirror_mode": {
    "name": "ipython",
    "version": 3
   },
   "file_extension": ".py",
   "mimetype": "text/x-python",
   "name": "python",
   "nbconvert_exporter": "python",
   "pygments_lexer": "ipython3",
   "version": "3.7.3"
  }
 },
 "nbformat": 4,
 "nbformat_minor": 1
}
