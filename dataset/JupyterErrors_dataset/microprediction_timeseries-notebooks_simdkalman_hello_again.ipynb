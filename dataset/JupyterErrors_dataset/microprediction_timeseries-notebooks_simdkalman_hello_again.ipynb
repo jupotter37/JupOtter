{
  "nbformat": 4,
  "nbformat_minor": 0,
  "metadata": {
    "colab": {
      "name": "simdkalman_hello_again.ipynb",
      "provenance": [],
      "authorship_tag": "ABX9TyMKx7o+ed/QlStHhFBQQsDT",
      "include_colab_link": true
    },
    "kernelspec": {
      "name": "python3",
      "display_name": "Python 3"
    }
  },
  "cells": [
    {
      "cell_type": "markdown",
      "metadata": {
        "id": "view-in-github",
        "colab_type": "text"
      },
      "source": [
        "<a href=\"https://colab.research.google.com/github/microprediction/timeseries-notebooks/blob/main/simdkalman_hello_again.ipynb\" target=\"_parent\"><img src=\"https://colab.research.google.com/assets/colab-badge.svg\" alt=\"Open In Colab\"/></a>"
      ]
    },
    {
      "cell_type": "code",
      "metadata": {
        "id": "pxPf4jy3Omj_"
      },
      "source": [
        "!pip install --upgrade numpy\n",
        "!pip install --upgrade git+https://github.com/oseiskar/simdkalman"
      ],
      "execution_count": null,
      "outputs": []
    },
    {
      "cell_type": "markdown",
      "metadata": {
        "id": "p2bh6KxE88So"
      },
      "source": [
        "\n",
        "\n",
        "# Update\n",
        "Testing updating of different systems simultaneously\n"
      ]
    },
    {
      "cell_type": "code",
      "metadata": {
        "colab": {
          "base_uri": "https://localhost:8080/"
        },
        "id": "UhfHjityCIph",
        "outputId": "1f2bedee-0970-491b-ef96-9be49d26dfe1"
      },
      "source": [
        "from simdkalman import KalmanFilter\n",
        "import numpy as np \n",
        "\n",
        "# Process noise \n",
        "Q = np.zeros((2,3,3))\n",
        "Q[0,:,:] = np.eye(3)\n",
        "Q[1,:,:] = np.eye(3)\n",
        "\n",
        "\n",
        "# Prior state means \n",
        "m0 = np.zeros((2,3,1))\n",
        "m0[0,:,:] = np.array([[1.5, 1.5, 1.5]]).transpose()\n",
        "m0[1,:,:] = np.array([[1.5, 1.5, 1.5]]).transpose()\n",
        "\n",
        "# Prior covariances\n",
        "P0 = np.zeros((2, 3, 3))\n",
        "P0[0, :, :] = np.eye(3)\n",
        "P0[1, :, :] = 0.5 * np.eye(3)\n",
        "\n",
        "# Observations\n",
        "y_update = np.zeros((2, 1, 1))\n",
        "y_update[0, :, :] = np.array([[-1.4]])\n",
        "y_update[1, :, :] = np.array([[-0.33]])\n",
        "\n",
        "# Measurement var\n",
        "R = np.zeros((2, 1, 1))\n",
        "R[0, :, :] = np.eye(1)\n",
        "R[1, :, :] = 0.66*np.eye(1)\n",
        "\n",
        "# Observation equations \n",
        "H0 = np.array([[0.8, 0.2, 0]])\n",
        "H1 = np.array([[0.9, 0.1, 0]])\n",
        "H0.shape = (1, 3)\n",
        "H1.shape = (1, 3)\n",
        "H = np.zeros((2, 1, 3))\n",
        "H[0, :, :] = H0\n",
        "H[1, :, :] = H1\n",
        "\n",
        "# Transition(s) \n",
        "testing_different_transitions = False #<-- This can be set to True after my PR is accepted\n",
        "A0 = np.array([[0.5, 0.3, 0.2], [1, 0, 0], [0, 1, 0]])\n",
        "A = A0 \n",
        "kf = KalmanFilter(\n",
        "    state_transition=A,   # A\n",
        "    process_noise=Q,      # Q\n",
        "    observation_model=H,  # H\n",
        "    observation_noise=R)  # R\n",
        "m1, P1, K, ll = kf.update(m0,P0,y_update, log_likelihood=True)\n",
        "print(m1)\n",
        "\n"
      ],
      "execution_count": 1,
      "outputs": [
        {
          "output_type": "stream",
          "text": [
            "[[[0.11904762]\n",
            "  [1.1547619 ]\n",
            "  [1.5       ]]\n",
            "\n",
            " [[0.73037383]\n",
            "  [1.41448598]\n",
            "  [1.5       ]]]\n"
          ],
          "name": "stdout"
        }
      ]
    },
    {
      "cell_type": "markdown",
      "metadata": {
        "id": "QK8gp0lf1iop"
      },
      "source": [
        "# Prediction (evolution)"
      ]
    },
    {
      "cell_type": "code",
      "metadata": {
        "colab": {
          "base_uri": "https://localhost:8080/"
        },
        "id": "_CdbtHmW1lEn",
        "outputId": "89813551-e985-4815-a496-052372475c15"
      },
      "source": [
        "results = kf.predict(data=y_update,n_test=1,initial_value=m0, initial_covariance=P0,\n",
        "                         states=True, covariances=True)\n",
        "m1 = results.states.mean\n",
        "P1 = results.states.cov\n",
        "print(m1)"
      ],
      "execution_count": 3,
      "outputs": [
        {
          "output_type": "stream",
          "text": [
            "[[[0.70595238 0.11904762 1.1547619 ]]\n",
            "\n",
            " [[1.08953271 0.73037383 1.41448598]]]\n"
          ],
          "name": "stdout"
        }
      ]
    },
    {
      "cell_type": "markdown",
      "metadata": {
        "id": "bbyvsZpt2ALS"
      },
      "source": [
        "### Now again, but this time with different transitions\n",
        "This will only work in a recent version"
      ]
    },
    {
      "cell_type": "code",
      "metadata": {
        "colab": {
          "base_uri": "https://localhost:8080/",
          "height": 375
        },
        "id": "e9SE67SQ19Aq",
        "outputId": "1599da71-54f4-4c4b-bfcb-3847d207151e"
      },
      "source": [
        "A = np.zeros((2,3,3) )\n",
        "A1 = np.array([[0.4, 0.4, 0.2], [1, 0, 0], [0, 1, 0]])\n",
        "A[0,:,:] = A0\n",
        "A[1,:,:] = A1\n",
        "kf = KalmanFilter(\n",
        "    state_transition=A,   # A\n",
        "    process_noise=Q,      # Q\n",
        "    observation_model=H,  # H\n",
        "    observation_noise=R)  # R (previous version of code may throw error)\n",
        "results = kf.predict(data=y_update,n_test=1,initial_value=m0, initial_covariance=P0,\n",
        "                         states=True, covariances=True)\n",
        "m1 = results.states.mean\n",
        "P1 = results.states.cov\n",
        "print(m1)"
      ],
      "execution_count": 6,
      "outputs": [
        {
          "output_type": "error",
          "ename": "AssertionError",
          "evalue": "ignored",
          "traceback": [
            "\u001b[0;31m---------------------------------------------------------------------------\u001b[0m",
            "\u001b[0;31mAssertionError\u001b[0m                            Traceback (most recent call last)",
            "\u001b[0;32m<ipython-input-6-7d21326c9a92>\u001b[0m in \u001b[0;36m<module>\u001b[0;34m()\u001b[0m\n\u001b[1;32m      7\u001b[0m     \u001b[0mprocess_noise\u001b[0m\u001b[0;34m=\u001b[0m\u001b[0mQ\u001b[0m\u001b[0;34m,\u001b[0m      \u001b[0;31m# Q\u001b[0m\u001b[0;34m\u001b[0m\u001b[0;34m\u001b[0m\u001b[0m\n\u001b[1;32m      8\u001b[0m     \u001b[0mobservation_model\u001b[0m\u001b[0;34m=\u001b[0m\u001b[0mH\u001b[0m\u001b[0;34m,\u001b[0m  \u001b[0;31m# H\u001b[0m\u001b[0;34m\u001b[0m\u001b[0;34m\u001b[0m\u001b[0m\n\u001b[0;32m----> 9\u001b[0;31m     observation_noise=R)  # R\n\u001b[0m\u001b[1;32m     10\u001b[0m results = kf.predict(data=y_update,n_test=1,initial_value=m0, initial_covariance=P0,\n\u001b[1;32m     11\u001b[0m                          states=True, covariances=True)\n",
            "\u001b[0;32m/usr/local/lib/python3.7/dist-packages/simdkalman/kalmanfilter.py\u001b[0m in \u001b[0;36m__init__\u001b[0;34m(self, state_transition, process_noise, observation_model, observation_noise)\u001b[0m\n\u001b[1;32m    205\u001b[0m         \u001b[0mobservation_noise\u001b[0m \u001b[0;34m=\u001b[0m \u001b[0mensure_matrix\u001b[0m\u001b[0;34m(\u001b[0m\u001b[0mobservation_noise\u001b[0m\u001b[0;34m,\u001b[0m \u001b[0mn_obs\u001b[0m\u001b[0;34m)\u001b[0m\u001b[0;34m\u001b[0m\u001b[0;34m\u001b[0m\u001b[0m\n\u001b[1;32m    206\u001b[0m \u001b[0;34m\u001b[0m\u001b[0m\n\u001b[0;32m--> 207\u001b[0;31m         \u001b[0;32massert\u001b[0m\u001b[0;34m(\u001b[0m\u001b[0mstate_transition\u001b[0m\u001b[0;34m.\u001b[0m\u001b[0mshape\u001b[0m\u001b[0;34m[\u001b[0m\u001b[0;34m-\u001b[0m\u001b[0;36m2\u001b[0m\u001b[0;34m:\u001b[0m\u001b[0;34m]\u001b[0m \u001b[0;34m==\u001b[0m \u001b[0;34m(\u001b[0m\u001b[0mn_states\u001b[0m\u001b[0;34m,\u001b[0m \u001b[0mn_states\u001b[0m\u001b[0;34m)\u001b[0m\u001b[0;34m)\u001b[0m\u001b[0;34m\u001b[0m\u001b[0;34m\u001b[0m\u001b[0m\n\u001b[0m\u001b[1;32m    208\u001b[0m         \u001b[0;32massert\u001b[0m\u001b[0;34m(\u001b[0m\u001b[0mprocess_noise\u001b[0m\u001b[0;34m.\u001b[0m\u001b[0mshape\u001b[0m\u001b[0;34m[\u001b[0m\u001b[0;34m-\u001b[0m\u001b[0;36m2\u001b[0m\u001b[0;34m:\u001b[0m\u001b[0;34m]\u001b[0m \u001b[0;34m==\u001b[0m \u001b[0;34m(\u001b[0m\u001b[0mn_states\u001b[0m\u001b[0;34m,\u001b[0m \u001b[0mn_states\u001b[0m\u001b[0;34m)\u001b[0m\u001b[0;34m)\u001b[0m\u001b[0;34m\u001b[0m\u001b[0;34m\u001b[0m\u001b[0m\n\u001b[1;32m    209\u001b[0m         \u001b[0;32massert\u001b[0m\u001b[0;34m(\u001b[0m\u001b[0mobservation_model\u001b[0m\u001b[0;34m.\u001b[0m\u001b[0mshape\u001b[0m\u001b[0;34m[\u001b[0m\u001b[0;34m-\u001b[0m\u001b[0;36m2\u001b[0m\u001b[0;34m:\u001b[0m\u001b[0;34m]\u001b[0m \u001b[0;34m==\u001b[0m \u001b[0;34m(\u001b[0m\u001b[0mn_obs\u001b[0m\u001b[0;34m,\u001b[0m \u001b[0mn_states\u001b[0m\u001b[0;34m)\u001b[0m\u001b[0;34m)\u001b[0m\u001b[0;34m\u001b[0m\u001b[0;34m\u001b[0m\u001b[0m\n",
            "\u001b[0;31mAssertionError\u001b[0m: "
          ]
        }
      ]
    }
  ]
}