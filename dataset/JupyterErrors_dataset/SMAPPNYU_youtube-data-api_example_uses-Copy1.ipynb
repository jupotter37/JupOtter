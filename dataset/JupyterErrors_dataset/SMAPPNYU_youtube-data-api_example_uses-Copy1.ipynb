{
 "cells": [
  {
   "cell_type": "markdown",
   "metadata": {},
   "source": [
    "# Accessing the Youtube API\n",
    "This Notebook explores convenience functions for accessing the Youtube API.\n",
    "Writen by Leon Yin and Megan Brown"
   ]
  },
  {
   "cell_type": "code",
   "execution_count": 1,
   "metadata": {},
   "outputs": [
    {
     "name": "stdout",
     "output_type": "stream",
     "text": [
      "Updated 2018-07-01 18:08:33.886037\n",
      "By None\n",
      "Using Python 3.6.5\n",
      "On Windows-10-10.0.17134-SP0\n"
     ]
    }
   ],
   "source": [
    "import os\n",
    "import sys\n",
    "import json\n",
    "import datetime\n",
    "import pandas as pd\n",
    "\n",
    "# this is to import youtube_api from the py directory\n",
    "sys.path.append(os.path.abspath('../youtube-data-api')) \n",
    "from youtube_api import YoutubeDataApi, get_upload_playlist_id, P\n",
    "import youtube_api_utils \n",
    "\n",
    "from runtimestamp.runtimestamp import runtimestamp\n",
    "runtimestamp()"
   ]
  },
  {
   "cell_type": "code",
   "execution_count": 7,
   "metadata": {},
   "outputs": [],
   "source": [
    "key = os.environ.get('YT_API')"
   ]
  },
  {
   "cell_type": "markdown",
   "metadata": {},
   "source": [
    "We can go from Username to `channel_id`. `channel_id` is required to get uploaded videos, user metadata, and relationships like subscriptions and featured channels."
   ]
  },
  {
   "cell_type": "code",
   "execution_count": 6,
   "metadata": {},
   "outputs": [],
   "source": [
    "yt = YoutubeDataApi(key)"
   ]
  },
  {
   "cell_type": "code",
   "execution_count": 4,
   "metadata": {},
   "outputs": [
    {
     "data": {
      "text/plain": [
       "'UCaLfMkkHhSA_LaCta0BzyhQ'"
      ]
     },
     "execution_count": 4,
     "metadata": {},
     "output_type": "execute_result"
    }
   ],
   "source": [
    "yt.get_channel_id_from_user('munchies')"
   ]
  },
  {
   "cell_type": "code",
   "execution_count": 5,
   "metadata": {
    "collapsed": true
   },
   "outputs": [],
   "source": [
    "channel_id = 'UCaLfMkkHhSA_LaCta0BzyhQ'"
   ]
  },
  {
   "cell_type": "markdown",
   "metadata": {},
   "source": [
    "We can collect channel-level metrics and metadata:"
   ]
  },
  {
   "cell_type": "code",
   "execution_count": 6,
   "metadata": {},
   "outputs": [
    {
     "data": {
      "text/plain": [
       "OrderedDict([('id', 'UCaLfMkkHhSA_LaCta0BzyhQ'),\n",
       "             ('title', 'Munchies'),\n",
       "             ('publish_date', datetime.datetime(2014, 3, 24, 21, 21, 29)),\n",
       "             ('keywords',\n",
       "              'food vice \"how to\" cooking recipe \"fresh off the boat\" munchies eating \"epic mealtime\" tutorial \"cooking show\"'),\n",
       "             ('description',\n",
       "              'MUNCHIES is a website and digital video channel from VICE dedicated to food and its global purpose. Launched in 2014, MUNCHIES offers groundbreaking content from a youth driven perspective. In today\\'s modern world, the formerly tangible pleasures of music, film, and emerging media are just one click away. Food and the events that manifest around it are one of the everlasting experiences that cannot be replicated by arcs and zeroes. MUNCHIES chronicles the wide spectrum of the global culinary experience and the diverse voices that are pulling us forward: chefs and home cooks, makers and consumers, the politics and policies of food, \"front\" and \"back of house\" restaurant life, old wives tales and innovative news, and culturally significant indicators in our modern world. Through engaging original video content, compelling editorial features, articles, how-tos, recipes and events, MUNCHIES offers a signature perspective on the intersection where humans and food connect.'),\n",
       "             ('view_count', '431610071'),\n",
       "             ('video_count', '770'),\n",
       "             ('subscription_count', '2287447'),\n",
       "             ('playlist_id_likes', 'LLaLfMkkHhSA_LaCta0BzyhQ'),\n",
       "             ('playlist_id_uploads', 'UUaLfMkkHhSA_LaCta0BzyhQ'),\n",
       "             ('topic_ids', 'null'),\n",
       "             ('collection_date',\n",
       "              datetime.datetime(2018, 5, 31, 22, 31, 38, 147087))])"
      ]
     },
     "execution_count": 6,
     "metadata": {},
     "output_type": "execute_result"
    }
   ],
   "source": [
    "channel_meta = yt.get_channel_metadata(channel_id)\n",
    "channel_meta"
   ]
  },
  {
   "cell_type": "markdown",
   "metadata": {},
   "source": [
    "Note for some API calls that require a \"playlist ID\", you need to use the playlist id (from uploads or likes) rather than the `channel_id`."
   ]
  },
  {
   "cell_type": "code",
   "execution_count": 7,
   "metadata": {},
   "outputs": [
    {
     "data": {
      "text/plain": [
       "'UUaLfMkkHhSA_LaCta0BzyhQ'"
      ]
     },
     "execution_count": 7,
     "metadata": {},
     "output_type": "execute_result"
    }
   ],
   "source": [
    "playlist_id = channel_meta['playlist_id_uploads']\n",
    "playlist_id"
   ]
  },
  {
   "cell_type": "code",
   "execution_count": 8,
   "metadata": {},
   "outputs": [
    {
     "data": {
      "text/plain": [
       "False"
      ]
     },
     "execution_count": 8,
     "metadata": {},
     "output_type": "execute_result"
    }
   ],
   "source": [
    "channel_id == playlist_id"
   ]
  },
  {
   "cell_type": "markdown",
   "metadata": {},
   "source": [
    "For user uploads the channel ID's first two letters are replaced with \"UU\" (User Upload) and \"LL\" (Likes), <br>these relationships are captured in two helper-functions.<br> `yt.get_upload_playlist_id()` and `yt.get_liked_playlist_id()`"
   ]
  },
  {
   "cell_type": "code",
   "execution_count": 9,
   "metadata": {},
   "outputs": [
    {
     "data": {
      "text/plain": [
       "'UUaLfMkkHhSA_LaCta0BzyhQ'"
      ]
     },
     "execution_count": 9,
     "metadata": {},
     "output_type": "execute_result"
    }
   ],
   "source": [
    "get_upload_playlist_id(channel_id)"
   ]
  },
  {
   "cell_type": "markdown",
   "metadata": {},
   "source": [
    "We can use the following function to get all the video IDs from any playlist id.<br>\n",
    "`cutoff_date` can be used to filter out videos after a certain date and `stop_after_n_iterations` can be used for testing to return the first N * 50 video ids."
   ]
  },
  {
   "cell_type": "code",
   "execution_count": 10,
   "metadata": {},
   "outputs": [
    {
     "name": "stdout",
     "output_type": "stream",
     "text": [
      ">> 50 Videos parsed. Next Token = CDIQAA\n",
      ">> 100 Videos parsed. Next Token = CGQQAA\n",
      ">> 129 Videos parsed. Next Token = CJYBEAA\n"
     ]
    }
   ],
   "source": [
    "video_ids = yt.get_video_urls_from_playlist_id(playlist_id, key,\n",
    "                                               cutoff_date=datetime.datetime(2017,1,1))"
   ]
  },
  {
   "cell_type": "code",
   "execution_count": 11,
   "metadata": {},
   "outputs": [
    {
     "data": {
      "text/html": [
       "<div>\n",
       "<style scoped>\n",
       "    .dataframe tbody tr th:only-of-type {\n",
       "        vertical-align: middle;\n",
       "    }\n",
       "\n",
       "    .dataframe tbody tr th {\n",
       "        vertical-align: top;\n",
       "    }\n",
       "\n",
       "    .dataframe thead th {\n",
       "        text-align: right;\n",
       "    }\n",
       "</style>\n",
       "<table border=\"1\" class=\"dataframe\">\n",
       "  <thead>\n",
       "    <tr style=\"text-align: right;\">\n",
       "      <th></th>\n",
       "      <th>publish_date</th>\n",
       "      <th>video_id</th>\n",
       "      <th>channel_id</th>\n",
       "      <th>collection_date</th>\n",
       "    </tr>\n",
       "  </thead>\n",
       "  <tbody>\n",
       "    <tr>\n",
       "      <th>0</th>\n",
       "      <td>2018-05-30 15:01:36</td>\n",
       "      <td>IEDp9GQPk2I</td>\n",
       "      <td>UCaLfMkkHhSA_LaCta0BzyhQ</td>\n",
       "      <td>2018-05-31 22:31:39.735375</td>\n",
       "    </tr>\n",
       "    <tr>\n",
       "      <th>1</th>\n",
       "      <td>2018-05-26 14:00:04</td>\n",
       "      <td>zi1xZhE9HFQ</td>\n",
       "      <td>UCaLfMkkHhSA_LaCta0BzyhQ</td>\n",
       "      <td>2018-05-31 22:31:39.735407</td>\n",
       "    </tr>\n",
       "    <tr>\n",
       "      <th>2</th>\n",
       "      <td>2018-05-19 15:00:03</td>\n",
       "      <td>iA9CFJeftJU</td>\n",
       "      <td>UCaLfMkkHhSA_LaCta0BzyhQ</td>\n",
       "      <td>2018-05-31 22:31:39.735431</td>\n",
       "    </tr>\n",
       "    <tr>\n",
       "      <th>3</th>\n",
       "      <td>2018-05-23 11:00:06</td>\n",
       "      <td>eT9QeDqZbWc</td>\n",
       "      <td>UCaLfMkkHhSA_LaCta0BzyhQ</td>\n",
       "      <td>2018-05-31 22:31:39.735453</td>\n",
       "    </tr>\n",
       "    <tr>\n",
       "      <th>4</th>\n",
       "      <td>2018-05-22 11:00:10</td>\n",
       "      <td>ktZkf8Hfjd4</td>\n",
       "      <td>UCaLfMkkHhSA_LaCta0BzyhQ</td>\n",
       "      <td>2018-05-31 22:31:39.735475</td>\n",
       "    </tr>\n",
       "  </tbody>\n",
       "</table>\n",
       "</div>"
      ],
      "text/plain": [
       "         publish_date     video_id                channel_id  \\\n",
       "0 2018-05-30 15:01:36  IEDp9GQPk2I  UCaLfMkkHhSA_LaCta0BzyhQ   \n",
       "1 2018-05-26 14:00:04  zi1xZhE9HFQ  UCaLfMkkHhSA_LaCta0BzyhQ   \n",
       "2 2018-05-19 15:00:03  iA9CFJeftJU  UCaLfMkkHhSA_LaCta0BzyhQ   \n",
       "3 2018-05-23 11:00:06  eT9QeDqZbWc  UCaLfMkkHhSA_LaCta0BzyhQ   \n",
       "4 2018-05-22 11:00:10  ktZkf8Hfjd4  UCaLfMkkHhSA_LaCta0BzyhQ   \n",
       "\n",
       "             collection_date  \n",
       "0 2018-05-31 22:31:39.735375  \n",
       "1 2018-05-31 22:31:39.735407  \n",
       "2 2018-05-31 22:31:39.735431  \n",
       "3 2018-05-31 22:31:39.735453  \n",
       "4 2018-05-31 22:31:39.735475  "
      ]
     },
     "execution_count": 11,
     "metadata": {},
     "output_type": "execute_result"
    }
   ],
   "source": [
    "df = pd.DataFrame(video_ids)\n",
    "df.head()"
   ]
  },
  {
   "cell_type": "markdown",
   "metadata": {},
   "source": [
    "Let's look at the data we can collect on a video level..."
   ]
  },
  {
   "cell_type": "code",
   "execution_count": 12,
   "metadata": {},
   "outputs": [
    {
     "data": {
      "text/plain": [
       "['IEDp9GQPk2I', 'zi1xZhE9HFQ']"
      ]
     },
     "execution_count": 12,
     "metadata": {},
     "output_type": "execute_result"
    }
   ],
   "source": [
    "video_id = df['video_id'].tolist()\n",
    "video_id[:2]"
   ]
  },
  {
   "cell_type": "code",
   "execution_count": 13,
   "metadata": {},
   "outputs": [
    {
     "data": {
      "text/plain": [
       "OrderedDict([('video_id', 'IEDp9GQPk2I'),\n",
       "             ('channel_title', 'Munchies'),\n",
       "             ('channel_id', 'UCaLfMkkHhSA_LaCta0BzyhQ'),\n",
       "             ('video_publish_date', datetime.datetime(2018, 5, 30, 15, 1, 36)),\n",
       "             ('video_title', 'How-To Make Chocolate Eclair Doughnuts'),\n",
       "             ('video_description',\n",
       "              \"What if Good Humor's chocolate eclair ice cream bar became a doughnut? Thanks to Matt Fein of Philadelphia's Federal Donuts, that's no longer a hypothetical question. Matt visits the MUNCHIES Test Kitchen to show us how to make the chocolate eclair donut, which gets dipped in a vanilla glaze and tossed in Nilla wafer and chocolate cookie crumble. \\n\\nSubscribe to Munchies here: http://bit.ly/Subscribe-to-MUNCHIES\\n\\nCheck out http://munchies.tv for more!\\n\\nFollow Munchies here:\\nFacebook: http://facebook.com/munchies\\nTwitter: http://twitter.com/munchies\\nTumblr: http://munchies.tumblr.com\\nInstagram: http://instagram.com/munchies\\nPinterest: https://www.pinterest.com/munchies\\nFoursquare: https://foursquare.com/munchies\\nMore videos from the VICE network: https://www.fb.com/vicevideo\"),\n",
       "             ('video_category', '24'),\n",
       "             ('video_view_count', '88174'),\n",
       "             ('video_comment_count', '202'),\n",
       "             ('video_like_count', '1697'),\n",
       "             ('video_dislike_count', '168'),\n",
       "             ('video_thumbnail',\n",
       "              'https://i.ytimg.com/vi/IEDp9GQPk2I/hqdefault.jpg'),\n",
       "             ('video_tags',\n",
       "              \"how to|cooking|Munchies|Munchiestv|food|drinks|eating|chef|restaurant|VICE|chef's night out|matty matheson|action bronson|documentary|documentaries|interview|interviews|culture|world|exclusive|independent|underground|travel|funny|journalism|vice|vice videos|vicevideos|donut|eclair|chocolate eclair|chocolate donuts|how-to|donut recipe\"),\n",
       "             ('collection_date',\n",
       "              datetime.datetime(2018, 5, 31, 22, 31, 40, 754683))])"
      ]
     },
     "execution_count": 13,
     "metadata": {},
     "output_type": "execute_result"
    }
   ],
   "source": [
    "yt.get_video_metadata(video_id[0], key, parser=P.parse_video_metadata)"
   ]
  },
  {
   "cell_type": "code",
   "execution_count": 14,
   "metadata": {},
   "outputs": [
    {
     "data": {
      "text/plain": [
       "{'etag': '\"DuHzAJ-eQIiCIp7p4ldoVcVAOeY/ZOYQb_WBsa2VTG_A7RLqqhBHsP0\"',\n",
       " 'id': 'IEDp9GQPk2I',\n",
       " 'kind': 'youtube#video',\n",
       " 'snippet': {'categoryId': '24',\n",
       "  'channelId': 'UCaLfMkkHhSA_LaCta0BzyhQ',\n",
       "  'channelTitle': 'Munchies',\n",
       "  'description': \"What if Good Humor's chocolate eclair ice cream bar became a doughnut? Thanks to Matt Fein of Philadelphia's Federal Donuts, that's no longer a hypothetical question. Matt visits the MUNCHIES Test Kitchen to show us how to make the chocolate eclair donut, which gets dipped in a vanilla glaze and tossed in Nilla wafer and chocolate cookie crumble. \\n\\nSubscribe to Munchies here: http://bit.ly/Subscribe-to-MUNCHIES\\n\\nCheck out http://munchies.tv for more!\\n\\nFollow Munchies here:\\nFacebook: http://facebook.com/munchies\\nTwitter: http://twitter.com/munchies\\nTumblr: http://munchies.tumblr.com\\nInstagram: http://instagram.com/munchies\\nPinterest: https://www.pinterest.com/munchies\\nFoursquare: https://foursquare.com/munchies\\nMore videos from the VICE network: https://www.fb.com/vicevideo\",\n",
       "  'liveBroadcastContent': 'none',\n",
       "  'localized': {'description': \"What if Good Humor's chocolate eclair ice cream bar became a doughnut? Thanks to Matt Fein of Philadelphia's Federal Donuts, that's no longer a hypothetical question. Matt visits the MUNCHIES Test Kitchen to show us how to make the chocolate eclair donut, which gets dipped in a vanilla glaze and tossed in Nilla wafer and chocolate cookie crumble. \\n\\nSubscribe to Munchies here: http://bit.ly/Subscribe-to-MUNCHIES\\n\\nCheck out http://munchies.tv for more!\\n\\nFollow Munchies here:\\nFacebook: http://facebook.com/munchies\\nTwitter: http://twitter.com/munchies\\nTumblr: http://munchies.tumblr.com\\nInstagram: http://instagram.com/munchies\\nPinterest: https://www.pinterest.com/munchies\\nFoursquare: https://foursquare.com/munchies\\nMore videos from the VICE network: https://www.fb.com/vicevideo\",\n",
       "   'title': 'How-To Make Chocolate Eclair Doughnuts'},\n",
       "  'publishedAt': '2018-05-30T15:01:36.000Z',\n",
       "  'tags': ['how to',\n",
       "   'cooking',\n",
       "   'Munchies',\n",
       "   'Munchiestv',\n",
       "   'food',\n",
       "   'drinks',\n",
       "   'eating',\n",
       "   'chef',\n",
       "   'restaurant',\n",
       "   'VICE',\n",
       "   \"chef's night out\",\n",
       "   'matty matheson',\n",
       "   'action bronson',\n",
       "   'documentary',\n",
       "   'documentaries',\n",
       "   'interview',\n",
       "   'interviews',\n",
       "   'culture',\n",
       "   'world',\n",
       "   'exclusive',\n",
       "   'independent',\n",
       "   'underground',\n",
       "   'travel',\n",
       "   'funny',\n",
       "   'journalism',\n",
       "   'vice',\n",
       "   'vice videos',\n",
       "   'vicevideos',\n",
       "   'donut',\n",
       "   'eclair',\n",
       "   'chocolate eclair',\n",
       "   'chocolate donuts',\n",
       "   'how-to',\n",
       "   'donut recipe'],\n",
       "  'thumbnails': {'default': {'height': 90,\n",
       "    'url': 'https://i.ytimg.com/vi/IEDp9GQPk2I/default.jpg',\n",
       "    'width': 120},\n",
       "   'high': {'height': 360,\n",
       "    'url': 'https://i.ytimg.com/vi/IEDp9GQPk2I/hqdefault.jpg',\n",
       "    'width': 480},\n",
       "   'maxres': {'height': 720,\n",
       "    'url': 'https://i.ytimg.com/vi/IEDp9GQPk2I/maxresdefault.jpg',\n",
       "    'width': 1280},\n",
       "   'medium': {'height': 180,\n",
       "    'url': 'https://i.ytimg.com/vi/IEDp9GQPk2I/mqdefault.jpg',\n",
       "    'width': 320},\n",
       "   'standard': {'height': 480,\n",
       "    'url': 'https://i.ytimg.com/vi/IEDp9GQPk2I/sddefault.jpg',\n",
       "    'width': 640}},\n",
       "  'title': 'How-To Make Chocolate Eclair Doughnuts'},\n",
       " 'statistics': {'commentCount': '202',\n",
       "  'dislikeCount': '168',\n",
       "  'favoriteCount': '0',\n",
       "  'likeCount': '1697',\n",
       "  'viewCount': '88174'}}"
      ]
     },
     "execution_count": 14,
     "metadata": {},
     "output_type": "execute_result"
    }
   ],
   "source": [
    "yt.get_video_metadata(video_id[0], key, parser=P.default)"
   ]
  },
  {
   "cell_type": "markdown",
   "metadata": {},
   "source": [
    "The function also works for a list of up to 50 video ids"
   ]
  },
  {
   "cell_type": "code",
   "execution_count": 15,
   "metadata": {},
   "outputs": [
    {
     "ename": "Exception",
     "evalue": "Max length of list is 50!",
     "output_type": "error",
     "traceback": [
      "\u001b[0;31m---------------------------------------------------------------------------\u001b[0m",
      "\u001b[0;31mException\u001b[0m                                 Traceback (most recent call last)",
      "\u001b[0;32m<ipython-input-15-aa2c43ccaeea>\u001b[0m in \u001b[0;36m<module>\u001b[0;34m()\u001b[0m\n\u001b[0;32m----> 1\u001b[0;31m \u001b[0mvideo_meta\u001b[0m \u001b[0;34m=\u001b[0m \u001b[0myt\u001b[0m\u001b[0;34m.\u001b[0m\u001b[0mget_video_metadata\u001b[0m\u001b[0;34m(\u001b[0m\u001b[0mvideo_id\u001b[0m\u001b[0;34m,\u001b[0m \u001b[0mkey\u001b[0m\u001b[0;34m)\u001b[0m\u001b[0;34m\u001b[0m\u001b[0m\n\u001b[0m",
      "\u001b[0;32m~/scrapers/youtube-data-api/py/youtube_api.py\u001b[0m in \u001b[0;36mget_video_metadata\u001b[0;34m(self, video_id, verbose, parser)\u001b[0m\n\u001b[1;32m     54\u001b[0m             \u001b[0mget_one\u001b[0m \u001b[0;34m=\u001b[0m \u001b[0;32mFalse\u001b[0m\u001b[0;34m\u001b[0m\u001b[0m\n\u001b[1;32m     55\u001b[0m             \u001b[0;32mif\u001b[0m \u001b[0mlen\u001b[0m\u001b[0;34m(\u001b[0m\u001b[0mvideo_id\u001b[0m\u001b[0;34m)\u001b[0m \u001b[0;34m>\u001b[0m \u001b[0;36m50\u001b[0m\u001b[0;34m:\u001b[0m\u001b[0;34m\u001b[0m\u001b[0m\n\u001b[0;32m---> 56\u001b[0;31m                 \u001b[0;32mraise\u001b[0m \u001b[0mException\u001b[0m\u001b[0;34m(\u001b[0m\u001b[0;34m\"Max length of list is 50!\"\u001b[0m\u001b[0;34m)\u001b[0m\u001b[0;34m\u001b[0m\u001b[0m\n\u001b[0m\u001b[1;32m     57\u001b[0m             \u001b[0mvideo_id\u001b[0m \u001b[0;34m=\u001b[0m \u001b[0;34m','\u001b[0m\u001b[0;34m.\u001b[0m\u001b[0mjoin\u001b[0m\u001b[0;34m(\u001b[0m\u001b[0mvideo_id\u001b[0m\u001b[0;34m)\u001b[0m\u001b[0;34m\u001b[0m\u001b[0m\n\u001b[1;32m     58\u001b[0m \u001b[0;34m\u001b[0m\u001b[0m\n",
      "\u001b[0;31mException\u001b[0m: Max length of list is 50!"
     ]
    }
   ],
   "source": [
    "video_meta = yt.get_video_metadata(video_id, key)"
   ]
  },
  {
   "cell_type": "markdown",
   "metadata": {},
   "source": [
    "To get around this, I suggest breaking the input into chunks"
   ]
  },
  {
   "cell_type": "code",
   "execution_count": 16,
   "metadata": {
    "collapsed": true
   },
   "outputs": [],
   "source": [
    "def chunks(list_, n):\n",
    "    \"\"\"Yield successive n-sized chunks from l.\"\"\"\n",
    "    for i in range(0, len(list_), n):\n",
    "        yield list_[i:i + n]"
   ]
  },
  {
   "cell_type": "code",
   "execution_count": 17,
   "metadata": {},
   "outputs": [
    {
     "data": {
      "text/plain": [
       "129"
      ]
     },
     "execution_count": 17,
     "metadata": {},
     "output_type": "execute_result"
    }
   ],
   "source": [
    "video_meta = []\n",
    "for chunk in chunks(video_id, n=40):\n",
    "    vm_ = yt.get_video_metadata(chunk, key, P.parse_video_metadata)\n",
    "    video_meta.extend(vm_)\n",
    "len(video_id)"
   ]
  },
  {
   "cell_type": "code",
   "execution_count": 18,
   "metadata": {},
   "outputs": [
    {
     "data": {
      "text/html": [
       "<div>\n",
       "<style scoped>\n",
       "    .dataframe tbody tr th:only-of-type {\n",
       "        vertical-align: middle;\n",
       "    }\n",
       "\n",
       "    .dataframe tbody tr th {\n",
       "        vertical-align: top;\n",
       "    }\n",
       "\n",
       "    .dataframe thead th {\n",
       "        text-align: right;\n",
       "    }\n",
       "</style>\n",
       "<table border=\"1\" class=\"dataframe\">\n",
       "  <thead>\n",
       "    <tr style=\"text-align: right;\">\n",
       "      <th></th>\n",
       "      <th>video_id</th>\n",
       "      <th>channel_title</th>\n",
       "      <th>channel_id</th>\n",
       "      <th>video_publish_date</th>\n",
       "      <th>video_title</th>\n",
       "      <th>video_description</th>\n",
       "      <th>video_category</th>\n",
       "      <th>video_view_count</th>\n",
       "      <th>video_comment_count</th>\n",
       "      <th>video_like_count</th>\n",
       "      <th>video_dislike_count</th>\n",
       "      <th>video_thumbnail</th>\n",
       "      <th>video_tags</th>\n",
       "      <th>collection_date</th>\n",
       "    </tr>\n",
       "  </thead>\n",
       "  <tbody>\n",
       "    <tr>\n",
       "      <th>0</th>\n",
       "      <td>IEDp9GQPk2I</td>\n",
       "      <td>Munchies</td>\n",
       "      <td>UCaLfMkkHhSA_LaCta0BzyhQ</td>\n",
       "      <td>2018-05-30 15:01:36</td>\n",
       "      <td>How-To Make Chocolate Eclair Doughnuts</td>\n",
       "      <td>What if Good Humor's chocolate eclair ice crea...</td>\n",
       "      <td>24</td>\n",
       "      <td>88174</td>\n",
       "      <td>202</td>\n",
       "      <td>1697</td>\n",
       "      <td>168</td>\n",
       "      <td>https://i.ytimg.com/vi/IEDp9GQPk2I/hqdefault.jpg</td>\n",
       "      <td>how to|cooking|Munchies|Munchiestv|food|drinks...</td>\n",
       "      <td>2018-05-31 22:31:41.937432</td>\n",
       "    </tr>\n",
       "    <tr>\n",
       "      <th>1</th>\n",
       "      <td>zi1xZhE9HFQ</td>\n",
       "      <td>Munchies</td>\n",
       "      <td>UCaLfMkkHhSA_LaCta0BzyhQ</td>\n",
       "      <td>2018-05-26 14:00:04</td>\n",
       "      <td>The Dinner Table Cures their Hangover with Bac...</td>\n",
       "      <td>Our host Cara Nicoletti cooks for Ricky, Johnn...</td>\n",
       "      <td>24</td>\n",
       "      <td>152704</td>\n",
       "      <td>538</td>\n",
       "      <td>3072</td>\n",
       "      <td>964</td>\n",
       "      <td>https://i.ytimg.com/vi/zi1xZhE9HFQ/hqdefault.jpg</td>\n",
       "      <td>how to|cooking|Munchies|Munchiestv|food|drinks...</td>\n",
       "      <td>2018-05-31 22:31:41.937472</td>\n",
       "    </tr>\n",
       "  </tbody>\n",
       "</table>\n",
       "</div>"
      ],
      "text/plain": [
       "      video_id channel_title                channel_id  video_publish_date  \\\n",
       "0  IEDp9GQPk2I      Munchies  UCaLfMkkHhSA_LaCta0BzyhQ 2018-05-30 15:01:36   \n",
       "1  zi1xZhE9HFQ      Munchies  UCaLfMkkHhSA_LaCta0BzyhQ 2018-05-26 14:00:04   \n",
       "\n",
       "                                         video_title  \\\n",
       "0             How-To Make Chocolate Eclair Doughnuts   \n",
       "1  The Dinner Table Cures their Hangover with Bac...   \n",
       "\n",
       "                                   video_description video_category  \\\n",
       "0  What if Good Humor's chocolate eclair ice crea...             24   \n",
       "1  Our host Cara Nicoletti cooks for Ricky, Johnn...             24   \n",
       "\n",
       "  video_view_count video_comment_count video_like_count video_dislike_count  \\\n",
       "0            88174                 202             1697                 168   \n",
       "1           152704                 538             3072                 964   \n",
       "\n",
       "                                    video_thumbnail  \\\n",
       "0  https://i.ytimg.com/vi/IEDp9GQPk2I/hqdefault.jpg   \n",
       "1  https://i.ytimg.com/vi/zi1xZhE9HFQ/hqdefault.jpg   \n",
       "\n",
       "                                          video_tags  \\\n",
       "0  how to|cooking|Munchies|Munchiestv|food|drinks...   \n",
       "1  how to|cooking|Munchies|Munchiestv|food|drinks...   \n",
       "\n",
       "             collection_date  \n",
       "0 2018-05-31 22:31:41.937432  \n",
       "1 2018-05-31 22:31:41.937472  "
      ]
     },
     "execution_count": 18,
     "metadata": {},
     "output_type": "execute_result"
    }
   ],
   "source": [
    "df_video_meta = pd.DataFrame(video_meta)\n",
    "df_video_meta.head(2)"
   ]
  },
  {
   "cell_type": "markdown",
   "metadata": {},
   "source": [
    "For establishing relationships you can list featured channels and subscriptions"
   ]
  },
  {
   "cell_type": "code",
   "execution_count": 19,
   "metadata": {},
   "outputs": [
    {
     "data": {
      "text/plain": [
       "{'UCaLfMkkHhSA_LaCta0BzyhQ': ['UCn8zNIfYAQNdrFRrr8oibKw',\n",
       "  'UCWF0PiUvUi3Jma2oFgaiX2w',\n",
       "  'UCfQDD-pbllOCXHYwiXxjJxA',\n",
       "  'UCZaT_X_mc0BI-djXOlfhqWQ',\n",
       "  'UCB6PV0cvJpzlcXRG7nz6PpQ',\n",
       "  'UC0iwHRFpv2_fpojZgQhElEQ',\n",
       "  'UC_NaA2HkWDT6dliWVcvnkuQ',\n",
       "  'UCS6R2iiAJ1FvEYl4B3zmljw',\n",
       "  'UC8C8WuWSsFjWFaTHcUQeQxA',\n",
       "  'UC9ISPZsMaBi5mutsgX6LC1g',\n",
       "  'UCiZCX1R1F3xYGbeXq1JscKA',\n",
       "  'UCVfmHpXONv-LVACBV68tq5Q',\n",
       "  'UC5e0xSqwDGlRg3sdvGQh7lg',\n",
       "  'UClW2OsdCa2E_KkLZNpm_9VQ',\n",
       "  'UC9XpoCBNvStSmp3gVf_jG1g',\n",
       "  'UCflb1gG-X1dy1Ru5JIk5sPw',\n",
       "  'UCNDUud96oGK5xQ9gyg913vw']}"
      ]
     },
     "execution_count": 19,
     "metadata": {},
     "output_type": "execute_result"
    }
   ],
   "source": [
    "yt.get_featured_channels(channel_id)"
   ]
  },
  {
   "cell_type": "markdown",
   "metadata": {},
   "source": [
    "You can save on time by using a list of inputs for some api calls:"
   ]
  },
  {
   "cell_type": "code",
   "execution_count": 20,
   "metadata": {
    "collapsed": true
   },
   "outputs": [],
   "source": [
    "channel_ids = ['UCaLfMkkHhSA_LaCta0BzyhQ', 'UC6MFZAOHXlKK1FI7V0XQVeA']"
   ]
  },
  {
   "cell_type": "code",
   "execution_count": 21,
   "metadata": {},
   "outputs": [
    {
     "data": {
      "text/plain": [
       "[{'UCaLfMkkHhSA_LaCta0BzyhQ': ['UCn8zNIfYAQNdrFRrr8oibKw',\n",
       "   'UCWF0PiUvUi3Jma2oFgaiX2w',\n",
       "   'UCfQDD-pbllOCXHYwiXxjJxA',\n",
       "   'UCZaT_X_mc0BI-djXOlfhqWQ',\n",
       "   'UCB6PV0cvJpzlcXRG7nz6PpQ',\n",
       "   'UC0iwHRFpv2_fpojZgQhElEQ',\n",
       "   'UC_NaA2HkWDT6dliWVcvnkuQ',\n",
       "   'UCS6R2iiAJ1FvEYl4B3zmljw',\n",
       "   'UC8C8WuWSsFjWFaTHcUQeQxA',\n",
       "   'UC9ISPZsMaBi5mutsgX6LC1g',\n",
       "   'UCiZCX1R1F3xYGbeXq1JscKA',\n",
       "   'UCVfmHpXONv-LVACBV68tq5Q',\n",
       "   'UC5e0xSqwDGlRg3sdvGQh7lg',\n",
       "   'UClW2OsdCa2E_KkLZNpm_9VQ',\n",
       "   'UC9XpoCBNvStSmp3gVf_jG1g',\n",
       "   'UCflb1gG-X1dy1Ru5JIk5sPw',\n",
       "   'UCNDUud96oGK5xQ9gyg913vw']},\n",
       " {'UC6MFZAOHXlKK1FI7V0XQVeA': ['UCSHsNH4FZXFeSQMJ56AdrBA']}]"
      ]
     },
     "execution_count": 21,
     "metadata": {},
     "output_type": "execute_result"
    }
   ],
   "source": [
    "yt.get_featured_channels(channel_ids, key)"
   ]
  },
  {
   "cell_type": "markdown",
   "metadata": {},
   "source": [
    "Subscriptions can only done one channel at a time:"
   ]
  },
  {
   "cell_type": "code",
   "execution_count": 22,
   "metadata": {},
   "outputs": [
    {
     "data": {
      "text/plain": [
       "[OrderedDict([('subscription_title', 'VICE Arabia'),\n",
       "              ('subscription_channel_id', 'UCIZ3xweMcx1XUlcwRESbmBw'),\n",
       "              ('subscription_kind', 'youtube#channel'),\n",
       "              ('subscription_publish_date',\n",
       "               datetime.datetime(2017, 11, 27, 23, 21, 22)),\n",
       "              ('collection_date',\n",
       "               datetime.datetime(2018, 5, 31, 22, 31, 44, 208663))]),\n",
       " OrderedDict([('subscription_title', 'First We Feast'),\n",
       "              ('subscription_channel_id', 'UCPD_bxCRGpmmeQcbe2kpPaA'),\n",
       "              ('subscription_kind', 'youtube#channel'),\n",
       "              ('subscription_publish_date',\n",
       "               datetime.datetime(2017, 8, 2, 17, 37, 4)),\n",
       "              ('collection_date',\n",
       "               datetime.datetime(2018, 5, 31, 22, 31, 44, 208694))]),\n",
       " OrderedDict([('subscription_title', 'Tonic'),\n",
       "              ('subscription_channel_id', 'UCroeDtD1dtd1leuxUHDMTXQ'),\n",
       "              ('subscription_kind', 'youtube#channel'),\n",
       "              ('subscription_publish_date',\n",
       "               datetime.datetime(2017, 5, 4, 18, 34, 46)),\n",
       "              ('collection_date',\n",
       "               datetime.datetime(2018, 5, 31, 22, 31, 44, 208718))]),\n",
       " OrderedDict([('subscription_title', 'CookingShooking'),\n",
       "              ('subscription_channel_id', 'UCfwHP1M0AFSPqTdjzXhV0Zg'),\n",
       "              ('subscription_kind', 'youtube#channel'),\n",
       "              ('subscription_publish_date',\n",
       "               datetime.datetime(2017, 2, 23, 5, 32, 55)),\n",
       "              ('collection_date',\n",
       "               datetime.datetime(2018, 5, 31, 22, 31, 44, 208741))]),\n",
       " OrderedDict([('subscription_title', 'Waypoint'),\n",
       "              ('subscription_channel_id', 'UCWu9QuHF-dcakBmhullIH6w'),\n",
       "              ('subscription_kind', 'youtube#channel'),\n",
       "              ('subscription_publish_date',\n",
       "               datetime.datetime(2016, 11, 8, 1, 50, 22)),\n",
       "              ('collection_date',\n",
       "               datetime.datetime(2018, 5, 31, 22, 31, 44, 208763))]),\n",
       " OrderedDict([('subscription_title', 'Desus & Mero'),\n",
       "              ('subscription_channel_id', 'UCNDUud96oGK5xQ9gyg913vw'),\n",
       "              ('subscription_kind', 'youtube#channel'),\n",
       "              ('subscription_publish_date',\n",
       "               datetime.datetime(2016, 10, 13, 21, 12, 26)),\n",
       "              ('collection_date',\n",
       "               datetime.datetime(2018, 5, 31, 22, 31, 44, 208785))]),\n",
       " OrderedDict([('subscription_title', 'VICE en Español'),\n",
       "              ('subscription_channel_id', 'UCYB6UxeSTHJyEMq-clobnrg'),\n",
       "              ('subscription_kind', 'youtube#channel'),\n",
       "              ('subscription_publish_date',\n",
       "               datetime.datetime(2016, 10, 4, 17, 43, 39)),\n",
       "              ('collection_date',\n",
       "               datetime.datetime(2018, 5, 31, 22, 31, 44, 208807))]),\n",
       " OrderedDict([('subscription_title', 'Dan Churchill'),\n",
       "              ('subscription_channel_id', 'UCaSF0d06nxqCfeuxge5TWxw'),\n",
       "              ('subscription_kind', 'youtube#channel'),\n",
       "              ('subscription_publish_date',\n",
       "               datetime.datetime(2016, 8, 3, 1, 57, 16)),\n",
       "              ('collection_date',\n",
       "               datetime.datetime(2018, 5, 31, 22, 31, 44, 208829))]),\n",
       " OrderedDict([('subscription_title', 'Foodbeast'),\n",
       "              ('subscription_channel_id', 'UC2BFx9glnPZ-fK3UPDo3V3A'),\n",
       "              ('subscription_kind', 'youtube#channel'),\n",
       "              ('subscription_publish_date',\n",
       "               datetime.datetime(2016, 6, 1, 17, 11, 33)),\n",
       "              ('collection_date',\n",
       "               datetime.datetime(2018, 5, 31, 22, 31, 44, 208851))]),\n",
       " OrderedDict([('subscription_title', 'VICELAND'),\n",
       "              ('subscription_channel_id', 'UCWF0PiUvUi3Jma2oFgaiX2w'),\n",
       "              ('subscription_kind', 'youtube#channel'),\n",
       "              ('subscription_publish_date',\n",
       "               datetime.datetime(2016, 1, 22, 18, 43, 44)),\n",
       "              ('collection_date',\n",
       "               datetime.datetime(2018, 5, 31, 22, 31, 44, 208873))]),\n",
       " OrderedDict([('subscription_title', 'Live Nation Productions'),\n",
       "              ('subscription_channel_id', 'UCuKKZcFYDeI6ovM6sujV_zg'),\n",
       "              ('subscription_kind', 'youtube#channel'),\n",
       "              ('subscription_publish_date',\n",
       "               datetime.datetime(2015, 9, 14, 15, 33, 47)),\n",
       "              ('collection_date',\n",
       "               datetime.datetime(2018, 5, 31, 22, 31, 44, 208894))]),\n",
       " OrderedDict([('subscription_title', 'Amuse'),\n",
       "              ('subscription_channel_id', 'UCflb1gG-X1dy1Ru5JIk5sPw'),\n",
       "              ('subscription_kind', 'youtube#channel'),\n",
       "              ('subscription_publish_date',\n",
       "               datetime.datetime(2015, 9, 8, 17, 12, 44)),\n",
       "              ('collection_date',\n",
       "               datetime.datetime(2018, 5, 31, 22, 31, 44, 208916))]),\n",
       " OrderedDict([('subscription_title', 'Broadly'),\n",
       "              ('subscription_channel_id', 'UCfQDD-pbllOCXHYwiXxjJxA'),\n",
       "              ('subscription_kind', 'youtube#channel'),\n",
       "              ('subscription_publish_date',\n",
       "               datetime.datetime(2015, 7, 10, 20, 38, 8)),\n",
       "              ('collection_date',\n",
       "               datetime.datetime(2018, 5, 31, 22, 31, 44, 208938))]),\n",
       " OrderedDict([('subscription_title', 'Gordon Ramsay'),\n",
       "              ('subscription_channel_id', 'UCIEv3lZ_tNXHzL3ox-_uUGQ'),\n",
       "              ('subscription_kind', 'youtube#channel'),\n",
       "              ('subscription_publish_date',\n",
       "               datetime.datetime(2015, 6, 26, 19, 46, 17)),\n",
       "              ('collection_date',\n",
       "               datetime.datetime(2018, 5, 31, 22, 31, 44, 208959))]),\n",
       " OrderedDict([('subscription_title', 'Andy Milonakis'),\n",
       "              ('subscription_channel_id', 'UC5e0xSqwDGlRg3sdvGQh7lg'),\n",
       "              ('subscription_kind', 'youtube#channel'),\n",
       "              ('subscription_publish_date',\n",
       "               datetime.datetime(2014, 12, 17, 21, 14, 48)),\n",
       "              ('collection_date',\n",
       "               datetime.datetime(2018, 5, 31, 22, 31, 44, 208981))]),\n",
       " OrderedDict([('subscription_title', 'Action Bronson'),\n",
       "              ('subscription_channel_id', 'UC2utQmYluWGlhV-W0rTA2wg'),\n",
       "              ('subscription_kind', 'youtube#channel'),\n",
       "              ('subscription_publish_date',\n",
       "               datetime.datetime(2014, 11, 4, 15, 31, 19)),\n",
       "              ('collection_date',\n",
       "               datetime.datetime(2018, 5, 31, 22, 31, 44, 209003))]),\n",
       " OrderedDict([('subscription_title', 'Fightland'),\n",
       "              ('subscription_channel_id', 'UCVfmHpXONv-LVACBV68tq5Q'),\n",
       "              ('subscription_kind', 'youtube#channel'),\n",
       "              ('subscription_publish_date',\n",
       "               datetime.datetime(2014, 10, 7, 17, 50, 32)),\n",
       "              ('collection_date',\n",
       "               datetime.datetime(2018, 5, 31, 22, 31, 44, 209025))]),\n",
       " OrderedDict([('subscription_title', 'CookItRawLapland'),\n",
       "              ('subscription_channel_id', 'UCTTMZrH1FNnE285uaOCVFwg'),\n",
       "              ('subscription_kind', 'youtube#channel'),\n",
       "              ('subscription_publish_date',\n",
       "               datetime.datetime(2014, 9, 10, 15, 15, 33)),\n",
       "              ('collection_date',\n",
       "               datetime.datetime(2018, 5, 31, 22, 31, 44, 209046))]),\n",
       " OrderedDict([('subscription_title', 'YouTube Nation'),\n",
       "              ('subscription_channel_id', 'UCUD4yDVyM54QpfqGJX4S7ng'),\n",
       "              ('subscription_kind', 'youtube#channel'),\n",
       "              ('subscription_publish_date',\n",
       "               datetime.datetime(2014, 8, 28, 19, 14, 49)),\n",
       "              ('collection_date',\n",
       "               datetime.datetime(2018, 5, 31, 22, 31, 44, 209068))]),\n",
       " OrderedDict([('subscription_title', 'Brothers Green Eats'),\n",
       "              ('subscription_channel_id', 'UCzH5n3Ih5kgQoiDAQt2FwLw'),\n",
       "              ('subscription_kind', 'youtube#channel'),\n",
       "              ('subscription_publish_date',\n",
       "               datetime.datetime(2014, 8, 26, 14, 44, 40)),\n",
       "              ('collection_date',\n",
       "               datetime.datetime(2018, 5, 31, 22, 31, 44, 209090))]),\n",
       " OrderedDict([('subscription_title', 'i-D'),\n",
       "              ('subscription_channel_id', 'UC9ISPZsMaBi5mutsgX6LC1g'),\n",
       "              ('subscription_kind', 'youtube#channel'),\n",
       "              ('subscription_publish_date',\n",
       "               datetime.datetime(2014, 7, 23, 23, 36, 29)),\n",
       "              ('collection_date',\n",
       "               datetime.datetime(2018, 5, 31, 22, 31, 44, 209111))]),\n",
       " OrderedDict([('subscription_title', 'VICE News'),\n",
       "              ('subscription_channel_id', 'UCZaT_X_mc0BI-djXOlfhqWQ'),\n",
       "              ('subscription_kind', 'youtube#channel'),\n",
       "              ('subscription_publish_date',\n",
       "               datetime.datetime(2014, 7, 23, 23, 36, 26)),\n",
       "              ('collection_date',\n",
       "               datetime.datetime(2018, 5, 31, 22, 31, 44, 209133))]),\n",
       " OrderedDict([('subscription_title', 'VICE Sports'),\n",
       "              ('subscription_channel_id', 'UC8C8WuWSsFjWFaTHcUQeQxA'),\n",
       "              ('subscription_kind', 'youtube#channel'),\n",
       "              ('subscription_publish_date',\n",
       "               datetime.datetime(2014, 5, 23, 15, 32, 17)),\n",
       "              ('collection_date',\n",
       "               datetime.datetime(2018, 5, 31, 22, 31, 44, 209154))]),\n",
       " OrderedDict([('subscription_title', 'VICE Japan'),\n",
       "              ('subscription_channel_id', 'UCiZCX1R1F3xYGbeXq1JscKA'),\n",
       "              ('subscription_kind', 'youtube#channel'),\n",
       "              ('subscription_publish_date',\n",
       "               datetime.datetime(2014, 5, 20, 21, 28, 55)),\n",
       "              ('collection_date',\n",
       "               datetime.datetime(2018, 5, 31, 22, 31, 44, 209175))]),\n",
       " OrderedDict([('subscription_title', 'THUMP'),\n",
       "              ('subscription_channel_id', 'UCS6R2iiAJ1FvEYl4B3zmljw'),\n",
       "              ('subscription_kind', 'youtube#channel'),\n",
       "              ('subscription_publish_date',\n",
       "               datetime.datetime(2014, 5, 20, 21, 28, 54)),\n",
       "              ('collection_date',\n",
       "               datetime.datetime(2018, 5, 31, 22, 31, 44, 209197))]),\n",
       " OrderedDict([('subscription_title', 'Creators'),\n",
       "              ('subscription_channel_id', 'UC_NaA2HkWDT6dliWVcvnkuQ'),\n",
       "              ('subscription_kind', 'youtube#channel'),\n",
       "              ('subscription_publish_date',\n",
       "               datetime.datetime(2014, 5, 20, 21, 28, 52)),\n",
       "              ('collection_date',\n",
       "               datetime.datetime(2018, 5, 31, 22, 31, 44, 209218))]),\n",
       " OrderedDict([('subscription_title', 'Motherboard'),\n",
       "              ('subscription_channel_id', 'UCB6PV0cvJpzlcXRG7nz6PpQ'),\n",
       "              ('subscription_kind', 'youtube#channel'),\n",
       "              ('subscription_publish_date',\n",
       "               datetime.datetime(2014, 5, 20, 21, 28, 52)),\n",
       "              ('collection_date',\n",
       "               datetime.datetime(2018, 5, 31, 22, 31, 44, 209240))]),\n",
       " OrderedDict([('subscription_title', 'VICE'),\n",
       "              ('subscription_channel_id', 'UCn8zNIfYAQNdrFRrr8oibKw'),\n",
       "              ('subscription_kind', 'youtube#channel'),\n",
       "              ('subscription_publish_date',\n",
       "               datetime.datetime(2014, 5, 20, 21, 28, 50)),\n",
       "              ('collection_date',\n",
       "               datetime.datetime(2018, 5, 31, 22, 31, 44, 209262))]),\n",
       " OrderedDict([('subscription_title', 'Noisey'),\n",
       "              ('subscription_channel_id', 'UC0iwHRFpv2_fpojZgQhElEQ'),\n",
       "              ('subscription_kind', 'youtube#channel'),\n",
       "              ('subscription_publish_date',\n",
       "               datetime.datetime(2014, 5, 20, 21, 28, 46)),\n",
       "              ('collection_date',\n",
       "               datetime.datetime(2018, 5, 31, 22, 31, 44, 209283))])]"
      ]
     },
     "execution_count": 22,
     "metadata": {},
     "output_type": "execute_result"
    }
   ],
   "source": [
    "yt.get_subscriptions(channel_id, key)"
   ]
  },
  {
   "cell_type": "markdown",
   "metadata": {
    "collapsed": true
   },
   "source": [
    "You can also get the comments for a given video"
   ]
  },
  {
   "cell_type": "code",
   "execution_count": 23,
   "metadata": {},
   "outputs": [
    {
     "data": {
      "text/plain": [
       "[OrderedDict([('commenter_channel_url',\n",
       "               'http://www.youtube.com/channel/UCYGU2AxOlL_sp2NiSOrRjHQ'),\n",
       "              ('commenter_channel_display_name', 'noone mate'),\n",
       "              ('comment_id', 'UgxknTqpvAGynNNboyV4AaABAg'),\n",
       "              ('comment_like_count', 1),\n",
       "              ('comment_publish_date',\n",
       "               datetime.datetime(2018, 6, 1, 0, 4, 31)),\n",
       "              ('text',\n",
       "               '0:38 That was awkward as fuck, and you can tell that guy has never fished before lmao'),\n",
       "              ('video_id', 'IEDp9GQPk2I'),\n",
       "              ('commenter_rating', 'none'),\n",
       "              ('comment_parent_id', None),\n",
       "              ('collection_date',\n",
       "               datetime.datetime(2018, 5, 31, 22, 31, 45, 35385))]),\n",
       " OrderedDict([('commenter_channel_url',\n",
       "               'http://www.youtube.com/channel/UCHhGJoYGROULv0wOXCEtduQ'),\n",
       "              ('commenter_channel_display_name', 'Ethannesss'),\n",
       "              ('comment_id', 'UgxZbLmp1IrUD0E1Grd4AaABAg'),\n",
       "              ('comment_like_count', 0),\n",
       "              ('comment_publish_date',\n",
       "               datetime.datetime(2018, 5, 31, 23, 27, 35)),\n",
       "              ('text', 'Matt you are cute.'),\n",
       "              ('video_id', 'IEDp9GQPk2I'),\n",
       "              ('commenter_rating', 'none'),\n",
       "              ('comment_parent_id', None),\n",
       "              ('collection_date',\n",
       "               datetime.datetime(2018, 5, 31, 22, 31, 45, 35424))])]"
      ]
     },
     "execution_count": 23,
     "metadata": {},
     "output_type": "execute_result"
    }
   ],
   "source": [
    "yt.get_video_comments(video_id[0])[:2]"
   ]
  },
  {
   "cell_type": "markdown",
   "metadata": {},
   "source": [
    "For more text we can get closed captions!"
   ]
  },
  {
   "cell_type": "code",
   "execution_count": 24,
   "metadata": {
    "collapsed": true
   },
   "outputs": [],
   "source": [
    "vid = 'hEDK3tC43SQ'"
   ]
  },
  {
   "cell_type": "code",
   "execution_count": 25,
   "metadata": {
    "collapsed": true
   },
   "outputs": [],
   "source": [
    "captions = yt.get_captions(vid, verbose=False)"
   ]
  },
  {
   "cell_type": "code",
   "execution_count": 26,
   "metadata": {},
   "outputs": [
    {
     "data": {
      "text/plain": [
       "OrderedDict([('video_id', 'hEDK3tC43SQ'),\n",
       "             ('caption',\n",
       "              'Samantha: Ready to check out the Flavor Graveyard? Isaac: Yeah. There\\'s a bunch of tombstones in here to our dearly de-pinted flavors. We retire flavors that just aren\\'t selling. What do we got right here? Economic Crunch. \"A delightful mash. This flavor we remember for the stock market crash on the 6th of November. We hardly knew you.\" Have you ever seen someone just fully break down here and just start sobbing? I have not, but I wouldn\\'t be surprised. Yeah, I mean, it\\'s a sad place. ♪♪ ♪♪ Damn! You\\'re too young! ♪♪ ♪♪ ♪♪ ♪♪ I\\'m Isaac Lappert. And as an ice-cream maker and businessman myself, I am very interested in the business of ice cream. We\\'re starting in Sausalito, where I\\'ll introduce you to my family\\'s own Lappert\\'s Ice Cream. We\\'re on the smaller side with 10 shops in 2 states, but I\\'m curious about the pros and cons of expanding. So, I\\'m going to Jeni\\'s Splendid Ice Creams, a pioneer of the artisanal ice-cream trend that started in the Midwest, but is spreading across the country like wildfire. And last but not least, we\\'ll get an exclusive look at the inner workings of Ben & Jerry\\'s, an ice-cream kingpin in the heart of Vermont that revolutionized the texture of ice cream with their world-famous chunky pints. But our first stop, my hometown, Sausalito. Hi. How are you doing? Damn. Here you go. Anything else? No, that\\'s it. Thank you. Lappert\\'s Ice Cream was started by my grandfather 35 years ago now. We\\'re in Hawaii, we\\'re in Sausalito, but it\\'s been solely run by my grandfather, my dad, and now me. I\\'ve always loved this business to death. I remember pressing my dad to let me come to the ice-cream shop with him when I was just 6 years old. I worked there through my teens and when I turned 16, I dropped out of high school. By that point, ice cream had become my obsession. Arturo, our ice-cream delivery man is stopping in our shop here in Sausalito, our flagship store. This thing holds up to, like, 1,000 tubs. They came directly from our factory in the East Bay. Half of them are just going to this shop because this is, like, a crazy-busy shop. ♪♪ We don\\'t mess around here. There you go. Macadamia nut. We have this one, horchata, which is caramel and horchata ice cream. Do you want to try it? My dad is very easy and fun to work with. I\\'ve watched my dad do sales since I was a little kid. He never sat back, always worked, and watched him build this company. And he was happy doing it the whole time. I mean, it\\'s ice cream. I stopped really caring about school at a frighteningly young age. Yeah, yeah. I was like, \"I\\'m gonna work for the company. This is what I love to do, and I\\'m gonna just be involved in this and help it expand one day.\" Did you foresee me eventually doing what we\\'re doing today? No. I always thought, \"Okay, these guys are gonna develop into something. Let\\'s see what happens.\" When you started to show an interest in it, I sort of nurtured that. -Right. I said, \"Okay, he wants to work, let him work.\" And maybe I should have been a little bit more strict about you going to school and all that and finishing, but it was hard for me to push that too much when you started to find out that I didn\\'t go to school either. [ Laughs ] Mm. This is really good. What do you think is the secret of success of running an ice-cream parlor? The secret of success of running an ice-cream parlor, or for that matter, any business, is belief in what you\\'re doing, liking what you\\'re doing, and never giving up. You call it survival. That\\'s, literally, what it is. We have 10 locations right now. We own it. -Right. We don\\'t have investors, we don\\'t have any of that. No. Why is it that you don\\'t want to franchise our company? Franchise the company. All right. Well, you\\'re right, I\\'ve tried all of it. Dipped my toe in it just to get a sense, and I just decided, no. I\\'d rather make ice cream, own some shops, be happy. You want to make it something huge? Feel free. Just don\\'t get me involved in it. I got other things to do. Let\\'s make a three-scoop sundae. I\\'m going to choose three flavors that really define what our company\\'s all about. The first one is Kauai Pie -- it\\'s coffee ice cream, chocolate fudge, toasted coconut, and macadamia nut. This is just, like, one of the trademark flavors of our company. Then we\\'ll go with Date Casablanca, which is almost like a vanilla with caramel and candied dates. And Horchata Cajeta -- cajeta is like a Mexican-spiced caramel. A lot of people love horchata when they go in the taqueria, so we turned it into a flavor. We always try to bring unique flavors to the company that you maybe don\\'t see all the time. Small scoop of strawberry... and some of our hot fudge. Some whipped cream, of course. We use macadamia nuts. You know, you see almonds all the time, peanuts or something, why not macadamia. They\\'re the most fatty and then some chocolate chips. Get them all over the place. Rainbow sprinkles. There you go. It\\'s just a nice three-scoop classic sundae. As I\\'m counting like 20 different flavors in one bite just alone right here. That\\'s the best ice cream I\\'ve ever had. Coming up on \"The Ice Cream Show\"... I went from being an artist to being a scientist, and then sort of met in the middle. ♪♪ ♪♪ Isaac: Jeni\\'s, which started out in 2002 as a brick and mortar in Columbus, Ohio, found success banking on the popularity of their creamy texture and memorable flavors. There are now over 30 shops nationwide. I want to sit down with the founder, Jeni Britton-Bauer, and pick her brain about the logistics of going from small to big business. Hi. How you doing? -Hi. -Isaac Lappert. Hey, I\\'m Jeni Britton-Bauer. -Nice to meet you. -Nice to meet you. So, I think I should try Sweet Cream to begin. I think you should try Sweet Cream to begin, because it\\'s the sort of foundation... -Yes. -...of everything that we do. That is an amazing -- right away, solid, just, like, nice texture. And just, like, a really potent, good background flavor. What is your background with food? How did it all begin? It all began when I was very -- half my life ago, I decided that I wanted to be a perfumer. It was sort of a, you know, I was trying to figure out what I was going to do in my life. Yeah. I had a lot of essential oils that I had collected -- some very expensive, some less expensive. And I started using ice cream, on a whim, to carry the scent. So, perfumers use fat that\\'s solid at room temperature and will melt immediately on contact with your skin or very high-proof alcohol. But one day, I started using ice cream as the carrier of scent. And when I did that, I realized that even inexpensive vanilla ice cream -- every vanilla ice cream in all ice creams can be thought of as an edible perfume almost. And that changed how I thought about everything. You know, really what it was, was I went from being an artist to being a scientist and then sort of met in the middle. So, okay, I\\'m looking at Salty Caramel here, and word on the street is that you were the inventor of the salted caramel movement. I started making, from day one, a caramel that was caramelized sugar with cream and vanilla and an extra big pinch of salt. Yeah. So, it\\'s actually a little more salt than what, traditionally, a salted caramel is. And so, this is a perfect example, too, of how ice cream, sort of, blooms -- like, as it melts on your tongue and then all of that scent, because caramel is a scent. Yeah, that texture is just amazing. Like, right away, I just like how much it just coats the tongue palate. You get all the flavors right away. There\\'s just something unique about it. I mean, the salt and the caramel is perfect. You\\'ve got that down, and it just has, like, a nice, lingering body. You know, it doesn\\'t disappear. That\\'s what I love about this, so far. You invented this whole new style of making ice cream. There\\'s a full-on recipe in science. Yeah. Your boy is here making some fresh waffle cones. I can\\'t pass that up. So, how about a waffle cone with one scoop of the Salted Caramel and I\\'m going to go with that lemon and blueberries. You\\'ve got my two favorites. -Yeah. -Great. -Thank you. -There you go. Oh, it\\'s still warm, too. While I enjoy this double scoop you got me here, can I pick your brain a little bit about your experience in the ice-cream business? I would love to. Yeah. Let\\'s do that. All right. I wanted to be a grown up in charge of my life when I was 12. My grandmother said to me one day, \"As a woman, you can be anything that you want to be. You can be a doctor, you can be a lawyer, you could be an astronaut if you want to. Like, it\\'s not the same for me. It wasn\\'t the same for me when I was growing up, and you\\'re really lucky.\" And I chose exactly what I wanted to be, an ice-cream maker. My first shop was in Ohio. Okay. Was it, like, an instant success? Jeni\\'s was a big success when we first opened. I mean, we weren\\'t even ready for it, which was amazing. But it wasn\\'t enough to sustain our entire life and all of the things we wanted to do. So, we opened another store not too far away in another great neighborhood in our city. And again, we had lines around the block and around the corner. How many shops do you have now? So, now we have 32 stores. That\\'s one of my big questions is how do you control your quality that people originally loved you so much for... Mm-hmm. ...but grow into what you are now today? We had three stores when I realized that growth can actually help us make better ice cream versus hinder us. We have this thing in America where we think that the mom-and-pop businesses can actually make better stuff than the bigger businesses. And it\\'s simply not true -- not from my perspective. -Wow. -Because what happens is... Old myth debunked right now. Because I thought -- I would think that, yeah. ...especially in ice cream. Especially in ice cream. Because now we\\'re going through more milk every week. Now we\\'re going through more vanilla beans. So, we can go direct to the source for vanilla beans. I mean, literally, directly to the farm in Uganda. And we have three channels -- we have our shops, we have our pint grocery business, and then we have our website. And they\\'re very, very different businesses. Our ability to ship on our website enabled so much of our growth, even now when we open stores. The whole reason we\\'re in Los Angeles is because it was one of our biggest shipping destinations. We\\'re looking for people who want our ice cream. You know, and as those people grow in number, we want to supply the ice cream for those people, right? And so, as long as there are people buying our ice creams, we want to continue growing, right? And there are a lot of people out there in America right now who want our ice creams who can\\'t get it at their local stores. So, that is really inspiring for me to want to get our ice creams to them. It\\'s a great problem to have. Because I have the same one. You know, there is a demand out there. But I like what you\\'re saying. Finding those pockets of people where there\\'s more of them than other places and then just, you know, filling in the gaps. I can sincerely tell you that I\\'ve learned a lot today. And it\\'s really exciting to hear that you can grow, and the quality can actually get better -- that\\'s good advice. Isaac: Coming up on \"The Ice Cream Show\"... Whoo! Isaac: With a $5 ice-cream course under their belt, Jerry Greenfield and Ben Cohen had no idea that their business would turn into one of the largest ice-cream companies in the world. We\\'re heading to Waterbury, Vermont, where I\\'d like to find out how a company can grow so big and hold on to their ideals and the quality of their ice cream. How you doing? -Hey, there. How are you? -Good. I\\'m Isaac. -Hi, I\\'m Sam. Welcome to the Ben & Jerry\\'s factory. So, this is the original? This is the original factory -- 1986. And in that time, we\\'ve opened six factories -- two here in Vermont, one in Nevada... Henderson, Nevada, and another in Canada. Our furthest is over in Holland. -Holland. Wow. -Yeah, Holland. Are you ready to go on a tour? Yeah, definitely. ♪♪ Samantha: In this very room, Ben and Jerry, themselves taste-tested and created a lot of those famous flavors you know today. This is the historic room where all the magic was made. This is it! Isn\\'t that cool? -Cool. -Yeah. Are you ready to go eat some ice cream? Yes. What\\'s inside of it? So, this is a fair-trade certified vanilla ice cream with a chocolate cookie swirl, chocolate chip, and chocolate, chocolate chip cookie pieces. Very, very good. You guys have a great swirl combination going here. And I like the ratio because it\\'s not completely masking the vanilla base. Yeah. That\\'s still getting a lot of it through. And this is the Waterbury Ben & Jerry\\'s production floor. -Wow. -So, really kind of cool. ♪ Hallelujah, Hallelujah ♪ ♪ Hallelujah, Hallelujah, Hallelujah ♪ Samantha: We\\'re making one of our fan favorites today. Maybe you\\'ve heard of it -- Cherry Garcia. One of our classic and original flavors. Isaac: How many pints in one day -- how about in 24 hours -- will you guys pump out? So, we can typically make anywhere from 300,000 to 400,000 pints a day. And how many pints do you take home a day? How many pints do I take home? -Yeah. -Three pints a day. Do you? Not to mention I can eat all the ice cream I want at work. Isaac: To get a better understanding of Ben & Jerry\\'s business roots, I\\'m meeting with C.E.O., Jostein Solheim, who has helped run the company since 2010. What year did Ben & Jerry\\'s start? Ben & Jerry\\'s was started in 1978, right down here in Burlington in a renovated gas station. They did very quickly realize that just being in the scoop shop and waiting for the people to come might not be enough. So, that\\'s when they bought a reconditioned truck and Ben hit the road and started selling in hand-filled pints. The business started to grow. They needed to move on to a different premise, to make more ice cream. You know, after some years, they were going to shut down the business because it actually was going quite well. And they were saying, \"Holy crap, we\\'re becoming businessmen. And we don\\'t want to be businessmen.\" And in \\'88, they really formalized the principles by which we operate still today. They really democratized the culture very early on. They basically came up with a three-part mission to make the absolutely best possible product. And we are ice-cream makers. We want to make it in the most natural way. And we want to make it with the least negative impact on the environment. Then there\\'s an economic mission. We want to be able to invest and grow and expand. And then, there\\'s a social mission. And the social mission is we need to have a positive impact on human rights, social justice, environmental justice, through our growth. What are Ben and Jerry doing right now? Well, so, both Jerry and Ben still work for the company, technically. But they basically are engaged with their issues that they\\'re passionate about. But for us, the core is the product. This product is a pain in the ass to make. This is truly not assigned to be made industrially. Our people are committed. They really are passionate about what we do. And I think that\\'s why it still works. But it\\'s not easy. And now we\\'re up to producing 250 pints a minute. That\\'s insane. Isaac: One of the biggest reasons these pints are so hard to make is because they\\'re always going after a perfect, crunchy swirl. The reason their ice cream is so chunky is because Ben has anosmia, which is the lack of smell and taste. He can only enjoy the texture of food, so they added larger and larger chunks until he was satisfied. I want to get a closer look at this operation from the ground floor, so I\\'m meeting up with Claire to walk me through. Whoo! Coming up on \"The Ice Cream Show\"... It\\'s a brownie. And on top it has a flan base. Then we drizzle it with honey guajillo caramel swirl. Isaac: Yes. I figure I\\'ll put this into a pint and see how it works. Isaac: Ben & Jerry\\'s employs 10 flavor gurus whose entire job consists of experimenting with ice cream in an ice-cream lab. One of the lucky six who spends her day in the test kitchen is Natalia Butler. We would like to give you the full VIP treatment. And we have a couple of things that you can wear today with me. I like this one. This is a cow vest. Yes. So, do you make all your guests wear these? No, this is a very special invitation, so very fashionable. Huh, some of those, some of these. Yes. Yes, yes. All right. Do I look good in this jacket? You look amazing. Like, I feel confident, like I just got a haircut or something. How long have you been the flavor guru for Ben & Jerry\\'s? I have been flavor guru for a year. I have a Bachelor\\'s in chemistry and a Master\\'s in food science. Cool. So, what are we doing today? So, today, because I\\'m Hispanic, I decided to take a little spin on a deconstructed flan brownie. It\\'s a brownie and on top it has a flan base. Then we drizzle it with honey guajillo caramel swirl. Yes. I figure I\\'ll put this into a pint and see how it works. This is a traditional dessert that you had growing up? Yes. This is the first time I\\'m trying this, so... So, we\\'re making history here. -We are making history. -Okay, cool. So, the first step is we\\'re going to make a flan ice-cream base. What\\'s inside here right now? That would be vanilla beans, condensed milk and evaporated milk and cream. The traditional flan is almost like a little jello pudding kind of thing. -Correct. -Okay, cool. We\\'re going to start adding our flan base. Okay. This is a mix that comes from our manufacturing here in Vermont. It\\'s cream, milk, eggs, and sugar. What kind of consistency are you looking for right now? Not too thick. You want a creamy milk feel. We\\'re going to check for flavor and see how we are. Okay. All right, so we definitely diluted that flan down a lot. Yeah. We do have -- It\\'s nice to be able to geek out with somebody that knows about ice cream like me. That\\'s awesome. It\\'s full -- I get the vanilla. I get the custard. -Yeah. -You agree? -Yes. Okay, so, we\\'re gonna go and start our freezing process. Ooh. We\\'re going to be making an honey guajillo caramel swirl. Guajillo is a Mexican pepper that is getting a lot of popularity. We\\'re gonna go ahead and pour our chunks. So we are just gonna see -- so it\\'s very smooth, it\\'s soft-serve, we see the specks of the vanilla. Are we going to do some swirls now? So, we\\'re going to do some swirling. So, you\\'re going to go very close to me. Okay. Ooooh. And that\\'s how we get it done. I don\\'t know if anyone\\'s ever made a flan, guajillo pepper, caramel, brownie chunk. -Yeah. So, we are making history. I want to see if it works. Cool. So, that\\'s it. That\\'s it. Let\\'s dig in. How is it? -It\\'s great. The guajillo I\\'ve noticed gives it a lot of personality. We have brownie and we\\'ve got flan -- this was a successful first try. There you go. Sometimes, two heads works out in the kitchen. It does. It does. So, now, you get to name your own ice cream. South of the Border Where Guajillo Owns a Brownie Flan. That sounds great. It sounds like a children\\'s book. Maybe a couple more bites. Isaac: Lappert\\'s Ice Cream is just me and my dad, so I really appreciate all I\\'ve learned from visiting bigger ice-cream businesses. And if Jeni\\'s and Ben & Jerry\\'s have taught me anything, it\\'s that a business can expand without sacrificing quality. ♪ La la la la la ♪'),\n",
       "             ('collection_date',\n",
       "              datetime.datetime(2018, 5, 31, 22, 32, 7, 700465))])"
      ]
     },
     "execution_count": 26,
     "metadata": {},
     "output_type": "execute_result"
    }
   ],
   "source": [
    "captions"
   ]
  },
  {
   "cell_type": "markdown",
   "metadata": {
    "collapsed": true
   },
   "source": [
    "You can also get the recommended videos for any given video"
   ]
  },
  {
   "cell_type": "code",
   "execution_count": 27,
   "metadata": {
    "collapsed": true
   },
   "outputs": [],
   "source": [
    "recommended_vids = yt.get_recommended_videos(vid)"
   ]
  },
  {
   "cell_type": "code",
   "execution_count": 28,
   "metadata": {},
   "outputs": [
    {
     "data": {
      "text/plain": [
       "[OrderedDict([('video_id', 'MeWMwwRfwFI'),\n",
       "              ('channel_title', 'Munchies'),\n",
       "              ('channel_id', 'UCaLfMkkHhSA_LaCta0BzyhQ'),\n",
       "              ('video_publish_date',\n",
       "               datetime.datetime(2015, 4, 16, 15, 12, 17)),\n",
       "              ('video_title',\n",
       "               'Making Cold-Stoned Sundaes with the Cannabis Creamery: BONG APPÉTIT'),\n",
       "              ('video_description',\n",
       "               'Watch the first episode of SMOKEABLES: How to Make a Gravity Bong - http://bit.ly/28XSWBi\\n\\nIn this episode of Bong Appetit, host Abdullah Saeed checks out Cannabis Creamery, a Sausalito, CA-based ice cream company that is producing sweet THC-infused treats in a range of fantastic flavors. From classic mint-chip to a grapefruit sorbet originally designed for the Grateful Dead, this ice cream is dankly delicious.\\n\\nOwner Isaac Lappert takes us on a visit to the family’s original business—Lappert’s Ice Cream—to hear Cannabis Creamery’s origin story straight from the horse’s mouth. Isaac’s dad Michael flashes back to the 80s, when the Grateful Dead requested a batch of \"special\" ice cream—and the rest, as they say, is history.\\n\\nAfter checking out the factory where the medicinal magic happens, Isaac shows us how to make our own batch of cannabis-infused ice cream at home before rounding out the day with a weed ice cream social on the beautiful San Francisco Bay.\\n\\nUp Next: Grade A Sushi & Handmade Pasta - http://bit.ly/1HNowfv\\n\\nSubscribe to Munchies here: http://bit.ly/Subscribe-to-MUNCHIES\\n\\nCheck out http://munchies.tv for more!\\n\\nFollow Munchies here:\\nFacebook: http://facebook.com/munchies\\nTwitter: http://twitter.com/munchies\\nTumblr: http://munchies.tumblr.com\\nInstagram: http://instagram.com/munchiesvice\\nMore videos from the VICE network: https://www.fb.com/vicevideos'),\n",
       "              ('video_category', None),\n",
       "              ('video_thumbnail',\n",
       "               'https://i.ytimg.com/vi/MeWMwwRfwFI/hqdefault.jpg'),\n",
       "              ('collection_date',\n",
       "               datetime.datetime(2018, 5, 31, 22, 32, 7, 932947))]),\n",
       " OrderedDict([('video_id', 'GajbZY0l7oY'),\n",
       "              ('channel_title', 'Munchies'),\n",
       "              ('channel_id', 'UCaLfMkkHhSA_LaCta0BzyhQ'),\n",
       "              ('video_publish_date',\n",
       "               datetime.datetime(2018, 1, 10, 23, 58, 53)),\n",
       "              ('video_title', 'The Pizza Show: Rome'),\n",
       "              ('video_description',\n",
       "               \"When in Rome...The Pizza Show is gonna eat a lot of pizza. Frank Pinello explores the Roman pizza scene, which is known for its two distinctive styles: pizza al taglio (rectangular and sold by weight), and pizza Romana tonda (round, thin and crisp). Whether you're grabbing a quick piece of al taglio at your local bakery or sitting down for a proper knife and fork pizza, there is no shortage of good pizza in Rome. From making pizza with Gabriele Bonci, the king of the al taglio style, to watching Stefano Callegari use ice cubes to create his iconic cacio e pepe pizza, Frank is in good pizza company.\\n\\nSubscribe to Munchies here: http://bit.ly/Subscribe-to-MUNCHIES\\n\\nCheck out http://munchies.tv for more!\\n\\nFollow Munchies here:\\nFacebook: http://facebook.com/munchies\\nTwitter: http://twitter.com/munchies\\nTumblr: http://munchies.tumblr.com\\nInstagram: http://instagram.com/munchies\\nPinterest: https://www.pinterest.com/munchies\\nFoursquare: https://foursquare.com/munchies\\nMore videos from the VICE network: https://www.fb.com/vicevideo\"),\n",
       "              ('video_category', None),\n",
       "              ('video_thumbnail',\n",
       "               'https://i.ytimg.com/vi/GajbZY0l7oY/hqdefault.jpg'),\n",
       "              ('collection_date',\n",
       "               datetime.datetime(2018, 5, 31, 22, 32, 7, 932983))])]"
      ]
     },
     "execution_count": 28,
     "metadata": {},
     "output_type": "execute_result"
    }
   ],
   "source": [
    "recommended_vids[:2]"
   ]
  },
  {
   "cell_type": "code",
   "execution_count": 29,
   "metadata": {},
   "outputs": [
    {
     "data": {
      "text/html": [
       "<div>\n",
       "<style scoped>\n",
       "    .dataframe tbody tr th:only-of-type {\n",
       "        vertical-align: middle;\n",
       "    }\n",
       "\n",
       "    .dataframe tbody tr th {\n",
       "        vertical-align: top;\n",
       "    }\n",
       "\n",
       "    .dataframe thead th {\n",
       "        text-align: right;\n",
       "    }\n",
       "</style>\n",
       "<table border=\"1\" class=\"dataframe\">\n",
       "  <thead>\n",
       "    <tr style=\"text-align: right;\">\n",
       "      <th></th>\n",
       "      <th>video_id</th>\n",
       "      <th>channel_title</th>\n",
       "      <th>channel_id</th>\n",
       "      <th>video_publish_date</th>\n",
       "      <th>video_title</th>\n",
       "      <th>video_description</th>\n",
       "      <th>video_category</th>\n",
       "      <th>video_thumbnail</th>\n",
       "      <th>collection_date</th>\n",
       "    </tr>\n",
       "  </thead>\n",
       "  <tbody>\n",
       "    <tr>\n",
       "      <th>0</th>\n",
       "      <td>MeWMwwRfwFI</td>\n",
       "      <td>Munchies</td>\n",
       "      <td>UCaLfMkkHhSA_LaCta0BzyhQ</td>\n",
       "      <td>2015-04-16 15:12:17</td>\n",
       "      <td>Making Cold-Stoned Sundaes with the Cannabis C...</td>\n",
       "      <td>Watch the first episode of SMOKEABLES: How to ...</td>\n",
       "      <td>None</td>\n",
       "      <td>https://i.ytimg.com/vi/MeWMwwRfwFI/hqdefault.jpg</td>\n",
       "      <td>2018-05-31 22:32:07.932947</td>\n",
       "    </tr>\n",
       "    <tr>\n",
       "      <th>1</th>\n",
       "      <td>GajbZY0l7oY</td>\n",
       "      <td>Munchies</td>\n",
       "      <td>UCaLfMkkHhSA_LaCta0BzyhQ</td>\n",
       "      <td>2018-01-10 23:58:53</td>\n",
       "      <td>The Pizza Show: Rome</td>\n",
       "      <td>When in Rome...The Pizza Show is gonna eat a l...</td>\n",
       "      <td>None</td>\n",
       "      <td>https://i.ytimg.com/vi/GajbZY0l7oY/hqdefault.jpg</td>\n",
       "      <td>2018-05-31 22:32:07.932983</td>\n",
       "    </tr>\n",
       "    <tr>\n",
       "      <th>2</th>\n",
       "      <td>VMUzoVslOBQ</td>\n",
       "      <td>VICELAND</td>\n",
       "      <td>UCWF0PiUvUi3Jma2oFgaiX2w</td>\n",
       "      <td>2018-04-13 13:57:01</td>\n",
       "      <td>Corned Beef On My Mind: IT'S SUPPERTIME! (Full...</td>\n",
       "      <td>A Jewish Deli in your own home! Matty shows yo...</td>\n",
       "      <td>None</td>\n",
       "      <td>https://i.ytimg.com/vi/VMUzoVslOBQ/hqdefault.jpg</td>\n",
       "      <td>2018-05-31 22:32:07.933010</td>\n",
       "    </tr>\n",
       "    <tr>\n",
       "      <th>3</th>\n",
       "      <td>JnmQd7kUDLo</td>\n",
       "      <td>VICE</td>\n",
       "      <td>UCn8zNIfYAQNdrFRrr8oibKw</td>\n",
       "      <td>2013-02-08 01:04:06</td>\n",
       "      <td>Munchies: Christina Tosi</td>\n",
       "      <td>This ridiculous mix of fun and sweet treats is...</td>\n",
       "      <td>None</td>\n",
       "      <td>https://i.ytimg.com/vi/JnmQd7kUDLo/hqdefault.jpg</td>\n",
       "      <td>2018-05-31 22:32:07.933035</td>\n",
       "    </tr>\n",
       "    <tr>\n",
       "      <th>4</th>\n",
       "      <td>vLQeb8LWyh0</td>\n",
       "      <td>Munchies</td>\n",
       "      <td>UCaLfMkkHhSA_LaCta0BzyhQ</td>\n",
       "      <td>2017-01-17 15:38:24</td>\n",
       "      <td>Family Food: One of a Kind Italian Deli Food a...</td>\n",
       "      <td>In this episode of Family Food, we head to Ton...</td>\n",
       "      <td>None</td>\n",
       "      <td>https://i.ytimg.com/vi/vLQeb8LWyh0/hqdefault.jpg</td>\n",
       "      <td>2018-05-31 22:32:07.933059</td>\n",
       "    </tr>\n",
       "    <tr>\n",
       "      <th>5</th>\n",
       "      <td>_bTabM6Nbx0</td>\n",
       "      <td>Munchies</td>\n",
       "      <td>UCaLfMkkHhSA_LaCta0BzyhQ</td>\n",
       "      <td>2017-06-28 19:51:41</td>\n",
       "      <td>Chef's Night Out in New York City with Scarr's...</td>\n",
       "      <td>Born and bred New Yorker Scarr Pimentel's Chef...</td>\n",
       "      <td>None</td>\n",
       "      <td>https://i.ytimg.com/vi/_bTabM6Nbx0/hqdefault.jpg</td>\n",
       "      <td>2018-05-31 22:32:07.933084</td>\n",
       "    </tr>\n",
       "    <tr>\n",
       "      <th>6</th>\n",
       "      <td>dr4HHepGxxM</td>\n",
       "      <td>Munchies</td>\n",
       "      <td>UCaLfMkkHhSA_LaCta0BzyhQ</td>\n",
       "      <td>2014-07-07 15:31:17</td>\n",
       "      <td>FARANG: The Story of Chef Andy Ricker of Pok P...</td>\n",
       "      <td>Subscribe to Munchies here: http://bit.ly/Subs...</td>\n",
       "      <td>None</td>\n",
       "      <td>https://i.ytimg.com/vi/dr4HHepGxxM/hqdefault.jpg</td>\n",
       "      <td>2018-05-31 22:32:07.933108</td>\n",
       "    </tr>\n",
       "    <tr>\n",
       "      <th>7</th>\n",
       "      <td>CSDc7_mWIXo</td>\n",
       "      <td>Munchies</td>\n",
       "      <td>UCaLfMkkHhSA_LaCta0BzyhQ</td>\n",
       "      <td>2016-07-21 00:58:03</td>\n",
       "      <td>Bud and Breakfast: BONG APPÉTIT</td>\n",
       "      <td>On this episode of Bong Appetit, Abdullah is i...</td>\n",
       "      <td>None</td>\n",
       "      <td>https://i.ytimg.com/vi/CSDc7_mWIXo/hqdefault.jpg</td>\n",
       "      <td>2018-05-31 22:32:07.933131</td>\n",
       "    </tr>\n",
       "    <tr>\n",
       "      <th>8</th>\n",
       "      <td>6WYR079F0xU</td>\n",
       "      <td>Munchies</td>\n",
       "      <td>UCaLfMkkHhSA_LaCta0BzyhQ</td>\n",
       "      <td>2015-11-20 15:16:55</td>\n",
       "      <td>BBQ Road Trip: Tennessee</td>\n",
       "      <td>In the second leg of our BBQ Road Trip - broug...</td>\n",
       "      <td>None</td>\n",
       "      <td>https://i.ytimg.com/vi/6WYR079F0xU/hqdefault.jpg</td>\n",
       "      <td>2018-05-31 22:32:07.933155</td>\n",
       "    </tr>\n",
       "    <tr>\n",
       "      <th>9</th>\n",
       "      <td>TyvM2fb9kdM</td>\n",
       "      <td>Munchies</td>\n",
       "      <td>UCaLfMkkHhSA_LaCta0BzyhQ</td>\n",
       "      <td>2018-02-15 17:07:27</td>\n",
       "      <td>The Pizza Show - Bay Area</td>\n",
       "      <td>The Bay Area is all about great produce, and t...</td>\n",
       "      <td>None</td>\n",
       "      <td>https://i.ytimg.com/vi/TyvM2fb9kdM/hqdefault.jpg</td>\n",
       "      <td>2018-05-31 22:32:07.933180</td>\n",
       "    </tr>\n",
       "    <tr>\n",
       "      <th>10</th>\n",
       "      <td>fPHjX6p-RbQ</td>\n",
       "      <td>Munchies</td>\n",
       "      <td>UCaLfMkkHhSA_LaCta0BzyhQ</td>\n",
       "      <td>2018-04-23 23:07:56</td>\n",
       "      <td>The Pizza Show: Sicily</td>\n",
       "      <td>Frank is headed to the motherland, Sicily. Not...</td>\n",
       "      <td>None</td>\n",
       "      <td>https://i.ytimg.com/vi/fPHjX6p-RbQ/hqdefault.jpg</td>\n",
       "      <td>2018-05-31 22:32:07.933203</td>\n",
       "    </tr>\n",
       "    <tr>\n",
       "      <th>11</th>\n",
       "      <td>3CJQph5gLeE</td>\n",
       "      <td>Munchies</td>\n",
       "      <td>UCaLfMkkHhSA_LaCta0BzyhQ</td>\n",
       "      <td>2014-08-19 13:28:13</td>\n",
       "      <td>The Best Fish 'n' Chips in the World: MUNCHIES...</td>\n",
       "      <td>Still jonesing for some fruits de mer, Charlet...</td>\n",
       "      <td>None</td>\n",
       "      <td>https://i.ytimg.com/vi/3CJQph5gLeE/hqdefault.jpg</td>\n",
       "      <td>2018-05-31 22:32:07.933226</td>\n",
       "    </tr>\n",
       "    <tr>\n",
       "      <th>12</th>\n",
       "      <td>Yvfv0wmyGro</td>\n",
       "      <td>Munchies</td>\n",
       "      <td>UCaLfMkkHhSA_LaCta0BzyhQ</td>\n",
       "      <td>2017-02-28 21:19:58</td>\n",
       "      <td>MUNCHIES Presents: The Art Of Making Danish Ho...</td>\n",
       "      <td>Irish chef HalAigh Whelan-McManus, who cooks a...</td>\n",
       "      <td>None</td>\n",
       "      <td>https://i.ytimg.com/vi/Yvfv0wmyGro/hqdefault.jpg</td>\n",
       "      <td>2018-05-31 22:32:07.933250</td>\n",
       "    </tr>\n",
       "    <tr>\n",
       "      <th>13</th>\n",
       "      <td>tqPub3p3k5E</td>\n",
       "      <td>BuzzFeedVideo</td>\n",
       "      <td>UCpko_-a4wgz2u_DgDgd9fqA</td>\n",
       "      <td>2018-04-13 21:03:43</td>\n",
       "      <td>$5 Pie Vs. $250 Pie</td>\n",
       "      <td>“Is this even pie?”\\n\\nFood lovers Steven Lim ...</td>\n",
       "      <td>None</td>\n",
       "      <td>https://i.ytimg.com/vi/tqPub3p3k5E/hqdefault.jpg</td>\n",
       "      <td>2018-05-31 22:32:07.933273</td>\n",
       "    </tr>\n",
       "    <tr>\n",
       "      <th>14</th>\n",
       "      <td>ce0TNKeMK1M</td>\n",
       "      <td>Munchies</td>\n",
       "      <td>UCaLfMkkHhSA_LaCta0BzyhQ</td>\n",
       "      <td>2017-09-15 16:32:02</td>\n",
       "      <td>From Sea to Table: The MUNCHIES Guide to Norwa...</td>\n",
       "      <td>The journey starts in Oslo where we meet our h...</td>\n",
       "      <td>None</td>\n",
       "      <td>https://i.ytimg.com/vi/ce0TNKeMK1M/hqdefault.jpg</td>\n",
       "      <td>2018-05-31 22:32:07.933297</td>\n",
       "    </tr>\n",
       "    <tr>\n",
       "      <th>15</th>\n",
       "      <td>C9aiGLIry7g</td>\n",
       "      <td>Munchies</td>\n",
       "      <td>UCaLfMkkHhSA_LaCta0BzyhQ</td>\n",
       "      <td>2014-10-15 21:23:26</td>\n",
       "      <td>How to Make Ceviche</td>\n",
       "      <td>Subscribe to Munchies here: http://bit.ly/Subs...</td>\n",
       "      <td>None</td>\n",
       "      <td>https://i.ytimg.com/vi/C9aiGLIry7g/hqdefault.jpg</td>\n",
       "      <td>2018-05-31 22:32:07.933320</td>\n",
       "    </tr>\n",
       "    <tr>\n",
       "      <th>16</th>\n",
       "      <td>Map2OQRAmBk</td>\n",
       "      <td>Munchies</td>\n",
       "      <td>UCaLfMkkHhSA_LaCta0BzyhQ</td>\n",
       "      <td>2015-01-16 05:41:27</td>\n",
       "      <td>Searching for East Germany's Communist Cuisine</td>\n",
       "      <td>Back in the times of the GDR (German Democrati...</td>\n",
       "      <td>None</td>\n",
       "      <td>https://i.ytimg.com/vi/Map2OQRAmBk/hqdefault.jpg</td>\n",
       "      <td>2018-05-31 22:32:07.933354</td>\n",
       "    </tr>\n",
       "    <tr>\n",
       "      <th>17</th>\n",
       "      <td>JjQWwhxz5rQ</td>\n",
       "      <td>Munchies</td>\n",
       "      <td>UCaLfMkkHhSA_LaCta0BzyhQ</td>\n",
       "      <td>2015-01-21 06:45:03</td>\n",
       "      <td>Foie Gras &amp; the Ethics of Force-Feeding: The P...</td>\n",
       "      <td>In 2012, the State of California successfully ...</td>\n",
       "      <td>None</td>\n",
       "      <td>https://i.ytimg.com/vi/JjQWwhxz5rQ/hqdefault.jpg</td>\n",
       "      <td>2018-05-31 22:32:07.933377</td>\n",
       "    </tr>\n",
       "    <tr>\n",
       "      <th>18</th>\n",
       "      <td>GKwt1yxnJoo</td>\n",
       "      <td>Munchies</td>\n",
       "      <td>UCaLfMkkHhSA_LaCta0BzyhQ</td>\n",
       "      <td>2014-06-24 22:16:13</td>\n",
       "      <td>MUNCHIES Presents: Skylight Inn's Whole Hog BBQ</td>\n",
       "      <td>Subscribe to Munchies here: http://bit.ly/Subs...</td>\n",
       "      <td>None</td>\n",
       "      <td>https://i.ytimg.com/vi/GKwt1yxnJoo/hqdefault.jpg</td>\n",
       "      <td>2018-05-31 22:32:07.933401</td>\n",
       "    </tr>\n",
       "    <tr>\n",
       "      <th>19</th>\n",
       "      <td>n2BgkHV373A</td>\n",
       "      <td>Munchies</td>\n",
       "      <td>UCaLfMkkHhSA_LaCta0BzyhQ</td>\n",
       "      <td>2018-01-09 17:52:24</td>\n",
       "      <td>The Pizza Show: Detroit</td>\n",
       "      <td>Detroit might be known as the motor city, but ...</td>\n",
       "      <td>None</td>\n",
       "      <td>https://i.ytimg.com/vi/n2BgkHV373A/hqdefault.jpg</td>\n",
       "      <td>2018-05-31 22:32:07.933425</td>\n",
       "    </tr>\n",
       "    <tr>\n",
       "      <th>20</th>\n",
       "      <td>fXCrmV0-Ukg</td>\n",
       "      <td>Munchies</td>\n",
       "      <td>UCaLfMkkHhSA_LaCta0BzyhQ</td>\n",
       "      <td>2017-05-15 22:55:10</td>\n",
       "      <td>How-To: Make Shrimp Parm on Steroids with Meyh...</td>\n",
       "      <td>Meyhem Lauren is back in the MUNCHIES Test Kit...</td>\n",
       "      <td>None</td>\n",
       "      <td>https://i.ytimg.com/vi/fXCrmV0-Ukg/hqdefault.jpg</td>\n",
       "      <td>2018-05-31 22:32:07.933448</td>\n",
       "    </tr>\n",
       "    <tr>\n",
       "      <th>21</th>\n",
       "      <td>s5ySgsNafQE</td>\n",
       "      <td>Munchies</td>\n",
       "      <td>UCaLfMkkHhSA_LaCta0BzyhQ</td>\n",
       "      <td>2018-01-30 00:07:09</td>\n",
       "      <td>How-To Make Potato Skin Nachos</td>\n",
       "      <td>Loaded baked potatoes or nachos? Why choose! \\...</td>\n",
       "      <td>None</td>\n",
       "      <td>https://i.ytimg.com/vi/s5ySgsNafQE/hqdefault.jpg</td>\n",
       "      <td>2018-05-31 22:32:07.933471</td>\n",
       "    </tr>\n",
       "    <tr>\n",
       "      <th>22</th>\n",
       "      <td>FBbBWifAdCg</td>\n",
       "      <td>Munchies</td>\n",
       "      <td>UCaLfMkkHhSA_LaCta0BzyhQ</td>\n",
       "      <td>2017-12-14 22:46:31</td>\n",
       "      <td>The Pizza Show: Naples, The Birthplace of Pizza</td>\n",
       "      <td>The Pizza Show has finally made it to Naples, ...</td>\n",
       "      <td>None</td>\n",
       "      <td>https://i.ytimg.com/vi/FBbBWifAdCg/hqdefault.jpg</td>\n",
       "      <td>2018-05-31 22:32:07.933496</td>\n",
       "    </tr>\n",
       "    <tr>\n",
       "      <th>23</th>\n",
       "      <td>GAKp-QOa7fo</td>\n",
       "      <td>Munchies</td>\n",
       "      <td>UCaLfMkkHhSA_LaCta0BzyhQ</td>\n",
       "      <td>2018-04-18 23:24:48</td>\n",
       "      <td>Todos los Tacos: Al Pastor</td>\n",
       "      <td>In this episode of 'Todos Los Tacos' we explor...</td>\n",
       "      <td>None</td>\n",
       "      <td>https://i.ytimg.com/vi/GAKp-QOa7fo/hqdefault.jpg</td>\n",
       "      <td>2018-05-31 22:32:07.933519</td>\n",
       "    </tr>\n",
       "    <tr>\n",
       "      <th>24</th>\n",
       "      <td>3XklsSF53pc</td>\n",
       "      <td>Munchies</td>\n",
       "      <td>UCaLfMkkHhSA_LaCta0BzyhQ</td>\n",
       "      <td>2017-11-27 18:27:20</td>\n",
       "      <td>How-To Make a Steak Sandwich with Matty Matheson</td>\n",
       "      <td>Order today and cook a MUNCHIES Meal Kit recip...</td>\n",
       "      <td>None</td>\n",
       "      <td>https://i.ytimg.com/vi/3XklsSF53pc/hqdefault.jpg</td>\n",
       "      <td>2018-05-31 22:32:07.933542</td>\n",
       "    </tr>\n",
       "  </tbody>\n",
       "</table>\n",
       "</div>"
      ],
      "text/plain": [
       "       video_id  channel_title                channel_id  video_publish_date  \\\n",
       "0   MeWMwwRfwFI       Munchies  UCaLfMkkHhSA_LaCta0BzyhQ 2015-04-16 15:12:17   \n",
       "1   GajbZY0l7oY       Munchies  UCaLfMkkHhSA_LaCta0BzyhQ 2018-01-10 23:58:53   \n",
       "2   VMUzoVslOBQ       VICELAND  UCWF0PiUvUi3Jma2oFgaiX2w 2018-04-13 13:57:01   \n",
       "3   JnmQd7kUDLo           VICE  UCn8zNIfYAQNdrFRrr8oibKw 2013-02-08 01:04:06   \n",
       "4   vLQeb8LWyh0       Munchies  UCaLfMkkHhSA_LaCta0BzyhQ 2017-01-17 15:38:24   \n",
       "5   _bTabM6Nbx0       Munchies  UCaLfMkkHhSA_LaCta0BzyhQ 2017-06-28 19:51:41   \n",
       "6   dr4HHepGxxM       Munchies  UCaLfMkkHhSA_LaCta0BzyhQ 2014-07-07 15:31:17   \n",
       "7   CSDc7_mWIXo       Munchies  UCaLfMkkHhSA_LaCta0BzyhQ 2016-07-21 00:58:03   \n",
       "8   6WYR079F0xU       Munchies  UCaLfMkkHhSA_LaCta0BzyhQ 2015-11-20 15:16:55   \n",
       "9   TyvM2fb9kdM       Munchies  UCaLfMkkHhSA_LaCta0BzyhQ 2018-02-15 17:07:27   \n",
       "10  fPHjX6p-RbQ       Munchies  UCaLfMkkHhSA_LaCta0BzyhQ 2018-04-23 23:07:56   \n",
       "11  3CJQph5gLeE       Munchies  UCaLfMkkHhSA_LaCta0BzyhQ 2014-08-19 13:28:13   \n",
       "12  Yvfv0wmyGro       Munchies  UCaLfMkkHhSA_LaCta0BzyhQ 2017-02-28 21:19:58   \n",
       "13  tqPub3p3k5E  BuzzFeedVideo  UCpko_-a4wgz2u_DgDgd9fqA 2018-04-13 21:03:43   \n",
       "14  ce0TNKeMK1M       Munchies  UCaLfMkkHhSA_LaCta0BzyhQ 2017-09-15 16:32:02   \n",
       "15  C9aiGLIry7g       Munchies  UCaLfMkkHhSA_LaCta0BzyhQ 2014-10-15 21:23:26   \n",
       "16  Map2OQRAmBk       Munchies  UCaLfMkkHhSA_LaCta0BzyhQ 2015-01-16 05:41:27   \n",
       "17  JjQWwhxz5rQ       Munchies  UCaLfMkkHhSA_LaCta0BzyhQ 2015-01-21 06:45:03   \n",
       "18  GKwt1yxnJoo       Munchies  UCaLfMkkHhSA_LaCta0BzyhQ 2014-06-24 22:16:13   \n",
       "19  n2BgkHV373A       Munchies  UCaLfMkkHhSA_LaCta0BzyhQ 2018-01-09 17:52:24   \n",
       "20  fXCrmV0-Ukg       Munchies  UCaLfMkkHhSA_LaCta0BzyhQ 2017-05-15 22:55:10   \n",
       "21  s5ySgsNafQE       Munchies  UCaLfMkkHhSA_LaCta0BzyhQ 2018-01-30 00:07:09   \n",
       "22  FBbBWifAdCg       Munchies  UCaLfMkkHhSA_LaCta0BzyhQ 2017-12-14 22:46:31   \n",
       "23  GAKp-QOa7fo       Munchies  UCaLfMkkHhSA_LaCta0BzyhQ 2018-04-18 23:24:48   \n",
       "24  3XklsSF53pc       Munchies  UCaLfMkkHhSA_LaCta0BzyhQ 2017-11-27 18:27:20   \n",
       "\n",
       "                                          video_title  \\\n",
       "0   Making Cold-Stoned Sundaes with the Cannabis C...   \n",
       "1                                The Pizza Show: Rome   \n",
       "2   Corned Beef On My Mind: IT'S SUPPERTIME! (Full...   \n",
       "3                            Munchies: Christina Tosi   \n",
       "4   Family Food: One of a Kind Italian Deli Food a...   \n",
       "5   Chef's Night Out in New York City with Scarr's...   \n",
       "6   FARANG: The Story of Chef Andy Ricker of Pok P...   \n",
       "7                     Bud and Breakfast: BONG APPÉTIT   \n",
       "8                            BBQ Road Trip: Tennessee   \n",
       "9                           The Pizza Show - Bay Area   \n",
       "10                             The Pizza Show: Sicily   \n",
       "11  The Best Fish 'n' Chips in the World: MUNCHIES...   \n",
       "12  MUNCHIES Presents: The Art Of Making Danish Ho...   \n",
       "13                                $5 Pie Vs. $250 Pie   \n",
       "14  From Sea to Table: The MUNCHIES Guide to Norwa...   \n",
       "15                                How to Make Ceviche   \n",
       "16     Searching for East Germany's Communist Cuisine   \n",
       "17  Foie Gras & the Ethics of Force-Feeding: The P...   \n",
       "18    MUNCHIES Presents: Skylight Inn's Whole Hog BBQ   \n",
       "19                            The Pizza Show: Detroit   \n",
       "20  How-To: Make Shrimp Parm on Steroids with Meyh...   \n",
       "21                     How-To Make Potato Skin Nachos   \n",
       "22    The Pizza Show: Naples, The Birthplace of Pizza   \n",
       "23                         Todos los Tacos: Al Pastor   \n",
       "24   How-To Make a Steak Sandwich with Matty Matheson   \n",
       "\n",
       "                                    video_description video_category  \\\n",
       "0   Watch the first episode of SMOKEABLES: How to ...           None   \n",
       "1   When in Rome...The Pizza Show is gonna eat a l...           None   \n",
       "2   A Jewish Deli in your own home! Matty shows yo...           None   \n",
       "3   This ridiculous mix of fun and sweet treats is...           None   \n",
       "4   In this episode of Family Food, we head to Ton...           None   \n",
       "5   Born and bred New Yorker Scarr Pimentel's Chef...           None   \n",
       "6   Subscribe to Munchies here: http://bit.ly/Subs...           None   \n",
       "7   On this episode of Bong Appetit, Abdullah is i...           None   \n",
       "8   In the second leg of our BBQ Road Trip - broug...           None   \n",
       "9   The Bay Area is all about great produce, and t...           None   \n",
       "10  Frank is headed to the motherland, Sicily. Not...           None   \n",
       "11  Still jonesing for some fruits de mer, Charlet...           None   \n",
       "12  Irish chef HalAigh Whelan-McManus, who cooks a...           None   \n",
       "13  “Is this even pie?”\\n\\nFood lovers Steven Lim ...           None   \n",
       "14  The journey starts in Oslo where we meet our h...           None   \n",
       "15  Subscribe to Munchies here: http://bit.ly/Subs...           None   \n",
       "16  Back in the times of the GDR (German Democrati...           None   \n",
       "17  In 2012, the State of California successfully ...           None   \n",
       "18  Subscribe to Munchies here: http://bit.ly/Subs...           None   \n",
       "19  Detroit might be known as the motor city, but ...           None   \n",
       "20  Meyhem Lauren is back in the MUNCHIES Test Kit...           None   \n",
       "21  Loaded baked potatoes or nachos? Why choose! \\...           None   \n",
       "22  The Pizza Show has finally made it to Naples, ...           None   \n",
       "23  In this episode of 'Todos Los Tacos' we explor...           None   \n",
       "24  Order today and cook a MUNCHIES Meal Kit recip...           None   \n",
       "\n",
       "                                     video_thumbnail  \\\n",
       "0   https://i.ytimg.com/vi/MeWMwwRfwFI/hqdefault.jpg   \n",
       "1   https://i.ytimg.com/vi/GajbZY0l7oY/hqdefault.jpg   \n",
       "2   https://i.ytimg.com/vi/VMUzoVslOBQ/hqdefault.jpg   \n",
       "3   https://i.ytimg.com/vi/JnmQd7kUDLo/hqdefault.jpg   \n",
       "4   https://i.ytimg.com/vi/vLQeb8LWyh0/hqdefault.jpg   \n",
       "5   https://i.ytimg.com/vi/_bTabM6Nbx0/hqdefault.jpg   \n",
       "6   https://i.ytimg.com/vi/dr4HHepGxxM/hqdefault.jpg   \n",
       "7   https://i.ytimg.com/vi/CSDc7_mWIXo/hqdefault.jpg   \n",
       "8   https://i.ytimg.com/vi/6WYR079F0xU/hqdefault.jpg   \n",
       "9   https://i.ytimg.com/vi/TyvM2fb9kdM/hqdefault.jpg   \n",
       "10  https://i.ytimg.com/vi/fPHjX6p-RbQ/hqdefault.jpg   \n",
       "11  https://i.ytimg.com/vi/3CJQph5gLeE/hqdefault.jpg   \n",
       "12  https://i.ytimg.com/vi/Yvfv0wmyGro/hqdefault.jpg   \n",
       "13  https://i.ytimg.com/vi/tqPub3p3k5E/hqdefault.jpg   \n",
       "14  https://i.ytimg.com/vi/ce0TNKeMK1M/hqdefault.jpg   \n",
       "15  https://i.ytimg.com/vi/C9aiGLIry7g/hqdefault.jpg   \n",
       "16  https://i.ytimg.com/vi/Map2OQRAmBk/hqdefault.jpg   \n",
       "17  https://i.ytimg.com/vi/JjQWwhxz5rQ/hqdefault.jpg   \n",
       "18  https://i.ytimg.com/vi/GKwt1yxnJoo/hqdefault.jpg   \n",
       "19  https://i.ytimg.com/vi/n2BgkHV373A/hqdefault.jpg   \n",
       "20  https://i.ytimg.com/vi/fXCrmV0-Ukg/hqdefault.jpg   \n",
       "21  https://i.ytimg.com/vi/s5ySgsNafQE/hqdefault.jpg   \n",
       "22  https://i.ytimg.com/vi/FBbBWifAdCg/hqdefault.jpg   \n",
       "23  https://i.ytimg.com/vi/GAKp-QOa7fo/hqdefault.jpg   \n",
       "24  https://i.ytimg.com/vi/3XklsSF53pc/hqdefault.jpg   \n",
       "\n",
       "              collection_date  \n",
       "0  2018-05-31 22:32:07.932947  \n",
       "1  2018-05-31 22:32:07.932983  \n",
       "2  2018-05-31 22:32:07.933010  \n",
       "3  2018-05-31 22:32:07.933035  \n",
       "4  2018-05-31 22:32:07.933059  \n",
       "5  2018-05-31 22:32:07.933084  \n",
       "6  2018-05-31 22:32:07.933108  \n",
       "7  2018-05-31 22:32:07.933131  \n",
       "8  2018-05-31 22:32:07.933155  \n",
       "9  2018-05-31 22:32:07.933180  \n",
       "10 2018-05-31 22:32:07.933203  \n",
       "11 2018-05-31 22:32:07.933226  \n",
       "12 2018-05-31 22:32:07.933250  \n",
       "13 2018-05-31 22:32:07.933273  \n",
       "14 2018-05-31 22:32:07.933297  \n",
       "15 2018-05-31 22:32:07.933320  \n",
       "16 2018-05-31 22:32:07.933354  \n",
       "17 2018-05-31 22:32:07.933377  \n",
       "18 2018-05-31 22:32:07.933401  \n",
       "19 2018-05-31 22:32:07.933425  \n",
       "20 2018-05-31 22:32:07.933448  \n",
       "21 2018-05-31 22:32:07.933471  \n",
       "22 2018-05-31 22:32:07.933496  \n",
       "23 2018-05-31 22:32:07.933519  \n",
       "24 2018-05-31 22:32:07.933542  "
      ]
     },
     "execution_count": 29,
     "metadata": {},
     "output_type": "execute_result"
    }
   ],
   "source": [
    "pd.DataFrame(recommended_vids)"
   ]
  },
  {
   "cell_type": "code",
   "execution_count": null,
   "metadata": {
    "collapsed": true
   },
   "outputs": [],
   "source": []
  }
 ],
 "metadata": {
  "kernelspec": {
   "display_name": "Python 3",
   "language": "python",
   "name": "python3"
  },
  "language_info": {
   "codemirror_mode": {
    "name": "ipython",
    "version": 3
   },
   "file_extension": ".py",
   "mimetype": "text/x-python",
   "name": "python",
   "nbconvert_exporter": "python",
   "pygments_lexer": "ipython3",
   "version": "3.6.4"
  }
 },
 "nbformat": 4,
 "nbformat_minor": 2
}
