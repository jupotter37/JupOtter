{
 "cells": [
  {
   "cell_type": "code",
   "execution_count": 1,
   "metadata": {},
   "outputs": [],
   "source": [
    "import os\n",
    "import numpy as np\n",
    "from skimage.transform import resize, rescale\n",
    "from skimage.io import imread, imsave, imread_collection\n",
    "import matplotlib.pyplot as plt\n",
    "\n",
    "%matplotlib inline"
   ]
  },
  {
   "cell_type": "code",
   "execution_count": 2,
   "metadata": {},
   "outputs": [],
   "source": [
    "# imgs = imread_collection('../data/icons/*.png')\n",
    "icons_dir = '/Users/universome/Downloads/chosen-icons'\n",
    "imgs = [imread(f'{icons_dir}/{f}') for f in os.listdir(f'{icons_dir}') if not f.startswith('.')]\n",
    "\n",
    "\n",
    "def to_binary(img, threshold:float=0):\n",
    "    return (img > threshold).astype(np.uint8) * 255\n",
    "    \n",
    "    \n",
    "def downscale_to_fit(img, max_size):\n",
    "    \"Rescales image such that its max width/height is max_size\"\n",
    "    target_scale = max_size / max(img.shape)\n",
    "    result = rescale(img, target_scale, multichannel=False)\n",
    "    \n",
    "    return result"
   ]
  },
  {
   "cell_type": "code",
   "execution_count": 33,
   "metadata": {},
   "outputs": [
    {
     "name": "stderr",
     "output_type": "stream",
     "text": [
      "/Users/universome/pyvenvs/zoo/lib/python3.6/site-packages/imageio/core/util.py:78: UserWarning: Lossy conversion from float64 to uint8, range [0, 1]\n",
      "  dtype_str, out_type.__name__))\n"
     ]
    }
   ],
   "source": [
    "pytorch_logo = imread(f'{icons_dir}/pytorch-logo.png')\n",
    "imsave(f'{icons_dir}/pytorch-logo.png', resize(pytorch_logo[:,:,3], (512, 512)))"
   ]
  },
  {
   "cell_type": "code",
   "execution_count": 30,
   "metadata": {},
   "outputs": [
    {
     "data": {
      "text/plain": [
       "<matplotlib.image.AxesImage at 0x12ae1b7f0>"
      ]
     },
     "execution_count": 30,
     "metadata": {},
     "output_type": "execute_result"
    },
    {
     "data": {
      "image/png": "[encoded data removed]",
      "text/plain": [
       "<matplotlib.figure.Figure at 0x139e97240>"
      ]
     },
     "metadata": {},
     "output_type": "display_data"
    }
   ],
   "source": [
    "plt.imshow(resize(pytorch_logo[:,:,3], (512, 512)), cmap='gray')"
   ]
  },
  {
   "cell_type": "code",
   "execution_count": 3,
   "metadata": {},
   "outputs": [],
   "source": [
    "processed = [None] * len(imgs)\n",
    "processed[0] = ((imgs[1] > 100) * 255).astype(np.uint8)\n",
    "processed[1] = imgs[0][:, :, 3]\n",
    "processed[2] = ((imgs[2] > 200) * 255).astype(np.uint8)\n",
    "processed[3] = ((imgs[3][:, :, 3] < 250) * 255).astype(np.uint8)\n",
    "processed[4] = ((imgs[4][:, :, 3] < 250) * 255).astype(np.uint8)"
   ]
  },
  {
   "cell_type": "code",
   "execution_count": 4,
   "metadata": {},
   "outputs": [],
   "source": [
    "# imsave('/Users/universome/Downloads/custom-icons/processed/mona-lisa.png', processed[0])\n",
    "# imsave('/Users/universome/Downloads/custom-icons/processed/batman-logo-1.png', processed[1])\n",
    "# imsave('/Users/universome/Downloads/custom-icons/processed/goose.png', processed[2])\n",
    "# imsave('/Users/universome/Downloads/custom-icons/processed/putin.png', processed[3])\n",
    "# imsave('/Users/universome/Downloads/custom-icons/processed/batman-logo-2.png', processed[4])"
   ]
  },
  {
   "cell_type": "code",
   "execution_count": 5,
   "metadata": {},
   "outputs": [
    {
     "data": {
      "image/png": "[encoded data removed]",
      "text/plain": [
       "<matplotlib.figure.Figure at 0x11c43cac8>"
      ]
     },
     "metadata": {},
     "output_type": "display_data"
    }
   ],
   "source": [
    "i = 0\n",
    "threshold = 0.5\n",
    "plt.imshow(to_binary(downscale_to_fit(processed[i], 300), threshold)[30:180, 65:155], cmap='gray');"
   ]
  },
  {
   "cell_type": "code",
   "execution_count": 6,
   "metadata": {},
   "outputs": [],
   "source": [
    "resized = [None] * len(imgs)\n",
    "# resized[0] = to_binary(downscale_to_fit(processed[0], 100), 0.6)\n",
    "# resized[0] = to_binary(downscale_to_fit(processed[0], 300), 0.6)\n",
    "resized[0] = to_binary(downscale_to_fit(processed[i], 300), threshold)[30:180, 65:155]\n",
    "resized[1] = to_binary(downscale_to_fit(processed[1], 100), 0.6)\n",
    "resized[2] = to_binary(downscale_to_fit(processed[2], 100), 0.7)\n",
    "resized[3] = to_binary(downscale_to_fit(processed[3], 100), 0.6)\n",
    "resized[4] = to_binary(downscale_to_fit(processed[4], 100), 0.)"
   ]
  },
  {
   "cell_type": "code",
   "execution_count": 7,
   "metadata": {},
   "outputs": [],
   "source": [
    "imsave('/Users/universome/Downloads/custom-icons/resized/mona-lisa-face.png', resized[0])\n",
    "imsave('/Users/universome/Downloads/custom-icons/resized/batman-logo-1.png', resized[1])\n",
    "imsave('/Users/universome/Downloads/custom-icons/resized/goose.png', resized[2])\n",
    "imsave('/Users/universome/Downloads/custom-icons/resized/putin.png', resized[3])\n",
    "imsave('/Users/universome/Downloads/custom-icons/resized/batman-logo-2.png', resized[4])"
   ]
  },
  {
   "cell_type": "code",
   "execution_count": 8,
   "metadata": {},
   "outputs": [
    {
     "ename": "NameError",
     "evalue": "name 'target_size' is not defined",
     "output_type": "error",
     "traceback": [
      "\u001b[0;31m---------------------------------------------------------------------------\u001b[0m",
      "\u001b[0;31mNameError\u001b[0m                                 Traceback (most recent call last)",
      "\u001b[0;32m<ipython-input-8-9f807d51334e>\u001b[0m in \u001b[0;36m<module>\u001b[0;34m()\u001b[0m\n\u001b[1;32m      1\u001b[0m \u001b[0;32mimport\u001b[0m \u001b[0mos\u001b[0m\u001b[0;34m\u001b[0m\u001b[0m\n\u001b[1;32m      2\u001b[0m \u001b[0;34m\u001b[0m\u001b[0m\n\u001b[0;32m----> 3\u001b[0;31m \u001b[0msize_name\u001b[0m \u001b[0;34m=\u001b[0m \u001b[0;34mf'{target_size[0]}x{target_size[1]}'\u001b[0m\u001b[0;34m\u001b[0m\u001b[0m\n\u001b[0m\u001b[1;32m      4\u001b[0m \u001b[0mos\u001b[0m\u001b[0;34m.\u001b[0m\u001b[0mmakedirs\u001b[0m\u001b[0;34m(\u001b[0m\u001b[0;34mf'../data/icons-resized/{size_name}'\u001b[0m\u001b[0;34m,\u001b[0m \u001b[0mexist_ok\u001b[0m\u001b[0;34m=\u001b[0m\u001b[0;32mTrue\u001b[0m\u001b[0;34m)\u001b[0m\u001b[0;34m\u001b[0m\u001b[0m\n\u001b[1;32m      5\u001b[0m \u001b[0;34m\u001b[0m\u001b[0m\n",
      "\u001b[0;31mNameError\u001b[0m: name 'target_size' is not defined"
     ]
    }
   ],
   "source": [
    "import os\n",
    "\n",
    "size_name = f'{target_size[0]}x{target_size[1]}'\n",
    "os.makedirs(f'../data/icons-resized/{size_name}', exist_ok=True)\n",
    "\n",
    "for img, filename in zip(imgs, imgs.files):\n",
    "    result = to_binary(resize(img, target_size, mode='constant'))\n",
    "    imsave(f'../data/icons-resized/{size_name}/{os.path.basename(filename)}', result)"
   ]
  },
  {
   "cell_type": "code",
   "execution_count": 6,
   "metadata": {},
   "outputs": [
    {
     "data": {
      "image/png": "[encoded data removed]",
      "text/plain": [
       "<matplotlib.figure.Figure at 0x1062b17b8>"
      ]
     },
     "metadata": {},
     "output_type": "display_data"
    }
   ],
   "source": [
    "resized = [to_binary(resize(img, target_size, mode='constant')) for img in imgs]\n",
    "num_whites = [(x > 0).sum() / x.size for x in resized]\n",
    "\n",
    "plt.hist(num_whites, bins=20);\n",
    "plt.grid()"
   ]
  }
 ],
 "metadata": {
  "kernelspec": {
   "display_name": "Python 3",
   "language": "python",
   "name": "python3"
  },
  "language_info": {
   "codemirror_mode": {
    "name": "ipython",
    "version": 3
   },
   "file_extension": ".py",
   "mimetype": "text/x-python",
   "name": "python",
   "nbconvert_exporter": "python",
   "pygments_lexer": "ipython3",
   "version": "3.6.3"
  }
 },
 "nbformat": 4,
 "nbformat_minor": 2
}
