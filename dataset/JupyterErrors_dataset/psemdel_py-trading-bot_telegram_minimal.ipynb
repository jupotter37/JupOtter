{
 "cells": [
  {
   "cell_type": "markdown",
   "metadata": {},
   "source": [
    "In this example, we will build a Telegram bot that sends a signal once any Bollinger Band has been crossed. We will periodically query for the latest OHLCV data of the selected cryptocurrencies and append this data to our data pool. Additionally to receiving signals, any Telegram user can join the group and ask the bot to provide him with the current information. If the price change is higher than some number of standard deviations from the mean, while crossing the band, the bot sends a funny GIF."
   ]
  },
  {
   "cell_type": "code",
   "execution_count": 2,
   "metadata": {},
   "outputs": [],
   "source": [
    "import pandas as pd\n",
    "import vectorbtpro as vbt\n",
    "import logging"
   ]
  },
  {
   "cell_type": "code",
   "execution_count": 3,
   "metadata": {},
   "outputs": [],
   "source": [
    "from telegram import __version__ as TG_VER\n",
    "\n",
    "try:\n",
    "    from telegram import __version_info__\n",
    "except ImportError:\n",
    "    __version_info__ = (0, 0, 0, 0, 0)\n",
    "    \n",
    "if __version_info__ >= (20, 0, 0, \"alpha\", 1):\n",
    "    raise RuntimeError(f\"This example is not compatible with your current PTB version {TG_VER}\")"
   ]
  },
  {
   "cell_type": "code",
   "execution_count": 4,
   "metadata": {},
   "outputs": [],
   "source": [
    "logging.basicConfig(format='%(asctime)s - %(name)s - %(levelname)s - %(message)s', level=logging.INFO)\n",
    "logger = logging.getLogger(__name__)\n"
   ]
  },
  {
   "cell_type": "code",
   "execution_count": 3,
   "metadata": {},
   "outputs": [
    {
     "name": "stderr",
     "output_type": "stream",
     "text": [
      "2023-03-01 20:00:41,730 - vectorbtpro.messaging.telegram - INFO - Initializing bot\n",
      "2023-03-01 20:00:41,733 - vectorbtpro.messaging.telegram - INFO - Loaded chat ids [5402841128]\n",
      "2023-03-01 20:00:41,798 - vectorbtpro.messaging.telegram - INFO - Running bot Psemdel_bot\n",
      "2023-03-01 20:00:41,800 - apscheduler.scheduler - INFO - Scheduler started\n",
      "2023-03-01 20:00:42,030 - vectorbtpro.messaging.telegram - INFO - 5402841128 - Bot: \"I'm back online!\"\n"
     ]
    }
   ],
   "source": [
    "telegram_bot = vbt.TelegramBot(token=\"\")\n",
    "telegram_bot.start(in_background=True)"
   ]
  },
  {
   "cell_type": "code",
   "execution_count": 9,
   "metadata": {},
   "outputs": [
    {
     "name": "stderr",
     "output_type": "stream",
     "text": [
      "2023-01-06 20:38:07,842 - vectorbtpro.messaging.telegram - INFO - 5402841128 - Bot: \"test\"\n"
     ]
    }
   ],
   "source": [
    "#if nothing happens, think of making /start in telegram directly\n",
    "telegram_bot.send_message_to_all(\"test\")"
   ]
  },
  {
   "cell_type": "code",
   "execution_count": null,
   "metadata": {},
   "outputs": [
    {
     "name": "stderr",
     "output_type": "stream",
     "text": [
      "2023-01-06 20:38:17,592 - vectorbtpro.messaging.telegram - INFO - Stopping bot\n",
      "2023-01-06 20:38:17,593 - apscheduler.scheduler - INFO - Scheduler has been shut down\n"
     ]
    }
   ],
   "source": [
    "telegram_bot.stop()"
   ]
  },
  {
   "cell_type": "code",
   "execution_count": 4,
   "metadata": {},
   "outputs": [
    {
     "ename": "AttributeError",
     "evalue": "module 'vectorbt' has no attribute 'TelegramBot'",
     "output_type": "error",
     "traceback": [
      "\u001b[0;31m---------------------------------------------------------------------------\u001b[0m",
      "\u001b[0;31mAttributeError\u001b[0m                            Traceback (most recent call last)",
      "\u001b[0;32m/tmp/ipykernel_16343/3628724820.py\u001b[0m in \u001b[0;36m<module>\u001b[0;34m\u001b[0m\n\u001b[0;32m----> 1\u001b[0;31m \u001b[0mvbt\u001b[0m\u001b[0;34m.\u001b[0m\u001b[0mTelegramBot\u001b[0m\u001b[0;34m(\u001b[0m\u001b[0;34m)\u001b[0m\u001b[0;34m\u001b[0m\u001b[0;34m\u001b[0m\u001b[0m\n\u001b[0m",
      "\u001b[0;31mAttributeError\u001b[0m: module 'vectorbt' has no attribute 'TelegramBot'"
     ]
    }
   ],
   "source": []
  },
  {
   "cell_type": "code",
   "execution_count": null,
   "metadata": {},
   "outputs": [],
   "source": []
  }
 ],
 "metadata": {
  "kernelspec": {
   "display_name": "Python 3 (ipykernel)",
   "language": "python",
   "name": "python3"
  },
  "language_info": {
   "codemirror_mode": {
    "name": "ipython",
    "version": 3
   },
   "file_extension": ".py",
   "mimetype": "text/x-python",
   "name": "python",
   "nbconvert_exporter": "python",
   "pygments_lexer": "ipython3",
   "version": "3.8.10"
  }
 },
 "nbformat": 4,
 "nbformat_minor": 4
}
