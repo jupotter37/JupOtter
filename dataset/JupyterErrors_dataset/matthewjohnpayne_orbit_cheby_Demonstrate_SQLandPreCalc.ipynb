{
 "cells": [
  {
   "cell_type": "markdown",
   "metadata": {},
   "source": [
    "# Demonstration of low-level SQL & PreCalc functions within ChebyChecker\n",
    " - This is likely to mainly be of use while developing code \n",
    " - MJP"
   ]
  },
  {
   "cell_type": "code",
   "execution_count": 3,
   "metadata": {},
   "outputs": [
    {
     "name": "stdout",
     "output_type": "stream",
     "text": [
      " HEAD_DIR: /Users/matthewjohnpayne/Envs/cheby_checker \n"
     ]
    }
   ],
   "source": [
    "import time\n",
    "import numpy as np\n",
    "import scipy.stats as stats\n",
    "import math\n",
    "import random\n",
    "from collections import defaultdict\n",
    "import os\n",
    "import sys\n",
    "from collections import Counter\n",
    "import glob \n",
    "import warnings\n",
    "import warnings\n",
    "warnings.filterwarnings('ignore')\n",
    "import matplotlib.pyplot as plt\n",
    "import importlib\n",
    "from astropy.time import Time\n",
    "import pickle\n",
    "\n",
    "\n",
    "# -------------------------------------------------------------------------------------\n",
    "# Local imports\n",
    "# -------------------------------------------------------------------------------------\n",
    "\n",
    "# parent directory is */cheby_checker\n",
    "HEAD_DIR = os.path.dirname(os.path.realpath(os.getcwd())) \n",
    "sys.path.append(os.path.join(HEAD_DIR))\n",
    "print(f' HEAD_DIR: {HEAD_DIR} ')\n",
    "\n",
    "from cheby_checker import sql\n",
    "from cheby_checker import orbit_cheby\n",
    "from cheby_checker import nbody_reader\n",
    "from cheby_checker import obs_pos\n",
    "from cheby_checker import sql\n",
    "from cheby_checker import precalc\n",
    "\n"
   ]
  },
  {
   "cell_type": "markdown",
   "metadata": {},
   "source": [
    "# Notes on Direct Access to SQL\n",
    " - Many of the functions below read/write to/from a SQLite database\n",
    " - It's likely to be of interest to some to go and look in the database by hand (on the command line)\n",
    " - Here are some basic commands to get you going"
   ]
  },
  {
   "cell_type": "markdown",
   "metadata": {},
   "source": [
    "#### Location of sqldb is going to be something like\n",
    " - ~/.cheby_checker_data/cheby_checker.db \n",
    "\n",
    "#### Log into the database\n",
    " - sqlite3 ~/.cheby_checker_data/cheby_checker.db \n",
    "    \n",
    "#### See the schema for all tables in the db\n",
    " - .schema\n",
    "\n",
    "#### See the schema for a specific table\n",
    " - .schema object_desig\n",
    "\n",
    "#### Examine the contents of a specific table \n",
    " - select * FROM object_coefficients ;\n",
    "\n",
    "#### More knowledge\n",
    " - https://sqlite.org/cli.html"
   ]
  },
  {
   "cell_type": "markdown",
   "metadata": {},
   "source": [
    "# Background\n",
    " - I expect that the \"orbit_cheby\" module exists and has functionality to take the results of an n-body integration and convert them into a dictionary of chebyshev coefficients (with seprate coefficient sets for each \"sector\" of time)  - There is a single dictionary for each object\n"
   ]
  },
  {
   "cell_type": "markdown",
   "metadata": {},
   "source": [
    "# --------- Demo-Data Functions : Create MSC ---------------------\n",
    "\n",
    " - These functions create fake data for the sake of subsequently demonstrating PreCalc / SQL functionalities"
   ]
  },
  {
   "cell_type": "code",
   "execution_count": 4,
   "metadata": {},
   "outputs": [],
   "source": [
    "def create_sample_cheby_dict(n=1):\n",
    "    assert n < 50 , 'Dont make that many objects ...!'\n",
    "    ''' convenience function to make demo MSC-list '''\n",
    "    importlib.reload(nbody_reader)\n",
    "    importlib.reload(orbit_cheby)\n",
    "\n",
    "    # Pre-populate numpy array by reading from demo file ...\n",
    "    text_filepath = os.path.join(os.path.dirname(os.getcwd() ), 'dev_data', '2022AA_demo.txt')\n",
    "    assert os.path.isfile(text_filepath)\n",
    "    name, times, states  = nbody_reader.parse_nbody_txt( text_filepath )\n",
    "    \n",
    "    print(f'max(times):{np.max(times)}')\n",
    "    \n",
    "    if n ==1 :\n",
    "        # Create MSCs & return \n",
    "        return orbit_cheby.MSC_Loader(FROM_ARRAY = True , \n",
    "                                primary_unpacked_provisional_designations = name, \n",
    "                                times_TDB = times, \n",
    "                                statearray = states).MSCs        \n",
    "    else:\n",
    "        # Pre-populate numpy array ...\n",
    "        # - Note that we need to allow for MULTIPLE NAMES\n",
    "        # - We are creating a 3D array of input coords\n",
    "        arrays, names = [],[] \n",
    "        for i in range(0,n):\n",
    "            # Varying the names \n",
    "            names.append(str(int(name[:4]) + i ) + name[4:])\n",
    "            # Varying the properties of the states \n",
    "            rand = 1 + np.random.random()/10\n",
    "            arrays.append(states*rand)\n",
    "        # Stack-up the multiple arrays \n",
    "        states_3D = np.stack(arrays, axis=2)\n",
    "        states_3D.shape\n",
    "\n",
    "        # Create MSCs & return \n",
    "        return orbit_cheby.MSC_Loader(FROM_ARRAY = True , \n",
    "                                primary_unpacked_provisional_designations = names, \n",
    "                                times_TDB = times, \n",
    "                                statearray = states_3D).MSCs"
   ]
  },
  {
   "cell_type": "code",
   "execution_count": 5,
   "metadata": {},
   "outputs": [
    {
     "name": "stdout",
     "output_type": "stream",
     "text": [
      "max(times):2459999.0\n",
      "INIT MSC_Loader...\n",
      "Returned variable is of type <class 'list'> , and length 3  \n",
      "i:0, type <class 'cheby_checker.orbit_cheby.MSC'>\n",
      "Number of sectors =  625\n",
      "Shape of sector[0] =  (8, 27)\n",
      "Shape of sector[1] =  (8, 27)\n",
      "Shape of sector[517] =  (8, 27)\n",
      "Range of validity :  (2440000, 2459999.999999)\n",
      "primary_unpacked_provisional_designation :  2022 AA\n",
      "\n",
      "i:1, type <class 'cheby_checker.orbit_cheby.MSC'>\n",
      "Number of sectors =  625\n",
      "Shape of sector[0] =  (8, 27)\n",
      "Shape of sector[1] =  (8, 27)\n",
      "Shape of sector[517] =  (8, 27)\n",
      "Range of validity :  (2440000, 2459999.999999)\n",
      "primary_unpacked_provisional_designation :  2023 AA\n",
      "\n",
      "i:2, type <class 'cheby_checker.orbit_cheby.MSC'>\n",
      "Number of sectors =  625\n",
      "Shape of sector[0] =  (8, 27)\n",
      "Shape of sector[1] =  (8, 27)\n",
      "Shape of sector[517] =  (8, 27)\n",
      "Range of validity :  (2440000, 2459999.999999)\n",
      "primary_unpacked_provisional_designation :  2024 AA\n",
      "\n"
     ]
    }
   ],
   "source": [
    "n=3 \n",
    "MSCs = create_sample_cheby_dict( n=n )\n",
    "\n",
    "print( 'Returned variable is of type %r , and length %r  ' % (type(MSCs),len(MSCs) ) )\n",
    "\n",
    "for i in range(n):\n",
    "    M = MSCs[i]\n",
    "    print( f'i:{i}, type', type(M) )\n",
    "    print ( 'Number of sectors = ' , len(M.sector_coeffs) )\n",
    "    print ( 'Shape of sector[0] = ' , M.sector_coeffs[0].shape )\n",
    "    print ( 'Shape of sector[1] = ' , M.sector_coeffs[1].shape )\n",
    "    print ( 'Shape of sector[517] = ' , M.sector_coeffs[517].shape )\n",
    "    print ( 'Range of validity : ', M.get_valid_range_of_dates() ) \n",
    "    print ( 'primary_unpacked_provisional_designation : ', M.primary_unpacked_provisional_designation )\n",
    "    print()\n",
    "    del M \n"
   ]
  },
  {
   "cell_type": "markdown",
   "metadata": {},
   "source": [
    "# --------- Demo-Data Functions : Create Observatory Positions ----------\n",
    "\n",
    "- Create a sample of observatory-positions for the sake of subsequently demonstrating PreCalc / SQL functionalities\n",
    "\n",
    "\n",
    "# *** !!! THIS TAKES A LONG TIME TO RUN !!! ***\n",
    "\n",
    " - IT'S *NOT* PART OF orbit_cheby BUT WE'LL STILL NEED TO USE A FASTER VERSION "
   ]
  },
  {
   "cell_type": "code",
   "execution_count": 6,
   "metadata": {},
   "outputs": [
    {
     "name": "stdout",
     "output_type": "stream",
     "text": [
      "20000 [2440000 2440001 2440002] ... [2459997 2459998 2459999]\n",
      "3 [[-0.46118508 -0.44608068 -0.43084806 ... -0.87534198 -0.88349422\n",
      "  -0.89137455]\n",
      " [-0.82722792 -0.83436097 -0.84125573 ...  0.42224568  0.4081433\n",
      "   0.39391627]\n",
      " [-0.35872031 -0.36181405 -0.36480441 ...  0.18304707  0.17693332\n",
      "   0.17076544]] ... [[-0.46118508 -0.44608068 -0.43084806 ... -0.87534198 -0.88349422\n",
      "  -0.89137455]\n",
      " [-0.82722792 -0.83436097 -0.84125573 ...  0.42224568  0.4081433\n",
      "   0.39391627]\n",
      " [-0.35872031 -0.36181405 -0.36480441 ...  0.18304707  0.17693332\n",
      "   0.17076544]]\n",
      "CPU times: user 3min 30s, sys: 3.4 s, total: 3min 34s\n",
      "Wall time: 3min 35s\n"
     ]
    }
   ],
   "source": [
    "%%time\n",
    "importlib.reload(obs_pos)\n",
    "#\n",
    "# *** *** *** *** *** *** *** THIS TAKES ~200 SECONDS TO RUN *** *** *** *** *** *** ***\n",
    "#\n",
    "# Create a sample of observatory-positions as inputs \n",
    "# - Note that the NBody code uses HELIOCENTRIC EQUATORIAL coords\n",
    "# - So the Cheby's need to work-in/evaluate-to HELIOCENTRIC EQUATORIAL coords\n",
    "# - Hence the observatory-positions will need to be in HELIOCENTRIC EQUATORIAL coords\n",
    "# - We will use the ObsPos class to get this data (see '' demo notebook for more details)\n",
    "JDlist = orbit_cheby.Base().JDlist \n",
    "observatoryXYZ = np.array( [obs_pos.ObsPos().get_heliocentric_equatorial_xyz(jd , obsCode='500') for jd in JDlist] ).T\n",
    "print(len(JDlist) , JDlist[:3], '...',JDlist[-3:])\n",
    "print(len(observatoryXYZ) , observatoryXYZ[:3], '...',observatoryXYZ[-3:])\n"
   ]
  },
  {
   "cell_type": "code",
   "execution_count": 5,
   "metadata": {},
   "outputs": [
    {
     "data": {
      "text/plain": [
       "((3, 20000), (20000,))"
      ]
     },
     "execution_count": 5,
     "metadata": {},
     "output_type": "execute_result"
    }
   ],
   "source": [
    "observatoryXYZ.shape  , JDlist.shape "
   ]
  },
  {
   "cell_type": "markdown",
   "metadata": {},
   "source": [
    "# --------- Convenience Functionality for Demos ---------------------\n",
    " - Convenience code to make database with required tables for the sake of subsequently demonstrating PreCalc / SQL"
   ]
  },
  {
   "cell_type": "code",
   "execution_count": 7,
   "metadata": {},
   "outputs": [
    {
     "name": "stdout",
     "output_type": "stream",
     "text": [
      " *** WARNING TO MPC STAFF *** \n",
      " THIS DEVELOPMENTAL CODE IS SAVING TO THE USERS-DIRECTORY \n",
      " THIS SHOULD BE CHANGED TO A SINGLE LOCN ON MARSDEN \n",
      " *** END OF WARNING ***\n",
      " *** WARNING TO MPC STAFF *** \n",
      " THIS DEVELOPMENTAL CODE IS SAVING TO THE USERS-DIRECTORY \n",
      " THIS SHOULD BE CHANGED TO A SINGLE LOCN ON MARSDEN \n",
      " *** END OF WARNING ***\n",
      " *** WARNING TO MPC STAFF *** \n",
      " THIS DEVELOPMENTAL CODE IS SAVING TO THE USERS-DIRECTORY \n",
      " THIS SHOULD BE CHANGED TO A SINGLE LOCN ON MARSDEN \n",
      " *** END OF WARNING ***\n",
      " *** WARNING TO MPC STAFF *** \n",
      " THIS DEVELOPMENTAL CODE IS SAVING TO THE USERS-DIRECTORY \n",
      " THIS SHOULD BE CHANGED TO A SINGLE LOCN ON MARSDEN \n",
      " *** END OF WARNING ***\n",
      " *** WARNING TO MPC STAFF *** \n",
      " THIS DEVELOPMENTAL CODE IS SAVING TO THE USERS-DIRECTORY \n",
      " THIS SHOULD BE CHANGED TO A SINGLE LOCN ON MARSDEN \n",
      " *** END OF WARNING ***\n"
     ]
    },
    {
     "data": {
      "text/plain": [
       "True"
      ]
     },
     "execution_count": 7,
     "metadata": {},
     "output_type": "execute_result"
    }
   ],
   "source": [
    "# --- Demonstrate some convenience code to make database with required tables ---\n",
    "# -------------------------------------------------------------------------------\n",
    "\n",
    "def convenience_func_create_db_and_tables():\n",
    "    importlib.reload(sql)\n",
    "    \n",
    "    # In order to save data, we require sql-db to exist, so let's set that up...\n",
    "    # Force deletion then creation of db...\n",
    "    if os.path.isfile( sql.fetch_db_filepath() ):\n",
    "        os.remove(sql.fetch_db_filepath())\n",
    "    conn = sql.create_connection( sql.fetch_db_filepath() )\n",
    "    cur  = conn.cursor()\n",
    "    \n",
    "    # Test creation of db\n",
    "    assert os.path.isfile( os.path.join( sql.fetch_db_filepath() ) ), 'no db'\n",
    "\n",
    "    # Create required table(s)\n",
    "    sql.create_object_coefficients_table(conn)\n",
    "    sql.create_objects_by_jdhp_table(conn)\n",
    "    sql.create_object_desig_table(conn)\n",
    "    \n",
    "\n",
    "    # Double-check that this worked by getting the count of tables with the name\n",
    "    # - if the count is 1, then table exists\n",
    "    cur.execute('SELECT name from sqlite_master WHERE type = \"table\" AND name = \"objects_by_jdhp\"')\n",
    "    assert len(cur.fetchone()) == 1 , 'jdhp table does not exist'\n",
    "    cur.execute('SELECT name from sqlite_master WHERE type = \"table\" AND name = \"object_coefficients\"')\n",
    "    assert len(cur.fetchone()) == 1 , 'coeff table does not exist'\n",
    "    cur.execute('SELECT name from sqlite_master WHERE type = \"table\" AND name = \"object_desig\"')\n",
    "    assert len(cur.fetchone()) == 1 , 'coeff table does not exist'\n",
    "\n",
    "    return conn\n",
    "\n",
    "# Create db & tables\n",
    "conn = convenience_func_create_db_and_tables()\n",
    "# Repeat check that db exists (other checks done within *convenience_func_create_db_and_tables()* )\n",
    "os.path.isfile( os.path.join( sql.fetch_db_filepath() ) )"
   ]
  },
  {
   "cell_type": "markdown",
   "metadata": {},
   "source": [
    "# --------- PreCalc ---------------------\n"
   ]
  },
  {
   "cell_type": "markdown",
   "metadata": {},
   "source": [
    " - A core part of the PreCalc routine is the generation of HP-positions on a nightly-basis\n",
    " - These calculations require that the positions of the observatory are provided as inputs: I.e. I want to completely separate the obs-posn stuff from the cheby evaluation calculations\n",
    " - For the sake of these demonstrations, I am going to generate a set of standardized input observatory-positions and then provide those as inputs. \n",
    "     "
   ]
  },
  {
   "cell_type": "markdown",
   "metadata": {},
   "source": [
    "#### Tangential demo of using the *generate_HP()* function attached to the MSC class "
   ]
  },
  {
   "cell_type": "code",
   "execution_count": 8,
   "metadata": {},
   "outputs": [
    {
     "name": "stdout",
     "output_type": "stream",
     "text": [
      "max(times):2459999.0\n",
      "INIT MSC_Loader...\n",
      " *** WARNING TO MPC STAFF *** \n",
      " THIS DEVELOPMENTAL CODE IS SAVING TO THE USERS-DIRECTORY \n",
      " THIS SHOULD BE CHANGED TO A SINGLE LOCN ON MARSDEN \n",
      " *** END OF WARNING ***\n",
      " *** WARNING TO MPC STAFF *** \n",
      " THIS DEVELOPMENTAL CODE IS SAVING TO THE USERS-DIRECTORY \n",
      " THIS SHOULD BE CHANGED TO A SINGLE LOCN ON MARSDEN \n",
      " *** END OF WARNING ***\n",
      " *** WARNING TO MPC STAFF *** \n",
      " THIS DEVELOPMENTAL CODE IS SAVING TO THE USERS-DIRECTORY \n",
      " THIS SHOULD BE CHANGED TO A SINGLE LOCN ON MARSDEN \n",
      " *** END OF WARNING ***\n",
      " *** WARNING TO MPC STAFF *** \n",
      " THIS DEVELOPMENTAL CODE IS SAVING TO THE USERS-DIRECTORY \n",
      " THIS SHOULD BE CHANGED TO A SINGLE LOCN ON MARSDEN \n",
      " *** END OF WARNING ***\n",
      "(2440000, 2459999.999999)\n"
     ]
    },
    {
     "data": {
      "text/plain": [
       "((20000,), (20000,), (3, 20000))"
      ]
     },
     "execution_count": 8,
     "metadata": {},
     "output_type": "execute_result"
    }
   ],
   "source": [
    "# (0) Create demo MSC(s) & create empty db\n",
    "MSCs = create_sample_cheby_dict( n=4 )\n",
    "conn = convenience_func_create_db_and_tables()\n",
    "\n",
    "# How to calculate HP: \n",
    "# - Repeating the demo from the \"Demonstrate_Orbital_Chebyshev_Functionality\" notebook\n",
    "# NB: need to restrict the queried dates to the those supported by the MSC\n",
    "print( MSCs[0].get_valid_range_of_dates() ) \n",
    "indicees = np.where(JDlist < MSCs[0].get_valid_range_of_dates()[1] )[0]\n",
    "\n",
    "HPs=MSCs[0].generate_HP( JDlist[indicees] , \n",
    "                observatoryXYZ[:,indicees], \n",
    "                APPROX = True )\n",
    "\n",
    "# N.B. final shape = (3,len(times_TDB))\n",
    "HPs.shape , JDlist[indicees].shape , observatoryXYZ[:,indicees].shape \n"
   ]
  },
  {
   "cell_type": "markdown",
   "metadata": {},
   "source": [
    "## Demonstrate the main PreCalc *upsert* func\n",
    "\n",
    "#### This is high level code that hides a lot of details: to get a lower-level understanding of the SQL updates/queries, please look lower-down in this notebook at the detailed SQL section"
   ]
  },
  {
   "cell_type": "code",
   "execution_count": 9,
   "metadata": {},
   "outputs": [
    {
     "name": "stdout",
     "output_type": "stream",
     "text": [
      "max(times):2459999.0\n",
      "INIT MSC_Loader...\n",
      " *** WARNING TO MPC STAFF *** \n",
      " THIS DEVELOPMENTAL CODE IS SAVING TO THE USERS-DIRECTORY \n",
      " THIS SHOULD BE CHANGED TO A SINGLE LOCN ON MARSDEN \n",
      " *** END OF WARNING ***\n",
      " *** WARNING TO MPC STAFF *** \n",
      " THIS DEVELOPMENTAL CODE IS SAVING TO THE USERS-DIRECTORY \n",
      " THIS SHOULD BE CHANGED TO A SINGLE LOCN ON MARSDEN \n",
      " *** END OF WARNING ***\n",
      " *** WARNING TO MPC STAFF *** \n",
      " THIS DEVELOPMENTAL CODE IS SAVING TO THE USERS-DIRECTORY \n",
      " THIS SHOULD BE CHANGED TO A SINGLE LOCN ON MARSDEN \n",
      " *** END OF WARNING ***\n",
      " *** WARNING TO MPC STAFF *** \n",
      " THIS DEVELOPMENTAL CODE IS SAVING TO THE USERS-DIRECTORY \n",
      " THIS SHOULD BE CHANGED TO A SINGLE LOCN ON MARSDEN \n",
      " *** END OF WARNING ***\n",
      "\n",
      "Query results: EMPTY DB: len(cur.fetchall()=0)\n",
      "\n",
      " *** WARNING TO MPC STAFF *** \n",
      " THIS DEVELOPMENTAL CODE IS SAVING TO THE USERS-DIRECTORY \n",
      " THIS SHOULD BE CHANGED TO A SINGLE LOCN ON MARSDEN \n",
      " *** END OF WARNING ***\n",
      "\n",
      "Query results : POPULATED DB: len(results)=4\n",
      "\n"
     ]
    },
    {
     "data": {
      "text/plain": [
       "[(1, '2022 AA'), (2, '2023 AA'), (3, '2024 AA'), (4, '2025 AA')]"
      ]
     },
     "execution_count": 9,
     "metadata": {},
     "output_type": "execute_result"
    }
   ],
   "source": [
    "importlib.reload(sql)\n",
    "importlib.reload(precalc)\n",
    "\n",
    "'''\n",
    "Demonstrate the main PreCalc *upsert* func\n",
    "- This     \n",
    "    (i) uses the sql.insert_desig() function from above\n",
    "    (ii) uses the sql.upsert_MSC() function from above\n",
    "    (iii) uses the M.generate_HP() function from above\n",
    "    (iv) uses the sql.insert_HP() function from above\n",
    "    \n",
    "'''\n",
    "# (0) Create demo MSC(s) & create empty db\n",
    "MSCs = create_sample_cheby_dict( n=4 )\n",
    "conn = convenience_func_create_db_and_tables()\n",
    "\n",
    "# Query the database to establish it exists, but that there's nothing in it\n",
    "# - More detail on this can be found in the \"low-level-sql\" section of this notebook (lower-down)\n",
    "cur = conn.cursor()\n",
    "object_id = 1 \n",
    "cur.execute(\"SELECT * FROM object_coefficients WHERE object_id=?\", ( object_id, ))\n",
    "print() \n",
    "print(f'Query results: EMPTY DB: len(cur.fetchall()={len(cur.fetchall())})') \n",
    "print() \n",
    "\n",
    "# Declare a \"PreCalc\" object \n",
    "P = precalc.PreCalc()\n",
    "\n",
    "# Do the upsert \n",
    "P.upsert( MSCs , observatoryXYZ)\n",
    "\n",
    "# Check the upsert worked by explicitly querying some quantities from the database ...\n",
    "# - More detail on these queries be found in the \"low-level-sql\" section of this notebook (lower-down)\n",
    "cur = conn.cursor()\n",
    "cur.execute(\"SELECT * FROM object_desig WHERE object_id in (1,2,3,4)\")\n",
    "results = cur.fetchall()\n",
    "print() \n",
    "print(f'Query results : POPULATED DB: len(results)={len(results)}') \n",
    "print() \n",
    "results"
   ]
  },
  {
   "cell_type": "markdown",
   "metadata": {},
   "source": [
    "## Demonstrate the main PreCalc *get_nightly_precalcs* func\n"
   ]
  },
  {
   "cell_type": "code",
   "execution_count": 11,
   "metadata": {},
   "outputs": [
    {
     "name": "stdout",
     "output_type": "stream",
     "text": [
      " *** WARNING TO MPC STAFF *** \n",
      " THIS DEVELOPMENTAL CODE IS SAVING TO THE USERS-DIRECTORY \n",
      " THIS SHOULD BE CHANGED TO A SINGLE LOCN ON MARSDEN \n",
      " *** END OF WARNING ***\n"
     ]
    },
    {
     "ename": "AttributeError",
     "evalue": "'MSC' object has no attribute 'sector_init'",
     "output_type": "error",
     "traceback": [
      "\u001b[0;31m---------------------------------------------------------------------------\u001b[0m",
      "\u001b[0;31mAttributeError\u001b[0m                            Traceback (most recent call last)",
      "\u001b[0;32m<ipython-input-11-5071cfb91d69>\u001b[0m in \u001b[0;36m<module>\u001b[0;34m\u001b[0m\n\u001b[1;32m     14\u001b[0m HPlist= MSCs[0].generate_HP( JDlist[:n] , \n\u001b[1;32m     15\u001b[0m                 \u001b[0mobservatoryXYZ\u001b[0m\u001b[0;34m[\u001b[0m\u001b[0;34m:\u001b[0m\u001b[0;34m,\u001b[0m\u001b[0;34m:\u001b[0m\u001b[0mn\u001b[0m\u001b[0;34m]\u001b[0m\u001b[0;34m,\u001b[0m\u001b[0;34m\u001b[0m\u001b[0;34m\u001b[0m\u001b[0m\n\u001b[0;32m---> 16\u001b[0;31m                 APPROX = True )\n\u001b[0m\u001b[1;32m     17\u001b[0m \u001b[0mprint\u001b[0m\u001b[0;34m(\u001b[0m\u001b[0;34m)\u001b[0m\u001b[0;34m\u001b[0m\u001b[0;34m\u001b[0m\u001b[0m\n\u001b[1;32m     18\u001b[0m \u001b[0mprint\u001b[0m\u001b[0;34m(\u001b[0m\u001b[0;34mf'len(HPlist):{len(HPlist)}'\u001b[0m\u001b[0;34m)\u001b[0m\u001b[0;34m\u001b[0m\u001b[0;34m\u001b[0m\u001b[0m\n",
      "\u001b[0;32m~/Envs/cheby_checker/cheby_checker/orbit_cheby.py\u001b[0m in \u001b[0;36mgenerate_HP\u001b[0;34m(self, times_tdb, observatoryXYZ, APPROX, CHECK)\u001b[0m\n\u001b[1;32m    716\u001b[0m         UV = self.generate_UnitVector(  times_tdb ,\n\u001b[1;32m    717\u001b[0m                                         \u001b[0mobservatoryXYZ\u001b[0m\u001b[0;34m,\u001b[0m\u001b[0;34m\u001b[0m\u001b[0;34m\u001b[0m\u001b[0m\n\u001b[0;32m--> 718\u001b[0;31m                                         APPROX = APPROX )\n\u001b[0m\u001b[1;32m    719\u001b[0m \u001b[0;34m\u001b[0m\u001b[0m\n\u001b[1;32m    720\u001b[0m         \u001b[0;31m# Calc the HP from the UV and return\u001b[0m\u001b[0;34m\u001b[0m\u001b[0;34m\u001b[0m\u001b[0;34m\u001b[0m\u001b[0m\n",
      "\u001b[0;32m~/Envs/cheby_checker/cheby_checker/orbit_cheby.py\u001b[0m in \u001b[0;36mgenerate_UnitVector\u001b[0;34m(self, times_tdb, observatoryXYZ, APPROX, DELTASWITCH, delta)\u001b[0m\n\u001b[1;32m    761\u001b[0m             \u001b[0;31m# Extract posn of objects at each delayed-time\u001b[0m\u001b[0;34m\u001b[0m\u001b[0;34m\u001b[0m\u001b[0;34m\u001b[0m\u001b[0m\n\u001b[1;32m    762\u001b[0m             \u001b[0;31m# N.B. objectXYZ.shape    = (3, len(times_tdb) )\u001b[0m\u001b[0;34m\u001b[0m\u001b[0;34m\u001b[0m\u001b[0;34m\u001b[0m\u001b[0m\n\u001b[0;32m--> 763\u001b[0;31m             \u001b[0mobjectXYZ\u001b[0m       \u001b[0;34m=\u001b[0m \u001b[0mself\u001b[0m\u001b[0;34m.\u001b[0m\u001b[0mgenerate_XYZ\u001b[0m\u001b[0;34m(\u001b[0m \u001b[0mdelayedTimes\u001b[0m \u001b[0;34m)\u001b[0m\u001b[0;34m\u001b[0m\u001b[0;34m\u001b[0m\u001b[0m\n\u001b[0m\u001b[1;32m    764\u001b[0m             \u001b[0;32mif\u001b[0m \u001b[0mDELTASWITCH\u001b[0m \u001b[0;34m:\u001b[0m\u001b[0;34m\u001b[0m\u001b[0;34m\u001b[0m\u001b[0m\n\u001b[1;32m    765\u001b[0m                 \u001b[0mobjectXYZ\u001b[0m \u001b[0;34m+=\u001b[0m \u001b[0mnp\u001b[0m\u001b[0;34m.\u001b[0m\u001b[0mstack\u001b[0m\u001b[0;34m(\u001b[0m\u001b[0;34m[\u001b[0m\u001b[0mdelta\u001b[0m \u001b[0;32mfor\u001b[0m \u001b[0mi\u001b[0m \u001b[0;32min\u001b[0m \u001b[0mrange\u001b[0m\u001b[0;34m(\u001b[0m\u001b[0mobjectXYZ\u001b[0m\u001b[0;34m.\u001b[0m\u001b[0mshape\u001b[0m\u001b[0;34m[\u001b[0m\u001b[0;34m-\u001b[0m\u001b[0;36m1\u001b[0m\u001b[0;34m]\u001b[0m\u001b[0;34m)\u001b[0m\u001b[0;34m]\u001b[0m\u001b[0;34m,\u001b[0m \u001b[0maxis\u001b[0m\u001b[0;34m=\u001b[0m\u001b[0;36m1\u001b[0m\u001b[0;34m)\u001b[0m\u001b[0;34m\u001b[0m\u001b[0;34m\u001b[0m\u001b[0m\n",
      "\u001b[0;32m~/Envs/cheby_checker/cheby_checker/orbit_cheby.py\u001b[0m in \u001b[0;36mgenerate_XYZ\u001b[0;34m(self, times_tdb)\u001b[0m\n\u001b[1;32m    893\u001b[0m         \u001b[0;31m# Just select/evaluate the first 3-sets of components (X,Y,Z)\u001b[0m\u001b[0;34m\u001b[0m\u001b[0;34m\u001b[0m\u001b[0;34m\u001b[0m\u001b[0m\n\u001b[1;32m    894\u001b[0m         \u001b[0;31m# - See link for specifying slices & ellipsis  : https://docs.scipy.org/doc/numpy/user/basics.indexing.html\u001b[0m\u001b[0;34m\u001b[0m\u001b[0;34m\u001b[0m\u001b[0;34m\u001b[0m\u001b[0m\n\u001b[0;32m--> 895\u001b[0;31m         \u001b[0;32mif\u001b[0m \u001b[0mself\u001b[0m\u001b[0;34m.\u001b[0m\u001b[0msector_coeffs\u001b[0m\u001b[0;34m[\u001b[0m \u001b[0mself\u001b[0m\u001b[0;34m.\u001b[0m\u001b[0msector_init\u001b[0m \u001b[0;34m]\u001b[0m\u001b[0;34m.\u001b[0m\u001b[0mndim\u001b[0m \u001b[0;34m==\u001b[0m \u001b[0;36m2\u001b[0m  \u001b[0;34m:\u001b[0m\u001b[0;34m\u001b[0m\u001b[0;34m\u001b[0m\u001b[0m\n\u001b[0m\u001b[1;32m    896\u001b[0m             \u001b[0mslice_spec\u001b[0m \u001b[0;34m=\u001b[0m \u001b[0mslice\u001b[0m\u001b[0;34m(\u001b[0m\u001b[0;36m0\u001b[0m\u001b[0;34m,\u001b[0m\u001b[0;36m3\u001b[0m\u001b[0;34m)\u001b[0m\u001b[0;34m\u001b[0m\u001b[0;34m\u001b[0m\u001b[0m\n\u001b[1;32m    897\u001b[0m         \u001b[0;32melse\u001b[0m\u001b[0;34m:\u001b[0m\u001b[0;34m\u001b[0m\u001b[0;34m\u001b[0m\u001b[0m\n",
      "\u001b[0;31mAttributeError\u001b[0m: 'MSC' object has no attribute 'sector_init'"
     ]
    }
   ],
   "source": [
    "importlib.reload(sql)\n",
    "importlib.reload(precalc)\n",
    "'''\n",
    " Demonstrate the main PreCalc *get_nightly_precalcs* func\n",
    " - This calls ...\n",
    "'''\n",
    "# Declare a \"PreCalc\" object \n",
    "P = precalc.PreCalc()\n",
    "\n",
    "# We want to have some healpix that are in the database (so that the query can be successful)\n",
    "# So let's use HP functionality that's part of the MSC class to get some appropriate HP for each date \n",
    "# - See \"Demonstrate_Orbital_Chebyshev_Functionality\" demo for more details \n",
    "n = 100\n",
    "HPlist= MSCs[0].generate_HP( JDlist[:n] , \n",
    "                observatoryXYZ[:,:n], \n",
    "                APPROX = True )\n",
    "print()\n",
    "print(f'len(HPlist):{len(HPlist)}')\n",
    "print(f' HPlist[:3]:{HPlist[:3]} ... HPlist[-3:]:{HPlist[-3:]}')\n",
    "print()\n",
    "\n",
    "# Now perform the main query against the precalculations for a given night & given set of healpix\n",
    "print(f'Inputs to query ... JDlist[0], HPlist[:2] : {JDlist[0], HPlist[:2]}' )\n",
    "MSCs = P.get_nightly_precalcs( JDlist[0], HPlist[:2])\n",
    "for M in MSCs:\n",
    "    print( f' type(M):{type(M)} , M.primary_unpacked_provisional_designation:{M.primary_unpacked_provisional_designation}' )\n"
   ]
  },
  {
   "cell_type": "markdown",
   "metadata": {},
   "source": [
    "# --------- Lower-Level SQL Code ---------------------\n",
    " - Primarily used \"behind the scenes\"\n",
    " - Expect that the user will mainly be interacting with the above PreCalc functions"
   ]
  },
  {
   "cell_type": "markdown",
   "metadata": {},
   "source": [
    "## Demonstrate code to \"upsert\" primary_unpacked_provisional_designation into checker sqlite db \n",
    " - This will *NOT* be done in practice by the user, this will be done \"behind-the-scenes\" as part of another routine"
   ]
  },
  {
   "cell_type": "code",
   "execution_count": 12,
   "metadata": {},
   "outputs": [
    {
     "name": "stdout",
     "output_type": "stream",
     "text": [
      "max(times):2459999.0\n",
      "INIT MSC_Loader...\n",
      "result = object_id =  1\n",
      "result = object_id =  1\n"
     ]
    }
   ],
   "source": [
    "importlib.reload(sql)\n",
    "\n",
    "# (0) Create demo MSC(s) & create empty db\n",
    "MSCs = create_sample_cheby_dict()\n",
    "\n",
    "# (1) Low level direct call using sql\n",
    "result = sql.insert_desig(conn ,MSCs[0].primary_unpacked_provisional_designation )\n",
    "print('result = object_id = ' , result )\n",
    "\n",
    "# (2) Query functionality ...\n",
    "result = sql.query_number_by_desig(conn, MSCs[0].primary_unpacked_provisional_designation)\n",
    "print('result = object_id = ' , result )\n"
   ]
  },
  {
   "cell_type": "markdown",
   "metadata": {},
   "source": [
    "# Demonstrate code to \"upsert\" MSC into checker sqlite db "
   ]
  },
  {
   "cell_type": "code",
   "execution_count": 13,
   "metadata": {},
   "outputs": [
    {
     "name": "stdout",
     "output_type": "stream",
     "text": [
      "max(times):2459999.0\n",
      "INIT MSC_Loader...\n",
      " *** WARNING TO MPC STAFF *** \n",
      " THIS DEVELOPMENTAL CODE IS SAVING TO THE USERS-DIRECTORY \n",
      " THIS SHOULD BE CHANGED TO A SINGLE LOCN ON MARSDEN \n",
      " *** END OF WARNING ***\n",
      " *** WARNING TO MPC STAFF *** \n",
      " THIS DEVELOPMENTAL CODE IS SAVING TO THE USERS-DIRECTORY \n",
      " THIS SHOULD BE CHANGED TO A SINGLE LOCN ON MARSDEN \n",
      " *** END OF WARNING ***\n",
      " *** WARNING TO MPC STAFF *** \n",
      " THIS DEVELOPMENTAL CODE IS SAVING TO THE USERS-DIRECTORY \n",
      " THIS SHOULD BE CHANGED TO A SINGLE LOCN ON MARSDEN \n",
      " *** END OF WARNING ***\n",
      " *** WARNING TO MPC STAFF *** \n",
      " THIS DEVELOPMENTAL CODE IS SAVING TO THE USERS-DIRECTORY \n",
      " THIS SHOULD BE CHANGED TO A SINGLE LOCN ON MARSDEN \n",
      " *** END OF WARNING ***\n",
      "Query results ... : object_id \n",
      "1\n",
      "There are a lot of columns in the *object_coefficients* table, one for each sector ...\n",
      "column names =  ['coeff_id', 'object_id', 'sector_0_2440000', 'sector_1_2440032', 'sector_2_2440064', 'sector_3_2440096', 'sector_4_2440128', 'sector_5_2440160', 'sector_6_2440192', 'sector_7_2440224', 'sector_8_2440256', 'sector_9_2440288', 'sector_10_2440320', 'sector_11_2440352', 'sector_12_2440384', 'sector_13_2440416', 'sector_14_2440448', 'sector_15_2440480', 'sector_16_2440512', 'sector_17_2440544', 'sector_18_2440576', 'sector_19_2440608', 'sector_20_2440640', 'sector_21_2440672', 'sector_22_2440704', 'sector_23_2440736', 'sector_24_2440768', 'sector_25_2440800', 'sector_26_2440832', 'sector_27_2440864', 'sector_28_2440896', 'sector_29_2440928', 'sector_30_2440960', 'sector_31_2440992', 'sector_32_2441024', 'sector_33_2441056', 'sector_34_2441088', 'sector_35_2441120', 'sector_36_2441152', 'sector_37_2441184', 'sector_38_2441216', 'sector_39_2441248', 'sector_40_2441280', 'sector_41_2441312', 'sector_42_2441344', 'sector_43_2441376', 'sector_44_2441408', 'sector_45_2441440', 'sector_46_2441472', 'sector_47_2441504', 'sector_48_2441536', 'sector_49_2441568', 'sector_50_2441600', 'sector_51_2441632', 'sector_52_2441664', 'sector_53_2441696', 'sector_54_2441728', 'sector_55_2441760', 'sector_56_2441792', 'sector_57_2441824', 'sector_58_2441856', 'sector_59_2441888', 'sector_60_2441920', 'sector_61_2441952', 'sector_62_2441984', 'sector_63_2442016', 'sector_64_2442048', 'sector_65_2442080', 'sector_66_2442112', 'sector_67_2442144', 'sector_68_2442176', 'sector_69_2442208', 'sector_70_2442240', 'sector_71_2442272', 'sector_72_2442304', 'sector_73_2442336', 'sector_74_2442368', 'sector_75_2442400', 'sector_76_2442432', 'sector_77_2442464', 'sector_78_2442496', 'sector_79_2442528', 'sector_80_2442560', 'sector_81_2442592', 'sector_82_2442624', 'sector_83_2442656', 'sector_84_2442688', 'sector_85_2442720', 'sector_86_2442752', 'sector_87_2442784', 'sector_88_2442816', 'sector_89_2442848', 'sector_90_2442880', 'sector_91_2442912', 'sector_92_2442944', 'sector_93_2442976', 'sector_94_2443008', 'sector_95_2443040', 'sector_96_2443072', 'sector_97_2443104', 'sector_98_2443136', 'sector_99_2443168', 'sector_100_2443200', 'sector_101_2443232', 'sector_102_2443264', 'sector_103_2443296', 'sector_104_2443328', 'sector_105_2443360', 'sector_106_2443392', 'sector_107_2443424', 'sector_108_2443456', 'sector_109_2443488', 'sector_110_2443520', 'sector_111_2443552', 'sector_112_2443584', 'sector_113_2443616', 'sector_114_2443648', 'sector_115_2443680', 'sector_116_2443712', 'sector_117_2443744', 'sector_118_2443776', 'sector_119_2443808', 'sector_120_2443840', 'sector_121_2443872', 'sector_122_2443904', 'sector_123_2443936', 'sector_124_2443968', 'sector_125_2444000', 'sector_126_2444032', 'sector_127_2444064', 'sector_128_2444096', 'sector_129_2444128', 'sector_130_2444160', 'sector_131_2444192', 'sector_132_2444224', 'sector_133_2444256', 'sector_134_2444288', 'sector_135_2444320', 'sector_136_2444352', 'sector_137_2444384', 'sector_138_2444416', 'sector_139_2444448', 'sector_140_2444480', 'sector_141_2444512', 'sector_142_2444544', 'sector_143_2444576', 'sector_144_2444608', 'sector_145_2444640', 'sector_146_2444672', 'sector_147_2444704', 'sector_148_2444736', 'sector_149_2444768', 'sector_150_2444800', 'sector_151_2444832', 'sector_152_2444864', 'sector_153_2444896', 'sector_154_2444928', 'sector_155_2444960', 'sector_156_2444992', 'sector_157_2445024', 'sector_158_2445056', 'sector_159_2445088', 'sector_160_2445120', 'sector_161_2445152', 'sector_162_2445184', 'sector_163_2445216', 'sector_164_2445248', 'sector_165_2445280', 'sector_166_2445312', 'sector_167_2445344', 'sector_168_2445376', 'sector_169_2445408', 'sector_170_2445440', 'sector_171_2445472', 'sector_172_2445504', 'sector_173_2445536', 'sector_174_2445568', 'sector_175_2445600', 'sector_176_2445632', 'sector_177_2445664', 'sector_178_2445696', 'sector_179_2445728', 'sector_180_2445760', 'sector_181_2445792', 'sector_182_2445824', 'sector_183_2445856', 'sector_184_2445888', 'sector_185_2445920', 'sector_186_2445952', 'sector_187_2445984', 'sector_188_2446016', 'sector_189_2446048', 'sector_190_2446080', 'sector_191_2446112', 'sector_192_2446144', 'sector_193_2446176', 'sector_194_2446208', 'sector_195_2446240', 'sector_196_2446272', 'sector_197_2446304', 'sector_198_2446336', 'sector_199_2446368', 'sector_200_2446400', 'sector_201_2446432', 'sector_202_2446464', 'sector_203_2446496', 'sector_204_2446528', 'sector_205_2446560', 'sector_206_2446592', 'sector_207_2446624', 'sector_208_2446656', 'sector_209_2446688', 'sector_210_2446720', 'sector_211_2446752', 'sector_212_2446784', 'sector_213_2446816', 'sector_214_2446848', 'sector_215_2446880', 'sector_216_2446912', 'sector_217_2446944', 'sector_218_2446976', 'sector_219_2447008', 'sector_220_2447040', 'sector_221_2447072', 'sector_222_2447104', 'sector_223_2447136', 'sector_224_2447168', 'sector_225_2447200', 'sector_226_2447232', 'sector_227_2447264', 'sector_228_2447296', 'sector_229_2447328', 'sector_230_2447360', 'sector_231_2447392', 'sector_232_2447424', 'sector_233_2447456', 'sector_234_2447488', 'sector_235_2447520', 'sector_236_2447552', 'sector_237_2447584', 'sector_238_2447616', 'sector_239_2447648', 'sector_240_2447680', 'sector_241_2447712', 'sector_242_2447744', 'sector_243_2447776', 'sector_244_2447808', 'sector_245_2447840', 'sector_246_2447872', 'sector_247_2447904', 'sector_248_2447936', 'sector_249_2447968', 'sector_250_2448000', 'sector_251_2448032', 'sector_252_2448064', 'sector_253_2448096', 'sector_254_2448128', 'sector_255_2448160', 'sector_256_2448192', 'sector_257_2448224', 'sector_258_2448256', 'sector_259_2448288', 'sector_260_2448320', 'sector_261_2448352', 'sector_262_2448384', 'sector_263_2448416', 'sector_264_2448448', 'sector_265_2448480', 'sector_266_2448512', 'sector_267_2448544', 'sector_268_2448576', 'sector_269_2448608', 'sector_270_2448640', 'sector_271_2448672', 'sector_272_2448704', 'sector_273_2448736', 'sector_274_2448768', 'sector_275_2448800', 'sector_276_2448832', 'sector_277_2448864', 'sector_278_2448896', 'sector_279_2448928', 'sector_280_2448960', 'sector_281_2448992', 'sector_282_2449024', 'sector_283_2449056', 'sector_284_2449088', 'sector_285_2449120', 'sector_286_2449152', 'sector_287_2449184', 'sector_288_2449216', 'sector_289_2449248', 'sector_290_2449280', 'sector_291_2449312', 'sector_292_2449344', 'sector_293_2449376', 'sector_294_2449408', 'sector_295_2449440', 'sector_296_2449472', 'sector_297_2449504', 'sector_298_2449536', 'sector_299_2449568', 'sector_300_2449600', 'sector_301_2449632', 'sector_302_2449664', 'sector_303_2449696', 'sector_304_2449728', 'sector_305_2449760', 'sector_306_2449792', 'sector_307_2449824', 'sector_308_2449856', 'sector_309_2449888', 'sector_310_2449920', 'sector_311_2449952', 'sector_312_2449984', 'sector_313_2450016', 'sector_314_2450048', 'sector_315_2450080', 'sector_316_2450112', 'sector_317_2450144', 'sector_318_2450176', 'sector_319_2450208', 'sector_320_2450240', 'sector_321_2450272', 'sector_322_2450304', 'sector_323_2450336', 'sector_324_2450368', 'sector_325_2450400', 'sector_326_2450432', 'sector_327_2450464', 'sector_328_2450496', 'sector_329_2450528', 'sector_330_2450560', 'sector_331_2450592', 'sector_332_2450624', 'sector_333_2450656', 'sector_334_2450688', 'sector_335_2450720', 'sector_336_2450752', 'sector_337_2450784', 'sector_338_2450816', 'sector_339_2450848', 'sector_340_2450880', 'sector_341_2450912', 'sector_342_2450944', 'sector_343_2450976', 'sector_344_2451008', 'sector_345_2451040', 'sector_346_2451072', 'sector_347_2451104', 'sector_348_2451136', 'sector_349_2451168', 'sector_350_2451200', 'sector_351_2451232', 'sector_352_2451264', 'sector_353_2451296', 'sector_354_2451328', 'sector_355_2451360', 'sector_356_2451392', 'sector_357_2451424', 'sector_358_2451456', 'sector_359_2451488', 'sector_360_2451520', 'sector_361_2451552', 'sector_362_2451584', 'sector_363_2451616', 'sector_364_2451648', 'sector_365_2451680', 'sector_366_2451712', 'sector_367_2451744', 'sector_368_2451776', 'sector_369_2451808', 'sector_370_2451840', 'sector_371_2451872', 'sector_372_2451904', 'sector_373_2451936', 'sector_374_2451968', 'sector_375_2452000', 'sector_376_2452032', 'sector_377_2452064', 'sector_378_2452096', 'sector_379_2452128', 'sector_380_2452160', 'sector_381_2452192', 'sector_382_2452224', 'sector_383_2452256', 'sector_384_2452288', 'sector_385_2452320', 'sector_386_2452352', 'sector_387_2452384', 'sector_388_2452416', 'sector_389_2452448', 'sector_390_2452480', 'sector_391_2452512', 'sector_392_2452544', 'sector_393_2452576', 'sector_394_2452608', 'sector_395_2452640', 'sector_396_2452672', 'sector_397_2452704', 'sector_398_2452736', 'sector_399_2452768', 'sector_400_2452800', 'sector_401_2452832', 'sector_402_2452864', 'sector_403_2452896', 'sector_404_2452928', 'sector_405_2452960', 'sector_406_2452992', 'sector_407_2453024', 'sector_408_2453056', 'sector_409_2453088', 'sector_410_2453120', 'sector_411_2453152', 'sector_412_2453184', 'sector_413_2453216', 'sector_414_2453248', 'sector_415_2453280', 'sector_416_2453312', 'sector_417_2453344', 'sector_418_2453376', 'sector_419_2453408', 'sector_420_2453440', 'sector_421_2453472', 'sector_422_2453504', 'sector_423_2453536', 'sector_424_2453568', 'sector_425_2453600', 'sector_426_2453632', 'sector_427_2453664', 'sector_428_2453696', 'sector_429_2453728', 'sector_430_2453760', 'sector_431_2453792', 'sector_432_2453824', 'sector_433_2453856', 'sector_434_2453888', 'sector_435_2453920', 'sector_436_2453952', 'sector_437_2453984', 'sector_438_2454016', 'sector_439_2454048', 'sector_440_2454080', 'sector_441_2454112', 'sector_442_2454144', 'sector_443_2454176', 'sector_444_2454208', 'sector_445_2454240', 'sector_446_2454272', 'sector_447_2454304', 'sector_448_2454336', 'sector_449_2454368', 'sector_450_2454400', 'sector_451_2454432', 'sector_452_2454464', 'sector_453_2454496', 'sector_454_2454528', 'sector_455_2454560', 'sector_456_2454592', 'sector_457_2454624', 'sector_458_2454656', 'sector_459_2454688', 'sector_460_2454720', 'sector_461_2454752', 'sector_462_2454784', 'sector_463_2454816', 'sector_464_2454848', 'sector_465_2454880', 'sector_466_2454912', 'sector_467_2454944', 'sector_468_2454976', 'sector_469_2455008', 'sector_470_2455040', 'sector_471_2455072', 'sector_472_2455104', 'sector_473_2455136', 'sector_474_2455168', 'sector_475_2455200', 'sector_476_2455232', 'sector_477_2455264', 'sector_478_2455296', 'sector_479_2455328', 'sector_480_2455360', 'sector_481_2455392', 'sector_482_2455424', 'sector_483_2455456', 'sector_484_2455488', 'sector_485_2455520', 'sector_486_2455552', 'sector_487_2455584', 'sector_488_2455616', 'sector_489_2455648', 'sector_490_2455680', 'sector_491_2455712', 'sector_492_2455744', 'sector_493_2455776', 'sector_494_2455808', 'sector_495_2455840', 'sector_496_2455872', 'sector_497_2455904', 'sector_498_2455936', 'sector_499_2455968', 'sector_500_2456000', 'sector_501_2456032', 'sector_502_2456064', 'sector_503_2456096', 'sector_504_2456128', 'sector_505_2456160', 'sector_506_2456192', 'sector_507_2456224', 'sector_508_2456256', 'sector_509_2456288', 'sector_510_2456320', 'sector_511_2456352', 'sector_512_2456384', 'sector_513_2456416', 'sector_514_2456448', 'sector_515_2456480', 'sector_516_2456512', 'sector_517_2456544', 'sector_518_2456576', 'sector_519_2456608', 'sector_520_2456640', 'sector_521_2456672', 'sector_522_2456704', 'sector_523_2456736', 'sector_524_2456768', 'sector_525_2456800', 'sector_526_2456832', 'sector_527_2456864', 'sector_528_2456896', 'sector_529_2456928', 'sector_530_2456960', 'sector_531_2456992', 'sector_532_2457024', 'sector_533_2457056', 'sector_534_2457088', 'sector_535_2457120', 'sector_536_2457152', 'sector_537_2457184', 'sector_538_2457216', 'sector_539_2457248', 'sector_540_2457280', 'sector_541_2457312', 'sector_542_2457344', 'sector_543_2457376', 'sector_544_2457408', 'sector_545_2457440', 'sector_546_2457472', 'sector_547_2457504', 'sector_548_2457536', 'sector_549_2457568', 'sector_550_2457600', 'sector_551_2457632', 'sector_552_2457664', 'sector_553_2457696', 'sector_554_2457728', 'sector_555_2457760', 'sector_556_2457792', 'sector_557_2457824', 'sector_558_2457856', 'sector_559_2457888', 'sector_560_2457920', 'sector_561_2457952', 'sector_562_2457984', 'sector_563_2458016', 'sector_564_2458048', 'sector_565_2458080', 'sector_566_2458112', 'sector_567_2458144', 'sector_568_2458176', 'sector_569_2458208', 'sector_570_2458240', 'sector_571_2458272', 'sector_572_2458304', 'sector_573_2458336', 'sector_574_2458368', 'sector_575_2458400', 'sector_576_2458432', 'sector_577_2458464', 'sector_578_2458496', 'sector_579_2458528', 'sector_580_2458560', 'sector_581_2458592', 'sector_582_2458624', 'sector_583_2458656', 'sector_584_2458688', 'sector_585_2458720', 'sector_586_2458752', 'sector_587_2458784', 'sector_588_2458816', 'sector_589_2458848', 'sector_590_2458880', 'sector_591_2458912', 'sector_592_2458944', 'sector_593_2458976', 'sector_594_2459008', 'sector_595_2459040', 'sector_596_2459072', 'sector_597_2459104', 'sector_598_2459136', 'sector_599_2459168', 'sector_600_2459200', 'sector_601_2459232', 'sector_602_2459264', 'sector_603_2459296', 'sector_604_2459328', 'sector_605_2459360', 'sector_606_2459392', 'sector_607_2459424', 'sector_608_2459456', 'sector_609_2459488', 'sector_610_2459520', 'sector_611_2459552', 'sector_612_2459584', 'sector_613_2459616', 'sector_614_2459648', 'sector_615_2459680', 'sector_616_2459712', 'sector_617_2459744', 'sector_618_2459776', 'sector_619_2459808', 'sector_620_2459840', 'sector_621_2459872', 'sector_622_2459904', 'sector_623_2459936', 'sector_624_2459968']\n"
     ]
    }
   ],
   "source": [
    "# --- Demonstrate code to \"upsert\" MSC into mpchecker2 sqlite db ----------------\n",
    "# - N.B. in practice a \"higher level\" function precalc.upsert() will be used ----\n",
    "#        See cells below for example of precalc.upsert() function ...\n",
    "# -------------------------------------------------------------------------------\n",
    "importlib.reload(sql)\n",
    "\n",
    "# (0) Create demo MSC(s) & create empty db\n",
    "MSCs = create_sample_cheby_dict()\n",
    "conn = convenience_func_create_db_and_tables()\n",
    "\n",
    "# (1) Direct call using sql\n",
    "object_id = result\n",
    "sql.upsert_MSC(conn ,MSCs[0] , object_id )\n",
    "\n",
    "# (2) Demonstrate that there is something in the database by querying it ... \n",
    "cur = conn.cursor()\n",
    "cur.execute(\"SELECT * FROM object_coefficients WHERE object_id=?\", ( object_id, ))\n",
    "\n",
    "print('Query results ... : object_id ') \n",
    "for row in cur.fetchall(): \n",
    "    print(row[1] )#, pickle.loads( row[-1] ).shape  ) \n",
    "\n",
    "\n",
    "names = [description[0] for description in cur.description]\n",
    "print('There are a lot of columns in the *object_coefficients* table, one for each sector ...')\n",
    "print('column names = ' , names )\n"
   ]
  },
  {
   "cell_type": "markdown",
   "metadata": {},
   "source": [
    "# --- Demonstrate code to query checker db for object-coefficients\n",
    " - Again, this would likely *NOT* be performed by the user directly (but would instead be called by some other function, and/or not be used at all, except during development) "
   ]
  },
  {
   "cell_type": "code",
   "execution_count": 14,
   "metadata": {},
   "outputs": [
    {
     "name": "stdout",
     "output_type": "stream",
     "text": [
      " *** WARNING TO MPC STAFF *** \n",
      " THIS DEVELOPMENTAL CODE IS SAVING TO THE USERS-DIRECTORY \n",
      " THIS SHOULD BE CHANGED TO A SINGLE LOCN ON MARSDEN \n",
      " *** END OF WARNING ***\n",
      "Input desig ...  1\n",
      "Characteristics of query results ... <class 'dict'>  dict-length= 625\n",
      "\t\t  key0 ...  sector_0_2440000 (8, 27)\n",
      "In == Out !!\n"
     ]
    }
   ],
   "source": [
    "# Set up connection to db to enable subseqjuent low-level query  \n",
    "importlib.reload(sql)\n",
    "conn = sql.create_connection( sql.fetch_db_filepath() )\n",
    "\n",
    "# Execute the query (searching against primary_unpacked_provisional_designation == '2022 AA' )\n",
    "print('Input desig ... ', object_id )\n",
    "result = sql.query_object_coefficients(conn , object_id)\n",
    "\n",
    "# Examine the characteristics of the output \n",
    "print('Characteristics of query results ...' , type(result) , ' dict-length=', len(result) )\n",
    "key0 = list(result.keys())[0] ; print('\\t'*2, ' key0 ... ', key0, result[key0].shape )\n",
    "\n",
    "# Compare the output to the input to verify is the same ... \n",
    "if np.all(MSCs[0].sector_coeffs[ int(key0.split(\"_\")[1]) ] == result[key0] ) : print( 'In == Out !!')"
   ]
  },
  {
   "cell_type": "markdown",
   "metadata": {},
   "source": [
    "### --- query checker db for object-coefficients over a limited subset of sectors\n",
    " - Again, this would likely *NOT* be performed by the user directly (but would instead be called by some other function) "
   ]
  },
  {
   "cell_type": "code",
   "execution_count": 164,
   "metadata": {},
   "outputs": [
    {
     "name": "stdout",
     "output_type": "stream",
     "text": [
      " *** WARNING TO MPC STAFF *** \n",
      " THIS DEVELOPMENTAL CODE IS SAVING TO THE USERS-DIRECTORY \n",
      " THIS SHOULD BE CHANGED TO A SINGLE LOCN ON MARSDEN \n",
      " *** END OF WARNING ***\n",
      "Input desig ...  1\n",
      "Characteristics of query results ... <class 'dict'> 4\n",
      "\t\t sector_0_2440000  :  (18, 27)\n",
      "\t\t sector_1_2440032  :  (18, 27)\n",
      "\t\t sector_2_2440064  :  (18, 27)\n",
      "\t\t sector_3_2440096  :  (18, 27)\n",
      "In == Out !!\n"
     ]
    }
   ],
   "source": [
    "# Set up connection to db to enable subseqjuent low-level query  \n",
    "importlib.reload(sql)\n",
    "conn = sql.create_connection( sql.fetch_db_filepath() )\n",
    "\n",
    "# Execute the query (searching against primary_unpacked_provisional_designation == '2022 AA' )\n",
    "print('Input desig ... ', object_id )\n",
    "result = sql.query_object_coefficients(conn , \n",
    "                                        object_id , \n",
    "                                        sector_numbers = range(0,4))\n",
    "# Examine the characteristics of the output \n",
    "print('Characteristics of query results ...' , type(result) , len(result) )\n",
    "for key in result.keys() : \n",
    "    print('\\t'*2, key, ' : ', result[key].shape )\n",
    "\n",
    "# Compare the output to the input to verify is the same ... \n",
    "if np.all(MSCs[0].sector_coeffs[ int(key0.split(\"_\")[1]) ] == result[key0] ) : print( 'In == Out !!')"
   ]
  },
  {
   "cell_type": "markdown",
   "metadata": {},
   "source": [
    "#### Generate a set of Healpix based on supplied observatory positions (center of the Earth) from the top of this notebook "
   ]
  },
  {
   "cell_type": "code",
   "execution_count": 165,
   "metadata": {},
   "outputs": [
    {
     "name": "stdout",
     "output_type": "stream",
     "text": [
      "len(HPlist):15000\n",
      " HPlist[:3]:[1393 1393 1396] ... HPlist[-3:]:[1718 1718 1716]\n",
      "CPU times: user 85.5 ms, sys: 10.8 ms, total: 96.3 ms\n",
      "Wall time: 94.6 ms\n"
     ]
    }
   ],
   "source": [
    "%%time\n",
    "# Now explicitly evaluate the HP functionality to get the appropriate HP for each date \n",
    "# - See \"Demonstrate_Orbital_Chebyshev_Functionality\" demo for more details \n",
    "n = 15000\n",
    "HPlist= MSCs[0].generate_HP( JDlist[:n] , \n",
    "                observatoryXYZ[:,:n], \n",
    "                APPROX = True )\n",
    "print(f'len(HPlist):{len(HPlist)}')\n",
    "print(f' HPlist[:3]:{HPlist[:3]} ... HPlist[-3:]:{HPlist[-3:]}')"
   ]
  },
  {
   "cell_type": "markdown",
   "metadata": {},
   "source": [
    "### Here is where we do the actual upsert into the db"
   ]
  },
  {
   "cell_type": "code",
   "execution_count": 166,
   "metadata": {},
   "outputs": [],
   "source": [
    "importlib.reload(sql)\n",
    "# Now the code to do the insert ...\n",
    "sql.insert_HP(conn, JDlist[:n], HPlist, object_id)\n"
   ]
  },
  {
   "cell_type": "markdown",
   "metadata": {},
   "source": [
    "### Demonstrate code to query Healpix by desig ..."
   ]
  },
  {
   "cell_type": "code",
   "execution_count": 168,
   "metadata": {},
   "outputs": [
    {
     "name": "stdout",
     "output_type": "stream",
     "text": [
      "2440000 [1393 1393]\n",
      "Characteristics of query results ... <class 'list'> 1\n",
      "[1]\n"
     ]
    }
   ],
   "source": [
    "# sql query ...\n",
    "importlib.reload(sql)\n",
    "result = sql.query_jd_hp(conn, JDlist[0], HPlist[:2])\n",
    "print(JDlist[0], HPlist[:2])\n",
    "# Examine the characteristics of the output \n",
    "print('Characteristics of query results ...' , type(result) , len(result) )\n",
    "print(result)\n",
    "\n",
    "# Compare the output to the input to verify is the same ... \n",
    "#if np.all(MSCs[0].sector_coeffs[ int(key0.split(\"_\")[1]) ] == result[key0] ) : print( 'In == Out !!')"
   ]
  },
  {
   "cell_type": "markdown",
   "metadata": {},
   "source": [
    "# Joining together some of the above:\n",
    " - ## Querying objects & coefficient-sets by JD & HP-list "
   ]
  },
  {
   "cell_type": "code",
   "execution_count": 285,
   "metadata": {},
   "outputs": [
    {
     "name": "stdout",
     "output_type": "stream",
     "text": [
      "Input = ...  2440000 [1393 1393]\n",
      "1 624\n",
      "2 624\n",
      "3 624\n",
      "4 624\n",
      "CPU times: user 39.9 ms, sys: 8.57 ms, total: 48.5 ms\n",
      "Wall time: 46.4 ms\n"
     ]
    }
   ],
   "source": [
    "%%time \n",
    "importlib.reload(sql)\n",
    "\n",
    "# Execute the query (searching against JDlist[0], HPlist[:2] = 2440000 [1393 1393] )\n",
    "print('Input = ... ', JDlist[0], HPlist[:2] )\n",
    "result_dict = sql.query_coefficients_by_jd_hp(conn, JDlist[0], HPlist[:2])\n",
    "for key in result_dict.keys():\n",
    "    print(key, len(result_dict[key]))\n",
    "\n",
    "# Examine the characteristics of the output \n",
    "#print('Characteristics of query results ...' , type(result) , ' dict-length=', len(result) )\n",
    "#key0 = list(result.keys())[0] ; print('\\t'*2, ' key0 ... ', key0, result[key0].shape )\n",
    "\n"
   ]
  },
  {
   "cell_type": "code",
   "execution_count": 291,
   "metadata": {},
   "outputs": [
    {
     "data": {
      "text/plain": [
       "[(1, '2022 AA'), (2, '2023 AA'), (3, '2024 AA')]"
      ]
     },
     "execution_count": 291,
     "metadata": {},
     "output_type": "execute_result"
    }
   ],
   "source": [
    "importlib.reload(sql)\n",
    "result = sql.query_desig_by_number(conn, [1,2,3])\n",
    "result"
   ]
  },
  {
   "cell_type": "code",
   "execution_count": null,
   "metadata": {},
   "outputs": [],
   "source": []
  }
 ],
 "metadata": {
  "kernelspec": {
   "display_name": "Python 3",
   "language": "python",
   "name": "python3"
  },
  "language_info": {
   "codemirror_mode": {
    "name": "ipython",
    "version": 3
   },
   "file_extension": ".py",
   "mimetype": "text/x-python",
   "name": "python",
   "nbconvert_exporter": "python",
   "pygments_lexer": "ipython3",
   "version": "3.7.6"
  }
 },
 "nbformat": 4,
 "nbformat_minor": 2
}
